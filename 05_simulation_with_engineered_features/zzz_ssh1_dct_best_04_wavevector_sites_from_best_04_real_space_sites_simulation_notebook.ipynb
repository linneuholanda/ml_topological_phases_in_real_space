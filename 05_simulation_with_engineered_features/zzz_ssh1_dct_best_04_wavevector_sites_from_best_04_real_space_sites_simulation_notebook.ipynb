{
 "cells": [
  {
   "cell_type": "markdown",
   "metadata": {
    "papermill": {
     "duration": 0.020542,
     "end_time": "2020-07-18T05:33:58.149220",
     "exception": false,
     "start_time": "2020-07-18T05:33:58.128678",
     "status": "completed"
    },
    "tags": []
   },
   "source": [
    "# Simulation template \n",
    "\n",
    "In this notebook we run the machine learning analysis of topological phase transitions occurring  in both nearest-neighbours SSH models (ssh1) and second neighbours models (ssh2) as decribed in the paper [Machine learning topological phases in real space](https://arxiv.org/abs/1901.01963). Here the simulation is run with features generated from fourier components in the first scenario. This scenario is characterized by using only the EVEN wavevector space eigenmodes, computed from ALL real space components."
   ]
  },
  {
   "cell_type": "markdown",
   "metadata": {
    "papermill": {
     "duration": 0.016863,
     "end_time": "2020-07-18T05:33:58.183063",
     "exception": false,
     "start_time": "2020-07-18T05:33:58.166200",
     "status": "completed"
    },
    "tags": []
   },
   "source": [
    "## Defining parameters"
   ]
  },
  {
   "cell_type": "code",
   "execution_count": 1,
   "metadata": {
    "execution": {
     "iopub.execute_input": "2020-07-18T05:33:58.219530Z",
     "iopub.status.busy": "2020-07-18T05:33:58.219168Z",
     "iopub.status.idle": "2020-07-18T05:33:58.803500Z",
     "shell.execute_reply": "2020-07-18T05:33:58.803174Z"
    },
    "papermill": {
     "duration": 0.604052,
     "end_time": "2020-07-18T05:33:58.803556",
     "exception": false,
     "start_time": "2020-07-18T05:33:58.199504",
     "status": "completed"
    },
    "tags": []
   },
   "outputs": [
    {
     "name": "stdout",
     "output_type": "stream",
     "text": [
      "CPU times: user 754 ms, sys: 268 ms, total: 1.02 s\n",
      "Wall time: 578 ms\n"
     ]
    }
   ],
   "source": [
    "%%time\n",
    "%load_ext autoreload\n",
    "%autoreload 2\n",
    "from simulation import *"
   ]
  },
  {
   "cell_type": "code",
   "execution_count": 2,
   "metadata": {
    "execution": {
     "iopub.execute_input": "2020-07-18T05:33:58.857999Z",
     "iopub.status.busy": "2020-07-18T05:33:58.857678Z",
     "iopub.status.idle": "2020-07-18T05:33:58.868608Z",
     "shell.execute_reply": "2020-07-18T05:33:58.868286Z"
    },
    "papermill": {
     "duration": 0.048049,
     "end_time": "2020-07-18T05:33:58.868659",
     "exception": false,
     "start_time": "2020-07-18T05:33:58.820610",
     "status": "completed"
    },
    "tags": [
     "parameters"
    ]
   },
   "outputs": [
    {
     "name": "stdout",
     "output_type": "stream",
     "text": [
      "CPU times: user 2 µs, sys: 1e+03 ns, total: 3 µs\n",
      "Wall time: 4.53 µs\n"
     ]
    }
   ],
   "source": [
    "%%time\n",
    "### Dataset and simulation parameters\n",
    "#csv_path = SSH2_PERIODIC_100_6561_CSV \n",
    "csv_path = SSH1_PERIODIC_100_6561_CSV \n",
    "model_name = \"DecisionTreeClassifier\"\n",
    "model_kw = {\"criterion\":\"entropy\"}\n",
    "allowed_windings = [0,1]\n",
    "#allowed_windings = [-1,0,1,2]\n",
    "simulation_dir = SSH1_REAL_SPACE_ALL_SITES\n",
    "#simulation_dir = SSH2_PERIODIC_ENGINEERED_100_6561_SIMULATION_DIR\n",
    "val_split = 0.9  \n",
    "features_to_use = None\n",
    "shuffle_features = False\n",
    "random_state = 763\n",
    "\n",
    "### Fourier features\n",
    "fourier_mode = \"dst\"\n",
    "fourier_features_to_use = None\n",
    "fourier_real = \"imag\"\n",
    "fourier_normalize = False\n",
    "fourier_fillna = False\n",
    "\n",
    "### Running a simulation\n",
    "n_experiments = 5\n",
    "start_n = 0\n",
    "fit_params = None\n",
    "#mode=mode\n",
    "shuffle_rows = True\n",
    "pred_params = None\n",
    "random_features = False\n",
    "######### DON'T SET THIS TO TRUE UNLESS YOUR DATASET IS SMALL!! WILL FLOOD YOUR MEMORY!!!\n",
    "store_in_lists = False   \n",
    "########## BELOW ARE THE PARAMETERS THAT CONTROL WHAT WILL BE SAVED\n",
    "save_eigenvector=True\n",
    "save_hamiltonian=True \n",
    "save_accuracy=True \n",
    "save_models=True"
   ]
  },
  {
   "cell_type": "code",
   "execution_count": 3,
   "metadata": {
    "execution": {
     "iopub.execute_input": "2020-07-18T05:33:58.904247Z",
     "iopub.status.busy": "2020-07-18T05:33:58.903930Z",
     "iopub.status.idle": "2020-07-18T05:33:59.019570Z",
     "shell.execute_reply": "2020-07-18T05:33:59.017833Z"
    },
    "papermill": {
     "duration": 0.134696,
     "end_time": "2020-07-18T05:33:59.019819",
     "exception": false,
     "start_time": "2020-07-18T05:33:58.885123",
     "status": "completed"
    },
    "tags": [
     "injected-parameters"
    ]
   },
   "outputs": [],
   "source": [
    "# Parameters\n",
    "model_kw = {\"criterion\": \"entropy\"}\n",
    "allowed_windings = [0, 1]\n",
    "val_split = 0.9\n",
    "features_to_use = [0, 1, 3, 50]\n",
    "shuffle_features = False\n",
    "n_experiments = 100\n",
    "start_n = 0\n",
    "fit_params = None\n",
    "shuffle_rows = True\n",
    "pred_params = None\n",
    "random_features = False\n",
    "store_in_lists = False\n",
    "save_eigenvector = True\n",
    "save_hamiltonian = True\n",
    "save_accuracy = True\n",
    "save_models = True\n",
    "csv_path = \"/home/rio/ssh_csvs/ssh1/periodic_100_6561.csv\"\n",
    "model_name = \"DecisionTreeClassifier\"\n",
    "simulation_dir = \"/home/rio/ssh_simulations/ssh1/periodic_100_6561/dct_best_04_wavevector_sites_from_best_04_real_space_sites\"\n",
    "random_state = 1017\n",
    "fourier_features_to_use = [1, 2, 36, 49]\n",
    "fourier_mode = \"dct\"\n",
    "fourier_real = None\n",
    "fourier_normalize = False\n",
    "fourier_fillna = False\n"
   ]
  },
  {
   "cell_type": "code",
   "execution_count": 4,
   "metadata": {
    "execution": {
     "iopub.execute_input": "2020-07-18T05:33:59.096404Z",
     "iopub.status.busy": "2020-07-18T05:33:59.096036Z",
     "iopub.status.idle": "2020-07-18T05:34:04.543761Z",
     "shell.execute_reply": "2020-07-18T05:34:04.543447Z"
    },
    "papermill": {
     "duration": 5.468884,
     "end_time": "2020-07-18T05:34:04.543812",
     "exception": false,
     "start_time": "2020-07-18T05:33:59.074928",
     "status": "completed"
    },
    "tags": []
   },
   "outputs": [
    {
     "name": "stdout",
     "output_type": "stream",
     "text": [
      "Info on all data: \n",
      "\n",
      "<class 'pandas.core.frame.DataFrame'>\n",
      "Int64Index: 656100 entries, 0 to 656099\n",
      "Columns: 108 entries, id to feat99\n",
      "dtypes: float64(103), int32(3), object(2)\n",
      "memory usage: 538.1+ MB\n",
      "CPU times: user 5.32 s, sys: 508 ms, total: 5.82 s\n",
      "Wall time: 5.42 s\n"
     ]
    },
    {
     "data": {
      "text/html": [
       "<div>\n",
       "<style scoped>\n",
       "    .dataframe tbody tr th:only-of-type {\n",
       "        vertical-align: middle;\n",
       "    }\n",
       "\n",
       "    .dataframe tbody tr th {\n",
       "        vertical-align: top;\n",
       "    }\n",
       "\n",
       "    .dataframe thead th {\n",
       "        text-align: right;\n",
       "    }\n",
       "</style>\n",
       "<table border=\"1\" class=\"dataframe\">\n",
       "  <thead>\n",
       "    <tr style=\"text-align: right;\">\n",
       "      <th></th>\n",
       "      <th>id</th>\n",
       "      <th>path</th>\n",
       "      <th>t1</th>\n",
       "      <th>t2</th>\n",
       "      <th>winding</th>\n",
       "      <th>phase</th>\n",
       "      <th>pred_phase</th>\n",
       "      <th>type_of</th>\n",
       "      <th>feat0</th>\n",
       "      <th>feat1</th>\n",
       "      <th>...</th>\n",
       "      <th>feat90</th>\n",
       "      <th>feat91</th>\n",
       "      <th>feat92</th>\n",
       "      <th>feat93</th>\n",
       "      <th>feat94</th>\n",
       "      <th>feat95</th>\n",
       "      <th>feat96</th>\n",
       "      <th>feat97</th>\n",
       "      <th>feat98</th>\n",
       "      <th>feat99</th>\n",
       "    </tr>\n",
       "  </thead>\n",
       "  <tbody>\n",
       "    <tr>\n",
       "      <th>0</th>\n",
       "      <td>0</td>\n",
       "      <td>H_-2_-2_0.509296.dat</td>\n",
       "      <td>-2.0</td>\n",
       "      <td>-2.0</td>\n",
       "      <td>0.509296</td>\n",
       "      <td>999</td>\n",
       "      <td>666</td>\n",
       "      <td>test</td>\n",
       "      <td>0.100000</td>\n",
       "      <td>0.100000</td>\n",
       "      <td>...</td>\n",
       "      <td>0.100000</td>\n",
       "      <td>0.100000</td>\n",
       "      <td>0.100000</td>\n",
       "      <td>0.100000</td>\n",
       "      <td>0.100000</td>\n",
       "      <td>0.100000</td>\n",
       "      <td>0.100000</td>\n",
       "      <td>0.100000</td>\n",
       "      <td>0.100000</td>\n",
       "      <td>0.100000</td>\n",
       "    </tr>\n",
       "    <tr>\n",
       "      <th>1</th>\n",
       "      <td>0</td>\n",
       "      <td>H_-2_-2_0.509296.dat</td>\n",
       "      <td>-2.0</td>\n",
       "      <td>-2.0</td>\n",
       "      <td>0.509296</td>\n",
       "      <td>999</td>\n",
       "      <td>666</td>\n",
       "      <td>test</td>\n",
       "      <td>0.141421</td>\n",
       "      <td>0.141142</td>\n",
       "      <td>...</td>\n",
       "      <td>0.114412</td>\n",
       "      <td>0.108967</td>\n",
       "      <td>0.123928</td>\n",
       "      <td>0.119406</td>\n",
       "      <td>0.131490</td>\n",
       "      <td>0.127962</td>\n",
       "      <td>0.136978</td>\n",
       "      <td>0.134500</td>\n",
       "      <td>0.140306</td>\n",
       "      <td>0.138916</td>\n",
       "    </tr>\n",
       "    <tr>\n",
       "      <th>2</th>\n",
       "      <td>0</td>\n",
       "      <td>H_-2_-2_0.509296.dat</td>\n",
       "      <td>-2.0</td>\n",
       "      <td>-2.0</td>\n",
       "      <td>0.509296</td>\n",
       "      <td>999</td>\n",
       "      <td>666</td>\n",
       "      <td>test</td>\n",
       "      <td>0.141421</td>\n",
       "      <td>0.140306</td>\n",
       "      <td>...</td>\n",
       "      <td>0.043702</td>\n",
       "      <td>0.026500</td>\n",
       "      <td>0.075777</td>\n",
       "      <td>0.060214</td>\n",
       "      <td>0.103092</td>\n",
       "      <td>0.090145</td>\n",
       "      <td>0.123928</td>\n",
       "      <td>0.114412</td>\n",
       "      <td>0.136978</td>\n",
       "      <td>0.131490</td>\n",
       "    </tr>\n",
       "    <tr>\n",
       "      <th>3</th>\n",
       "      <td>0</td>\n",
       "      <td>H_-2_-2_0.509296.dat</td>\n",
       "      <td>-2.0</td>\n",
       "      <td>-2.0</td>\n",
       "      <td>0.509296</td>\n",
       "      <td>999</td>\n",
       "      <td>666</td>\n",
       "      <td>test</td>\n",
       "      <td>-0.100000</td>\n",
       "      <td>0.100000</td>\n",
       "      <td>...</td>\n",
       "      <td>-0.100000</td>\n",
       "      <td>0.100000</td>\n",
       "      <td>-0.100000</td>\n",
       "      <td>0.100000</td>\n",
       "      <td>-0.100000</td>\n",
       "      <td>0.100000</td>\n",
       "      <td>-0.100000</td>\n",
       "      <td>0.100000</td>\n",
       "      <td>-0.100000</td>\n",
       "      <td>0.100000</td>\n",
       "    </tr>\n",
       "    <tr>\n",
       "      <th>4</th>\n",
       "      <td>0</td>\n",
       "      <td>H_-2_-2_0.509296.dat</td>\n",
       "      <td>-2.0</td>\n",
       "      <td>-2.0</td>\n",
       "      <td>0.509296</td>\n",
       "      <td>999</td>\n",
       "      <td>666</td>\n",
       "      <td>test</td>\n",
       "      <td>0.000509</td>\n",
       "      <td>-0.008372</td>\n",
       "      <td>...</td>\n",
       "      <td>-0.082713</td>\n",
       "      <td>-0.089753</td>\n",
       "      <td>-0.067684</td>\n",
       "      <td>-0.075347</td>\n",
       "      <td>-0.051587</td>\n",
       "      <td>-0.059753</td>\n",
       "      <td>-0.034677</td>\n",
       "      <td>-0.043217</td>\n",
       "      <td>-0.017220</td>\n",
       "      <td>-0.026000</td>\n",
       "    </tr>\n",
       "  </tbody>\n",
       "</table>\n",
       "<p>5 rows × 108 columns</p>\n",
       "</div>"
      ],
      "text/plain": [
       "   id                  path   t1   t2   winding  phase  pred_phase type_of  \\\n",
       "0   0  H_-2_-2_0.509296.dat -2.0 -2.0  0.509296    999         666    test   \n",
       "1   0  H_-2_-2_0.509296.dat -2.0 -2.0  0.509296    999         666    test   \n",
       "2   0  H_-2_-2_0.509296.dat -2.0 -2.0  0.509296    999         666    test   \n",
       "3   0  H_-2_-2_0.509296.dat -2.0 -2.0  0.509296    999         666    test   \n",
       "4   0  H_-2_-2_0.509296.dat -2.0 -2.0  0.509296    999         666    test   \n",
       "\n",
       "      feat0     feat1  ...    feat90    feat91    feat92    feat93    feat94  \\\n",
       "0  0.100000  0.100000  ...  0.100000  0.100000  0.100000  0.100000  0.100000   \n",
       "1  0.141421  0.141142  ...  0.114412  0.108967  0.123928  0.119406  0.131490   \n",
       "2  0.141421  0.140306  ...  0.043702  0.026500  0.075777  0.060214  0.103092   \n",
       "3 -0.100000  0.100000  ... -0.100000  0.100000 -0.100000  0.100000 -0.100000   \n",
       "4  0.000509 -0.008372  ... -0.082713 -0.089753 -0.067684 -0.075347 -0.051587   \n",
       "\n",
       "     feat95    feat96    feat97    feat98    feat99  \n",
       "0  0.100000  0.100000  0.100000  0.100000  0.100000  \n",
       "1  0.127962  0.136978  0.134500  0.140306  0.138916  \n",
       "2  0.090145  0.123928  0.114412  0.136978  0.131490  \n",
       "3  0.100000 -0.100000  0.100000 -0.100000  0.100000  \n",
       "4 -0.059753 -0.034677 -0.043217 -0.017220 -0.026000  \n",
       "\n",
       "[5 rows x 108 columns]"
      ]
     },
     "execution_count": 4,
     "metadata": {},
     "output_type": "execute_result"
    }
   ],
   "source": [
    "%%time\n",
    "#Starting an instance of Simulation with a decision tree\n",
    "model = DecisionTreeClassifier(criterion=\"entropy\")\n",
    "#dict_args = {\"csv_path\":csv_path, \"model\":model, \"allowed_windings\":allowed_windings,\\\n",
    "#             \"simulation_dir\":simulation_dir, \"val_split\":val_split, \"features_to_use\":features_to_use,\\\n",
    "#            \"shuffle_features\":shuffle_features, \"random_state\":random_state}\n",
    "simulation = Simulation(csv_path,model_name,model_kw,allowed_windings,simulation_dir,val_split,features_to_use,\\\n",
    "                       shuffle_features,fourier_mode,fourier_features_to_use,fourier_real,\\\n",
    "                       fourier_normalize, fourier_fillna , random_state)\n",
    "#simulation = Simulation(**dict_args)\n",
    "\n",
    "\n",
    "#(self, csv_path, model_name, model_kw, allowed_windings, simulation_dir = None, val_split = 0, \n",
    "# features_to_use = None, shuffle_features = False, fourier_mode=None, fourier_features_to_use=None,\n",
    "# fourier_real = False, fourier_normalize = False, Fourier_fillna=False, random_state = None):\n",
    "\n",
    "\n",
    "\n",
    "print(\"Info on all data: \\n\")\n",
    "simulation.dataframe.info()\n",
    "simulation.dataframe.head()"
   ]
  },
  {
   "cell_type": "markdown",
   "metadata": {
    "papermill": {
     "duration": 0.028543,
     "end_time": "2020-07-18T05:34:04.590598",
     "exception": false,
     "start_time": "2020-07-18T05:34:04.562055",
     "status": "completed"
    },
    "tags": []
   },
   "source": [
    "####  Fourier features"
   ]
  },
  {
   "cell_type": "code",
   "execution_count": 5,
   "metadata": {
    "execution": {
     "iopub.execute_input": "2020-07-18T05:34:04.644084Z",
     "iopub.status.busy": "2020-07-18T05:34:04.643736Z",
     "iopub.status.idle": "2020-07-18T05:34:04.724847Z",
     "shell.execute_reply": "2020-07-18T05:34:04.724531Z"
    },
    "papermill": {
     "duration": 0.115425,
     "end_time": "2020-07-18T05:34:04.724899",
     "exception": false,
     "start_time": "2020-07-18T05:34:04.609474",
     "status": "completed"
    },
    "tags": []
   },
   "outputs": [
    {
     "name": "stdout",
     "output_type": "stream",
     "text": [
      "<class 'pandas.core.frame.DataFrame'>\n",
      "Int64Index: 656100 entries, 0 to 656099\n",
      "Data columns (total 12 columns):\n",
      " #   Column      Non-Null Count   Dtype  \n",
      "---  ------      --------------   -----  \n",
      " 0   id          656100 non-null  int32  \n",
      " 1   path        656100 non-null  object \n",
      " 2   t1          656100 non-null  float64\n",
      " 3   t2          656100 non-null  float64\n",
      " 4   winding     656100 non-null  float64\n",
      " 5   phase       656100 non-null  int32  \n",
      " 6   pred_phase  656100 non-null  int32  \n",
      " 7   type_of     656100 non-null  object \n",
      " 8   dct_feat1   656100 non-null  float64\n",
      " 9   dct_feat2   656100 non-null  float64\n",
      " 10  dct_feat36  656100 non-null  float64\n",
      " 11  dct_feat49  656100 non-null  float64\n",
      "dtypes: float64(7), int32(3), object(2)\n",
      "memory usage: 57.6+ MB\n"
     ]
    },
    {
     "name": "stdout",
     "output_type": "stream",
     "text": [
      "CPU times: user 70.8 ms, sys: 0 ns, total: 70.8 ms\n",
      "Wall time: 70.1 ms\n"
     ]
    }
   ],
   "source": [
    "%%time\n",
    "#simulation.generate_fourier_df()\n",
    "if simulation.fourier_mode is not None:\n",
    "    simulation.fourier_dataframe.info() \n",
    "    simulation.fourier_dataframe.sample(15)\n"
   ]
  },
  {
   "cell_type": "code",
   "execution_count": 6,
   "metadata": {
    "execution": {
     "iopub.execute_input": "2020-07-18T05:34:04.765146Z",
     "iopub.status.busy": "2020-07-18T05:34:04.764656Z",
     "iopub.status.idle": "2020-07-18T05:34:04.776702Z",
     "shell.execute_reply": "2020-07-18T05:34:04.777003Z"
    },
    "papermill": {
     "duration": 0.033865,
     "end_time": "2020-07-18T05:34:04.777070",
     "exception": false,
     "start_time": "2020-07-18T05:34:04.743205",
     "status": "completed"
    },
    "tags": []
   },
   "outputs": [
    {
     "name": "stdout",
     "output_type": "stream",
     "text": [
      "features_to_use: \n",
      "\n",
      "\n",
      "[0, 1, 3, 50]\n",
      "Number of real space features:\n",
      "\n",
      "\n",
      "4\n",
      "\n",
      "\n",
      "fourier_features: \n",
      "\n",
      "\n",
      "['dct_feat1', 'dct_feat2', 'dct_feat36', 'dct_feat49']\n",
      "\n",
      "\n",
      "Number of Fourier features: \n",
      "\n",
      "\n",
      "4\n",
      "\n",
      "\n",
      "Fourier operator: \n",
      "[[ 1.          2.          2.          1.        ]\n",
      " [ 0.99802673  1.9842294  -1.27484798 -0.99802673]\n",
      " [ 0.98228725  1.85955297  1.75261336 -0.98228725]\n",
      " [-1.          2.          2.         -1.        ]]\n",
      "\n",
      "\n",
      "Shape of Fourier operator: \n",
      "(4, 4)\n"
     ]
    }
   ],
   "source": [
    "print(\"features_to_use: \")\n",
    "print(\"\\n\")\n",
    "print(simulation.features_to_use)\n",
    "if simulation.features_to_use is not None:\n",
    "    print(\"Number of real space features:\")\n",
    "    print(\"\\n\")\n",
    "    print(len(simulation.features_to_use))\n",
    "print(\"\\n\")\n",
    "print(\"fourier_features: \")\n",
    "print(\"\\n\")\n",
    "print(simulation.fourier_features)\n",
    "print(\"\\n\")\n",
    "if simulation.fourier_features is not None:\n",
    "    print(\"Number of Fourier features: \")\n",
    "    print(\"\\n\")\n",
    "    print(len(simulation.fourier_features))\n",
    "print(\"\\n\")\n",
    "print(\"Fourier operator: \")\n",
    "print(simulation.fourier_operator)\n",
    "print(\"\\n\")\n",
    "if simulation.fourier_operator is not None:\n",
    "    print(\"Shape of Fourier operator: \")\n",
    "    print(simulation.fourier_operator.shape)"
   ]
  },
  {
   "cell_type": "code",
   "execution_count": 7,
   "metadata": {
    "execution": {
     "iopub.execute_input": "2020-07-18T05:34:04.814493Z",
     "iopub.status.busy": "2020-07-18T05:34:04.814184Z",
     "iopub.status.idle": "2020-07-18T05:34:04.877387Z",
     "shell.execute_reply": "2020-07-18T05:34:04.876847Z"
    },
    "papermill": {
     "duration": 0.082606,
     "end_time": "2020-07-18T05:34:04.877470",
     "exception": false,
     "start_time": "2020-07-18T05:34:04.794864",
     "status": "completed"
    },
    "tags": []
   },
   "outputs": [],
   "source": [
    "#a = np.array([1+1j,2+3j,4+8j])\n",
    "#np.imag(a)"
   ]
  },
  {
   "cell_type": "code",
   "execution_count": 8,
   "metadata": {
    "execution": {
     "iopub.execute_input": "2020-07-18T05:34:04.940101Z",
     "iopub.status.busy": "2020-07-18T05:34:04.939790Z",
     "iopub.status.idle": "2020-07-18T05:34:04.964730Z",
     "shell.execute_reply": "2020-07-18T05:34:04.965047Z"
    },
    "papermill": {
     "duration": 0.054224,
     "end_time": "2020-07-18T05:34:04.965115",
     "exception": false,
     "start_time": "2020-07-18T05:34:04.910891",
     "status": "completed"
    },
    "tags": []
   },
   "outputs": [],
   "source": [
    "#plt.plot(np.imag(simulation.fourier_operator[:,0]))"
   ]
  },
  {
   "cell_type": "code",
   "execution_count": 9,
   "metadata": {
    "execution": {
     "iopub.execute_input": "2020-07-18T05:34:05.002635Z",
     "iopub.status.busy": "2020-07-18T05:34:05.002305Z",
     "iopub.status.idle": "2020-07-18T05:34:05.065654Z",
     "shell.execute_reply": "2020-07-18T05:34:05.065208Z"
    },
    "papermill": {
     "duration": 0.08262,
     "end_time": "2020-07-18T05:34:05.065722",
     "exception": false,
     "start_time": "2020-07-18T05:34:04.983102",
     "status": "completed"
    },
    "tags": []
   },
   "outputs": [],
   "source": [
    "#np.sin(np.pi/(50))*2"
   ]
  },
  {
   "cell_type": "code",
   "execution_count": 10,
   "metadata": {
    "execution": {
     "iopub.execute_input": "2020-07-18T05:34:05.113264Z",
     "iopub.status.busy": "2020-07-18T05:34:05.112947Z",
     "iopub.status.idle": "2020-07-18T05:34:05.166234Z",
     "shell.execute_reply": "2020-07-18T05:34:05.165676Z"
    },
    "papermill": {
     "duration": 0.075203,
     "end_time": "2020-07-18T05:34:05.166312",
     "exception": false,
     "start_time": "2020-07-18T05:34:05.091109",
     "status": "completed"
    },
    "tags": []
   },
   "outputs": [],
   "source": [
    "#2*np.sin(np.pi/50*49)"
   ]
  },
  {
   "cell_type": "code",
   "execution_count": 11,
   "metadata": {
    "execution": {
     "iopub.execute_input": "2020-07-18T05:34:05.219573Z",
     "iopub.status.busy": "2020-07-18T05:34:05.219237Z",
     "iopub.status.idle": "2020-07-18T05:34:05.231809Z",
     "shell.execute_reply": "2020-07-18T05:34:05.232144Z"
    },
    "papermill": {
     "duration": 0.035057,
     "end_time": "2020-07-18T05:34:05.232215",
     "exception": false,
     "start_time": "2020-07-18T05:34:05.197158",
     "status": "completed"
    },
    "tags": []
   },
   "outputs": [],
   "source": [
    "#simulation.dataframe.iloc[331456,:]"
   ]
  },
  {
   "cell_type": "code",
   "execution_count": 12,
   "metadata": {
    "execution": {
     "iopub.execute_input": "2020-07-18T05:34:05.269628Z",
     "iopub.status.busy": "2020-07-18T05:34:05.269280Z",
     "iopub.status.idle": "2020-07-18T05:34:05.327132Z",
     "shell.execute_reply": "2020-07-18T05:34:05.326635Z"
    },
    "papermill": {
     "duration": 0.077126,
     "end_time": "2020-07-18T05:34:05.327208",
     "exception": false,
     "start_time": "2020-07-18T05:34:05.250082",
     "status": "completed"
    },
    "tags": []
   },
   "outputs": [],
   "source": [
    "#for ix, obj in enumerate(simulation.dataframe.iloc[331456,:].values):\n",
    "#    print(ix,obj)"
   ]
  },
  {
   "cell_type": "code",
   "execution_count": 13,
   "metadata": {
    "execution": {
     "iopub.execute_input": "2020-07-18T05:34:05.380575Z",
     "iopub.status.busy": "2020-07-18T05:34:05.380244Z",
     "iopub.status.idle": "2020-07-18T05:34:05.391904Z",
     "shell.execute_reply": "2020-07-18T05:34:05.391560Z"
    },
    "papermill": {
     "duration": 0.034106,
     "end_time": "2020-07-18T05:34:05.391957",
     "exception": false,
     "start_time": "2020-07-18T05:34:05.357851",
     "status": "completed"
    },
    "tags": []
   },
   "outputs": [],
   "source": [
    "#simulation.fourier_engineered_dataframe.dct_feat0"
   ]
  },
  {
   "cell_type": "code",
   "execution_count": 14,
   "metadata": {
    "execution": {
     "iopub.execute_input": "2020-07-18T05:34:05.429612Z",
     "iopub.status.busy": "2020-07-18T05:34:05.429267Z",
     "iopub.status.idle": "2020-07-18T05:34:05.491082Z",
     "shell.execute_reply": "2020-07-18T05:34:05.490535Z"
    },
    "papermill": {
     "duration": 0.081163,
     "end_time": "2020-07-18T05:34:05.491163",
     "exception": false,
     "start_time": "2020-07-18T05:34:05.410000",
     "status": "completed"
    },
    "tags": []
   },
   "outputs": [],
   "source": [
    "#simulation.features"
   ]
  },
  {
   "cell_type": "code",
   "execution_count": 15,
   "metadata": {
    "execution": {
     "iopub.execute_input": "2020-07-18T05:34:05.548478Z",
     "iopub.status.busy": "2020-07-18T05:34:05.548138Z",
     "iopub.status.idle": "2020-07-18T05:34:05.564957Z",
     "shell.execute_reply": "2020-07-18T05:34:05.565276Z"
    },
    "papermill": {
     "duration": 0.039823,
     "end_time": "2020-07-18T05:34:05.565345",
     "exception": false,
     "start_time": "2020-07-18T05:34:05.525522",
     "status": "completed"
    },
    "tags": []
   },
   "outputs": [],
   "source": [
    "#simulation.fourier_matrix"
   ]
  },
  {
   "cell_type": "code",
   "execution_count": 16,
   "metadata": {
    "execution": {
     "iopub.execute_input": "2020-07-18T05:34:05.603360Z",
     "iopub.status.busy": "2020-07-18T05:34:05.602998Z",
     "iopub.status.idle": "2020-07-18T05:34:05.659968Z",
     "shell.execute_reply": "2020-07-18T05:34:05.660442Z"
    },
    "papermill": {
     "duration": 0.077273,
     "end_time": "2020-07-18T05:34:05.660534",
     "exception": false,
     "start_time": "2020-07-18T05:34:05.583261",
     "status": "completed"
    },
    "tags": []
   },
   "outputs": [],
   "source": [
    "#1/simulation.n_features*simulation.dataframe.loc[:,simulation.features].sum(axis=1)"
   ]
  },
  {
   "cell_type": "code",
   "execution_count": 17,
   "metadata": {
    "execution": {
     "iopub.execute_input": "2020-07-18T05:34:05.718148Z",
     "iopub.status.busy": "2020-07-18T05:34:05.717805Z",
     "iopub.status.idle": "2020-07-18T05:34:05.727610Z",
     "shell.execute_reply": "2020-07-18T05:34:05.727282Z"
    },
    "papermill": {
     "duration": 0.036043,
     "end_time": "2020-07-18T05:34:05.727663",
     "exception": false,
     "start_time": "2020-07-18T05:34:05.691620",
     "status": "completed"
    },
    "tags": []
   },
   "outputs": [],
   "source": [
    "#df_2 = simulation.fourier_engineered_dataframe[simulation.fourier_engineered_dataframe.phase==2]\n",
    "#df_2.describe()"
   ]
  },
  {
   "cell_type": "code",
   "execution_count": 18,
   "metadata": {
    "execution": {
     "iopub.execute_input": "2020-07-18T05:34:06.109808Z",
     "iopub.status.busy": "2020-07-18T05:34:06.109421Z",
     "iopub.status.idle": "2020-07-18T05:34:06.188025Z",
     "shell.execute_reply": "2020-07-18T05:34:06.187040Z"
    },
    "papermill": {
     "duration": 0.142538,
     "end_time": "2020-07-18T05:34:06.188196",
     "exception": false,
     "start_time": "2020-07-18T05:34:06.045658",
     "status": "completed"
    },
    "tags": []
   },
   "outputs": [],
   "source": [
    "#df_1 = simulation.fourier_engineered_dataframe[simulation.fourier_engineered_dataframe.phase==1]\n",
    "#df_1.describe()"
   ]
  },
  {
   "cell_type": "code",
   "execution_count": 19,
   "metadata": {
    "execution": {
     "iopub.execute_input": "2020-07-18T05:34:06.268484Z",
     "iopub.status.busy": "2020-07-18T05:34:06.268148Z",
     "iopub.status.idle": "2020-07-18T05:34:06.278152Z",
     "shell.execute_reply": "2020-07-18T05:34:06.277845Z"
    },
    "papermill": {
     "duration": 0.033672,
     "end_time": "2020-07-18T05:34:06.278209",
     "exception": false,
     "start_time": "2020-07-18T05:34:06.244537",
     "status": "completed"
    },
    "tags": []
   },
   "outputs": [],
   "source": [
    "#df_0 = simulation.fourier_engineered_dataframe[simulation.fourier_engineered_dataframe.phase==0]\n",
    "#df_0.describe()"
   ]
  },
  {
   "cell_type": "code",
   "execution_count": 20,
   "metadata": {
    "execution": {
     "iopub.execute_input": "2020-07-18T05:34:06.315742Z",
     "iopub.status.busy": "2020-07-18T05:34:06.315428Z",
     "iopub.status.idle": "2020-07-18T05:34:06.367966Z",
     "shell.execute_reply": "2020-07-18T05:34:06.368364Z"
    },
    "papermill": {
     "duration": 0.072216,
     "end_time": "2020-07-18T05:34:06.368475",
     "exception": false,
     "start_time": "2020-07-18T05:34:06.296259",
     "status": "completed"
    },
    "tags": []
   },
   "outputs": [],
   "source": [
    "#plt.figure(figsize=(10,10))\n",
    "#plt.scatter(df_1.fourier_feat0,df_1.fourier_feat2)\n",
    "#plt.scatter(df_0.fourier_feat0,df_0.fourier_feat2,alpha=0.4)"
   ]
  },
  {
   "cell_type": "code",
   "execution_count": 21,
   "metadata": {
    "execution": {
     "iopub.execute_input": "2020-07-18T05:34:06.423985Z",
     "iopub.status.busy": "2020-07-18T05:34:06.423650Z",
     "iopub.status.idle": "2020-07-18T05:34:06.433791Z",
     "shell.execute_reply": "2020-07-18T05:34:06.433481Z"
    },
    "papermill": {
     "duration": 0.034918,
     "end_time": "2020-07-18T05:34:06.433848",
     "exception": false,
     "start_time": "2020-07-18T05:34:06.398930",
     "status": "completed"
    },
    "tags": []
   },
   "outputs": [],
   "source": [
    "#plt.scatter(df_0.fourier_feat0,df_0.fourier_feat2,alpha=0.4)"
   ]
  },
  {
   "cell_type": "code",
   "execution_count": 22,
   "metadata": {
    "execution": {
     "iopub.execute_input": "2020-07-18T05:34:06.472389Z",
     "iopub.status.busy": "2020-07-18T05:34:06.472070Z",
     "iopub.status.idle": "2020-07-18T05:34:06.535368Z",
     "shell.execute_reply": "2020-07-18T05:34:06.535940Z"
    },
    "papermill": {
     "duration": 0.083516,
     "end_time": "2020-07-18T05:34:06.536054",
     "exception": false,
     "start_time": "2020-07-18T05:34:06.452538",
     "status": "completed"
    },
    "tags": []
   },
   "outputs": [],
   "source": [
    "#plt.scatter(df_2.fourier_feat0,df_2.fourier_feat2)"
   ]
  },
  {
   "cell_type": "code",
   "execution_count": 23,
   "metadata": {
    "execution": {
     "iopub.execute_input": "2020-07-18T05:34:06.598100Z",
     "iopub.status.busy": "2020-07-18T05:34:06.597790Z",
     "iopub.status.idle": "2020-07-18T05:34:06.607320Z",
     "shell.execute_reply": "2020-07-18T05:34:06.607639Z"
    },
    "papermill": {
     "duration": 0.034232,
     "end_time": "2020-07-18T05:34:06.607710",
     "exception": false,
     "start_time": "2020-07-18T05:34:06.573478",
     "status": "completed"
    },
    "tags": []
   },
   "outputs": [],
   "source": [
    "#df_1.hist(figsize=(15,15))"
   ]
  },
  {
   "cell_type": "code",
   "execution_count": 24,
   "metadata": {
    "execution": {
     "iopub.execute_input": "2020-07-18T05:34:06.645821Z",
     "iopub.status.busy": "2020-07-18T05:34:06.645327Z",
     "iopub.status.idle": "2020-07-18T05:34:06.701313Z",
     "shell.execute_reply": "2020-07-18T05:34:06.701706Z"
    },
    "papermill": {
     "duration": 0.075983,
     "end_time": "2020-07-18T05:34:06.701786",
     "exception": false,
     "start_time": "2020-07-18T05:34:06.625803",
     "status": "completed"
    },
    "tags": []
   },
   "outputs": [],
   "source": [
    "#df_0.hist(figsize=(15,15))"
   ]
  },
  {
   "cell_type": "markdown",
   "metadata": {
    "papermill": {
     "duration": 0.019633,
     "end_time": "2020-07-18T05:34:06.746944",
     "exception": false,
     "start_time": "2020-07-18T05:34:06.727311",
     "status": "completed"
    },
    "tags": []
   },
   "source": [
    "#### Checking initialization"
   ]
  },
  {
   "cell_type": "code",
   "execution_count": 25,
   "metadata": {
    "execution": {
     "iopub.execute_input": "2020-07-18T05:34:06.786331Z",
     "iopub.status.busy": "2020-07-18T05:34:06.786012Z",
     "iopub.status.idle": "2020-07-18T05:34:06.798295Z",
     "shell.execute_reply": "2020-07-18T05:34:06.797973Z"
    },
    "papermill": {
     "duration": 0.032723,
     "end_time": "2020-07-18T05:34:06.798348",
     "exception": false,
     "start_time": "2020-07-18T05:34:06.765625",
     "status": "completed"
    },
    "tags": []
   },
   "outputs": [
    {
     "name": "stdout",
     "output_type": "stream",
     "text": [
      "n_features:  100\n",
      "n_hamiltonians:  6561\n",
      "n_ts:  2\n",
      "CPU times: user 198 µs, sys: 26 µs, total: 224 µs\n",
      "Wall time: 135 µs\n"
     ]
    }
   ],
   "source": [
    "%%time\n",
    "n_features = simulation.n_features\n",
    "n_hamiltonians = simulation.n_hamiltonians\n",
    "n_ts = simulation.n_ts\n",
    "\n",
    "print(\"n_features: \", n_features)\n",
    "print(\"n_hamiltonians: \", n_hamiltonians)\n",
    "print(\"n_ts: \", n_ts)"
   ]
  },
  {
   "cell_type": "code",
   "execution_count": 26,
   "metadata": {
    "execution": {
     "iopub.execute_input": "2020-07-18T05:34:06.836837Z",
     "iopub.status.busy": "2020-07-18T05:34:06.836514Z",
     "iopub.status.idle": "2020-07-18T05:34:07.078076Z",
     "shell.execute_reply": "2020-07-18T05:34:07.078328Z"
    },
    "papermill": {
     "duration": 0.261902,
     "end_time": "2020-07-18T05:34:07.078397",
     "exception": false,
     "start_time": "2020-07-18T05:34:06.816495",
     "status": "completed"
    },
    "tags": []
   },
   "outputs": [
    {
     "name": "stdout",
     "output_type": "stream",
     "text": [
      "% train:  0.846822130772748\n",
      "% val:  0.0\n",
      "% test:  0.15317786922725193\n",
      "% train + val + test:  1.0\n",
      "\n",
      "\n",
      "number of train hamiltonians:  5556\n",
      "number of val hamiltonians:  0\n",
      "number of test hamiltonians:  1005\n",
      "total number of hamiltonians:  6561\n",
      "\n",
      "\n",
      "train ids:  [9, 10, 11, 12, 13, 14, 15, 16, 17, 18, 19, 20, 21, 22, 23, 24, 25, 26, 27, 28, 29, 30, 31, 32, 33, 34, 35, 36, 37, 38, 39, 40, 41, 42, 43, 44, 45, 46, 47, 48, 49, 50, 51, 52, 53, 54, 55, 56, 57, 58, 59, 60, 61, 62, 63, 64, 65, 66, 67, 68, 69, 70, 71, 72, 73, 74, 75, 76, 77, 91, 92, 93, 94, 95, 96, 97, 98, 99, 100, 101, 102, 103, 104, 105, 106, 107, 108, 109, 110, 111, 112, 113, 114, 115, 116, 117, 118, 119, 120, 121, 122, 123, 124, 125, 126, 127, 128, 129, 130, 131, 132, 133, 134, 135, 136, 137, 138, 139, 140, 141, 142, 143, 144, 145, 146, 147, 148, 149, 150, 151, 152, 153, 154, 155, 156, 157, 172, 173, 174, 175, 176, 177, 178, 179, 180, 181, 182, 183, 184, 185, 186, 187, 188, 189, 190, 191, 192, 193, 194, 195, 196, 197, 198, 199, 200, 201, 202, 203, 204, 205, 206, 207, 208, 209, 210, 211, 212, 213, 214, 215, 216, 217, 218, 219, 220, 221, 222, 223, 224, 225, 226, 227, 228, 229, 230, 231, 232, 233, 234, 235, 236, 237, 254, 255, 256, 257, 258, 259, 260, 261, 262, 263, 264, 265, 266, 267, 268, 269, 270, 271, 272, 273, 274, 275, 276, 277, 278, 279, 280, 281, 282, 283, 284, 285, 286, 287, 288, 289, 290, 291, 292, 293, 294, 295, 296, 297, 298, 299, 300, 301, 302, 303, 304, 305, 306, 307, 308, 309, 310, 311, 312, 313, 314, 315, 316, 317, 323, 336, 337, 338, 339, 340, 341, 342, 343, 344, 345, 346, 347, 348, 349, 350, 351, 352, 353, 354, 355, 356, 357, 358, 359, 360, 361, 362, 363, 364, 365, 366, 367, 368, 369, 370, 371, 372, 373, 374, 375, 376, 377, 378, 379, 380, 381, 382, 383, 384, 385, 386, 387, 388, 389, 390, 391, 392, 393, 394, 395, 396, 397, 403, 404, 418, 419, 420, 421, 422, 423, 424, 425, 426, 427, 428, 429, 430, 431, 432, 433, 434, 435, 436, 437, 438, 439, 440, 441, 442, 443, 444, 445, 446, 447, 448, 449, 450, 451, 452, 453, 454, 455, 456, 457, 458, 459, 460, 461, 462, 463, 464, 465, 466, 467, 468, 469, 470, 471, 472, 473, 474, 475, 476, 477, 483, 484, 485, 500, 501, 502, 503, 504, 505, 506, 507, 508, 509, 510, 511, 512, 513, 514, 515, 516, 517, 518, 519, 520, 521, 522, 523, 524, 525, 526, 527, 528, 529, 530, 531, 532, 533, 534, 535, 536, 537, 538, 539, 540, 541, 542, 543, 544, 545, 546, 547, 548, 549, 550, 551, 552, 553, 554, 555, 556, 557, 563, 564, 565, 566, 581, 582, 583, 584, 585, 586, 587, 588, 589, 590, 591, 592, 593, 594, 595, 596, 597, 598, 599, 600, 601, 602, 603, 604, 605, 606, 607, 608, 609, 610, 611, 612, 613, 614, 615, 616, 617, 618, 619, 620, 621, 622, 623, 624, 625, 626, 627, 628, 629, 630, 631, 632, 633, 634, 635, 636, 637, 643, 644, 645, 646, 647, 663, 664, 665, 666, 667, 668, 669, 670, 671, 672, 673, 674, 675, 676, 677, 678, 679, 680, 681, 682, 683, 684, 685, 686, 687, 688, 689, 690, 691, 692, 693, 694, 695, 696, 697, 698, 699, 700, 701, 702, 703, 704, 705, 706, 707, 708, 709, 710, 711, 712, 713, 714, 715, 716, 717, 723, 724, 725, 726, 727, 728, 745, 746, 747, 748, 749, 750, 751, 752, 753, 754, 755, 756, 757, 758, 759, 760, 761, 762, 763, 764, 765, 766, 767, 768, 769, 770, 771, 772, 773, 774, 775, 776, 777, 778, 779, 780, 781, 782, 783, 784, 785, 786, 787, 788, 789, 790, 791, 792, 793, 794, 795, 796, 797, 803, 804, 805, 806, 807, 808, 809, 827, 828, 829, 830, 831, 832, 833, 834, 835, 836, 837, 838, 839, 840, 841, 842, 843, 844, 845, 846, 847, 848, 849, 850, 851, 852, 853, 854, 855, 856, 857, 858, 859, 860, 861, 862, 863, 864, 865, 866, 867, 868, 869, 870, 871, 872, 873, 874, 875, 876, 877, 883, 884, 885, 886, 887, 888, 889, 890, 891, 909, 910, 911, 912, 913, 914, 915, 916, 917, 918, 919, 920, 921, 922, 923, 924, 925, 926, 927, 928, 929, 930, 931, 932, 933, 934, 935, 936, 937, 938, 939, 940, 941, 942, 943, 944, 945, 946, 947, 948, 949, 950, 951, 952, 953, 954, 955, 956, 957, 963, 964, 965, 966, 967, 968, 969, 970, 971, 972, 973, 990, 991, 992, 993, 994, 995, 996, 997, 998, 999, 1000, 1001, 1002, 1003, 1004, 1005, 1006, 1007, 1008, 1009, 1010, 1011, 1012, 1013, 1014, 1015, 1016, 1017, 1018, 1019, 1020, 1021, 1022, 1023, 1024, 1025, 1026, 1027, 1028, 1029, 1030, 1031, 1032, 1033, 1034, 1035, 1036, 1037, 1038, 1042, 1043, 1044, 1045, 1046, 1047, 1048, 1049, 1050, 1051, 1052, 1053, 1054, 1055, 1056, 1072, 1073, 1074, 1075, 1076, 1077, 1078, 1079, 1080, 1081, 1082, 1083, 1084, 1085, 1086, 1087, 1088, 1089, 1090, 1091, 1092, 1093, 1094, 1095, 1096, 1097, 1098, 1099, 1100, 1101, 1102, 1103, 1104, 1105, 1106, 1107, 1108, 1109, 1110, 1111, 1112, 1113, 1114, 1115, 1116, 1117, 1118, 1122, 1123, 1124, 1125, 1126, 1127, 1128, 1129, 1130, 1131, 1132, 1133, 1134, 1135, 1136, 1137, 1138, 1154, 1155, 1156, 1157, 1158, 1159, 1160, 1161, 1162, 1163, 1164, 1165, 1166, 1167, 1168, 1169, 1170, 1171, 1172, 1173, 1174, 1175, 1176, 1177, 1178, 1179, 1180, 1181, 1182, 1183, 1184, 1185, 1186, 1187, 1188, 1189, 1190, 1191, 1192, 1193, 1194, 1195, 1196, 1197, 1198, 1202, 1203, 1204, 1205, 1206, 1207, 1208, 1209, 1210, 1211, 1212, 1213, 1214, 1215, 1216, 1217, 1218, 1219, 1220, 1236, 1237, 1238, 1239, 1240, 1241, 1242, 1243, 1244, 1245, 1246, 1247, 1248, 1249, 1250, 1251, 1252, 1253, 1254, 1255, 1256, 1257, 1258, 1259, 1260, 1261, 1262, 1263, 1264, 1265, 1266, 1267, 1268, 1269, 1270, 1271, 1272, 1273, 1274, 1275, 1276, 1277, 1278, 1282, 1283, 1284, 1285, 1286, 1287, 1288, 1289, 1290, 1291, 1292, 1293, 1294, 1295, 1296, 1297, 1298, 1299, 1300, 1301, 1302, 1303, 1317, 1318, 1319, 1320, 1321, 1322, 1323, 1324, 1325, 1326, 1327, 1328, 1329, 1330, 1331, 1332, 1333, 1334, 1335, 1336, 1337, 1338, 1339, 1340, 1341, 1342, 1343, 1344, 1345, 1346, 1347, 1348, 1349, 1350, 1351, 1352, 1353, 1354, 1355, 1356, 1357, 1358, 1362, 1363, 1364, 1365, 1366, 1367, 1368, 1369, 1370, 1371, 1372, 1373, 1374, 1375, 1376, 1377, 1378, 1379, 1380, 1381, 1382, 1383, 1384, 1385, 1399, 1400, 1401, 1402, 1403, 1404, 1405, 1406, 1407, 1408, 1409, 1410, 1411, 1412, 1413, 1414, 1415, 1416, 1417, 1418, 1419, 1420, 1421, 1422, 1423, 1424, 1425, 1426, 1427, 1428, 1429, 1430, 1431, 1432, 1433, 1434, 1435, 1436, 1437, 1438, 1442, 1443, 1444, 1445, 1446, 1447, 1448, 1449, 1450, 1451, 1452, 1453, 1454, 1455, 1456, 1457, 1458, 1459, 1460, 1461, 1462, 1463, 1464, 1465, 1466, 1467, 1468, 1481, 1482, 1483, 1484, 1485, 1486, 1487, 1488, 1489, 1490, 1491, 1492, 1493, 1494, 1495, 1496, 1497, 1498, 1499, 1500, 1501, 1502, 1503, 1504, 1505, 1506, 1507, 1508, 1509, 1510, 1511, 1512, 1513, 1514, 1515, 1516, 1517, 1518, 1522, 1523, 1524, 1525, 1526, 1527, 1528, 1529, 1530, 1531, 1532, 1533, 1534, 1535, 1536, 1537, 1538, 1539, 1540, 1541, 1542, 1543, 1544, 1545, 1546, 1547, 1548, 1549, 1550, 1563, 1564, 1565, 1566, 1567, 1568, 1569, 1570, 1571, 1572, 1573, 1574, 1575, 1576, 1577, 1578, 1579, 1580, 1581, 1582, 1583, 1584, 1585, 1586, 1587, 1588, 1589, 1590, 1591, 1592, 1593, 1594, 1595, 1596, 1597, 1598, 1602, 1603, 1604, 1605, 1606, 1607, 1608, 1609, 1610, 1611, 1612, 1613, 1614, 1615, 1616, 1617, 1618, 1619, 1620, 1621, 1622, 1623, 1624, 1625, 1626, 1627, 1628, 1629, 1630, 1631, 1632, 1645, 1646, 1647, 1648, 1649, 1650, 1651, 1652, 1653, 1654, 1655, 1656, 1657, 1658, 1659, 1660, 1661, 1662, 1663, 1664, 1665, 1666, 1667, 1668, 1669, 1670, 1671, 1672, 1673, 1674, 1675, 1676, 1677, 1678, 1682, 1683, 1684, 1685, 1686, 1687, 1688, 1689, 1690, 1691, 1692, 1693, 1694, 1695, 1696, 1697, 1698, 1699, 1700, 1701, 1702, 1703, 1704, 1705, 1706, 1707, 1708, 1709, 1710, 1711, 1712, 1713, 1714, 1715, 1726, 1727, 1728, 1729, 1730, 1731, 1732, 1733, 1734, 1735, 1736, 1737, 1738, 1739, 1740, 1741, 1742, 1743, 1744, 1745, 1746, 1747, 1748, 1749, 1750, 1751, 1752, 1753, 1754, 1755, 1756, 1757, 1758, 1762, 1763, 1764, 1765, 1766, 1767, 1768, 1769, 1770, 1771, 1772, 1773, 1774, 1775, 1776, 1777, 1778, 1779, 1780, 1781, 1782, 1783, 1784, 1785, 1786, 1787, 1788, 1789, 1790, 1791, 1792, 1793, 1794, 1795, 1796, 1797, 1808, 1809, 1810, 1811, 1812, 1813, 1814, 1815, 1816, 1817, 1818, 1819, 1820, 1821, 1822, 1823, 1824, 1825, 1826, 1827, 1828, 1829, 1830, 1831, 1832, 1833, 1834, 1835, 1836, 1837, 1838, 1842, 1843, 1844, 1845, 1846, 1847, 1848, 1849, 1850, 1851, 1852, 1853, 1854, 1855, 1856, 1857, 1858, 1859, 1860, 1861, 1862, 1863, 1864, 1865, 1866, 1867, 1868, 1869, 1870, 1871, 1872, 1873, 1874, 1875, 1876, 1877, 1878, 1879, 1890, 1891, 1892, 1893, 1894, 1895, 1896, 1897, 1898, 1899, 1900, 1901, 1902, 1903, 1904, 1905, 1906, 1907, 1908, 1909, 1910, 1911, 1912, 1913, 1914, 1915, 1916, 1917, 1918, 1922, 1923, 1924, 1925, 1926, 1927, 1928, 1929, 1930, 1931, 1932, 1933, 1934, 1935, 1936, 1937, 1938, 1939, 1940, 1941, 1942, 1943, 1944, 1945, 1946, 1947, 1948, 1949, 1950, 1951, 1952, 1953, 1954, 1955, 1956, 1957, 1958, 1959, 1960, 1961, 1962, 1972, 1973, 1974, 1975, 1976, 1977, 1978, 1979, 1980, 1981, 1982, 1983, 1984, 1985, 1986, 1987, 1988, 1989, 1990, 1991, 1992, 1993, 1994, 1995, 1996, 1997, 1998, 2002, 2003, 2004, 2005, 2006, 2007, 2008, 2009, 2010, 2011, 2012, 2013, 2014, 2015, 2016, 2017, 2018, 2019, 2020, 2021, 2022, 2023, 2024, 2025, 2026, 2027, 2028, 2029, 2030, 2031, 2032, 2033, 2034, 2035, 2036, 2037, 2038, 2039, 2040, 2041, 2042, 2043, 2044, 2054, 2055, 2056, 2057, 2058, 2059, 2060, 2061, 2062, 2063, 2064, 2065, 2066, 2067, 2068, 2069, 2070, 2071, 2072, 2073, 2074, 2075, 2076, 2077, 2078, 2082, 2083, 2084, 2085, 2086, 2087, 2088, 2089, 2090, 2091, 2092, 2093, 2094, 2095, 2096, 2097, 2098, 2099, 2100, 2101, 2102, 2103, 2104, 2105, 2106, 2107, 2108, 2109, 2110, 2111, 2112, 2113, 2114, 2115, 2116, 2117, 2118, 2119, 2120, 2121, 2122, 2123, 2124, 2125, 2126, 2135, 2136, 2137, 2138, 2139, 2140, 2141, 2142, 2143, 2144, 2145, 2146, 2147, 2148, 2149, 2150, 2151, 2152, 2153, 2154, 2155, 2156, 2157, 2158, 2159, 2161, 2162, 2163, 2164, 2165, 2166, 2167, 2168, 2169, 2170, 2171, 2172, 2173, 2174, 2175, 2176, 2177, 2178, 2179, 2180, 2181, 2182, 2183, 2184, 2185, 2186, 2187, 2188, 2189, 2190, 2191, 2192, 2193, 2194, 2195, 2196, 2197, 2198, 2199, 2200, 2201, 2202, 2203, 2204, 2205, 2206, 2207, 2208, 2209, 2217, 2218, 2219, 2220, 2221, 2222, 2223, 2224, 2225, 2226, 2227, 2228, 2229, 2230, 2231, 2232, 2233, 2234, 2235, 2236, 2237, 2238, 2239, 2241, 2242, 2243, 2244, 2245, 2246, 2247, 2248, 2249, 2250, 2251, 2252, 2253, 2254, 2255, 2256, 2257, 2258, 2259, 2260, 2261, 2262, 2263, 2264, 2265, 2266, 2267, 2268, 2269, 2270, 2271, 2272, 2273, 2274, 2275, 2276, 2277, 2278, 2279, 2280, 2281, 2282, 2283, 2284, 2285, 2286, 2287, 2288, 2289, 2290, 2291, 2299, 2300, 2301, 2302, 2303, 2304, 2305, 2306, 2307, 2308, 2309, 2310, 2311, 2312, 2313, 2314, 2315, 2316, 2317, 2318, 2319, 2321, 2322, 2323, 2324, 2325, 2326, 2327, 2328, 2329, 2330, 2331, 2332, 2333, 2334, 2335, 2336, 2337, 2338, 2339, 2340, 2341, 2342, 2343, 2344, 2345, 2346, 2347, 2348, 2349, 2350, 2351, 2352, 2353, 2354, 2355, 2356, 2357, 2358, 2359, 2360, 2361, 2362, 2363, 2364, 2365, 2366, 2367, 2368, 2369, 2370, 2371, 2372, 2373, 2374, 2381, 2382, 2383, 2384, 2385, 2386, 2387, 2388, 2389, 2390, 2391, 2392, 2393, 2394, 2395, 2396, 2397, 2398, 2399, 2401, 2402, 2403, 2404, 2405, 2406, 2407, 2408, 2409, 2410, 2411, 2412, 2413, 2414, 2415, 2416, 2417, 2418, 2419, 2420, 2421, 2422, 2423, 2424, 2425, 2426, 2427, 2428, 2429, 2430, 2431, 2432, 2433, 2434, 2435, 2436, 2437, 2438, 2439, 2440, 2441, 2442, 2443, 2444, 2445, 2446, 2447, 2448, 2449, 2450, 2451, 2452, 2453, 2454, 2455, 2456, 2463, 2464, 2465, 2466, 2467, 2468, 2469, 2470, 2471, 2472, 2473, 2474, 2475, 2476, 2477, 2478, 2479, 2481, 2482, 2483, 2484, 2485, 2486, 2487, 2488, 2489, 2490, 2491, 2492, 2493, 2494, 2495, 2496, 2497, 2498, 2499, 2500, 2501, 2502, 2503, 2504, 2505, 2506, 2507, 2508, 2509, 2510, 2511, 2512, 2513, 2514, 2515, 2516, 2517, 2518, 2519, 2520, 2521, 2522, 2523, 2524, 2525, 2526, 2527, 2528, 2529, 2530, 2531, 2532, 2533, 2534, 2535, 2536, 2537, 2538, 2544, 2545, 2546, 2547, 2548, 2549, 2550, 2551, 2552, 2553, 2554, 2555, 2556, 2557, 2558, 2559, 2561, 2562, 2563, 2564, 2565, 2566, 2567, 2568, 2569, 2570, 2571, 2572, 2573, 2574, 2575, 2576, 2577, 2578, 2579, 2580, 2581, 2582, 2583, 2584, 2585, 2586, 2587, 2588, 2589, 2590, 2591, 2592, 2593, 2594, 2595, 2596, 2597, 2598, 2599, 2600, 2601, 2602, 2603, 2604, 2605, 2606, 2607, 2608, 2609, 2610, 2611, 2612, 2613, 2614, 2615, 2616, 2617, 2618, 2619, 2620, 2621, 2626, 2627, 2628, 2629, 2630, 2631, 2632, 2633, 2634, 2635, 2636, 2637, 2638, 2639, 2641, 2642, 2643, 2644, 2645, 2646, 2647, 2648, 2649, 2650, 2651, 2652, 2653, 2654, 2655, 2656, 2657, 2658, 2659, 2660, 2661, 2662, 2663, 2664, 2665, 2666, 2667, 2668, 2669, 2670, 2671, 2672, 2673, 2674, 2675, 2676, 2677, 2678, 2679, 2680, 2681, 2682, 2683, 2684, 2685, 2686, 2687, 2688, 2689, 2690, 2691, 2692, 2693, 2694, 2695, 2696, 2697, 2698, 2699, 2700, 2701, 2702, 2703, 2708, 2709, 2710, 2711, 2712, 2713, 2714, 2715, 2716, 2717, 2718, 2719, 2721, 2722, 2723, 2724, 2725, 2726, 2727, 2728, 2729, 2730, 2731, 2732, 2733, 2734, 2735, 2736, 2737, 2738, 2739, 2740, 2741, 2742, 2743, 2744, 2745, 2746, 2747, 2748, 2749, 2750, 2751, 2752, 2753, 2754, 2755, 2756, 2757, 2758, 2759, 2760, 2761, 2762, 2763, 2764, 2765, 2766, 2767, 2768, 2769, 2770, 2771, 2772, 2773, 2774, 2775, 2776, 2777, 2778, 2779, 2780, 2781, 2782, 2783, 2784, 2785, 2790, 2791, 2792, 2793, 2794, 2795, 2796, 2797, 2798, 2799, 2801, 2802, 2803, 2804, 2805, 2806, 2807, 2808, 2809, 2810, 2811, 2812, 2813, 2814, 2815, 2816, 2817, 2818, 2819, 2820, 2821, 2822, 2823, 2824, 2825, 2826, 2827, 2828, 2829, 2830, 2831, 2832, 2833, 2834, 2835, 2836, 2837, 2838, 2839, 2840, 2841, 2842, 2843, 2844, 2845, 2846, 2847, 2848, 2849, 2850, 2851, 2852, 2853, 2854, 2855, 2856, 2857, 2858, 2859, 2860, 2861, 2862, 2863, 2864, 2865, 2866, 2867, 2868, 2872, 2873, 2874, 2875, 2876, 2877, 2878, 2879, 2881, 2882, 2883, 2884, 2885, 2886, 2887, 2888, 2889, 2890, 2891, 2892, 2893, 2894, 2895, 2896, 2897, 2898, 2899, 2900, 2901, 2902, 2903, 2904, 2905, 2906, 2907, 2908, 2909, 2910, 2911, 2912, 2913, 2914, 2915, 2916, 2917, 2918, 2919, 2920, 2921, 2922, 2923, 2924, 2925, 2926, 2927, 2928, 2929, 2930, 2931, 2932, 2933, 2934, 2935, 2936, 2937, 2938, 2939, 2940, 2941, 2942, 2943, 2944, 2945, 2946, 2947, 2948, 2949, 2950, 2953, 2954, 2955, 2956, 2957, 2958, 2959, 2961, 2962, 2963, 2964, 2965, 2966, 2967, 2968, 2969, 2970, 2971, 2972, 2973, 2974, 2975, 2976, 2977, 2978, 2979, 2980, 2981, 2982, 2983, 2984, 2985, 2986, 2987, 2988, 2989, 2990, 2991, 2992, 2993, 2994, 2995, 2996, 2997, 2998, 2999, 3000, 3001, 3002, 3003, 3004, 3005, 3006, 3007, 3008, 3009, 3010, 3011, 3012, 3013, 3014, 3015, 3016, 3017, 3018, 3019, 3020, 3021, 3022, 3023, 3024, 3025, 3026, 3027, 3028, 3029, 3030, 3031, 3032, 3035, 3036, 3037, 3038, 3039, 3041, 3042, 3043, 3044, 3045, 3046, 3047, 3048, 3049, 3050, 3051, 3052, 3053, 3054, 3055, 3056, 3057, 3058, 3059, 3060, 3061, 3062, 3063, 3064, 3065, 3066, 3067, 3068, 3069, 3070, 3071, 3072, 3073, 3074, 3075, 3076, 3077, 3078, 3079, 3080, 3081, 3082, 3083, 3084, 3085, 3086, 3087, 3088, 3089, 3090, 3091, 3092, 3093, 3094, 3095, 3096, 3097, 3098, 3099, 3100, 3101, 3102, 3103, 3104, 3105, 3106, 3107, 3108, 3109, 3110, 3111, 3112, 3113, 3114, 3115, 3117, 3118, 3119, 3121, 3122, 3123, 3124, 3125, 3126, 3127, 3128, 3129, 3130, 3131, 3132, 3133, 3134, 3135, 3136, 3137, 3138, 3139, 3140, 3141, 3142, 3143, 3144, 3145, 3146, 3147, 3148, 3149, 3150, 3151, 3152, 3153, 3154, 3155, 3156, 3157, 3158, 3159, 3160, 3161, 3162, 3163, 3164, 3165, 3166, 3167, 3168, 3169, 3170, 3171, 3172, 3173, 3174, 3175, 3176, 3177, 3178, 3179, 3180, 3181, 3182, 3183, 3184, 3185, 3186, 3187, 3188, 3189, 3190, 3191, 3192, 3193, 3194, 3195, 3196, 3197, 3199, 3201, 3202, 3203, 3204, 3205, 3206, 3207, 3208, 3209, 3210, 3211, 3212, 3213, 3214, 3215, 3216, 3217, 3218, 3219, 3220, 3221, 3222, 3223, 3224, 3225, 3226, 3227, 3228, 3229, 3230, 3231, 3232, 3233, 3234, 3235, 3236, 3237, 3238, 3239, 3240, 3241, 3242, 3243, 3244, 3245, 3246, 3247, 3248, 3249, 3250, 3251, 3252, 3253, 3254, 3255, 3256, 3257, 3258, 3259, 3260, 3261, 3262, 3263, 3264, 3265, 3266, 3267, 3268, 3269, 3270, 3271, 3272, 3273, 3274, 3275, 3276, 3277, 3278, 3279, 3281, 3282, 3283, 3284, 3285, 3286, 3287, 3288, 3289, 3290, 3291, 3292, 3293, 3294, 3295, 3296, 3297, 3298, 3299, 3300, 3301, 3302, 3303, 3304, 3305, 3306, 3307, 3308, 3309, 3310, 3311, 3312, 3313, 3314, 3315, 3316, 3317, 3318, 3319, 3320, 3321, 3322, 3323, 3324, 3325, 3326, 3327, 3328, 3329, 3330, 3331, 3332, 3333, 3334, 3335, 3336, 3337, 3338, 3339, 3340, 3341, 3342, 3343, 3344, 3345, 3346, 3347, 3348, 3349, 3350, 3351, 3352, 3353, 3354, 3355, 3356, 3357, 3358, 3359, 3361, 3363, 3364, 3365, 3366, 3367, 3368, 3369, 3370, 3371, 3372, 3373, 3374, 3375, 3376, 3377, 3378, 3379, 3380, 3381, 3382, 3383, 3384, 3385, 3386, 3387, 3388, 3389, 3390, 3391, 3392, 3393, 3394, 3395, 3396, 3397, 3398, 3399, 3400, 3401, 3402, 3403, 3404, 3405, 3406, 3407, 3408, 3409, 3410, 3411, 3412, 3413, 3414, 3415, 3416, 3417, 3418, 3419, 3420, 3421, 3422, 3423, 3424, 3425, 3426, 3427, 3428, 3429, 3430, 3431, 3432, 3433, 3434, 3435, 3436, 3437, 3438, 3439, 3441, 3442, 3443, 3445, 3446, 3447, 3448, 3449, 3450, 3451, 3452, 3453, 3454, 3455, 3456, 3457, 3458, 3459, 3460, 3461, 3462, 3463, 3464, 3465, 3466, 3467, 3468, 3469, 3470, 3471, 3472, 3473, 3474, 3475, 3476, 3477, 3478, 3479, 3480, 3481, 3482, 3483, 3484, 3485, 3486, 3487, 3488, 3489, 3490, 3491, 3492, 3493, 3494, 3495, 3496, 3497, 3498, 3499, 3500, 3501, 3502, 3503, 3504, 3505, 3506, 3507, 3508, 3509, 3510, 3511, 3512, 3513, 3514, 3515, 3516, 3517, 3518, 3519, 3521, 3522, 3523, 3524, 3525, 3528, 3529, 3530, 3531, 3532, 3533, 3534, 3535, 3536, 3537, 3538, 3539, 3540, 3541, 3542, 3543, 3544, 3545, 3546, 3547, 3548, 3549, 3550, 3551, 3552, 3553, 3554, 3555, 3556, 3557, 3558, 3559, 3560, 3561, 3562, 3563, 3564, 3565, 3566, 3567, 3568, 3569, 3570, 3571, 3572, 3573, 3574, 3575, 3576, 3577, 3578, 3579, 3580, 3581, 3582, 3583, 3584, 3585, 3586, 3587, 3588, 3589, 3590, 3591, 3592, 3593, 3594, 3595, 3596, 3597, 3598, 3599, 3601, 3602, 3603, 3604, 3605, 3606, 3607, 3610, 3611, 3612, 3613, 3614, 3615, 3616, 3617, 3618, 3619, 3620, 3621, 3622, 3623, 3624, 3625, 3626, 3627, 3628, 3629, 3630, 3631, 3632, 3633, 3634, 3635, 3636, 3637, 3638, 3639, 3640, 3641, 3642, 3643, 3644, 3645, 3646, 3647, 3648, 3649, 3650, 3651, 3652, 3653, 3654, 3655, 3656, 3657, 3658, 3659, 3660, 3661, 3662, 3663, 3664, 3665, 3666, 3667, 3668, 3669, 3670, 3671, 3672, 3673, 3674, 3675, 3676, 3677, 3678, 3679, 3681, 3682, 3683, 3684, 3685, 3686, 3687, 3688, 3692, 3693, 3694, 3695, 3696, 3697, 3698, 3699, 3700, 3701, 3702, 3703, 3704, 3705, 3706, 3707, 3708, 3709, 3710, 3711, 3712, 3713, 3714, 3715, 3716, 3717, 3718, 3719, 3720, 3721, 3722, 3723, 3724, 3725, 3726, 3727, 3728, 3729, 3730, 3731, 3732, 3733, 3734, 3735, 3736, 3737, 3738, 3739, 3740, 3741, 3742, 3743, 3744, 3745, 3746, 3747, 3748, 3749, 3750, 3751, 3752, 3753, 3754, 3755, 3756, 3757, 3758, 3759, 3761, 3762, 3763, 3764, 3765, 3766, 3767, 3768, 3769, 3770, 3775, 3776, 3777, 3778, 3779, 3780, 3781, 3782, 3783, 3784, 3785, 3786, 3787, 3788, 3789, 3790, 3791, 3792, 3793, 3794, 3795, 3796, 3797, 3798, 3799, 3800, 3801, 3802, 3803, 3804, 3805, 3806, 3807, 3808, 3809, 3810, 3811, 3812, 3813, 3814, 3815, 3816, 3817, 3818, 3819, 3820, 3821, 3822, 3823, 3824, 3825, 3826, 3827, 3828, 3829, 3830, 3831, 3832, 3833, 3834, 3835, 3836, 3837, 3838, 3839, 3841, 3842, 3843, 3844, 3845, 3846, 3847, 3848, 3849, 3850, 3851, 3852, 3857, 3858, 3859, 3860, 3861, 3862, 3863, 3864, 3865, 3866, 3867, 3868, 3869, 3870, 3871, 3872, 3873, 3874, 3875, 3876, 3877, 3878, 3879, 3880, 3881, 3882, 3883, 3884, 3885, 3886, 3887, 3888, 3889, 3890, 3891, 3892, 3893, 3894, 3895, 3896, 3897, 3898, 3899, 3900, 3901, 3902, 3903, 3904, 3905, 3906, 3907, 3908, 3909, 3910, 3911, 3912, 3913, 3914, 3915, 3916, 3917, 3918, 3919, 3921, 3922, 3923, 3924, 3925, 3926, 3927, 3928, 3929, 3930, 3931, 3932, 3933, 3934, 3939, 3940, 3941, 3942, 3943, 3944, 3945, 3946, 3947, 3948, 3949, 3950, 3951, 3952, 3953, 3954, 3955, 3956, 3957, 3958, 3959, 3960, 3961, 3962, 3963, 3964, 3965, 3966, 3967, 3968, 3969, 3970, 3971, 3972, 3973, 3974, 3975, 3976, 3977, 3978, 3979, 3980, 3981, 3982, 3983, 3984, 3985, 3986, 3987, 3988, 3989, 3990, 3991, 3992, 3993, 3994, 3995, 3996, 3997, 3998, 3999, 4001, 4002, 4003, 4004, 4005, 4006, 4007, 4008, 4009, 4010, 4011, 4012, 4013, 4014, 4015, 4016, 4022, 4023, 4024, 4025, 4026, 4027, 4028, 4029, 4030, 4031, 4032, 4033, 4034, 4035, 4036, 4037, 4038, 4039, 4040, 4041, 4042, 4043, 4044, 4045, 4046, 4047, 4048, 4049, 4050, 4051, 4052, 4053, 4054, 4055, 4056, 4057, 4058, 4059, 4060, 4061, 4062, 4063, 4064, 4065, 4066, 4067, 4068, 4069, 4070, 4071, 4072, 4073, 4074, 4075, 4076, 4077, 4078, 4079, 4081, 4082, 4083, 4084, 4085, 4086, 4087, 4088, 4089, 4090, 4091, 4092, 4093, 4094, 4095, 4096, 4097, 4104, 4105, 4106, 4107, 4108, 4109, 4110, 4111, 4112, 4113, 4114, 4115, 4116, 4117, 4118, 4119, 4120, 4121, 4122, 4123, 4124, 4125, 4126, 4127, 4128, 4129, 4130, 4131, 4132, 4133, 4134, 4135, 4136, 4137, 4138, 4139, 4140, 4141, 4142, 4143, 4144, 4145, 4146, 4147, 4148, 4149, 4150, 4151, 4152, 4153, 4154, 4155, 4156, 4157, 4158, 4159, 4161, 4162, 4163, 4164, 4165, 4166, 4167, 4168, 4169, 4170, 4171, 4172, 4173, 4174, 4175, 4176, 4177, 4178, 4179, 4186, 4187, 4188, 4189, 4190, 4191, 4192, 4193, 4194, 4195, 4196, 4197, 4198, 4199, 4200, 4201, 4202, 4203, 4204, 4205, 4206, 4207, 4208, 4209, 4210, 4211, 4212, 4213, 4214, 4215, 4216, 4217, 4218, 4219, 4220, 4221, 4222, 4223, 4224, 4225, 4226, 4227, 4228, 4229, 4230, 4231, 4232, 4233, 4234, 4235, 4236, 4237, 4238, 4239, 4241, 4242, 4243, 4244, 4245, 4246, 4247, 4248, 4249, 4250, 4251, 4252, 4253, 4254, 4255, 4256, 4257, 4258, 4259, 4260, 4261, 4269, 4270, 4271, 4272, 4273, 4274, 4275, 4276, 4277, 4278, 4279, 4280, 4281, 4282, 4283, 4284, 4285, 4286, 4287, 4288, 4289, 4290, 4291, 4292, 4293, 4294, 4295, 4296, 4297, 4298, 4299, 4300, 4301, 4302, 4303, 4304, 4305, 4306, 4307, 4308, 4309, 4310, 4311, 4312, 4313, 4314, 4315, 4316, 4317, 4318, 4319, 4321, 4322, 4323, 4324, 4325, 4326, 4327, 4328, 4329, 4330, 4331, 4332, 4333, 4334, 4335, 4336, 4337, 4338, 4339, 4340, 4341, 4342, 4343, 4351, 4352, 4353, 4354, 4355, 4356, 4357, 4358, 4359, 4360, 4361, 4362, 4363, 4364, 4365, 4366, 4367, 4368, 4369, 4370, 4371, 4372, 4373, 4374, 4375, 4376, 4377, 4378, 4379, 4380, 4381, 4382, 4383, 4384, 4385, 4386, 4387, 4388, 4389, 4390, 4391, 4392, 4393, 4394, 4395, 4396, 4397, 4398, 4399, 4401, 4402, 4403, 4404, 4405, 4406, 4407, 4408, 4409, 4410, 4411, 4412, 4413, 4414, 4415, 4416, 4417, 4418, 4419, 4420, 4421, 4422, 4423, 4424, 4425, 4434, 4435, 4436, 4437, 4438, 4439, 4440, 4441, 4442, 4443, 4444, 4445, 4446, 4447, 4448, 4449, 4450, 4451, 4452, 4453, 4454, 4455, 4456, 4457, 4458, 4459, 4460, 4461, 4462, 4463, 4464, 4465, 4466, 4467, 4468, 4469, 4470, 4471, 4472, 4473, 4474, 4475, 4476, 4477, 4478, 4482, 4483, 4484, 4485, 4486, 4487, 4488, 4489, 4490, 4491, 4492, 4493, 4494, 4495, 4496, 4497, 4498, 4499, 4500, 4501, 4502, 4503, 4504, 4505, 4506, 4516, 4517, 4518, 4519, 4520, 4521, 4522, 4523, 4524, 4525, 4526, 4527, 4528, 4529, 4530, 4531, 4532, 4533, 4534, 4535, 4536, 4537, 4538, 4539, 4540, 4541, 4542, 4543, 4544, 4545, 4546, 4547, 4548, 4549, 4550, 4551, 4552, 4553, 4554, 4555, 4556, 4557, 4558, 4562, 4563, 4564, 4565, 4566, 4567, 4568, 4569, 4570, 4571, 4572, 4573, 4574, 4575, 4576, 4577, 4578, 4579, 4580, 4581, 4582, 4583, 4584, 4585, 4586, 4587, 4588, 4598, 4599, 4600, 4601, 4602, 4603, 4604, 4605, 4606, 4607, 4608, 4609, 4610, 4611, 4612, 4613, 4614, 4615, 4616, 4617, 4618, 4619, 4620, 4621, 4622, 4623, 4624, 4625, 4626, 4627, 4628, 4629, 4630, 4631, 4632, 4633, 4634, 4635, 4636, 4637, 4638, 4642, 4643, 4644, 4645, 4646, 4647, 4648, 4649, 4650, 4651, 4652, 4653, 4654, 4655, 4656, 4657, 4658, 4659, 4660, 4661, 4662, 4663, 4664, 4665, 4666, 4667, 4668, 4669, 4670, 4681, 4682, 4683, 4684, 4685, 4686, 4687, 4688, 4689, 4690, 4691, 4692, 4693, 4694, 4695, 4696, 4697, 4698, 4699, 4700, 4701, 4702, 4703, 4704, 4705, 4706, 4707, 4708, 4709, 4710, 4711, 4712, 4713, 4714, 4715, 4716, 4717, 4718, 4722, 4723, 4724, 4725, 4726, 4727, 4728, 4729, 4730, 4731, 4732, 4733, 4734, 4735, 4736, 4737, 4738, 4739, 4740, 4741, 4742, 4743, 4744, 4745, 4746, 4747, 4748, 4749, 4750, 4751, 4752, 4763, 4764, 4765, 4766, 4767, 4768, 4769, 4770, 4771, 4772, 4773, 4774, 4775, 4776, 4777, 4778, 4779, 4780, 4781, 4782, 4783, 4784, 4785, 4786, 4787, 4788, 4789, 4790, 4791, 4792, 4793, 4794, 4795, 4796, 4797, 4798, 4802, 4803, 4804, 4805, 4806, 4807, 4808, 4809, 4810, 4811, 4812, 4813, 4814, 4815, 4816, 4817, 4818, 4819, 4820, 4821, 4822, 4823, 4824, 4825, 4826, 4827, 4828, 4829, 4830, 4831, 4832, 4833, 4834, 4845, 4846, 4847, 4848, 4849, 4850, 4851, 4852, 4853, 4854, 4855, 4856, 4857, 4858, 4859, 4860, 4861, 4862, 4863, 4864, 4865, 4866, 4867, 4868, 4869, 4870, 4871, 4872, 4873, 4874, 4875, 4876, 4877, 4878, 4882, 4883, 4884, 4885, 4886, 4887, 4888, 4889, 4890, 4891, 4892, 4893, 4894, 4895, 4896, 4897, 4898, 4899, 4900, 4901, 4902, 4903, 4904, 4905, 4906, 4907, 4908, 4909, 4910, 4911, 4912, 4913, 4914, 4915, 4928, 4929, 4930, 4931, 4932, 4933, 4934, 4935, 4936, 4937, 4938, 4939, 4940, 4941, 4942, 4943, 4944, 4945, 4946, 4947, 4948, 4949, 4950, 4951, 4952, 4953, 4954, 4955, 4956, 4957, 4958, 4962, 4963, 4964, 4965, 4966, 4967, 4968, 4969, 4970, 4971, 4972, 4973, 4974, 4975, 4976, 4977, 4978, 4979, 4980, 4981, 4982, 4983, 4984, 4985, 4986, 4987, 4988, 4989, 4990, 4991, 4992, 4993, 4994, 4995, 4996, 4997, 5010, 5011, 5012, 5013, 5014, 5015, 5016, 5017, 5018, 5019, 5020, 5021, 5022, 5023, 5024, 5025, 5026, 5027, 5028, 5029, 5030, 5031, 5032, 5033, 5034, 5035, 5036, 5037, 5038, 5042, 5043, 5044, 5045, 5046, 5047, 5048, 5049, 5050, 5051, 5052, 5053, 5054, 5055, 5056, 5057, 5058, 5059, 5060, 5061, 5062, 5063, 5064, 5065, 5066, 5067, 5068, 5069, 5070, 5071, 5072, 5073, 5074, 5075, 5076, 5077, 5078, 5079, 5092, 5093, 5094, 5095, 5096, 5097, 5098, 5099, 5100, 5101, 5102, 5103, 5104, 5105, 5106, 5107, 5108, 5109, 5110, 5111, 5112, 5113, 5114, 5115, 5116, 5117, 5118, 5122, 5123, 5124, 5125, 5126, 5127, 5128, 5129, 5130, 5131, 5132, 5133, 5134, 5135, 5136, 5137, 5138, 5139, 5140, 5141, 5142, 5143, 5144, 5145, 5146, 5147, 5148, 5149, 5150, 5151, 5152, 5153, 5154, 5155, 5156, 5157, 5158, 5159, 5160, 5161, 5175, 5176, 5177, 5178, 5179, 5180, 5181, 5182, 5183, 5184, 5185, 5186, 5187, 5188, 5189, 5190, 5191, 5192, 5193, 5194, 5195, 5196, 5197, 5198, 5202, 5203, 5204, 5205, 5206, 5207, 5208, 5209, 5210, 5211, 5212, 5213, 5214, 5215, 5216, 5217, 5218, 5219, 5220, 5221, 5222, 5223, 5224, 5225, 5226, 5227, 5228, 5229, 5230, 5231, 5232, 5233, 5234, 5235, 5236, 5237, 5238, 5239, 5240, 5241, 5242, 5243, 5257, 5258, 5259, 5260, 5261, 5262, 5263, 5264, 5265, 5266, 5267, 5268, 5269, 5270, 5271, 5272, 5273, 5274, 5275, 5276, 5277, 5278, 5282, 5283, 5284, 5285, 5286, 5287, 5288, 5289, 5290, 5291, 5292, 5293, 5294, 5295, 5296, 5297, 5298, 5299, 5300, 5301, 5302, 5303, 5304, 5305, 5306, 5307, 5308, 5309, 5310, 5311, 5312, 5313, 5314, 5315, 5316, 5317, 5318, 5319, 5320, 5321, 5322, 5323, 5324, 5340, 5341, 5342, 5343, 5344, 5345, 5346, 5347, 5348, 5349, 5350, 5351, 5352, 5353, 5354, 5355, 5356, 5357, 5358, 5362, 5363, 5364, 5365, 5366, 5367, 5368, 5369, 5370, 5371, 5372, 5373, 5374, 5375, 5376, 5377, 5378, 5379, 5380, 5381, 5382, 5383, 5384, 5385, 5386, 5387, 5388, 5389, 5390, 5391, 5392, 5393, 5394, 5395, 5396, 5397, 5398, 5399, 5400, 5401, 5402, 5403, 5404, 5405, 5406, 5422, 5423, 5424, 5425, 5426, 5427, 5428, 5429, 5430, 5431, 5432, 5433, 5434, 5435, 5436, 5437, 5438, 5442, 5443, 5444, 5445, 5446, 5447, 5448, 5449, 5450, 5451, 5452, 5453, 5454, 5455, 5456, 5457, 5458, 5459, 5460, 5461, 5462, 5463, 5464, 5465, 5466, 5467, 5468, 5469, 5470, 5471, 5472, 5473, 5474, 5475, 5476, 5477, 5478, 5479, 5480, 5481, 5482, 5483, 5484, 5485, 5486, 5487, 5488, 5504, 5505, 5506, 5507, 5508, 5509, 5510, 5511, 5512, 5513, 5514, 5515, 5516, 5517, 5518, 5522, 5523, 5524, 5525, 5526, 5527, 5528, 5529, 5530, 5531, 5532, 5533, 5534, 5535, 5536, 5537, 5538, 5539, 5540, 5541, 5542, 5543, 5544, 5545, 5546, 5547, 5548, 5549, 5550, 5551, 5552, 5553, 5554, 5555, 5556, 5557, 5558, 5559, 5560, 5561, 5562, 5563, 5564, 5565, 5566, 5567, 5568, 5569, 5570, 5587, 5588, 5589, 5590, 5591, 5592, 5593, 5594, 5595, 5596, 5597, 5603, 5604, 5605, 5606, 5607, 5608, 5609, 5610, 5611, 5612, 5613, 5614, 5615, 5616, 5617, 5618, 5619, 5620, 5621, 5622, 5623, 5624, 5625, 5626, 5627, 5628, 5629, 5630, 5631, 5632, 5633, 5634, 5635, 5636, 5637, 5638, 5639, 5640, 5641, 5642, 5643, 5644, 5645, 5646, 5647, 5648, 5649, 5650, 5651, 5669, 5670, 5671, 5672, 5673, 5674, 5675, 5676, 5677, 5683, 5684, 5685, 5686, 5687, 5688, 5689, 5690, 5691, 5692, 5693, 5694, 5695, 5696, 5697, 5698, 5699, 5700, 5701, 5702, 5703, 5704, 5705, 5706, 5707, 5708, 5709, 5710, 5711, 5712, 5713, 5714, 5715, 5716, 5717, 5718, 5719, 5720, 5721, 5722, 5723, 5724, 5725, 5726, 5727, 5728, 5729, 5730, 5731, 5732, 5733, 5751, 5752, 5753, 5754, 5755, 5756, 5757, 5763, 5764, 5765, 5766, 5767, 5768, 5769, 5770, 5771, 5772, 5773, 5774, 5775, 5776, 5777, 5778, 5779, 5780, 5781, 5782, 5783, 5784, 5785, 5786, 5787, 5788, 5789, 5790, 5791, 5792, 5793, 5794, 5795, 5796, 5797, 5798, 5799, 5800, 5801, 5802, 5803, 5804, 5805, 5806, 5807, 5808, 5809, 5810, 5811, 5812, 5813, 5814, 5815, 5832, 5833, 5834, 5835, 5836, 5837, 5843, 5844, 5845, 5846, 5847, 5848, 5849, 5850, 5851, 5852, 5853, 5854, 5855, 5856, 5857, 5858, 5859, 5860, 5861, 5862, 5863, 5864, 5865, 5866, 5867, 5868, 5869, 5870, 5871, 5872, 5873, 5874, 5875, 5876, 5877, 5878, 5879, 5880, 5881, 5882, 5883, 5884, 5885, 5886, 5887, 5888, 5889, 5890, 5891, 5892, 5893, 5894, 5895, 5896, 5897, 5913, 5914, 5915, 5916, 5917, 5923, 5924, 5925, 5926, 5927, 5928, 5929, 5930, 5931, 5932, 5933, 5934, 5935, 5936, 5937, 5938, 5939, 5940, 5941, 5942, 5943, 5944, 5945, 5946, 5947, 5948, 5949, 5950, 5951, 5952, 5953, 5954, 5955, 5956, 5957, 5958, 5959, 5960, 5961, 5962, 5963, 5964, 5965, 5966, 5967, 5968, 5969, 5970, 5971, 5972, 5973, 5974, 5975, 5976, 5977, 5978, 5979, 5994, 5995, 5996, 5997, 6003, 6004, 6005, 6006, 6007, 6008, 6009, 6010, 6011, 6012, 6013, 6014, 6015, 6016, 6017, 6018, 6019, 6020, 6021, 6022, 6023, 6024, 6025, 6026, 6027, 6028, 6029, 6030, 6031, 6032, 6033, 6034, 6035, 6036, 6037, 6038, 6039, 6040, 6041, 6042, 6043, 6044, 6045, 6046, 6047, 6048, 6049, 6050, 6051, 6052, 6053, 6054, 6055, 6056, 6057, 6058, 6059, 6060, 6075, 6076, 6077, 6083, 6084, 6085, 6086, 6087, 6088, 6089, 6090, 6091, 6092, 6093, 6094, 6095, 6096, 6097, 6098, 6099, 6100, 6101, 6102, 6103, 6104, 6105, 6106, 6107, 6108, 6109, 6110, 6111, 6112, 6113, 6114, 6115, 6116, 6117, 6118, 6119, 6120, 6121, 6122, 6123, 6124, 6125, 6126, 6127, 6128, 6129, 6130, 6131, 6132, 6133, 6134, 6135, 6136, 6137, 6138, 6139, 6140, 6141, 6142, 6156, 6157, 6163, 6164, 6165, 6166, 6167, 6168, 6169, 6170, 6171, 6172, 6173, 6174, 6175, 6176, 6177, 6178, 6179, 6180, 6181, 6182, 6183, 6184, 6185, 6186, 6187, 6188, 6189, 6190, 6191, 6192, 6193, 6194, 6195, 6196, 6197, 6198, 6199, 6200, 6201, 6202, 6203, 6204, 6205, 6206, 6207, 6208, 6209, 6210, 6211, 6212, 6213, 6214, 6215, 6216, 6217, 6218, 6219, 6220, 6221, 6222, 6223, 6224, 6237, 6243, 6244, 6245, 6246, 6247, 6248, 6249, 6250, 6251, 6252, 6253, 6254, 6255, 6256, 6257, 6258, 6259, 6260, 6261, 6262, 6263, 6264, 6265, 6266, 6267, 6268, 6269, 6270, 6271, 6272, 6273, 6274, 6275, 6276, 6277, 6278, 6279, 6280, 6281, 6282, 6283, 6284, 6285, 6286, 6287, 6288, 6289, 6290, 6291, 6292, 6293, 6294, 6295, 6296, 6297, 6298, 6299, 6300, 6301, 6302, 6303, 6304, 6305, 6306, 6323, 6324, 6325, 6326, 6327, 6328, 6329, 6330, 6331, 6332, 6333, 6334, 6335, 6336, 6337, 6338, 6339, 6340, 6341, 6342, 6343, 6344, 6345, 6346, 6347, 6348, 6349, 6350, 6351, 6352, 6353, 6354, 6355, 6356, 6357, 6358, 6359, 6360, 6361, 6362, 6363, 6364, 6365, 6366, 6367, 6368, 6369, 6370, 6371, 6372, 6373, 6374, 6375, 6376, 6377, 6378, 6379, 6380, 6381, 6382, 6383, 6384, 6385, 6386, 6387, 6388, 6403, 6404, 6405, 6406, 6407, 6408, 6409, 6410, 6411, 6412, 6413, 6414, 6415, 6416, 6417, 6418, 6419, 6420, 6421, 6422, 6423, 6424, 6425, 6426, 6427, 6428, 6429, 6430, 6431, 6432, 6433, 6434, 6435, 6436, 6437, 6438, 6439, 6440, 6441, 6442, 6443, 6444, 6445, 6446, 6447, 6448, 6449, 6450, 6451, 6452, 6453, 6454, 6455, 6456, 6457, 6458, 6459, 6460, 6461, 6462, 6463, 6464, 6465, 6466, 6467, 6468, 6469, 6483, 6484, 6485, 6486, 6487, 6488, 6489, 6490, 6491, 6492, 6493, 6494, 6495, 6496, 6497, 6498, 6499, 6500, 6501, 6502, 6503, 6504, 6505, 6506, 6507, 6508, 6509, 6510, 6511, 6512, 6513, 6514, 6515, 6516, 6517, 6518, 6519, 6520, 6521, 6522, 6523, 6524, 6525, 6526, 6527, 6528, 6529, 6530, 6531, 6532, 6533, 6534, 6535, 6536, 6537, 6538, 6539, 6540, 6541, 6542, 6543, 6544, 6545, 6546, 6547, 6548, 6549, 6550, 6551]\n",
      "val ids:  []\n",
      "test ids:  [0, 1, 2, 3, 4, 5, 6, 7, 8, 78, 79, 80, 81, 82, 83, 84, 85, 86, 87, 88, 89, 90, 158, 159, 160, 161, 162, 163, 164, 165, 166, 167, 168, 169, 170, 171, 238, 239, 240, 241, 242, 243, 244, 245, 246, 247, 248, 249, 250, 251, 252, 253, 318, 319, 320, 321, 322, 324, 325, 326, 327, 328, 329, 330, 331, 332, 333, 334, 335, 398, 399, 400, 401, 402, 405, 406, 407, 408, 409, 410, 411, 412, 413, 414, 415, 416, 417, 478, 479, 480, 481, 482, 486, 487, 488, 489, 490, 491, 492, 493, 494, 495, 496, 497, 498, 499, 558, 559, 560, 561, 562, 567, 568, 569, 570, 571, 572, 573, 574, 575, 576, 577, 578, 579, 580, 638, 639, 640, 641, 642, 648, 649, 650, 651, 652, 653, 654, 655, 656, 657, 658, 659, 660, 661, 662, 718, 719, 720, 721, 722, 729, 730, 731, 732, 733, 734, 735, 736, 737, 738, 739, 740, 741, 742, 743, 744, 798, 799, 800, 801, 802, 810, 811, 812, 813, 814, 815, 816, 817, 818, 819, 820, 821, 822, 823, 824, 825, 826, 878, 879, 880, 881, 882, 892, 893, 894, 895, 896, 897, 898, 899, 900, 901, 902, 903, 904, 905, 906, 907, 908, 958, 959, 960, 961, 962, 974, 975, 976, 977, 978, 979, 980, 981, 982, 983, 984, 985, 986, 987, 988, 989, 1039, 1040, 1041, 1057, 1058, 1059, 1060, 1061, 1062, 1063, 1064, 1065, 1066, 1067, 1068, 1069, 1070, 1071, 1119, 1120, 1121, 1139, 1140, 1141, 1142, 1143, 1144, 1145, 1146, 1147, 1148, 1149, 1150, 1151, 1152, 1153, 1199, 1200, 1201, 1221, 1222, 1223, 1224, 1225, 1226, 1227, 1228, 1229, 1230, 1231, 1232, 1233, 1234, 1235, 1279, 1280, 1281, 1304, 1305, 1306, 1307, 1308, 1309, 1310, 1311, 1312, 1313, 1314, 1315, 1316, 1359, 1360, 1361, 1386, 1387, 1388, 1389, 1390, 1391, 1392, 1393, 1394, 1395, 1396, 1397, 1398, 1439, 1440, 1441, 1469, 1470, 1471, 1472, 1473, 1474, 1475, 1476, 1477, 1478, 1479, 1480, 1519, 1520, 1521, 1551, 1552, 1553, 1554, 1555, 1556, 1557, 1558, 1559, 1560, 1561, 1562, 1599, 1600, 1601, 1633, 1634, 1635, 1636, 1637, 1638, 1639, 1640, 1641, 1642, 1643, 1644, 1679, 1680, 1681, 1716, 1717, 1718, 1719, 1720, 1721, 1722, 1723, 1724, 1725, 1759, 1760, 1761, 1798, 1799, 1800, 1801, 1802, 1803, 1804, 1805, 1806, 1807, 1839, 1840, 1841, 1880, 1881, 1882, 1883, 1884, 1885, 1886, 1887, 1888, 1889, 1919, 1920, 1921, 1963, 1964, 1965, 1966, 1967, 1968, 1969, 1970, 1971, 1999, 2000, 2001, 2045, 2046, 2047, 2048, 2049, 2050, 2051, 2052, 2053, 2079, 2080, 2081, 2127, 2128, 2129, 2130, 2131, 2132, 2133, 2134, 2160, 2210, 2211, 2212, 2213, 2214, 2215, 2216, 2240, 2292, 2293, 2294, 2295, 2296, 2297, 2298, 2320, 2375, 2376, 2377, 2378, 2379, 2380, 2400, 2457, 2458, 2459, 2460, 2461, 2462, 2480, 2539, 2540, 2541, 2542, 2543, 2560, 2622, 2623, 2624, 2625, 2640, 2704, 2705, 2706, 2707, 2720, 2786, 2787, 2788, 2789, 2800, 2869, 2870, 2871, 2880, 2951, 2952, 2960, 3033, 3034, 3040, 3116, 3120, 3198, 3200, 3280, 3360, 3362, 3440, 3444, 3520, 3526, 3527, 3600, 3608, 3609, 3680, 3689, 3690, 3691, 3760, 3771, 3772, 3773, 3774, 3840, 3853, 3854, 3855, 3856, 3920, 3935, 3936, 3937, 3938, 4000, 4017, 4018, 4019, 4020, 4021, 4080, 4098, 4099, 4100, 4101, 4102, 4103, 4160, 4180, 4181, 4182, 4183, 4184, 4185, 4240, 4262, 4263, 4264, 4265, 4266, 4267, 4268, 4320, 4344, 4345, 4346, 4347, 4348, 4349, 4350, 4400, 4426, 4427, 4428, 4429, 4430, 4431, 4432, 4433, 4479, 4480, 4481, 4507, 4508, 4509, 4510, 4511, 4512, 4513, 4514, 4515, 4559, 4560, 4561, 4589, 4590, 4591, 4592, 4593, 4594, 4595, 4596, 4597, 4639, 4640, 4641, 4671, 4672, 4673, 4674, 4675, 4676, 4677, 4678, 4679, 4680, 4719, 4720, 4721, 4753, 4754, 4755, 4756, 4757, 4758, 4759, 4760, 4761, 4762, 4799, 4800, 4801, 4835, 4836, 4837, 4838, 4839, 4840, 4841, 4842, 4843, 4844, 4879, 4880, 4881, 4916, 4917, 4918, 4919, 4920, 4921, 4922, 4923, 4924, 4925, 4926, 4927, 4959, 4960, 4961, 4998, 4999, 5000, 5001, 5002, 5003, 5004, 5005, 5006, 5007, 5008, 5009, 5039, 5040, 5041, 5080, 5081, 5082, 5083, 5084, 5085, 5086, 5087, 5088, 5089, 5090, 5091, 5119, 5120, 5121, 5162, 5163, 5164, 5165, 5166, 5167, 5168, 5169, 5170, 5171, 5172, 5173, 5174, 5199, 5200, 5201, 5244, 5245, 5246, 5247, 5248, 5249, 5250, 5251, 5252, 5253, 5254, 5255, 5256, 5279, 5280, 5281, 5325, 5326, 5327, 5328, 5329, 5330, 5331, 5332, 5333, 5334, 5335, 5336, 5337, 5338, 5339, 5359, 5360, 5361, 5407, 5408, 5409, 5410, 5411, 5412, 5413, 5414, 5415, 5416, 5417, 5418, 5419, 5420, 5421, 5439, 5440, 5441, 5489, 5490, 5491, 5492, 5493, 5494, 5495, 5496, 5497, 5498, 5499, 5500, 5501, 5502, 5503, 5519, 5520, 5521, 5571, 5572, 5573, 5574, 5575, 5576, 5577, 5578, 5579, 5580, 5581, 5582, 5583, 5584, 5585, 5586, 5598, 5599, 5600, 5601, 5602, 5652, 5653, 5654, 5655, 5656, 5657, 5658, 5659, 5660, 5661, 5662, 5663, 5664, 5665, 5666, 5667, 5668, 5678, 5679, 5680, 5681, 5682, 5734, 5735, 5736, 5737, 5738, 5739, 5740, 5741, 5742, 5743, 5744, 5745, 5746, 5747, 5748, 5749, 5750, 5758, 5759, 5760, 5761, 5762, 5816, 5817, 5818, 5819, 5820, 5821, 5822, 5823, 5824, 5825, 5826, 5827, 5828, 5829, 5830, 5831, 5838, 5839, 5840, 5841, 5842, 5898, 5899, 5900, 5901, 5902, 5903, 5904, 5905, 5906, 5907, 5908, 5909, 5910, 5911, 5912, 5918, 5919, 5920, 5921, 5922, 5980, 5981, 5982, 5983, 5984, 5985, 5986, 5987, 5988, 5989, 5990, 5991, 5992, 5993, 5998, 5999, 6000, 6001, 6002, 6061, 6062, 6063, 6064, 6065, 6066, 6067, 6068, 6069, 6070, 6071, 6072, 6073, 6074, 6078, 6079, 6080, 6081, 6082, 6143, 6144, 6145, 6146, 6147, 6148, 6149, 6150, 6151, 6152, 6153, 6154, 6155, 6158, 6159, 6160, 6161, 6162, 6225, 6226, 6227, 6228, 6229, 6230, 6231, 6232, 6233, 6234, 6235, 6236, 6238, 6239, 6240, 6241, 6242, 6307, 6308, 6309, 6310, 6311, 6312, 6313, 6314, 6315, 6316, 6317, 6318, 6319, 6320, 6321, 6322, 6389, 6390, 6391, 6392, 6393, 6394, 6395, 6396, 6397, 6398, 6399, 6400, 6401, 6402, 6470, 6471, 6472, 6473, 6474, 6475, 6476, 6477, 6478, 6479, 6480, 6481, 6482, 6552, 6553, 6554, 6555, 6556, 6557, 6558, 6559, 6560]\n",
      "CPU times: user 164 ms, sys: 19.9 ms, total: 184 ms\n",
      "Wall time: 183 ms\n"
     ]
    }
   ],
   "source": [
    "%%time\n",
    "n_total = len(simulation.dataframe)\n",
    "n_train = len(simulation.dataframe[simulation.dataframe.type_of == \"train\"])\n",
    "n_val = len(simulation.dataframe[simulation.dataframe.type_of == \"val\"])\n",
    "n_test = len(simulation.dataframe[simulation.dataframe.type_of == \"test\"])\n",
    "n_train_hamiltonians = len(simulation.train_ids)\n",
    "n_val_hamiltonians = len(simulation.val_ids)\n",
    "n_test_hamiltonians = len(simulation.test_ids)\n",
    "n_total_hamiltonians = n_train_hamiltonians + n_val_hamiltonians + n_test_hamiltonians\n",
    "\n",
    "print(\"% train: \", n_train/n_total)\n",
    "print(\"% val: \",  n_val/n_total)\n",
    "print(\"% test: \", n_test/n_total)\n",
    "print(\"% train + val + test: \", (n_train+n_val+n_test)/n_total)\n",
    "print(\"\\n\")\n",
    "print(\"number of train hamiltonians: \", n_train_hamiltonians)\n",
    "print(\"number of val hamiltonians: \", n_val_hamiltonians)\n",
    "print(\"number of test hamiltonians: \", n_test_hamiltonians)\n",
    "print(\"total number of hamiltonians: \", n_total_hamiltonians)\n",
    "print(\"\\n\")\n",
    "print(\"train ids: \", simulation.train_ids)\n",
    "print(\"val ids: \", simulation.val_ids)\n",
    "print(\"test ids: \", simulation.test_ids)"
   ]
  },
  {
   "cell_type": "markdown",
   "metadata": {
    "papermill": {
     "duration": 0.020866,
     "end_time": "2020-07-18T05:34:07.118728",
     "exception": false,
     "start_time": "2020-07-18T05:34:07.097862",
     "status": "completed"
    },
    "tags": []
   },
   "source": [
    "## Running a simulation"
   ]
  },
  {
   "cell_type": "code",
   "execution_count": 27,
   "metadata": {
    "execution": {
     "iopub.execute_input": "2020-07-18T05:34:07.158225Z",
     "iopub.status.busy": "2020-07-18T05:34:07.157909Z",
     "iopub.status.idle": "2020-07-18T05:36:38.342952Z",
     "shell.execute_reply": "2020-07-18T05:36:38.342638Z"
    },
    "papermill": {
     "duration": 151.205448,
     "end_time": "2020-07-18T05:36:38.343004",
     "exception": false,
     "start_time": "2020-07-18T05:34:07.137556",
     "status": "completed"
    },
    "tags": []
   },
   "outputs": [
    {
     "name": "stderr",
     "output_type": "stream",
     "text": [
      "\r",
      "running experiments:   0%|          | 0/100 [00:00<?, ?it/s]"
     ]
    },
    {
     "name": "stdout",
     "output_type": "stream",
     "text": [
      "Simulation mode:  dct\n"
     ]
    },
    {
     "name": "stderr",
     "output_type": "stream",
     "text": [
      "\r",
      "running experiments:   1%|          | 1/100 [00:01<02:28,  1.50s/it]"
     ]
    },
    {
     "name": "stderr",
     "output_type": "stream",
     "text": [
      "\r",
      "running experiments:   2%|▏         | 2/100 [00:03<02:27,  1.50s/it]"
     ]
    },
    {
     "name": "stderr",
     "output_type": "stream",
     "text": [
      "\r",
      "running experiments:   3%|▎         | 3/100 [00:04<02:25,  1.51s/it]"
     ]
    },
    {
     "name": "stderr",
     "output_type": "stream",
     "text": [
      "\r",
      "running experiments:   4%|▍         | 4/100 [00:06<02:24,  1.50s/it]"
     ]
    },
    {
     "name": "stderr",
     "output_type": "stream",
     "text": [
      "\r",
      "running experiments:   5%|▌         | 5/100 [00:07<02:22,  1.50s/it]"
     ]
    },
    {
     "name": "stderr",
     "output_type": "stream",
     "text": [
      "\r",
      "running experiments:   6%|▌         | 6/100 [00:09<02:21,  1.51s/it]"
     ]
    },
    {
     "name": "stderr",
     "output_type": "stream",
     "text": [
      "\r",
      "running experiments:   7%|▋         | 7/100 [00:10<02:21,  1.52s/it]"
     ]
    },
    {
     "name": "stderr",
     "output_type": "stream",
     "text": [
      "\r",
      "running experiments:   8%|▊         | 8/100 [00:12<02:20,  1.53s/it]"
     ]
    },
    {
     "name": "stderr",
     "output_type": "stream",
     "text": [
      "\r",
      "running experiments:   9%|▉         | 9/100 [00:13<02:19,  1.54s/it]"
     ]
    },
    {
     "name": "stderr",
     "output_type": "stream",
     "text": [
      "\r",
      "running experiments:  10%|█         | 10/100 [00:15<02:18,  1.54s/it]"
     ]
    },
    {
     "name": "stderr",
     "output_type": "stream",
     "text": [
      "\r",
      "running experiments:  11%|█         | 11/100 [00:16<02:16,  1.53s/it]"
     ]
    },
    {
     "name": "stderr",
     "output_type": "stream",
     "text": [
      "\r",
      "running experiments:  12%|█▏        | 12/100 [00:18<02:15,  1.54s/it]"
     ]
    },
    {
     "name": "stderr",
     "output_type": "stream",
     "text": [
      "\r",
      "running experiments:  13%|█▎        | 13/100 [00:19<02:12,  1.52s/it]"
     ]
    },
    {
     "name": "stderr",
     "output_type": "stream",
     "text": [
      "\r",
      "running experiments:  14%|█▍        | 14/100 [00:21<02:10,  1.51s/it]"
     ]
    },
    {
     "name": "stderr",
     "output_type": "stream",
     "text": [
      "\r",
      "running experiments:  15%|█▌        | 15/100 [00:22<02:08,  1.51s/it]"
     ]
    },
    {
     "name": "stderr",
     "output_type": "stream",
     "text": [
      "\r",
      "running experiments:  16%|█▌        | 16/100 [00:24<02:06,  1.50s/it]"
     ]
    },
    {
     "name": "stderr",
     "output_type": "stream",
     "text": [
      "\r",
      "running experiments:  17%|█▋        | 17/100 [00:25<02:05,  1.51s/it]"
     ]
    },
    {
     "name": "stderr",
     "output_type": "stream",
     "text": [
      "\r",
      "running experiments:  18%|█▊        | 18/100 [00:27<02:06,  1.54s/it]"
     ]
    },
    {
     "name": "stderr",
     "output_type": "stream",
     "text": [
      "\r",
      "running experiments:  19%|█▉        | 19/100 [00:28<02:04,  1.54s/it]"
     ]
    },
    {
     "name": "stderr",
     "output_type": "stream",
     "text": [
      "\r",
      "running experiments:  20%|██        | 20/100 [00:30<02:02,  1.53s/it]"
     ]
    },
    {
     "name": "stderr",
     "output_type": "stream",
     "text": [
      "\r",
      "running experiments:  21%|██        | 21/100 [00:31<01:59,  1.52s/it]"
     ]
    },
    {
     "name": "stderr",
     "output_type": "stream",
     "text": [
      "\r",
      "running experiments:  22%|██▏       | 22/100 [00:33<01:57,  1.51s/it]"
     ]
    },
    {
     "name": "stderr",
     "output_type": "stream",
     "text": [
      "\r",
      "running experiments:  23%|██▎       | 23/100 [00:34<01:55,  1.51s/it]"
     ]
    },
    {
     "name": "stderr",
     "output_type": "stream",
     "text": [
      "\r",
      "running experiments:  24%|██▍       | 24/100 [00:36<01:54,  1.50s/it]"
     ]
    },
    {
     "name": "stderr",
     "output_type": "stream",
     "text": [
      "\r",
      "running experiments:  25%|██▌       | 25/100 [00:37<01:52,  1.51s/it]"
     ]
    },
    {
     "name": "stderr",
     "output_type": "stream",
     "text": [
      "\r",
      "running experiments:  26%|██▌       | 26/100 [00:39<01:51,  1.51s/it]"
     ]
    },
    {
     "name": "stderr",
     "output_type": "stream",
     "text": [
      "\r",
      "running experiments:  27%|██▋       | 27/100 [00:40<01:50,  1.51s/it]"
     ]
    },
    {
     "name": "stderr",
     "output_type": "stream",
     "text": [
      "\r",
      "running experiments:  28%|██▊       | 28/100 [00:42<01:50,  1.54s/it]"
     ]
    },
    {
     "name": "stderr",
     "output_type": "stream",
     "text": [
      "\r",
      "running experiments:  29%|██▉       | 29/100 [00:44<01:48,  1.53s/it]"
     ]
    },
    {
     "name": "stderr",
     "output_type": "stream",
     "text": [
      "\r",
      "running experiments:  30%|███       | 30/100 [00:45<01:46,  1.52s/it]"
     ]
    },
    {
     "name": "stderr",
     "output_type": "stream",
     "text": [
      "\r",
      "running experiments:  31%|███       | 31/100 [00:47<01:44,  1.52s/it]"
     ]
    },
    {
     "name": "stderr",
     "output_type": "stream",
     "text": [
      "\r",
      "running experiments:  32%|███▏      | 32/100 [00:48<01:43,  1.52s/it]"
     ]
    },
    {
     "name": "stderr",
     "output_type": "stream",
     "text": [
      "\r",
      "running experiments:  33%|███▎      | 33/100 [00:50<01:41,  1.51s/it]"
     ]
    },
    {
     "name": "stderr",
     "output_type": "stream",
     "text": [
      "\r",
      "running experiments:  34%|███▍      | 34/100 [00:51<01:39,  1.51s/it]"
     ]
    },
    {
     "name": "stderr",
     "output_type": "stream",
     "text": [
      "\r",
      "running experiments:  35%|███▌      | 35/100 [00:53<01:37,  1.50s/it]"
     ]
    },
    {
     "name": "stderr",
     "output_type": "stream",
     "text": [
      "\r",
      "running experiments:  36%|███▌      | 36/100 [00:54<01:36,  1.50s/it]"
     ]
    },
    {
     "name": "stderr",
     "output_type": "stream",
     "text": [
      "\r",
      "running experiments:  37%|███▋      | 37/100 [00:56<01:34,  1.51s/it]"
     ]
    },
    {
     "name": "stderr",
     "output_type": "stream",
     "text": [
      "\r",
      "running experiments:  38%|███▊      | 38/100 [00:57<01:33,  1.50s/it]"
     ]
    },
    {
     "name": "stderr",
     "output_type": "stream",
     "text": [
      "\r",
      "running experiments:  39%|███▉      | 39/100 [00:59<01:31,  1.51s/it]"
     ]
    },
    {
     "name": "stderr",
     "output_type": "stream",
     "text": [
      "\r",
      "running experiments:  40%|████      | 40/100 [01:00<01:30,  1.50s/it]"
     ]
    },
    {
     "name": "stderr",
     "output_type": "stream",
     "text": [
      "\r",
      "running experiments:  41%|████      | 41/100 [01:02<01:29,  1.51s/it]"
     ]
    },
    {
     "name": "stderr",
     "output_type": "stream",
     "text": [
      "\r",
      "running experiments:  42%|████▏     | 42/100 [01:03<01:28,  1.53s/it]"
     ]
    },
    {
     "name": "stderr",
     "output_type": "stream",
     "text": [
      "\r",
      "running experiments:  43%|████▎     | 43/100 [01:05<01:26,  1.52s/it]"
     ]
    },
    {
     "name": "stderr",
     "output_type": "stream",
     "text": [
      "\r",
      "running experiments:  44%|████▍     | 44/100 [01:06<01:24,  1.52s/it]"
     ]
    },
    {
     "name": "stderr",
     "output_type": "stream",
     "text": [
      "\r",
      "running experiments:  45%|████▌     | 45/100 [01:08<01:22,  1.50s/it]"
     ]
    },
    {
     "name": "stderr",
     "output_type": "stream",
     "text": [
      "\r",
      "running experiments:  46%|████▌     | 46/100 [01:09<01:20,  1.50s/it]"
     ]
    },
    {
     "name": "stderr",
     "output_type": "stream",
     "text": [
      "\r",
      "running experiments:  47%|████▋     | 47/100 [01:11<01:19,  1.50s/it]"
     ]
    },
    {
     "name": "stderr",
     "output_type": "stream",
     "text": [
      "\r",
      "running experiments:  48%|████▊     | 48/100 [01:12<01:17,  1.49s/it]"
     ]
    },
    {
     "name": "stderr",
     "output_type": "stream",
     "text": [
      "\r",
      "running experiments:  49%|████▉     | 49/100 [01:14<01:18,  1.55s/it]"
     ]
    },
    {
     "name": "stderr",
     "output_type": "stream",
     "text": [
      "\r",
      "running experiments:  50%|█████     | 50/100 [01:15<01:17,  1.55s/it]"
     ]
    },
    {
     "name": "stderr",
     "output_type": "stream",
     "text": [
      "\r",
      "running experiments:  51%|█████     | 51/100 [01:17<01:15,  1.55s/it]"
     ]
    },
    {
     "name": "stderr",
     "output_type": "stream",
     "text": [
      "\r",
      "running experiments:  52%|█████▏    | 52/100 [01:18<01:14,  1.54s/it]"
     ]
    },
    {
     "name": "stderr",
     "output_type": "stream",
     "text": [
      "\r",
      "running experiments:  53%|█████▎    | 53/100 [01:20<01:12,  1.54s/it]"
     ]
    },
    {
     "name": "stderr",
     "output_type": "stream",
     "text": [
      "\r",
      "running experiments:  54%|█████▍    | 54/100 [01:22<01:11,  1.54s/it]"
     ]
    },
    {
     "name": "stderr",
     "output_type": "stream",
     "text": [
      "\r",
      "running experiments:  55%|█████▌    | 55/100 [01:23<01:08,  1.52s/it]"
     ]
    },
    {
     "name": "stderr",
     "output_type": "stream",
     "text": [
      "\r",
      "running experiments:  56%|█████▌    | 56/100 [01:25<01:06,  1.52s/it]"
     ]
    },
    {
     "name": "stderr",
     "output_type": "stream",
     "text": [
      "\r",
      "running experiments:  57%|█████▋    | 57/100 [01:26<01:05,  1.51s/it]"
     ]
    },
    {
     "name": "stderr",
     "output_type": "stream",
     "text": [
      "\r",
      "running experiments:  58%|█████▊    | 58/100 [01:28<01:03,  1.51s/it]"
     ]
    },
    {
     "name": "stderr",
     "output_type": "stream",
     "text": [
      "\r",
      "running experiments:  59%|█████▉    | 59/100 [01:29<01:01,  1.51s/it]"
     ]
    },
    {
     "name": "stderr",
     "output_type": "stream",
     "text": [
      "\r",
      "running experiments:  60%|██████    | 60/100 [01:31<01:00,  1.50s/it]"
     ]
    },
    {
     "name": "stderr",
     "output_type": "stream",
     "text": [
      "\r",
      "running experiments:  61%|██████    | 61/100 [01:32<00:58,  1.50s/it]"
     ]
    },
    {
     "name": "stderr",
     "output_type": "stream",
     "text": [
      "\r",
      "running experiments:  62%|██████▏   | 62/100 [01:34<00:56,  1.50s/it]"
     ]
    },
    {
     "name": "stderr",
     "output_type": "stream",
     "text": [
      "\r",
      "running experiments:  63%|██████▎   | 63/100 [01:35<00:55,  1.49s/it]"
     ]
    },
    {
     "name": "stderr",
     "output_type": "stream",
     "text": [
      "\r",
      "running experiments:  64%|██████▍   | 64/100 [01:37<00:53,  1.50s/it]"
     ]
    },
    {
     "name": "stderr",
     "output_type": "stream",
     "text": [
      "\r",
      "running experiments:  65%|██████▌   | 65/100 [01:38<00:52,  1.50s/it]"
     ]
    },
    {
     "name": "stderr",
     "output_type": "stream",
     "text": [
      "\r",
      "running experiments:  66%|██████▌   | 66/100 [01:40<00:50,  1.50s/it]"
     ]
    },
    {
     "name": "stderr",
     "output_type": "stream",
     "text": [
      "\r",
      "running experiments:  67%|██████▋   | 67/100 [01:41<00:49,  1.51s/it]"
     ]
    },
    {
     "name": "stderr",
     "output_type": "stream",
     "text": [
      "\r",
      "running experiments:  68%|██████▊   | 68/100 [01:43<00:48,  1.50s/it]"
     ]
    },
    {
     "name": "stderr",
     "output_type": "stream",
     "text": [
      "\r",
      "running experiments:  69%|██████▉   | 69/100 [01:44<00:46,  1.51s/it]"
     ]
    },
    {
     "name": "stderr",
     "output_type": "stream",
     "text": [
      "\r",
      "running experiments:  70%|███████   | 70/100 [01:46<00:45,  1.51s/it]"
     ]
    },
    {
     "name": "stderr",
     "output_type": "stream",
     "text": [
      "\r",
      "running experiments:  71%|███████   | 71/100 [01:47<00:44,  1.53s/it]"
     ]
    },
    {
     "name": "stderr",
     "output_type": "stream",
     "text": [
      "\r",
      "running experiments:  72%|███████▏  | 72/100 [01:49<00:42,  1.52s/it]"
     ]
    },
    {
     "name": "stderr",
     "output_type": "stream",
     "text": [
      "\r",
      "running experiments:  73%|███████▎  | 73/100 [01:50<00:41,  1.52s/it]"
     ]
    },
    {
     "name": "stderr",
     "output_type": "stream",
     "text": [
      "\r",
      "running experiments:  74%|███████▍  | 74/100 [01:52<00:39,  1.54s/it]"
     ]
    },
    {
     "name": "stderr",
     "output_type": "stream",
     "text": [
      "\r",
      "running experiments:  75%|███████▌  | 75/100 [01:53<00:38,  1.55s/it]"
     ]
    },
    {
     "name": "stderr",
     "output_type": "stream",
     "text": [
      "\r",
      "running experiments:  76%|███████▌  | 76/100 [01:55<00:37,  1.56s/it]"
     ]
    },
    {
     "name": "stderr",
     "output_type": "stream",
     "text": [
      "\r",
      "running experiments:  77%|███████▋  | 77/100 [01:56<00:35,  1.53s/it]"
     ]
    },
    {
     "name": "stderr",
     "output_type": "stream",
     "text": [
      "\r",
      "running experiments:  78%|███████▊  | 78/100 [01:58<00:33,  1.52s/it]"
     ]
    },
    {
     "name": "stderr",
     "output_type": "stream",
     "text": [
      "\r",
      "running experiments:  79%|███████▉  | 79/100 [01:59<00:31,  1.51s/it]"
     ]
    },
    {
     "name": "stderr",
     "output_type": "stream",
     "text": [
      "\r",
      "running experiments:  80%|████████  | 80/100 [02:01<00:30,  1.51s/it]"
     ]
    },
    {
     "name": "stderr",
     "output_type": "stream",
     "text": [
      "\r",
      "running experiments:  81%|████████  | 81/100 [02:02<00:28,  1.50s/it]"
     ]
    },
    {
     "name": "stderr",
     "output_type": "stream",
     "text": [
      "\r",
      "running experiments:  82%|████████▏ | 82/100 [02:04<00:26,  1.50s/it]"
     ]
    },
    {
     "name": "stderr",
     "output_type": "stream",
     "text": [
      "\r",
      "running experiments:  83%|████████▎ | 83/100 [02:05<00:25,  1.49s/it]"
     ]
    },
    {
     "name": "stderr",
     "output_type": "stream",
     "text": [
      "\r",
      "running experiments:  84%|████████▍ | 84/100 [02:07<00:23,  1.49s/it]"
     ]
    },
    {
     "name": "stderr",
     "output_type": "stream",
     "text": [
      "\r",
      "running experiments:  85%|████████▌ | 85/100 [02:08<00:22,  1.49s/it]"
     ]
    },
    {
     "name": "stderr",
     "output_type": "stream",
     "text": [
      "\r",
      "running experiments:  86%|████████▌ | 86/100 [02:10<00:20,  1.49s/it]"
     ]
    },
    {
     "name": "stderr",
     "output_type": "stream",
     "text": [
      "\r",
      "running experiments:  87%|████████▋ | 87/100 [02:11<00:19,  1.49s/it]"
     ]
    },
    {
     "name": "stderr",
     "output_type": "stream",
     "text": [
      "\r",
      "running experiments:  88%|████████▊ | 88/100 [02:13<00:17,  1.49s/it]"
     ]
    },
    {
     "name": "stderr",
     "output_type": "stream",
     "text": [
      "\r",
      "running experiments:  89%|████████▉ | 89/100 [02:14<00:16,  1.49s/it]"
     ]
    },
    {
     "name": "stderr",
     "output_type": "stream",
     "text": [
      "\r",
      "running experiments:  90%|█████████ | 90/100 [02:16<00:14,  1.49s/it]"
     ]
    },
    {
     "name": "stderr",
     "output_type": "stream",
     "text": [
      "\r",
      "running experiments:  91%|█████████ | 91/100 [02:17<00:13,  1.49s/it]"
     ]
    },
    {
     "name": "stderr",
     "output_type": "stream",
     "text": [
      "\r",
      "running experiments:  92%|█████████▏| 92/100 [02:19<00:11,  1.49s/it]"
     ]
    },
    {
     "name": "stderr",
     "output_type": "stream",
     "text": [
      "\r",
      "running experiments:  93%|█████████▎| 93/100 [02:20<00:10,  1.49s/it]"
     ]
    },
    {
     "name": "stderr",
     "output_type": "stream",
     "text": [
      "\r",
      "running experiments:  94%|█████████▍| 94/100 [02:22<00:08,  1.48s/it]"
     ]
    },
    {
     "name": "stderr",
     "output_type": "stream",
     "text": [
      "\r",
      "running experiments:  95%|█████████▌| 95/100 [02:23<00:07,  1.49s/it]"
     ]
    },
    {
     "name": "stderr",
     "output_type": "stream",
     "text": [
      "\r",
      "running experiments:  96%|█████████▌| 96/100 [02:25<00:05,  1.49s/it]"
     ]
    },
    {
     "name": "stderr",
     "output_type": "stream",
     "text": [
      "\r",
      "running experiments:  97%|█████████▋| 97/100 [02:26<00:04,  1.50s/it]"
     ]
    },
    {
     "name": "stderr",
     "output_type": "stream",
     "text": [
      "\r",
      "running experiments:  98%|█████████▊| 98/100 [02:28<00:02,  1.50s/it]"
     ]
    },
    {
     "name": "stderr",
     "output_type": "stream",
     "text": [
      "\r",
      "running experiments:  99%|█████████▉| 99/100 [02:29<00:01,  1.50s/it]"
     ]
    },
    {
     "name": "stderr",
     "output_type": "stream",
     "text": [
      "\r",
      "running experiments: 100%|██████████| 100/100 [02:31<00:00,  1.49s/it]"
     ]
    },
    {
     "name": "stderr",
     "output_type": "stream",
     "text": [
      "\r",
      "running experiments: 100%|██████████| 100/100 [02:31<00:00,  1.51s/it]"
     ]
    },
    {
     "name": "stdout",
     "output_type": "stream",
     "text": [
      "CPU times: user 2min 30s, sys: 735 ms, total: 2min 31s\n",
      "Wall time: 2min 31s\n"
     ]
    },
    {
     "name": "stderr",
     "output_type": "stream",
     "text": [
      "\n"
     ]
    }
   ],
   "source": [
    "\n",
    "%%time\n",
    "simulation.run_simulation(n_experiments, start_n, fit_params,shuffle_rows, pred_params, random_features, \\\n",
    "                          store_in_lists, save_eigenvector, save_hamiltonian, save_accuracy,\\\n",
    "                          save_models)\n",
    "if simulation.fourier_mode is not None:\n",
    "    simulation.fourier_dataframe.head(10)"
   ]
  },
  {
   "cell_type": "code",
   "execution_count": 28,
   "metadata": {
    "execution": {
     "iopub.execute_input": "2020-07-18T05:36:38.417080Z",
     "iopub.status.busy": "2020-07-18T05:36:38.416770Z",
     "iopub.status.idle": "2020-07-18T05:36:38.442552Z",
     "shell.execute_reply": "2020-07-18T05:36:38.443109Z"
    },
    "papermill": {
     "duration": 0.064099,
     "end_time": "2020-07-18T05:36:38.443198",
     "exception": false,
     "start_time": "2020-07-18T05:36:38.379099",
     "status": "completed"
    },
    "tags": []
   },
   "outputs": [
    {
     "data": {
      "text/html": [
       "<div>\n",
       "<style scoped>\n",
       "    .dataframe tbody tr th:only-of-type {\n",
       "        vertical-align: middle;\n",
       "    }\n",
       "\n",
       "    .dataframe tbody tr th {\n",
       "        vertical-align: top;\n",
       "    }\n",
       "\n",
       "    .dataframe thead th {\n",
       "        text-align: right;\n",
       "    }\n",
       "</style>\n",
       "<table border=\"1\" class=\"dataframe\">\n",
       "  <thead>\n",
       "    <tr style=\"text-align: right;\">\n",
       "      <th></th>\n",
       "      <th>id</th>\n",
       "      <th>path</th>\n",
       "      <th>t1</th>\n",
       "      <th>t2</th>\n",
       "      <th>winding</th>\n",
       "      <th>phase</th>\n",
       "      <th>pred_phase</th>\n",
       "      <th>type_of</th>\n",
       "      <th>feat0</th>\n",
       "      <th>feat1</th>\n",
       "      <th>...</th>\n",
       "      <th>feat90</th>\n",
       "      <th>feat91</th>\n",
       "      <th>feat92</th>\n",
       "      <th>feat93</th>\n",
       "      <th>feat94</th>\n",
       "      <th>feat95</th>\n",
       "      <th>feat96</th>\n",
       "      <th>feat97</th>\n",
       "      <th>feat98</th>\n",
       "      <th>feat99</th>\n",
       "    </tr>\n",
       "  </thead>\n",
       "  <tbody>\n",
       "    <tr>\n",
       "      <th>0</th>\n",
       "      <td>0</td>\n",
       "      <td>H_-2_-2_0.509296.dat</td>\n",
       "      <td>-2.0</td>\n",
       "      <td>-2.0</td>\n",
       "      <td>0.509296</td>\n",
       "      <td>999</td>\n",
       "      <td>666</td>\n",
       "      <td>test</td>\n",
       "      <td>0.100000</td>\n",
       "      <td>0.100000</td>\n",
       "      <td>...</td>\n",
       "      <td>0.100000</td>\n",
       "      <td>0.100000</td>\n",
       "      <td>0.100000</td>\n",
       "      <td>0.100000</td>\n",
       "      <td>0.100000</td>\n",
       "      <td>0.100000</td>\n",
       "      <td>0.100000</td>\n",
       "      <td>0.100000</td>\n",
       "      <td>0.100000</td>\n",
       "      <td>0.100000</td>\n",
       "    </tr>\n",
       "    <tr>\n",
       "      <th>1</th>\n",
       "      <td>0</td>\n",
       "      <td>H_-2_-2_0.509296.dat</td>\n",
       "      <td>-2.0</td>\n",
       "      <td>-2.0</td>\n",
       "      <td>0.509296</td>\n",
       "      <td>999</td>\n",
       "      <td>666</td>\n",
       "      <td>test</td>\n",
       "      <td>0.141421</td>\n",
       "      <td>0.141142</td>\n",
       "      <td>...</td>\n",
       "      <td>0.114412</td>\n",
       "      <td>0.108967</td>\n",
       "      <td>0.123928</td>\n",
       "      <td>0.119406</td>\n",
       "      <td>0.131490</td>\n",
       "      <td>0.127962</td>\n",
       "      <td>0.136978</td>\n",
       "      <td>0.134500</td>\n",
       "      <td>0.140306</td>\n",
       "      <td>0.138916</td>\n",
       "    </tr>\n",
       "    <tr>\n",
       "      <th>2</th>\n",
       "      <td>0</td>\n",
       "      <td>H_-2_-2_0.509296.dat</td>\n",
       "      <td>-2.0</td>\n",
       "      <td>-2.0</td>\n",
       "      <td>0.509296</td>\n",
       "      <td>999</td>\n",
       "      <td>666</td>\n",
       "      <td>test</td>\n",
       "      <td>0.141421</td>\n",
       "      <td>0.140306</td>\n",
       "      <td>...</td>\n",
       "      <td>0.043702</td>\n",
       "      <td>0.026500</td>\n",
       "      <td>0.075777</td>\n",
       "      <td>0.060214</td>\n",
       "      <td>0.103092</td>\n",
       "      <td>0.090145</td>\n",
       "      <td>0.123928</td>\n",
       "      <td>0.114412</td>\n",
       "      <td>0.136978</td>\n",
       "      <td>0.131490</td>\n",
       "    </tr>\n",
       "    <tr>\n",
       "      <th>3</th>\n",
       "      <td>0</td>\n",
       "      <td>H_-2_-2_0.509296.dat</td>\n",
       "      <td>-2.0</td>\n",
       "      <td>-2.0</td>\n",
       "      <td>0.509296</td>\n",
       "      <td>999</td>\n",
       "      <td>666</td>\n",
       "      <td>test</td>\n",
       "      <td>-0.100000</td>\n",
       "      <td>0.100000</td>\n",
       "      <td>...</td>\n",
       "      <td>-0.100000</td>\n",
       "      <td>0.100000</td>\n",
       "      <td>-0.100000</td>\n",
       "      <td>0.100000</td>\n",
       "      <td>-0.100000</td>\n",
       "      <td>0.100000</td>\n",
       "      <td>-0.100000</td>\n",
       "      <td>0.100000</td>\n",
       "      <td>-0.100000</td>\n",
       "      <td>0.100000</td>\n",
       "    </tr>\n",
       "    <tr>\n",
       "      <th>4</th>\n",
       "      <td>0</td>\n",
       "      <td>H_-2_-2_0.509296.dat</td>\n",
       "      <td>-2.0</td>\n",
       "      <td>-2.0</td>\n",
       "      <td>0.509296</td>\n",
       "      <td>999</td>\n",
       "      <td>666</td>\n",
       "      <td>test</td>\n",
       "      <td>0.000509</td>\n",
       "      <td>-0.008372</td>\n",
       "      <td>...</td>\n",
       "      <td>-0.082713</td>\n",
       "      <td>-0.089753</td>\n",
       "      <td>-0.067684</td>\n",
       "      <td>-0.075347</td>\n",
       "      <td>-0.051587</td>\n",
       "      <td>-0.059753</td>\n",
       "      <td>-0.034677</td>\n",
       "      <td>-0.043217</td>\n",
       "      <td>-0.017220</td>\n",
       "      <td>-0.026000</td>\n",
       "    </tr>\n",
       "    <tr>\n",
       "      <th>5</th>\n",
       "      <td>0</td>\n",
       "      <td>H_-2_-2_0.509296.dat</td>\n",
       "      <td>-2.0</td>\n",
       "      <td>-2.0</td>\n",
       "      <td>0.509296</td>\n",
       "      <td>999</td>\n",
       "      <td>666</td>\n",
       "      <td>test</td>\n",
       "      <td>0.001204</td>\n",
       "      <td>-0.016530</td>\n",
       "      <td>...</td>\n",
       "      <td>-0.134123</td>\n",
       "      <td>-0.138686</td>\n",
       "      <td>-0.118757</td>\n",
       "      <td>-0.127445</td>\n",
       "      <td>-0.095929</td>\n",
       "      <td>-0.108196</td>\n",
       "      <td>-0.067073</td>\n",
       "      <td>-0.082149</td>\n",
       "      <td>-0.034003</td>\n",
       "      <td>-0.050940</td>\n",
       "    </tr>\n",
       "    <tr>\n",
       "      <th>6</th>\n",
       "      <td>0</td>\n",
       "      <td>H_-2_-2_0.509296.dat</td>\n",
       "      <td>-2.0</td>\n",
       "      <td>-2.0</td>\n",
       "      <td>0.509296</td>\n",
       "      <td>999</td>\n",
       "      <td>666</td>\n",
       "      <td>test</td>\n",
       "      <td>-0.141421</td>\n",
       "      <td>-0.138980</td>\n",
       "      <td>...</td>\n",
       "      <td>0.043375</td>\n",
       "      <td>0.067830</td>\n",
       "      <td>-0.009222</td>\n",
       "      <td>0.017385</td>\n",
       "      <td>-0.060524</td>\n",
       "      <td>-0.035502</td>\n",
       "      <td>-0.103326</td>\n",
       "      <td>-0.083403</td>\n",
       "      <td>-0.131616</td>\n",
       "      <td>-0.119589</td>\n",
       "    </tr>\n",
       "    <tr>\n",
       "      <th>7</th>\n",
       "      <td>0</td>\n",
       "      <td>H_-2_-2_0.509296.dat</td>\n",
       "      <td>-2.0</td>\n",
       "      <td>-2.0</td>\n",
       "      <td>0.509296</td>\n",
       "      <td>999</td>\n",
       "      <td>666</td>\n",
       "      <td>test</td>\n",
       "      <td>-0.000826</td>\n",
       "      <td>0.025688</td>\n",
       "      <td>...</td>\n",
       "      <td>0.134753</td>\n",
       "      <td>0.124324</td>\n",
       "      <td>0.141088</td>\n",
       "      <td>0.140407</td>\n",
       "      <td>0.127608</td>\n",
       "      <td>0.136771</td>\n",
       "      <td>0.096206</td>\n",
       "      <td>0.113925</td>\n",
       "      <td>0.051292</td>\n",
       "      <td>0.075079</td>\n",
       "    </tr>\n",
       "    <tr>\n",
       "      <th>8</th>\n",
       "      <td>0</td>\n",
       "      <td>H_-2_-2_0.509296.dat</td>\n",
       "      <td>-2.0</td>\n",
       "      <td>-2.0</td>\n",
       "      <td>0.509296</td>\n",
       "      <td>999</td>\n",
       "      <td>666</td>\n",
       "      <td>test</td>\n",
       "      <td>0.141417</td>\n",
       "      <td>0.136684</td>\n",
       "      <td>...</td>\n",
       "      <td>-0.115093</td>\n",
       "      <td>-0.131915</td>\n",
       "      <td>-0.061266</td>\n",
       "      <td>-0.091040</td>\n",
       "      <td>0.007717</td>\n",
       "      <td>-0.027643</td>\n",
       "      <td>0.074791</td>\n",
       "      <td>0.042592</td>\n",
       "      <td>0.123363</td>\n",
       "      <td>0.102291</td>\n",
       "    </tr>\n",
       "    <tr>\n",
       "      <th>9</th>\n",
       "      <td>0</td>\n",
       "      <td>H_-2_-2_0.509296.dat</td>\n",
       "      <td>-2.0</td>\n",
       "      <td>-2.0</td>\n",
       "      <td>0.509296</td>\n",
       "      <td>999</td>\n",
       "      <td>666</td>\n",
       "      <td>test</td>\n",
       "      <td>0.001302</td>\n",
       "      <td>0.036430</td>\n",
       "      <td>...</td>\n",
       "      <td>0.082068</td>\n",
       "      <td>0.050848</td>\n",
       "      <td>0.127402</td>\n",
       "      <td>0.108132</td>\n",
       "      <td>0.141218</td>\n",
       "      <td>0.138667</td>\n",
       "      <td>0.120099</td>\n",
       "      <td>0.134896</td>\n",
       "      <td>0.069268</td>\n",
       "      <td>0.097755</td>\n",
       "    </tr>\n",
       "  </tbody>\n",
       "</table>\n",
       "<p>10 rows × 108 columns</p>\n",
       "</div>"
      ],
      "text/plain": [
       "   id                  path   t1   t2   winding  phase  pred_phase type_of  \\\n",
       "0   0  H_-2_-2_0.509296.dat -2.0 -2.0  0.509296    999         666    test   \n",
       "1   0  H_-2_-2_0.509296.dat -2.0 -2.0  0.509296    999         666    test   \n",
       "2   0  H_-2_-2_0.509296.dat -2.0 -2.0  0.509296    999         666    test   \n",
       "3   0  H_-2_-2_0.509296.dat -2.0 -2.0  0.509296    999         666    test   \n",
       "4   0  H_-2_-2_0.509296.dat -2.0 -2.0  0.509296    999         666    test   \n",
       "5   0  H_-2_-2_0.509296.dat -2.0 -2.0  0.509296    999         666    test   \n",
       "6   0  H_-2_-2_0.509296.dat -2.0 -2.0  0.509296    999         666    test   \n",
       "7   0  H_-2_-2_0.509296.dat -2.0 -2.0  0.509296    999         666    test   \n",
       "8   0  H_-2_-2_0.509296.dat -2.0 -2.0  0.509296    999         666    test   \n",
       "9   0  H_-2_-2_0.509296.dat -2.0 -2.0  0.509296    999         666    test   \n",
       "\n",
       "      feat0     feat1  ...    feat90    feat91    feat92    feat93    feat94  \\\n",
       "0  0.100000  0.100000  ...  0.100000  0.100000  0.100000  0.100000  0.100000   \n",
       "1  0.141421  0.141142  ...  0.114412  0.108967  0.123928  0.119406  0.131490   \n",
       "2  0.141421  0.140306  ...  0.043702  0.026500  0.075777  0.060214  0.103092   \n",
       "3 -0.100000  0.100000  ... -0.100000  0.100000 -0.100000  0.100000 -0.100000   \n",
       "4  0.000509 -0.008372  ... -0.082713 -0.089753 -0.067684 -0.075347 -0.051587   \n",
       "5  0.001204 -0.016530  ... -0.134123 -0.138686 -0.118757 -0.127445 -0.095929   \n",
       "6 -0.141421 -0.138980  ...  0.043375  0.067830 -0.009222  0.017385 -0.060524   \n",
       "7 -0.000826  0.025688  ...  0.134753  0.124324  0.141088  0.140407  0.127608   \n",
       "8  0.141417  0.136684  ... -0.115093 -0.131915 -0.061266 -0.091040  0.007717   \n",
       "9  0.001302  0.036430  ...  0.082068  0.050848  0.127402  0.108132  0.141218   \n",
       "\n",
       "     feat95    feat96    feat97    feat98    feat99  \n",
       "0  0.100000  0.100000  0.100000  0.100000  0.100000  \n",
       "1  0.127962  0.136978  0.134500  0.140306  0.138916  \n",
       "2  0.090145  0.123928  0.114412  0.136978  0.131490  \n",
       "3  0.100000 -0.100000  0.100000 -0.100000  0.100000  \n",
       "4 -0.059753 -0.034677 -0.043217 -0.017220 -0.026000  \n",
       "5 -0.108196 -0.067073 -0.082149 -0.034003 -0.050940  \n",
       "6 -0.035502 -0.103326 -0.083403 -0.131616 -0.119589  \n",
       "7  0.136771  0.096206  0.113925  0.051292  0.075079  \n",
       "8 -0.027643  0.074791  0.042592  0.123363  0.102291  \n",
       "9  0.138667  0.120099  0.134896  0.069268  0.097755  \n",
       "\n",
       "[10 rows x 108 columns]"
      ]
     },
     "execution_count": 28,
     "metadata": {},
     "output_type": "execute_result"
    }
   ],
   "source": [
    "simulation.dataframe.head(10)"
   ]
  },
  {
   "cell_type": "markdown",
   "metadata": {
    "papermill": {
     "duration": 0.037322,
     "end_time": "2020-07-18T05:36:38.517618",
     "exception": false,
     "start_time": "2020-07-18T05:36:38.480296",
     "status": "completed"
    },
    "tags": []
   },
   "source": [
    "#### Viewing a random sample"
   ]
  },
  {
   "cell_type": "code",
   "execution_count": 29,
   "metadata": {
    "execution": {
     "iopub.execute_input": "2020-07-18T05:36:38.593219Z",
     "iopub.status.busy": "2020-07-18T05:36:38.592907Z",
     "iopub.status.idle": "2020-07-18T05:36:38.620451Z",
     "shell.execute_reply": "2020-07-18T05:36:38.620168Z"
    },
    "papermill": {
     "duration": 0.065939,
     "end_time": "2020-07-18T05:36:38.620504",
     "exception": false,
     "start_time": "2020-07-18T05:36:38.554565",
     "status": "completed"
    },
    "tags": []
   },
   "outputs": [
    {
     "name": "stdout",
     "output_type": "stream",
     "text": [
      "CPU times: user 17.2 ms, sys: 12 µs, total: 17.2 ms\n",
      "Wall time: 17 ms\n"
     ]
    }
   ],
   "source": [
    "%%time\n",
    "if simulation.fourier_mode is not None:\n",
    "    simulation.fourier_dataframe.sample(frac=0.1, replace=False)"
   ]
  },
  {
   "cell_type": "markdown",
   "metadata": {
    "papermill": {
     "duration": 0.036765,
     "end_time": "2020-07-18T05:36:38.694160",
     "exception": false,
     "start_time": "2020-07-18T05:36:38.657395",
     "status": "completed"
    },
    "tags": []
   },
   "source": [
    "#### Checking train/val/test splits again"
   ]
  },
  {
   "cell_type": "code",
   "execution_count": 30,
   "metadata": {
    "execution": {
     "iopub.execute_input": "2020-07-18T05:36:38.768884Z",
     "iopub.status.busy": "2020-07-18T05:36:38.768558Z",
     "iopub.status.idle": "2020-07-18T05:36:38.947783Z",
     "shell.execute_reply": "2020-07-18T05:36:38.947507Z"
    },
    "papermill": {
     "duration": 0.217349,
     "end_time": "2020-07-18T05:36:38.947837",
     "exception": false,
     "start_time": "2020-07-18T05:36:38.730488",
     "status": "completed"
    },
    "tags": []
   },
   "outputs": [
    {
     "name": "stdout",
     "output_type": "stream",
     "text": [
      "% train:  0.08474317939338516\n",
      "% val:  0.7620789513793629\n",
      "% test:  0.15317786922725193\n",
      "% train + val + test:  1.0\n",
      "\n",
      "\n",
      "number of train hamiltonians:  556\n",
      "number of val hamiltonians:  5000\n",
      "number of test hamiltonians:  1005\n",
      "total number of hamiltonians:  6561\n",
      "\n",
      "\n",
      "train ids:  [2901, 3754, 530, 4040, 1990, 6436, 3915, 6330, 992, 3211, 3039, 2168, 1492, 1838, 4042, 1166, 3779, 6360, 5876, 2551, 4833, 3897, 3918, 6423, 3538, 4446, 5099, 1296, 510, 2666, 3479, 3503, 6086, 3866, 1763, 550, 867, 134, 1796, 1196, 4325, 1251, 295, 2698, 633, 6137, 466, 3871, 4230, 4281, 1892, 4312, 4149, 2495, 809, 2092, 423, 671, 780, 3196, 1776, 2016, 4579, 4778, 2488, 1273, 589, 4894, 2761, 2235, 4569, 5709, 471, 5733, 4233, 1086, 917, 3264, 2419, 3872, 5704, 5674, 3334, 1671, 5752, 964, 5809, 4381, 2986, 2034, 4851, 4366, 2390, 443, 6435, 5485, 1236, 1714, 602, 1726, 1080, 5561, 2306, 4001, 43, 3119, 4326, 4725, 3925, 4715, 4383, 1288, 378, 5513, 2347, 4804, 4655, 2392, 1433, 4943, 2354, 3144, 3052, 4404, 4492, 3834, 3158, 1817, 4545, 6009, 3461, 6376, 4172, 2857, 317, 61, 3997, 1353, 3720, 683, 991, 909, 5554, 5691, 3671, 2959, 3322, 4846, 5231, 5093, 444, 5774, 3354, 3956, 844, 2665, 1289, 5626, 665, 2268, 3638, 3675, 172, 1688, 6249, 3908, 6533, 2060, 2639, 4365, 861, 3836, 4206, 112, 5067, 3964, 73, 1764, 2799, 1503, 124, 3160, 2943, 3123, 3086, 6405, 4368, 2813, 3321, 3122, 5190, 2524, 529, 536, 5220, 5072, 5514, 2256, 6413, 6175, 3669, 1242, 4334, 716, 4824, 4156, 2518, 5860, 4336, 2861, 5308, 4328, 5358, 185, 2095, 2773, 2866, 4411, 1158, 2671, 6245, 1218, 1626, 3679, 2467, 6100, 3156, 597, 2915, 5125, 4587, 294, 5710, 5077, 2651, 5718, 2808, 5719, 1940, 627, 2724, 2389, 6167, 1375, 831, 3684, 2101, 2544, 5866, 3282, 5753, 791, 2259, 2424, 4897, 5444, 1249, 3633, 6299, 1623, 1736, 997, 1951, 6138, 3916, 5628, 3597, 2167, 3149, 2627, 4188, 463, 6271, 4159, 152, 3111, 3373, 604, 760, 3570, 3238, 1850, 2767, 1171, 357, 6359, 1983, 5227, 1620, 20, 2315, 4586, 3157, 1652, 3755, 1002, 2650, 4319, 4033, 4452, 3092, 2854, 4076, 3305, 4039, 1051, 1185, 4133, 1131, 3808, 4435, 4784, 5367, 4472, 3435, 6450, 4238, 793, 3863, 9, 1460, 302, 3768, 6385, 786, 3217, 141, 1931, 2972, 5062, 1996, 5689, 313, 6443, 5868, 4475, 1130, 4333, 4580, 3910, 4438, 1653, 4388, 3292, 1299, 3799, 4616, 4745, 118, 3240, 1571, 774, 3517, 4711, 2682, 2942, 3543, 4882, 2012, 4863, 4376, 1574, 5059, 1907, 5617, 34, 3719, 1112, 6106, 764, 2690, 5025, 3736, 5638, 3434, 211, 1254, 3359, 5641, 5844, 1482, 6324, 4298, 1327, 4866, 6091, 2414, 1660, 145, 1810, 6466, 1962, 4075, 1808, 4991, 2453, 3651, 5453, 3505, 4229, 2409, 2070, 5607, 2865, 2576, 3695, 3599, 2752, 2422, 2143, 4402, 6263, 2085, 584, 6551, 4454, 996, 207, 4398, 594, 1345, 2382, 5923, 6455, 1155, 3124, 5349, 4442, 5966, 6504, 5612, 6099, 4436, 4211, 3835, 4519, 5622, 2812, 4008, 1094, 971, 1540, 5213, 4501, 5299, 6542, 1385, 3634, 4067, 5043, 2916, 5597, 3380, 4289, 1858, 2067, 2417, 3370, 2601, 3580, 355, 5536, 6285, 784, 254, 3367, 6522, 6117, 4944, 2111, 3880, 4243, 3504, 2661, 4447, 6515, 4822, 5161, 6534, 3731, 1297, 1710, 5754, 5926, 5369, 3765, 6524, 4078, 3512, 952, 2547, 2775, 5063, 149, 4357, 2113, 1869, 4245, 6262, 3607, 6206, 1784, 5643, 6123, 5194, 4046, 5103, 3485, 2123, 5878, 5069, 4577, 5305, 1894, 2394, 5208, 6374, 440, 797, 1739, 5675, 5315, 6095, 269, 6420, 1515, 4573, 223, 3044, 2980, 4967, 3107, 2708, 3031, 4534, 1017, 998, 2326, 6022, 1700, 1529, 4935, 5459, 3021, 4158, 2253, 3142, 4752, 832, 2763, 4058, 1672, 4450, 3817, 135, 1282]\n",
      "val ids:  [3982, 1829, 2987, 5869, 74, 2343, 3411, 5014, 5730, 5314, 6270, 1298, 1293, 1616, 2688, 4542, 2218, 4724, 2362, 5193, 2595, 1873, 2892, 856, 5636, 3419, 3047, 2163, 3558, 4309, 688, 2796, 3293, 581, 1682, 3963, 3176, 202, 3537, 5916, 4088, 5814, 4193, 4529, 4459, 3438, 3677, 5861, 4118, 4602, 1489, 922, 3549, 1079, 6094, 613, 4343, 3556, 4377, 257, 931, 2636, 3286, 1582, 2033, 6548, 5948, 4850, 3673, 3159, 5870, 2044, 6298, 6377, 2237, 3619, 4351, 5450, 4654, 6289, 195, 5755, 173, 3952, 4109, 4228, 4155, 6115, 3983, 5139, 6166, 4341, 4468, 1344, 4802, 3219, 3647, 2715, 6109, 4584, 1924, 1191, 615, 2849, 2436, 4362, 3649, 827, 6404, 2452, 1015, 2751, 6107, 5881, 1209, 5357, 5518, 4867, 2145, 1004, 6199, 4499, 4765, 1465, 2868, 1762, 1116, 4552, 4131, 2974, 1685, 5276, 4332, 972, 3356, 5534, 6438, 4384, 5129, 2632, 5463, 1328, 1820, 1825, 5076, 3987, 2285, 3382, 1458, 3725, 2180, 886, 2020, 4164, 3646, 5633, 2188, 1624, 1844, 3266, 5567, 2983, 3670, 678, 1241, 3955, 3428, 188, 4854, 3404, 6037, 4526, 4535, 3596, 2203, 3148, 603, 3552, 5221, 6464, 1756, 623, 5892, 4423, 2226, 1496, 1018, 5952, 6525, 1870, 6409, 620, 6358, 3082, 4487, 6514, 4861, 5950, 3352, 4412, 2657, 2153, 4859, 2731, 3106, 6304, 3789, 941, 278, 6484, 2224, 3716, 4269, 2909, 6433, 2598, 5317, 5588, 1912, 666, 5110, 5267, 682, 1650, 4013, 5474, 179, 2590, 5111, 1708, 3152, 3586, 5780, 1947, 2142, 5395, 2223, 4195, 4301, 296, 5515, 565, 3024, 2330, 4126, 2816, 836, 1050, 4293, 2232, 2839, 48, 554, 3398, 3892, 2202, 6498, 2711, 1073, 1871, 2244, 3616, 2646, 191, 6541, 3454, 3985, 626, 5959, 4047, 3868, 5647, 2248, 1590, 5806, 6008, 3493, 3311, 434, 3623, 2321, 5815, 186, 610, 2201, 3961, 4895, 6196, 1448, 6025, 100, 1431, 714, 1586, 1411, 1530, 2594, 5112, 2250, 216, 3247, 5595, 5716, 3464, 2065, 5114, 2328, 4107, 6518, 103, 5965, 6118, 532, 3132, 1486, 4090, 6361, 4470, 2105, 4097, 5379, 5968, 2658, 371, 2662, 645, 4303, 3806, 4049, 5634, 4685, 5508, 2021, 307, 6378, 837, 5289, 4306, 6105, 1958, 4771, 2875, 3917, 5296, 2205, 6218, 3848, 28, 2456, 2182, 4028, 1602, 1342, 3229, 1809, 4533, 533, 2441, 4722, 2022, 3823, 5783, 2962, 4555, 2464, 6348, 275, 4624, 1444, 4261, 6197, 129, 5307, 4150, 6041, 854, 965, 2600, 3297, 3718, 5400, 418, 3813, 4083, 5890, 3330, 1927, 2395, 5782, 1246, 3184, 1872, 3246, 2014, 512, 1781, 3194, 1546, 1125, 290, 3351, 5802, 1029, 1897, 3747, 522, 2701, 1701, 3242, 2381, 1659, 3861, 3888, 3818, 4295, 528, 1434, 3141, 5216, 147, 2553, 5104, 3950, 1077, 6488, 3989, 1118, 4406, 193, 3996, 4242, 1785, 1765, 2922, 3593, 686, 3064, 4356, 2191, 1812, 1539, 700, 153, 375, 4970, 4248, 396, 192, 1198, 3968, 519, 2783, 2842, 6403, 2945, 1362, 208, 2766, 4810, 1022, 5767, 4399, 2501, 5624, 5796, 1943, 2162, 3739, 2150, 1905, 3295, 501, 1100, 3181, 848, 2618, 3602, 5506, 119, 197, 4140, 3038, 3339, 563, 4728, 4929, 2626, 762, 2323, 4060, 384, 3267, 4796, 1325, 6201, 4905, 6350, 2474, 1713, 3014, 4244, 2744, 2154, 2758, 1929, 2229, 2947, 6124, 5957, 3536, 2989, 5852, 5973, 1955, 6042, 4985, 1588, 5949, 5544, 4254, 1703, 3256, 59, 6185, 3878, 2287, 3214, 1768, 3797, 4196, 3076, 6416, 6373, 4246, 3026, 4825, 4139, 4311, 3539, 6302, 5711, 2970, 6293, 4599, 2941, 3171, 1712, 2521, 5512, 4270, 788, 2087, 5215, 4414, 5356, 5623, 841, 3306, 924, 5943, 520, 3876, 6204, 725, 1037, 2513, 2384, 2755, 4942, 3877, 3335, 1956, 5479, 142, 1787, 5955, 1595, 6523, 3705, 5557, 5117, 1976, 4695, 5257, 6174, 5715, 6097, 1481, 5698, 5778, 5051, 2793, 1104, 582, 451, 4179, 2969, 6076, 2099, 4294, 4785, 6023, 3791, 6036, 6369, 6288, 5804, 4330, 3399, 5777, 1324, 5259, 3824, 5451, 5203, 4766, 5526, 3798, 618, 5848, 1024, 631, 3272, 5727, 1683, 131, 4144, 5720, 2076, 1047, 1122, 6195, 4210, 2498, 4391, 6451, 98, 2473, 1413, 4563, 5671, 5312, 5262, 4736, 3195, 3058, 3894, 5097, 4207, 3592, 4544, 3030, 4798, 4620, 1751, 1295, 4885, 2667, 1428, 3131, 3912, 4981, 2568, 1179, 2820, 1010, 6026, 2239, 2331, 1758, 6040, 5422, 506, 4200, 3477, 5298, 272, 6222, 1516, 4168, 6254, 5606, 2940, 376, 3554, 5210, 3287, 4649, 1048, 5392, 1909, 3070, 6532, 6017, 362, 3993, 1255, 2603, 5707, 4272, 2017, 1358, 5967, 5198, 270, 4864, 1272, 5594, 125, 3550, 3041, 3213, 1303, 5471, 4947, 4783, 2895, 181, 104, 3457, 3839, 1859, 4585, 4619, 6182, 548, 2109, 2126, 5219, 2645, 4723, 5427, 2096, 5108, 2170, 4128, 3564, 1783, 2722, 6384, 3940, 5944, 5373, 517, 4363, 4190, 4256, 4741, 2912, 2487, 2828, 2897, 5442, 288, 746, 806, 768, 4425, 6347, 262, 4857, 3035, 2932, 4030, 2137, 1865, 1168, 2815, 1813, 1377, 6111, 3563, 5864, 32, 693, 5434, 2827, 6075, 3857, 5404, 201, 2765, 914, 3032, 4212, 6329, 3342, 2615, 3945, 5728, 957, 1442, 2068, 5894, 2536, 1982, 1123, 1744, 507, 2086, 1487, 3263, 2267, 1443, 3502, 3310, 3735, 3598, 431, 3081, 5038, 5794, 1984, 2934, 3089, 4237, 5060, 5045, 1959, 2904, 5563, 4518, 1074, 2029, 2164, 6530, 6449, 5105, 4574, 3300, 757, 5790, 5228, 4340, 2431, 4209, 4694, 6383, 2729, 990, 2621, 102, 5771, 1093, 6212, 4870, 6006, 1406, 5974, 3063, 4770, 6135, 71, 5047, 5268, 11, 5240, 3715, 6031, 4607, 5591, 4113, 3577, 544, 427, 365, 199, 4444, 6101, 5345, 1451, 2696, 2737, 65, 4397, 279, 3469, 115, 5997, 5182, 394, 4307, 5126, 4527, 3055, 3004, 6286, 4403, 2437, 709, 337, 1933, 6426, 866, 4503, 2975, 5137, 4371, 3387, 2114, 4615, 1926, 5191, 4663, 3104, 2365, 308, 3741, 885, 360, 1827, 6422, 2415, 3190, 393, 4763, 2408, 6365, 2549, 182, 624, 2919, 4623, 138, 3561, 273, 2526, 2025, 6284, 3396, 1732, 1953, 5449, 2008, 137, 4731, 5832, 3364, 5346, 5113, 2552, 1790, 2220, 2834, 6050, 5319, 6173, 3833, 3930, 1994, 2367, 5150, 2574, 4505, 4419, 6495, 5805, 4466, 2247, 2545, 4980, 3499, 1256, 2847, 6046, 3744, 4407, 2572, 5235, 3069, 4034, 5721, 1355, 1528, 2158, 3369, 2027, 622, 2804, 6371, 3629, 205, 4936, 2434, 4077, 1711, 1076, 1318, 1906, 5525, 3139, 2369, 3574, 537, 3951, 3315, 690, 669, 2504, 1580, 5917, 2780, 2663, 1591, 2575, 5290, 1016, 5130, 4010, 855, 842, 5098, 6140, 6452, 4909, 1740, 2091, 712, 1082, 5432, 3421, 3761, 2364, 3787, 2961, 3408, 2317, 5629, 5996, 4279, 526, 2760, 446, 4291, 5300, 5363, 2478, 1127, 4815, 4478, 2418, 304, 3737, 2069, 3625, 483, 1013, 3827, 1403, 404, 1954, 1695, 5152, 1754, 3011, 4667, 3180, 6027, 935, 5619, 2734, 4653, 6509, 4911, 4506, 1456, 3235, 4829, 209, 6463, 3170, 5723, 773, 747, 2011, 4780, 2822, 2426, 5342, 4455, 1498, 3096, 4941, 5273, 5863, 184, 851, 6032, 4976, 4517, 3022, 1335, 6116, 6496, 1670, 5859, 6090, 2147, 1505, 4828, 860, 2038, 796, 4392, 4007, 1409, 1349, 2967, 3829, 2477, 3391, 1494, 2506, 1302, 839, 1514, 918, 2238, 2361, 3546, 4360, 5871, 1044, 2770, 2709, 1565, 4520, 3402, 1182, 230, 4025, 995, 3254, 2312, 23, 5118, 6283, 612, 106, 6354, 2697, 689, 3275, 6169, 45, 6096, 3645, 2946, 5807, 2350, 1186, 1791, 2258, 1855, 1610, 3481, 1205, 2606, 4124, 1217, 2628, 1615, 1629, 3992, 1274, 2995, 3261, 4284, 4541, 4744, 4886, 1861, 3901, 3501, 2178, 3410, 3376, 4904, 2779, 5386, 6015, 77, 4683, 875, 3579, 4945, 2357, 5185, 346, 3316, 2655, 950, 3329, 1485, 6352, 5160, 5768, 4361, 2451, 4379, 6526, 1564, 5683, 55, 2933, 1401, 1729, 4524, 6428, 382, 3967, 4774, 2750, 6016, 4939, 5382, 2373, 2486, 2921, 2819, 1651, 2299, 3221, 2858, 2759, 807, 3053, 3307, 1997, 5209, 2057, 2018, 3281, 2471, 968, 607, 6203, 840, 4666, 1300, 5556, 3140, 621, 485, 1866, 5350, 1535, 4564, 5131, 3483, 4375, 5504, 6461, 1294, 2550, 4933, 4777, 2023, 5124, 3037, 5775, 4121, 5971, 3654, 1935, 3345, 4913, 1001, 1874, 6305, 5136, 2186, 387, 1084, 469, 5311, 1918, 3977, 1848, 2719, 3615, 5696, 4141, 2291, 5773, 6331, 5397, 5318, 2269, 6003, 2670, 3590, 3530, 1052, 4701, 5455, 2219, 6059, 5812, 923, 4898, 1462, 2604, 1089, 4129, 1913, 3988, 2985, 4276, 4353, 3508, 5183, 4782, 6418, 5323, 5895, 5889, 4668, 76, 2964, 3068, 3707, 1879, 3708, 635, 2781, 6337, 2463, 1945, 2124, 3188, 967, 3299, 1259, 5078, 1822, 6325, 5405, 126, 1035, 1741, 2700, 1033, 4797, 3532, 2479, 4912, 5873, 1370, 2425, 1219, 4704, 1597, 203, 2277, 829, 3762, 3700, 3234, 2189, 2965, 6237, 3463, 342, 2659, 3067, 870, 1347, 5258, 4395, 3154, 39, 853, 1193, 1012, 5589, 6035, 4954, 5217, 3847, 3346, 6462, 3169, 1357, 2971, 3804, 3555, 5065, 1034, 2383, 1618, 5483, 6425, 2648, 5237, 5224, 4930, 2927, 6538, 4070, 4958, 643, 5552, 2222, 1977, 2435, 1189, 2274, 4865, 920, 859, 3636, 3630, 1326, 4779, 6210, 1418, 4280, 5195, 108, 3095, 4634, 215, 3756, 1337, 3303, 3113, 156, 2811, 5435, 3134, 3309, 367, 2055, 1917, 546, 4611, 3115, 1090, 3924, 3696, 5568, 4644, 949, 4662, 2537, 3215, 1537, 16, 1694, 2798, 5897, 4163, 3449, 3201, 4199, 309, 1184, 4038, 3395, 6379, 1320, 72, 3056, 6164, 5788, 1853, 696, 4848, 2891, 5650, 6503, 1164, 1265, 130, 5478, 4125, 884, 3821, 5243, 1435, 3205, 2664, 3864, 1432, 4374, 3610, 5542, 2264, 1437, 6180, 5207, 5523, 5223, 3889, 1738, 1268, 3733, 3862, 4993, 2877, 2251, 5547, 2635, 4484, 5368, 439, 2712, 4198, 3206, 4827, 2876, 5972, 1654, 380, 1877, 1374, 3312, 6052, 5143, 3325, 3023, 1818, 4460, 3793, 3944, 1619, 2393, 3202, 2515, 838, 419, 1099, 667, 3085, 4703, 6349, 3957, 276, 1408, 2680, 3778, 2723, 2255, 3978, 3203, 157, 2446, 4795, 3237, 5722, 4066, 4540, 1378, 4177, 6267, 3548, 4024, 432, 6057, 1576, 4873, 5535, 2236, 6276, 3341, 3403, 5239, 1972, 2221, 3893, 6132, 2432, 3900, 5399, 291, 3375, 1589, 2254, 781, 4803, 1028, 343, 2676, 4214, 2577, 1737, 5277, 3694, 3800, 3442, 2363, 3487, 1832, 6029, 5074, 1497, 3559, 235, 5176, 1088, 3743, 4016, 3879, 4147, 4087, 5391, 2455, 4957, 4169, 3414, 4789, 92, 301, 6520, 2733, 3365, 3567, 1187, 2093, 1270, 5784, 420, 4451, 3845, 5261, 3009, 4201, 2581, 5799, 2879, 5295, 2470, 4992, 6517, 1466, 5447, 3279, 310, 1563, 6432, 3080, 1547, 3803, 3147, 2906, 843, 5537, 6440, 3199, 3476, 1846, 701, 5621, 3788, 18, 5913, 5159, 3581, 2146, 339, 1006, 685, 283, 1340, 3702, 1132, 374, 3216, 5101, 939, 4708, 5540, 15, 1944, 1774, 6521, 1609, 4746, 611, 3100, 2998, 4476, 5964, 869, 3328, 4893, 2116, 389, 4234, 297, 1053, 5979, 2310, 5603, 4831, 2324, 5053, 4029, 2231, 5613, 1891, 6300, 3859, 2529, 1875, 30, 3668, 1819, 4686, 2931, 513, 4691, 2233, 2084, 6083, 5027, 2925, 3576, 4153, 2071, 6501, 2494, 717, 2528, 3326, 1903, 3697, 948, 1137, 2532, 4582, 4069, 2678, 6092, 1752, 6192, 4449, 476, 1746, 2898, 5423, 6333, 3424, 1572, 6301, 1097, 6296, 805, 2262, 1896, 3093, 1334, 2896, 2824, 3355, 5962, 2151, 3667, 5283, 4491, 723, 1506, 1085, 5627, 1742, 421, 1488, 1542, 1436, 2241, 2530, 4811, 2810, 6214, 4877, 1423, 3412, 6184, 3666, 3210, 3486, 681, 5018, 3895, 504, 5642, 6456, 2098, 2728, 6084, 3663, 2304, 1331, 1134, 4222, 229, 609, 1056, 1183, 66, 789, 6375, 5056, 6419, 4073, 863, 155, 1414, 6130, 6274, 5189, 3468, 1696, 6460, 2396, 1510, 2489, 5651, 1998, 345, 1354, 5036, 1814, 4891, 4096, 2514, 454, 5177, 5205, 1371, 397, 3459, 3986, 212, 3816, 1032, 5389, 3249, 1585, 2152, 5468, 75, 2144, 6411, 5960, 464, 3605, 3005, 1424, 3565, 5801, 4143, 5034, 3710, 316, 473, 237, 5212, 1592, 534, 1213, 457, 5020, 706, 1356, 5151, 4275, 3193, 1745, 5886, 1449, 2714, 93, 4645, 5592, 5670, 761, 3688, 1657, 4934, 6252, 3500, 94, 751, 3979, 1757, 2684, 6253, 5476, 5071, 2920, 6141, 6202, 1867, 5024, 5446, 3051, 2522, 2083, 2843, 4197, 3114, 2930, 4249, 4748, 963, 1702, 6372, 3223, 2823, 1366, 637, 2809, 17, 4966, 2449, 3640, 5133, 3896, 1115, 450, 2043, 2097, 1054, 2192, 5524, 2316, 5354, 6531, 3966, 6332, 3914, 5538, 1338, 4239, 3072, 5811, 4327, 468, 2578, 505, 1493, 3858, 2013, 2673, 187, 1792, 1180, 3801, 5932, 2009, 3953, 2747, 2280, 2832, 3929, 3130, 4065, 4252, 3973, 1581, 2176, 691, 3891, 1352, 63, 1579, 4536, 2322, 2112, 2443, 4393, 3426, 2026, 2860, 5206, 4104, 4549, 4743, 916, 1778, 3433, 260, 2289, 3578, 1445, 2318, 4299, 3497, 3337, 5158, 887, 5148, 4914, 1453, 3313, 1518, 2341, 6255, 4174, 5834, 2374, 5052, 5384, 636, 3228, 1584, 4537, 2745, 6516, 4791, 4002, 2200, 5529, 5100, 5211, 2040, 3785, 4628, 4032, 1368, 6189, 390, 790, 3794, 6338, 2652, 3079, 449, 2257, 227, 2694, 3379, 1502, 6502, 1992, 4052, 2772, 4830, 3450, 3291, 2359, 2351, 1007, 4543, 5310, 1204, 750, 4948, 5925, 4084, 101, 3981, 509, 5853, 261, 2818, 2073, 1243, 3048, 4297, 5931, 3672, 2407, 4203, 2647, 4907, 2117, 3681, 4521, 219, 4448, 785, 5351, 2732, 3635, 3251, 3946, 1372, 3445, 69, 1208, 3643, 3656, 3117, 2749, 3273, 5644, 5109, 3831, 183, 5480, 4689, 6362, 3028, 2230, 2855, 2954, 377, 4632, 4292, 1566, 2993, 6453, 5858, 1160, 5885, 3529, 1415, 3886, 6165, 6120, 5887, 4751, 4401, 3717, 3187, 2288, 5686, 1459, 1301, 4474, 4681, 3155, 3333, 1383, 787, 3233, 6491, 1980, 6528, 4625, 5293, 1178, 373, 4849, 1417, 3374, 3467, 5697, 2177, 3168, 5470, 5438, 3350, 2036, 24, 4910, 4892, 3999, 5855, 6454, 5975, 5426, 5403, 5877, 1322, 6112, 4422, 1628, 771, 4996, 4786, 5473, 1687, 6275, 285, 5553, 2591, 4417, 1900, 1527, 3622, 4331, 5639, 2691, 6056, 5781, 2675, 6208, 258, 2872, 5064, 2977, 127, 6051, 6191, 4962, 4610, 4142, 628, 3887, 2582, 4396, 6131, 5714, 426, 5068, 3389, 5548, 1961, 6260, 2754, 1339, 3851, 4116, 1490, 2852, 6125, 515, 3371, 5396, 3422, 1197, 5645, 5458, 5469, 5694, 2303, 4273, 3516, 1664, 5146, 999, 551, 5649, 769, 459, 5994, 1075, 4409, 1541, 3582, 6328, 1948, 3939, 180, 151, 3088, 5787, 5044, 3693, 2687, 3054, 22, 1175, 2174, 1174, 189, 3926, 5705, 266, 858, 1815, 3849, 2165, 954, 710, 3260, 5116, 4548, 3869, 1491, 5528, 2557, 4889, 646, 42, 2583, 5393, 2802, 2660, 1072, 601, 5847, 5115, 5233, 6187, 4489, 3553, 6243, 2403, 2634, 1429, 3432, 3118, 3353, 2801, 3683, 6019, 1190, 4329, 2290, 1426, 6139, 1333, 1269, 2741, 4702, 4477, 3542, 3236, 4896, 6104, 6127, 876, 3632, 6190, 2217, 3015, 2689, 4606, 2556, 3509, 4915, 4971, 3409, 1450, 3400, 3344, 2276, 1203, 1373, 225, 2075, 1697, 3102, 868, 6303, 1030, 4693, 4204, 1622, 6486, 6108, 2587, 3105, 2562, 4578, 2612, 1113, 2420, 5835, 4643, 4647, 6248, 6011, 3302, 344, 3060, 758, 3941, 778, 553, 6380, 3050, 2401, 1786, 3921, 4698, 6258, 695, 4416, 3452, 2771, 6386, 2735, 5673, 3386, 385, 2059, 541, 2234, 1277, 1771, 5425, 1864, 4372, 6343, 1910, 2064, 3524, 3660, 424, 2570, 6024, 2302, 2608, 6220, 3844, 5618, 289, 4502, 1258, 847, 1220, 4687, 5032, 3025, 5472, 438, 2523, 2685, 933, 460, 268, 2041, 6209, 4496, 3163, 3390, 4462, 670, 2319, 864, 3551, 2190, 5012, 1045, 4338, 1753, 3323, 2638, 1163, 3601, 3212, 3965, 3166, 1512, 1545, 4225, 1202, 2171, 5073, 4005, 4973, 2386, 1402, 4490, 2402, 6098, 467, 4906, 5324, 3709, 6282, 4186, 2496, 4733, 4952, 3618, 3460, 3406, 3585, 2139, 5488, 2710, 2610, 2844, 4123, 5676, 3662, 284, 6407, 1091, 2062, 2072, 1675, 5610, 1364, 3589, 3036, 3146, 1020, 5021, 1107, 3278, 5362, 465, 3753, 3179, 4658, 2776, 4015, 694, 347, 5947, 2654, 5457, 3098, 3017, 5763, 3175, 540, 1767, 2447, 4247, 3903, 4974, 1995, 363, 2973, 4011, 2743, 4236, 2588, 120, 6058, 2900, 4498, 3049, 2914, 835, 6487, 3518, 5096, 5184, 4389, 3769, 5016, 2882, 3368, 5428, 2345, 919, 3413, 1078, 1194, 6266, 1346, 4068, 2619, 2010, 1766, 4108, 3007, 4684, 3959, 2908, 1667, 1789, 5930, 4465, 6211, 947, 2148, 5951, 2958, 4661, 525, 2996, 1011, 4862, 4457, 2702, 3101, 1266, 3510, 3642, 3304, 1836, 3949, 2225, 277, 3475, 3519, 500, 3830, 4467, 2905, 3825, 1126, 5845, 4539, 5238, 484, 1617, 5954, 1668, 4601, 3568, 139, 6020, 3838, 1937, 3902, 1003, 2997, 3658, 5424, 3713, 4178, 3664, 1795, 174, 1890, 5883, 792, 353, 2948, 2339, 3138, 6519, 5510, 6430, 4386, 6527, 58, 3969, 1952, 3972, 3183, 2519, 1567, 4994, 4812, 3617, 765, 441, 2119, 4772, 3482, 5294, 3841, 1286, 4856, 1797, 5677, 5287, 1192, 5341, 1283, 4258, 605, 552, 6279, 5026, 3271, 3922, 3172, 1898, 3521, 3143, 1632, 5531, 3934, 2846, 4855, 6458, 2175, 6368, 3208, 1727, 3466, 4483, 5265, 4769, 2193, 1317, 4117, 4394, 3109, 4705, 5147, 4713, 3575, 2340, 745, 4806, 338, 6539, 3828, 5632, 6292, 803, 6295, 994, 5282, 4522, 3135, 1648, 4847, 3860, 5291, 4418, 3340, 255, 140, 4051, 5640, 3348, 6273, 2599, 4699, 927, 2423, 2911, 6207, 873, 1593, 4576, 4968, 3699, 2585, 3613, 1026, 6219, 4302, 56, 4638, 1847, 1422, 4056, 5186, 4887, 1452, 2672, 1902, 1916, 3954, 5541, 767, 6446, 4463, 5560, 6055, 3443, 1285, 3947, 133, 2953, 3259, 4305, 1464, 2631, 1908, 350, 4486, 2596, 593, 3865, 5222, 4807, 833, 2611, 1826, 4408, 3814, 2344, 4868, 3874, 4226, 6122, 6119, 4901, 913, 564, 5699, 3008, 932, 474, 5590, 702, 4572, 4441, 5175, 3099, 6129, 3087, 726, 687, 105, 4092, 3161, 2136, 5776, 4995, 753, 4872, 5693, 2184, 6489, 5605, 5789, 3003, 1167, 5094, 194, 2867, 6287, 6291, 539, 759, 282, 1673, 4044, 14, 4216, 2204, 4792, 2748, 6492, 2883, 5893, 46, 4823, 2398, 4004, 3515, 4608, 2183, 3591, 428, 2903, 1794, 2334, 6093, 527, 4630, 4255, 4612, 5385, 218, 619, 3846, 585, 711, 2337, 6414, 1128, 3583, 3019, 3177, 583, 3436, 4335, 5390, 4871, 4652, 3852, 1904, 4037, 6215, 1860, 5448, 5854, 6469, 3112, 3397, 1369, 1709, 3748, 4908, 3815, 5260, 4938, 4734, 1577, 5029, 6459, 4061, 543, 3448, 1271, 5269, 3721, 4567, 6441, 6442, 1447, 2490, 703, 3614, 5226, 934, 3611, 5872, 5684, 1686, 2778, 2300, 4218, 4014, 1384, 3226, 944, 1291, 3906, 5810, 6439, 4323, 6387, 1821, 121, 2564, 3418, 3678, 3127, 2620, 1604, 122, 29, 3110, 1960, 910, 4009, 5145, 1365, 3197, 4588, 865, 3995, 3927, 2066, 5688, 5225, 3066, 175, 213, 6047, 3343, 5779, 3057, 5180, 3749, 5706, 6339, 4820, 3108, 5445, 1446, 2352, 1021, 5915, 1081, 4712, 1245, 2938, 6341, 2845, 5935, 148, 4136, 6417, 5978, 889, 4670, 5023, 4656, 4154, 1276, 3875, 3178, 5888, 3904, 945, 2185, 5797, 1932, 590, 2265, 1941, 1991, 3498, 2135, 5347, 433, 629, 555, 2155, 113, 1663, 2465, 6306, 6268, 4079, 2939, 2088, 2156, 6136, 4059, 5406, 60, 1570, 6198, 5366, 293, 3357, 4558, 4464, 1399, 392, 5466, 2166, 2508, 6186, 5138, 890, 5956, 6102, 3220, 4832, 4768, 4609, 6217, 663, 2061, 2777, 27, 5953, 5285, 596, 3167, 4385, 3674, 3795, 475, 5355, 4171, 5505, 5690, 2329, 749, 4440, 6543, 4250, 1816, 3182, 5934, 4091, 3792, 2005, 5364, 5380, 4631, 3730, 3151, 6421, 5969, 5102, 146, 4635, 6345, 1381, 2683, 2030, 3224, 4818, 4739, 3832, 2173, 281, 3870, 1260, 470, 3923, 5486, 361, 2245, 2976, 2910, 2115, 1901, 5049, 4324, 926, 4883, 5272, 4093, 5961, 204, 2569, 5555, 6294, 5843, 96, 2505, 4627, 4808, 4553, 1526, 2333, 5565, 3722, 3943, 5564, 4453, 4749, 3686, 6247, 3091, 4852, 925, 4516, 4260, 3084, 3652, 1748, 6444, 777, 3336, 70, 6468, 1009, 4023, 2630, 3777, 1876, 4550, 1161, 38, 2856, 341, 4648, 2695, 3358, 1124, 1677, 3000, 2982, 1769, 1823, 3990, 6546, 1165, 2468, 2616, 5836, 2994, 2917, 2957, 2835, 535, 1868, 2100, 3361, 1419, 2924, 1750, 2246, 3911, 1019, 5066, 3931, 4950, 1238, 4290, 5394, 4469, 4583, 4161, 4251, 2791, 2004, 1467, 5477, 5274, 1275, 5732, 3225, 2944, 3065, 1263, 2430, 369, 674, 4259, 2520, 3763, 3347, 3850, 6336, 1779, 6205, 4322, 6259, 5874, 4485, 1649, 4071, 2387, 3324, 196, 4737, 52, 1248, 4899, 4035, 4367, 228, 1834, 2035, 3724, 1646, 5371, 3417, 303, 2307, 4903, 4788, 1410, 3043, 4979, 4111, 943, 5106, 299, 354, 4274, 3165, 3980, 3882, 5348, 673, 3366, 6224, 2338, 6045, 4710, 1656, 6483, 1733, 1662, 2653, 4646, 3189, 4352, 436, 5464, 3317, 6381, 6251, 116, 3535, 937, 4709, 2992, 5615, 508, 4598, 5264, 930, 2391, 1008, 2573, 3016, 953, 3545, 2768, 1416, 1504, 2110, 2926, 1734, 5187, 5303, 566, 4006, 3820, 210, 705, 2792, 4493, 2774, 1055, 447, 3137, 5275, 5462, 4443, 456, 776, 1425, 1550, 3560, 5614, 5266, 4313, 3470, 5936, 3492, 4651, 1770, 2563, 3621, 3474, 3327, 1323, 5533, 3506, 4094, 1543, 2492, 2199, 5558, 1957, 3239, 1824, 3738, 2491, 672, 1129, 2991, 3905, 477, 1507, 692, 2411, 3150, 1661, 1023, 3612, 3071, 2082, 2275, 4793, 3557, 2984, 3932, 3384, 5938, 5388, 794, 4603, 4951, 915, 3780, 1780, 3288, 6157, 2757, 830, 3425, 4151, 2413, 5882, 4119, 2968, 4546, 883, 3594, 5030, 6114, 724, 6497, 3018, 3332, 675, 3842, 1103, 1569, 5551, 5196, 51, 4706, 3257, 1743, 852, 4660, 2261, 6168, 1536, 942, 4700, 6537, 2397, 2094, 2873, 462, 5456, 111, 4271, 2821, 2509, 5516, 1538, 154, 2348, 1979, 4213, 5149, 951, 5365, 4692, 4869, 2716, 6334, 3046, 6221, 538, 4458, 6007, 5701, 2736, 4095, 2507, 1405, 2586, 3301, 1247, 4816, 5297, 3439, 5702, 4300, 31, 1096, 144, 3209, 2206, 4657, 3186, 4523, 6494, 5398, 1350, 3480, 5865, 4288, 4304, 6356, 2848, 3584, 5484, 3810, 2686, 3488, 1027, 630, 6034, 6033, 1101, 3393, 542, 4984, 3363, 425, 2579, 150, 3002, 2003, 6355, 4321, 5712, 4145, 1169, 1329, 2739, 2284, 4978, 3641, 5546, 5443, 2721, 6340, 1049, 2935, 3573, 3489, 1735, 6510, 4562, 3207, 6545, 4137, 4310, 3764, 1454, 3255, 2227, 2512, 3250, 4316, 3522, 2511, 4982, 1645, 3253, 4053, 2669, 233, 3290, 6257, 3533, 4162, 1782, 1603, 3706, 1463, 1666, 6176, 4355, 1625, 6060, 3372, 62, 445, 936, 3227, 2918, 4528, 5713, 68, 2602, 5946, 3970, 5155, 143, 715, 5857, 969, 4339, 3639, 4813, 5940, 4776, 3192, 5436, 6085, 5527, 4217, 4956, 2140, 4045, 2179, 5896, 3525, 1525, 6256, 422, 5352, 1773, 6113, 2565, 3462, 2643, 4790, 6344, 2790, 5530, 4554, 2674, 4953, 6128, 5057, 1427, 5402, 828, 5055, 4531, 6163, 1973, 2890, 556, 4241, 5343, 5700, 1630, 4726, 5800, 4413, 1631, 1647, 2878, 4215, 2399, 2353, 4062, 2032, 3094, 5010, 946, 5372, 531, 5785, 3928, 1914, 713, 1210, 2742, 5850, 664, 5035, 5050, 545, 5270, 2282, 1430, 1499, 311, 36, 6223, 2885, 5263, 5370, 2195, 4105, 1376, 6507, 6021, 3933, 1207, 358, 4456, 1083, 1928, 5976, 5141, 2795, 4963, 4282, 4853, 452, 1698, 5214, 4063, 1606, 5058, 6170, 4287, 366, 2469, 2554, 5046, 5079, 4787, 2692, 1379, 6490, 2644, 5933, 3507, 5132, 4488, 220, 448, 1500, 614, 2207, 3020, 775, 2089, 1573, 2990, 4819, 286, 1658, 1508, 5695, 1240, 3655, 6540, 1005, 5977, 3430, 1811, 2738, 2484, 1181, 274, 1162, 3541, 6363, 5562, 2756, 2907, 5793, 3062, 4382, 2481, 2187, 429, 6054, 4415, 5153, 2450, 1239, 3843, 300, 772, 6269, 3296, 4875, 3075, 4876, 4697, 1598, 3873, 458, 1835, 549, 3682, 6012, 644, 3314, 3405, 5271, 2472, 265, 2024, 4192, 3320, 430, 6272, 6134, 5924, 3784, 2531, 1837, 5437, 57, 2703, 2656, 5135, 1109, 4538, 940, 632, 109, 5017, 5611, 2336, 5970, 453, 4860, 4364, 4532, 6179, 1893, 1895, 4946, 1775, 12, 3883, 4027, 1511, 6142, 5309, 1915, 588, 4012, 5128, 6246, 5724, 5637, 606, 3657, 4977, 5511, 3164, 4257, 6264, 5549, 4318, 2388, 4122, 1321, 231, 6244, 2894, 3770, 3218, 1690, 4525, 2305, 4175, 3378, 3230, 616, 314, 351, 6005, 2063, 2558, 1678, 2580, 3491, 3626, 3318, 2482, 2429, 4050, 292, 4285, 3289, 3867, 4089, 2058, 5875, 4106, 2899, 6043, 1930, 1831, 3884, 67, 1655, 3587, 5569, 4740, 6014, 6346, 2342, 5340, 2592, 783, 3185, 3822, 379, 2979, 2252, 5037, 3994, 136, 2159, 4495, 2107, 3494, 3703, 3547, 3661, 5011, 2679, 6549, 5927, 2928, 5306, 2412, 1923, 1400, 6013, 5181, 117, 3513, 4205, 3975, 2805, 955, 2141, 2122, 5672, 4814, 5013, 6342, 1484, 1363, 3958, 4884, 3783, 3420, 2699, 2502, 3514, 2617, 5461, 3742, 557, 3231, 3136, 4074, 1851, 2567, 2613, 1332, 2713, 3277, 3758, 6087, 4232, 834, 3919, 2753, 3659, 177, 1036, 2561, 1989, 221, 647, 1095, 1705, 3511, 2476, 727, 19, 6457, 2510, 1728, 5092, 3258, 600, 2308, 5769, 2271, 1747, 2889, 1830, 1988, 2633, 3881, 4530, 5229, 2836, 3566, 25, 336, 4983, 770, 4026, 3571, 3465, 6010, 3496, 3473, 1501, 2584, 2637, 5963, 2966, 3471, 372, 3885, 5884, 3381, 516, 107, 4387, 3523, 1575, 263, 5945, 2104, 4054, 4378, 1942, 592, 2260, 1170, 587, 2442, 2887, 1367, 704, 4057, 2440, 3415, 5770, 4764, 4043, 2054, 871, 1114, 5937, 114, 4794, 5075, 3174, 5048, 3687, 3078, 1284, 4220, 4613, 795, 4932, 4176, 2548, 234, 2826, 3472, 782, 6261, 4738, 1852, 2263, 1533, 5313, 5596, 5475, 3083, 2499, 5033, 4434, 1457, 1857, 5234, 2335, 1544, 5532, 5687, 33, 4682, 5022, 4937, 524, 5028, 1938, 1042, 1607, 2157, 1522, 2327, 2850, 5795, 5467, 3252, 6280, 1587, 3650, 4972, 3013, 3012, 259, 1509, 3732, 1468, 2090, 808, 3319, 6465, 5284, 514, 3455, 1987, 3544, 6357, 3723, 3676, 2404, 4874, 2833, 5646, 5856, 5717, 4622, 4617, 3712, 1692, 110, 5939, 3001, 849, 5803, 3125, 6048, 1993, 2851, 4637, 1264, 1707, 386, 1699, 1117, 3478, 5543, 315, 4424, 1863, 26, 4969, 3665, 2597, 4086, 6353, 6265, 3126, 707, 1351, 4650, 5482, 2281, 312, 5301, 2803, 1843, 1135, 1684, 2886, 1878, 1845, 4036, 1156, 6427, 966, 4975, 4461, 5241, 3890, 4568, 4781, 1215, 2485, 4421, 3274, 2279, 5230, 4208, 2717, 591, 5791, 1292, 4565, 1578, 4775, 4482, 2863, 5608, 4224, 2278, 2028, 1730, 1534, 3729, 1596, 3042, 2829, 521, 5144, 3728, 1691, 1421, 2445, 349, 2031, 4286, 271, 2677, 4342, 1608, 2923, 123, 2249, 4629, 128, 2794, 5431, 5798, 1614, 3757, 1206, 370, 1319, 3976, 1102, 4369, 2270, 4696, 3244, 3392, 1676, 6412, 6447, 3133, 5766, 6171, 4315, 5465, 2074, 1177, 2169, 4987, 6506, 862, 2209, 4146, 3245, 2527, 1936, 2999, 455, 2605, 3128, 4605, 3394, 5107, 2589, 1159, 1087, 6177, 1138, 364, 1336, 5154, 3540, 3653, 697, 3627, 2955, 3458, 1911, 1704, 6508, 4931, 2385, 5242, 1731, 4115, 3173, 2421, 4557, 1583, 1517, 2266, 2874, 3698, 6406, 217, 44, 178, 391, 5278, 5587, 2125, 4902, 6277, 236, 3603, 3284, 2555, 4473, 1262, 6053, 2283, 2566, 752, 2194, 1925, 4718, 6529, 2002, 2358, 5625, 6500, 3456, 2693, 599, 2007, 2762, 1038, 2950, 2649, 5204, 3129, 4888, 1412, 3285, 1261, 4504, 4964, 461, 3750, 3727, 5545, 10, 4082, 3644, 5381, 3766, 5320, 679, 13, 5454, 1669, 728, 6297, 3162, 4621, 2853, 5292, 2784, 2015, 4166, 2593, 3073, 442, 2106, 4127, 2356, 2859, 874, 4231, 1330, 1031, 6326, 3262, 4636, 2534, 5178, 2516, 1195, 6281, 3572, 5374, 5322, 2366, 5430, 356, 5725, 1188, 5378, 4497, 2196, 232, 3437, 4714, 3826, 4283, 6388, 2006, 5387, 1549, 3484, 5019, 3740, 2416, 132, 595, 2535, 2149, 5509, 1154, 4940, 3268, 3796, 2019, 4735, 4337, 2372, 2346, 5401, 4809, 6467, 4900, 929, 37, 6493, 5140, 5867, 4445, 2311, 2349, 1674, 4566, 1211, 6178, 2884, 3913, 3759, 4581, 35, 4858, 5156, 1899, 5142, 3809, 5570, 1382, 5808, 4165, 2607, 4135, 4633, 5202, 4669, 3145, 3786, 1092, 2893, 1495, 4130, 2929, 5433, 4112, 4253, 6448, 3962, 97, 4358, 3429, 2370, 3701, 888, 2807, 4354, 5539, 5429, 200, 1105, 3331, 938, 4642, 6030, 5757, 4949, 4570, 3776, 2831, 2500, 1212, 5550, 1594, 5772, 1278, 5751, 699, 3811, 3528, 4556, 2837, 3423, 4223, 3388, 2830, 680, 1613, 3775, 2559, 5692, 1025, 6429, 5942, 4729, 4890, 5197, 1611, 5031, 6039, 4152, 1214, 3971, 435, 2197, 668, 6156, 754, 1612, 3090, 3027, 381, 1605, 845, 3802, 1341, 625, 3077, 2538, 2517, 1173, 4187, 4826, 1108, 2242, 748, 2161, 1106, 1438, 1513, 3692, 5344, 2571, 256, 1523, 99, 1974, 1380, 3349, 1978, 4227, 2913, 5849, 4571, 4022, 2718, 4314, 617, 2730, 763, 677, 3338, 3704, 3805, 3153, 3812, 6364, 756, 1862, 2406, 4986, 3029, 6018, 2862, 3097, 5061, 6278, 54, 287, 4191, 5054, 47, 3898, 5630, 5729, 970, 4439, 5879, 1267, 1981, 226, 5703, 5566, 2427, 6038, 6437, 1524, 4420, 5620, 3294, 846, 4410, 2902, 4494, 1157, 2614, 2937, 2838, 2642, 176, 5302, 5218, 4747, 6544, 2355, 3308, 1404, 4727, 2988, 5232, 4928, 3453, 5708, 6188, 2360, 1531, 2121, 2286, 5460, 3604, 4221, 3232, 2782, 40, 53, 502, 1253, 3942, 2949, 2769, 2042, 2438, 4821, 3991, 1849, 3631, 3222, 503, 4110, 3819, 956, 1098, 3752, 586, 912, 4955, 4390, 3998, 1461, 2840, 1950, 3401, 3960, 1842, 2746, 4990, 1777, 3711, 4750, 3899, 2039, 4988, 2466, 6513, 21, 2208, 2172, 1621, 2037, 2405, 437, 4370, 2314, 4664, 5731, 2118, 4834, 1755, 2503, 6121, 3974, 4716, 206, 1793, 1136, 340, 1250, 6547, 4308, 403, 5851, 2797, 2243, 6103, 1693, 3045, 3837, 2493, 4064, 4965, 2725, 50, 6335, 49, 1788, 6505, 3191, 2410, 1548, 857, 224, 1706, 264, 6200, 472, 298, 2228, 6088, 6044, 5376, 3447, 5765, 5179, 4194, 6323, 2102, 3907, 6089, 6415, 4003, 3746, 4547, 3490, 6077, 4845, 4690, 5631, 6183, 5833, 388, 973, 4817, 5941, 3451, 1110, 3606, 708, 4437, 3204, 755, 3714, 5786, 1934, 850, 4707, 3637, 3431, 4575, 6049, 518, 6172, 4773, 6194, 3061, 6351, 3059, 4085, 2936, 6410, 1665, 2864, 4157, 5487, 2475, 3385, 41, 2428, 3103, 4500, 3562, 1483, 1237, 3628, 5122, 1828, 4202, 2454, 1985, 4219, 6499, 2681, 5517, 5958, 5756, 1833, 6550, 2103, 2963, 676, 2497, 5813, 4471, 5764, 547, 198, 1854, 1627, 4296, 3243, 4359, 5123, 5288, 3595, 5846, 698, 3121, 634, 2806, 2181, 6126, 2078, 5353, 5522, 383, 608, 3441, 5891, 1290, 1043, 352, 395, 4167, 2198, 5481, 5609, 3298, 1532, 306, 2726, 4659, 2609, 5914, 4878, 6536, 3984, 4031, 3269, 511, 1172, 5559, 5095, 1111, 6181, 2138, 1986, 2448, 4380, 2056, 1046, 1133, 6445, 4120, 5134, 4626, 6424, 4730, 5375, 5304, 5648, 872, 2273, 2301, 2309, 190, 267, 6408, 779, 5593, 3427, 4235, 5383, 1455, 5616, 1000, 5192, 5604, 2120, 993, 2629, 5188, 1176, 1287, 6366, 928, 6193, 3270, 4081, 2814, 4742, 3531, 6367, 6485, 2368, 2668, 2978, 5726, 1343, 4055, 6382, 804, 2533, 3534, 2841, 4041, 3074, 4688, 4173, 6004, 2272, 4405, 4614, 2439, 5070, 3377, 368, 921, 6434, 4114, 3781, 6431, 4604, 95, 4551, 3620, 348, 5321, 2817, 2981, 684, 3006, 3790, 4317, 3734, 305, 3416, 5236, 6512, 4805, 2740, 2325, 222, 911, 3767, 4072, 359, 2483, 2956, 4732, 1420, 3569, 4997, 5837, 5377, 5286, 4278, 1257, 1216, 3407, 3745, 5042, 1348, 2313, 4148, 3495, 4277, 1949, 4665, 3010, 4717, 1939, 2888, 877, 1856, 1407, 91, 6213, 3383, 5792, 4989, 1568, 1975, 1244, 2641, 3588, 5507, 2727, 323, 1946, 3751, 5157, 2785, 523, 4048, 3782, 5127, 598, 280, 2881, 6216, 2764, 1772, 3248, 5685, 2371, 3685, 6133, 5928, 3726, 5452, 64, 3624, 6250, 6028, 6535, 3909, 2525, 2332, 5669, 4189, 4132, 3807, 1689, 3241, 3446, 5635, 3948, 1252, 2546, 5880, 5995, 3283, 6110, 214, 4170, 4138, 2825, 5015, 1715, 2444, 4600, 6511, 766, 6290, 3276, 891, 6370, 1749, 2433, 1014, 4373, 2108, 3648, 5862, 4134, 3265, 4767, 5316, 1922, 5929, 4618, 2077, 6327]\n",
      "test ids:  [0, 1, 2, 3, 4, 5, 6, 7, 8, 78, 79, 80, 81, 82, 83, 84, 85, 86, 87, 88, 89, 90, 158, 159, 160, 161, 162, 163, 164, 165, 166, 167, 168, 169, 170, 171, 238, 239, 240, 241, 242, 243, 244, 245, 246, 247, 248, 249, 250, 251, 252, 253, 318, 319, 320, 321, 322, 324, 325, 326, 327, 328, 329, 330, 331, 332, 333, 334, 335, 398, 399, 400, 401, 402, 405, 406, 407, 408, 409, 410, 411, 412, 413, 414, 415, 416, 417, 478, 479, 480, 481, 482, 486, 487, 488, 489, 490, 491, 492, 493, 494, 495, 496, 497, 498, 499, 558, 559, 560, 561, 562, 567, 568, 569, 570, 571, 572, 573, 574, 575, 576, 577, 578, 579, 580, 638, 639, 640, 641, 642, 648, 649, 650, 651, 652, 653, 654, 655, 656, 657, 658, 659, 660, 661, 662, 718, 719, 720, 721, 722, 729, 730, 731, 732, 733, 734, 735, 736, 737, 738, 739, 740, 741, 742, 743, 744, 798, 799, 800, 801, 802, 810, 811, 812, 813, 814, 815, 816, 817, 818, 819, 820, 821, 822, 823, 824, 825, 826, 878, 879, 880, 881, 882, 892, 893, 894, 895, 896, 897, 898, 899, 900, 901, 902, 903, 904, 905, 906, 907, 908, 958, 959, 960, 961, 962, 974, 975, 976, 977, 978, 979, 980, 981, 982, 983, 984, 985, 986, 987, 988, 989, 1039, 1040, 1041, 1057, 1058, 1059, 1060, 1061, 1062, 1063, 1064, 1065, 1066, 1067, 1068, 1069, 1070, 1071, 1119, 1120, 1121, 1139, 1140, 1141, 1142, 1143, 1144, 1145, 1146, 1147, 1148, 1149, 1150, 1151, 1152, 1153, 1199, 1200, 1201, 1221, 1222, 1223, 1224, 1225, 1226, 1227, 1228, 1229, 1230, 1231, 1232, 1233, 1234, 1235, 1279, 1280, 1281, 1304, 1305, 1306, 1307, 1308, 1309, 1310, 1311, 1312, 1313, 1314, 1315, 1316, 1359, 1360, 1361, 1386, 1387, 1388, 1389, 1390, 1391, 1392, 1393, 1394, 1395, 1396, 1397, 1398, 1439, 1440, 1441, 1469, 1470, 1471, 1472, 1473, 1474, 1475, 1476, 1477, 1478, 1479, 1480, 1519, 1520, 1521, 1551, 1552, 1553, 1554, 1555, 1556, 1557, 1558, 1559, 1560, 1561, 1562, 1599, 1600, 1601, 1633, 1634, 1635, 1636, 1637, 1638, 1639, 1640, 1641, 1642, 1643, 1644, 1679, 1680, 1681, 1716, 1717, 1718, 1719, 1720, 1721, 1722, 1723, 1724, 1725, 1759, 1760, 1761, 1798, 1799, 1800, 1801, 1802, 1803, 1804, 1805, 1806, 1807, 1839, 1840, 1841, 1880, 1881, 1882, 1883, 1884, 1885, 1886, 1887, 1888, 1889, 1919, 1920, 1921, 1963, 1964, 1965, 1966, 1967, 1968, 1969, 1970, 1971, 1999, 2000, 2001, 2045, 2046, 2047, 2048, 2049, 2050, 2051, 2052, 2053, 2079, 2080, 2081, 2127, 2128, 2129, 2130, 2131, 2132, 2133, 2134, 2160, 2210, 2211, 2212, 2213, 2214, 2215, 2216, 2240, 2292, 2293, 2294, 2295, 2296, 2297, 2298, 2320, 2375, 2376, 2377, 2378, 2379, 2380, 2400, 2457, 2458, 2459, 2460, 2461, 2462, 2480, 2539, 2540, 2541, 2542, 2543, 2560, 2622, 2623, 2624, 2625, 2640, 2704, 2705, 2706, 2707, 2720, 2786, 2787, 2788, 2789, 2800, 2869, 2870, 2871, 2880, 2951, 2952, 2960, 3033, 3034, 3040, 3116, 3120, 3198, 3200, 3280, 3360, 3362, 3440, 3444, 3520, 3526, 3527, 3600, 3608, 3609, 3680, 3689, 3690, 3691, 3760, 3771, 3772, 3773, 3774, 3840, 3853, 3854, 3855, 3856, 3920, 3935, 3936, 3937, 3938, 4000, 4017, 4018, 4019, 4020, 4021, 4080, 4098, 4099, 4100, 4101, 4102, 4103, 4160, 4180, 4181, 4182, 4183, 4184, 4185, 4240, 4262, 4263, 4264, 4265, 4266, 4267, 4268, 4320, 4344, 4345, 4346, 4347, 4348, 4349, 4350, 4400, 4426, 4427, 4428, 4429, 4430, 4431, 4432, 4433, 4479, 4480, 4481, 4507, 4508, 4509, 4510, 4511, 4512, 4513, 4514, 4515, 4559, 4560, 4561, 4589, 4590, 4591, 4592, 4593, 4594, 4595, 4596, 4597, 4639, 4640, 4641, 4671, 4672, 4673, 4674, 4675, 4676, 4677, 4678, 4679, 4680, 4719, 4720, 4721, 4753, 4754, 4755, 4756, 4757, 4758, 4759, 4760, 4761, 4762, 4799, 4800, 4801, 4835, 4836, 4837, 4838, 4839, 4840, 4841, 4842, 4843, 4844, 4879, 4880, 4881, 4916, 4917, 4918, 4919, 4920, 4921, 4922, 4923, 4924, 4925, 4926, 4927, 4959, 4960, 4961, 4998, 4999, 5000, 5001, 5002, 5003, 5004, 5005, 5006, 5007, 5008, 5009, 5039, 5040, 5041, 5080, 5081, 5082, 5083, 5084, 5085, 5086, 5087, 5088, 5089, 5090, 5091, 5119, 5120, 5121, 5162, 5163, 5164, 5165, 5166, 5167, 5168, 5169, 5170, 5171, 5172, 5173, 5174, 5199, 5200, 5201, 5244, 5245, 5246, 5247, 5248, 5249, 5250, 5251, 5252, 5253, 5254, 5255, 5256, 5279, 5280, 5281, 5325, 5326, 5327, 5328, 5329, 5330, 5331, 5332, 5333, 5334, 5335, 5336, 5337, 5338, 5339, 5359, 5360, 5361, 5407, 5408, 5409, 5410, 5411, 5412, 5413, 5414, 5415, 5416, 5417, 5418, 5419, 5420, 5421, 5439, 5440, 5441, 5489, 5490, 5491, 5492, 5493, 5494, 5495, 5496, 5497, 5498, 5499, 5500, 5501, 5502, 5503, 5519, 5520, 5521, 5571, 5572, 5573, 5574, 5575, 5576, 5577, 5578, 5579, 5580, 5581, 5582, 5583, 5584, 5585, 5586, 5598, 5599, 5600, 5601, 5602, 5652, 5653, 5654, 5655, 5656, 5657, 5658, 5659, 5660, 5661, 5662, 5663, 5664, 5665, 5666, 5667, 5668, 5678, 5679, 5680, 5681, 5682, 5734, 5735, 5736, 5737, 5738, 5739, 5740, 5741, 5742, 5743, 5744, 5745, 5746, 5747, 5748, 5749, 5750, 5758, 5759, 5760, 5761, 5762, 5816, 5817, 5818, 5819, 5820, 5821, 5822, 5823, 5824, 5825, 5826, 5827, 5828, 5829, 5830, 5831, 5838, 5839, 5840, 5841, 5842, 5898, 5899, 5900, 5901, 5902, 5903, 5904, 5905, 5906, 5907, 5908, 5909, 5910, 5911, 5912, 5918, 5919, 5920, 5921, 5922, 5980, 5981, 5982, 5983, 5984, 5985, 5986, 5987, 5988, 5989, 5990, 5991, 5992, 5993, 5998, 5999, 6000, 6001, 6002, 6061, 6062, 6063, 6064, 6065, 6066, 6067, 6068, 6069, 6070, 6071, 6072, 6073, 6074, 6078, 6079, 6080, 6081, 6082, 6143, 6144, 6145, 6146, 6147, 6148, 6149, 6150, 6151, 6152, 6153, 6154, 6155, 6158, 6159, 6160, 6161, 6162, 6225, 6226, 6227, 6228, 6229, 6230, 6231, 6232, 6233, 6234, 6235, 6236, 6238, 6239, 6240, 6241, 6242, 6307, 6308, 6309, 6310, 6311, 6312, 6313, 6314, 6315, 6316, 6317, 6318, 6319, 6320, 6321, 6322, 6389, 6390, 6391, 6392, 6393, 6394, 6395, 6396, 6397, 6398, 6399, 6400, 6401, 6402, 6470, 6471, 6472, 6473, 6474, 6475, 6476, 6477, 6478, 6479, 6480, 6481, 6482, 6552, 6553, 6554, 6555, 6556, 6557, 6558, 6559, 6560]\n",
      "CPU times: user 153 ms, sys: 16 ms, total: 169 ms\n",
      "Wall time: 168 ms\n"
     ]
    }
   ],
   "source": [
    "%%time\n",
    "n_total = len(simulation.dataframe)\n",
    "n_train = len(simulation.dataframe[simulation.dataframe.type_of == \"train\"])\n",
    "n_val = len(simulation.dataframe[simulation.dataframe.type_of == \"val\"])\n",
    "n_test = len(simulation.dataframe[simulation.dataframe.type_of == \"test\"])\n",
    "n_train_hamiltonians = len(simulation.train_ids)\n",
    "n_val_hamiltonians = len(simulation.val_ids)\n",
    "n_test_hamiltonians = len(simulation.test_ids)\n",
    "n_total_hamiltonians = n_train_hamiltonians + n_val_hamiltonians + n_test_hamiltonians\n",
    "\n",
    "print(\"% train: \", n_train/n_total)\n",
    "print(\"% val: \",  n_val/n_total)\n",
    "print(\"% test: \", n_test/n_total)\n",
    "print(\"% train + val + test: \", (n_train+n_val+n_test)/n_total)\n",
    "print(\"\\n\")\n",
    "print(\"number of train hamiltonians: \", n_train_hamiltonians)\n",
    "print(\"number of val hamiltonians: \", n_val_hamiltonians)\n",
    "print(\"number of test hamiltonians: \", n_test_hamiltonians)\n",
    "print(\"total number of hamiltonians: \", n_total_hamiltonians)\n",
    "print(\"\\n\")\n",
    "print(\"train ids: \", simulation.train_ids)\n",
    "print(\"val ids: \", simulation.val_ids)\n",
    "print(\"test ids: \", simulation.test_ids)"
   ]
  },
  {
   "cell_type": "markdown",
   "metadata": {
    "papermill": {
     "duration": 0.037956,
     "end_time": "2020-07-18T05:36:39.023132",
     "exception": false,
     "start_time": "2020-07-18T05:36:38.985176",
     "status": "completed"
    },
    "tags": []
   },
   "source": [
    "#### Checking summaries"
   ]
  },
  {
   "cell_type": "code",
   "execution_count": 31,
   "metadata": {
    "execution": {
     "iopub.execute_input": "2020-07-18T05:36:39.098512Z",
     "iopub.status.busy": "2020-07-18T05:36:39.098204Z",
     "iopub.status.idle": "2020-07-18T05:36:39.116721Z",
     "shell.execute_reply": "2020-07-18T05:36:39.116401Z"
    },
    "papermill": {
     "duration": 0.056399,
     "end_time": "2020-07-18T05:36:39.116772",
     "exception": false,
     "start_time": "2020-07-18T05:36:39.060373",
     "status": "completed"
    },
    "tags": []
   },
   "outputs": [
    {
     "name": "stdout",
     "output_type": "stream",
     "text": [
      "length of ham_summary:  6561\n",
      "CPU times: user 83 µs, sys: 1e+03 ns, total: 84 µs\n",
      "Wall time: 55.1 µs\n"
     ]
    },
    {
     "data": {
      "text/html": [
       "<div>\n",
       "<style scoped>\n",
       "    .dataframe tbody tr th:only-of-type {\n",
       "        vertical-align: middle;\n",
       "    }\n",
       "\n",
       "    .dataframe tbody tr th {\n",
       "        vertical-align: top;\n",
       "    }\n",
       "\n",
       "    .dataframe thead th {\n",
       "        text-align: right;\n",
       "    }\n",
       "</style>\n",
       "<table border=\"1\" class=\"dataframe\">\n",
       "  <thead>\n",
       "    <tr style=\"text-align: right;\">\n",
       "      <th></th>\n",
       "      <th>t1</th>\n",
       "      <th>t2</th>\n",
       "      <th>type_of</th>\n",
       "      <th>0</th>\n",
       "      <th>1</th>\n",
       "      <th>phase</th>\n",
       "      <th>pred_phase</th>\n",
       "    </tr>\n",
       "    <tr>\n",
       "      <th>id</th>\n",
       "      <th></th>\n",
       "      <th></th>\n",
       "      <th></th>\n",
       "      <th></th>\n",
       "      <th></th>\n",
       "      <th></th>\n",
       "      <th></th>\n",
       "    </tr>\n",
       "  </thead>\n",
       "  <tbody>\n",
       "    <tr>\n",
       "      <th>0</th>\n",
       "      <td>-2.0</td>\n",
       "      <td>-2.00</td>\n",
       "      <td>test</td>\n",
       "      <td>0.64</td>\n",
       "      <td>0.36</td>\n",
       "      <td>999</td>\n",
       "      <td>0</td>\n",
       "    </tr>\n",
       "    <tr>\n",
       "      <th>1</th>\n",
       "      <td>-2.0</td>\n",
       "      <td>-1.95</td>\n",
       "      <td>test</td>\n",
       "      <td>0.74</td>\n",
       "      <td>0.26</td>\n",
       "      <td>0</td>\n",
       "      <td>0</td>\n",
       "    </tr>\n",
       "    <tr>\n",
       "      <th>2</th>\n",
       "      <td>-2.0</td>\n",
       "      <td>-1.90</td>\n",
       "      <td>test</td>\n",
       "      <td>0.84</td>\n",
       "      <td>0.16</td>\n",
       "      <td>0</td>\n",
       "      <td>0</td>\n",
       "    </tr>\n",
       "    <tr>\n",
       "      <th>3</th>\n",
       "      <td>-2.0</td>\n",
       "      <td>-1.85</td>\n",
       "      <td>test</td>\n",
       "      <td>0.88</td>\n",
       "      <td>0.12</td>\n",
       "      <td>0</td>\n",
       "      <td>0</td>\n",
       "    </tr>\n",
       "    <tr>\n",
       "      <th>4</th>\n",
       "      <td>-2.0</td>\n",
       "      <td>-1.80</td>\n",
       "      <td>test</td>\n",
       "      <td>0.93</td>\n",
       "      <td>0.07</td>\n",
       "      <td>0</td>\n",
       "      <td>0</td>\n",
       "    </tr>\n",
       "    <tr>\n",
       "      <th>...</th>\n",
       "      <td>...</td>\n",
       "      <td>...</td>\n",
       "      <td>...</td>\n",
       "      <td>...</td>\n",
       "      <td>...</td>\n",
       "      <td>...</td>\n",
       "      <td>...</td>\n",
       "    </tr>\n",
       "    <tr>\n",
       "      <th>6556</th>\n",
       "      <td>2.0</td>\n",
       "      <td>1.80</td>\n",
       "      <td>test</td>\n",
       "      <td>0.94</td>\n",
       "      <td>0.06</td>\n",
       "      <td>0</td>\n",
       "      <td>0</td>\n",
       "    </tr>\n",
       "    <tr>\n",
       "      <th>6557</th>\n",
       "      <td>2.0</td>\n",
       "      <td>1.85</td>\n",
       "      <td>test</td>\n",
       "      <td>0.89</td>\n",
       "      <td>0.11</td>\n",
       "      <td>0</td>\n",
       "      <td>0</td>\n",
       "    </tr>\n",
       "    <tr>\n",
       "      <th>6558</th>\n",
       "      <td>2.0</td>\n",
       "      <td>1.90</td>\n",
       "      <td>test</td>\n",
       "      <td>0.82</td>\n",
       "      <td>0.18</td>\n",
       "      <td>0</td>\n",
       "      <td>0</td>\n",
       "    </tr>\n",
       "    <tr>\n",
       "      <th>6559</th>\n",
       "      <td>2.0</td>\n",
       "      <td>1.95</td>\n",
       "      <td>test</td>\n",
       "      <td>0.68</td>\n",
       "      <td>0.32</td>\n",
       "      <td>0</td>\n",
       "      <td>0</td>\n",
       "    </tr>\n",
       "    <tr>\n",
       "      <th>6560</th>\n",
       "      <td>2.0</td>\n",
       "      <td>2.00</td>\n",
       "      <td>test</td>\n",
       "      <td>0.63</td>\n",
       "      <td>0.37</td>\n",
       "      <td>999</td>\n",
       "      <td>0</td>\n",
       "    </tr>\n",
       "  </tbody>\n",
       "</table>\n",
       "<p>6561 rows × 7 columns</p>\n",
       "</div>"
      ],
      "text/plain": [
       "       t1    t2 type_of     0     1  phase  pred_phase\n",
       "id                                                    \n",
       "0    -2.0 -2.00    test  0.64  0.36    999           0\n",
       "1    -2.0 -1.95    test  0.74  0.26      0           0\n",
       "2    -2.0 -1.90    test  0.84  0.16      0           0\n",
       "3    -2.0 -1.85    test  0.88  0.12      0           0\n",
       "4    -2.0 -1.80    test  0.93  0.07      0           0\n",
       "...   ...   ...     ...   ...   ...    ...         ...\n",
       "6556  2.0  1.80    test  0.94  0.06      0           0\n",
       "6557  2.0  1.85    test  0.89  0.11      0           0\n",
       "6558  2.0  1.90    test  0.82  0.18      0           0\n",
       "6559  2.0  1.95    test  0.68  0.32      0           0\n",
       "6560  2.0  2.00    test  0.63  0.37    999           0\n",
       "\n",
       "[6561 rows x 7 columns]"
      ]
     },
     "execution_count": 31,
     "metadata": {},
     "output_type": "execute_result"
    }
   ],
   "source": [
    "%%time\n",
    "ham_summary = simulation.hamiltonian_summary\n",
    "print(\"length of ham_summary: \", len(ham_summary))\n",
    "ham_summary"
   ]
  },
  {
   "cell_type": "code",
   "execution_count": 32,
   "metadata": {
    "execution": {
     "iopub.execute_input": "2020-07-18T05:36:39.194187Z",
     "iopub.status.busy": "2020-07-18T05:36:39.193865Z",
     "iopub.status.idle": "2020-07-18T05:36:39.222059Z",
     "shell.execute_reply": "2020-07-18T05:36:39.221739Z"
    },
    "papermill": {
     "duration": 0.067615,
     "end_time": "2020-07-18T05:36:39.222110",
     "exception": false,
     "start_time": "2020-07-18T05:36:39.154495",
     "status": "completed"
    },
    "tags": []
   },
   "outputs": [
    {
     "data": {
      "text/html": [
       "<div>\n",
       "<style scoped>\n",
       "    .dataframe tbody tr th:only-of-type {\n",
       "        vertical-align: middle;\n",
       "    }\n",
       "\n",
       "    .dataframe tbody tr th {\n",
       "        vertical-align: top;\n",
       "    }\n",
       "\n",
       "    .dataframe thead th {\n",
       "        text-align: right;\n",
       "    }\n",
       "</style>\n",
       "<table border=\"1\" class=\"dataframe\">\n",
       "  <thead>\n",
       "    <tr style=\"text-align: right;\">\n",
       "      <th></th>\n",
       "      <th>t1</th>\n",
       "      <th>t2</th>\n",
       "      <th>0</th>\n",
       "      <th>1</th>\n",
       "      <th>phase</th>\n",
       "      <th>pred_phase</th>\n",
       "    </tr>\n",
       "  </thead>\n",
       "  <tbody>\n",
       "    <tr>\n",
       "      <th>count</th>\n",
       "      <td>6561.000000</td>\n",
       "      <td>6.561000e+03</td>\n",
       "      <td>6561.000000</td>\n",
       "      <td>6561.000000</td>\n",
       "      <td>6561.000000</td>\n",
       "      <td>6561.000000</td>\n",
       "    </tr>\n",
       "    <tr>\n",
       "      <th>mean</th>\n",
       "      <td>0.000000</td>\n",
       "      <td>-4.331917e-18</td>\n",
       "      <td>0.529742</td>\n",
       "      <td>0.470258</td>\n",
       "      <td>25.002134</td>\n",
       "      <td>0.487121</td>\n",
       "    </tr>\n",
       "    <tr>\n",
       "      <th>std</th>\n",
       "      <td>1.169134</td>\n",
       "      <td>1.169134e+00</td>\n",
       "      <td>0.440356</td>\n",
       "      <td>0.440356</td>\n",
       "      <td>154.495657</td>\n",
       "      <td>0.499872</td>\n",
       "    </tr>\n",
       "    <tr>\n",
       "      <th>min</th>\n",
       "      <td>-2.000000</td>\n",
       "      <td>-2.000000e+00</td>\n",
       "      <td>0.020000</td>\n",
       "      <td>0.000000</td>\n",
       "      <td>0.000000</td>\n",
       "      <td>0.000000</td>\n",
       "    </tr>\n",
       "    <tr>\n",
       "      <th>25%</th>\n",
       "      <td>-1.000000</td>\n",
       "      <td>-1.000000e+00</td>\n",
       "      <td>0.050000</td>\n",
       "      <td>0.030000</td>\n",
       "      <td>0.000000</td>\n",
       "      <td>0.000000</td>\n",
       "    </tr>\n",
       "    <tr>\n",
       "      <th>50%</th>\n",
       "      <td>0.000000</td>\n",
       "      <td>0.000000e+00</td>\n",
       "      <td>0.640000</td>\n",
       "      <td>0.360000</td>\n",
       "      <td>1.000000</td>\n",
       "      <td>0.000000</td>\n",
       "    </tr>\n",
       "    <tr>\n",
       "      <th>75%</th>\n",
       "      <td>1.000000</td>\n",
       "      <td>1.000000e+00</td>\n",
       "      <td>0.970000</td>\n",
       "      <td>0.950000</td>\n",
       "      <td>1.000000</td>\n",
       "      <td>1.000000</td>\n",
       "    </tr>\n",
       "    <tr>\n",
       "      <th>max</th>\n",
       "      <td>2.000000</td>\n",
       "      <td>2.000000e+00</td>\n",
       "      <td>1.000000</td>\n",
       "      <td>0.980000</td>\n",
       "      <td>999.000000</td>\n",
       "      <td>1.000000</td>\n",
       "    </tr>\n",
       "  </tbody>\n",
       "</table>\n",
       "</div>"
      ],
      "text/plain": [
       "                t1            t2            0            1        phase  \\\n",
       "count  6561.000000  6.561000e+03  6561.000000  6561.000000  6561.000000   \n",
       "mean      0.000000 -4.331917e-18     0.529742     0.470258    25.002134   \n",
       "std       1.169134  1.169134e+00     0.440356     0.440356   154.495657   \n",
       "min      -2.000000 -2.000000e+00     0.020000     0.000000     0.000000   \n",
       "25%      -1.000000 -1.000000e+00     0.050000     0.030000     0.000000   \n",
       "50%       0.000000  0.000000e+00     0.640000     0.360000     1.000000   \n",
       "75%       1.000000  1.000000e+00     0.970000     0.950000     1.000000   \n",
       "max       2.000000  2.000000e+00     1.000000     0.980000   999.000000   \n",
       "\n",
       "        pred_phase  \n",
       "count  6561.000000  \n",
       "mean      0.487121  \n",
       "std       0.499872  \n",
       "min       0.000000  \n",
       "25%       0.000000  \n",
       "50%       0.000000  \n",
       "75%       1.000000  \n",
       "max       1.000000  "
      ]
     },
     "execution_count": 32,
     "metadata": {},
     "output_type": "execute_result"
    }
   ],
   "source": [
    "ham_summary.describe()"
   ]
  },
  {
   "cell_type": "code",
   "execution_count": 33,
   "metadata": {
    "execution": {
     "iopub.execute_input": "2020-07-18T05:36:39.300886Z",
     "iopub.status.busy": "2020-07-18T05:36:39.300564Z",
     "iopub.status.idle": "2020-07-18T05:36:39.316057Z",
     "shell.execute_reply": "2020-07-18T05:36:39.315740Z"
    },
    "papermill": {
     "duration": 0.055915,
     "end_time": "2020-07-18T05:36:39.316109",
     "exception": false,
     "start_time": "2020-07-18T05:36:39.260194",
     "status": "completed"
    },
    "tags": []
   },
   "outputs": [
    {
     "name": "stdout",
     "output_type": "stream",
     "text": [
      "length of ham_summary:  656100\n"
     ]
    },
    {
     "data": {
      "text/html": [
       "<div>\n",
       "<style scoped>\n",
       "    .dataframe tbody tr th:only-of-type {\n",
       "        vertical-align: middle;\n",
       "    }\n",
       "\n",
       "    .dataframe tbody tr th {\n",
       "        vertical-align: top;\n",
       "    }\n",
       "\n",
       "    .dataframe thead th {\n",
       "        text-align: right;\n",
       "    }\n",
       "</style>\n",
       "<table border=\"1\" class=\"dataframe\">\n",
       "  <thead>\n",
       "    <tr style=\"text-align: right;\">\n",
       "      <th></th>\n",
       "      <th>id</th>\n",
       "      <th>phase</th>\n",
       "      <th>pred_phase</th>\n",
       "      <th>type_of</th>\n",
       "    </tr>\n",
       "  </thead>\n",
       "  <tbody>\n",
       "    <tr>\n",
       "      <th>0</th>\n",
       "      <td>0</td>\n",
       "      <td>999</td>\n",
       "      <td>0</td>\n",
       "      <td>test</td>\n",
       "    </tr>\n",
       "    <tr>\n",
       "      <th>1</th>\n",
       "      <td>0</td>\n",
       "      <td>999</td>\n",
       "      <td>1</td>\n",
       "      <td>test</td>\n",
       "    </tr>\n",
       "    <tr>\n",
       "      <th>2</th>\n",
       "      <td>0</td>\n",
       "      <td>999</td>\n",
       "      <td>0</td>\n",
       "      <td>test</td>\n",
       "    </tr>\n",
       "    <tr>\n",
       "      <th>3</th>\n",
       "      <td>0</td>\n",
       "      <td>999</td>\n",
       "      <td>0</td>\n",
       "      <td>test</td>\n",
       "    </tr>\n",
       "    <tr>\n",
       "      <th>4</th>\n",
       "      <td>0</td>\n",
       "      <td>999</td>\n",
       "      <td>0</td>\n",
       "      <td>test</td>\n",
       "    </tr>\n",
       "    <tr>\n",
       "      <th>...</th>\n",
       "      <td>...</td>\n",
       "      <td>...</td>\n",
       "      <td>...</td>\n",
       "      <td>...</td>\n",
       "    </tr>\n",
       "    <tr>\n",
       "      <th>656095</th>\n",
       "      <td>6560</td>\n",
       "      <td>999</td>\n",
       "      <td>0</td>\n",
       "      <td>test</td>\n",
       "    </tr>\n",
       "    <tr>\n",
       "      <th>656096</th>\n",
       "      <td>6560</td>\n",
       "      <td>999</td>\n",
       "      <td>0</td>\n",
       "      <td>test</td>\n",
       "    </tr>\n",
       "    <tr>\n",
       "      <th>656097</th>\n",
       "      <td>6560</td>\n",
       "      <td>999</td>\n",
       "      <td>0</td>\n",
       "      <td>test</td>\n",
       "    </tr>\n",
       "    <tr>\n",
       "      <th>656098</th>\n",
       "      <td>6560</td>\n",
       "      <td>999</td>\n",
       "      <td>1</td>\n",
       "      <td>test</td>\n",
       "    </tr>\n",
       "    <tr>\n",
       "      <th>656099</th>\n",
       "      <td>6560</td>\n",
       "      <td>999</td>\n",
       "      <td>0</td>\n",
       "      <td>test</td>\n",
       "    </tr>\n",
       "  </tbody>\n",
       "</table>\n",
       "<p>656100 rows × 4 columns</p>\n",
       "</div>"
      ],
      "text/plain": [
       "          id  phase  pred_phase type_of\n",
       "0          0    999           0    test\n",
       "1          0    999           1    test\n",
       "2          0    999           0    test\n",
       "3          0    999           0    test\n",
       "4          0    999           0    test\n",
       "...      ...    ...         ...     ...\n",
       "656095  6560    999           0    test\n",
       "656096  6560    999           0    test\n",
       "656097  6560    999           0    test\n",
       "656098  6560    999           1    test\n",
       "656099  6560    999           0    test\n",
       "\n",
       "[656100 rows x 4 columns]"
      ]
     },
     "execution_count": 33,
     "metadata": {},
     "output_type": "execute_result"
    }
   ],
   "source": [
    "eigen_summary = simulation.eigenvector_summary\n",
    "print(\"length of ham_summary: \", len(eigen_summary))\n",
    "eigen_summary"
   ]
  },
  {
   "cell_type": "markdown",
   "metadata": {
    "papermill": {
     "duration": 0.265082,
     "end_time": "2020-07-18T05:36:39.619046",
     "exception": false,
     "start_time": "2020-07-18T05:36:39.353964",
     "status": "completed"
    },
    "tags": []
   },
   "source": [
    "#### Checking accuracies"
   ]
  },
  {
   "cell_type": "code",
   "execution_count": 34,
   "metadata": {
    "execution": {
     "iopub.execute_input": "2020-07-18T05:36:39.739855Z",
     "iopub.status.busy": "2020-07-18T05:36:39.739532Z",
     "iopub.status.idle": "2020-07-18T05:36:39.760613Z",
     "shell.execute_reply": "2020-07-18T05:36:39.760284Z"
    },
    "papermill": {
     "duration": 0.063147,
     "end_time": "2020-07-18T05:36:39.760665",
     "exception": false,
     "start_time": "2020-07-18T05:36:39.697518",
     "status": "completed"
    },
    "tags": []
   },
   "outputs": [
    {
     "data": {
      "text/plain": [
       "{'eigenvector_train': 0.9726798561151079,\n",
       " 'eigenvector_val': 0.944082,\n",
       " 'eigenvector_test': 0.8134597156398105,\n",
       " 'hamiltonian_train': 0.9910071942446043,\n",
       " 'hamiltonian_val': 0.985,\n",
       " 'hamiltonian_test': 0.9964454976303317}"
      ]
     },
     "execution_count": 34,
     "metadata": {},
     "output_type": "execute_result"
    }
   ],
   "source": [
    "simulation.accuracy"
   ]
  },
  {
   "cell_type": "markdown",
   "metadata": {
    "papermill": {
     "duration": 0.038223,
     "end_time": "2020-07-18T05:36:39.837320",
     "exception": false,
     "start_time": "2020-07-18T05:36:39.799097",
     "status": "completed"
    },
    "tags": []
   },
   "source": [
    "#### Checking data stored in  memory"
   ]
  },
  {
   "cell_type": "code",
   "execution_count": 35,
   "metadata": {
    "execution": {
     "iopub.execute_input": "2020-07-18T05:36:39.915226Z",
     "iopub.status.busy": "2020-07-18T05:36:39.914913Z",
     "iopub.status.idle": "2020-07-18T05:36:39.925620Z",
     "shell.execute_reply": "2020-07-18T05:36:39.925304Z"
    },
    "papermill": {
     "duration": 0.050329,
     "end_time": "2020-07-18T05:36:39.925672",
     "exception": false,
     "start_time": "2020-07-18T05:36:39.875343",
     "status": "completed"
    },
    "tags": []
   },
   "outputs": [
    {
     "data": {
      "text/plain": [
       "[]"
      ]
     },
     "execution_count": 35,
     "metadata": {},
     "output_type": "execute_result"
    }
   ],
   "source": [
    "ham_summary_list = simulation.hamiltonian_summary_list\n",
    "ham_summary_list"
   ]
  },
  {
   "cell_type": "code",
   "execution_count": 36,
   "metadata": {
    "execution": {
     "iopub.execute_input": "2020-07-18T05:36:40.005054Z",
     "iopub.status.busy": "2020-07-18T05:36:40.004521Z",
     "iopub.status.idle": "2020-07-18T05:36:40.015565Z",
     "shell.execute_reply": "2020-07-18T05:36:40.015248Z"
    },
    "papermill": {
     "duration": 0.051165,
     "end_time": "2020-07-18T05:36:40.015617",
     "exception": false,
     "start_time": "2020-07-18T05:36:39.964452",
     "status": "completed"
    },
    "tags": []
   },
   "outputs": [
    {
     "data": {
      "text/plain": [
       "[]"
      ]
     },
     "execution_count": 36,
     "metadata": {},
     "output_type": "execute_result"
    }
   ],
   "source": [
    "eigen_summary_list = simulation.eigenvector_summary_list\n",
    "eigen_summary_list"
   ]
  },
  {
   "cell_type": "code",
   "execution_count": 37,
   "metadata": {
    "execution": {
     "iopub.execute_input": "2020-07-18T05:36:40.094519Z",
     "iopub.status.busy": "2020-07-18T05:36:40.094028Z",
     "iopub.status.idle": "2020-07-18T05:36:40.104252Z",
     "shell.execute_reply": "2020-07-18T05:36:40.104557Z"
    },
    "papermill": {
     "duration": 0.05002,
     "end_time": "2020-07-18T05:36:40.104621",
     "exception": false,
     "start_time": "2020-07-18T05:36:40.054601",
     "status": "completed"
    },
    "tags": []
   },
   "outputs": [
    {
     "data": {
      "text/plain": [
       "{'eigenvector_train': [],\n",
       " 'eigenvector_val': [],\n",
       " 'eigenvector_test': [],\n",
       " 'hamiltonian_train': [],\n",
       " 'hamiltonian_val': [],\n",
       " 'hamiltonian_test': []}"
      ]
     },
     "execution_count": 37,
     "metadata": {},
     "output_type": "execute_result"
    }
   ],
   "source": [
    "accuracy_list = simulation.accuracy_list\n",
    "accuracy_list"
   ]
  },
  {
   "cell_type": "code",
   "execution_count": null,
   "metadata": {
    "papermill": {
     "duration": 0.038858,
     "end_time": "2020-07-18T05:36:40.182446",
     "exception": false,
     "start_time": "2020-07-18T05:36:40.143588",
     "status": "completed"
    },
    "tags": []
   },
   "outputs": [],
   "source": []
  },
  {
   "cell_type": "code",
   "execution_count": null,
   "metadata": {
    "papermill": {
     "duration": 0.037856,
     "end_time": "2020-07-18T05:36:40.259158",
     "exception": false,
     "start_time": "2020-07-18T05:36:40.221302",
     "status": "completed"
    },
    "tags": []
   },
   "outputs": [],
   "source": []
  },
  {
   "cell_type": "code",
   "execution_count": 38,
   "metadata": {
    "execution": {
     "iopub.execute_input": "2020-07-18T05:36:40.338715Z",
     "iopub.status.busy": "2020-07-18T05:36:40.338373Z",
     "iopub.status.idle": "2020-07-18T05:36:40.348212Z",
     "shell.execute_reply": "2020-07-18T05:36:40.348484Z"
    },
    "papermill": {
     "duration": 0.050646,
     "end_time": "2020-07-18T05:36:40.348556",
     "exception": false,
     "start_time": "2020-07-18T05:36:40.297910",
     "status": "completed"
    },
    "tags": []
   },
   "outputs": [],
   "source": [
    "#simulation.fourier_matrix"
   ]
  },
  {
   "cell_type": "code",
   "execution_count": 39,
   "metadata": {
    "execution": {
     "iopub.execute_input": "2020-07-18T05:36:40.428651Z",
     "iopub.status.busy": "2020-07-18T05:36:40.428331Z",
     "iopub.status.idle": "2020-07-18T05:36:40.438217Z",
     "shell.execute_reply": "2020-07-18T05:36:40.437890Z"
    },
    "papermill": {
     "duration": 0.050425,
     "end_time": "2020-07-18T05:36:40.438270",
     "exception": false,
     "start_time": "2020-07-18T05:36:40.387845",
     "status": "completed"
    },
    "tags": []
   },
   "outputs": [],
   "source": [
    "#simulation.fourier_matrix.shape"
   ]
  },
  {
   "cell_type": "code",
   "execution_count": 40,
   "metadata": {
    "execution": {
     "iopub.execute_input": "2020-07-18T05:36:40.519086Z",
     "iopub.status.busy": "2020-07-18T05:36:40.518778Z",
     "iopub.status.idle": "2020-07-18T05:36:40.529577Z",
     "shell.execute_reply": "2020-07-18T05:36:40.529244Z"
    },
    "papermill": {
     "duration": 0.051975,
     "end_time": "2020-07-18T05:36:40.529634",
     "exception": false,
     "start_time": "2020-07-18T05:36:40.477659",
     "status": "completed"
    },
    "tags": []
   },
   "outputs": [],
   "source": [
    "#simulation.fourier_matrix[:,0]"
   ]
  },
  {
   "cell_type": "code",
   "execution_count": 41,
   "metadata": {
    "execution": {
     "iopub.execute_input": "2020-07-18T05:36:40.609584Z",
     "iopub.status.busy": "2020-07-18T05:36:40.609279Z",
     "iopub.status.idle": "2020-07-18T05:36:40.619225Z",
     "shell.execute_reply": "2020-07-18T05:36:40.618899Z"
    },
    "papermill": {
     "duration": 0.050349,
     "end_time": "2020-07-18T05:36:40.619277",
     "exception": false,
     "start_time": "2020-07-18T05:36:40.568928",
     "status": "completed"
    },
    "tags": []
   },
   "outputs": [],
   "source": [
    "#simulation.fourier_matrix[:,1]"
   ]
  },
  {
   "cell_type": "code",
   "execution_count": 42,
   "metadata": {
    "execution": {
     "iopub.execute_input": "2020-07-18T05:36:40.700064Z",
     "iopub.status.busy": "2020-07-18T05:36:40.699757Z",
     "iopub.status.idle": "2020-07-18T05:36:40.710430Z",
     "shell.execute_reply": "2020-07-18T05:36:40.710749Z"
    },
    "papermill": {
     "duration": 0.052267,
     "end_time": "2020-07-18T05:36:40.710819",
     "exception": false,
     "start_time": "2020-07-18T05:36:40.658552",
     "status": "completed"
    },
    "tags": []
   },
   "outputs": [],
   "source": [
    "#np.exp(-1j*2*np.pi*3/100)"
   ]
  },
  {
   "cell_type": "code",
   "execution_count": 43,
   "metadata": {
    "execution": {
     "iopub.execute_input": "2020-07-18T05:36:40.790496Z",
     "iopub.status.busy": "2020-07-18T05:36:40.790186Z",
     "iopub.status.idle": "2020-07-18T05:36:40.799890Z",
     "shell.execute_reply": "2020-07-18T05:36:40.799566Z"
    },
    "papermill": {
     "duration": 0.050046,
     "end_time": "2020-07-18T05:36:40.799943",
     "exception": false,
     "start_time": "2020-07-18T05:36:40.749897",
     "status": "completed"
    },
    "tags": []
   },
   "outputs": [],
   "source": [
    "#for i in range(1,50):\n",
    "#    print(\"\\n\")\n",
    "#    print(i)\n",
    "#    print(np.sum((np.real(simulation.fourier_matrix[:,i]) - np.real(simulation.fourier_matrix[:,-i]))**2))\n",
    "#    print(np.sum((np.imag(simulation.fourier_matrix[:,i])+ np.imag(simulation.fourier_matrix[:,-i]))**2))"
   ]
  },
  {
   "cell_type": "code",
   "execution_count": 44,
   "metadata": {
    "execution": {
     "iopub.execute_input": "2020-07-18T05:36:40.882397Z",
     "iopub.status.busy": "2020-07-18T05:36:40.882088Z",
     "iopub.status.idle": "2020-07-18T05:36:40.916038Z",
     "shell.execute_reply": "2020-07-18T05:36:40.917563Z"
    },
    "papermill": {
     "duration": 0.078673,
     "end_time": "2020-07-18T05:36:40.917892",
     "exception": false,
     "start_time": "2020-07-18T05:36:40.839219",
     "status": "completed"
    },
    "tags": []
   },
   "outputs": [],
   "source": [
    "#print(simulation.fourier_matrix[:,0])"
   ]
  },
  {
   "cell_type": "code",
   "execution_count": 45,
   "metadata": {
    "execution": {
     "iopub.execute_input": "2020-07-18T05:36:41.029834Z",
     "iopub.status.busy": "2020-07-18T05:36:41.029523Z",
     "iopub.status.idle": "2020-07-18T05:36:41.039272Z",
     "shell.execute_reply": "2020-07-18T05:36:41.038944Z"
    },
    "papermill": {
     "duration": 0.049817,
     "end_time": "2020-07-18T05:36:41.039326",
     "exception": false,
     "start_time": "2020-07-18T05:36:40.989509",
     "status": "completed"
    },
    "tags": []
   },
   "outputs": [],
   "source": [
    "#print(simulation.fourier_matrix[:,50])"
   ]
  },
  {
   "cell_type": "code",
   "execution_count": null,
   "metadata": {
    "papermill": {
     "duration": 0.039994,
     "end_time": "2020-07-18T05:36:41.118390",
     "exception": false,
     "start_time": "2020-07-18T05:36:41.078396",
     "status": "completed"
    },
    "tags": []
   },
   "outputs": [],
   "source": []
  }
 ],
 "metadata": {
  "celltoolbar": "Tags",
  "kernelspec": {
   "display_name": "ml_top_phases",
   "language": "python",
   "name": "ml_top_phases"
  },
  "language_info": {
   "codemirror_mode": {
    "name": "ipython",
    "version": 3
   },
   "file_extension": ".py",
   "mimetype": "text/x-python",
   "name": "python",
   "nbconvert_exporter": "python",
   "pygments_lexer": "ipython3",
   "version": "3.6.10"
  },
  "papermill": {
   "duration": 163.806499,
   "end_time": "2020-07-18T05:36:41.270143",
   "environment_variables": {},
   "exception": null,
   "input_path": "0_simulation_template.ipynb",
   "output_path": "zzz_ssh1_dct_best_04_wavevector_sites_from_best_04_real_space_sites_simulation_notebook.ipynb",
   "parameters": {
    "allowed_windings": [
     0,
     1
    ],
    "csv_path": "/home/rio/ssh_csvs/ssh1/periodic_100_6561.csv",
    "features_to_use": [
     0,
     1,
     3,
     50
    ],
    "fit_params": null,
    "fourier_features_to_use": [
     1,
     2,
     36,
     49
    ],
    "fourier_fillna": false,
    "fourier_mode": "dct",
    "fourier_normalize": false,
    "fourier_real": null,
    "model_kw": {
     "criterion": "entropy"
    },
    "model_name": "DecisionTreeClassifier",
    "n_experiments": 100,
    "pred_params": null,
    "random_features": false,
    "random_state": 1017,
    "save_accuracy": true,
    "save_eigenvector": true,
    "save_hamiltonian": true,
    "save_models": true,
    "shuffle_features": false,
    "shuffle_rows": true,
    "simulation_dir": "/home/rio/ssh_simulations/ssh1/periodic_100_6561/dct_best_04_wavevector_sites_from_best_04_real_space_sites",
    "start_n": 0,
    "store_in_lists": false,
    "val_split": 0.9
   },
   "start_time": "2020-07-18T05:33:57.463644",
   "version": "2.1.0"
  }
 },
 "nbformat": 4,
 "nbformat_minor": 2
}