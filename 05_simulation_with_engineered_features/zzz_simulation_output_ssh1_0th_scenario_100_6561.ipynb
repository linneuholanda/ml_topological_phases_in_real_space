{
 "cells": [
  {
   "cell_type": "markdown",
   "metadata": {
    "papermill": {
     "duration": 0.055498,
     "end_time": "2020-07-16T00:27:28.700637",
     "exception": false,
     "start_time": "2020-07-16T00:27:28.645139",
     "status": "completed"
    },
    "tags": []
   },
   "source": [
    "# Simulation template \n",
    "\n",
    "In this notebook we run the machine learning analysis of topological phase transitions occurring  in both nearest-neighbours SSH models (ssh1) and second neighbours models (ssh2) as decribed in the paper [Machine learning topological phases in real space](https://arxiv.org/abs/1901.01963). Here the simulation is run with features generated from fourier components in the first scenario. This scenario is characterized by using only the EVEN wavevector space eigenmodes, computed from ALL real space components."
   ]
  },
  {
   "cell_type": "markdown",
   "metadata": {
    "papermill": {
     "duration": 0.015893,
     "end_time": "2020-07-16T00:27:28.736607",
     "exception": false,
     "start_time": "2020-07-16T00:27:28.720714",
     "status": "completed"
    },
    "tags": []
   },
   "source": [
    "## Defining parameters"
   ]
  },
  {
   "cell_type": "code",
   "execution_count": 1,
   "metadata": {
    "execution": {
     "iopub.execute_input": "2020-07-16T00:27:28.772720Z",
     "iopub.status.busy": "2020-07-16T00:27:28.772260Z",
     "iopub.status.idle": "2020-07-16T00:27:29.354650Z",
     "shell.execute_reply": "2020-07-16T00:27:29.354377Z"
    },
    "papermill": {
     "duration": 0.601545,
     "end_time": "2020-07-16T00:27:29.354709",
     "exception": false,
     "start_time": "2020-07-16T00:27:28.753164",
     "status": "completed"
    },
    "tags": []
   },
   "outputs": [
    {
     "name": "stdout",
     "output_type": "stream",
     "text": [
      "CPU times: user 763 ms, sys: 253 ms, total: 1.02 s\n",
      "Wall time: 576 ms\n"
     ]
    }
   ],
   "source": [
    "%%time\n",
    "%load_ext autoreload\n",
    "%autoreload 2\n",
    "from simulation import *"
   ]
  },
  {
   "cell_type": "code",
   "execution_count": 2,
   "metadata": {
    "execution": {
     "iopub.execute_input": "2020-07-16T00:27:29.391134Z",
     "iopub.status.busy": "2020-07-16T00:27:29.390811Z",
     "iopub.status.idle": "2020-07-16T00:27:29.401987Z",
     "shell.execute_reply": "2020-07-16T00:27:29.401432Z"
    },
    "papermill": {
     "duration": 0.030102,
     "end_time": "2020-07-16T00:27:29.402110",
     "exception": false,
     "start_time": "2020-07-16T00:27:29.372008",
     "status": "completed"
    },
    "tags": [
     "parameters"
    ]
   },
   "outputs": [
    {
     "name": "stdout",
     "output_type": "stream",
     "text": [
      "CPU times: user 3 µs, sys: 1 µs, total: 4 µs\n",
      "Wall time: 4.53 µs\n"
     ]
    }
   ],
   "source": [
    "%%time\n",
    "### Dataset and simulation parameters\n",
    "#csv_path = SSH2_PERIODIC_100_6561_CSV \n",
    "csv_path = SSH1_PERIODIC_100_6561_CSV \n",
    "model_name = \"DecisionTreeClassifier\"\n",
    "model_kw = {\"criterion\":\"entropy\"}\n",
    "allowed_windings = [0,1]\n",
    "#allowed_windings = [-1,0,1,2]\n",
    "simulation_dir = SSH1_PERIODIC_1ST_SCENARIO_100_6561_SIMULATION_DIR\n",
    "#simulation_dir = SSH2_PERIODIC_ENGINEERED_100_6561_SIMULATION_DIR\n",
    "val_split = 0.9  \n",
    "features_to_use = None\n",
    "shuffle_features = False\n",
    "random_state = 763\n",
    "\n",
    "### Fourier features\n",
    "fourier_mode = \"dst\"\n",
    "fourier_features_to_use = None\n",
    "fourier_real = \"imag\"\n",
    "fourier_normalize = False\n",
    "fourier_fillna = False\n",
    "\n",
    "### Running a simulation\n",
    "n_experiments = 5\n",
    "start_n = 0\n",
    "fit_params = None\n",
    "#mode=mode\n",
    "shuffle_rows = True\n",
    "pred_params = None\n",
    "random_features = False\n",
    "######### DON'T SET THIS TO TRUE UNLESS YOUR DATASET IS SMALL!! WILL FLOOD YOUR MEMORY!!!\n",
    "store_in_lists = False   \n",
    "########## BELOW ARE THE PARAMETERS THAT CONTROL WHAT WILL BE SAVED\n",
    "save_eigenvector=True\n",
    "save_hamiltonian=True \n",
    "save_accuracy=True \n",
    "save_models=True"
   ]
  },
  {
   "cell_type": "code",
   "execution_count": 3,
   "metadata": {
    "execution": {
     "iopub.execute_input": "2020-07-16T00:27:29.438931Z",
     "iopub.status.busy": "2020-07-16T00:27:29.438616Z",
     "iopub.status.idle": "2020-07-16T00:27:29.544536Z",
     "shell.execute_reply": "2020-07-16T00:27:29.546220Z"
    },
    "papermill": {
     "duration": 0.127616,
     "end_time": "2020-07-16T00:27:29.546525",
     "exception": false,
     "start_time": "2020-07-16T00:27:29.418909",
     "status": "completed"
    },
    "tags": [
     "injected-parameters"
    ]
   },
   "outputs": [],
   "source": [
    "# Parameters\n",
    "model_kw = {\"criterion\": \"entropy\"}\n",
    "allowed_windings = [0, 1]\n",
    "val_split = 0.9\n",
    "features_to_use = None\n",
    "shuffle_features = False\n",
    "n_experiments = 100\n",
    "start_n = 0\n",
    "fit_params = None\n",
    "shuffle_rows = True\n",
    "pred_params = None\n",
    "random_features = False\n",
    "store_in_lists = False\n",
    "save_eigenvector = True\n",
    "save_hamiltonian = True\n",
    "save_accuracy = True\n",
    "save_models = True\n",
    "csv_path = \"/home/rio/ssh_csvs/ssh1/periodic_100_6561.csv\"\n",
    "model_name = \"DecisionTreeClassifier\"\n",
    "simulation_dir = \"/home/rio/ssh_simulations/ssh1/periodic_0th_scenario_100_6561\"\n",
    "random_state = 83649369\n",
    "fourier_features_to_use = None\n",
    "fourier_mode = None\n",
    "fourier_real = None\n",
    "fourier_normalize = None\n",
    "fourier_fillna = None\n"
   ]
  },
  {
   "cell_type": "code",
   "execution_count": 4,
   "metadata": {
    "execution": {
     "iopub.execute_input": "2020-07-16T00:27:29.620685Z",
     "iopub.status.busy": "2020-07-16T00:27:29.620276Z",
     "iopub.status.idle": "2020-07-16T00:27:34.855349Z",
     "shell.execute_reply": "2020-07-16T00:27:34.855028Z"
    },
    "papermill": {
     "duration": 5.256639,
     "end_time": "2020-07-16T00:27:34.855402",
     "exception": false,
     "start_time": "2020-07-16T00:27:29.598763",
     "status": "completed"
    },
    "tags": []
   },
   "outputs": [
    {
     "name": "stdout",
     "output_type": "stream",
     "text": [
      "Info on all data: \n",
      "\n",
      "<class 'pandas.core.frame.DataFrame'>\n",
      "Int64Index: 656100 entries, 0 to 656099\n",
      "Columns: 108 entries, id to feat99\n",
      "dtypes: float64(103), int32(3), object(2)\n",
      "memory usage: 538.1+ MB\n",
      "CPU times: user 4.91 s, sys: 303 ms, total: 5.21 s\n",
      "Wall time: 5.21 s\n"
     ]
    },
    {
     "data": {
      "text/html": [
       "<div>\n",
       "<style scoped>\n",
       "    .dataframe tbody tr th:only-of-type {\n",
       "        vertical-align: middle;\n",
       "    }\n",
       "\n",
       "    .dataframe tbody tr th {\n",
       "        vertical-align: top;\n",
       "    }\n",
       "\n",
       "    .dataframe thead th {\n",
       "        text-align: right;\n",
       "    }\n",
       "</style>\n",
       "<table border=\"1\" class=\"dataframe\">\n",
       "  <thead>\n",
       "    <tr style=\"text-align: right;\">\n",
       "      <th></th>\n",
       "      <th>id</th>\n",
       "      <th>path</th>\n",
       "      <th>t1</th>\n",
       "      <th>t2</th>\n",
       "      <th>winding</th>\n",
       "      <th>phase</th>\n",
       "      <th>pred_phase</th>\n",
       "      <th>type_of</th>\n",
       "      <th>feat0</th>\n",
       "      <th>feat1</th>\n",
       "      <th>...</th>\n",
       "      <th>feat90</th>\n",
       "      <th>feat91</th>\n",
       "      <th>feat92</th>\n",
       "      <th>feat93</th>\n",
       "      <th>feat94</th>\n",
       "      <th>feat95</th>\n",
       "      <th>feat96</th>\n",
       "      <th>feat97</th>\n",
       "      <th>feat98</th>\n",
       "      <th>feat99</th>\n",
       "    </tr>\n",
       "  </thead>\n",
       "  <tbody>\n",
       "    <tr>\n",
       "      <th>0</th>\n",
       "      <td>0</td>\n",
       "      <td>H_-2_-2_0.509296.dat</td>\n",
       "      <td>-2.0</td>\n",
       "      <td>-2.0</td>\n",
       "      <td>0.509296</td>\n",
       "      <td>999</td>\n",
       "      <td>666</td>\n",
       "      <td>test</td>\n",
       "      <td>0.100000</td>\n",
       "      <td>0.100000</td>\n",
       "      <td>...</td>\n",
       "      <td>0.100000</td>\n",
       "      <td>0.100000</td>\n",
       "      <td>0.100000</td>\n",
       "      <td>0.100000</td>\n",
       "      <td>0.100000</td>\n",
       "      <td>0.100000</td>\n",
       "      <td>0.100000</td>\n",
       "      <td>0.100000</td>\n",
       "      <td>0.100000</td>\n",
       "      <td>0.100000</td>\n",
       "    </tr>\n",
       "    <tr>\n",
       "      <th>1</th>\n",
       "      <td>0</td>\n",
       "      <td>H_-2_-2_0.509296.dat</td>\n",
       "      <td>-2.0</td>\n",
       "      <td>-2.0</td>\n",
       "      <td>0.509296</td>\n",
       "      <td>999</td>\n",
       "      <td>666</td>\n",
       "      <td>test</td>\n",
       "      <td>0.141421</td>\n",
       "      <td>0.141142</td>\n",
       "      <td>...</td>\n",
       "      <td>0.114412</td>\n",
       "      <td>0.108967</td>\n",
       "      <td>0.123928</td>\n",
       "      <td>0.119406</td>\n",
       "      <td>0.131490</td>\n",
       "      <td>0.127962</td>\n",
       "      <td>0.136978</td>\n",
       "      <td>0.134500</td>\n",
       "      <td>0.140306</td>\n",
       "      <td>0.138916</td>\n",
       "    </tr>\n",
       "    <tr>\n",
       "      <th>2</th>\n",
       "      <td>0</td>\n",
       "      <td>H_-2_-2_0.509296.dat</td>\n",
       "      <td>-2.0</td>\n",
       "      <td>-2.0</td>\n",
       "      <td>0.509296</td>\n",
       "      <td>999</td>\n",
       "      <td>666</td>\n",
       "      <td>test</td>\n",
       "      <td>0.141421</td>\n",
       "      <td>0.140306</td>\n",
       "      <td>...</td>\n",
       "      <td>0.043702</td>\n",
       "      <td>0.026500</td>\n",
       "      <td>0.075777</td>\n",
       "      <td>0.060214</td>\n",
       "      <td>0.103092</td>\n",
       "      <td>0.090145</td>\n",
       "      <td>0.123928</td>\n",
       "      <td>0.114412</td>\n",
       "      <td>0.136978</td>\n",
       "      <td>0.131490</td>\n",
       "    </tr>\n",
       "    <tr>\n",
       "      <th>3</th>\n",
       "      <td>0</td>\n",
       "      <td>H_-2_-2_0.509296.dat</td>\n",
       "      <td>-2.0</td>\n",
       "      <td>-2.0</td>\n",
       "      <td>0.509296</td>\n",
       "      <td>999</td>\n",
       "      <td>666</td>\n",
       "      <td>test</td>\n",
       "      <td>-0.100000</td>\n",
       "      <td>0.100000</td>\n",
       "      <td>...</td>\n",
       "      <td>-0.100000</td>\n",
       "      <td>0.100000</td>\n",
       "      <td>-0.100000</td>\n",
       "      <td>0.100000</td>\n",
       "      <td>-0.100000</td>\n",
       "      <td>0.100000</td>\n",
       "      <td>-0.100000</td>\n",
       "      <td>0.100000</td>\n",
       "      <td>-0.100000</td>\n",
       "      <td>0.100000</td>\n",
       "    </tr>\n",
       "    <tr>\n",
       "      <th>4</th>\n",
       "      <td>0</td>\n",
       "      <td>H_-2_-2_0.509296.dat</td>\n",
       "      <td>-2.0</td>\n",
       "      <td>-2.0</td>\n",
       "      <td>0.509296</td>\n",
       "      <td>999</td>\n",
       "      <td>666</td>\n",
       "      <td>test</td>\n",
       "      <td>0.000509</td>\n",
       "      <td>-0.008372</td>\n",
       "      <td>...</td>\n",
       "      <td>-0.082713</td>\n",
       "      <td>-0.089753</td>\n",
       "      <td>-0.067684</td>\n",
       "      <td>-0.075347</td>\n",
       "      <td>-0.051587</td>\n",
       "      <td>-0.059753</td>\n",
       "      <td>-0.034677</td>\n",
       "      <td>-0.043217</td>\n",
       "      <td>-0.017220</td>\n",
       "      <td>-0.026000</td>\n",
       "    </tr>\n",
       "  </tbody>\n",
       "</table>\n",
       "<p>5 rows × 108 columns</p>\n",
       "</div>"
      ],
      "text/plain": [
       "   id                  path   t1   t2   winding  phase  pred_phase type_of  \\\n",
       "0   0  H_-2_-2_0.509296.dat -2.0 -2.0  0.509296    999         666    test   \n",
       "1   0  H_-2_-2_0.509296.dat -2.0 -2.0  0.509296    999         666    test   \n",
       "2   0  H_-2_-2_0.509296.dat -2.0 -2.0  0.509296    999         666    test   \n",
       "3   0  H_-2_-2_0.509296.dat -2.0 -2.0  0.509296    999         666    test   \n",
       "4   0  H_-2_-2_0.509296.dat -2.0 -2.0  0.509296    999         666    test   \n",
       "\n",
       "      feat0     feat1  ...    feat90    feat91    feat92    feat93    feat94  \\\n",
       "0  0.100000  0.100000  ...  0.100000  0.100000  0.100000  0.100000  0.100000   \n",
       "1  0.141421  0.141142  ...  0.114412  0.108967  0.123928  0.119406  0.131490   \n",
       "2  0.141421  0.140306  ...  0.043702  0.026500  0.075777  0.060214  0.103092   \n",
       "3 -0.100000  0.100000  ... -0.100000  0.100000 -0.100000  0.100000 -0.100000   \n",
       "4  0.000509 -0.008372  ... -0.082713 -0.089753 -0.067684 -0.075347 -0.051587   \n",
       "\n",
       "     feat95    feat96    feat97    feat98    feat99  \n",
       "0  0.100000  0.100000  0.100000  0.100000  0.100000  \n",
       "1  0.127962  0.136978  0.134500  0.140306  0.138916  \n",
       "2  0.090145  0.123928  0.114412  0.136978  0.131490  \n",
       "3  0.100000 -0.100000  0.100000 -0.100000  0.100000  \n",
       "4 -0.059753 -0.034677 -0.043217 -0.017220 -0.026000  \n",
       "\n",
       "[5 rows x 108 columns]"
      ]
     },
     "execution_count": 4,
     "metadata": {},
     "output_type": "execute_result"
    }
   ],
   "source": [
    "%%time\n",
    "#Starting an instance of Simulation with a decision tree\n",
    "model = DecisionTreeClassifier(criterion=\"entropy\")\n",
    "#dict_args = {\"csv_path\":csv_path, \"model\":model, \"allowed_windings\":allowed_windings,\\\n",
    "#             \"simulation_dir\":simulation_dir, \"val_split\":val_split, \"features_to_use\":features_to_use,\\\n",
    "#            \"shuffle_features\":shuffle_features, \"random_state\":random_state}\n",
    "simulation = Simulation(csv_path,model_name,model_kw,allowed_windings,simulation_dir,val_split,features_to_use,\\\n",
    "                       shuffle_features,fourier_mode,fourier_features_to_use,fourier_real,\\\n",
    "                       fourier_normalize, fourier_fillna , random_state)\n",
    "#simulation = Simulation(**dict_args)\n",
    "\n",
    "\n",
    "#(self, csv_path, model_name, model_kw, allowed_windings, simulation_dir = None, val_split = 0, \n",
    "# features_to_use = None, shuffle_features = False, fourier_mode=None, fourier_features_to_use=None,\n",
    "# fourier_real = False, fourier_normalize = False, Fourier_fillna=False, random_state = None):\n",
    "\n",
    "\n",
    "\n",
    "print(\"Info on all data: \\n\")\n",
    "simulation.dataframe.info()\n",
    "simulation.dataframe.head()"
   ]
  },
  {
   "cell_type": "markdown",
   "metadata": {
    "papermill": {
     "duration": 0.017247,
     "end_time": "2020-07-16T00:27:34.890499",
     "exception": false,
     "start_time": "2020-07-16T00:27:34.873252",
     "status": "completed"
    },
    "tags": []
   },
   "source": [
    "####  Fourier features"
   ]
  },
  {
   "cell_type": "code",
   "execution_count": 5,
   "metadata": {
    "execution": {
     "iopub.execute_input": "2020-07-16T00:27:34.927800Z",
     "iopub.status.busy": "2020-07-16T00:27:34.927207Z",
     "iopub.status.idle": "2020-07-16T00:27:34.938015Z",
     "shell.execute_reply": "2020-07-16T00:27:34.937691Z"
    },
    "papermill": {
     "duration": 0.030641,
     "end_time": "2020-07-16T00:27:34.938067",
     "exception": false,
     "start_time": "2020-07-16T00:27:34.907426",
     "status": "completed"
    },
    "tags": []
   },
   "outputs": [
    {
     "name": "stdout",
     "output_type": "stream",
     "text": [
      "CPU times: user 3 µs, sys: 1 µs, total: 4 µs\n",
      "Wall time: 4.05 µs\n"
     ]
    }
   ],
   "source": [
    "%%time\n",
    "#simulation.generate_fourier_df()\n",
    "if simulation.fourier_mode is not None:\n",
    "    simulation.fourier_dataframe.info() \n",
    "    simulation.fourier_dataframe.sample(15)\n"
   ]
  },
  {
   "cell_type": "code",
   "execution_count": 6,
   "metadata": {
    "execution": {
     "iopub.execute_input": "2020-07-16T00:27:34.974887Z",
     "iopub.status.busy": "2020-07-16T00:27:34.974383Z",
     "iopub.status.idle": "2020-07-16T00:27:35.038556Z",
     "shell.execute_reply": "2020-07-16T00:27:35.038126Z"
    },
    "papermill": {
     "duration": 0.083671,
     "end_time": "2020-07-16T00:27:35.038625",
     "exception": false,
     "start_time": "2020-07-16T00:27:34.954954",
     "status": "completed"
    },
    "tags": []
   },
   "outputs": [
    {
     "name": "stdout",
     "output_type": "stream",
     "text": [
      "features_to_use: \n",
      "\n",
      "\n",
      "None\n",
      "\n",
      "\n",
      "fourier_features: \n",
      "\n",
      "\n",
      "None\n",
      "\n",
      "\n",
      "\n",
      "\n",
      "Fourier operator: \n",
      "None\n",
      "\n",
      "\n"
     ]
    }
   ],
   "source": [
    "print(\"features_to_use: \")\n",
    "print(\"\\n\")\n",
    "print(simulation.features_to_use)\n",
    "if simulation.features_to_use is not None:\n",
    "    print(\"Number of real space features:\")\n",
    "    print(\"\\n\")\n",
    "    print(len(simulation.features_to_use))\n",
    "print(\"\\n\")\n",
    "print(\"fourier_features: \")\n",
    "print(\"\\n\")\n",
    "print(simulation.fourier_features)\n",
    "print(\"\\n\")\n",
    "if simulation.fourier_features is not None:\n",
    "    print(\"Number of Fourier features: \")\n",
    "    print(\"\\n\")\n",
    "    print(len(simulation.fourier_features))\n",
    "print(\"\\n\")\n",
    "print(\"Fourier operator: \")\n",
    "print(simulation.fourier_operator)\n",
    "print(\"\\n\")\n",
    "if simulation.fourier_operator is not None:\n",
    "    print(\"Shape of Fourier operator: \")\n",
    "    print(simulation.fourier_operator.shape)"
   ]
  },
  {
   "cell_type": "code",
   "execution_count": 7,
   "metadata": {
    "execution": {
     "iopub.execute_input": "2020-07-16T00:27:35.083129Z",
     "iopub.status.busy": "2020-07-16T00:27:35.082802Z",
     "iopub.status.idle": "2020-07-16T00:27:35.158877Z",
     "shell.execute_reply": "2020-07-16T00:27:35.157129Z"
    },
    "papermill": {
     "duration": 0.096341,
     "end_time": "2020-07-16T00:27:35.159135",
     "exception": false,
     "start_time": "2020-07-16T00:27:35.062794",
     "status": "completed"
    },
    "tags": []
   },
   "outputs": [],
   "source": [
    "#a = np.array([1+1j,2+3j,4+8j])\n",
    "#np.imag(a)"
   ]
  },
  {
   "cell_type": "code",
   "execution_count": 8,
   "metadata": {
    "execution": {
     "iopub.execute_input": "2020-07-16T00:27:35.233670Z",
     "iopub.status.busy": "2020-07-16T00:27:35.233360Z",
     "iopub.status.idle": "2020-07-16T00:27:35.252229Z",
     "shell.execute_reply": "2020-07-16T00:27:35.251887Z"
    },
    "papermill": {
     "duration": 0.041861,
     "end_time": "2020-07-16T00:27:35.252284",
     "exception": false,
     "start_time": "2020-07-16T00:27:35.210423",
     "status": "completed"
    },
    "tags": []
   },
   "outputs": [],
   "source": [
    "#plt.plot(np.imag(simulation.fourier_operator[:,0]))"
   ]
  },
  {
   "cell_type": "code",
   "execution_count": 9,
   "metadata": {
    "execution": {
     "iopub.execute_input": "2020-07-16T00:27:35.288972Z",
     "iopub.status.busy": "2020-07-16T00:27:35.288663Z",
     "iopub.status.idle": "2020-07-16T00:27:35.359836Z",
     "shell.execute_reply": "2020-07-16T00:27:35.361262Z"
    },
    "papermill": {
     "duration": 0.091693,
     "end_time": "2020-07-16T00:27:35.361581",
     "exception": false,
     "start_time": "2020-07-16T00:27:35.269888",
     "status": "completed"
    },
    "tags": []
   },
   "outputs": [],
   "source": [
    "#np.sin(np.pi/(50))*2"
   ]
  },
  {
   "cell_type": "code",
   "execution_count": 10,
   "metadata": {
    "execution": {
     "iopub.execute_input": "2020-07-16T00:27:35.436992Z",
     "iopub.status.busy": "2020-07-16T00:27:35.436664Z",
     "iopub.status.idle": "2020-07-16T00:27:35.446161Z",
     "shell.execute_reply": "2020-07-16T00:27:35.445829Z"
    },
    "papermill": {
     "duration": 0.031088,
     "end_time": "2020-07-16T00:27:35.446214",
     "exception": false,
     "start_time": "2020-07-16T00:27:35.415126",
     "status": "completed"
    },
    "tags": []
   },
   "outputs": [],
   "source": [
    "#2*np.sin(np.pi/50*49)"
   ]
  },
  {
   "cell_type": "code",
   "execution_count": 11,
   "metadata": {
    "execution": {
     "iopub.execute_input": "2020-07-16T00:27:35.483720Z",
     "iopub.status.busy": "2020-07-16T00:27:35.483415Z",
     "iopub.status.idle": "2020-07-16T00:27:35.542132Z",
     "shell.execute_reply": "2020-07-16T00:27:35.540341Z"
    },
    "papermill": {
     "duration": 0.078583,
     "end_time": "2020-07-16T00:27:35.542385",
     "exception": false,
     "start_time": "2020-07-16T00:27:35.463802",
     "status": "completed"
    },
    "tags": []
   },
   "outputs": [],
   "source": [
    "#simulation.dataframe.iloc[331456,:]"
   ]
  },
  {
   "cell_type": "code",
   "execution_count": 12,
   "metadata": {
    "execution": {
     "iopub.execute_input": "2020-07-16T00:27:35.619071Z",
     "iopub.status.busy": "2020-07-16T00:27:35.618746Z",
     "iopub.status.idle": "2020-07-16T00:27:35.628524Z",
     "shell.execute_reply": "2020-07-16T00:27:35.628178Z"
    },
    "papermill": {
     "duration": 0.033128,
     "end_time": "2020-07-16T00:27:35.628580",
     "exception": false,
     "start_time": "2020-07-16T00:27:35.595452",
     "status": "completed"
    },
    "tags": []
   },
   "outputs": [],
   "source": [
    "#for ix, obj in enumerate(simulation.dataframe.iloc[331456,:].values):\n",
    "#    print(ix,obj)"
   ]
  },
  {
   "cell_type": "code",
   "execution_count": 13,
   "metadata": {
    "execution": {
     "iopub.execute_input": "2020-07-16T00:27:35.666383Z",
     "iopub.status.busy": "2020-07-16T00:27:35.666077Z",
     "iopub.status.idle": "2020-07-16T00:27:35.756733Z",
     "shell.execute_reply": "2020-07-16T00:27:35.755031Z"
    },
    "papermill": {
     "duration": 0.110948,
     "end_time": "2020-07-16T00:27:35.756988",
     "exception": false,
     "start_time": "2020-07-16T00:27:35.646040",
     "status": "completed"
    },
    "tags": []
   },
   "outputs": [],
   "source": [
    "#simulation.fourier_engineered_dataframe.dct_feat0"
   ]
  },
  {
   "cell_type": "code",
   "execution_count": 14,
   "metadata": {
    "execution": {
     "iopub.execute_input": "2020-07-16T00:27:35.833427Z",
     "iopub.status.busy": "2020-07-16T00:27:35.833114Z",
     "iopub.status.idle": "2020-07-16T00:27:35.843288Z",
     "shell.execute_reply": "2020-07-16T00:27:35.842945Z"
    },
    "papermill": {
     "duration": 0.0328,
     "end_time": "2020-07-16T00:27:35.843357",
     "exception": false,
     "start_time": "2020-07-16T00:27:35.810557",
     "status": "completed"
    },
    "tags": []
   },
   "outputs": [],
   "source": [
    "#simulation.features"
   ]
  },
  {
   "cell_type": "code",
   "execution_count": 15,
   "metadata": {
    "execution": {
     "iopub.execute_input": "2020-07-16T00:27:35.881662Z",
     "iopub.status.busy": "2020-07-16T00:27:35.881352Z",
     "iopub.status.idle": "2020-07-16T00:27:35.974361Z",
     "shell.execute_reply": "2020-07-16T00:27:35.972584Z"
    },
    "papermill": {
     "duration": 0.112785,
     "end_time": "2020-07-16T00:27:35.974638",
     "exception": false,
     "start_time": "2020-07-16T00:27:35.861853",
     "status": "completed"
    },
    "tags": []
   },
   "outputs": [],
   "source": [
    "#simulation.fourier_matrix"
   ]
  },
  {
   "cell_type": "code",
   "execution_count": 16,
   "metadata": {
    "execution": {
     "iopub.execute_input": "2020-07-16T00:27:36.051727Z",
     "iopub.status.busy": "2020-07-16T00:27:36.051412Z",
     "iopub.status.idle": "2020-07-16T00:27:36.063610Z",
     "shell.execute_reply": "2020-07-16T00:27:36.063102Z"
    },
    "papermill": {
     "duration": 0.034019,
     "end_time": "2020-07-16T00:27:36.063689",
     "exception": false,
     "start_time": "2020-07-16T00:27:36.029670",
     "status": "completed"
    },
    "tags": []
   },
   "outputs": [],
   "source": [
    "#1/simulation.n_features*simulation.dataframe.loc[:,simulation.features].sum(axis=1)"
   ]
  },
  {
   "cell_type": "code",
   "execution_count": 17,
   "metadata": {
    "execution": {
     "iopub.execute_input": "2020-07-16T00:27:36.100688Z",
     "iopub.status.busy": "2020-07-16T00:27:36.100369Z",
     "iopub.status.idle": "2020-07-16T00:27:36.177675Z",
     "shell.execute_reply": "2020-07-16T00:27:36.176856Z"
    },
    "papermill": {
     "duration": 0.096226,
     "end_time": "2020-07-16T00:27:36.177796",
     "exception": false,
     "start_time": "2020-07-16T00:27:36.081570",
     "status": "completed"
    },
    "tags": []
   },
   "outputs": [],
   "source": [
    "#df_2 = simulation.fourier_engineered_dataframe[simulation.fourier_engineered_dataframe.phase==2]\n",
    "#df_2.describe()"
   ]
  },
  {
   "cell_type": "code",
   "execution_count": 18,
   "metadata": {
    "execution": {
     "iopub.execute_input": "2020-07-16T00:27:36.249893Z",
     "iopub.status.busy": "2020-07-16T00:27:36.249586Z",
     "iopub.status.idle": "2020-07-16T00:27:36.261392Z",
     "shell.execute_reply": "2020-07-16T00:27:36.261026Z"
    },
    "papermill": {
     "duration": 0.038586,
     "end_time": "2020-07-16T00:27:36.261464",
     "exception": false,
     "start_time": "2020-07-16T00:27:36.222878",
     "status": "completed"
    },
    "tags": []
   },
   "outputs": [],
   "source": [
    "#df_1 = simulation.fourier_engineered_dataframe[simulation.fourier_engineered_dataframe.phase==1]\n",
    "#df_1.describe()"
   ]
  },
  {
   "cell_type": "code",
   "execution_count": 19,
   "metadata": {
    "execution": {
     "iopub.execute_input": "2020-07-16T00:27:36.298171Z",
     "iopub.status.busy": "2020-07-16T00:27:36.297866Z",
     "iopub.status.idle": "2020-07-16T00:27:36.378520Z",
     "shell.execute_reply": "2020-07-16T00:27:36.377538Z"
    },
    "papermill": {
     "duration": 0.099747,
     "end_time": "2020-07-16T00:27:36.378664",
     "exception": false,
     "start_time": "2020-07-16T00:27:36.278917",
     "status": "completed"
    },
    "tags": []
   },
   "outputs": [],
   "source": [
    "#df_0 = simulation.fourier_engineered_dataframe[simulation.fourier_engineered_dataframe.phase==0]\n",
    "#df_0.describe()"
   ]
  },
  {
   "cell_type": "code",
   "execution_count": 20,
   "metadata": {
    "execution": {
     "iopub.execute_input": "2020-07-16T00:27:36.450376Z",
     "iopub.status.busy": "2020-07-16T00:27:36.450065Z",
     "iopub.status.idle": "2020-07-16T00:27:36.461068Z",
     "shell.execute_reply": "2020-07-16T00:27:36.461331Z"
    },
    "papermill": {
     "duration": 0.033404,
     "end_time": "2020-07-16T00:27:36.461404",
     "exception": false,
     "start_time": "2020-07-16T00:27:36.428000",
     "status": "completed"
    },
    "tags": []
   },
   "outputs": [],
   "source": [
    "#plt.figure(figsize=(10,10))\n",
    "#plt.scatter(df_1.fourier_feat0,df_1.fourier_feat2)\n",
    "#plt.scatter(df_0.fourier_feat0,df_0.fourier_feat2,alpha=0.4)"
   ]
  },
  {
   "cell_type": "code",
   "execution_count": 21,
   "metadata": {
    "execution": {
     "iopub.execute_input": "2020-07-16T00:27:36.499320Z",
     "iopub.status.busy": "2020-07-16T00:27:36.499011Z",
     "iopub.status.idle": "2020-07-16T00:27:36.560049Z",
     "shell.execute_reply": "2020-07-16T00:27:36.559502Z"
    },
    "papermill": {
     "duration": 0.080294,
     "end_time": "2020-07-16T00:27:36.560133",
     "exception": false,
     "start_time": "2020-07-16T00:27:36.479839",
     "status": "completed"
    },
    "tags": []
   },
   "outputs": [],
   "source": [
    "#plt.scatter(df_0.fourier_feat0,df_0.fourier_feat2,alpha=0.4)"
   ]
  },
  {
   "cell_type": "code",
   "execution_count": 22,
   "metadata": {
    "execution": {
     "iopub.execute_input": "2020-07-16T00:27:36.621422Z",
     "iopub.status.busy": "2020-07-16T00:27:36.621111Z",
     "iopub.status.idle": "2020-07-16T00:27:36.636707Z",
     "shell.execute_reply": "2020-07-16T00:27:36.636326Z"
    },
    "papermill": {
     "duration": 0.03952,
     "end_time": "2020-07-16T00:27:36.636765",
     "exception": false,
     "start_time": "2020-07-16T00:27:36.597245",
     "status": "completed"
    },
    "tags": []
   },
   "outputs": [],
   "source": [
    "#plt.scatter(df_2.fourier_feat0,df_2.fourier_feat2)"
   ]
  },
  {
   "cell_type": "code",
   "execution_count": 23,
   "metadata": {
    "execution": {
     "iopub.execute_input": "2020-07-16T00:27:36.674747Z",
     "iopub.status.busy": "2020-07-16T00:27:36.674440Z",
     "iopub.status.idle": "2020-07-16T00:27:36.753795Z",
     "shell.execute_reply": "2020-07-16T00:27:36.752812Z"
    },
    "papermill": {
     "duration": 0.09879,
     "end_time": "2020-07-16T00:27:36.753941",
     "exception": false,
     "start_time": "2020-07-16T00:27:36.655151",
     "status": "completed"
    },
    "tags": []
   },
   "outputs": [],
   "source": [
    "#df_1.hist(figsize=(15,15))"
   ]
  },
  {
   "cell_type": "code",
   "execution_count": 24,
   "metadata": {
    "execution": {
     "iopub.execute_input": "2020-07-16T00:27:36.794386Z",
     "iopub.status.busy": "2020-07-16T00:27:36.794029Z",
     "iopub.status.idle": "2020-07-16T00:27:36.860462Z",
     "shell.execute_reply": "2020-07-16T00:27:36.859825Z"
    },
    "papermill": {
     "duration": 0.085931,
     "end_time": "2020-07-16T00:27:36.860557",
     "exception": false,
     "start_time": "2020-07-16T00:27:36.774626",
     "status": "completed"
    },
    "tags": []
   },
   "outputs": [],
   "source": [
    "#df_0.hist(figsize=(15,15))"
   ]
  },
  {
   "cell_type": "markdown",
   "metadata": {
    "papermill": {
     "duration": 0.020322,
     "end_time": "2020-07-16T00:27:36.915959",
     "exception": false,
     "start_time": "2020-07-16T00:27:36.895637",
     "status": "completed"
    },
    "tags": []
   },
   "source": [
    "#### Checking initialization"
   ]
  },
  {
   "cell_type": "code",
   "execution_count": 25,
   "metadata": {
    "execution": {
     "iopub.execute_input": "2020-07-16T00:27:36.954932Z",
     "iopub.status.busy": "2020-07-16T00:27:36.954580Z",
     "iopub.status.idle": "2020-07-16T00:27:36.965842Z",
     "shell.execute_reply": "2020-07-16T00:27:36.965571Z"
    },
    "papermill": {
     "duration": 0.03082,
     "end_time": "2020-07-16T00:27:36.965896",
     "exception": false,
     "start_time": "2020-07-16T00:27:36.935076",
     "status": "completed"
    },
    "tags": []
   },
   "outputs": [
    {
     "name": "stdout",
     "output_type": "stream",
     "text": [
      "n_features:  100\n",
      "n_hamiltonians:  6561\n",
      "n_ts:  2\n",
      "CPU times: user 120 µs, sys: 13 µs, total: 133 µs\n",
      "Wall time: 90.1 µs\n"
     ]
    }
   ],
   "source": [
    "%%time\n",
    "n_features = simulation.n_features\n",
    "n_hamiltonians = simulation.n_hamiltonians\n",
    "n_ts = simulation.n_ts\n",
    "\n",
    "print(\"n_features: \", n_features)\n",
    "print(\"n_hamiltonians: \", n_hamiltonians)\n",
    "print(\"n_ts: \", n_ts)"
   ]
  },
  {
   "cell_type": "code",
   "execution_count": 26,
   "metadata": {
    "execution": {
     "iopub.execute_input": "2020-07-16T00:27:37.006104Z",
     "iopub.status.busy": "2020-07-16T00:27:37.005787Z",
     "iopub.status.idle": "2020-07-16T00:27:37.259604Z",
     "shell.execute_reply": "2020-07-16T00:27:37.259857Z"
    },
    "papermill": {
     "duration": 0.27469,
     "end_time": "2020-07-16T00:27:37.259926",
     "exception": false,
     "start_time": "2020-07-16T00:27:36.985236",
     "status": "completed"
    },
    "tags": []
   },
   "outputs": [
    {
     "name": "stdout",
     "output_type": "stream",
     "text": [
      "% train:  0.846822130772748\n",
      "% val:  0.0\n",
      "% test:  0.15317786922725193\n",
      "% train + val + test:  1.0\n",
      "\n",
      "\n",
      "number of train hamiltonians:  5556\n",
      "number of val hamiltonians:  0\n",
      "number of test hamiltonians:  1005\n",
      "total number of hamiltonians:  6561\n",
      "\n",
      "\n",
      "train ids:  [9, 10, 11, 12, 13, 14, 15, 16, 17, 18, 19, 20, 21, 22, 23, 24, 25, 26, 27, 28, 29, 30, 31, 32, 33, 34, 35, 36, 37, 38, 39, 40, 41, 42, 43, 44, 45, 46, 47, 48, 49, 50, 51, 52, 53, 54, 55, 56, 57, 58, 59, 60, 61, 62, 63, 64, 65, 66, 67, 68, 69, 70, 71, 72, 73, 74, 75, 76, 77, 91, 92, 93, 94, 95, 96, 97, 98, 99, 100, 101, 102, 103, 104, 105, 106, 107, 108, 109, 110, 111, 112, 113, 114, 115, 116, 117, 118, 119, 120, 121, 122, 123, 124, 125, 126, 127, 128, 129, 130, 131, 132, 133, 134, 135, 136, 137, 138, 139, 140, 141, 142, 143, 144, 145, 146, 147, 148, 149, 150, 151, 152, 153, 154, 155, 156, 157, 172, 173, 174, 175, 176, 177, 178, 179, 180, 181, 182, 183, 184, 185, 186, 187, 188, 189, 190, 191, 192, 193, 194, 195, 196, 197, 198, 199, 200, 201, 202, 203, 204, 205, 206, 207, 208, 209, 210, 211, 212, 213, 214, 215, 216, 217, 218, 219, 220, 221, 222, 223, 224, 225, 226, 227, 228, 229, 230, 231, 232, 233, 234, 235, 236, 237, 254, 255, 256, 257, 258, 259, 260, 261, 262, 263, 264, 265, 266, 267, 268, 269, 270, 271, 272, 273, 274, 275, 276, 277, 278, 279, 280, 281, 282, 283, 284, 285, 286, 287, 288, 289, 290, 291, 292, 293, 294, 295, 296, 297, 298, 299, 300, 301, 302, 303, 304, 305, 306, 307, 308, 309, 310, 311, 312, 313, 314, 315, 316, 317, 323, 336, 337, 338, 339, 340, 341, 342, 343, 344, 345, 346, 347, 348, 349, 350, 351, 352, 353, 354, 355, 356, 357, 358, 359, 360, 361, 362, 363, 364, 365, 366, 367, 368, 369, 370, 371, 372, 373, 374, 375, 376, 377, 378, 379, 380, 381, 382, 383, 384, 385, 386, 387, 388, 389, 390, 391, 392, 393, 394, 395, 396, 397, 403, 404, 418, 419, 420, 421, 422, 423, 424, 425, 426, 427, 428, 429, 430, 431, 432, 433, 434, 435, 436, 437, 438, 439, 440, 441, 442, 443, 444, 445, 446, 447, 448, 449, 450, 451, 452, 453, 454, 455, 456, 457, 458, 459, 460, 461, 462, 463, 464, 465, 466, 467, 468, 469, 470, 471, 472, 473, 474, 475, 476, 477, 483, 484, 485, 500, 501, 502, 503, 504, 505, 506, 507, 508, 509, 510, 511, 512, 513, 514, 515, 516, 517, 518, 519, 520, 521, 522, 523, 524, 525, 526, 527, 528, 529, 530, 531, 532, 533, 534, 535, 536, 537, 538, 539, 540, 541, 542, 543, 544, 545, 546, 547, 548, 549, 550, 551, 552, 553, 554, 555, 556, 557, 563, 564, 565, 566, 581, 582, 583, 584, 585, 586, 587, 588, 589, 590, 591, 592, 593, 594, 595, 596, 597, 598, 599, 600, 601, 602, 603, 604, 605, 606, 607, 608, 609, 610, 611, 612, 613, 614, 615, 616, 617, 618, 619, 620, 621, 622, 623, 624, 625, 626, 627, 628, 629, 630, 631, 632, 633, 634, 635, 636, 637, 643, 644, 645, 646, 647, 663, 664, 665, 666, 667, 668, 669, 670, 671, 672, 673, 674, 675, 676, 677, 678, 679, 680, 681, 682, 683, 684, 685, 686, 687, 688, 689, 690, 691, 692, 693, 694, 695, 696, 697, 698, 699, 700, 701, 702, 703, 704, 705, 706, 707, 708, 709, 710, 711, 712, 713, 714, 715, 716, 717, 723, 724, 725, 726, 727, 728, 745, 746, 747, 748, 749, 750, 751, 752, 753, 754, 755, 756, 757, 758, 759, 760, 761, 762, 763, 764, 765, 766, 767, 768, 769, 770, 771, 772, 773, 774, 775, 776, 777, 778, 779, 780, 781, 782, 783, 784, 785, 786, 787, 788, 789, 790, 791, 792, 793, 794, 795, 796, 797, 803, 804, 805, 806, 807, 808, 809, 827, 828, 829, 830, 831, 832, 833, 834, 835, 836, 837, 838, 839, 840, 841, 842, 843, 844, 845, 846, 847, 848, 849, 850, 851, 852, 853, 854, 855, 856, 857, 858, 859, 860, 861, 862, 863, 864, 865, 866, 867, 868, 869, 870, 871, 872, 873, 874, 875, 876, 877, 883, 884, 885, 886, 887, 888, 889, 890, 891, 909, 910, 911, 912, 913, 914, 915, 916, 917, 918, 919, 920, 921, 922, 923, 924, 925, 926, 927, 928, 929, 930, 931, 932, 933, 934, 935, 936, 937, 938, 939, 940, 941, 942, 943, 944, 945, 946, 947, 948, 949, 950, 951, 952, 953, 954, 955, 956, 957, 963, 964, 965, 966, 967, 968, 969, 970, 971, 972, 973, 990, 991, 992, 993, 994, 995, 996, 997, 998, 999, 1000, 1001, 1002, 1003, 1004, 1005, 1006, 1007, 1008, 1009, 1010, 1011, 1012, 1013, 1014, 1015, 1016, 1017, 1018, 1019, 1020, 1021, 1022, 1023, 1024, 1025, 1026, 1027, 1028, 1029, 1030, 1031, 1032, 1033, 1034, 1035, 1036, 1037, 1038, 1042, 1043, 1044, 1045, 1046, 1047, 1048, 1049, 1050, 1051, 1052, 1053, 1054, 1055, 1056, 1072, 1073, 1074, 1075, 1076, 1077, 1078, 1079, 1080, 1081, 1082, 1083, 1084, 1085, 1086, 1087, 1088, 1089, 1090, 1091, 1092, 1093, 1094, 1095, 1096, 1097, 1098, 1099, 1100, 1101, 1102, 1103, 1104, 1105, 1106, 1107, 1108, 1109, 1110, 1111, 1112, 1113, 1114, 1115, 1116, 1117, 1118, 1122, 1123, 1124, 1125, 1126, 1127, 1128, 1129, 1130, 1131, 1132, 1133, 1134, 1135, 1136, 1137, 1138, 1154, 1155, 1156, 1157, 1158, 1159, 1160, 1161, 1162, 1163, 1164, 1165, 1166, 1167, 1168, 1169, 1170, 1171, 1172, 1173, 1174, 1175, 1176, 1177, 1178, 1179, 1180, 1181, 1182, 1183, 1184, 1185, 1186, 1187, 1188, 1189, 1190, 1191, 1192, 1193, 1194, 1195, 1196, 1197, 1198, 1202, 1203, 1204, 1205, 1206, 1207, 1208, 1209, 1210, 1211, 1212, 1213, 1214, 1215, 1216, 1217, 1218, 1219, 1220, 1236, 1237, 1238, 1239, 1240, 1241, 1242, 1243, 1244, 1245, 1246, 1247, 1248, 1249, 1250, 1251, 1252, 1253, 1254, 1255, 1256, 1257, 1258, 1259, 1260, 1261, 1262, 1263, 1264, 1265, 1266, 1267, 1268, 1269, 1270, 1271, 1272, 1273, 1274, 1275, 1276, 1277, 1278, 1282, 1283, 1284, 1285, 1286, 1287, 1288, 1289, 1290, 1291, 1292, 1293, 1294, 1295, 1296, 1297, 1298, 1299, 1300, 1301, 1302, 1303, 1317, 1318, 1319, 1320, 1321, 1322, 1323, 1324, 1325, 1326, 1327, 1328, 1329, 1330, 1331, 1332, 1333, 1334, 1335, 1336, 1337, 1338, 1339, 1340, 1341, 1342, 1343, 1344, 1345, 1346, 1347, 1348, 1349, 1350, 1351, 1352, 1353, 1354, 1355, 1356, 1357, 1358, 1362, 1363, 1364, 1365, 1366, 1367, 1368, 1369, 1370, 1371, 1372, 1373, 1374, 1375, 1376, 1377, 1378, 1379, 1380, 1381, 1382, 1383, 1384, 1385, 1399, 1400, 1401, 1402, 1403, 1404, 1405, 1406, 1407, 1408, 1409, 1410, 1411, 1412, 1413, 1414, 1415, 1416, 1417, 1418, 1419, 1420, 1421, 1422, 1423, 1424, 1425, 1426, 1427, 1428, 1429, 1430, 1431, 1432, 1433, 1434, 1435, 1436, 1437, 1438, 1442, 1443, 1444, 1445, 1446, 1447, 1448, 1449, 1450, 1451, 1452, 1453, 1454, 1455, 1456, 1457, 1458, 1459, 1460, 1461, 1462, 1463, 1464, 1465, 1466, 1467, 1468, 1481, 1482, 1483, 1484, 1485, 1486, 1487, 1488, 1489, 1490, 1491, 1492, 1493, 1494, 1495, 1496, 1497, 1498, 1499, 1500, 1501, 1502, 1503, 1504, 1505, 1506, 1507, 1508, 1509, 1510, 1511, 1512, 1513, 1514, 1515, 1516, 1517, 1518, 1522, 1523, 1524, 1525, 1526, 1527, 1528, 1529, 1530, 1531, 1532, 1533, 1534, 1535, 1536, 1537, 1538, 1539, 1540, 1541, 1542, 1543, 1544, 1545, 1546, 1547, 1548, 1549, 1550, 1563, 1564, 1565, 1566, 1567, 1568, 1569, 1570, 1571, 1572, 1573, 1574, 1575, 1576, 1577, 1578, 1579, 1580, 1581, 1582, 1583, 1584, 1585, 1586, 1587, 1588, 1589, 1590, 1591, 1592, 1593, 1594, 1595, 1596, 1597, 1598, 1602, 1603, 1604, 1605, 1606, 1607, 1608, 1609, 1610, 1611, 1612, 1613, 1614, 1615, 1616, 1617, 1618, 1619, 1620, 1621, 1622, 1623, 1624, 1625, 1626, 1627, 1628, 1629, 1630, 1631, 1632, 1645, 1646, 1647, 1648, 1649, 1650, 1651, 1652, 1653, 1654, 1655, 1656, 1657, 1658, 1659, 1660, 1661, 1662, 1663, 1664, 1665, 1666, 1667, 1668, 1669, 1670, 1671, 1672, 1673, 1674, 1675, 1676, 1677, 1678, 1682, 1683, 1684, 1685, 1686, 1687, 1688, 1689, 1690, 1691, 1692, 1693, 1694, 1695, 1696, 1697, 1698, 1699, 1700, 1701, 1702, 1703, 1704, 1705, 1706, 1707, 1708, 1709, 1710, 1711, 1712, 1713, 1714, 1715, 1726, 1727, 1728, 1729, 1730, 1731, 1732, 1733, 1734, 1735, 1736, 1737, 1738, 1739, 1740, 1741, 1742, 1743, 1744, 1745, 1746, 1747, 1748, 1749, 1750, 1751, 1752, 1753, 1754, 1755, 1756, 1757, 1758, 1762, 1763, 1764, 1765, 1766, 1767, 1768, 1769, 1770, 1771, 1772, 1773, 1774, 1775, 1776, 1777, 1778, 1779, 1780, 1781, 1782, 1783, 1784, 1785, 1786, 1787, 1788, 1789, 1790, 1791, 1792, 1793, 1794, 1795, 1796, 1797, 1808, 1809, 1810, 1811, 1812, 1813, 1814, 1815, 1816, 1817, 1818, 1819, 1820, 1821, 1822, 1823, 1824, 1825, 1826, 1827, 1828, 1829, 1830, 1831, 1832, 1833, 1834, 1835, 1836, 1837, 1838, 1842, 1843, 1844, 1845, 1846, 1847, 1848, 1849, 1850, 1851, 1852, 1853, 1854, 1855, 1856, 1857, 1858, 1859, 1860, 1861, 1862, 1863, 1864, 1865, 1866, 1867, 1868, 1869, 1870, 1871, 1872, 1873, 1874, 1875, 1876, 1877, 1878, 1879, 1890, 1891, 1892, 1893, 1894, 1895, 1896, 1897, 1898, 1899, 1900, 1901, 1902, 1903, 1904, 1905, 1906, 1907, 1908, 1909, 1910, 1911, 1912, 1913, 1914, 1915, 1916, 1917, 1918, 1922, 1923, 1924, 1925, 1926, 1927, 1928, 1929, 1930, 1931, 1932, 1933, 1934, 1935, 1936, 1937, 1938, 1939, 1940, 1941, 1942, 1943, 1944, 1945, 1946, 1947, 1948, 1949, 1950, 1951, 1952, 1953, 1954, 1955, 1956, 1957, 1958, 1959, 1960, 1961, 1962, 1972, 1973, 1974, 1975, 1976, 1977, 1978, 1979, 1980, 1981, 1982, 1983, 1984, 1985, 1986, 1987, 1988, 1989, 1990, 1991, 1992, 1993, 1994, 1995, 1996, 1997, 1998, 2002, 2003, 2004, 2005, 2006, 2007, 2008, 2009, 2010, 2011, 2012, 2013, 2014, 2015, 2016, 2017, 2018, 2019, 2020, 2021, 2022, 2023, 2024, 2025, 2026, 2027, 2028, 2029, 2030, 2031, 2032, 2033, 2034, 2035, 2036, 2037, 2038, 2039, 2040, 2041, 2042, 2043, 2044, 2054, 2055, 2056, 2057, 2058, 2059, 2060, 2061, 2062, 2063, 2064, 2065, 2066, 2067, 2068, 2069, 2070, 2071, 2072, 2073, 2074, 2075, 2076, 2077, 2078, 2082, 2083, 2084, 2085, 2086, 2087, 2088, 2089, 2090, 2091, 2092, 2093, 2094, 2095, 2096, 2097, 2098, 2099, 2100, 2101, 2102, 2103, 2104, 2105, 2106, 2107, 2108, 2109, 2110, 2111, 2112, 2113, 2114, 2115, 2116, 2117, 2118, 2119, 2120, 2121, 2122, 2123, 2124, 2125, 2126, 2135, 2136, 2137, 2138, 2139, 2140, 2141, 2142, 2143, 2144, 2145, 2146, 2147, 2148, 2149, 2150, 2151, 2152, 2153, 2154, 2155, 2156, 2157, 2158, 2159, 2161, 2162, 2163, 2164, 2165, 2166, 2167, 2168, 2169, 2170, 2171, 2172, 2173, 2174, 2175, 2176, 2177, 2178, 2179, 2180, 2181, 2182, 2183, 2184, 2185, 2186, 2187, 2188, 2189, 2190, 2191, 2192, 2193, 2194, 2195, 2196, 2197, 2198, 2199, 2200, 2201, 2202, 2203, 2204, 2205, 2206, 2207, 2208, 2209, 2217, 2218, 2219, 2220, 2221, 2222, 2223, 2224, 2225, 2226, 2227, 2228, 2229, 2230, 2231, 2232, 2233, 2234, 2235, 2236, 2237, 2238, 2239, 2241, 2242, 2243, 2244, 2245, 2246, 2247, 2248, 2249, 2250, 2251, 2252, 2253, 2254, 2255, 2256, 2257, 2258, 2259, 2260, 2261, 2262, 2263, 2264, 2265, 2266, 2267, 2268, 2269, 2270, 2271, 2272, 2273, 2274, 2275, 2276, 2277, 2278, 2279, 2280, 2281, 2282, 2283, 2284, 2285, 2286, 2287, 2288, 2289, 2290, 2291, 2299, 2300, 2301, 2302, 2303, 2304, 2305, 2306, 2307, 2308, 2309, 2310, 2311, 2312, 2313, 2314, 2315, 2316, 2317, 2318, 2319, 2321, 2322, 2323, 2324, 2325, 2326, 2327, 2328, 2329, 2330, 2331, 2332, 2333, 2334, 2335, 2336, 2337, 2338, 2339, 2340, 2341, 2342, 2343, 2344, 2345, 2346, 2347, 2348, 2349, 2350, 2351, 2352, 2353, 2354, 2355, 2356, 2357, 2358, 2359, 2360, 2361, 2362, 2363, 2364, 2365, 2366, 2367, 2368, 2369, 2370, 2371, 2372, 2373, 2374, 2381, 2382, 2383, 2384, 2385, 2386, 2387, 2388, 2389, 2390, 2391, 2392, 2393, 2394, 2395, 2396, 2397, 2398, 2399, 2401, 2402, 2403, 2404, 2405, 2406, 2407, 2408, 2409, 2410, 2411, 2412, 2413, 2414, 2415, 2416, 2417, 2418, 2419, 2420, 2421, 2422, 2423, 2424, 2425, 2426, 2427, 2428, 2429, 2430, 2431, 2432, 2433, 2434, 2435, 2436, 2437, 2438, 2439, 2440, 2441, 2442, 2443, 2444, 2445, 2446, 2447, 2448, 2449, 2450, 2451, 2452, 2453, 2454, 2455, 2456, 2463, 2464, 2465, 2466, 2467, 2468, 2469, 2470, 2471, 2472, 2473, 2474, 2475, 2476, 2477, 2478, 2479, 2481, 2482, 2483, 2484, 2485, 2486, 2487, 2488, 2489, 2490, 2491, 2492, 2493, 2494, 2495, 2496, 2497, 2498, 2499, 2500, 2501, 2502, 2503, 2504, 2505, 2506, 2507, 2508, 2509, 2510, 2511, 2512, 2513, 2514, 2515, 2516, 2517, 2518, 2519, 2520, 2521, 2522, 2523, 2524, 2525, 2526, 2527, 2528, 2529, 2530, 2531, 2532, 2533, 2534, 2535, 2536, 2537, 2538, 2544, 2545, 2546, 2547, 2548, 2549, 2550, 2551, 2552, 2553, 2554, 2555, 2556, 2557, 2558, 2559, 2561, 2562, 2563, 2564, 2565, 2566, 2567, 2568, 2569, 2570, 2571, 2572, 2573, 2574, 2575, 2576, 2577, 2578, 2579, 2580, 2581, 2582, 2583, 2584, 2585, 2586, 2587, 2588, 2589, 2590, 2591, 2592, 2593, 2594, 2595, 2596, 2597, 2598, 2599, 2600, 2601, 2602, 2603, 2604, 2605, 2606, 2607, 2608, 2609, 2610, 2611, 2612, 2613, 2614, 2615, 2616, 2617, 2618, 2619, 2620, 2621, 2626, 2627, 2628, 2629, 2630, 2631, 2632, 2633, 2634, 2635, 2636, 2637, 2638, 2639, 2641, 2642, 2643, 2644, 2645, 2646, 2647, 2648, 2649, 2650, 2651, 2652, 2653, 2654, 2655, 2656, 2657, 2658, 2659, 2660, 2661, 2662, 2663, 2664, 2665, 2666, 2667, 2668, 2669, 2670, 2671, 2672, 2673, 2674, 2675, 2676, 2677, 2678, 2679, 2680, 2681, 2682, 2683, 2684, 2685, 2686, 2687, 2688, 2689, 2690, 2691, 2692, 2693, 2694, 2695, 2696, 2697, 2698, 2699, 2700, 2701, 2702, 2703, 2708, 2709, 2710, 2711, 2712, 2713, 2714, 2715, 2716, 2717, 2718, 2719, 2721, 2722, 2723, 2724, 2725, 2726, 2727, 2728, 2729, 2730, 2731, 2732, 2733, 2734, 2735, 2736, 2737, 2738, 2739, 2740, 2741, 2742, 2743, 2744, 2745, 2746, 2747, 2748, 2749, 2750, 2751, 2752, 2753, 2754, 2755, 2756, 2757, 2758, 2759, 2760, 2761, 2762, 2763, 2764, 2765, 2766, 2767, 2768, 2769, 2770, 2771, 2772, 2773, 2774, 2775, 2776, 2777, 2778, 2779, 2780, 2781, 2782, 2783, 2784, 2785, 2790, 2791, 2792, 2793, 2794, 2795, 2796, 2797, 2798, 2799, 2801, 2802, 2803, 2804, 2805, 2806, 2807, 2808, 2809, 2810, 2811, 2812, 2813, 2814, 2815, 2816, 2817, 2818, 2819, 2820, 2821, 2822, 2823, 2824, 2825, 2826, 2827, 2828, 2829, 2830, 2831, 2832, 2833, 2834, 2835, 2836, 2837, 2838, 2839, 2840, 2841, 2842, 2843, 2844, 2845, 2846, 2847, 2848, 2849, 2850, 2851, 2852, 2853, 2854, 2855, 2856, 2857, 2858, 2859, 2860, 2861, 2862, 2863, 2864, 2865, 2866, 2867, 2868, 2872, 2873, 2874, 2875, 2876, 2877, 2878, 2879, 2881, 2882, 2883, 2884, 2885, 2886, 2887, 2888, 2889, 2890, 2891, 2892, 2893, 2894, 2895, 2896, 2897, 2898, 2899, 2900, 2901, 2902, 2903, 2904, 2905, 2906, 2907, 2908, 2909, 2910, 2911, 2912, 2913, 2914, 2915, 2916, 2917, 2918, 2919, 2920, 2921, 2922, 2923, 2924, 2925, 2926, 2927, 2928, 2929, 2930, 2931, 2932, 2933, 2934, 2935, 2936, 2937, 2938, 2939, 2940, 2941, 2942, 2943, 2944, 2945, 2946, 2947, 2948, 2949, 2950, 2953, 2954, 2955, 2956, 2957, 2958, 2959, 2961, 2962, 2963, 2964, 2965, 2966, 2967, 2968, 2969, 2970, 2971, 2972, 2973, 2974, 2975, 2976, 2977, 2978, 2979, 2980, 2981, 2982, 2983, 2984, 2985, 2986, 2987, 2988, 2989, 2990, 2991, 2992, 2993, 2994, 2995, 2996, 2997, 2998, 2999, 3000, 3001, 3002, 3003, 3004, 3005, 3006, 3007, 3008, 3009, 3010, 3011, 3012, 3013, 3014, 3015, 3016, 3017, 3018, 3019, 3020, 3021, 3022, 3023, 3024, 3025, 3026, 3027, 3028, 3029, 3030, 3031, 3032, 3035, 3036, 3037, 3038, 3039, 3041, 3042, 3043, 3044, 3045, 3046, 3047, 3048, 3049, 3050, 3051, 3052, 3053, 3054, 3055, 3056, 3057, 3058, 3059, 3060, 3061, 3062, 3063, 3064, 3065, 3066, 3067, 3068, 3069, 3070, 3071, 3072, 3073, 3074, 3075, 3076, 3077, 3078, 3079, 3080, 3081, 3082, 3083, 3084, 3085, 3086, 3087, 3088, 3089, 3090, 3091, 3092, 3093, 3094, 3095, 3096, 3097, 3098, 3099, 3100, 3101, 3102, 3103, 3104, 3105, 3106, 3107, 3108, 3109, 3110, 3111, 3112, 3113, 3114, 3115, 3117, 3118, 3119, 3121, 3122, 3123, 3124, 3125, 3126, 3127, 3128, 3129, 3130, 3131, 3132, 3133, 3134, 3135, 3136, 3137, 3138, 3139, 3140, 3141, 3142, 3143, 3144, 3145, 3146, 3147, 3148, 3149, 3150, 3151, 3152, 3153, 3154, 3155, 3156, 3157, 3158, 3159, 3160, 3161, 3162, 3163, 3164, 3165, 3166, 3167, 3168, 3169, 3170, 3171, 3172, 3173, 3174, 3175, 3176, 3177, 3178, 3179, 3180, 3181, 3182, 3183, 3184, 3185, 3186, 3187, 3188, 3189, 3190, 3191, 3192, 3193, 3194, 3195, 3196, 3197, 3199, 3201, 3202, 3203, 3204, 3205, 3206, 3207, 3208, 3209, 3210, 3211, 3212, 3213, 3214, 3215, 3216, 3217, 3218, 3219, 3220, 3221, 3222, 3223, 3224, 3225, 3226, 3227, 3228, 3229, 3230, 3231, 3232, 3233, 3234, 3235, 3236, 3237, 3238, 3239, 3240, 3241, 3242, 3243, 3244, 3245, 3246, 3247, 3248, 3249, 3250, 3251, 3252, 3253, 3254, 3255, 3256, 3257, 3258, 3259, 3260, 3261, 3262, 3263, 3264, 3265, 3266, 3267, 3268, 3269, 3270, 3271, 3272, 3273, 3274, 3275, 3276, 3277, 3278, 3279, 3281, 3282, 3283, 3284, 3285, 3286, 3287, 3288, 3289, 3290, 3291, 3292, 3293, 3294, 3295, 3296, 3297, 3298, 3299, 3300, 3301, 3302, 3303, 3304, 3305, 3306, 3307, 3308, 3309, 3310, 3311, 3312, 3313, 3314, 3315, 3316, 3317, 3318, 3319, 3320, 3321, 3322, 3323, 3324, 3325, 3326, 3327, 3328, 3329, 3330, 3331, 3332, 3333, 3334, 3335, 3336, 3337, 3338, 3339, 3340, 3341, 3342, 3343, 3344, 3345, 3346, 3347, 3348, 3349, 3350, 3351, 3352, 3353, 3354, 3355, 3356, 3357, 3358, 3359, 3361, 3363, 3364, 3365, 3366, 3367, 3368, 3369, 3370, 3371, 3372, 3373, 3374, 3375, 3376, 3377, 3378, 3379, 3380, 3381, 3382, 3383, 3384, 3385, 3386, 3387, 3388, 3389, 3390, 3391, 3392, 3393, 3394, 3395, 3396, 3397, 3398, 3399, 3400, 3401, 3402, 3403, 3404, 3405, 3406, 3407, 3408, 3409, 3410, 3411, 3412, 3413, 3414, 3415, 3416, 3417, 3418, 3419, 3420, 3421, 3422, 3423, 3424, 3425, 3426, 3427, 3428, 3429, 3430, 3431, 3432, 3433, 3434, 3435, 3436, 3437, 3438, 3439, 3441, 3442, 3443, 3445, 3446, 3447, 3448, 3449, 3450, 3451, 3452, 3453, 3454, 3455, 3456, 3457, 3458, 3459, 3460, 3461, 3462, 3463, 3464, 3465, 3466, 3467, 3468, 3469, 3470, 3471, 3472, 3473, 3474, 3475, 3476, 3477, 3478, 3479, 3480, 3481, 3482, 3483, 3484, 3485, 3486, 3487, 3488, 3489, 3490, 3491, 3492, 3493, 3494, 3495, 3496, 3497, 3498, 3499, 3500, 3501, 3502, 3503, 3504, 3505, 3506, 3507, 3508, 3509, 3510, 3511, 3512, 3513, 3514, 3515, 3516, 3517, 3518, 3519, 3521, 3522, 3523, 3524, 3525, 3528, 3529, 3530, 3531, 3532, 3533, 3534, 3535, 3536, 3537, 3538, 3539, 3540, 3541, 3542, 3543, 3544, 3545, 3546, 3547, 3548, 3549, 3550, 3551, 3552, 3553, 3554, 3555, 3556, 3557, 3558, 3559, 3560, 3561, 3562, 3563, 3564, 3565, 3566, 3567, 3568, 3569, 3570, 3571, 3572, 3573, 3574, 3575, 3576, 3577, 3578, 3579, 3580, 3581, 3582, 3583, 3584, 3585, 3586, 3587, 3588, 3589, 3590, 3591, 3592, 3593, 3594, 3595, 3596, 3597, 3598, 3599, 3601, 3602, 3603, 3604, 3605, 3606, 3607, 3610, 3611, 3612, 3613, 3614, 3615, 3616, 3617, 3618, 3619, 3620, 3621, 3622, 3623, 3624, 3625, 3626, 3627, 3628, 3629, 3630, 3631, 3632, 3633, 3634, 3635, 3636, 3637, 3638, 3639, 3640, 3641, 3642, 3643, 3644, 3645, 3646, 3647, 3648, 3649, 3650, 3651, 3652, 3653, 3654, 3655, 3656, 3657, 3658, 3659, 3660, 3661, 3662, 3663, 3664, 3665, 3666, 3667, 3668, 3669, 3670, 3671, 3672, 3673, 3674, 3675, 3676, 3677, 3678, 3679, 3681, 3682, 3683, 3684, 3685, 3686, 3687, 3688, 3692, 3693, 3694, 3695, 3696, 3697, 3698, 3699, 3700, 3701, 3702, 3703, 3704, 3705, 3706, 3707, 3708, 3709, 3710, 3711, 3712, 3713, 3714, 3715, 3716, 3717, 3718, 3719, 3720, 3721, 3722, 3723, 3724, 3725, 3726, 3727, 3728, 3729, 3730, 3731, 3732, 3733, 3734, 3735, 3736, 3737, 3738, 3739, 3740, 3741, 3742, 3743, 3744, 3745, 3746, 3747, 3748, 3749, 3750, 3751, 3752, 3753, 3754, 3755, 3756, 3757, 3758, 3759, 3761, 3762, 3763, 3764, 3765, 3766, 3767, 3768, 3769, 3770, 3775, 3776, 3777, 3778, 3779, 3780, 3781, 3782, 3783, 3784, 3785, 3786, 3787, 3788, 3789, 3790, 3791, 3792, 3793, 3794, 3795, 3796, 3797, 3798, 3799, 3800, 3801, 3802, 3803, 3804, 3805, 3806, 3807, 3808, 3809, 3810, 3811, 3812, 3813, 3814, 3815, 3816, 3817, 3818, 3819, 3820, 3821, 3822, 3823, 3824, 3825, 3826, 3827, 3828, 3829, 3830, 3831, 3832, 3833, 3834, 3835, 3836, 3837, 3838, 3839, 3841, 3842, 3843, 3844, 3845, 3846, 3847, 3848, 3849, 3850, 3851, 3852, 3857, 3858, 3859, 3860, 3861, 3862, 3863, 3864, 3865, 3866, 3867, 3868, 3869, 3870, 3871, 3872, 3873, 3874, 3875, 3876, 3877, 3878, 3879, 3880, 3881, 3882, 3883, 3884, 3885, 3886, 3887, 3888, 3889, 3890, 3891, 3892, 3893, 3894, 3895, 3896, 3897, 3898, 3899, 3900, 3901, 3902, 3903, 3904, 3905, 3906, 3907, 3908, 3909, 3910, 3911, 3912, 3913, 3914, 3915, 3916, 3917, 3918, 3919, 3921, 3922, 3923, 3924, 3925, 3926, 3927, 3928, 3929, 3930, 3931, 3932, 3933, 3934, 3939, 3940, 3941, 3942, 3943, 3944, 3945, 3946, 3947, 3948, 3949, 3950, 3951, 3952, 3953, 3954, 3955, 3956, 3957, 3958, 3959, 3960, 3961, 3962, 3963, 3964, 3965, 3966, 3967, 3968, 3969, 3970, 3971, 3972, 3973, 3974, 3975, 3976, 3977, 3978, 3979, 3980, 3981, 3982, 3983, 3984, 3985, 3986, 3987, 3988, 3989, 3990, 3991, 3992, 3993, 3994, 3995, 3996, 3997, 3998, 3999, 4001, 4002, 4003, 4004, 4005, 4006, 4007, 4008, 4009, 4010, 4011, 4012, 4013, 4014, 4015, 4016, 4022, 4023, 4024, 4025, 4026, 4027, 4028, 4029, 4030, 4031, 4032, 4033, 4034, 4035, 4036, 4037, 4038, 4039, 4040, 4041, 4042, 4043, 4044, 4045, 4046, 4047, 4048, 4049, 4050, 4051, 4052, 4053, 4054, 4055, 4056, 4057, 4058, 4059, 4060, 4061, 4062, 4063, 4064, 4065, 4066, 4067, 4068, 4069, 4070, 4071, 4072, 4073, 4074, 4075, 4076, 4077, 4078, 4079, 4081, 4082, 4083, 4084, 4085, 4086, 4087, 4088, 4089, 4090, 4091, 4092, 4093, 4094, 4095, 4096, 4097, 4104, 4105, 4106, 4107, 4108, 4109, 4110, 4111, 4112, 4113, 4114, 4115, 4116, 4117, 4118, 4119, 4120, 4121, 4122, 4123, 4124, 4125, 4126, 4127, 4128, 4129, 4130, 4131, 4132, 4133, 4134, 4135, 4136, 4137, 4138, 4139, 4140, 4141, 4142, 4143, 4144, 4145, 4146, 4147, 4148, 4149, 4150, 4151, 4152, 4153, 4154, 4155, 4156, 4157, 4158, 4159, 4161, 4162, 4163, 4164, 4165, 4166, 4167, 4168, 4169, 4170, 4171, 4172, 4173, 4174, 4175, 4176, 4177, 4178, 4179, 4186, 4187, 4188, 4189, 4190, 4191, 4192, 4193, 4194, 4195, 4196, 4197, 4198, 4199, 4200, 4201, 4202, 4203, 4204, 4205, 4206, 4207, 4208, 4209, 4210, 4211, 4212, 4213, 4214, 4215, 4216, 4217, 4218, 4219, 4220, 4221, 4222, 4223, 4224, 4225, 4226, 4227, 4228, 4229, 4230, 4231, 4232, 4233, 4234, 4235, 4236, 4237, 4238, 4239, 4241, 4242, 4243, 4244, 4245, 4246, 4247, 4248, 4249, 4250, 4251, 4252, 4253, 4254, 4255, 4256, 4257, 4258, 4259, 4260, 4261, 4269, 4270, 4271, 4272, 4273, 4274, 4275, 4276, 4277, 4278, 4279, 4280, 4281, 4282, 4283, 4284, 4285, 4286, 4287, 4288, 4289, 4290, 4291, 4292, 4293, 4294, 4295, 4296, 4297, 4298, 4299, 4300, 4301, 4302, 4303, 4304, 4305, 4306, 4307, 4308, 4309, 4310, 4311, 4312, 4313, 4314, 4315, 4316, 4317, 4318, 4319, 4321, 4322, 4323, 4324, 4325, 4326, 4327, 4328, 4329, 4330, 4331, 4332, 4333, 4334, 4335, 4336, 4337, 4338, 4339, 4340, 4341, 4342, 4343, 4351, 4352, 4353, 4354, 4355, 4356, 4357, 4358, 4359, 4360, 4361, 4362, 4363, 4364, 4365, 4366, 4367, 4368, 4369, 4370, 4371, 4372, 4373, 4374, 4375, 4376, 4377, 4378, 4379, 4380, 4381, 4382, 4383, 4384, 4385, 4386, 4387, 4388, 4389, 4390, 4391, 4392, 4393, 4394, 4395, 4396, 4397, 4398, 4399, 4401, 4402, 4403, 4404, 4405, 4406, 4407, 4408, 4409, 4410, 4411, 4412, 4413, 4414, 4415, 4416, 4417, 4418, 4419, 4420, 4421, 4422, 4423, 4424, 4425, 4434, 4435, 4436, 4437, 4438, 4439, 4440, 4441, 4442, 4443, 4444, 4445, 4446, 4447, 4448, 4449, 4450, 4451, 4452, 4453, 4454, 4455, 4456, 4457, 4458, 4459, 4460, 4461, 4462, 4463, 4464, 4465, 4466, 4467, 4468, 4469, 4470, 4471, 4472, 4473, 4474, 4475, 4476, 4477, 4478, 4482, 4483, 4484, 4485, 4486, 4487, 4488, 4489, 4490, 4491, 4492, 4493, 4494, 4495, 4496, 4497, 4498, 4499, 4500, 4501, 4502, 4503, 4504, 4505, 4506, 4516, 4517, 4518, 4519, 4520, 4521, 4522, 4523, 4524, 4525, 4526, 4527, 4528, 4529, 4530, 4531, 4532, 4533, 4534, 4535, 4536, 4537, 4538, 4539, 4540, 4541, 4542, 4543, 4544, 4545, 4546, 4547, 4548, 4549, 4550, 4551, 4552, 4553, 4554, 4555, 4556, 4557, 4558, 4562, 4563, 4564, 4565, 4566, 4567, 4568, 4569, 4570, 4571, 4572, 4573, 4574, 4575, 4576, 4577, 4578, 4579, 4580, 4581, 4582, 4583, 4584, 4585, 4586, 4587, 4588, 4598, 4599, 4600, 4601, 4602, 4603, 4604, 4605, 4606, 4607, 4608, 4609, 4610, 4611, 4612, 4613, 4614, 4615, 4616, 4617, 4618, 4619, 4620, 4621, 4622, 4623, 4624, 4625, 4626, 4627, 4628, 4629, 4630, 4631, 4632, 4633, 4634, 4635, 4636, 4637, 4638, 4642, 4643, 4644, 4645, 4646, 4647, 4648, 4649, 4650, 4651, 4652, 4653, 4654, 4655, 4656, 4657, 4658, 4659, 4660, 4661, 4662, 4663, 4664, 4665, 4666, 4667, 4668, 4669, 4670, 4681, 4682, 4683, 4684, 4685, 4686, 4687, 4688, 4689, 4690, 4691, 4692, 4693, 4694, 4695, 4696, 4697, 4698, 4699, 4700, 4701, 4702, 4703, 4704, 4705, 4706, 4707, 4708, 4709, 4710, 4711, 4712, 4713, 4714, 4715, 4716, 4717, 4718, 4722, 4723, 4724, 4725, 4726, 4727, 4728, 4729, 4730, 4731, 4732, 4733, 4734, 4735, 4736, 4737, 4738, 4739, 4740, 4741, 4742, 4743, 4744, 4745, 4746, 4747, 4748, 4749, 4750, 4751, 4752, 4763, 4764, 4765, 4766, 4767, 4768, 4769, 4770, 4771, 4772, 4773, 4774, 4775, 4776, 4777, 4778, 4779, 4780, 4781, 4782, 4783, 4784, 4785, 4786, 4787, 4788, 4789, 4790, 4791, 4792, 4793, 4794, 4795, 4796, 4797, 4798, 4802, 4803, 4804, 4805, 4806, 4807, 4808, 4809, 4810, 4811, 4812, 4813, 4814, 4815, 4816, 4817, 4818, 4819, 4820, 4821, 4822, 4823, 4824, 4825, 4826, 4827, 4828, 4829, 4830, 4831, 4832, 4833, 4834, 4845, 4846, 4847, 4848, 4849, 4850, 4851, 4852, 4853, 4854, 4855, 4856, 4857, 4858, 4859, 4860, 4861, 4862, 4863, 4864, 4865, 4866, 4867, 4868, 4869, 4870, 4871, 4872, 4873, 4874, 4875, 4876, 4877, 4878, 4882, 4883, 4884, 4885, 4886, 4887, 4888, 4889, 4890, 4891, 4892, 4893, 4894, 4895, 4896, 4897, 4898, 4899, 4900, 4901, 4902, 4903, 4904, 4905, 4906, 4907, 4908, 4909, 4910, 4911, 4912, 4913, 4914, 4915, 4928, 4929, 4930, 4931, 4932, 4933, 4934, 4935, 4936, 4937, 4938, 4939, 4940, 4941, 4942, 4943, 4944, 4945, 4946, 4947, 4948, 4949, 4950, 4951, 4952, 4953, 4954, 4955, 4956, 4957, 4958, 4962, 4963, 4964, 4965, 4966, 4967, 4968, 4969, 4970, 4971, 4972, 4973, 4974, 4975, 4976, 4977, 4978, 4979, 4980, 4981, 4982, 4983, 4984, 4985, 4986, 4987, 4988, 4989, 4990, 4991, 4992, 4993, 4994, 4995, 4996, 4997, 5010, 5011, 5012, 5013, 5014, 5015, 5016, 5017, 5018, 5019, 5020, 5021, 5022, 5023, 5024, 5025, 5026, 5027, 5028, 5029, 5030, 5031, 5032, 5033, 5034, 5035, 5036, 5037, 5038, 5042, 5043, 5044, 5045, 5046, 5047, 5048, 5049, 5050, 5051, 5052, 5053, 5054, 5055, 5056, 5057, 5058, 5059, 5060, 5061, 5062, 5063, 5064, 5065, 5066, 5067, 5068, 5069, 5070, 5071, 5072, 5073, 5074, 5075, 5076, 5077, 5078, 5079, 5092, 5093, 5094, 5095, 5096, 5097, 5098, 5099, 5100, 5101, 5102, 5103, 5104, 5105, 5106, 5107, 5108, 5109, 5110, 5111, 5112, 5113, 5114, 5115, 5116, 5117, 5118, 5122, 5123, 5124, 5125, 5126, 5127, 5128, 5129, 5130, 5131, 5132, 5133, 5134, 5135, 5136, 5137, 5138, 5139, 5140, 5141, 5142, 5143, 5144, 5145, 5146, 5147, 5148, 5149, 5150, 5151, 5152, 5153, 5154, 5155, 5156, 5157, 5158, 5159, 5160, 5161, 5175, 5176, 5177, 5178, 5179, 5180, 5181, 5182, 5183, 5184, 5185, 5186, 5187, 5188, 5189, 5190, 5191, 5192, 5193, 5194, 5195, 5196, 5197, 5198, 5202, 5203, 5204, 5205, 5206, 5207, 5208, 5209, 5210, 5211, 5212, 5213, 5214, 5215, 5216, 5217, 5218, 5219, 5220, 5221, 5222, 5223, 5224, 5225, 5226, 5227, 5228, 5229, 5230, 5231, 5232, 5233, 5234, 5235, 5236, 5237, 5238, 5239, 5240, 5241, 5242, 5243, 5257, 5258, 5259, 5260, 5261, 5262, 5263, 5264, 5265, 5266, 5267, 5268, 5269, 5270, 5271, 5272, 5273, 5274, 5275, 5276, 5277, 5278, 5282, 5283, 5284, 5285, 5286, 5287, 5288, 5289, 5290, 5291, 5292, 5293, 5294, 5295, 5296, 5297, 5298, 5299, 5300, 5301, 5302, 5303, 5304, 5305, 5306, 5307, 5308, 5309, 5310, 5311, 5312, 5313, 5314, 5315, 5316, 5317, 5318, 5319, 5320, 5321, 5322, 5323, 5324, 5340, 5341, 5342, 5343, 5344, 5345, 5346, 5347, 5348, 5349, 5350, 5351, 5352, 5353, 5354, 5355, 5356, 5357, 5358, 5362, 5363, 5364, 5365, 5366, 5367, 5368, 5369, 5370, 5371, 5372, 5373, 5374, 5375, 5376, 5377, 5378, 5379, 5380, 5381, 5382, 5383, 5384, 5385, 5386, 5387, 5388, 5389, 5390, 5391, 5392, 5393, 5394, 5395, 5396, 5397, 5398, 5399, 5400, 5401, 5402, 5403, 5404, 5405, 5406, 5422, 5423, 5424, 5425, 5426, 5427, 5428, 5429, 5430, 5431, 5432, 5433, 5434, 5435, 5436, 5437, 5438, 5442, 5443, 5444, 5445, 5446, 5447, 5448, 5449, 5450, 5451, 5452, 5453, 5454, 5455, 5456, 5457, 5458, 5459, 5460, 5461, 5462, 5463, 5464, 5465, 5466, 5467, 5468, 5469, 5470, 5471, 5472, 5473, 5474, 5475, 5476, 5477, 5478, 5479, 5480, 5481, 5482, 5483, 5484, 5485, 5486, 5487, 5488, 5504, 5505, 5506, 5507, 5508, 5509, 5510, 5511, 5512, 5513, 5514, 5515, 5516, 5517, 5518, 5522, 5523, 5524, 5525, 5526, 5527, 5528, 5529, 5530, 5531, 5532, 5533, 5534, 5535, 5536, 5537, 5538, 5539, 5540, 5541, 5542, 5543, 5544, 5545, 5546, 5547, 5548, 5549, 5550, 5551, 5552, 5553, 5554, 5555, 5556, 5557, 5558, 5559, 5560, 5561, 5562, 5563, 5564, 5565, 5566, 5567, 5568, 5569, 5570, 5587, 5588, 5589, 5590, 5591, 5592, 5593, 5594, 5595, 5596, 5597, 5603, 5604, 5605, 5606, 5607, 5608, 5609, 5610, 5611, 5612, 5613, 5614, 5615, 5616, 5617, 5618, 5619, 5620, 5621, 5622, 5623, 5624, 5625, 5626, 5627, 5628, 5629, 5630, 5631, 5632, 5633, 5634, 5635, 5636, 5637, 5638, 5639, 5640, 5641, 5642, 5643, 5644, 5645, 5646, 5647, 5648, 5649, 5650, 5651, 5669, 5670, 5671, 5672, 5673, 5674, 5675, 5676, 5677, 5683, 5684, 5685, 5686, 5687, 5688, 5689, 5690, 5691, 5692, 5693, 5694, 5695, 5696, 5697, 5698, 5699, 5700, 5701, 5702, 5703, 5704, 5705, 5706, 5707, 5708, 5709, 5710, 5711, 5712, 5713, 5714, 5715, 5716, 5717, 5718, 5719, 5720, 5721, 5722, 5723, 5724, 5725, 5726, 5727, 5728, 5729, 5730, 5731, 5732, 5733, 5751, 5752, 5753, 5754, 5755, 5756, 5757, 5763, 5764, 5765, 5766, 5767, 5768, 5769, 5770, 5771, 5772, 5773, 5774, 5775, 5776, 5777, 5778, 5779, 5780, 5781, 5782, 5783, 5784, 5785, 5786, 5787, 5788, 5789, 5790, 5791, 5792, 5793, 5794, 5795, 5796, 5797, 5798, 5799, 5800, 5801, 5802, 5803, 5804, 5805, 5806, 5807, 5808, 5809, 5810, 5811, 5812, 5813, 5814, 5815, 5832, 5833, 5834, 5835, 5836, 5837, 5843, 5844, 5845, 5846, 5847, 5848, 5849, 5850, 5851, 5852, 5853, 5854, 5855, 5856, 5857, 5858, 5859, 5860, 5861, 5862, 5863, 5864, 5865, 5866, 5867, 5868, 5869, 5870, 5871, 5872, 5873, 5874, 5875, 5876, 5877, 5878, 5879, 5880, 5881, 5882, 5883, 5884, 5885, 5886, 5887, 5888, 5889, 5890, 5891, 5892, 5893, 5894, 5895, 5896, 5897, 5913, 5914, 5915, 5916, 5917, 5923, 5924, 5925, 5926, 5927, 5928, 5929, 5930, 5931, 5932, 5933, 5934, 5935, 5936, 5937, 5938, 5939, 5940, 5941, 5942, 5943, 5944, 5945, 5946, 5947, 5948, 5949, 5950, 5951, 5952, 5953, 5954, 5955, 5956, 5957, 5958, 5959, 5960, 5961, 5962, 5963, 5964, 5965, 5966, 5967, 5968, 5969, 5970, 5971, 5972, 5973, 5974, 5975, 5976, 5977, 5978, 5979, 5994, 5995, 5996, 5997, 6003, 6004, 6005, 6006, 6007, 6008, 6009, 6010, 6011, 6012, 6013, 6014, 6015, 6016, 6017, 6018, 6019, 6020, 6021, 6022, 6023, 6024, 6025, 6026, 6027, 6028, 6029, 6030, 6031, 6032, 6033, 6034, 6035, 6036, 6037, 6038, 6039, 6040, 6041, 6042, 6043, 6044, 6045, 6046, 6047, 6048, 6049, 6050, 6051, 6052, 6053, 6054, 6055, 6056, 6057, 6058, 6059, 6060, 6075, 6076, 6077, 6083, 6084, 6085, 6086, 6087, 6088, 6089, 6090, 6091, 6092, 6093, 6094, 6095, 6096, 6097, 6098, 6099, 6100, 6101, 6102, 6103, 6104, 6105, 6106, 6107, 6108, 6109, 6110, 6111, 6112, 6113, 6114, 6115, 6116, 6117, 6118, 6119, 6120, 6121, 6122, 6123, 6124, 6125, 6126, 6127, 6128, 6129, 6130, 6131, 6132, 6133, 6134, 6135, 6136, 6137, 6138, 6139, 6140, 6141, 6142, 6156, 6157, 6163, 6164, 6165, 6166, 6167, 6168, 6169, 6170, 6171, 6172, 6173, 6174, 6175, 6176, 6177, 6178, 6179, 6180, 6181, 6182, 6183, 6184, 6185, 6186, 6187, 6188, 6189, 6190, 6191, 6192, 6193, 6194, 6195, 6196, 6197, 6198, 6199, 6200, 6201, 6202, 6203, 6204, 6205, 6206, 6207, 6208, 6209, 6210, 6211, 6212, 6213, 6214, 6215, 6216, 6217, 6218, 6219, 6220, 6221, 6222, 6223, 6224, 6237, 6243, 6244, 6245, 6246, 6247, 6248, 6249, 6250, 6251, 6252, 6253, 6254, 6255, 6256, 6257, 6258, 6259, 6260, 6261, 6262, 6263, 6264, 6265, 6266, 6267, 6268, 6269, 6270, 6271, 6272, 6273, 6274, 6275, 6276, 6277, 6278, 6279, 6280, 6281, 6282, 6283, 6284, 6285, 6286, 6287, 6288, 6289, 6290, 6291, 6292, 6293, 6294, 6295, 6296, 6297, 6298, 6299, 6300, 6301, 6302, 6303, 6304, 6305, 6306, 6323, 6324, 6325, 6326, 6327, 6328, 6329, 6330, 6331, 6332, 6333, 6334, 6335, 6336, 6337, 6338, 6339, 6340, 6341, 6342, 6343, 6344, 6345, 6346, 6347, 6348, 6349, 6350, 6351, 6352, 6353, 6354, 6355, 6356, 6357, 6358, 6359, 6360, 6361, 6362, 6363, 6364, 6365, 6366, 6367, 6368, 6369, 6370, 6371, 6372, 6373, 6374, 6375, 6376, 6377, 6378, 6379, 6380, 6381, 6382, 6383, 6384, 6385, 6386, 6387, 6388, 6403, 6404, 6405, 6406, 6407, 6408, 6409, 6410, 6411, 6412, 6413, 6414, 6415, 6416, 6417, 6418, 6419, 6420, 6421, 6422, 6423, 6424, 6425, 6426, 6427, 6428, 6429, 6430, 6431, 6432, 6433, 6434, 6435, 6436, 6437, 6438, 6439, 6440, 6441, 6442, 6443, 6444, 6445, 6446, 6447, 6448, 6449, 6450, 6451, 6452, 6453, 6454, 6455, 6456, 6457, 6458, 6459, 6460, 6461, 6462, 6463, 6464, 6465, 6466, 6467, 6468, 6469, 6483, 6484, 6485, 6486, 6487, 6488, 6489, 6490, 6491, 6492, 6493, 6494, 6495, 6496, 6497, 6498, 6499, 6500, 6501, 6502, 6503, 6504, 6505, 6506, 6507, 6508, 6509, 6510, 6511, 6512, 6513, 6514, 6515, 6516, 6517, 6518, 6519, 6520, 6521, 6522, 6523, 6524, 6525, 6526, 6527, 6528, 6529, 6530, 6531, 6532, 6533, 6534, 6535, 6536, 6537, 6538, 6539, 6540, 6541, 6542, 6543, 6544, 6545, 6546, 6547, 6548, 6549, 6550, 6551]\n",
      "val ids:  []\n",
      "test ids:  [0, 1, 2, 3, 4, 5, 6, 7, 8, 78, 79, 80, 81, 82, 83, 84, 85, 86, 87, 88, 89, 90, 158, 159, 160, 161, 162, 163, 164, 165, 166, 167, 168, 169, 170, 171, 238, 239, 240, 241, 242, 243, 244, 245, 246, 247, 248, 249, 250, 251, 252, 253, 318, 319, 320, 321, 322, 324, 325, 326, 327, 328, 329, 330, 331, 332, 333, 334, 335, 398, 399, 400, 401, 402, 405, 406, 407, 408, 409, 410, 411, 412, 413, 414, 415, 416, 417, 478, 479, 480, 481, 482, 486, 487, 488, 489, 490, 491, 492, 493, 494, 495, 496, 497, 498, 499, 558, 559, 560, 561, 562, 567, 568, 569, 570, 571, 572, 573, 574, 575, 576, 577, 578, 579, 580, 638, 639, 640, 641, 642, 648, 649, 650, 651, 652, 653, 654, 655, 656, 657, 658, 659, 660, 661, 662, 718, 719, 720, 721, 722, 729, 730, 731, 732, 733, 734, 735, 736, 737, 738, 739, 740, 741, 742, 743, 744, 798, 799, 800, 801, 802, 810, 811, 812, 813, 814, 815, 816, 817, 818, 819, 820, 821, 822, 823, 824, 825, 826, 878, 879, 880, 881, 882, 892, 893, 894, 895, 896, 897, 898, 899, 900, 901, 902, 903, 904, 905, 906, 907, 908, 958, 959, 960, 961, 962, 974, 975, 976, 977, 978, 979, 980, 981, 982, 983, 984, 985, 986, 987, 988, 989, 1039, 1040, 1041, 1057, 1058, 1059, 1060, 1061, 1062, 1063, 1064, 1065, 1066, 1067, 1068, 1069, 1070, 1071, 1119, 1120, 1121, 1139, 1140, 1141, 1142, 1143, 1144, 1145, 1146, 1147, 1148, 1149, 1150, 1151, 1152, 1153, 1199, 1200, 1201, 1221, 1222, 1223, 1224, 1225, 1226, 1227, 1228, 1229, 1230, 1231, 1232, 1233, 1234, 1235, 1279, 1280, 1281, 1304, 1305, 1306, 1307, 1308, 1309, 1310, 1311, 1312, 1313, 1314, 1315, 1316, 1359, 1360, 1361, 1386, 1387, 1388, 1389, 1390, 1391, 1392, 1393, 1394, 1395, 1396, 1397, 1398, 1439, 1440, 1441, 1469, 1470, 1471, 1472, 1473, 1474, 1475, 1476, 1477, 1478, 1479, 1480, 1519, 1520, 1521, 1551, 1552, 1553, 1554, 1555, 1556, 1557, 1558, 1559, 1560, 1561, 1562, 1599, 1600, 1601, 1633, 1634, 1635, 1636, 1637, 1638, 1639, 1640, 1641, 1642, 1643, 1644, 1679, 1680, 1681, 1716, 1717, 1718, 1719, 1720, 1721, 1722, 1723, 1724, 1725, 1759, 1760, 1761, 1798, 1799, 1800, 1801, 1802, 1803, 1804, 1805, 1806, 1807, 1839, 1840, 1841, 1880, 1881, 1882, 1883, 1884, 1885, 1886, 1887, 1888, 1889, 1919, 1920, 1921, 1963, 1964, 1965, 1966, 1967, 1968, 1969, 1970, 1971, 1999, 2000, 2001, 2045, 2046, 2047, 2048, 2049, 2050, 2051, 2052, 2053, 2079, 2080, 2081, 2127, 2128, 2129, 2130, 2131, 2132, 2133, 2134, 2160, 2210, 2211, 2212, 2213, 2214, 2215, 2216, 2240, 2292, 2293, 2294, 2295, 2296, 2297, 2298, 2320, 2375, 2376, 2377, 2378, 2379, 2380, 2400, 2457, 2458, 2459, 2460, 2461, 2462, 2480, 2539, 2540, 2541, 2542, 2543, 2560, 2622, 2623, 2624, 2625, 2640, 2704, 2705, 2706, 2707, 2720, 2786, 2787, 2788, 2789, 2800, 2869, 2870, 2871, 2880, 2951, 2952, 2960, 3033, 3034, 3040, 3116, 3120, 3198, 3200, 3280, 3360, 3362, 3440, 3444, 3520, 3526, 3527, 3600, 3608, 3609, 3680, 3689, 3690, 3691, 3760, 3771, 3772, 3773, 3774, 3840, 3853, 3854, 3855, 3856, 3920, 3935, 3936, 3937, 3938, 4000, 4017, 4018, 4019, 4020, 4021, 4080, 4098, 4099, 4100, 4101, 4102, 4103, 4160, 4180, 4181, 4182, 4183, 4184, 4185, 4240, 4262, 4263, 4264, 4265, 4266, 4267, 4268, 4320, 4344, 4345, 4346, 4347, 4348, 4349, 4350, 4400, 4426, 4427, 4428, 4429, 4430, 4431, 4432, 4433, 4479, 4480, 4481, 4507, 4508, 4509, 4510, 4511, 4512, 4513, 4514, 4515, 4559, 4560, 4561, 4589, 4590, 4591, 4592, 4593, 4594, 4595, 4596, 4597, 4639, 4640, 4641, 4671, 4672, 4673, 4674, 4675, 4676, 4677, 4678, 4679, 4680, 4719, 4720, 4721, 4753, 4754, 4755, 4756, 4757, 4758, 4759, 4760, 4761, 4762, 4799, 4800, 4801, 4835, 4836, 4837, 4838, 4839, 4840, 4841, 4842, 4843, 4844, 4879, 4880, 4881, 4916, 4917, 4918, 4919, 4920, 4921, 4922, 4923, 4924, 4925, 4926, 4927, 4959, 4960, 4961, 4998, 4999, 5000, 5001, 5002, 5003, 5004, 5005, 5006, 5007, 5008, 5009, 5039, 5040, 5041, 5080, 5081, 5082, 5083, 5084, 5085, 5086, 5087, 5088, 5089, 5090, 5091, 5119, 5120, 5121, 5162, 5163, 5164, 5165, 5166, 5167, 5168, 5169, 5170, 5171, 5172, 5173, 5174, 5199, 5200, 5201, 5244, 5245, 5246, 5247, 5248, 5249, 5250, 5251, 5252, 5253, 5254, 5255, 5256, 5279, 5280, 5281, 5325, 5326, 5327, 5328, 5329, 5330, 5331, 5332, 5333, 5334, 5335, 5336, 5337, 5338, 5339, 5359, 5360, 5361, 5407, 5408, 5409, 5410, 5411, 5412, 5413, 5414, 5415, 5416, 5417, 5418, 5419, 5420, 5421, 5439, 5440, 5441, 5489, 5490, 5491, 5492, 5493, 5494, 5495, 5496, 5497, 5498, 5499, 5500, 5501, 5502, 5503, 5519, 5520, 5521, 5571, 5572, 5573, 5574, 5575, 5576, 5577, 5578, 5579, 5580, 5581, 5582, 5583, 5584, 5585, 5586, 5598, 5599, 5600, 5601, 5602, 5652, 5653, 5654, 5655, 5656, 5657, 5658, 5659, 5660, 5661, 5662, 5663, 5664, 5665, 5666, 5667, 5668, 5678, 5679, 5680, 5681, 5682, 5734, 5735, 5736, 5737, 5738, 5739, 5740, 5741, 5742, 5743, 5744, 5745, 5746, 5747, 5748, 5749, 5750, 5758, 5759, 5760, 5761, 5762, 5816, 5817, 5818, 5819, 5820, 5821, 5822, 5823, 5824, 5825, 5826, 5827, 5828, 5829, 5830, 5831, 5838, 5839, 5840, 5841, 5842, 5898, 5899, 5900, 5901, 5902, 5903, 5904, 5905, 5906, 5907, 5908, 5909, 5910, 5911, 5912, 5918, 5919, 5920, 5921, 5922, 5980, 5981, 5982, 5983, 5984, 5985, 5986, 5987, 5988, 5989, 5990, 5991, 5992, 5993, 5998, 5999, 6000, 6001, 6002, 6061, 6062, 6063, 6064, 6065, 6066, 6067, 6068, 6069, 6070, 6071, 6072, 6073, 6074, 6078, 6079, 6080, 6081, 6082, 6143, 6144, 6145, 6146, 6147, 6148, 6149, 6150, 6151, 6152, 6153, 6154, 6155, 6158, 6159, 6160, 6161, 6162, 6225, 6226, 6227, 6228, 6229, 6230, 6231, 6232, 6233, 6234, 6235, 6236, 6238, 6239, 6240, 6241, 6242, 6307, 6308, 6309, 6310, 6311, 6312, 6313, 6314, 6315, 6316, 6317, 6318, 6319, 6320, 6321, 6322, 6389, 6390, 6391, 6392, 6393, 6394, 6395, 6396, 6397, 6398, 6399, 6400, 6401, 6402, 6470, 6471, 6472, 6473, 6474, 6475, 6476, 6477, 6478, 6479, 6480, 6481, 6482, 6552, 6553, 6554, 6555, 6556, 6557, 6558, 6559, 6560]\n",
      "CPU times: user 172 ms, sys: 19.6 ms, total: 192 ms\n",
      "Wall time: 191 ms\n"
     ]
    }
   ],
   "source": [
    "%%time\n",
    "n_total = len(simulation.dataframe)\n",
    "n_train = len(simulation.dataframe[simulation.dataframe.type_of == \"train\"])\n",
    "n_val = len(simulation.dataframe[simulation.dataframe.type_of == \"val\"])\n",
    "n_test = len(simulation.dataframe[simulation.dataframe.type_of == \"test\"])\n",
    "n_train_hamiltonians = len(simulation.train_ids)\n",
    "n_val_hamiltonians = len(simulation.val_ids)\n",
    "n_test_hamiltonians = len(simulation.test_ids)\n",
    "n_total_hamiltonians = n_train_hamiltonians + n_val_hamiltonians + n_test_hamiltonians\n",
    "\n",
    "print(\"% train: \", n_train/n_total)\n",
    "print(\"% val: \",  n_val/n_total)\n",
    "print(\"% test: \", n_test/n_total)\n",
    "print(\"% train + val + test: \", (n_train+n_val+n_test)/n_total)\n",
    "print(\"\\n\")\n",
    "print(\"number of train hamiltonians: \", n_train_hamiltonians)\n",
    "print(\"number of val hamiltonians: \", n_val_hamiltonians)\n",
    "print(\"number of test hamiltonians: \", n_test_hamiltonians)\n",
    "print(\"total number of hamiltonians: \", n_total_hamiltonians)\n",
    "print(\"\\n\")\n",
    "print(\"train ids: \", simulation.train_ids)\n",
    "print(\"val ids: \", simulation.val_ids)\n",
    "print(\"test ids: \", simulation.test_ids)"
   ]
  },
  {
   "cell_type": "markdown",
   "metadata": {
    "papermill": {
     "duration": 0.018415,
     "end_time": "2020-07-16T00:27:37.297772",
     "exception": false,
     "start_time": "2020-07-16T00:27:37.279357",
     "status": "completed"
    },
    "tags": []
   },
   "source": [
    "## Running a simulation"
   ]
  },
  {
   "cell_type": "code",
   "execution_count": 27,
   "metadata": {
    "execution": {
     "iopub.execute_input": "2020-07-16T00:27:37.341532Z",
     "iopub.status.busy": "2020-07-16T00:27:37.341221Z",
     "iopub.status.idle": "2020-07-16T00:43:45.537257Z",
     "shell.execute_reply": "2020-07-16T00:43:45.537564Z"
    },
    "papermill": {
     "duration": 968.216731,
     "end_time": "2020-07-16T00:43:45.537628",
     "exception": false,
     "start_time": "2020-07-16T00:27:37.320897",
     "status": "completed"
    },
    "tags": []
   },
   "outputs": [
    {
     "name": "stderr",
     "output_type": "stream",
     "text": [
      "\r",
      "running experiments:   0%|          | 0/100 [00:00<?, ?it/s]"
     ]
    },
    {
     "name": "stdout",
     "output_type": "stream",
     "text": [
      "Simulation mode:  None\n"
     ]
    },
    {
     "name": "stderr",
     "output_type": "stream",
     "text": [
      "\r",
      "running experiments:   1%|          | 1/100 [00:09<16:04,  9.74s/it]"
     ]
    },
    {
     "name": "stderr",
     "output_type": "stream",
     "text": [
      "\r",
      "running experiments:   2%|▏         | 2/100 [00:19<15:54,  9.74s/it]"
     ]
    },
    {
     "name": "stderr",
     "output_type": "stream",
     "text": [
      "\r",
      "running experiments:   3%|▎         | 3/100 [00:29<15:40,  9.69s/it]"
     ]
    },
    {
     "name": "stderr",
     "output_type": "stream",
     "text": [
      "\r",
      "running experiments:   4%|▍         | 4/100 [00:39<15:52,  9.92s/it]"
     ]
    },
    {
     "name": "stderr",
     "output_type": "stream",
     "text": [
      "\r",
      "running experiments:   5%|▌         | 5/100 [00:49<15:30,  9.80s/it]"
     ]
    },
    {
     "name": "stderr",
     "output_type": "stream",
     "text": [
      "\r",
      "running experiments:   6%|▌         | 6/100 [00:59<15:38,  9.98s/it]"
     ]
    },
    {
     "name": "stderr",
     "output_type": "stream",
     "text": [
      "\r",
      "running experiments:   7%|▋         | 7/100 [01:09<15:16,  9.86s/it]"
     ]
    },
    {
     "name": "stderr",
     "output_type": "stream",
     "text": [
      "\r",
      "running experiments:   8%|▊         | 8/100 [01:18<15:09,  9.88s/it]"
     ]
    },
    {
     "name": "stderr",
     "output_type": "stream",
     "text": [
      "\r",
      "running experiments:   9%|▉         | 9/100 [01:28<14:44,  9.72s/it]"
     ]
    },
    {
     "name": "stderr",
     "output_type": "stream",
     "text": [
      "\r",
      "running experiments:  10%|█         | 10/100 [01:37<14:32,  9.70s/it]"
     ]
    },
    {
     "name": "stderr",
     "output_type": "stream",
     "text": [
      "\r",
      "running experiments:  11%|█         | 11/100 [01:47<14:13,  9.59s/it]"
     ]
    },
    {
     "name": "stderr",
     "output_type": "stream",
     "text": [
      "\r",
      "running experiments:  12%|█▏        | 12/100 [01:57<14:12,  9.69s/it]"
     ]
    },
    {
     "name": "stderr",
     "output_type": "stream",
     "text": [
      "\r",
      "running experiments:  13%|█▎        | 13/100 [02:05<13:38,  9.41s/it]"
     ]
    },
    {
     "name": "stderr",
     "output_type": "stream",
     "text": [
      "\r",
      "running experiments:  14%|█▍        | 14/100 [02:15<13:29,  9.41s/it]"
     ]
    },
    {
     "name": "stderr",
     "output_type": "stream",
     "text": [
      "\r",
      "running experiments:  15%|█▌        | 15/100 [02:24<13:17,  9.38s/it]"
     ]
    },
    {
     "name": "stderr",
     "output_type": "stream",
     "text": [
      "\r",
      "running experiments:  16%|█▌        | 16/100 [02:33<13:05,  9.35s/it]"
     ]
    },
    {
     "name": "stderr",
     "output_type": "stream",
     "text": [
      "\r",
      "running experiments:  17%|█▋        | 17/100 [02:43<12:56,  9.36s/it]"
     ]
    },
    {
     "name": "stderr",
     "output_type": "stream",
     "text": [
      "\r",
      "running experiments:  18%|█▊        | 18/100 [02:52<12:49,  9.38s/it]"
     ]
    },
    {
     "name": "stderr",
     "output_type": "stream",
     "text": [
      "\r",
      "running experiments:  19%|█▉        | 19/100 [03:03<13:15,  9.83s/it]"
     ]
    },
    {
     "name": "stderr",
     "output_type": "stream",
     "text": [
      "\r",
      "running experiments:  20%|██        | 20/100 [03:12<12:47,  9.60s/it]"
     ]
    },
    {
     "name": "stderr",
     "output_type": "stream",
     "text": [
      "\r",
      "running experiments:  21%|██        | 21/100 [03:22<12:33,  9.54s/it]"
     ]
    },
    {
     "name": "stderr",
     "output_type": "stream",
     "text": [
      "\r",
      "running experiments:  22%|██▏       | 22/100 [03:31<12:10,  9.36s/it]"
     ]
    },
    {
     "name": "stderr",
     "output_type": "stream",
     "text": [
      "\r",
      "running experiments:  23%|██▎       | 23/100 [03:41<12:14,  9.54s/it]"
     ]
    },
    {
     "name": "stderr",
     "output_type": "stream",
     "text": [
      "\r",
      "running experiments:  24%|██▍       | 24/100 [03:50<11:55,  9.42s/it]"
     ]
    },
    {
     "name": "stderr",
     "output_type": "stream",
     "text": [
      "\r",
      "running experiments:  25%|██▌       | 25/100 [04:00<12:08,  9.71s/it]"
     ]
    },
    {
     "name": "stderr",
     "output_type": "stream",
     "text": [
      "\r",
      "running experiments:  26%|██▌       | 26/100 [04:10<12:06,  9.81s/it]"
     ]
    },
    {
     "name": "stderr",
     "output_type": "stream",
     "text": [
      "\r",
      "running experiments:  27%|██▋       | 27/100 [04:20<11:57,  9.83s/it]"
     ]
    },
    {
     "name": "stderr",
     "output_type": "stream",
     "text": [
      "\r",
      "running experiments:  28%|██▊       | 28/100 [04:30<11:42,  9.76s/it]"
     ]
    },
    {
     "name": "stderr",
     "output_type": "stream",
     "text": [
      "\r",
      "running experiments:  29%|██▉       | 29/100 [04:39<11:33,  9.77s/it]"
     ]
    },
    {
     "name": "stderr",
     "output_type": "stream",
     "text": [
      "\r",
      "running experiments:  30%|███       | 30/100 [04:48<11:00,  9.44s/it]"
     ]
    },
    {
     "name": "stderr",
     "output_type": "stream",
     "text": [
      "\r",
      "running experiments:  31%|███       | 31/100 [04:58<10:54,  9.48s/it]"
     ]
    },
    {
     "name": "stderr",
     "output_type": "stream",
     "text": [
      "\r",
      "running experiments:  32%|███▏      | 32/100 [05:07<10:46,  9.50s/it]"
     ]
    },
    {
     "name": "stderr",
     "output_type": "stream",
     "text": [
      "\r",
      "running experiments:  33%|███▎      | 33/100 [05:18<10:55,  9.79s/it]"
     ]
    },
    {
     "name": "stderr",
     "output_type": "stream",
     "text": [
      "\r",
      "running experiments:  34%|███▍      | 34/100 [05:27<10:39,  9.69s/it]"
     ]
    },
    {
     "name": "stderr",
     "output_type": "stream",
     "text": [
      "\r",
      "running experiments:  35%|███▌      | 35/100 [05:38<10:59, 10.15s/it]"
     ]
    },
    {
     "name": "stderr",
     "output_type": "stream",
     "text": [
      "\r",
      "running experiments:  36%|███▌      | 36/100 [05:48<10:36,  9.95s/it]"
     ]
    },
    {
     "name": "stderr",
     "output_type": "stream",
     "text": [
      "\r",
      "running experiments:  37%|███▋      | 37/100 [05:58<10:40, 10.17s/it]"
     ]
    },
    {
     "name": "stderr",
     "output_type": "stream",
     "text": [
      "\r",
      "running experiments:  38%|███▊      | 38/100 [06:07<10:02,  9.71s/it]"
     ]
    },
    {
     "name": "stderr",
     "output_type": "stream",
     "text": [
      "\r",
      "running experiments:  39%|███▉      | 39/100 [06:18<10:11, 10.03s/it]"
     ]
    },
    {
     "name": "stderr",
     "output_type": "stream",
     "text": [
      "\r",
      "running experiments:  40%|████      | 40/100 [06:29<10:14, 10.25s/it]"
     ]
    },
    {
     "name": "stderr",
     "output_type": "stream",
     "text": [
      "\r",
      "running experiments:  41%|████      | 41/100 [06:38<09:55, 10.09s/it]"
     ]
    },
    {
     "name": "stderr",
     "output_type": "stream",
     "text": [
      "\r",
      "running experiments:  42%|████▏     | 42/100 [06:49<09:55, 10.27s/it]"
     ]
    },
    {
     "name": "stderr",
     "output_type": "stream",
     "text": [
      "\r",
      "running experiments:  43%|████▎     | 43/100 [06:59<09:34, 10.08s/it]"
     ]
    },
    {
     "name": "stderr",
     "output_type": "stream",
     "text": [
      "\r",
      "running experiments:  44%|████▍     | 44/100 [07:08<09:17,  9.96s/it]"
     ]
    },
    {
     "name": "stderr",
     "output_type": "stream",
     "text": [
      "\r",
      "running experiments:  45%|████▌     | 45/100 [07:18<09:07,  9.95s/it]"
     ]
    },
    {
     "name": "stderr",
     "output_type": "stream",
     "text": [
      "\r",
      "running experiments:  46%|████▌     | 46/100 [07:29<09:15, 10.28s/it]"
     ]
    },
    {
     "name": "stderr",
     "output_type": "stream",
     "text": [
      "\r",
      "running experiments:  47%|████▋     | 47/100 [07:40<09:13, 10.44s/it]"
     ]
    },
    {
     "name": "stderr",
     "output_type": "stream",
     "text": [
      "\r",
      "running experiments:  48%|████▊     | 48/100 [07:50<08:48, 10.15s/it]"
     ]
    },
    {
     "name": "stderr",
     "output_type": "stream",
     "text": [
      "\r",
      "running experiments:  49%|████▉     | 49/100 [07:59<08:24,  9.88s/it]"
     ]
    },
    {
     "name": "stderr",
     "output_type": "stream",
     "text": [
      "\r",
      "running experiments:  50%|█████     | 50/100 [08:09<08:10,  9.82s/it]"
     ]
    },
    {
     "name": "stderr",
     "output_type": "stream",
     "text": [
      "\r",
      "running experiments:  51%|█████     | 51/100 [08:18<07:58,  9.76s/it]"
     ]
    },
    {
     "name": "stderr",
     "output_type": "stream",
     "text": [
      "\r",
      "running experiments:  52%|█████▏    | 52/100 [08:28<07:46,  9.72s/it]"
     ]
    },
    {
     "name": "stderr",
     "output_type": "stream",
     "text": [
      "\r",
      "running experiments:  53%|█████▎    | 53/100 [08:37<07:33,  9.64s/it]"
     ]
    },
    {
     "name": "stderr",
     "output_type": "stream",
     "text": [
      "\r",
      "running experiments:  54%|█████▍    | 54/100 [08:47<07:31,  9.81s/it]"
     ]
    },
    {
     "name": "stderr",
     "output_type": "stream",
     "text": [
      "\r",
      "running experiments:  55%|█████▌    | 55/100 [08:57<07:17,  9.72s/it]"
     ]
    },
    {
     "name": "stderr",
     "output_type": "stream",
     "text": [
      "\r",
      "running experiments:  56%|█████▌    | 56/100 [09:07<07:05,  9.67s/it]"
     ]
    },
    {
     "name": "stderr",
     "output_type": "stream",
     "text": [
      "\r",
      "running experiments:  57%|█████▋    | 57/100 [09:16<06:51,  9.56s/it]"
     ]
    },
    {
     "name": "stderr",
     "output_type": "stream",
     "text": [
      "\r",
      "running experiments:  58%|█████▊    | 58/100 [09:25<06:41,  9.57s/it]"
     ]
    },
    {
     "name": "stderr",
     "output_type": "stream",
     "text": [
      "\r",
      "running experiments:  59%|█████▉    | 59/100 [09:36<06:40,  9.76s/it]"
     ]
    },
    {
     "name": "stderr",
     "output_type": "stream",
     "text": [
      "\r",
      "running experiments:  60%|██████    | 60/100 [09:45<06:22,  9.57s/it]"
     ]
    },
    {
     "name": "stderr",
     "output_type": "stream",
     "text": [
      "\r",
      "running experiments:  61%|██████    | 61/100 [09:55<06:21,  9.78s/it]"
     ]
    },
    {
     "name": "stderr",
     "output_type": "stream",
     "text": [
      "\r",
      "running experiments:  62%|██████▏   | 62/100 [10:04<06:07,  9.66s/it]"
     ]
    },
    {
     "name": "stderr",
     "output_type": "stream",
     "text": [
      "\r",
      "running experiments:  63%|██████▎   | 63/100 [10:14<05:56,  9.64s/it]"
     ]
    },
    {
     "name": "stderr",
     "output_type": "stream",
     "text": [
      "\r",
      "running experiments:  64%|██████▍   | 64/100 [10:24<05:51,  9.75s/it]"
     ]
    },
    {
     "name": "stderr",
     "output_type": "stream",
     "text": [
      "\r",
      "running experiments:  65%|██████▌   | 65/100 [10:34<05:39,  9.69s/it]"
     ]
    },
    {
     "name": "stderr",
     "output_type": "stream",
     "text": [
      "\r",
      "running experiments:  66%|██████▌   | 66/100 [10:43<05:29,  9.68s/it]"
     ]
    },
    {
     "name": "stderr",
     "output_type": "stream",
     "text": [
      "\r",
      "running experiments:  67%|██████▋   | 67/100 [10:54<05:26,  9.88s/it]"
     ]
    },
    {
     "name": "stderr",
     "output_type": "stream",
     "text": [
      "\r",
      "running experiments:  68%|██████▊   | 68/100 [11:03<05:12,  9.77s/it]"
     ]
    },
    {
     "name": "stderr",
     "output_type": "stream",
     "text": [
      "\r",
      "running experiments:  69%|██████▉   | 69/100 [11:13<05:07,  9.92s/it]"
     ]
    },
    {
     "name": "stderr",
     "output_type": "stream",
     "text": [
      "\r",
      "running experiments:  70%|███████   | 70/100 [11:23<04:57,  9.91s/it]"
     ]
    },
    {
     "name": "stderr",
     "output_type": "stream",
     "text": [
      "\r",
      "running experiments:  71%|███████   | 71/100 [11:33<04:48,  9.96s/it]"
     ]
    },
    {
     "name": "stderr",
     "output_type": "stream",
     "text": [
      "\r",
      "running experiments:  72%|███████▏  | 72/100 [11:44<04:42, 10.10s/it]"
     ]
    },
    {
     "name": "stderr",
     "output_type": "stream",
     "text": [
      "\r",
      "running experiments:  73%|███████▎  | 73/100 [11:53<04:24,  9.80s/it]"
     ]
    },
    {
     "name": "stderr",
     "output_type": "stream",
     "text": [
      "\r",
      "running experiments:  74%|███████▍  | 74/100 [12:02<04:08,  9.54s/it]"
     ]
    },
    {
     "name": "stderr",
     "output_type": "stream",
     "text": [
      "\r",
      "running experiments:  75%|███████▌  | 75/100 [12:11<03:58,  9.53s/it]"
     ]
    },
    {
     "name": "stderr",
     "output_type": "stream",
     "text": [
      "\r",
      "running experiments:  76%|███████▌  | 76/100 [12:22<03:54,  9.79s/it]"
     ]
    },
    {
     "name": "stderr",
     "output_type": "stream",
     "text": [
      "\r",
      "running experiments:  77%|███████▋  | 77/100 [12:32<03:46,  9.84s/it]"
     ]
    },
    {
     "name": "stderr",
     "output_type": "stream",
     "text": [
      "\r",
      "running experiments:  78%|███████▊  | 78/100 [12:41<03:31,  9.59s/it]"
     ]
    },
    {
     "name": "stderr",
     "output_type": "stream",
     "text": [
      "\r",
      "running experiments:  79%|███████▉  | 79/100 [12:49<03:14,  9.25s/it]"
     ]
    },
    {
     "name": "stderr",
     "output_type": "stream",
     "text": [
      "\r",
      "running experiments:  80%|████████  | 80/100 [12:59<03:05,  9.30s/it]"
     ]
    },
    {
     "name": "stderr",
     "output_type": "stream",
     "text": [
      "\r",
      "running experiments:  81%|████████  | 81/100 [13:08<02:56,  9.31s/it]"
     ]
    },
    {
     "name": "stderr",
     "output_type": "stream",
     "text": [
      "\r",
      "running experiments:  82%|████████▏ | 82/100 [13:17<02:47,  9.29s/it]"
     ]
    },
    {
     "name": "stderr",
     "output_type": "stream",
     "text": [
      "\r",
      "running experiments:  83%|████████▎ | 83/100 [13:26<02:38,  9.31s/it]"
     ]
    },
    {
     "name": "stderr",
     "output_type": "stream",
     "text": [
      "\r",
      "running experiments:  84%|████████▍ | 84/100 [13:36<02:28,  9.27s/it]"
     ]
    },
    {
     "name": "stderr",
     "output_type": "stream",
     "text": [
      "\r",
      "running experiments:  85%|████████▌ | 85/100 [13:45<02:19,  9.31s/it]"
     ]
    },
    {
     "name": "stderr",
     "output_type": "stream",
     "text": [
      "\r",
      "running experiments:  86%|████████▌ | 86/100 [13:54<02:08,  9.18s/it]"
     ]
    },
    {
     "name": "stderr",
     "output_type": "stream",
     "text": [
      "\r",
      "running experiments:  87%|████████▋ | 87/100 [14:03<01:59,  9.21s/it]"
     ]
    },
    {
     "name": "stderr",
     "output_type": "stream",
     "text": [
      "\r",
      "running experiments:  88%|████████▊ | 88/100 [14:13<01:51,  9.30s/it]"
     ]
    },
    {
     "name": "stderr",
     "output_type": "stream",
     "text": [
      "\r",
      "running experiments:  89%|████████▉ | 89/100 [14:23<01:44,  9.48s/it]"
     ]
    },
    {
     "name": "stderr",
     "output_type": "stream",
     "text": [
      "\r",
      "running experiments:  90%|█████████ | 90/100 [14:32<01:35,  9.52s/it]"
     ]
    },
    {
     "name": "stderr",
     "output_type": "stream",
     "text": [
      "\r",
      "running experiments:  91%|█████████ | 91/100 [14:42<01:25,  9.46s/it]"
     ]
    },
    {
     "name": "stderr",
     "output_type": "stream",
     "text": [
      "\r",
      "running experiments:  92%|█████████▏| 92/100 [14:50<01:13,  9.14s/it]"
     ]
    },
    {
     "name": "stderr",
     "output_type": "stream",
     "text": [
      "\r",
      "running experiments:  93%|█████████▎| 93/100 [15:00<01:05,  9.34s/it]"
     ]
    },
    {
     "name": "stderr",
     "output_type": "stream",
     "text": [
      "\r",
      "running experiments:  94%|█████████▍| 94/100 [15:10<00:57,  9.58s/it]"
     ]
    },
    {
     "name": "stderr",
     "output_type": "stream",
     "text": [
      "\r",
      "running experiments:  95%|█████████▌| 95/100 [15:20<00:47,  9.59s/it]"
     ]
    },
    {
     "name": "stderr",
     "output_type": "stream",
     "text": [
      "\r",
      "running experiments:  96%|█████████▌| 96/100 [15:29<00:38,  9.54s/it]"
     ]
    },
    {
     "name": "stderr",
     "output_type": "stream",
     "text": [
      "\r",
      "running experiments:  97%|█████████▋| 97/100 [15:39<00:28,  9.57s/it]"
     ]
    },
    {
     "name": "stderr",
     "output_type": "stream",
     "text": [
      "\r",
      "running experiments:  98%|█████████▊| 98/100 [15:48<00:19,  9.61s/it]"
     ]
    },
    {
     "name": "stderr",
     "output_type": "stream",
     "text": [
      "\r",
      "running experiments:  99%|█████████▉| 99/100 [15:58<00:09,  9.65s/it]"
     ]
    },
    {
     "name": "stderr",
     "output_type": "stream",
     "text": [
      "\r",
      "running experiments: 100%|██████████| 100/100 [16:08<00:00,  9.65s/it]"
     ]
    },
    {
     "name": "stderr",
     "output_type": "stream",
     "text": [
      "\r",
      "running experiments: 100%|██████████| 100/100 [16:08<00:00,  9.68s/it]"
     ]
    },
    {
     "name": "stdout",
     "output_type": "stream",
     "text": [
      "CPU times: user 16min 4s, sys: 3.89 s, total: 16min 8s\n",
      "Wall time: 16min 8s\n"
     ]
    },
    {
     "name": "stderr",
     "output_type": "stream",
     "text": [
      "\n"
     ]
    }
   ],
   "source": [
    "\n",
    "%%time\n",
    "simulation.run_simulation(n_experiments, start_n, fit_params,shuffle_rows, pred_params, random_features, \\\n",
    "                          store_in_lists, save_eigenvector, save_hamiltonian, save_accuracy,\\\n",
    "                          save_models)\n",
    "if simulation.fourier_mode is not None:\n",
    "    simulation.fourier_dataframe.head(10)"
   ]
  },
  {
   "cell_type": "code",
   "execution_count": 28,
   "metadata": {
    "execution": {
     "iopub.execute_input": "2020-07-16T00:43:45.612308Z",
     "iopub.status.busy": "2020-07-16T00:43:45.611783Z",
     "iopub.status.idle": "2020-07-16T00:43:45.636452Z",
     "shell.execute_reply": "2020-07-16T00:43:45.636125Z"
    },
    "papermill": {
     "duration": 0.061723,
     "end_time": "2020-07-16T00:43:45.636504",
     "exception": false,
     "start_time": "2020-07-16T00:43:45.574781",
     "status": "completed"
    },
    "tags": []
   },
   "outputs": [
    {
     "data": {
      "text/html": [
       "<div>\n",
       "<style scoped>\n",
       "    .dataframe tbody tr th:only-of-type {\n",
       "        vertical-align: middle;\n",
       "    }\n",
       "\n",
       "    .dataframe tbody tr th {\n",
       "        vertical-align: top;\n",
       "    }\n",
       "\n",
       "    .dataframe thead th {\n",
       "        text-align: right;\n",
       "    }\n",
       "</style>\n",
       "<table border=\"1\" class=\"dataframe\">\n",
       "  <thead>\n",
       "    <tr style=\"text-align: right;\">\n",
       "      <th></th>\n",
       "      <th>id</th>\n",
       "      <th>path</th>\n",
       "      <th>t1</th>\n",
       "      <th>t2</th>\n",
       "      <th>winding</th>\n",
       "      <th>phase</th>\n",
       "      <th>pred_phase</th>\n",
       "      <th>type_of</th>\n",
       "      <th>feat0</th>\n",
       "      <th>feat1</th>\n",
       "      <th>...</th>\n",
       "      <th>feat90</th>\n",
       "      <th>feat91</th>\n",
       "      <th>feat92</th>\n",
       "      <th>feat93</th>\n",
       "      <th>feat94</th>\n",
       "      <th>feat95</th>\n",
       "      <th>feat96</th>\n",
       "      <th>feat97</th>\n",
       "      <th>feat98</th>\n",
       "      <th>feat99</th>\n",
       "    </tr>\n",
       "  </thead>\n",
       "  <tbody>\n",
       "    <tr>\n",
       "      <th>0</th>\n",
       "      <td>0</td>\n",
       "      <td>H_-2_-2_0.509296.dat</td>\n",
       "      <td>-2.0</td>\n",
       "      <td>-2.0</td>\n",
       "      <td>0.509296</td>\n",
       "      <td>999</td>\n",
       "      <td>0</td>\n",
       "      <td>test</td>\n",
       "      <td>0.100000</td>\n",
       "      <td>0.100000</td>\n",
       "      <td>...</td>\n",
       "      <td>0.100000</td>\n",
       "      <td>0.100000</td>\n",
       "      <td>0.100000</td>\n",
       "      <td>0.100000</td>\n",
       "      <td>0.100000</td>\n",
       "      <td>0.100000</td>\n",
       "      <td>0.100000</td>\n",
       "      <td>0.100000</td>\n",
       "      <td>0.100000</td>\n",
       "      <td>0.100000</td>\n",
       "    </tr>\n",
       "    <tr>\n",
       "      <th>1</th>\n",
       "      <td>0</td>\n",
       "      <td>H_-2_-2_0.509296.dat</td>\n",
       "      <td>-2.0</td>\n",
       "      <td>-2.0</td>\n",
       "      <td>0.509296</td>\n",
       "      <td>999</td>\n",
       "      <td>0</td>\n",
       "      <td>test</td>\n",
       "      <td>0.141421</td>\n",
       "      <td>0.141142</td>\n",
       "      <td>...</td>\n",
       "      <td>0.114412</td>\n",
       "      <td>0.108967</td>\n",
       "      <td>0.123928</td>\n",
       "      <td>0.119406</td>\n",
       "      <td>0.131490</td>\n",
       "      <td>0.127962</td>\n",
       "      <td>0.136978</td>\n",
       "      <td>0.134500</td>\n",
       "      <td>0.140306</td>\n",
       "      <td>0.138916</td>\n",
       "    </tr>\n",
       "    <tr>\n",
       "      <th>2</th>\n",
       "      <td>0</td>\n",
       "      <td>H_-2_-2_0.509296.dat</td>\n",
       "      <td>-2.0</td>\n",
       "      <td>-2.0</td>\n",
       "      <td>0.509296</td>\n",
       "      <td>999</td>\n",
       "      <td>0</td>\n",
       "      <td>test</td>\n",
       "      <td>0.141421</td>\n",
       "      <td>0.140306</td>\n",
       "      <td>...</td>\n",
       "      <td>0.043702</td>\n",
       "      <td>0.026500</td>\n",
       "      <td>0.075777</td>\n",
       "      <td>0.060214</td>\n",
       "      <td>0.103092</td>\n",
       "      <td>0.090145</td>\n",
       "      <td>0.123928</td>\n",
       "      <td>0.114412</td>\n",
       "      <td>0.136978</td>\n",
       "      <td>0.131490</td>\n",
       "    </tr>\n",
       "    <tr>\n",
       "      <th>3</th>\n",
       "      <td>0</td>\n",
       "      <td>H_-2_-2_0.509296.dat</td>\n",
       "      <td>-2.0</td>\n",
       "      <td>-2.0</td>\n",
       "      <td>0.509296</td>\n",
       "      <td>999</td>\n",
       "      <td>0</td>\n",
       "      <td>test</td>\n",
       "      <td>-0.100000</td>\n",
       "      <td>0.100000</td>\n",
       "      <td>...</td>\n",
       "      <td>-0.100000</td>\n",
       "      <td>0.100000</td>\n",
       "      <td>-0.100000</td>\n",
       "      <td>0.100000</td>\n",
       "      <td>-0.100000</td>\n",
       "      <td>0.100000</td>\n",
       "      <td>-0.100000</td>\n",
       "      <td>0.100000</td>\n",
       "      <td>-0.100000</td>\n",
       "      <td>0.100000</td>\n",
       "    </tr>\n",
       "    <tr>\n",
       "      <th>4</th>\n",
       "      <td>0</td>\n",
       "      <td>H_-2_-2_0.509296.dat</td>\n",
       "      <td>-2.0</td>\n",
       "      <td>-2.0</td>\n",
       "      <td>0.509296</td>\n",
       "      <td>999</td>\n",
       "      <td>0</td>\n",
       "      <td>test</td>\n",
       "      <td>0.000509</td>\n",
       "      <td>-0.008372</td>\n",
       "      <td>...</td>\n",
       "      <td>-0.082713</td>\n",
       "      <td>-0.089753</td>\n",
       "      <td>-0.067684</td>\n",
       "      <td>-0.075347</td>\n",
       "      <td>-0.051587</td>\n",
       "      <td>-0.059753</td>\n",
       "      <td>-0.034677</td>\n",
       "      <td>-0.043217</td>\n",
       "      <td>-0.017220</td>\n",
       "      <td>-0.026000</td>\n",
       "    </tr>\n",
       "    <tr>\n",
       "      <th>5</th>\n",
       "      <td>0</td>\n",
       "      <td>H_-2_-2_0.509296.dat</td>\n",
       "      <td>-2.0</td>\n",
       "      <td>-2.0</td>\n",
       "      <td>0.509296</td>\n",
       "      <td>999</td>\n",
       "      <td>1</td>\n",
       "      <td>test</td>\n",
       "      <td>0.001204</td>\n",
       "      <td>-0.016530</td>\n",
       "      <td>...</td>\n",
       "      <td>-0.134123</td>\n",
       "      <td>-0.138686</td>\n",
       "      <td>-0.118757</td>\n",
       "      <td>-0.127445</td>\n",
       "      <td>-0.095929</td>\n",
       "      <td>-0.108196</td>\n",
       "      <td>-0.067073</td>\n",
       "      <td>-0.082149</td>\n",
       "      <td>-0.034003</td>\n",
       "      <td>-0.050940</td>\n",
       "    </tr>\n",
       "    <tr>\n",
       "      <th>6</th>\n",
       "      <td>0</td>\n",
       "      <td>H_-2_-2_0.509296.dat</td>\n",
       "      <td>-2.0</td>\n",
       "      <td>-2.0</td>\n",
       "      <td>0.509296</td>\n",
       "      <td>999</td>\n",
       "      <td>0</td>\n",
       "      <td>test</td>\n",
       "      <td>-0.141421</td>\n",
       "      <td>-0.138980</td>\n",
       "      <td>...</td>\n",
       "      <td>0.043375</td>\n",
       "      <td>0.067830</td>\n",
       "      <td>-0.009222</td>\n",
       "      <td>0.017385</td>\n",
       "      <td>-0.060524</td>\n",
       "      <td>-0.035502</td>\n",
       "      <td>-0.103326</td>\n",
       "      <td>-0.083403</td>\n",
       "      <td>-0.131616</td>\n",
       "      <td>-0.119589</td>\n",
       "    </tr>\n",
       "    <tr>\n",
       "      <th>7</th>\n",
       "      <td>0</td>\n",
       "      <td>H_-2_-2_0.509296.dat</td>\n",
       "      <td>-2.0</td>\n",
       "      <td>-2.0</td>\n",
       "      <td>0.509296</td>\n",
       "      <td>999</td>\n",
       "      <td>0</td>\n",
       "      <td>test</td>\n",
       "      <td>-0.000826</td>\n",
       "      <td>0.025688</td>\n",
       "      <td>...</td>\n",
       "      <td>0.134753</td>\n",
       "      <td>0.124324</td>\n",
       "      <td>0.141088</td>\n",
       "      <td>0.140407</td>\n",
       "      <td>0.127608</td>\n",
       "      <td>0.136771</td>\n",
       "      <td>0.096206</td>\n",
       "      <td>0.113925</td>\n",
       "      <td>0.051292</td>\n",
       "      <td>0.075079</td>\n",
       "    </tr>\n",
       "    <tr>\n",
       "      <th>8</th>\n",
       "      <td>0</td>\n",
       "      <td>H_-2_-2_0.509296.dat</td>\n",
       "      <td>-2.0</td>\n",
       "      <td>-2.0</td>\n",
       "      <td>0.509296</td>\n",
       "      <td>999</td>\n",
       "      <td>1</td>\n",
       "      <td>test</td>\n",
       "      <td>0.141417</td>\n",
       "      <td>0.136684</td>\n",
       "      <td>...</td>\n",
       "      <td>-0.115093</td>\n",
       "      <td>-0.131915</td>\n",
       "      <td>-0.061266</td>\n",
       "      <td>-0.091040</td>\n",
       "      <td>0.007717</td>\n",
       "      <td>-0.027643</td>\n",
       "      <td>0.074791</td>\n",
       "      <td>0.042592</td>\n",
       "      <td>0.123363</td>\n",
       "      <td>0.102291</td>\n",
       "    </tr>\n",
       "    <tr>\n",
       "      <th>9</th>\n",
       "      <td>0</td>\n",
       "      <td>H_-2_-2_0.509296.dat</td>\n",
       "      <td>-2.0</td>\n",
       "      <td>-2.0</td>\n",
       "      <td>0.509296</td>\n",
       "      <td>999</td>\n",
       "      <td>1</td>\n",
       "      <td>test</td>\n",
       "      <td>0.001302</td>\n",
       "      <td>0.036430</td>\n",
       "      <td>...</td>\n",
       "      <td>0.082068</td>\n",
       "      <td>0.050848</td>\n",
       "      <td>0.127402</td>\n",
       "      <td>0.108132</td>\n",
       "      <td>0.141218</td>\n",
       "      <td>0.138667</td>\n",
       "      <td>0.120099</td>\n",
       "      <td>0.134896</td>\n",
       "      <td>0.069268</td>\n",
       "      <td>0.097755</td>\n",
       "    </tr>\n",
       "  </tbody>\n",
       "</table>\n",
       "<p>10 rows × 108 columns</p>\n",
       "</div>"
      ],
      "text/plain": [
       "   id                  path   t1   t2   winding  phase  pred_phase type_of  \\\n",
       "0   0  H_-2_-2_0.509296.dat -2.0 -2.0  0.509296    999           0    test   \n",
       "1   0  H_-2_-2_0.509296.dat -2.0 -2.0  0.509296    999           0    test   \n",
       "2   0  H_-2_-2_0.509296.dat -2.0 -2.0  0.509296    999           0    test   \n",
       "3   0  H_-2_-2_0.509296.dat -2.0 -2.0  0.509296    999           0    test   \n",
       "4   0  H_-2_-2_0.509296.dat -2.0 -2.0  0.509296    999           0    test   \n",
       "5   0  H_-2_-2_0.509296.dat -2.0 -2.0  0.509296    999           1    test   \n",
       "6   0  H_-2_-2_0.509296.dat -2.0 -2.0  0.509296    999           0    test   \n",
       "7   0  H_-2_-2_0.509296.dat -2.0 -2.0  0.509296    999           0    test   \n",
       "8   0  H_-2_-2_0.509296.dat -2.0 -2.0  0.509296    999           1    test   \n",
       "9   0  H_-2_-2_0.509296.dat -2.0 -2.0  0.509296    999           1    test   \n",
       "\n",
       "      feat0     feat1  ...    feat90    feat91    feat92    feat93    feat94  \\\n",
       "0  0.100000  0.100000  ...  0.100000  0.100000  0.100000  0.100000  0.100000   \n",
       "1  0.141421  0.141142  ...  0.114412  0.108967  0.123928  0.119406  0.131490   \n",
       "2  0.141421  0.140306  ...  0.043702  0.026500  0.075777  0.060214  0.103092   \n",
       "3 -0.100000  0.100000  ... -0.100000  0.100000 -0.100000  0.100000 -0.100000   \n",
       "4  0.000509 -0.008372  ... -0.082713 -0.089753 -0.067684 -0.075347 -0.051587   \n",
       "5  0.001204 -0.016530  ... -0.134123 -0.138686 -0.118757 -0.127445 -0.095929   \n",
       "6 -0.141421 -0.138980  ...  0.043375  0.067830 -0.009222  0.017385 -0.060524   \n",
       "7 -0.000826  0.025688  ...  0.134753  0.124324  0.141088  0.140407  0.127608   \n",
       "8  0.141417  0.136684  ... -0.115093 -0.131915 -0.061266 -0.091040  0.007717   \n",
       "9  0.001302  0.036430  ...  0.082068  0.050848  0.127402  0.108132  0.141218   \n",
       "\n",
       "     feat95    feat96    feat97    feat98    feat99  \n",
       "0  0.100000  0.100000  0.100000  0.100000  0.100000  \n",
       "1  0.127962  0.136978  0.134500  0.140306  0.138916  \n",
       "2  0.090145  0.123928  0.114412  0.136978  0.131490  \n",
       "3  0.100000 -0.100000  0.100000 -0.100000  0.100000  \n",
       "4 -0.059753 -0.034677 -0.043217 -0.017220 -0.026000  \n",
       "5 -0.108196 -0.067073 -0.082149 -0.034003 -0.050940  \n",
       "6 -0.035502 -0.103326 -0.083403 -0.131616 -0.119589  \n",
       "7  0.136771  0.096206  0.113925  0.051292  0.075079  \n",
       "8 -0.027643  0.074791  0.042592  0.123363  0.102291  \n",
       "9  0.138667  0.120099  0.134896  0.069268  0.097755  \n",
       "\n",
       "[10 rows x 108 columns]"
      ]
     },
     "execution_count": 28,
     "metadata": {},
     "output_type": "execute_result"
    }
   ],
   "source": [
    "simulation.dataframe.head(10)"
   ]
  },
  {
   "cell_type": "markdown",
   "metadata": {
    "papermill": {
     "duration": 0.035163,
     "end_time": "2020-07-16T00:43:45.707183",
     "exception": false,
     "start_time": "2020-07-16T00:43:45.672020",
     "status": "completed"
    },
    "tags": []
   },
   "source": [
    "#### Viewing a random sample"
   ]
  },
  {
   "cell_type": "code",
   "execution_count": 29,
   "metadata": {
    "execution": {
     "iopub.execute_input": "2020-07-16T00:43:45.781684Z",
     "iopub.status.busy": "2020-07-16T00:43:45.781346Z",
     "iopub.status.idle": "2020-07-16T00:43:45.791337Z",
     "shell.execute_reply": "2020-07-16T00:43:45.791001Z"
    },
    "papermill": {
     "duration": 0.04797,
     "end_time": "2020-07-16T00:43:45.791390",
     "exception": false,
     "start_time": "2020-07-16T00:43:45.743420",
     "status": "completed"
    },
    "tags": []
   },
   "outputs": [
    {
     "name": "stdout",
     "output_type": "stream",
     "text": [
      "CPU times: user 3 µs, sys: 0 ns, total: 3 µs\n",
      "Wall time: 4.05 µs\n"
     ]
    }
   ],
   "source": [
    "%%time\n",
    "if simulation.fourier_mode is not None:\n",
    "    simulation.fourier_dataframe.sample(frac=0.1, replace=False)"
   ]
  },
  {
   "cell_type": "markdown",
   "metadata": {
    "papermill": {
     "duration": 0.035369,
     "end_time": "2020-07-16T00:43:45.863782",
     "exception": false,
     "start_time": "2020-07-16T00:43:45.828413",
     "status": "completed"
    },
    "tags": []
   },
   "source": [
    "#### Checking train/val/test splits again"
   ]
  },
  {
   "cell_type": "code",
   "execution_count": 30,
   "metadata": {
    "execution": {
     "iopub.execute_input": "2020-07-16T00:43:45.938349Z",
     "iopub.status.busy": "2020-07-16T00:43:45.938029Z",
     "iopub.status.idle": "2020-07-16T00:43:46.116038Z",
     "shell.execute_reply": "2020-07-16T00:43:46.116290Z"
    },
    "papermill": {
     "duration": 0.216322,
     "end_time": "2020-07-16T00:43:46.116358",
     "exception": false,
     "start_time": "2020-07-16T00:43:45.900036",
     "status": "completed"
    },
    "tags": []
   },
   "outputs": [
    {
     "name": "stdout",
     "output_type": "stream",
     "text": [
      "% train:  0.08474317939338516\n",
      "% val:  0.7620789513793629\n",
      "% test:  0.15317786922725193\n",
      "% train + val + test:  1.0\n",
      "\n",
      "\n",
      "number of train hamiltonians:  556\n",
      "number of val hamiltonians:  5000\n",
      "number of test hamiltonians:  1005\n",
      "total number of hamiltonians:  6561\n",
      "\n",
      "\n",
      "train ids:  [3784, 1302, 2438, 3926, 3512, 380, 2190, 5995, 5530, 4251, 6365, 2838, 2958, 3300, 5782, 375, 286, 3466, 2368, 6360, 370, 1819, 1267, 1004, 860, 2008, 2456, 5399, 6432, 294, 4898, 1788, 4490, 4211, 2572, 1352, 4117, 194, 2414, 4910, 4576, 1269, 13, 2998, 1243, 3312, 257, 5404, 3629, 1333, 911, 1901, 1506, 5115, 6209, 1818, 3307, 1740, 4610, 863, 2167, 4484, 2897, 1993, 3501, 3064, 4164, 2999, 2931, 6455, 2653, 4776, 6098, 3587, 1292, 547, 5029, 2362, 6157, 4393, 4065, 1082, 2104, 3044, 2069, 2774, 3557, 5069, 468, 2042, 6199, 5590, 1984, 4539, 2551, 1545, 4310, 1381, 941, 5917, 6030, 3230, 2319, 6250, 133, 6202, 3147, 677, 3103, 6128, 3211, 2699, 3641, 4866, 3011, 6549, 1382, 2911, 2537, 971, 5130, 5191, 6340, 4070, 6332, 4086, 2496, 5694, 5710, 363, 2105, 212, 3234, 1340, 5929, 6076, 2872, 6410, 6125, 3168, 2339, 2683, 598, 2302, 5833, 2032, 6336, 3317, 4233, 3136, 4381, 4737, 1735, 6177, 830, 5211, 5016, 2343, 4994, 680, 4638, 5126, 2494, 2431, 3286, 1844, 2038, 3794, 4034, 5640, 3380, 5037, 2279, 14, 541, 1253, 4529, 2434, 4434, 791, 5385, 5848, 6522, 3898, 2728, 5209, 918, 1937, 4457, 5512, 767, 3350, 211, 4301, 437, 1419, 1828, 6504, 4617, 1647, 4133, 3724, 4734, 3119, 2284, 2116, 3716, 4104, 4113, 841, 3209, 3494, 1930, 2582, 4340, 3997, 1581, 6496, 1900, 3928, 4904, 5017, 5060, 5728, 1489, 2122, 6137, 6327, 2324, 4665, 2678, 157, 2355, 3190, 3027, 3530, 4273, 557, 6006, 3212, 2547, 6468, 4056, 2125, 4847, 3994, 434, 4553, 6265, 6012, 4173, 834, 6206, 5236, 2749, 4439, 339, 1535, 808, 3145, 2804, 4093, 232, 2229, 3098, 4790, 3593, 1923, 3914, 5944, 6298, 2138, 2803, 2862, 46, 6267, 2642, 3041, 4409, 2100, 4566, 6435, 6257, 6411, 183, 2578, 870, 3889, 5176, 4452, 3257, 145, 6019, 3465, 3941, 1821, 256, 643, 3038, 4735, 1265, 3582, 1974, 2658, 3671, 2365, 1565, 2548, 5196, 3812, 4608, 4752, 1020, 3686, 191, 2639, 4867, 6032, 4731, 2258, 2340, 2490, 3413, 4302, 4890, 3441, 6440, 2007, 28, 5870, 49, 4009, 5319, 4653, 2654, 953, 5306, 2399, 6491, 2767, 6489, 4502, 3266, 3217, 397, 1482, 56, 5564, 1510, 5970, 2370, 1410, 636, 1383, 3043, 5931, 4981, 432, 3036, 2785, 4579, 3172, 1713, 6526, 149, 3488, 5018, 4081, 926, 3749, 883, 5183, 5880, 2702, 667, 1427, 2762, 388, 2155, 1987, 3124, 3263, 1684, 1075, 377, 5047, 255, 3206, 3860, 6281, 637, 626, 5231, 2847, 6423, 804, 4131, 4413, 2818, 2312, 2123, 2388, 2845, 3647, 4015, 4884, 5308, 4877, 6191, 2290, 3306, 5712, 1917, 2652, 4807, 2448, 1431, 1837, 5125, 2991, 1925, 1659, 3481, 6430, 3581, 5075, 3778, 6514, 3101, 1814, 4547, 3099, 4453, 698, 4528, 4986, 5223, 3134, 3653, 4076, 787, 2947, 2773, 1414, 5077, 3242, 3912, 53, 2383, 4832, 5523, 5354, 2559, 2717, 1110, 4949, 5095, 5203, 2815, 1982, 4956, 3239, 1661, 2636, 6274, 6517, 3858, 1848, 6263, 1904, 2253, 2374, 6427, 187, 3416, 4709, 5043, 3414, 4002, 1000, 1043, 3514, 1550, 2606, 1103, 5882, 3754, 1792, 3967, 3303, 6335, 2276, 6518, 6219, 713, 3715, 5310, 112, 144, 1380, 2945, 6220, 4985, 396, 809, 198, 105, 4276, 6302, 4537, 200, 4571, 2925, 4503, 1952, 3069, 5272, 3826, 4699, 5608, 2017, 4543, 103, 2747, 5128, 6182, 5283, 1613, 613, 1157, 1797, 284, 921, 4683, 4647, 3016, 664, 6042, 3598, 5032, 2526, 4166, 352, 3707, 6506, 3688, 1875, 4163, 4976, 4323, 2641, 303, 760, 3275, 1784, 190]\n",
      "val ids:  [71, 3226, 2674, 5727, 929, 1031, 2373, 1726, 1436, 4541, 5098, 3883, 4768, 2644, 362, 5547, 4564, 4659, 4746, 4378, 3972, 6041, 3625, 2675, 3684, 5935, 3568, 3482, 199, 3285, 2443, 2817, 3429, 2778, 6550, 3669, 1595, 4283, 354, 6420, 709, 100, 5282, 476, 2751, 2426, 644, 5038, 4568, 3221, 4963, 4845, 1567, 2612, 1962, 259, 1572, 1778, 1609, 1378, 5114, 3592, 1407, 5073, 4256, 6245, 2746, 3782, 3531, 4194, 4656, 5357, 2536, 5187, 5230, 5619, 4078, 3809, 5724, 1268, 3170, 3985, 969, 5487, 1895, 1290, 4123, 5636, 4024, 292, 4777, 5152, 2326, 3028, 2647, 5368, 4803, 1418, 1195, 3254, 299, 1451, 4467, 6165, 5071, 3761, 6457, 5218, 3925, 4168, 4854, 705, 376, 371, 6029, 5705, 546, 4524, 5197, 5078, 2271, 443, 2425, 4186, 4353, 1027, 699, 5149, 3287, 3852, 2771, 538, 3236, 1493, 2563, 2971, 39, 3374, 2850, 4361, 1712, 5293, 3857, 6338, 848, 596, 2147, 6003, 964, 3545, 1164, 1114, 3744, 2497, 5807, 4327, 6097, 3627, 1677, 3078, 5815, 4295, 845, 404, 1859, 5646, 3810, 6328, 357, 3523, 4077, 2531, 3079, 5403, 4858, 751, 3939, 6022, 3426, 3332, 1831, 525, 4445, 2171, 1652, 2453, 1907, 3378, 3347, 5402, 4011, 1678, 3615, 2950, 6018, 3763, 6215, 4213, 565, 4906, 1701, 3157, 2860, 3219, 1095, 2648, 1432, 1384, 4468, 2700, 550, 2598, 2832, 4520, 1411, 384, 3683, 1593, 6115, 4044, 3021, 1357, 3805, 3455, 2696, 6352, 5559, 3390, 972, 967, 3297, 3270, 4227, 3418, 5862, 1909, 3020, 3062, 2660, 1816, 1324, 5522, 3294, 4645, 3014, 615, 387, 6341, 1351, 2589, 5632, 6407, 2690, 2920, 1102, 3192, 3105, 1732, 6185, 1704, 4136, 2894, 6011, 1518, 2310, 5454, 4766, 4462, 5010, 5850, 102, 3500, 5994, 513, 3884, 3375, 6378, 1362, 5158, 6339, 3789, 4229, 991, 3483, 4732, 5118, 3045, 6189, 2604, 6077, 205, 4006, 4859, 2172, 3796, 1403, 3877, 3946, 2822, 3176, 4471, 2086, 779, 1835, 774, 1457, 5059, 2280, 5779, 4375, 4901, 425, 5392, 4990, 5540, 4118, 2369, 3075, 4871, 4232, 871, 418, 857, 5323, 3829, 2532, 4394, 4328, 4209, 1824, 3376, 1549, 4558, 4966, 4139, 4497, 965, 4519, 475, 1241, 5715, 2371, 2533, 227, 54, 4129, 3862, 3605, 47, 2066, 4496, 4367, 344, 768, 3057, 616, 1994, 776, 3999, 4706, 1087, 1187, 827, 599, 2419, 3601, 3428, 5202, 3329, 6376, 5894, 914, 3417, 4376, 1291, 3133, 2510, 4125, 5446, 1820, 3336, 2694, 2174, 5628, 5445, 4060, 5691, 3310, 3797, 6502, 2965, 3791, 970, 2385, 4197, 5948, 6486, 3152, 4623, 4458, 4865, 514, 51, 2697, 6513, 924, 1036, 6268, 5307, 2384, 5033, 4030, 4395, 2119, 120, 3842, 2581, 4488, 6050, 3602, 1574, 1217, 692, 1218, 5375, 4335, 1597, 4957, 6046, 2557, 1691, 5345, 3001, 681, 4170, 3348, 1499, 3295, 5874, 3456, 753, 1860, 300, 4120, 6089, 37, 5058, 6207, 1178, 1428, 3781, 566, 4606, 2635, 4874, 4622, 3240, 4814, 2198, 2327, 1081, 3787, 1321, 3548, 3668, 4984, 5979, 2940, 5051, 2744, 4455, 281, 2471, 1454, 4151, 2493, 4530, 5021, 6184, 3354, 5959, 2236, 505, 2874, 6198, 2428, 5763, 886, 1934, 6020, 2390, 3657, 3918, 1769, 6096, 1543, 3106, 1012, 3054, 309, 4119, 2304, 614, 2567, 138, 3405, 915, 631, 3381, 1317, 3764, 1606, 5479, 2571, 1385, 3888, 2784, 5973, 3687, 5437, 5365, 1458, 1540, 1117, 3801, 4550, 2361, 2882, 1030, 2900, 1772, 6214, 1344, 5367, 6551, 254, 4281, 5194, 2823, 4026, 4805, 6171, 3311, 5553, 865, 1733, 1653, 3400, 2738, 1588, 831, 1345, 1300, 1085, 5488, 1262, 945, 3177, 4111, 5711, 4052, 2162, 1651, 6087, 6377, 2146, 3534, 5864, 77, 1989, 4707, 5133, 796, 2883, 3575, 4864, 3904, 1827, 6172, 2992, 135, 4849, 4401, 3931, 2928, 4244, 6483, 5764, 2826, 3379, 114, 2657, 215, 5888, 1460, 2520, 4504, 2452, 5505, 3201, 6373, 5865, 3649, 5014, 214, 6422, 3645, 1791, 4794, 2716, 3599, 3358, 2387, 4391, 927, 3371, 4947, 6448, 4500, 2313, 1097, 2077, 2983, 5266, 2135, 4775, 3947, 1700, 5374, 4392, 4526, 3255, 5949, 3220, 4332, 2022, 1863, 274, 75, 4587, 2924, 110, 998, 5769, 1033, 1334, 2966, 3821, 2585, 2389, 3437, 3245, 2142, 2555, 885, 5560, 4612, 5977, 526, 2629, 470, 4795, 769, 4022, 3139, 4174, 2033, 2615, 4073, 2488, 3957, 3962, 5157, 1903, 3570, 4954, 5271, 3990, 2902, 1517, 2109, 2757, 5569, 4993, 5429, 193, 2148, 4161, 6130, 3700, 2067, 997, 946, 2102, 1466, 3676, 115, 117, 5517, 2065, 6428, 3436, 3153, 772, 1998, 6109, 6027, 1898, 2879, 3398, 6212, 3815, 1355, 3175, 266, 3474, 2848, 3800, 4115, 3954, 2865, 5802, 147, 2500, 1327, 4311, 5609, 1587, 4424, 1988, 6251, 1080, 4297, 5696, 4252, 4069, 5268, 4736, 5350, 3876, 589, 1422, 469, 4074, 6456, 1576, 5752, 1766, 5235, 304, 2836, 555, 5814, 5570, 2756, 5606, 6021, 3333, 6121, 4628, 6223, 5604, 6388, 1165, 4040, 5275, 25, 2503, 3612, 3129, 3392, 4041, 2967, 1130, 1610, 3123, 5555, 592, 2352, 2058, 3485, 2345, 2179, 5635, 4664, 1083, 5358, 2990, 6413, 4339, 3216, 1687, 605, 4068, 2575, 1975, 6190, 5324, 2842, 5388, 6136, 3956, 4038, 424, 4604, 4726, 4366, 4210, 2517, 3717, 3986, 192, 5217, 3846, 6200, 4414, 888, 2586, 2896, 3995, 5465, 2244, 2011, 686, 4091, 2469, 2364, 3237, 6014, 2381, 4039, 4223, 2410, 5013, 2034, 5195, 4619, 446, 1780, 684, 3651, 3271, 5800, 5204, 3945, 5514, 1727, 2549, 5297, 1866, 3632, 2245, 4742, 2262, 2973, 1021, 1847, 5961, 2153, 5687, 1616, 2149, 3003, 3617, 5645, 3776, 6110, 4567, 4399, 706, 3411, 874, 4700, 1537, 3385, 6210, 3330, 4523, 3977, 1693, 2591, 15, 1696, 2397, 1367, 2672, 302, 3503, 2168, 6436, 5881, 178, 2267, 5643, 1050, 4540, 1908, 1261, 4199, 5138, 365, 4397, 3409, 4261, 5101, 544, 3753, 1437, 4763, 943, 4362, 2382, 1078, 1076, 3757, 3746, 3404, 3699, 1741, 4791, 1836, 4897, 1878, 421, 1750, 3695, 2753, 1176, 3453, 449, 1088, 2441, 1748, 2868, 586, 1486, 3616, 4728, 509, 6270, 4150, 2136, 35, 5767, 1728, 2875, 2921, 5044, 1782, 5452, 1370, 5320, 3948, 3755, 4889, 1052, 4825, 1617, 1465, 3804, 1337, 1905, 5427, 3269, 3903, 4630, 5482, 3401, 3613, 6444, 3768, 2562, 4748, 5683, 465, 1671, 5697, 2878, 2669, 5426, 1563, 2989, 3195, 847, 451, 5019, 1594, 273, 2230, 3301, 6344, 3204, 5222, 2859, 3121, 4235, 3005, 3779, 1430, 5370, 3733, 4371, 1346, 671, 1203, 1605, 4207, 3630, 3055, 1667, 2610, 4770, 1544, 2158, 1270, 50, 5957, 2268, 2195, 4003, 6058, 6458, 1711, 2417, 5972, 1564, 4016, 2627, 4813, 2961, 5026, 3202, 5772, 2346, 1207, 270, 2634, 6403, 4363, 5707, 6188, 3165, 2522, 3424, 445, 1497, 5858, 4124, 4269, 5397, 4521, 1996, 4196, 3308, 1338, 2609, 4928, 1823, 5274, 345, 2217, 5784, 3283, 5068, 758, 4979, 3765, 2901, 1190, 4478, 4892, 1180, 4107, 5027, 1374, 5423, 1981, 4958, 2846, 3399, 1198, 1767, 4403, 43, 1960, 6501, 3968, 1348, 1205, 6142, 1461, 6129, 527, 6375, 3924, 317, 3004, 1211, 24, 4422, 4357, 2671, 763, 217, 1406, 1136, 3154, 3902, 4714, 4532, 3479, 4773, 5193, 688, 4853, 40, 850, 206, 5145, 4826, 6131, 68, 5811, 1571, 3596, 3095, 6442, 5964, 1945, 4313, 6363, 1626, 1528, 4049, 1924, 3747, 6303, 6259, 5729, 129, 5731, 2851, 3529, 4856, 6447, 2341, 4405, 2185, 423, 2608, 3897, 5474, 31, 873, 2719, 4476, 5135, 957, 5721, 3541, 5352, 1453, 1630, 4138, 4584, 94, 5045, 4343, 1566, 1090, 3218, 3507, 4298, 612, 5450, 6334, 2619, 3953, 666, 6305, 4764, 4463, 1891, 5963, 2858, 4903, 3067, 3738, 1073, 1673, 1664, 3730, 1442, 6100, 3964, 5897, 137, 2854, 5940, 306, 1368, 2501, 5270, 5565, 2178, 3868, 4868, 5507, 2915, 2413, 3681, 3892, 3290, 6276, 4156, 2412, 3758, 63, 2687, 3434, 1694, 4846, 4819, 175, 1375, 5550, 3736, 360, 4300, 3228, 5536, 5593, 603, 3719, 1132, 1809, 1512, 1285, 3037, 1614, 1155, 3002, 4552, 5812, 2477, 4657, 676, 5960, 5854, 4774, 2680, 6283, 4222, 3243, 2795, 4061, 4938, 3162, 909, 6017, 6409, 584, 5805, 4506, 3584, 4179, 682, 3187, 1011, 485, 2740, 1663, 3325, 3087, 3247, 1022, 6243, 1026, 3735, 1706, 3012, 3363, 3932, 2953, 4565, 1154, 1811, 4412, 3109, 1459, 4368, 2908, 3487, 2776, 2731, 1246, 2151, 366, 5472, 3895, 3292, 3410, 6512, 3393, 5704, 1973, 2208, 263, 602, 3538, 60, 3607, 3477, 4282, 6382, 3382, 3777, 2932, 312, 4271, 1787, 5515, 2316, 6459, 1648, 5312, 5631, 4477, 4727, 1331, 687, 5305, 3792, 3346, 2111, 1010, 6324, 5311, 1108, 5869, 5563, 2176, 5733, 2554, 3638, 136, 3459, 6282, 229, 139, 5294, 1138, 4449, 3702, 2201, 3905, 4314, 2317, 5624, 233, 5795, 1113, 4369, 5916, 2204, 5613, 5716, 2574, 6333, 4114, 395, 3423, 431, 128, 2825, 1658, 3732, 6028, 3949, 3759, 5607, 3473, 69, 5342, 3571, 6004, 2432, 2466, 5260, 891, 3577, 4821, 2177, 5932, 3646, 3748, 6052, 3328, 5544, 4804, 5425, 6249, 2580, 697, 3324, 2393, 450, 1705, 2150, 1607, 1168, 6547, 5551, 4631, 954, 4789, 484, 6374, 11, 2278, 607, 4274, 3795, 2070, 5879, 1008, 5543, 1003, 6386, 2725, 3331, 3083, 5035, 280, 2584, 3282, 5675, 1527, 6359, 4289, 5974, 3552, 501, 1611, 5239, 4364, 314, 2403, 2594, 1009, 3468, 1408, 275, 457, 3850, 391, 5669, 6524, 518, 3361, 4862, 2881, 4149, 1856, 2154, 2110, 563, 1194, 6140, 3169, 2169, 5566, 3511, 2010, 3827, 2068, 726, 2614, 617, 4239, 3373, 1583, 3049, 222, 4322, 5436, 38, 2274, 621, 3352, 4095, 3032, 1685, 5945, 4004, 1708, 938, 5557, 784, 3752, 1604, 4722, 2827, 1738, 2395, 3161, 3013, 1023, 4224, 1163, 2239, 2199, 5261, 4441, 1929, 5596, 3532, 3214, 5286, 6350, 6169, 3799, 4050, 5030, 392, 5263, 1627, 464, 1522, 2866, 683, 3291, 5872, 2890, 990, 95, 2576, 271, 1377, 2626, 3397, 6523, 5313, 4548, 3281, 6108, 4014, 4464, 582, 477, 1745, 5136, 2579, 5290, 4808, 4797, 3425, 5428, 1049, 1339, 627, 4817, 5594, 4067, 4306, 3655, 3019, 5444, 1775, 832, 5110, 2041, 4145, 3900, 1834, 1296, 1013, 3006, 48, 2002, 2903, 5224, 504, 766, 3741, 4234, 2194, 3722, 2695, 1702, 2108, 6139, 2286, 2357, 2418, 2993, 6290, 127, 3452, 587, 2249, 5463, 1992, 2499, 2165, 5706, 5219, 2159, 1870, 1845, 1585, 2602, 3790, 2691, 3620, 1024, 875, 5595, 3728, 4303, 6280, 2892, 5369, 1770, 1189, 3561, 6304, 368, 1336, 4701, 5063, 3637, 3132, 5638, 3665, 386, 690, 1167, 5846, 73, 4618, 600, 3916, 5295, 3167, 176, 6346, 1628, 5384, 276, 5790, 3879, 433, 6485, 3125, 4940, 1943, 1100, 2521, 3142, 3882, 3880, 3723, 4655, 126, 5457, 4288, 4058, 67, 2020, 4563, 4575, 5778, 4642, 3246, 5689, 2238, 4685, 3539, 3640, 2592, 4444, 342, 5424, 3961, 1429, 2435, 3901, 5506, 4031, 5532, 5634, 4498, 5533, 1177, 22, 5552, 6492, 1632, 2857, 5723, 994, 3843, 2266, 2120, 5847, 3261, 2463, 2454, 3770, 4554, 4360, 1074, 1202, 5213, 5730, 5546, 4292, 1325, 785, 601, 5469, 6545, 5181, 3460, 5535, 2739, 5189, 5464, 5890, 453, 3179, 2816, 2837, 5975, 5722, 5625, 1662, 711, 2976, 647, 5938, 6196, 6387, 5383, 5093, 288, 6083, 3252, 6187, 5673, 6026, 3498, 511, 2273, 6038, 4745, 3701, 1091, 5190, 5561, 3824, 3631, 4159, 4544, 2423, 2891, 786, 3604, 4228, 2140, 1109, 3031, 4780, 272, 5528, 3940, 4130, 4784, 2285, 1320, 2794, 4743, 2805, 4883, 10, 1294, 5131, 5322, 1990, 4793, 2117, 1779, 1873, 4407, 6031, 3887, 4705, 1250, 5438, 5206, 2513, 231, 5074, 4309, 3652, 1258, 6213, 4715, 6286, 689, 3060, 2334, 4043, 3107, 262, 196, 5637, 3998, 2692, 1547, 1365, 3867, 4253, 6431, 4605, 3141, 2442, 2467, 1055, 5146, 1034, 545, 5526, 6138, 315, 3050, 2234, 152, 4128, 4435, 1979, 3469, 794, 6285, 236, 5629, 2232, 5100, 2014, 3231, 761, 3983, 4811, 1781, 3449, 5649, 2235, 6528, 5139, 4968, 793, 553, 5753, 2405, 856, 3911, 530, 1541, 5188, 4137, 361, 1631, 1646, 837, 3431, 134, 3314, 4436, 3718, 4586, 6418, 5348, 3734, 4064, 3597, 3871, 1852, 5124, 4505, 2864, 2056, 2283, 1094, 4973, 3439, 4389, 630, 62, 3670, 2407, 6508, 2569, 1264, 5382, 2305, 5458, 2251, 261, 6036, 835, 4112, 2141, 2564, 3193, 2944, 2525, 1053, 4637, 2196, 2994, 4620, 3996, 4615, 3878, 1183, 1185, 5456, 2336, 5389, 5303, 4254, 1810, 4580, 2607, 4390, 1854, 3693, 4527, 1864, 148, 3919, 3222, 1709, 864, 4195, 5941, 3958, 3588, 2828, 2187, 3793, 4711, 4358, 6463, 1619, 5813, 36, 5836, 5702, 4408, 5955, 4971, 5432, 307, 3496, 1276, 5011, 3223, 3493, 5765, 5534, 6093, 4247, 1777, 3745, 1274, 3537, 5460, 1343, 2464, 1399, 1002, 2015, 5229, 283, 2035, 3643, 6173, 4459, 4033, 3822, 4739, 5316, 5242, 6437, 3710, 872, 4356, 1744, 1916, 4193, 6114, 2145, 2722, 1508, 3849, 3969, 3063, 1688, 4141, 1669, 1490, 2205, 6446, 6429, 2933, 4296, 1133, 931, 4089, 1018, 385, 3131, 4937, 1747, 4831, 156, 6450, 3009, 1755, 5433, 2959, 2768, 3189, 5346, 3982, 6538, 4423, 4771, 2455, 2889, 66, 2780, 3309, 5054, 5096, 4134, 1756, 1456, 4116, 57, 2849, 5548, 3443, 3110, 5380, 5156, 836, 2758, 1135, 1672, 2686, 4008, 3461, 5797, 6466, 1949, 6543, 3051, 3713, 5642, 5895, 2813, 2092, 5651, 359, 3992, 3798, 6358, 3422, 308, 2026, 2489, 3047, 2063, 4494, 4585, 5112, 712, 2676, 3438, 6408, 1765, 3096, 1413, 2912, 622, 2366, 4952, 4796, 5644, 3017, 2628, 6016, 4798, 1254, 3420, 4469, 5956, 3085, 1539, 6530, 4946, 543, 5287, 1072, 528, 4140, 2237, 5481, 2855, 4694, 5946, 3731, 2637, 2444, 4294, 1959, 4226, 4383, 2192, 4053, 2311, 372, 5468, 5127, 765, 4932, 4126, 3260, 4416, 2254, 554, 2363, 181, 3742, 1131, 2474, 4475, 3560, 4670, 4875, 703, 2338, 4809, 473, 1402, 3241, 3642, 594, 3934, 2708, 5539, 367, 3848, 4172, 4448, 4614, 5304, 5459, 2764, 3975, 2504, 646, 5347, 6256, 1446, 4870, 852, 4658, 1931, 5034, 3870, 3326, 4996, 151, 2779, 3370, 4893, 1575, 3547, 4872, 5267, 6167, 4516, 5401, 3658, 4942, 3489, 340, 6133, 2061, 6091, 1318, 3458, 6462, 3708, 2073, 2372, 4176, 3881, 1707, 1240, 5777, 223, 6349, 6253, 436, 1376, 6383, 1335, 5529, 4943, 2351, 3834, 1098, 5647, 704, 5435, 4096, 3908, 762, 6503, 1196, 2511, 783, 619, 2470, 4214, 2710, 3682, 1433, 2163, 3022, 935, 4912, 4304, 2433, 4692, 3492, 1978, 2225, 4143, 3894, 4820, 2447, 6367, 716, 4425, 4894, 4545, 1786, 180, 6009, 1129, 2656, 2713, 2314, 2681, 6291, 3029, 6141, 2544, 2062, 2954, 228, 5915, 3606, 426, 4374, 6452, 6519, 6293, 1349, 4632, 535, 3650, 3993, 3007, 2209, 4045, 4934, 4517, 216, 6092, 2318, 6059, 632, 5154, 442, 1579, 4810, 4398, 1005, 6117, 540, 5690, 5362, 5434, 5703, 4551, 177, 5804, 6122, 6425, 1697, 6044, 6330, 3089, 549, 1481, 5062, 3196, 2565, 3886, 854, 2207, 2986, 532, 6126, 4152, 2927, 6102, 1928, 4882, 1184, 6186, 3279, 5693, 806, 5372, 618, 5717, 435, 5212, 4272, 2528, 4144, 5933, 3803, 5650, 5284, 1045, 184, 1737, 3589, 1592, 6366, 973, 4216, 4815, 5476, 5315, 3563, 932, 777, 4377, 4365, 591, 2354, 2979, 1092, 4851, 6364, 5406, 6271, 2013, 2529, 4975, 1948, 1172, 3149, 3685, 4987, 4231, 4142, 3146, 2398, 534, 282, 1580, 3366, 1488, 142, 2733, 3174, 2422, 2482, 5022, 3536, 2988, 6163, 1956, 5754, 2949, 5265, 6208, 2260, 1995, 2121, 4242, 1897, 4419, 2524, 2182, 1768, 6372, 4410, 759, 503, 5150, 1347, 2325, 3288, 3351, 4132, 3315, 5810, 1947, 6211, 1915, 1487, 4437, 6326, 5967, 3010, 4465, 1501, 5056, 6434, 4977, 1447, 4330, 5298, 1301, 3495, 6531, 6057, 3704, 2018, 6495, 4204, 348, 4887, 4493, 3591, 4751, 2016, 1038, 3377, 6180, 1272, 3528, 2156, 2611, 1922, 2478, 3100, 1817, 17, 1239, 3874, 1249, 1019, 4075, 1409, 521, 5238, 221, 1876, 1794, 4950, 745, 3265, 5861, 3215, 1210, 6342, 1400, 219, 1825, 2139, 2091, 3090, 2981, 4010, 829, 5976, 6300, 5768, 5875, 6451, 4385, 4712, 3344, 235, 5015, 6541, 3305, 5106, 4522, 6264, 4767, 383, 4556, 5228, 6467, 1420, 6272, 6404, 6043, 792, 3890, 4420, 5525, 2333, 3140, 3199, 4634, 3205, 6075, 1771, 4190, 2595, 298, 4105, 4828, 4909, 2711, 5685, 2712, 2248, 5524, 5605, 4663, 4995, 5198, 2970, 4321, 1523, 2605, 5105, 3504, 702, 3930, 1714, 2003, 1676, 3828, 710, 2246, 4740, 3839, 5799, 1484, 6453, 5344, 2288, 855, 4681, 5866, 3343, 2027, 4569, 3836, 1698, 3583, 3648, 27, 2793, 1796, 3847, 4411, 2588, 2094, 2975, 5549, 296, 264, 207, 1954, 381, 1505, 5107, 2450, 1695, 5914, 1116, 782, 4054, 2476, 548, 4626, 5179, 4518, 2193, 2856, 5686, 5215, 3258, 715, 3244, 448, 4816, 5756, 2188, 5379, 5538, 4051, 104, 2223, 5291, 1371, 2863, 2655, 5771, 1598, 4382, 2282, 1283, 606, 420, 999, 913, 3108, 3318, 6203, 3227, 2071, 4598, 118, 1790, 6095, 2270, 4607, 2261, 2181, 4625, 3955, 3070, 1188, 3396, 2082, 441, 6055, 3188, 3476, 4713, 4876, 5396, 3391, 3191, 337, 2693, 5620, 3885, 2910, 390, 4945, 5227, 3464, 2809, 1650, 5962, 678, 4162, 4557, 1855, 4913, 4317, 6542, 5558, 3356, 6540, 4148, 3714, 2031, 3369, 1174, 154, 3833, 1534, 828, 6112, 3130, 195, 1795, 3457, 4421, 6132, 6369, 2735, 2243, 5511, 5844, 2221, 5714, 940, 1674, 2980, 5780, 5726, 531, 4042, 1101, 4967, 16, 4460, 5953, 2811, 6295, 1182, 1273, 2782, 3634, 3663, 3135, 4027, 790, 1051, 2597, 52, 4153, 3394, 3357, 5928, 916, 2643, 234, 1832, 26, 2962, 4702, 6412, 4621, 230, 1532, 2876, 1618, 2202, 773, 2420, 3927, 2824, 220, 2479, 3572, 1455, 3262, 5684, 4245, 5143, 4668, 3533, 2307, 1287, 6262, 5478, 2662, 2820, 3869, 3322, 694, 4873, 3979, 936, 4326, 278, 922, 2748, 5314, 6500, 3313, 2904, 1056, 2186, 1354, 1774, 1656, 338, 5718, 5808, 2839, 237, 4260, 1710, 2402, 3909, 5177, 1257, 1912, 6445, 3844, 4787, 5153, 4929, 2834, 4342, 1214, 2721, 3619, 4277, 5592, 1851, 5930, 1524, 2841, 3268, 5851, 4489, 1329, 3626, 4725, 3611, 5803, 6439, 3180, 3622, 4461, 2118, 76, 422, 3478, 4047, 174, 1872, 358, 2679, 3973, 4236, 6381, 3549, 5597, 2861, 5151, 1846, 6354, 3910, 2057, 311, 5537, 3989, 1445, 4546, 4373, 5770, 471, 4165, 2516, 6520, 6261, 1623, 5867, 3943, 141, 5616, 3467, 1417, 4855, 3859, 506, 4415, 1271, 1219, 3944, 2416, 6464, 5886, 4899, 5531, 143, 5442, 5394, 5214, 1286, 3407, 6111, 122, 1491, 2226, 4992, 5050, 2252, 5216, 3896, 3342, 1577, 353, 2978, 1193, 3163, 1415, 6357, 2801, 2406, 2247, 1530, 1289, 4200, 5431, 2170, 1498, 2899, 3276, 6529, 4852, 5774, 3082, 130, 2790, 5509, 172, 4724, 3729, 279, 5889, 1077, 2093, 1025, 5422, 5264, 1918, 2097, 1675, 4818, 5610, 5094, 3521, 4351, 3952, 3766, 2514, 5241, 5556, 5182, 1105, 2613, 3558, 3830, 3576, 5845, 182, 4536, 5144, 6013, 2752, 1789, 1032, 5617, 1703, 2596, 590, 461, 552, 4583, 6461, 2929, 6534, 150, 1730, 2964, 2917, 3484, 887, 41, 3751, 3554, 3923, 928, 2342, 5113, 5806, 3819, 2300, 529, 4738, 6536, 6218, 1107, 6361, 5046, 2926, 803, 2291, 3739, 189, 3762, 4861, 99, 3046, 2651, 507, 3873, 5376, 6254, 6040, 5233, 2677, 775, 2391, 6433, 4729, 1813, 6179, 4646, 2968, 4886, 1323, 225, 3823, 2553, 6166, 2087, 3808, 4406, 838, 5349, 3915, 3564, 2997, 3769, 2732, 313, 1238, 5927, 3232, 6279, 551, 5371, 4718, 754, 2242, 310, 5102, 5516, 2112, 789, 5273, 1822, 3421, 2099, 2618, 4175, 5791, 4627, 2599, 5947, 4691, 1401, 185, 4983, 4307, 2206, 3076, 876, 4644, 6426, 1277, 1757, 2074, 4900, 3555, 1762, 3284, 3114, 4402, 3138, 4772, 634, 5773, 665, 693, 5554, 1867, 4396, 6104, 3185, 3811, 5787, 756, 2095, 5639, 5471, 564, 5473, 5958, 1655, 6510, 455, 3490, 4092, 2909, 4188, 4955, 3183, 5067, 1666, 6116, 890, 3709, 4418, 2085, 2913, 4287, 351, 6484, 1877, 2703, 4090, 805, 5725, 6221, 3816, 5614, 6380, 1104, 5023, 4486, 3984, 4765, 3427, 2729, 748, 2923, 5142, 4225, 3018, 3951, 5111, 4007, 1894, 2888, 5159, 4555, 5892, 995, 2054, 4603, 3093, 4695, 3586, 3166, 2277, 4905, 5732, 1874, 72, 5351, 4270, 267, 6284, 3368, 1275, 1511, 5175, 3415, 2775, 4499, 4982, 2126, 1137, 5971, 5052, 1242, 1865, 2103, 6289, 336, 6544, 701, 3068, 4404, 502, 5475, 2843, 3111, 5485, 3574, 3491, 140, 1504, 2709, 1926, 1467, 1156, 4611, 5276, 1868, 350, 341, 2936, 3450, 3543, 96, 3875, 3026, 3694, 3891, 3388, 4602, 5387, 2698, 6299, 2028, 2137, 2948, 955, 1513, 2527, 1029, 2730, 6119, 2650, 1892, 1961, 757, 5470, 4935, 467, 4782, 4275, 155, 3656, 5321, 2781, 4750, 1608, 1869, 3720, 556, 993, 6343, 1542, 1288, 2113, 6049, 4147, 4177, 5622, 6487, 4643, 5783, 5356, 868, 3339, 382, 1914, 3673, 3807, 1654, 5541, 3056, 1764, 3365, 4988, 1957, 2089, 3965, 1171, 2157, 4962, 807, 1197, 4562, 3289, 4178, 4191, 2616, 6183, 1906, 123, 1911, 6345, 3442, 2689, 2684, 5618, 6123, 956, 866, 4978, 6175, 6086, 1582, 4285, 2887, 2570, 4778, 2303, 6406, 4284, 6454, 4933, 5997, 5885, 3553, 3229, 1758, 992, 4293, 5210, 4221, 3250, 2812, 4370, 3546, 6488, 4495, 3345, 1220, 2821, 1366, 224, 58, 1326, 4633, 5366, 4951, 6527, 3654, 439, 6054, 3446, 5097, 3963, 5178, 6237, 5025, 6084, 6516, 4005, 5129, 2107, 4834, 4359, 4088, 5871, 2269, 3497, 1435, 6296, 3251, 1483, 5695, 2620, 859, 1166, 5852, 29, 2152, 2985, 849, 2873, 6244, 4205, 4167, 3603, 4682, 3711, 524, 6181, 3705, 3635, 2852, 3073, 4238, 6275, 5786, 1689, 1951, 5099, 2025, 5226, 2792, 2175, 5477, 780, 5648, 952, 4206, 2718, 1533, 2446, 5924, 2115, 2506, 6037, 291, 2487, 4108, 5449, 2808, 6371, 5641, 1295, 2673, 4212, 1503, 867, 3727, 6347, 6469, 3970, 3863, 3150, 2356, 1245, 508, 5448, 3092, 1686, 2777, 4783, 2996, 4110, 1515, 202, 2759, 1494, 3259, 3194, 5934, 1463, 608, 2723, 3721, 3278, 1111, 3551, 30, 5589, 2530, 4305, 1690, 1509, 4888, 5277, 3802, 6048, 5942, 2736, 3171, 2228, 2144, 723, 44, 3921, 1972, 4319, 4749, 3304, 5390, 771, 6168, 2484, 2587, 188, 1158, 5863, 5843, 2765, 6107, 1278, 1423, 3628, 1830, 3697, 2943, 3102, 3207, 2646, 2220, 1986, 3182, 6493, 5698, 3508, 1569, 4451, 1134, 944, 18, 673, 4337, 2411, 5796, 1181, 3893, 4028, 5147, 3143, 4525, 1591, 5483, 2633, 1124, 5301, 2088, 3447, 4259, 3074, 2668, 1620, 6178, 5692, 1492, 6415, 1462, 3035, 3806, 5278, 3835, 1169, 4878, 295, 3178, 2972, 1621, 6548, 2666, 3137, 1452, 6441, 1538, 6015, 226, 4057, 862, 474, 5853, 2263, 5950, 3515, 2189, 781, 3359, 5775, 839, 2004, 1670, 378, 3585, 1014, 3298, 5834, 197, 2491, 5837, 186, 1358, 6124, 3667, 447, 6217, 1742, 5363, 2344, 3383, 3272, 1299, 1692, 4578, 4483, 2664, 5856, 3522, 1319, 6337, 2844, 4338, 669, 3725, 1028, 4379, 2335, 939, 1502, 2682, 6106, 1209, 1622, 2631, 61, 6535, 4833, 1426, 2059, 4012, 2906, 842, 4824, 355, 5776, 5873, 2367, 2505, 5720, 4208, 3081, 3403, 6033, 3470, 4792, 3433, 3698, 5205, 4025, 5798, 1927, 5262, 4936, 4535, 1438, 2802, 20, 2918, 5092, 5699, 3906, 1871, 209, 4730, 2766, 2465, 1649, 2884, 1980, 4230, 463, 3208, 5377, 92, 1054, 4812, 2322, 6056, 2617, 4939, 6414, 5670, 91, 2935, 3950, 6127, 5518, 1186, 2309, 4121, 3550, 5258, 3086, 4013, 1448, 6024, 4914, 6101, 2072, 203, 1449, 2256, 4237, 1589, 4533, 5567, 438, 2006, 4891, 3636, 2043, 2670, 5672, 4035, 4333, 2473, 285, 3817, 4001, 1612, 4032, 2331, 539, 1833, 3080, 2039, 277, 1282, 3173, 6370, 3981, 3475, 3151, 6356, 2810, 668, 4331, 2301, 3540, 3756, 5951, 919, 4109, 3419, 3974, 6505, 3088, 3832, 1213, 2649, 5398, 5876, 2445, 2197, 5208, 1044, 456, 2350, 3783, 3267, 635, 5066, 707, 6379, 5079, 1106, 3579, 1940, 3203, 389, 1657, 1749, 3412, 3066, 2096, 5785, 6438, 5939, 4355, 4860, 844, 1247, 2963, 5835, 2895, 6306, 6287, 5405, 708, 3316, 5207, 6260, 6192, 6204, 5623, 293, 2885, 6533, 1899, 1629, 5451, 1191, 1826, 5455, 670, 4944, 778, 4387, 1356, 4155, 727, 4582, 3675, 6134, 4785, 853, 2083, 2472, 3672, 5340, 2552, 2502, 4250, 3454, 6424, 1548, 3320, 1531, 6460, 2665, 4249, 5109, 111, 3340, 5140, 2332, 3432, 4636, 5309, 3580, 611, 3513, 6255, 2685, 6525, 6193, 6278, 2745, 4613, 2934, 3158, 1603, 5028, 4316, 583, 2743, 2573, 6205, 1838, 968, 1118, 1017, 2392, 2386, 3015, 1754, 3865, 347, 1526, 2638, 2601, 4687, 2645, 512, 4572, 3861, 1941, 1715, 5700, 4908, 4442, 1977, 6248, 2353, 5562, 5952, 297, 2833, 2905, 1303, 4097, 4669, 1783, 265, 4384, 1958, 5893, 4907, 695, 2492, 1743, 1093, 1112, 2734, 5386, 1096, 289, 2481, 2360, 3767, 4386, 3024, 949, 6537, 4969, 4257, 3386, 4299, 346, 113, 419, 6094, 5969, 5285, 3486, 2726, 452, 5289, 3831, 1007, 462, 4219, 3506, 4187, 1330, 3030, 6008, 6252, 1161, 3624, 213, 3048, 4334, 5677, 588, 4869, 3907, 3091, 4485, 679, 2507, 2012, 5318, 3197, 6421, 3072, 6034, 6216, 3661, 3472, 3922, 3740, 6246, 3077, 2593, 1568, 5466, 3780, 5855, 6195, 2797, 97, 4697, 3639, 4581, 132, 3851, 1244, 2359, 5965, 4651, 3052, 5937, 349, 2955, 624, 3678, 5381, 3448, 3960, 124, 3845, 2164, 2231, 2495, 6329, 5161, 5755, 595, 153, 685, 106, 3813, 5122, 604, 3988, 6197, 5192, 6023, 4487, 4154, 3389, 6419, 1341, 1944, 2203, 4666, 542, 2688, 4573, 1353, 3556, 3181, 1983, 3471, 173, 5042, 3590, 4848, 2328, 2769, 5954, 3677, 5925, 5809, 3462, 917, 4201, 4324, 3864, 2323, 1421, 4290, 5443, 6273, 4202, 2321, 3349, 2257, 1985, 755, 2029, 4315, 3065, 3562, 2556, 2621, 620, 5288, 4827, 696, 3659, 2475, 5996, 5612, 5296, 5708, 675, 5486, 2558, 2289, 258, 4203, 3186, 4991, 2037, 2329, 5116, 2064, 374, 472, 3274, 2183, 5832, 3364, 4708, 5180, 3061, 301, 3384, 6443, 1405, 2830, 1665, 4649, 4667, 912, 3978, 1763, 5671, 1297, 1128, 2519, 6405, 3516, 6269, 6005, 5633, 2451, 1495, 2483, 3818, 4241, 3621, 1099, 1256, 428, 3372, 517, 4823, 5943, 5966, 2941, 2161, 218, 5453, 4158, 5627, 1812, 1753, 65, 1328, 1902, 3660, 700, 6103, 2946, 2200, 5395, 6497, 6010, 1625, 1443, 379, 6490, 6355, 5373, 5186, 5510, 4192, 3788, 3623, 4660, 3692, 2577, 500, 2401, 2942, 3430, 429, 4501, 2829, 3775, 4046, 4146, 4079, 877, 5788, 1434, 4255, 3567, 925, 2124, 3127, 4650, 2515, 934, 1624, 1332, 4325, 2518, 2741, 764, 4286, 6051, 3872, 6222, 6164, 3402, 6509, 1342, 1913, 3980, 5057, 2661, 2191, 6088, 2055, 6539, 920, 5148, 3614, 4198, 1042, 4083, 1179, 5676, 1263, 4447, 4885, 5341, 2977, 5891, 840, 1736, 5968, 1464, 1857, 6301, 5232, 4217, 6532, 4577, 1206, 5225, 1175, 6353, 2021, 523, 2030, 287, 5237, 4094, 2173, 3942, 6348, 2060, 121, 1529, 4830, 2938, 2219, 3524, 1322, 3118, 1729, 2737, 373, 6521, 3913, 4291, 4438, 5065, 458, 290, 4084, 5049, 3277, 1260, 4717, 6288, 2984, 1910, 4059, 2893, 4446, 2098, 6120, 1266, 5868, 3323, 1734, 3039, 5591, 5794, 5243, 2404, 749, 3666, 6277, 2084, 393, 2023, 204, 1746, 1997, 2523, 109, 4786, 5621, 1942, 3510, 3737, 3595, 951, 1127, 1946, 2715, 3987, 2427, 4652, 3225, 869, 6090, 2101, 5978, 3293, 3071, 1849, 2143, 1793, 9, 1215, 4941, 1785, 4220, 1122, 1126, 3341, 3519, 2937, 1858, 5709, 5108, 1829, 5615, 1536, 4769, 2783, 2272, 260, 4654, 93, 2714, 2957, 4169, 6323, 5527, 2659, 3837, 1425, 3933, 2742, 3353, 4822, 3256, 3337, 4964, 3126, 1192, 2233, 3499, 394, 2078, 1590, 2546, 6174, 1046, 2512, 3338, 2076, 4953, 2807, 1751, 5364, 2315, 2566, 3248, 2987, 5036, 1284, 1001, 4863, 3000, 3025, 1468, 4989, 5400, 5391, 628, 107, 4029, 3679, 4279, 672, 2590, 4417, 963, 1373, 3542, 5588, 3406, 3235, 6025, 537, 629, 2224, 724, 4037, 3785, 4915, 6047, 4466, 4542, 4380, 4443, 910, 597, 12, 1259, 1991, 5513, 3296, 5134, 593, 2600, 5878, 2806, 5801, 101, 1252, 795, 4741, 2009, 2583, 45, 5072, 1584, 59, 3959, 1450, 1525, 4246, 5701, 747, 5887, 70, 5936, 3726, 2538, 516, 3156, 1204, 1699, 3573, 5926, 4600, 4352, 1162, 3335, 1668, 2394, 5896, 1514, 5123, 3097, 1573, 5860, 6224, 4023, 3299, 3544, 3838, 4781, 5234, 4312, 5055, 2754, 5024, 3023, 2724, 5674, 2755, 4215, 2439, 1976, 5884, 3706, 833, 5155, 2106, 98, 4948, 4733, 5343, 1236, 4965, 1862, 3115, 4624, 4788, 179, 5504, 2424, 3566, 4454, 5141, 691, 5913, 2760, 3224, 3264, 2930, 1298, 4688, 4599, 1363, 1602, 6085, 3505, 3820, 5020, 1578, 4354, 4248, 610, 6351, 1938, 3976, 2449, 1237, 4744, 6499, 3058, 5292, 5103, 5160, 3117, 4662, 2409, 3750, 5378, 6170, 5877, 269, 2763, 5220, 5353, 440, 5751, 3408, 4280, 1208, 1248, 2814, 4066, 2840, 609, 746, 4071, 3233, 3104, 5480, 4085, 2907, 4482, 797, 2408, 1089, 3712, 5070, 2250, 6113, 5857, 4341, 2914, 2819, 4629, 4127, 4802, 770, 1682, 1293, 19, 42, 520, 2264, 5611, 3387, 2275, 4850, 930, 5467, 3213, 6498, 2306, 4710, 6507, 6297, 2835, 4087, 4189, 3059, 4082, 6292, 4171, 4472, 5781, 23, 3094, 430, 119, 1773, 6362, 1212, 1047, 1173, 2508, 1372, 2545, 4806, 5626, 2663, 2995, 2772, 4243, 1015, 3825, 3991, 2299, 1516, 4473, 1843, 2075, 5031, 2180, 1037, 714, 6135, 6546, 4318, 1251, 1645, 645, 5447, 3249, 950, 3674, 5923, 3159, 2330, 4829, 3578, 6266, 5269, 5849, 459, 4450, 3518, 5053, 2090, 4072, 5688, 1933, 2509, 623, 5299, 4372, 146, 4974, 2222, 2036, 2468, 1853, 3084, 2561, 2939, 2436, 4716, 6258, 2750, 201, 1683, 5508, 5603, 343, 3321, 6039, 3210, 2184, 3662, 2982, 1416, 510, 5300, 3302, 6035, 846, 2287, 717, 74, 5630, 3144, 33, 4157, 861, 6449, 942, 4895, 1660, 1115, 1861, 1016, 5766, 5302, 3008, 3786, 364, 2259, 3517, 1808, 4062, 1404, 4911, 3355, 4648, 4686, 1035, 3569, 3535, 843, 3327, 5259, 1570, 3899, 750, 3122, 5859, 2358, 1879, 1364, 454, 323, 2218, 5104, 4896, 4609, 1731, 4534, 3509, 3866, 884, 4336, 2667, 6368, 6494, 2603, 3451, 5132, 515, 4574, 966, 305, 4690, 2919, 2396, 6201, 1084, 5545, 5137, 4704, 2005, 208, 125, 788, 1048, 3113, 3814, 2024, 5317, 5012, 3128, 1950, 4698, 6325, 356, 1586, 1444, 5568, 2867, 4492, 4661, 752, 32, 316, 2349, 6060, 1935, 2877, 1255, 6099, 1752, 3445, 3164, 725, 5221, 4970, 1893, 522, 4456, 4048, 1850, 3971, 1412, 3664, 1006, 3703, 444, 5542, 2632, 4696, 4258, 3841, 3148, 6511, 2255, 947, 4723, 2415, 3319, 2437, 3155, 5240, 3112, 2241, 4689, 3273, 1170, 5076, 1379, 4616, 1939, 3395, 6515, 3463, 6247, 3696, 5792, 1896, 1216, 4972, 5789, 1953, 2886, 2166, 4703, 2798, 6416, 948, 2630, 2550, 466, 5757, 3435, 5719, 1615, 1546, 4329, 1936, 2568, 1125, 2308, 5713, 5184, 3502, 3160, 4902, 3238, 4635, 2348, 3644, 4857, 1350, 2727, 4684, 1507, 5484, 3594, 2227, 519, 2535, 1159, 4474, 3184, 3480, 2485, 3253, 5883, 937, 625, 3743, 4997, 6007, 2853, 674, 460, 21, 2799, 268, 6176, 3966, 585, 2265, 2796, 4063, 4491, 2114, 369, 1500, 1815, 5587, 403, 1496, 5430, 5462, 34, 4693, 4930, 3633, 2429, 2421, 5461, 728, 1079, 2347, 427, 5117, 131, 3367, 4106, 210, 1369, 2440, 483, 933, 5355, 6045, 581, 1739, 116, 4531, 4570, 4931, 3559, 2761, 5185, 3610, 2534, 1890, 4308, 2498, 2791, 6384, 4388, 889, 4440, 4122, 3334, 2019, 108, 4549, 2701, 1955, 4601, 2430, 3565, 4036, 3929, 3042, 851, 3525, 2969, 5048, 2337, 858, 6194, 2044, 1424, 2486, 6294, 633, 1160, 4135, 533, 4278, 6105, 5393, 1123, 536, 4538, 5064, 6118, 4588, 3618, 5793, 6331, 5257, 2922, 1086, 2916, 2831, 2770, 4470, 3053, 4055, 2956, 663, 923, 64, 2281, 55, 1596, 1485, 6385, 1932, 6156, 1776, 4779, 6053, 6417, 1842, 996, 2040, 4747, 5061, 3917, 6465, 2974, 4980, 4218, 2898]\n",
      "test ids:  [0, 1, 2, 3, 4, 5, 6, 7, 8, 78, 79, 80, 81, 82, 83, 84, 85, 86, 87, 88, 89, 90, 158, 159, 160, 161, 162, 163, 164, 165, 166, 167, 168, 169, 170, 171, 238, 239, 240, 241, 242, 243, 244, 245, 246, 247, 248, 249, 250, 251, 252, 253, 318, 319, 320, 321, 322, 324, 325, 326, 327, 328, 329, 330, 331, 332, 333, 334, 335, 398, 399, 400, 401, 402, 405, 406, 407, 408, 409, 410, 411, 412, 413, 414, 415, 416, 417, 478, 479, 480, 481, 482, 486, 487, 488, 489, 490, 491, 492, 493, 494, 495, 496, 497, 498, 499, 558, 559, 560, 561, 562, 567, 568, 569, 570, 571, 572, 573, 574, 575, 576, 577, 578, 579, 580, 638, 639, 640, 641, 642, 648, 649, 650, 651, 652, 653, 654, 655, 656, 657, 658, 659, 660, 661, 662, 718, 719, 720, 721, 722, 729, 730, 731, 732, 733, 734, 735, 736, 737, 738, 739, 740, 741, 742, 743, 744, 798, 799, 800, 801, 802, 810, 811, 812, 813, 814, 815, 816, 817, 818, 819, 820, 821, 822, 823, 824, 825, 826, 878, 879, 880, 881, 882, 892, 893, 894, 895, 896, 897, 898, 899, 900, 901, 902, 903, 904, 905, 906, 907, 908, 958, 959, 960, 961, 962, 974, 975, 976, 977, 978, 979, 980, 981, 982, 983, 984, 985, 986, 987, 988, 989, 1039, 1040, 1041, 1057, 1058, 1059, 1060, 1061, 1062, 1063, 1064, 1065, 1066, 1067, 1068, 1069, 1070, 1071, 1119, 1120, 1121, 1139, 1140, 1141, 1142, 1143, 1144, 1145, 1146, 1147, 1148, 1149, 1150, 1151, 1152, 1153, 1199, 1200, 1201, 1221, 1222, 1223, 1224, 1225, 1226, 1227, 1228, 1229, 1230, 1231, 1232, 1233, 1234, 1235, 1279, 1280, 1281, 1304, 1305, 1306, 1307, 1308, 1309, 1310, 1311, 1312, 1313, 1314, 1315, 1316, 1359, 1360, 1361, 1386, 1387, 1388, 1389, 1390, 1391, 1392, 1393, 1394, 1395, 1396, 1397, 1398, 1439, 1440, 1441, 1469, 1470, 1471, 1472, 1473, 1474, 1475, 1476, 1477, 1478, 1479, 1480, 1519, 1520, 1521, 1551, 1552, 1553, 1554, 1555, 1556, 1557, 1558, 1559, 1560, 1561, 1562, 1599, 1600, 1601, 1633, 1634, 1635, 1636, 1637, 1638, 1639, 1640, 1641, 1642, 1643, 1644, 1679, 1680, 1681, 1716, 1717, 1718, 1719, 1720, 1721, 1722, 1723, 1724, 1725, 1759, 1760, 1761, 1798, 1799, 1800, 1801, 1802, 1803, 1804, 1805, 1806, 1807, 1839, 1840, 1841, 1880, 1881, 1882, 1883, 1884, 1885, 1886, 1887, 1888, 1889, 1919, 1920, 1921, 1963, 1964, 1965, 1966, 1967, 1968, 1969, 1970, 1971, 1999, 2000, 2001, 2045, 2046, 2047, 2048, 2049, 2050, 2051, 2052, 2053, 2079, 2080, 2081, 2127, 2128, 2129, 2130, 2131, 2132, 2133, 2134, 2160, 2210, 2211, 2212, 2213, 2214, 2215, 2216, 2240, 2292, 2293, 2294, 2295, 2296, 2297, 2298, 2320, 2375, 2376, 2377, 2378, 2379, 2380, 2400, 2457, 2458, 2459, 2460, 2461, 2462, 2480, 2539, 2540, 2541, 2542, 2543, 2560, 2622, 2623, 2624, 2625, 2640, 2704, 2705, 2706, 2707, 2720, 2786, 2787, 2788, 2789, 2800, 2869, 2870, 2871, 2880, 2951, 2952, 2960, 3033, 3034, 3040, 3116, 3120, 3198, 3200, 3280, 3360, 3362, 3440, 3444, 3520, 3526, 3527, 3600, 3608, 3609, 3680, 3689, 3690, 3691, 3760, 3771, 3772, 3773, 3774, 3840, 3853, 3854, 3855, 3856, 3920, 3935, 3936, 3937, 3938, 4000, 4017, 4018, 4019, 4020, 4021, 4080, 4098, 4099, 4100, 4101, 4102, 4103, 4160, 4180, 4181, 4182, 4183, 4184, 4185, 4240, 4262, 4263, 4264, 4265, 4266, 4267, 4268, 4320, 4344, 4345, 4346, 4347, 4348, 4349, 4350, 4400, 4426, 4427, 4428, 4429, 4430, 4431, 4432, 4433, 4479, 4480, 4481, 4507, 4508, 4509, 4510, 4511, 4512, 4513, 4514, 4515, 4559, 4560, 4561, 4589, 4590, 4591, 4592, 4593, 4594, 4595, 4596, 4597, 4639, 4640, 4641, 4671, 4672, 4673, 4674, 4675, 4676, 4677, 4678, 4679, 4680, 4719, 4720, 4721, 4753, 4754, 4755, 4756, 4757, 4758, 4759, 4760, 4761, 4762, 4799, 4800, 4801, 4835, 4836, 4837, 4838, 4839, 4840, 4841, 4842, 4843, 4844, 4879, 4880, 4881, 4916, 4917, 4918, 4919, 4920, 4921, 4922, 4923, 4924, 4925, 4926, 4927, 4959, 4960, 4961, 4998, 4999, 5000, 5001, 5002, 5003, 5004, 5005, 5006, 5007, 5008, 5009, 5039, 5040, 5041, 5080, 5081, 5082, 5083, 5084, 5085, 5086, 5087, 5088, 5089, 5090, 5091, 5119, 5120, 5121, 5162, 5163, 5164, 5165, 5166, 5167, 5168, 5169, 5170, 5171, 5172, 5173, 5174, 5199, 5200, 5201, 5244, 5245, 5246, 5247, 5248, 5249, 5250, 5251, 5252, 5253, 5254, 5255, 5256, 5279, 5280, 5281, 5325, 5326, 5327, 5328, 5329, 5330, 5331, 5332, 5333, 5334, 5335, 5336, 5337, 5338, 5339, 5359, 5360, 5361, 5407, 5408, 5409, 5410, 5411, 5412, 5413, 5414, 5415, 5416, 5417, 5418, 5419, 5420, 5421, 5439, 5440, 5441, 5489, 5490, 5491, 5492, 5493, 5494, 5495, 5496, 5497, 5498, 5499, 5500, 5501, 5502, 5503, 5519, 5520, 5521, 5571, 5572, 5573, 5574, 5575, 5576, 5577, 5578, 5579, 5580, 5581, 5582, 5583, 5584, 5585, 5586, 5598, 5599, 5600, 5601, 5602, 5652, 5653, 5654, 5655, 5656, 5657, 5658, 5659, 5660, 5661, 5662, 5663, 5664, 5665, 5666, 5667, 5668, 5678, 5679, 5680, 5681, 5682, 5734, 5735, 5736, 5737, 5738, 5739, 5740, 5741, 5742, 5743, 5744, 5745, 5746, 5747, 5748, 5749, 5750, 5758, 5759, 5760, 5761, 5762, 5816, 5817, 5818, 5819, 5820, 5821, 5822, 5823, 5824, 5825, 5826, 5827, 5828, 5829, 5830, 5831, 5838, 5839, 5840, 5841, 5842, 5898, 5899, 5900, 5901, 5902, 5903, 5904, 5905, 5906, 5907, 5908, 5909, 5910, 5911, 5912, 5918, 5919, 5920, 5921, 5922, 5980, 5981, 5982, 5983, 5984, 5985, 5986, 5987, 5988, 5989, 5990, 5991, 5992, 5993, 5998, 5999, 6000, 6001, 6002, 6061, 6062, 6063, 6064, 6065, 6066, 6067, 6068, 6069, 6070, 6071, 6072, 6073, 6074, 6078, 6079, 6080, 6081, 6082, 6143, 6144, 6145, 6146, 6147, 6148, 6149, 6150, 6151, 6152, 6153, 6154, 6155, 6158, 6159, 6160, 6161, 6162, 6225, 6226, 6227, 6228, 6229, 6230, 6231, 6232, 6233, 6234, 6235, 6236, 6238, 6239, 6240, 6241, 6242, 6307, 6308, 6309, 6310, 6311, 6312, 6313, 6314, 6315, 6316, 6317, 6318, 6319, 6320, 6321, 6322, 6389, 6390, 6391, 6392, 6393, 6394, 6395, 6396, 6397, 6398, 6399, 6400, 6401, 6402, 6470, 6471, 6472, 6473, 6474, 6475, 6476, 6477, 6478, 6479, 6480, 6481, 6482, 6552, 6553, 6554, 6555, 6556, 6557, 6558, 6559, 6560]\n",
      "CPU times: user 143 ms, sys: 24 ms, total: 167 ms\n",
      "Wall time: 166 ms\n"
     ]
    }
   ],
   "source": [
    "%%time\n",
    "n_total = len(simulation.dataframe)\n",
    "n_train = len(simulation.dataframe[simulation.dataframe.type_of == \"train\"])\n",
    "n_val = len(simulation.dataframe[simulation.dataframe.type_of == \"val\"])\n",
    "n_test = len(simulation.dataframe[simulation.dataframe.type_of == \"test\"])\n",
    "n_train_hamiltonians = len(simulation.train_ids)\n",
    "n_val_hamiltonians = len(simulation.val_ids)\n",
    "n_test_hamiltonians = len(simulation.test_ids)\n",
    "n_total_hamiltonians = n_train_hamiltonians + n_val_hamiltonians + n_test_hamiltonians\n",
    "\n",
    "print(\"% train: \", n_train/n_total)\n",
    "print(\"% val: \",  n_val/n_total)\n",
    "print(\"% test: \", n_test/n_total)\n",
    "print(\"% train + val + test: \", (n_train+n_val+n_test)/n_total)\n",
    "print(\"\\n\")\n",
    "print(\"number of train hamiltonians: \", n_train_hamiltonians)\n",
    "print(\"number of val hamiltonians: \", n_val_hamiltonians)\n",
    "print(\"number of test hamiltonians: \", n_test_hamiltonians)\n",
    "print(\"total number of hamiltonians: \", n_total_hamiltonians)\n",
    "print(\"\\n\")\n",
    "print(\"train ids: \", simulation.train_ids)\n",
    "print(\"val ids: \", simulation.val_ids)\n",
    "print(\"test ids: \", simulation.test_ids)"
   ]
  },
  {
   "cell_type": "markdown",
   "metadata": {
    "papermill": {
     "duration": 0.036769,
     "end_time": "2020-07-16T00:43:46.190002",
     "exception": false,
     "start_time": "2020-07-16T00:43:46.153233",
     "status": "completed"
    },
    "tags": []
   },
   "source": [
    "#### Checking summaries"
   ]
  },
  {
   "cell_type": "code",
   "execution_count": 31,
   "metadata": {
    "execution": {
     "iopub.execute_input": "2020-07-16T00:43:46.264119Z",
     "iopub.status.busy": "2020-07-16T00:43:46.263808Z",
     "iopub.status.idle": "2020-07-16T00:43:46.282026Z",
     "shell.execute_reply": "2020-07-16T00:43:46.281694Z"
    },
    "papermill": {
     "duration": 0.056159,
     "end_time": "2020-07-16T00:43:46.282078",
     "exception": false,
     "start_time": "2020-07-16T00:43:46.225919",
     "status": "completed"
    },
    "tags": []
   },
   "outputs": [
    {
     "name": "stdout",
     "output_type": "stream",
     "text": [
      "length of ham_summary:  6561\n",
      "CPU times: user 103 µs, sys: 0 ns, total: 103 µs\n",
      "Wall time: 60.8 µs\n"
     ]
    },
    {
     "data": {
      "text/html": [
       "<div>\n",
       "<style scoped>\n",
       "    .dataframe tbody tr th:only-of-type {\n",
       "        vertical-align: middle;\n",
       "    }\n",
       "\n",
       "    .dataframe tbody tr th {\n",
       "        vertical-align: top;\n",
       "    }\n",
       "\n",
       "    .dataframe thead th {\n",
       "        text-align: right;\n",
       "    }\n",
       "</style>\n",
       "<table border=\"1\" class=\"dataframe\">\n",
       "  <thead>\n",
       "    <tr style=\"text-align: right;\">\n",
       "      <th></th>\n",
       "      <th>t1</th>\n",
       "      <th>t2</th>\n",
       "      <th>type_of</th>\n",
       "      <th>0</th>\n",
       "      <th>1</th>\n",
       "      <th>phase</th>\n",
       "      <th>pred_phase</th>\n",
       "    </tr>\n",
       "    <tr>\n",
       "      <th>id</th>\n",
       "      <th></th>\n",
       "      <th></th>\n",
       "      <th></th>\n",
       "      <th></th>\n",
       "      <th></th>\n",
       "      <th></th>\n",
       "      <th></th>\n",
       "    </tr>\n",
       "  </thead>\n",
       "  <tbody>\n",
       "    <tr>\n",
       "      <th>0</th>\n",
       "      <td>-2.0</td>\n",
       "      <td>-2.00</td>\n",
       "      <td>test</td>\n",
       "      <td>0.52</td>\n",
       "      <td>0.48</td>\n",
       "      <td>999</td>\n",
       "      <td>0</td>\n",
       "    </tr>\n",
       "    <tr>\n",
       "      <th>1</th>\n",
       "      <td>-2.0</td>\n",
       "      <td>-1.95</td>\n",
       "      <td>test</td>\n",
       "      <td>0.62</td>\n",
       "      <td>0.38</td>\n",
       "      <td>0</td>\n",
       "      <td>0</td>\n",
       "    </tr>\n",
       "    <tr>\n",
       "      <th>2</th>\n",
       "      <td>-2.0</td>\n",
       "      <td>-1.90</td>\n",
       "      <td>test</td>\n",
       "      <td>0.72</td>\n",
       "      <td>0.28</td>\n",
       "      <td>0</td>\n",
       "      <td>0</td>\n",
       "    </tr>\n",
       "    <tr>\n",
       "      <th>3</th>\n",
       "      <td>-2.0</td>\n",
       "      <td>-1.85</td>\n",
       "      <td>test</td>\n",
       "      <td>0.84</td>\n",
       "      <td>0.16</td>\n",
       "      <td>0</td>\n",
       "      <td>0</td>\n",
       "    </tr>\n",
       "    <tr>\n",
       "      <th>4</th>\n",
       "      <td>-2.0</td>\n",
       "      <td>-1.80</td>\n",
       "      <td>test</td>\n",
       "      <td>0.87</td>\n",
       "      <td>0.13</td>\n",
       "      <td>0</td>\n",
       "      <td>0</td>\n",
       "    </tr>\n",
       "    <tr>\n",
       "      <th>...</th>\n",
       "      <td>...</td>\n",
       "      <td>...</td>\n",
       "      <td>...</td>\n",
       "      <td>...</td>\n",
       "      <td>...</td>\n",
       "      <td>...</td>\n",
       "      <td>...</td>\n",
       "    </tr>\n",
       "    <tr>\n",
       "      <th>6556</th>\n",
       "      <td>2.0</td>\n",
       "      <td>1.80</td>\n",
       "      <td>test</td>\n",
       "      <td>0.90</td>\n",
       "      <td>0.10</td>\n",
       "      <td>0</td>\n",
       "      <td>0</td>\n",
       "    </tr>\n",
       "    <tr>\n",
       "      <th>6557</th>\n",
       "      <td>2.0</td>\n",
       "      <td>1.85</td>\n",
       "      <td>test</td>\n",
       "      <td>0.72</td>\n",
       "      <td>0.28</td>\n",
       "      <td>0</td>\n",
       "      <td>0</td>\n",
       "    </tr>\n",
       "    <tr>\n",
       "      <th>6558</th>\n",
       "      <td>2.0</td>\n",
       "      <td>1.90</td>\n",
       "      <td>test</td>\n",
       "      <td>0.74</td>\n",
       "      <td>0.26</td>\n",
       "      <td>0</td>\n",
       "      <td>0</td>\n",
       "    </tr>\n",
       "    <tr>\n",
       "      <th>6559</th>\n",
       "      <td>2.0</td>\n",
       "      <td>1.95</td>\n",
       "      <td>test</td>\n",
       "      <td>0.62</td>\n",
       "      <td>0.38</td>\n",
       "      <td>0</td>\n",
       "      <td>0</td>\n",
       "    </tr>\n",
       "    <tr>\n",
       "      <th>6560</th>\n",
       "      <td>2.0</td>\n",
       "      <td>2.00</td>\n",
       "      <td>test</td>\n",
       "      <td>0.46</td>\n",
       "      <td>0.54</td>\n",
       "      <td>999</td>\n",
       "      <td>1</td>\n",
       "    </tr>\n",
       "  </tbody>\n",
       "</table>\n",
       "<p>6561 rows × 7 columns</p>\n",
       "</div>"
      ],
      "text/plain": [
       "       t1    t2 type_of     0     1  phase  pred_phase\n",
       "id                                                    \n",
       "0    -2.0 -2.00    test  0.52  0.48    999           0\n",
       "1    -2.0 -1.95    test  0.62  0.38      0           0\n",
       "2    -2.0 -1.90    test  0.72  0.28      0           0\n",
       "3    -2.0 -1.85    test  0.84  0.16      0           0\n",
       "4    -2.0 -1.80    test  0.87  0.13      0           0\n",
       "...   ...   ...     ...   ...   ...    ...         ...\n",
       "6556  2.0  1.80    test  0.90  0.10      0           0\n",
       "6557  2.0  1.85    test  0.72  0.28      0           0\n",
       "6558  2.0  1.90    test  0.74  0.26      0           0\n",
       "6559  2.0  1.95    test  0.62  0.38      0           0\n",
       "6560  2.0  2.00    test  0.46  0.54    999           1\n",
       "\n",
       "[6561 rows x 7 columns]"
      ]
     },
     "execution_count": 31,
     "metadata": {},
     "output_type": "execute_result"
    }
   ],
   "source": [
    "%%time\n",
    "ham_summary = simulation.hamiltonian_summary\n",
    "print(\"length of ham_summary: \", len(ham_summary))\n",
    "ham_summary"
   ]
  },
  {
   "cell_type": "code",
   "execution_count": 32,
   "metadata": {
    "execution": {
     "iopub.execute_input": "2020-07-16T00:43:46.358835Z",
     "iopub.status.busy": "2020-07-16T00:43:46.358529Z",
     "iopub.status.idle": "2020-07-16T00:43:46.385155Z",
     "shell.execute_reply": "2020-07-16T00:43:46.384880Z"
    },
    "papermill": {
     "duration": 0.065864,
     "end_time": "2020-07-16T00:43:46.385210",
     "exception": false,
     "start_time": "2020-07-16T00:43:46.319346",
     "status": "completed"
    },
    "tags": []
   },
   "outputs": [
    {
     "data": {
      "text/html": [
       "<div>\n",
       "<style scoped>\n",
       "    .dataframe tbody tr th:only-of-type {\n",
       "        vertical-align: middle;\n",
       "    }\n",
       "\n",
       "    .dataframe tbody tr th {\n",
       "        vertical-align: top;\n",
       "    }\n",
       "\n",
       "    .dataframe thead th {\n",
       "        text-align: right;\n",
       "    }\n",
       "</style>\n",
       "<table border=\"1\" class=\"dataframe\">\n",
       "  <thead>\n",
       "    <tr style=\"text-align: right;\">\n",
       "      <th></th>\n",
       "      <th>t1</th>\n",
       "      <th>t2</th>\n",
       "      <th>0</th>\n",
       "      <th>1</th>\n",
       "      <th>phase</th>\n",
       "      <th>pred_phase</th>\n",
       "    </tr>\n",
       "  </thead>\n",
       "  <tbody>\n",
       "    <tr>\n",
       "      <th>count</th>\n",
       "      <td>6561.000000</td>\n",
       "      <td>6.561000e+03</td>\n",
       "      <td>6561.000000</td>\n",
       "      <td>6561.000000</td>\n",
       "      <td>6561.000000</td>\n",
       "      <td>6561.000000</td>\n",
       "    </tr>\n",
       "    <tr>\n",
       "      <th>mean</th>\n",
       "      <td>0.000000</td>\n",
       "      <td>-4.331917e-18</td>\n",
       "      <td>0.515498</td>\n",
       "      <td>0.484502</td>\n",
       "      <td>25.002134</td>\n",
       "      <td>0.495199</td>\n",
       "    </tr>\n",
       "    <tr>\n",
       "      <th>std</th>\n",
       "      <td>1.169134</td>\n",
       "      <td>1.169134e+00</td>\n",
       "      <td>0.445790</td>\n",
       "      <td>0.445790</td>\n",
       "      <td>154.495657</td>\n",
       "      <td>0.500015</td>\n",
       "    </tr>\n",
       "    <tr>\n",
       "      <th>min</th>\n",
       "      <td>-2.000000</td>\n",
       "      <td>-2.000000e+00</td>\n",
       "      <td>0.000000</td>\n",
       "      <td>0.000000</td>\n",
       "      <td>0.000000</td>\n",
       "      <td>0.000000</td>\n",
       "    </tr>\n",
       "    <tr>\n",
       "      <th>25%</th>\n",
       "      <td>-1.000000</td>\n",
       "      <td>-1.000000e+00</td>\n",
       "      <td>0.050000</td>\n",
       "      <td>0.020000</td>\n",
       "      <td>0.000000</td>\n",
       "      <td>0.000000</td>\n",
       "    </tr>\n",
       "    <tr>\n",
       "      <th>50%</th>\n",
       "      <td>0.000000</td>\n",
       "      <td>0.000000e+00</td>\n",
       "      <td>0.520000</td>\n",
       "      <td>0.480000</td>\n",
       "      <td>1.000000</td>\n",
       "      <td>0.000000</td>\n",
       "    </tr>\n",
       "    <tr>\n",
       "      <th>75%</th>\n",
       "      <td>1.000000</td>\n",
       "      <td>1.000000e+00</td>\n",
       "      <td>0.980000</td>\n",
       "      <td>0.950000</td>\n",
       "      <td>1.000000</td>\n",
       "      <td>1.000000</td>\n",
       "    </tr>\n",
       "    <tr>\n",
       "      <th>max</th>\n",
       "      <td>2.000000</td>\n",
       "      <td>2.000000e+00</td>\n",
       "      <td>1.000000</td>\n",
       "      <td>1.000000</td>\n",
       "      <td>999.000000</td>\n",
       "      <td>1.000000</td>\n",
       "    </tr>\n",
       "  </tbody>\n",
       "</table>\n",
       "</div>"
      ],
      "text/plain": [
       "                t1            t2            0            1        phase  \\\n",
       "count  6561.000000  6.561000e+03  6561.000000  6561.000000  6561.000000   \n",
       "mean      0.000000 -4.331917e-18     0.515498     0.484502    25.002134   \n",
       "std       1.169134  1.169134e+00     0.445790     0.445790   154.495657   \n",
       "min      -2.000000 -2.000000e+00     0.000000     0.000000     0.000000   \n",
       "25%      -1.000000 -1.000000e+00     0.050000     0.020000     0.000000   \n",
       "50%       0.000000  0.000000e+00     0.520000     0.480000     1.000000   \n",
       "75%       1.000000  1.000000e+00     0.980000     0.950000     1.000000   \n",
       "max       2.000000  2.000000e+00     1.000000     1.000000   999.000000   \n",
       "\n",
       "        pred_phase  \n",
       "count  6561.000000  \n",
       "mean      0.495199  \n",
       "std       0.500015  \n",
       "min       0.000000  \n",
       "25%       0.000000  \n",
       "50%       0.000000  \n",
       "75%       1.000000  \n",
       "max       1.000000  "
      ]
     },
     "execution_count": 32,
     "metadata": {},
     "output_type": "execute_result"
    }
   ],
   "source": [
    "ham_summary.describe()"
   ]
  },
  {
   "cell_type": "code",
   "execution_count": 33,
   "metadata": {
    "execution": {
     "iopub.execute_input": "2020-07-16T00:43:46.462357Z",
     "iopub.status.busy": "2020-07-16T00:43:46.462042Z",
     "iopub.status.idle": "2020-07-16T00:43:46.476645Z",
     "shell.execute_reply": "2020-07-16T00:43:46.476306Z"
    },
    "papermill": {
     "duration": 0.053989,
     "end_time": "2020-07-16T00:43:46.476698",
     "exception": false,
     "start_time": "2020-07-16T00:43:46.422709",
     "status": "completed"
    },
    "tags": []
   },
   "outputs": [
    {
     "name": "stdout",
     "output_type": "stream",
     "text": [
      "length of ham_summary:  656100\n"
     ]
    },
    {
     "data": {
      "text/html": [
       "<div>\n",
       "<style scoped>\n",
       "    .dataframe tbody tr th:only-of-type {\n",
       "        vertical-align: middle;\n",
       "    }\n",
       "\n",
       "    .dataframe tbody tr th {\n",
       "        vertical-align: top;\n",
       "    }\n",
       "\n",
       "    .dataframe thead th {\n",
       "        text-align: right;\n",
       "    }\n",
       "</style>\n",
       "<table border=\"1\" class=\"dataframe\">\n",
       "  <thead>\n",
       "    <tr style=\"text-align: right;\">\n",
       "      <th></th>\n",
       "      <th>id</th>\n",
       "      <th>phase</th>\n",
       "      <th>pred_phase</th>\n",
       "      <th>type_of</th>\n",
       "    </tr>\n",
       "  </thead>\n",
       "  <tbody>\n",
       "    <tr>\n",
       "      <th>0</th>\n",
       "      <td>0</td>\n",
       "      <td>999</td>\n",
       "      <td>0</td>\n",
       "      <td>test</td>\n",
       "    </tr>\n",
       "    <tr>\n",
       "      <th>1</th>\n",
       "      <td>0</td>\n",
       "      <td>999</td>\n",
       "      <td>0</td>\n",
       "      <td>test</td>\n",
       "    </tr>\n",
       "    <tr>\n",
       "      <th>2</th>\n",
       "      <td>0</td>\n",
       "      <td>999</td>\n",
       "      <td>0</td>\n",
       "      <td>test</td>\n",
       "    </tr>\n",
       "    <tr>\n",
       "      <th>3</th>\n",
       "      <td>0</td>\n",
       "      <td>999</td>\n",
       "      <td>0</td>\n",
       "      <td>test</td>\n",
       "    </tr>\n",
       "    <tr>\n",
       "      <th>4</th>\n",
       "      <td>0</td>\n",
       "      <td>999</td>\n",
       "      <td>0</td>\n",
       "      <td>test</td>\n",
       "    </tr>\n",
       "    <tr>\n",
       "      <th>...</th>\n",
       "      <td>...</td>\n",
       "      <td>...</td>\n",
       "      <td>...</td>\n",
       "      <td>...</td>\n",
       "    </tr>\n",
       "    <tr>\n",
       "      <th>656095</th>\n",
       "      <td>6560</td>\n",
       "      <td>999</td>\n",
       "      <td>0</td>\n",
       "      <td>test</td>\n",
       "    </tr>\n",
       "    <tr>\n",
       "      <th>656096</th>\n",
       "      <td>6560</td>\n",
       "      <td>999</td>\n",
       "      <td>0</td>\n",
       "      <td>test</td>\n",
       "    </tr>\n",
       "    <tr>\n",
       "      <th>656097</th>\n",
       "      <td>6560</td>\n",
       "      <td>999</td>\n",
       "      <td>0</td>\n",
       "      <td>test</td>\n",
       "    </tr>\n",
       "    <tr>\n",
       "      <th>656098</th>\n",
       "      <td>6560</td>\n",
       "      <td>999</td>\n",
       "      <td>1</td>\n",
       "      <td>test</td>\n",
       "    </tr>\n",
       "    <tr>\n",
       "      <th>656099</th>\n",
       "      <td>6560</td>\n",
       "      <td>999</td>\n",
       "      <td>0</td>\n",
       "      <td>test</td>\n",
       "    </tr>\n",
       "  </tbody>\n",
       "</table>\n",
       "<p>656100 rows × 4 columns</p>\n",
       "</div>"
      ],
      "text/plain": [
       "          id  phase  pred_phase type_of\n",
       "0          0    999           0    test\n",
       "1          0    999           0    test\n",
       "2          0    999           0    test\n",
       "3          0    999           0    test\n",
       "4          0    999           0    test\n",
       "...      ...    ...         ...     ...\n",
       "656095  6560    999           0    test\n",
       "656096  6560    999           0    test\n",
       "656097  6560    999           0    test\n",
       "656098  6560    999           1    test\n",
       "656099  6560    999           0    test\n",
       "\n",
       "[656100 rows x 4 columns]"
      ]
     },
     "execution_count": 33,
     "metadata": {},
     "output_type": "execute_result"
    }
   ],
   "source": [
    "eigen_summary = simulation.eigenvector_summary\n",
    "print(\"length of ham_summary: \", len(eigen_summary))\n",
    "eigen_summary"
   ]
  },
  {
   "cell_type": "markdown",
   "metadata": {
    "papermill": {
     "duration": 0.037017,
     "end_time": "2020-07-16T00:43:46.550825",
     "exception": false,
     "start_time": "2020-07-16T00:43:46.513808",
     "status": "completed"
    },
    "tags": []
   },
   "source": [
    "#### Checking accuracies"
   ]
  },
  {
   "cell_type": "code",
   "execution_count": 34,
   "metadata": {
    "execution": {
     "iopub.execute_input": "2020-07-16T00:43:46.628355Z",
     "iopub.status.busy": "2020-07-16T00:43:46.628018Z",
     "iopub.status.idle": "2020-07-16T00:43:46.638443Z",
     "shell.execute_reply": "2020-07-16T00:43:46.638124Z"
    },
    "papermill": {
     "duration": 0.049983,
     "end_time": "2020-07-16T00:43:46.638495",
     "exception": false,
     "start_time": "2020-07-16T00:43:46.588512",
     "status": "completed"
    },
    "tags": []
   },
   "outputs": [
    {
     "data": {
      "text/plain": [
       "{'eigenvector_train': 0.9818525179856115,\n",
       " 'eigenvector_val': 0.965242,\n",
       " 'eigenvector_test': 0.8135189573459716,\n",
       " 'hamiltonian_train': 1.0,\n",
       " 'hamiltonian_val': 1.0,\n",
       " 'hamiltonian_test': 1.0}"
      ]
     },
     "execution_count": 34,
     "metadata": {},
     "output_type": "execute_result"
    }
   ],
   "source": [
    "simulation.accuracy"
   ]
  },
  {
   "cell_type": "markdown",
   "metadata": {
    "papermill": {
     "duration": 0.0374,
     "end_time": "2020-07-16T00:43:46.713452",
     "exception": false,
     "start_time": "2020-07-16T00:43:46.676052",
     "status": "completed"
    },
    "tags": []
   },
   "source": [
    "#### Checking data stored in  memory"
   ]
  },
  {
   "cell_type": "code",
   "execution_count": 35,
   "metadata": {
    "execution": {
     "iopub.execute_input": "2020-07-16T00:43:46.804609Z",
     "iopub.status.busy": "2020-07-16T00:43:46.804103Z",
     "iopub.status.idle": "2020-07-16T00:43:46.814339Z",
     "shell.execute_reply": "2020-07-16T00:43:46.814643Z"
    },
    "papermill": {
     "duration": 0.062658,
     "end_time": "2020-07-16T00:43:46.814708",
     "exception": false,
     "start_time": "2020-07-16T00:43:46.752050",
     "status": "completed"
    },
    "tags": []
   },
   "outputs": [
    {
     "data": {
      "text/plain": [
       "[]"
      ]
     },
     "execution_count": 35,
     "metadata": {},
     "output_type": "execute_result"
    }
   ],
   "source": [
    "ham_summary_list = simulation.hamiltonian_summary_list\n",
    "ham_summary_list"
   ]
  },
  {
   "cell_type": "code",
   "execution_count": 36,
   "metadata": {
    "execution": {
     "iopub.execute_input": "2020-07-16T00:43:46.891936Z",
     "iopub.status.busy": "2020-07-16T00:43:46.891443Z",
     "iopub.status.idle": "2020-07-16T00:43:46.985412Z",
     "shell.execute_reply": "2020-07-16T00:43:46.984193Z"
    },
    "papermill": {
     "duration": 0.133553,
     "end_time": "2020-07-16T00:43:46.985591",
     "exception": false,
     "start_time": "2020-07-16T00:43:46.852038",
     "status": "completed"
    },
    "tags": []
   },
   "outputs": [
    {
     "data": {
      "text/plain": [
       "[]"
      ]
     },
     "execution_count": 36,
     "metadata": {},
     "output_type": "execute_result"
    }
   ],
   "source": [
    "eigen_summary_list = simulation.eigenvector_summary_list\n",
    "eigen_summary_list"
   ]
  },
  {
   "cell_type": "code",
   "execution_count": 37,
   "metadata": {
    "execution": {
     "iopub.execute_input": "2020-07-16T00:43:47.095068Z",
     "iopub.status.busy": "2020-07-16T00:43:47.094570Z",
     "iopub.status.idle": "2020-07-16T00:43:47.105164Z",
     "shell.execute_reply": "2020-07-16T00:43:47.104848Z"
    },
    "papermill": {
     "duration": 0.050803,
     "end_time": "2020-07-16T00:43:47.105216",
     "exception": false,
     "start_time": "2020-07-16T00:43:47.054413",
     "status": "completed"
    },
    "tags": []
   },
   "outputs": [
    {
     "data": {
      "text/plain": [
       "{'eigenvector_train': [],\n",
       " 'eigenvector_val': [],\n",
       " 'eigenvector_test': [],\n",
       " 'hamiltonian_train': [],\n",
       " 'hamiltonian_val': [],\n",
       " 'hamiltonian_test': []}"
      ]
     },
     "execution_count": 37,
     "metadata": {},
     "output_type": "execute_result"
    }
   ],
   "source": [
    "accuracy_list = simulation.accuracy_list\n",
    "accuracy_list"
   ]
  },
  {
   "cell_type": "code",
   "execution_count": null,
   "metadata": {
    "papermill": {
     "duration": 0.037807,
     "end_time": "2020-07-16T00:43:47.180823",
     "exception": false,
     "start_time": "2020-07-16T00:43:47.143016",
     "status": "completed"
    },
    "tags": []
   },
   "outputs": [],
   "source": []
  },
  {
   "cell_type": "code",
   "execution_count": null,
   "metadata": {
    "papermill": {
     "duration": 0.038274,
     "end_time": "2020-07-16T00:43:47.257504",
     "exception": false,
     "start_time": "2020-07-16T00:43:47.219230",
     "status": "completed"
    },
    "tags": []
   },
   "outputs": [],
   "source": []
  },
  {
   "cell_type": "code",
   "execution_count": 38,
   "metadata": {
    "execution": {
     "iopub.execute_input": "2020-07-16T00:43:47.335746Z",
     "iopub.status.busy": "2020-07-16T00:43:47.335253Z",
     "iopub.status.idle": "2020-07-16T00:43:47.344852Z",
     "shell.execute_reply": "2020-07-16T00:43:47.344530Z"
    },
    "papermill": {
     "duration": 0.049438,
     "end_time": "2020-07-16T00:43:47.344906",
     "exception": false,
     "start_time": "2020-07-16T00:43:47.295468",
     "status": "completed"
    },
    "tags": []
   },
   "outputs": [],
   "source": [
    "#simulation.fourier_matrix"
   ]
  },
  {
   "cell_type": "code",
   "execution_count": 39,
   "metadata": {
    "execution": {
     "iopub.execute_input": "2020-07-16T00:43:47.424318Z",
     "iopub.status.busy": "2020-07-16T00:43:47.423804Z",
     "iopub.status.idle": "2020-07-16T00:43:47.433351Z",
     "shell.execute_reply": "2020-07-16T00:43:47.433678Z"
    },
    "papermill": {
     "duration": 0.050039,
     "end_time": "2020-07-16T00:43:47.433751",
     "exception": false,
     "start_time": "2020-07-16T00:43:47.383712",
     "status": "completed"
    },
    "tags": []
   },
   "outputs": [],
   "source": [
    "#simulation.fourier_matrix.shape"
   ]
  },
  {
   "cell_type": "code",
   "execution_count": 40,
   "metadata": {
    "execution": {
     "iopub.execute_input": "2020-07-16T00:43:47.512105Z",
     "iopub.status.busy": "2020-07-16T00:43:47.511800Z",
     "iopub.status.idle": "2020-07-16T00:43:47.521211Z",
     "shell.execute_reply": "2020-07-16T00:43:47.521464Z"
    },
    "papermill": {
     "duration": 0.049475,
     "end_time": "2020-07-16T00:43:47.521533",
     "exception": false,
     "start_time": "2020-07-16T00:43:47.472058",
     "status": "completed"
    },
    "tags": []
   },
   "outputs": [],
   "source": [
    "#simulation.fourier_matrix[:,0]"
   ]
  },
  {
   "cell_type": "code",
   "execution_count": 41,
   "metadata": {
    "execution": {
     "iopub.execute_input": "2020-07-16T00:43:47.601251Z",
     "iopub.status.busy": "2020-07-16T00:43:47.600946Z",
     "iopub.status.idle": "2020-07-16T00:43:47.610490Z",
     "shell.execute_reply": "2020-07-16T00:43:47.610165Z"
    },
    "papermill": {
     "duration": 0.050066,
     "end_time": "2020-07-16T00:43:47.610544",
     "exception": false,
     "start_time": "2020-07-16T00:43:47.560478",
     "status": "completed"
    },
    "tags": []
   },
   "outputs": [],
   "source": [
    "#simulation.fourier_matrix[:,1]"
   ]
  },
  {
   "cell_type": "code",
   "execution_count": 42,
   "metadata": {
    "execution": {
     "iopub.execute_input": "2020-07-16T00:43:47.688602Z",
     "iopub.status.busy": "2020-07-16T00:43:47.688289Z",
     "iopub.status.idle": "2020-07-16T00:43:47.697787Z",
     "shell.execute_reply": "2020-07-16T00:43:47.697463Z"
    },
    "papermill": {
     "duration": 0.049142,
     "end_time": "2020-07-16T00:43:47.697840",
     "exception": false,
     "start_time": "2020-07-16T00:43:47.648698",
     "status": "completed"
    },
    "tags": []
   },
   "outputs": [],
   "source": [
    "#np.exp(-1j*2*np.pi*3/100)"
   ]
  },
  {
   "cell_type": "code",
   "execution_count": 43,
   "metadata": {
    "execution": {
     "iopub.execute_input": "2020-07-16T00:43:47.777965Z",
     "iopub.status.busy": "2020-07-16T00:43:47.777650Z",
     "iopub.status.idle": "2020-07-16T00:43:47.787251Z",
     "shell.execute_reply": "2020-07-16T00:43:47.786930Z"
    },
    "papermill": {
     "duration": 0.050488,
     "end_time": "2020-07-16T00:43:47.787305",
     "exception": false,
     "start_time": "2020-07-16T00:43:47.736817",
     "status": "completed"
    },
    "tags": []
   },
   "outputs": [],
   "source": [
    "#for i in range(1,50):\n",
    "#    print(\"\\n\")\n",
    "#    print(i)\n",
    "#    print(np.sum((np.real(simulation.fourier_matrix[:,i]) - np.real(simulation.fourier_matrix[:,-i]))**2))\n",
    "#    print(np.sum((np.imag(simulation.fourier_matrix[:,i])+ np.imag(simulation.fourier_matrix[:,-i]))**2))"
   ]
  },
  {
   "cell_type": "code",
   "execution_count": 44,
   "metadata": {
    "execution": {
     "iopub.execute_input": "2020-07-16T00:43:47.866809Z",
     "iopub.status.busy": "2020-07-16T00:43:47.866502Z",
     "iopub.status.idle": "2020-07-16T00:43:47.888312Z",
     "shell.execute_reply": "2020-07-16T00:43:47.887979Z"
    },
    "papermill": {
     "duration": 0.062684,
     "end_time": "2020-07-16T00:43:47.888365",
     "exception": false,
     "start_time": "2020-07-16T00:43:47.825681",
     "status": "completed"
    },
    "tags": []
   },
   "outputs": [],
   "source": [
    "#print(simulation.fourier_matrix[:,0])"
   ]
  },
  {
   "cell_type": "code",
   "execution_count": 45,
   "metadata": {
    "execution": {
     "iopub.execute_input": "2020-07-16T00:43:47.970381Z",
     "iopub.status.busy": "2020-07-16T00:43:47.970071Z",
     "iopub.status.idle": "2020-07-16T00:43:47.979778Z",
     "shell.execute_reply": "2020-07-16T00:43:47.979446Z"
    },
    "papermill": {
     "duration": 0.052283,
     "end_time": "2020-07-16T00:43:47.979832",
     "exception": false,
     "start_time": "2020-07-16T00:43:47.927549",
     "status": "completed"
    },
    "tags": []
   },
   "outputs": [],
   "source": [
    "#print(simulation.fourier_matrix[:,50])"
   ]
  },
  {
   "cell_type": "code",
   "execution_count": null,
   "metadata": {
    "papermill": {
     "duration": 0.038172,
     "end_time": "2020-07-16T00:43:48.056253",
     "exception": false,
     "start_time": "2020-07-16T00:43:48.018081",
     "status": "completed"
    },
    "tags": []
   },
   "outputs": [],
   "source": []
  }
 ],
 "metadata": {
  "celltoolbar": "Tags",
  "kernelspec": {
   "display_name": "ml_top_phases",
   "language": "python",
   "name": "ml_top_phases"
  },
  "language_info": {
   "codemirror_mode": {
    "name": "ipython",
    "version": 3
   },
   "file_extension": ".py",
   "mimetype": "text/x-python",
   "name": "python",
   "nbconvert_exporter": "python",
   "pygments_lexer": "ipython3",
   "version": "3.6.10"
  },
  "papermill": {
   "duration": 980.181076,
   "end_time": "2020-07-16T00:43:48.205605",
   "environment_variables": {},
   "exception": null,
   "input_path": "0_simulation_template.ipynb",
   "output_path": "zzz_simulation_output_ssh1_0th_scenario_100_6561.ipynb",
   "parameters": {
    "allowed_windings": [
     0,
     1
    ],
    "csv_path": "/home/rio/ssh_csvs/ssh1/periodic_100_6561.csv",
    "features_to_use": null,
    "fit_params": null,
    "fourier_features_to_use": null,
    "fourier_fillna": null,
    "fourier_mode": null,
    "fourier_normalize": null,
    "fourier_real": null,
    "model_kw": {
     "criterion": "entropy"
    },
    "model_name": "DecisionTreeClassifier",
    "n_experiments": 100,
    "pred_params": null,
    "random_features": false,
    "random_state": 83649369,
    "save_accuracy": true,
    "save_eigenvector": true,
    "save_hamiltonian": true,
    "save_models": true,
    "shuffle_features": false,
    "shuffle_rows": true,
    "simulation_dir": "/home/rio/ssh_simulations/ssh1/periodic_0th_scenario_100_6561",
    "start_n": 0,
    "store_in_lists": false,
    "val_split": 0.9
   },
   "start_time": "2020-07-16T00:27:28.024529",
   "version": "2.1.0"
  }
 },
 "nbformat": 4,
 "nbformat_minor": 2
}