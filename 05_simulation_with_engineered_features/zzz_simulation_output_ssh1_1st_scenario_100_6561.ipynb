{
 "cells": [
  {
   "cell_type": "markdown",
   "metadata": {
    "papermill": {
     "duration": 0.015164,
     "end_time": "2020-07-08T04:59:30.201246",
     "exception": false,
     "start_time": "2020-07-08T04:59:30.186082",
     "status": "completed"
    },
    "tags": []
   },
   "source": [
    "# Simulation template \n",
    "\n",
    "In this notebook we run the machine learning analysis of topological phase transitions occurring  in both nearest-neighbours SSH models (ssh1) and second neighbours models (ssh2) as decribed in the paper [Machine learning topological phases in real space](https://arxiv.org/abs/1901.01963). Here the simulation is run with features generated from fourier components in the first scenario. This scenario is characterized by using only the EVEN wavevector space eigenmodes, computed from ALL real space components."
   ]
  },
  {
   "cell_type": "markdown",
   "metadata": {
    "papermill": {
     "duration": 0.014838,
     "end_time": "2020-07-08T04:59:30.231738",
     "exception": false,
     "start_time": "2020-07-08T04:59:30.216900",
     "status": "completed"
    },
    "tags": []
   },
   "source": [
    "## Defining parameters"
   ]
  },
  {
   "cell_type": "code",
   "execution_count": 1,
   "metadata": {
    "execution": {
     "iopub.execute_input": "2020-07-08T04:59:30.265807Z",
     "iopub.status.busy": "2020-07-08T04:59:30.265484Z",
     "iopub.status.idle": "2020-07-08T04:59:30.849781Z",
     "shell.execute_reply": "2020-07-08T04:59:30.850037Z"
    },
    "papermill": {
     "duration": 0.60257,
     "end_time": "2020-07-08T04:59:30.850109",
     "exception": false,
     "start_time": "2020-07-08T04:59:30.247539",
     "status": "completed"
    },
    "tags": []
   },
   "outputs": [
    {
     "name": "stdout",
     "output_type": "stream",
     "text": [
      "CPU times: user 744 ms, sys: 265 ms, total: 1.01 s\n",
      "Wall time: 578 ms\n"
     ]
    }
   ],
   "source": [
    "%%time\n",
    "%load_ext autoreload\n",
    "%autoreload 2\n",
    "from simulation import *"
   ]
  },
  {
   "cell_type": "code",
   "execution_count": 2,
   "metadata": {
    "execution": {
     "iopub.execute_input": "2020-07-08T04:59:30.882903Z",
     "iopub.status.busy": "2020-07-08T04:59:30.882507Z",
     "iopub.status.idle": "2020-07-08T04:59:30.893771Z",
     "shell.execute_reply": "2020-07-08T04:59:30.893451Z"
    },
    "papermill": {
     "duration": 0.027847,
     "end_time": "2020-07-08T04:59:30.893824",
     "exception": false,
     "start_time": "2020-07-08T04:59:30.865977",
     "status": "completed"
    },
    "tags": [
     "parameters"
    ]
   },
   "outputs": [
    {
     "name": "stdout",
     "output_type": "stream",
     "text": [
      "CPU times: user 5 µs, sys: 1e+03 ns, total: 6 µs\n",
      "Wall time: 8.11 µs\n"
     ]
    }
   ],
   "source": [
    "%%time\n",
    "### Dataset and simulation parameters\n",
    "#csv_path = SSH2_PERIODIC_100_6561_CSV \n",
    "csv_path = SSH1_PERIODIC_100_6561_CSV \n",
    "model_name = \"DecisionTreeClassifier\"\n",
    "model_kw = {\"criterion\":\"entropy\"}\n",
    "allowed_windings = [0,1]\n",
    "#allowed_windings = [-1,0,1,2]\n",
    "simulation_dir = SSH1_PERIODIC_1ST_SCENARIO_100_6561_SIMULATION_DIR\n",
    "#simulation_dir = SSH2_PERIODIC_ENGINEERED_100_6561_SIMULATION_DIR\n",
    "val_split = 0.9  \n",
    "features_to_use = None\n",
    "shuffle_features = False\n",
    "random_state = 763\n",
    "\n",
    "### Fourier engineered features\n",
    "fourier_features = list(range(0,100,1))\n",
    "mode = \"dft\"\n",
    "real = True\n",
    "normalize = False\n",
    "fillna = False\n",
    "\n",
    "### Running a simulation\n",
    "n_experiments = 5\n",
    "start_n = 0\n",
    "fit_params = None\n",
    "#mode=mode\n",
    "shuffle_rows = True\n",
    "pred_params = None\n",
    "random_features = False\n",
    "######### DON'T SET THIS TO TRUE UNLESS YOUR DATASET IS SMALL!! WILL FLOOD YOUR MEMORY!!!\n",
    "store_in_lists = False   \n",
    "########## BELOW ARE THE PARAMETERS THAT CONTROL WHAT WILL BE SAVED\n",
    "save_eigenvector=True\n",
    "save_hamiltonian=True \n",
    "save_accuracy=True \n",
    "save_models=True"
   ]
  },
  {
   "cell_type": "code",
   "execution_count": 3,
   "metadata": {
    "execution": {
     "iopub.execute_input": "2020-07-08T04:59:30.929473Z",
     "iopub.status.busy": "2020-07-08T04:59:30.929157Z",
     "iopub.status.idle": "2020-07-08T04:59:31.009062Z",
     "shell.execute_reply": "2020-07-08T04:59:31.007282Z"
    },
    "papermill": {
     "duration": 0.098903,
     "end_time": "2020-07-08T04:59:31.009310",
     "exception": false,
     "start_time": "2020-07-08T04:59:30.910407",
     "status": "completed"
    },
    "tags": [
     "injected-parameters"
    ]
   },
   "outputs": [],
   "source": [
    "# Parameters\n",
    "model_kw = {\"criterion\": \"entropy\"}\n",
    "allowed_windings = [0, 1]\n",
    "val_split = 0.9\n",
    "features_to_use = None\n",
    "shuffle_features = False\n",
    "n_experiments = 100\n",
    "start_n = 0\n",
    "fit_params = None\n",
    "shuffle_rows = True\n",
    "pred_params = None\n",
    "random_features = False\n",
    "store_in_lists = False\n",
    "save_eigenvector = True\n",
    "save_hamiltonian = True\n",
    "save_accuracy = True\n",
    "save_models = True\n",
    "csv_path = \"/home/rio/ssh_csvs/ssh1/periodic_100_6561.csv\"\n",
    "model_name = \"DecisionTreeClassifier\"\n",
    "simulation_dir = \"/home/rio/ssh_simulations/ssh1/periodic_1st_scenario_100_6561\"\n",
    "random_state = 467\n",
    "fourier_features = [\n",
    "    0,\n",
    "    1,\n",
    "    2,\n",
    "    3,\n",
    "    4,\n",
    "    5,\n",
    "    6,\n",
    "    7,\n",
    "    8,\n",
    "    9,\n",
    "    10,\n",
    "    11,\n",
    "    12,\n",
    "    13,\n",
    "    14,\n",
    "    15,\n",
    "    16,\n",
    "    17,\n",
    "    18,\n",
    "    19,\n",
    "    20,\n",
    "    21,\n",
    "    22,\n",
    "    23,\n",
    "    24,\n",
    "    25,\n",
    "    26,\n",
    "    27,\n",
    "    28,\n",
    "    29,\n",
    "    30,\n",
    "    31,\n",
    "    32,\n",
    "    33,\n",
    "    34,\n",
    "    35,\n",
    "    36,\n",
    "    37,\n",
    "    38,\n",
    "    39,\n",
    "    40,\n",
    "    41,\n",
    "    42,\n",
    "    43,\n",
    "    44,\n",
    "    45,\n",
    "    46,\n",
    "    47,\n",
    "    48,\n",
    "    49,\n",
    "    50,\n",
    "]\n",
    "mode = \"dft\"\n",
    "real = True\n",
    "normalize = False\n",
    "fillna = False\n"
   ]
  },
  {
   "cell_type": "code",
   "execution_count": 4,
   "metadata": {
    "execution": {
     "iopub.execute_input": "2020-07-08T04:59:31.093162Z",
     "iopub.status.busy": "2020-07-08T04:59:31.092854Z",
     "iopub.status.idle": "2020-07-08T04:59:31.110222Z",
     "shell.execute_reply": "2020-07-08T04:59:31.110524Z"
    },
    "papermill": {
     "duration": 0.047153,
     "end_time": "2020-07-08T04:59:31.110591",
     "exception": false,
     "start_time": "2020-07-08T04:59:31.063438",
     "status": "completed"
    },
    "tags": []
   },
   "outputs": [
    {
     "name": "stdout",
     "output_type": "stream",
     "text": [
      "These are the fourier features\n"
     ]
    },
    {
     "data": {
      "text/plain": [
       "[0,\n",
       " 1,\n",
       " 2,\n",
       " 3,\n",
       " 4,\n",
       " 5,\n",
       " 6,\n",
       " 7,\n",
       " 8,\n",
       " 9,\n",
       " 10,\n",
       " 11,\n",
       " 12,\n",
       " 13,\n",
       " 14,\n",
       " 15,\n",
       " 16,\n",
       " 17,\n",
       " 18,\n",
       " 19,\n",
       " 20,\n",
       " 21,\n",
       " 22,\n",
       " 23,\n",
       " 24,\n",
       " 25,\n",
       " 26,\n",
       " 27,\n",
       " 28,\n",
       " 29,\n",
       " 30,\n",
       " 31,\n",
       " 32,\n",
       " 33,\n",
       " 34,\n",
       " 35,\n",
       " 36,\n",
       " 37,\n",
       " 38,\n",
       " 39,\n",
       " 40,\n",
       " 41,\n",
       " 42,\n",
       " 43,\n",
       " 44,\n",
       " 45,\n",
       " 46,\n",
       " 47,\n",
       " 48,\n",
       " 49,\n",
       " 50]"
      ]
     },
     "execution_count": 4,
     "metadata": {},
     "output_type": "execute_result"
    }
   ],
   "source": [
    "print(\"These are the fourier features\")\n",
    "fourier_features"
   ]
  },
  {
   "cell_type": "code",
   "execution_count": 5,
   "metadata": {
    "execution": {
     "iopub.execute_input": "2020-07-08T04:59:31.144556Z",
     "iopub.status.busy": "2020-07-08T04:59:31.144229Z",
     "iopub.status.idle": "2020-07-08T04:59:36.480526Z",
     "shell.execute_reply": "2020-07-08T04:59:36.480828Z"
    },
    "papermill": {
     "duration": 5.354609,
     "end_time": "2020-07-08T04:59:36.480893",
     "exception": false,
     "start_time": "2020-07-08T04:59:31.126284",
     "status": "completed"
    },
    "tags": []
   },
   "outputs": [
    {
     "name": "stdout",
     "output_type": "stream",
     "text": [
      "Info on all data: \n",
      "\n",
      "<class 'pandas.core.frame.DataFrame'>\n",
      "Int64Index: 656100 entries, 0 to 656099\n",
      "Columns: 108 entries, id to feat99\n",
      "dtypes: float64(103), int32(3), object(2)\n",
      "memory usage: 538.1+ MB\n",
      "CPU times: user 4.97 s, sys: 267 ms, total: 5.23 s\n",
      "Wall time: 5.23 s\n"
     ]
    },
    {
     "data": {
      "text/html": [
       "<div>\n",
       "<style scoped>\n",
       "    .dataframe tbody tr th:only-of-type {\n",
       "        vertical-align: middle;\n",
       "    }\n",
       "\n",
       "    .dataframe tbody tr th {\n",
       "        vertical-align: top;\n",
       "    }\n",
       "\n",
       "    .dataframe thead th {\n",
       "        text-align: right;\n",
       "    }\n",
       "</style>\n",
       "<table border=\"1\" class=\"dataframe\">\n",
       "  <thead>\n",
       "    <tr style=\"text-align: right;\">\n",
       "      <th></th>\n",
       "      <th>id</th>\n",
       "      <th>path</th>\n",
       "      <th>t1</th>\n",
       "      <th>t2</th>\n",
       "      <th>winding</th>\n",
       "      <th>phase</th>\n",
       "      <th>pred_phase</th>\n",
       "      <th>type_of</th>\n",
       "      <th>feat0</th>\n",
       "      <th>feat1</th>\n",
       "      <th>...</th>\n",
       "      <th>feat90</th>\n",
       "      <th>feat91</th>\n",
       "      <th>feat92</th>\n",
       "      <th>feat93</th>\n",
       "      <th>feat94</th>\n",
       "      <th>feat95</th>\n",
       "      <th>feat96</th>\n",
       "      <th>feat97</th>\n",
       "      <th>feat98</th>\n",
       "      <th>feat99</th>\n",
       "    </tr>\n",
       "  </thead>\n",
       "  <tbody>\n",
       "    <tr>\n",
       "      <th>0</th>\n",
       "      <td>0</td>\n",
       "      <td>H_-2_-2_0.509296.dat</td>\n",
       "      <td>-2.0</td>\n",
       "      <td>-2.0</td>\n",
       "      <td>0.509296</td>\n",
       "      <td>999</td>\n",
       "      <td>666</td>\n",
       "      <td>test</td>\n",
       "      <td>0.100000</td>\n",
       "      <td>0.100000</td>\n",
       "      <td>...</td>\n",
       "      <td>0.100000</td>\n",
       "      <td>0.100000</td>\n",
       "      <td>0.100000</td>\n",
       "      <td>0.100000</td>\n",
       "      <td>0.100000</td>\n",
       "      <td>0.100000</td>\n",
       "      <td>0.100000</td>\n",
       "      <td>0.100000</td>\n",
       "      <td>0.100000</td>\n",
       "      <td>0.100000</td>\n",
       "    </tr>\n",
       "    <tr>\n",
       "      <th>1</th>\n",
       "      <td>0</td>\n",
       "      <td>H_-2_-2_0.509296.dat</td>\n",
       "      <td>-2.0</td>\n",
       "      <td>-2.0</td>\n",
       "      <td>0.509296</td>\n",
       "      <td>999</td>\n",
       "      <td>666</td>\n",
       "      <td>test</td>\n",
       "      <td>0.141421</td>\n",
       "      <td>0.141142</td>\n",
       "      <td>...</td>\n",
       "      <td>0.114412</td>\n",
       "      <td>0.108967</td>\n",
       "      <td>0.123928</td>\n",
       "      <td>0.119406</td>\n",
       "      <td>0.131490</td>\n",
       "      <td>0.127962</td>\n",
       "      <td>0.136978</td>\n",
       "      <td>0.134500</td>\n",
       "      <td>0.140306</td>\n",
       "      <td>0.138916</td>\n",
       "    </tr>\n",
       "    <tr>\n",
       "      <th>2</th>\n",
       "      <td>0</td>\n",
       "      <td>H_-2_-2_0.509296.dat</td>\n",
       "      <td>-2.0</td>\n",
       "      <td>-2.0</td>\n",
       "      <td>0.509296</td>\n",
       "      <td>999</td>\n",
       "      <td>666</td>\n",
       "      <td>test</td>\n",
       "      <td>0.141421</td>\n",
       "      <td>0.140306</td>\n",
       "      <td>...</td>\n",
       "      <td>0.043702</td>\n",
       "      <td>0.026500</td>\n",
       "      <td>0.075777</td>\n",
       "      <td>0.060214</td>\n",
       "      <td>0.103092</td>\n",
       "      <td>0.090145</td>\n",
       "      <td>0.123928</td>\n",
       "      <td>0.114412</td>\n",
       "      <td>0.136978</td>\n",
       "      <td>0.131490</td>\n",
       "    </tr>\n",
       "    <tr>\n",
       "      <th>3</th>\n",
       "      <td>0</td>\n",
       "      <td>H_-2_-2_0.509296.dat</td>\n",
       "      <td>-2.0</td>\n",
       "      <td>-2.0</td>\n",
       "      <td>0.509296</td>\n",
       "      <td>999</td>\n",
       "      <td>666</td>\n",
       "      <td>test</td>\n",
       "      <td>-0.100000</td>\n",
       "      <td>0.100000</td>\n",
       "      <td>...</td>\n",
       "      <td>-0.100000</td>\n",
       "      <td>0.100000</td>\n",
       "      <td>-0.100000</td>\n",
       "      <td>0.100000</td>\n",
       "      <td>-0.100000</td>\n",
       "      <td>0.100000</td>\n",
       "      <td>-0.100000</td>\n",
       "      <td>0.100000</td>\n",
       "      <td>-0.100000</td>\n",
       "      <td>0.100000</td>\n",
       "    </tr>\n",
       "    <tr>\n",
       "      <th>4</th>\n",
       "      <td>0</td>\n",
       "      <td>H_-2_-2_0.509296.dat</td>\n",
       "      <td>-2.0</td>\n",
       "      <td>-2.0</td>\n",
       "      <td>0.509296</td>\n",
       "      <td>999</td>\n",
       "      <td>666</td>\n",
       "      <td>test</td>\n",
       "      <td>0.000509</td>\n",
       "      <td>-0.008372</td>\n",
       "      <td>...</td>\n",
       "      <td>-0.082713</td>\n",
       "      <td>-0.089753</td>\n",
       "      <td>-0.067684</td>\n",
       "      <td>-0.075347</td>\n",
       "      <td>-0.051587</td>\n",
       "      <td>-0.059753</td>\n",
       "      <td>-0.034677</td>\n",
       "      <td>-0.043217</td>\n",
       "      <td>-0.017220</td>\n",
       "      <td>-0.026000</td>\n",
       "    </tr>\n",
       "  </tbody>\n",
       "</table>\n",
       "<p>5 rows × 108 columns</p>\n",
       "</div>"
      ],
      "text/plain": [
       "   id                  path   t1   t2   winding  phase  pred_phase type_of  \\\n",
       "0   0  H_-2_-2_0.509296.dat -2.0 -2.0  0.509296    999         666    test   \n",
       "1   0  H_-2_-2_0.509296.dat -2.0 -2.0  0.509296    999         666    test   \n",
       "2   0  H_-2_-2_0.509296.dat -2.0 -2.0  0.509296    999         666    test   \n",
       "3   0  H_-2_-2_0.509296.dat -2.0 -2.0  0.509296    999         666    test   \n",
       "4   0  H_-2_-2_0.509296.dat -2.0 -2.0  0.509296    999         666    test   \n",
       "\n",
       "      feat0     feat1  ...    feat90    feat91    feat92    feat93    feat94  \\\n",
       "0  0.100000  0.100000  ...  0.100000  0.100000  0.100000  0.100000  0.100000   \n",
       "1  0.141421  0.141142  ...  0.114412  0.108967  0.123928  0.119406  0.131490   \n",
       "2  0.141421  0.140306  ...  0.043702  0.026500  0.075777  0.060214  0.103092   \n",
       "3 -0.100000  0.100000  ... -0.100000  0.100000 -0.100000  0.100000 -0.100000   \n",
       "4  0.000509 -0.008372  ... -0.082713 -0.089753 -0.067684 -0.075347 -0.051587   \n",
       "\n",
       "     feat95    feat96    feat97    feat98    feat99  \n",
       "0  0.100000  0.100000  0.100000  0.100000  0.100000  \n",
       "1  0.127962  0.136978  0.134500  0.140306  0.138916  \n",
       "2  0.090145  0.123928  0.114412  0.136978  0.131490  \n",
       "3  0.100000 -0.100000  0.100000 -0.100000  0.100000  \n",
       "4 -0.059753 -0.034677 -0.043217 -0.017220 -0.026000  \n",
       "\n",
       "[5 rows x 108 columns]"
      ]
     },
     "execution_count": 5,
     "metadata": {},
     "output_type": "execute_result"
    }
   ],
   "source": [
    "%%time\n",
    "#Starting an instance of Simulation with a decision tree\n",
    "model = DecisionTreeClassifier(criterion=\"entropy\")\n",
    "#dict_args = {\"csv_path\":csv_path, \"model\":model, \"allowed_windings\":allowed_windings,\\\n",
    "#             \"simulation_dir\":simulation_dir, \"val_split\":val_split, \"features_to_use\":features_to_use,\\\n",
    "#            \"shuffle_features\":shuffle_features, \"random_state\":random_state}\n",
    "simulation = Simulation(csv_path,model_name,model_kw,allowed_windings,simulation_dir,val_split,features_to_use,\\\n",
    "                       shuffle_features,random_state)\n",
    "#simulation = Simulation(**dict_args)\n",
    "\n",
    "print(\"Info on all data: \\n\")\n",
    "simulation.dataframe.info()\n",
    "simulation.dataframe.head()"
   ]
  },
  {
   "cell_type": "markdown",
   "metadata": {
    "papermill": {
     "duration": 0.018887,
     "end_time": "2020-07-08T04:59:36.516909",
     "exception": false,
     "start_time": "2020-07-08T04:59:36.498022",
     "status": "completed"
    },
    "tags": []
   },
   "source": [
    "#### Generating Fourier engineered features"
   ]
  },
  {
   "cell_type": "code",
   "execution_count": 6,
   "metadata": {
    "execution": {
     "iopub.execute_input": "2020-07-08T04:59:36.553432Z",
     "iopub.status.busy": "2020-07-08T04:59:36.553124Z",
     "iopub.status.idle": "2020-07-08T04:59:37.461528Z",
     "shell.execute_reply": "2020-07-08T04:59:37.461212Z"
    },
    "papermill": {
     "duration": 0.926429,
     "end_time": "2020-07-08T04:59:37.461578",
     "exception": false,
     "start_time": "2020-07-08T04:59:36.535149",
     "status": "completed"
    },
    "tags": []
   },
   "outputs": [
    {
     "name": "stdout",
     "output_type": "stream",
     "text": [
      "<class 'pandas.core.frame.DataFrame'>\n",
      "Int64Index: 656100 entries, 0 to 656099\n",
      "Data columns (total 59 columns):\n",
      " #   Column      Non-Null Count   Dtype  \n",
      "---  ------      --------------   -----  \n",
      " 0   id          656100 non-null  int32  \n",
      " 1   path        656100 non-null  object \n",
      " 2   t1          656100 non-null  float64\n",
      " 3   t2          656100 non-null  float64\n",
      " 4   winding     656100 non-null  float64\n",
      " 5   phase       656100 non-null  int32  \n",
      " 6   pred_phase  656100 non-null  int32  \n",
      " 7   type_of     656100 non-null  object \n",
      " 8   dft_feat0   656100 non-null  float64\n",
      " 9   dft_feat1   656100 non-null  float64\n",
      " 10  dft_feat2   656100 non-null  float64\n",
      " 11  dft_feat3   656100 non-null  float64\n",
      " 12  dft_feat4   656100 non-null  float64\n",
      " 13  dft_feat5   656100 non-null  float64\n",
      " 14  dft_feat6   656100 non-null  float64\n",
      " 15  dft_feat7   656100 non-null  float64\n",
      " 16  dft_feat8   656100 non-null  float64\n",
      " 17  dft_feat9   656100 non-null  float64\n",
      " 18  dft_feat10  656100 non-null  float64\n",
      " 19  dft_feat11  656100 non-null  float64\n",
      " 20  dft_feat12  656100 non-null  float64\n",
      " 21  dft_feat13  656100 non-null  float64\n",
      " 22  dft_feat14  656100 non-null  float64\n",
      " 23  dft_feat15  656100 non-null  float64\n",
      " 24  dft_feat16  656100 non-null  float64\n",
      " 25  dft_feat17  656100 non-null  float64\n",
      " 26  dft_feat18  656100 non-null  float64\n",
      " 27  dft_feat19  656100 non-null  float64\n",
      " 28  dft_feat20  656100 non-null  float64\n",
      " 29  dft_feat21  656100 non-null  float64\n",
      " 30  dft_feat22  656100 non-null  float64\n",
      " 31  dft_feat23  656100 non-null  float64\n",
      " 32  dft_feat24  656100 non-null  float64\n",
      " 33  dft_feat25  656100 non-null  float64\n",
      " 34  dft_feat26  656100 non-null  float64\n",
      " 35  dft_feat27  656100 non-null  float64\n",
      " 36  dft_feat28  656100 non-null  float64\n",
      " 37  dft_feat29  656100 non-null  float64\n",
      " 38  dft_feat30  656100 non-null  float64\n",
      " 39  dft_feat31  656100 non-null  float64\n",
      " 40  dft_feat32  656100 non-null  float64\n",
      " 41  dft_feat33  656100 non-null  float64\n",
      " 42  dft_feat34  656100 non-null  float64\n",
      " 43  dft_feat35  656100 non-null  float64\n",
      " 44  dft_feat36  656100 non-null  float64\n",
      " 45  dft_feat37  656100 non-null  float64\n",
      " 46  dft_feat38  656100 non-null  float64\n",
      " 47  dft_feat39  656100 non-null  float64\n",
      " 48  dft_feat40  656100 non-null  float64\n",
      " 49  dft_feat41  656100 non-null  float64\n",
      " 50  dft_feat42  656100 non-null  float64\n",
      " 51  dft_feat43  656100 non-null  float64\n",
      " 52  dft_feat44  656100 non-null  float64\n",
      " 53  dft_feat45  656100 non-null  float64\n",
      " 54  dft_feat46  656100 non-null  float64\n",
      " 55  dft_feat47  656100 non-null  float64\n",
      " 56  dft_feat48  656100 non-null  float64\n",
      " 57  dft_feat49  656100 non-null  float64\n",
      " 58  dft_feat50  656100 non-null  float64\n",
      "dtypes: float64(54), int32(3), object(2)\n",
      "memory usage: 292.8+ MB\n",
      "CPU times: user 2.5 s, sys: 439 ms, total: 2.94 s\n",
      "Wall time: 880 ms\n"
     ]
    },
    {
     "data": {
      "text/html": [
       "<div>\n",
       "<style scoped>\n",
       "    .dataframe tbody tr th:only-of-type {\n",
       "        vertical-align: middle;\n",
       "    }\n",
       "\n",
       "    .dataframe tbody tr th {\n",
       "        vertical-align: top;\n",
       "    }\n",
       "\n",
       "    .dataframe thead th {\n",
       "        text-align: right;\n",
       "    }\n",
       "</style>\n",
       "<table border=\"1\" class=\"dataframe\">\n",
       "  <thead>\n",
       "    <tr style=\"text-align: right;\">\n",
       "      <th></th>\n",
       "      <th>id</th>\n",
       "      <th>path</th>\n",
       "      <th>t1</th>\n",
       "      <th>t2</th>\n",
       "      <th>winding</th>\n",
       "      <th>phase</th>\n",
       "      <th>pred_phase</th>\n",
       "      <th>type_of</th>\n",
       "      <th>dft_feat0</th>\n",
       "      <th>dft_feat1</th>\n",
       "      <th>...</th>\n",
       "      <th>dft_feat41</th>\n",
       "      <th>dft_feat42</th>\n",
       "      <th>dft_feat43</th>\n",
       "      <th>dft_feat44</th>\n",
       "      <th>dft_feat45</th>\n",
       "      <th>dft_feat46</th>\n",
       "      <th>dft_feat47</th>\n",
       "      <th>dft_feat48</th>\n",
       "      <th>dft_feat49</th>\n",
       "      <th>dft_feat50</th>\n",
       "    </tr>\n",
       "  </thead>\n",
       "  <tbody>\n",
       "    <tr>\n",
       "      <th>469427</th>\n",
       "      <td>4694</td>\n",
       "      <td>H_0.85_1.85_1.00495.dat</td>\n",
       "      <td>0.85</td>\n",
       "      <td>1.85</td>\n",
       "      <td>1.004946</td>\n",
       "      <td>1</td>\n",
       "      <td>666</td>\n",
       "      <td>train</td>\n",
       "      <td>6.245005e-17</td>\n",
       "      <td>4.024447e-16</td>\n",
       "      <td>...</td>\n",
       "      <td>8.190231e-15</td>\n",
       "      <td>-5.608383e-07</td>\n",
       "      <td>1.301544e-14</td>\n",
       "      <td>-5.771375e+00</td>\n",
       "      <td>-1.900532e-14</td>\n",
       "      <td>2.588154e-06</td>\n",
       "      <td>-2.680790e-15</td>\n",
       "      <td>-3.452127e-06</td>\n",
       "      <td>-2.107027e-15</td>\n",
       "      <td>4.000000e-06</td>\n",
       "    </tr>\n",
       "    <tr>\n",
       "      <th>601202</th>\n",
       "      <td>6012</td>\n",
       "      <td>H_1.7_-1.1_0.00105128.dat</td>\n",
       "      <td>1.70</td>\n",
       "      <td>-1.10</td>\n",
       "      <td>0.001051</td>\n",
       "      <td>0</td>\n",
       "      <td>666</td>\n",
       "      <td>train</td>\n",
       "      <td>1.000000e+01</td>\n",
       "      <td>-9.492516e-16</td>\n",
       "      <td>...</td>\n",
       "      <td>2.002041e-15</td>\n",
       "      <td>9.939958e-15</td>\n",
       "      <td>7.887867e-16</td>\n",
       "      <td>-6.447230e-15</td>\n",
       "      <td>7.385700e-16</td>\n",
       "      <td>3.397457e-15</td>\n",
       "      <td>7.186017e-15</td>\n",
       "      <td>5.637201e-15</td>\n",
       "      <td>-9.492396e-15</td>\n",
       "      <td>7.521761e-16</td>\n",
       "    </tr>\n",
       "    <tr>\n",
       "      <th>593580</th>\n",
       "      <td>5935</td>\n",
       "      <td>H_1.65_-0.9_0.000944438.dat</td>\n",
       "      <td>1.65</td>\n",
       "      <td>-0.90</td>\n",
       "      <td>0.000944</td>\n",
       "      <td>0</td>\n",
       "      <td>666</td>\n",
       "      <td>train</td>\n",
       "      <td>-2.775558e-17</td>\n",
       "      <td>5.845772e-06</td>\n",
       "      <td>...</td>\n",
       "      <td>-8.867757e-07</td>\n",
       "      <td>-1.533267e-15</td>\n",
       "      <td>-2.119552e-06</td>\n",
       "      <td>5.394179e-15</td>\n",
       "      <td>4.980283e-15</td>\n",
       "      <td>3.044913e-15</td>\n",
       "      <td>4.023234e-06</td>\n",
       "      <td>1.640196e-15</td>\n",
       "      <td>-2.126690e-07</td>\n",
       "      <td>1.047150e-15</td>\n",
       "    </tr>\n",
       "    <tr>\n",
       "      <th>124953</th>\n",
       "      <td>1249</td>\n",
       "      <td>H_-1.25_-0.3_-0.000844261.dat</td>\n",
       "      <td>-1.25</td>\n",
       "      <td>-0.30</td>\n",
       "      <td>-0.000844</td>\n",
       "      <td>0</td>\n",
       "      <td>666</td>\n",
       "      <td>train</td>\n",
       "      <td>-5.551115e-17</td>\n",
       "      <td>6.205892e-16</td>\n",
       "      <td>...</td>\n",
       "      <td>1.131202e-15</td>\n",
       "      <td>6.007705e-15</td>\n",
       "      <td>1.145062e-15</td>\n",
       "      <td>3.408148e-15</td>\n",
       "      <td>-1.321336e-05</td>\n",
       "      <td>7.576561e-15</td>\n",
       "      <td>-4.383038e-16</td>\n",
       "      <td>-4.726734e-15</td>\n",
       "      <td>-7.854553e-16</td>\n",
       "      <td>1.112428e-16</td>\n",
       "    </tr>\n",
       "    <tr>\n",
       "      <th>358332</th>\n",
       "      <td>3583</td>\n",
       "      <td>H_0.2_-1.05_1.00225.dat</td>\n",
       "      <td>0.20</td>\n",
       "      <td>-1.05</td>\n",
       "      <td>1.002248</td>\n",
       "      <td>1</td>\n",
       "      <td>666</td>\n",
       "      <td>train</td>\n",
       "      <td>2.000000e-06</td>\n",
       "      <td>1.739454e-15</td>\n",
       "      <td>...</td>\n",
       "      <td>-1.757944e-16</td>\n",
       "      <td>3.814237e-06</td>\n",
       "      <td>-2.289734e-15</td>\n",
       "      <td>-8.367544e-07</td>\n",
       "      <td>-1.253711e-14</td>\n",
       "      <td>2.761967e+00</td>\n",
       "      <td>5.769829e-15</td>\n",
       "      <td>1.715976e-06</td>\n",
       "      <td>-5.327448e-16</td>\n",
       "      <td>6.000000e-06</td>\n",
       "    </tr>\n",
       "    <tr>\n",
       "      <th>563004</th>\n",
       "      <td>5630</td>\n",
       "      <td>H_1.45_0.05_-9.55277e-05.dat</td>\n",
       "      <td>1.45</td>\n",
       "      <td>0.05</td>\n",
       "      <td>-0.000096</td>\n",
       "      <td>0</td>\n",
       "      <td>666</td>\n",
       "      <td>train</td>\n",
       "      <td>1.446759e-15</td>\n",
       "      <td>1.320857e-01</td>\n",
       "      <td>...</td>\n",
       "      <td>-5.755989e-06</td>\n",
       "      <td>1.906510e-15</td>\n",
       "      <td>2.034322e-06</td>\n",
       "      <td>-1.583551e-15</td>\n",
       "      <td>3.902113e-06</td>\n",
       "      <td>5.967020e-16</td>\n",
       "      <td>-3.079103e-06</td>\n",
       "      <td>5.603366e-15</td>\n",
       "      <td>-2.368325e-01</td>\n",
       "      <td>1.804090e-17</td>\n",
       "    </tr>\n",
       "    <tr>\n",
       "      <th>254126</th>\n",
       "      <td>2541</td>\n",
       "      <td>H_-0.45_-0.5_1.02497.dat</td>\n",
       "      <td>-0.45</td>\n",
       "      <td>-0.50</td>\n",
       "      <td>1.024967</td>\n",
       "      <td>1</td>\n",
       "      <td>666</td>\n",
       "      <td>test</td>\n",
       "      <td>0.000000e+00</td>\n",
       "      <td>6.807533e-16</td>\n",
       "      <td>...</td>\n",
       "      <td>9.314244e-16</td>\n",
       "      <td>1.590834e-15</td>\n",
       "      <td>-4.389450e-16</td>\n",
       "      <td>3.874097e-15</td>\n",
       "      <td>2.474566e-06</td>\n",
       "      <td>6.114609e-15</td>\n",
       "      <td>-1.174728e-15</td>\n",
       "      <td>-3.459294e-15</td>\n",
       "      <td>3.150060e-17</td>\n",
       "      <td>-2.342460e-18</td>\n",
       "    </tr>\n",
       "    <tr>\n",
       "      <th>211093</th>\n",
       "      <td>2110</td>\n",
       "      <td>H_-0.7_-1.8_1.00438.dat</td>\n",
       "      <td>-0.70</td>\n",
       "      <td>-1.80</td>\n",
       "      <td>1.004376</td>\n",
       "      <td>1</td>\n",
       "      <td>666</td>\n",
       "      <td>train</td>\n",
       "      <td>0.000000e+00</td>\n",
       "      <td>1.496002e-16</td>\n",
       "      <td>...</td>\n",
       "      <td>-9.452273e-16</td>\n",
       "      <td>2.386653e-06</td>\n",
       "      <td>6.300858e-16</td>\n",
       "      <td>1.770021e-06</td>\n",
       "      <td>5.037781e-15</td>\n",
       "      <td>-1.806121e-06</td>\n",
       "      <td>5.910263e-15</td>\n",
       "      <td>4.576047e-06</td>\n",
       "      <td>6.453476e-15</td>\n",
       "      <td>-1.056988e-15</td>\n",
       "    </tr>\n",
       "    <tr>\n",
       "      <th>109799</th>\n",
       "      <td>1097</td>\n",
       "      <td>H_-1.35_0.2_0.000345206.dat</td>\n",
       "      <td>-1.35</td>\n",
       "      <td>0.20</td>\n",
       "      <td>0.000345</td>\n",
       "      <td>0</td>\n",
       "      <td>666</td>\n",
       "      <td>train</td>\n",
       "      <td>1.387779e-17</td>\n",
       "      <td>9.982373e-08</td>\n",
       "      <td>...</td>\n",
       "      <td>-2.818078e-08</td>\n",
       "      <td>3.823502e-16</td>\n",
       "      <td>6.817854e-07</td>\n",
       "      <td>-2.540961e-15</td>\n",
       "      <td>1.902113e-06</td>\n",
       "      <td>8.053333e-15</td>\n",
       "      <td>1.750815e-06</td>\n",
       "      <td>3.973359e-15</td>\n",
       "      <td>-6.541241e-06</td>\n",
       "      <td>-6.489294e-16</td>\n",
       "    </tr>\n",
       "    <tr>\n",
       "      <th>335269</th>\n",
       "      <td>3352</td>\n",
       "      <td>H_0.05_-0.45_1.00241.dat</td>\n",
       "      <td>0.05</td>\n",
       "      <td>-0.45</td>\n",
       "      <td>1.002409</td>\n",
       "      <td>1</td>\n",
       "      <td>666</td>\n",
       "      <td>train</td>\n",
       "      <td>0.000000e+00</td>\n",
       "      <td>2.472238e-06</td>\n",
       "      <td>...</td>\n",
       "      <td>4.990909e-06</td>\n",
       "      <td>7.368209e-16</td>\n",
       "      <td>6.340516e-06</td>\n",
       "      <td>-2.239277e-15</td>\n",
       "      <td>-4.987589e-08</td>\n",
       "      <td>1.124314e-15</td>\n",
       "      <td>-1.621619e-06</td>\n",
       "      <td>-2.839265e-15</td>\n",
       "      <td>2.200953e-06</td>\n",
       "      <td>-2.363842e-16</td>\n",
       "    </tr>\n",
       "    <tr>\n",
       "      <th>377625</th>\n",
       "      <td>3776</td>\n",
       "      <td>H_0.3_0.5_1.00667.dat</td>\n",
       "      <td>0.30</td>\n",
       "      <td>0.50</td>\n",
       "      <td>1.006672</td>\n",
       "      <td>1</td>\n",
       "      <td>666</td>\n",
       "      <td>train</td>\n",
       "      <td>0.000000e+00</td>\n",
       "      <td>1.092854e-15</td>\n",
       "      <td>...</td>\n",
       "      <td>-4.195935e-15</td>\n",
       "      <td>3.524467e-07</td>\n",
       "      <td>-9.025297e-15</td>\n",
       "      <td>2.754206e+00</td>\n",
       "      <td>5.779141e-15</td>\n",
       "      <td>-1.861472e-07</td>\n",
       "      <td>2.184145e-15</td>\n",
       "      <td>4.894586e-07</td>\n",
       "      <td>3.815876e-15</td>\n",
       "      <td>4.000000e-06</td>\n",
       "    </tr>\n",
       "    <tr>\n",
       "      <th>432932</th>\n",
       "      <td>4329</td>\n",
       "      <td>H_0.65_-0.2_0.000629563.dat</td>\n",
       "      <td>0.65</td>\n",
       "      <td>-0.20</td>\n",
       "      <td>0.000630</td>\n",
       "      <td>0</td>\n",
       "      <td>666</td>\n",
       "      <td>train</td>\n",
       "      <td>4.440892e-16</td>\n",
       "      <td>-7.056804e+00</td>\n",
       "      <td>...</td>\n",
       "      <td>1.527764e-06</td>\n",
       "      <td>5.537711e-15</td>\n",
       "      <td>6.686934e-07</td>\n",
       "      <td>7.741840e-15</td>\n",
       "      <td>-5.597831e-06</td>\n",
       "      <td>-1.216181e-15</td>\n",
       "      <td>1.906355e-06</td>\n",
       "      <td>-5.927037e-15</td>\n",
       "      <td>-1.650404e-03</td>\n",
       "      <td>-1.248094e-15</td>\n",
       "    </tr>\n",
       "    <tr>\n",
       "      <th>461538</th>\n",
       "      <td>4615</td>\n",
       "      <td>H_0.8_1.95_1.00453.dat</td>\n",
       "      <td>0.80</td>\n",
       "      <td>1.95</td>\n",
       "      <td>1.004534</td>\n",
       "      <td>1</td>\n",
       "      <td>666</td>\n",
       "      <td>train</td>\n",
       "      <td>-1.908196e-16</td>\n",
       "      <td>-2.157862e-16</td>\n",
       "      <td>...</td>\n",
       "      <td>-1.652544e-14</td>\n",
       "      <td>4.713431e+00</td>\n",
       "      <td>2.303731e-14</td>\n",
       "      <td>1.381301e-06</td>\n",
       "      <td>-8.494287e-16</td>\n",
       "      <td>-1.375352e-06</td>\n",
       "      <td>5.795998e-15</td>\n",
       "      <td>-4.438925e-06</td>\n",
       "      <td>6.754239e-15</td>\n",
       "      <td>-4.000000e-06</td>\n",
       "    </tr>\n",
       "    <tr>\n",
       "      <th>178965</th>\n",
       "      <td>1789</td>\n",
       "      <td>H_-0.9_-1.65_1.00588.dat</td>\n",
       "      <td>-0.90</td>\n",
       "      <td>-1.65</td>\n",
       "      <td>1.005876</td>\n",
       "      <td>1</td>\n",
       "      <td>666</td>\n",
       "      <td>train</td>\n",
       "      <td>4.000000e-06</td>\n",
       "      <td>-5.904272e-17</td>\n",
       "      <td>...</td>\n",
       "      <td>-2.256864e-15</td>\n",
       "      <td>-1.388567e-06</td>\n",
       "      <td>-1.492806e-17</td>\n",
       "      <td>-5.709989e-07</td>\n",
       "      <td>2.067094e-15</td>\n",
       "      <td>3.598066e-07</td>\n",
       "      <td>-5.915512e-15</td>\n",
       "      <td>2.855035e-07</td>\n",
       "      <td>6.103368e-15</td>\n",
       "      <td>4.000000e-06</td>\n",
       "    </tr>\n",
       "    <tr>\n",
       "      <th>187463</th>\n",
       "      <td>1874</td>\n",
       "      <td>H_-0.85_-1.45_1.00645.dat</td>\n",
       "      <td>-0.85</td>\n",
       "      <td>-1.45</td>\n",
       "      <td>1.006451</td>\n",
       "      <td>1</td>\n",
       "      <td>666</td>\n",
       "      <td>train</td>\n",
       "      <td>0.000000e+00</td>\n",
       "      <td>-7.921730e-17</td>\n",
       "      <td>...</td>\n",
       "      <td>-8.289811e-16</td>\n",
       "      <td>1.771390e-14</td>\n",
       "      <td>2.896663e-15</td>\n",
       "      <td>-3.692602e-16</td>\n",
       "      <td>-1.430563e-15</td>\n",
       "      <td>1.297828e-14</td>\n",
       "      <td>5.191722e-15</td>\n",
       "      <td>1.769748e-15</td>\n",
       "      <td>6.023739e-15</td>\n",
       "      <td>1.367592e-15</td>\n",
       "    </tr>\n",
       "  </tbody>\n",
       "</table>\n",
       "<p>15 rows × 59 columns</p>\n",
       "</div>"
      ],
      "text/plain": [
       "          id                           path    t1    t2   winding  phase  \\\n",
       "469427  4694        H_0.85_1.85_1.00495.dat  0.85  1.85  1.004946      1   \n",
       "601202  6012      H_1.7_-1.1_0.00105128.dat  1.70 -1.10  0.001051      0   \n",
       "593580  5935    H_1.65_-0.9_0.000944438.dat  1.65 -0.90  0.000944      0   \n",
       "124953  1249  H_-1.25_-0.3_-0.000844261.dat -1.25 -0.30 -0.000844      0   \n",
       "358332  3583        H_0.2_-1.05_1.00225.dat  0.20 -1.05  1.002248      1   \n",
       "563004  5630   H_1.45_0.05_-9.55277e-05.dat  1.45  0.05 -0.000096      0   \n",
       "254126  2541       H_-0.45_-0.5_1.02497.dat -0.45 -0.50  1.024967      1   \n",
       "211093  2110        H_-0.7_-1.8_1.00438.dat -0.70 -1.80  1.004376      1   \n",
       "109799  1097    H_-1.35_0.2_0.000345206.dat -1.35  0.20  0.000345      0   \n",
       "335269  3352       H_0.05_-0.45_1.00241.dat  0.05 -0.45  1.002409      1   \n",
       "377625  3776          H_0.3_0.5_1.00667.dat  0.30  0.50  1.006672      1   \n",
       "432932  4329    H_0.65_-0.2_0.000629563.dat  0.65 -0.20  0.000630      0   \n",
       "461538  4615         H_0.8_1.95_1.00453.dat  0.80  1.95  1.004534      1   \n",
       "178965  1789       H_-0.9_-1.65_1.00588.dat -0.90 -1.65  1.005876      1   \n",
       "187463  1874      H_-0.85_-1.45_1.00645.dat -0.85 -1.45  1.006451      1   \n",
       "\n",
       "        pred_phase type_of     dft_feat0     dft_feat1  ...    dft_feat41  \\\n",
       "469427         666   train  6.245005e-17  4.024447e-16  ...  8.190231e-15   \n",
       "601202         666   train  1.000000e+01 -9.492516e-16  ...  2.002041e-15   \n",
       "593580         666   train -2.775558e-17  5.845772e-06  ... -8.867757e-07   \n",
       "124953         666   train -5.551115e-17  6.205892e-16  ...  1.131202e-15   \n",
       "358332         666   train  2.000000e-06  1.739454e-15  ... -1.757944e-16   \n",
       "563004         666   train  1.446759e-15  1.320857e-01  ... -5.755989e-06   \n",
       "254126         666    test  0.000000e+00  6.807533e-16  ...  9.314244e-16   \n",
       "211093         666   train  0.000000e+00  1.496002e-16  ... -9.452273e-16   \n",
       "109799         666   train  1.387779e-17  9.982373e-08  ... -2.818078e-08   \n",
       "335269         666   train  0.000000e+00  2.472238e-06  ...  4.990909e-06   \n",
       "377625         666   train  0.000000e+00  1.092854e-15  ... -4.195935e-15   \n",
       "432932         666   train  4.440892e-16 -7.056804e+00  ...  1.527764e-06   \n",
       "461538         666   train -1.908196e-16 -2.157862e-16  ... -1.652544e-14   \n",
       "178965         666   train  4.000000e-06 -5.904272e-17  ... -2.256864e-15   \n",
       "187463         666   train  0.000000e+00 -7.921730e-17  ... -8.289811e-16   \n",
       "\n",
       "          dft_feat42    dft_feat43    dft_feat44    dft_feat45    dft_feat46  \\\n",
       "469427 -5.608383e-07  1.301544e-14 -5.771375e+00 -1.900532e-14  2.588154e-06   \n",
       "601202  9.939958e-15  7.887867e-16 -6.447230e-15  7.385700e-16  3.397457e-15   \n",
       "593580 -1.533267e-15 -2.119552e-06  5.394179e-15  4.980283e-15  3.044913e-15   \n",
       "124953  6.007705e-15  1.145062e-15  3.408148e-15 -1.321336e-05  7.576561e-15   \n",
       "358332  3.814237e-06 -2.289734e-15 -8.367544e-07 -1.253711e-14  2.761967e+00   \n",
       "563004  1.906510e-15  2.034322e-06 -1.583551e-15  3.902113e-06  5.967020e-16   \n",
       "254126  1.590834e-15 -4.389450e-16  3.874097e-15  2.474566e-06  6.114609e-15   \n",
       "211093  2.386653e-06  6.300858e-16  1.770021e-06  5.037781e-15 -1.806121e-06   \n",
       "109799  3.823502e-16  6.817854e-07 -2.540961e-15  1.902113e-06  8.053333e-15   \n",
       "335269  7.368209e-16  6.340516e-06 -2.239277e-15 -4.987589e-08  1.124314e-15   \n",
       "377625  3.524467e-07 -9.025297e-15  2.754206e+00  5.779141e-15 -1.861472e-07   \n",
       "432932  5.537711e-15  6.686934e-07  7.741840e-15 -5.597831e-06 -1.216181e-15   \n",
       "461538  4.713431e+00  2.303731e-14  1.381301e-06 -8.494287e-16 -1.375352e-06   \n",
       "178965 -1.388567e-06 -1.492806e-17 -5.709989e-07  2.067094e-15  3.598066e-07   \n",
       "187463  1.771390e-14  2.896663e-15 -3.692602e-16 -1.430563e-15  1.297828e-14   \n",
       "\n",
       "          dft_feat47    dft_feat48    dft_feat49    dft_feat50  \n",
       "469427 -2.680790e-15 -3.452127e-06 -2.107027e-15  4.000000e-06  \n",
       "601202  7.186017e-15  5.637201e-15 -9.492396e-15  7.521761e-16  \n",
       "593580  4.023234e-06  1.640196e-15 -2.126690e-07  1.047150e-15  \n",
       "124953 -4.383038e-16 -4.726734e-15 -7.854553e-16  1.112428e-16  \n",
       "358332  5.769829e-15  1.715976e-06 -5.327448e-16  6.000000e-06  \n",
       "563004 -3.079103e-06  5.603366e-15 -2.368325e-01  1.804090e-17  \n",
       "254126 -1.174728e-15 -3.459294e-15  3.150060e-17 -2.342460e-18  \n",
       "211093  5.910263e-15  4.576047e-06  6.453476e-15 -1.056988e-15  \n",
       "109799  1.750815e-06  3.973359e-15 -6.541241e-06 -6.489294e-16  \n",
       "335269 -1.621619e-06 -2.839265e-15  2.200953e-06 -2.363842e-16  \n",
       "377625  2.184145e-15  4.894586e-07  3.815876e-15  4.000000e-06  \n",
       "432932  1.906355e-06 -5.927037e-15 -1.650404e-03 -1.248094e-15  \n",
       "461538  5.795998e-15 -4.438925e-06  6.754239e-15 -4.000000e-06  \n",
       "178965 -5.915512e-15  2.855035e-07  6.103368e-15  4.000000e-06  \n",
       "187463  5.191722e-15  1.769748e-15  6.023739e-15  1.367592e-15  \n",
       "\n",
       "[15 rows x 59 columns]"
      ]
     },
     "execution_count": 6,
     "metadata": {},
     "output_type": "execute_result"
    }
   ],
   "source": [
    "%%time\n",
    "simulation.engineer_fourier_features(fourier_features,mode,real,normalize,fillna)\n",
    "simulation.fourier_engineered_dataframe.info() \n",
    "simulation.fourier_engineered_dataframe.sample(15)"
   ]
  },
  {
   "cell_type": "code",
   "execution_count": 7,
   "metadata": {
    "execution": {
     "iopub.execute_input": "2020-07-08T04:59:37.497870Z",
     "iopub.status.busy": "2020-07-08T04:59:37.497512Z",
     "iopub.status.idle": "2020-07-08T04:59:37.507331Z",
     "shell.execute_reply": "2020-07-08T04:59:37.507611Z"
    },
    "papermill": {
     "duration": 0.028476,
     "end_time": "2020-07-08T04:59:37.507685",
     "exception": false,
     "start_time": "2020-07-08T04:59:37.479209",
     "status": "completed"
    },
    "tags": []
   },
   "outputs": [],
   "source": [
    "#simulation.dataframe.iloc[331456,:]"
   ]
  },
  {
   "cell_type": "code",
   "execution_count": 8,
   "metadata": {
    "execution": {
     "iopub.execute_input": "2020-07-08T04:59:37.544768Z",
     "iopub.status.busy": "2020-07-08T04:59:37.544266Z",
     "iopub.status.idle": "2020-07-08T04:59:37.653699Z",
     "shell.execute_reply": "2020-07-08T04:59:37.651905Z"
    },
    "papermill": {
     "duration": 0.128486,
     "end_time": "2020-07-08T04:59:37.653948",
     "exception": false,
     "start_time": "2020-07-08T04:59:37.525462",
     "status": "completed"
    },
    "tags": []
   },
   "outputs": [],
   "source": [
    "#for ix, obj in enumerate(simulation.dataframe.iloc[331456,:].values):\n",
    "#    print(ix,obj)"
   ]
  },
  {
   "cell_type": "code",
   "execution_count": 9,
   "metadata": {
    "execution": {
     "iopub.execute_input": "2020-07-08T04:59:37.727078Z",
     "iopub.status.busy": "2020-07-08T04:59:37.726592Z",
     "iopub.status.idle": "2020-07-08T04:59:37.736706Z",
     "shell.execute_reply": "2020-07-08T04:59:37.736361Z"
    },
    "papermill": {
     "duration": 0.031135,
     "end_time": "2020-07-08T04:59:37.736760",
     "exception": false,
     "start_time": "2020-07-08T04:59:37.705625",
     "status": "completed"
    },
    "tags": []
   },
   "outputs": [],
   "source": [
    "#simulation.fourier_engineered_dataframe.dct_feat0"
   ]
  },
  {
   "cell_type": "code",
   "execution_count": 10,
   "metadata": {
    "execution": {
     "iopub.execute_input": "2020-07-08T04:59:37.779736Z",
     "iopub.status.busy": "2020-07-08T04:59:37.779249Z",
     "iopub.status.idle": "2020-07-08T04:59:37.885126Z",
     "shell.execute_reply": "2020-07-08T04:59:37.883249Z"
    },
    "papermill": {
     "duration": 0.131544,
     "end_time": "2020-07-08T04:59:37.885412",
     "exception": false,
     "start_time": "2020-07-08T04:59:37.753868",
     "status": "completed"
    },
    "tags": []
   },
   "outputs": [],
   "source": [
    "#simulation.features"
   ]
  },
  {
   "cell_type": "code",
   "execution_count": 11,
   "metadata": {
    "execution": {
     "iopub.execute_input": "2020-07-08T04:59:37.957854Z",
     "iopub.status.busy": "2020-07-08T04:59:37.957365Z",
     "iopub.status.idle": "2020-07-08T04:59:38.040745Z",
     "shell.execute_reply": "2020-07-08T04:59:38.040026Z"
    },
    "papermill": {
     "duration": 0.104878,
     "end_time": "2020-07-08T04:59:38.040849",
     "exception": false,
     "start_time": "2020-07-08T04:59:37.935971",
     "status": "completed"
    },
    "tags": []
   },
   "outputs": [],
   "source": [
    "#simulation.fourier_matrix"
   ]
  },
  {
   "cell_type": "code",
   "execution_count": 12,
   "metadata": {
    "execution": {
     "iopub.execute_input": "2020-07-08T04:59:38.102404Z",
     "iopub.status.busy": "2020-07-08T04:59:38.101877Z",
     "iopub.status.idle": "2020-07-08T04:59:38.111850Z",
     "shell.execute_reply": "2020-07-08T04:59:38.111521Z"
    },
    "papermill": {
     "duration": 0.03186,
     "end_time": "2020-07-08T04:59:38.111904",
     "exception": false,
     "start_time": "2020-07-08T04:59:38.080044",
     "status": "completed"
    },
    "tags": []
   },
   "outputs": [],
   "source": [
    "#1/simulation.n_features*simulation.dataframe.loc[:,simulation.features].sum(axis=1)"
   ]
  },
  {
   "cell_type": "code",
   "execution_count": 13,
   "metadata": {
    "execution": {
     "iopub.execute_input": "2020-07-08T04:59:38.148930Z",
     "iopub.status.busy": "2020-07-08T04:59:38.148405Z",
     "iopub.status.idle": "2020-07-08T04:59:38.214582Z",
     "shell.execute_reply": "2020-07-08T04:59:38.214089Z"
    },
    "papermill": {
     "duration": 0.085894,
     "end_time": "2020-07-08T04:59:38.214657",
     "exception": false,
     "start_time": "2020-07-08T04:59:38.128763",
     "status": "completed"
    },
    "tags": []
   },
   "outputs": [],
   "source": [
    "#df_2 = simulation.fourier_engineered_dataframe[simulation.fourier_engineered_dataframe.phase==2]\n",
    "#df_2.describe()"
   ]
  },
  {
   "cell_type": "code",
   "execution_count": 14,
   "metadata": {
    "execution": {
     "iopub.execute_input": "2020-07-08T04:59:38.265650Z",
     "iopub.status.busy": "2020-07-08T04:59:38.265309Z",
     "iopub.status.idle": "2020-07-08T04:59:38.277193Z",
     "shell.execute_reply": "2020-07-08T04:59:38.276860Z"
    },
    "papermill": {
     "duration": 0.033577,
     "end_time": "2020-07-08T04:59:38.277247",
     "exception": false,
     "start_time": "2020-07-08T04:59:38.243670",
     "status": "completed"
    },
    "tags": []
   },
   "outputs": [],
   "source": [
    "#df_1 = simulation.fourier_engineered_dataframe[simulation.fourier_engineered_dataframe.phase==1]\n",
    "#df_1.describe()"
   ]
  },
  {
   "cell_type": "code",
   "execution_count": 15,
   "metadata": {
    "execution": {
     "iopub.execute_input": "2020-07-08T04:59:38.314321Z",
     "iopub.status.busy": "2020-07-08T04:59:38.313942Z",
     "iopub.status.idle": "2020-07-08T04:59:38.381869Z",
     "shell.execute_reply": "2020-07-08T04:59:38.382586Z"
    },
    "papermill": {
     "duration": 0.088337,
     "end_time": "2020-07-08T04:59:38.382735",
     "exception": false,
     "start_time": "2020-07-08T04:59:38.294398",
     "status": "completed"
    },
    "tags": []
   },
   "outputs": [],
   "source": [
    "#df_0 = simulation.fourier_engineered_dataframe[simulation.fourier_engineered_dataframe.phase==0]\n",
    "#df_0.describe()"
   ]
  },
  {
   "cell_type": "code",
   "execution_count": 16,
   "metadata": {
    "execution": {
     "iopub.execute_input": "2020-07-08T04:59:38.450760Z",
     "iopub.status.busy": "2020-07-08T04:59:38.450437Z",
     "iopub.status.idle": "2020-07-08T04:59:38.459832Z",
     "shell.execute_reply": "2020-07-08T04:59:38.460136Z"
    },
    "papermill": {
     "duration": 0.032738,
     "end_time": "2020-07-08T04:59:38.460203",
     "exception": false,
     "start_time": "2020-07-08T04:59:38.427465",
     "status": "completed"
    },
    "tags": []
   },
   "outputs": [],
   "source": [
    "#plt.figure(figsize=(10,10))\n",
    "#plt.scatter(df_1.fourier_feat0,df_1.fourier_feat2)\n",
    "#plt.scatter(df_0.fourier_feat0,df_0.fourier_feat2,alpha=0.4)"
   ]
  },
  {
   "cell_type": "code",
   "execution_count": 17,
   "metadata": {
    "execution": {
     "iopub.execute_input": "2020-07-08T04:59:38.498511Z",
     "iopub.status.busy": "2020-07-08T04:59:38.498203Z",
     "iopub.status.idle": "2020-07-08T04:59:38.571818Z",
     "shell.execute_reply": "2020-07-08T04:59:38.570084Z"
    },
    "papermill": {
     "duration": 0.094601,
     "end_time": "2020-07-08T04:59:38.572065",
     "exception": false,
     "start_time": "2020-07-08T04:59:38.477464",
     "status": "completed"
    },
    "tags": []
   },
   "outputs": [],
   "source": [
    "#plt.scatter(df_0.fourier_feat0,df_0.fourier_feat2,alpha=0.4)"
   ]
  },
  {
   "cell_type": "code",
   "execution_count": 18,
   "metadata": {
    "execution": {
     "iopub.execute_input": "2020-07-08T04:59:38.647133Z",
     "iopub.status.busy": "2020-07-08T04:59:38.646821Z",
     "iopub.status.idle": "2020-07-08T04:59:38.656419Z",
     "shell.execute_reply": "2020-07-08T04:59:38.656737Z"
    },
    "papermill": {
     "duration": 0.031085,
     "end_time": "2020-07-08T04:59:38.656808",
     "exception": false,
     "start_time": "2020-07-08T04:59:38.625723",
     "status": "completed"
    },
    "tags": []
   },
   "outputs": [],
   "source": [
    "#plt.scatter(df_2.fourier_feat0,df_2.fourier_feat2)"
   ]
  },
  {
   "cell_type": "code",
   "execution_count": 19,
   "metadata": {
    "execution": {
     "iopub.execute_input": "2020-07-08T04:59:38.693237Z",
     "iopub.status.busy": "2020-07-08T04:59:38.692929Z",
     "iopub.status.idle": "2020-07-08T04:59:38.765255Z",
     "shell.execute_reply": "2020-07-08T04:59:38.765913Z"
    },
    "papermill": {
     "duration": 0.092156,
     "end_time": "2020-07-08T04:59:38.766041",
     "exception": false,
     "start_time": "2020-07-08T04:59:38.673885",
     "status": "completed"
    },
    "tags": []
   },
   "outputs": [],
   "source": [
    "#df_1.hist(figsize=(15,15))"
   ]
  },
  {
   "cell_type": "code",
   "execution_count": 20,
   "metadata": {
    "execution": {
     "iopub.execute_input": "2020-07-08T04:59:38.834586Z",
     "iopub.status.busy": "2020-07-08T04:59:38.834278Z",
     "iopub.status.idle": "2020-07-08T04:59:38.843541Z",
     "shell.execute_reply": "2020-07-08T04:59:38.843842Z"
    },
    "papermill": {
     "duration": 0.032792,
     "end_time": "2020-07-08T04:59:38.843908",
     "exception": false,
     "start_time": "2020-07-08T04:59:38.811116",
     "status": "completed"
    },
    "tags": []
   },
   "outputs": [],
   "source": [
    "#df_0.hist(figsize=(15,15))"
   ]
  },
  {
   "cell_type": "markdown",
   "metadata": {
    "papermill": {
     "duration": 0.016914,
     "end_time": "2020-07-08T04:59:38.878590",
     "exception": false,
     "start_time": "2020-07-08T04:59:38.861676",
     "status": "completed"
    },
    "tags": []
   },
   "source": [
    "#### Checking initialization"
   ]
  },
  {
   "cell_type": "code",
   "execution_count": 21,
   "metadata": {
    "execution": {
     "iopub.execute_input": "2020-07-08T04:59:38.914320Z",
     "iopub.status.busy": "2020-07-08T04:59:38.914005Z",
     "iopub.status.idle": "2020-07-08T04:59:38.974215Z",
     "shell.execute_reply": "2020-07-08T04:59:38.973695Z"
    },
    "papermill": {
     "duration": 0.078818,
     "end_time": "2020-07-08T04:59:38.974293",
     "exception": false,
     "start_time": "2020-07-08T04:59:38.895475",
     "status": "completed"
    },
    "tags": []
   },
   "outputs": [
    {
     "name": "stdout",
     "output_type": "stream",
     "text": [
      "n_features:  100\n",
      "n_hamiltonians:  6561\n",
      "n_ts:  2\n",
      "CPU times: user 266 µs, sys: 32 µs, total: 298 µs\n",
      "Wall time: 193 µs\n"
     ]
    }
   ],
   "source": [
    "%%time\n",
    "n_features = simulation.n_features\n",
    "n_hamiltonians = simulation.n_hamiltonians\n",
    "n_ts = simulation.n_ts\n",
    "\n",
    "print(\"n_features: \", n_features)\n",
    "print(\"n_hamiltonians: \", n_hamiltonians)\n",
    "print(\"n_ts: \", n_ts)"
   ]
  },
  {
   "cell_type": "code",
   "execution_count": 22,
   "metadata": {
    "execution": {
     "iopub.execute_input": "2020-07-08T04:59:39.029970Z",
     "iopub.status.busy": "2020-07-08T04:59:39.029606Z",
     "iopub.status.idle": "2020-07-08T04:59:39.209696Z",
     "shell.execute_reply": "2020-07-08T04:59:39.209949Z"
    },
    "papermill": {
     "duration": 0.203027,
     "end_time": "2020-07-08T04:59:39.210019",
     "exception": false,
     "start_time": "2020-07-08T04:59:39.006992",
     "status": "completed"
    },
    "tags": []
   },
   "outputs": [
    {
     "name": "stdout",
     "output_type": "stream",
     "text": [
      "% train:  0.846822130772748\n",
      "% val:  0.0\n",
      "% test:  0.15317786922725193\n",
      "% train + val + test:  1.0\n",
      "\n",
      "\n",
      "number of train hamiltonians:  5556\n",
      "number of val hamiltonians:  0\n",
      "number of test hamiltonians:  1005\n",
      "total number of hamiltonians:  6561\n",
      "\n",
      "\n",
      "train ids:  [9, 10, 11, 12, 13, 14, 15, 16, 17, 18, 19, 20, 21, 22, 23, 24, 25, 26, 27, 28, 29, 30, 31, 32, 33, 34, 35, 36, 37, 38, 39, 40, 41, 42, 43, 44, 45, 46, 47, 48, 49, 50, 51, 52, 53, 54, 55, 56, 57, 58, 59, 60, 61, 62, 63, 64, 65, 66, 67, 68, 69, 70, 71, 72, 73, 74, 75, 76, 77, 91, 92, 93, 94, 95, 96, 97, 98, 99, 100, 101, 102, 103, 104, 105, 106, 107, 108, 109, 110, 111, 112, 113, 114, 115, 116, 117, 118, 119, 120, 121, 122, 123, 124, 125, 126, 127, 128, 129, 130, 131, 132, 133, 134, 135, 136, 137, 138, 139, 140, 141, 142, 143, 144, 145, 146, 147, 148, 149, 150, 151, 152, 153, 154, 155, 156, 157, 172, 173, 174, 175, 176, 177, 178, 179, 180, 181, 182, 183, 184, 185, 186, 187, 188, 189, 190, 191, 192, 193, 194, 195, 196, 197, 198, 199, 200, 201, 202, 203, 204, 205, 206, 207, 208, 209, 210, 211, 212, 213, 214, 215, 216, 217, 218, 219, 220, 221, 222, 223, 224, 225, 226, 227, 228, 229, 230, 231, 232, 233, 234, 235, 236, 237, 254, 255, 256, 257, 258, 259, 260, 261, 262, 263, 264, 265, 266, 267, 268, 269, 270, 271, 272, 273, 274, 275, 276, 277, 278, 279, 280, 281, 282, 283, 284, 285, 286, 287, 288, 289, 290, 291, 292, 293, 294, 295, 296, 297, 298, 299, 300, 301, 302, 303, 304, 305, 306, 307, 308, 309, 310, 311, 312, 313, 314, 315, 316, 317, 323, 336, 337, 338, 339, 340, 341, 342, 343, 344, 345, 346, 347, 348, 349, 350, 351, 352, 353, 354, 355, 356, 357, 358, 359, 360, 361, 362, 363, 364, 365, 366, 367, 368, 369, 370, 371, 372, 373, 374, 375, 376, 377, 378, 379, 380, 381, 382, 383, 384, 385, 386, 387, 388, 389, 390, 391, 392, 393, 394, 395, 396, 397, 403, 404, 418, 419, 420, 421, 422, 423, 424, 425, 426, 427, 428, 429, 430, 431, 432, 433, 434, 435, 436, 437, 438, 439, 440, 441, 442, 443, 444, 445, 446, 447, 448, 449, 450, 451, 452, 453, 454, 455, 456, 457, 458, 459, 460, 461, 462, 463, 464, 465, 466, 467, 468, 469, 470, 471, 472, 473, 474, 475, 476, 477, 483, 484, 485, 500, 501, 502, 503, 504, 505, 506, 507, 508, 509, 510, 511, 512, 513, 514, 515, 516, 517, 518, 519, 520, 521, 522, 523, 524, 525, 526, 527, 528, 529, 530, 531, 532, 533, 534, 535, 536, 537, 538, 539, 540, 541, 542, 543, 544, 545, 546, 547, 548, 549, 550, 551, 552, 553, 554, 555, 556, 557, 563, 564, 565, 566, 581, 582, 583, 584, 585, 586, 587, 588, 589, 590, 591, 592, 593, 594, 595, 596, 597, 598, 599, 600, 601, 602, 603, 604, 605, 606, 607, 608, 609, 610, 611, 612, 613, 614, 615, 616, 617, 618, 619, 620, 621, 622, 623, 624, 625, 626, 627, 628, 629, 630, 631, 632, 633, 634, 635, 636, 637, 643, 644, 645, 646, 647, 663, 664, 665, 666, 667, 668, 669, 670, 671, 672, 673, 674, 675, 676, 677, 678, 679, 680, 681, 682, 683, 684, 685, 686, 687, 688, 689, 690, 691, 692, 693, 694, 695, 696, 697, 698, 699, 700, 701, 702, 703, 704, 705, 706, 707, 708, 709, 710, 711, 712, 713, 714, 715, 716, 717, 723, 724, 725, 726, 727, 728, 745, 746, 747, 748, 749, 750, 751, 752, 753, 754, 755, 756, 757, 758, 759, 760, 761, 762, 763, 764, 765, 766, 767, 768, 769, 770, 771, 772, 773, 774, 775, 776, 777, 778, 779, 780, 781, 782, 783, 784, 785, 786, 787, 788, 789, 790, 791, 792, 793, 794, 795, 796, 797, 803, 804, 805, 806, 807, 808, 809, 827, 828, 829, 830, 831, 832, 833, 834, 835, 836, 837, 838, 839, 840, 841, 842, 843, 844, 845, 846, 847, 848, 849, 850, 851, 852, 853, 854, 855, 856, 857, 858, 859, 860, 861, 862, 863, 864, 865, 866, 867, 868, 869, 870, 871, 872, 873, 874, 875, 876, 877, 883, 884, 885, 886, 887, 888, 889, 890, 891, 909, 910, 911, 912, 913, 914, 915, 916, 917, 918, 919, 920, 921, 922, 923, 924, 925, 926, 927, 928, 929, 930, 931, 932, 933, 934, 935, 936, 937, 938, 939, 940, 941, 942, 943, 944, 945, 946, 947, 948, 949, 950, 951, 952, 953, 954, 955, 956, 957, 963, 964, 965, 966, 967, 968, 969, 970, 971, 972, 973, 990, 991, 992, 993, 994, 995, 996, 997, 998, 999, 1000, 1001, 1002, 1003, 1004, 1005, 1006, 1007, 1008, 1009, 1010, 1011, 1012, 1013, 1014, 1015, 1016, 1017, 1018, 1019, 1020, 1021, 1022, 1023, 1024, 1025, 1026, 1027, 1028, 1029, 1030, 1031, 1032, 1033, 1034, 1035, 1036, 1037, 1038, 1042, 1043, 1044, 1045, 1046, 1047, 1048, 1049, 1050, 1051, 1052, 1053, 1054, 1055, 1056, 1072, 1073, 1074, 1075, 1076, 1077, 1078, 1079, 1080, 1081, 1082, 1083, 1084, 1085, 1086, 1087, 1088, 1089, 1090, 1091, 1092, 1093, 1094, 1095, 1096, 1097, 1098, 1099, 1100, 1101, 1102, 1103, 1104, 1105, 1106, 1107, 1108, 1109, 1110, 1111, 1112, 1113, 1114, 1115, 1116, 1117, 1118, 1122, 1123, 1124, 1125, 1126, 1127, 1128, 1129, 1130, 1131, 1132, 1133, 1134, 1135, 1136, 1137, 1138, 1154, 1155, 1156, 1157, 1158, 1159, 1160, 1161, 1162, 1163, 1164, 1165, 1166, 1167, 1168, 1169, 1170, 1171, 1172, 1173, 1174, 1175, 1176, 1177, 1178, 1179, 1180, 1181, 1182, 1183, 1184, 1185, 1186, 1187, 1188, 1189, 1190, 1191, 1192, 1193, 1194, 1195, 1196, 1197, 1198, 1202, 1203, 1204, 1205, 1206, 1207, 1208, 1209, 1210, 1211, 1212, 1213, 1214, 1215, 1216, 1217, 1218, 1219, 1220, 1236, 1237, 1238, 1239, 1240, 1241, 1242, 1243, 1244, 1245, 1246, 1247, 1248, 1249, 1250, 1251, 1252, 1253, 1254, 1255, 1256, 1257, 1258, 1259, 1260, 1261, 1262, 1263, 1264, 1265, 1266, 1267, 1268, 1269, 1270, 1271, 1272, 1273, 1274, 1275, 1276, 1277, 1278, 1282, 1283, 1284, 1285, 1286, 1287, 1288, 1289, 1290, 1291, 1292, 1293, 1294, 1295, 1296, 1297, 1298, 1299, 1300, 1301, 1302, 1303, 1317, 1318, 1319, 1320, 1321, 1322, 1323, 1324, 1325, 1326, 1327, 1328, 1329, 1330, 1331, 1332, 1333, 1334, 1335, 1336, 1337, 1338, 1339, 1340, 1341, 1342, 1343, 1344, 1345, 1346, 1347, 1348, 1349, 1350, 1351, 1352, 1353, 1354, 1355, 1356, 1357, 1358, 1362, 1363, 1364, 1365, 1366, 1367, 1368, 1369, 1370, 1371, 1372, 1373, 1374, 1375, 1376, 1377, 1378, 1379, 1380, 1381, 1382, 1383, 1384, 1385, 1399, 1400, 1401, 1402, 1403, 1404, 1405, 1406, 1407, 1408, 1409, 1410, 1411, 1412, 1413, 1414, 1415, 1416, 1417, 1418, 1419, 1420, 1421, 1422, 1423, 1424, 1425, 1426, 1427, 1428, 1429, 1430, 1431, 1432, 1433, 1434, 1435, 1436, 1437, 1438, 1442, 1443, 1444, 1445, 1446, 1447, 1448, 1449, 1450, 1451, 1452, 1453, 1454, 1455, 1456, 1457, 1458, 1459, 1460, 1461, 1462, 1463, 1464, 1465, 1466, 1467, 1468, 1481, 1482, 1483, 1484, 1485, 1486, 1487, 1488, 1489, 1490, 1491, 1492, 1493, 1494, 1495, 1496, 1497, 1498, 1499, 1500, 1501, 1502, 1503, 1504, 1505, 1506, 1507, 1508, 1509, 1510, 1511, 1512, 1513, 1514, 1515, 1516, 1517, 1518, 1522, 1523, 1524, 1525, 1526, 1527, 1528, 1529, 1530, 1531, 1532, 1533, 1534, 1535, 1536, 1537, 1538, 1539, 1540, 1541, 1542, 1543, 1544, 1545, 1546, 1547, 1548, 1549, 1550, 1563, 1564, 1565, 1566, 1567, 1568, 1569, 1570, 1571, 1572, 1573, 1574, 1575, 1576, 1577, 1578, 1579, 1580, 1581, 1582, 1583, 1584, 1585, 1586, 1587, 1588, 1589, 1590, 1591, 1592, 1593, 1594, 1595, 1596, 1597, 1598, 1602, 1603, 1604, 1605, 1606, 1607, 1608, 1609, 1610, 1611, 1612, 1613, 1614, 1615, 1616, 1617, 1618, 1619, 1620, 1621, 1622, 1623, 1624, 1625, 1626, 1627, 1628, 1629, 1630, 1631, 1632, 1645, 1646, 1647, 1648, 1649, 1650, 1651, 1652, 1653, 1654, 1655, 1656, 1657, 1658, 1659, 1660, 1661, 1662, 1663, 1664, 1665, 1666, 1667, 1668, 1669, 1670, 1671, 1672, 1673, 1674, 1675, 1676, 1677, 1678, 1682, 1683, 1684, 1685, 1686, 1687, 1688, 1689, 1690, 1691, 1692, 1693, 1694, 1695, 1696, 1697, 1698, 1699, 1700, 1701, 1702, 1703, 1704, 1705, 1706, 1707, 1708, 1709, 1710, 1711, 1712, 1713, 1714, 1715, 1726, 1727, 1728, 1729, 1730, 1731, 1732, 1733, 1734, 1735, 1736, 1737, 1738, 1739, 1740, 1741, 1742, 1743, 1744, 1745, 1746, 1747, 1748, 1749, 1750, 1751, 1752, 1753, 1754, 1755, 1756, 1757, 1758, 1762, 1763, 1764, 1765, 1766, 1767, 1768, 1769, 1770, 1771, 1772, 1773, 1774, 1775, 1776, 1777, 1778, 1779, 1780, 1781, 1782, 1783, 1784, 1785, 1786, 1787, 1788, 1789, 1790, 1791, 1792, 1793, 1794, 1795, 1796, 1797, 1808, 1809, 1810, 1811, 1812, 1813, 1814, 1815, 1816, 1817, 1818, 1819, 1820, 1821, 1822, 1823, 1824, 1825, 1826, 1827, 1828, 1829, 1830, 1831, 1832, 1833, 1834, 1835, 1836, 1837, 1838, 1842, 1843, 1844, 1845, 1846, 1847, 1848, 1849, 1850, 1851, 1852, 1853, 1854, 1855, 1856, 1857, 1858, 1859, 1860, 1861, 1862, 1863, 1864, 1865, 1866, 1867, 1868, 1869, 1870, 1871, 1872, 1873, 1874, 1875, 1876, 1877, 1878, 1879, 1890, 1891, 1892, 1893, 1894, 1895, 1896, 1897, 1898, 1899, 1900, 1901, 1902, 1903, 1904, 1905, 1906, 1907, 1908, 1909, 1910, 1911, 1912, 1913, 1914, 1915, 1916, 1917, 1918, 1922, 1923, 1924, 1925, 1926, 1927, 1928, 1929, 1930, 1931, 1932, 1933, 1934, 1935, 1936, 1937, 1938, 1939, 1940, 1941, 1942, 1943, 1944, 1945, 1946, 1947, 1948, 1949, 1950, 1951, 1952, 1953, 1954, 1955, 1956, 1957, 1958, 1959, 1960, 1961, 1962, 1972, 1973, 1974, 1975, 1976, 1977, 1978, 1979, 1980, 1981, 1982, 1983, 1984, 1985, 1986, 1987, 1988, 1989, 1990, 1991, 1992, 1993, 1994, 1995, 1996, 1997, 1998, 2002, 2003, 2004, 2005, 2006, 2007, 2008, 2009, 2010, 2011, 2012, 2013, 2014, 2015, 2016, 2017, 2018, 2019, 2020, 2021, 2022, 2023, 2024, 2025, 2026, 2027, 2028, 2029, 2030, 2031, 2032, 2033, 2034, 2035, 2036, 2037, 2038, 2039, 2040, 2041, 2042, 2043, 2044, 2054, 2055, 2056, 2057, 2058, 2059, 2060, 2061, 2062, 2063, 2064, 2065, 2066, 2067, 2068, 2069, 2070, 2071, 2072, 2073, 2074, 2075, 2076, 2077, 2078, 2082, 2083, 2084, 2085, 2086, 2087, 2088, 2089, 2090, 2091, 2092, 2093, 2094, 2095, 2096, 2097, 2098, 2099, 2100, 2101, 2102, 2103, 2104, 2105, 2106, 2107, 2108, 2109, 2110, 2111, 2112, 2113, 2114, 2115, 2116, 2117, 2118, 2119, 2120, 2121, 2122, 2123, 2124, 2125, 2126, 2135, 2136, 2137, 2138, 2139, 2140, 2141, 2142, 2143, 2144, 2145, 2146, 2147, 2148, 2149, 2150, 2151, 2152, 2153, 2154, 2155, 2156, 2157, 2158, 2159, 2161, 2162, 2163, 2164, 2165, 2166, 2167, 2168, 2169, 2170, 2171, 2172, 2173, 2174, 2175, 2176, 2177, 2178, 2179, 2180, 2181, 2182, 2183, 2184, 2185, 2186, 2187, 2188, 2189, 2190, 2191, 2192, 2193, 2194, 2195, 2196, 2197, 2198, 2199, 2200, 2201, 2202, 2203, 2204, 2205, 2206, 2207, 2208, 2209, 2217, 2218, 2219, 2220, 2221, 2222, 2223, 2224, 2225, 2226, 2227, 2228, 2229, 2230, 2231, 2232, 2233, 2234, 2235, 2236, 2237, 2238, 2239, 2241, 2242, 2243, 2244, 2245, 2246, 2247, 2248, 2249, 2250, 2251, 2252, 2253, 2254, 2255, 2256, 2257, 2258, 2259, 2260, 2261, 2262, 2263, 2264, 2265, 2266, 2267, 2268, 2269, 2270, 2271, 2272, 2273, 2274, 2275, 2276, 2277, 2278, 2279, 2280, 2281, 2282, 2283, 2284, 2285, 2286, 2287, 2288, 2289, 2290, 2291, 2299, 2300, 2301, 2302, 2303, 2304, 2305, 2306, 2307, 2308, 2309, 2310, 2311, 2312, 2313, 2314, 2315, 2316, 2317, 2318, 2319, 2321, 2322, 2323, 2324, 2325, 2326, 2327, 2328, 2329, 2330, 2331, 2332, 2333, 2334, 2335, 2336, 2337, 2338, 2339, 2340, 2341, 2342, 2343, 2344, 2345, 2346, 2347, 2348, 2349, 2350, 2351, 2352, 2353, 2354, 2355, 2356, 2357, 2358, 2359, 2360, 2361, 2362, 2363, 2364, 2365, 2366, 2367, 2368, 2369, 2370, 2371, 2372, 2373, 2374, 2381, 2382, 2383, 2384, 2385, 2386, 2387, 2388, 2389, 2390, 2391, 2392, 2393, 2394, 2395, 2396, 2397, 2398, 2399, 2401, 2402, 2403, 2404, 2405, 2406, 2407, 2408, 2409, 2410, 2411, 2412, 2413, 2414, 2415, 2416, 2417, 2418, 2419, 2420, 2421, 2422, 2423, 2424, 2425, 2426, 2427, 2428, 2429, 2430, 2431, 2432, 2433, 2434, 2435, 2436, 2437, 2438, 2439, 2440, 2441, 2442, 2443, 2444, 2445, 2446, 2447, 2448, 2449, 2450, 2451, 2452, 2453, 2454, 2455, 2456, 2463, 2464, 2465, 2466, 2467, 2468, 2469, 2470, 2471, 2472, 2473, 2474, 2475, 2476, 2477, 2478, 2479, 2481, 2482, 2483, 2484, 2485, 2486, 2487, 2488, 2489, 2490, 2491, 2492, 2493, 2494, 2495, 2496, 2497, 2498, 2499, 2500, 2501, 2502, 2503, 2504, 2505, 2506, 2507, 2508, 2509, 2510, 2511, 2512, 2513, 2514, 2515, 2516, 2517, 2518, 2519, 2520, 2521, 2522, 2523, 2524, 2525, 2526, 2527, 2528, 2529, 2530, 2531, 2532, 2533, 2534, 2535, 2536, 2537, 2538, 2544, 2545, 2546, 2547, 2548, 2549, 2550, 2551, 2552, 2553, 2554, 2555, 2556, 2557, 2558, 2559, 2561, 2562, 2563, 2564, 2565, 2566, 2567, 2568, 2569, 2570, 2571, 2572, 2573, 2574, 2575, 2576, 2577, 2578, 2579, 2580, 2581, 2582, 2583, 2584, 2585, 2586, 2587, 2588, 2589, 2590, 2591, 2592, 2593, 2594, 2595, 2596, 2597, 2598, 2599, 2600, 2601, 2602, 2603, 2604, 2605, 2606, 2607, 2608, 2609, 2610, 2611, 2612, 2613, 2614, 2615, 2616, 2617, 2618, 2619, 2620, 2621, 2626, 2627, 2628, 2629, 2630, 2631, 2632, 2633, 2634, 2635, 2636, 2637, 2638, 2639, 2641, 2642, 2643, 2644, 2645, 2646, 2647, 2648, 2649, 2650, 2651, 2652, 2653, 2654, 2655, 2656, 2657, 2658, 2659, 2660, 2661, 2662, 2663, 2664, 2665, 2666, 2667, 2668, 2669, 2670, 2671, 2672, 2673, 2674, 2675, 2676, 2677, 2678, 2679, 2680, 2681, 2682, 2683, 2684, 2685, 2686, 2687, 2688, 2689, 2690, 2691, 2692, 2693, 2694, 2695, 2696, 2697, 2698, 2699, 2700, 2701, 2702, 2703, 2708, 2709, 2710, 2711, 2712, 2713, 2714, 2715, 2716, 2717, 2718, 2719, 2721, 2722, 2723, 2724, 2725, 2726, 2727, 2728, 2729, 2730, 2731, 2732, 2733, 2734, 2735, 2736, 2737, 2738, 2739, 2740, 2741, 2742, 2743, 2744, 2745, 2746, 2747, 2748, 2749, 2750, 2751, 2752, 2753, 2754, 2755, 2756, 2757, 2758, 2759, 2760, 2761, 2762, 2763, 2764, 2765, 2766, 2767, 2768, 2769, 2770, 2771, 2772, 2773, 2774, 2775, 2776, 2777, 2778, 2779, 2780, 2781, 2782, 2783, 2784, 2785, 2790, 2791, 2792, 2793, 2794, 2795, 2796, 2797, 2798, 2799, 2801, 2802, 2803, 2804, 2805, 2806, 2807, 2808, 2809, 2810, 2811, 2812, 2813, 2814, 2815, 2816, 2817, 2818, 2819, 2820, 2821, 2822, 2823, 2824, 2825, 2826, 2827, 2828, 2829, 2830, 2831, 2832, 2833, 2834, 2835, 2836, 2837, 2838, 2839, 2840, 2841, 2842, 2843, 2844, 2845, 2846, 2847, 2848, 2849, 2850, 2851, 2852, 2853, 2854, 2855, 2856, 2857, 2858, 2859, 2860, 2861, 2862, 2863, 2864, 2865, 2866, 2867, 2868, 2872, 2873, 2874, 2875, 2876, 2877, 2878, 2879, 2881, 2882, 2883, 2884, 2885, 2886, 2887, 2888, 2889, 2890, 2891, 2892, 2893, 2894, 2895, 2896, 2897, 2898, 2899, 2900, 2901, 2902, 2903, 2904, 2905, 2906, 2907, 2908, 2909, 2910, 2911, 2912, 2913, 2914, 2915, 2916, 2917, 2918, 2919, 2920, 2921, 2922, 2923, 2924, 2925, 2926, 2927, 2928, 2929, 2930, 2931, 2932, 2933, 2934, 2935, 2936, 2937, 2938, 2939, 2940, 2941, 2942, 2943, 2944, 2945, 2946, 2947, 2948, 2949, 2950, 2953, 2954, 2955, 2956, 2957, 2958, 2959, 2961, 2962, 2963, 2964, 2965, 2966, 2967, 2968, 2969, 2970, 2971, 2972, 2973, 2974, 2975, 2976, 2977, 2978, 2979, 2980, 2981, 2982, 2983, 2984, 2985, 2986, 2987, 2988, 2989, 2990, 2991, 2992, 2993, 2994, 2995, 2996, 2997, 2998, 2999, 3000, 3001, 3002, 3003, 3004, 3005, 3006, 3007, 3008, 3009, 3010, 3011, 3012, 3013, 3014, 3015, 3016, 3017, 3018, 3019, 3020, 3021, 3022, 3023, 3024, 3025, 3026, 3027, 3028, 3029, 3030, 3031, 3032, 3035, 3036, 3037, 3038, 3039, 3041, 3042, 3043, 3044, 3045, 3046, 3047, 3048, 3049, 3050, 3051, 3052, 3053, 3054, 3055, 3056, 3057, 3058, 3059, 3060, 3061, 3062, 3063, 3064, 3065, 3066, 3067, 3068, 3069, 3070, 3071, 3072, 3073, 3074, 3075, 3076, 3077, 3078, 3079, 3080, 3081, 3082, 3083, 3084, 3085, 3086, 3087, 3088, 3089, 3090, 3091, 3092, 3093, 3094, 3095, 3096, 3097, 3098, 3099, 3100, 3101, 3102, 3103, 3104, 3105, 3106, 3107, 3108, 3109, 3110, 3111, 3112, 3113, 3114, 3115, 3117, 3118, 3119, 3121, 3122, 3123, 3124, 3125, 3126, 3127, 3128, 3129, 3130, 3131, 3132, 3133, 3134, 3135, 3136, 3137, 3138, 3139, 3140, 3141, 3142, 3143, 3144, 3145, 3146, 3147, 3148, 3149, 3150, 3151, 3152, 3153, 3154, 3155, 3156, 3157, 3158, 3159, 3160, 3161, 3162, 3163, 3164, 3165, 3166, 3167, 3168, 3169, 3170, 3171, 3172, 3173, 3174, 3175, 3176, 3177, 3178, 3179, 3180, 3181, 3182, 3183, 3184, 3185, 3186, 3187, 3188, 3189, 3190, 3191, 3192, 3193, 3194, 3195, 3196, 3197, 3199, 3201, 3202, 3203, 3204, 3205, 3206, 3207, 3208, 3209, 3210, 3211, 3212, 3213, 3214, 3215, 3216, 3217, 3218, 3219, 3220, 3221, 3222, 3223, 3224, 3225, 3226, 3227, 3228, 3229, 3230, 3231, 3232, 3233, 3234, 3235, 3236, 3237, 3238, 3239, 3240, 3241, 3242, 3243, 3244, 3245, 3246, 3247, 3248, 3249, 3250, 3251, 3252, 3253, 3254, 3255, 3256, 3257, 3258, 3259, 3260, 3261, 3262, 3263, 3264, 3265, 3266, 3267, 3268, 3269, 3270, 3271, 3272, 3273, 3274, 3275, 3276, 3277, 3278, 3279, 3281, 3282, 3283, 3284, 3285, 3286, 3287, 3288, 3289, 3290, 3291, 3292, 3293, 3294, 3295, 3296, 3297, 3298, 3299, 3300, 3301, 3302, 3303, 3304, 3305, 3306, 3307, 3308, 3309, 3310, 3311, 3312, 3313, 3314, 3315, 3316, 3317, 3318, 3319, 3320, 3321, 3322, 3323, 3324, 3325, 3326, 3327, 3328, 3329, 3330, 3331, 3332, 3333, 3334, 3335, 3336, 3337, 3338, 3339, 3340, 3341, 3342, 3343, 3344, 3345, 3346, 3347, 3348, 3349, 3350, 3351, 3352, 3353, 3354, 3355, 3356, 3357, 3358, 3359, 3361, 3363, 3364, 3365, 3366, 3367, 3368, 3369, 3370, 3371, 3372, 3373, 3374, 3375, 3376, 3377, 3378, 3379, 3380, 3381, 3382, 3383, 3384, 3385, 3386, 3387, 3388, 3389, 3390, 3391, 3392, 3393, 3394, 3395, 3396, 3397, 3398, 3399, 3400, 3401, 3402, 3403, 3404, 3405, 3406, 3407, 3408, 3409, 3410, 3411, 3412, 3413, 3414, 3415, 3416, 3417, 3418, 3419, 3420, 3421, 3422, 3423, 3424, 3425, 3426, 3427, 3428, 3429, 3430, 3431, 3432, 3433, 3434, 3435, 3436, 3437, 3438, 3439, 3441, 3442, 3443, 3445, 3446, 3447, 3448, 3449, 3450, 3451, 3452, 3453, 3454, 3455, 3456, 3457, 3458, 3459, 3460, 3461, 3462, 3463, 3464, 3465, 3466, 3467, 3468, 3469, 3470, 3471, 3472, 3473, 3474, 3475, 3476, 3477, 3478, 3479, 3480, 3481, 3482, 3483, 3484, 3485, 3486, 3487, 3488, 3489, 3490, 3491, 3492, 3493, 3494, 3495, 3496, 3497, 3498, 3499, 3500, 3501, 3502, 3503, 3504, 3505, 3506, 3507, 3508, 3509, 3510, 3511, 3512, 3513, 3514, 3515, 3516, 3517, 3518, 3519, 3521, 3522, 3523, 3524, 3525, 3528, 3529, 3530, 3531, 3532, 3533, 3534, 3535, 3536, 3537, 3538, 3539, 3540, 3541, 3542, 3543, 3544, 3545, 3546, 3547, 3548, 3549, 3550, 3551, 3552, 3553, 3554, 3555, 3556, 3557, 3558, 3559, 3560, 3561, 3562, 3563, 3564, 3565, 3566, 3567, 3568, 3569, 3570, 3571, 3572, 3573, 3574, 3575, 3576, 3577, 3578, 3579, 3580, 3581, 3582, 3583, 3584, 3585, 3586, 3587, 3588, 3589, 3590, 3591, 3592, 3593, 3594, 3595, 3596, 3597, 3598, 3599, 3601, 3602, 3603, 3604, 3605, 3606, 3607, 3610, 3611, 3612, 3613, 3614, 3615, 3616, 3617, 3618, 3619, 3620, 3621, 3622, 3623, 3624, 3625, 3626, 3627, 3628, 3629, 3630, 3631, 3632, 3633, 3634, 3635, 3636, 3637, 3638, 3639, 3640, 3641, 3642, 3643, 3644, 3645, 3646, 3647, 3648, 3649, 3650, 3651, 3652, 3653, 3654, 3655, 3656, 3657, 3658, 3659, 3660, 3661, 3662, 3663, 3664, 3665, 3666, 3667, 3668, 3669, 3670, 3671, 3672, 3673, 3674, 3675, 3676, 3677, 3678, 3679, 3681, 3682, 3683, 3684, 3685, 3686, 3687, 3688, 3692, 3693, 3694, 3695, 3696, 3697, 3698, 3699, 3700, 3701, 3702, 3703, 3704, 3705, 3706, 3707, 3708, 3709, 3710, 3711, 3712, 3713, 3714, 3715, 3716, 3717, 3718, 3719, 3720, 3721, 3722, 3723, 3724, 3725, 3726, 3727, 3728, 3729, 3730, 3731, 3732, 3733, 3734, 3735, 3736, 3737, 3738, 3739, 3740, 3741, 3742, 3743, 3744, 3745, 3746, 3747, 3748, 3749, 3750, 3751, 3752, 3753, 3754, 3755, 3756, 3757, 3758, 3759, 3761, 3762, 3763, 3764, 3765, 3766, 3767, 3768, 3769, 3770, 3775, 3776, 3777, 3778, 3779, 3780, 3781, 3782, 3783, 3784, 3785, 3786, 3787, 3788, 3789, 3790, 3791, 3792, 3793, 3794, 3795, 3796, 3797, 3798, 3799, 3800, 3801, 3802, 3803, 3804, 3805, 3806, 3807, 3808, 3809, 3810, 3811, 3812, 3813, 3814, 3815, 3816, 3817, 3818, 3819, 3820, 3821, 3822, 3823, 3824, 3825, 3826, 3827, 3828, 3829, 3830, 3831, 3832, 3833, 3834, 3835, 3836, 3837, 3838, 3839, 3841, 3842, 3843, 3844, 3845, 3846, 3847, 3848, 3849, 3850, 3851, 3852, 3857, 3858, 3859, 3860, 3861, 3862, 3863, 3864, 3865, 3866, 3867, 3868, 3869, 3870, 3871, 3872, 3873, 3874, 3875, 3876, 3877, 3878, 3879, 3880, 3881, 3882, 3883, 3884, 3885, 3886, 3887, 3888, 3889, 3890, 3891, 3892, 3893, 3894, 3895, 3896, 3897, 3898, 3899, 3900, 3901, 3902, 3903, 3904, 3905, 3906, 3907, 3908, 3909, 3910, 3911, 3912, 3913, 3914, 3915, 3916, 3917, 3918, 3919, 3921, 3922, 3923, 3924, 3925, 3926, 3927, 3928, 3929, 3930, 3931, 3932, 3933, 3934, 3939, 3940, 3941, 3942, 3943, 3944, 3945, 3946, 3947, 3948, 3949, 3950, 3951, 3952, 3953, 3954, 3955, 3956, 3957, 3958, 3959, 3960, 3961, 3962, 3963, 3964, 3965, 3966, 3967, 3968, 3969, 3970, 3971, 3972, 3973, 3974, 3975, 3976, 3977, 3978, 3979, 3980, 3981, 3982, 3983, 3984, 3985, 3986, 3987, 3988, 3989, 3990, 3991, 3992, 3993, 3994, 3995, 3996, 3997, 3998, 3999, 4001, 4002, 4003, 4004, 4005, 4006, 4007, 4008, 4009, 4010, 4011, 4012, 4013, 4014, 4015, 4016, 4022, 4023, 4024, 4025, 4026, 4027, 4028, 4029, 4030, 4031, 4032, 4033, 4034, 4035, 4036, 4037, 4038, 4039, 4040, 4041, 4042, 4043, 4044, 4045, 4046, 4047, 4048, 4049, 4050, 4051, 4052, 4053, 4054, 4055, 4056, 4057, 4058, 4059, 4060, 4061, 4062, 4063, 4064, 4065, 4066, 4067, 4068, 4069, 4070, 4071, 4072, 4073, 4074, 4075, 4076, 4077, 4078, 4079, 4081, 4082, 4083, 4084, 4085, 4086, 4087, 4088, 4089, 4090, 4091, 4092, 4093, 4094, 4095, 4096, 4097, 4104, 4105, 4106, 4107, 4108, 4109, 4110, 4111, 4112, 4113, 4114, 4115, 4116, 4117, 4118, 4119, 4120, 4121, 4122, 4123, 4124, 4125, 4126, 4127, 4128, 4129, 4130, 4131, 4132, 4133, 4134, 4135, 4136, 4137, 4138, 4139, 4140, 4141, 4142, 4143, 4144, 4145, 4146, 4147, 4148, 4149, 4150, 4151, 4152, 4153, 4154, 4155, 4156, 4157, 4158, 4159, 4161, 4162, 4163, 4164, 4165, 4166, 4167, 4168, 4169, 4170, 4171, 4172, 4173, 4174, 4175, 4176, 4177, 4178, 4179, 4186, 4187, 4188, 4189, 4190, 4191, 4192, 4193, 4194, 4195, 4196, 4197, 4198, 4199, 4200, 4201, 4202, 4203, 4204, 4205, 4206, 4207, 4208, 4209, 4210, 4211, 4212, 4213, 4214, 4215, 4216, 4217, 4218, 4219, 4220, 4221, 4222, 4223, 4224, 4225, 4226, 4227, 4228, 4229, 4230, 4231, 4232, 4233, 4234, 4235, 4236, 4237, 4238, 4239, 4241, 4242, 4243, 4244, 4245, 4246, 4247, 4248, 4249, 4250, 4251, 4252, 4253, 4254, 4255, 4256, 4257, 4258, 4259, 4260, 4261, 4269, 4270, 4271, 4272, 4273, 4274, 4275, 4276, 4277, 4278, 4279, 4280, 4281, 4282, 4283, 4284, 4285, 4286, 4287, 4288, 4289, 4290, 4291, 4292, 4293, 4294, 4295, 4296, 4297, 4298, 4299, 4300, 4301, 4302, 4303, 4304, 4305, 4306, 4307, 4308, 4309, 4310, 4311, 4312, 4313, 4314, 4315, 4316, 4317, 4318, 4319, 4321, 4322, 4323, 4324, 4325, 4326, 4327, 4328, 4329, 4330, 4331, 4332, 4333, 4334, 4335, 4336, 4337, 4338, 4339, 4340, 4341, 4342, 4343, 4351, 4352, 4353, 4354, 4355, 4356, 4357, 4358, 4359, 4360, 4361, 4362, 4363, 4364, 4365, 4366, 4367, 4368, 4369, 4370, 4371, 4372, 4373, 4374, 4375, 4376, 4377, 4378, 4379, 4380, 4381, 4382, 4383, 4384, 4385, 4386, 4387, 4388, 4389, 4390, 4391, 4392, 4393, 4394, 4395, 4396, 4397, 4398, 4399, 4401, 4402, 4403, 4404, 4405, 4406, 4407, 4408, 4409, 4410, 4411, 4412, 4413, 4414, 4415, 4416, 4417, 4418, 4419, 4420, 4421, 4422, 4423, 4424, 4425, 4434, 4435, 4436, 4437, 4438, 4439, 4440, 4441, 4442, 4443, 4444, 4445, 4446, 4447, 4448, 4449, 4450, 4451, 4452, 4453, 4454, 4455, 4456, 4457, 4458, 4459, 4460, 4461, 4462, 4463, 4464, 4465, 4466, 4467, 4468, 4469, 4470, 4471, 4472, 4473, 4474, 4475, 4476, 4477, 4478, 4482, 4483, 4484, 4485, 4486, 4487, 4488, 4489, 4490, 4491, 4492, 4493, 4494, 4495, 4496, 4497, 4498, 4499, 4500, 4501, 4502, 4503, 4504, 4505, 4506, 4516, 4517, 4518, 4519, 4520, 4521, 4522, 4523, 4524, 4525, 4526, 4527, 4528, 4529, 4530, 4531, 4532, 4533, 4534, 4535, 4536, 4537, 4538, 4539, 4540, 4541, 4542, 4543, 4544, 4545, 4546, 4547, 4548, 4549, 4550, 4551, 4552, 4553, 4554, 4555, 4556, 4557, 4558, 4562, 4563, 4564, 4565, 4566, 4567, 4568, 4569, 4570, 4571, 4572, 4573, 4574, 4575, 4576, 4577, 4578, 4579, 4580, 4581, 4582, 4583, 4584, 4585, 4586, 4587, 4588, 4598, 4599, 4600, 4601, 4602, 4603, 4604, 4605, 4606, 4607, 4608, 4609, 4610, 4611, 4612, 4613, 4614, 4615, 4616, 4617, 4618, 4619, 4620, 4621, 4622, 4623, 4624, 4625, 4626, 4627, 4628, 4629, 4630, 4631, 4632, 4633, 4634, 4635, 4636, 4637, 4638, 4642, 4643, 4644, 4645, 4646, 4647, 4648, 4649, 4650, 4651, 4652, 4653, 4654, 4655, 4656, 4657, 4658, 4659, 4660, 4661, 4662, 4663, 4664, 4665, 4666, 4667, 4668, 4669, 4670, 4681, 4682, 4683, 4684, 4685, 4686, 4687, 4688, 4689, 4690, 4691, 4692, 4693, 4694, 4695, 4696, 4697, 4698, 4699, 4700, 4701, 4702, 4703, 4704, 4705, 4706, 4707, 4708, 4709, 4710, 4711, 4712, 4713, 4714, 4715, 4716, 4717, 4718, 4722, 4723, 4724, 4725, 4726, 4727, 4728, 4729, 4730, 4731, 4732, 4733, 4734, 4735, 4736, 4737, 4738, 4739, 4740, 4741, 4742, 4743, 4744, 4745, 4746, 4747, 4748, 4749, 4750, 4751, 4752, 4763, 4764, 4765, 4766, 4767, 4768, 4769, 4770, 4771, 4772, 4773, 4774, 4775, 4776, 4777, 4778, 4779, 4780, 4781, 4782, 4783, 4784, 4785, 4786, 4787, 4788, 4789, 4790, 4791, 4792, 4793, 4794, 4795, 4796, 4797, 4798, 4802, 4803, 4804, 4805, 4806, 4807, 4808, 4809, 4810, 4811, 4812, 4813, 4814, 4815, 4816, 4817, 4818, 4819, 4820, 4821, 4822, 4823, 4824, 4825, 4826, 4827, 4828, 4829, 4830, 4831, 4832, 4833, 4834, 4845, 4846, 4847, 4848, 4849, 4850, 4851, 4852, 4853, 4854, 4855, 4856, 4857, 4858, 4859, 4860, 4861, 4862, 4863, 4864, 4865, 4866, 4867, 4868, 4869, 4870, 4871, 4872, 4873, 4874, 4875, 4876, 4877, 4878, 4882, 4883, 4884, 4885, 4886, 4887, 4888, 4889, 4890, 4891, 4892, 4893, 4894, 4895, 4896, 4897, 4898, 4899, 4900, 4901, 4902, 4903, 4904, 4905, 4906, 4907, 4908, 4909, 4910, 4911, 4912, 4913, 4914, 4915, 4928, 4929, 4930, 4931, 4932, 4933, 4934, 4935, 4936, 4937, 4938, 4939, 4940, 4941, 4942, 4943, 4944, 4945, 4946, 4947, 4948, 4949, 4950, 4951, 4952, 4953, 4954, 4955, 4956, 4957, 4958, 4962, 4963, 4964, 4965, 4966, 4967, 4968, 4969, 4970, 4971, 4972, 4973, 4974, 4975, 4976, 4977, 4978, 4979, 4980, 4981, 4982, 4983, 4984, 4985, 4986, 4987, 4988, 4989, 4990, 4991, 4992, 4993, 4994, 4995, 4996, 4997, 5010, 5011, 5012, 5013, 5014, 5015, 5016, 5017, 5018, 5019, 5020, 5021, 5022, 5023, 5024, 5025, 5026, 5027, 5028, 5029, 5030, 5031, 5032, 5033, 5034, 5035, 5036, 5037, 5038, 5042, 5043, 5044, 5045, 5046, 5047, 5048, 5049, 5050, 5051, 5052, 5053, 5054, 5055, 5056, 5057, 5058, 5059, 5060, 5061, 5062, 5063, 5064, 5065, 5066, 5067, 5068, 5069, 5070, 5071, 5072, 5073, 5074, 5075, 5076, 5077, 5078, 5079, 5092, 5093, 5094, 5095, 5096, 5097, 5098, 5099, 5100, 5101, 5102, 5103, 5104, 5105, 5106, 5107, 5108, 5109, 5110, 5111, 5112, 5113, 5114, 5115, 5116, 5117, 5118, 5122, 5123, 5124, 5125, 5126, 5127, 5128, 5129, 5130, 5131, 5132, 5133, 5134, 5135, 5136, 5137, 5138, 5139, 5140, 5141, 5142, 5143, 5144, 5145, 5146, 5147, 5148, 5149, 5150, 5151, 5152, 5153, 5154, 5155, 5156, 5157, 5158, 5159, 5160, 5161, 5175, 5176, 5177, 5178, 5179, 5180, 5181, 5182, 5183, 5184, 5185, 5186, 5187, 5188, 5189, 5190, 5191, 5192, 5193, 5194, 5195, 5196, 5197, 5198, 5202, 5203, 5204, 5205, 5206, 5207, 5208, 5209, 5210, 5211, 5212, 5213, 5214, 5215, 5216, 5217, 5218, 5219, 5220, 5221, 5222, 5223, 5224, 5225, 5226, 5227, 5228, 5229, 5230, 5231, 5232, 5233, 5234, 5235, 5236, 5237, 5238, 5239, 5240, 5241, 5242, 5243, 5257, 5258, 5259, 5260, 5261, 5262, 5263, 5264, 5265, 5266, 5267, 5268, 5269, 5270, 5271, 5272, 5273, 5274, 5275, 5276, 5277, 5278, 5282, 5283, 5284, 5285, 5286, 5287, 5288, 5289, 5290, 5291, 5292, 5293, 5294, 5295, 5296, 5297, 5298, 5299, 5300, 5301, 5302, 5303, 5304, 5305, 5306, 5307, 5308, 5309, 5310, 5311, 5312, 5313, 5314, 5315, 5316, 5317, 5318, 5319, 5320, 5321, 5322, 5323, 5324, 5340, 5341, 5342, 5343, 5344, 5345, 5346, 5347, 5348, 5349, 5350, 5351, 5352, 5353, 5354, 5355, 5356, 5357, 5358, 5362, 5363, 5364, 5365, 5366, 5367, 5368, 5369, 5370, 5371, 5372, 5373, 5374, 5375, 5376, 5377, 5378, 5379, 5380, 5381, 5382, 5383, 5384, 5385, 5386, 5387, 5388, 5389, 5390, 5391, 5392, 5393, 5394, 5395, 5396, 5397, 5398, 5399, 5400, 5401, 5402, 5403, 5404, 5405, 5406, 5422, 5423, 5424, 5425, 5426, 5427, 5428, 5429, 5430, 5431, 5432, 5433, 5434, 5435, 5436, 5437, 5438, 5442, 5443, 5444, 5445, 5446, 5447, 5448, 5449, 5450, 5451, 5452, 5453, 5454, 5455, 5456, 5457, 5458, 5459, 5460, 5461, 5462, 5463, 5464, 5465, 5466, 5467, 5468, 5469, 5470, 5471, 5472, 5473, 5474, 5475, 5476, 5477, 5478, 5479, 5480, 5481, 5482, 5483, 5484, 5485, 5486, 5487, 5488, 5504, 5505, 5506, 5507, 5508, 5509, 5510, 5511, 5512, 5513, 5514, 5515, 5516, 5517, 5518, 5522, 5523, 5524, 5525, 5526, 5527, 5528, 5529, 5530, 5531, 5532, 5533, 5534, 5535, 5536, 5537, 5538, 5539, 5540, 5541, 5542, 5543, 5544, 5545, 5546, 5547, 5548, 5549, 5550, 5551, 5552, 5553, 5554, 5555, 5556, 5557, 5558, 5559, 5560, 5561, 5562, 5563, 5564, 5565, 5566, 5567, 5568, 5569, 5570, 5587, 5588, 5589, 5590, 5591, 5592, 5593, 5594, 5595, 5596, 5597, 5603, 5604, 5605, 5606, 5607, 5608, 5609, 5610, 5611, 5612, 5613, 5614, 5615, 5616, 5617, 5618, 5619, 5620, 5621, 5622, 5623, 5624, 5625, 5626, 5627, 5628, 5629, 5630, 5631, 5632, 5633, 5634, 5635, 5636, 5637, 5638, 5639, 5640, 5641, 5642, 5643, 5644, 5645, 5646, 5647, 5648, 5649, 5650, 5651, 5669, 5670, 5671, 5672, 5673, 5674, 5675, 5676, 5677, 5683, 5684, 5685, 5686, 5687, 5688, 5689, 5690, 5691, 5692, 5693, 5694, 5695, 5696, 5697, 5698, 5699, 5700, 5701, 5702, 5703, 5704, 5705, 5706, 5707, 5708, 5709, 5710, 5711, 5712, 5713, 5714, 5715, 5716, 5717, 5718, 5719, 5720, 5721, 5722, 5723, 5724, 5725, 5726, 5727, 5728, 5729, 5730, 5731, 5732, 5733, 5751, 5752, 5753, 5754, 5755, 5756, 5757, 5763, 5764, 5765, 5766, 5767, 5768, 5769, 5770, 5771, 5772, 5773, 5774, 5775, 5776, 5777, 5778, 5779, 5780, 5781, 5782, 5783, 5784, 5785, 5786, 5787, 5788, 5789, 5790, 5791, 5792, 5793, 5794, 5795, 5796, 5797, 5798, 5799, 5800, 5801, 5802, 5803, 5804, 5805, 5806, 5807, 5808, 5809, 5810, 5811, 5812, 5813, 5814, 5815, 5832, 5833, 5834, 5835, 5836, 5837, 5843, 5844, 5845, 5846, 5847, 5848, 5849, 5850, 5851, 5852, 5853, 5854, 5855, 5856, 5857, 5858, 5859, 5860, 5861, 5862, 5863, 5864, 5865, 5866, 5867, 5868, 5869, 5870, 5871, 5872, 5873, 5874, 5875, 5876, 5877, 5878, 5879, 5880, 5881, 5882, 5883, 5884, 5885, 5886, 5887, 5888, 5889, 5890, 5891, 5892, 5893, 5894, 5895, 5896, 5897, 5913, 5914, 5915, 5916, 5917, 5923, 5924, 5925, 5926, 5927, 5928, 5929, 5930, 5931, 5932, 5933, 5934, 5935, 5936, 5937, 5938, 5939, 5940, 5941, 5942, 5943, 5944, 5945, 5946, 5947, 5948, 5949, 5950, 5951, 5952, 5953, 5954, 5955, 5956, 5957, 5958, 5959, 5960, 5961, 5962, 5963, 5964, 5965, 5966, 5967, 5968, 5969, 5970, 5971, 5972, 5973, 5974, 5975, 5976, 5977, 5978, 5979, 5994, 5995, 5996, 5997, 6003, 6004, 6005, 6006, 6007, 6008, 6009, 6010, 6011, 6012, 6013, 6014, 6015, 6016, 6017, 6018, 6019, 6020, 6021, 6022, 6023, 6024, 6025, 6026, 6027, 6028, 6029, 6030, 6031, 6032, 6033, 6034, 6035, 6036, 6037, 6038, 6039, 6040, 6041, 6042, 6043, 6044, 6045, 6046, 6047, 6048, 6049, 6050, 6051, 6052, 6053, 6054, 6055, 6056, 6057, 6058, 6059, 6060, 6075, 6076, 6077, 6083, 6084, 6085, 6086, 6087, 6088, 6089, 6090, 6091, 6092, 6093, 6094, 6095, 6096, 6097, 6098, 6099, 6100, 6101, 6102, 6103, 6104, 6105, 6106, 6107, 6108, 6109, 6110, 6111, 6112, 6113, 6114, 6115, 6116, 6117, 6118, 6119, 6120, 6121, 6122, 6123, 6124, 6125, 6126, 6127, 6128, 6129, 6130, 6131, 6132, 6133, 6134, 6135, 6136, 6137, 6138, 6139, 6140, 6141, 6142, 6156, 6157, 6163, 6164, 6165, 6166, 6167, 6168, 6169, 6170, 6171, 6172, 6173, 6174, 6175, 6176, 6177, 6178, 6179, 6180, 6181, 6182, 6183, 6184, 6185, 6186, 6187, 6188, 6189, 6190, 6191, 6192, 6193, 6194, 6195, 6196, 6197, 6198, 6199, 6200, 6201, 6202, 6203, 6204, 6205, 6206, 6207, 6208, 6209, 6210, 6211, 6212, 6213, 6214, 6215, 6216, 6217, 6218, 6219, 6220, 6221, 6222, 6223, 6224, 6237, 6243, 6244, 6245, 6246, 6247, 6248, 6249, 6250, 6251, 6252, 6253, 6254, 6255, 6256, 6257, 6258, 6259, 6260, 6261, 6262, 6263, 6264, 6265, 6266, 6267, 6268, 6269, 6270, 6271, 6272, 6273, 6274, 6275, 6276, 6277, 6278, 6279, 6280, 6281, 6282, 6283, 6284, 6285, 6286, 6287, 6288, 6289, 6290, 6291, 6292, 6293, 6294, 6295, 6296, 6297, 6298, 6299, 6300, 6301, 6302, 6303, 6304, 6305, 6306, 6323, 6324, 6325, 6326, 6327, 6328, 6329, 6330, 6331, 6332, 6333, 6334, 6335, 6336, 6337, 6338, 6339, 6340, 6341, 6342, 6343, 6344, 6345, 6346, 6347, 6348, 6349, 6350, 6351, 6352, 6353, 6354, 6355, 6356, 6357, 6358, 6359, 6360, 6361, 6362, 6363, 6364, 6365, 6366, 6367, 6368, 6369, 6370, 6371, 6372, 6373, 6374, 6375, 6376, 6377, 6378, 6379, 6380, 6381, 6382, 6383, 6384, 6385, 6386, 6387, 6388, 6403, 6404, 6405, 6406, 6407, 6408, 6409, 6410, 6411, 6412, 6413, 6414, 6415, 6416, 6417, 6418, 6419, 6420, 6421, 6422, 6423, 6424, 6425, 6426, 6427, 6428, 6429, 6430, 6431, 6432, 6433, 6434, 6435, 6436, 6437, 6438, 6439, 6440, 6441, 6442, 6443, 6444, 6445, 6446, 6447, 6448, 6449, 6450, 6451, 6452, 6453, 6454, 6455, 6456, 6457, 6458, 6459, 6460, 6461, 6462, 6463, 6464, 6465, 6466, 6467, 6468, 6469, 6483, 6484, 6485, 6486, 6487, 6488, 6489, 6490, 6491, 6492, 6493, 6494, 6495, 6496, 6497, 6498, 6499, 6500, 6501, 6502, 6503, 6504, 6505, 6506, 6507, 6508, 6509, 6510, 6511, 6512, 6513, 6514, 6515, 6516, 6517, 6518, 6519, 6520, 6521, 6522, 6523, 6524, 6525, 6526, 6527, 6528, 6529, 6530, 6531, 6532, 6533, 6534, 6535, 6536, 6537, 6538, 6539, 6540, 6541, 6542, 6543, 6544, 6545, 6546, 6547, 6548, 6549, 6550, 6551]\n",
      "val ids:  []\n",
      "test ids:  [0, 1, 2, 3, 4, 5, 6, 7, 8, 78, 79, 80, 81, 82, 83, 84, 85, 86, 87, 88, 89, 90, 158, 159, 160, 161, 162, 163, 164, 165, 166, 167, 168, 169, 170, 171, 238, 239, 240, 241, 242, 243, 244, 245, 246, 247, 248, 249, 250, 251, 252, 253, 318, 319, 320, 321, 322, 324, 325, 326, 327, 328, 329, 330, 331, 332, 333, 334, 335, 398, 399, 400, 401, 402, 405, 406, 407, 408, 409, 410, 411, 412, 413, 414, 415, 416, 417, 478, 479, 480, 481, 482, 486, 487, 488, 489, 490, 491, 492, 493, 494, 495, 496, 497, 498, 499, 558, 559, 560, 561, 562, 567, 568, 569, 570, 571, 572, 573, 574, 575, 576, 577, 578, 579, 580, 638, 639, 640, 641, 642, 648, 649, 650, 651, 652, 653, 654, 655, 656, 657, 658, 659, 660, 661, 662, 718, 719, 720, 721, 722, 729, 730, 731, 732, 733, 734, 735, 736, 737, 738, 739, 740, 741, 742, 743, 744, 798, 799, 800, 801, 802, 810, 811, 812, 813, 814, 815, 816, 817, 818, 819, 820, 821, 822, 823, 824, 825, 826, 878, 879, 880, 881, 882, 892, 893, 894, 895, 896, 897, 898, 899, 900, 901, 902, 903, 904, 905, 906, 907, 908, 958, 959, 960, 961, 962, 974, 975, 976, 977, 978, 979, 980, 981, 982, 983, 984, 985, 986, 987, 988, 989, 1039, 1040, 1041, 1057, 1058, 1059, 1060, 1061, 1062, 1063, 1064, 1065, 1066, 1067, 1068, 1069, 1070, 1071, 1119, 1120, 1121, 1139, 1140, 1141, 1142, 1143, 1144, 1145, 1146, 1147, 1148, 1149, 1150, 1151, 1152, 1153, 1199, 1200, 1201, 1221, 1222, 1223, 1224, 1225, 1226, 1227, 1228, 1229, 1230, 1231, 1232, 1233, 1234, 1235, 1279, 1280, 1281, 1304, 1305, 1306, 1307, 1308, 1309, 1310, 1311, 1312, 1313, 1314, 1315, 1316, 1359, 1360, 1361, 1386, 1387, 1388, 1389, 1390, 1391, 1392, 1393, 1394, 1395, 1396, 1397, 1398, 1439, 1440, 1441, 1469, 1470, 1471, 1472, 1473, 1474, 1475, 1476, 1477, 1478, 1479, 1480, 1519, 1520, 1521, 1551, 1552, 1553, 1554, 1555, 1556, 1557, 1558, 1559, 1560, 1561, 1562, 1599, 1600, 1601, 1633, 1634, 1635, 1636, 1637, 1638, 1639, 1640, 1641, 1642, 1643, 1644, 1679, 1680, 1681, 1716, 1717, 1718, 1719, 1720, 1721, 1722, 1723, 1724, 1725, 1759, 1760, 1761, 1798, 1799, 1800, 1801, 1802, 1803, 1804, 1805, 1806, 1807, 1839, 1840, 1841, 1880, 1881, 1882, 1883, 1884, 1885, 1886, 1887, 1888, 1889, 1919, 1920, 1921, 1963, 1964, 1965, 1966, 1967, 1968, 1969, 1970, 1971, 1999, 2000, 2001, 2045, 2046, 2047, 2048, 2049, 2050, 2051, 2052, 2053, 2079, 2080, 2081, 2127, 2128, 2129, 2130, 2131, 2132, 2133, 2134, 2160, 2210, 2211, 2212, 2213, 2214, 2215, 2216, 2240, 2292, 2293, 2294, 2295, 2296, 2297, 2298, 2320, 2375, 2376, 2377, 2378, 2379, 2380, 2400, 2457, 2458, 2459, 2460, 2461, 2462, 2480, 2539, 2540, 2541, 2542, 2543, 2560, 2622, 2623, 2624, 2625, 2640, 2704, 2705, 2706, 2707, 2720, 2786, 2787, 2788, 2789, 2800, 2869, 2870, 2871, 2880, 2951, 2952, 2960, 3033, 3034, 3040, 3116, 3120, 3198, 3200, 3280, 3360, 3362, 3440, 3444, 3520, 3526, 3527, 3600, 3608, 3609, 3680, 3689, 3690, 3691, 3760, 3771, 3772, 3773, 3774, 3840, 3853, 3854, 3855, 3856, 3920, 3935, 3936, 3937, 3938, 4000, 4017, 4018, 4019, 4020, 4021, 4080, 4098, 4099, 4100, 4101, 4102, 4103, 4160, 4180, 4181, 4182, 4183, 4184, 4185, 4240, 4262, 4263, 4264, 4265, 4266, 4267, 4268, 4320, 4344, 4345, 4346, 4347, 4348, 4349, 4350, 4400, 4426, 4427, 4428, 4429, 4430, 4431, 4432, 4433, 4479, 4480, 4481, 4507, 4508, 4509, 4510, 4511, 4512, 4513, 4514, 4515, 4559, 4560, 4561, 4589, 4590, 4591, 4592, 4593, 4594, 4595, 4596, 4597, 4639, 4640, 4641, 4671, 4672, 4673, 4674, 4675, 4676, 4677, 4678, 4679, 4680, 4719, 4720, 4721, 4753, 4754, 4755, 4756, 4757, 4758, 4759, 4760, 4761, 4762, 4799, 4800, 4801, 4835, 4836, 4837, 4838, 4839, 4840, 4841, 4842, 4843, 4844, 4879, 4880, 4881, 4916, 4917, 4918, 4919, 4920, 4921, 4922, 4923, 4924, 4925, 4926, 4927, 4959, 4960, 4961, 4998, 4999, 5000, 5001, 5002, 5003, 5004, 5005, 5006, 5007, 5008, 5009, 5039, 5040, 5041, 5080, 5081, 5082, 5083, 5084, 5085, 5086, 5087, 5088, 5089, 5090, 5091, 5119, 5120, 5121, 5162, 5163, 5164, 5165, 5166, 5167, 5168, 5169, 5170, 5171, 5172, 5173, 5174, 5199, 5200, 5201, 5244, 5245, 5246, 5247, 5248, 5249, 5250, 5251, 5252, 5253, 5254, 5255, 5256, 5279, 5280, 5281, 5325, 5326, 5327, 5328, 5329, 5330, 5331, 5332, 5333, 5334, 5335, 5336, 5337, 5338, 5339, 5359, 5360, 5361, 5407, 5408, 5409, 5410, 5411, 5412, 5413, 5414, 5415, 5416, 5417, 5418, 5419, 5420, 5421, 5439, 5440, 5441, 5489, 5490, 5491, 5492, 5493, 5494, 5495, 5496, 5497, 5498, 5499, 5500, 5501, 5502, 5503, 5519, 5520, 5521, 5571, 5572, 5573, 5574, 5575, 5576, 5577, 5578, 5579, 5580, 5581, 5582, 5583, 5584, 5585, 5586, 5598, 5599, 5600, 5601, 5602, 5652, 5653, 5654, 5655, 5656, 5657, 5658, 5659, 5660, 5661, 5662, 5663, 5664, 5665, 5666, 5667, 5668, 5678, 5679, 5680, 5681, 5682, 5734, 5735, 5736, 5737, 5738, 5739, 5740, 5741, 5742, 5743, 5744, 5745, 5746, 5747, 5748, 5749, 5750, 5758, 5759, 5760, 5761, 5762, 5816, 5817, 5818, 5819, 5820, 5821, 5822, 5823, 5824, 5825, 5826, 5827, 5828, 5829, 5830, 5831, 5838, 5839, 5840, 5841, 5842, 5898, 5899, 5900, 5901, 5902, 5903, 5904, 5905, 5906, 5907, 5908, 5909, 5910, 5911, 5912, 5918, 5919, 5920, 5921, 5922, 5980, 5981, 5982, 5983, 5984, 5985, 5986, 5987, 5988, 5989, 5990, 5991, 5992, 5993, 5998, 5999, 6000, 6001, 6002, 6061, 6062, 6063, 6064, 6065, 6066, 6067, 6068, 6069, 6070, 6071, 6072, 6073, 6074, 6078, 6079, 6080, 6081, 6082, 6143, 6144, 6145, 6146, 6147, 6148, 6149, 6150, 6151, 6152, 6153, 6154, 6155, 6158, 6159, 6160, 6161, 6162, 6225, 6226, 6227, 6228, 6229, 6230, 6231, 6232, 6233, 6234, 6235, 6236, 6238, 6239, 6240, 6241, 6242, 6307, 6308, 6309, 6310, 6311, 6312, 6313, 6314, 6315, 6316, 6317, 6318, 6319, 6320, 6321, 6322, 6389, 6390, 6391, 6392, 6393, 6394, 6395, 6396, 6397, 6398, 6399, 6400, 6401, 6402, 6470, 6471, 6472, 6473, 6474, 6475, 6476, 6477, 6478, 6479, 6480, 6481, 6482, 6552, 6553, 6554, 6555, 6556, 6557, 6558, 6559, 6560]\n",
      "CPU times: user 150 ms, sys: 20.2 ms, total: 170 ms\n",
      "Wall time: 169 ms\n"
     ]
    }
   ],
   "source": [
    "%%time\n",
    "n_total = len(simulation.dataframe)\n",
    "n_train = len(simulation.dataframe[simulation.dataframe.type_of == \"train\"])\n",
    "n_val = len(simulation.dataframe[simulation.dataframe.type_of == \"val\"])\n",
    "n_test = len(simulation.dataframe[simulation.dataframe.type_of == \"test\"])\n",
    "n_train_hamiltonians = len(simulation.train_ids)\n",
    "n_val_hamiltonians = len(simulation.val_ids)\n",
    "n_test_hamiltonians = len(simulation.test_ids)\n",
    "n_total_hamiltonians = n_train_hamiltonians + n_val_hamiltonians + n_test_hamiltonians\n",
    "\n",
    "print(\"% train: \", n_train/n_total)\n",
    "print(\"% val: \",  n_val/n_total)\n",
    "print(\"% test: \", n_test/n_total)\n",
    "print(\"% train + val + test: \", (n_train+n_val+n_test)/n_total)\n",
    "print(\"\\n\")\n",
    "print(\"number of train hamiltonians: \", n_train_hamiltonians)\n",
    "print(\"number of val hamiltonians: \", n_val_hamiltonians)\n",
    "print(\"number of test hamiltonians: \", n_test_hamiltonians)\n",
    "print(\"total number of hamiltonians: \", n_total_hamiltonians)\n",
    "print(\"\\n\")\n",
    "print(\"train ids: \", simulation.train_ids)\n",
    "print(\"val ids: \", simulation.val_ids)\n",
    "print(\"test ids: \", simulation.test_ids)"
   ]
  },
  {
   "cell_type": "markdown",
   "metadata": {
    "papermill": {
     "duration": 0.017469,
     "end_time": "2020-07-08T04:59:39.245172",
     "exception": false,
     "start_time": "2020-07-08T04:59:39.227703",
     "status": "completed"
    },
    "tags": []
   },
   "source": [
    "## Running a simulation"
   ]
  },
  {
   "cell_type": "code",
   "execution_count": 23,
   "metadata": {
    "execution": {
     "iopub.execute_input": "2020-07-08T04:59:39.284121Z",
     "iopub.status.busy": "2020-07-08T04:59:39.283811Z",
     "iopub.status.idle": "2020-07-08T05:33:31.982342Z",
     "shell.execute_reply": "2020-07-08T05:33:31.982652Z"
    },
    "papermill": {
     "duration": 2032.719155,
     "end_time": "2020-07-08T05:33:31.982716",
     "exception": false,
     "start_time": "2020-07-08T04:59:39.263561",
     "status": "completed"
    },
    "tags": []
   },
   "outputs": [
    {
     "name": "stderr",
     "output_type": "stream",
     "text": [
      "\r",
      "running experiments:   0%|          | 0/100 [00:00<?, ?it/s]"
     ]
    },
    {
     "name": "stderr",
     "output_type": "stream",
     "text": [
      "\r",
      "running experiments:   1%|          | 1/100 [00:21<34:40, 21.01s/it]"
     ]
    },
    {
     "name": "stderr",
     "output_type": "stream",
     "text": [
      "\r",
      "running experiments:   2%|▏         | 2/100 [00:40<33:47, 20.68s/it]"
     ]
    },
    {
     "name": "stderr",
     "output_type": "stream",
     "text": [
      "\r",
      "running experiments:   3%|▎         | 3/100 [01:01<33:19, 20.61s/it]"
     ]
    },
    {
     "name": "stderr",
     "output_type": "stream",
     "text": [
      "\r",
      "running experiments:   4%|▍         | 4/100 [01:21<32:58, 20.60s/it]"
     ]
    },
    {
     "name": "stderr",
     "output_type": "stream",
     "text": [
      "\r",
      "running experiments:   5%|▌         | 5/100 [01:42<32:42, 20.66s/it]"
     ]
    },
    {
     "name": "stderr",
     "output_type": "stream",
     "text": [
      "\r",
      "running experiments:   6%|▌         | 6/100 [02:03<32:28, 20.73s/it]"
     ]
    },
    {
     "name": "stderr",
     "output_type": "stream",
     "text": [
      "\r",
      "running experiments:   7%|▋         | 7/100 [02:24<32:02, 20.67s/it]"
     ]
    },
    {
     "name": "stderr",
     "output_type": "stream",
     "text": [
      "\r",
      "running experiments:   8%|▊         | 8/100 [02:43<31:16, 20.40s/it]"
     ]
    },
    {
     "name": "stderr",
     "output_type": "stream",
     "text": [
      "\r",
      "running experiments:   9%|▉         | 9/100 [03:04<31:02, 20.47s/it]"
     ]
    },
    {
     "name": "stderr",
     "output_type": "stream",
     "text": [
      "\r",
      "running experiments:  10%|█         | 10/100 [03:24<30:30, 20.34s/it]"
     ]
    },
    {
     "name": "stderr",
     "output_type": "stream",
     "text": [
      "\r",
      "running experiments:  11%|█         | 11/100 [03:46<30:38, 20.66s/it]"
     ]
    },
    {
     "name": "stderr",
     "output_type": "stream",
     "text": [
      "\r",
      "running experiments:  12%|█▏        | 12/100 [04:07<30:42, 20.94s/it]"
     ]
    },
    {
     "name": "stderr",
     "output_type": "stream",
     "text": [
      "\r",
      "running experiments:  13%|█▎        | 13/100 [04:28<30:25, 20.98s/it]"
     ]
    },
    {
     "name": "stderr",
     "output_type": "stream",
     "text": [
      "\r",
      "running experiments:  14%|█▍        | 14/100 [04:49<29:53, 20.85s/it]"
     ]
    },
    {
     "name": "stderr",
     "output_type": "stream",
     "text": [
      "\r",
      "running experiments:  15%|█▌        | 15/100 [05:08<29:02, 20.51s/it]"
     ]
    },
    {
     "name": "stderr",
     "output_type": "stream",
     "text": [
      "\r",
      "running experiments:  16%|█▌        | 16/100 [05:29<28:50, 20.60s/it]"
     ]
    },
    {
     "name": "stderr",
     "output_type": "stream",
     "text": [
      "\r",
      "running experiments:  17%|█▋        | 17/100 [05:49<28:07, 20.33s/it]"
     ]
    },
    {
     "name": "stderr",
     "output_type": "stream",
     "text": [
      "\r",
      "running experiments:  18%|█▊        | 18/100 [06:09<27:37, 20.21s/it]"
     ]
    },
    {
     "name": "stderr",
     "output_type": "stream",
     "text": [
      "\r",
      "running experiments:  19%|█▉        | 19/100 [06:29<27:11, 20.14s/it]"
     ]
    },
    {
     "name": "stderr",
     "output_type": "stream",
     "text": [
      "\r",
      "running experiments:  20%|██        | 20/100 [06:50<27:11, 20.40s/it]"
     ]
    },
    {
     "name": "stderr",
     "output_type": "stream",
     "text": [
      "\r",
      "running experiments:  21%|██        | 21/100 [07:11<27:00, 20.51s/it]"
     ]
    },
    {
     "name": "stderr",
     "output_type": "stream",
     "text": [
      "\r",
      "running experiments:  22%|██▏       | 22/100 [07:33<27:14, 20.95s/it]"
     ]
    },
    {
     "name": "stderr",
     "output_type": "stream",
     "text": [
      "\r",
      "running experiments:  23%|██▎       | 23/100 [07:53<26:45, 20.85s/it]"
     ]
    },
    {
     "name": "stderr",
     "output_type": "stream",
     "text": [
      "\r",
      "running experiments:  24%|██▍       | 24/100 [08:14<26:20, 20.80s/it]"
     ]
    },
    {
     "name": "stderr",
     "output_type": "stream",
     "text": [
      "\r",
      "running experiments:  25%|██▌       | 25/100 [08:35<26:14, 20.99s/it]"
     ]
    },
    {
     "name": "stderr",
     "output_type": "stream",
     "text": [
      "\r",
      "running experiments:  26%|██▌       | 26/100 [08:56<25:41, 20.83s/it]"
     ]
    },
    {
     "name": "stderr",
     "output_type": "stream",
     "text": [
      "\r",
      "running experiments:  27%|██▋       | 27/100 [09:16<25:07, 20.65s/it]"
     ]
    },
    {
     "name": "stderr",
     "output_type": "stream",
     "text": [
      "\r",
      "running experiments:  28%|██▊       | 28/100 [09:36<24:38, 20.53s/it]"
     ]
    },
    {
     "name": "stderr",
     "output_type": "stream",
     "text": [
      "\r",
      "running experiments:  29%|██▉       | 29/100 [09:57<24:11, 20.45s/it]"
     ]
    },
    {
     "name": "stderr",
     "output_type": "stream",
     "text": [
      "\r",
      "running experiments:  30%|███       | 30/100 [10:17<23:55, 20.51s/it]"
     ]
    },
    {
     "name": "stderr",
     "output_type": "stream",
     "text": [
      "\r",
      "running experiments:  31%|███       | 31/100 [10:36<22:58, 19.98s/it]"
     ]
    },
    {
     "name": "stderr",
     "output_type": "stream",
     "text": [
      "\r",
      "running experiments:  32%|███▏      | 32/100 [10:57<22:51, 20.16s/it]"
     ]
    },
    {
     "name": "stderr",
     "output_type": "stream",
     "text": [
      "\r",
      "running experiments:  33%|███▎      | 33/100 [11:16<22:18, 19.98s/it]"
     ]
    },
    {
     "name": "stderr",
     "output_type": "stream",
     "text": [
      "\r",
      "running experiments:  34%|███▍      | 34/100 [11:37<22:26, 20.40s/it]"
     ]
    },
    {
     "name": "stderr",
     "output_type": "stream",
     "text": [
      "\r",
      "running experiments:  35%|███▌      | 35/100 [11:58<22:03, 20.36s/it]"
     ]
    },
    {
     "name": "stderr",
     "output_type": "stream",
     "text": [
      "\r",
      "running experiments:  36%|███▌      | 36/100 [12:19<21:51, 20.49s/it]"
     ]
    },
    {
     "name": "stderr",
     "output_type": "stream",
     "text": [
      "\r",
      "running experiments:  37%|███▋      | 37/100 [12:39<21:35, 20.57s/it]"
     ]
    },
    {
     "name": "stderr",
     "output_type": "stream",
     "text": [
      "\r",
      "running experiments:  38%|███▊      | 38/100 [12:59<20:51, 20.18s/it]"
     ]
    },
    {
     "name": "stderr",
     "output_type": "stream",
     "text": [
      "\r",
      "running experiments:  39%|███▉      | 39/100 [13:18<20:20, 20.01s/it]"
     ]
    },
    {
     "name": "stderr",
     "output_type": "stream",
     "text": [
      "\r",
      "running experiments:  40%|████      | 40/100 [13:39<20:09, 20.16s/it]"
     ]
    },
    {
     "name": "stderr",
     "output_type": "stream",
     "text": [
      "\r",
      "running experiments:  41%|████      | 41/100 [14:00<20:11, 20.53s/it]"
     ]
    },
    {
     "name": "stderr",
     "output_type": "stream",
     "text": [
      "\r",
      "running experiments:  42%|████▏     | 42/100 [14:20<19:35, 20.26s/it]"
     ]
    },
    {
     "name": "stderr",
     "output_type": "stream",
     "text": [
      "\r",
      "running experiments:  43%|████▎     | 43/100 [14:40<19:10, 20.18s/it]"
     ]
    },
    {
     "name": "stderr",
     "output_type": "stream",
     "text": [
      "\r",
      "running experiments:  44%|████▍     | 44/100 [15:01<19:00, 20.37s/it]"
     ]
    },
    {
     "name": "stderr",
     "output_type": "stream",
     "text": [
      "\r",
      "running experiments:  45%|████▌     | 45/100 [15:19<18:13, 19.88s/it]"
     ]
    },
    {
     "name": "stderr",
     "output_type": "stream",
     "text": [
      "\r",
      "running experiments:  46%|████▌     | 46/100 [15:39<17:57, 19.95s/it]"
     ]
    },
    {
     "name": "stderr",
     "output_type": "stream",
     "text": [
      "\r",
      "running experiments:  47%|████▋     | 47/100 [16:00<17:42, 20.04s/it]"
     ]
    },
    {
     "name": "stderr",
     "output_type": "stream",
     "text": [
      "\r",
      "running experiments:  48%|████▊     | 48/100 [16:19<17:16, 19.93s/it]"
     ]
    },
    {
     "name": "stderr",
     "output_type": "stream",
     "text": [
      "\r",
      "running experiments:  49%|████▉     | 49/100 [16:41<17:29, 20.58s/it]"
     ]
    },
    {
     "name": "stderr",
     "output_type": "stream",
     "text": [
      "\r",
      "running experiments:  50%|█████     | 50/100 [17:02<17:14, 20.68s/it]"
     ]
    },
    {
     "name": "stderr",
     "output_type": "stream",
     "text": [
      "\r",
      "running experiments:  51%|█████     | 51/100 [17:23<16:47, 20.55s/it]"
     ]
    },
    {
     "name": "stderr",
     "output_type": "stream",
     "text": [
      "\r",
      "running experiments:  52%|█████▏    | 52/100 [17:42<16:08, 20.17s/it]"
     ]
    },
    {
     "name": "stderr",
     "output_type": "stream",
     "text": [
      "\r",
      "running experiments:  53%|█████▎    | 53/100 [18:03<15:54, 20.32s/it]"
     ]
    },
    {
     "name": "stderr",
     "output_type": "stream",
     "text": [
      "\r",
      "running experiments:  54%|█████▍    | 54/100 [18:24<15:45, 20.55s/it]"
     ]
    },
    {
     "name": "stderr",
     "output_type": "stream",
     "text": [
      "\r",
      "running experiments:  55%|█████▌    | 55/100 [18:43<15:09, 20.21s/it]"
     ]
    },
    {
     "name": "stderr",
     "output_type": "stream",
     "text": [
      "\r",
      "running experiments:  56%|█████▌    | 56/100 [19:03<14:41, 20.04s/it]"
     ]
    },
    {
     "name": "stderr",
     "output_type": "stream",
     "text": [
      "\r",
      "running experiments:  57%|█████▋    | 57/100 [19:22<14:10, 19.78s/it]"
     ]
    },
    {
     "name": "stderr",
     "output_type": "stream",
     "text": [
      "\r",
      "running experiments:  58%|█████▊    | 58/100 [19:42<13:56, 19.92s/it]"
     ]
    },
    {
     "name": "stderr",
     "output_type": "stream",
     "text": [
      "\r",
      "running experiments:  59%|█████▉    | 59/100 [20:02<13:39, 20.00s/it]"
     ]
    },
    {
     "name": "stderr",
     "output_type": "stream",
     "text": [
      "\r",
      "running experiments:  60%|██████    | 60/100 [20:22<13:22, 20.05s/it]"
     ]
    },
    {
     "name": "stderr",
     "output_type": "stream",
     "text": [
      "\r",
      "running experiments:  61%|██████    | 61/100 [20:43<13:05, 20.15s/it]"
     ]
    },
    {
     "name": "stderr",
     "output_type": "stream",
     "text": [
      "\r",
      "running experiments:  62%|██████▏   | 62/100 [21:02<12:33, 19.83s/it]"
     ]
    },
    {
     "name": "stderr",
     "output_type": "stream",
     "text": [
      "\r",
      "running experiments:  63%|██████▎   | 63/100 [21:23<12:26, 20.18s/it]"
     ]
    },
    {
     "name": "stderr",
     "output_type": "stream",
     "text": [
      "\r",
      "running experiments:  64%|██████▍   | 64/100 [21:43<12:01, 20.04s/it]"
     ]
    },
    {
     "name": "stderr",
     "output_type": "stream",
     "text": [
      "\r",
      "running experiments:  65%|██████▌   | 65/100 [22:03<11:45, 20.15s/it]"
     ]
    },
    {
     "name": "stderr",
     "output_type": "stream",
     "text": [
      "\r",
      "running experiments:  66%|██████▌   | 66/100 [22:24<11:28, 20.25s/it]"
     ]
    },
    {
     "name": "stderr",
     "output_type": "stream",
     "text": [
      "\r",
      "running experiments:  67%|██████▋   | 67/100 [22:43<11:03, 20.11s/it]"
     ]
    },
    {
     "name": "stderr",
     "output_type": "stream",
     "text": [
      "\r",
      "running experiments:  68%|██████▊   | 68/100 [23:03<10:44, 20.14s/it]"
     ]
    },
    {
     "name": "stderr",
     "output_type": "stream",
     "text": [
      "\r",
      "running experiments:  69%|██████▉   | 69/100 [23:23<10:18, 19.94s/it]"
     ]
    },
    {
     "name": "stderr",
     "output_type": "stream",
     "text": [
      "\r",
      "running experiments:  70%|███████   | 70/100 [23:43<09:56, 19.89s/it]"
     ]
    },
    {
     "name": "stderr",
     "output_type": "stream",
     "text": [
      "\r",
      "running experiments:  71%|███████   | 71/100 [24:03<09:39, 19.98s/it]"
     ]
    },
    {
     "name": "stderr",
     "output_type": "stream",
     "text": [
      "\r",
      "running experiments:  72%|███████▏  | 72/100 [24:24<09:26, 20.25s/it]"
     ]
    },
    {
     "name": "stderr",
     "output_type": "stream",
     "text": [
      "\r",
      "running experiments:  73%|███████▎  | 73/100 [24:45<09:10, 20.38s/it]"
     ]
    },
    {
     "name": "stderr",
     "output_type": "stream",
     "text": [
      "\r",
      "running experiments:  74%|███████▍  | 74/100 [25:06<08:54, 20.57s/it]"
     ]
    },
    {
     "name": "stderr",
     "output_type": "stream",
     "text": [
      "\r",
      "running experiments:  75%|███████▌  | 75/100 [25:25<08:28, 20.35s/it]"
     ]
    },
    {
     "name": "stderr",
     "output_type": "stream",
     "text": [
      "\r",
      "running experiments:  76%|███████▌  | 76/100 [25:46<08:10, 20.45s/it]"
     ]
    },
    {
     "name": "stderr",
     "output_type": "stream",
     "text": [
      "\r",
      "running experiments:  77%|███████▋  | 77/100 [26:07<07:56, 20.73s/it]"
     ]
    },
    {
     "name": "stderr",
     "output_type": "stream",
     "text": [
      "\r",
      "running experiments:  78%|███████▊  | 78/100 [26:30<07:50, 21.40s/it]"
     ]
    },
    {
     "name": "stderr",
     "output_type": "stream",
     "text": [
      "\r",
      "running experiments:  79%|███████▉  | 79/100 [26:50<07:20, 20.95s/it]"
     ]
    },
    {
     "name": "stderr",
     "output_type": "stream",
     "text": [
      "\r",
      "running experiments:  80%|████████  | 80/100 [27:11<06:57, 20.86s/it]"
     ]
    },
    {
     "name": "stderr",
     "output_type": "stream",
     "text": [
      "\r",
      "running experiments:  81%|████████  | 81/100 [27:32<06:38, 20.95s/it]"
     ]
    },
    {
     "name": "stderr",
     "output_type": "stream",
     "text": [
      "\r",
      "running experiments:  82%|████████▏ | 82/100 [27:52<06:08, 20.50s/it]"
     ]
    },
    {
     "name": "stderr",
     "output_type": "stream",
     "text": [
      "\r",
      "running experiments:  83%|████████▎ | 83/100 [28:12<05:47, 20.46s/it]"
     ]
    },
    {
     "name": "stderr",
     "output_type": "stream",
     "text": [
      "\r",
      "running experiments:  84%|████████▍ | 84/100 [28:32<05:25, 20.37s/it]"
     ]
    },
    {
     "name": "stderr",
     "output_type": "stream",
     "text": [
      "\r",
      "running experiments:  85%|████████▌ | 85/100 [28:53<05:06, 20.46s/it]"
     ]
    },
    {
     "name": "stderr",
     "output_type": "stream",
     "text": [
      "\r",
      "running experiments:  86%|████████▌ | 86/100 [29:13<04:44, 20.35s/it]"
     ]
    },
    {
     "name": "stderr",
     "output_type": "stream",
     "text": [
      "\r",
      "running experiments:  87%|████████▋ | 87/100 [29:33<04:22, 20.21s/it]"
     ]
    },
    {
     "name": "stderr",
     "output_type": "stream",
     "text": [
      "\r",
      "running experiments:  88%|████████▊ | 88/100 [29:53<04:03, 20.29s/it]"
     ]
    },
    {
     "name": "stderr",
     "output_type": "stream",
     "text": [
      "\r",
      "running experiments:  89%|████████▉ | 89/100 [30:13<03:42, 20.26s/it]"
     ]
    },
    {
     "name": "stderr",
     "output_type": "stream",
     "text": [
      "\r",
      "running experiments:  90%|█████████ | 90/100 [30:32<03:18, 19.81s/it]"
     ]
    },
    {
     "name": "stderr",
     "output_type": "stream",
     "text": [
      "\r",
      "running experiments:  91%|█████████ | 91/100 [30:51<02:56, 19.61s/it]"
     ]
    },
    {
     "name": "stderr",
     "output_type": "stream",
     "text": [
      "\r",
      "running experiments:  92%|█████████▏| 92/100 [31:12<02:40, 20.02s/it]"
     ]
    },
    {
     "name": "stderr",
     "output_type": "stream",
     "text": [
      "\r",
      "running experiments:  93%|█████████▎| 93/100 [31:31<02:17, 19.67s/it]"
     ]
    },
    {
     "name": "stderr",
     "output_type": "stream",
     "text": [
      "\r",
      "running experiments:  94%|█████████▍| 94/100 [31:51<01:58, 19.70s/it]"
     ]
    },
    {
     "name": "stderr",
     "output_type": "stream",
     "text": [
      "\r",
      "running experiments:  95%|█████████▌| 95/100 [32:11<01:39, 19.84s/it]"
     ]
    },
    {
     "name": "stderr",
     "output_type": "stream",
     "text": [
      "\r",
      "running experiments:  96%|█████████▌| 96/100 [32:31<01:19, 19.98s/it]"
     ]
    },
    {
     "name": "stderr",
     "output_type": "stream",
     "text": [
      "\r",
      "running experiments:  97%|█████████▋| 97/100 [32:52<01:00, 20.16s/it]"
     ]
    },
    {
     "name": "stderr",
     "output_type": "stream",
     "text": [
      "\r",
      "running experiments:  98%|█████████▊| 98/100 [33:12<00:40, 20.17s/it]"
     ]
    },
    {
     "name": "stderr",
     "output_type": "stream",
     "text": [
      "\r",
      "running experiments:  99%|█████████▉| 99/100 [33:33<00:20, 20.27s/it]"
     ]
    },
    {
     "name": "stderr",
     "output_type": "stream",
     "text": [
      "\r",
      "running experiments: 100%|██████████| 100/100 [33:52<00:00, 20.04s/it]"
     ]
    },
    {
     "name": "stderr",
     "output_type": "stream",
     "text": [
      "\r",
      "running experiments: 100%|██████████| 100/100 [33:52<00:00, 20.33s/it]"
     ]
    },
    {
     "name": "stdout",
     "output_type": "stream",
     "text": [
      "CPU times: user 33min 51s, sys: 1.82 s, total: 33min 52s\n",
      "Wall time: 33min 52s\n"
     ]
    },
    {
     "name": "stderr",
     "output_type": "stream",
     "text": [
      "\n"
     ]
    },
    {
     "data": {
      "text/html": [
       "<div>\n",
       "<style scoped>\n",
       "    .dataframe tbody tr th:only-of-type {\n",
       "        vertical-align: middle;\n",
       "    }\n",
       "\n",
       "    .dataframe tbody tr th {\n",
       "        vertical-align: top;\n",
       "    }\n",
       "\n",
       "    .dataframe thead th {\n",
       "        text-align: right;\n",
       "    }\n",
       "</style>\n",
       "<table border=\"1\" class=\"dataframe\">\n",
       "  <thead>\n",
       "    <tr style=\"text-align: right;\">\n",
       "      <th></th>\n",
       "      <th>id</th>\n",
       "      <th>path</th>\n",
       "      <th>t1</th>\n",
       "      <th>t2</th>\n",
       "      <th>winding</th>\n",
       "      <th>phase</th>\n",
       "      <th>pred_phase</th>\n",
       "      <th>type_of</th>\n",
       "      <th>dft_feat0</th>\n",
       "      <th>dft_feat1</th>\n",
       "      <th>...</th>\n",
       "      <th>dft_feat41</th>\n",
       "      <th>dft_feat42</th>\n",
       "      <th>dft_feat43</th>\n",
       "      <th>dft_feat44</th>\n",
       "      <th>dft_feat45</th>\n",
       "      <th>dft_feat46</th>\n",
       "      <th>dft_feat47</th>\n",
       "      <th>dft_feat48</th>\n",
       "      <th>dft_feat49</th>\n",
       "      <th>dft_feat50</th>\n",
       "    </tr>\n",
       "  </thead>\n",
       "  <tbody>\n",
       "    <tr>\n",
       "      <th>0</th>\n",
       "      <td>0</td>\n",
       "      <td>H_-2_-2_0.509296.dat</td>\n",
       "      <td>-2.0</td>\n",
       "      <td>-2.0</td>\n",
       "      <td>0.509296</td>\n",
       "      <td>999</td>\n",
       "      <td>1</td>\n",
       "      <td>test</td>\n",
       "      <td>1.000000e+01</td>\n",
       "      <td>-9.492516e-16</td>\n",
       "      <td>...</td>\n",
       "      <td>2.002041e-15</td>\n",
       "      <td>9.939958e-15</td>\n",
       "      <td>7.887867e-16</td>\n",
       "      <td>-6.447230e-15</td>\n",
       "      <td>7.385700e-16</td>\n",
       "      <td>3.397457e-15</td>\n",
       "      <td>7.186017e-15</td>\n",
       "      <td>5.637201e-15</td>\n",
       "      <td>-9.492396e-15</td>\n",
       "      <td>7.521761e-16</td>\n",
       "    </tr>\n",
       "    <tr>\n",
       "      <th>1</th>\n",
       "      <td>0</td>\n",
       "      <td>H_-2_-2_0.509296.dat</td>\n",
       "      <td>-2.0</td>\n",
       "      <td>-2.0</td>\n",
       "      <td>0.509296</td>\n",
       "      <td>999</td>\n",
       "      <td>1</td>\n",
       "      <td>test</td>\n",
       "      <td>-9.714451e-16</td>\n",
       "      <td>7.043181e+00</td>\n",
       "      <td>...</td>\n",
       "      <td>4.945312e-06</td>\n",
       "      <td>-5.540991e-15</td>\n",
       "      <td>3.345759e-07</td>\n",
       "      <td>-8.565250e-15</td>\n",
       "      <td>3.902113e-06</td>\n",
       "      <td>1.254253e-15</td>\n",
       "      <td>5.221327e-08</td>\n",
       "      <td>6.239340e-15</td>\n",
       "      <td>2.787262e-02</td>\n",
       "      <td>-9.648589e-16</td>\n",
       "    </tr>\n",
       "    <tr>\n",
       "      <th>2</th>\n",
       "      <td>0</td>\n",
       "      <td>H_-2_-2_0.509296.dat</td>\n",
       "      <td>-2.0</td>\n",
       "      <td>-2.0</td>\n",
       "      <td>0.509296</td>\n",
       "      <td>999</td>\n",
       "      <td>0</td>\n",
       "      <td>test</td>\n",
       "      <td>5.551115e-17</td>\n",
       "      <td>1.976325e-15</td>\n",
       "      <td>...</td>\n",
       "      <td>-9.867786e-15</td>\n",
       "      <td>-3.855264e-06</td>\n",
       "      <td>-7.103689e-16</td>\n",
       "      <td>-4.164889e-07</td>\n",
       "      <td>8.143030e-15</td>\n",
       "      <td>-3.673760e-06</td>\n",
       "      <td>1.073251e-14</td>\n",
       "      <td>1.110751e-01</td>\n",
       "      <td>1.113201e-14</td>\n",
       "      <td>4.000000e-06</td>\n",
       "    </tr>\n",
       "    <tr>\n",
       "      <th>3</th>\n",
       "      <td>0</td>\n",
       "      <td>H_-2_-2_0.509296.dat</td>\n",
       "      <td>-2.0</td>\n",
       "      <td>-2.0</td>\n",
       "      <td>0.509296</td>\n",
       "      <td>999</td>\n",
       "      <td>1</td>\n",
       "      <td>test</td>\n",
       "      <td>0.000000e+00</td>\n",
       "      <td>-2.137289e-16</td>\n",
       "      <td>...</td>\n",
       "      <td>2.348986e-15</td>\n",
       "      <td>4.902321e-15</td>\n",
       "      <td>-1.625948e-15</td>\n",
       "      <td>1.781114e-14</td>\n",
       "      <td>1.571237e-15</td>\n",
       "      <td>4.049713e-15</td>\n",
       "      <td>8.559918e-15</td>\n",
       "      <td>1.311733e-14</td>\n",
       "      <td>1.734725e-14</td>\n",
       "      <td>-1.000000e+01</td>\n",
       "    </tr>\n",
       "    <tr>\n",
       "      <th>4</th>\n",
       "      <td>0</td>\n",
       "      <td>H_-2_-2_0.509296.dat</td>\n",
       "      <td>-2.0</td>\n",
       "      <td>-2.0</td>\n",
       "      <td>0.509296</td>\n",
       "      <td>999</td>\n",
       "      <td>0</td>\n",
       "      <td>test</td>\n",
       "      <td>-1.630640e-16</td>\n",
       "      <td>-4.177641e-01</td>\n",
       "      <td>...</td>\n",
       "      <td>1.895428e-06</td>\n",
       "      <td>-1.857144e-15</td>\n",
       "      <td>-2.370346e-06</td>\n",
       "      <td>2.028406e-15</td>\n",
       "      <td>-1.557537e-06</td>\n",
       "      <td>-8.950521e-16</td>\n",
       "      <td>1.032379e-06</td>\n",
       "      <td>-6.575592e-15</td>\n",
       "      <td>4.432186e-01</td>\n",
       "      <td>-1.612599e-17</td>\n",
       "    </tr>\n",
       "    <tr>\n",
       "      <th>5</th>\n",
       "      <td>0</td>\n",
       "      <td>H_-2_-2_0.509296.dat</td>\n",
       "      <td>-2.0</td>\n",
       "      <td>-2.0</td>\n",
       "      <td>0.509296</td>\n",
       "      <td>999</td>\n",
       "      <td>0</td>\n",
       "      <td>test</td>\n",
       "      <td>-9.228729e-16</td>\n",
       "      <td>5.164147e-15</td>\n",
       "      <td>...</td>\n",
       "      <td>7.647972e-15</td>\n",
       "      <td>-1.790758e-06</td>\n",
       "      <td>4.424319e-16</td>\n",
       "      <td>1.248733e-06</td>\n",
       "      <td>-4.673949e-15</td>\n",
       "      <td>3.954806e-06</td>\n",
       "      <td>-1.132259e-14</td>\n",
       "      <td>8.801667e-01</td>\n",
       "      <td>-1.550455e-14</td>\n",
       "      <td>1.200000e-05</td>\n",
       "    </tr>\n",
       "    <tr>\n",
       "      <th>6</th>\n",
       "      <td>0</td>\n",
       "      <td>H_-2_-2_0.509296.dat</td>\n",
       "      <td>-2.0</td>\n",
       "      <td>-2.0</td>\n",
       "      <td>0.509296</td>\n",
       "      <td>999</td>\n",
       "      <td>0</td>\n",
       "      <td>test</td>\n",
       "      <td>-1.249001e-16</td>\n",
       "      <td>-2.975733e-06</td>\n",
       "      <td>...</td>\n",
       "      <td>-3.095953e-06</td>\n",
       "      <td>-2.765887e-15</td>\n",
       "      <td>-1.203567e-06</td>\n",
       "      <td>7.257281e-15</td>\n",
       "      <td>3.871288e-06</td>\n",
       "      <td>-6.388426e-15</td>\n",
       "      <td>-2.451267e-01</td>\n",
       "      <td>6.876630e-15</td>\n",
       "      <td>6.438558e-07</td>\n",
       "      <td>8.467814e-16</td>\n",
       "    </tr>\n",
       "    <tr>\n",
       "      <th>7</th>\n",
       "      <td>0</td>\n",
       "      <td>H_-2_-2_0.509296.dat</td>\n",
       "      <td>-2.0</td>\n",
       "      <td>-2.0</td>\n",
       "      <td>0.509296</td>\n",
       "      <td>999</td>\n",
       "      <td>0</td>\n",
       "      <td>test</td>\n",
       "      <td>4.163336e-17</td>\n",
       "      <td>-1.379742e-06</td>\n",
       "      <td>...</td>\n",
       "      <td>-1.857449e-06</td>\n",
       "      <td>-4.119832e-15</td>\n",
       "      <td>2.085785e-06</td>\n",
       "      <td>-8.943926e-15</td>\n",
       "      <td>-6.554235e-07</td>\n",
       "      <td>5.428420e-15</td>\n",
       "      <td>-1.302947e+00</td>\n",
       "      <td>2.260240e-15</td>\n",
       "      <td>5.568957e-07</td>\n",
       "      <td>-2.569077e-16</td>\n",
       "    </tr>\n",
       "    <tr>\n",
       "      <th>8</th>\n",
       "      <td>0</td>\n",
       "      <td>H_-2_-2_0.509296.dat</td>\n",
       "      <td>-2.0</td>\n",
       "      <td>-2.0</td>\n",
       "      <td>0.509296</td>\n",
       "      <td>999</td>\n",
       "      <td>0</td>\n",
       "      <td>test</td>\n",
       "      <td>-4.000000e-06</td>\n",
       "      <td>1.020239e-15</td>\n",
       "      <td>...</td>\n",
       "      <td>2.341752e-15</td>\n",
       "      <td>1.323027e-06</td>\n",
       "      <td>5.145735e-15</td>\n",
       "      <td>-4.076888e-06</td>\n",
       "      <td>5.715952e-15</td>\n",
       "      <td>4.513358e-01</td>\n",
       "      <td>-1.012454e-14</td>\n",
       "      <td>5.715801e-07</td>\n",
       "      <td>-8.811769e-15</td>\n",
       "      <td>-6.973923e-16</td>\n",
       "    </tr>\n",
       "    <tr>\n",
       "      <th>9</th>\n",
       "      <td>0</td>\n",
       "      <td>H_-2_-2_0.509296.dat</td>\n",
       "      <td>-2.0</td>\n",
       "      <td>-2.0</td>\n",
       "      <td>0.509296</td>\n",
       "      <td>999</td>\n",
       "      <td>1</td>\n",
       "      <td>test</td>\n",
       "      <td>4.000000e-06</td>\n",
       "      <td>-2.138117e-15</td>\n",
       "      <td>...</td>\n",
       "      <td>-6.579038e-16</td>\n",
       "      <td>-1.179568e-06</td>\n",
       "      <td>7.964563e-16</td>\n",
       "      <td>2.259589e-06</td>\n",
       "      <td>9.927922e-15</td>\n",
       "      <td>-1.699157e+00</td>\n",
       "      <td>-1.853805e-15</td>\n",
       "      <td>-5.682221e-06</td>\n",
       "      <td>2.425086e-15</td>\n",
       "      <td>-3.094253e-16</td>\n",
       "    </tr>\n",
       "  </tbody>\n",
       "</table>\n",
       "<p>10 rows × 59 columns</p>\n",
       "</div>"
      ],
      "text/plain": [
       "   id                  path   t1   t2   winding  phase  pred_phase type_of  \\\n",
       "0   0  H_-2_-2_0.509296.dat -2.0 -2.0  0.509296    999           1    test   \n",
       "1   0  H_-2_-2_0.509296.dat -2.0 -2.0  0.509296    999           1    test   \n",
       "2   0  H_-2_-2_0.509296.dat -2.0 -2.0  0.509296    999           0    test   \n",
       "3   0  H_-2_-2_0.509296.dat -2.0 -2.0  0.509296    999           1    test   \n",
       "4   0  H_-2_-2_0.509296.dat -2.0 -2.0  0.509296    999           0    test   \n",
       "5   0  H_-2_-2_0.509296.dat -2.0 -2.0  0.509296    999           0    test   \n",
       "6   0  H_-2_-2_0.509296.dat -2.0 -2.0  0.509296    999           0    test   \n",
       "7   0  H_-2_-2_0.509296.dat -2.0 -2.0  0.509296    999           0    test   \n",
       "8   0  H_-2_-2_0.509296.dat -2.0 -2.0  0.509296    999           0    test   \n",
       "9   0  H_-2_-2_0.509296.dat -2.0 -2.0  0.509296    999           1    test   \n",
       "\n",
       "      dft_feat0     dft_feat1  ...    dft_feat41    dft_feat42    dft_feat43  \\\n",
       "0  1.000000e+01 -9.492516e-16  ...  2.002041e-15  9.939958e-15  7.887867e-16   \n",
       "1 -9.714451e-16  7.043181e+00  ...  4.945312e-06 -5.540991e-15  3.345759e-07   \n",
       "2  5.551115e-17  1.976325e-15  ... -9.867786e-15 -3.855264e-06 -7.103689e-16   \n",
       "3  0.000000e+00 -2.137289e-16  ...  2.348986e-15  4.902321e-15 -1.625948e-15   \n",
       "4 -1.630640e-16 -4.177641e-01  ...  1.895428e-06 -1.857144e-15 -2.370346e-06   \n",
       "5 -9.228729e-16  5.164147e-15  ...  7.647972e-15 -1.790758e-06  4.424319e-16   \n",
       "6 -1.249001e-16 -2.975733e-06  ... -3.095953e-06 -2.765887e-15 -1.203567e-06   \n",
       "7  4.163336e-17 -1.379742e-06  ... -1.857449e-06 -4.119832e-15  2.085785e-06   \n",
       "8 -4.000000e-06  1.020239e-15  ...  2.341752e-15  1.323027e-06  5.145735e-15   \n",
       "9  4.000000e-06 -2.138117e-15  ... -6.579038e-16 -1.179568e-06  7.964563e-16   \n",
       "\n",
       "     dft_feat44    dft_feat45    dft_feat46    dft_feat47    dft_feat48  \\\n",
       "0 -6.447230e-15  7.385700e-16  3.397457e-15  7.186017e-15  5.637201e-15   \n",
       "1 -8.565250e-15  3.902113e-06  1.254253e-15  5.221327e-08  6.239340e-15   \n",
       "2 -4.164889e-07  8.143030e-15 -3.673760e-06  1.073251e-14  1.110751e-01   \n",
       "3  1.781114e-14  1.571237e-15  4.049713e-15  8.559918e-15  1.311733e-14   \n",
       "4  2.028406e-15 -1.557537e-06 -8.950521e-16  1.032379e-06 -6.575592e-15   \n",
       "5  1.248733e-06 -4.673949e-15  3.954806e-06 -1.132259e-14  8.801667e-01   \n",
       "6  7.257281e-15  3.871288e-06 -6.388426e-15 -2.451267e-01  6.876630e-15   \n",
       "7 -8.943926e-15 -6.554235e-07  5.428420e-15 -1.302947e+00  2.260240e-15   \n",
       "8 -4.076888e-06  5.715952e-15  4.513358e-01 -1.012454e-14  5.715801e-07   \n",
       "9  2.259589e-06  9.927922e-15 -1.699157e+00 -1.853805e-15 -5.682221e-06   \n",
       "\n",
       "     dft_feat49    dft_feat50  \n",
       "0 -9.492396e-15  7.521761e-16  \n",
       "1  2.787262e-02 -9.648589e-16  \n",
       "2  1.113201e-14  4.000000e-06  \n",
       "3  1.734725e-14 -1.000000e+01  \n",
       "4  4.432186e-01 -1.612599e-17  \n",
       "5 -1.550455e-14  1.200000e-05  \n",
       "6  6.438558e-07  8.467814e-16  \n",
       "7  5.568957e-07 -2.569077e-16  \n",
       "8 -8.811769e-15 -6.973923e-16  \n",
       "9  2.425086e-15 -3.094253e-16  \n",
       "\n",
       "[10 rows x 59 columns]"
      ]
     },
     "execution_count": 23,
     "metadata": {},
     "output_type": "execute_result"
    }
   ],
   "source": [
    "%%time\n",
    "simulation.run_simulation(n_experiments, start_n, fit_params,mode, shuffle_rows, pred_params, random_features, \\\n",
    "                          store_in_lists, save_eigenvector, save_hamiltonian, save_accuracy,\\\n",
    "                          save_models)\n",
    "\n",
    "simulation.fourier_engineered_dataframe.head(10)"
   ]
  },
  {
   "cell_type": "code",
   "execution_count": 24,
   "metadata": {
    "execution": {
     "iopub.execute_input": "2020-07-08T05:33:32.055608Z",
     "iopub.status.busy": "2020-07-08T05:33:32.055281Z",
     "iopub.status.idle": "2020-07-08T05:33:32.081154Z",
     "shell.execute_reply": "2020-07-08T05:33:32.080823Z"
    },
    "papermill": {
     "duration": 0.063125,
     "end_time": "2020-07-08T05:33:32.081213",
     "exception": false,
     "start_time": "2020-07-08T05:33:32.018088",
     "status": "completed"
    },
    "tags": []
   },
   "outputs": [
    {
     "data": {
      "text/html": [
       "<div>\n",
       "<style scoped>\n",
       "    .dataframe tbody tr th:only-of-type {\n",
       "        vertical-align: middle;\n",
       "    }\n",
       "\n",
       "    .dataframe tbody tr th {\n",
       "        vertical-align: top;\n",
       "    }\n",
       "\n",
       "    .dataframe thead th {\n",
       "        text-align: right;\n",
       "    }\n",
       "</style>\n",
       "<table border=\"1\" class=\"dataframe\">\n",
       "  <thead>\n",
       "    <tr style=\"text-align: right;\">\n",
       "      <th></th>\n",
       "      <th>id</th>\n",
       "      <th>path</th>\n",
       "      <th>t1</th>\n",
       "      <th>t2</th>\n",
       "      <th>winding</th>\n",
       "      <th>phase</th>\n",
       "      <th>pred_phase</th>\n",
       "      <th>type_of</th>\n",
       "      <th>feat0</th>\n",
       "      <th>feat1</th>\n",
       "      <th>...</th>\n",
       "      <th>feat90</th>\n",
       "      <th>feat91</th>\n",
       "      <th>feat92</th>\n",
       "      <th>feat93</th>\n",
       "      <th>feat94</th>\n",
       "      <th>feat95</th>\n",
       "      <th>feat96</th>\n",
       "      <th>feat97</th>\n",
       "      <th>feat98</th>\n",
       "      <th>feat99</th>\n",
       "    </tr>\n",
       "  </thead>\n",
       "  <tbody>\n",
       "    <tr>\n",
       "      <th>0</th>\n",
       "      <td>0</td>\n",
       "      <td>H_-2_-2_0.509296.dat</td>\n",
       "      <td>-2.0</td>\n",
       "      <td>-2.0</td>\n",
       "      <td>0.509296</td>\n",
       "      <td>999</td>\n",
       "      <td>666</td>\n",
       "      <td>test</td>\n",
       "      <td>0.100000</td>\n",
       "      <td>0.100000</td>\n",
       "      <td>...</td>\n",
       "      <td>0.100000</td>\n",
       "      <td>0.100000</td>\n",
       "      <td>0.100000</td>\n",
       "      <td>0.100000</td>\n",
       "      <td>0.100000</td>\n",
       "      <td>0.100000</td>\n",
       "      <td>0.100000</td>\n",
       "      <td>0.100000</td>\n",
       "      <td>0.100000</td>\n",
       "      <td>0.100000</td>\n",
       "    </tr>\n",
       "    <tr>\n",
       "      <th>1</th>\n",
       "      <td>0</td>\n",
       "      <td>H_-2_-2_0.509296.dat</td>\n",
       "      <td>-2.0</td>\n",
       "      <td>-2.0</td>\n",
       "      <td>0.509296</td>\n",
       "      <td>999</td>\n",
       "      <td>666</td>\n",
       "      <td>test</td>\n",
       "      <td>0.141421</td>\n",
       "      <td>0.141142</td>\n",
       "      <td>...</td>\n",
       "      <td>0.114412</td>\n",
       "      <td>0.108967</td>\n",
       "      <td>0.123928</td>\n",
       "      <td>0.119406</td>\n",
       "      <td>0.131490</td>\n",
       "      <td>0.127962</td>\n",
       "      <td>0.136978</td>\n",
       "      <td>0.134500</td>\n",
       "      <td>0.140306</td>\n",
       "      <td>0.138916</td>\n",
       "    </tr>\n",
       "    <tr>\n",
       "      <th>2</th>\n",
       "      <td>0</td>\n",
       "      <td>H_-2_-2_0.509296.dat</td>\n",
       "      <td>-2.0</td>\n",
       "      <td>-2.0</td>\n",
       "      <td>0.509296</td>\n",
       "      <td>999</td>\n",
       "      <td>666</td>\n",
       "      <td>test</td>\n",
       "      <td>0.141421</td>\n",
       "      <td>0.140306</td>\n",
       "      <td>...</td>\n",
       "      <td>0.043702</td>\n",
       "      <td>0.026500</td>\n",
       "      <td>0.075777</td>\n",
       "      <td>0.060214</td>\n",
       "      <td>0.103092</td>\n",
       "      <td>0.090145</td>\n",
       "      <td>0.123928</td>\n",
       "      <td>0.114412</td>\n",
       "      <td>0.136978</td>\n",
       "      <td>0.131490</td>\n",
       "    </tr>\n",
       "    <tr>\n",
       "      <th>3</th>\n",
       "      <td>0</td>\n",
       "      <td>H_-2_-2_0.509296.dat</td>\n",
       "      <td>-2.0</td>\n",
       "      <td>-2.0</td>\n",
       "      <td>0.509296</td>\n",
       "      <td>999</td>\n",
       "      <td>666</td>\n",
       "      <td>test</td>\n",
       "      <td>-0.100000</td>\n",
       "      <td>0.100000</td>\n",
       "      <td>...</td>\n",
       "      <td>-0.100000</td>\n",
       "      <td>0.100000</td>\n",
       "      <td>-0.100000</td>\n",
       "      <td>0.100000</td>\n",
       "      <td>-0.100000</td>\n",
       "      <td>0.100000</td>\n",
       "      <td>-0.100000</td>\n",
       "      <td>0.100000</td>\n",
       "      <td>-0.100000</td>\n",
       "      <td>0.100000</td>\n",
       "    </tr>\n",
       "    <tr>\n",
       "      <th>4</th>\n",
       "      <td>0</td>\n",
       "      <td>H_-2_-2_0.509296.dat</td>\n",
       "      <td>-2.0</td>\n",
       "      <td>-2.0</td>\n",
       "      <td>0.509296</td>\n",
       "      <td>999</td>\n",
       "      <td>666</td>\n",
       "      <td>test</td>\n",
       "      <td>0.000509</td>\n",
       "      <td>-0.008372</td>\n",
       "      <td>...</td>\n",
       "      <td>-0.082713</td>\n",
       "      <td>-0.089753</td>\n",
       "      <td>-0.067684</td>\n",
       "      <td>-0.075347</td>\n",
       "      <td>-0.051587</td>\n",
       "      <td>-0.059753</td>\n",
       "      <td>-0.034677</td>\n",
       "      <td>-0.043217</td>\n",
       "      <td>-0.017220</td>\n",
       "      <td>-0.026000</td>\n",
       "    </tr>\n",
       "    <tr>\n",
       "      <th>5</th>\n",
       "      <td>0</td>\n",
       "      <td>H_-2_-2_0.509296.dat</td>\n",
       "      <td>-2.0</td>\n",
       "      <td>-2.0</td>\n",
       "      <td>0.509296</td>\n",
       "      <td>999</td>\n",
       "      <td>666</td>\n",
       "      <td>test</td>\n",
       "      <td>0.001204</td>\n",
       "      <td>-0.016530</td>\n",
       "      <td>...</td>\n",
       "      <td>-0.134123</td>\n",
       "      <td>-0.138686</td>\n",
       "      <td>-0.118757</td>\n",
       "      <td>-0.127445</td>\n",
       "      <td>-0.095929</td>\n",
       "      <td>-0.108196</td>\n",
       "      <td>-0.067073</td>\n",
       "      <td>-0.082149</td>\n",
       "      <td>-0.034003</td>\n",
       "      <td>-0.050940</td>\n",
       "    </tr>\n",
       "    <tr>\n",
       "      <th>6</th>\n",
       "      <td>0</td>\n",
       "      <td>H_-2_-2_0.509296.dat</td>\n",
       "      <td>-2.0</td>\n",
       "      <td>-2.0</td>\n",
       "      <td>0.509296</td>\n",
       "      <td>999</td>\n",
       "      <td>666</td>\n",
       "      <td>test</td>\n",
       "      <td>-0.141421</td>\n",
       "      <td>-0.138980</td>\n",
       "      <td>...</td>\n",
       "      <td>0.043375</td>\n",
       "      <td>0.067830</td>\n",
       "      <td>-0.009222</td>\n",
       "      <td>0.017385</td>\n",
       "      <td>-0.060524</td>\n",
       "      <td>-0.035502</td>\n",
       "      <td>-0.103326</td>\n",
       "      <td>-0.083403</td>\n",
       "      <td>-0.131616</td>\n",
       "      <td>-0.119589</td>\n",
       "    </tr>\n",
       "    <tr>\n",
       "      <th>7</th>\n",
       "      <td>0</td>\n",
       "      <td>H_-2_-2_0.509296.dat</td>\n",
       "      <td>-2.0</td>\n",
       "      <td>-2.0</td>\n",
       "      <td>0.509296</td>\n",
       "      <td>999</td>\n",
       "      <td>666</td>\n",
       "      <td>test</td>\n",
       "      <td>-0.000826</td>\n",
       "      <td>0.025688</td>\n",
       "      <td>...</td>\n",
       "      <td>0.134753</td>\n",
       "      <td>0.124324</td>\n",
       "      <td>0.141088</td>\n",
       "      <td>0.140407</td>\n",
       "      <td>0.127608</td>\n",
       "      <td>0.136771</td>\n",
       "      <td>0.096206</td>\n",
       "      <td>0.113925</td>\n",
       "      <td>0.051292</td>\n",
       "      <td>0.075079</td>\n",
       "    </tr>\n",
       "    <tr>\n",
       "      <th>8</th>\n",
       "      <td>0</td>\n",
       "      <td>H_-2_-2_0.509296.dat</td>\n",
       "      <td>-2.0</td>\n",
       "      <td>-2.0</td>\n",
       "      <td>0.509296</td>\n",
       "      <td>999</td>\n",
       "      <td>666</td>\n",
       "      <td>test</td>\n",
       "      <td>0.141417</td>\n",
       "      <td>0.136684</td>\n",
       "      <td>...</td>\n",
       "      <td>-0.115093</td>\n",
       "      <td>-0.131915</td>\n",
       "      <td>-0.061266</td>\n",
       "      <td>-0.091040</td>\n",
       "      <td>0.007717</td>\n",
       "      <td>-0.027643</td>\n",
       "      <td>0.074791</td>\n",
       "      <td>0.042592</td>\n",
       "      <td>0.123363</td>\n",
       "      <td>0.102291</td>\n",
       "    </tr>\n",
       "    <tr>\n",
       "      <th>9</th>\n",
       "      <td>0</td>\n",
       "      <td>H_-2_-2_0.509296.dat</td>\n",
       "      <td>-2.0</td>\n",
       "      <td>-2.0</td>\n",
       "      <td>0.509296</td>\n",
       "      <td>999</td>\n",
       "      <td>666</td>\n",
       "      <td>test</td>\n",
       "      <td>0.001302</td>\n",
       "      <td>0.036430</td>\n",
       "      <td>...</td>\n",
       "      <td>0.082068</td>\n",
       "      <td>0.050848</td>\n",
       "      <td>0.127402</td>\n",
       "      <td>0.108132</td>\n",
       "      <td>0.141218</td>\n",
       "      <td>0.138667</td>\n",
       "      <td>0.120099</td>\n",
       "      <td>0.134896</td>\n",
       "      <td>0.069268</td>\n",
       "      <td>0.097755</td>\n",
       "    </tr>\n",
       "  </tbody>\n",
       "</table>\n",
       "<p>10 rows × 108 columns</p>\n",
       "</div>"
      ],
      "text/plain": [
       "   id                  path   t1   t2   winding  phase  pred_phase type_of  \\\n",
       "0   0  H_-2_-2_0.509296.dat -2.0 -2.0  0.509296    999         666    test   \n",
       "1   0  H_-2_-2_0.509296.dat -2.0 -2.0  0.509296    999         666    test   \n",
       "2   0  H_-2_-2_0.509296.dat -2.0 -2.0  0.509296    999         666    test   \n",
       "3   0  H_-2_-2_0.509296.dat -2.0 -2.0  0.509296    999         666    test   \n",
       "4   0  H_-2_-2_0.509296.dat -2.0 -2.0  0.509296    999         666    test   \n",
       "5   0  H_-2_-2_0.509296.dat -2.0 -2.0  0.509296    999         666    test   \n",
       "6   0  H_-2_-2_0.509296.dat -2.0 -2.0  0.509296    999         666    test   \n",
       "7   0  H_-2_-2_0.509296.dat -2.0 -2.0  0.509296    999         666    test   \n",
       "8   0  H_-2_-2_0.509296.dat -2.0 -2.0  0.509296    999         666    test   \n",
       "9   0  H_-2_-2_0.509296.dat -2.0 -2.0  0.509296    999         666    test   \n",
       "\n",
       "      feat0     feat1  ...    feat90    feat91    feat92    feat93    feat94  \\\n",
       "0  0.100000  0.100000  ...  0.100000  0.100000  0.100000  0.100000  0.100000   \n",
       "1  0.141421  0.141142  ...  0.114412  0.108967  0.123928  0.119406  0.131490   \n",
       "2  0.141421  0.140306  ...  0.043702  0.026500  0.075777  0.060214  0.103092   \n",
       "3 -0.100000  0.100000  ... -0.100000  0.100000 -0.100000  0.100000 -0.100000   \n",
       "4  0.000509 -0.008372  ... -0.082713 -0.089753 -0.067684 -0.075347 -0.051587   \n",
       "5  0.001204 -0.016530  ... -0.134123 -0.138686 -0.118757 -0.127445 -0.095929   \n",
       "6 -0.141421 -0.138980  ...  0.043375  0.067830 -0.009222  0.017385 -0.060524   \n",
       "7 -0.000826  0.025688  ...  0.134753  0.124324  0.141088  0.140407  0.127608   \n",
       "8  0.141417  0.136684  ... -0.115093 -0.131915 -0.061266 -0.091040  0.007717   \n",
       "9  0.001302  0.036430  ...  0.082068  0.050848  0.127402  0.108132  0.141218   \n",
       "\n",
       "     feat95    feat96    feat97    feat98    feat99  \n",
       "0  0.100000  0.100000  0.100000  0.100000  0.100000  \n",
       "1  0.127962  0.136978  0.134500  0.140306  0.138916  \n",
       "2  0.090145  0.123928  0.114412  0.136978  0.131490  \n",
       "3  0.100000 -0.100000  0.100000 -0.100000  0.100000  \n",
       "4 -0.059753 -0.034677 -0.043217 -0.017220 -0.026000  \n",
       "5 -0.108196 -0.067073 -0.082149 -0.034003 -0.050940  \n",
       "6 -0.035502 -0.103326 -0.083403 -0.131616 -0.119589  \n",
       "7  0.136771  0.096206  0.113925  0.051292  0.075079  \n",
       "8 -0.027643  0.074791  0.042592  0.123363  0.102291  \n",
       "9  0.138667  0.120099  0.134896  0.069268  0.097755  \n",
       "\n",
       "[10 rows x 108 columns]"
      ]
     },
     "execution_count": 24,
     "metadata": {},
     "output_type": "execute_result"
    }
   ],
   "source": [
    "simulation.dataframe.head(10)"
   ]
  },
  {
   "cell_type": "markdown",
   "metadata": {
    "papermill": {
     "duration": 0.035073,
     "end_time": "2020-07-08T05:33:32.156112",
     "exception": false,
     "start_time": "2020-07-08T05:33:32.121039",
     "status": "completed"
    },
    "tags": []
   },
   "source": [
    "#### Viewing a random sample"
   ]
  },
  {
   "cell_type": "code",
   "execution_count": 25,
   "metadata": {
    "execution": {
     "iopub.execute_input": "2020-07-08T05:33:32.230076Z",
     "iopub.status.busy": "2020-07-08T05:33:32.229769Z",
     "iopub.status.idle": "2020-07-08T05:33:32.302059Z",
     "shell.execute_reply": "2020-07-08T05:33:32.301742Z"
    },
    "papermill": {
     "duration": 0.109151,
     "end_time": "2020-07-08T05:33:32.302111",
     "exception": false,
     "start_time": "2020-07-08T05:33:32.192960",
     "status": "completed"
    },
    "tags": []
   },
   "outputs": [
    {
     "name": "stdout",
     "output_type": "stream",
     "text": [
      "CPU times: user 35 ms, sys: 5 µs, total: 35 ms\n",
      "Wall time: 34.8 ms\n"
     ]
    },
    {
     "data": {
      "text/html": [
       "<div>\n",
       "<style scoped>\n",
       "    .dataframe tbody tr th:only-of-type {\n",
       "        vertical-align: middle;\n",
       "    }\n",
       "\n",
       "    .dataframe tbody tr th {\n",
       "        vertical-align: top;\n",
       "    }\n",
       "\n",
       "    .dataframe thead th {\n",
       "        text-align: right;\n",
       "    }\n",
       "</style>\n",
       "<table border=\"1\" class=\"dataframe\">\n",
       "  <thead>\n",
       "    <tr style=\"text-align: right;\">\n",
       "      <th></th>\n",
       "      <th>id</th>\n",
       "      <th>path</th>\n",
       "      <th>t1</th>\n",
       "      <th>t2</th>\n",
       "      <th>winding</th>\n",
       "      <th>phase</th>\n",
       "      <th>pred_phase</th>\n",
       "      <th>type_of</th>\n",
       "      <th>dft_feat0</th>\n",
       "      <th>dft_feat1</th>\n",
       "      <th>...</th>\n",
       "      <th>dft_feat41</th>\n",
       "      <th>dft_feat42</th>\n",
       "      <th>dft_feat43</th>\n",
       "      <th>dft_feat44</th>\n",
       "      <th>dft_feat45</th>\n",
       "      <th>dft_feat46</th>\n",
       "      <th>dft_feat47</th>\n",
       "      <th>dft_feat48</th>\n",
       "      <th>dft_feat49</th>\n",
       "      <th>dft_feat50</th>\n",
       "    </tr>\n",
       "  </thead>\n",
       "  <tbody>\n",
       "    <tr>\n",
       "      <th>389806</th>\n",
       "      <td>3898</td>\n",
       "      <td>H_0.4_-1.5_1.00211.dat</td>\n",
       "      <td>0.40</td>\n",
       "      <td>-1.50</td>\n",
       "      <td>1.002113</td>\n",
       "      <td>1</td>\n",
       "      <td>1</td>\n",
       "      <td>val</td>\n",
       "      <td>1.110223e-16</td>\n",
       "      <td>4.602895e-06</td>\n",
       "      <td>...</td>\n",
       "      <td>2.549583e-06</td>\n",
       "      <td>1.441154e-15</td>\n",
       "      <td>-3.741279e-06</td>\n",
       "      <td>1.756684e-15</td>\n",
       "      <td>-3.236068e-06</td>\n",
       "      <td>-8.378911e-17</td>\n",
       "      <td>-2.989276e-06</td>\n",
       "      <td>-7.606564e-15</td>\n",
       "      <td>6.064847e-06</td>\n",
       "      <td>-3.380490e-16</td>\n",
       "    </tr>\n",
       "    <tr>\n",
       "      <th>171670</th>\n",
       "      <td>1716</td>\n",
       "      <td>H_-0.95_-1.25_1.01103.dat</td>\n",
       "      <td>-0.95</td>\n",
       "      <td>-1.25</td>\n",
       "      <td>1.011026</td>\n",
       "      <td>1</td>\n",
       "      <td>1</td>\n",
       "      <td>test</td>\n",
       "      <td>4.000000e-06</td>\n",
       "      <td>2.816495e-17</td>\n",
       "      <td>...</td>\n",
       "      <td>2.611415e-16</td>\n",
       "      <td>2.671979e-06</td>\n",
       "      <td>4.145892e-16</td>\n",
       "      <td>-2.762973e-07</td>\n",
       "      <td>1.319941e-15</td>\n",
       "      <td>5.052567e-07</td>\n",
       "      <td>6.387100e-15</td>\n",
       "      <td>2.915661e-06</td>\n",
       "      <td>8.103193e-16</td>\n",
       "      <td>1.632685e-15</td>\n",
       "    </tr>\n",
       "    <tr>\n",
       "      <th>593254</th>\n",
       "      <td>5932</td>\n",
       "      <td>H_1.65_-1.05_0.00104066.dat</td>\n",
       "      <td>1.65</td>\n",
       "      <td>-1.05</td>\n",
       "      <td>0.001041</td>\n",
       "      <td>0</td>\n",
       "      <td>0</td>\n",
       "      <td>val</td>\n",
       "      <td>-4.163336e-17</td>\n",
       "      <td>-5.278171e-01</td>\n",
       "      <td>...</td>\n",
       "      <td>-2.827509e-06</td>\n",
       "      <td>2.491538e-17</td>\n",
       "      <td>9.545515e-08</td>\n",
       "      <td>1.438434e-14</td>\n",
       "      <td>-7.159210e-07</td>\n",
       "      <td>-2.545336e-15</td>\n",
       "      <td>-3.656290e-06</td>\n",
       "      <td>-1.146013e-14</td>\n",
       "      <td>7.276929e-01</td>\n",
       "      <td>3.410952e-14</td>\n",
       "    </tr>\n",
       "    <tr>\n",
       "      <th>55557</th>\n",
       "      <td>555</td>\n",
       "      <td>H_-1.7_1.45_0.00127128.dat</td>\n",
       "      <td>-1.70</td>\n",
       "      <td>1.45</td>\n",
       "      <td>0.001271</td>\n",
       "      <td>0</td>\n",
       "      <td>0</td>\n",
       "      <td>val</td>\n",
       "      <td>-9.714451e-17</td>\n",
       "      <td>-1.549016e-06</td>\n",
       "      <td>...</td>\n",
       "      <td>2.766433e-06</td>\n",
       "      <td>3.545464e-15</td>\n",
       "      <td>2.343989e-06</td>\n",
       "      <td>2.346767e-16</td>\n",
       "      <td>-5.411638e-06</td>\n",
       "      <td>4.051460e-15</td>\n",
       "      <td>1.387113e-06</td>\n",
       "      <td>-1.070060e-14</td>\n",
       "      <td>-1.589179e-06</td>\n",
       "      <td>-2.628185e-16</td>\n",
       "    </tr>\n",
       "    <tr>\n",
       "      <th>270988</th>\n",
       "      <td>2709</td>\n",
       "      <td>H_-0.35_-0.2_-0.00355401.dat</td>\n",
       "      <td>-0.35</td>\n",
       "      <td>-0.20</td>\n",
       "      <td>-0.003554</td>\n",
       "      <td>0</td>\n",
       "      <td>0</td>\n",
       "      <td>train</td>\n",
       "      <td>1.000000e-05</td>\n",
       "      <td>2.995115e-17</td>\n",
       "      <td>...</td>\n",
       "      <td>1.576894e-14</td>\n",
       "      <td>8.669648e-15</td>\n",
       "      <td>2.500939e-15</td>\n",
       "      <td>-5.867052e-16</td>\n",
       "      <td>3.891930e-15</td>\n",
       "      <td>1.591312e-14</td>\n",
       "      <td>1.242284e-14</td>\n",
       "      <td>1.999216e-15</td>\n",
       "      <td>9.581296e-15</td>\n",
       "      <td>-1.000000e-05</td>\n",
       "    </tr>\n",
       "    <tr>\n",
       "      <th>...</th>\n",
       "      <td>...</td>\n",
       "      <td>...</td>\n",
       "      <td>...</td>\n",
       "      <td>...</td>\n",
       "      <td>...</td>\n",
       "      <td>...</td>\n",
       "      <td>...</td>\n",
       "      <td>...</td>\n",
       "      <td>...</td>\n",
       "      <td>...</td>\n",
       "      <td>...</td>\n",
       "      <td>...</td>\n",
       "      <td>...</td>\n",
       "      <td>...</td>\n",
       "      <td>...</td>\n",
       "      <td>...</td>\n",
       "      <td>...</td>\n",
       "      <td>...</td>\n",
       "      <td>...</td>\n",
       "      <td>...</td>\n",
       "      <td>...</td>\n",
       "    </tr>\n",
       "    <tr>\n",
       "      <th>655651</th>\n",
       "      <td>6556</td>\n",
       "      <td>H_2_1.8_-0.0222906.dat</td>\n",
       "      <td>2.00</td>\n",
       "      <td>1.80</td>\n",
       "      <td>-0.022291</td>\n",
       "      <td>0</td>\n",
       "      <td>1</td>\n",
       "      <td>test</td>\n",
       "      <td>9.714451e-17</td>\n",
       "      <td>1.587406e-16</td>\n",
       "      <td>...</td>\n",
       "      <td>1.946034e-15</td>\n",
       "      <td>-8.178206e-07</td>\n",
       "      <td>-1.158474e-14</td>\n",
       "      <td>-6.664093e-06</td>\n",
       "      <td>2.755857e-15</td>\n",
       "      <td>1.777603e-06</td>\n",
       "      <td>5.884144e-15</td>\n",
       "      <td>-8.827508e-07</td>\n",
       "      <td>-4.807938e-15</td>\n",
       "      <td>-4.000000e-06</td>\n",
       "    </tr>\n",
       "    <tr>\n",
       "      <th>150110</th>\n",
       "      <td>1501</td>\n",
       "      <td>H_-1.1_0.15_0.000321038.dat</td>\n",
       "      <td>-1.10</td>\n",
       "      <td>0.15</td>\n",
       "      <td>0.000321</td>\n",
       "      <td>0</td>\n",
       "      <td>0</td>\n",
       "      <td>val</td>\n",
       "      <td>1.249001e-15</td>\n",
       "      <td>-2.057946e-06</td>\n",
       "      <td>...</td>\n",
       "      <td>-4.248953e-06</td>\n",
       "      <td>-4.737772e-15</td>\n",
       "      <td>-2.099633e-07</td>\n",
       "      <td>-8.589299e-15</td>\n",
       "      <td>1.097887e-06</td>\n",
       "      <td>2.212415e-15</td>\n",
       "      <td>-4.618902e-01</td>\n",
       "      <td>5.000205e-15</td>\n",
       "      <td>1.487735e-06</td>\n",
       "      <td>4.258816e-18</td>\n",
       "    </tr>\n",
       "    <tr>\n",
       "      <th>603776</th>\n",
       "      <td>6037</td>\n",
       "      <td>H_1.7_0.15_-0.000258825.dat</td>\n",
       "      <td>1.70</td>\n",
       "      <td>0.15</td>\n",
       "      <td>-0.000259</td>\n",
       "      <td>0</td>\n",
       "      <td>0</td>\n",
       "      <td>val</td>\n",
       "      <td>-1.387779e-16</td>\n",
       "      <td>-3.408425e-16</td>\n",
       "      <td>...</td>\n",
       "      <td>-1.572232e-15</td>\n",
       "      <td>7.511441e-07</td>\n",
       "      <td>3.009829e-15</td>\n",
       "      <td>8.410196e-07</td>\n",
       "      <td>-2.823569e-15</td>\n",
       "      <td>-2.695199e-06</td>\n",
       "      <td>3.382017e-15</td>\n",
       "      <td>-2.070236e-06</td>\n",
       "      <td>1.191585e-15</td>\n",
       "      <td>3.606182e-17</td>\n",
       "    </tr>\n",
       "    <tr>\n",
       "      <th>465973</th>\n",
       "      <td>4659</td>\n",
       "      <td>H_0.85_0.1_-0.000356583.dat</td>\n",
       "      <td>0.85</td>\n",
       "      <td>0.10</td>\n",
       "      <td>-0.000357</td>\n",
       "      <td>0</td>\n",
       "      <td>0</td>\n",
       "      <td>val</td>\n",
       "      <td>-2.428613e-16</td>\n",
       "      <td>-4.921700e-16</td>\n",
       "      <td>...</td>\n",
       "      <td>-8.636625e-16</td>\n",
       "      <td>-4.064844e-06</td>\n",
       "      <td>-3.703569e-15</td>\n",
       "      <td>-9.790540e-07</td>\n",
       "      <td>3.246049e-15</td>\n",
       "      <td>2.594565e-06</td>\n",
       "      <td>-7.830473e-15</td>\n",
       "      <td>6.116170e-06</td>\n",
       "      <td>-2.060955e-15</td>\n",
       "      <td>-1.507248e-16</td>\n",
       "    </tr>\n",
       "    <tr>\n",
       "      <th>626275</th>\n",
       "      <td>6262</td>\n",
       "      <td>H_1.85_-0.75_0.000771857.dat</td>\n",
       "      <td>1.85</td>\n",
       "      <td>-0.75</td>\n",
       "      <td>0.000772</td>\n",
       "      <td>0</td>\n",
       "      <td>0</td>\n",
       "      <td>train</td>\n",
       "      <td>-1.665335e-16</td>\n",
       "      <td>4.373781e-06</td>\n",
       "      <td>...</td>\n",
       "      <td>-3.869784e-02</td>\n",
       "      <td>4.150465e-15</td>\n",
       "      <td>3.720112e-06</td>\n",
       "      <td>-8.168062e-15</td>\n",
       "      <td>2.411638e-06</td>\n",
       "      <td>3.614559e-15</td>\n",
       "      <td>5.420967e-07</td>\n",
       "      <td>1.057503e-14</td>\n",
       "      <td>3.830020e-06</td>\n",
       "      <td>-9.699577e-16</td>\n",
       "    </tr>\n",
       "  </tbody>\n",
       "</table>\n",
       "<p>65610 rows × 59 columns</p>\n",
       "</div>"
      ],
      "text/plain": [
       "          id                          path    t1    t2   winding  phase  \\\n",
       "389806  3898        H_0.4_-1.5_1.00211.dat  0.40 -1.50  1.002113      1   \n",
       "171670  1716     H_-0.95_-1.25_1.01103.dat -0.95 -1.25  1.011026      1   \n",
       "593254  5932   H_1.65_-1.05_0.00104066.dat  1.65 -1.05  0.001041      0   \n",
       "55557    555    H_-1.7_1.45_0.00127128.dat -1.70  1.45  0.001271      0   \n",
       "270988  2709  H_-0.35_-0.2_-0.00355401.dat -0.35 -0.20 -0.003554      0   \n",
       "...      ...                           ...   ...   ...       ...    ...   \n",
       "655651  6556        H_2_1.8_-0.0222906.dat  2.00  1.80 -0.022291      0   \n",
       "150110  1501   H_-1.1_0.15_0.000321038.dat -1.10  0.15  0.000321      0   \n",
       "603776  6037   H_1.7_0.15_-0.000258825.dat  1.70  0.15 -0.000259      0   \n",
       "465973  4659   H_0.85_0.1_-0.000356583.dat  0.85  0.10 -0.000357      0   \n",
       "626275  6262  H_1.85_-0.75_0.000771857.dat  1.85 -0.75  0.000772      0   \n",
       "\n",
       "        pred_phase type_of     dft_feat0     dft_feat1  ...    dft_feat41  \\\n",
       "389806           1     val  1.110223e-16  4.602895e-06  ...  2.549583e-06   \n",
       "171670           1    test  4.000000e-06  2.816495e-17  ...  2.611415e-16   \n",
       "593254           0     val -4.163336e-17 -5.278171e-01  ... -2.827509e-06   \n",
       "55557            0     val -9.714451e-17 -1.549016e-06  ...  2.766433e-06   \n",
       "270988           0   train  1.000000e-05  2.995115e-17  ...  1.576894e-14   \n",
       "...            ...     ...           ...           ...  ...           ...   \n",
       "655651           1    test  9.714451e-17  1.587406e-16  ...  1.946034e-15   \n",
       "150110           0     val  1.249001e-15 -2.057946e-06  ... -4.248953e-06   \n",
       "603776           0     val -1.387779e-16 -3.408425e-16  ... -1.572232e-15   \n",
       "465973           0     val -2.428613e-16 -4.921700e-16  ... -8.636625e-16   \n",
       "626275           0   train -1.665335e-16  4.373781e-06  ... -3.869784e-02   \n",
       "\n",
       "          dft_feat42    dft_feat43    dft_feat44    dft_feat45    dft_feat46  \\\n",
       "389806  1.441154e-15 -3.741279e-06  1.756684e-15 -3.236068e-06 -8.378911e-17   \n",
       "171670  2.671979e-06  4.145892e-16 -2.762973e-07  1.319941e-15  5.052567e-07   \n",
       "593254  2.491538e-17  9.545515e-08  1.438434e-14 -7.159210e-07 -2.545336e-15   \n",
       "55557   3.545464e-15  2.343989e-06  2.346767e-16 -5.411638e-06  4.051460e-15   \n",
       "270988  8.669648e-15  2.500939e-15 -5.867052e-16  3.891930e-15  1.591312e-14   \n",
       "...              ...           ...           ...           ...           ...   \n",
       "655651 -8.178206e-07 -1.158474e-14 -6.664093e-06  2.755857e-15  1.777603e-06   \n",
       "150110 -4.737772e-15 -2.099633e-07 -8.589299e-15  1.097887e-06  2.212415e-15   \n",
       "603776  7.511441e-07  3.009829e-15  8.410196e-07 -2.823569e-15 -2.695199e-06   \n",
       "465973 -4.064844e-06 -3.703569e-15 -9.790540e-07  3.246049e-15  2.594565e-06   \n",
       "626275  4.150465e-15  3.720112e-06 -8.168062e-15  2.411638e-06  3.614559e-15   \n",
       "\n",
       "          dft_feat47    dft_feat48    dft_feat49    dft_feat50  \n",
       "389806 -2.989276e-06 -7.606564e-15  6.064847e-06 -3.380490e-16  \n",
       "171670  6.387100e-15  2.915661e-06  8.103193e-16  1.632685e-15  \n",
       "593254 -3.656290e-06 -1.146013e-14  7.276929e-01  3.410952e-14  \n",
       "55557   1.387113e-06 -1.070060e-14 -1.589179e-06 -2.628185e-16  \n",
       "270988  1.242284e-14  1.999216e-15  9.581296e-15 -1.000000e-05  \n",
       "...              ...           ...           ...           ...  \n",
       "655651  5.884144e-15 -8.827508e-07 -4.807938e-15 -4.000000e-06  \n",
       "150110 -4.618902e-01  5.000205e-15  1.487735e-06  4.258816e-18  \n",
       "603776  3.382017e-15 -2.070236e-06  1.191585e-15  3.606182e-17  \n",
       "465973 -7.830473e-15  6.116170e-06 -2.060955e-15 -1.507248e-16  \n",
       "626275  5.420967e-07  1.057503e-14  3.830020e-06 -9.699577e-16  \n",
       "\n",
       "[65610 rows x 59 columns]"
      ]
     },
     "execution_count": 25,
     "metadata": {},
     "output_type": "execute_result"
    }
   ],
   "source": [
    "%%time\n",
    "simulation.fourier_engineered_dataframe.sample(frac=0.1, replace=False)"
   ]
  },
  {
   "cell_type": "markdown",
   "metadata": {
    "papermill": {
     "duration": 0.035971,
     "end_time": "2020-07-08T05:33:32.374902",
     "exception": false,
     "start_time": "2020-07-08T05:33:32.338931",
     "status": "completed"
    },
    "tags": []
   },
   "source": [
    "#### Checking train/val/test splits again"
   ]
  },
  {
   "cell_type": "code",
   "execution_count": 26,
   "metadata": {
    "execution": {
     "iopub.execute_input": "2020-07-08T05:33:32.449174Z",
     "iopub.status.busy": "2020-07-08T05:33:32.448852Z",
     "iopub.status.idle": "2020-07-08T05:33:32.625564Z",
     "shell.execute_reply": "2020-07-08T05:33:32.625244Z"
    },
    "papermill": {
     "duration": 0.214055,
     "end_time": "2020-07-08T05:33:32.625617",
     "exception": false,
     "start_time": "2020-07-08T05:33:32.411562",
     "status": "completed"
    },
    "tags": []
   },
   "outputs": [
    {
     "name": "stdout",
     "output_type": "stream",
     "text": [
      "% train:  0.08474317939338516\n",
      "% val:  0.7620789513793629\n",
      "% test:  0.15317786922725193\n",
      "% train + val + test:  1.0\n",
      "\n",
      "\n",
      "number of train hamiltonians:  556\n",
      "number of val hamiltonians:  5000\n",
      "number of test hamiltonians:  1005\n",
      "total number of hamiltonians:  6561\n",
      "\n",
      "\n",
      "train ids:  [1615, 5283, 3574, 3415, 2340, 5913, 2221, 3260, 5892, 5214, 3750, 1657, 18, 4450, 3032, 2456, 4940, 2814, 3566, 3234, 2415, 3175, 2782, 4070, 3448, 1105, 2910, 4156, 2275, 1616, 2301, 2179, 2426, 5182, 6189, 341, 5427, 6017, 2766, 5192, 177, 4437, 1674, 3159, 1622, 5229, 6270, 3256, 3205, 2125, 1939, 4493, 6046, 3151, 1169, 3412, 3625, 1678, 3846, 5442, 3190, 3326, 3187, 3646, 5833, 4140, 1536, 1132, 1733, 1951, 5832, 6341, 1869, 1487, 278, 1736, 3603, 1375, 1938, 669, 6083, 3519, 869, 3673, 1251, 4847, 2487, 2695, 5965, 5112, 3554, 2243, 6128, 3014, 2935, 5687, 4550, 797, 1054, 3577, 3704, 2598, 3964, 2903, 624, 2824, 3235, 937, 2823, 1838, 2336, 4209, 2069, 3082, 2537, 5865, 6197, 3015, 3241, 3270, 5849, 6484, 3142, 2299, 3048, 6492, 11, 4615, 2942, 2117, 4280, 2655, 3585, 608, 2874, 3401, 1170, 3781, 3648, 426, 5555, 2685, 4381, 5264, 3300, 290, 4065, 1751, 5524, 4339, 4045, 4191, 204, 201, 6442, 5397, 3214, 935, 4407, 76, 2208, 2002, 3366, 2114, 5387, 1409, 4622, 4292, 751, 5566, 1983, 2059, 2389, 6004, 5529, 5561, 2901, 790, 2183, 5401, 5423, 2585, 5717, 3698, 5118, 836, 5076, 6547, 3825, 4027, 2310, 3493, 6052, 3795, 1258, 2249, 4260, 726, 2578, 292, 6444, 5464, 2514, 5434, 3305, 356, 469, 1317, 4357, 5677, 4373, 517, 2859, 5389, 1430, 1324, 3824, 4338, 1895, 4768, 3516, 3385, 3688, 4190, 1525, 2827, 5381, 3534, 1272, 5926, 2174, 5405, 6036, 5261, 995, 2115, 3504, 2992, 4013, 1088, 1450, 5445, 2097, 5463, 1764, 5282, 2875, 4700, 681, 2581, 4307, 1362, 529, 5644, 4471, 2013, 2636, 3538, 4665, 184, 3407, 4232, 728, 3445, 627, 5692, 5340, 5978, 1783, 5836, 785, 2561, 4574, 6525, 296, 3162, 700, 3960, 5435, 4632, 2909, 543, 2202, 3009, 910, 455, 2620, 2891, 951, 5504, 1490, 4395, 3796, 838, 3746, 4420, 1462, 6323, 275, 4798, 1263, 6345, 637, 48, 2769, 4048, 313, 4032, 510, 4658, 506, 3386, 925, 1506, 6010, 1256, 953, 376, 4584, 6261, 3119, 3060, 4968, 5266, 5474, 5702, 3763, 2181, 4188, 3039, 6251, 5779, 6452, 5233, 2945, 2547, 511, 5541, 1156, 4324, 2439, 6237, 2927, 5525, 6461, 5773, 97, 5399, 2200, 5139, 2175, 6045, 4794, 4817, 3974, 463, 1325, 75, 4726, 196, 963, 3258, 851, 4340, 2673, 3999, 5444, 3641, 1835, 2447, 1236, 5850, 1900, 4703, 1091, 5099, 4069, 1653, 2801, 4972, 4849, 1090, 2748, 2083, 3927, 4543, 4867, 4696, 633, 4802, 3387, 1217, 2116, 1208, 5321, 2912, 150, 391, 5023, 3505, 1097, 366, 4206, 4208, 4683, 3925, 3652, 679, 5788, 1549, 2474, 3679, 1684, 1618, 3097, 1166, 6194, 3050, 678, 1341, 2563, 3450, 1192, 3627, 4310, 928, 459, 1916, 918, 5935, 4328, 5395, 1373, 2095, 2690, 1288, 6054, 5966, 4134, 6328, 1867, 5710, 3012, 4997, 3146, 6014, 689, 266, 6440, 3861, 3377, 3507, 6057, 5426, 2492, 844, 211, 2632, 2141, 4522, 102, 5505, 61, 5853, 4536, 45, 3978, 3823, 6094, 6272, 2028, 3509, 1570, 3922, 3775, 2856, 397, 942, 1010, 3342, 2986, 1949, 2359, 1753, 5537, 3210, 441, 1168, 6262, 2398, 5424, 2031, 4864, 5619, 5193, 3046, 2889, 5323, 3654, 5102, 3181, 2165, 4689, 1100, 5930, 5136, 4235, 5564, 4943, 6140, 98, 1299, 1368, 1860, 6019, 1917, 5719, 5722, 778, 939, 2669, 6164, 4935, 2728, 2090, 5633, 1187, 3948, 4666, 4343, 2486, 3323, 1871, 4213, 2698, 5587, 4304, 388, 2171, 6266, 4091, 5957, 1094, 3847, 5685, 2709, 2594, 4608, 2349, 3240, 2060, 1706, 2701, 206, 848, 4564]\n",
      "val ids:  [3508, 3562, 4827, 374, 2804, 2411, 4199, 2812, 4883, 1083, 969, 1626, 3914, 309, 6324, 3909, 601, 1563, 614, 4491, 1696, 6368, 5591, 3158, 5881, 693, 2043, 6110, 2037, 1797, 4164, 3536, 3380, 2533, 2057, 66, 1765, 3757, 4711, 1048, 971, 6530, 2191, 794, 4458, 2599, 3721, 1508, 630, 4905, 5366, 3454, 4404, 5230, 5798, 4795, 2771, 513, 3469, 6221, 5508, 1108, 4408, 222, 4036, 999, 6212, 2631, 3957, 2056, 5891, 6050, 3529, 663, 3030, 5546, 5027, 2750, 635, 5793, 4034, 3703, 3596, 1079, 4402, 6490, 1367, 3265, 2972, 4049, 1870, 2660, 5959, 1691, 1877, 4733, 5204, 4892, 1958, 51, 5712, 4394, 4540, 3924, 1323, 6504, 2308, 1379, 4894, 1244, 2680, 1912, 3361, 4772, 1084, 5159, 3006, 6337, 2649, 1743, 2780, 3208, 2429, 2555, 5319, 2647, 2666, 277, 2189, 1247, 2152, 3492, 760, 2139, 362, 3868, 3245, 3762, 1992, 4133, 3929, 2716, 263, 23, 2235, 1424, 3788, 3755, 337, 5757, 1128, 1416, 2444, 2885, 2263, 5176, 746, 6041, 1975, 6535, 2166, 3988, 5870, 52, 6040, 2260, 3246, 3273, 5374, 4942, 3573, 3890, 3137, 6213, 3293, 2138, 3743, 2305, 4654, 2738, 3636, 3369, 2671, 6202, 509, 4957, 3463, 4732, 5855, 4860, 3195, 5637, 4291, 5651, 5730, 4286, 3848, 4939, 833, 5588, 2477, 1676, 4026, 5689, 2868, 6360, 4388, 5223, 727, 3211, 714, 3943, 4223, 5465, 2934, 1607, 3108, 6028, 796, 2178, 940, 127, 6018, 6211, 515, 769, 3196, 424, 217, 284, 6550, 4792, 5032, 2850, 1547, 1624, 2979, 4625, 3353, 5897, 6424, 5697, 4117, 5433, 6512, 2103, 4112, 612, 680, 3431, 4783, 3931, 3513, 3980, 1995, 3426, 6532, 3347, 715, 2290, 4466, 215, 317, 1099, 1703, 1786, 1172, 993, 3004, 4601, 4872, 6489, 554, 3933, 1292, 4149, 920, 3149, 1284, 5184, 5726, 2284, 104, 1892, 1730, 3284, 2495, 2583, 5592, 3826, 3411, 2041, 1704, 1956, 3276, 5975, 1019, 475, 389, 6021, 1269, 3940, 909, 3318, 2829, 4532, 2606, 1732, 5534, 5306, 1591, 4854, 1632, 1831, 2335, 5615, 5858, 6174, 3359, 5033, 1072, 6423, 1646, 2994, 4748, 2072, 2015, 4453, 1300, 6350, 2809, 4362, 1080, 3963, 2224, 6131, 5507, 5894, 1104, 3257, 615, 1655, 3921, 6097, 3447, 3094, 367, 4113, 173, 4066, 4627, 3351, 2931, 1456, 2006, 521, 2344, 1268, 2112, 4723, 1003, 5764, 6274, 1701, 2024, 1414, 5642, 2232, 5631, 5916, 5400, 4971, 542, 19, 6435, 2822, 5262, 2182, 5130, 5222, 5752, 6215, 5451, 4135, 6268, 2825, 3480, 3056, 3118, 991, 6108, 1728, 3748, 5544, 1118, 336, 1932, 5767, 2926, 419, 1437, 3590, 2759, 5197, 4236, 2693, 4663, 3624, 3815, 199, 3275, 1504, 4150, 40, 457, 1668, 4637, 644, 4444, 1789, 5815, 5862, 1898, 6013, 3470, 4728, 2617, 6107, 5300, 3319, 6290, 832, 4030, 2634, 2590, 3805, 38, 1250, 4664, 3466, 2656, 139, 3834, 2222, 5055, 2729, 4568, 6218, 2565, 3955, 6277, 4498, 4146, 1711, 595, 3604, 6529, 3664, 6121, 4816, 2854, 934, 2757, 4946, 4244, 4389, 3021, 1986, 387, 5538, 1650, 4289, 4492, 5449, 209, 3842, 2351, 589, 868, 6030, 3991, 2382, 6020, 6421, 6129, 3621, 2105, 2775, 5278, 2350, 448, 1868, 2142, 632, 2949, 6115, 3416, 3302, 60, 175, 6206, 1941, 610, 4054, 6191, 3152, 1045, 6527, 2515, 2163, 1492, 6428, 2136, 1029, 1021, 2723, 2657, 5276, 155, 3628, 485, 1129, 3486, 1434, 1095, 4336, 1518, 2724, 280, 5042, 2798, 4833, 323, 3666, 2962, 2331, 6025, 628, 5046, 3586, 5755, 1808, 5876, 2863, 6132, 3962, 3972, 2639, 5869, 3923, 3036, 1197, 4105, 4686, 3626, 4517, 1184, 593, 473, 4123, 1426, 4482, 6093, 541, 2266, 5035, 1468, 352, 3541, 3671, 5530, 534, 2466, 4994, 3233, 3239, 3740, 6133, 212, 5098, 3879, 2619, 6249, 15, 6412, 5914, 3523, 4473, 3907, 4954, 4207, 602, 4176, 4073, 4558, 619, 5369, 6372, 4908, 5806, 694, 1578, 6156, 2923, 4945, 4887, 2604, 30, 3751, 3901, 4660, 1110, 1896, 3441, 941, 5125, 4650, 3882, 301, 1852, 4691, 4318, 4217, 6443, 512, 5438, 4106, 1030, 3707, 3308, 4136, 2963, 5893, 1791, 2361, 998, 1412, 4062, 3138, 2030, 1355, 5976, 269, 4089, 6365, 4252, 1516, 5787, 4991, 550, 4376, 4316, 1623, 1135, 267, 5705, 351, 4866, 1853, 1505, 1826, 4075, 4642, 5915, 1512, 2159, 5358, 3551, 1278, 2303, 2472, 3206, 4257, 1257, 3992, 4571, 115, 3375, 3456, 2672, 6346, 1498, 5217, 5346, 3337, 749, 2577, 3399, 4440, 5155, 2530, 2568, 548, 2272, 5069, 5725, 2642, 227, 4200, 5129, 4505, 4848, 4283, 6291, 1007, 4215, 1419, 4226, 4915, 4889, 3630, 789, 1930, 2101, 124, 4565, 954, 4727, 6058, 6169, 4549, 420, 6353, 2628, 4628, 507, 3483, 4306, 2279, 3484, 1688, 4272, 1825, 5550, 1647, 262, 4747, 2256, 4413, 4516, 3144, 1452, 3189, 3787, 3643, 926, 3418, 5605, 2735, 4370, 2730, 2276, 4423, 3066, 3593, 4548, 3202, 123, 5786, 2246, 5443, 613, 701, 2803, 2468, 2727, 4774, 916, 2776, 6203, 629, 788, 6253, 5528, 3344, 604, 5672, 704, 2196, 3334, 4333, 112, 2510, 598, 4744, 1322, 4016, 3514, 2740, 4810, 4448, 5608, 3155, 4741, 1587, 3122, 2322, 618, 2973, 782, 3670, 2396, 2099, 3166, 2589, 5263, 4500, 1775, 4246, 5979, 5310, 259, 108, 6244, 2338, 6193, 445, 3107, 6411, 6366, 3315, 5511, 2333, 120, 2905, 4682, 6008, 2153, 6247, 3112, 2613, 5315, 2443, 1431, 3872, 6468, 4553, 2826, 1857, 5343, 4476, 4214, 3052, 2007, 1784, 4527, 1979, 532, 4569, 4229, 2808, 5944, 3465, 5879, 5128, 1608, 375, 2332, 1051, 4890, 1037, 1101, 5522, 3111, 1980, 2739, 2478, 3123, 1944, 2896, 5236, 3425, 2217, 364, 6493, 6429, 3328, 5469, 522, 2357, 4851, 1576, 2810, 3058, 58, 1833, 2855, 2987, 3324, 5856, 6024, 111, 4619, 3744, 3125, 1408, 5714, 1507, 4567, 2785, 1017, 6224, 4823, 6301, 4177, 4228, 194, 770, 3968, 3498, 471, 2283, 3525, 6371, 5589, 3436, 452, 2512, 5713, 2347, 3838, 3333, 1575, 5050, 6465, 6403, 3129, 4623, 3619, 3581, 713, 3661, 74, 1513, 1074, 3063, 3313, 282, 3478, 3810, 4929, 6187, 5073, 4351, 2815, 6361, 862, 3035, 4293, 1420, 919, 5811, 5379, 3269, 4685, 4086, 6433, 1850, 130, 5486, 2648, 1569, 3167, 6448, 5113, 6376, 3443, 1173, 2414, 5208, 2330, 4716, 623, 5272, 2557, 5783, 3007, 34, 968, 671, 4327, 5837, 1410, 1816, 2674, 6542, 3230, 2188, 4469, 6269, 2014, 4985, 3268, 1605, 2084, 2682, 2312, 3154, 5624, 1534, 5852, 1053, 5635, 4822, 1381, 5318, 3428, 4612, 1158, 6357, 4142, 774, 4845, 4436, 433, 646, 2635, 5459, 5063, 6295, 1574, 1821, 4483, 5377, 2597, 1665, 4435, 14, 4393, 2064, 792, 6219, 361, 3675, 5560, 3610, 556, 4708, 2553, 5210, 6326, 1428, 4390, 3598, 3545, 1131, 2745, 5691, 2797, 3279, 1700, 1929, 4784, 5386, 5860, 1499, 4167, 4629, 2921, 6252, 5049, 6168, 3582, 5268, 6033, 5258, 5477, 3949, 2897, 4449, 2817, 5383, 5590, 3899, 1334, 4524, 2946, 3325, 1946, 6103, 3651, 3104, 3832, 2746, 3655, 3904, 4893, 2261, 4441, 1903, 1596, 4739, 3896, 274, 955, 3758, 4211, 6113, 2913, 697, 4656, 106, 516, 3479, 1795, 156, 3951, 2940, 5057, 2840, 6141, 4542, 3994, 3472, 121, 2126, 63, 3911, 3145, 3373, 5145, 2522, 2193, 1093, 3905, 1934, 3710, 1183, 449, 3475, 584, 2237, 1909, 1501, 3103, 5558, 3640, 4261, 6124, 4406, 5551, 1429, 4194, 1532, 5292, 4633, 4861, 5287, 4501, 4530, 1460, 5095, 1283, 1326, 2838, 4141, 1285, 6422, 2608, 3850, 3871, 4284, 5796, 5220, 5707, 3013, 2341, 1855, 5390, 1159, 672, 6354, 1000, 876, 5177, 2906, 3394, 809, 6264, 1374, 1380, 2264, 4962, 1297, 3071, 4383, 4445, 4290, 4967, 293, 6123, 3747, 2805, 4095, 2525, 4749, 4767, 3291, 6506, 3095, 3975, 2258, 4361, 6125, 450, 758, 6531, 1593, 1082, 1856, 682, 6175, 2611, 4853, 5345, 4271, 470, 1180, 1713, 1978, 5187, 3343, 4701, 2538, 6538, 5394, 423, 1255, 2790, 6217, 1493, 2758, 6447, 3768, 3452, 3770, 1628, 3543, 1673, 44, 2419, 6374, 2922, 474, 4934, 1744, 4699, 4298, 142, 1866, 2441, 5928, 1337, 5995, 3966, 216, 4196, 1588, 3228, 2408, 2490, 783, 3684, 1709, 370, 1652, 5542, 3010, 3047, 2895, 3335, 1848, 1175, 354, 4518, 4687, 6520, 1928, 1822, 1276, 3998, 3730, 524, 2582, 4412, 6092, 3057, 3669, 5103, 235, 3915, 6117, 395, 3895, 3197, 2551, 5372, 6088, 6499, 3247, 4397, 1012, 2917, 276, 4379, 5895, 5711, 5638, 2791, 6289, 551, 6119, 5068, 2485, 3811, 2834, 3061, 4832, 2067, 2087, 4952, 484, 1922, 1757, 1630, 5274, 2168, 1747, 6022, 3461, 4740, 26, 4109, 4371, 3714, 5523, 5636, 4367, 16, 2180, 3462, 2267, 1567, 3059, 6534, 1947, 2385, 2371, 5194, 5777, 2197, 5643, 6507, 3512, 3132, 1167, 1950, 2287, 1446, 6047, 6430, 2570, 2866, 4797, 4009, 5808, 1033, 603, 5854, 2799, 2999, 2356, 4308, 2499, 3917, 5302, 2269, 4110, 1005, 4995, 4195, 2535, 5019, 6355, 1254, 62, 1497, 207, 153, 6432, 2259, 3605, 6549, 2033, 279, 2646, 2158, 6111, 4582, 6090, 3715, 5432, 773, 4439, 4855, 4630, 2521, 2446, 5117, 6086, 2653, 4068, 3414, 4166, 5630, 5296, 5729, 2273, 2118, 174, 6436, 890, 1407, 2195, 1902, 316, 6342, 3546, 6503, 2564, 256, 2507, 4457, 1571, 3312, 3076, 2288, 1952, 750, 4250, 4714, 2971, 1872, 3898, 6285, 440, 947, 3612, 2925, 2529, 6413, 1349, 5293, 6032, 5015, 1451, 5143, 1447, 3109, 6364, 3647, 3716, 2302, 2417, 2857, 3835, 1320, 2645, 4526, 2094, 4636, 2844, 3711, 2892, 1994, 4072, 1845, 6118, 5552, 3814, 50, 5037, 5809, 5885, 1357, 236, 2767, 3954, 4495, 5846, 4111, 871, 2694, 911, 2607, 4002, 4355, 563, 2244, 4834, 4052, 4043, 3471, 5562, 1997, 3618, 807, 855, 3026, 4193, 3285, 582, 151, 2835, 6181, 5886, 1218, 3147, 2364, 4409, 665, 3398, 117, 1943, 3038, 3288, 6388, 4585, 203, 3849, 872, 5024, 1261, 2981, 1422, 4335, 2517, 3186, 3075, 6551, 1442, 1705, 2576, 990, 5478, 1750, 3697, 1078, 2403, 2410, 2034, 4980, 2915, 622, 4811, 4037, 6414, 596, 4607, 6491, 435, 5149, 4127, 1245, 2488, 5596, 4011, 4447, 4082, 3156, 3278, 4529, 5769, 4528, 148, 6035, 4378, 3223, 92, 617, 2370, 1984, 4710, 4987, 5927, 3055, 5147, 5753, 22, 5242, 852, 1025, 2536, 6304, 1330, 5954, 1111, 4535, 3672, 699, 1253, 2965, 4374, 5227, 5212, 5106, 2702, 1495, 2121, 912, 4912, 2721, 2668, 3649, 755, 1908, 110, 5241, 3809, 3578, 1356, 1981, 6386, 2143, 2943, 4551, 539, 870, 4763, 1333, 4777, 4688, 3277, 6142, 3548, 6183, 5693, 1762, 6120, 4670, 6335, 6385, 2494, 2566, 6546, 3580, 2372, 4125, 373, 4041, 4029, 1267, 1465, 1352, 830, 3128, 5704, 3836, 1727, 4878, 4368, 2070, 4197, 6051, 3301, 3001, 5295, 3188, 4988, 1862, 2991, 5669, 4717, 553, 2592, 3776, 1500, 4474, 6060, 2353, 1087, 1771, 4154, 3572, 218, 5131, 202, 5307, 3702, 4094, 2914, 3458, 2939, 1899, 5977, 5640, 2770, 930, 946, 4158, 4012, 2849, 5215, 3102, 1988, 3786, 114, 2990, 1962, 2936, 2204, 283, 2250, 606, 5324, 6455, 6303, 3674, 4704, 4729, 6358, 4279, 4956, 178, 3981, 2054, 1242, 2110, 1690, 233, 2089, 1302, 6459, 4562, 3683, 4504, 3720, 2573, 5148, 2907, 3494, 1411, 4301, 859, 3084, 3018, 775, 303, 4618, 2362, 2270, 4538, 6467, 1817, 1830, 4821, 767, 2268, 3983, 2199, 6172, 4118, 4044, 3044, 116, 2422, 1827, 5375, 4531, 927, 343, 1454, 5785, 17, 2593, 4621, 1689, 645, 6458, 4178, 4600, 6084, 2978, 1509, 2575, 6349, 363, 3833, 2574, 1423, 103, 6135, 1385, 5962, 2610, 3560, 3622, 3358, 3987, 2681, 6405, 4147, 2109, 4989, 1213, 3789, 5454, 3100, 3668, 3565, 21, 444, 5188, 2638, 1220, 3176, 2932, 1219, 1538, 708, 4819, 4467, 4005, 72, 1209, 1741, 4058, 6278, 1659, 1188, 2120, 5946, 4814, 4970, 4705, 462, 3091, 3606, 4655, 1052, 4153, 3497, 99, 2355, 1382, 1592, 6220, 1582, 4544, 3601, 5140, 357, 2715, 1651, 4321, 6486, 5947, 5834, 213, 439, 2550, 4977, 2119, 4895, 4312, 691, 1836, 4040, 867, 1514, 5674, 3165, 1043, 5728, 32, 2995, 3419, 1252, 4399, 1344, 2861, 3916, 2156, 1907, 2777, 4668, 847, 6098, 2354, 446, 1403, 255, 6363, 96, 189, 3092, 3653, 4932, 2425, 3602, 2717, 6299, 6176, 4626, 4385, 1579, 2944, 4337, 2686, 5461, 1270, 2234, 5065, 5646, 5396, 5051, 368, 2440, 6196, 1763, 4519, 2135, 393, 3865, 4081, 4624, 6451, 3356, 4311, 523, 1459, 2615, 4933, 258, 5641, 3753, 2614, 2714, 5066, 1766, 1457, 4247, 5364, 5889, 4694, 1819, 2644, 122, 2756, 5791, 2342, 1463, 4330, 2184, 3336, 5269, 6288, 5967, 4911, 5996, 2562, 3397, 2879, 6271, 2475, 6446, 5871, 5526, 25, 3073, 2737, 380, 4363, 1503, 6339, 2580, 2884, 717, 3248, 3633, 4273, 2534, 1915, 210, 1590, 5613, 3252, 4858, 6136, 1436, 4155, 664, 3756, 338, 921, 2865, 5547, 711, 4285, 3243, 2076, 2483, 5964, 4077, 966, 5847, 6454, 4539, 6076, 3996, 5698, 3752, 5314, 5775, 4366, 1001, 3844, 599, 1418, 9, 143, 1537, 47, 886, 3841, 1329, 3650, 1205, 5092, 3087, 2883, 2012, 5355, 260, 5097, 4421, 1648, 5925, 5557, 5108, 5626, 2761, 1687, 2150, 5183, 3767, 6343, 2956, 5320, 992, 3851, 5308, 4046, 1155, 4443, 1769, 843, 6544, 3866, 1858, 4475, 3708, 625, 427, 1564, 5844, 3053, 5240, 182, 2233, 4169, 5467, 1044, 5058, 1613, 3404, 4365, 6483, 3595, 5595, 5623, 705, 6425, 3807, 5105, 1973, 5017, 2476, 594, 2314, 6122, 1491, 1331, 3977, 5157, 6049, 3282, 828, 5961, 5061, 586, 3482, 6327, 1609, 3738, 1137, 5203, 5795, 214, 1693, 2063, 1942, 2793, 272, 1376, 668, 2390, 914, 2452, 723, 712, 4779, 1204, 5153, 3942, 3395, 315, 564, 5376, 5813, 234, 5864, 1262, 3204, 1363, 3685, 4270, 1548, 3169, 6330, 3306, 5448, 5317, 2726, 5939, 2778, 2500, 4947, 1016, 5724, 1133, 2177, 1364, 4930, 4949, 3485, 527, 4990, 4231, 967, 5059, 3168, 294, 3950, 2313, 1829, 5259, 4259, 4299, 3157, 5941, 5020, 6463, 685, 2985, 4096, 3539, 2311, 4462, 5142, 970, 1210, 3859, 6208, 1666, 2998, 4128, 5518, 5211, 3413, 1595, 4157, 1714, 4093, 6419, 2360, 2435, 105, 5801, 4545, 2203, 5487, 4269, 1049, 4241, 3250, 3179, 5835, 3002, 5479, 3867, 3045, 4541, 4419, 1163, 4662, 2082, 591, 4418, 5765, 131, 3686, 1260, 3694, 141, 2722, 1667, 5271, 3764, 305, 4958, 2968, 3919, 5797, 1568, 2919, 5675, 891, 3068, 2280, 4976, 1604, 3953, 4644, 5053, 1404, 3945, 1354, 2699, 3754, 4520, 2670, 1539, 504, 6450, 6498, 5322, 4613, 1134, 6528, 4295, 1664, 3372, 2964, 4254, 4296, 5843, 2637, 531, 5632, 3677, 943, 3729, 6089, 2343, 205, 1577, 3869, 2813, 1358, 5884, 2763, 3759, 5150, 5402, 2026, 4129, 372, 281, 5391, 555, 3327, 4008, 1482, 1023, 2088, 4485, 6464, 944, 2231, 3338, 477, 1282, 5517, 306, 2438, 6029, 3990, 3736, 6199, 5235, 3368, 6170, 2911, 1301, 2846, 1114, 5708, 2387, 2588, 5124, 1126, 6488, 4356, 4120, 4566, 1293, 690, 291, 4657, 347, 5273, 348, 2399, 5025, 5938, 2654, 5363, 5226, 2228, 3961, 2947, 4477, 791, 5794, 2851, 5356, 3614, 834, 2151, 4022, 1467, 5047, 5111, 3099, 5480, 1662, 5290, 6085, 5135, 2173, 1913, 3552, 3706, 3559, 4470, 3558, 5485, 3153, 2445, 5072, 3089, 4913, 1207, 4786, 787, 835, 3096, 3725, 885, 4358, 3422, 2223, 3501, 4132, 1794, 4143, 6453, 4856, 6173, 4227, 147, 1246, 4007, 4737, 24, 2206, 620, 360, 4659, 5219, 5778, 5368, 3322, 6179, 5265, 3794, 2974, 286, 1089, 703, 1745, 2845, 6190, 3216, 4085, 609, 1675, 5804, 2304, 2762, 1770, 404, 4001, 3110, 3161, 2108, 2688, 5536, 3891, 1572, 2409, 3468, 3635, 5473, 3150, 1073, 35, 1081, 3570, 2773, 3490, 761, 4189, 2595, 4275, 5213, 1828, 5311, 1176, 2691, 3947, 1859, 4364, 6537, 545, 4225, 4087, 4256, 312, 5291, 4487, 3665, 4547, 6302, 1918, 5952, 4083, 1022, 6223, 4055, 5481, 3845, 3547, 3141, 3797, 2937, 2545, 1240, 3017, 3297, 6375, 2003, 2754, 5932, 840, 3043, 1202, 2784, 6387, 3148, 1124, 5780, 5114, 1614, 5123, 1585, 3568, 3393, 3259, 1448, 6500, 1013, 4790, 4575, 2980, 1906, 1026, 2830, 129, 3956, 1160, 3645, 6265, 2520, 2402, 4570, 46, 505, 3828, 535, 5648, 4050, 137, 172, 1216, 4010, 4071, 394, 1740, 4115, 5354, 438, 2843, 1894, 1756, 3170, 2190, 5052, 5237, 3970, 3080, 4534, 1865, 1960, 378, 5109, 2876, 2821, 3837, 6502, 1494, 4465, 972, 220, 4603, 6485, 4965, 4151, 2621, 3733, 264, 4126, 1496, 3131, 6009, 68, 1754, 1546, 4451, 37, 3299, 1466, 686, 3201, 3467, 1603, 5887, 2149, 5312, 1529, 4107, 2029, 1961, 4578, 4577, 2781, 4709, 5380, 587, 1179, 2019, 2955, 2473, 2262, 3852, 5234, 1583, 1366, 310, 2982, 418, 3172, 4969, 1541, 3883, 1018, 1098, 1621, 4870, 538, 3379, 2651, 3474, 6003, 2111, 2384, 1542, 5127, 4742, 4488, 5802, 4830, 1787, 917, 5688, 3515, 3549, 6275, 2022, 57, 4179, 4239, 5617, 5373, 924, 5458, 300, 5723, 5604, 6178, 4903, 4060, 4715, 5301, 3971, 4067, 5873, 5618, 1660, 915, 3700, 1290, 460, 6157, 6209, 5866, 6543, 5228, 4163, 1851, 5297, 3446, 4242, 5146, 4415, 358, 5942, 6416, 1249, 29, 4611, 1449, 3822, 4053, 2449, 6408, 4751, 3731, 4831, 33, 1649, 621, 4442, 1432, 4928, 4499, 6015, 1566, 3049, 4963, 349, 1955, 3296, 3451, 4035, 4734, 3556, 6510, 3193, 3678, 2122, 4648, 865, 5018, 1987, 5350, 3237, 5378, 4780, 5937, 889, 6031, 3918, 4846, 1034, 2752, 4556, 2652, 5859, 3629, 5428, 1008, 5471, 5597, 2755, 4638, 4789, 2675, 5768, 3969, 6294, 6373, 6434, 581, 6267, 1755, 3843, 1625, 2627, 4446, 5393, 2591, 2977, 2524, 5070, 3417, 4201, 1656, 2516, 805, 948, 4950, 936, 5348, 519, 4116, 3459, 5645, 3251, 2334, 1619, 453, 3086, 4750, 69, 6059, 2239, 4422, 1935, 4713, 1400, 5462, 1445, 4722, 5700, 3561, 4468, 6134, 6404, 3320, 2482, 4025, 1113, 3637, 2307, 3192, 4170, 5620, 592, 5851, 5868, 5567, 2736, 1976, 4614, 2424, 3812, 5540, 5186, 4616, 2967, 6336, 696, 1294, 3194, 257, 3024, 1174, 2768, 4434, 4159, 4631, 2253, 1793, 3127, 537, 2085, 2626, 5548, 747, 4907, 945, 4061, 2316, 4899, 1772, 5569, 2198, 3658, 422, 1617, 191, 2106, 3886, 5872, 1812, 2161, 4979, 2837, 132, 5867, 2337, 1904, 2176, 1694, 5570, 3928, 101, 4463, 198, 3310, 261, 2433, 2229, 3329, 308, 4237, 3199, 2996, 6126, 6207, 1796, 5953, 297, 2665, 4078, 403, 4850, 4145, 4281, 3958, 1734, 223, 6188, 3799, 4405, 3117, 4771, 2025, 3357, 6379, 2405, 2700, 6524, 688, 2236, 4652, 3350, 2315, 1602, 4888, 557, 552, 6281, 4039, 1239, 71, 4803, 3081, 501, 3500, 677, 4411, 6410, 3309, 2154, 193, 5509, 1125, 3564, 3460, 2819, 1055, 3862, 451, 2920, 2220, 3912, 4322, 6359, 3780, 4084, 724, 3226, 2373, 842, 5997, 4104, 3571, 4314, 1195, 1206, 476, 1777, 4581, 5371, 5349, 957, 2703, 856, 877, 4414, 2779, 3817, 1726, 2629, 3734, 1924, 5078, 468, 4255, 3939, 2218, 5845, 6539, 1584, 2325, 4885, 3173, 1405, 3892, 3339, 232, 145, 3682, 2744, 5951, 1028, 1820, 670, 390, 1085, 3438, 2358, 5384, 2416, 2194, 3391, 4992, 5789, 4938, 2391, 5629, 4896, 5861, 3727, 5812, 6100, 2556, 6449, 3989, 371, 340, 228, 5209, 3136, 1890, 4765, 6204, 2887, 1925, 5158, 4051, 3741, 2038, 307, 3599, 1369, 4323, 4775, 5060, 3745, 932, 4392, 4425, 3982, 3567, 3499, 6104, 1182, 1350, 4809, 2039, 4138, 626, 5422, 1842, 4981, 2145, 4144, 483, 472, 3967, 841, 4725, 996, 6293, 5134, 5138, 5686, 3615, 2559, 6333, 4484, 781, 4609, 3292, 2436, 3088, 4815, 3488, 3687, 2255, 149, 5731, 2339, 2489, 3782, 6112, 5488, 2137, 3941, 3140, 1698, 4224, 3639, 6167, 4352, 1749, 4472, 5191, 3900, 6406, 2765, 4891, 2104, 4996, 237, 4221, 4165, 3316, 3827, 3522, 4690, 4238, 4014, 4038, 2395, 6356, 5703, 4901, 3079, 2741, 6505, 4863, 3406, 6438, 339, 1444, 2432, 1291, 631, 6334, 154, 2008, 4121, 5639, 6297, 4955, 4982, 3532, 2881, 2420, 6042, 3728, 1873, 1015, 3973, 566, 5298, 6287, 3506, 1511, 5144, 845, 3864, 3818, 1933, 1345, 1038, 2413, 1788, 6184, 4251, 3634, 36, 2836, 1020, 437, 5021, 5568, 3779, 588, 1739, 1266, 4533, 432, 1265, 4387, 3433, 2096, 1241, 2519, 4667, 5456, 808, 4403, 5875, 5406, 3897, 5968, 4489, 6216, 707, 5933, 2209, 779, 2719, 6171, 4461, 4684, 3616, 5011, 6545, 3885, 1296, 4332, 5096, 4122, 345, 1893, 2933, 2091, 4187, 5014, 6163, 6043, 5784, 3106, 4898, 1488, 3533, 831, 4874, 3798, 4088, 673, 1809, 752, 530, 4573, 4555, 2549, 952, 764, 3307, 6250, 2023, 2238, 5527, 2226, 607, 2509, 1707, 3330, 1024, 5232, 465, 5179, 3114, 2450, 1271, 3821, 3502, 1627, 1781, 4588, 3540, 3410, 3894, 5718, 3693, 5695, 4745, 793, 4131, 547, 3709, 381, 382, 2172, 442, 1433, 4171, 2027, 3984, 5721, 2245, 4023, 533, 107, 6101, 5116, 3594, 1897, 1543, 3712, 2975, 4746, 4978, 2323, 5013, 4706, 1834, 2219, 2363, 3830, 229, 2479, 5803, 745, 5774, 5514, 3020, 3244, 5352, 1879, 2792, 4245, 3231, 3761, 6292, 5539, 2155, 687, 5303, 4599, 2862, 3264, 3271, 377, 3613, 31, 289, 1138, 5110, 1682, 1461, 5277, 2123, 3392, 546, 3022, 3857, 3993, 5260, 6305, 2531, 10, 1972, 3263, 1086, 2833, 6511, 3642, 3135, 3064, 3986, 5772, 5195, 4079, 2078, 1810, 6508, 3510, 3804, 2471, 786, 4076, 3304, 5563, 2100, 5446, 887, 2075, 6026, 5466, 42, 28, 3272, 2993, 5048, 3555, 3238, 6245, 2309, 1982, 757, 1742, 1669, 5012, 6257, 1910, 3557, 1565, 956, 2596, 1383, 2558, 2065, 4162, 1092, 6263, 6195, 4198, 136, 461, 756, 846, 4897, 5029, 5929, 3816, 3402, 314, 4782, 4230, 1009, 1421, 1779, 273, 1792, 1849, 2164, 1077, 5513, 429, 5559, 777, 4205, 5614, 3281, 5792, 3041, 4829, 2760, 3489, 3340, 6012, 6381, 3332, 119, 2502, 1238, 3184, 3115, 2618, 3563, 5733, 3225, 4951, 1328, 3503, 4787, 295, 4028, 3365, 2890, 5107, 447, 5064, 2984, 3802, 858, 3831, 1815, 219, 1729, 3876, 2167, 6417, 4804, 1502, 4315, 6495, 4806, 5342, 5973, 221, 3528, 4092, 1050, 5243, 6437, 3656, 1402, 3105, 4064, 2546, 2820, 6114, 157, 4546, 4305, 1347, 5038, 4974, 4692, 1767, 938, 5175, 350, 4695, 5275, 1164, 4317, 140, 3530, 5382, 5756, 1530, 2586, 1846, 5923, 342, 1685, 285, 837, 4334, 3405, 508, 2899, 5727, 4620, 2731, 4973, 1758, 1927, 6109, 3203, 4669, 434, 2381, 5972, 3029, 3242, 5398, 2170, 1677, 2251, 4152, 1438, 1945, 3352, 4604, 1031, 1399, 1489, 780, 6279, 3607, 3537, 2938, 5628, 118, 4824, 6445, 6518, 2300, 3449, 5963, 2463, 379, 3724, 2713, 1259, 3705, 1768, 5115, 4090, 514, 2009, 6055, 3083, 4438, 1692, 4097, 5956, 1702, 2976, 2271, 1484, 1198, 4605, 5810, 4906, 1523, 1161, 4743, 5958, 5553, 1109, 6034, 1157, 1286, 518, 3303, 5484, 6496, 5683, 5285, 647, 5347, 304, 3873, 5178, 5716, 5890, 56, 4455, 6087, 5974, 5036, 549, 1181, 1735, 5357, 6139, 43, 3719, 5701, 6283, 4944, 3800, 2526, 254, 5425, 135, 1435, 4258, 5863, 6377, 2893, 2841, 753, 4329, 5198, 597, 2430, 180, 4724, 4868, 2418, 1746, 5218, 3858, 4769, 59, 5799, 3400, 5931, 2329, 4203, 540, 3171, 888, 2306, 1191, 5690, 5673, 3717, 5344, 3906, 3133, 4730, 1891, 874, 2918, 3792, 2394, 1483, 270, 6522, 2554, 3408, 4776, 5270, 950, 2513, 3374, 2860, 2828, 4294, 2683, 186, 5016, 4651, 3388, 2016, 4886, 675, 4494, 3777, 2928, 4059, 5056, 3813, 4354, 1774, 3517, 5022, 3062, 2950, 386, 5470, 1658, 695, 2205, 2187, 4137, 3553, 2697, 1075, 2853, 4114, 3739, 2924, 152, 5309, 4875, 4384, 5807, 3212, 3819, 3266, 2020, 6023, 5074, 5304, 6533, 4416, 1342, 4015, 5766, 1154, 1336, 6332, 1948, 4139, 2148, 1076, 4617, 3631, 2241, 2774, 4478, 2074, 1298, 2734, 3016, 6497, 5554, 1854, 5549, 6044, 4770, 6016, 2948, 2467, 5202, 5044, 2498, 5763, 1864, 2807, 6441, 396, 2157, 3143, 3420, 1517, 6460, 109, 3784, 3126, 1346, 6210, 2663, 5751, 3617, 1901, 4249, 2908, 5388, 2764, 5880, 6344, 4300, 1905, 1957, 3207, 1102, 2506, 6284, 3274, 6166, 5781, 4119, 2011, 6431, 1844, 3267, 5257, 2257, 4391, 231, 771, 2291, 53, 2872, 4424, 383, 748, 4325, 3367, 3051, 4557, 3477, 1287, 2044, 6409, 772, 4496, 3085, 2032, 4006, 4004, 3699, 4793, 4698, 5970, 1056, 702, 3005, 5313, 2042, 4610, 3037, 225, 2286, 3370, 1339, 5294, 1863, 2144, 4606, 4964, 3217, 5079, 2970, 2864, 4243, 3880, 5288, 3829, 5030, 4764, 2679, 91, 1911, 4702, 1194, 1384, 2587, 5231, 883, 4643, 4766, 5934, 5126, 1663, 1923, 4572, 64, 4587, 4486, 4302, 5515, 1813, 5771, 4579, 1443, 4056, 2961, 65, 3098, 4647, 2643, 1002, 3589, 4172, 4818, 500, 1699, 6407, 3314, 5185, 5945, 6516, 4186, 2346, 1196, 3544, 6367, 857, 2469, 2317, 4248, 3421, 4781, 3069, 5878, 5877, 875, 5447, 125, 5205, 5545, 763, 4161, 1107, 3163, 1535, 5367, 4731, 636, 5770, 6526, 4583, 5543, 126, 4931, 2601, 3701, 2328, 1940, 4174, 3903, 6099, 3464, 288, 3487, 3576, 6106, 2230, 1321, 2493, 6378, 2957, 3311, 5026, 2092, 4459, 3884, 565, 4342, 6325, 1425, 1377, 3889, 3457, 5436, 5684, 1589, 1212, 4876, 3597, 2569, 5506, 4707, 3959, 1985, 526, 4192, 466, 6420, 1773, 860, 176, 3390, 4454, 3473, 5634, 5196, 5450, 4645, 849, 6418, 2916, 2571, 443, 1275, 3072, 6011, 3220, 3778, 4882, 3341, 4359, 94, 27, 3183, 428, 3659, 949, 1130, 6007, 6338, 806, 2367, 2086, 5882, 369, 2749, 2005, 3424, 5093, 4808, 4966, 1544, 3253, 1878, 268, 3070, 2988, 5709, 611, 5696, 5077, 95, 4993, 6541, 183, 5429, 1731, 3742, 1370, 5152, 1486, 3249, 1214, 3354, 6130, 5043, 2021, 2169, 359, 5151, 2504, 4909, 5482, 3213, 2929, 3946, 392, 2434, 311, 5994, 138, 3696, 2678, 5516, 4216, 2453, 3611, 4805, 6243, 1610, 1876, 4287, 5225, 1598, 3839, 706, 1273, 1550, 4024, 3496, 1823, 3952, 3286, 1824, 2423, 1629, 1243, 643, 2528, 3078, 4736, 5948, 2684, 6075, 1752, 4410, 2073, 5694, 525, 4653, 3676, 2192, 3283, 839, 973, 3130, 6027, 2877, 5370, 2319, 4031, 2664, 77, 2185, 1264, 1215, 4937, 5706, 2248, 4813, 605, 4074, 5437, 2393, 6048, 5141, 2806, 1415, 1606, 1670, 2602, 1289, 6382, 1738, 6521, 1620, 3209, 1335, 666, 1115, 2989, 6259, 4377, 4148, 923, 3521, 5625, 4857, 5180, 4456, 3134, 6306, 6536, 1136, 3732, 4212, 1526, 6186, 5075, 1485, 6369, 6415, 6469, 6439, 5161, 3348, 1785, 1417, 3349, 3769, 6427, 3287, 3860, 5010, 187, 5207, 5289, 2710, 3584, 55, 4785, 4791, 2532, 5403, 3495, 1837, 2605, 5351, 2692, 4900, 6296, 3382, 1348, 1715, 3491, 6280, 3902, 5392, 1303, 4375, 2265, 67, 3806, 3875, 2848, 1991, 1654, 4326, 2406, 5122, 4871, 3378, 2397, 1611, 2374, 1353, 3289, 2711, 2503, 997, 2124, 4523, 4003, 1540, 431, 4635, 3944, 5452, 3913, 2242, 5603, 5455, 2386, 6180, 4576, 2902, 6513, 2878, 4108, 2743, 3054, 4828, 4042, 3432, 1122, 5782, 1832, 5137, 1453, 2802, 1522, 1274, 2227, 4168, 2345, 6384, 3222, 2254, 6426, 827, 3331, 4852, 425, 1211, 725, 1672, 634, 3737, 6298, 502, 2036, 3979, 6096, 2898, 3000, 49, 365, 4372, 224, 3027, 2147, 2068, 1875, 3215, 6523, 6201, 4826, 1594, 2407, 674, 4313, 1036, 2062, 3011, 1162, 1974, 2318, 5472, 5627, 188, 1378, 6037, 6214, 3801, 456, 3878, 1710, 1004, 5299, 4910, 4778, 6198, 3569, 3124, 4598, 864, 1365, 1319, 4452, 3887, 2718, 4234, 1193, 6329, 2451, 2900, 6177, 2201, 2368, 4297, 4309, 2058, 3893, 2997, 4204, 5969, 3803, 5955, 5883, 5224, 3423, 931, 1510, 385, 5104, 3442, 2958, 544, 5286, 1458, 3121, 1778, 1683, 3985, 2847, 5475, 1318, 4386, 3355, 4563, 4525, 3695, 4865, 2873, 3177, 600, 2839, 4396, 3376, 6254, 692, 5094, 4233, 929, 2747, 5238, 2225, 3409, 1818, 4877, 346, 4506, 4902, 1123, 1977, 4975, 3888, 1874, 2753, 3793, 3437, 2470, 5132, 6519, 2751, 2831, 3877, 230, 197, 4904, 684, 5715, 2392, 1597, 6192, 3185, 5062, 5805, 1776, 1780, 5616, 3261, 2641, 2677, 4360, 2383, 2969, 4319, 1989, 1712, 3592, 804, 2018, 5940, 1406, 355, 4752, 6006, 3003, 3381, 2366, 4718, 3254, 3255, 866, 1998, 5936, 3453, 3364, 1027, 6005, 1671, 2527, 5670, 2321, 5267, 5404, 3219, 4983, 1515, 4380, 5034, 1953, 3074, 913, 5190, 2505, 5565, 1372, 3587, 2061, 3713, 5609, 4047, 5857, 3692, 73, 1708, 3583, 922, 6517, 861, 5960, 226, 3435, 4502, 1954, 873, 2650, 3863, 4825, 1631, 2427, 6300, 2966, 454, 2102, 2616, 5483, 3660, 134, 3820, 6515, 4735, 5943, 616, 1531, 5305, 4552, 2352, 3575, 676, 1186, 6276, 5206, 6351, 4124, 5045, 2098, 5532, 5216, 3430, 1035, 4277, 2523, 3221, 195, 1371, 3384, 5531, 6258, 5896, 4278, 2146, 1843, 2278, 4634, 3932, 1697, 536, 6362, 1455, 1046, 1401, 2285, 6466, 5101, 1528, 2794, 6487, 2077, 12, 1117, 2518, 4382, 1586, 3113, 2687, 3090, 3511, 3403, 1014, 5476, 6456, 271, 6352, 298, 5699, 3766, 3429, 4353, 13, 5647, 1790, 2888, 2365, 4807, 5732, 41, 2882, 4869, 3476, 3908, 6102, 6091, 1814, 1545, 784, 2277, 2676, 299, 2548, 2369, 3160, 2667, 1926, 5776, 1573, 528, 384, 4276, 4859, 4063, 2113, 3182, 6116, 4773, 3535, 1782, 2904, 6077, 3290, 3229, 2448, 5606, 5607, 287, 5611, 39, 709, 3723, 1096, 933, 4130, 2247, 5650, 3262, 3371, 2289, 2442, 5385, 4914, 5154, 3294, 4697, 5888, 3542, 4464, 2796, 6165, 6501, 2733, 5457, 200, 4936, 6200, 3191, 5453, 421, 1203, 4369, 4175, 5950, 1106, 4602, 3164, 2162, 754, 6105, 5790, 6039, 3396, 1936, 3791, 5365, 6370, 6331, 2437, 3870, 3997, 2140, 1580, 5512, 4873, 6182, 5556, 1047, 2886, 3065, 2852, 1931, 3383, 4460, 3722, 3434, 5594, 2040, 4649, 3579, 458, 2941, 683, 467, 2842, 3224, 4738, 4497, 2017, 3657, 1847, 4202, 6053, 3139, 5133, 2953, 6248, 994, 344, 1996, 6205, 2431, 3389, 100, 520, 698, 2603, 4253, 2066, 2811, 6548, 2454, 1127, 2658, 2579, 2983, 3518, 3067, 964, 5156, 3995, 6540, 4417, 4331, 3965, 4282, 3632, 2455, 144, 5754, 1993, 2725, 2501, 4984, 2107, 4057, 3808, 590, 795, 4941, 4033, 1237, 2282, 6286, 2894, 2584, 181, 2818, 3881, 3718, 6462, 3019, 6514, 762, 1914, 1189, 4862, 1527, 2659, 128, 4398, 3439, 3093, 5848, 2572, 503, 1581, 1533, 4712, 4401, 2633, 2612, 2327, 353, 3910, 5221, 5031, 776, 5814, 6246, 3031, 4796, 1481, 2496, 6138, 850, 54, 4681, 5971, 1612, 5316, 4341, 6127, 3735, 1171, 5028, 3346, 1351, 716, 3874, 4646, 4884, 1116, 5622, 2508, 3531, 5341, 5949, 3025, 5181, 1177, 5676, 3218, 3427, 4490, 1277, 803, 2708, 2326, 710, 3317, 2783, 1248, 2600, 113, 2412, 3638, 2035, 1178, 4586, 3023, 3785, 4986, 3765, 1343, 6347, 2348, 2465, 2954, 5362, 2428, 4537, 3588, 3481, 2858, 2661, 6282, 3591, 6380, 3790, 3524, 1011, 4661, 766, 5924, 436, 4693, 5460, 430, 2324, 5071, 2484, 1427, 765, 4274, 2732, 4554, 2497, 265, 2252, 1990, 1645, 2491, 1042, 3455, 4820, 93, 2274, 5800, 1006, 863, 5468, 884, 4580, 2004, 5610, 4303, 5239, 965, 2281, 2689, 3620, 585, 6038, 5720, 3077, 3236, 3681, 6340, 5612, 4218, 2388, 5593, 4503, 2010, 4288, 2552, 1811, 768, 3298, 1103, 5535, 4948, 1686, 5874, 1185, 3662, 2404, 3042, 4788, 2071, 1861, 3101, 2712, 6383, 3934, 4953, 1695, 1338, 302, 3232, 1413, 6273, 1959, 5533, 3623, 4219, 3926, 6185, 5284, 133, 185, 2816, 5621, 1661, 179, 2421, 1524, 3174, 2481, 1327, 192, 2772, 5100, 5067, 759, 853, 6256, 3930, 6222, 1332, 2696, 4173, 2544, 5671, 6260, 3227, 3663, 2055, 854, 2093, 20, 6095, 1340, 5160, 1165, 1464, 6494, 3667, 5649, 1748, 583, 3644, 2401, 146, 2567, 829, 3726, 2742, 3178, 5917, 3028, 3976, 190, 5054, 6255, 3321, 3749, 2959, 3180, 1032, 2207, 5431, 6509, 5353, 1112, 6137, 2930, 1190, 4521, 5510, 2511, 1737, 2662, 3550, 2795, 3363, 3783, 2867, 2186, 3008, 3345, 6348, 3295, 464, 2630, 6457, 4812, 5430, 4222, 2832, 667, 5189, 4210, 2464, 2609, 4220, 1937, 70, 1295, 6056, 208]\n",
      "test ids:  [0, 1, 2, 3, 4, 5, 6, 7, 8, 78, 79, 80, 81, 82, 83, 84, 85, 86, 87, 88, 89, 90, 158, 159, 160, 161, 162, 163, 164, 165, 166, 167, 168, 169, 170, 171, 238, 239, 240, 241, 242, 243, 244, 245, 246, 247, 248, 249, 250, 251, 252, 253, 318, 319, 320, 321, 322, 324, 325, 326, 327, 328, 329, 330, 331, 332, 333, 334, 335, 398, 399, 400, 401, 402, 405, 406, 407, 408, 409, 410, 411, 412, 413, 414, 415, 416, 417, 478, 479, 480, 481, 482, 486, 487, 488, 489, 490, 491, 492, 493, 494, 495, 496, 497, 498, 499, 558, 559, 560, 561, 562, 567, 568, 569, 570, 571, 572, 573, 574, 575, 576, 577, 578, 579, 580, 638, 639, 640, 641, 642, 648, 649, 650, 651, 652, 653, 654, 655, 656, 657, 658, 659, 660, 661, 662, 718, 719, 720, 721, 722, 729, 730, 731, 732, 733, 734, 735, 736, 737, 738, 739, 740, 741, 742, 743, 744, 798, 799, 800, 801, 802, 810, 811, 812, 813, 814, 815, 816, 817, 818, 819, 820, 821, 822, 823, 824, 825, 826, 878, 879, 880, 881, 882, 892, 893, 894, 895, 896, 897, 898, 899, 900, 901, 902, 903, 904, 905, 906, 907, 908, 958, 959, 960, 961, 962, 974, 975, 976, 977, 978, 979, 980, 981, 982, 983, 984, 985, 986, 987, 988, 989, 1039, 1040, 1041, 1057, 1058, 1059, 1060, 1061, 1062, 1063, 1064, 1065, 1066, 1067, 1068, 1069, 1070, 1071, 1119, 1120, 1121, 1139, 1140, 1141, 1142, 1143, 1144, 1145, 1146, 1147, 1148, 1149, 1150, 1151, 1152, 1153, 1199, 1200, 1201, 1221, 1222, 1223, 1224, 1225, 1226, 1227, 1228, 1229, 1230, 1231, 1232, 1233, 1234, 1235, 1279, 1280, 1281, 1304, 1305, 1306, 1307, 1308, 1309, 1310, 1311, 1312, 1313, 1314, 1315, 1316, 1359, 1360, 1361, 1386, 1387, 1388, 1389, 1390, 1391, 1392, 1393, 1394, 1395, 1396, 1397, 1398, 1439, 1440, 1441, 1469, 1470, 1471, 1472, 1473, 1474, 1475, 1476, 1477, 1478, 1479, 1480, 1519, 1520, 1521, 1551, 1552, 1553, 1554, 1555, 1556, 1557, 1558, 1559, 1560, 1561, 1562, 1599, 1600, 1601, 1633, 1634, 1635, 1636, 1637, 1638, 1639, 1640, 1641, 1642, 1643, 1644, 1679, 1680, 1681, 1716, 1717, 1718, 1719, 1720, 1721, 1722, 1723, 1724, 1725, 1759, 1760, 1761, 1798, 1799, 1800, 1801, 1802, 1803, 1804, 1805, 1806, 1807, 1839, 1840, 1841, 1880, 1881, 1882, 1883, 1884, 1885, 1886, 1887, 1888, 1889, 1919, 1920, 1921, 1963, 1964, 1965, 1966, 1967, 1968, 1969, 1970, 1971, 1999, 2000, 2001, 2045, 2046, 2047, 2048, 2049, 2050, 2051, 2052, 2053, 2079, 2080, 2081, 2127, 2128, 2129, 2130, 2131, 2132, 2133, 2134, 2160, 2210, 2211, 2212, 2213, 2214, 2215, 2216, 2240, 2292, 2293, 2294, 2295, 2296, 2297, 2298, 2320, 2375, 2376, 2377, 2378, 2379, 2380, 2400, 2457, 2458, 2459, 2460, 2461, 2462, 2480, 2539, 2540, 2541, 2542, 2543, 2560, 2622, 2623, 2624, 2625, 2640, 2704, 2705, 2706, 2707, 2720, 2786, 2787, 2788, 2789, 2800, 2869, 2870, 2871, 2880, 2951, 2952, 2960, 3033, 3034, 3040, 3116, 3120, 3198, 3200, 3280, 3360, 3362, 3440, 3444, 3520, 3526, 3527, 3600, 3608, 3609, 3680, 3689, 3690, 3691, 3760, 3771, 3772, 3773, 3774, 3840, 3853, 3854, 3855, 3856, 3920, 3935, 3936, 3937, 3938, 4000, 4017, 4018, 4019, 4020, 4021, 4080, 4098, 4099, 4100, 4101, 4102, 4103, 4160, 4180, 4181, 4182, 4183, 4184, 4185, 4240, 4262, 4263, 4264, 4265, 4266, 4267, 4268, 4320, 4344, 4345, 4346, 4347, 4348, 4349, 4350, 4400, 4426, 4427, 4428, 4429, 4430, 4431, 4432, 4433, 4479, 4480, 4481, 4507, 4508, 4509, 4510, 4511, 4512, 4513, 4514, 4515, 4559, 4560, 4561, 4589, 4590, 4591, 4592, 4593, 4594, 4595, 4596, 4597, 4639, 4640, 4641, 4671, 4672, 4673, 4674, 4675, 4676, 4677, 4678, 4679, 4680, 4719, 4720, 4721, 4753, 4754, 4755, 4756, 4757, 4758, 4759, 4760, 4761, 4762, 4799, 4800, 4801, 4835, 4836, 4837, 4838, 4839, 4840, 4841, 4842, 4843, 4844, 4879, 4880, 4881, 4916, 4917, 4918, 4919, 4920, 4921, 4922, 4923, 4924, 4925, 4926, 4927, 4959, 4960, 4961, 4998, 4999, 5000, 5001, 5002, 5003, 5004, 5005, 5006, 5007, 5008, 5009, 5039, 5040, 5041, 5080, 5081, 5082, 5083, 5084, 5085, 5086, 5087, 5088, 5089, 5090, 5091, 5119, 5120, 5121, 5162, 5163, 5164, 5165, 5166, 5167, 5168, 5169, 5170, 5171, 5172, 5173, 5174, 5199, 5200, 5201, 5244, 5245, 5246, 5247, 5248, 5249, 5250, 5251, 5252, 5253, 5254, 5255, 5256, 5279, 5280, 5281, 5325, 5326, 5327, 5328, 5329, 5330, 5331, 5332, 5333, 5334, 5335, 5336, 5337, 5338, 5339, 5359, 5360, 5361, 5407, 5408, 5409, 5410, 5411, 5412, 5413, 5414, 5415, 5416, 5417, 5418, 5419, 5420, 5421, 5439, 5440, 5441, 5489, 5490, 5491, 5492, 5493, 5494, 5495, 5496, 5497, 5498, 5499, 5500, 5501, 5502, 5503, 5519, 5520, 5521, 5571, 5572, 5573, 5574, 5575, 5576, 5577, 5578, 5579, 5580, 5581, 5582, 5583, 5584, 5585, 5586, 5598, 5599, 5600, 5601, 5602, 5652, 5653, 5654, 5655, 5656, 5657, 5658, 5659, 5660, 5661, 5662, 5663, 5664, 5665, 5666, 5667, 5668, 5678, 5679, 5680, 5681, 5682, 5734, 5735, 5736, 5737, 5738, 5739, 5740, 5741, 5742, 5743, 5744, 5745, 5746, 5747, 5748, 5749, 5750, 5758, 5759, 5760, 5761, 5762, 5816, 5817, 5818, 5819, 5820, 5821, 5822, 5823, 5824, 5825, 5826, 5827, 5828, 5829, 5830, 5831, 5838, 5839, 5840, 5841, 5842, 5898, 5899, 5900, 5901, 5902, 5903, 5904, 5905, 5906, 5907, 5908, 5909, 5910, 5911, 5912, 5918, 5919, 5920, 5921, 5922, 5980, 5981, 5982, 5983, 5984, 5985, 5986, 5987, 5988, 5989, 5990, 5991, 5992, 5993, 5998, 5999, 6000, 6001, 6002, 6061, 6062, 6063, 6064, 6065, 6066, 6067, 6068, 6069, 6070, 6071, 6072, 6073, 6074, 6078, 6079, 6080, 6081, 6082, 6143, 6144, 6145, 6146, 6147, 6148, 6149, 6150, 6151, 6152, 6153, 6154, 6155, 6158, 6159, 6160, 6161, 6162, 6225, 6226, 6227, 6228, 6229, 6230, 6231, 6232, 6233, 6234, 6235, 6236, 6238, 6239, 6240, 6241, 6242, 6307, 6308, 6309, 6310, 6311, 6312, 6313, 6314, 6315, 6316, 6317, 6318, 6319, 6320, 6321, 6322, 6389, 6390, 6391, 6392, 6393, 6394, 6395, 6396, 6397, 6398, 6399, 6400, 6401, 6402, 6470, 6471, 6472, 6473, 6474, 6475, 6476, 6477, 6478, 6479, 6480, 6481, 6482, 6552, 6553, 6554, 6555, 6556, 6557, 6558, 6559, 6560]\n",
      "CPU times: user 166 ms, sys: 4 µs, total: 166 ms\n",
      "Wall time: 165 ms\n"
     ]
    }
   ],
   "source": [
    "%%time\n",
    "n_total = len(simulation.dataframe)\n",
    "n_train = len(simulation.dataframe[simulation.dataframe.type_of == \"train\"])\n",
    "n_val = len(simulation.dataframe[simulation.dataframe.type_of == \"val\"])\n",
    "n_test = len(simulation.dataframe[simulation.dataframe.type_of == \"test\"])\n",
    "n_train_hamiltonians = len(simulation.train_ids)\n",
    "n_val_hamiltonians = len(simulation.val_ids)\n",
    "n_test_hamiltonians = len(simulation.test_ids)\n",
    "n_total_hamiltonians = n_train_hamiltonians + n_val_hamiltonians + n_test_hamiltonians\n",
    "\n",
    "print(\"% train: \", n_train/n_total)\n",
    "print(\"% val: \",  n_val/n_total)\n",
    "print(\"% test: \", n_test/n_total)\n",
    "print(\"% train + val + test: \", (n_train+n_val+n_test)/n_total)\n",
    "print(\"\\n\")\n",
    "print(\"number of train hamiltonians: \", n_train_hamiltonians)\n",
    "print(\"number of val hamiltonians: \", n_val_hamiltonians)\n",
    "print(\"number of test hamiltonians: \", n_test_hamiltonians)\n",
    "print(\"total number of hamiltonians: \", n_total_hamiltonians)\n",
    "print(\"\\n\")\n",
    "print(\"train ids: \", simulation.train_ids)\n",
    "print(\"val ids: \", simulation.val_ids)\n",
    "print(\"test ids: \", simulation.test_ids)"
   ]
  },
  {
   "cell_type": "markdown",
   "metadata": {
    "papermill": {
     "duration": 0.036696,
     "end_time": "2020-07-08T05:33:32.699239",
     "exception": false,
     "start_time": "2020-07-08T05:33:32.662543",
     "status": "completed"
    },
    "tags": []
   },
   "source": [
    "#### Checking summaries"
   ]
  },
  {
   "cell_type": "code",
   "execution_count": 27,
   "metadata": {
    "execution": {
     "iopub.execute_input": "2020-07-08T05:33:32.775459Z",
     "iopub.status.busy": "2020-07-08T05:33:32.775148Z",
     "iopub.status.idle": "2020-07-08T05:33:32.793328Z",
     "shell.execute_reply": "2020-07-08T05:33:32.793011Z"
    },
    "papermill": {
     "duration": 0.056519,
     "end_time": "2020-07-08T05:33:32.793380",
     "exception": false,
     "start_time": "2020-07-08T05:33:32.736861",
     "status": "completed"
    },
    "tags": []
   },
   "outputs": [
    {
     "name": "stdout",
     "output_type": "stream",
     "text": [
      "length of ham_summary:  6561\n",
      "CPU times: user 112 µs, sys: 0 ns, total: 112 µs\n",
      "Wall time: 82.7 µs\n"
     ]
    },
    {
     "data": {
      "text/html": [
       "<div>\n",
       "<style scoped>\n",
       "    .dataframe tbody tr th:only-of-type {\n",
       "        vertical-align: middle;\n",
       "    }\n",
       "\n",
       "    .dataframe tbody tr th {\n",
       "        vertical-align: top;\n",
       "    }\n",
       "\n",
       "    .dataframe thead th {\n",
       "        text-align: right;\n",
       "    }\n",
       "</style>\n",
       "<table border=\"1\" class=\"dataframe\">\n",
       "  <thead>\n",
       "    <tr style=\"text-align: right;\">\n",
       "      <th></th>\n",
       "      <th>t1</th>\n",
       "      <th>t2</th>\n",
       "      <th>type_of</th>\n",
       "      <th>0</th>\n",
       "      <th>1</th>\n",
       "      <th>phase</th>\n",
       "      <th>pred_phase</th>\n",
       "    </tr>\n",
       "    <tr>\n",
       "      <th>id</th>\n",
       "      <th></th>\n",
       "      <th></th>\n",
       "      <th></th>\n",
       "      <th></th>\n",
       "      <th></th>\n",
       "      <th></th>\n",
       "      <th></th>\n",
       "    </tr>\n",
       "  </thead>\n",
       "  <tbody>\n",
       "    <tr>\n",
       "      <th>0</th>\n",
       "      <td>-2.0</td>\n",
       "      <td>-2.00</td>\n",
       "      <td>test</td>\n",
       "      <td>0.47</td>\n",
       "      <td>0.53</td>\n",
       "      <td>999</td>\n",
       "      <td>1</td>\n",
       "    </tr>\n",
       "    <tr>\n",
       "      <th>1</th>\n",
       "      <td>-2.0</td>\n",
       "      <td>-1.95</td>\n",
       "      <td>test</td>\n",
       "      <td>0.42</td>\n",
       "      <td>0.58</td>\n",
       "      <td>0</td>\n",
       "      <td>1</td>\n",
       "    </tr>\n",
       "    <tr>\n",
       "      <th>2</th>\n",
       "      <td>-2.0</td>\n",
       "      <td>-1.90</td>\n",
       "      <td>test</td>\n",
       "      <td>0.44</td>\n",
       "      <td>0.56</td>\n",
       "      <td>0</td>\n",
       "      <td>1</td>\n",
       "    </tr>\n",
       "    <tr>\n",
       "      <th>3</th>\n",
       "      <td>-2.0</td>\n",
       "      <td>-1.85</td>\n",
       "      <td>test</td>\n",
       "      <td>0.57</td>\n",
       "      <td>0.43</td>\n",
       "      <td>0</td>\n",
       "      <td>0</td>\n",
       "    </tr>\n",
       "    <tr>\n",
       "      <th>4</th>\n",
       "      <td>-2.0</td>\n",
       "      <td>-1.80</td>\n",
       "      <td>test</td>\n",
       "      <td>0.47</td>\n",
       "      <td>0.53</td>\n",
       "      <td>0</td>\n",
       "      <td>1</td>\n",
       "    </tr>\n",
       "    <tr>\n",
       "      <th>...</th>\n",
       "      <td>...</td>\n",
       "      <td>...</td>\n",
       "      <td>...</td>\n",
       "      <td>...</td>\n",
       "      <td>...</td>\n",
       "      <td>...</td>\n",
       "      <td>...</td>\n",
       "    </tr>\n",
       "    <tr>\n",
       "      <th>6556</th>\n",
       "      <td>2.0</td>\n",
       "      <td>1.80</td>\n",
       "      <td>test</td>\n",
       "      <td>0.49</td>\n",
       "      <td>0.51</td>\n",
       "      <td>0</td>\n",
       "      <td>1</td>\n",
       "    </tr>\n",
       "    <tr>\n",
       "      <th>6557</th>\n",
       "      <td>2.0</td>\n",
       "      <td>1.85</td>\n",
       "      <td>test</td>\n",
       "      <td>0.46</td>\n",
       "      <td>0.54</td>\n",
       "      <td>0</td>\n",
       "      <td>1</td>\n",
       "    </tr>\n",
       "    <tr>\n",
       "      <th>6558</th>\n",
       "      <td>2.0</td>\n",
       "      <td>1.90</td>\n",
       "      <td>test</td>\n",
       "      <td>0.45</td>\n",
       "      <td>0.55</td>\n",
       "      <td>0</td>\n",
       "      <td>1</td>\n",
       "    </tr>\n",
       "    <tr>\n",
       "      <th>6559</th>\n",
       "      <td>2.0</td>\n",
       "      <td>1.95</td>\n",
       "      <td>test</td>\n",
       "      <td>0.46</td>\n",
       "      <td>0.54</td>\n",
       "      <td>0</td>\n",
       "      <td>1</td>\n",
       "    </tr>\n",
       "    <tr>\n",
       "      <th>6560</th>\n",
       "      <td>2.0</td>\n",
       "      <td>2.00</td>\n",
       "      <td>test</td>\n",
       "      <td>0.43</td>\n",
       "      <td>0.57</td>\n",
       "      <td>999</td>\n",
       "      <td>1</td>\n",
       "    </tr>\n",
       "  </tbody>\n",
       "</table>\n",
       "<p>6561 rows × 7 columns</p>\n",
       "</div>"
      ],
      "text/plain": [
       "       t1    t2 type_of     0     1  phase  pred_phase\n",
       "id                                                    \n",
       "0    -2.0 -2.00    test  0.47  0.53    999           1\n",
       "1    -2.0 -1.95    test  0.42  0.58      0           1\n",
       "2    -2.0 -1.90    test  0.44  0.56      0           1\n",
       "3    -2.0 -1.85    test  0.57  0.43      0           0\n",
       "4    -2.0 -1.80    test  0.47  0.53      0           1\n",
       "...   ...   ...     ...   ...   ...    ...         ...\n",
       "6556  2.0  1.80    test  0.49  0.51      0           1\n",
       "6557  2.0  1.85    test  0.46  0.54      0           1\n",
       "6558  2.0  1.90    test  0.45  0.55      0           1\n",
       "6559  2.0  1.95    test  0.46  0.54      0           1\n",
       "6560  2.0  2.00    test  0.43  0.57    999           1\n",
       "\n",
       "[6561 rows x 7 columns]"
      ]
     },
     "execution_count": 27,
     "metadata": {},
     "output_type": "execute_result"
    }
   ],
   "source": [
    "%%time\n",
    "ham_summary = simulation.hamiltonian_summary\n",
    "print(\"length of ham_summary: \", len(ham_summary))\n",
    "ham_summary"
   ]
  },
  {
   "cell_type": "code",
   "execution_count": 28,
   "metadata": {
    "execution": {
     "iopub.execute_input": "2020-07-08T05:33:32.870445Z",
     "iopub.status.busy": "2020-07-08T05:33:32.870122Z",
     "iopub.status.idle": "2020-07-08T05:33:32.896686Z",
     "shell.execute_reply": "2020-07-08T05:33:32.896411Z"
    },
    "papermill": {
     "duration": 0.065508,
     "end_time": "2020-07-08T05:33:32.896740",
     "exception": false,
     "start_time": "2020-07-08T05:33:32.831232",
     "status": "completed"
    },
    "tags": []
   },
   "outputs": [
    {
     "data": {
      "text/html": [
       "<div>\n",
       "<style scoped>\n",
       "    .dataframe tbody tr th:only-of-type {\n",
       "        vertical-align: middle;\n",
       "    }\n",
       "\n",
       "    .dataframe tbody tr th {\n",
       "        vertical-align: top;\n",
       "    }\n",
       "\n",
       "    .dataframe thead th {\n",
       "        text-align: right;\n",
       "    }\n",
       "</style>\n",
       "<table border=\"1\" class=\"dataframe\">\n",
       "  <thead>\n",
       "    <tr style=\"text-align: right;\">\n",
       "      <th></th>\n",
       "      <th>t1</th>\n",
       "      <th>t2</th>\n",
       "      <th>0</th>\n",
       "      <th>1</th>\n",
       "      <th>phase</th>\n",
       "      <th>pred_phase</th>\n",
       "    </tr>\n",
       "  </thead>\n",
       "  <tbody>\n",
       "    <tr>\n",
       "      <th>count</th>\n",
       "      <td>6561.000000</td>\n",
       "      <td>6.561000e+03</td>\n",
       "      <td>6561.000000</td>\n",
       "      <td>6561.000000</td>\n",
       "      <td>6561.000000</td>\n",
       "      <td>6561.000000</td>\n",
       "    </tr>\n",
       "    <tr>\n",
       "      <th>mean</th>\n",
       "      <td>0.000000</td>\n",
       "      <td>-4.331917e-18</td>\n",
       "      <td>0.474164</td>\n",
       "      <td>0.525836</td>\n",
       "      <td>25.002134</td>\n",
       "      <td>0.532846</td>\n",
       "    </tr>\n",
       "    <tr>\n",
       "      <th>std</th>\n",
       "      <td>1.169134</td>\n",
       "      <td>1.169134e+00</td>\n",
       "      <td>0.317531</td>\n",
       "      <td>0.317531</td>\n",
       "      <td>154.495657</td>\n",
       "      <td>0.498958</td>\n",
       "    </tr>\n",
       "    <tr>\n",
       "      <th>min</th>\n",
       "      <td>-2.000000</td>\n",
       "      <td>-2.000000e+00</td>\n",
       "      <td>0.000000</td>\n",
       "      <td>0.020000</td>\n",
       "      <td>0.000000</td>\n",
       "      <td>0.000000</td>\n",
       "    </tr>\n",
       "    <tr>\n",
       "      <th>25%</th>\n",
       "      <td>-1.000000</td>\n",
       "      <td>-1.000000e+00</td>\n",
       "      <td>0.170000</td>\n",
       "      <td>0.200000</td>\n",
       "      <td>0.000000</td>\n",
       "      <td>0.000000</td>\n",
       "    </tr>\n",
       "    <tr>\n",
       "      <th>50%</th>\n",
       "      <td>0.000000</td>\n",
       "      <td>0.000000e+00</td>\n",
       "      <td>0.440000</td>\n",
       "      <td>0.560000</td>\n",
       "      <td>1.000000</td>\n",
       "      <td>1.000000</td>\n",
       "    </tr>\n",
       "    <tr>\n",
       "      <th>75%</th>\n",
       "      <td>1.000000</td>\n",
       "      <td>1.000000e+00</td>\n",
       "      <td>0.800000</td>\n",
       "      <td>0.830000</td>\n",
       "      <td>1.000000</td>\n",
       "      <td>1.000000</td>\n",
       "    </tr>\n",
       "    <tr>\n",
       "      <th>max</th>\n",
       "      <td>2.000000</td>\n",
       "      <td>2.000000e+00</td>\n",
       "      <td>0.980000</td>\n",
       "      <td>1.000000</td>\n",
       "      <td>999.000000</td>\n",
       "      <td>1.000000</td>\n",
       "    </tr>\n",
       "  </tbody>\n",
       "</table>\n",
       "</div>"
      ],
      "text/plain": [
       "                t1            t2            0            1        phase  \\\n",
       "count  6561.000000  6.561000e+03  6561.000000  6561.000000  6561.000000   \n",
       "mean      0.000000 -4.331917e-18     0.474164     0.525836    25.002134   \n",
       "std       1.169134  1.169134e+00     0.317531     0.317531   154.495657   \n",
       "min      -2.000000 -2.000000e+00     0.000000     0.020000     0.000000   \n",
       "25%      -1.000000 -1.000000e+00     0.170000     0.200000     0.000000   \n",
       "50%       0.000000  0.000000e+00     0.440000     0.560000     1.000000   \n",
       "75%       1.000000  1.000000e+00     0.800000     0.830000     1.000000   \n",
       "max       2.000000  2.000000e+00     0.980000     1.000000   999.000000   \n",
       "\n",
       "        pred_phase  \n",
       "count  6561.000000  \n",
       "mean      0.532846  \n",
       "std       0.498958  \n",
       "min       0.000000  \n",
       "25%       0.000000  \n",
       "50%       1.000000  \n",
       "75%       1.000000  \n",
       "max       1.000000  "
      ]
     },
     "execution_count": 28,
     "metadata": {},
     "output_type": "execute_result"
    }
   ],
   "source": [
    "ham_summary.describe()"
   ]
  },
  {
   "cell_type": "code",
   "execution_count": 29,
   "metadata": {
    "execution": {
     "iopub.execute_input": "2020-07-08T05:33:32.973925Z",
     "iopub.status.busy": "2020-07-08T05:33:32.973598Z",
     "iopub.status.idle": "2020-07-08T05:33:32.987894Z",
     "shell.execute_reply": "2020-07-08T05:33:32.988198Z"
    },
    "papermill": {
     "duration": 0.054076,
     "end_time": "2020-07-08T05:33:32.988264",
     "exception": false,
     "start_time": "2020-07-08T05:33:32.934188",
     "status": "completed"
    },
    "tags": []
   },
   "outputs": [
    {
     "name": "stdout",
     "output_type": "stream",
     "text": [
      "length of ham_summary:  656100\n"
     ]
    },
    {
     "data": {
      "text/html": [
       "<div>\n",
       "<style scoped>\n",
       "    .dataframe tbody tr th:only-of-type {\n",
       "        vertical-align: middle;\n",
       "    }\n",
       "\n",
       "    .dataframe tbody tr th {\n",
       "        vertical-align: top;\n",
       "    }\n",
       "\n",
       "    .dataframe thead th {\n",
       "        text-align: right;\n",
       "    }\n",
       "</style>\n",
       "<table border=\"1\" class=\"dataframe\">\n",
       "  <thead>\n",
       "    <tr style=\"text-align: right;\">\n",
       "      <th></th>\n",
       "      <th>id</th>\n",
       "      <th>phase</th>\n",
       "      <th>pred_phase</th>\n",
       "      <th>type_of</th>\n",
       "    </tr>\n",
       "  </thead>\n",
       "  <tbody>\n",
       "    <tr>\n",
       "      <th>0</th>\n",
       "      <td>0</td>\n",
       "      <td>999</td>\n",
       "      <td>1</td>\n",
       "      <td>test</td>\n",
       "    </tr>\n",
       "    <tr>\n",
       "      <th>1</th>\n",
       "      <td>0</td>\n",
       "      <td>999</td>\n",
       "      <td>1</td>\n",
       "      <td>test</td>\n",
       "    </tr>\n",
       "    <tr>\n",
       "      <th>2</th>\n",
       "      <td>0</td>\n",
       "      <td>999</td>\n",
       "      <td>0</td>\n",
       "      <td>test</td>\n",
       "    </tr>\n",
       "    <tr>\n",
       "      <th>3</th>\n",
       "      <td>0</td>\n",
       "      <td>999</td>\n",
       "      <td>1</td>\n",
       "      <td>test</td>\n",
       "    </tr>\n",
       "    <tr>\n",
       "      <th>4</th>\n",
       "      <td>0</td>\n",
       "      <td>999</td>\n",
       "      <td>0</td>\n",
       "      <td>test</td>\n",
       "    </tr>\n",
       "    <tr>\n",
       "      <th>...</th>\n",
       "      <td>...</td>\n",
       "      <td>...</td>\n",
       "      <td>...</td>\n",
       "      <td>...</td>\n",
       "    </tr>\n",
       "    <tr>\n",
       "      <th>656095</th>\n",
       "      <td>6560</td>\n",
       "      <td>999</td>\n",
       "      <td>1</td>\n",
       "      <td>test</td>\n",
       "    </tr>\n",
       "    <tr>\n",
       "      <th>656096</th>\n",
       "      <td>6560</td>\n",
       "      <td>999</td>\n",
       "      <td>1</td>\n",
       "      <td>test</td>\n",
       "    </tr>\n",
       "    <tr>\n",
       "      <th>656097</th>\n",
       "      <td>6560</td>\n",
       "      <td>999</td>\n",
       "      <td>1</td>\n",
       "      <td>test</td>\n",
       "    </tr>\n",
       "    <tr>\n",
       "      <th>656098</th>\n",
       "      <td>6560</td>\n",
       "      <td>999</td>\n",
       "      <td>1</td>\n",
       "      <td>test</td>\n",
       "    </tr>\n",
       "    <tr>\n",
       "      <th>656099</th>\n",
       "      <td>6560</td>\n",
       "      <td>999</td>\n",
       "      <td>1</td>\n",
       "      <td>test</td>\n",
       "    </tr>\n",
       "  </tbody>\n",
       "</table>\n",
       "<p>656100 rows × 4 columns</p>\n",
       "</div>"
      ],
      "text/plain": [
       "          id  phase  pred_phase type_of\n",
       "0          0    999           1    test\n",
       "1          0    999           1    test\n",
       "2          0    999           0    test\n",
       "3          0    999           1    test\n",
       "4          0    999           0    test\n",
       "...      ...    ...         ...     ...\n",
       "656095  6560    999           1    test\n",
       "656096  6560    999           1    test\n",
       "656097  6560    999           1    test\n",
       "656098  6560    999           1    test\n",
       "656099  6560    999           1    test\n",
       "\n",
       "[656100 rows x 4 columns]"
      ]
     },
     "execution_count": 29,
     "metadata": {},
     "output_type": "execute_result"
    }
   ],
   "source": [
    "eigen_summary = simulation.eigenvector_summary\n",
    "print(\"length of ham_summary: \", len(eigen_summary))\n",
    "eigen_summary"
   ]
  },
  {
   "cell_type": "markdown",
   "metadata": {
    "papermill": {
     "duration": 0.037285,
     "end_time": "2020-07-08T05:33:33.062886",
     "exception": false,
     "start_time": "2020-07-08T05:33:33.025601",
     "status": "completed"
    },
    "tags": []
   },
   "source": [
    "#### Checking accuracies"
   ]
  },
  {
   "cell_type": "code",
   "execution_count": 30,
   "metadata": {
    "execution": {
     "iopub.execute_input": "2020-07-08T05:33:33.141027Z",
     "iopub.status.busy": "2020-07-08T05:33:33.140708Z",
     "iopub.status.idle": "2020-07-08T05:33:33.150481Z",
     "shell.execute_reply": "2020-07-08T05:33:33.150784Z"
    },
    "papermill": {
     "duration": 0.04995,
     "end_time": "2020-07-08T05:33:33.150850",
     "exception": false,
     "start_time": "2020-07-08T05:33:33.100900",
     "status": "completed"
    },
    "tags": []
   },
   "outputs": [
    {
     "data": {
      "text/plain": [
       "{'eigenvector_train': 0.9805755395683453,\n",
       " 'eigenvector_val': 0.816686,\n",
       " 'eigenvector_test': 0.5967890995260664,\n",
       " 'hamiltonian_train': 1.0,\n",
       " 'hamiltonian_val': 1.0,\n",
       " 'hamiltonian_test': 0.8341232227488151}"
      ]
     },
     "execution_count": 30,
     "metadata": {},
     "output_type": "execute_result"
    }
   ],
   "source": [
    "simulation.accuracy"
   ]
  },
  {
   "cell_type": "markdown",
   "metadata": {
    "papermill": {
     "duration": 0.037615,
     "end_time": "2020-07-08T05:33:33.225973",
     "exception": false,
     "start_time": "2020-07-08T05:33:33.188358",
     "status": "completed"
    },
    "tags": []
   },
   "source": [
    "#### Checking data stored in  memory"
   ]
  },
  {
   "cell_type": "code",
   "execution_count": 31,
   "metadata": {
    "execution": {
     "iopub.execute_input": "2020-07-08T05:33:33.304598Z",
     "iopub.status.busy": "2020-07-08T05:33:33.304271Z",
     "iopub.status.idle": "2020-07-08T05:33:33.313859Z",
     "shell.execute_reply": "2020-07-08T05:33:33.314159Z"
    },
    "papermill": {
     "duration": 0.049993,
     "end_time": "2020-07-08T05:33:33.314225",
     "exception": false,
     "start_time": "2020-07-08T05:33:33.264232",
     "status": "completed"
    },
    "tags": []
   },
   "outputs": [
    {
     "data": {
      "text/plain": [
       "[]"
      ]
     },
     "execution_count": 31,
     "metadata": {},
     "output_type": "execute_result"
    }
   ],
   "source": [
    "ham_summary_list = simulation.hamiltonian_summary_list\n",
    "ham_summary_list"
   ]
  },
  {
   "cell_type": "code",
   "execution_count": 32,
   "metadata": {
    "execution": {
     "iopub.execute_input": "2020-07-08T05:33:33.391447Z",
     "iopub.status.busy": "2020-07-08T05:33:33.391138Z",
     "iopub.status.idle": "2020-07-08T05:33:33.415625Z",
     "shell.execute_reply": "2020-07-08T05:33:33.415925Z"
    },
    "papermill": {
     "duration": 0.064008,
     "end_time": "2020-07-08T05:33:33.415989",
     "exception": false,
     "start_time": "2020-07-08T05:33:33.351981",
     "status": "completed"
    },
    "tags": []
   },
   "outputs": [
    {
     "data": {
      "text/plain": [
       "[]"
      ]
     },
     "execution_count": 32,
     "metadata": {},
     "output_type": "execute_result"
    }
   ],
   "source": [
    "eigen_summary_list = simulation.eigenvector_summary_list\n",
    "eigen_summary_list"
   ]
  },
  {
   "cell_type": "code",
   "execution_count": 33,
   "metadata": {
    "execution": {
     "iopub.execute_input": "2020-07-08T05:33:33.496418Z",
     "iopub.status.busy": "2020-07-08T05:33:33.496088Z",
     "iopub.status.idle": "2020-07-08T05:33:33.560775Z",
     "shell.execute_reply": "2020-07-08T05:33:33.559035Z"
    },
    "papermill": {
     "duration": 0.106398,
     "end_time": "2020-07-08T05:33:33.561024",
     "exception": false,
     "start_time": "2020-07-08T05:33:33.454626",
     "status": "completed"
    },
    "tags": []
   },
   "outputs": [
    {
     "data": {
      "text/plain": [
       "{'eigenvector_train': [],\n",
       " 'eigenvector_val': [],\n",
       " 'eigenvector_test': [],\n",
       " 'hamiltonian_train': [],\n",
       " 'hamiltonian_val': [],\n",
       " 'hamiltonian_test': []}"
      ]
     },
     "execution_count": 33,
     "metadata": {},
     "output_type": "execute_result"
    }
   ],
   "source": [
    "accuracy_list = simulation.accuracy_list\n",
    "accuracy_list"
   ]
  },
  {
   "cell_type": "code",
   "execution_count": null,
   "metadata": {
    "papermill": {
     "duration": 0.037954,
     "end_time": "2020-07-08T05:33:33.672182",
     "exception": false,
     "start_time": "2020-07-08T05:33:33.634228",
     "status": "completed"
    },
    "tags": []
   },
   "outputs": [],
   "source": []
  },
  {
   "cell_type": "code",
   "execution_count": null,
   "metadata": {
    "papermill": {
     "duration": 0.039768,
     "end_time": "2020-07-08T05:33:33.750940",
     "exception": false,
     "start_time": "2020-07-08T05:33:33.711172",
     "status": "completed"
    },
    "tags": []
   },
   "outputs": [],
   "source": []
  },
  {
   "cell_type": "code",
   "execution_count": 34,
   "metadata": {
    "execution": {
     "iopub.execute_input": "2020-07-08T05:33:33.828829Z",
     "iopub.status.busy": "2020-07-08T05:33:33.828517Z",
     "iopub.status.idle": "2020-07-08T05:33:33.838098Z",
     "shell.execute_reply": "2020-07-08T05:33:33.837777Z"
    },
    "papermill": {
     "duration": 0.049292,
     "end_time": "2020-07-08T05:33:33.838150",
     "exception": false,
     "start_time": "2020-07-08T05:33:33.788858",
     "status": "completed"
    },
    "tags": []
   },
   "outputs": [],
   "source": [
    "#simulation.fourier_matrix"
   ]
  },
  {
   "cell_type": "code",
   "execution_count": 35,
   "metadata": {
    "execution": {
     "iopub.execute_input": "2020-07-08T05:33:33.920221Z",
     "iopub.status.busy": "2020-07-08T05:33:33.919913Z",
     "iopub.status.idle": "2020-07-08T05:33:33.929321Z",
     "shell.execute_reply": "2020-07-08T05:33:33.929000Z"
    },
    "papermill": {
     "duration": 0.052371,
     "end_time": "2020-07-08T05:33:33.929374",
     "exception": false,
     "start_time": "2020-07-08T05:33:33.877003",
     "status": "completed"
    },
    "tags": []
   },
   "outputs": [],
   "source": [
    "#simulation.fourier_matrix.shape"
   ]
  },
  {
   "cell_type": "code",
   "execution_count": 36,
   "metadata": {
    "execution": {
     "iopub.execute_input": "2020-07-08T05:33:34.007905Z",
     "iopub.status.busy": "2020-07-08T05:33:34.007599Z",
     "iopub.status.idle": "2020-07-08T05:33:34.016619Z",
     "shell.execute_reply": "2020-07-08T05:33:34.016872Z"
    },
    "papermill": {
     "duration": 0.049397,
     "end_time": "2020-07-08T05:33:34.016939",
     "exception": false,
     "start_time": "2020-07-08T05:33:33.967542",
     "status": "completed"
    },
    "tags": []
   },
   "outputs": [],
   "source": [
    "#simulation.fourier_matrix[:,0]"
   ]
  },
  {
   "cell_type": "code",
   "execution_count": 37,
   "metadata": {
    "execution": {
     "iopub.execute_input": "2020-07-08T05:33:34.097864Z",
     "iopub.status.busy": "2020-07-08T05:33:34.097527Z",
     "iopub.status.idle": "2020-07-08T05:33:34.107049Z",
     "shell.execute_reply": "2020-07-08T05:33:34.106768Z"
    },
    "papermill": {
     "duration": 0.050881,
     "end_time": "2020-07-08T05:33:34.107103",
     "exception": false,
     "start_time": "2020-07-08T05:33:34.056222",
     "status": "completed"
    },
    "tags": []
   },
   "outputs": [],
   "source": [
    "#simulation.fourier_matrix[:,1]"
   ]
  },
  {
   "cell_type": "code",
   "execution_count": 38,
   "metadata": {
    "execution": {
     "iopub.execute_input": "2020-07-08T05:33:34.185704Z",
     "iopub.status.busy": "2020-07-08T05:33:34.185397Z",
     "iopub.status.idle": "2020-07-08T05:33:34.194852Z",
     "shell.execute_reply": "2020-07-08T05:33:34.194577Z"
    },
    "papermill": {
     "duration": 0.049426,
     "end_time": "2020-07-08T05:33:34.194906",
     "exception": false,
     "start_time": "2020-07-08T05:33:34.145480",
     "status": "completed"
    },
    "tags": []
   },
   "outputs": [],
   "source": [
    "#np.exp(-1j*2*np.pi*3/100)"
   ]
  },
  {
   "cell_type": "code",
   "execution_count": 39,
   "metadata": {
    "execution": {
     "iopub.execute_input": "2020-07-08T05:33:34.276416Z",
     "iopub.status.busy": "2020-07-08T05:33:34.276100Z",
     "iopub.status.idle": "2020-07-08T05:33:34.285726Z",
     "shell.execute_reply": "2020-07-08T05:33:34.285407Z"
    },
    "papermill": {
     "duration": 0.051328,
     "end_time": "2020-07-08T05:33:34.285779",
     "exception": false,
     "start_time": "2020-07-08T05:33:34.234451",
     "status": "completed"
    },
    "tags": []
   },
   "outputs": [],
   "source": [
    "#for i in range(1,50):\n",
    "#    print(\"\\n\")\n",
    "#    print(i)\n",
    "#    print(np.sum((np.real(simulation.fourier_matrix[:,i]) - np.real(simulation.fourier_matrix[:,-i]))**2))\n",
    "#    print(np.sum((np.imag(simulation.fourier_matrix[:,i])+ np.imag(simulation.fourier_matrix[:,-i]))**2))"
   ]
  },
  {
   "cell_type": "code",
   "execution_count": 40,
   "metadata": {
    "execution": {
     "iopub.execute_input": "2020-07-08T05:33:34.364597Z",
     "iopub.status.busy": "2020-07-08T05:33:34.364286Z",
     "iopub.status.idle": "2020-07-08T05:33:34.382319Z",
     "shell.execute_reply": "2020-07-08T05:33:34.382052Z"
    },
    "papermill": {
     "duration": 0.058133,
     "end_time": "2020-07-08T05:33:34.382372",
     "exception": false,
     "start_time": "2020-07-08T05:33:34.324239",
     "status": "completed"
    },
    "tags": []
   },
   "outputs": [
    {
     "name": "stdout",
     "output_type": "stream",
     "text": [
      "[1.+0.j 1.+0.j 1.+0.j 1.+0.j 1.+0.j 1.+0.j 1.+0.j 1.+0.j 1.+0.j 1.+0.j\n",
      " 1.+0.j 1.+0.j 1.+0.j 1.+0.j 1.+0.j 1.+0.j 1.+0.j 1.+0.j 1.+0.j 1.+0.j\n",
      " 1.+0.j 1.+0.j 1.+0.j 1.+0.j 1.+0.j 1.+0.j 1.+0.j 1.+0.j 1.+0.j 1.+0.j\n",
      " 1.+0.j 1.+0.j 1.+0.j 1.+0.j 1.+0.j 1.+0.j 1.+0.j 1.+0.j 1.+0.j 1.+0.j\n",
      " 1.+0.j 1.+0.j 1.+0.j 1.+0.j 1.+0.j 1.+0.j 1.+0.j 1.+0.j 1.+0.j 1.+0.j\n",
      " 1.+0.j 1.+0.j 1.+0.j 1.+0.j 1.+0.j 1.+0.j 1.+0.j 1.+0.j 1.+0.j 1.+0.j\n",
      " 1.+0.j 1.+0.j 1.+0.j 1.+0.j 1.+0.j 1.+0.j 1.+0.j 1.+0.j 1.+0.j 1.+0.j\n",
      " 1.+0.j 1.+0.j 1.+0.j 1.+0.j 1.+0.j 1.+0.j 1.+0.j 1.+0.j 1.+0.j 1.+0.j\n",
      " 1.+0.j 1.+0.j 1.+0.j 1.+0.j 1.+0.j 1.+0.j 1.+0.j 1.+0.j 1.+0.j 1.+0.j\n",
      " 1.+0.j 1.+0.j 1.+0.j 1.+0.j 1.+0.j 1.+0.j 1.+0.j 1.+0.j 1.+0.j 1.+0.j]\n"
     ]
    }
   ],
   "source": [
    "print(simulation.fourier_matrix[:,0])"
   ]
  },
  {
   "cell_type": "code",
   "execution_count": 41,
   "metadata": {
    "execution": {
     "iopub.execute_input": "2020-07-08T05:33:34.463717Z",
     "iopub.status.busy": "2020-07-08T05:33:34.463402Z",
     "iopub.status.idle": "2020-07-08T05:33:34.508464Z",
     "shell.execute_reply": "2020-07-08T05:33:34.508784Z"
    },
    "papermill": {
     "duration": 0.087115,
     "end_time": "2020-07-08T05:33:34.508864",
     "exception": false,
     "start_time": "2020-07-08T05:33:34.421749",
     "status": "completed"
    },
    "tags": []
   },
   "outputs": [
    {
     "name": "stdout",
     "output_type": "stream",
     "text": [
      "[ 1.+0.00000000e+00j -1.-4.99600361e-16j  1.-6.43249060e-16j\n",
      " -1.-3.67394040e-16j  1.-1.28649812e-15j -1.+1.16403344e-15j\n",
      "  1.+7.34788079e-16j -1.+2.69546092e-15j  1.-2.57299624e-15j\n",
      " -1.+2.45053156e-15j  1.-2.32806688e-15j -1.+2.20560220e-15j\n",
      "  1.+1.46957616e-15j -1.+1.96067284e-15j  1.-5.39092184e-15j\n",
      " -1.+1.71574348e-15j  1.-5.14599248e-15j -1.+1.47081412e-15j\n",
      "  1.-4.90106312e-15j -1.+1.22588476e-15j  1.-4.65613376e-15j\n",
      " -1.+9.80955401e-16j  1.-4.41120440e-15j -1.+7.84145340e-15j\n",
      "  1.+2.93915232e-15j -1.+4.91096681e-16j  1.-3.92134568e-15j\n",
      " -1.+7.35159468e-15j  1.-1.07818437e-14j -1.+1.23796127e-18j\n",
      "  1.-3.43148696e-15j -1.+6.86173596e-15j  1.-1.02919850e-14j\n",
      " -1.-4.88620758e-16j  1.-2.94162824e-15j -1.+6.37187724e-15j\n",
      "  1.-9.80212624e-15j -1.-9.78479478e-16j  1.-2.45176952e-15j\n",
      " -1.+5.88201852e-15j  1.-9.31226752e-15j -1.+1.27425165e-14j\n",
      "  1.-1.96191080e-15j -1.+1.96030145e-14j  1.-8.82240880e-15j\n",
      " -1.-1.95819692e-15j  1.-1.56829068e-14j -1.+4.90230108e-15j\n",
      "  1.+5.87830464e-15j -1.+1.17627991e-14j  1.-9.82193362e-16j\n",
      " -1.+1.86232971e-14j  1.-7.84269136e-15j -1.-2.93791436e-15j\n",
      "  1.-1.47031894e-14j -1.+3.92258364e-15j  1.-2.15636874e-14j\n",
      " -1.+1.07830816e-14j  1.-2.47592255e-18j -1.+1.76435796e-14j\n",
      "  1.-6.86297392e-15j -1.-3.91763180e-15j  1.-1.37234719e-14j\n",
      " -1.+2.94286620e-15j  1.-2.05839699e-14j -1.+9.80336420e-15j\n",
      "  1.+9.77241517e-16j -1.+1.66638622e-14j  1.-5.88325648e-15j\n",
      " -1.+2.35243602e-14j  1.-1.27437545e-14j -1.+1.96314876e-15j\n",
      "  1.-1.96042525e-14j -1.+8.82364676e-15j  1.+1.95695896e-15j\n",
      " -1.+1.56841448e-14j  1.-4.90353904e-15j -1.+2.25446428e-14j\n",
      "  1.-1.17640370e-14j -1.+9.83431323e-16j  1.-1.86245350e-14j\n",
      " -1.+7.84392932e-15j  1.-2.54850330e-14j -1.+1.47044273e-14j\n",
      "  1.-3.92382160e-15j -1.-6.85678411e-15j  1.-3.92060290e-14j\n",
      " -1.+2.84254233e-14j  1.-1.76448176e-14j -1.+6.86421188e-15j\n",
      "  1.+3.91639383e-15j -1.+4.21464193e-14j  1.-3.13658136e-14j\n",
      " -1.+2.05852079e-14j  1.-9.80460216e-15j -1.-9.76003555e-16j\n",
      "  1.+1.17566093e-14j -1.+3.43062039e-14j  1.-2.35255982e-14j\n",
      " -1.+1.27449924e-14j]\n"
     ]
    }
   ],
   "source": [
    "print(simulation.fourier_matrix[:,50])"
   ]
  },
  {
   "cell_type": "code",
   "execution_count": null,
   "metadata": {
    "papermill": {
     "duration": 0.03851,
     "end_time": "2020-07-08T05:33:34.591143",
     "exception": false,
     "start_time": "2020-07-08T05:33:34.552633",
     "status": "completed"
    },
    "tags": []
   },
   "outputs": [],
   "source": []
  }
 ],
 "metadata": {
  "celltoolbar": "Tags",
  "kernelspec": {
   "display_name": "ml_top_phases",
   "language": "python",
   "name": "ml_top_phases"
  },
  "language_info": {
   "codemirror_mode": {
    "name": "ipython",
    "version": 3
   },
   "file_extension": ".py",
   "mimetype": "text/x-python",
   "name": "python",
   "nbconvert_exporter": "python",
   "pygments_lexer": "ipython3",
   "version": "3.6.10"
  },
  "papermill": {
   "duration": 2045.132081,
   "end_time": "2020-07-08T05:33:34.741404",
   "environment_variables": {},
   "exception": null,
   "input_path": "0_simulation_template.ipynb",
   "output_path": "zzz_simulation_output_ssh1_1st_scenario_100_6561.ipynb",
   "parameters": {
    "allowed_windings": [
     0,
     1
    ],
    "csv_path": "/home/rio/ssh_csvs/ssh1/periodic_100_6561.csv",
    "features_to_use": null,
    "fillna": false,
    "fit_params": null,
    "fourier_features": [
     0,
     1,
     2,
     3,
     4,
     5,
     6,
     7,
     8,
     9,
     10,
     11,
     12,
     13,
     14,
     15,
     16,
     17,
     18,
     19,
     20,
     21,
     22,
     23,
     24,
     25,
     26,
     27,
     28,
     29,
     30,
     31,
     32,
     33,
     34,
     35,
     36,
     37,
     38,
     39,
     40,
     41,
     42,
     43,
     44,
     45,
     46,
     47,
     48,
     49,
     50
    ],
    "mode": "dft",
    "model_kw": {
     "criterion": "entropy"
    },
    "model_name": "DecisionTreeClassifier",
    "n_experiments": 100,
    "normalize": false,
    "pred_params": null,
    "random_features": false,
    "random_state": 467,
    "real": true,
    "save_accuracy": true,
    "save_eigenvector": true,
    "save_hamiltonian": true,
    "save_models": true,
    "shuffle_features": false,
    "shuffle_rows": true,
    "simulation_dir": "/home/rio/ssh_simulations/ssh1/periodic_1st_scenario_100_6561",
    "start_n": 0,
    "store_in_lists": false,
    "val_split": 0.9
   },
   "start_time": "2020-07-08T04:59:29.609323",
   "version": "2.1.0"
  }
 },
 "nbformat": 4,
 "nbformat_minor": 2
}