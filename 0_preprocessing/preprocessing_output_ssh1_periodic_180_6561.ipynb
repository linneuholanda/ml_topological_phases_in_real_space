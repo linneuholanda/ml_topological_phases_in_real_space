{
 "cells": [
  {
   "cell_type": "markdown",
   "metadata": {
    "papermill": {
     "duration": 0.033874,
     "end_time": "2020-04-05T19:44:33.883767",
     "exception": false,
     "start_time": "2020-04-05T19:44:33.849893",
     "status": "completed"
    },
    "tags": []
   },
   "source": [
    "# Generate csv files \n"
   ]
  },
  {
   "cell_type": "markdown",
   "metadata": {
    "papermill": {
     "duration": 0.009931,
     "end_time": "2020-04-05T19:44:33.912649",
     "exception": false,
     "start_time": "2020-04-05T19:44:33.902718",
     "status": "completed"
    },
    "tags": []
   },
   "source": [
    "This notebook generates .csv files from a directory containing .dat files with Hamiltonian data. Each .dat file is assumed to be named as `\"H_t1_t2_winding.dat\"`.  "
   ]
  },
  {
   "cell_type": "code",
   "execution_count": 1,
   "metadata": {
    "execution": {
     "iopub.execute_input": "2020-04-05T19:44:33.930796Z",
     "iopub.status.busy": "2020-04-05T19:44:33.930266Z",
     "iopub.status.idle": "2020-04-05T19:44:34.134855Z",
     "shell.execute_reply": "2020-04-05T19:44:34.134515Z"
    },
    "papermill": {
     "duration": 0.214204,
     "end_time": "2020-04-05T19:44:34.134915",
     "exception": false,
     "start_time": "2020-04-05T19:44:33.920711",
     "status": "completed"
    },
    "tags": []
   },
   "outputs": [],
   "source": [
    "#from IPython.core.display import HTML\n",
    "#HTML(\"<script>Jupyter.notebook.kernel.restart()</script>\")\n",
    "%load_ext autoreload\n",
    "%autoreload 2\n",
    "\n",
    "from preprocessing import *"
   ]
  },
  {
   "cell_type": "markdown",
   "metadata": {
    "papermill": {
     "duration": 0.005872,
     "end_time": "2020-04-05T19:44:34.147601",
     "exception": false,
     "start_time": "2020-04-05T19:44:34.141729",
     "status": "completed"
    },
    "tags": []
   },
   "source": [
    "### Set the parameters below carefully"
   ]
  },
  {
   "cell_type": "code",
   "execution_count": 2,
   "metadata": {
    "execution": {
     "iopub.execute_input": "2020-04-05T19:44:34.162026Z",
     "iopub.status.busy": "2020-04-05T19:44:34.161708Z",
     "iopub.status.idle": "2020-04-05T19:44:34.168777Z",
     "shell.execute_reply": "2020-04-05T19:44:34.168460Z"
    },
    "papermill": {
     "duration": 0.015085,
     "end_time": "2020-04-05T19:44:34.168829",
     "exception": false,
     "start_time": "2020-04-05T19:44:34.153744",
     "status": "completed"
    },
    "tags": [
     "parameters"
    ]
   },
   "outputs": [
    {
     "name": "stdout",
     "output_type": "stream",
     "text": [
      "CPU times: user 2 µs, sys: 1 µs, total: 3 µs\n",
      "Wall time: 5.25 µs\n"
     ]
    }
   ],
   "source": [
    "%%time\n",
    "#grid_folder = \"/home/linneu/ssh_grids/ssh1/periodic_100_6561\"\n",
    "grid_folder = \"/home/rio/ssh_grids/ssh1/periodic_100_6561\"\n",
    "allowed_windings = [0,1]\n",
    "epsilon = 0.01\n",
    "#csv_name = \"/home/linneu/ssh_csvs/ssh1/periodic_100_6561.csv\"\n",
    "csv_dir = \"/home/rio/ssh_csvs/ssh1\"\n",
    "csv_name = \"periodic_100_6561\" \n"
   ]
  },
  {
   "cell_type": "code",
   "execution_count": 3,
   "metadata": {
    "execution": {
     "iopub.execute_input": "2020-04-05T19:44:34.201217Z",
     "iopub.status.busy": "2020-04-05T19:44:34.200867Z",
     "iopub.status.idle": "2020-04-05T19:44:34.276902Z",
     "shell.execute_reply": "2020-04-05T19:44:34.276369Z"
    },
    "papermill": {
     "duration": 0.102096,
     "end_time": "2020-04-05T19:44:34.276984",
     "exception": false,
     "start_time": "2020-04-05T19:44:34.174888",
     "status": "completed"
    },
    "tags": [
     "injected-parameters"
    ]
   },
   "outputs": [],
   "source": [
    "# Parameters\n",
    "allowed_windings = [0, 1]\n",
    "epsilon = 0.01\n",
    "csv_dir = \"/home/rio/ssh_csvs/ssh1\"\n",
    "grid_folder = \"/home/rio/ssh_grids/ssh1/periodic_180_6561\"\n",
    "csv_name = \"periodic_180_6561.csv\"\n"
   ]
  },
  {
   "cell_type": "code",
   "execution_count": 4,
   "metadata": {
    "execution": {
     "iopub.execute_input": "2020-04-05T19:44:34.302138Z",
     "iopub.status.busy": "2020-04-05T19:44:34.301625Z",
     "iopub.status.idle": "2020-04-05T19:49:31.686563Z",
     "shell.execute_reply": "2020-04-05T19:49:31.686881Z"
    },
    "papermill": {
     "duration": 297.397875,
     "end_time": "2020-04-05T19:49:31.686951",
     "exception": false,
     "start_time": "2020-04-05T19:44:34.289076",
     "status": "completed"
    },
    "tags": []
   },
   "outputs": [
    {
     "name": "stderr",
     "output_type": "stream",
     "text": [
      "\r",
      "loading hamiltonians:   0%|          | 0/6561 [00:00<?, ?it/s]"
     ]
    },
    {
     "name": "stderr",
     "output_type": "stream",
     "text": [
      "\r",
      "loading hamiltonians:   0%|          | 2/6561 [00:00<05:55, 18.47it/s]"
     ]
    },
    {
     "name": "stderr",
     "output_type": "stream",
     "text": [
      "\r",
      "loading hamiltonians:   0%|          | 3/6561 [00:00<07:50, 13.93it/s]"
     ]
    },
    {
     "name": "stderr",
     "output_type": "stream",
     "text": [
      "\r",
      "loading hamiltonians:   0%|          | 9/6561 [00:00<06:04, 17.97it/s]"
     ]
    },
    {
     "name": "stderr",
     "output_type": "stream",
     "text": [
      "\r",
      "loading hamiltonians:   0%|          | 16/6561 [00:00<04:44, 22.98it/s]"
     ]
    },
    {
     "name": "stderr",
     "output_type": "stream",
     "text": [
      "\r",
      "loading hamiltonians:   0%|          | 23/6561 [00:00<03:48, 28.58it/s]"
     ]
    },
    {
     "name": "stderr",
     "output_type": "stream",
     "text": [
      "\r",
      "loading hamiltonians:   0%|          | 29/6561 [00:00<03:13, 33.83it/s]"
     ]
    },
    {
     "name": "stderr",
     "output_type": "stream",
     "text": [
      "\r",
      "loading hamiltonians:   1%|          | 39/6561 [00:00<02:34, 42.12it/s]"
     ]
    },
    {
     "name": "stderr",
     "output_type": "stream",
     "text": [
      "\r",
      "loading hamiltonians:   1%|          | 47/6561 [00:00<02:14, 48.29it/s]"
     ]
    },
    {
     "name": "stderr",
     "output_type": "stream",
     "text": [
      "\r",
      "loading hamiltonians:   1%|          | 57/6561 [00:00<01:55, 56.48it/s]"
     ]
    },
    {
     "name": "stderr",
     "output_type": "stream",
     "text": [
      "\r",
      "loading hamiltonians:   1%|          | 65/6561 [00:01<01:52, 57.92it/s]"
     ]
    },
    {
     "name": "stderr",
     "output_type": "stream",
     "text": [
      "\r",
      "loading hamiltonians:   1%|          | 73/6561 [00:01<01:49, 59.10it/s]"
     ]
    },
    {
     "name": "stderr",
     "output_type": "stream",
     "text": [
      "\r",
      "loading hamiltonians:   1%|          | 80/6561 [00:01<01:53, 57.11it/s]"
     ]
    },
    {
     "name": "stderr",
     "output_type": "stream",
     "text": [
      "\r",
      "loading hamiltonians:   1%|▏         | 87/6561 [00:01<01:49, 59.17it/s]"
     ]
    },
    {
     "name": "stderr",
     "output_type": "stream",
     "text": [
      "\r",
      "loading hamiltonians:   1%|▏         | 94/6561 [00:01<01:53, 57.12it/s]"
     ]
    },
    {
     "name": "stderr",
     "output_type": "stream",
     "text": [
      "\r",
      "loading hamiltonians:   2%|▏         | 103/6561 [00:01<01:43, 62.26it/s]"
     ]
    },
    {
     "name": "stderr",
     "output_type": "stream",
     "text": [
      "\r",
      "loading hamiltonians:   2%|▏         | 110/6561 [00:01<01:51, 58.04it/s]"
     ]
    },
    {
     "name": "stderr",
     "output_type": "stream",
     "text": [
      "\r",
      "loading hamiltonians:   2%|▏         | 117/6561 [00:01<01:50, 58.51it/s]"
     ]
    },
    {
     "name": "stderr",
     "output_type": "stream",
     "text": [
      "\r",
      "loading hamiltonians:   2%|▏         | 124/6561 [00:02<01:50, 58.22it/s]"
     ]
    },
    {
     "name": "stderr",
     "output_type": "stream",
     "text": [
      "\r",
      "loading hamiltonians:   2%|▏         | 131/6561 [00:02<01:46, 60.23it/s]"
     ]
    },
    {
     "name": "stderr",
     "output_type": "stream",
     "text": [
      "\r",
      "loading hamiltonians:   2%|▏         | 138/6561 [00:02<01:46, 60.13it/s]"
     ]
    },
    {
     "name": "stderr",
     "output_type": "stream",
     "text": [
      "\r",
      "loading hamiltonians:   2%|▏         | 145/6561 [00:02<01:53, 56.58it/s]"
     ]
    },
    {
     "name": "stderr",
     "output_type": "stream",
     "text": [
      "\r",
      "loading hamiltonians:   2%|▏         | 151/6561 [00:02<01:52, 56.73it/s]"
     ]
    },
    {
     "name": "stderr",
     "output_type": "stream",
     "text": [
      "\r",
      "loading hamiltonians:   2%|▏         | 157/6561 [00:02<02:01, 52.66it/s]"
     ]
    },
    {
     "name": "stderr",
     "output_type": "stream",
     "text": [
      "\r",
      "loading hamiltonians:   2%|▏         | 164/6561 [00:02<01:57, 54.59it/s]"
     ]
    },
    {
     "name": "stderr",
     "output_type": "stream",
     "text": [
      "\r",
      "loading hamiltonians:   3%|▎         | 171/6561 [00:02<01:52, 56.68it/s]"
     ]
    },
    {
     "name": "stderr",
     "output_type": "stream",
     "text": [
      "\r",
      "loading hamiltonians:   3%|▎         | 177/6561 [00:03<01:52, 56.51it/s]"
     ]
    },
    {
     "name": "stderr",
     "output_type": "stream",
     "text": [
      "\r",
      "loading hamiltonians:   3%|▎         | 184/6561 [00:03<01:48, 58.84it/s]"
     ]
    },
    {
     "name": "stderr",
     "output_type": "stream",
     "text": [
      "\r",
      "loading hamiltonians:   3%|▎         | 191/6561 [00:03<01:45, 60.65it/s]"
     ]
    },
    {
     "name": "stderr",
     "output_type": "stream",
     "text": [
      "\r",
      "loading hamiltonians:   3%|▎         | 198/6561 [00:03<01:51, 57.18it/s]"
     ]
    },
    {
     "name": "stderr",
     "output_type": "stream",
     "text": [
      "\r",
      "loading hamiltonians:   3%|▎         | 204/6561 [00:03<01:50, 57.40it/s]"
     ]
    },
    {
     "name": "stderr",
     "output_type": "stream",
     "text": [
      "\r",
      "loading hamiltonians:   3%|▎         | 212/6561 [00:03<01:44, 60.95it/s]"
     ]
    },
    {
     "name": "stderr",
     "output_type": "stream",
     "text": [
      "\r",
      "loading hamiltonians:   3%|▎         | 219/6561 [00:03<01:43, 61.22it/s]"
     ]
    },
    {
     "name": "stderr",
     "output_type": "stream",
     "text": [
      "\r",
      "loading hamiltonians:   3%|▎         | 229/6561 [00:03<01:33, 67.84it/s]"
     ]
    },
    {
     "name": "stderr",
     "output_type": "stream",
     "text": [
      "\r",
      "loading hamiltonians:   4%|▎         | 237/6561 [00:03<01:37, 64.78it/s]"
     ]
    },
    {
     "name": "stderr",
     "output_type": "stream",
     "text": [
      "\r",
      "loading hamiltonians:   4%|▎         | 246/6561 [00:04<01:37, 65.05it/s]"
     ]
    },
    {
     "name": "stderr",
     "output_type": "stream",
     "text": [
      "\r",
      "loading hamiltonians:   4%|▍         | 253/6561 [00:04<01:37, 64.48it/s]"
     ]
    },
    {
     "name": "stderr",
     "output_type": "stream",
     "text": [
      "\r",
      "loading hamiltonians:   4%|▍         | 260/6561 [00:04<01:46, 59.04it/s]"
     ]
    },
    {
     "name": "stderr",
     "output_type": "stream",
     "text": [
      "\r",
      "loading hamiltonians:   4%|▍         | 267/6561 [00:04<01:48, 58.01it/s]"
     ]
    },
    {
     "name": "stderr",
     "output_type": "stream",
     "text": [
      "\r",
      "loading hamiltonians:   4%|▍         | 273/6561 [00:04<01:55, 54.37it/s]"
     ]
    },
    {
     "name": "stderr",
     "output_type": "stream",
     "text": [
      "\r",
      "loading hamiltonians:   4%|▍         | 280/6561 [00:04<01:49, 57.51it/s]"
     ]
    },
    {
     "name": "stderr",
     "output_type": "stream",
     "text": [
      "\r",
      "loading hamiltonians:   4%|▍         | 286/6561 [00:04<01:50, 56.81it/s]"
     ]
    },
    {
     "name": "stderr",
     "output_type": "stream",
     "text": [
      "\r",
      "loading hamiltonians:   4%|▍         | 292/6561 [00:04<01:50, 56.89it/s]"
     ]
    },
    {
     "name": "stderr",
     "output_type": "stream",
     "text": [
      "\r",
      "loading hamiltonians:   5%|▍         | 299/6561 [00:05<01:46, 58.98it/s]"
     ]
    },
    {
     "name": "stderr",
     "output_type": "stream",
     "text": [
      "\r",
      "loading hamiltonians:   5%|▍         | 306/6561 [00:05<01:44, 59.89it/s]"
     ]
    },
    {
     "name": "stderr",
     "output_type": "stream",
     "text": [
      "\r",
      "loading hamiltonians:   5%|▍         | 313/6561 [00:05<01:59, 52.23it/s]"
     ]
    },
    {
     "name": "stderr",
     "output_type": "stream",
     "text": [
      "\r",
      "loading hamiltonians:   5%|▍         | 320/6561 [00:05<01:53, 54.96it/s]"
     ]
    },
    {
     "name": "stderr",
     "output_type": "stream",
     "text": [
      "\r",
      "loading hamiltonians:   5%|▍         | 327/6561 [00:05<01:48, 57.42it/s]"
     ]
    },
    {
     "name": "stderr",
     "output_type": "stream",
     "text": [
      "\r",
      "loading hamiltonians:   5%|▌         | 334/6561 [00:05<01:45, 59.03it/s]"
     ]
    },
    {
     "name": "stderr",
     "output_type": "stream",
     "text": [
      "\r",
      "loading hamiltonians:   5%|▌         | 341/6561 [00:05<01:53, 55.02it/s]"
     ]
    },
    {
     "name": "stderr",
     "output_type": "stream",
     "text": [
      "\r",
      "loading hamiltonians:   5%|▌         | 349/6561 [00:05<01:47, 58.00it/s]"
     ]
    },
    {
     "name": "stderr",
     "output_type": "stream",
     "text": [
      "\r",
      "loading hamiltonians:   5%|▌         | 356/6561 [00:06<01:46, 58.23it/s]"
     ]
    },
    {
     "name": "stderr",
     "output_type": "stream",
     "text": [
      "\r",
      "loading hamiltonians:   6%|▌         | 363/6561 [00:06<01:44, 59.39it/s]"
     ]
    },
    {
     "name": "stderr",
     "output_type": "stream",
     "text": [
      "\r",
      "loading hamiltonians:   6%|▌         | 370/6561 [00:06<01:51, 55.40it/s]"
     ]
    },
    {
     "name": "stderr",
     "output_type": "stream",
     "text": [
      "\r",
      "loading hamiltonians:   6%|▌         | 377/6561 [00:06<01:47, 57.67it/s]"
     ]
    },
    {
     "name": "stderr",
     "output_type": "stream",
     "text": [
      "\r",
      "loading hamiltonians:   6%|▌         | 383/6561 [00:06<01:47, 57.61it/s]"
     ]
    },
    {
     "name": "stderr",
     "output_type": "stream",
     "text": [
      "\r",
      "loading hamiltonians:   6%|▌         | 389/6561 [00:06<01:50, 56.02it/s]"
     ]
    },
    {
     "name": "stderr",
     "output_type": "stream",
     "text": [
      "\r",
      "loading hamiltonians:   6%|▌         | 399/6561 [00:06<01:36, 64.17it/s]"
     ]
    },
    {
     "name": "stderr",
     "output_type": "stream",
     "text": [
      "\r",
      "loading hamiltonians:   6%|▌         | 407/6561 [00:06<01:30, 68.17it/s]"
     ]
    },
    {
     "name": "stderr",
     "output_type": "stream",
     "text": [
      "\r",
      "loading hamiltonians:   6%|▋         | 415/6561 [00:06<01:32, 66.59it/s]"
     ]
    },
    {
     "name": "stderr",
     "output_type": "stream",
     "text": [
      "\r",
      "loading hamiltonians:   6%|▋         | 422/6561 [00:07<01:34, 64.62it/s]"
     ]
    },
    {
     "name": "stderr",
     "output_type": "stream",
     "text": [
      "\r",
      "loading hamiltonians:   7%|▋         | 429/6561 [00:07<01:38, 62.37it/s]"
     ]
    },
    {
     "name": "stderr",
     "output_type": "stream",
     "text": [
      "\r",
      "loading hamiltonians:   7%|▋         | 436/6561 [00:07<02:33, 39.82it/s]"
     ]
    },
    {
     "name": "stderr",
     "output_type": "stream",
     "text": [
      "\r",
      "loading hamiltonians:   7%|▋         | 445/6561 [00:07<02:09, 47.19it/s]"
     ]
    },
    {
     "name": "stderr",
     "output_type": "stream",
     "text": [
      "\r",
      "loading hamiltonians:   7%|▋         | 452/6561 [00:07<02:00, 50.89it/s]"
     ]
    },
    {
     "name": "stderr",
     "output_type": "stream",
     "text": [
      "\r",
      "loading hamiltonians:   7%|▋         | 459/6561 [00:07<01:51, 54.95it/s]"
     ]
    },
    {
     "name": "stderr",
     "output_type": "stream",
     "text": [
      "\r",
      "loading hamiltonians:   7%|▋         | 467/6561 [00:07<01:42, 59.66it/s]"
     ]
    },
    {
     "name": "stderr",
     "output_type": "stream",
     "text": [
      "\r",
      "loading hamiltonians:   7%|▋         | 474/6561 [00:08<01:43, 58.95it/s]"
     ]
    },
    {
     "name": "stderr",
     "output_type": "stream",
     "text": [
      "\r",
      "loading hamiltonians:   7%|▋         | 481/6561 [00:08<01:39, 61.18it/s]"
     ]
    },
    {
     "name": "stderr",
     "output_type": "stream",
     "text": [
      "\r",
      "loading hamiltonians:   7%|▋         | 488/6561 [00:08<01:48, 55.87it/s]"
     ]
    },
    {
     "name": "stderr",
     "output_type": "stream",
     "text": [
      "\r",
      "loading hamiltonians:   8%|▊         | 494/6561 [00:08<01:47, 56.56it/s]"
     ]
    },
    {
     "name": "stderr",
     "output_type": "stream",
     "text": [
      "\r",
      "loading hamiltonians:   8%|▊         | 501/6561 [00:08<01:44, 57.87it/s]"
     ]
    },
    {
     "name": "stderr",
     "output_type": "stream",
     "text": [
      "\r",
      "loading hamiltonians:   8%|▊         | 508/6561 [00:08<01:39, 60.85it/s]"
     ]
    },
    {
     "name": "stderr",
     "output_type": "stream",
     "text": [
      "\r",
      "loading hamiltonians:   8%|▊         | 515/6561 [00:08<01:40, 60.00it/s]"
     ]
    },
    {
     "name": "stderr",
     "output_type": "stream",
     "text": [
      "\r",
      "loading hamiltonians:   8%|▊         | 522/6561 [00:08<01:40, 60.03it/s]"
     ]
    },
    {
     "name": "stderr",
     "output_type": "stream",
     "text": [
      "\r",
      "loading hamiltonians:   8%|▊         | 529/6561 [00:08<01:43, 58.40it/s]"
     ]
    },
    {
     "name": "stderr",
     "output_type": "stream",
     "text": [
      "\r",
      "loading hamiltonians:   8%|▊         | 536/6561 [00:09<01:41, 59.57it/s]"
     ]
    },
    {
     "name": "stderr",
     "output_type": "stream",
     "text": [
      "\r",
      "loading hamiltonians:   8%|▊         | 544/6561 [00:09<01:37, 62.00it/s]"
     ]
    },
    {
     "name": "stderr",
     "output_type": "stream",
     "text": [
      "\r",
      "loading hamiltonians:   8%|▊         | 551/6561 [00:09<01:37, 61.37it/s]"
     ]
    },
    {
     "name": "stderr",
     "output_type": "stream",
     "text": [
      "\r",
      "loading hamiltonians:   9%|▊         | 558/6561 [00:09<01:36, 62.13it/s]"
     ]
    },
    {
     "name": "stderr",
     "output_type": "stream",
     "text": [
      "\r",
      "loading hamiltonians:   9%|▊         | 566/6561 [00:09<01:33, 64.44it/s]"
     ]
    },
    {
     "name": "stderr",
     "output_type": "stream",
     "text": [
      "\r",
      "loading hamiltonians:   9%|▊         | 574/6561 [00:09<01:29, 66.54it/s]"
     ]
    },
    {
     "name": "stderr",
     "output_type": "stream",
     "text": [
      "\r",
      "loading hamiltonians:   9%|▉         | 582/6561 [00:09<01:28, 67.37it/s]"
     ]
    },
    {
     "name": "stderr",
     "output_type": "stream",
     "text": [
      "\r",
      "loading hamiltonians:   9%|▉         | 589/6561 [00:09<01:33, 63.83it/s]"
     ]
    },
    {
     "name": "stderr",
     "output_type": "stream",
     "text": [
      "\r",
      "loading hamiltonians:   9%|▉         | 599/6561 [00:10<01:26, 69.21it/s]"
     ]
    },
    {
     "name": "stderr",
     "output_type": "stream",
     "text": [
      "\r",
      "loading hamiltonians:   9%|▉         | 607/6561 [00:10<01:29, 66.20it/s]"
     ]
    },
    {
     "name": "stderr",
     "output_type": "stream",
     "text": [
      "\r",
      "loading hamiltonians:   9%|▉         | 615/6561 [00:10<01:45, 56.54it/s]"
     ]
    },
    {
     "name": "stderr",
     "output_type": "stream",
     "text": [
      "\r",
      "loading hamiltonians:   9%|▉         | 622/6561 [00:10<01:47, 55.19it/s]"
     ]
    },
    {
     "name": "stderr",
     "output_type": "stream",
     "text": [
      "\r",
      "loading hamiltonians:  10%|▉         | 629/6561 [00:10<01:40, 58.88it/s]"
     ]
    },
    {
     "name": "stderr",
     "output_type": "stream",
     "text": [
      "\r",
      "loading hamiltonians:  10%|▉         | 638/6561 [00:10<01:31, 64.45it/s]"
     ]
    },
    {
     "name": "stderr",
     "output_type": "stream",
     "text": [
      "\r",
      "loading hamiltonians:  10%|▉         | 645/6561 [00:10<01:34, 62.81it/s]"
     ]
    },
    {
     "name": "stderr",
     "output_type": "stream",
     "text": [
      "\r",
      "loading hamiltonians:  10%|▉         | 653/6561 [00:10<01:31, 64.77it/s]"
     ]
    },
    {
     "name": "stderr",
     "output_type": "stream",
     "text": [
      "\r",
      "loading hamiltonians:  10%|█         | 660/6561 [00:11<01:31, 64.33it/s]"
     ]
    },
    {
     "name": "stderr",
     "output_type": "stream",
     "text": [
      "\r",
      "loading hamiltonians:  10%|█         | 667/6561 [00:11<01:31, 64.36it/s]"
     ]
    },
    {
     "name": "stderr",
     "output_type": "stream",
     "text": [
      "\r",
      "loading hamiltonians:  10%|█         | 674/6561 [00:11<01:35, 61.39it/s]"
     ]
    },
    {
     "name": "stderr",
     "output_type": "stream",
     "text": [
      "\r",
      "loading hamiltonians:  10%|█         | 681/6561 [00:11<01:50, 53.20it/s]"
     ]
    },
    {
     "name": "stderr",
     "output_type": "stream",
     "text": [
      "\r",
      "loading hamiltonians:  10%|█         | 687/6561 [00:11<03:14, 30.20it/s]"
     ]
    },
    {
     "name": "stderr",
     "output_type": "stream",
     "text": [
      "\r",
      "loading hamiltonians:  11%|█         | 692/6561 [00:12<03:19, 29.45it/s]"
     ]
    },
    {
     "name": "stderr",
     "output_type": "stream",
     "text": [
      "\r",
      "loading hamiltonians:  11%|█         | 698/6561 [00:12<02:52, 34.07it/s]"
     ]
    },
    {
     "name": "stderr",
     "output_type": "stream",
     "text": [
      "\r",
      "loading hamiltonians:  11%|█         | 705/6561 [00:12<02:27, 39.71it/s]"
     ]
    },
    {
     "name": "stderr",
     "output_type": "stream",
     "text": [
      "\r",
      "loading hamiltonians:  11%|█         | 712/6561 [00:12<02:08, 45.61it/s]"
     ]
    },
    {
     "name": "stderr",
     "output_type": "stream",
     "text": [
      "\r",
      "loading hamiltonians:  11%|█         | 718/6561 [00:12<02:01, 47.93it/s]"
     ]
    },
    {
     "name": "stderr",
     "output_type": "stream",
     "text": [
      "\r",
      "loading hamiltonians:  11%|█         | 725/6561 [00:12<01:51, 52.42it/s]"
     ]
    },
    {
     "name": "stderr",
     "output_type": "stream",
     "text": [
      "\r",
      "loading hamiltonians:  11%|█         | 732/6561 [00:12<01:45, 55.03it/s]"
     ]
    },
    {
     "name": "stderr",
     "output_type": "stream",
     "text": [
      "\r",
      "loading hamiltonians:  11%|█▏        | 742/6561 [00:12<01:34, 61.87it/s]"
     ]
    },
    {
     "name": "stderr",
     "output_type": "stream",
     "text": [
      "\r",
      "loading hamiltonians:  11%|█▏        | 750/6561 [00:12<01:30, 64.48it/s]"
     ]
    },
    {
     "name": "stderr",
     "output_type": "stream",
     "text": [
      "\r",
      "loading hamiltonians:  12%|█▏        | 757/6561 [00:13<01:29, 64.63it/s]"
     ]
    },
    {
     "name": "stderr",
     "output_type": "stream",
     "text": [
      "\r",
      "loading hamiltonians:  12%|█▏        | 764/6561 [00:13<01:36, 60.18it/s]"
     ]
    },
    {
     "name": "stderr",
     "output_type": "stream",
     "text": [
      "\r",
      "loading hamiltonians:  12%|█▏        | 771/6561 [00:13<01:42, 56.39it/s]"
     ]
    },
    {
     "name": "stderr",
     "output_type": "stream",
     "text": [
      "\r",
      "loading hamiltonians:  12%|█▏        | 777/6561 [00:13<01:43, 55.62it/s]"
     ]
    },
    {
     "name": "stderr",
     "output_type": "stream",
     "text": [
      "\r",
      "loading hamiltonians:  12%|█▏        | 784/6561 [00:13<01:38, 58.85it/s]"
     ]
    },
    {
     "name": "stderr",
     "output_type": "stream",
     "text": [
      "\r",
      "loading hamiltonians:  12%|█▏        | 791/6561 [00:13<01:37, 59.09it/s]"
     ]
    },
    {
     "name": "stderr",
     "output_type": "stream",
     "text": [
      "\r",
      "loading hamiltonians:  12%|█▏        | 798/6561 [00:13<01:42, 56.27it/s]"
     ]
    },
    {
     "name": "stderr",
     "output_type": "stream",
     "text": [
      "\r",
      "loading hamiltonians:  12%|█▏        | 806/6561 [00:13<01:34, 61.18it/s]"
     ]
    },
    {
     "name": "stderr",
     "output_type": "stream",
     "text": [
      "\r",
      "loading hamiltonians:  12%|█▏        | 813/6561 [00:13<01:32, 61.84it/s]"
     ]
    },
    {
     "name": "stderr",
     "output_type": "stream",
     "text": [
      "\r",
      "loading hamiltonians:  12%|█▏        | 820/6561 [00:14<01:36, 59.34it/s]"
     ]
    },
    {
     "name": "stderr",
     "output_type": "stream",
     "text": [
      "\r",
      "loading hamiltonians:  13%|█▎        | 828/6561 [00:14<01:30, 63.56it/s]"
     ]
    },
    {
     "name": "stderr",
     "output_type": "stream",
     "text": [
      "\r",
      "loading hamiltonians:  13%|█▎        | 835/6561 [00:14<01:35, 59.97it/s]"
     ]
    },
    {
     "name": "stderr",
     "output_type": "stream",
     "text": [
      "\r",
      "loading hamiltonians:  13%|█▎        | 843/6561 [00:14<01:28, 64.54it/s]"
     ]
    },
    {
     "name": "stderr",
     "output_type": "stream",
     "text": [
      "\r",
      "loading hamiltonians:  13%|█▎        | 850/6561 [00:14<01:32, 61.42it/s]"
     ]
    },
    {
     "name": "stderr",
     "output_type": "stream",
     "text": [
      "\r",
      "loading hamiltonians:  13%|█▎        | 857/6561 [00:14<01:42, 55.91it/s]"
     ]
    },
    {
     "name": "stderr",
     "output_type": "stream",
     "text": [
      "\r",
      "loading hamiltonians:  13%|█▎        | 867/6561 [00:14<01:30, 62.77it/s]"
     ]
    },
    {
     "name": "stderr",
     "output_type": "stream",
     "text": [
      "\r",
      "loading hamiltonians:  13%|█▎        | 876/6561 [00:14<01:22, 69.02it/s]"
     ]
    },
    {
     "name": "stderr",
     "output_type": "stream",
     "text": [
      "\r",
      "loading hamiltonians:  13%|█▎        | 884/6561 [00:15<01:22, 68.81it/s]"
     ]
    },
    {
     "name": "stderr",
     "output_type": "stream",
     "text": [
      "\r",
      "loading hamiltonians:  14%|█▎        | 892/6561 [00:15<01:23, 67.54it/s]"
     ]
    },
    {
     "name": "stderr",
     "output_type": "stream",
     "text": [
      "\r",
      "loading hamiltonians:  14%|█▎        | 899/6561 [00:15<01:26, 65.49it/s]"
     ]
    },
    {
     "name": "stderr",
     "output_type": "stream",
     "text": [
      "\r",
      "loading hamiltonians:  14%|█▍        | 906/6561 [00:15<01:30, 62.62it/s]"
     ]
    },
    {
     "name": "stderr",
     "output_type": "stream",
     "text": [
      "\r",
      "loading hamiltonians:  14%|█▍        | 914/6561 [00:15<01:25, 65.73it/s]"
     ]
    },
    {
     "name": "stderr",
     "output_type": "stream",
     "text": [
      "\r",
      "loading hamiltonians:  14%|█▍        | 922/6561 [00:15<01:21, 69.43it/s]"
     ]
    },
    {
     "name": "stderr",
     "output_type": "stream",
     "text": [
      "\r",
      "loading hamiltonians:  14%|█▍        | 930/6561 [00:15<01:23, 67.24it/s]"
     ]
    },
    {
     "name": "stderr",
     "output_type": "stream",
     "text": [
      "\r",
      "loading hamiltonians:  14%|█▍        | 941/6561 [00:15<01:15, 74.92it/s]"
     ]
    },
    {
     "name": "stderr",
     "output_type": "stream",
     "text": [
      "\r",
      "loading hamiltonians:  14%|█▍        | 949/6561 [00:15<01:15, 74.47it/s]"
     ]
    },
    {
     "name": "stderr",
     "output_type": "stream",
     "text": [
      "\r",
      "loading hamiltonians:  15%|█▍        | 957/6561 [00:16<02:40, 34.96it/s]"
     ]
    },
    {
     "name": "stderr",
     "output_type": "stream",
     "text": [
      "\r",
      "loading hamiltonians:  15%|█▍        | 964/6561 [00:16<02:20, 39.97it/s]"
     ]
    },
    {
     "name": "stderr",
     "output_type": "stream",
     "text": [
      "\r",
      "loading hamiltonians:  15%|█▍        | 970/6561 [00:16<02:06, 44.28it/s]"
     ]
    },
    {
     "name": "stderr",
     "output_type": "stream",
     "text": [
      "\r",
      "loading hamiltonians:  15%|█▍        | 977/6561 [00:16<01:52, 49.46it/s]"
     ]
    },
    {
     "name": "stderr",
     "output_type": "stream",
     "text": [
      "\r",
      "loading hamiltonians:  15%|█▌        | 985/6561 [00:16<01:40, 55.26it/s]"
     ]
    },
    {
     "name": "stderr",
     "output_type": "stream",
     "text": [
      "\r",
      "loading hamiltonians:  15%|█▌        | 992/6561 [00:17<01:54, 48.44it/s]"
     ]
    },
    {
     "name": "stderr",
     "output_type": "stream",
     "text": [
      "\r",
      "loading hamiltonians:  15%|█▌        | 998/6561 [00:17<01:49, 50.85it/s]"
     ]
    },
    {
     "name": "stderr",
     "output_type": "stream",
     "text": [
      "\r",
      "loading hamiltonians:  15%|█▌        | 1004/6561 [00:17<01:54, 48.36it/s]"
     ]
    },
    {
     "name": "stderr",
     "output_type": "stream",
     "text": [
      "\r",
      "loading hamiltonians:  15%|█▌        | 1010/6561 [00:17<01:49, 50.66it/s]"
     ]
    },
    {
     "name": "stderr",
     "output_type": "stream",
     "text": [
      "\r",
      "loading hamiltonians:  16%|█▌        | 1017/6561 [00:17<01:43, 53.38it/s]"
     ]
    },
    {
     "name": "stderr",
     "output_type": "stream",
     "text": [
      "\r",
      "loading hamiltonians:  16%|█▌        | 1024/6561 [00:17<01:37, 56.68it/s]"
     ]
    },
    {
     "name": "stderr",
     "output_type": "stream",
     "text": [
      "\r",
      "loading hamiltonians:  16%|█▌        | 1030/6561 [00:17<01:38, 56.39it/s]"
     ]
    },
    {
     "name": "stderr",
     "output_type": "stream",
     "text": [
      "\r",
      "loading hamiltonians:  16%|█▌        | 1037/6561 [00:17<01:34, 58.41it/s]"
     ]
    },
    {
     "name": "stderr",
     "output_type": "stream",
     "text": [
      "\r",
      "loading hamiltonians:  16%|█▌        | 1045/6561 [00:17<01:27, 63.40it/s]"
     ]
    },
    {
     "name": "stderr",
     "output_type": "stream",
     "text": [
      "\r",
      "loading hamiltonians:  16%|█▌        | 1052/6561 [00:18<01:30, 60.77it/s]"
     ]
    },
    {
     "name": "stderr",
     "output_type": "stream",
     "text": [
      "\r",
      "loading hamiltonians:  16%|█▌        | 1059/6561 [00:18<01:31, 60.28it/s]"
     ]
    },
    {
     "name": "stderr",
     "output_type": "stream",
     "text": [
      "\r",
      "loading hamiltonians:  16%|█▌        | 1066/6561 [00:18<01:31, 59.81it/s]"
     ]
    },
    {
     "name": "stderr",
     "output_type": "stream",
     "text": [
      "\r",
      "loading hamiltonians:  16%|█▋        | 1074/6561 [00:18<01:29, 61.60it/s]"
     ]
    },
    {
     "name": "stderr",
     "output_type": "stream",
     "text": [
      "\r",
      "loading hamiltonians:  16%|█▋        | 1081/6561 [00:18<01:32, 59.07it/s]"
     ]
    },
    {
     "name": "stderr",
     "output_type": "stream",
     "text": [
      "\r",
      "loading hamiltonians:  17%|█▋        | 1089/6561 [00:18<01:27, 62.56it/s]"
     ]
    },
    {
     "name": "stderr",
     "output_type": "stream",
     "text": [
      "\r",
      "loading hamiltonians:  17%|█▋        | 1096/6561 [00:18<01:26, 63.21it/s]"
     ]
    },
    {
     "name": "stderr",
     "output_type": "stream",
     "text": [
      "\r",
      "loading hamiltonians:  17%|█▋        | 1103/6561 [00:18<01:29, 60.65it/s]"
     ]
    },
    {
     "name": "stderr",
     "output_type": "stream",
     "text": [
      "\r",
      "loading hamiltonians:  17%|█▋        | 1110/6561 [00:19<01:32, 59.07it/s]"
     ]
    },
    {
     "name": "stderr",
     "output_type": "stream",
     "text": [
      "\r",
      "loading hamiltonians:  17%|█▋        | 1117/6561 [00:19<01:28, 61.54it/s]"
     ]
    },
    {
     "name": "stderr",
     "output_type": "stream",
     "text": [
      "\r",
      "loading hamiltonians:  17%|█▋        | 1124/6561 [00:19<01:28, 61.58it/s]"
     ]
    },
    {
     "name": "stderr",
     "output_type": "stream",
     "text": [
      "\r",
      "loading hamiltonians:  17%|█▋        | 1131/6561 [00:19<01:30, 60.23it/s]"
     ]
    },
    {
     "name": "stderr",
     "output_type": "stream",
     "text": [
      "\r",
      "loading hamiltonians:  17%|█▋        | 1138/6561 [00:19<01:31, 59.22it/s]"
     ]
    },
    {
     "name": "stderr",
     "output_type": "stream",
     "text": [
      "\r",
      "loading hamiltonians:  17%|█▋        | 1144/6561 [00:19<01:43, 52.16it/s]"
     ]
    },
    {
     "name": "stderr",
     "output_type": "stream",
     "text": [
      "\r",
      "loading hamiltonians:  18%|█▊        | 1150/6561 [00:19<01:42, 52.58it/s]"
     ]
    },
    {
     "name": "stderr",
     "output_type": "stream",
     "text": [
      "\r",
      "loading hamiltonians:  18%|█▊        | 1156/6561 [00:19<01:41, 53.14it/s]"
     ]
    },
    {
     "name": "stderr",
     "output_type": "stream",
     "text": [
      "\r",
      "loading hamiltonians:  18%|█▊        | 1162/6561 [00:19<01:38, 54.80it/s]"
     ]
    },
    {
     "name": "stderr",
     "output_type": "stream",
     "text": [
      "\r",
      "loading hamiltonians:  18%|█▊        | 1170/6561 [00:20<01:31, 58.75it/s]"
     ]
    },
    {
     "name": "stderr",
     "output_type": "stream",
     "text": [
      "\r",
      "loading hamiltonians:  18%|█▊        | 1177/6561 [00:20<01:37, 55.48it/s]"
     ]
    },
    {
     "name": "stderr",
     "output_type": "stream",
     "text": [
      "\r",
      "loading hamiltonians:  18%|█▊        | 1183/6561 [00:20<01:43, 52.12it/s]"
     ]
    },
    {
     "name": "stderr",
     "output_type": "stream",
     "text": [
      "\r",
      "loading hamiltonians:  18%|█▊        | 1189/6561 [00:20<01:46, 50.52it/s]"
     ]
    },
    {
     "name": "stderr",
     "output_type": "stream",
     "text": [
      "\r",
      "loading hamiltonians:  18%|█▊        | 1196/6561 [00:20<01:37, 55.00it/s]"
     ]
    },
    {
     "name": "stderr",
     "output_type": "stream",
     "text": [
      "\r",
      "loading hamiltonians:  18%|█▊        | 1203/6561 [00:20<01:33, 57.03it/s]"
     ]
    },
    {
     "name": "stderr",
     "output_type": "stream",
     "text": [
      "\r",
      "loading hamiltonians:  18%|█▊        | 1210/6561 [00:20<01:32, 57.58it/s]"
     ]
    },
    {
     "name": "stderr",
     "output_type": "stream",
     "text": [
      "\r",
      "loading hamiltonians:  19%|█▊        | 1218/6561 [00:20<01:28, 60.27it/s]"
     ]
    },
    {
     "name": "stderr",
     "output_type": "stream",
     "text": [
      "\r",
      "loading hamiltonians:  19%|█▊        | 1225/6561 [00:21<01:29, 59.81it/s]"
     ]
    },
    {
     "name": "stderr",
     "output_type": "stream",
     "text": [
      "\r",
      "loading hamiltonians:  19%|█▉        | 1232/6561 [00:21<01:30, 58.75it/s]"
     ]
    },
    {
     "name": "stderr",
     "output_type": "stream",
     "text": [
      "\r",
      "loading hamiltonians:  19%|█▉        | 1239/6561 [00:21<01:29, 59.33it/s]"
     ]
    },
    {
     "name": "stderr",
     "output_type": "stream",
     "text": [
      "\r",
      "loading hamiltonians:  19%|█▉        | 1245/6561 [00:21<01:30, 58.77it/s]"
     ]
    },
    {
     "name": "stderr",
     "output_type": "stream",
     "text": [
      "\r",
      "loading hamiltonians:  19%|█▉        | 1253/6561 [00:21<01:26, 61.58it/s]"
     ]
    },
    {
     "name": "stderr",
     "output_type": "stream",
     "text": [
      "\r",
      "loading hamiltonians:  19%|█▉        | 1260/6561 [00:21<01:24, 62.79it/s]"
     ]
    },
    {
     "name": "stderr",
     "output_type": "stream",
     "text": [
      "\r",
      "loading hamiltonians:  19%|█▉        | 1270/6561 [00:21<01:15, 69.80it/s]"
     ]
    },
    {
     "name": "stderr",
     "output_type": "stream",
     "text": [
      "\r",
      "loading hamiltonians:  20%|█▉        | 1280/6561 [00:21<01:15, 70.02it/s]"
     ]
    },
    {
     "name": "stderr",
     "output_type": "stream",
     "text": [
      "\r",
      "loading hamiltonians:  20%|█▉        | 1288/6561 [00:22<01:35, 54.94it/s]"
     ]
    },
    {
     "name": "stderr",
     "output_type": "stream",
     "text": [
      "\r",
      "loading hamiltonians:  20%|█▉        | 1295/6561 [00:22<01:33, 56.15it/s]"
     ]
    },
    {
     "name": "stderr",
     "output_type": "stream",
     "text": [
      "\r",
      "loading hamiltonians:  20%|█▉        | 1302/6561 [00:22<01:28, 59.13it/s]"
     ]
    },
    {
     "name": "stderr",
     "output_type": "stream",
     "text": [
      "\r",
      "loading hamiltonians:  20%|█▉        | 1309/6561 [00:22<01:29, 59.00it/s]"
     ]
    },
    {
     "name": "stderr",
     "output_type": "stream",
     "text": [
      "\r",
      "loading hamiltonians:  20%|██        | 1316/6561 [00:22<01:28, 59.13it/s]"
     ]
    },
    {
     "name": "stderr",
     "output_type": "stream",
     "text": [
      "\r",
      "loading hamiltonians:  20%|██        | 1323/6561 [00:22<01:31, 57.08it/s]"
     ]
    },
    {
     "name": "stderr",
     "output_type": "stream",
     "text": [
      "\r",
      "loading hamiltonians:  20%|██        | 1329/6561 [00:22<01:32, 56.26it/s]"
     ]
    },
    {
     "name": "stderr",
     "output_type": "stream",
     "text": [
      "\r",
      "loading hamiltonians:  20%|██        | 1337/6561 [00:22<01:25, 61.34it/s]"
     ]
    },
    {
     "name": "stderr",
     "output_type": "stream",
     "text": [
      "\r",
      "loading hamiltonians:  20%|██        | 1344/6561 [00:23<01:28, 59.27it/s]"
     ]
    },
    {
     "name": "stderr",
     "output_type": "stream",
     "text": [
      "\r",
      "loading hamiltonians:  21%|██        | 1352/6561 [00:23<01:22, 62.90it/s]"
     ]
    },
    {
     "name": "stderr",
     "output_type": "stream",
     "text": [
      "\r",
      "loading hamiltonians:  21%|██        | 1359/6561 [00:23<01:22, 63.33it/s]"
     ]
    },
    {
     "name": "stderr",
     "output_type": "stream",
     "text": [
      "\r",
      "loading hamiltonians:  21%|██        | 1366/6561 [00:23<01:24, 61.41it/s]"
     ]
    },
    {
     "name": "stderr",
     "output_type": "stream",
     "text": [
      "\r",
      "loading hamiltonians:  21%|██        | 1373/6561 [00:23<01:26, 59.89it/s]"
     ]
    },
    {
     "name": "stderr",
     "output_type": "stream",
     "text": [
      "\r",
      "loading hamiltonians:  21%|██        | 1380/6561 [00:23<01:23, 61.84it/s]"
     ]
    },
    {
     "name": "stderr",
     "output_type": "stream",
     "text": [
      "\r",
      "loading hamiltonians:  21%|██        | 1387/6561 [00:23<01:25, 60.43it/s]"
     ]
    },
    {
     "name": "stderr",
     "output_type": "stream",
     "text": [
      "\r",
      "loading hamiltonians:  21%|██        | 1394/6561 [00:23<01:26, 59.52it/s]"
     ]
    },
    {
     "name": "stderr",
     "output_type": "stream",
     "text": [
      "\r",
      "loading hamiltonians:  21%|██▏       | 1403/6561 [00:23<01:19, 64.99it/s]"
     ]
    },
    {
     "name": "stderr",
     "output_type": "stream",
     "text": [
      "\r",
      "loading hamiltonians:  21%|██▏       | 1410/6561 [00:24<01:24, 60.92it/s]"
     ]
    },
    {
     "name": "stderr",
     "output_type": "stream",
     "text": [
      "\r",
      "loading hamiltonians:  22%|██▏       | 1418/6561 [00:24<01:19, 64.96it/s]"
     ]
    },
    {
     "name": "stderr",
     "output_type": "stream",
     "text": [
      "\r",
      "loading hamiltonians:  22%|██▏       | 1425/6561 [00:24<01:26, 59.47it/s]"
     ]
    },
    {
     "name": "stderr",
     "output_type": "stream",
     "text": [
      "\r",
      "loading hamiltonians:  22%|██▏       | 1432/6561 [00:24<01:23, 61.58it/s]"
     ]
    },
    {
     "name": "stderr",
     "output_type": "stream",
     "text": [
      "\r",
      "loading hamiltonians:  22%|██▏       | 1439/6561 [00:24<01:24, 60.47it/s]"
     ]
    },
    {
     "name": "stderr",
     "output_type": "stream",
     "text": [
      "\r",
      "loading hamiltonians:  22%|██▏       | 1446/6561 [00:24<01:23, 61.53it/s]"
     ]
    },
    {
     "name": "stderr",
     "output_type": "stream",
     "text": [
      "\r",
      "loading hamiltonians:  22%|██▏       | 1455/6561 [00:24<01:15, 67.62it/s]"
     ]
    },
    {
     "name": "stderr",
     "output_type": "stream",
     "text": [
      "\r",
      "loading hamiltonians:  22%|██▏       | 1465/6561 [00:24<01:08, 73.90it/s]"
     ]
    },
    {
     "name": "stderr",
     "output_type": "stream",
     "text": [
      "\r",
      "loading hamiltonians:  22%|██▏       | 1473/6561 [00:25<03:09, 26.81it/s]"
     ]
    },
    {
     "name": "stderr",
     "output_type": "stream",
     "text": [
      "\r",
      "loading hamiltonians:  23%|██▎       | 1479/6561 [00:25<02:38, 32.06it/s]"
     ]
    },
    {
     "name": "stderr",
     "output_type": "stream",
     "text": [
      "\r",
      "loading hamiltonians:  23%|██▎       | 1487/6561 [00:25<02:11, 38.51it/s]"
     ]
    },
    {
     "name": "stderr",
     "output_type": "stream",
     "text": [
      "\r",
      "loading hamiltonians:  23%|██▎       | 1494/6561 [00:25<01:55, 44.06it/s]"
     ]
    },
    {
     "name": "stderr",
     "output_type": "stream",
     "text": [
      "\r",
      "loading hamiltonians:  23%|██▎       | 1502/6561 [00:26<01:40, 50.49it/s]"
     ]
    },
    {
     "name": "stderr",
     "output_type": "stream",
     "text": [
      "\r",
      "loading hamiltonians:  23%|██▎       | 1510/6561 [00:26<01:29, 56.64it/s]"
     ]
    },
    {
     "name": "stderr",
     "output_type": "stream",
     "text": [
      "\r",
      "loading hamiltonians:  23%|██▎       | 1518/6561 [00:26<01:31, 55.24it/s]"
     ]
    },
    {
     "name": "stderr",
     "output_type": "stream",
     "text": [
      "\r",
      "loading hamiltonians:  23%|██▎       | 1526/6561 [00:26<01:24, 59.89it/s]"
     ]
    },
    {
     "name": "stderr",
     "output_type": "stream",
     "text": [
      "\r",
      "loading hamiltonians:  23%|██▎       | 1533/6561 [00:26<01:20, 62.55it/s]"
     ]
    },
    {
     "name": "stderr",
     "output_type": "stream",
     "text": [
      "\r",
      "loading hamiltonians:  23%|██▎       | 1541/6561 [00:26<01:15, 66.84it/s]"
     ]
    },
    {
     "name": "stderr",
     "output_type": "stream",
     "text": [
      "\r",
      "loading hamiltonians:  24%|██▎       | 1549/6561 [00:26<01:15, 66.48it/s]"
     ]
    },
    {
     "name": "stderr",
     "output_type": "stream",
     "text": [
      "\r",
      "loading hamiltonians:  24%|██▎       | 1557/6561 [00:26<01:17, 64.66it/s]"
     ]
    },
    {
     "name": "stderr",
     "output_type": "stream",
     "text": [
      "\r",
      "loading hamiltonians:  24%|██▍       | 1564/6561 [00:27<01:26, 57.93it/s]"
     ]
    },
    {
     "name": "stderr",
     "output_type": "stream",
     "text": [
      "\r",
      "loading hamiltonians:  24%|██▍       | 1571/6561 [00:27<01:39, 50.02it/s]"
     ]
    },
    {
     "name": "stderr",
     "output_type": "stream",
     "text": [
      "\r",
      "loading hamiltonians:  24%|██▍       | 1577/6561 [00:27<01:35, 52.06it/s]"
     ]
    },
    {
     "name": "stderr",
     "output_type": "stream",
     "text": [
      "\r",
      "loading hamiltonians:  24%|██▍       | 1584/6561 [00:27<01:31, 54.47it/s]"
     ]
    },
    {
     "name": "stderr",
     "output_type": "stream",
     "text": [
      "\r",
      "loading hamiltonians:  24%|██▍       | 1591/6561 [00:27<01:29, 55.58it/s]"
     ]
    },
    {
     "name": "stderr",
     "output_type": "stream",
     "text": [
      "\r",
      "loading hamiltonians:  24%|██▍       | 1597/6561 [00:27<01:29, 55.26it/s]"
     ]
    },
    {
     "name": "stderr",
     "output_type": "stream",
     "text": [
      "\r",
      "loading hamiltonians:  24%|██▍       | 1604/6561 [00:27<01:25, 58.20it/s]"
     ]
    },
    {
     "name": "stderr",
     "output_type": "stream",
     "text": [
      "\r",
      "loading hamiltonians:  25%|██▍       | 1612/6561 [00:27<01:20, 61.69it/s]"
     ]
    },
    {
     "name": "stderr",
     "output_type": "stream",
     "text": [
      "\r",
      "loading hamiltonians:  25%|██▍       | 1619/6561 [00:27<01:20, 61.53it/s]"
     ]
    },
    {
     "name": "stderr",
     "output_type": "stream",
     "text": [
      "\r",
      "loading hamiltonians:  25%|██▍       | 1626/6561 [00:28<01:33, 52.93it/s]"
     ]
    },
    {
     "name": "stderr",
     "output_type": "stream",
     "text": [
      "\r",
      "loading hamiltonians:  25%|██▍       | 1632/6561 [00:28<01:30, 54.54it/s]"
     ]
    },
    {
     "name": "stderr",
     "output_type": "stream",
     "text": [
      "\r",
      "loading hamiltonians:  25%|██▍       | 1638/6561 [00:28<01:30, 54.38it/s]"
     ]
    },
    {
     "name": "stderr",
     "output_type": "stream",
     "text": [
      "\r",
      "loading hamiltonians:  25%|██▌       | 1645/6561 [00:28<01:26, 56.66it/s]"
     ]
    },
    {
     "name": "stderr",
     "output_type": "stream",
     "text": [
      "\r",
      "loading hamiltonians:  25%|██▌       | 1651/6561 [00:28<01:26, 56.98it/s]"
     ]
    },
    {
     "name": "stderr",
     "output_type": "stream",
     "text": [
      "\r",
      "loading hamiltonians:  25%|██▌       | 1657/6561 [00:28<01:30, 54.05it/s]"
     ]
    },
    {
     "name": "stderr",
     "output_type": "stream",
     "text": [
      "\r",
      "loading hamiltonians:  25%|██▌       | 1665/6561 [00:28<01:24, 58.12it/s]"
     ]
    },
    {
     "name": "stderr",
     "output_type": "stream",
     "text": [
      "\r",
      "loading hamiltonians:  25%|██▌       | 1673/6561 [00:28<01:18, 62.01it/s]"
     ]
    },
    {
     "name": "stderr",
     "output_type": "stream",
     "text": [
      "\r",
      "loading hamiltonians:  26%|██▌       | 1680/6561 [00:29<01:16, 63.47it/s]"
     ]
    },
    {
     "name": "stderr",
     "output_type": "stream",
     "text": [
      "\r",
      "loading hamiltonians:  26%|██▌       | 1687/6561 [00:29<01:20, 60.82it/s]"
     ]
    },
    {
     "name": "stderr",
     "output_type": "stream",
     "text": [
      "\r",
      "loading hamiltonians:  26%|██▌       | 1694/6561 [00:29<01:19, 61.34it/s]"
     ]
    },
    {
     "name": "stderr",
     "output_type": "stream",
     "text": [
      "\r",
      "loading hamiltonians:  26%|██▌       | 1701/6561 [00:29<01:25, 56.65it/s]"
     ]
    },
    {
     "name": "stderr",
     "output_type": "stream",
     "text": [
      "\r",
      "loading hamiltonians:  26%|██▌       | 1707/6561 [00:29<01:28, 54.60it/s]"
     ]
    },
    {
     "name": "stderr",
     "output_type": "stream",
     "text": [
      "\r",
      "loading hamiltonians:  26%|██▌       | 1714/6561 [00:29<01:26, 56.31it/s]"
     ]
    },
    {
     "name": "stderr",
     "output_type": "stream",
     "text": [
      "\r",
      "loading hamiltonians:  26%|██▌       | 1720/6561 [00:29<01:26, 56.24it/s]"
     ]
    },
    {
     "name": "stderr",
     "output_type": "stream",
     "text": [
      "\r",
      "loading hamiltonians:  26%|██▋       | 1726/6561 [00:29<01:25, 56.53it/s]"
     ]
    },
    {
     "name": "stderr",
     "output_type": "stream",
     "text": [
      "\r",
      "loading hamiltonians:  26%|██▋       | 1736/6561 [00:29<01:14, 64.46it/s]"
     ]
    },
    {
     "name": "stderr",
     "output_type": "stream",
     "text": [
      "\r",
      "loading hamiltonians:  27%|██▋       | 1745/6561 [00:30<01:10, 68.27it/s]"
     ]
    },
    {
     "name": "stderr",
     "output_type": "stream",
     "text": [
      "\r",
      "loading hamiltonians:  27%|██▋       | 1753/6561 [00:30<01:17, 62.20it/s]"
     ]
    },
    {
     "name": "stderr",
     "output_type": "stream",
     "text": [
      "\r",
      "loading hamiltonians:  27%|██▋       | 1760/6561 [00:30<01:17, 62.04it/s]"
     ]
    },
    {
     "name": "stderr",
     "output_type": "stream",
     "text": [
      "\r",
      "loading hamiltonians:  27%|██▋       | 1767/6561 [00:30<01:21, 58.79it/s]"
     ]
    },
    {
     "name": "stderr",
     "output_type": "stream",
     "text": [
      "\r",
      "loading hamiltonians:  27%|██▋       | 1774/6561 [00:30<01:25, 56.14it/s]"
     ]
    },
    {
     "name": "stderr",
     "output_type": "stream",
     "text": [
      "\r",
      "loading hamiltonians:  27%|██▋       | 1780/6561 [00:30<01:23, 56.99it/s]"
     ]
    },
    {
     "name": "stderr",
     "output_type": "stream",
     "text": [
      "\r",
      "loading hamiltonians:  27%|██▋       | 1789/6561 [00:30<01:17, 61.56it/s]"
     ]
    },
    {
     "name": "stderr",
     "output_type": "stream",
     "text": [
      "\r",
      "loading hamiltonians:  27%|██▋       | 1797/6561 [00:30<01:20, 59.24it/s]"
     ]
    },
    {
     "name": "stderr",
     "output_type": "stream",
     "text": [
      "\r",
      "loading hamiltonians:  27%|██▋       | 1804/6561 [00:31<01:17, 61.29it/s]"
     ]
    },
    {
     "name": "stderr",
     "output_type": "stream",
     "text": [
      "\r",
      "loading hamiltonians:  28%|██▊       | 1811/6561 [00:31<01:19, 59.81it/s]"
     ]
    },
    {
     "name": "stderr",
     "output_type": "stream",
     "text": [
      "\r",
      "loading hamiltonians:  28%|██▊       | 1818/6561 [00:31<01:15, 62.52it/s]"
     ]
    },
    {
     "name": "stderr",
     "output_type": "stream",
     "text": [
      "\r",
      "loading hamiltonians:  28%|██▊       | 1825/6561 [00:31<01:13, 64.52it/s]"
     ]
    },
    {
     "name": "stderr",
     "output_type": "stream",
     "text": [
      "\r",
      "loading hamiltonians:  28%|██▊       | 1832/6561 [00:31<01:19, 59.60it/s]"
     ]
    },
    {
     "name": "stderr",
     "output_type": "stream",
     "text": [
      "\r",
      "loading hamiltonians:  28%|██▊       | 1839/6561 [00:31<01:17, 60.94it/s]"
     ]
    },
    {
     "name": "stderr",
     "output_type": "stream",
     "text": [
      "\r",
      "loading hamiltonians:  28%|██▊       | 1846/6561 [00:31<01:26, 54.72it/s]"
     ]
    },
    {
     "name": "stderr",
     "output_type": "stream",
     "text": [
      "\r",
      "loading hamiltonians:  28%|██▊       | 1853/6561 [00:31<01:21, 57.68it/s]"
     ]
    },
    {
     "name": "stderr",
     "output_type": "stream",
     "text": [
      "\r",
      "loading hamiltonians:  28%|██▊       | 1860/6561 [00:32<01:20, 58.63it/s]"
     ]
    },
    {
     "name": "stderr",
     "output_type": "stream",
     "text": [
      "\r",
      "loading hamiltonians:  28%|██▊       | 1866/6561 [00:32<02:10, 35.96it/s]"
     ]
    },
    {
     "name": "stderr",
     "output_type": "stream",
     "text": [
      "\r",
      "loading hamiltonians:  29%|██▊       | 1874/6561 [00:32<01:51, 42.03it/s]"
     ]
    },
    {
     "name": "stderr",
     "output_type": "stream",
     "text": [
      "\r",
      "loading hamiltonians:  29%|██▊       | 1882/6561 [00:32<01:36, 48.33it/s]"
     ]
    },
    {
     "name": "stderr",
     "output_type": "stream",
     "text": [
      "\r",
      "loading hamiltonians:  29%|██▉       | 1890/6561 [00:32<01:26, 54.30it/s]"
     ]
    },
    {
     "name": "stderr",
     "output_type": "stream",
     "text": [
      "\r",
      "loading hamiltonians:  29%|██▉       | 1897/6561 [00:32<01:23, 55.82it/s]"
     ]
    },
    {
     "name": "stderr",
     "output_type": "stream",
     "text": [
      "\r",
      "loading hamiltonians:  29%|██▉       | 1905/6561 [00:32<01:17, 60.19it/s]"
     ]
    },
    {
     "name": "stderr",
     "output_type": "stream",
     "text": [
      "\r",
      "loading hamiltonians:  29%|██▉       | 1913/6561 [00:33<01:11, 64.89it/s]"
     ]
    },
    {
     "name": "stderr",
     "output_type": "stream",
     "text": [
      "\r",
      "loading hamiltonians:  29%|██▉       | 1921/6561 [00:33<01:11, 64.49it/s]"
     ]
    },
    {
     "name": "stderr",
     "output_type": "stream",
     "text": [
      "\r",
      "loading hamiltonians:  29%|██▉       | 1928/6561 [00:33<01:11, 64.68it/s]"
     ]
    },
    {
     "name": "stderr",
     "output_type": "stream",
     "text": [
      "\r",
      "loading hamiltonians:  29%|██▉       | 1935/6561 [00:33<01:12, 63.40it/s]"
     ]
    },
    {
     "name": "stderr",
     "output_type": "stream",
     "text": [
      "\r",
      "loading hamiltonians:  30%|██▉       | 1942/6561 [00:33<01:17, 59.56it/s]"
     ]
    },
    {
     "name": "stderr",
     "output_type": "stream",
     "text": [
      "\r",
      "loading hamiltonians:  30%|██▉       | 1949/6561 [00:33<01:18, 58.76it/s]"
     ]
    },
    {
     "name": "stderr",
     "output_type": "stream",
     "text": [
      "\r",
      "loading hamiltonians:  30%|██▉       | 1956/6561 [00:33<01:15, 61.23it/s]"
     ]
    },
    {
     "name": "stderr",
     "output_type": "stream",
     "text": [
      "\r",
      "loading hamiltonians:  30%|██▉       | 1965/6561 [00:33<01:08, 66.76it/s]"
     ]
    },
    {
     "name": "stderr",
     "output_type": "stream",
     "text": [
      "\r",
      "loading hamiltonians:  30%|███       | 1972/6561 [00:33<01:10, 64.87it/s]"
     ]
    },
    {
     "name": "stderr",
     "output_type": "stream",
     "text": [
      "\r",
      "loading hamiltonians:  30%|███       | 1980/6561 [00:34<01:09, 66.11it/s]"
     ]
    },
    {
     "name": "stderr",
     "output_type": "stream",
     "text": [
      "\r",
      "loading hamiltonians:  30%|███       | 1987/6561 [00:34<01:18, 58.06it/s]"
     ]
    },
    {
     "name": "stderr",
     "output_type": "stream",
     "text": [
      "\r",
      "loading hamiltonians:  30%|███       | 1994/6561 [00:35<03:55, 19.42it/s]"
     ]
    },
    {
     "name": "stderr",
     "output_type": "stream",
     "text": [
      "\r",
      "loading hamiltonians:  30%|███       | 2000/6561 [00:35<03:08, 24.19it/s]"
     ]
    },
    {
     "name": "stderr",
     "output_type": "stream",
     "text": [
      "\r",
      "loading hamiltonians:  31%|███       | 2008/6561 [00:35<02:31, 30.06it/s]"
     ]
    },
    {
     "name": "stderr",
     "output_type": "stream",
     "text": [
      "\r",
      "loading hamiltonians:  31%|███       | 2014/6561 [00:35<02:15, 33.61it/s]"
     ]
    },
    {
     "name": "stderr",
     "output_type": "stream",
     "text": [
      "\r",
      "loading hamiltonians:  31%|███       | 2021/6561 [00:35<01:55, 39.33it/s]"
     ]
    },
    {
     "name": "stderr",
     "output_type": "stream",
     "text": [
      "\r",
      "loading hamiltonians:  31%|███       | 2028/6561 [00:35<01:42, 44.11it/s]"
     ]
    },
    {
     "name": "stderr",
     "output_type": "stream",
     "text": [
      "\r",
      "loading hamiltonians:  31%|███       | 2034/6561 [00:35<01:39, 45.48it/s]"
     ]
    },
    {
     "name": "stderr",
     "output_type": "stream",
     "text": [
      "\r",
      "loading hamiltonians:  31%|███       | 2043/6561 [00:35<01:25, 52.60it/s]"
     ]
    },
    {
     "name": "stderr",
     "output_type": "stream",
     "text": [
      "\r",
      "loading hamiltonians:  31%|███▏      | 2051/6561 [00:36<01:20, 56.10it/s]"
     ]
    },
    {
     "name": "stderr",
     "output_type": "stream",
     "text": [
      "\r",
      "loading hamiltonians:  31%|███▏      | 2058/6561 [00:36<01:17, 58.03it/s]"
     ]
    },
    {
     "name": "stderr",
     "output_type": "stream",
     "text": [
      "\r",
      "loading hamiltonians:  31%|███▏      | 2065/6561 [00:36<01:15, 59.21it/s]"
     ]
    },
    {
     "name": "stderr",
     "output_type": "stream",
     "text": [
      "\r",
      "loading hamiltonians:  32%|███▏      | 2072/6561 [00:36<01:14, 59.93it/s]"
     ]
    },
    {
     "name": "stderr",
     "output_type": "stream",
     "text": [
      "\r",
      "loading hamiltonians:  32%|███▏      | 2079/6561 [00:36<01:15, 59.19it/s]"
     ]
    },
    {
     "name": "stderr",
     "output_type": "stream",
     "text": [
      "\r",
      "loading hamiltonians:  32%|███▏      | 2086/6561 [00:36<01:18, 57.29it/s]"
     ]
    },
    {
     "name": "stderr",
     "output_type": "stream",
     "text": [
      "\r",
      "loading hamiltonians:  32%|███▏      | 2094/6561 [00:36<01:11, 62.39it/s]"
     ]
    },
    {
     "name": "stderr",
     "output_type": "stream",
     "text": [
      "\r",
      "loading hamiltonians:  32%|███▏      | 2101/6561 [00:36<01:09, 63.84it/s]"
     ]
    },
    {
     "name": "stderr",
     "output_type": "stream",
     "text": [
      "\r",
      "loading hamiltonians:  32%|███▏      | 2108/6561 [00:36<01:10, 63.30it/s]"
     ]
    },
    {
     "name": "stderr",
     "output_type": "stream",
     "text": [
      "\r",
      "loading hamiltonians:  32%|███▏      | 2115/6561 [00:37<01:09, 63.93it/s]"
     ]
    },
    {
     "name": "stderr",
     "output_type": "stream",
     "text": [
      "\r",
      "loading hamiltonians:  32%|███▏      | 2122/6561 [00:37<01:08, 64.74it/s]"
     ]
    },
    {
     "name": "stderr",
     "output_type": "stream",
     "text": [
      "\r",
      "loading hamiltonians:  32%|███▏      | 2129/6561 [00:37<01:32, 47.69it/s]"
     ]
    },
    {
     "name": "stderr",
     "output_type": "stream",
     "text": [
      "\r",
      "loading hamiltonians:  33%|███▎      | 2137/6561 [00:37<01:22, 53.85it/s]"
     ]
    },
    {
     "name": "stderr",
     "output_type": "stream",
     "text": [
      "\r",
      "loading hamiltonians:  33%|███▎      | 2144/6561 [00:37<01:18, 56.19it/s]"
     ]
    },
    {
     "name": "stderr",
     "output_type": "stream",
     "text": [
      "\r",
      "loading hamiltonians:  33%|███▎      | 2151/6561 [00:37<01:16, 57.84it/s]"
     ]
    },
    {
     "name": "stderr",
     "output_type": "stream",
     "text": [
      "\r",
      "loading hamiltonians:  33%|███▎      | 2158/6561 [00:37<01:13, 59.85it/s]"
     ]
    },
    {
     "name": "stderr",
     "output_type": "stream",
     "text": [
      "\r",
      "loading hamiltonians:  33%|███▎      | 2165/6561 [00:37<01:13, 60.06it/s]"
     ]
    },
    {
     "name": "stderr",
     "output_type": "stream",
     "text": [
      "\r",
      "loading hamiltonians:  33%|███▎      | 2172/6561 [00:38<01:14, 58.79it/s]"
     ]
    },
    {
     "name": "stderr",
     "output_type": "stream",
     "text": [
      "\r",
      "loading hamiltonians:  33%|███▎      | 2179/6561 [00:38<01:17, 56.90it/s]"
     ]
    },
    {
     "name": "stderr",
     "output_type": "stream",
     "text": [
      "\r",
      "loading hamiltonians:  33%|███▎      | 2185/6561 [00:38<01:16, 57.32it/s]"
     ]
    },
    {
     "name": "stderr",
     "output_type": "stream",
     "text": [
      "\r",
      "loading hamiltonians:  33%|███▎      | 2191/6561 [00:38<01:16, 57.29it/s]"
     ]
    },
    {
     "name": "stderr",
     "output_type": "stream",
     "text": [
      "\r",
      "loading hamiltonians:  34%|███▎      | 2198/6561 [00:38<01:15, 57.94it/s]"
     ]
    },
    {
     "name": "stderr",
     "output_type": "stream",
     "text": [
      "\r",
      "loading hamiltonians:  34%|███▎      | 2204/6561 [00:38<01:14, 58.41it/s]"
     ]
    },
    {
     "name": "stderr",
     "output_type": "stream",
     "text": [
      "\r",
      "loading hamiltonians:  34%|███▎      | 2211/6561 [00:38<01:13, 58.89it/s]"
     ]
    },
    {
     "name": "stderr",
     "output_type": "stream",
     "text": [
      "\r",
      "loading hamiltonians:  34%|███▍      | 2218/6561 [00:38<01:12, 59.63it/s]"
     ]
    },
    {
     "name": "stderr",
     "output_type": "stream",
     "text": [
      "\r",
      "loading hamiltonians:  34%|███▍      | 2225/6561 [00:38<01:12, 59.76it/s]"
     ]
    },
    {
     "name": "stderr",
     "output_type": "stream",
     "text": [
      "\r",
      "loading hamiltonians:  34%|███▍      | 2232/6561 [00:39<01:11, 60.69it/s]"
     ]
    },
    {
     "name": "stderr",
     "output_type": "stream",
     "text": [
      "\r",
      "loading hamiltonians:  34%|███▍      | 2239/6561 [00:39<01:13, 58.90it/s]"
     ]
    },
    {
     "name": "stderr",
     "output_type": "stream",
     "text": [
      "\r",
      "loading hamiltonians:  34%|███▍      | 2247/6561 [00:39<01:10, 61.32it/s]"
     ]
    },
    {
     "name": "stderr",
     "output_type": "stream",
     "text": [
      "\r",
      "loading hamiltonians:  34%|███▍      | 2254/6561 [00:39<01:09, 62.41it/s]"
     ]
    },
    {
     "name": "stderr",
     "output_type": "stream",
     "text": [
      "\r",
      "loading hamiltonians:  34%|███▍      | 2261/6561 [00:39<01:12, 59.62it/s]"
     ]
    },
    {
     "name": "stderr",
     "output_type": "stream",
     "text": [
      "\r",
      "loading hamiltonians:  35%|███▍      | 2268/6561 [00:39<01:12, 59.37it/s]"
     ]
    },
    {
     "name": "stderr",
     "output_type": "stream",
     "text": [
      "\r",
      "loading hamiltonians:  35%|███▍      | 2278/6561 [00:39<01:03, 67.23it/s]"
     ]
    },
    {
     "name": "stderr",
     "output_type": "stream",
     "text": [
      "\r",
      "loading hamiltonians:  35%|███▍      | 2286/6561 [00:39<01:02, 67.95it/s]"
     ]
    },
    {
     "name": "stderr",
     "output_type": "stream",
     "text": [
      "\r",
      "loading hamiltonians:  35%|███▍      | 2294/6561 [00:40<01:04, 65.85it/s]"
     ]
    },
    {
     "name": "stderr",
     "output_type": "stream",
     "text": [
      "\r",
      "loading hamiltonians:  35%|███▌      | 2301/6561 [00:40<01:09, 61.31it/s]"
     ]
    },
    {
     "name": "stderr",
     "output_type": "stream",
     "text": [
      "\r",
      "loading hamiltonians:  35%|███▌      | 2308/6561 [00:40<01:09, 61.02it/s]"
     ]
    },
    {
     "name": "stderr",
     "output_type": "stream",
     "text": [
      "\r",
      "loading hamiltonians:  35%|███▌      | 2315/6561 [00:40<01:15, 55.94it/s]"
     ]
    },
    {
     "name": "stderr",
     "output_type": "stream",
     "text": [
      "\r",
      "loading hamiltonians:  35%|███▌      | 2323/6561 [00:40<01:10, 59.72it/s]"
     ]
    },
    {
     "name": "stderr",
     "output_type": "stream",
     "text": [
      "\r",
      "loading hamiltonians:  36%|███▌      | 2330/6561 [00:40<01:12, 58.54it/s]"
     ]
    },
    {
     "name": "stderr",
     "output_type": "stream",
     "text": [
      "\r",
      "loading hamiltonians:  36%|███▌      | 2338/6561 [00:40<01:07, 62.52it/s]"
     ]
    },
    {
     "name": "stderr",
     "output_type": "stream",
     "text": [
      "\r",
      "loading hamiltonians:  36%|███▌      | 2346/6561 [00:40<01:04, 65.46it/s]"
     ]
    },
    {
     "name": "stderr",
     "output_type": "stream",
     "text": [
      "\r",
      "loading hamiltonians:  36%|███▌      | 2353/6561 [00:41<01:05, 64.18it/s]"
     ]
    },
    {
     "name": "stderr",
     "output_type": "stream",
     "text": [
      "\r",
      "loading hamiltonians:  36%|███▌      | 2360/6561 [00:41<01:04, 64.88it/s]"
     ]
    },
    {
     "name": "stderr",
     "output_type": "stream",
     "text": [
      "\r",
      "loading hamiltonians:  36%|███▌      | 2367/6561 [00:41<01:06, 62.61it/s]"
     ]
    },
    {
     "name": "stderr",
     "output_type": "stream",
     "text": [
      "\r",
      "loading hamiltonians:  36%|███▌      | 2374/6561 [00:41<01:11, 58.94it/s]"
     ]
    },
    {
     "name": "stderr",
     "output_type": "stream",
     "text": [
      "\r",
      "loading hamiltonians:  36%|███▋      | 2381/6561 [00:41<01:09, 60.55it/s]"
     ]
    },
    {
     "name": "stderr",
     "output_type": "stream",
     "text": [
      "\r",
      "loading hamiltonians:  36%|███▋      | 2388/6561 [00:41<01:08, 61.25it/s]"
     ]
    },
    {
     "name": "stderr",
     "output_type": "stream",
     "text": [
      "\r",
      "loading hamiltonians:  37%|███▋      | 2395/6561 [00:41<01:07, 61.37it/s]"
     ]
    },
    {
     "name": "stderr",
     "output_type": "stream",
     "text": [
      "\r",
      "loading hamiltonians:  37%|███▋      | 2402/6561 [00:41<01:13, 56.96it/s]"
     ]
    },
    {
     "name": "stderr",
     "output_type": "stream",
     "text": [
      "\r",
      "loading hamiltonians:  37%|███▋      | 2409/6561 [00:41<01:09, 59.40it/s]"
     ]
    },
    {
     "name": "stderr",
     "output_type": "stream",
     "text": [
      "\r",
      "loading hamiltonians:  37%|███▋      | 2417/6561 [00:42<01:06, 62.67it/s]"
     ]
    },
    {
     "name": "stderr",
     "output_type": "stream",
     "text": [
      "\r",
      "loading hamiltonians:  37%|███▋      | 2424/6561 [00:42<01:05, 63.31it/s]"
     ]
    },
    {
     "name": "stderr",
     "output_type": "stream",
     "text": [
      "\r",
      "loading hamiltonians:  37%|███▋      | 2431/6561 [00:42<01:04, 63.77it/s]"
     ]
    },
    {
     "name": "stderr",
     "output_type": "stream",
     "text": [
      "\r",
      "loading hamiltonians:  37%|███▋      | 2438/6561 [00:42<01:25, 48.38it/s]"
     ]
    },
    {
     "name": "stderr",
     "output_type": "stream",
     "text": [
      "\r",
      "loading hamiltonians:  37%|███▋      | 2445/6561 [00:42<01:18, 52.13it/s]"
     ]
    },
    {
     "name": "stderr",
     "output_type": "stream",
     "text": [
      "\r",
      "loading hamiltonians:  37%|███▋      | 2453/6561 [00:42<01:11, 57.44it/s]"
     ]
    },
    {
     "name": "stderr",
     "output_type": "stream",
     "text": [
      "\r",
      "loading hamiltonians:  38%|███▊      | 2461/6561 [00:42<01:05, 62.48it/s]"
     ]
    },
    {
     "name": "stderr",
     "output_type": "stream",
     "text": [
      "\r",
      "loading hamiltonians:  38%|███▊      | 2470/6561 [00:42<00:59, 68.65it/s]"
     ]
    },
    {
     "name": "stderr",
     "output_type": "stream",
     "text": [
      "\r",
      "loading hamiltonians:  38%|███▊      | 2478/6561 [00:43<01:02, 65.06it/s]"
     ]
    },
    {
     "name": "stderr",
     "output_type": "stream",
     "text": [
      "\r",
      "loading hamiltonians:  38%|███▊      | 2485/6561 [00:43<01:39, 40.94it/s]"
     ]
    },
    {
     "name": "stderr",
     "output_type": "stream",
     "text": [
      "\r",
      "loading hamiltonians:  38%|███▊      | 2491/6561 [00:43<01:34, 43.29it/s]"
     ]
    },
    {
     "name": "stderr",
     "output_type": "stream",
     "text": [
      "\r",
      "loading hamiltonians:  38%|███▊      | 2497/6561 [00:43<01:27, 46.18it/s]"
     ]
    },
    {
     "name": "stderr",
     "output_type": "stream",
     "text": [
      "\r",
      "loading hamiltonians:  38%|███▊      | 2503/6561 [00:43<01:29, 45.58it/s]"
     ]
    },
    {
     "name": "stderr",
     "output_type": "stream",
     "text": [
      "\r",
      "loading hamiltonians:  38%|███▊      | 2509/6561 [00:43<01:26, 46.58it/s]"
     ]
    },
    {
     "name": "stderr",
     "output_type": "stream",
     "text": [
      "\r",
      "loading hamiltonians:  38%|███▊      | 2517/6561 [00:43<01:17, 52.49it/s]"
     ]
    },
    {
     "name": "stderr",
     "output_type": "stream",
     "text": [
      "\r",
      "loading hamiltonians:  38%|███▊      | 2523/6561 [00:44<01:14, 54.18it/s]"
     ]
    },
    {
     "name": "stderr",
     "output_type": "stream",
     "text": [
      "\r",
      "loading hamiltonians:  39%|███▊      | 2531/6561 [00:44<01:07, 59.35it/s]"
     ]
    },
    {
     "name": "stderr",
     "output_type": "stream",
     "text": [
      "\r",
      "loading hamiltonians:  39%|███▊      | 2538/6561 [00:44<01:08, 58.76it/s]"
     ]
    },
    {
     "name": "stderr",
     "output_type": "stream",
     "text": [
      "\r",
      "loading hamiltonians:  39%|███▉      | 2545/6561 [00:44<01:10, 57.17it/s]"
     ]
    },
    {
     "name": "stderr",
     "output_type": "stream",
     "text": [
      "\r",
      "loading hamiltonians:  39%|███▉      | 2551/6561 [00:44<01:10, 56.57it/s]"
     ]
    },
    {
     "name": "stderr",
     "output_type": "stream",
     "text": [
      "\r",
      "loading hamiltonians:  39%|███▉      | 2559/6561 [00:44<01:07, 59.60it/s]"
     ]
    },
    {
     "name": "stderr",
     "output_type": "stream",
     "text": [
      "\r",
      "loading hamiltonians:  39%|███▉      | 2566/6561 [00:44<01:06, 59.94it/s]"
     ]
    },
    {
     "name": "stderr",
     "output_type": "stream",
     "text": [
      "\r",
      "loading hamiltonians:  39%|███▉      | 2573/6561 [00:44<01:06, 59.71it/s]"
     ]
    },
    {
     "name": "stderr",
     "output_type": "stream",
     "text": [
      "\r",
      "loading hamiltonians:  39%|███▉      | 2580/6561 [00:45<01:05, 60.96it/s]"
     ]
    },
    {
     "name": "stderr",
     "output_type": "stream",
     "text": [
      "\r",
      "loading hamiltonians:  39%|███▉      | 2587/6561 [00:45<01:07, 58.49it/s]"
     ]
    },
    {
     "name": "stderr",
     "output_type": "stream",
     "text": [
      "\r",
      "loading hamiltonians:  40%|███▉      | 2595/6561 [00:45<01:07, 58.35it/s]"
     ]
    },
    {
     "name": "stderr",
     "output_type": "stream",
     "text": [
      "\r",
      "loading hamiltonians:  40%|███▉      | 2601/6561 [00:45<01:07, 58.66it/s]"
     ]
    },
    {
     "name": "stderr",
     "output_type": "stream",
     "text": [
      "\r",
      "loading hamiltonians:  40%|███▉      | 2607/6561 [00:45<01:07, 58.96it/s]"
     ]
    },
    {
     "name": "stderr",
     "output_type": "stream",
     "text": [
      "\r",
      "loading hamiltonians:  40%|███▉      | 2614/6561 [00:45<01:06, 59.38it/s]"
     ]
    },
    {
     "name": "stderr",
     "output_type": "stream",
     "text": [
      "\r",
      "loading hamiltonians:  40%|███▉      | 2621/6561 [00:45<01:04, 61.49it/s]"
     ]
    },
    {
     "name": "stderr",
     "output_type": "stream",
     "text": [
      "\r",
      "loading hamiltonians:  40%|████      | 2630/6561 [00:45<00:58, 67.24it/s]"
     ]
    },
    {
     "name": "stderr",
     "output_type": "stream",
     "text": [
      "\r",
      "loading hamiltonians:  40%|████      | 2638/6561 [00:45<00:56, 69.10it/s]"
     ]
    },
    {
     "name": "stderr",
     "output_type": "stream",
     "text": [
      "\r",
      "loading hamiltonians:  40%|████      | 2646/6561 [00:47<03:29, 18.64it/s]"
     ]
    },
    {
     "name": "stderr",
     "output_type": "stream",
     "text": [
      "\r",
      "loading hamiltonians:  40%|████      | 2655/6561 [00:47<02:39, 24.41it/s]"
     ]
    },
    {
     "name": "stderr",
     "output_type": "stream",
     "text": [
      "\r",
      "loading hamiltonians:  41%|████      | 2662/6561 [00:47<02:11, 29.68it/s]"
     ]
    },
    {
     "name": "stderr",
     "output_type": "stream",
     "text": [
      "\r",
      "loading hamiltonians:  41%|████      | 2669/6561 [00:47<01:52, 34.47it/s]"
     ]
    },
    {
     "name": "stderr",
     "output_type": "stream",
     "text": [
      "\r",
      "loading hamiltonians:  41%|████      | 2675/6561 [00:47<01:40, 38.77it/s]"
     ]
    },
    {
     "name": "stderr",
     "output_type": "stream",
     "text": [
      "\r",
      "loading hamiltonians:  41%|████      | 2682/6561 [00:47<01:27, 44.51it/s]"
     ]
    },
    {
     "name": "stderr",
     "output_type": "stream",
     "text": [
      "\r",
      "loading hamiltonians:  41%|████      | 2689/6561 [00:47<01:19, 48.76it/s]"
     ]
    },
    {
     "name": "stderr",
     "output_type": "stream",
     "text": [
      "\r",
      "loading hamiltonians:  41%|████      | 2696/6561 [00:47<01:21, 47.69it/s]"
     ]
    },
    {
     "name": "stderr",
     "output_type": "stream",
     "text": [
      "\r",
      "loading hamiltonians:  41%|████      | 2705/6561 [00:48<01:10, 54.68it/s]"
     ]
    },
    {
     "name": "stderr",
     "output_type": "stream",
     "text": [
      "\r",
      "loading hamiltonians:  41%|████▏     | 2712/6561 [00:48<01:09, 55.20it/s]"
     ]
    },
    {
     "name": "stderr",
     "output_type": "stream",
     "text": [
      "\r",
      "loading hamiltonians:  41%|████▏     | 2719/6561 [00:48<01:09, 55.34it/s]"
     ]
    },
    {
     "name": "stderr",
     "output_type": "stream",
     "text": [
      "\r",
      "loading hamiltonians:  42%|████▏     | 2726/6561 [00:48<01:23, 45.74it/s]"
     ]
    },
    {
     "name": "stderr",
     "output_type": "stream",
     "text": [
      "\r",
      "loading hamiltonians:  42%|████▏     | 2732/6561 [00:48<01:18, 48.57it/s]"
     ]
    },
    {
     "name": "stderr",
     "output_type": "stream",
     "text": [
      "\r",
      "loading hamiltonians:  42%|████▏     | 2738/6561 [00:48<01:18, 48.53it/s]"
     ]
    },
    {
     "name": "stderr",
     "output_type": "stream",
     "text": [
      "\r",
      "loading hamiltonians:  42%|████▏     | 2748/6561 [00:48<01:06, 57.06it/s]"
     ]
    },
    {
     "name": "stderr",
     "output_type": "stream",
     "text": [
      "\r",
      "loading hamiltonians:  42%|████▏     | 2758/6561 [00:48<01:01, 61.88it/s]"
     ]
    },
    {
     "name": "stderr",
     "output_type": "stream",
     "text": [
      "\r",
      "loading hamiltonians:  42%|████▏     | 2767/6561 [00:49<00:56, 67.67it/s]"
     ]
    },
    {
     "name": "stderr",
     "output_type": "stream",
     "text": [
      "\r",
      "loading hamiltonians:  42%|████▏     | 2775/6561 [00:49<00:58, 65.03it/s]"
     ]
    },
    {
     "name": "stderr",
     "output_type": "stream",
     "text": [
      "\r",
      "loading hamiltonians:  42%|████▏     | 2782/6561 [00:49<00:59, 63.50it/s]"
     ]
    },
    {
     "name": "stderr",
     "output_type": "stream",
     "text": [
      "\r",
      "loading hamiltonians:  43%|████▎     | 2789/6561 [00:49<01:02, 59.93it/s]"
     ]
    },
    {
     "name": "stderr",
     "output_type": "stream",
     "text": [
      "\r",
      "loading hamiltonians:  43%|████▎     | 2796/6561 [00:49<01:01, 60.92it/s]"
     ]
    },
    {
     "name": "stderr",
     "output_type": "stream",
     "text": [
      "\r",
      "loading hamiltonians:  43%|████▎     | 2803/6561 [00:49<01:00, 62.51it/s]"
     ]
    },
    {
     "name": "stderr",
     "output_type": "stream",
     "text": [
      "\r",
      "loading hamiltonians:  43%|████▎     | 2810/6561 [00:49<00:59, 62.56it/s]"
     ]
    },
    {
     "name": "stderr",
     "output_type": "stream",
     "text": [
      "\r",
      "loading hamiltonians:  43%|████▎     | 2817/6561 [00:49<01:01, 60.60it/s]"
     ]
    },
    {
     "name": "stderr",
     "output_type": "stream",
     "text": [
      "\r",
      "loading hamiltonians:  43%|████▎     | 2824/6561 [00:49<01:01, 61.09it/s]"
     ]
    },
    {
     "name": "stderr",
     "output_type": "stream",
     "text": [
      "\r",
      "loading hamiltonians:  43%|████▎     | 2831/6561 [00:50<01:00, 61.44it/s]"
     ]
    },
    {
     "name": "stderr",
     "output_type": "stream",
     "text": [
      "\r",
      "loading hamiltonians:  43%|████▎     | 2838/6561 [00:50<01:01, 60.38it/s]"
     ]
    },
    {
     "name": "stderr",
     "output_type": "stream",
     "text": [
      "\r",
      "loading hamiltonians:  43%|████▎     | 2845/6561 [00:50<01:03, 58.84it/s]"
     ]
    },
    {
     "name": "stderr",
     "output_type": "stream",
     "text": [
      "\r",
      "loading hamiltonians:  43%|████▎     | 2851/6561 [00:50<01:03, 58.47it/s]"
     ]
    },
    {
     "name": "stderr",
     "output_type": "stream",
     "text": [
      "\r",
      "loading hamiltonians:  44%|████▎     | 2859/6561 [00:50<01:01, 60.33it/s]"
     ]
    },
    {
     "name": "stderr",
     "output_type": "stream",
     "text": [
      "\r",
      "loading hamiltonians:  44%|████▎     | 2866/6561 [00:50<00:59, 62.43it/s]"
     ]
    },
    {
     "name": "stderr",
     "output_type": "stream",
     "text": [
      "\r",
      "loading hamiltonians:  44%|████▍     | 2873/6561 [00:50<00:58, 62.57it/s]"
     ]
    },
    {
     "name": "stderr",
     "output_type": "stream",
     "text": [
      "\r",
      "loading hamiltonians:  44%|████▍     | 2880/6561 [00:50<01:02, 59.30it/s]"
     ]
    },
    {
     "name": "stderr",
     "output_type": "stream",
     "text": [
      "\r",
      "loading hamiltonians:  44%|████▍     | 2887/6561 [00:51<01:01, 60.10it/s]"
     ]
    },
    {
     "name": "stderr",
     "output_type": "stream",
     "text": [
      "\r",
      "loading hamiltonians:  44%|████▍     | 2894/6561 [00:51<01:00, 60.33it/s]"
     ]
    },
    {
     "name": "stderr",
     "output_type": "stream",
     "text": [
      "\r",
      "loading hamiltonians:  44%|████▍     | 2901/6561 [00:51<00:58, 62.51it/s]"
     ]
    },
    {
     "name": "stderr",
     "output_type": "stream",
     "text": [
      "\r",
      "loading hamiltonians:  44%|████▍     | 2908/6561 [00:51<00:57, 63.90it/s]"
     ]
    },
    {
     "name": "stderr",
     "output_type": "stream",
     "text": [
      "\r",
      "loading hamiltonians:  44%|████▍     | 2915/6561 [00:51<00:59, 61.12it/s]"
     ]
    },
    {
     "name": "stderr",
     "output_type": "stream",
     "text": [
      "\r",
      "loading hamiltonians:  45%|████▍     | 2922/6561 [00:51<00:59, 60.68it/s]"
     ]
    },
    {
     "name": "stderr",
     "output_type": "stream",
     "text": [
      "\r",
      "loading hamiltonians:  45%|████▍     | 2929/6561 [00:51<01:01, 58.73it/s]"
     ]
    },
    {
     "name": "stderr",
     "output_type": "stream",
     "text": [
      "\r",
      "loading hamiltonians:  45%|████▍     | 2940/6561 [00:51<00:53, 67.56it/s]"
     ]
    },
    {
     "name": "stderr",
     "output_type": "stream",
     "text": [
      "\r",
      "loading hamiltonians:  45%|████▍     | 2948/6561 [00:51<00:53, 67.84it/s]"
     ]
    },
    {
     "name": "stderr",
     "output_type": "stream",
     "text": [
      "\r",
      "loading hamiltonians:  45%|████▌     | 2956/6561 [00:52<00:51, 69.41it/s]"
     ]
    },
    {
     "name": "stderr",
     "output_type": "stream",
     "text": [
      "\r",
      "loading hamiltonians:  45%|████▌     | 2964/6561 [00:52<00:52, 68.53it/s]"
     ]
    },
    {
     "name": "stderr",
     "output_type": "stream",
     "text": [
      "\r",
      "loading hamiltonians:  45%|████▌     | 2972/6561 [00:52<00:58, 61.19it/s]"
     ]
    },
    {
     "name": "stderr",
     "output_type": "stream",
     "text": [
      "\r",
      "loading hamiltonians:  45%|████▌     | 2981/6561 [00:52<00:55, 65.07it/s]"
     ]
    },
    {
     "name": "stderr",
     "output_type": "stream",
     "text": [
      "\r",
      "loading hamiltonians:  46%|████▌     | 2988/6561 [00:52<00:57, 61.84it/s]"
     ]
    },
    {
     "name": "stderr",
     "output_type": "stream",
     "text": [
      "\r",
      "loading hamiltonians:  46%|████▌     | 2995/6561 [00:52<00:57, 62.53it/s]"
     ]
    },
    {
     "name": "stderr",
     "output_type": "stream",
     "text": [
      "\r",
      "loading hamiltonians:  46%|████▌     | 3002/6561 [00:52<00:58, 60.60it/s]"
     ]
    },
    {
     "name": "stderr",
     "output_type": "stream",
     "text": [
      "\r",
      "loading hamiltonians:  46%|████▌     | 3009/6561 [00:52<00:57, 61.62it/s]"
     ]
    },
    {
     "name": "stderr",
     "output_type": "stream",
     "text": [
      "\r",
      "loading hamiltonians:  46%|████▌     | 3016/6561 [00:53<00:56, 62.68it/s]"
     ]
    },
    {
     "name": "stderr",
     "output_type": "stream",
     "text": [
      "\r",
      "loading hamiltonians:  46%|████▌     | 3023/6561 [00:53<01:03, 55.48it/s]"
     ]
    },
    {
     "name": "stderr",
     "output_type": "stream",
     "text": [
      "\r",
      "loading hamiltonians:  46%|████▌     | 3030/6561 [00:53<01:00, 58.36it/s]"
     ]
    },
    {
     "name": "stderr",
     "output_type": "stream",
     "text": [
      "\r",
      "loading hamiltonians:  46%|████▋     | 3037/6561 [00:53<01:11, 49.13it/s]"
     ]
    },
    {
     "name": "stderr",
     "output_type": "stream",
     "text": [
      "\r",
      "loading hamiltonians:  46%|████▋     | 3043/6561 [00:53<01:09, 50.76it/s]"
     ]
    },
    {
     "name": "stderr",
     "output_type": "stream",
     "text": [
      "\r",
      "loading hamiltonians:  46%|████▋     | 3049/6561 [00:53<01:06, 52.84it/s]"
     ]
    },
    {
     "name": "stderr",
     "output_type": "stream",
     "text": [
      "\r",
      "loading hamiltonians:  47%|████▋     | 3056/6561 [00:53<01:02, 56.22it/s]"
     ]
    },
    {
     "name": "stderr",
     "output_type": "stream",
     "text": [
      "\r",
      "loading hamiltonians:  47%|████▋     | 3062/6561 [00:53<01:01, 57.02it/s]"
     ]
    },
    {
     "name": "stderr",
     "output_type": "stream",
     "text": [
      "\r",
      "loading hamiltonians:  47%|████▋     | 3070/6561 [00:54<00:57, 61.17it/s]"
     ]
    },
    {
     "name": "stderr",
     "output_type": "stream",
     "text": [
      "\r",
      "loading hamiltonians:  47%|████▋     | 3077/6561 [00:54<00:58, 59.58it/s]"
     ]
    },
    {
     "name": "stderr",
     "output_type": "stream",
     "text": [
      "\r",
      "loading hamiltonians:  47%|████▋     | 3084/6561 [00:54<00:59, 58.37it/s]"
     ]
    },
    {
     "name": "stderr",
     "output_type": "stream",
     "text": [
      "\r",
      "loading hamiltonians:  47%|████▋     | 3090/6561 [00:54<01:02, 55.79it/s]"
     ]
    },
    {
     "name": "stderr",
     "output_type": "stream",
     "text": [
      "\r",
      "loading hamiltonians:  47%|████▋     | 3097/6561 [00:54<00:59, 58.04it/s]"
     ]
    },
    {
     "name": "stderr",
     "output_type": "stream",
     "text": [
      "\r",
      "loading hamiltonians:  47%|████▋     | 3104/6561 [00:54<00:58, 58.61it/s]"
     ]
    },
    {
     "name": "stderr",
     "output_type": "stream",
     "text": [
      "\r",
      "loading hamiltonians:  47%|████▋     | 3112/6561 [00:54<00:57, 60.45it/s]"
     ]
    },
    {
     "name": "stderr",
     "output_type": "stream",
     "text": [
      "\r",
      "loading hamiltonians:  48%|████▊     | 3121/6561 [00:54<00:51, 66.28it/s]"
     ]
    },
    {
     "name": "stderr",
     "output_type": "stream",
     "text": [
      "\r",
      "loading hamiltonians:  48%|████▊     | 3129/6561 [00:54<00:49, 68.83it/s]"
     ]
    },
    {
     "name": "stderr",
     "output_type": "stream",
     "text": [
      "\r",
      "loading hamiltonians:  48%|████▊     | 3137/6561 [00:55<00:49, 68.78it/s]"
     ]
    },
    {
     "name": "stderr",
     "output_type": "stream",
     "text": [
      "\r",
      "loading hamiltonians:  48%|████▊     | 3144/6561 [00:55<00:54, 62.94it/s]"
     ]
    },
    {
     "name": "stderr",
     "output_type": "stream",
     "text": [
      "\r",
      "loading hamiltonians:  48%|████▊     | 3151/6561 [00:55<00:55, 61.12it/s]"
     ]
    },
    {
     "name": "stderr",
     "output_type": "stream",
     "text": [
      "\r",
      "loading hamiltonians:  48%|████▊     | 3158/6561 [00:55<00:57, 59.10it/s]"
     ]
    },
    {
     "name": "stderr",
     "output_type": "stream",
     "text": [
      "\r",
      "loading hamiltonians:  48%|████▊     | 3165/6561 [00:55<01:01, 54.78it/s]"
     ]
    },
    {
     "name": "stderr",
     "output_type": "stream",
     "text": [
      "\r",
      "loading hamiltonians:  48%|████▊     | 3172/6561 [00:55<00:59, 57.05it/s]"
     ]
    },
    {
     "name": "stderr",
     "output_type": "stream",
     "text": [
      "\r",
      "loading hamiltonians:  48%|████▊     | 3178/6561 [00:55<00:58, 57.85it/s]"
     ]
    },
    {
     "name": "stderr",
     "output_type": "stream",
     "text": [
      "\r",
      "loading hamiltonians:  49%|████▊     | 3185/6561 [00:55<00:56, 59.40it/s]"
     ]
    },
    {
     "name": "stderr",
     "output_type": "stream",
     "text": [
      "\r",
      "loading hamiltonians:  49%|████▊     | 3194/6561 [00:56<00:53, 63.02it/s]"
     ]
    },
    {
     "name": "stderr",
     "output_type": "stream",
     "text": [
      "\r",
      "loading hamiltonians:  49%|████▉     | 3201/6561 [00:56<00:54, 61.44it/s]"
     ]
    },
    {
     "name": "stderr",
     "output_type": "stream",
     "text": [
      "\r",
      "loading hamiltonians:  49%|████▉     | 3208/6561 [00:56<00:59, 56.12it/s]"
     ]
    },
    {
     "name": "stderr",
     "output_type": "stream",
     "text": [
      "\r",
      "loading hamiltonians:  49%|████▉     | 3214/6561 [00:56<00:59, 56.69it/s]"
     ]
    },
    {
     "name": "stderr",
     "output_type": "stream",
     "text": [
      "\r",
      "loading hamiltonians:  49%|████▉     | 3221/6561 [00:56<00:56, 58.86it/s]"
     ]
    },
    {
     "name": "stderr",
     "output_type": "stream",
     "text": [
      "\r",
      "loading hamiltonians:  49%|████▉     | 3229/6561 [00:56<00:52, 63.27it/s]"
     ]
    },
    {
     "name": "stderr",
     "output_type": "stream",
     "text": [
      "\r",
      "loading hamiltonians:  49%|████▉     | 3236/6561 [00:56<00:51, 65.11it/s]"
     ]
    },
    {
     "name": "stderr",
     "output_type": "stream",
     "text": [
      "\r",
      "loading hamiltonians:  49%|████▉     | 3243/6561 [00:56<00:55, 60.20it/s]"
     ]
    },
    {
     "name": "stderr",
     "output_type": "stream",
     "text": [
      "\r",
      "loading hamiltonians:  50%|████▉     | 3251/6561 [00:56<00:51, 64.33it/s]"
     ]
    },
    {
     "name": "stderr",
     "output_type": "stream",
     "text": [
      "\r",
      "loading hamiltonians:  50%|████▉     | 3258/6561 [00:57<00:51, 64.59it/s]"
     ]
    },
    {
     "name": "stderr",
     "output_type": "stream",
     "text": [
      "\r",
      "loading hamiltonians:  50%|████▉     | 3265/6561 [00:57<00:50, 64.84it/s]"
     ]
    },
    {
     "name": "stderr",
     "output_type": "stream",
     "text": [
      "\r",
      "loading hamiltonians:  50%|████▉     | 3273/6561 [00:57<00:48, 67.68it/s]"
     ]
    },
    {
     "name": "stderr",
     "output_type": "stream",
     "text": [
      "\r",
      "loading hamiltonians:  50%|████▉     | 3280/6561 [00:57<00:48, 67.95it/s]"
     ]
    },
    {
     "name": "stderr",
     "output_type": "stream",
     "text": [
      "\r",
      "loading hamiltonians:  50%|█████     | 3288/6561 [00:57<00:46, 70.19it/s]"
     ]
    },
    {
     "name": "stderr",
     "output_type": "stream",
     "text": [
      "\r",
      "loading hamiltonians:  50%|█████     | 3296/6561 [00:57<00:51, 63.21it/s]"
     ]
    },
    {
     "name": "stderr",
     "output_type": "stream",
     "text": [
      "\r",
      "loading hamiltonians:  50%|█████     | 3303/6561 [00:57<00:50, 63.90it/s]"
     ]
    },
    {
     "name": "stderr",
     "output_type": "stream",
     "text": [
      "\r",
      "loading hamiltonians:  50%|█████     | 3312/6561 [00:57<00:47, 68.21it/s]"
     ]
    },
    {
     "name": "stderr",
     "output_type": "stream",
     "text": [
      "\r",
      "loading hamiltonians:  51%|█████     | 3319/6561 [00:57<00:47, 68.56it/s]"
     ]
    },
    {
     "name": "stderr",
     "output_type": "stream",
     "text": [
      "\r",
      "loading hamiltonians:  51%|█████     | 3326/6561 [00:58<00:48, 66.11it/s]"
     ]
    },
    {
     "name": "stderr",
     "output_type": "stream",
     "text": [
      "\r",
      "loading hamiltonians:  51%|█████     | 3333/6561 [00:58<00:52, 60.93it/s]"
     ]
    },
    {
     "name": "stderr",
     "output_type": "stream",
     "text": [
      "\r",
      "loading hamiltonians:  51%|█████     | 3340/6561 [00:58<00:51, 62.23it/s]"
     ]
    },
    {
     "name": "stderr",
     "output_type": "stream",
     "text": [
      "\r",
      "loading hamiltonians:  51%|█████     | 3347/6561 [00:58<01:07, 47.72it/s]"
     ]
    },
    {
     "name": "stderr",
     "output_type": "stream",
     "text": [
      "\r",
      "loading hamiltonians:  51%|█████     | 3355/6561 [00:58<00:59, 54.12it/s]"
     ]
    },
    {
     "name": "stderr",
     "output_type": "stream",
     "text": [
      "\r",
      "loading hamiltonians:  51%|█████▏    | 3364/6561 [00:58<00:52, 60.78it/s]"
     ]
    },
    {
     "name": "stderr",
     "output_type": "stream",
     "text": [
      "\r",
      "loading hamiltonians:  51%|█████▏    | 3373/6561 [00:58<00:47, 66.54it/s]"
     ]
    },
    {
     "name": "stderr",
     "output_type": "stream",
     "text": [
      "\r",
      "loading hamiltonians:  52%|█████▏    | 3382/6561 [00:58<00:45, 69.87it/s]"
     ]
    },
    {
     "name": "stderr",
     "output_type": "stream",
     "text": [
      "\r",
      "loading hamiltonians:  52%|█████▏    | 3390/6561 [00:59<00:45, 69.16it/s]"
     ]
    },
    {
     "name": "stderr",
     "output_type": "stream",
     "text": [
      "\r",
      "loading hamiltonians:  52%|█████▏    | 3398/6561 [00:59<00:48, 64.68it/s]"
     ]
    },
    {
     "name": "stderr",
     "output_type": "stream",
     "text": [
      "\r",
      "loading hamiltonians:  52%|█████▏    | 3406/6561 [00:59<00:47, 66.70it/s]"
     ]
    },
    {
     "name": "stderr",
     "output_type": "stream",
     "text": [
      "\r",
      "loading hamiltonians:  52%|█████▏    | 3413/6561 [00:59<00:47, 66.90it/s]"
     ]
    },
    {
     "name": "stderr",
     "output_type": "stream",
     "text": [
      "\r",
      "loading hamiltonians:  52%|█████▏    | 3424/6561 [00:59<00:42, 73.54it/s]"
     ]
    },
    {
     "name": "stderr",
     "output_type": "stream",
     "text": [
      "\r",
      "loading hamiltonians:  52%|█████▏    | 3432/6561 [00:59<00:43, 72.63it/s]"
     ]
    },
    {
     "name": "stderr",
     "output_type": "stream",
     "text": [
      "\r",
      "loading hamiltonians:  52%|█████▏    | 3440/6561 [00:59<00:46, 67.85it/s]"
     ]
    },
    {
     "name": "stderr",
     "output_type": "stream",
     "text": [
      "\r",
      "loading hamiltonians:  53%|█████▎    | 3448/6561 [01:01<03:27, 15.03it/s]"
     ]
    },
    {
     "name": "stderr",
     "output_type": "stream",
     "text": [
      "\r",
      "loading hamiltonians:  53%|█████▎    | 3458/6561 [01:01<02:34, 20.09it/s]"
     ]
    },
    {
     "name": "stderr",
     "output_type": "stream",
     "text": [
      "\r",
      "loading hamiltonians:  53%|█████▎    | 3467/6561 [01:01<01:59, 25.87it/s]"
     ]
    },
    {
     "name": "stderr",
     "output_type": "stream",
     "text": [
      "\r",
      "loading hamiltonians:  53%|█████▎    | 3474/6561 [01:01<01:37, 31.79it/s]"
     ]
    },
    {
     "name": "stderr",
     "output_type": "stream",
     "text": [
      "\r",
      "loading hamiltonians:  53%|█████▎    | 3481/6561 [01:01<01:21, 37.84it/s]"
     ]
    },
    {
     "name": "stderr",
     "output_type": "stream",
     "text": [
      "\r",
      "loading hamiltonians:  53%|█████▎    | 3488/6561 [01:01<01:10, 43.30it/s]"
     ]
    },
    {
     "name": "stderr",
     "output_type": "stream",
     "text": [
      "\r",
      "loading hamiltonians:  53%|█████▎    | 3495/6561 [01:01<01:07, 45.50it/s]"
     ]
    },
    {
     "name": "stderr",
     "output_type": "stream",
     "text": [
      "\r",
      "loading hamiltonians:  53%|█████▎    | 3504/6561 [01:02<00:57, 53.04it/s]"
     ]
    },
    {
     "name": "stderr",
     "output_type": "stream",
     "text": [
      "\r",
      "loading hamiltonians:  54%|█████▎    | 3512/6561 [01:02<00:52, 57.99it/s]"
     ]
    },
    {
     "name": "stderr",
     "output_type": "stream",
     "text": [
      "\r",
      "loading hamiltonians:  54%|█████▎    | 3520/6561 [01:02<00:54, 55.43it/s]"
     ]
    },
    {
     "name": "stderr",
     "output_type": "stream",
     "text": [
      "\r",
      "loading hamiltonians:  54%|█████▍    | 3527/6561 [01:02<00:52, 57.60it/s]"
     ]
    },
    {
     "name": "stderr",
     "output_type": "stream",
     "text": [
      "\r",
      "loading hamiltonians:  54%|█████▍    | 3535/6561 [01:02<00:49, 60.77it/s]"
     ]
    },
    {
     "name": "stderr",
     "output_type": "stream",
     "text": [
      "\r",
      "loading hamiltonians:  54%|█████▍    | 3542/6561 [01:02<00:49, 60.81it/s]"
     ]
    },
    {
     "name": "stderr",
     "output_type": "stream",
     "text": [
      "\r",
      "loading hamiltonians:  54%|█████▍    | 3549/6561 [01:02<00:47, 62.99it/s]"
     ]
    },
    {
     "name": "stderr",
     "output_type": "stream",
     "text": [
      "\r",
      "loading hamiltonians:  54%|█████▍    | 3556/6561 [01:02<00:48, 61.97it/s]"
     ]
    },
    {
     "name": "stderr",
     "output_type": "stream",
     "text": [
      "\r",
      "loading hamiltonians:  54%|█████▍    | 3563/6561 [01:03<00:47, 62.47it/s]"
     ]
    },
    {
     "name": "stderr",
     "output_type": "stream",
     "text": [
      "\r",
      "loading hamiltonians:  54%|█████▍    | 3570/6561 [01:03<00:47, 62.86it/s]"
     ]
    },
    {
     "name": "stderr",
     "output_type": "stream",
     "text": [
      "\r",
      "loading hamiltonians:  55%|█████▍    | 3577/6561 [01:03<00:47, 63.34it/s]"
     ]
    },
    {
     "name": "stderr",
     "output_type": "stream",
     "text": [
      "\r",
      "loading hamiltonians:  55%|█████▍    | 3584/6561 [01:03<00:49, 60.50it/s]"
     ]
    },
    {
     "name": "stderr",
     "output_type": "stream",
     "text": [
      "\r",
      "loading hamiltonians:  55%|█████▍    | 3591/6561 [01:03<01:00, 49.31it/s]"
     ]
    },
    {
     "name": "stderr",
     "output_type": "stream",
     "text": [
      "\r",
      "loading hamiltonians:  55%|█████▍    | 3597/6561 [01:03<00:58, 50.84it/s]"
     ]
    },
    {
     "name": "stderr",
     "output_type": "stream",
     "text": [
      "\r",
      "loading hamiltonians:  55%|█████▍    | 3606/6561 [01:03<00:51, 57.34it/s]"
     ]
    },
    {
     "name": "stderr",
     "output_type": "stream",
     "text": [
      "\r",
      "loading hamiltonians:  55%|█████▌    | 3614/6561 [01:03<00:48, 60.29it/s]"
     ]
    },
    {
     "name": "stderr",
     "output_type": "stream",
     "text": [
      "\r",
      "loading hamiltonians:  55%|█████▌    | 3621/6561 [01:04<00:46, 62.56it/s]"
     ]
    },
    {
     "name": "stderr",
     "output_type": "stream",
     "text": [
      "\r",
      "loading hamiltonians:  55%|█████▌    | 3628/6561 [01:04<00:49, 59.38it/s]"
     ]
    },
    {
     "name": "stderr",
     "output_type": "stream",
     "text": [
      "\r",
      "loading hamiltonians:  55%|█████▌    | 3635/6561 [01:04<00:48, 59.85it/s]"
     ]
    },
    {
     "name": "stderr",
     "output_type": "stream",
     "text": [
      "\r",
      "loading hamiltonians:  56%|█████▌    | 3642/6561 [01:04<00:47, 61.41it/s]"
     ]
    },
    {
     "name": "stderr",
     "output_type": "stream",
     "text": [
      "\r",
      "loading hamiltonians:  56%|█████▌    | 3649/6561 [01:04<00:49, 59.25it/s]"
     ]
    },
    {
     "name": "stderr",
     "output_type": "stream",
     "text": [
      "\r",
      "loading hamiltonians:  56%|█████▌    | 3657/6561 [01:04<00:47, 61.64it/s]"
     ]
    },
    {
     "name": "stderr",
     "output_type": "stream",
     "text": [
      "\r",
      "loading hamiltonians:  56%|█████▌    | 3664/6561 [01:04<00:46, 62.31it/s]"
     ]
    },
    {
     "name": "stderr",
     "output_type": "stream",
     "text": [
      "\r",
      "loading hamiltonians:  56%|█████▌    | 3671/6561 [01:04<00:45, 62.94it/s]"
     ]
    },
    {
     "name": "stderr",
     "output_type": "stream",
     "text": [
      "\r",
      "loading hamiltonians:  56%|█████▌    | 3678/6561 [01:04<00:47, 60.56it/s]"
     ]
    },
    {
     "name": "stderr",
     "output_type": "stream",
     "text": [
      "\r",
      "loading hamiltonians:  56%|█████▌    | 3685/6561 [01:05<00:52, 55.13it/s]"
     ]
    },
    {
     "name": "stderr",
     "output_type": "stream",
     "text": [
      "\r",
      "loading hamiltonians:  56%|█████▋    | 3691/6561 [01:05<00:51, 55.77it/s]"
     ]
    },
    {
     "name": "stderr",
     "output_type": "stream",
     "text": [
      "\r",
      "loading hamiltonians:  56%|█████▋    | 3697/6561 [01:05<00:50, 56.78it/s]"
     ]
    },
    {
     "name": "stderr",
     "output_type": "stream",
     "text": [
      "\r",
      "loading hamiltonians:  56%|█████▋    | 3703/6561 [01:05<00:49, 57.51it/s]"
     ]
    },
    {
     "name": "stderr",
     "output_type": "stream",
     "text": [
      "\r",
      "loading hamiltonians:  57%|█████▋    | 3711/6561 [01:05<00:46, 60.95it/s]"
     ]
    },
    {
     "name": "stderr",
     "output_type": "stream",
     "text": [
      "\r",
      "loading hamiltonians:  57%|█████▋    | 3718/6561 [01:05<00:46, 61.57it/s]"
     ]
    },
    {
     "name": "stderr",
     "output_type": "stream",
     "text": [
      "\r",
      "loading hamiltonians:  57%|█████▋    | 3725/6561 [01:05<00:47, 59.73it/s]"
     ]
    },
    {
     "name": "stderr",
     "output_type": "stream",
     "text": [
      "\r",
      "loading hamiltonians:  57%|█████▋    | 3732/6561 [01:05<00:48, 58.51it/s]"
     ]
    },
    {
     "name": "stderr",
     "output_type": "stream",
     "text": [
      "\r",
      "loading hamiltonians:  57%|█████▋    | 3738/6561 [01:06<00:48, 58.25it/s]"
     ]
    },
    {
     "name": "stderr",
     "output_type": "stream",
     "text": [
      "\r",
      "loading hamiltonians:  57%|█████▋    | 3745/6561 [01:06<00:46, 60.68it/s]"
     ]
    },
    {
     "name": "stderr",
     "output_type": "stream",
     "text": [
      "\r",
      "loading hamiltonians:  57%|█████▋    | 3752/6561 [01:06<00:47, 58.56it/s]"
     ]
    },
    {
     "name": "stderr",
     "output_type": "stream",
     "text": [
      "\r",
      "loading hamiltonians:  57%|█████▋    | 3759/6561 [01:06<00:45, 61.02it/s]"
     ]
    },
    {
     "name": "stderr",
     "output_type": "stream",
     "text": [
      "\r",
      "loading hamiltonians:  57%|█████▋    | 3768/6561 [01:06<00:41, 66.57it/s]"
     ]
    },
    {
     "name": "stderr",
     "output_type": "stream",
     "text": [
      "\r",
      "loading hamiltonians:  58%|█████▊    | 3775/6561 [01:06<00:42, 64.90it/s]"
     ]
    },
    {
     "name": "stderr",
     "output_type": "stream",
     "text": [
      "\r",
      "loading hamiltonians:  58%|█████▊    | 3782/6561 [01:06<00:41, 66.22it/s]"
     ]
    },
    {
     "name": "stderr",
     "output_type": "stream",
     "text": [
      "\r",
      "loading hamiltonians:  58%|█████▊    | 3790/6561 [01:06<00:41, 67.27it/s]"
     ]
    },
    {
     "name": "stderr",
     "output_type": "stream",
     "text": [
      "\r",
      "loading hamiltonians:  58%|█████▊    | 3797/6561 [01:06<00:41, 66.03it/s]"
     ]
    },
    {
     "name": "stderr",
     "output_type": "stream",
     "text": [
      "\r",
      "loading hamiltonians:  58%|█████▊    | 3805/6561 [01:06<00:40, 68.14it/s]"
     ]
    },
    {
     "name": "stderr",
     "output_type": "stream",
     "text": [
      "\r",
      "loading hamiltonians:  58%|█████▊    | 3812/6561 [01:07<00:42, 65.21it/s]"
     ]
    },
    {
     "name": "stderr",
     "output_type": "stream",
     "text": [
      "\r",
      "loading hamiltonians:  58%|█████▊    | 3819/6561 [01:07<00:46, 59.26it/s]"
     ]
    },
    {
     "name": "stderr",
     "output_type": "stream",
     "text": [
      "\r",
      "loading hamiltonians:  58%|█████▊    | 3826/6561 [01:07<00:47, 57.02it/s]"
     ]
    },
    {
     "name": "stderr",
     "output_type": "stream",
     "text": [
      "\r",
      "loading hamiltonians:  58%|█████▊    | 3832/6561 [01:07<00:48, 56.67it/s]"
     ]
    },
    {
     "name": "stderr",
     "output_type": "stream",
     "text": [
      "\r",
      "loading hamiltonians:  59%|█████▊    | 3839/6561 [01:07<00:46, 58.72it/s]"
     ]
    },
    {
     "name": "stderr",
     "output_type": "stream",
     "text": [
      "\r",
      "loading hamiltonians:  59%|█████▊    | 3846/6561 [01:07<00:46, 58.57it/s]"
     ]
    },
    {
     "name": "stderr",
     "output_type": "stream",
     "text": [
      "\r",
      "loading hamiltonians:  59%|█████▉    | 3855/6561 [01:07<00:42, 63.60it/s]"
     ]
    },
    {
     "name": "stderr",
     "output_type": "stream",
     "text": [
      "\r",
      "loading hamiltonians:  59%|█████▉    | 3862/6561 [01:07<00:42, 63.85it/s]"
     ]
    },
    {
     "name": "stderr",
     "output_type": "stream",
     "text": [
      "\r",
      "loading hamiltonians:  59%|█████▉    | 3869/6561 [01:08<00:41, 64.19it/s]"
     ]
    },
    {
     "name": "stderr",
     "output_type": "stream",
     "text": [
      "\r",
      "loading hamiltonians:  59%|█████▉    | 3876/6561 [01:08<00:42, 62.62it/s]"
     ]
    },
    {
     "name": "stderr",
     "output_type": "stream",
     "text": [
      "\r",
      "loading hamiltonians:  59%|█████▉    | 3883/6561 [01:08<00:42, 63.66it/s]"
     ]
    },
    {
     "name": "stderr",
     "output_type": "stream",
     "text": [
      "\r",
      "loading hamiltonians:  59%|█████▉    | 3890/6561 [01:08<00:41, 65.04it/s]"
     ]
    },
    {
     "name": "stderr",
     "output_type": "stream",
     "text": [
      "\r",
      "loading hamiltonians:  59%|█████▉    | 3898/6561 [01:08<00:39, 67.65it/s]"
     ]
    },
    {
     "name": "stderr",
     "output_type": "stream",
     "text": [
      "\r",
      "loading hamiltonians:  60%|█████▉    | 3905/6561 [01:08<00:57, 46.31it/s]"
     ]
    },
    {
     "name": "stderr",
     "output_type": "stream",
     "text": [
      "\r",
      "loading hamiltonians:  60%|█████▉    | 3911/6561 [01:08<00:55, 47.38it/s]"
     ]
    },
    {
     "name": "stderr",
     "output_type": "stream",
     "text": [
      "\r",
      "loading hamiltonians:  60%|█████▉    | 3920/6561 [01:08<00:49, 53.74it/s]"
     ]
    },
    {
     "name": "stderr",
     "output_type": "stream",
     "text": [
      "\r",
      "loading hamiltonians:  60%|█████▉    | 3927/6561 [01:09<00:48, 54.38it/s]"
     ]
    },
    {
     "name": "stderr",
     "output_type": "stream",
     "text": [
      "\r",
      "loading hamiltonians:  60%|█████▉    | 3933/6561 [01:09<00:48, 53.97it/s]"
     ]
    },
    {
     "name": "stderr",
     "output_type": "stream",
     "text": [
      "\r",
      "loading hamiltonians:  60%|██████    | 3939/6561 [01:09<00:47, 54.73it/s]"
     ]
    },
    {
     "name": "stderr",
     "output_type": "stream",
     "text": [
      "\r",
      "loading hamiltonians:  60%|██████    | 3945/6561 [01:09<00:49, 52.89it/s]"
     ]
    },
    {
     "name": "stderr",
     "output_type": "stream",
     "text": [
      "\r",
      "loading hamiltonians:  60%|██████    | 3952/6561 [01:09<00:47, 54.42it/s]"
     ]
    },
    {
     "name": "stderr",
     "output_type": "stream",
     "text": [
      "\r",
      "loading hamiltonians:  60%|██████    | 3958/6561 [01:09<00:48, 53.56it/s]"
     ]
    },
    {
     "name": "stderr",
     "output_type": "stream",
     "text": [
      "\r",
      "loading hamiltonians:  60%|██████    | 3968/6561 [01:09<00:42, 61.53it/s]"
     ]
    },
    {
     "name": "stderr",
     "output_type": "stream",
     "text": [
      "\r",
      "loading hamiltonians:  61%|██████    | 3977/6561 [01:09<00:38, 67.48it/s]"
     ]
    },
    {
     "name": "stderr",
     "output_type": "stream",
     "text": [
      "\r",
      "loading hamiltonians:  61%|██████    | 3985/6561 [01:10<00:38, 66.73it/s]"
     ]
    },
    {
     "name": "stderr",
     "output_type": "stream",
     "text": [
      "\r",
      "loading hamiltonians:  61%|██████    | 3993/6561 [01:10<00:39, 65.46it/s]"
     ]
    },
    {
     "name": "stderr",
     "output_type": "stream",
     "text": [
      "\r",
      "loading hamiltonians:  61%|██████    | 4000/6561 [01:10<00:40, 62.88it/s]"
     ]
    },
    {
     "name": "stderr",
     "output_type": "stream",
     "text": [
      "\r",
      "loading hamiltonians:  61%|██████    | 4008/6561 [01:10<00:38, 65.75it/s]"
     ]
    },
    {
     "name": "stderr",
     "output_type": "stream",
     "text": [
      "\r",
      "loading hamiltonians:  61%|██████    | 4017/6561 [01:10<00:36, 69.15it/s]"
     ]
    },
    {
     "name": "stderr",
     "output_type": "stream",
     "text": [
      "\r",
      "loading hamiltonians:  61%|██████▏   | 4025/6561 [01:10<00:38, 66.60it/s]"
     ]
    },
    {
     "name": "stderr",
     "output_type": "stream",
     "text": [
      "\r",
      "loading hamiltonians:  61%|██████▏   | 4032/6561 [01:10<00:39, 64.80it/s]"
     ]
    },
    {
     "name": "stderr",
     "output_type": "stream",
     "text": [
      "\r",
      "loading hamiltonians:  62%|██████▏   | 4039/6561 [01:10<00:39, 63.16it/s]"
     ]
    },
    {
     "name": "stderr",
     "output_type": "stream",
     "text": [
      "\r",
      "loading hamiltonians:  62%|██████▏   | 4047/6561 [01:10<00:37, 66.58it/s]"
     ]
    },
    {
     "name": "stderr",
     "output_type": "stream",
     "text": [
      "\r",
      "loading hamiltonians:  62%|██████▏   | 4054/6561 [01:11<00:38, 64.80it/s]"
     ]
    },
    {
     "name": "stderr",
     "output_type": "stream",
     "text": [
      "\r",
      "loading hamiltonians:  62%|██████▏   | 4063/6561 [01:11<00:36, 69.22it/s]"
     ]
    },
    {
     "name": "stderr",
     "output_type": "stream",
     "text": [
      "\r",
      "loading hamiltonians:  62%|██████▏   | 4071/6561 [01:11<00:35, 69.21it/s]"
     ]
    },
    {
     "name": "stderr",
     "output_type": "stream",
     "text": [
      "\r",
      "loading hamiltonians:  62%|██████▏   | 4079/6561 [01:11<00:41, 60.37it/s]"
     ]
    },
    {
     "name": "stderr",
     "output_type": "stream",
     "text": [
      "\r",
      "loading hamiltonians:  62%|██████▏   | 4086/6561 [01:11<00:41, 60.15it/s]"
     ]
    },
    {
     "name": "stderr",
     "output_type": "stream",
     "text": [
      "\r",
      "loading hamiltonians:  62%|██████▏   | 4093/6561 [01:11<00:39, 62.24it/s]"
     ]
    },
    {
     "name": "stderr",
     "output_type": "stream",
     "text": [
      "\r",
      "loading hamiltonians:  62%|██████▏   | 4100/6561 [01:11<00:42, 57.55it/s]"
     ]
    },
    {
     "name": "stderr",
     "output_type": "stream",
     "text": [
      "\r",
      "loading hamiltonians:  63%|██████▎   | 4107/6561 [01:11<00:40, 60.25it/s]"
     ]
    },
    {
     "name": "stderr",
     "output_type": "stream",
     "text": [
      "\r",
      "loading hamiltonians:  63%|██████▎   | 4115/6561 [01:12<00:39, 62.61it/s]"
     ]
    },
    {
     "name": "stderr",
     "output_type": "stream",
     "text": [
      "\r",
      "loading hamiltonians:  63%|██████▎   | 4122/6561 [01:12<00:41, 58.19it/s]"
     ]
    },
    {
     "name": "stderr",
     "output_type": "stream",
     "text": [
      "\r",
      "loading hamiltonians:  63%|██████▎   | 4129/6561 [01:12<00:40, 60.41it/s]"
     ]
    },
    {
     "name": "stderr",
     "output_type": "stream",
     "text": [
      "\r",
      "loading hamiltonians:  63%|██████▎   | 4137/6561 [01:12<00:38, 62.69it/s]"
     ]
    },
    {
     "name": "stderr",
     "output_type": "stream",
     "text": [
      "\r",
      "loading hamiltonians:  63%|██████▎   | 4144/6561 [01:12<00:41, 58.88it/s]"
     ]
    },
    {
     "name": "stderr",
     "output_type": "stream",
     "text": [
      "\r",
      "loading hamiltonians:  63%|██████▎   | 4151/6561 [01:12<00:40, 59.17it/s]"
     ]
    },
    {
     "name": "stderr",
     "output_type": "stream",
     "text": [
      "\r",
      "loading hamiltonians:  63%|██████▎   | 4160/6561 [01:12<00:37, 64.45it/s]"
     ]
    },
    {
     "name": "stderr",
     "output_type": "stream",
     "text": [
      "\r",
      "loading hamiltonians:  64%|██████▎   | 4170/6561 [01:12<00:33, 70.55it/s]"
     ]
    },
    {
     "name": "stderr",
     "output_type": "stream",
     "text": [
      "\r",
      "loading hamiltonians:  64%|██████▎   | 4178/6561 [01:13<00:34, 68.40it/s]"
     ]
    },
    {
     "name": "stderr",
     "output_type": "stream",
     "text": [
      "\r",
      "loading hamiltonians:  64%|██████▍   | 4186/6561 [01:13<00:35, 67.62it/s]"
     ]
    },
    {
     "name": "stderr",
     "output_type": "stream",
     "text": [
      "\r",
      "loading hamiltonians:  64%|██████▍   | 4193/6561 [01:13<00:37, 63.08it/s]"
     ]
    },
    {
     "name": "stderr",
     "output_type": "stream",
     "text": [
      "\r",
      "loading hamiltonians:  64%|██████▍   | 4200/6561 [01:13<00:36, 64.23it/s]"
     ]
    },
    {
     "name": "stderr",
     "output_type": "stream",
     "text": [
      "\r",
      "loading hamiltonians:  64%|██████▍   | 4207/6561 [01:13<00:38, 61.69it/s]"
     ]
    },
    {
     "name": "stderr",
     "output_type": "stream",
     "text": [
      "\r",
      "loading hamiltonians:  64%|██████▍   | 4214/6561 [01:13<00:38, 61.40it/s]"
     ]
    },
    {
     "name": "stderr",
     "output_type": "stream",
     "text": [
      "\r",
      "loading hamiltonians:  64%|██████▍   | 4221/6561 [01:13<00:45, 51.86it/s]"
     ]
    },
    {
     "name": "stderr",
     "output_type": "stream",
     "text": [
      "\r",
      "loading hamiltonians:  64%|██████▍   | 4228/6561 [01:13<00:42, 55.12it/s]"
     ]
    },
    {
     "name": "stderr",
     "output_type": "stream",
     "text": [
      "\r",
      "loading hamiltonians:  65%|██████▍   | 4235/6561 [01:14<00:39, 58.86it/s]"
     ]
    },
    {
     "name": "stderr",
     "output_type": "stream",
     "text": [
      "\r",
      "loading hamiltonians:  65%|██████▍   | 4243/6561 [01:14<00:37, 61.79it/s]"
     ]
    },
    {
     "name": "stderr",
     "output_type": "stream",
     "text": [
      "\r",
      "loading hamiltonians:  65%|██████▍   | 4251/6561 [01:14<00:36, 63.31it/s]"
     ]
    },
    {
     "name": "stderr",
     "output_type": "stream",
     "text": [
      "\r",
      "loading hamiltonians:  65%|██████▍   | 4258/6561 [01:14<00:37, 61.93it/s]"
     ]
    },
    {
     "name": "stderr",
     "output_type": "stream",
     "text": [
      "\r",
      "loading hamiltonians:  65%|██████▌   | 4266/6561 [01:14<00:34, 66.10it/s]"
     ]
    },
    {
     "name": "stderr",
     "output_type": "stream",
     "text": [
      "\r",
      "loading hamiltonians:  65%|██████▌   | 4274/6561 [01:14<00:33, 68.45it/s]"
     ]
    },
    {
     "name": "stderr",
     "output_type": "stream",
     "text": [
      "\r",
      "loading hamiltonians:  65%|██████▌   | 4281/6561 [01:14<00:33, 68.78it/s]"
     ]
    },
    {
     "name": "stderr",
     "output_type": "stream",
     "text": [
      "\r",
      "loading hamiltonians:  65%|██████▌   | 4288/6561 [01:14<00:36, 63.11it/s]"
     ]
    },
    {
     "name": "stderr",
     "output_type": "stream",
     "text": [
      "\r",
      "loading hamiltonians:  65%|██████▌   | 4295/6561 [01:14<00:36, 62.92it/s]"
     ]
    },
    {
     "name": "stderr",
     "output_type": "stream",
     "text": [
      "\r",
      "loading hamiltonians:  66%|██████▌   | 4303/6561 [01:15<00:35, 64.26it/s]"
     ]
    },
    {
     "name": "stderr",
     "output_type": "stream",
     "text": [
      "\r",
      "loading hamiltonians:  66%|██████▌   | 4311/6561 [01:15<00:32, 68.24it/s]"
     ]
    },
    {
     "name": "stderr",
     "output_type": "stream",
     "text": [
      "\r",
      "loading hamiltonians:  66%|██████▌   | 4319/6561 [01:15<00:31, 71.08it/s]"
     ]
    },
    {
     "name": "stderr",
     "output_type": "stream",
     "text": [
      "\r",
      "loading hamiltonians:  66%|██████▌   | 4327/6561 [01:15<00:32, 69.74it/s]"
     ]
    },
    {
     "name": "stderr",
     "output_type": "stream",
     "text": [
      "\r",
      "loading hamiltonians:  66%|██████▌   | 4335/6561 [01:15<00:34, 63.72it/s]"
     ]
    },
    {
     "name": "stderr",
     "output_type": "stream",
     "text": [
      "\r",
      "loading hamiltonians:  66%|██████▌   | 4342/6561 [01:15<00:34, 63.53it/s]"
     ]
    },
    {
     "name": "stderr",
     "output_type": "stream",
     "text": [
      "\r",
      "loading hamiltonians:  66%|██████▋   | 4350/6561 [01:15<00:33, 65.43it/s]"
     ]
    },
    {
     "name": "stderr",
     "output_type": "stream",
     "text": [
      "\r",
      "loading hamiltonians:  66%|██████▋   | 4358/6561 [01:15<00:33, 66.52it/s]"
     ]
    },
    {
     "name": "stderr",
     "output_type": "stream",
     "text": [
      "\r",
      "loading hamiltonians:  67%|██████▋   | 4365/6561 [01:15<00:34, 63.48it/s]"
     ]
    },
    {
     "name": "stderr",
     "output_type": "stream",
     "text": [
      "\r",
      "loading hamiltonians:  67%|██████▋   | 4372/6561 [01:16<00:34, 64.17it/s]"
     ]
    },
    {
     "name": "stderr",
     "output_type": "stream",
     "text": [
      "\r",
      "loading hamiltonians:  67%|██████▋   | 4379/6561 [01:16<00:35, 61.67it/s]"
     ]
    },
    {
     "name": "stderr",
     "output_type": "stream",
     "text": [
      "\r",
      "loading hamiltonians:  67%|██████▋   | 4386/6561 [01:16<00:34, 63.60it/s]"
     ]
    },
    {
     "name": "stderr",
     "output_type": "stream",
     "text": [
      "\r",
      "loading hamiltonians:  67%|██████▋   | 4394/6561 [01:16<00:33, 65.29it/s]"
     ]
    },
    {
     "name": "stderr",
     "output_type": "stream",
     "text": [
      "\r",
      "loading hamiltonians:  67%|██████▋   | 4401/6561 [01:16<00:34, 63.36it/s]"
     ]
    },
    {
     "name": "stderr",
     "output_type": "stream",
     "text": [
      "\r",
      "loading hamiltonians:  67%|██████▋   | 4408/6561 [01:16<00:34, 61.84it/s]"
     ]
    },
    {
     "name": "stderr",
     "output_type": "stream",
     "text": [
      "\r",
      "loading hamiltonians:  67%|██████▋   | 4415/6561 [01:16<00:34, 61.44it/s]"
     ]
    },
    {
     "name": "stderr",
     "output_type": "stream",
     "text": [
      "\r",
      "loading hamiltonians:  67%|██████▋   | 4422/6561 [01:16<00:35, 59.72it/s]"
     ]
    },
    {
     "name": "stderr",
     "output_type": "stream",
     "text": [
      "\r",
      "loading hamiltonians:  68%|██████▊   | 4429/6561 [01:17<00:37, 57.26it/s]"
     ]
    },
    {
     "name": "stderr",
     "output_type": "stream",
     "text": [
      "\r",
      "loading hamiltonians:  68%|██████▊   | 4435/6561 [01:17<00:36, 57.84it/s]"
     ]
    },
    {
     "name": "stderr",
     "output_type": "stream",
     "text": [
      "\r",
      "loading hamiltonians:  68%|██████▊   | 4442/6561 [01:17<00:35, 60.15it/s]"
     ]
    },
    {
     "name": "stderr",
     "output_type": "stream",
     "text": [
      "\r",
      "loading hamiltonians:  68%|██████▊   | 4449/6561 [01:17<00:36, 58.47it/s]"
     ]
    },
    {
     "name": "stderr",
     "output_type": "stream",
     "text": [
      "\r",
      "loading hamiltonians:  68%|██████▊   | 4455/6561 [01:17<00:35, 58.72it/s]"
     ]
    },
    {
     "name": "stderr",
     "output_type": "stream",
     "text": [
      "\r",
      "loading hamiltonians:  68%|██████▊   | 4462/6561 [01:17<00:34, 60.30it/s]"
     ]
    },
    {
     "name": "stderr",
     "output_type": "stream",
     "text": [
      "\r",
      "loading hamiltonians:  68%|██████▊   | 4469/6561 [01:17<00:33, 62.36it/s]"
     ]
    },
    {
     "name": "stderr",
     "output_type": "stream",
     "text": [
      "\r",
      "loading hamiltonians:  68%|██████▊   | 4476/6561 [01:19<03:10, 10.94it/s]"
     ]
    },
    {
     "name": "stderr",
     "output_type": "stream",
     "text": [
      "\r",
      "loading hamiltonians:  68%|██████▊   | 4484/6561 [01:19<02:21, 14.73it/s]"
     ]
    },
    {
     "name": "stderr",
     "output_type": "stream",
     "text": [
      "\r",
      "loading hamiltonians:  68%|██████▊   | 4490/6561 [01:19<01:48, 19.04it/s]"
     ]
    },
    {
     "name": "stderr",
     "output_type": "stream",
     "text": [
      "\r",
      "loading hamiltonians:  69%|██████▊   | 4499/6561 [01:19<01:23, 24.84it/s]"
     ]
    },
    {
     "name": "stderr",
     "output_type": "stream",
     "text": [
      "\r",
      "loading hamiltonians:  69%|██████▊   | 4507/6561 [01:19<01:06, 30.93it/s]"
     ]
    },
    {
     "name": "stderr",
     "output_type": "stream",
     "text": [
      "\r",
      "loading hamiltonians:  69%|██████▉   | 4514/6561 [01:20<00:55, 36.66it/s]"
     ]
    },
    {
     "name": "stderr",
     "output_type": "stream",
     "text": [
      "\r",
      "loading hamiltonians:  69%|██████▉   | 4521/6561 [01:20<00:52, 38.95it/s]"
     ]
    },
    {
     "name": "stderr",
     "output_type": "stream",
     "text": [
      "\r",
      "loading hamiltonians:  69%|██████▉   | 4529/6561 [01:20<00:44, 45.80it/s]"
     ]
    },
    {
     "name": "stderr",
     "output_type": "stream",
     "text": [
      "\r",
      "loading hamiltonians:  69%|██████▉   | 4536/6561 [01:20<00:42, 47.42it/s]"
     ]
    },
    {
     "name": "stderr",
     "output_type": "stream",
     "text": [
      "\r",
      "loading hamiltonians:  69%|██████▉   | 4543/6561 [01:20<00:39, 50.56it/s]"
     ]
    },
    {
     "name": "stderr",
     "output_type": "stream",
     "text": [
      "\r",
      "loading hamiltonians:  69%|██████▉   | 4552/6561 [01:20<00:35, 57.07it/s]"
     ]
    },
    {
     "name": "stderr",
     "output_type": "stream",
     "text": [
      "\r",
      "loading hamiltonians:  69%|██████▉   | 4559/6561 [01:20<00:35, 56.84it/s]"
     ]
    },
    {
     "name": "stderr",
     "output_type": "stream",
     "text": [
      "\r",
      "loading hamiltonians:  70%|██████▉   | 4566/6561 [01:20<00:34, 57.57it/s]"
     ]
    },
    {
     "name": "stderr",
     "output_type": "stream",
     "text": [
      "\r",
      "loading hamiltonians:  70%|██████▉   | 4573/6561 [01:21<00:33, 58.79it/s]"
     ]
    },
    {
     "name": "stderr",
     "output_type": "stream",
     "text": [
      "\r",
      "loading hamiltonians:  70%|██████▉   | 4580/6561 [01:21<00:33, 58.65it/s]"
     ]
    },
    {
     "name": "stderr",
     "output_type": "stream",
     "text": [
      "\r",
      "loading hamiltonians:  70%|██████▉   | 4587/6561 [01:21<00:34, 57.37it/s]"
     ]
    },
    {
     "name": "stderr",
     "output_type": "stream",
     "text": [
      "\r",
      "loading hamiltonians:  70%|███████   | 4594/6561 [01:21<00:33, 58.55it/s]"
     ]
    },
    {
     "name": "stderr",
     "output_type": "stream",
     "text": [
      "\r",
      "loading hamiltonians:  70%|███████   | 4600/6561 [01:21<00:33, 58.07it/s]"
     ]
    },
    {
     "name": "stderr",
     "output_type": "stream",
     "text": [
      "\r",
      "loading hamiltonians:  70%|███████   | 4607/6561 [01:21<00:32, 59.74it/s]"
     ]
    },
    {
     "name": "stderr",
     "output_type": "stream",
     "text": [
      "\r",
      "loading hamiltonians:  70%|███████   | 4614/6561 [01:21<00:31, 62.08it/s]"
     ]
    },
    {
     "name": "stderr",
     "output_type": "stream",
     "text": [
      "\r",
      "loading hamiltonians:  70%|███████   | 4622/6561 [01:21<00:29, 66.29it/s]"
     ]
    },
    {
     "name": "stderr",
     "output_type": "stream",
     "text": [
      "\r",
      "loading hamiltonians:  71%|███████   | 4629/6561 [01:21<00:30, 62.33it/s]"
     ]
    },
    {
     "name": "stderr",
     "output_type": "stream",
     "text": [
      "\r",
      "loading hamiltonians:  71%|███████   | 4637/6561 [01:22<00:29, 65.45it/s]"
     ]
    },
    {
     "name": "stderr",
     "output_type": "stream",
     "text": [
      "\r",
      "loading hamiltonians:  71%|███████   | 4644/6561 [01:22<00:29, 65.76it/s]"
     ]
    },
    {
     "name": "stderr",
     "output_type": "stream",
     "text": [
      "\r",
      "loading hamiltonians:  71%|███████   | 4652/6561 [01:22<00:28, 66.27it/s]"
     ]
    },
    {
     "name": "stderr",
     "output_type": "stream",
     "text": [
      "\r",
      "loading hamiltonians:  71%|███████   | 4659/6561 [01:22<00:28, 66.69it/s]"
     ]
    },
    {
     "name": "stderr",
     "output_type": "stream",
     "text": [
      "\r",
      "loading hamiltonians:  71%|███████   | 4666/6561 [01:22<00:30, 62.44it/s]"
     ]
    },
    {
     "name": "stderr",
     "output_type": "stream",
     "text": [
      "\r",
      "loading hamiltonians:  71%|███████   | 4673/6561 [01:22<00:32, 57.63it/s]"
     ]
    },
    {
     "name": "stderr",
     "output_type": "stream",
     "text": [
      "\r",
      "loading hamiltonians:  71%|███████▏  | 4680/6561 [01:22<00:31, 60.23it/s]"
     ]
    },
    {
     "name": "stderr",
     "output_type": "stream",
     "text": [
      "\r",
      "loading hamiltonians:  71%|███████▏  | 4687/6561 [01:22<00:30, 60.52it/s]"
     ]
    },
    {
     "name": "stderr",
     "output_type": "stream",
     "text": [
      "\r",
      "loading hamiltonians:  72%|███████▏  | 4696/6561 [01:22<00:28, 65.79it/s]"
     ]
    },
    {
     "name": "stderr",
     "output_type": "stream",
     "text": [
      "\r",
      "loading hamiltonians:  72%|███████▏  | 4703/6561 [01:23<00:28, 64.55it/s]"
     ]
    },
    {
     "name": "stderr",
     "output_type": "stream",
     "text": [
      "\r",
      "loading hamiltonians:  72%|███████▏  | 4710/6561 [01:23<00:29, 62.07it/s]"
     ]
    },
    {
     "name": "stderr",
     "output_type": "stream",
     "text": [
      "\r",
      "loading hamiltonians:  72%|███████▏  | 4719/6561 [01:23<00:27, 66.33it/s]"
     ]
    },
    {
     "name": "stderr",
     "output_type": "stream",
     "text": [
      "\r",
      "loading hamiltonians:  72%|███████▏  | 4727/6561 [01:23<00:26, 68.61it/s]"
     ]
    },
    {
     "name": "stderr",
     "output_type": "stream",
     "text": [
      "\r",
      "loading hamiltonians:  72%|███████▏  | 4735/6561 [01:23<00:25, 70.56it/s]"
     ]
    },
    {
     "name": "stderr",
     "output_type": "stream",
     "text": [
      "\r",
      "loading hamiltonians:  72%|███████▏  | 4743/6561 [01:23<00:25, 70.51it/s]"
     ]
    },
    {
     "name": "stderr",
     "output_type": "stream",
     "text": [
      "\r",
      "loading hamiltonians:  72%|███████▏  | 4751/6561 [01:23<00:26, 68.23it/s]"
     ]
    },
    {
     "name": "stderr",
     "output_type": "stream",
     "text": [
      "\r",
      "loading hamiltonians:  73%|███████▎  | 4758/6561 [01:23<00:27, 65.78it/s]"
     ]
    },
    {
     "name": "stderr",
     "output_type": "stream",
     "text": [
      "\r",
      "loading hamiltonians:  73%|███████▎  | 4767/6561 [01:24<00:25, 70.35it/s]"
     ]
    },
    {
     "name": "stderr",
     "output_type": "stream",
     "text": [
      "\r",
      "loading hamiltonians:  73%|███████▎  | 4775/6561 [01:24<00:25, 68.77it/s]"
     ]
    },
    {
     "name": "stderr",
     "output_type": "stream",
     "text": [
      "\r",
      "loading hamiltonians:  73%|███████▎  | 4782/6561 [01:24<00:35, 50.47it/s]"
     ]
    },
    {
     "name": "stderr",
     "output_type": "stream",
     "text": [
      "\r",
      "loading hamiltonians:  73%|███████▎  | 4788/6561 [01:24<00:34, 52.08it/s]"
     ]
    },
    {
     "name": "stderr",
     "output_type": "stream",
     "text": [
      "\r",
      "loading hamiltonians:  73%|███████▎  | 4797/6561 [01:24<00:30, 57.68it/s]"
     ]
    },
    {
     "name": "stderr",
     "output_type": "stream",
     "text": [
      "\r",
      "loading hamiltonians:  73%|███████▎  | 4804/6561 [01:24<00:29, 59.09it/s]"
     ]
    },
    {
     "name": "stderr",
     "output_type": "stream",
     "text": [
      "\r",
      "loading hamiltonians:  73%|███████▎  | 4813/6561 [01:24<00:27, 64.39it/s]"
     ]
    },
    {
     "name": "stderr",
     "output_type": "stream",
     "text": [
      "\r",
      "loading hamiltonians:  73%|███████▎  | 4820/6561 [01:24<00:26, 65.31it/s]"
     ]
    },
    {
     "name": "stderr",
     "output_type": "stream",
     "text": [
      "\r",
      "loading hamiltonians:  74%|███████▎  | 4827/6561 [01:25<00:26, 66.28it/s]"
     ]
    },
    {
     "name": "stderr",
     "output_type": "stream",
     "text": [
      "\r",
      "loading hamiltonians:  74%|███████▎  | 4834/6561 [01:25<00:26, 65.22it/s]"
     ]
    },
    {
     "name": "stderr",
     "output_type": "stream",
     "text": [
      "\r",
      "loading hamiltonians:  74%|███████▍  | 4841/6561 [01:25<00:26, 64.66it/s]"
     ]
    },
    {
     "name": "stderr",
     "output_type": "stream",
     "text": [
      "\r",
      "loading hamiltonians:  74%|███████▍  | 4848/6561 [01:25<00:28, 60.51it/s]"
     ]
    },
    {
     "name": "stderr",
     "output_type": "stream",
     "text": [
      "\r",
      "loading hamiltonians:  74%|███████▍  | 4855/6561 [01:25<00:29, 57.75it/s]"
     ]
    },
    {
     "name": "stderr",
     "output_type": "stream",
     "text": [
      "\r",
      "loading hamiltonians:  74%|███████▍  | 4862/6561 [01:25<00:28, 60.11it/s]"
     ]
    },
    {
     "name": "stderr",
     "output_type": "stream",
     "text": [
      "\r",
      "loading hamiltonians:  74%|███████▍  | 4869/6561 [01:25<00:28, 58.96it/s]"
     ]
    },
    {
     "name": "stderr",
     "output_type": "stream",
     "text": [
      "\r",
      "loading hamiltonians:  74%|███████▍  | 4875/6561 [01:25<00:28, 58.48it/s]"
     ]
    },
    {
     "name": "stderr",
     "output_type": "stream",
     "text": [
      "\r",
      "loading hamiltonians:  74%|███████▍  | 4883/6561 [01:25<00:26, 62.67it/s]"
     ]
    },
    {
     "name": "stderr",
     "output_type": "stream",
     "text": [
      "\r",
      "loading hamiltonians:  75%|███████▍  | 4890/6561 [01:26<00:25, 64.37it/s]"
     ]
    },
    {
     "name": "stderr",
     "output_type": "stream",
     "text": [
      "\r",
      "loading hamiltonians:  75%|███████▍  | 4897/6561 [01:26<00:25, 64.00it/s]"
     ]
    },
    {
     "name": "stderr",
     "output_type": "stream",
     "text": [
      "\r",
      "loading hamiltonians:  75%|███████▍  | 4905/6561 [01:26<00:24, 67.29it/s]"
     ]
    },
    {
     "name": "stderr",
     "output_type": "stream",
     "text": [
      "\r",
      "loading hamiltonians:  75%|███████▍  | 4912/6561 [01:26<00:24, 66.77it/s]"
     ]
    },
    {
     "name": "stderr",
     "output_type": "stream",
     "text": [
      "\r",
      "loading hamiltonians:  75%|███████▍  | 4919/6561 [01:26<00:25, 63.24it/s]"
     ]
    },
    {
     "name": "stderr",
     "output_type": "stream",
     "text": [
      "\r",
      "loading hamiltonians:  75%|███████▌  | 4926/6561 [01:26<00:26, 61.27it/s]"
     ]
    },
    {
     "name": "stderr",
     "output_type": "stream",
     "text": [
      "\r",
      "loading hamiltonians:  75%|███████▌  | 4933/6561 [01:26<00:26, 60.86it/s]"
     ]
    },
    {
     "name": "stderr",
     "output_type": "stream",
     "text": [
      "\r",
      "loading hamiltonians:  75%|███████▌  | 4940/6561 [01:26<00:28, 56.76it/s]"
     ]
    },
    {
     "name": "stderr",
     "output_type": "stream",
     "text": [
      "\r",
      "loading hamiltonians:  75%|███████▌  | 4947/6561 [01:26<00:27, 58.15it/s]"
     ]
    },
    {
     "name": "stderr",
     "output_type": "stream",
     "text": [
      "\r",
      "loading hamiltonians:  76%|███████▌  | 4955/6561 [01:27<00:26, 61.40it/s]"
     ]
    },
    {
     "name": "stderr",
     "output_type": "stream",
     "text": [
      "\r",
      "loading hamiltonians:  76%|███████▌  | 4962/6561 [01:27<00:25, 62.75it/s]"
     ]
    },
    {
     "name": "stderr",
     "output_type": "stream",
     "text": [
      "\r",
      "loading hamiltonians:  76%|███████▌  | 4970/6561 [01:27<00:24, 65.70it/s]"
     ]
    },
    {
     "name": "stderr",
     "output_type": "stream",
     "text": [
      "\r",
      "loading hamiltonians:  76%|███████▌  | 4978/6561 [01:27<00:22, 68.96it/s]"
     ]
    },
    {
     "name": "stderr",
     "output_type": "stream",
     "text": [
      "\r",
      "loading hamiltonians:  76%|███████▌  | 4986/6561 [01:27<00:24, 65.45it/s]"
     ]
    },
    {
     "name": "stderr",
     "output_type": "stream",
     "text": [
      "\r",
      "loading hamiltonians:  76%|███████▌  | 4993/6561 [01:27<00:27, 57.38it/s]"
     ]
    },
    {
     "name": "stderr",
     "output_type": "stream",
     "text": [
      "\r",
      "loading hamiltonians:  76%|███████▌  | 5001/6561 [01:27<00:25, 61.85it/s]"
     ]
    },
    {
     "name": "stderr",
     "output_type": "stream",
     "text": [
      "\r",
      "loading hamiltonians:  76%|███████▋  | 5009/6561 [01:27<00:23, 65.81it/s]"
     ]
    },
    {
     "name": "stderr",
     "output_type": "stream",
     "text": [
      "\r",
      "loading hamiltonians:  76%|███████▋  | 5016/6561 [01:28<00:23, 66.56it/s]"
     ]
    },
    {
     "name": "stderr",
     "output_type": "stream",
     "text": [
      "\r",
      "loading hamiltonians:  77%|███████▋  | 5025/6561 [01:28<00:21, 69.83it/s]"
     ]
    },
    {
     "name": "stderr",
     "output_type": "stream",
     "text": [
      "\r",
      "loading hamiltonians:  77%|███████▋  | 5033/6561 [01:28<00:22, 66.55it/s]"
     ]
    },
    {
     "name": "stderr",
     "output_type": "stream",
     "text": [
      "\r",
      "loading hamiltonians:  77%|███████▋  | 5040/6561 [01:28<00:24, 60.97it/s]"
     ]
    },
    {
     "name": "stderr",
     "output_type": "stream",
     "text": [
      "\r",
      "loading hamiltonians:  77%|███████▋  | 5047/6561 [01:28<00:25, 60.11it/s]"
     ]
    },
    {
     "name": "stderr",
     "output_type": "stream",
     "text": [
      "\r",
      "loading hamiltonians:  77%|███████▋  | 5054/6561 [01:28<00:25, 58.65it/s]"
     ]
    },
    {
     "name": "stderr",
     "output_type": "stream",
     "text": [
      "\r",
      "loading hamiltonians:  77%|███████▋  | 5061/6561 [01:28<00:25, 58.94it/s]"
     ]
    },
    {
     "name": "stderr",
     "output_type": "stream",
     "text": [
      "\r",
      "loading hamiltonians:  77%|███████▋  | 5068/6561 [01:28<00:24, 61.87it/s]"
     ]
    },
    {
     "name": "stderr",
     "output_type": "stream",
     "text": [
      "\r",
      "loading hamiltonians:  77%|███████▋  | 5077/6561 [01:28<00:22, 66.90it/s]"
     ]
    },
    {
     "name": "stderr",
     "output_type": "stream",
     "text": [
      "\r",
      "loading hamiltonians:  77%|███████▋  | 5084/6561 [01:29<00:22, 67.10it/s]"
     ]
    },
    {
     "name": "stderr",
     "output_type": "stream",
     "text": [
      "\r",
      "loading hamiltonians:  78%|███████▊  | 5091/6561 [01:29<00:22, 65.43it/s]"
     ]
    },
    {
     "name": "stderr",
     "output_type": "stream",
     "text": [
      "\r",
      "loading hamiltonians:  78%|███████▊  | 5098/6561 [01:29<00:22, 65.75it/s]"
     ]
    },
    {
     "name": "stderr",
     "output_type": "stream",
     "text": [
      "\r",
      "loading hamiltonians:  78%|███████▊  | 5105/6561 [01:29<00:29, 49.78it/s]"
     ]
    },
    {
     "name": "stderr",
     "output_type": "stream",
     "text": [
      "\r",
      "loading hamiltonians:  78%|███████▊  | 5112/6561 [01:29<00:27, 52.64it/s]"
     ]
    },
    {
     "name": "stderr",
     "output_type": "stream",
     "text": [
      "\r",
      "loading hamiltonians:  78%|███████▊  | 5119/6561 [01:29<00:26, 54.20it/s]"
     ]
    },
    {
     "name": "stderr",
     "output_type": "stream",
     "text": [
      "\r",
      "loading hamiltonians:  78%|███████▊  | 5126/6561 [01:29<00:25, 56.80it/s]"
     ]
    },
    {
     "name": "stderr",
     "output_type": "stream",
     "text": [
      "\r",
      "loading hamiltonians:  78%|███████▊  | 5132/6561 [01:29<00:25, 56.81it/s]"
     ]
    },
    {
     "name": "stderr",
     "output_type": "stream",
     "text": [
      "\r",
      "loading hamiltonians:  78%|███████▊  | 5141/6561 [01:30<00:22, 62.31it/s]"
     ]
    },
    {
     "name": "stderr",
     "output_type": "stream",
     "text": [
      "\r",
      "loading hamiltonians:  78%|███████▊  | 5148/6561 [01:30<00:23, 60.94it/s]"
     ]
    },
    {
     "name": "stderr",
     "output_type": "stream",
     "text": [
      "\r",
      "loading hamiltonians:  79%|███████▊  | 5155/6561 [01:30<00:23, 60.42it/s]"
     ]
    },
    {
     "name": "stderr",
     "output_type": "stream",
     "text": [
      "\r",
      "loading hamiltonians:  79%|███████▊  | 5163/6561 [01:30<00:21, 64.59it/s]"
     ]
    },
    {
     "name": "stderr",
     "output_type": "stream",
     "text": [
      "\r",
      "loading hamiltonians:  79%|███████▉  | 5170/6561 [01:30<00:21, 63.65it/s]"
     ]
    },
    {
     "name": "stderr",
     "output_type": "stream",
     "text": [
      "\r",
      "loading hamiltonians:  79%|███████▉  | 5177/6561 [01:30<00:23, 57.76it/s]"
     ]
    },
    {
     "name": "stderr",
     "output_type": "stream",
     "text": [
      "\r",
      "loading hamiltonians:  79%|███████▉  | 5186/6561 [01:30<00:21, 64.40it/s]"
     ]
    },
    {
     "name": "stderr",
     "output_type": "stream",
     "text": [
      "\r",
      "loading hamiltonians:  79%|███████▉  | 5194/6561 [01:30<00:20, 67.29it/s]"
     ]
    },
    {
     "name": "stderr",
     "output_type": "stream",
     "text": [
      "\r",
      "loading hamiltonians:  79%|███████▉  | 5202/6561 [01:31<00:20, 67.92it/s]"
     ]
    },
    {
     "name": "stderr",
     "output_type": "stream",
     "text": [
      "\r",
      "loading hamiltonians:  79%|███████▉  | 5210/6561 [01:31<00:20, 66.34it/s]"
     ]
    },
    {
     "name": "stderr",
     "output_type": "stream",
     "text": [
      "\r",
      "loading hamiltonians:  80%|███████▉  | 5218/6561 [01:31<00:19, 69.83it/s]"
     ]
    },
    {
     "name": "stderr",
     "output_type": "stream",
     "text": [
      "\r",
      "loading hamiltonians:  80%|███████▉  | 5226/6561 [01:31<00:19, 68.18it/s]"
     ]
    },
    {
     "name": "stderr",
     "output_type": "stream",
     "text": [
      "\r",
      "loading hamiltonians:  80%|███████▉  | 5233/6561 [01:31<00:19, 68.44it/s]"
     ]
    },
    {
     "name": "stderr",
     "output_type": "stream",
     "text": [
      "\r",
      "loading hamiltonians:  80%|███████▉  | 5242/6561 [01:31<00:18, 71.07it/s]"
     ]
    },
    {
     "name": "stderr",
     "output_type": "stream",
     "text": [
      "\r",
      "loading hamiltonians:  80%|████████  | 5250/6561 [01:31<00:18, 72.58it/s]"
     ]
    },
    {
     "name": "stderr",
     "output_type": "stream",
     "text": [
      "\r",
      "loading hamiltonians:  80%|████████  | 5258/6561 [01:31<00:19, 68.50it/s]"
     ]
    },
    {
     "name": "stderr",
     "output_type": "stream",
     "text": [
      "\r",
      "loading hamiltonians:  80%|████████  | 5265/6561 [01:31<00:19, 67.98it/s]"
     ]
    },
    {
     "name": "stderr",
     "output_type": "stream",
     "text": [
      "\r",
      "loading hamiltonians:  80%|████████  | 5272/6561 [01:32<00:20, 62.76it/s]"
     ]
    },
    {
     "name": "stderr",
     "output_type": "stream",
     "text": [
      "\r",
      "loading hamiltonians:  80%|████████  | 5279/6561 [01:32<00:21, 60.93it/s]"
     ]
    },
    {
     "name": "stderr",
     "output_type": "stream",
     "text": [
      "\r",
      "loading hamiltonians:  81%|████████  | 5286/6561 [01:32<00:20, 60.77it/s]"
     ]
    },
    {
     "name": "stderr",
     "output_type": "stream",
     "text": [
      "\r",
      "loading hamiltonians:  81%|████████  | 5293/6561 [01:32<00:21, 58.14it/s]"
     ]
    },
    {
     "name": "stderr",
     "output_type": "stream",
     "text": [
      "\r",
      "loading hamiltonians:  81%|████████  | 5300/6561 [01:32<00:21, 59.36it/s]"
     ]
    },
    {
     "name": "stderr",
     "output_type": "stream",
     "text": [
      "\r",
      "loading hamiltonians:  81%|████████  | 5307/6561 [01:32<00:20, 60.89it/s]"
     ]
    },
    {
     "name": "stderr",
     "output_type": "stream",
     "text": [
      "\r",
      "loading hamiltonians:  81%|████████  | 5314/6561 [01:32<00:21, 56.81it/s]"
     ]
    },
    {
     "name": "stderr",
     "output_type": "stream",
     "text": [
      "\r",
      "loading hamiltonians:  81%|████████  | 5323/6561 [01:32<00:20, 61.78it/s]"
     ]
    },
    {
     "name": "stderr",
     "output_type": "stream",
     "text": [
      "\r",
      "loading hamiltonians:  81%|████████▏ | 5331/6561 [01:33<00:19, 63.91it/s]"
     ]
    },
    {
     "name": "stderr",
     "output_type": "stream",
     "text": [
      "\r",
      "loading hamiltonians:  81%|████████▏ | 5338/6561 [01:33<00:19, 63.29it/s]"
     ]
    },
    {
     "name": "stderr",
     "output_type": "stream",
     "text": [
      "\r",
      "loading hamiltonians:  81%|████████▏ | 5345/6561 [01:33<00:19, 63.64it/s]"
     ]
    },
    {
     "name": "stderr",
     "output_type": "stream",
     "text": [
      "\r",
      "loading hamiltonians:  82%|████████▏ | 5352/6561 [01:33<00:20, 60.39it/s]"
     ]
    },
    {
     "name": "stderr",
     "output_type": "stream",
     "text": [
      "\r",
      "loading hamiltonians:  82%|████████▏ | 5359/6561 [01:33<00:20, 58.28it/s]"
     ]
    },
    {
     "name": "stderr",
     "output_type": "stream",
     "text": [
      "\r",
      "loading hamiltonians:  82%|████████▏ | 5365/6561 [01:33<00:21, 54.58it/s]"
     ]
    },
    {
     "name": "stderr",
     "output_type": "stream",
     "text": [
      "\r",
      "loading hamiltonians:  82%|████████▏ | 5372/6561 [01:33<00:20, 57.53it/s]"
     ]
    },
    {
     "name": "stderr",
     "output_type": "stream",
     "text": [
      "\r",
      "loading hamiltonians:  82%|████████▏ | 5380/6561 [01:33<00:18, 62.53it/s]"
     ]
    },
    {
     "name": "stderr",
     "output_type": "stream",
     "text": [
      "\r",
      "loading hamiltonians:  82%|████████▏ | 5387/6561 [01:33<00:18, 61.89it/s]"
     ]
    },
    {
     "name": "stderr",
     "output_type": "stream",
     "text": [
      "\r",
      "loading hamiltonians:  82%|████████▏ | 5395/6561 [01:34<00:17, 65.68it/s]"
     ]
    },
    {
     "name": "stderr",
     "output_type": "stream",
     "text": [
      "\r",
      "loading hamiltonians:  82%|████████▏ | 5402/6561 [01:34<00:19, 60.17it/s]"
     ]
    },
    {
     "name": "stderr",
     "output_type": "stream",
     "text": [
      "\r",
      "loading hamiltonians:  82%|████████▏ | 5409/6561 [01:34<00:21, 54.36it/s]"
     ]
    },
    {
     "name": "stderr",
     "output_type": "stream",
     "text": [
      "\r",
      "loading hamiltonians:  83%|████████▎ | 5415/6561 [01:34<00:24, 47.17it/s]"
     ]
    },
    {
     "name": "stderr",
     "output_type": "stream",
     "text": [
      "\r",
      "loading hamiltonians:  83%|████████▎ | 5421/6561 [01:34<00:22, 49.79it/s]"
     ]
    },
    {
     "name": "stderr",
     "output_type": "stream",
     "text": [
      "\r",
      "loading hamiltonians:  83%|████████▎ | 5427/6561 [01:34<00:22, 50.66it/s]"
     ]
    },
    {
     "name": "stderr",
     "output_type": "stream",
     "text": [
      "\r",
      "loading hamiltonians:  83%|████████▎ | 5434/6561 [01:34<00:20, 53.98it/s]"
     ]
    },
    {
     "name": "stderr",
     "output_type": "stream",
     "text": [
      "\r",
      "loading hamiltonians:  83%|████████▎ | 5440/6561 [01:34<00:20, 55.47it/s]"
     ]
    },
    {
     "name": "stderr",
     "output_type": "stream",
     "text": [
      "\r",
      "loading hamiltonians:  83%|████████▎ | 5446/6561 [01:35<00:20, 55.26it/s]"
     ]
    },
    {
     "name": "stderr",
     "output_type": "stream",
     "text": [
      "\r",
      "loading hamiltonians:  83%|████████▎ | 5453/6561 [01:35<00:19, 58.31it/s]"
     ]
    },
    {
     "name": "stderr",
     "output_type": "stream",
     "text": [
      "\r",
      "loading hamiltonians:  83%|████████▎ | 5459/6561 [01:35<00:19, 55.95it/s]"
     ]
    },
    {
     "name": "stderr",
     "output_type": "stream",
     "text": [
      "\r",
      "loading hamiltonians:  83%|████████▎ | 5465/6561 [01:35<00:19, 55.01it/s]"
     ]
    },
    {
     "name": "stderr",
     "output_type": "stream",
     "text": [
      "\r",
      "loading hamiltonians:  83%|████████▎ | 5472/6561 [01:35<00:18, 57.64it/s]"
     ]
    },
    {
     "name": "stderr",
     "output_type": "stream",
     "text": [
      "\r",
      "loading hamiltonians:  83%|████████▎ | 5478/6561 [01:35<00:18, 58.31it/s]"
     ]
    },
    {
     "name": "stderr",
     "output_type": "stream",
     "text": [
      "\r",
      "loading hamiltonians:  84%|████████▎ | 5485/6561 [01:35<00:18, 58.93it/s]"
     ]
    },
    {
     "name": "stderr",
     "output_type": "stream",
     "text": [
      "\r",
      "loading hamiltonians:  84%|████████▎ | 5492/6561 [01:35<00:17, 61.16it/s]"
     ]
    },
    {
     "name": "stderr",
     "output_type": "stream",
     "text": [
      "\r",
      "loading hamiltonians:  84%|████████▍ | 5499/6561 [01:35<00:17, 60.17it/s]"
     ]
    },
    {
     "name": "stderr",
     "output_type": "stream",
     "text": [
      "\r",
      "loading hamiltonians:  84%|████████▍ | 5506/6561 [01:36<00:17, 59.45it/s]"
     ]
    },
    {
     "name": "stderr",
     "output_type": "stream",
     "text": [
      "\r",
      "loading hamiltonians:  84%|████████▍ | 5513/6561 [01:36<00:17, 61.36it/s]"
     ]
    },
    {
     "name": "stderr",
     "output_type": "stream",
     "text": [
      "\r",
      "loading hamiltonians:  84%|████████▍ | 5520/6561 [01:36<00:17, 60.98it/s]"
     ]
    },
    {
     "name": "stderr",
     "output_type": "stream",
     "text": [
      "\r",
      "loading hamiltonians:  84%|████████▍ | 5528/6561 [01:36<00:16, 64.06it/s]"
     ]
    },
    {
     "name": "stderr",
     "output_type": "stream",
     "text": [
      "\r",
      "loading hamiltonians:  84%|████████▍ | 5535/6561 [01:36<00:16, 63.91it/s]"
     ]
    },
    {
     "name": "stderr",
     "output_type": "stream",
     "text": [
      "\r",
      "loading hamiltonians:  84%|████████▍ | 5542/6561 [01:36<00:15, 65.30it/s]"
     ]
    },
    {
     "name": "stderr",
     "output_type": "stream",
     "text": [
      "\r",
      "loading hamiltonians:  85%|████████▍ | 5549/6561 [01:36<00:16, 63.15it/s]"
     ]
    },
    {
     "name": "stderr",
     "output_type": "stream",
     "text": [
      "\r",
      "loading hamiltonians:  85%|████████▍ | 5558/6561 [01:36<00:14, 68.44it/s]"
     ]
    },
    {
     "name": "stderr",
     "output_type": "stream",
     "text": [
      "\r",
      "loading hamiltonians:  85%|████████▍ | 5566/6561 [01:36<00:14, 67.10it/s]"
     ]
    },
    {
     "name": "stderr",
     "output_type": "stream",
     "text": [
      "\r",
      "loading hamiltonians:  85%|████████▍ | 5573/6561 [01:37<00:15, 64.39it/s]"
     ]
    },
    {
     "name": "stderr",
     "output_type": "stream",
     "text": [
      "\r",
      "loading hamiltonians:  85%|████████▌ | 5580/6561 [01:37<00:22, 44.14it/s]"
     ]
    },
    {
     "name": "stderr",
     "output_type": "stream",
     "text": [
      "\r",
      "loading hamiltonians:  85%|████████▌ | 5586/6561 [01:37<00:20, 47.89it/s]"
     ]
    },
    {
     "name": "stderr",
     "output_type": "stream",
     "text": [
      "\r",
      "loading hamiltonians:  85%|████████▌ | 5592/6561 [01:37<00:20, 47.81it/s]"
     ]
    },
    {
     "name": "stderr",
     "output_type": "stream",
     "text": [
      "\r",
      "loading hamiltonians:  85%|████████▌ | 5598/6561 [01:37<00:18, 50.85it/s]"
     ]
    },
    {
     "name": "stderr",
     "output_type": "stream",
     "text": [
      "\r",
      "loading hamiltonians:  85%|████████▌ | 5605/6561 [01:37<00:17, 54.54it/s]"
     ]
    },
    {
     "name": "stderr",
     "output_type": "stream",
     "text": [
      "\r",
      "loading hamiltonians:  86%|████████▌ | 5611/6561 [01:37<00:17, 55.51it/s]"
     ]
    },
    {
     "name": "stderr",
     "output_type": "stream",
     "text": [
      "\r",
      "loading hamiltonians:  86%|████████▌ | 5619/6561 [01:37<00:15, 60.28it/s]"
     ]
    },
    {
     "name": "stderr",
     "output_type": "stream",
     "text": [
      "\r",
      "loading hamiltonians:  86%|████████▌ | 5626/6561 [01:38<00:22, 42.16it/s]"
     ]
    },
    {
     "name": "stderr",
     "output_type": "stream",
     "text": [
      "\r",
      "loading hamiltonians:  86%|████████▌ | 5632/6561 [01:38<00:20, 45.87it/s]"
     ]
    },
    {
     "name": "stderr",
     "output_type": "stream",
     "text": [
      "\r",
      "loading hamiltonians:  86%|████████▌ | 5640/6561 [01:38<00:17, 51.57it/s]"
     ]
    },
    {
     "name": "stderr",
     "output_type": "stream",
     "text": [
      "\r",
      "loading hamiltonians:  86%|████████▌ | 5646/6561 [01:38<00:17, 52.69it/s]"
     ]
    },
    {
     "name": "stderr",
     "output_type": "stream",
     "text": [
      "\r",
      "loading hamiltonians:  86%|████████▌ | 5653/6561 [01:38<00:16, 55.49it/s]"
     ]
    },
    {
     "name": "stderr",
     "output_type": "stream",
     "text": [
      "\r",
      "loading hamiltonians:  86%|████████▋ | 5660/6561 [01:38<00:15, 57.35it/s]"
     ]
    },
    {
     "name": "stderr",
     "output_type": "stream",
     "text": [
      "\r",
      "loading hamiltonians:  86%|████████▋ | 5667/6561 [01:38<00:14, 59.95it/s]"
     ]
    },
    {
     "name": "stderr",
     "output_type": "stream",
     "text": [
      "\r",
      "loading hamiltonians:  86%|████████▋ | 5675/6561 [01:39<00:14, 63.25it/s]"
     ]
    },
    {
     "name": "stderr",
     "output_type": "stream",
     "text": [
      "\r",
      "loading hamiltonians:  87%|████████▋ | 5682/6561 [01:39<00:13, 63.67it/s]"
     ]
    },
    {
     "name": "stderr",
     "output_type": "stream",
     "text": [
      "\r",
      "loading hamiltonians:  87%|████████▋ | 5689/6561 [01:39<00:15, 56.90it/s]"
     ]
    },
    {
     "name": "stderr",
     "output_type": "stream",
     "text": [
      "\r",
      "loading hamiltonians:  87%|████████▋ | 5695/6561 [01:39<00:15, 57.03it/s]"
     ]
    },
    {
     "name": "stderr",
     "output_type": "stream",
     "text": [
      "\r",
      "loading hamiltonians:  87%|████████▋ | 5701/6561 [01:39<00:15, 57.15it/s]"
     ]
    },
    {
     "name": "stderr",
     "output_type": "stream",
     "text": [
      "\r",
      "loading hamiltonians:  87%|████████▋ | 5707/6561 [01:39<00:14, 57.71it/s]"
     ]
    },
    {
     "name": "stderr",
     "output_type": "stream",
     "text": [
      "\r",
      "loading hamiltonians:  87%|████████▋ | 5713/6561 [01:39<00:18, 47.08it/s]"
     ]
    },
    {
     "name": "stderr",
     "output_type": "stream",
     "text": [
      "\r",
      "loading hamiltonians:  87%|████████▋ | 5719/6561 [01:39<00:19, 42.51it/s]"
     ]
    },
    {
     "name": "stderr",
     "output_type": "stream",
     "text": [
      "\r",
      "loading hamiltonians:  87%|████████▋ | 5727/6561 [01:40<00:16, 49.43it/s]"
     ]
    },
    {
     "name": "stderr",
     "output_type": "stream",
     "text": [
      "\r",
      "loading hamiltonians:  87%|████████▋ | 5735/6561 [01:40<00:16, 51.58it/s]"
     ]
    },
    {
     "name": "stderr",
     "output_type": "stream",
     "text": [
      "\r",
      "loading hamiltonians:  88%|████████▊ | 5741/6561 [01:42<01:47,  7.63it/s]"
     ]
    },
    {
     "name": "stderr",
     "output_type": "stream",
     "text": [
      "\r",
      "loading hamiltonians:  88%|████████▊ | 5748/6561 [01:42<01:18, 10.33it/s]"
     ]
    },
    {
     "name": "stderr",
     "output_type": "stream",
     "text": [
      "\r",
      "loading hamiltonians:  88%|████████▊ | 5756/6561 [01:42<00:57, 13.96it/s]"
     ]
    },
    {
     "name": "stderr",
     "output_type": "stream",
     "text": [
      "\r",
      "loading hamiltonians:  88%|████████▊ | 5765/6561 [01:42<00:42, 18.62it/s]"
     ]
    },
    {
     "name": "stderr",
     "output_type": "stream",
     "text": [
      "\r",
      "loading hamiltonians:  88%|████████▊ | 5772/6561 [01:42<00:33, 23.54it/s]"
     ]
    },
    {
     "name": "stderr",
     "output_type": "stream",
     "text": [
      "\r",
      "loading hamiltonians:  88%|████████▊ | 5779/6561 [01:43<00:27, 28.29it/s]"
     ]
    },
    {
     "name": "stderr",
     "output_type": "stream",
     "text": [
      "\r",
      "loading hamiltonians:  88%|████████▊ | 5786/6561 [01:43<00:23, 33.35it/s]"
     ]
    },
    {
     "name": "stderr",
     "output_type": "stream",
     "text": [
      "\r",
      "loading hamiltonians:  88%|████████▊ | 5792/6561 [01:43<00:22, 34.38it/s]"
     ]
    },
    {
     "name": "stderr",
     "output_type": "stream",
     "text": [
      "\r",
      "loading hamiltonians:  88%|████████▊ | 5798/6561 [01:43<00:19, 39.08it/s]"
     ]
    },
    {
     "name": "stderr",
     "output_type": "stream",
     "text": [
      "\r",
      "loading hamiltonians:  88%|████████▊ | 5805/6561 [01:43<00:17, 43.89it/s]"
     ]
    },
    {
     "name": "stderr",
     "output_type": "stream",
     "text": [
      "\r",
      "loading hamiltonians:  89%|████████▊ | 5812/6561 [01:43<00:15, 48.26it/s]"
     ]
    },
    {
     "name": "stderr",
     "output_type": "stream",
     "text": [
      "\r",
      "loading hamiltonians:  89%|████████▊ | 5819/6561 [01:43<00:14, 52.44it/s]"
     ]
    },
    {
     "name": "stderr",
     "output_type": "stream",
     "text": [
      "\r",
      "loading hamiltonians:  89%|████████▉ | 5827/6561 [01:43<00:12, 58.12it/s]"
     ]
    },
    {
     "name": "stderr",
     "output_type": "stream",
     "text": [
      "\r",
      "loading hamiltonians:  89%|████████▉ | 5834/6561 [01:44<00:12, 56.05it/s]"
     ]
    },
    {
     "name": "stderr",
     "output_type": "stream",
     "text": [
      "\r",
      "loading hamiltonians:  89%|████████▉ | 5841/6561 [01:44<00:12, 58.57it/s]"
     ]
    },
    {
     "name": "stderr",
     "output_type": "stream",
     "text": [
      "\r",
      "loading hamiltonians:  89%|████████▉ | 5849/6561 [01:44<00:11, 61.67it/s]"
     ]
    },
    {
     "name": "stderr",
     "output_type": "stream",
     "text": [
      "\r",
      "loading hamiltonians:  89%|████████▉ | 5856/6561 [01:44<00:11, 60.41it/s]"
     ]
    },
    {
     "name": "stderr",
     "output_type": "stream",
     "text": [
      "\r",
      "loading hamiltonians:  89%|████████▉ | 5863/6561 [01:44<00:11, 62.06it/s]"
     ]
    },
    {
     "name": "stderr",
     "output_type": "stream",
     "text": [
      "\r",
      "loading hamiltonians:  89%|████████▉ | 5871/6561 [01:44<00:10, 64.43it/s]"
     ]
    },
    {
     "name": "stderr",
     "output_type": "stream",
     "text": [
      "\r",
      "loading hamiltonians:  90%|████████▉ | 5878/6561 [01:44<00:11, 57.79it/s]"
     ]
    },
    {
     "name": "stderr",
     "output_type": "stream",
     "text": [
      "\r",
      "loading hamiltonians:  90%|████████▉ | 5886/6561 [01:44<00:11, 60.96it/s]"
     ]
    },
    {
     "name": "stderr",
     "output_type": "stream",
     "text": [
      "\r",
      "loading hamiltonians:  90%|████████▉ | 5894/6561 [01:45<00:10, 65.34it/s]"
     ]
    },
    {
     "name": "stderr",
     "output_type": "stream",
     "text": [
      "\r",
      "loading hamiltonians:  90%|████████▉ | 5901/6561 [01:45<00:10, 62.33it/s]"
     ]
    },
    {
     "name": "stderr",
     "output_type": "stream",
     "text": [
      "\r",
      "loading hamiltonians:  90%|█████████ | 5908/6561 [01:45<00:10, 63.86it/s]"
     ]
    },
    {
     "name": "stderr",
     "output_type": "stream",
     "text": [
      "\r",
      "loading hamiltonians:  90%|█████████ | 5915/6561 [01:45<00:10, 60.51it/s]"
     ]
    },
    {
     "name": "stderr",
     "output_type": "stream",
     "text": [
      "\r",
      "loading hamiltonians:  90%|█████████ | 5922/6561 [01:45<00:10, 58.29it/s]"
     ]
    },
    {
     "name": "stderr",
     "output_type": "stream",
     "text": [
      "\r",
      "loading hamiltonians:  90%|█████████ | 5928/6561 [01:45<00:11, 54.23it/s]"
     ]
    },
    {
     "name": "stderr",
     "output_type": "stream",
     "text": [
      "\r",
      "loading hamiltonians:  90%|█████████ | 5936/6561 [01:45<00:10, 59.26it/s]"
     ]
    },
    {
     "name": "stderr",
     "output_type": "stream",
     "text": [
      "\r",
      "loading hamiltonians:  91%|█████████ | 5945/6561 [01:45<00:09, 65.80it/s]"
     ]
    },
    {
     "name": "stderr",
     "output_type": "stream",
     "text": [
      "\r",
      "loading hamiltonians:  91%|█████████ | 5952/6561 [01:45<00:09, 64.04it/s]"
     ]
    },
    {
     "name": "stderr",
     "output_type": "stream",
     "text": [
      "\r",
      "loading hamiltonians:  91%|█████████ | 5960/6561 [01:46<00:08, 66.87it/s]"
     ]
    },
    {
     "name": "stderr",
     "output_type": "stream",
     "text": [
      "\r",
      "loading hamiltonians:  91%|█████████ | 5968/6561 [01:46<00:08, 69.72it/s]"
     ]
    },
    {
     "name": "stderr",
     "output_type": "stream",
     "text": [
      "\r",
      "loading hamiltonians:  91%|█████████ | 5976/6561 [01:46<00:08, 66.58it/s]"
     ]
    },
    {
     "name": "stderr",
     "output_type": "stream",
     "text": [
      "\r",
      "loading hamiltonians:  91%|█████████ | 5983/6561 [01:46<00:08, 65.86it/s]"
     ]
    },
    {
     "name": "stderr",
     "output_type": "stream",
     "text": [
      "\r",
      "loading hamiltonians:  91%|█████████▏| 5990/6561 [01:46<00:08, 63.52it/s]"
     ]
    },
    {
     "name": "stderr",
     "output_type": "stream",
     "text": [
      "\r",
      "loading hamiltonians:  91%|█████████▏| 5997/6561 [01:46<00:09, 61.48it/s]"
     ]
    },
    {
     "name": "stderr",
     "output_type": "stream",
     "text": [
      "\r",
      "loading hamiltonians:  92%|█████████▏| 6004/6561 [01:46<00:09, 59.49it/s]"
     ]
    },
    {
     "name": "stderr",
     "output_type": "stream",
     "text": [
      "\r",
      "loading hamiltonians:  92%|█████████▏| 6011/6561 [01:46<00:09, 57.43it/s]"
     ]
    },
    {
     "name": "stderr",
     "output_type": "stream",
     "text": [
      "\r",
      "loading hamiltonians:  92%|█████████▏| 6018/6561 [01:47<00:09, 56.81it/s]"
     ]
    },
    {
     "name": "stderr",
     "output_type": "stream",
     "text": [
      "\r",
      "loading hamiltonians:  92%|█████████▏| 6025/6561 [01:47<00:08, 59.64it/s]"
     ]
    },
    {
     "name": "stderr",
     "output_type": "stream",
     "text": [
      "\r",
      "loading hamiltonians:  92%|█████████▏| 6032/6561 [01:47<00:08, 61.09it/s]"
     ]
    },
    {
     "name": "stderr",
     "output_type": "stream",
     "text": [
      "\r",
      "loading hamiltonians:  92%|█████████▏| 6039/6561 [01:47<00:08, 60.49it/s]"
     ]
    },
    {
     "name": "stderr",
     "output_type": "stream",
     "text": [
      "\r",
      "loading hamiltonians:  92%|█████████▏| 6046/6561 [01:47<00:08, 58.13it/s]"
     ]
    },
    {
     "name": "stderr",
     "output_type": "stream",
     "text": [
      "\r",
      "loading hamiltonians:  92%|█████████▏| 6053/6561 [01:47<00:08, 60.34it/s]"
     ]
    },
    {
     "name": "stderr",
     "output_type": "stream",
     "text": [
      "\r",
      "loading hamiltonians:  92%|█████████▏| 6062/6561 [01:47<00:07, 65.69it/s]"
     ]
    },
    {
     "name": "stderr",
     "output_type": "stream",
     "text": [
      "\r",
      "loading hamiltonians:  93%|█████████▎| 6069/6561 [01:47<00:07, 63.30it/s]"
     ]
    },
    {
     "name": "stderr",
     "output_type": "stream",
     "text": [
      "\r",
      "loading hamiltonians:  93%|█████████▎| 6076/6561 [01:47<00:07, 64.02it/s]"
     ]
    },
    {
     "name": "stderr",
     "output_type": "stream",
     "text": [
      "\r",
      "loading hamiltonians:  93%|█████████▎| 6085/6561 [01:48<00:06, 68.43it/s]"
     ]
    },
    {
     "name": "stderr",
     "output_type": "stream",
     "text": [
      "\r",
      "loading hamiltonians:  93%|█████████▎| 6092/6561 [01:48<00:06, 67.18it/s]"
     ]
    },
    {
     "name": "stderr",
     "output_type": "stream",
     "text": [
      "\r",
      "loading hamiltonians:  93%|█████████▎| 6099/6561 [01:48<00:07, 63.95it/s]"
     ]
    },
    {
     "name": "stderr",
     "output_type": "stream",
     "text": [
      "\r",
      "loading hamiltonians:  93%|█████████▎| 6106/6561 [01:48<00:08, 53.86it/s]"
     ]
    },
    {
     "name": "stderr",
     "output_type": "stream",
     "text": [
      "\r",
      "loading hamiltonians:  93%|█████████▎| 6112/6561 [01:48<00:08, 54.44it/s]"
     ]
    },
    {
     "name": "stderr",
     "output_type": "stream",
     "text": [
      "\r",
      "loading hamiltonians:  93%|█████████▎| 6120/6561 [01:48<00:07, 60.19it/s]"
     ]
    },
    {
     "name": "stderr",
     "output_type": "stream",
     "text": [
      "\r",
      "loading hamiltonians:  93%|█████████▎| 6130/6561 [01:48<00:06, 67.73it/s]"
     ]
    },
    {
     "name": "stderr",
     "output_type": "stream",
     "text": [
      "\r",
      "loading hamiltonians:  94%|█████████▎| 6138/6561 [01:48<00:06, 68.32it/s]"
     ]
    },
    {
     "name": "stderr",
     "output_type": "stream",
     "text": [
      "\r",
      "loading hamiltonians:  94%|█████████▎| 6146/6561 [01:49<00:06, 63.91it/s]"
     ]
    },
    {
     "name": "stderr",
     "output_type": "stream",
     "text": [
      "\r",
      "loading hamiltonians:  94%|█████████▍| 6153/6561 [01:49<00:06, 61.64it/s]"
     ]
    },
    {
     "name": "stderr",
     "output_type": "stream",
     "text": [
      "\r",
      "loading hamiltonians:  94%|█████████▍| 6160/6561 [01:49<00:06, 58.00it/s]"
     ]
    },
    {
     "name": "stderr",
     "output_type": "stream",
     "text": [
      "\r",
      "loading hamiltonians:  94%|█████████▍| 6167/6561 [01:49<00:06, 58.95it/s]"
     ]
    },
    {
     "name": "stderr",
     "output_type": "stream",
     "text": [
      "\r",
      "loading hamiltonians:  94%|█████████▍| 6174/6561 [01:49<00:06, 58.41it/s]"
     ]
    },
    {
     "name": "stderr",
     "output_type": "stream",
     "text": [
      "\r",
      "loading hamiltonians:  94%|█████████▍| 6182/6561 [01:49<00:06, 63.00it/s]"
     ]
    },
    {
     "name": "stderr",
     "output_type": "stream",
     "text": [
      "\r",
      "loading hamiltonians:  94%|█████████▍| 6190/6561 [01:49<00:05, 64.90it/s]"
     ]
    },
    {
     "name": "stderr",
     "output_type": "stream",
     "text": [
      "\r",
      "loading hamiltonians:  94%|█████████▍| 6197/6561 [01:49<00:05, 65.38it/s]"
     ]
    },
    {
     "name": "stderr",
     "output_type": "stream",
     "text": [
      "\r",
      "loading hamiltonians:  95%|█████████▍| 6204/6561 [01:49<00:05, 63.74it/s]"
     ]
    },
    {
     "name": "stderr",
     "output_type": "stream",
     "text": [
      "\r",
      "loading hamiltonians:  95%|█████████▍| 6211/6561 [01:50<00:05, 64.20it/s]"
     ]
    },
    {
     "name": "stderr",
     "output_type": "stream",
     "text": [
      "\r",
      "loading hamiltonians:  95%|█████████▍| 6219/6561 [01:50<00:05, 65.63it/s]"
     ]
    },
    {
     "name": "stderr",
     "output_type": "stream",
     "text": [
      "\r",
      "loading hamiltonians:  95%|█████████▍| 6226/6561 [01:50<00:05, 62.96it/s]"
     ]
    },
    {
     "name": "stderr",
     "output_type": "stream",
     "text": [
      "\r",
      "loading hamiltonians:  95%|█████████▌| 6233/6561 [01:50<00:05, 60.17it/s]"
     ]
    },
    {
     "name": "stderr",
     "output_type": "stream",
     "text": [
      "\r",
      "loading hamiltonians:  95%|█████████▌| 6240/6561 [01:50<00:05, 58.78it/s]"
     ]
    },
    {
     "name": "stderr",
     "output_type": "stream",
     "text": [
      "\r",
      "loading hamiltonians:  95%|█████████▌| 6247/6561 [01:50<00:05, 59.36it/s]"
     ]
    },
    {
     "name": "stderr",
     "output_type": "stream",
     "text": [
      "\r",
      "loading hamiltonians:  95%|█████████▌| 6253/6561 [01:50<00:05, 54.70it/s]"
     ]
    },
    {
     "name": "stderr",
     "output_type": "stream",
     "text": [
      "\r",
      "loading hamiltonians:  95%|█████████▌| 6261/6561 [01:50<00:05, 58.72it/s]"
     ]
    },
    {
     "name": "stderr",
     "output_type": "stream",
     "text": [
      "\r",
      "loading hamiltonians:  96%|█████████▌| 6269/6561 [01:51<00:04, 63.13it/s]"
     ]
    },
    {
     "name": "stderr",
     "output_type": "stream",
     "text": [
      "\r",
      "loading hamiltonians:  96%|█████████▌| 6277/6561 [01:51<00:04, 65.33it/s]"
     ]
    },
    {
     "name": "stderr",
     "output_type": "stream",
     "text": [
      "\r",
      "loading hamiltonians:  96%|█████████▌| 6284/6561 [01:51<00:04, 66.64it/s]"
     ]
    },
    {
     "name": "stderr",
     "output_type": "stream",
     "text": [
      "\r",
      "loading hamiltonians:  96%|█████████▌| 6291/6561 [01:51<00:04, 62.86it/s]"
     ]
    },
    {
     "name": "stderr",
     "output_type": "stream",
     "text": [
      "\r",
      "loading hamiltonians:  96%|█████████▌| 6298/6561 [01:51<00:04, 60.79it/s]"
     ]
    },
    {
     "name": "stderr",
     "output_type": "stream",
     "text": [
      "\r",
      "loading hamiltonians:  96%|█████████▌| 6305/6561 [01:51<00:04, 61.82it/s]"
     ]
    },
    {
     "name": "stderr",
     "output_type": "stream",
     "text": [
      "\r",
      "loading hamiltonians:  96%|█████████▌| 6313/6561 [01:51<00:03, 65.63it/s]"
     ]
    },
    {
     "name": "stderr",
     "output_type": "stream",
     "text": [
      "\r",
      "loading hamiltonians:  96%|█████████▋| 6321/6561 [01:51<00:03, 68.56it/s]"
     ]
    },
    {
     "name": "stderr",
     "output_type": "stream",
     "text": [
      "\r",
      "loading hamiltonians:  96%|█████████▋| 6328/6561 [01:51<00:03, 68.08it/s]"
     ]
    },
    {
     "name": "stderr",
     "output_type": "stream",
     "text": [
      "\r",
      "loading hamiltonians:  97%|█████████▋| 6336/6561 [01:52<00:03, 71.17it/s]"
     ]
    },
    {
     "name": "stderr",
     "output_type": "stream",
     "text": [
      "\r",
      "loading hamiltonians:  97%|█████████▋| 6345/6561 [01:52<00:02, 72.18it/s]"
     ]
    },
    {
     "name": "stderr",
     "output_type": "stream",
     "text": [
      "\r",
      "loading hamiltonians:  97%|█████████▋| 6353/6561 [01:52<00:02, 70.57it/s]"
     ]
    },
    {
     "name": "stderr",
     "output_type": "stream",
     "text": [
      "\r",
      "loading hamiltonians:  97%|█████████▋| 6361/6561 [01:52<00:02, 71.35it/s]"
     ]
    },
    {
     "name": "stderr",
     "output_type": "stream",
     "text": [
      "\r",
      "loading hamiltonians:  97%|█████████▋| 6369/6561 [01:52<00:02, 67.23it/s]"
     ]
    },
    {
     "name": "stderr",
     "output_type": "stream",
     "text": [
      "\r",
      "loading hamiltonians:  97%|█████████▋| 6376/6561 [01:52<00:02, 63.58it/s]"
     ]
    },
    {
     "name": "stderr",
     "output_type": "stream",
     "text": [
      "\r",
      "loading hamiltonians:  97%|█████████▋| 6383/6561 [01:52<00:02, 64.41it/s]"
     ]
    },
    {
     "name": "stderr",
     "output_type": "stream",
     "text": [
      "\r",
      "loading hamiltonians:  97%|█████████▋| 6390/6561 [01:52<00:02, 65.31it/s]"
     ]
    },
    {
     "name": "stderr",
     "output_type": "stream",
     "text": [
      "\r",
      "loading hamiltonians:  98%|█████████▊| 6397/6561 [01:52<00:02, 64.94it/s]"
     ]
    },
    {
     "name": "stderr",
     "output_type": "stream",
     "text": [
      "\r",
      "loading hamiltonians:  98%|█████████▊| 6404/6561 [01:53<00:02, 61.53it/s]"
     ]
    },
    {
     "name": "stderr",
     "output_type": "stream",
     "text": [
      "\r",
      "loading hamiltonians:  98%|█████████▊| 6411/6561 [01:53<00:02, 61.02it/s]"
     ]
    },
    {
     "name": "stderr",
     "output_type": "stream",
     "text": [
      "\r",
      "loading hamiltonians:  98%|█████████▊| 6418/6561 [01:53<00:02, 57.81it/s]"
     ]
    },
    {
     "name": "stderr",
     "output_type": "stream",
     "text": [
      "\r",
      "loading hamiltonians:  98%|█████████▊| 6424/6561 [01:53<00:02, 46.73it/s]"
     ]
    },
    {
     "name": "stderr",
     "output_type": "stream",
     "text": [
      "\r",
      "loading hamiltonians:  98%|█████████▊| 6430/6561 [01:53<00:02, 48.88it/s]"
     ]
    },
    {
     "name": "stderr",
     "output_type": "stream",
     "text": [
      "\r",
      "loading hamiltonians:  98%|█████████▊| 6436/6561 [01:53<00:02, 51.70it/s]"
     ]
    },
    {
     "name": "stderr",
     "output_type": "stream",
     "text": [
      "\r",
      "loading hamiltonians:  98%|█████████▊| 6442/6561 [01:53<00:02, 53.53it/s]"
     ]
    },
    {
     "name": "stderr",
     "output_type": "stream",
     "text": [
      "\r",
      "loading hamiltonians:  98%|█████████▊| 6450/6561 [01:53<00:01, 58.32it/s]"
     ]
    },
    {
     "name": "stderr",
     "output_type": "stream",
     "text": [
      "\r",
      "loading hamiltonians:  98%|█████████▊| 6459/6561 [01:54<00:01, 64.41it/s]"
     ]
    },
    {
     "name": "stderr",
     "output_type": "stream",
     "text": [
      "\r",
      "loading hamiltonians:  99%|█████████▊| 6466/6561 [01:54<00:01, 65.10it/s]"
     ]
    },
    {
     "name": "stderr",
     "output_type": "stream",
     "text": [
      "\r",
      "loading hamiltonians:  99%|█████████▊| 6473/6561 [01:54<00:01, 64.49it/s]"
     ]
    },
    {
     "name": "stderr",
     "output_type": "stream",
     "text": [
      "\r",
      "loading hamiltonians:  99%|█████████▉| 6480/6561 [01:54<00:01, 63.13it/s]"
     ]
    },
    {
     "name": "stderr",
     "output_type": "stream",
     "text": [
      "\r",
      "loading hamiltonians:  99%|█████████▉| 6487/6561 [01:54<00:01, 59.46it/s]"
     ]
    },
    {
     "name": "stderr",
     "output_type": "stream",
     "text": [
      "\r",
      "loading hamiltonians:  99%|█████████▉| 6494/6561 [01:54<00:01, 57.83it/s]"
     ]
    },
    {
     "name": "stderr",
     "output_type": "stream",
     "text": [
      "\r",
      "loading hamiltonians:  99%|█████████▉| 6501/6561 [01:54<00:00, 60.46it/s]"
     ]
    },
    {
     "name": "stderr",
     "output_type": "stream",
     "text": [
      "\r",
      "loading hamiltonians:  99%|█████████▉| 6511/6561 [01:54<00:00, 66.31it/s]"
     ]
    },
    {
     "name": "stderr",
     "output_type": "stream",
     "text": [
      "\r",
      "loading hamiltonians:  99%|█████████▉| 6518/6561 [01:54<00:00, 62.87it/s]"
     ]
    },
    {
     "name": "stderr",
     "output_type": "stream",
     "text": [
      "\r",
      "loading hamiltonians:  99%|█████████▉| 6527/6561 [01:55<00:00, 68.10it/s]"
     ]
    },
    {
     "name": "stderr",
     "output_type": "stream",
     "text": [
      "\r",
      "loading hamiltonians: 100%|█████████▉| 6535/6561 [01:55<00:00, 66.68it/s]"
     ]
    },
    {
     "name": "stderr",
     "output_type": "stream",
     "text": [
      "\r",
      "loading hamiltonians: 100%|█████████▉| 6542/6561 [01:55<00:00, 64.07it/s]"
     ]
    },
    {
     "name": "stderr",
     "output_type": "stream",
     "text": [
      "\r",
      "loading hamiltonians: 100%|█████████▉| 6549/6561 [01:55<00:00, 62.77it/s]"
     ]
    },
    {
     "name": "stderr",
     "output_type": "stream",
     "text": [
      "\r",
      "loading hamiltonians: 100%|█████████▉| 6556/6561 [01:55<00:00, 61.03it/s]"
     ]
    },
    {
     "name": "stderr",
     "output_type": "stream",
     "text": [
      "\r",
      "loading hamiltonians: 100%|██████████| 6561/6561 [01:55<00:00, 56.73it/s]"
     ]
    },
    {
     "name": "stderr",
     "output_type": "stream",
     "text": [
      "\n"
     ]
    },
    {
     "name": "stdout",
     "output_type": "stream",
     "text": [
      "shape of raw_data:  (1180980, 184)\n",
      "len list_of_hamiltonians:  6561\n"
     ]
    },
    {
     "name": "stdout",
     "output_type": "stream",
     "text": [
      "CPU times: user 3min 35s, sys: 23 s, total: 3min 58s\n",
      "Wall time: 4min 57s\n"
     ]
    }
   ],
   "source": [
    "%%time\n",
    "list_of_hamiltonians, raw_data = load_hamiltonians(grid_folder)\n",
    "print(\"shape of raw_data: \", raw_data.shape)\n",
    "print(\"len list_of_hamiltonians: \", len(list_of_hamiltonians))\n",
    "\n",
    "dataframe = make_dataframe(raw_data, list_of_hamiltonians, allowed_windings = allowed_windings, epsilon = epsilon, \\\n",
    "                           csv_dir=csv_dir, csv_name = csv_name)"
   ]
  },
  {
   "cell_type": "code",
   "execution_count": 5,
   "metadata": {
    "execution": {
     "iopub.execute_input": "2020-04-05T19:49:31.990027Z",
     "iopub.status.busy": "2020-04-05T19:49:31.989712Z",
     "iopub.status.idle": "2020-04-05T19:49:32.022049Z",
     "shell.execute_reply": "2020-04-05T19:49:32.021727Z"
    },
    "papermill": {
     "duration": 0.185724,
     "end_time": "2020-04-05T19:49:32.022102",
     "exception": false,
     "start_time": "2020-04-05T19:49:31.836378",
     "status": "completed"
    },
    "tags": []
   },
   "outputs": [
    {
     "name": "stdout",
     "output_type": "stream",
     "text": [
      "<class 'pandas.core.frame.DataFrame'>\n",
      "RangeIndex: 1180980 entries, 0 to 1180979\n",
      "Columns: 188 entries, id to feat179\n",
      "dtypes: float64(3), int32(1), int64(2), object(182)\n",
      "memory usage: 1.6+ GB\n"
     ]
    },
    {
     "data": {
      "text/html": [
       "<div>\n",
       "<style scoped>\n",
       "    .dataframe tbody tr th:only-of-type {\n",
       "        vertical-align: middle;\n",
       "    }\n",
       "\n",
       "    .dataframe tbody tr th {\n",
       "        vertical-align: top;\n",
       "    }\n",
       "\n",
       "    .dataframe thead th {\n",
       "        text-align: right;\n",
       "    }\n",
       "</style>\n",
       "<table border=\"1\" class=\"dataframe\">\n",
       "  <thead>\n",
       "    <tr style=\"text-align: right;\">\n",
       "      <th></th>\n",
       "      <th>id</th>\n",
       "      <th>path</th>\n",
       "      <th>t1</th>\n",
       "      <th>t2</th>\n",
       "      <th>winding</th>\n",
       "      <th>phase</th>\n",
       "      <th>pred_phase</th>\n",
       "      <th>type_of</th>\n",
       "      <th>feat0</th>\n",
       "      <th>feat1</th>\n",
       "      <th>...</th>\n",
       "      <th>feat170</th>\n",
       "      <th>feat171</th>\n",
       "      <th>feat172</th>\n",
       "      <th>feat173</th>\n",
       "      <th>feat174</th>\n",
       "      <th>feat175</th>\n",
       "      <th>feat176</th>\n",
       "      <th>feat177</th>\n",
       "      <th>feat178</th>\n",
       "      <th>feat179</th>\n",
       "    </tr>\n",
       "  </thead>\n",
       "  <tbody>\n",
       "    <tr>\n",
       "      <th>0</th>\n",
       "      <td>0</td>\n",
       "      <td>H_-2_-2_0.501338.dat</td>\n",
       "      <td>-2.0</td>\n",
       "      <td>-2.0</td>\n",
       "      <td>0.501338</td>\n",
       "      <td>999</td>\n",
       "      <td>666</td>\n",
       "      <td>test</td>\n",
       "      <td>0.074536</td>\n",
       "      <td>0.074536</td>\n",
       "      <td>...</td>\n",
       "      <td>0.074536</td>\n",
       "      <td>0.074536</td>\n",
       "      <td>0.074536</td>\n",
       "      <td>0.074536</td>\n",
       "      <td>0.074536</td>\n",
       "      <td>0.074536</td>\n",
       "      <td>0.074536</td>\n",
       "      <td>0.074536</td>\n",
       "      <td>0.074536</td>\n",
       "      <td>0.074536</td>\n",
       "    </tr>\n",
       "    <tr>\n",
       "      <th>1</th>\n",
       "      <td>0</td>\n",
       "      <td>H_-2_-2_0.501338.dat</td>\n",
       "      <td>-2.0</td>\n",
       "      <td>-2.0</td>\n",
       "      <td>0.501338</td>\n",
       "      <td>999</td>\n",
       "      <td>666</td>\n",
       "      <td>test</td>\n",
       "      <td>0.105409</td>\n",
       "      <td>0.105345</td>\n",
       "      <td>...</td>\n",
       "      <td>0.099052</td>\n",
       "      <td>0.097734</td>\n",
       "      <td>0.101326</td>\n",
       "      <td>0.100250</td>\n",
       "      <td>0.103106</td>\n",
       "      <td>0.102278</td>\n",
       "      <td>0.104383</td>\n",
       "      <td>0.103808</td>\n",
       "      <td>0.105152</td>\n",
       "      <td>0.104832</td>\n",
       "    </tr>\n",
       "    <tr>\n",
       "      <th>2</th>\n",
       "      <td>0</td>\n",
       "      <td>H_-2_-2_0.501338.dat</td>\n",
       "      <td>-2.0</td>\n",
       "      <td>-2.0</td>\n",
       "      <td>0.501338</td>\n",
       "      <td>999</td>\n",
       "      <td>666</td>\n",
       "      <td>test</td>\n",
       "      <td>0.105409</td>\n",
       "      <td>0.105152</td>\n",
       "      <td>...</td>\n",
       "      <td>0.080748</td>\n",
       "      <td>0.075825</td>\n",
       "      <td>0.089392</td>\n",
       "      <td>0.085278</td>\n",
       "      <td>0.096296</td>\n",
       "      <td>0.093071</td>\n",
       "      <td>0.101326</td>\n",
       "      <td>0.099052</td>\n",
       "      <td>0.104383</td>\n",
       "      <td>0.103106</td>\n",
       "    </tr>\n",
       "    <tr>\n",
       "      <th>3</th>\n",
       "      <td>0</td>\n",
       "      <td>H_-2_-2_0.501338.dat</td>\n",
       "      <td>-2.0</td>\n",
       "      <td>-2.0</td>\n",
       "      <td>0.501338</td>\n",
       "      <td>999</td>\n",
       "      <td>666</td>\n",
       "      <td>test</td>\n",
       "      <td>-0.074536</td>\n",
       "      <td>0.074536</td>\n",
       "      <td>...</td>\n",
       "      <td>-0.074536</td>\n",
       "      <td>0.074536</td>\n",
       "      <td>-0.074536</td>\n",
       "      <td>0.074536</td>\n",
       "      <td>-0.074536</td>\n",
       "      <td>0.074536</td>\n",
       "      <td>-0.074536</td>\n",
       "      <td>0.074536</td>\n",
       "      <td>-0.074536</td>\n",
       "      <td>0.074536</td>\n",
       "    </tr>\n",
       "    <tr>\n",
       "      <th>4</th>\n",
       "      <td>0</td>\n",
       "      <td>H_-2_-2_0.501338.dat</td>\n",
       "      <td>-2.0</td>\n",
       "      <td>-2.0</td>\n",
       "      <td>0.501338</td>\n",
       "      <td>999</td>\n",
       "      <td>666</td>\n",
       "      <td>test</td>\n",
       "      <td>0.000030</td>\n",
       "      <td>-0.003649</td>\n",
       "      <td>...</td>\n",
       "      <td>-0.036024</td>\n",
       "      <td>-0.039459</td>\n",
       "      <td>-0.029026</td>\n",
       "      <td>-0.032545</td>\n",
       "      <td>-0.021886</td>\n",
       "      <td>-0.025472</td>\n",
       "      <td>-0.014640</td>\n",
       "      <td>-0.018274</td>\n",
       "      <td>-0.007323</td>\n",
       "      <td>-0.010988</td>\n",
       "    </tr>\n",
       "  </tbody>\n",
       "</table>\n",
       "<p>5 rows × 188 columns</p>\n",
       "</div>"
      ],
      "text/plain": [
       "   id                  path   t1   t2   winding  phase  pred_phase type_of  \\\n",
       "0   0  H_-2_-2_0.501338.dat -2.0 -2.0  0.501338    999         666    test   \n",
       "1   0  H_-2_-2_0.501338.dat -2.0 -2.0  0.501338    999         666    test   \n",
       "2   0  H_-2_-2_0.501338.dat -2.0 -2.0  0.501338    999         666    test   \n",
       "3   0  H_-2_-2_0.501338.dat -2.0 -2.0  0.501338    999         666    test   \n",
       "4   0  H_-2_-2_0.501338.dat -2.0 -2.0  0.501338    999         666    test   \n",
       "\n",
       "       feat0      feat1  ...    feat170    feat171    feat172    feat173  \\\n",
       "0   0.074536   0.074536  ...   0.074536   0.074536   0.074536   0.074536   \n",
       "1   0.105409   0.105345  ...   0.099052   0.097734   0.101326   0.100250   \n",
       "2   0.105409   0.105152  ...   0.080748   0.075825   0.089392   0.085278   \n",
       "3  -0.074536   0.074536  ...  -0.074536   0.074536  -0.074536   0.074536   \n",
       "4   0.000030  -0.003649  ...  -0.036024  -0.039459  -0.029026  -0.032545   \n",
       "\n",
       "     feat174    feat175    feat176    feat177    feat178    feat179  \n",
       "0   0.074536   0.074536   0.074536   0.074536   0.074536   0.074536  \n",
       "1   0.103106   0.102278   0.104383   0.103808   0.105152   0.104832  \n",
       "2   0.096296   0.093071   0.101326   0.099052   0.104383   0.103106  \n",
       "3  -0.074536   0.074536  -0.074536   0.074536  -0.074536   0.074536  \n",
       "4  -0.021886  -0.025472  -0.014640  -0.018274  -0.007323  -0.010988  \n",
       "\n",
       "[5 rows x 188 columns]"
      ]
     },
     "execution_count": 5,
     "metadata": {},
     "output_type": "execute_result"
    }
   ],
   "source": [
    "dataframe.info()\n",
    "dataframe.head()\n",
    "#dataframe.tail()"
   ]
  },
  {
   "cell_type": "markdown",
   "metadata": {
    "papermill": {
     "duration": 0.157604,
     "end_time": "2020-04-05T19:49:32.331890",
     "exception": false,
     "start_time": "2020-04-05T19:49:32.174286",
     "status": "completed"
    },
    "tags": []
   },
   "source": [
    "#### Train/test "
   ]
  },
  {
   "cell_type": "code",
   "execution_count": 6,
   "metadata": {
    "execution": {
     "iopub.execute_input": "2020-04-05T19:49:32.640214Z",
     "iopub.status.busy": "2020-04-05T19:49:32.639894Z",
     "iopub.status.idle": "2020-04-05T19:49:42.162351Z",
     "shell.execute_reply": "2020-04-05T19:49:42.162029Z"
    },
    "papermill": {
     "duration": 9.679501,
     "end_time": "2020-04-05T19:49:42.162403",
     "exception": false,
     "start_time": "2020-04-05T19:49:32.482902",
     "status": "completed"
    },
    "tags": []
   },
   "outputs": [
    {
     "name": "stdout",
     "output_type": "stream",
     "text": [
      "% train:  0.9358329522938577\n",
      "% test:  0.06416704770614236\n",
      "% train + test:  1.0\n"
     ]
    }
   ],
   "source": [
    "n_total = len(dataframe)\n",
    "n_train = len(dataframe[dataframe.type_of == \"train\"])\n",
    "n_test = len(dataframe[dataframe.type_of == \"test\"])\n",
    "print(\"% train: \", n_train/n_total)\n",
    "print(\"% test: \", n_test/n_total)\n",
    "print(\"% train + test: \", (n_train+n_test)/n_total)"
   ]
  },
  {
   "cell_type": "markdown",
   "metadata": {
    "papermill": {
     "duration": 0.153993,
     "end_time": "2020-04-05T19:49:42.467011",
     "exception": false,
     "start_time": "2020-04-05T19:49:42.313018",
     "status": "completed"
    },
    "tags": []
   },
   "source": [
    "#### Unique winding values"
   ]
  },
  {
   "cell_type": "code",
   "execution_count": 7,
   "metadata": {
    "execution": {
     "iopub.execute_input": "2020-04-05T19:49:42.771999Z",
     "iopub.status.busy": "2020-04-05T19:49:42.771686Z",
     "iopub.status.idle": "2020-04-05T19:49:42.787515Z",
     "shell.execute_reply": "2020-04-05T19:49:42.787196Z"
    },
    "papermill": {
     "duration": 0.169456,
     "end_time": "2020-04-05T19:49:42.787567",
     "exception": false,
     "start_time": "2020-04-05T19:49:42.618111",
     "status": "completed"
    },
    "tags": []
   },
   "outputs": [
    {
     "data": {
      "text/plain": [
       "array([  0,   1, 999], dtype=int32)"
      ]
     },
     "execution_count": 7,
     "metadata": {},
     "output_type": "execute_result"
    }
   ],
   "source": [
    "np.unique(dataframe.phase.values)"
   ]
  },
  {
   "cell_type": "markdown",
   "metadata": {
    "papermill": {
     "duration": 0.15502,
     "end_time": "2020-04-05T19:49:43.092904",
     "exception": false,
     "start_time": "2020-04-05T19:49:42.937884",
     "status": "completed"
    },
    "tags": []
   },
   "source": [
    "#### Checking t values are row-major sorted"
   ]
  },
  {
   "cell_type": "code",
   "execution_count": 8,
   "metadata": {
    "execution": {
     "iopub.execute_input": "2020-04-05T19:49:43.400142Z",
     "iopub.status.busy": "2020-04-05T19:49:43.399828Z",
     "iopub.status.idle": "2020-04-05T19:49:43.405824Z",
     "shell.execute_reply": "2020-04-05T19:49:43.406127Z"
    },
    "papermill": {
     "duration": 0.162581,
     "end_time": "2020-04-05T19:49:43.406196",
     "exception": false,
     "start_time": "2020-04-05T19:49:43.243615",
     "status": "completed"
    },
    "tags": []
   },
   "outputs": [],
   "source": [
    "#np.set_printoptions(threshold=np.inf)\n",
    "#t_array = dataframe[[\"t1\", \"t2\"]].values\n",
    "#print(\"t_array:\\n\", t_array)\n",
    "#np.set_printoptions()"
   ]
  },
  {
   "cell_type": "markdown",
   "metadata": {
    "papermill": {
     "duration": 0.150477,
     "end_time": "2020-04-05T19:49:43.708990",
     "exception": false,
     "start_time": "2020-04-05T19:49:43.558513",
     "status": "completed"
    },
    "tags": []
   },
   "source": [
    "#### Making a grid"
   ]
  },
  {
   "cell_type": "code",
   "execution_count": 9,
   "metadata": {
    "execution": {
     "iopub.execute_input": "2020-04-05T19:49:44.032767Z",
     "iopub.status.busy": "2020-04-05T19:49:44.032452Z",
     "iopub.status.idle": "2020-04-05T19:49:44.038851Z",
     "shell.execute_reply": "2020-04-05T19:49:44.038529Z"
    },
    "papermill": {
     "duration": 0.159434,
     "end_time": "2020-04-05T19:49:44.038905",
     "exception": false,
     "start_time": "2020-04-05T19:49:43.879471",
     "status": "completed"
    },
    "tags": []
   },
   "outputs": [],
   "source": [
    "#xx = dataframe.t2.values\n",
    "#yy = dataframe.t1.values\n",
    "#print(\"xx: \\n\", xx)\n",
    "#print(\"yy: \\n\", yy)"
   ]
  },
  {
   "cell_type": "code",
   "execution_count": 10,
   "metadata": {
    "execution": {
     "iopub.execute_input": "2020-04-05T19:49:44.346065Z",
     "iopub.status.busy": "2020-04-05T19:49:44.345753Z",
     "iopub.status.idle": "2020-04-05T19:49:50.093534Z",
     "shell.execute_reply": "2020-04-05T19:49:50.093196Z"
    },
    "papermill": {
     "duration": 5.903313,
     "end_time": "2020-04-05T19:49:50.093587",
     "exception": false,
     "start_time": "2020-04-05T19:49:44.190274",
     "status": "completed"
    },
    "tags": []
   },
   "outputs": [
    {
     "data": {
      "text/html": [
       "<div>\n",
       "<style scoped>\n",
       "    .dataframe tbody tr th:only-of-type {\n",
       "        vertical-align: middle;\n",
       "    }\n",
       "\n",
       "    .dataframe tbody tr th {\n",
       "        vertical-align: top;\n",
       "    }\n",
       "\n",
       "    .dataframe thead th {\n",
       "        text-align: right;\n",
       "    }\n",
       "</style>\n",
       "<table border=\"1\" class=\"dataframe\">\n",
       "  <thead>\n",
       "    <tr style=\"text-align: right;\">\n",
       "      <th></th>\n",
       "      <th>id</th>\n",
       "      <th>path</th>\n",
       "      <th>t1</th>\n",
       "      <th>t2</th>\n",
       "      <th>winding</th>\n",
       "      <th>phase</th>\n",
       "      <th>pred_phase</th>\n",
       "      <th>type_of</th>\n",
       "      <th>feat0</th>\n",
       "      <th>feat1</th>\n",
       "      <th>...</th>\n",
       "      <th>feat170</th>\n",
       "      <th>feat171</th>\n",
       "      <th>feat172</th>\n",
       "      <th>feat173</th>\n",
       "      <th>feat174</th>\n",
       "      <th>feat175</th>\n",
       "      <th>feat176</th>\n",
       "      <th>feat177</th>\n",
       "      <th>feat178</th>\n",
       "      <th>feat179</th>\n",
       "    </tr>\n",
       "  </thead>\n",
       "  <tbody>\n",
       "    <tr>\n",
       "      <th>720</th>\n",
       "      <td>4</td>\n",
       "      <td>H_-2_-1.8_-0.00976312.dat</td>\n",
       "      <td>-2.0</td>\n",
       "      <td>-1.80</td>\n",
       "      <td>-0.009763</td>\n",
       "      <td>0</td>\n",
       "      <td>666</td>\n",
       "      <td>train</td>\n",
       "      <td>0.074536</td>\n",
       "      <td>0.074536</td>\n",
       "      <td>...</td>\n",
       "      <td>0.074536</td>\n",
       "      <td>0.074536</td>\n",
       "      <td>0.074536</td>\n",
       "      <td>0.074536</td>\n",
       "      <td>0.074536</td>\n",
       "      <td>0.074536</td>\n",
       "      <td>0.074536</td>\n",
       "      <td>0.074536</td>\n",
       "      <td>0.074536</td>\n",
       "      <td>0.074536</td>\n",
       "    </tr>\n",
       "    <tr>\n",
       "      <th>721</th>\n",
       "      <td>4</td>\n",
       "      <td>H_-2_-1.8_-0.00976312.dat</td>\n",
       "      <td>-2.0</td>\n",
       "      <td>-1.80</td>\n",
       "      <td>-0.009763</td>\n",
       "      <td>0</td>\n",
       "      <td>666</td>\n",
       "      <td>train</td>\n",
       "      <td>-0.105409</td>\n",
       "      <td>-0.105352</td>\n",
       "      <td>...</td>\n",
       "      <td>-0.099052</td>\n",
       "      <td>-0.097806</td>\n",
       "      <td>-0.101326</td>\n",
       "      <td>-0.100310</td>\n",
       "      <td>-0.103106</td>\n",
       "      <td>-0.102325</td>\n",
       "      <td>-0.104383</td>\n",
       "      <td>-0.103841</td>\n",
       "      <td>-0.105152</td>\n",
       "      <td>-0.104852</td>\n",
       "    </tr>\n",
       "    <tr>\n",
       "      <th>722</th>\n",
       "      <td>4</td>\n",
       "      <td>H_-2_-1.8_-0.00976312.dat</td>\n",
       "      <td>-2.0</td>\n",
       "      <td>-1.80</td>\n",
       "      <td>-0.009763</td>\n",
       "      <td>0</td>\n",
       "      <td>666</td>\n",
       "      <td>train</td>\n",
       "      <td>0.105409</td>\n",
       "      <td>0.105179</td>\n",
       "      <td>...</td>\n",
       "      <td>0.080748</td>\n",
       "      <td>0.076094</td>\n",
       "      <td>0.089392</td>\n",
       "      <td>0.085505</td>\n",
       "      <td>0.096296</td>\n",
       "      <td>0.093252</td>\n",
       "      <td>0.101326</td>\n",
       "      <td>0.099184</td>\n",
       "      <td>0.104383</td>\n",
       "      <td>0.103186</td>\n",
       "    </tr>\n",
       "    <tr>\n",
       "      <th>723</th>\n",
       "      <td>4</td>\n",
       "      <td>H_-2_-1.8_-0.00976312.dat</td>\n",
       "      <td>-2.0</td>\n",
       "      <td>-1.80</td>\n",
       "      <td>-0.009763</td>\n",
       "      <td>0</td>\n",
       "      <td>666</td>\n",
       "      <td>train</td>\n",
       "      <td>0.105409</td>\n",
       "      <td>0.104891</td>\n",
       "      <td>...</td>\n",
       "      <td>0.052705</td>\n",
       "      <td>0.043406</td>\n",
       "      <td>0.070533</td>\n",
       "      <td>0.062429</td>\n",
       "      <td>0.085278</td>\n",
       "      <td>0.078723</td>\n",
       "      <td>0.096296</td>\n",
       "      <td>0.091577</td>\n",
       "      <td>0.103106</td>\n",
       "      <td>0.100429</td>\n",
       "    </tr>\n",
       "    <tr>\n",
       "      <th>724</th>\n",
       "      <td>4</td>\n",
       "      <td>H_-2_-1.8_-0.00976312.dat</td>\n",
       "      <td>-2.0</td>\n",
       "      <td>-1.80</td>\n",
       "      <td>-0.009763</td>\n",
       "      <td>0</td>\n",
       "      <td>666</td>\n",
       "      <td>train</td>\n",
       "      <td>0.074536</td>\n",
       "      <td>-0.074536</td>\n",
       "      <td>...</td>\n",
       "      <td>0.074536</td>\n",
       "      <td>-0.074536</td>\n",
       "      <td>0.074536</td>\n",
       "      <td>-0.074536</td>\n",
       "      <td>0.074536</td>\n",
       "      <td>-0.074536</td>\n",
       "      <td>0.074536</td>\n",
       "      <td>-0.074536</td>\n",
       "      <td>0.074536</td>\n",
       "      <td>-0.074536</td>\n",
       "    </tr>\n",
       "    <tr>\n",
       "      <th>...</th>\n",
       "      <td>...</td>\n",
       "      <td>...</td>\n",
       "      <td>...</td>\n",
       "      <td>...</td>\n",
       "      <td>...</td>\n",
       "      <td>...</td>\n",
       "      <td>...</td>\n",
       "      <td>...</td>\n",
       "      <td>...</td>\n",
       "      <td>...</td>\n",
       "      <td>...</td>\n",
       "      <td>...</td>\n",
       "      <td>...</td>\n",
       "      <td>...</td>\n",
       "      <td>...</td>\n",
       "      <td>...</td>\n",
       "      <td>...</td>\n",
       "      <td>...</td>\n",
       "      <td>...</td>\n",
       "      <td>...</td>\n",
       "      <td>...</td>\n",
       "    </tr>\n",
       "    <tr>\n",
       "      <th>1715</th>\n",
       "      <td>9</td>\n",
       "      <td>H_-2_-1.55_-0.00373594.dat</td>\n",
       "      <td>-2.0</td>\n",
       "      <td>-1.55</td>\n",
       "      <td>-0.003736</td>\n",
       "      <td>0</td>\n",
       "      <td>666</td>\n",
       "      <td>train</td>\n",
       "      <td>0.105409</td>\n",
       "      <td>-0.075686</td>\n",
       "      <td>...</td>\n",
       "      <td>-0.105409</td>\n",
       "      <td>0.075686</td>\n",
       "      <td>0.032563</td>\n",
       "      <td>0.046389</td>\n",
       "      <td>0.085284</td>\n",
       "      <td>-0.104355</td>\n",
       "      <td>-0.085271</td>\n",
       "      <td>0.018106</td>\n",
       "      <td>-0.032584</td>\n",
       "      <td>0.093165</td>\n",
       "    </tr>\n",
       "    <tr>\n",
       "      <th>1716</th>\n",
       "      <td>9</td>\n",
       "      <td>H_-2_-1.55_-0.00373594.dat</td>\n",
       "      <td>-2.0</td>\n",
       "      <td>-1.55</td>\n",
       "      <td>-0.003736</td>\n",
       "      <td>0</td>\n",
       "      <td>666</td>\n",
       "      <td>train</td>\n",
       "      <td>0.105409</td>\n",
       "      <td>-0.077469</td>\n",
       "      <td>...</td>\n",
       "      <td>-0.098998</td>\n",
       "      <td>0.097246</td>\n",
       "      <td>0.059076</td>\n",
       "      <td>0.015941</td>\n",
       "      <td>0.070414</td>\n",
       "      <td>-0.104958</td>\n",
       "      <td>-0.093145</td>\n",
       "      <td>0.034843</td>\n",
       "      <td>-0.025347</td>\n",
       "      <td>0.088100</td>\n",
       "    </tr>\n",
       "    <tr>\n",
       "      <th>1717</th>\n",
       "      <td>9</td>\n",
       "      <td>H_-2_-1.55_-0.00373594.dat</td>\n",
       "      <td>-2.0</td>\n",
       "      <td>-1.55</td>\n",
       "      <td>-0.003736</td>\n",
       "      <td>0</td>\n",
       "      <td>666</td>\n",
       "      <td>train</td>\n",
       "      <td>0.105407</td>\n",
       "      <td>-0.072031</td>\n",
       "      <td>...</td>\n",
       "      <td>-0.080319</td>\n",
       "      <td>0.005710</td>\n",
       "      <td>-0.026146</td>\n",
       "      <td>0.092099</td>\n",
       "      <td>0.103242</td>\n",
       "      <td>-0.086457</td>\n",
       "      <td>-0.064370</td>\n",
       "      <td>-0.016298</td>\n",
       "      <td>-0.046806</td>\n",
       "      <td>0.100746</td>\n",
       "    </tr>\n",
       "    <tr>\n",
       "      <th>1718</th>\n",
       "      <td>9</td>\n",
       "      <td>H_-2_-1.55_-0.00373594.dat</td>\n",
       "      <td>-2.0</td>\n",
       "      <td>-1.55</td>\n",
       "      <td>-0.003736</td>\n",
       "      <td>0</td>\n",
       "      <td>666</td>\n",
       "      <td>train</td>\n",
       "      <td>-0.105409</td>\n",
       "      <td>0.082390</td>\n",
       "      <td>...</td>\n",
       "      <td>0.018429</td>\n",
       "      <td>-0.079058</td>\n",
       "      <td>-0.104366</td>\n",
       "      <td>0.072438</td>\n",
       "      <td>-0.011145</td>\n",
       "      <td>0.074002</td>\n",
       "      <td>0.105144</td>\n",
       "      <td>-0.077603</td>\n",
       "      <td>0.003806</td>\n",
       "      <td>-0.068585</td>\n",
       "    </tr>\n",
       "    <tr>\n",
       "      <th>1719</th>\n",
       "      <td>9</td>\n",
       "      <td>H_-2_-1.55_-0.00373594.dat</td>\n",
       "      <td>-2.0</td>\n",
       "      <td>-1.55</td>\n",
       "      <td>-0.003736</td>\n",
       "      <td>0</td>\n",
       "      <td>666</td>\n",
       "      <td>train</td>\n",
       "      <td>0.105409</td>\n",
       "      <td>-0.073814</td>\n",
       "      <td>...</td>\n",
       "      <td>-0.098929</td>\n",
       "      <td>0.043626</td>\n",
       "      <td>0.003320</td>\n",
       "      <td>0.072628</td>\n",
       "      <td>0.096442</td>\n",
       "      <td>-0.098040</td>\n",
       "      <td>-0.075575</td>\n",
       "      <td>0.000825</td>\n",
       "      <td>-0.039820</td>\n",
       "      <td>0.097422</td>\n",
       "    </tr>\n",
       "  </tbody>\n",
       "</table>\n",
       "<p>1000 rows × 188 columns</p>\n",
       "</div>"
      ],
      "text/plain": [
       "      id                        path   t1    t2   winding  phase  pred_phase  \\\n",
       "720    4   H_-2_-1.8_-0.00976312.dat -2.0 -1.80 -0.009763      0         666   \n",
       "721    4   H_-2_-1.8_-0.00976312.dat -2.0 -1.80 -0.009763      0         666   \n",
       "722    4   H_-2_-1.8_-0.00976312.dat -2.0 -1.80 -0.009763      0         666   \n",
       "723    4   H_-2_-1.8_-0.00976312.dat -2.0 -1.80 -0.009763      0         666   \n",
       "724    4   H_-2_-1.8_-0.00976312.dat -2.0 -1.80 -0.009763      0         666   \n",
       "...   ..                         ...  ...   ...       ...    ...         ...   \n",
       "1715   9  H_-2_-1.55_-0.00373594.dat -2.0 -1.55 -0.003736      0         666   \n",
       "1716   9  H_-2_-1.55_-0.00373594.dat -2.0 -1.55 -0.003736      0         666   \n",
       "1717   9  H_-2_-1.55_-0.00373594.dat -2.0 -1.55 -0.003736      0         666   \n",
       "1718   9  H_-2_-1.55_-0.00373594.dat -2.0 -1.55 -0.003736      0         666   \n",
       "1719   9  H_-2_-1.55_-0.00373594.dat -2.0 -1.55 -0.003736      0         666   \n",
       "\n",
       "     type_of      feat0      feat1  ...    feat170    feat171    feat172  \\\n",
       "720    train   0.074536   0.074536  ...   0.074536   0.074536   0.074536   \n",
       "721    train  -0.105409  -0.105352  ...  -0.099052  -0.097806  -0.101326   \n",
       "722    train   0.105409   0.105179  ...   0.080748   0.076094   0.089392   \n",
       "723    train   0.105409   0.104891  ...   0.052705   0.043406   0.070533   \n",
       "724    train   0.074536  -0.074536  ...   0.074536  -0.074536   0.074536   \n",
       "...      ...        ...        ...  ...        ...        ...        ...   \n",
       "1715   train   0.105409  -0.075686  ...  -0.105409   0.075686   0.032563   \n",
       "1716   train   0.105409  -0.077469  ...  -0.098998   0.097246   0.059076   \n",
       "1717   train   0.105407  -0.072031  ...  -0.080319   0.005710  -0.026146   \n",
       "1718   train  -0.105409   0.082390  ...   0.018429  -0.079058  -0.104366   \n",
       "1719   train   0.105409  -0.073814  ...  -0.098929   0.043626   0.003320   \n",
       "\n",
       "        feat173    feat174    feat175    feat176    feat177    feat178  \\\n",
       "720    0.074536   0.074536   0.074536   0.074536   0.074536   0.074536   \n",
       "721   -0.100310  -0.103106  -0.102325  -0.104383  -0.103841  -0.105152   \n",
       "722    0.085505   0.096296   0.093252   0.101326   0.099184   0.104383   \n",
       "723    0.062429   0.085278   0.078723   0.096296   0.091577   0.103106   \n",
       "724   -0.074536   0.074536  -0.074536   0.074536  -0.074536   0.074536   \n",
       "...         ...        ...        ...        ...        ...        ...   \n",
       "1715   0.046389   0.085284  -0.104355  -0.085271   0.018106  -0.032584   \n",
       "1716   0.015941   0.070414  -0.104958  -0.093145   0.034843  -0.025347   \n",
       "1717   0.092099   0.103242  -0.086457  -0.064370  -0.016298  -0.046806   \n",
       "1718   0.072438  -0.011145   0.074002   0.105144  -0.077603   0.003806   \n",
       "1719   0.072628   0.096442  -0.098040  -0.075575   0.000825  -0.039820   \n",
       "\n",
       "        feat179  \n",
       "720    0.074536  \n",
       "721   -0.104852  \n",
       "722    0.103186  \n",
       "723    0.100429  \n",
       "724   -0.074536  \n",
       "...         ...  \n",
       "1715   0.093165  \n",
       "1716   0.088100  \n",
       "1717   0.100746  \n",
       "1718  -0.068585  \n",
       "1719   0.097422  \n",
       "\n",
       "[1000 rows x 188 columns]"
      ]
     },
     "execution_count": 10,
     "metadata": {},
     "output_type": "execute_result"
    }
   ],
   "source": [
    "# A view of train data\n",
    "dataframe[dataframe.type_of == \"train\"].head(1000)"
   ]
  },
  {
   "cell_type": "code",
   "execution_count": 11,
   "metadata": {
    "execution": {
     "iopub.execute_input": "2020-04-05T19:49:50.409671Z",
     "iopub.status.busy": "2020-04-05T19:49:50.409358Z",
     "iopub.status.idle": "2020-04-05T19:49:50.416109Z",
     "shell.execute_reply": "2020-04-05T19:49:50.415682Z"
    },
    "papermill": {
     "duration": 0.16466,
     "end_time": "2020-04-05T19:49:50.416168",
     "exception": false,
     "start_time": "2020-04-05T19:49:50.251508",
     "status": "completed"
    },
    "tags": []
   },
   "outputs": [],
   "source": [
    "# A view of test data\n",
    "#dataframe[dataframe.type_of == \"test\"].head(1000)"
   ]
  },
  {
   "cell_type": "markdown",
   "metadata": {
    "papermill": {
     "duration": 0.153983,
     "end_time": "2020-04-05T19:49:50.737440",
     "exception": false,
     "start_time": "2020-04-05T19:49:50.583457",
     "status": "completed"
    },
    "tags": []
   },
   "source": [
    "#### clearing variables"
   ]
  },
  {
   "cell_type": "code",
   "execution_count": 12,
   "metadata": {
    "execution": {
     "iopub.execute_input": "2020-04-05T19:49:51.049912Z",
     "iopub.status.busy": "2020-04-05T19:49:51.049602Z",
     "iopub.status.idle": "2020-04-05T19:49:51.055864Z",
     "shell.execute_reply": "2020-04-05T19:49:51.055594Z"
    },
    "papermill": {
     "duration": 0.165837,
     "end_time": "2020-04-05T19:49:51.055919",
     "exception": false,
     "start_time": "2020-04-05T19:49:50.890082",
     "status": "completed"
    },
    "tags": []
   },
   "outputs": [],
   "source": [
    "#del list_of_hamiltonians\n",
    "#del raw_data\n",
    "#del dataframe"
   ]
  },
  {
   "cell_type": "code",
   "execution_count": null,
   "metadata": {
    "papermill": {
     "duration": 0.152373,
     "end_time": "2020-04-05T19:49:51.358631",
     "exception": false,
     "start_time": "2020-04-05T19:49:51.206258",
     "status": "completed"
    },
    "tags": []
   },
   "outputs": [],
   "source": []
  }
 ],
 "metadata": {
  "celltoolbar": "Tags",
  "kernelspec": {
   "display_name": "ml_top_phases",
   "language": "python",
   "name": "ml_top_phases"
  },
  "language_info": {
   "codemirror_mode": {
    "name": "ipython",
    "version": 3
   },
   "file_extension": ".py",
   "mimetype": "text/x-python",
   "name": "python",
   "nbconvert_exporter": "python",
   "pygments_lexer": "ipython3",
   "version": "3.6.10"
  },
  "papermill": {
   "duration": 318.887052,
   "end_time": "2020-04-05T19:49:52.132233",
   "environment_variables": {},
   "exception": null,
   "input_path": "preprocessing_template.ipynb",
   "output_path": "preprocessing_output_ssh1_periodic_180_6561.ipynb",
   "parameters": {
    "allowed_windings": [
     0,
     1
    ],
    "csv_dir": "/home/rio/ssh_csvs/ssh1",
    "csv_name": "periodic_180_6561.csv",
    "epsilon": 0.01,
    "grid_folder": "/home/rio/ssh_grids/ssh1/periodic_180_6561"
   },
   "start_time": "2020-04-05T19:44:33.245181",
   "version": "2.1.0"
  }
 },
 "nbformat": 4,
 "nbformat_minor": 2
}