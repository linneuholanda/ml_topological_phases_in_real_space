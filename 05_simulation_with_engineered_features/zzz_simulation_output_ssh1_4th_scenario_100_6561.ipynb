{
 "cells": [
  {
   "cell_type": "markdown",
   "metadata": {
    "papermill": {
     "duration": 0.019397,
     "end_time": "2020-07-09T09:03:54.300520",
     "exception": false,
     "start_time": "2020-07-09T09:03:54.281123",
     "status": "completed"
    },
    "tags": []
   },
   "source": [
    "# Simulation template \n",
    "\n",
    "In this notebook we run the machine learning analysis of topological phase transitions occurring  in both nearest-neighbours SSH models (ssh1) and second neighbours models (ssh2) as decribed in the paper [Machine learning topological phases in real space](https://arxiv.org/abs/1901.01963). Here the simulation is run with features generated from fourier components in the first scenario. This scenario is characterized by using only the EVEN wavevector space eigenmodes, computed from ALL real space components."
   ]
  },
  {
   "cell_type": "markdown",
   "metadata": {
    "papermill": {
     "duration": 0.014955,
     "end_time": "2020-07-09T09:03:54.331330",
     "exception": false,
     "start_time": "2020-07-09T09:03:54.316375",
     "status": "completed"
    },
    "tags": []
   },
   "source": [
    "## Defining parameters"
   ]
  },
  {
   "cell_type": "code",
   "execution_count": 1,
   "metadata": {
    "execution": {
     "iopub.execute_input": "2020-07-09T09:03:54.364372Z",
     "iopub.status.busy": "2020-07-09T09:03:54.364055Z",
     "iopub.status.idle": "2020-07-09T09:03:54.944420Z",
     "shell.execute_reply": "2020-07-09T09:03:54.944085Z"
    },
    "papermill": {
     "duration": 0.5979,
     "end_time": "2020-07-09T09:03:54.944477",
     "exception": false,
     "start_time": "2020-07-09T09:03:54.346577",
     "status": "completed"
    },
    "tags": []
   },
   "outputs": [
    {
     "name": "stdout",
     "output_type": "stream",
     "text": [
      "CPU times: user 762 ms, sys: 259 ms, total: 1.02 s\n",
      "Wall time: 573 ms\n"
     ]
    }
   ],
   "source": [
    "%%time\n",
    "%load_ext autoreload\n",
    "%autoreload 2\n",
    "from simulation import *"
   ]
  },
  {
   "cell_type": "code",
   "execution_count": 2,
   "metadata": {
    "execution": {
     "iopub.execute_input": "2020-07-09T09:03:54.978154Z",
     "iopub.status.busy": "2020-07-09T09:03:54.977793Z",
     "iopub.status.idle": "2020-07-09T09:03:54.988420Z",
     "shell.execute_reply": "2020-07-09T09:03:54.988730Z"
    },
    "papermill": {
     "duration": 0.028172,
     "end_time": "2020-07-09T09:03:54.988798",
     "exception": false,
     "start_time": "2020-07-09T09:03:54.960626",
     "status": "completed"
    },
    "tags": [
     "parameters"
    ]
   },
   "outputs": [
    {
     "name": "stdout",
     "output_type": "stream",
     "text": [
      "CPU times: user 2 µs, sys: 0 ns, total: 2 µs\n",
      "Wall time: 5.48 µs\n"
     ]
    }
   ],
   "source": [
    "%%time\n",
    "### Dataset and simulation parameters\n",
    "#csv_path = SSH2_PERIODIC_100_6561_CSV \n",
    "csv_path = SSH1_PERIODIC_100_6561_CSV \n",
    "model_name = \"DecisionTreeClassifier\"\n",
    "model_kw = {\"criterion\":\"entropy\"}\n",
    "allowed_windings = [0,1]\n",
    "#allowed_windings = [-1,0,1,2]\n",
    "simulation_dir = SSH1_PERIODIC_1ST_SCENARIO_100_6561_SIMULATION_DIR\n",
    "#simulation_dir = SSH2_PERIODIC_ENGINEERED_100_6561_SIMULATION_DIR\n",
    "val_split = 0.9  \n",
    "features_to_use = None\n",
    "shuffle_features = False\n",
    "random_state = 763\n",
    "\n",
    "### Fourier features\n",
    "fourier_mode = \"dft\"\n",
    "fourier_features_to_use = None\n",
    "fourier_real = \"real\"\n",
    "fourier_normalize = True\n",
    "fourier_fillna = False\n",
    "\n",
    "### Running a simulation\n",
    "n_experiments = 5\n",
    "start_n = 0\n",
    "fit_params = None\n",
    "#mode=mode\n",
    "shuffle_rows = True\n",
    "pred_params = None\n",
    "random_features = False\n",
    "######### DON'T SET THIS TO TRUE UNLESS YOUR DATASET IS SMALL!! WILL FLOOD YOUR MEMORY!!!\n",
    "store_in_lists = False   \n",
    "########## BELOW ARE THE PARAMETERS THAT CONTROL WHAT WILL BE SAVED\n",
    "save_eigenvector=True\n",
    "save_hamiltonian=True \n",
    "save_accuracy=True \n",
    "save_models=True"
   ]
  },
  {
   "cell_type": "code",
   "execution_count": 3,
   "metadata": {
    "execution": {
     "iopub.execute_input": "2020-07-09T09:03:55.037328Z",
     "iopub.status.busy": "2020-07-09T09:03:55.037011Z",
     "iopub.status.idle": "2020-07-09T09:03:55.146977Z",
     "shell.execute_reply": "2020-07-09T09:03:55.148636Z"
    },
    "papermill": {
     "duration": 0.144766,
     "end_time": "2020-07-09T09:03:55.148930",
     "exception": false,
     "start_time": "2020-07-09T09:03:55.004164",
     "status": "completed"
    },
    "tags": [
     "injected-parameters"
    ]
   },
   "outputs": [],
   "source": [
    "# Parameters\n",
    "model_kw = {\"criterion\": \"entropy\"}\n",
    "allowed_windings = [0, 1]\n",
    "val_split = 0.9\n",
    "features_to_use = None\n",
    "shuffle_features = False\n",
    "n_experiments = 100\n",
    "start_n = 0\n",
    "fit_params = None\n",
    "shuffle_rows = True\n",
    "pred_params = None\n",
    "random_features = False\n",
    "store_in_lists = False\n",
    "save_eigenvector = True\n",
    "save_hamiltonian = True\n",
    "save_accuracy = True\n",
    "save_models = True\n",
    "csv_path = \"/home/rio/ssh_csvs/ssh1/periodic_100_6561.csv\"\n",
    "model_name = \"DecisionTreeClassifier\"\n",
    "simulation_dir = \"/home/rio/ssh_simulations/ssh1/periodic_4th_scenario_100_6561\"\n",
    "random_state = 548936312\n",
    "fourier_features_to_use = [\n",
    "    0,\n",
    "    1,\n",
    "    2,\n",
    "    3,\n",
    "    4,\n",
    "    5,\n",
    "    6,\n",
    "    7,\n",
    "    8,\n",
    "    9,\n",
    "    10,\n",
    "    11,\n",
    "    12,\n",
    "    13,\n",
    "    14,\n",
    "    15,\n",
    "    16,\n",
    "    17,\n",
    "    18,\n",
    "    19,\n",
    "    20,\n",
    "    21,\n",
    "    22,\n",
    "    23,\n",
    "    24,\n",
    "    25,\n",
    "    26,\n",
    "    27,\n",
    "    28,\n",
    "    29,\n",
    "    30,\n",
    "    31,\n",
    "    32,\n",
    "    33,\n",
    "    34,\n",
    "    35,\n",
    "    36,\n",
    "    37,\n",
    "    38,\n",
    "    39,\n",
    "    40,\n",
    "    41,\n",
    "    42,\n",
    "    43,\n",
    "    44,\n",
    "    45,\n",
    "    46,\n",
    "    47,\n",
    "    48,\n",
    "    49,\n",
    "    50,\n",
    "]\n",
    "fourier_mode = \"dct\"\n",
    "fourier_real = None\n",
    "fourier_normalize = False\n",
    "fourier_fillna = False\n",
    "normalize = False\n",
    "fillna = False\n"
   ]
  },
  {
   "cell_type": "code",
   "execution_count": 4,
   "metadata": {
    "execution": {
     "iopub.execute_input": "2020-07-09T09:03:55.224135Z",
     "iopub.status.busy": "2020-07-09T09:03:55.223786Z",
     "iopub.status.idle": "2020-07-09T09:04:00.898541Z",
     "shell.execute_reply": "2020-07-09T09:04:00.898225Z"
    },
    "papermill": {
     "duration": 5.695925,
     "end_time": "2020-07-09T09:04:00.898591",
     "exception": false,
     "start_time": "2020-07-09T09:03:55.202666",
     "status": "completed"
    },
    "tags": []
   },
   "outputs": [
    {
     "name": "stdout",
     "output_type": "stream",
     "text": [
      "Info on all data: \n",
      "\n",
      "<class 'pandas.core.frame.DataFrame'>\n",
      "Int64Index: 656100 entries, 0 to 656099\n",
      "Columns: 108 entries, id to feat99\n",
      "dtypes: float64(103), int32(3), object(2)\n",
      "memory usage: 538.1+ MB\n",
      "CPU times: user 5.91 s, sys: 576 ms, total: 6.49 s\n",
      "Wall time: 5.65 s\n"
     ]
    },
    {
     "data": {
      "text/html": [
       "<div>\n",
       "<style scoped>\n",
       "    .dataframe tbody tr th:only-of-type {\n",
       "        vertical-align: middle;\n",
       "    }\n",
       "\n",
       "    .dataframe tbody tr th {\n",
       "        vertical-align: top;\n",
       "    }\n",
       "\n",
       "    .dataframe thead th {\n",
       "        text-align: right;\n",
       "    }\n",
       "</style>\n",
       "<table border=\"1\" class=\"dataframe\">\n",
       "  <thead>\n",
       "    <tr style=\"text-align: right;\">\n",
       "      <th></th>\n",
       "      <th>id</th>\n",
       "      <th>path</th>\n",
       "      <th>t1</th>\n",
       "      <th>t2</th>\n",
       "      <th>winding</th>\n",
       "      <th>phase</th>\n",
       "      <th>pred_phase</th>\n",
       "      <th>type_of</th>\n",
       "      <th>feat0</th>\n",
       "      <th>feat1</th>\n",
       "      <th>...</th>\n",
       "      <th>feat90</th>\n",
       "      <th>feat91</th>\n",
       "      <th>feat92</th>\n",
       "      <th>feat93</th>\n",
       "      <th>feat94</th>\n",
       "      <th>feat95</th>\n",
       "      <th>feat96</th>\n",
       "      <th>feat97</th>\n",
       "      <th>feat98</th>\n",
       "      <th>feat99</th>\n",
       "    </tr>\n",
       "  </thead>\n",
       "  <tbody>\n",
       "    <tr>\n",
       "      <th>0</th>\n",
       "      <td>0</td>\n",
       "      <td>H_-2_-2_0.509296.dat</td>\n",
       "      <td>-2.0</td>\n",
       "      <td>-2.0</td>\n",
       "      <td>0.509296</td>\n",
       "      <td>999</td>\n",
       "      <td>666</td>\n",
       "      <td>test</td>\n",
       "      <td>0.100000</td>\n",
       "      <td>0.100000</td>\n",
       "      <td>...</td>\n",
       "      <td>0.100000</td>\n",
       "      <td>0.100000</td>\n",
       "      <td>0.100000</td>\n",
       "      <td>0.100000</td>\n",
       "      <td>0.100000</td>\n",
       "      <td>0.100000</td>\n",
       "      <td>0.100000</td>\n",
       "      <td>0.100000</td>\n",
       "      <td>0.100000</td>\n",
       "      <td>0.100000</td>\n",
       "    </tr>\n",
       "    <tr>\n",
       "      <th>1</th>\n",
       "      <td>0</td>\n",
       "      <td>H_-2_-2_0.509296.dat</td>\n",
       "      <td>-2.0</td>\n",
       "      <td>-2.0</td>\n",
       "      <td>0.509296</td>\n",
       "      <td>999</td>\n",
       "      <td>666</td>\n",
       "      <td>test</td>\n",
       "      <td>0.141421</td>\n",
       "      <td>0.141142</td>\n",
       "      <td>...</td>\n",
       "      <td>0.114412</td>\n",
       "      <td>0.108967</td>\n",
       "      <td>0.123928</td>\n",
       "      <td>0.119406</td>\n",
       "      <td>0.131490</td>\n",
       "      <td>0.127962</td>\n",
       "      <td>0.136978</td>\n",
       "      <td>0.134500</td>\n",
       "      <td>0.140306</td>\n",
       "      <td>0.138916</td>\n",
       "    </tr>\n",
       "    <tr>\n",
       "      <th>2</th>\n",
       "      <td>0</td>\n",
       "      <td>H_-2_-2_0.509296.dat</td>\n",
       "      <td>-2.0</td>\n",
       "      <td>-2.0</td>\n",
       "      <td>0.509296</td>\n",
       "      <td>999</td>\n",
       "      <td>666</td>\n",
       "      <td>test</td>\n",
       "      <td>0.141421</td>\n",
       "      <td>0.140306</td>\n",
       "      <td>...</td>\n",
       "      <td>0.043702</td>\n",
       "      <td>0.026500</td>\n",
       "      <td>0.075777</td>\n",
       "      <td>0.060214</td>\n",
       "      <td>0.103092</td>\n",
       "      <td>0.090145</td>\n",
       "      <td>0.123928</td>\n",
       "      <td>0.114412</td>\n",
       "      <td>0.136978</td>\n",
       "      <td>0.131490</td>\n",
       "    </tr>\n",
       "    <tr>\n",
       "      <th>3</th>\n",
       "      <td>0</td>\n",
       "      <td>H_-2_-2_0.509296.dat</td>\n",
       "      <td>-2.0</td>\n",
       "      <td>-2.0</td>\n",
       "      <td>0.509296</td>\n",
       "      <td>999</td>\n",
       "      <td>666</td>\n",
       "      <td>test</td>\n",
       "      <td>-0.100000</td>\n",
       "      <td>0.100000</td>\n",
       "      <td>...</td>\n",
       "      <td>-0.100000</td>\n",
       "      <td>0.100000</td>\n",
       "      <td>-0.100000</td>\n",
       "      <td>0.100000</td>\n",
       "      <td>-0.100000</td>\n",
       "      <td>0.100000</td>\n",
       "      <td>-0.100000</td>\n",
       "      <td>0.100000</td>\n",
       "      <td>-0.100000</td>\n",
       "      <td>0.100000</td>\n",
       "    </tr>\n",
       "    <tr>\n",
       "      <th>4</th>\n",
       "      <td>0</td>\n",
       "      <td>H_-2_-2_0.509296.dat</td>\n",
       "      <td>-2.0</td>\n",
       "      <td>-2.0</td>\n",
       "      <td>0.509296</td>\n",
       "      <td>999</td>\n",
       "      <td>666</td>\n",
       "      <td>test</td>\n",
       "      <td>0.000509</td>\n",
       "      <td>-0.008372</td>\n",
       "      <td>...</td>\n",
       "      <td>-0.082713</td>\n",
       "      <td>-0.089753</td>\n",
       "      <td>-0.067684</td>\n",
       "      <td>-0.075347</td>\n",
       "      <td>-0.051587</td>\n",
       "      <td>-0.059753</td>\n",
       "      <td>-0.034677</td>\n",
       "      <td>-0.043217</td>\n",
       "      <td>-0.017220</td>\n",
       "      <td>-0.026000</td>\n",
       "    </tr>\n",
       "  </tbody>\n",
       "</table>\n",
       "<p>5 rows × 108 columns</p>\n",
       "</div>"
      ],
      "text/plain": [
       "   id                  path   t1   t2   winding  phase  pred_phase type_of  \\\n",
       "0   0  H_-2_-2_0.509296.dat -2.0 -2.0  0.509296    999         666    test   \n",
       "1   0  H_-2_-2_0.509296.dat -2.0 -2.0  0.509296    999         666    test   \n",
       "2   0  H_-2_-2_0.509296.dat -2.0 -2.0  0.509296    999         666    test   \n",
       "3   0  H_-2_-2_0.509296.dat -2.0 -2.0  0.509296    999         666    test   \n",
       "4   0  H_-2_-2_0.509296.dat -2.0 -2.0  0.509296    999         666    test   \n",
       "\n",
       "      feat0     feat1  ...    feat90    feat91    feat92    feat93    feat94  \\\n",
       "0  0.100000  0.100000  ...  0.100000  0.100000  0.100000  0.100000  0.100000   \n",
       "1  0.141421  0.141142  ...  0.114412  0.108967  0.123928  0.119406  0.131490   \n",
       "2  0.141421  0.140306  ...  0.043702  0.026500  0.075777  0.060214  0.103092   \n",
       "3 -0.100000  0.100000  ... -0.100000  0.100000 -0.100000  0.100000 -0.100000   \n",
       "4  0.000509 -0.008372  ... -0.082713 -0.089753 -0.067684 -0.075347 -0.051587   \n",
       "\n",
       "     feat95    feat96    feat97    feat98    feat99  \n",
       "0  0.100000  0.100000  0.100000  0.100000  0.100000  \n",
       "1  0.127962  0.136978  0.134500  0.140306  0.138916  \n",
       "2  0.090145  0.123928  0.114412  0.136978  0.131490  \n",
       "3  0.100000 -0.100000  0.100000 -0.100000  0.100000  \n",
       "4 -0.059753 -0.034677 -0.043217 -0.017220 -0.026000  \n",
       "\n",
       "[5 rows x 108 columns]"
      ]
     },
     "execution_count": 4,
     "metadata": {},
     "output_type": "execute_result"
    }
   ],
   "source": [
    "%%time\n",
    "#Starting an instance of Simulation with a decision tree\n",
    "model = DecisionTreeClassifier(criterion=\"entropy\")\n",
    "#dict_args = {\"csv_path\":csv_path, \"model\":model, \"allowed_windings\":allowed_windings,\\\n",
    "#             \"simulation_dir\":simulation_dir, \"val_split\":val_split, \"features_to_use\":features_to_use,\\\n",
    "#            \"shuffle_features\":shuffle_features, \"random_state\":random_state}\n",
    "simulation = Simulation(csv_path,model_name,model_kw,allowed_windings,simulation_dir,val_split,features_to_use,\\\n",
    "                       shuffle_features,fourier_mode,fourier_features_to_use,fourier_real,\\\n",
    "                       fourier_normalize, fourier_fillna , random_state)\n",
    "#simulation = Simulation(**dict_args)\n",
    "\n",
    "\n",
    "#(self, csv_path, model_name, model_kw, allowed_windings, simulation_dir = None, val_split = 0, \n",
    "# features_to_use = None, shuffle_features = False, fourier_mode=None, fourier_features_to_use=None,\n",
    "# fourier_real = False, fourier_normalize = False, Fourier_fillna=False, random_state = None):\n",
    "\n",
    "\n",
    "\n",
    "print(\"Info on all data: \\n\")\n",
    "simulation.dataframe.info()\n",
    "simulation.dataframe.head()"
   ]
  },
  {
   "cell_type": "markdown",
   "metadata": {
    "papermill": {
     "duration": 0.016422,
     "end_time": "2020-07-09T09:04:00.931848",
     "exception": false,
     "start_time": "2020-07-09T09:04:00.915426",
     "status": "completed"
    },
    "tags": []
   },
   "source": [
    "####  Fourier features"
   ]
  },
  {
   "cell_type": "code",
   "execution_count": 5,
   "metadata": {
    "execution": {
     "iopub.execute_input": "2020-07-09T09:04:00.965638Z",
     "iopub.status.busy": "2020-07-09T09:04:00.965329Z",
     "iopub.status.idle": "2020-07-09T09:04:01.165884Z",
     "shell.execute_reply": "2020-07-09T09:04:01.165569Z"
    },
    "papermill": {
     "duration": 0.218163,
     "end_time": "2020-07-09T09:04:01.165935",
     "exception": false,
     "start_time": "2020-07-09T09:04:00.947772",
     "status": "completed"
    },
    "tags": []
   },
   "outputs": [
    {
     "name": "stdout",
     "output_type": "stream",
     "text": [
      "<class 'pandas.core.frame.DataFrame'>\n",
      "Int64Index: 656100 entries, 0 to 656099\n",
      "Data columns (total 59 columns):\n",
      " #   Column      Non-Null Count   Dtype  \n",
      "---  ------      --------------   -----  \n",
      " 0   id          656100 non-null  int32  \n",
      " 1   path        656100 non-null  object \n",
      " 2   t1          656100 non-null  float64\n",
      " 3   t2          656100 non-null  float64\n",
      " 4   winding     656100 non-null  float64\n",
      " 5   phase       656100 non-null  int32  \n",
      " 6   pred_phase  656100 non-null  int32  \n",
      " 7   type_of     656100 non-null  object \n",
      " 8   dct_feat0   656100 non-null  float64\n",
      " 9   dct_feat1   656100 non-null  float64\n",
      " 10  dct_feat2   656100 non-null  float64\n",
      " 11  dct_feat3   656100 non-null  float64\n",
      " 12  dct_feat4   656100 non-null  float64\n",
      " 13  dct_feat5   656100 non-null  float64\n",
      " 14  dct_feat6   656100 non-null  float64\n",
      " 15  dct_feat7   656100 non-null  float64\n",
      " 16  dct_feat8   656100 non-null  float64\n",
      " 17  dct_feat9   656100 non-null  float64\n",
      " 18  dct_feat10  656100 non-null  float64\n",
      " 19  dct_feat11  656100 non-null  float64\n",
      " 20  dct_feat12  656100 non-null  float64\n",
      " 21  dct_feat13  656100 non-null  float64\n",
      " 22  dct_feat14  656100 non-null  float64\n",
      " 23  dct_feat15  656100 non-null  float64\n",
      " 24  dct_feat16  656100 non-null  float64\n",
      " 25  dct_feat17  656100 non-null  float64\n",
      " 26  dct_feat18  656100 non-null  float64\n",
      " 27  dct_feat19  656100 non-null  float64\n",
      " 28  dct_feat20  656100 non-null  float64\n",
      " 29  dct_feat21  656100 non-null  float64\n",
      " 30  dct_feat22  656100 non-null  float64\n",
      " 31  dct_feat23  656100 non-null  float64\n",
      " 32  dct_feat24  656100 non-null  float64\n",
      " 33  dct_feat25  656100 non-null  float64\n",
      " 34  dct_feat26  656100 non-null  float64\n",
      " 35  dct_feat27  656100 non-null  float64\n",
      " 36  dct_feat28  656100 non-null  float64\n",
      " 37  dct_feat29  656100 non-null  float64\n",
      " 38  dct_feat30  656100 non-null  float64\n",
      " 39  dct_feat31  656100 non-null  float64\n",
      " 40  dct_feat32  656100 non-null  float64\n",
      " 41  dct_feat33  656100 non-null  float64\n",
      " 42  dct_feat34  656100 non-null  float64\n",
      " 43  dct_feat35  656100 non-null  float64\n",
      " 44  dct_feat36  656100 non-null  float64\n",
      " 45  dct_feat37  656100 non-null  float64\n",
      " 46  dct_feat38  656100 non-null  float64\n",
      " 47  dct_feat39  656100 non-null  float64\n",
      " 48  dct_feat40  656100 non-null  float64\n",
      " 49  dct_feat41  656100 non-null  float64\n",
      " 50  dct_feat42  656100 non-null  float64\n",
      " 51  dct_feat43  656100 non-null  float64\n",
      " 52  dct_feat44  656100 non-null  float64\n",
      " 53  dct_feat45  656100 non-null  float64\n",
      " 54  dct_feat46  656100 non-null  float64\n",
      " 55  dct_feat47  656100 non-null  float64\n",
      " 56  dct_feat48  656100 non-null  float64\n",
      " 57  dct_feat49  656100 non-null  float64\n",
      " 58  dct_feat50  656100 non-null  float64\n",
      "dtypes: float64(54), int32(3), object(2)\n",
      "memory usage: 292.8+ MB\n",
      "CPU times: user 175 ms, sys: 16.2 ms, total: 191 ms\n",
      "Wall time: 190 ms\n"
     ]
    }
   ],
   "source": [
    "%%time\n",
    "#simulation.generate_fourier_df()\n",
    "if simulation.fourier_mode is not None:\n",
    "    simulation.fourier_dataframe.info() \n",
    "    simulation.fourier_dataframe.sample(15)\n"
   ]
  },
  {
   "cell_type": "code",
   "execution_count": 6,
   "metadata": {
    "execution": {
     "iopub.execute_input": "2020-07-09T09:04:01.201867Z",
     "iopub.status.busy": "2020-07-09T09:04:01.201553Z",
     "iopub.status.idle": "2020-07-09T09:04:01.212417Z",
     "shell.execute_reply": "2020-07-09T09:04:01.212670Z"
    },
    "papermill": {
     "duration": 0.029802,
     "end_time": "2020-07-09T09:04:01.212737",
     "exception": false,
     "start_time": "2020-07-09T09:04:01.182935",
     "status": "completed"
    },
    "tags": []
   },
   "outputs": [
    {
     "name": "stdout",
     "output_type": "stream",
     "text": [
      "features_to_use: \n",
      "\n",
      "\n",
      "None\n",
      "\n",
      "\n",
      "fourier_features: \n",
      "\n",
      "\n",
      "['dct_feat0', 'dct_feat1', 'dct_feat2', 'dct_feat3', 'dct_feat4', 'dct_feat5', 'dct_feat6', 'dct_feat7', 'dct_feat8', 'dct_feat9', 'dct_feat10', 'dct_feat11', 'dct_feat12', 'dct_feat13', 'dct_feat14', 'dct_feat15', 'dct_feat16', 'dct_feat17', 'dct_feat18', 'dct_feat19', 'dct_feat20', 'dct_feat21', 'dct_feat22', 'dct_feat23', 'dct_feat24', 'dct_feat25', 'dct_feat26', 'dct_feat27', 'dct_feat28', 'dct_feat29', 'dct_feat30', 'dct_feat31', 'dct_feat32', 'dct_feat33', 'dct_feat34', 'dct_feat35', 'dct_feat36', 'dct_feat37', 'dct_feat38', 'dct_feat39', 'dct_feat40', 'dct_feat41', 'dct_feat42', 'dct_feat43', 'dct_feat44', 'dct_feat45', 'dct_feat46', 'dct_feat47', 'dct_feat48', 'dct_feat49', 'dct_feat50']\n",
      "\n",
      "\n",
      "Number of Fourier features: \n",
      "\n",
      "\n",
      "51\n"
     ]
    }
   ],
   "source": [
    "print(\"features_to_use: \")\n",
    "print(\"\\n\")\n",
    "print(simulation.features_to_use)\n",
    "if simulation.features_to_use is not None:\n",
    "    print(\"Number of real space features:\")\n",
    "    print(\"\\n\")\n",
    "    print(len(simulation.features_to_use))\n",
    "print(\"\\n\")\n",
    "print(\"fourier_features: \")\n",
    "print(\"\\n\")\n",
    "print(simulation.fourier_features)\n",
    "print(\"\\n\")\n",
    "if simulation.fourier_features is not None:\n",
    "    print(\"Number of Fourier features: \")\n",
    "    print(\"\\n\")\n",
    "    print(len(simulation.fourier_features))"
   ]
  },
  {
   "cell_type": "code",
   "execution_count": 7,
   "metadata": {
    "execution": {
     "iopub.execute_input": "2020-07-09T09:04:01.246786Z",
     "iopub.status.busy": "2020-07-09T09:04:01.246483Z",
     "iopub.status.idle": "2020-07-09T09:04:01.270037Z",
     "shell.execute_reply": "2020-07-09T09:04:01.270287Z"
    },
    "papermill": {
     "duration": 0.041423,
     "end_time": "2020-07-09T09:04:01.270354",
     "exception": false,
     "start_time": "2020-07-09T09:04:01.228931",
     "status": "completed"
    },
    "tags": []
   },
   "outputs": [],
   "source": [
    "#simulation.dataframe.iloc[331456,:]"
   ]
  },
  {
   "cell_type": "code",
   "execution_count": 8,
   "metadata": {
    "execution": {
     "iopub.execute_input": "2020-07-09T09:04:01.307264Z",
     "iopub.status.busy": "2020-07-09T09:04:01.306960Z",
     "iopub.status.idle": "2020-07-09T09:04:01.391040Z",
     "shell.execute_reply": "2020-07-09T09:04:01.392604Z"
    },
    "papermill": {
     "duration": 0.105841,
     "end_time": "2020-07-09T09:04:01.393031",
     "exception": false,
     "start_time": "2020-07-09T09:04:01.287190",
     "status": "completed"
    },
    "tags": []
   },
   "outputs": [],
   "source": [
    "#for ix, obj in enumerate(simulation.dataframe.iloc[331456,:].values):\n",
    "#    print(ix,obj)"
   ]
  },
  {
   "cell_type": "code",
   "execution_count": 9,
   "metadata": {
    "execution": {
     "iopub.execute_input": "2020-07-09T09:04:01.472047Z",
     "iopub.status.busy": "2020-07-09T09:04:01.471545Z",
     "iopub.status.idle": "2020-07-09T09:04:01.481609Z",
     "shell.execute_reply": "2020-07-09T09:04:01.481272Z"
    },
    "papermill": {
     "duration": 0.032748,
     "end_time": "2020-07-09T09:04:01.481660",
     "exception": false,
     "start_time": "2020-07-09T09:04:01.448912",
     "status": "completed"
    },
    "tags": []
   },
   "outputs": [],
   "source": [
    "#simulation.fourier_engineered_dataframe.dct_feat0"
   ]
  },
  {
   "cell_type": "code",
   "execution_count": 10,
   "metadata": {
    "execution": {
     "iopub.execute_input": "2020-07-09T09:04:01.516297Z",
     "iopub.status.busy": "2020-07-09T09:04:01.515809Z",
     "iopub.status.idle": "2020-07-09T09:04:01.579906Z",
     "shell.execute_reply": "2020-07-09T09:04:01.579370Z"
    },
    "papermill": {
     "duration": 0.082041,
     "end_time": "2020-07-09T09:04:01.579986",
     "exception": false,
     "start_time": "2020-07-09T09:04:01.497945",
     "status": "completed"
    },
    "tags": []
   },
   "outputs": [],
   "source": [
    "#simulation.features"
   ]
  },
  {
   "cell_type": "code",
   "execution_count": 11,
   "metadata": {
    "execution": {
     "iopub.execute_input": "2020-07-09T09:04:01.634031Z",
     "iopub.status.busy": "2020-07-09T09:04:01.633506Z",
     "iopub.status.idle": "2020-07-09T09:04:01.645567Z",
     "shell.execute_reply": "2020-07-09T09:04:01.645218Z"
    },
    "papermill": {
     "duration": 0.034142,
     "end_time": "2020-07-09T09:04:01.645619",
     "exception": false,
     "start_time": "2020-07-09T09:04:01.611477",
     "status": "completed"
    },
    "tags": []
   },
   "outputs": [],
   "source": [
    "#simulation.fourier_matrix"
   ]
  },
  {
   "cell_type": "code",
   "execution_count": 12,
   "metadata": {
    "execution": {
     "iopub.execute_input": "2020-07-09T09:04:01.680373Z",
     "iopub.status.busy": "2020-07-09T09:04:01.680001Z",
     "iopub.status.idle": "2020-07-09T09:04:01.766358Z",
     "shell.execute_reply": "2020-07-09T09:04:01.764619Z"
    },
    "papermill": {
     "duration": 0.104588,
     "end_time": "2020-07-09T09:04:01.766598",
     "exception": false,
     "start_time": "2020-07-09T09:04:01.662010",
     "status": "completed"
    },
    "tags": []
   },
   "outputs": [],
   "source": [
    "#1/simulation.n_features*simulation.dataframe.loc[:,simulation.features].sum(axis=1)"
   ]
  },
  {
   "cell_type": "code",
   "execution_count": 13,
   "metadata": {
    "execution": {
     "iopub.execute_input": "2020-07-09T09:04:01.837284Z",
     "iopub.status.busy": "2020-07-09T09:04:01.836978Z",
     "iopub.status.idle": "2020-07-09T09:04:01.846841Z",
     "shell.execute_reply": "2020-07-09T09:04:01.846554Z"
    },
    "papermill": {
     "duration": 0.030599,
     "end_time": "2020-07-09T09:04:01.846895",
     "exception": false,
     "start_time": "2020-07-09T09:04:01.816296",
     "status": "completed"
    },
    "tags": []
   },
   "outputs": [],
   "source": [
    "#df_2 = simulation.fourier_engineered_dataframe[simulation.fourier_engineered_dataframe.phase==2]\n",
    "#df_2.describe()"
   ]
  },
  {
   "cell_type": "code",
   "execution_count": 14,
   "metadata": {
    "execution": {
     "iopub.execute_input": "2020-07-09T09:04:01.881207Z",
     "iopub.status.busy": "2020-07-09T09:04:01.880904Z",
     "iopub.status.idle": "2020-07-09T09:04:01.938184Z",
     "shell.execute_reply": "2020-07-09T09:04:01.937640Z"
    },
    "papermill": {
     "duration": 0.07502,
     "end_time": "2020-07-09T09:04:01.938264",
     "exception": false,
     "start_time": "2020-07-09T09:04:01.863244",
     "status": "completed"
    },
    "tags": []
   },
   "outputs": [],
   "source": [
    "#df_1 = simulation.fourier_engineered_dataframe[simulation.fourier_engineered_dataframe.phase==1]\n",
    "#df_1.describe()"
   ]
  },
  {
   "cell_type": "code",
   "execution_count": 15,
   "metadata": {
    "execution": {
     "iopub.execute_input": "2020-07-09T09:04:01.992942Z",
     "iopub.status.busy": "2020-07-09T09:04:01.992610Z",
     "iopub.status.idle": "2020-07-09T09:04:02.003836Z",
     "shell.execute_reply": "2020-07-09T09:04:02.003492Z"
    },
    "papermill": {
     "duration": 0.033994,
     "end_time": "2020-07-09T09:04:02.003889",
     "exception": false,
     "start_time": "2020-07-09T09:04:01.969895",
     "status": "completed"
    },
    "tags": []
   },
   "outputs": [],
   "source": [
    "#df_0 = simulation.fourier_engineered_dataframe[simulation.fourier_engineered_dataframe.phase==0]\n",
    "#df_0.describe()"
   ]
  },
  {
   "cell_type": "code",
   "execution_count": 16,
   "metadata": {
    "execution": {
     "iopub.execute_input": "2020-07-09T09:04:02.038285Z",
     "iopub.status.busy": "2020-07-09T09:04:02.037980Z",
     "iopub.status.idle": "2020-07-09T09:04:02.103732Z",
     "shell.execute_reply": "2020-07-09T09:04:02.101986Z"
    },
    "papermill": {
     "duration": 0.08361,
     "end_time": "2020-07-09T09:04:02.103968",
     "exception": false,
     "start_time": "2020-07-09T09:04:02.020358",
     "status": "completed"
    },
    "tags": []
   },
   "outputs": [],
   "source": [
    "#plt.figure(figsize=(10,10))\n",
    "#plt.scatter(df_1.fourier_feat0,df_1.fourier_feat2)\n",
    "#plt.scatter(df_0.fourier_feat0,df_0.fourier_feat2,alpha=0.4)"
   ]
  },
  {
   "cell_type": "code",
   "execution_count": 17,
   "metadata": {
    "execution": {
     "iopub.execute_input": "2020-07-09T09:04:02.176929Z",
     "iopub.status.busy": "2020-07-09T09:04:02.176625Z",
     "iopub.status.idle": "2020-07-09T09:04:02.186438Z",
     "shell.execute_reply": "2020-07-09T09:04:02.186111Z"
    },
    "papermill": {
     "duration": 0.030841,
     "end_time": "2020-07-09T09:04:02.186490",
     "exception": false,
     "start_time": "2020-07-09T09:04:02.155649",
     "status": "completed"
    },
    "tags": []
   },
   "outputs": [],
   "source": [
    "#plt.scatter(df_0.fourier_feat0,df_0.fourier_feat2,alpha=0.4)"
   ]
  },
  {
   "cell_type": "code",
   "execution_count": 18,
   "metadata": {
    "execution": {
     "iopub.execute_input": "2020-07-09T09:04:02.221173Z",
     "iopub.status.busy": "2020-07-09T09:04:02.220866Z",
     "iopub.status.idle": "2020-07-09T09:04:02.288751Z",
     "shell.execute_reply": "2020-07-09T09:04:02.288047Z"
    },
    "papermill": {
     "duration": 0.085867,
     "end_time": "2020-07-09T09:04:02.288852",
     "exception": false,
     "start_time": "2020-07-09T09:04:02.202985",
     "status": "completed"
    },
    "tags": []
   },
   "outputs": [],
   "source": [
    "#plt.scatter(df_2.fourier_feat0,df_2.fourier_feat2)"
   ]
  },
  {
   "cell_type": "code",
   "execution_count": 19,
   "metadata": {
    "execution": {
     "iopub.execute_input": "2020-07-09T09:04:02.350968Z",
     "iopub.status.busy": "2020-07-09T09:04:02.350591Z",
     "iopub.status.idle": "2020-07-09T09:04:02.361852Z",
     "shell.execute_reply": "2020-07-09T09:04:02.362176Z"
    },
    "papermill": {
     "duration": 0.033989,
     "end_time": "2020-07-09T09:04:02.362245",
     "exception": false,
     "start_time": "2020-07-09T09:04:02.328256",
     "status": "completed"
    },
    "tags": []
   },
   "outputs": [],
   "source": [
    "#df_1.hist(figsize=(15,15))"
   ]
  },
  {
   "cell_type": "code",
   "execution_count": 20,
   "metadata": {
    "execution": {
     "iopub.execute_input": "2020-07-09T09:04:02.396909Z",
     "iopub.status.busy": "2020-07-09T09:04:02.396606Z",
     "iopub.status.idle": "2020-07-09T09:04:02.463740Z",
     "shell.execute_reply": "2020-07-09T09:04:02.463051Z"
    },
    "papermill": {
     "duration": 0.085145,
     "end_time": "2020-07-09T09:04:02.463841",
     "exception": false,
     "start_time": "2020-07-09T09:04:02.378696",
     "status": "completed"
    },
    "tags": []
   },
   "outputs": [],
   "source": [
    "#df_0.hist(figsize=(15,15))"
   ]
  },
  {
   "cell_type": "markdown",
   "metadata": {
    "papermill": {
     "duration": 0.021465,
     "end_time": "2020-07-09T09:04:02.524760",
     "exception": false,
     "start_time": "2020-07-09T09:04:02.503295",
     "status": "completed"
    },
    "tags": []
   },
   "source": [
    "#### Checking initialization"
   ]
  },
  {
   "cell_type": "code",
   "execution_count": 21,
   "metadata": {
    "execution": {
     "iopub.execute_input": "2020-07-09T09:04:02.560702Z",
     "iopub.status.busy": "2020-07-09T09:04:02.560390Z",
     "iopub.status.idle": "2020-07-09T09:04:02.571015Z",
     "shell.execute_reply": "2020-07-09T09:04:02.570698Z"
    },
    "papermill": {
     "duration": 0.028985,
     "end_time": "2020-07-09T09:04:02.571064",
     "exception": false,
     "start_time": "2020-07-09T09:04:02.542079",
     "status": "completed"
    },
    "tags": []
   },
   "outputs": [
    {
     "name": "stdout",
     "output_type": "stream",
     "text": [
      "n_features:  100\n",
      "n_hamiltonians:  6561\n",
      "n_ts:  2\n",
      "CPU times: user 149 µs, sys: 19 µs, total: 168 µs\n",
      "Wall time: 89.4 µs\n"
     ]
    }
   ],
   "source": [
    "%%time\n",
    "n_features = simulation.n_features\n",
    "n_hamiltonians = simulation.n_hamiltonians\n",
    "n_ts = simulation.n_ts\n",
    "\n",
    "print(\"n_features: \", n_features)\n",
    "print(\"n_hamiltonians: \", n_hamiltonians)\n",
    "print(\"n_ts: \", n_ts)"
   ]
  },
  {
   "cell_type": "code",
   "execution_count": 22,
   "metadata": {
    "execution": {
     "iopub.execute_input": "2020-07-09T09:04:02.606645Z",
     "iopub.status.busy": "2020-07-09T09:04:02.606326Z",
     "iopub.status.idle": "2020-07-09T09:04:02.867456Z",
     "shell.execute_reply": "2020-07-09T09:04:02.867758Z"
    },
    "papermill": {
     "duration": 0.279989,
     "end_time": "2020-07-09T09:04:02.867823",
     "exception": false,
     "start_time": "2020-07-09T09:04:02.587834",
     "status": "completed"
    },
    "tags": []
   },
   "outputs": [
    {
     "name": "stdout",
     "output_type": "stream",
     "text": [
      "% train:  0.846822130772748\n",
      "% val:  0.0\n",
      "% test:  0.15317786922725193\n",
      "% train + val + test:  1.0\n",
      "\n",
      "\n",
      "number of train hamiltonians:  5556\n",
      "number of val hamiltonians:  0\n",
      "number of test hamiltonians:  1005\n",
      "total number of hamiltonians:  6561\n",
      "\n",
      "\n",
      "train ids:  [9, 10, 11, 12, 13, 14, 15, 16, 17, 18, 19, 20, 21, 22, 23, 24, 25, 26, 27, 28, 29, 30, 31, 32, 33, 34, 35, 36, 37, 38, 39, 40, 41, 42, 43, 44, 45, 46, 47, 48, 49, 50, 51, 52, 53, 54, 55, 56, 57, 58, 59, 60, 61, 62, 63, 64, 65, 66, 67, 68, 69, 70, 71, 72, 73, 74, 75, 76, 77, 91, 92, 93, 94, 95, 96, 97, 98, 99, 100, 101, 102, 103, 104, 105, 106, 107, 108, 109, 110, 111, 112, 113, 114, 115, 116, 117, 118, 119, 120, 121, 122, 123, 124, 125, 126, 127, 128, 129, 130, 131, 132, 133, 134, 135, 136, 137, 138, 139, 140, 141, 142, 143, 144, 145, 146, 147, 148, 149, 150, 151, 152, 153, 154, 155, 156, 157, 172, 173, 174, 175, 176, 177, 178, 179, 180, 181, 182, 183, 184, 185, 186, 187, 188, 189, 190, 191, 192, 193, 194, 195, 196, 197, 198, 199, 200, 201, 202, 203, 204, 205, 206, 207, 208, 209, 210, 211, 212, 213, 214, 215, 216, 217, 218, 219, 220, 221, 222, 223, 224, 225, 226, 227, 228, 229, 230, 231, 232, 233, 234, 235, 236, 237, 254, 255, 256, 257, 258, 259, 260, 261, 262, 263, 264, 265, 266, 267, 268, 269, 270, 271, 272, 273, 274, 275, 276, 277, 278, 279, 280, 281, 282, 283, 284, 285, 286, 287, 288, 289, 290, 291, 292, 293, 294, 295, 296, 297, 298, 299, 300, 301, 302, 303, 304, 305, 306, 307, 308, 309, 310, 311, 312, 313, 314, 315, 316, 317, 323, 336, 337, 338, 339, 340, 341, 342, 343, 344, 345, 346, 347, 348, 349, 350, 351, 352, 353, 354, 355, 356, 357, 358, 359, 360, 361, 362, 363, 364, 365, 366, 367, 368, 369, 370, 371, 372, 373, 374, 375, 376, 377, 378, 379, 380, 381, 382, 383, 384, 385, 386, 387, 388, 389, 390, 391, 392, 393, 394, 395, 396, 397, 403, 404, 418, 419, 420, 421, 422, 423, 424, 425, 426, 427, 428, 429, 430, 431, 432, 433, 434, 435, 436, 437, 438, 439, 440, 441, 442, 443, 444, 445, 446, 447, 448, 449, 450, 451, 452, 453, 454, 455, 456, 457, 458, 459, 460, 461, 462, 463, 464, 465, 466, 467, 468, 469, 470, 471, 472, 473, 474, 475, 476, 477, 483, 484, 485, 500, 501, 502, 503, 504, 505, 506, 507, 508, 509, 510, 511, 512, 513, 514, 515, 516, 517, 518, 519, 520, 521, 522, 523, 524, 525, 526, 527, 528, 529, 530, 531, 532, 533, 534, 535, 536, 537, 538, 539, 540, 541, 542, 543, 544, 545, 546, 547, 548, 549, 550, 551, 552, 553, 554, 555, 556, 557, 563, 564, 565, 566, 581, 582, 583, 584, 585, 586, 587, 588, 589, 590, 591, 592, 593, 594, 595, 596, 597, 598, 599, 600, 601, 602, 603, 604, 605, 606, 607, 608, 609, 610, 611, 612, 613, 614, 615, 616, 617, 618, 619, 620, 621, 622, 623, 624, 625, 626, 627, 628, 629, 630, 631, 632, 633, 634, 635, 636, 637, 643, 644, 645, 646, 647, 663, 664, 665, 666, 667, 668, 669, 670, 671, 672, 673, 674, 675, 676, 677, 678, 679, 680, 681, 682, 683, 684, 685, 686, 687, 688, 689, 690, 691, 692, 693, 694, 695, 696, 697, 698, 699, 700, 701, 702, 703, 704, 705, 706, 707, 708, 709, 710, 711, 712, 713, 714, 715, 716, 717, 723, 724, 725, 726, 727, 728, 745, 746, 747, 748, 749, 750, 751, 752, 753, 754, 755, 756, 757, 758, 759, 760, 761, 762, 763, 764, 765, 766, 767, 768, 769, 770, 771, 772, 773, 774, 775, 776, 777, 778, 779, 780, 781, 782, 783, 784, 785, 786, 787, 788, 789, 790, 791, 792, 793, 794, 795, 796, 797, 803, 804, 805, 806, 807, 808, 809, 827, 828, 829, 830, 831, 832, 833, 834, 835, 836, 837, 838, 839, 840, 841, 842, 843, 844, 845, 846, 847, 848, 849, 850, 851, 852, 853, 854, 855, 856, 857, 858, 859, 860, 861, 862, 863, 864, 865, 866, 867, 868, 869, 870, 871, 872, 873, 874, 875, 876, 877, 883, 884, 885, 886, 887, 888, 889, 890, 891, 909, 910, 911, 912, 913, 914, 915, 916, 917, 918, 919, 920, 921, 922, 923, 924, 925, 926, 927, 928, 929, 930, 931, 932, 933, 934, 935, 936, 937, 938, 939, 940, 941, 942, 943, 944, 945, 946, 947, 948, 949, 950, 951, 952, 953, 954, 955, 956, 957, 963, 964, 965, 966, 967, 968, 969, 970, 971, 972, 973, 990, 991, 992, 993, 994, 995, 996, 997, 998, 999, 1000, 1001, 1002, 1003, 1004, 1005, 1006, 1007, 1008, 1009, 1010, 1011, 1012, 1013, 1014, 1015, 1016, 1017, 1018, 1019, 1020, 1021, 1022, 1023, 1024, 1025, 1026, 1027, 1028, 1029, 1030, 1031, 1032, 1033, 1034, 1035, 1036, 1037, 1038, 1042, 1043, 1044, 1045, 1046, 1047, 1048, 1049, 1050, 1051, 1052, 1053, 1054, 1055, 1056, 1072, 1073, 1074, 1075, 1076, 1077, 1078, 1079, 1080, 1081, 1082, 1083, 1084, 1085, 1086, 1087, 1088, 1089, 1090, 1091, 1092, 1093, 1094, 1095, 1096, 1097, 1098, 1099, 1100, 1101, 1102, 1103, 1104, 1105, 1106, 1107, 1108, 1109, 1110, 1111, 1112, 1113, 1114, 1115, 1116, 1117, 1118, 1122, 1123, 1124, 1125, 1126, 1127, 1128, 1129, 1130, 1131, 1132, 1133, 1134, 1135, 1136, 1137, 1138, 1154, 1155, 1156, 1157, 1158, 1159, 1160, 1161, 1162, 1163, 1164, 1165, 1166, 1167, 1168, 1169, 1170, 1171, 1172, 1173, 1174, 1175, 1176, 1177, 1178, 1179, 1180, 1181, 1182, 1183, 1184, 1185, 1186, 1187, 1188, 1189, 1190, 1191, 1192, 1193, 1194, 1195, 1196, 1197, 1198, 1202, 1203, 1204, 1205, 1206, 1207, 1208, 1209, 1210, 1211, 1212, 1213, 1214, 1215, 1216, 1217, 1218, 1219, 1220, 1236, 1237, 1238, 1239, 1240, 1241, 1242, 1243, 1244, 1245, 1246, 1247, 1248, 1249, 1250, 1251, 1252, 1253, 1254, 1255, 1256, 1257, 1258, 1259, 1260, 1261, 1262, 1263, 1264, 1265, 1266, 1267, 1268, 1269, 1270, 1271, 1272, 1273, 1274, 1275, 1276, 1277, 1278, 1282, 1283, 1284, 1285, 1286, 1287, 1288, 1289, 1290, 1291, 1292, 1293, 1294, 1295, 1296, 1297, 1298, 1299, 1300, 1301, 1302, 1303, 1317, 1318, 1319, 1320, 1321, 1322, 1323, 1324, 1325, 1326, 1327, 1328, 1329, 1330, 1331, 1332, 1333, 1334, 1335, 1336, 1337, 1338, 1339, 1340, 1341, 1342, 1343, 1344, 1345, 1346, 1347, 1348, 1349, 1350, 1351, 1352, 1353, 1354, 1355, 1356, 1357, 1358, 1362, 1363, 1364, 1365, 1366, 1367, 1368, 1369, 1370, 1371, 1372, 1373, 1374, 1375, 1376, 1377, 1378, 1379, 1380, 1381, 1382, 1383, 1384, 1385, 1399, 1400, 1401, 1402, 1403, 1404, 1405, 1406, 1407, 1408, 1409, 1410, 1411, 1412, 1413, 1414, 1415, 1416, 1417, 1418, 1419, 1420, 1421, 1422, 1423, 1424, 1425, 1426, 1427, 1428, 1429, 1430, 1431, 1432, 1433, 1434, 1435, 1436, 1437, 1438, 1442, 1443, 1444, 1445, 1446, 1447, 1448, 1449, 1450, 1451, 1452, 1453, 1454, 1455, 1456, 1457, 1458, 1459, 1460, 1461, 1462, 1463, 1464, 1465, 1466, 1467, 1468, 1481, 1482, 1483, 1484, 1485, 1486, 1487, 1488, 1489, 1490, 1491, 1492, 1493, 1494, 1495, 1496, 1497, 1498, 1499, 1500, 1501, 1502, 1503, 1504, 1505, 1506, 1507, 1508, 1509, 1510, 1511, 1512, 1513, 1514, 1515, 1516, 1517, 1518, 1522, 1523, 1524, 1525, 1526, 1527, 1528, 1529, 1530, 1531, 1532, 1533, 1534, 1535, 1536, 1537, 1538, 1539, 1540, 1541, 1542, 1543, 1544, 1545, 1546, 1547, 1548, 1549, 1550, 1563, 1564, 1565, 1566, 1567, 1568, 1569, 1570, 1571, 1572, 1573, 1574, 1575, 1576, 1577, 1578, 1579, 1580, 1581, 1582, 1583, 1584, 1585, 1586, 1587, 1588, 1589, 1590, 1591, 1592, 1593, 1594, 1595, 1596, 1597, 1598, 1602, 1603, 1604, 1605, 1606, 1607, 1608, 1609, 1610, 1611, 1612, 1613, 1614, 1615, 1616, 1617, 1618, 1619, 1620, 1621, 1622, 1623, 1624, 1625, 1626, 1627, 1628, 1629, 1630, 1631, 1632, 1645, 1646, 1647, 1648, 1649, 1650, 1651, 1652, 1653, 1654, 1655, 1656, 1657, 1658, 1659, 1660, 1661, 1662, 1663, 1664, 1665, 1666, 1667, 1668, 1669, 1670, 1671, 1672, 1673, 1674, 1675, 1676, 1677, 1678, 1682, 1683, 1684, 1685, 1686, 1687, 1688, 1689, 1690, 1691, 1692, 1693, 1694, 1695, 1696, 1697, 1698, 1699, 1700, 1701, 1702, 1703, 1704, 1705, 1706, 1707, 1708, 1709, 1710, 1711, 1712, 1713, 1714, 1715, 1726, 1727, 1728, 1729, 1730, 1731, 1732, 1733, 1734, 1735, 1736, 1737, 1738, 1739, 1740, 1741, 1742, 1743, 1744, 1745, 1746, 1747, 1748, 1749, 1750, 1751, 1752, 1753, 1754, 1755, 1756, 1757, 1758, 1762, 1763, 1764, 1765, 1766, 1767, 1768, 1769, 1770, 1771, 1772, 1773, 1774, 1775, 1776, 1777, 1778, 1779, 1780, 1781, 1782, 1783, 1784, 1785, 1786, 1787, 1788, 1789, 1790, 1791, 1792, 1793, 1794, 1795, 1796, 1797, 1808, 1809, 1810, 1811, 1812, 1813, 1814, 1815, 1816, 1817, 1818, 1819, 1820, 1821, 1822, 1823, 1824, 1825, 1826, 1827, 1828, 1829, 1830, 1831, 1832, 1833, 1834, 1835, 1836, 1837, 1838, 1842, 1843, 1844, 1845, 1846, 1847, 1848, 1849, 1850, 1851, 1852, 1853, 1854, 1855, 1856, 1857, 1858, 1859, 1860, 1861, 1862, 1863, 1864, 1865, 1866, 1867, 1868, 1869, 1870, 1871, 1872, 1873, 1874, 1875, 1876, 1877, 1878, 1879, 1890, 1891, 1892, 1893, 1894, 1895, 1896, 1897, 1898, 1899, 1900, 1901, 1902, 1903, 1904, 1905, 1906, 1907, 1908, 1909, 1910, 1911, 1912, 1913, 1914, 1915, 1916, 1917, 1918, 1922, 1923, 1924, 1925, 1926, 1927, 1928, 1929, 1930, 1931, 1932, 1933, 1934, 1935, 1936, 1937, 1938, 1939, 1940, 1941, 1942, 1943, 1944, 1945, 1946, 1947, 1948, 1949, 1950, 1951, 1952, 1953, 1954, 1955, 1956, 1957, 1958, 1959, 1960, 1961, 1962, 1972, 1973, 1974, 1975, 1976, 1977, 1978, 1979, 1980, 1981, 1982, 1983, 1984, 1985, 1986, 1987, 1988, 1989, 1990, 1991, 1992, 1993, 1994, 1995, 1996, 1997, 1998, 2002, 2003, 2004, 2005, 2006, 2007, 2008, 2009, 2010, 2011, 2012, 2013, 2014, 2015, 2016, 2017, 2018, 2019, 2020, 2021, 2022, 2023, 2024, 2025, 2026, 2027, 2028, 2029, 2030, 2031, 2032, 2033, 2034, 2035, 2036, 2037, 2038, 2039, 2040, 2041, 2042, 2043, 2044, 2054, 2055, 2056, 2057, 2058, 2059, 2060, 2061, 2062, 2063, 2064, 2065, 2066, 2067, 2068, 2069, 2070, 2071, 2072, 2073, 2074, 2075, 2076, 2077, 2078, 2082, 2083, 2084, 2085, 2086, 2087, 2088, 2089, 2090, 2091, 2092, 2093, 2094, 2095, 2096, 2097, 2098, 2099, 2100, 2101, 2102, 2103, 2104, 2105, 2106, 2107, 2108, 2109, 2110, 2111, 2112, 2113, 2114, 2115, 2116, 2117, 2118, 2119, 2120, 2121, 2122, 2123, 2124, 2125, 2126, 2135, 2136, 2137, 2138, 2139, 2140, 2141, 2142, 2143, 2144, 2145, 2146, 2147, 2148, 2149, 2150, 2151, 2152, 2153, 2154, 2155, 2156, 2157, 2158, 2159, 2161, 2162, 2163, 2164, 2165, 2166, 2167, 2168, 2169, 2170, 2171, 2172, 2173, 2174, 2175, 2176, 2177, 2178, 2179, 2180, 2181, 2182, 2183, 2184, 2185, 2186, 2187, 2188, 2189, 2190, 2191, 2192, 2193, 2194, 2195, 2196, 2197, 2198, 2199, 2200, 2201, 2202, 2203, 2204, 2205, 2206, 2207, 2208, 2209, 2217, 2218, 2219, 2220, 2221, 2222, 2223, 2224, 2225, 2226, 2227, 2228, 2229, 2230, 2231, 2232, 2233, 2234, 2235, 2236, 2237, 2238, 2239, 2241, 2242, 2243, 2244, 2245, 2246, 2247, 2248, 2249, 2250, 2251, 2252, 2253, 2254, 2255, 2256, 2257, 2258, 2259, 2260, 2261, 2262, 2263, 2264, 2265, 2266, 2267, 2268, 2269, 2270, 2271, 2272, 2273, 2274, 2275, 2276, 2277, 2278, 2279, 2280, 2281, 2282, 2283, 2284, 2285, 2286, 2287, 2288, 2289, 2290, 2291, 2299, 2300, 2301, 2302, 2303, 2304, 2305, 2306, 2307, 2308, 2309, 2310, 2311, 2312, 2313, 2314, 2315, 2316, 2317, 2318, 2319, 2321, 2322, 2323, 2324, 2325, 2326, 2327, 2328, 2329, 2330, 2331, 2332, 2333, 2334, 2335, 2336, 2337, 2338, 2339, 2340, 2341, 2342, 2343, 2344, 2345, 2346, 2347, 2348, 2349, 2350, 2351, 2352, 2353, 2354, 2355, 2356, 2357, 2358, 2359, 2360, 2361, 2362, 2363, 2364, 2365, 2366, 2367, 2368, 2369, 2370, 2371, 2372, 2373, 2374, 2381, 2382, 2383, 2384, 2385, 2386, 2387, 2388, 2389, 2390, 2391, 2392, 2393, 2394, 2395, 2396, 2397, 2398, 2399, 2401, 2402, 2403, 2404, 2405, 2406, 2407, 2408, 2409, 2410, 2411, 2412, 2413, 2414, 2415, 2416, 2417, 2418, 2419, 2420, 2421, 2422, 2423, 2424, 2425, 2426, 2427, 2428, 2429, 2430, 2431, 2432, 2433, 2434, 2435, 2436, 2437, 2438, 2439, 2440, 2441, 2442, 2443, 2444, 2445, 2446, 2447, 2448, 2449, 2450, 2451, 2452, 2453, 2454, 2455, 2456, 2463, 2464, 2465, 2466, 2467, 2468, 2469, 2470, 2471, 2472, 2473, 2474, 2475, 2476, 2477, 2478, 2479, 2481, 2482, 2483, 2484, 2485, 2486, 2487, 2488, 2489, 2490, 2491, 2492, 2493, 2494, 2495, 2496, 2497, 2498, 2499, 2500, 2501, 2502, 2503, 2504, 2505, 2506, 2507, 2508, 2509, 2510, 2511, 2512, 2513, 2514, 2515, 2516, 2517, 2518, 2519, 2520, 2521, 2522, 2523, 2524, 2525, 2526, 2527, 2528, 2529, 2530, 2531, 2532, 2533, 2534, 2535, 2536, 2537, 2538, 2544, 2545, 2546, 2547, 2548, 2549, 2550, 2551, 2552, 2553, 2554, 2555, 2556, 2557, 2558, 2559, 2561, 2562, 2563, 2564, 2565, 2566, 2567, 2568, 2569, 2570, 2571, 2572, 2573, 2574, 2575, 2576, 2577, 2578, 2579, 2580, 2581, 2582, 2583, 2584, 2585, 2586, 2587, 2588, 2589, 2590, 2591, 2592, 2593, 2594, 2595, 2596, 2597, 2598, 2599, 2600, 2601, 2602, 2603, 2604, 2605, 2606, 2607, 2608, 2609, 2610, 2611, 2612, 2613, 2614, 2615, 2616, 2617, 2618, 2619, 2620, 2621, 2626, 2627, 2628, 2629, 2630, 2631, 2632, 2633, 2634, 2635, 2636, 2637, 2638, 2639, 2641, 2642, 2643, 2644, 2645, 2646, 2647, 2648, 2649, 2650, 2651, 2652, 2653, 2654, 2655, 2656, 2657, 2658, 2659, 2660, 2661, 2662, 2663, 2664, 2665, 2666, 2667, 2668, 2669, 2670, 2671, 2672, 2673, 2674, 2675, 2676, 2677, 2678, 2679, 2680, 2681, 2682, 2683, 2684, 2685, 2686, 2687, 2688, 2689, 2690, 2691, 2692, 2693, 2694, 2695, 2696, 2697, 2698, 2699, 2700, 2701, 2702, 2703, 2708, 2709, 2710, 2711, 2712, 2713, 2714, 2715, 2716, 2717, 2718, 2719, 2721, 2722, 2723, 2724, 2725, 2726, 2727, 2728, 2729, 2730, 2731, 2732, 2733, 2734, 2735, 2736, 2737, 2738, 2739, 2740, 2741, 2742, 2743, 2744, 2745, 2746, 2747, 2748, 2749, 2750, 2751, 2752, 2753, 2754, 2755, 2756, 2757, 2758, 2759, 2760, 2761, 2762, 2763, 2764, 2765, 2766, 2767, 2768, 2769, 2770, 2771, 2772, 2773, 2774, 2775, 2776, 2777, 2778, 2779, 2780, 2781, 2782, 2783, 2784, 2785, 2790, 2791, 2792, 2793, 2794, 2795, 2796, 2797, 2798, 2799, 2801, 2802, 2803, 2804, 2805, 2806, 2807, 2808, 2809, 2810, 2811, 2812, 2813, 2814, 2815, 2816, 2817, 2818, 2819, 2820, 2821, 2822, 2823, 2824, 2825, 2826, 2827, 2828, 2829, 2830, 2831, 2832, 2833, 2834, 2835, 2836, 2837, 2838, 2839, 2840, 2841, 2842, 2843, 2844, 2845, 2846, 2847, 2848, 2849, 2850, 2851, 2852, 2853, 2854, 2855, 2856, 2857, 2858, 2859, 2860, 2861, 2862, 2863, 2864, 2865, 2866, 2867, 2868, 2872, 2873, 2874, 2875, 2876, 2877, 2878, 2879, 2881, 2882, 2883, 2884, 2885, 2886, 2887, 2888, 2889, 2890, 2891, 2892, 2893, 2894, 2895, 2896, 2897, 2898, 2899, 2900, 2901, 2902, 2903, 2904, 2905, 2906, 2907, 2908, 2909, 2910, 2911, 2912, 2913, 2914, 2915, 2916, 2917, 2918, 2919, 2920, 2921, 2922, 2923, 2924, 2925, 2926, 2927, 2928, 2929, 2930, 2931, 2932, 2933, 2934, 2935, 2936, 2937, 2938, 2939, 2940, 2941, 2942, 2943, 2944, 2945, 2946, 2947, 2948, 2949, 2950, 2953, 2954, 2955, 2956, 2957, 2958, 2959, 2961, 2962, 2963, 2964, 2965, 2966, 2967, 2968, 2969, 2970, 2971, 2972, 2973, 2974, 2975, 2976, 2977, 2978, 2979, 2980, 2981, 2982, 2983, 2984, 2985, 2986, 2987, 2988, 2989, 2990, 2991, 2992, 2993, 2994, 2995, 2996, 2997, 2998, 2999, 3000, 3001, 3002, 3003, 3004, 3005, 3006, 3007, 3008, 3009, 3010, 3011, 3012, 3013, 3014, 3015, 3016, 3017, 3018, 3019, 3020, 3021, 3022, 3023, 3024, 3025, 3026, 3027, 3028, 3029, 3030, 3031, 3032, 3035, 3036, 3037, 3038, 3039, 3041, 3042, 3043, 3044, 3045, 3046, 3047, 3048, 3049, 3050, 3051, 3052, 3053, 3054, 3055, 3056, 3057, 3058, 3059, 3060, 3061, 3062, 3063, 3064, 3065, 3066, 3067, 3068, 3069, 3070, 3071, 3072, 3073, 3074, 3075, 3076, 3077, 3078, 3079, 3080, 3081, 3082, 3083, 3084, 3085, 3086, 3087, 3088, 3089, 3090, 3091, 3092, 3093, 3094, 3095, 3096, 3097, 3098, 3099, 3100, 3101, 3102, 3103, 3104, 3105, 3106, 3107, 3108, 3109, 3110, 3111, 3112, 3113, 3114, 3115, 3117, 3118, 3119, 3121, 3122, 3123, 3124, 3125, 3126, 3127, 3128, 3129, 3130, 3131, 3132, 3133, 3134, 3135, 3136, 3137, 3138, 3139, 3140, 3141, 3142, 3143, 3144, 3145, 3146, 3147, 3148, 3149, 3150, 3151, 3152, 3153, 3154, 3155, 3156, 3157, 3158, 3159, 3160, 3161, 3162, 3163, 3164, 3165, 3166, 3167, 3168, 3169, 3170, 3171, 3172, 3173, 3174, 3175, 3176, 3177, 3178, 3179, 3180, 3181, 3182, 3183, 3184, 3185, 3186, 3187, 3188, 3189, 3190, 3191, 3192, 3193, 3194, 3195, 3196, 3197, 3199, 3201, 3202, 3203, 3204, 3205, 3206, 3207, 3208, 3209, 3210, 3211, 3212, 3213, 3214, 3215, 3216, 3217, 3218, 3219, 3220, 3221, 3222, 3223, 3224, 3225, 3226, 3227, 3228, 3229, 3230, 3231, 3232, 3233, 3234, 3235, 3236, 3237, 3238, 3239, 3240, 3241, 3242, 3243, 3244, 3245, 3246, 3247, 3248, 3249, 3250, 3251, 3252, 3253, 3254, 3255, 3256, 3257, 3258, 3259, 3260, 3261, 3262, 3263, 3264, 3265, 3266, 3267, 3268, 3269, 3270, 3271, 3272, 3273, 3274, 3275, 3276, 3277, 3278, 3279, 3281, 3282, 3283, 3284, 3285, 3286, 3287, 3288, 3289, 3290, 3291, 3292, 3293, 3294, 3295, 3296, 3297, 3298, 3299, 3300, 3301, 3302, 3303, 3304, 3305, 3306, 3307, 3308, 3309, 3310, 3311, 3312, 3313, 3314, 3315, 3316, 3317, 3318, 3319, 3320, 3321, 3322, 3323, 3324, 3325, 3326, 3327, 3328, 3329, 3330, 3331, 3332, 3333, 3334, 3335, 3336, 3337, 3338, 3339, 3340, 3341, 3342, 3343, 3344, 3345, 3346, 3347, 3348, 3349, 3350, 3351, 3352, 3353, 3354, 3355, 3356, 3357, 3358, 3359, 3361, 3363, 3364, 3365, 3366, 3367, 3368, 3369, 3370, 3371, 3372, 3373, 3374, 3375, 3376, 3377, 3378, 3379, 3380, 3381, 3382, 3383, 3384, 3385, 3386, 3387, 3388, 3389, 3390, 3391, 3392, 3393, 3394, 3395, 3396, 3397, 3398, 3399, 3400, 3401, 3402, 3403, 3404, 3405, 3406, 3407, 3408, 3409, 3410, 3411, 3412, 3413, 3414, 3415, 3416, 3417, 3418, 3419, 3420, 3421, 3422, 3423, 3424, 3425, 3426, 3427, 3428, 3429, 3430, 3431, 3432, 3433, 3434, 3435, 3436, 3437, 3438, 3439, 3441, 3442, 3443, 3445, 3446, 3447, 3448, 3449, 3450, 3451, 3452, 3453, 3454, 3455, 3456, 3457, 3458, 3459, 3460, 3461, 3462, 3463, 3464, 3465, 3466, 3467, 3468, 3469, 3470, 3471, 3472, 3473, 3474, 3475, 3476, 3477, 3478, 3479, 3480, 3481, 3482, 3483, 3484, 3485, 3486, 3487, 3488, 3489, 3490, 3491, 3492, 3493, 3494, 3495, 3496, 3497, 3498, 3499, 3500, 3501, 3502, 3503, 3504, 3505, 3506, 3507, 3508, 3509, 3510, 3511, 3512, 3513, 3514, 3515, 3516, 3517, 3518, 3519, 3521, 3522, 3523, 3524, 3525, 3528, 3529, 3530, 3531, 3532, 3533, 3534, 3535, 3536, 3537, 3538, 3539, 3540, 3541, 3542, 3543, 3544, 3545, 3546, 3547, 3548, 3549, 3550, 3551, 3552, 3553, 3554, 3555, 3556, 3557, 3558, 3559, 3560, 3561, 3562, 3563, 3564, 3565, 3566, 3567, 3568, 3569, 3570, 3571, 3572, 3573, 3574, 3575, 3576, 3577, 3578, 3579, 3580, 3581, 3582, 3583, 3584, 3585, 3586, 3587, 3588, 3589, 3590, 3591, 3592, 3593, 3594, 3595, 3596, 3597, 3598, 3599, 3601, 3602, 3603, 3604, 3605, 3606, 3607, 3610, 3611, 3612, 3613, 3614, 3615, 3616, 3617, 3618, 3619, 3620, 3621, 3622, 3623, 3624, 3625, 3626, 3627, 3628, 3629, 3630, 3631, 3632, 3633, 3634, 3635, 3636, 3637, 3638, 3639, 3640, 3641, 3642, 3643, 3644, 3645, 3646, 3647, 3648, 3649, 3650, 3651, 3652, 3653, 3654, 3655, 3656, 3657, 3658, 3659, 3660, 3661, 3662, 3663, 3664, 3665, 3666, 3667, 3668, 3669, 3670, 3671, 3672, 3673, 3674, 3675, 3676, 3677, 3678, 3679, 3681, 3682, 3683, 3684, 3685, 3686, 3687, 3688, 3692, 3693, 3694, 3695, 3696, 3697, 3698, 3699, 3700, 3701, 3702, 3703, 3704, 3705, 3706, 3707, 3708, 3709, 3710, 3711, 3712, 3713, 3714, 3715, 3716, 3717, 3718, 3719, 3720, 3721, 3722, 3723, 3724, 3725, 3726, 3727, 3728, 3729, 3730, 3731, 3732, 3733, 3734, 3735, 3736, 3737, 3738, 3739, 3740, 3741, 3742, 3743, 3744, 3745, 3746, 3747, 3748, 3749, 3750, 3751, 3752, 3753, 3754, 3755, 3756, 3757, 3758, 3759, 3761, 3762, 3763, 3764, 3765, 3766, 3767, 3768, 3769, 3770, 3775, 3776, 3777, 3778, 3779, 3780, 3781, 3782, 3783, 3784, 3785, 3786, 3787, 3788, 3789, 3790, 3791, 3792, 3793, 3794, 3795, 3796, 3797, 3798, 3799, 3800, 3801, 3802, 3803, 3804, 3805, 3806, 3807, 3808, 3809, 3810, 3811, 3812, 3813, 3814, 3815, 3816, 3817, 3818, 3819, 3820, 3821, 3822, 3823, 3824, 3825, 3826, 3827, 3828, 3829, 3830, 3831, 3832, 3833, 3834, 3835, 3836, 3837, 3838, 3839, 3841, 3842, 3843, 3844, 3845, 3846, 3847, 3848, 3849, 3850, 3851, 3852, 3857, 3858, 3859, 3860, 3861, 3862, 3863, 3864, 3865, 3866, 3867, 3868, 3869, 3870, 3871, 3872, 3873, 3874, 3875, 3876, 3877, 3878, 3879, 3880, 3881, 3882, 3883, 3884, 3885, 3886, 3887, 3888, 3889, 3890, 3891, 3892, 3893, 3894, 3895, 3896, 3897, 3898, 3899, 3900, 3901, 3902, 3903, 3904, 3905, 3906, 3907, 3908, 3909, 3910, 3911, 3912, 3913, 3914, 3915, 3916, 3917, 3918, 3919, 3921, 3922, 3923, 3924, 3925, 3926, 3927, 3928, 3929, 3930, 3931, 3932, 3933, 3934, 3939, 3940, 3941, 3942, 3943, 3944, 3945, 3946, 3947, 3948, 3949, 3950, 3951, 3952, 3953, 3954, 3955, 3956, 3957, 3958, 3959, 3960, 3961, 3962, 3963, 3964, 3965, 3966, 3967, 3968, 3969, 3970, 3971, 3972, 3973, 3974, 3975, 3976, 3977, 3978, 3979, 3980, 3981, 3982, 3983, 3984, 3985, 3986, 3987, 3988, 3989, 3990, 3991, 3992, 3993, 3994, 3995, 3996, 3997, 3998, 3999, 4001, 4002, 4003, 4004, 4005, 4006, 4007, 4008, 4009, 4010, 4011, 4012, 4013, 4014, 4015, 4016, 4022, 4023, 4024, 4025, 4026, 4027, 4028, 4029, 4030, 4031, 4032, 4033, 4034, 4035, 4036, 4037, 4038, 4039, 4040, 4041, 4042, 4043, 4044, 4045, 4046, 4047, 4048, 4049, 4050, 4051, 4052, 4053, 4054, 4055, 4056, 4057, 4058, 4059, 4060, 4061, 4062, 4063, 4064, 4065, 4066, 4067, 4068, 4069, 4070, 4071, 4072, 4073, 4074, 4075, 4076, 4077, 4078, 4079, 4081, 4082, 4083, 4084, 4085, 4086, 4087, 4088, 4089, 4090, 4091, 4092, 4093, 4094, 4095, 4096, 4097, 4104, 4105, 4106, 4107, 4108, 4109, 4110, 4111, 4112, 4113, 4114, 4115, 4116, 4117, 4118, 4119, 4120, 4121, 4122, 4123, 4124, 4125, 4126, 4127, 4128, 4129, 4130, 4131, 4132, 4133, 4134, 4135, 4136, 4137, 4138, 4139, 4140, 4141, 4142, 4143, 4144, 4145, 4146, 4147, 4148, 4149, 4150, 4151, 4152, 4153, 4154, 4155, 4156, 4157, 4158, 4159, 4161, 4162, 4163, 4164, 4165, 4166, 4167, 4168, 4169, 4170, 4171, 4172, 4173, 4174, 4175, 4176, 4177, 4178, 4179, 4186, 4187, 4188, 4189, 4190, 4191, 4192, 4193, 4194, 4195, 4196, 4197, 4198, 4199, 4200, 4201, 4202, 4203, 4204, 4205, 4206, 4207, 4208, 4209, 4210, 4211, 4212, 4213, 4214, 4215, 4216, 4217, 4218, 4219, 4220, 4221, 4222, 4223, 4224, 4225, 4226, 4227, 4228, 4229, 4230, 4231, 4232, 4233, 4234, 4235, 4236, 4237, 4238, 4239, 4241, 4242, 4243, 4244, 4245, 4246, 4247, 4248, 4249, 4250, 4251, 4252, 4253, 4254, 4255, 4256, 4257, 4258, 4259, 4260, 4261, 4269, 4270, 4271, 4272, 4273, 4274, 4275, 4276, 4277, 4278, 4279, 4280, 4281, 4282, 4283, 4284, 4285, 4286, 4287, 4288, 4289, 4290, 4291, 4292, 4293, 4294, 4295, 4296, 4297, 4298, 4299, 4300, 4301, 4302, 4303, 4304, 4305, 4306, 4307, 4308, 4309, 4310, 4311, 4312, 4313, 4314, 4315, 4316, 4317, 4318, 4319, 4321, 4322, 4323, 4324, 4325, 4326, 4327, 4328, 4329, 4330, 4331, 4332, 4333, 4334, 4335, 4336, 4337, 4338, 4339, 4340, 4341, 4342, 4343, 4351, 4352, 4353, 4354, 4355, 4356, 4357, 4358, 4359, 4360, 4361, 4362, 4363, 4364, 4365, 4366, 4367, 4368, 4369, 4370, 4371, 4372, 4373, 4374, 4375, 4376, 4377, 4378, 4379, 4380, 4381, 4382, 4383, 4384, 4385, 4386, 4387, 4388, 4389, 4390, 4391, 4392, 4393, 4394, 4395, 4396, 4397, 4398, 4399, 4401, 4402, 4403, 4404, 4405, 4406, 4407, 4408, 4409, 4410, 4411, 4412, 4413, 4414, 4415, 4416, 4417, 4418, 4419, 4420, 4421, 4422, 4423, 4424, 4425, 4434, 4435, 4436, 4437, 4438, 4439, 4440, 4441, 4442, 4443, 4444, 4445, 4446, 4447, 4448, 4449, 4450, 4451, 4452, 4453, 4454, 4455, 4456, 4457, 4458, 4459, 4460, 4461, 4462, 4463, 4464, 4465, 4466, 4467, 4468, 4469, 4470, 4471, 4472, 4473, 4474, 4475, 4476, 4477, 4478, 4482, 4483, 4484, 4485, 4486, 4487, 4488, 4489, 4490, 4491, 4492, 4493, 4494, 4495, 4496, 4497, 4498, 4499, 4500, 4501, 4502, 4503, 4504, 4505, 4506, 4516, 4517, 4518, 4519, 4520, 4521, 4522, 4523, 4524, 4525, 4526, 4527, 4528, 4529, 4530, 4531, 4532, 4533, 4534, 4535, 4536, 4537, 4538, 4539, 4540, 4541, 4542, 4543, 4544, 4545, 4546, 4547, 4548, 4549, 4550, 4551, 4552, 4553, 4554, 4555, 4556, 4557, 4558, 4562, 4563, 4564, 4565, 4566, 4567, 4568, 4569, 4570, 4571, 4572, 4573, 4574, 4575, 4576, 4577, 4578, 4579, 4580, 4581, 4582, 4583, 4584, 4585, 4586, 4587, 4588, 4598, 4599, 4600, 4601, 4602, 4603, 4604, 4605, 4606, 4607, 4608, 4609, 4610, 4611, 4612, 4613, 4614, 4615, 4616, 4617, 4618, 4619, 4620, 4621, 4622, 4623, 4624, 4625, 4626, 4627, 4628, 4629, 4630, 4631, 4632, 4633, 4634, 4635, 4636, 4637, 4638, 4642, 4643, 4644, 4645, 4646, 4647, 4648, 4649, 4650, 4651, 4652, 4653, 4654, 4655, 4656, 4657, 4658, 4659, 4660, 4661, 4662, 4663, 4664, 4665, 4666, 4667, 4668, 4669, 4670, 4681, 4682, 4683, 4684, 4685, 4686, 4687, 4688, 4689, 4690, 4691, 4692, 4693, 4694, 4695, 4696, 4697, 4698, 4699, 4700, 4701, 4702, 4703, 4704, 4705, 4706, 4707, 4708, 4709, 4710, 4711, 4712, 4713, 4714, 4715, 4716, 4717, 4718, 4722, 4723, 4724, 4725, 4726, 4727, 4728, 4729, 4730, 4731, 4732, 4733, 4734, 4735, 4736, 4737, 4738, 4739, 4740, 4741, 4742, 4743, 4744, 4745, 4746, 4747, 4748, 4749, 4750, 4751, 4752, 4763, 4764, 4765, 4766, 4767, 4768, 4769, 4770, 4771, 4772, 4773, 4774, 4775, 4776, 4777, 4778, 4779, 4780, 4781, 4782, 4783, 4784, 4785, 4786, 4787, 4788, 4789, 4790, 4791, 4792, 4793, 4794, 4795, 4796, 4797, 4798, 4802, 4803, 4804, 4805, 4806, 4807, 4808, 4809, 4810, 4811, 4812, 4813, 4814, 4815, 4816, 4817, 4818, 4819, 4820, 4821, 4822, 4823, 4824, 4825, 4826, 4827, 4828, 4829, 4830, 4831, 4832, 4833, 4834, 4845, 4846, 4847, 4848, 4849, 4850, 4851, 4852, 4853, 4854, 4855, 4856, 4857, 4858, 4859, 4860, 4861, 4862, 4863, 4864, 4865, 4866, 4867, 4868, 4869, 4870, 4871, 4872, 4873, 4874, 4875, 4876, 4877, 4878, 4882, 4883, 4884, 4885, 4886, 4887, 4888, 4889, 4890, 4891, 4892, 4893, 4894, 4895, 4896, 4897, 4898, 4899, 4900, 4901, 4902, 4903, 4904, 4905, 4906, 4907, 4908, 4909, 4910, 4911, 4912, 4913, 4914, 4915, 4928, 4929, 4930, 4931, 4932, 4933, 4934, 4935, 4936, 4937, 4938, 4939, 4940, 4941, 4942, 4943, 4944, 4945, 4946, 4947, 4948, 4949, 4950, 4951, 4952, 4953, 4954, 4955, 4956, 4957, 4958, 4962, 4963, 4964, 4965, 4966, 4967, 4968, 4969, 4970, 4971, 4972, 4973, 4974, 4975, 4976, 4977, 4978, 4979, 4980, 4981, 4982, 4983, 4984, 4985, 4986, 4987, 4988, 4989, 4990, 4991, 4992, 4993, 4994, 4995, 4996, 4997, 5010, 5011, 5012, 5013, 5014, 5015, 5016, 5017, 5018, 5019, 5020, 5021, 5022, 5023, 5024, 5025, 5026, 5027, 5028, 5029, 5030, 5031, 5032, 5033, 5034, 5035, 5036, 5037, 5038, 5042, 5043, 5044, 5045, 5046, 5047, 5048, 5049, 5050, 5051, 5052, 5053, 5054, 5055, 5056, 5057, 5058, 5059, 5060, 5061, 5062, 5063, 5064, 5065, 5066, 5067, 5068, 5069, 5070, 5071, 5072, 5073, 5074, 5075, 5076, 5077, 5078, 5079, 5092, 5093, 5094, 5095, 5096, 5097, 5098, 5099, 5100, 5101, 5102, 5103, 5104, 5105, 5106, 5107, 5108, 5109, 5110, 5111, 5112, 5113, 5114, 5115, 5116, 5117, 5118, 5122, 5123, 5124, 5125, 5126, 5127, 5128, 5129, 5130, 5131, 5132, 5133, 5134, 5135, 5136, 5137, 5138, 5139, 5140, 5141, 5142, 5143, 5144, 5145, 5146, 5147, 5148, 5149, 5150, 5151, 5152, 5153, 5154, 5155, 5156, 5157, 5158, 5159, 5160, 5161, 5175, 5176, 5177, 5178, 5179, 5180, 5181, 5182, 5183, 5184, 5185, 5186, 5187, 5188, 5189, 5190, 5191, 5192, 5193, 5194, 5195, 5196, 5197, 5198, 5202, 5203, 5204, 5205, 5206, 5207, 5208, 5209, 5210, 5211, 5212, 5213, 5214, 5215, 5216, 5217, 5218, 5219, 5220, 5221, 5222, 5223, 5224, 5225, 5226, 5227, 5228, 5229, 5230, 5231, 5232, 5233, 5234, 5235, 5236, 5237, 5238, 5239, 5240, 5241, 5242, 5243, 5257, 5258, 5259, 5260, 5261, 5262, 5263, 5264, 5265, 5266, 5267, 5268, 5269, 5270, 5271, 5272, 5273, 5274, 5275, 5276, 5277, 5278, 5282, 5283, 5284, 5285, 5286, 5287, 5288, 5289, 5290, 5291, 5292, 5293, 5294, 5295, 5296, 5297, 5298, 5299, 5300, 5301, 5302, 5303, 5304, 5305, 5306, 5307, 5308, 5309, 5310, 5311, 5312, 5313, 5314, 5315, 5316, 5317, 5318, 5319, 5320, 5321, 5322, 5323, 5324, 5340, 5341, 5342, 5343, 5344, 5345, 5346, 5347, 5348, 5349, 5350, 5351, 5352, 5353, 5354, 5355, 5356, 5357, 5358, 5362, 5363, 5364, 5365, 5366, 5367, 5368, 5369, 5370, 5371, 5372, 5373, 5374, 5375, 5376, 5377, 5378, 5379, 5380, 5381, 5382, 5383, 5384, 5385, 5386, 5387, 5388, 5389, 5390, 5391, 5392, 5393, 5394, 5395, 5396, 5397, 5398, 5399, 5400, 5401, 5402, 5403, 5404, 5405, 5406, 5422, 5423, 5424, 5425, 5426, 5427, 5428, 5429, 5430, 5431, 5432, 5433, 5434, 5435, 5436, 5437, 5438, 5442, 5443, 5444, 5445, 5446, 5447, 5448, 5449, 5450, 5451, 5452, 5453, 5454, 5455, 5456, 5457, 5458, 5459, 5460, 5461, 5462, 5463, 5464, 5465, 5466, 5467, 5468, 5469, 5470, 5471, 5472, 5473, 5474, 5475, 5476, 5477, 5478, 5479, 5480, 5481, 5482, 5483, 5484, 5485, 5486, 5487, 5488, 5504, 5505, 5506, 5507, 5508, 5509, 5510, 5511, 5512, 5513, 5514, 5515, 5516, 5517, 5518, 5522, 5523, 5524, 5525, 5526, 5527, 5528, 5529, 5530, 5531, 5532, 5533, 5534, 5535, 5536, 5537, 5538, 5539, 5540, 5541, 5542, 5543, 5544, 5545, 5546, 5547, 5548, 5549, 5550, 5551, 5552, 5553, 5554, 5555, 5556, 5557, 5558, 5559, 5560, 5561, 5562, 5563, 5564, 5565, 5566, 5567, 5568, 5569, 5570, 5587, 5588, 5589, 5590, 5591, 5592, 5593, 5594, 5595, 5596, 5597, 5603, 5604, 5605, 5606, 5607, 5608, 5609, 5610, 5611, 5612, 5613, 5614, 5615, 5616, 5617, 5618, 5619, 5620, 5621, 5622, 5623, 5624, 5625, 5626, 5627, 5628, 5629, 5630, 5631, 5632, 5633, 5634, 5635, 5636, 5637, 5638, 5639, 5640, 5641, 5642, 5643, 5644, 5645, 5646, 5647, 5648, 5649, 5650, 5651, 5669, 5670, 5671, 5672, 5673, 5674, 5675, 5676, 5677, 5683, 5684, 5685, 5686, 5687, 5688, 5689, 5690, 5691, 5692, 5693, 5694, 5695, 5696, 5697, 5698, 5699, 5700, 5701, 5702, 5703, 5704, 5705, 5706, 5707, 5708, 5709, 5710, 5711, 5712, 5713, 5714, 5715, 5716, 5717, 5718, 5719, 5720, 5721, 5722, 5723, 5724, 5725, 5726, 5727, 5728, 5729, 5730, 5731, 5732, 5733, 5751, 5752, 5753, 5754, 5755, 5756, 5757, 5763, 5764, 5765, 5766, 5767, 5768, 5769, 5770, 5771, 5772, 5773, 5774, 5775, 5776, 5777, 5778, 5779, 5780, 5781, 5782, 5783, 5784, 5785, 5786, 5787, 5788, 5789, 5790, 5791, 5792, 5793, 5794, 5795, 5796, 5797, 5798, 5799, 5800, 5801, 5802, 5803, 5804, 5805, 5806, 5807, 5808, 5809, 5810, 5811, 5812, 5813, 5814, 5815, 5832, 5833, 5834, 5835, 5836, 5837, 5843, 5844, 5845, 5846, 5847, 5848, 5849, 5850, 5851, 5852, 5853, 5854, 5855, 5856, 5857, 5858, 5859, 5860, 5861, 5862, 5863, 5864, 5865, 5866, 5867, 5868, 5869, 5870, 5871, 5872, 5873, 5874, 5875, 5876, 5877, 5878, 5879, 5880, 5881, 5882, 5883, 5884, 5885, 5886, 5887, 5888, 5889, 5890, 5891, 5892, 5893, 5894, 5895, 5896, 5897, 5913, 5914, 5915, 5916, 5917, 5923, 5924, 5925, 5926, 5927, 5928, 5929, 5930, 5931, 5932, 5933, 5934, 5935, 5936, 5937, 5938, 5939, 5940, 5941, 5942, 5943, 5944, 5945, 5946, 5947, 5948, 5949, 5950, 5951, 5952, 5953, 5954, 5955, 5956, 5957, 5958, 5959, 5960, 5961, 5962, 5963, 5964, 5965, 5966, 5967, 5968, 5969, 5970, 5971, 5972, 5973, 5974, 5975, 5976, 5977, 5978, 5979, 5994, 5995, 5996, 5997, 6003, 6004, 6005, 6006, 6007, 6008, 6009, 6010, 6011, 6012, 6013, 6014, 6015, 6016, 6017, 6018, 6019, 6020, 6021, 6022, 6023, 6024, 6025, 6026, 6027, 6028, 6029, 6030, 6031, 6032, 6033, 6034, 6035, 6036, 6037, 6038, 6039, 6040, 6041, 6042, 6043, 6044, 6045, 6046, 6047, 6048, 6049, 6050, 6051, 6052, 6053, 6054, 6055, 6056, 6057, 6058, 6059, 6060, 6075, 6076, 6077, 6083, 6084, 6085, 6086, 6087, 6088, 6089, 6090, 6091, 6092, 6093, 6094, 6095, 6096, 6097, 6098, 6099, 6100, 6101, 6102, 6103, 6104, 6105, 6106, 6107, 6108, 6109, 6110, 6111, 6112, 6113, 6114, 6115, 6116, 6117, 6118, 6119, 6120, 6121, 6122, 6123, 6124, 6125, 6126, 6127, 6128, 6129, 6130, 6131, 6132, 6133, 6134, 6135, 6136, 6137, 6138, 6139, 6140, 6141, 6142, 6156, 6157, 6163, 6164, 6165, 6166, 6167, 6168, 6169, 6170, 6171, 6172, 6173, 6174, 6175, 6176, 6177, 6178, 6179, 6180, 6181, 6182, 6183, 6184, 6185, 6186, 6187, 6188, 6189, 6190, 6191, 6192, 6193, 6194, 6195, 6196, 6197, 6198, 6199, 6200, 6201, 6202, 6203, 6204, 6205, 6206, 6207, 6208, 6209, 6210, 6211, 6212, 6213, 6214, 6215, 6216, 6217, 6218, 6219, 6220, 6221, 6222, 6223, 6224, 6237, 6243, 6244, 6245, 6246, 6247, 6248, 6249, 6250, 6251, 6252, 6253, 6254, 6255, 6256, 6257, 6258, 6259, 6260, 6261, 6262, 6263, 6264, 6265, 6266, 6267, 6268, 6269, 6270, 6271, 6272, 6273, 6274, 6275, 6276, 6277, 6278, 6279, 6280, 6281, 6282, 6283, 6284, 6285, 6286, 6287, 6288, 6289, 6290, 6291, 6292, 6293, 6294, 6295, 6296, 6297, 6298, 6299, 6300, 6301, 6302, 6303, 6304, 6305, 6306, 6323, 6324, 6325, 6326, 6327, 6328, 6329, 6330, 6331, 6332, 6333, 6334, 6335, 6336, 6337, 6338, 6339, 6340, 6341, 6342, 6343, 6344, 6345, 6346, 6347, 6348, 6349, 6350, 6351, 6352, 6353, 6354, 6355, 6356, 6357, 6358, 6359, 6360, 6361, 6362, 6363, 6364, 6365, 6366, 6367, 6368, 6369, 6370, 6371, 6372, 6373, 6374, 6375, 6376, 6377, 6378, 6379, 6380, 6381, 6382, 6383, 6384, 6385, 6386, 6387, 6388, 6403, 6404, 6405, 6406, 6407, 6408, 6409, 6410, 6411, 6412, 6413, 6414, 6415, 6416, 6417, 6418, 6419, 6420, 6421, 6422, 6423, 6424, 6425, 6426, 6427, 6428, 6429, 6430, 6431, 6432, 6433, 6434, 6435, 6436, 6437, 6438, 6439, 6440, 6441, 6442, 6443, 6444, 6445, 6446, 6447, 6448, 6449, 6450, 6451, 6452, 6453, 6454, 6455, 6456, 6457, 6458, 6459, 6460, 6461, 6462, 6463, 6464, 6465, 6466, 6467, 6468, 6469, 6483, 6484, 6485, 6486, 6487, 6488, 6489, 6490, 6491, 6492, 6493, 6494, 6495, 6496, 6497, 6498, 6499, 6500, 6501, 6502, 6503, 6504, 6505, 6506, 6507, 6508, 6509, 6510, 6511, 6512, 6513, 6514, 6515, 6516, 6517, 6518, 6519, 6520, 6521, 6522, 6523, 6524, 6525, 6526, 6527, 6528, 6529, 6530, 6531, 6532, 6533, 6534, 6535, 6536, 6537, 6538, 6539, 6540, 6541, 6542, 6543, 6544, 6545, 6546, 6547, 6548, 6549, 6550, 6551]\n",
      "val ids:  []\n",
      "test ids:  [0, 1, 2, 3, 4, 5, 6, 7, 8, 78, 79, 80, 81, 82, 83, 84, 85, 86, 87, 88, 89, 90, 158, 159, 160, 161, 162, 163, 164, 165, 166, 167, 168, 169, 170, 171, 238, 239, 240, 241, 242, 243, 244, 245, 246, 247, 248, 249, 250, 251, 252, 253, 318, 319, 320, 321, 322, 324, 325, 326, 327, 328, 329, 330, 331, 332, 333, 334, 335, 398, 399, 400, 401, 402, 405, 406, 407, 408, 409, 410, 411, 412, 413, 414, 415, 416, 417, 478, 479, 480, 481, 482, 486, 487, 488, 489, 490, 491, 492, 493, 494, 495, 496, 497, 498, 499, 558, 559, 560, 561, 562, 567, 568, 569, 570, 571, 572, 573, 574, 575, 576, 577, 578, 579, 580, 638, 639, 640, 641, 642, 648, 649, 650, 651, 652, 653, 654, 655, 656, 657, 658, 659, 660, 661, 662, 718, 719, 720, 721, 722, 729, 730, 731, 732, 733, 734, 735, 736, 737, 738, 739, 740, 741, 742, 743, 744, 798, 799, 800, 801, 802, 810, 811, 812, 813, 814, 815, 816, 817, 818, 819, 820, 821, 822, 823, 824, 825, 826, 878, 879, 880, 881, 882, 892, 893, 894, 895, 896, 897, 898, 899, 900, 901, 902, 903, 904, 905, 906, 907, 908, 958, 959, 960, 961, 962, 974, 975, 976, 977, 978, 979, 980, 981, 982, 983, 984, 985, 986, 987, 988, 989, 1039, 1040, 1041, 1057, 1058, 1059, 1060, 1061, 1062, 1063, 1064, 1065, 1066, 1067, 1068, 1069, 1070, 1071, 1119, 1120, 1121, 1139, 1140, 1141, 1142, 1143, 1144, 1145, 1146, 1147, 1148, 1149, 1150, 1151, 1152, 1153, 1199, 1200, 1201, 1221, 1222, 1223, 1224, 1225, 1226, 1227, 1228, 1229, 1230, 1231, 1232, 1233, 1234, 1235, 1279, 1280, 1281, 1304, 1305, 1306, 1307, 1308, 1309, 1310, 1311, 1312, 1313, 1314, 1315, 1316, 1359, 1360, 1361, 1386, 1387, 1388, 1389, 1390, 1391, 1392, 1393, 1394, 1395, 1396, 1397, 1398, 1439, 1440, 1441, 1469, 1470, 1471, 1472, 1473, 1474, 1475, 1476, 1477, 1478, 1479, 1480, 1519, 1520, 1521, 1551, 1552, 1553, 1554, 1555, 1556, 1557, 1558, 1559, 1560, 1561, 1562, 1599, 1600, 1601, 1633, 1634, 1635, 1636, 1637, 1638, 1639, 1640, 1641, 1642, 1643, 1644, 1679, 1680, 1681, 1716, 1717, 1718, 1719, 1720, 1721, 1722, 1723, 1724, 1725, 1759, 1760, 1761, 1798, 1799, 1800, 1801, 1802, 1803, 1804, 1805, 1806, 1807, 1839, 1840, 1841, 1880, 1881, 1882, 1883, 1884, 1885, 1886, 1887, 1888, 1889, 1919, 1920, 1921, 1963, 1964, 1965, 1966, 1967, 1968, 1969, 1970, 1971, 1999, 2000, 2001, 2045, 2046, 2047, 2048, 2049, 2050, 2051, 2052, 2053, 2079, 2080, 2081, 2127, 2128, 2129, 2130, 2131, 2132, 2133, 2134, 2160, 2210, 2211, 2212, 2213, 2214, 2215, 2216, 2240, 2292, 2293, 2294, 2295, 2296, 2297, 2298, 2320, 2375, 2376, 2377, 2378, 2379, 2380, 2400, 2457, 2458, 2459, 2460, 2461, 2462, 2480, 2539, 2540, 2541, 2542, 2543, 2560, 2622, 2623, 2624, 2625, 2640, 2704, 2705, 2706, 2707, 2720, 2786, 2787, 2788, 2789, 2800, 2869, 2870, 2871, 2880, 2951, 2952, 2960, 3033, 3034, 3040, 3116, 3120, 3198, 3200, 3280, 3360, 3362, 3440, 3444, 3520, 3526, 3527, 3600, 3608, 3609, 3680, 3689, 3690, 3691, 3760, 3771, 3772, 3773, 3774, 3840, 3853, 3854, 3855, 3856, 3920, 3935, 3936, 3937, 3938, 4000, 4017, 4018, 4019, 4020, 4021, 4080, 4098, 4099, 4100, 4101, 4102, 4103, 4160, 4180, 4181, 4182, 4183, 4184, 4185, 4240, 4262, 4263, 4264, 4265, 4266, 4267, 4268, 4320, 4344, 4345, 4346, 4347, 4348, 4349, 4350, 4400, 4426, 4427, 4428, 4429, 4430, 4431, 4432, 4433, 4479, 4480, 4481, 4507, 4508, 4509, 4510, 4511, 4512, 4513, 4514, 4515, 4559, 4560, 4561, 4589, 4590, 4591, 4592, 4593, 4594, 4595, 4596, 4597, 4639, 4640, 4641, 4671, 4672, 4673, 4674, 4675, 4676, 4677, 4678, 4679, 4680, 4719, 4720, 4721, 4753, 4754, 4755, 4756, 4757, 4758, 4759, 4760, 4761, 4762, 4799, 4800, 4801, 4835, 4836, 4837, 4838, 4839, 4840, 4841, 4842, 4843, 4844, 4879, 4880, 4881, 4916, 4917, 4918, 4919, 4920, 4921, 4922, 4923, 4924, 4925, 4926, 4927, 4959, 4960, 4961, 4998, 4999, 5000, 5001, 5002, 5003, 5004, 5005, 5006, 5007, 5008, 5009, 5039, 5040, 5041, 5080, 5081, 5082, 5083, 5084, 5085, 5086, 5087, 5088, 5089, 5090, 5091, 5119, 5120, 5121, 5162, 5163, 5164, 5165, 5166, 5167, 5168, 5169, 5170, 5171, 5172, 5173, 5174, 5199, 5200, 5201, 5244, 5245, 5246, 5247, 5248, 5249, 5250, 5251, 5252, 5253, 5254, 5255, 5256, 5279, 5280, 5281, 5325, 5326, 5327, 5328, 5329, 5330, 5331, 5332, 5333, 5334, 5335, 5336, 5337, 5338, 5339, 5359, 5360, 5361, 5407, 5408, 5409, 5410, 5411, 5412, 5413, 5414, 5415, 5416, 5417, 5418, 5419, 5420, 5421, 5439, 5440, 5441, 5489, 5490, 5491, 5492, 5493, 5494, 5495, 5496, 5497, 5498, 5499, 5500, 5501, 5502, 5503, 5519, 5520, 5521, 5571, 5572, 5573, 5574, 5575, 5576, 5577, 5578, 5579, 5580, 5581, 5582, 5583, 5584, 5585, 5586, 5598, 5599, 5600, 5601, 5602, 5652, 5653, 5654, 5655, 5656, 5657, 5658, 5659, 5660, 5661, 5662, 5663, 5664, 5665, 5666, 5667, 5668, 5678, 5679, 5680, 5681, 5682, 5734, 5735, 5736, 5737, 5738, 5739, 5740, 5741, 5742, 5743, 5744, 5745, 5746, 5747, 5748, 5749, 5750, 5758, 5759, 5760, 5761, 5762, 5816, 5817, 5818, 5819, 5820, 5821, 5822, 5823, 5824, 5825, 5826, 5827, 5828, 5829, 5830, 5831, 5838, 5839, 5840, 5841, 5842, 5898, 5899, 5900, 5901, 5902, 5903, 5904, 5905, 5906, 5907, 5908, 5909, 5910, 5911, 5912, 5918, 5919, 5920, 5921, 5922, 5980, 5981, 5982, 5983, 5984, 5985, 5986, 5987, 5988, 5989, 5990, 5991, 5992, 5993, 5998, 5999, 6000, 6001, 6002, 6061, 6062, 6063, 6064, 6065, 6066, 6067, 6068, 6069, 6070, 6071, 6072, 6073, 6074, 6078, 6079, 6080, 6081, 6082, 6143, 6144, 6145, 6146, 6147, 6148, 6149, 6150, 6151, 6152, 6153, 6154, 6155, 6158, 6159, 6160, 6161, 6162, 6225, 6226, 6227, 6228, 6229, 6230, 6231, 6232, 6233, 6234, 6235, 6236, 6238, 6239, 6240, 6241, 6242, 6307, 6308, 6309, 6310, 6311, 6312, 6313, 6314, 6315, 6316, 6317, 6318, 6319, 6320, 6321, 6322, 6389, 6390, 6391, 6392, 6393, 6394, 6395, 6396, 6397, 6398, 6399, 6400, 6401, 6402, 6470, 6471, 6472, 6473, 6474, 6475, 6476, 6477, 6478, 6479, 6480, 6481, 6482, 6552, 6553, 6554, 6555, 6556, 6557, 6558, 6559, 6560]\n",
      "CPU times: user 188 ms, sys: 7.53 ms, total: 196 ms\n",
      "Wall time: 195 ms\n"
     ]
    }
   ],
   "source": [
    "%%time\n",
    "n_total = len(simulation.dataframe)\n",
    "n_train = len(simulation.dataframe[simulation.dataframe.type_of == \"train\"])\n",
    "n_val = len(simulation.dataframe[simulation.dataframe.type_of == \"val\"])\n",
    "n_test = len(simulation.dataframe[simulation.dataframe.type_of == \"test\"])\n",
    "n_train_hamiltonians = len(simulation.train_ids)\n",
    "n_val_hamiltonians = len(simulation.val_ids)\n",
    "n_test_hamiltonians = len(simulation.test_ids)\n",
    "n_total_hamiltonians = n_train_hamiltonians + n_val_hamiltonians + n_test_hamiltonians\n",
    "\n",
    "print(\"% train: \", n_train/n_total)\n",
    "print(\"% val: \",  n_val/n_total)\n",
    "print(\"% test: \", n_test/n_total)\n",
    "print(\"% train + val + test: \", (n_train+n_val+n_test)/n_total)\n",
    "print(\"\\n\")\n",
    "print(\"number of train hamiltonians: \", n_train_hamiltonians)\n",
    "print(\"number of val hamiltonians: \", n_val_hamiltonians)\n",
    "print(\"number of test hamiltonians: \", n_test_hamiltonians)\n",
    "print(\"total number of hamiltonians: \", n_total_hamiltonians)\n",
    "print(\"\\n\")\n",
    "print(\"train ids: \", simulation.train_ids)\n",
    "print(\"val ids: \", simulation.val_ids)\n",
    "print(\"test ids: \", simulation.test_ids)"
   ]
  },
  {
   "cell_type": "markdown",
   "metadata": {
    "papermill": {
     "duration": 0.017115,
     "end_time": "2020-07-09T09:04:02.903129",
     "exception": false,
     "start_time": "2020-07-09T09:04:02.886014",
     "status": "completed"
    },
    "tags": []
   },
   "source": [
    "## Running a simulation"
   ]
  },
  {
   "cell_type": "code",
   "execution_count": 23,
   "metadata": {
    "execution": {
     "iopub.execute_input": "2020-07-09T09:04:02.940398Z",
     "iopub.status.busy": "2020-07-09T09:04:02.940078Z",
     "iopub.status.idle": "2020-07-09T09:21:26.949798Z",
     "shell.execute_reply": "2020-07-09T09:21:26.950049Z"
    },
    "papermill": {
     "duration": 1044.0295,
     "end_time": "2020-07-09T09:21:26.950116",
     "exception": false,
     "start_time": "2020-07-09T09:04:02.920616",
     "status": "completed"
    },
    "tags": []
   },
   "outputs": [
    {
     "name": "stderr",
     "output_type": "stream",
     "text": [
      "\r",
      "running experiments:   0%|          | 0/100 [00:00<?, ?it/s]"
     ]
    },
    {
     "name": "stderr",
     "output_type": "stream",
     "text": [
      "\r",
      "running experiments:   1%|          | 1/100 [00:09<16:29,  9.99s/it]"
     ]
    },
    {
     "name": "stderr",
     "output_type": "stream",
     "text": [
      "\r",
      "running experiments:   2%|▏         | 2/100 [00:19<16:02,  9.82s/it]"
     ]
    },
    {
     "name": "stderr",
     "output_type": "stream",
     "text": [
      "\r",
      "running experiments:   3%|▎         | 3/100 [00:31<16:44, 10.36s/it]"
     ]
    },
    {
     "name": "stderr",
     "output_type": "stream",
     "text": [
      "\r",
      "running experiments:   4%|▍         | 4/100 [00:38<15:24,  9.63s/it]"
     ]
    },
    {
     "name": "stderr",
     "output_type": "stream",
     "text": [
      "\r",
      "running experiments:   5%|▌         | 5/100 [00:47<14:38,  9.25s/it]"
     ]
    },
    {
     "name": "stderr",
     "output_type": "stream",
     "text": [
      "\r",
      "running experiments:   6%|▌         | 6/100 [00:58<15:11,  9.69s/it]"
     ]
    },
    {
     "name": "stderr",
     "output_type": "stream",
     "text": [
      "\r",
      "running experiments:   7%|▋         | 7/100 [01:10<16:16, 10.50s/it]"
     ]
    },
    {
     "name": "stderr",
     "output_type": "stream",
     "text": [
      "\r",
      "running experiments:   8%|▊         | 8/100 [01:21<16:33, 10.80s/it]"
     ]
    },
    {
     "name": "stderr",
     "output_type": "stream",
     "text": [
      "\r",
      "running experiments:   9%|▉         | 9/100 [01:34<17:03, 11.24s/it]"
     ]
    },
    {
     "name": "stderr",
     "output_type": "stream",
     "text": [
      "\r",
      "running experiments:  10%|█         | 10/100 [01:43<15:50, 10.57s/it]"
     ]
    },
    {
     "name": "stderr",
     "output_type": "stream",
     "text": [
      "\r",
      "running experiments:  11%|█         | 11/100 [01:52<15:08, 10.21s/it]"
     ]
    },
    {
     "name": "stderr",
     "output_type": "stream",
     "text": [
      "\r",
      "running experiments:  12%|█▏        | 12/100 [02:02<14:47, 10.09s/it]"
     ]
    },
    {
     "name": "stderr",
     "output_type": "stream",
     "text": [
      "\r",
      "running experiments:  13%|█▎        | 13/100 [02:14<15:37, 10.78s/it]"
     ]
    },
    {
     "name": "stderr",
     "output_type": "stream",
     "text": [
      "\r",
      "running experiments:  14%|█▍        | 14/100 [02:24<15:07, 10.55s/it]"
     ]
    },
    {
     "name": "stderr",
     "output_type": "stream",
     "text": [
      "\r",
      "running experiments:  15%|█▌        | 15/100 [02:32<13:32,  9.56s/it]"
     ]
    },
    {
     "name": "stderr",
     "output_type": "stream",
     "text": [
      "\r",
      "running experiments:  16%|█▌        | 16/100 [02:44<14:30, 10.36s/it]"
     ]
    },
    {
     "name": "stderr",
     "output_type": "stream",
     "text": [
      "\r",
      "running experiments:  17%|█▋        | 17/100 [02:55<14:36, 10.57s/it]"
     ]
    },
    {
     "name": "stderr",
     "output_type": "stream",
     "text": [
      "\r",
      "running experiments:  18%|█▊        | 18/100 [03:08<15:38, 11.44s/it]"
     ]
    },
    {
     "name": "stderr",
     "output_type": "stream",
     "text": [
      "\r",
      "running experiments:  19%|█▉        | 19/100 [03:17<14:17, 10.58s/it]"
     ]
    },
    {
     "name": "stderr",
     "output_type": "stream",
     "text": [
      "\r",
      "running experiments:  20%|██        | 20/100 [03:28<14:09, 10.62s/it]"
     ]
    },
    {
     "name": "stderr",
     "output_type": "stream",
     "text": [
      "\r",
      "running experiments:  21%|██        | 21/100 [03:39<14:19, 10.88s/it]"
     ]
    },
    {
     "name": "stderr",
     "output_type": "stream",
     "text": [
      "\r",
      "running experiments:  22%|██▏       | 22/100 [03:47<12:52,  9.90s/it]"
     ]
    },
    {
     "name": "stderr",
     "output_type": "stream",
     "text": [
      "\r",
      "running experiments:  23%|██▎       | 23/100 [04:00<14:05, 10.99s/it]"
     ]
    },
    {
     "name": "stderr",
     "output_type": "stream",
     "text": [
      "\r",
      "running experiments:  24%|██▍       | 24/100 [04:13<14:38, 11.56s/it]"
     ]
    },
    {
     "name": "stderr",
     "output_type": "stream",
     "text": [
      "\r",
      "running experiments:  25%|██▌       | 25/100 [04:24<14:03, 11.24s/it]"
     ]
    },
    {
     "name": "stderr",
     "output_type": "stream",
     "text": [
      "\r",
      "running experiments:  26%|██▌       | 26/100 [04:32<12:46, 10.36s/it]"
     ]
    },
    {
     "name": "stderr",
     "output_type": "stream",
     "text": [
      "\r",
      "running experiments:  27%|██▋       | 27/100 [04:40<11:52,  9.77s/it]"
     ]
    },
    {
     "name": "stderr",
     "output_type": "stream",
     "text": [
      "\r",
      "running experiments:  28%|██▊       | 28/100 [04:50<11:33,  9.64s/it]"
     ]
    },
    {
     "name": "stderr",
     "output_type": "stream",
     "text": [
      "\r",
      "running experiments:  29%|██▉       | 29/100 [04:57<10:37,  8.97s/it]"
     ]
    },
    {
     "name": "stderr",
     "output_type": "stream",
     "text": [
      "\r",
      "running experiments:  30%|███       | 30/100 [05:08<11:11,  9.60s/it]"
     ]
    },
    {
     "name": "stderr",
     "output_type": "stream",
     "text": [
      "\r",
      "running experiments:  31%|███       | 31/100 [05:26<13:48, 12.00s/it]"
     ]
    },
    {
     "name": "stderr",
     "output_type": "stream",
     "text": [
      "\r",
      "running experiments:  32%|███▏      | 32/100 [05:34<12:25, 10.96s/it]"
     ]
    },
    {
     "name": "stderr",
     "output_type": "stream",
     "text": [
      "\r",
      "running experiments:  33%|███▎      | 33/100 [05:44<11:54, 10.66s/it]"
     ]
    },
    {
     "name": "stderr",
     "output_type": "stream",
     "text": [
      "\r",
      "running experiments:  34%|███▍      | 34/100 [05:54<11:32, 10.49s/it]"
     ]
    },
    {
     "name": "stderr",
     "output_type": "stream",
     "text": [
      "\r",
      "running experiments:  35%|███▌      | 35/100 [06:09<12:51, 11.87s/it]"
     ]
    },
    {
     "name": "stderr",
     "output_type": "stream",
     "text": [
      "\r",
      "running experiments:  36%|███▌      | 36/100 [06:17<11:24, 10.70s/it]"
     ]
    },
    {
     "name": "stderr",
     "output_type": "stream",
     "text": [
      "\r",
      "running experiments:  37%|███▋      | 37/100 [06:26<10:29,  9.99s/it]"
     ]
    },
    {
     "name": "stderr",
     "output_type": "stream",
     "text": [
      "\r",
      "running experiments:  38%|███▊      | 38/100 [06:33<09:33,  9.26s/it]"
     ]
    },
    {
     "name": "stderr",
     "output_type": "stream",
     "text": [
      "\r",
      "running experiments:  39%|███▉      | 39/100 [06:41<09:01,  8.87s/it]"
     ]
    },
    {
     "name": "stderr",
     "output_type": "stream",
     "text": [
      "\r",
      "running experiments:  40%|████      | 40/100 [06:50<08:44,  8.74s/it]"
     ]
    },
    {
     "name": "stderr",
     "output_type": "stream",
     "text": [
      "\r",
      "running experiments:  41%|████      | 41/100 [06:59<08:41,  8.84s/it]"
     ]
    },
    {
     "name": "stderr",
     "output_type": "stream",
     "text": [
      "\r",
      "running experiments:  42%|████▏     | 42/100 [07:09<08:59,  9.30s/it]"
     ]
    },
    {
     "name": "stderr",
     "output_type": "stream",
     "text": [
      "\r",
      "running experiments:  43%|████▎     | 43/100 [07:25<10:45, 11.32s/it]"
     ]
    },
    {
     "name": "stderr",
     "output_type": "stream",
     "text": [
      "\r",
      "running experiments:  44%|████▍     | 44/100 [07:35<10:14, 10.97s/it]"
     ]
    },
    {
     "name": "stderr",
     "output_type": "stream",
     "text": [
      "\r",
      "running experiments:  45%|████▌     | 45/100 [07:50<11:07, 12.13s/it]"
     ]
    },
    {
     "name": "stderr",
     "output_type": "stream",
     "text": [
      "\r",
      "running experiments:  46%|████▌     | 46/100 [08:00<10:18, 11.46s/it]"
     ]
    },
    {
     "name": "stderr",
     "output_type": "stream",
     "text": [
      "\r",
      "running experiments:  47%|████▋     | 47/100 [08:09<09:26, 10.69s/it]"
     ]
    },
    {
     "name": "stderr",
     "output_type": "stream",
     "text": [
      "\r",
      "running experiments:  48%|████▊     | 48/100 [08:17<08:32,  9.86s/it]"
     ]
    },
    {
     "name": "stderr",
     "output_type": "stream",
     "text": [
      "\r",
      "running experiments:  49%|████▉     | 49/100 [08:27<08:26,  9.93s/it]"
     ]
    },
    {
     "name": "stderr",
     "output_type": "stream",
     "text": [
      "\r",
      "running experiments:  50%|█████     | 50/100 [08:37<08:23, 10.07s/it]"
     ]
    },
    {
     "name": "stderr",
     "output_type": "stream",
     "text": [
      "\r",
      "running experiments:  51%|█████     | 51/100 [08:46<07:48,  9.55s/it]"
     ]
    },
    {
     "name": "stderr",
     "output_type": "stream",
     "text": [
      "\r",
      "running experiments:  52%|█████▏    | 52/100 [08:57<08:04, 10.09s/it]"
     ]
    },
    {
     "name": "stderr",
     "output_type": "stream",
     "text": [
      "\r",
      "running experiments:  53%|█████▎    | 53/100 [09:06<07:41,  9.82s/it]"
     ]
    },
    {
     "name": "stderr",
     "output_type": "stream",
     "text": [
      "\r",
      "running experiments:  54%|█████▍    | 54/100 [09:18<08:05, 10.56s/it]"
     ]
    },
    {
     "name": "stderr",
     "output_type": "stream",
     "text": [
      "\r",
      "running experiments:  55%|█████▌    | 55/100 [09:30<08:05, 10.78s/it]"
     ]
    },
    {
     "name": "stderr",
     "output_type": "stream",
     "text": [
      "\r",
      "running experiments:  56%|█████▌    | 56/100 [09:39<07:37, 10.40s/it]"
     ]
    },
    {
     "name": "stderr",
     "output_type": "stream",
     "text": [
      "\r",
      "running experiments:  57%|█████▋    | 57/100 [09:51<07:41, 10.74s/it]"
     ]
    },
    {
     "name": "stderr",
     "output_type": "stream",
     "text": [
      "\r",
      "running experiments:  58%|█████▊    | 58/100 [10:05<08:10, 11.68s/it]"
     ]
    },
    {
     "name": "stderr",
     "output_type": "stream",
     "text": [
      "\r",
      "running experiments:  59%|█████▉    | 59/100 [10:17<08:10, 11.96s/it]"
     ]
    },
    {
     "name": "stderr",
     "output_type": "stream",
     "text": [
      "\r",
      "running experiments:  60%|██████    | 60/100 [10:26<07:16, 10.91s/it]"
     ]
    },
    {
     "name": "stderr",
     "output_type": "stream",
     "text": [
      "\r",
      "running experiments:  61%|██████    | 61/100 [10:34<06:28,  9.96s/it]"
     ]
    },
    {
     "name": "stderr",
     "output_type": "stream",
     "text": [
      "\r",
      "running experiments:  62%|██████▏   | 62/100 [10:45<06:33, 10.36s/it]"
     ]
    },
    {
     "name": "stderr",
     "output_type": "stream",
     "text": [
      "\r",
      "running experiments:  63%|██████▎   | 63/100 [10:57<06:41, 10.86s/it]"
     ]
    },
    {
     "name": "stderr",
     "output_type": "stream",
     "text": [
      "\r",
      "running experiments:  64%|██████▍   | 64/100 [11:10<06:59, 11.64s/it]"
     ]
    },
    {
     "name": "stderr",
     "output_type": "stream",
     "text": [
      "\r",
      "running experiments:  65%|██████▌   | 65/100 [11:22<06:44, 11.57s/it]"
     ]
    },
    {
     "name": "stderr",
     "output_type": "stream",
     "text": [
      "\r",
      "running experiments:  66%|██████▌   | 66/100 [11:32<06:18, 11.13s/it]"
     ]
    },
    {
     "name": "stderr",
     "output_type": "stream",
     "text": [
      "\r",
      "running experiments:  67%|██████▋   | 67/100 [11:42<06:00, 10.94s/it]"
     ]
    },
    {
     "name": "stderr",
     "output_type": "stream",
     "text": [
      "\r",
      "running experiments:  68%|██████▊   | 68/100 [11:52<05:38, 10.58s/it]"
     ]
    },
    {
     "name": "stderr",
     "output_type": "stream",
     "text": [
      "\r",
      "running experiments:  69%|██████▉   | 69/100 [12:03<05:33, 10.75s/it]"
     ]
    },
    {
     "name": "stderr",
     "output_type": "stream",
     "text": [
      "\r",
      "running experiments:  70%|███████   | 70/100 [12:13<05:17, 10.60s/it]"
     ]
    },
    {
     "name": "stderr",
     "output_type": "stream",
     "text": [
      "\r",
      "running experiments:  71%|███████   | 71/100 [12:24<05:11, 10.73s/it]"
     ]
    },
    {
     "name": "stderr",
     "output_type": "stream",
     "text": [
      "\r",
      "running experiments:  72%|███████▏  | 72/100 [12:33<04:38,  9.95s/it]"
     ]
    },
    {
     "name": "stderr",
     "output_type": "stream",
     "text": [
      "\r",
      "running experiments:  73%|███████▎  | 73/100 [12:44<04:39, 10.37s/it]"
     ]
    },
    {
     "name": "stderr",
     "output_type": "stream",
     "text": [
      "\r",
      "running experiments:  74%|███████▍  | 74/100 [12:57<04:52, 11.26s/it]"
     ]
    },
    {
     "name": "stderr",
     "output_type": "stream",
     "text": [
      "\r",
      "running experiments:  75%|███████▌  | 75/100 [13:08<04:37, 11.11s/it]"
     ]
    },
    {
     "name": "stderr",
     "output_type": "stream",
     "text": [
      "\r",
      "running experiments:  76%|███████▌  | 76/100 [13:20<04:30, 11.27s/it]"
     ]
    },
    {
     "name": "stderr",
     "output_type": "stream",
     "text": [
      "\r",
      "running experiments:  77%|███████▋  | 77/100 [13:28<04:01, 10.48s/it]"
     ]
    },
    {
     "name": "stderr",
     "output_type": "stream",
     "text": [
      "\r",
      "running experiments:  78%|███████▊  | 78/100 [13:37<03:36,  9.84s/it]"
     ]
    },
    {
     "name": "stderr",
     "output_type": "stream",
     "text": [
      "\r",
      "running experiments:  79%|███████▉  | 79/100 [13:46<03:23,  9.68s/it]"
     ]
    },
    {
     "name": "stderr",
     "output_type": "stream",
     "text": [
      "\r",
      "running experiments:  80%|████████  | 80/100 [13:58<03:29, 10.47s/it]"
     ]
    },
    {
     "name": "stderr",
     "output_type": "stream",
     "text": [
      "\r",
      "running experiments:  81%|████████  | 81/100 [14:09<03:20, 10.57s/it]"
     ]
    },
    {
     "name": "stderr",
     "output_type": "stream",
     "text": [
      "\r",
      "running experiments:  82%|████████▏ | 82/100 [14:22<03:20, 11.13s/it]"
     ]
    },
    {
     "name": "stderr",
     "output_type": "stream",
     "text": [
      "\r",
      "running experiments:  83%|████████▎ | 83/100 [14:31<03:02, 10.74s/it]"
     ]
    },
    {
     "name": "stderr",
     "output_type": "stream",
     "text": [
      "\r",
      "running experiments:  84%|████████▍ | 84/100 [14:39<02:36,  9.78s/it]"
     ]
    },
    {
     "name": "stderr",
     "output_type": "stream",
     "text": [
      "\r",
      "running experiments:  85%|████████▌ | 85/100 [14:51<02:38, 10.55s/it]"
     ]
    },
    {
     "name": "stderr",
     "output_type": "stream",
     "text": [
      "\r",
      "running experiments:  86%|████████▌ | 86/100 [15:02<02:30, 10.75s/it]"
     ]
    },
    {
     "name": "stderr",
     "output_type": "stream",
     "text": [
      "\r",
      "running experiments:  87%|████████▋ | 87/100 [15:16<02:30, 11.54s/it]"
     ]
    },
    {
     "name": "stderr",
     "output_type": "stream",
     "text": [
      "\r",
      "running experiments:  88%|████████▊ | 88/100 [15:25<02:08, 10.68s/it]"
     ]
    },
    {
     "name": "stderr",
     "output_type": "stream",
     "text": [
      "\r",
      "running experiments:  89%|████████▉ | 89/100 [15:33<01:51, 10.13s/it]"
     ]
    },
    {
     "name": "stderr",
     "output_type": "stream",
     "text": [
      "\r",
      "running experiments:  90%|█████████ | 90/100 [15:43<01:38,  9.89s/it]"
     ]
    },
    {
     "name": "stderr",
     "output_type": "stream",
     "text": [
      "\r",
      "running experiments:  91%|█████████ | 91/100 [15:54<01:31, 10.20s/it]"
     ]
    },
    {
     "name": "stderr",
     "output_type": "stream",
     "text": [
      "\r",
      "running experiments:  92%|█████████▏| 92/100 [16:05<01:23, 10.48s/it]"
     ]
    },
    {
     "name": "stderr",
     "output_type": "stream",
     "text": [
      "\r",
      "running experiments:  93%|█████████▎| 93/100 [16:16<01:14, 10.65s/it]"
     ]
    },
    {
     "name": "stderr",
     "output_type": "stream",
     "text": [
      "\r",
      "running experiments:  94%|█████████▍| 94/100 [16:27<01:05, 10.89s/it]"
     ]
    },
    {
     "name": "stderr",
     "output_type": "stream",
     "text": [
      "\r",
      "running experiments:  95%|█████████▌| 95/100 [16:37<00:53, 10.69s/it]"
     ]
    },
    {
     "name": "stderr",
     "output_type": "stream",
     "text": [
      "\r",
      "running experiments:  96%|█████████▌| 96/100 [16:48<00:42, 10.53s/it]"
     ]
    },
    {
     "name": "stderr",
     "output_type": "stream",
     "text": [
      "\r",
      "running experiments:  97%|█████████▋| 97/100 [16:56<00:29,  9.90s/it]"
     ]
    },
    {
     "name": "stderr",
     "output_type": "stream",
     "text": [
      "\r",
      "running experiments:  98%|█████████▊| 98/100 [17:04<00:18,  9.43s/it]"
     ]
    },
    {
     "name": "stderr",
     "output_type": "stream",
     "text": [
      "\r",
      "running experiments:  99%|█████████▉| 99/100 [17:14<00:09,  9.40s/it]"
     ]
    },
    {
     "name": "stderr",
     "output_type": "stream",
     "text": [
      "\r",
      "running experiments: 100%|██████████| 100/100 [17:23<00:00,  9.50s/it]"
     ]
    },
    {
     "name": "stderr",
     "output_type": "stream",
     "text": [
      "\r",
      "running experiments: 100%|██████████| 100/100 [17:23<00:00, 10.44s/it]"
     ]
    },
    {
     "name": "stdout",
     "output_type": "stream",
     "text": [
      "CPU times: user 17min 22s, sys: 1.87 s, total: 17min 24s\n",
      "Wall time: 17min 23s\n"
     ]
    },
    {
     "name": "stderr",
     "output_type": "stream",
     "text": [
      "\n"
     ]
    }
   ],
   "source": [
    "%%time\n",
    "simulation.run_simulation(n_experiments, start_n, fit_params,shuffle_rows, pred_params, random_features, \\\n",
    "                          store_in_lists, save_eigenvector, save_hamiltonian, save_accuracy,\\\n",
    "                          save_models)\n",
    "if simulation.fourier_mode is not None:\n",
    "    simulation.fourier_dataframe.head(10)"
   ]
  },
  {
   "cell_type": "code",
   "execution_count": 24,
   "metadata": {
    "execution": {
     "iopub.execute_input": "2020-07-09T09:21:27.020629Z",
     "iopub.status.busy": "2020-07-09T09:21:27.020282Z",
     "iopub.status.idle": "2020-07-09T09:21:27.044490Z",
     "shell.execute_reply": "2020-07-09T09:21:27.044794Z"
    },
    "papermill": {
     "duration": 0.059979,
     "end_time": "2020-07-09T09:21:27.044859",
     "exception": false,
     "start_time": "2020-07-09T09:21:26.984880",
     "status": "completed"
    },
    "tags": []
   },
   "outputs": [
    {
     "data": {
      "text/html": [
       "<div>\n",
       "<style scoped>\n",
       "    .dataframe tbody tr th:only-of-type {\n",
       "        vertical-align: middle;\n",
       "    }\n",
       "\n",
       "    .dataframe tbody tr th {\n",
       "        vertical-align: top;\n",
       "    }\n",
       "\n",
       "    .dataframe thead th {\n",
       "        text-align: right;\n",
       "    }\n",
       "</style>\n",
       "<table border=\"1\" class=\"dataframe\">\n",
       "  <thead>\n",
       "    <tr style=\"text-align: right;\">\n",
       "      <th></th>\n",
       "      <th>id</th>\n",
       "      <th>path</th>\n",
       "      <th>t1</th>\n",
       "      <th>t2</th>\n",
       "      <th>winding</th>\n",
       "      <th>phase</th>\n",
       "      <th>pred_phase</th>\n",
       "      <th>type_of</th>\n",
       "      <th>feat0</th>\n",
       "      <th>feat1</th>\n",
       "      <th>...</th>\n",
       "      <th>feat90</th>\n",
       "      <th>feat91</th>\n",
       "      <th>feat92</th>\n",
       "      <th>feat93</th>\n",
       "      <th>feat94</th>\n",
       "      <th>feat95</th>\n",
       "      <th>feat96</th>\n",
       "      <th>feat97</th>\n",
       "      <th>feat98</th>\n",
       "      <th>feat99</th>\n",
       "    </tr>\n",
       "  </thead>\n",
       "  <tbody>\n",
       "    <tr>\n",
       "      <th>0</th>\n",
       "      <td>0</td>\n",
       "      <td>H_-2_-2_0.509296.dat</td>\n",
       "      <td>-2.0</td>\n",
       "      <td>-2.0</td>\n",
       "      <td>0.509296</td>\n",
       "      <td>999</td>\n",
       "      <td>666</td>\n",
       "      <td>test</td>\n",
       "      <td>0.100000</td>\n",
       "      <td>0.100000</td>\n",
       "      <td>...</td>\n",
       "      <td>0.100000</td>\n",
       "      <td>0.100000</td>\n",
       "      <td>0.100000</td>\n",
       "      <td>0.100000</td>\n",
       "      <td>0.100000</td>\n",
       "      <td>0.100000</td>\n",
       "      <td>0.100000</td>\n",
       "      <td>0.100000</td>\n",
       "      <td>0.100000</td>\n",
       "      <td>0.100000</td>\n",
       "    </tr>\n",
       "    <tr>\n",
       "      <th>1</th>\n",
       "      <td>0</td>\n",
       "      <td>H_-2_-2_0.509296.dat</td>\n",
       "      <td>-2.0</td>\n",
       "      <td>-2.0</td>\n",
       "      <td>0.509296</td>\n",
       "      <td>999</td>\n",
       "      <td>666</td>\n",
       "      <td>test</td>\n",
       "      <td>0.141421</td>\n",
       "      <td>0.141142</td>\n",
       "      <td>...</td>\n",
       "      <td>0.114412</td>\n",
       "      <td>0.108967</td>\n",
       "      <td>0.123928</td>\n",
       "      <td>0.119406</td>\n",
       "      <td>0.131490</td>\n",
       "      <td>0.127962</td>\n",
       "      <td>0.136978</td>\n",
       "      <td>0.134500</td>\n",
       "      <td>0.140306</td>\n",
       "      <td>0.138916</td>\n",
       "    </tr>\n",
       "    <tr>\n",
       "      <th>2</th>\n",
       "      <td>0</td>\n",
       "      <td>H_-2_-2_0.509296.dat</td>\n",
       "      <td>-2.0</td>\n",
       "      <td>-2.0</td>\n",
       "      <td>0.509296</td>\n",
       "      <td>999</td>\n",
       "      <td>666</td>\n",
       "      <td>test</td>\n",
       "      <td>0.141421</td>\n",
       "      <td>0.140306</td>\n",
       "      <td>...</td>\n",
       "      <td>0.043702</td>\n",
       "      <td>0.026500</td>\n",
       "      <td>0.075777</td>\n",
       "      <td>0.060214</td>\n",
       "      <td>0.103092</td>\n",
       "      <td>0.090145</td>\n",
       "      <td>0.123928</td>\n",
       "      <td>0.114412</td>\n",
       "      <td>0.136978</td>\n",
       "      <td>0.131490</td>\n",
       "    </tr>\n",
       "    <tr>\n",
       "      <th>3</th>\n",
       "      <td>0</td>\n",
       "      <td>H_-2_-2_0.509296.dat</td>\n",
       "      <td>-2.0</td>\n",
       "      <td>-2.0</td>\n",
       "      <td>0.509296</td>\n",
       "      <td>999</td>\n",
       "      <td>666</td>\n",
       "      <td>test</td>\n",
       "      <td>-0.100000</td>\n",
       "      <td>0.100000</td>\n",
       "      <td>...</td>\n",
       "      <td>-0.100000</td>\n",
       "      <td>0.100000</td>\n",
       "      <td>-0.100000</td>\n",
       "      <td>0.100000</td>\n",
       "      <td>-0.100000</td>\n",
       "      <td>0.100000</td>\n",
       "      <td>-0.100000</td>\n",
       "      <td>0.100000</td>\n",
       "      <td>-0.100000</td>\n",
       "      <td>0.100000</td>\n",
       "    </tr>\n",
       "    <tr>\n",
       "      <th>4</th>\n",
       "      <td>0</td>\n",
       "      <td>H_-2_-2_0.509296.dat</td>\n",
       "      <td>-2.0</td>\n",
       "      <td>-2.0</td>\n",
       "      <td>0.509296</td>\n",
       "      <td>999</td>\n",
       "      <td>666</td>\n",
       "      <td>test</td>\n",
       "      <td>0.000509</td>\n",
       "      <td>-0.008372</td>\n",
       "      <td>...</td>\n",
       "      <td>-0.082713</td>\n",
       "      <td>-0.089753</td>\n",
       "      <td>-0.067684</td>\n",
       "      <td>-0.075347</td>\n",
       "      <td>-0.051587</td>\n",
       "      <td>-0.059753</td>\n",
       "      <td>-0.034677</td>\n",
       "      <td>-0.043217</td>\n",
       "      <td>-0.017220</td>\n",
       "      <td>-0.026000</td>\n",
       "    </tr>\n",
       "    <tr>\n",
       "      <th>5</th>\n",
       "      <td>0</td>\n",
       "      <td>H_-2_-2_0.509296.dat</td>\n",
       "      <td>-2.0</td>\n",
       "      <td>-2.0</td>\n",
       "      <td>0.509296</td>\n",
       "      <td>999</td>\n",
       "      <td>666</td>\n",
       "      <td>test</td>\n",
       "      <td>0.001204</td>\n",
       "      <td>-0.016530</td>\n",
       "      <td>...</td>\n",
       "      <td>-0.134123</td>\n",
       "      <td>-0.138686</td>\n",
       "      <td>-0.118757</td>\n",
       "      <td>-0.127445</td>\n",
       "      <td>-0.095929</td>\n",
       "      <td>-0.108196</td>\n",
       "      <td>-0.067073</td>\n",
       "      <td>-0.082149</td>\n",
       "      <td>-0.034003</td>\n",
       "      <td>-0.050940</td>\n",
       "    </tr>\n",
       "    <tr>\n",
       "      <th>6</th>\n",
       "      <td>0</td>\n",
       "      <td>H_-2_-2_0.509296.dat</td>\n",
       "      <td>-2.0</td>\n",
       "      <td>-2.0</td>\n",
       "      <td>0.509296</td>\n",
       "      <td>999</td>\n",
       "      <td>666</td>\n",
       "      <td>test</td>\n",
       "      <td>-0.141421</td>\n",
       "      <td>-0.138980</td>\n",
       "      <td>...</td>\n",
       "      <td>0.043375</td>\n",
       "      <td>0.067830</td>\n",
       "      <td>-0.009222</td>\n",
       "      <td>0.017385</td>\n",
       "      <td>-0.060524</td>\n",
       "      <td>-0.035502</td>\n",
       "      <td>-0.103326</td>\n",
       "      <td>-0.083403</td>\n",
       "      <td>-0.131616</td>\n",
       "      <td>-0.119589</td>\n",
       "    </tr>\n",
       "    <tr>\n",
       "      <th>7</th>\n",
       "      <td>0</td>\n",
       "      <td>H_-2_-2_0.509296.dat</td>\n",
       "      <td>-2.0</td>\n",
       "      <td>-2.0</td>\n",
       "      <td>0.509296</td>\n",
       "      <td>999</td>\n",
       "      <td>666</td>\n",
       "      <td>test</td>\n",
       "      <td>-0.000826</td>\n",
       "      <td>0.025688</td>\n",
       "      <td>...</td>\n",
       "      <td>0.134753</td>\n",
       "      <td>0.124324</td>\n",
       "      <td>0.141088</td>\n",
       "      <td>0.140407</td>\n",
       "      <td>0.127608</td>\n",
       "      <td>0.136771</td>\n",
       "      <td>0.096206</td>\n",
       "      <td>0.113925</td>\n",
       "      <td>0.051292</td>\n",
       "      <td>0.075079</td>\n",
       "    </tr>\n",
       "    <tr>\n",
       "      <th>8</th>\n",
       "      <td>0</td>\n",
       "      <td>H_-2_-2_0.509296.dat</td>\n",
       "      <td>-2.0</td>\n",
       "      <td>-2.0</td>\n",
       "      <td>0.509296</td>\n",
       "      <td>999</td>\n",
       "      <td>666</td>\n",
       "      <td>test</td>\n",
       "      <td>0.141417</td>\n",
       "      <td>0.136684</td>\n",
       "      <td>...</td>\n",
       "      <td>-0.115093</td>\n",
       "      <td>-0.131915</td>\n",
       "      <td>-0.061266</td>\n",
       "      <td>-0.091040</td>\n",
       "      <td>0.007717</td>\n",
       "      <td>-0.027643</td>\n",
       "      <td>0.074791</td>\n",
       "      <td>0.042592</td>\n",
       "      <td>0.123363</td>\n",
       "      <td>0.102291</td>\n",
       "    </tr>\n",
       "    <tr>\n",
       "      <th>9</th>\n",
       "      <td>0</td>\n",
       "      <td>H_-2_-2_0.509296.dat</td>\n",
       "      <td>-2.0</td>\n",
       "      <td>-2.0</td>\n",
       "      <td>0.509296</td>\n",
       "      <td>999</td>\n",
       "      <td>666</td>\n",
       "      <td>test</td>\n",
       "      <td>0.001302</td>\n",
       "      <td>0.036430</td>\n",
       "      <td>...</td>\n",
       "      <td>0.082068</td>\n",
       "      <td>0.050848</td>\n",
       "      <td>0.127402</td>\n",
       "      <td>0.108132</td>\n",
       "      <td>0.141218</td>\n",
       "      <td>0.138667</td>\n",
       "      <td>0.120099</td>\n",
       "      <td>0.134896</td>\n",
       "      <td>0.069268</td>\n",
       "      <td>0.097755</td>\n",
       "    </tr>\n",
       "  </tbody>\n",
       "</table>\n",
       "<p>10 rows × 108 columns</p>\n",
       "</div>"
      ],
      "text/plain": [
       "   id                  path   t1   t2   winding  phase  pred_phase type_of  \\\n",
       "0   0  H_-2_-2_0.509296.dat -2.0 -2.0  0.509296    999         666    test   \n",
       "1   0  H_-2_-2_0.509296.dat -2.0 -2.0  0.509296    999         666    test   \n",
       "2   0  H_-2_-2_0.509296.dat -2.0 -2.0  0.509296    999         666    test   \n",
       "3   0  H_-2_-2_0.509296.dat -2.0 -2.0  0.509296    999         666    test   \n",
       "4   0  H_-2_-2_0.509296.dat -2.0 -2.0  0.509296    999         666    test   \n",
       "5   0  H_-2_-2_0.509296.dat -2.0 -2.0  0.509296    999         666    test   \n",
       "6   0  H_-2_-2_0.509296.dat -2.0 -2.0  0.509296    999         666    test   \n",
       "7   0  H_-2_-2_0.509296.dat -2.0 -2.0  0.509296    999         666    test   \n",
       "8   0  H_-2_-2_0.509296.dat -2.0 -2.0  0.509296    999         666    test   \n",
       "9   0  H_-2_-2_0.509296.dat -2.0 -2.0  0.509296    999         666    test   \n",
       "\n",
       "      feat0     feat1  ...    feat90    feat91    feat92    feat93    feat94  \\\n",
       "0  0.100000  0.100000  ...  0.100000  0.100000  0.100000  0.100000  0.100000   \n",
       "1  0.141421  0.141142  ...  0.114412  0.108967  0.123928  0.119406  0.131490   \n",
       "2  0.141421  0.140306  ...  0.043702  0.026500  0.075777  0.060214  0.103092   \n",
       "3 -0.100000  0.100000  ... -0.100000  0.100000 -0.100000  0.100000 -0.100000   \n",
       "4  0.000509 -0.008372  ... -0.082713 -0.089753 -0.067684 -0.075347 -0.051587   \n",
       "5  0.001204 -0.016530  ... -0.134123 -0.138686 -0.118757 -0.127445 -0.095929   \n",
       "6 -0.141421 -0.138980  ...  0.043375  0.067830 -0.009222  0.017385 -0.060524   \n",
       "7 -0.000826  0.025688  ...  0.134753  0.124324  0.141088  0.140407  0.127608   \n",
       "8  0.141417  0.136684  ... -0.115093 -0.131915 -0.061266 -0.091040  0.007717   \n",
       "9  0.001302  0.036430  ...  0.082068  0.050848  0.127402  0.108132  0.141218   \n",
       "\n",
       "     feat95    feat96    feat97    feat98    feat99  \n",
       "0  0.100000  0.100000  0.100000  0.100000  0.100000  \n",
       "1  0.127962  0.136978  0.134500  0.140306  0.138916  \n",
       "2  0.090145  0.123928  0.114412  0.136978  0.131490  \n",
       "3  0.100000 -0.100000  0.100000 -0.100000  0.100000  \n",
       "4 -0.059753 -0.034677 -0.043217 -0.017220 -0.026000  \n",
       "5 -0.108196 -0.067073 -0.082149 -0.034003 -0.050940  \n",
       "6 -0.035502 -0.103326 -0.083403 -0.131616 -0.119589  \n",
       "7  0.136771  0.096206  0.113925  0.051292  0.075079  \n",
       "8 -0.027643  0.074791  0.042592  0.123363  0.102291  \n",
       "9  0.138667  0.120099  0.134896  0.069268  0.097755  \n",
       "\n",
       "[10 rows x 108 columns]"
      ]
     },
     "execution_count": 24,
     "metadata": {},
     "output_type": "execute_result"
    }
   ],
   "source": [
    "simulation.dataframe.head(10)"
   ]
  },
  {
   "cell_type": "markdown",
   "metadata": {
    "papermill": {
     "duration": 0.034078,
     "end_time": "2020-07-09T09:21:27.113599",
     "exception": false,
     "start_time": "2020-07-09T09:21:27.079521",
     "status": "completed"
    },
    "tags": []
   },
   "source": [
    "#### Viewing a random sample"
   ]
  },
  {
   "cell_type": "code",
   "execution_count": 25,
   "metadata": {
    "execution": {
     "iopub.execute_input": "2020-07-09T09:21:27.185561Z",
     "iopub.status.busy": "2020-07-09T09:21:27.184943Z",
     "iopub.status.idle": "2020-07-09T09:21:27.229821Z",
     "shell.execute_reply": "2020-07-09T09:21:27.229504Z"
    },
    "papermill": {
     "duration": 0.08161,
     "end_time": "2020-07-09T09:21:27.229872",
     "exception": false,
     "start_time": "2020-07-09T09:21:27.148262",
     "status": "completed"
    },
    "tags": []
   },
   "outputs": [
    {
     "name": "stdout",
     "output_type": "stream",
     "text": [
      "CPU times: user 34.9 ms, sys: 0 ns, total: 34.9 ms\n",
      "Wall time: 34.7 ms\n"
     ]
    }
   ],
   "source": [
    "%%time\n",
    "if simulation.fourier_mode is not None:\n",
    "    simulation.fourier_dataframe.sample(frac=0.1, replace=False)"
   ]
  },
  {
   "cell_type": "markdown",
   "metadata": {
    "papermill": {
     "duration": 0.034932,
     "end_time": "2020-07-09T09:21:27.300267",
     "exception": false,
     "start_time": "2020-07-09T09:21:27.265335",
     "status": "completed"
    },
    "tags": []
   },
   "source": [
    "#### Checking train/val/test splits again"
   ]
  },
  {
   "cell_type": "code",
   "execution_count": 26,
   "metadata": {
    "execution": {
     "iopub.execute_input": "2020-07-09T09:21:27.371498Z",
     "iopub.status.busy": "2020-07-09T09:21:27.371175Z",
     "iopub.status.idle": "2020-07-09T09:21:27.550576Z",
     "shell.execute_reply": "2020-07-09T09:21:27.550830Z"
    },
    "papermill": {
     "duration": 0.215977,
     "end_time": "2020-07-09T09:21:27.550898",
     "exception": false,
     "start_time": "2020-07-09T09:21:27.334921",
     "status": "completed"
    },
    "tags": []
   },
   "outputs": [
    {
     "name": "stdout",
     "output_type": "stream",
     "text": [
      "% train:  0.08474317939338516\n",
      "% val:  0.7620789513793629\n",
      "% test:  0.15317786922725193\n",
      "% train + val + test:  1.0\n",
      "\n",
      "\n",
      "number of train hamiltonians:  556\n",
      "number of val hamiltonians:  5000\n",
      "number of test hamiltonians:  1005\n",
      "total number of hamiltonians:  6561\n",
      "\n",
      "\n",
      "train ids:  [3881, 4011, 2381, 4004, 5623, 3649, 3555, 6274, 5764, 2156, 2060, 2779, 3261, 526, 5872, 11, 4322, 5398, 1329, 1108, 6126, 1783, 3973, 2728, 5189, 2407, 5447, 5677, 5127, 363, 4081, 6485, 4821, 3718, 5896, 361, 2096, 3398, 1747, 3437, 2011, 2578, 1847, 174, 3101, 6247, 258, 5349, 3284, 2486, 1906, 4775, 6545, 5470, 2219, 3994, 5351, 3783, 3082, 634, 6268, 4944, 2909, 3283, 1295, 4739, 2301, 1767, 3336, 1853, 2314, 4374, 5178, 1925, 1791, 5215, 6010, 1620, 1831, 2915, 1317, 6490, 5753, 4397, 631, 3044, 3130, 5226, 2691, 1127, 2263, 3876, 4392, 5932, 5160, 368, 555, 2419, 2145, 6551, 2118, 4988, 4991, 1973, 2772, 6181, 1899, 2790, 5785, 6123, 4024, 1435, 3108, 2603, 1422, 2568, 20, 129, 6531, 5935, 2167, 1458, 2155, 806, 5625, 4214, 3157, 448, 1242, 626, 5159, 6101, 5507, 1817, 4115, 5716, 5257, 284, 2041, 5686, 2518, 4146, 5690, 2202, 1101, 2425, 2595, 3519, 524, 3396, 354, 3080, 2349, 3299, 1007, 5862, 1958, 2322, 1032, 3507, 271, 3684, 2153, 3016, 396, 2169, 1709, 1343, 365, 2451, 5318, 6407, 1503, 1100, 2411, 1728, 5474, 4763, 6009, 4256, 427, 2072, 4026, 3999, 6425, 5770, 55, 1365, 6260, 3770, 4473, 31, 1533, 6292, 2436, 1675, 1529, 2455, 3796, 5837, 4459, 1607, 2383, 3547, 3139, 5352, 4458, 3400, 6452, 603, 2853, 3330, 3473, 6163, 2330, 3359, 6382, 2265, 2681, 1614, 712, 5461, 5258, 1021, 2136, 1098, 3452, 4567, 1904, 3610, 6344, 1416, 786, 5769, 3151, 4215, 1572, 628, 4701, 1571, 1856, 1174, 47, 1670, 1845, 890, 5688, 6420, 4159, 3989, 2196, 2721, 2478, 2101, 4013, 5644, 5372, 4565, 3162, 5689, 4451, 141, 615, 120, 6259, 2584, 103, 6047, 4601, 4610, 472, 3137, 2434, 4538, 3944, 1177, 3347, 6031, 2437, 3245, 3517, 3728, 5930, 2750, 1821, 1731, 4884, 2469, 3902, 5358, 1912, 3013, 4599, 2061, 2433, 1138, 3029, 4219, 3521, 3173, 994, 4082, 4714, 916, 2252, 6213, 3607, 4863, 4933, 4857, 1896, 2359, 2656, 6252, 4983, 1075, 5430, 2604, 6045, 194, 2675, 2199, 4569, 2511, 762, 1961, 1320, 5709, 283, 1246, 505, 2545, 6033, 1253, 3316, 1330, 4572, 128, 1539, 4165, 2819, 3761, 2683, 2193, 3721, 5596, 6411, 3017, 6028, 208, 581, 2057, 3743, 154, 1534, 5550, 589, 1248, 2312, 1107, 3267, 6203, 5223, 5469, 2690, 1816, 1095, 32, 2493, 5111, 600, 5107, 4808, 4526, 2135, 2366, 5634, 4401, 909, 204, 3238, 5861, 1353, 3816, 1778, 1837, 5443, 5788, 1824, 6370, 3612, 3002, 5467, 1654, 1079, 4086, 667, 1111, 6367, 3091, 1428, 2601, 59, 2596, 2290, 2600, 2487, 847, 5776, 2648, 5975, 3084, 2137, 1857, 3426, 4032, 1526, 2270, 4248, 1136, 4621, 2224, 4773, 1825, 3512, 2922, 6173, 1537, 4381, 5222, 3577, 3053, 587, 4254, 2497, 1219, 5317, 2226, 2220, 2776, 4157, 4585, 5633, 1624, 6025, 316, 6270, 6406, 542, 4366, 2701, 3829, 6351, 6027, 3453, 4059, 754, 3150, 2773, 963, 706, 6193, 23, 2334, 4174, 4571, 4445, 3469, 1794, 6142, 41, 1549, 5137, 4232, 3270, 2921, 4177, 5530, 5518, 4699, 3825, 5914, 5933, 3413, 2175, 5054, 289, 4536, 3752, 5344, 3205, 6383, 1664, 6186, 1615, 4823, 5882, 2889, 2097, 1902, 5393, 664, 3528, 4654, 6361, 5198, 317, 1746, 1374, 4793, 2513, 39, 4303, 3088, 6056, 5718, 3814, 4176, 3331, 5465, 1606, 5282, 2399, 6374, 2388, 6196, 4068, 1102, 431, 2876, 4905, 4227, 6098, 5942, 3540, 6413, 298, 3346, 3694, 2569, 3919, 4574, 1347, 1677, 3509, 2488, 2536, 4084, 4378, 5719, 6468, 436, 3401, 3389, 1325, 1648]\n",
      "val ids:  [2527, 4193, 2937, 1842, 6403, 4544, 2969, 4376, 2223, 2477, 6372, 5510, 6243, 3931, 1402, 2090, 588, 1437, 6538, 1270, 4774, 3122, 2689, 5424, 4324, 3697, 4946, 3962, 1188, 1727, 776, 4527, 2146, 2791, 2777, 3975, 1006, 5703, 6113, 2150, 5938, 2614, 5350, 1907, 3206, 5955, 1979, 3357, 2503, 2269, 4144, 1372, 104, 5345, 3163, 2992, 2109, 1666, 1207, 2416, 4885, 4132, 2939, 3223, 529, 2845, 4627, 4685, 2699, 37, 3320, 1872, 4726, 1658, 4938, 1333, 1665, 5963, 1810, 1510, 4223, 4789, 2780, 3383, 1611, 4128, 3125, 6328, 2445, 2784, 4979, 5784, 4464, 5774, 1690, 4833, 3317, 6044, 1775, 6450, 5728, 6190, 2387, 764, 972, 2650, 5790, 1630, 2413, 2579, 4217, 1515, 1678, 1656, 5953, 2019, 4575, 3431, 4286, 3749, 3020, 803, 2514, 3907, 67, 4419, 3057, 4485, 948, 2116, 33, 5964, 205, 3143, 1380, 6119, 4847, 625, 4997, 1301, 4421, 2452, 5378, 4482, 3862, 3536, 6285, 3282, 5514, 3910, 292, 5613, 2473, 5139, 4352, 3410, 136, 1302, 4330, 851, 3390, 4910, 1338, 6112, 4871, 1905, 6089, 783, 4362, 1487, 3030, 6014, 533, 697, 4251, 4968, 1975, 1198, 2367, 2023, 2161, 6326, 680, 6463, 5710, 403, 5962, 4143, 4911, 5780, 6139, 1012, 2731, 4197, 3832, 3928, 5865, 4119, 4535, 3622, 3959, 5889, 1134, 1507, 1830, 5056, 1502, 3729, 383, 3644, 3372, 3481, 1241, 4353, 3511, 2465, 1877, 4904, 5620, 713, 4071, 2390, 2840, 5511, 4152, 4283, 1981, 703, 4142, 213, 4311, 5364, 5369, 2647, 862, 4190, 2832, 876, 4253, 1184, 4189, 1782, 761, 5945, 3979, 3725, 1619, 1699, 827, 6549, 950, 3136, 5515, 5183, 151, 4357, 282, 839, 2355, 3038, 1823, 3134, 3544, 1037, 4425, 5308, 4319, 4038, 4689, 3216, 2609, 2190, 4304, 290, 5881, 1622, 5590, 3660, 4361, 5463, 3722, 2928, 755, 2037, 702, 5888, 4211, 3295, 1298, 932, 444, 4875, 373, 2865, 4903, 5789, 3776, 2221, 2966, 6211, 2558, 1411, 3335, 1532, 3895, 503, 6346, 4528, 3799, 5484, 70, 1185, 3354, 4869, 3204, 515, 4700, 2961, 2163, 58, 355, 1449, 3135, 3830, 3085, 4932, 4205, 6534, 3291, 4237, 5642, 2712, 4683, 3887, 5390, 2327, 4025, 4209, 2877, 4532, 5217, 1412, 4494, 2372, 2402, 6191, 5014, 5873, 2230, 6516, 2632, 1154, 1732, 6130, 3695, 5426, 4377, 54, 2307, 5384, 5067, 3025, 1769, 5487, 6202, 2891, 4647, 1777, 2304, 387, 3393, 6046, 1676, 3394, 5791, 3432, 5050, 4281, 3024, 2124, 390, 4438, 673, 276, 6237, 2392, 4259, 1808, 5355, 837, 4866, 6248, 3363, 3504, 6086, 4952, 3941, 968, 3692, 2267, 4796, 2646, 3443, 2266, 3094, 2111, 5305, 203, 3766, 5765, 6096, 2896, 2528, 5549, 4655, 426, 5072, 1130, 1015, 5288, 6348, 4420, 1252, 6165, 2759, 1169, 3175, 6510, 1604, 377, 1202, 3255, 6303, 2074, 1868, 6536, 5112, 1162, 1834, 4992, 2771, 5042, 614, 922, 2660, 382, 1249, 4517, 2996, 6172, 5228, 3213, 2991, 6266, 4116, 30, 4973, 1626, 5232, 946, 4937, 4643, 4981, 1738, 1011, 4825, 704, 1793, 4233, 2988, 4468, 4022, 5960, 3611, 6018, 545, 5685, 4407, 930, 6289, 6513, 3841, 1484, 1501, 1404, 4123, 1660, 3114, 1166, 1287, 4771, 131, 5712, 4618, 15, 347, 5781, 3193, 1186, 3392, 5270, 993, 5071, 2115, 4363, 3355, 6188, 5078, 6103, 5485, 1631, 1864, 4048, 715, 1237, 3035, 5203, 3476, 4730, 4644, 5154, 1451, 5362, 3113, 2626, 217, 140, 3942, 1524, 1430, 2723, 1617, 360, 669, 2636, 97, 2203, 2530, 6199, 3741, 551, 5731, 2562, 2490, 1764, 2770, 6532, 3579, 6129, 1612, 4310, 3368, 265, 601, 1734, 1573, 2674, 139, 3106, 4872, 1994, 3349, 111, 3948, 1713, 5402, 2208, 3889, 4524, 5312, 5670, 5235, 3524, 2894, 4496, 5295, 3192, 2665, 6179, 1172, 3322, 4040, 3302, 4620, 3896, 5854, 175, 1951, 553, 4829, 1289, 944, 644, 3888, 5956, 2348, 3682, 4226, 6032, 3683, 671, 4887, 5221, 3518, 1192, 1493, 6290, 3732, 617, 748, 3467, 5923, 4966, 4057, 3334, 3262, 1771, 4077, 3870, 1985, 370, 856, 937, 4373, 1016, 1104, 3980, 4489, 4194, 4868, 2881, 2563, 3147, 6504, 5697, 1208, 3228, 5811, 2331, 156, 1613, 5931, 1848, 5810, 794, 2575, 4612, 2643, 3420, 1697, 3187, 2186, 2890, 3172, 460, 3161, 5612, 618, 223, 4467, 5293, 1244, 1703, 3847, 3449, 2797, 3755, 4969, 2724, 3932, 1323, 1250, 1684, 3779, 3259, 2345, 349, 1781, 454, 5480, 6431, 6258, 4624, 1110, 2995, 3405, 4738, 2962, 4241, 5404, 297, 4148, 1608, 4834, 3658, 1291, 694, 3048, 6362, 1116, 29, 4707, 5397, 3211, 6428, 2986, 5606, 4977, 1159, 1293, 598, 63, 2930, 4915, 1788, 773, 4782, 684, 6088, 222, 4499, 4628, 1214, 4867, 4483, 2555, 2287, 2804, 4278, 198, 459, 2927, 3558, 3500, 3638, 6502, 2973, 430, 5446, 4984, 2834, 125, 5570, 2154, 2088, 3602, 2442, 2692, 4539, 6525, 4588, 2519, 5037, 2506, 4202, 2250, 172, 5844, 1698, 6327, 2005, 5140, 1623, 301, 3601, 2350, 5674, 1931, 4728, 1017, 60, 394, 5376, 5366, 2727, 5023, 2616, 38, 49, 2592, 4541, 123, 2918, 2774, 4229, 5110, 1930, 2524, 4664, 541, 451, 4581, 1926, 2222, 6288, 3800, 2329, 6020, 999, 3666, 1481, 779, 5849, 1500, 3345, 6449, 4766, 4046, 606, 3764, 1522, 1213, 4270, 3332, 1737, 1243, 965, 3532, 376, 4907, 4614, 696, 3533, 4666, 1051, 6257, 2838, 1133, 1869, 5860, 4337, 5218, 4558, 6338, 675, 2567, 4462, 5180, 2217, 6297, 340, 1646, 3171, 4255, 380, 5926, 3263, 3325, 201, 4154, 5448, 1594, 548, 4813, 5079, 2117, 3599, 4576, 4715, 1092, 3146, 2391, 796, 3955, 3288, 1406, 3571, 1363, 3485, 2313, 1182, 5204, 3462, 1300, 2241, 530, 6015, 2363, 2945, 850, 3422, 3707, 3022, 1978, 2389, 2994, 805, 4329, 531, 2062, 1543, 5610, 2615, 2039, 6220, 4090, 5698, 6496, 6157, 2906, 2714, 4252, 5117, 5284, 4208, 6466, 1530, 5194, 2341, 2751, 4971, 6034, 3625, 27, 5156, 3023, 2333, 3488, 438, 5425, 4935, 2188, 3326, 2831, 4519, 4006, 3105, 3730, 5340, 2565, 5176, 3090, 1459, 686, 4617, 3281, 4651, 4765, 270, 6192, 2987, 2238, 369, 48, 868, 4379, 1663, 5427, 865, 5234, 5783, 4629, 1094, 3964, 1861, 5020, 2467, 3616, 5792, 3042, 1514, 2347, 1574, 1846, 5859, 2863, 6467, 2521, 4156, 843, 3978, 3483, 1442, 3378, 1669, 6039, 3438, 2067, 3767, 5386, 4696, 910, 2684, 5016, 5531, 3595, 3460, 2680, 3530, 3897, 2027, 2606, 6030, 483, 645, 2310, 3418, 5609, 676, 5589, 4457, 5049, 2165, 2054, 6514, 1603, 5887, 1216, 1173, 4487, 583, 4238, 5619, 5144, 5368, 1285, 557, 440, 2098, 3391, 6092, 4812, 1273, 4355, 1417, 1989, 419, 4497, 2818, 2453, 6135, 3250, 4051, 5700, 509, 3286, 6336, 5954, 3274, 3154, 5442, 2277, 2585, 3961, 4271, 6007, 1443, 5805, 5693, 2424, 3723, 2007, 2491, 4359, 5717, 3974, 3567, 476, 2151, 5395, 3598, 461, 5972, 757, 777, 5894, 4562, 3572, 2056, 1044, 3296, 6295, 3045, 2013, 3463, 2429, 1026, 6325, 3552, 5303, 4809, 1536, 5231, 4972, 2369, 3828, 6305, 5568, 967, 3708, 996, 5611, 3003, 4943, 4009, 4247, 4198, 5730, 3765, 5536, 4964, 2044, 6414, 5672, 3184, 4295, 1431, 3180, 3585, 200, 1742, 3001, 1976, 4298, 1264, 4106, 3497, 4030, 5754, 1948, 2613, 4786, 1467, 5150, 4387, 3581, 5883, 4743, 1822, 6387, 5545, 5184, 4145, 5878, 1763, 5756, 3164, 2036, 6329, 4687, 5155, 3967, 226, 6323, 2677, 4584, 5354, 3921, 2529, 3711, 5832, 3868, 2102, 552, 6171, 1350, 1812, 209, 6522, 873, 2207, 4285, 1598, 3632, 3060, 4446, 2176, 3655, 5052, 3614, 2374, 1547, 4552, 2182, 3894, 1752, 4172, 1811, 1757, 3221, 5684, 4622, 1036, 3478, 4846, 3388, 3539, 281, 2678, 5867, 766, 3993, 4036, 279, 1695, 2409, 2544, 990, 5866, 599, 4491, 2042, 4079, 3669, 3812, 2639, 687, 5516, 2191, 1733, 2548, 6055, 3160, 286, 6337, 2140, 3744, 3559, 5858, 4731, 6197, 501, 3939, 5261, 2581, 3890, 5125, 6332, 2839, 3575, 2158, 6042, 1261, 5123, 6115, 6090, 3678, 3005, 3733, 4781, 1828, 602, 518, 2431, 5965, 691, 2086, 3246, 4692, 1795, 2932, 2472, 5835, 4186, 3065, 3303, 310, 75, 2887, 3763, 352, 1197, 2589, 5779, 6004, 1205, 2012, 973, 2979, 2510, 2070, 2305, 4035, 1486, 5343, 710, 5481, 2755, 3621, 2836, 1576, 2935, 4776, 6405, 5897, 4564, 665, 1357, 1563, 3495, 1072, 4041, 563, 1995, 4033, 928, 5799, 3037, 6469, 539, 3356, 5029, 1770, 4898, 5796, 236, 5097, 2059, 337, 6352, 5227, 2300, 3124, 2152, 1645, 3510, 6052, 1692, 1263, 3079, 2475, 2077, 2033, 1762, 953, 564, 3278, 2810, 5687, 4817, 5885, 305, 4309, 4814, 4980, 4297, 135, 3066, 1031, 871, 4475, 866, 5190, 4746, 2807, 3165, 3871, 3365, 473, 1567, 864, 6550, 6455, 64, 4670, 3626, 2271, 5778, 891, 429, 3095, 3805, 2489, 71, 5316, 6087, 6304, 4636, 351, 4191, 2291, 5732, 877, 1023, 2119, 3966, 4577, 4657, 5382, 3839, 2860, 3337, 4015, 2633, 1336, 4282, 3229, 5957, 1453, 1083, 1910, 3219, 5723, 346, 6102, 2717, 3954, 3859, 3629, 4292, 5186, 1434, 919, 6358, 4780, 6339, 2762, 5122, 2628, 6355, 2004, 4822, 3232, 1260, 3129, 4384, 3898, 6041, 1292, 619, 5890, 2668, 3927, 5641, 5724, 2812, 4495, 4724, 3837, 232, 1909, 2676, 3377, 3836, 1050, 1944, 4945, 137, 4328, 3630, 4982, 432, 1765, 3439, 1735, 3940, 6140, 1960, 863, 2397, 3704, 4996, 3140, 2236, 1410, 3710, 1671, 1504, 1538, 1196, 3468, 3215, 2747, 3576, 3102, 646, 5466, 4804, 6523, 3768, 4551, 5673, 1936, 3381, 3156, 6298, 4439, 682, 485, 3479, 613, 726, 2611, 5800, 5323, 1915, 4858, 2468, 1696, 6084, 6421, 3949, 4239, 1750, 2032, 4364, 1053, 1943, 5595, 3009, 4472, 3277, 6183, 3984, 101, 4222, 1577, 1897, 2679, 3618, 3121, 4171, 4456, 4908, 3492, 3218, 4276, 56, 678, 6182, 5869, 5098, 3677, 1447, 4886, 1704, 3624, 3843, 5512, 829, 750, 3587, 4284, 1137, 4797, 3087, 1505, 4974, 4877, 5460, 6037, 3455, 833, 6195, 389, 677, 372, 4976, 2841, 1383, 3785, 4900, 4542, 106, 5958, 4556, 435, 3726, 3152, 3603, 3641, 457, 2783, 1715, 4742, 3352, 3107, 4218, 853, 1593, 717, 6104, 3041, 3720, 6122, 5212, 3804, 5011, 3780, 3231, 4534, 1189, 4118, 2319, 2778, 5239, 2753, 2321, 5452, 6277, 4691, 1950, 2610, 3724, 3838, 4108, 2796, 5348, 3100, 5066, 4221, 6461, 943, 4694, 5365, 4826, 2551, 5915, 3717, 4662, 4795, 2936, 3747, 6223, 4848, 4318, 5220, 3434, 6261, 4139, 5478, 6484, 3793, 3886, 3118, 3716, 5618, 2035, 3922, 1027, 4294, 5943, 2272, 4220, 1035, 2642, 5057, 4718, 3306, 4820, 4897, 5562, 2147, 2637, 467, 5394, 969, 4275, 6011, 2965, 10, 5179, 2507, 2408, 5834, 2247, 66, 3028, 2861, 5517, 2885, 1892, 3327, 4470, 5479, 1033, 2554, 5554, 5569, 2739, 5342, 1215, 5047, 3673, 4122, 1983, 4749, 2582, 3142, 1736, 5711, 4522, 1492, 6365, 4669, 3628, 2597, 597, 2638, 1005, 3308, 6029, 3633, 184, 5149, 4235, 836, 5631, 607, 3071, 1187, 3865, 6128, 4293, 760, 5453, 2795, 4333, 1080, 1324, 2015, 4852, 2281, 3797, 1820, 5292, 4178, 3759, 3379, 306, 3968, 4370, 2403, 4437, 2754, 5387, 3461, 5103, 3821, 3226, 181, 5017, 747, 1542, 2811, 1748, 3285, 1349, 4708, 1998, 303, 554, 1455, 2194, 4302, 5814, 3592, 1916, 4087, 2422, 1171, 4632, 315, 3450, 1894, 3141, 6131, 2570, 4690, 4710, 1980, 5357, 4442, 6204, 1344, 2700, 2257, 5129, 5095, 2229, 3103, 3265, 991, 2538, 2326, 3190, 4105, 4052, 3957, 94, 274, 4325, 1497, 6043, 2120, 6445, 3269, 848, 6434, 6349, 1334, 2299, 3784, 4213, 4249, 375, 3275, 4476, 3923, 2014, 5563, 5798, 1585, 3498, 6267, 844, 4047, 6360, 6446, 4831, 3104, 610, 4134, 2006, 6109, 3472, 1786, 1269, 267, 2537, 3092, 2874, 262, 5940, 3402, 5135, 543, 3631, 40, 2494, 3535, 4305, 2671, 5632, 2655, 3687, 1362, 5592, 1332, 3661, 1541, 102, 4351, 1494, 2244, 6097, 5114, 1210, 5629, 302, 65, 674, 6134, 4733, 670, 2587, 4399, 1401, 2231, 1749, 1702, 1049, 4410, 4008, 2358, 2279, 6524, 5886, 5807, 683, 2073, 4798, 525, 92, 3668, 4891, 5766, 511, 6184, 1855, 4764, 1290, 3236, 3503, 3477, 1368, 1575, 5401, 4553, 45, 3899, 2661, 3735, 2858, 1863, 3177, 685, 2920, 5077, 2746, 699, 4001, 1858, 3011, 2430, 566, 5152, 77, 2654, 4686, 6111, 2726, 745, 6262, 446, 5322, 3659, 5192, 5435, 395, 2967, 3952, 1809, 5547, 3909, 3757, 1997, 4605, 849, 4107, 6201, 2901, 2893, 1565, 5379, 378, 1445, 4850, 4987, 5272, 4794, 1348, 556, 4243, 4913, 913, 3562, 4600, 5604, 4862, 5775, 2439, 107, 6533, 3093, 1499, 2463, 4963, 2370, 3271, 3027, 3096, 3751, 3734, 2168, 6264, 5951, 716, 6378, 3541, 5024, 5813, 629, 3819, 3861, 4716, 1294, 2594, 1753, 6156, 4124, 3531, 3386, 3762, 3239, 5946, 2526, 1578, 4557, 6340, 3777, 1991, 1356, 5314, 3508, 971, 3471, 2916, 5675, 941, 544, 861, 2025, 2342, 3312, 2907, 180, 5708, 4784, 3039, 3627, 845, 148, 187, 6216, 6385, 2361, 3307, 4368, 6099, 3758, 1485, 1714, 4630, 2730, 5721, 3514, 3639, 2866, 3313, 2178, 3499, 288, 4455, 1014, 4089, 311, 1286, 3640, 5260, 4326, 1408, 2760, 3012, 6384, 4607, 3943, 3174, 2255, 1345, 4452, 1913, 3652, 1464, 3287, 2415, 6548, 99, 2693, 3212, 2850, 3169, 5884, 1768, 4993, 6521, 93, 1908, 2620, 5504, 4985, 3254, 1375, 1977, 5069, 771, 3960, 1741, 1688, 5242, 5100, 532, 34, 1086, 1566, 5624, 2827, 6331, 1211, 464, 2847, 3792, 6107, 5567, 5076, 6419, 5968, 2749, 3578, 3214, 6359, 5944, 1860, 110, 5868, 5310, 3798, 2768, 269, 2910, 4975, 6483, 5321, 4095, 152, 2999, 2083, 714, 1581, 2177, 2356, 4396, 792, 1710, 2813, 4441, 6137, 195, 1427, 2902, 5208, 6537, 2621, 5074, 647, 3457, 211, 1103, 6105, 4537, 2264, 1413, 520, 2085, 5768, 3866, 5508, 724, 5238, 379, 1832, 2549, 3367, 5064, 6505, 6335, 6347, 3293, 5193, 700, 3182, 2806, 5444, 3186, 3972, 5755, 4702, 1827, 6016, 1456, 4899, 4477, 5803, 4450, 4356, 4130, 6497, 883, 3822, 5381, 3808, 5777, 3756, 1265, 4637, 5243, 2801, 2644, 790, 2055, 6263, 5702, 2337, 688, 5214, 1377, 3565, 3446, 5924, 6487, 4449, 2782, 3620, 4288, 1927, 2685, 889, 3126, 527, 2058, 4097, 2697, 442, 787, 5271, 126, 6388, 4970, 2602, 964, 285, 867, 5396, 4598, 6194, 1789, 1922, 6255, 2351, 3451, 3197, 1755, 2339, 1450, 2034, 3081, 6341, 4188, 1766, 6429, 3015, 4606, 4506, 4684, 3904, 3953, 3995, 21, 508, 3858, 4864, 3739, 5141, 1890, 3049, 231, 4034, 3769, 259, 173, 1518, 4663, 4791, 3824, 5786, 3276, 4147, 145, 5979, 3203, 3709, 5434, 689, 513, 5032, 1191, 2672, 6543, 6422, 6415, 5973, 2450, 1125, 309, 1267, 832, 2444, 2076, 1934, 2663, 157, 4170, 1879, 1796, 3789, 5729, 465, 1303, 2553, 5099, 4138, 1865, 4064, 6506, 4260, 6444, 3423, 1929, 4914, 4300, 3883, 3243, 62, 2172, 5477, 2426, 2043, 22, 5637, 690, 5383, 393, 1355, 2794, 1923, 4616, 3251, 6499, 5010, 5374, 2428, 4404, 1436, 3976, 4934, 4525, 5068, 26, 1592, 2181, 611, 4752, 124, 2464, 3946, 2205, 5262, 2087, 6408, 4112, 2516, 3099, 3983, 3574, 108, 528, 6518, 4091, 3815, 3623, 5802, 2517, 1508, 4175, 4954, 5970, 3945, 3196, 1400, 1009, 2900, 2505, 2879, 4336, 1180, 350, 5055, 4613, 5974, 6253, 6343, 6356, 5713, 3992, 3482, 3550, 1236, 1844, 6167, 3411, 5996, 5546, 521, 278, 1596, 4343, 869, 3119, 3820, 2978, 506, 3242, 3597, 4533, 5019, 206, 5967, 1829, 2232, 5880, 3809, 362, 2888, 2454, 2278, 2112, 3414, 2173, 6412, 5449, 775, 3534, 5752, 312, 4056, 3329, 3646, 2149, 4876, 4415, 186, 6547, 2718, 4416, 3353, 5269, 4768, 2715, 949, 3264, 2947, 1843, 6217, 4096, 3059, 3831, 4649, 2666, 1128, 663, 5773, 343, 5551, 3370, 4045, 5506, 4555, 4818, 3319, 4196, 433, 6465, 2316, 2496, 4851, 4883, 2371, 3637, 2325, 2002, 5647, 4807, 2941, 3445, 3454, 4224, 6058, 5863, 2892, 1163, 2010, 2092, 229, 2479, 4093, 2826, 2564, 3737, 2972, 1217, 4787, 2821, 2980, 4049, 5048, 260, 6170, 5597, 2702, 4568, 5959, 2273, 1935, 4273, 1056, 5300, 3893, 3323, 3083, 3635, 3869, 2848, 2856, 4889, 3664, 4950, 221, 1937, 2634, 5628, 4114, 3292, 4212, 5319, 4802, 4523, 5566, 5648, 5856, 421, 752, 6373, 4179, 6451, 3525, 5388, 5614, 4158, 1784, 4545, 4216, 1584, 6205, 1587, 1322, 5043, 2710, 2470, 4382, 3127, 5691, 4039, 6503, 788, 4028, 4058, 5429, 4845, 1099, 2765, 341, 3736, 5669, 2781, 874, 2953, 4405, 534, 6189, 637, 4162, 2722, 1956, 4029, 210, 425, 1429, 5847, 1772, 458, 3188, 1711, 915, 113, 1195, 5543, 1167, 1203, 392, 2552, 1297, 3982, 3493, 2820, 1444, 1568, 2577, 4958, 5539, 5363, 2482, 6224, 1490, 5267, 2353, 4010, 5113, 4471, 2873, 3566, 3651, 3097, 2029, 537, 3911, 4341, 6511, 6454, 3813, 1583, 4067, 4860, 3435, 4460, 2423, 4484, 708, 2938, 3860, 1662, 255, 4816, 538, 4493, 2108, 4166, 2974, 3433, 1055, 2989, 3619, 5630, 1160, 2308, 4893, 2574, 2259, 3429, 3538, 5934, 6345, 1176, 4434, 2031, 4779, 115, 4044, 2414, 3036, 1254, 190, 4409, 3052, 6279, 1415, 6354, 2619, 3553, 5211, 4120, 5537, 1161, 6269, 3222, 2038, 6174, 1352, 2040, 3584, 2143, 3076, 6083, 1034, 2738, 3545, 1156, 6021, 4258, 3415, 4962, 2919, 5445, 6278, 1424, 1946, 5646, 1993, 3702, 4695, 1996, 3210, 3506, 707, 795, 3801, 3748, 3671, 5291, 4136, 4070, 2997, 1421, 3459, 2427, 5259, 3006, 523, 4210, 2959, 2798, 6494, 6357, 1988, 1835, 6376, 2410, 2608, 2576, 5205, 3342, 1657, 1974, 2814, 2883, 1489, 1672, 6432, 2957, 1701, 1525, 5265, 1239, 2360, 5377, 507, 2141, 781, 4306, 1668, 1932, 1378, 6125, 2557, 4365, 4031, 4626, 277, 6306, 5385, 6299, 2599, 4360, 4135, 4737, 5436, 4412, 1114, 5627, 2868, 3546, 582, 2658, 1457, 855, 2144, 4323, 3958, 1326, 3098, 2362, 3227, 2612, 257, 772, 5671, 6176, 2948, 1797, 474, 2030, 2905, 146, 3062, 219, 3343, 3117, 2512, 1030, 3549, 2843, 2809, 4901, 2911, 6296, 5767, 5714, 6517, 751, 2179, 2432, 5556, 3328, 308, 3988, 1179, 1659, 4066, 3395, 2417, 3144, 2711, 1001, 6377, 3842, 4772, 418, 2384, 3926, 2441, 5853, 4402, 2114, 3703, 4767, 5544, 4744, 356, 5651, 3155, 1096, 5053, 4246, 4704, 468, 4778, 746, 6012, 6200, 4291, 5464, 3110, 3436, 3915, 2139, 5030, 2245, 6416, 5916, 178, 3810, 778, 4301, 6301, 4909, 4650, 2949, 1674, 4155, 3615, 5949, 6500, 2775, 3217, 5476, 938, 6519, 9, 5392, 3297, 4688, 4635, 2846, 1819, 5555, 1268, 3235, 3807, 681, 2981, 1878, 3321, 3266, 3272, 2123, 2955, 5423, 6489, 791, 6091, 3237, 512, 936, 3845, 6529, 2641, 954, 6085, 2629, 4529, 519, 5304, 6418, 6426, 4299, 3380, 5692, 3848, 2917, 3656, 5299, 1876, 6433, 3834, 3364, 2985, 6363, 294, 3406, 188, 1371, 2649, 5976, 2792, 5483, 535, 4274, 13, 1818, 2286, 4989, 3573, 1385, 2318, 2246, 5540, 1277, 2651, 3901, 3977, 4440, 2744, 2121, 4912, 3168, 3183, 3826, 1854, 2695, 2862, 2984, 2016, 2546, 3031, 2535, 3891, 3970, 584, 2561, 4705, 1790, 2253, 1448, 3201, 1523, 1535, 2580, 3408, 275, 3924, 5182, 5683, 5638, 1758, 1483, 179, 5948, 4578, 4065, 3665, 2735, 5961, 3111, 2627, 6059, 5027, 2280, 272, 5701, 5855, 6054, 4955, 127, 4088, 4811, 3502, 3794, 5108, 4367, 3570, 4394, 5380, 4750, 3019, 995, 4490, 5371, 6106, 233, 4668, 998, 3490, 2502, 4050, 4447, 2912, 1002, 196, 3385, 2404, 5285, 4486, 6495, 3376, 917, 4372, 6282, 3176, 6409, 5553, 4398, 3981, 5276, 5594, 1814, 6488, 6435, 3247, 6324, 1043, 3580, 2261, 666, 3496, 3951, 5695, 5725, 2764, 5034, 2520, 1204, 2573, 4609, 852, 3523, 6124, 6166, 5645, 1262, 74, 119, 3833, 4631, 2933, 3427, 3698, 4393, 5608, 68, 6207, 2857, 2971, 1089, 4113, 5015, 4994, 2157, 4648, 4245, 3112, 5266, 5877, 931, 2447, 1911, 1682, 5936, 2659, 4111, 2438, 4151, 758, 484, 749, 6371, 6456, 3191, 6273, 3128, 4417, 3010, 2110, 4653, 2258, 1992, 4204, 2956, 4770, 3667, 5356, 609, 280, 5422, 3753, 926, 4603, 2227, 2618, 923, 2964, 5315, 6077, 2500, 3568, 5538, 547, 3548, 1550, 6048, 3803, 116, 920, 5158, 4500, 1687, 2446, 5542, 3965, 96, 3138, 1209, 422, 1074, 3253, 52, 1124, 4849, 5264, 348, 4623, 5607, 5367, 105, 947, 6424, 5375, 1511, 918, 1516, 5462, 5541, 2003, 4121, 4967, 789, 3072, 2983, 2309, 6244, 1238, 929, 6168, 3998, 6215, 5302, 3339, 970, 1491, 4012, 2066, 4790, 1544, 4642, 3207, 4230, 5399, 3026, 307, 6024, 1175, 4257, 3686, 2531, 1962, 2289, 3301, 888, 6169, 6280, 1376, 1591, 4014, 3315, 1296, 5875, 2924, 3158, 759, 5116, 510, 1078, 44, 5059, 591, 2571, 5106, 6246, 1498, 1917, 6438, 793, 5929, 1038, 1367, 830, 1528, 4888, 4317, 5699, 2852, 134, 1414, 5051, 5060, 1862, 388, 1194, 957, 2335, 4633, 1020, 5294, 1488, 5649, 14, 5806, 797, 2405, 5206, 447, 386, 2256, 3505, 1452, 3234, 455, 381, 2829, 6353, 2822, 585, 1288, 2398, 3311, 5151, 1318, 1939, 955, 1597, 3273, 4371, 6245, 6515, 5373, 4723, 3412, 3185, 2617, 522, 608, 4792, 3341, 622, 5195, 4414, 2159, 1867, 4582, 4855, 185, 2485, 1901, 3046, 1132, 5454, 423, 5134, 5558, 875, 5475, 3149, 5895, 672, 3515, 1155, 6386, 6530, 3582, 4646, 4783, 763, 3594, 2926, 1495, 1546, 4244, 428, 2835, 235, 4016, 3333, 4060, 2934, 621, 2239, 95, 6049, 1183, 1245, 2406, 1628, 6180, 6526, 4007, 1744, 1433, 4942, 2082, 3199, 342, 3063, 6528, 1046, 5370, 2105, 3653, 627, 5177, 2534, 5892, 2898, 4583, 3428, 5185, 1893, 586, 5893, 4717, 1131, 1787, 147, 6019, 3043, 6275, 5771, 774, 453, 2950, 4693, 6036, 4287, 4117, 4734, 2703, 2833, 1987, 17, 5997, 6430, 2793, 73, 3305, 4805, 4492, 4505, 2075, 6284, 3486, 434, 3878, 3990, 3642, 143, 5565, 6050, 3290, 3064, 5626, 1870, 3448, 1335, 6141, 914, 1647, 2148, 1097, 4236, 2311, 4228, 69, 1271, 3310, 155, 4930, 1651, 91, 3879, 1048, 76, 1517, 4207, 1673, 4947, 1506, 1346, 2878, 6535, 1466, 3908, 2825, 4741, 1259, 218, 3382, 3586, 3857, 5263, 1609, 1632, 1168, 4250, 1874, 4338, 3298, 6120, 769, 4659, 3875, 630, 2064, 1527, 2498, 450, 2842, 3844, 3719, 5605, 3634, 3934, 1589, 3047, 1953, 4878, 5130, 424, 4895, 3705, 5058, 1112, 6540, 6110, 3000, 5431, 4516, 6040, 550, 3314, 4769, 5146, 117, 1582, 5241, 3421, 4327, 5044, 4990, 1088, 3369, 1255, 4882, 951, 6208, 2931, 2338, 1545, 1029, 2975, 6342, 3442, 5438, 860, 1859, 2336, 4478, 2963, 6457, 594, 668, 5704, 3914, 4386, 2456, 4313, 3007, 4307, 2243, 1580, 323, 6209, 1982, 3706, 5458, 3674, 3543, 3195, 2504, 5808, 177, 5815, 2550, 2682, 4054, 4810, 1655, 3835, 3740, 5118, 5347, 1595, 3123, 831, 2756, 1900, 4163, 1838, 5939, 5772, 2741, 4547, 2017, 3583, 4712, 6427, 2094, 3672, 6093, 6291, 2993, 5836, 956, 357, 4902, 514, 1087, 2386, 4953, 5131, 4424, 4706, 616, 3561, 2588, 5529, 5143, 3340, 2492, 2716, 1370, 3109, 4466, 3055, 1093, 643, 3557, 3014, 4269, 2867, 5532, 6380, 5175, 4461, 2556, 5346, 4611, 463, 133, 3456, 2481, 1407, 3851, 2572, 4279, 3133, 4948, 2709, 3643, 1276, 4931, 1972, 3912, 6334, 4037, 153, 2559, 767, 4667, 237, 3366, 4832, 4602, 5795, 4853, 2757, 202, 6218, 295, 2708, 2125, 5230, 3416, 391, 5622, 2828, 5621, 5157, 6008, 1405, 1685, 2225, 3591, 4587, 397, 3654, 5486, 2394, 339, 4634, 2008, 2352, 1588, 4272, 3791, 4125, 5290, 6254, 182, 5643, 4085, 5793, 1118, 1423, 2365, 3700, 5969, 2420, 2022, 5636, 4740, 502, 4308, 500, 2201, 6286, 1938, 5804, 3008, 4406, 6546, 1712, 1275, 2943, 3241, 2816, 592, 2823, 2164, 3560, 1022, 605, 4314, 3712, 2669, 6022, 4277, 5353, 2855, 6498, 3181, 1693, 4625, 3613, 4339, 3475, 1379, 3971, 924, 3778, 5018, 5324, 1460, 1190, 1933, 5063, 1341, 5022, 1621, 3294, 3021, 942, 2197, 1661, 3252, 3189, 3430, 3078, 3930, 2851, 2063, 5534, 118, 612, 5096, 2525, 3069, 4133, 5525, 225, 4141, 3906, 132, 2667, 1321, 3061, 1129, 3872, 6276, 296, 4312, 939, 6094, 5298, 4861, 5225, 6501, 4375, 4859, 25, 3465, 1579, 6448, 4520, 1625, 5617, 2976, 112, 692, 5202, 2844, 4358, 4005, 5941, 268, 516, 256, 3004, 6003, 5705, 3208, 5133, 2242, 6116, 1003, 1954, 4391, 5763, 4586, 2837, 2767, 2652, 2509, 3494, 6219, 5389, 359, 4335, 4150, 1924, 4061, 6302, 4436, 6118, 1952, 437, 5147, 5236, 5977, 6459, 1206, 215, 287, 1849, 2091, 4206, 2448, 2884, 3056, 2929, 313, 18, 3409, 4698, 6214, 374, 462, 4785, 3289, 2483, 6250, 4806, 3233, 5428, 149, 2248, 469, 3373, 3464, 1774, 1247, 5341, 4502, 4929, 6436, 228, 834, 6492, 6350, 6138, 1730, 5313, 4619, 2317, 4570, 4906, 3746, 2268, 5320, 3596, 2761, 4422, 3384, 5523, 2719, 1024, 4149, 1381, 1898, 24, 3605, 1871, 3417, 4331, 1358, 3738, 441, 144, 5870, 6210, 5268, 5196, 6187, 5891, 1013, 807, 5297, 5812, 4411, 3466, 5101, 3877, 5301, 2808, 4729, 2187, 3903, 2982, 2113, 4939, 4498, 4665, 183, 1319, 5153, 6035, 4168, 2476, 5952, 2251, 35, 3447, 3905, 2171, 3425, 2328, 3650, 2303, 1004, 4092, 3693, 1272, 4055, 5432, 5706, 230, 2607, 5229, 2274, 2547, 4870, 4703, 2233, 4104, 1590, 150, 3917, 4395, 5028, 911, 728, 604, 1740, 2532, 6458, 1165, 2395, 6369, 1756, 3663, 12, 3564, 4078, 130, 3403, 2184, 952, 3399, 1785, 5457, 966, 3419, 100, 1170, 1113, 6527, 5094, 466, 43, 2093, 4732, 2443, 1258, 5124, 1513, 3892, 2260, 2740, 2687, 5535, 5978, 872, 3351, 6265, 6017, 711, 1220, 6507, 1373, 3318, 838, 590, 4894, 1691, 709, 5456, 5848, 1773, 3916, 2501, 595, 456, 1610, 1891, 808, 5309, 3344, 2688, 4978, 2662, 3470, 1461, 5472, 857, 5273, 19, 4995, 1382, 2882, 1984, 3441, 1873, 4488, 2925, 4231, 2769, 3324, 5559, 4342, 3077, 6222, 2192, 2653, 452, 6051, 1403, 1940, 4390, 5237, 6333, 1019, 4504, 6462, 1010, 6076, 3873, 5307, 1616, 2474, 5275, 4083, 1354, 1178, 5676, 785, 4531, 2824, 3790, 1833, 3996, 2069, 6439, 3731, 633, 3209, 679, 2903, 5513, 4167, 3350, 2254, 2591, 4173, 5311, 1327, 912, 1941, 1779, 5405, 3662, 4023, 3685, 3688, 4069, 3884, 5971, 1193, 4827, 540, 1569, 4073, 3750, 3542, 4554, 4027, 2736, 4815, 338, 1109, 5046, 2635, 3338, 6493, 5561, 3132, 1446, 3501, 6100, 4187, 1653, 3170, 5707, 5136, 6108, 3715, 50, 1463, 2262, 1564, 2729, 2583, 3556, 5451, 3713, 4063, 4735, 4340, 2745, 5145, 5874, 841, 5851, 4824, 3374, 2598, 6038, 4261, 2742, 3593, 1667, 4388, 2440, 2998, 1283, 4725, 5650, 3775, 546, 1914, 4830, 367, 2508, 4874, 2368, 3647, 3754, 4463, 4803, 5751, 3991, 1115, 5207, 3491, 3513, 353, 3358, 1438, 3424, 5937, 3589, 1548, 1212, 4892, 4127, 4608, 1986, 5142, 3648, 6272, 705, 192, 2306, 5286, 3863, 784, 4951, 46, 2743, 3387, 2733, 114, 1694, 3852, 2170, 2664, 345, 3900, 3727, 2357, 2515, 4518, 109, 3817, 2864, 2817, 4109, 5400, 1729, 4225, 6057, 4661, 4053, 1708, 300, 121, 1949, 3240, 291, 4334, 536, 4856, 5092, 5126, 6133, 940, 6544, 2346, 1084, 2499, 207, 5274, 4408, 2343, 4638, 193, 3054, 1384, 2449, 4563, 1158, 636, 4076, 4819, 5073, 5240, 3849, 4296, 2914, 4957, 4566, 371, 261, 5845, 2605, 3657, 5437, 1181, 3230, 4890, 698, 2180, 620, 4454, 1278, 2484, 61, 5552, 3279, 1776, 4896, 2065, 3701, 4137, 933, 4126, 5033, 2275, 1077, 4550, 6185, 2803, 4615, 1866, 1117, 4435, 6136, 4110, 935, 4203, 6013, 3918, 727, 2944, 2209, 1945, 3260, 624, 4062, 4200, 549, 2875, 1836, 2970, 6330, 2590, 6541, 2799, 4941, 5913, 5161, 2886, 1122, 2899, 5505, 2854, 1266, 5391, 3404, 4140, 5726, 2815, 1942, 6005, 1085, 3074, 6423, 2218, 6251, 2913, 2276, 1282, 1369, 2752, 1047, 2315, 945, 1875, 1602, 6491, 2385, 1045, 5833, 1425, 1399, 16, 2686, 1076, 2673, 3786, 2364, 2872, 854, 5557, 28, 5455, 1465, 4645, 2206, 6121, 1627, 992, 1432, 5132, 5757, 1851, 199, 4290, 885, 1852, 4474, 565, 6026, 443, 3178, 4748, 1743, 2200, 2373, 2198, 5843, 4443, 6375, 4681, 2024, 1123, 4195, 5533, 191, 2084, 4042, 1106, 6287, 4169, 934, 4094, 1091, 5857, 6437, 1164, 5947, 1815, 449, 4543, 3913, 5070, 4540, 6520, 3068, 5459, 1649, 2968, 2418, 4940, 2732, 997, 1683, 6006, 842, 2859, 701, 2095, 3795, 1850, 2698, 3818, 42, 358, 4736, 5864, 1605, 5524, 1955, 4579, 4199, 5450, 2923, 3487, 3397, 3850, 1959, 2713, 887, 2471, 3522, 5548, 5720, 445, 1957, 304, 840, 1826, 5995, 1652, 4658, 884, 2100, 1126, 5433, 4153, 6221, 4548, 3787, 6117, 2249, 3699, 828, 3569, 266, 4234, 4423, 4573, 385, 6410, 1780, 6256, 1745, 6283, 2099, 859, 1364, 1895, 5025, 3997, 3032, 1689, 4201, 336, 3166, 4164, 2954, 3348, 3153, 1256, 4315, 4316, 1331, 1629, 635, 5191, 224, 3675, 234, 3304, 695, 723, 293, 5846, 623, 4453, 4383, 2734, 2533, 3089, 3636, 693, 176, 5782, 4956, 5876, 1008, 4936, 6366, 5482, 6486, 122, 517, 3827, 5104, 2204, 6453, 2332, 5213, 3985, 5287, 3086, 2396, 2958, 3696, 5787, 5635, 2785, 214, 2288, 1135, 5093, 2694, 4465, 4949, 3225, 2830, 2106, 596, 2142, 3645, 4697, 3874, 1342, 5640, 4043, 1251, 1351, 4656, 2028, 1409, 2940, 3075, 3375, 5278, 6542, 2942, 2234, 3882, 6132, 4928, 3484, 3145, 4503, 5727, 2068, 5038, 1586, 3956, 3179, 5012, 3489, 5473, 1903, 227, 1339, 3018, 5522, 4986, 753, 1705, 6212, 6512, 5927, 212, 927, 6300, 1157, 5715, 5587, 6379, 1042, 3159, 6127, 3480, 263, 6023, 2020, 2285, 1990, 3963, 6460, 2990, 2103, 3563, 804, 5994, 1028, 2021, 6271, 3257, 6417, 4713, 420, 3588, 5928, 5850, 6441, 1274, 3788, 366, 3781, 2748, 2763, 5102, 3590, 2344, 2802, 4682, 3249, 384, 138, 5062, 5488, 2018, 3714, 2185, 5045, 4002, 4660, 1025, 1054, 36, 4385, 4580, 4751, 3950, 2009, 5283, 3679, 3782, 3167, 2282, 5406, 1105, 3258, 6381, 5593, 3361, 2495, 344, 5013, 4865, 3148, 5210, 6364, 3811, 5801, 3516, 1570, 4788, 3867, 2466, 5809, 3224, 5468, 2354, 4873, 5216, 2401, 4369, 858, 5128, 5528, 3202, 3115, 1928, 3248, 3670, 1686, 57, 809, 2382, 1706, 470, 5224, 3131, 1482, 2737, 5966, 4129, 2522, 4332, 925, 6509, 3067, 2284, 6095, 1081, 4604, 3806, 1751, 2071, 1018, 5917, 3474, 3880, 51, 4289, 4854, 4161, 6177, 3529, 3554, 5950, 3745, 5026, 1650, 3604, 2631, 4747, 1540, 1419, 3309, 5075, 2126, 4722, 4242, 2089, 5219, 6443, 2340, 2104, 2195, 3864, 5564, 1299, 4546, 3681, 1618, 5036, 4709, 5591, 5639, 6294, 4003, 2412, 3058, 5603, 756, 439, 6464, 5181, 5109, 4280, 299, 1918, 4521, 5694, 6053, 6114, 1328, 1090, 2805, 189, 5115, 3194, 4192, 2421, 254, 5588, 3371, 3220, 5138, 5852, 6293, 3986, 5209, 364, 5616, 870, 1531, 2593, 4745, 5879, 1337, 4828, 1509, 197, 4321, 4131, 1073, 2897, 1726, 3051, 2630, 404, 3823, 4501, 1257, 2908, 6442, 4380, 2725, 3606, 2645, 4652, 6206, 6198, 216, 5065, 4469, 1462, 4448, 1082, 2183, 1284, 2946, 477, 3617, 4418, 2078, 3885, 4403, 3947, 5527, 4413, 2586, 2904, 5148, 5031, 2228, 2283, 5615, 98, 6440, 3268, 835, 6175, 3933, 475, 3300, 2122, 1512, 6281, 1218, 3969, 886, 264, 1240, 4072, 921, 770, 3256, 1947, 2302, 6447, 2393, 5021, 4777, 4711, 1052, 6178, 6075, 2107, 6368, 6539, 4389, 2237, 6508, 3846, 5733, 2849, 1813, 4444, 2189, 5188, 4354, 471, 2235, 3802, 2566, 5306, 4530, 3987, 6404, 5035, 2138, 1468, 1739, 2657, 273, 3742, 3551, 314, 5233, 5187, 2895, 3073, 5277, 1707, 1754, 2174, 53, 3537, 5296, 5560, 5061, 725, 5509, 2026, 2162, 5289, 142, 5197, 3929, 593, 4075, 1418, 1340, 780, 2766, 1454, 5105, 1366, 2977, 782, 5696, 1496, 2696, 4074, 846, 5403, 1426, 2523, 5794, 2323, 4727, 2166, 4965, 2435, 1420, 2324, 6060, 6164, 504, 72, 4549, 3458, 5797, 2758, 3244, 1792, 1000, 2670, 3070, 3925, 220, 768, 1700, 3050, 5722, 5471, 5526, 5871, 5925, 632, 6249, 3407, 3676, 765]\n",
      "test ids:  [0, 1, 2, 3, 4, 5, 6, 7, 8, 78, 79, 80, 81, 82, 83, 84, 85, 86, 87, 88, 89, 90, 158, 159, 160, 161, 162, 163, 164, 165, 166, 167, 168, 169, 170, 171, 238, 239, 240, 241, 242, 243, 244, 245, 246, 247, 248, 249, 250, 251, 252, 253, 318, 319, 320, 321, 322, 324, 325, 326, 327, 328, 329, 330, 331, 332, 333, 334, 335, 398, 399, 400, 401, 402, 405, 406, 407, 408, 409, 410, 411, 412, 413, 414, 415, 416, 417, 478, 479, 480, 481, 482, 486, 487, 488, 489, 490, 491, 492, 493, 494, 495, 496, 497, 498, 499, 558, 559, 560, 561, 562, 567, 568, 569, 570, 571, 572, 573, 574, 575, 576, 577, 578, 579, 580, 638, 639, 640, 641, 642, 648, 649, 650, 651, 652, 653, 654, 655, 656, 657, 658, 659, 660, 661, 662, 718, 719, 720, 721, 722, 729, 730, 731, 732, 733, 734, 735, 736, 737, 738, 739, 740, 741, 742, 743, 744, 798, 799, 800, 801, 802, 810, 811, 812, 813, 814, 815, 816, 817, 818, 819, 820, 821, 822, 823, 824, 825, 826, 878, 879, 880, 881, 882, 892, 893, 894, 895, 896, 897, 898, 899, 900, 901, 902, 903, 904, 905, 906, 907, 908, 958, 959, 960, 961, 962, 974, 975, 976, 977, 978, 979, 980, 981, 982, 983, 984, 985, 986, 987, 988, 989, 1039, 1040, 1041, 1057, 1058, 1059, 1060, 1061, 1062, 1063, 1064, 1065, 1066, 1067, 1068, 1069, 1070, 1071, 1119, 1120, 1121, 1139, 1140, 1141, 1142, 1143, 1144, 1145, 1146, 1147, 1148, 1149, 1150, 1151, 1152, 1153, 1199, 1200, 1201, 1221, 1222, 1223, 1224, 1225, 1226, 1227, 1228, 1229, 1230, 1231, 1232, 1233, 1234, 1235, 1279, 1280, 1281, 1304, 1305, 1306, 1307, 1308, 1309, 1310, 1311, 1312, 1313, 1314, 1315, 1316, 1359, 1360, 1361, 1386, 1387, 1388, 1389, 1390, 1391, 1392, 1393, 1394, 1395, 1396, 1397, 1398, 1439, 1440, 1441, 1469, 1470, 1471, 1472, 1473, 1474, 1475, 1476, 1477, 1478, 1479, 1480, 1519, 1520, 1521, 1551, 1552, 1553, 1554, 1555, 1556, 1557, 1558, 1559, 1560, 1561, 1562, 1599, 1600, 1601, 1633, 1634, 1635, 1636, 1637, 1638, 1639, 1640, 1641, 1642, 1643, 1644, 1679, 1680, 1681, 1716, 1717, 1718, 1719, 1720, 1721, 1722, 1723, 1724, 1725, 1759, 1760, 1761, 1798, 1799, 1800, 1801, 1802, 1803, 1804, 1805, 1806, 1807, 1839, 1840, 1841, 1880, 1881, 1882, 1883, 1884, 1885, 1886, 1887, 1888, 1889, 1919, 1920, 1921, 1963, 1964, 1965, 1966, 1967, 1968, 1969, 1970, 1971, 1999, 2000, 2001, 2045, 2046, 2047, 2048, 2049, 2050, 2051, 2052, 2053, 2079, 2080, 2081, 2127, 2128, 2129, 2130, 2131, 2132, 2133, 2134, 2160, 2210, 2211, 2212, 2213, 2214, 2215, 2216, 2240, 2292, 2293, 2294, 2295, 2296, 2297, 2298, 2320, 2375, 2376, 2377, 2378, 2379, 2380, 2400, 2457, 2458, 2459, 2460, 2461, 2462, 2480, 2539, 2540, 2541, 2542, 2543, 2560, 2622, 2623, 2624, 2625, 2640, 2704, 2705, 2706, 2707, 2720, 2786, 2787, 2788, 2789, 2800, 2869, 2870, 2871, 2880, 2951, 2952, 2960, 3033, 3034, 3040, 3116, 3120, 3198, 3200, 3280, 3360, 3362, 3440, 3444, 3520, 3526, 3527, 3600, 3608, 3609, 3680, 3689, 3690, 3691, 3760, 3771, 3772, 3773, 3774, 3840, 3853, 3854, 3855, 3856, 3920, 3935, 3936, 3937, 3938, 4000, 4017, 4018, 4019, 4020, 4021, 4080, 4098, 4099, 4100, 4101, 4102, 4103, 4160, 4180, 4181, 4182, 4183, 4184, 4185, 4240, 4262, 4263, 4264, 4265, 4266, 4267, 4268, 4320, 4344, 4345, 4346, 4347, 4348, 4349, 4350, 4400, 4426, 4427, 4428, 4429, 4430, 4431, 4432, 4433, 4479, 4480, 4481, 4507, 4508, 4509, 4510, 4511, 4512, 4513, 4514, 4515, 4559, 4560, 4561, 4589, 4590, 4591, 4592, 4593, 4594, 4595, 4596, 4597, 4639, 4640, 4641, 4671, 4672, 4673, 4674, 4675, 4676, 4677, 4678, 4679, 4680, 4719, 4720, 4721, 4753, 4754, 4755, 4756, 4757, 4758, 4759, 4760, 4761, 4762, 4799, 4800, 4801, 4835, 4836, 4837, 4838, 4839, 4840, 4841, 4842, 4843, 4844, 4879, 4880, 4881, 4916, 4917, 4918, 4919, 4920, 4921, 4922, 4923, 4924, 4925, 4926, 4927, 4959, 4960, 4961, 4998, 4999, 5000, 5001, 5002, 5003, 5004, 5005, 5006, 5007, 5008, 5009, 5039, 5040, 5041, 5080, 5081, 5082, 5083, 5084, 5085, 5086, 5087, 5088, 5089, 5090, 5091, 5119, 5120, 5121, 5162, 5163, 5164, 5165, 5166, 5167, 5168, 5169, 5170, 5171, 5172, 5173, 5174, 5199, 5200, 5201, 5244, 5245, 5246, 5247, 5248, 5249, 5250, 5251, 5252, 5253, 5254, 5255, 5256, 5279, 5280, 5281, 5325, 5326, 5327, 5328, 5329, 5330, 5331, 5332, 5333, 5334, 5335, 5336, 5337, 5338, 5339, 5359, 5360, 5361, 5407, 5408, 5409, 5410, 5411, 5412, 5413, 5414, 5415, 5416, 5417, 5418, 5419, 5420, 5421, 5439, 5440, 5441, 5489, 5490, 5491, 5492, 5493, 5494, 5495, 5496, 5497, 5498, 5499, 5500, 5501, 5502, 5503, 5519, 5520, 5521, 5571, 5572, 5573, 5574, 5575, 5576, 5577, 5578, 5579, 5580, 5581, 5582, 5583, 5584, 5585, 5586, 5598, 5599, 5600, 5601, 5602, 5652, 5653, 5654, 5655, 5656, 5657, 5658, 5659, 5660, 5661, 5662, 5663, 5664, 5665, 5666, 5667, 5668, 5678, 5679, 5680, 5681, 5682, 5734, 5735, 5736, 5737, 5738, 5739, 5740, 5741, 5742, 5743, 5744, 5745, 5746, 5747, 5748, 5749, 5750, 5758, 5759, 5760, 5761, 5762, 5816, 5817, 5818, 5819, 5820, 5821, 5822, 5823, 5824, 5825, 5826, 5827, 5828, 5829, 5830, 5831, 5838, 5839, 5840, 5841, 5842, 5898, 5899, 5900, 5901, 5902, 5903, 5904, 5905, 5906, 5907, 5908, 5909, 5910, 5911, 5912, 5918, 5919, 5920, 5921, 5922, 5980, 5981, 5982, 5983, 5984, 5985, 5986, 5987, 5988, 5989, 5990, 5991, 5992, 5993, 5998, 5999, 6000, 6001, 6002, 6061, 6062, 6063, 6064, 6065, 6066, 6067, 6068, 6069, 6070, 6071, 6072, 6073, 6074, 6078, 6079, 6080, 6081, 6082, 6143, 6144, 6145, 6146, 6147, 6148, 6149, 6150, 6151, 6152, 6153, 6154, 6155, 6158, 6159, 6160, 6161, 6162, 6225, 6226, 6227, 6228, 6229, 6230, 6231, 6232, 6233, 6234, 6235, 6236, 6238, 6239, 6240, 6241, 6242, 6307, 6308, 6309, 6310, 6311, 6312, 6313, 6314, 6315, 6316, 6317, 6318, 6319, 6320, 6321, 6322, 6389, 6390, 6391, 6392, 6393, 6394, 6395, 6396, 6397, 6398, 6399, 6400, 6401, 6402, 6470, 6471, 6472, 6473, 6474, 6475, 6476, 6477, 6478, 6479, 6480, 6481, 6482, 6552, 6553, 6554, 6555, 6556, 6557, 6558, 6559, 6560]\n",
      "CPU times: user 141 ms, sys: 28 ms, total: 169 ms\n",
      "Wall time: 168 ms\n"
     ]
    }
   ],
   "source": [
    "%%time\n",
    "n_total = len(simulation.dataframe)\n",
    "n_train = len(simulation.dataframe[simulation.dataframe.type_of == \"train\"])\n",
    "n_val = len(simulation.dataframe[simulation.dataframe.type_of == \"val\"])\n",
    "n_test = len(simulation.dataframe[simulation.dataframe.type_of == \"test\"])\n",
    "n_train_hamiltonians = len(simulation.train_ids)\n",
    "n_val_hamiltonians = len(simulation.val_ids)\n",
    "n_test_hamiltonians = len(simulation.test_ids)\n",
    "n_total_hamiltonians = n_train_hamiltonians + n_val_hamiltonians + n_test_hamiltonians\n",
    "\n",
    "print(\"% train: \", n_train/n_total)\n",
    "print(\"% val: \",  n_val/n_total)\n",
    "print(\"% test: \", n_test/n_total)\n",
    "print(\"% train + val + test: \", (n_train+n_val+n_test)/n_total)\n",
    "print(\"\\n\")\n",
    "print(\"number of train hamiltonians: \", n_train_hamiltonians)\n",
    "print(\"number of val hamiltonians: \", n_val_hamiltonians)\n",
    "print(\"number of test hamiltonians: \", n_test_hamiltonians)\n",
    "print(\"total number of hamiltonians: \", n_total_hamiltonians)\n",
    "print(\"\\n\")\n",
    "print(\"train ids: \", simulation.train_ids)\n",
    "print(\"val ids: \", simulation.val_ids)\n",
    "print(\"test ids: \", simulation.test_ids)"
   ]
  },
  {
   "cell_type": "markdown",
   "metadata": {
    "papermill": {
     "duration": 0.03508,
     "end_time": "2020-07-09T09:21:27.621979",
     "exception": false,
     "start_time": "2020-07-09T09:21:27.586899",
     "status": "completed"
    },
    "tags": []
   },
   "source": [
    "#### Checking summaries"
   ]
  },
  {
   "cell_type": "code",
   "execution_count": 27,
   "metadata": {
    "execution": {
     "iopub.execute_input": "2020-07-09T09:21:27.694328Z",
     "iopub.status.busy": "2020-07-09T09:21:27.694021Z",
     "iopub.status.idle": "2020-07-09T09:21:27.712228Z",
     "shell.execute_reply": "2020-07-09T09:21:27.711914Z"
    },
    "papermill": {
     "duration": 0.054869,
     "end_time": "2020-07-09T09:21:27.712278",
     "exception": false,
     "start_time": "2020-07-09T09:21:27.657409",
     "status": "completed"
    },
    "tags": []
   },
   "outputs": [
    {
     "name": "stdout",
     "output_type": "stream",
     "text": [
      "length of ham_summary:  6561\n",
      "CPU times: user 78 µs, sys: 0 ns, total: 78 µs\n",
      "Wall time: 54.8 µs\n"
     ]
    },
    {
     "data": {
      "text/html": [
       "<div>\n",
       "<style scoped>\n",
       "    .dataframe tbody tr th:only-of-type {\n",
       "        vertical-align: middle;\n",
       "    }\n",
       "\n",
       "    .dataframe tbody tr th {\n",
       "        vertical-align: top;\n",
       "    }\n",
       "\n",
       "    .dataframe thead th {\n",
       "        text-align: right;\n",
       "    }\n",
       "</style>\n",
       "<table border=\"1\" class=\"dataframe\">\n",
       "  <thead>\n",
       "    <tr style=\"text-align: right;\">\n",
       "      <th></th>\n",
       "      <th>t1</th>\n",
       "      <th>t2</th>\n",
       "      <th>type_of</th>\n",
       "      <th>0</th>\n",
       "      <th>1</th>\n",
       "      <th>phase</th>\n",
       "      <th>pred_phase</th>\n",
       "    </tr>\n",
       "    <tr>\n",
       "      <th>id</th>\n",
       "      <th></th>\n",
       "      <th></th>\n",
       "      <th></th>\n",
       "      <th></th>\n",
       "      <th></th>\n",
       "      <th></th>\n",
       "      <th></th>\n",
       "    </tr>\n",
       "  </thead>\n",
       "  <tbody>\n",
       "    <tr>\n",
       "      <th>0</th>\n",
       "      <td>-2.0</td>\n",
       "      <td>-2.00</td>\n",
       "      <td>test</td>\n",
       "      <td>0.50</td>\n",
       "      <td>0.50</td>\n",
       "      <td>999</td>\n",
       "      <td>1</td>\n",
       "    </tr>\n",
       "    <tr>\n",
       "      <th>1</th>\n",
       "      <td>-2.0</td>\n",
       "      <td>-1.95</td>\n",
       "      <td>test</td>\n",
       "      <td>0.61</td>\n",
       "      <td>0.39</td>\n",
       "      <td>0</td>\n",
       "      <td>0</td>\n",
       "    </tr>\n",
       "    <tr>\n",
       "      <th>2</th>\n",
       "      <td>-2.0</td>\n",
       "      <td>-1.90</td>\n",
       "      <td>test</td>\n",
       "      <td>0.67</td>\n",
       "      <td>0.33</td>\n",
       "      <td>0</td>\n",
       "      <td>0</td>\n",
       "    </tr>\n",
       "    <tr>\n",
       "      <th>3</th>\n",
       "      <td>-2.0</td>\n",
       "      <td>-1.85</td>\n",
       "      <td>test</td>\n",
       "      <td>0.77</td>\n",
       "      <td>0.23</td>\n",
       "      <td>0</td>\n",
       "      <td>0</td>\n",
       "    </tr>\n",
       "    <tr>\n",
       "      <th>4</th>\n",
       "      <td>-2.0</td>\n",
       "      <td>-1.80</td>\n",
       "      <td>test</td>\n",
       "      <td>0.76</td>\n",
       "      <td>0.24</td>\n",
       "      <td>0</td>\n",
       "      <td>0</td>\n",
       "    </tr>\n",
       "    <tr>\n",
       "      <th>...</th>\n",
       "      <td>...</td>\n",
       "      <td>...</td>\n",
       "      <td>...</td>\n",
       "      <td>...</td>\n",
       "      <td>...</td>\n",
       "      <td>...</td>\n",
       "      <td>...</td>\n",
       "    </tr>\n",
       "    <tr>\n",
       "      <th>6556</th>\n",
       "      <td>2.0</td>\n",
       "      <td>1.80</td>\n",
       "      <td>test</td>\n",
       "      <td>0.79</td>\n",
       "      <td>0.21</td>\n",
       "      <td>0</td>\n",
       "      <td>0</td>\n",
       "    </tr>\n",
       "    <tr>\n",
       "      <th>6557</th>\n",
       "      <td>2.0</td>\n",
       "      <td>1.85</td>\n",
       "      <td>test</td>\n",
       "      <td>0.69</td>\n",
       "      <td>0.31</td>\n",
       "      <td>0</td>\n",
       "      <td>0</td>\n",
       "    </tr>\n",
       "    <tr>\n",
       "      <th>6558</th>\n",
       "      <td>2.0</td>\n",
       "      <td>1.90</td>\n",
       "      <td>test</td>\n",
       "      <td>0.72</td>\n",
       "      <td>0.28</td>\n",
       "      <td>0</td>\n",
       "      <td>0</td>\n",
       "    </tr>\n",
       "    <tr>\n",
       "      <th>6559</th>\n",
       "      <td>2.0</td>\n",
       "      <td>1.95</td>\n",
       "      <td>test</td>\n",
       "      <td>0.67</td>\n",
       "      <td>0.33</td>\n",
       "      <td>0</td>\n",
       "      <td>0</td>\n",
       "    </tr>\n",
       "    <tr>\n",
       "      <th>6560</th>\n",
       "      <td>2.0</td>\n",
       "      <td>2.00</td>\n",
       "      <td>test</td>\n",
       "      <td>0.56</td>\n",
       "      <td>0.44</td>\n",
       "      <td>999</td>\n",
       "      <td>0</td>\n",
       "    </tr>\n",
       "  </tbody>\n",
       "</table>\n",
       "<p>6561 rows × 7 columns</p>\n",
       "</div>"
      ],
      "text/plain": [
       "       t1    t2 type_of     0     1  phase  pred_phase\n",
       "id                                                    \n",
       "0    -2.0 -2.00    test  0.50  0.50    999           1\n",
       "1    -2.0 -1.95    test  0.61  0.39      0           0\n",
       "2    -2.0 -1.90    test  0.67  0.33      0           0\n",
       "3    -2.0 -1.85    test  0.77  0.23      0           0\n",
       "4    -2.0 -1.80    test  0.76  0.24      0           0\n",
       "...   ...   ...     ...   ...   ...    ...         ...\n",
       "6556  2.0  1.80    test  0.79  0.21      0           0\n",
       "6557  2.0  1.85    test  0.69  0.31      0           0\n",
       "6558  2.0  1.90    test  0.72  0.28      0           0\n",
       "6559  2.0  1.95    test  0.67  0.33      0           0\n",
       "6560  2.0  2.00    test  0.56  0.44    999           0\n",
       "\n",
       "[6561 rows x 7 columns]"
      ]
     },
     "execution_count": 27,
     "metadata": {},
     "output_type": "execute_result"
    }
   ],
   "source": [
    "%%time\n",
    "ham_summary = simulation.hamiltonian_summary\n",
    "print(\"length of ham_summary: \", len(ham_summary))\n",
    "ham_summary"
   ]
  },
  {
   "cell_type": "code",
   "execution_count": 28,
   "metadata": {
    "execution": {
     "iopub.execute_input": "2020-07-09T09:21:27.786967Z",
     "iopub.status.busy": "2020-07-09T09:21:27.786628Z",
     "iopub.status.idle": "2020-07-09T09:21:27.838124Z",
     "shell.execute_reply": "2020-07-09T09:21:27.837833Z"
    },
    "papermill": {
     "duration": 0.089161,
     "end_time": "2020-07-09T09:21:27.838180",
     "exception": false,
     "start_time": "2020-07-09T09:21:27.749019",
     "status": "completed"
    },
    "tags": []
   },
   "outputs": [
    {
     "data": {
      "text/html": [
       "<div>\n",
       "<style scoped>\n",
       "    .dataframe tbody tr th:only-of-type {\n",
       "        vertical-align: middle;\n",
       "    }\n",
       "\n",
       "    .dataframe tbody tr th {\n",
       "        vertical-align: top;\n",
       "    }\n",
       "\n",
       "    .dataframe thead th {\n",
       "        text-align: right;\n",
       "    }\n",
       "</style>\n",
       "<table border=\"1\" class=\"dataframe\">\n",
       "  <thead>\n",
       "    <tr style=\"text-align: right;\">\n",
       "      <th></th>\n",
       "      <th>t1</th>\n",
       "      <th>t2</th>\n",
       "      <th>0</th>\n",
       "      <th>1</th>\n",
       "      <th>phase</th>\n",
       "      <th>pred_phase</th>\n",
       "    </tr>\n",
       "  </thead>\n",
       "  <tbody>\n",
       "    <tr>\n",
       "      <th>count</th>\n",
       "      <td>6561.000000</td>\n",
       "      <td>6.561000e+03</td>\n",
       "      <td>6561.000000</td>\n",
       "      <td>6561.000000</td>\n",
       "      <td>6561.000000</td>\n",
       "      <td>6561.000000</td>\n",
       "    </tr>\n",
       "    <tr>\n",
       "      <th>mean</th>\n",
       "      <td>0.000000</td>\n",
       "      <td>-4.331917e-18</td>\n",
       "      <td>0.512297</td>\n",
       "      <td>0.487703</td>\n",
       "      <td>25.002134</td>\n",
       "      <td>0.506325</td>\n",
       "    </tr>\n",
       "    <tr>\n",
       "      <th>std</th>\n",
       "      <td>1.169134</td>\n",
       "      <td>1.169134e+00</td>\n",
       "      <td>0.437750</td>\n",
       "      <td>0.437750</td>\n",
       "      <td>154.495657</td>\n",
       "      <td>0.499998</td>\n",
       "    </tr>\n",
       "    <tr>\n",
       "      <th>min</th>\n",
       "      <td>-2.000000</td>\n",
       "      <td>-2.000000e+00</td>\n",
       "      <td>0.000000</td>\n",
       "      <td>0.000000</td>\n",
       "      <td>0.000000</td>\n",
       "      <td>0.000000</td>\n",
       "    </tr>\n",
       "    <tr>\n",
       "      <th>25%</th>\n",
       "      <td>-1.000000</td>\n",
       "      <td>-1.000000e+00</td>\n",
       "      <td>0.050000</td>\n",
       "      <td>0.020000</td>\n",
       "      <td>0.000000</td>\n",
       "      <td>0.000000</td>\n",
       "    </tr>\n",
       "    <tr>\n",
       "      <th>50%</th>\n",
       "      <td>0.000000</td>\n",
       "      <td>0.000000e+00</td>\n",
       "      <td>0.500000</td>\n",
       "      <td>0.500000</td>\n",
       "      <td>1.000000</td>\n",
       "      <td>1.000000</td>\n",
       "    </tr>\n",
       "    <tr>\n",
       "      <th>75%</th>\n",
       "      <td>1.000000</td>\n",
       "      <td>1.000000e+00</td>\n",
       "      <td>0.980000</td>\n",
       "      <td>0.950000</td>\n",
       "      <td>1.000000</td>\n",
       "      <td>1.000000</td>\n",
       "    </tr>\n",
       "    <tr>\n",
       "      <th>max</th>\n",
       "      <td>2.000000</td>\n",
       "      <td>2.000000e+00</td>\n",
       "      <td>1.000000</td>\n",
       "      <td>1.000000</td>\n",
       "      <td>999.000000</td>\n",
       "      <td>1.000000</td>\n",
       "    </tr>\n",
       "  </tbody>\n",
       "</table>\n",
       "</div>"
      ],
      "text/plain": [
       "                t1            t2            0            1        phase  \\\n",
       "count  6561.000000  6.561000e+03  6561.000000  6561.000000  6561.000000   \n",
       "mean      0.000000 -4.331917e-18     0.512297     0.487703    25.002134   \n",
       "std       1.169134  1.169134e+00     0.437750     0.437750   154.495657   \n",
       "min      -2.000000 -2.000000e+00     0.000000     0.000000     0.000000   \n",
       "25%      -1.000000 -1.000000e+00     0.050000     0.020000     0.000000   \n",
       "50%       0.000000  0.000000e+00     0.500000     0.500000     1.000000   \n",
       "75%       1.000000  1.000000e+00     0.980000     0.950000     1.000000   \n",
       "max       2.000000  2.000000e+00     1.000000     1.000000   999.000000   \n",
       "\n",
       "        pred_phase  \n",
       "count  6561.000000  \n",
       "mean      0.506325  \n",
       "std       0.499998  \n",
       "min       0.000000  \n",
       "25%       0.000000  \n",
       "50%       1.000000  \n",
       "75%       1.000000  \n",
       "max       1.000000  "
      ]
     },
     "execution_count": 28,
     "metadata": {},
     "output_type": "execute_result"
    }
   ],
   "source": [
    "ham_summary.describe()"
   ]
  },
  {
   "cell_type": "code",
   "execution_count": 29,
   "metadata": {
    "execution": {
     "iopub.execute_input": "2020-07-09T09:21:27.916681Z",
     "iopub.status.busy": "2020-07-09T09:21:27.916356Z",
     "iopub.status.idle": "2020-07-09T09:21:27.931112Z",
     "shell.execute_reply": "2020-07-09T09:21:27.930801Z"
    },
    "papermill": {
     "duration": 0.05308,
     "end_time": "2020-07-09T09:21:27.931162",
     "exception": false,
     "start_time": "2020-07-09T09:21:27.878082",
     "status": "completed"
    },
    "tags": []
   },
   "outputs": [
    {
     "name": "stdout",
     "output_type": "stream",
     "text": [
      "length of ham_summary:  656100\n"
     ]
    },
    {
     "data": {
      "text/html": [
       "<div>\n",
       "<style scoped>\n",
       "    .dataframe tbody tr th:only-of-type {\n",
       "        vertical-align: middle;\n",
       "    }\n",
       "\n",
       "    .dataframe tbody tr th {\n",
       "        vertical-align: top;\n",
       "    }\n",
       "\n",
       "    .dataframe thead th {\n",
       "        text-align: right;\n",
       "    }\n",
       "</style>\n",
       "<table border=\"1\" class=\"dataframe\">\n",
       "  <thead>\n",
       "    <tr style=\"text-align: right;\">\n",
       "      <th></th>\n",
       "      <th>id</th>\n",
       "      <th>phase</th>\n",
       "      <th>pred_phase</th>\n",
       "      <th>type_of</th>\n",
       "    </tr>\n",
       "  </thead>\n",
       "  <tbody>\n",
       "    <tr>\n",
       "      <th>0</th>\n",
       "      <td>0</td>\n",
       "      <td>999</td>\n",
       "      <td>0</td>\n",
       "      <td>test</td>\n",
       "    </tr>\n",
       "    <tr>\n",
       "      <th>1</th>\n",
       "      <td>0</td>\n",
       "      <td>999</td>\n",
       "      <td>0</td>\n",
       "      <td>test</td>\n",
       "    </tr>\n",
       "    <tr>\n",
       "      <th>2</th>\n",
       "      <td>0</td>\n",
       "      <td>999</td>\n",
       "      <td>1</td>\n",
       "      <td>test</td>\n",
       "    </tr>\n",
       "    <tr>\n",
       "      <th>3</th>\n",
       "      <td>0</td>\n",
       "      <td>999</td>\n",
       "      <td>0</td>\n",
       "      <td>test</td>\n",
       "    </tr>\n",
       "    <tr>\n",
       "      <th>4</th>\n",
       "      <td>0</td>\n",
       "      <td>999</td>\n",
       "      <td>0</td>\n",
       "      <td>test</td>\n",
       "    </tr>\n",
       "    <tr>\n",
       "      <th>...</th>\n",
       "      <td>...</td>\n",
       "      <td>...</td>\n",
       "      <td>...</td>\n",
       "      <td>...</td>\n",
       "    </tr>\n",
       "    <tr>\n",
       "      <th>656095</th>\n",
       "      <td>6560</td>\n",
       "      <td>999</td>\n",
       "      <td>1</td>\n",
       "      <td>test</td>\n",
       "    </tr>\n",
       "    <tr>\n",
       "      <th>656096</th>\n",
       "      <td>6560</td>\n",
       "      <td>999</td>\n",
       "      <td>1</td>\n",
       "      <td>test</td>\n",
       "    </tr>\n",
       "    <tr>\n",
       "      <th>656097</th>\n",
       "      <td>6560</td>\n",
       "      <td>999</td>\n",
       "      <td>1</td>\n",
       "      <td>test</td>\n",
       "    </tr>\n",
       "    <tr>\n",
       "      <th>656098</th>\n",
       "      <td>6560</td>\n",
       "      <td>999</td>\n",
       "      <td>1</td>\n",
       "      <td>test</td>\n",
       "    </tr>\n",
       "    <tr>\n",
       "      <th>656099</th>\n",
       "      <td>6560</td>\n",
       "      <td>999</td>\n",
       "      <td>0</td>\n",
       "      <td>test</td>\n",
       "    </tr>\n",
       "  </tbody>\n",
       "</table>\n",
       "<p>656100 rows × 4 columns</p>\n",
       "</div>"
      ],
      "text/plain": [
       "          id  phase  pred_phase type_of\n",
       "0          0    999           0    test\n",
       "1          0    999           0    test\n",
       "2          0    999           1    test\n",
       "3          0    999           0    test\n",
       "4          0    999           0    test\n",
       "...      ...    ...         ...     ...\n",
       "656095  6560    999           1    test\n",
       "656096  6560    999           1    test\n",
       "656097  6560    999           1    test\n",
       "656098  6560    999           1    test\n",
       "656099  6560    999           0    test\n",
       "\n",
       "[656100 rows x 4 columns]"
      ]
     },
     "execution_count": 29,
     "metadata": {},
     "output_type": "execute_result"
    }
   ],
   "source": [
    "eigen_summary = simulation.eigenvector_summary\n",
    "print(\"length of ham_summary: \", len(eigen_summary))\n",
    "eigen_summary"
   ]
  },
  {
   "cell_type": "markdown",
   "metadata": {
    "papermill": {
     "duration": 0.035852,
     "end_time": "2020-07-09T09:21:28.003104",
     "exception": false,
     "start_time": "2020-07-09T09:21:27.967252",
     "status": "completed"
    },
    "tags": []
   },
   "source": [
    "#### Checking accuracies"
   ]
  },
  {
   "cell_type": "code",
   "execution_count": 30,
   "metadata": {
    "execution": {
     "iopub.execute_input": "2020-07-09T09:21:28.078465Z",
     "iopub.status.busy": "2020-07-09T09:21:28.077930Z",
     "iopub.status.idle": "2020-07-09T09:21:28.088413Z",
     "shell.execute_reply": "2020-07-09T09:21:28.088715Z"
    },
    "papermill": {
     "duration": 0.048793,
     "end_time": "2020-07-09T09:21:28.088779",
     "exception": false,
     "start_time": "2020-07-09T09:21:28.039986",
     "status": "completed"
    },
    "tags": []
   },
   "outputs": [
    {
     "data": {
      "text/plain": [
       "{'eigenvector_train': 0.9764928057553957,\n",
       " 'eigenvector_val': 0.956832,\n",
       " 'eigenvector_test': 0.7588862559241706,\n",
       " 'hamiltonian_train': 0.9928057553956835,\n",
       " 'hamiltonian_val': 0.9918,\n",
       " 'hamiltonian_test': 0.9928909952606635}"
      ]
     },
     "execution_count": 30,
     "metadata": {},
     "output_type": "execute_result"
    }
   ],
   "source": [
    "simulation.accuracy"
   ]
  },
  {
   "cell_type": "markdown",
   "metadata": {
    "papermill": {
     "duration": 0.036314,
     "end_time": "2020-07-09T09:21:28.161417",
     "exception": false,
     "start_time": "2020-07-09T09:21:28.125103",
     "status": "completed"
    },
    "tags": []
   },
   "source": [
    "#### Checking data stored in  memory"
   ]
  },
  {
   "cell_type": "code",
   "execution_count": 31,
   "metadata": {
    "execution": {
     "iopub.execute_input": "2020-07-09T09:21:28.237701Z",
     "iopub.status.busy": "2020-07-09T09:21:28.237334Z",
     "iopub.status.idle": "2020-07-09T09:21:28.247474Z",
     "shell.execute_reply": "2020-07-09T09:21:28.247774Z"
    },
    "papermill": {
     "duration": 0.049162,
     "end_time": "2020-07-09T09:21:28.247838",
     "exception": false,
     "start_time": "2020-07-09T09:21:28.198676",
     "status": "completed"
    },
    "tags": []
   },
   "outputs": [
    {
     "data": {
      "text/plain": [
       "[]"
      ]
     },
     "execution_count": 31,
     "metadata": {},
     "output_type": "execute_result"
    }
   ],
   "source": [
    "ham_summary_list = simulation.hamiltonian_summary_list\n",
    "ham_summary_list"
   ]
  },
  {
   "cell_type": "code",
   "execution_count": 32,
   "metadata": {
    "execution": {
     "iopub.execute_input": "2020-07-09T09:21:28.322989Z",
     "iopub.status.busy": "2020-07-09T09:21:28.322684Z",
     "iopub.status.idle": "2020-07-09T09:21:28.333004Z",
     "shell.execute_reply": "2020-07-09T09:21:28.332692Z"
    },
    "papermill": {
     "duration": 0.048581,
     "end_time": "2020-07-09T09:21:28.333052",
     "exception": false,
     "start_time": "2020-07-09T09:21:28.284471",
     "status": "completed"
    },
    "tags": []
   },
   "outputs": [
    {
     "data": {
      "text/plain": [
       "[]"
      ]
     },
     "execution_count": 32,
     "metadata": {},
     "output_type": "execute_result"
    }
   ],
   "source": [
    "eigen_summary_list = simulation.eigenvector_summary_list\n",
    "eigen_summary_list"
   ]
  },
  {
   "cell_type": "code",
   "execution_count": 33,
   "metadata": {
    "execution": {
     "iopub.execute_input": "2020-07-09T09:21:28.410869Z",
     "iopub.status.busy": "2020-07-09T09:21:28.410538Z",
     "iopub.status.idle": "2020-07-09T09:21:28.420888Z",
     "shell.execute_reply": "2020-07-09T09:21:28.420568Z"
    },
    "papermill": {
     "duration": 0.050207,
     "end_time": "2020-07-09T09:21:28.420939",
     "exception": false,
     "start_time": "2020-07-09T09:21:28.370732",
     "status": "completed"
    },
    "tags": []
   },
   "outputs": [
    {
     "data": {
      "text/plain": [
       "{'eigenvector_train': [],\n",
       " 'eigenvector_val': [],\n",
       " 'eigenvector_test': [],\n",
       " 'hamiltonian_train': [],\n",
       " 'hamiltonian_val': [],\n",
       " 'hamiltonian_test': []}"
      ]
     },
     "execution_count": 33,
     "metadata": {},
     "output_type": "execute_result"
    }
   ],
   "source": [
    "accuracy_list = simulation.accuracy_list\n",
    "accuracy_list"
   ]
  },
  {
   "cell_type": "code",
   "execution_count": null,
   "metadata": {
    "papermill": {
     "duration": 0.037115,
     "end_time": "2020-07-09T09:21:28.495126",
     "exception": false,
     "start_time": "2020-07-09T09:21:28.458011",
     "status": "completed"
    },
    "tags": []
   },
   "outputs": [],
   "source": []
  },
  {
   "cell_type": "code",
   "execution_count": null,
   "metadata": {
    "papermill": {
     "duration": 0.037646,
     "end_time": "2020-07-09T09:21:28.570441",
     "exception": false,
     "start_time": "2020-07-09T09:21:28.532795",
     "status": "completed"
    },
    "tags": []
   },
   "outputs": [],
   "source": []
  },
  {
   "cell_type": "code",
   "execution_count": 34,
   "metadata": {
    "execution": {
     "iopub.execute_input": "2020-07-09T09:21:28.646883Z",
     "iopub.status.busy": "2020-07-09T09:21:28.646578Z",
     "iopub.status.idle": "2020-07-09T09:21:28.656074Z",
     "shell.execute_reply": "2020-07-09T09:21:28.656497Z"
    },
    "papermill": {
     "duration": 0.048906,
     "end_time": "2020-07-09T09:21:28.656599",
     "exception": false,
     "start_time": "2020-07-09T09:21:28.607693",
     "status": "completed"
    },
    "tags": []
   },
   "outputs": [],
   "source": [
    "#simulation.fourier_matrix"
   ]
  },
  {
   "cell_type": "code",
   "execution_count": 35,
   "metadata": {
    "execution": {
     "iopub.execute_input": "2020-07-09T09:21:28.734236Z",
     "iopub.status.busy": "2020-07-09T09:21:28.733930Z",
     "iopub.status.idle": "2020-07-09T09:21:28.744086Z",
     "shell.execute_reply": "2020-07-09T09:21:28.743742Z"
    },
    "papermill": {
     "duration": 0.049366,
     "end_time": "2020-07-09T09:21:28.744138",
     "exception": false,
     "start_time": "2020-07-09T09:21:28.694772",
     "status": "completed"
    },
    "tags": []
   },
   "outputs": [],
   "source": [
    "#simulation.fourier_matrix.shape"
   ]
  },
  {
   "cell_type": "code",
   "execution_count": 36,
   "metadata": {
    "execution": {
     "iopub.execute_input": "2020-07-09T09:21:28.819850Z",
     "iopub.status.busy": "2020-07-09T09:21:28.819543Z",
     "iopub.status.idle": "2020-07-09T09:21:28.828894Z",
     "shell.execute_reply": "2020-07-09T09:21:28.829148Z"
    },
    "papermill": {
     "duration": 0.048206,
     "end_time": "2020-07-09T09:21:28.829216",
     "exception": false,
     "start_time": "2020-07-09T09:21:28.781010",
     "status": "completed"
    },
    "tags": []
   },
   "outputs": [],
   "source": [
    "#simulation.fourier_matrix[:,0]"
   ]
  },
  {
   "cell_type": "code",
   "execution_count": 37,
   "metadata": {
    "execution": {
     "iopub.execute_input": "2020-07-09T09:21:28.907326Z",
     "iopub.status.busy": "2020-07-09T09:21:28.907002Z",
     "iopub.status.idle": "2020-07-09T09:21:28.916265Z",
     "shell.execute_reply": "2020-07-09T09:21:28.916569Z"
    },
    "papermill": {
     "duration": 0.049079,
     "end_time": "2020-07-09T09:21:28.916634",
     "exception": false,
     "start_time": "2020-07-09T09:21:28.867555",
     "status": "completed"
    },
    "tags": []
   },
   "outputs": [],
   "source": [
    "#simulation.fourier_matrix[:,1]"
   ]
  },
  {
   "cell_type": "code",
   "execution_count": 38,
   "metadata": {
    "execution": {
     "iopub.execute_input": "2020-07-09T09:21:28.993492Z",
     "iopub.status.busy": "2020-07-09T09:21:28.993183Z",
     "iopub.status.idle": "2020-07-09T09:21:29.002811Z",
     "shell.execute_reply": "2020-07-09T09:21:29.002489Z"
    },
    "papermill": {
     "duration": 0.049195,
     "end_time": "2020-07-09T09:21:29.002861",
     "exception": false,
     "start_time": "2020-07-09T09:21:28.953666",
     "status": "completed"
    },
    "tags": []
   },
   "outputs": [],
   "source": [
    "#np.exp(-1j*2*np.pi*3/100)"
   ]
  },
  {
   "cell_type": "code",
   "execution_count": 39,
   "metadata": {
    "execution": {
     "iopub.execute_input": "2020-07-09T09:21:29.081983Z",
     "iopub.status.busy": "2020-07-09T09:21:29.081669Z",
     "iopub.status.idle": "2020-07-09T09:21:29.090853Z",
     "shell.execute_reply": "2020-07-09T09:21:29.091154Z"
    },
    "papermill": {
     "duration": 0.050161,
     "end_time": "2020-07-09T09:21:29.091219",
     "exception": false,
     "start_time": "2020-07-09T09:21:29.041058",
     "status": "completed"
    },
    "tags": []
   },
   "outputs": [],
   "source": [
    "#for i in range(1,50):\n",
    "#    print(\"\\n\")\n",
    "#    print(i)\n",
    "#    print(np.sum((np.real(simulation.fourier_matrix[:,i]) - np.real(simulation.fourier_matrix[:,-i]))**2))\n",
    "#    print(np.sum((np.imag(simulation.fourier_matrix[:,i])+ np.imag(simulation.fourier_matrix[:,-i]))**2))"
   ]
  },
  {
   "cell_type": "code",
   "execution_count": 40,
   "metadata": {
    "execution": {
     "iopub.execute_input": "2020-07-09T09:21:29.166952Z",
     "iopub.status.busy": "2020-07-09T09:21:29.166647Z",
     "iopub.status.idle": "2020-07-09T09:21:29.206886Z",
     "shell.execute_reply": "2020-07-09T09:21:29.207214Z"
    },
    "papermill": {
     "duration": 0.079083,
     "end_time": "2020-07-09T09:21:29.207283",
     "exception": false,
     "start_time": "2020-07-09T09:21:29.128200",
     "status": "completed"
    },
    "tags": []
   },
   "outputs": [],
   "source": [
    "#print(simulation.fourier_matrix[:,0])"
   ]
  },
  {
   "cell_type": "code",
   "execution_count": 41,
   "metadata": {
    "execution": {
     "iopub.execute_input": "2020-07-09T09:21:29.288882Z",
     "iopub.status.busy": "2020-07-09T09:21:29.288575Z",
     "iopub.status.idle": "2020-07-09T09:21:29.297818Z",
     "shell.execute_reply": "2020-07-09T09:21:29.298120Z"
    },
    "papermill": {
     "duration": 0.049024,
     "end_time": "2020-07-09T09:21:29.298183",
     "exception": false,
     "start_time": "2020-07-09T09:21:29.249159",
     "status": "completed"
    },
    "tags": []
   },
   "outputs": [],
   "source": [
    "#print(simulation.fourier_matrix[:,50])"
   ]
  },
  {
   "cell_type": "code",
   "execution_count": null,
   "metadata": {
    "papermill": {
     "duration": 0.036726,
     "end_time": "2020-07-09T09:21:29.372064",
     "exception": false,
     "start_time": "2020-07-09T09:21:29.335338",
     "status": "completed"
    },
    "tags": []
   },
   "outputs": [],
   "source": []
  }
 ],
 "metadata": {
  "celltoolbar": "Tags",
  "kernelspec": {
   "display_name": "ml_top_phases",
   "language": "python",
   "name": "ml_top_phases"
  },
  "language_info": {
   "codemirror_mode": {
    "name": "ipython",
    "version": 3
   },
   "file_extension": ".py",
   "mimetype": "text/x-python",
   "name": "python",
   "nbconvert_exporter": "python",
   "pygments_lexer": "ipython3",
   "version": "3.6.10"
  },
  "papermill": {
   "duration": 1055.870065,
   "end_time": "2020-07-09T09:21:29.520713",
   "environment_variables": {},
   "exception": null,
   "input_path": "0_simulation_template.ipynb",
   "output_path": "zzz_simulation_output_ssh1_4th_scenario_100_6561.ipynb",
   "parameters": {
    "allowed_windings": [
     0,
     1
    ],
    "csv_path": "/home/rio/ssh_csvs/ssh1/periodic_100_6561.csv",
    "features_to_use": null,
    "fillna": false,
    "fit_params": null,
    "fourier_features_to_use": [
     0,
     1,
     2,
     3,
     4,
     5,
     6,
     7,
     8,
     9,
     10,
     11,
     12,
     13,
     14,
     15,
     16,
     17,
     18,
     19,
     20,
     21,
     22,
     23,
     24,
     25,
     26,
     27,
     28,
     29,
     30,
     31,
     32,
     33,
     34,
     35,
     36,
     37,
     38,
     39,
     40,
     41,
     42,
     43,
     44,
     45,
     46,
     47,
     48,
     49,
     50
    ],
    "fourier_fillna": false,
    "fourier_mode": "dct",
    "fourier_normalize": false,
    "fourier_real": null,
    "model_kw": {
     "criterion": "entropy"
    },
    "model_name": "DecisionTreeClassifier",
    "n_experiments": 100,
    "normalize": false,
    "pred_params": null,
    "random_features": false,
    "random_state": 548936312,
    "save_accuracy": true,
    "save_eigenvector": true,
    "save_hamiltonian": true,
    "save_models": true,
    "shuffle_features": false,
    "shuffle_rows": true,
    "simulation_dir": "/home/rio/ssh_simulations/ssh1/periodic_4th_scenario_100_6561",
    "start_n": 0,
    "store_in_lists": false,
    "val_split": 0.9
   },
   "start_time": "2020-07-09T09:03:53.650648",
   "version": "2.1.0"
  }
 },
 "nbformat": 4,
 "nbformat_minor": 2
}