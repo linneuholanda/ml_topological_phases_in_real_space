{
 "cells": [
  {
   "cell_type": "markdown",
   "metadata": {
    "papermill": {
     "duration": 0.055994,
     "end_time": "2020-07-18T05:02:56.604535",
     "exception": false,
     "start_time": "2020-07-18T05:02:56.548541",
     "status": "completed"
    },
    "tags": []
   },
   "source": [
    "# Simulation template \n",
    "\n",
    "In this notebook we run the machine learning analysis of topological phase transitions occurring  in both nearest-neighbours SSH models (ssh1) and second neighbours models (ssh2) as decribed in the paper [Machine learning topological phases in real space](https://arxiv.org/abs/1901.01963). Here the simulation is run with features generated from fourier components in the first scenario. This scenario is characterized by using only the EVEN wavevector space eigenmodes, computed from ALL real space components."
   ]
  },
  {
   "cell_type": "markdown",
   "metadata": {
    "papermill": {
     "duration": 0.017976,
     "end_time": "2020-07-18T05:02:56.642662",
     "exception": false,
     "start_time": "2020-07-18T05:02:56.624686",
     "status": "completed"
    },
    "tags": []
   },
   "source": [
    "## Defining parameters"
   ]
  },
  {
   "cell_type": "code",
   "execution_count": 1,
   "metadata": {
    "execution": {
     "iopub.execute_input": "2020-07-18T05:02:56.679458Z",
     "iopub.status.busy": "2020-07-18T05:02:56.679133Z",
     "iopub.status.idle": "2020-07-18T05:02:57.268184Z",
     "shell.execute_reply": "2020-07-18T05:02:57.267821Z"
    },
    "papermill": {
     "duration": 0.609523,
     "end_time": "2020-07-18T05:02:57.268251",
     "exception": false,
     "start_time": "2020-07-18T05:02:56.658728",
     "status": "completed"
    },
    "tags": []
   },
   "outputs": [
    {
     "name": "stdout",
     "output_type": "stream",
     "text": [
      "CPU times: user 729 ms, sys: 282 ms, total: 1.01 s\n",
      "Wall time: 581 ms\n"
     ]
    }
   ],
   "source": [
    "%%time\n",
    "%load_ext autoreload\n",
    "%autoreload 2\n",
    "from simulation import *"
   ]
  },
  {
   "cell_type": "code",
   "execution_count": 2,
   "metadata": {
    "execution": {
     "iopub.execute_input": "2020-07-18T05:02:57.306528Z",
     "iopub.status.busy": "2020-07-18T05:02:57.305946Z",
     "iopub.status.idle": "2020-07-18T05:02:57.318615Z",
     "shell.execute_reply": "2020-07-18T05:02:57.318263Z"
    },
    "papermill": {
     "duration": 0.031871,
     "end_time": "2020-07-18T05:02:57.318673",
     "exception": false,
     "start_time": "2020-07-18T05:02:57.286802",
     "status": "completed"
    },
    "tags": [
     "parameters"
    ]
   },
   "outputs": [
    {
     "name": "stdout",
     "output_type": "stream",
     "text": [
      "CPU times: user 3 µs, sys: 1e+03 ns, total: 4 µs\n",
      "Wall time: 4.77 µs\n"
     ]
    }
   ],
   "source": [
    "%%time\n",
    "### Dataset and simulation parameters\n",
    "#csv_path = SSH2_PERIODIC_100_6561_CSV \n",
    "csv_path = SSH1_PERIODIC_100_6561_CSV \n",
    "model_name = \"DecisionTreeClassifier\"\n",
    "model_kw = {\"criterion\":\"entropy\"}\n",
    "allowed_windings = [0,1]\n",
    "#allowed_windings = [-1,0,1,2]\n",
    "simulation_dir = SSH1_REAL_SPACE_ALL_SITES\n",
    "#simulation_dir = SSH2_PERIODIC_ENGINEERED_100_6561_SIMULATION_DIR\n",
    "val_split = 0.9  \n",
    "features_to_use = None\n",
    "shuffle_features = False\n",
    "random_state = 763\n",
    "\n",
    "### Fourier features\n",
    "fourier_mode = \"dst\"\n",
    "fourier_features_to_use = None\n",
    "fourier_real = \"imag\"\n",
    "fourier_normalize = False\n",
    "fourier_fillna = False\n",
    "\n",
    "### Running a simulation\n",
    "n_experiments = 5\n",
    "start_n = 0\n",
    "fit_params = None\n",
    "#mode=mode\n",
    "shuffle_rows = True\n",
    "pred_params = None\n",
    "random_features = False\n",
    "######### DON'T SET THIS TO TRUE UNLESS YOUR DATASET IS SMALL!! WILL FLOOD YOUR MEMORY!!!\n",
    "store_in_lists = False   \n",
    "########## BELOW ARE THE PARAMETERS THAT CONTROL WHAT WILL BE SAVED\n",
    "save_eigenvector=True\n",
    "save_hamiltonian=True \n",
    "save_accuracy=True \n",
    "save_models=True"
   ]
  },
  {
   "cell_type": "code",
   "execution_count": 3,
   "metadata": {
    "execution": {
     "iopub.execute_input": "2020-07-18T05:02:57.355585Z",
     "iopub.status.busy": "2020-07-18T05:02:57.355069Z",
     "iopub.status.idle": "2020-07-18T05:02:57.453988Z",
     "shell.execute_reply": "2020-07-18T05:02:57.452651Z"
    },
    "papermill": {
     "duration": 0.118877,
     "end_time": "2020-07-18T05:02:57.454167",
     "exception": false,
     "start_time": "2020-07-18T05:02:57.335290",
     "status": "completed"
    },
    "tags": [
     "injected-parameters"
    ]
   },
   "outputs": [],
   "source": [
    "# Parameters\n",
    "model_kw = {\"criterion\": \"entropy\"}\n",
    "allowed_windings = [0, 1]\n",
    "val_split = 0.9\n",
    "features_to_use = [0, 1, 3, 50]\n",
    "shuffle_features = False\n",
    "n_experiments = 100\n",
    "start_n = 0\n",
    "fit_params = None\n",
    "shuffle_rows = True\n",
    "pred_params = None\n",
    "random_features = False\n",
    "store_in_lists = False\n",
    "save_eigenvector = True\n",
    "save_hamiltonian = True\n",
    "save_accuracy = True\n",
    "save_models = True\n",
    "csv_path = \"/home/rio/ssh_csvs/ssh1/periodic_100_6561.csv\"\n",
    "model_name = \"DecisionTreeClassifier\"\n",
    "simulation_dir = (\n",
    "    \"/home/rio/ssh_simulations/ssh1/periodic_100_6561/real_space_best_04_sites\"\n",
    ")\n",
    "random_state = 1011\n",
    "fourier_features_to_use = None\n",
    "fourier_mode = None\n",
    "fourier_real = None\n",
    "fourier_normalize = None\n",
    "fourier_fillna = None\n"
   ]
  },
  {
   "cell_type": "code",
   "execution_count": 4,
   "metadata": {
    "execution": {
     "iopub.execute_input": "2020-07-18T05:02:57.511045Z",
     "iopub.status.busy": "2020-07-18T05:02:57.510497Z",
     "iopub.status.idle": "2020-07-18T05:03:02.955128Z",
     "shell.execute_reply": "2020-07-18T05:03:02.954812Z"
    },
    "papermill": {
     "duration": 5.466083,
     "end_time": "2020-07-18T05:03:02.955180",
     "exception": false,
     "start_time": "2020-07-18T05:02:57.489097",
     "status": "completed"
    },
    "tags": []
   },
   "outputs": [
    {
     "name": "stdout",
     "output_type": "stream",
     "text": [
      "Info on all data: \n",
      "\n",
      "<class 'pandas.core.frame.DataFrame'>\n",
      "Int64Index: 656100 entries, 0 to 656099\n",
      "Columns: 108 entries, id to feat99\n",
      "dtypes: float64(103), int32(3), object(2)\n",
      "memory usage: 538.1+ MB\n",
      "CPU times: user 5.13 s, sys: 272 ms, total: 5.41 s\n",
      "Wall time: 5.41 s\n"
     ]
    },
    {
     "data": {
      "text/html": [
       "<div>\n",
       "<style scoped>\n",
       "    .dataframe tbody tr th:only-of-type {\n",
       "        vertical-align: middle;\n",
       "    }\n",
       "\n",
       "    .dataframe tbody tr th {\n",
       "        vertical-align: top;\n",
       "    }\n",
       "\n",
       "    .dataframe thead th {\n",
       "        text-align: right;\n",
       "    }\n",
       "</style>\n",
       "<table border=\"1\" class=\"dataframe\">\n",
       "  <thead>\n",
       "    <tr style=\"text-align: right;\">\n",
       "      <th></th>\n",
       "      <th>id</th>\n",
       "      <th>path</th>\n",
       "      <th>t1</th>\n",
       "      <th>t2</th>\n",
       "      <th>winding</th>\n",
       "      <th>phase</th>\n",
       "      <th>pred_phase</th>\n",
       "      <th>type_of</th>\n",
       "      <th>feat0</th>\n",
       "      <th>feat1</th>\n",
       "      <th>...</th>\n",
       "      <th>feat90</th>\n",
       "      <th>feat91</th>\n",
       "      <th>feat92</th>\n",
       "      <th>feat93</th>\n",
       "      <th>feat94</th>\n",
       "      <th>feat95</th>\n",
       "      <th>feat96</th>\n",
       "      <th>feat97</th>\n",
       "      <th>feat98</th>\n",
       "      <th>feat99</th>\n",
       "    </tr>\n",
       "  </thead>\n",
       "  <tbody>\n",
       "    <tr>\n",
       "      <th>0</th>\n",
       "      <td>0</td>\n",
       "      <td>H_-2_-2_0.509296.dat</td>\n",
       "      <td>-2.0</td>\n",
       "      <td>-2.0</td>\n",
       "      <td>0.509296</td>\n",
       "      <td>999</td>\n",
       "      <td>666</td>\n",
       "      <td>test</td>\n",
       "      <td>0.100000</td>\n",
       "      <td>0.100000</td>\n",
       "      <td>...</td>\n",
       "      <td>0.100000</td>\n",
       "      <td>0.100000</td>\n",
       "      <td>0.100000</td>\n",
       "      <td>0.100000</td>\n",
       "      <td>0.100000</td>\n",
       "      <td>0.100000</td>\n",
       "      <td>0.100000</td>\n",
       "      <td>0.100000</td>\n",
       "      <td>0.100000</td>\n",
       "      <td>0.100000</td>\n",
       "    </tr>\n",
       "    <tr>\n",
       "      <th>1</th>\n",
       "      <td>0</td>\n",
       "      <td>H_-2_-2_0.509296.dat</td>\n",
       "      <td>-2.0</td>\n",
       "      <td>-2.0</td>\n",
       "      <td>0.509296</td>\n",
       "      <td>999</td>\n",
       "      <td>666</td>\n",
       "      <td>test</td>\n",
       "      <td>0.141421</td>\n",
       "      <td>0.141142</td>\n",
       "      <td>...</td>\n",
       "      <td>0.114412</td>\n",
       "      <td>0.108967</td>\n",
       "      <td>0.123928</td>\n",
       "      <td>0.119406</td>\n",
       "      <td>0.131490</td>\n",
       "      <td>0.127962</td>\n",
       "      <td>0.136978</td>\n",
       "      <td>0.134500</td>\n",
       "      <td>0.140306</td>\n",
       "      <td>0.138916</td>\n",
       "    </tr>\n",
       "    <tr>\n",
       "      <th>2</th>\n",
       "      <td>0</td>\n",
       "      <td>H_-2_-2_0.509296.dat</td>\n",
       "      <td>-2.0</td>\n",
       "      <td>-2.0</td>\n",
       "      <td>0.509296</td>\n",
       "      <td>999</td>\n",
       "      <td>666</td>\n",
       "      <td>test</td>\n",
       "      <td>0.141421</td>\n",
       "      <td>0.140306</td>\n",
       "      <td>...</td>\n",
       "      <td>0.043702</td>\n",
       "      <td>0.026500</td>\n",
       "      <td>0.075777</td>\n",
       "      <td>0.060214</td>\n",
       "      <td>0.103092</td>\n",
       "      <td>0.090145</td>\n",
       "      <td>0.123928</td>\n",
       "      <td>0.114412</td>\n",
       "      <td>0.136978</td>\n",
       "      <td>0.131490</td>\n",
       "    </tr>\n",
       "    <tr>\n",
       "      <th>3</th>\n",
       "      <td>0</td>\n",
       "      <td>H_-2_-2_0.509296.dat</td>\n",
       "      <td>-2.0</td>\n",
       "      <td>-2.0</td>\n",
       "      <td>0.509296</td>\n",
       "      <td>999</td>\n",
       "      <td>666</td>\n",
       "      <td>test</td>\n",
       "      <td>-0.100000</td>\n",
       "      <td>0.100000</td>\n",
       "      <td>...</td>\n",
       "      <td>-0.100000</td>\n",
       "      <td>0.100000</td>\n",
       "      <td>-0.100000</td>\n",
       "      <td>0.100000</td>\n",
       "      <td>-0.100000</td>\n",
       "      <td>0.100000</td>\n",
       "      <td>-0.100000</td>\n",
       "      <td>0.100000</td>\n",
       "      <td>-0.100000</td>\n",
       "      <td>0.100000</td>\n",
       "    </tr>\n",
       "    <tr>\n",
       "      <th>4</th>\n",
       "      <td>0</td>\n",
       "      <td>H_-2_-2_0.509296.dat</td>\n",
       "      <td>-2.0</td>\n",
       "      <td>-2.0</td>\n",
       "      <td>0.509296</td>\n",
       "      <td>999</td>\n",
       "      <td>666</td>\n",
       "      <td>test</td>\n",
       "      <td>0.000509</td>\n",
       "      <td>-0.008372</td>\n",
       "      <td>...</td>\n",
       "      <td>-0.082713</td>\n",
       "      <td>-0.089753</td>\n",
       "      <td>-0.067684</td>\n",
       "      <td>-0.075347</td>\n",
       "      <td>-0.051587</td>\n",
       "      <td>-0.059753</td>\n",
       "      <td>-0.034677</td>\n",
       "      <td>-0.043217</td>\n",
       "      <td>-0.017220</td>\n",
       "      <td>-0.026000</td>\n",
       "    </tr>\n",
       "  </tbody>\n",
       "</table>\n",
       "<p>5 rows × 108 columns</p>\n",
       "</div>"
      ],
      "text/plain": [
       "   id                  path   t1   t2   winding  phase  pred_phase type_of  \\\n",
       "0   0  H_-2_-2_0.509296.dat -2.0 -2.0  0.509296    999         666    test   \n",
       "1   0  H_-2_-2_0.509296.dat -2.0 -2.0  0.509296    999         666    test   \n",
       "2   0  H_-2_-2_0.509296.dat -2.0 -2.0  0.509296    999         666    test   \n",
       "3   0  H_-2_-2_0.509296.dat -2.0 -2.0  0.509296    999         666    test   \n",
       "4   0  H_-2_-2_0.509296.dat -2.0 -2.0  0.509296    999         666    test   \n",
       "\n",
       "      feat0     feat1  ...    feat90    feat91    feat92    feat93    feat94  \\\n",
       "0  0.100000  0.100000  ...  0.100000  0.100000  0.100000  0.100000  0.100000   \n",
       "1  0.141421  0.141142  ...  0.114412  0.108967  0.123928  0.119406  0.131490   \n",
       "2  0.141421  0.140306  ...  0.043702  0.026500  0.075777  0.060214  0.103092   \n",
       "3 -0.100000  0.100000  ... -0.100000  0.100000 -0.100000  0.100000 -0.100000   \n",
       "4  0.000509 -0.008372  ... -0.082713 -0.089753 -0.067684 -0.075347 -0.051587   \n",
       "\n",
       "     feat95    feat96    feat97    feat98    feat99  \n",
       "0  0.100000  0.100000  0.100000  0.100000  0.100000  \n",
       "1  0.127962  0.136978  0.134500  0.140306  0.138916  \n",
       "2  0.090145  0.123928  0.114412  0.136978  0.131490  \n",
       "3  0.100000 -0.100000  0.100000 -0.100000  0.100000  \n",
       "4 -0.059753 -0.034677 -0.043217 -0.017220 -0.026000  \n",
       "\n",
       "[5 rows x 108 columns]"
      ]
     },
     "execution_count": 4,
     "metadata": {},
     "output_type": "execute_result"
    }
   ],
   "source": [
    "%%time\n",
    "#Starting an instance of Simulation with a decision tree\n",
    "model = DecisionTreeClassifier(criterion=\"entropy\")\n",
    "#dict_args = {\"csv_path\":csv_path, \"model\":model, \"allowed_windings\":allowed_windings,\\\n",
    "#             \"simulation_dir\":simulation_dir, \"val_split\":val_split, \"features_to_use\":features_to_use,\\\n",
    "#            \"shuffle_features\":shuffle_features, \"random_state\":random_state}\n",
    "simulation = Simulation(csv_path,model_name,model_kw,allowed_windings,simulation_dir,val_split,features_to_use,\\\n",
    "                       shuffle_features,fourier_mode,fourier_features_to_use,fourier_real,\\\n",
    "                       fourier_normalize, fourier_fillna , random_state)\n",
    "#simulation = Simulation(**dict_args)\n",
    "\n",
    "\n",
    "#(self, csv_path, model_name, model_kw, allowed_windings, simulation_dir = None, val_split = 0, \n",
    "# features_to_use = None, shuffle_features = False, fourier_mode=None, fourier_features_to_use=None,\n",
    "# fourier_real = False, fourier_normalize = False, Fourier_fillna=False, random_state = None):\n",
    "\n",
    "\n",
    "\n",
    "print(\"Info on all data: \\n\")\n",
    "simulation.dataframe.info()\n",
    "simulation.dataframe.head()"
   ]
  },
  {
   "cell_type": "markdown",
   "metadata": {
    "papermill": {
     "duration": 0.017007,
     "end_time": "2020-07-18T05:03:02.989878",
     "exception": false,
     "start_time": "2020-07-18T05:03:02.972871",
     "status": "completed"
    },
    "tags": []
   },
   "source": [
    "####  Fourier features"
   ]
  },
  {
   "cell_type": "code",
   "execution_count": 5,
   "metadata": {
    "execution": {
     "iopub.execute_input": "2020-07-18T05:03:03.025785Z",
     "iopub.status.busy": "2020-07-18T05:03:03.025287Z",
     "iopub.status.idle": "2020-07-18T05:03:03.036558Z",
     "shell.execute_reply": "2020-07-18T05:03:03.036229Z"
    },
    "papermill": {
     "duration": 0.029892,
     "end_time": "2020-07-18T05:03:03.036610",
     "exception": false,
     "start_time": "2020-07-18T05:03:03.006718",
     "status": "completed"
    },
    "tags": []
   },
   "outputs": [
    {
     "name": "stdout",
     "output_type": "stream",
     "text": [
      "CPU times: user 2 µs, sys: 0 ns, total: 2 µs\n",
      "Wall time: 3.81 µs\n"
     ]
    }
   ],
   "source": [
    "%%time\n",
    "#simulation.generate_fourier_df()\n",
    "if simulation.fourier_mode is not None:\n",
    "    simulation.fourier_dataframe.info() \n",
    "    simulation.fourier_dataframe.sample(15)\n"
   ]
  },
  {
   "cell_type": "code",
   "execution_count": 6,
   "metadata": {
    "execution": {
     "iopub.execute_input": "2020-07-18T05:03:03.073205Z",
     "iopub.status.busy": "2020-07-18T05:03:03.072840Z",
     "iopub.status.idle": "2020-07-18T05:03:03.153459Z",
     "shell.execute_reply": "2020-07-18T05:03:03.154654Z"
    },
    "papermill": {
     "duration": 0.101333,
     "end_time": "2020-07-18T05:03:03.154867",
     "exception": false,
     "start_time": "2020-07-18T05:03:03.053534",
     "status": "completed"
    },
    "tags": []
   },
   "outputs": [
    {
     "name": "stdout",
     "output_type": "stream",
     "text": [
      "features_to_use: \n",
      "\n",
      "\n",
      "[0, 1, 3, 50]\n",
      "Number of real space features:\n",
      "\n",
      "\n",
      "4\n",
      "\n",
      "\n",
      "fourier_features: \n",
      "\n",
      "\n",
      "None\n"
     ]
    },
    {
     "name": "stdout",
     "output_type": "stream",
     "text": [
      "\n",
      "\n",
      "\n",
      "\n",
      "Fourier operator: \n",
      "None\n",
      "\n",
      "\n"
     ]
    }
   ],
   "source": [
    "print(\"features_to_use: \")\n",
    "print(\"\\n\")\n",
    "print(simulation.features_to_use)\n",
    "if simulation.features_to_use is not None:\n",
    "    print(\"Number of real space features:\")\n",
    "    print(\"\\n\")\n",
    "    print(len(simulation.features_to_use))\n",
    "print(\"\\n\")\n",
    "print(\"fourier_features: \")\n",
    "print(\"\\n\")\n",
    "print(simulation.fourier_features)\n",
    "print(\"\\n\")\n",
    "if simulation.fourier_features is not None:\n",
    "    print(\"Number of Fourier features: \")\n",
    "    print(\"\\n\")\n",
    "    print(len(simulation.fourier_features))\n",
    "print(\"\\n\")\n",
    "print(\"Fourier operator: \")\n",
    "print(simulation.fourier_operator)\n",
    "print(\"\\n\")\n",
    "if simulation.fourier_operator is not None:\n",
    "    print(\"Shape of Fourier operator: \")\n",
    "    print(simulation.fourier_operator.shape)"
   ]
  },
  {
   "cell_type": "code",
   "execution_count": 7,
   "metadata": {
    "execution": {
     "iopub.execute_input": "2020-07-18T05:03:03.229988Z",
     "iopub.status.busy": "2020-07-18T05:03:03.229679Z",
     "iopub.status.idle": "2020-07-18T05:03:03.239652Z",
     "shell.execute_reply": "2020-07-18T05:03:03.239313Z"
    },
    "papermill": {
     "duration": 0.032027,
     "end_time": "2020-07-18T05:03:03.239705",
     "exception": false,
     "start_time": "2020-07-18T05:03:03.207678",
     "status": "completed"
    },
    "tags": []
   },
   "outputs": [],
   "source": [
    "#a = np.array([1+1j,2+3j,4+8j])\n",
    "#np.imag(a)"
   ]
  },
  {
   "cell_type": "code",
   "execution_count": 8,
   "metadata": {
    "execution": {
     "iopub.execute_input": "2020-07-18T05:03:03.277245Z",
     "iopub.status.busy": "2020-07-18T05:03:03.276934Z",
     "iopub.status.idle": "2020-07-18T05:03:03.380238Z",
     "shell.execute_reply": "2020-07-18T05:03:03.381661Z"
    },
    "papermill": {
     "duration": 0.12471,
     "end_time": "2020-07-18T05:03:03.381965",
     "exception": false,
     "start_time": "2020-07-18T05:03:03.257255",
     "status": "completed"
    },
    "tags": []
   },
   "outputs": [],
   "source": [
    "#plt.plot(np.imag(simulation.fourier_operator[:,0]))"
   ]
  },
  {
   "cell_type": "code",
   "execution_count": 9,
   "metadata": {
    "execution": {
     "iopub.execute_input": "2020-07-18T05:03:03.460908Z",
     "iopub.status.busy": "2020-07-18T05:03:03.460599Z",
     "iopub.status.idle": "2020-07-18T05:03:03.470625Z",
     "shell.execute_reply": "2020-07-18T05:03:03.470283Z"
    },
    "papermill": {
     "duration": 0.03249,
     "end_time": "2020-07-18T05:03:03.470680",
     "exception": false,
     "start_time": "2020-07-18T05:03:03.438190",
     "status": "completed"
    },
    "tags": []
   },
   "outputs": [],
   "source": [
    "#np.sin(np.pi/(50))*2"
   ]
  },
  {
   "cell_type": "code",
   "execution_count": 10,
   "metadata": {
    "execution": {
     "iopub.execute_input": "2020-07-18T05:03:03.508739Z",
     "iopub.status.busy": "2020-07-18T05:03:03.508431Z",
     "iopub.status.idle": "2020-07-18T05:03:03.581606Z",
     "shell.execute_reply": "2020-07-18T05:03:03.580798Z"
    },
    "papermill": {
     "duration": 0.093219,
     "end_time": "2020-07-18T05:03:03.581726",
     "exception": false,
     "start_time": "2020-07-18T05:03:03.488507",
     "status": "completed"
    },
    "tags": []
   },
   "outputs": [],
   "source": [
    "#2*np.sin(np.pi/50*49)"
   ]
  },
  {
   "cell_type": "code",
   "execution_count": 11,
   "metadata": {
    "execution": {
     "iopub.execute_input": "2020-07-18T05:03:03.649720Z",
     "iopub.status.busy": "2020-07-18T05:03:03.649400Z",
     "iopub.status.idle": "2020-07-18T05:03:03.659271Z",
     "shell.execute_reply": "2020-07-18T05:03:03.659533Z"
    },
    "papermill": {
     "duration": 0.032818,
     "end_time": "2020-07-18T05:03:03.659607",
     "exception": false,
     "start_time": "2020-07-18T05:03:03.626789",
     "status": "completed"
    },
    "tags": []
   },
   "outputs": [],
   "source": [
    "#simulation.dataframe.iloc[331456,:]"
   ]
  },
  {
   "cell_type": "code",
   "execution_count": 12,
   "metadata": {
    "execution": {
     "iopub.execute_input": "2020-07-18T05:03:03.697644Z",
     "iopub.status.busy": "2020-07-18T05:03:03.697312Z",
     "iopub.status.idle": "2020-07-18T05:03:03.773453Z",
     "shell.execute_reply": "2020-07-18T05:03:03.772605Z"
    },
    "papermill": {
     "duration": 0.096204,
     "end_time": "2020-07-18T05:03:03.773574",
     "exception": false,
     "start_time": "2020-07-18T05:03:03.677370",
     "status": "completed"
    },
    "tags": []
   },
   "outputs": [],
   "source": [
    "#for ix, obj in enumerate(simulation.dataframe.iloc[331456,:].values):\n",
    "#    print(ix,obj)"
   ]
  },
  {
   "cell_type": "code",
   "execution_count": 13,
   "metadata": {
    "execution": {
     "iopub.execute_input": "2020-07-18T05:03:03.845566Z",
     "iopub.status.busy": "2020-07-18T05:03:03.845258Z",
     "iopub.status.idle": "2020-07-18T05:03:03.855701Z",
     "shell.execute_reply": "2020-07-18T05:03:03.855352Z"
    },
    "papermill": {
     "duration": 0.037624,
     "end_time": "2020-07-18T05:03:03.855761",
     "exception": false,
     "start_time": "2020-07-18T05:03:03.818137",
     "status": "completed"
    },
    "tags": []
   },
   "outputs": [],
   "source": [
    "#simulation.fourier_engineered_dataframe.dct_feat0"
   ]
  },
  {
   "cell_type": "code",
   "execution_count": 14,
   "metadata": {
    "execution": {
     "iopub.execute_input": "2020-07-18T05:03:03.893576Z",
     "iopub.status.busy": "2020-07-18T05:03:03.893248Z",
     "iopub.status.idle": "2020-07-18T05:03:03.964706Z",
     "shell.execute_reply": "2020-07-18T05:03:03.963995Z"
    },
    "papermill": {
     "duration": 0.090957,
     "end_time": "2020-07-18T05:03:03.964810",
     "exception": false,
     "start_time": "2020-07-18T05:03:03.873853",
     "status": "completed"
    },
    "tags": []
   },
   "outputs": [],
   "source": [
    "#simulation.features"
   ]
  },
  {
   "cell_type": "code",
   "execution_count": 15,
   "metadata": {
    "execution": {
     "iopub.execute_input": "2020-07-18T05:03:04.037431Z",
     "iopub.status.busy": "2020-07-18T05:03:04.037101Z",
     "iopub.status.idle": "2020-07-18T05:03:04.046578Z",
     "shell.execute_reply": "2020-07-18T05:03:04.046257Z"
    },
    "papermill": {
     "duration": 0.035656,
     "end_time": "2020-07-18T05:03:04.046630",
     "exception": false,
     "start_time": "2020-07-18T05:03:04.010974",
     "status": "completed"
    },
    "tags": []
   },
   "outputs": [],
   "source": [
    "#simulation.fourier_matrix"
   ]
  },
  {
   "cell_type": "code",
   "execution_count": 16,
   "metadata": {
    "execution": {
     "iopub.execute_input": "2020-07-18T05:03:04.084637Z",
     "iopub.status.busy": "2020-07-18T05:03:04.084316Z",
     "iopub.status.idle": "2020-07-18T05:03:04.155791Z",
     "shell.execute_reply": "2020-07-18T05:03:04.156458Z"
    },
    "papermill": {
     "duration": 0.092347,
     "end_time": "2020-07-18T05:03:04.156606",
     "exception": false,
     "start_time": "2020-07-18T05:03:04.064259",
     "status": "completed"
    },
    "tags": []
   },
   "outputs": [],
   "source": [
    "#1/simulation.n_features*simulation.dataframe.loc[:,simulation.features].sum(axis=1)"
   ]
  },
  {
   "cell_type": "code",
   "execution_count": 17,
   "metadata": {
    "execution": {
     "iopub.execute_input": "2020-07-18T05:03:04.228824Z",
     "iopub.status.busy": "2020-07-18T05:03:04.228517Z",
     "iopub.status.idle": "2020-07-18T05:03:04.238530Z",
     "shell.execute_reply": "2020-07-18T05:03:04.238171Z"
    },
    "papermill": {
     "duration": 0.036893,
     "end_time": "2020-07-18T05:03:04.238584",
     "exception": false,
     "start_time": "2020-07-18T05:03:04.201691",
     "status": "completed"
    },
    "tags": []
   },
   "outputs": [],
   "source": [
    "#df_2 = simulation.fourier_engineered_dataframe[simulation.fourier_engineered_dataframe.phase==2]\n",
    "#df_2.describe()"
   ]
  },
  {
   "cell_type": "code",
   "execution_count": 18,
   "metadata": {
    "execution": {
     "iopub.execute_input": "2020-07-18T05:03:04.276571Z",
     "iopub.status.busy": "2020-07-18T05:03:04.276248Z",
     "iopub.status.idle": "2020-07-18T05:03:04.347558Z",
     "shell.execute_reply": "2020-07-18T05:03:04.346867Z"
    },
    "papermill": {
     "duration": 0.090729,
     "end_time": "2020-07-18T05:03:04.347660",
     "exception": false,
     "start_time": "2020-07-18T05:03:04.256931",
     "status": "completed"
    },
    "tags": []
   },
   "outputs": [],
   "source": [
    "#df_1 = simulation.fourier_engineered_dataframe[simulation.fourier_engineered_dataframe.phase==1]\n",
    "#df_1.describe()"
   ]
  },
  {
   "cell_type": "code",
   "execution_count": 19,
   "metadata": {
    "execution": {
     "iopub.execute_input": "2020-07-18T05:03:04.411492Z",
     "iopub.status.busy": "2020-07-18T05:03:04.411182Z",
     "iopub.status.idle": "2020-07-18T05:03:04.430405Z",
     "shell.execute_reply": "2020-07-18T05:03:04.429150Z"
    },
    "papermill": {
     "duration": 0.042113,
     "end_time": "2020-07-18T05:03:04.430602",
     "exception": false,
     "start_time": "2020-07-18T05:03:04.388489",
     "status": "completed"
    },
    "tags": []
   },
   "outputs": [],
   "source": [
    "#df_0 = simulation.fourier_engineered_dataframe[simulation.fourier_engineered_dataframe.phase==0]\n",
    "#df_0.describe()"
   ]
  },
  {
   "cell_type": "code",
   "execution_count": 20,
   "metadata": {
    "execution": {
     "iopub.execute_input": "2020-07-18T05:03:04.486186Z",
     "iopub.status.busy": "2020-07-18T05:03:04.485879Z",
     "iopub.status.idle": "2020-07-18T05:03:04.546850Z",
     "shell.execute_reply": "2020-07-18T05:03:04.546315Z"
    },
    "papermill": {
     "duration": 0.081051,
     "end_time": "2020-07-18T05:03:04.546931",
     "exception": false,
     "start_time": "2020-07-18T05:03:04.465880",
     "status": "completed"
    },
    "tags": []
   },
   "outputs": [],
   "source": [
    "#plt.figure(figsize=(10,10))\n",
    "#plt.scatter(df_1.fourier_feat0,df_1.fourier_feat2)\n",
    "#plt.scatter(df_0.fourier_feat0,df_0.fourier_feat2,alpha=0.4)"
   ]
  },
  {
   "cell_type": "code",
   "execution_count": 21,
   "metadata": {
    "execution": {
     "iopub.execute_input": "2020-07-18T05:03:04.604100Z",
     "iopub.status.busy": "2020-07-18T05:03:04.603789Z",
     "iopub.status.idle": "2020-07-18T05:03:04.624735Z",
     "shell.execute_reply": "2020-07-18T05:03:04.625059Z"
    },
    "papermill": {
     "duration": 0.044596,
     "end_time": "2020-07-18T05:03:04.625147",
     "exception": false,
     "start_time": "2020-07-18T05:03:04.580551",
     "status": "completed"
    },
    "tags": []
   },
   "outputs": [],
   "source": [
    "#plt.scatter(df_0.fourier_feat0,df_0.fourier_feat2,alpha=0.4)"
   ]
  },
  {
   "cell_type": "code",
   "execution_count": 22,
   "metadata": {
    "execution": {
     "iopub.execute_input": "2020-07-18T05:03:04.664207Z",
     "iopub.status.busy": "2020-07-18T05:03:04.663899Z",
     "iopub.status.idle": "2020-07-18T05:03:04.751204Z",
     "shell.execute_reply": "2020-07-18T05:03:04.749697Z"
    },
    "papermill": {
     "duration": 0.107067,
     "end_time": "2020-07-18T05:03:04.751429",
     "exception": false,
     "start_time": "2020-07-18T05:03:04.644362",
     "status": "completed"
    },
    "tags": []
   },
   "outputs": [],
   "source": [
    "#plt.scatter(df_2.fourier_feat0,df_2.fourier_feat2)"
   ]
  },
  {
   "cell_type": "code",
   "execution_count": 23,
   "metadata": {
    "execution": {
     "iopub.execute_input": "2020-07-18T05:03:04.830993Z",
     "iopub.status.busy": "2020-07-18T05:03:04.830682Z",
     "iopub.status.idle": "2020-07-18T05:03:04.842236Z",
     "shell.execute_reply": "2020-07-18T05:03:04.841895Z"
    },
    "papermill": {
     "duration": 0.033902,
     "end_time": "2020-07-18T05:03:04.842289",
     "exception": false,
     "start_time": "2020-07-18T05:03:04.808387",
     "status": "completed"
    },
    "tags": []
   },
   "outputs": [],
   "source": [
    "#df_1.hist(figsize=(15,15))"
   ]
  },
  {
   "cell_type": "code",
   "execution_count": 24,
   "metadata": {
    "execution": {
     "iopub.execute_input": "2020-07-18T05:03:04.880186Z",
     "iopub.status.busy": "2020-07-18T05:03:04.879879Z",
     "iopub.status.idle": "2020-07-18T05:03:04.947173Z",
     "shell.execute_reply": "2020-07-18T05:03:04.946573Z"
    },
    "papermill": {
     "duration": 0.087231,
     "end_time": "2020-07-18T05:03:04.947264",
     "exception": false,
     "start_time": "2020-07-18T05:03:04.860033",
     "status": "completed"
    },
    "tags": []
   },
   "outputs": [],
   "source": [
    "#df_0.hist(figsize=(15,15))"
   ]
  },
  {
   "cell_type": "markdown",
   "metadata": {
    "papermill": {
     "duration": 0.021398,
     "end_time": "2020-07-18T05:03:05.005753",
     "exception": false,
     "start_time": "2020-07-18T05:03:04.984355",
     "status": "completed"
    },
    "tags": []
   },
   "source": [
    "#### Checking initialization"
   ]
  },
  {
   "cell_type": "code",
   "execution_count": 25,
   "metadata": {
    "execution": {
     "iopub.execute_input": "2020-07-18T05:03:05.044366Z",
     "iopub.status.busy": "2020-07-18T05:03:05.044056Z",
     "iopub.status.idle": "2020-07-18T05:03:05.055074Z",
     "shell.execute_reply": "2020-07-18T05:03:05.054757Z"
    },
    "papermill": {
     "duration": 0.031232,
     "end_time": "2020-07-18T05:03:05.055126",
     "exception": false,
     "start_time": "2020-07-18T05:03:05.023894",
     "status": "completed"
    },
    "tags": []
   },
   "outputs": [
    {
     "name": "stdout",
     "output_type": "stream",
     "text": [
      "n_features:  100\n",
      "n_hamiltonians:  6561\n",
      "n_ts:  2\n",
      "CPU times: user 209 µs, sys: 22 µs, total: 231 µs\n",
      "Wall time: 135 µs\n"
     ]
    }
   ],
   "source": [
    "%%time\n",
    "n_features = simulation.n_features\n",
    "n_hamiltonians = simulation.n_hamiltonians\n",
    "n_ts = simulation.n_ts\n",
    "\n",
    "print(\"n_features: \", n_features)\n",
    "print(\"n_hamiltonians: \", n_hamiltonians)\n",
    "print(\"n_ts: \", n_ts)"
   ]
  },
  {
   "cell_type": "code",
   "execution_count": 26,
   "metadata": {
    "execution": {
     "iopub.execute_input": "2020-07-18T05:03:05.093269Z",
     "iopub.status.busy": "2020-07-18T05:03:05.092950Z",
     "iopub.status.idle": "2020-07-18T05:03:05.366050Z",
     "shell.execute_reply": "2020-07-18T05:03:05.365729Z"
    },
    "papermill": {
     "duration": 0.292841,
     "end_time": "2020-07-18T05:03:05.366102",
     "exception": false,
     "start_time": "2020-07-18T05:03:05.073261",
     "status": "completed"
    },
    "tags": []
   },
   "outputs": [
    {
     "name": "stdout",
     "output_type": "stream",
     "text": [
      "% train:  0.846822130772748\n",
      "% val:  0.0\n",
      "% test:  0.15317786922725193\n",
      "% train + val + test:  1.0\n",
      "\n",
      "\n",
      "number of train hamiltonians:  5556\n",
      "number of val hamiltonians:  0\n",
      "number of test hamiltonians:  1005\n",
      "total number of hamiltonians:  6561\n",
      "\n",
      "\n",
      "train ids:  [9, 10, 11, 12, 13, 14, 15, 16, 17, 18, 19, 20, 21, 22, 23, 24, 25, 26, 27, 28, 29, 30, 31, 32, 33, 34, 35, 36, 37, 38, 39, 40, 41, 42, 43, 44, 45, 46, 47, 48, 49, 50, 51, 52, 53, 54, 55, 56, 57, 58, 59, 60, 61, 62, 63, 64, 65, 66, 67, 68, 69, 70, 71, 72, 73, 74, 75, 76, 77, 91, 92, 93, 94, 95, 96, 97, 98, 99, 100, 101, 102, 103, 104, 105, 106, 107, 108, 109, 110, 111, 112, 113, 114, 115, 116, 117, 118, 119, 120, 121, 122, 123, 124, 125, 126, 127, 128, 129, 130, 131, 132, 133, 134, 135, 136, 137, 138, 139, 140, 141, 142, 143, 144, 145, 146, 147, 148, 149, 150, 151, 152, 153, 154, 155, 156, 157, 172, 173, 174, 175, 176, 177, 178, 179, 180, 181, 182, 183, 184, 185, 186, 187, 188, 189, 190, 191, 192, 193, 194, 195, 196, 197, 198, 199, 200, 201, 202, 203, 204, 205, 206, 207, 208, 209, 210, 211, 212, 213, 214, 215, 216, 217, 218, 219, 220, 221, 222, 223, 224, 225, 226, 227, 228, 229, 230, 231, 232, 233, 234, 235, 236, 237, 254, 255, 256, 257, 258, 259, 260, 261, 262, 263, 264, 265, 266, 267, 268, 269, 270, 271, 272, 273, 274, 275, 276, 277, 278, 279, 280, 281, 282, 283, 284, 285, 286, 287, 288, 289, 290, 291, 292, 293, 294, 295, 296, 297, 298, 299, 300, 301, 302, 303, 304, 305, 306, 307, 308, 309, 310, 311, 312, 313, 314, 315, 316, 317, 323, 336, 337, 338, 339, 340, 341, 342, 343, 344, 345, 346, 347, 348, 349, 350, 351, 352, 353, 354, 355, 356, 357, 358, 359, 360, 361, 362, 363, 364, 365, 366, 367, 368, 369, 370, 371, 372, 373, 374, 375, 376, 377, 378, 379, 380, 381, 382, 383, 384, 385, 386, 387, 388, 389, 390, 391, 392, 393, 394, 395, 396, 397, 403, 404, 418, 419, 420, 421, 422, 423, 424, 425, 426, 427, 428, 429, 430, 431, 432, 433, 434, 435, 436, 437, 438, 439, 440, 441, 442, 443, 444, 445, 446, 447, 448, 449, 450, 451, 452, 453, 454, 455, 456, 457, 458, 459, 460, 461, 462, 463, 464, 465, 466, 467, 468, 469, 470, 471, 472, 473, 474, 475, 476, 477, 483, 484, 485, 500, 501, 502, 503, 504, 505, 506, 507, 508, 509, 510, 511, 512, 513, 514, 515, 516, 517, 518, 519, 520, 521, 522, 523, 524, 525, 526, 527, 528, 529, 530, 531, 532, 533, 534, 535, 536, 537, 538, 539, 540, 541, 542, 543, 544, 545, 546, 547, 548, 549, 550, 551, 552, 553, 554, 555, 556, 557, 563, 564, 565, 566, 581, 582, 583, 584, 585, 586, 587, 588, 589, 590, 591, 592, 593, 594, 595, 596, 597, 598, 599, 600, 601, 602, 603, 604, 605, 606, 607, 608, 609, 610, 611, 612, 613, 614, 615, 616, 617, 618, 619, 620, 621, 622, 623, 624, 625, 626, 627, 628, 629, 630, 631, 632, 633, 634, 635, 636, 637, 643, 644, 645, 646, 647, 663, 664, 665, 666, 667, 668, 669, 670, 671, 672, 673, 674, 675, 676, 677, 678, 679, 680, 681, 682, 683, 684, 685, 686, 687, 688, 689, 690, 691, 692, 693, 694, 695, 696, 697, 698, 699, 700, 701, 702, 703, 704, 705, 706, 707, 708, 709, 710, 711, 712, 713, 714, 715, 716, 717, 723, 724, 725, 726, 727, 728, 745, 746, 747, 748, 749, 750, 751, 752, 753, 754, 755, 756, 757, 758, 759, 760, 761, 762, 763, 764, 765, 766, 767, 768, 769, 770, 771, 772, 773, 774, 775, 776, 777, 778, 779, 780, 781, 782, 783, 784, 785, 786, 787, 788, 789, 790, 791, 792, 793, 794, 795, 796, 797, 803, 804, 805, 806, 807, 808, 809, 827, 828, 829, 830, 831, 832, 833, 834, 835, 836, 837, 838, 839, 840, 841, 842, 843, 844, 845, 846, 847, 848, 849, 850, 851, 852, 853, 854, 855, 856, 857, 858, 859, 860, 861, 862, 863, 864, 865, 866, 867, 868, 869, 870, 871, 872, 873, 874, 875, 876, 877, 883, 884, 885, 886, 887, 888, 889, 890, 891, 909, 910, 911, 912, 913, 914, 915, 916, 917, 918, 919, 920, 921, 922, 923, 924, 925, 926, 927, 928, 929, 930, 931, 932, 933, 934, 935, 936, 937, 938, 939, 940, 941, 942, 943, 944, 945, 946, 947, 948, 949, 950, 951, 952, 953, 954, 955, 956, 957, 963, 964, 965, 966, 967, 968, 969, 970, 971, 972, 973, 990, 991, 992, 993, 994, 995, 996, 997, 998, 999, 1000, 1001, 1002, 1003, 1004, 1005, 1006, 1007, 1008, 1009, 1010, 1011, 1012, 1013, 1014, 1015, 1016, 1017, 1018, 1019, 1020, 1021, 1022, 1023, 1024, 1025, 1026, 1027, 1028, 1029, 1030, 1031, 1032, 1033, 1034, 1035, 1036, 1037, 1038, 1042, 1043, 1044, 1045, 1046, 1047, 1048, 1049, 1050, 1051, 1052, 1053, 1054, 1055, 1056, 1072, 1073, 1074, 1075, 1076, 1077, 1078, 1079, 1080, 1081, 1082, 1083, 1084, 1085, 1086, 1087, 1088, 1089, 1090, 1091, 1092, 1093, 1094, 1095, 1096, 1097, 1098, 1099, 1100, 1101, 1102, 1103, 1104, 1105, 1106, 1107, 1108, 1109, 1110, 1111, 1112, 1113, 1114, 1115, 1116, 1117, 1118, 1122, 1123, 1124, 1125, 1126, 1127, 1128, 1129, 1130, 1131, 1132, 1133, 1134, 1135, 1136, 1137, 1138, 1154, 1155, 1156, 1157, 1158, 1159, 1160, 1161, 1162, 1163, 1164, 1165, 1166, 1167, 1168, 1169, 1170, 1171, 1172, 1173, 1174, 1175, 1176, 1177, 1178, 1179, 1180, 1181, 1182, 1183, 1184, 1185, 1186, 1187, 1188, 1189, 1190, 1191, 1192, 1193, 1194, 1195, 1196, 1197, 1198, 1202, 1203, 1204, 1205, 1206, 1207, 1208, 1209, 1210, 1211, 1212, 1213, 1214, 1215, 1216, 1217, 1218, 1219, 1220, 1236, 1237, 1238, 1239, 1240, 1241, 1242, 1243, 1244, 1245, 1246, 1247, 1248, 1249, 1250, 1251, 1252, 1253, 1254, 1255, 1256, 1257, 1258, 1259, 1260, 1261, 1262, 1263, 1264, 1265, 1266, 1267, 1268, 1269, 1270, 1271, 1272, 1273, 1274, 1275, 1276, 1277, 1278, 1282, 1283, 1284, 1285, 1286, 1287, 1288, 1289, 1290, 1291, 1292, 1293, 1294, 1295, 1296, 1297, 1298, 1299, 1300, 1301, 1302, 1303, 1317, 1318, 1319, 1320, 1321, 1322, 1323, 1324, 1325, 1326, 1327, 1328, 1329, 1330, 1331, 1332, 1333, 1334, 1335, 1336, 1337, 1338, 1339, 1340, 1341, 1342, 1343, 1344, 1345, 1346, 1347, 1348, 1349, 1350, 1351, 1352, 1353, 1354, 1355, 1356, 1357, 1358, 1362, 1363, 1364, 1365, 1366, 1367, 1368, 1369, 1370, 1371, 1372, 1373, 1374, 1375, 1376, 1377, 1378, 1379, 1380, 1381, 1382, 1383, 1384, 1385, 1399, 1400, 1401, 1402, 1403, 1404, 1405, 1406, 1407, 1408, 1409, 1410, 1411, 1412, 1413, 1414, 1415, 1416, 1417, 1418, 1419, 1420, 1421, 1422, 1423, 1424, 1425, 1426, 1427, 1428, 1429, 1430, 1431, 1432, 1433, 1434, 1435, 1436, 1437, 1438, 1442, 1443, 1444, 1445, 1446, 1447, 1448, 1449, 1450, 1451, 1452, 1453, 1454, 1455, 1456, 1457, 1458, 1459, 1460, 1461, 1462, 1463, 1464, 1465, 1466, 1467, 1468, 1481, 1482, 1483, 1484, 1485, 1486, 1487, 1488, 1489, 1490, 1491, 1492, 1493, 1494, 1495, 1496, 1497, 1498, 1499, 1500, 1501, 1502, 1503, 1504, 1505, 1506, 1507, 1508, 1509, 1510, 1511, 1512, 1513, 1514, 1515, 1516, 1517, 1518, 1522, 1523, 1524, 1525, 1526, 1527, 1528, 1529, 1530, 1531, 1532, 1533, 1534, 1535, 1536, 1537, 1538, 1539, 1540, 1541, 1542, 1543, 1544, 1545, 1546, 1547, 1548, 1549, 1550, 1563, 1564, 1565, 1566, 1567, 1568, 1569, 1570, 1571, 1572, 1573, 1574, 1575, 1576, 1577, 1578, 1579, 1580, 1581, 1582, 1583, 1584, 1585, 1586, 1587, 1588, 1589, 1590, 1591, 1592, 1593, 1594, 1595, 1596, 1597, 1598, 1602, 1603, 1604, 1605, 1606, 1607, 1608, 1609, 1610, 1611, 1612, 1613, 1614, 1615, 1616, 1617, 1618, 1619, 1620, 1621, 1622, 1623, 1624, 1625, 1626, 1627, 1628, 1629, 1630, 1631, 1632, 1645, 1646, 1647, 1648, 1649, 1650, 1651, 1652, 1653, 1654, 1655, 1656, 1657, 1658, 1659, 1660, 1661, 1662, 1663, 1664, 1665, 1666, 1667, 1668, 1669, 1670, 1671, 1672, 1673, 1674, 1675, 1676, 1677, 1678, 1682, 1683, 1684, 1685, 1686, 1687, 1688, 1689, 1690, 1691, 1692, 1693, 1694, 1695, 1696, 1697, 1698, 1699, 1700, 1701, 1702, 1703, 1704, 1705, 1706, 1707, 1708, 1709, 1710, 1711, 1712, 1713, 1714, 1715, 1726, 1727, 1728, 1729, 1730, 1731, 1732, 1733, 1734, 1735, 1736, 1737, 1738, 1739, 1740, 1741, 1742, 1743, 1744, 1745, 1746, 1747, 1748, 1749, 1750, 1751, 1752, 1753, 1754, 1755, 1756, 1757, 1758, 1762, 1763, 1764, 1765, 1766, 1767, 1768, 1769, 1770, 1771, 1772, 1773, 1774, 1775, 1776, 1777, 1778, 1779, 1780, 1781, 1782, 1783, 1784, 1785, 1786, 1787, 1788, 1789, 1790, 1791, 1792, 1793, 1794, 1795, 1796, 1797, 1808, 1809, 1810, 1811, 1812, 1813, 1814, 1815, 1816, 1817, 1818, 1819, 1820, 1821, 1822, 1823, 1824, 1825, 1826, 1827, 1828, 1829, 1830, 1831, 1832, 1833, 1834, 1835, 1836, 1837, 1838, 1842, 1843, 1844, 1845, 1846, 1847, 1848, 1849, 1850, 1851, 1852, 1853, 1854, 1855, 1856, 1857, 1858, 1859, 1860, 1861, 1862, 1863, 1864, 1865, 1866, 1867, 1868, 1869, 1870, 1871, 1872, 1873, 1874, 1875, 1876, 1877, 1878, 1879, 1890, 1891, 1892, 1893, 1894, 1895, 1896, 1897, 1898, 1899, 1900, 1901, 1902, 1903, 1904, 1905, 1906, 1907, 1908, 1909, 1910, 1911, 1912, 1913, 1914, 1915, 1916, 1917, 1918, 1922, 1923, 1924, 1925, 1926, 1927, 1928, 1929, 1930, 1931, 1932, 1933, 1934, 1935, 1936, 1937, 1938, 1939, 1940, 1941, 1942, 1943, 1944, 1945, 1946, 1947, 1948, 1949, 1950, 1951, 1952, 1953, 1954, 1955, 1956, 1957, 1958, 1959, 1960, 1961, 1962, 1972, 1973, 1974, 1975, 1976, 1977, 1978, 1979, 1980, 1981, 1982, 1983, 1984, 1985, 1986, 1987, 1988, 1989, 1990, 1991, 1992, 1993, 1994, 1995, 1996, 1997, 1998, 2002, 2003, 2004, 2005, 2006, 2007, 2008, 2009, 2010, 2011, 2012, 2013, 2014, 2015, 2016, 2017, 2018, 2019, 2020, 2021, 2022, 2023, 2024, 2025, 2026, 2027, 2028, 2029, 2030, 2031, 2032, 2033, 2034, 2035, 2036, 2037, 2038, 2039, 2040, 2041, 2042, 2043, 2044, 2054, 2055, 2056, 2057, 2058, 2059, 2060, 2061, 2062, 2063, 2064, 2065, 2066, 2067, 2068, 2069, 2070, 2071, 2072, 2073, 2074, 2075, 2076, 2077, 2078, 2082, 2083, 2084, 2085, 2086, 2087, 2088, 2089, 2090, 2091, 2092, 2093, 2094, 2095, 2096, 2097, 2098, 2099, 2100, 2101, 2102, 2103, 2104, 2105, 2106, 2107, 2108, 2109, 2110, 2111, 2112, 2113, 2114, 2115, 2116, 2117, 2118, 2119, 2120, 2121, 2122, 2123, 2124, 2125, 2126, 2135, 2136, 2137, 2138, 2139, 2140, 2141, 2142, 2143, 2144, 2145, 2146, 2147, 2148, 2149, 2150, 2151, 2152, 2153, 2154, 2155, 2156, 2157, 2158, 2159, 2161, 2162, 2163, 2164, 2165, 2166, 2167, 2168, 2169, 2170, 2171, 2172, 2173, 2174, 2175, 2176, 2177, 2178, 2179, 2180, 2181, 2182, 2183, 2184, 2185, 2186, 2187, 2188, 2189, 2190, 2191, 2192, 2193, 2194, 2195, 2196, 2197, 2198, 2199, 2200, 2201, 2202, 2203, 2204, 2205, 2206, 2207, 2208, 2209, 2217, 2218, 2219, 2220, 2221, 2222, 2223, 2224, 2225, 2226, 2227, 2228, 2229, 2230, 2231, 2232, 2233, 2234, 2235, 2236, 2237, 2238, 2239, 2241, 2242, 2243, 2244, 2245, 2246, 2247, 2248, 2249, 2250, 2251, 2252, 2253, 2254, 2255, 2256, 2257, 2258, 2259, 2260, 2261, 2262, 2263, 2264, 2265, 2266, 2267, 2268, 2269, 2270, 2271, 2272, 2273, 2274, 2275, 2276, 2277, 2278, 2279, 2280, 2281, 2282, 2283, 2284, 2285, 2286, 2287, 2288, 2289, 2290, 2291, 2299, 2300, 2301, 2302, 2303, 2304, 2305, 2306, 2307, 2308, 2309, 2310, 2311, 2312, 2313, 2314, 2315, 2316, 2317, 2318, 2319, 2321, 2322, 2323, 2324, 2325, 2326, 2327, 2328, 2329, 2330, 2331, 2332, 2333, 2334, 2335, 2336, 2337, 2338, 2339, 2340, 2341, 2342, 2343, 2344, 2345, 2346, 2347, 2348, 2349, 2350, 2351, 2352, 2353, 2354, 2355, 2356, 2357, 2358, 2359, 2360, 2361, 2362, 2363, 2364, 2365, 2366, 2367, 2368, 2369, 2370, 2371, 2372, 2373, 2374, 2381, 2382, 2383, 2384, 2385, 2386, 2387, 2388, 2389, 2390, 2391, 2392, 2393, 2394, 2395, 2396, 2397, 2398, 2399, 2401, 2402, 2403, 2404, 2405, 2406, 2407, 2408, 2409, 2410, 2411, 2412, 2413, 2414, 2415, 2416, 2417, 2418, 2419, 2420, 2421, 2422, 2423, 2424, 2425, 2426, 2427, 2428, 2429, 2430, 2431, 2432, 2433, 2434, 2435, 2436, 2437, 2438, 2439, 2440, 2441, 2442, 2443, 2444, 2445, 2446, 2447, 2448, 2449, 2450, 2451, 2452, 2453, 2454, 2455, 2456, 2463, 2464, 2465, 2466, 2467, 2468, 2469, 2470, 2471, 2472, 2473, 2474, 2475, 2476, 2477, 2478, 2479, 2481, 2482, 2483, 2484, 2485, 2486, 2487, 2488, 2489, 2490, 2491, 2492, 2493, 2494, 2495, 2496, 2497, 2498, 2499, 2500, 2501, 2502, 2503, 2504, 2505, 2506, 2507, 2508, 2509, 2510, 2511, 2512, 2513, 2514, 2515, 2516, 2517, 2518, 2519, 2520, 2521, 2522, 2523, 2524, 2525, 2526, 2527, 2528, 2529, 2530, 2531, 2532, 2533, 2534, 2535, 2536, 2537, 2538, 2544, 2545, 2546, 2547, 2548, 2549, 2550, 2551, 2552, 2553, 2554, 2555, 2556, 2557, 2558, 2559, 2561, 2562, 2563, 2564, 2565, 2566, 2567, 2568, 2569, 2570, 2571, 2572, 2573, 2574, 2575, 2576, 2577, 2578, 2579, 2580, 2581, 2582, 2583, 2584, 2585, 2586, 2587, 2588, 2589, 2590, 2591, 2592, 2593, 2594, 2595, 2596, 2597, 2598, 2599, 2600, 2601, 2602, 2603, 2604, 2605, 2606, 2607, 2608, 2609, 2610, 2611, 2612, 2613, 2614, 2615, 2616, 2617, 2618, 2619, 2620, 2621, 2626, 2627, 2628, 2629, 2630, 2631, 2632, 2633, 2634, 2635, 2636, 2637, 2638, 2639, 2641, 2642, 2643, 2644, 2645, 2646, 2647, 2648, 2649, 2650, 2651, 2652, 2653, 2654, 2655, 2656, 2657, 2658, 2659, 2660, 2661, 2662, 2663, 2664, 2665, 2666, 2667, 2668, 2669, 2670, 2671, 2672, 2673, 2674, 2675, 2676, 2677, 2678, 2679, 2680, 2681, 2682, 2683, 2684, 2685, 2686, 2687, 2688, 2689, 2690, 2691, 2692, 2693, 2694, 2695, 2696, 2697, 2698, 2699, 2700, 2701, 2702, 2703, 2708, 2709, 2710, 2711, 2712, 2713, 2714, 2715, 2716, 2717, 2718, 2719, 2721, 2722, 2723, 2724, 2725, 2726, 2727, 2728, 2729, 2730, 2731, 2732, 2733, 2734, 2735, 2736, 2737, 2738, 2739, 2740, 2741, 2742, 2743, 2744, 2745, 2746, 2747, 2748, 2749, 2750, 2751, 2752, 2753, 2754, 2755, 2756, 2757, 2758, 2759, 2760, 2761, 2762, 2763, 2764, 2765, 2766, 2767, 2768, 2769, 2770, 2771, 2772, 2773, 2774, 2775, 2776, 2777, 2778, 2779, 2780, 2781, 2782, 2783, 2784, 2785, 2790, 2791, 2792, 2793, 2794, 2795, 2796, 2797, 2798, 2799, 2801, 2802, 2803, 2804, 2805, 2806, 2807, 2808, 2809, 2810, 2811, 2812, 2813, 2814, 2815, 2816, 2817, 2818, 2819, 2820, 2821, 2822, 2823, 2824, 2825, 2826, 2827, 2828, 2829, 2830, 2831, 2832, 2833, 2834, 2835, 2836, 2837, 2838, 2839, 2840, 2841, 2842, 2843, 2844, 2845, 2846, 2847, 2848, 2849, 2850, 2851, 2852, 2853, 2854, 2855, 2856, 2857, 2858, 2859, 2860, 2861, 2862, 2863, 2864, 2865, 2866, 2867, 2868, 2872, 2873, 2874, 2875, 2876, 2877, 2878, 2879, 2881, 2882, 2883, 2884, 2885, 2886, 2887, 2888, 2889, 2890, 2891, 2892, 2893, 2894, 2895, 2896, 2897, 2898, 2899, 2900, 2901, 2902, 2903, 2904, 2905, 2906, 2907, 2908, 2909, 2910, 2911, 2912, 2913, 2914, 2915, 2916, 2917, 2918, 2919, 2920, 2921, 2922, 2923, 2924, 2925, 2926, 2927, 2928, 2929, 2930, 2931, 2932, 2933, 2934, 2935, 2936, 2937, 2938, 2939, 2940, 2941, 2942, 2943, 2944, 2945, 2946, 2947, 2948, 2949, 2950, 2953, 2954, 2955, 2956, 2957, 2958, 2959, 2961, 2962, 2963, 2964, 2965, 2966, 2967, 2968, 2969, 2970, 2971, 2972, 2973, 2974, 2975, 2976, 2977, 2978, 2979, 2980, 2981, 2982, 2983, 2984, 2985, 2986, 2987, 2988, 2989, 2990, 2991, 2992, 2993, 2994, 2995, 2996, 2997, 2998, 2999, 3000, 3001, 3002, 3003, 3004, 3005, 3006, 3007, 3008, 3009, 3010, 3011, 3012, 3013, 3014, 3015, 3016, 3017, 3018, 3019, 3020, 3021, 3022, 3023, 3024, 3025, 3026, 3027, 3028, 3029, 3030, 3031, 3032, 3035, 3036, 3037, 3038, 3039, 3041, 3042, 3043, 3044, 3045, 3046, 3047, 3048, 3049, 3050, 3051, 3052, 3053, 3054, 3055, 3056, 3057, 3058, 3059, 3060, 3061, 3062, 3063, 3064, 3065, 3066, 3067, 3068, 3069, 3070, 3071, 3072, 3073, 3074, 3075, 3076, 3077, 3078, 3079, 3080, 3081, 3082, 3083, 3084, 3085, 3086, 3087, 3088, 3089, 3090, 3091, 3092, 3093, 3094, 3095, 3096, 3097, 3098, 3099, 3100, 3101, 3102, 3103, 3104, 3105, 3106, 3107, 3108, 3109, 3110, 3111, 3112, 3113, 3114, 3115, 3117, 3118, 3119, 3121, 3122, 3123, 3124, 3125, 3126, 3127, 3128, 3129, 3130, 3131, 3132, 3133, 3134, 3135, 3136, 3137, 3138, 3139, 3140, 3141, 3142, 3143, 3144, 3145, 3146, 3147, 3148, 3149, 3150, 3151, 3152, 3153, 3154, 3155, 3156, 3157, 3158, 3159, 3160, 3161, 3162, 3163, 3164, 3165, 3166, 3167, 3168, 3169, 3170, 3171, 3172, 3173, 3174, 3175, 3176, 3177, 3178, 3179, 3180, 3181, 3182, 3183, 3184, 3185, 3186, 3187, 3188, 3189, 3190, 3191, 3192, 3193, 3194, 3195, 3196, 3197, 3199, 3201, 3202, 3203, 3204, 3205, 3206, 3207, 3208, 3209, 3210, 3211, 3212, 3213, 3214, 3215, 3216, 3217, 3218, 3219, 3220, 3221, 3222, 3223, 3224, 3225, 3226, 3227, 3228, 3229, 3230, 3231, 3232, 3233, 3234, 3235, 3236, 3237, 3238, 3239, 3240, 3241, 3242, 3243, 3244, 3245, 3246, 3247, 3248, 3249, 3250, 3251, 3252, 3253, 3254, 3255, 3256, 3257, 3258, 3259, 3260, 3261, 3262, 3263, 3264, 3265, 3266, 3267, 3268, 3269, 3270, 3271, 3272, 3273, 3274, 3275, 3276, 3277, 3278, 3279, 3281, 3282, 3283, 3284, 3285, 3286, 3287, 3288, 3289, 3290, 3291, 3292, 3293, 3294, 3295, 3296, 3297, 3298, 3299, 3300, 3301, 3302, 3303, 3304, 3305, 3306, 3307, 3308, 3309, 3310, 3311, 3312, 3313, 3314, 3315, 3316, 3317, 3318, 3319, 3320, 3321, 3322, 3323, 3324, 3325, 3326, 3327, 3328, 3329, 3330, 3331, 3332, 3333, 3334, 3335, 3336, 3337, 3338, 3339, 3340, 3341, 3342, 3343, 3344, 3345, 3346, 3347, 3348, 3349, 3350, 3351, 3352, 3353, 3354, 3355, 3356, 3357, 3358, 3359, 3361, 3363, 3364, 3365, 3366, 3367, 3368, 3369, 3370, 3371, 3372, 3373, 3374, 3375, 3376, 3377, 3378, 3379, 3380, 3381, 3382, 3383, 3384, 3385, 3386, 3387, 3388, 3389, 3390, 3391, 3392, 3393, 3394, 3395, 3396, 3397, 3398, 3399, 3400, 3401, 3402, 3403, 3404, 3405, 3406, 3407, 3408, 3409, 3410, 3411, 3412, 3413, 3414, 3415, 3416, 3417, 3418, 3419, 3420, 3421, 3422, 3423, 3424, 3425, 3426, 3427, 3428, 3429, 3430, 3431, 3432, 3433, 3434, 3435, 3436, 3437, 3438, 3439, 3441, 3442, 3443, 3445, 3446, 3447, 3448, 3449, 3450, 3451, 3452, 3453, 3454, 3455, 3456, 3457, 3458, 3459, 3460, 3461, 3462, 3463, 3464, 3465, 3466, 3467, 3468, 3469, 3470, 3471, 3472, 3473, 3474, 3475, 3476, 3477, 3478, 3479, 3480, 3481, 3482, 3483, 3484, 3485, 3486, 3487, 3488, 3489, 3490, 3491, 3492, 3493, 3494, 3495, 3496, 3497, 3498, 3499, 3500, 3501, 3502, 3503, 3504, 3505, 3506, 3507, 3508, 3509, 3510, 3511, 3512, 3513, 3514, 3515, 3516, 3517, 3518, 3519, 3521, 3522, 3523, 3524, 3525, 3528, 3529, 3530, 3531, 3532, 3533, 3534, 3535, 3536, 3537, 3538, 3539, 3540, 3541, 3542, 3543, 3544, 3545, 3546, 3547, 3548, 3549, 3550, 3551, 3552, 3553, 3554, 3555, 3556, 3557, 3558, 3559, 3560, 3561, 3562, 3563, 3564, 3565, 3566, 3567, 3568, 3569, 3570, 3571, 3572, 3573, 3574, 3575, 3576, 3577, 3578, 3579, 3580, 3581, 3582, 3583, 3584, 3585, 3586, 3587, 3588, 3589, 3590, 3591, 3592, 3593, 3594, 3595, 3596, 3597, 3598, 3599, 3601, 3602, 3603, 3604, 3605, 3606, 3607, 3610, 3611, 3612, 3613, 3614, 3615, 3616, 3617, 3618, 3619, 3620, 3621, 3622, 3623, 3624, 3625, 3626, 3627, 3628, 3629, 3630, 3631, 3632, 3633, 3634, 3635, 3636, 3637, 3638, 3639, 3640, 3641, 3642, 3643, 3644, 3645, 3646, 3647, 3648, 3649, 3650, 3651, 3652, 3653, 3654, 3655, 3656, 3657, 3658, 3659, 3660, 3661, 3662, 3663, 3664, 3665, 3666, 3667, 3668, 3669, 3670, 3671, 3672, 3673, 3674, 3675, 3676, 3677, 3678, 3679, 3681, 3682, 3683, 3684, 3685, 3686, 3687, 3688, 3692, 3693, 3694, 3695, 3696, 3697, 3698, 3699, 3700, 3701, 3702, 3703, 3704, 3705, 3706, 3707, 3708, 3709, 3710, 3711, 3712, 3713, 3714, 3715, 3716, 3717, 3718, 3719, 3720, 3721, 3722, 3723, 3724, 3725, 3726, 3727, 3728, 3729, 3730, 3731, 3732, 3733, 3734, 3735, 3736, 3737, 3738, 3739, 3740, 3741, 3742, 3743, 3744, 3745, 3746, 3747, 3748, 3749, 3750, 3751, 3752, 3753, 3754, 3755, 3756, 3757, 3758, 3759, 3761, 3762, 3763, 3764, 3765, 3766, 3767, 3768, 3769, 3770, 3775, 3776, 3777, 3778, 3779, 3780, 3781, 3782, 3783, 3784, 3785, 3786, 3787, 3788, 3789, 3790, 3791, 3792, 3793, 3794, 3795, 3796, 3797, 3798, 3799, 3800, 3801, 3802, 3803, 3804, 3805, 3806, 3807, 3808, 3809, 3810, 3811, 3812, 3813, 3814, 3815, 3816, 3817, 3818, 3819, 3820, 3821, 3822, 3823, 3824, 3825, 3826, 3827, 3828, 3829, 3830, 3831, 3832, 3833, 3834, 3835, 3836, 3837, 3838, 3839, 3841, 3842, 3843, 3844, 3845, 3846, 3847, 3848, 3849, 3850, 3851, 3852, 3857, 3858, 3859, 3860, 3861, 3862, 3863, 3864, 3865, 3866, 3867, 3868, 3869, 3870, 3871, 3872, 3873, 3874, 3875, 3876, 3877, 3878, 3879, 3880, 3881, 3882, 3883, 3884, 3885, 3886, 3887, 3888, 3889, 3890, 3891, 3892, 3893, 3894, 3895, 3896, 3897, 3898, 3899, 3900, 3901, 3902, 3903, 3904, 3905, 3906, 3907, 3908, 3909, 3910, 3911, 3912, 3913, 3914, 3915, 3916, 3917, 3918, 3919, 3921, 3922, 3923, 3924, 3925, 3926, 3927, 3928, 3929, 3930, 3931, 3932, 3933, 3934, 3939, 3940, 3941, 3942, 3943, 3944, 3945, 3946, 3947, 3948, 3949, 3950, 3951, 3952, 3953, 3954, 3955, 3956, 3957, 3958, 3959, 3960, 3961, 3962, 3963, 3964, 3965, 3966, 3967, 3968, 3969, 3970, 3971, 3972, 3973, 3974, 3975, 3976, 3977, 3978, 3979, 3980, 3981, 3982, 3983, 3984, 3985, 3986, 3987, 3988, 3989, 3990, 3991, 3992, 3993, 3994, 3995, 3996, 3997, 3998, 3999, 4001, 4002, 4003, 4004, 4005, 4006, 4007, 4008, 4009, 4010, 4011, 4012, 4013, 4014, 4015, 4016, 4022, 4023, 4024, 4025, 4026, 4027, 4028, 4029, 4030, 4031, 4032, 4033, 4034, 4035, 4036, 4037, 4038, 4039, 4040, 4041, 4042, 4043, 4044, 4045, 4046, 4047, 4048, 4049, 4050, 4051, 4052, 4053, 4054, 4055, 4056, 4057, 4058, 4059, 4060, 4061, 4062, 4063, 4064, 4065, 4066, 4067, 4068, 4069, 4070, 4071, 4072, 4073, 4074, 4075, 4076, 4077, 4078, 4079, 4081, 4082, 4083, 4084, 4085, 4086, 4087, 4088, 4089, 4090, 4091, 4092, 4093, 4094, 4095, 4096, 4097, 4104, 4105, 4106, 4107, 4108, 4109, 4110, 4111, 4112, 4113, 4114, 4115, 4116, 4117, 4118, 4119, 4120, 4121, 4122, 4123, 4124, 4125, 4126, 4127, 4128, 4129, 4130, 4131, 4132, 4133, 4134, 4135, 4136, 4137, 4138, 4139, 4140, 4141, 4142, 4143, 4144, 4145, 4146, 4147, 4148, 4149, 4150, 4151, 4152, 4153, 4154, 4155, 4156, 4157, 4158, 4159, 4161, 4162, 4163, 4164, 4165, 4166, 4167, 4168, 4169, 4170, 4171, 4172, 4173, 4174, 4175, 4176, 4177, 4178, 4179, 4186, 4187, 4188, 4189, 4190, 4191, 4192, 4193, 4194, 4195, 4196, 4197, 4198, 4199, 4200, 4201, 4202, 4203, 4204, 4205, 4206, 4207, 4208, 4209, 4210, 4211, 4212, 4213, 4214, 4215, 4216, 4217, 4218, 4219, 4220, 4221, 4222, 4223, 4224, 4225, 4226, 4227, 4228, 4229, 4230, 4231, 4232, 4233, 4234, 4235, 4236, 4237, 4238, 4239, 4241, 4242, 4243, 4244, 4245, 4246, 4247, 4248, 4249, 4250, 4251, 4252, 4253, 4254, 4255, 4256, 4257, 4258, 4259, 4260, 4261, 4269, 4270, 4271, 4272, 4273, 4274, 4275, 4276, 4277, 4278, 4279, 4280, 4281, 4282, 4283, 4284, 4285, 4286, 4287, 4288, 4289, 4290, 4291, 4292, 4293, 4294, 4295, 4296, 4297, 4298, 4299, 4300, 4301, 4302, 4303, 4304, 4305, 4306, 4307, 4308, 4309, 4310, 4311, 4312, 4313, 4314, 4315, 4316, 4317, 4318, 4319, 4321, 4322, 4323, 4324, 4325, 4326, 4327, 4328, 4329, 4330, 4331, 4332, 4333, 4334, 4335, 4336, 4337, 4338, 4339, 4340, 4341, 4342, 4343, 4351, 4352, 4353, 4354, 4355, 4356, 4357, 4358, 4359, 4360, 4361, 4362, 4363, 4364, 4365, 4366, 4367, 4368, 4369, 4370, 4371, 4372, 4373, 4374, 4375, 4376, 4377, 4378, 4379, 4380, 4381, 4382, 4383, 4384, 4385, 4386, 4387, 4388, 4389, 4390, 4391, 4392, 4393, 4394, 4395, 4396, 4397, 4398, 4399, 4401, 4402, 4403, 4404, 4405, 4406, 4407, 4408, 4409, 4410, 4411, 4412, 4413, 4414, 4415, 4416, 4417, 4418, 4419, 4420, 4421, 4422, 4423, 4424, 4425, 4434, 4435, 4436, 4437, 4438, 4439, 4440, 4441, 4442, 4443, 4444, 4445, 4446, 4447, 4448, 4449, 4450, 4451, 4452, 4453, 4454, 4455, 4456, 4457, 4458, 4459, 4460, 4461, 4462, 4463, 4464, 4465, 4466, 4467, 4468, 4469, 4470, 4471, 4472, 4473, 4474, 4475, 4476, 4477, 4478, 4482, 4483, 4484, 4485, 4486, 4487, 4488, 4489, 4490, 4491, 4492, 4493, 4494, 4495, 4496, 4497, 4498, 4499, 4500, 4501, 4502, 4503, 4504, 4505, 4506, 4516, 4517, 4518, 4519, 4520, 4521, 4522, 4523, 4524, 4525, 4526, 4527, 4528, 4529, 4530, 4531, 4532, 4533, 4534, 4535, 4536, 4537, 4538, 4539, 4540, 4541, 4542, 4543, 4544, 4545, 4546, 4547, 4548, 4549, 4550, 4551, 4552, 4553, 4554, 4555, 4556, 4557, 4558, 4562, 4563, 4564, 4565, 4566, 4567, 4568, 4569, 4570, 4571, 4572, 4573, 4574, 4575, 4576, 4577, 4578, 4579, 4580, 4581, 4582, 4583, 4584, 4585, 4586, 4587, 4588, 4598, 4599, 4600, 4601, 4602, 4603, 4604, 4605, 4606, 4607, 4608, 4609, 4610, 4611, 4612, 4613, 4614, 4615, 4616, 4617, 4618, 4619, 4620, 4621, 4622, 4623, 4624, 4625, 4626, 4627, 4628, 4629, 4630, 4631, 4632, 4633, 4634, 4635, 4636, 4637, 4638, 4642, 4643, 4644, 4645, 4646, 4647, 4648, 4649, 4650, 4651, 4652, 4653, 4654, 4655, 4656, 4657, 4658, 4659, 4660, 4661, 4662, 4663, 4664, 4665, 4666, 4667, 4668, 4669, 4670, 4681, 4682, 4683, 4684, 4685, 4686, 4687, 4688, 4689, 4690, 4691, 4692, 4693, 4694, 4695, 4696, 4697, 4698, 4699, 4700, 4701, 4702, 4703, 4704, 4705, 4706, 4707, 4708, 4709, 4710, 4711, 4712, 4713, 4714, 4715, 4716, 4717, 4718, 4722, 4723, 4724, 4725, 4726, 4727, 4728, 4729, 4730, 4731, 4732, 4733, 4734, 4735, 4736, 4737, 4738, 4739, 4740, 4741, 4742, 4743, 4744, 4745, 4746, 4747, 4748, 4749, 4750, 4751, 4752, 4763, 4764, 4765, 4766, 4767, 4768, 4769, 4770, 4771, 4772, 4773, 4774, 4775, 4776, 4777, 4778, 4779, 4780, 4781, 4782, 4783, 4784, 4785, 4786, 4787, 4788, 4789, 4790, 4791, 4792, 4793, 4794, 4795, 4796, 4797, 4798, 4802, 4803, 4804, 4805, 4806, 4807, 4808, 4809, 4810, 4811, 4812, 4813, 4814, 4815, 4816, 4817, 4818, 4819, 4820, 4821, 4822, 4823, 4824, 4825, 4826, 4827, 4828, 4829, 4830, 4831, 4832, 4833, 4834, 4845, 4846, 4847, 4848, 4849, 4850, 4851, 4852, 4853, 4854, 4855, 4856, 4857, 4858, 4859, 4860, 4861, 4862, 4863, 4864, 4865, 4866, 4867, 4868, 4869, 4870, 4871, 4872, 4873, 4874, 4875, 4876, 4877, 4878, 4882, 4883, 4884, 4885, 4886, 4887, 4888, 4889, 4890, 4891, 4892, 4893, 4894, 4895, 4896, 4897, 4898, 4899, 4900, 4901, 4902, 4903, 4904, 4905, 4906, 4907, 4908, 4909, 4910, 4911, 4912, 4913, 4914, 4915, 4928, 4929, 4930, 4931, 4932, 4933, 4934, 4935, 4936, 4937, 4938, 4939, 4940, 4941, 4942, 4943, 4944, 4945, 4946, 4947, 4948, 4949, 4950, 4951, 4952, 4953, 4954, 4955, 4956, 4957, 4958, 4962, 4963, 4964, 4965, 4966, 4967, 4968, 4969, 4970, 4971, 4972, 4973, 4974, 4975, 4976, 4977, 4978, 4979, 4980, 4981, 4982, 4983, 4984, 4985, 4986, 4987, 4988, 4989, 4990, 4991, 4992, 4993, 4994, 4995, 4996, 4997, 5010, 5011, 5012, 5013, 5014, 5015, 5016, 5017, 5018, 5019, 5020, 5021, 5022, 5023, 5024, 5025, 5026, 5027, 5028, 5029, 5030, 5031, 5032, 5033, 5034, 5035, 5036, 5037, 5038, 5042, 5043, 5044, 5045, 5046, 5047, 5048, 5049, 5050, 5051, 5052, 5053, 5054, 5055, 5056, 5057, 5058, 5059, 5060, 5061, 5062, 5063, 5064, 5065, 5066, 5067, 5068, 5069, 5070, 5071, 5072, 5073, 5074, 5075, 5076, 5077, 5078, 5079, 5092, 5093, 5094, 5095, 5096, 5097, 5098, 5099, 5100, 5101, 5102, 5103, 5104, 5105, 5106, 5107, 5108, 5109, 5110, 5111, 5112, 5113, 5114, 5115, 5116, 5117, 5118, 5122, 5123, 5124, 5125, 5126, 5127, 5128, 5129, 5130, 5131, 5132, 5133, 5134, 5135, 5136, 5137, 5138, 5139, 5140, 5141, 5142, 5143, 5144, 5145, 5146, 5147, 5148, 5149, 5150, 5151, 5152, 5153, 5154, 5155, 5156, 5157, 5158, 5159, 5160, 5161, 5175, 5176, 5177, 5178, 5179, 5180, 5181, 5182, 5183, 5184, 5185, 5186, 5187, 5188, 5189, 5190, 5191, 5192, 5193, 5194, 5195, 5196, 5197, 5198, 5202, 5203, 5204, 5205, 5206, 5207, 5208, 5209, 5210, 5211, 5212, 5213, 5214, 5215, 5216, 5217, 5218, 5219, 5220, 5221, 5222, 5223, 5224, 5225, 5226, 5227, 5228, 5229, 5230, 5231, 5232, 5233, 5234, 5235, 5236, 5237, 5238, 5239, 5240, 5241, 5242, 5243, 5257, 5258, 5259, 5260, 5261, 5262, 5263, 5264, 5265, 5266, 5267, 5268, 5269, 5270, 5271, 5272, 5273, 5274, 5275, 5276, 5277, 5278, 5282, 5283, 5284, 5285, 5286, 5287, 5288, 5289, 5290, 5291, 5292, 5293, 5294, 5295, 5296, 5297, 5298, 5299, 5300, 5301, 5302, 5303, 5304, 5305, 5306, 5307, 5308, 5309, 5310, 5311, 5312, 5313, 5314, 5315, 5316, 5317, 5318, 5319, 5320, 5321, 5322, 5323, 5324, 5340, 5341, 5342, 5343, 5344, 5345, 5346, 5347, 5348, 5349, 5350, 5351, 5352, 5353, 5354, 5355, 5356, 5357, 5358, 5362, 5363, 5364, 5365, 5366, 5367, 5368, 5369, 5370, 5371, 5372, 5373, 5374, 5375, 5376, 5377, 5378, 5379, 5380, 5381, 5382, 5383, 5384, 5385, 5386, 5387, 5388, 5389, 5390, 5391, 5392, 5393, 5394, 5395, 5396, 5397, 5398, 5399, 5400, 5401, 5402, 5403, 5404, 5405, 5406, 5422, 5423, 5424, 5425, 5426, 5427, 5428, 5429, 5430, 5431, 5432, 5433, 5434, 5435, 5436, 5437, 5438, 5442, 5443, 5444, 5445, 5446, 5447, 5448, 5449, 5450, 5451, 5452, 5453, 5454, 5455, 5456, 5457, 5458, 5459, 5460, 5461, 5462, 5463, 5464, 5465, 5466, 5467, 5468, 5469, 5470, 5471, 5472, 5473, 5474, 5475, 5476, 5477, 5478, 5479, 5480, 5481, 5482, 5483, 5484, 5485, 5486, 5487, 5488, 5504, 5505, 5506, 5507, 5508, 5509, 5510, 5511, 5512, 5513, 5514, 5515, 5516, 5517, 5518, 5522, 5523, 5524, 5525, 5526, 5527, 5528, 5529, 5530, 5531, 5532, 5533, 5534, 5535, 5536, 5537, 5538, 5539, 5540, 5541, 5542, 5543, 5544, 5545, 5546, 5547, 5548, 5549, 5550, 5551, 5552, 5553, 5554, 5555, 5556, 5557, 5558, 5559, 5560, 5561, 5562, 5563, 5564, 5565, 5566, 5567, 5568, 5569, 5570, 5587, 5588, 5589, 5590, 5591, 5592, 5593, 5594, 5595, 5596, 5597, 5603, 5604, 5605, 5606, 5607, 5608, 5609, 5610, 5611, 5612, 5613, 5614, 5615, 5616, 5617, 5618, 5619, 5620, 5621, 5622, 5623, 5624, 5625, 5626, 5627, 5628, 5629, 5630, 5631, 5632, 5633, 5634, 5635, 5636, 5637, 5638, 5639, 5640, 5641, 5642, 5643, 5644, 5645, 5646, 5647, 5648, 5649, 5650, 5651, 5669, 5670, 5671, 5672, 5673, 5674, 5675, 5676, 5677, 5683, 5684, 5685, 5686, 5687, 5688, 5689, 5690, 5691, 5692, 5693, 5694, 5695, 5696, 5697, 5698, 5699, 5700, 5701, 5702, 5703, 5704, 5705, 5706, 5707, 5708, 5709, 5710, 5711, 5712, 5713, 5714, 5715, 5716, 5717, 5718, 5719, 5720, 5721, 5722, 5723, 5724, 5725, 5726, 5727, 5728, 5729, 5730, 5731, 5732, 5733, 5751, 5752, 5753, 5754, 5755, 5756, 5757, 5763, 5764, 5765, 5766, 5767, 5768, 5769, 5770, 5771, 5772, 5773, 5774, 5775, 5776, 5777, 5778, 5779, 5780, 5781, 5782, 5783, 5784, 5785, 5786, 5787, 5788, 5789, 5790, 5791, 5792, 5793, 5794, 5795, 5796, 5797, 5798, 5799, 5800, 5801, 5802, 5803, 5804, 5805, 5806, 5807, 5808, 5809, 5810, 5811, 5812, 5813, 5814, 5815, 5832, 5833, 5834, 5835, 5836, 5837, 5843, 5844, 5845, 5846, 5847, 5848, 5849, 5850, 5851, 5852, 5853, 5854, 5855, 5856, 5857, 5858, 5859, 5860, 5861, 5862, 5863, 5864, 5865, 5866, 5867, 5868, 5869, 5870, 5871, 5872, 5873, 5874, 5875, 5876, 5877, 5878, 5879, 5880, 5881, 5882, 5883, 5884, 5885, 5886, 5887, 5888, 5889, 5890, 5891, 5892, 5893, 5894, 5895, 5896, 5897, 5913, 5914, 5915, 5916, 5917, 5923, 5924, 5925, 5926, 5927, 5928, 5929, 5930, 5931, 5932, 5933, 5934, 5935, 5936, 5937, 5938, 5939, 5940, 5941, 5942, 5943, 5944, 5945, 5946, 5947, 5948, 5949, 5950, 5951, 5952, 5953, 5954, 5955, 5956, 5957, 5958, 5959, 5960, 5961, 5962, 5963, 5964, 5965, 5966, 5967, 5968, 5969, 5970, 5971, 5972, 5973, 5974, 5975, 5976, 5977, 5978, 5979, 5994, 5995, 5996, 5997, 6003, 6004, 6005, 6006, 6007, 6008, 6009, 6010, 6011, 6012, 6013, 6014, 6015, 6016, 6017, 6018, 6019, 6020, 6021, 6022, 6023, 6024, 6025, 6026, 6027, 6028, 6029, 6030, 6031, 6032, 6033, 6034, 6035, 6036, 6037, 6038, 6039, 6040, 6041, 6042, 6043, 6044, 6045, 6046, 6047, 6048, 6049, 6050, 6051, 6052, 6053, 6054, 6055, 6056, 6057, 6058, 6059, 6060, 6075, 6076, 6077, 6083, 6084, 6085, 6086, 6087, 6088, 6089, 6090, 6091, 6092, 6093, 6094, 6095, 6096, 6097, 6098, 6099, 6100, 6101, 6102, 6103, 6104, 6105, 6106, 6107, 6108, 6109, 6110, 6111, 6112, 6113, 6114, 6115, 6116, 6117, 6118, 6119, 6120, 6121, 6122, 6123, 6124, 6125, 6126, 6127, 6128, 6129, 6130, 6131, 6132, 6133, 6134, 6135, 6136, 6137, 6138, 6139, 6140, 6141, 6142, 6156, 6157, 6163, 6164, 6165, 6166, 6167, 6168, 6169, 6170, 6171, 6172, 6173, 6174, 6175, 6176, 6177, 6178, 6179, 6180, 6181, 6182, 6183, 6184, 6185, 6186, 6187, 6188, 6189, 6190, 6191, 6192, 6193, 6194, 6195, 6196, 6197, 6198, 6199, 6200, 6201, 6202, 6203, 6204, 6205, 6206, 6207, 6208, 6209, 6210, 6211, 6212, 6213, 6214, 6215, 6216, 6217, 6218, 6219, 6220, 6221, 6222, 6223, 6224, 6237, 6243, 6244, 6245, 6246, 6247, 6248, 6249, 6250, 6251, 6252, 6253, 6254, 6255, 6256, 6257, 6258, 6259, 6260, 6261, 6262, 6263, 6264, 6265, 6266, 6267, 6268, 6269, 6270, 6271, 6272, 6273, 6274, 6275, 6276, 6277, 6278, 6279, 6280, 6281, 6282, 6283, 6284, 6285, 6286, 6287, 6288, 6289, 6290, 6291, 6292, 6293, 6294, 6295, 6296, 6297, 6298, 6299, 6300, 6301, 6302, 6303, 6304, 6305, 6306, 6323, 6324, 6325, 6326, 6327, 6328, 6329, 6330, 6331, 6332, 6333, 6334, 6335, 6336, 6337, 6338, 6339, 6340, 6341, 6342, 6343, 6344, 6345, 6346, 6347, 6348, 6349, 6350, 6351, 6352, 6353, 6354, 6355, 6356, 6357, 6358, 6359, 6360, 6361, 6362, 6363, 6364, 6365, 6366, 6367, 6368, 6369, 6370, 6371, 6372, 6373, 6374, 6375, 6376, 6377, 6378, 6379, 6380, 6381, 6382, 6383, 6384, 6385, 6386, 6387, 6388, 6403, 6404, 6405, 6406, 6407, 6408, 6409, 6410, 6411, 6412, 6413, 6414, 6415, 6416, 6417, 6418, 6419, 6420, 6421, 6422, 6423, 6424, 6425, 6426, 6427, 6428, 6429, 6430, 6431, 6432, 6433, 6434, 6435, 6436, 6437, 6438, 6439, 6440, 6441, 6442, 6443, 6444, 6445, 6446, 6447, 6448, 6449, 6450, 6451, 6452, 6453, 6454, 6455, 6456, 6457, 6458, 6459, 6460, 6461, 6462, 6463, 6464, 6465, 6466, 6467, 6468, 6469, 6483, 6484, 6485, 6486, 6487, 6488, 6489, 6490, 6491, 6492, 6493, 6494, 6495, 6496, 6497, 6498, 6499, 6500, 6501, 6502, 6503, 6504, 6505, 6506, 6507, 6508, 6509, 6510, 6511, 6512, 6513, 6514, 6515, 6516, 6517, 6518, 6519, 6520, 6521, 6522, 6523, 6524, 6525, 6526, 6527, 6528, 6529, 6530, 6531, 6532, 6533, 6534, 6535, 6536, 6537, 6538, 6539, 6540, 6541, 6542, 6543, 6544, 6545, 6546, 6547, 6548, 6549, 6550, 6551]\n",
      "val ids:  []\n",
      "test ids:  [0, 1, 2, 3, 4, 5, 6, 7, 8, 78, 79, 80, 81, 82, 83, 84, 85, 86, 87, 88, 89, 90, 158, 159, 160, 161, 162, 163, 164, 165, 166, 167, 168, 169, 170, 171, 238, 239, 240, 241, 242, 243, 244, 245, 246, 247, 248, 249, 250, 251, 252, 253, 318, 319, 320, 321, 322, 324, 325, 326, 327, 328, 329, 330, 331, 332, 333, 334, 335, 398, 399, 400, 401, 402, 405, 406, 407, 408, 409, 410, 411, 412, 413, 414, 415, 416, 417, 478, 479, 480, 481, 482, 486, 487, 488, 489, 490, 491, 492, 493, 494, 495, 496, 497, 498, 499, 558, 559, 560, 561, 562, 567, 568, 569, 570, 571, 572, 573, 574, 575, 576, 577, 578, 579, 580, 638, 639, 640, 641, 642, 648, 649, 650, 651, 652, 653, 654, 655, 656, 657, 658, 659, 660, 661, 662, 718, 719, 720, 721, 722, 729, 730, 731, 732, 733, 734, 735, 736, 737, 738, 739, 740, 741, 742, 743, 744, 798, 799, 800, 801, 802, 810, 811, 812, 813, 814, 815, 816, 817, 818, 819, 820, 821, 822, 823, 824, 825, 826, 878, 879, 880, 881, 882, 892, 893, 894, 895, 896, 897, 898, 899, 900, 901, 902, 903, 904, 905, 906, 907, 908, 958, 959, 960, 961, 962, 974, 975, 976, 977, 978, 979, 980, 981, 982, 983, 984, 985, 986, 987, 988, 989, 1039, 1040, 1041, 1057, 1058, 1059, 1060, 1061, 1062, 1063, 1064, 1065, 1066, 1067, 1068, 1069, 1070, 1071, 1119, 1120, 1121, 1139, 1140, 1141, 1142, 1143, 1144, 1145, 1146, 1147, 1148, 1149, 1150, 1151, 1152, 1153, 1199, 1200, 1201, 1221, 1222, 1223, 1224, 1225, 1226, 1227, 1228, 1229, 1230, 1231, 1232, 1233, 1234, 1235, 1279, 1280, 1281, 1304, 1305, 1306, 1307, 1308, 1309, 1310, 1311, 1312, 1313, 1314, 1315, 1316, 1359, 1360, 1361, 1386, 1387, 1388, 1389, 1390, 1391, 1392, 1393, 1394, 1395, 1396, 1397, 1398, 1439, 1440, 1441, 1469, 1470, 1471, 1472, 1473, 1474, 1475, 1476, 1477, 1478, 1479, 1480, 1519, 1520, 1521, 1551, 1552, 1553, 1554, 1555, 1556, 1557, 1558, 1559, 1560, 1561, 1562, 1599, 1600, 1601, 1633, 1634, 1635, 1636, 1637, 1638, 1639, 1640, 1641, 1642, 1643, 1644, 1679, 1680, 1681, 1716, 1717, 1718, 1719, 1720, 1721, 1722, 1723, 1724, 1725, 1759, 1760, 1761, 1798, 1799, 1800, 1801, 1802, 1803, 1804, 1805, 1806, 1807, 1839, 1840, 1841, 1880, 1881, 1882, 1883, 1884, 1885, 1886, 1887, 1888, 1889, 1919, 1920, 1921, 1963, 1964, 1965, 1966, 1967, 1968, 1969, 1970, 1971, 1999, 2000, 2001, 2045, 2046, 2047, 2048, 2049, 2050, 2051, 2052, 2053, 2079, 2080, 2081, 2127, 2128, 2129, 2130, 2131, 2132, 2133, 2134, 2160, 2210, 2211, 2212, 2213, 2214, 2215, 2216, 2240, 2292, 2293, 2294, 2295, 2296, 2297, 2298, 2320, 2375, 2376, 2377, 2378, 2379, 2380, 2400, 2457, 2458, 2459, 2460, 2461, 2462, 2480, 2539, 2540, 2541, 2542, 2543, 2560, 2622, 2623, 2624, 2625, 2640, 2704, 2705, 2706, 2707, 2720, 2786, 2787, 2788, 2789, 2800, 2869, 2870, 2871, 2880, 2951, 2952, 2960, 3033, 3034, 3040, 3116, 3120, 3198, 3200, 3280, 3360, 3362, 3440, 3444, 3520, 3526, 3527, 3600, 3608, 3609, 3680, 3689, 3690, 3691, 3760, 3771, 3772, 3773, 3774, 3840, 3853, 3854, 3855, 3856, 3920, 3935, 3936, 3937, 3938, 4000, 4017, 4018, 4019, 4020, 4021, 4080, 4098, 4099, 4100, 4101, 4102, 4103, 4160, 4180, 4181, 4182, 4183, 4184, 4185, 4240, 4262, 4263, 4264, 4265, 4266, 4267, 4268, 4320, 4344, 4345, 4346, 4347, 4348, 4349, 4350, 4400, 4426, 4427, 4428, 4429, 4430, 4431, 4432, 4433, 4479, 4480, 4481, 4507, 4508, 4509, 4510, 4511, 4512, 4513, 4514, 4515, 4559, 4560, 4561, 4589, 4590, 4591, 4592, 4593, 4594, 4595, 4596, 4597, 4639, 4640, 4641, 4671, 4672, 4673, 4674, 4675, 4676, 4677, 4678, 4679, 4680, 4719, 4720, 4721, 4753, 4754, 4755, 4756, 4757, 4758, 4759, 4760, 4761, 4762, 4799, 4800, 4801, 4835, 4836, 4837, 4838, 4839, 4840, 4841, 4842, 4843, 4844, 4879, 4880, 4881, 4916, 4917, 4918, 4919, 4920, 4921, 4922, 4923, 4924, 4925, 4926, 4927, 4959, 4960, 4961, 4998, 4999, 5000, 5001, 5002, 5003, 5004, 5005, 5006, 5007, 5008, 5009, 5039, 5040, 5041, 5080, 5081, 5082, 5083, 5084, 5085, 5086, 5087, 5088, 5089, 5090, 5091, 5119, 5120, 5121, 5162, 5163, 5164, 5165, 5166, 5167, 5168, 5169, 5170, 5171, 5172, 5173, 5174, 5199, 5200, 5201, 5244, 5245, 5246, 5247, 5248, 5249, 5250, 5251, 5252, 5253, 5254, 5255, 5256, 5279, 5280, 5281, 5325, 5326, 5327, 5328, 5329, 5330, 5331, 5332, 5333, 5334, 5335, 5336, 5337, 5338, 5339, 5359, 5360, 5361, 5407, 5408, 5409, 5410, 5411, 5412, 5413, 5414, 5415, 5416, 5417, 5418, 5419, 5420, 5421, 5439, 5440, 5441, 5489, 5490, 5491, 5492, 5493, 5494, 5495, 5496, 5497, 5498, 5499, 5500, 5501, 5502, 5503, 5519, 5520, 5521, 5571, 5572, 5573, 5574, 5575, 5576, 5577, 5578, 5579, 5580, 5581, 5582, 5583, 5584, 5585, 5586, 5598, 5599, 5600, 5601, 5602, 5652, 5653, 5654, 5655, 5656, 5657, 5658, 5659, 5660, 5661, 5662, 5663, 5664, 5665, 5666, 5667, 5668, 5678, 5679, 5680, 5681, 5682, 5734, 5735, 5736, 5737, 5738, 5739, 5740, 5741, 5742, 5743, 5744, 5745, 5746, 5747, 5748, 5749, 5750, 5758, 5759, 5760, 5761, 5762, 5816, 5817, 5818, 5819, 5820, 5821, 5822, 5823, 5824, 5825, 5826, 5827, 5828, 5829, 5830, 5831, 5838, 5839, 5840, 5841, 5842, 5898, 5899, 5900, 5901, 5902, 5903, 5904, 5905, 5906, 5907, 5908, 5909, 5910, 5911, 5912, 5918, 5919, 5920, 5921, 5922, 5980, 5981, 5982, 5983, 5984, 5985, 5986, 5987, 5988, 5989, 5990, 5991, 5992, 5993, 5998, 5999, 6000, 6001, 6002, 6061, 6062, 6063, 6064, 6065, 6066, 6067, 6068, 6069, 6070, 6071, 6072, 6073, 6074, 6078, 6079, 6080, 6081, 6082, 6143, 6144, 6145, 6146, 6147, 6148, 6149, 6150, 6151, 6152, 6153, 6154, 6155, 6158, 6159, 6160, 6161, 6162, 6225, 6226, 6227, 6228, 6229, 6230, 6231, 6232, 6233, 6234, 6235, 6236, 6238, 6239, 6240, 6241, 6242, 6307, 6308, 6309, 6310, 6311, 6312, 6313, 6314, 6315, 6316, 6317, 6318, 6319, 6320, 6321, 6322, 6389, 6390, 6391, 6392, 6393, 6394, 6395, 6396, 6397, 6398, 6399, 6400, 6401, 6402, 6470, 6471, 6472, 6473, 6474, 6475, 6476, 6477, 6478, 6479, 6480, 6481, 6482, 6552, 6553, 6554, 6555, 6556, 6557, 6558, 6559, 6560]\n",
      "CPU times: user 170 ms, sys: 31.7 ms, total: 202 ms\n",
      "Wall time: 201 ms\n"
     ]
    }
   ],
   "source": [
    "%%time\n",
    "n_total = len(simulation.dataframe)\n",
    "n_train = len(simulation.dataframe[simulation.dataframe.type_of == \"train\"])\n",
    "n_val = len(simulation.dataframe[simulation.dataframe.type_of == \"val\"])\n",
    "n_test = len(simulation.dataframe[simulation.dataframe.type_of == \"test\"])\n",
    "n_train_hamiltonians = len(simulation.train_ids)\n",
    "n_val_hamiltonians = len(simulation.val_ids)\n",
    "n_test_hamiltonians = len(simulation.test_ids)\n",
    "n_total_hamiltonians = n_train_hamiltonians + n_val_hamiltonians + n_test_hamiltonians\n",
    "\n",
    "print(\"% train: \", n_train/n_total)\n",
    "print(\"% val: \",  n_val/n_total)\n",
    "print(\"% test: \", n_test/n_total)\n",
    "print(\"% train + val + test: \", (n_train+n_val+n_test)/n_total)\n",
    "print(\"\\n\")\n",
    "print(\"number of train hamiltonians: \", n_train_hamiltonians)\n",
    "print(\"number of val hamiltonians: \", n_val_hamiltonians)\n",
    "print(\"number of test hamiltonians: \", n_test_hamiltonians)\n",
    "print(\"total number of hamiltonians: \", n_total_hamiltonians)\n",
    "print(\"\\n\")\n",
    "print(\"train ids: \", simulation.train_ids)\n",
    "print(\"val ids: \", simulation.val_ids)\n",
    "print(\"test ids: \", simulation.test_ids)"
   ]
  },
  {
   "cell_type": "markdown",
   "metadata": {
    "papermill": {
     "duration": 0.019263,
     "end_time": "2020-07-18T05:03:05.404705",
     "exception": false,
     "start_time": "2020-07-18T05:03:05.385442",
     "status": "completed"
    },
    "tags": []
   },
   "source": [
    "## Running a simulation"
   ]
  },
  {
   "cell_type": "code",
   "execution_count": 27,
   "metadata": {
    "execution": {
     "iopub.execute_input": "2020-07-18T05:03:05.445436Z",
     "iopub.status.busy": "2020-07-18T05:03:05.445112Z",
     "iopub.status.idle": "2020-07-18T05:05:35.557364Z",
     "shell.execute_reply": "2020-07-18T05:05:35.557619Z"
    },
    "papermill": {
     "duration": 150.13384,
     "end_time": "2020-07-18T05:05:35.557686",
     "exception": false,
     "start_time": "2020-07-18T05:03:05.423846",
     "status": "completed"
    },
    "tags": []
   },
   "outputs": [
    {
     "name": "stderr",
     "output_type": "stream",
     "text": [
      "\r",
      "running experiments:   0%|          | 0/100 [00:00<?, ?it/s]"
     ]
    },
    {
     "name": "stdout",
     "output_type": "stream",
     "text": [
      "Simulation mode:  None\n"
     ]
    },
    {
     "name": "stderr",
     "output_type": "stream",
     "text": [
      "\r",
      "running experiments:   1%|          | 1/100 [00:01<02:27,  1.49s/it]"
     ]
    },
    {
     "name": "stderr",
     "output_type": "stream",
     "text": [
      "\r",
      "running experiments:   2%|▏         | 2/100 [00:02<02:26,  1.49s/it]"
     ]
    },
    {
     "name": "stderr",
     "output_type": "stream",
     "text": [
      "\r",
      "running experiments:   3%|▎         | 3/100 [00:04<02:25,  1.50s/it]"
     ]
    },
    {
     "name": "stderr",
     "output_type": "stream",
     "text": [
      "\r",
      "running experiments:   4%|▍         | 4/100 [00:06<02:24,  1.51s/it]"
     ]
    },
    {
     "name": "stderr",
     "output_type": "stream",
     "text": [
      "\r",
      "running experiments:   5%|▌         | 5/100 [00:07<02:23,  1.51s/it]"
     ]
    },
    {
     "name": "stderr",
     "output_type": "stream",
     "text": [
      "\r",
      "running experiments:   6%|▌         | 6/100 [00:09<02:20,  1.50s/it]"
     ]
    },
    {
     "name": "stderr",
     "output_type": "stream",
     "text": [
      "\r",
      "running experiments:   7%|▋         | 7/100 [00:10<02:18,  1.49s/it]"
     ]
    },
    {
     "name": "stderr",
     "output_type": "stream",
     "text": [
      "\r",
      "running experiments:   8%|▊         | 8/100 [00:11<02:17,  1.49s/it]"
     ]
    },
    {
     "name": "stderr",
     "output_type": "stream",
     "text": [
      "\r",
      "running experiments:   9%|▉         | 9/100 [00:13<02:16,  1.50s/it]"
     ]
    },
    {
     "name": "stderr",
     "output_type": "stream",
     "text": [
      "\r",
      "running experiments:  10%|█         | 10/100 [00:14<02:13,  1.48s/it]"
     ]
    },
    {
     "name": "stderr",
     "output_type": "stream",
     "text": [
      "\r",
      "running experiments:  11%|█         | 11/100 [00:16<02:11,  1.48s/it]"
     ]
    },
    {
     "name": "stderr",
     "output_type": "stream",
     "text": [
      "\r",
      "running experiments:  12%|█▏        | 12/100 [00:17<02:10,  1.48s/it]"
     ]
    },
    {
     "name": "stderr",
     "output_type": "stream",
     "text": [
      "\r",
      "running experiments:  13%|█▎        | 13/100 [00:19<02:08,  1.48s/it]"
     ]
    },
    {
     "name": "stderr",
     "output_type": "stream",
     "text": [
      "\r",
      "running experiments:  14%|█▍        | 14/100 [00:20<02:07,  1.48s/it]"
     ]
    },
    {
     "name": "stderr",
     "output_type": "stream",
     "text": [
      "\r",
      "running experiments:  15%|█▌        | 15/100 [00:22<02:05,  1.48s/it]"
     ]
    },
    {
     "name": "stderr",
     "output_type": "stream",
     "text": [
      "\r",
      "running experiments:  16%|█▌        | 16/100 [00:23<02:03,  1.48s/it]"
     ]
    },
    {
     "name": "stderr",
     "output_type": "stream",
     "text": [
      "\r",
      "running experiments:  17%|█▋        | 17/100 [00:25<02:02,  1.48s/it]"
     ]
    },
    {
     "name": "stderr",
     "output_type": "stream",
     "text": [
      "\r",
      "running experiments:  18%|█▊        | 18/100 [00:26<02:02,  1.49s/it]"
     ]
    },
    {
     "name": "stderr",
     "output_type": "stream",
     "text": [
      "\r",
      "running experiments:  19%|█▉        | 19/100 [00:28<02:01,  1.50s/it]"
     ]
    },
    {
     "name": "stderr",
     "output_type": "stream",
     "text": [
      "\r",
      "running experiments:  20%|██        | 20/100 [00:29<02:00,  1.50s/it]"
     ]
    },
    {
     "name": "stderr",
     "output_type": "stream",
     "text": [
      "\r",
      "running experiments:  21%|██        | 21/100 [00:31<01:58,  1.50s/it]"
     ]
    },
    {
     "name": "stderr",
     "output_type": "stream",
     "text": [
      "\r",
      "running experiments:  22%|██▏       | 22/100 [00:32<01:56,  1.50s/it]"
     ]
    },
    {
     "name": "stderr",
     "output_type": "stream",
     "text": [
      "\r",
      "running experiments:  23%|██▎       | 23/100 [00:34<01:55,  1.50s/it]"
     ]
    },
    {
     "name": "stderr",
     "output_type": "stream",
     "text": [
      "\r",
      "running experiments:  24%|██▍       | 24/100 [00:35<01:53,  1.50s/it]"
     ]
    },
    {
     "name": "stderr",
     "output_type": "stream",
     "text": [
      "\r",
      "running experiments:  25%|██▌       | 25/100 [00:37<01:51,  1.49s/it]"
     ]
    },
    {
     "name": "stderr",
     "output_type": "stream",
     "text": [
      "\r",
      "running experiments:  26%|██▌       | 26/100 [00:38<01:52,  1.52s/it]"
     ]
    },
    {
     "name": "stderr",
     "output_type": "stream",
     "text": [
      "\r",
      "running experiments:  27%|██▋       | 27/100 [00:40<01:50,  1.51s/it]"
     ]
    },
    {
     "name": "stderr",
     "output_type": "stream",
     "text": [
      "\r",
      "running experiments:  28%|██▊       | 28/100 [00:41<01:48,  1.50s/it]"
     ]
    },
    {
     "name": "stderr",
     "output_type": "stream",
     "text": [
      "\r",
      "running experiments:  29%|██▉       | 29/100 [00:43<01:46,  1.50s/it]"
     ]
    },
    {
     "name": "stderr",
     "output_type": "stream",
     "text": [
      "\r",
      "running experiments:  30%|███       | 30/100 [00:44<01:45,  1.50s/it]"
     ]
    },
    {
     "name": "stderr",
     "output_type": "stream",
     "text": [
      "\r",
      "running experiments:  31%|███       | 31/100 [00:46<01:43,  1.50s/it]"
     ]
    },
    {
     "name": "stderr",
     "output_type": "stream",
     "text": [
      "\r",
      "running experiments:  32%|███▏      | 32/100 [00:47<01:42,  1.50s/it]"
     ]
    },
    {
     "name": "stderr",
     "output_type": "stream",
     "text": [
      "\r",
      "running experiments:  33%|███▎      | 33/100 [00:49<01:40,  1.51s/it]"
     ]
    },
    {
     "name": "stderr",
     "output_type": "stream",
     "text": [
      "\r",
      "running experiments:  34%|███▍      | 34/100 [00:50<01:41,  1.53s/it]"
     ]
    },
    {
     "name": "stderr",
     "output_type": "stream",
     "text": [
      "\r",
      "running experiments:  35%|███▌      | 35/100 [00:52<01:38,  1.52s/it]"
     ]
    },
    {
     "name": "stderr",
     "output_type": "stream",
     "text": [
      "\r",
      "running experiments:  36%|███▌      | 36/100 [00:53<01:36,  1.51s/it]"
     ]
    },
    {
     "name": "stderr",
     "output_type": "stream",
     "text": [
      "\r",
      "running experiments:  37%|███▋      | 37/100 [00:55<01:34,  1.50s/it]"
     ]
    },
    {
     "name": "stderr",
     "output_type": "stream",
     "text": [
      "\r",
      "running experiments:  38%|███▊      | 38/100 [00:56<01:32,  1.49s/it]"
     ]
    },
    {
     "name": "stderr",
     "output_type": "stream",
     "text": [
      "\r",
      "running experiments:  39%|███▉      | 39/100 [00:58<01:31,  1.49s/it]"
     ]
    },
    {
     "name": "stderr",
     "output_type": "stream",
     "text": [
      "\r",
      "running experiments:  40%|████      | 40/100 [00:59<01:29,  1.49s/it]"
     ]
    },
    {
     "name": "stderr",
     "output_type": "stream",
     "text": [
      "\r",
      "running experiments:  41%|████      | 41/100 [01:01<01:28,  1.49s/it]"
     ]
    },
    {
     "name": "stderr",
     "output_type": "stream",
     "text": [
      "\r",
      "running experiments:  42%|████▏     | 42/100 [01:02<01:26,  1.49s/it]"
     ]
    },
    {
     "name": "stderr",
     "output_type": "stream",
     "text": [
      "\r",
      "running experiments:  43%|████▎     | 43/100 [01:04<01:24,  1.49s/it]"
     ]
    },
    {
     "name": "stderr",
     "output_type": "stream",
     "text": [
      "\r",
      "running experiments:  44%|████▍     | 44/100 [01:05<01:24,  1.50s/it]"
     ]
    },
    {
     "name": "stderr",
     "output_type": "stream",
     "text": [
      "\r",
      "running experiments:  45%|████▌     | 45/100 [01:07<01:23,  1.51s/it]"
     ]
    },
    {
     "name": "stderr",
     "output_type": "stream",
     "text": [
      "\r",
      "running experiments:  46%|████▌     | 46/100 [01:08<01:21,  1.51s/it]"
     ]
    },
    {
     "name": "stderr",
     "output_type": "stream",
     "text": [
      "\r",
      "running experiments:  47%|████▋     | 47/100 [01:10<01:20,  1.52s/it]"
     ]
    },
    {
     "name": "stderr",
     "output_type": "stream",
     "text": [
      "\r",
      "running experiments:  48%|████▊     | 48/100 [01:11<01:18,  1.51s/it]"
     ]
    },
    {
     "name": "stderr",
     "output_type": "stream",
     "text": [
      "\r",
      "running experiments:  49%|████▉     | 49/100 [01:13<01:16,  1.50s/it]"
     ]
    },
    {
     "name": "stderr",
     "output_type": "stream",
     "text": [
      "\r",
      "running experiments:  50%|█████     | 50/100 [01:14<01:15,  1.52s/it]"
     ]
    },
    {
     "name": "stderr",
     "output_type": "stream",
     "text": [
      "\r",
      "running experiments:  51%|█████     | 51/100 [01:16<01:13,  1.51s/it]"
     ]
    },
    {
     "name": "stderr",
     "output_type": "stream",
     "text": [
      "\r",
      "running experiments:  52%|█████▏    | 52/100 [01:17<01:12,  1.51s/it]"
     ]
    },
    {
     "name": "stderr",
     "output_type": "stream",
     "text": [
      "\r",
      "running experiments:  53%|█████▎    | 53/100 [01:19<01:10,  1.49s/it]"
     ]
    },
    {
     "name": "stderr",
     "output_type": "stream",
     "text": [
      "\r",
      "running experiments:  54%|█████▍    | 54/100 [01:20<01:08,  1.49s/it]"
     ]
    },
    {
     "name": "stderr",
     "output_type": "stream",
     "text": [
      "\r",
      "running experiments:  55%|█████▌    | 55/100 [01:22<01:07,  1.49s/it]"
     ]
    },
    {
     "name": "stderr",
     "output_type": "stream",
     "text": [
      "\r",
      "running experiments:  56%|█████▌    | 56/100 [01:23<01:05,  1.49s/it]"
     ]
    },
    {
     "name": "stderr",
     "output_type": "stream",
     "text": [
      "\r",
      "running experiments:  57%|█████▋    | 57/100 [01:25<01:03,  1.49s/it]"
     ]
    },
    {
     "name": "stderr",
     "output_type": "stream",
     "text": [
      "\r",
      "running experiments:  58%|█████▊    | 58/100 [01:26<01:02,  1.49s/it]"
     ]
    },
    {
     "name": "stderr",
     "output_type": "stream",
     "text": [
      "\r",
      "running experiments:  59%|█████▉    | 59/100 [01:28<01:01,  1.50s/it]"
     ]
    },
    {
     "name": "stderr",
     "output_type": "stream",
     "text": [
      "\r",
      "running experiments:  60%|██████    | 60/100 [01:29<01:00,  1.50s/it]"
     ]
    },
    {
     "name": "stderr",
     "output_type": "stream",
     "text": [
      "\r",
      "running experiments:  61%|██████    | 61/100 [01:31<00:58,  1.50s/it]"
     ]
    },
    {
     "name": "stderr",
     "output_type": "stream",
     "text": [
      "\r",
      "running experiments:  62%|██████▏   | 62/100 [01:32<00:57,  1.50s/it]"
     ]
    },
    {
     "name": "stderr",
     "output_type": "stream",
     "text": [
      "\r",
      "running experiments:  63%|██████▎   | 63/100 [01:34<00:55,  1.51s/it]"
     ]
    },
    {
     "name": "stderr",
     "output_type": "stream",
     "text": [
      "\r",
      "running experiments:  64%|██████▍   | 64/100 [01:35<00:54,  1.51s/it]"
     ]
    },
    {
     "name": "stderr",
     "output_type": "stream",
     "text": [
      "\r",
      "running experiments:  65%|██████▌   | 65/100 [01:37<00:53,  1.53s/it]"
     ]
    },
    {
     "name": "stderr",
     "output_type": "stream",
     "text": [
      "\r",
      "running experiments:  66%|██████▌   | 66/100 [01:38<00:51,  1.51s/it]"
     ]
    },
    {
     "name": "stderr",
     "output_type": "stream",
     "text": [
      "\r",
      "running experiments:  67%|██████▋   | 67/100 [01:40<00:50,  1.52s/it]"
     ]
    },
    {
     "name": "stderr",
     "output_type": "stream",
     "text": [
      "\r",
      "running experiments:  68%|██████▊   | 68/100 [01:42<00:48,  1.52s/it]"
     ]
    },
    {
     "name": "stderr",
     "output_type": "stream",
     "text": [
      "\r",
      "running experiments:  69%|██████▉   | 69/100 [01:43<00:47,  1.53s/it]"
     ]
    },
    {
     "name": "stderr",
     "output_type": "stream",
     "text": [
      "\r",
      "running experiments:  70%|███████   | 70/100 [01:45<00:46,  1.54s/it]"
     ]
    },
    {
     "name": "stderr",
     "output_type": "stream",
     "text": [
      "\r",
      "running experiments:  71%|███████   | 71/100 [01:46<00:44,  1.54s/it]"
     ]
    },
    {
     "name": "stderr",
     "output_type": "stream",
     "text": [
      "\r",
      "running experiments:  72%|███████▏  | 72/100 [01:48<00:43,  1.55s/it]"
     ]
    },
    {
     "name": "stderr",
     "output_type": "stream",
     "text": [
      "\r",
      "running experiments:  73%|███████▎  | 73/100 [01:49<00:41,  1.54s/it]"
     ]
    },
    {
     "name": "stderr",
     "output_type": "stream",
     "text": [
      "\r",
      "running experiments:  74%|███████▍  | 74/100 [01:51<00:39,  1.53s/it]"
     ]
    },
    {
     "name": "stderr",
     "output_type": "stream",
     "text": [
      "\r",
      "running experiments:  75%|███████▌  | 75/100 [01:52<00:38,  1.52s/it]"
     ]
    },
    {
     "name": "stderr",
     "output_type": "stream",
     "text": [
      "\r",
      "running experiments:  76%|███████▌  | 76/100 [01:54<00:36,  1.52s/it]"
     ]
    },
    {
     "name": "stderr",
     "output_type": "stream",
     "text": [
      "\r",
      "running experiments:  77%|███████▋  | 77/100 [01:55<00:34,  1.51s/it]"
     ]
    },
    {
     "name": "stderr",
     "output_type": "stream",
     "text": [
      "\r",
      "running experiments:  78%|███████▊  | 78/100 [01:57<00:32,  1.50s/it]"
     ]
    },
    {
     "name": "stderr",
     "output_type": "stream",
     "text": [
      "\r",
      "running experiments:  79%|███████▉  | 79/100 [01:58<00:31,  1.50s/it]"
     ]
    },
    {
     "name": "stderr",
     "output_type": "stream",
     "text": [
      "\r",
      "running experiments:  80%|████████  | 80/100 [02:00<00:29,  1.50s/it]"
     ]
    },
    {
     "name": "stderr",
     "output_type": "stream",
     "text": [
      "\r",
      "running experiments:  81%|████████  | 81/100 [02:01<00:28,  1.48s/it]"
     ]
    },
    {
     "name": "stderr",
     "output_type": "stream",
     "text": [
      "\r",
      "running experiments:  82%|████████▏ | 82/100 [02:03<00:26,  1.48s/it]"
     ]
    },
    {
     "name": "stderr",
     "output_type": "stream",
     "text": [
      "\r",
      "running experiments:  83%|████████▎ | 83/100 [02:04<00:25,  1.50s/it]"
     ]
    },
    {
     "name": "stderr",
     "output_type": "stream",
     "text": [
      "\r",
      "running experiments:  84%|████████▍ | 84/100 [02:06<00:23,  1.48s/it]"
     ]
    },
    {
     "name": "stderr",
     "output_type": "stream",
     "text": [
      "\r",
      "running experiments:  85%|████████▌ | 85/100 [02:07<00:22,  1.48s/it]"
     ]
    },
    {
     "name": "stderr",
     "output_type": "stream",
     "text": [
      "\r",
      "running experiments:  86%|████████▌ | 86/100 [02:09<00:20,  1.48s/it]"
     ]
    },
    {
     "name": "stderr",
     "output_type": "stream",
     "text": [
      "\r",
      "running experiments:  87%|████████▋ | 87/100 [02:10<00:19,  1.50s/it]"
     ]
    },
    {
     "name": "stderr",
     "output_type": "stream",
     "text": [
      "\r",
      "running experiments:  88%|████████▊ | 88/100 [02:12<00:18,  1.50s/it]"
     ]
    },
    {
     "name": "stderr",
     "output_type": "stream",
     "text": [
      "\r",
      "running experiments:  89%|████████▉ | 89/100 [02:13<00:16,  1.50s/it]"
     ]
    },
    {
     "name": "stderr",
     "output_type": "stream",
     "text": [
      "\r",
      "running experiments:  90%|█████████ | 90/100 [02:15<00:14,  1.49s/it]"
     ]
    },
    {
     "name": "stderr",
     "output_type": "stream",
     "text": [
      "\r",
      "running experiments:  91%|█████████ | 91/100 [02:16<00:13,  1.49s/it]"
     ]
    },
    {
     "name": "stderr",
     "output_type": "stream",
     "text": [
      "\r",
      "running experiments:  92%|█████████▏| 92/100 [02:18<00:11,  1.48s/it]"
     ]
    },
    {
     "name": "stderr",
     "output_type": "stream",
     "text": [
      "\r",
      "running experiments:  93%|█████████▎| 93/100 [02:19<00:10,  1.47s/it]"
     ]
    },
    {
     "name": "stderr",
     "output_type": "stream",
     "text": [
      "\r",
      "running experiments:  94%|█████████▍| 94/100 [02:21<00:08,  1.47s/it]"
     ]
    },
    {
     "name": "stderr",
     "output_type": "stream",
     "text": [
      "\r",
      "running experiments:  95%|█████████▌| 95/100 [02:22<00:07,  1.47s/it]"
     ]
    },
    {
     "name": "stderr",
     "output_type": "stream",
     "text": [
      "\r",
      "running experiments:  96%|█████████▌| 96/100 [02:23<00:05,  1.48s/it]"
     ]
    },
    {
     "name": "stderr",
     "output_type": "stream",
     "text": [
      "\r",
      "running experiments:  97%|█████████▋| 97/100 [02:25<00:04,  1.49s/it]"
     ]
    },
    {
     "name": "stderr",
     "output_type": "stream",
     "text": [
      "\r",
      "running experiments:  98%|█████████▊| 98/100 [02:26<00:02,  1.49s/it]"
     ]
    },
    {
     "name": "stderr",
     "output_type": "stream",
     "text": [
      "\r",
      "running experiments:  99%|█████████▉| 99/100 [02:28<00:01,  1.49s/it]"
     ]
    },
    {
     "name": "stderr",
     "output_type": "stream",
     "text": [
      "\r",
      "running experiments: 100%|██████████| 100/100 [02:30<00:00,  1.53s/it]"
     ]
    },
    {
     "name": "stderr",
     "output_type": "stream",
     "text": [
      "\r",
      "running experiments: 100%|██████████| 100/100 [02:30<00:00,  1.50s/it]"
     ]
    },
    {
     "name": "stdout",
     "output_type": "stream",
     "text": [
      "CPU times: user 2min 27s, sys: 2.84 s, total: 2min 30s\n",
      "Wall time: 2min 30s\n"
     ]
    },
    {
     "name": "stderr",
     "output_type": "stream",
     "text": [
      "\n"
     ]
    }
   ],
   "source": [
    "\n",
    "%%time\n",
    "simulation.run_simulation(n_experiments, start_n, fit_params,shuffle_rows, pred_params, random_features, \\\n",
    "                          store_in_lists, save_eigenvector, save_hamiltonian, save_accuracy,\\\n",
    "                          save_models)\n",
    "if simulation.fourier_mode is not None:\n",
    "    simulation.fourier_dataframe.head(10)"
   ]
  },
  {
   "cell_type": "code",
   "execution_count": 28,
   "metadata": {
    "execution": {
     "iopub.execute_input": "2020-07-18T05:05:35.633037Z",
     "iopub.status.busy": "2020-07-18T05:05:35.632724Z",
     "iopub.status.idle": "2020-07-18T05:05:35.657502Z",
     "shell.execute_reply": "2020-07-18T05:05:35.657847Z"
    },
    "papermill": {
     "duration": 0.064097,
     "end_time": "2020-07-18T05:05:35.657920",
     "exception": false,
     "start_time": "2020-07-18T05:05:35.593823",
     "status": "completed"
    },
    "tags": []
   },
   "outputs": [
    {
     "data": {
      "text/html": [
       "<div>\n",
       "<style scoped>\n",
       "    .dataframe tbody tr th:only-of-type {\n",
       "        vertical-align: middle;\n",
       "    }\n",
       "\n",
       "    .dataframe tbody tr th {\n",
       "        vertical-align: top;\n",
       "    }\n",
       "\n",
       "    .dataframe thead th {\n",
       "        text-align: right;\n",
       "    }\n",
       "</style>\n",
       "<table border=\"1\" class=\"dataframe\">\n",
       "  <thead>\n",
       "    <tr style=\"text-align: right;\">\n",
       "      <th></th>\n",
       "      <th>id</th>\n",
       "      <th>path</th>\n",
       "      <th>t1</th>\n",
       "      <th>t2</th>\n",
       "      <th>winding</th>\n",
       "      <th>phase</th>\n",
       "      <th>pred_phase</th>\n",
       "      <th>type_of</th>\n",
       "      <th>feat0</th>\n",
       "      <th>feat1</th>\n",
       "      <th>...</th>\n",
       "      <th>feat90</th>\n",
       "      <th>feat91</th>\n",
       "      <th>feat92</th>\n",
       "      <th>feat93</th>\n",
       "      <th>feat94</th>\n",
       "      <th>feat95</th>\n",
       "      <th>feat96</th>\n",
       "      <th>feat97</th>\n",
       "      <th>feat98</th>\n",
       "      <th>feat99</th>\n",
       "    </tr>\n",
       "  </thead>\n",
       "  <tbody>\n",
       "    <tr>\n",
       "      <th>0</th>\n",
       "      <td>0</td>\n",
       "      <td>H_-2_-2_0.509296.dat</td>\n",
       "      <td>-2.0</td>\n",
       "      <td>-2.0</td>\n",
       "      <td>0.509296</td>\n",
       "      <td>999</td>\n",
       "      <td>1</td>\n",
       "      <td>test</td>\n",
       "      <td>0.100000</td>\n",
       "      <td>0.100000</td>\n",
       "      <td>...</td>\n",
       "      <td>0.100000</td>\n",
       "      <td>0.100000</td>\n",
       "      <td>0.100000</td>\n",
       "      <td>0.100000</td>\n",
       "      <td>0.100000</td>\n",
       "      <td>0.100000</td>\n",
       "      <td>0.100000</td>\n",
       "      <td>0.100000</td>\n",
       "      <td>0.100000</td>\n",
       "      <td>0.100000</td>\n",
       "    </tr>\n",
       "    <tr>\n",
       "      <th>1</th>\n",
       "      <td>0</td>\n",
       "      <td>H_-2_-2_0.509296.dat</td>\n",
       "      <td>-2.0</td>\n",
       "      <td>-2.0</td>\n",
       "      <td>0.509296</td>\n",
       "      <td>999</td>\n",
       "      <td>1</td>\n",
       "      <td>test</td>\n",
       "      <td>0.141421</td>\n",
       "      <td>0.141142</td>\n",
       "      <td>...</td>\n",
       "      <td>0.114412</td>\n",
       "      <td>0.108967</td>\n",
       "      <td>0.123928</td>\n",
       "      <td>0.119406</td>\n",
       "      <td>0.131490</td>\n",
       "      <td>0.127962</td>\n",
       "      <td>0.136978</td>\n",
       "      <td>0.134500</td>\n",
       "      <td>0.140306</td>\n",
       "      <td>0.138916</td>\n",
       "    </tr>\n",
       "    <tr>\n",
       "      <th>2</th>\n",
       "      <td>0</td>\n",
       "      <td>H_-2_-2_0.509296.dat</td>\n",
       "      <td>-2.0</td>\n",
       "      <td>-2.0</td>\n",
       "      <td>0.509296</td>\n",
       "      <td>999</td>\n",
       "      <td>1</td>\n",
       "      <td>test</td>\n",
       "      <td>0.141421</td>\n",
       "      <td>0.140306</td>\n",
       "      <td>...</td>\n",
       "      <td>0.043702</td>\n",
       "      <td>0.026500</td>\n",
       "      <td>0.075777</td>\n",
       "      <td>0.060214</td>\n",
       "      <td>0.103092</td>\n",
       "      <td>0.090145</td>\n",
       "      <td>0.123928</td>\n",
       "      <td>0.114412</td>\n",
       "      <td>0.136978</td>\n",
       "      <td>0.131490</td>\n",
       "    </tr>\n",
       "    <tr>\n",
       "      <th>3</th>\n",
       "      <td>0</td>\n",
       "      <td>H_-2_-2_0.509296.dat</td>\n",
       "      <td>-2.0</td>\n",
       "      <td>-2.0</td>\n",
       "      <td>0.509296</td>\n",
       "      <td>999</td>\n",
       "      <td>1</td>\n",
       "      <td>test</td>\n",
       "      <td>-0.100000</td>\n",
       "      <td>0.100000</td>\n",
       "      <td>...</td>\n",
       "      <td>-0.100000</td>\n",
       "      <td>0.100000</td>\n",
       "      <td>-0.100000</td>\n",
       "      <td>0.100000</td>\n",
       "      <td>-0.100000</td>\n",
       "      <td>0.100000</td>\n",
       "      <td>-0.100000</td>\n",
       "      <td>0.100000</td>\n",
       "      <td>-0.100000</td>\n",
       "      <td>0.100000</td>\n",
       "    </tr>\n",
       "    <tr>\n",
       "      <th>4</th>\n",
       "      <td>0</td>\n",
       "      <td>H_-2_-2_0.509296.dat</td>\n",
       "      <td>-2.0</td>\n",
       "      <td>-2.0</td>\n",
       "      <td>0.509296</td>\n",
       "      <td>999</td>\n",
       "      <td>0</td>\n",
       "      <td>test</td>\n",
       "      <td>0.000509</td>\n",
       "      <td>-0.008372</td>\n",
       "      <td>...</td>\n",
       "      <td>-0.082713</td>\n",
       "      <td>-0.089753</td>\n",
       "      <td>-0.067684</td>\n",
       "      <td>-0.075347</td>\n",
       "      <td>-0.051587</td>\n",
       "      <td>-0.059753</td>\n",
       "      <td>-0.034677</td>\n",
       "      <td>-0.043217</td>\n",
       "      <td>-0.017220</td>\n",
       "      <td>-0.026000</td>\n",
       "    </tr>\n",
       "    <tr>\n",
       "      <th>5</th>\n",
       "      <td>0</td>\n",
       "      <td>H_-2_-2_0.509296.dat</td>\n",
       "      <td>-2.0</td>\n",
       "      <td>-2.0</td>\n",
       "      <td>0.509296</td>\n",
       "      <td>999</td>\n",
       "      <td>0</td>\n",
       "      <td>test</td>\n",
       "      <td>0.001204</td>\n",
       "      <td>-0.016530</td>\n",
       "      <td>...</td>\n",
       "      <td>-0.134123</td>\n",
       "      <td>-0.138686</td>\n",
       "      <td>-0.118757</td>\n",
       "      <td>-0.127445</td>\n",
       "      <td>-0.095929</td>\n",
       "      <td>-0.108196</td>\n",
       "      <td>-0.067073</td>\n",
       "      <td>-0.082149</td>\n",
       "      <td>-0.034003</td>\n",
       "      <td>-0.050940</td>\n",
       "    </tr>\n",
       "    <tr>\n",
       "      <th>6</th>\n",
       "      <td>0</td>\n",
       "      <td>H_-2_-2_0.509296.dat</td>\n",
       "      <td>-2.0</td>\n",
       "      <td>-2.0</td>\n",
       "      <td>0.509296</td>\n",
       "      <td>999</td>\n",
       "      <td>1</td>\n",
       "      <td>test</td>\n",
       "      <td>-0.141421</td>\n",
       "      <td>-0.138980</td>\n",
       "      <td>...</td>\n",
       "      <td>0.043375</td>\n",
       "      <td>0.067830</td>\n",
       "      <td>-0.009222</td>\n",
       "      <td>0.017385</td>\n",
       "      <td>-0.060524</td>\n",
       "      <td>-0.035502</td>\n",
       "      <td>-0.103326</td>\n",
       "      <td>-0.083403</td>\n",
       "      <td>-0.131616</td>\n",
       "      <td>-0.119589</td>\n",
       "    </tr>\n",
       "    <tr>\n",
       "      <th>7</th>\n",
       "      <td>0</td>\n",
       "      <td>H_-2_-2_0.509296.dat</td>\n",
       "      <td>-2.0</td>\n",
       "      <td>-2.0</td>\n",
       "      <td>0.509296</td>\n",
       "      <td>999</td>\n",
       "      <td>1</td>\n",
       "      <td>test</td>\n",
       "      <td>-0.000826</td>\n",
       "      <td>0.025688</td>\n",
       "      <td>...</td>\n",
       "      <td>0.134753</td>\n",
       "      <td>0.124324</td>\n",
       "      <td>0.141088</td>\n",
       "      <td>0.140407</td>\n",
       "      <td>0.127608</td>\n",
       "      <td>0.136771</td>\n",
       "      <td>0.096206</td>\n",
       "      <td>0.113925</td>\n",
       "      <td>0.051292</td>\n",
       "      <td>0.075079</td>\n",
       "    </tr>\n",
       "    <tr>\n",
       "      <th>8</th>\n",
       "      <td>0</td>\n",
       "      <td>H_-2_-2_0.509296.dat</td>\n",
       "      <td>-2.0</td>\n",
       "      <td>-2.0</td>\n",
       "      <td>0.509296</td>\n",
       "      <td>999</td>\n",
       "      <td>1</td>\n",
       "      <td>test</td>\n",
       "      <td>0.141417</td>\n",
       "      <td>0.136684</td>\n",
       "      <td>...</td>\n",
       "      <td>-0.115093</td>\n",
       "      <td>-0.131915</td>\n",
       "      <td>-0.061266</td>\n",
       "      <td>-0.091040</td>\n",
       "      <td>0.007717</td>\n",
       "      <td>-0.027643</td>\n",
       "      <td>0.074791</td>\n",
       "      <td>0.042592</td>\n",
       "      <td>0.123363</td>\n",
       "      <td>0.102291</td>\n",
       "    </tr>\n",
       "    <tr>\n",
       "      <th>9</th>\n",
       "      <td>0</td>\n",
       "      <td>H_-2_-2_0.509296.dat</td>\n",
       "      <td>-2.0</td>\n",
       "      <td>-2.0</td>\n",
       "      <td>0.509296</td>\n",
       "      <td>999</td>\n",
       "      <td>1</td>\n",
       "      <td>test</td>\n",
       "      <td>0.001302</td>\n",
       "      <td>0.036430</td>\n",
       "      <td>...</td>\n",
       "      <td>0.082068</td>\n",
       "      <td>0.050848</td>\n",
       "      <td>0.127402</td>\n",
       "      <td>0.108132</td>\n",
       "      <td>0.141218</td>\n",
       "      <td>0.138667</td>\n",
       "      <td>0.120099</td>\n",
       "      <td>0.134896</td>\n",
       "      <td>0.069268</td>\n",
       "      <td>0.097755</td>\n",
       "    </tr>\n",
       "  </tbody>\n",
       "</table>\n",
       "<p>10 rows × 108 columns</p>\n",
       "</div>"
      ],
      "text/plain": [
       "   id                  path   t1   t2   winding  phase  pred_phase type_of  \\\n",
       "0   0  H_-2_-2_0.509296.dat -2.0 -2.0  0.509296    999           1    test   \n",
       "1   0  H_-2_-2_0.509296.dat -2.0 -2.0  0.509296    999           1    test   \n",
       "2   0  H_-2_-2_0.509296.dat -2.0 -2.0  0.509296    999           1    test   \n",
       "3   0  H_-2_-2_0.509296.dat -2.0 -2.0  0.509296    999           1    test   \n",
       "4   0  H_-2_-2_0.509296.dat -2.0 -2.0  0.509296    999           0    test   \n",
       "5   0  H_-2_-2_0.509296.dat -2.0 -2.0  0.509296    999           0    test   \n",
       "6   0  H_-2_-2_0.509296.dat -2.0 -2.0  0.509296    999           1    test   \n",
       "7   0  H_-2_-2_0.509296.dat -2.0 -2.0  0.509296    999           1    test   \n",
       "8   0  H_-2_-2_0.509296.dat -2.0 -2.0  0.509296    999           1    test   \n",
       "9   0  H_-2_-2_0.509296.dat -2.0 -2.0  0.509296    999           1    test   \n",
       "\n",
       "      feat0     feat1  ...    feat90    feat91    feat92    feat93    feat94  \\\n",
       "0  0.100000  0.100000  ...  0.100000  0.100000  0.100000  0.100000  0.100000   \n",
       "1  0.141421  0.141142  ...  0.114412  0.108967  0.123928  0.119406  0.131490   \n",
       "2  0.141421  0.140306  ...  0.043702  0.026500  0.075777  0.060214  0.103092   \n",
       "3 -0.100000  0.100000  ... -0.100000  0.100000 -0.100000  0.100000 -0.100000   \n",
       "4  0.000509 -0.008372  ... -0.082713 -0.089753 -0.067684 -0.075347 -0.051587   \n",
       "5  0.001204 -0.016530  ... -0.134123 -0.138686 -0.118757 -0.127445 -0.095929   \n",
       "6 -0.141421 -0.138980  ...  0.043375  0.067830 -0.009222  0.017385 -0.060524   \n",
       "7 -0.000826  0.025688  ...  0.134753  0.124324  0.141088  0.140407  0.127608   \n",
       "8  0.141417  0.136684  ... -0.115093 -0.131915 -0.061266 -0.091040  0.007717   \n",
       "9  0.001302  0.036430  ...  0.082068  0.050848  0.127402  0.108132  0.141218   \n",
       "\n",
       "     feat95    feat96    feat97    feat98    feat99  \n",
       "0  0.100000  0.100000  0.100000  0.100000  0.100000  \n",
       "1  0.127962  0.136978  0.134500  0.140306  0.138916  \n",
       "2  0.090145  0.123928  0.114412  0.136978  0.131490  \n",
       "3  0.100000 -0.100000  0.100000 -0.100000  0.100000  \n",
       "4 -0.059753 -0.034677 -0.043217 -0.017220 -0.026000  \n",
       "5 -0.108196 -0.067073 -0.082149 -0.034003 -0.050940  \n",
       "6 -0.035502 -0.103326 -0.083403 -0.131616 -0.119589  \n",
       "7  0.136771  0.096206  0.113925  0.051292  0.075079  \n",
       "8 -0.027643  0.074791  0.042592  0.123363  0.102291  \n",
       "9  0.138667  0.120099  0.134896  0.069268  0.097755  \n",
       "\n",
       "[10 rows x 108 columns]"
      ]
     },
     "execution_count": 28,
     "metadata": {},
     "output_type": "execute_result"
    }
   ],
   "source": [
    "simulation.dataframe.head(10)"
   ]
  },
  {
   "cell_type": "markdown",
   "metadata": {
    "papermill": {
     "duration": 0.036422,
     "end_time": "2020-07-18T05:05:35.731856",
     "exception": false,
     "start_time": "2020-07-18T05:05:35.695434",
     "status": "completed"
    },
    "tags": []
   },
   "source": [
    "#### Viewing a random sample"
   ]
  },
  {
   "cell_type": "code",
   "execution_count": 29,
   "metadata": {
    "execution": {
     "iopub.execute_input": "2020-07-18T05:05:35.806781Z",
     "iopub.status.busy": "2020-07-18T05:05:35.806281Z",
     "iopub.status.idle": "2020-07-18T05:05:35.816733Z",
     "shell.execute_reply": "2020-07-18T05:05:35.816413Z"
    },
    "papermill": {
     "duration": 0.048077,
     "end_time": "2020-07-18T05:05:35.816785",
     "exception": false,
     "start_time": "2020-07-18T05:05:35.768708",
     "status": "completed"
    },
    "tags": []
   },
   "outputs": [
    {
     "name": "stdout",
     "output_type": "stream",
     "text": [
      "CPU times: user 2 µs, sys: 0 ns, total: 2 µs\n",
      "Wall time: 3.81 µs\n"
     ]
    }
   ],
   "source": [
    "%%time\n",
    "if simulation.fourier_mode is not None:\n",
    "    simulation.fourier_dataframe.sample(frac=0.1, replace=False)"
   ]
  },
  {
   "cell_type": "markdown",
   "metadata": {
    "papermill": {
     "duration": 0.035796,
     "end_time": "2020-07-18T05:05:35.889136",
     "exception": false,
     "start_time": "2020-07-18T05:05:35.853340",
     "status": "completed"
    },
    "tags": []
   },
   "source": [
    "#### Checking train/val/test splits again"
   ]
  },
  {
   "cell_type": "code",
   "execution_count": 30,
   "metadata": {
    "execution": {
     "iopub.execute_input": "2020-07-18T05:05:35.964933Z",
     "iopub.status.busy": "2020-07-18T05:05:35.964374Z",
     "iopub.status.idle": "2020-07-18T05:05:36.142922Z",
     "shell.execute_reply": "2020-07-18T05:05:36.143226Z"
    },
    "papermill": {
     "duration": 0.217977,
     "end_time": "2020-07-18T05:05:36.143291",
     "exception": false,
     "start_time": "2020-07-18T05:05:35.925314",
     "status": "completed"
    },
    "tags": []
   },
   "outputs": [
    {
     "name": "stdout",
     "output_type": "stream",
     "text": [
      "% train:  0.08474317939338516\n",
      "% val:  0.7620789513793629\n",
      "% test:  0.15317786922725193\n",
      "% train + val + test:  1.0\n",
      "\n",
      "\n",
      "number of train hamiltonians:  556\n",
      "number of val hamiltonians:  5000\n",
      "number of test hamiltonians:  1005\n",
      "total number of hamiltonians:  6561\n",
      "\n",
      "\n",
      "train ids:  [3989, 2570, 3887, 3672, 529, 3276, 4739, 1486, 3434, 1323, 3874, 6166, 3124, 557, 6134, 3104, 3027, 3637, 2576, 4763, 725, 4173, 4114, 1207, 3073, 2751, 5374, 2954, 6274, 4611, 3231, 3013, 5223, 1566, 1461, 3504, 3146, 503, 6190, 2218, 1435, 3648, 3798, 5153, 6259, 3301, 1301, 4780, 6422, 6114, 4139, 1665, 1895, 3339, 5641, 3576, 227, 1267, 4724, 4052, 6533, 933, 6360, 3233, 2162, 516, 5725, 966, 3946, 5590, 2299, 2641, 141, 3481, 112, 2930, 3622, 3738, 3186, 5159, 3820, 1462, 6189, 3919, 2370, 2557, 4666, 1363, 2636, 870, 3026, 5957, 6223, 4745, 2025, 10, 3134, 3755, 5650, 1792, 471, 544, 442, 6347, 313, 2845, 4186, 4355, 2498, 5016, 2699, 1651, 3400, 6188, 682, 4935, 4887, 4341, 3332, 1459, 1458, 2670, 2502, 4535, 2535, 6438, 2507, 6201, 5757, 6520, 1182, 3100, 281, 4060, 1255, 5531, 993, 4776, 2988, 3925, 4769, 4258, 4599, 5193, 2247, 4863, 6452, 31, 4964, 3810, 3733, 5404, 6414, 4300, 942, 1291, 1180, 3529, 2577, 4956, 6109, 360, 2533, 1794, 3922, 5216, 851, 5175, 2805, 4971, 723, 1056, 5567, 136, 3446, 3340, 3423, 5488, 5754, 715, 4034, 6508, 5897, 3770, 2536, 483, 4485, 42, 3991, 4726, 2584, 5113, 5341, 4200, 4821, 921, 927, 2391, 3216, 3909, 4324, 990, 4697, 1516, 2567, 5834, 6126, 129, 2318, 2659, 3074, 4214, 869, 3274, 2199, 1012, 1103, 3290, 3952, 1986, 1137, 4574, 6497, 2255, 5034, 5098, 3981, 3709, 4664, 1842, 5258, 3924, 1484, 923, 3048, 4950, 3121, 3016, 5344, 2054, 2435, 3759, 6410, 6116, 217, 3497, 752, 2813, 4423, 3587, 5593, 3886, 3321, 2559, 4737, 5812, 5644, 6094, 5792, 6515, 1853, 1653, 3337, 3961, 1929, 2482, 4826, 4209, 6303, 2979, 6130, 3173, 5756, 443, 3531, 4866, 4792, 2033, 4281, 4284, 2058, 5677, 4958, 539, 5786, 3114, 4944, 3254, 3144, 2346, 4954, 5307, 1106, 4369, 2743, 4823, 4145, 2099, 460, 2579, 3132, 619, 5565, 2531, 1550, 6378, 4075, 4797, 98, 2893, 4257, 3923, 1079, 4322, 1403, 5785, 4003, 3281, 3786, 3765, 453, 6367, 1657, 311, 714, 3211, 372, 3625, 3404, 954, 1351, 3477, 2440, 5972, 3607, 924, 3467, 2678, 5108, 263, 6499, 5676, 6523, 3085, 3454, 3800, 5132, 4155, 466, 1046, 1797, 2644, 3351, 5371, 48, 4973, 2687, 5643, 6486, 3278, 2619, 4297, 1418, 1251, 5895, 4939, 6091, 6484, 4437, 6461, 2679, 6208, 2135, 1854, 5218, 1838, 517, 1763, 5803, 1444, 4241, 3655, 1426, 5708, 3752, 1372, 1770, 6207, 5465, 6202, 3516, 3505, 2334, 6381, 148, 4115, 2734, 1260, 3533, 3174, 3271, 2437, 1694, 1217, 3490, 1843, 3066, 275, 5349, 4969, 5018, 5190, 4288, 1869, 2494, 5228, 1786, 5127, 1896, 2925, 2987, 2106, 6055, 1029, 178, 4987, 4850, 3189, 352, 1708, 2862, 829, 2582, 67, 5292, 1242, 3357, 438, 5811, 2416, 4094, 3335, 5855, 3566, 3449, 3472, 3002, 2865, 1166, 716, 2306, 6213, 1203, 2156, 4732, 6336, 5369, 4541, 1366, 1085, 1530, 6258, 867, 4733, 6222, 5342, 47, 6127, 2227, 4777, 6058, 2278, 5697, 1049, 1051, 266, 677, 6250, 2950, 3512, 1649, 5340, 1018, 6345, 6054, 2068, 3611, 6023, 3899, 883, 3546, 3692, 6507, 37, 5569, 6363, 4818, 474, 2875, 2692, 4451, 3928, 2275, 3188, 2395, 2349, 2403, 3257, 1356, 510, 205, 5192, 237, 2384, 4048, 1879, 4468, 565, 3897, 2564, 3679, 3931, 1622, 5075, 5703, 3958, 4361, 2474, 3670, 4770, 6164, 5262, 2793, 3601, 3291, 3470, 4540, 6427, 4872, 5674, 5116, 5809, 1030, 4794, 4118, 3740, 591, 1131, 6328, 2585, 4962, 5487, 1157, 1613, 4557, 2200]\n",
      "val ids:  [4856, 5869, 2410, 1503, 5446, 1582, 2920, 5694, 1737, 1623, 2510, 2915, 3177, 1512, 2443, 5564, 235, 3140, 6254, 258, 791, 2978, 5264, 1482, 3657, 6255, 4904, 3723, 3737, 2763, 3548, 4751, 4352, 3160, 973, 3966, 4930, 4928, 1384, 2169, 5513, 2876, 3750, 464, 2611, 4198, 3787, 2990, 4947, 3203, 3698, 4044, 1457, 2981, 4659, 5382, 872, 184, 3238, 603, 1671, 1319, 4110, 6455, 4194, 4718, 4910, 18, 4813, 673, 4363, 1984, 691, 4690, 1032, 3917, 3883, 1862, 3138, 710, 4129, 4660, 5348, 5405, 6086, 122, 2667, 6509, 5535, 56, 5241, 5462, 5675, 2266, 2673, 1859, 4448, 6032, 2332, 2552, 3288, 2037, 5214, 105, 4213, 1198, 1213, 2609, 3914, 3628, 3406, 4087, 4287, 97, 852, 2682, 5284, 3443, 531, 3163, 6464, 5305, 1821, 6076, 2829, 6384, 356, 3990, 436, 4684, 25, 5640, 3194, 4605, 997, 3747, 2340, 1605, 1962, 5645, 4607, 3147, 3117, 4109, 3688, 6302, 5383, 1732, 2139, 807, 771, 6467, 5452, 2730, 125, 3377, 3063, 3836, 2620, 4124, 4091, 4227, 2997, 3245, 3282, 3641, 4779, 3994, 2204, 3088, 4453, 2703, 6450, 2897, 3126, 3537, 2345, 1043, 5776, 727, 5158, 3972, 3468, 450, 1038, 2196, 1578, 5052, 3355, 4446, 1536, 2453, 2698, 1130, 1775, 4434, 4001, 15, 384, 833, 2675, 2381, 3658, 3654, 53, 937, 535, 2221, 4493, 5671, 3575, 2506, 5648, 2445, 1897, 3485, 2003, 77, 1688, 1377, 4522, 2286, 2417, 4456, 3093, 6011, 2385, 2433, 5129, 3218, 3219, 3627, 4244, 2097, 4424, 6015, 1083, 1009, 6436, 1820, 4984, 6543, 3674, 2710, 4328, 3292, 6251, 2501, 4695, 6132, 2898, 4709, 4073, 4140, 2757, 1340, 4601, 4335, 4047, 5468, 2041, 4900, 4816, 2090, 4218, 1730, 6489, 1031, 6537, 2700, 5486, 513, 1783, 3921, 3578, 2023, 1490, 3232, 2722, 1871, 5526, 3660, 6040, 4216, 1206, 3169, 4425, 2117, 2027, 3606, 6105, 2985, 3277, 5929, 1539, 4230, 3891, 3416, 4088, 600, 6275, 3742, 3577, 1437, 4467, 4354, 5939, 4694, 45, 834, 5850, 2908, 1867, 5591, 5476, 5516, 3299, 6256, 5320, 5709, 4009, 4575, 2285, 5425, 6010, 3509, 3403, 865, 5133, 2496, 2837, 3791, 5969, 857, 1332, 2220, 2994, 4778, 2371, 627, 2554, 2323, 6101, 628, 3910, 4358, 4708, 2823, 3391, 376, 3775, 5596, 1054, 6406, 3867, 2919, 1276, 2976, 440, 1252, 345, 6449, 310, 6343, 2946, 3667, 3287, 5438, 3838, 1209, 3061, 5179, 3510, 2916, 1779, 3105, 4033, 1111, 5764, 1456, 4282, 5303, 6388, 3308, 287, 3984, 1298, 4440, 6340, 3823, 2030, 5617, 5311, 712, 1757, 150, 2427, 6077, 55, 12, 618, 6465, 1822, 6047, 3204, 3009, 5142, 2438, 2831, 3092, 3476, 6429, 5222, 5093, 1767, 3179, 29, 2642, 4523, 4993, 3451, 5106, 5243, 2483, 4717, 451, 6168, 3866, 5211, 3430, 5639, 3466, 2103, 3536, 4141, 4026, 3396, 1202, 1603, 2628, 4656, 2633, 784, 5100, 2942, 1548, 2125, 100, 5079, 4532, 5691, 3528, 4715, 6289, 1953, 3112, 3633, 3956, 5915, 3441, 525, 1662, 4738, 6184, 1860, 2546, 955, 3944, 1746, 3643, 701, 2961, 1517, 3939, 4407, 4896, 2356, 3334, 3535, 6028, 5270, 4810, 3272, 2714, 6039, 1410, 439, 3000, 4996, 5696, 597, 4233, 1809, 1493, 6272, 1292, 2680, 3157, 2785, 6529, 5197, 3123, 4163, 4217, 2505, 2819, 3542, 5833, 915, 1052, 2599, 1564, 4669, 501, 1833, 1197, 3213, 5152, 199, 3687, 5187, 3062, 2472, 2694, 28, 1379, 2504, 2164, 5389, 348, 674, 4538, 4667, 5432, 3001, 1982, 3096, 876, 4787, 280, 5710, 2884, 2432, 5701, 540, 1343, 4315, 4011, 2157, 5695, 5304, 4085, 3050, 1944, 5727, 830, 1362, 6029, 1411, 4488, 2185, 3239, 2778, 2553, 5194, 1345, 831, 4005, 3547, 4524, 624, 6419, 5630, 142, 2315, 3241, 1974, 226, 4731, 282, 2217, 698, 1424, 4636, 3708, 1164, 2921, 4692, 1118, 2672, 465, 4502, 4983, 6282, 3336, 2269, 1762, 3875, 1408, 3031, 6528, 6527, 374, 4740, 3604, 4201, 5848, 270, 2108, 5940, 4498, 4620, 299, 4861, 5966, 2326, 4604, 4302, 1317, 1567, 4353, 5863, 3220, 2151, 2418, 3312, 1955, 2038, 420, 1865, 2580, 2764, 3898, 6035, 3588, 363, 5887, 5537, 2709, 4966, 4068, 2746, 4337, 131, 3338, 1096, 5712, 182, 4698, 1771, 5607, 179, 1246, 2177, 4389, 3524, 2632, 2991, 123, 4696, 5064, 5772, 4027, 4191, 454, 5938, 4211, 2449, 1259, 2591, 3545, 3057, 4373, 6407, 2142, 4393, 613, 2357, 6185, 5455, 4250, 339, 286, 3722, 4627, 1735, 3460, 2708, 132, 3794, 5435, 288, 181, 3008, 1917, 5731, 702, 2732, 1179, 3395, 1026, 4808, 1506, 33, 1690, 3638, 4490, 6351, 4899, 3629, 1405, 5594, 1352, 4207, 173, 1571, 2854, 3253, 4167, 301, 1342, 5466, 875, 4170, 6490, 1428, 3409, 3947, 4371, 5880, 323, 4909, 5853, 3429, 546, 4655, 5478, 4356, 3411, 4138, 2953, 2203, 2825, 708, 3871, 2525, 3006, 3560, 687, 1017, 2863, 1777, 1832, 2747, 2527, 4462, 4827, 3012, 4144, 1416, 5588, 1659, 4280, 2382, 2404, 3247, 3694, 6169, 968, 6341, 3556, 4618, 5107, 4366, 6492, 514, 3054, 3729, 663, 2772, 1531, 4892, 790, 6294, 2178, 774, 552, 808, 3751, 2518, 3438, 2228, 5140, 6140, 3907, 2102, 2992, 3985, 4405, 3059, 3782, 2287, 3068, 4365, 4474, 3053, 5287, 4991, 2618, 69, 4403, 110, 5633, 5278, 4782, 2932, 2283, 4990, 5205, 2615, 717, 4069, 2767, 2982, 3645, 4062, 2034, 1586, 5381, 5065, 6333, 804, 5444, 388, 2759, 1186, 1376, 524, 116, 1522, 2354, 1488, 4483, 2448, 6408, 918, 4028, 2036, 839, 5647, 5968, 564, 4742, 5275, 3042, 930, 5914, 4549, 4558, 6216, 2563, 2194, 4963, 422, 2328, 3686, 2017, 2537, 3872, 3125, 5151, 5481, 4146, 5315, 2002, 5683, 1117, 312, 1617, 2325, 2430, 1341, 4937, 2388, 6430, 4247, 4651, 5178, 2754, 2770, 4225, 1693, 4330, 3496, 3554, 264, 2977, 4196, 5952, 4463, 1249, 4578, 6093, 5346, 1248, 4634, 4877, 2361, 3651, 4008, 1818, 6031, 1656, 3955, 2834, 1300, 3255, 2974, 5865, 5959, 2092, 4648, 3139, 622, 3158, 2392, 215, 4968, 6504, 2911, 6375, 5612, 4253, 4381, 1543, 6418, 5125, 3724, 126, 4576, 4765, 2766, 4665, 58, 475, 703, 2262, 66, 4586, 4022, 4202, 4395, 4178, 5806, 2012, 1188, 637, 2779, 5224, 1541, 1078, 1168, 911, 963, 4179, 4580, 794, 2882, 5463, 2347, 6424, 3426, 4067, 393, 5769, 6177, 1421, 2610, 1996, 1347, 135, 4375, 2322, 107, 4716, 2838, 4046, 3089, 5453, 4229, 3558, 2948, 1126, 6468, 5225, 3129, 5787, 5964, 5037, 1167, 6371, 5615, 1545, 4517, 5238, 4063, 3735, 2136, 4749, 2842, 665, 3793, 3102, 4847, 1707, 99, 2330, 2561, 4870, 1546, 4064, 1743, 3652, 6505, 3344, 3223, 3804, 39, 2161, 341, 1852, 6136, 5022, 1687, 5506, 2140, 362, 6382, 437, 4989, 6349, 2962, 2015, 700, 4422, 4945, 2922, 5103, 2853, 5970, 3837, 1733, 2795, 4045, 1088, 214, 4274, 506, 2086, 6284, 2018, 5324, 203, 4967, 4643, 4127, 3890, 6304, 134, 2514, 2486, 953, 6281, 200, 3414, 1766, 4066, 5023, 4007, 1709, 3550, 3932, 6200, 1019, 4128, 5867, 3039, 2792, 3500, 3389, 2607, 5913, 841, 6261, 3929, 4565, 2532, 3371, 2939, 2083, 1100, 3372, 1382, 4683, 5621, 6214, 2650, 3109, 1011, 4270, 5808, 2833, 1504, 1900, 418, 2836, 3141, 6209, 3602, 3862, 4461, 686, 2233, 2235, 6191, 4501, 3230, 297, 4219, 5114, 4768, 1739, 2799, 3437, 3480, 4470, 2965, 6107, 6119, 1448, 3940, 4773, 515, 5038, 2056, 2289, 890, 2246, 3148, 1661, 4057, 1402, 4215, 5714, 3523, 909, 5780, 3582, 3734, 6138, 485, 5544, 3677, 3090, 4974, 3595, 156, 1171, 4157, 4224, 4303, 2016, 5797, 1191, 6125, 6433, 6264, 3597, 3525, 5299, 5055, 6020, 6131, 2101, 4888, 500, 1282, 1122, 1195, 3493, 204, 1278, 4295, 889, 4554, 6220, 5399, 5066, 4570, 1614, 4623, 2626, 6266, 2359, 5777, 3756, 1595, 421, 2768, 1988, 5729, 340, 3319, 6409, 2175, 3826, 828, 1432, 4526, 4465, 4936, 805, 2006, 5056, 2790, 1275, 4056, 4119, 3190, 5313, 3246, 5013, 4728, 190, 2273, 3390, 3684, 2538, 6288, 44, 2612, 2649, 1430, 2454, 5430, 5102, 728, 6353, 1780, 6212, 4172, 4806, 1712, 3143, 4176, 222, 931, 1076, 3289, 3579, 3589, 5944, 4632, 1003, 1491, 5856, 6547, 3176, 5050, 586, 1262, 2654, 4074, 346, 5144, 1994, 5291, 6325, 5670, 1322, 3209, 2159, 616, 1745, 6005, 6462, 5852, 863, 2885, 1354, 3912, 5801, 1574, 920, 2369, 4812, 3634, 4845, 3137, 6365, 1346, 5070, 4125, 1905, 2256, 13, 4499, 425, 1073, 3639, 3712, 2883, 6372, 2655, 783, 2115, 554, 5651, 995, 382, 3824, 2717, 4486, 73, 5213, 756, 359, 1544, 5632, 4398, 5135, 2784, 6089, 6512, 3237, 4693, 3373, 5110, 2924, 368, 3777, 3207, 2148, 1185, 1210, 2189, 994, 2415, 996, 3811, 3331, 1594, 2661, 3082, 5623, 6199, 4875, 601, 6377, 4150, 6042, 4414, 5684, 3475, 1975, 3366, 1604, 1353, 1769, 276, 177, 2739, 336, 836, 753, 4478, 1401, 370, 3192, 153, 3165, 5101, 2526, 5067, 4699, 2986, 5427, 1287, 767, 1873, 1736, 2428, 6115, 3486, 1950, 3808, 5810, 358, 1925, 3844, 2324, 5673, 2420, 101, 3156, 1284, 2231, 6539, 6106, 5047, 4579, 2487, 5722, 2755, 4148, 946, 1596, 1244, 1132, 5398, 5622, 6536, 2150, 5692, 4834, 2394, 3953, 6205, 5702, 596, 6157, 1272, 3812, 6019, 2583, 3703, 5273, 1505, 6057, 2740, 1335, 1710, 1349, 183, 2327, 5802, 1027, 3248, 2888, 5265, 3506, 5720, 2372, 3697, 1485, 4714, 5815, 2147, 3583, 4631, 776, 5542, 949, 3342, 3868, 4747, 1288, 4767, 1935, 1666, 5290, 6339, 3749, 6099, 1257, 1734, 1511, 3581, 2689, 3380, 2629, 3717, 2239, 3436, 314, 4059, 4379, 3766, 4306, 5217, 2566, 3240, 837, 859, 3118, 3519, 232, 434, 212, 1044, 5036, 827, 6022, 3803, 4691, 6451, 2423, 864, 477, 316, 2664, 2174, 3521, 373, 3605, 5774, 5044, 2492, 5881, 3285, 4977, 5456, 1813, 1113, 3882, 5012, 4122, 6095, 3142, 4803, 2907, 118, 3934, 1005, 4079, 5890, 4212, 3721, 4893, 6518, 4392, 2013, 1527, 3530, 1328, 144, 6330, 5888, 6060, 423, 1208, 3043, 3020, 3250, 1022, 1902, 1133, 2254, 3422, 998, 1752, 5195, 5592, 2064, 3858, 1849, 5511, 4130, 2257, 1501, 4454, 1676, 866, 6355, 3359, 1568, 1330, 1626, 855, 2716, 1758, 5794, 6088, 1385, 3428, 3462, 4829, 4321, 2971, 5925, 1378, 2970, 595, 255, 3753, 530, 3835, 4318, 4849, 5288, 2280, 228, 4516, 3970, 2471, 5318, 4175, 3508, 785, 296, 4137, 2631, 2085, 1295, 4037, 3665, 4143, 4521, 4248, 4970, 5024, 5282, 1845, 4804, 5979, 3182, 4953, 180, 668, 5928, 3306, 2606, 5186, 947, 3320, 3762, 1254, 1495, 2407, 1006, 5685, 4645, 1689, 4313, 5457, 4314, 1533, 1992, 1980, 2192, 4015, 5054, 4824, 6036, 4082, 4527, 3960, 1753, 4301, 1422, 1606, 6283, 1138, 5693, 1095, 3544, 2447, 1915, 1045, 2207, 4039, 305, 2138, 1443, 3313, 5517, 611, 4786, 3615, 36, 3816, 2004, 3962, 4476, 218, 2431, 5385, 447, 2733, 4452, 210, 5277, 3004, 3353, 2826, 3483, 197, 6110, 4061, 2824, 3877, 5242, 2616, 5614, 1468, 631, 3317, 4377, 684, 3621, 4997, 4408, 4577, 3501, 4042, 967, 1669, 4796, 2693, 5019, 3243, 4316, 6510, 5141, 6122, 3979, 2390, 5423, 3754, 337, 2550, 4092, 5733, 3978, 2042, 2450, 6004, 458, 1976, 5115, 2886, 4564, 2832, 2195, 4911, 3963, 1510, 2414, 3175, 1089, 5924, 11, 1898, 6549, 4076, 4089, 1002, 211, 5879, 1835, 344, 6344, 1579, 1714, 1097, 4050, 2891, 3905, 2072, 5181, 5529, 1010, 4940, 5858, 6279, 1215, 3849, 5388, 5862, 259, 6469, 5234, 4609, 2070, 2643, 91, 5271, 2116, 2638, 1824, 1333, 6008, 4460, 1528, 3473, 4883, 5690, 6435, 6046, 4705, 4552, 760, 5512, 4555, 2742, 1214, 4391, 6350, 433, 1015, 2057, 4269, 3646, 3183, 2088, 3630, 5960, 3069, 5235, 1795, 3720, 2188, 6024, 3695, 4530, 4159, 2803, 2604, 5293, 4537, 5954, 445, 5020, 2658, 5302, 1020, 5011, 4237, 137, 2702, 385, 2738, 3180, 5296, 3700, 3024, 2773, 4025, 2409, 1781, 919, 1823, 5196, 38, 5117, 4397, 3305, 5936, 6496, 3852, 6186, 2250, 1325, 3710, 4445, 2811, 4372, 3964, 917, 3419, 2179, 3402, 6376, 2896, 4884, 548, 5649, 5372, 6368, 3711, 1348, 1108, 4932, 4384, 2500, 1155, 4874, 3678, 5105, 6326, 782, 5208, 1751, 2245, 6007, 1892, 644, 3036, 46, 4700, 2839, 6534, 2076, 6108, 5893, 1670, 3185, 612, 4332, 2695, 3704, 106, 2035, 2903, 6385, 3382, 5257, 3869, 4689, 3153, 5149, 3965, 4994, 4231, 3187, 1715, 2011, 5790, 43, 4473, 3098, 5884, 5528, 2846, 2422, 1423, 4931, 2879, 6542, 448, 3206, 5370, 4012, 4038, 3675, 3888, 3370, 1077, 809, 2352, 1158, 6037, 3172, 1263, 5974, 3210, 3208, 4031, 1940, 4239, 5191, 4097, 1563, 4394, 3833, 1093, 1211, 2270, 526, 468, 3647, 1496, 2439, 1337, 4058, 3086, 2145, 4725, 2279, 6187, 3303, 5154, 4525, 484, 3736, 6027, 1247, 1104, 5352, 1243, 4070, 2781, 3685, 1817, 3769, 4625, 5719, 6090, 175, 3716, 3761, 3127, 3603, 1535, 3778, 2032, 4885, 6016, 6295, 6118, 4106, 1084, 3950, 2617, 3049, 2060, 3620, 3168, 2963, 6271, 3448, 3249, 1357, 694, 5557, 4506, 606, 5891, 3997, 3553, 5060, 1050, 4581, 4093, 5977, 4621, 2724, 1941, 5362, 4271, 5889, 1866, 1112, 4419, 26, 2912, 3973, 1756, 2113, 1576, 797, 3022, 5035, 1695, 3623, 6299, 2059, 2452, 519, 5562, 5634, 5782, 3831, 127, 664, 2776, 5076, 3464, 172, 3099, 6386, 2736, 6356, 1627, 4205, 5182, 787, 2455, 3025, 2467, 4477, 3458, 1749, 3894, 5130, 5077, 4466, 3152, 4279, 2995, 1134, 3469, 5619, 2456, 3903, 449, 630, 1989, 5532, 3851, 5259, 1374, 670, 65, 607, 5813, 5894, 6182, 2725, 5553, 3401, 3286, 4894, 2182, 302, 4382, 2367, 5215, 207, 3474, 5522, 2303, 3385, 3452, 5240, 1834, 2158, 6530, 2597, 1930, 3328, 3221, 4041, 706, 4199, 5996, 912, 4331, 4329, 3037, 1135, 5353, 1184, 5028, 5946, 2681, 4484, 3822, 3821, 5048, 2887, 4785, 5442, 1124, 1926, 1266, 4942, 1129, 3103, 3361, 4748, 387, 1836, 2999, 4243, 1318, 1851, 1891, 1082, 5475, 4876, 3864, 71, 3815, 2468, 6026, 1922, 3741, 366, 3617, 1326, 4633, 2104, 2202, 5965, 2091, 4946, 2146, 683, 303, 3363, 3616, 2026, 1848, 2463, 2856, 6456, 1624, 1615, 1906, 2120, 452, 4254, 1107, 1189, 780, 2859, 4704, 4701, 2386, 4136, 4539, 4013, 2529, 2031, 2918, 5177, 4819, 6038, 547, 3021, 3315, 1415, 689, 6286, 6546, 2676, 2874, 2765, 2812, 4981, 3624, 5482, 3859, 5437, 4255, 1412, 5885, 5395, 1467, 3032, 1939, 669, 792, 550, 2996, 6034, 2663, 5148, 3915, 2073, 2726, 633, 3745, 5555, 2426, 2301, 1583, 3131, 634, 2857, 5358, 2902, 5112, 5477, 6269, 3783, 5524, 759, 2647, 4710, 4023, 874, 6453, 2964, 1672, 4035, 5143, 5394, 6443, 4149, 4162, 375, 4882, 1192, 5321, 209, 4982, 2095, 292, 847, 3348, 5849, 2470, 4867, 2665, 4133, 1947, 5068, 1705, 2355, 1811, 4299, 1703, 2575, 5766, 1047, 4503, 5868, 6102, 5554, 3154, 1025, 3297, 3515, 3314, 6535, 5424, 2668, 672, 873, 75, 1466, 1115, 3325, 5611, 5049, 2419, 541, 4203, 534, 2319, 2010, 1938, 6361, 5589, 2901, 6111, 2881, 2769, 2009, 2608, 1993, 3284, 5031, 2868, 1105, 5401, 93, 5210, 189, 3354, 5448, 6306, 3813, 6458, 3341, 191, 6084, 4544, 1400, 4929, 2197, 5962, 3195, 5637, 5484, 886, 4226, 3258, 5510, 3275, 1283, 4197, 5379, 1876, 5433, 2547, 1514, 5046, 991, 5137, 2351, 3557, 4234, 4543, 41, 2348, 4857, 5937, 4370, 4869, 3130, 5870, 2333, 2100, 1569, 3461, 1375, 2190, 5933, 3491, 5231, 3974, 4948, 6052, 4814, 2674, 4820, 3343, 3318, 3252, 4985, 444, 343, 6167, 2791, 6135, 5402, 3407, 5094, 2114, 4943, 4735, 1187, 6218, 1954, 3235, 4342, 5261, 2983, 1380, 4168, 4551, 2014, 3365, 3696, 272, 6124, 3427, 2094, 5263, 1500, 2309, 6049, 5716, 1942, 5779, 2253, 4174, 786, 225, 3122, 3669, 2760, 1868, 944, 5233, 3551, 4626, 2223, 1037, 1036, 4236, 3522, 4206, 4161, 3538, 2232, 426, 3091, 5730, 1321, 1933, 2814, 3236, 707, 3552, 6273, 2691, 4771, 147, 3083, 1645, 114, 6538, 3610, 4256, 2587, 1844, 1616, 2339, 5771, 1729, 1664, 599, 2944, 2534, 4650, 6087, 2549, 1995, 5595, 1864, 2969, 2929, 2337, 265, 4712, 758, 2495, 2715, 4336, 4043, 4435, 5295, 176, 3459, 1001, 3559, 3080, 6017, 1946, 4741, 697, 4142, 4421, 4912, 4285, 4135, 3828, 354, 4368, 4547, 4986, 2341, 4156, 3767, 2478, 3431, 2206, 5843, 4682, 4438, 6285, 5160, 5073, 187, 5157, 764, 971, 5267, 3084, 5095, 6500, 2281, 1831, 196, 948, 2931, 3825, 3865, 1413, 2342, 2729, 2980, 1285, 1698, 751, 3273, 2808, 1170, 6338, 4378, 6137, 3392, 2806, 4293, 2635, 4518, 5726, 3870, 4992, 3779, 2244, 4049, 1914, 5845, 6362, 4252, 3841, 1274, 2937, 1237, 1847, 185, 779, 3224, 1436, 726, 2551, 104, 2274, 20, 5951, 1547, 2224, 1961, 2593, 5356, 5150, 2180, 4443, 2311, 838, 5467, 788, 1162, 291, 4995, 404, 4383, 3418, 40, 3644, 6415, 3307, 2249, 6103, 1156, 845, 3626, 2572, 1740, 2473, 885, 2581, 202, 3568, 3967, 139, 4496, 3784, 2166, 6012, 4108, 3455, 2684, 3860, 527, 6387, 472, 2236, 3570, 5297, 5533, 5396, 5029, 3532, 675, 2938, 5948, 3270, 6053, 2154, 2614, 1492, 4670, 1782, 625, 1091, 2499, 5365, 3702, 5189, 6545, 1667, 4534, 583, 143, 3262, 3846, 4333, 6247, 2069, 1008, 1181, 860, 536, 5781, 3599, 5109, 3398, 5604, 2801, 4232, 4399, 6257, 3983, 4614, 6211, 3998, 1446, 195, 688, 3294, 3065, 1368, 1497, 2503, 3896, 1258, 467, 154, 3671, 5538, 1296, 1454, 2794, 6514, 6260, 1297, 6033, 233, 6531, 5283, 5285, 4707, 3101, 3758, 6175, 2866, 403, 6100, 1677, 6426, 4653, 3884, 2590, 138, 1429, 761, 1814, 5728, 3848, 803, 1336, 2645, 3108, 5364, 4815, 3900, 3739, 2652, 5043, 2043, 3631, 620, 1464, 6447, 5570, 3072, 6156, 4686, 629, 6300, 1508, 3746, 922, 4878, 609, 6009, 1090, 593, 1515, 2186, 2555, 293, 5232, 1765, 4568, 1924, 1602, 4619, 5392, 54, 3957, 5967, 5226, 6352, 667, 2804, 5618, 1788, 6544, 1747, 5610, 3184, 5123, 4053, 1808, 2489, 3906, 2956, 1483, 1445, 4402, 3433, 6006, 5198, 68, 2152, 2847, 4171, 1612, 6334, 4608, 4187, 462, 877, 192, 4644, 5800, 1826, 3244, 3045, 2596, 1744, 3763, 5558, 1590, 1174, 2451, 3492, 2144, 5723, 2123, 2756, 6501, 2479, 5793, 6404, 3850, 1175, 3561, 1154, 4412, 2446, 4600, 1890, 2112, 4487, 3064, 383, 1620, 770, 2573, 5033, 3502, 3268, 3011, 1427, 2176, 6270, 2595, 542, 951, 3397, 4587, 2310, 4166, 213, 3078, 5705, 1509, 5543, 6442, 849, 1741, 5122, 2775, 1858, 5568, 868, 537, 4014, 6466, 4784, 508, 2686, 3364, 5799, 1784, 2523, 4913, 4941, 4637, 1621, 4573, 6139, 3161, 2828, 4802, 3215, 2653, 4957, 5975, 5626, 5770, 796, 2696, 389, 2272, 5429, 5971, 1699, 2493, 666, 4401, 5507, 6293, 2807, 2894, 3038, 5376, 3718, 645, 2744, 6348, 563, 1358, 6425, 3839, 745, 3228, 3079, 5471, 4444, 315, 1748, 5765, 1489, 6287, 6141, 2508, 1755, 4520, 283, 862, 1903, 2598, 2690, 5689, 3384, 4326, 350, 4192, 5608, 5860, 511, 1183, 4411, 2877, 6204, 230, 74, 1033, 2149, 1537, 3785, 555, 643, 1331, 3052, 2900, 1991, 1910, 2613, 4505, 3295, 3829, 119, 2465, 2917, 1086, 5854, 3640, 681, 6517, 4086, 1114, 3310, 5458, 6291, 3405, 4817, 4458, 5688, 5753, 2967, 5798, 4084, 149, 945, 1609, 4528, 1196, 1371, 3383, 3744, 5380, 3488, 6290, 3792, 5367, 5923, 4952, 378, 3399, 1289, 277, 3494, 6237, 1990, 1273, 4152, 1628, 3902, 1692, 2155, 5636, 6411, 5844, 5530, 1299, 3435, 6181, 3975, 2062, 6117, 2238, 2187, 1650, 355, 4312, 2205, 5773, 4006, 4112, 5523, 2087, 6018, 929, 2975, 1660, 2082, 2844, 5625, 5010, 4657, 5460, 254, 5136, 3412, 24, 1877, 5775, 6050, 2402, 5422, 2895, 2685, 1978, 5472, 1646, 1101, 2364, 3309, 6193, 456, 605, 2172, 5219, 3279, 461, 746, 6457, 3323, 3457, 3017, 3904, 1160, 1702, 5788, 3797, 3842, 4833, 755, 6420, 4165, 679, 5274, 2861, 4658, 1433, 289, 6354, 4032, 2657, 6448, 1565, 3889, 186, 231, 4628, 647, 3768, 2243, 3730, 4542, 4404, 2797, 4858, 584, 4116, 1907, 4975, 5014, 763, 3014, 4978, 4901, 4386, 4603, 5646, 1588, 5551, 3111, 1303, 3673, 2248, 2259, 6083, 3226, 5796, 1494, 4351, 3259, 5882, 92, 5525, 2669, 3941, 3322, 59, 2851, 6431, 1245, 4583, 1055, 4420, 5276, 1110, 4464, 4789, 307, 5804, 2927, 4822, 3663, 2241, 6519, 1697, 2840, 4004, 4864, 3781, 3817, 2096, 2441, 6373, 4164, 2666, 5180, 3381, 3376, 4081, 6331, 3326, 925, 109, 4472, 4441, 157, 2512, 5878, 5474, 2126, 5997, 2816, 5237, 2783, 5354, 551, 3592, 5539, 2782, 4846, 1829, 4497, 4494, 1035, 3788, 6133, 3417, 5078, 6370, 621, 397, 4988, 1271, 1764, 4208, 1658, 2466, 1540, 2089, 3514, 2063, 3776, 6044, 4071, 1092, 5927, 470, 4390, 3513, 267, 856, 4630, 4553, 5672, 3993, 581, 4334, 1194, 234, 3201, 2752, 4711, 3010, 3863, 1943, 3982, 2258, 2413, 3347, 6172, 768, 3649, 4439, 279, 5515, 2941, 2226, 2509, 5930, 5368, 5518, 4793, 4746, 3534, 2959, 3450, 2867, 1053, 4848, 3113, 4775, 3387, 3056, 545, 3453, 1934, 3728, 1654, 4221, 2398, 5317, 5638, 1518, 1870, 4788, 351, 342, 4442, 381, 3029, 5147, 1812, 5549, 5131, 4357, 3980, 473, 3540, 4325, 3046, 592, 1365, 27, 3571, 2276, 5097, 5300, 1238, 2513, 4340, 4743, 3193, 3439, 3425, 3164, 4615, 4188, 2335, 6178, 848, 6440, 1014, 34, 2545, 2701, 2208, 2651, 970, 972, 4979, 5015, 4204, 391, 1923, 357, 6056, 1678, 3300, 64, 432, 2528, 5229, 6498, 3227, 5239, 6379, 60, 5876, 5961, 3060, 1463, 3267, 3166, 5669, 3893, 2910, 2098, 3971, 1908, 2234, 1094, 361, 3650, 6463, 521, 6346, 3572, 4852, 4228, 4662, 6416, 1927, 2940, 5711, 5230, 3097, 6041, 3656, 842, 1072, 2383, 2314, 4291, 1998, 3424, 3832, 1773, 2637, 5505, 2524, 2864, 6048, 5480, 6206, 1825, 1684, 1087, 4154, 5943, 4475, 1611, 3196, 5051, 5698, 602, 2401, 2848, 512, 3598, 130, 1269, 1791, 553, 6374, 690, 3242, 2718, 22, 1455, 1592, 6292, 4290, 2078, 3413, 2574, 3725, 1075, 5767, 646, 5547, 5883, 2594, 6276, 1042, 2436, 308, 317, 3133, 1819, 1931, 4933, 6441, 4903, 2758, 3949, 871, 2110, 3199, 3106, 395, 4413, 430, 4491, 4158, 4311, 1364, 5294, 256, 1205, 3945, 4343, 3662, 969, 2137, 2762, 5155, 2267, 1169, 377, 3162, 4783, 469, 1034, 2429, 4415, 6278, 556, 6525, 891, 5541, 262, 1581, 2271, 1253, 3205, 4830, 3876, 5058, 699, 1731, 935, 4898, 748, 2934, 938, 369, 1591, 2061, 4825, 4275, 4668, 2802, 2890, 424, 1526, 750, 5069, 21, 1159, 4764, 2277, 3330, 1727, 5156, 2627, 2605, 1370, 2229, 3167, 300, 5976, 5099, 1524, 928, 1220, 3110, 6417, 3067, 1580, 4002, 3055, 5464, 2252, 1668, 2230, 115, 6369, 6526, 4177, 4104, 6296, 6532, 5391, 57, 2592, 188, 1857, 5373, 6324, 6179, 1074, 1830, 3986, 1987, 4406, 3356, 1264, 2562, 4072, 6096, 4934, 2601, 3563, 3155, 4121, 6380, 4309, 1587, 1523, 2892, 3683, 3895, 1023, 3565, 3329, 4359, 843, 5896, 2972, 1625, 1597, 6174, 4147, 5994, 1383, 6413, 4396, 3977, 6550, 5355, 5400, 936, 1161, 532, 5074, 4319, 2827, 2777, 5316, 2821, 1630, 3327, 3135, 124, 121, 757, 2389, 3095, 1682, 5473, 932, 6437, 6163, 1957, 3885, 5459, 6446, 5807, 2424, 3636, 1912, 5104, 17, 1250, 3564, 2850, 394, 5627, 365, 6198, 709, 4385, 309, 507, 3333, 1123, 5322, 610, 2122, 4292, 680, 3358, 2745, 4294, 19, 120, 4729, 4272, 1447, 2774, 1438, 1098, 3517, 4283, 1981, 2170, 2984, 3499, 1268, 4854, 2173, 5447, 5269, 4750, 6195, 5347, 284, 306, 3727, 5721, 3269, 1619, 2143, 3795, 5071, 2712, 2993, 1893, 1465, 6487, 1193, 543, 396, 6439, 5563, 6051, 5406, 582, 2909, 6342, 1750, 5713, 636, 290, 3263, 3713, 5616, 4120, 941, 3293, 4409, 3614, 4134, 1507, 3809, 1815, 3007, 3075, 3879, 2677, 3222, 4766, 2656, 2750, 3780, 140, 778, 3719, 4661, 2957, 2660, 3076, 5932, 853, 3234, 4642, 6329, 6267, 1024, 4040, 5871, 2191, 2958, 4730, 3296, 4706, 4855, 4624, 5875, 2209, 854, 1598, 1102, 1778, 3930, 459, 5724, 2519, 6483, 6221, 4077, 2251, 4111, 2966, 4602, 4831, 5864, 4376, 533, 1911, 1240, 5268, 5935, 2719, 840, 1286, 2124, 538, 1241, 3465, 3463, 1875, 1399, 2565, 754, 4504, 5319, 2497, 5687, 3676, 528, 1631, 6332, 2421, 3191, 1945, 769, 2075, 957, 1572, 5934, 2662, 2225, 598, 5917, 4703, 705, 2936, 3845, 1190, 5027, 2817, 3591, 5260, 4868, 3586, 5534, 1647, 6327, 4908, 6444, 6358, 5220, 4951, 2397, 4744, 4681, 4126, 3580, 145, 6262, 1960, 2020, 3181, 4647, 772, 3699, 623, 1542, 2412, 2019, 5837, 4582, 1409, 4036, 146, 174, 304, 3214, 23, 2796, 4417, 1951, 3178, 3507, 6170, 3087, 2878, 5942, 965, 3969, 294, 3693, 4891, 5624, 5126, 1176, 594, 2284, 3668, 2007, 5345, 3408, 1742, 4195, 3933, 95, 1320, 3388, 1904, 6098, 1713, 3948, 1127, 685, 939, 604, 4367, 1949, 152, 6305, 1846, 2723, 6075, 4865, 2913, 1218, 1219, 940, 3304, 6428, 2363, 1165, 2302, 1738, 5479, 4955, 3619, 5301, 5978, 2358, 1449, 4083, 3873, 2242, 2308, 5469, 6337, 4317, 2366, 2488, 72, 5426, 4388, 2265, 1302, 2603, 3987, 2860, 1128, 1728, 3018, 5111, 1632, 1785, 3618, 3802, 3498, 3369, 6432, 4635, 155, 5947, 5312, 3796, 2639, 6245, 1696, 5483, 2484, 6485, 724, 4065, 3659, 4853, 3819, 3682, 1294, 5092, 371, 6434, 111, 271, 3632, 6503, 3302, 884, 4055, 4851, 6217, 3584, 4189, 1414, 5953, 5387, 5718, 3003, 5289, 1663, 3959, 5363, 3857, 1789, 1355, 5461, 6252, 4832, 2646, 5963, 3732, 61, 6516, 2815, 1265, 5536, 1685, 3901, 2820, 5791, 4646, 6183, 4054, 806, 4500, 2268, 1256, 4585, 2434, 2290, 6263, 5874, 6277, 380, 3715, 5857, 364, 5700, 2307, 3714, 678, 4533, 455, 5795, 1855, 3976, 3518, 1856, 6323, 3908, 3590, 3988, 1983, 1525, 1373, 858, 5628, 435, 2926, 4610, 5059, 6097, 3047, 6003, 76, 1178, 992, 6176, 4663, 5350, 4210, 5032, 704, 2028, 1932, 6128, 198, 2713, 4638, 502, 3478, 4246, 2697, 2171, 3283, 5546, 2905, 5717, 1216, 943, 3394, 1686, 3927, 2022, 5021, 2741, 5306, 1878, 5204, 3861, 1532, 113, 6043, 1899, 1796, 2568, 2588, 2005, 2118, 5323, 5434, 2648, 4117, 6215, 5128, 934, 777, 4090, 2163, 1593, 2485, 5161, 5763, 2904, 3378, 964, 4489, 3256, 4447, 4327, 4123, 1772, 2181, 3843, 1417, 2830, 861, 1344, 1125, 236, 4251, 3642, 4688, 5378, 30, 1425, 3151, 747, 5704, 1916, 14, 2093, 1863, 5236, 2071, 5540, 151, 1327, 5545, 6265, 4096, 5384, 5188, 4572, 94, 4235, 4685, 2313, 216, 5945, 2721, 3482, 6502, 1099, 441, 3415, 3995, 1872, 5877, 4972, 5995, 1918, 2408, 2399, 5509, 4016, 1675, 4584, 5950, 4871, 2578, 108, 2873, 6511, 4617, 1021, 3005, 5707, 206, 1499, 2889, 615, 1277, 713, 3421, 4449, 3596, 1453, 3661, 3805, 3569, 1000, 632, 35, 429, 2264, 1607, 2906, 1937, 4807, 4548, 3593, 4976, 1338, 589, 3926, 6403, 5836, 3878, 3612, 4809, 5851, 4362, 4051, 2989, 2728, 4450, 2810, 1827, 3830, 3487, 5053, 3202, 1655, 1894, 6210, 5609, 298, 3681, 349, 1704, 1972, 3261, 1502, 4562, 5449, 4752, 3094, 3386, 693, 2727, 5699, 6092, 3818, 1768, 2735, 2316, 5873, 1973, 5783, 4296, 6192, 476, 2065, 6548, 5061, 5357, 3081, 2168, 3748, 2933, 223, 6521, 4546, 1420, 3070, 2571, 5139, 3726, 4906, 6025, 4890, 1928, 3968, 2516, 832, 6121, 2569, 4727, 3585, 4859, 6298, 1577, 220, 5063, 5017, 2198, 3346, 2353, 5272, 2600, 4938, 6357, 5436, 846, 5832, 3150, 5397, 1816, 3653, 6366, 3447, 2021, 6112, 4889, 5955, 2998, 1608, 4380, 2558, 5443, 505, 5635, 2368, 2261, 2183, 6113, 6459, 5847, 5377, 2362, 1936, 5778, 1913, 1828, 3555, 4132, 766, 1239, 522, 5202, 3913, 3149, 4323, 257, 2855, 3128, 6494, 2360, 2338, 1683, 5958, 5886, 509, 5176, 4736, 1711, 4304, 3136, 2008, 4010, 2490, 2968, 2469, 6129, 1339, 5861, 6253, 614, 1293, 3801, 4687, 6120, 5309, 3731, 5209, 1726, 2481, 5846, 3264, 6219, 3743, 2711, 4556, 4569, 2464, 1774, 950, 2943, 1177, 5203, 5212, 3028, 5916, 6014, 4571, 6524, 9, 1261, 6203, 4024, 6171, 3942, 5755, 5603, 2818, 2517, 762, 6123, 956, 70, 1529, 2305, 4828, 3562, 3543, 3171, 1958, 52, 1701, 2350, 2753, 4915, 4791, 4772, 775, 3041, 2955, 2822, 4249, 2621, 4276, 3058, 4949, 6165, 1977, 1334, 201, 4811, 1450, 4360, 692, 1652, 49, 1013, 3705, 5613, 1081, 3635, 2222, 590, 1407, 6335, 32, 5351, 504, 3345, 6030, 1810, 2084, 4193, 6196, 2304, 3442, 3549, 1513, 3145, 103, 6541, 2521, 274, 4622, 5184, 4029, 3503, 5403, 2935, 4902, 5751, 6491, 585, 261, 6364, 5451, 3265, 6513, 1406, 5941, 3368, 3943, 1080, 4410, 4190, 2344, 608, 1109, 4107, 4223, 1431, 5045, 5527, 1909, 3316, 2771, 392, 1016, 5431, 5706, 4416, 3471, 2843, 6248, 2288, 2029, 1573, 2852, 2373, 1290, 518, 1498, 5146, 1004, 3197, 3916, 3541, 3834, 1700, 4482, 5138, 3119, 1538, 2780, 3023, 6506, 5298, 133, 3666, 3374, 386, 1618, 5597, 5566, 2406, 1451, 4078, 3266, 6488, 3996, 2835, 4113, 96, 5454, 6249, 2107, 2167, 4723, 749, 4273, 4277, 5605, 5266, 3367, 5450, 128, 2184, 835, 3035, 6383, 781, 1776, 5025, 5552, 2586, 2442, 2365, 427, 5784, 6522, 4289, 4652, 2923, 1837, 2872, 2263, 4895, 3375, 1369, 3806, 3420, 2548, 4305, 3489, 5768, 4629, 117, 4588, 3352, 888, 1007, 5561, 3613, 2024, 2260, 2141, 4338, 4598, 5390, 4245, 6180, 5124, 3484, 588, 2219, 4469, 4095, 2044, 5556, 5814, 795, 4550, 4654, 1979, 1850, 295, 1367, 5973, 3212, 2317, 4436, 4914, 2411, 789, 4220, 269, 5057, 523, 3706, 4790, 3790, 773, 3567, 431, 5096, 2945, 5185, 5145, 4242, 6104, 6460, 3170, 3225, 3918, 1204, 5375, 3479, 4566, 793, 2530, 278, 2491, 3573, 549, 5892, 2476, 446, 3764, 5072, 4418, 5504, 6224, 3799, 1381, 224, 999, 2331, 1673, 676, 1793, 916, 4545, 6301, 6013, 419, 4536, 1584, 3115, 4649, 1434, 3445, 1212, 3807, 353, 4308, 2300, 3107, 2841, 1948, 1691, 3594, 5508, 2475, 2153, 1985, 6244, 5428, 5752, 2201, 695, 1549, 520, 4798, 4713, 671, 5866, 5343, 2671, 4259, 2761, 2291, 3892, 5686, 4734, 2589, 4492, 5470, 887, 4471, 4387, 3992, 696, 4529, 4169, 6421, 194, 1329, 221, 4286, 347, 6085, 5386, 1959, 1706, 1790, 2630, 367, 6493, 2556, 5835, 5366, 5715, 2374, 3847, 51, 4612, 1575, 62, 3393, 2858, 4495, 617, 5789, 4907, 3539, 5514, 1136, 3757, 5445, 3260, 4238, 4222, 4364, 2748, 5026, 6059, 1452, 5308, 2312, 4897, 6454, 5548, 711, 193, 1901, 4567, 5949, 5118, 2515, 1487, 2074, 635, 6495, 390, 2444, 2602, 1350, 5732, 2329, 4298, 765, 3159, 260, 6445, 2522, 5631, 3044, 2077, 6194, 5872, 2634, 1173, 5310, 1324, 6045, 2336, 5956, 4606, 2321, 913, 2731, 2237, 4519, 3701, 6142, 2193, 844, 208, 3350, 219, 5859, 2039, 2282, 2477, 1570, 5931, 2914, 3495, 1460, 285, 5805, 2067, 1172, 2544, 2520, 3077, 2949, 1874, 5559, 3030, 1419, 2749, 4339, 5286, 3827, 5560, 273, 3999, 4862, 5062, 5183, 3015, 4873, 16, 2899, 2688, 2396, 3880, 2737, 2947, 3071, 1787, 4030, 6173, 4459, 2405, 4563, 3707, 1116, 3511, 1589, 5207, 6359, 2343, 1629, 1534, 3814, 4260, 4151, 3229, 4307, 2105, 3951, 1956, 4980, 4795, 3881, 4722, 910, 5926, 2973, 5620, 3911, 1610, 4886, 5030, 850, 914, 4613, 5134, 2393, 6551, 2111, 4860, 4457, 3019, 2165, 1997, 952, 1442, 5587, 3349, 3456, 3954, 5393, 2066, 6423, 1754, 4781, 3432, 379, 2511, 102, 3379, 3311, 3324, 6021, 3664, 2121, 4278, 338, 1648, 5606, 4310, 4153, 4374, 229, 4616, 1404, 5314, 2425, 5227, 1861, 4965, 5642, 6268, 3051, 6412, 50, 1481, 3789, 1163, 2683, 428, 5042, 5206, 6540, 4261, 1236, 2809, 1952, 463, 4774, 4531, 5485, 268, 2119, 63, 2928, 4455, 1028, 6197, 2849, 5629, 4805, 6243, 587, 566, 2387, 2055, 1048, 2040, 3298, 5221, 457, 6297, 6280, 3574, 5550, 4905, 3410, 4131, 1674, 926, 2109, 6405, 4702, 1270, 2798, 3251, 1585, 6246, 3217, 4105, 626]\n",
      "test ids:  [0, 1, 2, 3, 4, 5, 6, 7, 8, 78, 79, 80, 81, 82, 83, 84, 85, 86, 87, 88, 89, 90, 158, 159, 160, 161, 162, 163, 164, 165, 166, 167, 168, 169, 170, 171, 238, 239, 240, 241, 242, 243, 244, 245, 246, 247, 248, 249, 250, 251, 252, 253, 318, 319, 320, 321, 322, 324, 325, 326, 327, 328, 329, 330, 331, 332, 333, 334, 335, 398, 399, 400, 401, 402, 405, 406, 407, 408, 409, 410, 411, 412, 413, 414, 415, 416, 417, 478, 479, 480, 481, 482, 486, 487, 488, 489, 490, 491, 492, 493, 494, 495, 496, 497, 498, 499, 558, 559, 560, 561, 562, 567, 568, 569, 570, 571, 572, 573, 574, 575, 576, 577, 578, 579, 580, 638, 639, 640, 641, 642, 648, 649, 650, 651, 652, 653, 654, 655, 656, 657, 658, 659, 660, 661, 662, 718, 719, 720, 721, 722, 729, 730, 731, 732, 733, 734, 735, 736, 737, 738, 739, 740, 741, 742, 743, 744, 798, 799, 800, 801, 802, 810, 811, 812, 813, 814, 815, 816, 817, 818, 819, 820, 821, 822, 823, 824, 825, 826, 878, 879, 880, 881, 882, 892, 893, 894, 895, 896, 897, 898, 899, 900, 901, 902, 903, 904, 905, 906, 907, 908, 958, 959, 960, 961, 962, 974, 975, 976, 977, 978, 979, 980, 981, 982, 983, 984, 985, 986, 987, 988, 989, 1039, 1040, 1041, 1057, 1058, 1059, 1060, 1061, 1062, 1063, 1064, 1065, 1066, 1067, 1068, 1069, 1070, 1071, 1119, 1120, 1121, 1139, 1140, 1141, 1142, 1143, 1144, 1145, 1146, 1147, 1148, 1149, 1150, 1151, 1152, 1153, 1199, 1200, 1201, 1221, 1222, 1223, 1224, 1225, 1226, 1227, 1228, 1229, 1230, 1231, 1232, 1233, 1234, 1235, 1279, 1280, 1281, 1304, 1305, 1306, 1307, 1308, 1309, 1310, 1311, 1312, 1313, 1314, 1315, 1316, 1359, 1360, 1361, 1386, 1387, 1388, 1389, 1390, 1391, 1392, 1393, 1394, 1395, 1396, 1397, 1398, 1439, 1440, 1441, 1469, 1470, 1471, 1472, 1473, 1474, 1475, 1476, 1477, 1478, 1479, 1480, 1519, 1520, 1521, 1551, 1552, 1553, 1554, 1555, 1556, 1557, 1558, 1559, 1560, 1561, 1562, 1599, 1600, 1601, 1633, 1634, 1635, 1636, 1637, 1638, 1639, 1640, 1641, 1642, 1643, 1644, 1679, 1680, 1681, 1716, 1717, 1718, 1719, 1720, 1721, 1722, 1723, 1724, 1725, 1759, 1760, 1761, 1798, 1799, 1800, 1801, 1802, 1803, 1804, 1805, 1806, 1807, 1839, 1840, 1841, 1880, 1881, 1882, 1883, 1884, 1885, 1886, 1887, 1888, 1889, 1919, 1920, 1921, 1963, 1964, 1965, 1966, 1967, 1968, 1969, 1970, 1971, 1999, 2000, 2001, 2045, 2046, 2047, 2048, 2049, 2050, 2051, 2052, 2053, 2079, 2080, 2081, 2127, 2128, 2129, 2130, 2131, 2132, 2133, 2134, 2160, 2210, 2211, 2212, 2213, 2214, 2215, 2216, 2240, 2292, 2293, 2294, 2295, 2296, 2297, 2298, 2320, 2375, 2376, 2377, 2378, 2379, 2380, 2400, 2457, 2458, 2459, 2460, 2461, 2462, 2480, 2539, 2540, 2541, 2542, 2543, 2560, 2622, 2623, 2624, 2625, 2640, 2704, 2705, 2706, 2707, 2720, 2786, 2787, 2788, 2789, 2800, 2869, 2870, 2871, 2880, 2951, 2952, 2960, 3033, 3034, 3040, 3116, 3120, 3198, 3200, 3280, 3360, 3362, 3440, 3444, 3520, 3526, 3527, 3600, 3608, 3609, 3680, 3689, 3690, 3691, 3760, 3771, 3772, 3773, 3774, 3840, 3853, 3854, 3855, 3856, 3920, 3935, 3936, 3937, 3938, 4000, 4017, 4018, 4019, 4020, 4021, 4080, 4098, 4099, 4100, 4101, 4102, 4103, 4160, 4180, 4181, 4182, 4183, 4184, 4185, 4240, 4262, 4263, 4264, 4265, 4266, 4267, 4268, 4320, 4344, 4345, 4346, 4347, 4348, 4349, 4350, 4400, 4426, 4427, 4428, 4429, 4430, 4431, 4432, 4433, 4479, 4480, 4481, 4507, 4508, 4509, 4510, 4511, 4512, 4513, 4514, 4515, 4559, 4560, 4561, 4589, 4590, 4591, 4592, 4593, 4594, 4595, 4596, 4597, 4639, 4640, 4641, 4671, 4672, 4673, 4674, 4675, 4676, 4677, 4678, 4679, 4680, 4719, 4720, 4721, 4753, 4754, 4755, 4756, 4757, 4758, 4759, 4760, 4761, 4762, 4799, 4800, 4801, 4835, 4836, 4837, 4838, 4839, 4840, 4841, 4842, 4843, 4844, 4879, 4880, 4881, 4916, 4917, 4918, 4919, 4920, 4921, 4922, 4923, 4924, 4925, 4926, 4927, 4959, 4960, 4961, 4998, 4999, 5000, 5001, 5002, 5003, 5004, 5005, 5006, 5007, 5008, 5009, 5039, 5040, 5041, 5080, 5081, 5082, 5083, 5084, 5085, 5086, 5087, 5088, 5089, 5090, 5091, 5119, 5120, 5121, 5162, 5163, 5164, 5165, 5166, 5167, 5168, 5169, 5170, 5171, 5172, 5173, 5174, 5199, 5200, 5201, 5244, 5245, 5246, 5247, 5248, 5249, 5250, 5251, 5252, 5253, 5254, 5255, 5256, 5279, 5280, 5281, 5325, 5326, 5327, 5328, 5329, 5330, 5331, 5332, 5333, 5334, 5335, 5336, 5337, 5338, 5339, 5359, 5360, 5361, 5407, 5408, 5409, 5410, 5411, 5412, 5413, 5414, 5415, 5416, 5417, 5418, 5419, 5420, 5421, 5439, 5440, 5441, 5489, 5490, 5491, 5492, 5493, 5494, 5495, 5496, 5497, 5498, 5499, 5500, 5501, 5502, 5503, 5519, 5520, 5521, 5571, 5572, 5573, 5574, 5575, 5576, 5577, 5578, 5579, 5580, 5581, 5582, 5583, 5584, 5585, 5586, 5598, 5599, 5600, 5601, 5602, 5652, 5653, 5654, 5655, 5656, 5657, 5658, 5659, 5660, 5661, 5662, 5663, 5664, 5665, 5666, 5667, 5668, 5678, 5679, 5680, 5681, 5682, 5734, 5735, 5736, 5737, 5738, 5739, 5740, 5741, 5742, 5743, 5744, 5745, 5746, 5747, 5748, 5749, 5750, 5758, 5759, 5760, 5761, 5762, 5816, 5817, 5818, 5819, 5820, 5821, 5822, 5823, 5824, 5825, 5826, 5827, 5828, 5829, 5830, 5831, 5838, 5839, 5840, 5841, 5842, 5898, 5899, 5900, 5901, 5902, 5903, 5904, 5905, 5906, 5907, 5908, 5909, 5910, 5911, 5912, 5918, 5919, 5920, 5921, 5922, 5980, 5981, 5982, 5983, 5984, 5985, 5986, 5987, 5988, 5989, 5990, 5991, 5992, 5993, 5998, 5999, 6000, 6001, 6002, 6061, 6062, 6063, 6064, 6065, 6066, 6067, 6068, 6069, 6070, 6071, 6072, 6073, 6074, 6078, 6079, 6080, 6081, 6082, 6143, 6144, 6145, 6146, 6147, 6148, 6149, 6150, 6151, 6152, 6153, 6154, 6155, 6158, 6159, 6160, 6161, 6162, 6225, 6226, 6227, 6228, 6229, 6230, 6231, 6232, 6233, 6234, 6235, 6236, 6238, 6239, 6240, 6241, 6242, 6307, 6308, 6309, 6310, 6311, 6312, 6313, 6314, 6315, 6316, 6317, 6318, 6319, 6320, 6321, 6322, 6389, 6390, 6391, 6392, 6393, 6394, 6395, 6396, 6397, 6398, 6399, 6400, 6401, 6402, 6470, 6471, 6472, 6473, 6474, 6475, 6476, 6477, 6478, 6479, 6480, 6481, 6482, 6552, 6553, 6554, 6555, 6556, 6557, 6558, 6559, 6560]\n",
      "CPU times: user 140 ms, sys: 28.1 ms, total: 168 ms\n",
      "Wall time: 167 ms\n"
     ]
    }
   ],
   "source": [
    "%%time\n",
    "n_total = len(simulation.dataframe)\n",
    "n_train = len(simulation.dataframe[simulation.dataframe.type_of == \"train\"])\n",
    "n_val = len(simulation.dataframe[simulation.dataframe.type_of == \"val\"])\n",
    "n_test = len(simulation.dataframe[simulation.dataframe.type_of == \"test\"])\n",
    "n_train_hamiltonians = len(simulation.train_ids)\n",
    "n_val_hamiltonians = len(simulation.val_ids)\n",
    "n_test_hamiltonians = len(simulation.test_ids)\n",
    "n_total_hamiltonians = n_train_hamiltonians + n_val_hamiltonians + n_test_hamiltonians\n",
    "\n",
    "print(\"% train: \", n_train/n_total)\n",
    "print(\"% val: \",  n_val/n_total)\n",
    "print(\"% test: \", n_test/n_total)\n",
    "print(\"% train + val + test: \", (n_train+n_val+n_test)/n_total)\n",
    "print(\"\\n\")\n",
    "print(\"number of train hamiltonians: \", n_train_hamiltonians)\n",
    "print(\"number of val hamiltonians: \", n_val_hamiltonians)\n",
    "print(\"number of test hamiltonians: \", n_test_hamiltonians)\n",
    "print(\"total number of hamiltonians: \", n_total_hamiltonians)\n",
    "print(\"\\n\")\n",
    "print(\"train ids: \", simulation.train_ids)\n",
    "print(\"val ids: \", simulation.val_ids)\n",
    "print(\"test ids: \", simulation.test_ids)"
   ]
  },
  {
   "cell_type": "markdown",
   "metadata": {
    "papermill": {
     "duration": 0.036137,
     "end_time": "2020-07-18T05:05:36.216533",
     "exception": false,
     "start_time": "2020-07-18T05:05:36.180396",
     "status": "completed"
    },
    "tags": []
   },
   "source": [
    "#### Checking summaries"
   ]
  },
  {
   "cell_type": "code",
   "execution_count": 31,
   "metadata": {
    "execution": {
     "iopub.execute_input": "2020-07-18T05:05:36.295163Z",
     "iopub.status.busy": "2020-07-18T05:05:36.294633Z",
     "iopub.status.idle": "2020-07-18T05:05:36.313742Z",
     "shell.execute_reply": "2020-07-18T05:05:36.313423Z"
    },
    "papermill": {
     "duration": 0.059561,
     "end_time": "2020-07-18T05:05:36.313794",
     "exception": false,
     "start_time": "2020-07-18T05:05:36.254233",
     "status": "completed"
    },
    "tags": []
   },
   "outputs": [
    {
     "name": "stdout",
     "output_type": "stream",
     "text": [
      "length of ham_summary:  6561\n",
      "CPU times: user 133 µs, sys: 4 µs, total: 137 µs\n",
      "Wall time: 101 µs\n"
     ]
    },
    {
     "data": {
      "text/html": [
       "<div>\n",
       "<style scoped>\n",
       "    .dataframe tbody tr th:only-of-type {\n",
       "        vertical-align: middle;\n",
       "    }\n",
       "\n",
       "    .dataframe tbody tr th {\n",
       "        vertical-align: top;\n",
       "    }\n",
       "\n",
       "    .dataframe thead th {\n",
       "        text-align: right;\n",
       "    }\n",
       "</style>\n",
       "<table border=\"1\" class=\"dataframe\">\n",
       "  <thead>\n",
       "    <tr style=\"text-align: right;\">\n",
       "      <th></th>\n",
       "      <th>t1</th>\n",
       "      <th>t2</th>\n",
       "      <th>type_of</th>\n",
       "      <th>0</th>\n",
       "      <th>1</th>\n",
       "      <th>phase</th>\n",
       "      <th>pred_phase</th>\n",
       "    </tr>\n",
       "    <tr>\n",
       "      <th>id</th>\n",
       "      <th></th>\n",
       "      <th></th>\n",
       "      <th></th>\n",
       "      <th></th>\n",
       "      <th></th>\n",
       "      <th></th>\n",
       "      <th></th>\n",
       "    </tr>\n",
       "  </thead>\n",
       "  <tbody>\n",
       "    <tr>\n",
       "      <th>0</th>\n",
       "      <td>-2.0</td>\n",
       "      <td>-2.00</td>\n",
       "      <td>test</td>\n",
       "      <td>0.51</td>\n",
       "      <td>0.49</td>\n",
       "      <td>999</td>\n",
       "      <td>0</td>\n",
       "    </tr>\n",
       "    <tr>\n",
       "      <th>1</th>\n",
       "      <td>-2.0</td>\n",
       "      <td>-1.95</td>\n",
       "      <td>test</td>\n",
       "      <td>0.60</td>\n",
       "      <td>0.40</td>\n",
       "      <td>0</td>\n",
       "      <td>0</td>\n",
       "    </tr>\n",
       "    <tr>\n",
       "      <th>2</th>\n",
       "      <td>-2.0</td>\n",
       "      <td>-1.90</td>\n",
       "      <td>test</td>\n",
       "      <td>0.58</td>\n",
       "      <td>0.42</td>\n",
       "      <td>0</td>\n",
       "      <td>0</td>\n",
       "    </tr>\n",
       "    <tr>\n",
       "      <th>3</th>\n",
       "      <td>-2.0</td>\n",
       "      <td>-1.85</td>\n",
       "      <td>test</td>\n",
       "      <td>0.67</td>\n",
       "      <td>0.33</td>\n",
       "      <td>0</td>\n",
       "      <td>0</td>\n",
       "    </tr>\n",
       "    <tr>\n",
       "      <th>4</th>\n",
       "      <td>-2.0</td>\n",
       "      <td>-1.80</td>\n",
       "      <td>test</td>\n",
       "      <td>0.81</td>\n",
       "      <td>0.19</td>\n",
       "      <td>0</td>\n",
       "      <td>0</td>\n",
       "    </tr>\n",
       "    <tr>\n",
       "      <th>...</th>\n",
       "      <td>...</td>\n",
       "      <td>...</td>\n",
       "      <td>...</td>\n",
       "      <td>...</td>\n",
       "      <td>...</td>\n",
       "      <td>...</td>\n",
       "      <td>...</td>\n",
       "    </tr>\n",
       "    <tr>\n",
       "      <th>6556</th>\n",
       "      <td>2.0</td>\n",
       "      <td>1.80</td>\n",
       "      <td>test</td>\n",
       "      <td>0.81</td>\n",
       "      <td>0.19</td>\n",
       "      <td>0</td>\n",
       "      <td>0</td>\n",
       "    </tr>\n",
       "    <tr>\n",
       "      <th>6557</th>\n",
       "      <td>2.0</td>\n",
       "      <td>1.85</td>\n",
       "      <td>test</td>\n",
       "      <td>0.74</td>\n",
       "      <td>0.26</td>\n",
       "      <td>0</td>\n",
       "      <td>0</td>\n",
       "    </tr>\n",
       "    <tr>\n",
       "      <th>6558</th>\n",
       "      <td>2.0</td>\n",
       "      <td>1.90</td>\n",
       "      <td>test</td>\n",
       "      <td>0.60</td>\n",
       "      <td>0.40</td>\n",
       "      <td>0</td>\n",
       "      <td>0</td>\n",
       "    </tr>\n",
       "    <tr>\n",
       "      <th>6559</th>\n",
       "      <td>2.0</td>\n",
       "      <td>1.95</td>\n",
       "      <td>test</td>\n",
       "      <td>0.62</td>\n",
       "      <td>0.38</td>\n",
       "      <td>0</td>\n",
       "      <td>0</td>\n",
       "    </tr>\n",
       "    <tr>\n",
       "      <th>6560</th>\n",
       "      <td>2.0</td>\n",
       "      <td>2.00</td>\n",
       "      <td>test</td>\n",
       "      <td>0.47</td>\n",
       "      <td>0.53</td>\n",
       "      <td>999</td>\n",
       "      <td>1</td>\n",
       "    </tr>\n",
       "  </tbody>\n",
       "</table>\n",
       "<p>6561 rows × 7 columns</p>\n",
       "</div>"
      ],
      "text/plain": [
       "       t1    t2 type_of     0     1  phase  pred_phase\n",
       "id                                                    \n",
       "0    -2.0 -2.00    test  0.51  0.49    999           0\n",
       "1    -2.0 -1.95    test  0.60  0.40      0           0\n",
       "2    -2.0 -1.90    test  0.58  0.42      0           0\n",
       "3    -2.0 -1.85    test  0.67  0.33      0           0\n",
       "4    -2.0 -1.80    test  0.81  0.19      0           0\n",
       "...   ...   ...     ...   ...   ...    ...         ...\n",
       "6556  2.0  1.80    test  0.81  0.19      0           0\n",
       "6557  2.0  1.85    test  0.74  0.26      0           0\n",
       "6558  2.0  1.90    test  0.60  0.40      0           0\n",
       "6559  2.0  1.95    test  0.62  0.38      0           0\n",
       "6560  2.0  2.00    test  0.47  0.53    999           1\n",
       "\n",
       "[6561 rows x 7 columns]"
      ]
     },
     "execution_count": 31,
     "metadata": {},
     "output_type": "execute_result"
    }
   ],
   "source": [
    "%%time\n",
    "ham_summary = simulation.hamiltonian_summary\n",
    "print(\"length of ham_summary: \", len(ham_summary))\n",
    "ham_summary"
   ]
  },
  {
   "cell_type": "code",
   "execution_count": 32,
   "metadata": {
    "execution": {
     "iopub.execute_input": "2020-07-18T05:05:36.391307Z",
     "iopub.status.busy": "2020-07-18T05:05:36.390796Z",
     "iopub.status.idle": "2020-07-18T05:05:36.418934Z",
     "shell.execute_reply": "2020-07-18T05:05:36.418607Z"
    },
    "papermill": {
     "duration": 0.067522,
     "end_time": "2020-07-18T05:05:36.418989",
     "exception": false,
     "start_time": "2020-07-18T05:05:36.351467",
     "status": "completed"
    },
    "tags": []
   },
   "outputs": [
    {
     "data": {
      "text/html": [
       "<div>\n",
       "<style scoped>\n",
       "    .dataframe tbody tr th:only-of-type {\n",
       "        vertical-align: middle;\n",
       "    }\n",
       "\n",
       "    .dataframe tbody tr th {\n",
       "        vertical-align: top;\n",
       "    }\n",
       "\n",
       "    .dataframe thead th {\n",
       "        text-align: right;\n",
       "    }\n",
       "</style>\n",
       "<table border=\"1\" class=\"dataframe\">\n",
       "  <thead>\n",
       "    <tr style=\"text-align: right;\">\n",
       "      <th></th>\n",
       "      <th>t1</th>\n",
       "      <th>t2</th>\n",
       "      <th>0</th>\n",
       "      <th>1</th>\n",
       "      <th>phase</th>\n",
       "      <th>pred_phase</th>\n",
       "    </tr>\n",
       "  </thead>\n",
       "  <tbody>\n",
       "    <tr>\n",
       "      <th>count</th>\n",
       "      <td>6561.000000</td>\n",
       "      <td>6.561000e+03</td>\n",
       "      <td>6561.000000</td>\n",
       "      <td>6561.000000</td>\n",
       "      <td>6561.000000</td>\n",
       "      <td>6561.000000</td>\n",
       "    </tr>\n",
       "    <tr>\n",
       "      <th>mean</th>\n",
       "      <td>0.000000</td>\n",
       "      <td>-4.331917e-18</td>\n",
       "      <td>0.470128</td>\n",
       "      <td>0.529872</td>\n",
       "      <td>25.002134</td>\n",
       "      <td>0.515927</td>\n",
       "    </tr>\n",
       "    <tr>\n",
       "      <th>std</th>\n",
       "      <td>1.169134</td>\n",
       "      <td>1.169134e+00</td>\n",
       "      <td>0.438048</td>\n",
       "      <td>0.438048</td>\n",
       "      <td>154.495657</td>\n",
       "      <td>0.499784</td>\n",
       "    </tr>\n",
       "    <tr>\n",
       "      <th>min</th>\n",
       "      <td>-2.000000</td>\n",
       "      <td>-2.000000e+00</td>\n",
       "      <td>0.000000</td>\n",
       "      <td>0.030000</td>\n",
       "      <td>0.000000</td>\n",
       "      <td>0.000000</td>\n",
       "    </tr>\n",
       "    <tr>\n",
       "      <th>25%</th>\n",
       "      <td>-1.000000</td>\n",
       "      <td>-1.000000e+00</td>\n",
       "      <td>0.020000</td>\n",
       "      <td>0.060000</td>\n",
       "      <td>0.000000</td>\n",
       "      <td>0.000000</td>\n",
       "    </tr>\n",
       "    <tr>\n",
       "      <th>50%</th>\n",
       "      <td>0.000000</td>\n",
       "      <td>0.000000e+00</td>\n",
       "      <td>0.400000</td>\n",
       "      <td>0.600000</td>\n",
       "      <td>1.000000</td>\n",
       "      <td>1.000000</td>\n",
       "    </tr>\n",
       "    <tr>\n",
       "      <th>75%</th>\n",
       "      <td>1.000000</td>\n",
       "      <td>1.000000e+00</td>\n",
       "      <td>0.940000</td>\n",
       "      <td>0.980000</td>\n",
       "      <td>1.000000</td>\n",
       "      <td>1.000000</td>\n",
       "    </tr>\n",
       "    <tr>\n",
       "      <th>max</th>\n",
       "      <td>2.000000</td>\n",
       "      <td>2.000000e+00</td>\n",
       "      <td>0.970000</td>\n",
       "      <td>1.000000</td>\n",
       "      <td>999.000000</td>\n",
       "      <td>1.000000</td>\n",
       "    </tr>\n",
       "  </tbody>\n",
       "</table>\n",
       "</div>"
      ],
      "text/plain": [
       "                t1            t2            0            1        phase  \\\n",
       "count  6561.000000  6.561000e+03  6561.000000  6561.000000  6561.000000   \n",
       "mean      0.000000 -4.331917e-18     0.470128     0.529872    25.002134   \n",
       "std       1.169134  1.169134e+00     0.438048     0.438048   154.495657   \n",
       "min      -2.000000 -2.000000e+00     0.000000     0.030000     0.000000   \n",
       "25%      -1.000000 -1.000000e+00     0.020000     0.060000     0.000000   \n",
       "50%       0.000000  0.000000e+00     0.400000     0.600000     1.000000   \n",
       "75%       1.000000  1.000000e+00     0.940000     0.980000     1.000000   \n",
       "max       2.000000  2.000000e+00     0.970000     1.000000   999.000000   \n",
       "\n",
       "        pred_phase  \n",
       "count  6561.000000  \n",
       "mean      0.515927  \n",
       "std       0.499784  \n",
       "min       0.000000  \n",
       "25%       0.000000  \n",
       "50%       1.000000  \n",
       "75%       1.000000  \n",
       "max       1.000000  "
      ]
     },
     "execution_count": 32,
     "metadata": {},
     "output_type": "execute_result"
    }
   ],
   "source": [
    "ham_summary.describe()"
   ]
  },
  {
   "cell_type": "code",
   "execution_count": 33,
   "metadata": {
    "execution": {
     "iopub.execute_input": "2020-07-18T05:05:36.497398Z",
     "iopub.status.busy": "2020-07-18T05:05:36.496884Z",
     "iopub.status.idle": "2020-07-18T05:05:36.513164Z",
     "shell.execute_reply": "2020-07-18T05:05:36.512847Z"
    },
    "papermill": {
     "duration": 0.055879,
     "end_time": "2020-07-18T05:05:36.513216",
     "exception": false,
     "start_time": "2020-07-18T05:05:36.457337",
     "status": "completed"
    },
    "tags": []
   },
   "outputs": [
    {
     "name": "stdout",
     "output_type": "stream",
     "text": [
      "length of ham_summary:  656100\n"
     ]
    },
    {
     "data": {
      "text/html": [
       "<div>\n",
       "<style scoped>\n",
       "    .dataframe tbody tr th:only-of-type {\n",
       "        vertical-align: middle;\n",
       "    }\n",
       "\n",
       "    .dataframe tbody tr th {\n",
       "        vertical-align: top;\n",
       "    }\n",
       "\n",
       "    .dataframe thead th {\n",
       "        text-align: right;\n",
       "    }\n",
       "</style>\n",
       "<table border=\"1\" class=\"dataframe\">\n",
       "  <thead>\n",
       "    <tr style=\"text-align: right;\">\n",
       "      <th></th>\n",
       "      <th>id</th>\n",
       "      <th>phase</th>\n",
       "      <th>pred_phase</th>\n",
       "      <th>type_of</th>\n",
       "    </tr>\n",
       "  </thead>\n",
       "  <tbody>\n",
       "    <tr>\n",
       "      <th>0</th>\n",
       "      <td>0</td>\n",
       "      <td>999</td>\n",
       "      <td>1</td>\n",
       "      <td>test</td>\n",
       "    </tr>\n",
       "    <tr>\n",
       "      <th>1</th>\n",
       "      <td>0</td>\n",
       "      <td>999</td>\n",
       "      <td>1</td>\n",
       "      <td>test</td>\n",
       "    </tr>\n",
       "    <tr>\n",
       "      <th>2</th>\n",
       "      <td>0</td>\n",
       "      <td>999</td>\n",
       "      <td>1</td>\n",
       "      <td>test</td>\n",
       "    </tr>\n",
       "    <tr>\n",
       "      <th>3</th>\n",
       "      <td>0</td>\n",
       "      <td>999</td>\n",
       "      <td>1</td>\n",
       "      <td>test</td>\n",
       "    </tr>\n",
       "    <tr>\n",
       "      <th>4</th>\n",
       "      <td>0</td>\n",
       "      <td>999</td>\n",
       "      <td>0</td>\n",
       "      <td>test</td>\n",
       "    </tr>\n",
       "    <tr>\n",
       "      <th>...</th>\n",
       "      <td>...</td>\n",
       "      <td>...</td>\n",
       "      <td>...</td>\n",
       "      <td>...</td>\n",
       "    </tr>\n",
       "    <tr>\n",
       "      <th>656095</th>\n",
       "      <td>6560</td>\n",
       "      <td>999</td>\n",
       "      <td>0</td>\n",
       "      <td>test</td>\n",
       "    </tr>\n",
       "    <tr>\n",
       "      <th>656096</th>\n",
       "      <td>6560</td>\n",
       "      <td>999</td>\n",
       "      <td>1</td>\n",
       "      <td>test</td>\n",
       "    </tr>\n",
       "    <tr>\n",
       "      <th>656097</th>\n",
       "      <td>6560</td>\n",
       "      <td>999</td>\n",
       "      <td>1</td>\n",
       "      <td>test</td>\n",
       "    </tr>\n",
       "    <tr>\n",
       "      <th>656098</th>\n",
       "      <td>6560</td>\n",
       "      <td>999</td>\n",
       "      <td>1</td>\n",
       "      <td>test</td>\n",
       "    </tr>\n",
       "    <tr>\n",
       "      <th>656099</th>\n",
       "      <td>6560</td>\n",
       "      <td>999</td>\n",
       "      <td>0</td>\n",
       "      <td>test</td>\n",
       "    </tr>\n",
       "  </tbody>\n",
       "</table>\n",
       "<p>656100 rows × 4 columns</p>\n",
       "</div>"
      ],
      "text/plain": [
       "          id  phase  pred_phase type_of\n",
       "0          0    999           1    test\n",
       "1          0    999           1    test\n",
       "2          0    999           1    test\n",
       "3          0    999           1    test\n",
       "4          0    999           0    test\n",
       "...      ...    ...         ...     ...\n",
       "656095  6560    999           0    test\n",
       "656096  6560    999           1    test\n",
       "656097  6560    999           1    test\n",
       "656098  6560    999           1    test\n",
       "656099  6560    999           0    test\n",
       "\n",
       "[656100 rows x 4 columns]"
      ]
     },
     "execution_count": 33,
     "metadata": {},
     "output_type": "execute_result"
    }
   ],
   "source": [
    "eigen_summary = simulation.eigenvector_summary\n",
    "print(\"length of ham_summary: \", len(eigen_summary))\n",
    "eigen_summary"
   ]
  },
  {
   "cell_type": "markdown",
   "metadata": {
    "papermill": {
     "duration": 0.038549,
     "end_time": "2020-07-18T05:05:36.589456",
     "exception": false,
     "start_time": "2020-07-18T05:05:36.550907",
     "status": "completed"
    },
    "tags": []
   },
   "source": [
    "#### Checking accuracies"
   ]
  },
  {
   "cell_type": "code",
   "execution_count": 34,
   "metadata": {
    "execution": {
     "iopub.execute_input": "2020-07-18T05:05:36.667889Z",
     "iopub.status.busy": "2020-07-18T05:05:36.667380Z",
     "iopub.status.idle": "2020-07-18T05:05:36.678355Z",
     "shell.execute_reply": "2020-07-18T05:05:36.678032Z"
    },
    "papermill": {
     "duration": 0.050868,
     "end_time": "2020-07-18T05:05:36.678407",
     "exception": false,
     "start_time": "2020-07-18T05:05:36.627539",
     "status": "completed"
    },
    "tags": []
   },
   "outputs": [
    {
     "data": {
      "text/plain": [
       "{'eigenvector_train': 0.971294964028777,\n",
       " 'eigenvector_val': 0.943986,\n",
       " 'eigenvector_test': 0.7929502369668247,\n",
       " 'hamiltonian_train': 0.9892086330935251,\n",
       " 'hamiltonian_val': 0.9852,\n",
       " 'hamiltonian_test': 0.9976303317535545}"
      ]
     },
     "execution_count": 34,
     "metadata": {},
     "output_type": "execute_result"
    }
   ],
   "source": [
    "simulation.accuracy"
   ]
  },
  {
   "cell_type": "markdown",
   "metadata": {
    "papermill": {
     "duration": 0.037776,
     "end_time": "2020-07-18T05:05:36.754132",
     "exception": false,
     "start_time": "2020-07-18T05:05:36.716356",
     "status": "completed"
    },
    "tags": []
   },
   "source": [
    "#### Checking data stored in  memory"
   ]
  },
  {
   "cell_type": "code",
   "execution_count": 35,
   "metadata": {
    "execution": {
     "iopub.execute_input": "2020-07-18T05:05:36.832614Z",
     "iopub.status.busy": "2020-07-18T05:05:36.832112Z",
     "iopub.status.idle": "2020-07-18T05:05:36.843886Z",
     "shell.execute_reply": "2020-07-18T05:05:36.843563Z"
    },
    "papermill": {
     "duration": 0.051608,
     "end_time": "2020-07-18T05:05:36.843938",
     "exception": false,
     "start_time": "2020-07-18T05:05:36.792330",
     "status": "completed"
    },
    "tags": []
   },
   "outputs": [
    {
     "data": {
      "text/plain": [
       "[]"
      ]
     },
     "execution_count": 35,
     "metadata": {},
     "output_type": "execute_result"
    }
   ],
   "source": [
    "ham_summary_list = simulation.hamiltonian_summary_list\n",
    "ham_summary_list"
   ]
  },
  {
   "cell_type": "code",
   "execution_count": 36,
   "metadata": {
    "execution": {
     "iopub.execute_input": "2020-07-18T05:05:36.922572Z",
     "iopub.status.busy": "2020-07-18T05:05:36.922076Z",
     "iopub.status.idle": "2020-07-18T05:05:36.932578Z",
     "shell.execute_reply": "2020-07-18T05:05:36.932253Z"
    },
    "papermill": {
     "duration": 0.050047,
     "end_time": "2020-07-18T05:05:36.932629",
     "exception": false,
     "start_time": "2020-07-18T05:05:36.882582",
     "status": "completed"
    },
    "tags": []
   },
   "outputs": [
    {
     "data": {
      "text/plain": [
       "[]"
      ]
     },
     "execution_count": 36,
     "metadata": {},
     "output_type": "execute_result"
    }
   ],
   "source": [
    "eigen_summary_list = simulation.eigenvector_summary_list\n",
    "eigen_summary_list"
   ]
  },
  {
   "cell_type": "code",
   "execution_count": 37,
   "metadata": {
    "execution": {
     "iopub.execute_input": "2020-07-18T05:05:37.012178Z",
     "iopub.status.busy": "2020-07-18T05:05:37.011686Z",
     "iopub.status.idle": "2020-07-18T05:05:37.023127Z",
     "shell.execute_reply": "2020-07-18T05:05:37.022804Z"
    },
    "papermill": {
     "duration": 0.051583,
     "end_time": "2020-07-18T05:05:37.023178",
     "exception": false,
     "start_time": "2020-07-18T05:05:36.971595",
     "status": "completed"
    },
    "tags": []
   },
   "outputs": [
    {
     "data": {
      "text/plain": [
       "{'eigenvector_train': [],\n",
       " 'eigenvector_val': [],\n",
       " 'eigenvector_test': [],\n",
       " 'hamiltonian_train': [],\n",
       " 'hamiltonian_val': [],\n",
       " 'hamiltonian_test': []}"
      ]
     },
     "execution_count": 37,
     "metadata": {},
     "output_type": "execute_result"
    }
   ],
   "source": [
    "accuracy_list = simulation.accuracy_list\n",
    "accuracy_list"
   ]
  },
  {
   "cell_type": "code",
   "execution_count": null,
   "metadata": {
    "papermill": {
     "duration": 0.038133,
     "end_time": "2020-07-18T05:05:37.099610",
     "exception": false,
     "start_time": "2020-07-18T05:05:37.061477",
     "status": "completed"
    },
    "tags": []
   },
   "outputs": [],
   "source": []
  },
  {
   "cell_type": "code",
   "execution_count": null,
   "metadata": {
    "papermill": {
     "duration": 0.038936,
     "end_time": "2020-07-18T05:05:37.177559",
     "exception": false,
     "start_time": "2020-07-18T05:05:37.138623",
     "status": "completed"
    },
    "tags": []
   },
   "outputs": [],
   "source": []
  },
  {
   "cell_type": "code",
   "execution_count": 38,
   "metadata": {
    "execution": {
     "iopub.execute_input": "2020-07-18T05:05:37.258475Z",
     "iopub.status.busy": "2020-07-18T05:05:37.257978Z",
     "iopub.status.idle": "2020-07-18T05:05:37.267250Z",
     "shell.execute_reply": "2020-07-18T05:05:37.267554Z"
    },
    "papermill": {
     "duration": 0.050124,
     "end_time": "2020-07-18T05:05:37.267618",
     "exception": false,
     "start_time": "2020-07-18T05:05:37.217494",
     "status": "completed"
    },
    "tags": []
   },
   "outputs": [],
   "source": [
    "#simulation.fourier_matrix"
   ]
  },
  {
   "cell_type": "code",
   "execution_count": 39,
   "metadata": {
    "execution": {
     "iopub.execute_input": "2020-07-18T05:05:37.348416Z",
     "iopub.status.busy": "2020-07-18T05:05:37.347819Z",
     "iopub.status.idle": "2020-07-18T05:05:37.358477Z",
     "shell.execute_reply": "2020-07-18T05:05:37.358793Z"
    },
    "papermill": {
     "duration": 0.051913,
     "end_time": "2020-07-18T05:05:37.358861",
     "exception": false,
     "start_time": "2020-07-18T05:05:37.306948",
     "status": "completed"
    },
    "tags": []
   },
   "outputs": [],
   "source": [
    "#simulation.fourier_matrix.shape"
   ]
  },
  {
   "cell_type": "code",
   "execution_count": 40,
   "metadata": {
    "execution": {
     "iopub.execute_input": "2020-07-18T05:05:37.437818Z",
     "iopub.status.busy": "2020-07-18T05:05:37.437323Z",
     "iopub.status.idle": "2020-07-18T05:05:37.446882Z",
     "shell.execute_reply": "2020-07-18T05:05:37.447184Z"
    },
    "papermill": {
     "duration": 0.049826,
     "end_time": "2020-07-18T05:05:37.447249",
     "exception": false,
     "start_time": "2020-07-18T05:05:37.397423",
     "status": "completed"
    },
    "tags": []
   },
   "outputs": [],
   "source": [
    "#simulation.fourier_matrix[:,0]"
   ]
  },
  {
   "cell_type": "code",
   "execution_count": 41,
   "metadata": {
    "execution": {
     "iopub.execute_input": "2020-07-18T05:05:37.528898Z",
     "iopub.status.busy": "2020-07-18T05:05:37.528374Z",
     "iopub.status.idle": "2020-07-18T05:05:37.538527Z",
     "shell.execute_reply": "2020-07-18T05:05:37.538187Z"
    },
    "papermill": {
     "duration": 0.050656,
     "end_time": "2020-07-18T05:05:37.538582",
     "exception": false,
     "start_time": "2020-07-18T05:05:37.487926",
     "status": "completed"
    },
    "tags": []
   },
   "outputs": [],
   "source": [
    "#simulation.fourier_matrix[:,1]"
   ]
  },
  {
   "cell_type": "code",
   "execution_count": 42,
   "metadata": {
    "execution": {
     "iopub.execute_input": "2020-07-18T05:05:37.618024Z",
     "iopub.status.busy": "2020-07-18T05:05:37.617532Z",
     "iopub.status.idle": "2020-07-18T05:05:37.662127Z",
     "shell.execute_reply": "2020-07-18T05:05:37.662440Z"
    },
    "papermill": {
     "duration": 0.085061,
     "end_time": "2020-07-18T05:05:37.662509",
     "exception": false,
     "start_time": "2020-07-18T05:05:37.577448",
     "status": "completed"
    },
    "tags": []
   },
   "outputs": [],
   "source": [
    "#np.exp(-1j*2*np.pi*3/100)"
   ]
  },
  {
   "cell_type": "code",
   "execution_count": 43,
   "metadata": {
    "execution": {
     "iopub.execute_input": "2020-07-18T05:05:37.742967Z",
     "iopub.status.busy": "2020-07-18T05:05:37.742459Z",
     "iopub.status.idle": "2020-07-18T05:05:37.752044Z",
     "shell.execute_reply": "2020-07-18T05:05:37.752349Z"
    },
    "papermill": {
     "duration": 0.050823,
     "end_time": "2020-07-18T05:05:37.752421",
     "exception": false,
     "start_time": "2020-07-18T05:05:37.701598",
     "status": "completed"
    },
    "tags": []
   },
   "outputs": [],
   "source": [
    "#for i in range(1,50):\n",
    "#    print(\"\\n\")\n",
    "#    print(i)\n",
    "#    print(np.sum((np.real(simulation.fourier_matrix[:,i]) - np.real(simulation.fourier_matrix[:,-i]))**2))\n",
    "#    print(np.sum((np.imag(simulation.fourier_matrix[:,i])+ np.imag(simulation.fourier_matrix[:,-i]))**2))"
   ]
  },
  {
   "cell_type": "code",
   "execution_count": 44,
   "metadata": {
    "execution": {
     "iopub.execute_input": "2020-07-18T05:05:37.831641Z",
     "iopub.status.busy": "2020-07-18T05:05:37.831149Z",
     "iopub.status.idle": "2020-07-18T05:05:37.889950Z",
     "shell.execute_reply": "2020-07-18T05:05:37.888167Z"
    },
    "papermill": {
     "duration": 0.099051,
     "end_time": "2020-07-18T05:05:37.890200",
     "exception": false,
     "start_time": "2020-07-18T05:05:37.791149",
     "status": "completed"
    },
    "tags": []
   },
   "outputs": [],
   "source": [
    "#print(simulation.fourier_matrix[:,0])"
   ]
  },
  {
   "cell_type": "code",
   "execution_count": 45,
   "metadata": {
    "execution": {
     "iopub.execute_input": "2020-07-18T05:05:38.008016Z",
     "iopub.status.busy": "2020-07-18T05:05:38.007509Z",
     "iopub.status.idle": "2020-07-18T05:05:38.018097Z",
     "shell.execute_reply": "2020-07-18T05:05:38.018422Z"
    },
    "papermill": {
     "duration": 0.057912,
     "end_time": "2020-07-18T05:05:38.018492",
     "exception": false,
     "start_time": "2020-07-18T05:05:37.960580",
     "status": "completed"
    },
    "tags": []
   },
   "outputs": [],
   "source": [
    "#print(simulation.fourier_matrix[:,50])"
   ]
  },
  {
   "cell_type": "code",
   "execution_count": null,
   "metadata": {
    "papermill": {
     "duration": 0.040709,
     "end_time": "2020-07-18T05:05:38.097850",
     "exception": false,
     "start_time": "2020-07-18T05:05:38.057141",
     "status": "completed"
    },
    "tags": []
   },
   "outputs": [],
   "source": []
  }
 ],
 "metadata": {
  "celltoolbar": "Tags",
  "kernelspec": {
   "display_name": "ml_top_phases",
   "language": "python",
   "name": "ml_top_phases"
  },
  "language_info": {
   "codemirror_mode": {
    "name": "ipython",
    "version": 3
   },
   "file_extension": ".py",
   "mimetype": "text/x-python",
   "name": "python",
   "nbconvert_exporter": "python",
   "pygments_lexer": "ipython3",
   "version": "3.6.10"
  },
  "papermill": {
   "duration": 162.343841,
   "end_time": "2020-07-18T05:05:38.247606",
   "environment_variables": {},
   "exception": null,
   "input_path": "0_simulation_template.ipynb",
   "output_path": "zzz_ssh1_real_space_best_04_sites_simulation_notebook.ipynb",
   "parameters": {
    "allowed_windings": [
     0,
     1
    ],
    "csv_path": "/home/rio/ssh_csvs/ssh1/periodic_100_6561.csv",
    "features_to_use": [
     0,
     1,
     3,
     50
    ],
    "fit_params": null,
    "fourier_features_to_use": null,
    "fourier_fillna": null,
    "fourier_mode": null,
    "fourier_normalize": null,
    "fourier_real": null,
    "model_kw": {
     "criterion": "entropy"
    },
    "model_name": "DecisionTreeClassifier",
    "n_experiments": 100,
    "pred_params": null,
    "random_features": false,
    "random_state": 1011,
    "save_accuracy": true,
    "save_eigenvector": true,
    "save_hamiltonian": true,
    "save_models": true,
    "shuffle_features": false,
    "shuffle_rows": true,
    "simulation_dir": "/home/rio/ssh_simulations/ssh1/periodic_100_6561/real_space_best_04_sites",
    "start_n": 0,
    "store_in_lists": false,
    "val_split": 0.9
   },
   "start_time": "2020-07-18T05:02:55.903765",
   "version": "2.1.0"
  }
 },
 "nbformat": 4,
 "nbformat_minor": 2
}