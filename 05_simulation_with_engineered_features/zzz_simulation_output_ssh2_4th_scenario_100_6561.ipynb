{
 "cells": [
  {
   "cell_type": "markdown",
   "metadata": {
    "papermill": {
     "duration": 0.019635,
     "end_time": "2020-07-09T20:33:15.310534",
     "exception": false,
     "start_time": "2020-07-09T20:33:15.290899",
     "status": "completed"
    },
    "tags": []
   },
   "source": [
    "# Simulation template \n",
    "\n",
    "In this notebook we run the machine learning analysis of topological phase transitions occurring  in both nearest-neighbours SSH models (ssh1) and second neighbours models (ssh2) as decribed in the paper [Machine learning topological phases in real space](https://arxiv.org/abs/1901.01963). Here the simulation is run with features generated from fourier components in the first scenario. This scenario is characterized by using only the EVEN wavevector space eigenmodes, computed from ALL real space components."
   ]
  },
  {
   "cell_type": "markdown",
   "metadata": {
    "papermill": {
     "duration": 0.015957,
     "end_time": "2020-07-09T20:33:15.342543",
     "exception": false,
     "start_time": "2020-07-09T20:33:15.326586",
     "status": "completed"
    },
    "tags": []
   },
   "source": [
    "## Defining parameters"
   ]
  },
  {
   "cell_type": "code",
   "execution_count": 1,
   "metadata": {
    "execution": {
     "iopub.execute_input": "2020-07-09T20:33:15.377111Z",
     "iopub.status.busy": "2020-07-09T20:33:15.376782Z",
     "iopub.status.idle": "2020-07-09T20:33:15.964536Z",
     "shell.execute_reply": "2020-07-09T20:33:15.964198Z"
    },
    "papermill": {
     "duration": 0.606286,
     "end_time": "2020-07-09T20:33:15.964593",
     "exception": false,
     "start_time": "2020-07-09T20:33:15.358307",
     "status": "completed"
    },
    "tags": []
   },
   "outputs": [
    {
     "name": "stdout",
     "output_type": "stream",
     "text": [
      "CPU times: user 753 ms, sys: 265 ms, total: 1.02 s\n",
      "Wall time: 581 ms\n"
     ]
    }
   ],
   "source": [
    "%%time\n",
    "%load_ext autoreload\n",
    "%autoreload 2\n",
    "from simulation import *"
   ]
  },
  {
   "cell_type": "code",
   "execution_count": 2,
   "metadata": {
    "execution": {
     "iopub.execute_input": "2020-07-09T20:33:16.000032Z",
     "iopub.status.busy": "2020-07-09T20:33:15.999696Z",
     "iopub.status.idle": "2020-07-09T20:33:16.010442Z",
     "shell.execute_reply": "2020-07-09T20:33:16.010701Z"
    },
    "papermill": {
     "duration": 0.029952,
     "end_time": "2020-07-09T20:33:16.010769",
     "exception": false,
     "start_time": "2020-07-09T20:33:15.980817",
     "status": "completed"
    },
    "tags": [
     "parameters"
    ]
   },
   "outputs": [
    {
     "name": "stdout",
     "output_type": "stream",
     "text": [
      "CPU times: user 3 µs, sys: 1e+03 ns, total: 4 µs\n",
      "Wall time: 4.77 µs\n"
     ]
    }
   ],
   "source": [
    "%%time\n",
    "### Dataset and simulation parameters\n",
    "#csv_path = SSH2_PERIODIC_100_6561_CSV \n",
    "csv_path = SSH1_PERIODIC_100_6561_CSV \n",
    "model_name = \"DecisionTreeClassifier\"\n",
    "model_kw = {\"criterion\":\"entropy\"}\n",
    "allowed_windings = [0,1]\n",
    "#allowed_windings = [-1,0,1,2]\n",
    "simulation_dir = SSH1_PERIODIC_1ST_SCENARIO_100_6561_SIMULATION_DIR\n",
    "#simulation_dir = SSH2_PERIODIC_ENGINEERED_100_6561_SIMULATION_DIR\n",
    "val_split = 0.9  \n",
    "features_to_use = None\n",
    "shuffle_features = False\n",
    "random_state = 763\n",
    "\n",
    "### Fourier features\n",
    "fourier_mode = \"dft\"\n",
    "fourier_features_to_use = None\n",
    "fourier_real = \"real\"\n",
    "fourier_normalize = True\n",
    "fourier_fillna = False\n",
    "\n",
    "### Running a simulation\n",
    "n_experiments = 5\n",
    "start_n = 0\n",
    "fit_params = None\n",
    "#mode=mode\n",
    "shuffle_rows = True\n",
    "pred_params = None\n",
    "random_features = False\n",
    "######### DON'T SET THIS TO TRUE UNLESS YOUR DATASET IS SMALL!! WILL FLOOD YOUR MEMORY!!!\n",
    "store_in_lists = False   \n",
    "########## BELOW ARE THE PARAMETERS THAT CONTROL WHAT WILL BE SAVED\n",
    "save_eigenvector=True\n",
    "save_hamiltonian=True \n",
    "save_accuracy=True \n",
    "save_models=True"
   ]
  },
  {
   "cell_type": "code",
   "execution_count": 3,
   "metadata": {
    "execution": {
     "iopub.execute_input": "2020-07-09T20:33:16.063766Z",
     "iopub.status.busy": "2020-07-09T20:33:16.062441Z",
     "iopub.status.idle": "2020-07-09T20:33:16.164809Z",
     "shell.execute_reply": "2020-07-09T20:33:16.163021Z"
    },
    "papermill": {
     "duration": 0.138151,
     "end_time": "2020-07-09T20:33:16.165059",
     "exception": false,
     "start_time": "2020-07-09T20:33:16.026908",
     "status": "completed"
    },
    "tags": [
     "injected-parameters"
    ]
   },
   "outputs": [],
   "source": [
    "# Parameters\n",
    "model_kw = {\"criterion\": \"entropy\", \"n_estimators\": 25, \"n_jobs\": -1}\n",
    "allowed_windings = [-1, 0, 1, 2]\n",
    "val_split = 0.5\n",
    "features_to_use = None\n",
    "shuffle_features = False\n",
    "n_experiments = 100\n",
    "start_n = 0\n",
    "fit_params = None\n",
    "shuffle_rows = True\n",
    "pred_params = None\n",
    "random_features = False\n",
    "store_in_lists = False\n",
    "save_eigenvector = True\n",
    "save_hamiltonian = True\n",
    "save_accuracy = True\n",
    "save_models = True\n",
    "csv_path = \"/home/rio/ssh_csvs/ssh2/periodic_100_6561.csv\"\n",
    "model_name = \"RandomForestClassifier\"\n",
    "simulation_dir = \"/home/rio/ssh_simulations/ssh2/periodic_4th_scenario_100_6561\"\n",
    "random_state = 548936312\n",
    "fourier_features_to_use = [\n",
    "    0,\n",
    "    1,\n",
    "    2,\n",
    "    3,\n",
    "    4,\n",
    "    5,\n",
    "    6,\n",
    "    7,\n",
    "    8,\n",
    "    9,\n",
    "    10,\n",
    "    11,\n",
    "    12,\n",
    "    13,\n",
    "    14,\n",
    "    15,\n",
    "    16,\n",
    "    17,\n",
    "    18,\n",
    "    19,\n",
    "    20,\n",
    "    21,\n",
    "    22,\n",
    "    23,\n",
    "    24,\n",
    "    25,\n",
    "    26,\n",
    "    27,\n",
    "    28,\n",
    "    29,\n",
    "    30,\n",
    "    31,\n",
    "    32,\n",
    "    33,\n",
    "    34,\n",
    "    35,\n",
    "    36,\n",
    "    37,\n",
    "    38,\n",
    "    39,\n",
    "    40,\n",
    "    41,\n",
    "    42,\n",
    "    43,\n",
    "    44,\n",
    "    45,\n",
    "    46,\n",
    "    47,\n",
    "    48,\n",
    "    49,\n",
    "    50,\n",
    "]\n",
    "fourier_mode = \"dct\"\n",
    "fourier_real = None\n",
    "fourier_normalize = False\n",
    "fourier_fillna = False\n",
    "normalize = False\n",
    "fillna = False\n"
   ]
  },
  {
   "cell_type": "code",
   "execution_count": 4,
   "metadata": {
    "execution": {
     "iopub.execute_input": "2020-07-09T20:33:16.240393Z",
     "iopub.status.busy": "2020-07-09T20:33:16.240057Z",
     "iopub.status.idle": "2020-07-09T20:33:22.070991Z",
     "shell.execute_reply": "2020-07-09T20:33:22.071294Z"
    },
    "papermill": {
     "duration": 5.852128,
     "end_time": "2020-07-09T20:33:22.071359",
     "exception": false,
     "start_time": "2020-07-09T20:33:16.219231",
     "status": "completed"
    },
    "tags": []
   },
   "outputs": [
    {
     "name": "stdout",
     "output_type": "stream",
     "text": [
      "Info on all data: \n",
      "\n",
      "<class 'pandas.core.frame.DataFrame'>\n",
      "Int64Index: 656100 entries, 0 to 656099\n",
      "Columns: 108 entries, id to feat99\n",
      "dtypes: float64(103), int32(3), object(2)\n",
      "memory usage: 538.1+ MB\n",
      "CPU times: user 6.04 s, sys: 621 ms, total: 6.66 s\n",
      "Wall time: 5.8 s\n"
     ]
    },
    {
     "data": {
      "text/html": [
       "<div>\n",
       "<style scoped>\n",
       "    .dataframe tbody tr th:only-of-type {\n",
       "        vertical-align: middle;\n",
       "    }\n",
       "\n",
       "    .dataframe tbody tr th {\n",
       "        vertical-align: top;\n",
       "    }\n",
       "\n",
       "    .dataframe thead th {\n",
       "        text-align: right;\n",
       "    }\n",
       "</style>\n",
       "<table border=\"1\" class=\"dataframe\">\n",
       "  <thead>\n",
       "    <tr style=\"text-align: right;\">\n",
       "      <th></th>\n",
       "      <th>id</th>\n",
       "      <th>path</th>\n",
       "      <th>t1</th>\n",
       "      <th>t2</th>\n",
       "      <th>winding</th>\n",
       "      <th>phase</th>\n",
       "      <th>pred_phase</th>\n",
       "      <th>type_of</th>\n",
       "      <th>feat0</th>\n",
       "      <th>feat1</th>\n",
       "      <th>...</th>\n",
       "      <th>feat90</th>\n",
       "      <th>feat91</th>\n",
       "      <th>feat92</th>\n",
       "      <th>feat93</th>\n",
       "      <th>feat94</th>\n",
       "      <th>feat95</th>\n",
       "      <th>feat96</th>\n",
       "      <th>feat97</th>\n",
       "      <th>feat98</th>\n",
       "      <th>feat99</th>\n",
       "    </tr>\n",
       "  </thead>\n",
       "  <tbody>\n",
       "    <tr>\n",
       "      <th>0</th>\n",
       "      <td>0</td>\n",
       "      <td>H_-2_-2_0.501338.dat</td>\n",
       "      <td>-2.0</td>\n",
       "      <td>-2.0</td>\n",
       "      <td>0.501338</td>\n",
       "      <td>999</td>\n",
       "      <td>666</td>\n",
       "      <td>test</td>\n",
       "      <td>-0.130965</td>\n",
       "      <td>0.301130</td>\n",
       "      <td>...</td>\n",
       "      <td>-0.080279</td>\n",
       "      <td>-0.115687</td>\n",
       "      <td>-0.174988</td>\n",
       "      <td>0.245064</td>\n",
       "      <td>0.319763</td>\n",
       "      <td>-0.059082</td>\n",
       "      <td>-0.000556</td>\n",
       "      <td>-0.245133</td>\n",
       "      <td>-0.301130</td>\n",
       "      <td>0.130965</td>\n",
       "    </tr>\n",
       "    <tr>\n",
       "      <th>1</th>\n",
       "      <td>0</td>\n",
       "      <td>H_-2_-2_0.501338.dat</td>\n",
       "      <td>-2.0</td>\n",
       "      <td>-2.0</td>\n",
       "      <td>0.501338</td>\n",
       "      <td>999</td>\n",
       "      <td>666</td>\n",
       "      <td>test</td>\n",
       "      <td>-0.130965</td>\n",
       "      <td>-0.301130</td>\n",
       "      <td>...</td>\n",
       "      <td>-0.080279</td>\n",
       "      <td>0.115687</td>\n",
       "      <td>-0.174988</td>\n",
       "      <td>-0.245064</td>\n",
       "      <td>0.319763</td>\n",
       "      <td>0.059082</td>\n",
       "      <td>-0.000556</td>\n",
       "      <td>0.245133</td>\n",
       "      <td>-0.301130</td>\n",
       "      <td>-0.130965</td>\n",
       "    </tr>\n",
       "    <tr>\n",
       "      <th>2</th>\n",
       "      <td>0</td>\n",
       "      <td>H_-2_-2_0.501338.dat</td>\n",
       "      <td>-2.0</td>\n",
       "      <td>-2.0</td>\n",
       "      <td>0.501338</td>\n",
       "      <td>999</td>\n",
       "      <td>666</td>\n",
       "      <td>test</td>\n",
       "      <td>-0.148414</td>\n",
       "      <td>-0.042467</td>\n",
       "      <td>...</td>\n",
       "      <td>0.185442</td>\n",
       "      <td>-0.080620</td>\n",
       "      <td>-0.066211</td>\n",
       "      <td>-0.121339</td>\n",
       "      <td>-0.151700</td>\n",
       "      <td>0.192513</td>\n",
       "      <td>0.191642</td>\n",
       "      <td>-0.050956</td>\n",
       "      <td>-0.042467</td>\n",
       "      <td>-0.148414</td>\n",
       "    </tr>\n",
       "    <tr>\n",
       "      <th>3</th>\n",
       "      <td>0</td>\n",
       "      <td>H_-2_-2_0.501338.dat</td>\n",
       "      <td>-2.0</td>\n",
       "      <td>-2.0</td>\n",
       "      <td>0.501338</td>\n",
       "      <td>999</td>\n",
       "      <td>666</td>\n",
       "      <td>test</td>\n",
       "      <td>-0.069630</td>\n",
       "      <td>-0.026147</td>\n",
       "      <td>...</td>\n",
       "      <td>0.102009</td>\n",
       "      <td>-0.100671</td>\n",
       "      <td>-0.081002</td>\n",
       "      <td>-0.020715</td>\n",
       "      <td>-0.058717</td>\n",
       "      <td>0.115834</td>\n",
       "      <td>0.118274</td>\n",
       "      <td>-0.054666</td>\n",
       "      <td>-0.026147</td>\n",
       "      <td>-0.069630</td>\n",
       "    </tr>\n",
       "    <tr>\n",
       "      <th>4</th>\n",
       "      <td>0</td>\n",
       "      <td>H_-2_-2_0.501338.dat</td>\n",
       "      <td>-2.0</td>\n",
       "      <td>-2.0</td>\n",
       "      <td>0.501338</td>\n",
       "      <td>999</td>\n",
       "      <td>666</td>\n",
       "      <td>test</td>\n",
       "      <td>0.010206</td>\n",
       "      <td>-0.014625</td>\n",
       "      <td>...</td>\n",
       "      <td>0.047555</td>\n",
       "      <td>-0.041368</td>\n",
       "      <td>-0.018852</td>\n",
       "      <td>-0.017673</td>\n",
       "      <td>-0.023377</td>\n",
       "      <td>0.031447</td>\n",
       "      <td>0.010280</td>\n",
       "      <td>0.000925</td>\n",
       "      <td>0.014625</td>\n",
       "      <td>-0.010206</td>\n",
       "    </tr>\n",
       "  </tbody>\n",
       "</table>\n",
       "<p>5 rows × 108 columns</p>\n",
       "</div>"
      ],
      "text/plain": [
       "   id                  path   t1   t2   winding  phase  pred_phase type_of  \\\n",
       "0   0  H_-2_-2_0.501338.dat -2.0 -2.0  0.501338    999         666    test   \n",
       "1   0  H_-2_-2_0.501338.dat -2.0 -2.0  0.501338    999         666    test   \n",
       "2   0  H_-2_-2_0.501338.dat -2.0 -2.0  0.501338    999         666    test   \n",
       "3   0  H_-2_-2_0.501338.dat -2.0 -2.0  0.501338    999         666    test   \n",
       "4   0  H_-2_-2_0.501338.dat -2.0 -2.0  0.501338    999         666    test   \n",
       "\n",
       "      feat0     feat1  ...    feat90    feat91    feat92    feat93    feat94  \\\n",
       "0 -0.130965  0.301130  ... -0.080279 -0.115687 -0.174988  0.245064  0.319763   \n",
       "1 -0.130965 -0.301130  ... -0.080279  0.115687 -0.174988 -0.245064  0.319763   \n",
       "2 -0.148414 -0.042467  ...  0.185442 -0.080620 -0.066211 -0.121339 -0.151700   \n",
       "3 -0.069630 -0.026147  ...  0.102009 -0.100671 -0.081002 -0.020715 -0.058717   \n",
       "4  0.010206 -0.014625  ...  0.047555 -0.041368 -0.018852 -0.017673 -0.023377   \n",
       "\n",
       "     feat95    feat96    feat97    feat98    feat99  \n",
       "0 -0.059082 -0.000556 -0.245133 -0.301130  0.130965  \n",
       "1  0.059082 -0.000556  0.245133 -0.301130 -0.130965  \n",
       "2  0.192513  0.191642 -0.050956 -0.042467 -0.148414  \n",
       "3  0.115834  0.118274 -0.054666 -0.026147 -0.069630  \n",
       "4  0.031447  0.010280  0.000925  0.014625 -0.010206  \n",
       "\n",
       "[5 rows x 108 columns]"
      ]
     },
     "execution_count": 4,
     "metadata": {},
     "output_type": "execute_result"
    }
   ],
   "source": [
    "%%time\n",
    "#Starting an instance of Simulation with a decision tree\n",
    "model = DecisionTreeClassifier(criterion=\"entropy\")\n",
    "#dict_args = {\"csv_path\":csv_path, \"model\":model, \"allowed_windings\":allowed_windings,\\\n",
    "#             \"simulation_dir\":simulation_dir, \"val_split\":val_split, \"features_to_use\":features_to_use,\\\n",
    "#            \"shuffle_features\":shuffle_features, \"random_state\":random_state}\n",
    "simulation = Simulation(csv_path,model_name,model_kw,allowed_windings,simulation_dir,val_split,features_to_use,\\\n",
    "                       shuffle_features,fourier_mode,fourier_features_to_use,fourier_real,\\\n",
    "                       fourier_normalize, fourier_fillna , random_state)\n",
    "#simulation = Simulation(**dict_args)\n",
    "\n",
    "\n",
    "#(self, csv_path, model_name, model_kw, allowed_windings, simulation_dir = None, val_split = 0, \n",
    "# features_to_use = None, shuffle_features = False, fourier_mode=None, fourier_features_to_use=None,\n",
    "# fourier_real = False, fourier_normalize = False, Fourier_fillna=False, random_state = None):\n",
    "\n",
    "\n",
    "\n",
    "print(\"Info on all data: \\n\")\n",
    "simulation.dataframe.info()\n",
    "simulation.dataframe.head()"
   ]
  },
  {
   "cell_type": "markdown",
   "metadata": {
    "papermill": {
     "duration": 0.016269,
     "end_time": "2020-07-09T20:33:22.104420",
     "exception": false,
     "start_time": "2020-07-09T20:33:22.088151",
     "status": "completed"
    },
    "tags": []
   },
   "source": [
    "####  Fourier features"
   ]
  },
  {
   "cell_type": "code",
   "execution_count": 5,
   "metadata": {
    "execution": {
     "iopub.execute_input": "2020-07-09T20:33:22.139172Z",
     "iopub.status.busy": "2020-07-09T20:33:22.138833Z",
     "iopub.status.idle": "2020-07-09T20:33:22.342805Z",
     "shell.execute_reply": "2020-07-09T20:33:22.342484Z"
    },
    "papermill": {
     "duration": 0.222517,
     "end_time": "2020-07-09T20:33:22.342855",
     "exception": false,
     "start_time": "2020-07-09T20:33:22.120338",
     "status": "completed"
    },
    "tags": []
   },
   "outputs": [
    {
     "name": "stdout",
     "output_type": "stream",
     "text": [
      "<class 'pandas.core.frame.DataFrame'>\n",
      "Int64Index: 656100 entries, 0 to 656099\n",
      "Data columns (total 59 columns):\n",
      " #   Column      Non-Null Count   Dtype  \n",
      "---  ------      --------------   -----  \n",
      " 0   id          656100 non-null  int32  \n",
      " 1   path        656100 non-null  object \n",
      " 2   t1          656100 non-null  float64\n",
      " 3   t2          656100 non-null  float64\n",
      " 4   winding     656100 non-null  float64\n",
      " 5   phase       656100 non-null  int32  \n",
      " 6   pred_phase  656100 non-null  int32  \n",
      " 7   type_of     656100 non-null  object \n",
      " 8   dct_feat0   656100 non-null  float64\n",
      " 9   dct_feat1   656100 non-null  float64\n",
      " 10  dct_feat2   656100 non-null  float64\n",
      " 11  dct_feat3   656100 non-null  float64\n",
      " 12  dct_feat4   656100 non-null  float64\n",
      " 13  dct_feat5   656100 non-null  float64\n",
      " 14  dct_feat6   656100 non-null  float64\n",
      " 15  dct_feat7   656100 non-null  float64\n",
      " 16  dct_feat8   656100 non-null  float64\n",
      " 17  dct_feat9   656100 non-null  float64\n",
      " 18  dct_feat10  656100 non-null  float64\n",
      " 19  dct_feat11  656100 non-null  float64\n",
      " 20  dct_feat12  656100 non-null  float64\n",
      " 21  dct_feat13  656100 non-null  float64\n",
      " 22  dct_feat14  656100 non-null  float64\n",
      " 23  dct_feat15  656100 non-null  float64\n",
      " 24  dct_feat16  656100 non-null  float64\n",
      " 25  dct_feat17  656100 non-null  float64\n",
      " 26  dct_feat18  656100 non-null  float64\n",
      " 27  dct_feat19  656100 non-null  float64\n",
      " 28  dct_feat20  656100 non-null  float64\n",
      " 29  dct_feat21  656100 non-null  float64\n",
      " 30  dct_feat22  656100 non-null  float64\n",
      " 31  dct_feat23  656100 non-null  float64\n",
      " 32  dct_feat24  656100 non-null  float64\n",
      " 33  dct_feat25  656100 non-null  float64\n",
      " 34  dct_feat26  656100 non-null  float64\n",
      " 35  dct_feat27  656100 non-null  float64\n",
      " 36  dct_feat28  656100 non-null  float64\n",
      " 37  dct_feat29  656100 non-null  float64\n",
      " 38  dct_feat30  656100 non-null  float64\n",
      " 39  dct_feat31  656100 non-null  float64\n",
      " 40  dct_feat32  656100 non-null  float64\n",
      " 41  dct_feat33  656100 non-null  float64\n",
      " 42  dct_feat34  656100 non-null  float64\n",
      " 43  dct_feat35  656100 non-null  float64\n",
      " 44  dct_feat36  656100 non-null  float64\n",
      " 45  dct_feat37  656100 non-null  float64\n",
      " 46  dct_feat38  656100 non-null  float64\n",
      " 47  dct_feat39  656100 non-null  float64\n",
      " 48  dct_feat40  656100 non-null  float64\n",
      " 49  dct_feat41  656100 non-null  float64\n",
      " 50  dct_feat42  656100 non-null  float64\n",
      " 51  dct_feat43  656100 non-null  float64\n",
      " 52  dct_feat44  656100 non-null  float64\n",
      " 53  dct_feat45  656100 non-null  float64\n",
      " 54  dct_feat46  656100 non-null  float64\n",
      " 55  dct_feat47  656100 non-null  float64\n",
      " 56  dct_feat48  656100 non-null  float64\n",
      " 57  dct_feat49  656100 non-null  float64\n",
      " 58  dct_feat50  656100 non-null  float64\n",
      "dtypes: float64(54), int32(3), object(2)\n",
      "memory usage: 292.8+ MB\n",
      "CPU times: user 185 ms, sys: 8.11 ms, total: 193 ms\n",
      "Wall time: 193 ms\n"
     ]
    }
   ],
   "source": [
    "%%time\n",
    "#simulation.generate_fourier_df()\n",
    "if simulation.fourier_mode is not None:\n",
    "    simulation.fourier_dataframe.info() \n",
    "    simulation.fourier_dataframe.sample(15)\n"
   ]
  },
  {
   "cell_type": "code",
   "execution_count": 6,
   "metadata": {
    "execution": {
     "iopub.execute_input": "2020-07-09T20:33:22.379274Z",
     "iopub.status.busy": "2020-07-09T20:33:22.378960Z",
     "iopub.status.idle": "2020-07-09T20:33:22.391062Z",
     "shell.execute_reply": "2020-07-09T20:33:22.391386Z"
    },
    "papermill": {
     "duration": 0.031574,
     "end_time": "2020-07-09T20:33:22.391454",
     "exception": false,
     "start_time": "2020-07-09T20:33:22.359880",
     "status": "completed"
    },
    "tags": []
   },
   "outputs": [
    {
     "name": "stdout",
     "output_type": "stream",
     "text": [
      "features_to_use: \n",
      "\n",
      "\n",
      "None\n",
      "\n",
      "\n",
      "fourier_features: \n",
      "\n",
      "\n",
      "['dct_feat0', 'dct_feat1', 'dct_feat2', 'dct_feat3', 'dct_feat4', 'dct_feat5', 'dct_feat6', 'dct_feat7', 'dct_feat8', 'dct_feat9', 'dct_feat10', 'dct_feat11', 'dct_feat12', 'dct_feat13', 'dct_feat14', 'dct_feat15', 'dct_feat16', 'dct_feat17', 'dct_feat18', 'dct_feat19', 'dct_feat20', 'dct_feat21', 'dct_feat22', 'dct_feat23', 'dct_feat24', 'dct_feat25', 'dct_feat26', 'dct_feat27', 'dct_feat28', 'dct_feat29', 'dct_feat30', 'dct_feat31', 'dct_feat32', 'dct_feat33', 'dct_feat34', 'dct_feat35', 'dct_feat36', 'dct_feat37', 'dct_feat38', 'dct_feat39', 'dct_feat40', 'dct_feat41', 'dct_feat42', 'dct_feat43', 'dct_feat44', 'dct_feat45', 'dct_feat46', 'dct_feat47', 'dct_feat48', 'dct_feat49', 'dct_feat50']\n",
      "\n",
      "\n",
      "Number of Fourier features: \n",
      "\n",
      "\n",
      "51\n"
     ]
    }
   ],
   "source": [
    "print(\"features_to_use: \")\n",
    "print(\"\\n\")\n",
    "print(simulation.features_to_use)\n",
    "if simulation.features_to_use is not None:\n",
    "    print(\"Number of real space features:\")\n",
    "    print(\"\\n\")\n",
    "    print(len(simulation.features_to_use))\n",
    "print(\"\\n\")\n",
    "print(\"fourier_features: \")\n",
    "print(\"\\n\")\n",
    "print(simulation.fourier_features)\n",
    "print(\"\\n\")\n",
    "if simulation.fourier_features is not None:\n",
    "    print(\"Number of Fourier features: \")\n",
    "    print(\"\\n\")\n",
    "    print(len(simulation.fourier_features))"
   ]
  },
  {
   "cell_type": "code",
   "execution_count": 7,
   "metadata": {
    "execution": {
     "iopub.execute_input": "2020-07-09T20:33:22.426178Z",
     "iopub.status.busy": "2020-07-09T20:33:22.425873Z",
     "iopub.status.idle": "2020-07-09T20:33:22.491554Z",
     "shell.execute_reply": "2020-07-09T20:33:22.492203Z"
    },
    "papermill": {
     "duration": 0.084535,
     "end_time": "2020-07-09T20:33:22.492357",
     "exception": false,
     "start_time": "2020-07-09T20:33:22.407822",
     "status": "completed"
    },
    "tags": []
   },
   "outputs": [],
   "source": [
    "#simulation.dataframe.iloc[331456,:]"
   ]
  },
  {
   "cell_type": "code",
   "execution_count": 8,
   "metadata": {
    "execution": {
     "iopub.execute_input": "2020-07-09T20:33:22.558771Z",
     "iopub.status.busy": "2020-07-09T20:33:22.558456Z",
     "iopub.status.idle": "2020-07-09T20:33:22.567743Z",
     "shell.execute_reply": "2020-07-09T20:33:22.568055Z"
    },
    "papermill": {
     "duration": 0.031923,
     "end_time": "2020-07-09T20:33:22.568125",
     "exception": false,
     "start_time": "2020-07-09T20:33:22.536202",
     "status": "completed"
    },
    "tags": []
   },
   "outputs": [],
   "source": [
    "#for ix, obj in enumerate(simulation.dataframe.iloc[331456,:].values):\n",
    "#    print(ix,obj)"
   ]
  },
  {
   "cell_type": "code",
   "execution_count": 9,
   "metadata": {
    "execution": {
     "iopub.execute_input": "2020-07-09T20:33:22.603538Z",
     "iopub.status.busy": "2020-07-09T20:33:22.603212Z",
     "iopub.status.idle": "2020-07-09T20:33:22.657393Z",
     "shell.execute_reply": "2020-07-09T20:33:22.656896Z"
    },
    "papermill": {
     "duration": 0.072792,
     "end_time": "2020-07-09T20:33:22.657468",
     "exception": false,
     "start_time": "2020-07-09T20:33:22.584676",
     "status": "completed"
    },
    "tags": []
   },
   "outputs": [],
   "source": [
    "#simulation.fourier_engineered_dataframe.dct_feat0"
   ]
  },
  {
   "cell_type": "code",
   "execution_count": 10,
   "metadata": {
    "execution": {
     "iopub.execute_input": "2020-07-09T20:33:22.708741Z",
     "iopub.status.busy": "2020-07-09T20:33:22.708438Z",
     "iopub.status.idle": "2020-07-09T20:33:22.720258Z",
     "shell.execute_reply": "2020-07-09T20:33:22.720586Z"
    },
    "papermill": {
     "duration": 0.034829,
     "end_time": "2020-07-09T20:33:22.720654",
     "exception": false,
     "start_time": "2020-07-09T20:33:22.685825",
     "status": "completed"
    },
    "tags": []
   },
   "outputs": [],
   "source": [
    "#simulation.features"
   ]
  },
  {
   "cell_type": "code",
   "execution_count": 11,
   "metadata": {
    "execution": {
     "iopub.execute_input": "2020-07-09T20:33:22.755769Z",
     "iopub.status.busy": "2020-07-09T20:33:22.755460Z",
     "iopub.status.idle": "2020-07-09T20:33:22.816185Z",
     "shell.execute_reply": "2020-07-09T20:33:22.815634Z"
    },
    "papermill": {
     "duration": 0.079037,
     "end_time": "2020-07-09T20:33:22.816265",
     "exception": false,
     "start_time": "2020-07-09T20:33:22.737228",
     "status": "completed"
    },
    "tags": []
   },
   "outputs": [],
   "source": [
    "#simulation.fourier_matrix"
   ]
  },
  {
   "cell_type": "code",
   "execution_count": 12,
   "metadata": {
    "execution": {
     "iopub.execute_input": "2020-07-09T20:33:22.882574Z",
     "iopub.status.busy": "2020-07-09T20:33:22.882084Z",
     "iopub.status.idle": "2020-07-09T20:33:22.899024Z",
     "shell.execute_reply": "2020-07-09T20:33:22.899365Z"
    },
    "papermill": {
     "duration": 0.051508,
     "end_time": "2020-07-09T20:33:22.899434",
     "exception": false,
     "start_time": "2020-07-09T20:33:22.847926",
     "status": "completed"
    },
    "tags": []
   },
   "outputs": [],
   "source": [
    "#1/simulation.n_features*simulation.dataframe.loc[:,simulation.features].sum(axis=1)"
   ]
  },
  {
   "cell_type": "code",
   "execution_count": 13,
   "metadata": {
    "execution": {
     "iopub.execute_input": "2020-07-09T20:33:22.934590Z",
     "iopub.status.busy": "2020-07-09T20:33:22.934102Z",
     "iopub.status.idle": "2020-07-09T20:33:22.990149Z",
     "shell.execute_reply": "2020-07-09T20:33:22.988329Z"
    },
    "papermill": {
     "duration": 0.074461,
     "end_time": "2020-07-09T20:33:22.990396",
     "exception": false,
     "start_time": "2020-07-09T20:33:22.915935",
     "status": "completed"
    },
    "tags": []
   },
   "outputs": [],
   "source": [
    "#df_2 = simulation.fourier_engineered_dataframe[simulation.fourier_engineered_dataframe.phase==2]\n",
    "#df_2.describe()"
   ]
  },
  {
   "cell_type": "code",
   "execution_count": 14,
   "metadata": {
    "execution": {
     "iopub.execute_input": "2020-07-09T20:33:23.058217Z",
     "iopub.status.busy": "2020-07-09T20:33:23.057727Z",
     "iopub.status.idle": "2020-07-09T20:33:23.067673Z",
     "shell.execute_reply": "2020-07-09T20:33:23.067332Z"
    },
    "papermill": {
     "duration": 0.031263,
     "end_time": "2020-07-09T20:33:23.067740",
     "exception": false,
     "start_time": "2020-07-09T20:33:23.036477",
     "status": "completed"
    },
    "tags": []
   },
   "outputs": [],
   "source": [
    "#df_1 = simulation.fourier_engineered_dataframe[simulation.fourier_engineered_dataframe.phase==1]\n",
    "#df_1.describe()"
   ]
  },
  {
   "cell_type": "code",
   "execution_count": 15,
   "metadata": {
    "execution": {
     "iopub.execute_input": "2020-07-09T20:33:23.103241Z",
     "iopub.status.busy": "2020-07-09T20:33:23.102728Z",
     "iopub.status.idle": "2020-07-09T20:33:23.157047Z",
     "shell.execute_reply": "2020-07-09T20:33:23.156623Z"
    },
    "papermill": {
     "duration": 0.072643,
     "end_time": "2020-07-09T20:33:23.157110",
     "exception": false,
     "start_time": "2020-07-09T20:33:23.084467",
     "status": "completed"
    },
    "tags": []
   },
   "outputs": [],
   "source": [
    "#df_0 = simulation.fourier_engineered_dataframe[simulation.fourier_engineered_dataframe.phase==0]\n",
    "#df_0.describe()"
   ]
  },
  {
   "cell_type": "code",
   "execution_count": 16,
   "metadata": {
    "execution": {
     "iopub.execute_input": "2020-07-09T20:33:23.200022Z",
     "iopub.status.busy": "2020-07-09T20:33:23.199527Z",
     "iopub.status.idle": "2020-07-09T20:33:23.248523Z",
     "shell.execute_reply": "2020-07-09T20:33:23.248117Z"
    },
    "papermill": {
     "duration": 0.069728,
     "end_time": "2020-07-09T20:33:23.248583",
     "exception": false,
     "start_time": "2020-07-09T20:33:23.178855",
     "status": "completed"
    },
    "tags": []
   },
   "outputs": [],
   "source": [
    "#plt.figure(figsize=(10,10))\n",
    "#plt.scatter(df_1.fourier_feat0,df_1.fourier_feat2)\n",
    "#plt.scatter(df_0.fourier_feat0,df_0.fourier_feat2,alpha=0.4)"
   ]
  },
  {
   "cell_type": "code",
   "execution_count": 17,
   "metadata": {
    "execution": {
     "iopub.execute_input": "2020-07-09T20:33:23.287337Z",
     "iopub.status.busy": "2020-07-09T20:33:23.286836Z",
     "iopub.status.idle": "2020-07-09T20:33:23.340308Z",
     "shell.execute_reply": "2020-07-09T20:33:23.339884Z"
    },
    "papermill": {
     "duration": 0.072678,
     "end_time": "2020-07-09T20:33:23.340370",
     "exception": false,
     "start_time": "2020-07-09T20:33:23.267692",
     "status": "completed"
    },
    "tags": []
   },
   "outputs": [],
   "source": [
    "#plt.scatter(df_0.fourier_feat0,df_0.fourier_feat2,alpha=0.4)"
   ]
  },
  {
   "cell_type": "code",
   "execution_count": 18,
   "metadata": {
    "execution": {
     "iopub.execute_input": "2020-07-09T20:33:23.385123Z",
     "iopub.status.busy": "2020-07-09T20:33:23.384582Z",
     "iopub.status.idle": "2020-07-09T20:33:23.439403Z",
     "shell.execute_reply": "2020-07-09T20:33:23.440967Z"
    },
    "papermill": {
     "duration": 0.077366,
     "end_time": "2020-07-09T20:33:23.441276",
     "exception": false,
     "start_time": "2020-07-09T20:33:23.363910",
     "status": "completed"
    },
    "tags": []
   },
   "outputs": [],
   "source": [
    "#plt.scatter(df_2.fourier_feat0,df_2.fourier_feat2)"
   ]
  },
  {
   "cell_type": "code",
   "execution_count": 19,
   "metadata": {
    "execution": {
     "iopub.execute_input": "2020-07-09T20:33:23.514272Z",
     "iopub.status.busy": "2020-07-09T20:33:23.513966Z",
     "iopub.status.idle": "2020-07-09T20:33:23.524253Z",
     "shell.execute_reply": "2020-07-09T20:33:23.523917Z"
    },
    "papermill": {
     "duration": 0.031414,
     "end_time": "2020-07-09T20:33:23.524307",
     "exception": false,
     "start_time": "2020-07-09T20:33:23.492893",
     "status": "completed"
    },
    "tags": []
   },
   "outputs": [],
   "source": [
    "#df_1.hist(figsize=(15,15))"
   ]
  },
  {
   "cell_type": "code",
   "execution_count": 20,
   "metadata": {
    "execution": {
     "iopub.execute_input": "2020-07-09T20:33:23.562935Z",
     "iopub.status.busy": "2020-07-09T20:33:23.562627Z",
     "iopub.status.idle": "2020-07-09T20:33:23.615677Z",
     "shell.execute_reply": "2020-07-09T20:33:23.615221Z"
    },
    "papermill": {
     "duration": 0.073976,
     "end_time": "2020-07-09T20:33:23.615747",
     "exception": false,
     "start_time": "2020-07-09T20:33:23.541771",
     "status": "completed"
    },
    "tags": []
   },
   "outputs": [],
   "source": [
    "#df_0.hist(figsize=(15,15))"
   ]
  },
  {
   "cell_type": "markdown",
   "metadata": {
    "papermill": {
     "duration": 0.01924,
     "end_time": "2020-07-09T20:33:23.659635",
     "exception": false,
     "start_time": "2020-07-09T20:33:23.640395",
     "status": "completed"
    },
    "tags": []
   },
   "source": [
    "#### Checking initialization"
   ]
  },
  {
   "cell_type": "code",
   "execution_count": 21,
   "metadata": {
    "execution": {
     "iopub.execute_input": "2020-07-09T20:33:23.696313Z",
     "iopub.status.busy": "2020-07-09T20:33:23.695905Z",
     "iopub.status.idle": "2020-07-09T20:33:23.707498Z",
     "shell.execute_reply": "2020-07-09T20:33:23.707216Z"
    },
    "papermill": {
     "duration": 0.030502,
     "end_time": "2020-07-09T20:33:23.707552",
     "exception": false,
     "start_time": "2020-07-09T20:33:23.677050",
     "status": "completed"
    },
    "tags": []
   },
   "outputs": [
    {
     "name": "stdout",
     "output_type": "stream",
     "text": [
      "n_features:  100\n",
      "n_hamiltonians:  6561\n",
      "n_ts:  2\n",
      "CPU times: user 181 µs, sys: 0 ns, total: 181 µs\n",
      "Wall time: 127 µs\n"
     ]
    }
   ],
   "source": [
    "%%time\n",
    "n_features = simulation.n_features\n",
    "n_hamiltonians = simulation.n_hamiltonians\n",
    "n_ts = simulation.n_ts\n",
    "\n",
    "print(\"n_features: \", n_features)\n",
    "print(\"n_hamiltonians: \", n_hamiltonians)\n",
    "print(\"n_ts: \", n_ts)"
   ]
  },
  {
   "cell_type": "code",
   "execution_count": 22,
   "metadata": {
    "execution": {
     "iopub.execute_input": "2020-07-09T20:33:23.744399Z",
     "iopub.status.busy": "2020-07-09T20:33:23.744061Z",
     "iopub.status.idle": "2020-07-09T20:33:23.994599Z",
     "shell.execute_reply": "2020-07-09T20:33:23.994918Z"
    },
    "papermill": {
     "duration": 0.270087,
     "end_time": "2020-07-09T20:33:23.994984",
     "exception": false,
     "start_time": "2020-07-09T20:33:23.724897",
     "status": "completed"
    },
    "tags": []
   },
   "outputs": [
    {
     "name": "stdout",
     "output_type": "stream",
     "text": [
      "% train:  0.8414875781130925\n",
      "% val:  0.0\n",
      "% test:  0.15851242188690748\n",
      "% train + val + test:  1.0\n",
      "\n",
      "\n",
      "number of train hamiltonians:  5521\n",
      "number of val hamiltonians:  0\n",
      "number of test hamiltonians:  1040\n",
      "total number of hamiltonians:  6561\n",
      "\n",
      "\n",
      "train ids:  [13, 14, 15, 16, 17, 18, 19, 20, 21, 22, 23, 24, 25, 26, 27, 28, 29, 30, 31, 32, 33, 34, 35, 36, 37, 38, 39, 41, 42, 43, 44, 45, 46, 47, 48, 49, 50, 51, 52, 53, 54, 55, 56, 57, 58, 59, 60, 61, 62, 63, 64, 65, 66, 67, 68, 69, 70, 71, 72, 73, 74, 75, 76, 77, 78, 79, 80, 95, 96, 97, 98, 99, 100, 101, 102, 103, 104, 105, 106, 107, 108, 109, 110, 111, 112, 113, 114, 115, 116, 117, 118, 119, 121, 122, 123, 124, 125, 126, 127, 128, 129, 130, 131, 132, 133, 134, 135, 136, 137, 138, 139, 140, 141, 142, 143, 144, 145, 146, 147, 148, 149, 150, 151, 152, 153, 154, 155, 156, 157, 158, 159, 160, 161, 176, 177, 178, 179, 180, 181, 182, 183, 184, 185, 186, 187, 188, 189, 190, 191, 192, 193, 194, 195, 196, 197, 198, 199, 201, 202, 203, 204, 205, 206, 207, 208, 209, 210, 211, 212, 213, 214, 215, 216, 217, 218, 219, 220, 221, 222, 223, 224, 225, 226, 227, 228, 229, 230, 231, 232, 233, 234, 235, 236, 237, 238, 239, 240, 241, 242, 258, 259, 260, 261, 262, 263, 264, 265, 266, 267, 268, 269, 270, 271, 272, 273, 274, 275, 276, 277, 278, 279, 281, 282, 283, 284, 285, 286, 287, 288, 289, 290, 291, 292, 293, 294, 295, 296, 297, 298, 299, 300, 301, 302, 303, 304, 305, 306, 307, 308, 309, 310, 311, 312, 313, 314, 315, 316, 317, 318, 319, 320, 321, 322, 323, 340, 341, 342, 343, 344, 345, 346, 347, 348, 349, 350, 351, 352, 353, 354, 355, 356, 357, 358, 359, 361, 362, 363, 364, 365, 366, 367, 368, 369, 370, 371, 372, 373, 374, 375, 376, 377, 378, 379, 380, 381, 382, 383, 384, 385, 386, 387, 388, 389, 390, 391, 392, 393, 394, 395, 396, 397, 398, 399, 400, 401, 402, 403, 404, 422, 423, 424, 425, 426, 427, 428, 429, 430, 431, 432, 433, 434, 435, 436, 437, 438, 439, 441, 442, 443, 444, 445, 446, 447, 448, 449, 450, 451, 452, 453, 454, 455, 456, 457, 458, 459, 460, 461, 462, 463, 464, 465, 466, 467, 468, 469, 470, 471, 472, 473, 474, 475, 476, 477, 478, 479, 480, 481, 482, 483, 484, 485, 503, 504, 505, 506, 507, 508, 509, 510, 511, 512, 513, 514, 515, 516, 517, 518, 519, 521, 522, 523, 524, 525, 526, 527, 528, 529, 530, 531, 532, 533, 534, 535, 536, 537, 538, 539, 540, 541, 542, 543, 544, 545, 546, 547, 548, 549, 550, 551, 552, 553, 554, 555, 556, 557, 558, 559, 560, 561, 562, 563, 564, 565, 566, 585, 586, 587, 588, 589, 590, 591, 592, 593, 594, 595, 596, 597, 598, 599, 601, 602, 603, 604, 605, 606, 607, 608, 609, 610, 611, 612, 613, 614, 615, 616, 617, 618, 619, 620, 621, 622, 623, 624, 625, 626, 627, 628, 629, 630, 631, 632, 633, 634, 635, 636, 637, 638, 639, 640, 641, 642, 643, 644, 645, 646, 647, 667, 668, 669, 670, 671, 672, 673, 674, 675, 676, 677, 678, 679, 681, 682, 683, 684, 685, 686, 687, 688, 689, 690, 691, 692, 693, 694, 695, 696, 697, 698, 699, 700, 701, 702, 703, 704, 705, 706, 707, 708, 709, 710, 711, 712, 713, 714, 715, 716, 717, 718, 719, 720, 721, 722, 723, 724, 725, 726, 727, 728, 749, 750, 751, 752, 753, 754, 755, 756, 757, 758, 759, 761, 762, 763, 764, 765, 766, 767, 768, 769, 770, 771, 772, 773, 774, 775, 776, 777, 778, 779, 780, 781, 782, 783, 784, 785, 786, 787, 788, 789, 790, 791, 792, 793, 794, 795, 796, 797, 798, 799, 800, 801, 802, 803, 804, 805, 806, 807, 808, 809, 830, 831, 832, 833, 834, 835, 836, 837, 838, 839, 841, 842, 843, 844, 845, 846, 847, 848, 849, 850, 851, 852, 853, 854, 855, 856, 857, 858, 859, 860, 861, 862, 863, 864, 865, 866, 867, 868, 869, 870, 871, 872, 873, 874, 875, 876, 877, 878, 879, 880, 881, 882, 883, 884, 885, 886, 887, 888, 889, 890, 912, 913, 914, 915, 916, 917, 918, 919, 921, 922, 923, 924, 925, 926, 927, 928, 929, 930, 931, 932, 933, 934, 935, 936, 937, 938, 939, 940, 941, 942, 943, 944, 945, 946, 947, 948, 949, 950, 951, 952, 953, 954, 955, 956, 957, 958, 959, 960, 961, 962, 963, 964, 965, 966, 967, 968, 969, 970, 971, 994, 995, 996, 997, 998, 999, 1001, 1002, 1003, 1004, 1005, 1006, 1007, 1008, 1009, 1010, 1011, 1012, 1013, 1014, 1015, 1016, 1017, 1018, 1019, 1020, 1021, 1022, 1023, 1024, 1025, 1026, 1027, 1028, 1029, 1030, 1031, 1032, 1033, 1034, 1035, 1036, 1037, 1038, 1039, 1040, 1041, 1042, 1043, 1044, 1045, 1046, 1047, 1048, 1049, 1050, 1051, 1052, 1076, 1077, 1078, 1079, 1081, 1082, 1083, 1084, 1085, 1086, 1087, 1088, 1089, 1090, 1091, 1092, 1093, 1094, 1095, 1096, 1097, 1098, 1099, 1100, 1101, 1102, 1103, 1104, 1105, 1106, 1107, 1108, 1109, 1110, 1111, 1112, 1113, 1114, 1115, 1116, 1117, 1118, 1119, 1120, 1121, 1122, 1123, 1124, 1125, 1126, 1127, 1128, 1129, 1130, 1131, 1132, 1133, 1134, 1157, 1158, 1159, 1161, 1162, 1163, 1164, 1165, 1166, 1167, 1168, 1169, 1170, 1171, 1172, 1173, 1174, 1175, 1176, 1177, 1178, 1179, 1180, 1181, 1182, 1183, 1184, 1185, 1186, 1187, 1188, 1189, 1190, 1191, 1192, 1193, 1194, 1195, 1196, 1197, 1198, 1199, 1200, 1201, 1202, 1203, 1204, 1205, 1206, 1207, 1208, 1209, 1210, 1211, 1212, 1213, 1214, 1215, 1216, 1239, 1241, 1242, 1243, 1244, 1245, 1246, 1247, 1248, 1249, 1250, 1251, 1252, 1253, 1254, 1255, 1256, 1257, 1258, 1259, 1260, 1261, 1262, 1263, 1264, 1265, 1266, 1267, 1268, 1269, 1270, 1271, 1272, 1273, 1274, 1275, 1276, 1277, 1278, 1279, 1280, 1281, 1282, 1283, 1284, 1285, 1286, 1287, 1288, 1289, 1290, 1291, 1292, 1293, 1294, 1295, 1296, 1297, 1298, 1299, 1321, 1322, 1323, 1324, 1325, 1326, 1327, 1328, 1329, 1330, 1331, 1332, 1333, 1334, 1335, 1336, 1337, 1338, 1339, 1340, 1341, 1342, 1343, 1344, 1345, 1346, 1347, 1348, 1349, 1350, 1351, 1352, 1353, 1354, 1355, 1356, 1357, 1358, 1359, 1360, 1361, 1362, 1363, 1364, 1365, 1366, 1367, 1368, 1369, 1370, 1371, 1372, 1373, 1374, 1375, 1376, 1377, 1378, 1379, 1380, 1381, 1402, 1403, 1404, 1405, 1406, 1407, 1408, 1409, 1410, 1411, 1412, 1413, 1414, 1415, 1416, 1417, 1418, 1419, 1420, 1421, 1422, 1423, 1424, 1425, 1426, 1427, 1428, 1429, 1430, 1431, 1432, 1433, 1434, 1435, 1436, 1437, 1438, 1439, 1440, 1441, 1442, 1443, 1444, 1445, 1446, 1447, 1448, 1449, 1450, 1451, 1452, 1453, 1454, 1455, 1456, 1457, 1458, 1459, 1460, 1461, 1462, 1463, 1464, 1484, 1485, 1486, 1487, 1488, 1489, 1490, 1491, 1492, 1493, 1494, 1495, 1496, 1497, 1498, 1499, 1500, 1501, 1502, 1503, 1504, 1505, 1506, 1507, 1508, 1509, 1510, 1511, 1512, 1513, 1514, 1515, 1516, 1517, 1518, 1519, 1520, 1521, 1522, 1523, 1524, 1525, 1526, 1527, 1528, 1529, 1530, 1531, 1532, 1533, 1534, 1535, 1536, 1537, 1538, 1539, 1540, 1541, 1542, 1543, 1544, 1545, 1546, 1566, 1567, 1568, 1569, 1570, 1571, 1572, 1573, 1574, 1575, 1576, 1577, 1578, 1579, 1580, 1581, 1582, 1583, 1584, 1585, 1586, 1587, 1588, 1589, 1590, 1591, 1592, 1593, 1594, 1595, 1596, 1597, 1598, 1599, 1600, 1601, 1602, 1603, 1604, 1605, 1606, 1607, 1608, 1609, 1610, 1611, 1612, 1613, 1614, 1615, 1616, 1617, 1618, 1619, 1620, 1621, 1622, 1623, 1624, 1625, 1626, 1627, 1628, 1648, 1649, 1650, 1651, 1652, 1653, 1654, 1655, 1656, 1657, 1658, 1659, 1660, 1661, 1662, 1663, 1664, 1665, 1666, 1667, 1668, 1669, 1670, 1671, 1672, 1673, 1674, 1675, 1676, 1677, 1678, 1679, 1680, 1681, 1682, 1683, 1684, 1685, 1686, 1687, 1688, 1689, 1690, 1691, 1692, 1693, 1694, 1695, 1696, 1697, 1698, 1699, 1701, 1702, 1703, 1704, 1705, 1706, 1707, 1708, 1709, 1710, 1711, 1729, 1730, 1731, 1732, 1733, 1734, 1735, 1736, 1737, 1738, 1739, 1740, 1741, 1742, 1743, 1744, 1745, 1746, 1747, 1748, 1749, 1750, 1751, 1752, 1753, 1754, 1755, 1756, 1757, 1758, 1759, 1760, 1761, 1762, 1763, 1764, 1765, 1766, 1767, 1768, 1769, 1770, 1771, 1772, 1773, 1774, 1775, 1776, 1777, 1778, 1779, 1781, 1782, 1783, 1784, 1785, 1786, 1787, 1788, 1789, 1790, 1791, 1792, 1793, 1811, 1812, 1813, 1814, 1815, 1816, 1817, 1818, 1819, 1820, 1821, 1822, 1823, 1824, 1825, 1826, 1827, 1828, 1829, 1830, 1831, 1832, 1833, 1834, 1835, 1836, 1837, 1838, 1839, 1840, 1841, 1842, 1843, 1844, 1845, 1846, 1847, 1848, 1849, 1850, 1851, 1852, 1853, 1854, 1855, 1856, 1857, 1858, 1859, 1861, 1862, 1863, 1864, 1865, 1866, 1867, 1868, 1869, 1870, 1871, 1872, 1873, 1874, 1875, 1876, 1893, 1894, 1895, 1896, 1897, 1898, 1899, 1900, 1901, 1902, 1903, 1904, 1905, 1906, 1907, 1908, 1909, 1910, 1911, 1912, 1913, 1914, 1915, 1916, 1917, 1918, 1919, 1920, 1921, 1922, 1923, 1924, 1925, 1926, 1927, 1928, 1929, 1930, 1931, 1932, 1933, 1934, 1935, 1936, 1937, 1938, 1939, 1941, 1942, 1943, 1944, 1945, 1946, 1947, 1948, 1949, 1950, 1951, 1952, 1953, 1954, 1955, 1956, 1957, 1958, 1975, 1976, 1977, 1978, 1979, 1980, 1981, 1982, 1983, 1984, 1985, 1986, 1987, 1988, 1989, 1990, 1991, 1992, 1993, 1994, 1995, 1996, 1997, 1998, 1999, 2000, 2001, 2002, 2003, 2004, 2005, 2006, 2007, 2008, 2009, 2010, 2011, 2012, 2013, 2014, 2015, 2016, 2017, 2018, 2019, 2021, 2022, 2023, 2024, 2025, 2026, 2027, 2028, 2029, 2030, 2031, 2032, 2033, 2034, 2035, 2036, 2037, 2038, 2039, 2056, 2057, 2058, 2059, 2060, 2061, 2062, 2063, 2064, 2065, 2066, 2067, 2068, 2069, 2070, 2071, 2072, 2073, 2074, 2075, 2076, 2077, 2078, 2079, 2080, 2081, 2082, 2083, 2084, 2085, 2086, 2087, 2088, 2089, 2090, 2091, 2092, 2093, 2094, 2095, 2096, 2097, 2098, 2099, 2101, 2102, 2103, 2104, 2105, 2106, 2107, 2108, 2109, 2110, 2111, 2112, 2113, 2114, 2115, 2116, 2117, 2118, 2119, 2121, 2122, 2123, 2138, 2139, 2140, 2141, 2142, 2143, 2144, 2145, 2146, 2147, 2148, 2149, 2150, 2151, 2152, 2153, 2154, 2155, 2156, 2157, 2158, 2159, 2160, 2161, 2162, 2163, 2164, 2165, 2166, 2167, 2168, 2169, 2170, 2171, 2172, 2173, 2174, 2175, 2176, 2177, 2178, 2179, 2181, 2182, 2183, 2184, 2185, 2186, 2187, 2188, 2189, 2190, 2191, 2192, 2193, 2194, 2195, 2196, 2197, 2198, 2199, 2201, 2202, 2203, 2204, 2205, 2220, 2221, 2222, 2223, 2224, 2225, 2226, 2227, 2228, 2229, 2230, 2231, 2232, 2233, 2234, 2235, 2236, 2237, 2238, 2239, 2240, 2241, 2242, 2243, 2244, 2245, 2246, 2247, 2248, 2249, 2250, 2251, 2252, 2253, 2254, 2255, 2256, 2257, 2258, 2259, 2261, 2262, 2263, 2264, 2265, 2266, 2267, 2268, 2269, 2270, 2271, 2272, 2273, 2274, 2275, 2276, 2277, 2278, 2279, 2281, 2282, 2283, 2284, 2285, 2286, 2287, 2288, 2301, 2302, 2303, 2304, 2305, 2306, 2307, 2308, 2309, 2310, 2311, 2312, 2313, 2314, 2315, 2316, 2317, 2318, 2319, 2320, 2321, 2322, 2323, 2324, 2325, 2326, 2327, 2328, 2329, 2330, 2331, 2332, 2333, 2334, 2335, 2336, 2337, 2338, 2339, 2341, 2342, 2343, 2344, 2345, 2346, 2347, 2348, 2349, 2350, 2351, 2352, 2353, 2354, 2355, 2356, 2357, 2358, 2359, 2361, 2362, 2363, 2364, 2365, 2366, 2367, 2368, 2369, 2370, 2383, 2384, 2385, 2386, 2387, 2388, 2389, 2390, 2391, 2392, 2393, 2394, 2395, 2396, 2397, 2398, 2399, 2400, 2401, 2402, 2403, 2404, 2405, 2406, 2407, 2408, 2409, 2410, 2411, 2412, 2413, 2414, 2415, 2416, 2417, 2418, 2419, 2421, 2422, 2423, 2424, 2425, 2426, 2427, 2428, 2429, 2430, 2431, 2432, 2433, 2434, 2435, 2436, 2437, 2438, 2439, 2441, 2442, 2443, 2444, 2445, 2446, 2447, 2448, 2449, 2450, 2451, 2452, 2453, 2465, 2466, 2467, 2468, 2469, 2470, 2471, 2472, 2473, 2474, 2475, 2476, 2477, 2478, 2479, 2480, 2481, 2482, 2483, 2484, 2485, 2486, 2487, 2488, 2489, 2490, 2491, 2492, 2493, 2494, 2495, 2496, 2497, 2498, 2499, 2501, 2502, 2503, 2504, 2505, 2506, 2507, 2508, 2509, 2510, 2511, 2512, 2513, 2514, 2515, 2516, 2517, 2518, 2519, 2521, 2522, 2523, 2524, 2525, 2526, 2527, 2528, 2529, 2530, 2531, 2532, 2533, 2534, 2535, 2547, 2548, 2549, 2550, 2551, 2552, 2553, 2554, 2555, 2556, 2557, 2558, 2559, 2560, 2561, 2562, 2563, 2564, 2565, 2566, 2567, 2568, 2569, 2570, 2571, 2572, 2573, 2574, 2575, 2576, 2577, 2578, 2579, 2581, 2582, 2583, 2584, 2585, 2586, 2587, 2588, 2589, 2590, 2591, 2592, 2593, 2594, 2595, 2596, 2597, 2598, 2599, 2601, 2602, 2603, 2604, 2605, 2606, 2607, 2608, 2609, 2610, 2611, 2612, 2613, 2614, 2615, 2616, 2617, 2628, 2629, 2630, 2631, 2632, 2633, 2634, 2635, 2636, 2637, 2638, 2639, 2640, 2641, 2642, 2643, 2644, 2645, 2646, 2647, 2648, 2649, 2650, 2651, 2652, 2653, 2654, 2655, 2656, 2657, 2658, 2659, 2661, 2662, 2663, 2664, 2665, 2666, 2667, 2668, 2669, 2670, 2671, 2672, 2673, 2674, 2675, 2676, 2677, 2678, 2679, 2681, 2682, 2683, 2684, 2685, 2686, 2687, 2688, 2689, 2690, 2691, 2692, 2693, 2694, 2695, 2696, 2697, 2698, 2699, 2700, 2710, 2711, 2712, 2713, 2714, 2715, 2716, 2717, 2718, 2719, 2720, 2721, 2722, 2723, 2724, 2725, 2726, 2727, 2728, 2729, 2730, 2731, 2732, 2733, 2734, 2735, 2736, 2737, 2738, 2739, 2741, 2742, 2743, 2744, 2745, 2746, 2747, 2748, 2749, 2750, 2751, 2752, 2753, 2754, 2755, 2756, 2757, 2758, 2759, 2761, 2762, 2763, 2764, 2765, 2766, 2767, 2768, 2769, 2770, 2771, 2772, 2773, 2774, 2775, 2776, 2777, 2778, 2779, 2780, 2781, 2782, 2792, 2793, 2794, 2795, 2796, 2797, 2798, 2799, 2800, 2801, 2802, 2803, 2804, 2805, 2806, 2807, 2808, 2809, 2810, 2811, 2812, 2813, 2814, 2815, 2816, 2817, 2818, 2819, 2821, 2822, 2823, 2824, 2825, 2826, 2827, 2828, 2829, 2830, 2831, 2832, 2833, 2834, 2835, 2836, 2837, 2838, 2839, 2841, 2842, 2843, 2844, 2845, 2846, 2847, 2848, 2849, 2850, 2851, 2852, 2853, 2854, 2855, 2856, 2857, 2858, 2859, 2860, 2861, 2862, 2863, 2864, 2865, 2874, 2875, 2876, 2877, 2878, 2879, 2880, 2881, 2882, 2883, 2884, 2885, 2886, 2887, 2888, 2889, 2890, 2891, 2892, 2893, 2894, 2895, 2896, 2897, 2898, 2899, 2901, 2902, 2903, 2904, 2905, 2906, 2907, 2908, 2909, 2910, 2911, 2912, 2913, 2914, 2915, 2916, 2917, 2918, 2919, 2921, 2922, 2923, 2924, 2925, 2926, 2927, 2928, 2929, 2930, 2931, 2932, 2933, 2934, 2935, 2936, 2937, 2938, 2939, 2940, 2941, 2942, 2943, 2944, 2945, 2946, 2947, 2955, 2956, 2957, 2958, 2959, 2960, 2961, 2962, 2963, 2964, 2965, 2966, 2967, 2968, 2969, 2970, 2971, 2972, 2973, 2974, 2975, 2976, 2977, 2978, 2979, 2981, 2982, 2983, 2984, 2985, 2986, 2987, 2988, 2989, 2990, 2991, 2992, 2993, 2994, 2995, 2996, 2997, 2998, 2999, 3001, 3002, 3003, 3004, 3005, 3006, 3007, 3008, 3009, 3010, 3011, 3012, 3013, 3014, 3015, 3016, 3017, 3018, 3019, 3020, 3021, 3022, 3023, 3024, 3025, 3026, 3027, 3028, 3029, 3037, 3038, 3039, 3040, 3041, 3042, 3043, 3044, 3045, 3046, 3047, 3048, 3049, 3050, 3051, 3052, 3053, 3054, 3055, 3056, 3057, 3058, 3059, 3061, 3062, 3063, 3064, 3065, 3066, 3067, 3068, 3069, 3070, 3071, 3072, 3073, 3074, 3075, 3076, 3077, 3078, 3079, 3081, 3082, 3083, 3084, 3085, 3086, 3087, 3088, 3089, 3090, 3091, 3092, 3093, 3094, 3095, 3096, 3097, 3098, 3099, 3100, 3101, 3102, 3103, 3104, 3105, 3106, 3107, 3108, 3109, 3110, 3111, 3112, 3119, 3120, 3121, 3122, 3123, 3124, 3125, 3126, 3127, 3128, 3129, 3130, 3131, 3132, 3133, 3134, 3135, 3136, 3137, 3138, 3139, 3141, 3142, 3143, 3144, 3145, 3146, 3147, 3148, 3149, 3150, 3151, 3152, 3153, 3154, 3155, 3156, 3157, 3158, 3159, 3161, 3162, 3163, 3164, 3165, 3166, 3167, 3168, 3169, 3170, 3171, 3172, 3173, 3174, 3175, 3176, 3177, 3178, 3179, 3180, 3181, 3182, 3183, 3184, 3185, 3186, 3187, 3188, 3189, 3190, 3191, 3192, 3193, 3194, 3201, 3202, 3203, 3204, 3205, 3206, 3207, 3208, 3209, 3210, 3211, 3212, 3213, 3214, 3215, 3216, 3217, 3218, 3219, 3221, 3222, 3223, 3224, 3225, 3226, 3227, 3228, 3229, 3230, 3231, 3232, 3233, 3234, 3235, 3236, 3237, 3238, 3239, 3241, 3242, 3243, 3244, 3245, 3246, 3247, 3248, 3249, 3250, 3251, 3252, 3253, 3254, 3255, 3256, 3257, 3258, 3259, 3260, 3261, 3262, 3263, 3264, 3265, 3266, 3267, 3268, 3269, 3270, 3271, 3272, 3273, 3274, 3275, 3276, 3277, 3282, 3283, 3284, 3285, 3286, 3287, 3288, 3289, 3290, 3291, 3292, 3293, 3294, 3295, 3296, 3297, 3298, 3299, 3301, 3302, 3303, 3304, 3305, 3306, 3307, 3308, 3309, 3310, 3311, 3312, 3313, 3314, 3315, 3316, 3317, 3318, 3319, 3320, 3321, 3322, 3323, 3324, 3325, 3326, 3327, 3328, 3329, 3330, 3331, 3332, 3333, 3334, 3335, 3336, 3337, 3338, 3339, 3340, 3341, 3342, 3343, 3344, 3345, 3346, 3347, 3348, 3349, 3350, 3351, 3352, 3353, 3354, 3355, 3356, 3357, 3358, 3359, 3364, 3365, 3366, 3367, 3368, 3369, 3370, 3371, 3372, 3373, 3374, 3375, 3376, 3377, 3378, 3379, 3381, 3382, 3383, 3384, 3385, 3386, 3387, 3388, 3389, 3390, 3391, 3392, 3393, 3394, 3395, 3396, 3397, 3398, 3399, 3400, 3401, 3402, 3403, 3404, 3405, 3406, 3407, 3408, 3409, 3410, 3411, 3412, 3413, 3414, 3415, 3416, 3417, 3418, 3419, 3420, 3421, 3422, 3423, 3424, 3425, 3426, 3427, 3428, 3429, 3430, 3431, 3432, 3433, 3434, 3435, 3436, 3437, 3438, 3439, 3440, 3441, 3442, 3446, 3447, 3448, 3449, 3450, 3451, 3452, 3453, 3454, 3455, 3456, 3457, 3458, 3459, 3461, 3462, 3463, 3464, 3465, 3466, 3467, 3468, 3469, 3470, 3471, 3472, 3473, 3474, 3475, 3476, 3477, 3478, 3479, 3480, 3481, 3482, 3483, 3484, 3485, 3486, 3487, 3488, 3489, 3490, 3491, 3492, 3493, 3494, 3495, 3496, 3497, 3498, 3499, 3500, 3501, 3502, 3503, 3504, 3505, 3506, 3507, 3508, 3509, 3510, 3511, 3512, 3513, 3514, 3515, 3516, 3517, 3518, 3519, 3520, 3521, 3522, 3523, 3524, 3527, 3528, 3529, 3530, 3531, 3532, 3533, 3534, 3535, 3536, 3537, 3538, 3539, 3541, 3542, 3543, 3544, 3545, 3546, 3547, 3548, 3549, 3550, 3551, 3552, 3553, 3554, 3555, 3556, 3557, 3558, 3559, 3560, 3561, 3562, 3563, 3564, 3565, 3566, 3567, 3568, 3569, 3570, 3571, 3572, 3573, 3574, 3575, 3576, 3577, 3578, 3579, 3580, 3581, 3582, 3583, 3584, 3585, 3586, 3587, 3588, 3589, 3590, 3591, 3592, 3593, 3594, 3595, 3596, 3597, 3598, 3599, 3600, 3601, 3602, 3603, 3604, 3605, 3606, 3609, 3610, 3611, 3612, 3613, 3614, 3615, 3616, 3617, 3618, 3619, 3621, 3622, 3623, 3624, 3625, 3626, 3627, 3628, 3629, 3630, 3631, 3632, 3633, 3634, 3635, 3636, 3637, 3638, 3639, 3640, 3641, 3642, 3643, 3644, 3645, 3646, 3647, 3648, 3649, 3650, 3651, 3652, 3653, 3654, 3655, 3656, 3657, 3658, 3659, 3660, 3661, 3662, 3663, 3664, 3665, 3666, 3667, 3668, 3669, 3670, 3671, 3672, 3673, 3674, 3675, 3676, 3677, 3678, 3679, 3680, 3681, 3682, 3683, 3684, 3685, 3686, 3687, 3688, 3689, 3691, 3692, 3693, 3694, 3695, 3696, 3697, 3698, 3699, 3701, 3702, 3703, 3704, 3705, 3706, 3707, 3708, 3709, 3710, 3711, 3712, 3713, 3714, 3715, 3716, 3717, 3718, 3719, 3720, 3721, 3722, 3723, 3724, 3725, 3726, 3727, 3728, 3729, 3730, 3731, 3732, 3733, 3734, 3735, 3736, 3737, 3738, 3739, 3740, 3741, 3742, 3743, 3744, 3745, 3746, 3747, 3748, 3749, 3750, 3751, 3752, 3753, 3754, 3755, 3756, 3757, 3758, 3759, 3760, 3761, 3762, 3763, 3764, 3765, 3766, 3767, 3768, 3769, 3770, 3771, 3773, 3774, 3775, 3776, 3777, 3778, 3779, 3781, 3782, 3783, 3784, 3785, 3786, 3787, 3788, 3789, 3790, 3791, 3792, 3793, 3794, 3795, 3796, 3797, 3798, 3799, 3800, 3801, 3802, 3803, 3804, 3805, 3806, 3807, 3808, 3809, 3810, 3811, 3812, 3813, 3814, 3815, 3816, 3817, 3818, 3819, 3820, 3821, 3822, 3823, 3824, 3825, 3826, 3827, 3828, 3829, 3830, 3831, 3832, 3833, 3834, 3835, 3836, 3837, 3838, 3839, 3840, 3841, 3842, 3843, 3844, 3845, 3846, 3847, 3848, 3849, 3850, 3851, 3852, 3853, 3855, 3856, 3857, 3858, 3859, 3861, 3862, 3863, 3864, 3865, 3866, 3867, 3868, 3869, 3870, 3871, 3872, 3873, 3874, 3875, 3876, 3877, 3878, 3879, 3880, 3881, 3882, 3883, 3884, 3885, 3886, 3887, 3888, 3889, 3890, 3891, 3892, 3893, 3894, 3895, 3896, 3897, 3898, 3899, 3900, 3901, 3902, 3903, 3904, 3905, 3906, 3907, 3908, 3909, 3910, 3911, 3912, 3913, 3914, 3915, 3916, 3917, 3918, 3919, 3920, 3921, 3922, 3923, 3924, 3925, 3926, 3927, 3928, 3929, 3930, 3931, 3932, 3933, 3934, 3935, 3937, 3938, 3939, 3941, 3942, 3943, 3944, 3945, 3946, 3947, 3948, 3949, 3950, 3951, 3952, 3953, 3954, 3955, 3956, 3957, 3958, 3959, 3960, 3961, 3962, 3963, 3964, 3965, 3966, 3967, 3968, 3969, 3970, 3971, 3972, 3973, 3974, 3975, 3976, 3977, 3978, 3979, 3980, 3981, 3982, 3983, 3984, 3985, 3986, 3987, 3988, 3989, 3990, 3991, 3992, 3993, 3994, 3995, 3996, 3997, 3998, 3999, 4000, 4001, 4002, 4003, 4004, 4005, 4006, 4007, 4008, 4009, 4010, 4011, 4012, 4013, 4014, 4015, 4016, 4017, 4021, 4022, 4023, 4024, 4025, 4026, 4027, 4028, 4029, 4030, 4031, 4032, 4033, 4034, 4035, 4036, 4037, 4038, 4039, 4040, 4041, 4042, 4043, 4044, 4045, 4046, 4047, 4048, 4049, 4050, 4051, 4052, 4053, 4054, 4055, 4056, 4057, 4058, 4059, 4060, 4061, 4062, 4063, 4064, 4065, 4066, 4067, 4068, 4069, 4070, 4071, 4072, 4073, 4074, 4075, 4076, 4077, 4078, 4079, 4080, 4081, 4082, 4083, 4084, 4085, 4086, 4087, 4088, 4089, 4090, 4091, 4092, 4093, 4094, 4095, 4096, 4097, 4098, 4102, 4103, 4104, 4105, 4106, 4107, 4108, 4109, 4110, 4111, 4112, 4113, 4114, 4115, 4116, 4117, 4118, 4119, 4120, 4121, 4122, 4123, 4124, 4125, 4126, 4127, 4128, 4129, 4130, 4131, 4132, 4133, 4134, 4135, 4136, 4137, 4138, 4139, 4140, 4141, 4142, 4143, 4144, 4145, 4146, 4147, 4148, 4149, 4150, 4151, 4152, 4153, 4154, 4155, 4156, 4157, 4158, 4159, 4160, 4161, 4162, 4163, 4164, 4165, 4166, 4167, 4168, 4169, 4170, 4171, 4172, 4173, 4174, 4175, 4176, 4177, 4178, 4179, 4184, 4185, 4186, 4187, 4188, 4189, 4190, 4191, 4192, 4193, 4194, 4195, 4196, 4197, 4198, 4199, 4200, 4201, 4202, 4203, 4204, 4205, 4206, 4207, 4208, 4209, 4210, 4211, 4212, 4213, 4214, 4215, 4216, 4217, 4218, 4219, 4220, 4221, 4222, 4223, 4224, 4225, 4226, 4227, 4228, 4229, 4230, 4231, 4232, 4233, 4234, 4235, 4236, 4237, 4238, 4239, 4240, 4241, 4242, 4243, 4244, 4245, 4246, 4247, 4248, 4249, 4250, 4251, 4252, 4253, 4254, 4255, 4256, 4257, 4258, 4259, 4261, 4262, 4267, 4268, 4269, 4270, 4271, 4272, 4273, 4274, 4275, 4276, 4277, 4278, 4279, 4280, 4281, 4282, 4283, 4284, 4285, 4286, 4287, 4288, 4289, 4290, 4291, 4292, 4293, 4294, 4295, 4296, 4297, 4298, 4299, 4300, 4301, 4302, 4303, 4304, 4305, 4306, 4307, 4308, 4309, 4310, 4311, 4312, 4313, 4314, 4315, 4316, 4317, 4318, 4319, 4320, 4321, 4322, 4323, 4324, 4325, 4326, 4327, 4328, 4329, 4330, 4331, 4332, 4333, 4334, 4335, 4336, 4337, 4338, 4339, 4341, 4342, 4343, 4344, 4349, 4350, 4351, 4352, 4353, 4354, 4355, 4356, 4357, 4358, 4359, 4360, 4361, 4362, 4363, 4364, 4365, 4366, 4367, 4368, 4369, 4370, 4371, 4372, 4373, 4374, 4375, 4376, 4377, 4378, 4379, 4380, 4381, 4382, 4383, 4384, 4385, 4386, 4387, 4388, 4389, 4390, 4391, 4392, 4393, 4394, 4395, 4396, 4397, 4398, 4399, 4400, 4401, 4402, 4403, 4404, 4405, 4406, 4407, 4408, 4409, 4410, 4411, 4412, 4413, 4414, 4415, 4416, 4417, 4418, 4419, 4421, 4422, 4423, 4424, 4425, 4426, 4432, 4433, 4434, 4435, 4436, 4437, 4438, 4439, 4440, 4441, 4442, 4443, 4444, 4445, 4446, 4447, 4448, 4449, 4450, 4451, 4452, 4453, 4454, 4455, 4456, 4457, 4458, 4459, 4460, 4461, 4462, 4463, 4464, 4465, 4466, 4467, 4468, 4469, 4470, 4471, 4472, 4473, 4474, 4475, 4476, 4477, 4478, 4479, 4480, 4481, 4482, 4483, 4484, 4485, 4486, 4487, 4488, 4489, 4490, 4491, 4492, 4493, 4494, 4495, 4496, 4497, 4498, 4499, 4501, 4502, 4503, 4504, 4505, 4506, 4507, 4514, 4515, 4516, 4517, 4518, 4519, 4520, 4521, 4522, 4523, 4524, 4525, 4526, 4527, 4528, 4529, 4530, 4531, 4532, 4533, 4534, 4535, 4536, 4537, 4538, 4539, 4540, 4541, 4542, 4543, 4544, 4545, 4546, 4547, 4548, 4549, 4550, 4551, 4552, 4553, 4554, 4555, 4556, 4557, 4558, 4559, 4560, 4561, 4562, 4563, 4564, 4565, 4566, 4567, 4568, 4569, 4570, 4571, 4572, 4573, 4574, 4575, 4576, 4577, 4578, 4579, 4581, 4582, 4583, 4584, 4585, 4586, 4587, 4588, 4589, 4596, 4597, 4598, 4599, 4600, 4601, 4602, 4603, 4604, 4605, 4606, 4607, 4608, 4609, 4610, 4611, 4612, 4613, 4614, 4615, 4616, 4617, 4618, 4619, 4620, 4621, 4622, 4623, 4624, 4625, 4626, 4627, 4628, 4629, 4630, 4631, 4632, 4633, 4634, 4635, 4636, 4637, 4638, 4639, 4640, 4641, 4642, 4643, 4644, 4645, 4646, 4647, 4648, 4649, 4650, 4651, 4652, 4653, 4654, 4655, 4656, 4657, 4658, 4659, 4661, 4662, 4663, 4664, 4665, 4666, 4667, 4668, 4669, 4670, 4671, 4679, 4680, 4681, 4682, 4683, 4684, 4685, 4686, 4687, 4688, 4689, 4690, 4691, 4692, 4693, 4694, 4695, 4696, 4697, 4698, 4699, 4700, 4701, 4702, 4703, 4704, 4705, 4706, 4707, 4708, 4709, 4710, 4711, 4712, 4713, 4714, 4715, 4716, 4717, 4718, 4719, 4720, 4721, 4722, 4723, 4724, 4725, 4726, 4727, 4728, 4729, 4730, 4731, 4732, 4733, 4734, 4735, 4736, 4737, 4738, 4739, 4741, 4742, 4743, 4744, 4745, 4746, 4747, 4748, 4749, 4750, 4751, 4752, 4761, 4762, 4763, 4764, 4765, 4766, 4767, 4768, 4769, 4770, 4771, 4772, 4773, 4774, 4775, 4776, 4777, 4778, 4779, 4780, 4781, 4782, 4783, 4784, 4785, 4786, 4787, 4788, 4789, 4790, 4791, 4792, 4793, 4794, 4795, 4796, 4797, 4798, 4799, 4800, 4801, 4802, 4803, 4804, 4805, 4806, 4807, 4808, 4809, 4810, 4811, 4812, 4813, 4814, 4815, 4816, 4817, 4818, 4819, 4821, 4822, 4823, 4824, 4825, 4826, 4827, 4828, 4829, 4830, 4831, 4832, 4833, 4834, 4844, 4845, 4846, 4847, 4848, 4849, 4850, 4851, 4852, 4853, 4854, 4855, 4856, 4857, 4858, 4859, 4860, 4861, 4862, 4863, 4864, 4865, 4866, 4867, 4868, 4869, 4870, 4871, 4872, 4873, 4874, 4875, 4876, 4877, 4878, 4879, 4880, 4881, 4882, 4883, 4884, 4885, 4886, 4887, 4888, 4889, 4890, 4891, 4892, 4893, 4894, 4895, 4896, 4897, 4898, 4899, 4901, 4902, 4903, 4904, 4905, 4906, 4907, 4908, 4909, 4910, 4911, 4912, 4913, 4914, 4915, 4916, 4926, 4927, 4928, 4929, 4930, 4931, 4932, 4933, 4934, 4935, 4936, 4937, 4938, 4939, 4940, 4941, 4942, 4943, 4944, 4945, 4946, 4947, 4948, 4949, 4950, 4951, 4952, 4953, 4954, 4955, 4956, 4957, 4958, 4959, 4960, 4961, 4962, 4963, 4964, 4965, 4966, 4967, 4968, 4969, 4970, 4971, 4972, 4973, 4974, 4975, 4976, 4977, 4978, 4979, 4981, 4982, 4983, 4984, 4985, 4986, 4987, 4988, 4989, 4990, 4991, 4992, 4993, 4994, 4995, 4996, 4997, 4998, 5008, 5009, 5010, 5011, 5012, 5013, 5014, 5015, 5016, 5017, 5018, 5019, 5020, 5021, 5022, 5023, 5024, 5025, 5026, 5027, 5028, 5029, 5030, 5031, 5032, 5033, 5034, 5035, 5036, 5037, 5038, 5039, 5040, 5041, 5042, 5043, 5044, 5045, 5046, 5047, 5048, 5049, 5050, 5051, 5052, 5053, 5054, 5055, 5056, 5057, 5058, 5059, 5061, 5062, 5063, 5064, 5065, 5066, 5067, 5068, 5069, 5070, 5071, 5072, 5073, 5074, 5075, 5076, 5077, 5078, 5079, 5091, 5092, 5093, 5094, 5095, 5096, 5097, 5098, 5099, 5100, 5101, 5102, 5103, 5104, 5105, 5106, 5107, 5108, 5109, 5110, 5111, 5112, 5113, 5114, 5115, 5116, 5117, 5118, 5119, 5120, 5121, 5122, 5123, 5124, 5125, 5126, 5127, 5128, 5129, 5130, 5131, 5132, 5133, 5134, 5135, 5136, 5137, 5138, 5139, 5141, 5142, 5143, 5144, 5145, 5146, 5147, 5148, 5149, 5150, 5151, 5152, 5153, 5154, 5155, 5156, 5157, 5158, 5159, 5160, 5161, 5173, 5174, 5175, 5176, 5177, 5178, 5179, 5180, 5181, 5182, 5183, 5184, 5185, 5186, 5187, 5188, 5189, 5190, 5191, 5192, 5193, 5194, 5195, 5196, 5197, 5198, 5199, 5200, 5201, 5202, 5203, 5204, 5205, 5206, 5207, 5208, 5209, 5210, 5211, 5212, 5213, 5214, 5215, 5216, 5217, 5218, 5219, 5221, 5222, 5223, 5224, 5225, 5226, 5227, 5228, 5229, 5230, 5231, 5232, 5233, 5234, 5235, 5236, 5237, 5238, 5239, 5240, 5241, 5242, 5243, 5256, 5257, 5258, 5259, 5260, 5261, 5262, 5263, 5264, 5265, 5266, 5267, 5268, 5269, 5270, 5271, 5272, 5273, 5274, 5275, 5276, 5277, 5278, 5279, 5280, 5281, 5282, 5283, 5284, 5285, 5286, 5287, 5288, 5289, 5290, 5291, 5292, 5293, 5294, 5295, 5296, 5297, 5298, 5299, 5301, 5302, 5303, 5304, 5305, 5306, 5307, 5308, 5309, 5310, 5311, 5312, 5313, 5314, 5315, 5316, 5317, 5318, 5319, 5320, 5321, 5322, 5323, 5324, 5325, 5338, 5339, 5340, 5341, 5342, 5343, 5344, 5345, 5346, 5347, 5348, 5349, 5350, 5351, 5352, 5353, 5354, 5355, 5356, 5357, 5358, 5359, 5360, 5361, 5362, 5363, 5364, 5365, 5366, 5367, 5368, 5369, 5370, 5371, 5372, 5373, 5374, 5375, 5376, 5377, 5378, 5379, 5381, 5382, 5383, 5384, 5385, 5386, 5387, 5388, 5389, 5390, 5391, 5392, 5393, 5394, 5395, 5396, 5397, 5398, 5399, 5400, 5401, 5402, 5403, 5404, 5405, 5406, 5421, 5422, 5423, 5424, 5425, 5426, 5427, 5428, 5429, 5430, 5431, 5432, 5433, 5434, 5435, 5436, 5437, 5438, 5439, 5440, 5441, 5442, 5443, 5444, 5445, 5446, 5447, 5448, 5449, 5450, 5451, 5452, 5453, 5454, 5455, 5456, 5457, 5458, 5459, 5461, 5462, 5463, 5464, 5465, 5466, 5467, 5468, 5469, 5470, 5471, 5472, 5473, 5474, 5475, 5476, 5477, 5478, 5479, 5480, 5481, 5482, 5483, 5484, 5485, 5486, 5487, 5488, 5503, 5504, 5505, 5506, 5507, 5508, 5509, 5510, 5511, 5512, 5513, 5514, 5515, 5516, 5517, 5518, 5519, 5520, 5521, 5522, 5523, 5524, 5525, 5526, 5527, 5528, 5529, 5530, 5531, 5532, 5533, 5534, 5535, 5536, 5537, 5538, 5539, 5541, 5542, 5543, 5544, 5545, 5546, 5547, 5548, 5549, 5550, 5551, 5552, 5553, 5554, 5555, 5556, 5557, 5558, 5559, 5560, 5561, 5562, 5563, 5564, 5565, 5566, 5567, 5568, 5569, 5570, 5585, 5586, 5587, 5588, 5589, 5590, 5591, 5592, 5593, 5594, 5595, 5596, 5597, 5598, 5599, 5600, 5601, 5602, 5603, 5604, 5605, 5606, 5607, 5608, 5609, 5610, 5611, 5612, 5613, 5614, 5615, 5616, 5617, 5618, 5619, 5621, 5622, 5623, 5624, 5625, 5626, 5627, 5628, 5629, 5630, 5631, 5632, 5633, 5634, 5635, 5636, 5637, 5638, 5639, 5640, 5641, 5642, 5643, 5644, 5645, 5646, 5647, 5648, 5649, 5650, 5651, 5652, 5668, 5669, 5670, 5671, 5672, 5673, 5674, 5675, 5676, 5677, 5678, 5679, 5680, 5681, 5682, 5683, 5684, 5685, 5686, 5687, 5688, 5689, 5690, 5691, 5692, 5693, 5694, 5695, 5696, 5697, 5698, 5699, 5701, 5702, 5703, 5704, 5705, 5706, 5707, 5708, 5709, 5710, 5711, 5712, 5713, 5714, 5715, 5716, 5717, 5718, 5719, 5720, 5721, 5722, 5723, 5724, 5725, 5726, 5727, 5728, 5729, 5730, 5731, 5732, 5733, 5750, 5751, 5752, 5753, 5754, 5755, 5756, 5757, 5758, 5759, 5760, 5761, 5762, 5763, 5764, 5765, 5766, 5767, 5768, 5769, 5770, 5771, 5772, 5773, 5774, 5775, 5776, 5777, 5778, 5779, 5781, 5782, 5783, 5784, 5785, 5786, 5787, 5788, 5789, 5790, 5791, 5792, 5793, 5794, 5795, 5796, 5797, 5798, 5799, 5800, 5801, 5802, 5803, 5804, 5805, 5806, 5807, 5808, 5809, 5810, 5811, 5812, 5813, 5814, 5815, 5832, 5833, 5834, 5835, 5836, 5837, 5838, 5839, 5840, 5841, 5842, 5843, 5844, 5845, 5846, 5847, 5848, 5849, 5850, 5851, 5852, 5853, 5854, 5855, 5856, 5857, 5858, 5859, 5861, 5862, 5863, 5864, 5865, 5866, 5867, 5868, 5869, 5870, 5871, 5872, 5873, 5874, 5875, 5876, 5877, 5878, 5879, 5880, 5881, 5882, 5883, 5884, 5885, 5886, 5887, 5888, 5889, 5890, 5891, 5892, 5893, 5894, 5895, 5896, 5897, 5913, 5914, 5915, 5916, 5917, 5918, 5919, 5920, 5921, 5922, 5923, 5924, 5925, 5926, 5927, 5928, 5929, 5930, 5931, 5932, 5933, 5934, 5935, 5936, 5937, 5938, 5939, 5941, 5942, 5943, 5944, 5945, 5946, 5947, 5948, 5949, 5950, 5951, 5952, 5953, 5954, 5955, 5956, 5957, 5958, 5959, 5960, 5961, 5962, 5963, 5964, 5965, 5966, 5967, 5968, 5969, 5970, 5971, 5972, 5973, 5974, 5975, 5976, 5977, 5978, 5994, 5995, 5996, 5997, 5998, 5999, 6000, 6001, 6002, 6003, 6004, 6005, 6006, 6007, 6008, 6009, 6010, 6011, 6012, 6013, 6014, 6015, 6016, 6017, 6018, 6019, 6021, 6022, 6023, 6024, 6025, 6026, 6027, 6028, 6029, 6030, 6031, 6032, 6033, 6034, 6035, 6036, 6037, 6038, 6039, 6040, 6041, 6042, 6043, 6044, 6045, 6046, 6047, 6048, 6049, 6050, 6051, 6052, 6053, 6054, 6055, 6056, 6057, 6058, 6059, 6060, 6075, 6076, 6077, 6078, 6079, 6080, 6081, 6082, 6083, 6084, 6085, 6086, 6087, 6088, 6089, 6090, 6091, 6092, 6093, 6094, 6095, 6096, 6097, 6098, 6099, 6101, 6102, 6103, 6104, 6105, 6106, 6107, 6108, 6109, 6110, 6111, 6112, 6113, 6114, 6115, 6116, 6117, 6118, 6119, 6120, 6121, 6122, 6123, 6124, 6125, 6126, 6127, 6128, 6129, 6130, 6131, 6132, 6133, 6134, 6135, 6136, 6137, 6138, 6139, 6140, 6141, 6142, 6156, 6157, 6158, 6159, 6160, 6161, 6162, 6163, 6164, 6165, 6166, 6167, 6168, 6169, 6170, 6171, 6172, 6173, 6174, 6175, 6176, 6177, 6178, 6179, 6181, 6182, 6183, 6184, 6185, 6186, 6187, 6188, 6189, 6190, 6191, 6192, 6193, 6194, 6195, 6196, 6197, 6198, 6199, 6200, 6201, 6202, 6203, 6204, 6205, 6206, 6207, 6208, 6209, 6210, 6211, 6212, 6213, 6214, 6215, 6216, 6217, 6218, 6219, 6220, 6221, 6222, 6223, 6224, 6237, 6238, 6239, 6240, 6241, 6242, 6243, 6244, 6245, 6246, 6247, 6248, 6249, 6250, 6251, 6252, 6253, 6254, 6255, 6256, 6257, 6258, 6259, 6261, 6262, 6263, 6264, 6265, 6266, 6267, 6268, 6269, 6270, 6271, 6272, 6273, 6274, 6275, 6276, 6277, 6278, 6279, 6280, 6281, 6282, 6283, 6284, 6285, 6286, 6287, 6288, 6289, 6290, 6291, 6292, 6293, 6294, 6295, 6296, 6297, 6298, 6299, 6300, 6301, 6302, 6303, 6304, 6305, 6318, 6319, 6320, 6321, 6322, 6323, 6324, 6325, 6326, 6327, 6328, 6329, 6330, 6331, 6332, 6333, 6334, 6335, 6336, 6337, 6338, 6339, 6341, 6342, 6343, 6344, 6345, 6346, 6347, 6348, 6349, 6350, 6351, 6352, 6353, 6354, 6355, 6356, 6357, 6358, 6359, 6360, 6361, 6362, 6363, 6364, 6365, 6366, 6367, 6368, 6369, 6370, 6371, 6372, 6373, 6374, 6375, 6376, 6377, 6378, 6379, 6380, 6381, 6382, 6383, 6384, 6385, 6386, 6387, 6399, 6400, 6401, 6402, 6403, 6404, 6405, 6406, 6407, 6408, 6409, 6410, 6411, 6412, 6413, 6414, 6415, 6416, 6417, 6418, 6419, 6421, 6422, 6423, 6424, 6425, 6426, 6427, 6428, 6429, 6430, 6431, 6432, 6433, 6434, 6435, 6436, 6437, 6438, 6439, 6440, 6441, 6442, 6443, 6444, 6445, 6446, 6447, 6448, 6449, 6450, 6451, 6452, 6453, 6454, 6455, 6456, 6457, 6458, 6459, 6460, 6461, 6462, 6463, 6464, 6465, 6466, 6467, 6468, 6469, 6480, 6481, 6482, 6483, 6484, 6485, 6486, 6487, 6488, 6489, 6490, 6491, 6492, 6493, 6494, 6495, 6496, 6497, 6498, 6499, 6501, 6502, 6503, 6504, 6505, 6506, 6507, 6508, 6509, 6510, 6511, 6512, 6513, 6514, 6515, 6516, 6517, 6518, 6519, 6520, 6521, 6522, 6523, 6524, 6525, 6526, 6527, 6528, 6529, 6530, 6531, 6532, 6533, 6534, 6535, 6536, 6537, 6538, 6539, 6540, 6541, 6542, 6543, 6544, 6545, 6546, 6547, 6548, 6549, 6550, 6551]\n",
      "val ids:  []\n",
      "test ids:  [0, 1, 2, 3, 4, 5, 6, 7, 8, 9, 10, 11, 12, 40, 81, 82, 83, 84, 85, 86, 87, 88, 89, 90, 91, 92, 93, 94, 120, 162, 163, 164, 165, 166, 167, 168, 169, 170, 171, 172, 173, 174, 175, 200, 243, 244, 245, 246, 247, 248, 249, 250, 251, 252, 253, 254, 255, 256, 257, 280, 324, 325, 326, 327, 328, 329, 330, 331, 332, 333, 334, 335, 336, 337, 338, 339, 360, 405, 406, 407, 408, 409, 410, 411, 412, 413, 414, 415, 416, 417, 418, 419, 420, 421, 440, 486, 487, 488, 489, 490, 491, 492, 493, 494, 495, 496, 497, 498, 499, 500, 501, 502, 520, 567, 568, 569, 570, 571, 572, 573, 574, 575, 576, 577, 578, 579, 580, 581, 582, 583, 584, 600, 648, 649, 650, 651, 652, 653, 654, 655, 656, 657, 658, 659, 660, 661, 662, 663, 664, 665, 666, 680, 729, 730, 731, 732, 733, 734, 735, 736, 737, 738, 739, 740, 741, 742, 743, 744, 745, 746, 747, 748, 760, 810, 811, 812, 813, 814, 815, 816, 817, 818, 819, 820, 821, 822, 823, 824, 825, 826, 827, 828, 829, 840, 891, 892, 893, 894, 895, 896, 897, 898, 899, 900, 901, 902, 903, 904, 905, 906, 907, 908, 909, 910, 911, 920, 972, 973, 974, 975, 976, 977, 978, 979, 980, 981, 982, 983, 984, 985, 986, 987, 988, 989, 990, 991, 992, 993, 1000, 1053, 1054, 1055, 1056, 1057, 1058, 1059, 1060, 1061, 1062, 1063, 1064, 1065, 1066, 1067, 1068, 1069, 1070, 1071, 1072, 1073, 1074, 1075, 1080, 1135, 1136, 1137, 1138, 1139, 1140, 1141, 1142, 1143, 1144, 1145, 1146, 1147, 1148, 1149, 1150, 1151, 1152, 1153, 1154, 1155, 1156, 1160, 1217, 1218, 1219, 1220, 1221, 1222, 1223, 1224, 1225, 1226, 1227, 1228, 1229, 1230, 1231, 1232, 1233, 1234, 1235, 1236, 1237, 1238, 1240, 1300, 1301, 1302, 1303, 1304, 1305, 1306, 1307, 1308, 1309, 1310, 1311, 1312, 1313, 1314, 1315, 1316, 1317, 1318, 1319, 1320, 1382, 1383, 1384, 1385, 1386, 1387, 1388, 1389, 1390, 1391, 1392, 1393, 1394, 1395, 1396, 1397, 1398, 1399, 1400, 1401, 1465, 1466, 1467, 1468, 1469, 1470, 1471, 1472, 1473, 1474, 1475, 1476, 1477, 1478, 1479, 1480, 1481, 1482, 1483, 1547, 1548, 1549, 1550, 1551, 1552, 1553, 1554, 1555, 1556, 1557, 1558, 1559, 1560, 1561, 1562, 1563, 1564, 1565, 1629, 1630, 1631, 1632, 1633, 1634, 1635, 1636, 1637, 1638, 1639, 1640, 1641, 1642, 1643, 1644, 1645, 1646, 1647, 1700, 1712, 1713, 1714, 1715, 1716, 1717, 1718, 1719, 1720, 1721, 1722, 1723, 1724, 1725, 1726, 1727, 1728, 1780, 1794, 1795, 1796, 1797, 1798, 1799, 1800, 1801, 1802, 1803, 1804, 1805, 1806, 1807, 1808, 1809, 1810, 1860, 1877, 1878, 1879, 1880, 1881, 1882, 1883, 1884, 1885, 1886, 1887, 1888, 1889, 1890, 1891, 1892, 1940, 1959, 1960, 1961, 1962, 1963, 1964, 1965, 1966, 1967, 1968, 1969, 1970, 1971, 1972, 1973, 1974, 2020, 2040, 2041, 2042, 2043, 2044, 2045, 2046, 2047, 2048, 2049, 2050, 2051, 2052, 2053, 2054, 2055, 2100, 2120, 2124, 2125, 2126, 2127, 2128, 2129, 2130, 2131, 2132, 2133, 2134, 2135, 2136, 2137, 2180, 2200, 2206, 2207, 2208, 2209, 2210, 2211, 2212, 2213, 2214, 2215, 2216, 2217, 2218, 2219, 2260, 2280, 2289, 2290, 2291, 2292, 2293, 2294, 2295, 2296, 2297, 2298, 2299, 2300, 2340, 2360, 2371, 2372, 2373, 2374, 2375, 2376, 2377, 2378, 2379, 2380, 2381, 2382, 2420, 2440, 2454, 2455, 2456, 2457, 2458, 2459, 2460, 2461, 2462, 2463, 2464, 2500, 2520, 2536, 2537, 2538, 2539, 2540, 2541, 2542, 2543, 2544, 2545, 2546, 2580, 2600, 2618, 2619, 2620, 2621, 2622, 2623, 2624, 2625, 2626, 2627, 2660, 2680, 2701, 2702, 2703, 2704, 2705, 2706, 2707, 2708, 2709, 2740, 2760, 2783, 2784, 2785, 2786, 2787, 2788, 2789, 2790, 2791, 2820, 2840, 2866, 2867, 2868, 2869, 2870, 2871, 2872, 2873, 2900, 2920, 2948, 2949, 2950, 2951, 2952, 2953, 2954, 2980, 3000, 3030, 3031, 3032, 3033, 3034, 3035, 3036, 3060, 3080, 3113, 3114, 3115, 3116, 3117, 3118, 3140, 3160, 3195, 3196, 3197, 3198, 3199, 3200, 3220, 3240, 3278, 3279, 3280, 3281, 3300, 3360, 3361, 3362, 3363, 3380, 3443, 3444, 3445, 3460, 3525, 3526, 3540, 3607, 3608, 3620, 3690, 3700, 3772, 3780, 3854, 3860, 3936, 3940, 4018, 4019, 4020, 4099, 4100, 4101, 4180, 4181, 4182, 4183, 4260, 4263, 4264, 4265, 4266, 4340, 4345, 4346, 4347, 4348, 4420, 4427, 4428, 4429, 4430, 4431, 4500, 4508, 4509, 4510, 4511, 4512, 4513, 4580, 4590, 4591, 4592, 4593, 4594, 4595, 4660, 4672, 4673, 4674, 4675, 4676, 4677, 4678, 4740, 4753, 4754, 4755, 4756, 4757, 4758, 4759, 4760, 4820, 4835, 4836, 4837, 4838, 4839, 4840, 4841, 4842, 4843, 4900, 4917, 4918, 4919, 4920, 4921, 4922, 4923, 4924, 4925, 4980, 4999, 5000, 5001, 5002, 5003, 5004, 5005, 5006, 5007, 5060, 5080, 5081, 5082, 5083, 5084, 5085, 5086, 5087, 5088, 5089, 5090, 5140, 5162, 5163, 5164, 5165, 5166, 5167, 5168, 5169, 5170, 5171, 5172, 5220, 5244, 5245, 5246, 5247, 5248, 5249, 5250, 5251, 5252, 5253, 5254, 5255, 5300, 5326, 5327, 5328, 5329, 5330, 5331, 5332, 5333, 5334, 5335, 5336, 5337, 5380, 5407, 5408, 5409, 5410, 5411, 5412, 5413, 5414, 5415, 5416, 5417, 5418, 5419, 5420, 5460, 5489, 5490, 5491, 5492, 5493, 5494, 5495, 5496, 5497, 5498, 5499, 5500, 5501, 5502, 5540, 5571, 5572, 5573, 5574, 5575, 5576, 5577, 5578, 5579, 5580, 5581, 5582, 5583, 5584, 5620, 5653, 5654, 5655, 5656, 5657, 5658, 5659, 5660, 5661, 5662, 5663, 5664, 5665, 5666, 5667, 5700, 5734, 5735, 5736, 5737, 5738, 5739, 5740, 5741, 5742, 5743, 5744, 5745, 5746, 5747, 5748, 5749, 5780, 5816, 5817, 5818, 5819, 5820, 5821, 5822, 5823, 5824, 5825, 5826, 5827, 5828, 5829, 5830, 5831, 5860, 5898, 5899, 5900, 5901, 5902, 5903, 5904, 5905, 5906, 5907, 5908, 5909, 5910, 5911, 5912, 5940, 5979, 5980, 5981, 5982, 5983, 5984, 5985, 5986, 5987, 5988, 5989, 5990, 5991, 5992, 5993, 6020, 6061, 6062, 6063, 6064, 6065, 6066, 6067, 6068, 6069, 6070, 6071, 6072, 6073, 6074, 6100, 6143, 6144, 6145, 6146, 6147, 6148, 6149, 6150, 6151, 6152, 6153, 6154, 6155, 6180, 6225, 6226, 6227, 6228, 6229, 6230, 6231, 6232, 6233, 6234, 6235, 6236, 6260, 6306, 6307, 6308, 6309, 6310, 6311, 6312, 6313, 6314, 6315, 6316, 6317, 6340, 6388, 6389, 6390, 6391, 6392, 6393, 6394, 6395, 6396, 6397, 6398, 6420, 6470, 6471, 6472, 6473, 6474, 6475, 6476, 6477, 6478, 6479, 6500, 6552, 6553, 6554, 6555, 6556, 6557, 6558, 6559, 6560]\n",
      "CPU times: user 179 ms, sys: 16.4 ms, total: 196 ms\n",
      "Wall time: 195 ms\n"
     ]
    }
   ],
   "source": [
    "%%time\n",
    "n_total = len(simulation.dataframe)\n",
    "n_train = len(simulation.dataframe[simulation.dataframe.type_of == \"train\"])\n",
    "n_val = len(simulation.dataframe[simulation.dataframe.type_of == \"val\"])\n",
    "n_test = len(simulation.dataframe[simulation.dataframe.type_of == \"test\"])\n",
    "n_train_hamiltonians = len(simulation.train_ids)\n",
    "n_val_hamiltonians = len(simulation.val_ids)\n",
    "n_test_hamiltonians = len(simulation.test_ids)\n",
    "n_total_hamiltonians = n_train_hamiltonians + n_val_hamiltonians + n_test_hamiltonians\n",
    "\n",
    "print(\"% train: \", n_train/n_total)\n",
    "print(\"% val: \",  n_val/n_total)\n",
    "print(\"% test: \", n_test/n_total)\n",
    "print(\"% train + val + test: \", (n_train+n_val+n_test)/n_total)\n",
    "print(\"\\n\")\n",
    "print(\"number of train hamiltonians: \", n_train_hamiltonians)\n",
    "print(\"number of val hamiltonians: \", n_val_hamiltonians)\n",
    "print(\"number of test hamiltonians: \", n_test_hamiltonians)\n",
    "print(\"total number of hamiltonians: \", n_total_hamiltonians)\n",
    "print(\"\\n\")\n",
    "print(\"train ids: \", simulation.train_ids)\n",
    "print(\"val ids: \", simulation.val_ids)\n",
    "print(\"test ids: \", simulation.test_ids)"
   ]
  },
  {
   "cell_type": "markdown",
   "metadata": {
    "papermill": {
     "duration": 0.017952,
     "end_time": "2020-07-09T20:33:24.032057",
     "exception": false,
     "start_time": "2020-07-09T20:33:24.014105",
     "status": "completed"
    },
    "tags": []
   },
   "source": [
    "## Running a simulation"
   ]
  },
  {
   "cell_type": "code",
   "execution_count": 23,
   "metadata": {
    "execution": {
     "iopub.execute_input": "2020-07-09T20:33:24.070236Z",
     "iopub.status.busy": "2020-07-09T20:33:24.069904Z",
     "iopub.status.idle": "2020-07-09T21:37:54.518093Z",
     "shell.execute_reply": "2020-07-09T21:37:54.518404Z"
    },
    "papermill": {
     "duration": 3870.468371,
     "end_time": "2020-07-09T21:37:54.518468",
     "exception": false,
     "start_time": "2020-07-09T20:33:24.050097",
     "status": "completed"
    },
    "tags": []
   },
   "outputs": [
    {
     "name": "stderr",
     "output_type": "stream",
     "text": [
      "\r",
      "running experiments:   0%|          | 0/100 [00:00<?, ?it/s]"
     ]
    },
    {
     "name": "stderr",
     "output_type": "stream",
     "text": [
      "\r",
      "running experiments:   1%|          | 1/100 [00:39<1:05:11, 39.51s/it]"
     ]
    },
    {
     "name": "stderr",
     "output_type": "stream",
     "text": [
      "\r",
      "running experiments:   2%|▏         | 2/100 [01:16<1:03:19, 38.77s/it]"
     ]
    },
    {
     "name": "stderr",
     "output_type": "stream",
     "text": [
      "\r",
      "running experiments:   3%|▎         | 3/100 [01:57<1:03:34, 39.33s/it]"
     ]
    },
    {
     "name": "stderr",
     "output_type": "stream",
     "text": [
      "\r",
      "running experiments:   4%|▍         | 4/100 [02:36<1:02:55, 39.33s/it]"
     ]
    },
    {
     "name": "stderr",
     "output_type": "stream",
     "text": [
      "\r",
      "running experiments:   5%|▌         | 5/100 [03:15<1:02:02, 39.18s/it]"
     ]
    },
    {
     "name": "stderr",
     "output_type": "stream",
     "text": [
      "\r",
      "running experiments:   6%|▌         | 6/100 [03:52<1:00:36, 38.69s/it]"
     ]
    },
    {
     "name": "stderr",
     "output_type": "stream",
     "text": [
      "\r",
      "running experiments:   7%|▋         | 7/100 [04:31<1:00:04, 38.76s/it]"
     ]
    },
    {
     "name": "stderr",
     "output_type": "stream",
     "text": [
      "\r",
      "running experiments:   8%|▊         | 8/100 [05:11<1:00:01, 39.14s/it]"
     ]
    },
    {
     "name": "stderr",
     "output_type": "stream",
     "text": [
      "\r",
      "running experiments:   9%|▉         | 9/100 [05:50<59:19, 39.12s/it]  "
     ]
    },
    {
     "name": "stderr",
     "output_type": "stream",
     "text": [
      "\r",
      "running experiments:  10%|█         | 10/100 [06:29<58:27, 38.97s/it]"
     ]
    },
    {
     "name": "stderr",
     "output_type": "stream",
     "text": [
      "\r",
      "running experiments:  11%|█         | 11/100 [07:07<57:19, 38.64s/it]"
     ]
    },
    {
     "name": "stderr",
     "output_type": "stream",
     "text": [
      "\r",
      "running experiments:  12%|█▏        | 12/100 [07:47<57:14, 39.03s/it]"
     ]
    },
    {
     "name": "stderr",
     "output_type": "stream",
     "text": [
      "\r",
      "running experiments:  13%|█▎        | 13/100 [08:25<56:14, 38.79s/it]"
     ]
    },
    {
     "name": "stderr",
     "output_type": "stream",
     "text": [
      "\r",
      "running experiments:  14%|█▍        | 14/100 [09:06<56:20, 39.31s/it]"
     ]
    },
    {
     "name": "stderr",
     "output_type": "stream",
     "text": [
      "\r",
      "running experiments:  15%|█▌        | 15/100 [09:46<55:59, 39.52s/it]"
     ]
    },
    {
     "name": "stderr",
     "output_type": "stream",
     "text": [
      "\r",
      "running experiments:  16%|█▌        | 16/100 [10:25<55:10, 39.41s/it]"
     ]
    },
    {
     "name": "stderr",
     "output_type": "stream",
     "text": [
      "\r",
      "running experiments:  17%|█▋        | 17/100 [11:01<53:07, 38.40s/it]"
     ]
    },
    {
     "name": "stderr",
     "output_type": "stream",
     "text": [
      "\r",
      "running experiments:  18%|█▊        | 18/100 [11:39<52:22, 38.32s/it]"
     ]
    },
    {
     "name": "stderr",
     "output_type": "stream",
     "text": [
      "\r",
      "running experiments:  19%|█▉        | 19/100 [12:18<52:08, 38.62s/it]"
     ]
    },
    {
     "name": "stderr",
     "output_type": "stream",
     "text": [
      "\r",
      "running experiments:  20%|██        | 20/100 [12:57<51:21, 38.52s/it]"
     ]
    },
    {
     "name": "stderr",
     "output_type": "stream",
     "text": [
      "\r",
      "running experiments:  21%|██        | 21/100 [13:34<50:16, 38.19s/it]"
     ]
    },
    {
     "name": "stderr",
     "output_type": "stream",
     "text": [
      "\r",
      "running experiments:  22%|██▏       | 22/100 [14:14<50:11, 38.61s/it]"
     ]
    },
    {
     "name": "stderr",
     "output_type": "stream",
     "text": [
      "\r",
      "running experiments:  23%|██▎       | 23/100 [14:53<50:03, 39.01s/it]"
     ]
    },
    {
     "name": "stderr",
     "output_type": "stream",
     "text": [
      "\r",
      "running experiments:  24%|██▍       | 24/100 [15:32<49:22, 38.98s/it]"
     ]
    },
    {
     "name": "stderr",
     "output_type": "stream",
     "text": [
      "\r",
      "running experiments:  25%|██▌       | 25/100 [16:11<48:26, 38.75s/it]"
     ]
    },
    {
     "name": "stderr",
     "output_type": "stream",
     "text": [
      "\r",
      "running experiments:  26%|██▌       | 26/100 [16:48<47:25, 38.45s/it]"
     ]
    },
    {
     "name": "stderr",
     "output_type": "stream",
     "text": [
      "\r",
      "running experiments:  27%|██▋       | 27/100 [17:28<47:07, 38.73s/it]"
     ]
    },
    {
     "name": "stderr",
     "output_type": "stream",
     "text": [
      "\r",
      "running experiments:  28%|██▊       | 28/100 [18:06<46:18, 38.59s/it]"
     ]
    },
    {
     "name": "stderr",
     "output_type": "stream",
     "text": [
      "\r",
      "running experiments:  29%|██▉       | 29/100 [18:44<45:19, 38.31s/it]"
     ]
    },
    {
     "name": "stderr",
     "output_type": "stream",
     "text": [
      "\r",
      "running experiments:  30%|███       | 30/100 [19:22<44:37, 38.25s/it]"
     ]
    },
    {
     "name": "stderr",
     "output_type": "stream",
     "text": [
      "\r",
      "running experiments:  31%|███       | 31/100 [20:01<44:14, 38.47s/it]"
     ]
    },
    {
     "name": "stderr",
     "output_type": "stream",
     "text": [
      "\r",
      "running experiments:  32%|███▏      | 32/100 [20:38<43:10, 38.09s/it]"
     ]
    },
    {
     "name": "stderr",
     "output_type": "stream",
     "text": [
      "\r",
      "running experiments:  33%|███▎      | 33/100 [21:15<42:18, 37.89s/it]"
     ]
    },
    {
     "name": "stderr",
     "output_type": "stream",
     "text": [
      "\r",
      "running experiments:  34%|███▍      | 34/100 [21:54<41:54, 38.10s/it]"
     ]
    },
    {
     "name": "stderr",
     "output_type": "stream",
     "text": [
      "\r",
      "running experiments:  35%|███▌      | 35/100 [22:33<41:39, 38.45s/it]"
     ]
    },
    {
     "name": "stderr",
     "output_type": "stream",
     "text": [
      "\r",
      "running experiments:  36%|███▌      | 36/100 [23:13<41:17, 38.71s/it]"
     ]
    },
    {
     "name": "stderr",
     "output_type": "stream",
     "text": [
      "\r",
      "running experiments:  37%|███▋      | 37/100 [23:51<40:36, 38.68s/it]"
     ]
    },
    {
     "name": "stderr",
     "output_type": "stream",
     "text": [
      "\r",
      "running experiments:  38%|███▊      | 38/100 [24:30<39:55, 38.64s/it]"
     ]
    },
    {
     "name": "stderr",
     "output_type": "stream",
     "text": [
      "\r",
      "running experiments:  39%|███▉      | 39/100 [25:10<39:42, 39.06s/it]"
     ]
    },
    {
     "name": "stderr",
     "output_type": "stream",
     "text": [
      "\r",
      "running experiments:  40%|████      | 40/100 [25:51<39:37, 39.63s/it]"
     ]
    },
    {
     "name": "stderr",
     "output_type": "stream",
     "text": [
      "\r",
      "running experiments:  41%|████      | 41/100 [26:30<38:45, 39.42s/it]"
     ]
    },
    {
     "name": "stderr",
     "output_type": "stream",
     "text": [
      "\r",
      "running experiments:  42%|████▏     | 42/100 [27:09<38:04, 39.39s/it]"
     ]
    },
    {
     "name": "stderr",
     "output_type": "stream",
     "text": [
      "\r",
      "running experiments:  43%|████▎     | 43/100 [27:47<37:02, 38.99s/it]"
     ]
    },
    {
     "name": "stderr",
     "output_type": "stream",
     "text": [
      "\r",
      "running experiments:  44%|████▍     | 44/100 [28:25<36:02, 38.61s/it]"
     ]
    },
    {
     "name": "stderr",
     "output_type": "stream",
     "text": [
      "\r",
      "running experiments:  45%|████▌     | 45/100 [29:02<35:09, 38.35s/it]"
     ]
    },
    {
     "name": "stderr",
     "output_type": "stream",
     "text": [
      "\r",
      "running experiments:  46%|████▌     | 46/100 [29:41<34:32, 38.38s/it]"
     ]
    },
    {
     "name": "stderr",
     "output_type": "stream",
     "text": [
      "\r",
      "running experiments:  47%|████▋     | 47/100 [30:20<34:05, 38.59s/it]"
     ]
    },
    {
     "name": "stderr",
     "output_type": "stream",
     "text": [
      "\r",
      "running experiments:  48%|████▊     | 48/100 [31:01<33:58, 39.20s/it]"
     ]
    },
    {
     "name": "stderr",
     "output_type": "stream",
     "text": [
      "\r",
      "running experiments:  49%|████▉     | 49/100 [31:41<33:35, 39.51s/it]"
     ]
    },
    {
     "name": "stderr",
     "output_type": "stream",
     "text": [
      "\r",
      "running experiments:  50%|█████     | 50/100 [32:20<32:47, 39.35s/it]"
     ]
    },
    {
     "name": "stderr",
     "output_type": "stream",
     "text": [
      "\r",
      "running experiments:  51%|█████     | 51/100 [32:59<32:09, 39.38s/it]"
     ]
    },
    {
     "name": "stderr",
     "output_type": "stream",
     "text": [
      "\r",
      "running experiments:  52%|█████▏    | 52/100 [33:38<31:20, 39.18s/it]"
     ]
    },
    {
     "name": "stderr",
     "output_type": "stream",
     "text": [
      "\r",
      "running experiments:  53%|█████▎    | 53/100 [34:17<30:41, 39.17s/it]"
     ]
    },
    {
     "name": "stderr",
     "output_type": "stream",
     "text": [
      "\r",
      "running experiments:  54%|█████▍    | 54/100 [34:56<29:58, 39.09s/it]"
     ]
    },
    {
     "name": "stderr",
     "output_type": "stream",
     "text": [
      "\r",
      "running experiments:  55%|█████▌    | 55/100 [35:35<29:15, 39.01s/it]"
     ]
    },
    {
     "name": "stderr",
     "output_type": "stream",
     "text": [
      "\r",
      "running experiments:  56%|█████▌    | 56/100 [36:14<28:34, 38.97s/it]"
     ]
    },
    {
     "name": "stderr",
     "output_type": "stream",
     "text": [
      "\r",
      "running experiments:  57%|█████▋    | 57/100 [36:54<28:09, 39.30s/it]"
     ]
    },
    {
     "name": "stderr",
     "output_type": "stream",
     "text": [
      "\r",
      "running experiments:  58%|█████▊    | 58/100 [37:33<27:27, 39.23s/it]"
     ]
    },
    {
     "name": "stderr",
     "output_type": "stream",
     "text": [
      "\r",
      "running experiments:  59%|█████▉    | 59/100 [38:11<26:34, 38.89s/it]"
     ]
    },
    {
     "name": "stderr",
     "output_type": "stream",
     "text": [
      "\r",
      "running experiments:  60%|██████    | 60/100 [38:49<25:41, 38.54s/it]"
     ]
    },
    {
     "name": "stderr",
     "output_type": "stream",
     "text": [
      "\r",
      "running experiments:  61%|██████    | 61/100 [39:28<25:06, 38.62s/it]"
     ]
    },
    {
     "name": "stderr",
     "output_type": "stream",
     "text": [
      "\r",
      "running experiments:  62%|██████▏   | 62/100 [40:05<24:19, 38.40s/it]"
     ]
    },
    {
     "name": "stderr",
     "output_type": "stream",
     "text": [
      "\r",
      "running experiments:  63%|██████▎   | 63/100 [40:45<23:55, 38.80s/it]"
     ]
    },
    {
     "name": "stderr",
     "output_type": "stream",
     "text": [
      "\r",
      "running experiments:  64%|██████▍   | 64/100 [41:24<23:13, 38.72s/it]"
     ]
    },
    {
     "name": "stderr",
     "output_type": "stream",
     "text": [
      "\r",
      "running experiments:  65%|██████▌   | 65/100 [42:01<22:24, 38.41s/it]"
     ]
    },
    {
     "name": "stderr",
     "output_type": "stream",
     "text": [
      "\r",
      "running experiments:  66%|██████▌   | 66/100 [42:40<21:51, 38.57s/it]"
     ]
    },
    {
     "name": "stderr",
     "output_type": "stream",
     "text": [
      "\r",
      "running experiments:  67%|██████▋   | 67/100 [43:18<21:00, 38.19s/it]"
     ]
    },
    {
     "name": "stderr",
     "output_type": "stream",
     "text": [
      "\r",
      "running experiments:  68%|██████▊   | 68/100 [43:57<20:35, 38.62s/it]"
     ]
    },
    {
     "name": "stderr",
     "output_type": "stream",
     "text": [
      "\r",
      "running experiments:  69%|██████▉   | 69/100 [44:36<19:54, 38.53s/it]"
     ]
    },
    {
     "name": "stderr",
     "output_type": "stream",
     "text": [
      "\r",
      "running experiments:  70%|███████   | 70/100 [45:15<19:19, 38.65s/it]"
     ]
    },
    {
     "name": "stderr",
     "output_type": "stream",
     "text": [
      "\r",
      "running experiments:  71%|███████   | 71/100 [45:53<18:38, 38.56s/it]"
     ]
    },
    {
     "name": "stderr",
     "output_type": "stream",
     "text": [
      "\r",
      "running experiments:  72%|███████▏  | 72/100 [46:31<17:55, 38.42s/it]"
     ]
    },
    {
     "name": "stderr",
     "output_type": "stream",
     "text": [
      "\r",
      "running experiments:  73%|███████▎  | 73/100 [47:08<17:10, 38.15s/it]"
     ]
    },
    {
     "name": "stderr",
     "output_type": "stream",
     "text": [
      "\r",
      "running experiments:  74%|███████▍  | 74/100 [47:48<16:40, 38.50s/it]"
     ]
    },
    {
     "name": "stderr",
     "output_type": "stream",
     "text": [
      "\r",
      "running experiments:  75%|███████▌  | 75/100 [48:26<16:00, 38.41s/it]"
     ]
    },
    {
     "name": "stderr",
     "output_type": "stream",
     "text": [
      "\r",
      "running experiments:  76%|███████▌  | 76/100 [49:06<15:30, 38.75s/it]"
     ]
    },
    {
     "name": "stderr",
     "output_type": "stream",
     "text": [
      "\r",
      "running experiments:  77%|███████▋  | 77/100 [49:44<14:47, 38.60s/it]"
     ]
    },
    {
     "name": "stderr",
     "output_type": "stream",
     "text": [
      "\r",
      "running experiments:  78%|███████▊  | 78/100 [50:21<14:02, 38.30s/it]"
     ]
    },
    {
     "name": "stderr",
     "output_type": "stream",
     "text": [
      "\r",
      "running experiments:  79%|███████▉  | 79/100 [50:59<13:23, 38.24s/it]"
     ]
    },
    {
     "name": "stderr",
     "output_type": "stream",
     "text": [
      "\r",
      "running experiments:  80%|████████  | 80/100 [51:40<13:00, 39.01s/it]"
     ]
    },
    {
     "name": "stderr",
     "output_type": "stream",
     "text": [
      "\r",
      "running experiments:  81%|████████  | 81/100 [52:18<12:13, 38.62s/it]"
     ]
    },
    {
     "name": "stderr",
     "output_type": "stream",
     "text": [
      "\r",
      "running experiments:  82%|████████▏ | 82/100 [52:57<11:35, 38.66s/it]"
     ]
    },
    {
     "name": "stderr",
     "output_type": "stream",
     "text": [
      "\r",
      "running experiments:  83%|████████▎ | 83/100 [53:36<11:00, 38.87s/it]"
     ]
    },
    {
     "name": "stderr",
     "output_type": "stream",
     "text": [
      "\r",
      "running experiments:  84%|████████▍ | 84/100 [54:14<10:18, 38.64s/it]"
     ]
    },
    {
     "name": "stderr",
     "output_type": "stream",
     "text": [
      "\r",
      "running experiments:  85%|████████▌ | 85/100 [54:54<09:43, 38.91s/it]"
     ]
    },
    {
     "name": "stderr",
     "output_type": "stream",
     "text": [
      "\r",
      "running experiments:  86%|████████▌ | 86/100 [55:32<09:01, 38.70s/it]"
     ]
    },
    {
     "name": "stderr",
     "output_type": "stream",
     "text": [
      "\r",
      "running experiments:  87%|████████▋ | 87/100 [56:11<08:23, 38.70s/it]"
     ]
    },
    {
     "name": "stderr",
     "output_type": "stream",
     "text": [
      "\r",
      "running experiments:  88%|████████▊ | 88/100 [56:49<07:42, 38.52s/it]"
     ]
    },
    {
     "name": "stderr",
     "output_type": "stream",
     "text": [
      "\r",
      "running experiments:  89%|████████▉ | 89/100 [57:27<07:01, 38.34s/it]"
     ]
    },
    {
     "name": "stderr",
     "output_type": "stream",
     "text": [
      "\r",
      "running experiments:  90%|█████████ | 90/100 [58:05<06:21, 38.18s/it]"
     ]
    },
    {
     "name": "stderr",
     "output_type": "stream",
     "text": [
      "\r",
      "running experiments:  91%|█████████ | 91/100 [58:41<05:40, 37.80s/it]"
     ]
    },
    {
     "name": "stderr",
     "output_type": "stream",
     "text": [
      "\r",
      "running experiments:  92%|█████████▏| 92/100 [59:20<05:04, 38.08s/it]"
     ]
    },
    {
     "name": "stderr",
     "output_type": "stream",
     "text": [
      "\r",
      "running experiments:  93%|█████████▎| 93/100 [59:59<04:28, 38.32s/it]"
     ]
    },
    {
     "name": "stderr",
     "output_type": "stream",
     "text": [
      "\r",
      "running experiments:  94%|█████████▍| 94/100 [1:00:38<03:51, 38.62s/it]"
     ]
    },
    {
     "name": "stderr",
     "output_type": "stream",
     "text": [
      "\r",
      "running experiments:  95%|█████████▌| 95/100 [1:01:17<03:12, 38.50s/it]"
     ]
    },
    {
     "name": "stderr",
     "output_type": "stream",
     "text": [
      "\r",
      "running experiments:  96%|█████████▌| 96/100 [1:01:56<02:35, 38.77s/it]"
     ]
    },
    {
     "name": "stderr",
     "output_type": "stream",
     "text": [
      "\r",
      "running experiments:  97%|█████████▋| 97/100 [1:02:33<01:54, 38.31s/it]"
     ]
    },
    {
     "name": "stderr",
     "output_type": "stream",
     "text": [
      "\r",
      "running experiments:  98%|█████████▊| 98/100 [1:03:13<01:17, 38.62s/it]"
     ]
    },
    {
     "name": "stderr",
     "output_type": "stream",
     "text": [
      "\r",
      "running experiments:  99%|█████████▉| 99/100 [1:03:51<00:38, 38.71s/it]"
     ]
    },
    {
     "name": "stderr",
     "output_type": "stream",
     "text": [
      "\r",
      "running experiments: 100%|██████████| 100/100 [1:04:30<00:00, 38.62s/it]"
     ]
    },
    {
     "name": "stderr",
     "output_type": "stream",
     "text": [
      "\r",
      "running experiments: 100%|██████████| 100/100 [1:04:30<00:00, 38.70s/it]"
     ]
    },
    {
     "name": "stdout",
     "output_type": "stream",
     "text": [
      "CPU times: user 7h 13min 37s, sys: 14.9 s, total: 7h 13min 52s\n",
      "Wall time: 1h 4min 30s\n"
     ]
    },
    {
     "name": "stderr",
     "output_type": "stream",
     "text": [
      "\n"
     ]
    }
   ],
   "source": [
    "%%time\n",
    "simulation.run_simulation(n_experiments, start_n, fit_params,shuffle_rows, pred_params, random_features, \\\n",
    "                          store_in_lists, save_eigenvector, save_hamiltonian, save_accuracy,\\\n",
    "                          save_models)\n",
    "if simulation.fourier_mode is not None:\n",
    "    simulation.fourier_dataframe.head(10)"
   ]
  },
  {
   "cell_type": "code",
   "execution_count": 24,
   "metadata": {
    "execution": {
     "iopub.execute_input": "2020-07-09T21:37:54.592320Z",
     "iopub.status.busy": "2020-07-09T21:37:54.591972Z",
     "iopub.status.idle": "2020-07-09T21:37:54.616072Z",
     "shell.execute_reply": "2020-07-09T21:37:54.616378Z"
    },
    "papermill": {
     "duration": 0.061942,
     "end_time": "2020-07-09T21:37:54.616452",
     "exception": false,
     "start_time": "2020-07-09T21:37:54.554510",
     "status": "completed"
    },
    "tags": []
   },
   "outputs": [
    {
     "data": {
      "text/html": [
       "<div>\n",
       "<style scoped>\n",
       "    .dataframe tbody tr th:only-of-type {\n",
       "        vertical-align: middle;\n",
       "    }\n",
       "\n",
       "    .dataframe tbody tr th {\n",
       "        vertical-align: top;\n",
       "    }\n",
       "\n",
       "    .dataframe thead th {\n",
       "        text-align: right;\n",
       "    }\n",
       "</style>\n",
       "<table border=\"1\" class=\"dataframe\">\n",
       "  <thead>\n",
       "    <tr style=\"text-align: right;\">\n",
       "      <th></th>\n",
       "      <th>id</th>\n",
       "      <th>path</th>\n",
       "      <th>t1</th>\n",
       "      <th>t2</th>\n",
       "      <th>winding</th>\n",
       "      <th>phase</th>\n",
       "      <th>pred_phase</th>\n",
       "      <th>type_of</th>\n",
       "      <th>feat0</th>\n",
       "      <th>feat1</th>\n",
       "      <th>...</th>\n",
       "      <th>feat90</th>\n",
       "      <th>feat91</th>\n",
       "      <th>feat92</th>\n",
       "      <th>feat93</th>\n",
       "      <th>feat94</th>\n",
       "      <th>feat95</th>\n",
       "      <th>feat96</th>\n",
       "      <th>feat97</th>\n",
       "      <th>feat98</th>\n",
       "      <th>feat99</th>\n",
       "    </tr>\n",
       "  </thead>\n",
       "  <tbody>\n",
       "    <tr>\n",
       "      <th>0</th>\n",
       "      <td>0</td>\n",
       "      <td>H_-2_-2_0.501338.dat</td>\n",
       "      <td>-2.0</td>\n",
       "      <td>-2.0</td>\n",
       "      <td>0.501338</td>\n",
       "      <td>999</td>\n",
       "      <td>666</td>\n",
       "      <td>test</td>\n",
       "      <td>-0.130965</td>\n",
       "      <td>0.301130</td>\n",
       "      <td>...</td>\n",
       "      <td>-0.080279</td>\n",
       "      <td>-0.115687</td>\n",
       "      <td>-0.174988</td>\n",
       "      <td>0.245064</td>\n",
       "      <td>0.319763</td>\n",
       "      <td>-0.059082</td>\n",
       "      <td>-0.000556</td>\n",
       "      <td>-0.245133</td>\n",
       "      <td>-0.301130</td>\n",
       "      <td>0.130965</td>\n",
       "    </tr>\n",
       "    <tr>\n",
       "      <th>1</th>\n",
       "      <td>0</td>\n",
       "      <td>H_-2_-2_0.501338.dat</td>\n",
       "      <td>-2.0</td>\n",
       "      <td>-2.0</td>\n",
       "      <td>0.501338</td>\n",
       "      <td>999</td>\n",
       "      <td>666</td>\n",
       "      <td>test</td>\n",
       "      <td>-0.130965</td>\n",
       "      <td>-0.301130</td>\n",
       "      <td>...</td>\n",
       "      <td>-0.080279</td>\n",
       "      <td>0.115687</td>\n",
       "      <td>-0.174988</td>\n",
       "      <td>-0.245064</td>\n",
       "      <td>0.319763</td>\n",
       "      <td>0.059082</td>\n",
       "      <td>-0.000556</td>\n",
       "      <td>0.245133</td>\n",
       "      <td>-0.301130</td>\n",
       "      <td>-0.130965</td>\n",
       "    </tr>\n",
       "    <tr>\n",
       "      <th>2</th>\n",
       "      <td>0</td>\n",
       "      <td>H_-2_-2_0.501338.dat</td>\n",
       "      <td>-2.0</td>\n",
       "      <td>-2.0</td>\n",
       "      <td>0.501338</td>\n",
       "      <td>999</td>\n",
       "      <td>666</td>\n",
       "      <td>test</td>\n",
       "      <td>-0.148414</td>\n",
       "      <td>-0.042467</td>\n",
       "      <td>...</td>\n",
       "      <td>0.185442</td>\n",
       "      <td>-0.080620</td>\n",
       "      <td>-0.066211</td>\n",
       "      <td>-0.121339</td>\n",
       "      <td>-0.151700</td>\n",
       "      <td>0.192513</td>\n",
       "      <td>0.191642</td>\n",
       "      <td>-0.050956</td>\n",
       "      <td>-0.042467</td>\n",
       "      <td>-0.148414</td>\n",
       "    </tr>\n",
       "    <tr>\n",
       "      <th>3</th>\n",
       "      <td>0</td>\n",
       "      <td>H_-2_-2_0.501338.dat</td>\n",
       "      <td>-2.0</td>\n",
       "      <td>-2.0</td>\n",
       "      <td>0.501338</td>\n",
       "      <td>999</td>\n",
       "      <td>666</td>\n",
       "      <td>test</td>\n",
       "      <td>-0.069630</td>\n",
       "      <td>-0.026147</td>\n",
       "      <td>...</td>\n",
       "      <td>0.102009</td>\n",
       "      <td>-0.100671</td>\n",
       "      <td>-0.081002</td>\n",
       "      <td>-0.020715</td>\n",
       "      <td>-0.058717</td>\n",
       "      <td>0.115834</td>\n",
       "      <td>0.118274</td>\n",
       "      <td>-0.054666</td>\n",
       "      <td>-0.026147</td>\n",
       "      <td>-0.069630</td>\n",
       "    </tr>\n",
       "    <tr>\n",
       "      <th>4</th>\n",
       "      <td>0</td>\n",
       "      <td>H_-2_-2_0.501338.dat</td>\n",
       "      <td>-2.0</td>\n",
       "      <td>-2.0</td>\n",
       "      <td>0.501338</td>\n",
       "      <td>999</td>\n",
       "      <td>666</td>\n",
       "      <td>test</td>\n",
       "      <td>0.010206</td>\n",
       "      <td>-0.014625</td>\n",
       "      <td>...</td>\n",
       "      <td>0.047555</td>\n",
       "      <td>-0.041368</td>\n",
       "      <td>-0.018852</td>\n",
       "      <td>-0.017673</td>\n",
       "      <td>-0.023377</td>\n",
       "      <td>0.031447</td>\n",
       "      <td>0.010280</td>\n",
       "      <td>0.000925</td>\n",
       "      <td>0.014625</td>\n",
       "      <td>-0.010206</td>\n",
       "    </tr>\n",
       "    <tr>\n",
       "      <th>5</th>\n",
       "      <td>0</td>\n",
       "      <td>H_-2_-2_0.501338.dat</td>\n",
       "      <td>-2.0</td>\n",
       "      <td>-2.0</td>\n",
       "      <td>0.501338</td>\n",
       "      <td>999</td>\n",
       "      <td>666</td>\n",
       "      <td>test</td>\n",
       "      <td>0.116962</td>\n",
       "      <td>0.021475</td>\n",
       "      <td>...</td>\n",
       "      <td>-0.086901</td>\n",
       "      <td>-0.045676</td>\n",
       "      <td>-0.028034</td>\n",
       "      <td>0.129266</td>\n",
       "      <td>0.130083</td>\n",
       "      <td>-0.098190</td>\n",
       "      <td>-0.104188</td>\n",
       "      <td>-0.007911</td>\n",
       "      <td>0.021475</td>\n",
       "      <td>0.116962</td>\n",
       "    </tr>\n",
       "    <tr>\n",
       "      <th>6</th>\n",
       "      <td>0</td>\n",
       "      <td>H_-2_-2_0.501338.dat</td>\n",
       "      <td>-2.0</td>\n",
       "      <td>-2.0</td>\n",
       "      <td>0.501338</td>\n",
       "      <td>999</td>\n",
       "      <td>666</td>\n",
       "      <td>test</td>\n",
       "      <td>0.037175</td>\n",
       "      <td>-0.095882</td>\n",
       "      <td>...</td>\n",
       "      <td>-0.027490</td>\n",
       "      <td>0.046168</td>\n",
       "      <td>0.063419</td>\n",
       "      <td>-0.041630</td>\n",
       "      <td>-0.085769</td>\n",
       "      <td>-0.010604</td>\n",
       "      <td>-0.009822</td>\n",
       "      <td>0.084024</td>\n",
       "      <td>0.095882</td>\n",
       "      <td>-0.037175</td>\n",
       "    </tr>\n",
       "    <tr>\n",
       "      <th>7</th>\n",
       "      <td>0</td>\n",
       "      <td>H_-2_-2_0.501338.dat</td>\n",
       "      <td>-2.0</td>\n",
       "      <td>-2.0</td>\n",
       "      <td>0.501338</td>\n",
       "      <td>999</td>\n",
       "      <td>666</td>\n",
       "      <td>test</td>\n",
       "      <td>0.027709</td>\n",
       "      <td>-0.038180</td>\n",
       "      <td>...</td>\n",
       "      <td>0.123344</td>\n",
       "      <td>-0.114320</td>\n",
       "      <td>-0.057118</td>\n",
       "      <td>-0.040291</td>\n",
       "      <td>-0.061263</td>\n",
       "      <td>0.087153</td>\n",
       "      <td>0.029599</td>\n",
       "      <td>-0.001276</td>\n",
       "      <td>0.038180</td>\n",
       "      <td>-0.027709</td>\n",
       "    </tr>\n",
       "    <tr>\n",
       "      <th>8</th>\n",
       "      <td>0</td>\n",
       "      <td>H_-2_-2_0.501338.dat</td>\n",
       "      <td>-2.0</td>\n",
       "      <td>-2.0</td>\n",
       "      <td>0.501338</td>\n",
       "      <td>999</td>\n",
       "      <td>666</td>\n",
       "      <td>test</td>\n",
       "      <td>0.059795</td>\n",
       "      <td>0.030272</td>\n",
       "      <td>...</td>\n",
       "      <td>-0.082347</td>\n",
       "      <td>0.140996</td>\n",
       "      <td>0.128386</td>\n",
       "      <td>-0.036608</td>\n",
       "      <td>0.029628</td>\n",
       "      <td>-0.124877</td>\n",
       "      <td>-0.140478</td>\n",
       "      <td>0.088573</td>\n",
       "      <td>0.030272</td>\n",
       "      <td>0.059795</td>\n",
       "    </tr>\n",
       "    <tr>\n",
       "      <th>9</th>\n",
       "      <td>0</td>\n",
       "      <td>H_-2_-2_0.501338.dat</td>\n",
       "      <td>-2.0</td>\n",
       "      <td>-2.0</td>\n",
       "      <td>0.501338</td>\n",
       "      <td>999</td>\n",
       "      <td>666</td>\n",
       "      <td>test</td>\n",
       "      <td>0.141605</td>\n",
       "      <td>0.013497</td>\n",
       "      <td>...</td>\n",
       "      <td>-0.035718</td>\n",
       "      <td>-0.110014</td>\n",
       "      <td>-0.082452</td>\n",
       "      <td>0.146084</td>\n",
       "      <td>0.152588</td>\n",
       "      <td>-0.067575</td>\n",
       "      <td>-0.087187</td>\n",
       "      <td>-0.043484</td>\n",
       "      <td>0.013497</td>\n",
       "      <td>0.141605</td>\n",
       "    </tr>\n",
       "  </tbody>\n",
       "</table>\n",
       "<p>10 rows × 108 columns</p>\n",
       "</div>"
      ],
      "text/plain": [
       "   id                  path   t1   t2   winding  phase  pred_phase type_of  \\\n",
       "0   0  H_-2_-2_0.501338.dat -2.0 -2.0  0.501338    999         666    test   \n",
       "1   0  H_-2_-2_0.501338.dat -2.0 -2.0  0.501338    999         666    test   \n",
       "2   0  H_-2_-2_0.501338.dat -2.0 -2.0  0.501338    999         666    test   \n",
       "3   0  H_-2_-2_0.501338.dat -2.0 -2.0  0.501338    999         666    test   \n",
       "4   0  H_-2_-2_0.501338.dat -2.0 -2.0  0.501338    999         666    test   \n",
       "5   0  H_-2_-2_0.501338.dat -2.0 -2.0  0.501338    999         666    test   \n",
       "6   0  H_-2_-2_0.501338.dat -2.0 -2.0  0.501338    999         666    test   \n",
       "7   0  H_-2_-2_0.501338.dat -2.0 -2.0  0.501338    999         666    test   \n",
       "8   0  H_-2_-2_0.501338.dat -2.0 -2.0  0.501338    999         666    test   \n",
       "9   0  H_-2_-2_0.501338.dat -2.0 -2.0  0.501338    999         666    test   \n",
       "\n",
       "      feat0     feat1  ...    feat90    feat91    feat92    feat93    feat94  \\\n",
       "0 -0.130965  0.301130  ... -0.080279 -0.115687 -0.174988  0.245064  0.319763   \n",
       "1 -0.130965 -0.301130  ... -0.080279  0.115687 -0.174988 -0.245064  0.319763   \n",
       "2 -0.148414 -0.042467  ...  0.185442 -0.080620 -0.066211 -0.121339 -0.151700   \n",
       "3 -0.069630 -0.026147  ...  0.102009 -0.100671 -0.081002 -0.020715 -0.058717   \n",
       "4  0.010206 -0.014625  ...  0.047555 -0.041368 -0.018852 -0.017673 -0.023377   \n",
       "5  0.116962  0.021475  ... -0.086901 -0.045676 -0.028034  0.129266  0.130083   \n",
       "6  0.037175 -0.095882  ... -0.027490  0.046168  0.063419 -0.041630 -0.085769   \n",
       "7  0.027709 -0.038180  ...  0.123344 -0.114320 -0.057118 -0.040291 -0.061263   \n",
       "8  0.059795  0.030272  ... -0.082347  0.140996  0.128386 -0.036608  0.029628   \n",
       "9  0.141605  0.013497  ... -0.035718 -0.110014 -0.082452  0.146084  0.152588   \n",
       "\n",
       "     feat95    feat96    feat97    feat98    feat99  \n",
       "0 -0.059082 -0.000556 -0.245133 -0.301130  0.130965  \n",
       "1  0.059082 -0.000556  0.245133 -0.301130 -0.130965  \n",
       "2  0.192513  0.191642 -0.050956 -0.042467 -0.148414  \n",
       "3  0.115834  0.118274 -0.054666 -0.026147 -0.069630  \n",
       "4  0.031447  0.010280  0.000925  0.014625 -0.010206  \n",
       "5 -0.098190 -0.104188 -0.007911  0.021475  0.116962  \n",
       "6 -0.010604 -0.009822  0.084024  0.095882 -0.037175  \n",
       "7  0.087153  0.029599 -0.001276  0.038180 -0.027709  \n",
       "8 -0.124877 -0.140478  0.088573  0.030272  0.059795  \n",
       "9 -0.067575 -0.087187 -0.043484  0.013497  0.141605  \n",
       "\n",
       "[10 rows x 108 columns]"
      ]
     },
     "execution_count": 24,
     "metadata": {},
     "output_type": "execute_result"
    }
   ],
   "source": [
    "simulation.dataframe.head(10)"
   ]
  },
  {
   "cell_type": "markdown",
   "metadata": {
    "papermill": {
     "duration": 0.036092,
     "end_time": "2020-07-09T21:37:54.689047",
     "exception": false,
     "start_time": "2020-07-09T21:37:54.652955",
     "status": "completed"
    },
    "tags": []
   },
   "source": [
    "#### Viewing a random sample"
   ]
  },
  {
   "cell_type": "code",
   "execution_count": 25,
   "metadata": {
    "execution": {
     "iopub.execute_input": "2020-07-09T21:37:54.765504Z",
     "iopub.status.busy": "2020-07-09T21:37:54.765131Z",
     "iopub.status.idle": "2020-07-09T21:37:54.811260Z",
     "shell.execute_reply": "2020-07-09T21:37:54.810938Z"
    },
    "papermill": {
     "duration": 0.08494,
     "end_time": "2020-07-09T21:37:54.811311",
     "exception": false,
     "start_time": "2020-07-09T21:37:54.726371",
     "status": "completed"
    },
    "tags": []
   },
   "outputs": [
    {
     "name": "stdout",
     "output_type": "stream",
     "text": [
      "CPU times: user 36 ms, sys: 1e+03 ns, total: 36 ms\n",
      "Wall time: 35.7 ms\n"
     ]
    }
   ],
   "source": [
    "%%time\n",
    "if simulation.fourier_mode is not None:\n",
    "    simulation.fourier_dataframe.sample(frac=0.1, replace=False)"
   ]
  },
  {
   "cell_type": "markdown",
   "metadata": {
    "papermill": {
     "duration": 0.035098,
     "end_time": "2020-07-09T21:37:54.882344",
     "exception": false,
     "start_time": "2020-07-09T21:37:54.847246",
     "status": "completed"
    },
    "tags": []
   },
   "source": [
    "#### Checking train/val/test splits again"
   ]
  },
  {
   "cell_type": "code",
   "execution_count": 26,
   "metadata": {
    "execution": {
     "iopub.execute_input": "2020-07-09T21:37:54.953947Z",
     "iopub.status.busy": "2020-07-09T21:37:54.953624Z",
     "iopub.status.idle": "2020-07-09T21:37:55.142183Z",
     "shell.execute_reply": "2020-07-09T21:37:55.142488Z"
    },
    "papermill": {
     "duration": 0.225359,
     "end_time": "2020-07-09T21:37:55.142552",
     "exception": false,
     "start_time": "2020-07-09T21:37:54.917193",
     "status": "completed"
    },
    "tags": []
   },
   "outputs": [
    {
     "name": "stdout",
     "output_type": "stream",
     "text": [
      "% train:  0.4208199969516842\n",
      "% val:  0.42066758116140834\n",
      "% test:  0.15851242188690748\n",
      "% train + val + test:  1.0\n",
      "\n",
      "\n",
      "number of train hamiltonians:  2761\n",
      "number of val hamiltonians:  2760\n",
      "number of test hamiltonians:  1040\n",
      "total number of hamiltonians:  6561\n",
      "\n",
      "\n",
      "train ids:  [3747, 6366, 3241, 5304, 6280, 1174, 4241, 1922, 5440, 3180, 3633, 3153, 5792, 4567, 4521, 5128, 343, 1096, 3101, 2179, 47, 4568, 4417, 4172, 1198, 3167, 5855, 6264, 1605, 1271, 5258, 106, 1530, 2362, 3790, 6466, 2724, 6336, 1903, 2683, 1284, 2534, 1108, 4436, 1505, 3521, 719, 2749, 3976, 4398, 4189, 1448, 807, 3657, 3269, 2752, 32, 3775, 5507, 3758, 1211, 1115, 1046, 4258, 1541, 368, 914, 5322, 1896, 4533, 272, 2234, 1195, 2415, 1081, 607, 917, 724, 4688, 6547, 4185, 5949, 4044, 185, 2416, 4625, 2897, 20, 1817, 3245, 3147, 276, 2880, 2223, 925, 4739, 5398, 4535, 3836, 6118, 3063, 1624, 4326, 1733, 4794, 5920, 6015, 1836, 5845, 186, 5048, 956, 2780, 5813, 4230, 3676, 4307, 4055, 6267, 6490, 2102, 1026, 5433, 2639, 1852, 4502, 442, 3355, 5952, 4319, 3407, 6031, 3845, 3395, 3425, 1094, 4082, 2817, 4679, 4310, 369, 390, 3150, 1258, 5239, 2248, 5795, 3709, 3442, 6347, 869, 2963, 2573, 1855, 2516, 4090, 4049, 6376, 2000, 4032, 4338, 794, 1533, 5449, 2019, 5521, 6367, 5652, 6467, 1936, 5371, 5942, 6085, 1287, 6000, 4037, 6002, 6203, 971, 6483, 4223, 4152, 4771, 2712, 2266, 2648, 182, 1352, 530, 3501, 5563, 6534, 3582, 3728, 4400, 4813, 6380, 4056, 6292, 5776, 144, 5628, 5226, 513, 6275, 1267, 2556, 1790, 3907, 4865, 6523, 3413, 4541, 3787, 1296, 4943, 3131, 35, 2423, 2769, 2169, 5104, 4458, 4569, 6304, 3626, 1427, 6550, 6117, 885, 3762, 4069, 1253, 2918, 809, 3211, 2822, 5637, 3440, 1343, 5347, 2273, 3327, 2634, 1379, 5758, 3067, 2306, 4909, 5567, 4699, 4859, 2982, 1177, 234, 4051, 3837, 4937, 3069, 6006, 4041, 6320, 4135, 958, 3712, 5928, 6511, 2874, 5635, 2896, 3125, 2699, 4457, 2078, 701, 361, 3517, 2356, 2476, 4944, 644, 4607, 4465, 1169, 786, 521, 196, 1001, 121, 5836, 351, 2225, 524, 6175, 4830, 1288, 6112, 3757, 1086, 3229, 6495, 1121, 1166, 1648, 4751, 3085, 3461, 6126, 2610, 3994, 782, 5513, 2921, 2492, 2932, 5840, 5008, 2271, 367, 1415, 2729, 4166, 4698, 6054, 4285, 6504, 2359, 3479, 5185, 3927, 967, 4661, 2654, 3002, 3580, 5471, 6364, 2465, 3347, 5216, 702, 1510, 1209, 3307, 6425, 2995, 3346, 4808, 230, 3751, 4891, 4961, 283, 403, 643, 1107, 6222, 5972, 4245, 6211, 3469, 3549, 3271, 1978, 2286, 1620, 2547, 2912, 4115, 3021, 3462, 1493, 3851, 4634, 364, 1950, 5135, 1087, 4460, 2309, 5919, 3314, 4801, 3515, 3318, 3756, 566, 4614, 6199, 3383, 5716, 4475, 5291, 1254, 1158, 1356, 2738, 1210, 3667, 3254, 5704, 591, 2735, 5488, 4435, 273, 1281, 4606, 855, 2366, 4490, 24, 2491, 3053, 5880, 55, 2066, 1454, 5437, 4552, 5641, 2832, 6220, 6426, 4720, 4581, 1569, 1823, 561, 2185, 3389, 4299, 4008, 2891, 1216, 430, 1250, 6161, 457, 464, 4611, 1750, 5970, 2319, 6535, 4297, 2927, 3267, 3890, 3743, 5524, 5240, 2523, 3052, 5627, 6119, 3573, 5865, 4403, 3541, 5314, 2230, 2893, 5213, 3001, 514, 3995, 2924, 4461, 4089, 5154, 5950, 4963, 4359, 3290, 556, 5184, 3518, 1938, 1366, 4889, 4908, 5934, 6088, 4546, 5679, 5290, 1820, 4850, 4617, 5730, 1570, 2443, 3991, 5839, 647, 3091, 2607, 6429, 3658, 1274, 764, 1283, 3339, 5721, 2530, 951, 381, 4869, 3986, 2193, 1988, 5965, 2518, 2996, 3847, 5520, 2014, 2507, 237, 3843, 4913, 5147, 2876, 1671, 4339, 1786, 4104, 1191, 831, 6261, 3566, 3686, 671, 791, 4902, 5884, 1118, 2955, 505, 1215, 3354, 3947, 5134, 858, 4337, 3652, 3409, 4017, 372, 5111, 1043, 130, 2594, 1846, 2195, 2803, 686, 2480, 4112, 545, 1516, 1818, 2276, 2901, 4872, 5385, 4329, 2153, 307, 3643, 2341, 3719, 2655, 4712, 3933, 4504, 6127, 4098, 5676, 3139, 434, 195, 4882, 868, 5069, 6385, 5108, 6339, 4334, 2015, 4342, 3998, 269, 5941, 4204, 2578, 3348, 4776, 4188, 6038, 5889, 3975, 2424, 2636, 945, 6140, 6120, 4700, 5648, 2036, 6187, 1593, 872, 2001, 1684, 4773, 1576, 5793, 6099, 2563, 3641, 1595, 6241, 5375, 1126, 156, 3394, 366, 3613, 5434, 1045, 4743, 4620, 2105, 1912, 3755, 3873, 5760, 2941, 3506, 528, 6029, 227, 5714, 5222, 3551, 5774, 6170, 1373, 1757, 3723, 2438, 1789, 2287, 4856, 6156, 1919, 1708, 4165, 1488, 1736, 4529, 2429, 6441, 3088, 4724, 5264, 6206, 3498, 503, 557, 4244, 2999, 2242, 3949, 595, 3895, 5270, 348, 1357, 2475, 2967, 5614, 3064, 6007, 4809, 4303, 5289, 5917, 1755, 2825, 2436, 5558, 2929, 3632, 1122, 4870, 107, 4561, 6507, 6502, 1952, 669, 3454, 2156, 2748, 612, 3270, 6283, 448, 5927, 5475, 4579, 2388, 4484, 3707, 4016, 136, 1051, 6247, 776, 1902, 2144, 6302, 6527, 5120, 757, 3448, 4630, 2281, 2346, 1932, 5122, 5452, 6003, 3071, 1457, 4283, 3262, 698, 2632, 1206, 1921, 5381, 1627, 3529, 4438, 610, 711, 308, 2859, 4343, 3533, 1007, 468, 6480, 5783, 2997, 696, 5636, 4419, 1340, 615, 298, 2268, 5851, 5961, 4232, 5509, 3247, 3681, 5726, 1923, 291, 2478, 2305, 2097, 4371, 5838, 2725, 3539, 5392, 3123, 1446, 4393, 4380, 2773, 517, 3336, 5389, 4532, 3256, 5759, 921, 2570, 5750, 3514, 2151, 4450, 5110, 1360, 6384, 3946, 4932, 4439, 3332, 5683, 5422, 1077, 4314, 184, 6387, 4645, 3699, 3527, 3591, 2069, 6520, 4582, 4110, 1245, 6176, 4324, 3650, 4405, 679, 2397, 2343, 4988, 6254, 2313, 3601, 526, 3253, 2220, 5445, 3025, 1711, 150, 2393, 2013, 4053, 1849, 2968, 128, 1418, 4935, 3662, 1729, 5958, 4351, 3492, 1614, 2653, 1132, 3814, 4873, 3326, 3158, 1345, 3505, 2772, 398, 3244, 3340, 770, 5634, 6158, 4194, 4878, 5176, 3173, 3430, 1041, 5388, 625, 422, 2387, 4025, 2164, 969, 2344, 5224, 4467, 4799, 2652, 3073, 5869, 4762, 5764, 4394, 1443, 6486, 2777, 5891, 3105, 1179, 4350, 3285, 3135, 6043, 5269, 3236, 96, 4962, 882, 6399, 4079, 3957, 5617, 593, 2481, 5150, 5876, 4164, 2805, 5606, 2181, 3378, 3754, 2112, 1339, 1812, 6080, 67, 954, 2727, 3963, 373, 1894, 4555, 3811, 4933, 781, 1862, 4577, 3593, 2602, 4221, 5285, 4635, 1865, 2834, 1604, 2765, 4888, 5379, 5177, 1793, 3166, 2352, 1984, 1664, 397, 1083, 4470, 3042, 2638, 5955, 2938, 713, 2322, 2006, 3304, 2418, 6196, 5010, 1106, 632, 4853, 4081, 353, 129, 4719, 3809, 214, 5481, 4496, 4769, 962, 285, 5348, 2059, 5062, 3467, 202, 1021, 6243, 3351, 6462, 6278, 3731, 1113, 4663, 1519, 6501, 5680, 886, 63, 139, 3829, 4816, 5189, 3628, 1275, 1813, 1668, 3141, 2826, 2961, 3275, 5472, 4996, 1456, 2354, 4191, 4616, 3295, 1489, 880, 6159, 5312, 2833, 4142, 5554, 863, 5362, 3420, 2239, 6378, 4097, 5025, 4445, 2303, 3397, 112, 2792, 320, 1348, 456, 4710, 5695, 6452, 1436, 3781, 4907, 2526, 2450, 3937, 5293, 697, 2425, 3289, 2238, 5432, 2827, 4121, 1650, 212, 1920, 187, 363, 6270, 3500, 2149, 722, 1863, 3164, 1787, 5214, 2807, 6184, 5646, 4747, 766, 4278, 3586, 674, 4397, 4851, 3356, 2283, 3636, 5175, 321, 4680, 5351, 2931, 3863, 3965, 928, 5232, 1982, 4959, 2522, 4632, 3089, 2879, 5012, 189, 3449, 5470, 3187, 4058, 1991, 5479, 516, 5885, 1347, 2691, 5598, 3935, 4761, 5132, 1577, 4238, 6129, 5274, 5243, 2107, 2174, 6465, 684, 4294, 2173, 6287, 1983, 4322, 5803, 3655, 2598, 4956, 4193, 1589, 3705, 4123, 3321, 3903, 148, 3284, 2753, 4658, 6012, 5777, 4332, 4874, 5303, 2884, 3734, 480, 4134, 3480, 5028, 4409, 3960, 5066, 1178, 3915, 4197, 3981, 4033, 2584, 4455, 3391, 5032, 6518, 3669, 6485, 5217, 1050, 3649, 104, 3717, 1600, 5929, 789, 2004, 294, 4651, 109, 629, 5508, 22, 1025, 801, 5796, 99, 3051, 5029, 2886, 6463, 2659, 3122, 4036, 3050, 4198, 3804, 1603, 772, 2800, 6286, 1437, 1047, 4493, 3853, 4368, 765, 5045, 3485, 3493, 5391, 3565, 5257, 919, 1957, 5238, 3978, 3802, 2517, 4388, 1330, 3912, 1944, 552, 4752, 5109, 2205, 4341, 6345, 5722, 4109, 2332, 4246, 1521, 3703, 3768, 4207, 3268, 58, 3019, 2338, 478, 1036, 65, 2835, 1331, 6097, 5198, 1273, 3216, 3970, 6524, 4287, 2535, 3581, 6160, 5720, 2235, 4940, 5357, 451, 4573, 221, 5833, 6105, 2606, 2609, 4062, 5644, 5037, 1924, 2937, 4784, 5179, 2096, 242, 2649, 3629, 4146, 1669, 5146, 3429, 1004, 5113, 49, 5443, 5059, 4333, 5874, 4268, 4370, 425, 3446, 2936, 6482, 1242, 6536, 3795, 1451, 2959, 4531, 5772, 6109, 2718, 6042, 2479, 3483, 608, 3827, 1681, 4707, 4631, 4201, 2767, 1440, 723, 3916, 5047, 101, 3372, 6532, 3194, 2524, 447, 1918, 4517, 4073, 3476, 1839, 4736, 806, 2596, 6497, 3943, 4013, 4315, 1125, 5552, 5588, 6271, 4022, 1497, 4629, 1926, 28, 2511, 6089, 618, 2162, 635, 941, 5026, 5547, 1843, 884, 3877, 5202, 1322, 3437, 4035, 4489, 6093, 1272, 4295, 389, 5936, 624, 6348, 4176, 2351, 2023, 3638, 1907, 3797, 2991, 2795, 5771, 3704, 2031, 3564, 787, 4054, 2058, 176, 4262, 1207, 4646, 4848, 1500, 341, 1662, 1531, 4782, 6213, 5368, 949, 5877, 5713, 3005, 5996, 5378, 3415, 5271, 5951, 3054, 2148, 3143, 3511, 4714, 1785, 2554, 3635, 3224, 5517, 2577, 3713, 677, 2515, 5856, 5053, 3111, 4669, 6451, 3044, 119, 5935, 5338, 1084, 2369, 3414, 2113, 428, 3512, 1430, 2813, 5311, 1772, 6240, 1756, 114, 6022, 4978, 4094, 2363, 5625, 2796, 4454, 6086, 5536, 95, 601, 110, 3615, 1184, 2310, 4153, 5030, 3932, 2730, 1760, 5847, 539, 5342, 6325, 4141, 4280, 1754, 1111, 2781, 3744, 1260, 5723, 1024, 1186, 33, 4728, 2716, 1534, 1361, 3993, 4004, 105, 3899, 752, 117, 997, 5256, 5785, 258, 5973, 5528, 1762, 1621, 3104, 1759, 3206, 3594, 4277, 6529, 6291, 5999, 1858, 5099, 3752, 5234, 5009, 3373, 3179, 619, 6513, 1161, 5397, 3819, 1730, 6052, 1608, 6297, 2864, 266, 5623, 4235, 479, 4107, 4976, 2349, 5143, 1953, 3018, 4211, 3133, 4622, 5370, 4876, 4825, 2848, 1536, 913, 5505, 511, 5806, 4290, 2970, 916, 1659, 46, 5158, 5439, 3323, 5782, 3697, 4210, 1199, 4242, 3264, 3374, 2247, 3186, 5136, 1851, 4523, 4575, 4336, 2592, 5399, 1694, 4416, 1247, 5235, 4731, 2389, 5692, 5543, 437, 5861, 2794, 4829, 6361, 3846, 506, 2347, 4459, 5019, 3923, 4365, 5645, 1130, 1737, 5405, 6406, 2902, 5386, 6081, 3786, 4040, 5924, 2386, 2710, 3188, 4012, 6431, 2579, 2264, 3848, 2444, 2143, 2413, 6327, 2367, 5711, 3732, 2669, 3486, 3841, 1117, 1496, 4705, 4281, 4777, 4683, 3520, 5366, 6194, 640, 2521, 3761, 2165, 2279, 2723, 346, 5542, 4735, 6124, 6449, 4208, 3634, 1248, 2656, 1402, 4726, 3231, 1034, 4803, 4664, 5870, 4960, 638, 4550, 2640, 3388, 1933, 2201, 3921, 2323, 347, 2565, 1129, 2778, 621, 3954, 4253, 5094, 4519, 5668, 1612, 529, 6515, 4819, 5787, 4133, 2943, 3457, 3616, 5469, 5356, 5325, 2385, 2404, 4296, 3039, 4641, 5345, 5804, 1695, 322, 455, 2361, 5428, 2940, 1825, 533, 4599, 6356, 3910, 4501, 3331, 1011, 5267, 1355, 5864, 5966, 4254, 5447, 3472, 2559, 3510, 78, 2635, 4437, 4706, 5363, 6509, 6542, 1857, 2630, 2839, 1584, 4668, 3587, 2203, 4031, 98, 1587, 436, 4111, 6123, 5054, 2802, 113, 4410, 5630, 1134, 931, 1929, 3359, 2616, 3171, 3427, 1006, 231, 1928, 391, 3817, 1341, 4488, 3666, 4787, 756, 5042, 2435, 4702, 2370, 4143, 6350, 3926, 5360, 2933, 759, 1369, 149, 708, 4802, 1214, 6293, 4068, 3400, 224, 4503, 4578, 1816, 5436, 5344, 3369, 932, 1507, 5190, 3365, 590, 3234, 5015, 1753, 3714, 3844, 3826, 2204, 386, 4250, 509, 6165, 1985, 3277, 3603, 955, 3315, 544, 4910, 3547, 1666, 1183, 1337, 1746, 4024, 5277, 4220, 4233, 1535, 6192, 963, 4477, 6138, 3931, 4945, 2240, 1606, 4059, 3722, 6277, 1410, 6198, 860, 3303, 3857, 536, 3274, 4624, 1783, 3106, 3595, 5197, 431, 852, 1103, 188, 4516, 6303, 2233, 306, 2993, 6248, 1691, 4360, 5355, 4065, 6131, 5364, 400, 3716, 6182, 5516, 1176, 1766, 5670, 3875, 4478, 716, 5138, 5622, 5153, 6445, 4846, 4158, 2909, 3228, 4984, 6375, 3546, 6256, 2033, 875, 3624, 5923, 2597, 222, 5057, 2189, 2676, 5133, 2284, 754, 4449, 2118, 4559, 5781, 143, 937, 6400, 3513, 5551, 3911, 780, 3640, 1438, 2646, 2567, 5788, 5669, 6341, 5997, 2252, 2039, 4072, 5221, 392, 6024, 805, 2756, 2035, 3677, 2067, 1898, 6409, 6525, 3664, 4291, 4353, 6016, 4770, 4048, 1768, 4812, 3110, 3987, 3192, 2402, 5844, 3651, 6358, 5349, 6383, 5587, 4938, 133, 6279, 3494, 4424, 4507, 2061, 72, 3866, 219, 2255, 2493, 3563, 3561, 721, 5035, 4637, 862, 3082, 699, 4897, 4320, 2916, 4992, 3322, 2194, 3623, 6506, 3489, 2202, 147, 3889, 1734, 4234, 5518, 4105, 5811, 2617, 6252, 4128, 4966, 2875, 4880, 5209, 1824, 5685, 2467, 4656, 5674, 1458, 1359, 3243, 3849, 2741, 471, 6030, 1455, 4226, 1747, 3475, 3382, 5049, 968, 773, 3966, 3548, 2140, 5890, 2690, 4384, 4480, 3366, 5340, 4587, 2490, 3491, 4064, 2012, 2312, 2771, 1286, 3334, 5193, 3939, 5892, 2399, 5020, 3784, 5017, 2104, 4781, 4446, 6046, 554, 4472, 633, 264, 3183, 6177, 4827, 2158, 4995, 345, 4385, 6363, 2089, 3193, 3406, 5596, 1764, 1452, 2484, 2914, 197, 4831, 5879, 3466, 5611, 6318, 208, 2700, 3679, 4895, 2466, 3610, 3678, 4034, 1744, 2421, 6322, 6328, 2109, 3011, 5773, 124, 3242, 3207, 4875, 4249, 3695, 4654, 6107, 3739, 4129, 3049, 3006, 2244, 2847, 2394, 753, 2502, 5814, 5790, 841, 1731, 3832, 4270, 942, 1092, 3988, 2981, 1947, 6039, 2801, 6295, 1512, 4572, 2262, 1429, 5878, 1049, 6510, 6430, 4374, 681, 5480, 1002, 4362, 4881, 3177, 5504, 1014, 3013, 309, 6503, 4251, 2564, 5041, 3078, 4358, 6407, 5074, 142, 3333, 4167, 5756, 3055, 4174, 6268, 472, 4367, 535, 6415, 1278, 957, 3260, 4537, 13, 5446, 550, 1290, 4981, 3856, 3979, 3838, 1908, 2693, 5484, 5115, 5725, 378, 2364, 1588, 2114, 3170, 6269, 4844, 4286, 2470, 835, 5699, 3969, 5046, 767, 4649, 4391, 3456, 2269, 4330, 1578, 5186, 1791, 2350, 4414, 3130, 3328, 118, 3861, 3808, 3324, 6219, 1934, 4681, 4119, 2681, 4369, 5430, 2497, 1822, 1828, 6517, 2823, 4005, 1859, 6428, 3142, 37, 6110, 4538, 3604, 3897, 4272, 727, 1989, 4155, 3041, 71, 3745, 2581, 890, 6528, 2923, 1997, 3997, 2392, 5287, 4084, 385, 3896, 6338, 3522, 259, 793, 1012, 2199, 5791, 4497, 319, 4725, 5566, 4222, 6450, 2844, 3660, 5875, 4665, 2417, 41, 5530, 847, 1329, 4814, 4640, 2428, 1003, 3980, 3238, 4469, 4563, 5532, 6245, 4147, 1854, 3342, 1114, 275, 5450, 4987, 2412, 1739, 861, 122, 3803, 4441, 2734, 5119, 1597, 3852, 6077, 2398, 6402, 4408, 2405, 1704, 3824, 4571, 2095, 4468, 5396, 5921, 5751, 4159, 1406, 5093, 5757, 877, 5545, 3876, 6111, 4205, 3337, 3585, 1460, 4083, 1380, 5353, 1291, 66, 3255, 6059, 3828, 5727, 4038, 3766, 5698, 839, 3748, 6190, 3422, 2324, 3452, 609, 3288, 4106, 3771, 6174, 1079, 549, 80, 2930, 4689, 5834, 3504, 3312, 4381, 4970, 769, 2384, 1016, 61, 5052, 4114, 5541, 3048, 692, 354, 1656, 2829, 2331, 3287, 228, 5067, 4741, 603, 4240, 6173, 5975, 4602, 4137, 1498, 2245, 4118, 1814, 3785, 2407, 127, 4929, 2965, 3102, 3536, 3683, 477, 2851, 2084, 6499, 1266, 6453, 223, 3793, 5799, 3562, 5618, 4982, 48, 238, 3605, 5605, 5556, 5320, 5463, 4492, 6273, 3770, 1773, 3417, 5078, 2855, 2675, 1502, 3840, 355, 5393, 5448, 1868, 1433, 1567, 3276, 1196, 1698, 1740, 2586, 4786, 380, 6321, 362, 1931, 3152, 1269, 548, 952, 6416, 1703, 29, 289, 5631, 1093, 634, 3099, 4231, 3014, 1336, 3534, 5939, 5461, 1566, 636, 5671, 5703, 3835, 3685, 2257, 3558, 6223, 4693, 3349, 2836, 2903, 6250, 5765, 6135, 1098, 226, 4140, 2894, 3944, 798, 5849, 1265, 1486, 5632, 1705, 5933, 6101, 4027, 4746, 6493, 4697, 3473, 3934, 3015, 6106, 2904, 4703, 6044, 2677, 5506, 6289, 5260, 6001, 4946, 4589, 3659, 5677, 6274, 6057, 1032, 1905, 3631, 4584, 2321, 803, 1542, 5231, 3316, 1407, 1257, 4826, 4549, 3645, 3076, 3502, 3338, 1338, 2990, 5215, 5096, 4764, 1008, 4375, 4934, 6372, 4327, 2166, 1411, 4190, 3047, 3983, 1020, 4021, 4914, 5018, 5466, 1709, 6047, 1335, 3137, 1751, 6008, 3458, 5561, 2083, 441, 356, 4313, 5503, 1582, 5178, 3169, 6142, 5376, 2431, 3305, 6533, 5272, 229, 617, 282, 5462, 5377, 6041, 4124, 2236, 452, 1513, 4218, 3126, 3621, 4010, 4092, 1367, 6207, 313, 3286, 4886, 2977, 1831, 5687, 1412, 1706, 3737, 2694, 3168, 6487, 2853, 4636, 6221, 3370, 1844, 5068, 4823, 1432, 1035, 2739, 6382, 131, 5394, 2499, 1661, 3661, 6125, 4824, 1244, 933, 5871, 3639, 689, 4023, 5173, 3213, 3265, 4899, 6037, 3815, 3252, 1112, 1775, 5276, 918, 3487, 2123, 278, 3463, 2103, 1975, 290, 3399, 4045, 74, 6121, 3865, 3306, 2947, 2672, 4806, 5926, 4558, 1543, 5848, 4178, 725, 1951, 6191, 6060, 6082, 2603, 1955, 376, 873, 4926, 3760, 2651, 3589, 3625, 2080, 5230, 236, 2585, 6359, 3175, 4863, 1735, 6424, 4695, 5459, 1528, 426, 2060, 5027, 1197, 4936, 3588, 4078, 4028, 2663, 293, 4977, 1368, 3579, 3842, 2574, 604, 3214, 3320, 602, 3455, 2487, 1657, 53, 5421, 2934, 2285, 141, 5161, 6263, 2628, 4520, 3109, 5962, 3210, 2442, 6122, 2007, 1515, 4805, 1527, 3964, 5922, 1423, 2988, 2815, 4562, 5076, 297, 4565, 5597, 6354, 50, 5442, 5763, 4433, 5591, 3530, 2685, 1875, 3951, 5228, 2152, 3009, 6009, 4911, 5313, 3881, 183, 5121, 204, 6489, 1212, 5835, 2513, 4993, 3381, 3555, 5767, 5621, 5467, 1354, 4453, 3447, 2068, 3884, 5039, 5895, 3642, 5729, 695, 964, 2176, 4983, 5696, 6132, 68, 3656, 3208, 778, 2976, 755, 2808, 6285, 2631, 2302, 2939, 1517, 6496, 2016, 879, 4321, 1993, 3345, 4331, 2191, 4317]\n",
      "val ids:  [3894, 6401, 393, 2383, 3309, 2956, 2588, 4927, 5945, 5275, 4248, 18, 1464, 3371, 461, 2925, 5282, 1027, 1175, 3482, 1279, 3283, 6188, 994, 637, 5262, 2713, 5883, 3999, 4043, 3496, 2395, 1866, 4868, 751, 6266, 5715, 3672, 999, 1192, 2434, 5194, 639, 525, 4421, 134, 5931, 4003, 1682, 3205, 5283, 1853, 1110, 2657, 4548, 1848, 5223, 4570, 340, 4269, 64, 6215, 3914, 6276, 1376, 2911, 1625, 2775, 1321, 1601, 3310, 1372, 3108, 5867, 4273, 3162, 3302, 3022, 394, 1930, 232, 1867, 558, 6298, 39, 2957, 1937, 1200, 3020, 6011, 2190, 4763, 4357, 3282, 6113, 4597, 3163, 2056, 6090, 1270, 1581, 2358, 1031, 6185, 3578, 3774, 2259, 1378, 3293, 135, 3045, 3871, 6460, 3172, 2485, 6162, 4131, 6262, 5675, 6455, 5038, 5144, 3929, 2117, 6114, 296, 2576, 181, 4701, 4540, 1194, 3783, 4471, 5040, 4618, 876, 2505, 5570, 4402, 145, 889, 5431, 1599, 1441, 1119, 2005, 5105, 5557, 3542, 38, 1365, 6418, 6249, 4804, 3820, 3299, 4217, 5200, 4744, 4267, 2091, 2715, 2325, 3989, 317, 2106, 1095, 1678, 4749, 3900, 4237, 4308, 5473, 3263, 5673, 2062, 1749, 912, 563, 2698, 2758, 288, 2533, 4717, 3531, 714, 6084, 4904, 6464, 14, 3885, 1976, 1246, 5429, 2857, 939, 3701, 2482, 4796, 6439, 3419, 4087, 2172, 6104, 5948, 5843, 3570, 5863, 1769, 5107, 4800, 4050, 6447, 1670, 1893, 459, 4213, 2733, 5694, 1956, 3239, 3753, 1170, 720, 3403, 704, 672, 2742, 357, 3985, 6103, 1763, 3424, 5717, 832, 146, 2139, 4149, 2612, 2160, 3807, 2503, 1168, 4423, 5265, 5288, 1346, 4228, 3769, 1044, 5565, 4060, 2057, 3438, 6208, 3291, 6115, 399, 2590, 4952, 1444, 3630, 2557, 6242, 1426, 5308, 4156, 5862, 6459, 4626, 2757, 758, 1009, 3128, 6237, 5152, 3559, 685, 4967, 4892, 3230, 3883, 4335, 5770, 1838, 4955, 4779, 475, 3107, 3891, 4974, 6448, 6404, 2453, 5218, 1381, 2821, 5369, 3398, 5070, 4847, 3411, 4091, 3468, 3298, 2736, 4077, 3892, 3203, 2552, 3330, 215, 3423, 4642, 4215, 6434, 1325, 2070, 3061, 1375, 712, 2468, 965, 4667, 387, 5174, 596, 854, 6438, 3874, 460, 2101, 3357, 3495, 5033, 159, 3839, 2088, 2633, 3552, 2488, 3325, 3490, 3266, 4793, 763, 6095, 6139, 3560, 3977, 5624, 5423, 5103, 235, 6163, 432, 4039, 5533, 102, 4498, 6201, 1525, 5526, 2272, 837, 4363, 4792, 2337, 4915, 3644, 1413, 5117, 1693, 2608, 5131, 6417, 3792, 4392, 5976, 4623, 5016, 3925, 1777, 1187, 286, 2974, 193, 2064, 365, 1523, 4718, 6141, 5367, 1538, 4997, 1124, 2549, 5211, 4029, 4256, 5155, 2548, 5754, 1917, 6290, 3516, 532, 546, 1915, 4671, 5853, 783, 2198, 3583, 6238, 2098, 6253, 1033, 3702, 5286, 3584, 2326, 4170, 923, 5678, 5610, 5183, 2531, 1992, 299, 922, 1052, 2776, 3343, 5868, 5400, 2163, 3855, 5607, 1091, 1696, 523, 1349, 3789, 4557, 6251, 5225, 1916, 2150, 5769, 4486, 842, 2168, 5299, 4354, 3392, 4163, 6026, 6171, 3577, 5401, 2983, 5406, 833, 4085, 887, 4404, 4302, 1904, 589, 4723, 5640, 3698, 5237, 4615, 1841, 1010, 6332, 3509, 926, 3096, 5995, 4415, 3735, 3668, 1815, 777, 384, 1157, 6034, 871, 3592, 3217, 2275, 1249, 4965, 5097, 1673, 1327, 2447, 4514, 5316, 2799, 5778, 4972, 3878, 5585, 271, 3129, 3156, 927, 6342, 2159, 2010, 2446, 1109, 6353, 4585, 522, 3920, 6537, 4778, 709, 4619, 240, 693, 3973, 1104, 4229, 3221, 5196, 3120, 761, 3893, 2985, 1999, 4767, 5594, 830, 1571, 453, 1173, 710, 961, 2002, 4525, 874, 1299, 281, 2308, 706, 5210, 6538, 6209, 4791, 5296, 17, 4117, 6014, 5896, 2519, 2614, 4734, 4487, 1835, 1422, 3426, 1408, 2793, 4298, 5456, 1120, 5761, 3959, 5091, 225, 4765, 303, 3017, 3867, 6049, 3084, 1351, 5195, 5925, 123, 3416, 5297, 4941, 5309, 6265, 4832, 2115, 3688, 592, 4727, 2841, 1856, 5593, 4547, 5801, 3665, 1171, 3507, 1102, 5451, 6368, 1752, 1263, 1874, 2837, 1332, 5354, 1256, 3155, 4452, 796, 2403, 2111, 4866, 3225, 4323, 1532, 1048, 4499, 2119, 4742, 1869, 5873, 947, 3880, 4125, 4168, 3124, 6134, 3059, 6282, 4737, 2562, 262, 5266, 4224, 5302, 4657, 3825, 2647, 3408, 2810, 152, 4566, 4973, 6355, 2315, 2731, 5013, 2883, 5914, 4132, 5192, 4860, 6019, 4418, 4399, 241, 4203, 934, 261, 2022, 4386, 3258, 3418, 4275, 3301, 6239, 4845, 2604, 2178, 5199, 1328, 2754, 3617, 3886, 3121, 762, 4390, 1598, 2489, 5719, 5797, 1420, 1185, 3396, 4120, 1899, 54, 3410, 6457, 2989, 4730, 5590, 4411, 1943, 3081, 2335, 1845, 6305, 6437, 3436, 1994, 2396, 4901, 4916, 2426, 5693, 1986, 4883, 995, 6440, 853, 5261, 1685, 192, 5531, 2812, 3575, 1416, 3888, 1208, 4834, 676, 4855, 6035, 4378, 1701, 626, 2508, 5937, 6168, 5784, 3834, 1342, 292, 3726, 4598, 2892, 6004, 668, 5116, 3329, 3618, 402, 2854, 4694, 1575, 5529, 2764, 5768, 5305, 5482, 1082, 5918, 1897, 2409, 598, 3471, 1078, 5141, 2155, 4325, 508, 553, 5424, 2034, 5702, 4102, 2591, 60, 2568, 4136, 5589, 1580, 1617, 3484, 804, 6181, 2065, 4890, 2368, 3904, 3184, 694, 140, 1162, 3764, 178, 3694, 5971, 3296, 3822, 1353, 2184, 151, 3718, 3646, 6005, 5365, 1833, 4526, 5888, 198, 1987, 859, 3178, 834, 2267, 2888, 5707, 4483, 2329, 5957, 936, 4692, 3068, 675, 2334, 4612, 1514, 126, 5537, 6522, 1945, 4685, 3692, 6272, 5800, 2613, 6218, 2984, 1445, 2146, 3227, 2077, 3431, 6344, 4311, 4505, 4985, 4042, 5586, 1946, 5382, 5204, 4797, 310, 2593, 5058, 3942, 2831, 2905, 2642, 3272, 1616, 4894, 4822, 4070, 2755, 2486, 4738, 5522, 2254, 5650, 1491, 5292, 3317, 3868, 5893, 3961, 6136, 56, 3670, 2243, 2437, 5219, 1840, 3012, 5187, 564, 2171, 6516, 5974, 1421, 4184, 3720, 2906, 4071, 2469, 1741, 4494, 4772, 2320, 1526, 3906, 510, 2992, 1591, 5564, 2862, 2551, 4691, 5705, 154, 5969, 6204, 2390, 1131, 1409, 4821, 466, 2842, 342, 5642, 4551, 1030, 132, 6374, 800, 6301, 5306, 4775, 2816, 5129, 4130, 1579, 213, 79, 201, 678, 5474, 5182, 4288, 5534, 4682, 4613, 3481, 2944, 1495, 5151, 3574, 6461, 5156, 3151, 2527, 4849, 3029, 3742, 1042, 352, 1040, 700, 1827, 1574, 3528, 2662, 6343, 2978, 3393, 3136, 6488, 4586, 5453, 4046, 4953, 2222, 5139, 2571, 318, 2582, 6545, 5426, 2093, 5963, 4528, 2687, 5279, 377, 3612, 1663, 6087, 2196, 4708, 5688, 5854, 4276, 6491, 371, 2448, 4364, 6444, 210, 1981, 3938, 4666, 467, 6324, 5686, 2087, 857, 4877, 6379, 1324, 2304, 6370, 2558, 207, 4138, 5712, 6413, 5724, 279, 3237, 518, 1403, 2696, 34, 1522, 3072, 3189, 2678, 4301, 2658, 4247, 6531, 470, 6371, 3794, 5233, 439, 3182, 547, 1127, 1099, 359, 3538, 3257, 5441, 682, 4447, 3571, 5374, 1417, 5718, 6091, 3478, 3248, 5073, 3596, 3767, 3246, 5301, 2265, 5953, 970, 5477, 57, 4139, 1167, 1568, 5395, 6010, 3813, 2037, 2071, 4639, 5616, 6023, 5994, 2717, 1829, 1778, 792, 5708, 1667, 687, 1292, 6055, 4696, 541, 4076, 4239, 1910, 2587, 4949, 2898, 3386, 5191, 1949, 1364, 2751, 1261, 3218, 3725, 3165, 1995, 1018, 31, 888, 5938, 6541, 23, 1925, 3212, 5535, 4687, 4991, 1990, 4148, 2427, 433, 1487, 537, 233, 4344, 3098, 2935, 5555, 6021, 462, 870, 5227, 6549, 4690, 3806, 6210, 6419, 3535, 2282, 6281, 5511, 6373, 4574, 3223, 4482, 4389, 1038, 527, 1702, 6421, 3157, 1871, 42, 209, 2762, 1679, 2882, 5568, 4169, 2878, 2147, 6484, 4216, 2411, 555, 2221, 6078, 3204, 5841, 1459, 2863, 3778, 5112, 6469, 3453, 3567, 350, 427, 4052, 2979, 4621, 771, 3870, 3249, 1784, 2763, 6050, 2400, 515, 3682, 864, 3830, 4930, 620, 4199, 5468, 1613, 3432, 4127, 2561, 2496, 5846, 3094, 2962, 4426, 27, 6096, 5098, 5317, 3138, 3146, 935, 1289, 5157, 6458, 2572, 3215, 3859, 5263, 5079, 194, 2441, 2353, 538, 4807, 856, 4015, 3100, 3093, 5762, 5968, 5553, 2472, 2011, 3818, 3057, 1029, 1537, 25, 5805, 4788, 3103, 2445, 2695, 846, 790, 943, 4464, 1295, 1239, 5546, 3611, 6381, 3721, 1511, 6386, 3379, 6166, 5519, 3402, 1251, 103, 6133, 4432, 1660, 5064, 1743, 3086, 1672, 4732, 5709, 848, 1193, 1439, 2032, 6178, 4783, 4522, 2721, 4086, 5127, 707, 630, 3599, 6172, 1610, 611, 4074, 5753, 6028, 300, 2029, 3689, 6436, 5959, 2512, 6468, 784, 2355, 2237, 3693, 481, 883, 2121, 2728, 1913, 5613, 3202, 3384, 5044, 4527, 3948, 3576, 5550, 5402, 5706, 4544, 4088, 2177, 4884, 5065, 1509, 73, 5427, 4026, 4553, 4440, 6128, 2692, 5538, 5595, 1431, 401, 4096, 2339, 1782, 3982, 1870, 6098, 4647, 4515, 5359, 3850, 1503, 560, 5021, 5643, 4355, 3132, 3523, 2960, 3488, 5339, 587, 2408, 2261, 6498, 938, 6446, 5647, 703, 3433, 5454, 5601, 5775, 4969, 845, 4954, 5390, 3450, 1761, 1676, 6526, 6514, 565, 302, 3958, 960, 2819, 2263, 6051, 5341, 3209, 5483, 5123, 43, 5649, 2025, 443, 645, 2747, 3733, 6349, 998, 190, 2684, 2108, 3627, 2770, 1864, 4942, 2645, 5022, 6083, 3647, 97, 944, 2110, 4530, 125, 2745, 562, 1504, 5789, 4075, 1419, 6530, 3706, 2422, 3950, 4903, 4186, 1792, 1901, 1499, 6045, 1876, 1090, 4596, 622, 4361, 6405, 1293, 5206, 4951, 2818, 1688, 5036, 1164, 6422, 5732, 1546, 1649, 3292, 3750, 3798, 2861, 5278, 4463, 4122, 2473, 6058, 2301, 4271, 6214, 4481, 4252, 5527, 3161, 4063, 3962, 5766, 2553, 4011, 349, 267, 5612, 5384, 690, 2414, 5602, 4108, 15, 1652, 4113, 3441, 2674, 3222, 3250, 4542, 6411, 3902, 5061, 2328, 4750, 375, 77, 3996, 6546, 2028, 2336, 2122, 2946, 4862, 6412, 2814, 5130, 4007, 4879, 4002, 6092, 1977, 2666, 4495, 2154, 1203, 1453, 5319, 3696, 30, 3671, 5458, 6330, 2846, 199, 4202, 5324, 2714, 6456, 5476, 3497, 4650, 2094, 3154, 216, 5387, 3087, 5682, 5478, 6377, 774, 2073, 4798, 3023, 6540, 2474, 4896, 6433, 2027, 4576, 3174, 6543, 5295, 3385, 1189, 2599, 1544, 5859, 1626, 4745, 2688, 5485, 3673, 4534, 4947, 2316, 728, 370, 484, 5812, 3972, 4243, 4261, 5203, 2030, 4451, 5964, 5241, 1028, 2779, 6079, 2274, 111, 6053, 542, 2668, 5444, 534, 6360, 2228, 2746, 180, 3376, 4491, 4177, 5733, 69, 5056, 3675, 2157, 4443, 5930, 4968, 3273, 4462, 3037, 1280, 2919, 2495, 374, 718, 161, 4001, 1085, 4768, 599, 3040, 865, 2197, 1461, 3691, 2845, 155, 2926, 3945, 158, 3185, 358, 4653, 4448, 2987, 5599, 1097, 1830, 5118, 4387, 3791, 3597, 2910, 5887, 3181, 881, 2605, 1895, 6284, 311, 1573, 5298, 5063, 4898, 3741, 4300, 2942, 5615, 1615, 802, 5633, 3765, 929, 2797, 5457, 4382, 2670, 3967, 2498, 2224, 5866, 5569, 3465, 5188, 1165, 2809, 4219, 3259, 4396, 3968, 5932, 2433, 2288, 1623, 205, 5731, 4864, 4171, 2227, 5383, 2038, 2994, 3887, 3984, 5212, 4638, 3007, 3377, 1748, 5886, 4818, 1592, 1282, 3335, 2082, 1404, 4990, 5149, 2887, 5072, 6244, 5651, 1776, 1821, 5207, 2406, 3833, 4536, 3004, 5142, 4047, 2843, 4412, 3648, 631, 6481, 1771, 6492, 5882, 458, 5639, 2024, 2391, 2830, 2899, 1017, 6323, 3387, 6423, 3470, 4282, 1243, 1190, 3508, 1520, 3543, 483, 2895, 1005, 2063, 1201, 4704, 1861, 4545, 2348, 1774, 3077, 323, 2877, 6013, 2673, 2689, 1692, 2766, 3729, 1779, 1758, 4887, 6331, 6157, 2806, 2085, 6075, 867, 4957, 6108, 2575, 2167, 301, 6494, 4422, 3459, 2804, 4061, 1675, 3812, 2686, 5372, 3145, 930, 206, 1022, 2774, 4524, 6202, 482, 2251, 3749, 1252, 5604, 2090, 2504, 4434, 4366, 19, 4030, 5850, 2141, 274, 6116, 157, 5011, 4318, 4160, 2250, 6255, 4259, 726, 667, 4095, 4659, 616, 627, 3313, 3474, 3451, 3598, 3654, 3226, 5684, 3545, 3190, 4116, 6217, 3375, 2183, 4179, 1363, 1172, 2142, 3232, 445, 5755, 5977, 6164, 1023, 3297, 749, 2629, 5810, 2975, 5832, 6551, 2750, 3941, 4648, 6288, 2908, 5106, 1680, 588, 3736, 5125, 1942, 2017, 5515, 3364, 4564, 6519, 4395, 1163, 4227, 1371, 4154, 5916, 3308, 5160, 36, 2494, 4306, 3235, 2074, 5539, 2145, 4774, 4255, 1506, 4789, 1037, 2907, 239, 1738, 1205, 4173, 2964, 6200, 5071, 4721, 4815, 4643, 5915, 6056, 5487, 4187, 2664, 5126, 3016, 473, 5092, 3519, 531, 5201, 5786, 623, 203, 3092, 2737, 2782, 1159, 4766, 153, 2226, 2186, 6505, 1276, 5307, 6167, 5352, 1609, 2852, 4871, 423, 946, 4609, 3251, 4066, 312, 613, 2410, 4373, 6186, 1980, 1463, 3428, 2116, 3079, 1585, 1039, 4603, 5779, 4662, 551, 1732, 5455, 2928, 2081, 3740, 388, 597, 6326, 2972, 688, 3191, 3353, 6319, 5321, 1832, 4407, 5808, 1909, 3070, 4912, 4715, 5544, 1540, 3602, 5894, 2009, 5549, 4628, 2744, 5486, 5710, 1628, 940, 160, 3971, 4479, 4150, 2732, 2188, 5523, 5346, 1765, 3176, 628, 2333, 59, 5794, 4811, 2401, 4588, 3127, 1545, 5815, 851, 429, 4006, 1088, 512, 44, 2966, 3622, 5857, 2667, 2958, 446, 1954, 284, 3684, 3553, 5095, 4162, 1447, 3159, 4225, 2569, 3368, 4711, 2079, 6403, 220, 3294, 3066, 2850, 316, 4383, 2811, 543, 2532, 4556, 2509, 1602, 3922, 6369, 4948, 5403, 5180, 642, 2345, 4854, 4994, 4103, 5229, 3992, 6259, 3908, 1414, 4975, 6335, 62, 2865, 2072, 1611, 950, 5323, 1927, 1742, 1651, 4790, 2311, 4610, 6512, 3924, 507, 4379, 3609, 4686, 5947, 5913, 5592, 1262, 2330, 6224, 4716, 4466, 2643, 2711, 3261, 2277, 3800, 3600, 3952, 6443, 5946, 3358, 4305, 4009, 3864, 4377, 1241, 2650, 6442, 797, 3219, 3464, 4893, 1019, 3026, 3974, 1788, 5998, 1699, 3715, 2318, 6216, 116, 3544, 5050, 4413, 1015, 5259, 76, 115, 559, 4950, 779, 959, 6548, 4939, 5077, 1842, 3319, 5626, 3882, 5619, 5967, 1847, 1435, 2971, 4442, 1826, 3901, 4151, 4817, 1013, 844, 6048, 4733, 5294, 5701, 1344, 2761, 4473, 3606, 4986, 1654, 6179, 6334, 3008, 5842, 4000, 670, 6258, 3763, 2838, 3928, 2138, 1935, 6130, 383, 3532, 1911, 2973, 3869, 3112, 2231, 2768, 2679, 4376, 3879, 1873, 775, 2589, 1494, 2076, 1358, 3027, 5609, 5315, 5525, 3311, 5697, 605, 6346, 263, 1697, 4157, 1434, 2720, 1188, 4425, 2849, 3435, 5208, 3680, 2824, 2858, 4257, 1939, 2307, 2365, 3930, 6246, 1490, 4670, 2175, 3119, 6296, 1350, 3554, 3653, 2528, 2477, 4605, 1607, 3010, 5205, 3421, 6183, 6257, 6454, 5273, 691, 3412, 4206, 4905, 6351, 768, 177, 4885, 379, 1906, 4212, 2637, 4652, 4709, 3038, 1524, 1674, 2550, 2003, 3134, 260, 2560, 5559, 6193, 449, 75, 2661, 5361, 4304, 5798, 1979, 4810, 3056, 5548, 108, 217, 1996, 3727, 314, 2317, 3730, 3956, 1501, 3746, 5681, 5691, 1204, 2525, 1834, 2671, 4644, 3075, 1687, 2278, 3823, 5638, 287, 4861, 6212, 5404, 594, 2021, 5031, 5603, 3590, 606, 996, 1285, 1767, 750, 850, 4543, 6032, 1450, 1686, 5102, 1116, 474, 2915, 2913, 966, 3614, 2922, 6137, 4444, 2187, 1710, 2092, 1619, 1958, 3810, 4785, 915, 4144, 5872, 2611, 4828, 4145, 5145, 5852, 4485, 3405, 16, 6195, 1872, 6521, 344, 1133, 5465, 3499, 2697, 3708, 1850, 4289, 3898, 3776, 1076, 585, 6408, 1596, 5435, 3619, 1294, 2192, 4518, 4236, 1819, 3550, 2170, 1655, 948, 5159, 4192, 2759, 5051, 5281, 2419, 6352, 1428, 4080, 1998, 3524, 3872, 2430, 268, 3955, 2726, 3046, 5464, 1100, 2471, 4722, 641, 715, 4057, 2555, 785, 4560, 3953, 2644, 4964, 1089, 2342, 4604, 6033, 808, 4349, 2682, 5358, 1590, 5600, 3799, 4209, 3788, 270, 1255, 26, 2566, 2514, 6333, 3344, 6018, 2890, 6435, 2506, 5960, 2969, 4833, 4713, 4284, 2249, 277, 3663, 395, 6300, 5629, 5512, 5137, 4474, 3569, 683, 485, 4456, 4795, 469, 1213, 4401, 4780, 191, 3439, 3711, 6365, 1948, 4195, 838, 5124, 2828, 70, 3738, 6102, 2018, 3201, 5510, 1259, 5881, 5438, 6205, 4655, 6025, 4958, 315, 4852, 1323, 3821, 4352, 100, 2529, 1334, 2256, 5350, 1425, 5837, 4684, 5897, 211, 673, 3674, 2885, 1518, 3917, 305, 5809, 519, 1900, 5318, 1658, 2086, 2917, 1202, 3918, 2998, 3759, 5181, 4600, 2161, 6508, 3149, 4928, 3557, 705, 5956, 1268, 1181, 5560, 3862, 4067, 646, 1594, 1326, 5802, 2881, 6036, 5242, 3637, 5608, 2439, 5034, 21, 3724, 2601, 444, 5310, 540, 1105, 6427, 4867, 3796, 3913, 1484, 2246, 3687, 3572, 3390, 4279, 3858, 5562, 5100, 404, 6189, 6357, 2665, 5114, 2432, 5043, 2641, 3074, 5728, 2229, 504, 1462, 4971, 953, 2253, 3568, 3065, 1180, 866, 4316, 6027, 4554, 3097, 1914, 5268, 3062, 6094, 5014, 5148, 3801, 5024, 717, 795, 4729, 4093, 5280, 3401, 3090, 424, 5101, 4328, 1492, 3350, 4601, 2722, 1690, 2945, 3341, 849, 1770, 2860, 5944, 2182, 1297, 1683, 6017, 2583, 1508, 3710, 836, 137, 3909, 1449, 4539, 3028, 4506, 3773, 4196, 45, 2501, 2719, 924, 3058, 1101, 1405, 1586, 3537, 5425, 2258, 4583, 4214, 4627, 3779, 1707, 1837, 4312, 1374, 1572, 2026, 1485, 1781, 6539, 5284, 4309, 6432, 6299, 5343, 4292, 4998, 1653, 3556, 2008, 2483, 3095, 4857, 2270, 4356, 2595, 465, 6414, 2452, 5954, 3148, 6197, 6410, 3919, 6076, 1264, 2889, 3003, 179, 6294, 4406, 6169, 5978, 788, 2357, 3404, 1377, 3905, 614, 463, 2986, 2451, 52, 5807, 5858, 454, 3477, 878, 843, 3805, 2241, 6544, 6337, 1123, 3367, 382, 4633, 6329, 2314, 6362, 5514, 438, 1442, 3990, 1277, 4200, 4979, 1424, 5236, 138, 5690, 5075, 1362, 1618, 1298, 2327, 5943, 3816, 1333, 799, 2232, 3782, 3144, 265, 3503, 3024, 6040, 1182, 1583, 1745, 396, 4175, 4372, 4126, 5672, 1941, 1811, 51, 586, 5023, 1370, 218, 295, 1539, 3831, 1665, 4293, 4161, 2449, 5373, 3434, 304, 2510, 2798, 1529, 3083, 435, 476, 4858, 4476, 5689, 2075, 4014, 4906, 2856, 450, 3233, 1622, 1689, 2099, 1677, 1128, 4931, 5055, 3777, 2615, 4274, 4989, 3352, 4608, 4748, 5752, 2743, 3043]\n",
      "test ids:  [0, 1, 2, 3, 4, 5, 6, 7, 8, 9, 10, 11, 12, 40, 81, 82, 83, 84, 85, 86, 87, 88, 89, 90, 91, 92, 93, 94, 120, 162, 163, 164, 165, 166, 167, 168, 169, 170, 171, 172, 173, 174, 175, 200, 243, 244, 245, 246, 247, 248, 249, 250, 251, 252, 253, 254, 255, 256, 257, 280, 324, 325, 326, 327, 328, 329, 330, 331, 332, 333, 334, 335, 336, 337, 338, 339, 360, 405, 406, 407, 408, 409, 410, 411, 412, 413, 414, 415, 416, 417, 418, 419, 420, 421, 440, 486, 487, 488, 489, 490, 491, 492, 493, 494, 495, 496, 497, 498, 499, 500, 501, 502, 520, 567, 568, 569, 570, 571, 572, 573, 574, 575, 576, 577, 578, 579, 580, 581, 582, 583, 584, 600, 648, 649, 650, 651, 652, 653, 654, 655, 656, 657, 658, 659, 660, 661, 662, 663, 664, 665, 666, 680, 729, 730, 731, 732, 733, 734, 735, 736, 737, 738, 739, 740, 741, 742, 743, 744, 745, 746, 747, 748, 760, 810, 811, 812, 813, 814, 815, 816, 817, 818, 819, 820, 821, 822, 823, 824, 825, 826, 827, 828, 829, 840, 891, 892, 893, 894, 895, 896, 897, 898, 899, 900, 901, 902, 903, 904, 905, 906, 907, 908, 909, 910, 911, 920, 972, 973, 974, 975, 976, 977, 978, 979, 980, 981, 982, 983, 984, 985, 986, 987, 988, 989, 990, 991, 992, 993, 1000, 1053, 1054, 1055, 1056, 1057, 1058, 1059, 1060, 1061, 1062, 1063, 1064, 1065, 1066, 1067, 1068, 1069, 1070, 1071, 1072, 1073, 1074, 1075, 1080, 1135, 1136, 1137, 1138, 1139, 1140, 1141, 1142, 1143, 1144, 1145, 1146, 1147, 1148, 1149, 1150, 1151, 1152, 1153, 1154, 1155, 1156, 1160, 1217, 1218, 1219, 1220, 1221, 1222, 1223, 1224, 1225, 1226, 1227, 1228, 1229, 1230, 1231, 1232, 1233, 1234, 1235, 1236, 1237, 1238, 1240, 1300, 1301, 1302, 1303, 1304, 1305, 1306, 1307, 1308, 1309, 1310, 1311, 1312, 1313, 1314, 1315, 1316, 1317, 1318, 1319, 1320, 1382, 1383, 1384, 1385, 1386, 1387, 1388, 1389, 1390, 1391, 1392, 1393, 1394, 1395, 1396, 1397, 1398, 1399, 1400, 1401, 1465, 1466, 1467, 1468, 1469, 1470, 1471, 1472, 1473, 1474, 1475, 1476, 1477, 1478, 1479, 1480, 1481, 1482, 1483, 1547, 1548, 1549, 1550, 1551, 1552, 1553, 1554, 1555, 1556, 1557, 1558, 1559, 1560, 1561, 1562, 1563, 1564, 1565, 1629, 1630, 1631, 1632, 1633, 1634, 1635, 1636, 1637, 1638, 1639, 1640, 1641, 1642, 1643, 1644, 1645, 1646, 1647, 1700, 1712, 1713, 1714, 1715, 1716, 1717, 1718, 1719, 1720, 1721, 1722, 1723, 1724, 1725, 1726, 1727, 1728, 1780, 1794, 1795, 1796, 1797, 1798, 1799, 1800, 1801, 1802, 1803, 1804, 1805, 1806, 1807, 1808, 1809, 1810, 1860, 1877, 1878, 1879, 1880, 1881, 1882, 1883, 1884, 1885, 1886, 1887, 1888, 1889, 1890, 1891, 1892, 1940, 1959, 1960, 1961, 1962, 1963, 1964, 1965, 1966, 1967, 1968, 1969, 1970, 1971, 1972, 1973, 1974, 2020, 2040, 2041, 2042, 2043, 2044, 2045, 2046, 2047, 2048, 2049, 2050, 2051, 2052, 2053, 2054, 2055, 2100, 2120, 2124, 2125, 2126, 2127, 2128, 2129, 2130, 2131, 2132, 2133, 2134, 2135, 2136, 2137, 2180, 2200, 2206, 2207, 2208, 2209, 2210, 2211, 2212, 2213, 2214, 2215, 2216, 2217, 2218, 2219, 2260, 2280, 2289, 2290, 2291, 2292, 2293, 2294, 2295, 2296, 2297, 2298, 2299, 2300, 2340, 2360, 2371, 2372, 2373, 2374, 2375, 2376, 2377, 2378, 2379, 2380, 2381, 2382, 2420, 2440, 2454, 2455, 2456, 2457, 2458, 2459, 2460, 2461, 2462, 2463, 2464, 2500, 2520, 2536, 2537, 2538, 2539, 2540, 2541, 2542, 2543, 2544, 2545, 2546, 2580, 2600, 2618, 2619, 2620, 2621, 2622, 2623, 2624, 2625, 2626, 2627, 2660, 2680, 2701, 2702, 2703, 2704, 2705, 2706, 2707, 2708, 2709, 2740, 2760, 2783, 2784, 2785, 2786, 2787, 2788, 2789, 2790, 2791, 2820, 2840, 2866, 2867, 2868, 2869, 2870, 2871, 2872, 2873, 2900, 2920, 2948, 2949, 2950, 2951, 2952, 2953, 2954, 2980, 3000, 3030, 3031, 3032, 3033, 3034, 3035, 3036, 3060, 3080, 3113, 3114, 3115, 3116, 3117, 3118, 3140, 3160, 3195, 3196, 3197, 3198, 3199, 3200, 3220, 3240, 3278, 3279, 3280, 3281, 3300, 3360, 3361, 3362, 3363, 3380, 3443, 3444, 3445, 3460, 3525, 3526, 3540, 3607, 3608, 3620, 3690, 3700, 3772, 3780, 3854, 3860, 3936, 3940, 4018, 4019, 4020, 4099, 4100, 4101, 4180, 4181, 4182, 4183, 4260, 4263, 4264, 4265, 4266, 4340, 4345, 4346, 4347, 4348, 4420, 4427, 4428, 4429, 4430, 4431, 4500, 4508, 4509, 4510, 4511, 4512, 4513, 4580, 4590, 4591, 4592, 4593, 4594, 4595, 4660, 4672, 4673, 4674, 4675, 4676, 4677, 4678, 4740, 4753, 4754, 4755, 4756, 4757, 4758, 4759, 4760, 4820, 4835, 4836, 4837, 4838, 4839, 4840, 4841, 4842, 4843, 4900, 4917, 4918, 4919, 4920, 4921, 4922, 4923, 4924, 4925, 4980, 4999, 5000, 5001, 5002, 5003, 5004, 5005, 5006, 5007, 5060, 5080, 5081, 5082, 5083, 5084, 5085, 5086, 5087, 5088, 5089, 5090, 5140, 5162, 5163, 5164, 5165, 5166, 5167, 5168, 5169, 5170, 5171, 5172, 5220, 5244, 5245, 5246, 5247, 5248, 5249, 5250, 5251, 5252, 5253, 5254, 5255, 5300, 5326, 5327, 5328, 5329, 5330, 5331, 5332, 5333, 5334, 5335, 5336, 5337, 5380, 5407, 5408, 5409, 5410, 5411, 5412, 5413, 5414, 5415, 5416, 5417, 5418, 5419, 5420, 5460, 5489, 5490, 5491, 5492, 5493, 5494, 5495, 5496, 5497, 5498, 5499, 5500, 5501, 5502, 5540, 5571, 5572, 5573, 5574, 5575, 5576, 5577, 5578, 5579, 5580, 5581, 5582, 5583, 5584, 5620, 5653, 5654, 5655, 5656, 5657, 5658, 5659, 5660, 5661, 5662, 5663, 5664, 5665, 5666, 5667, 5700, 5734, 5735, 5736, 5737, 5738, 5739, 5740, 5741, 5742, 5743, 5744, 5745, 5746, 5747, 5748, 5749, 5780, 5816, 5817, 5818, 5819, 5820, 5821, 5822, 5823, 5824, 5825, 5826, 5827, 5828, 5829, 5830, 5831, 5860, 5898, 5899, 5900, 5901, 5902, 5903, 5904, 5905, 5906, 5907, 5908, 5909, 5910, 5911, 5912, 5940, 5979, 5980, 5981, 5982, 5983, 5984, 5985, 5986, 5987, 5988, 5989, 5990, 5991, 5992, 5993, 6020, 6061, 6062, 6063, 6064, 6065, 6066, 6067, 6068, 6069, 6070, 6071, 6072, 6073, 6074, 6100, 6143, 6144, 6145, 6146, 6147, 6148, 6149, 6150, 6151, 6152, 6153, 6154, 6155, 6180, 6225, 6226, 6227, 6228, 6229, 6230, 6231, 6232, 6233, 6234, 6235, 6236, 6260, 6306, 6307, 6308, 6309, 6310, 6311, 6312, 6313, 6314, 6315, 6316, 6317, 6340, 6388, 6389, 6390, 6391, 6392, 6393, 6394, 6395, 6396, 6397, 6398, 6420, 6470, 6471, 6472, 6473, 6474, 6475, 6476, 6477, 6478, 6479, 6500, 6552, 6553, 6554, 6555, 6556, 6557, 6558, 6559, 6560]\n",
      "CPU times: user 167 ms, sys: 12 ms, total: 178 ms\n",
      "Wall time: 177 ms\n"
     ]
    }
   ],
   "source": [
    "%%time\n",
    "n_total = len(simulation.dataframe)\n",
    "n_train = len(simulation.dataframe[simulation.dataframe.type_of == \"train\"])\n",
    "n_val = len(simulation.dataframe[simulation.dataframe.type_of == \"val\"])\n",
    "n_test = len(simulation.dataframe[simulation.dataframe.type_of == \"test\"])\n",
    "n_train_hamiltonians = len(simulation.train_ids)\n",
    "n_val_hamiltonians = len(simulation.val_ids)\n",
    "n_test_hamiltonians = len(simulation.test_ids)\n",
    "n_total_hamiltonians = n_train_hamiltonians + n_val_hamiltonians + n_test_hamiltonians\n",
    "\n",
    "print(\"% train: \", n_train/n_total)\n",
    "print(\"% val: \",  n_val/n_total)\n",
    "print(\"% test: \", n_test/n_total)\n",
    "print(\"% train + val + test: \", (n_train+n_val+n_test)/n_total)\n",
    "print(\"\\n\")\n",
    "print(\"number of train hamiltonians: \", n_train_hamiltonians)\n",
    "print(\"number of val hamiltonians: \", n_val_hamiltonians)\n",
    "print(\"number of test hamiltonians: \", n_test_hamiltonians)\n",
    "print(\"total number of hamiltonians: \", n_total_hamiltonians)\n",
    "print(\"\\n\")\n",
    "print(\"train ids: \", simulation.train_ids)\n",
    "print(\"val ids: \", simulation.val_ids)\n",
    "print(\"test ids: \", simulation.test_ids)"
   ]
  },
  {
   "cell_type": "markdown",
   "metadata": {
    "papermill": {
     "duration": 0.035533,
     "end_time": "2020-07-09T21:37:55.213897",
     "exception": false,
     "start_time": "2020-07-09T21:37:55.178364",
     "status": "completed"
    },
    "tags": []
   },
   "source": [
    "#### Checking summaries"
   ]
  },
  {
   "cell_type": "code",
   "execution_count": 27,
   "metadata": {
    "execution": {
     "iopub.execute_input": "2020-07-09T21:37:55.286191Z",
     "iopub.status.busy": "2020-07-09T21:37:55.285879Z",
     "iopub.status.idle": "2020-07-09T21:37:55.305662Z",
     "shell.execute_reply": "2020-07-09T21:37:55.305345Z"
    },
    "papermill": {
     "duration": 0.05669,
     "end_time": "2020-07-09T21:37:55.305712",
     "exception": false,
     "start_time": "2020-07-09T21:37:55.249022",
     "status": "completed"
    },
    "tags": []
   },
   "outputs": [
    {
     "name": "stdout",
     "output_type": "stream",
     "text": [
      "length of ham_summary:  6561\n",
      "CPU times: user 112 µs, sys: 0 ns, total: 112 µs\n",
      "Wall time: 85.1 µs\n"
     ]
    },
    {
     "data": {
      "text/html": [
       "<div>\n",
       "<style scoped>\n",
       "    .dataframe tbody tr th:only-of-type {\n",
       "        vertical-align: middle;\n",
       "    }\n",
       "\n",
       "    .dataframe tbody tr th {\n",
       "        vertical-align: top;\n",
       "    }\n",
       "\n",
       "    .dataframe thead th {\n",
       "        text-align: right;\n",
       "    }\n",
       "</style>\n",
       "<table border=\"1\" class=\"dataframe\">\n",
       "  <thead>\n",
       "    <tr style=\"text-align: right;\">\n",
       "      <th></th>\n",
       "      <th>t1</th>\n",
       "      <th>t2</th>\n",
       "      <th>type_of</th>\n",
       "      <th>-1</th>\n",
       "      <th>0</th>\n",
       "      <th>1</th>\n",
       "      <th>2</th>\n",
       "      <th>phase</th>\n",
       "      <th>pred_phase</th>\n",
       "    </tr>\n",
       "    <tr>\n",
       "      <th>id</th>\n",
       "      <th></th>\n",
       "      <th></th>\n",
       "      <th></th>\n",
       "      <th></th>\n",
       "      <th></th>\n",
       "      <th></th>\n",
       "      <th></th>\n",
       "      <th></th>\n",
       "      <th></th>\n",
       "    </tr>\n",
       "  </thead>\n",
       "  <tbody>\n",
       "    <tr>\n",
       "      <th>0</th>\n",
       "      <td>-2.0</td>\n",
       "      <td>-2.00</td>\n",
       "      <td>test</td>\n",
       "      <td>0.15</td>\n",
       "      <td>0.44</td>\n",
       "      <td>0.18</td>\n",
       "      <td>0.23</td>\n",
       "      <td>999</td>\n",
       "      <td>0</td>\n",
       "    </tr>\n",
       "    <tr>\n",
       "      <th>1</th>\n",
       "      <td>-2.0</td>\n",
       "      <td>-1.95</td>\n",
       "      <td>test</td>\n",
       "      <td>0.17</td>\n",
       "      <td>0.42</td>\n",
       "      <td>0.20</td>\n",
       "      <td>0.21</td>\n",
       "      <td>-1</td>\n",
       "      <td>0</td>\n",
       "    </tr>\n",
       "    <tr>\n",
       "      <th>2</th>\n",
       "      <td>-2.0</td>\n",
       "      <td>-1.90</td>\n",
       "      <td>test</td>\n",
       "      <td>0.20</td>\n",
       "      <td>0.41</td>\n",
       "      <td>0.18</td>\n",
       "      <td>0.21</td>\n",
       "      <td>-1</td>\n",
       "      <td>0</td>\n",
       "    </tr>\n",
       "    <tr>\n",
       "      <th>3</th>\n",
       "      <td>-2.0</td>\n",
       "      <td>-1.85</td>\n",
       "      <td>test</td>\n",
       "      <td>0.17</td>\n",
       "      <td>0.43</td>\n",
       "      <td>0.20</td>\n",
       "      <td>0.20</td>\n",
       "      <td>-1</td>\n",
       "      <td>0</td>\n",
       "    </tr>\n",
       "    <tr>\n",
       "      <th>4</th>\n",
       "      <td>-2.0</td>\n",
       "      <td>-1.80</td>\n",
       "      <td>test</td>\n",
       "      <td>0.25</td>\n",
       "      <td>0.40</td>\n",
       "      <td>0.17</td>\n",
       "      <td>0.18</td>\n",
       "      <td>-1</td>\n",
       "      <td>0</td>\n",
       "    </tr>\n",
       "    <tr>\n",
       "      <th>...</th>\n",
       "      <td>...</td>\n",
       "      <td>...</td>\n",
       "      <td>...</td>\n",
       "      <td>...</td>\n",
       "      <td>...</td>\n",
       "      <td>...</td>\n",
       "      <td>...</td>\n",
       "      <td>...</td>\n",
       "      <td>...</td>\n",
       "    </tr>\n",
       "    <tr>\n",
       "      <th>6556</th>\n",
       "      <td>2.0</td>\n",
       "      <td>1.80</td>\n",
       "      <td>test</td>\n",
       "      <td>0.38</td>\n",
       "      <td>0.13</td>\n",
       "      <td>0.07</td>\n",
       "      <td>0.42</td>\n",
       "      <td>-1</td>\n",
       "      <td>2</td>\n",
       "    </tr>\n",
       "    <tr>\n",
       "      <th>6557</th>\n",
       "      <td>2.0</td>\n",
       "      <td>1.85</td>\n",
       "      <td>test</td>\n",
       "      <td>0.33</td>\n",
       "      <td>0.16</td>\n",
       "      <td>0.07</td>\n",
       "      <td>0.44</td>\n",
       "      <td>-1</td>\n",
       "      <td>2</td>\n",
       "    </tr>\n",
       "    <tr>\n",
       "      <th>6558</th>\n",
       "      <td>2.0</td>\n",
       "      <td>1.90</td>\n",
       "      <td>test</td>\n",
       "      <td>0.26</td>\n",
       "      <td>0.15</td>\n",
       "      <td>0.10</td>\n",
       "      <td>0.49</td>\n",
       "      <td>-1</td>\n",
       "      <td>2</td>\n",
       "    </tr>\n",
       "    <tr>\n",
       "      <th>6559</th>\n",
       "      <td>2.0</td>\n",
       "      <td>1.95</td>\n",
       "      <td>test</td>\n",
       "      <td>0.25</td>\n",
       "      <td>0.16</td>\n",
       "      <td>0.09</td>\n",
       "      <td>0.50</td>\n",
       "      <td>-1</td>\n",
       "      <td>2</td>\n",
       "    </tr>\n",
       "    <tr>\n",
       "      <th>6560</th>\n",
       "      <td>2.0</td>\n",
       "      <td>2.00</td>\n",
       "      <td>test</td>\n",
       "      <td>0.22</td>\n",
       "      <td>0.17</td>\n",
       "      <td>0.12</td>\n",
       "      <td>0.49</td>\n",
       "      <td>999</td>\n",
       "      <td>2</td>\n",
       "    </tr>\n",
       "  </tbody>\n",
       "</table>\n",
       "<p>6561 rows × 9 columns</p>\n",
       "</div>"
      ],
      "text/plain": [
       "       t1    t2 type_of    -1     0     1     2  phase  pred_phase\n",
       "id                                                                \n",
       "0    -2.0 -2.00    test  0.15  0.44  0.18  0.23    999           0\n",
       "1    -2.0 -1.95    test  0.17  0.42  0.20  0.21     -1           0\n",
       "2    -2.0 -1.90    test  0.20  0.41  0.18  0.21     -1           0\n",
       "3    -2.0 -1.85    test  0.17  0.43  0.20  0.20     -1           0\n",
       "4    -2.0 -1.80    test  0.25  0.40  0.17  0.18     -1           0\n",
       "...   ...   ...     ...   ...   ...   ...   ...    ...         ...\n",
       "6556  2.0  1.80    test  0.38  0.13  0.07  0.42     -1           2\n",
       "6557  2.0  1.85    test  0.33  0.16  0.07  0.44     -1           2\n",
       "6558  2.0  1.90    test  0.26  0.15  0.10  0.49     -1           2\n",
       "6559  2.0  1.95    test  0.25  0.16  0.09  0.50     -1           2\n",
       "6560  2.0  2.00    test  0.22  0.17  0.12  0.49    999           2\n",
       "\n",
       "[6561 rows x 9 columns]"
      ]
     },
     "execution_count": 27,
     "metadata": {},
     "output_type": "execute_result"
    }
   ],
   "source": [
    "%%time\n",
    "ham_summary = simulation.hamiltonian_summary\n",
    "print(\"length of ham_summary: \", len(ham_summary))\n",
    "ham_summary"
   ]
  },
  {
   "cell_type": "code",
   "execution_count": 28,
   "metadata": {
    "execution": {
     "iopub.execute_input": "2020-07-09T21:37:55.380862Z",
     "iopub.status.busy": "2020-07-09T21:37:55.380478Z",
     "iopub.status.idle": "2020-07-09T21:37:55.412200Z",
     "shell.execute_reply": "2020-07-09T21:37:55.411878Z"
    },
    "papermill": {
     "duration": 0.070048,
     "end_time": "2020-07-09T21:37:55.412251",
     "exception": false,
     "start_time": "2020-07-09T21:37:55.342203",
     "status": "completed"
    },
    "tags": []
   },
   "outputs": [
    {
     "data": {
      "text/html": [
       "<div>\n",
       "<style scoped>\n",
       "    .dataframe tbody tr th:only-of-type {\n",
       "        vertical-align: middle;\n",
       "    }\n",
       "\n",
       "    .dataframe tbody tr th {\n",
       "        vertical-align: top;\n",
       "    }\n",
       "\n",
       "    .dataframe thead th {\n",
       "        text-align: right;\n",
       "    }\n",
       "</style>\n",
       "<table border=\"1\" class=\"dataframe\">\n",
       "  <thead>\n",
       "    <tr style=\"text-align: right;\">\n",
       "      <th></th>\n",
       "      <th>t1</th>\n",
       "      <th>t2</th>\n",
       "      <th>-1</th>\n",
       "      <th>0</th>\n",
       "      <th>1</th>\n",
       "      <th>2</th>\n",
       "      <th>phase</th>\n",
       "      <th>pred_phase</th>\n",
       "    </tr>\n",
       "  </thead>\n",
       "  <tbody>\n",
       "    <tr>\n",
       "      <th>count</th>\n",
       "      <td>6561.000000</td>\n",
       "      <td>6.561000e+03</td>\n",
       "      <td>6561.000000</td>\n",
       "      <td>6561.000000</td>\n",
       "      <td>6561.000000</td>\n",
       "      <td>6561.000000</td>\n",
       "      <td>6561.000000</td>\n",
       "      <td>6561.000000</td>\n",
       "    </tr>\n",
       "    <tr>\n",
       "      <th>mean</th>\n",
       "      <td>0.000000</td>\n",
       "      <td>-4.331917e-18</td>\n",
       "      <td>0.195411</td>\n",
       "      <td>0.310469</td>\n",
       "      <td>0.303853</td>\n",
       "      <td>0.190267</td>\n",
       "      <td>28.045877</td>\n",
       "      <td>0.492760</td>\n",
       "    </tr>\n",
       "    <tr>\n",
       "      <th>std</th>\n",
       "      <td>1.169134</td>\n",
       "      <td>1.169134e+00</td>\n",
       "      <td>0.367594</td>\n",
       "      <td>0.437420</td>\n",
       "      <td>0.439367</td>\n",
       "      <td>0.363926</td>\n",
       "      <td>163.557011</td>\n",
       "      <td>1.022454</td>\n",
       "    </tr>\n",
       "    <tr>\n",
       "      <th>min</th>\n",
       "      <td>-2.000000</td>\n",
       "      <td>-2.000000e+00</td>\n",
       "      <td>0.000000</td>\n",
       "      <td>0.000000</td>\n",
       "      <td>0.000000</td>\n",
       "      <td>0.000000</td>\n",
       "      <td>-1.000000</td>\n",
       "      <td>-1.000000</td>\n",
       "    </tr>\n",
       "    <tr>\n",
       "      <th>25%</th>\n",
       "      <td>-1.000000</td>\n",
       "      <td>-1.000000e+00</td>\n",
       "      <td>0.000000</td>\n",
       "      <td>0.000000</td>\n",
       "      <td>0.000000</td>\n",
       "      <td>0.000000</td>\n",
       "      <td>0.000000</td>\n",
       "      <td>0.000000</td>\n",
       "    </tr>\n",
       "    <tr>\n",
       "      <th>50%</th>\n",
       "      <td>0.000000</td>\n",
       "      <td>0.000000e+00</td>\n",
       "      <td>0.000000</td>\n",
       "      <td>0.000000</td>\n",
       "      <td>0.000000</td>\n",
       "      <td>0.000000</td>\n",
       "      <td>1.000000</td>\n",
       "      <td>0.000000</td>\n",
       "    </tr>\n",
       "    <tr>\n",
       "      <th>75%</th>\n",
       "      <td>1.000000</td>\n",
       "      <td>1.000000e+00</td>\n",
       "      <td>0.100000</td>\n",
       "      <td>0.980000</td>\n",
       "      <td>0.980000</td>\n",
       "      <td>0.060000</td>\n",
       "      <td>1.000000</td>\n",
       "      <td>1.000000</td>\n",
       "    </tr>\n",
       "    <tr>\n",
       "      <th>max</th>\n",
       "      <td>2.000000</td>\n",
       "      <td>2.000000e+00</td>\n",
       "      <td>1.000000</td>\n",
       "      <td>1.000000</td>\n",
       "      <td>1.000000</td>\n",
       "      <td>1.000000</td>\n",
       "      <td>999.000000</td>\n",
       "      <td>2.000000</td>\n",
       "    </tr>\n",
       "  </tbody>\n",
       "</table>\n",
       "</div>"
      ],
      "text/plain": [
       "                t1            t2           -1            0            1  \\\n",
       "count  6561.000000  6.561000e+03  6561.000000  6561.000000  6561.000000   \n",
       "mean      0.000000 -4.331917e-18     0.195411     0.310469     0.303853   \n",
       "std       1.169134  1.169134e+00     0.367594     0.437420     0.439367   \n",
       "min      -2.000000 -2.000000e+00     0.000000     0.000000     0.000000   \n",
       "25%      -1.000000 -1.000000e+00     0.000000     0.000000     0.000000   \n",
       "50%       0.000000  0.000000e+00     0.000000     0.000000     0.000000   \n",
       "75%       1.000000  1.000000e+00     0.100000     0.980000     0.980000   \n",
       "max       2.000000  2.000000e+00     1.000000     1.000000     1.000000   \n",
       "\n",
       "                 2        phase   pred_phase  \n",
       "count  6561.000000  6561.000000  6561.000000  \n",
       "mean      0.190267    28.045877     0.492760  \n",
       "std       0.363926   163.557011     1.022454  \n",
       "min       0.000000    -1.000000    -1.000000  \n",
       "25%       0.000000     0.000000     0.000000  \n",
       "50%       0.000000     1.000000     0.000000  \n",
       "75%       0.060000     1.000000     1.000000  \n",
       "max       1.000000   999.000000     2.000000  "
      ]
     },
     "execution_count": 28,
     "metadata": {},
     "output_type": "execute_result"
    }
   ],
   "source": [
    "ham_summary.describe()"
   ]
  },
  {
   "cell_type": "code",
   "execution_count": 29,
   "metadata": {
    "execution": {
     "iopub.execute_input": "2020-07-09T21:37:55.488509Z",
     "iopub.status.busy": "2020-07-09T21:37:55.488186Z",
     "iopub.status.idle": "2020-07-09T21:37:55.502651Z",
     "shell.execute_reply": "2020-07-09T21:37:55.502954Z"
    },
    "papermill": {
     "duration": 0.053601,
     "end_time": "2020-07-09T21:37:55.503018",
     "exception": false,
     "start_time": "2020-07-09T21:37:55.449417",
     "status": "completed"
    },
    "tags": []
   },
   "outputs": [
    {
     "name": "stdout",
     "output_type": "stream",
     "text": [
      "length of ham_summary:  656100\n"
     ]
    },
    {
     "data": {
      "text/html": [
       "<div>\n",
       "<style scoped>\n",
       "    .dataframe tbody tr th:only-of-type {\n",
       "        vertical-align: middle;\n",
       "    }\n",
       "\n",
       "    .dataframe tbody tr th {\n",
       "        vertical-align: top;\n",
       "    }\n",
       "\n",
       "    .dataframe thead th {\n",
       "        text-align: right;\n",
       "    }\n",
       "</style>\n",
       "<table border=\"1\" class=\"dataframe\">\n",
       "  <thead>\n",
       "    <tr style=\"text-align: right;\">\n",
       "      <th></th>\n",
       "      <th>id</th>\n",
       "      <th>phase</th>\n",
       "      <th>pred_phase</th>\n",
       "      <th>type_of</th>\n",
       "    </tr>\n",
       "  </thead>\n",
       "  <tbody>\n",
       "    <tr>\n",
       "      <th>0</th>\n",
       "      <td>0</td>\n",
       "      <td>999</td>\n",
       "      <td>-1</td>\n",
       "      <td>test</td>\n",
       "    </tr>\n",
       "    <tr>\n",
       "      <th>1</th>\n",
       "      <td>0</td>\n",
       "      <td>999</td>\n",
       "      <td>-1</td>\n",
       "      <td>test</td>\n",
       "    </tr>\n",
       "    <tr>\n",
       "      <th>2</th>\n",
       "      <td>0</td>\n",
       "      <td>999</td>\n",
       "      <td>1</td>\n",
       "      <td>test</td>\n",
       "    </tr>\n",
       "    <tr>\n",
       "      <th>3</th>\n",
       "      <td>0</td>\n",
       "      <td>999</td>\n",
       "      <td>-1</td>\n",
       "      <td>test</td>\n",
       "    </tr>\n",
       "    <tr>\n",
       "      <th>4</th>\n",
       "      <td>0</td>\n",
       "      <td>999</td>\n",
       "      <td>2</td>\n",
       "      <td>test</td>\n",
       "    </tr>\n",
       "    <tr>\n",
       "      <th>...</th>\n",
       "      <td>...</td>\n",
       "      <td>...</td>\n",
       "      <td>...</td>\n",
       "      <td>...</td>\n",
       "    </tr>\n",
       "    <tr>\n",
       "      <th>656095</th>\n",
       "      <td>6560</td>\n",
       "      <td>999</td>\n",
       "      <td>2</td>\n",
       "      <td>test</td>\n",
       "    </tr>\n",
       "    <tr>\n",
       "      <th>656096</th>\n",
       "      <td>6560</td>\n",
       "      <td>999</td>\n",
       "      <td>-1</td>\n",
       "      <td>test</td>\n",
       "    </tr>\n",
       "    <tr>\n",
       "      <th>656097</th>\n",
       "      <td>6560</td>\n",
       "      <td>999</td>\n",
       "      <td>2</td>\n",
       "      <td>test</td>\n",
       "    </tr>\n",
       "    <tr>\n",
       "      <th>656098</th>\n",
       "      <td>6560</td>\n",
       "      <td>999</td>\n",
       "      <td>1</td>\n",
       "      <td>test</td>\n",
       "    </tr>\n",
       "    <tr>\n",
       "      <th>656099</th>\n",
       "      <td>6560</td>\n",
       "      <td>999</td>\n",
       "      <td>0</td>\n",
       "      <td>test</td>\n",
       "    </tr>\n",
       "  </tbody>\n",
       "</table>\n",
       "<p>656100 rows × 4 columns</p>\n",
       "</div>"
      ],
      "text/plain": [
       "          id  phase  pred_phase type_of\n",
       "0          0    999          -1    test\n",
       "1          0    999          -1    test\n",
       "2          0    999           1    test\n",
       "3          0    999          -1    test\n",
       "4          0    999           2    test\n",
       "...      ...    ...         ...     ...\n",
       "656095  6560    999           2    test\n",
       "656096  6560    999          -1    test\n",
       "656097  6560    999           2    test\n",
       "656098  6560    999           1    test\n",
       "656099  6560    999           0    test\n",
       "\n",
       "[656100 rows x 4 columns]"
      ]
     },
     "execution_count": 29,
     "metadata": {},
     "output_type": "execute_result"
    }
   ],
   "source": [
    "eigen_summary = simulation.eigenvector_summary\n",
    "print(\"length of ham_summary: \", len(eigen_summary))\n",
    "eigen_summary"
   ]
  },
  {
   "cell_type": "markdown",
   "metadata": {
    "papermill": {
     "duration": 0.036279,
     "end_time": "2020-07-09T21:37:55.576257",
     "exception": false,
     "start_time": "2020-07-09T21:37:55.539978",
     "status": "completed"
    },
    "tags": []
   },
   "source": [
    "#### Checking accuracies"
   ]
  },
  {
   "cell_type": "code",
   "execution_count": 30,
   "metadata": {
    "execution": {
     "iopub.execute_input": "2020-07-09T21:37:55.652744Z",
     "iopub.status.busy": "2020-07-09T21:37:55.652430Z",
     "iopub.status.idle": "2020-07-09T21:37:55.663588Z",
     "shell.execute_reply": "2020-07-09T21:37:55.663867Z"
    },
    "papermill": {
     "duration": 0.050576,
     "end_time": "2020-07-09T21:37:55.663942",
     "exception": false,
     "start_time": "2020-07-09T21:37:55.613366",
     "status": "completed"
    },
    "tags": []
   },
   "outputs": [
    {
     "data": {
      "text/plain": [
       "{'eigenvector_train': 0.999623324882289,\n",
       " 'eigenvector_val': 0.9739782608695652,\n",
       " 'eigenvector_test': 0.6926076833527357,\n",
       " 'hamiltonian_train': 1.0,\n",
       " 'hamiltonian_val': 0.9974637681159421,\n",
       " 'hamiltonian_test': 0.8905704307334109}"
      ]
     },
     "execution_count": 30,
     "metadata": {},
     "output_type": "execute_result"
    }
   ],
   "source": [
    "simulation.accuracy"
   ]
  },
  {
   "cell_type": "markdown",
   "metadata": {
    "papermill": {
     "duration": 0.036708,
     "end_time": "2020-07-09T21:37:55.737287",
     "exception": false,
     "start_time": "2020-07-09T21:37:55.700579",
     "status": "completed"
    },
    "tags": []
   },
   "source": [
    "#### Checking data stored in  memory"
   ]
  },
  {
   "cell_type": "code",
   "execution_count": 31,
   "metadata": {
    "execution": {
     "iopub.execute_input": "2020-07-09T21:37:55.814005Z",
     "iopub.status.busy": "2020-07-09T21:37:55.813674Z",
     "iopub.status.idle": "2020-07-09T21:37:55.824211Z",
     "shell.execute_reply": "2020-07-09T21:37:55.823885Z"
    },
    "papermill": {
     "duration": 0.049647,
     "end_time": "2020-07-09T21:37:55.824262",
     "exception": false,
     "start_time": "2020-07-09T21:37:55.774615",
     "status": "completed"
    },
    "tags": []
   },
   "outputs": [
    {
     "data": {
      "text/plain": [
       "[]"
      ]
     },
     "execution_count": 31,
     "metadata": {},
     "output_type": "execute_result"
    }
   ],
   "source": [
    "ham_summary_list = simulation.hamiltonian_summary_list\n",
    "ham_summary_list"
   ]
  },
  {
   "cell_type": "code",
   "execution_count": 32,
   "metadata": {
    "execution": {
     "iopub.execute_input": "2020-07-09T21:37:55.900460Z",
     "iopub.status.busy": "2020-07-09T21:37:55.900137Z",
     "iopub.status.idle": "2020-07-09T21:37:55.910014Z",
     "shell.execute_reply": "2020-07-09T21:37:55.910319Z"
    },
    "papermill": {
     "duration": 0.049038,
     "end_time": "2020-07-09T21:37:55.910383",
     "exception": false,
     "start_time": "2020-07-09T21:37:55.861345",
     "status": "completed"
    },
    "tags": []
   },
   "outputs": [
    {
     "data": {
      "text/plain": [
       "[]"
      ]
     },
     "execution_count": 32,
     "metadata": {},
     "output_type": "execute_result"
    }
   ],
   "source": [
    "eigen_summary_list = simulation.eigenvector_summary_list\n",
    "eigen_summary_list"
   ]
  },
  {
   "cell_type": "code",
   "execution_count": 33,
   "metadata": {
    "execution": {
     "iopub.execute_input": "2020-07-09T21:37:55.989037Z",
     "iopub.status.busy": "2020-07-09T21:37:55.988723Z",
     "iopub.status.idle": "2020-07-09T21:37:55.998864Z",
     "shell.execute_reply": "2020-07-09T21:37:55.999172Z"
    },
    "papermill": {
     "duration": 0.05002,
     "end_time": "2020-07-09T21:37:55.999237",
     "exception": false,
     "start_time": "2020-07-09T21:37:55.949217",
     "status": "completed"
    },
    "tags": []
   },
   "outputs": [
    {
     "data": {
      "text/plain": [
       "{'eigenvector_train': [],\n",
       " 'eigenvector_val': [],\n",
       " 'eigenvector_test': [],\n",
       " 'hamiltonian_train': [],\n",
       " 'hamiltonian_val': [],\n",
       " 'hamiltonian_test': []}"
      ]
     },
     "execution_count": 33,
     "metadata": {},
     "output_type": "execute_result"
    }
   ],
   "source": [
    "accuracy_list = simulation.accuracy_list\n",
    "accuracy_list"
   ]
  },
  {
   "cell_type": "code",
   "execution_count": null,
   "metadata": {
    "papermill": {
     "duration": 0.036966,
     "end_time": "2020-07-09T21:37:56.073355",
     "exception": false,
     "start_time": "2020-07-09T21:37:56.036389",
     "status": "completed"
    },
    "tags": []
   },
   "outputs": [],
   "source": []
  },
  {
   "cell_type": "code",
   "execution_count": null,
   "metadata": {
    "papermill": {
     "duration": 0.037415,
     "end_time": "2020-07-09T21:37:56.149551",
     "exception": false,
     "start_time": "2020-07-09T21:37:56.112136",
     "status": "completed"
    },
    "tags": []
   },
   "outputs": [],
   "source": []
  },
  {
   "cell_type": "code",
   "execution_count": 34,
   "metadata": {
    "execution": {
     "iopub.execute_input": "2020-07-09T21:37:56.225610Z",
     "iopub.status.busy": "2020-07-09T21:37:56.225299Z",
     "iopub.status.idle": "2020-07-09T21:37:56.234695Z",
     "shell.execute_reply": "2020-07-09T21:37:56.235013Z"
    },
    "papermill": {
     "duration": 0.048518,
     "end_time": "2020-07-09T21:37:56.235081",
     "exception": false,
     "start_time": "2020-07-09T21:37:56.186563",
     "status": "completed"
    },
    "tags": []
   },
   "outputs": [],
   "source": [
    "#simulation.fourier_matrix"
   ]
  },
  {
   "cell_type": "code",
   "execution_count": 35,
   "metadata": {
    "execution": {
     "iopub.execute_input": "2020-07-09T21:37:56.312966Z",
     "iopub.status.busy": "2020-07-09T21:37:56.312654Z",
     "iopub.status.idle": "2020-07-09T21:37:56.322628Z",
     "shell.execute_reply": "2020-07-09T21:37:56.322274Z"
    },
    "papermill": {
     "duration": 0.049434,
     "end_time": "2020-07-09T21:37:56.322681",
     "exception": false,
     "start_time": "2020-07-09T21:37:56.273247",
     "status": "completed"
    },
    "tags": []
   },
   "outputs": [],
   "source": [
    "#simulation.fourier_matrix.shape"
   ]
  },
  {
   "cell_type": "code",
   "execution_count": 36,
   "metadata": {
    "execution": {
     "iopub.execute_input": "2020-07-09T21:37:56.399552Z",
     "iopub.status.busy": "2020-07-09T21:37:56.399232Z",
     "iopub.status.idle": "2020-07-09T21:37:56.462425Z",
     "shell.execute_reply": "2020-07-09T21:37:56.460663Z"
    },
    "papermill": {
     "duration": 0.102651,
     "end_time": "2020-07-09T21:37:56.462679",
     "exception": false,
     "start_time": "2020-07-09T21:37:56.360028",
     "status": "completed"
    },
    "tags": []
   },
   "outputs": [],
   "source": [
    "#simulation.fourier_matrix[:,0]"
   ]
  },
  {
   "cell_type": "code",
   "execution_count": 37,
   "metadata": {
    "execution": {
     "iopub.execute_input": "2020-07-09T21:37:56.576516Z",
     "iopub.status.busy": "2020-07-09T21:37:56.576195Z",
     "iopub.status.idle": "2020-07-09T21:37:56.586924Z",
     "shell.execute_reply": "2020-07-09T21:37:56.586577Z"
    },
    "papermill": {
     "duration": 0.050579,
     "end_time": "2020-07-09T21:37:56.586977",
     "exception": false,
     "start_time": "2020-07-09T21:37:56.536398",
     "status": "completed"
    },
    "tags": []
   },
   "outputs": [],
   "source": [
    "#simulation.fourier_matrix[:,1]"
   ]
  },
  {
   "cell_type": "code",
   "execution_count": 38,
   "metadata": {
    "execution": {
     "iopub.execute_input": "2020-07-09T21:37:56.664328Z",
     "iopub.status.busy": "2020-07-09T21:37:56.663976Z",
     "iopub.status.idle": "2020-07-09T21:37:56.673988Z",
     "shell.execute_reply": "2020-07-09T21:37:56.673703Z"
    },
    "papermill": {
     "duration": 0.04953,
     "end_time": "2020-07-09T21:37:56.674041",
     "exception": false,
     "start_time": "2020-07-09T21:37:56.624511",
     "status": "completed"
    },
    "tags": []
   },
   "outputs": [],
   "source": [
    "#np.exp(-1j*2*np.pi*3/100)"
   ]
  },
  {
   "cell_type": "code",
   "execution_count": 39,
   "metadata": {
    "execution": {
     "iopub.execute_input": "2020-07-09T21:37:56.752893Z",
     "iopub.status.busy": "2020-07-09T21:37:56.752575Z",
     "iopub.status.idle": "2020-07-09T21:37:56.812611Z",
     "shell.execute_reply": "2020-07-09T21:37:56.810822Z"
    },
    "papermill": {
     "duration": 0.100429,
     "end_time": "2020-07-09T21:37:56.812862",
     "exception": false,
     "start_time": "2020-07-09T21:37:56.712433",
     "status": "completed"
    },
    "tags": []
   },
   "outputs": [],
   "source": [
    "#for i in range(1,50):\n",
    "#    print(\"\\n\")\n",
    "#    print(i)\n",
    "#    print(np.sum((np.real(simulation.fourier_matrix[:,i]) - np.real(simulation.fourier_matrix[:,-i]))**2))\n",
    "#    print(np.sum((np.imag(simulation.fourier_matrix[:,i])+ np.imag(simulation.fourier_matrix[:,-i]))**2))"
   ]
  },
  {
   "cell_type": "code",
   "execution_count": 40,
   "metadata": {
    "execution": {
     "iopub.execute_input": "2020-07-09T21:37:56.924902Z",
     "iopub.status.busy": "2020-07-09T21:37:56.924588Z",
     "iopub.status.idle": "2020-07-09T21:37:56.935231Z",
     "shell.execute_reply": "2020-07-09T21:37:56.934947Z"
    },
    "papermill": {
     "duration": 0.050064,
     "end_time": "2020-07-09T21:37:56.935287",
     "exception": false,
     "start_time": "2020-07-09T21:37:56.885223",
     "status": "completed"
    },
    "tags": []
   },
   "outputs": [],
   "source": [
    "#print(simulation.fourier_matrix[:,0])"
   ]
  },
  {
   "cell_type": "code",
   "execution_count": 41,
   "metadata": {
    "execution": {
     "iopub.execute_input": "2020-07-09T21:37:57.014149Z",
     "iopub.status.busy": "2020-07-09T21:37:57.013821Z",
     "iopub.status.idle": "2020-07-09T21:37:57.024102Z",
     "shell.execute_reply": "2020-07-09T21:37:57.023764Z"
    },
    "papermill": {
     "duration": 0.050513,
     "end_time": "2020-07-09T21:37:57.024154",
     "exception": false,
     "start_time": "2020-07-09T21:37:56.973641",
     "status": "completed"
    },
    "tags": []
   },
   "outputs": [],
   "source": [
    "#print(simulation.fourier_matrix[:,50])"
   ]
  },
  {
   "cell_type": "code",
   "execution_count": null,
   "metadata": {
    "papermill": {
     "duration": 0.037483,
     "end_time": "2020-07-09T21:37:57.099285",
     "exception": false,
     "start_time": "2020-07-09T21:37:57.061802",
     "status": "completed"
    },
    "tags": []
   },
   "outputs": [],
   "source": []
  }
 ],
 "metadata": {
  "celltoolbar": "Tags",
  "kernelspec": {
   "display_name": "ml_top_phases",
   "language": "python",
   "name": "ml_top_phases"
  },
  "language_info": {
   "codemirror_mode": {
    "name": "ipython",
    "version": 3
   },
   "file_extension": ".py",
   "mimetype": "text/x-python",
   "name": "python",
   "nbconvert_exporter": "python",
   "pygments_lexer": "ipython3",
   "version": "3.6.10"
  },
  "papermill": {
   "duration": 3882.582616,
   "end_time": "2020-07-09T21:37:57.247033",
   "environment_variables": {},
   "exception": null,
   "input_path": "0_simulation_template.ipynb",
   "output_path": "zzz_simulation_output_ssh2_4th_scenario_100_6561.ipynb",
   "parameters": {
    "allowed_windings": [
     -1,
     0,
     1,
     2
    ],
    "csv_path": "/home/rio/ssh_csvs/ssh2/periodic_100_6561.csv",
    "features_to_use": null,
    "fillna": false,
    "fit_params": null,
    "fourier_features_to_use": [
     0,
     1,
     2,
     3,
     4,
     5,
     6,
     7,
     8,
     9,
     10,
     11,
     12,
     13,
     14,
     15,
     16,
     17,
     18,
     19,
     20,
     21,
     22,
     23,
     24,
     25,
     26,
     27,
     28,
     29,
     30,
     31,
     32,
     33,
     34,
     35,
     36,
     37,
     38,
     39,
     40,
     41,
     42,
     43,
     44,
     45,
     46,
     47,
     48,
     49,
     50
    ],
    "fourier_fillna": false,
    "fourier_mode": "dct",
    "fourier_normalize": false,
    "fourier_real": null,
    "model_kw": {
     "criterion": "entropy",
     "n_estimators": 25,
     "n_jobs": -1
    },
    "model_name": "RandomForestClassifier",
    "n_experiments": 100,
    "normalize": false,
    "pred_params": null,
    "random_features": false,
    "random_state": 548936312,
    "save_accuracy": true,
    "save_eigenvector": true,
    "save_hamiltonian": true,
    "save_models": true,
    "shuffle_features": false,
    "shuffle_rows": true,
    "simulation_dir": "/home/rio/ssh_simulations/ssh2/periodic_4th_scenario_100_6561",
    "start_n": 0,
    "store_in_lists": false,
    "val_split": 0.5
   },
   "start_time": "2020-07-09T20:33:14.664417",
   "version": "2.1.0"
  }
 },
 "nbformat": 4,
 "nbformat_minor": 2
}