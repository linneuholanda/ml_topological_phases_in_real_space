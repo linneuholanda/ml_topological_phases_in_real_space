{
 "cells": [
  {
   "cell_type": "markdown",
   "metadata": {
    "papermill": {
     "duration": 0.016519,
     "end_time": "2020-07-09T09:33:01.307555",
     "exception": false,
     "start_time": "2020-07-09T09:33:01.291036",
     "status": "completed"
    },
    "tags": []
   },
   "source": [
    "# Simulation template \n",
    "\n",
    "In this notebook we run the machine learning analysis of topological phase transitions occurring  in both nearest-neighbours SSH models (ssh1) and second neighbours models (ssh2) as decribed in the paper [Machine learning topological phases in real space](https://arxiv.org/abs/1901.01963). Here the simulation is run with features generated from fourier components in the first scenario. This scenario is characterized by using only the EVEN wavevector space eigenmodes, computed from ALL real space components."
   ]
  },
  {
   "cell_type": "markdown",
   "metadata": {
    "papermill": {
     "duration": 0.014644,
     "end_time": "2020-07-09T09:33:01.338883",
     "exception": false,
     "start_time": "2020-07-09T09:33:01.324239",
     "status": "completed"
    },
    "tags": []
   },
   "source": [
    "## Defining parameters"
   ]
  },
  {
   "cell_type": "code",
   "execution_count": 1,
   "metadata": {
    "execution": {
     "iopub.execute_input": "2020-07-09T09:33:01.371788Z",
     "iopub.status.busy": "2020-07-09T09:33:01.371453Z",
     "iopub.status.idle": "2020-07-09T09:33:01.955428Z",
     "shell.execute_reply": "2020-07-09T09:33:01.955106Z"
    },
    "papermill": {
     "duration": 0.601906,
     "end_time": "2020-07-09T09:33:01.955485",
     "exception": false,
     "start_time": "2020-07-09T09:33:01.353579",
     "status": "completed"
    },
    "tags": []
   },
   "outputs": [
    {
     "name": "stdout",
     "output_type": "stream",
     "text": [
      "CPU times: user 724 ms, sys: 297 ms, total: 1.02 s\n",
      "Wall time: 577 ms\n"
     ]
    }
   ],
   "source": [
    "%%time\n",
    "%load_ext autoreload\n",
    "%autoreload 2\n",
    "from simulation import *"
   ]
  },
  {
   "cell_type": "code",
   "execution_count": 2,
   "metadata": {
    "execution": {
     "iopub.execute_input": "2020-07-09T09:33:01.989927Z",
     "iopub.status.busy": "2020-07-09T09:33:01.989604Z",
     "iopub.status.idle": "2020-07-09T09:33:02.000564Z",
     "shell.execute_reply": "2020-07-09T09:33:02.000239Z"
    },
    "papermill": {
     "duration": 0.029203,
     "end_time": "2020-07-09T09:33:02.000615",
     "exception": false,
     "start_time": "2020-07-09T09:33:01.971412",
     "status": "completed"
    },
    "tags": [
     "parameters"
    ]
   },
   "outputs": [
    {
     "name": "stdout",
     "output_type": "stream",
     "text": [
      "CPU times: user 2 µs, sys: 1 µs, total: 3 µs\n",
      "Wall time: 4.53 µs\n"
     ]
    }
   ],
   "source": [
    "%%time\n",
    "### Dataset and simulation parameters\n",
    "#csv_path = SSH2_PERIODIC_100_6561_CSV \n",
    "csv_path = SSH1_PERIODIC_100_6561_CSV \n",
    "model_name = \"DecisionTreeClassifier\"\n",
    "model_kw = {\"criterion\":\"entropy\"}\n",
    "allowed_windings = [0,1]\n",
    "#allowed_windings = [-1,0,1,2]\n",
    "simulation_dir = SSH1_PERIODIC_1ST_SCENARIO_100_6561_SIMULATION_DIR\n",
    "#simulation_dir = SSH2_PERIODIC_ENGINEERED_100_6561_SIMULATION_DIR\n",
    "val_split = 0.9  \n",
    "features_to_use = None\n",
    "shuffle_features = False\n",
    "random_state = 763\n",
    "\n",
    "### Fourier features\n",
    "fourier_mode = \"dft\"\n",
    "fourier_features_to_use = None\n",
    "fourier_real = \"real\"\n",
    "fourier_normalize = True\n",
    "fourier_fillna = False\n",
    "\n",
    "### Running a simulation\n",
    "n_experiments = 5\n",
    "start_n = 0\n",
    "fit_params = None\n",
    "#mode=mode\n",
    "shuffle_rows = True\n",
    "pred_params = None\n",
    "random_features = False\n",
    "######### DON'T SET THIS TO TRUE UNLESS YOUR DATASET IS SMALL!! WILL FLOOD YOUR MEMORY!!!\n",
    "store_in_lists = False   \n",
    "########## BELOW ARE THE PARAMETERS THAT CONTROL WHAT WILL BE SAVED\n",
    "save_eigenvector=True\n",
    "save_hamiltonian=True \n",
    "save_accuracy=True \n",
    "save_models=True"
   ]
  },
  {
   "cell_type": "code",
   "execution_count": 3,
   "metadata": {
    "execution": {
     "iopub.execute_input": "2020-07-09T09:33:02.034415Z",
     "iopub.status.busy": "2020-07-09T09:33:02.034100Z",
     "iopub.status.idle": "2020-07-09T09:33:02.143637Z",
     "shell.execute_reply": "2020-07-09T09:33:02.145322Z"
    },
    "papermill": {
     "duration": 0.129752,
     "end_time": "2020-07-09T09:33:02.145620",
     "exception": false,
     "start_time": "2020-07-09T09:33:02.015868",
     "status": "completed"
    },
    "tags": [
     "injected-parameters"
    ]
   },
   "outputs": [],
   "source": [
    "# Parameters\n",
    "model_kw = {\"criterion\": \"entropy\"}\n",
    "allowed_windings = [0, 1]\n",
    "val_split = 0.9\n",
    "features_to_use = None\n",
    "shuffle_features = False\n",
    "n_experiments = 100\n",
    "start_n = 0\n",
    "fit_params = None\n",
    "shuffle_rows = True\n",
    "pred_params = None\n",
    "random_features = False\n",
    "store_in_lists = False\n",
    "save_eigenvector = True\n",
    "save_hamiltonian = True\n",
    "save_accuracy = True\n",
    "save_models = True\n",
    "csv_path = \"/home/rio/ssh_csvs/ssh1/periodic_100_6561.csv\"\n",
    "model_name = \"DecisionTreeClassifier\"\n",
    "simulation_dir = \"/home/rio/ssh_simulations/ssh1/periodic_6th_scenario_100_6561\"\n",
    "random_state = 34896\n",
    "fourier_features_to_use = [0, 2, 4, 6, 8, 10, 12, 14, 32, 34, 38, 50]\n",
    "fourier_mode = \"dct\"\n",
    "fourier_real = None\n",
    "fourier_normalize = False\n",
    "fourier_fillna = False\n",
    "normalize = False\n",
    "fillna = False\n"
   ]
  },
  {
   "cell_type": "code",
   "execution_count": 4,
   "metadata": {
    "execution": {
     "iopub.execute_input": "2020-07-09T09:33:02.218692Z",
     "iopub.status.busy": "2020-07-09T09:33:02.218330Z",
     "iopub.status.idle": "2020-07-09T09:33:07.705895Z",
     "shell.execute_reply": "2020-07-09T09:33:07.705580Z"
    },
    "papermill": {
     "duration": 5.507803,
     "end_time": "2020-07-09T09:33:07.705945",
     "exception": false,
     "start_time": "2020-07-09T09:33:02.198142",
     "status": "completed"
    },
    "tags": []
   },
   "outputs": [
    {
     "name": "stdout",
     "output_type": "stream",
     "text": [
      "Info on all data: \n",
      "\n",
      "<class 'pandas.core.frame.DataFrame'>\n",
      "Int64Index: 656100 entries, 0 to 656099\n",
      "Columns: 108 entries, id to feat99\n",
      "dtypes: float64(103), int32(3), object(2)\n",
      "memory usage: 538.1+ MB\n",
      "CPU times: user 5.59 s, sys: 549 ms, total: 6.14 s\n",
      "Wall time: 5.46 s\n"
     ]
    },
    {
     "data": {
      "text/html": [
       "<div>\n",
       "<style scoped>\n",
       "    .dataframe tbody tr th:only-of-type {\n",
       "        vertical-align: middle;\n",
       "    }\n",
       "\n",
       "    .dataframe tbody tr th {\n",
       "        vertical-align: top;\n",
       "    }\n",
       "\n",
       "    .dataframe thead th {\n",
       "        text-align: right;\n",
       "    }\n",
       "</style>\n",
       "<table border=\"1\" class=\"dataframe\">\n",
       "  <thead>\n",
       "    <tr style=\"text-align: right;\">\n",
       "      <th></th>\n",
       "      <th>id</th>\n",
       "      <th>path</th>\n",
       "      <th>t1</th>\n",
       "      <th>t2</th>\n",
       "      <th>winding</th>\n",
       "      <th>phase</th>\n",
       "      <th>pred_phase</th>\n",
       "      <th>type_of</th>\n",
       "      <th>feat0</th>\n",
       "      <th>feat1</th>\n",
       "      <th>...</th>\n",
       "      <th>feat90</th>\n",
       "      <th>feat91</th>\n",
       "      <th>feat92</th>\n",
       "      <th>feat93</th>\n",
       "      <th>feat94</th>\n",
       "      <th>feat95</th>\n",
       "      <th>feat96</th>\n",
       "      <th>feat97</th>\n",
       "      <th>feat98</th>\n",
       "      <th>feat99</th>\n",
       "    </tr>\n",
       "  </thead>\n",
       "  <tbody>\n",
       "    <tr>\n",
       "      <th>0</th>\n",
       "      <td>0</td>\n",
       "      <td>H_-2_-2_0.509296.dat</td>\n",
       "      <td>-2.0</td>\n",
       "      <td>-2.0</td>\n",
       "      <td>0.509296</td>\n",
       "      <td>999</td>\n",
       "      <td>666</td>\n",
       "      <td>test</td>\n",
       "      <td>0.100000</td>\n",
       "      <td>0.100000</td>\n",
       "      <td>...</td>\n",
       "      <td>0.100000</td>\n",
       "      <td>0.100000</td>\n",
       "      <td>0.100000</td>\n",
       "      <td>0.100000</td>\n",
       "      <td>0.100000</td>\n",
       "      <td>0.100000</td>\n",
       "      <td>0.100000</td>\n",
       "      <td>0.100000</td>\n",
       "      <td>0.100000</td>\n",
       "      <td>0.100000</td>\n",
       "    </tr>\n",
       "    <tr>\n",
       "      <th>1</th>\n",
       "      <td>0</td>\n",
       "      <td>H_-2_-2_0.509296.dat</td>\n",
       "      <td>-2.0</td>\n",
       "      <td>-2.0</td>\n",
       "      <td>0.509296</td>\n",
       "      <td>999</td>\n",
       "      <td>666</td>\n",
       "      <td>test</td>\n",
       "      <td>0.141421</td>\n",
       "      <td>0.141142</td>\n",
       "      <td>...</td>\n",
       "      <td>0.114412</td>\n",
       "      <td>0.108967</td>\n",
       "      <td>0.123928</td>\n",
       "      <td>0.119406</td>\n",
       "      <td>0.131490</td>\n",
       "      <td>0.127962</td>\n",
       "      <td>0.136978</td>\n",
       "      <td>0.134500</td>\n",
       "      <td>0.140306</td>\n",
       "      <td>0.138916</td>\n",
       "    </tr>\n",
       "    <tr>\n",
       "      <th>2</th>\n",
       "      <td>0</td>\n",
       "      <td>H_-2_-2_0.509296.dat</td>\n",
       "      <td>-2.0</td>\n",
       "      <td>-2.0</td>\n",
       "      <td>0.509296</td>\n",
       "      <td>999</td>\n",
       "      <td>666</td>\n",
       "      <td>test</td>\n",
       "      <td>0.141421</td>\n",
       "      <td>0.140306</td>\n",
       "      <td>...</td>\n",
       "      <td>0.043702</td>\n",
       "      <td>0.026500</td>\n",
       "      <td>0.075777</td>\n",
       "      <td>0.060214</td>\n",
       "      <td>0.103092</td>\n",
       "      <td>0.090145</td>\n",
       "      <td>0.123928</td>\n",
       "      <td>0.114412</td>\n",
       "      <td>0.136978</td>\n",
       "      <td>0.131490</td>\n",
       "    </tr>\n",
       "    <tr>\n",
       "      <th>3</th>\n",
       "      <td>0</td>\n",
       "      <td>H_-2_-2_0.509296.dat</td>\n",
       "      <td>-2.0</td>\n",
       "      <td>-2.0</td>\n",
       "      <td>0.509296</td>\n",
       "      <td>999</td>\n",
       "      <td>666</td>\n",
       "      <td>test</td>\n",
       "      <td>-0.100000</td>\n",
       "      <td>0.100000</td>\n",
       "      <td>...</td>\n",
       "      <td>-0.100000</td>\n",
       "      <td>0.100000</td>\n",
       "      <td>-0.100000</td>\n",
       "      <td>0.100000</td>\n",
       "      <td>-0.100000</td>\n",
       "      <td>0.100000</td>\n",
       "      <td>-0.100000</td>\n",
       "      <td>0.100000</td>\n",
       "      <td>-0.100000</td>\n",
       "      <td>0.100000</td>\n",
       "    </tr>\n",
       "    <tr>\n",
       "      <th>4</th>\n",
       "      <td>0</td>\n",
       "      <td>H_-2_-2_0.509296.dat</td>\n",
       "      <td>-2.0</td>\n",
       "      <td>-2.0</td>\n",
       "      <td>0.509296</td>\n",
       "      <td>999</td>\n",
       "      <td>666</td>\n",
       "      <td>test</td>\n",
       "      <td>0.000509</td>\n",
       "      <td>-0.008372</td>\n",
       "      <td>...</td>\n",
       "      <td>-0.082713</td>\n",
       "      <td>-0.089753</td>\n",
       "      <td>-0.067684</td>\n",
       "      <td>-0.075347</td>\n",
       "      <td>-0.051587</td>\n",
       "      <td>-0.059753</td>\n",
       "      <td>-0.034677</td>\n",
       "      <td>-0.043217</td>\n",
       "      <td>-0.017220</td>\n",
       "      <td>-0.026000</td>\n",
       "    </tr>\n",
       "  </tbody>\n",
       "</table>\n",
       "<p>5 rows × 108 columns</p>\n",
       "</div>"
      ],
      "text/plain": [
       "   id                  path   t1   t2   winding  phase  pred_phase type_of  \\\n",
       "0   0  H_-2_-2_0.509296.dat -2.0 -2.0  0.509296    999         666    test   \n",
       "1   0  H_-2_-2_0.509296.dat -2.0 -2.0  0.509296    999         666    test   \n",
       "2   0  H_-2_-2_0.509296.dat -2.0 -2.0  0.509296    999         666    test   \n",
       "3   0  H_-2_-2_0.509296.dat -2.0 -2.0  0.509296    999         666    test   \n",
       "4   0  H_-2_-2_0.509296.dat -2.0 -2.0  0.509296    999         666    test   \n",
       "\n",
       "      feat0     feat1  ...    feat90    feat91    feat92    feat93    feat94  \\\n",
       "0  0.100000  0.100000  ...  0.100000  0.100000  0.100000  0.100000  0.100000   \n",
       "1  0.141421  0.141142  ...  0.114412  0.108967  0.123928  0.119406  0.131490   \n",
       "2  0.141421  0.140306  ...  0.043702  0.026500  0.075777  0.060214  0.103092   \n",
       "3 -0.100000  0.100000  ... -0.100000  0.100000 -0.100000  0.100000 -0.100000   \n",
       "4  0.000509 -0.008372  ... -0.082713 -0.089753 -0.067684 -0.075347 -0.051587   \n",
       "\n",
       "     feat95    feat96    feat97    feat98    feat99  \n",
       "0  0.100000  0.100000  0.100000  0.100000  0.100000  \n",
       "1  0.127962  0.136978  0.134500  0.140306  0.138916  \n",
       "2  0.090145  0.123928  0.114412  0.136978  0.131490  \n",
       "3  0.100000 -0.100000  0.100000 -0.100000  0.100000  \n",
       "4 -0.059753 -0.034677 -0.043217 -0.017220 -0.026000  \n",
       "\n",
       "[5 rows x 108 columns]"
      ]
     },
     "execution_count": 4,
     "metadata": {},
     "output_type": "execute_result"
    }
   ],
   "source": [
    "%%time\n",
    "#Starting an instance of Simulation with a decision tree\n",
    "model = DecisionTreeClassifier(criterion=\"entropy\")\n",
    "#dict_args = {\"csv_path\":csv_path, \"model\":model, \"allowed_windings\":allowed_windings,\\\n",
    "#             \"simulation_dir\":simulation_dir, \"val_split\":val_split, \"features_to_use\":features_to_use,\\\n",
    "#            \"shuffle_features\":shuffle_features, \"random_state\":random_state}\n",
    "simulation = Simulation(csv_path,model_name,model_kw,allowed_windings,simulation_dir,val_split,features_to_use,\\\n",
    "                       shuffle_features,fourier_mode,fourier_features_to_use,fourier_real,\\\n",
    "                       fourier_normalize, fourier_fillna , random_state)\n",
    "#simulation = Simulation(**dict_args)\n",
    "\n",
    "\n",
    "#(self, csv_path, model_name, model_kw, allowed_windings, simulation_dir = None, val_split = 0, \n",
    "# features_to_use = None, shuffle_features = False, fourier_mode=None, fourier_features_to_use=None,\n",
    "# fourier_real = False, fourier_normalize = False, Fourier_fillna=False, random_state = None):\n",
    "\n",
    "\n",
    "\n",
    "print(\"Info on all data: \\n\")\n",
    "simulation.dataframe.info()\n",
    "simulation.dataframe.head()"
   ]
  },
  {
   "cell_type": "markdown",
   "metadata": {
    "papermill": {
     "duration": 0.015814,
     "end_time": "2020-07-09T09:33:07.738490",
     "exception": false,
     "start_time": "2020-07-09T09:33:07.722676",
     "status": "completed"
    },
    "tags": []
   },
   "source": [
    "####  Fourier features"
   ]
  },
  {
   "cell_type": "code",
   "execution_count": 5,
   "metadata": {
    "execution": {
     "iopub.execute_input": "2020-07-09T09:33:07.773281Z",
     "iopub.status.busy": "2020-07-09T09:33:07.772915Z",
     "iopub.status.idle": "2020-07-09T09:33:07.871984Z",
     "shell.execute_reply": "2020-07-09T09:33:07.871663Z"
    },
    "papermill": {
     "duration": 0.117222,
     "end_time": "2020-07-09T09:33:07.872036",
     "exception": false,
     "start_time": "2020-07-09T09:33:07.754814",
     "status": "completed"
    },
    "tags": []
   },
   "outputs": [
    {
     "name": "stdout",
     "output_type": "stream",
     "text": [
      "<class 'pandas.core.frame.DataFrame'>\n",
      "Int64Index: 656100 entries, 0 to 656099\n",
      "Data columns (total 20 columns):\n",
      " #   Column      Non-Null Count   Dtype  \n",
      "---  ------      --------------   -----  \n",
      " 0   id          656100 non-null  int32  \n",
      " 1   path        656100 non-null  object \n",
      " 2   t1          656100 non-null  float64\n",
      " 3   t2          656100 non-null  float64\n",
      " 4   winding     656100 non-null  float64\n",
      " 5   phase       656100 non-null  int32  \n",
      " 6   pred_phase  656100 non-null  int32  \n",
      " 7   type_of     656100 non-null  object \n",
      " 8   dct_feat0   656100 non-null  float64\n",
      " 9   dct_feat2   656100 non-null  float64\n",
      " 10  dct_feat4   656100 non-null  float64\n",
      " 11  dct_feat6   656100 non-null  float64\n",
      " 12  dct_feat8   656100 non-null  float64\n",
      " 13  dct_feat10  656100 non-null  float64\n",
      " 14  dct_feat12  656100 non-null  float64\n",
      " 15  dct_feat14  656100 non-null  float64\n",
      " 16  dct_feat32  656100 non-null  float64\n",
      " 17  dct_feat34  656100 non-null  float64\n",
      " 18  dct_feat38  656100 non-null  float64\n",
      " 19  dct_feat50  656100 non-null  float64\n",
      "dtypes: float64(15), int32(3), object(2)\n",
      "memory usage: 97.6+ MB\n",
      "CPU times: user 81.2 ms, sys: 8.16 ms, total: 89.3 ms\n",
      "Wall time: 88.7 ms\n"
     ]
    }
   ],
   "source": [
    "%%time\n",
    "#simulation.generate_fourier_df()\n",
    "if simulation.fourier_mode is not None:\n",
    "    simulation.fourier_dataframe.info() \n",
    "    simulation.fourier_dataframe.sample(15)\n"
   ]
  },
  {
   "cell_type": "code",
   "execution_count": 6,
   "metadata": {
    "execution": {
     "iopub.execute_input": "2020-07-09T09:33:07.909442Z",
     "iopub.status.busy": "2020-07-09T09:33:07.909126Z",
     "iopub.status.idle": "2020-07-09T09:33:07.919624Z",
     "shell.execute_reply": "2020-07-09T09:33:07.919874Z"
    },
    "papermill": {
     "duration": 0.031196,
     "end_time": "2020-07-09T09:33:07.919941",
     "exception": false,
     "start_time": "2020-07-09T09:33:07.888745",
     "status": "completed"
    },
    "tags": []
   },
   "outputs": [
    {
     "name": "stdout",
     "output_type": "stream",
     "text": [
      "features_to_use: \n",
      "\n",
      "\n",
      "None\n",
      "\n",
      "\n",
      "fourier_features: \n",
      "\n",
      "\n",
      "['dct_feat0', 'dct_feat2', 'dct_feat4', 'dct_feat6', 'dct_feat8', 'dct_feat10', 'dct_feat12', 'dct_feat14', 'dct_feat32', 'dct_feat34', 'dct_feat38', 'dct_feat50']\n",
      "\n",
      "\n",
      "Number of Fourier features: \n",
      "\n",
      "\n",
      "12\n"
     ]
    }
   ],
   "source": [
    "print(\"features_to_use: \")\n",
    "print(\"\\n\")\n",
    "print(simulation.features_to_use)\n",
    "if simulation.features_to_use is not None:\n",
    "    print(\"Number of real space features:\")\n",
    "    print(\"\\n\")\n",
    "    print(len(simulation.features_to_use))\n",
    "print(\"\\n\")\n",
    "print(\"fourier_features: \")\n",
    "print(\"\\n\")\n",
    "print(simulation.fourier_features)\n",
    "print(\"\\n\")\n",
    "if simulation.fourier_features is not None:\n",
    "    print(\"Number of Fourier features: \")\n",
    "    print(\"\\n\")\n",
    "    print(len(simulation.fourier_features))"
   ]
  },
  {
   "cell_type": "code",
   "execution_count": 7,
   "metadata": {
    "execution": {
     "iopub.execute_input": "2020-07-09T09:33:07.954080Z",
     "iopub.status.busy": "2020-07-09T09:33:07.953774Z",
     "iopub.status.idle": "2020-07-09T09:33:08.024270Z",
     "shell.execute_reply": "2020-07-09T09:33:08.023538Z"
    },
    "papermill": {
     "duration": 0.088161,
     "end_time": "2020-07-09T09:33:08.024371",
     "exception": false,
     "start_time": "2020-07-09T09:33:07.936210",
     "status": "completed"
    },
    "tags": []
   },
   "outputs": [],
   "source": [
    "#simulation.dataframe.iloc[331456,:]"
   ]
  },
  {
   "cell_type": "code",
   "execution_count": 8,
   "metadata": {
    "execution": {
     "iopub.execute_input": "2020-07-09T09:33:08.090647Z",
     "iopub.status.busy": "2020-07-09T09:33:08.090318Z",
     "iopub.status.idle": "2020-07-09T09:33:08.100428Z",
     "shell.execute_reply": "2020-07-09T09:33:08.100080Z"
    },
    "papermill": {
     "duration": 0.032228,
     "end_time": "2020-07-09T09:33:08.100481",
     "exception": false,
     "start_time": "2020-07-09T09:33:08.068253",
     "status": "completed"
    },
    "tags": []
   },
   "outputs": [],
   "source": [
    "#for ix, obj in enumerate(simulation.dataframe.iloc[331456,:].values):\n",
    "#    print(ix,obj)"
   ]
  },
  {
   "cell_type": "code",
   "execution_count": 9,
   "metadata": {
    "execution": {
     "iopub.execute_input": "2020-07-09T09:33:08.135005Z",
     "iopub.status.busy": "2020-07-09T09:33:08.134698Z",
     "iopub.status.idle": "2020-07-09T09:33:08.189549Z",
     "shell.execute_reply": "2020-07-09T09:33:08.190040Z"
    },
    "papermill": {
     "duration": 0.073317,
     "end_time": "2020-07-09T09:33:08.190158",
     "exception": false,
     "start_time": "2020-07-09T09:33:08.116841",
     "status": "completed"
    },
    "tags": []
   },
   "outputs": [],
   "source": [
    "#simulation.fourier_engineered_dataframe.dct_feat0"
   ]
  },
  {
   "cell_type": "code",
   "execution_count": 10,
   "metadata": {
    "execution": {
     "iopub.execute_input": "2020-07-09T09:33:08.248188Z",
     "iopub.status.busy": "2020-07-09T09:33:08.247882Z",
     "iopub.status.idle": "2020-07-09T09:33:08.257539Z",
     "shell.execute_reply": "2020-07-09T09:33:08.257852Z"
    },
    "papermill": {
     "duration": 0.032891,
     "end_time": "2020-07-09T09:33:08.257919",
     "exception": false,
     "start_time": "2020-07-09T09:33:08.225028",
     "status": "completed"
    },
    "tags": []
   },
   "outputs": [],
   "source": [
    "#simulation.features"
   ]
  },
  {
   "cell_type": "code",
   "execution_count": 11,
   "metadata": {
    "execution": {
     "iopub.execute_input": "2020-07-09T09:33:08.292117Z",
     "iopub.status.busy": "2020-07-09T09:33:08.291810Z",
     "iopub.status.idle": "2020-07-09T09:33:08.375133Z",
     "shell.execute_reply": "2020-07-09T09:33:08.376106Z"
    },
    "papermill": {
     "duration": 0.102092,
     "end_time": "2020-07-09T09:33:08.376329",
     "exception": false,
     "start_time": "2020-07-09T09:33:08.274237",
     "status": "completed"
    },
    "tags": []
   },
   "outputs": [],
   "source": [
    "#simulation.fourier_matrix"
   ]
  },
  {
   "cell_type": "code",
   "execution_count": 12,
   "metadata": {
    "execution": {
     "iopub.execute_input": "2020-07-09T09:33:08.453195Z",
     "iopub.status.busy": "2020-07-09T09:33:08.452841Z",
     "iopub.status.idle": "2020-07-09T09:33:08.464715Z",
     "shell.execute_reply": "2020-07-09T09:33:08.464405Z"
    },
    "papermill": {
     "duration": 0.034937,
     "end_time": "2020-07-09T09:33:08.464772",
     "exception": false,
     "start_time": "2020-07-09T09:33:08.429835",
     "status": "completed"
    },
    "tags": []
   },
   "outputs": [],
   "source": [
    "#1/simulation.n_features*simulation.dataframe.loc[:,simulation.features].sum(axis=1)"
   ]
  },
  {
   "cell_type": "code",
   "execution_count": 13,
   "metadata": {
    "execution": {
     "iopub.execute_input": "2020-07-09T09:33:08.500249Z",
     "iopub.status.busy": "2020-07-09T09:33:08.499942Z",
     "iopub.status.idle": "2020-07-09T09:33:08.575098Z",
     "shell.execute_reply": "2020-07-09T09:33:08.574184Z"
    },
    "papermill": {
     "duration": 0.092954,
     "end_time": "2020-07-09T09:33:08.575239",
     "exception": false,
     "start_time": "2020-07-09T09:33:08.482285",
     "status": "completed"
    },
    "tags": []
   },
   "outputs": [],
   "source": [
    "#df_2 = simulation.fourier_engineered_dataframe[simulation.fourier_engineered_dataframe.phase==2]\n",
    "#df_2.describe()"
   ]
  },
  {
   "cell_type": "code",
   "execution_count": 14,
   "metadata": {
    "execution": {
     "iopub.execute_input": "2020-07-09T09:33:08.646527Z",
     "iopub.status.busy": "2020-07-09T09:33:08.646208Z",
     "iopub.status.idle": "2020-07-09T09:33:08.656720Z",
     "shell.execute_reply": "2020-07-09T09:33:08.656375Z"
    },
    "papermill": {
     "duration": 0.032813,
     "end_time": "2020-07-09T09:33:08.656773",
     "exception": false,
     "start_time": "2020-07-09T09:33:08.623960",
     "status": "completed"
    },
    "tags": []
   },
   "outputs": [],
   "source": [
    "#df_1 = simulation.fourier_engineered_dataframe[simulation.fourier_engineered_dataframe.phase==1]\n",
    "#df_1.describe()"
   ]
  },
  {
   "cell_type": "code",
   "execution_count": 15,
   "metadata": {
    "execution": {
     "iopub.execute_input": "2020-07-09T09:33:08.691950Z",
     "iopub.status.busy": "2020-07-09T09:33:08.691459Z",
     "iopub.status.idle": "2020-07-09T09:33:08.747765Z",
     "shell.execute_reply": "2020-07-09T09:33:08.748236Z"
    },
    "papermill": {
     "duration": 0.074954,
     "end_time": "2020-07-09T09:33:08.748330",
     "exception": false,
     "start_time": "2020-07-09T09:33:08.673376",
     "status": "completed"
    },
    "tags": []
   },
   "outputs": [],
   "source": [
    "#df_0 = simulation.fourier_engineered_dataframe[simulation.fourier_engineered_dataframe.phase==0]\n",
    "#df_0.describe()"
   ]
  },
  {
   "cell_type": "code",
   "execution_count": 16,
   "metadata": {
    "execution": {
     "iopub.execute_input": "2020-07-09T09:33:08.793301Z",
     "iopub.status.busy": "2020-07-09T09:33:08.792806Z",
     "iopub.status.idle": "2020-07-09T09:33:08.805932Z",
     "shell.execute_reply": "2020-07-09T09:33:08.805597Z"
    },
    "papermill": {
     "duration": 0.031878,
     "end_time": "2020-07-09T09:33:08.805986",
     "exception": false,
     "start_time": "2020-07-09T09:33:08.774108",
     "status": "completed"
    },
    "tags": []
   },
   "outputs": [],
   "source": [
    "#plt.figure(figsize=(10,10))\n",
    "#plt.scatter(df_1.fourier_feat0,df_1.fourier_feat2)\n",
    "#plt.scatter(df_0.fourier_feat0,df_0.fourier_feat2,alpha=0.4)"
   ]
  },
  {
   "cell_type": "code",
   "execution_count": 17,
   "metadata": {
    "execution": {
     "iopub.execute_input": "2020-07-09T09:33:08.842160Z",
     "iopub.status.busy": "2020-07-09T09:33:08.841538Z",
     "iopub.status.idle": "2020-07-09T09:33:08.906614Z",
     "shell.execute_reply": "2020-07-09T09:33:08.906114Z"
    },
    "papermill": {
     "duration": 0.084143,
     "end_time": "2020-07-09T09:33:08.906689",
     "exception": false,
     "start_time": "2020-07-09T09:33:08.822546",
     "status": "completed"
    },
    "tags": []
   },
   "outputs": [],
   "source": [
    "#plt.scatter(df_0.fourier_feat0,df_0.fourier_feat2,alpha=0.4)"
   ]
  },
  {
   "cell_type": "code",
   "execution_count": 18,
   "metadata": {
    "execution": {
     "iopub.execute_input": "2020-07-09T09:33:08.957512Z",
     "iopub.status.busy": "2020-07-09T09:33:08.956979Z",
     "iopub.status.idle": "2020-07-09T09:33:08.967392Z",
     "shell.execute_reply": "2020-07-09T09:33:08.967047Z"
    },
    "papermill": {
     "duration": 0.032125,
     "end_time": "2020-07-09T09:33:08.967445",
     "exception": false,
     "start_time": "2020-07-09T09:33:08.935320",
     "status": "completed"
    },
    "tags": []
   },
   "outputs": [],
   "source": [
    "#plt.scatter(df_2.fourier_feat0,df_2.fourier_feat2)"
   ]
  },
  {
   "cell_type": "code",
   "execution_count": 19,
   "metadata": {
    "execution": {
     "iopub.execute_input": "2020-07-09T09:33:09.002762Z",
     "iopub.status.busy": "2020-07-09T09:33:09.002271Z",
     "iopub.status.idle": "2020-07-09T09:33:09.064618Z",
     "shell.execute_reply": "2020-07-09T09:33:09.064113Z"
    },
    "papermill": {
     "duration": 0.080658,
     "end_time": "2020-07-09T09:33:09.064694",
     "exception": false,
     "start_time": "2020-07-09T09:33:08.984036",
     "status": "completed"
    },
    "tags": []
   },
   "outputs": [],
   "source": [
    "#df_1.hist(figsize=(15,15))"
   ]
  },
  {
   "cell_type": "code",
   "execution_count": 20,
   "metadata": {
    "execution": {
     "iopub.execute_input": "2020-07-09T09:33:09.112506Z",
     "iopub.status.busy": "2020-07-09T09:33:09.112001Z",
     "iopub.status.idle": "2020-07-09T09:33:09.155647Z",
     "shell.execute_reply": "2020-07-09T09:33:09.155279Z"
    },
    "papermill": {
     "duration": 0.064984,
     "end_time": "2020-07-09T09:33:09.155703",
     "exception": false,
     "start_time": "2020-07-09T09:33:09.090719",
     "status": "completed"
    },
    "tags": []
   },
   "outputs": [],
   "source": [
    "#df_0.hist(figsize=(15,15))"
   ]
  },
  {
   "cell_type": "markdown",
   "metadata": {
    "papermill": {
     "duration": 0.016816,
     "end_time": "2020-07-09T09:33:09.190431",
     "exception": false,
     "start_time": "2020-07-09T09:33:09.173615",
     "status": "completed"
    },
    "tags": []
   },
   "source": [
    "#### Checking initialization"
   ]
  },
  {
   "cell_type": "code",
   "execution_count": 21,
   "metadata": {
    "execution": {
     "iopub.execute_input": "2020-07-09T09:33:09.226700Z",
     "iopub.status.busy": "2020-07-09T09:33:09.226329Z",
     "iopub.status.idle": "2020-07-09T09:33:09.265087Z",
     "shell.execute_reply": "2020-07-09T09:33:09.264774Z"
    },
    "papermill": {
     "duration": 0.057446,
     "end_time": "2020-07-09T09:33:09.265146",
     "exception": false,
     "start_time": "2020-07-09T09:33:09.207700",
     "status": "completed"
    },
    "tags": []
   },
   "outputs": [
    {
     "name": "stdout",
     "output_type": "stream",
     "text": [
      "n_features:  100\n",
      "n_hamiltonians:  6561\n",
      "n_ts:  2\n",
      "CPU times: user 239 µs, sys: 33 µs, total: 272 µs\n",
      "Wall time: 151 µs\n"
     ]
    }
   ],
   "source": [
    "%%time\n",
    "n_features = simulation.n_features\n",
    "n_hamiltonians = simulation.n_hamiltonians\n",
    "n_ts = simulation.n_ts\n",
    "\n",
    "print(\"n_features: \", n_features)\n",
    "print(\"n_hamiltonians: \", n_hamiltonians)\n",
    "print(\"n_ts: \", n_ts)"
   ]
  },
  {
   "cell_type": "code",
   "execution_count": 22,
   "metadata": {
    "execution": {
     "iopub.execute_input": "2020-07-09T09:33:09.301081Z",
     "iopub.status.busy": "2020-07-09T09:33:09.300762Z",
     "iopub.status.idle": "2020-07-09T09:33:09.566103Z",
     "shell.execute_reply": "2020-07-09T09:33:09.565782Z"
    },
    "papermill": {
     "duration": 0.283648,
     "end_time": "2020-07-09T09:33:09.566153",
     "exception": false,
     "start_time": "2020-07-09T09:33:09.282505",
     "status": "completed"
    },
    "tags": []
   },
   "outputs": [
    {
     "name": "stdout",
     "output_type": "stream",
     "text": [
      "% train:  0.846822130772748\n",
      "% val:  0.0\n",
      "% test:  0.15317786922725193\n",
      "% train + val + test:  1.0\n",
      "\n",
      "\n",
      "number of train hamiltonians:  5556\n",
      "number of val hamiltonians:  0\n",
      "number of test hamiltonians:  1005\n",
      "total number of hamiltonians:  6561\n",
      "\n",
      "\n",
      "train ids:  [9, 10, 11, 12, 13, 14, 15, 16, 17, 18, 19, 20, 21, 22, 23, 24, 25, 26, 27, 28, 29, 30, 31, 32, 33, 34, 35, 36, 37, 38, 39, 40, 41, 42, 43, 44, 45, 46, 47, 48, 49, 50, 51, 52, 53, 54, 55, 56, 57, 58, 59, 60, 61, 62, 63, 64, 65, 66, 67, 68, 69, 70, 71, 72, 73, 74, 75, 76, 77, 91, 92, 93, 94, 95, 96, 97, 98, 99, 100, 101, 102, 103, 104, 105, 106, 107, 108, 109, 110, 111, 112, 113, 114, 115, 116, 117, 118, 119, 120, 121, 122, 123, 124, 125, 126, 127, 128, 129, 130, 131, 132, 133, 134, 135, 136, 137, 138, 139, 140, 141, 142, 143, 144, 145, 146, 147, 148, 149, 150, 151, 152, 153, 154, 155, 156, 157, 172, 173, 174, 175, 176, 177, 178, 179, 180, 181, 182, 183, 184, 185, 186, 187, 188, 189, 190, 191, 192, 193, 194, 195, 196, 197, 198, 199, 200, 201, 202, 203, 204, 205, 206, 207, 208, 209, 210, 211, 212, 213, 214, 215, 216, 217, 218, 219, 220, 221, 222, 223, 224, 225, 226, 227, 228, 229, 230, 231, 232, 233, 234, 235, 236, 237, 254, 255, 256, 257, 258, 259, 260, 261, 262, 263, 264, 265, 266, 267, 268, 269, 270, 271, 272, 273, 274, 275, 276, 277, 278, 279, 280, 281, 282, 283, 284, 285, 286, 287, 288, 289, 290, 291, 292, 293, 294, 295, 296, 297, 298, 299, 300, 301, 302, 303, 304, 305, 306, 307, 308, 309, 310, 311, 312, 313, 314, 315, 316, 317, 323, 336, 337, 338, 339, 340, 341, 342, 343, 344, 345, 346, 347, 348, 349, 350, 351, 352, 353, 354, 355, 356, 357, 358, 359, 360, 361, 362, 363, 364, 365, 366, 367, 368, 369, 370, 371, 372, 373, 374, 375, 376, 377, 378, 379, 380, 381, 382, 383, 384, 385, 386, 387, 388, 389, 390, 391, 392, 393, 394, 395, 396, 397, 403, 404, 418, 419, 420, 421, 422, 423, 424, 425, 426, 427, 428, 429, 430, 431, 432, 433, 434, 435, 436, 437, 438, 439, 440, 441, 442, 443, 444, 445, 446, 447, 448, 449, 450, 451, 452, 453, 454, 455, 456, 457, 458, 459, 460, 461, 462, 463, 464, 465, 466, 467, 468, 469, 470, 471, 472, 473, 474, 475, 476, 477, 483, 484, 485, 500, 501, 502, 503, 504, 505, 506, 507, 508, 509, 510, 511, 512, 513, 514, 515, 516, 517, 518, 519, 520, 521, 522, 523, 524, 525, 526, 527, 528, 529, 530, 531, 532, 533, 534, 535, 536, 537, 538, 539, 540, 541, 542, 543, 544, 545, 546, 547, 548, 549, 550, 551, 552, 553, 554, 555, 556, 557, 563, 564, 565, 566, 581, 582, 583, 584, 585, 586, 587, 588, 589, 590, 591, 592, 593, 594, 595, 596, 597, 598, 599, 600, 601, 602, 603, 604, 605, 606, 607, 608, 609, 610, 611, 612, 613, 614, 615, 616, 617, 618, 619, 620, 621, 622, 623, 624, 625, 626, 627, 628, 629, 630, 631, 632, 633, 634, 635, 636, 637, 643, 644, 645, 646, 647, 663, 664, 665, 666, 667, 668, 669, 670, 671, 672, 673, 674, 675, 676, 677, 678, 679, 680, 681, 682, 683, 684, 685, 686, 687, 688, 689, 690, 691, 692, 693, 694, 695, 696, 697, 698, 699, 700, 701, 702, 703, 704, 705, 706, 707, 708, 709, 710, 711, 712, 713, 714, 715, 716, 717, 723, 724, 725, 726, 727, 728, 745, 746, 747, 748, 749, 750, 751, 752, 753, 754, 755, 756, 757, 758, 759, 760, 761, 762, 763, 764, 765, 766, 767, 768, 769, 770, 771, 772, 773, 774, 775, 776, 777, 778, 779, 780, 781, 782, 783, 784, 785, 786, 787, 788, 789, 790, 791, 792, 793, 794, 795, 796, 797, 803, 804, 805, 806, 807, 808, 809, 827, 828, 829, 830, 831, 832, 833, 834, 835, 836, 837, 838, 839, 840, 841, 842, 843, 844, 845, 846, 847, 848, 849, 850, 851, 852, 853, 854, 855, 856, 857, 858, 859, 860, 861, 862, 863, 864, 865, 866, 867, 868, 869, 870, 871, 872, 873, 874, 875, 876, 877, 883, 884, 885, 886, 887, 888, 889, 890, 891, 909, 910, 911, 912, 913, 914, 915, 916, 917, 918, 919, 920, 921, 922, 923, 924, 925, 926, 927, 928, 929, 930, 931, 932, 933, 934, 935, 936, 937, 938, 939, 940, 941, 942, 943, 944, 945, 946, 947, 948, 949, 950, 951, 952, 953, 954, 955, 956, 957, 963, 964, 965, 966, 967, 968, 969, 970, 971, 972, 973, 990, 991, 992, 993, 994, 995, 996, 997, 998, 999, 1000, 1001, 1002, 1003, 1004, 1005, 1006, 1007, 1008, 1009, 1010, 1011, 1012, 1013, 1014, 1015, 1016, 1017, 1018, 1019, 1020, 1021, 1022, 1023, 1024, 1025, 1026, 1027, 1028, 1029, 1030, 1031, 1032, 1033, 1034, 1035, 1036, 1037, 1038, 1042, 1043, 1044, 1045, 1046, 1047, 1048, 1049, 1050, 1051, 1052, 1053, 1054, 1055, 1056, 1072, 1073, 1074, 1075, 1076, 1077, 1078, 1079, 1080, 1081, 1082, 1083, 1084, 1085, 1086, 1087, 1088, 1089, 1090, 1091, 1092, 1093, 1094, 1095, 1096, 1097, 1098, 1099, 1100, 1101, 1102, 1103, 1104, 1105, 1106, 1107, 1108, 1109, 1110, 1111, 1112, 1113, 1114, 1115, 1116, 1117, 1118, 1122, 1123, 1124, 1125, 1126, 1127, 1128, 1129, 1130, 1131, 1132, 1133, 1134, 1135, 1136, 1137, 1138, 1154, 1155, 1156, 1157, 1158, 1159, 1160, 1161, 1162, 1163, 1164, 1165, 1166, 1167, 1168, 1169, 1170, 1171, 1172, 1173, 1174, 1175, 1176, 1177, 1178, 1179, 1180, 1181, 1182, 1183, 1184, 1185, 1186, 1187, 1188, 1189, 1190, 1191, 1192, 1193, 1194, 1195, 1196, 1197, 1198, 1202, 1203, 1204, 1205, 1206, 1207, 1208, 1209, 1210, 1211, 1212, 1213, 1214, 1215, 1216, 1217, 1218, 1219, 1220, 1236, 1237, 1238, 1239, 1240, 1241, 1242, 1243, 1244, 1245, 1246, 1247, 1248, 1249, 1250, 1251, 1252, 1253, 1254, 1255, 1256, 1257, 1258, 1259, 1260, 1261, 1262, 1263, 1264, 1265, 1266, 1267, 1268, 1269, 1270, 1271, 1272, 1273, 1274, 1275, 1276, 1277, 1278, 1282, 1283, 1284, 1285, 1286, 1287, 1288, 1289, 1290, 1291, 1292, 1293, 1294, 1295, 1296, 1297, 1298, 1299, 1300, 1301, 1302, 1303, 1317, 1318, 1319, 1320, 1321, 1322, 1323, 1324, 1325, 1326, 1327, 1328, 1329, 1330, 1331, 1332, 1333, 1334, 1335, 1336, 1337, 1338, 1339, 1340, 1341, 1342, 1343, 1344, 1345, 1346, 1347, 1348, 1349, 1350, 1351, 1352, 1353, 1354, 1355, 1356, 1357, 1358, 1362, 1363, 1364, 1365, 1366, 1367, 1368, 1369, 1370, 1371, 1372, 1373, 1374, 1375, 1376, 1377, 1378, 1379, 1380, 1381, 1382, 1383, 1384, 1385, 1399, 1400, 1401, 1402, 1403, 1404, 1405, 1406, 1407, 1408, 1409, 1410, 1411, 1412, 1413, 1414, 1415, 1416, 1417, 1418, 1419, 1420, 1421, 1422, 1423, 1424, 1425, 1426, 1427, 1428, 1429, 1430, 1431, 1432, 1433, 1434, 1435, 1436, 1437, 1438, 1442, 1443, 1444, 1445, 1446, 1447, 1448, 1449, 1450, 1451, 1452, 1453, 1454, 1455, 1456, 1457, 1458, 1459, 1460, 1461, 1462, 1463, 1464, 1465, 1466, 1467, 1468, 1481, 1482, 1483, 1484, 1485, 1486, 1487, 1488, 1489, 1490, 1491, 1492, 1493, 1494, 1495, 1496, 1497, 1498, 1499, 1500, 1501, 1502, 1503, 1504, 1505, 1506, 1507, 1508, 1509, 1510, 1511, 1512, 1513, 1514, 1515, 1516, 1517, 1518, 1522, 1523, 1524, 1525, 1526, 1527, 1528, 1529, 1530, 1531, 1532, 1533, 1534, 1535, 1536, 1537, 1538, 1539, 1540, 1541, 1542, 1543, 1544, 1545, 1546, 1547, 1548, 1549, 1550, 1563, 1564, 1565, 1566, 1567, 1568, 1569, 1570, 1571, 1572, 1573, 1574, 1575, 1576, 1577, 1578, 1579, 1580, 1581, 1582, 1583, 1584, 1585, 1586, 1587, 1588, 1589, 1590, 1591, 1592, 1593, 1594, 1595, 1596, 1597, 1598, 1602, 1603, 1604, 1605, 1606, 1607, 1608, 1609, 1610, 1611, 1612, 1613, 1614, 1615, 1616, 1617, 1618, 1619, 1620, 1621, 1622, 1623, 1624, 1625, 1626, 1627, 1628, 1629, 1630, 1631, 1632, 1645, 1646, 1647, 1648, 1649, 1650, 1651, 1652, 1653, 1654, 1655, 1656, 1657, 1658, 1659, 1660, 1661, 1662, 1663, 1664, 1665, 1666, 1667, 1668, 1669, 1670, 1671, 1672, 1673, 1674, 1675, 1676, 1677, 1678, 1682, 1683, 1684, 1685, 1686, 1687, 1688, 1689, 1690, 1691, 1692, 1693, 1694, 1695, 1696, 1697, 1698, 1699, 1700, 1701, 1702, 1703, 1704, 1705, 1706, 1707, 1708, 1709, 1710, 1711, 1712, 1713, 1714, 1715, 1726, 1727, 1728, 1729, 1730, 1731, 1732, 1733, 1734, 1735, 1736, 1737, 1738, 1739, 1740, 1741, 1742, 1743, 1744, 1745, 1746, 1747, 1748, 1749, 1750, 1751, 1752, 1753, 1754, 1755, 1756, 1757, 1758, 1762, 1763, 1764, 1765, 1766, 1767, 1768, 1769, 1770, 1771, 1772, 1773, 1774, 1775, 1776, 1777, 1778, 1779, 1780, 1781, 1782, 1783, 1784, 1785, 1786, 1787, 1788, 1789, 1790, 1791, 1792, 1793, 1794, 1795, 1796, 1797, 1808, 1809, 1810, 1811, 1812, 1813, 1814, 1815, 1816, 1817, 1818, 1819, 1820, 1821, 1822, 1823, 1824, 1825, 1826, 1827, 1828, 1829, 1830, 1831, 1832, 1833, 1834, 1835, 1836, 1837, 1838, 1842, 1843, 1844, 1845, 1846, 1847, 1848, 1849, 1850, 1851, 1852, 1853, 1854, 1855, 1856, 1857, 1858, 1859, 1860, 1861, 1862, 1863, 1864, 1865, 1866, 1867, 1868, 1869, 1870, 1871, 1872, 1873, 1874, 1875, 1876, 1877, 1878, 1879, 1890, 1891, 1892, 1893, 1894, 1895, 1896, 1897, 1898, 1899, 1900, 1901, 1902, 1903, 1904, 1905, 1906, 1907, 1908, 1909, 1910, 1911, 1912, 1913, 1914, 1915, 1916, 1917, 1918, 1922, 1923, 1924, 1925, 1926, 1927, 1928, 1929, 1930, 1931, 1932, 1933, 1934, 1935, 1936, 1937, 1938, 1939, 1940, 1941, 1942, 1943, 1944, 1945, 1946, 1947, 1948, 1949, 1950, 1951, 1952, 1953, 1954, 1955, 1956, 1957, 1958, 1959, 1960, 1961, 1962, 1972, 1973, 1974, 1975, 1976, 1977, 1978, 1979, 1980, 1981, 1982, 1983, 1984, 1985, 1986, 1987, 1988, 1989, 1990, 1991, 1992, 1993, 1994, 1995, 1996, 1997, 1998, 2002, 2003, 2004, 2005, 2006, 2007, 2008, 2009, 2010, 2011, 2012, 2013, 2014, 2015, 2016, 2017, 2018, 2019, 2020, 2021, 2022, 2023, 2024, 2025, 2026, 2027, 2028, 2029, 2030, 2031, 2032, 2033, 2034, 2035, 2036, 2037, 2038, 2039, 2040, 2041, 2042, 2043, 2044, 2054, 2055, 2056, 2057, 2058, 2059, 2060, 2061, 2062, 2063, 2064, 2065, 2066, 2067, 2068, 2069, 2070, 2071, 2072, 2073, 2074, 2075, 2076, 2077, 2078, 2082, 2083, 2084, 2085, 2086, 2087, 2088, 2089, 2090, 2091, 2092, 2093, 2094, 2095, 2096, 2097, 2098, 2099, 2100, 2101, 2102, 2103, 2104, 2105, 2106, 2107, 2108, 2109, 2110, 2111, 2112, 2113, 2114, 2115, 2116, 2117, 2118, 2119, 2120, 2121, 2122, 2123, 2124, 2125, 2126, 2135, 2136, 2137, 2138, 2139, 2140, 2141, 2142, 2143, 2144, 2145, 2146, 2147, 2148, 2149, 2150, 2151, 2152, 2153, 2154, 2155, 2156, 2157, 2158, 2159, 2161, 2162, 2163, 2164, 2165, 2166, 2167, 2168, 2169, 2170, 2171, 2172, 2173, 2174, 2175, 2176, 2177, 2178, 2179, 2180, 2181, 2182, 2183, 2184, 2185, 2186, 2187, 2188, 2189, 2190, 2191, 2192, 2193, 2194, 2195, 2196, 2197, 2198, 2199, 2200, 2201, 2202, 2203, 2204, 2205, 2206, 2207, 2208, 2209, 2217, 2218, 2219, 2220, 2221, 2222, 2223, 2224, 2225, 2226, 2227, 2228, 2229, 2230, 2231, 2232, 2233, 2234, 2235, 2236, 2237, 2238, 2239, 2241, 2242, 2243, 2244, 2245, 2246, 2247, 2248, 2249, 2250, 2251, 2252, 2253, 2254, 2255, 2256, 2257, 2258, 2259, 2260, 2261, 2262, 2263, 2264, 2265, 2266, 2267, 2268, 2269, 2270, 2271, 2272, 2273, 2274, 2275, 2276, 2277, 2278, 2279, 2280, 2281, 2282, 2283, 2284, 2285, 2286, 2287, 2288, 2289, 2290, 2291, 2299, 2300, 2301, 2302, 2303, 2304, 2305, 2306, 2307, 2308, 2309, 2310, 2311, 2312, 2313, 2314, 2315, 2316, 2317, 2318, 2319, 2321, 2322, 2323, 2324, 2325, 2326, 2327, 2328, 2329, 2330, 2331, 2332, 2333, 2334, 2335, 2336, 2337, 2338, 2339, 2340, 2341, 2342, 2343, 2344, 2345, 2346, 2347, 2348, 2349, 2350, 2351, 2352, 2353, 2354, 2355, 2356, 2357, 2358, 2359, 2360, 2361, 2362, 2363, 2364, 2365, 2366, 2367, 2368, 2369, 2370, 2371, 2372, 2373, 2374, 2381, 2382, 2383, 2384, 2385, 2386, 2387, 2388, 2389, 2390, 2391, 2392, 2393, 2394, 2395, 2396, 2397, 2398, 2399, 2401, 2402, 2403, 2404, 2405, 2406, 2407, 2408, 2409, 2410, 2411, 2412, 2413, 2414, 2415, 2416, 2417, 2418, 2419, 2420, 2421, 2422, 2423, 2424, 2425, 2426, 2427, 2428, 2429, 2430, 2431, 2432, 2433, 2434, 2435, 2436, 2437, 2438, 2439, 2440, 2441, 2442, 2443, 2444, 2445, 2446, 2447, 2448, 2449, 2450, 2451, 2452, 2453, 2454, 2455, 2456, 2463, 2464, 2465, 2466, 2467, 2468, 2469, 2470, 2471, 2472, 2473, 2474, 2475, 2476, 2477, 2478, 2479, 2481, 2482, 2483, 2484, 2485, 2486, 2487, 2488, 2489, 2490, 2491, 2492, 2493, 2494, 2495, 2496, 2497, 2498, 2499, 2500, 2501, 2502, 2503, 2504, 2505, 2506, 2507, 2508, 2509, 2510, 2511, 2512, 2513, 2514, 2515, 2516, 2517, 2518, 2519, 2520, 2521, 2522, 2523, 2524, 2525, 2526, 2527, 2528, 2529, 2530, 2531, 2532, 2533, 2534, 2535, 2536, 2537, 2538, 2544, 2545, 2546, 2547, 2548, 2549, 2550, 2551, 2552, 2553, 2554, 2555, 2556, 2557, 2558, 2559, 2561, 2562, 2563, 2564, 2565, 2566, 2567, 2568, 2569, 2570, 2571, 2572, 2573, 2574, 2575, 2576, 2577, 2578, 2579, 2580, 2581, 2582, 2583, 2584, 2585, 2586, 2587, 2588, 2589, 2590, 2591, 2592, 2593, 2594, 2595, 2596, 2597, 2598, 2599, 2600, 2601, 2602, 2603, 2604, 2605, 2606, 2607, 2608, 2609, 2610, 2611, 2612, 2613, 2614, 2615, 2616, 2617, 2618, 2619, 2620, 2621, 2626, 2627, 2628, 2629, 2630, 2631, 2632, 2633, 2634, 2635, 2636, 2637, 2638, 2639, 2641, 2642, 2643, 2644, 2645, 2646, 2647, 2648, 2649, 2650, 2651, 2652, 2653, 2654, 2655, 2656, 2657, 2658, 2659, 2660, 2661, 2662, 2663, 2664, 2665, 2666, 2667, 2668, 2669, 2670, 2671, 2672, 2673, 2674, 2675, 2676, 2677, 2678, 2679, 2680, 2681, 2682, 2683, 2684, 2685, 2686, 2687, 2688, 2689, 2690, 2691, 2692, 2693, 2694, 2695, 2696, 2697, 2698, 2699, 2700, 2701, 2702, 2703, 2708, 2709, 2710, 2711, 2712, 2713, 2714, 2715, 2716, 2717, 2718, 2719, 2721, 2722, 2723, 2724, 2725, 2726, 2727, 2728, 2729, 2730, 2731, 2732, 2733, 2734, 2735, 2736, 2737, 2738, 2739, 2740, 2741, 2742, 2743, 2744, 2745, 2746, 2747, 2748, 2749, 2750, 2751, 2752, 2753, 2754, 2755, 2756, 2757, 2758, 2759, 2760, 2761, 2762, 2763, 2764, 2765, 2766, 2767, 2768, 2769, 2770, 2771, 2772, 2773, 2774, 2775, 2776, 2777, 2778, 2779, 2780, 2781, 2782, 2783, 2784, 2785, 2790, 2791, 2792, 2793, 2794, 2795, 2796, 2797, 2798, 2799, 2801, 2802, 2803, 2804, 2805, 2806, 2807, 2808, 2809, 2810, 2811, 2812, 2813, 2814, 2815, 2816, 2817, 2818, 2819, 2820, 2821, 2822, 2823, 2824, 2825, 2826, 2827, 2828, 2829, 2830, 2831, 2832, 2833, 2834, 2835, 2836, 2837, 2838, 2839, 2840, 2841, 2842, 2843, 2844, 2845, 2846, 2847, 2848, 2849, 2850, 2851, 2852, 2853, 2854, 2855, 2856, 2857, 2858, 2859, 2860, 2861, 2862, 2863, 2864, 2865, 2866, 2867, 2868, 2872, 2873, 2874, 2875, 2876, 2877, 2878, 2879, 2881, 2882, 2883, 2884, 2885, 2886, 2887, 2888, 2889, 2890, 2891, 2892, 2893, 2894, 2895, 2896, 2897, 2898, 2899, 2900, 2901, 2902, 2903, 2904, 2905, 2906, 2907, 2908, 2909, 2910, 2911, 2912, 2913, 2914, 2915, 2916, 2917, 2918, 2919, 2920, 2921, 2922, 2923, 2924, 2925, 2926, 2927, 2928, 2929, 2930, 2931, 2932, 2933, 2934, 2935, 2936, 2937, 2938, 2939, 2940, 2941, 2942, 2943, 2944, 2945, 2946, 2947, 2948, 2949, 2950, 2953, 2954, 2955, 2956, 2957, 2958, 2959, 2961, 2962, 2963, 2964, 2965, 2966, 2967, 2968, 2969, 2970, 2971, 2972, 2973, 2974, 2975, 2976, 2977, 2978, 2979, 2980, 2981, 2982, 2983, 2984, 2985, 2986, 2987, 2988, 2989, 2990, 2991, 2992, 2993, 2994, 2995, 2996, 2997, 2998, 2999, 3000, 3001, 3002, 3003, 3004, 3005, 3006, 3007, 3008, 3009, 3010, 3011, 3012, 3013, 3014, 3015, 3016, 3017, 3018, 3019, 3020, 3021, 3022, 3023, 3024, 3025, 3026, 3027, 3028, 3029, 3030, 3031, 3032, 3035, 3036, 3037, 3038, 3039, 3041, 3042, 3043, 3044, 3045, 3046, 3047, 3048, 3049, 3050, 3051, 3052, 3053, 3054, 3055, 3056, 3057, 3058, 3059, 3060, 3061, 3062, 3063, 3064, 3065, 3066, 3067, 3068, 3069, 3070, 3071, 3072, 3073, 3074, 3075, 3076, 3077, 3078, 3079, 3080, 3081, 3082, 3083, 3084, 3085, 3086, 3087, 3088, 3089, 3090, 3091, 3092, 3093, 3094, 3095, 3096, 3097, 3098, 3099, 3100, 3101, 3102, 3103, 3104, 3105, 3106, 3107, 3108, 3109, 3110, 3111, 3112, 3113, 3114, 3115, 3117, 3118, 3119, 3121, 3122, 3123, 3124, 3125, 3126, 3127, 3128, 3129, 3130, 3131, 3132, 3133, 3134, 3135, 3136, 3137, 3138, 3139, 3140, 3141, 3142, 3143, 3144, 3145, 3146, 3147, 3148, 3149, 3150, 3151, 3152, 3153, 3154, 3155, 3156, 3157, 3158, 3159, 3160, 3161, 3162, 3163, 3164, 3165, 3166, 3167, 3168, 3169, 3170, 3171, 3172, 3173, 3174, 3175, 3176, 3177, 3178, 3179, 3180, 3181, 3182, 3183, 3184, 3185, 3186, 3187, 3188, 3189, 3190, 3191, 3192, 3193, 3194, 3195, 3196, 3197, 3199, 3201, 3202, 3203, 3204, 3205, 3206, 3207, 3208, 3209, 3210, 3211, 3212, 3213, 3214, 3215, 3216, 3217, 3218, 3219, 3220, 3221, 3222, 3223, 3224, 3225, 3226, 3227, 3228, 3229, 3230, 3231, 3232, 3233, 3234, 3235, 3236, 3237, 3238, 3239, 3240, 3241, 3242, 3243, 3244, 3245, 3246, 3247, 3248, 3249, 3250, 3251, 3252, 3253, 3254, 3255, 3256, 3257, 3258, 3259, 3260, 3261, 3262, 3263, 3264, 3265, 3266, 3267, 3268, 3269, 3270, 3271, 3272, 3273, 3274, 3275, 3276, 3277, 3278, 3279, 3281, 3282, 3283, 3284, 3285, 3286, 3287, 3288, 3289, 3290, 3291, 3292, 3293, 3294, 3295, 3296, 3297, 3298, 3299, 3300, 3301, 3302, 3303, 3304, 3305, 3306, 3307, 3308, 3309, 3310, 3311, 3312, 3313, 3314, 3315, 3316, 3317, 3318, 3319, 3320, 3321, 3322, 3323, 3324, 3325, 3326, 3327, 3328, 3329, 3330, 3331, 3332, 3333, 3334, 3335, 3336, 3337, 3338, 3339, 3340, 3341, 3342, 3343, 3344, 3345, 3346, 3347, 3348, 3349, 3350, 3351, 3352, 3353, 3354, 3355, 3356, 3357, 3358, 3359, 3361, 3363, 3364, 3365, 3366, 3367, 3368, 3369, 3370, 3371, 3372, 3373, 3374, 3375, 3376, 3377, 3378, 3379, 3380, 3381, 3382, 3383, 3384, 3385, 3386, 3387, 3388, 3389, 3390, 3391, 3392, 3393, 3394, 3395, 3396, 3397, 3398, 3399, 3400, 3401, 3402, 3403, 3404, 3405, 3406, 3407, 3408, 3409, 3410, 3411, 3412, 3413, 3414, 3415, 3416, 3417, 3418, 3419, 3420, 3421, 3422, 3423, 3424, 3425, 3426, 3427, 3428, 3429, 3430, 3431, 3432, 3433, 3434, 3435, 3436, 3437, 3438, 3439, 3441, 3442, 3443, 3445, 3446, 3447, 3448, 3449, 3450, 3451, 3452, 3453, 3454, 3455, 3456, 3457, 3458, 3459, 3460, 3461, 3462, 3463, 3464, 3465, 3466, 3467, 3468, 3469, 3470, 3471, 3472, 3473, 3474, 3475, 3476, 3477, 3478, 3479, 3480, 3481, 3482, 3483, 3484, 3485, 3486, 3487, 3488, 3489, 3490, 3491, 3492, 3493, 3494, 3495, 3496, 3497, 3498, 3499, 3500, 3501, 3502, 3503, 3504, 3505, 3506, 3507, 3508, 3509, 3510, 3511, 3512, 3513, 3514, 3515, 3516, 3517, 3518, 3519, 3521, 3522, 3523, 3524, 3525, 3528, 3529, 3530, 3531, 3532, 3533, 3534, 3535, 3536, 3537, 3538, 3539, 3540, 3541, 3542, 3543, 3544, 3545, 3546, 3547, 3548, 3549, 3550, 3551, 3552, 3553, 3554, 3555, 3556, 3557, 3558, 3559, 3560, 3561, 3562, 3563, 3564, 3565, 3566, 3567, 3568, 3569, 3570, 3571, 3572, 3573, 3574, 3575, 3576, 3577, 3578, 3579, 3580, 3581, 3582, 3583, 3584, 3585, 3586, 3587, 3588, 3589, 3590, 3591, 3592, 3593, 3594, 3595, 3596, 3597, 3598, 3599, 3601, 3602, 3603, 3604, 3605, 3606, 3607, 3610, 3611, 3612, 3613, 3614, 3615, 3616, 3617, 3618, 3619, 3620, 3621, 3622, 3623, 3624, 3625, 3626, 3627, 3628, 3629, 3630, 3631, 3632, 3633, 3634, 3635, 3636, 3637, 3638, 3639, 3640, 3641, 3642, 3643, 3644, 3645, 3646, 3647, 3648, 3649, 3650, 3651, 3652, 3653, 3654, 3655, 3656, 3657, 3658, 3659, 3660, 3661, 3662, 3663, 3664, 3665, 3666, 3667, 3668, 3669, 3670, 3671, 3672, 3673, 3674, 3675, 3676, 3677, 3678, 3679, 3681, 3682, 3683, 3684, 3685, 3686, 3687, 3688, 3692, 3693, 3694, 3695, 3696, 3697, 3698, 3699, 3700, 3701, 3702, 3703, 3704, 3705, 3706, 3707, 3708, 3709, 3710, 3711, 3712, 3713, 3714, 3715, 3716, 3717, 3718, 3719, 3720, 3721, 3722, 3723, 3724, 3725, 3726, 3727, 3728, 3729, 3730, 3731, 3732, 3733, 3734, 3735, 3736, 3737, 3738, 3739, 3740, 3741, 3742, 3743, 3744, 3745, 3746, 3747, 3748, 3749, 3750, 3751, 3752, 3753, 3754, 3755, 3756, 3757, 3758, 3759, 3761, 3762, 3763, 3764, 3765, 3766, 3767, 3768, 3769, 3770, 3775, 3776, 3777, 3778, 3779, 3780, 3781, 3782, 3783, 3784, 3785, 3786, 3787, 3788, 3789, 3790, 3791, 3792, 3793, 3794, 3795, 3796, 3797, 3798, 3799, 3800, 3801, 3802, 3803, 3804, 3805, 3806, 3807, 3808, 3809, 3810, 3811, 3812, 3813, 3814, 3815, 3816, 3817, 3818, 3819, 3820, 3821, 3822, 3823, 3824, 3825, 3826, 3827, 3828, 3829, 3830, 3831, 3832, 3833, 3834, 3835, 3836, 3837, 3838, 3839, 3841, 3842, 3843, 3844, 3845, 3846, 3847, 3848, 3849, 3850, 3851, 3852, 3857, 3858, 3859, 3860, 3861, 3862, 3863, 3864, 3865, 3866, 3867, 3868, 3869, 3870, 3871, 3872, 3873, 3874, 3875, 3876, 3877, 3878, 3879, 3880, 3881, 3882, 3883, 3884, 3885, 3886, 3887, 3888, 3889, 3890, 3891, 3892, 3893, 3894, 3895, 3896, 3897, 3898, 3899, 3900, 3901, 3902, 3903, 3904, 3905, 3906, 3907, 3908, 3909, 3910, 3911, 3912, 3913, 3914, 3915, 3916, 3917, 3918, 3919, 3921, 3922, 3923, 3924, 3925, 3926, 3927, 3928, 3929, 3930, 3931, 3932, 3933, 3934, 3939, 3940, 3941, 3942, 3943, 3944, 3945, 3946, 3947, 3948, 3949, 3950, 3951, 3952, 3953, 3954, 3955, 3956, 3957, 3958, 3959, 3960, 3961, 3962, 3963, 3964, 3965, 3966, 3967, 3968, 3969, 3970, 3971, 3972, 3973, 3974, 3975, 3976, 3977, 3978, 3979, 3980, 3981, 3982, 3983, 3984, 3985, 3986, 3987, 3988, 3989, 3990, 3991, 3992, 3993, 3994, 3995, 3996, 3997, 3998, 3999, 4001, 4002, 4003, 4004, 4005, 4006, 4007, 4008, 4009, 4010, 4011, 4012, 4013, 4014, 4015, 4016, 4022, 4023, 4024, 4025, 4026, 4027, 4028, 4029, 4030, 4031, 4032, 4033, 4034, 4035, 4036, 4037, 4038, 4039, 4040, 4041, 4042, 4043, 4044, 4045, 4046, 4047, 4048, 4049, 4050, 4051, 4052, 4053, 4054, 4055, 4056, 4057, 4058, 4059, 4060, 4061, 4062, 4063, 4064, 4065, 4066, 4067, 4068, 4069, 4070, 4071, 4072, 4073, 4074, 4075, 4076, 4077, 4078, 4079, 4081, 4082, 4083, 4084, 4085, 4086, 4087, 4088, 4089, 4090, 4091, 4092, 4093, 4094, 4095, 4096, 4097, 4104, 4105, 4106, 4107, 4108, 4109, 4110, 4111, 4112, 4113, 4114, 4115, 4116, 4117, 4118, 4119, 4120, 4121, 4122, 4123, 4124, 4125, 4126, 4127, 4128, 4129, 4130, 4131, 4132, 4133, 4134, 4135, 4136, 4137, 4138, 4139, 4140, 4141, 4142, 4143, 4144, 4145, 4146, 4147, 4148, 4149, 4150, 4151, 4152, 4153, 4154, 4155, 4156, 4157, 4158, 4159, 4161, 4162, 4163, 4164, 4165, 4166, 4167, 4168, 4169, 4170, 4171, 4172, 4173, 4174, 4175, 4176, 4177, 4178, 4179, 4186, 4187, 4188, 4189, 4190, 4191, 4192, 4193, 4194, 4195, 4196, 4197, 4198, 4199, 4200, 4201, 4202, 4203, 4204, 4205, 4206, 4207, 4208, 4209, 4210, 4211, 4212, 4213, 4214, 4215, 4216, 4217, 4218, 4219, 4220, 4221, 4222, 4223, 4224, 4225, 4226, 4227, 4228, 4229, 4230, 4231, 4232, 4233, 4234, 4235, 4236, 4237, 4238, 4239, 4241, 4242, 4243, 4244, 4245, 4246, 4247, 4248, 4249, 4250, 4251, 4252, 4253, 4254, 4255, 4256, 4257, 4258, 4259, 4260, 4261, 4269, 4270, 4271, 4272, 4273, 4274, 4275, 4276, 4277, 4278, 4279, 4280, 4281, 4282, 4283, 4284, 4285, 4286, 4287, 4288, 4289, 4290, 4291, 4292, 4293, 4294, 4295, 4296, 4297, 4298, 4299, 4300, 4301, 4302, 4303, 4304, 4305, 4306, 4307, 4308, 4309, 4310, 4311, 4312, 4313, 4314, 4315, 4316, 4317, 4318, 4319, 4321, 4322, 4323, 4324, 4325, 4326, 4327, 4328, 4329, 4330, 4331, 4332, 4333, 4334, 4335, 4336, 4337, 4338, 4339, 4340, 4341, 4342, 4343, 4351, 4352, 4353, 4354, 4355, 4356, 4357, 4358, 4359, 4360, 4361, 4362, 4363, 4364, 4365, 4366, 4367, 4368, 4369, 4370, 4371, 4372, 4373, 4374, 4375, 4376, 4377, 4378, 4379, 4380, 4381, 4382, 4383, 4384, 4385, 4386, 4387, 4388, 4389, 4390, 4391, 4392, 4393, 4394, 4395, 4396, 4397, 4398, 4399, 4401, 4402, 4403, 4404, 4405, 4406, 4407, 4408, 4409, 4410, 4411, 4412, 4413, 4414, 4415, 4416, 4417, 4418, 4419, 4420, 4421, 4422, 4423, 4424, 4425, 4434, 4435, 4436, 4437, 4438, 4439, 4440, 4441, 4442, 4443, 4444, 4445, 4446, 4447, 4448, 4449, 4450, 4451, 4452, 4453, 4454, 4455, 4456, 4457, 4458, 4459, 4460, 4461, 4462, 4463, 4464, 4465, 4466, 4467, 4468, 4469, 4470, 4471, 4472, 4473, 4474, 4475, 4476, 4477, 4478, 4482, 4483, 4484, 4485, 4486, 4487, 4488, 4489, 4490, 4491, 4492, 4493, 4494, 4495, 4496, 4497, 4498, 4499, 4500, 4501, 4502, 4503, 4504, 4505, 4506, 4516, 4517, 4518, 4519, 4520, 4521, 4522, 4523, 4524, 4525, 4526, 4527, 4528, 4529, 4530, 4531, 4532, 4533, 4534, 4535, 4536, 4537, 4538, 4539, 4540, 4541, 4542, 4543, 4544, 4545, 4546, 4547, 4548, 4549, 4550, 4551, 4552, 4553, 4554, 4555, 4556, 4557, 4558, 4562, 4563, 4564, 4565, 4566, 4567, 4568, 4569, 4570, 4571, 4572, 4573, 4574, 4575, 4576, 4577, 4578, 4579, 4580, 4581, 4582, 4583, 4584, 4585, 4586, 4587, 4588, 4598, 4599, 4600, 4601, 4602, 4603, 4604, 4605, 4606, 4607, 4608, 4609, 4610, 4611, 4612, 4613, 4614, 4615, 4616, 4617, 4618, 4619, 4620, 4621, 4622, 4623, 4624, 4625, 4626, 4627, 4628, 4629, 4630, 4631, 4632, 4633, 4634, 4635, 4636, 4637, 4638, 4642, 4643, 4644, 4645, 4646, 4647, 4648, 4649, 4650, 4651, 4652, 4653, 4654, 4655, 4656, 4657, 4658, 4659, 4660, 4661, 4662, 4663, 4664, 4665, 4666, 4667, 4668, 4669, 4670, 4681, 4682, 4683, 4684, 4685, 4686, 4687, 4688, 4689, 4690, 4691, 4692, 4693, 4694, 4695, 4696, 4697, 4698, 4699, 4700, 4701, 4702, 4703, 4704, 4705, 4706, 4707, 4708, 4709, 4710, 4711, 4712, 4713, 4714, 4715, 4716, 4717, 4718, 4722, 4723, 4724, 4725, 4726, 4727, 4728, 4729, 4730, 4731, 4732, 4733, 4734, 4735, 4736, 4737, 4738, 4739, 4740, 4741, 4742, 4743, 4744, 4745, 4746, 4747, 4748, 4749, 4750, 4751, 4752, 4763, 4764, 4765, 4766, 4767, 4768, 4769, 4770, 4771, 4772, 4773, 4774, 4775, 4776, 4777, 4778, 4779, 4780, 4781, 4782, 4783, 4784, 4785, 4786, 4787, 4788, 4789, 4790, 4791, 4792, 4793, 4794, 4795, 4796, 4797, 4798, 4802, 4803, 4804, 4805, 4806, 4807, 4808, 4809, 4810, 4811, 4812, 4813, 4814, 4815, 4816, 4817, 4818, 4819, 4820, 4821, 4822, 4823, 4824, 4825, 4826, 4827, 4828, 4829, 4830, 4831, 4832, 4833, 4834, 4845, 4846, 4847, 4848, 4849, 4850, 4851, 4852, 4853, 4854, 4855, 4856, 4857, 4858, 4859, 4860, 4861, 4862, 4863, 4864, 4865, 4866, 4867, 4868, 4869, 4870, 4871, 4872, 4873, 4874, 4875, 4876, 4877, 4878, 4882, 4883, 4884, 4885, 4886, 4887, 4888, 4889, 4890, 4891, 4892, 4893, 4894, 4895, 4896, 4897, 4898, 4899, 4900, 4901, 4902, 4903, 4904, 4905, 4906, 4907, 4908, 4909, 4910, 4911, 4912, 4913, 4914, 4915, 4928, 4929, 4930, 4931, 4932, 4933, 4934, 4935, 4936, 4937, 4938, 4939, 4940, 4941, 4942, 4943, 4944, 4945, 4946, 4947, 4948, 4949, 4950, 4951, 4952, 4953, 4954, 4955, 4956, 4957, 4958, 4962, 4963, 4964, 4965, 4966, 4967, 4968, 4969, 4970, 4971, 4972, 4973, 4974, 4975, 4976, 4977, 4978, 4979, 4980, 4981, 4982, 4983, 4984, 4985, 4986, 4987, 4988, 4989, 4990, 4991, 4992, 4993, 4994, 4995, 4996, 4997, 5010, 5011, 5012, 5013, 5014, 5015, 5016, 5017, 5018, 5019, 5020, 5021, 5022, 5023, 5024, 5025, 5026, 5027, 5028, 5029, 5030, 5031, 5032, 5033, 5034, 5035, 5036, 5037, 5038, 5042, 5043, 5044, 5045, 5046, 5047, 5048, 5049, 5050, 5051, 5052, 5053, 5054, 5055, 5056, 5057, 5058, 5059, 5060, 5061, 5062, 5063, 5064, 5065, 5066, 5067, 5068, 5069, 5070, 5071, 5072, 5073, 5074, 5075, 5076, 5077, 5078, 5079, 5092, 5093, 5094, 5095, 5096, 5097, 5098, 5099, 5100, 5101, 5102, 5103, 5104, 5105, 5106, 5107, 5108, 5109, 5110, 5111, 5112, 5113, 5114, 5115, 5116, 5117, 5118, 5122, 5123, 5124, 5125, 5126, 5127, 5128, 5129, 5130, 5131, 5132, 5133, 5134, 5135, 5136, 5137, 5138, 5139, 5140, 5141, 5142, 5143, 5144, 5145, 5146, 5147, 5148, 5149, 5150, 5151, 5152, 5153, 5154, 5155, 5156, 5157, 5158, 5159, 5160, 5161, 5175, 5176, 5177, 5178, 5179, 5180, 5181, 5182, 5183, 5184, 5185, 5186, 5187, 5188, 5189, 5190, 5191, 5192, 5193, 5194, 5195, 5196, 5197, 5198, 5202, 5203, 5204, 5205, 5206, 5207, 5208, 5209, 5210, 5211, 5212, 5213, 5214, 5215, 5216, 5217, 5218, 5219, 5220, 5221, 5222, 5223, 5224, 5225, 5226, 5227, 5228, 5229, 5230, 5231, 5232, 5233, 5234, 5235, 5236, 5237, 5238, 5239, 5240, 5241, 5242, 5243, 5257, 5258, 5259, 5260, 5261, 5262, 5263, 5264, 5265, 5266, 5267, 5268, 5269, 5270, 5271, 5272, 5273, 5274, 5275, 5276, 5277, 5278, 5282, 5283, 5284, 5285, 5286, 5287, 5288, 5289, 5290, 5291, 5292, 5293, 5294, 5295, 5296, 5297, 5298, 5299, 5300, 5301, 5302, 5303, 5304, 5305, 5306, 5307, 5308, 5309, 5310, 5311, 5312, 5313, 5314, 5315, 5316, 5317, 5318, 5319, 5320, 5321, 5322, 5323, 5324, 5340, 5341, 5342, 5343, 5344, 5345, 5346, 5347, 5348, 5349, 5350, 5351, 5352, 5353, 5354, 5355, 5356, 5357, 5358, 5362, 5363, 5364, 5365, 5366, 5367, 5368, 5369, 5370, 5371, 5372, 5373, 5374, 5375, 5376, 5377, 5378, 5379, 5380, 5381, 5382, 5383, 5384, 5385, 5386, 5387, 5388, 5389, 5390, 5391, 5392, 5393, 5394, 5395, 5396, 5397, 5398, 5399, 5400, 5401, 5402, 5403, 5404, 5405, 5406, 5422, 5423, 5424, 5425, 5426, 5427, 5428, 5429, 5430, 5431, 5432, 5433, 5434, 5435, 5436, 5437, 5438, 5442, 5443, 5444, 5445, 5446, 5447, 5448, 5449, 5450, 5451, 5452, 5453, 5454, 5455, 5456, 5457, 5458, 5459, 5460, 5461, 5462, 5463, 5464, 5465, 5466, 5467, 5468, 5469, 5470, 5471, 5472, 5473, 5474, 5475, 5476, 5477, 5478, 5479, 5480, 5481, 5482, 5483, 5484, 5485, 5486, 5487, 5488, 5504, 5505, 5506, 5507, 5508, 5509, 5510, 5511, 5512, 5513, 5514, 5515, 5516, 5517, 5518, 5522, 5523, 5524, 5525, 5526, 5527, 5528, 5529, 5530, 5531, 5532, 5533, 5534, 5535, 5536, 5537, 5538, 5539, 5540, 5541, 5542, 5543, 5544, 5545, 5546, 5547, 5548, 5549, 5550, 5551, 5552, 5553, 5554, 5555, 5556, 5557, 5558, 5559, 5560, 5561, 5562, 5563, 5564, 5565, 5566, 5567, 5568, 5569, 5570, 5587, 5588, 5589, 5590, 5591, 5592, 5593, 5594, 5595, 5596, 5597, 5603, 5604, 5605, 5606, 5607, 5608, 5609, 5610, 5611, 5612, 5613, 5614, 5615, 5616, 5617, 5618, 5619, 5620, 5621, 5622, 5623, 5624, 5625, 5626, 5627, 5628, 5629, 5630, 5631, 5632, 5633, 5634, 5635, 5636, 5637, 5638, 5639, 5640, 5641, 5642, 5643, 5644, 5645, 5646, 5647, 5648, 5649, 5650, 5651, 5669, 5670, 5671, 5672, 5673, 5674, 5675, 5676, 5677, 5683, 5684, 5685, 5686, 5687, 5688, 5689, 5690, 5691, 5692, 5693, 5694, 5695, 5696, 5697, 5698, 5699, 5700, 5701, 5702, 5703, 5704, 5705, 5706, 5707, 5708, 5709, 5710, 5711, 5712, 5713, 5714, 5715, 5716, 5717, 5718, 5719, 5720, 5721, 5722, 5723, 5724, 5725, 5726, 5727, 5728, 5729, 5730, 5731, 5732, 5733, 5751, 5752, 5753, 5754, 5755, 5756, 5757, 5763, 5764, 5765, 5766, 5767, 5768, 5769, 5770, 5771, 5772, 5773, 5774, 5775, 5776, 5777, 5778, 5779, 5780, 5781, 5782, 5783, 5784, 5785, 5786, 5787, 5788, 5789, 5790, 5791, 5792, 5793, 5794, 5795, 5796, 5797, 5798, 5799, 5800, 5801, 5802, 5803, 5804, 5805, 5806, 5807, 5808, 5809, 5810, 5811, 5812, 5813, 5814, 5815, 5832, 5833, 5834, 5835, 5836, 5837, 5843, 5844, 5845, 5846, 5847, 5848, 5849, 5850, 5851, 5852, 5853, 5854, 5855, 5856, 5857, 5858, 5859, 5860, 5861, 5862, 5863, 5864, 5865, 5866, 5867, 5868, 5869, 5870, 5871, 5872, 5873, 5874, 5875, 5876, 5877, 5878, 5879, 5880, 5881, 5882, 5883, 5884, 5885, 5886, 5887, 5888, 5889, 5890, 5891, 5892, 5893, 5894, 5895, 5896, 5897, 5913, 5914, 5915, 5916, 5917, 5923, 5924, 5925, 5926, 5927, 5928, 5929, 5930, 5931, 5932, 5933, 5934, 5935, 5936, 5937, 5938, 5939, 5940, 5941, 5942, 5943, 5944, 5945, 5946, 5947, 5948, 5949, 5950, 5951, 5952, 5953, 5954, 5955, 5956, 5957, 5958, 5959, 5960, 5961, 5962, 5963, 5964, 5965, 5966, 5967, 5968, 5969, 5970, 5971, 5972, 5973, 5974, 5975, 5976, 5977, 5978, 5979, 5994, 5995, 5996, 5997, 6003, 6004, 6005, 6006, 6007, 6008, 6009, 6010, 6011, 6012, 6013, 6014, 6015, 6016, 6017, 6018, 6019, 6020, 6021, 6022, 6023, 6024, 6025, 6026, 6027, 6028, 6029, 6030, 6031, 6032, 6033, 6034, 6035, 6036, 6037, 6038, 6039, 6040, 6041, 6042, 6043, 6044, 6045, 6046, 6047, 6048, 6049, 6050, 6051, 6052, 6053, 6054, 6055, 6056, 6057, 6058, 6059, 6060, 6075, 6076, 6077, 6083, 6084, 6085, 6086, 6087, 6088, 6089, 6090, 6091, 6092, 6093, 6094, 6095, 6096, 6097, 6098, 6099, 6100, 6101, 6102, 6103, 6104, 6105, 6106, 6107, 6108, 6109, 6110, 6111, 6112, 6113, 6114, 6115, 6116, 6117, 6118, 6119, 6120, 6121, 6122, 6123, 6124, 6125, 6126, 6127, 6128, 6129, 6130, 6131, 6132, 6133, 6134, 6135, 6136, 6137, 6138, 6139, 6140, 6141, 6142, 6156, 6157, 6163, 6164, 6165, 6166, 6167, 6168, 6169, 6170, 6171, 6172, 6173, 6174, 6175, 6176, 6177, 6178, 6179, 6180, 6181, 6182, 6183, 6184, 6185, 6186, 6187, 6188, 6189, 6190, 6191, 6192, 6193, 6194, 6195, 6196, 6197, 6198, 6199, 6200, 6201, 6202, 6203, 6204, 6205, 6206, 6207, 6208, 6209, 6210, 6211, 6212, 6213, 6214, 6215, 6216, 6217, 6218, 6219, 6220, 6221, 6222, 6223, 6224, 6237, 6243, 6244, 6245, 6246, 6247, 6248, 6249, 6250, 6251, 6252, 6253, 6254, 6255, 6256, 6257, 6258, 6259, 6260, 6261, 6262, 6263, 6264, 6265, 6266, 6267, 6268, 6269, 6270, 6271, 6272, 6273, 6274, 6275, 6276, 6277, 6278, 6279, 6280, 6281, 6282, 6283, 6284, 6285, 6286, 6287, 6288, 6289, 6290, 6291, 6292, 6293, 6294, 6295, 6296, 6297, 6298, 6299, 6300, 6301, 6302, 6303, 6304, 6305, 6306, 6323, 6324, 6325, 6326, 6327, 6328, 6329, 6330, 6331, 6332, 6333, 6334, 6335, 6336, 6337, 6338, 6339, 6340, 6341, 6342, 6343, 6344, 6345, 6346, 6347, 6348, 6349, 6350, 6351, 6352, 6353, 6354, 6355, 6356, 6357, 6358, 6359, 6360, 6361, 6362, 6363, 6364, 6365, 6366, 6367, 6368, 6369, 6370, 6371, 6372, 6373, 6374, 6375, 6376, 6377, 6378, 6379, 6380, 6381, 6382, 6383, 6384, 6385, 6386, 6387, 6388, 6403, 6404, 6405, 6406, 6407, 6408, 6409, 6410, 6411, 6412, 6413, 6414, 6415, 6416, 6417, 6418, 6419, 6420, 6421, 6422, 6423, 6424, 6425, 6426, 6427, 6428, 6429, 6430, 6431, 6432, 6433, 6434, 6435, 6436, 6437, 6438, 6439, 6440, 6441, 6442, 6443, 6444, 6445, 6446, 6447, 6448, 6449, 6450, 6451, 6452, 6453, 6454, 6455, 6456, 6457, 6458, 6459, 6460, 6461, 6462, 6463, 6464, 6465, 6466, 6467, 6468, 6469, 6483, 6484, 6485, 6486, 6487, 6488, 6489, 6490, 6491, 6492, 6493, 6494, 6495, 6496, 6497, 6498, 6499, 6500, 6501, 6502, 6503, 6504, 6505, 6506, 6507, 6508, 6509, 6510, 6511, 6512, 6513, 6514, 6515, 6516, 6517, 6518, 6519, 6520, 6521, 6522, 6523, 6524, 6525, 6526, 6527, 6528, 6529, 6530, 6531, 6532, 6533, 6534, 6535, 6536, 6537, 6538, 6539, 6540, 6541, 6542, 6543, 6544, 6545, 6546, 6547, 6548, 6549, 6550, 6551]\n",
      "val ids:  []\n",
      "test ids:  [0, 1, 2, 3, 4, 5, 6, 7, 8, 78, 79, 80, 81, 82, 83, 84, 85, 86, 87, 88, 89, 90, 158, 159, 160, 161, 162, 163, 164, 165, 166, 167, 168, 169, 170, 171, 238, 239, 240, 241, 242, 243, 244, 245, 246, 247, 248, 249, 250, 251, 252, 253, 318, 319, 320, 321, 322, 324, 325, 326, 327, 328, 329, 330, 331, 332, 333, 334, 335, 398, 399, 400, 401, 402, 405, 406, 407, 408, 409, 410, 411, 412, 413, 414, 415, 416, 417, 478, 479, 480, 481, 482, 486, 487, 488, 489, 490, 491, 492, 493, 494, 495, 496, 497, 498, 499, 558, 559, 560, 561, 562, 567, 568, 569, 570, 571, 572, 573, 574, 575, 576, 577, 578, 579, 580, 638, 639, 640, 641, 642, 648, 649, 650, 651, 652, 653, 654, 655, 656, 657, 658, 659, 660, 661, 662, 718, 719, 720, 721, 722, 729, 730, 731, 732, 733, 734, 735, 736, 737, 738, 739, 740, 741, 742, 743, 744, 798, 799, 800, 801, 802, 810, 811, 812, 813, 814, 815, 816, 817, 818, 819, 820, 821, 822, 823, 824, 825, 826, 878, 879, 880, 881, 882, 892, 893, 894, 895, 896, 897, 898, 899, 900, 901, 902, 903, 904, 905, 906, 907, 908, 958, 959, 960, 961, 962, 974, 975, 976, 977, 978, 979, 980, 981, 982, 983, 984, 985, 986, 987, 988, 989, 1039, 1040, 1041, 1057, 1058, 1059, 1060, 1061, 1062, 1063, 1064, 1065, 1066, 1067, 1068, 1069, 1070, 1071, 1119, 1120, 1121, 1139, 1140, 1141, 1142, 1143, 1144, 1145, 1146, 1147, 1148, 1149, 1150, 1151, 1152, 1153, 1199, 1200, 1201, 1221, 1222, 1223, 1224, 1225, 1226, 1227, 1228, 1229, 1230, 1231, 1232, 1233, 1234, 1235, 1279, 1280, 1281, 1304, 1305, 1306, 1307, 1308, 1309, 1310, 1311, 1312, 1313, 1314, 1315, 1316, 1359, 1360, 1361, 1386, 1387, 1388, 1389, 1390, 1391, 1392, 1393, 1394, 1395, 1396, 1397, 1398, 1439, 1440, 1441, 1469, 1470, 1471, 1472, 1473, 1474, 1475, 1476, 1477, 1478, 1479, 1480, 1519, 1520, 1521, 1551, 1552, 1553, 1554, 1555, 1556, 1557, 1558, 1559, 1560, 1561, 1562, 1599, 1600, 1601, 1633, 1634, 1635, 1636, 1637, 1638, 1639, 1640, 1641, 1642, 1643, 1644, 1679, 1680, 1681, 1716, 1717, 1718, 1719, 1720, 1721, 1722, 1723, 1724, 1725, 1759, 1760, 1761, 1798, 1799, 1800, 1801, 1802, 1803, 1804, 1805, 1806, 1807, 1839, 1840, 1841, 1880, 1881, 1882, 1883, 1884, 1885, 1886, 1887, 1888, 1889, 1919, 1920, 1921, 1963, 1964, 1965, 1966, 1967, 1968, 1969, 1970, 1971, 1999, 2000, 2001, 2045, 2046, 2047, 2048, 2049, 2050, 2051, 2052, 2053, 2079, 2080, 2081, 2127, 2128, 2129, 2130, 2131, 2132, 2133, 2134, 2160, 2210, 2211, 2212, 2213, 2214, 2215, 2216, 2240, 2292, 2293, 2294, 2295, 2296, 2297, 2298, 2320, 2375, 2376, 2377, 2378, 2379, 2380, 2400, 2457, 2458, 2459, 2460, 2461, 2462, 2480, 2539, 2540, 2541, 2542, 2543, 2560, 2622, 2623, 2624, 2625, 2640, 2704, 2705, 2706, 2707, 2720, 2786, 2787, 2788, 2789, 2800, 2869, 2870, 2871, 2880, 2951, 2952, 2960, 3033, 3034, 3040, 3116, 3120, 3198, 3200, 3280, 3360, 3362, 3440, 3444, 3520, 3526, 3527, 3600, 3608, 3609, 3680, 3689, 3690, 3691, 3760, 3771, 3772, 3773, 3774, 3840, 3853, 3854, 3855, 3856, 3920, 3935, 3936, 3937, 3938, 4000, 4017, 4018, 4019, 4020, 4021, 4080, 4098, 4099, 4100, 4101, 4102, 4103, 4160, 4180, 4181, 4182, 4183, 4184, 4185, 4240, 4262, 4263, 4264, 4265, 4266, 4267, 4268, 4320, 4344, 4345, 4346, 4347, 4348, 4349, 4350, 4400, 4426, 4427, 4428, 4429, 4430, 4431, 4432, 4433, 4479, 4480, 4481, 4507, 4508, 4509, 4510, 4511, 4512, 4513, 4514, 4515, 4559, 4560, 4561, 4589, 4590, 4591, 4592, 4593, 4594, 4595, 4596, 4597, 4639, 4640, 4641, 4671, 4672, 4673, 4674, 4675, 4676, 4677, 4678, 4679, 4680, 4719, 4720, 4721, 4753, 4754, 4755, 4756, 4757, 4758, 4759, 4760, 4761, 4762, 4799, 4800, 4801, 4835, 4836, 4837, 4838, 4839, 4840, 4841, 4842, 4843, 4844, 4879, 4880, 4881, 4916, 4917, 4918, 4919, 4920, 4921, 4922, 4923, 4924, 4925, 4926, 4927, 4959, 4960, 4961, 4998, 4999, 5000, 5001, 5002, 5003, 5004, 5005, 5006, 5007, 5008, 5009, 5039, 5040, 5041, 5080, 5081, 5082, 5083, 5084, 5085, 5086, 5087, 5088, 5089, 5090, 5091, 5119, 5120, 5121, 5162, 5163, 5164, 5165, 5166, 5167, 5168, 5169, 5170, 5171, 5172, 5173, 5174, 5199, 5200, 5201, 5244, 5245, 5246, 5247, 5248, 5249, 5250, 5251, 5252, 5253, 5254, 5255, 5256, 5279, 5280, 5281, 5325, 5326, 5327, 5328, 5329, 5330, 5331, 5332, 5333, 5334, 5335, 5336, 5337, 5338, 5339, 5359, 5360, 5361, 5407, 5408, 5409, 5410, 5411, 5412, 5413, 5414, 5415, 5416, 5417, 5418, 5419, 5420, 5421, 5439, 5440, 5441, 5489, 5490, 5491, 5492, 5493, 5494, 5495, 5496, 5497, 5498, 5499, 5500, 5501, 5502, 5503, 5519, 5520, 5521, 5571, 5572, 5573, 5574, 5575, 5576, 5577, 5578, 5579, 5580, 5581, 5582, 5583, 5584, 5585, 5586, 5598, 5599, 5600, 5601, 5602, 5652, 5653, 5654, 5655, 5656, 5657, 5658, 5659, 5660, 5661, 5662, 5663, 5664, 5665, 5666, 5667, 5668, 5678, 5679, 5680, 5681, 5682, 5734, 5735, 5736, 5737, 5738, 5739, 5740, 5741, 5742, 5743, 5744, 5745, 5746, 5747, 5748, 5749, 5750, 5758, 5759, 5760, 5761, 5762, 5816, 5817, 5818, 5819, 5820, 5821, 5822, 5823, 5824, 5825, 5826, 5827, 5828, 5829, 5830, 5831, 5838, 5839, 5840, 5841, 5842, 5898, 5899, 5900, 5901, 5902, 5903, 5904, 5905, 5906, 5907, 5908, 5909, 5910, 5911, 5912, 5918, 5919, 5920, 5921, 5922, 5980, 5981, 5982, 5983, 5984, 5985, 5986, 5987, 5988, 5989, 5990, 5991, 5992, 5993, 5998, 5999, 6000, 6001, 6002, 6061, 6062, 6063, 6064, 6065, 6066, 6067, 6068, 6069, 6070, 6071, 6072, 6073, 6074, 6078, 6079, 6080, 6081, 6082, 6143, 6144, 6145, 6146, 6147, 6148, 6149, 6150, 6151, 6152, 6153, 6154, 6155, 6158, 6159, 6160, 6161, 6162, 6225, 6226, 6227, 6228, 6229, 6230, 6231, 6232, 6233, 6234, 6235, 6236, 6238, 6239, 6240, 6241, 6242, 6307, 6308, 6309, 6310, 6311, 6312, 6313, 6314, 6315, 6316, 6317, 6318, 6319, 6320, 6321, 6322, 6389, 6390, 6391, 6392, 6393, 6394, 6395, 6396, 6397, 6398, 6399, 6400, 6401, 6402, 6470, 6471, 6472, 6473, 6474, 6475, 6476, 6477, 6478, 6479, 6480, 6481, 6482, 6552, 6553, 6554, 6555, 6556, 6557, 6558, 6559, 6560]\n",
      "CPU times: user 184 ms, sys: 16 ms, total: 200 ms\n",
      "Wall time: 199 ms\n"
     ]
    }
   ],
   "source": [
    "%%time\n",
    "n_total = len(simulation.dataframe)\n",
    "n_train = len(simulation.dataframe[simulation.dataframe.type_of == \"train\"])\n",
    "n_val = len(simulation.dataframe[simulation.dataframe.type_of == \"val\"])\n",
    "n_test = len(simulation.dataframe[simulation.dataframe.type_of == \"test\"])\n",
    "n_train_hamiltonians = len(simulation.train_ids)\n",
    "n_val_hamiltonians = len(simulation.val_ids)\n",
    "n_test_hamiltonians = len(simulation.test_ids)\n",
    "n_total_hamiltonians = n_train_hamiltonians + n_val_hamiltonians + n_test_hamiltonians\n",
    "\n",
    "print(\"% train: \", n_train/n_total)\n",
    "print(\"% val: \",  n_val/n_total)\n",
    "print(\"% test: \", n_test/n_total)\n",
    "print(\"% train + val + test: \", (n_train+n_val+n_test)/n_total)\n",
    "print(\"\\n\")\n",
    "print(\"number of train hamiltonians: \", n_train_hamiltonians)\n",
    "print(\"number of val hamiltonians: \", n_val_hamiltonians)\n",
    "print(\"number of test hamiltonians: \", n_test_hamiltonians)\n",
    "print(\"total number of hamiltonians: \", n_total_hamiltonians)\n",
    "print(\"\\n\")\n",
    "print(\"train ids: \", simulation.train_ids)\n",
    "print(\"val ids: \", simulation.val_ids)\n",
    "print(\"test ids: \", simulation.test_ids)"
   ]
  },
  {
   "cell_type": "markdown",
   "metadata": {
    "papermill": {
     "duration": 0.017805,
     "end_time": "2020-07-09T09:33:09.602112",
     "exception": false,
     "start_time": "2020-07-09T09:33:09.584307",
     "status": "completed"
    },
    "tags": []
   },
   "source": [
    "## Running a simulation"
   ]
  },
  {
   "cell_type": "code",
   "execution_count": 23,
   "metadata": {
    "execution": {
     "iopub.execute_input": "2020-07-09T09:33:09.639224Z",
     "iopub.status.busy": "2020-07-09T09:33:09.638910Z",
     "iopub.status.idle": "2020-07-09T09:38:49.275416Z",
     "shell.execute_reply": "2020-07-09T09:38:49.275719Z"
    },
    "papermill": {
     "duration": 339.656435,
     "end_time": "2020-07-09T09:38:49.275783",
     "exception": false,
     "start_time": "2020-07-09T09:33:09.619348",
     "status": "completed"
    },
    "tags": []
   },
   "outputs": [
    {
     "name": "stderr",
     "output_type": "stream",
     "text": [
      "\r",
      "running experiments:   0%|          | 0/100 [00:00<?, ?it/s]"
     ]
    },
    {
     "name": "stderr",
     "output_type": "stream",
     "text": [
      "\r",
      "running experiments:   1%|          | 1/100 [00:03<05:42,  3.46s/it]"
     ]
    },
    {
     "name": "stderr",
     "output_type": "stream",
     "text": [
      "\r",
      "running experiments:   2%|▏         | 2/100 [00:06<05:32,  3.40s/it]"
     ]
    },
    {
     "name": "stderr",
     "output_type": "stream",
     "text": [
      "\r",
      "running experiments:   3%|▎         | 3/100 [00:10<05:26,  3.37s/it]"
     ]
    },
    {
     "name": "stderr",
     "output_type": "stream",
     "text": [
      "\r",
      "running experiments:   4%|▍         | 4/100 [00:13<05:32,  3.46s/it]"
     ]
    },
    {
     "name": "stderr",
     "output_type": "stream",
     "text": [
      "\r",
      "running experiments:   5%|▌         | 5/100 [00:17<05:27,  3.44s/it]"
     ]
    },
    {
     "name": "stderr",
     "output_type": "stream",
     "text": [
      "\r",
      "running experiments:   6%|▌         | 6/100 [00:20<05:17,  3.38s/it]"
     ]
    },
    {
     "name": "stderr",
     "output_type": "stream",
     "text": [
      "\r",
      "running experiments:   7%|▋         | 7/100 [00:23<05:11,  3.35s/it]"
     ]
    },
    {
     "name": "stderr",
     "output_type": "stream",
     "text": [
      "\r",
      "running experiments:   8%|▊         | 8/100 [00:26<05:09,  3.36s/it]"
     ]
    },
    {
     "name": "stderr",
     "output_type": "stream",
     "text": [
      "\r",
      "running experiments:   9%|▉         | 9/100 [00:30<05:13,  3.45s/it]"
     ]
    },
    {
     "name": "stderr",
     "output_type": "stream",
     "text": [
      "\r",
      "running experiments:  10%|█         | 10/100 [00:34<05:09,  3.44s/it]"
     ]
    },
    {
     "name": "stderr",
     "output_type": "stream",
     "text": [
      "\r",
      "running experiments:  11%|█         | 11/100 [00:37<05:01,  3.39s/it]"
     ]
    },
    {
     "name": "stderr",
     "output_type": "stream",
     "text": [
      "\r",
      "running experiments:  12%|█▏        | 12/100 [00:40<05:04,  3.46s/it]"
     ]
    },
    {
     "name": "stderr",
     "output_type": "stream",
     "text": [
      "\r",
      "running experiments:  13%|█▎        | 13/100 [00:44<04:55,  3.40s/it]"
     ]
    },
    {
     "name": "stderr",
     "output_type": "stream",
     "text": [
      "\r",
      "running experiments:  14%|█▍        | 14/100 [00:47<04:46,  3.33s/it]"
     ]
    },
    {
     "name": "stderr",
     "output_type": "stream",
     "text": [
      "\r",
      "running experiments:  15%|█▌        | 15/100 [00:50<04:48,  3.40s/it]"
     ]
    },
    {
     "name": "stderr",
     "output_type": "stream",
     "text": [
      "\r",
      "running experiments:  16%|█▌        | 16/100 [00:54<04:41,  3.35s/it]"
     ]
    },
    {
     "name": "stderr",
     "output_type": "stream",
     "text": [
      "\r",
      "running experiments:  17%|█▋        | 17/100 [00:57<04:37,  3.34s/it]"
     ]
    },
    {
     "name": "stderr",
     "output_type": "stream",
     "text": [
      "\r",
      "running experiments:  18%|█▊        | 18/100 [01:00<04:26,  3.25s/it]"
     ]
    },
    {
     "name": "stderr",
     "output_type": "stream",
     "text": [
      "\r",
      "running experiments:  19%|█▉        | 19/100 [01:03<04:27,  3.31s/it]"
     ]
    },
    {
     "name": "stderr",
     "output_type": "stream",
     "text": [
      "\r",
      "running experiments:  20%|██        | 20/100 [01:07<04:28,  3.35s/it]"
     ]
    },
    {
     "name": "stderr",
     "output_type": "stream",
     "text": [
      "\r",
      "running experiments:  21%|██        | 21/100 [01:11<04:30,  3.42s/it]"
     ]
    },
    {
     "name": "stderr",
     "output_type": "stream",
     "text": [
      "\r",
      "running experiments:  22%|██▏       | 22/100 [01:14<04:23,  3.38s/it]"
     ]
    },
    {
     "name": "stderr",
     "output_type": "stream",
     "text": [
      "\r",
      "running experiments:  23%|██▎       | 23/100 [01:17<04:24,  3.43s/it]"
     ]
    },
    {
     "name": "stderr",
     "output_type": "stream",
     "text": [
      "\r",
      "running experiments:  24%|██▍       | 24/100 [01:20<04:14,  3.35s/it]"
     ]
    },
    {
     "name": "stderr",
     "output_type": "stream",
     "text": [
      "\r",
      "running experiments:  25%|██▌       | 25/100 [01:24<04:12,  3.36s/it]"
     ]
    },
    {
     "name": "stderr",
     "output_type": "stream",
     "text": [
      "\r",
      "running experiments:  26%|██▌       | 26/100 [01:27<04:09,  3.37s/it]"
     ]
    },
    {
     "name": "stderr",
     "output_type": "stream",
     "text": [
      "\r",
      "running experiments:  27%|██▋       | 27/100 [01:31<04:05,  3.37s/it]"
     ]
    },
    {
     "name": "stderr",
     "output_type": "stream",
     "text": [
      "\r",
      "running experiments:  28%|██▊       | 28/100 [01:34<04:03,  3.38s/it]"
     ]
    },
    {
     "name": "stderr",
     "output_type": "stream",
     "text": [
      "\r",
      "running experiments:  29%|██▉       | 29/100 [01:38<04:04,  3.44s/it]"
     ]
    },
    {
     "name": "stderr",
     "output_type": "stream",
     "text": [
      "\r",
      "running experiments:  30%|███       | 30/100 [01:41<04:01,  3.45s/it]"
     ]
    },
    {
     "name": "stderr",
     "output_type": "stream",
     "text": [
      "\r",
      "running experiments:  31%|███       | 31/100 [01:45<03:59,  3.47s/it]"
     ]
    },
    {
     "name": "stderr",
     "output_type": "stream",
     "text": [
      "\r",
      "running experiments:  32%|███▏      | 32/100 [01:48<04:00,  3.53s/it]"
     ]
    },
    {
     "name": "stderr",
     "output_type": "stream",
     "text": [
      "\r",
      "running experiments:  33%|███▎      | 33/100 [01:52<03:55,  3.51s/it]"
     ]
    },
    {
     "name": "stderr",
     "output_type": "stream",
     "text": [
      "\r",
      "running experiments:  34%|███▍      | 34/100 [01:55<03:47,  3.44s/it]"
     ]
    },
    {
     "name": "stderr",
     "output_type": "stream",
     "text": [
      "\r",
      "running experiments:  35%|███▌      | 35/100 [01:58<03:40,  3.40s/it]"
     ]
    },
    {
     "name": "stderr",
     "output_type": "stream",
     "text": [
      "\r",
      "running experiments:  36%|███▌      | 36/100 [02:02<03:40,  3.44s/it]"
     ]
    },
    {
     "name": "stderr",
     "output_type": "stream",
     "text": [
      "\r",
      "running experiments:  37%|███▋      | 37/100 [02:05<03:34,  3.41s/it]"
     ]
    },
    {
     "name": "stderr",
     "output_type": "stream",
     "text": [
      "\r",
      "running experiments:  38%|███▊      | 38/100 [02:08<03:27,  3.34s/it]"
     ]
    },
    {
     "name": "stderr",
     "output_type": "stream",
     "text": [
      "\r",
      "running experiments:  39%|███▉      | 39/100 [02:12<03:23,  3.33s/it]"
     ]
    },
    {
     "name": "stderr",
     "output_type": "stream",
     "text": [
      "\r",
      "running experiments:  40%|████      | 40/100 [02:15<03:21,  3.36s/it]"
     ]
    },
    {
     "name": "stderr",
     "output_type": "stream",
     "text": [
      "\r",
      "running experiments:  41%|████      | 41/100 [02:19<03:22,  3.44s/it]"
     ]
    },
    {
     "name": "stderr",
     "output_type": "stream",
     "text": [
      "\r",
      "running experiments:  42%|████▏     | 42/100 [02:22<03:14,  3.36s/it]"
     ]
    },
    {
     "name": "stderr",
     "output_type": "stream",
     "text": [
      "\r",
      "running experiments:  43%|████▎     | 43/100 [02:25<03:10,  3.34s/it]"
     ]
    },
    {
     "name": "stderr",
     "output_type": "stream",
     "text": [
      "\r",
      "running experiments:  44%|████▍     | 44/100 [02:28<03:02,  3.26s/it]"
     ]
    },
    {
     "name": "stderr",
     "output_type": "stream",
     "text": [
      "\r",
      "running experiments:  45%|████▌     | 45/100 [02:31<02:57,  3.22s/it]"
     ]
    },
    {
     "name": "stderr",
     "output_type": "stream",
     "text": [
      "\r",
      "running experiments:  46%|████▌     | 46/100 [02:35<02:55,  3.24s/it]"
     ]
    },
    {
     "name": "stderr",
     "output_type": "stream",
     "text": [
      "\r",
      "running experiments:  47%|████▋     | 47/100 [02:38<02:51,  3.24s/it]"
     ]
    },
    {
     "name": "stderr",
     "output_type": "stream",
     "text": [
      "\r",
      "running experiments:  48%|████▊     | 48/100 [02:41<02:51,  3.31s/it]"
     ]
    },
    {
     "name": "stderr",
     "output_type": "stream",
     "text": [
      "\r",
      "running experiments:  49%|████▉     | 49/100 [02:45<02:51,  3.36s/it]"
     ]
    },
    {
     "name": "stderr",
     "output_type": "stream",
     "text": [
      "\r",
      "running experiments:  50%|█████     | 50/100 [02:48<02:51,  3.42s/it]"
     ]
    },
    {
     "name": "stderr",
     "output_type": "stream",
     "text": [
      "\r",
      "running experiments:  51%|█████     | 51/100 [02:52<02:50,  3.49s/it]"
     ]
    },
    {
     "name": "stderr",
     "output_type": "stream",
     "text": [
      "\r",
      "running experiments:  52%|█████▏    | 52/100 [02:56<02:49,  3.52s/it]"
     ]
    },
    {
     "name": "stderr",
     "output_type": "stream",
     "text": [
      "\r",
      "running experiments:  53%|█████▎    | 53/100 [02:59<02:43,  3.48s/it]"
     ]
    },
    {
     "name": "stderr",
     "output_type": "stream",
     "text": [
      "\r",
      "running experiments:  54%|█████▍    | 54/100 [03:03<02:41,  3.51s/it]"
     ]
    },
    {
     "name": "stderr",
     "output_type": "stream",
     "text": [
      "\r",
      "running experiments:  55%|█████▌    | 55/100 [03:06<02:33,  3.42s/it]"
     ]
    },
    {
     "name": "stderr",
     "output_type": "stream",
     "text": [
      "\r",
      "running experiments:  56%|█████▌    | 56/100 [03:09<02:30,  3.42s/it]"
     ]
    },
    {
     "name": "stderr",
     "output_type": "stream",
     "text": [
      "\r",
      "running experiments:  57%|█████▋    | 57/100 [03:12<02:21,  3.29s/it]"
     ]
    },
    {
     "name": "stderr",
     "output_type": "stream",
     "text": [
      "\r",
      "running experiments:  58%|█████▊    | 58/100 [03:16<02:18,  3.31s/it]"
     ]
    },
    {
     "name": "stderr",
     "output_type": "stream",
     "text": [
      "\r",
      "running experiments:  59%|█████▉    | 59/100 [03:19<02:14,  3.29s/it]"
     ]
    },
    {
     "name": "stderr",
     "output_type": "stream",
     "text": [
      "\r",
      "running experiments:  60%|██████    | 60/100 [03:22<02:10,  3.25s/it]"
     ]
    },
    {
     "name": "stderr",
     "output_type": "stream",
     "text": [
      "\r",
      "running experiments:  61%|██████    | 61/100 [03:26<02:11,  3.38s/it]"
     ]
    },
    {
     "name": "stderr",
     "output_type": "stream",
     "text": [
      "\r",
      "running experiments:  62%|██████▏   | 62/100 [03:29<02:09,  3.41s/it]"
     ]
    },
    {
     "name": "stderr",
     "output_type": "stream",
     "text": [
      "\r",
      "running experiments:  63%|██████▎   | 63/100 [03:33<02:06,  3.43s/it]"
     ]
    },
    {
     "name": "stderr",
     "output_type": "stream",
     "text": [
      "\r",
      "running experiments:  64%|██████▍   | 64/100 [03:36<02:03,  3.44s/it]"
     ]
    },
    {
     "name": "stderr",
     "output_type": "stream",
     "text": [
      "\r",
      "running experiments:  65%|██████▌   | 65/100 [03:40<02:00,  3.45s/it]"
     ]
    },
    {
     "name": "stderr",
     "output_type": "stream",
     "text": [
      "\r",
      "running experiments:  66%|██████▌   | 66/100 [03:43<01:54,  3.36s/it]"
     ]
    },
    {
     "name": "stderr",
     "output_type": "stream",
     "text": [
      "\r",
      "running experiments:  67%|██████▋   | 67/100 [03:46<01:52,  3.40s/it]"
     ]
    },
    {
     "name": "stderr",
     "output_type": "stream",
     "text": [
      "\r",
      "running experiments:  68%|██████▊   | 68/100 [03:50<01:49,  3.42s/it]"
     ]
    },
    {
     "name": "stderr",
     "output_type": "stream",
     "text": [
      "\r",
      "running experiments:  69%|██████▉   | 69/100 [03:53<01:47,  3.46s/it]"
     ]
    },
    {
     "name": "stderr",
     "output_type": "stream",
     "text": [
      "\r",
      "running experiments:  70%|███████   | 70/100 [03:56<01:40,  3.36s/it]"
     ]
    },
    {
     "name": "stderr",
     "output_type": "stream",
     "text": [
      "\r",
      "running experiments:  71%|███████   | 71/100 [04:00<01:37,  3.36s/it]"
     ]
    },
    {
     "name": "stderr",
     "output_type": "stream",
     "text": [
      "\r",
      "running experiments:  72%|███████▏  | 72/100 [04:03<01:36,  3.46s/it]"
     ]
    },
    {
     "name": "stderr",
     "output_type": "stream",
     "text": [
      "\r",
      "running experiments:  73%|███████▎  | 73/100 [04:07<01:32,  3.41s/it]"
     ]
    },
    {
     "name": "stderr",
     "output_type": "stream",
     "text": [
      "\r",
      "running experiments:  74%|███████▍  | 74/100 [04:10<01:26,  3.34s/it]"
     ]
    },
    {
     "name": "stderr",
     "output_type": "stream",
     "text": [
      "\r",
      "running experiments:  75%|███████▌  | 75/100 [04:13<01:24,  3.40s/it]"
     ]
    },
    {
     "name": "stderr",
     "output_type": "stream",
     "text": [
      "\r",
      "running experiments:  76%|███████▌  | 76/100 [04:17<01:23,  3.47s/it]"
     ]
    },
    {
     "name": "stderr",
     "output_type": "stream",
     "text": [
      "\r",
      "running experiments:  77%|███████▋  | 77/100 [04:21<01:19,  3.46s/it]"
     ]
    },
    {
     "name": "stderr",
     "output_type": "stream",
     "text": [
      "\r",
      "running experiments:  78%|███████▊  | 78/100 [04:24<01:17,  3.51s/it]"
     ]
    },
    {
     "name": "stderr",
     "output_type": "stream",
     "text": [
      "\r",
      "running experiments:  79%|███████▉  | 79/100 [04:27<01:10,  3.37s/it]"
     ]
    },
    {
     "name": "stderr",
     "output_type": "stream",
     "text": [
      "\r",
      "running experiments:  80%|████████  | 80/100 [04:31<01:07,  3.38s/it]"
     ]
    },
    {
     "name": "stderr",
     "output_type": "stream",
     "text": [
      "\r",
      "running experiments:  81%|████████  | 81/100 [04:34<01:03,  3.35s/it]"
     ]
    },
    {
     "name": "stderr",
     "output_type": "stream",
     "text": [
      "\r",
      "running experiments:  82%|████████▏ | 82/100 [04:37<01:01,  3.41s/it]"
     ]
    },
    {
     "name": "stderr",
     "output_type": "stream",
     "text": [
      "\r",
      "running experiments:  83%|████████▎ | 83/100 [04:41<00:58,  3.41s/it]"
     ]
    },
    {
     "name": "stderr",
     "output_type": "stream",
     "text": [
      "\r",
      "running experiments:  84%|████████▍ | 84/100 [04:44<00:55,  3.44s/it]"
     ]
    },
    {
     "name": "stderr",
     "output_type": "stream",
     "text": [
      "\r",
      "running experiments:  85%|████████▌ | 85/100 [04:48<00:52,  3.48s/it]"
     ]
    },
    {
     "name": "stderr",
     "output_type": "stream",
     "text": [
      "\r",
      "running experiments:  86%|████████▌ | 86/100 [04:51<00:49,  3.51s/it]"
     ]
    },
    {
     "name": "stderr",
     "output_type": "stream",
     "text": [
      "\r",
      "running experiments:  87%|████████▋ | 87/100 [04:55<00:45,  3.47s/it]"
     ]
    },
    {
     "name": "stderr",
     "output_type": "stream",
     "text": [
      "\r",
      "running experiments:  88%|████████▊ | 88/100 [04:58<00:40,  3.39s/it]"
     ]
    },
    {
     "name": "stderr",
     "output_type": "stream",
     "text": [
      "\r",
      "running experiments:  89%|████████▉ | 89/100 [05:01<00:37,  3.38s/it]"
     ]
    },
    {
     "name": "stderr",
     "output_type": "stream",
     "text": [
      "\r",
      "running experiments:  90%|█████████ | 90/100 [05:05<00:33,  3.33s/it]"
     ]
    },
    {
     "name": "stderr",
     "output_type": "stream",
     "text": [
      "\r",
      "running experiments:  91%|█████████ | 91/100 [05:08<00:30,  3.40s/it]"
     ]
    },
    {
     "name": "stderr",
     "output_type": "stream",
     "text": [
      "\r",
      "running experiments:  92%|█████████▏| 92/100 [05:12<00:27,  3.40s/it]"
     ]
    },
    {
     "name": "stderr",
     "output_type": "stream",
     "text": [
      "\r",
      "running experiments:  93%|█████████▎| 93/100 [05:15<00:23,  3.39s/it]"
     ]
    },
    {
     "name": "stderr",
     "output_type": "stream",
     "text": [
      "\r",
      "running experiments:  94%|█████████▍| 94/100 [05:18<00:20,  3.39s/it]"
     ]
    },
    {
     "name": "stderr",
     "output_type": "stream",
     "text": [
      "\r",
      "running experiments:  95%|█████████▌| 95/100 [05:22<00:16,  3.36s/it]"
     ]
    },
    {
     "name": "stderr",
     "output_type": "stream",
     "text": [
      "\r",
      "running experiments:  96%|█████████▌| 96/100 [05:25<00:13,  3.46s/it]"
     ]
    },
    {
     "name": "stderr",
     "output_type": "stream",
     "text": [
      "\r",
      "running experiments:  97%|█████████▋| 97/100 [05:29<00:10,  3.48s/it]"
     ]
    },
    {
     "name": "stderr",
     "output_type": "stream",
     "text": [
      "\r",
      "running experiments:  98%|█████████▊| 98/100 [05:32<00:06,  3.40s/it]"
     ]
    },
    {
     "name": "stderr",
     "output_type": "stream",
     "text": [
      "\r",
      "running experiments:  99%|█████████▉| 99/100 [05:36<00:03,  3.44s/it]"
     ]
    },
    {
     "name": "stderr",
     "output_type": "stream",
     "text": [
      "\r",
      "running experiments: 100%|██████████| 100/100 [05:39<00:00,  3.46s/it]"
     ]
    },
    {
     "name": "stderr",
     "output_type": "stream",
     "text": [
      "\r",
      "running experiments: 100%|██████████| 100/100 [05:39<00:00,  3.40s/it]"
     ]
    },
    {
     "name": "stdout",
     "output_type": "stream",
     "text": [
      "CPU times: user 5min 39s, sys: 709 ms, total: 5min 39s\n",
      "Wall time: 5min 39s\n"
     ]
    },
    {
     "name": "stderr",
     "output_type": "stream",
     "text": [
      "\n"
     ]
    }
   ],
   "source": [
    "%%time\n",
    "simulation.run_simulation(n_experiments, start_n, fit_params,shuffle_rows, pred_params, random_features, \\\n",
    "                          store_in_lists, save_eigenvector, save_hamiltonian, save_accuracy,\\\n",
    "                          save_models)\n",
    "if simulation.fourier_mode is not None:\n",
    "    simulation.fourier_dataframe.head(10)"
   ]
  },
  {
   "cell_type": "code",
   "execution_count": 24,
   "metadata": {
    "execution": {
     "iopub.execute_input": "2020-07-09T09:38:49.346353Z",
     "iopub.status.busy": "2020-07-09T09:38:49.345838Z",
     "iopub.status.idle": "2020-07-09T09:38:49.369822Z",
     "shell.execute_reply": "2020-07-09T09:38:49.370075Z"
    },
    "papermill": {
     "duration": 0.059816,
     "end_time": "2020-07-09T09:38:49.370142",
     "exception": false,
     "start_time": "2020-07-09T09:38:49.310326",
     "status": "completed"
    },
    "tags": []
   },
   "outputs": [
    {
     "data": {
      "text/html": [
       "<div>\n",
       "<style scoped>\n",
       "    .dataframe tbody tr th:only-of-type {\n",
       "        vertical-align: middle;\n",
       "    }\n",
       "\n",
       "    .dataframe tbody tr th {\n",
       "        vertical-align: top;\n",
       "    }\n",
       "\n",
       "    .dataframe thead th {\n",
       "        text-align: right;\n",
       "    }\n",
       "</style>\n",
       "<table border=\"1\" class=\"dataframe\">\n",
       "  <thead>\n",
       "    <tr style=\"text-align: right;\">\n",
       "      <th></th>\n",
       "      <th>id</th>\n",
       "      <th>path</th>\n",
       "      <th>t1</th>\n",
       "      <th>t2</th>\n",
       "      <th>winding</th>\n",
       "      <th>phase</th>\n",
       "      <th>pred_phase</th>\n",
       "      <th>type_of</th>\n",
       "      <th>feat0</th>\n",
       "      <th>feat1</th>\n",
       "      <th>...</th>\n",
       "      <th>feat90</th>\n",
       "      <th>feat91</th>\n",
       "      <th>feat92</th>\n",
       "      <th>feat93</th>\n",
       "      <th>feat94</th>\n",
       "      <th>feat95</th>\n",
       "      <th>feat96</th>\n",
       "      <th>feat97</th>\n",
       "      <th>feat98</th>\n",
       "      <th>feat99</th>\n",
       "    </tr>\n",
       "  </thead>\n",
       "  <tbody>\n",
       "    <tr>\n",
       "      <th>0</th>\n",
       "      <td>0</td>\n",
       "      <td>H_-2_-2_0.509296.dat</td>\n",
       "      <td>-2.0</td>\n",
       "      <td>-2.0</td>\n",
       "      <td>0.509296</td>\n",
       "      <td>999</td>\n",
       "      <td>666</td>\n",
       "      <td>test</td>\n",
       "      <td>0.100000</td>\n",
       "      <td>0.100000</td>\n",
       "      <td>...</td>\n",
       "      <td>0.100000</td>\n",
       "      <td>0.100000</td>\n",
       "      <td>0.100000</td>\n",
       "      <td>0.100000</td>\n",
       "      <td>0.100000</td>\n",
       "      <td>0.100000</td>\n",
       "      <td>0.100000</td>\n",
       "      <td>0.100000</td>\n",
       "      <td>0.100000</td>\n",
       "      <td>0.100000</td>\n",
       "    </tr>\n",
       "    <tr>\n",
       "      <th>1</th>\n",
       "      <td>0</td>\n",
       "      <td>H_-2_-2_0.509296.dat</td>\n",
       "      <td>-2.0</td>\n",
       "      <td>-2.0</td>\n",
       "      <td>0.509296</td>\n",
       "      <td>999</td>\n",
       "      <td>666</td>\n",
       "      <td>test</td>\n",
       "      <td>0.141421</td>\n",
       "      <td>0.141142</td>\n",
       "      <td>...</td>\n",
       "      <td>0.114412</td>\n",
       "      <td>0.108967</td>\n",
       "      <td>0.123928</td>\n",
       "      <td>0.119406</td>\n",
       "      <td>0.131490</td>\n",
       "      <td>0.127962</td>\n",
       "      <td>0.136978</td>\n",
       "      <td>0.134500</td>\n",
       "      <td>0.140306</td>\n",
       "      <td>0.138916</td>\n",
       "    </tr>\n",
       "    <tr>\n",
       "      <th>2</th>\n",
       "      <td>0</td>\n",
       "      <td>H_-2_-2_0.509296.dat</td>\n",
       "      <td>-2.0</td>\n",
       "      <td>-2.0</td>\n",
       "      <td>0.509296</td>\n",
       "      <td>999</td>\n",
       "      <td>666</td>\n",
       "      <td>test</td>\n",
       "      <td>0.141421</td>\n",
       "      <td>0.140306</td>\n",
       "      <td>...</td>\n",
       "      <td>0.043702</td>\n",
       "      <td>0.026500</td>\n",
       "      <td>0.075777</td>\n",
       "      <td>0.060214</td>\n",
       "      <td>0.103092</td>\n",
       "      <td>0.090145</td>\n",
       "      <td>0.123928</td>\n",
       "      <td>0.114412</td>\n",
       "      <td>0.136978</td>\n",
       "      <td>0.131490</td>\n",
       "    </tr>\n",
       "    <tr>\n",
       "      <th>3</th>\n",
       "      <td>0</td>\n",
       "      <td>H_-2_-2_0.509296.dat</td>\n",
       "      <td>-2.0</td>\n",
       "      <td>-2.0</td>\n",
       "      <td>0.509296</td>\n",
       "      <td>999</td>\n",
       "      <td>666</td>\n",
       "      <td>test</td>\n",
       "      <td>-0.100000</td>\n",
       "      <td>0.100000</td>\n",
       "      <td>...</td>\n",
       "      <td>-0.100000</td>\n",
       "      <td>0.100000</td>\n",
       "      <td>-0.100000</td>\n",
       "      <td>0.100000</td>\n",
       "      <td>-0.100000</td>\n",
       "      <td>0.100000</td>\n",
       "      <td>-0.100000</td>\n",
       "      <td>0.100000</td>\n",
       "      <td>-0.100000</td>\n",
       "      <td>0.100000</td>\n",
       "    </tr>\n",
       "    <tr>\n",
       "      <th>4</th>\n",
       "      <td>0</td>\n",
       "      <td>H_-2_-2_0.509296.dat</td>\n",
       "      <td>-2.0</td>\n",
       "      <td>-2.0</td>\n",
       "      <td>0.509296</td>\n",
       "      <td>999</td>\n",
       "      <td>666</td>\n",
       "      <td>test</td>\n",
       "      <td>0.000509</td>\n",
       "      <td>-0.008372</td>\n",
       "      <td>...</td>\n",
       "      <td>-0.082713</td>\n",
       "      <td>-0.089753</td>\n",
       "      <td>-0.067684</td>\n",
       "      <td>-0.075347</td>\n",
       "      <td>-0.051587</td>\n",
       "      <td>-0.059753</td>\n",
       "      <td>-0.034677</td>\n",
       "      <td>-0.043217</td>\n",
       "      <td>-0.017220</td>\n",
       "      <td>-0.026000</td>\n",
       "    </tr>\n",
       "    <tr>\n",
       "      <th>5</th>\n",
       "      <td>0</td>\n",
       "      <td>H_-2_-2_0.509296.dat</td>\n",
       "      <td>-2.0</td>\n",
       "      <td>-2.0</td>\n",
       "      <td>0.509296</td>\n",
       "      <td>999</td>\n",
       "      <td>666</td>\n",
       "      <td>test</td>\n",
       "      <td>0.001204</td>\n",
       "      <td>-0.016530</td>\n",
       "      <td>...</td>\n",
       "      <td>-0.134123</td>\n",
       "      <td>-0.138686</td>\n",
       "      <td>-0.118757</td>\n",
       "      <td>-0.127445</td>\n",
       "      <td>-0.095929</td>\n",
       "      <td>-0.108196</td>\n",
       "      <td>-0.067073</td>\n",
       "      <td>-0.082149</td>\n",
       "      <td>-0.034003</td>\n",
       "      <td>-0.050940</td>\n",
       "    </tr>\n",
       "    <tr>\n",
       "      <th>6</th>\n",
       "      <td>0</td>\n",
       "      <td>H_-2_-2_0.509296.dat</td>\n",
       "      <td>-2.0</td>\n",
       "      <td>-2.0</td>\n",
       "      <td>0.509296</td>\n",
       "      <td>999</td>\n",
       "      <td>666</td>\n",
       "      <td>test</td>\n",
       "      <td>-0.141421</td>\n",
       "      <td>-0.138980</td>\n",
       "      <td>...</td>\n",
       "      <td>0.043375</td>\n",
       "      <td>0.067830</td>\n",
       "      <td>-0.009222</td>\n",
       "      <td>0.017385</td>\n",
       "      <td>-0.060524</td>\n",
       "      <td>-0.035502</td>\n",
       "      <td>-0.103326</td>\n",
       "      <td>-0.083403</td>\n",
       "      <td>-0.131616</td>\n",
       "      <td>-0.119589</td>\n",
       "    </tr>\n",
       "    <tr>\n",
       "      <th>7</th>\n",
       "      <td>0</td>\n",
       "      <td>H_-2_-2_0.509296.dat</td>\n",
       "      <td>-2.0</td>\n",
       "      <td>-2.0</td>\n",
       "      <td>0.509296</td>\n",
       "      <td>999</td>\n",
       "      <td>666</td>\n",
       "      <td>test</td>\n",
       "      <td>-0.000826</td>\n",
       "      <td>0.025688</td>\n",
       "      <td>...</td>\n",
       "      <td>0.134753</td>\n",
       "      <td>0.124324</td>\n",
       "      <td>0.141088</td>\n",
       "      <td>0.140407</td>\n",
       "      <td>0.127608</td>\n",
       "      <td>0.136771</td>\n",
       "      <td>0.096206</td>\n",
       "      <td>0.113925</td>\n",
       "      <td>0.051292</td>\n",
       "      <td>0.075079</td>\n",
       "    </tr>\n",
       "    <tr>\n",
       "      <th>8</th>\n",
       "      <td>0</td>\n",
       "      <td>H_-2_-2_0.509296.dat</td>\n",
       "      <td>-2.0</td>\n",
       "      <td>-2.0</td>\n",
       "      <td>0.509296</td>\n",
       "      <td>999</td>\n",
       "      <td>666</td>\n",
       "      <td>test</td>\n",
       "      <td>0.141417</td>\n",
       "      <td>0.136684</td>\n",
       "      <td>...</td>\n",
       "      <td>-0.115093</td>\n",
       "      <td>-0.131915</td>\n",
       "      <td>-0.061266</td>\n",
       "      <td>-0.091040</td>\n",
       "      <td>0.007717</td>\n",
       "      <td>-0.027643</td>\n",
       "      <td>0.074791</td>\n",
       "      <td>0.042592</td>\n",
       "      <td>0.123363</td>\n",
       "      <td>0.102291</td>\n",
       "    </tr>\n",
       "    <tr>\n",
       "      <th>9</th>\n",
       "      <td>0</td>\n",
       "      <td>H_-2_-2_0.509296.dat</td>\n",
       "      <td>-2.0</td>\n",
       "      <td>-2.0</td>\n",
       "      <td>0.509296</td>\n",
       "      <td>999</td>\n",
       "      <td>666</td>\n",
       "      <td>test</td>\n",
       "      <td>0.001302</td>\n",
       "      <td>0.036430</td>\n",
       "      <td>...</td>\n",
       "      <td>0.082068</td>\n",
       "      <td>0.050848</td>\n",
       "      <td>0.127402</td>\n",
       "      <td>0.108132</td>\n",
       "      <td>0.141218</td>\n",
       "      <td>0.138667</td>\n",
       "      <td>0.120099</td>\n",
       "      <td>0.134896</td>\n",
       "      <td>0.069268</td>\n",
       "      <td>0.097755</td>\n",
       "    </tr>\n",
       "  </tbody>\n",
       "</table>\n",
       "<p>10 rows × 108 columns</p>\n",
       "</div>"
      ],
      "text/plain": [
       "   id                  path   t1   t2   winding  phase  pred_phase type_of  \\\n",
       "0   0  H_-2_-2_0.509296.dat -2.0 -2.0  0.509296    999         666    test   \n",
       "1   0  H_-2_-2_0.509296.dat -2.0 -2.0  0.509296    999         666    test   \n",
       "2   0  H_-2_-2_0.509296.dat -2.0 -2.0  0.509296    999         666    test   \n",
       "3   0  H_-2_-2_0.509296.dat -2.0 -2.0  0.509296    999         666    test   \n",
       "4   0  H_-2_-2_0.509296.dat -2.0 -2.0  0.509296    999         666    test   \n",
       "5   0  H_-2_-2_0.509296.dat -2.0 -2.0  0.509296    999         666    test   \n",
       "6   0  H_-2_-2_0.509296.dat -2.0 -2.0  0.509296    999         666    test   \n",
       "7   0  H_-2_-2_0.509296.dat -2.0 -2.0  0.509296    999         666    test   \n",
       "8   0  H_-2_-2_0.509296.dat -2.0 -2.0  0.509296    999         666    test   \n",
       "9   0  H_-2_-2_0.509296.dat -2.0 -2.0  0.509296    999         666    test   \n",
       "\n",
       "      feat0     feat1  ...    feat90    feat91    feat92    feat93    feat94  \\\n",
       "0  0.100000  0.100000  ...  0.100000  0.100000  0.100000  0.100000  0.100000   \n",
       "1  0.141421  0.141142  ...  0.114412  0.108967  0.123928  0.119406  0.131490   \n",
       "2  0.141421  0.140306  ...  0.043702  0.026500  0.075777  0.060214  0.103092   \n",
       "3 -0.100000  0.100000  ... -0.100000  0.100000 -0.100000  0.100000 -0.100000   \n",
       "4  0.000509 -0.008372  ... -0.082713 -0.089753 -0.067684 -0.075347 -0.051587   \n",
       "5  0.001204 -0.016530  ... -0.134123 -0.138686 -0.118757 -0.127445 -0.095929   \n",
       "6 -0.141421 -0.138980  ...  0.043375  0.067830 -0.009222  0.017385 -0.060524   \n",
       "7 -0.000826  0.025688  ...  0.134753  0.124324  0.141088  0.140407  0.127608   \n",
       "8  0.141417  0.136684  ... -0.115093 -0.131915 -0.061266 -0.091040  0.007717   \n",
       "9  0.001302  0.036430  ...  0.082068  0.050848  0.127402  0.108132  0.141218   \n",
       "\n",
       "     feat95    feat96    feat97    feat98    feat99  \n",
       "0  0.100000  0.100000  0.100000  0.100000  0.100000  \n",
       "1  0.127962  0.136978  0.134500  0.140306  0.138916  \n",
       "2  0.090145  0.123928  0.114412  0.136978  0.131490  \n",
       "3  0.100000 -0.100000  0.100000 -0.100000  0.100000  \n",
       "4 -0.059753 -0.034677 -0.043217 -0.017220 -0.026000  \n",
       "5 -0.108196 -0.067073 -0.082149 -0.034003 -0.050940  \n",
       "6 -0.035502 -0.103326 -0.083403 -0.131616 -0.119589  \n",
       "7  0.136771  0.096206  0.113925  0.051292  0.075079  \n",
       "8 -0.027643  0.074791  0.042592  0.123363  0.102291  \n",
       "9  0.138667  0.120099  0.134896  0.069268  0.097755  \n",
       "\n",
       "[10 rows x 108 columns]"
      ]
     },
     "execution_count": 24,
     "metadata": {},
     "output_type": "execute_result"
    }
   ],
   "source": [
    "simulation.dataframe.head(10)"
   ]
  },
  {
   "cell_type": "markdown",
   "metadata": {
    "papermill": {
     "duration": 0.033709,
     "end_time": "2020-07-09T09:38:49.438068",
     "exception": false,
     "start_time": "2020-07-09T09:38:49.404359",
     "status": "completed"
    },
    "tags": []
   },
   "source": [
    "#### Viewing a random sample"
   ]
  },
  {
   "cell_type": "code",
   "execution_count": 25,
   "metadata": {
    "execution": {
     "iopub.execute_input": "2020-07-09T09:38:49.509287Z",
     "iopub.status.busy": "2020-07-09T09:38:49.508977Z",
     "iopub.status.idle": "2020-07-09T09:38:49.539492Z",
     "shell.execute_reply": "2020-07-09T09:38:49.539177Z"
    },
    "papermill": {
     "duration": 0.067025,
     "end_time": "2020-07-09T09:38:49.539543",
     "exception": false,
     "start_time": "2020-07-09T09:38:49.472518",
     "status": "completed"
    },
    "tags": []
   },
   "outputs": [
    {
     "name": "stdout",
     "output_type": "stream",
     "text": [
      "CPU times: user 20.4 ms, sys: 2 µs, total: 20.4 ms\n",
      "Wall time: 20.2 ms\n"
     ]
    }
   ],
   "source": [
    "%%time\n",
    "if simulation.fourier_mode is not None:\n",
    "    simulation.fourier_dataframe.sample(frac=0.1, replace=False)"
   ]
  },
  {
   "cell_type": "markdown",
   "metadata": {
    "papermill": {
     "duration": 0.034701,
     "end_time": "2020-07-09T09:38:49.609084",
     "exception": false,
     "start_time": "2020-07-09T09:38:49.574383",
     "status": "completed"
    },
    "tags": []
   },
   "source": [
    "#### Checking train/val/test splits again"
   ]
  },
  {
   "cell_type": "code",
   "execution_count": 26,
   "metadata": {
    "execution": {
     "iopub.execute_input": "2020-07-09T09:38:49.678795Z",
     "iopub.status.busy": "2020-07-09T09:38:49.678474Z",
     "iopub.status.idle": "2020-07-09T09:38:49.857405Z",
     "shell.execute_reply": "2020-07-09T09:38:49.857086Z"
    },
    "papermill": {
     "duration": 0.214504,
     "end_time": "2020-07-09T09:38:49.857455",
     "exception": false,
     "start_time": "2020-07-09T09:38:49.642951",
     "status": "completed"
    },
    "tags": []
   },
   "outputs": [
    {
     "name": "stdout",
     "output_type": "stream",
     "text": [
      "% train:  0.08474317939338516\n",
      "% val:  0.7620789513793629\n",
      "% test:  0.15317786922725193\n",
      "% train + val + test:  1.0\n",
      "\n",
      "\n",
      "number of train hamiltonians:  556\n",
      "number of val hamiltonians:  5000\n",
      "number of test hamiltonians:  1005\n",
      "total number of hamiltonians:  6561\n",
      "\n",
      "\n",
      "train ids:  [4380, 3445, 4424, 2271, 17, 6116, 5859, 3190, 376, 6449, 6441, 4002, 277, 5642, 4303, 2964, 5848, 1648, 2013, 4683, 4236, 1846, 4371, 4064, 5186, 2860, 6183, 4010, 3106, 3822, 1204, 4255, 387, 3287, 4063, 112, 525, 6048, 107, 4826, 4956, 2413, 4828, 3235, 6096, 3055, 3643, 2507, 5997, 3433, 3487, 345, 622, 965, 2757, 2465, 1850, 4891, 4631, 5479, 3653, 2879, 1195, 2450, 466, 4485, 3479, 1109, 2442, 1422, 1328, 1818, 5078, 4247, 2683, 2515, 2509, 3170, 5230, 5389, 4456, 2111, 3427, 4698, 290, 1192, 587, 2264, 2936, 1357, 3512, 4196, 2821, 1482, 1115, 5485, 1131, 6200, 4647, 1734, 6530, 2086, 774, 1278, 3260, 2280, 2192, 3778, 5014, 1271, 5843, 282, 1542, 6516, 1187, 93, 3270, 5559, 1977, 1821, 3343, 1823, 2106, 4090, 2054, 371, 1274, 1247, 4938, 3361, 4899, 5546, 6323, 102, 855, 4421, 691, 3996, 3183, 956, 4813, 3588, 6496, 4654, 6339, 3556, 5687, 100, 3883, 4517, 141, 5012, 1356, 3621, 4726, 770, 5219, 2834, 3949, 5961, 2112, 2894, 4587, 5940, 3614, 1940, 5976, 543, 4554, 873, 5850, 746, 3564, 2992, 5807, 3028, 3400, 6418, 1688, 3716, 4239, 2319, 2579, 3504, 1900, 6461, 272, 1903, 6510, 5071, 3174, 4022, 3311, 185, 2615, 6263, 3991, 6129, 95, 2632, 6051, 4071, 5509, 211, 2584, 1104, 2197, 4729, 864, 531, 2272, 2983, 3365, 5176, 3560, 2095, 6106, 423, 4048, 3113, 5885, 4444, 3506, 6408, 94, 4973, 1283, 2722, 2726, 5376, 4791, 2439, 3889, 2399, 6304, 179, 3227, 5038, 1485, 4331, 6357, 6120, 3727, 2523, 2885, 1779, 6258, 4188, 4823, 2719, 5238, 2699, 3094, 1111, 137, 2527, 857, 2518, 1426, 3742, 113, 5288, 2120, 4892, 914, 2289, 5094, 3130, 6130, 6093, 47, 2861, 2881, 4158, 1506, 3606, 5782, 3021, 1867, 5388, 5669, 3966, 4574, 2826, 3255, 2567, 1325, 299, 5856, 1995, 1577, 6058, 4809, 3032, 4085, 6486, 519, 2571, 2196, 4812, 2317, 563, 2695, 6491, 2685, 1400, 2055, 3192, 3635, 1051, 5449, 6020, 3014, 3217, 6028, 4314, 5396, 1527, 2882, 4395, 4691, 4630, 1218, 919, 1008, 3498, 2544, 1997, 4024, 145, 6015, 6452, 1138, 2237, 4122, 3811, 307, 4011, 1772, 4853, 4484, 1259, 5690, 4234, 3489, 3496, 157, 4638, 6299, 1865, 2019, 2276, 848, 5618, 692, 4290, 5796, 3423, 4655, 861, 453, 1771, 1613, 5056, 1263, 1645, 5214, 39, 92, 971, 2209, 1507, 6363, 3277, 2097, 2573, 555, 4203, 5222, 5239, 3133, 2074, 684, 3869, 1244, 4850, 2147, 3627, 4049, 6539, 776, 5771, 4327, 6039, 583, 2873, 3150, 1081, 3142, 139, 5626, 4219, 4955, 3974, 6381, 6328, 1942, 3524, 257, 612, 4957, 5732, 1842, 1702, 3000, 3046, 2448, 4462, 5207, 4164, 5401, 2633, 226, 3493, 2300, 3871, 5720, 1765, 1972, 1550, 504, 4912, 6442, 4643, 1334, 4803, 3357, 779, 4634, 1738, 547, 5068, 3275, 5302, 3647, 1253, 5751, 1089, 3834, 3152, 5638, 1370, 5204, 3030, 6217, 3799, 2061, 6484, 1481, 3154, 628, 1627, 4830, 3179, 3293, 4216, 2236, 5315, 3428, 4279, 509, 3957, 1488, 6385, 369, 918, 225, 705, 3964, 202, 3385, 556, 2902, 2036, 5752, 4805, 2085, 2227, 3537, 3656, 3806, 1366, 4577, 5950, 1205, 1659, 2235, 5144, 3851, 3166, 6262, 3896, 5209, 3620, 1540, 6467, 1412, 6032, 1657, 3578, 2750, 1340, 2736, 4787, 1337, 4847, 2681, 99, 273, 1493, 3725, 2281, 3893, 1780, 4628, 3601, 1349, 2467, 930, 2968, 3282, 600, 1453, 4907, 3807, 3505, 4882, 6017, 4818, 947, 1512, 1451, 3236, 4438, 3229, 529, 2913, 4766, 5548, 5723, 2508, 5391, 2974, 6331, 1169, 3733]\n",
      "val ids:  [3141, 4372, 592, 973, 625, 5965, 3431, 1095, 6042, 1321, 6350, 6213, 470, 1468, 6493, 5261, 3189, 1704, 1463, 5644, 2195, 6037, 4549, 2166, 4076, 4532, 355, 3039, 5368, 2684, 1607, 56, 366, 764, 1931, 4023, 4694, 3300, 2108, 5371, 4886, 1784, 3802, 2761, 190, 2710, 5504, 3763, 3995, 2628, 3414, 2823, 2077, 6463, 172, 1924, 3050, 3302, 6140, 3201, 6255, 19, 3456, 1326, 2420, 4602, 4162, 2406, 2843, 551, 5126, 4710, 682, 2611, 6261, 2305, 4460, 2327, 4086, 289, 4257, 1448, 3049, 5946, 726, 5455, 5622, 765, 3973, 3484, 6551, 4845, 3029, 5470, 6512, 1663, 5670, 4092, 4935, 2799, 4309, 5301, 3764, 3956, 217, 2363, 4979, 1789, 3632, 5363, 6036, 5938, 4932, 3809, 4996, 1647, 2969, 2382, 284, 2587, 4221, 484, 1004, 6098, 6024, 5292, 2368, 3135, 1838, 1489, 843, 3007, 2180, 2222, 2419, 6327, 1548, 6302, 5229, 3732, 621, 6334, 1183, 4304, 55, 353, 2346, 1670, 5237, 5552, 4669, 5395, 3660, 3722, 1685, 541, 1080, 5855, 2221, 1484, 4305, 6164, 6345, 618, 6524, 2934, 5266, 1863, 5527, 2785, 603, 3919, 1899, 4581, 3595, 3340, 4885, 2115, 688, 609, 6014, 3542, 6434, 312, 3814, 1085, 2117, 3315, 1764, 954, 5458, 1211, 6498, 6019, 3697, 3383, 5588, 3283, 5518, 828, 4962, 2585, 2727, 2336, 5133, 3765, 6283, 3062, 4376, 3650, 5871, 785, 2499, 3676, 2828, 5349, 2472, 4097, 2865, 281, 3931, 204, 794, 503, 5515, 926, 5474, 3469, 192, 2449, 5792, 1007, 4988, 1813, 6109, 6341, 210, 4104, 5262, 4606, 1168, 218, 6347, 3298, 403, 4660, 2426, 4004, 624, 3128, 182, 2116, 1248, 459, 1693, 214, 3969, 1216, 4078, 6257, 6215, 3146, 2926, 1043, 1538, 4950, 4401, 4536, 3263, 149, 5285, 2859, 439, 4072, 1005, 4964, 2921, 3478, 5806, 4980, 2864, 4605, 3160, 3682, 3573, 201, 4598, 4405, 3096, 3895, 451, 3709, 1184, 3331, 4488, 4697, 1498, 2642, 1604, 2253, 607, 4218, 5305, 4374, 265, 4292, 2820, 3274, 4274, 4335, 526, 1655, 15, 2287, 3328, 2140, 953, 3332, 685, 2723, 370, 4765, 3193, 1272, 5512, 1910, 4981, 6173, 3838, 5240, 6506, 619, 4808, 1909, 2076, 1844, 445, 3554, 2790, 851, 5793, 3454, 32, 43, 636, 205, 1021, 4340, 3228, 846, 6430, 3446, 3196, 5886, 4325, 5444, 4132, 2083, 1986, 3313, 4586, 6046, 1117, 3541, 548, 3027, 2817, 5766, 4910, 310, 6132, 118, 2854, 374, 5858, 1049, 2576, 2535, 6245, 5290, 2008, 6431, 2928, 75, 3156, 3372, 5347, 2896, 3410, 2099, 6289, 258, 2715, 5218, 6360, 1250, 924, 3580, 999, 4877, 5139, 3202, 3975, 5923, 3714, 2402, 1629, 4328, 3998, 3593, 4648, 4393, 3390, 2367, 3439, 3437, 70, 2262, 5192, 5018, 4382, 2528, 795, 2351, 4473, 4012, 1082, 393, 3989, 5969, 4834, 5619, 4407, 2747, 1257, 5590, 1525, 891, 3075, 373, 5434, 1896, 4857, 3842, 174, 1583, 5538, 4001, 6279, 2484, 1492, 2691, 6335, 6099, 6223, 1571, 5767, 2996, 3947, 5779, 4112, 6301, 3238, 2312, 3928, 2802, 5629, 5180, 5398, 3534, 1852, 540, 6269, 3500, 2326, 2780, 1500, 4028, 2887, 2302, 3877, 4366, 2808, 188, 2925, 2839, 6052, 5308, 627, 3191, 3625, 3674, 454, 4025, 2470, 3118, 4730, 2483, 2620, 3845, 3872, 1467, 3602, 5023, 1293, 278, 2714, 994, 4746, 2337, 3462, 2781, 1656, 2531, 343, 1449, 3257, 5304, 4451, 1535, 1092, 4157, 2153, 2016, 2717, 306, 45, 6543, 3507, 5716, 4312, 2862, 2966, 1665, 2932, 31, 1869, 2649, 2650, 3468, 2910, 4751, 5175, 3105, 3073, 2445, 1689, 1106, 1345, 4415, 6271, 40, 1874, 2342, 1666, 5103, 3808, 4422, 1466, 106, 1513, 3696, 1433, 6533, 2947, 2627, 1129, 3012, 5507, 4330, 48, 5565, 3264, 292, 4873, 2456, 690, 4865, 3219, 5208, 4887, 4256, 3797, 4804, 1596, 6182, 5345, 4193, 1707, 5461, 3861, 5188, 6282, 5861, 754, 2604, 2927, 3194, 510, 140, 2474, 1196, 3358, 5753, 5891, 4763, 276, 2412, 1857, 1442, 2352, 2933, 1496, 1653, 6007, 1682, 3681, 3310, 4449, 1076, 3568, 1048, 1895, 1107, 1270, 2738, 2489, 4368, 5930, 1287, 5727, 349, 2475, 1420, 1243, 3053, 2491, 5182, 2260, 3663, 967, 725, 2105, 4226, 2468, 2838, 829, 1137, 6541, 1879, 4722, 6251, 1301, 4334, 3349, 2634, 1028, 6210, 3144, 3574, 2042, 1962, 3704, 2141, 3550, 3572, 5127, 1938, 6406, 6040, 3688, 3543, 943, 1820, 6427, 1961, 3886, 3825, 3986, 1935, 6353, 5534, 4459, 2203, 2753, 5394, 2972, 2167, 12, 2959, 6009, 3529, 4235, 30, 2229, 4482, 1327, 4352, 418, 1208, 2605, 6456, 358, 955, 2435, 6254, 5787, 1508, 1317, 1122, 1915, 849, 3081, 4934, 4079, 1320, 5294, 5047, 430, 3563, 1445, 1364, 772, 3846, 2393, 1371, 4790, 4681, 1696, 5153, 4585, 2743, 3165, 3404, 5323, 3457, 429, 5097, 3673, 4502, 2548, 1684, 4869, 4454, 2394, 5016, 6375, 2638, 2674, 1424, 4636, 1436, 2759, 1255, 4186, 1494, 5870, 4637, 5073, 2151, 2269, 3025, 5467, 3710, 524, 4208, 788, 6212, 2244, 2658, 4977, 4693, 6340, 4666, 2562, 6534, 4370, 5026, 6358, 3749, 3761, 5128, 2807, 2837, 3226, 5589, 3857, 4682, 2125, 5276, 362, 4174, 3605, 3005, 4452, 3099, 5077, 4251, 768, 6053, 4824, 2007, 109, 271, 5934, 1202, 443, 2452, 365, 863, 1079, 4383, 1748, 4307, 673, 4241, 4795, 4222, 6415, 5448, 1936, 4093, 6503, 1862, 2863, 3968, 2824, 675, 723, 2035, 5937, 3212, 3406, 2433, 3970, 5123, 2246, 1373, 972, 5631, 2990, 426, 4632, 3747, 105, 2955, 6379, 4699, 3533, 4994, 463, 3230, 5634, 4983, 3082, 5044, 3491, 2006, 5029, 1715, 3375, 6454, 230, 3879, 2157, 4649, 1267, 6156, 2401, 1677, 4608, 5149, 5433, 4700, 4386, 1732, 6128, 3401, 6095, 1409, 4503, 2771, 5228, 6362, 717, 6380, 4604, 3610, 1812, 1768, 6021, 2524, 3242, 847, 3124, 1891, 6329, 5528, 3590, 5849, 5403, 508, 5354, 3981, 5135, 635, 6221, 2241, 259, 6529, 5460, 288, 2938, 6485, 4381, 2135, 4336, 3908, 3566, 1088, 6123, 1826, 432, 884, 2043, 367, 557, 6422, 3670, 584, 2721, 4610, 4342, 67, 3351, 5438, 2551, 2058, 2232, 3666, 2630, 2711, 4895, 1669, 1030, 3770, 237, 2091, 804, 4976, 5786, 1996, 3551, 468, 3880, 1268, 5115, 4390, 3180, 2429, 223, 4436, 6433, 3471, 841, 3067, 2220, 1790, 766, 5377, 186, 1591, 4714, 1189, 5385, 122, 3048, 119, 36, 3509, 6167, 5894, 4435, 1728, 3780, 3384, 5605, 1380, 143, 2946, 5862, 3052, 2713, 4389, 5945, 425, 3416, 3817, 2139, 3341, 2440, 5812, 2621, 1339, 1299, 1859, 3482, 286, 4232, 5811, 6174, 6059, 4055, 5442, 2228, 3114, 121, 6180, 3575, 6055, 6177, 2643, 1465, 4575, 4057, 5183, 3816, 4106, 4150, 5953, 3885, 2661, 5373, 1830, 2418, 5957, 929, 1206, 2109, 602, 114, 5617, 5853, 5035, 4084, 2069, 1534, 2431, 5535, 1794, 714, 4161, 4862, 4793, 5061, 2986, 5729, 4041, 4852, 1911, 2023, 3766, 455, 4969, 2478, 4540, 1824, 1861, 852, 6033, 2929, 6190, 6171, 4831, 2325, 887, 6286, 6108, 4541, 3843, 3147, 6252, 3051, 6204, 4339, 1814, 5551, 2354, 4408, 3258, 1406, 1737, 1564, 507, 4192, 5846, 4016, 3187, 4450, 920, 2009, 1695, 3987, 2897, 3665, 6464, 3333, 22, 2381, 3097, 1428, 5211, 6201, 6199, 2730, 4901, 5949, 4224, 5643, 2924, 4712, 4883, 1358, 5955, 6453, 5542, 4144, 2718, 6545, 2590, 3395, 4033, 3432, 420, 144, 2090, 2485, 3139, 1176, 2313, 2415, 1385, 875, 6365, 3532, 4163, 4212, 703, 4711, 475, 4623, 2024, 1155, 3396, 827, 6349, 2724, 4354, 3762, 5010, 4075, 3480, 5215, 2888, 4131, 3205, 4530, 5070, 6267, 1300, 3976, 5798, 3132, 207, 2301, 1927, 845, 6114, 1430, 2316, 1342, 2998, 1700, 2812, 5781, 4026, 2893, 474, 2703, 2218, 2026, 5536, 5832, 3495, 2183, 336, 5210, 222, 4228, 921, 2359, 1336, 1050, 4238, 5450, 1713, 1836, 5975, 390, 6432, 6409, 3994, 2356, 4315, 5637, 4970, 3707, 2751, 5432, 5916, 18, 6366, 2422, 3038, 1249, 5722, 6207, 2427, 1908, 5156, 5049, 3815, 3464, 6494, 3678, 4784, 1945, 4933, 2537, 5370, 117, 5685, 2314, 3426, 535, 262, 6294, 4486, 3009, 1795, 4569, 4143, 2174, 5109, 5683, 5015, 1413, 4052, 1822, 4077, 1923, 5883, 4440, 1377, 5868, 5157, 2473, 1093, 2616, 1087, 1876, 4448, 2503, 1980, 6126, 3858, 939, 3158, 3237, 6175, 5017, 120, 3619, 5055, 2570, 2179, 546, 1368, 6179, 3729, 5422, 1505, 1982, 5096, 5217, 1490, 5355, 2598, 3090, 293, 3377, 3768, 2878, 6050, 3633, 3751, 2626, 3782, 6005, 2618, 5970, 4914, 4483, 2784, 3371, 5770, 6088, 1193, 616, 6546, 6187, 4083, 2578, 476, 4379, 674, 679, 1405, 5785, 197, 4552, 1992, 5033, 3517, 3354, 340, 5929, 4621, 5340, 2414, 2907, 769, 1425, 2866, 2357, 5367, 1045, 1404, 379, 5928, 3759, 3078, 4412, 6018, 4788, 6419, 2233, 806, 5316, 364, 4120, 6416, 5342, 3685, 3450, 4136, 1033, 1434, 4294, 4464, 116, 5268, 5783, 2502, 1631, 784, 4487, 1052, 1276, 4947, 224, 5114, 2610, 1926, 5048, 5674, 5973, 1245, 6256, 2387, 6523, 632, 5424, 4832, 4233, 3266, 5610, 2597, 1134, 2513, 2765, 1566, 5505, 5508, 4190, 6165, 2092, 147, 5893, 6421, 4439, 4467, 2835, 5051, 4068, 4792, 4737, 6508, 4363, 1946, 3112, 3916, 1504, 4940, 3776, 3064, 4089, 3844, 5271, 3244, 511, 199, 5476, 2154, 3119, 757, 1845, 3336, 5265, 539, 4423, 3485, 4169, 2173, 156, 1418, 4151, 60, 4779, 775, 925, 565, 3684, 1831, 2822, 598, 4703, 72, 2970, 2725, 6188, 4476, 4767, 3058, 4614, 2249, 6281, 5259, 1483, 935, 5776, 5593, 231, 3224, 3617, 363, 1758, 1576, 3630, 712, 4588, 4975, 1038, 6435, 4497, 3559, 3451, 5437, 4118, 4941, 1354, 4868, 2255, 5107, 3571, 1073, 3467, 2594, 4152, 5143, 4105, 3182, 1731, 3703, 4716, 5790, 533, 483, 1242, 5286, 3353, 5106, 1570, 2477, 1828, 3933, 2347, 1539, 342, 1609, 1933, 2697, 1776, 2434, 64, 3544, 3651, 1056, 3305, 2735, 1254, 5648, 1102, 59, 1116, 4622, 421, 3622, 6423, 516, 96, 452, 3092, 4572, 3934, 5952, 203, 2015, 267, 2547, 472, 352, 3072, 5365, 3922, 3698, 314, 3339, 5954, 1288, 38, 5866, 3581, 6006, 4607, 3863, 5264, 4733, 3031, 3852, 4015, 6041, 1185, 4538, 1750, 615, 5688, 2682, 6324, 3334, 5112, 3702, 2844, 2107, 1595, 357, 1435, 3418, 3997, 4565, 506, 2245, 3087, 5300, 3705, 381, 5896, 2098, 4081, 1241, 5628, 1031, 2353, 4822, 4995, 3767, 5517, 1782, 4731, 2487, 2831, 5948, 5117, 4069, 5324, 2943, 3296, 1237, 4159, 3488, 633, 4646, 6450, 1549, 6035, 3449, 6208, 6550, 1491, 2775, 4742, 4696, 5511, 5539, 6525, 3422, 4005, 2373, 1949, 6372, 3214, 1993, 2149, 2867, 668, 3980, 2564, 4897, 3301, 3950, 2114, 1322, 3687, 6403, 4578, 1546, 2561, 3963, 4807, 5876, 5530, 52, 2729, 5293, 1578, 2931, 4044, 5703, 4129, 5472, 4816, 3899, 2512, 404, 1976, 1981, 3876, 3735, 1537, 3098, 4519, 1099, 1783, 2075, 4359, 5924, 2005, 4773, 3319, 388, 296, 1994, 14, 2949, 4525, 2238, 4670, 3137, 2071, 4272, 2417, 2793, 1078, 5425, 2430, 6338, 1170, 2675, 2734, 6275, 3136, 2231, 2020, 3900, 1651, 5800, 6373, 1597, 1127, 4863, 2980, 3143, 4656, 4909, 6163, 5427, 2762, 5607, 440, 1590, 1269, 1295, 1973, 3169, 1792, 6352, 44, 5101, 2182, 1712, 2186, 6211, 3677, 5555, 3408, 2286, 1333, 5380, 1849, 5635, 4735, 3522, 4624, 1363, 2798, 6466, 4165, 4723, 2953, 5137, 5728, 4906, 4965, 3324, 1214, 3123, 1810, 2428, 4551, 1835, 3738, 4771, 5125, 2003, 3628, 5430, 4230, 3060, 6013, 5702, 3990, 1533, 5483, 860, 2329, 6428, 5311, 6219, 2756, 1751, 2520, 4495, 3586, 2479, 6296, 5845, 2825, 760, 3162, 5067, 5399, 2175, 3424, 1868, 2919, 5977, 2538, 5713, 3888, 5596, 285, 5506, 1588, 1375, 313, 2334, 3972, 4414, 458, 3250, 964, 2617, 3946, 2836, 5873, 1743, 588, 4550, 1975, 4445, 6250, 2853, 4777, 4321, 4821, 4931, 1602, 3523, 462, 4928, 2274, 1180, 4195, 599, 2223, 1736, 2252, 3316, 1010, 2740, 3407, 3246, 1238, 6295, 3929, 6222, 2204, 213, 3953, 1819, 1275, 3367, 5715, 5616, 2739, 5895, 5691, 787, 5697, 1178, 2205, 5960, 517, 545, 2102, 3443, 291, 3338, 1020, 3892, 2985, 2700, 4059, 2967, 4410, 700, 450, 6268, 4109, 4743, 1676, 2482, 6044, 2476, 4825, 1769, 4740, 274, 2767, 344, 2279, 3711, 5865, 2533, 644, 5939, 5696, 2856, 3364, 3612, 2906, 6405, 6346, 1174, 2930, 1808, 5423, 1458, 5428, 2855, 5562, 937, 1514, 1582, 6344, 3347, 4364, 2466, 5611, 375, 792, 153, 3366, 4478, 6426, 4073, 1338, 1827, 155, 6371, 6547, 2492, 2190, 4249, 4528, 831, 5615, 4066, 4695, 1015, 928, 4110, 1853, 6538, 180, 21, 3453, 4635, 6218, 3939, 5275, 3965, 4548, 4283, 6549, 2797, 3271, 3926, 2265, 3447, 6291, 4715, 4523, 3664, 5557, 6457, 3726, 2975, 5568, 3251, 3335, 6277, 1055, 4942, 3352, 1956, 2371, 6417, 614, 13, 3076, 2875, 435, 4884, 3955, 522, 3378, 2383, 5372, 1156, 3259, 6102, 2660, 4915, 1953, 1834, 5141, 6176, 3848, 4504, 2142, 3398, 5299, 4121, 5319, 1179, 2647, 4936, 4870, 1775, 176, 5757, 4399, 2100, 1289, 3915, 1741, 300, 5320, 391, 1606, 3805, 2332, 5675, 1319, 5353, 1620, 2103, 2358, 6192, 3999, 5888, 6016, 1166, 5854, 3322, 550, 128, 4968, 4952, 3565, 1029, 1755, 2693, 1691, 2994, 5212, 4269, 6483, 677, 1661, 2973, 3943, 1158, 538, 4859, 3373, 4111, 1767, 4913, 4570, 835, 3514, 997, 3913, 4138, 4861, 2686, 3001, 5863, 790, 2851, 5223, 6439, 6458, 6528, 3672, 6288, 3107, 1083, 4237, 2310, 3411, 2066, 4475, 3546, 715, 944, 647, 2089, 1674, 5397, 6100, 3019, 2242, 537, 3345, 3720, 4772, 3054, 2308, 4040, 3728, 3063, 2309, 6348, 5591, 2944, 4362, 2146, 2923, 3841, 5775, 701, 434, 1617, 2258, 549, 2806, 2522, 97, 4463, 3161, 1877, 5956, 1530, 6097, 2070, 6518, 4718, 2230, 136, 4209, 1752, 5034, 4146, 710, 4612, 2361, 6125, 4202, 3203, 3290, 71, 5777, 3095, 2814, 3460, 4034, 3700, 3330, 6112, 2687, 212, 1730, 5996, 6137, 4446, 3587, 5686, 4296, 913, 4705, 4197, 3930, 4392, 4851, 3304, 5260, 4465, 6410, 5704, 5203, 1332, 5963, 2664, 4573, 626, 2041, 3088, 2731, 6047, 1444, 4096, 51, 6369, 5197, 3281, 5892, 4046, 4874, 3873, 1072, 2614, 5645, 5864, 4117, 2150, 2403, 57, 37, 6501, 5138, 3694, 6489, 2550, 2094, 4130, 3231, 3954, 5594, 5889, 1739, 2811, 5878, 5523, 3168, 2322, 888, 110, 5382, 3785, 6030, 6354, 2696, 1086, 2832, 3591, 1273, 4154, 2912, 5671, 4745, 4167, 3655, 4866, 5457, 883, 339, 5641, 3172, 1922, 5118, 9, 933, 255, 5402, 4289, 4644, 1673, 377, 4153, 2254, 4413, 3057, 946, 1497, 146, 2039, 5357, 4768, 1324, 2012, 604, 4797, 4518, 2165, 4149, 1847, 767, 2424, 5187, 2659, 1161, 3748, 5972, 2582, 2514, 1240, 473, 2397, 3111, 5159, 2078, 3558, 6197, 3549, 6332, 807, 2386, 1612, 871, 1628, 6342, 3983, 4425, 3875, 3594, 534, 4322, 3644, 4582, 5227, 2044, 941, 3299, 3091, 5545, 5093, 3800, 4282, 2096, 4259, 3675, 2494, 2259, 500, 6420, 1745, 5543, 5158, 1462, 5809, 3325, 5462, 5145, 6134, 2366, 3847, 1757, 5028, 2184, 5019, 2745, 1646, 4061, 6243, 858, 4945, 1698, 2566, 4858, 3812, 4943, 1217, 3951, 3901, 3102, 1351, 2671, 4657, 4387, 1502, 6351, 2858, 1522, 5627, 229, 5020, 469, 553, 1694, 3077, 3539, 1998, 2266, 5869, 2436, 2464, 5554, 3045, 5764, 6023, 3164, 4391, 2552, 542, 191, 46, 308, 2607, 6368, 5755, 3582, 3247, 5484, 131, 3589, 1026, 1832, 611, 1103, 1974, 2283, 4027, 1825, 5465, 2599, 3835, 1291, 2453, 5805, 942, 1951, 3452, 2997, 5045, 5532, 3069, 2677, 183, 2411, 3865, 1711, 4243, 3207, 3525, 1126, 1793, 6118, 2201, 4258, 1374, 5780, 3801, 3171, 4062, 3904, 5273, 384, 1744, 5113, 606, 4732, 4135, 5587, 1619, 2770, 2137, 5967, 187, 368, 2409, 4890, 2335, 808, 5317, 4750, 3386, 4205, 5272, 1988, 2979, 3421, 5693, 2999, 5130, 354, 4829, 1929, 2181, 2752, 6364, 3833, 5852, 1191, 5447, 3284, 1660, 4658, 4365, 6272, 3796, 1096, 582, 5700, 1990, 6214, 2324, 866, 1024, 5708, 2198, 111, 4341, 5533, 3562, 5226, 3327, 680, 2517, 890, 6414, 4031, 2101, 58, 5944, 4246, 5075, 771, 4194, 132, 1456, 2709, 3024, 1110, 5725, 1262, 745, 4396, 5567, 3129, 2169, 3149, 5364, 5283, 4752, 5867, 2206, 2995, 5834, 4333, 1890, 630, 3649, 521, 5772, 2779, 1729, 3813, 2504, 969, 1848, 2345, 1954, 2592, 3458, 2328, 6248, 5146, 3576, 3397, 2892, 2945, 752, 5042, 4539, 2256, 3912, 4142, 3596, 4944, 317, 1703, 3629, 1753, 6504, 839, 1851, 2350, 297, 3043, 4987, 26, 4810, 5890, 3737, 3121, 1816, 3093, 1796, 747, 438, 4558, 1575, 5152, 1209, 138, 266, 279, 778, 1277, 4728, 3891, 29, 6141, 5132, 3866, 6056, 4725, 1610, 33, 3874, 2877, 2318, 2989, 6532, 957, 2613, 2362, 2067, 11, 5603, 2796, 2343, 4047, 3294, 3661, 2652, 5375, 2941, 2247, 4070, 2374, 3932, 4493, 1958, 1415, 6370, 5406, 2602, 3618, 4229, 2207, 4113, 3393, 5926, 3692, 514, 3391, 523, 1118, 2742, 704, 1343, 1408, 287, 3783, 4378, 1817, 4496, 5707, 1175, 295, 5478, 1632, 5312, 838, 4684, 6133, 1593, 1091, 1543, 3436, 4619, 5936, 1662, 2637, 1621, 853, 2277, 3992, 1379, 471, 3218, 91, 1788, 1367, 713, 3248, 4275, 2454, 1401, 5877, 1331, 2437, 4686, 2760, 3830, 3492, 1594, 4713, 2586, 2290, 4494, 1791, 6505, 256, 3018, 789, 1163, 678, 5833, 4958, 4974, 6497, 5487, 2121, 6300, 2692, 6191, 34, 4946, 1658, 2303, 6469, 5784, 4306, 301, 6459, 4058, 1125, 1616, 65, 4490, 4385, 5773, 5387, 386, 3878, 3413, 4139, 2819, 3552, 6253, 5525, 1264, 5887, 5011, 4297, 629, 2056, 2104, 4741, 2110, 4661, 4009, 6273, 1615, 840, 3925, 1598, 3659, 5378, 2631, 3777, 1710, 4819, 1756, 3531, 4043, 1108, 4778, 3511, 3470, 872, 4709, 4748, 528, 1046, 5482, 216, 6198, 1524, 5694, 2341, 5446, 3548, 3508, 6194, 5844, 6424, 709, 305, 3868, 3466, 4416, 2857, 3379, 2612, 6387, 3769, 2270, 4053, 5221, 3307, 2392, 3089, 1589, 3967, 623, 2636, 424, 4470, 2530, 581, 2874, 3952, 3359, 5480, 6090, 1165, 5298, 5927, 5860, 1987, 1330, 372, 4780, 6057, 4384, 2805, 3262, 950, 1450, 2022, 5978, 2840, 5763, 6249, 2732, 502, 2957, 5178, 1402, 1898, 4318, 6488, 3731, 4747, 4871, 5765, 2122, 69, 2829, 970, 4894, 6462, 4128, 4562, 135, 1916, 5036, 5343, 2774, 2666, 2922, 1097, 3604, 3641, 4277, 6544, 610, 702, 5095, 589, 4876, 3035, 1042, 3646, 3662, 3745, 3786, 3083, 1027, 5379, 5709, 5194, 3637, 1112, 1407, 5514, 3810, 2307, 5054, 2208, 952, 4273, 129, 5231, 3960, 3819, 759, 1013, 4986, 3363, 2768, 912, 6246, 763, 6142, 4176, 4498, 6010, 23, 5216, 1690, 1625, 4281, 6075, 4704, 236, 5155, 2993, 4749, 832, 1464, 2065, 3706, 2654, 3699, 5179, 4419, 3403, 4545, 3420, 6011, 3945, 3839, 2600, 108, 4394, 2495, 797, 3265, 3181, 3253, 2028, 4633, 4398, 4645, 2884, 681, 6540, 6535, 5393, 4662, 4867, 448, 5672, 5190, 133, 4849, 1417, 3603, 3639, 4811, 3115, 2408, 1025, 3911, 154, 1837, 206, 3824, 2609, 3240, 4358, 1517, 2037, 874, 50, 4171, 4904, 359, 2889, 3779, 6091, 2818, 2488, 3225, 2498, 3654, 3557, 5122, 1860, 2782, 4846, 2156, 4949, 1547, 5198, 1261, 2961, 3442, 4617, 6490, 2057, 1683, 4310, 4900, 98, 1905, 5390, 1133, 215, 6205, 338, 6513, 1797, 228, 3256, 1740, 1944, 2469, 2193, 4775, 4114, 208, 5650, 3176, 6447, 5477, 5931, 2348, 3940, 842, 2987, 4472, 5074, 2653, 1355, 5851, 1608, 2072, 2339, 4355, 4250, 4308, 5322, 2883, 664, 3958, 6113, 6287, 5181, 6440, 2187, 949, 3211, 2447, 5614, 3041, 5234, 4254, 4293, 5463, 4534, 867, 3389, 4332, 2689, 5358, 4042, 693, 6203, 6086, 1446, 6025, 2565, 6237, 2118, 3344, 530, 1135, 1708, 505, 3289, 6383, 3897, 3291, 2082, 4461, 2064, 4035, 1532, 27, 2606, 2981, 3497, 1630, 1348, 6438, 4403, 6266, 2388, 4615, 4599, 6404, 3724, 2935, 2850, 876, 803, 2273, 3790, 4260, 5836, 5639, 2263, 2816, 5947, 4875, 3473, 3561, 6429, 3978, 2667, 6448, 3828, 2635, 2971, 5436, 1528, 6377, 6107, 1901, 3010, 830, 4477, 5383, 1022, 634, 4270, 916, 4802, 441, 1762, 2629, 1878, 2177, 3695, 3570, 1053, 3734, 781, 4056, 6290, 1239, 4316, 3220, 104, 4815, 4253, 2438, 5721, 5537, 865, 2554, 4664, 6135, 4902, 3903, 6511, 209, 6244, 2370, 427, 464, 1207, 3599, 3787, 5884, 6043, 1284, 2446, 3415, 2755, 4567, 5282, 6509, 2171, 3860, 2954, 4611, 5880, 2519, 5717, 2563, 1586, 3308, 5875, 3037, 3463, 1292, 3988, 1727, 233, 6520, 4406, 6451, 4665, 1614, 6121, 2984, 6027, 3312, 518, 3752, 5689, 998, 5640, 3326, 3004, 4377, 5531, 5837, 6026, 2145, 6259, 6515, 1687, 2708, 2940, 671, 6185, 3232, 460, 2911, 3567, 5147, 4627, 3829, 3713, 515, 5098, 5104, 3356, 2017, 694, 3002, 2764, 3849, 5466, 5021, 2030, 1984, 3821, 6531, 5309, 5563, 3740, 6444, 5994, 3175, 777, 3985, 595, 917, 2529, 2496, 2895, 6280, 4299, 4437, 4568, 2588, 938, 3042, 2200, 2014, 4930, 706, 4707, 1130, 791, 1917, 1912, 2404, 5726, 2176, 5043, 2391, 5468, 6054, 1459, 6012, 5374, 3071, 1714, 5471, 3070, 4032, 6004, 5445, 264, 5788, 3962, 4500, 2645, 3303, 3252, 923, 3195, 2355, 1341, 1376, 1894, 3459, 2384, 4651, 4717, 3521, 3140, 3177, 1447, 5429, 3717, 1515, 4301, 2833, 1159, 3318, 134, 3208, 2965, 5553, 2505, 4351, 1318, 2589, 2025, 5362, 4939, 5676, 2323, 5464, 3477, 4094, 2977, 5974, 3186, 35, 2331, 5561, 1766, 4175, 1983, 3399, 3223, 5874, 4625, 6436, 4734, 4603, 5454, 3579, 3993, 3528, 4769, 4300, 4036, 2226, 2716, 6297, 4295, 3944, 4774, 3314, 2021, 2333, 3272, 1960, 1709, 1952, 2670, 2288, 1075, 3241, 4629, 5065, 2168, 4125, 3273, 3483, 3474, 433, 126, 2372, 1701, 2315, 1019, 3907, 4108, 2976, 3862, 485, 4319, 1854, 6045, 3254, 2068, 1113, 4911, 234, 1344, 254, 1501, 2886, 993, 3827, 3185, 2914, 1569, 152, 1365, 303, 4542, 447, 1282, 2593, 5684, 2416, 3306, 442, 431, 5804, 1587, 4038, 378, 3455, 4967, 2651, 4982, 4397, 1742, 3127, 4217, 2123, 850, 3204, 3438, 5882, 1302, 2962, 6178, 782, 711, 1675, 1236, 3026, 3486, 2219, 5154, 227, 4375, 4937, 3536, 3370, 2011, 2580, 6336, 6181, 1579, 1452, 3730, 2299, 911, 3538, 1692, 2948, 4506, 2766, 4553, 1329, 456, 3350, 3530, 1098, 3329, 2741, 2172, 3419, 3518, 2443, 5050, 5879, 3631, 5647, 2690, 4889, 996, 5105, 1037, 5099, 1925, 1414, 4985, 5941, 10, 5206, 4620, 2899, 3977, 3178, 2282, 1172, 4583, 868, 220, 1014, 4557, 1948, 2060, 5289, 3683, 2815, 3321, 6460, 219, 2261, 990, 1509, 1875, 1411, 311, 1323, 4215, 3320, 195, 4806, 5971, 4008, 6157, 4198, 4050, 3910, 3820, 2410, 1347, 1928, 1077, 6487, 294, 5274, 3583, 2655, 4527, 1897, 1893, 3535, 3923, 4317, 2559, 4529, 5205, 4537, 3909, 1733, 2648, 115, 2737, 6031, 856, 5456, 2018, 3836, 3368, 5803, 1378, 2251, 5307, 2656, 750, 2777, 5547, 1584, 995, 796, 786, 4770, 103, 4966, 2669, 5057, 6445, 3668, 3914, 5473, 3884, 2159, 2511, 5296, 1486, 5857, 4140, 5609, 1705, 6292, 422, 457, 6333, 2988, 2791, 886, 5037, 6034, 5366, 6527, 302, 1256, 532, 5202, 1164, 4155, 1171, 2915, 42, 16, 3519, 2349, 951, 5191, 2549, 748, 3679, 4690, 5529, 5134, 1383, 6127, 3624, 2601, 2463, 2526, 5352, 4556, 2776, 1352, 6446, 6195, 6101, 833, 2506, 394, 5297, 5795, 380, 5110, 4854, 2680, 4888, 304, 6443, 3743, 4764, 3577, 6202, 4199, 3080, 1774, 5510, 3648, 1421, 5235, 5486, 1290, 1985, 591, 3126, 4789, 5241, 6247, 4211, 3206, 4402, 150, 397, 1902, 5673, 2395, 4543, 4095, 5979, 6274, 4992, 2619, 2608, 5314, 5621, 5516, 341, 63, 2451, 5714, 2842, 382, 3476, 2029, 3502, 6189, 3245, 5053, 1786, 4127, 1864, 5872, 3744, 4474, 4252, 1544, 5524, 2534, 4685, 4491, 1032, 859, 235, 1002, 3798, 5031, 3545, 927, 2441, 6209, 3712, 4356, 5794, 5431, 3756, 2546, 4051, 2772, 4600, 1403, 3718, 2073, 3405, 5847, 697, 2532, 4067, 4115, 5705, 3547, 1186, 3832, 5698, 5943, 6293, 2712, 1009, 5076, 4148, 4663, 5556, 2178, 3047, 3553, 4776, 3249, 2644, 24, 6092, 2555, 4323, 4626, 3199, 3721, 6184, 6298, 1503, 6115, 4367, 41, 1623, 2224, 3890, 5063, 2978, 5346, 5951, 4468, 4156, 4896, 1581, 5624, 1246, 1950, 2038, 1563, 5400, 5754, 3775, 3103, 4179, 3109, 877, 3006, 263, 28, 5677, 2646, 2432, 4030, 3430, 3736, 4948, 5706, 4533, 4689, 2093, 1870, 3867, 3686, 5404, 3381, 4584, 3598, 637, 1809, 3979, 665, 3173, 5193, 4206, 6276, 613, 298, 5195, 4453, 5802, 597, 672, 392, 3607, 4248, 2591, 6495, 5962, 1090, 4284, 5213, 1605, 4794, 3540, 189, 2455, 3671, 5597, 512, 2225, 3369, 992, 4972, 53, 2158, 1017, 4466, 1671, 1568, 4827, 309, 5381, 101, 3961, 1094, 695, 3159, 3739, 3592, 3155, 5566, 3429, 2583, 3642, 2398, 1866, 5267, 3516, 6411, 6003, 3157, 2138, 1763, 5310, 1212, 6084, 3503, 5131, 2872, 3020, 5995, 2234, 755, 4782, 3100, 1429, 4908, 698, 4420, 4013, 2639, 5032, 2360, 446, 837, 6136, 5699, 6022, 3746, 4278, 3382, 5384, 585, 1000, 4337, 3741, 2748, 5522, 3434, 3388, 6284, 3902, 6278, 3794, 1872, 2581, 1265, 73, 178, 6139, 2773, 4442, 2471, 3285, 1084, 6094, 6124, 2311, 643, 2795, 1518, 1438, 544, 696, 444, 2340, 5058, 2407, 3870, 554, 6119, 5560, 151, 1939, 2900, 6077, 3412, 4285, 6103, 6412, 1778, 4898, 4855, 5069, 5564, 1678, 3971, 3757, 6083, 676, 4287, 6384, 2444, 4848, 3859, 348, 4687, 5013, 4286, 5801, 1457, 1611, 4814, 260, 934, 3636, 601, 5140, 1105, 1941, 6537, 3898, 2126, 385, 3887, 2672, 2852, 389, 2676, 2778, 4357, 4736, 5769, 6117, 2763, 620, 4007, 5258, 631, 3921, 3059, 4329, 5917, 1427, 1023, 6305, 1510, 6029, 2848, 1455, 1197, 5768, 4489, 2558, 6076, 645, 1215, 3984, 3184, 6105, 6514, 2501, 1012, 4037, 2189, 1565, 5925, 4856, 4739, 6337, 844, 2119, 3122, 931, 4860, 6111, 4360, 2556, 793, 6224, 6507, 3792, 124, 6166, 3864, 5124, 2678, 2905, 3638, 5344, 3481, 1219, 3380, 3346, 1353, 3239, 4191, 4173, 1369, 4418, 1843, 5196, 4546, 5350, 1907, 6500, 1932, 2572, 4708, 1177, 5129, 922, 5544, 2657, 3475, 4123, 2162, 5277, 6270, 6172, 945, 809, 1871, 4324, 2062, 1545, 3085, 4231, 4060, 3011, 593, 5066, 3906, 5789, 280, 1285, 2769, 2278, 1650, 193, 5453, 3788, 4207, 513, 6502, 4261, 20, 4214, 2908, 3348, 4227, 2569, 5964, 3791, 5799, 6361, 1668, 1114, 2917, 4245, 2032, 3793, 3781, 6465, 3634, 5287, 932, 1572, 3948, 566, 5481, 5232, 6196, 3023, 1303, 2668, 2148, 2004, 5526, 1035, 1654, 605, 1487, 6517, 2937, 1167, 1210, 428, 2059, 4526, 783, 3268, 1443, 3425, 6413, 4688, 1213, 6356, 347, 4311, 870, 4107, 3061, 1350, 4388, 2903, 5719, 2891, 1382, 869, 5488, 3108, 4997, 1892, 2679, 4668, 5435, 3818, 4951, 5242, 2365, 4225, 5356, 1511, 991, 76, 5062, 2385, 2040, 5695, 4369, 5278, 4029, 4796, 5224, 6089, 2521, 940, 1432, 4783, 2991, 5100, 3084, 1018, 3917, 1003, 4564, 2304, 4785, 1531, 5052, 4404, 383, 3276, 1074, 467, 1585, 6260, 4204, 5966, 3392, 1381, 4189, 5284, 4074, 6264, 2577, 2170, 780, 5318, 1384, 2188, 4738, 5636, 2841, 5072, 5913, 2698, 4566, 2344, 5189, 707, 3197, 5243, 315, 4642, 3387, 3441, 751, 3394, 3753, 4200, 2087, 5303, 834, 2330, 1523, 3882, 3292, 889, 968, 5160, 5059, 1132, 6168, 590, 1294, 49, 4298, 536, 2034, 2673, 4547, 6378, 3104, 5469, 4280, 2963, 4166, 1461, 5142, 3297, 2845, 175, 4521, 1054, 5733, 1266, 1855, 4145, 2744, 3723, 4616, 261, 1603, 5959, 4618, 2291, 5620, 2827, 1649, 3003, 6522, 3645, 5185, 3924, 2088, 4116, 6374, 4220, 3515, 3376, 5148, 1914, 1181, 1815, 6122, 6104, 4455, 1123, 4213, 3355, 5724, 1943, 1749, 4993, 4520, 5386, 4457, 1399, 3065, 4091, 5935, 6186, 2497, 4820, 6170, 683, 1220, 3215, 1699, 1036, 1536, 4134, 4667, 3153, 1100, 1904, 177, 25, 5549, 501, 5541, 465, 2557, 1829, 4313, 3715, 2728, 77, 4991, 3016, 1934, 4469, 6542, 4929, 1286, 5774, 4903, 356, 667, 1787, 5046, 3623, 4971, 2694, 4326, 5701, 1937, 3613, 2596, 5756, 1959, 4544, 3068, 6330, 2202, 5550, 5632, 4178, 3657, 316, 6285, 3789, 2901, 2830, 2545, 395, 3719, 3117, 1989, 2248, 5161, 3831, 3701, 4963, 4601, 5291, 1978, 5269, 3758, 1419, 1811, 1672, 3261, 1260, 1624, 4168, 2749, 4864, 3754, 4126, 689, 3269, 3982, 6131, 2733, 3850, 1574, 5718, 1297, 2084, 5815, 2423, 3513, 1573, 3784, 5341, 1034, 4702, 5592, 756, 5897, 1298, 646, 1016, 1182, 3234, 1781, 2665, 3942, 2321, 1162, 5633, 836, 3209, 4659, 4087, 6008, 1011, 1416, 1160, 4701, 1136, 910, 2217, 123, 4288, 966, 753, 3510, 3667, 2603, 5630, 2164, 196, 232, 670, 3288, 2161, 4990, 1747, 269, 2536, 1252, 6468, 3243, 4505, 1128, 1592, 663, 4744, 2155, 1777, 2250, 2143, 724, 2663, 5625, 3342, 761, 4276, 708, 5295, 5151, 5569, 3017, 4373, 4798, 2568, 5024, 3837, 1991, 5257, 2898, 5595, 5808, 1529, 2939, 184, 669, 1541, 3750, 594, 5184, 3022, 3626, 2144, 2890, 885, 4580, 3755, 3611, 4443, 5813, 1203, 2268, 6386, 4524, 3131, 1726, 5791, 2803, 437, 2239, 6220, 5351, 2490, 6519, 5027, 6326, 1526, 5369, 6303, 805, 4650, 1190, 5649, 351, 6548, 2942, 3222, 3074, 6437, 5064, 5236, 1001, 1979, 4692, 586, 2688, 4045, 3317, 3499, 862, 5348, 5025, 3295, 5405, 1667, 3125, 6521, 3323, 3210, 1652, 2810, 3472, 6169, 3145, 3008, 1706, 3501, 5646, 3066, 2405, 6526, 3881, 4054, 5810, 2267, 61, 3795, 2702, 275, 4522, 270, 6382, 4170, 3894, 62, 5313, 2284, 1622, 1754, 1335, 3417, 2027, 2804, 2916, 3079, 3927, 1044, 5092, 5225, 2956, 3494, 4609, 2199, 4147, 2369, 6325, 5711, 1626, 461, 1410, 1833, 4338, 3138, 4817, 608, 4242, 5426, 5111, 125, 6216, 1947, 4409, 4706, 4571, 716, 2876, 6087, 2794, 5570, 3461, 5731, 6367, 3448, 2010, 3309, 4201, 4014, 4177, 2191, 4141, 5710, 4137, 1856, 727, 773, 3101, 361, 1664, 3134, 2364, 3216, 1460, 2194, 449, 1499, 66, 2574, 2904, 2389, 5270, 346, 6455, 5392, 477, 4563, 1454, 4978, 5558, 3286, 2033, 4302, 3569, 4223, 552, 4576, 3221, 4065, 3490, 1697, 617, 686, 6425, 6359, 5651, 1194, 68, 396, 4499, 2595, 4343, 4006, 1173, 666, 909, 6138, 3465, 2243, 1251, 5914, 3167, 2868, 2792, 3708, 4361, 221, 2982, 3409, 1423, 3163, 4291, 3804, 3279, 1873, 2813, 3823, 3555, 4210, 6492, 350, 2486, 4411, 2662, 5915, 6306, 5606, 4447, 2421, 4133, 194, 2525, 4727, 6038, 1362, 4984, 3374, 5942, 5692, 1906, 3905, 2575, 173, 2809, 4441, 4613, 915, 2754, 283, 2257, 5513, 6110, 54, 762, 3826, 6376, 2849, 3693, 4082, 2958, 2163, 2275, 5220, 3615, 2306, 3584, 3585, 2920, 4555, 5136, 5150, 4088, 5233, 1957, 6355, 687, 5881, 1346, 2152, 5797, 699, 6265, 2493, 1157, 948, 4187, 728, 596, 4579, 1047, 5968, 3402, 4653, 758, 3278, 1770, 3640, 4989, 2918, 2909, 268, 5604, 5835, 6388, 1006, 4786, 3918, 4003, 3044, 1188, 4501, 2500, 3188, 5933, 3803, 4516, 4833, 4872, 130, 6536, 1198, 323, 4893, 4244, 419, 1785, 3013, 2124, 1618, 3015, 148, 5321, 3941, 1955, 6193, 3151, 564, 2425, 2285, 4471, 6085, 2002, 1516, 3669, 4724, 527, 74, 4353, 2783, 5452, 4954, 5540, 4535, 4953, 3597, 2481, 3036, 5608, 5712, 2510, 5613, 2701, 2758, 3213, 2063, 5102, 5814, 4434, 5060, 936, 5958, 3435, 181, 5443, 1567, 4119, 5778, 3110, 1101, 360, 1437, 1580, 4417, 5459, 3233, 2390, 5612, 1735, 5451, 4531, 4652, 1918, 4492, 4905, 4172, 3056, 5306, 4781, 3616, 6407, 4039, 2950, 198, 6206, 2516, 2136, 5030, 1431, 3658, 5263, 6060, 2185, 5475, 436, 1372, 2641, 520, 1258, 2746, 2847, 2396, 1858, 337, 5116, 2801, 127, 2846, 3148, 142, 2031, 6049, 3652, 5623, 4878, 3959, 2338, 1773, 3267, 1746, 5108, 854, 2113, 5022, 749, 1930, 4458, 5932, 1296, 3086, 5177, 5730, 6499, 1154, 5079, 6343, 1913, 1686, 1495, 3337, 4124, 2553, 1124, 4271, 963, 200]\n",
      "test ids:  [0, 1, 2, 3, 4, 5, 6, 7, 8, 78, 79, 80, 81, 82, 83, 84, 85, 86, 87, 88, 89, 90, 158, 159, 160, 161, 162, 163, 164, 165, 166, 167, 168, 169, 170, 171, 238, 239, 240, 241, 242, 243, 244, 245, 246, 247, 248, 249, 250, 251, 252, 253, 318, 319, 320, 321, 322, 324, 325, 326, 327, 328, 329, 330, 331, 332, 333, 334, 335, 398, 399, 400, 401, 402, 405, 406, 407, 408, 409, 410, 411, 412, 413, 414, 415, 416, 417, 478, 479, 480, 481, 482, 486, 487, 488, 489, 490, 491, 492, 493, 494, 495, 496, 497, 498, 499, 558, 559, 560, 561, 562, 567, 568, 569, 570, 571, 572, 573, 574, 575, 576, 577, 578, 579, 580, 638, 639, 640, 641, 642, 648, 649, 650, 651, 652, 653, 654, 655, 656, 657, 658, 659, 660, 661, 662, 718, 719, 720, 721, 722, 729, 730, 731, 732, 733, 734, 735, 736, 737, 738, 739, 740, 741, 742, 743, 744, 798, 799, 800, 801, 802, 810, 811, 812, 813, 814, 815, 816, 817, 818, 819, 820, 821, 822, 823, 824, 825, 826, 878, 879, 880, 881, 882, 892, 893, 894, 895, 896, 897, 898, 899, 900, 901, 902, 903, 904, 905, 906, 907, 908, 958, 959, 960, 961, 962, 974, 975, 976, 977, 978, 979, 980, 981, 982, 983, 984, 985, 986, 987, 988, 989, 1039, 1040, 1041, 1057, 1058, 1059, 1060, 1061, 1062, 1063, 1064, 1065, 1066, 1067, 1068, 1069, 1070, 1071, 1119, 1120, 1121, 1139, 1140, 1141, 1142, 1143, 1144, 1145, 1146, 1147, 1148, 1149, 1150, 1151, 1152, 1153, 1199, 1200, 1201, 1221, 1222, 1223, 1224, 1225, 1226, 1227, 1228, 1229, 1230, 1231, 1232, 1233, 1234, 1235, 1279, 1280, 1281, 1304, 1305, 1306, 1307, 1308, 1309, 1310, 1311, 1312, 1313, 1314, 1315, 1316, 1359, 1360, 1361, 1386, 1387, 1388, 1389, 1390, 1391, 1392, 1393, 1394, 1395, 1396, 1397, 1398, 1439, 1440, 1441, 1469, 1470, 1471, 1472, 1473, 1474, 1475, 1476, 1477, 1478, 1479, 1480, 1519, 1520, 1521, 1551, 1552, 1553, 1554, 1555, 1556, 1557, 1558, 1559, 1560, 1561, 1562, 1599, 1600, 1601, 1633, 1634, 1635, 1636, 1637, 1638, 1639, 1640, 1641, 1642, 1643, 1644, 1679, 1680, 1681, 1716, 1717, 1718, 1719, 1720, 1721, 1722, 1723, 1724, 1725, 1759, 1760, 1761, 1798, 1799, 1800, 1801, 1802, 1803, 1804, 1805, 1806, 1807, 1839, 1840, 1841, 1880, 1881, 1882, 1883, 1884, 1885, 1886, 1887, 1888, 1889, 1919, 1920, 1921, 1963, 1964, 1965, 1966, 1967, 1968, 1969, 1970, 1971, 1999, 2000, 2001, 2045, 2046, 2047, 2048, 2049, 2050, 2051, 2052, 2053, 2079, 2080, 2081, 2127, 2128, 2129, 2130, 2131, 2132, 2133, 2134, 2160, 2210, 2211, 2212, 2213, 2214, 2215, 2216, 2240, 2292, 2293, 2294, 2295, 2296, 2297, 2298, 2320, 2375, 2376, 2377, 2378, 2379, 2380, 2400, 2457, 2458, 2459, 2460, 2461, 2462, 2480, 2539, 2540, 2541, 2542, 2543, 2560, 2622, 2623, 2624, 2625, 2640, 2704, 2705, 2706, 2707, 2720, 2786, 2787, 2788, 2789, 2800, 2869, 2870, 2871, 2880, 2951, 2952, 2960, 3033, 3034, 3040, 3116, 3120, 3198, 3200, 3280, 3360, 3362, 3440, 3444, 3520, 3526, 3527, 3600, 3608, 3609, 3680, 3689, 3690, 3691, 3760, 3771, 3772, 3773, 3774, 3840, 3853, 3854, 3855, 3856, 3920, 3935, 3936, 3937, 3938, 4000, 4017, 4018, 4019, 4020, 4021, 4080, 4098, 4099, 4100, 4101, 4102, 4103, 4160, 4180, 4181, 4182, 4183, 4184, 4185, 4240, 4262, 4263, 4264, 4265, 4266, 4267, 4268, 4320, 4344, 4345, 4346, 4347, 4348, 4349, 4350, 4400, 4426, 4427, 4428, 4429, 4430, 4431, 4432, 4433, 4479, 4480, 4481, 4507, 4508, 4509, 4510, 4511, 4512, 4513, 4514, 4515, 4559, 4560, 4561, 4589, 4590, 4591, 4592, 4593, 4594, 4595, 4596, 4597, 4639, 4640, 4641, 4671, 4672, 4673, 4674, 4675, 4676, 4677, 4678, 4679, 4680, 4719, 4720, 4721, 4753, 4754, 4755, 4756, 4757, 4758, 4759, 4760, 4761, 4762, 4799, 4800, 4801, 4835, 4836, 4837, 4838, 4839, 4840, 4841, 4842, 4843, 4844, 4879, 4880, 4881, 4916, 4917, 4918, 4919, 4920, 4921, 4922, 4923, 4924, 4925, 4926, 4927, 4959, 4960, 4961, 4998, 4999, 5000, 5001, 5002, 5003, 5004, 5005, 5006, 5007, 5008, 5009, 5039, 5040, 5041, 5080, 5081, 5082, 5083, 5084, 5085, 5086, 5087, 5088, 5089, 5090, 5091, 5119, 5120, 5121, 5162, 5163, 5164, 5165, 5166, 5167, 5168, 5169, 5170, 5171, 5172, 5173, 5174, 5199, 5200, 5201, 5244, 5245, 5246, 5247, 5248, 5249, 5250, 5251, 5252, 5253, 5254, 5255, 5256, 5279, 5280, 5281, 5325, 5326, 5327, 5328, 5329, 5330, 5331, 5332, 5333, 5334, 5335, 5336, 5337, 5338, 5339, 5359, 5360, 5361, 5407, 5408, 5409, 5410, 5411, 5412, 5413, 5414, 5415, 5416, 5417, 5418, 5419, 5420, 5421, 5439, 5440, 5441, 5489, 5490, 5491, 5492, 5493, 5494, 5495, 5496, 5497, 5498, 5499, 5500, 5501, 5502, 5503, 5519, 5520, 5521, 5571, 5572, 5573, 5574, 5575, 5576, 5577, 5578, 5579, 5580, 5581, 5582, 5583, 5584, 5585, 5586, 5598, 5599, 5600, 5601, 5602, 5652, 5653, 5654, 5655, 5656, 5657, 5658, 5659, 5660, 5661, 5662, 5663, 5664, 5665, 5666, 5667, 5668, 5678, 5679, 5680, 5681, 5682, 5734, 5735, 5736, 5737, 5738, 5739, 5740, 5741, 5742, 5743, 5744, 5745, 5746, 5747, 5748, 5749, 5750, 5758, 5759, 5760, 5761, 5762, 5816, 5817, 5818, 5819, 5820, 5821, 5822, 5823, 5824, 5825, 5826, 5827, 5828, 5829, 5830, 5831, 5838, 5839, 5840, 5841, 5842, 5898, 5899, 5900, 5901, 5902, 5903, 5904, 5905, 5906, 5907, 5908, 5909, 5910, 5911, 5912, 5918, 5919, 5920, 5921, 5922, 5980, 5981, 5982, 5983, 5984, 5985, 5986, 5987, 5988, 5989, 5990, 5991, 5992, 5993, 5998, 5999, 6000, 6001, 6002, 6061, 6062, 6063, 6064, 6065, 6066, 6067, 6068, 6069, 6070, 6071, 6072, 6073, 6074, 6078, 6079, 6080, 6081, 6082, 6143, 6144, 6145, 6146, 6147, 6148, 6149, 6150, 6151, 6152, 6153, 6154, 6155, 6158, 6159, 6160, 6161, 6162, 6225, 6226, 6227, 6228, 6229, 6230, 6231, 6232, 6233, 6234, 6235, 6236, 6238, 6239, 6240, 6241, 6242, 6307, 6308, 6309, 6310, 6311, 6312, 6313, 6314, 6315, 6316, 6317, 6318, 6319, 6320, 6321, 6322, 6389, 6390, 6391, 6392, 6393, 6394, 6395, 6396, 6397, 6398, 6399, 6400, 6401, 6402, 6470, 6471, 6472, 6473, 6474, 6475, 6476, 6477, 6478, 6479, 6480, 6481, 6482, 6552, 6553, 6554, 6555, 6556, 6557, 6558, 6559, 6560]\n",
      "CPU times: user 156 ms, sys: 12 ms, total: 168 ms\n",
      "Wall time: 167 ms\n"
     ]
    }
   ],
   "source": [
    "%%time\n",
    "n_total = len(simulation.dataframe)\n",
    "n_train = len(simulation.dataframe[simulation.dataframe.type_of == \"train\"])\n",
    "n_val = len(simulation.dataframe[simulation.dataframe.type_of == \"val\"])\n",
    "n_test = len(simulation.dataframe[simulation.dataframe.type_of == \"test\"])\n",
    "n_train_hamiltonians = len(simulation.train_ids)\n",
    "n_val_hamiltonians = len(simulation.val_ids)\n",
    "n_test_hamiltonians = len(simulation.test_ids)\n",
    "n_total_hamiltonians = n_train_hamiltonians + n_val_hamiltonians + n_test_hamiltonians\n",
    "\n",
    "print(\"% train: \", n_train/n_total)\n",
    "print(\"% val: \",  n_val/n_total)\n",
    "print(\"% test: \", n_test/n_total)\n",
    "print(\"% train + val + test: \", (n_train+n_val+n_test)/n_total)\n",
    "print(\"\\n\")\n",
    "print(\"number of train hamiltonians: \", n_train_hamiltonians)\n",
    "print(\"number of val hamiltonians: \", n_val_hamiltonians)\n",
    "print(\"number of test hamiltonians: \", n_test_hamiltonians)\n",
    "print(\"total number of hamiltonians: \", n_total_hamiltonians)\n",
    "print(\"\\n\")\n",
    "print(\"train ids: \", simulation.train_ids)\n",
    "print(\"val ids: \", simulation.val_ids)\n",
    "print(\"test ids: \", simulation.test_ids)"
   ]
  },
  {
   "cell_type": "markdown",
   "metadata": {
    "papermill": {
     "duration": 0.03528,
     "end_time": "2020-07-09T09:38:49.928387",
     "exception": false,
     "start_time": "2020-07-09T09:38:49.893107",
     "status": "completed"
    },
    "tags": []
   },
   "source": [
    "#### Checking summaries"
   ]
  },
  {
   "cell_type": "code",
   "execution_count": 27,
   "metadata": {
    "execution": {
     "iopub.execute_input": "2020-07-09T09:38:50.000177Z",
     "iopub.status.busy": "2020-07-09T09:38:49.999868Z",
     "iopub.status.idle": "2020-07-09T09:38:50.018801Z",
     "shell.execute_reply": "2020-07-09T09:38:50.018534Z"
    },
    "papermill": {
     "duration": 0.055399,
     "end_time": "2020-07-09T09:38:50.018853",
     "exception": false,
     "start_time": "2020-07-09T09:38:49.963454",
     "status": "completed"
    },
    "tags": []
   },
   "outputs": [
    {
     "name": "stdout",
     "output_type": "stream",
     "text": [
      "length of ham_summary:  6561\n",
      "CPU times: user 102 µs, sys: 0 ns, total: 102 µs\n",
      "Wall time: 57 µs\n"
     ]
    },
    {
     "data": {
      "text/html": [
       "<div>\n",
       "<style scoped>\n",
       "    .dataframe tbody tr th:only-of-type {\n",
       "        vertical-align: middle;\n",
       "    }\n",
       "\n",
       "    .dataframe tbody tr th {\n",
       "        vertical-align: top;\n",
       "    }\n",
       "\n",
       "    .dataframe thead th {\n",
       "        text-align: right;\n",
       "    }\n",
       "</style>\n",
       "<table border=\"1\" class=\"dataframe\">\n",
       "  <thead>\n",
       "    <tr style=\"text-align: right;\">\n",
       "      <th></th>\n",
       "      <th>t1</th>\n",
       "      <th>t2</th>\n",
       "      <th>type_of</th>\n",
       "      <th>0</th>\n",
       "      <th>1</th>\n",
       "      <th>phase</th>\n",
       "      <th>pred_phase</th>\n",
       "    </tr>\n",
       "    <tr>\n",
       "      <th>id</th>\n",
       "      <th></th>\n",
       "      <th></th>\n",
       "      <th></th>\n",
       "      <th></th>\n",
       "      <th></th>\n",
       "      <th></th>\n",
       "      <th></th>\n",
       "    </tr>\n",
       "  </thead>\n",
       "  <tbody>\n",
       "    <tr>\n",
       "      <th>0</th>\n",
       "      <td>-2.0</td>\n",
       "      <td>-2.00</td>\n",
       "      <td>test</td>\n",
       "      <td>0.57</td>\n",
       "      <td>0.43</td>\n",
       "      <td>999</td>\n",
       "      <td>0</td>\n",
       "    </tr>\n",
       "    <tr>\n",
       "      <th>1</th>\n",
       "      <td>-2.0</td>\n",
       "      <td>-1.95</td>\n",
       "      <td>test</td>\n",
       "      <td>0.56</td>\n",
       "      <td>0.44</td>\n",
       "      <td>0</td>\n",
       "      <td>0</td>\n",
       "    </tr>\n",
       "    <tr>\n",
       "      <th>2</th>\n",
       "      <td>-2.0</td>\n",
       "      <td>-1.90</td>\n",
       "      <td>test</td>\n",
       "      <td>0.58</td>\n",
       "      <td>0.42</td>\n",
       "      <td>0</td>\n",
       "      <td>0</td>\n",
       "    </tr>\n",
       "    <tr>\n",
       "      <th>3</th>\n",
       "      <td>-2.0</td>\n",
       "      <td>-1.85</td>\n",
       "      <td>test</td>\n",
       "      <td>0.59</td>\n",
       "      <td>0.41</td>\n",
       "      <td>0</td>\n",
       "      <td>0</td>\n",
       "    </tr>\n",
       "    <tr>\n",
       "      <th>4</th>\n",
       "      <td>-2.0</td>\n",
       "      <td>-1.80</td>\n",
       "      <td>test</td>\n",
       "      <td>0.59</td>\n",
       "      <td>0.41</td>\n",
       "      <td>0</td>\n",
       "      <td>0</td>\n",
       "    </tr>\n",
       "    <tr>\n",
       "      <th>...</th>\n",
       "      <td>...</td>\n",
       "      <td>...</td>\n",
       "      <td>...</td>\n",
       "      <td>...</td>\n",
       "      <td>...</td>\n",
       "      <td>...</td>\n",
       "      <td>...</td>\n",
       "    </tr>\n",
       "    <tr>\n",
       "      <th>6556</th>\n",
       "      <td>2.0</td>\n",
       "      <td>1.80</td>\n",
       "      <td>test</td>\n",
       "      <td>0.62</td>\n",
       "      <td>0.38</td>\n",
       "      <td>0</td>\n",
       "      <td>0</td>\n",
       "    </tr>\n",
       "    <tr>\n",
       "      <th>6557</th>\n",
       "      <td>2.0</td>\n",
       "      <td>1.85</td>\n",
       "      <td>test</td>\n",
       "      <td>0.57</td>\n",
       "      <td>0.43</td>\n",
       "      <td>0</td>\n",
       "      <td>0</td>\n",
       "    </tr>\n",
       "    <tr>\n",
       "      <th>6558</th>\n",
       "      <td>2.0</td>\n",
       "      <td>1.90</td>\n",
       "      <td>test</td>\n",
       "      <td>0.58</td>\n",
       "      <td>0.42</td>\n",
       "      <td>0</td>\n",
       "      <td>0</td>\n",
       "    </tr>\n",
       "    <tr>\n",
       "      <th>6559</th>\n",
       "      <td>2.0</td>\n",
       "      <td>1.95</td>\n",
       "      <td>test</td>\n",
       "      <td>0.58</td>\n",
       "      <td>0.42</td>\n",
       "      <td>0</td>\n",
       "      <td>0</td>\n",
       "    </tr>\n",
       "    <tr>\n",
       "      <th>6560</th>\n",
       "      <td>2.0</td>\n",
       "      <td>2.00</td>\n",
       "      <td>test</td>\n",
       "      <td>0.53</td>\n",
       "      <td>0.47</td>\n",
       "      <td>999</td>\n",
       "      <td>0</td>\n",
       "    </tr>\n",
       "  </tbody>\n",
       "</table>\n",
       "<p>6561 rows × 7 columns</p>\n",
       "</div>"
      ],
      "text/plain": [
       "       t1    t2 type_of     0     1  phase  pred_phase\n",
       "id                                                    \n",
       "0    -2.0 -2.00    test  0.57  0.43    999           0\n",
       "1    -2.0 -1.95    test  0.56  0.44      0           0\n",
       "2    -2.0 -1.90    test  0.58  0.42      0           0\n",
       "3    -2.0 -1.85    test  0.59  0.41      0           0\n",
       "4    -2.0 -1.80    test  0.59  0.41      0           0\n",
       "...   ...   ...     ...   ...   ...    ...         ...\n",
       "6556  2.0  1.80    test  0.62  0.38      0           0\n",
       "6557  2.0  1.85    test  0.57  0.43      0           0\n",
       "6558  2.0  1.90    test  0.58  0.42      0           0\n",
       "6559  2.0  1.95    test  0.58  0.42      0           0\n",
       "6560  2.0  2.00    test  0.53  0.47    999           0\n",
       "\n",
       "[6561 rows x 7 columns]"
      ]
     },
     "execution_count": 27,
     "metadata": {},
     "output_type": "execute_result"
    }
   ],
   "source": [
    "%%time\n",
    "ham_summary = simulation.hamiltonian_summary\n",
    "print(\"length of ham_summary: \", len(ham_summary))\n",
    "ham_summary"
   ]
  },
  {
   "cell_type": "code",
   "execution_count": 28,
   "metadata": {
    "execution": {
     "iopub.execute_input": "2020-07-09T09:38:50.092376Z",
     "iopub.status.busy": "2020-07-09T09:38:50.092070Z",
     "iopub.status.idle": "2020-07-09T09:38:50.119188Z",
     "shell.execute_reply": "2020-07-09T09:38:50.118872Z"
    },
    "papermill": {
     "duration": 0.064414,
     "end_time": "2020-07-09T09:38:50.119240",
     "exception": false,
     "start_time": "2020-07-09T09:38:50.054826",
     "status": "completed"
    },
    "tags": []
   },
   "outputs": [
    {
     "data": {
      "text/html": [
       "<div>\n",
       "<style scoped>\n",
       "    .dataframe tbody tr th:only-of-type {\n",
       "        vertical-align: middle;\n",
       "    }\n",
       "\n",
       "    .dataframe tbody tr th {\n",
       "        vertical-align: top;\n",
       "    }\n",
       "\n",
       "    .dataframe thead th {\n",
       "        text-align: right;\n",
       "    }\n",
       "</style>\n",
       "<table border=\"1\" class=\"dataframe\">\n",
       "  <thead>\n",
       "    <tr style=\"text-align: right;\">\n",
       "      <th></th>\n",
       "      <th>t1</th>\n",
       "      <th>t2</th>\n",
       "      <th>0</th>\n",
       "      <th>1</th>\n",
       "      <th>phase</th>\n",
       "      <th>pred_phase</th>\n",
       "    </tr>\n",
       "  </thead>\n",
       "  <tbody>\n",
       "    <tr>\n",
       "      <th>count</th>\n",
       "      <td>6561.000000</td>\n",
       "      <td>6.561000e+03</td>\n",
       "      <td>6561.000000</td>\n",
       "      <td>6561.000000</td>\n",
       "      <td>6561.000000</td>\n",
       "      <td>6561.000000</td>\n",
       "    </tr>\n",
       "    <tr>\n",
       "      <th>mean</th>\n",
       "      <td>0.000000</td>\n",
       "      <td>-4.331917e-18</td>\n",
       "      <td>0.534114</td>\n",
       "      <td>0.465886</td>\n",
       "      <td>25.002134</td>\n",
       "      <td>0.488035</td>\n",
       "    </tr>\n",
       "    <tr>\n",
       "      <th>std</th>\n",
       "      <td>1.169134</td>\n",
       "      <td>1.169134e+00</td>\n",
       "      <td>0.286090</td>\n",
       "      <td>0.286090</td>\n",
       "      <td>154.495657</td>\n",
       "      <td>0.499895</td>\n",
       "    </tr>\n",
       "    <tr>\n",
       "      <th>min</th>\n",
       "      <td>-2.000000</td>\n",
       "      <td>-2.000000e+00</td>\n",
       "      <td>0.000000</td>\n",
       "      <td>0.000000</td>\n",
       "      <td>0.000000</td>\n",
       "      <td>0.000000</td>\n",
       "    </tr>\n",
       "    <tr>\n",
       "      <th>25%</th>\n",
       "      <td>-1.000000</td>\n",
       "      <td>-1.000000e+00</td>\n",
       "      <td>0.270000</td>\n",
       "      <td>0.180000</td>\n",
       "      <td>0.000000</td>\n",
       "      <td>0.000000</td>\n",
       "    </tr>\n",
       "    <tr>\n",
       "      <th>50%</th>\n",
       "      <td>0.000000</td>\n",
       "      <td>0.000000e+00</td>\n",
       "      <td>0.520000</td>\n",
       "      <td>0.480000</td>\n",
       "      <td>1.000000</td>\n",
       "      <td>0.000000</td>\n",
       "    </tr>\n",
       "    <tr>\n",
       "      <th>75%</th>\n",
       "      <td>1.000000</td>\n",
       "      <td>1.000000e+00</td>\n",
       "      <td>0.820000</td>\n",
       "      <td>0.730000</td>\n",
       "      <td>1.000000</td>\n",
       "      <td>1.000000</td>\n",
       "    </tr>\n",
       "    <tr>\n",
       "      <th>max</th>\n",
       "      <td>2.000000</td>\n",
       "      <td>2.000000e+00</td>\n",
       "      <td>1.000000</td>\n",
       "      <td>1.000000</td>\n",
       "      <td>999.000000</td>\n",
       "      <td>1.000000</td>\n",
       "    </tr>\n",
       "  </tbody>\n",
       "</table>\n",
       "</div>"
      ],
      "text/plain": [
       "                t1            t2            0            1        phase  \\\n",
       "count  6561.000000  6.561000e+03  6561.000000  6561.000000  6561.000000   \n",
       "mean      0.000000 -4.331917e-18     0.534114     0.465886    25.002134   \n",
       "std       1.169134  1.169134e+00     0.286090     0.286090   154.495657   \n",
       "min      -2.000000 -2.000000e+00     0.000000     0.000000     0.000000   \n",
       "25%      -1.000000 -1.000000e+00     0.270000     0.180000     0.000000   \n",
       "50%       0.000000  0.000000e+00     0.520000     0.480000     1.000000   \n",
       "75%       1.000000  1.000000e+00     0.820000     0.730000     1.000000   \n",
       "max       2.000000  2.000000e+00     1.000000     1.000000   999.000000   \n",
       "\n",
       "        pred_phase  \n",
       "count  6561.000000  \n",
       "mean      0.488035  \n",
       "std       0.499895  \n",
       "min       0.000000  \n",
       "25%       0.000000  \n",
       "50%       0.000000  \n",
       "75%       1.000000  \n",
       "max       1.000000  "
      ]
     },
     "execution_count": 28,
     "metadata": {},
     "output_type": "execute_result"
    }
   ],
   "source": [
    "ham_summary.describe()"
   ]
  },
  {
   "cell_type": "code",
   "execution_count": 29,
   "metadata": {
    "execution": {
     "iopub.execute_input": "2020-07-09T09:38:50.196188Z",
     "iopub.status.busy": "2020-07-09T09:38:50.195875Z",
     "iopub.status.idle": "2020-07-09T09:38:50.210226Z",
     "shell.execute_reply": "2020-07-09T09:38:50.210475Z"
    },
    "papermill": {
     "duration": 0.054852,
     "end_time": "2020-07-09T09:38:50.210541",
     "exception": false,
     "start_time": "2020-07-09T09:38:50.155689",
     "status": "completed"
    },
    "tags": []
   },
   "outputs": [
    {
     "name": "stdout",
     "output_type": "stream",
     "text": [
      "length of ham_summary:  656100\n"
     ]
    },
    {
     "data": {
      "text/html": [
       "<div>\n",
       "<style scoped>\n",
       "    .dataframe tbody tr th:only-of-type {\n",
       "        vertical-align: middle;\n",
       "    }\n",
       "\n",
       "    .dataframe tbody tr th {\n",
       "        vertical-align: top;\n",
       "    }\n",
       "\n",
       "    .dataframe thead th {\n",
       "        text-align: right;\n",
       "    }\n",
       "</style>\n",
       "<table border=\"1\" class=\"dataframe\">\n",
       "  <thead>\n",
       "    <tr style=\"text-align: right;\">\n",
       "      <th></th>\n",
       "      <th>id</th>\n",
       "      <th>phase</th>\n",
       "      <th>pred_phase</th>\n",
       "      <th>type_of</th>\n",
       "    </tr>\n",
       "  </thead>\n",
       "  <tbody>\n",
       "    <tr>\n",
       "      <th>0</th>\n",
       "      <td>0</td>\n",
       "      <td>999</td>\n",
       "      <td>0</td>\n",
       "      <td>test</td>\n",
       "    </tr>\n",
       "    <tr>\n",
       "      <th>1</th>\n",
       "      <td>0</td>\n",
       "      <td>999</td>\n",
       "      <td>0</td>\n",
       "      <td>test</td>\n",
       "    </tr>\n",
       "    <tr>\n",
       "      <th>2</th>\n",
       "      <td>0</td>\n",
       "      <td>999</td>\n",
       "      <td>0</td>\n",
       "      <td>test</td>\n",
       "    </tr>\n",
       "    <tr>\n",
       "      <th>3</th>\n",
       "      <td>0</td>\n",
       "      <td>999</td>\n",
       "      <td>0</td>\n",
       "      <td>test</td>\n",
       "    </tr>\n",
       "    <tr>\n",
       "      <th>4</th>\n",
       "      <td>0</td>\n",
       "      <td>999</td>\n",
       "      <td>0</td>\n",
       "      <td>test</td>\n",
       "    </tr>\n",
       "    <tr>\n",
       "      <th>...</th>\n",
       "      <td>...</td>\n",
       "      <td>...</td>\n",
       "      <td>...</td>\n",
       "      <td>...</td>\n",
       "    </tr>\n",
       "    <tr>\n",
       "      <th>656095</th>\n",
       "      <td>6560</td>\n",
       "      <td>999</td>\n",
       "      <td>1</td>\n",
       "      <td>test</td>\n",
       "    </tr>\n",
       "    <tr>\n",
       "      <th>656096</th>\n",
       "      <td>6560</td>\n",
       "      <td>999</td>\n",
       "      <td>0</td>\n",
       "      <td>test</td>\n",
       "    </tr>\n",
       "    <tr>\n",
       "      <th>656097</th>\n",
       "      <td>6560</td>\n",
       "      <td>999</td>\n",
       "      <td>0</td>\n",
       "      <td>test</td>\n",
       "    </tr>\n",
       "    <tr>\n",
       "      <th>656098</th>\n",
       "      <td>6560</td>\n",
       "      <td>999</td>\n",
       "      <td>0</td>\n",
       "      <td>test</td>\n",
       "    </tr>\n",
       "    <tr>\n",
       "      <th>656099</th>\n",
       "      <td>6560</td>\n",
       "      <td>999</td>\n",
       "      <td>1</td>\n",
       "      <td>test</td>\n",
       "    </tr>\n",
       "  </tbody>\n",
       "</table>\n",
       "<p>656100 rows × 4 columns</p>\n",
       "</div>"
      ],
      "text/plain": [
       "          id  phase  pred_phase type_of\n",
       "0          0    999           0    test\n",
       "1          0    999           0    test\n",
       "2          0    999           0    test\n",
       "3          0    999           0    test\n",
       "4          0    999           0    test\n",
       "...      ...    ...         ...     ...\n",
       "656095  6560    999           1    test\n",
       "656096  6560    999           0    test\n",
       "656097  6560    999           0    test\n",
       "656098  6560    999           0    test\n",
       "656099  6560    999           1    test\n",
       "\n",
       "[656100 rows x 4 columns]"
      ]
     },
     "execution_count": 29,
     "metadata": {},
     "output_type": "execute_result"
    }
   ],
   "source": [
    "eigen_summary = simulation.eigenvector_summary\n",
    "print(\"length of ham_summary: \", len(eigen_summary))\n",
    "eigen_summary"
   ]
  },
  {
   "cell_type": "markdown",
   "metadata": {
    "papermill": {
     "duration": 0.03576,
     "end_time": "2020-07-09T09:38:50.282128",
     "exception": false,
     "start_time": "2020-07-09T09:38:50.246368",
     "status": "completed"
    },
    "tags": []
   },
   "source": [
    "#### Checking accuracies"
   ]
  },
  {
   "cell_type": "code",
   "execution_count": 30,
   "metadata": {
    "execution": {
     "iopub.execute_input": "2020-07-09T09:38:50.360299Z",
     "iopub.status.busy": "2020-07-09T09:38:50.359991Z",
     "iopub.status.idle": "2020-07-09T09:38:50.370559Z",
     "shell.execute_reply": "2020-07-09T09:38:50.370289Z"
    },
    "papermill": {
     "duration": 0.051664,
     "end_time": "2020-07-09T09:38:50.370612",
     "exception": false,
     "start_time": "2020-07-09T09:38:50.318948",
     "status": "completed"
    },
    "tags": []
   },
   "outputs": [
    {
     "data": {
      "text/plain": [
       "{'eigenvector_train': 0.9740467625899281,\n",
       " 'eigenvector_val': 0.775074,\n",
       " 'eigenvector_test': 0.5717061611374408,\n",
       " 'hamiltonian_train': 0.987410071942446,\n",
       " 'hamiltonian_val': 0.9854,\n",
       " 'hamiltonian_test': 0.8222748815165877}"
      ]
     },
     "execution_count": 30,
     "metadata": {},
     "output_type": "execute_result"
    }
   ],
   "source": [
    "simulation.accuracy"
   ]
  },
  {
   "cell_type": "markdown",
   "metadata": {
    "papermill": {
     "duration": 0.035732,
     "end_time": "2020-07-09T09:38:50.442425",
     "exception": false,
     "start_time": "2020-07-09T09:38:50.406693",
     "status": "completed"
    },
    "tags": []
   },
   "source": [
    "#### Checking data stored in  memory"
   ]
  },
  {
   "cell_type": "code",
   "execution_count": 31,
   "metadata": {
    "execution": {
     "iopub.execute_input": "2020-07-09T09:38:50.517607Z",
     "iopub.status.busy": "2020-07-09T09:38:50.517300Z",
     "iopub.status.idle": "2020-07-09T09:38:50.527681Z",
     "shell.execute_reply": "2020-07-09T09:38:50.527411Z"
    },
    "papermill": {
     "duration": 0.048659,
     "end_time": "2020-07-09T09:38:50.527731",
     "exception": false,
     "start_time": "2020-07-09T09:38:50.479072",
     "status": "completed"
    },
    "tags": []
   },
   "outputs": [
    {
     "data": {
      "text/plain": [
       "[]"
      ]
     },
     "execution_count": 31,
     "metadata": {},
     "output_type": "execute_result"
    }
   ],
   "source": [
    "ham_summary_list = simulation.hamiltonian_summary_list\n",
    "ham_summary_list"
   ]
  },
  {
   "cell_type": "code",
   "execution_count": 32,
   "metadata": {
    "execution": {
     "iopub.execute_input": "2020-07-09T09:38:50.602196Z",
     "iopub.status.busy": "2020-07-09T09:38:50.601889Z",
     "iopub.status.idle": "2020-07-09T09:38:50.611690Z",
     "shell.execute_reply": "2020-07-09T09:38:50.611985Z"
    },
    "papermill": {
     "duration": 0.048206,
     "end_time": "2020-07-09T09:38:50.612048",
     "exception": false,
     "start_time": "2020-07-09T09:38:50.563842",
     "status": "completed"
    },
    "tags": []
   },
   "outputs": [
    {
     "data": {
      "text/plain": [
       "[]"
      ]
     },
     "execution_count": 32,
     "metadata": {},
     "output_type": "execute_result"
    }
   ],
   "source": [
    "eigen_summary_list = simulation.eigenvector_summary_list\n",
    "eigen_summary_list"
   ]
  },
  {
   "cell_type": "code",
   "execution_count": 33,
   "metadata": {
    "execution": {
     "iopub.execute_input": "2020-07-09T09:38:50.688647Z",
     "iopub.status.busy": "2020-07-09T09:38:50.688329Z",
     "iopub.status.idle": "2020-07-09T09:38:50.698355Z",
     "shell.execute_reply": "2020-07-09T09:38:50.698654Z"
    },
    "papermill": {
     "duration": 0.049354,
     "end_time": "2020-07-09T09:38:50.698718",
     "exception": false,
     "start_time": "2020-07-09T09:38:50.649364",
     "status": "completed"
    },
    "tags": []
   },
   "outputs": [
    {
     "data": {
      "text/plain": [
       "{'eigenvector_train': [],\n",
       " 'eigenvector_val': [],\n",
       " 'eigenvector_test': [],\n",
       " 'hamiltonian_train': [],\n",
       " 'hamiltonian_val': [],\n",
       " 'hamiltonian_test': []}"
      ]
     },
     "execution_count": 33,
     "metadata": {},
     "output_type": "execute_result"
    }
   ],
   "source": [
    "accuracy_list = simulation.accuracy_list\n",
    "accuracy_list"
   ]
  },
  {
   "cell_type": "code",
   "execution_count": null,
   "metadata": {
    "papermill": {
     "duration": 0.036806,
     "end_time": "2020-07-09T09:38:50.772162",
     "exception": false,
     "start_time": "2020-07-09T09:38:50.735356",
     "status": "completed"
    },
    "tags": []
   },
   "outputs": [],
   "source": []
  },
  {
   "cell_type": "code",
   "execution_count": null,
   "metadata": {
    "papermill": {
     "duration": 0.036967,
     "end_time": "2020-07-09T09:38:50.846293",
     "exception": false,
     "start_time": "2020-07-09T09:38:50.809326",
     "status": "completed"
    },
    "tags": []
   },
   "outputs": [],
   "source": []
  },
  {
   "cell_type": "code",
   "execution_count": 34,
   "metadata": {
    "execution": {
     "iopub.execute_input": "2020-07-09T09:38:50.919973Z",
     "iopub.status.busy": "2020-07-09T09:38:50.919659Z",
     "iopub.status.idle": "2020-07-09T09:38:50.929515Z",
     "shell.execute_reply": "2020-07-09T09:38:50.929768Z"
    },
    "papermill": {
     "duration": 0.047657,
     "end_time": "2020-07-09T09:38:50.929837",
     "exception": false,
     "start_time": "2020-07-09T09:38:50.882180",
     "status": "completed"
    },
    "tags": []
   },
   "outputs": [],
   "source": [
    "#simulation.fourier_matrix"
   ]
  },
  {
   "cell_type": "code",
   "execution_count": 35,
   "metadata": {
    "execution": {
     "iopub.execute_input": "2020-07-09T09:38:51.009328Z",
     "iopub.status.busy": "2020-07-09T09:38:51.009020Z",
     "iopub.status.idle": "2020-07-09T09:38:51.018579Z",
     "shell.execute_reply": "2020-07-09T09:38:51.018258Z"
    },
    "papermill": {
     "duration": 0.051077,
     "end_time": "2020-07-09T09:38:51.018631",
     "exception": false,
     "start_time": "2020-07-09T09:38:50.967554",
     "status": "completed"
    },
    "tags": []
   },
   "outputs": [],
   "source": [
    "#simulation.fourier_matrix.shape"
   ]
  },
  {
   "cell_type": "code",
   "execution_count": 36,
   "metadata": {
    "execution": {
     "iopub.execute_input": "2020-07-09T09:38:51.094070Z",
     "iopub.status.busy": "2020-07-09T09:38:51.093762Z",
     "iopub.status.idle": "2020-07-09T09:38:51.102908Z",
     "shell.execute_reply": "2020-07-09T09:38:51.103230Z"
    },
    "papermill": {
     "duration": 0.047973,
     "end_time": "2020-07-09T09:38:51.103299",
     "exception": false,
     "start_time": "2020-07-09T09:38:51.055326",
     "status": "completed"
    },
    "tags": []
   },
   "outputs": [],
   "source": [
    "#simulation.fourier_matrix[:,0]"
   ]
  },
  {
   "cell_type": "code",
   "execution_count": 37,
   "metadata": {
    "execution": {
     "iopub.execute_input": "2020-07-09T09:38:51.183705Z",
     "iopub.status.busy": "2020-07-09T09:38:51.183396Z",
     "iopub.status.idle": "2020-07-09T09:38:51.220019Z",
     "shell.execute_reply": "2020-07-09T09:38:51.220277Z"
    },
    "papermill": {
     "duration": 0.078196,
     "end_time": "2020-07-09T09:38:51.220361",
     "exception": false,
     "start_time": "2020-07-09T09:38:51.142165",
     "status": "completed"
    },
    "tags": []
   },
   "outputs": [],
   "source": [
    "#simulation.fourier_matrix[:,1]"
   ]
  },
  {
   "cell_type": "code",
   "execution_count": 38,
   "metadata": {
    "execution": {
     "iopub.execute_input": "2020-07-09T09:38:51.297314Z",
     "iopub.status.busy": "2020-07-09T09:38:51.297006Z",
     "iopub.status.idle": "2020-07-09T09:38:51.306501Z",
     "shell.execute_reply": "2020-07-09T09:38:51.306224Z"
    },
    "papermill": {
     "duration": 0.047838,
     "end_time": "2020-07-09T09:38:51.306554",
     "exception": false,
     "start_time": "2020-07-09T09:38:51.258716",
     "status": "completed"
    },
    "tags": []
   },
   "outputs": [],
   "source": [
    "#np.exp(-1j*2*np.pi*3/100)"
   ]
  },
  {
   "cell_type": "code",
   "execution_count": 39,
   "metadata": {
    "execution": {
     "iopub.execute_input": "2020-07-09T09:38:51.386038Z",
     "iopub.status.busy": "2020-07-09T09:38:51.385725Z",
     "iopub.status.idle": "2020-07-09T09:38:51.395348Z",
     "shell.execute_reply": "2020-07-09T09:38:51.395651Z"
    },
    "papermill": {
     "duration": 0.05134,
     "end_time": "2020-07-09T09:38:51.395717",
     "exception": false,
     "start_time": "2020-07-09T09:38:51.344377",
     "status": "completed"
    },
    "tags": []
   },
   "outputs": [],
   "source": [
    "#for i in range(1,50):\n",
    "#    print(\"\\n\")\n",
    "#    print(i)\n",
    "#    print(np.sum((np.real(simulation.fourier_matrix[:,i]) - np.real(simulation.fourier_matrix[:,-i]))**2))\n",
    "#    print(np.sum((np.imag(simulation.fourier_matrix[:,i])+ np.imag(simulation.fourier_matrix[:,-i]))**2))"
   ]
  },
  {
   "cell_type": "code",
   "execution_count": 40,
   "metadata": {
    "execution": {
     "iopub.execute_input": "2020-07-09T09:38:51.471100Z",
     "iopub.status.busy": "2020-07-09T09:38:51.470794Z",
     "iopub.status.idle": "2020-07-09T09:38:51.511627Z",
     "shell.execute_reply": "2020-07-09T09:38:51.511237Z"
    },
    "papermill": {
     "duration": 0.079062,
     "end_time": "2020-07-09T09:38:51.511685",
     "exception": false,
     "start_time": "2020-07-09T09:38:51.432623",
     "status": "completed"
    },
    "tags": []
   },
   "outputs": [],
   "source": [
    "#print(simulation.fourier_matrix[:,0])"
   ]
  },
  {
   "cell_type": "code",
   "execution_count": 41,
   "metadata": {
    "execution": {
     "iopub.execute_input": "2020-07-09T09:38:51.592990Z",
     "iopub.status.busy": "2020-07-09T09:38:51.592656Z",
     "iopub.status.idle": "2020-07-09T09:38:51.602240Z",
     "shell.execute_reply": "2020-07-09T09:38:51.602552Z"
    },
    "papermill": {
     "duration": 0.04945,
     "end_time": "2020-07-09T09:38:51.602620",
     "exception": false,
     "start_time": "2020-07-09T09:38:51.553170",
     "status": "completed"
    },
    "tags": []
   },
   "outputs": [],
   "source": [
    "#print(simulation.fourier_matrix[:,50])"
   ]
  },
  {
   "cell_type": "code",
   "execution_count": null,
   "metadata": {
    "papermill": {
     "duration": 0.036656,
     "end_time": "2020-07-09T09:38:51.676181",
     "exception": false,
     "start_time": "2020-07-09T09:38:51.639525",
     "status": "completed"
    },
    "tags": []
   },
   "outputs": [],
   "source": []
  }
 ],
 "metadata": {
  "celltoolbar": "Tags",
  "kernelspec": {
   "display_name": "ml_top_phases",
   "language": "python",
   "name": "ml_top_phases"
  },
  "language_info": {
   "codemirror_mode": {
    "name": "ipython",
    "version": 3
   },
   "file_extension": ".py",
   "mimetype": "text/x-python",
   "name": "python",
   "nbconvert_exporter": "python",
   "pygments_lexer": "ipython3",
   "version": "3.6.10"
  },
  "papermill": {
   "duration": 352.092471,
   "end_time": "2020-07-09T09:38:52.754750",
   "environment_variables": {},
   "exception": null,
   "input_path": "0_simulation_template.ipynb",
   "output_path": "zzz_simulation_output_ssh1_6th_scenario_100_6561.ipynb",
   "parameters": {
    "allowed_windings": [
     0,
     1
    ],
    "csv_path": "/home/rio/ssh_csvs/ssh1/periodic_100_6561.csv",
    "features_to_use": null,
    "fillna": false,
    "fit_params": null,
    "fourier_features_to_use": [
     0,
     2,
     4,
     6,
     8,
     10,
     12,
     14,
     32,
     34,
     38,
     50
    ],
    "fourier_fillna": false,
    "fourier_mode": "dct",
    "fourier_normalize": false,
    "fourier_real": null,
    "model_kw": {
     "criterion": "entropy"
    },
    "model_name": "DecisionTreeClassifier",
    "n_experiments": 100,
    "normalize": false,
    "pred_params": null,
    "random_features": false,
    "random_state": 34896,
    "save_accuracy": true,
    "save_eigenvector": true,
    "save_hamiltonian": true,
    "save_models": true,
    "shuffle_features": false,
    "shuffle_rows": true,
    "simulation_dir": "/home/rio/ssh_simulations/ssh1/periodic_6th_scenario_100_6561",
    "start_n": 0,
    "store_in_lists": false,
    "val_split": 0.9
   },
   "start_time": "2020-07-09T09:33:00.662279",
   "version": "2.1.0"
  }
 },
 "nbformat": 4,
 "nbformat_minor": 2
}