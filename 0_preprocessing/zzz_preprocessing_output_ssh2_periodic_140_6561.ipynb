{
 "cells": [
  {
   "cell_type": "markdown",
   "metadata": {
    "papermill": {
     "duration": 0.034532,
     "end_time": "2020-05-01T03:01:50.802374",
     "exception": false,
     "start_time": "2020-05-01T03:01:50.767842",
     "status": "completed"
    },
    "tags": []
   },
   "source": [
    "# Generate csv files \n"
   ]
  },
  {
   "cell_type": "markdown",
   "metadata": {
    "papermill": {
     "duration": 0.00942,
     "end_time": "2020-05-01T03:01:50.829762",
     "exception": false,
     "start_time": "2020-05-01T03:01:50.820342",
     "status": "completed"
    },
    "tags": []
   },
   "source": [
    "This notebook generates .csv files from a directory containing .dat files with Hamiltonian data. Each .dat file is assumed to be named as `\"H_t1_t2_winding.dat\"`.  "
   ]
  },
  {
   "cell_type": "code",
   "execution_count": 1,
   "metadata": {
    "execution": {
     "iopub.execute_input": "2020-05-01T03:01:50.847493Z",
     "iopub.status.busy": "2020-05-01T03:01:50.847157Z",
     "iopub.status.idle": "2020-05-01T03:01:51.137533Z",
     "shell.execute_reply": "2020-05-01T03:01:51.137178Z"
    },
    "papermill": {
     "duration": 0.299791,
     "end_time": "2020-05-01T03:01:51.137592",
     "exception": false,
     "start_time": "2020-05-01T03:01:50.837801",
     "status": "completed"
    },
    "tags": []
   },
   "outputs": [],
   "source": [
    "%load_ext autoreload\n",
    "%autoreload 2\n",
    "from preprocessing import *"
   ]
  },
  {
   "cell_type": "markdown",
   "metadata": {
    "papermill": {
     "duration": 0.005881,
     "end_time": "2020-05-01T03:01:51.150286",
     "exception": false,
     "start_time": "2020-05-01T03:01:51.144405",
     "status": "completed"
    },
    "tags": []
   },
   "source": [
    "### Set the parameters below carefully"
   ]
  },
  {
   "cell_type": "code",
   "execution_count": 2,
   "metadata": {
    "execution": {
     "iopub.execute_input": "2020-05-01T03:01:51.164733Z",
     "iopub.status.busy": "2020-05-01T03:01:51.164416Z",
     "iopub.status.idle": "2020-05-01T03:01:51.172859Z",
     "shell.execute_reply": "2020-05-01T03:01:51.172539Z"
    },
    "papermill": {
     "duration": 0.016196,
     "end_time": "2020-05-01T03:01:51.172910",
     "exception": false,
     "start_time": "2020-05-01T03:01:51.156714",
     "status": "completed"
    },
    "tags": [
     "parameters"
    ]
   },
   "outputs": [
    {
     "name": "stdout",
     "output_type": "stream",
     "text": [
      "CPU times: user 2 µs, sys: 1e+03 ns, total: 3 µs\n",
      "Wall time: 4.53 µs\n"
     ]
    }
   ],
   "source": [
    "%%time\n",
    "grid_folder = SSH1_PERIODIC_100_6561_GRID_DIR\n",
    "allowed_windings = [0,1]\n",
    "epsilon = 0.01\n",
    "csv_dir = SSH1_CSVS_DIR \n",
    "csv_name = SSH1_PERIODIC_100_6561_CSV\n"
   ]
  },
  {
   "cell_type": "code",
   "execution_count": 3,
   "metadata": {
    "execution": {
     "iopub.execute_input": "2020-05-01T03:01:51.201143Z",
     "iopub.status.busy": "2020-05-01T03:01:51.199236Z",
     "iopub.status.idle": "2020-05-01T03:01:51.271449Z",
     "shell.execute_reply": "2020-05-01T03:01:51.273159Z"
    },
    "papermill": {
     "duration": 0.094501,
     "end_time": "2020-05-01T03:01:51.273453",
     "exception": false,
     "start_time": "2020-05-01T03:01:51.178952",
     "status": "completed"
    },
    "tags": [
     "injected-parameters"
    ]
   },
   "outputs": [],
   "source": [
    "# Parameters\n",
    "allowed_windings = [-1, 0, 1, 2]\n",
    "epsilon = 0.01\n",
    "csv_dir = \"/home/rio/ssh_csvs/ssh2\"\n",
    "grid_folder = \"/home/rio/ssh_grids/ssh2/periodic_140_6561\"\n",
    "csv_name = \"/home/rio/ssh_csvs/ssh2/periodic_140_6561.csv\"\n"
   ]
  },
  {
   "cell_type": "code",
   "execution_count": 4,
   "metadata": {
    "execution": {
     "iopub.execute_input": "2020-05-01T03:01:51.319637Z",
     "iopub.status.busy": "2020-05-01T03:01:51.318861Z",
     "iopub.status.idle": "2020-05-01T03:05:17.960221Z",
     "shell.execute_reply": "2020-05-01T03:05:17.960538Z"
    },
    "papermill": {
     "duration": 206.657294,
     "end_time": "2020-05-01T03:05:17.960603",
     "exception": false,
     "start_time": "2020-05-01T03:01:51.303309",
     "status": "completed"
    },
    "tags": []
   },
   "outputs": [
    {
     "name": "stderr",
     "output_type": "stream",
     "text": [
      "\r",
      "loading hamiltonians:   0%|          | 0/6561 [00:00<?, ?it/s]"
     ]
    },
    {
     "name": "stderr",
     "output_type": "stream",
     "text": [
      "\r",
      "loading hamiltonians:   0%|          | 2/6561 [00:00<05:31, 19.80it/s]"
     ]
    },
    {
     "name": "stderr",
     "output_type": "stream",
     "text": [
      "\r",
      "loading hamiltonians:   0%|          | 8/6561 [00:00<04:24, 24.74it/s]"
     ]
    },
    {
     "name": "stderr",
     "output_type": "stream",
     "text": [
      "\r",
      "loading hamiltonians:   0%|          | 15/6561 [00:00<03:33, 30.60it/s]"
     ]
    },
    {
     "name": "stderr",
     "output_type": "stream",
     "text": [
      "\r",
      "loading hamiltonians:   0%|          | 23/6561 [00:00<02:56, 37.05it/s]"
     ]
    },
    {
     "name": "stderr",
     "output_type": "stream",
     "text": [
      "\r",
      "loading hamiltonians:   0%|          | 29/6561 [00:00<02:36, 41.69it/s]"
     ]
    },
    {
     "name": "stderr",
     "output_type": "stream",
     "text": [
      "\r",
      "loading hamiltonians:   1%|          | 38/6561 [00:00<02:11, 49.46it/s]"
     ]
    },
    {
     "name": "stderr",
     "output_type": "stream",
     "text": [
      "\r",
      "loading hamiltonians:   1%|          | 45/6561 [00:00<02:00, 54.04it/s]"
     ]
    },
    {
     "name": "stderr",
     "output_type": "stream",
     "text": [
      "\r",
      "loading hamiltonians:   1%|          | 52/6561 [00:00<01:53, 57.50it/s]"
     ]
    },
    {
     "name": "stderr",
     "output_type": "stream",
     "text": [
      "\r",
      "loading hamiltonians:   1%|          | 61/6561 [00:00<01:42, 63.71it/s]"
     ]
    },
    {
     "name": "stderr",
     "output_type": "stream",
     "text": [
      "\r",
      "loading hamiltonians:   1%|          | 71/6561 [00:01<01:32, 70.01it/s]"
     ]
    },
    {
     "name": "stderr",
     "output_type": "stream",
     "text": [
      "\r",
      "loading hamiltonians:   1%|          | 79/6561 [00:01<01:34, 68.42it/s]"
     ]
    },
    {
     "name": "stderr",
     "output_type": "stream",
     "text": [
      "\r",
      "loading hamiltonians:   1%|▏         | 87/6561 [00:01<01:33, 69.52it/s]"
     ]
    },
    {
     "name": "stderr",
     "output_type": "stream",
     "text": [
      "\r",
      "loading hamiltonians:   1%|▏         | 95/6561 [00:01<01:36, 67.07it/s]"
     ]
    },
    {
     "name": "stderr",
     "output_type": "stream",
     "text": [
      "\r",
      "loading hamiltonians:   2%|▏         | 106/6561 [00:01<01:25, 75.39it/s]"
     ]
    },
    {
     "name": "stderr",
     "output_type": "stream",
     "text": [
      "\r",
      "loading hamiltonians:   2%|▏         | 115/6561 [00:01<01:21, 78.99it/s]"
     ]
    },
    {
     "name": "stderr",
     "output_type": "stream",
     "text": [
      "\r",
      "loading hamiltonians:   2%|▏         | 124/6561 [00:01<01:24, 76.24it/s]"
     ]
    },
    {
     "name": "stderr",
     "output_type": "stream",
     "text": [
      "\r",
      "loading hamiltonians:   2%|▏         | 133/6561 [00:01<01:21, 78.91it/s]"
     ]
    },
    {
     "name": "stderr",
     "output_type": "stream",
     "text": [
      "\r",
      "loading hamiltonians:   2%|▏         | 144/6561 [00:01<01:16, 84.01it/s]"
     ]
    },
    {
     "name": "stderr",
     "output_type": "stream",
     "text": [
      "\r",
      "loading hamiltonians:   2%|▏         | 153/6561 [00:02<01:21, 78.93it/s]"
     ]
    },
    {
     "name": "stderr",
     "output_type": "stream",
     "text": [
      "\r",
      "loading hamiltonians:   2%|▏         | 162/6561 [00:02<01:20, 79.72it/s]"
     ]
    },
    {
     "name": "stderr",
     "output_type": "stream",
     "text": [
      "\r",
      "loading hamiltonians:   3%|▎         | 171/6561 [00:02<01:23, 76.89it/s]"
     ]
    },
    {
     "name": "stderr",
     "output_type": "stream",
     "text": [
      "\r",
      "loading hamiltonians:   3%|▎         | 179/6561 [00:02<01:24, 75.18it/s]"
     ]
    },
    {
     "name": "stderr",
     "output_type": "stream",
     "text": [
      "\r",
      "loading hamiltonians:   3%|▎         | 187/6561 [00:02<01:28, 72.01it/s]"
     ]
    },
    {
     "name": "stderr",
     "output_type": "stream",
     "text": [
      "\r",
      "loading hamiltonians:   3%|▎         | 198/6561 [00:02<01:20, 78.83it/s]"
     ]
    },
    {
     "name": "stderr",
     "output_type": "stream",
     "text": [
      "\r",
      "loading hamiltonians:   3%|▎         | 207/6561 [00:02<01:19, 79.95it/s]"
     ]
    },
    {
     "name": "stderr",
     "output_type": "stream",
     "text": [
      "\r",
      "loading hamiltonians:   3%|▎         | 216/6561 [00:02<01:24, 74.68it/s]"
     ]
    },
    {
     "name": "stderr",
     "output_type": "stream",
     "text": [
      "\r",
      "loading hamiltonians:   3%|▎         | 227/6561 [00:03<01:18, 80.47it/s]"
     ]
    },
    {
     "name": "stderr",
     "output_type": "stream",
     "text": [
      "\r",
      "loading hamiltonians:   4%|▎         | 237/6561 [00:03<01:16, 82.86it/s]"
     ]
    },
    {
     "name": "stderr",
     "output_type": "stream",
     "text": [
      "\r",
      "loading hamiltonians:   4%|▎         | 246/6561 [00:03<01:16, 82.66it/s]"
     ]
    },
    {
     "name": "stderr",
     "output_type": "stream",
     "text": [
      "\r",
      "loading hamiltonians:   4%|▍         | 255/6561 [00:03<01:20, 78.81it/s]"
     ]
    },
    {
     "name": "stderr",
     "output_type": "stream",
     "text": [
      "\r",
      "loading hamiltonians:   4%|▍         | 264/6561 [00:03<01:22, 76.34it/s]"
     ]
    },
    {
     "name": "stderr",
     "output_type": "stream",
     "text": [
      "\r",
      "loading hamiltonians:   4%|▍         | 272/6561 [00:03<01:31, 69.00it/s]"
     ]
    },
    {
     "name": "stderr",
     "output_type": "stream",
     "text": [
      "\r",
      "loading hamiltonians:   4%|▍         | 282/6561 [00:03<01:24, 74.22it/s]"
     ]
    },
    {
     "name": "stderr",
     "output_type": "stream",
     "text": [
      "\r",
      "loading hamiltonians:   4%|▍         | 290/6561 [00:03<01:23, 74.77it/s]"
     ]
    },
    {
     "name": "stderr",
     "output_type": "stream",
     "text": [
      "\r",
      "loading hamiltonians:   5%|▍         | 298/6561 [00:03<01:25, 73.54it/s]"
     ]
    },
    {
     "name": "stderr",
     "output_type": "stream",
     "text": [
      "\r",
      "loading hamiltonians:   5%|▍         | 306/6561 [00:04<01:25, 73.22it/s]"
     ]
    },
    {
     "name": "stderr",
     "output_type": "stream",
     "text": [
      "\r",
      "loading hamiltonians:   5%|▍         | 314/6561 [00:04<01:26, 72.31it/s]"
     ]
    },
    {
     "name": "stderr",
     "output_type": "stream",
     "text": [
      "\r",
      "loading hamiltonians:   5%|▍         | 324/6561 [00:04<01:19, 78.74it/s]"
     ]
    },
    {
     "name": "stderr",
     "output_type": "stream",
     "text": [
      "\r",
      "loading hamiltonians:   5%|▌         | 333/6561 [00:04<01:23, 74.41it/s]"
     ]
    },
    {
     "name": "stderr",
     "output_type": "stream",
     "text": [
      "\r",
      "loading hamiltonians:   5%|▌         | 343/6561 [00:04<01:19, 78.69it/s]"
     ]
    },
    {
     "name": "stderr",
     "output_type": "stream",
     "text": [
      "\r",
      "loading hamiltonians:   5%|▌         | 352/6561 [00:04<01:19, 77.64it/s]"
     ]
    },
    {
     "name": "stderr",
     "output_type": "stream",
     "text": [
      "\r",
      "loading hamiltonians:   5%|▌         | 360/6561 [00:04<01:21, 75.80it/s]"
     ]
    },
    {
     "name": "stderr",
     "output_type": "stream",
     "text": [
      "\r",
      "loading hamiltonians:   6%|▌         | 368/6561 [00:04<01:23, 74.18it/s]"
     ]
    },
    {
     "name": "stderr",
     "output_type": "stream",
     "text": [
      "\r",
      "loading hamiltonians:   6%|▌         | 376/6561 [00:05<01:43, 59.81it/s]"
     ]
    },
    {
     "name": "stderr",
     "output_type": "stream",
     "text": [
      "\r",
      "loading hamiltonians:   6%|▌         | 385/6561 [00:05<01:33, 65.90it/s]"
     ]
    },
    {
     "name": "stderr",
     "output_type": "stream",
     "text": [
      "\r",
      "loading hamiltonians:   6%|▌         | 393/6561 [00:05<01:34, 65.51it/s]"
     ]
    },
    {
     "name": "stderr",
     "output_type": "stream",
     "text": [
      "\r",
      "loading hamiltonians:   6%|▌         | 400/6561 [00:05<01:55, 53.21it/s]"
     ]
    },
    {
     "name": "stderr",
     "output_type": "stream",
     "text": [
      "\r",
      "loading hamiltonians:   6%|▌         | 410/6561 [00:05<01:40, 61.33it/s]"
     ]
    },
    {
     "name": "stderr",
     "output_type": "stream",
     "text": [
      "\r",
      "loading hamiltonians:   6%|▋         | 419/6561 [00:05<01:31, 66.81it/s]"
     ]
    },
    {
     "name": "stderr",
     "output_type": "stream",
     "text": [
      "\r",
      "loading hamiltonians:   7%|▋         | 427/6561 [00:05<01:33, 65.48it/s]"
     ]
    },
    {
     "name": "stderr",
     "output_type": "stream",
     "text": [
      "\r",
      "loading hamiltonians:   7%|▋         | 435/6561 [00:05<01:29, 68.34it/s]"
     ]
    },
    {
     "name": "stderr",
     "output_type": "stream",
     "text": [
      "\r",
      "loading hamiltonians:   7%|▋         | 443/6561 [00:06<01:26, 70.82it/s]"
     ]
    },
    {
     "name": "stderr",
     "output_type": "stream",
     "text": [
      "\r",
      "loading hamiltonians:   7%|▋         | 453/6561 [00:06<01:19, 77.00it/s]"
     ]
    },
    {
     "name": "stderr",
     "output_type": "stream",
     "text": [
      "\r",
      "loading hamiltonians:   7%|▋         | 462/6561 [00:06<01:20, 75.60it/s]"
     ]
    },
    {
     "name": "stderr",
     "output_type": "stream",
     "text": [
      "\r",
      "loading hamiltonians:   7%|▋         | 473/6561 [00:06<01:13, 83.37it/s]"
     ]
    },
    {
     "name": "stderr",
     "output_type": "stream",
     "text": [
      "\r",
      "loading hamiltonians:   7%|▋         | 482/6561 [00:06<01:13, 82.82it/s]"
     ]
    },
    {
     "name": "stderr",
     "output_type": "stream",
     "text": [
      "\r",
      "loading hamiltonians:   7%|▋         | 491/6561 [00:06<01:19, 76.76it/s]"
     ]
    },
    {
     "name": "stderr",
     "output_type": "stream",
     "text": [
      "\r",
      "loading hamiltonians:   8%|▊         | 500/6561 [00:06<01:18, 77.65it/s]"
     ]
    },
    {
     "name": "stderr",
     "output_type": "stream",
     "text": [
      "\r",
      "loading hamiltonians:   8%|▊         | 508/6561 [00:06<01:18, 77.58it/s]"
     ]
    },
    {
     "name": "stderr",
     "output_type": "stream",
     "text": [
      "\r",
      "loading hamiltonians:   8%|▊         | 516/6561 [00:06<01:24, 71.52it/s]"
     ]
    },
    {
     "name": "stderr",
     "output_type": "stream",
     "text": [
      "\r",
      "loading hamiltonians:   8%|▊         | 526/6561 [00:07<01:18, 76.40it/s]"
     ]
    },
    {
     "name": "stderr",
     "output_type": "stream",
     "text": [
      "\r",
      "loading hamiltonians:   8%|▊         | 534/6561 [00:07<01:21, 74.25it/s]"
     ]
    },
    {
     "name": "stderr",
     "output_type": "stream",
     "text": [
      "\r",
      "loading hamiltonians:   8%|▊         | 543/6561 [00:07<01:18, 76.64it/s]"
     ]
    },
    {
     "name": "stderr",
     "output_type": "stream",
     "text": [
      "\r",
      "loading hamiltonians:   8%|▊         | 551/6561 [00:07<01:19, 75.59it/s]"
     ]
    },
    {
     "name": "stderr",
     "output_type": "stream",
     "text": [
      "\r",
      "loading hamiltonians:   9%|▊         | 562/6561 [00:07<01:14, 80.84it/s]"
     ]
    },
    {
     "name": "stderr",
     "output_type": "stream",
     "text": [
      "\r",
      "loading hamiltonians:   9%|▊         | 571/6561 [00:07<01:15, 79.76it/s]"
     ]
    },
    {
     "name": "stderr",
     "output_type": "stream",
     "text": [
      "\r",
      "loading hamiltonians:   9%|▉         | 580/6561 [00:07<01:17, 76.81it/s]"
     ]
    },
    {
     "name": "stderr",
     "output_type": "stream",
     "text": [
      "\r",
      "loading hamiltonians:   9%|▉         | 590/6561 [00:07<01:14, 80.65it/s]"
     ]
    },
    {
     "name": "stderr",
     "output_type": "stream",
     "text": [
      "\r",
      "loading hamiltonians:   9%|▉         | 599/6561 [00:07<01:16, 78.08it/s]"
     ]
    },
    {
     "name": "stderr",
     "output_type": "stream",
     "text": [
      "\r",
      "loading hamiltonians:   9%|▉         | 608/6561 [00:08<01:15, 79.33it/s]"
     ]
    },
    {
     "name": "stderr",
     "output_type": "stream",
     "text": [
      "\r",
      "loading hamiltonians:   9%|▉         | 617/6561 [00:08<01:14, 80.22it/s]"
     ]
    },
    {
     "name": "stderr",
     "output_type": "stream",
     "text": [
      "\r",
      "loading hamiltonians:  10%|▉         | 626/6561 [00:08<01:17, 76.44it/s]"
     ]
    },
    {
     "name": "stderr",
     "output_type": "stream",
     "text": [
      "\r",
      "loading hamiltonians:  10%|▉         | 635/6561 [00:08<01:16, 77.52it/s]"
     ]
    },
    {
     "name": "stderr",
     "output_type": "stream",
     "text": [
      "\r",
      "loading hamiltonians:  10%|▉         | 647/6561 [00:08<01:09, 84.68it/s]"
     ]
    },
    {
     "name": "stderr",
     "output_type": "stream",
     "text": [
      "\r",
      "loading hamiltonians:  10%|▉         | 656/6561 [00:08<01:08, 85.80it/s]"
     ]
    },
    {
     "name": "stderr",
     "output_type": "stream",
     "text": [
      "\r",
      "loading hamiltonians:  10%|█         | 665/6561 [00:08<01:10, 83.62it/s]"
     ]
    },
    {
     "name": "stderr",
     "output_type": "stream",
     "text": [
      "\r",
      "loading hamiltonians:  10%|█         | 674/6561 [00:08<01:09, 84.98it/s]"
     ]
    },
    {
     "name": "stderr",
     "output_type": "stream",
     "text": [
      "\r",
      "loading hamiltonians:  10%|█         | 684/6561 [00:09<01:08, 86.10it/s]"
     ]
    },
    {
     "name": "stderr",
     "output_type": "stream",
     "text": [
      "\r",
      "loading hamiltonians:  11%|█         | 693/6561 [00:09<01:09, 84.87it/s]"
     ]
    },
    {
     "name": "stderr",
     "output_type": "stream",
     "text": [
      "\r",
      "loading hamiltonians:  11%|█         | 702/6561 [00:09<01:14, 78.32it/s]"
     ]
    },
    {
     "name": "stderr",
     "output_type": "stream",
     "text": [
      "\r",
      "loading hamiltonians:  11%|█         | 710/6561 [00:09<01:17, 75.46it/s]"
     ]
    },
    {
     "name": "stderr",
     "output_type": "stream",
     "text": [
      "\r",
      "loading hamiltonians:  11%|█         | 718/6561 [00:09<01:56, 50.15it/s]"
     ]
    },
    {
     "name": "stderr",
     "output_type": "stream",
     "text": [
      "\r",
      "loading hamiltonians:  11%|█         | 727/6561 [00:09<01:42, 56.73it/s]"
     ]
    },
    {
     "name": "stderr",
     "output_type": "stream",
     "text": [
      "\r",
      "loading hamiltonians:  11%|█         | 735/6561 [00:09<01:35, 60.71it/s]"
     ]
    },
    {
     "name": "stderr",
     "output_type": "stream",
     "text": [
      "\r",
      "loading hamiltonians:  11%|█▏        | 744/6561 [00:09<01:27, 66.26it/s]"
     ]
    },
    {
     "name": "stderr",
     "output_type": "stream",
     "text": [
      "\r",
      "loading hamiltonians:  11%|█▏        | 752/6561 [00:10<01:28, 65.51it/s]"
     ]
    },
    {
     "name": "stderr",
     "output_type": "stream",
     "text": [
      "\r",
      "loading hamiltonians:  12%|█▏        | 760/6561 [00:10<01:31, 63.34it/s]"
     ]
    },
    {
     "name": "stderr",
     "output_type": "stream",
     "text": [
      "\r",
      "loading hamiltonians:  12%|█▏        | 768/6561 [00:10<01:26, 67.35it/s]"
     ]
    },
    {
     "name": "stderr",
     "output_type": "stream",
     "text": [
      "\r",
      "loading hamiltonians:  12%|█▏        | 776/6561 [00:10<01:23, 69.26it/s]"
     ]
    },
    {
     "name": "stderr",
     "output_type": "stream",
     "text": [
      "\r",
      "loading hamiltonians:  12%|█▏        | 784/6561 [00:10<01:23, 69.18it/s]"
     ]
    },
    {
     "name": "stderr",
     "output_type": "stream",
     "text": [
      "\r",
      "loading hamiltonians:  12%|█▏        | 792/6561 [00:10<01:22, 70.34it/s]"
     ]
    },
    {
     "name": "stderr",
     "output_type": "stream",
     "text": [
      "\r",
      "loading hamiltonians:  12%|█▏        | 800/6561 [00:10<01:20, 71.44it/s]"
     ]
    },
    {
     "name": "stderr",
     "output_type": "stream",
     "text": [
      "\r",
      "loading hamiltonians:  12%|█▏        | 808/6561 [00:10<01:18, 73.11it/s]"
     ]
    },
    {
     "name": "stderr",
     "output_type": "stream",
     "text": [
      "\r",
      "loading hamiltonians:  12%|█▏        | 816/6561 [00:11<01:21, 70.55it/s]"
     ]
    },
    {
     "name": "stderr",
     "output_type": "stream",
     "text": [
      "\r",
      "loading hamiltonians:  13%|█▎        | 826/6561 [00:11<01:16, 74.66it/s]"
     ]
    },
    {
     "name": "stderr",
     "output_type": "stream",
     "text": [
      "\r",
      "loading hamiltonians:  13%|█▎        | 834/6561 [00:11<01:15, 75.59it/s]"
     ]
    },
    {
     "name": "stderr",
     "output_type": "stream",
     "text": [
      "\r",
      "loading hamiltonians:  13%|█▎        | 842/6561 [00:11<01:17, 73.38it/s]"
     ]
    },
    {
     "name": "stderr",
     "output_type": "stream",
     "text": [
      "\r",
      "loading hamiltonians:  13%|█▎        | 850/6561 [00:11<01:16, 74.78it/s]"
     ]
    },
    {
     "name": "stderr",
     "output_type": "stream",
     "text": [
      "\r",
      "loading hamiltonians:  13%|█▎        | 859/6561 [00:11<01:13, 77.07it/s]"
     ]
    },
    {
     "name": "stderr",
     "output_type": "stream",
     "text": [
      "\r",
      "loading hamiltonians:  13%|█▎        | 867/6561 [00:11<01:14, 76.77it/s]"
     ]
    },
    {
     "name": "stderr",
     "output_type": "stream",
     "text": [
      "\r",
      "loading hamiltonians:  13%|█▎        | 875/6561 [00:11<01:19, 71.13it/s]"
     ]
    },
    {
     "name": "stderr",
     "output_type": "stream",
     "text": [
      "\r",
      "loading hamiltonians:  14%|█▎        | 887/6561 [00:11<01:10, 80.68it/s]"
     ]
    },
    {
     "name": "stderr",
     "output_type": "stream",
     "text": [
      "\r",
      "loading hamiltonians:  14%|█▎        | 896/6561 [00:12<01:10, 79.87it/s]"
     ]
    },
    {
     "name": "stderr",
     "output_type": "stream",
     "text": [
      "\r",
      "loading hamiltonians:  14%|█▍        | 905/6561 [00:12<01:12, 77.62it/s]"
     ]
    },
    {
     "name": "stderr",
     "output_type": "stream",
     "text": [
      "\r",
      "loading hamiltonians:  14%|█▍        | 914/6561 [00:12<01:12, 78.20it/s]"
     ]
    },
    {
     "name": "stderr",
     "output_type": "stream",
     "text": [
      "\r",
      "loading hamiltonians:  14%|█▍        | 923/6561 [00:12<01:10, 79.70it/s]"
     ]
    },
    {
     "name": "stderr",
     "output_type": "stream",
     "text": [
      "\r",
      "loading hamiltonians:  14%|█▍        | 932/6561 [00:12<01:08, 81.74it/s]"
     ]
    },
    {
     "name": "stderr",
     "output_type": "stream",
     "text": [
      "\r",
      "loading hamiltonians:  14%|█▍        | 941/6561 [00:12<01:08, 81.51it/s]"
     ]
    },
    {
     "name": "stderr",
     "output_type": "stream",
     "text": [
      "\r",
      "loading hamiltonians:  14%|█▍        | 950/6561 [00:12<01:09, 81.06it/s]"
     ]
    },
    {
     "name": "stderr",
     "output_type": "stream",
     "text": [
      "\r",
      "loading hamiltonians:  15%|█▍        | 959/6561 [00:12<01:10, 79.15it/s]"
     ]
    },
    {
     "name": "stderr",
     "output_type": "stream",
     "text": [
      "\r",
      "loading hamiltonians:  15%|█▍        | 968/6561 [00:12<01:08, 82.06it/s]"
     ]
    },
    {
     "name": "stderr",
     "output_type": "stream",
     "text": [
      "\r",
      "loading hamiltonians:  15%|█▍        | 977/6561 [00:13<01:09, 80.56it/s]"
     ]
    },
    {
     "name": "stderr",
     "output_type": "stream",
     "text": [
      "\r",
      "loading hamiltonians:  15%|█▌        | 988/6561 [00:13<01:03, 87.28it/s]"
     ]
    },
    {
     "name": "stderr",
     "output_type": "stream",
     "text": [
      "\r",
      "loading hamiltonians:  15%|█▌        | 997/6561 [00:13<01:05, 84.65it/s]"
     ]
    },
    {
     "name": "stderr",
     "output_type": "stream",
     "text": [
      "\r",
      "loading hamiltonians:  15%|█▌        | 1006/6561 [00:13<01:07, 82.02it/s]"
     ]
    },
    {
     "name": "stderr",
     "output_type": "stream",
     "text": [
      "\r",
      "loading hamiltonians:  15%|█▌        | 1016/6561 [00:13<01:06, 83.60it/s]"
     ]
    },
    {
     "name": "stderr",
     "output_type": "stream",
     "text": [
      "\r",
      "loading hamiltonians:  16%|█▌        | 1025/6561 [00:13<01:07, 81.49it/s]"
     ]
    },
    {
     "name": "stderr",
     "output_type": "stream",
     "text": [
      "\r",
      "loading hamiltonians:  16%|█▌        | 1035/6561 [00:13<01:05, 84.90it/s]"
     ]
    },
    {
     "name": "stderr",
     "output_type": "stream",
     "text": [
      "\r",
      "loading hamiltonians:  16%|█▌        | 1044/6561 [00:13<01:07, 81.82it/s]"
     ]
    },
    {
     "name": "stderr",
     "output_type": "stream",
     "text": [
      "\r",
      "loading hamiltonians:  16%|█▌        | 1053/6561 [00:13<01:09, 79.03it/s]"
     ]
    },
    {
     "name": "stderr",
     "output_type": "stream",
     "text": [
      "\r",
      "loading hamiltonians:  16%|█▌        | 1061/6561 [00:14<02:10, 42.03it/s]"
     ]
    },
    {
     "name": "stderr",
     "output_type": "stream",
     "text": [
      "\r",
      "loading hamiltonians:  16%|█▋        | 1071/6561 [00:14<01:49, 49.91it/s]"
     ]
    },
    {
     "name": "stderr",
     "output_type": "stream",
     "text": [
      "\r",
      "loading hamiltonians:  16%|█▋        | 1080/6561 [00:14<01:54, 47.89it/s]"
     ]
    },
    {
     "name": "stderr",
     "output_type": "stream",
     "text": [
      "\r",
      "loading hamiltonians:  17%|█▋        | 1090/6561 [00:14<01:39, 55.12it/s]"
     ]
    },
    {
     "name": "stderr",
     "output_type": "stream",
     "text": [
      "\r",
      "loading hamiltonians:  17%|█▋        | 1098/6561 [00:14<01:31, 59.90it/s]"
     ]
    },
    {
     "name": "stderr",
     "output_type": "stream",
     "text": [
      "\r",
      "loading hamiltonians:  17%|█▋        | 1106/6561 [00:14<01:25, 63.53it/s]"
     ]
    },
    {
     "name": "stderr",
     "output_type": "stream",
     "text": [
      "\r",
      "loading hamiltonians:  17%|█▋        | 1114/6561 [00:15<01:22, 66.20it/s]"
     ]
    },
    {
     "name": "stderr",
     "output_type": "stream",
     "text": [
      "\r",
      "loading hamiltonians:  17%|█▋        | 1122/6561 [00:15<01:24, 64.61it/s]"
     ]
    },
    {
     "name": "stderr",
     "output_type": "stream",
     "text": [
      "\r",
      "loading hamiltonians:  17%|█▋        | 1130/6561 [00:15<01:21, 67.02it/s]"
     ]
    },
    {
     "name": "stderr",
     "output_type": "stream",
     "text": [
      "\r",
      "loading hamiltonians:  17%|█▋        | 1138/6561 [00:15<01:18, 69.12it/s]"
     ]
    },
    {
     "name": "stderr",
     "output_type": "stream",
     "text": [
      "\r",
      "loading hamiltonians:  18%|█▊        | 1149/6561 [00:15<01:09, 77.79it/s]"
     ]
    },
    {
     "name": "stderr",
     "output_type": "stream",
     "text": [
      "\r",
      "loading hamiltonians:  18%|█▊        | 1160/6561 [00:15<01:04, 83.39it/s]"
     ]
    },
    {
     "name": "stderr",
     "output_type": "stream",
     "text": [
      "\r",
      "loading hamiltonians:  18%|█▊        | 1169/6561 [00:15<01:04, 84.00it/s]"
     ]
    },
    {
     "name": "stderr",
     "output_type": "stream",
     "text": [
      "\r",
      "loading hamiltonians:  18%|█▊        | 1178/6561 [00:15<01:04, 83.93it/s]"
     ]
    },
    {
     "name": "stderr",
     "output_type": "stream",
     "text": [
      "\r",
      "loading hamiltonians:  18%|█▊        | 1187/6561 [00:15<01:03, 84.66it/s]"
     ]
    },
    {
     "name": "stderr",
     "output_type": "stream",
     "text": [
      "\r",
      "loading hamiltonians:  18%|█▊        | 1196/6561 [00:16<01:05, 81.96it/s]"
     ]
    },
    {
     "name": "stderr",
     "output_type": "stream",
     "text": [
      "\r",
      "loading hamiltonians:  18%|█▊        | 1206/6561 [00:16<01:03, 84.03it/s]"
     ]
    },
    {
     "name": "stderr",
     "output_type": "stream",
     "text": [
      "\r",
      "loading hamiltonians:  19%|█▊        | 1215/6561 [00:16<01:06, 80.97it/s]"
     ]
    },
    {
     "name": "stderr",
     "output_type": "stream",
     "text": [
      "\r",
      "loading hamiltonians:  19%|█▊        | 1225/6561 [00:16<01:03, 84.36it/s]"
     ]
    },
    {
     "name": "stderr",
     "output_type": "stream",
     "text": [
      "\r",
      "loading hamiltonians:  19%|█▉        | 1235/6561 [00:16<01:02, 85.65it/s]"
     ]
    },
    {
     "name": "stderr",
     "output_type": "stream",
     "text": [
      "\r",
      "loading hamiltonians:  19%|█▉        | 1244/6561 [00:16<01:06, 79.97it/s]"
     ]
    },
    {
     "name": "stderr",
     "output_type": "stream",
     "text": [
      "\r",
      "loading hamiltonians:  19%|█▉        | 1253/6561 [00:16<01:05, 80.95it/s]"
     ]
    },
    {
     "name": "stderr",
     "output_type": "stream",
     "text": [
      "\r",
      "loading hamiltonians:  19%|█▉        | 1262/6561 [00:16<01:07, 78.44it/s]"
     ]
    },
    {
     "name": "stderr",
     "output_type": "stream",
     "text": [
      "\r",
      "loading hamiltonians:  19%|█▉        | 1270/6561 [00:17<01:11, 74.32it/s]"
     ]
    },
    {
     "name": "stderr",
     "output_type": "stream",
     "text": [
      "\r",
      "loading hamiltonians:  19%|█▉        | 1278/6561 [00:17<01:11, 74.30it/s]"
     ]
    },
    {
     "name": "stderr",
     "output_type": "stream",
     "text": [
      "\r",
      "loading hamiltonians:  20%|█▉        | 1286/6561 [00:17<01:11, 73.49it/s]"
     ]
    },
    {
     "name": "stderr",
     "output_type": "stream",
     "text": [
      "\r",
      "loading hamiltonians:  20%|█▉        | 1296/6561 [00:17<01:08, 77.22it/s]"
     ]
    },
    {
     "name": "stderr",
     "output_type": "stream",
     "text": [
      "\r",
      "loading hamiltonians:  20%|█▉        | 1304/6561 [00:17<01:12, 72.18it/s]"
     ]
    },
    {
     "name": "stderr",
     "output_type": "stream",
     "text": [
      "\r",
      "loading hamiltonians:  20%|██        | 1313/6561 [00:17<01:09, 75.05it/s]"
     ]
    },
    {
     "name": "stderr",
     "output_type": "stream",
     "text": [
      "\r",
      "loading hamiltonians:  20%|██        | 1321/6561 [00:17<01:12, 72.75it/s]"
     ]
    },
    {
     "name": "stderr",
     "output_type": "stream",
     "text": [
      "\r",
      "loading hamiltonians:  20%|██        | 1329/6561 [00:17<01:11, 73.60it/s]"
     ]
    },
    {
     "name": "stderr",
     "output_type": "stream",
     "text": [
      "\r",
      "loading hamiltonians:  20%|██        | 1337/6561 [00:17<01:09, 75.19it/s]"
     ]
    },
    {
     "name": "stderr",
     "output_type": "stream",
     "text": [
      "\r",
      "loading hamiltonians:  21%|██        | 1346/6561 [00:18<01:08, 76.29it/s]"
     ]
    },
    {
     "name": "stderr",
     "output_type": "stream",
     "text": [
      "\r",
      "loading hamiltonians:  21%|██        | 1354/6561 [00:18<01:08, 76.10it/s]"
     ]
    },
    {
     "name": "stderr",
     "output_type": "stream",
     "text": [
      "\r",
      "loading hamiltonians:  21%|██        | 1362/6561 [00:18<01:12, 72.19it/s]"
     ]
    },
    {
     "name": "stderr",
     "output_type": "stream",
     "text": [
      "\r",
      "loading hamiltonians:  21%|██        | 1372/6561 [00:18<01:07, 76.76it/s]"
     ]
    },
    {
     "name": "stderr",
     "output_type": "stream",
     "text": [
      "\r",
      "loading hamiltonians:  21%|██        | 1380/6561 [00:18<01:09, 74.89it/s]"
     ]
    },
    {
     "name": "stderr",
     "output_type": "stream",
     "text": [
      "\r",
      "loading hamiltonians:  21%|██        | 1390/6561 [00:18<01:04, 80.38it/s]"
     ]
    },
    {
     "name": "stderr",
     "output_type": "stream",
     "text": [
      "\r",
      "loading hamiltonians:  21%|██▏       | 1399/6561 [00:18<01:02, 82.53it/s]"
     ]
    },
    {
     "name": "stderr",
     "output_type": "stream",
     "text": [
      "\r",
      "loading hamiltonians:  21%|██▏       | 1409/6561 [00:18<01:00, 85.45it/s]"
     ]
    },
    {
     "name": "stderr",
     "output_type": "stream",
     "text": [
      "\r",
      "loading hamiltonians:  22%|██▏       | 1418/6561 [00:18<01:00, 85.58it/s]"
     ]
    },
    {
     "name": "stderr",
     "output_type": "stream",
     "text": [
      "\r",
      "loading hamiltonians:  22%|██▏       | 1427/6561 [00:19<01:05, 78.15it/s]"
     ]
    },
    {
     "name": "stderr",
     "output_type": "stream",
     "text": [
      "\r",
      "loading hamiltonians:  22%|██▏       | 1436/6561 [00:19<01:05, 77.78it/s]"
     ]
    },
    {
     "name": "stderr",
     "output_type": "stream",
     "text": [
      "\r",
      "loading hamiltonians:  22%|██▏       | 1445/6561 [00:19<01:04, 79.58it/s]"
     ]
    },
    {
     "name": "stderr",
     "output_type": "stream",
     "text": [
      "\r",
      "loading hamiltonians:  22%|██▏       | 1454/6561 [00:19<01:04, 79.12it/s]"
     ]
    },
    {
     "name": "stderr",
     "output_type": "stream",
     "text": [
      "\r",
      "loading hamiltonians:  22%|██▏       | 1462/6561 [00:19<01:05, 78.14it/s]"
     ]
    },
    {
     "name": "stderr",
     "output_type": "stream",
     "text": [
      "\r",
      "loading hamiltonians:  22%|██▏       | 1470/6561 [00:19<01:07, 75.85it/s]"
     ]
    },
    {
     "name": "stderr",
     "output_type": "stream",
     "text": [
      "\r",
      "loading hamiltonians:  23%|██▎       | 1478/6561 [00:19<01:24, 60.24it/s]"
     ]
    },
    {
     "name": "stderr",
     "output_type": "stream",
     "text": [
      "\r",
      "loading hamiltonians:  23%|██▎       | 1486/6561 [00:19<01:20, 62.72it/s]"
     ]
    },
    {
     "name": "stderr",
     "output_type": "stream",
     "text": [
      "\r",
      "loading hamiltonians:  23%|██▎       | 1493/6561 [00:19<01:18, 64.19it/s]"
     ]
    },
    {
     "name": "stderr",
     "output_type": "stream",
     "text": [
      "\r",
      "loading hamiltonians:  23%|██▎       | 1501/6561 [00:20<01:15, 66.91it/s]"
     ]
    },
    {
     "name": "stderr",
     "output_type": "stream",
     "text": [
      "\r",
      "loading hamiltonians:  23%|██▎       | 1510/6561 [00:20<01:11, 70.86it/s]"
     ]
    },
    {
     "name": "stderr",
     "output_type": "stream",
     "text": [
      "\r",
      "loading hamiltonians:  23%|██▎       | 1519/6561 [00:20<01:07, 74.18it/s]"
     ]
    },
    {
     "name": "stderr",
     "output_type": "stream",
     "text": [
      "\r",
      "loading hamiltonians:  23%|██▎       | 1527/6561 [00:20<01:07, 74.38it/s]"
     ]
    },
    {
     "name": "stderr",
     "output_type": "stream",
     "text": [
      "\r",
      "loading hamiltonians:  23%|██▎       | 1536/6561 [00:20<01:04, 78.21it/s]"
     ]
    },
    {
     "name": "stderr",
     "output_type": "stream",
     "text": [
      "\r",
      "loading hamiltonians:  24%|██▎       | 1544/6561 [00:20<01:09, 72.59it/s]"
     ]
    },
    {
     "name": "stderr",
     "output_type": "stream",
     "text": [
      "\r",
      "loading hamiltonians:  24%|██▎       | 1553/6561 [00:20<01:05, 76.47it/s]"
     ]
    },
    {
     "name": "stderr",
     "output_type": "stream",
     "text": [
      "\r",
      "loading hamiltonians:  24%|██▍       | 1561/6561 [00:20<01:06, 74.81it/s]"
     ]
    },
    {
     "name": "stderr",
     "output_type": "stream",
     "text": [
      "\r",
      "loading hamiltonians:  24%|██▍       | 1569/6561 [00:20<01:08, 72.37it/s]"
     ]
    },
    {
     "name": "stderr",
     "output_type": "stream",
     "text": [
      "\r",
      "loading hamiltonians:  24%|██▍       | 1578/6561 [00:21<01:07, 74.13it/s]"
     ]
    },
    {
     "name": "stderr",
     "output_type": "stream",
     "text": [
      "\r",
      "loading hamiltonians:  24%|██▍       | 1586/6561 [00:21<01:11, 69.30it/s]"
     ]
    },
    {
     "name": "stderr",
     "output_type": "stream",
     "text": [
      "\r",
      "loading hamiltonians:  24%|██▍       | 1594/6561 [00:21<01:14, 67.00it/s]"
     ]
    },
    {
     "name": "stderr",
     "output_type": "stream",
     "text": [
      "\r",
      "loading hamiltonians:  24%|██▍       | 1601/6561 [00:21<01:19, 62.27it/s]"
     ]
    },
    {
     "name": "stderr",
     "output_type": "stream",
     "text": [
      "\r",
      "loading hamiltonians:  25%|██▍       | 1612/6561 [00:21<01:09, 71.50it/s]"
     ]
    },
    {
     "name": "stderr",
     "output_type": "stream",
     "text": [
      "\r",
      "loading hamiltonians:  25%|██▍       | 1622/6561 [00:21<01:05, 75.50it/s]"
     ]
    },
    {
     "name": "stderr",
     "output_type": "stream",
     "text": [
      "\r",
      "loading hamiltonians:  25%|██▍       | 1631/6561 [00:21<01:07, 72.99it/s]"
     ]
    },
    {
     "name": "stderr",
     "output_type": "stream",
     "text": [
      "\r",
      "loading hamiltonians:  25%|██▍       | 1640/6561 [00:21<01:03, 77.19it/s]"
     ]
    },
    {
     "name": "stderr",
     "output_type": "stream",
     "text": [
      "\r",
      "loading hamiltonians:  25%|██▌       | 1649/6561 [00:22<01:02, 78.90it/s]"
     ]
    },
    {
     "name": "stderr",
     "output_type": "stream",
     "text": [
      "\r",
      "loading hamiltonians:  25%|██▌       | 1658/6561 [00:22<01:07, 72.26it/s]"
     ]
    },
    {
     "name": "stderr",
     "output_type": "stream",
     "text": [
      "\r",
      "loading hamiltonians:  25%|██▌       | 1666/6561 [00:22<01:10, 69.28it/s]"
     ]
    },
    {
     "name": "stderr",
     "output_type": "stream",
     "text": [
      "\r",
      "loading hamiltonians:  26%|██▌       | 1675/6561 [00:22<01:07, 72.27it/s]"
     ]
    },
    {
     "name": "stderr",
     "output_type": "stream",
     "text": [
      "\r",
      "loading hamiltonians:  26%|██▌       | 1684/6561 [00:22<01:04, 75.79it/s]"
     ]
    },
    {
     "name": "stderr",
     "output_type": "stream",
     "text": [
      "\r",
      "loading hamiltonians:  26%|██▌       | 1692/6561 [00:22<01:04, 75.10it/s]"
     ]
    },
    {
     "name": "stderr",
     "output_type": "stream",
     "text": [
      "\r",
      "loading hamiltonians:  26%|██▌       | 1700/6561 [00:22<01:04, 75.34it/s]"
     ]
    },
    {
     "name": "stderr",
     "output_type": "stream",
     "text": [
      "\r",
      "loading hamiltonians:  26%|██▌       | 1709/6561 [00:22<01:03, 75.99it/s]"
     ]
    },
    {
     "name": "stderr",
     "output_type": "stream",
     "text": [
      "\r",
      "loading hamiltonians:  26%|██▌       | 1717/6561 [00:23<01:07, 71.66it/s]"
     ]
    },
    {
     "name": "stderr",
     "output_type": "stream",
     "text": [
      "\r",
      "loading hamiltonians:  26%|██▋       | 1725/6561 [00:23<01:10, 68.40it/s]"
     ]
    },
    {
     "name": "stderr",
     "output_type": "stream",
     "text": [
      "\r",
      "loading hamiltonians:  26%|██▋       | 1732/6561 [00:23<02:36, 30.77it/s]"
     ]
    },
    {
     "name": "stderr",
     "output_type": "stream",
     "text": [
      "\r",
      "loading hamiltonians:  27%|██▋       | 1742/6561 [00:23<02:04, 38.76it/s]"
     ]
    },
    {
     "name": "stderr",
     "output_type": "stream",
     "text": [
      "\r",
      "loading hamiltonians:  27%|██▋       | 1751/6561 [00:23<01:43, 46.52it/s]"
     ]
    },
    {
     "name": "stderr",
     "output_type": "stream",
     "text": [
      "\r",
      "loading hamiltonians:  27%|██▋       | 1759/6561 [00:23<01:30, 52.85it/s]"
     ]
    },
    {
     "name": "stderr",
     "output_type": "stream",
     "text": [
      "\r",
      "loading hamiltonians:  27%|██▋       | 1767/6561 [00:24<01:24, 56.79it/s]"
     ]
    },
    {
     "name": "stderr",
     "output_type": "stream",
     "text": [
      "\r",
      "loading hamiltonians:  27%|██▋       | 1775/6561 [00:24<01:17, 62.02it/s]"
     ]
    },
    {
     "name": "stderr",
     "output_type": "stream",
     "text": [
      "\r",
      "loading hamiltonians:  27%|██▋       | 1783/6561 [00:24<01:12, 66.35it/s]"
     ]
    },
    {
     "name": "stderr",
     "output_type": "stream",
     "text": [
      "\r",
      "loading hamiltonians:  27%|██▋       | 1791/6561 [00:24<01:09, 68.64it/s]"
     ]
    },
    {
     "name": "stderr",
     "output_type": "stream",
     "text": [
      "\r",
      "loading hamiltonians:  27%|██▋       | 1799/6561 [00:24<01:07, 70.47it/s]"
     ]
    },
    {
     "name": "stderr",
     "output_type": "stream",
     "text": [
      "\r",
      "loading hamiltonians:  28%|██▊       | 1807/6561 [00:24<01:08, 69.22it/s]"
     ]
    },
    {
     "name": "stderr",
     "output_type": "stream",
     "text": [
      "\r",
      "loading hamiltonians:  28%|██▊       | 1815/6561 [00:24<01:22, 57.52it/s]"
     ]
    },
    {
     "name": "stderr",
     "output_type": "stream",
     "text": [
      "\r",
      "loading hamiltonians:  28%|██▊       | 1824/6561 [00:24<01:15, 62.99it/s]"
     ]
    },
    {
     "name": "stderr",
     "output_type": "stream",
     "text": [
      "\r",
      "loading hamiltonians:  28%|██▊       | 1832/6561 [00:25<01:10, 66.83it/s]"
     ]
    },
    {
     "name": "stderr",
     "output_type": "stream",
     "text": [
      "\r",
      "loading hamiltonians:  28%|██▊       | 1840/6561 [00:25<01:10, 66.67it/s]"
     ]
    },
    {
     "name": "stderr",
     "output_type": "stream",
     "text": [
      "\r",
      "loading hamiltonians:  28%|██▊       | 1847/6561 [00:25<01:15, 62.24it/s]"
     ]
    },
    {
     "name": "stderr",
     "output_type": "stream",
     "text": [
      "\r",
      "loading hamiltonians:  28%|██▊       | 1856/6561 [00:25<01:09, 68.09it/s]"
     ]
    },
    {
     "name": "stderr",
     "output_type": "stream",
     "text": [
      "\r",
      "loading hamiltonians:  28%|██▊       | 1864/6561 [00:25<01:10, 67.06it/s]"
     ]
    },
    {
     "name": "stderr",
     "output_type": "stream",
     "text": [
      "\r",
      "loading hamiltonians:  29%|██▊       | 1872/6561 [00:25<01:08, 68.76it/s]"
     ]
    },
    {
     "name": "stderr",
     "output_type": "stream",
     "text": [
      "\r",
      "loading hamiltonians:  29%|██▊       | 1880/6561 [00:25<01:05, 70.95it/s]"
     ]
    },
    {
     "name": "stderr",
     "output_type": "stream",
     "text": [
      "\r",
      "loading hamiltonians:  29%|██▉       | 1888/6561 [00:25<01:03, 73.23it/s]"
     ]
    },
    {
     "name": "stderr",
     "output_type": "stream",
     "text": [
      "\r",
      "loading hamiltonians:  29%|██▉       | 1896/6561 [00:25<01:03, 73.37it/s]"
     ]
    },
    {
     "name": "stderr",
     "output_type": "stream",
     "text": [
      "\r",
      "loading hamiltonians:  29%|██▉       | 1904/6561 [00:26<01:02, 74.30it/s]"
     ]
    },
    {
     "name": "stderr",
     "output_type": "stream",
     "text": [
      "\r",
      "loading hamiltonians:  29%|██▉       | 1912/6561 [00:26<01:02, 73.95it/s]"
     ]
    },
    {
     "name": "stderr",
     "output_type": "stream",
     "text": [
      "\r",
      "loading hamiltonians:  29%|██▉       | 1922/6561 [00:26<00:58, 78.80it/s]"
     ]
    },
    {
     "name": "stderr",
     "output_type": "stream",
     "text": [
      "\r",
      "loading hamiltonians:  29%|██▉       | 1930/6561 [00:26<01:01, 75.77it/s]"
     ]
    },
    {
     "name": "stderr",
     "output_type": "stream",
     "text": [
      "\r",
      "loading hamiltonians:  30%|██▉       | 1938/6561 [00:26<01:02, 73.59it/s]"
     ]
    },
    {
     "name": "stderr",
     "output_type": "stream",
     "text": [
      "\r",
      "loading hamiltonians:  30%|██▉       | 1946/6561 [00:26<01:02, 73.90it/s]"
     ]
    },
    {
     "name": "stderr",
     "output_type": "stream",
     "text": [
      "\r",
      "loading hamiltonians:  30%|██▉       | 1954/6561 [00:26<01:01, 75.26it/s]"
     ]
    },
    {
     "name": "stderr",
     "output_type": "stream",
     "text": [
      "\r",
      "loading hamiltonians:  30%|██▉       | 1962/6561 [00:26<01:02, 74.10it/s]"
     ]
    },
    {
     "name": "stderr",
     "output_type": "stream",
     "text": [
      "\r",
      "loading hamiltonians:  30%|███       | 1970/6561 [00:26<01:04, 70.80it/s]"
     ]
    },
    {
     "name": "stderr",
     "output_type": "stream",
     "text": [
      "\r",
      "loading hamiltonians:  30%|███       | 1978/6561 [00:27<01:03, 71.82it/s]"
     ]
    },
    {
     "name": "stderr",
     "output_type": "stream",
     "text": [
      "\r",
      "loading hamiltonians:  30%|███       | 1988/6561 [00:27<00:58, 77.87it/s]"
     ]
    },
    {
     "name": "stderr",
     "output_type": "stream",
     "text": [
      "\r",
      "loading hamiltonians:  30%|███       | 1996/6561 [00:27<01:01, 74.68it/s]"
     ]
    },
    {
     "name": "stderr",
     "output_type": "stream",
     "text": [
      "\r",
      "loading hamiltonians:  31%|███       | 2004/6561 [00:27<01:00, 75.32it/s]"
     ]
    },
    {
     "name": "stderr",
     "output_type": "stream",
     "text": [
      "\r",
      "loading hamiltonians:  31%|███       | 2014/6561 [00:27<00:56, 80.16it/s]"
     ]
    },
    {
     "name": "stderr",
     "output_type": "stream",
     "text": [
      "\r",
      "loading hamiltonians:  31%|███       | 2023/6561 [00:27<00:56, 80.22it/s]"
     ]
    },
    {
     "name": "stderr",
     "output_type": "stream",
     "text": [
      "\r",
      "loading hamiltonians:  31%|███       | 2032/6561 [00:27<00:55, 81.10it/s]"
     ]
    },
    {
     "name": "stderr",
     "output_type": "stream",
     "text": [
      "\r",
      "loading hamiltonians:  31%|███       | 2041/6561 [00:27<00:58, 77.65it/s]"
     ]
    },
    {
     "name": "stderr",
     "output_type": "stream",
     "text": [
      "\r",
      "loading hamiltonians:  31%|███       | 2050/6561 [00:27<00:56, 79.59it/s]"
     ]
    },
    {
     "name": "stderr",
     "output_type": "stream",
     "text": [
      "\r",
      "loading hamiltonians:  31%|███▏      | 2059/6561 [00:28<00:56, 79.81it/s]"
     ]
    },
    {
     "name": "stderr",
     "output_type": "stream",
     "text": [
      "\r",
      "loading hamiltonians:  32%|███▏      | 2068/6561 [00:28<00:58, 77.16it/s]"
     ]
    },
    {
     "name": "stderr",
     "output_type": "stream",
     "text": [
      "\r",
      "loading hamiltonians:  32%|███▏      | 2078/6561 [00:28<00:54, 81.97it/s]"
     ]
    },
    {
     "name": "stderr",
     "output_type": "stream",
     "text": [
      "\r",
      "loading hamiltonians:  32%|███▏      | 2087/6561 [00:28<00:53, 83.61it/s]"
     ]
    },
    {
     "name": "stderr",
     "output_type": "stream",
     "text": [
      "\r",
      "loading hamiltonians:  32%|███▏      | 2096/6561 [00:28<00:54, 81.86it/s]"
     ]
    },
    {
     "name": "stderr",
     "output_type": "stream",
     "text": [
      "\r",
      "loading hamiltonians:  32%|███▏      | 2105/6561 [00:28<00:57, 77.30it/s]"
     ]
    },
    {
     "name": "stderr",
     "output_type": "stream",
     "text": [
      "\r",
      "loading hamiltonians:  32%|███▏      | 2113/6561 [00:28<00:59, 74.42it/s]"
     ]
    },
    {
     "name": "stderr",
     "output_type": "stream",
     "text": [
      "\r",
      "loading hamiltonians:  32%|███▏      | 2121/6561 [00:28<01:01, 72.16it/s]"
     ]
    },
    {
     "name": "stderr",
     "output_type": "stream",
     "text": [
      "\r",
      "loading hamiltonians:  32%|███▏      | 2130/6561 [00:28<00:58, 75.41it/s]"
     ]
    },
    {
     "name": "stderr",
     "output_type": "stream",
     "text": [
      "\r",
      "loading hamiltonians:  33%|███▎      | 2138/6561 [00:29<00:58, 76.21it/s]"
     ]
    },
    {
     "name": "stderr",
     "output_type": "stream",
     "text": [
      "\r",
      "loading hamiltonians:  33%|███▎      | 2146/6561 [00:29<00:59, 73.59it/s]"
     ]
    },
    {
     "name": "stderr",
     "output_type": "stream",
     "text": [
      "\r",
      "loading hamiltonians:  33%|███▎      | 2156/6561 [00:29<00:55, 79.05it/s]"
     ]
    },
    {
     "name": "stderr",
     "output_type": "stream",
     "text": [
      "\r",
      "loading hamiltonians:  33%|███▎      | 2165/6561 [00:29<00:54, 80.12it/s]"
     ]
    },
    {
     "name": "stderr",
     "output_type": "stream",
     "text": [
      "\r",
      "loading hamiltonians:  33%|███▎      | 2175/6561 [00:29<00:51, 84.68it/s]"
     ]
    },
    {
     "name": "stderr",
     "output_type": "stream",
     "text": [
      "\r",
      "loading hamiltonians:  33%|███▎      | 2185/6561 [00:29<00:49, 88.05it/s]"
     ]
    },
    {
     "name": "stderr",
     "output_type": "stream",
     "text": [
      "\r",
      "loading hamiltonians:  33%|███▎      | 2194/6561 [00:29<00:52, 83.31it/s]"
     ]
    },
    {
     "name": "stderr",
     "output_type": "stream",
     "text": [
      "\r",
      "loading hamiltonians:  34%|███▎      | 2203/6561 [00:29<01:04, 67.97it/s]"
     ]
    },
    {
     "name": "stderr",
     "output_type": "stream",
     "text": [
      "\r",
      "loading hamiltonians:  34%|███▎      | 2214/6561 [00:30<00:57, 75.63it/s]"
     ]
    },
    {
     "name": "stderr",
     "output_type": "stream",
     "text": [
      "\r",
      "loading hamiltonians:  34%|███▍      | 2224/6561 [00:30<00:54, 79.65it/s]"
     ]
    },
    {
     "name": "stderr",
     "output_type": "stream",
     "text": [
      "\r",
      "loading hamiltonians:  34%|███▍      | 2233/6561 [00:30<00:55, 77.36it/s]"
     ]
    },
    {
     "name": "stderr",
     "output_type": "stream",
     "text": [
      "\r",
      "loading hamiltonians:  34%|███▍      | 2242/6561 [00:30<00:54, 79.06it/s]"
     ]
    },
    {
     "name": "stderr",
     "output_type": "stream",
     "text": [
      "\r",
      "loading hamiltonians:  34%|███▍      | 2251/6561 [00:30<00:55, 77.51it/s]"
     ]
    },
    {
     "name": "stderr",
     "output_type": "stream",
     "text": [
      "\r",
      "loading hamiltonians:  34%|███▍      | 2261/6561 [00:30<00:52, 81.61it/s]"
     ]
    },
    {
     "name": "stderr",
     "output_type": "stream",
     "text": [
      "\r",
      "loading hamiltonians:  35%|███▍      | 2270/6561 [00:30<00:52, 81.96it/s]"
     ]
    },
    {
     "name": "stderr",
     "output_type": "stream",
     "text": [
      "\r",
      "loading hamiltonians:  35%|███▍      | 2279/6561 [00:30<00:54, 79.19it/s]"
     ]
    },
    {
     "name": "stderr",
     "output_type": "stream",
     "text": [
      "\r",
      "loading hamiltonians:  35%|███▍      | 2288/6561 [00:30<00:56, 75.62it/s]"
     ]
    },
    {
     "name": "stderr",
     "output_type": "stream",
     "text": [
      "\r",
      "loading hamiltonians:  35%|███▍      | 2296/6561 [00:31<00:56, 75.39it/s]"
     ]
    },
    {
     "name": "stderr",
     "output_type": "stream",
     "text": [
      "\r",
      "loading hamiltonians:  35%|███▌      | 2304/6561 [00:31<00:59, 71.35it/s]"
     ]
    },
    {
     "name": "stderr",
     "output_type": "stream",
     "text": [
      "\r",
      "loading hamiltonians:  35%|███▌      | 2312/6561 [00:31<00:59, 70.88it/s]"
     ]
    },
    {
     "name": "stderr",
     "output_type": "stream",
     "text": [
      "\r",
      "loading hamiltonians:  35%|███▌      | 2320/6561 [00:31<00:59, 71.56it/s]"
     ]
    },
    {
     "name": "stderr",
     "output_type": "stream",
     "text": [
      "\r",
      "loading hamiltonians:  35%|███▌      | 2328/6561 [00:31<00:59, 71.19it/s]"
     ]
    },
    {
     "name": "stderr",
     "output_type": "stream",
     "text": [
      "\r",
      "loading hamiltonians:  36%|███▌      | 2336/6561 [00:31<00:57, 73.31it/s]"
     ]
    },
    {
     "name": "stderr",
     "output_type": "stream",
     "text": [
      "\r",
      "loading hamiltonians:  36%|███▌      | 2345/6561 [00:31<00:55, 75.41it/s]"
     ]
    },
    {
     "name": "stderr",
     "output_type": "stream",
     "text": [
      "\r",
      "loading hamiltonians:  36%|███▌      | 2355/6561 [00:31<00:51, 80.90it/s]"
     ]
    },
    {
     "name": "stderr",
     "output_type": "stream",
     "text": [
      "\r",
      "loading hamiltonians:  36%|███▌      | 2364/6561 [00:31<00:52, 80.32it/s]"
     ]
    },
    {
     "name": "stderr",
     "output_type": "stream",
     "text": [
      "\r",
      "loading hamiltonians:  36%|███▌      | 2373/6561 [00:32<00:52, 80.54it/s]"
     ]
    },
    {
     "name": "stderr",
     "output_type": "stream",
     "text": [
      "\r",
      "loading hamiltonians:  36%|███▋      | 2382/6561 [00:32<00:54, 76.44it/s]"
     ]
    },
    {
     "name": "stderr",
     "output_type": "stream",
     "text": [
      "\r",
      "loading hamiltonians:  36%|███▋      | 2390/6561 [00:32<00:54, 75.91it/s]"
     ]
    },
    {
     "name": "stderr",
     "output_type": "stream",
     "text": [
      "\r",
      "loading hamiltonians:  37%|███▋      | 2398/6561 [00:33<02:37, 26.43it/s]"
     ]
    },
    {
     "name": "stderr",
     "output_type": "stream",
     "text": [
      "\r",
      "loading hamiltonians:  37%|███▋      | 2405/6561 [00:33<02:09, 32.14it/s]"
     ]
    },
    {
     "name": "stderr",
     "output_type": "stream",
     "text": [
      "\r",
      "loading hamiltonians:  37%|███▋      | 2413/6561 [00:33<01:47, 38.75it/s]"
     ]
    },
    {
     "name": "stderr",
     "output_type": "stream",
     "text": [
      "\r",
      "loading hamiltonians:  37%|███▋      | 2424/6561 [00:33<01:26, 47.64it/s]"
     ]
    },
    {
     "name": "stderr",
     "output_type": "stream",
     "text": [
      "\r",
      "loading hamiltonians:  37%|███▋      | 2433/6561 [00:33<01:14, 55.18it/s]"
     ]
    },
    {
     "name": "stderr",
     "output_type": "stream",
     "text": [
      "\r",
      "loading hamiltonians:  37%|███▋      | 2441/6561 [00:33<01:08, 59.84it/s]"
     ]
    },
    {
     "name": "stderr",
     "output_type": "stream",
     "text": [
      "\r",
      "loading hamiltonians:  37%|███▋      | 2449/6561 [00:33<01:06, 62.06it/s]"
     ]
    },
    {
     "name": "stderr",
     "output_type": "stream",
     "text": [
      "\r",
      "loading hamiltonians:  37%|███▋      | 2457/6561 [00:33<01:02, 65.31it/s]"
     ]
    },
    {
     "name": "stderr",
     "output_type": "stream",
     "text": [
      "\r",
      "loading hamiltonians:  38%|███▊      | 2465/6561 [00:33<00:59, 68.85it/s]"
     ]
    },
    {
     "name": "stderr",
     "output_type": "stream",
     "text": [
      "\r",
      "loading hamiltonians:  38%|███▊      | 2475/6561 [00:34<00:55, 74.03it/s]"
     ]
    },
    {
     "name": "stderr",
     "output_type": "stream",
     "text": [
      "\r",
      "loading hamiltonians:  38%|███▊      | 2484/6561 [00:34<00:55, 73.57it/s]"
     ]
    },
    {
     "name": "stderr",
     "output_type": "stream",
     "text": [
      "\r",
      "loading hamiltonians:  38%|███▊      | 2493/6561 [00:34<00:52, 77.08it/s]"
     ]
    },
    {
     "name": "stderr",
     "output_type": "stream",
     "text": [
      "\r",
      "loading hamiltonians:  38%|███▊      | 2502/6561 [00:34<00:53, 76.27it/s]"
     ]
    },
    {
     "name": "stderr",
     "output_type": "stream",
     "text": [
      "\r",
      "loading hamiltonians:  38%|███▊      | 2510/6561 [00:34<00:56, 71.44it/s]"
     ]
    },
    {
     "name": "stderr",
     "output_type": "stream",
     "text": [
      "\r",
      "loading hamiltonians:  38%|███▊      | 2518/6561 [00:34<01:19, 51.03it/s]"
     ]
    },
    {
     "name": "stderr",
     "output_type": "stream",
     "text": [
      "\r",
      "loading hamiltonians:  38%|███▊      | 2525/6561 [00:35<01:36, 41.72it/s]"
     ]
    },
    {
     "name": "stderr",
     "output_type": "stream",
     "text": [
      "\r",
      "loading hamiltonians:  39%|███▊      | 2534/6561 [00:35<01:21, 49.53it/s]"
     ]
    },
    {
     "name": "stderr",
     "output_type": "stream",
     "text": [
      "\r",
      "loading hamiltonians:  39%|███▉      | 2545/6561 [00:35<01:07, 59.31it/s]"
     ]
    },
    {
     "name": "stderr",
     "output_type": "stream",
     "text": [
      "\r",
      "loading hamiltonians:  39%|███▉      | 2554/6561 [00:35<01:01, 65.05it/s]"
     ]
    },
    {
     "name": "stderr",
     "output_type": "stream",
     "text": [
      "\r",
      "loading hamiltonians:  39%|███▉      | 2562/6561 [00:35<00:59, 67.58it/s]"
     ]
    },
    {
     "name": "stderr",
     "output_type": "stream",
     "text": [
      "\r",
      "loading hamiltonians:  39%|███▉      | 2570/6561 [00:35<00:57, 68.98it/s]"
     ]
    },
    {
     "name": "stderr",
     "output_type": "stream",
     "text": [
      "\r",
      "loading hamiltonians:  39%|███▉      | 2580/6561 [00:35<00:53, 73.96it/s]"
     ]
    },
    {
     "name": "stderr",
     "output_type": "stream",
     "text": [
      "\r",
      "loading hamiltonians:  39%|███▉      | 2589/6561 [00:35<00:52, 76.09it/s]"
     ]
    },
    {
     "name": "stderr",
     "output_type": "stream",
     "text": [
      "\r",
      "loading hamiltonians:  40%|███▉      | 2598/6561 [00:35<00:53, 74.33it/s]"
     ]
    },
    {
     "name": "stderr",
     "output_type": "stream",
     "text": [
      "\r",
      "loading hamiltonians:  40%|███▉      | 2606/6561 [00:35<00:53, 74.54it/s]"
     ]
    },
    {
     "name": "stderr",
     "output_type": "stream",
     "text": [
      "\r",
      "loading hamiltonians:  40%|███▉      | 2616/6561 [00:36<00:50, 78.26it/s]"
     ]
    },
    {
     "name": "stderr",
     "output_type": "stream",
     "text": [
      "\r",
      "loading hamiltonians:  40%|████      | 2625/6561 [00:36<00:50, 77.77it/s]"
     ]
    },
    {
     "name": "stderr",
     "output_type": "stream",
     "text": [
      "\r",
      "loading hamiltonians:  40%|████      | 2633/6561 [00:36<00:51, 76.10it/s]"
     ]
    },
    {
     "name": "stderr",
     "output_type": "stream",
     "text": [
      "\r",
      "loading hamiltonians:  40%|████      | 2641/6561 [00:36<00:51, 75.48it/s]"
     ]
    },
    {
     "name": "stderr",
     "output_type": "stream",
     "text": [
      "\r",
      "loading hamiltonians:  40%|████      | 2650/6561 [00:36<00:50, 77.41it/s]"
     ]
    },
    {
     "name": "stderr",
     "output_type": "stream",
     "text": [
      "\r",
      "loading hamiltonians:  41%|████      | 2659/6561 [00:36<00:49, 78.87it/s]"
     ]
    },
    {
     "name": "stderr",
     "output_type": "stream",
     "text": [
      "\r",
      "loading hamiltonians:  41%|████      | 2668/6561 [00:36<00:48, 79.51it/s]"
     ]
    },
    {
     "name": "stderr",
     "output_type": "stream",
     "text": [
      "\r",
      "loading hamiltonians:  41%|████      | 2677/6561 [00:36<00:48, 80.64it/s]"
     ]
    },
    {
     "name": "stderr",
     "output_type": "stream",
     "text": [
      "\r",
      "loading hamiltonians:  41%|████      | 2686/6561 [00:36<00:47, 81.76it/s]"
     ]
    },
    {
     "name": "stderr",
     "output_type": "stream",
     "text": [
      "\r",
      "loading hamiltonians:  41%|████      | 2695/6561 [00:37<00:51, 74.96it/s]"
     ]
    },
    {
     "name": "stderr",
     "output_type": "stream",
     "text": [
      "\r",
      "loading hamiltonians:  41%|████      | 2705/6561 [00:37<00:48, 79.28it/s]"
     ]
    },
    {
     "name": "stderr",
     "output_type": "stream",
     "text": [
      "\r",
      "loading hamiltonians:  41%|████▏     | 2714/6561 [00:37<00:49, 78.45it/s]"
     ]
    },
    {
     "name": "stderr",
     "output_type": "stream",
     "text": [
      "\r",
      "loading hamiltonians:  41%|████▏     | 2722/6561 [00:37<00:51, 75.25it/s]"
     ]
    },
    {
     "name": "stderr",
     "output_type": "stream",
     "text": [
      "\r",
      "loading hamiltonians:  42%|████▏     | 2732/6561 [00:37<00:48, 79.19it/s]"
     ]
    },
    {
     "name": "stderr",
     "output_type": "stream",
     "text": [
      "\r",
      "loading hamiltonians:  42%|████▏     | 2741/6561 [00:37<00:46, 81.41it/s]"
     ]
    },
    {
     "name": "stderr",
     "output_type": "stream",
     "text": [
      "\r",
      "loading hamiltonians:  42%|████▏     | 2750/6561 [00:37<00:49, 76.59it/s]"
     ]
    },
    {
     "name": "stderr",
     "output_type": "stream",
     "text": [
      "\r",
      "loading hamiltonians:  42%|████▏     | 2759/6561 [00:37<00:47, 79.34it/s]"
     ]
    },
    {
     "name": "stderr",
     "output_type": "stream",
     "text": [
      "\r",
      "loading hamiltonians:  42%|████▏     | 2768/6561 [00:38<00:48, 77.47it/s]"
     ]
    },
    {
     "name": "stderr",
     "output_type": "stream",
     "text": [
      "\r",
      "loading hamiltonians:  42%|████▏     | 2779/6561 [00:38<00:45, 82.60it/s]"
     ]
    },
    {
     "name": "stderr",
     "output_type": "stream",
     "text": [
      "\r",
      "loading hamiltonians:  42%|████▏     | 2788/6561 [00:38<00:44, 83.94it/s]"
     ]
    },
    {
     "name": "stderr",
     "output_type": "stream",
     "text": [
      "\r",
      "loading hamiltonians:  43%|████▎     | 2797/6561 [00:38<00:44, 85.09it/s]"
     ]
    },
    {
     "name": "stderr",
     "output_type": "stream",
     "text": [
      "\r",
      "loading hamiltonians:  43%|████▎     | 2806/6561 [00:38<00:45, 81.78it/s]"
     ]
    },
    {
     "name": "stderr",
     "output_type": "stream",
     "text": [
      "\r",
      "loading hamiltonians:  43%|████▎     | 2815/6561 [00:38<00:49, 75.82it/s]"
     ]
    },
    {
     "name": "stderr",
     "output_type": "stream",
     "text": [
      "\r",
      "loading hamiltonians:  43%|████▎     | 2827/6561 [00:38<00:43, 85.03it/s]"
     ]
    },
    {
     "name": "stderr",
     "output_type": "stream",
     "text": [
      "\r",
      "loading hamiltonians:  43%|████▎     | 2837/6561 [00:38<00:42, 88.21it/s]"
     ]
    },
    {
     "name": "stderr",
     "output_type": "stream",
     "text": [
      "\r",
      "loading hamiltonians:  43%|████▎     | 2847/6561 [00:38<00:43, 84.64it/s]"
     ]
    },
    {
     "name": "stderr",
     "output_type": "stream",
     "text": [
      "\r",
      "loading hamiltonians:  44%|████▎     | 2857/6561 [00:39<00:41, 88.33it/s]"
     ]
    },
    {
     "name": "stderr",
     "output_type": "stream",
     "text": [
      "\r",
      "loading hamiltonians:  44%|████▎     | 2867/6561 [00:39<00:43, 85.54it/s]"
     ]
    },
    {
     "name": "stderr",
     "output_type": "stream",
     "text": [
      "\r",
      "loading hamiltonians:  44%|████▍     | 2876/6561 [00:39<00:44, 83.53it/s]"
     ]
    },
    {
     "name": "stderr",
     "output_type": "stream",
     "text": [
      "\r",
      "loading hamiltonians:  44%|████▍     | 2885/6561 [00:39<00:45, 81.53it/s]"
     ]
    },
    {
     "name": "stderr",
     "output_type": "stream",
     "text": [
      "\r",
      "loading hamiltonians:  44%|████▍     | 2894/6561 [00:39<00:45, 80.49it/s]"
     ]
    },
    {
     "name": "stderr",
     "output_type": "stream",
     "text": [
      "\r",
      "loading hamiltonians:  44%|████▍     | 2903/6561 [00:39<00:46, 79.30it/s]"
     ]
    },
    {
     "name": "stderr",
     "output_type": "stream",
     "text": [
      "\r",
      "loading hamiltonians:  44%|████▍     | 2911/6561 [00:39<00:50, 71.64it/s]"
     ]
    },
    {
     "name": "stderr",
     "output_type": "stream",
     "text": [
      "\r",
      "loading hamiltonians:  44%|████▍     | 2919/6561 [00:39<00:50, 72.38it/s]"
     ]
    },
    {
     "name": "stderr",
     "output_type": "stream",
     "text": [
      "\r",
      "loading hamiltonians:  45%|████▍     | 2927/6561 [00:40<00:57, 63.71it/s]"
     ]
    },
    {
     "name": "stderr",
     "output_type": "stream",
     "text": [
      "\r",
      "loading hamiltonians:  45%|████▍     | 2934/6561 [00:40<00:57, 63.20it/s]"
     ]
    },
    {
     "name": "stderr",
     "output_type": "stream",
     "text": [
      "\r",
      "loading hamiltonians:  45%|████▍     | 2942/6561 [00:40<00:55, 65.79it/s]"
     ]
    },
    {
     "name": "stderr",
     "output_type": "stream",
     "text": [
      "\r",
      "loading hamiltonians:  45%|████▍     | 2951/6561 [00:40<00:51, 70.61it/s]"
     ]
    },
    {
     "name": "stderr",
     "output_type": "stream",
     "text": [
      "\r",
      "loading hamiltonians:  45%|████▌     | 2959/6561 [00:40<00:49, 72.05it/s]"
     ]
    },
    {
     "name": "stderr",
     "output_type": "stream",
     "text": [
      "\r",
      "loading hamiltonians:  45%|████▌     | 2970/6561 [00:40<00:46, 77.53it/s]"
     ]
    },
    {
     "name": "stderr",
     "output_type": "stream",
     "text": [
      "\r",
      "loading hamiltonians:  45%|████▌     | 2979/6561 [00:40<00:45, 78.37it/s]"
     ]
    },
    {
     "name": "stderr",
     "output_type": "stream",
     "text": [
      "\r",
      "loading hamiltonians:  46%|████▌     | 2988/6561 [00:40<00:43, 81.48it/s]"
     ]
    },
    {
     "name": "stderr",
     "output_type": "stream",
     "text": [
      "\r",
      "loading hamiltonians:  46%|████▌     | 2997/6561 [00:40<00:46, 77.42it/s]"
     ]
    },
    {
     "name": "stderr",
     "output_type": "stream",
     "text": [
      "\r",
      "loading hamiltonians:  46%|████▌     | 3006/6561 [00:41<00:44, 80.03it/s]"
     ]
    },
    {
     "name": "stderr",
     "output_type": "stream",
     "text": [
      "\r",
      "loading hamiltonians:  46%|████▌     | 3015/6561 [00:41<00:43, 81.84it/s]"
     ]
    },
    {
     "name": "stderr",
     "output_type": "stream",
     "text": [
      "\r",
      "loading hamiltonians:  46%|████▌     | 3024/6561 [00:41<00:43, 80.47it/s]"
     ]
    },
    {
     "name": "stderr",
     "output_type": "stream",
     "text": [
      "\r",
      "loading hamiltonians:  46%|████▌     | 3033/6561 [00:41<00:44, 80.06it/s]"
     ]
    },
    {
     "name": "stderr",
     "output_type": "stream",
     "text": [
      "\r",
      "loading hamiltonians:  46%|████▋     | 3042/6561 [00:41<00:43, 80.78it/s]"
     ]
    },
    {
     "name": "stderr",
     "output_type": "stream",
     "text": [
      "\r",
      "loading hamiltonians:  47%|████▋     | 3051/6561 [00:41<00:45, 76.57it/s]"
     ]
    },
    {
     "name": "stderr",
     "output_type": "stream",
     "text": [
      "\r",
      "loading hamiltonians:  47%|████▋     | 3060/6561 [00:41<00:43, 80.09it/s]"
     ]
    },
    {
     "name": "stderr",
     "output_type": "stream",
     "text": [
      "\r",
      "loading hamiltonians:  47%|████▋     | 3069/6561 [00:41<00:44, 78.58it/s]"
     ]
    },
    {
     "name": "stderr",
     "output_type": "stream",
     "text": [
      "\r",
      "loading hamiltonians:  47%|████▋     | 3078/6561 [00:41<00:43, 80.06it/s]"
     ]
    },
    {
     "name": "stderr",
     "output_type": "stream",
     "text": [
      "\r",
      "loading hamiltonians:  47%|████▋     | 3088/6561 [00:42<00:41, 83.35it/s]"
     ]
    },
    {
     "name": "stderr",
     "output_type": "stream",
     "text": [
      "\r",
      "loading hamiltonians:  47%|████▋     | 3098/6561 [00:42<00:39, 86.58it/s]"
     ]
    },
    {
     "name": "stderr",
     "output_type": "stream",
     "text": [
      "\r",
      "loading hamiltonians:  47%|████▋     | 3108/6561 [00:42<00:38, 89.32it/s]"
     ]
    },
    {
     "name": "stderr",
     "output_type": "stream",
     "text": [
      "\r",
      "loading hamiltonians:  48%|████▊     | 3118/6561 [00:42<00:40, 84.61it/s]"
     ]
    },
    {
     "name": "stderr",
     "output_type": "stream",
     "text": [
      "\r",
      "loading hamiltonians:  48%|████▊     | 3127/6561 [00:42<00:42, 80.30it/s]"
     ]
    },
    {
     "name": "stderr",
     "output_type": "stream",
     "text": [
      "\r",
      "loading hamiltonians:  48%|████▊     | 3136/6561 [00:42<00:41, 82.27it/s]"
     ]
    },
    {
     "name": "stderr",
     "output_type": "stream",
     "text": [
      "\r",
      "loading hamiltonians:  48%|████▊     | 3145/6561 [00:42<00:40, 83.74it/s]"
     ]
    },
    {
     "name": "stderr",
     "output_type": "stream",
     "text": [
      "\r",
      "loading hamiltonians:  48%|████▊     | 3154/6561 [00:42<00:42, 80.64it/s]"
     ]
    },
    {
     "name": "stderr",
     "output_type": "stream",
     "text": [
      "\r",
      "loading hamiltonians:  48%|████▊     | 3163/6561 [00:42<00:41, 81.16it/s]"
     ]
    },
    {
     "name": "stderr",
     "output_type": "stream",
     "text": [
      "\r",
      "loading hamiltonians:  48%|████▊     | 3172/6561 [00:43<00:42, 79.88it/s]"
     ]
    },
    {
     "name": "stderr",
     "output_type": "stream",
     "text": [
      "\r",
      "loading hamiltonians:  48%|████▊     | 3181/6561 [00:44<02:16, 24.76it/s]"
     ]
    },
    {
     "name": "stderr",
     "output_type": "stream",
     "text": [
      "\r",
      "loading hamiltonians:  49%|████▊     | 3189/6561 [00:44<01:49, 30.66it/s]"
     ]
    },
    {
     "name": "stderr",
     "output_type": "stream",
     "text": [
      "\r",
      "loading hamiltonians:  49%|████▊     | 3196/6561 [00:44<01:32, 36.57it/s]"
     ]
    },
    {
     "name": "stderr",
     "output_type": "stream",
     "text": [
      "\r",
      "loading hamiltonians:  49%|████▉     | 3204/6561 [00:44<01:17, 43.52it/s]"
     ]
    },
    {
     "name": "stderr",
     "output_type": "stream",
     "text": [
      "\r",
      "loading hamiltonians:  49%|████▉     | 3211/6561 [00:44<01:08, 48.67it/s]"
     ]
    },
    {
     "name": "stderr",
     "output_type": "stream",
     "text": [
      "\r",
      "loading hamiltonians:  49%|████▉     | 3219/6561 [00:44<01:01, 54.72it/s]"
     ]
    },
    {
     "name": "stderr",
     "output_type": "stream",
     "text": [
      "\r",
      "loading hamiltonians:  49%|████▉     | 3228/6561 [00:44<00:54, 61.25it/s]"
     ]
    },
    {
     "name": "stderr",
     "output_type": "stream",
     "text": [
      "\r",
      "loading hamiltonians:  49%|████▉     | 3236/6561 [00:44<00:54, 60.89it/s]"
     ]
    },
    {
     "name": "stderr",
     "output_type": "stream",
     "text": [
      "\r",
      "loading hamiltonians:  49%|████▉     | 3244/6561 [00:44<00:50, 65.13it/s]"
     ]
    },
    {
     "name": "stderr",
     "output_type": "stream",
     "text": [
      "\r",
      "loading hamiltonians:  50%|████▉     | 3252/6561 [00:45<01:00, 54.55it/s]"
     ]
    },
    {
     "name": "stderr",
     "output_type": "stream",
     "text": [
      "\r",
      "loading hamiltonians:  50%|████▉     | 3262/6561 [00:45<00:53, 61.25it/s]"
     ]
    },
    {
     "name": "stderr",
     "output_type": "stream",
     "text": [
      "\r",
      "loading hamiltonians:  50%|████▉     | 3270/6561 [00:45<00:51, 64.01it/s]"
     ]
    },
    {
     "name": "stderr",
     "output_type": "stream",
     "text": [
      "\r",
      "loading hamiltonians:  50%|████▉     | 3280/6561 [00:45<00:46, 70.71it/s]"
     ]
    },
    {
     "name": "stderr",
     "output_type": "stream",
     "text": [
      "\r",
      "loading hamiltonians:  50%|█████     | 3288/6561 [00:45<00:46, 70.45it/s]"
     ]
    },
    {
     "name": "stderr",
     "output_type": "stream",
     "text": [
      "\r",
      "loading hamiltonians:  50%|█████     | 3296/6561 [00:45<00:46, 69.68it/s]"
     ]
    },
    {
     "name": "stderr",
     "output_type": "stream",
     "text": [
      "\r",
      "loading hamiltonians:  50%|█████     | 3304/6561 [00:45<00:45, 71.70it/s]"
     ]
    },
    {
     "name": "stderr",
     "output_type": "stream",
     "text": [
      "\r",
      "loading hamiltonians:  50%|█████     | 3312/6561 [00:45<00:45, 71.85it/s]"
     ]
    },
    {
     "name": "stderr",
     "output_type": "stream",
     "text": [
      "\r",
      "loading hamiltonians:  51%|█████     | 3320/6561 [00:46<00:47, 68.83it/s]"
     ]
    },
    {
     "name": "stderr",
     "output_type": "stream",
     "text": [
      "\r",
      "loading hamiltonians:  51%|█████     | 3330/6561 [00:46<00:43, 74.47it/s]"
     ]
    },
    {
     "name": "stderr",
     "output_type": "stream",
     "text": [
      "\r",
      "loading hamiltonians:  51%|█████     | 3340/6561 [00:46<00:40, 80.14it/s]"
     ]
    },
    {
     "name": "stderr",
     "output_type": "stream",
     "text": [
      "\r",
      "loading hamiltonians:  51%|█████     | 3349/6561 [00:46<00:39, 82.14it/s]"
     ]
    },
    {
     "name": "stderr",
     "output_type": "stream",
     "text": [
      "\r",
      "loading hamiltonians:  51%|█████     | 3358/6561 [00:46<00:39, 80.24it/s]"
     ]
    },
    {
     "name": "stderr",
     "output_type": "stream",
     "text": [
      "\r",
      "loading hamiltonians:  51%|█████▏    | 3367/6561 [00:46<00:40, 78.08it/s]"
     ]
    },
    {
     "name": "stderr",
     "output_type": "stream",
     "text": [
      "\r",
      "loading hamiltonians:  51%|█████▏    | 3375/6561 [00:46<00:43, 73.99it/s]"
     ]
    },
    {
     "name": "stderr",
     "output_type": "stream",
     "text": [
      "\r",
      "loading hamiltonians:  52%|█████▏    | 3383/6561 [00:46<01:04, 49.23it/s]"
     ]
    },
    {
     "name": "stderr",
     "output_type": "stream",
     "text": [
      "\r",
      "loading hamiltonians:  52%|█████▏    | 3390/6561 [00:47<00:59, 53.69it/s]"
     ]
    },
    {
     "name": "stderr",
     "output_type": "stream",
     "text": [
      "\r",
      "loading hamiltonians:  52%|█████▏    | 3399/6561 [00:47<00:52, 60.73it/s]"
     ]
    },
    {
     "name": "stderr",
     "output_type": "stream",
     "text": [
      "\r",
      "loading hamiltonians:  52%|█████▏    | 3407/6561 [00:47<00:49, 63.15it/s]"
     ]
    },
    {
     "name": "stderr",
     "output_type": "stream",
     "text": [
      "\r",
      "loading hamiltonians:  52%|█████▏    | 3415/6561 [00:47<00:47, 65.66it/s]"
     ]
    },
    {
     "name": "stderr",
     "output_type": "stream",
     "text": [
      "\r",
      "loading hamiltonians:  52%|█████▏    | 3426/6561 [00:47<00:42, 73.60it/s]"
     ]
    },
    {
     "name": "stderr",
     "output_type": "stream",
     "text": [
      "\r",
      "loading hamiltonians:  52%|█████▏    | 3435/6561 [00:47<00:41, 75.15it/s]"
     ]
    },
    {
     "name": "stderr",
     "output_type": "stream",
     "text": [
      "\r",
      "loading hamiltonians:  52%|█████▏    | 3443/6561 [00:47<00:42, 73.01it/s]"
     ]
    },
    {
     "name": "stderr",
     "output_type": "stream",
     "text": [
      "\r",
      "loading hamiltonians:  53%|█████▎    | 3452/6561 [00:47<00:41, 75.26it/s]"
     ]
    },
    {
     "name": "stderr",
     "output_type": "stream",
     "text": [
      "\r",
      "loading hamiltonians:  53%|█████▎    | 3460/6561 [00:47<00:41, 75.59it/s]"
     ]
    },
    {
     "name": "stderr",
     "output_type": "stream",
     "text": [
      "\r",
      "loading hamiltonians:  53%|█████▎    | 3468/6561 [00:48<00:42, 72.90it/s]"
     ]
    },
    {
     "name": "stderr",
     "output_type": "stream",
     "text": [
      "\r",
      "loading hamiltonians:  53%|█████▎    | 3476/6561 [00:48<00:42, 72.29it/s]"
     ]
    },
    {
     "name": "stderr",
     "output_type": "stream",
     "text": [
      "\r",
      "loading hamiltonians:  53%|█████▎    | 3485/6561 [00:48<00:40, 75.07it/s]"
     ]
    },
    {
     "name": "stderr",
     "output_type": "stream",
     "text": [
      "\r",
      "loading hamiltonians:  53%|█████▎    | 3493/6561 [00:48<00:42, 72.20it/s]"
     ]
    },
    {
     "name": "stderr",
     "output_type": "stream",
     "text": [
      "\r",
      "loading hamiltonians:  53%|█████▎    | 3501/6561 [00:48<00:43, 71.05it/s]"
     ]
    },
    {
     "name": "stderr",
     "output_type": "stream",
     "text": [
      "\r",
      "loading hamiltonians:  53%|█████▎    | 3509/6561 [00:48<00:43, 70.52it/s]"
     ]
    },
    {
     "name": "stderr",
     "output_type": "stream",
     "text": [
      "\r",
      "loading hamiltonians:  54%|█████▎    | 3517/6561 [00:48<00:43, 70.15it/s]"
     ]
    },
    {
     "name": "stderr",
     "output_type": "stream",
     "text": [
      "\r",
      "loading hamiltonians:  54%|█████▎    | 3526/6561 [00:48<00:40, 74.81it/s]"
     ]
    },
    {
     "name": "stderr",
     "output_type": "stream",
     "text": [
      "\r",
      "loading hamiltonians:  54%|█████▍    | 3534/6561 [00:48<00:40, 74.95it/s]"
     ]
    },
    {
     "name": "stderr",
     "output_type": "stream",
     "text": [
      "\r",
      "loading hamiltonians:  54%|█████▍    | 3542/6561 [00:49<00:43, 70.15it/s]"
     ]
    },
    {
     "name": "stderr",
     "output_type": "stream",
     "text": [
      "\r",
      "loading hamiltonians:  54%|█████▍    | 3550/6561 [00:49<00:42, 70.43it/s]"
     ]
    },
    {
     "name": "stderr",
     "output_type": "stream",
     "text": [
      "\r",
      "loading hamiltonians:  54%|█████▍    | 3558/6561 [00:49<00:41, 72.11it/s]"
     ]
    },
    {
     "name": "stderr",
     "output_type": "stream",
     "text": [
      "\r",
      "loading hamiltonians:  54%|█████▍    | 3567/6561 [00:49<00:39, 75.86it/s]"
     ]
    },
    {
     "name": "stderr",
     "output_type": "stream",
     "text": [
      "\r",
      "loading hamiltonians:  55%|█████▍    | 3577/6561 [00:49<00:37, 79.55it/s]"
     ]
    },
    {
     "name": "stderr",
     "output_type": "stream",
     "text": [
      "\r",
      "loading hamiltonians:  55%|█████▍    | 3587/6561 [00:49<00:35, 83.40it/s]"
     ]
    },
    {
     "name": "stderr",
     "output_type": "stream",
     "text": [
      "\r",
      "loading hamiltonians:  55%|█████▍    | 3596/6561 [00:49<00:37, 78.50it/s]"
     ]
    },
    {
     "name": "stderr",
     "output_type": "stream",
     "text": [
      "\r",
      "loading hamiltonians:  55%|█████▍    | 3606/6561 [00:49<00:35, 82.34it/s]"
     ]
    },
    {
     "name": "stderr",
     "output_type": "stream",
     "text": [
      "\r",
      "loading hamiltonians:  55%|█████▌    | 3615/6561 [00:50<00:36, 81.15it/s]"
     ]
    },
    {
     "name": "stderr",
     "output_type": "stream",
     "text": [
      "\r",
      "loading hamiltonians:  55%|█████▌    | 3624/6561 [00:50<00:36, 80.21it/s]"
     ]
    },
    {
     "name": "stderr",
     "output_type": "stream",
     "text": [
      "\r",
      "loading hamiltonians:  55%|█████▌    | 3633/6561 [00:50<00:36, 79.22it/s]"
     ]
    },
    {
     "name": "stderr",
     "output_type": "stream",
     "text": [
      "\r",
      "loading hamiltonians:  55%|█████▌    | 3641/6561 [00:50<00:38, 76.23it/s]"
     ]
    },
    {
     "name": "stderr",
     "output_type": "stream",
     "text": [
      "\r",
      "loading hamiltonians:  56%|█████▌    | 3649/6561 [00:50<00:39, 74.26it/s]"
     ]
    },
    {
     "name": "stderr",
     "output_type": "stream",
     "text": [
      "\r",
      "loading hamiltonians:  56%|█████▌    | 3657/6561 [00:50<00:40, 71.83it/s]"
     ]
    },
    {
     "name": "stderr",
     "output_type": "stream",
     "text": [
      "\r",
      "loading hamiltonians:  56%|█████▌    | 3669/6561 [00:50<00:35, 80.85it/s]"
     ]
    },
    {
     "name": "stderr",
     "output_type": "stream",
     "text": [
      "\r",
      "loading hamiltonians:  56%|█████▌    | 3678/6561 [00:50<00:36, 79.34it/s]"
     ]
    },
    {
     "name": "stderr",
     "output_type": "stream",
     "text": [
      "\r",
      "loading hamiltonians:  56%|█████▌    | 3687/6561 [00:50<00:37, 76.72it/s]"
     ]
    },
    {
     "name": "stderr",
     "output_type": "stream",
     "text": [
      "\r",
      "loading hamiltonians:  56%|█████▋    | 3695/6561 [00:51<00:39, 73.14it/s]"
     ]
    },
    {
     "name": "stderr",
     "output_type": "stream",
     "text": [
      "\r",
      "loading hamiltonians:  56%|█████▋    | 3703/6561 [00:51<00:39, 73.25it/s]"
     ]
    },
    {
     "name": "stderr",
     "output_type": "stream",
     "text": [
      "\r",
      "loading hamiltonians:  57%|█████▋    | 3711/6561 [00:51<00:38, 73.45it/s]"
     ]
    },
    {
     "name": "stderr",
     "output_type": "stream",
     "text": [
      "\r",
      "loading hamiltonians:  57%|█████▋    | 3719/6561 [00:51<00:39, 72.61it/s]"
     ]
    },
    {
     "name": "stderr",
     "output_type": "stream",
     "text": [
      "\r",
      "loading hamiltonians:  57%|█████▋    | 3728/6561 [00:51<00:37, 76.13it/s]"
     ]
    },
    {
     "name": "stderr",
     "output_type": "stream",
     "text": [
      "\r",
      "loading hamiltonians:  57%|█████▋    | 3737/6561 [00:51<00:35, 79.16it/s]"
     ]
    },
    {
     "name": "stderr",
     "output_type": "stream",
     "text": [
      "\r",
      "loading hamiltonians:  57%|█████▋    | 3746/6561 [00:51<00:35, 78.79it/s]"
     ]
    },
    {
     "name": "stderr",
     "output_type": "stream",
     "text": [
      "\r",
      "loading hamiltonians:  57%|█████▋    | 3754/6561 [00:51<00:37, 75.84it/s]"
     ]
    },
    {
     "name": "stderr",
     "output_type": "stream",
     "text": [
      "\r",
      "loading hamiltonians:  57%|█████▋    | 3762/6561 [00:51<00:43, 64.09it/s]"
     ]
    },
    {
     "name": "stderr",
     "output_type": "stream",
     "text": [
      "\r",
      "loading hamiltonians:  57%|█████▋    | 3772/6561 [00:52<00:39, 70.10it/s]"
     ]
    },
    {
     "name": "stderr",
     "output_type": "stream",
     "text": [
      "\r",
      "loading hamiltonians:  58%|█████▊    | 3780/6561 [00:52<00:38, 71.89it/s]"
     ]
    },
    {
     "name": "stderr",
     "output_type": "stream",
     "text": [
      "\r",
      "loading hamiltonians:  58%|█████▊    | 3791/6561 [00:52<00:34, 79.31it/s]"
     ]
    },
    {
     "name": "stderr",
     "output_type": "stream",
     "text": [
      "\r",
      "loading hamiltonians:  58%|█████▊    | 3802/6561 [00:52<00:32, 85.19it/s]"
     ]
    },
    {
     "name": "stderr",
     "output_type": "stream",
     "text": [
      "\r",
      "loading hamiltonians:  58%|█████▊    | 3811/6561 [00:52<00:32, 83.43it/s]"
     ]
    },
    {
     "name": "stderr",
     "output_type": "stream",
     "text": [
      "\r",
      "loading hamiltonians:  58%|█████▊    | 3820/6561 [00:52<00:33, 81.33it/s]"
     ]
    },
    {
     "name": "stderr",
     "output_type": "stream",
     "text": [
      "\r",
      "loading hamiltonians:  58%|█████▊    | 3829/6561 [00:52<00:33, 81.47it/s]"
     ]
    },
    {
     "name": "stderr",
     "output_type": "stream",
     "text": [
      "\r",
      "loading hamiltonians:  58%|█████▊    | 3838/6561 [00:52<00:35, 75.76it/s]"
     ]
    },
    {
     "name": "stderr",
     "output_type": "stream",
     "text": [
      "\r",
      "loading hamiltonians:  59%|█████▊    | 3847/6561 [00:53<00:34, 78.43it/s]"
     ]
    },
    {
     "name": "stderr",
     "output_type": "stream",
     "text": [
      "\r",
      "loading hamiltonians:  59%|█████▉    | 3856/6561 [00:53<00:35, 75.21it/s]"
     ]
    },
    {
     "name": "stderr",
     "output_type": "stream",
     "text": [
      "\r",
      "loading hamiltonians:  59%|█████▉    | 3864/6561 [00:53<00:36, 74.38it/s]"
     ]
    },
    {
     "name": "stderr",
     "output_type": "stream",
     "text": [
      "\r",
      "loading hamiltonians:  59%|█████▉    | 3872/6561 [00:53<00:37, 71.98it/s]"
     ]
    },
    {
     "name": "stderr",
     "output_type": "stream",
     "text": [
      "\r",
      "loading hamiltonians:  59%|█████▉    | 3880/6561 [00:53<00:36, 72.85it/s]"
     ]
    },
    {
     "name": "stderr",
     "output_type": "stream",
     "text": [
      "\r",
      "loading hamiltonians:  59%|█████▉    | 3890/6561 [00:53<00:33, 78.87it/s]"
     ]
    },
    {
     "name": "stderr",
     "output_type": "stream",
     "text": [
      "\r",
      "loading hamiltonians:  59%|█████▉    | 3899/6561 [00:53<00:34, 76.60it/s]"
     ]
    },
    {
     "name": "stderr",
     "output_type": "stream",
     "text": [
      "\r",
      "loading hamiltonians:  60%|█████▉    | 3907/6561 [00:53<00:34, 77.34it/s]"
     ]
    },
    {
     "name": "stderr",
     "output_type": "stream",
     "text": [
      "\r",
      "loading hamiltonians:  60%|█████▉    | 3915/6561 [00:53<00:36, 72.79it/s]"
     ]
    },
    {
     "name": "stderr",
     "output_type": "stream",
     "text": [
      "\r",
      "loading hamiltonians:  60%|█████▉    | 3923/6561 [00:54<00:36, 71.57it/s]"
     ]
    },
    {
     "name": "stderr",
     "output_type": "stream",
     "text": [
      "\r",
      "loading hamiltonians:  60%|█████▉    | 3931/6561 [00:54<00:38, 67.89it/s]"
     ]
    },
    {
     "name": "stderr",
     "output_type": "stream",
     "text": [
      "\r",
      "loading hamiltonians:  60%|██████    | 3939/6561 [00:54<00:38, 68.55it/s]"
     ]
    },
    {
     "name": "stderr",
     "output_type": "stream",
     "text": [
      "\r",
      "loading hamiltonians:  60%|██████    | 3948/6561 [00:54<00:35, 73.26it/s]"
     ]
    },
    {
     "name": "stderr",
     "output_type": "stream",
     "text": [
      "\r",
      "loading hamiltonians:  60%|██████    | 3956/6561 [00:54<00:35, 74.24it/s]"
     ]
    },
    {
     "name": "stderr",
     "output_type": "stream",
     "text": [
      "\r",
      "loading hamiltonians:  60%|██████    | 3965/6561 [00:54<00:33, 77.96it/s]"
     ]
    },
    {
     "name": "stderr",
     "output_type": "stream",
     "text": [
      "\r",
      "loading hamiltonians:  61%|██████    | 3974/6561 [00:54<00:31, 80.97it/s]"
     ]
    },
    {
     "name": "stderr",
     "output_type": "stream",
     "text": [
      "\r",
      "loading hamiltonians:  61%|██████    | 3983/6561 [00:54<00:33, 77.15it/s]"
     ]
    },
    {
     "name": "stderr",
     "output_type": "stream",
     "text": [
      "\r",
      "loading hamiltonians:  61%|██████    | 3992/6561 [00:54<00:32, 78.29it/s]"
     ]
    },
    {
     "name": "stderr",
     "output_type": "stream",
     "text": [
      "\r",
      "loading hamiltonians:  61%|██████    | 4001/6561 [00:55<00:31, 80.50it/s]"
     ]
    },
    {
     "name": "stderr",
     "output_type": "stream",
     "text": [
      "\r",
      "loading hamiltonians:  61%|██████    | 4010/6561 [00:55<00:31, 79.74it/s]"
     ]
    },
    {
     "name": "stderr",
     "output_type": "stream",
     "text": [
      "\r",
      "loading hamiltonians:  61%|██████▏   | 4019/6561 [00:55<00:44, 57.17it/s]"
     ]
    },
    {
     "name": "stderr",
     "output_type": "stream",
     "text": [
      "\r",
      "loading hamiltonians:  61%|██████▏   | 4030/6561 [00:55<00:38, 65.49it/s]"
     ]
    },
    {
     "name": "stderr",
     "output_type": "stream",
     "text": [
      "\r",
      "loading hamiltonians:  62%|██████▏   | 4038/6561 [00:55<00:36, 68.85it/s]"
     ]
    },
    {
     "name": "stderr",
     "output_type": "stream",
     "text": [
      "\r",
      "loading hamiltonians:  62%|██████▏   | 4046/6561 [00:55<00:47, 53.01it/s]"
     ]
    },
    {
     "name": "stderr",
     "output_type": "stream",
     "text": [
      "\r",
      "loading hamiltonians:  62%|██████▏   | 4054/6561 [00:55<00:42, 58.97it/s]"
     ]
    },
    {
     "name": "stderr",
     "output_type": "stream",
     "text": [
      "\r",
      "loading hamiltonians:  62%|██████▏   | 4061/6561 [00:56<00:41, 60.37it/s]"
     ]
    },
    {
     "name": "stderr",
     "output_type": "stream",
     "text": [
      "\r",
      "loading hamiltonians:  62%|██████▏   | 4068/6561 [00:56<00:40, 62.03it/s]"
     ]
    },
    {
     "name": "stderr",
     "output_type": "stream",
     "text": [
      "\r",
      "loading hamiltonians:  62%|██████▏   | 4075/6561 [00:56<00:39, 63.23it/s]"
     ]
    },
    {
     "name": "stderr",
     "output_type": "stream",
     "text": [
      "\r",
      "loading hamiltonians:  62%|██████▏   | 4084/6561 [00:56<00:35, 69.22it/s]"
     ]
    },
    {
     "name": "stderr",
     "output_type": "stream",
     "text": [
      "\r",
      "loading hamiltonians:  62%|██████▏   | 4092/6561 [00:56<00:35, 68.79it/s]"
     ]
    },
    {
     "name": "stderr",
     "output_type": "stream",
     "text": [
      "\r",
      "loading hamiltonians:  62%|██████▏   | 4100/6561 [00:56<00:35, 69.37it/s]"
     ]
    },
    {
     "name": "stderr",
     "output_type": "stream",
     "text": [
      "\r",
      "loading hamiltonians:  63%|██████▎   | 4108/6561 [00:56<00:34, 71.45it/s]"
     ]
    },
    {
     "name": "stderr",
     "output_type": "stream",
     "text": [
      "\r",
      "loading hamiltonians:  63%|██████▎   | 4118/6561 [00:56<00:31, 76.66it/s]"
     ]
    },
    {
     "name": "stderr",
     "output_type": "stream",
     "text": [
      "\r",
      "loading hamiltonians:  63%|██████▎   | 4126/6561 [00:57<00:40, 60.83it/s]"
     ]
    },
    {
     "name": "stderr",
     "output_type": "stream",
     "text": [
      "\r",
      "loading hamiltonians:  63%|██████▎   | 4134/6561 [00:57<00:37, 65.52it/s]"
     ]
    },
    {
     "name": "stderr",
     "output_type": "stream",
     "text": [
      "\r",
      "loading hamiltonians:  63%|██████▎   | 4142/6561 [00:57<00:35, 68.94it/s]"
     ]
    },
    {
     "name": "stderr",
     "output_type": "stream",
     "text": [
      "\r",
      "loading hamiltonians:  63%|██████▎   | 4152/6561 [00:57<00:31, 75.56it/s]"
     ]
    },
    {
     "name": "stderr",
     "output_type": "stream",
     "text": [
      "\r",
      "loading hamiltonians:  63%|██████▎   | 4161/6561 [00:57<00:31, 76.24it/s]"
     ]
    },
    {
     "name": "stderr",
     "output_type": "stream",
     "text": [
      "\r",
      "loading hamiltonians:  64%|██████▎   | 4169/6561 [00:57<00:31, 76.04it/s]"
     ]
    },
    {
     "name": "stderr",
     "output_type": "stream",
     "text": [
      "\r",
      "loading hamiltonians:  64%|██████▎   | 4178/6561 [00:57<00:30, 79.36it/s]"
     ]
    },
    {
     "name": "stderr",
     "output_type": "stream",
     "text": [
      "\r",
      "loading hamiltonians:  64%|██████▍   | 4187/6561 [00:57<00:29, 81.36it/s]"
     ]
    },
    {
     "name": "stderr",
     "output_type": "stream",
     "text": [
      "\r",
      "loading hamiltonians:  64%|██████▍   | 4196/6561 [00:57<00:30, 78.42it/s]"
     ]
    },
    {
     "name": "stderr",
     "output_type": "stream",
     "text": [
      "\r",
      "loading hamiltonians:  64%|██████▍   | 4204/6561 [00:59<02:02, 19.17it/s]"
     ]
    },
    {
     "name": "stderr",
     "output_type": "stream",
     "text": [
      "\r",
      "loading hamiltonians:  64%|██████▍   | 4214/6561 [00:59<01:33, 25.18it/s]"
     ]
    },
    {
     "name": "stderr",
     "output_type": "stream",
     "text": [
      "\r",
      "loading hamiltonians:  64%|██████▍   | 4223/6561 [00:59<01:12, 32.07it/s]"
     ]
    },
    {
     "name": "stderr",
     "output_type": "stream",
     "text": [
      "\r",
      "loading hamiltonians:  64%|██████▍   | 4231/6561 [00:59<01:01, 38.14it/s]"
     ]
    },
    {
     "name": "stderr",
     "output_type": "stream",
     "text": [
      "\r",
      "loading hamiltonians:  65%|██████▍   | 4239/6561 [00:59<00:51, 44.94it/s]"
     ]
    },
    {
     "name": "stderr",
     "output_type": "stream",
     "text": [
      "\r",
      "loading hamiltonians:  65%|██████▍   | 4247/6561 [00:59<00:45, 51.41it/s]"
     ]
    },
    {
     "name": "stderr",
     "output_type": "stream",
     "text": [
      "\r",
      "loading hamiltonians:  65%|██████▍   | 4255/6561 [00:59<00:41, 56.23it/s]"
     ]
    },
    {
     "name": "stderr",
     "output_type": "stream",
     "text": [
      "\r",
      "loading hamiltonians:  65%|██████▍   | 4263/6561 [00:59<00:38, 59.34it/s]"
     ]
    },
    {
     "name": "stderr",
     "output_type": "stream",
     "text": [
      "\r",
      "loading hamiltonians:  65%|██████▌   | 4273/6561 [00:59<00:34, 66.42it/s]"
     ]
    },
    {
     "name": "stderr",
     "output_type": "stream",
     "text": [
      "\r",
      "loading hamiltonians:  65%|██████▌   | 4281/6561 [01:00<00:34, 65.96it/s]"
     ]
    },
    {
     "name": "stderr",
     "output_type": "stream",
     "text": [
      "\r",
      "loading hamiltonians:  65%|██████▌   | 4292/6561 [01:00<00:30, 74.72it/s]"
     ]
    },
    {
     "name": "stderr",
     "output_type": "stream",
     "text": [
      "\r",
      "loading hamiltonians:  66%|██████▌   | 4301/6561 [01:00<00:29, 76.37it/s]"
     ]
    },
    {
     "name": "stderr",
     "output_type": "stream",
     "text": [
      "\r",
      "loading hamiltonians:  66%|██████▌   | 4310/6561 [01:00<00:29, 75.08it/s]"
     ]
    },
    {
     "name": "stderr",
     "output_type": "stream",
     "text": [
      "\r",
      "loading hamiltonians:  66%|██████▌   | 4318/6561 [01:00<00:29, 74.85it/s]"
     ]
    },
    {
     "name": "stderr",
     "output_type": "stream",
     "text": [
      "\r",
      "loading hamiltonians:  66%|██████▌   | 4326/6561 [01:00<00:32, 69.73it/s]"
     ]
    },
    {
     "name": "stderr",
     "output_type": "stream",
     "text": [
      "\r",
      "loading hamiltonians:  66%|██████▌   | 4334/6561 [01:00<00:31, 71.37it/s]"
     ]
    },
    {
     "name": "stderr",
     "output_type": "stream",
     "text": [
      "\r",
      "loading hamiltonians:  66%|██████▌   | 4344/6561 [01:00<00:29, 75.79it/s]"
     ]
    },
    {
     "name": "stderr",
     "output_type": "stream",
     "text": [
      "\r",
      "loading hamiltonians:  66%|██████▋   | 4354/6561 [01:00<00:27, 79.13it/s]"
     ]
    },
    {
     "name": "stderr",
     "output_type": "stream",
     "text": [
      "\r",
      "loading hamiltonians:  66%|██████▋   | 4363/6561 [01:01<00:27, 78.51it/s]"
     ]
    },
    {
     "name": "stderr",
     "output_type": "stream",
     "text": [
      "\r",
      "loading hamiltonians:  67%|██████▋   | 4373/6561 [01:01<00:26, 82.67it/s]"
     ]
    },
    {
     "name": "stderr",
     "output_type": "stream",
     "text": [
      "\r",
      "loading hamiltonians:  67%|██████▋   | 4382/6561 [01:01<00:28, 77.71it/s]"
     ]
    },
    {
     "name": "stderr",
     "output_type": "stream",
     "text": [
      "\r",
      "loading hamiltonians:  67%|██████▋   | 4391/6561 [01:01<00:27, 80.33it/s]"
     ]
    },
    {
     "name": "stderr",
     "output_type": "stream",
     "text": [
      "\r",
      "loading hamiltonians:  67%|██████▋   | 4400/6561 [01:01<00:26, 81.42it/s]"
     ]
    },
    {
     "name": "stderr",
     "output_type": "stream",
     "text": [
      "\r",
      "loading hamiltonians:  67%|██████▋   | 4409/6561 [01:01<00:27, 79.43it/s]"
     ]
    },
    {
     "name": "stderr",
     "output_type": "stream",
     "text": [
      "\r",
      "loading hamiltonians:  67%|██████▋   | 4419/6561 [01:01<00:26, 81.94it/s]"
     ]
    },
    {
     "name": "stderr",
     "output_type": "stream",
     "text": [
      "\r",
      "loading hamiltonians:  67%|██████▋   | 4428/6561 [01:01<00:26, 81.84it/s]"
     ]
    },
    {
     "name": "stderr",
     "output_type": "stream",
     "text": [
      "\r",
      "loading hamiltonians:  68%|██████▊   | 4438/6561 [01:01<00:25, 83.54it/s]"
     ]
    },
    {
     "name": "stderr",
     "output_type": "stream",
     "text": [
      "\r",
      "loading hamiltonians:  68%|██████▊   | 4447/6561 [01:02<00:32, 64.30it/s]"
     ]
    },
    {
     "name": "stderr",
     "output_type": "stream",
     "text": [
      "\r",
      "loading hamiltonians:  68%|██████▊   | 4455/6561 [01:02<00:32, 65.59it/s]"
     ]
    },
    {
     "name": "stderr",
     "output_type": "stream",
     "text": [
      "\r",
      "loading hamiltonians:  68%|██████▊   | 4463/6561 [01:02<00:30, 68.87it/s]"
     ]
    },
    {
     "name": "stderr",
     "output_type": "stream",
     "text": [
      "\r",
      "loading hamiltonians:  68%|██████▊   | 4472/6561 [01:02<00:28, 73.27it/s]"
     ]
    },
    {
     "name": "stderr",
     "output_type": "stream",
     "text": [
      "\r",
      "loading hamiltonians:  68%|██████▊   | 4481/6561 [01:02<00:27, 76.79it/s]"
     ]
    },
    {
     "name": "stderr",
     "output_type": "stream",
     "text": [
      "\r",
      "loading hamiltonians:  68%|██████▊   | 4489/6561 [01:02<00:26, 77.14it/s]"
     ]
    },
    {
     "name": "stderr",
     "output_type": "stream",
     "text": [
      "\r",
      "loading hamiltonians:  69%|██████▊   | 4497/6561 [01:02<00:26, 76.59it/s]"
     ]
    },
    {
     "name": "stderr",
     "output_type": "stream",
     "text": [
      "\r",
      "loading hamiltonians:  69%|██████▊   | 4505/6561 [01:02<00:27, 73.77it/s]"
     ]
    },
    {
     "name": "stderr",
     "output_type": "stream",
     "text": [
      "\r",
      "loading hamiltonians:  69%|██████▉   | 4513/6561 [01:03<00:28, 72.95it/s]"
     ]
    },
    {
     "name": "stderr",
     "output_type": "stream",
     "text": [
      "\r",
      "loading hamiltonians:  69%|██████▉   | 4521/6561 [01:03<00:27, 73.56it/s]"
     ]
    },
    {
     "name": "stderr",
     "output_type": "stream",
     "text": [
      "\r",
      "loading hamiltonians:  69%|██████▉   | 4532/6561 [01:03<00:25, 81.00it/s]"
     ]
    },
    {
     "name": "stderr",
     "output_type": "stream",
     "text": [
      "\r",
      "loading hamiltonians:  69%|██████▉   | 4541/6561 [01:03<00:24, 81.56it/s]"
     ]
    },
    {
     "name": "stderr",
     "output_type": "stream",
     "text": [
      "\r",
      "loading hamiltonians:  69%|██████▉   | 4550/6561 [01:03<00:24, 81.18it/s]"
     ]
    },
    {
     "name": "stderr",
     "output_type": "stream",
     "text": [
      "\r",
      "loading hamiltonians:  69%|██████▉   | 4559/6561 [01:03<00:23, 83.50it/s]"
     ]
    },
    {
     "name": "stderr",
     "output_type": "stream",
     "text": [
      "\r",
      "loading hamiltonians:  70%|██████▉   | 4568/6561 [01:03<00:24, 80.38it/s]"
     ]
    },
    {
     "name": "stderr",
     "output_type": "stream",
     "text": [
      "\r",
      "loading hamiltonians:  70%|██████▉   | 4578/6561 [01:03<00:23, 84.21it/s]"
     ]
    },
    {
     "name": "stderr",
     "output_type": "stream",
     "text": [
      "\r",
      "loading hamiltonians:  70%|██████▉   | 4589/6561 [01:03<00:22, 89.28it/s]"
     ]
    },
    {
     "name": "stderr",
     "output_type": "stream",
     "text": [
      "\r",
      "loading hamiltonians:  70%|███████   | 4599/6561 [01:04<00:21, 91.60it/s]"
     ]
    },
    {
     "name": "stderr",
     "output_type": "stream",
     "text": [
      "\r",
      "loading hamiltonians:  70%|███████   | 4609/6561 [01:04<00:22, 86.14it/s]"
     ]
    },
    {
     "name": "stderr",
     "output_type": "stream",
     "text": [
      "\r",
      "loading hamiltonians:  70%|███████   | 4618/6561 [01:04<00:22, 85.47it/s]"
     ]
    },
    {
     "name": "stderr",
     "output_type": "stream",
     "text": [
      "\r",
      "loading hamiltonians:  71%|███████   | 4627/6561 [01:04<00:23, 83.99it/s]"
     ]
    },
    {
     "name": "stderr",
     "output_type": "stream",
     "text": [
      "\r",
      "loading hamiltonians:  71%|███████   | 4636/6561 [01:04<00:23, 83.19it/s]"
     ]
    },
    {
     "name": "stderr",
     "output_type": "stream",
     "text": [
      "\r",
      "loading hamiltonians:  71%|███████   | 4645/6561 [01:04<00:24, 79.37it/s]"
     ]
    },
    {
     "name": "stderr",
     "output_type": "stream",
     "text": [
      "\r",
      "loading hamiltonians:  71%|███████   | 4654/6561 [01:04<00:23, 81.97it/s]"
     ]
    },
    {
     "name": "stderr",
     "output_type": "stream",
     "text": [
      "\r",
      "loading hamiltonians:  71%|███████   | 4663/6561 [01:04<00:23, 79.33it/s]"
     ]
    },
    {
     "name": "stderr",
     "output_type": "stream",
     "text": [
      "\r",
      "loading hamiltonians:  71%|███████   | 4672/6561 [01:04<00:24, 76.18it/s]"
     ]
    },
    {
     "name": "stderr",
     "output_type": "stream",
     "text": [
      "\r",
      "loading hamiltonians:  71%|███████▏  | 4680/6561 [01:05<00:26, 70.32it/s]"
     ]
    },
    {
     "name": "stderr",
     "output_type": "stream",
     "text": [
      "\r",
      "loading hamiltonians:  72%|███████▏  | 4693/6561 [01:05<00:23, 80.73it/s]"
     ]
    },
    {
     "name": "stderr",
     "output_type": "stream",
     "text": [
      "\r",
      "loading hamiltonians:  72%|███████▏  | 4705/6561 [01:05<00:21, 87.51it/s]"
     ]
    },
    {
     "name": "stderr",
     "output_type": "stream",
     "text": [
      "\r",
      "loading hamiltonians:  72%|███████▏  | 4715/6561 [01:05<00:21, 85.83it/s]"
     ]
    },
    {
     "name": "stderr",
     "output_type": "stream",
     "text": [
      "\r",
      "loading hamiltonians:  72%|███████▏  | 4725/6561 [01:05<00:21, 84.78it/s]"
     ]
    },
    {
     "name": "stderr",
     "output_type": "stream",
     "text": [
      "\r",
      "loading hamiltonians:  72%|███████▏  | 4734/6561 [01:05<00:21, 83.37it/s]"
     ]
    },
    {
     "name": "stderr",
     "output_type": "stream",
     "text": [
      "\r",
      "loading hamiltonians:  72%|███████▏  | 4743/6561 [01:05<00:22, 79.43it/s]"
     ]
    },
    {
     "name": "stderr",
     "output_type": "stream",
     "text": [
      "\r",
      "loading hamiltonians:  72%|███████▏  | 4752/6561 [01:05<00:22, 80.90it/s]"
     ]
    },
    {
     "name": "stderr",
     "output_type": "stream",
     "text": [
      "\r",
      "loading hamiltonians:  73%|███████▎  | 4761/6561 [01:06<00:23, 77.73it/s]"
     ]
    },
    {
     "name": "stderr",
     "output_type": "stream",
     "text": [
      "\r",
      "loading hamiltonians:  73%|███████▎  | 4769/6561 [01:06<00:23, 77.53it/s]"
     ]
    },
    {
     "name": "stderr",
     "output_type": "stream",
     "text": [
      "\r",
      "loading hamiltonians:  73%|███████▎  | 4777/6561 [01:06<00:23, 76.65it/s]"
     ]
    },
    {
     "name": "stderr",
     "output_type": "stream",
     "text": [
      "\r",
      "loading hamiltonians:  73%|███████▎  | 4785/6561 [01:06<00:23, 77.02it/s]"
     ]
    },
    {
     "name": "stderr",
     "output_type": "stream",
     "text": [
      "\r",
      "loading hamiltonians:  73%|███████▎  | 4794/6561 [01:06<00:22, 79.13it/s]"
     ]
    },
    {
     "name": "stderr",
     "output_type": "stream",
     "text": [
      "\r",
      "loading hamiltonians:  73%|███████▎  | 4802/6561 [01:06<00:24, 72.11it/s]"
     ]
    },
    {
     "name": "stderr",
     "output_type": "stream",
     "text": [
      "\r",
      "loading hamiltonians:  73%|███████▎  | 4811/6561 [01:06<00:23, 74.11it/s]"
     ]
    },
    {
     "name": "stderr",
     "output_type": "stream",
     "text": [
      "\r",
      "loading hamiltonians:  73%|███████▎  | 4819/6561 [01:06<00:23, 75.53it/s]"
     ]
    },
    {
     "name": "stderr",
     "output_type": "stream",
     "text": [
      "\r",
      "loading hamiltonians:  74%|███████▎  | 4828/6561 [01:06<00:22, 77.06it/s]"
     ]
    },
    {
     "name": "stderr",
     "output_type": "stream",
     "text": [
      "\r",
      "loading hamiltonians:  74%|███████▎  | 4836/6561 [01:06<00:22, 77.10it/s]"
     ]
    },
    {
     "name": "stderr",
     "output_type": "stream",
     "text": [
      "\r",
      "loading hamiltonians:  74%|███████▍  | 4844/6561 [01:07<00:27, 63.43it/s]"
     ]
    },
    {
     "name": "stderr",
     "output_type": "stream",
     "text": [
      "\r",
      "loading hamiltonians:  74%|███████▍  | 4852/6561 [01:07<00:25, 67.40it/s]"
     ]
    },
    {
     "name": "stderr",
     "output_type": "stream",
     "text": [
      "\r",
      "loading hamiltonians:  74%|███████▍  | 4860/6561 [01:07<00:24, 69.25it/s]"
     ]
    },
    {
     "name": "stderr",
     "output_type": "stream",
     "text": [
      "\r",
      "loading hamiltonians:  74%|███████▍  | 4868/6561 [01:07<00:24, 69.90it/s]"
     ]
    },
    {
     "name": "stderr",
     "output_type": "stream",
     "text": [
      "\r",
      "loading hamiltonians:  74%|███████▍  | 4878/6561 [01:07<00:22, 75.73it/s]"
     ]
    },
    {
     "name": "stderr",
     "output_type": "stream",
     "text": [
      "\r",
      "loading hamiltonians:  74%|███████▍  | 4886/6561 [01:07<00:22, 75.39it/s]"
     ]
    },
    {
     "name": "stderr",
     "output_type": "stream",
     "text": [
      "\r",
      "loading hamiltonians:  75%|███████▍  | 4895/6561 [01:07<00:21, 76.72it/s]"
     ]
    },
    {
     "name": "stderr",
     "output_type": "stream",
     "text": [
      "\r",
      "loading hamiltonians:  75%|███████▍  | 4903/6561 [01:07<00:23, 71.51it/s]"
     ]
    },
    {
     "name": "stderr",
     "output_type": "stream",
     "text": [
      "\r",
      "loading hamiltonians:  75%|███████▍  | 4911/6561 [01:08<00:22, 73.39it/s]"
     ]
    },
    {
     "name": "stderr",
     "output_type": "stream",
     "text": [
      "\r",
      "loading hamiltonians:  75%|███████▍  | 4919/6561 [01:08<00:22, 74.46it/s]"
     ]
    },
    {
     "name": "stderr",
     "output_type": "stream",
     "text": [
      "\r",
      "loading hamiltonians:  75%|███████▌  | 4928/6561 [01:08<00:21, 75.83it/s]"
     ]
    },
    {
     "name": "stderr",
     "output_type": "stream",
     "text": [
      "\r",
      "loading hamiltonians:  75%|███████▌  | 4936/6561 [01:08<00:21, 75.76it/s]"
     ]
    },
    {
     "name": "stderr",
     "output_type": "stream",
     "text": [
      "\r",
      "loading hamiltonians:  75%|███████▌  | 4945/6561 [01:08<00:20, 79.32it/s]"
     ]
    },
    {
     "name": "stderr",
     "output_type": "stream",
     "text": [
      "\r",
      "loading hamiltonians:  76%|███████▌  | 4954/6561 [01:08<00:19, 81.39it/s]"
     ]
    },
    {
     "name": "stderr",
     "output_type": "stream",
     "text": [
      "\r",
      "loading hamiltonians:  76%|███████▌  | 4963/6561 [01:08<00:19, 80.29it/s]"
     ]
    },
    {
     "name": "stderr",
     "output_type": "stream",
     "text": [
      "\r",
      "loading hamiltonians:  76%|███████▌  | 4972/6561 [01:08<00:20, 78.22it/s]"
     ]
    },
    {
     "name": "stderr",
     "output_type": "stream",
     "text": [
      "\r",
      "loading hamiltonians:  76%|███████▌  | 4980/6561 [01:08<00:20, 77.72it/s]"
     ]
    },
    {
     "name": "stderr",
     "output_type": "stream",
     "text": [
      "\r",
      "loading hamiltonians:  76%|███████▌  | 4988/6561 [01:09<00:21, 71.69it/s]"
     ]
    },
    {
     "name": "stderr",
     "output_type": "stream",
     "text": [
      "\r",
      "loading hamiltonians:  76%|███████▌  | 4996/6561 [01:09<00:21, 71.88it/s]"
     ]
    },
    {
     "name": "stderr",
     "output_type": "stream",
     "text": [
      "\r",
      "loading hamiltonians:  76%|███████▋  | 5005/6561 [01:09<00:20, 74.45it/s]"
     ]
    },
    {
     "name": "stderr",
     "output_type": "stream",
     "text": [
      "\r",
      "loading hamiltonians:  76%|███████▋  | 5013/6561 [01:09<00:20, 74.31it/s]"
     ]
    },
    {
     "name": "stderr",
     "output_type": "stream",
     "text": [
      "\r",
      "loading hamiltonians:  77%|███████▋  | 5021/6561 [01:09<00:33, 45.49it/s]"
     ]
    },
    {
     "name": "stderr",
     "output_type": "stream",
     "text": [
      "\r",
      "loading hamiltonians:  77%|███████▋  | 5030/6561 [01:09<00:29, 52.32it/s]"
     ]
    },
    {
     "name": "stderr",
     "output_type": "stream",
     "text": [
      "\r",
      "loading hamiltonians:  77%|███████▋  | 5039/6561 [01:09<00:25, 59.37it/s]"
     ]
    },
    {
     "name": "stderr",
     "output_type": "stream",
     "text": [
      "\r",
      "loading hamiltonians:  77%|███████▋  | 5047/6561 [01:10<00:24, 62.91it/s]"
     ]
    },
    {
     "name": "stderr",
     "output_type": "stream",
     "text": [
      "\r",
      "loading hamiltonians:  77%|███████▋  | 5055/6561 [01:10<00:22, 67.15it/s]"
     ]
    },
    {
     "name": "stderr",
     "output_type": "stream",
     "text": [
      "\r",
      "loading hamiltonians:  77%|███████▋  | 5063/6561 [01:10<00:22, 66.55it/s]"
     ]
    },
    {
     "name": "stderr",
     "output_type": "stream",
     "text": [
      "\r",
      "loading hamiltonians:  77%|███████▋  | 5073/6561 [01:10<00:20, 72.53it/s]"
     ]
    },
    {
     "name": "stderr",
     "output_type": "stream",
     "text": [
      "\r",
      "loading hamiltonians:  77%|███████▋  | 5082/6561 [01:10<00:19, 76.32it/s]"
     ]
    },
    {
     "name": "stderr",
     "output_type": "stream",
     "text": [
      "\r",
      "loading hamiltonians:  78%|███████▊  | 5091/6561 [01:10<00:19, 76.83it/s]"
     ]
    },
    {
     "name": "stderr",
     "output_type": "stream",
     "text": [
      "\r",
      "loading hamiltonians:  78%|███████▊  | 5101/6561 [01:10<00:18, 76.89it/s]"
     ]
    },
    {
     "name": "stderr",
     "output_type": "stream",
     "text": [
      "\r",
      "loading hamiltonians:  78%|███████▊  | 5112/6561 [01:10<00:17, 82.14it/s]"
     ]
    },
    {
     "name": "stderr",
     "output_type": "stream",
     "text": [
      "\r",
      "loading hamiltonians:  78%|███████▊  | 5121/6561 [01:10<00:17, 80.47it/s]"
     ]
    },
    {
     "name": "stderr",
     "output_type": "stream",
     "text": [
      "\r",
      "loading hamiltonians:  78%|███████▊  | 5130/6561 [01:11<00:17, 81.95it/s]"
     ]
    },
    {
     "name": "stderr",
     "output_type": "stream",
     "text": [
      "\r",
      "loading hamiltonians:  78%|███████▊  | 5139/6561 [01:11<00:17, 79.90it/s]"
     ]
    },
    {
     "name": "stderr",
     "output_type": "stream",
     "text": [
      "\r",
      "loading hamiltonians:  78%|███████▊  | 5148/6561 [01:11<00:18, 75.08it/s]"
     ]
    },
    {
     "name": "stderr",
     "output_type": "stream",
     "text": [
      "\r",
      "loading hamiltonians:  79%|███████▊  | 5156/6561 [01:11<00:19, 73.67it/s]"
     ]
    },
    {
     "name": "stderr",
     "output_type": "stream",
     "text": [
      "\r",
      "loading hamiltonians:  79%|███████▊  | 5164/6561 [01:11<00:19, 73.37it/s]"
     ]
    },
    {
     "name": "stderr",
     "output_type": "stream",
     "text": [
      "\r",
      "loading hamiltonians:  79%|███████▉  | 5174/6561 [01:11<00:17, 79.61it/s]"
     ]
    },
    {
     "name": "stderr",
     "output_type": "stream",
     "text": [
      "\r",
      "loading hamiltonians:  79%|███████▉  | 5183/6561 [01:11<00:17, 77.07it/s]"
     ]
    },
    {
     "name": "stderr",
     "output_type": "stream",
     "text": [
      "\r",
      "loading hamiltonians:  79%|███████▉  | 5191/6561 [01:11<00:18, 76.03it/s]"
     ]
    },
    {
     "name": "stderr",
     "output_type": "stream",
     "text": [
      "\r",
      "loading hamiltonians:  79%|███████▉  | 5200/6561 [01:11<00:17, 77.47it/s]"
     ]
    },
    {
     "name": "stderr",
     "output_type": "stream",
     "text": [
      "\r",
      "loading hamiltonians:  79%|███████▉  | 5208/6561 [01:12<00:17, 75.58it/s]"
     ]
    },
    {
     "name": "stderr",
     "output_type": "stream",
     "text": [
      "\r",
      "loading hamiltonians:  80%|███████▉  | 5216/6561 [01:12<00:18, 73.24it/s]"
     ]
    },
    {
     "name": "stderr",
     "output_type": "stream",
     "text": [
      "\r",
      "loading hamiltonians:  80%|███████▉  | 5224/6561 [01:12<00:19, 67.96it/s]"
     ]
    },
    {
     "name": "stderr",
     "output_type": "stream",
     "text": [
      "\r",
      "loading hamiltonians:  80%|███████▉  | 5233/6561 [01:12<00:18, 73.26it/s]"
     ]
    },
    {
     "name": "stderr",
     "output_type": "stream",
     "text": [
      "\r",
      "loading hamiltonians:  80%|███████▉  | 5241/6561 [01:12<00:18, 73.26it/s]"
     ]
    },
    {
     "name": "stderr",
     "output_type": "stream",
     "text": [
      "\r",
      "loading hamiltonians:  80%|████████  | 5250/6561 [01:12<00:17, 76.48it/s]"
     ]
    },
    {
     "name": "stderr",
     "output_type": "stream",
     "text": [
      "\r",
      "loading hamiltonians:  80%|████████  | 5259/6561 [01:12<00:16, 78.18it/s]"
     ]
    },
    {
     "name": "stderr",
     "output_type": "stream",
     "text": [
      "\r",
      "loading hamiltonians:  80%|████████  | 5267/6561 [01:12<00:16, 76.88it/s]"
     ]
    },
    {
     "name": "stderr",
     "output_type": "stream",
     "text": [
      "\r",
      "loading hamiltonians:  80%|████████  | 5275/6561 [01:12<00:16, 76.67it/s]"
     ]
    },
    {
     "name": "stderr",
     "output_type": "stream",
     "text": [
      "\r",
      "loading hamiltonians:  81%|████████  | 5283/6561 [01:13<00:17, 73.52it/s]"
     ]
    },
    {
     "name": "stderr",
     "output_type": "stream",
     "text": [
      "\r",
      "loading hamiltonians:  81%|████████  | 5293/6561 [01:13<00:16, 77.86it/s]"
     ]
    },
    {
     "name": "stderr",
     "output_type": "stream",
     "text": [
      "\r",
      "loading hamiltonians:  81%|████████  | 5302/6561 [01:13<00:15, 79.39it/s]"
     ]
    },
    {
     "name": "stderr",
     "output_type": "stream",
     "text": [
      "\r",
      "loading hamiltonians:  81%|████████  | 5313/6561 [01:13<00:14, 85.50it/s]"
     ]
    },
    {
     "name": "stderr",
     "output_type": "stream",
     "text": [
      "\r",
      "loading hamiltonians:  81%|████████  | 5323/6561 [01:13<00:13, 89.06it/s]"
     ]
    },
    {
     "name": "stderr",
     "output_type": "stream",
     "text": [
      "\r",
      "loading hamiltonians:  81%|████████▏ | 5333/6561 [01:13<00:13, 89.27it/s]"
     ]
    },
    {
     "name": "stderr",
     "output_type": "stream",
     "text": [
      "\r",
      "loading hamiltonians:  81%|████████▏ | 5343/6561 [01:13<00:14, 85.52it/s]"
     ]
    },
    {
     "name": "stderr",
     "output_type": "stream",
     "text": [
      "\r",
      "loading hamiltonians:  82%|████████▏ | 5352/6561 [01:13<00:14, 81.99it/s]"
     ]
    },
    {
     "name": "stderr",
     "output_type": "stream",
     "text": [
      "\r",
      "loading hamiltonians:  82%|████████▏ | 5361/6561 [01:14<00:15, 76.89it/s]"
     ]
    },
    {
     "name": "stderr",
     "output_type": "stream",
     "text": [
      "\r",
      "loading hamiltonians:  82%|████████▏ | 5370/6561 [01:14<00:15, 79.23it/s]"
     ]
    },
    {
     "name": "stderr",
     "output_type": "stream",
     "text": [
      "\r",
      "loading hamiltonians:  82%|████████▏ | 5379/6561 [01:14<00:15, 76.26it/s]"
     ]
    },
    {
     "name": "stderr",
     "output_type": "stream",
     "text": [
      "\r",
      "loading hamiltonians:  82%|████████▏ | 5387/6561 [01:14<00:15, 73.59it/s]"
     ]
    },
    {
     "name": "stderr",
     "output_type": "stream",
     "text": [
      "\r",
      "loading hamiltonians:  82%|████████▏ | 5395/6561 [01:14<00:15, 73.26it/s]"
     ]
    },
    {
     "name": "stderr",
     "output_type": "stream",
     "text": [
      "\r",
      "loading hamiltonians:  82%|████████▏ | 5403/6561 [01:14<00:18, 61.73it/s]"
     ]
    },
    {
     "name": "stderr",
     "output_type": "stream",
     "text": [
      "\r",
      "loading hamiltonians:  82%|████████▏ | 5412/6561 [01:14<00:17, 66.30it/s]"
     ]
    },
    {
     "name": "stderr",
     "output_type": "stream",
     "text": [
      "\r",
      "loading hamiltonians:  83%|████████▎ | 5421/6561 [01:14<00:16, 70.32it/s]"
     ]
    },
    {
     "name": "stderr",
     "output_type": "stream",
     "text": [
      "\r",
      "loading hamiltonians:  83%|████████▎ | 5431/6561 [01:15<00:15, 74.59it/s]"
     ]
    },
    {
     "name": "stderr",
     "output_type": "stream",
     "text": [
      "\r",
      "loading hamiltonians:  83%|████████▎ | 5439/6561 [01:15<00:15, 73.65it/s]"
     ]
    },
    {
     "name": "stderr",
     "output_type": "stream",
     "text": [
      "\r",
      "loading hamiltonians:  83%|████████▎ | 5448/6561 [01:15<00:14, 75.93it/s]"
     ]
    },
    {
     "name": "stderr",
     "output_type": "stream",
     "text": [
      "\r",
      "loading hamiltonians:  83%|████████▎ | 5456/6561 [01:15<00:14, 76.58it/s]"
     ]
    },
    {
     "name": "stderr",
     "output_type": "stream",
     "text": [
      "\r",
      "loading hamiltonians:  83%|████████▎ | 5464/6561 [01:15<00:14, 76.27it/s]"
     ]
    },
    {
     "name": "stderr",
     "output_type": "stream",
     "text": [
      "\r",
      "loading hamiltonians:  83%|████████▎ | 5472/6561 [01:16<01:10, 15.40it/s]"
     ]
    },
    {
     "name": "stderr",
     "output_type": "stream",
     "text": [
      "\r",
      "loading hamiltonians:  84%|████████▎ | 5480/6561 [01:17<00:53, 20.31it/s]"
     ]
    },
    {
     "name": "stderr",
     "output_type": "stream",
     "text": [
      "\r",
      "loading hamiltonians:  84%|████████▎ | 5489/6561 [01:17<00:40, 26.19it/s]"
     ]
    },
    {
     "name": "stderr",
     "output_type": "stream",
     "text": [
      "\r",
      "loading hamiltonians:  84%|████████▍ | 5497/6561 [01:17<00:32, 32.77it/s]"
     ]
    },
    {
     "name": "stderr",
     "output_type": "stream",
     "text": [
      "\r",
      "loading hamiltonians:  84%|████████▍ | 5505/6561 [01:17<00:26, 39.42it/s]"
     ]
    },
    {
     "name": "stderr",
     "output_type": "stream",
     "text": [
      "\r",
      "loading hamiltonians:  84%|████████▍ | 5513/6561 [01:17<00:31, 32.94it/s]"
     ]
    },
    {
     "name": "stderr",
     "output_type": "stream",
     "text": [
      "\r",
      "loading hamiltonians:  84%|████████▍ | 5525/6561 [01:17<00:24, 41.80it/s]"
     ]
    },
    {
     "name": "stderr",
     "output_type": "stream",
     "text": [
      "\r",
      "loading hamiltonians:  84%|████████▍ | 5537/6561 [01:17<00:19, 51.62it/s]"
     ]
    },
    {
     "name": "stderr",
     "output_type": "stream",
     "text": [
      "\r",
      "loading hamiltonians:  85%|████████▍ | 5549/6561 [01:17<00:16, 62.22it/s]"
     ]
    },
    {
     "name": "stderr",
     "output_type": "stream",
     "text": [
      "\r",
      "loading hamiltonians:  85%|████████▍ | 5559/6561 [01:18<00:14, 67.41it/s]"
     ]
    },
    {
     "name": "stderr",
     "output_type": "stream",
     "text": [
      "\r",
      "loading hamiltonians:  85%|████████▍ | 5569/6561 [01:18<00:16, 59.94it/s]"
     ]
    },
    {
     "name": "stderr",
     "output_type": "stream",
     "text": [
      "\r",
      "loading hamiltonians:  85%|████████▌ | 5577/6561 [01:18<00:22, 44.64it/s]"
     ]
    },
    {
     "name": "stderr",
     "output_type": "stream",
     "text": [
      "\r",
      "loading hamiltonians:  85%|████████▌ | 5585/6561 [01:18<00:19, 49.35it/s]"
     ]
    },
    {
     "name": "stderr",
     "output_type": "stream",
     "text": [
      "\r",
      "loading hamiltonians:  85%|████████▌ | 5592/6561 [01:18<00:22, 43.80it/s]"
     ]
    },
    {
     "name": "stderr",
     "output_type": "stream",
     "text": [
      "\r",
      "loading hamiltonians:  85%|████████▌ | 5600/6561 [01:19<00:19, 49.39it/s]"
     ]
    },
    {
     "name": "stderr",
     "output_type": "stream",
     "text": [
      "\r",
      "loading hamiltonians:  85%|████████▌ | 5607/6561 [01:19<00:17, 54.05it/s]"
     ]
    },
    {
     "name": "stderr",
     "output_type": "stream",
     "text": [
      "\r",
      "loading hamiltonians:  86%|████████▌ | 5614/6561 [01:19<00:16, 57.96it/s]"
     ]
    },
    {
     "name": "stderr",
     "output_type": "stream",
     "text": [
      "\r",
      "loading hamiltonians:  86%|████████▌ | 5622/6561 [01:19<00:15, 61.74it/s]"
     ]
    },
    {
     "name": "stderr",
     "output_type": "stream",
     "text": [
      "\r",
      "loading hamiltonians:  86%|████████▌ | 5629/6561 [01:19<00:17, 53.59it/s]"
     ]
    },
    {
     "name": "stderr",
     "output_type": "stream",
     "text": [
      "\r",
      "loading hamiltonians:  86%|████████▌ | 5637/6561 [01:19<00:15, 58.07it/s]"
     ]
    },
    {
     "name": "stderr",
     "output_type": "stream",
     "text": [
      "\r",
      "loading hamiltonians:  86%|████████▌ | 5645/6561 [01:19<00:15, 59.81it/s]"
     ]
    },
    {
     "name": "stderr",
     "output_type": "stream",
     "text": [
      "\r",
      "loading hamiltonians:  86%|████████▌ | 5655/6561 [01:19<00:13, 67.82it/s]"
     ]
    },
    {
     "name": "stderr",
     "output_type": "stream",
     "text": [
      "\r",
      "loading hamiltonians:  86%|████████▋ | 5663/6561 [01:19<00:12, 70.49it/s]"
     ]
    },
    {
     "name": "stderr",
     "output_type": "stream",
     "text": [
      "\r",
      "loading hamiltonians:  86%|████████▋ | 5671/6561 [01:20<00:12, 72.84it/s]"
     ]
    },
    {
     "name": "stderr",
     "output_type": "stream",
     "text": [
      "\r",
      "loading hamiltonians:  87%|████████▋ | 5680/6561 [01:20<00:11, 75.93it/s]"
     ]
    },
    {
     "name": "stderr",
     "output_type": "stream",
     "text": [
      "\r",
      "loading hamiltonians:  87%|████████▋ | 5689/6561 [01:20<00:11, 78.76it/s]"
     ]
    },
    {
     "name": "stderr",
     "output_type": "stream",
     "text": [
      "\r",
      "loading hamiltonians:  87%|████████▋ | 5698/6561 [01:20<00:11, 77.84it/s]"
     ]
    },
    {
     "name": "stderr",
     "output_type": "stream",
     "text": [
      "\r",
      "loading hamiltonians:  87%|████████▋ | 5706/6561 [01:20<00:11, 75.91it/s]"
     ]
    },
    {
     "name": "stderr",
     "output_type": "stream",
     "text": [
      "\r",
      "loading hamiltonians:  87%|████████▋ | 5715/6561 [01:20<00:10, 78.85it/s]"
     ]
    },
    {
     "name": "stderr",
     "output_type": "stream",
     "text": [
      "\r",
      "loading hamiltonians:  87%|████████▋ | 5723/6561 [01:20<00:10, 76.58it/s]"
     ]
    },
    {
     "name": "stderr",
     "output_type": "stream",
     "text": [
      "\r",
      "loading hamiltonians:  87%|████████▋ | 5731/6561 [01:20<00:10, 75.93it/s]"
     ]
    },
    {
     "name": "stderr",
     "output_type": "stream",
     "text": [
      "\r",
      "loading hamiltonians:  87%|████████▋ | 5740/6561 [01:20<00:10, 77.98it/s]"
     ]
    },
    {
     "name": "stderr",
     "output_type": "stream",
     "text": [
      "\r",
      "loading hamiltonians:  88%|████████▊ | 5748/6561 [01:21<00:10, 78.33it/s]"
     ]
    },
    {
     "name": "stderr",
     "output_type": "stream",
     "text": [
      "\r",
      "loading hamiltonians:  88%|████████▊ | 5757/6561 [01:21<00:10, 80.02it/s]"
     ]
    },
    {
     "name": "stderr",
     "output_type": "stream",
     "text": [
      "\r",
      "loading hamiltonians:  88%|████████▊ | 5766/6561 [01:21<00:10, 78.91it/s]"
     ]
    },
    {
     "name": "stderr",
     "output_type": "stream",
     "text": [
      "\r",
      "loading hamiltonians:  88%|████████▊ | 5774/6561 [01:21<00:10, 76.67it/s]"
     ]
    },
    {
     "name": "stderr",
     "output_type": "stream",
     "text": [
      "\r",
      "loading hamiltonians:  88%|████████▊ | 5782/6561 [01:21<00:10, 71.60it/s]"
     ]
    },
    {
     "name": "stderr",
     "output_type": "stream",
     "text": [
      "\r",
      "loading hamiltonians:  88%|████████▊ | 5791/6561 [01:21<00:10, 74.39it/s]"
     ]
    },
    {
     "name": "stderr",
     "output_type": "stream",
     "text": [
      "\r",
      "loading hamiltonians:  88%|████████▊ | 5799/6561 [01:21<00:10, 74.12it/s]"
     ]
    },
    {
     "name": "stderr",
     "output_type": "stream",
     "text": [
      "\r",
      "loading hamiltonians:  89%|████████▊ | 5808/6561 [01:21<00:09, 76.85it/s]"
     ]
    },
    {
     "name": "stderr",
     "output_type": "stream",
     "text": [
      "\r",
      "loading hamiltonians:  89%|████████▊ | 5816/6561 [01:21<00:09, 77.04it/s]"
     ]
    },
    {
     "name": "stderr",
     "output_type": "stream",
     "text": [
      "\r",
      "loading hamiltonians:  89%|████████▉ | 5828/6561 [01:22<00:08, 84.90it/s]"
     ]
    },
    {
     "name": "stderr",
     "output_type": "stream",
     "text": [
      "\r",
      "loading hamiltonians:  89%|████████▉ | 5837/6561 [01:22<00:08, 85.66it/s]"
     ]
    },
    {
     "name": "stderr",
     "output_type": "stream",
     "text": [
      "\r",
      "loading hamiltonians:  89%|████████▉ | 5846/6561 [01:22<00:08, 82.29it/s]"
     ]
    },
    {
     "name": "stderr",
     "output_type": "stream",
     "text": [
      "\r",
      "loading hamiltonians:  89%|████████▉ | 5855/6561 [01:22<00:08, 80.77it/s]"
     ]
    },
    {
     "name": "stderr",
     "output_type": "stream",
     "text": [
      "\r",
      "loading hamiltonians:  89%|████████▉ | 5864/6561 [01:22<00:08, 83.23it/s]"
     ]
    },
    {
     "name": "stderr",
     "output_type": "stream",
     "text": [
      "\r",
      "loading hamiltonians:  90%|████████▉ | 5873/6561 [01:22<00:08, 82.08it/s]"
     ]
    },
    {
     "name": "stderr",
     "output_type": "stream",
     "text": [
      "\r",
      "loading hamiltonians:  90%|████████▉ | 5882/6561 [01:22<00:08, 76.74it/s]"
     ]
    },
    {
     "name": "stderr",
     "output_type": "stream",
     "text": [
      "\r",
      "loading hamiltonians:  90%|████████▉ | 5890/6561 [01:22<00:09, 67.59it/s]"
     ]
    },
    {
     "name": "stderr",
     "output_type": "stream",
     "text": [
      "\r",
      "loading hamiltonians:  90%|████████▉ | 5898/6561 [01:22<00:09, 69.21it/s]"
     ]
    },
    {
     "name": "stderr",
     "output_type": "stream",
     "text": [
      "\r",
      "loading hamiltonians:  90%|█████████ | 5907/6561 [01:23<00:09, 71.87it/s]"
     ]
    },
    {
     "name": "stderr",
     "output_type": "stream",
     "text": [
      "\r",
      "loading hamiltonians:  90%|█████████ | 5916/6561 [01:23<00:08, 73.82it/s]"
     ]
    },
    {
     "name": "stderr",
     "output_type": "stream",
     "text": [
      "\r",
      "loading hamiltonians:  90%|█████████ | 5925/6561 [01:23<00:08, 78.02it/s]"
     ]
    },
    {
     "name": "stderr",
     "output_type": "stream",
     "text": [
      "\r",
      "loading hamiltonians:  90%|█████████ | 5935/6561 [01:23<00:07, 81.20it/s]"
     ]
    },
    {
     "name": "stderr",
     "output_type": "stream",
     "text": [
      "\r",
      "loading hamiltonians:  91%|█████████ | 5944/6561 [01:23<00:07, 80.15it/s]"
     ]
    },
    {
     "name": "stderr",
     "output_type": "stream",
     "text": [
      "\r",
      "loading hamiltonians:  91%|█████████ | 5953/6561 [01:23<00:08, 74.24it/s]"
     ]
    },
    {
     "name": "stderr",
     "output_type": "stream",
     "text": [
      "\r",
      "loading hamiltonians:  91%|█████████ | 5961/6561 [01:23<00:08, 73.13it/s]"
     ]
    },
    {
     "name": "stderr",
     "output_type": "stream",
     "text": [
      "\r",
      "loading hamiltonians:  91%|█████████ | 5969/6561 [01:23<00:07, 74.75it/s]"
     ]
    },
    {
     "name": "stderr",
     "output_type": "stream",
     "text": [
      "\r",
      "loading hamiltonians:  91%|█████████ | 5977/6561 [01:24<00:07, 75.57it/s]"
     ]
    },
    {
     "name": "stderr",
     "output_type": "stream",
     "text": [
      "\r",
      "loading hamiltonians:  91%|█████████ | 5985/6561 [01:24<00:07, 74.10it/s]"
     ]
    },
    {
     "name": "stderr",
     "output_type": "stream",
     "text": [
      "\r",
      "loading hamiltonians:  91%|█████████▏| 5995/6561 [01:24<00:07, 78.08it/s]"
     ]
    },
    {
     "name": "stderr",
     "output_type": "stream",
     "text": [
      "\r",
      "loading hamiltonians:  92%|█████████▏| 6004/6561 [01:24<00:06, 80.90it/s]"
     ]
    },
    {
     "name": "stderr",
     "output_type": "stream",
     "text": [
      "\r",
      "loading hamiltonians:  92%|█████████▏| 6013/6561 [01:24<00:08, 68.34it/s]"
     ]
    },
    {
     "name": "stderr",
     "output_type": "stream",
     "text": [
      "\r",
      "loading hamiltonians:  92%|█████████▏| 6021/6561 [01:24<00:07, 69.49it/s]"
     ]
    },
    {
     "name": "stderr",
     "output_type": "stream",
     "text": [
      "\r",
      "loading hamiltonians:  92%|█████████▏| 6030/6561 [01:24<00:07, 72.87it/s]"
     ]
    },
    {
     "name": "stderr",
     "output_type": "stream",
     "text": [
      "\r",
      "loading hamiltonians:  92%|█████████▏| 6038/6561 [01:24<00:07, 74.43it/s]"
     ]
    },
    {
     "name": "stderr",
     "output_type": "stream",
     "text": [
      "\r",
      "loading hamiltonians:  92%|█████████▏| 6046/6561 [01:24<00:06, 74.58it/s]"
     ]
    },
    {
     "name": "stderr",
     "output_type": "stream",
     "text": [
      "\r",
      "loading hamiltonians:  92%|█████████▏| 6054/6561 [01:25<00:06, 72.83it/s]"
     ]
    },
    {
     "name": "stderr",
     "output_type": "stream",
     "text": [
      "\r",
      "loading hamiltonians:  92%|█████████▏| 6062/6561 [01:25<00:06, 72.66it/s]"
     ]
    },
    {
     "name": "stderr",
     "output_type": "stream",
     "text": [
      "\r",
      "loading hamiltonians:  93%|█████████▎| 6070/6561 [01:25<00:07, 70.11it/s]"
     ]
    },
    {
     "name": "stderr",
     "output_type": "stream",
     "text": [
      "\r",
      "loading hamiltonians:  93%|█████████▎| 6079/6561 [01:25<00:06, 74.98it/s]"
     ]
    },
    {
     "name": "stderr",
     "output_type": "stream",
     "text": [
      "\r",
      "loading hamiltonians:  93%|█████████▎| 6089/6561 [01:25<00:05, 79.94it/s]"
     ]
    },
    {
     "name": "stderr",
     "output_type": "stream",
     "text": [
      "\r",
      "loading hamiltonians:  93%|█████████▎| 6099/6561 [01:25<00:05, 83.18it/s]"
     ]
    },
    {
     "name": "stderr",
     "output_type": "stream",
     "text": [
      "\r",
      "loading hamiltonians:  93%|█████████▎| 6108/6561 [01:25<00:05, 80.90it/s]"
     ]
    },
    {
     "name": "stderr",
     "output_type": "stream",
     "text": [
      "\r",
      "loading hamiltonians:  93%|█████████▎| 6117/6561 [01:25<00:05, 77.34it/s]"
     ]
    },
    {
     "name": "stderr",
     "output_type": "stream",
     "text": [
      "\r",
      "loading hamiltonians:  93%|█████████▎| 6125/6561 [01:25<00:05, 76.73it/s]"
     ]
    },
    {
     "name": "stderr",
     "output_type": "stream",
     "text": [
      "\r",
      "loading hamiltonians:  93%|█████████▎| 6134/6561 [01:26<00:05, 78.44it/s]"
     ]
    },
    {
     "name": "stderr",
     "output_type": "stream",
     "text": [
      "\r",
      "loading hamiltonians:  94%|█████████▎| 6142/6561 [01:26<00:05, 77.85it/s]"
     ]
    },
    {
     "name": "stderr",
     "output_type": "stream",
     "text": [
      "\r",
      "loading hamiltonians:  94%|█████████▎| 6150/6561 [01:26<00:05, 72.69it/s]"
     ]
    },
    {
     "name": "stderr",
     "output_type": "stream",
     "text": [
      "\r",
      "loading hamiltonians:  94%|█████████▍| 6158/6561 [01:26<00:05, 71.78it/s]"
     ]
    },
    {
     "name": "stderr",
     "output_type": "stream",
     "text": [
      "\r",
      "loading hamiltonians:  94%|█████████▍| 6167/6561 [01:26<00:05, 76.08it/s]"
     ]
    },
    {
     "name": "stderr",
     "output_type": "stream",
     "text": [
      "\r",
      "loading hamiltonians:  94%|█████████▍| 6176/6561 [01:26<00:04, 77.43it/s]"
     ]
    },
    {
     "name": "stderr",
     "output_type": "stream",
     "text": [
      "\r",
      "loading hamiltonians:  94%|█████████▍| 6184/6561 [01:26<00:05, 75.10it/s]"
     ]
    },
    {
     "name": "stderr",
     "output_type": "stream",
     "text": [
      "\r",
      "loading hamiltonians:  94%|█████████▍| 6192/6561 [01:26<00:05, 69.64it/s]"
     ]
    },
    {
     "name": "stderr",
     "output_type": "stream",
     "text": [
      "\r",
      "loading hamiltonians:  94%|█████████▍| 6200/6561 [01:26<00:05, 69.53it/s]"
     ]
    },
    {
     "name": "stderr",
     "output_type": "stream",
     "text": [
      "\r",
      "loading hamiltonians:  95%|█████████▍| 6208/6561 [01:27<00:05, 70.08it/s]"
     ]
    },
    {
     "name": "stderr",
     "output_type": "stream",
     "text": [
      "\r",
      "loading hamiltonians:  95%|█████████▍| 6218/6561 [01:27<00:04, 75.03it/s]"
     ]
    },
    {
     "name": "stderr",
     "output_type": "stream",
     "text": [
      "\r",
      "loading hamiltonians:  95%|█████████▍| 6228/6561 [01:27<00:04, 79.32it/s]"
     ]
    },
    {
     "name": "stderr",
     "output_type": "stream",
     "text": [
      "\r",
      "loading hamiltonians:  95%|█████████▌| 6237/6561 [01:27<00:04, 80.39it/s]"
     ]
    },
    {
     "name": "stderr",
     "output_type": "stream",
     "text": [
      "\r",
      "loading hamiltonians:  95%|█████████▌| 6246/6561 [01:27<00:04, 74.76it/s]"
     ]
    },
    {
     "name": "stderr",
     "output_type": "stream",
     "text": [
      "\r",
      "loading hamiltonians:  95%|█████████▌| 6256/6561 [01:27<00:03, 79.04it/s]"
     ]
    },
    {
     "name": "stderr",
     "output_type": "stream",
     "text": [
      "\r",
      "loading hamiltonians:  95%|█████████▌| 6265/6561 [01:27<00:03, 77.16it/s]"
     ]
    },
    {
     "name": "stderr",
     "output_type": "stream",
     "text": [
      "\r",
      "loading hamiltonians:  96%|█████████▌| 6273/6561 [01:27<00:03, 73.80it/s]"
     ]
    },
    {
     "name": "stderr",
     "output_type": "stream",
     "text": [
      "\r",
      "loading hamiltonians:  96%|█████████▌| 6283/6561 [01:28<00:03, 80.05it/s]"
     ]
    },
    {
     "name": "stderr",
     "output_type": "stream",
     "text": [
      "\r",
      "loading hamiltonians:  96%|█████████▌| 6292/6561 [01:28<00:03, 73.84it/s]"
     ]
    },
    {
     "name": "stderr",
     "output_type": "stream",
     "text": [
      "\r",
      "loading hamiltonians:  96%|█████████▌| 6300/6561 [01:28<00:03, 72.86it/s]"
     ]
    },
    {
     "name": "stderr",
     "output_type": "stream",
     "text": [
      "\r",
      "loading hamiltonians:  96%|█████████▌| 6308/6561 [01:28<00:03, 67.94it/s]"
     ]
    },
    {
     "name": "stderr",
     "output_type": "stream",
     "text": [
      "\r",
      "loading hamiltonians:  96%|█████████▋| 6317/6561 [01:28<00:03, 72.75it/s]"
     ]
    },
    {
     "name": "stderr",
     "output_type": "stream",
     "text": [
      "\r",
      "loading hamiltonians:  96%|█████████▋| 6325/6561 [01:28<00:03, 73.29it/s]"
     ]
    },
    {
     "name": "stderr",
     "output_type": "stream",
     "text": [
      "\r",
      "loading hamiltonians:  97%|█████████▋| 6333/6561 [01:28<00:03, 74.91it/s]"
     ]
    },
    {
     "name": "stderr",
     "output_type": "stream",
     "text": [
      "\r",
      "loading hamiltonians:  97%|█████████▋| 6341/6561 [01:28<00:02, 76.17it/s]"
     ]
    },
    {
     "name": "stderr",
     "output_type": "stream",
     "text": [
      "\r",
      "loading hamiltonians:  97%|█████████▋| 6350/6561 [01:28<00:02, 76.78it/s]"
     ]
    },
    {
     "name": "stderr",
     "output_type": "stream",
     "text": [
      "\r",
      "loading hamiltonians:  97%|█████████▋| 6358/6561 [01:29<00:02, 77.28it/s]"
     ]
    },
    {
     "name": "stderr",
     "output_type": "stream",
     "text": [
      "\r",
      "loading hamiltonians:  97%|█████████▋| 6366/6561 [01:29<00:02, 73.05it/s]"
     ]
    },
    {
     "name": "stderr",
     "output_type": "stream",
     "text": [
      "\r",
      "loading hamiltonians:  97%|█████████▋| 6376/6561 [01:29<00:02, 79.27it/s]"
     ]
    },
    {
     "name": "stderr",
     "output_type": "stream",
     "text": [
      "\r",
      "loading hamiltonians:  97%|█████████▋| 6385/6561 [01:29<00:02, 80.66it/s]"
     ]
    },
    {
     "name": "stderr",
     "output_type": "stream",
     "text": [
      "\r",
      "loading hamiltonians:  97%|█████████▋| 6394/6561 [01:29<00:02, 62.94it/s]"
     ]
    },
    {
     "name": "stderr",
     "output_type": "stream",
     "text": [
      "\r",
      "loading hamiltonians:  98%|█████████▊| 6404/6561 [01:29<00:02, 69.66it/s]"
     ]
    },
    {
     "name": "stderr",
     "output_type": "stream",
     "text": [
      "\r",
      "loading hamiltonians:  98%|█████████▊| 6415/6561 [01:29<00:01, 78.00it/s]"
     ]
    },
    {
     "name": "stderr",
     "output_type": "stream",
     "text": [
      "\r",
      "loading hamiltonians:  98%|█████████▊| 6425/6561 [01:29<00:01, 79.99it/s]"
     ]
    },
    {
     "name": "stderr",
     "output_type": "stream",
     "text": [
      "\r",
      "loading hamiltonians:  98%|█████████▊| 6437/6561 [01:30<00:01, 88.04it/s]"
     ]
    },
    {
     "name": "stderr",
     "output_type": "stream",
     "text": [
      "\r",
      "loading hamiltonians:  98%|█████████▊| 6447/6561 [01:30<00:01, 81.45it/s]"
     ]
    },
    {
     "name": "stderr",
     "output_type": "stream",
     "text": [
      "\r",
      "loading hamiltonians:  98%|█████████▊| 6457/6561 [01:30<00:01, 86.14it/s]"
     ]
    },
    {
     "name": "stderr",
     "output_type": "stream",
     "text": [
      "\r",
      "loading hamiltonians:  99%|█████████▊| 6468/6561 [01:30<00:01, 90.35it/s]"
     ]
    },
    {
     "name": "stderr",
     "output_type": "stream",
     "text": [
      "\r",
      "loading hamiltonians:  99%|█████████▊| 6478/6561 [01:30<00:00, 84.39it/s]"
     ]
    },
    {
     "name": "stderr",
     "output_type": "stream",
     "text": [
      "\r",
      "loading hamiltonians:  99%|█████████▉| 6487/6561 [01:30<00:00, 79.26it/s]"
     ]
    },
    {
     "name": "stderr",
     "output_type": "stream",
     "text": [
      "\r",
      "loading hamiltonians:  99%|█████████▉| 6496/6561 [01:30<00:00, 79.91it/s]"
     ]
    },
    {
     "name": "stderr",
     "output_type": "stream",
     "text": [
      "\r",
      "loading hamiltonians:  99%|█████████▉| 6505/6561 [01:30<00:00, 77.85it/s]"
     ]
    },
    {
     "name": "stderr",
     "output_type": "stream",
     "text": [
      "\r",
      "loading hamiltonians:  99%|█████████▉| 6513/6561 [01:30<00:00, 74.51it/s]"
     ]
    },
    {
     "name": "stderr",
     "output_type": "stream",
     "text": [
      "\r",
      "loading hamiltonians:  99%|█████████▉| 6523/6561 [01:31<00:00, 78.05it/s]"
     ]
    },
    {
     "name": "stderr",
     "output_type": "stream",
     "text": [
      "\r",
      "loading hamiltonians: 100%|█████████▉| 6532/6561 [01:31<00:00, 79.44it/s]"
     ]
    },
    {
     "name": "stderr",
     "output_type": "stream",
     "text": [
      "\r",
      "loading hamiltonians: 100%|█████████▉| 6541/6561 [01:31<00:00, 78.84it/s]"
     ]
    },
    {
     "name": "stderr",
     "output_type": "stream",
     "text": [
      "\r",
      "loading hamiltonians: 100%|█████████▉| 6549/6561 [01:31<00:00, 72.49it/s]"
     ]
    },
    {
     "name": "stderr",
     "output_type": "stream",
     "text": [
      "\r",
      "loading hamiltonians: 100%|█████████▉| 6557/6561 [01:31<00:00, 61.42it/s]"
     ]
    },
    {
     "name": "stderr",
     "output_type": "stream",
     "text": [
      "\r",
      "loading hamiltonians: 100%|██████████| 6561/6561 [01:31<00:00, 71.54it/s]"
     ]
    },
    {
     "name": "stderr",
     "output_type": "stream",
     "text": [
      "\n"
     ]
    },
    {
     "name": "stdout",
     "output_type": "stream",
     "text": [
      "shape of raw_data:  (918540, 144)\n",
      "len list_of_hamiltonians:  6561\n"
     ]
    },
    {
     "name": "stdout",
     "output_type": "stream",
     "text": [
      "CPU times: user 2min 13s, sys: 17.1 s, total: 2min 30s\n",
      "Wall time: 3min 26s\n"
     ]
    }
   ],
   "source": [
    "%%time\n",
    "list_of_hamiltonians, raw_data = load_hamiltonians(grid_folder)\n",
    "print(\"shape of raw_data: \", raw_data.shape)\n",
    "print(\"len list_of_hamiltonians: \", len(list_of_hamiltonians))\n",
    "\n",
    "dataframe = make_dataframe(raw_data, list_of_hamiltonians, allowed_windings = allowed_windings, epsilon = epsilon, \\\n",
    "                           csv_dir=csv_dir, csv_name = csv_name)"
   ]
  },
  {
   "cell_type": "code",
   "execution_count": 5,
   "metadata": {
    "execution": {
     "iopub.execute_input": "2020-05-01T03:05:19.004349Z",
     "iopub.status.busy": "2020-05-01T03:05:19.002564Z",
     "iopub.status.idle": "2020-05-01T03:05:19.038640Z",
     "shell.execute_reply": "2020-05-01T03:05:19.038305Z"
    },
    "papermill": {
     "duration": 0.34329,
     "end_time": "2020-05-01T03:05:19.038690",
     "exception": false,
     "start_time": "2020-05-01T03:05:18.695400",
     "status": "completed"
    },
    "tags": []
   },
   "outputs": [
    {
     "name": "stdout",
     "output_type": "stream",
     "text": [
      "<class 'pandas.core.frame.DataFrame'>\n",
      "RangeIndex: 918540 entries, 0 to 918539\n",
      "Columns: 148 entries, id to feat139\n",
      "dtypes: float64(3), int32(1), int64(2), object(142)\n",
      "memory usage: 1.0+ GB\n"
     ]
    },
    {
     "data": {
      "text/html": [
       "<div>\n",
       "<style scoped>\n",
       "    .dataframe tbody tr th:only-of-type {\n",
       "        vertical-align: middle;\n",
       "    }\n",
       "\n",
       "    .dataframe tbody tr th {\n",
       "        vertical-align: top;\n",
       "    }\n",
       "\n",
       "    .dataframe thead th {\n",
       "        text-align: right;\n",
       "    }\n",
       "</style>\n",
       "<table border=\"1\" class=\"dataframe\">\n",
       "  <thead>\n",
       "    <tr style=\"text-align: right;\">\n",
       "      <th></th>\n",
       "      <th>id</th>\n",
       "      <th>path</th>\n",
       "      <th>t1</th>\n",
       "      <th>t2</th>\n",
       "      <th>winding</th>\n",
       "      <th>phase</th>\n",
       "      <th>pred_phase</th>\n",
       "      <th>type_of</th>\n",
       "      <th>feat0</th>\n",
       "      <th>feat1</th>\n",
       "      <th>...</th>\n",
       "      <th>feat130</th>\n",
       "      <th>feat131</th>\n",
       "      <th>feat132</th>\n",
       "      <th>feat133</th>\n",
       "      <th>feat134</th>\n",
       "      <th>feat135</th>\n",
       "      <th>feat136</th>\n",
       "      <th>feat137</th>\n",
       "      <th>feat138</th>\n",
       "      <th>feat139</th>\n",
       "    </tr>\n",
       "  </thead>\n",
       "  <tbody>\n",
       "    <tr>\n",
       "      <th>0</th>\n",
       "      <td>0</td>\n",
       "      <td>H_-2_-2_0.501338.dat</td>\n",
       "      <td>-2.0</td>\n",
       "      <td>-2.0</td>\n",
       "      <td>0.501338</td>\n",
       "      <td>999</td>\n",
       "      <td>666</td>\n",
       "      <td>test</td>\n",
       "      <td>-0.130839</td>\n",
       "      <td>-0.300829</td>\n",
       "      <td>...</td>\n",
       "      <td>-0.080270</td>\n",
       "      <td>0.115548</td>\n",
       "      <td>-0.174799</td>\n",
       "      <td>-0.244861</td>\n",
       "      <td>0.319462</td>\n",
       "      <td>0.059061</td>\n",
       "      <td>-0.000568</td>\n",
       "      <td>0.244879</td>\n",
       "      <td>-0.300829</td>\n",
       "      <td>-0.130839</td>\n",
       "    </tr>\n",
       "    <tr>\n",
       "      <th>1</th>\n",
       "      <td>0</td>\n",
       "      <td>H_-2_-2_0.501338.dat</td>\n",
       "      <td>-2.0</td>\n",
       "      <td>-2.0</td>\n",
       "      <td>0.501338</td>\n",
       "      <td>999</td>\n",
       "      <td>666</td>\n",
       "      <td>test</td>\n",
       "      <td>0.130839</td>\n",
       "      <td>-0.300829</td>\n",
       "      <td>...</td>\n",
       "      <td>0.080270</td>\n",
       "      <td>0.115548</td>\n",
       "      <td>0.174799</td>\n",
       "      <td>-0.244861</td>\n",
       "      <td>-0.319462</td>\n",
       "      <td>0.059061</td>\n",
       "      <td>0.000568</td>\n",
       "      <td>0.244879</td>\n",
       "      <td>0.300829</td>\n",
       "      <td>-0.130839</td>\n",
       "    </tr>\n",
       "    <tr>\n",
       "      <th>2</th>\n",
       "      <td>0</td>\n",
       "      <td>H_-2_-2_0.501338.dat</td>\n",
       "      <td>-2.0</td>\n",
       "      <td>-2.0</td>\n",
       "      <td>0.501338</td>\n",
       "      <td>999</td>\n",
       "      <td>666</td>\n",
       "      <td>test</td>\n",
       "      <td>-0.136032</td>\n",
       "      <td>0.040156</td>\n",
       "      <td>...</td>\n",
       "      <td>0.174723</td>\n",
       "      <td>0.086763</td>\n",
       "      <td>-0.070199</td>\n",
       "      <td>0.105493</td>\n",
       "      <td>-0.137161</td>\n",
       "      <td>-0.181862</td>\n",
       "      <td>0.180933</td>\n",
       "      <td>0.052357</td>\n",
       "      <td>-0.040156</td>\n",
       "      <td>0.136032</td>\n",
       "    </tr>\n",
       "    <tr>\n",
       "      <th>3</th>\n",
       "      <td>0</td>\n",
       "      <td>H_-2_-2_0.501338.dat</td>\n",
       "      <td>-2.0</td>\n",
       "      <td>-2.0</td>\n",
       "      <td>0.501338</td>\n",
       "      <td>999</td>\n",
       "      <td>666</td>\n",
       "      <td>test</td>\n",
       "      <td>0.016772</td>\n",
       "      <td>0.038115</td>\n",
       "      <td>...</td>\n",
       "      <td>0.011447</td>\n",
       "      <td>-0.002690</td>\n",
       "      <td>0.015595</td>\n",
       "      <td>0.024714</td>\n",
       "      <td>-0.039364</td>\n",
       "      <td>-0.009687</td>\n",
       "      <td>0.001017</td>\n",
       "      <td>-0.028996</td>\n",
       "      <td>0.038115</td>\n",
       "      <td>0.016772</td>\n",
       "    </tr>\n",
       "    <tr>\n",
       "      <th>4</th>\n",
       "      <td>0</td>\n",
       "      <td>H_-2_-2_0.501338.dat</td>\n",
       "      <td>-2.0</td>\n",
       "      <td>-2.0</td>\n",
       "      <td>0.501338</td>\n",
       "      <td>999</td>\n",
       "      <td>666</td>\n",
       "      <td>test</td>\n",
       "      <td>-0.096087</td>\n",
       "      <td>0.024817</td>\n",
       "      <td>...</td>\n",
       "      <td>0.105770</td>\n",
       "      <td>0.025590</td>\n",
       "      <td>-0.024172</td>\n",
       "      <td>0.086413</td>\n",
       "      <td>-0.100604</td>\n",
       "      <td>-0.112297</td>\n",
       "      <td>0.113588</td>\n",
       "      <td>0.022113</td>\n",
       "      <td>-0.024817</td>\n",
       "      <td>0.096087</td>\n",
       "    </tr>\n",
       "  </tbody>\n",
       "</table>\n",
       "<p>5 rows × 148 columns</p>\n",
       "</div>"
      ],
      "text/plain": [
       "   id                  path   t1   t2   winding  phase  pred_phase type_of  \\\n",
       "0   0  H_-2_-2_0.501338.dat -2.0 -2.0  0.501338    999         666    test   \n",
       "1   0  H_-2_-2_0.501338.dat -2.0 -2.0  0.501338    999         666    test   \n",
       "2   0  H_-2_-2_0.501338.dat -2.0 -2.0  0.501338    999         666    test   \n",
       "3   0  H_-2_-2_0.501338.dat -2.0 -2.0  0.501338    999         666    test   \n",
       "4   0  H_-2_-2_0.501338.dat -2.0 -2.0  0.501338    999         666    test   \n",
       "\n",
       "       feat0      feat1  ...    feat130    feat131    feat132    feat133  \\\n",
       "0  -0.130839  -0.300829  ...  -0.080270   0.115548  -0.174799  -0.244861   \n",
       "1   0.130839  -0.300829  ...   0.080270   0.115548   0.174799  -0.244861   \n",
       "2  -0.136032   0.040156  ...   0.174723   0.086763  -0.070199   0.105493   \n",
       "3   0.016772   0.038115  ...   0.011447  -0.002690   0.015595   0.024714   \n",
       "4  -0.096087   0.024817  ...   0.105770   0.025590  -0.024172   0.086413   \n",
       "\n",
       "     feat134    feat135    feat136    feat137    feat138    feat139  \n",
       "0   0.319462   0.059061  -0.000568   0.244879  -0.300829  -0.130839  \n",
       "1  -0.319462   0.059061   0.000568   0.244879   0.300829  -0.130839  \n",
       "2  -0.137161  -0.181862   0.180933   0.052357  -0.040156   0.136032  \n",
       "3  -0.039364  -0.009687   0.001017  -0.028996   0.038115   0.016772  \n",
       "4  -0.100604  -0.112297   0.113588   0.022113  -0.024817   0.096087  \n",
       "\n",
       "[5 rows x 148 columns]"
      ]
     },
     "execution_count": 5,
     "metadata": {},
     "output_type": "execute_result"
    }
   ],
   "source": [
    "dataframe.info()\n",
    "dataframe.head()\n",
    "#dataframe.tail()"
   ]
  },
  {
   "cell_type": "markdown",
   "metadata": {
    "papermill": {
     "duration": 0.123461,
     "end_time": "2020-05-01T03:05:19.285729",
     "exception": false,
     "start_time": "2020-05-01T03:05:19.162268",
     "status": "completed"
    },
    "tags": []
   },
   "source": [
    "#### Train/test "
   ]
  },
  {
   "cell_type": "code",
   "execution_count": 6,
   "metadata": {
    "execution": {
     "iopub.execute_input": "2020-05-01T03:05:19.535618Z",
     "iopub.status.busy": "2020-05-01T03:05:19.535296Z",
     "iopub.status.idle": "2020-05-01T03:05:24.933559Z",
     "shell.execute_reply": "2020-05-01T03:05:24.933218Z"
    },
    "papermill": {
     "duration": 5.52479,
     "end_time": "2020-05-01T03:05:24.933612",
     "exception": false,
     "start_time": "2020-05-01T03:05:19.408822",
     "status": "completed"
    },
    "tags": []
   },
   "outputs": [
    {
     "name": "stdout",
     "output_type": "stream",
     "text": [
      "% train:  0.8414875781130925\n",
      "% test:  0.15851242188690748\n",
      "% train + test:  1.0\n"
     ]
    }
   ],
   "source": [
    "n_total = len(dataframe)\n",
    "n_train = len(dataframe[dataframe.type_of == \"train\"])\n",
    "n_test = len(dataframe[dataframe.type_of == \"test\"])\n",
    "print(\"% train: \", n_train/n_total)\n",
    "print(\"% test: \", n_test/n_total)\n",
    "print(\"% train + test: \", (n_train+n_test)/n_total)"
   ]
  },
  {
   "cell_type": "markdown",
   "metadata": {
    "papermill": {
     "duration": 0.123505,
     "end_time": "2020-05-01T03:05:25.182328",
     "exception": false,
     "start_time": "2020-05-01T03:05:25.058823",
     "status": "completed"
    },
    "tags": []
   },
   "source": [
    "#### Unique winding values"
   ]
  },
  {
   "cell_type": "code",
   "execution_count": 7,
   "metadata": {
    "execution": {
     "iopub.execute_input": "2020-05-01T03:05:25.432067Z",
     "iopub.status.busy": "2020-05-01T03:05:25.431743Z",
     "iopub.status.idle": "2020-05-01T03:05:25.446223Z",
     "shell.execute_reply": "2020-05-01T03:05:25.446477Z"
    },
    "papermill": {
     "duration": 0.140372,
     "end_time": "2020-05-01T03:05:25.446542",
     "exception": false,
     "start_time": "2020-05-01T03:05:25.306170",
     "status": "completed"
    },
    "tags": []
   },
   "outputs": [
    {
     "data": {
      "text/plain": [
       "array([ -1,   0,   1,   2, 999], dtype=int32)"
      ]
     },
     "execution_count": 7,
     "metadata": {},
     "output_type": "execute_result"
    }
   ],
   "source": [
    "np.unique(dataframe.phase.values)"
   ]
  },
  {
   "cell_type": "markdown",
   "metadata": {
    "papermill": {
     "duration": 0.123987,
     "end_time": "2020-05-01T03:05:25.693608",
     "exception": false,
     "start_time": "2020-05-01T03:05:25.569621",
     "status": "completed"
    },
    "tags": []
   },
   "source": [
    "#### Checking t values are row-major sorted"
   ]
  },
  {
   "cell_type": "code",
   "execution_count": 8,
   "metadata": {
    "execution": {
     "iopub.execute_input": "2020-05-01T03:05:25.944580Z",
     "iopub.status.busy": "2020-05-01T03:05:25.944267Z",
     "iopub.status.idle": "2020-05-01T03:05:25.951320Z",
     "shell.execute_reply": "2020-05-01T03:05:25.951573Z"
    },
    "papermill": {
     "duration": 0.132796,
     "end_time": "2020-05-01T03:05:25.951639",
     "exception": false,
     "start_time": "2020-05-01T03:05:25.818843",
     "status": "completed"
    },
    "tags": []
   },
   "outputs": [],
   "source": [
    "#np.set_printoptions(threshold=np.inf)\n",
    "#t_array = dataframe[[\"t1\", \"t2\"]].values\n",
    "#print(\"t_array:\\n\", t_array)\n",
    "#np.set_printoptions()"
   ]
  },
  {
   "cell_type": "markdown",
   "metadata": {
    "papermill": {
     "duration": 0.124549,
     "end_time": "2020-05-01T03:05:26.200146",
     "exception": false,
     "start_time": "2020-05-01T03:05:26.075597",
     "status": "completed"
    },
    "tags": []
   },
   "source": [
    "#### Making a grid"
   ]
  },
  {
   "cell_type": "code",
   "execution_count": 9,
   "metadata": {
    "execution": {
     "iopub.execute_input": "2020-05-01T03:05:26.449249Z",
     "iopub.status.busy": "2020-05-01T03:05:26.448936Z",
     "iopub.status.idle": "2020-05-01T03:05:26.456176Z",
     "shell.execute_reply": "2020-05-01T03:05:26.456431Z"
    },
    "papermill": {
     "duration": 0.133082,
     "end_time": "2020-05-01T03:05:26.456499",
     "exception": false,
     "start_time": "2020-05-01T03:05:26.323417",
     "status": "completed"
    },
    "tags": []
   },
   "outputs": [],
   "source": [
    "#xx = dataframe.t2.values\n",
    "#yy = dataframe.t1.values\n",
    "#print(\"xx: \\n\", xx)\n",
    "#print(\"yy: \\n\", yy)"
   ]
  },
  {
   "cell_type": "code",
   "execution_count": 10,
   "metadata": {
    "execution": {
     "iopub.execute_input": "2020-05-01T03:05:26.706344Z",
     "iopub.status.busy": "2020-05-01T03:05:26.706033Z",
     "iopub.status.idle": "2020-05-01T03:05:29.859426Z",
     "shell.execute_reply": "2020-05-01T03:05:29.859680Z"
    },
    "papermill": {
     "duration": 3.278755,
     "end_time": "2020-05-01T03:05:29.859747",
     "exception": false,
     "start_time": "2020-05-01T03:05:26.580992",
     "status": "completed"
    },
    "tags": []
   },
   "outputs": [
    {
     "data": {
      "text/html": [
       "<div>\n",
       "<style scoped>\n",
       "    .dataframe tbody tr th:only-of-type {\n",
       "        vertical-align: middle;\n",
       "    }\n",
       "\n",
       "    .dataframe tbody tr th {\n",
       "        vertical-align: top;\n",
       "    }\n",
       "\n",
       "    .dataframe thead th {\n",
       "        text-align: right;\n",
       "    }\n",
       "</style>\n",
       "<table border=\"1\" class=\"dataframe\">\n",
       "  <thead>\n",
       "    <tr style=\"text-align: right;\">\n",
       "      <th></th>\n",
       "      <th>id</th>\n",
       "      <th>path</th>\n",
       "      <th>t1</th>\n",
       "      <th>t2</th>\n",
       "      <th>winding</th>\n",
       "      <th>phase</th>\n",
       "      <th>pred_phase</th>\n",
       "      <th>type_of</th>\n",
       "      <th>feat0</th>\n",
       "      <th>feat1</th>\n",
       "      <th>...</th>\n",
       "      <th>feat130</th>\n",
       "      <th>feat131</th>\n",
       "      <th>feat132</th>\n",
       "      <th>feat133</th>\n",
       "      <th>feat134</th>\n",
       "      <th>feat135</th>\n",
       "      <th>feat136</th>\n",
       "      <th>feat137</th>\n",
       "      <th>feat138</th>\n",
       "      <th>feat139</th>\n",
       "    </tr>\n",
       "  </thead>\n",
       "  <tbody>\n",
       "    <tr>\n",
       "      <th>1820</th>\n",
       "      <td>13</td>\n",
       "      <td>H_-2_-1.35_-1.00951.dat</td>\n",
       "      <td>-2.0</td>\n",
       "      <td>-1.35</td>\n",
       "      <td>-1.009513</td>\n",
       "      <td>-1</td>\n",
       "      <td>666</td>\n",
       "      <td>train</td>\n",
       "      <td>-0.103652</td>\n",
       "      <td>-0.284244</td>\n",
       "      <td>...</td>\n",
       "      <td>-0.085630</td>\n",
       "      <td>0.120406</td>\n",
       "      <td>-0.171538</td>\n",
       "      <td>-0.245973</td>\n",
       "      <td>0.292482</td>\n",
       "      <td>0.049515</td>\n",
       "      <td>0.007336</td>\n",
       "      <td>0.245460</td>\n",
       "      <td>-0.284244</td>\n",
       "      <td>-0.103652</td>\n",
       "    </tr>\n",
       "    <tr>\n",
       "      <th>1821</th>\n",
       "      <td>13</td>\n",
       "      <td>H_-2_-1.35_-1.00951.dat</td>\n",
       "      <td>-2.0</td>\n",
       "      <td>-1.35</td>\n",
       "      <td>-1.009513</td>\n",
       "      <td>-1</td>\n",
       "      <td>666</td>\n",
       "      <td>train</td>\n",
       "      <td>0.108462</td>\n",
       "      <td>-0.018513</td>\n",
       "      <td>...</td>\n",
       "      <td>-0.143150</td>\n",
       "      <td>-0.074785</td>\n",
       "      <td>0.059149</td>\n",
       "      <td>-0.082631</td>\n",
       "      <td>0.101274</td>\n",
       "      <td>0.145005</td>\n",
       "      <td>-0.142316</td>\n",
       "      <td>-0.035875</td>\n",
       "      <td>0.018513</td>\n",
       "      <td>-0.108462</td>\n",
       "    </tr>\n",
       "    <tr>\n",
       "      <th>1822</th>\n",
       "      <td>13</td>\n",
       "      <td>H_-2_-1.35_-1.00951.dat</td>\n",
       "      <td>-2.0</td>\n",
       "      <td>-1.35</td>\n",
       "      <td>-1.009513</td>\n",
       "      <td>-1</td>\n",
       "      <td>666</td>\n",
       "      <td>train</td>\n",
       "      <td>-0.012914</td>\n",
       "      <td>-0.030343</td>\n",
       "      <td>...</td>\n",
       "      <td>-0.030121</td>\n",
       "      <td>-0.012640</td>\n",
       "      <td>-0.002714</td>\n",
       "      <td>-0.027166</td>\n",
       "      <td>0.034869</td>\n",
       "      <td>0.018913</td>\n",
       "      <td>-0.005105</td>\n",
       "      <td>0.021438</td>\n",
       "      <td>-0.030343</td>\n",
       "      <td>-0.012914</td>\n",
       "    </tr>\n",
       "    <tr>\n",
       "      <th>1823</th>\n",
       "      <td>13</td>\n",
       "      <td>H_-2_-1.35_-1.00951.dat</td>\n",
       "      <td>-2.0</td>\n",
       "      <td>-1.35</td>\n",
       "      <td>-1.009513</td>\n",
       "      <td>-1</td>\n",
       "      <td>666</td>\n",
       "      <td>train</td>\n",
       "      <td>-0.083018</td>\n",
       "      <td>0.018256</td>\n",
       "      <td>...</td>\n",
       "      <td>0.113795</td>\n",
       "      <td>0.094766</td>\n",
       "      <td>-0.076837</td>\n",
       "      <td>0.039087</td>\n",
       "      <td>-0.067312</td>\n",
       "      <td>-0.125038</td>\n",
       "      <td>0.124883</td>\n",
       "      <td>0.045173</td>\n",
       "      <td>-0.018256</td>\n",
       "      <td>0.083018</td>\n",
       "    </tr>\n",
       "    <tr>\n",
       "      <th>1824</th>\n",
       "      <td>13</td>\n",
       "      <td>H_-2_-1.35_-1.00951.dat</td>\n",
       "      <td>-2.0</td>\n",
       "      <td>-1.35</td>\n",
       "      <td>-1.009513</td>\n",
       "      <td>-1</td>\n",
       "      <td>666</td>\n",
       "      <td>train</td>\n",
       "      <td>0.089740</td>\n",
       "      <td>-0.008622</td>\n",
       "      <td>...</td>\n",
       "      <td>-0.094605</td>\n",
       "      <td>-0.001100</td>\n",
       "      <td>0.002127</td>\n",
       "      <td>-0.093511</td>\n",
       "      <td>0.093866</td>\n",
       "      <td>0.094343</td>\n",
       "      <td>-0.093948</td>\n",
       "      <td>-0.004630</td>\n",
       "      <td>0.008622</td>\n",
       "      <td>-0.089740</td>\n",
       "    </tr>\n",
       "    <tr>\n",
       "      <th>...</th>\n",
       "      <td>...</td>\n",
       "      <td>...</td>\n",
       "      <td>...</td>\n",
       "      <td>...</td>\n",
       "      <td>...</td>\n",
       "      <td>...</td>\n",
       "      <td>...</td>\n",
       "      <td>...</td>\n",
       "      <td>...</td>\n",
       "      <td>...</td>\n",
       "      <td>...</td>\n",
       "      <td>...</td>\n",
       "      <td>...</td>\n",
       "      <td>...</td>\n",
       "      <td>...</td>\n",
       "      <td>...</td>\n",
       "      <td>...</td>\n",
       "      <td>...</td>\n",
       "      <td>...</td>\n",
       "      <td>...</td>\n",
       "      <td>...</td>\n",
       "    </tr>\n",
       "    <tr>\n",
       "      <th>2815</th>\n",
       "      <td>20</td>\n",
       "      <td>H_-2_-1_-1.00542.dat</td>\n",
       "      <td>-2.0</td>\n",
       "      <td>-1.00</td>\n",
       "      <td>-1.005423</td>\n",
       "      <td>-1</td>\n",
       "      <td>666</td>\n",
       "      <td>train</td>\n",
       "      <td>0.020530</td>\n",
       "      <td>-0.011779</td>\n",
       "      <td>...</td>\n",
       "      <td>0.147208</td>\n",
       "      <td>-0.135886</td>\n",
       "      <td>-0.096845</td>\n",
       "      <td>-0.037326</td>\n",
       "      <td>-0.052041</td>\n",
       "      <td>0.107992</td>\n",
       "      <td>0.054100</td>\n",
       "      <td>-0.020126</td>\n",
       "      <td>0.011779</td>\n",
       "      <td>-0.020530</td>\n",
       "    </tr>\n",
       "    <tr>\n",
       "      <th>2816</th>\n",
       "      <td>20</td>\n",
       "      <td>H_-2_-1_-1.00542.dat</td>\n",
       "      <td>-2.0</td>\n",
       "      <td>-1.00</td>\n",
       "      <td>-1.005423</td>\n",
       "      <td>-1</td>\n",
       "      <td>666</td>\n",
       "      <td>train</td>\n",
       "      <td>0.139024</td>\n",
       "      <td>-0.030723</td>\n",
       "      <td>...</td>\n",
       "      <td>0.001239</td>\n",
       "      <td>-0.110186</td>\n",
       "      <td>-0.103122</td>\n",
       "      <td>0.123716</td>\n",
       "      <td>0.128904</td>\n",
       "      <td>-0.040312</td>\n",
       "      <td>-0.059862</td>\n",
       "      <td>-0.065276</td>\n",
       "      <td>-0.030723</td>\n",
       "      <td>0.139024</td>\n",
       "    </tr>\n",
       "    <tr>\n",
       "      <th>2817</th>\n",
       "      <td>20</td>\n",
       "      <td>H_-2_-1_-1.00542.dat</td>\n",
       "      <td>-2.0</td>\n",
       "      <td>-1.00</td>\n",
       "      <td>-1.005423</td>\n",
       "      <td>-1</td>\n",
       "      <td>666</td>\n",
       "      <td>train</td>\n",
       "      <td>0.039437</td>\n",
       "      <td>-0.122439</td>\n",
       "      <td>...</td>\n",
       "      <td>0.010935</td>\n",
       "      <td>-0.059090</td>\n",
       "      <td>-0.011280</td>\n",
       "      <td>-0.021964</td>\n",
       "      <td>-0.092937</td>\n",
       "      <td>0.034545</td>\n",
       "      <td>0.003932</td>\n",
       "      <td>0.090595</td>\n",
       "      <td>0.122439</td>\n",
       "      <td>-0.039437</td>\n",
       "    </tr>\n",
       "    <tr>\n",
       "      <th>2818</th>\n",
       "      <td>20</td>\n",
       "      <td>H_-2_-1_-1.00542.dat</td>\n",
       "      <td>-2.0</td>\n",
       "      <td>-1.00</td>\n",
       "      <td>-1.005423</td>\n",
       "      <td>-1</td>\n",
       "      <td>666</td>\n",
       "      <td>train</td>\n",
       "      <td>-0.067667</td>\n",
       "      <td>-0.019252</td>\n",
       "      <td>...</td>\n",
       "      <td>-0.026798</td>\n",
       "      <td>-0.065329</td>\n",
       "      <td>-0.109004</td>\n",
       "      <td>0.073458</td>\n",
       "      <td>0.013448</td>\n",
       "      <td>0.096682</td>\n",
       "      <td>0.136351</td>\n",
       "      <td>-0.084181</td>\n",
       "      <td>-0.019252</td>\n",
       "      <td>-0.067667</td>\n",
       "    </tr>\n",
       "    <tr>\n",
       "      <th>2819</th>\n",
       "      <td>20</td>\n",
       "      <td>H_-2_-1_-1.00542.dat</td>\n",
       "      <td>-2.0</td>\n",
       "      <td>-1.00</td>\n",
       "      <td>-1.005423</td>\n",
       "      <td>-1</td>\n",
       "      <td>666</td>\n",
       "      <td>train</td>\n",
       "      <td>-0.012791</td>\n",
       "      <td>-0.032038</td>\n",
       "      <td>...</td>\n",
       "      <td>-0.155014</td>\n",
       "      <td>0.129172</td>\n",
       "      <td>0.116850</td>\n",
       "      <td>0.032729</td>\n",
       "      <td>0.030919</td>\n",
       "      <td>-0.126044</td>\n",
       "      <td>-0.072052</td>\n",
       "      <td>0.062632</td>\n",
       "      <td>0.032038</td>\n",
       "      <td>0.012791</td>\n",
       "    </tr>\n",
       "  </tbody>\n",
       "</table>\n",
       "<p>1000 rows × 148 columns</p>\n",
       "</div>"
      ],
      "text/plain": [
       "      id                     path   t1    t2   winding  phase  pred_phase  \\\n",
       "1820  13  H_-2_-1.35_-1.00951.dat -2.0 -1.35 -1.009513     -1         666   \n",
       "1821  13  H_-2_-1.35_-1.00951.dat -2.0 -1.35 -1.009513     -1         666   \n",
       "1822  13  H_-2_-1.35_-1.00951.dat -2.0 -1.35 -1.009513     -1         666   \n",
       "1823  13  H_-2_-1.35_-1.00951.dat -2.0 -1.35 -1.009513     -1         666   \n",
       "1824  13  H_-2_-1.35_-1.00951.dat -2.0 -1.35 -1.009513     -1         666   \n",
       "...   ..                      ...  ...   ...       ...    ...         ...   \n",
       "2815  20     H_-2_-1_-1.00542.dat -2.0 -1.00 -1.005423     -1         666   \n",
       "2816  20     H_-2_-1_-1.00542.dat -2.0 -1.00 -1.005423     -1         666   \n",
       "2817  20     H_-2_-1_-1.00542.dat -2.0 -1.00 -1.005423     -1         666   \n",
       "2818  20     H_-2_-1_-1.00542.dat -2.0 -1.00 -1.005423     -1         666   \n",
       "2819  20     H_-2_-1_-1.00542.dat -2.0 -1.00 -1.005423     -1         666   \n",
       "\n",
       "     type_of      feat0      feat1  ...    feat130    feat131    feat132  \\\n",
       "1820   train  -0.103652  -0.284244  ...  -0.085630   0.120406  -0.171538   \n",
       "1821   train   0.108462  -0.018513  ...  -0.143150  -0.074785   0.059149   \n",
       "1822   train  -0.012914  -0.030343  ...  -0.030121  -0.012640  -0.002714   \n",
       "1823   train  -0.083018   0.018256  ...   0.113795   0.094766  -0.076837   \n",
       "1824   train   0.089740  -0.008622  ...  -0.094605  -0.001100   0.002127   \n",
       "...      ...        ...        ...  ...        ...        ...        ...   \n",
       "2815   train   0.020530  -0.011779  ...   0.147208  -0.135886  -0.096845   \n",
       "2816   train   0.139024  -0.030723  ...   0.001239  -0.110186  -0.103122   \n",
       "2817   train   0.039437  -0.122439  ...   0.010935  -0.059090  -0.011280   \n",
       "2818   train  -0.067667  -0.019252  ...  -0.026798  -0.065329  -0.109004   \n",
       "2819   train  -0.012791  -0.032038  ...  -0.155014   0.129172   0.116850   \n",
       "\n",
       "        feat133    feat134    feat135    feat136    feat137    feat138  \\\n",
       "1820  -0.245973   0.292482   0.049515   0.007336   0.245460  -0.284244   \n",
       "1821  -0.082631   0.101274   0.145005  -0.142316  -0.035875   0.018513   \n",
       "1822  -0.027166   0.034869   0.018913  -0.005105   0.021438  -0.030343   \n",
       "1823   0.039087  -0.067312  -0.125038   0.124883   0.045173  -0.018256   \n",
       "1824  -0.093511   0.093866   0.094343  -0.093948  -0.004630   0.008622   \n",
       "...         ...        ...        ...        ...        ...        ...   \n",
       "2815  -0.037326  -0.052041   0.107992   0.054100  -0.020126   0.011779   \n",
       "2816   0.123716   0.128904  -0.040312  -0.059862  -0.065276  -0.030723   \n",
       "2817  -0.021964  -0.092937   0.034545   0.003932   0.090595   0.122439   \n",
       "2818   0.073458   0.013448   0.096682   0.136351  -0.084181  -0.019252   \n",
       "2819   0.032729   0.030919  -0.126044  -0.072052   0.062632   0.032038   \n",
       "\n",
       "        feat139  \n",
       "1820  -0.103652  \n",
       "1821  -0.108462  \n",
       "1822  -0.012914  \n",
       "1823   0.083018  \n",
       "1824  -0.089740  \n",
       "...         ...  \n",
       "2815  -0.020530  \n",
       "2816   0.139024  \n",
       "2817  -0.039437  \n",
       "2818  -0.067667  \n",
       "2819   0.012791  \n",
       "\n",
       "[1000 rows x 148 columns]"
      ]
     },
     "execution_count": 10,
     "metadata": {},
     "output_type": "execute_result"
    }
   ],
   "source": [
    "# A view of train data\n",
    "dataframe[dataframe.type_of == \"train\"].head(1000)"
   ]
  },
  {
   "cell_type": "code",
   "execution_count": 11,
   "metadata": {
    "execution": {
     "iopub.execute_input": "2020-05-01T03:05:30.110971Z",
     "iopub.status.busy": "2020-05-01T03:05:30.110651Z",
     "iopub.status.idle": "2020-05-01T03:05:30.117794Z",
     "shell.execute_reply": "2020-05-01T03:05:30.117523Z"
    },
    "papermill": {
     "duration": 0.133335,
     "end_time": "2020-05-01T03:05:30.117846",
     "exception": false,
     "start_time": "2020-05-01T03:05:29.984511",
     "status": "completed"
    },
    "tags": []
   },
   "outputs": [],
   "source": [
    "# A view of test data\n",
    "#dataframe[dataframe.type_of == \"test\"].head(1000)"
   ]
  },
  {
   "cell_type": "markdown",
   "metadata": {
    "papermill": {
     "duration": 0.123714,
     "end_time": "2020-05-01T03:05:30.365398",
     "exception": false,
     "start_time": "2020-05-01T03:05:30.241684",
     "status": "completed"
    },
    "tags": []
   },
   "source": [
    "#### clearing variables"
   ]
  },
  {
   "cell_type": "code",
   "execution_count": 12,
   "metadata": {
    "execution": {
     "iopub.execute_input": "2020-05-01T03:05:30.614901Z",
     "iopub.status.busy": "2020-05-01T03:05:30.614565Z",
     "iopub.status.idle": "2020-05-01T03:05:30.622083Z",
     "shell.execute_reply": "2020-05-01T03:05:30.621763Z"
    },
    "papermill": {
     "duration": 0.133046,
     "end_time": "2020-05-01T03:05:30.622136",
     "exception": false,
     "start_time": "2020-05-01T03:05:30.489090",
     "status": "completed"
    },
    "tags": []
   },
   "outputs": [],
   "source": [
    "#del list_of_hamiltonians\n",
    "#del raw_data\n",
    "#del dataframe"
   ]
  },
  {
   "cell_type": "code",
   "execution_count": null,
   "metadata": {
    "papermill": {
     "duration": 0.12339,
     "end_time": "2020-05-01T03:05:30.870131",
     "exception": false,
     "start_time": "2020-05-01T03:05:30.746741",
     "status": "completed"
    },
    "tags": []
   },
   "outputs": [],
   "source": []
  }
 ],
 "metadata": {
  "celltoolbar": "Tags",
  "kernelspec": {
   "display_name": "ml_top_phases",
   "language": "python",
   "name": "ml_top_phases"
  },
  "language_info": {
   "codemirror_mode": {
    "name": "ipython",
    "version": 3
   },
   "file_extension": ".py",
   "mimetype": "text/x-python",
   "name": "python",
   "nbconvert_exporter": "python",
   "pygments_lexer": "ipython3",
   "version": "3.6.10"
  },
  "papermill": {
   "duration": 222.134769,
   "end_time": "2020-05-01T03:05:32.293847",
   "environment_variables": {},
   "exception": null,
   "input_path": "0_preprocessing_template.ipynb",
   "output_path": "zzz_preprocessing_output_ssh2_periodic_140_6561.ipynb",
   "parameters": {
    "allowed_windings": [
     -1,
     0,
     1,
     2
    ],
    "csv_dir": "/home/rio/ssh_csvs/ssh2",
    "csv_name": "/home/rio/ssh_csvs/ssh2/periodic_140_6561.csv",
    "epsilon": 0.01,
    "grid_folder": "/home/rio/ssh_grids/ssh2/periodic_140_6561"
   },
   "start_time": "2020-05-01T03:01:50.159078",
   "version": "2.1.0"
  }
 },
 "nbformat": 4,
 "nbformat_minor": 2
}