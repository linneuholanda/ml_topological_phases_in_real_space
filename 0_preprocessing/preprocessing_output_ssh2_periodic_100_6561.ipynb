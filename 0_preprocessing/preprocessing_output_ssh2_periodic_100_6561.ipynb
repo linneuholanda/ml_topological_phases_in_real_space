{
 "cells": [
  {
   "cell_type": "markdown",
   "metadata": {
    "papermill": {
     "duration": 0.017519,
     "end_time": "2020-03-05T04:00:52.686352",
     "exception": false,
     "start_time": "2020-03-05T04:00:52.668833",
     "status": "completed"
    },
    "tags": []
   },
   "source": [
    "# Generate csv files \n"
   ]
  },
  {
   "cell_type": "markdown",
   "metadata": {
    "papermill": {
     "duration": 0.012403,
     "end_time": "2020-03-05T04:00:52.712407",
     "exception": false,
     "start_time": "2020-03-05T04:00:52.700004",
     "status": "completed"
    },
    "tags": []
   },
   "source": [
    "This notebook generates .csv files from a directory containing .dat files with Hamiltonian data. Each .dat file is assumed to be named as `\"H_t1_t2_winding.dat\"`.  "
   ]
  },
  {
   "cell_type": "code",
   "execution_count": 1,
   "metadata": {
    "papermill": {
     "duration": 0.322969,
     "end_time": "2020-03-05T04:00:53.047038",
     "exception": false,
     "start_time": "2020-03-05T04:00:52.724069",
     "status": "completed"
    },
    "tags": []
   },
   "outputs": [],
   "source": [
    "#from IPython.core.display import HTML\n",
    "#HTML(\"<script>Jupyter.notebook.kernel.restart()</script>\")\n",
    "%load_ext autoreload\n",
    "%autoreload 2\n",
    "\n",
    "from preprocessing import *"
   ]
  },
  {
   "cell_type": "markdown",
   "metadata": {
    "papermill": {
     "duration": 0.01213,
     "end_time": "2020-03-05T04:00:53.075988",
     "exception": false,
     "start_time": "2020-03-05T04:00:53.063858",
     "status": "completed"
    },
    "tags": []
   },
   "source": [
    "### Set the parameters below carefully"
   ]
  },
  {
   "cell_type": "code",
   "execution_count": 2,
   "metadata": {
    "papermill": {
     "duration": 0.037645,
     "end_time": "2020-03-05T04:00:53.125777",
     "exception": false,
     "start_time": "2020-03-05T04:00:53.088132",
     "status": "completed"
    },
    "tags": [
     "parameters"
    ]
   },
   "outputs": [
    {
     "name": "stdout",
     "output_type": "stream",
     "text": [
      "CPU times: user 3 µs, sys: 0 ns, total: 3 µs\n",
      "Wall time: 5.48 µs\n"
     ]
    }
   ],
   "source": [
    "%%time\n",
    "grid_folder = \"/home/linneu/ssh_grids/ssh1/periodic_100_6561\"\n",
    "allowed_windings = [0,1]\n",
    "epsilon = 0.01\n",
    "csv_name = \"/home/linneu/ssh_csvs/ssh1/periodic_100_6561.csv\"\n",
    "to_csv = True\n"
   ]
  },
  {
   "cell_type": "code",
   "execution_count": 3,
   "metadata": {
    "papermill": {
     "duration": 0.03054,
     "end_time": "2020-03-05T04:00:53.170880",
     "exception": false,
     "start_time": "2020-03-05T04:00:53.140340",
     "status": "completed"
    },
    "tags": [
     "injected-parameters"
    ]
   },
   "outputs": [],
   "source": [
    "# Parameters\n",
    "allowed_windings = [-1, 0, 1, 2]\n",
    "epsilon = 0.01\n",
    "to_csv = True\n",
    "grid_folder = \"/home/linneu/ssh_grids/ssh2/periodic_100_6561\"\n",
    "csv_name = \"/home/linneu/ssh_csvs/ssh2/periodic_100_6561.csv\"\n"
   ]
  },
  {
   "cell_type": "code",
   "execution_count": 4,
   "metadata": {
    "papermill": {
     "duration": 96.385554,
     "end_time": "2020-03-05T04:02:29.571957",
     "exception": false,
     "start_time": "2020-03-05T04:00:53.186403",
     "status": "completed"
    },
    "tags": []
   },
   "outputs": [
    {
     "name": "stderr",
     "output_type": "stream",
     "text": [
      "\r",
      "loading hamiltonians:   0%|          | 0/6561 [00:00<?, ?it/s]"
     ]
    },
    {
     "name": "stderr",
     "output_type": "stream",
     "text": [
      "\r",
      "loading hamiltonians:   1%|          | 68/6561 [00:00<00:09, 678.51it/s]"
     ]
    },
    {
     "name": "stderr",
     "output_type": "stream",
     "text": [
      "\r",
      "loading hamiltonians:   2%|▏         | 145/6561 [00:00<00:09, 703.23it/s]"
     ]
    },
    {
     "name": "stderr",
     "output_type": "stream",
     "text": [
      "\r",
      "loading hamiltonians:   3%|▎         | 210/6561 [00:00<00:09, 684.42it/s]"
     ]
    },
    {
     "name": "stderr",
     "output_type": "stream",
     "text": [
      "\r",
      "loading hamiltonians:   4%|▍         | 276/6561 [00:00<00:09, 674.82it/s]"
     ]
    },
    {
     "name": "stderr",
     "output_type": "stream",
     "text": [
      "\r",
      "loading hamiltonians:   5%|▌         | 341/6561 [00:00<00:09, 664.92it/s]"
     ]
    },
    {
     "name": "stderr",
     "output_type": "stream",
     "text": [
      "\r",
      "loading hamiltonians:   6%|▌         | 405/6561 [00:00<00:09, 654.93it/s]"
     ]
    },
    {
     "name": "stderr",
     "output_type": "stream",
     "text": [
      "\r",
      "loading hamiltonians:   7%|▋         | 481/6561 [00:00<00:08, 683.11it/s]"
     ]
    },
    {
     "name": "stderr",
     "output_type": "stream",
     "text": [
      "\r",
      "loading hamiltonians:   8%|▊         | 546/6561 [00:00<00:08, 669.39it/s]"
     ]
    },
    {
     "name": "stderr",
     "output_type": "stream",
     "text": [
      "\r",
      "loading hamiltonians:   9%|▉         | 610/6561 [00:00<00:09, 659.07it/s]"
     ]
    },
    {
     "name": "stderr",
     "output_type": "stream",
     "text": [
      "\r",
      "loading hamiltonians:  10%|█         | 674/6561 [00:01<00:09, 653.06it/s]"
     ]
    },
    {
     "name": "stderr",
     "output_type": "stream",
     "text": [
      "\r",
      "loading hamiltonians:  11%|█▏        | 739/6561 [00:01<00:08, 650.21it/s]"
     ]
    },
    {
     "name": "stderr",
     "output_type": "stream",
     "text": [
      "\r",
      "loading hamiltonians:  12%|█▏        | 816/6561 [00:01<00:08, 681.10it/s]"
     ]
    },
    {
     "name": "stderr",
     "output_type": "stream",
     "text": [
      "\r",
      "loading hamiltonians:  13%|█▎        | 884/6561 [00:01<00:13, 406.46it/s]"
     ]
    },
    {
     "name": "stderr",
     "output_type": "stream",
     "text": [
      "\r",
      "loading hamiltonians:  14%|█▍        | 947/6561 [00:01<00:12, 454.67it/s]"
     ]
    },
    {
     "name": "stderr",
     "output_type": "stream",
     "text": [
      "\r",
      "loading hamiltonians:  15%|█▌        | 1004/6561 [00:01<00:11, 469.68it/s]"
     ]
    },
    {
     "name": "stderr",
     "output_type": "stream",
     "text": [
      "\r",
      "loading hamiltonians:  16%|█▌        | 1065/6561 [00:01<00:10, 503.77it/s]"
     ]
    },
    {
     "name": "stderr",
     "output_type": "stream",
     "text": [
      "\r",
      "loading hamiltonians:  17%|█▋        | 1122/6561 [00:01<00:10, 521.61it/s]"
     ]
    },
    {
     "name": "stderr",
     "output_type": "stream",
     "text": [
      "\r",
      "loading hamiltonians:  18%|█▊        | 1188/6561 [00:02<00:09, 556.62it/s]"
     ]
    },
    {
     "name": "stderr",
     "output_type": "stream",
     "text": [
      "\r",
      "loading hamiltonians:  19%|█▉        | 1253/6561 [00:02<00:09, 580.50it/s]"
     ]
    },
    {
     "name": "stderr",
     "output_type": "stream",
     "text": [
      "\r",
      "loading hamiltonians:  20%|██        | 1330/6561 [00:02<00:08, 605.84it/s]"
     ]
    },
    {
     "name": "stderr",
     "output_type": "stream",
     "text": [
      "\r",
      "loading hamiltonians:  21%|██▏       | 1409/6561 [00:02<00:07, 651.14it/s]"
     ]
    },
    {
     "name": "stderr",
     "output_type": "stream",
     "text": [
      "\r",
      "loading hamiltonians:  23%|██▎       | 1477/6561 [00:02<00:07, 655.75it/s]"
     ]
    },
    {
     "name": "stderr",
     "output_type": "stream",
     "text": [
      "\r",
      "loading hamiltonians:  24%|██▎       | 1545/6561 [00:02<00:07, 648.61it/s]"
     ]
    },
    {
     "name": "stderr",
     "output_type": "stream",
     "text": [
      "\r",
      "loading hamiltonians:  25%|██▍       | 1612/6561 [00:02<00:08, 595.83it/s]"
     ]
    },
    {
     "name": "stderr",
     "output_type": "stream",
     "text": [
      "\r",
      "loading hamiltonians:  26%|██▌       | 1674/6561 [00:02<00:08, 571.46it/s]"
     ]
    },
    {
     "name": "stderr",
     "output_type": "stream",
     "text": [
      "\r",
      "loading hamiltonians:  26%|██▋       | 1737/6561 [00:02<00:08, 585.97it/s]"
     ]
    },
    {
     "name": "stderr",
     "output_type": "stream",
     "text": [
      "\r",
      "loading hamiltonians:  27%|██▋       | 1797/6561 [00:03<00:18, 260.09it/s]"
     ]
    },
    {
     "name": "stderr",
     "output_type": "stream",
     "text": [
      "\r",
      "loading hamiltonians:  28%|██▊       | 1861/6561 [00:03<00:14, 316.42it/s]"
     ]
    },
    {
     "name": "stderr",
     "output_type": "stream",
     "text": [
      "\r",
      "loading hamiltonians:  29%|██▉       | 1925/6561 [00:03<00:12, 372.13it/s]"
     ]
    },
    {
     "name": "stderr",
     "output_type": "stream",
     "text": [
      "\r",
      "loading hamiltonians:  31%|███       | 2003/6561 [00:03<00:10, 441.35it/s]"
     ]
    },
    {
     "name": "stderr",
     "output_type": "stream",
     "text": [
      "\r",
      "loading hamiltonians:  32%|███▏      | 2070/6561 [00:03<00:09, 490.78it/s]"
     ]
    },
    {
     "name": "stderr",
     "output_type": "stream",
     "text": [
      "\r",
      "loading hamiltonians:  33%|███▎      | 2135/6561 [00:03<00:08, 529.17it/s]"
     ]
    },
    {
     "name": "stderr",
     "output_type": "stream",
     "text": [
      "\r",
      "loading hamiltonians:  34%|███▎      | 2200/6561 [00:04<00:07, 559.60it/s]"
     ]
    },
    {
     "name": "stderr",
     "output_type": "stream",
     "text": [
      "\r",
      "loading hamiltonians:  35%|███▍      | 2266/6561 [00:04<00:07, 585.42it/s]"
     ]
    },
    {
     "name": "stderr",
     "output_type": "stream",
     "text": [
      "\r",
      "loading hamiltonians:  36%|███▌      | 2343/6561 [00:04<00:06, 630.23it/s]"
     ]
    },
    {
     "name": "stderr",
     "output_type": "stream",
     "text": [
      "\r",
      "loading hamiltonians:  37%|███▋      | 2412/6561 [00:04<00:06, 638.07it/s]"
     ]
    },
    {
     "name": "stderr",
     "output_type": "stream",
     "text": [
      "\r",
      "loading hamiltonians:  38%|███▊      | 2480/6561 [00:04<00:06, 641.73it/s]"
     ]
    },
    {
     "name": "stderr",
     "output_type": "stream",
     "text": [
      "\r",
      "loading hamiltonians:  39%|███▉      | 2547/6561 [00:04<00:06, 643.16it/s]"
     ]
    },
    {
     "name": "stderr",
     "output_type": "stream",
     "text": [
      "\r",
      "loading hamiltonians:  40%|███▉      | 2614/6561 [00:04<00:06, 642.58it/s]"
     ]
    },
    {
     "name": "stderr",
     "output_type": "stream",
     "text": [
      "\r",
      "loading hamiltonians:  41%|████      | 2681/6561 [00:04<00:06, 645.99it/s]"
     ]
    },
    {
     "name": "stderr",
     "output_type": "stream",
     "text": [
      "\r",
      "loading hamiltonians:  42%|████▏     | 2747/6561 [00:05<00:16, 226.11it/s]"
     ]
    },
    {
     "name": "stderr",
     "output_type": "stream",
     "text": [
      "\r",
      "loading hamiltonians:  43%|████▎     | 2809/6561 [00:05<00:13, 279.13it/s]"
     ]
    },
    {
     "name": "stderr",
     "output_type": "stream",
     "text": [
      "\r",
      "loading hamiltonians:  44%|████▍     | 2871/6561 [00:05<00:11, 333.87it/s]"
     ]
    },
    {
     "name": "stderr",
     "output_type": "stream",
     "text": [
      "\r",
      "loading hamiltonians:  45%|████▍     | 2940/6561 [00:05<00:09, 389.64it/s]"
     ]
    },
    {
     "name": "stderr",
     "output_type": "stream",
     "text": [
      "\r",
      "loading hamiltonians:  46%|████▌     | 3014/6561 [00:05<00:07, 453.42it/s]"
     ]
    },
    {
     "name": "stderr",
     "output_type": "stream",
     "text": [
      "\r",
      "loading hamiltonians:  47%|████▋     | 3077/6561 [00:06<00:07, 494.05it/s]"
     ]
    },
    {
     "name": "stderr",
     "output_type": "stream",
     "text": [
      "\r",
      "loading hamiltonians:  48%|████▊     | 3141/6561 [00:06<00:06, 528.99it/s]"
     ]
    },
    {
     "name": "stderr",
     "output_type": "stream",
     "text": [
      "\r",
      "loading hamiltonians:  49%|████▉     | 3206/6561 [00:06<00:05, 559.75it/s]"
     ]
    },
    {
     "name": "stderr",
     "output_type": "stream",
     "text": [
      "\r",
      "loading hamiltonians:  50%|████▉     | 3276/6561 [00:06<00:05, 586.14it/s]"
     ]
    },
    {
     "name": "stderr",
     "output_type": "stream",
     "text": [
      "\r",
      "loading hamiltonians:  51%|█████     | 3354/6561 [00:06<00:05, 631.16it/s]"
     ]
    },
    {
     "name": "stderr",
     "output_type": "stream",
     "text": [
      "\r",
      "loading hamiltonians:  52%|█████▏    | 3422/6561 [00:06<00:04, 637.70it/s]"
     ]
    },
    {
     "name": "stderr",
     "output_type": "stream",
     "text": [
      "\r",
      "loading hamiltonians:  53%|█████▎    | 3490/6561 [00:06<00:04, 638.94it/s]"
     ]
    },
    {
     "name": "stderr",
     "output_type": "stream",
     "text": [
      "\r",
      "loading hamiltonians:  54%|█████▍    | 3557/6561 [00:06<00:04, 640.04it/s]"
     ]
    },
    {
     "name": "stderr",
     "output_type": "stream",
     "text": [
      "\r",
      "loading hamiltonians:  55%|█████▌    | 3623/6561 [00:07<00:16, 182.94it/s]"
     ]
    },
    {
     "name": "stderr",
     "output_type": "stream",
     "text": [
      "\r",
      "loading hamiltonians:  56%|█████▋    | 3700/6561 [00:07<00:12, 236.98it/s]"
     ]
    },
    {
     "name": "stderr",
     "output_type": "stream",
     "text": [
      "\r",
      "loading hamiltonians:  57%|█████▋    | 3764/6561 [00:07<00:09, 292.17it/s]"
     ]
    },
    {
     "name": "stderr",
     "output_type": "stream",
     "text": [
      "\r",
      "loading hamiltonians:  58%|█████▊    | 3829/6561 [00:08<00:07, 349.04it/s]"
     ]
    },
    {
     "name": "stderr",
     "output_type": "stream",
     "text": [
      "\r",
      "loading hamiltonians:  59%|█████▉    | 3896/6561 [00:08<00:06, 406.88it/s]"
     ]
    },
    {
     "name": "stderr",
     "output_type": "stream",
     "text": [
      "\r",
      "loading hamiltonians:  60%|██████    | 3962/6561 [00:08<00:05, 458.06it/s]"
     ]
    },
    {
     "name": "stderr",
     "output_type": "stream",
     "text": [
      "\r",
      "loading hamiltonians:  62%|██████▏   | 4039/6561 [00:08<00:04, 506.11it/s]"
     ]
    },
    {
     "name": "stderr",
     "output_type": "stream",
     "text": [
      "\r",
      "loading hamiltonians:  63%|██████▎   | 4117/6561 [00:08<00:04, 565.15it/s]"
     ]
    },
    {
     "name": "stderr",
     "output_type": "stream",
     "text": [
      "\r",
      "loading hamiltonians:  64%|██████▍   | 4186/6561 [00:08<00:04, 589.34it/s]"
     ]
    },
    {
     "name": "stderr",
     "output_type": "stream",
     "text": [
      "\r",
      "loading hamiltonians:  65%|██████▍   | 4254/6561 [00:08<00:03, 599.64it/s]"
     ]
    },
    {
     "name": "stderr",
     "output_type": "stream",
     "text": [
      "\r",
      "loading hamiltonians:  66%|██████▌   | 4320/6561 [00:08<00:03, 584.15it/s]"
     ]
    },
    {
     "name": "stderr",
     "output_type": "stream",
     "text": [
      "\r",
      "loading hamiltonians:  67%|██████▋   | 4383/6561 [00:08<00:03, 559.23it/s]"
     ]
    },
    {
     "name": "stderr",
     "output_type": "stream",
     "text": [
      "\r",
      "loading hamiltonians:  68%|██████▊   | 4445/6561 [00:08<00:03, 571.95it/s]"
     ]
    },
    {
     "name": "stderr",
     "output_type": "stream",
     "text": [
      "\r",
      "loading hamiltonians:  69%|██████▊   | 4505/6561 [00:09<00:03, 554.53it/s]"
     ]
    },
    {
     "name": "stderr",
     "output_type": "stream",
     "text": [
      "\r",
      "loading hamiltonians:  70%|██████▉   | 4563/6561 [00:09<00:03, 547.26it/s]"
     ]
    },
    {
     "name": "stderr",
     "output_type": "stream",
     "text": [
      "\r",
      "loading hamiltonians:  71%|███████   | 4627/6561 [00:09<00:03, 571.69it/s]"
     ]
    },
    {
     "name": "stderr",
     "output_type": "stream",
     "text": [
      "\r",
      "loading hamiltonians:  72%|███████▏  | 4704/6561 [00:09<00:03, 618.43it/s]"
     ]
    },
    {
     "name": "stderr",
     "output_type": "stream",
     "text": [
      "\r",
      "loading hamiltonians:  73%|███████▎  | 4770/6561 [00:09<00:02, 628.58it/s]"
     ]
    },
    {
     "name": "stderr",
     "output_type": "stream",
     "text": [
      "\r",
      "loading hamiltonians:  74%|███████▎  | 4835/6561 [00:10<00:11, 149.00it/s]"
     ]
    },
    {
     "name": "stderr",
     "output_type": "stream",
     "text": [
      "\r",
      "loading hamiltonians:  75%|███████▍  | 4900/6561 [00:10<00:08, 193.57it/s]"
     ]
    },
    {
     "name": "stderr",
     "output_type": "stream",
     "text": [
      "\r",
      "loading hamiltonians:  76%|███████▌  | 4970/6561 [00:10<00:06, 244.95it/s]"
     ]
    },
    {
     "name": "stderr",
     "output_type": "stream",
     "text": [
      "\r",
      "loading hamiltonians:  77%|███████▋  | 5047/6561 [00:11<00:04, 307.80it/s]"
     ]
    },
    {
     "name": "stderr",
     "output_type": "stream",
     "text": [
      "\r",
      "loading hamiltonians:  78%|███████▊  | 5112/6561 [00:11<00:03, 365.37it/s]"
     ]
    },
    {
     "name": "stderr",
     "output_type": "stream",
     "text": [
      "\r",
      "loading hamiltonians:  79%|███████▉  | 5177/6561 [00:11<00:03, 420.28it/s]"
     ]
    },
    {
     "name": "stderr",
     "output_type": "stream",
     "text": [
      "\r",
      "loading hamiltonians:  80%|███████▉  | 5242/6561 [00:11<00:02, 469.67it/s]"
     ]
    },
    {
     "name": "stderr",
     "output_type": "stream",
     "text": [
      "\r",
      "loading hamiltonians:  81%|████████  | 5307/6561 [00:11<00:02, 511.03it/s]"
     ]
    },
    {
     "name": "stderr",
     "output_type": "stream",
     "text": [
      "\r",
      "loading hamiltonians:  82%|████████▏ | 5383/6561 [00:11<00:02, 565.28it/s]"
     ]
    },
    {
     "name": "stderr",
     "output_type": "stream",
     "text": [
      "\r",
      "loading hamiltonians:  83%|████████▎ | 5451/6561 [00:11<00:01, 583.24it/s]"
     ]
    },
    {
     "name": "stderr",
     "output_type": "stream",
     "text": [
      "\r",
      "loading hamiltonians:  84%|████████▍ | 5518/6561 [00:11<00:01, 593.44it/s]"
     ]
    },
    {
     "name": "stderr",
     "output_type": "stream",
     "text": [
      "\r",
      "loading hamiltonians:  85%|████████▌ | 5583/6561 [00:11<00:01, 602.96it/s]"
     ]
    },
    {
     "name": "stderr",
     "output_type": "stream",
     "text": [
      "\r",
      "loading hamiltonians:  86%|████████▌ | 5648/6561 [00:11<00:01, 606.17it/s]"
     ]
    },
    {
     "name": "stderr",
     "output_type": "stream",
     "text": [
      "\r",
      "loading hamiltonians:  87%|████████▋ | 5712/6561 [00:12<00:01, 615.80it/s]"
     ]
    },
    {
     "name": "stderr",
     "output_type": "stream",
     "text": [
      "\r",
      "loading hamiltonians:  88%|████████▊ | 5776/6561 [00:12<00:01, 588.28it/s]"
     ]
    },
    {
     "name": "stderr",
     "output_type": "stream",
     "text": [
      "\r",
      "loading hamiltonians:  89%|████████▉ | 5837/6561 [00:12<00:01, 571.35it/s]"
     ]
    },
    {
     "name": "stderr",
     "output_type": "stream",
     "text": [
      "\r",
      "loading hamiltonians:  90%|████████▉ | 5901/6561 [00:12<00:01, 588.77it/s]"
     ]
    },
    {
     "name": "stderr",
     "output_type": "stream",
     "text": [
      "\r",
      "loading hamiltonians:  91%|█████████ | 5977/6561 [00:12<00:00, 629.73it/s]"
     ]
    },
    {
     "name": "stderr",
     "output_type": "stream",
     "text": [
      "\r",
      "loading hamiltonians:  92%|█████████▏| 6042/6561 [00:12<00:00, 580.44it/s]"
     ]
    },
    {
     "name": "stderr",
     "output_type": "stream",
     "text": [
      "\r",
      "loading hamiltonians:  93%|█████████▎| 6102/6561 [00:12<00:00, 566.44it/s]"
     ]
    },
    {
     "name": "stderr",
     "output_type": "stream",
     "text": [
      "\r",
      "loading hamiltonians:  94%|█████████▍| 6160/6561 [00:12<00:00, 562.39it/s]"
     ]
    },
    {
     "name": "stderr",
     "output_type": "stream",
     "text": [
      "\r",
      "loading hamiltonians:  95%|█████████▍| 6230/6561 [00:12<00:00, 588.35it/s]"
     ]
    },
    {
     "name": "stderr",
     "output_type": "stream",
     "text": [
      "\r",
      "loading hamiltonians:  96%|█████████▌| 6290/6561 [00:14<00:02, 113.47it/s]"
     ]
    },
    {
     "name": "stderr",
     "output_type": "stream",
     "text": [
      "\r",
      "loading hamiltonians:  97%|█████████▋| 6353/6561 [00:14<00:01, 150.43it/s]"
     ]
    },
    {
     "name": "stderr",
     "output_type": "stream",
     "text": [
      "\r",
      "loading hamiltonians:  98%|█████████▊| 6415/6561 [00:14<00:00, 194.56it/s]"
     ]
    },
    {
     "name": "stderr",
     "output_type": "stream",
     "text": [
      "\r",
      "loading hamiltonians:  99%|█████████▉| 6489/6561 [00:14<00:00, 245.78it/s]"
     ]
    },
    {
     "name": "stderr",
     "output_type": "stream",
     "text": [
      "\r",
      "loading hamiltonians: 100%|██████████| 6561/6561 [00:14<00:00, 440.29it/s]"
     ]
    },
    {
     "name": "stderr",
     "output_type": "stream",
     "text": [
      "\n"
     ]
    },
    {
     "name": "stdout",
     "output_type": "stream",
     "text": [
      "shape of raw_data:  (656100, 104)\n",
      "len list_of_hamiltonians:  6561\n"
     ]
    },
    {
     "name": "stdout",
     "output_type": "stream",
     "text": [
      "CPU times: user 1min 26s, sys: 8.59 s, total: 1min 35s\n",
      "Wall time: 1min 36s\n"
     ]
    }
   ],
   "source": [
    "%%time\n",
    "list_of_hamiltonians, raw_data = load_hamiltonians(grid_folder)\n",
    "print(\"shape of raw_data: \", raw_data.shape)\n",
    "print(\"len list_of_hamiltonians: \", len(list_of_hamiltonians))\n",
    "\n",
    "dataframe = make_dataframe(raw_data, list_of_hamiltonians, allowed_windings = allowed_windings, epsilon = epsilon, \\\n",
    "                           csv_name = csv_name, to_csv = to_csv)"
   ]
  },
  {
   "cell_type": "code",
   "execution_count": 5,
   "metadata": {
    "papermill": {
     "duration": 0.108096,
     "end_time": "2020-03-05T04:02:29.728137",
     "exception": false,
     "start_time": "2020-03-05T04:02:29.620041",
     "status": "completed"
    },
    "tags": []
   },
   "outputs": [
    {
     "name": "stdout",
     "output_type": "stream",
     "text": [
      "<class 'pandas.core.frame.DataFrame'>\n",
      "RangeIndex: 656100 entries, 0 to 656099\n",
      "Columns: 108 entries, id to feat99\n",
      "dtypes: float64(3), int32(1), int64(2), object(102)\n",
      "memory usage: 538.1+ MB\n"
     ]
    },
    {
     "data": {
      "text/html": [
       "<div>\n",
       "<style scoped>\n",
       "    .dataframe tbody tr th:only-of-type {\n",
       "        vertical-align: middle;\n",
       "    }\n",
       "\n",
       "    .dataframe tbody tr th {\n",
       "        vertical-align: top;\n",
       "    }\n",
       "\n",
       "    .dataframe thead th {\n",
       "        text-align: right;\n",
       "    }\n",
       "</style>\n",
       "<table border=\"1\" class=\"dataframe\">\n",
       "  <thead>\n",
       "    <tr style=\"text-align: right;\">\n",
       "      <th></th>\n",
       "      <th>id</th>\n",
       "      <th>path</th>\n",
       "      <th>t1</th>\n",
       "      <th>t2</th>\n",
       "      <th>winding</th>\n",
       "      <th>phase</th>\n",
       "      <th>pred_phase</th>\n",
       "      <th>type_of</th>\n",
       "      <th>feat0</th>\n",
       "      <th>feat1</th>\n",
       "      <th>...</th>\n",
       "      <th>feat90</th>\n",
       "      <th>feat91</th>\n",
       "      <th>feat92</th>\n",
       "      <th>feat93</th>\n",
       "      <th>feat94</th>\n",
       "      <th>feat95</th>\n",
       "      <th>feat96</th>\n",
       "      <th>feat97</th>\n",
       "      <th>feat98</th>\n",
       "      <th>feat99</th>\n",
       "    </tr>\n",
       "  </thead>\n",
       "  <tbody>\n",
       "    <tr>\n",
       "      <th>0</th>\n",
       "      <td>0</td>\n",
       "      <td>H_-2_-2_0.501338.dat</td>\n",
       "      <td>-2.0</td>\n",
       "      <td>-2.0</td>\n",
       "      <td>0.501338</td>\n",
       "      <td>999</td>\n",
       "      <td>666</td>\n",
       "      <td>test</td>\n",
       "      <td>-0.130965</td>\n",
       "      <td>0.301130</td>\n",
       "      <td>...</td>\n",
       "      <td>-0.080279</td>\n",
       "      <td>-0.115687</td>\n",
       "      <td>-0.174988</td>\n",
       "      <td>0.245064</td>\n",
       "      <td>0.319763</td>\n",
       "      <td>-0.059082</td>\n",
       "      <td>-0.000556</td>\n",
       "      <td>-0.245133</td>\n",
       "      <td>-0.301130</td>\n",
       "      <td>0.130965</td>\n",
       "    </tr>\n",
       "    <tr>\n",
       "      <th>1</th>\n",
       "      <td>0</td>\n",
       "      <td>H_-2_-2_0.501338.dat</td>\n",
       "      <td>-2.0</td>\n",
       "      <td>-2.0</td>\n",
       "      <td>0.501338</td>\n",
       "      <td>999</td>\n",
       "      <td>666</td>\n",
       "      <td>test</td>\n",
       "      <td>-0.130965</td>\n",
       "      <td>-0.301130</td>\n",
       "      <td>...</td>\n",
       "      <td>-0.080279</td>\n",
       "      <td>0.115687</td>\n",
       "      <td>-0.174988</td>\n",
       "      <td>-0.245064</td>\n",
       "      <td>0.319763</td>\n",
       "      <td>0.059082</td>\n",
       "      <td>-0.000556</td>\n",
       "      <td>0.245133</td>\n",
       "      <td>-0.301130</td>\n",
       "      <td>-0.130965</td>\n",
       "    </tr>\n",
       "    <tr>\n",
       "      <th>2</th>\n",
       "      <td>0</td>\n",
       "      <td>H_-2_-2_0.501338.dat</td>\n",
       "      <td>-2.0</td>\n",
       "      <td>-2.0</td>\n",
       "      <td>0.501338</td>\n",
       "      <td>999</td>\n",
       "      <td>666</td>\n",
       "      <td>test</td>\n",
       "      <td>-0.148414</td>\n",
       "      <td>-0.042467</td>\n",
       "      <td>...</td>\n",
       "      <td>0.185442</td>\n",
       "      <td>-0.080620</td>\n",
       "      <td>-0.066211</td>\n",
       "      <td>-0.121339</td>\n",
       "      <td>-0.151700</td>\n",
       "      <td>0.192513</td>\n",
       "      <td>0.191642</td>\n",
       "      <td>-0.050956</td>\n",
       "      <td>-0.042467</td>\n",
       "      <td>-0.148414</td>\n",
       "    </tr>\n",
       "    <tr>\n",
       "      <th>3</th>\n",
       "      <td>0</td>\n",
       "      <td>H_-2_-2_0.501338.dat</td>\n",
       "      <td>-2.0</td>\n",
       "      <td>-2.0</td>\n",
       "      <td>0.501338</td>\n",
       "      <td>999</td>\n",
       "      <td>666</td>\n",
       "      <td>test</td>\n",
       "      <td>-0.069630</td>\n",
       "      <td>-0.026147</td>\n",
       "      <td>...</td>\n",
       "      <td>0.102009</td>\n",
       "      <td>-0.100671</td>\n",
       "      <td>-0.081002</td>\n",
       "      <td>-0.020715</td>\n",
       "      <td>-0.058717</td>\n",
       "      <td>0.115834</td>\n",
       "      <td>0.118274</td>\n",
       "      <td>-0.054666</td>\n",
       "      <td>-0.026147</td>\n",
       "      <td>-0.069630</td>\n",
       "    </tr>\n",
       "    <tr>\n",
       "      <th>4</th>\n",
       "      <td>0</td>\n",
       "      <td>H_-2_-2_0.501338.dat</td>\n",
       "      <td>-2.0</td>\n",
       "      <td>-2.0</td>\n",
       "      <td>0.501338</td>\n",
       "      <td>999</td>\n",
       "      <td>666</td>\n",
       "      <td>test</td>\n",
       "      <td>0.010206</td>\n",
       "      <td>-0.014625</td>\n",
       "      <td>...</td>\n",
       "      <td>0.047555</td>\n",
       "      <td>-0.041368</td>\n",
       "      <td>-0.018852</td>\n",
       "      <td>-0.017673</td>\n",
       "      <td>-0.023377</td>\n",
       "      <td>0.031447</td>\n",
       "      <td>0.010280</td>\n",
       "      <td>0.000925</td>\n",
       "      <td>0.014625</td>\n",
       "      <td>-0.010206</td>\n",
       "    </tr>\n",
       "  </tbody>\n",
       "</table>\n",
       "<p>5 rows × 108 columns</p>\n",
       "</div>"
      ],
      "text/plain": [
       "   id                  path   t1   t2   winding  phase  pred_phase type_of  \\\n",
       "0   0  H_-2_-2_0.501338.dat -2.0 -2.0  0.501338    999         666    test   \n",
       "1   0  H_-2_-2_0.501338.dat -2.0 -2.0  0.501338    999         666    test   \n",
       "2   0  H_-2_-2_0.501338.dat -2.0 -2.0  0.501338    999         666    test   \n",
       "3   0  H_-2_-2_0.501338.dat -2.0 -2.0  0.501338    999         666    test   \n",
       "4   0  H_-2_-2_0.501338.dat -2.0 -2.0  0.501338    999         666    test   \n",
       "\n",
       "       feat0      feat1  ...     feat90     feat91     feat92     feat93  \\\n",
       "0  -0.130965   0.301130  ...  -0.080279  -0.115687  -0.174988   0.245064   \n",
       "1  -0.130965  -0.301130  ...  -0.080279   0.115687  -0.174988  -0.245064   \n",
       "2  -0.148414  -0.042467  ...   0.185442  -0.080620  -0.066211  -0.121339   \n",
       "3  -0.069630  -0.026147  ...   0.102009  -0.100671  -0.081002  -0.020715   \n",
       "4   0.010206  -0.014625  ...   0.047555  -0.041368  -0.018852  -0.017673   \n",
       "\n",
       "      feat94     feat95     feat96     feat97     feat98     feat99  \n",
       "0   0.319763  -0.059082  -0.000556  -0.245133  -0.301130   0.130965  \n",
       "1   0.319763   0.059082  -0.000556   0.245133  -0.301130  -0.130965  \n",
       "2  -0.151700   0.192513   0.191642  -0.050956  -0.042467  -0.148414  \n",
       "3  -0.058717   0.115834   0.118274  -0.054666  -0.026147  -0.069630  \n",
       "4  -0.023377   0.031447   0.010280   0.000925   0.014625  -0.010206  \n",
       "\n",
       "[5 rows x 108 columns]"
      ]
     },
     "execution_count": 5,
     "metadata": {},
     "output_type": "execute_result"
    }
   ],
   "source": [
    "dataframe.info()\n",
    "dataframe.head()\n",
    "#dataframe.tail()"
   ]
  },
  {
   "cell_type": "markdown",
   "metadata": {
    "papermill": {
     "duration": 0.045689,
     "end_time": "2020-03-05T04:02:29.825501",
     "exception": false,
     "start_time": "2020-03-05T04:02:29.779812",
     "status": "completed"
    },
    "tags": []
   },
   "source": [
    "#### Train/test "
   ]
  },
  {
   "cell_type": "code",
   "execution_count": 6,
   "metadata": {
    "papermill": {
     "duration": 3.963633,
     "end_time": "2020-03-05T04:02:33.833690",
     "exception": false,
     "start_time": "2020-03-05T04:02:29.870057",
     "status": "completed"
    },
    "tags": []
   },
   "outputs": [
    {
     "name": "stdout",
     "output_type": "stream",
     "text": [
      "% train:  0.8414875781130925\n",
      "% test:  0.15851242188690748\n",
      "% train + test:  1.0\n"
     ]
    }
   ],
   "source": [
    "n_total = len(dataframe)\n",
    "n_train = len(dataframe[dataframe.type_of == \"train\"])\n",
    "n_test = len(dataframe[dataframe.type_of == \"test\"])\n",
    "print(\"% train: \", n_train/n_total)\n",
    "print(\"% test: \", n_test/n_total)\n",
    "print(\"% train + test: \", (n_train+n_test)/n_total)"
   ]
  },
  {
   "cell_type": "markdown",
   "metadata": {
    "papermill": {
     "duration": 0.035395,
     "end_time": "2020-03-05T04:02:33.905324",
     "exception": false,
     "start_time": "2020-03-05T04:02:33.869929",
     "status": "completed"
    },
    "tags": []
   },
   "source": [
    "#### Unique winding values"
   ]
  },
  {
   "cell_type": "code",
   "execution_count": 7,
   "metadata": {
    "papermill": {
     "duration": 0.071909,
     "end_time": "2020-03-05T04:02:34.012963",
     "exception": false,
     "start_time": "2020-03-05T04:02:33.941054",
     "status": "completed"
    },
    "tags": []
   },
   "outputs": [
    {
     "data": {
      "text/plain": [
       "array([ -1,   0,   1,   2, 999], dtype=int32)"
      ]
     },
     "execution_count": 7,
     "metadata": {},
     "output_type": "execute_result"
    }
   ],
   "source": [
    "np.unique(dataframe.phase.values)"
   ]
  },
  {
   "cell_type": "markdown",
   "metadata": {
    "papermill": {
     "duration": 0.033922,
     "end_time": "2020-03-05T04:02:34.089052",
     "exception": false,
     "start_time": "2020-03-05T04:02:34.055130",
     "status": "completed"
    },
    "tags": []
   },
   "source": [
    "#### Checking t values are row-major sorted"
   ]
  },
  {
   "cell_type": "code",
   "execution_count": 8,
   "metadata": {
    "papermill": {
     "duration": 0.054403,
     "end_time": "2020-03-05T04:02:34.178864",
     "exception": false,
     "start_time": "2020-03-05T04:02:34.124461",
     "status": "completed"
    },
    "tags": []
   },
   "outputs": [],
   "source": [
    "#np.set_printoptions(threshold=np.inf)\n",
    "#t_array = dataframe[[\"t1\", \"t2\"]].values\n",
    "#print(\"t_array:\\n\", t_array)\n",
    "#np.set_printoptions()"
   ]
  },
  {
   "cell_type": "markdown",
   "metadata": {
    "papermill": {
     "duration": 0.034469,
     "end_time": "2020-03-05T04:02:34.254674",
     "exception": false,
     "start_time": "2020-03-05T04:02:34.220205",
     "status": "completed"
    },
    "tags": []
   },
   "source": [
    "#### Making a grid"
   ]
  },
  {
   "cell_type": "code",
   "execution_count": 9,
   "metadata": {
    "papermill": {
     "duration": 0.055647,
     "end_time": "2020-03-05T04:02:34.345000",
     "exception": false,
     "start_time": "2020-03-05T04:02:34.289353",
     "status": "completed"
    },
    "tags": []
   },
   "outputs": [],
   "source": [
    "#xx = dataframe.t2.values\n",
    "#yy = dataframe.t1.values\n",
    "#print(\"xx: \\n\", xx)\n",
    "#print(\"yy: \\n\", yy)"
   ]
  },
  {
   "cell_type": "code",
   "execution_count": 10,
   "metadata": {
    "papermill": {
     "duration": 2.223484,
     "end_time": "2020-03-05T04:02:36.609338",
     "exception": false,
     "start_time": "2020-03-05T04:02:34.385854",
     "status": "completed"
    },
    "tags": []
   },
   "outputs": [
    {
     "data": {
      "text/html": [
       "<div>\n",
       "<style scoped>\n",
       "    .dataframe tbody tr th:only-of-type {\n",
       "        vertical-align: middle;\n",
       "    }\n",
       "\n",
       "    .dataframe tbody tr th {\n",
       "        vertical-align: top;\n",
       "    }\n",
       "\n",
       "    .dataframe thead th {\n",
       "        text-align: right;\n",
       "    }\n",
       "</style>\n",
       "<table border=\"1\" class=\"dataframe\">\n",
       "  <thead>\n",
       "    <tr style=\"text-align: right;\">\n",
       "      <th></th>\n",
       "      <th>id</th>\n",
       "      <th>path</th>\n",
       "      <th>t1</th>\n",
       "      <th>t2</th>\n",
       "      <th>winding</th>\n",
       "      <th>phase</th>\n",
       "      <th>pred_phase</th>\n",
       "      <th>type_of</th>\n",
       "      <th>feat0</th>\n",
       "      <th>feat1</th>\n",
       "      <th>...</th>\n",
       "      <th>feat90</th>\n",
       "      <th>feat91</th>\n",
       "      <th>feat92</th>\n",
       "      <th>feat93</th>\n",
       "      <th>feat94</th>\n",
       "      <th>feat95</th>\n",
       "      <th>feat96</th>\n",
       "      <th>feat97</th>\n",
       "      <th>feat98</th>\n",
       "      <th>feat99</th>\n",
       "    </tr>\n",
       "  </thead>\n",
       "  <tbody>\n",
       "    <tr>\n",
       "      <th>1300</th>\n",
       "      <td>13</td>\n",
       "      <td>H_-2_-1.35_-1.00951.dat</td>\n",
       "      <td>-2.0</td>\n",
       "      <td>-1.35</td>\n",
       "      <td>-1.009513</td>\n",
       "      <td>-1</td>\n",
       "      <td>666</td>\n",
       "      <td>train</td>\n",
       "      <td>-0.104066</td>\n",
       "      <td>-0.285366</td>\n",
       "      <td>...</td>\n",
       "      <td>-0.086017</td>\n",
       "      <td>0.120679</td>\n",
       "      <td>-0.172096</td>\n",
       "      <td>-0.246866</td>\n",
       "      <td>0.293625</td>\n",
       "      <td>0.049762</td>\n",
       "      <td>0.007342</td>\n",
       "      <td>0.246399</td>\n",
       "      <td>-0.285366</td>\n",
       "      <td>-0.104066</td>\n",
       "    </tr>\n",
       "    <tr>\n",
       "      <th>1301</th>\n",
       "      <td>13</td>\n",
       "      <td>H_-2_-1.35_-1.00951.dat</td>\n",
       "      <td>-2.0</td>\n",
       "      <td>-1.35</td>\n",
       "      <td>-1.009513</td>\n",
       "      <td>-1</td>\n",
       "      <td>666</td>\n",
       "      <td>train</td>\n",
       "      <td>0.104066</td>\n",
       "      <td>-0.285366</td>\n",
       "      <td>...</td>\n",
       "      <td>0.086017</td>\n",
       "      <td>0.120679</td>\n",
       "      <td>0.172096</td>\n",
       "      <td>-0.246866</td>\n",
       "      <td>-0.293625</td>\n",
       "      <td>0.049762</td>\n",
       "      <td>-0.007342</td>\n",
       "      <td>0.246399</td>\n",
       "      <td>0.285366</td>\n",
       "      <td>-0.104066</td>\n",
       "    </tr>\n",
       "    <tr>\n",
       "      <th>1302</th>\n",
       "      <td>13</td>\n",
       "      <td>H_-2_-1.35_-1.00951.dat</td>\n",
       "      <td>-2.0</td>\n",
       "      <td>-1.35</td>\n",
       "      <td>-1.009513</td>\n",
       "      <td>-1</td>\n",
       "      <td>666</td>\n",
       "      <td>train</td>\n",
       "      <td>-0.142887</td>\n",
       "      <td>0.022700</td>\n",
       "      <td>...</td>\n",
       "      <td>0.181273</td>\n",
       "      <td>0.082602</td>\n",
       "      <td>-0.066147</td>\n",
       "      <td>0.114455</td>\n",
       "      <td>-0.135581</td>\n",
       "      <td>-0.184303</td>\n",
       "      <td>0.181603</td>\n",
       "      <td>0.041138</td>\n",
       "      <td>-0.022700</td>\n",
       "      <td>0.142887</td>\n",
       "    </tr>\n",
       "    <tr>\n",
       "      <th>1303</th>\n",
       "      <td>13</td>\n",
       "      <td>H_-2_-1.35_-1.00951.dat</td>\n",
       "      <td>-2.0</td>\n",
       "      <td>-1.35</td>\n",
       "      <td>-1.009513</td>\n",
       "      <td>-1</td>\n",
       "      <td>666</td>\n",
       "      <td>train</td>\n",
       "      <td>0.058134</td>\n",
       "      <td>-0.015875</td>\n",
       "      <td>...</td>\n",
       "      <td>-0.087360</td>\n",
       "      <td>-0.095125</td>\n",
       "      <td>0.076684</td>\n",
       "      <td>-0.012603</td>\n",
       "      <td>0.041066</td>\n",
       "      <td>0.098932</td>\n",
       "      <td>-0.098948</td>\n",
       "      <td>-0.044073</td>\n",
       "      <td>0.015875</td>\n",
       "      <td>-0.058134</td>\n",
       "    </tr>\n",
       "    <tr>\n",
       "      <th>1304</th>\n",
       "      <td>13</td>\n",
       "      <td>H_-2_-1.35_-1.00951.dat</td>\n",
       "      <td>-2.0</td>\n",
       "      <td>-1.35</td>\n",
       "      <td>-1.009513</td>\n",
       "      <td>-1</td>\n",
       "      <td>666</td>\n",
       "      <td>train</td>\n",
       "      <td>-0.000175</td>\n",
       "      <td>0.010673</td>\n",
       "      <td>...</td>\n",
       "      <td>-0.044358</td>\n",
       "      <td>-0.046746</td>\n",
       "      <td>0.032516</td>\n",
       "      <td>-0.001637</td>\n",
       "      <td>-0.000476</td>\n",
       "      <td>0.026638</td>\n",
       "      <td>-0.012430</td>\n",
       "      <td>-0.017825</td>\n",
       "      <td>0.010673</td>\n",
       "      <td>-0.000175</td>\n",
       "    </tr>\n",
       "    <tr>\n",
       "      <th>...</th>\n",
       "      <td>...</td>\n",
       "      <td>...</td>\n",
       "      <td>...</td>\n",
       "      <td>...</td>\n",
       "      <td>...</td>\n",
       "      <td>...</td>\n",
       "      <td>...</td>\n",
       "      <td>...</td>\n",
       "      <td>...</td>\n",
       "      <td>...</td>\n",
       "      <td>...</td>\n",
       "      <td>...</td>\n",
       "      <td>...</td>\n",
       "      <td>...</td>\n",
       "      <td>...</td>\n",
       "      <td>...</td>\n",
       "      <td>...</td>\n",
       "      <td>...</td>\n",
       "      <td>...</td>\n",
       "      <td>...</td>\n",
       "      <td>...</td>\n",
       "    </tr>\n",
       "    <tr>\n",
       "      <th>2295</th>\n",
       "      <td>22</td>\n",
       "      <td>H_-2_-0.9_-1.00473.dat</td>\n",
       "      <td>-2.0</td>\n",
       "      <td>-0.90</td>\n",
       "      <td>-1.004733</td>\n",
       "      <td>-1</td>\n",
       "      <td>666</td>\n",
       "      <td>train</td>\n",
       "      <td>0.005410</td>\n",
       "      <td>-0.002440</td>\n",
       "      <td>...</td>\n",
       "      <td>-0.021961</td>\n",
       "      <td>-0.012917</td>\n",
       "      <td>-0.031286</td>\n",
       "      <td>-0.000351</td>\n",
       "      <td>-0.027387</td>\n",
       "      <td>0.010159</td>\n",
       "      <td>-0.015548</td>\n",
       "      <td>0.012871</td>\n",
       "      <td>-0.002440</td>\n",
       "      <td>0.005410</td>\n",
       "    </tr>\n",
       "    <tr>\n",
       "      <th>2296</th>\n",
       "      <td>22</td>\n",
       "      <td>H_-2_-0.9_-1.00473.dat</td>\n",
       "      <td>-2.0</td>\n",
       "      <td>-0.90</td>\n",
       "      <td>-1.004733</td>\n",
       "      <td>-1</td>\n",
       "      <td>666</td>\n",
       "      <td>train</td>\n",
       "      <td>0.001795</td>\n",
       "      <td>0.018123</td>\n",
       "      <td>...</td>\n",
       "      <td>0.087062</td>\n",
       "      <td>-0.061334</td>\n",
       "      <td>0.062668</td>\n",
       "      <td>-0.054703</td>\n",
       "      <td>0.047597</td>\n",
       "      <td>-0.033994</td>\n",
       "      <td>0.029762</td>\n",
       "      <td>-0.018820</td>\n",
       "      <td>0.018123</td>\n",
       "      <td>0.001795</td>\n",
       "    </tr>\n",
       "    <tr>\n",
       "      <th>2297</th>\n",
       "      <td>22</td>\n",
       "      <td>H_-2_-0.9_-1.00473.dat</td>\n",
       "      <td>-2.0</td>\n",
       "      <td>-0.90</td>\n",
       "      <td>-1.004733</td>\n",
       "      <td>-1</td>\n",
       "      <td>666</td>\n",
       "      <td>train</td>\n",
       "      <td>0.001795</td>\n",
       "      <td>-0.018123</td>\n",
       "      <td>...</td>\n",
       "      <td>0.087062</td>\n",
       "      <td>0.061334</td>\n",
       "      <td>0.062668</td>\n",
       "      <td>0.054703</td>\n",
       "      <td>0.047597</td>\n",
       "      <td>0.033994</td>\n",
       "      <td>0.029762</td>\n",
       "      <td>0.018820</td>\n",
       "      <td>0.018123</td>\n",
       "      <td>-0.001795</td>\n",
       "    </tr>\n",
       "    <tr>\n",
       "      <th>2298</th>\n",
       "      <td>22</td>\n",
       "      <td>H_-2_-0.9_-1.00473.dat</td>\n",
       "      <td>-2.0</td>\n",
       "      <td>-0.90</td>\n",
       "      <td>-1.004733</td>\n",
       "      <td>-1</td>\n",
       "      <td>666</td>\n",
       "      <td>train</td>\n",
       "      <td>-0.008805</td>\n",
       "      <td>0.027361</td>\n",
       "      <td>...</td>\n",
       "      <td>-0.036555</td>\n",
       "      <td>-0.052792</td>\n",
       "      <td>-0.033141</td>\n",
       "      <td>-0.055619</td>\n",
       "      <td>-0.040105</td>\n",
       "      <td>-0.031738</td>\n",
       "      <td>-0.034036</td>\n",
       "      <td>-0.011915</td>\n",
       "      <td>-0.027361</td>\n",
       "      <td>0.008805</td>\n",
       "    </tr>\n",
       "    <tr>\n",
       "      <th>2299</th>\n",
       "      <td>22</td>\n",
       "      <td>H_-2_-0.9_-1.00473.dat</td>\n",
       "      <td>-2.0</td>\n",
       "      <td>-0.90</td>\n",
       "      <td>-1.004733</td>\n",
       "      <td>-1</td>\n",
       "      <td>666</td>\n",
       "      <td>train</td>\n",
       "      <td>-0.008805</td>\n",
       "      <td>-0.027361</td>\n",
       "      <td>...</td>\n",
       "      <td>-0.036555</td>\n",
       "      <td>0.052792</td>\n",
       "      <td>-0.033141</td>\n",
       "      <td>0.055619</td>\n",
       "      <td>-0.040105</td>\n",
       "      <td>0.031738</td>\n",
       "      <td>-0.034036</td>\n",
       "      <td>0.011915</td>\n",
       "      <td>-0.027361</td>\n",
       "      <td>-0.008805</td>\n",
       "    </tr>\n",
       "  </tbody>\n",
       "</table>\n",
       "<p>1000 rows × 108 columns</p>\n",
       "</div>"
      ],
      "text/plain": [
       "      id                     path   t1    t2   winding  phase  pred_phase  \\\n",
       "1300  13  H_-2_-1.35_-1.00951.dat -2.0 -1.35 -1.009513     -1         666   \n",
       "1301  13  H_-2_-1.35_-1.00951.dat -2.0 -1.35 -1.009513     -1         666   \n",
       "1302  13  H_-2_-1.35_-1.00951.dat -2.0 -1.35 -1.009513     -1         666   \n",
       "1303  13  H_-2_-1.35_-1.00951.dat -2.0 -1.35 -1.009513     -1         666   \n",
       "1304  13  H_-2_-1.35_-1.00951.dat -2.0 -1.35 -1.009513     -1         666   \n",
       "...   ..                      ...  ...   ...       ...    ...         ...   \n",
       "2295  22   H_-2_-0.9_-1.00473.dat -2.0 -0.90 -1.004733     -1         666   \n",
       "2296  22   H_-2_-0.9_-1.00473.dat -2.0 -0.90 -1.004733     -1         666   \n",
       "2297  22   H_-2_-0.9_-1.00473.dat -2.0 -0.90 -1.004733     -1         666   \n",
       "2298  22   H_-2_-0.9_-1.00473.dat -2.0 -0.90 -1.004733     -1         666   \n",
       "2299  22   H_-2_-0.9_-1.00473.dat -2.0 -0.90 -1.004733     -1         666   \n",
       "\n",
       "     type_of      feat0      feat1  ...     feat90     feat91     feat92  \\\n",
       "1300   train  -0.104066  -0.285366  ...  -0.086017   0.120679  -0.172096   \n",
       "1301   train   0.104066  -0.285366  ...   0.086017   0.120679   0.172096   \n",
       "1302   train  -0.142887   0.022700  ...   0.181273   0.082602  -0.066147   \n",
       "1303   train   0.058134  -0.015875  ...  -0.087360  -0.095125   0.076684   \n",
       "1304   train  -0.000175   0.010673  ...  -0.044358  -0.046746   0.032516   \n",
       "...      ...        ...        ...  ...        ...        ...        ...   \n",
       "2295   train   0.005410  -0.002440  ...  -0.021961  -0.012917  -0.031286   \n",
       "2296   train   0.001795   0.018123  ...   0.087062  -0.061334   0.062668   \n",
       "2297   train   0.001795  -0.018123  ...   0.087062   0.061334   0.062668   \n",
       "2298   train  -0.008805   0.027361  ...  -0.036555  -0.052792  -0.033141   \n",
       "2299   train  -0.008805  -0.027361  ...  -0.036555   0.052792  -0.033141   \n",
       "\n",
       "         feat93     feat94     feat95     feat96     feat97     feat98  \\\n",
       "1300  -0.246866   0.293625   0.049762   0.007342   0.246399  -0.285366   \n",
       "1301  -0.246866  -0.293625   0.049762  -0.007342   0.246399   0.285366   \n",
       "1302   0.114455  -0.135581  -0.184303   0.181603   0.041138  -0.022700   \n",
       "1303  -0.012603   0.041066   0.098932  -0.098948  -0.044073   0.015875   \n",
       "1304  -0.001637  -0.000476   0.026638  -0.012430  -0.017825   0.010673   \n",
       "...         ...        ...        ...        ...        ...        ...   \n",
       "2295  -0.000351  -0.027387   0.010159  -0.015548   0.012871  -0.002440   \n",
       "2296  -0.054703   0.047597  -0.033994   0.029762  -0.018820   0.018123   \n",
       "2297   0.054703   0.047597   0.033994   0.029762   0.018820   0.018123   \n",
       "2298  -0.055619  -0.040105  -0.031738  -0.034036  -0.011915  -0.027361   \n",
       "2299   0.055619  -0.040105   0.031738  -0.034036   0.011915  -0.027361   \n",
       "\n",
       "         feat99  \n",
       "1300  -0.104066  \n",
       "1301  -0.104066  \n",
       "1302   0.142887  \n",
       "1303  -0.058134  \n",
       "1304  -0.000175  \n",
       "...         ...  \n",
       "2295   0.005410  \n",
       "2296   0.001795  \n",
       "2297  -0.001795  \n",
       "2298   0.008805  \n",
       "2299  -0.008805  \n",
       "\n",
       "[1000 rows x 108 columns]"
      ]
     },
     "execution_count": 10,
     "metadata": {},
     "output_type": "execute_result"
    }
   ],
   "source": [
    "# A view of train data\n",
    "dataframe[dataframe.type_of == \"train\"].head(1000)"
   ]
  },
  {
   "cell_type": "code",
   "execution_count": 11,
   "metadata": {
    "papermill": {
     "duration": 0.070614,
     "end_time": "2020-03-05T04:02:36.730323",
     "exception": false,
     "start_time": "2020-03-05T04:02:36.659709",
     "status": "completed"
    },
    "tags": []
   },
   "outputs": [],
   "source": [
    "# A view of test data\n",
    "#dataframe[dataframe.type_of == \"test\"].head(1000)"
   ]
  },
  {
   "cell_type": "markdown",
   "metadata": {
    "papermill": {
     "duration": 0.047224,
     "end_time": "2020-03-05T04:02:36.827404",
     "exception": false,
     "start_time": "2020-03-05T04:02:36.780180",
     "status": "completed"
    },
    "tags": []
   },
   "source": [
    "#### clearing variables"
   ]
  },
  {
   "cell_type": "code",
   "execution_count": 12,
   "metadata": {
    "papermill": {
     "duration": 0.071908,
     "end_time": "2020-03-05T04:02:36.946117",
     "exception": false,
     "start_time": "2020-03-05T04:02:36.874209",
     "status": "completed"
    },
    "tags": []
   },
   "outputs": [],
   "source": [
    "#del list_of_hamiltonians\n",
    "#del raw_data\n",
    "#del dataframe"
   ]
  },
  {
   "cell_type": "code",
   "execution_count": null,
   "metadata": {
    "papermill": {
     "duration": 0.047452,
     "end_time": "2020-03-05T04:02:37.045211",
     "exception": false,
     "start_time": "2020-03-05T04:02:36.997759",
     "status": "completed"
    },
    "tags": []
   },
   "outputs": [],
   "source": []
  }
 ],
 "metadata": {
  "celltoolbar": "Tags",
  "kernelspec": {
   "display_name": "ml_top_phases",
   "language": "python",
   "name": "ml_top_phases"
  },
  "language_info": {
   "codemirror_mode": {
    "name": "ipython",
    "version": 3
   },
   "file_extension": ".py",
   "mimetype": "text/x-python",
   "name": "python",
   "nbconvert_exporter": "python",
   "pygments_lexer": "ipython3",
   "version": "3.6.10"
  },
  "papermill": {
   "duration": 105.384284,
   "end_time": "2020-03-05T04:02:37.101608",
   "environment_variables": {},
   "exception": null,
   "input_path": "preprocessing_template.ipynb",
   "output_path": "preprocessing_output_ssh2_periodic_100_6561.ipynb",
   "parameters": {
    "allowed_windings": [
     -1,
     0,
     1,
     2
    ],
    "csv_name": "/home/linneu/ssh_csvs/ssh2/periodic_100_6561.csv",
    "epsilon": 0.01,
    "grid_folder": "/home/linneu/ssh_grids/ssh2/periodic_100_6561",
    "to_csv": true
   },
   "start_time": "2020-03-05T04:00:51.717324",
   "version": "2.0.0"
  }
 },
 "nbformat": 4,
 "nbformat_minor": 2
}