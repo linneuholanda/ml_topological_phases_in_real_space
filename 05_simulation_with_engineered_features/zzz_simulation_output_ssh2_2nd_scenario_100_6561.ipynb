{
 "cells": [
  {
   "cell_type": "markdown",
   "metadata": {
    "papermill": {
     "duration": 0.047263,
     "end_time": "2020-07-09T19:23:25.691556",
     "exception": false,
     "start_time": "2020-07-09T19:23:25.644293",
     "status": "completed"
    },
    "tags": []
   },
   "source": [
    "# Simulation template \n",
    "\n",
    "In this notebook we run the machine learning analysis of topological phase transitions occurring  in both nearest-neighbours SSH models (ssh1) and second neighbours models (ssh2) as decribed in the paper [Machine learning topological phases in real space](https://arxiv.org/abs/1901.01963). Here the simulation is run with features generated from fourier components in the first scenario. This scenario is characterized by using only the EVEN wavevector space eigenmodes, computed from ALL real space components."
   ]
  },
  {
   "cell_type": "markdown",
   "metadata": {
    "papermill": {
     "duration": 0.015035,
     "end_time": "2020-07-09T19:23:25.725348",
     "exception": false,
     "start_time": "2020-07-09T19:23:25.710313",
     "status": "completed"
    },
    "tags": []
   },
   "source": [
    "## Defining parameters"
   ]
  },
  {
   "cell_type": "code",
   "execution_count": 1,
   "metadata": {
    "execution": {
     "iopub.execute_input": "2020-07-09T19:23:25.758799Z",
     "iopub.status.busy": "2020-07-09T19:23:25.758460Z",
     "iopub.status.idle": "2020-07-09T19:23:26.349213Z",
     "shell.execute_reply": "2020-07-09T19:23:26.348890Z"
    },
    "papermill": {
     "duration": 0.608716,
     "end_time": "2020-07-09T19:23:26.349268",
     "exception": false,
     "start_time": "2020-07-09T19:23:25.740552",
     "status": "completed"
    },
    "tags": []
   },
   "outputs": [
    {
     "name": "stdout",
     "output_type": "stream",
     "text": [
      "CPU times: user 786 ms, sys: 234 ms, total: 1.02 s\n",
      "Wall time: 584 ms\n"
     ]
    }
   ],
   "source": [
    "%%time\n",
    "%load_ext autoreload\n",
    "%autoreload 2\n",
    "from simulation import *"
   ]
  },
  {
   "cell_type": "code",
   "execution_count": 2,
   "metadata": {
    "execution": {
     "iopub.execute_input": "2020-07-09T19:23:26.383197Z",
     "iopub.status.busy": "2020-07-09T19:23:26.382877Z",
     "iopub.status.idle": "2020-07-09T19:23:26.395098Z",
     "shell.execute_reply": "2020-07-09T19:23:26.395408Z"
    },
    "papermill": {
     "duration": 0.030095,
     "end_time": "2020-07-09T19:23:26.395475",
     "exception": false,
     "start_time": "2020-07-09T19:23:26.365380",
     "status": "completed"
    },
    "tags": [
     "parameters"
    ]
   },
   "outputs": [
    {
     "name": "stdout",
     "output_type": "stream",
     "text": [
      "CPU times: user 4 µs, sys: 0 ns, total: 4 µs\n",
      "Wall time: 5.01 µs\n"
     ]
    }
   ],
   "source": [
    "%%time\n",
    "### Dataset and simulation parameters\n",
    "#csv_path = SSH2_PERIODIC_100_6561_CSV \n",
    "csv_path = SSH1_PERIODIC_100_6561_CSV \n",
    "model_name = \"DecisionTreeClassifier\"\n",
    "model_kw = {\"criterion\":\"entropy\"}\n",
    "allowed_windings = [0,1]\n",
    "#allowed_windings = [-1,0,1,2]\n",
    "simulation_dir = SSH1_PERIODIC_1ST_SCENARIO_100_6561_SIMULATION_DIR\n",
    "#simulation_dir = SSH2_PERIODIC_ENGINEERED_100_6561_SIMULATION_DIR\n",
    "val_split = 0.9  \n",
    "features_to_use = None\n",
    "shuffle_features = False\n",
    "random_state = 763\n",
    "\n",
    "### Fourier features\n",
    "fourier_mode = \"dft\"\n",
    "fourier_features_to_use = None\n",
    "fourier_real = \"real\"\n",
    "fourier_normalize = True\n",
    "fourier_fillna = False\n",
    "\n",
    "### Running a simulation\n",
    "n_experiments = 5\n",
    "start_n = 0\n",
    "fit_params = None\n",
    "#mode=mode\n",
    "shuffle_rows = True\n",
    "pred_params = None\n",
    "random_features = False\n",
    "######### DON'T SET THIS TO TRUE UNLESS YOUR DATASET IS SMALL!! WILL FLOOD YOUR MEMORY!!!\n",
    "store_in_lists = False   \n",
    "########## BELOW ARE THE PARAMETERS THAT CONTROL WHAT WILL BE SAVED\n",
    "save_eigenvector=True\n",
    "save_hamiltonian=True \n",
    "save_accuracy=True \n",
    "save_models=True"
   ]
  },
  {
   "cell_type": "code",
   "execution_count": 3,
   "metadata": {
    "execution": {
     "iopub.execute_input": "2020-07-09T19:23:26.430047Z",
     "iopub.status.busy": "2020-07-09T19:23:26.429732Z",
     "iopub.status.idle": "2020-07-09T19:23:26.543362Z",
     "shell.execute_reply": "2020-07-09T19:23:26.541619Z"
    },
    "papermill": {
     "duration": 0.132795,
     "end_time": "2020-07-09T19:23:26.543606",
     "exception": false,
     "start_time": "2020-07-09T19:23:26.410811",
     "status": "completed"
    },
    "tags": [
     "injected-parameters"
    ]
   },
   "outputs": [],
   "source": [
    "# Parameters\n",
    "model_kw = {\"criterion\": \"entropy\", \"n_estimators\": 25, \"n_jobs\": -1}\n",
    "allowed_windings = [-1, 0, 1, 2]\n",
    "val_split = 0.5\n",
    "features_to_use = [0, 1, 2, 3, 4, 5, 6, 7, 46, 48, 49, 50]\n",
    "shuffle_features = False\n",
    "n_experiments = 100\n",
    "start_n = 0\n",
    "fit_params = None\n",
    "shuffle_rows = True\n",
    "pred_params = None\n",
    "random_features = False\n",
    "store_in_lists = False\n",
    "save_eigenvector = True\n",
    "save_hamiltonian = True\n",
    "save_accuracy = True\n",
    "save_models = True\n",
    "csv_path = \"/home/rio/ssh_csvs/ssh2/periodic_100_6561.csv\"\n",
    "model_name = \"RandomForestClassifier\"\n",
    "simulation_dir = \"/home/rio/ssh_simulations/ssh2/periodic_2nd_scenario_100_6561\"\n",
    "random_state = 93474\n",
    "fourier_features_to_use = None\n",
    "fourier_mode = None\n",
    "fourier_real = None\n",
    "fourier_normalize = None\n",
    "fourier_fillna = None\n"
   ]
  },
  {
   "cell_type": "code",
   "execution_count": 4,
   "metadata": {
    "execution": {
     "iopub.execute_input": "2020-07-09T19:23:26.610854Z",
     "iopub.status.busy": "2020-07-09T19:23:26.610523Z",
     "iopub.status.idle": "2020-07-09T19:23:32.022953Z",
     "shell.execute_reply": "2020-07-09T19:23:32.022631Z"
    },
    "papermill": {
     "duration": 5.432243,
     "end_time": "2020-07-09T19:23:32.023004",
     "exception": false,
     "start_time": "2020-07-09T19:23:26.590761",
     "status": "completed"
    },
    "tags": []
   },
   "outputs": [
    {
     "name": "stdout",
     "output_type": "stream",
     "text": [
      "Info on all data: \n",
      "\n",
      "<class 'pandas.core.frame.DataFrame'>\n",
      "Int64Index: 656100 entries, 0 to 656099\n",
      "Columns: 108 entries, id to feat99\n",
      "dtypes: float64(103), int32(3), object(2)\n",
      "memory usage: 538.1+ MB\n",
      "CPU times: user 5.13 s, sys: 261 ms, total: 5.39 s\n",
      "Wall time: 5.39 s\n"
     ]
    },
    {
     "data": {
      "text/html": [
       "<div>\n",
       "<style scoped>\n",
       "    .dataframe tbody tr th:only-of-type {\n",
       "        vertical-align: middle;\n",
       "    }\n",
       "\n",
       "    .dataframe tbody tr th {\n",
       "        vertical-align: top;\n",
       "    }\n",
       "\n",
       "    .dataframe thead th {\n",
       "        text-align: right;\n",
       "    }\n",
       "</style>\n",
       "<table border=\"1\" class=\"dataframe\">\n",
       "  <thead>\n",
       "    <tr style=\"text-align: right;\">\n",
       "      <th></th>\n",
       "      <th>id</th>\n",
       "      <th>path</th>\n",
       "      <th>t1</th>\n",
       "      <th>t2</th>\n",
       "      <th>winding</th>\n",
       "      <th>phase</th>\n",
       "      <th>pred_phase</th>\n",
       "      <th>type_of</th>\n",
       "      <th>feat0</th>\n",
       "      <th>feat1</th>\n",
       "      <th>...</th>\n",
       "      <th>feat90</th>\n",
       "      <th>feat91</th>\n",
       "      <th>feat92</th>\n",
       "      <th>feat93</th>\n",
       "      <th>feat94</th>\n",
       "      <th>feat95</th>\n",
       "      <th>feat96</th>\n",
       "      <th>feat97</th>\n",
       "      <th>feat98</th>\n",
       "      <th>feat99</th>\n",
       "    </tr>\n",
       "  </thead>\n",
       "  <tbody>\n",
       "    <tr>\n",
       "      <th>0</th>\n",
       "      <td>0</td>\n",
       "      <td>H_-2_-2_0.501338.dat</td>\n",
       "      <td>-2.0</td>\n",
       "      <td>-2.0</td>\n",
       "      <td>0.501338</td>\n",
       "      <td>999</td>\n",
       "      <td>666</td>\n",
       "      <td>test</td>\n",
       "      <td>-0.130965</td>\n",
       "      <td>0.301130</td>\n",
       "      <td>...</td>\n",
       "      <td>-0.080279</td>\n",
       "      <td>-0.115687</td>\n",
       "      <td>-0.174988</td>\n",
       "      <td>0.245064</td>\n",
       "      <td>0.319763</td>\n",
       "      <td>-0.059082</td>\n",
       "      <td>-0.000556</td>\n",
       "      <td>-0.245133</td>\n",
       "      <td>-0.301130</td>\n",
       "      <td>0.130965</td>\n",
       "    </tr>\n",
       "    <tr>\n",
       "      <th>1</th>\n",
       "      <td>0</td>\n",
       "      <td>H_-2_-2_0.501338.dat</td>\n",
       "      <td>-2.0</td>\n",
       "      <td>-2.0</td>\n",
       "      <td>0.501338</td>\n",
       "      <td>999</td>\n",
       "      <td>666</td>\n",
       "      <td>test</td>\n",
       "      <td>-0.130965</td>\n",
       "      <td>-0.301130</td>\n",
       "      <td>...</td>\n",
       "      <td>-0.080279</td>\n",
       "      <td>0.115687</td>\n",
       "      <td>-0.174988</td>\n",
       "      <td>-0.245064</td>\n",
       "      <td>0.319763</td>\n",
       "      <td>0.059082</td>\n",
       "      <td>-0.000556</td>\n",
       "      <td>0.245133</td>\n",
       "      <td>-0.301130</td>\n",
       "      <td>-0.130965</td>\n",
       "    </tr>\n",
       "    <tr>\n",
       "      <th>2</th>\n",
       "      <td>0</td>\n",
       "      <td>H_-2_-2_0.501338.dat</td>\n",
       "      <td>-2.0</td>\n",
       "      <td>-2.0</td>\n",
       "      <td>0.501338</td>\n",
       "      <td>999</td>\n",
       "      <td>666</td>\n",
       "      <td>test</td>\n",
       "      <td>-0.148414</td>\n",
       "      <td>-0.042467</td>\n",
       "      <td>...</td>\n",
       "      <td>0.185442</td>\n",
       "      <td>-0.080620</td>\n",
       "      <td>-0.066211</td>\n",
       "      <td>-0.121339</td>\n",
       "      <td>-0.151700</td>\n",
       "      <td>0.192513</td>\n",
       "      <td>0.191642</td>\n",
       "      <td>-0.050956</td>\n",
       "      <td>-0.042467</td>\n",
       "      <td>-0.148414</td>\n",
       "    </tr>\n",
       "    <tr>\n",
       "      <th>3</th>\n",
       "      <td>0</td>\n",
       "      <td>H_-2_-2_0.501338.dat</td>\n",
       "      <td>-2.0</td>\n",
       "      <td>-2.0</td>\n",
       "      <td>0.501338</td>\n",
       "      <td>999</td>\n",
       "      <td>666</td>\n",
       "      <td>test</td>\n",
       "      <td>-0.069630</td>\n",
       "      <td>-0.026147</td>\n",
       "      <td>...</td>\n",
       "      <td>0.102009</td>\n",
       "      <td>-0.100671</td>\n",
       "      <td>-0.081002</td>\n",
       "      <td>-0.020715</td>\n",
       "      <td>-0.058717</td>\n",
       "      <td>0.115834</td>\n",
       "      <td>0.118274</td>\n",
       "      <td>-0.054666</td>\n",
       "      <td>-0.026147</td>\n",
       "      <td>-0.069630</td>\n",
       "    </tr>\n",
       "    <tr>\n",
       "      <th>4</th>\n",
       "      <td>0</td>\n",
       "      <td>H_-2_-2_0.501338.dat</td>\n",
       "      <td>-2.0</td>\n",
       "      <td>-2.0</td>\n",
       "      <td>0.501338</td>\n",
       "      <td>999</td>\n",
       "      <td>666</td>\n",
       "      <td>test</td>\n",
       "      <td>0.010206</td>\n",
       "      <td>-0.014625</td>\n",
       "      <td>...</td>\n",
       "      <td>0.047555</td>\n",
       "      <td>-0.041368</td>\n",
       "      <td>-0.018852</td>\n",
       "      <td>-0.017673</td>\n",
       "      <td>-0.023377</td>\n",
       "      <td>0.031447</td>\n",
       "      <td>0.010280</td>\n",
       "      <td>0.000925</td>\n",
       "      <td>0.014625</td>\n",
       "      <td>-0.010206</td>\n",
       "    </tr>\n",
       "  </tbody>\n",
       "</table>\n",
       "<p>5 rows × 108 columns</p>\n",
       "</div>"
      ],
      "text/plain": [
       "   id                  path   t1   t2   winding  phase  pred_phase type_of  \\\n",
       "0   0  H_-2_-2_0.501338.dat -2.0 -2.0  0.501338    999         666    test   \n",
       "1   0  H_-2_-2_0.501338.dat -2.0 -2.0  0.501338    999         666    test   \n",
       "2   0  H_-2_-2_0.501338.dat -2.0 -2.0  0.501338    999         666    test   \n",
       "3   0  H_-2_-2_0.501338.dat -2.0 -2.0  0.501338    999         666    test   \n",
       "4   0  H_-2_-2_0.501338.dat -2.0 -2.0  0.501338    999         666    test   \n",
       "\n",
       "      feat0     feat1  ...    feat90    feat91    feat92    feat93    feat94  \\\n",
       "0 -0.130965  0.301130  ... -0.080279 -0.115687 -0.174988  0.245064  0.319763   \n",
       "1 -0.130965 -0.301130  ... -0.080279  0.115687 -0.174988 -0.245064  0.319763   \n",
       "2 -0.148414 -0.042467  ...  0.185442 -0.080620 -0.066211 -0.121339 -0.151700   \n",
       "3 -0.069630 -0.026147  ...  0.102009 -0.100671 -0.081002 -0.020715 -0.058717   \n",
       "4  0.010206 -0.014625  ...  0.047555 -0.041368 -0.018852 -0.017673 -0.023377   \n",
       "\n",
       "     feat95    feat96    feat97    feat98    feat99  \n",
       "0 -0.059082 -0.000556 -0.245133 -0.301130  0.130965  \n",
       "1  0.059082 -0.000556  0.245133 -0.301130 -0.130965  \n",
       "2  0.192513  0.191642 -0.050956 -0.042467 -0.148414  \n",
       "3  0.115834  0.118274 -0.054666 -0.026147 -0.069630  \n",
       "4  0.031447  0.010280  0.000925  0.014625 -0.010206  \n",
       "\n",
       "[5 rows x 108 columns]"
      ]
     },
     "execution_count": 4,
     "metadata": {},
     "output_type": "execute_result"
    }
   ],
   "source": [
    "%%time\n",
    "#Starting an instance of Simulation with a decision tree\n",
    "model = DecisionTreeClassifier(criterion=\"entropy\")\n",
    "#dict_args = {\"csv_path\":csv_path, \"model\":model, \"allowed_windings\":allowed_windings,\\\n",
    "#             \"simulation_dir\":simulation_dir, \"val_split\":val_split, \"features_to_use\":features_to_use,\\\n",
    "#            \"shuffle_features\":shuffle_features, \"random_state\":random_state}\n",
    "simulation = Simulation(csv_path,model_name,model_kw,allowed_windings,simulation_dir,val_split,features_to_use,\\\n",
    "                       shuffle_features,fourier_mode,fourier_features_to_use,fourier_real,\\\n",
    "                       fourier_normalize, fourier_fillna , random_state)\n",
    "#simulation = Simulation(**dict_args)\n",
    "\n",
    "\n",
    "#(self, csv_path, model_name, model_kw, allowed_windings, simulation_dir = None, val_split = 0, \n",
    "# features_to_use = None, shuffle_features = False, fourier_mode=None, fourier_features_to_use=None,\n",
    "# fourier_real = False, fourier_normalize = False, Fourier_fillna=False, random_state = None):\n",
    "\n",
    "\n",
    "\n",
    "print(\"Info on all data: \\n\")\n",
    "simulation.dataframe.info()\n",
    "simulation.dataframe.head()"
   ]
  },
  {
   "cell_type": "markdown",
   "metadata": {
    "papermill": {
     "duration": 0.023463,
     "end_time": "2020-07-09T19:23:32.064191",
     "exception": false,
     "start_time": "2020-07-09T19:23:32.040728",
     "status": "completed"
    },
    "tags": []
   },
   "source": [
    "####  Fourier features"
   ]
  },
  {
   "cell_type": "code",
   "execution_count": 5,
   "metadata": {
    "execution": {
     "iopub.execute_input": "2020-07-09T19:23:32.098326Z",
     "iopub.status.busy": "2020-07-09T19:23:32.098020Z",
     "iopub.status.idle": "2020-07-09T19:23:32.108560Z",
     "shell.execute_reply": "2020-07-09T19:23:32.108230Z"
    },
    "papermill": {
     "duration": 0.028314,
     "end_time": "2020-07-09T19:23:32.108611",
     "exception": false,
     "start_time": "2020-07-09T19:23:32.080297",
     "status": "completed"
    },
    "tags": []
   },
   "outputs": [
    {
     "name": "stdout",
     "output_type": "stream",
     "text": [
      "CPU times: user 2 µs, sys: 0 ns, total: 2 µs\n",
      "Wall time: 3.81 µs\n"
     ]
    }
   ],
   "source": [
    "%%time\n",
    "#simulation.generate_fourier_df()\n",
    "if simulation.fourier_mode is not None:\n",
    "    simulation.fourier_dataframe.info() \n",
    "    simulation.fourier_dataframe.sample(15)\n"
   ]
  },
  {
   "cell_type": "code",
   "execution_count": 6,
   "metadata": {
    "execution": {
     "iopub.execute_input": "2020-07-09T19:23:32.145266Z",
     "iopub.status.busy": "2020-07-09T19:23:32.144759Z",
     "iopub.status.idle": "2020-07-09T19:23:32.200311Z",
     "shell.execute_reply": "2020-07-09T19:23:32.200740Z"
    },
    "papermill": {
     "duration": 0.075394,
     "end_time": "2020-07-09T19:23:32.200823",
     "exception": false,
     "start_time": "2020-07-09T19:23:32.125429",
     "status": "completed"
    },
    "tags": []
   },
   "outputs": [
    {
     "name": "stdout",
     "output_type": "stream",
     "text": [
      "features_to_use: \n",
      "\n",
      "\n",
      "[0, 1, 2, 3, 4, 5, 6, 7, 46, 48, 49, 50]\n",
      "Number of real space features:\n",
      "\n",
      "\n",
      "12\n",
      "\n",
      "\n",
      "fourier_features: \n",
      "\n",
      "\n",
      "None\n",
      "\n",
      "\n"
     ]
    }
   ],
   "source": [
    "print(\"features_to_use: \")\n",
    "print(\"\\n\")\n",
    "print(simulation.features_to_use)\n",
    "if simulation.features_to_use is not None:\n",
    "    print(\"Number of real space features:\")\n",
    "    print(\"\\n\")\n",
    "    print(len(simulation.features_to_use))\n",
    "print(\"\\n\")\n",
    "print(\"fourier_features: \")\n",
    "print(\"\\n\")\n",
    "print(simulation.fourier_features)\n",
    "print(\"\\n\")\n",
    "if simulation.fourier_features is not None:\n",
    "    print(\"Number of Fourier features: \")\n",
    "    print(\"\\n\")\n",
    "    print(len(simulation.fourier_features))"
   ]
  },
  {
   "cell_type": "code",
   "execution_count": 7,
   "metadata": {
    "execution": {
     "iopub.execute_input": "2020-07-09T19:23:32.249777Z",
     "iopub.status.busy": "2020-07-09T19:23:32.249324Z",
     "iopub.status.idle": "2020-07-09T19:23:32.291164Z",
     "shell.execute_reply": "2020-07-09T19:23:32.289318Z"
    },
    "papermill": {
     "duration": 0.067118,
     "end_time": "2020-07-09T19:23:32.291415",
     "exception": false,
     "start_time": "2020-07-09T19:23:32.224297",
     "status": "completed"
    },
    "tags": []
   },
   "outputs": [],
   "source": [
    "#simulation.dataframe.iloc[331456,:]"
   ]
  },
  {
   "cell_type": "code",
   "execution_count": 8,
   "metadata": {
    "execution": {
     "iopub.execute_input": "2020-07-09T19:23:32.359547Z",
     "iopub.status.busy": "2020-07-09T19:23:32.359205Z",
     "iopub.status.idle": "2020-07-09T19:23:32.368698Z",
     "shell.execute_reply": "2020-07-09T19:23:32.369018Z"
    },
    "papermill": {
     "duration": 0.030027,
     "end_time": "2020-07-09T19:23:32.369088",
     "exception": false,
     "start_time": "2020-07-09T19:23:32.339061",
     "status": "completed"
    },
    "tags": []
   },
   "outputs": [],
   "source": [
    "#for ix, obj in enumerate(simulation.dataframe.iloc[331456,:].values):\n",
    "#    print(ix,obj)"
   ]
  },
  {
   "cell_type": "code",
   "execution_count": 9,
   "metadata": {
    "execution": {
     "iopub.execute_input": "2020-07-09T19:23:32.403649Z",
     "iopub.status.busy": "2020-07-09T19:23:32.403331Z",
     "iopub.status.idle": "2020-07-09T19:23:32.458296Z",
     "shell.execute_reply": "2020-07-09T19:23:32.457798Z"
    },
    "papermill": {
     "duration": 0.073036,
     "end_time": "2020-07-09T19:23:32.458369",
     "exception": false,
     "start_time": "2020-07-09T19:23:32.385333",
     "status": "completed"
    },
    "tags": []
   },
   "outputs": [],
   "source": [
    "#simulation.fourier_engineered_dataframe.dct_feat0"
   ]
  },
  {
   "cell_type": "code",
   "execution_count": 10,
   "metadata": {
    "execution": {
     "iopub.execute_input": "2020-07-09T19:23:32.508343Z",
     "iopub.status.busy": "2020-07-09T19:23:32.508006Z",
     "iopub.status.idle": "2020-07-09T19:23:32.520809Z",
     "shell.execute_reply": "2020-07-09T19:23:32.520462Z"
    },
    "papermill": {
     "duration": 0.034119,
     "end_time": "2020-07-09T19:23:32.520863",
     "exception": false,
     "start_time": "2020-07-09T19:23:32.486744",
     "status": "completed"
    },
    "tags": []
   },
   "outputs": [],
   "source": [
    "#simulation.features"
   ]
  },
  {
   "cell_type": "code",
   "execution_count": 11,
   "metadata": {
    "execution": {
     "iopub.execute_input": "2020-07-09T19:23:32.556705Z",
     "iopub.status.busy": "2020-07-09T19:23:32.556391Z",
     "iopub.status.idle": "2020-07-09T19:23:32.643488Z",
     "shell.execute_reply": "2020-07-09T19:23:32.644263Z"
    },
    "papermill": {
     "duration": 0.106579,
     "end_time": "2020-07-09T19:23:32.644458",
     "exception": false,
     "start_time": "2020-07-09T19:23:32.537879",
     "status": "completed"
    },
    "tags": []
   },
   "outputs": [],
   "source": [
    "#simulation.fourier_matrix"
   ]
  },
  {
   "cell_type": "code",
   "execution_count": 12,
   "metadata": {
    "execution": {
     "iopub.execute_input": "2020-07-09T19:23:32.715299Z",
     "iopub.status.busy": "2020-07-09T19:23:32.714970Z",
     "iopub.status.idle": "2020-07-09T19:23:32.725380Z",
     "shell.execute_reply": "2020-07-09T19:23:32.725087Z"
    },
    "papermill": {
     "duration": 0.031502,
     "end_time": "2020-07-09T19:23:32.725436",
     "exception": false,
     "start_time": "2020-07-09T19:23:32.693934",
     "status": "completed"
    },
    "tags": []
   },
   "outputs": [],
   "source": [
    "#1/simulation.n_features*simulation.dataframe.loc[:,simulation.features].sum(axis=1)"
   ]
  },
  {
   "cell_type": "code",
   "execution_count": 13,
   "metadata": {
    "execution": {
     "iopub.execute_input": "2020-07-09T19:23:32.761635Z",
     "iopub.status.busy": "2020-07-09T19:23:32.761330Z",
     "iopub.status.idle": "2020-07-09T19:23:32.807957Z",
     "shell.execute_reply": "2020-07-09T19:23:32.807568Z"
    },
    "papermill": {
     "duration": 0.065456,
     "end_time": "2020-07-09T19:23:32.808017",
     "exception": false,
     "start_time": "2020-07-09T19:23:32.742561",
     "status": "completed"
    },
    "tags": []
   },
   "outputs": [],
   "source": [
    "#df_2 = simulation.fourier_engineered_dataframe[simulation.fourier_engineered_dataframe.phase==2]\n",
    "#df_2.describe()"
   ]
  },
  {
   "cell_type": "code",
   "execution_count": 14,
   "metadata": {
    "execution": {
     "iopub.execute_input": "2020-07-09T19:23:32.851672Z",
     "iopub.status.busy": "2020-07-09T19:23:32.851337Z",
     "iopub.status.idle": "2020-07-09T19:23:32.908127Z",
     "shell.execute_reply": "2020-07-09T19:23:32.906249Z"
    },
    "papermill": {
     "duration": 0.078049,
     "end_time": "2020-07-09T19:23:32.908380",
     "exception": false,
     "start_time": "2020-07-09T19:23:32.830331",
     "status": "completed"
    },
    "tags": []
   },
   "outputs": [],
   "source": [
    "#df_1 = simulation.fourier_engineered_dataframe[simulation.fourier_engineered_dataframe.phase==1]\n",
    "#df_1.describe()"
   ]
  },
  {
   "cell_type": "code",
   "execution_count": 15,
   "metadata": {
    "execution": {
     "iopub.execute_input": "2020-07-09T19:23:32.944550Z",
     "iopub.status.busy": "2020-07-09T19:23:32.944226Z",
     "iopub.status.idle": "2020-07-09T19:23:32.991639Z",
     "shell.execute_reply": "2020-07-09T19:23:32.991112Z"
    },
    "papermill": {
     "duration": 0.065489,
     "end_time": "2020-07-09T19:23:32.991716",
     "exception": false,
     "start_time": "2020-07-09T19:23:32.926227",
     "status": "completed"
    },
    "tags": []
   },
   "outputs": [],
   "source": [
    "#df_0 = simulation.fourier_engineered_dataframe[simulation.fourier_engineered_dataframe.phase==0]\n",
    "#df_0.describe()"
   ]
  },
  {
   "cell_type": "code",
   "execution_count": 16,
   "metadata": {
    "execution": {
     "iopub.execute_input": "2020-07-09T19:23:33.042853Z",
     "iopub.status.busy": "2020-07-09T19:23:33.042544Z",
     "iopub.status.idle": "2020-07-09T19:23:33.090847Z",
     "shell.execute_reply": "2020-07-09T19:23:33.088926Z"
    },
    "papermill": {
     "duration": 0.070547,
     "end_time": "2020-07-09T19:23:33.091099",
     "exception": false,
     "start_time": "2020-07-09T19:23:33.020552",
     "status": "completed"
    },
    "tags": []
   },
   "outputs": [],
   "source": [
    "#plt.figure(figsize=(10,10))\n",
    "#plt.scatter(df_1.fourier_feat0,df_1.fourier_feat2)\n",
    "#plt.scatter(df_0.fourier_feat0,df_0.fourier_feat2,alpha=0.4)"
   ]
  },
  {
   "cell_type": "code",
   "execution_count": 17,
   "metadata": {
    "execution": {
     "iopub.execute_input": "2020-07-09T19:23:33.159454Z",
     "iopub.status.busy": "2020-07-09T19:23:33.158960Z",
     "iopub.status.idle": "2020-07-09T19:23:33.168806Z",
     "shell.execute_reply": "2020-07-09T19:23:33.168474Z"
    },
    "papermill": {
     "duration": 0.030456,
     "end_time": "2020-07-09T19:23:33.168861",
     "exception": false,
     "start_time": "2020-07-09T19:23:33.138405",
     "status": "completed"
    },
    "tags": []
   },
   "outputs": [],
   "source": [
    "#plt.scatter(df_0.fourier_feat0,df_0.fourier_feat2,alpha=0.4)"
   ]
  },
  {
   "cell_type": "code",
   "execution_count": 18,
   "metadata": {
    "execution": {
     "iopub.execute_input": "2020-07-09T19:23:33.206197Z",
     "iopub.status.busy": "2020-07-09T19:23:33.205699Z",
     "iopub.status.idle": "2020-07-09T19:23:33.257942Z",
     "shell.execute_reply": "2020-07-09T19:23:33.257542Z"
    },
    "papermill": {
     "duration": 0.071474,
     "end_time": "2020-07-09T19:23:33.258002",
     "exception": false,
     "start_time": "2020-07-09T19:23:33.186528",
     "status": "completed"
    },
    "tags": []
   },
   "outputs": [],
   "source": [
    "#plt.scatter(df_2.fourier_feat0,df_2.fourier_feat2)"
   ]
  },
  {
   "cell_type": "code",
   "execution_count": 19,
   "metadata": {
    "execution": {
     "iopub.execute_input": "2020-07-09T19:23:33.296521Z",
     "iopub.status.busy": "2020-07-09T19:23:33.296012Z",
     "iopub.status.idle": "2020-07-09T19:23:33.349694Z",
     "shell.execute_reply": "2020-07-09T19:23:33.349265Z"
    },
    "papermill": {
     "duration": 0.072722,
     "end_time": "2020-07-09T19:23:33.349759",
     "exception": false,
     "start_time": "2020-07-09T19:23:33.277037",
     "status": "completed"
    },
    "tags": []
   },
   "outputs": [],
   "source": [
    "#df_1.hist(figsize=(15,15))"
   ]
  },
  {
   "cell_type": "code",
   "execution_count": 20,
   "metadata": {
    "execution": {
     "iopub.execute_input": "2020-07-09T19:23:33.394673Z",
     "iopub.status.busy": "2020-07-09T19:23:33.394127Z",
     "iopub.status.idle": "2020-07-09T19:23:33.404310Z",
     "shell.execute_reply": "2020-07-09T19:23:33.403970Z"
    },
    "papermill": {
     "duration": 0.030858,
     "end_time": "2020-07-09T19:23:33.404364",
     "exception": false,
     "start_time": "2020-07-09T19:23:33.373506",
     "status": "completed"
    },
    "tags": []
   },
   "outputs": [],
   "source": [
    "#df_0.hist(figsize=(15,15))"
   ]
  },
  {
   "cell_type": "markdown",
   "metadata": {
    "papermill": {
     "duration": 0.017663,
     "end_time": "2020-07-09T19:23:33.438633",
     "exception": false,
     "start_time": "2020-07-09T19:23:33.420970",
     "status": "completed"
    },
    "tags": []
   },
   "source": [
    "#### Checking initialization"
   ]
  },
  {
   "cell_type": "code",
   "execution_count": 21,
   "metadata": {
    "execution": {
     "iopub.execute_input": "2020-07-09T19:23:33.482654Z",
     "iopub.status.busy": "2020-07-09T19:23:33.482340Z",
     "iopub.status.idle": "2020-07-09T19:23:33.535210Z",
     "shell.execute_reply": "2020-07-09T19:23:33.534649Z"
    },
    "papermill": {
     "duration": 0.07588,
     "end_time": "2020-07-09T19:23:33.535298",
     "exception": false,
     "start_time": "2020-07-09T19:23:33.459418",
     "status": "completed"
    },
    "tags": []
   },
   "outputs": [
    {
     "name": "stdout",
     "output_type": "stream",
     "text": [
      "n_features:  100\n",
      "n_hamiltonians:  6561\n",
      "n_ts:  2\n",
      "CPU times: user 790 µs, sys: 69 µs, total: 859 µs\n",
      "Wall time: 524 µs\n"
     ]
    }
   ],
   "source": [
    "%%time\n",
    "n_features = simulation.n_features\n",
    "n_hamiltonians = simulation.n_hamiltonians\n",
    "n_ts = simulation.n_ts\n",
    "\n",
    "print(\"n_features: \", n_features)\n",
    "print(\"n_hamiltonians: \", n_hamiltonians)\n",
    "print(\"n_ts: \", n_ts)"
   ]
  },
  {
   "cell_type": "code",
   "execution_count": 22,
   "metadata": {
    "execution": {
     "iopub.execute_input": "2020-07-09T19:23:33.595718Z",
     "iopub.status.busy": "2020-07-09T19:23:33.595191Z",
     "iopub.status.idle": "2020-07-09T19:23:33.776731Z",
     "shell.execute_reply": "2020-07-09T19:23:33.776988Z"
    },
    "papermill": {
     "duration": 0.205562,
     "end_time": "2020-07-09T19:23:33.777055",
     "exception": false,
     "start_time": "2020-07-09T19:23:33.571493",
     "status": "completed"
    },
    "tags": []
   },
   "outputs": [
    {
     "name": "stdout",
     "output_type": "stream",
     "text": [
      "% train:  0.8414875781130925\n",
      "% val:  0.0\n",
      "% test:  0.15851242188690748\n",
      "% train + val + test:  1.0\n",
      "\n",
      "\n",
      "number of train hamiltonians:  5521\n",
      "number of val hamiltonians:  0\n",
      "number of test hamiltonians:  1040\n",
      "total number of hamiltonians:  6561\n",
      "\n",
      "\n",
      "train ids:  [13, 14, 15, 16, 17, 18, 19, 20, 21, 22, 23, 24, 25, 26, 27, 28, 29, 30, 31, 32, 33, 34, 35, 36, 37, 38, 39, 41, 42, 43, 44, 45, 46, 47, 48, 49, 50, 51, 52, 53, 54, 55, 56, 57, 58, 59, 60, 61, 62, 63, 64, 65, 66, 67, 68, 69, 70, 71, 72, 73, 74, 75, 76, 77, 78, 79, 80, 95, 96, 97, 98, 99, 100, 101, 102, 103, 104, 105, 106, 107, 108, 109, 110, 111, 112, 113, 114, 115, 116, 117, 118, 119, 121, 122, 123, 124, 125, 126, 127, 128, 129, 130, 131, 132, 133, 134, 135, 136, 137, 138, 139, 140, 141, 142, 143, 144, 145, 146, 147, 148, 149, 150, 151, 152, 153, 154, 155, 156, 157, 158, 159, 160, 161, 176, 177, 178, 179, 180, 181, 182, 183, 184, 185, 186, 187, 188, 189, 190, 191, 192, 193, 194, 195, 196, 197, 198, 199, 201, 202, 203, 204, 205, 206, 207, 208, 209, 210, 211, 212, 213, 214, 215, 216, 217, 218, 219, 220, 221, 222, 223, 224, 225, 226, 227, 228, 229, 230, 231, 232, 233, 234, 235, 236, 237, 238, 239, 240, 241, 242, 258, 259, 260, 261, 262, 263, 264, 265, 266, 267, 268, 269, 270, 271, 272, 273, 274, 275, 276, 277, 278, 279, 281, 282, 283, 284, 285, 286, 287, 288, 289, 290, 291, 292, 293, 294, 295, 296, 297, 298, 299, 300, 301, 302, 303, 304, 305, 306, 307, 308, 309, 310, 311, 312, 313, 314, 315, 316, 317, 318, 319, 320, 321, 322, 323, 340, 341, 342, 343, 344, 345, 346, 347, 348, 349, 350, 351, 352, 353, 354, 355, 356, 357, 358, 359, 361, 362, 363, 364, 365, 366, 367, 368, 369, 370, 371, 372, 373, 374, 375, 376, 377, 378, 379, 380, 381, 382, 383, 384, 385, 386, 387, 388, 389, 390, 391, 392, 393, 394, 395, 396, 397, 398, 399, 400, 401, 402, 403, 404, 422, 423, 424, 425, 426, 427, 428, 429, 430, 431, 432, 433, 434, 435, 436, 437, 438, 439, 441, 442, 443, 444, 445, 446, 447, 448, 449, 450, 451, 452, 453, 454, 455, 456, 457, 458, 459, 460, 461, 462, 463, 464, 465, 466, 467, 468, 469, 470, 471, 472, 473, 474, 475, 476, 477, 478, 479, 480, 481, 482, 483, 484, 485, 503, 504, 505, 506, 507, 508, 509, 510, 511, 512, 513, 514, 515, 516, 517, 518, 519, 521, 522, 523, 524, 525, 526, 527, 528, 529, 530, 531, 532, 533, 534, 535, 536, 537, 538, 539, 540, 541, 542, 543, 544, 545, 546, 547, 548, 549, 550, 551, 552, 553, 554, 555, 556, 557, 558, 559, 560, 561, 562, 563, 564, 565, 566, 585, 586, 587, 588, 589, 590, 591, 592, 593, 594, 595, 596, 597, 598, 599, 601, 602, 603, 604, 605, 606, 607, 608, 609, 610, 611, 612, 613, 614, 615, 616, 617, 618, 619, 620, 621, 622, 623, 624, 625, 626, 627, 628, 629, 630, 631, 632, 633, 634, 635, 636, 637, 638, 639, 640, 641, 642, 643, 644, 645, 646, 647, 667, 668, 669, 670, 671, 672, 673, 674, 675, 676, 677, 678, 679, 681, 682, 683, 684, 685, 686, 687, 688, 689, 690, 691, 692, 693, 694, 695, 696, 697, 698, 699, 700, 701, 702, 703, 704, 705, 706, 707, 708, 709, 710, 711, 712, 713, 714, 715, 716, 717, 718, 719, 720, 721, 722, 723, 724, 725, 726, 727, 728, 749, 750, 751, 752, 753, 754, 755, 756, 757, 758, 759, 761, 762, 763, 764, 765, 766, 767, 768, 769, 770, 771, 772, 773, 774, 775, 776, 777, 778, 779, 780, 781, 782, 783, 784, 785, 786, 787, 788, 789, 790, 791, 792, 793, 794, 795, 796, 797, 798, 799, 800, 801, 802, 803, 804, 805, 806, 807, 808, 809, 830, 831, 832, 833, 834, 835, 836, 837, 838, 839, 841, 842, 843, 844, 845, 846, 847, 848, 849, 850, 851, 852, 853, 854, 855, 856, 857, 858, 859, 860, 861, 862, 863, 864, 865, 866, 867, 868, 869, 870, 871, 872, 873, 874, 875, 876, 877, 878, 879, 880, 881, 882, 883, 884, 885, 886, 887, 888, 889, 890, 912, 913, 914, 915, 916, 917, 918, 919, 921, 922, 923, 924, 925, 926, 927, 928, 929, 930, 931, 932, 933, 934, 935, 936, 937, 938, 939, 940, 941, 942, 943, 944, 945, 946, 947, 948, 949, 950, 951, 952, 953, 954, 955, 956, 957, 958, 959, 960, 961, 962, 963, 964, 965, 966, 967, 968, 969, 970, 971, 994, 995, 996, 997, 998, 999, 1001, 1002, 1003, 1004, 1005, 1006, 1007, 1008, 1009, 1010, 1011, 1012, 1013, 1014, 1015, 1016, 1017, 1018, 1019, 1020, 1021, 1022, 1023, 1024, 1025, 1026, 1027, 1028, 1029, 1030, 1031, 1032, 1033, 1034, 1035, 1036, 1037, 1038, 1039, 1040, 1041, 1042, 1043, 1044, 1045, 1046, 1047, 1048, 1049, 1050, 1051, 1052, 1076, 1077, 1078, 1079, 1081, 1082, 1083, 1084, 1085, 1086, 1087, 1088, 1089, 1090, 1091, 1092, 1093, 1094, 1095, 1096, 1097, 1098, 1099, 1100, 1101, 1102, 1103, 1104, 1105, 1106, 1107, 1108, 1109, 1110, 1111, 1112, 1113, 1114, 1115, 1116, 1117, 1118, 1119, 1120, 1121, 1122, 1123, 1124, 1125, 1126, 1127, 1128, 1129, 1130, 1131, 1132, 1133, 1134, 1157, 1158, 1159, 1161, 1162, 1163, 1164, 1165, 1166, 1167, 1168, 1169, 1170, 1171, 1172, 1173, 1174, 1175, 1176, 1177, 1178, 1179, 1180, 1181, 1182, 1183, 1184, 1185, 1186, 1187, 1188, 1189, 1190, 1191, 1192, 1193, 1194, 1195, 1196, 1197, 1198, 1199, 1200, 1201, 1202, 1203, 1204, 1205, 1206, 1207, 1208, 1209, 1210, 1211, 1212, 1213, 1214, 1215, 1216, 1239, 1241, 1242, 1243, 1244, 1245, 1246, 1247, 1248, 1249, 1250, 1251, 1252, 1253, 1254, 1255, 1256, 1257, 1258, 1259, 1260, 1261, 1262, 1263, 1264, 1265, 1266, 1267, 1268, 1269, 1270, 1271, 1272, 1273, 1274, 1275, 1276, 1277, 1278, 1279, 1280, 1281, 1282, 1283, 1284, 1285, 1286, 1287, 1288, 1289, 1290, 1291, 1292, 1293, 1294, 1295, 1296, 1297, 1298, 1299, 1321, 1322, 1323, 1324, 1325, 1326, 1327, 1328, 1329, 1330, 1331, 1332, 1333, 1334, 1335, 1336, 1337, 1338, 1339, 1340, 1341, 1342, 1343, 1344, 1345, 1346, 1347, 1348, 1349, 1350, 1351, 1352, 1353, 1354, 1355, 1356, 1357, 1358, 1359, 1360, 1361, 1362, 1363, 1364, 1365, 1366, 1367, 1368, 1369, 1370, 1371, 1372, 1373, 1374, 1375, 1376, 1377, 1378, 1379, 1380, 1381, 1402, 1403, 1404, 1405, 1406, 1407, 1408, 1409, 1410, 1411, 1412, 1413, 1414, 1415, 1416, 1417, 1418, 1419, 1420, 1421, 1422, 1423, 1424, 1425, 1426, 1427, 1428, 1429, 1430, 1431, 1432, 1433, 1434, 1435, 1436, 1437, 1438, 1439, 1440, 1441, 1442, 1443, 1444, 1445, 1446, 1447, 1448, 1449, 1450, 1451, 1452, 1453, 1454, 1455, 1456, 1457, 1458, 1459, 1460, 1461, 1462, 1463, 1464, 1484, 1485, 1486, 1487, 1488, 1489, 1490, 1491, 1492, 1493, 1494, 1495, 1496, 1497, 1498, 1499, 1500, 1501, 1502, 1503, 1504, 1505, 1506, 1507, 1508, 1509, 1510, 1511, 1512, 1513, 1514, 1515, 1516, 1517, 1518, 1519, 1520, 1521, 1522, 1523, 1524, 1525, 1526, 1527, 1528, 1529, 1530, 1531, 1532, 1533, 1534, 1535, 1536, 1537, 1538, 1539, 1540, 1541, 1542, 1543, 1544, 1545, 1546, 1566, 1567, 1568, 1569, 1570, 1571, 1572, 1573, 1574, 1575, 1576, 1577, 1578, 1579, 1580, 1581, 1582, 1583, 1584, 1585, 1586, 1587, 1588, 1589, 1590, 1591, 1592, 1593, 1594, 1595, 1596, 1597, 1598, 1599, 1600, 1601, 1602, 1603, 1604, 1605, 1606, 1607, 1608, 1609, 1610, 1611, 1612, 1613, 1614, 1615, 1616, 1617, 1618, 1619, 1620, 1621, 1622, 1623, 1624, 1625, 1626, 1627, 1628, 1648, 1649, 1650, 1651, 1652, 1653, 1654, 1655, 1656, 1657, 1658, 1659, 1660, 1661, 1662, 1663, 1664, 1665, 1666, 1667, 1668, 1669, 1670, 1671, 1672, 1673, 1674, 1675, 1676, 1677, 1678, 1679, 1680, 1681, 1682, 1683, 1684, 1685, 1686, 1687, 1688, 1689, 1690, 1691, 1692, 1693, 1694, 1695, 1696, 1697, 1698, 1699, 1701, 1702, 1703, 1704, 1705, 1706, 1707, 1708, 1709, 1710, 1711, 1729, 1730, 1731, 1732, 1733, 1734, 1735, 1736, 1737, 1738, 1739, 1740, 1741, 1742, 1743, 1744, 1745, 1746, 1747, 1748, 1749, 1750, 1751, 1752, 1753, 1754, 1755, 1756, 1757, 1758, 1759, 1760, 1761, 1762, 1763, 1764, 1765, 1766, 1767, 1768, 1769, 1770, 1771, 1772, 1773, 1774, 1775, 1776, 1777, 1778, 1779, 1781, 1782, 1783, 1784, 1785, 1786, 1787, 1788, 1789, 1790, 1791, 1792, 1793, 1811, 1812, 1813, 1814, 1815, 1816, 1817, 1818, 1819, 1820, 1821, 1822, 1823, 1824, 1825, 1826, 1827, 1828, 1829, 1830, 1831, 1832, 1833, 1834, 1835, 1836, 1837, 1838, 1839, 1840, 1841, 1842, 1843, 1844, 1845, 1846, 1847, 1848, 1849, 1850, 1851, 1852, 1853, 1854, 1855, 1856, 1857, 1858, 1859, 1861, 1862, 1863, 1864, 1865, 1866, 1867, 1868, 1869, 1870, 1871, 1872, 1873, 1874, 1875, 1876, 1893, 1894, 1895, 1896, 1897, 1898, 1899, 1900, 1901, 1902, 1903, 1904, 1905, 1906, 1907, 1908, 1909, 1910, 1911, 1912, 1913, 1914, 1915, 1916, 1917, 1918, 1919, 1920, 1921, 1922, 1923, 1924, 1925, 1926, 1927, 1928, 1929, 1930, 1931, 1932, 1933, 1934, 1935, 1936, 1937, 1938, 1939, 1941, 1942, 1943, 1944, 1945, 1946, 1947, 1948, 1949, 1950, 1951, 1952, 1953, 1954, 1955, 1956, 1957, 1958, 1975, 1976, 1977, 1978, 1979, 1980, 1981, 1982, 1983, 1984, 1985, 1986, 1987, 1988, 1989, 1990, 1991, 1992, 1993, 1994, 1995, 1996, 1997, 1998, 1999, 2000, 2001, 2002, 2003, 2004, 2005, 2006, 2007, 2008, 2009, 2010, 2011, 2012, 2013, 2014, 2015, 2016, 2017, 2018, 2019, 2021, 2022, 2023, 2024, 2025, 2026, 2027, 2028, 2029, 2030, 2031, 2032, 2033, 2034, 2035, 2036, 2037, 2038, 2039, 2056, 2057, 2058, 2059, 2060, 2061, 2062, 2063, 2064, 2065, 2066, 2067, 2068, 2069, 2070, 2071, 2072, 2073, 2074, 2075, 2076, 2077, 2078, 2079, 2080, 2081, 2082, 2083, 2084, 2085, 2086, 2087, 2088, 2089, 2090, 2091, 2092, 2093, 2094, 2095, 2096, 2097, 2098, 2099, 2101, 2102, 2103, 2104, 2105, 2106, 2107, 2108, 2109, 2110, 2111, 2112, 2113, 2114, 2115, 2116, 2117, 2118, 2119, 2121, 2122, 2123, 2138, 2139, 2140, 2141, 2142, 2143, 2144, 2145, 2146, 2147, 2148, 2149, 2150, 2151, 2152, 2153, 2154, 2155, 2156, 2157, 2158, 2159, 2160, 2161, 2162, 2163, 2164, 2165, 2166, 2167, 2168, 2169, 2170, 2171, 2172, 2173, 2174, 2175, 2176, 2177, 2178, 2179, 2181, 2182, 2183, 2184, 2185, 2186, 2187, 2188, 2189, 2190, 2191, 2192, 2193, 2194, 2195, 2196, 2197, 2198, 2199, 2201, 2202, 2203, 2204, 2205, 2220, 2221, 2222, 2223, 2224, 2225, 2226, 2227, 2228, 2229, 2230, 2231, 2232, 2233, 2234, 2235, 2236, 2237, 2238, 2239, 2240, 2241, 2242, 2243, 2244, 2245, 2246, 2247, 2248, 2249, 2250, 2251, 2252, 2253, 2254, 2255, 2256, 2257, 2258, 2259, 2261, 2262, 2263, 2264, 2265, 2266, 2267, 2268, 2269, 2270, 2271, 2272, 2273, 2274, 2275, 2276, 2277, 2278, 2279, 2281, 2282, 2283, 2284, 2285, 2286, 2287, 2288, 2301, 2302, 2303, 2304, 2305, 2306, 2307, 2308, 2309, 2310, 2311, 2312, 2313, 2314, 2315, 2316, 2317, 2318, 2319, 2320, 2321, 2322, 2323, 2324, 2325, 2326, 2327, 2328, 2329, 2330, 2331, 2332, 2333, 2334, 2335, 2336, 2337, 2338, 2339, 2341, 2342, 2343, 2344, 2345, 2346, 2347, 2348, 2349, 2350, 2351, 2352, 2353, 2354, 2355, 2356, 2357, 2358, 2359, 2361, 2362, 2363, 2364, 2365, 2366, 2367, 2368, 2369, 2370, 2383, 2384, 2385, 2386, 2387, 2388, 2389, 2390, 2391, 2392, 2393, 2394, 2395, 2396, 2397, 2398, 2399, 2400, 2401, 2402, 2403, 2404, 2405, 2406, 2407, 2408, 2409, 2410, 2411, 2412, 2413, 2414, 2415, 2416, 2417, 2418, 2419, 2421, 2422, 2423, 2424, 2425, 2426, 2427, 2428, 2429, 2430, 2431, 2432, 2433, 2434, 2435, 2436, 2437, 2438, 2439, 2441, 2442, 2443, 2444, 2445, 2446, 2447, 2448, 2449, 2450, 2451, 2452, 2453, 2465, 2466, 2467, 2468, 2469, 2470, 2471, 2472, 2473, 2474, 2475, 2476, 2477, 2478, 2479, 2480, 2481, 2482, 2483, 2484, 2485, 2486, 2487, 2488, 2489, 2490, 2491, 2492, 2493, 2494, 2495, 2496, 2497, 2498, 2499, 2501, 2502, 2503, 2504, 2505, 2506, 2507, 2508, 2509, 2510, 2511, 2512, 2513, 2514, 2515, 2516, 2517, 2518, 2519, 2521, 2522, 2523, 2524, 2525, 2526, 2527, 2528, 2529, 2530, 2531, 2532, 2533, 2534, 2535, 2547, 2548, 2549, 2550, 2551, 2552, 2553, 2554, 2555, 2556, 2557, 2558, 2559, 2560, 2561, 2562, 2563, 2564, 2565, 2566, 2567, 2568, 2569, 2570, 2571, 2572, 2573, 2574, 2575, 2576, 2577, 2578, 2579, 2581, 2582, 2583, 2584, 2585, 2586, 2587, 2588, 2589, 2590, 2591, 2592, 2593, 2594, 2595, 2596, 2597, 2598, 2599, 2601, 2602, 2603, 2604, 2605, 2606, 2607, 2608, 2609, 2610, 2611, 2612, 2613, 2614, 2615, 2616, 2617, 2628, 2629, 2630, 2631, 2632, 2633, 2634, 2635, 2636, 2637, 2638, 2639, 2640, 2641, 2642, 2643, 2644, 2645, 2646, 2647, 2648, 2649, 2650, 2651, 2652, 2653, 2654, 2655, 2656, 2657, 2658, 2659, 2661, 2662, 2663, 2664, 2665, 2666, 2667, 2668, 2669, 2670, 2671, 2672, 2673, 2674, 2675, 2676, 2677, 2678, 2679, 2681, 2682, 2683, 2684, 2685, 2686, 2687, 2688, 2689, 2690, 2691, 2692, 2693, 2694, 2695, 2696, 2697, 2698, 2699, 2700, 2710, 2711, 2712, 2713, 2714, 2715, 2716, 2717, 2718, 2719, 2720, 2721, 2722, 2723, 2724, 2725, 2726, 2727, 2728, 2729, 2730, 2731, 2732, 2733, 2734, 2735, 2736, 2737, 2738, 2739, 2741, 2742, 2743, 2744, 2745, 2746, 2747, 2748, 2749, 2750, 2751, 2752, 2753, 2754, 2755, 2756, 2757, 2758, 2759, 2761, 2762, 2763, 2764, 2765, 2766, 2767, 2768, 2769, 2770, 2771, 2772, 2773, 2774, 2775, 2776, 2777, 2778, 2779, 2780, 2781, 2782, 2792, 2793, 2794, 2795, 2796, 2797, 2798, 2799, 2800, 2801, 2802, 2803, 2804, 2805, 2806, 2807, 2808, 2809, 2810, 2811, 2812, 2813, 2814, 2815, 2816, 2817, 2818, 2819, 2821, 2822, 2823, 2824, 2825, 2826, 2827, 2828, 2829, 2830, 2831, 2832, 2833, 2834, 2835, 2836, 2837, 2838, 2839, 2841, 2842, 2843, 2844, 2845, 2846, 2847, 2848, 2849, 2850, 2851, 2852, 2853, 2854, 2855, 2856, 2857, 2858, 2859, 2860, 2861, 2862, 2863, 2864, 2865, 2874, 2875, 2876, 2877, 2878, 2879, 2880, 2881, 2882, 2883, 2884, 2885, 2886, 2887, 2888, 2889, 2890, 2891, 2892, 2893, 2894, 2895, 2896, 2897, 2898, 2899, 2901, 2902, 2903, 2904, 2905, 2906, 2907, 2908, 2909, 2910, 2911, 2912, 2913, 2914, 2915, 2916, 2917, 2918, 2919, 2921, 2922, 2923, 2924, 2925, 2926, 2927, 2928, 2929, 2930, 2931, 2932, 2933, 2934, 2935, 2936, 2937, 2938, 2939, 2940, 2941, 2942, 2943, 2944, 2945, 2946, 2947, 2955, 2956, 2957, 2958, 2959, 2960, 2961, 2962, 2963, 2964, 2965, 2966, 2967, 2968, 2969, 2970, 2971, 2972, 2973, 2974, 2975, 2976, 2977, 2978, 2979, 2981, 2982, 2983, 2984, 2985, 2986, 2987, 2988, 2989, 2990, 2991, 2992, 2993, 2994, 2995, 2996, 2997, 2998, 2999, 3001, 3002, 3003, 3004, 3005, 3006, 3007, 3008, 3009, 3010, 3011, 3012, 3013, 3014, 3015, 3016, 3017, 3018, 3019, 3020, 3021, 3022, 3023, 3024, 3025, 3026, 3027, 3028, 3029, 3037, 3038, 3039, 3040, 3041, 3042, 3043, 3044, 3045, 3046, 3047, 3048, 3049, 3050, 3051, 3052, 3053, 3054, 3055, 3056, 3057, 3058, 3059, 3061, 3062, 3063, 3064, 3065, 3066, 3067, 3068, 3069, 3070, 3071, 3072, 3073, 3074, 3075, 3076, 3077, 3078, 3079, 3081, 3082, 3083, 3084, 3085, 3086, 3087, 3088, 3089, 3090, 3091, 3092, 3093, 3094, 3095, 3096, 3097, 3098, 3099, 3100, 3101, 3102, 3103, 3104, 3105, 3106, 3107, 3108, 3109, 3110, 3111, 3112, 3119, 3120, 3121, 3122, 3123, 3124, 3125, 3126, 3127, 3128, 3129, 3130, 3131, 3132, 3133, 3134, 3135, 3136, 3137, 3138, 3139, 3141, 3142, 3143, 3144, 3145, 3146, 3147, 3148, 3149, 3150, 3151, 3152, 3153, 3154, 3155, 3156, 3157, 3158, 3159, 3161, 3162, 3163, 3164, 3165, 3166, 3167, 3168, 3169, 3170, 3171, 3172, 3173, 3174, 3175, 3176, 3177, 3178, 3179, 3180, 3181, 3182, 3183, 3184, 3185, 3186, 3187, 3188, 3189, 3190, 3191, 3192, 3193, 3194, 3201, 3202, 3203, 3204, 3205, 3206, 3207, 3208, 3209, 3210, 3211, 3212, 3213, 3214, 3215, 3216, 3217, 3218, 3219, 3221, 3222, 3223, 3224, 3225, 3226, 3227, 3228, 3229, 3230, 3231, 3232, 3233, 3234, 3235, 3236, 3237, 3238, 3239, 3241, 3242, 3243, 3244, 3245, 3246, 3247, 3248, 3249, 3250, 3251, 3252, 3253, 3254, 3255, 3256, 3257, 3258, 3259, 3260, 3261, 3262, 3263, 3264, 3265, 3266, 3267, 3268, 3269, 3270, 3271, 3272, 3273, 3274, 3275, 3276, 3277, 3282, 3283, 3284, 3285, 3286, 3287, 3288, 3289, 3290, 3291, 3292, 3293, 3294, 3295, 3296, 3297, 3298, 3299, 3301, 3302, 3303, 3304, 3305, 3306, 3307, 3308, 3309, 3310, 3311, 3312, 3313, 3314, 3315, 3316, 3317, 3318, 3319, 3320, 3321, 3322, 3323, 3324, 3325, 3326, 3327, 3328, 3329, 3330, 3331, 3332, 3333, 3334, 3335, 3336, 3337, 3338, 3339, 3340, 3341, 3342, 3343, 3344, 3345, 3346, 3347, 3348, 3349, 3350, 3351, 3352, 3353, 3354, 3355, 3356, 3357, 3358, 3359, 3364, 3365, 3366, 3367, 3368, 3369, 3370, 3371, 3372, 3373, 3374, 3375, 3376, 3377, 3378, 3379, 3381, 3382, 3383, 3384, 3385, 3386, 3387, 3388, 3389, 3390, 3391, 3392, 3393, 3394, 3395, 3396, 3397, 3398, 3399, 3400, 3401, 3402, 3403, 3404, 3405, 3406, 3407, 3408, 3409, 3410, 3411, 3412, 3413, 3414, 3415, 3416, 3417, 3418, 3419, 3420, 3421, 3422, 3423, 3424, 3425, 3426, 3427, 3428, 3429, 3430, 3431, 3432, 3433, 3434, 3435, 3436, 3437, 3438, 3439, 3440, 3441, 3442, 3446, 3447, 3448, 3449, 3450, 3451, 3452, 3453, 3454, 3455, 3456, 3457, 3458, 3459, 3461, 3462, 3463, 3464, 3465, 3466, 3467, 3468, 3469, 3470, 3471, 3472, 3473, 3474, 3475, 3476, 3477, 3478, 3479, 3480, 3481, 3482, 3483, 3484, 3485, 3486, 3487, 3488, 3489, 3490, 3491, 3492, 3493, 3494, 3495, 3496, 3497, 3498, 3499, 3500, 3501, 3502, 3503, 3504, 3505, 3506, 3507, 3508, 3509, 3510, 3511, 3512, 3513, 3514, 3515, 3516, 3517, 3518, 3519, 3520, 3521, 3522, 3523, 3524, 3527, 3528, 3529, 3530, 3531, 3532, 3533, 3534, 3535, 3536, 3537, 3538, 3539, 3541, 3542, 3543, 3544, 3545, 3546, 3547, 3548, 3549, 3550, 3551, 3552, 3553, 3554, 3555, 3556, 3557, 3558, 3559, 3560, 3561, 3562, 3563, 3564, 3565, 3566, 3567, 3568, 3569, 3570, 3571, 3572, 3573, 3574, 3575, 3576, 3577, 3578, 3579, 3580, 3581, 3582, 3583, 3584, 3585, 3586, 3587, 3588, 3589, 3590, 3591, 3592, 3593, 3594, 3595, 3596, 3597, 3598, 3599, 3600, 3601, 3602, 3603, 3604, 3605, 3606, 3609, 3610, 3611, 3612, 3613, 3614, 3615, 3616, 3617, 3618, 3619, 3621, 3622, 3623, 3624, 3625, 3626, 3627, 3628, 3629, 3630, 3631, 3632, 3633, 3634, 3635, 3636, 3637, 3638, 3639, 3640, 3641, 3642, 3643, 3644, 3645, 3646, 3647, 3648, 3649, 3650, 3651, 3652, 3653, 3654, 3655, 3656, 3657, 3658, 3659, 3660, 3661, 3662, 3663, 3664, 3665, 3666, 3667, 3668, 3669, 3670, 3671, 3672, 3673, 3674, 3675, 3676, 3677, 3678, 3679, 3680, 3681, 3682, 3683, 3684, 3685, 3686, 3687, 3688, 3689, 3691, 3692, 3693, 3694, 3695, 3696, 3697, 3698, 3699, 3701, 3702, 3703, 3704, 3705, 3706, 3707, 3708, 3709, 3710, 3711, 3712, 3713, 3714, 3715, 3716, 3717, 3718, 3719, 3720, 3721, 3722, 3723, 3724, 3725, 3726, 3727, 3728, 3729, 3730, 3731, 3732, 3733, 3734, 3735, 3736, 3737, 3738, 3739, 3740, 3741, 3742, 3743, 3744, 3745, 3746, 3747, 3748, 3749, 3750, 3751, 3752, 3753, 3754, 3755, 3756, 3757, 3758, 3759, 3760, 3761, 3762, 3763, 3764, 3765, 3766, 3767, 3768, 3769, 3770, 3771, 3773, 3774, 3775, 3776, 3777, 3778, 3779, 3781, 3782, 3783, 3784, 3785, 3786, 3787, 3788, 3789, 3790, 3791, 3792, 3793, 3794, 3795, 3796, 3797, 3798, 3799, 3800, 3801, 3802, 3803, 3804, 3805, 3806, 3807, 3808, 3809, 3810, 3811, 3812, 3813, 3814, 3815, 3816, 3817, 3818, 3819, 3820, 3821, 3822, 3823, 3824, 3825, 3826, 3827, 3828, 3829, 3830, 3831, 3832, 3833, 3834, 3835, 3836, 3837, 3838, 3839, 3840, 3841, 3842, 3843, 3844, 3845, 3846, 3847, 3848, 3849, 3850, 3851, 3852, 3853, 3855, 3856, 3857, 3858, 3859, 3861, 3862, 3863, 3864, 3865, 3866, 3867, 3868, 3869, 3870, 3871, 3872, 3873, 3874, 3875, 3876, 3877, 3878, 3879, 3880, 3881, 3882, 3883, 3884, 3885, 3886, 3887, 3888, 3889, 3890, 3891, 3892, 3893, 3894, 3895, 3896, 3897, 3898, 3899, 3900, 3901, 3902, 3903, 3904, 3905, 3906, 3907, 3908, 3909, 3910, 3911, 3912, 3913, 3914, 3915, 3916, 3917, 3918, 3919, 3920, 3921, 3922, 3923, 3924, 3925, 3926, 3927, 3928, 3929, 3930, 3931, 3932, 3933, 3934, 3935, 3937, 3938, 3939, 3941, 3942, 3943, 3944, 3945, 3946, 3947, 3948, 3949, 3950, 3951, 3952, 3953, 3954, 3955, 3956, 3957, 3958, 3959, 3960, 3961, 3962, 3963, 3964, 3965, 3966, 3967, 3968, 3969, 3970, 3971, 3972, 3973, 3974, 3975, 3976, 3977, 3978, 3979, 3980, 3981, 3982, 3983, 3984, 3985, 3986, 3987, 3988, 3989, 3990, 3991, 3992, 3993, 3994, 3995, 3996, 3997, 3998, 3999, 4000, 4001, 4002, 4003, 4004, 4005, 4006, 4007, 4008, 4009, 4010, 4011, 4012, 4013, 4014, 4015, 4016, 4017, 4021, 4022, 4023, 4024, 4025, 4026, 4027, 4028, 4029, 4030, 4031, 4032, 4033, 4034, 4035, 4036, 4037, 4038, 4039, 4040, 4041, 4042, 4043, 4044, 4045, 4046, 4047, 4048, 4049, 4050, 4051, 4052, 4053, 4054, 4055, 4056, 4057, 4058, 4059, 4060, 4061, 4062, 4063, 4064, 4065, 4066, 4067, 4068, 4069, 4070, 4071, 4072, 4073, 4074, 4075, 4076, 4077, 4078, 4079, 4080, 4081, 4082, 4083, 4084, 4085, 4086, 4087, 4088, 4089, 4090, 4091, 4092, 4093, 4094, 4095, 4096, 4097, 4098, 4102, 4103, 4104, 4105, 4106, 4107, 4108, 4109, 4110, 4111, 4112, 4113, 4114, 4115, 4116, 4117, 4118, 4119, 4120, 4121, 4122, 4123, 4124, 4125, 4126, 4127, 4128, 4129, 4130, 4131, 4132, 4133, 4134, 4135, 4136, 4137, 4138, 4139, 4140, 4141, 4142, 4143, 4144, 4145, 4146, 4147, 4148, 4149, 4150, 4151, 4152, 4153, 4154, 4155, 4156, 4157, 4158, 4159, 4160, 4161, 4162, 4163, 4164, 4165, 4166, 4167, 4168, 4169, 4170, 4171, 4172, 4173, 4174, 4175, 4176, 4177, 4178, 4179, 4184, 4185, 4186, 4187, 4188, 4189, 4190, 4191, 4192, 4193, 4194, 4195, 4196, 4197, 4198, 4199, 4200, 4201, 4202, 4203, 4204, 4205, 4206, 4207, 4208, 4209, 4210, 4211, 4212, 4213, 4214, 4215, 4216, 4217, 4218, 4219, 4220, 4221, 4222, 4223, 4224, 4225, 4226, 4227, 4228, 4229, 4230, 4231, 4232, 4233, 4234, 4235, 4236, 4237, 4238, 4239, 4240, 4241, 4242, 4243, 4244, 4245, 4246, 4247, 4248, 4249, 4250, 4251, 4252, 4253, 4254, 4255, 4256, 4257, 4258, 4259, 4261, 4262, 4267, 4268, 4269, 4270, 4271, 4272, 4273, 4274, 4275, 4276, 4277, 4278, 4279, 4280, 4281, 4282, 4283, 4284, 4285, 4286, 4287, 4288, 4289, 4290, 4291, 4292, 4293, 4294, 4295, 4296, 4297, 4298, 4299, 4300, 4301, 4302, 4303, 4304, 4305, 4306, 4307, 4308, 4309, 4310, 4311, 4312, 4313, 4314, 4315, 4316, 4317, 4318, 4319, 4320, 4321, 4322, 4323, 4324, 4325, 4326, 4327, 4328, 4329, 4330, 4331, 4332, 4333, 4334, 4335, 4336, 4337, 4338, 4339, 4341, 4342, 4343, 4344, 4349, 4350, 4351, 4352, 4353, 4354, 4355, 4356, 4357, 4358, 4359, 4360, 4361, 4362, 4363, 4364, 4365, 4366, 4367, 4368, 4369, 4370, 4371, 4372, 4373, 4374, 4375, 4376, 4377, 4378, 4379, 4380, 4381, 4382, 4383, 4384, 4385, 4386, 4387, 4388, 4389, 4390, 4391, 4392, 4393, 4394, 4395, 4396, 4397, 4398, 4399, 4400, 4401, 4402, 4403, 4404, 4405, 4406, 4407, 4408, 4409, 4410, 4411, 4412, 4413, 4414, 4415, 4416, 4417, 4418, 4419, 4421, 4422, 4423, 4424, 4425, 4426, 4432, 4433, 4434, 4435, 4436, 4437, 4438, 4439, 4440, 4441, 4442, 4443, 4444, 4445, 4446, 4447, 4448, 4449, 4450, 4451, 4452, 4453, 4454, 4455, 4456, 4457, 4458, 4459, 4460, 4461, 4462, 4463, 4464, 4465, 4466, 4467, 4468, 4469, 4470, 4471, 4472, 4473, 4474, 4475, 4476, 4477, 4478, 4479, 4480, 4481, 4482, 4483, 4484, 4485, 4486, 4487, 4488, 4489, 4490, 4491, 4492, 4493, 4494, 4495, 4496, 4497, 4498, 4499, 4501, 4502, 4503, 4504, 4505, 4506, 4507, 4514, 4515, 4516, 4517, 4518, 4519, 4520, 4521, 4522, 4523, 4524, 4525, 4526, 4527, 4528, 4529, 4530, 4531, 4532, 4533, 4534, 4535, 4536, 4537, 4538, 4539, 4540, 4541, 4542, 4543, 4544, 4545, 4546, 4547, 4548, 4549, 4550, 4551, 4552, 4553, 4554, 4555, 4556, 4557, 4558, 4559, 4560, 4561, 4562, 4563, 4564, 4565, 4566, 4567, 4568, 4569, 4570, 4571, 4572, 4573, 4574, 4575, 4576, 4577, 4578, 4579, 4581, 4582, 4583, 4584, 4585, 4586, 4587, 4588, 4589, 4596, 4597, 4598, 4599, 4600, 4601, 4602, 4603, 4604, 4605, 4606, 4607, 4608, 4609, 4610, 4611, 4612, 4613, 4614, 4615, 4616, 4617, 4618, 4619, 4620, 4621, 4622, 4623, 4624, 4625, 4626, 4627, 4628, 4629, 4630, 4631, 4632, 4633, 4634, 4635, 4636, 4637, 4638, 4639, 4640, 4641, 4642, 4643, 4644, 4645, 4646, 4647, 4648, 4649, 4650, 4651, 4652, 4653, 4654, 4655, 4656, 4657, 4658, 4659, 4661, 4662, 4663, 4664, 4665, 4666, 4667, 4668, 4669, 4670, 4671, 4679, 4680, 4681, 4682, 4683, 4684, 4685, 4686, 4687, 4688, 4689, 4690, 4691, 4692, 4693, 4694, 4695, 4696, 4697, 4698, 4699, 4700, 4701, 4702, 4703, 4704, 4705, 4706, 4707, 4708, 4709, 4710, 4711, 4712, 4713, 4714, 4715, 4716, 4717, 4718, 4719, 4720, 4721, 4722, 4723, 4724, 4725, 4726, 4727, 4728, 4729, 4730, 4731, 4732, 4733, 4734, 4735, 4736, 4737, 4738, 4739, 4741, 4742, 4743, 4744, 4745, 4746, 4747, 4748, 4749, 4750, 4751, 4752, 4761, 4762, 4763, 4764, 4765, 4766, 4767, 4768, 4769, 4770, 4771, 4772, 4773, 4774, 4775, 4776, 4777, 4778, 4779, 4780, 4781, 4782, 4783, 4784, 4785, 4786, 4787, 4788, 4789, 4790, 4791, 4792, 4793, 4794, 4795, 4796, 4797, 4798, 4799, 4800, 4801, 4802, 4803, 4804, 4805, 4806, 4807, 4808, 4809, 4810, 4811, 4812, 4813, 4814, 4815, 4816, 4817, 4818, 4819, 4821, 4822, 4823, 4824, 4825, 4826, 4827, 4828, 4829, 4830, 4831, 4832, 4833, 4834, 4844, 4845, 4846, 4847, 4848, 4849, 4850, 4851, 4852, 4853, 4854, 4855, 4856, 4857, 4858, 4859, 4860, 4861, 4862, 4863, 4864, 4865, 4866, 4867, 4868, 4869, 4870, 4871, 4872, 4873, 4874, 4875, 4876, 4877, 4878, 4879, 4880, 4881, 4882, 4883, 4884, 4885, 4886, 4887, 4888, 4889, 4890, 4891, 4892, 4893, 4894, 4895, 4896, 4897, 4898, 4899, 4901, 4902, 4903, 4904, 4905, 4906, 4907, 4908, 4909, 4910, 4911, 4912, 4913, 4914, 4915, 4916, 4926, 4927, 4928, 4929, 4930, 4931, 4932, 4933, 4934, 4935, 4936, 4937, 4938, 4939, 4940, 4941, 4942, 4943, 4944, 4945, 4946, 4947, 4948, 4949, 4950, 4951, 4952, 4953, 4954, 4955, 4956, 4957, 4958, 4959, 4960, 4961, 4962, 4963, 4964, 4965, 4966, 4967, 4968, 4969, 4970, 4971, 4972, 4973, 4974, 4975, 4976, 4977, 4978, 4979, 4981, 4982, 4983, 4984, 4985, 4986, 4987, 4988, 4989, 4990, 4991, 4992, 4993, 4994, 4995, 4996, 4997, 4998, 5008, 5009, 5010, 5011, 5012, 5013, 5014, 5015, 5016, 5017, 5018, 5019, 5020, 5021, 5022, 5023, 5024, 5025, 5026, 5027, 5028, 5029, 5030, 5031, 5032, 5033, 5034, 5035, 5036, 5037, 5038, 5039, 5040, 5041, 5042, 5043, 5044, 5045, 5046, 5047, 5048, 5049, 5050, 5051, 5052, 5053, 5054, 5055, 5056, 5057, 5058, 5059, 5061, 5062, 5063, 5064, 5065, 5066, 5067, 5068, 5069, 5070, 5071, 5072, 5073, 5074, 5075, 5076, 5077, 5078, 5079, 5091, 5092, 5093, 5094, 5095, 5096, 5097, 5098, 5099, 5100, 5101, 5102, 5103, 5104, 5105, 5106, 5107, 5108, 5109, 5110, 5111, 5112, 5113, 5114, 5115, 5116, 5117, 5118, 5119, 5120, 5121, 5122, 5123, 5124, 5125, 5126, 5127, 5128, 5129, 5130, 5131, 5132, 5133, 5134, 5135, 5136, 5137, 5138, 5139, 5141, 5142, 5143, 5144, 5145, 5146, 5147, 5148, 5149, 5150, 5151, 5152, 5153, 5154, 5155, 5156, 5157, 5158, 5159, 5160, 5161, 5173, 5174, 5175, 5176, 5177, 5178, 5179, 5180, 5181, 5182, 5183, 5184, 5185, 5186, 5187, 5188, 5189, 5190, 5191, 5192, 5193, 5194, 5195, 5196, 5197, 5198, 5199, 5200, 5201, 5202, 5203, 5204, 5205, 5206, 5207, 5208, 5209, 5210, 5211, 5212, 5213, 5214, 5215, 5216, 5217, 5218, 5219, 5221, 5222, 5223, 5224, 5225, 5226, 5227, 5228, 5229, 5230, 5231, 5232, 5233, 5234, 5235, 5236, 5237, 5238, 5239, 5240, 5241, 5242, 5243, 5256, 5257, 5258, 5259, 5260, 5261, 5262, 5263, 5264, 5265, 5266, 5267, 5268, 5269, 5270, 5271, 5272, 5273, 5274, 5275, 5276, 5277, 5278, 5279, 5280, 5281, 5282, 5283, 5284, 5285, 5286, 5287, 5288, 5289, 5290, 5291, 5292, 5293, 5294, 5295, 5296, 5297, 5298, 5299, 5301, 5302, 5303, 5304, 5305, 5306, 5307, 5308, 5309, 5310, 5311, 5312, 5313, 5314, 5315, 5316, 5317, 5318, 5319, 5320, 5321, 5322, 5323, 5324, 5325, 5338, 5339, 5340, 5341, 5342, 5343, 5344, 5345, 5346, 5347, 5348, 5349, 5350, 5351, 5352, 5353, 5354, 5355, 5356, 5357, 5358, 5359, 5360, 5361, 5362, 5363, 5364, 5365, 5366, 5367, 5368, 5369, 5370, 5371, 5372, 5373, 5374, 5375, 5376, 5377, 5378, 5379, 5381, 5382, 5383, 5384, 5385, 5386, 5387, 5388, 5389, 5390, 5391, 5392, 5393, 5394, 5395, 5396, 5397, 5398, 5399, 5400, 5401, 5402, 5403, 5404, 5405, 5406, 5421, 5422, 5423, 5424, 5425, 5426, 5427, 5428, 5429, 5430, 5431, 5432, 5433, 5434, 5435, 5436, 5437, 5438, 5439, 5440, 5441, 5442, 5443, 5444, 5445, 5446, 5447, 5448, 5449, 5450, 5451, 5452, 5453, 5454, 5455, 5456, 5457, 5458, 5459, 5461, 5462, 5463, 5464, 5465, 5466, 5467, 5468, 5469, 5470, 5471, 5472, 5473, 5474, 5475, 5476, 5477, 5478, 5479, 5480, 5481, 5482, 5483, 5484, 5485, 5486, 5487, 5488, 5503, 5504, 5505, 5506, 5507, 5508, 5509, 5510, 5511, 5512, 5513, 5514, 5515, 5516, 5517, 5518, 5519, 5520, 5521, 5522, 5523, 5524, 5525, 5526, 5527, 5528, 5529, 5530, 5531, 5532, 5533, 5534, 5535, 5536, 5537, 5538, 5539, 5541, 5542, 5543, 5544, 5545, 5546, 5547, 5548, 5549, 5550, 5551, 5552, 5553, 5554, 5555, 5556, 5557, 5558, 5559, 5560, 5561, 5562, 5563, 5564, 5565, 5566, 5567, 5568, 5569, 5570, 5585, 5586, 5587, 5588, 5589, 5590, 5591, 5592, 5593, 5594, 5595, 5596, 5597, 5598, 5599, 5600, 5601, 5602, 5603, 5604, 5605, 5606, 5607, 5608, 5609, 5610, 5611, 5612, 5613, 5614, 5615, 5616, 5617, 5618, 5619, 5621, 5622, 5623, 5624, 5625, 5626, 5627, 5628, 5629, 5630, 5631, 5632, 5633, 5634, 5635, 5636, 5637, 5638, 5639, 5640, 5641, 5642, 5643, 5644, 5645, 5646, 5647, 5648, 5649, 5650, 5651, 5652, 5668, 5669, 5670, 5671, 5672, 5673, 5674, 5675, 5676, 5677, 5678, 5679, 5680, 5681, 5682, 5683, 5684, 5685, 5686, 5687, 5688, 5689, 5690, 5691, 5692, 5693, 5694, 5695, 5696, 5697, 5698, 5699, 5701, 5702, 5703, 5704, 5705, 5706, 5707, 5708, 5709, 5710, 5711, 5712, 5713, 5714, 5715, 5716, 5717, 5718, 5719, 5720, 5721, 5722, 5723, 5724, 5725, 5726, 5727, 5728, 5729, 5730, 5731, 5732, 5733, 5750, 5751, 5752, 5753, 5754, 5755, 5756, 5757, 5758, 5759, 5760, 5761, 5762, 5763, 5764, 5765, 5766, 5767, 5768, 5769, 5770, 5771, 5772, 5773, 5774, 5775, 5776, 5777, 5778, 5779, 5781, 5782, 5783, 5784, 5785, 5786, 5787, 5788, 5789, 5790, 5791, 5792, 5793, 5794, 5795, 5796, 5797, 5798, 5799, 5800, 5801, 5802, 5803, 5804, 5805, 5806, 5807, 5808, 5809, 5810, 5811, 5812, 5813, 5814, 5815, 5832, 5833, 5834, 5835, 5836, 5837, 5838, 5839, 5840, 5841, 5842, 5843, 5844, 5845, 5846, 5847, 5848, 5849, 5850, 5851, 5852, 5853, 5854, 5855, 5856, 5857, 5858, 5859, 5861, 5862, 5863, 5864, 5865, 5866, 5867, 5868, 5869, 5870, 5871, 5872, 5873, 5874, 5875, 5876, 5877, 5878, 5879, 5880, 5881, 5882, 5883, 5884, 5885, 5886, 5887, 5888, 5889, 5890, 5891, 5892, 5893, 5894, 5895, 5896, 5897, 5913, 5914, 5915, 5916, 5917, 5918, 5919, 5920, 5921, 5922, 5923, 5924, 5925, 5926, 5927, 5928, 5929, 5930, 5931, 5932, 5933, 5934, 5935, 5936, 5937, 5938, 5939, 5941, 5942, 5943, 5944, 5945, 5946, 5947, 5948, 5949, 5950, 5951, 5952, 5953, 5954, 5955, 5956, 5957, 5958, 5959, 5960, 5961, 5962, 5963, 5964, 5965, 5966, 5967, 5968, 5969, 5970, 5971, 5972, 5973, 5974, 5975, 5976, 5977, 5978, 5994, 5995, 5996, 5997, 5998, 5999, 6000, 6001, 6002, 6003, 6004, 6005, 6006, 6007, 6008, 6009, 6010, 6011, 6012, 6013, 6014, 6015, 6016, 6017, 6018, 6019, 6021, 6022, 6023, 6024, 6025, 6026, 6027, 6028, 6029, 6030, 6031, 6032, 6033, 6034, 6035, 6036, 6037, 6038, 6039, 6040, 6041, 6042, 6043, 6044, 6045, 6046, 6047, 6048, 6049, 6050, 6051, 6052, 6053, 6054, 6055, 6056, 6057, 6058, 6059, 6060, 6075, 6076, 6077, 6078, 6079, 6080, 6081, 6082, 6083, 6084, 6085, 6086, 6087, 6088, 6089, 6090, 6091, 6092, 6093, 6094, 6095, 6096, 6097, 6098, 6099, 6101, 6102, 6103, 6104, 6105, 6106, 6107, 6108, 6109, 6110, 6111, 6112, 6113, 6114, 6115, 6116, 6117, 6118, 6119, 6120, 6121, 6122, 6123, 6124, 6125, 6126, 6127, 6128, 6129, 6130, 6131, 6132, 6133, 6134, 6135, 6136, 6137, 6138, 6139, 6140, 6141, 6142, 6156, 6157, 6158, 6159, 6160, 6161, 6162, 6163, 6164, 6165, 6166, 6167, 6168, 6169, 6170, 6171, 6172, 6173, 6174, 6175, 6176, 6177, 6178, 6179, 6181, 6182, 6183, 6184, 6185, 6186, 6187, 6188, 6189, 6190, 6191, 6192, 6193, 6194, 6195, 6196, 6197, 6198, 6199, 6200, 6201, 6202, 6203, 6204, 6205, 6206, 6207, 6208, 6209, 6210, 6211, 6212, 6213, 6214, 6215, 6216, 6217, 6218, 6219, 6220, 6221, 6222, 6223, 6224, 6237, 6238, 6239, 6240, 6241, 6242, 6243, 6244, 6245, 6246, 6247, 6248, 6249, 6250, 6251, 6252, 6253, 6254, 6255, 6256, 6257, 6258, 6259, 6261, 6262, 6263, 6264, 6265, 6266, 6267, 6268, 6269, 6270, 6271, 6272, 6273, 6274, 6275, 6276, 6277, 6278, 6279, 6280, 6281, 6282, 6283, 6284, 6285, 6286, 6287, 6288, 6289, 6290, 6291, 6292, 6293, 6294, 6295, 6296, 6297, 6298, 6299, 6300, 6301, 6302, 6303, 6304, 6305, 6318, 6319, 6320, 6321, 6322, 6323, 6324, 6325, 6326, 6327, 6328, 6329, 6330, 6331, 6332, 6333, 6334, 6335, 6336, 6337, 6338, 6339, 6341, 6342, 6343, 6344, 6345, 6346, 6347, 6348, 6349, 6350, 6351, 6352, 6353, 6354, 6355, 6356, 6357, 6358, 6359, 6360, 6361, 6362, 6363, 6364, 6365, 6366, 6367, 6368, 6369, 6370, 6371, 6372, 6373, 6374, 6375, 6376, 6377, 6378, 6379, 6380, 6381, 6382, 6383, 6384, 6385, 6386, 6387, 6399, 6400, 6401, 6402, 6403, 6404, 6405, 6406, 6407, 6408, 6409, 6410, 6411, 6412, 6413, 6414, 6415, 6416, 6417, 6418, 6419, 6421, 6422, 6423, 6424, 6425, 6426, 6427, 6428, 6429, 6430, 6431, 6432, 6433, 6434, 6435, 6436, 6437, 6438, 6439, 6440, 6441, 6442, 6443, 6444, 6445, 6446, 6447, 6448, 6449, 6450, 6451, 6452, 6453, 6454, 6455, 6456, 6457, 6458, 6459, 6460, 6461, 6462, 6463, 6464, 6465, 6466, 6467, 6468, 6469, 6480, 6481, 6482, 6483, 6484, 6485, 6486, 6487, 6488, 6489, 6490, 6491, 6492, 6493, 6494, 6495, 6496, 6497, 6498, 6499, 6501, 6502, 6503, 6504, 6505, 6506, 6507, 6508, 6509, 6510, 6511, 6512, 6513, 6514, 6515, 6516, 6517, 6518, 6519, 6520, 6521, 6522, 6523, 6524, 6525, 6526, 6527, 6528, 6529, 6530, 6531, 6532, 6533, 6534, 6535, 6536, 6537, 6538, 6539, 6540, 6541, 6542, 6543, 6544, 6545, 6546, 6547, 6548, 6549, 6550, 6551]\n",
      "val ids:  []\n",
      "test ids:  [0, 1, 2, 3, 4, 5, 6, 7, 8, 9, 10, 11, 12, 40, 81, 82, 83, 84, 85, 86, 87, 88, 89, 90, 91, 92, 93, 94, 120, 162, 163, 164, 165, 166, 167, 168, 169, 170, 171, 172, 173, 174, 175, 200, 243, 244, 245, 246, 247, 248, 249, 250, 251, 252, 253, 254, 255, 256, 257, 280, 324, 325, 326, 327, 328, 329, 330, 331, 332, 333, 334, 335, 336, 337, 338, 339, 360, 405, 406, 407, 408, 409, 410, 411, 412, 413, 414, 415, 416, 417, 418, 419, 420, 421, 440, 486, 487, 488, 489, 490, 491, 492, 493, 494, 495, 496, 497, 498, 499, 500, 501, 502, 520, 567, 568, 569, 570, 571, 572, 573, 574, 575, 576, 577, 578, 579, 580, 581, 582, 583, 584, 600, 648, 649, 650, 651, 652, 653, 654, 655, 656, 657, 658, 659, 660, 661, 662, 663, 664, 665, 666, 680, 729, 730, 731, 732, 733, 734, 735, 736, 737, 738, 739, 740, 741, 742, 743, 744, 745, 746, 747, 748, 760, 810, 811, 812, 813, 814, 815, 816, 817, 818, 819, 820, 821, 822, 823, 824, 825, 826, 827, 828, 829, 840, 891, 892, 893, 894, 895, 896, 897, 898, 899, 900, 901, 902, 903, 904, 905, 906, 907, 908, 909, 910, 911, 920, 972, 973, 974, 975, 976, 977, 978, 979, 980, 981, 982, 983, 984, 985, 986, 987, 988, 989, 990, 991, 992, 993, 1000, 1053, 1054, 1055, 1056, 1057, 1058, 1059, 1060, 1061, 1062, 1063, 1064, 1065, 1066, 1067, 1068, 1069, 1070, 1071, 1072, 1073, 1074, 1075, 1080, 1135, 1136, 1137, 1138, 1139, 1140, 1141, 1142, 1143, 1144, 1145, 1146, 1147, 1148, 1149, 1150, 1151, 1152, 1153, 1154, 1155, 1156, 1160, 1217, 1218, 1219, 1220, 1221, 1222, 1223, 1224, 1225, 1226, 1227, 1228, 1229, 1230, 1231, 1232, 1233, 1234, 1235, 1236, 1237, 1238, 1240, 1300, 1301, 1302, 1303, 1304, 1305, 1306, 1307, 1308, 1309, 1310, 1311, 1312, 1313, 1314, 1315, 1316, 1317, 1318, 1319, 1320, 1382, 1383, 1384, 1385, 1386, 1387, 1388, 1389, 1390, 1391, 1392, 1393, 1394, 1395, 1396, 1397, 1398, 1399, 1400, 1401, 1465, 1466, 1467, 1468, 1469, 1470, 1471, 1472, 1473, 1474, 1475, 1476, 1477, 1478, 1479, 1480, 1481, 1482, 1483, 1547, 1548, 1549, 1550, 1551, 1552, 1553, 1554, 1555, 1556, 1557, 1558, 1559, 1560, 1561, 1562, 1563, 1564, 1565, 1629, 1630, 1631, 1632, 1633, 1634, 1635, 1636, 1637, 1638, 1639, 1640, 1641, 1642, 1643, 1644, 1645, 1646, 1647, 1700, 1712, 1713, 1714, 1715, 1716, 1717, 1718, 1719, 1720, 1721, 1722, 1723, 1724, 1725, 1726, 1727, 1728, 1780, 1794, 1795, 1796, 1797, 1798, 1799, 1800, 1801, 1802, 1803, 1804, 1805, 1806, 1807, 1808, 1809, 1810, 1860, 1877, 1878, 1879, 1880, 1881, 1882, 1883, 1884, 1885, 1886, 1887, 1888, 1889, 1890, 1891, 1892, 1940, 1959, 1960, 1961, 1962, 1963, 1964, 1965, 1966, 1967, 1968, 1969, 1970, 1971, 1972, 1973, 1974, 2020, 2040, 2041, 2042, 2043, 2044, 2045, 2046, 2047, 2048, 2049, 2050, 2051, 2052, 2053, 2054, 2055, 2100, 2120, 2124, 2125, 2126, 2127, 2128, 2129, 2130, 2131, 2132, 2133, 2134, 2135, 2136, 2137, 2180, 2200, 2206, 2207, 2208, 2209, 2210, 2211, 2212, 2213, 2214, 2215, 2216, 2217, 2218, 2219, 2260, 2280, 2289, 2290, 2291, 2292, 2293, 2294, 2295, 2296, 2297, 2298, 2299, 2300, 2340, 2360, 2371, 2372, 2373, 2374, 2375, 2376, 2377, 2378, 2379, 2380, 2381, 2382, 2420, 2440, 2454, 2455, 2456, 2457, 2458, 2459, 2460, 2461, 2462, 2463, 2464, 2500, 2520, 2536, 2537, 2538, 2539, 2540, 2541, 2542, 2543, 2544, 2545, 2546, 2580, 2600, 2618, 2619, 2620, 2621, 2622, 2623, 2624, 2625, 2626, 2627, 2660, 2680, 2701, 2702, 2703, 2704, 2705, 2706, 2707, 2708, 2709, 2740, 2760, 2783, 2784, 2785, 2786, 2787, 2788, 2789, 2790, 2791, 2820, 2840, 2866, 2867, 2868, 2869, 2870, 2871, 2872, 2873, 2900, 2920, 2948, 2949, 2950, 2951, 2952, 2953, 2954, 2980, 3000, 3030, 3031, 3032, 3033, 3034, 3035, 3036, 3060, 3080, 3113, 3114, 3115, 3116, 3117, 3118, 3140, 3160, 3195, 3196, 3197, 3198, 3199, 3200, 3220, 3240, 3278, 3279, 3280, 3281, 3300, 3360, 3361, 3362, 3363, 3380, 3443, 3444, 3445, 3460, 3525, 3526, 3540, 3607, 3608, 3620, 3690, 3700, 3772, 3780, 3854, 3860, 3936, 3940, 4018, 4019, 4020, 4099, 4100, 4101, 4180, 4181, 4182, 4183, 4260, 4263, 4264, 4265, 4266, 4340, 4345, 4346, 4347, 4348, 4420, 4427, 4428, 4429, 4430, 4431, 4500, 4508, 4509, 4510, 4511, 4512, 4513, 4580, 4590, 4591, 4592, 4593, 4594, 4595, 4660, 4672, 4673, 4674, 4675, 4676, 4677, 4678, 4740, 4753, 4754, 4755, 4756, 4757, 4758, 4759, 4760, 4820, 4835, 4836, 4837, 4838, 4839, 4840, 4841, 4842, 4843, 4900, 4917, 4918, 4919, 4920, 4921, 4922, 4923, 4924, 4925, 4980, 4999, 5000, 5001, 5002, 5003, 5004, 5005, 5006, 5007, 5060, 5080, 5081, 5082, 5083, 5084, 5085, 5086, 5087, 5088, 5089, 5090, 5140, 5162, 5163, 5164, 5165, 5166, 5167, 5168, 5169, 5170, 5171, 5172, 5220, 5244, 5245, 5246, 5247, 5248, 5249, 5250, 5251, 5252, 5253, 5254, 5255, 5300, 5326, 5327, 5328, 5329, 5330, 5331, 5332, 5333, 5334, 5335, 5336, 5337, 5380, 5407, 5408, 5409, 5410, 5411, 5412, 5413, 5414, 5415, 5416, 5417, 5418, 5419, 5420, 5460, 5489, 5490, 5491, 5492, 5493, 5494, 5495, 5496, 5497, 5498, 5499, 5500, 5501, 5502, 5540, 5571, 5572, 5573, 5574, 5575, 5576, 5577, 5578, 5579, 5580, 5581, 5582, 5583, 5584, 5620, 5653, 5654, 5655, 5656, 5657, 5658, 5659, 5660, 5661, 5662, 5663, 5664, 5665, 5666, 5667, 5700, 5734, 5735, 5736, 5737, 5738, 5739, 5740, 5741, 5742, 5743, 5744, 5745, 5746, 5747, 5748, 5749, 5780, 5816, 5817, 5818, 5819, 5820, 5821, 5822, 5823, 5824, 5825, 5826, 5827, 5828, 5829, 5830, 5831, 5860, 5898, 5899, 5900, 5901, 5902, 5903, 5904, 5905, 5906, 5907, 5908, 5909, 5910, 5911, 5912, 5940, 5979, 5980, 5981, 5982, 5983, 5984, 5985, 5986, 5987, 5988, 5989, 5990, 5991, 5992, 5993, 6020, 6061, 6062, 6063, 6064, 6065, 6066, 6067, 6068, 6069, 6070, 6071, 6072, 6073, 6074, 6100, 6143, 6144, 6145, 6146, 6147, 6148, 6149, 6150, 6151, 6152, 6153, 6154, 6155, 6180, 6225, 6226, 6227, 6228, 6229, 6230, 6231, 6232, 6233, 6234, 6235, 6236, 6260, 6306, 6307, 6308, 6309, 6310, 6311, 6312, 6313, 6314, 6315, 6316, 6317, 6340, 6388, 6389, 6390, 6391, 6392, 6393, 6394, 6395, 6396, 6397, 6398, 6420, 6470, 6471, 6472, 6473, 6474, 6475, 6476, 6477, 6478, 6479, 6500, 6552, 6553, 6554, 6555, 6556, 6557, 6558, 6559, 6560]\n",
      "CPU times: user 139 ms, sys: 31.9 ms, total: 171 ms\n",
      "Wall time: 170 ms\n"
     ]
    }
   ],
   "source": [
    "%%time\n",
    "n_total = len(simulation.dataframe)\n",
    "n_train = len(simulation.dataframe[simulation.dataframe.type_of == \"train\"])\n",
    "n_val = len(simulation.dataframe[simulation.dataframe.type_of == \"val\"])\n",
    "n_test = len(simulation.dataframe[simulation.dataframe.type_of == \"test\"])\n",
    "n_train_hamiltonians = len(simulation.train_ids)\n",
    "n_val_hamiltonians = len(simulation.val_ids)\n",
    "n_test_hamiltonians = len(simulation.test_ids)\n",
    "n_total_hamiltonians = n_train_hamiltonians + n_val_hamiltonians + n_test_hamiltonians\n",
    "\n",
    "print(\"% train: \", n_train/n_total)\n",
    "print(\"% val: \",  n_val/n_total)\n",
    "print(\"% test: \", n_test/n_total)\n",
    "print(\"% train + val + test: \", (n_train+n_val+n_test)/n_total)\n",
    "print(\"\\n\")\n",
    "print(\"number of train hamiltonians: \", n_train_hamiltonians)\n",
    "print(\"number of val hamiltonians: \", n_val_hamiltonians)\n",
    "print(\"number of test hamiltonians: \", n_test_hamiltonians)\n",
    "print(\"total number of hamiltonians: \", n_total_hamiltonians)\n",
    "print(\"\\n\")\n",
    "print(\"train ids: \", simulation.train_ids)\n",
    "print(\"val ids: \", simulation.val_ids)\n",
    "print(\"test ids: \", simulation.test_ids)"
   ]
  },
  {
   "cell_type": "markdown",
   "metadata": {
    "papermill": {
     "duration": 0.017871,
     "end_time": "2020-07-09T19:23:33.813016",
     "exception": false,
     "start_time": "2020-07-09T19:23:33.795145",
     "status": "completed"
    },
    "tags": []
   },
   "source": [
    "## Running a simulation"
   ]
  },
  {
   "cell_type": "code",
   "execution_count": 23,
   "metadata": {
    "execution": {
     "iopub.execute_input": "2020-07-09T19:23:33.853441Z",
     "iopub.status.busy": "2020-07-09T19:23:33.852861Z",
     "iopub.status.idle": "2020-07-09T19:48:29.734317Z",
     "shell.execute_reply": "2020-07-09T19:48:29.734629Z"
    },
    "papermill": {
     "duration": 1495.902756,
     "end_time": "2020-07-09T19:48:29.734695",
     "exception": false,
     "start_time": "2020-07-09T19:23:33.831939",
     "status": "completed"
    },
    "tags": []
   },
   "outputs": [
    {
     "name": "stderr",
     "output_type": "stream",
     "text": [
      "\r",
      "running experiments:   0%|          | 0/100 [00:00<?, ?it/s]"
     ]
    },
    {
     "name": "stderr",
     "output_type": "stream",
     "text": [
      "\r",
      "running experiments:   1%|          | 1/100 [00:15<25:13, 15.29s/it]"
     ]
    },
    {
     "name": "stderr",
     "output_type": "stream",
     "text": [
      "\r",
      "running experiments:   2%|▏         | 2/100 [00:31<25:13, 15.44s/it]"
     ]
    },
    {
     "name": "stderr",
     "output_type": "stream",
     "text": [
      "\r",
      "running experiments:   3%|▎         | 3/100 [00:45<24:41, 15.27s/it]"
     ]
    },
    {
     "name": "stderr",
     "output_type": "stream",
     "text": [
      "\r",
      "running experiments:   4%|▍         | 4/100 [01:00<24:17, 15.18s/it]"
     ]
    },
    {
     "name": "stderr",
     "output_type": "stream",
     "text": [
      "\r",
      "running experiments:   5%|▌         | 5/100 [01:16<24:05, 15.22s/it]"
     ]
    },
    {
     "name": "stderr",
     "output_type": "stream",
     "text": [
      "\r",
      "running experiments:   6%|▌         | 6/100 [01:31<23:43, 15.15s/it]"
     ]
    },
    {
     "name": "stderr",
     "output_type": "stream",
     "text": [
      "\r",
      "running experiments:   7%|▋         | 7/100 [01:46<23:22, 15.08s/it]"
     ]
    },
    {
     "name": "stderr",
     "output_type": "stream",
     "text": [
      "\r",
      "running experiments:   8%|▊         | 8/100 [02:01<23:09, 15.11s/it]"
     ]
    },
    {
     "name": "stderr",
     "output_type": "stream",
     "text": [
      "\r",
      "running experiments:   9%|▉         | 9/100 [02:16<22:46, 15.02s/it]"
     ]
    },
    {
     "name": "stderr",
     "output_type": "stream",
     "text": [
      "\r",
      "running experiments:  10%|█         | 10/100 [02:31<22:35, 15.06s/it]"
     ]
    },
    {
     "name": "stderr",
     "output_type": "stream",
     "text": [
      "\r",
      "running experiments:  11%|█         | 11/100 [02:46<22:16, 15.01s/it]"
     ]
    },
    {
     "name": "stderr",
     "output_type": "stream",
     "text": [
      "\r",
      "running experiments:  12%|█▏        | 12/100 [03:01<22:00, 15.00s/it]"
     ]
    },
    {
     "name": "stderr",
     "output_type": "stream",
     "text": [
      "\r",
      "running experiments:  13%|█▎        | 13/100 [03:16<21:42, 14.97s/it]"
     ]
    },
    {
     "name": "stderr",
     "output_type": "stream",
     "text": [
      "\r",
      "running experiments:  14%|█▍        | 14/100 [03:31<21:27, 14.98s/it]"
     ]
    },
    {
     "name": "stderr",
     "output_type": "stream",
     "text": [
      "\r",
      "running experiments:  15%|█▌        | 15/100 [03:46<21:25, 15.13s/it]"
     ]
    },
    {
     "name": "stderr",
     "output_type": "stream",
     "text": [
      "\r",
      "running experiments:  16%|█▌        | 16/100 [04:01<21:14, 15.17s/it]"
     ]
    },
    {
     "name": "stderr",
     "output_type": "stream",
     "text": [
      "\r",
      "running experiments:  17%|█▋        | 17/100 [04:16<20:48, 15.04s/it]"
     ]
    },
    {
     "name": "stderr",
     "output_type": "stream",
     "text": [
      "\r",
      "running experiments:  18%|█▊        | 18/100 [04:31<20:31, 15.02s/it]"
     ]
    },
    {
     "name": "stderr",
     "output_type": "stream",
     "text": [
      "\r",
      "running experiments:  19%|█▉        | 19/100 [04:46<20:13, 14.98s/it]"
     ]
    },
    {
     "name": "stderr",
     "output_type": "stream",
     "text": [
      "\r",
      "running experiments:  20%|██        | 20/100 [05:01<19:56, 14.95s/it]"
     ]
    },
    {
     "name": "stderr",
     "output_type": "stream",
     "text": [
      "\r",
      "running experiments:  21%|██        | 21/100 [05:16<19:42, 14.97s/it]"
     ]
    },
    {
     "name": "stderr",
     "output_type": "stream",
     "text": [
      "\r",
      "running experiments:  22%|██▏       | 22/100 [05:31<19:32, 15.03s/it]"
     ]
    },
    {
     "name": "stderr",
     "output_type": "stream",
     "text": [
      "\r",
      "running experiments:  23%|██▎       | 23/100 [05:46<19:13, 14.99s/it]"
     ]
    },
    {
     "name": "stderr",
     "output_type": "stream",
     "text": [
      "\r",
      "running experiments:  24%|██▍       | 24/100 [06:01<19:02, 15.03s/it]"
     ]
    },
    {
     "name": "stderr",
     "output_type": "stream",
     "text": [
      "\r",
      "running experiments:  25%|██▌       | 25/100 [06:16<18:50, 15.07s/it]"
     ]
    },
    {
     "name": "stderr",
     "output_type": "stream",
     "text": [
      "\r",
      "running experiments:  26%|██▌       | 26/100 [06:31<18:33, 15.04s/it]"
     ]
    },
    {
     "name": "stderr",
     "output_type": "stream",
     "text": [
      "\r",
      "running experiments:  27%|██▋       | 27/100 [06:46<18:14, 14.99s/it]"
     ]
    },
    {
     "name": "stderr",
     "output_type": "stream",
     "text": [
      "\r",
      "running experiments:  28%|██▊       | 28/100 [07:01<17:53, 14.91s/it]"
     ]
    },
    {
     "name": "stderr",
     "output_type": "stream",
     "text": [
      "\r",
      "running experiments:  29%|██▉       | 29/100 [07:16<17:40, 14.93s/it]"
     ]
    },
    {
     "name": "stderr",
     "output_type": "stream",
     "text": [
      "\r",
      "running experiments:  30%|███       | 30/100 [07:31<17:25, 14.94s/it]"
     ]
    },
    {
     "name": "stderr",
     "output_type": "stream",
     "text": [
      "\r",
      "running experiments:  31%|███       | 31/100 [07:46<17:14, 14.99s/it]"
     ]
    },
    {
     "name": "stderr",
     "output_type": "stream",
     "text": [
      "\r",
      "running experiments:  32%|███▏      | 32/100 [08:01<16:59, 15.00s/it]"
     ]
    },
    {
     "name": "stderr",
     "output_type": "stream",
     "text": [
      "\r",
      "running experiments:  33%|███▎      | 33/100 [08:16<16:46, 15.02s/it]"
     ]
    },
    {
     "name": "stderr",
     "output_type": "stream",
     "text": [
      "\r",
      "running experiments:  34%|███▍      | 34/100 [08:31<16:34, 15.06s/it]"
     ]
    },
    {
     "name": "stderr",
     "output_type": "stream",
     "text": [
      "\r",
      "running experiments:  35%|███▌      | 35/100 [08:46<16:16, 15.03s/it]"
     ]
    },
    {
     "name": "stderr",
     "output_type": "stream",
     "text": [
      "\r",
      "running experiments:  36%|███▌      | 36/100 [09:01<15:58, 14.98s/it]"
     ]
    },
    {
     "name": "stderr",
     "output_type": "stream",
     "text": [
      "\r",
      "running experiments:  37%|███▋      | 37/100 [09:16<15:38, 14.90s/it]"
     ]
    },
    {
     "name": "stderr",
     "output_type": "stream",
     "text": [
      "\r",
      "running experiments:  38%|███▊      | 38/100 [09:31<15:28, 14.97s/it]"
     ]
    },
    {
     "name": "stderr",
     "output_type": "stream",
     "text": [
      "\r",
      "running experiments:  39%|███▉      | 39/100 [09:46<15:13, 14.98s/it]"
     ]
    },
    {
     "name": "stderr",
     "output_type": "stream",
     "text": [
      "\r",
      "running experiments:  40%|████      | 40/100 [10:01<15:02, 15.04s/it]"
     ]
    },
    {
     "name": "stderr",
     "output_type": "stream",
     "text": [
      "\r",
      "running experiments:  41%|████      | 41/100 [10:16<14:41, 14.94s/it]"
     ]
    },
    {
     "name": "stderr",
     "output_type": "stream",
     "text": [
      "\r",
      "running experiments:  42%|████▏     | 42/100 [10:30<14:25, 14.92s/it]"
     ]
    },
    {
     "name": "stderr",
     "output_type": "stream",
     "text": [
      "\r",
      "running experiments:  43%|████▎     | 43/100 [10:46<14:13, 14.98s/it]"
     ]
    },
    {
     "name": "stderr",
     "output_type": "stream",
     "text": [
      "\r",
      "running experiments:  44%|████▍     | 44/100 [11:00<13:57, 14.95s/it]"
     ]
    },
    {
     "name": "stderr",
     "output_type": "stream",
     "text": [
      "\r",
      "running experiments:  45%|████▌     | 45/100 [11:15<13:39, 14.90s/it]"
     ]
    },
    {
     "name": "stderr",
     "output_type": "stream",
     "text": [
      "\r",
      "running experiments:  46%|████▌     | 46/100 [11:30<13:26, 14.93s/it]"
     ]
    },
    {
     "name": "stderr",
     "output_type": "stream",
     "text": [
      "\r",
      "running experiments:  47%|████▋     | 47/100 [11:45<13:14, 14.98s/it]"
     ]
    },
    {
     "name": "stderr",
     "output_type": "stream",
     "text": [
      "\r",
      "running experiments:  48%|████▊     | 48/100 [12:00<12:58, 14.97s/it]"
     ]
    },
    {
     "name": "stderr",
     "output_type": "stream",
     "text": [
      "\r",
      "running experiments:  49%|████▉     | 49/100 [12:15<12:37, 14.85s/it]"
     ]
    },
    {
     "name": "stderr",
     "output_type": "stream",
     "text": [
      "\r",
      "running experiments:  50%|█████     | 50/100 [12:30<12:23, 14.87s/it]"
     ]
    },
    {
     "name": "stderr",
     "output_type": "stream",
     "text": [
      "\r",
      "running experiments:  51%|█████     | 51/100 [12:45<12:08, 14.86s/it]"
     ]
    },
    {
     "name": "stderr",
     "output_type": "stream",
     "text": [
      "\r",
      "running experiments:  52%|█████▏    | 52/100 [13:00<11:56, 14.93s/it]"
     ]
    },
    {
     "name": "stderr",
     "output_type": "stream",
     "text": [
      "\r",
      "running experiments:  53%|█████▎    | 53/100 [13:15<11:40, 14.91s/it]"
     ]
    },
    {
     "name": "stderr",
     "output_type": "stream",
     "text": [
      "\r",
      "running experiments:  54%|█████▍    | 54/100 [13:29<11:24, 14.89s/it]"
     ]
    },
    {
     "name": "stderr",
     "output_type": "stream",
     "text": [
      "\r",
      "running experiments:  55%|█████▌    | 55/100 [13:44<11:07, 14.84s/it]"
     ]
    },
    {
     "name": "stderr",
     "output_type": "stream",
     "text": [
      "\r",
      "running experiments:  56%|█████▌    | 56/100 [13:59<10:56, 14.92s/it]"
     ]
    },
    {
     "name": "stderr",
     "output_type": "stream",
     "text": [
      "\r",
      "running experiments:  57%|█████▋    | 57/100 [14:14<10:45, 15.00s/it]"
     ]
    },
    {
     "name": "stderr",
     "output_type": "stream",
     "text": [
      "\r",
      "running experiments:  58%|█████▊    | 58/100 [14:29<10:26, 14.91s/it]"
     ]
    },
    {
     "name": "stderr",
     "output_type": "stream",
     "text": [
      "\r",
      "running experiments:  59%|█████▉    | 59/100 [14:44<10:13, 14.95s/it]"
     ]
    },
    {
     "name": "stderr",
     "output_type": "stream",
     "text": [
      "\r",
      "running experiments:  60%|██████    | 60/100 [14:59<09:54, 14.87s/it]"
     ]
    },
    {
     "name": "stderr",
     "output_type": "stream",
     "text": [
      "\r",
      "running experiments:  61%|██████    | 61/100 [15:14<09:40, 14.89s/it]"
     ]
    },
    {
     "name": "stderr",
     "output_type": "stream",
     "text": [
      "\r",
      "running experiments:  62%|██████▏   | 62/100 [15:29<09:26, 14.90s/it]"
     ]
    },
    {
     "name": "stderr",
     "output_type": "stream",
     "text": [
      "\r",
      "running experiments:  63%|██████▎   | 63/100 [15:44<09:12, 14.93s/it]"
     ]
    },
    {
     "name": "stderr",
     "output_type": "stream",
     "text": [
      "\r",
      "running experiments:  64%|██████▍   | 64/100 [15:59<09:00, 15.02s/it]"
     ]
    },
    {
     "name": "stderr",
     "output_type": "stream",
     "text": [
      "\r",
      "running experiments:  65%|██████▌   | 65/100 [16:14<08:43, 14.97s/it]"
     ]
    },
    {
     "name": "stderr",
     "output_type": "stream",
     "text": [
      "\r",
      "running experiments:  66%|██████▌   | 66/100 [16:29<08:27, 14.93s/it]"
     ]
    },
    {
     "name": "stderr",
     "output_type": "stream",
     "text": [
      "\r",
      "running experiments:  67%|██████▋   | 67/100 [16:44<08:12, 14.92s/it]"
     ]
    },
    {
     "name": "stderr",
     "output_type": "stream",
     "text": [
      "\r",
      "running experiments:  68%|██████▊   | 68/100 [16:58<07:55, 14.86s/it]"
     ]
    },
    {
     "name": "stderr",
     "output_type": "stream",
     "text": [
      "\r",
      "running experiments:  69%|██████▉   | 69/100 [17:13<07:39, 14.82s/it]"
     ]
    },
    {
     "name": "stderr",
     "output_type": "stream",
     "text": [
      "\r",
      "running experiments:  70%|███████   | 70/100 [17:28<07:24, 14.81s/it]"
     ]
    },
    {
     "name": "stderr",
     "output_type": "stream",
     "text": [
      "\r",
      "running experiments:  71%|███████   | 71/100 [17:43<07:14, 14.98s/it]"
     ]
    },
    {
     "name": "stderr",
     "output_type": "stream",
     "text": [
      "\r",
      "running experiments:  72%|███████▏  | 72/100 [17:58<07:01, 15.04s/it]"
     ]
    },
    {
     "name": "stderr",
     "output_type": "stream",
     "text": [
      "\r",
      "running experiments:  73%|███████▎  | 73/100 [18:13<06:44, 14.99s/it]"
     ]
    },
    {
     "name": "stderr",
     "output_type": "stream",
     "text": [
      "\r",
      "running experiments:  74%|███████▍  | 74/100 [18:28<06:29, 14.97s/it]"
     ]
    },
    {
     "name": "stderr",
     "output_type": "stream",
     "text": [
      "\r",
      "running experiments:  75%|███████▌  | 75/100 [18:44<06:17, 15.10s/it]"
     ]
    },
    {
     "name": "stderr",
     "output_type": "stream",
     "text": [
      "\r",
      "running experiments:  76%|███████▌  | 76/100 [18:59<06:01, 15.07s/it]"
     ]
    },
    {
     "name": "stderr",
     "output_type": "stream",
     "text": [
      "\r",
      "running experiments:  77%|███████▋  | 77/100 [19:14<05:46, 15.06s/it]"
     ]
    },
    {
     "name": "stderr",
     "output_type": "stream",
     "text": [
      "\r",
      "running experiments:  78%|███████▊  | 78/100 [19:29<05:31, 15.07s/it]"
     ]
    },
    {
     "name": "stderr",
     "output_type": "stream",
     "text": [
      "\r",
      "running experiments:  79%|███████▉  | 79/100 [19:44<05:16, 15.07s/it]"
     ]
    },
    {
     "name": "stderr",
     "output_type": "stream",
     "text": [
      "\r",
      "running experiments:  80%|████████  | 80/100 [19:59<05:01, 15.07s/it]"
     ]
    },
    {
     "name": "stderr",
     "output_type": "stream",
     "text": [
      "\r",
      "running experiments:  81%|████████  | 81/100 [20:14<04:45, 15.01s/it]"
     ]
    },
    {
     "name": "stderr",
     "output_type": "stream",
     "text": [
      "\r",
      "running experiments:  82%|████████▏ | 82/100 [20:29<04:29, 14.98s/it]"
     ]
    },
    {
     "name": "stderr",
     "output_type": "stream",
     "text": [
      "\r",
      "running experiments:  83%|████████▎ | 83/100 [20:43<04:14, 14.95s/it]"
     ]
    },
    {
     "name": "stderr",
     "output_type": "stream",
     "text": [
      "\r",
      "running experiments:  84%|████████▍ | 84/100 [20:58<03:58, 14.91s/it]"
     ]
    },
    {
     "name": "stderr",
     "output_type": "stream",
     "text": [
      "\r",
      "running experiments:  85%|████████▌ | 85/100 [21:13<03:43, 14.89s/it]"
     ]
    },
    {
     "name": "stderr",
     "output_type": "stream",
     "text": [
      "\r",
      "running experiments:  86%|████████▌ | 86/100 [21:28<03:27, 14.80s/it]"
     ]
    },
    {
     "name": "stderr",
     "output_type": "stream",
     "text": [
      "\r",
      "running experiments:  87%|████████▋ | 87/100 [21:42<03:12, 14.80s/it]"
     ]
    },
    {
     "name": "stderr",
     "output_type": "stream",
     "text": [
      "\r",
      "running experiments:  88%|████████▊ | 88/100 [21:57<02:57, 14.81s/it]"
     ]
    },
    {
     "name": "stderr",
     "output_type": "stream",
     "text": [
      "\r",
      "running experiments:  89%|████████▉ | 89/100 [22:12<02:42, 14.75s/it]"
     ]
    },
    {
     "name": "stderr",
     "output_type": "stream",
     "text": [
      "\r",
      "running experiments:  90%|█████████ | 90/100 [22:27<02:28, 14.84s/it]"
     ]
    },
    {
     "name": "stderr",
     "output_type": "stream",
     "text": [
      "\r",
      "running experiments:  91%|█████████ | 91/100 [22:42<02:13, 14.86s/it]"
     ]
    },
    {
     "name": "stderr",
     "output_type": "stream",
     "text": [
      "\r",
      "running experiments:  92%|█████████▏| 92/100 [22:56<01:57, 14.71s/it]"
     ]
    },
    {
     "name": "stderr",
     "output_type": "stream",
     "text": [
      "\r",
      "running experiments:  93%|█████████▎| 93/100 [23:11<01:43, 14.81s/it]"
     ]
    },
    {
     "name": "stderr",
     "output_type": "stream",
     "text": [
      "\r",
      "running experiments:  94%|█████████▍| 94/100 [23:26<01:28, 14.76s/it]"
     ]
    },
    {
     "name": "stderr",
     "output_type": "stream",
     "text": [
      "\r",
      "running experiments:  95%|█████████▌| 95/100 [23:41<01:13, 14.70s/it]"
     ]
    },
    {
     "name": "stderr",
     "output_type": "stream",
     "text": [
      "\r",
      "running experiments:  96%|█████████▌| 96/100 [23:56<00:59, 14.91s/it]"
     ]
    },
    {
     "name": "stderr",
     "output_type": "stream",
     "text": [
      "\r",
      "running experiments:  97%|█████████▋| 97/100 [24:11<00:44, 14.84s/it]"
     ]
    },
    {
     "name": "stderr",
     "output_type": "stream",
     "text": [
      "\r",
      "running experiments:  98%|█████████▊| 98/100 [24:26<00:29, 14.87s/it]"
     ]
    },
    {
     "name": "stderr",
     "output_type": "stream",
     "text": [
      "\r",
      "running experiments:  99%|█████████▉| 99/100 [24:40<00:14, 14.83s/it]"
     ]
    },
    {
     "name": "stderr",
     "output_type": "stream",
     "text": [
      "\r",
      "running experiments: 100%|██████████| 100/100 [24:55<00:00, 14.90s/it]"
     ]
    },
    {
     "name": "stderr",
     "output_type": "stream",
     "text": [
      "\r",
      "running experiments: 100%|██████████| 100/100 [24:55<00:00, 14.96s/it]"
     ]
    },
    {
     "name": "stdout",
     "output_type": "stream",
     "text": [
      "CPU times: user 2h 35min 32s, sys: 15 s, total: 2h 35min 47s\n",
      "Wall time: 24min 55s\n"
     ]
    },
    {
     "name": "stderr",
     "output_type": "stream",
     "text": [
      "\n"
     ]
    }
   ],
   "source": [
    "%%time\n",
    "simulation.run_simulation(n_experiments, start_n, fit_params,shuffle_rows, pred_params, random_features, \\\n",
    "                          store_in_lists, save_eigenvector, save_hamiltonian, save_accuracy,\\\n",
    "                          save_models)\n",
    "if simulation.fourier_mode is not None:\n",
    "    simulation.fourier_dataframe.head(10)"
   ]
  },
  {
   "cell_type": "code",
   "execution_count": 24,
   "metadata": {
    "execution": {
     "iopub.execute_input": "2020-07-09T19:48:29.806492Z",
     "iopub.status.busy": "2020-07-09T19:48:29.806088Z",
     "iopub.status.idle": "2020-07-09T19:48:29.831267Z",
     "shell.execute_reply": "2020-07-09T19:48:29.831523Z"
    },
    "papermill": {
     "duration": 0.062215,
     "end_time": "2020-07-09T19:48:29.831590",
     "exception": false,
     "start_time": "2020-07-09T19:48:29.769375",
     "status": "completed"
    },
    "tags": []
   },
   "outputs": [
    {
     "data": {
      "text/html": [
       "<div>\n",
       "<style scoped>\n",
       "    .dataframe tbody tr th:only-of-type {\n",
       "        vertical-align: middle;\n",
       "    }\n",
       "\n",
       "    .dataframe tbody tr th {\n",
       "        vertical-align: top;\n",
       "    }\n",
       "\n",
       "    .dataframe thead th {\n",
       "        text-align: right;\n",
       "    }\n",
       "</style>\n",
       "<table border=\"1\" class=\"dataframe\">\n",
       "  <thead>\n",
       "    <tr style=\"text-align: right;\">\n",
       "      <th></th>\n",
       "      <th>id</th>\n",
       "      <th>path</th>\n",
       "      <th>t1</th>\n",
       "      <th>t2</th>\n",
       "      <th>winding</th>\n",
       "      <th>phase</th>\n",
       "      <th>pred_phase</th>\n",
       "      <th>type_of</th>\n",
       "      <th>feat0</th>\n",
       "      <th>feat1</th>\n",
       "      <th>...</th>\n",
       "      <th>feat90</th>\n",
       "      <th>feat91</th>\n",
       "      <th>feat92</th>\n",
       "      <th>feat93</th>\n",
       "      <th>feat94</th>\n",
       "      <th>feat95</th>\n",
       "      <th>feat96</th>\n",
       "      <th>feat97</th>\n",
       "      <th>feat98</th>\n",
       "      <th>feat99</th>\n",
       "    </tr>\n",
       "  </thead>\n",
       "  <tbody>\n",
       "    <tr>\n",
       "      <th>0</th>\n",
       "      <td>0</td>\n",
       "      <td>H_-2_-2_0.501338.dat</td>\n",
       "      <td>-2.0</td>\n",
       "      <td>-2.0</td>\n",
       "      <td>0.501338</td>\n",
       "      <td>999</td>\n",
       "      <td>0</td>\n",
       "      <td>test</td>\n",
       "      <td>-0.130965</td>\n",
       "      <td>0.301130</td>\n",
       "      <td>...</td>\n",
       "      <td>-0.080279</td>\n",
       "      <td>-0.115687</td>\n",
       "      <td>-0.174988</td>\n",
       "      <td>0.245064</td>\n",
       "      <td>0.319763</td>\n",
       "      <td>-0.059082</td>\n",
       "      <td>-0.000556</td>\n",
       "      <td>-0.245133</td>\n",
       "      <td>-0.301130</td>\n",
       "      <td>0.130965</td>\n",
       "    </tr>\n",
       "    <tr>\n",
       "      <th>1</th>\n",
       "      <td>0</td>\n",
       "      <td>H_-2_-2_0.501338.dat</td>\n",
       "      <td>-2.0</td>\n",
       "      <td>-2.0</td>\n",
       "      <td>0.501338</td>\n",
       "      <td>999</td>\n",
       "      <td>-1</td>\n",
       "      <td>test</td>\n",
       "      <td>-0.130965</td>\n",
       "      <td>-0.301130</td>\n",
       "      <td>...</td>\n",
       "      <td>-0.080279</td>\n",
       "      <td>0.115687</td>\n",
       "      <td>-0.174988</td>\n",
       "      <td>-0.245064</td>\n",
       "      <td>0.319763</td>\n",
       "      <td>0.059082</td>\n",
       "      <td>-0.000556</td>\n",
       "      <td>0.245133</td>\n",
       "      <td>-0.301130</td>\n",
       "      <td>-0.130965</td>\n",
       "    </tr>\n",
       "    <tr>\n",
       "      <th>2</th>\n",
       "      <td>0</td>\n",
       "      <td>H_-2_-2_0.501338.dat</td>\n",
       "      <td>-2.0</td>\n",
       "      <td>-2.0</td>\n",
       "      <td>0.501338</td>\n",
       "      <td>999</td>\n",
       "      <td>-1</td>\n",
       "      <td>test</td>\n",
       "      <td>-0.148414</td>\n",
       "      <td>-0.042467</td>\n",
       "      <td>...</td>\n",
       "      <td>0.185442</td>\n",
       "      <td>-0.080620</td>\n",
       "      <td>-0.066211</td>\n",
       "      <td>-0.121339</td>\n",
       "      <td>-0.151700</td>\n",
       "      <td>0.192513</td>\n",
       "      <td>0.191642</td>\n",
       "      <td>-0.050956</td>\n",
       "      <td>-0.042467</td>\n",
       "      <td>-0.148414</td>\n",
       "    </tr>\n",
       "    <tr>\n",
       "      <th>3</th>\n",
       "      <td>0</td>\n",
       "      <td>H_-2_-2_0.501338.dat</td>\n",
       "      <td>-2.0</td>\n",
       "      <td>-2.0</td>\n",
       "      <td>0.501338</td>\n",
       "      <td>999</td>\n",
       "      <td>1</td>\n",
       "      <td>test</td>\n",
       "      <td>-0.069630</td>\n",
       "      <td>-0.026147</td>\n",
       "      <td>...</td>\n",
       "      <td>0.102009</td>\n",
       "      <td>-0.100671</td>\n",
       "      <td>-0.081002</td>\n",
       "      <td>-0.020715</td>\n",
       "      <td>-0.058717</td>\n",
       "      <td>0.115834</td>\n",
       "      <td>0.118274</td>\n",
       "      <td>-0.054666</td>\n",
       "      <td>-0.026147</td>\n",
       "      <td>-0.069630</td>\n",
       "    </tr>\n",
       "    <tr>\n",
       "      <th>4</th>\n",
       "      <td>0</td>\n",
       "      <td>H_-2_-2_0.501338.dat</td>\n",
       "      <td>-2.0</td>\n",
       "      <td>-2.0</td>\n",
       "      <td>0.501338</td>\n",
       "      <td>999</td>\n",
       "      <td>2</td>\n",
       "      <td>test</td>\n",
       "      <td>0.010206</td>\n",
       "      <td>-0.014625</td>\n",
       "      <td>...</td>\n",
       "      <td>0.047555</td>\n",
       "      <td>-0.041368</td>\n",
       "      <td>-0.018852</td>\n",
       "      <td>-0.017673</td>\n",
       "      <td>-0.023377</td>\n",
       "      <td>0.031447</td>\n",
       "      <td>0.010280</td>\n",
       "      <td>0.000925</td>\n",
       "      <td>0.014625</td>\n",
       "      <td>-0.010206</td>\n",
       "    </tr>\n",
       "    <tr>\n",
       "      <th>5</th>\n",
       "      <td>0</td>\n",
       "      <td>H_-2_-2_0.501338.dat</td>\n",
       "      <td>-2.0</td>\n",
       "      <td>-2.0</td>\n",
       "      <td>0.501338</td>\n",
       "      <td>999</td>\n",
       "      <td>1</td>\n",
       "      <td>test</td>\n",
       "      <td>0.116962</td>\n",
       "      <td>0.021475</td>\n",
       "      <td>...</td>\n",
       "      <td>-0.086901</td>\n",
       "      <td>-0.045676</td>\n",
       "      <td>-0.028034</td>\n",
       "      <td>0.129266</td>\n",
       "      <td>0.130083</td>\n",
       "      <td>-0.098190</td>\n",
       "      <td>-0.104188</td>\n",
       "      <td>-0.007911</td>\n",
       "      <td>0.021475</td>\n",
       "      <td>0.116962</td>\n",
       "    </tr>\n",
       "    <tr>\n",
       "      <th>6</th>\n",
       "      <td>0</td>\n",
       "      <td>H_-2_-2_0.501338.dat</td>\n",
       "      <td>-2.0</td>\n",
       "      <td>-2.0</td>\n",
       "      <td>0.501338</td>\n",
       "      <td>999</td>\n",
       "      <td>0</td>\n",
       "      <td>test</td>\n",
       "      <td>0.037175</td>\n",
       "      <td>-0.095882</td>\n",
       "      <td>...</td>\n",
       "      <td>-0.027490</td>\n",
       "      <td>0.046168</td>\n",
       "      <td>0.063419</td>\n",
       "      <td>-0.041630</td>\n",
       "      <td>-0.085769</td>\n",
       "      <td>-0.010604</td>\n",
       "      <td>-0.009822</td>\n",
       "      <td>0.084024</td>\n",
       "      <td>0.095882</td>\n",
       "      <td>-0.037175</td>\n",
       "    </tr>\n",
       "    <tr>\n",
       "      <th>7</th>\n",
       "      <td>0</td>\n",
       "      <td>H_-2_-2_0.501338.dat</td>\n",
       "      <td>-2.0</td>\n",
       "      <td>-2.0</td>\n",
       "      <td>0.501338</td>\n",
       "      <td>999</td>\n",
       "      <td>0</td>\n",
       "      <td>test</td>\n",
       "      <td>0.027709</td>\n",
       "      <td>-0.038180</td>\n",
       "      <td>...</td>\n",
       "      <td>0.123344</td>\n",
       "      <td>-0.114320</td>\n",
       "      <td>-0.057118</td>\n",
       "      <td>-0.040291</td>\n",
       "      <td>-0.061263</td>\n",
       "      <td>0.087153</td>\n",
       "      <td>0.029599</td>\n",
       "      <td>-0.001276</td>\n",
       "      <td>0.038180</td>\n",
       "      <td>-0.027709</td>\n",
       "    </tr>\n",
       "    <tr>\n",
       "      <th>8</th>\n",
       "      <td>0</td>\n",
       "      <td>H_-2_-2_0.501338.dat</td>\n",
       "      <td>-2.0</td>\n",
       "      <td>-2.0</td>\n",
       "      <td>0.501338</td>\n",
       "      <td>999</td>\n",
       "      <td>-1</td>\n",
       "      <td>test</td>\n",
       "      <td>0.059795</td>\n",
       "      <td>0.030272</td>\n",
       "      <td>...</td>\n",
       "      <td>-0.082347</td>\n",
       "      <td>0.140996</td>\n",
       "      <td>0.128386</td>\n",
       "      <td>-0.036608</td>\n",
       "      <td>0.029628</td>\n",
       "      <td>-0.124877</td>\n",
       "      <td>-0.140478</td>\n",
       "      <td>0.088573</td>\n",
       "      <td>0.030272</td>\n",
       "      <td>0.059795</td>\n",
       "    </tr>\n",
       "    <tr>\n",
       "      <th>9</th>\n",
       "      <td>0</td>\n",
       "      <td>H_-2_-2_0.501338.dat</td>\n",
       "      <td>-2.0</td>\n",
       "      <td>-2.0</td>\n",
       "      <td>0.501338</td>\n",
       "      <td>999</td>\n",
       "      <td>1</td>\n",
       "      <td>test</td>\n",
       "      <td>0.141605</td>\n",
       "      <td>0.013497</td>\n",
       "      <td>...</td>\n",
       "      <td>-0.035718</td>\n",
       "      <td>-0.110014</td>\n",
       "      <td>-0.082452</td>\n",
       "      <td>0.146084</td>\n",
       "      <td>0.152588</td>\n",
       "      <td>-0.067575</td>\n",
       "      <td>-0.087187</td>\n",
       "      <td>-0.043484</td>\n",
       "      <td>0.013497</td>\n",
       "      <td>0.141605</td>\n",
       "    </tr>\n",
       "  </tbody>\n",
       "</table>\n",
       "<p>10 rows × 108 columns</p>\n",
       "</div>"
      ],
      "text/plain": [
       "   id                  path   t1   t2   winding  phase  pred_phase type_of  \\\n",
       "0   0  H_-2_-2_0.501338.dat -2.0 -2.0  0.501338    999           0    test   \n",
       "1   0  H_-2_-2_0.501338.dat -2.0 -2.0  0.501338    999          -1    test   \n",
       "2   0  H_-2_-2_0.501338.dat -2.0 -2.0  0.501338    999          -1    test   \n",
       "3   0  H_-2_-2_0.501338.dat -2.0 -2.0  0.501338    999           1    test   \n",
       "4   0  H_-2_-2_0.501338.dat -2.0 -2.0  0.501338    999           2    test   \n",
       "5   0  H_-2_-2_0.501338.dat -2.0 -2.0  0.501338    999           1    test   \n",
       "6   0  H_-2_-2_0.501338.dat -2.0 -2.0  0.501338    999           0    test   \n",
       "7   0  H_-2_-2_0.501338.dat -2.0 -2.0  0.501338    999           0    test   \n",
       "8   0  H_-2_-2_0.501338.dat -2.0 -2.0  0.501338    999          -1    test   \n",
       "9   0  H_-2_-2_0.501338.dat -2.0 -2.0  0.501338    999           1    test   \n",
       "\n",
       "      feat0     feat1  ...    feat90    feat91    feat92    feat93    feat94  \\\n",
       "0 -0.130965  0.301130  ... -0.080279 -0.115687 -0.174988  0.245064  0.319763   \n",
       "1 -0.130965 -0.301130  ... -0.080279  0.115687 -0.174988 -0.245064  0.319763   \n",
       "2 -0.148414 -0.042467  ...  0.185442 -0.080620 -0.066211 -0.121339 -0.151700   \n",
       "3 -0.069630 -0.026147  ...  0.102009 -0.100671 -0.081002 -0.020715 -0.058717   \n",
       "4  0.010206 -0.014625  ...  0.047555 -0.041368 -0.018852 -0.017673 -0.023377   \n",
       "5  0.116962  0.021475  ... -0.086901 -0.045676 -0.028034  0.129266  0.130083   \n",
       "6  0.037175 -0.095882  ... -0.027490  0.046168  0.063419 -0.041630 -0.085769   \n",
       "7  0.027709 -0.038180  ...  0.123344 -0.114320 -0.057118 -0.040291 -0.061263   \n",
       "8  0.059795  0.030272  ... -0.082347  0.140996  0.128386 -0.036608  0.029628   \n",
       "9  0.141605  0.013497  ... -0.035718 -0.110014 -0.082452  0.146084  0.152588   \n",
       "\n",
       "     feat95    feat96    feat97    feat98    feat99  \n",
       "0 -0.059082 -0.000556 -0.245133 -0.301130  0.130965  \n",
       "1  0.059082 -0.000556  0.245133 -0.301130 -0.130965  \n",
       "2  0.192513  0.191642 -0.050956 -0.042467 -0.148414  \n",
       "3  0.115834  0.118274 -0.054666 -0.026147 -0.069630  \n",
       "4  0.031447  0.010280  0.000925  0.014625 -0.010206  \n",
       "5 -0.098190 -0.104188 -0.007911  0.021475  0.116962  \n",
       "6 -0.010604 -0.009822  0.084024  0.095882 -0.037175  \n",
       "7  0.087153  0.029599 -0.001276  0.038180 -0.027709  \n",
       "8 -0.124877 -0.140478  0.088573  0.030272  0.059795  \n",
       "9 -0.067575 -0.087187 -0.043484  0.013497  0.141605  \n",
       "\n",
       "[10 rows x 108 columns]"
      ]
     },
     "execution_count": 24,
     "metadata": {},
     "output_type": "execute_result"
    }
   ],
   "source": [
    "simulation.dataframe.head(10)"
   ]
  },
  {
   "cell_type": "markdown",
   "metadata": {
    "papermill": {
     "duration": 0.034637,
     "end_time": "2020-07-09T19:48:29.901234",
     "exception": false,
     "start_time": "2020-07-09T19:48:29.866597",
     "status": "completed"
    },
    "tags": []
   },
   "source": [
    "#### Viewing a random sample"
   ]
  },
  {
   "cell_type": "code",
   "execution_count": 25,
   "metadata": {
    "execution": {
     "iopub.execute_input": "2020-07-09T19:48:29.974144Z",
     "iopub.status.busy": "2020-07-09T19:48:29.973832Z",
     "iopub.status.idle": "2020-07-09T19:48:29.984430Z",
     "shell.execute_reply": "2020-07-09T19:48:29.984102Z"
    },
    "papermill": {
     "duration": 0.047829,
     "end_time": "2020-07-09T19:48:29.984480",
     "exception": false,
     "start_time": "2020-07-09T19:48:29.936651",
     "status": "completed"
    },
    "tags": []
   },
   "outputs": [
    {
     "name": "stdout",
     "output_type": "stream",
     "text": [
      "CPU times: user 2 µs, sys: 0 ns, total: 2 µs\n",
      "Wall time: 4.29 µs\n"
     ]
    }
   ],
   "source": [
    "%%time\n",
    "if simulation.fourier_mode is not None:\n",
    "    simulation.fourier_dataframe.sample(frac=0.1, replace=False)"
   ]
  },
  {
   "cell_type": "markdown",
   "metadata": {
    "papermill": {
     "duration": 0.034592,
     "end_time": "2020-07-09T19:48:30.053791",
     "exception": false,
     "start_time": "2020-07-09T19:48:30.019199",
     "status": "completed"
    },
    "tags": []
   },
   "source": [
    "#### Checking train/val/test splits again"
   ]
  },
  {
   "cell_type": "code",
   "execution_count": 26,
   "metadata": {
    "execution": {
     "iopub.execute_input": "2020-07-09T19:48:30.127083Z",
     "iopub.status.busy": "2020-07-09T19:48:30.126707Z",
     "iopub.status.idle": "2020-07-09T19:48:30.317242Z",
     "shell.execute_reply": "2020-07-09T19:48:30.317513Z"
    },
    "papermill": {
     "duration": 0.228268,
     "end_time": "2020-07-09T19:48:30.317580",
     "exception": false,
     "start_time": "2020-07-09T19:48:30.089312",
     "status": "completed"
    },
    "tags": []
   },
   "outputs": [
    {
     "name": "stdout",
     "output_type": "stream",
     "text": [
      "% train:  0.4208199969516842\n",
      "% val:  0.42066758116140834\n",
      "% test:  0.15851242188690748\n",
      "% train + val + test:  1.0\n",
      "\n",
      "\n",
      "number of train hamiltonians:  2761\n",
      "number of val hamiltonians:  2760\n",
      "number of test hamiltonians:  1040\n",
      "total number of hamiltonians:  6561\n",
      "\n",
      "\n",
      "train ids:  [4823, 1581, 1287, 2364, 2633, 6196, 4204, 3932, 2414, 3277, 5717, 1257, 4277, 530, 373, 4686, 3935, 6183, 4575, 4691, 1296, 5105, 4361, 33, 4965, 5043, 4323, 5458, 1705, 2432, 1685, 5231, 3392, 5852, 2585, 6005, 5691, 4369, 5711, 4489, 4869, 1180, 5833, 3399, 2896, 6463, 3990, 2517, 5593, 5602, 2752, 342, 2319, 708, 5883, 1690, 5486, 889, 6256, 31, 2839, 2241, 875, 3015, 4821, 3810, 1834, 358, 312, 2726, 5733, 5534, 720, 5100, 3969, 1868, 4044, 837, 4143, 6102, 5948, 473, 2827, 2369, 4898, 5377, 6001, 3941, 4890, 1168, 177, 4994, 5947, 4774, 5051, 5202, 2202, 3707, 150, 4908, 3107, 5685, 594, 5532, 4882, 384, 4308, 1585, 6408, 5113, 4523, 2658, 6060, 4154, 2710, 5524, 5920, 4192, 2576, 5310, 3484, 2892, 1321, 510, 4137, 1708, 1192, 176, 4911, 912, 1680, 3042, 430, 4299, 3426, 4555, 2087, 4241, 5064, 3364, 764, 4047, 6332, 4293, 619, 1738, 1523, 5603, 4424, 4139, 2184, 515, 1111, 6086, 302, 3909, 3606, 763, 5008, 354, 4333, 2530, 1539, 3431, 1790, 5028, 3223, 6506, 4177, 4474, 4984, 3760, 2675, 2006, 2712, 3585, 3991, 1245, 1415, 6257, 5141, 5706, 2314, 3414, 6003, 4405, 6163, 5914, 2316, 3393, 5362, 3567, 2738, 846, 5347, 4748, 3576, 3783, 4983, 295, 1674, 5444, 3485, 1894, 4621, 6054, 3624, 3669, 1039, 1664, 6322, 5968, 2799, 4063, 2153, 5215, 6095, 933, 5804, 5111, 921, 1906, 6386, 4247, 5802, 307, 3441, 4208, 3539, 1269, 2736, 6105, 6211, 6002, 775, 4032, 3497, 72, 5182, 5937, 1901, 3832, 1997, 241, 5674, 2330, 3999, 2750, 2988, 3968, 5714, 5480, 2609, 4452, 2564, 1778, 1106, 931, 1273, 1205, 102, 2103, 6157, 6508, 719, 955, 2549, 2499, 3255, 1013, 6455, 4719, 1841, 6219, 2883, 6481, 1588, 6162, 2023, 2267, 4251, 6158, 636, 2603, 4239, 1096, 2173, 3098, 5732, 2143, 5135, 6249, 3347, 2655, 1849, 2631, 2527, 5838, 5448, 6550, 1936, 2227, 4080, 5482, 4780, 3615, 98, 5763, 2607, 4197, 32, 4226, 381, 6291, 3208, 3625, 3646, 6484, 3555, 385, 1850, 1341, 2990, 3461, 2031, 5936, 5871, 6333, 2465, 2486, 1912, 2189, 4344, 6526, 3569, 3245, 2935, 4859, 2115, 6125, 71, 4387, 3371, 685, 1121, 3305, 785, 5488, 2096, 2830, 5790, 5268, 772, 3194, 2713, 5483, 3970, 2411, 757, 5892, 2484, 3665, 3738, 2172, 44, 3564, 5397, 2583, 4287, 270, 4066, 2147, 4989, 5187, 787, 458, 2559, 947, 6175, 258, 2447, 6407, 377, 4069, 950, 4571, 1511, 5996, 2816, 3998, 4769, 2569, 6085, 4715, 5285, 6446, 1871, 108, 2430, 42, 5673, 2575, 389, 6426, 2390, 5636, 5185, 2674, 6282, 3878, 6453, 2860, 2715, 1330, 4659, 4415, 2421, 848, 2123, 2475, 5916, 3357, 5969, 3230, 941, 2034, 540, 4598, 3152, 4972, 2406, 4761, 2573, 3340, 4397, 2024, 4104, 4609, 3706, 2640, 674, 66, 4315, 1928, 2393, 196, 143, 593, 4547, 5478, 2334, 4477, 1378, 3960, 3605, 3145, 3667, 3514, 3026, 3358, 2652, 2502, 5587, 478, 5013, 2240, 1759, 2910, 4123, 6220, 4963, 1515, 3081, 3226, 3954, 1444, 6300, 4655, 832, 4111, 548, 20, 854, 4081, 3307, 5913, 5870, 3742, 5958, 1537, 3731, 6491, 5630, 4738, 4170, 1673, 3375, 485, 5067, 2138, 4242, 2729, 1866, 1051, 5946, 3623, 5778, 1460, 2916, 967, 1775, 2739, 3462, 1181, 1345, 5505, 2268, 1546, 3660, 4662, 3798, 6447, 5803, 4970, 2661, 2506, 5062, 4422, 2359, 4679, 1381, 155, 388, 2571, 3274, 43, 347, 6078, 4531, 3312, 5939, 5454, 3897, 5546, 178, 4450, 4175, 3144, 6254, 4807, 1251, 6457, 3987, 392, 3345, 5564, 4973, 2088, 1497, 3692, 4449, 205, 3530, 3410, 5075, 2416, 2429, 5342, 3856, 3092, 2056, 5551, 6435, 3651, 3094, 1692, 2941, 1411, 2003, 6293, 615, 6088, 2913, 631, 4006, 2978, 35, 5613, 4559, 5787, 5545, 3550, 1159, 1413, 712, 2325, 4685, 3652, 3054, 5470, 951, 6275, 5428, 3571, 2938, 5050, 5720, 1093, 1426, 4947, 3265, 5106, 6222, 5891, 1344, 4279, 142, 801, 4290, 1177, 207, 3052, 3503, 308, 1650, 2074, 3349, 5649, 4301, 1604, 6485, 3233, 3234, 1783, 3256, 3916, 612, 1331, 3903, 1045, 566, 1119, 3249, 2973, 1758, 3128, 2656, 3044, 2266, 3989, 1935, 3421, 4940, 2498, 1261, 6370, 437, 4692, 677, 997, 4199, 715, 6503, 725, 6124, 2885, 6208, 6081, 4223, 1359, 4519, 667, 5183, 6344, 3898, 5356, 1095, 4698, 5523, 4467, 948, 3276, 203, 4493, 3850, 64, 1917, 5056, 1250, 367, 1529, 3603, 2850, 3490, 4915, 2833, 3729, 3112, 4392, 4157, 3408, 5189, 3993, 5179, 1329, 2281, 3016, 3997, 2548, 4527, 3822, 4036, 4097, 4358, 513, 5032, 2604, 4075, 4225, 5598, 3334, 2758, 5866, 2629, 2766, 771, 610, 5293, 6096, 4196, 3739, 4741, 5726, 1520, 4034, 429, 589, 5399, 1996, 3014, 956, 3527, 2646, 2324, 4985, 4603, 4703, 3723, 3213, 314, 428, 4466, 4363, 6337, 3072, 1703, 4060, 5676, 236, 2413, 1592, 2274, 5144, 2275, 6413, 1576, 5512, 4468, 5186, 2222, 3732, 4084, 3902, 2183, 5432, 2176, 2403, 4257, 5791, 59, 4889, 5516, 5256, 2336, 2751, 4684, 4488, 5599, 2169, 626, 2842, 3088, 6041, 998, 234, 5536, 4743, 4936, 2386, 4276, 125, 1526, 547, 5994, 4926, 2605, 3857, 6323, 4776, 1947, 3976, 6302, 795, 1299, 209, 4680, 70, 861, 4189, 3243, 2968, 4735, 1832, 4950, 3470, 4578, 1663, 5510, 5535, 616, 133, 5862, 1518, 2467, 1492, 913, 1573, 694, 4038, 916, 2387, 4693, 1118, 2581, 375, 2396, 3403, 5034, 6279, 238, 55, 1501, 1620, 870, 5422, 2588, 1766, 3908, 3599, 4388, 1453, 5263, 4319, 3644, 156, 1611, 2109, 3505, 6190, 3294, 4640, 3869, 3517, 3613, 4237, 2259, 723, 3640, 1288, 80, 6414, 5635, 6216, 3396, 4798, 2470, 1446, 2989, 4162, 5190, 503, 4899, 2847, 5680, 5402, 4563, 1920, 5568, 1008, 3752, 3775, 790, 6326, 6082, 3746, 3178, 3259, 3438, 4805, 2912, 5130, 6176, 5692, 1984, 3983, 6261, 6055, 6053, 1428, 4651, 3124, 5143, 2643, 5646, 3330, 1694, 585, 3604, 3502, 1845, 761, 4294, 2105, 4784, 346, 296, 6287, 670, 3870, 5782, 1502, 2283, 3978, 3863, 4822, 2697, 1097, 4286, 3037, 4526, 6304, 1243, 6454, 3653, 1918, 395, 2018, 5269, 3189, 1343, 3584, 3407, 3250, 2894, 2140, 1170, 213, 5016, 1451, 1043, 5134, 5619, 506, 1991, 3626, 5436, 793, 4607, 480, 2193, 77, 3488, 1454, 2179, 2653, 5955, 3533, 5352, 3418, 601, 4053, 1271, 5022, 3221, 4365, 5696, 5400, 4750, 4478, 218, 5863, 1688, 4098, 4121, 1202, 6029, 5837, 288, 1263, 195, 4440, 2468, 4545, 2721, 1208, 3138, 2911, 30, 4671, 1030, 3304, 5235, 5919, 3043, 3842, 5952, 2197, 1785, 3074, 3212, 5219, 4700, 3733, 1932, 4704, 4093, 2078, 1532, 4967, 4292, 3643, 5481, 3589, 1508, 3563, 2257, 4939, 2632, 3635, 1408, 3649, 3013, 5789, 4529, 1660, 6418, 5338, 6189, 3156, 215, 6038, 1407, 400, 3894, 4110, 1125, 6008, 5858, 1811, 2778, 4635, 5054, 5314, 1943, 1176, 3491, 2504, 1747, 4873, 3666, 4417, 4742, 3067, 38, 4116, 5297, 4766, 6529, 1215, 1668, 5528, 1265, 1286, 5039, 4461, 6009, 5475, 3262, 528, 3817, 3434, 2352, 5753, 5177, 2097, 58, 2310, 4987, 5533, 49, 5503, 3058, 4736, 769, 1569, 1900, 633, 5160, 3174, 1406, 5750, 5784, 3697, 3785, 2742, 5596, 2101, 693, 3896, 149, 3882, 3318, 4777, 4164, 5509, 879, 2161, 4816, 4023, 2174, 4932, 459, 3331, 432, 2834, 6518, 449, 1047, 3880, 5430, 3847, 3384, 3582, 4368, 1161, 5769, 6006, 6238, 1666, 1613, 4362, 3099, 6209, 3079, 4979, 2764, 2157, 262, 3917, 4469, 6097, 3910, 6077, 2963, 3806, 3961, 4082, 5027, 1377, 2399, 776, 588, 3621, 275, 1958, 509, 4433, 5046, 4931, 4912, 2761, 5849, 4341, 3720, 3866, 3328, 5197, 65, 2061, 1788, 3496, 5547, 691, 5184, 2686, 3481, 2362, 1373, 5286, 6239, 3859, 1598, 4403, 6269, 2121, 1615, 6290, 6185, 4364, 130, 5553, 2492, 6181, 4314, 210, 6494, 3091, 5280, 4145, 2505, 2863, 5188, 5872, 5679, 2149, 1410, 797, 3580, 1823, 5424, 3385, 5504, 137, 5843, 4230, 6347, 4193, 3777, 3027, 1021, 4148, 5507, 5025, 2152, 1939, 3662, 2303, 1419, 4187, 4215, 1494, 5128, 1298, 3482, 835, 439, 450, 1431, 4091, 4585, 4411, 2014, 5240, 5071, 341, 1435, 5638, 5434, 5104, 4862, 527, 706, 3247, 4515, 3715, 2767, 4790, 1945, 643, 4827, 4966, 3097, 2593, 1103, 393, 4634, 3018, 4356, 4335, 4408, 1371, 3354, 5037, 6273, 5995, 534, 3934, 1847, 5228, 5394, 2577, 4106, 5440, 759, 4721, 4179, 6409, 1456, 517, 2333, 3549, 2511, 3420, 6450, 2507, 1872, 3876, 4690, 3008, 6023, 235, 3137, 4641, 4813, 622, 6032, 6036, 728, 4642, 2231, 6087, 6252, 2960, 3416, 3447, 2417, 1190, 3927, 5922, 2732, 274, 2236, 468, 4068, 3089, 5381, 2348, 3204, 3105, 702, 686, 2976, 1031, 5723, 4752, 6000, 1921, 5217, 5131, 3261, 4248, 1571, 6542, 2496, 4954, 3784, 1209, 4071, 56, 134, 4613, 2195, 5405, 1992, 6049, 1132, 5355, 1659, 4949, 2853, 4956, 3534, 4520, 887, 5477, 927, 4573, 2683, 1656, 2494, 2196, 3523, 4506, 844, 3568, 3957, 4504, 4739, 883, 3142, 1182, 5766, 782, 1348, 4206, 466, 1267, 3824, 1029, 3120, 5851, 6295, 2983, 4375, 4207, 928, 6027, 4762, 1735, 5078, 4746, 2166, 3366, 3458, 5265, 3282, 5125, 2886, 1606, 6422, 2272, 3766, 3451, 860, 4028, 3834, 5392, 4360, 6289, 2974, 999, 1412, 926, 2000, 5387, 190, 2597, 4270, 6214, 2884, 3943, 6169, 3749, 5543, 114, 2822, 3310, 4661, 1367, 3888, 2190, 4150, 1405, 4167, 3846, 2405, 3572, 3163, 2587, 1430, 2366, 865, 4524, 857, 6535, 5119, 6360, 4214, 6286, 6371, 5320, 391, 4473, 2526, 6338, 1655, 4171, 4878, 4385, 4064, 2797, 6192, 5261, 139, 2167, 2645, 3268, 1020, 5101, 2234, 1710, 2514, 6199, 5126, 5455, 5964, 2768, 3577, 3241, 6197, 1678, 3401, 4846, 4771, 4236, 4787, 5349, 5537, 5452, 4283, 2070, 3218, 1010, 3872, 2977, 4456, 727, 5632, 1024, 2146, 1041, 1087, 3891, 2119, 2828, 3967, 199, 422, 126, 5945, 3996, 1905, 3211, 1012, 4133, 194, 6467, 4407, 119, 3758, 1653, 2601, 4815, 2188, 2753, 5555, 3789, 2524, 1114, 3469, 1164, 4471, 1541, 3149, 220, 4871, 5181, 6551, 2516, 4533, 605, 5026, 4252, 6515, 6241, 1919, 6504, 2915, 5963, 4380, 1789, 1369, 6532, 2071, 1859, 3668, 127, 3638, 3450, 6280, 6272, 227, 5487, 4764, 357, 1792, 5435, 4499, 6513, 2407, 937, 1828, 5795, 6182, 4812, 4874, 3841, 3024, 4729, 2887, 3809, 936, 3862, 3778, 4643, 1167, 266, 5122, 4498, 6250, 3958, 5847, 2435, 3405, 1015, 2568, 3231, 6362, 3096, 2639, 6456, 6179, 5882, 1675, 4502, 2695, 5155, 1584, 3499, 1662, 24, 305, 6034, 4007, 1978, 4325, 6017, 97, 2582, 3110, 2848, 2444, 1423, 1903, 5556, 5716, 3136, 233, 4240, 5974, 5302, 2832, 881, 2144, 2962, 6548, 4141, 1649, 5277, 6546, 3663, 541, 2079, 5404, 355, 448, 3542, 3020, 3590, 4324, 3143, 3303, 3162, 4035, 3376, 1278, 4568, 882, 3795, 3273, 1755, 3355, 1184, 5382, 6401, 69, 2801, 4059, 1116, 2010, 5857, 4168, 4569, 3429, 1590, 2650, 454, 6331, 2067, 2616, 958, 724, 5232, 4435, 5513, 3353, 4244, 444, 3787, 1169, 5855, 4589, 2036, 1017, 4832, 2725, 766, 5372, 4881, 2438, 3579, 6051, 6028, 4311, 144, 5999, 3477, 2357, 455, 6492, 4065, 6043, 2946, 1004, 1861, 922, 3725, 1933, 2424, 1826, 3807, 28, 5812, 2311, 3157, 4669, 709, 5229, 3518, 2151, 5443, 5562, 5272, 2326, 3227, 4781, 2346, 5313, 1193, 2654, 3222, 1599, 1696, 5390, 3394, 4996, 300, 4749, 4205, 3730, 4275, 6528, 3489, 5429, 1276, 2030, 968, 4153, 3600, 3413, 2431, 5361, 5608, 6018, 5751, 5977, 4577, 3864, 3386, 4262, 3612, 6541, 2917, 5771, 5211, 378, 4045, 3912, 511, 4726, 5865, 287, 3598, 807, 542, 2095, 1448, 3439, 5705, 2746, 3618, 3636, 5462, 2116, 1293, 3805, 4043, 225, 1622, 5159, 3046, 1450, 4436, 3479, 6091, 4566, 6364, 3835, 3597, 4462, 5174, 2717, 4213, 2565, 838, 934, 2312, 673, 587, 3966, 3068, 6202, 1544, 6136, 2141, 2351, 5192, 2367, 2728, 6329, 2769, 5316, 5346, 3654, 2081, 6343, 4117, 1189, 1005, 3769, 1107, 3209, 3005, 3365, 5878, 5030, 3705, 5841, 2035, 3819, 4041, 2322, 1124, 1980, 5348, 3501, 5772, 3901, 954, 4447, 4073, 318, 3012, 5257, 5241, 1683, 5311, 2389, 472, 6430, 5671, 6191, 383, 4152, 51, 867, 3930, 5792, 138, 3676, 1525, 5384, 3021, 2890, 796, 1090, 4901, 4977, 2566, 4791, 2762, 1201, 858, 4663, 2529, 2595, 2480, 1530, 2089, 2224, 850, 4010, 6213, 2249, 3237, 3367, 4269, 2969, 914, 5895, 5339, 1434, 4616, 4614, 2998, 5541, 2437, 3802, 206, 3544, 2408, 5783, 5942, 5238, 5267, 2122, 180, 2515, 6354, 3543, 6278, 1126, 1827, 1335, 6372, 878, 1099, 4453, 105, 5073, 2017, 952, 5127, 1028, 800, 777, 3559, 1848, 6101, 160, 2558, 5152, 4981, 4366, 6298, 1105, 3285, 2690, 1837, 5953, 1002, 187, 2918, 831, 641, 639, 4245, 2687, 3694, 2327, 1648, 1954, 2171, 4667, 2239, 3038, 3975, 2922, 3084, 5427, 5472, 1083, 1254, 2591, 3028, 5153, 5139, 3404, 374, 6507, 4801, 5554, 5456, 1196, 3487, 5957, 2384, 2341, 5009, 2809, 5112, 5956, 6296, 1956, 3493, 5020, 6090, 5669, 2641, 6243, 5728, 2201, 5066, 2557, 5935, 2495, 3061, 3986, 3077, 6538, 1988, 4419, 2776, 39, 2446, 2648, 4633, 2192, 2328, 73, 3655, 1283, 2358, 5585, 6460, 5449, 872, 5614, 2344, 4074, 3656, 2276, 5264, 202, 689, 5093, 1875, 1512, 5809, 5098, 714, 5796, 465, 5354, 2796, 4300, 2059, 5631, 713, 5461, 6103, 4602, 3388, 6523, 5193, 6325, 6022, 1682, 5137, 5366, 6281, 2434, 1568, 2793, 3971, 3301, 129, 1819, 298, 5693, 4394, 3855, 2981, 3049, 3387, 4310, 5758, 4877, 6527, 3714, 4218, 4165, 4576, 3437, 2522, 6094, 3215, 301, 4528, 1695, 6358, 5358, 3166, 930, 1854, 3001, 4619, 609, 3803, 1258, 2247, 3545, 3770, 4125, 3541, 3288, 3849, 1742, 5074, 6498, 3159, 5799, 2112, 4105, 1851, 5846, 3867, 6501, 3865, 2560, 5150, 545, 278, 4132, 1857, 146, 514, 2691, 4188, 6421, 2826, 526, 3982, 5012, 5325, 4629, 5932, 4556, 5282, 1768, 3536, 3554, 946, 25, 5096, 3095, 4285, 3914, 5704, 1295, 4055, 4107, 1322, 544, 5699, 3815, 344, 5797, 4118, 3457, 3595, 1037, 3658, 1873, 5133, 5592, 2798, 1916, 6132, 1535, 4130, 76, 3427, 2528, 3788, 5793, 1998, 4557, 4320, 5641, 5303, 1843, 1178, 1677, 2602, 3532, 3172, 3267, 2253, 1672, 6318, 4550, 6336, 1938, 3648, 5023, 3650, 2731, 3423, 1522, 117, 5595, 2955, 479, 6052, 5296, 3435, 756, 2159, 5234, 3828, 3747, 6127, 959, 6487, 4327, 5642, 4067, 3494, 6215, 3175, 2111, 4334, 4472, 4056, 5975, 1982, 1239, 1831, 2993, 5973, 3513, 1897, 4090, 5344, 2264, 2878, 1676, 5173, 5204, 6019, 3617, 3560, 141, 2875, 2162, 2237, 1566, 2278, 4457, 4089, 259, 4718, 3472, 6404, 4982, 1246, 5044, 4096, 5038, 204, 1838, 4646, 6468, 2857, 2779, 645, 2347, 3055, 5640, 3907, 3377, 1924, 1122, 6210, 4329, 1380, 5637, 687, 5794, 996, 2637, 3985, 4847, 223, 2481, 4845, 4811, 5527, 1416, 1025, 3890, 1216, 260, 1374, 2450, 4176, 2057, 3629, 1356, 4964, 231, 1773, 4278, 5690, 4159, 678, 1975, 1994, 2876, 6039, 4608, 5773, 5867, 2696, 1507, 3920, 4537, 1172, 3793, 3121, 4997, 4232, 4802, 802, 5401, 877, 1357, 5594, 6193, 5284, 5298, 1255, 4945, 5040, 4962, 4221, 456, 5798, 403, 2478, 237, 2391, 3158, 1752, 871, 3323, 3299, 5765, 6016, 2984, 1587, 4943, 3432, 3578, 4432, 5544, 3449, 3436, 3504, 6184, 2423, 16, 5371, 5515, 5864, 4626, 475, 4868, 6346, 4234, 3750, 3062, 2879, 447, 3179, 1437, 6277, 2235, 614, 4037, 4828, 2874, 1538, 4220, 6319, 3827, 4355, 6382, 3673, 2836, 2903, 470, 4551, 2011, 2343, 5295, 1772, 508, 5484, 1583, 5294, 5959, 1279, 182, 4054, 3838, 3522, 5707, 6129, 2433, 4567, 3191, 3296, 5557, 5650, 5727, 2562, 6406, 13, 3764, 2895, 4401, 3313, 971, 4378, 2523, 5634, 4048, 3889, 2164, 1579, 2678, 2085, 3937, 1131, 5761, 4535, 3258, 529, 348, 1534, 5464, 1608, 316, 6349, 845, 5385, 1981, 4398, 3053, 3973, 5364, 3009, 36, 6366, 4572, 3553, 1194, 6266, 1779, 3344, 1104, 6221, 5207, 4017, 5423, 192, 5359, 3843, 5786, 6012, 564, 2445, 467, 2419, 4400, 1280, 3133, 3335, 5103, 5702, 6357, 4303, 1089, 5754, 2309, 4021, 208, 562, 6425, 6411, 5178, 3964, 5759, 2819, 3761, 640, 2090, 5868, 5214, 4935, 47, 2329, 5519, 843, 5893, 1812, 4853, 2745, 4372, 1489, 446, 2972, 2337, 3845, 5208, 557, 4298, 5447, 3614, 1282, 320, 453, 4337, 5439, 5357, 923, 3498, 2269, 1463, 3224, 5308, 3813, 2473, 3370, 1729, 3315, 365, 4897, 2635, 3257, 1490, 4396, 4444, 371, 4909, 6384, 67, 4554, 3551, 4271, 61, 6116, 4476, 4359, 3048, 2807, 2400, 3879, 5876, 3972, 1536, 3417, 2091, 4872, 4553, 2363, 1782, 4140, 4342, 4186, 2062, 2649, 1927, 2256, 4814, 1596, 2881, 847, 3924, 4024, 3547, 2634, 1737, 6342, 4127, 1937, 1750, 5117, 6493, 3102, 4304, 3736, 646, 4745, 3782, 5457, 2022, 620, 5391, 186, 5934, 1270, 5548, 4597, 3378, 2795, 5262, 935, 4879, 1425, 5814, 1527, 3040, 2155, 4393, 4734, 103, 2724, 3820, 3688, 3468, 6429, 2719, 4015, 2168, 2479, 3119, 4202, 482, 2436, 5465, 5815, 852, 1165, 2453, 6530, 4799, 5221, 5095, 3538, 3852, 6482, 2154, 2288, 3383, 1171, 1036, 3886, 3779, 277, 1769, 4441, 1545, 2817, 6262, 695, 2967, 4085, 688, 3593, 3519, 3188, 5998, 2805, 3029, 387, 5805, 604, 1698, 3799, 5033, 3321, 4653, 4163, 4913, 3948, 3628, 152, 3478, 701, 151, 1575, 5388, 3150, 4880, 1447, 1417, 5722, 5997, 524, 6047, 2711, 2185, 3851, 4779, 5393, 5923, 5017, 5079, 4657, 2934, 6050, 3270, 2897, 1088, 2901, 3078, 291, 2398]\n",
      "val ids:  [438, 4219, 6465, 1500, 5198, 1011, 4495, 1130, 5094, 5943, 5021, 2737, 4971, 4402, 2016, 1657, 2959, 1350, 2404, 2669, 5517, 2939, 726, 34, 3004, 4834, 2009, 2904, 2223, 474, 3939, 597, 5321, 6449, 4025, 6270, 4198, 5206, 3293, 5205, 6114, 5469, 5451, 1333, 1580, 1506, 4620, 504, 309, 6141, 3390, 516, 5351, 6443, 5340, 2075, 5045, 4203, 6167, 5176, 4579, 4289, 3093, 6380, 5463, 2282, 4455, 4540, 2928, 4212, 2263, 2985, 2306, 3955, 3290, 4445, 5770, 3284, 4406, 3829, 1079, 6403, 1044, 4875, 5550, 2370, 1259, 2410, 46, 3283, 3959, 2221, 1033, 1524, 5560, 1327, 3193, 5398, 3177, 2947, 5800, 6533, 3703, 1379, 4061, 3596, 5437, 3774, 3168, 2552, 6212, 4011, 147, 224, 382, 6495, 4636, 1942, 5604, 5453, 5684, 5306, 4797, 2802, 4905, 4596, 4484, 3741, 859, 1661, 157, 2332, 3719, 4933, 214, 4246, 1986, 5721, 765, 2554, 5304, 3844, 1436, 5559, 773, 4863, 3616, 5951, 778, 3861, 3622, 132, 2452, 4763, 1862, 2285, 1349, 608, 2651, 4582, 531, 2666, 3320, 2191, 5124, 2889, 6305, 5015, 4412, 1127, 5539, 3661, 6301, 5760, 3773, 3154, 2929, 692, 433, 5859, 1748, 3148, 5888, 750, 6013, 2780, 3272, 618, 5363, 1336, 3216, 4894, 5312, 4326, 3126, 4352, 3740, 2102, 3685, 4885, 2956, 2933, 3134, 2251, 5886, 483, 232, 4216, 5628, 5058, 3698, 3452, 2714, 5121, 1402, 2279, 3875, 5569, 5063, 4042, 1268, 2028, 3329, 6242, 788, 1619, 1183, 4416, 4371, 4707, 3406, 1370, 3634, 606, 5929, 5941, 441, 4328, 2921, 2205, 3765, 1842, 4681, 592, 123, 2858, 4282, 2811, 4233, 3415, 104, 2073, 2759, 2638, 4102, 5129, 1923, 1929, 3492, 5894, 6432, 5610, 4172, 3411, 239, 3122, 2556, 6217, 5213, 1760, 4648, 4788, 1291, 4861, 4968, 1876, 784, 4122, 3382, 5678, 3745, 1941, 3130, 5156, 2187, 6044, 703, 5967, 3696, 6104, 1241, 590, 2093, 3811, 2301, 1019, 6288, 1699, 340, 2670, 4627, 6353, 3814, 1001, 52, 2476, 6335, 6271, 3609, 786, 2069, 2841, 4114, 602, 193, 2590, 1462, 2228, 1704, 6367, 5944, 2926, 1931, 4147, 4497, 2792, 4565, 1701, 4160, 5446, 5701, 1732, 1628, 5611, 721, 4016, 1911, 5047, 3219, 6383, 552, 5161, 6516, 2038, 2882, 5225, 617, 1533, 2628, 3184, 613, 1864, 4052, 136, 6168, 5588, 292, 1358, 107, 5471, 3251, 2812, 2385, 917, 370, 3905, 4305, 1813, 2553, 3507, 4858, 3066, 830, 4410, 469, 2469, 4884, 3476, 5216, 5341, 311, 3535, 106, 4710, 2015, 4773, 1009, 1098, 556, 3217, 3790, 3467, 4975, 1846, 1517, 1110, 3500, 5014, 3763, 944, 5376, 1734, 2570, 5072, 799, 2106, 2744, 5629, 3672, 4377, 2668, 3506, 6194, 3995, 3325, 1855, 111, 4395, 5108, 2388, 2676, 792, 2899, 3641, 5431, 638, 4944, 966, 4485, 1375, 6303, 2519, 4803, 4505, 21, 3944, 753, 5200, 2422, 6079, 2409, 2072, 1368, 6177, 1763, 272, 17, 3792, 4307, 1746, 6138, 4639, 3831, 4144, 1499, 154, 4792, 5260, 3123, 4158, 4724, 4893, 6251, 5345, 3630, 4986, 2849, 4713, 4751, 6483, 2919, 1609, 4891, 2720, 1214, 5479, 2428, 2644, 3086, 2007, 4796, 2821, 6048, 5525, 6480, 4988, 2965, 3511, 1113, 6519, 3333, 2534, 4078, 4887, 6490, 4076, 219, 3601, 5877, 1976, 6365, 3456, 2891, 5146, 4384, 3473, 5618, 3176, 3759, 1781, 4379, 2647, 2594, 313, 3631, 4386, 2255, 5258, 1022, 4831, 4458, 1325, 5731, 3639, 5683, 2942, 1765, 1432, 5836, 1339, 5243, 1607, 476, 5861, 2318, 5068, 109, 3915, 3946, 4194, 3252, 3141, 1035, 189, 1922, 1840, 4351, 2999, 4770, 6267, 2261, 3207, 2615, 2308, 3236, 3659, 5884, 3515, 1949, 3002, 5764, 3988, 60, 4800, 2718, 4211, 3056, 2771, 751, 2068, 1952, 293, 4978, 5273, 5343, 2531, 849, 798, 5842, 2489, 3671, 3480, 2181, 1693, 890, 6106, 3183, 5315, 2547, 4272, 2749, 2485, 5042, 4689, 1187, 6531, 6075, 1427, 3727, 3397, 2694, 1365, 53, 880, 3512, 2165, 558, 427, 1420, 75, 1616, 5425, 2487, 3085, 2356, 19, 6451, 3994, 3895, 5639, 4902, 2699, 1591, 603, 5566, 2561, 5369, 1817, 5307, 3475, 4854, 2846, 1252, 3309, 6327, 1791, 179, 2439, 4625, 5389, 2491, 6433, 2815, 6445, 423, 6031, 5570, 803, 3877, 6292, 874, 3684, 4928, 1294, 6345, 3372, 3520, 4623, 242, 3104, 6417, 3757, 4806, 6130, 2198, 5558, 1038, 3348, 1944, 1858, 1753, 949, 5299, 5834, 3929, 873, 2584, 6348, 3586, 4722, 2254, 1741, 2066, 3977, 6547, 3611, 2589, 380, 6187, 6122, 4317, 4851, 1281, 3825, 915, 3717, 4258, 1985, 29, 4747, 276, 4029, 4541, 4288, 4581, 2838, 1509, 3229, 758, 50, 4708, 6135, 3337, 596, 6042, 5709, 3201, 2975, 1816, 3125, 3073, 2033, 6174, 4544, 5203, 6117, 4649, 6015, 5677, 4587, 6502, 2845, 1829, 352, 538, 5069, 3689, 2657, 6093, 4516, 5845, 3709, 283, 5373, 1504, 630, 4532, 711, 3933, 2490, 368, 3419, 5196, 1186, 4937, 6161, 5158, 4574, 6140, 1449, 3082, 4606, 3327, 5383, 5896, 4561, 212, 5612, 842, 4296, 5508, 6057, 4848, 6464, 3548, 5370, 2084, 2608, 4079, 2182, 3007, 4008, 963, 4645, 1824, 2563, 2818, 159, 6437, 1046, 2862, 74, 4331, 6439, 57, 5059, 5921, 863, 6112, 4343, 505, 6387, 198, 809, 3796, 2996, 5057, 6115, 3011, 5752, 2888, 5242, 3433, 3214, 191, 2782, 4562, 2992, 929, 628, 1503, 4005, 5318, 4930, 2533, 1266, 2425, 5881, 3308, 2304, 2685, 5978, 1899, 3045, 6441, 3913, 2823, 5801, 5055, 1627, 2599, 6361, 282, 3945, 3974, 4844, 3065, 3681, 4463, 4459, 4605, 5695, 5148, 960, 1048, 774, 6084, 4664, 221, 4538, 2008, 553, 995, 4281, 2350, 3339, 2426, 4370, 3558, 1908, 4959, 5926, 1493, 1429, 6424, 4382, 4418, 4124, 5675, 4051, 3332, 6059, 1770, 4201, 5283, 683, 2065, 5142, 100, 1366, 3064, 1488, 5607, 3816, 4518, 2199, 5433, 1684, 783, 3023, 4126, 5511, 707, 350, 4714, 4778, 4442, 2271, 5873, 3424, 6377, 2002, 1757, 4647, 1487, 4002, 2354, 1989, 2230, 317, 2092, 6415, 4254, 5406, 3425, 3254, 808, 4190, 3474, 6431, 63, 2902, 5848, 1355, 2029, 402, 3483, 3322, 2914, 5116, 2032, 2170, 953, 546, 791, 4088, 551, 1326, 754, 6517, 5353, 6378, 4094, 5049, 1521, 6540, 560, 5930, 2273, 3359, 851, 5136, 886, 2083, 5091, 2064, 6264, 2394, 1094, 1601, 1702, 3818, 2864, 1987, 1354, 924, 1458, 2099, 1440, 1914, 4046, 957, 4087, 6320, 4169, 5180, 4725, 3087, 3956, 112, 3108, 4543, 4332, 1129, 3395, 1687, 885, 5350, 4330, 443, 3610, 6173, 1957, 969, 222, 945, 6110, 1204, 6276, 3737, 2203, 4243, 4012, 2338, 6025, 5652, 6534, 6442, 2592, 2286, 5360, 6405, 5624, 6328, 442, 3699, 2611, 6539, 4253, 4050, 4864, 6118, 4946, 2252, 3192, 4191, 4033, 2117, 5567, 1595, 5151, 4570, 2013, 1162, 2302, 1691, 1016, 4907, 4178, 394, 676, 1112, 4423, 6089, 131, 6206, 3167, 2383, 5367, 2642, 2226, 1424, 4903, 4291, 3826, 4261, 2145, 2021, 6359, 5319, 2361, 1485, 4530, 1191, 591, 185, 1709, 3291, 303, 4195, 2578, 537, 4682, 839, 2026, 1085, 3928, 4637, 3561, 1730, 3950, 2923, 2664, 679, 2175, 4142, 3319, 1836, 2488, 2586, 918, 5459, 710, 1092, 2835, 1679, 6497, 1600, 267, 2572, 6379, 6438, 2943, 3906, 3980, 435, 3830, 3324, 1570, 6200, 3139, 5781, 629, 4273, 4960, 4895, 3454, 401, 2859, 4058, 4238, 4730, 3904, 6198, 4031, 6207, 5648, 6134, 5627, 4227, 6113, 6247, 3153, 5290, 1352, 1736, 2353, 3238, 521, 2339, 1754, 3670, 3412, 637, 4494, 3881, 436, 6026, 4564, 3726, 2262, 2932, 2930, 6543, 37, 5365, 5600, 5890, 1833, 4313, 5561, 1990, 3466, 2673, 3884, 5154, 5933, 2925, 6030, 48, 4086, 3228, 3287, 3264, 5755, 5670, 2532, 4274, 4794, 3637, 5259, 4185, 4886, 2665, 2518, 3202, 5102, 424, 3039, 4670, 1761, 716, 4712, 2982, 555, 5195, 2808, 5224, 3693, 5644, 4687, 4600, 4390, 356, 1904, 6374, 5061, 4492, 4072, 2025, 4259, 4426, 4855, 836, 4830, 5473, 682, 6544, 3316, 4350, 5281, 6035, 3495, 4209, 3679, 273, 2936, 4129, 426, 4217, 1739, 4460, 4039, 2245, 5808, 3106, 2765, 6402, 5138, 767, 2689, 1844, 2893, 4948, 161, 3683, 471, 481, 6369, 6253, 632, 1793, 6514, 4961, 4109, 5672, 1049, 2063, 3677, 4367, 3767, 6355, 6373, 18, 4888, 201, 153, 3275, 6010, 762, 363, 856, 5767, 3900, 1593, 6160, 1084, 96, 6120, 5239, 4464, 1003, 6170, 2442, 3800, 4549, 5421, 2723, 1421, 1825, 297, 2986, 4302, 5887, 1459, 4486, 3239, 4070, 2104, 4612, 3748, 6159, 362, 4958, 2233, 1513, 4381, 6119, 4184, 1455, 2194, 2317, 549, 2443, 1200, 6285, 6330, 4077, 3455, 4297, 5305, 6351, 3205, 1338, 3242, 2831, 3311, 6399, 2755, 2448, 3574, 116, 3528, 5785, 6461, 5322, 1835, 6245, 3588, 5874, 6385, 4737, 2107, 4103, 2829, 1438, 1689, 4705, 3633, 749, 4628, 3711, 962, 5617, 5230, 752, 4819, 1443, 6126, 671, 1505, 3702, 1821, 2037, 1898, 4611, 2243, 4731, 5633, 4399, 463, 3400, 5275, 2418, 386, 3129, 286, 1297, 4833, 4475, 6178, 95, 5621, 310, 4413, 3686, 4421, 938, 461, 2679, 5442, 3187, 5445, 3063, 1617, 2773, 6045, 4652, 22, 5114, 1117, 5375, 2060, 1174, 5175, 6142, 5019, 722, 1531, 1610, 2483, 1007, 366, 4552, 4927, 5222, 2005, 4161, 4503, 1102, 2471, 3244, 6133, 2966, 1353, 2781, 2477, 4295, 2365, 1913, 5029, 4001, 2606, 1707, 1567, 1026, 4665, 1543, 4720, 4974, 1123, 2907, 2287, 5147, 4929, 263, 6092, 3762, 2501, 1767, 1869, 595, 3076, 3581, 4349, 1626, 5476, 1582, 2931, 4003, 404, 4536, 4229, 5236, 5688, 6268, 1671, 62, 2204, 6011, 396, 3464, 2763, 4857, 4618, 2877, 2019, 2757, 128, 1572, 4870, 2630, 268, 2596, 3724, 3744, 4624, 4694, 5853, 4112, 1418, 4284, 4697, 3812, 3942, 559, 1185, 4716, 3206, 3369, 4782, 3712, 525, 1157, 1586, 3070, 3735, 3911, 3602, 4952, 1621, 1197, 4610, 3925, 5426, 4955, 4630, 4353, 2012, 4709, 6419, 1589, 1915, 5368, 1870, 484, 3823, 1040, 5698, 5694, 1510, 2186, 2735, 4586, 5053, 3556, 3161, 353, 2160, 4951, 6121, 3984, 5529, 868, 2150, 647, 1334, 3338, 4306, 5324, 3516, 4867, 5810, 6284, 1290, 543, 3003, 642, 1749, 5485, 2908, 1274, 2940, 4479, 4517, 181, 5729, 2636, 4723, 704, 2614, 3962, 6537, 2855, 5708, 5065, 2924, 5954, 681, 1852, 4824, 4896, 4496, 2663, 4876, 1751, 4013, 4040, 6496, 5622, 3428, 3465, 41, 4374, 512, 2001, 2113, 2238, 2961, 5157, 3182, 4049, 4904, 5474, 2813, 4465, 3808, 4668, 4174, 4138, 1814, 4548, 3529, 6107, 451, 5927, 3949, 5048, 4481, 3893, 2118, 5966, 4804, 4146, 3373, 1158, 4128, 5118, 5645, 2451, 4783, 1786, 2909, 4938, 2671, 5768, 1414, 2082, 3919, 1623, 6427, 1711, 1256, 3164, 1669, 5278, 4027, 2525, 3103, 2509, 3342, 4733, 1818, 4601, 804, 1787, 1198, 4491, 1342, 5615, 2579, 2250, 4953, 6412, 3751, 345, 5099, 2114, 4957, 6021, 6489, 2466, 5915, 3619, 304, 5762, 4309, 3336, 6080, 1203, 6466, 3704, 2814, 4256, 3508, 5276, 1771, 425, 3992, 3260, 1594, 79, 3155, 718, 2039, 2178, 285, 3147, 1706, 6166, 3546, 3691, 5715, 226, 3680, 862, 4883, 1253, 3059, 398, 3678, 6459, 2574, 1332, 5668, 4437, 5287, 3389, 5466, 5145, 970, 535, 5070, 2741, 2775, 6416, 4057, 1433, 6204, 3246, 5961, 3755, 3509, 2613, 1822, 4338, 2770, 939, 3286, 2806, 5625, 866, 1100, 1006, 2672, 2246, 1206, 2307, 3642, 230, 4617, 3718, 2722, 5271, 1820, 1865, 6375, 919, 3083, 5301, 4312, 3918, 1496, 2349, 1578, 5880, 289, 2598, 361, 4599, 5850, 2743, 4825, 5703, 2730, 3701, 2355, 372, 1756, 4439, 5395, 4702, 624, 1289, 5468, 6024, 4701, 1077, 1516, 6195, 4373, 3647, 3768, 5606, 669, 5719, 1670, 5616, 118, 3754, 2004, 4849, 5549, 4404, 3351, 2513, 1930, 2098, 634, 925, 6524, 4113, 4695, 6244, 6263, 1731, 145, 1362, 2535, 3575, 1163, 2733, 3963, 5918, 4942, 294, 4228, 6294, 4119, 188, 6164, 1950, 623, 4280, 1995, 2142, 3965, 78, 1697, 5972, 1863, 5115, 1091, 1612, 5844, 4030, 2335, 1442, 2777, 2077, 1439, 376, 1733, 6350, 4357, 2754, 3632, 3486, 2987, 3853, 1264, 4728, 4990, 1498, 6123, 5323, 5223, 6462, 684, 5031, 359, 397, 2958, 4892, 3051, 5107, 668, 3682, 5518, 565, 3645, 2148, 3010, 3566, 4998, 1018, 3791, 1815, 1744, 27, 5647, 3374, 315, 3657, 1624, 4906, 3931, 698, 5774, 1042, 1925, 3111, 5110, 4699, 5854, 1101, 364, 6509, 1577, 5730, 3132, 15, 3591, 6400, 1867, 3885, 4389, 431, 5626, 4789, 5591, 4507, 4654, 1745, 3271, 4793, 5279, 3075, 4717, 888, 3109, 6520, 3210, 54, 5609, 2684, 4224, 6274, 1351, 3848, 3181, 3821, 217, 853, 2315, 1166, 5869, 4969, 770, 4235, 2852, 4542, 696, 519, 4155, 1195, 379, 4316, 4425, 4166, 3446, 5681, 1983, 1363, 5788, 284, 4638, 5962, 943, 2258, 3190, 2905, 5976, 1896, 533, 5775, 5563, 4173, 3521, 717, 4255, 3664, 4434, 3710, 5403, 1115, 6205, 3695, 5233, 3552, 2474, 2677, 6376, 6423, 349, 1484, 2497, 6448, 2861, 4809, 2854, 1540, 4354, 5292, 3858, 3017, 3510, 1784, 3562, 4604, 1249, 563, 5191, 6265, 2555, 2851, 5917, 1014, 805, 6512, 4817, 4151, 5289, 4322, 110, 855, 834, 833, 1618, 2342, 3794, 5522, 1979, 3786, 2321, 4009, 1665, 4706, 2551, 6203, 101, 1764, 621, 5052, 2550, 3289, 611, 323, 4583, 5514, 2856, 3295, 5950, 3871, 3979, 4490, 2692, 4446, 4644, 5149, 6486, 2971, 6240, 4483, 3721, 5806, 2163, 3921, 3171, 5949, 2493, 460, 2756, 6259, 3402, 3203, 6188, 5542, 4222, 4696, 1895, 2503, 3839, 539, 1762, 6434, 319, 1403, 1346, 5686, 5531, 2027, 2232, 3899, 1272, 115, 2734, 2397, 1777, 3263, 6201, 1347, 3926, 6510, 4108, 5386, 452, 5237, 183, 1993, 5218, 2220, 6428, 5689, 3687, 6549, 5036, 2508, 1409, 5839, 6109, 4852, 6521, 2331, 5109, 3753, 4941, 2323, 3356, 3186, 158, 4711, 940, 1934, 2076, 4810, 4383, 4688, 5041, 627, 3874, 6007, 4991, 1999, 6099, 2825, 4683, 1461, 3923, 1292, 1034, 4026, 1340, 2368, 768, 5840, 4231, 2395, 3674, 1907, 2392, 1277, 6525, 1052, 2058, 4376, 3524, 3071, 675, 3302, 4120, 4136, 3952, 99, 6040, 6255, 2667, 1951, 5776, 5378, 1856, 4818, 4993, 4865, 3232, 3557, 5757, 1652, 5697, 265, 2415, 4866, 4267, 3050, 5813, 121, 6037, 6165, 4910, 2837, 281, 3173, 3565, 4514, 1853, 306, 5687, 5643, 2727, 2803, 2482, 4004, 4480, 2427, 6108, 3675, 197, 2898, 4521, 4156, 1364, 229, 4826, 2086, 343, 269, 5210, 4135, 4482, 5521, 3131, 4558, 3833, 6223, 5931, 3743, 1486, 5309, 3722, 2521, 1284, 1376, 635, 599, 2937, 3151, 5756, 2748, 1681, 23, 2320, 4856, 6522, 2229, 3409, 1027, 1328, 3463, 6083, 876, 3165, 1464, 518, 4014, 3887, 1686, 2772, 4914, 1651, 3440, 3537, 113, 4095, 4860, 705, 216, 841, 6356, 1953, 2080, 789, 462, 2944, 3873, 2449, 1212, 3938, 5552, 1275, 4772, 4200, 1078, 4992, 211, 6248, 228, 5565, 2158, 3398, 1262, 5925, 3592, 586, 3892, 4268, 2225, 2865, 2305, 3127, 1404, 1519, 124, 1514, 5266, 4658, 6299, 3352, 1495, 5856, 3019, 3069, 3297, 4250, 5438, 2108, 3570, 464, 1452, 6368, 6046, 4131, 5035, 561, 2957, 1926, 1179, 6137, 644, 3836, 1839, 1108, 2991, 5526, 4546, 2265, 2248, 1740, 2270, 4414, 994, 2313, 5396, 3771, 264, 5924, 5120, 4525, 6098, 4744, 3573, 3430, 4732, 5875, 1134, 261, 3459, 2512, 5226, 5270, 5097, 4451, 2510, 1323, 4409, 6410, 122, 6505, 2402, 3225, 5605, 3041, 932, 4808, 3883, 3734, 4115, 864, 1213, 6381, 5623, 5832, 1776, 26, 5018, 5212, 2698, 1774, 369, 1361, 3837, 2177, 4487, 4470, 3101, 1830, 2244, 6058, 4916, 2284, 3135, 6488, 3953, 1244, 6352, 3756, 6321, 3341, 1603, 4022, 1247, 554, 5506, 3180, 3422, 2610, 290, 6341, 5123, 4454, 3169, 279, 2617, 3326, 1260, 2412, 4000, 1324, 5450, 2277, 4501, 3146, 6324, 6076, 5132, 6363, 2716, 1210, 1133, 1120, 4786, 6339, 457, 2401, 1086, 4210, 5467, 5201, 794, 3728, 1076, 6297, 6156, 445, 5291, 1542, 1337, 271, 4588, 755, 4622, 1743, 1173, 6536, 942, 240, 2242, 4615, 4631, 6334, 3047, 4448, 434, 6499, 4976, 1528, 2139, 5520, 3269, 5227, 5897, 3298, 3391, 321, 6436, 4339, 1574, 4775, 4062, 5194, 1199, 2700, 4391, 2567, 5965, 1109, 5885, 5199, 5718, 1667, 1175, 5288, 5807, 2804, 6004, 1893, 5970, 399, 779, 6171, 3781, 322, 45, 2094, 5076, 1285, 3381, 6224, 5589, 507, 4443, 6237, 140, 1081, 5811, 4768, 5777, 3100, 884, 1602, 5441, 3951, 5011, 3840, 2970, 2693, 3379, 6111, 4092, 6131, 1491, 1946, 4560, 4149, 6258, 2979, 550, 3627, 5960, 2994, 2945, 1422, 690, 5724, 1050, 965, 3947, 2810, 3343, 2906, 5889, 4249, 5530, 2747, 3006, 699, 2794, 5779, 4727, 2800, 3471, 6458, 3594, 806, 1902, 5835, 3868, 6033, 5971, 3981, 1909, 2880, 1207, 2441, 5710, 1082, 4934, 5682, 6511, 4632, 1658, 2964, 1605, 4438, 351, 2156, 1654, 1597, 14, 2662, 536, 1874, 5597, 6283, 3292, 3587, 3716, 5928, 5077, 5725, 1614, 3306, 6469, 1910, 5374, 4083, 3442, 1032, 1360, 2110, 3922, 2844, 68, 3797, 1977, 780, 3801, 148, 6139, 3350, 6056, 4134, 5010, 1441, 3266, 532, 5938, 2682, 1242, 1948, 1955, 6444, 2688, 1445, 4995, 3057, 3170, 4850, 184, 1457, 5538, 4767, 4650, 5712, 5092, 3804, 4534, 3346, 697, 2824, 4795, 390, 3583, 3090, 2995, 6246, 3448, 6218, 2681, 5317, 4336, 5274, 2927, 6440, 2612, 4539, 135, 4785, 3025, 598, 1211, 700, 1023, 3235, 5024, 3776, 3248, 625, 2774, 964, 3368, 6186, 2472, 3253, 2843, 6014, 2345, 5590, 3708, 3317, 869, 2997, 1128, 4321, 6172, 672, 4522, 4318, 477, 961, 2659, 3314, 4656, 607, 5209, 1372, 522, 299, 6452, 6545, 4765, 523, 4829, 3531, 781, 4584, 5651, 5879, 5379, 4666, 5586, 3022, 3185, 5713, 6128, 1248, 3453, 5601, 3713, 1625, 1188]\n",
      "test ids:  [0, 1, 2, 3, 4, 5, 6, 7, 8, 9, 10, 11, 12, 40, 81, 82, 83, 84, 85, 86, 87, 88, 89, 90, 91, 92, 93, 94, 120, 162, 163, 164, 165, 166, 167, 168, 169, 170, 171, 172, 173, 174, 175, 200, 243, 244, 245, 246, 247, 248, 249, 250, 251, 252, 253, 254, 255, 256, 257, 280, 324, 325, 326, 327, 328, 329, 330, 331, 332, 333, 334, 335, 336, 337, 338, 339, 360, 405, 406, 407, 408, 409, 410, 411, 412, 413, 414, 415, 416, 417, 418, 419, 420, 421, 440, 486, 487, 488, 489, 490, 491, 492, 493, 494, 495, 496, 497, 498, 499, 500, 501, 502, 520, 567, 568, 569, 570, 571, 572, 573, 574, 575, 576, 577, 578, 579, 580, 581, 582, 583, 584, 600, 648, 649, 650, 651, 652, 653, 654, 655, 656, 657, 658, 659, 660, 661, 662, 663, 664, 665, 666, 680, 729, 730, 731, 732, 733, 734, 735, 736, 737, 738, 739, 740, 741, 742, 743, 744, 745, 746, 747, 748, 760, 810, 811, 812, 813, 814, 815, 816, 817, 818, 819, 820, 821, 822, 823, 824, 825, 826, 827, 828, 829, 840, 891, 892, 893, 894, 895, 896, 897, 898, 899, 900, 901, 902, 903, 904, 905, 906, 907, 908, 909, 910, 911, 920, 972, 973, 974, 975, 976, 977, 978, 979, 980, 981, 982, 983, 984, 985, 986, 987, 988, 989, 990, 991, 992, 993, 1000, 1053, 1054, 1055, 1056, 1057, 1058, 1059, 1060, 1061, 1062, 1063, 1064, 1065, 1066, 1067, 1068, 1069, 1070, 1071, 1072, 1073, 1074, 1075, 1080, 1135, 1136, 1137, 1138, 1139, 1140, 1141, 1142, 1143, 1144, 1145, 1146, 1147, 1148, 1149, 1150, 1151, 1152, 1153, 1154, 1155, 1156, 1160, 1217, 1218, 1219, 1220, 1221, 1222, 1223, 1224, 1225, 1226, 1227, 1228, 1229, 1230, 1231, 1232, 1233, 1234, 1235, 1236, 1237, 1238, 1240, 1300, 1301, 1302, 1303, 1304, 1305, 1306, 1307, 1308, 1309, 1310, 1311, 1312, 1313, 1314, 1315, 1316, 1317, 1318, 1319, 1320, 1382, 1383, 1384, 1385, 1386, 1387, 1388, 1389, 1390, 1391, 1392, 1393, 1394, 1395, 1396, 1397, 1398, 1399, 1400, 1401, 1465, 1466, 1467, 1468, 1469, 1470, 1471, 1472, 1473, 1474, 1475, 1476, 1477, 1478, 1479, 1480, 1481, 1482, 1483, 1547, 1548, 1549, 1550, 1551, 1552, 1553, 1554, 1555, 1556, 1557, 1558, 1559, 1560, 1561, 1562, 1563, 1564, 1565, 1629, 1630, 1631, 1632, 1633, 1634, 1635, 1636, 1637, 1638, 1639, 1640, 1641, 1642, 1643, 1644, 1645, 1646, 1647, 1700, 1712, 1713, 1714, 1715, 1716, 1717, 1718, 1719, 1720, 1721, 1722, 1723, 1724, 1725, 1726, 1727, 1728, 1780, 1794, 1795, 1796, 1797, 1798, 1799, 1800, 1801, 1802, 1803, 1804, 1805, 1806, 1807, 1808, 1809, 1810, 1860, 1877, 1878, 1879, 1880, 1881, 1882, 1883, 1884, 1885, 1886, 1887, 1888, 1889, 1890, 1891, 1892, 1940, 1959, 1960, 1961, 1962, 1963, 1964, 1965, 1966, 1967, 1968, 1969, 1970, 1971, 1972, 1973, 1974, 2020, 2040, 2041, 2042, 2043, 2044, 2045, 2046, 2047, 2048, 2049, 2050, 2051, 2052, 2053, 2054, 2055, 2100, 2120, 2124, 2125, 2126, 2127, 2128, 2129, 2130, 2131, 2132, 2133, 2134, 2135, 2136, 2137, 2180, 2200, 2206, 2207, 2208, 2209, 2210, 2211, 2212, 2213, 2214, 2215, 2216, 2217, 2218, 2219, 2260, 2280, 2289, 2290, 2291, 2292, 2293, 2294, 2295, 2296, 2297, 2298, 2299, 2300, 2340, 2360, 2371, 2372, 2373, 2374, 2375, 2376, 2377, 2378, 2379, 2380, 2381, 2382, 2420, 2440, 2454, 2455, 2456, 2457, 2458, 2459, 2460, 2461, 2462, 2463, 2464, 2500, 2520, 2536, 2537, 2538, 2539, 2540, 2541, 2542, 2543, 2544, 2545, 2546, 2580, 2600, 2618, 2619, 2620, 2621, 2622, 2623, 2624, 2625, 2626, 2627, 2660, 2680, 2701, 2702, 2703, 2704, 2705, 2706, 2707, 2708, 2709, 2740, 2760, 2783, 2784, 2785, 2786, 2787, 2788, 2789, 2790, 2791, 2820, 2840, 2866, 2867, 2868, 2869, 2870, 2871, 2872, 2873, 2900, 2920, 2948, 2949, 2950, 2951, 2952, 2953, 2954, 2980, 3000, 3030, 3031, 3032, 3033, 3034, 3035, 3036, 3060, 3080, 3113, 3114, 3115, 3116, 3117, 3118, 3140, 3160, 3195, 3196, 3197, 3198, 3199, 3200, 3220, 3240, 3278, 3279, 3280, 3281, 3300, 3360, 3361, 3362, 3363, 3380, 3443, 3444, 3445, 3460, 3525, 3526, 3540, 3607, 3608, 3620, 3690, 3700, 3772, 3780, 3854, 3860, 3936, 3940, 4018, 4019, 4020, 4099, 4100, 4101, 4180, 4181, 4182, 4183, 4260, 4263, 4264, 4265, 4266, 4340, 4345, 4346, 4347, 4348, 4420, 4427, 4428, 4429, 4430, 4431, 4500, 4508, 4509, 4510, 4511, 4512, 4513, 4580, 4590, 4591, 4592, 4593, 4594, 4595, 4660, 4672, 4673, 4674, 4675, 4676, 4677, 4678, 4740, 4753, 4754, 4755, 4756, 4757, 4758, 4759, 4760, 4820, 4835, 4836, 4837, 4838, 4839, 4840, 4841, 4842, 4843, 4900, 4917, 4918, 4919, 4920, 4921, 4922, 4923, 4924, 4925, 4980, 4999, 5000, 5001, 5002, 5003, 5004, 5005, 5006, 5007, 5060, 5080, 5081, 5082, 5083, 5084, 5085, 5086, 5087, 5088, 5089, 5090, 5140, 5162, 5163, 5164, 5165, 5166, 5167, 5168, 5169, 5170, 5171, 5172, 5220, 5244, 5245, 5246, 5247, 5248, 5249, 5250, 5251, 5252, 5253, 5254, 5255, 5300, 5326, 5327, 5328, 5329, 5330, 5331, 5332, 5333, 5334, 5335, 5336, 5337, 5380, 5407, 5408, 5409, 5410, 5411, 5412, 5413, 5414, 5415, 5416, 5417, 5418, 5419, 5420, 5460, 5489, 5490, 5491, 5492, 5493, 5494, 5495, 5496, 5497, 5498, 5499, 5500, 5501, 5502, 5540, 5571, 5572, 5573, 5574, 5575, 5576, 5577, 5578, 5579, 5580, 5581, 5582, 5583, 5584, 5620, 5653, 5654, 5655, 5656, 5657, 5658, 5659, 5660, 5661, 5662, 5663, 5664, 5665, 5666, 5667, 5700, 5734, 5735, 5736, 5737, 5738, 5739, 5740, 5741, 5742, 5743, 5744, 5745, 5746, 5747, 5748, 5749, 5780, 5816, 5817, 5818, 5819, 5820, 5821, 5822, 5823, 5824, 5825, 5826, 5827, 5828, 5829, 5830, 5831, 5860, 5898, 5899, 5900, 5901, 5902, 5903, 5904, 5905, 5906, 5907, 5908, 5909, 5910, 5911, 5912, 5940, 5979, 5980, 5981, 5982, 5983, 5984, 5985, 5986, 5987, 5988, 5989, 5990, 5991, 5992, 5993, 6020, 6061, 6062, 6063, 6064, 6065, 6066, 6067, 6068, 6069, 6070, 6071, 6072, 6073, 6074, 6100, 6143, 6144, 6145, 6146, 6147, 6148, 6149, 6150, 6151, 6152, 6153, 6154, 6155, 6180, 6225, 6226, 6227, 6228, 6229, 6230, 6231, 6232, 6233, 6234, 6235, 6236, 6260, 6306, 6307, 6308, 6309, 6310, 6311, 6312, 6313, 6314, 6315, 6316, 6317, 6340, 6388, 6389, 6390, 6391, 6392, 6393, 6394, 6395, 6396, 6397, 6398, 6420, 6470, 6471, 6472, 6473, 6474, 6475, 6476, 6477, 6478, 6479, 6500, 6552, 6553, 6554, 6555, 6556, 6557, 6558, 6559, 6560]\n",
      "CPU times: user 160 ms, sys: 20 ms, total: 180 ms\n",
      "Wall time: 179 ms\n"
     ]
    }
   ],
   "source": [
    "%%time\n",
    "n_total = len(simulation.dataframe)\n",
    "n_train = len(simulation.dataframe[simulation.dataframe.type_of == \"train\"])\n",
    "n_val = len(simulation.dataframe[simulation.dataframe.type_of == \"val\"])\n",
    "n_test = len(simulation.dataframe[simulation.dataframe.type_of == \"test\"])\n",
    "n_train_hamiltonians = len(simulation.train_ids)\n",
    "n_val_hamiltonians = len(simulation.val_ids)\n",
    "n_test_hamiltonians = len(simulation.test_ids)\n",
    "n_total_hamiltonians = n_train_hamiltonians + n_val_hamiltonians + n_test_hamiltonians\n",
    "\n",
    "print(\"% train: \", n_train/n_total)\n",
    "print(\"% val: \",  n_val/n_total)\n",
    "print(\"% test: \", n_test/n_total)\n",
    "print(\"% train + val + test: \", (n_train+n_val+n_test)/n_total)\n",
    "print(\"\\n\")\n",
    "print(\"number of train hamiltonians: \", n_train_hamiltonians)\n",
    "print(\"number of val hamiltonians: \", n_val_hamiltonians)\n",
    "print(\"number of test hamiltonians: \", n_test_hamiltonians)\n",
    "print(\"total number of hamiltonians: \", n_total_hamiltonians)\n",
    "print(\"\\n\")\n",
    "print(\"train ids: \", simulation.train_ids)\n",
    "print(\"val ids: \", simulation.val_ids)\n",
    "print(\"test ids: \", simulation.test_ids)"
   ]
  },
  {
   "cell_type": "markdown",
   "metadata": {
    "papermill": {
     "duration": 0.828254,
     "end_time": "2020-07-09T19:48:31.181526",
     "exception": false,
     "start_time": "2020-07-09T19:48:30.353272",
     "status": "completed"
    },
    "tags": []
   },
   "source": [
    "#### Checking summaries"
   ]
  },
  {
   "cell_type": "code",
   "execution_count": 27,
   "metadata": {
    "execution": {
     "iopub.execute_input": "2020-07-09T19:48:31.294680Z",
     "iopub.status.busy": "2020-07-09T19:48:31.294360Z",
     "iopub.status.idle": "2020-07-09T19:48:31.314705Z",
     "shell.execute_reply": "2020-07-09T19:48:31.314387Z"
    },
    "papermill": {
     "duration": 0.058748,
     "end_time": "2020-07-09T19:48:31.314755",
     "exception": false,
     "start_time": "2020-07-09T19:48:31.256007",
     "status": "completed"
    },
    "tags": []
   },
   "outputs": [
    {
     "name": "stdout",
     "output_type": "stream",
     "text": [
      "length of ham_summary:  6561\n",
      "CPU times: user 88 µs, sys: 1 µs, total: 89 µs\n",
      "Wall time: 58.9 µs\n"
     ]
    },
    {
     "data": {
      "text/html": [
       "<div>\n",
       "<style scoped>\n",
       "    .dataframe tbody tr th:only-of-type {\n",
       "        vertical-align: middle;\n",
       "    }\n",
       "\n",
       "    .dataframe tbody tr th {\n",
       "        vertical-align: top;\n",
       "    }\n",
       "\n",
       "    .dataframe thead th {\n",
       "        text-align: right;\n",
       "    }\n",
       "</style>\n",
       "<table border=\"1\" class=\"dataframe\">\n",
       "  <thead>\n",
       "    <tr style=\"text-align: right;\">\n",
       "      <th></th>\n",
       "      <th>t1</th>\n",
       "      <th>t2</th>\n",
       "      <th>type_of</th>\n",
       "      <th>-1</th>\n",
       "      <th>0</th>\n",
       "      <th>1</th>\n",
       "      <th>2</th>\n",
       "      <th>phase</th>\n",
       "      <th>pred_phase</th>\n",
       "    </tr>\n",
       "    <tr>\n",
       "      <th>id</th>\n",
       "      <th></th>\n",
       "      <th></th>\n",
       "      <th></th>\n",
       "      <th></th>\n",
       "      <th></th>\n",
       "      <th></th>\n",
       "      <th></th>\n",
       "      <th></th>\n",
       "      <th></th>\n",
       "    </tr>\n",
       "  </thead>\n",
       "  <tbody>\n",
       "    <tr>\n",
       "      <th>0</th>\n",
       "      <td>-2.0</td>\n",
       "      <td>-2.00</td>\n",
       "      <td>test</td>\n",
       "      <td>0.21</td>\n",
       "      <td>0.57</td>\n",
       "      <td>0.14</td>\n",
       "      <td>0.08</td>\n",
       "      <td>999</td>\n",
       "      <td>0</td>\n",
       "    </tr>\n",
       "    <tr>\n",
       "      <th>1</th>\n",
       "      <td>-2.0</td>\n",
       "      <td>-1.95</td>\n",
       "      <td>test</td>\n",
       "      <td>0.22</td>\n",
       "      <td>0.52</td>\n",
       "      <td>0.16</td>\n",
       "      <td>0.10</td>\n",
       "      <td>-1</td>\n",
       "      <td>0</td>\n",
       "    </tr>\n",
       "    <tr>\n",
       "      <th>2</th>\n",
       "      <td>-2.0</td>\n",
       "      <td>-1.90</td>\n",
       "      <td>test</td>\n",
       "      <td>0.22</td>\n",
       "      <td>0.50</td>\n",
       "      <td>0.18</td>\n",
       "      <td>0.10</td>\n",
       "      <td>-1</td>\n",
       "      <td>0</td>\n",
       "    </tr>\n",
       "    <tr>\n",
       "      <th>3</th>\n",
       "      <td>-2.0</td>\n",
       "      <td>-1.85</td>\n",
       "      <td>test</td>\n",
       "      <td>0.31</td>\n",
       "      <td>0.42</td>\n",
       "      <td>0.19</td>\n",
       "      <td>0.08</td>\n",
       "      <td>-1</td>\n",
       "      <td>0</td>\n",
       "    </tr>\n",
       "    <tr>\n",
       "      <th>4</th>\n",
       "      <td>-2.0</td>\n",
       "      <td>-1.80</td>\n",
       "      <td>test</td>\n",
       "      <td>0.27</td>\n",
       "      <td>0.46</td>\n",
       "      <td>0.21</td>\n",
       "      <td>0.06</td>\n",
       "      <td>-1</td>\n",
       "      <td>0</td>\n",
       "    </tr>\n",
       "    <tr>\n",
       "      <th>...</th>\n",
       "      <td>...</td>\n",
       "      <td>...</td>\n",
       "      <td>...</td>\n",
       "      <td>...</td>\n",
       "      <td>...</td>\n",
       "      <td>...</td>\n",
       "      <td>...</td>\n",
       "      <td>...</td>\n",
       "      <td>...</td>\n",
       "    </tr>\n",
       "    <tr>\n",
       "      <th>6556</th>\n",
       "      <td>2.0</td>\n",
       "      <td>1.80</td>\n",
       "      <td>test</td>\n",
       "      <td>0.46</td>\n",
       "      <td>0.21</td>\n",
       "      <td>0.04</td>\n",
       "      <td>0.29</td>\n",
       "      <td>-1</td>\n",
       "      <td>-1</td>\n",
       "    </tr>\n",
       "    <tr>\n",
       "      <th>6557</th>\n",
       "      <td>2.0</td>\n",
       "      <td>1.85</td>\n",
       "      <td>test</td>\n",
       "      <td>0.42</td>\n",
       "      <td>0.18</td>\n",
       "      <td>0.05</td>\n",
       "      <td>0.35</td>\n",
       "      <td>-1</td>\n",
       "      <td>-1</td>\n",
       "    </tr>\n",
       "    <tr>\n",
       "      <th>6558</th>\n",
       "      <td>2.0</td>\n",
       "      <td>1.90</td>\n",
       "      <td>test</td>\n",
       "      <td>0.43</td>\n",
       "      <td>0.17</td>\n",
       "      <td>0.05</td>\n",
       "      <td>0.35</td>\n",
       "      <td>-1</td>\n",
       "      <td>-1</td>\n",
       "    </tr>\n",
       "    <tr>\n",
       "      <th>6559</th>\n",
       "      <td>2.0</td>\n",
       "      <td>1.95</td>\n",
       "      <td>test</td>\n",
       "      <td>0.38</td>\n",
       "      <td>0.18</td>\n",
       "      <td>0.07</td>\n",
       "      <td>0.37</td>\n",
       "      <td>-1</td>\n",
       "      <td>-1</td>\n",
       "    </tr>\n",
       "    <tr>\n",
       "      <th>6560</th>\n",
       "      <td>2.0</td>\n",
       "      <td>2.00</td>\n",
       "      <td>test</td>\n",
       "      <td>0.38</td>\n",
       "      <td>0.23</td>\n",
       "      <td>0.06</td>\n",
       "      <td>0.33</td>\n",
       "      <td>999</td>\n",
       "      <td>-1</td>\n",
       "    </tr>\n",
       "  </tbody>\n",
       "</table>\n",
       "<p>6561 rows × 9 columns</p>\n",
       "</div>"
      ],
      "text/plain": [
       "       t1    t2 type_of    -1     0     1     2  phase  pred_phase\n",
       "id                                                                \n",
       "0    -2.0 -2.00    test  0.21  0.57  0.14  0.08    999           0\n",
       "1    -2.0 -1.95    test  0.22  0.52  0.16  0.10     -1           0\n",
       "2    -2.0 -1.90    test  0.22  0.50  0.18  0.10     -1           0\n",
       "3    -2.0 -1.85    test  0.31  0.42  0.19  0.08     -1           0\n",
       "4    -2.0 -1.80    test  0.27  0.46  0.21  0.06     -1           0\n",
       "...   ...   ...     ...   ...   ...   ...   ...    ...         ...\n",
       "6556  2.0  1.80    test  0.46  0.21  0.04  0.29     -1          -1\n",
       "6557  2.0  1.85    test  0.42  0.18  0.05  0.35     -1          -1\n",
       "6558  2.0  1.90    test  0.43  0.17  0.05  0.35     -1          -1\n",
       "6559  2.0  1.95    test  0.38  0.18  0.07  0.37     -1          -1\n",
       "6560  2.0  2.00    test  0.38  0.23  0.06  0.33    999          -1\n",
       "\n",
       "[6561 rows x 9 columns]"
      ]
     },
     "execution_count": 27,
     "metadata": {},
     "output_type": "execute_result"
    }
   ],
   "source": [
    "%%time\n",
    "ham_summary = simulation.hamiltonian_summary\n",
    "print(\"length of ham_summary: \", len(ham_summary))\n",
    "ham_summary"
   ]
  },
  {
   "cell_type": "code",
   "execution_count": 28,
   "metadata": {
    "execution": {
     "iopub.execute_input": "2020-07-09T19:48:31.388755Z",
     "iopub.status.busy": "2020-07-09T19:48:31.388407Z",
     "iopub.status.idle": "2020-07-09T19:48:31.420592Z",
     "shell.execute_reply": "2020-07-09T19:48:31.420262Z"
    },
    "papermill": {
     "duration": 0.070078,
     "end_time": "2020-07-09T19:48:31.420643",
     "exception": false,
     "start_time": "2020-07-09T19:48:31.350565",
     "status": "completed"
    },
    "tags": []
   },
   "outputs": [
    {
     "data": {
      "text/html": [
       "<div>\n",
       "<style scoped>\n",
       "    .dataframe tbody tr th:only-of-type {\n",
       "        vertical-align: middle;\n",
       "    }\n",
       "\n",
       "    .dataframe tbody tr th {\n",
       "        vertical-align: top;\n",
       "    }\n",
       "\n",
       "    .dataframe thead th {\n",
       "        text-align: right;\n",
       "    }\n",
       "</style>\n",
       "<table border=\"1\" class=\"dataframe\">\n",
       "  <thead>\n",
       "    <tr style=\"text-align: right;\">\n",
       "      <th></th>\n",
       "      <th>t1</th>\n",
       "      <th>t2</th>\n",
       "      <th>-1</th>\n",
       "      <th>0</th>\n",
       "      <th>1</th>\n",
       "      <th>2</th>\n",
       "      <th>phase</th>\n",
       "      <th>pred_phase</th>\n",
       "    </tr>\n",
       "  </thead>\n",
       "  <tbody>\n",
       "    <tr>\n",
       "      <th>count</th>\n",
       "      <td>6561.000000</td>\n",
       "      <td>6.561000e+03</td>\n",
       "      <td>6561.000000</td>\n",
       "      <td>6561.000000</td>\n",
       "      <td>6561.000000</td>\n",
       "      <td>6561.00000</td>\n",
       "      <td>6561.000000</td>\n",
       "      <td>6561.000000</td>\n",
       "    </tr>\n",
       "    <tr>\n",
       "      <th>mean</th>\n",
       "      <td>0.000000</td>\n",
       "      <td>-4.331917e-18</td>\n",
       "      <td>0.194960</td>\n",
       "      <td>0.317013</td>\n",
       "      <td>0.307228</td>\n",
       "      <td>0.18080</td>\n",
       "      <td>28.045877</td>\n",
       "      <td>0.473251</td>\n",
       "    </tr>\n",
       "    <tr>\n",
       "      <th>std</th>\n",
       "      <td>1.169134</td>\n",
       "      <td>1.169134e+00</td>\n",
       "      <td>0.357321</td>\n",
       "      <td>0.431288</td>\n",
       "      <td>0.433519</td>\n",
       "      <td>0.35355</td>\n",
       "      <td>163.557011</td>\n",
       "      <td>1.019143</td>\n",
       "    </tr>\n",
       "    <tr>\n",
       "      <th>min</th>\n",
       "      <td>-2.000000</td>\n",
       "      <td>-2.000000e+00</td>\n",
       "      <td>0.000000</td>\n",
       "      <td>0.000000</td>\n",
       "      <td>0.000000</td>\n",
       "      <td>0.00000</td>\n",
       "      <td>-1.000000</td>\n",
       "      <td>-1.000000</td>\n",
       "    </tr>\n",
       "    <tr>\n",
       "      <th>25%</th>\n",
       "      <td>-1.000000</td>\n",
       "      <td>-1.000000e+00</td>\n",
       "      <td>0.000000</td>\n",
       "      <td>0.000000</td>\n",
       "      <td>0.000000</td>\n",
       "      <td>0.00000</td>\n",
       "      <td>0.000000</td>\n",
       "      <td>0.000000</td>\n",
       "    </tr>\n",
       "    <tr>\n",
       "      <th>50%</th>\n",
       "      <td>0.000000</td>\n",
       "      <td>0.000000e+00</td>\n",
       "      <td>0.000000</td>\n",
       "      <td>0.020000</td>\n",
       "      <td>0.010000</td>\n",
       "      <td>0.00000</td>\n",
       "      <td>1.000000</td>\n",
       "      <td>0.000000</td>\n",
       "    </tr>\n",
       "    <tr>\n",
       "      <th>75%</th>\n",
       "      <td>1.000000</td>\n",
       "      <td>1.000000e+00</td>\n",
       "      <td>0.150000</td>\n",
       "      <td>0.970000</td>\n",
       "      <td>0.960000</td>\n",
       "      <td>0.06000</td>\n",
       "      <td>1.000000</td>\n",
       "      <td>1.000000</td>\n",
       "    </tr>\n",
       "    <tr>\n",
       "      <th>max</th>\n",
       "      <td>2.000000</td>\n",
       "      <td>2.000000e+00</td>\n",
       "      <td>1.000000</td>\n",
       "      <td>1.000000</td>\n",
       "      <td>1.000000</td>\n",
       "      <td>1.00000</td>\n",
       "      <td>999.000000</td>\n",
       "      <td>2.000000</td>\n",
       "    </tr>\n",
       "  </tbody>\n",
       "</table>\n",
       "</div>"
      ],
      "text/plain": [
       "                t1            t2           -1            0            1  \\\n",
       "count  6561.000000  6.561000e+03  6561.000000  6561.000000  6561.000000   \n",
       "mean      0.000000 -4.331917e-18     0.194960     0.317013     0.307228   \n",
       "std       1.169134  1.169134e+00     0.357321     0.431288     0.433519   \n",
       "min      -2.000000 -2.000000e+00     0.000000     0.000000     0.000000   \n",
       "25%      -1.000000 -1.000000e+00     0.000000     0.000000     0.000000   \n",
       "50%       0.000000  0.000000e+00     0.000000     0.020000     0.010000   \n",
       "75%       1.000000  1.000000e+00     0.150000     0.970000     0.960000   \n",
       "max       2.000000  2.000000e+00     1.000000     1.000000     1.000000   \n",
       "\n",
       "                2        phase   pred_phase  \n",
       "count  6561.00000  6561.000000  6561.000000  \n",
       "mean      0.18080    28.045877     0.473251  \n",
       "std       0.35355   163.557011     1.019143  \n",
       "min       0.00000    -1.000000    -1.000000  \n",
       "25%       0.00000     0.000000     0.000000  \n",
       "50%       0.00000     1.000000     0.000000  \n",
       "75%       0.06000     1.000000     1.000000  \n",
       "max       1.00000   999.000000     2.000000  "
      ]
     },
     "execution_count": 28,
     "metadata": {},
     "output_type": "execute_result"
    }
   ],
   "source": [
    "ham_summary.describe()"
   ]
  },
  {
   "cell_type": "code",
   "execution_count": 29,
   "metadata": {
    "execution": {
     "iopub.execute_input": "2020-07-09T19:48:31.495750Z",
     "iopub.status.busy": "2020-07-09T19:48:31.495440Z",
     "iopub.status.idle": "2020-07-09T19:48:31.510149Z",
     "shell.execute_reply": "2020-07-09T19:48:31.509788Z"
    },
    "papermill": {
     "duration": 0.052897,
     "end_time": "2020-07-09T19:48:31.510205",
     "exception": false,
     "start_time": "2020-07-09T19:48:31.457308",
     "status": "completed"
    },
    "tags": []
   },
   "outputs": [
    {
     "name": "stdout",
     "output_type": "stream",
     "text": [
      "length of ham_summary:  656100\n"
     ]
    },
    {
     "data": {
      "text/html": [
       "<div>\n",
       "<style scoped>\n",
       "    .dataframe tbody tr th:only-of-type {\n",
       "        vertical-align: middle;\n",
       "    }\n",
       "\n",
       "    .dataframe tbody tr th {\n",
       "        vertical-align: top;\n",
       "    }\n",
       "\n",
       "    .dataframe thead th {\n",
       "        text-align: right;\n",
       "    }\n",
       "</style>\n",
       "<table border=\"1\" class=\"dataframe\">\n",
       "  <thead>\n",
       "    <tr style=\"text-align: right;\">\n",
       "      <th></th>\n",
       "      <th>id</th>\n",
       "      <th>phase</th>\n",
       "      <th>pred_phase</th>\n",
       "      <th>type_of</th>\n",
       "    </tr>\n",
       "  </thead>\n",
       "  <tbody>\n",
       "    <tr>\n",
       "      <th>0</th>\n",
       "      <td>0</td>\n",
       "      <td>999</td>\n",
       "      <td>0</td>\n",
       "      <td>test</td>\n",
       "    </tr>\n",
       "    <tr>\n",
       "      <th>1</th>\n",
       "      <td>0</td>\n",
       "      <td>999</td>\n",
       "      <td>-1</td>\n",
       "      <td>test</td>\n",
       "    </tr>\n",
       "    <tr>\n",
       "      <th>2</th>\n",
       "      <td>0</td>\n",
       "      <td>999</td>\n",
       "      <td>-1</td>\n",
       "      <td>test</td>\n",
       "    </tr>\n",
       "    <tr>\n",
       "      <th>3</th>\n",
       "      <td>0</td>\n",
       "      <td>999</td>\n",
       "      <td>1</td>\n",
       "      <td>test</td>\n",
       "    </tr>\n",
       "    <tr>\n",
       "      <th>4</th>\n",
       "      <td>0</td>\n",
       "      <td>999</td>\n",
       "      <td>2</td>\n",
       "      <td>test</td>\n",
       "    </tr>\n",
       "    <tr>\n",
       "      <th>...</th>\n",
       "      <td>...</td>\n",
       "      <td>...</td>\n",
       "      <td>...</td>\n",
       "      <td>...</td>\n",
       "    </tr>\n",
       "    <tr>\n",
       "      <th>656095</th>\n",
       "      <td>6560</td>\n",
       "      <td>999</td>\n",
       "      <td>2</td>\n",
       "      <td>test</td>\n",
       "    </tr>\n",
       "    <tr>\n",
       "      <th>656096</th>\n",
       "      <td>6560</td>\n",
       "      <td>999</td>\n",
       "      <td>-1</td>\n",
       "      <td>test</td>\n",
       "    </tr>\n",
       "    <tr>\n",
       "      <th>656097</th>\n",
       "      <td>6560</td>\n",
       "      <td>999</td>\n",
       "      <td>0</td>\n",
       "      <td>test</td>\n",
       "    </tr>\n",
       "    <tr>\n",
       "      <th>656098</th>\n",
       "      <td>6560</td>\n",
       "      <td>999</td>\n",
       "      <td>1</td>\n",
       "      <td>test</td>\n",
       "    </tr>\n",
       "    <tr>\n",
       "      <th>656099</th>\n",
       "      <td>6560</td>\n",
       "      <td>999</td>\n",
       "      <td>1</td>\n",
       "      <td>test</td>\n",
       "    </tr>\n",
       "  </tbody>\n",
       "</table>\n",
       "<p>656100 rows × 4 columns</p>\n",
       "</div>"
      ],
      "text/plain": [
       "          id  phase  pred_phase type_of\n",
       "0          0    999           0    test\n",
       "1          0    999          -1    test\n",
       "2          0    999          -1    test\n",
       "3          0    999           1    test\n",
       "4          0    999           2    test\n",
       "...      ...    ...         ...     ...\n",
       "656095  6560    999           2    test\n",
       "656096  6560    999          -1    test\n",
       "656097  6560    999           0    test\n",
       "656098  6560    999           1    test\n",
       "656099  6560    999           1    test\n",
       "\n",
       "[656100 rows x 4 columns]"
      ]
     },
     "execution_count": 29,
     "metadata": {},
     "output_type": "execute_result"
    }
   ],
   "source": [
    "eigen_summary = simulation.eigenvector_summary\n",
    "print(\"length of ham_summary: \", len(eigen_summary))\n",
    "eigen_summary"
   ]
  },
  {
   "cell_type": "markdown",
   "metadata": {
    "papermill": {
     "duration": 0.036911,
     "end_time": "2020-07-09T19:48:31.583359",
     "exception": false,
     "start_time": "2020-07-09T19:48:31.546448",
     "status": "completed"
    },
    "tags": []
   },
   "source": [
    "#### Checking accuracies"
   ]
  },
  {
   "cell_type": "code",
   "execution_count": 30,
   "metadata": {
    "execution": {
     "iopub.execute_input": "2020-07-09T19:48:31.660562Z",
     "iopub.status.busy": "2020-07-09T19:48:31.660225Z",
     "iopub.status.idle": "2020-07-09T19:48:31.670491Z",
     "shell.execute_reply": "2020-07-09T19:48:31.670795Z"
    },
    "papermill": {
     "duration": 0.050459,
     "end_time": "2020-07-09T19:48:31.670859",
     "exception": false,
     "start_time": "2020-07-09T19:48:31.620400",
     "status": "completed"
    },
    "tags": []
   },
   "outputs": [
    {
     "data": {
      "text/plain": [
       "{'eigenvector_train': 0.9995834842448388,\n",
       " 'eigenvector_val': 0.9605,\n",
       " 'eigenvector_test': 0.6143422584400465,\n",
       " 'hamiltonian_train': 1.0,\n",
       " 'hamiltonian_val': 0.9981884057971014,\n",
       " 'hamiltonian_test': 0.8731082654249127}"
      ]
     },
     "execution_count": 30,
     "metadata": {},
     "output_type": "execute_result"
    }
   ],
   "source": [
    "simulation.accuracy"
   ]
  },
  {
   "cell_type": "markdown",
   "metadata": {
    "papermill": {
     "duration": 0.036958,
     "end_time": "2020-07-09T19:48:31.744578",
     "exception": false,
     "start_time": "2020-07-09T19:48:31.707620",
     "status": "completed"
    },
    "tags": []
   },
   "source": [
    "#### Checking data stored in  memory"
   ]
  },
  {
   "cell_type": "code",
   "execution_count": 31,
   "metadata": {
    "execution": {
     "iopub.execute_input": "2020-07-09T19:48:31.821630Z",
     "iopub.status.busy": "2020-07-09T19:48:31.821322Z",
     "iopub.status.idle": "2020-07-09T19:48:31.831602Z",
     "shell.execute_reply": "2020-07-09T19:48:31.831906Z"
    },
    "papermill": {
     "duration": 0.049734,
     "end_time": "2020-07-09T19:48:31.831971",
     "exception": false,
     "start_time": "2020-07-09T19:48:31.782237",
     "status": "completed"
    },
    "tags": []
   },
   "outputs": [
    {
     "data": {
      "text/plain": [
       "[]"
      ]
     },
     "execution_count": 31,
     "metadata": {},
     "output_type": "execute_result"
    }
   ],
   "source": [
    "ham_summary_list = simulation.hamiltonian_summary_list\n",
    "ham_summary_list"
   ]
  },
  {
   "cell_type": "code",
   "execution_count": 32,
   "metadata": {
    "execution": {
     "iopub.execute_input": "2020-07-09T19:48:31.907544Z",
     "iopub.status.busy": "2020-07-09T19:48:31.907237Z",
     "iopub.status.idle": "2020-07-09T19:48:31.917723Z",
     "shell.execute_reply": "2020-07-09T19:48:31.917407Z"
    },
    "papermill": {
     "duration": 0.048972,
     "end_time": "2020-07-09T19:48:31.917774",
     "exception": false,
     "start_time": "2020-07-09T19:48:31.868802",
     "status": "completed"
    },
    "tags": []
   },
   "outputs": [
    {
     "data": {
      "text/plain": [
       "[]"
      ]
     },
     "execution_count": 32,
     "metadata": {},
     "output_type": "execute_result"
    }
   ],
   "source": [
    "eigen_summary_list = simulation.eigenvector_summary_list\n",
    "eigen_summary_list"
   ]
  },
  {
   "cell_type": "code",
   "execution_count": 33,
   "metadata": {
    "execution": {
     "iopub.execute_input": "2020-07-09T19:48:31.995538Z",
     "iopub.status.busy": "2020-07-09T19:48:31.995214Z",
     "iopub.status.idle": "2020-07-09T19:48:32.005639Z",
     "shell.execute_reply": "2020-07-09T19:48:32.005323Z"
    },
    "papermill": {
     "duration": 0.050078,
     "end_time": "2020-07-09T19:48:32.005689",
     "exception": false,
     "start_time": "2020-07-09T19:48:31.955611",
     "status": "completed"
    },
    "tags": []
   },
   "outputs": [
    {
     "data": {
      "text/plain": [
       "{'eigenvector_train': [],\n",
       " 'eigenvector_val': [],\n",
       " 'eigenvector_test': [],\n",
       " 'hamiltonian_train': [],\n",
       " 'hamiltonian_val': [],\n",
       " 'hamiltonian_test': []}"
      ]
     },
     "execution_count": 33,
     "metadata": {},
     "output_type": "execute_result"
    }
   ],
   "source": [
    "accuracy_list = simulation.accuracy_list\n",
    "accuracy_list"
   ]
  },
  {
   "cell_type": "code",
   "execution_count": null,
   "metadata": {
    "papermill": {
     "duration": 0.037478,
     "end_time": "2020-07-09T19:48:32.080372",
     "exception": false,
     "start_time": "2020-07-09T19:48:32.042894",
     "status": "completed"
    },
    "tags": []
   },
   "outputs": [],
   "source": []
  },
  {
   "cell_type": "code",
   "execution_count": null,
   "metadata": {
    "papermill": {
     "duration": 0.038068,
     "end_time": "2020-07-09T19:48:32.156470",
     "exception": false,
     "start_time": "2020-07-09T19:48:32.118402",
     "status": "completed"
    },
    "tags": []
   },
   "outputs": [],
   "source": []
  },
  {
   "cell_type": "code",
   "execution_count": 34,
   "metadata": {
    "execution": {
     "iopub.execute_input": "2020-07-09T19:48:32.233962Z",
     "iopub.status.busy": "2020-07-09T19:48:32.233655Z",
     "iopub.status.idle": "2020-07-09T19:48:32.243200Z",
     "shell.execute_reply": "2020-07-09T19:48:32.243572Z"
    },
    "papermill": {
     "duration": 0.048861,
     "end_time": "2020-07-09T19:48:32.243641",
     "exception": false,
     "start_time": "2020-07-09T19:48:32.194780",
     "status": "completed"
    },
    "tags": []
   },
   "outputs": [],
   "source": [
    "#simulation.fourier_matrix"
   ]
  },
  {
   "cell_type": "code",
   "execution_count": 35,
   "metadata": {
    "execution": {
     "iopub.execute_input": "2020-07-09T19:48:32.321403Z",
     "iopub.status.busy": "2020-07-09T19:48:32.321096Z",
     "iopub.status.idle": "2020-07-09T19:48:32.331008Z",
     "shell.execute_reply": "2020-07-09T19:48:32.330665Z"
    },
    "papermill": {
     "duration": 0.049392,
     "end_time": "2020-07-09T19:48:32.331059",
     "exception": false,
     "start_time": "2020-07-09T19:48:32.281667",
     "status": "completed"
    },
    "tags": []
   },
   "outputs": [],
   "source": [
    "#simulation.fourier_matrix.shape"
   ]
  },
  {
   "cell_type": "code",
   "execution_count": 36,
   "metadata": {
    "execution": {
     "iopub.execute_input": "2020-07-09T19:48:32.407206Z",
     "iopub.status.busy": "2020-07-09T19:48:32.406901Z",
     "iopub.status.idle": "2020-07-09T19:48:32.416988Z",
     "shell.execute_reply": "2020-07-09T19:48:32.416646Z"
    },
    "papermill": {
     "duration": 0.049106,
     "end_time": "2020-07-09T19:48:32.417040",
     "exception": false,
     "start_time": "2020-07-09T19:48:32.367934",
     "status": "completed"
    },
    "tags": []
   },
   "outputs": [],
   "source": [
    "#simulation.fourier_matrix[:,0]"
   ]
  },
  {
   "cell_type": "code",
   "execution_count": 37,
   "metadata": {
    "execution": {
     "iopub.execute_input": "2020-07-09T19:48:32.495101Z",
     "iopub.status.busy": "2020-07-09T19:48:32.494776Z",
     "iopub.status.idle": "2020-07-09T19:48:32.504262Z",
     "shell.execute_reply": "2020-07-09T19:48:32.503935Z"
    },
    "papermill": {
     "duration": 0.049431,
     "end_time": "2020-07-09T19:48:32.504313",
     "exception": false,
     "start_time": "2020-07-09T19:48:32.454882",
     "status": "completed"
    },
    "tags": []
   },
   "outputs": [],
   "source": [
    "#simulation.fourier_matrix[:,1]"
   ]
  },
  {
   "cell_type": "code",
   "execution_count": 38,
   "metadata": {
    "execution": {
     "iopub.execute_input": "2020-07-09T19:48:32.626748Z",
     "iopub.status.busy": "2020-07-09T19:48:32.626402Z",
     "iopub.status.idle": "2020-07-09T19:48:32.636593Z",
     "shell.execute_reply": "2020-07-09T19:48:32.636297Z"
    },
    "papermill": {
     "duration": 0.095274,
     "end_time": "2020-07-09T19:48:32.636647",
     "exception": false,
     "start_time": "2020-07-09T19:48:32.541373",
     "status": "completed"
    },
    "tags": []
   },
   "outputs": [],
   "source": [
    "#np.exp(-1j*2*np.pi*3/100)"
   ]
  },
  {
   "cell_type": "code",
   "execution_count": 39,
   "metadata": {
    "execution": {
     "iopub.execute_input": "2020-07-09T19:48:32.714539Z",
     "iopub.status.busy": "2020-07-09T19:48:32.714228Z",
     "iopub.status.idle": "2020-07-09T19:48:32.723667Z",
     "shell.execute_reply": "2020-07-09T19:48:32.723925Z"
    },
    "papermill": {
     "duration": 0.049182,
     "end_time": "2020-07-09T19:48:32.723994",
     "exception": false,
     "start_time": "2020-07-09T19:48:32.674812",
     "status": "completed"
    },
    "tags": []
   },
   "outputs": [],
   "source": [
    "#for i in range(1,50):\n",
    "#    print(\"\\n\")\n",
    "#    print(i)\n",
    "#    print(np.sum((np.real(simulation.fourier_matrix[:,i]) - np.real(simulation.fourier_matrix[:,-i]))**2))\n",
    "#    print(np.sum((np.imag(simulation.fourier_matrix[:,i])+ np.imag(simulation.fourier_matrix[:,-i]))**2))"
   ]
  },
  {
   "cell_type": "code",
   "execution_count": 40,
   "metadata": {
    "execution": {
     "iopub.execute_input": "2020-07-09T19:48:32.800227Z",
     "iopub.status.busy": "2020-07-09T19:48:32.799922Z",
     "iopub.status.idle": "2020-07-09T19:48:32.816595Z",
     "shell.execute_reply": "2020-07-09T19:48:32.816249Z"
    },
    "papermill": {
     "duration": 0.055474,
     "end_time": "2020-07-09T19:48:32.816649",
     "exception": false,
     "start_time": "2020-07-09T19:48:32.761175",
     "status": "completed"
    },
    "tags": []
   },
   "outputs": [],
   "source": [
    "#print(simulation.fourier_matrix[:,0])"
   ]
  },
  {
   "cell_type": "code",
   "execution_count": 41,
   "metadata": {
    "execution": {
     "iopub.execute_input": "2020-07-09T19:48:32.894303Z",
     "iopub.status.busy": "2020-07-09T19:48:32.893987Z",
     "iopub.status.idle": "2020-07-09T19:48:32.937406Z",
     "shell.execute_reply": "2020-07-09T19:48:32.937006Z"
    },
    "papermill": {
     "duration": 0.082923,
     "end_time": "2020-07-09T19:48:32.937467",
     "exception": false,
     "start_time": "2020-07-09T19:48:32.854544",
     "status": "completed"
    },
    "tags": []
   },
   "outputs": [],
   "source": [
    "#print(simulation.fourier_matrix[:,50])"
   ]
  },
  {
   "cell_type": "code",
   "execution_count": null,
   "metadata": {
    "papermill": {
     "duration": 0.036934,
     "end_time": "2020-07-09T19:48:33.015049",
     "exception": false,
     "start_time": "2020-07-09T19:48:32.978115",
     "status": "completed"
    },
    "tags": []
   },
   "outputs": [],
   "source": []
  }
 ],
 "metadata": {
  "celltoolbar": "Tags",
  "kernelspec": {
   "display_name": "ml_top_phases",
   "language": "python",
   "name": "ml_top_phases"
  },
  "language_info": {
   "codemirror_mode": {
    "name": "ipython",
    "version": 3
   },
   "file_extension": ".py",
   "mimetype": "text/x-python",
   "name": "python",
   "nbconvert_exporter": "python",
   "pygments_lexer": "ipython3",
   "version": "3.6.10"
  },
  "papermill": {
   "duration": 1508.159937,
   "end_time": "2020-07-09T19:48:33.162606",
   "environment_variables": {},
   "exception": null,
   "input_path": "0_simulation_template.ipynb",
   "output_path": "zzz_simulation_output_ssh2_2nd_scenario_100_6561.ipynb",
   "parameters": {
    "allowed_windings": [
     -1,
     0,
     1,
     2
    ],
    "csv_path": "/home/rio/ssh_csvs/ssh2/periodic_100_6561.csv",
    "features_to_use": [
     0,
     1,
     2,
     3,
     4,
     5,
     6,
     7,
     46,
     48,
     49,
     50
    ],
    "fit_params": null,
    "fourier_features_to_use": null,
    "fourier_fillna": null,
    "fourier_mode": null,
    "fourier_normalize": null,
    "fourier_real": null,
    "model_kw": {
     "criterion": "entropy",
     "n_estimators": 25,
     "n_jobs": -1
    },
    "model_name": "RandomForestClassifier",
    "n_experiments": 100,
    "pred_params": null,
    "random_features": false,
    "random_state": 93474,
    "save_accuracy": true,
    "save_eigenvector": true,
    "save_hamiltonian": true,
    "save_models": true,
    "shuffle_features": false,
    "shuffle_rows": true,
    "simulation_dir": "/home/rio/ssh_simulations/ssh2/periodic_2nd_scenario_100_6561",
    "start_n": 0,
    "store_in_lists": false,
    "val_split": 0.5
   },
   "start_time": "2020-07-09T19:23:25.002669",
   "version": "2.1.0"
  }
 },
 "nbformat": 4,
 "nbformat_minor": 2
}