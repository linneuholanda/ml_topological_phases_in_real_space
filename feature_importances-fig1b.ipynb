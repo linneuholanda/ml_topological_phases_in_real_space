{
 "cells": [
  {
   "cell_type": "markdown",
   "metadata": {},
   "source": [
    "# Analyzing Feature importances"
   ]
  },
  {
   "cell_type": "code",
   "execution_count": null,
   "metadata": {},
   "outputs": [
    {
     "data": {
      "text/html": [
       "<script>Jupyter.notebook.kernel.restart()</script>"
      ],
      "text/plain": [
       "<IPython.core.display.HTML object>"
      ]
     },
     "execution_count": 4,
     "metadata": {},
     "output_type": "execute_result"
    }
   ],
   "source": [
    "from IPython.core.display import HTML\n",
    "HTML(\"<script>Jupyter.notebook.kernel.restart()</script>\")"
   ]
  },
  {
   "cell_type": "code",
   "execution_count": 1,
   "metadata": {},
   "outputs": [],
   "source": [
    "from prediction_grids3 import *"
   ]
  },
  {
   "cell_type": "markdown",
   "metadata": {},
   "source": [
    "#### Loading simulation data"
   ]
  },
  {
   "cell_type": "code",
   "execution_count": 2,
   "metadata": {},
   "outputs": [],
   "source": [
    "simulation_name = \"fig1b-6561-100\"\n",
    "n_experiments = None\n",
    "load_hamiltonian_summary = False\n",
    "simulation = Simulation(simulation_name, n_experiments, load_hamiltonian_summary)"
   ]
  },
  {
   "cell_type": "markdown",
   "metadata": {},
   "source": [
    "#### Computing Hamiltonian summary"
   ]
  },
  {
   "cell_type": "code",
   "execution_count": 3,
   "metadata": {},
   "outputs": [
    {
     "name": "stderr",
     "output_type": "stream",
     "text": [
      "mean hamiltonian summary: 100%|██████████| 100/100 [00:02<00:00, 48.57it/s]\n",
      "majority vote: 100%|██████████| 6561/6561 [00:00<00:00, 27532.24it/s]\n"
     ]
    },
    {
     "data": {
      "text/html": [
       "<div>\n",
       "<style scoped>\n",
       "    .dataframe tbody tr th:only-of-type {\n",
       "        vertical-align: middle;\n",
       "    }\n",
       "\n",
       "    .dataframe tbody tr th {\n",
       "        vertical-align: top;\n",
       "    }\n",
       "\n",
       "    .dataframe thead th {\n",
       "        text-align: right;\n",
       "    }\n",
       "</style>\n",
       "<table border=\"1\" class=\"dataframe\">\n",
       "  <thead>\n",
       "    <tr style=\"text-align: right;\">\n",
       "      <th></th>\n",
       "      <th>t1</th>\n",
       "      <th>t2</th>\n",
       "      <th>type_of</th>\n",
       "      <th>-1</th>\n",
       "      <th>0</th>\n",
       "      <th>1</th>\n",
       "      <th>2</th>\n",
       "      <th>phase</th>\n",
       "      <th>pred_phase</th>\n",
       "    </tr>\n",
       "    <tr>\n",
       "      <th>id</th>\n",
       "      <th></th>\n",
       "      <th></th>\n",
       "      <th></th>\n",
       "      <th></th>\n",
       "      <th></th>\n",
       "      <th></th>\n",
       "      <th></th>\n",
       "      <th></th>\n",
       "      <th></th>\n",
       "    </tr>\n",
       "  </thead>\n",
       "  <tbody>\n",
       "    <tr>\n",
       "      <th>0</th>\n",
       "      <td>-2.0</td>\n",
       "      <td>-2.00</td>\n",
       "      <td>test</td>\n",
       "      <td>0.2131</td>\n",
       "      <td>0.4736</td>\n",
       "      <td>0.2724</td>\n",
       "      <td>0.0409</td>\n",
       "      <td>999</td>\n",
       "      <td>0</td>\n",
       "    </tr>\n",
       "    <tr>\n",
       "      <th>1</th>\n",
       "      <td>-2.0</td>\n",
       "      <td>-1.95</td>\n",
       "      <td>test</td>\n",
       "      <td>0.2171</td>\n",
       "      <td>0.4924</td>\n",
       "      <td>0.2577</td>\n",
       "      <td>0.0328</td>\n",
       "      <td>-1</td>\n",
       "      <td>0</td>\n",
       "    </tr>\n",
       "    <tr>\n",
       "      <th>2</th>\n",
       "      <td>-2.0</td>\n",
       "      <td>-1.90</td>\n",
       "      <td>test</td>\n",
       "      <td>0.2182</td>\n",
       "      <td>0.4680</td>\n",
       "      <td>0.2834</td>\n",
       "      <td>0.0304</td>\n",
       "      <td>-1</td>\n",
       "      <td>0</td>\n",
       "    </tr>\n",
       "    <tr>\n",
       "      <th>3</th>\n",
       "      <td>-2.0</td>\n",
       "      <td>-1.85</td>\n",
       "      <td>test</td>\n",
       "      <td>0.2448</td>\n",
       "      <td>0.3972</td>\n",
       "      <td>0.3271</td>\n",
       "      <td>0.0309</td>\n",
       "      <td>-1</td>\n",
       "      <td>0</td>\n",
       "    </tr>\n",
       "    <tr>\n",
       "      <th>4</th>\n",
       "      <td>-2.0</td>\n",
       "      <td>-1.80</td>\n",
       "      <td>test</td>\n",
       "      <td>0.2444</td>\n",
       "      <td>0.4076</td>\n",
       "      <td>0.3277</td>\n",
       "      <td>0.0203</td>\n",
       "      <td>-1</td>\n",
       "      <td>0</td>\n",
       "    </tr>\n",
       "    <tr>\n",
       "      <th>5</th>\n",
       "      <td>-2.0</td>\n",
       "      <td>-1.75</td>\n",
       "      <td>test</td>\n",
       "      <td>0.2527</td>\n",
       "      <td>0.4271</td>\n",
       "      <td>0.3032</td>\n",
       "      <td>0.0170</td>\n",
       "      <td>-1</td>\n",
       "      <td>0</td>\n",
       "    </tr>\n",
       "    <tr>\n",
       "      <th>6</th>\n",
       "      <td>-2.0</td>\n",
       "      <td>-1.70</td>\n",
       "      <td>test</td>\n",
       "      <td>0.2744</td>\n",
       "      <td>0.4126</td>\n",
       "      <td>0.2923</td>\n",
       "      <td>0.0207</td>\n",
       "      <td>-1</td>\n",
       "      <td>0</td>\n",
       "    </tr>\n",
       "    <tr>\n",
       "      <th>7</th>\n",
       "      <td>-2.0</td>\n",
       "      <td>-1.65</td>\n",
       "      <td>test</td>\n",
       "      <td>0.2993</td>\n",
       "      <td>0.3781</td>\n",
       "      <td>0.3020</td>\n",
       "      <td>0.0206</td>\n",
       "      <td>-1</td>\n",
       "      <td>0</td>\n",
       "    </tr>\n",
       "    <tr>\n",
       "      <th>8</th>\n",
       "      <td>-2.0</td>\n",
       "      <td>-1.60</td>\n",
       "      <td>test</td>\n",
       "      <td>0.3375</td>\n",
       "      <td>0.3454</td>\n",
       "      <td>0.2910</td>\n",
       "      <td>0.0261</td>\n",
       "      <td>-1</td>\n",
       "      <td>0</td>\n",
       "    </tr>\n",
       "    <tr>\n",
       "      <th>9</th>\n",
       "      <td>-2.0</td>\n",
       "      <td>-1.55</td>\n",
       "      <td>test</td>\n",
       "      <td>0.3893</td>\n",
       "      <td>0.2731</td>\n",
       "      <td>0.3114</td>\n",
       "      <td>0.0262</td>\n",
       "      <td>-1</td>\n",
       "      <td>-1</td>\n",
       "    </tr>\n",
       "    <tr>\n",
       "      <th>10</th>\n",
       "      <td>-2.0</td>\n",
       "      <td>-1.50</td>\n",
       "      <td>test</td>\n",
       "      <td>0.4495</td>\n",
       "      <td>0.2460</td>\n",
       "      <td>0.2687</td>\n",
       "      <td>0.0358</td>\n",
       "      <td>-1</td>\n",
       "      <td>-1</td>\n",
       "    </tr>\n",
       "    <tr>\n",
       "      <th>11</th>\n",
       "      <td>-2.0</td>\n",
       "      <td>-1.45</td>\n",
       "      <td>test</td>\n",
       "      <td>0.5182</td>\n",
       "      <td>0.2185</td>\n",
       "      <td>0.2224</td>\n",
       "      <td>0.0409</td>\n",
       "      <td>-1</td>\n",
       "      <td>-1</td>\n",
       "    </tr>\n",
       "    <tr>\n",
       "      <th>12</th>\n",
       "      <td>-2.0</td>\n",
       "      <td>-1.40</td>\n",
       "      <td>test</td>\n",
       "      <td>0.5993</td>\n",
       "      <td>0.1599</td>\n",
       "      <td>0.2022</td>\n",
       "      <td>0.0386</td>\n",
       "      <td>-1</td>\n",
       "      <td>-1</td>\n",
       "    </tr>\n",
       "    <tr>\n",
       "      <th>13</th>\n",
       "      <td>-2.0</td>\n",
       "      <td>-1.35</td>\n",
       "      <td>train</td>\n",
       "      <td>0.8014</td>\n",
       "      <td>0.0764</td>\n",
       "      <td>0.1057</td>\n",
       "      <td>0.0165</td>\n",
       "      <td>-1</td>\n",
       "      <td>-1</td>\n",
       "    </tr>\n",
       "    <tr>\n",
       "      <th>14</th>\n",
       "      <td>-2.0</td>\n",
       "      <td>-1.30</td>\n",
       "      <td>val</td>\n",
       "      <td>0.8795</td>\n",
       "      <td>0.0527</td>\n",
       "      <td>0.0574</td>\n",
       "      <td>0.0104</td>\n",
       "      <td>-1</td>\n",
       "      <td>-1</td>\n",
       "    </tr>\n",
       "    <tr>\n",
       "      <th>15</th>\n",
       "      <td>-2.0</td>\n",
       "      <td>-1.25</td>\n",
       "      <td>train</td>\n",
       "      <td>0.9355</td>\n",
       "      <td>0.0251</td>\n",
       "      <td>0.0331</td>\n",
       "      <td>0.0063</td>\n",
       "      <td>-1</td>\n",
       "      <td>-1</td>\n",
       "    </tr>\n",
       "    <tr>\n",
       "      <th>16</th>\n",
       "      <td>-2.0</td>\n",
       "      <td>-1.20</td>\n",
       "      <td>val</td>\n",
       "      <td>0.9349</td>\n",
       "      <td>0.0148</td>\n",
       "      <td>0.0254</td>\n",
       "      <td>0.0249</td>\n",
       "      <td>-1</td>\n",
       "      <td>-1</td>\n",
       "    </tr>\n",
       "    <tr>\n",
       "      <th>17</th>\n",
       "      <td>-2.0</td>\n",
       "      <td>-1.15</td>\n",
       "      <td>train</td>\n",
       "      <td>0.9649</td>\n",
       "      <td>0.0061</td>\n",
       "      <td>0.0199</td>\n",
       "      <td>0.0091</td>\n",
       "      <td>-1</td>\n",
       "      <td>-1</td>\n",
       "    </tr>\n",
       "    <tr>\n",
       "      <th>18</th>\n",
       "      <td>-2.0</td>\n",
       "      <td>-1.10</td>\n",
       "      <td>val</td>\n",
       "      <td>0.9685</td>\n",
       "      <td>0.0045</td>\n",
       "      <td>0.0207</td>\n",
       "      <td>0.0063</td>\n",
       "      <td>-1</td>\n",
       "      <td>-1</td>\n",
       "    </tr>\n",
       "    <tr>\n",
       "      <th>19</th>\n",
       "      <td>-2.0</td>\n",
       "      <td>-1.05</td>\n",
       "      <td>train</td>\n",
       "      <td>0.9706</td>\n",
       "      <td>0.0111</td>\n",
       "      <td>0.0177</td>\n",
       "      <td>0.0006</td>\n",
       "      <td>-1</td>\n",
       "      <td>-1</td>\n",
       "    </tr>\n",
       "    <tr>\n",
       "      <th>20</th>\n",
       "      <td>-2.0</td>\n",
       "      <td>-1.00</td>\n",
       "      <td>val</td>\n",
       "      <td>0.9813</td>\n",
       "      <td>0.0039</td>\n",
       "      <td>0.0148</td>\n",
       "      <td>0.0000</td>\n",
       "      <td>-1</td>\n",
       "      <td>-1</td>\n",
       "    </tr>\n",
       "    <tr>\n",
       "      <th>21</th>\n",
       "      <td>-2.0</td>\n",
       "      <td>-0.95</td>\n",
       "      <td>train</td>\n",
       "      <td>0.9860</td>\n",
       "      <td>0.0042</td>\n",
       "      <td>0.0098</td>\n",
       "      <td>0.0000</td>\n",
       "      <td>-1</td>\n",
       "      <td>-1</td>\n",
       "    </tr>\n",
       "    <tr>\n",
       "      <th>22</th>\n",
       "      <td>-2.0</td>\n",
       "      <td>-0.90</td>\n",
       "      <td>train</td>\n",
       "      <td>0.9872</td>\n",
       "      <td>0.0088</td>\n",
       "      <td>0.0040</td>\n",
       "      <td>0.0000</td>\n",
       "      <td>-1</td>\n",
       "      <td>-1</td>\n",
       "    </tr>\n",
       "    <tr>\n",
       "      <th>23</th>\n",
       "      <td>-2.0</td>\n",
       "      <td>-0.85</td>\n",
       "      <td>val</td>\n",
       "      <td>0.9935</td>\n",
       "      <td>0.0016</td>\n",
       "      <td>0.0049</td>\n",
       "      <td>0.0000</td>\n",
       "      <td>-1</td>\n",
       "      <td>-1</td>\n",
       "    </tr>\n",
       "    <tr>\n",
       "      <th>24</th>\n",
       "      <td>-2.0</td>\n",
       "      <td>-0.80</td>\n",
       "      <td>train</td>\n",
       "      <td>0.9932</td>\n",
       "      <td>0.0041</td>\n",
       "      <td>0.0027</td>\n",
       "      <td>0.0000</td>\n",
       "      <td>-1</td>\n",
       "      <td>-1</td>\n",
       "    </tr>\n",
       "    <tr>\n",
       "      <th>25</th>\n",
       "      <td>-2.0</td>\n",
       "      <td>-0.75</td>\n",
       "      <td>train</td>\n",
       "      <td>0.9790</td>\n",
       "      <td>0.0078</td>\n",
       "      <td>0.0121</td>\n",
       "      <td>0.0011</td>\n",
       "      <td>-1</td>\n",
       "      <td>-1</td>\n",
       "    </tr>\n",
       "    <tr>\n",
       "      <th>26</th>\n",
       "      <td>-2.0</td>\n",
       "      <td>-0.70</td>\n",
       "      <td>train</td>\n",
       "      <td>0.9896</td>\n",
       "      <td>0.0039</td>\n",
       "      <td>0.0065</td>\n",
       "      <td>0.0000</td>\n",
       "      <td>-1</td>\n",
       "      <td>-1</td>\n",
       "    </tr>\n",
       "    <tr>\n",
       "      <th>27</th>\n",
       "      <td>-2.0</td>\n",
       "      <td>-0.65</td>\n",
       "      <td>val</td>\n",
       "      <td>0.9950</td>\n",
       "      <td>0.0032</td>\n",
       "      <td>0.0016</td>\n",
       "      <td>0.0002</td>\n",
       "      <td>-1</td>\n",
       "      <td>-1</td>\n",
       "    </tr>\n",
       "    <tr>\n",
       "      <th>28</th>\n",
       "      <td>-2.0</td>\n",
       "      <td>-0.60</td>\n",
       "      <td>val</td>\n",
       "      <td>0.9959</td>\n",
       "      <td>0.0041</td>\n",
       "      <td>0.0000</td>\n",
       "      <td>0.0000</td>\n",
       "      <td>-1</td>\n",
       "      <td>-1</td>\n",
       "    </tr>\n",
       "    <tr>\n",
       "      <th>29</th>\n",
       "      <td>-2.0</td>\n",
       "      <td>-0.55</td>\n",
       "      <td>train</td>\n",
       "      <td>0.9971</td>\n",
       "      <td>0.0020</td>\n",
       "      <td>0.0007</td>\n",
       "      <td>0.0002</td>\n",
       "      <td>-1</td>\n",
       "      <td>-1</td>\n",
       "    </tr>\n",
       "    <tr>\n",
       "      <th>...</th>\n",
       "      <td>...</td>\n",
       "      <td>...</td>\n",
       "      <td>...</td>\n",
       "      <td>...</td>\n",
       "      <td>...</td>\n",
       "      <td>...</td>\n",
       "      <td>...</td>\n",
       "      <td>...</td>\n",
       "      <td>...</td>\n",
       "    </tr>\n",
       "    <tr>\n",
       "      <th>6531</th>\n",
       "      <td>2.0</td>\n",
       "      <td>0.55</td>\n",
       "      <td>val</td>\n",
       "      <td>0.9936</td>\n",
       "      <td>0.0057</td>\n",
       "      <td>0.0007</td>\n",
       "      <td>0.0000</td>\n",
       "      <td>-1</td>\n",
       "      <td>-1</td>\n",
       "    </tr>\n",
       "    <tr>\n",
       "      <th>6532</th>\n",
       "      <td>2.0</td>\n",
       "      <td>0.60</td>\n",
       "      <td>val</td>\n",
       "      <td>0.9948</td>\n",
       "      <td>0.0049</td>\n",
       "      <td>0.0002</td>\n",
       "      <td>0.0001</td>\n",
       "      <td>-1</td>\n",
       "      <td>-1</td>\n",
       "    </tr>\n",
       "    <tr>\n",
       "      <th>6533</th>\n",
       "      <td>2.0</td>\n",
       "      <td>0.65</td>\n",
       "      <td>train</td>\n",
       "      <td>0.9948</td>\n",
       "      <td>0.0051</td>\n",
       "      <td>0.0001</td>\n",
       "      <td>0.0000</td>\n",
       "      <td>-1</td>\n",
       "      <td>-1</td>\n",
       "    </tr>\n",
       "    <tr>\n",
       "      <th>6534</th>\n",
       "      <td>2.0</td>\n",
       "      <td>0.70</td>\n",
       "      <td>train</td>\n",
       "      <td>0.9938</td>\n",
       "      <td>0.0061</td>\n",
       "      <td>0.0001</td>\n",
       "      <td>0.0000</td>\n",
       "      <td>-1</td>\n",
       "      <td>-1</td>\n",
       "    </tr>\n",
       "    <tr>\n",
       "      <th>6535</th>\n",
       "      <td>2.0</td>\n",
       "      <td>0.75</td>\n",
       "      <td>train</td>\n",
       "      <td>0.9913</td>\n",
       "      <td>0.0072</td>\n",
       "      <td>0.0011</td>\n",
       "      <td>0.0004</td>\n",
       "      <td>-1</td>\n",
       "      <td>-1</td>\n",
       "    </tr>\n",
       "    <tr>\n",
       "      <th>6536</th>\n",
       "      <td>2.0</td>\n",
       "      <td>0.80</td>\n",
       "      <td>train</td>\n",
       "      <td>0.9989</td>\n",
       "      <td>0.0011</td>\n",
       "      <td>0.0000</td>\n",
       "      <td>0.0000</td>\n",
       "      <td>-1</td>\n",
       "      <td>-1</td>\n",
       "    </tr>\n",
       "    <tr>\n",
       "      <th>6537</th>\n",
       "      <td>2.0</td>\n",
       "      <td>0.85</td>\n",
       "      <td>val</td>\n",
       "      <td>0.9973</td>\n",
       "      <td>0.0023</td>\n",
       "      <td>0.0001</td>\n",
       "      <td>0.0003</td>\n",
       "      <td>-1</td>\n",
       "      <td>-1</td>\n",
       "    </tr>\n",
       "    <tr>\n",
       "      <th>6538</th>\n",
       "      <td>2.0</td>\n",
       "      <td>0.90</td>\n",
       "      <td>train</td>\n",
       "      <td>0.9944</td>\n",
       "      <td>0.0042</td>\n",
       "      <td>0.0004</td>\n",
       "      <td>0.0010</td>\n",
       "      <td>-1</td>\n",
       "      <td>-1</td>\n",
       "    </tr>\n",
       "    <tr>\n",
       "      <th>6539</th>\n",
       "      <td>2.0</td>\n",
       "      <td>0.95</td>\n",
       "      <td>val</td>\n",
       "      <td>0.9954</td>\n",
       "      <td>0.0033</td>\n",
       "      <td>0.0000</td>\n",
       "      <td>0.0013</td>\n",
       "      <td>-1</td>\n",
       "      <td>-1</td>\n",
       "    </tr>\n",
       "    <tr>\n",
       "      <th>6540</th>\n",
       "      <td>2.0</td>\n",
       "      <td>1.00</td>\n",
       "      <td>train</td>\n",
       "      <td>0.9962</td>\n",
       "      <td>0.0026</td>\n",
       "      <td>0.0000</td>\n",
       "      <td>0.0012</td>\n",
       "      <td>-1</td>\n",
       "      <td>-1</td>\n",
       "    </tr>\n",
       "    <tr>\n",
       "      <th>6541</th>\n",
       "      <td>2.0</td>\n",
       "      <td>1.05</td>\n",
       "      <td>train</td>\n",
       "      <td>0.9932</td>\n",
       "      <td>0.0064</td>\n",
       "      <td>0.0001</td>\n",
       "      <td>0.0003</td>\n",
       "      <td>-1</td>\n",
       "      <td>-1</td>\n",
       "    </tr>\n",
       "    <tr>\n",
       "      <th>6542</th>\n",
       "      <td>2.0</td>\n",
       "      <td>1.10</td>\n",
       "      <td>train</td>\n",
       "      <td>0.9976</td>\n",
       "      <td>0.0014</td>\n",
       "      <td>0.0005</td>\n",
       "      <td>0.0005</td>\n",
       "      <td>-1</td>\n",
       "      <td>-1</td>\n",
       "    </tr>\n",
       "    <tr>\n",
       "      <th>6543</th>\n",
       "      <td>2.0</td>\n",
       "      <td>1.15</td>\n",
       "      <td>train</td>\n",
       "      <td>0.9951</td>\n",
       "      <td>0.0024</td>\n",
       "      <td>0.0005</td>\n",
       "      <td>0.0020</td>\n",
       "      <td>-1</td>\n",
       "      <td>-1</td>\n",
       "    </tr>\n",
       "    <tr>\n",
       "      <th>6544</th>\n",
       "      <td>2.0</td>\n",
       "      <td>1.20</td>\n",
       "      <td>val</td>\n",
       "      <td>0.9982</td>\n",
       "      <td>0.0006</td>\n",
       "      <td>0.0008</td>\n",
       "      <td>0.0004</td>\n",
       "      <td>-1</td>\n",
       "      <td>-1</td>\n",
       "    </tr>\n",
       "    <tr>\n",
       "      <th>6545</th>\n",
       "      <td>2.0</td>\n",
       "      <td>1.25</td>\n",
       "      <td>val</td>\n",
       "      <td>0.9977</td>\n",
       "      <td>0.0020</td>\n",
       "      <td>0.0000</td>\n",
       "      <td>0.0003</td>\n",
       "      <td>-1</td>\n",
       "      <td>-1</td>\n",
       "    </tr>\n",
       "    <tr>\n",
       "      <th>6546</th>\n",
       "      <td>2.0</td>\n",
       "      <td>1.30</td>\n",
       "      <td>val</td>\n",
       "      <td>0.9960</td>\n",
       "      <td>0.0036</td>\n",
       "      <td>0.0001</td>\n",
       "      <td>0.0003</td>\n",
       "      <td>-1</td>\n",
       "      <td>-1</td>\n",
       "    </tr>\n",
       "    <tr>\n",
       "      <th>6547</th>\n",
       "      <td>2.0</td>\n",
       "      <td>1.35</td>\n",
       "      <td>val</td>\n",
       "      <td>0.9959</td>\n",
       "      <td>0.0020</td>\n",
       "      <td>0.0006</td>\n",
       "      <td>0.0015</td>\n",
       "      <td>-1</td>\n",
       "      <td>-1</td>\n",
       "    </tr>\n",
       "    <tr>\n",
       "      <th>6548</th>\n",
       "      <td>2.0</td>\n",
       "      <td>1.40</td>\n",
       "      <td>train</td>\n",
       "      <td>0.9941</td>\n",
       "      <td>0.0028</td>\n",
       "      <td>0.0002</td>\n",
       "      <td>0.0029</td>\n",
       "      <td>-1</td>\n",
       "      <td>-1</td>\n",
       "    </tr>\n",
       "    <tr>\n",
       "      <th>6549</th>\n",
       "      <td>2.0</td>\n",
       "      <td>1.45</td>\n",
       "      <td>train</td>\n",
       "      <td>0.9852</td>\n",
       "      <td>0.0034</td>\n",
       "      <td>0.0032</td>\n",
       "      <td>0.0082</td>\n",
       "      <td>-1</td>\n",
       "      <td>-1</td>\n",
       "    </tr>\n",
       "    <tr>\n",
       "      <th>6550</th>\n",
       "      <td>2.0</td>\n",
       "      <td>1.50</td>\n",
       "      <td>train</td>\n",
       "      <td>0.9696</td>\n",
       "      <td>0.0083</td>\n",
       "      <td>0.0083</td>\n",
       "      <td>0.0138</td>\n",
       "      <td>-1</td>\n",
       "      <td>-1</td>\n",
       "    </tr>\n",
       "    <tr>\n",
       "      <th>6551</th>\n",
       "      <td>2.0</td>\n",
       "      <td>1.55</td>\n",
       "      <td>val</td>\n",
       "      <td>0.9182</td>\n",
       "      <td>0.0397</td>\n",
       "      <td>0.0096</td>\n",
       "      <td>0.0325</td>\n",
       "      <td>-1</td>\n",
       "      <td>-1</td>\n",
       "    </tr>\n",
       "    <tr>\n",
       "      <th>6552</th>\n",
       "      <td>2.0</td>\n",
       "      <td>1.60</td>\n",
       "      <td>test</td>\n",
       "      <td>0.7416</td>\n",
       "      <td>0.1205</td>\n",
       "      <td>0.0344</td>\n",
       "      <td>0.1035</td>\n",
       "      <td>-1</td>\n",
       "      <td>-1</td>\n",
       "    </tr>\n",
       "    <tr>\n",
       "      <th>6553</th>\n",
       "      <td>2.0</td>\n",
       "      <td>1.65</td>\n",
       "      <td>test</td>\n",
       "      <td>0.6149</td>\n",
       "      <td>0.1536</td>\n",
       "      <td>0.0403</td>\n",
       "      <td>0.1912</td>\n",
       "      <td>-1</td>\n",
       "      <td>-1</td>\n",
       "    </tr>\n",
       "    <tr>\n",
       "      <th>6554</th>\n",
       "      <td>2.0</td>\n",
       "      <td>1.70</td>\n",
       "      <td>test</td>\n",
       "      <td>0.5334</td>\n",
       "      <td>0.1797</td>\n",
       "      <td>0.0582</td>\n",
       "      <td>0.2287</td>\n",
       "      <td>-1</td>\n",
       "      <td>-1</td>\n",
       "    </tr>\n",
       "    <tr>\n",
       "      <th>6555</th>\n",
       "      <td>2.0</td>\n",
       "      <td>1.75</td>\n",
       "      <td>test</td>\n",
       "      <td>0.4885</td>\n",
       "      <td>0.1900</td>\n",
       "      <td>0.0530</td>\n",
       "      <td>0.2685</td>\n",
       "      <td>-1</td>\n",
       "      <td>-1</td>\n",
       "    </tr>\n",
       "    <tr>\n",
       "      <th>6556</th>\n",
       "      <td>2.0</td>\n",
       "      <td>1.80</td>\n",
       "      <td>test</td>\n",
       "      <td>0.4529</td>\n",
       "      <td>0.1826</td>\n",
       "      <td>0.0623</td>\n",
       "      <td>0.3022</td>\n",
       "      <td>-1</td>\n",
       "      <td>-1</td>\n",
       "    </tr>\n",
       "    <tr>\n",
       "      <th>6557</th>\n",
       "      <td>2.0</td>\n",
       "      <td>1.85</td>\n",
       "      <td>test</td>\n",
       "      <td>0.3883</td>\n",
       "      <td>0.1880</td>\n",
       "      <td>0.0907</td>\n",
       "      <td>0.3330</td>\n",
       "      <td>-1</td>\n",
       "      <td>-1</td>\n",
       "    </tr>\n",
       "    <tr>\n",
       "      <th>6558</th>\n",
       "      <td>2.0</td>\n",
       "      <td>1.90</td>\n",
       "      <td>test</td>\n",
       "      <td>0.3130</td>\n",
       "      <td>0.2108</td>\n",
       "      <td>0.1208</td>\n",
       "      <td>0.3554</td>\n",
       "      <td>-1</td>\n",
       "      <td>2</td>\n",
       "    </tr>\n",
       "    <tr>\n",
       "      <th>6559</th>\n",
       "      <td>2.0</td>\n",
       "      <td>1.95</td>\n",
       "      <td>test</td>\n",
       "      <td>0.2566</td>\n",
       "      <td>0.2576</td>\n",
       "      <td>0.1156</td>\n",
       "      <td>0.3702</td>\n",
       "      <td>-1</td>\n",
       "      <td>2</td>\n",
       "    </tr>\n",
       "    <tr>\n",
       "      <th>6560</th>\n",
       "      <td>2.0</td>\n",
       "      <td>2.00</td>\n",
       "      <td>test</td>\n",
       "      <td>0.2339</td>\n",
       "      <td>0.2794</td>\n",
       "      <td>0.1132</td>\n",
       "      <td>0.3735</td>\n",
       "      <td>999</td>\n",
       "      <td>2</td>\n",
       "    </tr>\n",
       "  </tbody>\n",
       "</table>\n",
       "<p>6561 rows × 9 columns</p>\n",
       "</div>"
      ],
      "text/plain": [
       "       t1    t2 type_of      -1       0       1       2  phase  pred_phase\n",
       "id                                                                        \n",
       "0    -2.0 -2.00    test  0.2131  0.4736  0.2724  0.0409    999           0\n",
       "1    -2.0 -1.95    test  0.2171  0.4924  0.2577  0.0328     -1           0\n",
       "2    -2.0 -1.90    test  0.2182  0.4680  0.2834  0.0304     -1           0\n",
       "3    -2.0 -1.85    test  0.2448  0.3972  0.3271  0.0309     -1           0\n",
       "4    -2.0 -1.80    test  0.2444  0.4076  0.3277  0.0203     -1           0\n",
       "5    -2.0 -1.75    test  0.2527  0.4271  0.3032  0.0170     -1           0\n",
       "6    -2.0 -1.70    test  0.2744  0.4126  0.2923  0.0207     -1           0\n",
       "7    -2.0 -1.65    test  0.2993  0.3781  0.3020  0.0206     -1           0\n",
       "8    -2.0 -1.60    test  0.3375  0.3454  0.2910  0.0261     -1           0\n",
       "9    -2.0 -1.55    test  0.3893  0.2731  0.3114  0.0262     -1          -1\n",
       "10   -2.0 -1.50    test  0.4495  0.2460  0.2687  0.0358     -1          -1\n",
       "11   -2.0 -1.45    test  0.5182  0.2185  0.2224  0.0409     -1          -1\n",
       "12   -2.0 -1.40    test  0.5993  0.1599  0.2022  0.0386     -1          -1\n",
       "13   -2.0 -1.35   train  0.8014  0.0764  0.1057  0.0165     -1          -1\n",
       "14   -2.0 -1.30     val  0.8795  0.0527  0.0574  0.0104     -1          -1\n",
       "15   -2.0 -1.25   train  0.9355  0.0251  0.0331  0.0063     -1          -1\n",
       "16   -2.0 -1.20     val  0.9349  0.0148  0.0254  0.0249     -1          -1\n",
       "17   -2.0 -1.15   train  0.9649  0.0061  0.0199  0.0091     -1          -1\n",
       "18   -2.0 -1.10     val  0.9685  0.0045  0.0207  0.0063     -1          -1\n",
       "19   -2.0 -1.05   train  0.9706  0.0111  0.0177  0.0006     -1          -1\n",
       "20   -2.0 -1.00     val  0.9813  0.0039  0.0148  0.0000     -1          -1\n",
       "21   -2.0 -0.95   train  0.9860  0.0042  0.0098  0.0000     -1          -1\n",
       "22   -2.0 -0.90   train  0.9872  0.0088  0.0040  0.0000     -1          -1\n",
       "23   -2.0 -0.85     val  0.9935  0.0016  0.0049  0.0000     -1          -1\n",
       "24   -2.0 -0.80   train  0.9932  0.0041  0.0027  0.0000     -1          -1\n",
       "25   -2.0 -0.75   train  0.9790  0.0078  0.0121  0.0011     -1          -1\n",
       "26   -2.0 -0.70   train  0.9896  0.0039  0.0065  0.0000     -1          -1\n",
       "27   -2.0 -0.65     val  0.9950  0.0032  0.0016  0.0002     -1          -1\n",
       "28   -2.0 -0.60     val  0.9959  0.0041  0.0000  0.0000     -1          -1\n",
       "29   -2.0 -0.55   train  0.9971  0.0020  0.0007  0.0002     -1          -1\n",
       "...   ...   ...     ...     ...     ...     ...     ...    ...         ...\n",
       "6531  2.0  0.55     val  0.9936  0.0057  0.0007  0.0000     -1          -1\n",
       "6532  2.0  0.60     val  0.9948  0.0049  0.0002  0.0001     -1          -1\n",
       "6533  2.0  0.65   train  0.9948  0.0051  0.0001  0.0000     -1          -1\n",
       "6534  2.0  0.70   train  0.9938  0.0061  0.0001  0.0000     -1          -1\n",
       "6535  2.0  0.75   train  0.9913  0.0072  0.0011  0.0004     -1          -1\n",
       "6536  2.0  0.80   train  0.9989  0.0011  0.0000  0.0000     -1          -1\n",
       "6537  2.0  0.85     val  0.9973  0.0023  0.0001  0.0003     -1          -1\n",
       "6538  2.0  0.90   train  0.9944  0.0042  0.0004  0.0010     -1          -1\n",
       "6539  2.0  0.95     val  0.9954  0.0033  0.0000  0.0013     -1          -1\n",
       "6540  2.0  1.00   train  0.9962  0.0026  0.0000  0.0012     -1          -1\n",
       "6541  2.0  1.05   train  0.9932  0.0064  0.0001  0.0003     -1          -1\n",
       "6542  2.0  1.10   train  0.9976  0.0014  0.0005  0.0005     -1          -1\n",
       "6543  2.0  1.15   train  0.9951  0.0024  0.0005  0.0020     -1          -1\n",
       "6544  2.0  1.20     val  0.9982  0.0006  0.0008  0.0004     -1          -1\n",
       "6545  2.0  1.25     val  0.9977  0.0020  0.0000  0.0003     -1          -1\n",
       "6546  2.0  1.30     val  0.9960  0.0036  0.0001  0.0003     -1          -1\n",
       "6547  2.0  1.35     val  0.9959  0.0020  0.0006  0.0015     -1          -1\n",
       "6548  2.0  1.40   train  0.9941  0.0028  0.0002  0.0029     -1          -1\n",
       "6549  2.0  1.45   train  0.9852  0.0034  0.0032  0.0082     -1          -1\n",
       "6550  2.0  1.50   train  0.9696  0.0083  0.0083  0.0138     -1          -1\n",
       "6551  2.0  1.55     val  0.9182  0.0397  0.0096  0.0325     -1          -1\n",
       "6552  2.0  1.60    test  0.7416  0.1205  0.0344  0.1035     -1          -1\n",
       "6553  2.0  1.65    test  0.6149  0.1536  0.0403  0.1912     -1          -1\n",
       "6554  2.0  1.70    test  0.5334  0.1797  0.0582  0.2287     -1          -1\n",
       "6555  2.0  1.75    test  0.4885  0.1900  0.0530  0.2685     -1          -1\n",
       "6556  2.0  1.80    test  0.4529  0.1826  0.0623  0.3022     -1          -1\n",
       "6557  2.0  1.85    test  0.3883  0.1880  0.0907  0.3330     -1          -1\n",
       "6558  2.0  1.90    test  0.3130  0.2108  0.1208  0.3554     -1           2\n",
       "6559  2.0  1.95    test  0.2566  0.2576  0.1156  0.3702     -1           2\n",
       "6560  2.0  2.00    test  0.2339  0.2794  0.1132  0.3735    999           2\n",
       "\n",
       "[6561 rows x 9 columns]"
      ]
     },
     "execution_count": 3,
     "metadata": {},
     "output_type": "execute_result"
    }
   ],
   "source": [
    "save_to_disk = False\n",
    "simulation.compute_hamiltonian_summary(save_to_disk)\n",
    "simulation.hamiltonian_summary"
   ]
  },
  {
   "cell_type": "markdown",
   "metadata": {},
   "source": [
    "#### Computing mean simulation accuracy"
   ]
  },
  {
   "cell_type": "code",
   "execution_count": 4,
   "metadata": {},
   "outputs": [
    {
     "name": "stderr",
     "output_type": "stream",
     "text": [
      "computing mean accuracies: 100%|██████████| 100/100 [04:29<00:00,  2.41s/it]\n"
     ]
    }
   ],
   "source": [
    "save_to_disk = False\n",
    "simulation.compute_mean_accuracy(save_to_disk)"
   ]
  },
  {
   "cell_type": "code",
   "execution_count": 5,
   "metadata": {},
   "outputs": [
    {
     "data": {
      "text/plain": [
       "{'eigenvector_train': 0.9997201014125318,\n",
       " 'eigenvector_val': 0.9733354347826086,\n",
       " 'eigenvector_test': 0.6781416763678696,\n",
       " 'hamiltonian_train': 1.0,\n",
       " 'hamiltonian_val': 0.9972391304347826,\n",
       " 'hamiltonian_test': 0.8821187427240977}"
      ]
     },
     "execution_count": 5,
     "metadata": {},
     "output_type": "execute_result"
    }
   ],
   "source": [
    "simulation.mean_accuracy"
   ]
  },
  {
   "cell_type": "markdown",
   "metadata": {},
   "source": [
    "#### Computing bootstrap accuracy"
   ]
  },
  {
   "cell_type": "code",
   "execution_count": 6,
   "metadata": {},
   "outputs": [],
   "source": [
    "save_to_disk = False\n",
    "simulation.compute_bootstrap_accuracy(save_to_disk)"
   ]
  },
  {
   "cell_type": "code",
   "execution_count": 7,
   "metadata": {},
   "outputs": [
    {
     "data": {
      "text/plain": [
       "{'hamiltonian_train': 1.0,\n",
       " 'hamiltonian_val': 1.0,\n",
       " 'hamiltonian_test': 0.8940628637951106}"
      ]
     },
     "execution_count": 7,
     "metadata": {},
     "output_type": "execute_result"
    }
   ],
   "source": [
    "simulation.bootstrap_accuracy"
   ]
  },
  {
   "cell_type": "markdown",
   "metadata": {},
   "source": [
    "#### Computing mean feature importances"
   ]
  },
  {
   "cell_type": "code",
   "execution_count": 8,
   "metadata": {},
   "outputs": [
    {
     "name": "stderr",
     "output_type": "stream",
     "text": [
      "mean feature importances: 100%|██████████| 100/100 [03:48<00:00,  1.87s/it]\n"
     ]
    }
   ],
   "source": [
    "save_to_disk = False\n",
    "simulation.compute_mean_feature_importance(save_to_disk)"
   ]
  },
  {
   "cell_type": "code",
   "execution_count": 9,
   "metadata": {},
   "outputs": [
    {
     "data": {
      "text/plain": [
       "{2: 0.028427408048424852,\n",
       " 99: 0.02815933374151633,\n",
       " 1: 0.024729319315382924,\n",
       " 100: 0.024545087540736806,\n",
       " 97: 0.01901977380795366,\n",
       " 4: 0.018992635469493063,\n",
       " 3: 0.017770337353135903,\n",
       " 98: 0.017728554573214497,\n",
       " 95: 0.017537770209282613,\n",
       " 6: 0.01744255783203775,\n",
       " 49: 0.01603621758453101,\n",
       " 5: 0.015634656082342258,\n",
       " 96: 0.015411606549639802,\n",
       " 52: 0.015365088082203887,\n",
       " 51: 0.014298048447592556,\n",
       " 50: 0.013703119792601914,\n",
       " 47: 0.013154062350233088,\n",
       " 54: 0.012610602418065647,\n",
       " 93: 0.012460407612018096,\n",
       " 8: 0.012355290402924147,\n",
       " 94: 0.011527223127471392,\n",
       " 7: 0.011522505444293901,\n",
       " 53: 0.011341430742355862,\n",
       " 48: 0.010900202929302348,\n",
       " 45: 0.01069139640306634,\n",
       " 56: 0.010294429825004154,\n",
       " 91: 0.01004766261463209,\n",
       " 10: 0.010010714122549764,\n",
       " 55: 0.009551685029462461,\n",
       " 46: 0.009272022722135924,\n",
       " 43: 0.00913563227640719,\n",
       " 9: 0.00912241710476403,\n",
       " 11: 0.009064745077475676,\n",
       " 92: 0.009054197700200604,\n",
       " 90: 0.008994333237257198,\n",
       " 58: 0.00884064766230169,\n",
       " 89: 0.008782647789438302,\n",
       " 12: 0.008702252908648499,\n",
       " 57: 0.008668735497080644,\n",
       " 44: 0.008458128500321052,\n",
       " 41: 0.008362054970795847,\n",
       " 60: 0.008186047185156996,\n",
       " 59: 0.00809864780788522,\n",
       " 13: 0.008026986123719444,\n",
       " 87: 0.008021021508779676,\n",
       " 14: 0.007954646821528027,\n",
       " 88: 0.007942566019657843,\n",
       " 42: 0.007918773260448915,\n",
       " 33: 0.007745202837248947,\n",
       " 39: 0.007735172471049229,\n",
       " 35: 0.007720716859032424,\n",
       " 68: 0.00770720592287868,\n",
       " 61: 0.00767980580616553,\n",
       " 66: 0.007644502871080672,\n",
       " 67: 0.007631681020714901,\n",
       " 73: 0.007614078073432403,\n",
       " 76: 0.007596632029178985,\n",
       " 28: 0.007595407590420832,\n",
       " 15: 0.007595109553560309,\n",
       " 25: 0.00759402946881004,\n",
       " 40: 0.007582637673979301,\n",
       " 63: 0.007580403625015089,\n",
       " 62: 0.007579631428040685,\n",
       " 17: 0.007574892368097922,\n",
       " 26: 0.007563208462847534,\n",
       " 85: 0.007550890733909491,\n",
       " 86: 0.007534664154362383,\n",
       " 84: 0.007522613769216536,\n",
       " 37: 0.007513636092358761,\n",
       " 74: 0.007510684296100376,\n",
       " 75: 0.007510587199442265,\n",
       " 65: 0.0075046645206442155,\n",
       " 34: 0.007494483018888697,\n",
       " 27: 0.0074860374666046595,\n",
       " 38: 0.007480803017983667,\n",
       " 16: 0.007468454360035131,\n",
       " 23: 0.007419389442645777,\n",
       " 36: 0.0074096510733185576,\n",
       " 21: 0.007389271603421915,\n",
       " 78: 0.00737082307445967,\n",
       " 64: 0.007358679461123536,\n",
       " 19: 0.007356766722765473,\n",
       " 71: 0.007350124405669688,\n",
       " 69: 0.007346508427273998,\n",
       " 30: 0.007336788052138313,\n",
       " 80: 0.007321110304619287,\n",
       " 31: 0.007309927603729619,\n",
       " 83: 0.00726404091536299,\n",
       " 32: 0.007257845806019448,\n",
       " 82: 0.007254313754736655,\n",
       " 29: 0.0072226740394178415,\n",
       " 70: 0.007200795431505326,\n",
       " 18: 0.007196348517349649,\n",
       " 79: 0.007175390646363783,\n",
       " 72: 0.0071527722174864715,\n",
       " 24: 0.007120286566950434,\n",
       " 77: 0.0071094185385467724,\n",
       " 22: 0.007092511501478613,\n",
       " 81: 0.006949395453604524,\n",
       " 20: 0.006841698123440109}"
      ]
     },
     "execution_count": 9,
     "metadata": {},
     "output_type": "execute_result"
    }
   ],
   "source": [
    "simulation.feature_importance"
   ]
  },
  {
   "cell_type": "markdown",
   "metadata": {},
   "source": [
    "#### Plotting feature importances"
   ]
  },
  {
   "cell_type": "code",
   "execution_count": 10,
   "metadata": {},
   "outputs": [
    {
     "data": {
      "image/png": "[encoded data removed]",
      "text/plain": [
       "<Figure size 864x864 with 1 Axes>"
      ]
     },
     "metadata": {
      "needs_background": "light"
     },
     "output_type": "display_data"
    }
   ],
   "source": [
    "#plot_feature_importances(self, n_features=None, fig_params={}, xlabel_params={}, ylabel_params={}, title_params={})\n",
    "n_features = None\n",
    "bar_params = {\"color\": \"deeppink\", \"width\": 0.7}\n",
    "fig_params={\"figsize\": (12,12)} \n",
    "xlabel_params = {\"xlabel\": \"lattice site\", \"fontsize\": 40}\n",
    "ylabel_params = {\"ylabel\": \"% reduction in Gini impurity\", \"fontsize\": 40}\n",
    "title_params = {\"label\": \"Gini topological signal - experiment 2\", \"fontsize\": 36}\n",
    "#title_params = {\"label\": \"Lattice site importances\", \"fontsize\": 20}\n",
    "#xlim_params = {\"left\": 0, \"right\": len(simulation.feature_importance)}\n",
    "#ylim_params = {\"bottom\": 0, \"top\": 0.2}\n",
    "#xlim_params = {\"left\": 0, \"right\": 99}\n",
    "xlim_params = {}\n",
    "ylim_params = {}\n",
    "xticks_params = {\"ticks\": np.linspace(1,100,12).astype(int), \"fontsize\": 24}\n",
    "yticks_params = {\"fontsize\": 24}\n",
    "tight_params = {}\n",
    "path_to_save = \"./fig1b-6561-100-feature_importances.png\"\n",
    "savefig_params = {\"fname\": path_to_save}\n",
    "simulation.plot_feature_importances(n_features, bar_params, fig_params, xlabel_params, ylabel_params, title_params, xlim_params, \\\n",
    "                                    ylim_params, xticks_params, yticks_params, tight_params, savefig_params)\n"
   ]
  },
  {
   "cell_type": "markdown",
   "metadata": {},
   "source": [
    "#### Plotting cumulative feature importances"
   ]
  },
  {
   "cell_type": "code",
   "execution_count": 16,
   "metadata": {},
   "outputs": [
    {
     "data": {
      "image/png": "[encoded data removed]",
      "text/plain": [
       "<Figure size 1872x1008 with 1 Axes>"
      ]
     },
     "metadata": {
      "needs_background": "light"
     },
     "output_type": "display_data"
    }
   ],
   "source": [
    "n_features = None\n",
    "bar_params = {\"color\":\"steelblue\", \"width\": 0.3}\n",
    "fig_params={\"figsize\": (26,14)} \n",
    "xlabel_params = {\"xlabel\": \"feature\", \"fontsize\": 48}\n",
    "ylabel_params = {\"ylabel\": \"cumulative importance\", \"fontsize\": 48}\n",
    "title_params = {\"label\": \"Cumulative feature importances for experiment 2\", \"fontsize\": 48}\n",
    "#title_params = {\"label\": \"Lattice site importances\", \"fontsize\": 20}\n",
    "#xlim_params = {\"left\": 0, \"right\": len(simulation.feature_importance)}\n",
    "#ylim_params = {\"bottom\": 0, \"top\": 0.2}\n",
    "#xlim_params = {\"left\": 0, \"right\": 99}\n",
    "xlim_params = {\"left\":-1, \"right\":100}\n",
    "#xlim_params = {}\n",
    "ylim_params = {}\n",
    "#xticks_params = {\"ticks\": np.array(list(simulation.cumulative_feature_importance.keys()))[np.linspace(0,99,16).astype(int)] }\n",
    "xticks_params = {\"ticks\": np.linspace(0,99,100).astype(int), \"fontsize\": 9, \"rotation\": 0}\n",
    "yticks_params = {\"ticks\": np.linspace(0,1,21), \"fontsize\": 20}\n",
    "path_to_save = \"/home/linneu/Dropbox/Machine/paper_linneu/fig1b-6561-100-cumulative_feature_importances.png\"\n",
    "savefig_params = {\"fname\": path_to_save}\n",
    "simulation.plot_cumulative_feature_importances(n_features, bar_params, fig_params, xlabel_params, ylabel_params, title_params, xlim_params, \\\n",
    "                                    ylim_params, xticks_params, yticks_params, savefig_params)\n"
   ]
  },
  {
   "cell_type": "code",
   "execution_count": null,
   "metadata": {},
   "outputs": [],
   "source": []
  },
  {
   "cell_type": "code",
   "execution_count": null,
   "metadata": {},
   "outputs": [],
   "source": []
  },
  {
   "cell_type": "code",
   "execution_count": null,
   "metadata": {},
   "outputs": [],
   "source": []
  },
  {
   "cell_type": "code",
   "execution_count": null,
   "metadata": {},
   "outputs": [],
   "source": []
  },
  {
   "cell_type": "code",
   "execution_count": null,
   "metadata": {},
   "outputs": [],
   "source": []
  },
  {
   "cell_type": "code",
   "execution_count": null,
   "metadata": {},
   "outputs": [],
   "source": []
  },
  {
   "cell_type": "code",
   "execution_count": null,
   "metadata": {},
   "outputs": [],
   "source": []
  },
  {
   "cell_type": "markdown",
   "metadata": {},
   "source": [
    "#### Loading experiment"
   ]
  },
  {
   "cell_type": "code",
   "execution_count": 2,
   "metadata": {},
   "outputs": [],
   "source": [
    "simulation_dir = \"./simulation/fig1a-6561\"\n",
    "experiment_name = \"0\"\n",
    "experiment = Experiment(simulation_dir, experiment_name)"
   ]
  },
  {
   "cell_type": "markdown",
   "metadata": {},
   "source": [
    "#### Model"
   ]
  },
  {
   "cell_type": "code",
   "execution_count": 3,
   "metadata": {},
   "outputs": [
    {
     "data": {
      "text/plain": [
       "DecisionTreeClassifier(class_weight=None, criterion='gini', max_depth=None,\n",
       "            max_features=None, max_leaf_nodes=None,\n",
       "            min_impurity_decrease=0.0, min_impurity_split=None,\n",
       "            min_samples_leaf=1, min_samples_split=2,\n",
       "            min_weight_fraction_leaf=0.0, presort=False, random_state=None,\n",
       "            splitter='best')"
      ]
     },
     "execution_count": 3,
     "metadata": {},
     "output_type": "execute_result"
    }
   ],
   "source": [
    "experiment.model"
   ]
  },
  {
   "cell_type": "markdown",
   "metadata": {},
   "source": [
    "#### Feature importances"
   ]
  },
  {
   "cell_type": "code",
   "execution_count": 4,
   "metadata": {},
   "outputs": [
    {
     "data": {
      "text/plain": [
       "array([1.78298816e-01, 5.75113954e-03, 1.92582682e-02, 1.49519112e-01,\n",
       "       1.87213607e-03, 2.03794339e-03, 6.09441153e-03, 1.94182152e-03,\n",
       "       2.56788705e-03, 5.48626365e-03, 1.09656719e-03, 9.45466183e-03,\n",
       "       8.78168451e-04, 3.62419859e-04, 6.99514915e-04, 1.22864701e-02,\n",
       "       1.03892791e-03, 3.93394636e-04, 5.17419154e-04, 1.02709941e-02,\n",
       "       3.39143795e-03, 4.82379261e-04, 1.06964953e-03, 8.14483475e-03,\n",
       "       1.50211074e-03, 1.05260892e-02, 1.17114890e-03, 9.48095662e-03,\n",
       "       2.20638672e-03, 4.14044515e-04, 9.57759374e-04, 4.29786834e-03,\n",
       "       1.07405186e-03, 3.17501479e-04, 2.23310902e-04, 3.85270188e-03,\n",
       "       5.19630181e-04, 5.18054794e-04, 9.59014473e-04, 1.01503186e-03,\n",
       "       5.65002673e-04, 1.03372331e-03, 3.61939870e-04, 1.73404264e-02,\n",
       "       1.46499481e-03, 1.23092461e-03, 4.83760465e-03, 1.63086639e-02,\n",
       "       5.00046694e-03, 5.70446756e-04, 1.76192622e-01, 1.44935387e-01,\n",
       "       7.72793273e-04, 3.67663187e-03, 6.00596634e-04, 1.71365380e-02,\n",
       "       1.66162823e-03, 1.63819261e-03, 1.36467329e-03, 1.71124514e-02,\n",
       "       1.29123496e-03, 1.13296932e-03, 1.47753012e-03, 4.07125343e-03,\n",
       "       9.37215461e-04, 9.04415907e-04, 9.24993768e-04, 1.49662269e-02,\n",
       "       2.37988029e-03, 2.86910216e-04, 4.61121398e-03, 1.51641235e-02,\n",
       "       9.59527423e-04, 9.80422777e-05, 4.25263018e-03, 4.92617492e-03,\n",
       "       1.33403638e-03, 9.07911922e-04, 3.31544411e-04, 1.66772441e-03,\n",
       "       5.86055981e-04, 8.68660513e-04, 1.26883342e-03, 5.64665213e-03,\n",
       "       1.11916059e-03, 8.71284129e-04, 6.39715444e-04, 7.96852366e-04,\n",
       "       5.68592698e-04, 4.43202600e-04, 2.08601941e-03, 6.83981184e-03,\n",
       "       6.01132870e-04, 2.63083720e-03, 1.01063009e-02, 1.27488434e-02,\n",
       "       1.25117403e-03, 7.82421009e-04, 7.85658263e-03, 3.90629824e-03])"
      ]
     },
     "execution_count": 4,
     "metadata": {},
     "output_type": "execute_result"
    }
   ],
   "source": [
    "experiment.model.feature_importances_"
   ]
  },
  {
   "cell_type": "code",
   "execution_count": 8,
   "metadata": {},
   "outputs": [
    {
     "data": {
      "text/plain": [
       "array([ 0, 50,  3, 51,  2, 43, 55, 59, 47, 71, 67, 95, 15, 25, 19, 94, 27,\n",
       "       11, 23, 98, 91,  6,  1, 83,  9, 48, 75, 46, 70, 31, 74, 63, 99, 35,\n",
       "       53, 20, 93,  8, 68, 28, 90,  5,  7,  4, 79, 56, 57, 24, 62, 44, 58,\n",
       "       76, 60, 82, 96, 45, 26, 61, 84, 10, 32, 22, 16, 41, 39, 72, 38, 30,\n",
       "       64, 66, 77, 65, 12, 85, 81, 87, 97, 52, 14, 86, 92, 54, 80, 49, 88,\n",
       "       40, 36, 37, 18, 21, 89, 29, 17, 13, 42, 78, 33, 69, 34, 73])"
      ]
     },
     "execution_count": 8,
     "metadata": {},
     "output_type": "execute_result"
    }
   ],
   "source": [
    "features_sorted_by_importance = np.argsort(experiment.model.feature_importances_)[::-1]\n",
    "features_sorted_by_importance"
   ]
  },
  {
   "cell_type": "code",
   "execution_count": 9,
   "metadata": {},
   "outputs": [
    {
     "data": {
      "text/plain": [
       "array([1.78298816e-01, 1.76192622e-01, 1.49519112e-01, 1.44935387e-01,\n",
       "       1.92582682e-02, 1.73404264e-02, 1.71365380e-02, 1.71124514e-02,\n",
       "       1.63086639e-02, 1.51641235e-02, 1.49662269e-02, 1.27488434e-02,\n",
       "       1.22864701e-02, 1.05260892e-02, 1.02709941e-02, 1.01063009e-02,\n",
       "       9.48095662e-03, 9.45466183e-03, 8.14483475e-03, 7.85658263e-03,\n",
       "       6.83981184e-03, 6.09441153e-03, 5.75113954e-03, 5.64665213e-03,\n",
       "       5.48626365e-03, 5.00046694e-03, 4.92617492e-03, 4.83760465e-03,\n",
       "       4.61121398e-03, 4.29786834e-03, 4.25263018e-03, 4.07125343e-03,\n",
       "       3.90629824e-03, 3.85270188e-03, 3.67663187e-03, 3.39143795e-03,\n",
       "       2.63083720e-03, 2.56788705e-03, 2.37988029e-03, 2.20638672e-03,\n",
       "       2.08601941e-03, 2.03794339e-03, 1.94182152e-03, 1.87213607e-03,\n",
       "       1.66772441e-03, 1.66162823e-03, 1.63819261e-03, 1.50211074e-03,\n",
       "       1.47753012e-03, 1.46499481e-03, 1.36467329e-03, 1.33403638e-03,\n",
       "       1.29123496e-03, 1.26883342e-03, 1.25117403e-03, 1.23092461e-03,\n",
       "       1.17114890e-03, 1.13296932e-03, 1.11916059e-03, 1.09656719e-03,\n",
       "       1.07405186e-03, 1.06964953e-03, 1.03892791e-03, 1.03372331e-03,\n",
       "       1.01503186e-03, 9.59527423e-04, 9.59014473e-04, 9.57759374e-04,\n",
       "       9.37215461e-04, 9.24993768e-04, 9.07911922e-04, 9.04415907e-04,\n",
       "       8.78168451e-04, 8.71284129e-04, 8.68660513e-04, 7.96852366e-04,\n",
       "       7.82421009e-04, 7.72793273e-04, 6.99514915e-04, 6.39715444e-04,\n",
       "       6.01132870e-04, 6.00596634e-04, 5.86055981e-04, 5.70446756e-04,\n",
       "       5.68592698e-04, 5.65002673e-04, 5.19630181e-04, 5.18054794e-04,\n",
       "       5.17419154e-04, 4.82379261e-04, 4.43202600e-04, 4.14044515e-04,\n",
       "       3.93394636e-04, 3.62419859e-04, 3.61939870e-04, 3.31544411e-04,\n",
       "       3.17501479e-04, 2.86910216e-04, 2.23310902e-04, 9.80422777e-05])"
      ]
     },
     "execution_count": 9,
     "metadata": {},
     "output_type": "execute_result"
    }
   ],
   "source": [
    "experiment.model.feature_importances_[features_sorted_by_importance]"
   ]
  },
  {
   "cell_type": "code",
   "execution_count": 10,
   "metadata": {},
   "outputs": [],
   "source": [
    "simulation_dir = \"./simulation/fig1a-6561\"\n",
    "experiment_name = \"1\"\n",
    "experiment = Experiment(simulation_dir, experiment_name)"
   ]
  },
  {
   "cell_type": "code",
   "execution_count": 11,
   "metadata": {},
   "outputs": [
    {
     "data": {
      "text/plain": [
       "array([ 0,  1,  3, 53,  5, 51, 97, 69, 50, 83, 45, 25, 35, 99, 63, 85, 77,\n",
       "       81, 27, 93,  8,  9, 57, 98, 48, 68, 23, 61, 37,  4, 96, 55,  7, 43,\n",
       "       21, 82, 52,  2, 32, 60, 17, 19, 73, 24, 84, 79, 56, 72, 39, 29, 91,\n",
       "       92, 89, 87, 80, 13, 86, 74, 16, 31, 95, 10, 33, 58, 88, 36, 30, 75,\n",
       "       49, 46, 65, 67, 71, 40, 28, 78, 22, 59, 12, 15, 47, 90,  6, 11, 18,\n",
       "       62, 41, 64, 34, 94, 76, 66, 54, 70, 26, 44, 20, 14, 42, 38])"
      ]
     },
     "execution_count": 11,
     "metadata": {},
     "output_type": "execute_result"
    }
   ],
   "source": [
    "features_sorted_by_importance = np.argsort(experiment.model.feature_importances_)[::-1]\n",
    "features_sorted_by_importance"
   ]
  },
  {
   "cell_type": "code",
   "execution_count": 12,
   "metadata": {},
   "outputs": [],
   "source": [
    "simulation_dir = \"./simulation/fig1a-6561\"\n",
    "experiment_name = \"2\"\n",
    "experiment = Experiment(simulation_dir, experiment_name)"
   ]
  },
  {
   "cell_type": "code",
   "execution_count": 13,
   "metadata": {},
   "outputs": [
    {
     "data": {
      "text/plain": [
       "array([ 0,  3, 50, 51,  1, 99, 98, 11, 35, 95, 91, 71, 53,  2, 59, 76, 79,\n",
       "       19, 43, 83,  7, 75, 55,  4, 67, 47, 62, 46, 87, 84, 77, 58, 74, 18,\n",
       "        6, 42, 82, 31, 48, 54, 65, 96, 27, 94, 23, 68, 44, 22,  5, 16, 90,\n",
       "       69, 86, 66,  8, 28, 34, 26, 10, 36, 14, 73, 61, 52, 80, 38, 12, 64,\n",
       "       70, 40, 92, 41, 88, 78, 97, 24, 20, 29, 72, 32, 56, 30, 25, 93, 33,\n",
       "       60, 17, 37, 63, 15, 81,  9, 57, 21, 85, 45, 89, 49, 13, 39])"
      ]
     },
     "execution_count": 13,
     "metadata": {},
     "output_type": "execute_result"
    }
   ],
   "source": [
    "features_sorted_by_importance = np.argsort(experiment.model.feature_importances_)[::-1]\n",
    "features_sorted_by_importance"
   ]
  },
  {
   "cell_type": "code",
   "execution_count": 14,
   "metadata": {},
   "outputs": [],
   "source": [
    "simulation_dir = \"./simulation/fig1a-6561\"\n",
    "experiment_name = \"3\"\n",
    "experiment = Experiment(simulation_dir, experiment_name)"
   ]
  },
  {
   "cell_type": "code",
   "execution_count": 15,
   "metadata": {},
   "outputs": [
    {
     "data": {
      "text/plain": [
       "array([ 0, 50,  3, 51,  1, 99, 75, 89, 95, 35, 59, 23,  7, 27,  4, 25, 93,\n",
       "       79, 15, 19, 67, 69, 97, 98, 55, 71, 43, 31,  5, 53, 46, 77, 72, 74,\n",
       "       88, 66, 12, 82, 18, 26, 11, 91, 41, 30, 96,  2, 80, 48, 10, 76, 94,\n",
       "       24, 87, 70, 42, 40, 16, 54, 20, 34, 60, 21, 86, 49, 63, 83, 56, 39,\n",
       "       92, 52,  8, 14, 44,  6, 13, 38, 29, 65, 57, 28, 64, 68, 36, 45, 22,\n",
       "       32, 58, 84, 62, 90, 85, 78, 61, 17,  9, 33, 81, 47, 37, 73])"
      ]
     },
     "execution_count": 15,
     "metadata": {},
     "output_type": "execute_result"
    }
   ],
   "source": [
    "features_sorted_by_importance = np.argsort(experiment.model.feature_importances_)[::-1]\n",
    "features_sorted_by_importance"
   ]
  },
  {
   "cell_type": "code",
   "execution_count": 16,
   "metadata": {},
   "outputs": [],
   "source": [
    "simulation_dir = \"./simulation/fig1a-6561\"\n",
    "experiment_name = \"4\"\n",
    "experiment = Experiment(simulation_dir, experiment_name)"
   ]
  },
  {
   "cell_type": "code",
   "execution_count": 17,
   "metadata": {},
   "outputs": [
    {
     "data": {
      "text/plain": [
       "array([51,  0, 53,  3, 50, 99, 43, 35, 83, 19, 55, 49, 31, 85, 27, 91,  1,\n",
       "       47, 70, 48, 73, 14, 98, 75, 95, 59, 46,  7, 88, 82, 54, 11, 15, 90,\n",
       "        5, 71,  4,  2, 30, 67, 13, 12, 68, 37, 40, 52, 60, 77, 92, 96, 32,\n",
       "       29, 34, 23, 16, 26, 24, 87, 10,  8, 45, 20, 61, 22, 38, 56, 72, 18,\n",
       "       58, 86, 41, 76, 25, 21, 42, 36, 84, 89, 97, 44, 79, 94,  9, 63,  6,\n",
       "       93, 57, 78, 33, 28, 81, 62, 74, 64, 17, 66, 65, 80, 39, 69])"
      ]
     },
     "execution_count": 17,
     "metadata": {},
     "output_type": "execute_result"
    }
   ],
   "source": [
    "features_sorted_by_importance = np.argsort(experiment.model.feature_importances_)[::-1]\n",
    "features_sorted_by_importance"
   ]
  },
  {
   "cell_type": "code",
   "execution_count": null,
   "metadata": {},
   "outputs": [],
   "source": [
    "######### feature importances \n",
    "#importances = tree_clf.feature_importances_\n",
    "#sorted_indices = np.argsort(importances)[::-1]\n",
    "#sorted_importances = importances[sorted_indices]\n",
    "#cumulative_importances = np.cumsum(sorted_importances)\n",
    "sorted_indices, sorted_importances, cumulative_importances = \\\n",
    "plot_feature_importances(tree_clf, n_features = \"all\", return_arrays = True)"
   ]
  },
  {
   "cell_type": "code",
   "execution_count": 1,
   "metadata": {},
   "outputs": [
    {
     "ename": "NameError",
     "evalue": "name 'experiment' is not defined",
     "output_type": "error",
     "traceback": [
      "\u001b[0;31m---------------------------------------------------------------------------\u001b[0m",
      "\u001b[0;31mNameError\u001b[0m                                 Traceback (most recent call last)",
      "\u001b[0;32m<ipython-input-1-00566bcfe1d1>\u001b[0m in \u001b[0;36m<module>\u001b[0;34m\u001b[0m\n\u001b[0;32m----> 1\u001b[0;31m \u001b[0mexperiment\u001b[0m\u001b[0;34m.\u001b[0m\u001b[0mmodel\u001b[0m\u001b[0;34m.\u001b[0m\u001b[0mfeature_importances_\u001b[0m\u001b[0;34m\u001b[0m\u001b[0m\n\u001b[0m",
      "\u001b[0;31mNameError\u001b[0m: name 'experiment' is not defined"
     ]
    }
   ],
   "source": [
    "experiment.model.feature_importances_"
   ]
  },
  {
   "cell_type": "code",
   "execution_count": null,
   "metadata": {},
   "outputs": [],
   "source": [
    "a = np.array([])\n",
    "b =  np.array([1,2,3])\n",
    "c = np.vstack"
   ]
  },
  {
   "cell_type": "code",
   "execution_count": 8,
   "metadata": {},
   "outputs": [
    {
     "data": {
      "text/plain": [
       "array([2.5, 3.5, 4.5])"
      ]
     },
     "execution_count": 8,
     "metadata": {},
     "output_type": "execute_result"
    }
   ],
   "source": [
    "ar = np.array([[1,2,3], [4,5,6]])\n",
    "ar2 = [np.array([1,2,3]), np.array([4,5,6])]\n",
    "np.mean(ar2,axis = 0)"
   ]
  },
  {
   "cell_type": "code",
   "execution_count": 9,
   "metadata": {},
   "outputs": [
    {
     "data": {
      "text/plain": [
       "array([2.5, 3.5, 4.5])"
      ]
     },
     "execution_count": 9,
     "metadata": {},
     "output_type": "execute_result"
    }
   ],
   "source": [
    "np.mean(ar2,axis = 0)"
   ]
  },
  {
   "cell_type": "code",
   "execution_count": null,
   "metadata": {},
   "outputs": [],
   "source": []
  }
 ],
 "metadata": {
  "kernelspec": {
   "display_name": "Python 3",
   "language": "python",
   "name": "python3"
  },
  "language_info": {
   "codemirror_mode": {
    "name": "ipython",
    "version": 3
   },
   "file_extension": ".py",
   "mimetype": "text/x-python",
   "name": "python",
   "nbconvert_exporter": "python",
   "pygments_lexer": "ipython3",
   "version": "3.6.6"
  }
 },
 "nbformat": 4,
 "nbformat_minor": 2
}
