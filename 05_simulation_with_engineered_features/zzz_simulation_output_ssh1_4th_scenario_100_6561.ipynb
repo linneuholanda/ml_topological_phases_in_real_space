{
 "cells": [
  {
   "cell_type": "markdown",
   "metadata": {
    "papermill": {
     "duration": 0.056858,
     "end_time": "2020-07-16T02:34:28.824499",
     "exception": false,
     "start_time": "2020-07-16T02:34:28.767641",
     "status": "completed"
    },
    "tags": []
   },
   "source": [
    "# Simulation template \n",
    "\n",
    "In this notebook we run the machine learning analysis of topological phase transitions occurring  in both nearest-neighbours SSH models (ssh1) and second neighbours models (ssh2) as decribed in the paper [Machine learning topological phases in real space](https://arxiv.org/abs/1901.01963). Here the simulation is run with features generated from fourier components in the first scenario. This scenario is characterized by using only the EVEN wavevector space eigenmodes, computed from ALL real space components."
   ]
  },
  {
   "cell_type": "markdown",
   "metadata": {
    "papermill": {
     "duration": 0.016174,
     "end_time": "2020-07-16T02:34:28.860462",
     "exception": false,
     "start_time": "2020-07-16T02:34:28.844288",
     "status": "completed"
    },
    "tags": []
   },
   "source": [
    "## Defining parameters"
   ]
  },
  {
   "cell_type": "code",
   "execution_count": 1,
   "metadata": {
    "execution": {
     "iopub.execute_input": "2020-07-16T02:34:28.900041Z",
     "iopub.status.busy": "2020-07-16T02:34:28.899707Z",
     "iopub.status.idle": "2020-07-16T02:34:29.481066Z",
     "shell.execute_reply": "2020-07-16T02:34:29.480695Z"
    },
    "papermill": {
     "duration": 0.602432,
     "end_time": "2020-07-16T02:34:29.481126",
     "exception": false,
     "start_time": "2020-07-16T02:34:28.878694",
     "status": "completed"
    },
    "tags": []
   },
   "outputs": [
    {
     "name": "stdout",
     "output_type": "stream",
     "text": [
      "CPU times: user 736 ms, sys: 276 ms, total: 1.01 s\n",
      "Wall time: 575 ms\n"
     ]
    }
   ],
   "source": [
    "%%time\n",
    "%load_ext autoreload\n",
    "%autoreload 2\n",
    "from simulation import *"
   ]
  },
  {
   "cell_type": "code",
   "execution_count": 2,
   "metadata": {
    "execution": {
     "iopub.execute_input": "2020-07-16T02:34:29.517628Z",
     "iopub.status.busy": "2020-07-16T02:34:29.517227Z",
     "iopub.status.idle": "2020-07-16T02:34:29.530060Z",
     "shell.execute_reply": "2020-07-16T02:34:29.530371Z"
    },
    "papermill": {
     "duration": 0.032184,
     "end_time": "2020-07-16T02:34:29.530440",
     "exception": false,
     "start_time": "2020-07-16T02:34:29.498256",
     "status": "completed"
    },
    "tags": [
     "parameters"
    ]
   },
   "outputs": [
    {
     "name": "stdout",
     "output_type": "stream",
     "text": [
      "CPU times: user 4 µs, sys: 1e+03 ns, total: 5 µs\n",
      "Wall time: 8.11 µs\n"
     ]
    }
   ],
   "source": [
    "%%time\n",
    "### Dataset and simulation parameters\n",
    "#csv_path = SSH2_PERIODIC_100_6561_CSV \n",
    "csv_path = SSH1_PERIODIC_100_6561_CSV \n",
    "model_name = \"DecisionTreeClassifier\"\n",
    "model_kw = {\"criterion\":\"entropy\"}\n",
    "allowed_windings = [0,1]\n",
    "#allowed_windings = [-1,0,1,2]\n",
    "simulation_dir = SSH1_PERIODIC_1ST_SCENARIO_100_6561_SIMULATION_DIR\n",
    "#simulation_dir = SSH2_PERIODIC_ENGINEERED_100_6561_SIMULATION_DIR\n",
    "val_split = 0.9  \n",
    "features_to_use = None\n",
    "shuffle_features = False\n",
    "random_state = 763\n",
    "\n",
    "### Fourier features\n",
    "fourier_mode = \"dst\"\n",
    "fourier_features_to_use = None\n",
    "fourier_real = \"imag\"\n",
    "fourier_normalize = False\n",
    "fourier_fillna = False\n",
    "\n",
    "### Running a simulation\n",
    "n_experiments = 5\n",
    "start_n = 0\n",
    "fit_params = None\n",
    "#mode=mode\n",
    "shuffle_rows = True\n",
    "pred_params = None\n",
    "random_features = False\n",
    "######### DON'T SET THIS TO TRUE UNLESS YOUR DATASET IS SMALL!! WILL FLOOD YOUR MEMORY!!!\n",
    "store_in_lists = False   \n",
    "########## BELOW ARE THE PARAMETERS THAT CONTROL WHAT WILL BE SAVED\n",
    "save_eigenvector=True\n",
    "save_hamiltonian=True \n",
    "save_accuracy=True \n",
    "save_models=True"
   ]
  },
  {
   "cell_type": "code",
   "execution_count": 3,
   "metadata": {
    "execution": {
     "iopub.execute_input": "2020-07-16T02:34:29.566810Z",
     "iopub.status.busy": "2020-07-16T02:34:29.566490Z",
     "iopub.status.idle": "2020-07-16T02:34:29.664634Z",
     "shell.execute_reply": "2020-07-16T02:34:29.662296Z"
    },
    "papermill": {
     "duration": 0.118118,
     "end_time": "2020-07-16T02:34:29.664929",
     "exception": false,
     "start_time": "2020-07-16T02:34:29.546811",
     "status": "completed"
    },
    "tags": [
     "injected-parameters"
    ]
   },
   "outputs": [],
   "source": [
    "# Parameters\n",
    "model_kw = {\"criterion\": \"entropy\"}\n",
    "allowed_windings = [0, 1]\n",
    "val_split = 0.9\n",
    "features_to_use = [0, 1, 2, 3, 49, 50]\n",
    "shuffle_features = False\n",
    "n_experiments = 100\n",
    "start_n = 0\n",
    "fit_params = None\n",
    "shuffle_rows = True\n",
    "pred_params = None\n",
    "random_features = False\n",
    "store_in_lists = False\n",
    "save_eigenvector = True\n",
    "save_hamiltonian = True\n",
    "save_accuracy = True\n",
    "save_models = True\n",
    "csv_path = \"/home/rio/ssh_csvs/ssh1/periodic_100_6561.csv\"\n",
    "model_name = \"DecisionTreeClassifier\"\n",
    "simulation_dir = \"/home/rio/ssh_simulations/ssh1/periodic_4th_scenario_100_6561\"\n",
    "random_state = 253638464\n",
    "fourier_features_to_use = [1, 2, 14, 36, 48, 49]\n",
    "fourier_mode = \"dct\"\n",
    "fourier_real = None\n",
    "fourier_normalize = False\n",
    "fourier_fillna = False\n"
   ]
  },
  {
   "cell_type": "code",
   "execution_count": 4,
   "metadata": {
    "execution": {
     "iopub.execute_input": "2020-07-16T02:34:29.732332Z",
     "iopub.status.busy": "2020-07-16T02:34:29.732012Z",
     "iopub.status.idle": "2020-07-16T02:34:35.251363Z",
     "shell.execute_reply": "2020-07-16T02:34:35.251613Z"
    },
    "papermill": {
     "duration": 5.539981,
     "end_time": "2020-07-16T02:34:35.251681",
     "exception": false,
     "start_time": "2020-07-16T02:34:29.711700",
     "status": "completed"
    },
    "tags": []
   },
   "outputs": [
    {
     "name": "stdout",
     "output_type": "stream",
     "text": [
      "Info on all data: \n",
      "\n",
      "<class 'pandas.core.frame.DataFrame'>\n",
      "Int64Index: 656100 entries, 0 to 656099\n",
      "Columns: 108 entries, id to feat99\n",
      "dtypes: float64(103), int32(3), object(2)\n",
      "memory usage: 538.1+ MB\n",
      "CPU times: user 5.44 s, sys: 529 ms, total: 5.97 s\n",
      "Wall time: 5.49 s\n"
     ]
    },
    {
     "data": {
      "text/html": [
       "<div>\n",
       "<style scoped>\n",
       "    .dataframe tbody tr th:only-of-type {\n",
       "        vertical-align: middle;\n",
       "    }\n",
       "\n",
       "    .dataframe tbody tr th {\n",
       "        vertical-align: top;\n",
       "    }\n",
       "\n",
       "    .dataframe thead th {\n",
       "        text-align: right;\n",
       "    }\n",
       "</style>\n",
       "<table border=\"1\" class=\"dataframe\">\n",
       "  <thead>\n",
       "    <tr style=\"text-align: right;\">\n",
       "      <th></th>\n",
       "      <th>id</th>\n",
       "      <th>path</th>\n",
       "      <th>t1</th>\n",
       "      <th>t2</th>\n",
       "      <th>winding</th>\n",
       "      <th>phase</th>\n",
       "      <th>pred_phase</th>\n",
       "      <th>type_of</th>\n",
       "      <th>feat0</th>\n",
       "      <th>feat1</th>\n",
       "      <th>...</th>\n",
       "      <th>feat90</th>\n",
       "      <th>feat91</th>\n",
       "      <th>feat92</th>\n",
       "      <th>feat93</th>\n",
       "      <th>feat94</th>\n",
       "      <th>feat95</th>\n",
       "      <th>feat96</th>\n",
       "      <th>feat97</th>\n",
       "      <th>feat98</th>\n",
       "      <th>feat99</th>\n",
       "    </tr>\n",
       "  </thead>\n",
       "  <tbody>\n",
       "    <tr>\n",
       "      <th>0</th>\n",
       "      <td>0</td>\n",
       "      <td>H_-2_-2_0.509296.dat</td>\n",
       "      <td>-2.0</td>\n",
       "      <td>-2.0</td>\n",
       "      <td>0.509296</td>\n",
       "      <td>999</td>\n",
       "      <td>666</td>\n",
       "      <td>test</td>\n",
       "      <td>0.100000</td>\n",
       "      <td>0.100000</td>\n",
       "      <td>...</td>\n",
       "      <td>0.100000</td>\n",
       "      <td>0.100000</td>\n",
       "      <td>0.100000</td>\n",
       "      <td>0.100000</td>\n",
       "      <td>0.100000</td>\n",
       "      <td>0.100000</td>\n",
       "      <td>0.100000</td>\n",
       "      <td>0.100000</td>\n",
       "      <td>0.100000</td>\n",
       "      <td>0.100000</td>\n",
       "    </tr>\n",
       "    <tr>\n",
       "      <th>1</th>\n",
       "      <td>0</td>\n",
       "      <td>H_-2_-2_0.509296.dat</td>\n",
       "      <td>-2.0</td>\n",
       "      <td>-2.0</td>\n",
       "      <td>0.509296</td>\n",
       "      <td>999</td>\n",
       "      <td>666</td>\n",
       "      <td>test</td>\n",
       "      <td>0.141421</td>\n",
       "      <td>0.141142</td>\n",
       "      <td>...</td>\n",
       "      <td>0.114412</td>\n",
       "      <td>0.108967</td>\n",
       "      <td>0.123928</td>\n",
       "      <td>0.119406</td>\n",
       "      <td>0.131490</td>\n",
       "      <td>0.127962</td>\n",
       "      <td>0.136978</td>\n",
       "      <td>0.134500</td>\n",
       "      <td>0.140306</td>\n",
       "      <td>0.138916</td>\n",
       "    </tr>\n",
       "    <tr>\n",
       "      <th>2</th>\n",
       "      <td>0</td>\n",
       "      <td>H_-2_-2_0.509296.dat</td>\n",
       "      <td>-2.0</td>\n",
       "      <td>-2.0</td>\n",
       "      <td>0.509296</td>\n",
       "      <td>999</td>\n",
       "      <td>666</td>\n",
       "      <td>test</td>\n",
       "      <td>0.141421</td>\n",
       "      <td>0.140306</td>\n",
       "      <td>...</td>\n",
       "      <td>0.043702</td>\n",
       "      <td>0.026500</td>\n",
       "      <td>0.075777</td>\n",
       "      <td>0.060214</td>\n",
       "      <td>0.103092</td>\n",
       "      <td>0.090145</td>\n",
       "      <td>0.123928</td>\n",
       "      <td>0.114412</td>\n",
       "      <td>0.136978</td>\n",
       "      <td>0.131490</td>\n",
       "    </tr>\n",
       "    <tr>\n",
       "      <th>3</th>\n",
       "      <td>0</td>\n",
       "      <td>H_-2_-2_0.509296.dat</td>\n",
       "      <td>-2.0</td>\n",
       "      <td>-2.0</td>\n",
       "      <td>0.509296</td>\n",
       "      <td>999</td>\n",
       "      <td>666</td>\n",
       "      <td>test</td>\n",
       "      <td>-0.100000</td>\n",
       "      <td>0.100000</td>\n",
       "      <td>...</td>\n",
       "      <td>-0.100000</td>\n",
       "      <td>0.100000</td>\n",
       "      <td>-0.100000</td>\n",
       "      <td>0.100000</td>\n",
       "      <td>-0.100000</td>\n",
       "      <td>0.100000</td>\n",
       "      <td>-0.100000</td>\n",
       "      <td>0.100000</td>\n",
       "      <td>-0.100000</td>\n",
       "      <td>0.100000</td>\n",
       "    </tr>\n",
       "    <tr>\n",
       "      <th>4</th>\n",
       "      <td>0</td>\n",
       "      <td>H_-2_-2_0.509296.dat</td>\n",
       "      <td>-2.0</td>\n",
       "      <td>-2.0</td>\n",
       "      <td>0.509296</td>\n",
       "      <td>999</td>\n",
       "      <td>666</td>\n",
       "      <td>test</td>\n",
       "      <td>0.000509</td>\n",
       "      <td>-0.008372</td>\n",
       "      <td>...</td>\n",
       "      <td>-0.082713</td>\n",
       "      <td>-0.089753</td>\n",
       "      <td>-0.067684</td>\n",
       "      <td>-0.075347</td>\n",
       "      <td>-0.051587</td>\n",
       "      <td>-0.059753</td>\n",
       "      <td>-0.034677</td>\n",
       "      <td>-0.043217</td>\n",
       "      <td>-0.017220</td>\n",
       "      <td>-0.026000</td>\n",
       "    </tr>\n",
       "  </tbody>\n",
       "</table>\n",
       "<p>5 rows × 108 columns</p>\n",
       "</div>"
      ],
      "text/plain": [
       "   id                  path   t1   t2   winding  phase  pred_phase type_of  \\\n",
       "0   0  H_-2_-2_0.509296.dat -2.0 -2.0  0.509296    999         666    test   \n",
       "1   0  H_-2_-2_0.509296.dat -2.0 -2.0  0.509296    999         666    test   \n",
       "2   0  H_-2_-2_0.509296.dat -2.0 -2.0  0.509296    999         666    test   \n",
       "3   0  H_-2_-2_0.509296.dat -2.0 -2.0  0.509296    999         666    test   \n",
       "4   0  H_-2_-2_0.509296.dat -2.0 -2.0  0.509296    999         666    test   \n",
       "\n",
       "      feat0     feat1  ...    feat90    feat91    feat92    feat93    feat94  \\\n",
       "0  0.100000  0.100000  ...  0.100000  0.100000  0.100000  0.100000  0.100000   \n",
       "1  0.141421  0.141142  ...  0.114412  0.108967  0.123928  0.119406  0.131490   \n",
       "2  0.141421  0.140306  ...  0.043702  0.026500  0.075777  0.060214  0.103092   \n",
       "3 -0.100000  0.100000  ... -0.100000  0.100000 -0.100000  0.100000 -0.100000   \n",
       "4  0.000509 -0.008372  ... -0.082713 -0.089753 -0.067684 -0.075347 -0.051587   \n",
       "\n",
       "     feat95    feat96    feat97    feat98    feat99  \n",
       "0  0.100000  0.100000  0.100000  0.100000  0.100000  \n",
       "1  0.127962  0.136978  0.134500  0.140306  0.138916  \n",
       "2  0.090145  0.123928  0.114412  0.136978  0.131490  \n",
       "3  0.100000 -0.100000  0.100000 -0.100000  0.100000  \n",
       "4 -0.059753 -0.034677 -0.043217 -0.017220 -0.026000  \n",
       "\n",
       "[5 rows x 108 columns]"
      ]
     },
     "execution_count": 4,
     "metadata": {},
     "output_type": "execute_result"
    }
   ],
   "source": [
    "%%time\n",
    "#Starting an instance of Simulation with a decision tree\n",
    "model = DecisionTreeClassifier(criterion=\"entropy\")\n",
    "#dict_args = {\"csv_path\":csv_path, \"model\":model, \"allowed_windings\":allowed_windings,\\\n",
    "#             \"simulation_dir\":simulation_dir, \"val_split\":val_split, \"features_to_use\":features_to_use,\\\n",
    "#            \"shuffle_features\":shuffle_features, \"random_state\":random_state}\n",
    "simulation = Simulation(csv_path,model_name,model_kw,allowed_windings,simulation_dir,val_split,features_to_use,\\\n",
    "                       shuffle_features,fourier_mode,fourier_features_to_use,fourier_real,\\\n",
    "                       fourier_normalize, fourier_fillna , random_state)\n",
    "#simulation = Simulation(**dict_args)\n",
    "\n",
    "\n",
    "#(self, csv_path, model_name, model_kw, allowed_windings, simulation_dir = None, val_split = 0, \n",
    "# features_to_use = None, shuffle_features = False, fourier_mode=None, fourier_features_to_use=None,\n",
    "# fourier_real = False, fourier_normalize = False, Fourier_fillna=False, random_state = None):\n",
    "\n",
    "\n",
    "\n",
    "print(\"Info on all data: \\n\")\n",
    "simulation.dataframe.info()\n",
    "simulation.dataframe.head()"
   ]
  },
  {
   "cell_type": "markdown",
   "metadata": {
    "papermill": {
     "duration": 0.019232,
     "end_time": "2020-07-16T02:34:35.288522",
     "exception": false,
     "start_time": "2020-07-16T02:34:35.269290",
     "status": "completed"
    },
    "tags": []
   },
   "source": [
    "####  Fourier features"
   ]
  },
  {
   "cell_type": "code",
   "execution_count": 5,
   "metadata": {
    "execution": {
     "iopub.execute_input": "2020-07-16T02:34:35.324842Z",
     "iopub.status.busy": "2020-07-16T02:34:35.324533Z",
     "iopub.status.idle": "2020-07-16T02:34:35.409907Z",
     "shell.execute_reply": "2020-07-16T02:34:35.409589Z"
    },
    "papermill": {
     "duration": 0.104181,
     "end_time": "2020-07-16T02:34:35.409960",
     "exception": false,
     "start_time": "2020-07-16T02:34:35.305779",
     "status": "completed"
    },
    "tags": []
   },
   "outputs": [
    {
     "name": "stdout",
     "output_type": "stream",
     "text": [
      "<class 'pandas.core.frame.DataFrame'>\n",
      "Int64Index: 656100 entries, 0 to 656099\n",
      "Data columns (total 14 columns):\n",
      " #   Column      Non-Null Count   Dtype  \n",
      "---  ------      --------------   -----  \n",
      " 0   id          656100 non-null  int32  \n",
      " 1   path        656100 non-null  object \n",
      " 2   t1          656100 non-null  float64\n",
      " 3   t2          656100 non-null  float64\n",
      " 4   winding     656100 non-null  float64\n",
      " 5   phase       656100 non-null  int32  \n",
      " 6   pred_phase  656100 non-null  int32  \n",
      " 7   type_of     656100 non-null  object \n",
      " 8   dct_feat1   656100 non-null  float64\n",
      " 9   dct_feat2   656100 non-null  float64\n",
      " 10  dct_feat14  656100 non-null  float64\n",
      " 11  dct_feat36  656100 non-null  float64\n",
      " 12  dct_feat48  656100 non-null  float64\n",
      " 13  dct_feat49  656100 non-null  float64\n",
      "dtypes: float64(9), int32(3), object(2)\n",
      "memory usage: 67.6+ MB\n",
      "CPU times: user 75.7 ms, sys: 0 ns, total: 75.7 ms\n",
      "Wall time: 75 ms\n"
     ]
    }
   ],
   "source": [
    "%%time\n",
    "#simulation.generate_fourier_df()\n",
    "if simulation.fourier_mode is not None:\n",
    "    simulation.fourier_dataframe.info() \n",
    "    simulation.fourier_dataframe.sample(15)\n"
   ]
  },
  {
   "cell_type": "code",
   "execution_count": 6,
   "metadata": {
    "execution": {
     "iopub.execute_input": "2020-07-16T02:34:35.448791Z",
     "iopub.status.busy": "2020-07-16T02:34:35.448472Z",
     "iopub.status.idle": "2020-07-16T02:34:35.460294Z",
     "shell.execute_reply": "2020-07-16T02:34:35.460611Z"
    },
    "papermill": {
     "duration": 0.032745,
     "end_time": "2020-07-16T02:34:35.460681",
     "exception": false,
     "start_time": "2020-07-16T02:34:35.427936",
     "status": "completed"
    },
    "tags": []
   },
   "outputs": [
    {
     "name": "stdout",
     "output_type": "stream",
     "text": [
      "features_to_use: \n",
      "\n",
      "\n",
      "[0, 1, 2, 3, 49, 50]\n",
      "Number of real space features:\n",
      "\n",
      "\n",
      "6\n",
      "\n",
      "\n",
      "fourier_features: \n",
      "\n",
      "\n",
      "['dct_feat1', 'dct_feat2', 'dct_feat14', 'dct_feat36', 'dct_feat48', 'dct_feat49']\n",
      "\n",
      "\n",
      "Number of Fourier features: \n",
      "\n",
      "\n",
      "6\n",
      "\n",
      "\n",
      "Fourier operator: \n",
      "[[ 1.          2.          2.          2.          2.          1.        ]\n",
      " [ 0.99802673  1.9842294   1.27484798 -1.27484798 -1.9842294  -0.99802673]\n",
      " [ 0.9921147   1.93716632 -0.37476263 -0.37476263  1.93716632  0.9921147 ]\n",
      " [ 0.98228725  1.85955297 -1.75261336  1.75261336 -1.85955297 -0.98228725]\n",
      " [-0.99802673  1.9842294   1.27484798 -1.27484798 -1.9842294   0.99802673]\n",
      " [-1.          2.          2.          2.          2.         -1.        ]]\n",
      "\n",
      "\n",
      "Shape of Fourier operator: \n",
      "(6, 6)\n"
     ]
    }
   ],
   "source": [
    "print(\"features_to_use: \")\n",
    "print(\"\\n\")\n",
    "print(simulation.features_to_use)\n",
    "if simulation.features_to_use is not None:\n",
    "    print(\"Number of real space features:\")\n",
    "    print(\"\\n\")\n",
    "    print(len(simulation.features_to_use))\n",
    "print(\"\\n\")\n",
    "print(\"fourier_features: \")\n",
    "print(\"\\n\")\n",
    "print(simulation.fourier_features)\n",
    "print(\"\\n\")\n",
    "if simulation.fourier_features is not None:\n",
    "    print(\"Number of Fourier features: \")\n",
    "    print(\"\\n\")\n",
    "    print(len(simulation.fourier_features))\n",
    "print(\"\\n\")\n",
    "print(\"Fourier operator: \")\n",
    "print(simulation.fourier_operator)\n",
    "print(\"\\n\")\n",
    "if simulation.fourier_operator is not None:\n",
    "    print(\"Shape of Fourier operator: \")\n",
    "    print(simulation.fourier_operator.shape)"
   ]
  },
  {
   "cell_type": "code",
   "execution_count": 7,
   "metadata": {
    "execution": {
     "iopub.execute_input": "2020-07-16T02:34:35.498083Z",
     "iopub.status.busy": "2020-07-16T02:34:35.497774Z",
     "iopub.status.idle": "2020-07-16T02:34:35.557497Z",
     "shell.execute_reply": "2020-07-16T02:34:35.555733Z"
    },
    "papermill": {
     "duration": 0.078844,
     "end_time": "2020-07-16T02:34:35.557752",
     "exception": false,
     "start_time": "2020-07-16T02:34:35.478908",
     "status": "completed"
    },
    "tags": []
   },
   "outputs": [],
   "source": [
    "#a = np.array([1+1j,2+3j,4+8j])\n",
    "#np.imag(a)"
   ]
  },
  {
   "cell_type": "code",
   "execution_count": 8,
   "metadata": {
    "execution": {
     "iopub.execute_input": "2020-07-16T02:34:35.633888Z",
     "iopub.status.busy": "2020-07-16T02:34:35.633581Z",
     "iopub.status.idle": "2020-07-16T02:34:35.643180Z",
     "shell.execute_reply": "2020-07-16T02:34:35.643501Z"
    },
    "papermill": {
     "duration": 0.031651,
     "end_time": "2020-07-16T02:34:35.643573",
     "exception": false,
     "start_time": "2020-07-16T02:34:35.611922",
     "status": "completed"
    },
    "tags": []
   },
   "outputs": [],
   "source": [
    "#plt.plot(np.imag(simulation.fourier_operator[:,0]))"
   ]
  },
  {
   "cell_type": "code",
   "execution_count": 9,
   "metadata": {
    "execution": {
     "iopub.execute_input": "2020-07-16T02:34:35.681486Z",
     "iopub.status.busy": "2020-07-16T02:34:35.681179Z",
     "iopub.status.idle": "2020-07-16T02:34:35.747712Z",
     "shell.execute_reply": "2020-07-16T02:34:35.748261Z"
    },
    "papermill": {
     "duration": 0.086747,
     "end_time": "2020-07-16T02:34:35.748378",
     "exception": false,
     "start_time": "2020-07-16T02:34:35.661631",
     "status": "completed"
    },
    "tags": []
   },
   "outputs": [],
   "source": [
    "#np.sin(np.pi/(50))*2"
   ]
  },
  {
   "cell_type": "code",
   "execution_count": 10,
   "metadata": {
    "execution": {
     "iopub.execute_input": "2020-07-16T02:34:35.808845Z",
     "iopub.status.busy": "2020-07-16T02:34:35.808501Z",
     "iopub.status.idle": "2020-07-16T02:34:35.830199Z",
     "shell.execute_reply": "2020-07-16T02:34:35.830465Z"
    },
    "papermill": {
     "duration": 0.045593,
     "end_time": "2020-07-16T02:34:35.830539",
     "exception": false,
     "start_time": "2020-07-16T02:34:35.784946",
     "status": "completed"
    },
    "tags": []
   },
   "outputs": [],
   "source": [
    "#2*np.sin(np.pi/50*49)"
   ]
  },
  {
   "cell_type": "code",
   "execution_count": 11,
   "metadata": {
    "execution": {
     "iopub.execute_input": "2020-07-16T02:34:35.867588Z",
     "iopub.status.busy": "2020-07-16T02:34:35.867283Z",
     "iopub.status.idle": "2020-07-16T02:34:35.951358Z",
     "shell.execute_reply": "2020-07-16T02:34:35.950124Z"
    },
    "papermill": {
     "duration": 0.103778,
     "end_time": "2020-07-16T02:34:35.951542",
     "exception": false,
     "start_time": "2020-07-16T02:34:35.847764",
     "status": "completed"
    },
    "tags": []
   },
   "outputs": [],
   "source": [
    "#simulation.dataframe.iloc[331456,:]"
   ]
  },
  {
   "cell_type": "code",
   "execution_count": 12,
   "metadata": {
    "execution": {
     "iopub.execute_input": "2020-07-16T02:34:36.027255Z",
     "iopub.status.busy": "2020-07-16T02:34:36.026905Z",
     "iopub.status.idle": "2020-07-16T02:34:36.036841Z",
     "shell.execute_reply": "2020-07-16T02:34:36.037155Z"
    },
    "papermill": {
     "duration": 0.031869,
     "end_time": "2020-07-16T02:34:36.037225",
     "exception": false,
     "start_time": "2020-07-16T02:34:36.005356",
     "status": "completed"
    },
    "tags": []
   },
   "outputs": [],
   "source": [
    "#for ix, obj in enumerate(simulation.dataframe.iloc[331456,:].values):\n",
    "#    print(ix,obj)"
   ]
  },
  {
   "cell_type": "code",
   "execution_count": 13,
   "metadata": {
    "execution": {
     "iopub.execute_input": "2020-07-16T02:34:36.074290Z",
     "iopub.status.busy": "2020-07-16T02:34:36.073957Z",
     "iopub.status.idle": "2020-07-16T02:34:36.139127Z",
     "shell.execute_reply": "2020-07-16T02:34:36.137344Z"
    },
    "papermill": {
     "duration": 0.084384,
     "end_time": "2020-07-16T02:34:36.139384",
     "exception": false,
     "start_time": "2020-07-16T02:34:36.055000",
     "status": "completed"
    },
    "tags": []
   },
   "outputs": [],
   "source": [
    "#simulation.fourier_engineered_dataframe.dct_feat0"
   ]
  },
  {
   "cell_type": "code",
   "execution_count": 14,
   "metadata": {
    "execution": {
     "iopub.execute_input": "2020-07-16T02:34:36.214662Z",
     "iopub.status.busy": "2020-07-16T02:34:36.214345Z",
     "iopub.status.idle": "2020-07-16T02:34:36.224379Z",
     "shell.execute_reply": "2020-07-16T02:34:36.224042Z"
    },
    "papermill": {
     "duration": 0.031591,
     "end_time": "2020-07-16T02:34:36.224441",
     "exception": false,
     "start_time": "2020-07-16T02:34:36.192850",
     "status": "completed"
    },
    "tags": []
   },
   "outputs": [],
   "source": [
    "#simulation.features"
   ]
  },
  {
   "cell_type": "code",
   "execution_count": 15,
   "metadata": {
    "execution": {
     "iopub.execute_input": "2020-07-16T02:34:36.263233Z",
     "iopub.status.busy": "2020-07-16T02:34:36.262929Z",
     "iopub.status.idle": "2020-07-16T02:34:36.334032Z",
     "shell.execute_reply": "2020-07-16T02:34:36.334676Z"
    },
    "papermill": {
     "duration": 0.091664,
     "end_time": "2020-07-16T02:34:36.334832",
     "exception": false,
     "start_time": "2020-07-16T02:34:36.243168",
     "status": "completed"
    },
    "tags": []
   },
   "outputs": [],
   "source": [
    "#simulation.fourier_matrix"
   ]
  },
  {
   "cell_type": "code",
   "execution_count": 16,
   "metadata": {
    "execution": {
     "iopub.execute_input": "2020-07-16T02:34:36.403026Z",
     "iopub.status.busy": "2020-07-16T02:34:36.402695Z",
     "iopub.status.idle": "2020-07-16T02:34:36.415514Z",
     "shell.execute_reply": "2020-07-16T02:34:36.415783Z"
    },
    "papermill": {
     "duration": 0.035794,
     "end_time": "2020-07-16T02:34:36.415858",
     "exception": false,
     "start_time": "2020-07-16T02:34:36.380064",
     "status": "completed"
    },
    "tags": []
   },
   "outputs": [],
   "source": [
    "#1/simulation.n_features*simulation.dataframe.loc[:,simulation.features].sum(axis=1)"
   ]
  },
  {
   "cell_type": "code",
   "execution_count": 17,
   "metadata": {
    "execution": {
     "iopub.execute_input": "2020-07-16T02:34:36.453741Z",
     "iopub.status.busy": "2020-07-16T02:34:36.453416Z",
     "iopub.status.idle": "2020-07-16T02:34:36.535656Z",
     "shell.execute_reply": "2020-07-16T02:34:36.536659Z"
    },
    "papermill": {
     "duration": 0.103315,
     "end_time": "2020-07-16T02:34:36.536889",
     "exception": false,
     "start_time": "2020-07-16T02:34:36.433574",
     "status": "completed"
    },
    "tags": []
   },
   "outputs": [],
   "source": [
    "#df_2 = simulation.fourier_engineered_dataframe[simulation.fourier_engineered_dataframe.phase==2]\n",
    "#df_2.describe()"
   ]
  },
  {
   "cell_type": "code",
   "execution_count": 18,
   "metadata": {
    "execution": {
     "iopub.execute_input": "2020-07-16T02:34:36.618472Z",
     "iopub.status.busy": "2020-07-16T02:34:36.618162Z",
     "iopub.status.idle": "2020-07-16T02:34:36.628181Z",
     "shell.execute_reply": "2020-07-16T02:34:36.627810Z"
    },
    "papermill": {
     "duration": 0.032499,
     "end_time": "2020-07-16T02:34:36.628244",
     "exception": false,
     "start_time": "2020-07-16T02:34:36.595745",
     "status": "completed"
    },
    "tags": []
   },
   "outputs": [],
   "source": [
    "#df_1 = simulation.fourier_engineered_dataframe[simulation.fourier_engineered_dataframe.phase==1]\n",
    "#df_1.describe()"
   ]
  },
  {
   "cell_type": "code",
   "execution_count": 19,
   "metadata": {
    "execution": {
     "iopub.execute_input": "2020-07-16T02:34:36.666971Z",
     "iopub.status.busy": "2020-07-16T02:34:36.666663Z",
     "iopub.status.idle": "2020-07-16T02:34:36.688822Z",
     "shell.execute_reply": "2020-07-16T02:34:36.688528Z"
    },
    "papermill": {
     "duration": 0.04237,
     "end_time": "2020-07-16T02:34:36.688879",
     "exception": false,
     "start_time": "2020-07-16T02:34:36.646509",
     "status": "completed"
    },
    "tags": []
   },
   "outputs": [],
   "source": [
    "#df_0 = simulation.fourier_engineered_dataframe[simulation.fourier_engineered_dataframe.phase==0]\n",
    "#df_0.describe()"
   ]
  },
  {
   "cell_type": "code",
   "execution_count": 20,
   "metadata": {
    "execution": {
     "iopub.execute_input": "2020-07-16T02:34:36.727318Z",
     "iopub.status.busy": "2020-07-16T02:34:36.726982Z",
     "iopub.status.idle": "2020-07-16T02:34:36.807316Z",
     "shell.execute_reply": "2020-07-16T02:34:36.805559Z"
    },
    "papermill": {
     "duration": 0.100151,
     "end_time": "2020-07-16T02:34:36.807576",
     "exception": false,
     "start_time": "2020-07-16T02:34:36.707425",
     "status": "completed"
    },
    "tags": []
   },
   "outputs": [],
   "source": [
    "#plt.figure(figsize=(10,10))\n",
    "#plt.scatter(df_1.fourier_feat0,df_1.fourier_feat2)\n",
    "#plt.scatter(df_0.fourier_feat0,df_0.fourier_feat2,alpha=0.4)"
   ]
  },
  {
   "cell_type": "code",
   "execution_count": 21,
   "metadata": {
    "execution": {
     "iopub.execute_input": "2020-07-16T02:34:36.883187Z",
     "iopub.status.busy": "2020-07-16T02:34:36.882880Z",
     "iopub.status.idle": "2020-07-16T02:34:36.892180Z",
     "shell.execute_reply": "2020-07-16T02:34:36.892439Z"
    },
    "papermill": {
     "duration": 0.030949,
     "end_time": "2020-07-16T02:34:36.892510",
     "exception": false,
     "start_time": "2020-07-16T02:34:36.861561",
     "status": "completed"
    },
    "tags": []
   },
   "outputs": [],
   "source": [
    "#plt.scatter(df_0.fourier_feat0,df_0.fourier_feat2,alpha=0.4)"
   ]
  },
  {
   "cell_type": "code",
   "execution_count": 22,
   "metadata": {
    "execution": {
     "iopub.execute_input": "2020-07-16T02:34:36.932479Z",
     "iopub.status.busy": "2020-07-16T02:34:36.932159Z",
     "iopub.status.idle": "2020-07-16T02:34:36.997644Z",
     "shell.execute_reply": "2020-07-16T02:34:36.999358Z"
    },
    "papermill": {
     "duration": 0.087972,
     "end_time": "2020-07-16T02:34:36.999669",
     "exception": false,
     "start_time": "2020-07-16T02:34:36.911697",
     "status": "completed"
    },
    "tags": []
   },
   "outputs": [],
   "source": [
    "#plt.scatter(df_2.fourier_feat0,df_2.fourier_feat2)"
   ]
  },
  {
   "cell_type": "code",
   "execution_count": 23,
   "metadata": {
    "execution": {
     "iopub.execute_input": "2020-07-16T02:34:37.073388Z",
     "iopub.status.busy": "2020-07-16T02:34:37.073084Z",
     "iopub.status.idle": "2020-07-16T02:34:37.082789Z",
     "shell.execute_reply": "2020-07-16T02:34:37.082445Z"
    },
    "papermill": {
     "duration": 0.031167,
     "end_time": "2020-07-16T02:34:37.082844",
     "exception": false,
     "start_time": "2020-07-16T02:34:37.051677",
     "status": "completed"
    },
    "tags": []
   },
   "outputs": [],
   "source": [
    "#df_1.hist(figsize=(15,15))"
   ]
  },
  {
   "cell_type": "code",
   "execution_count": 24,
   "metadata": {
    "execution": {
     "iopub.execute_input": "2020-07-16T02:34:37.123762Z",
     "iopub.status.busy": "2020-07-16T02:34:37.123456Z",
     "iopub.status.idle": "2020-07-16T02:34:37.197238Z",
     "shell.execute_reply": "2020-07-16T02:34:37.198914Z"
    },
    "papermill": {
     "duration": 0.095685,
     "end_time": "2020-07-16T02:34:37.199225",
     "exception": false,
     "start_time": "2020-07-16T02:34:37.103540",
     "status": "completed"
    },
    "tags": []
   },
   "outputs": [],
   "source": [
    "#df_0.hist(figsize=(15,15))"
   ]
  },
  {
   "cell_type": "markdown",
   "metadata": {
    "papermill": {
     "duration": 0.019724,
     "end_time": "2020-07-16T02:34:37.271711",
     "exception": false,
     "start_time": "2020-07-16T02:34:37.251987",
     "status": "completed"
    },
    "tags": []
   },
   "source": [
    "#### Checking initialization"
   ]
  },
  {
   "cell_type": "code",
   "execution_count": 25,
   "metadata": {
    "execution": {
     "iopub.execute_input": "2020-07-16T02:34:37.312450Z",
     "iopub.status.busy": "2020-07-16T02:34:37.312084Z",
     "iopub.status.idle": "2020-07-16T02:34:37.322357Z",
     "shell.execute_reply": "2020-07-16T02:34:37.322607Z"
    },
    "papermill": {
     "duration": 0.032542,
     "end_time": "2020-07-16T02:34:37.322675",
     "exception": false,
     "start_time": "2020-07-16T02:34:37.290133",
     "status": "completed"
    },
    "tags": []
   },
   "outputs": [
    {
     "name": "stdout",
     "output_type": "stream",
     "text": [
      "n_features:  100\n",
      "n_hamiltonians:  6561\n",
      "n_ts:  2\n",
      "CPU times: user 274 µs, sys: 36 µs, total: 310 µs\n",
      "Wall time: 231 µs\n"
     ]
    }
   ],
   "source": [
    "%%time\n",
    "n_features = simulation.n_features\n",
    "n_hamiltonians = simulation.n_hamiltonians\n",
    "n_ts = simulation.n_ts\n",
    "\n",
    "print(\"n_features: \", n_features)\n",
    "print(\"n_hamiltonians: \", n_hamiltonians)\n",
    "print(\"n_ts: \", n_ts)"
   ]
  },
  {
   "cell_type": "code",
   "execution_count": 26,
   "metadata": {
    "execution": {
     "iopub.execute_input": "2020-07-16T02:34:37.361882Z",
     "iopub.status.busy": "2020-07-16T02:34:37.361562Z",
     "iopub.status.idle": "2020-07-16T02:34:37.605232Z",
     "shell.execute_reply": "2020-07-16T02:34:37.604913Z"
    },
    "papermill": {
     "duration": 0.264006,
     "end_time": "2020-07-16T02:34:37.605284",
     "exception": false,
     "start_time": "2020-07-16T02:34:37.341278",
     "status": "completed"
    },
    "tags": []
   },
   "outputs": [
    {
     "name": "stdout",
     "output_type": "stream",
     "text": [
      "% train:  0.846822130772748\n",
      "% val:  0.0\n",
      "% test:  0.15317786922725193\n",
      "% train + val + test:  1.0\n",
      "\n",
      "\n",
      "number of train hamiltonians:  5556\n",
      "number of val hamiltonians:  0\n",
      "number of test hamiltonians:  1005\n",
      "total number of hamiltonians:  6561\n",
      "\n",
      "\n",
      "train ids:  [9, 10, 11, 12, 13, 14, 15, 16, 17, 18, 19, 20, 21, 22, 23, 24, 25, 26, 27, 28, 29, 30, 31, 32, 33, 34, 35, 36, 37, 38, 39, 40, 41, 42, 43, 44, 45, 46, 47, 48, 49, 50, 51, 52, 53, 54, 55, 56, 57, 58, 59, 60, 61, 62, 63, 64, 65, 66, 67, 68, 69, 70, 71, 72, 73, 74, 75, 76, 77, 91, 92, 93, 94, 95, 96, 97, 98, 99, 100, 101, 102, 103, 104, 105, 106, 107, 108, 109, 110, 111, 112, 113, 114, 115, 116, 117, 118, 119, 120, 121, 122, 123, 124, 125, 126, 127, 128, 129, 130, 131, 132, 133, 134, 135, 136, 137, 138, 139, 140, 141, 142, 143, 144, 145, 146, 147, 148, 149, 150, 151, 152, 153, 154, 155, 156, 157, 172, 173, 174, 175, 176, 177, 178, 179, 180, 181, 182, 183, 184, 185, 186, 187, 188, 189, 190, 191, 192, 193, 194, 195, 196, 197, 198, 199, 200, 201, 202, 203, 204, 205, 206, 207, 208, 209, 210, 211, 212, 213, 214, 215, 216, 217, 218, 219, 220, 221, 222, 223, 224, 225, 226, 227, 228, 229, 230, 231, 232, 233, 234, 235, 236, 237, 254, 255, 256, 257, 258, 259, 260, 261, 262, 263, 264, 265, 266, 267, 268, 269, 270, 271, 272, 273, 274, 275, 276, 277, 278, 279, 280, 281, 282, 283, 284, 285, 286, 287, 288, 289, 290, 291, 292, 293, 294, 295, 296, 297, 298, 299, 300, 301, 302, 303, 304, 305, 306, 307, 308, 309, 310, 311, 312, 313, 314, 315, 316, 317, 323, 336, 337, 338, 339, 340, 341, 342, 343, 344, 345, 346, 347, 348, 349, 350, 351, 352, 353, 354, 355, 356, 357, 358, 359, 360, 361, 362, 363, 364, 365, 366, 367, 368, 369, 370, 371, 372, 373, 374, 375, 376, 377, 378, 379, 380, 381, 382, 383, 384, 385, 386, 387, 388, 389, 390, 391, 392, 393, 394, 395, 396, 397, 403, 404, 418, 419, 420, 421, 422, 423, 424, 425, 426, 427, 428, 429, 430, 431, 432, 433, 434, 435, 436, 437, 438, 439, 440, 441, 442, 443, 444, 445, 446, 447, 448, 449, 450, 451, 452, 453, 454, 455, 456, 457, 458, 459, 460, 461, 462, 463, 464, 465, 466, 467, 468, 469, 470, 471, 472, 473, 474, 475, 476, 477, 483, 484, 485, 500, 501, 502, 503, 504, 505, 506, 507, 508, 509, 510, 511, 512, 513, 514, 515, 516, 517, 518, 519, 520, 521, 522, 523, 524, 525, 526, 527, 528, 529, 530, 531, 532, 533, 534, 535, 536, 537, 538, 539, 540, 541, 542, 543, 544, 545, 546, 547, 548, 549, 550, 551, 552, 553, 554, 555, 556, 557, 563, 564, 565, 566, 581, 582, 583, 584, 585, 586, 587, 588, 589, 590, 591, 592, 593, 594, 595, 596, 597, 598, 599, 600, 601, 602, 603, 604, 605, 606, 607, 608, 609, 610, 611, 612, 613, 614, 615, 616, 617, 618, 619, 620, 621, 622, 623, 624, 625, 626, 627, 628, 629, 630, 631, 632, 633, 634, 635, 636, 637, 643, 644, 645, 646, 647, 663, 664, 665, 666, 667, 668, 669, 670, 671, 672, 673, 674, 675, 676, 677, 678, 679, 680, 681, 682, 683, 684, 685, 686, 687, 688, 689, 690, 691, 692, 693, 694, 695, 696, 697, 698, 699, 700, 701, 702, 703, 704, 705, 706, 707, 708, 709, 710, 711, 712, 713, 714, 715, 716, 717, 723, 724, 725, 726, 727, 728, 745, 746, 747, 748, 749, 750, 751, 752, 753, 754, 755, 756, 757, 758, 759, 760, 761, 762, 763, 764, 765, 766, 767, 768, 769, 770, 771, 772, 773, 774, 775, 776, 777, 778, 779, 780, 781, 782, 783, 784, 785, 786, 787, 788, 789, 790, 791, 792, 793, 794, 795, 796, 797, 803, 804, 805, 806, 807, 808, 809, 827, 828, 829, 830, 831, 832, 833, 834, 835, 836, 837, 838, 839, 840, 841, 842, 843, 844, 845, 846, 847, 848, 849, 850, 851, 852, 853, 854, 855, 856, 857, 858, 859, 860, 861, 862, 863, 864, 865, 866, 867, 868, 869, 870, 871, 872, 873, 874, 875, 876, 877, 883, 884, 885, 886, 887, 888, 889, 890, 891, 909, 910, 911, 912, 913, 914, 915, 916, 917, 918, 919, 920, 921, 922, 923, 924, 925, 926, 927, 928, 929, 930, 931, 932, 933, 934, 935, 936, 937, 938, 939, 940, 941, 942, 943, 944, 945, 946, 947, 948, 949, 950, 951, 952, 953, 954, 955, 956, 957, 963, 964, 965, 966, 967, 968, 969, 970, 971, 972, 973, 990, 991, 992, 993, 994, 995, 996, 997, 998, 999, 1000, 1001, 1002, 1003, 1004, 1005, 1006, 1007, 1008, 1009, 1010, 1011, 1012, 1013, 1014, 1015, 1016, 1017, 1018, 1019, 1020, 1021, 1022, 1023, 1024, 1025, 1026, 1027, 1028, 1029, 1030, 1031, 1032, 1033, 1034, 1035, 1036, 1037, 1038, 1042, 1043, 1044, 1045, 1046, 1047, 1048, 1049, 1050, 1051, 1052, 1053, 1054, 1055, 1056, 1072, 1073, 1074, 1075, 1076, 1077, 1078, 1079, 1080, 1081, 1082, 1083, 1084, 1085, 1086, 1087, 1088, 1089, 1090, 1091, 1092, 1093, 1094, 1095, 1096, 1097, 1098, 1099, 1100, 1101, 1102, 1103, 1104, 1105, 1106, 1107, 1108, 1109, 1110, 1111, 1112, 1113, 1114, 1115, 1116, 1117, 1118, 1122, 1123, 1124, 1125, 1126, 1127, 1128, 1129, 1130, 1131, 1132, 1133, 1134, 1135, 1136, 1137, 1138, 1154, 1155, 1156, 1157, 1158, 1159, 1160, 1161, 1162, 1163, 1164, 1165, 1166, 1167, 1168, 1169, 1170, 1171, 1172, 1173, 1174, 1175, 1176, 1177, 1178, 1179, 1180, 1181, 1182, 1183, 1184, 1185, 1186, 1187, 1188, 1189, 1190, 1191, 1192, 1193, 1194, 1195, 1196, 1197, 1198, 1202, 1203, 1204, 1205, 1206, 1207, 1208, 1209, 1210, 1211, 1212, 1213, 1214, 1215, 1216, 1217, 1218, 1219, 1220, 1236, 1237, 1238, 1239, 1240, 1241, 1242, 1243, 1244, 1245, 1246, 1247, 1248, 1249, 1250, 1251, 1252, 1253, 1254, 1255, 1256, 1257, 1258, 1259, 1260, 1261, 1262, 1263, 1264, 1265, 1266, 1267, 1268, 1269, 1270, 1271, 1272, 1273, 1274, 1275, 1276, 1277, 1278, 1282, 1283, 1284, 1285, 1286, 1287, 1288, 1289, 1290, 1291, 1292, 1293, 1294, 1295, 1296, 1297, 1298, 1299, 1300, 1301, 1302, 1303, 1317, 1318, 1319, 1320, 1321, 1322, 1323, 1324, 1325, 1326, 1327, 1328, 1329, 1330, 1331, 1332, 1333, 1334, 1335, 1336, 1337, 1338, 1339, 1340, 1341, 1342, 1343, 1344, 1345, 1346, 1347, 1348, 1349, 1350, 1351, 1352, 1353, 1354, 1355, 1356, 1357, 1358, 1362, 1363, 1364, 1365, 1366, 1367, 1368, 1369, 1370, 1371, 1372, 1373, 1374, 1375, 1376, 1377, 1378, 1379, 1380, 1381, 1382, 1383, 1384, 1385, 1399, 1400, 1401, 1402, 1403, 1404, 1405, 1406, 1407, 1408, 1409, 1410, 1411, 1412, 1413, 1414, 1415, 1416, 1417, 1418, 1419, 1420, 1421, 1422, 1423, 1424, 1425, 1426, 1427, 1428, 1429, 1430, 1431, 1432, 1433, 1434, 1435, 1436, 1437, 1438, 1442, 1443, 1444, 1445, 1446, 1447, 1448, 1449, 1450, 1451, 1452, 1453, 1454, 1455, 1456, 1457, 1458, 1459, 1460, 1461, 1462, 1463, 1464, 1465, 1466, 1467, 1468, 1481, 1482, 1483, 1484, 1485, 1486, 1487, 1488, 1489, 1490, 1491, 1492, 1493, 1494, 1495, 1496, 1497, 1498, 1499, 1500, 1501, 1502, 1503, 1504, 1505, 1506, 1507, 1508, 1509, 1510, 1511, 1512, 1513, 1514, 1515, 1516, 1517, 1518, 1522, 1523, 1524, 1525, 1526, 1527, 1528, 1529, 1530, 1531, 1532, 1533, 1534, 1535, 1536, 1537, 1538, 1539, 1540, 1541, 1542, 1543, 1544, 1545, 1546, 1547, 1548, 1549, 1550, 1563, 1564, 1565, 1566, 1567, 1568, 1569, 1570, 1571, 1572, 1573, 1574, 1575, 1576, 1577, 1578, 1579, 1580, 1581, 1582, 1583, 1584, 1585, 1586, 1587, 1588, 1589, 1590, 1591, 1592, 1593, 1594, 1595, 1596, 1597, 1598, 1602, 1603, 1604, 1605, 1606, 1607, 1608, 1609, 1610, 1611, 1612, 1613, 1614, 1615, 1616, 1617, 1618, 1619, 1620, 1621, 1622, 1623, 1624, 1625, 1626, 1627, 1628, 1629, 1630, 1631, 1632, 1645, 1646, 1647, 1648, 1649, 1650, 1651, 1652, 1653, 1654, 1655, 1656, 1657, 1658, 1659, 1660, 1661, 1662, 1663, 1664, 1665, 1666, 1667, 1668, 1669, 1670, 1671, 1672, 1673, 1674, 1675, 1676, 1677, 1678, 1682, 1683, 1684, 1685, 1686, 1687, 1688, 1689, 1690, 1691, 1692, 1693, 1694, 1695, 1696, 1697, 1698, 1699, 1700, 1701, 1702, 1703, 1704, 1705, 1706, 1707, 1708, 1709, 1710, 1711, 1712, 1713, 1714, 1715, 1726, 1727, 1728, 1729, 1730, 1731, 1732, 1733, 1734, 1735, 1736, 1737, 1738, 1739, 1740, 1741, 1742, 1743, 1744, 1745, 1746, 1747, 1748, 1749, 1750, 1751, 1752, 1753, 1754, 1755, 1756, 1757, 1758, 1762, 1763, 1764, 1765, 1766, 1767, 1768, 1769, 1770, 1771, 1772, 1773, 1774, 1775, 1776, 1777, 1778, 1779, 1780, 1781, 1782, 1783, 1784, 1785, 1786, 1787, 1788, 1789, 1790, 1791, 1792, 1793, 1794, 1795, 1796, 1797, 1808, 1809, 1810, 1811, 1812, 1813, 1814, 1815, 1816, 1817, 1818, 1819, 1820, 1821, 1822, 1823, 1824, 1825, 1826, 1827, 1828, 1829, 1830, 1831, 1832, 1833, 1834, 1835, 1836, 1837, 1838, 1842, 1843, 1844, 1845, 1846, 1847, 1848, 1849, 1850, 1851, 1852, 1853, 1854, 1855, 1856, 1857, 1858, 1859, 1860, 1861, 1862, 1863, 1864, 1865, 1866, 1867, 1868, 1869, 1870, 1871, 1872, 1873, 1874, 1875, 1876, 1877, 1878, 1879, 1890, 1891, 1892, 1893, 1894, 1895, 1896, 1897, 1898, 1899, 1900, 1901, 1902, 1903, 1904, 1905, 1906, 1907, 1908, 1909, 1910, 1911, 1912, 1913, 1914, 1915, 1916, 1917, 1918, 1922, 1923, 1924, 1925, 1926, 1927, 1928, 1929, 1930, 1931, 1932, 1933, 1934, 1935, 1936, 1937, 1938, 1939, 1940, 1941, 1942, 1943, 1944, 1945, 1946, 1947, 1948, 1949, 1950, 1951, 1952, 1953, 1954, 1955, 1956, 1957, 1958, 1959, 1960, 1961, 1962, 1972, 1973, 1974, 1975, 1976, 1977, 1978, 1979, 1980, 1981, 1982, 1983, 1984, 1985, 1986, 1987, 1988, 1989, 1990, 1991, 1992, 1993, 1994, 1995, 1996, 1997, 1998, 2002, 2003, 2004, 2005, 2006, 2007, 2008, 2009, 2010, 2011, 2012, 2013, 2014, 2015, 2016, 2017, 2018, 2019, 2020, 2021, 2022, 2023, 2024, 2025, 2026, 2027, 2028, 2029, 2030, 2031, 2032, 2033, 2034, 2035, 2036, 2037, 2038, 2039, 2040, 2041, 2042, 2043, 2044, 2054, 2055, 2056, 2057, 2058, 2059, 2060, 2061, 2062, 2063, 2064, 2065, 2066, 2067, 2068, 2069, 2070, 2071, 2072, 2073, 2074, 2075, 2076, 2077, 2078, 2082, 2083, 2084, 2085, 2086, 2087, 2088, 2089, 2090, 2091, 2092, 2093, 2094, 2095, 2096, 2097, 2098, 2099, 2100, 2101, 2102, 2103, 2104, 2105, 2106, 2107, 2108, 2109, 2110, 2111, 2112, 2113, 2114, 2115, 2116, 2117, 2118, 2119, 2120, 2121, 2122, 2123, 2124, 2125, 2126, 2135, 2136, 2137, 2138, 2139, 2140, 2141, 2142, 2143, 2144, 2145, 2146, 2147, 2148, 2149, 2150, 2151, 2152, 2153, 2154, 2155, 2156, 2157, 2158, 2159, 2161, 2162, 2163, 2164, 2165, 2166, 2167, 2168, 2169, 2170, 2171, 2172, 2173, 2174, 2175, 2176, 2177, 2178, 2179, 2180, 2181, 2182, 2183, 2184, 2185, 2186, 2187, 2188, 2189, 2190, 2191, 2192, 2193, 2194, 2195, 2196, 2197, 2198, 2199, 2200, 2201, 2202, 2203, 2204, 2205, 2206, 2207, 2208, 2209, 2217, 2218, 2219, 2220, 2221, 2222, 2223, 2224, 2225, 2226, 2227, 2228, 2229, 2230, 2231, 2232, 2233, 2234, 2235, 2236, 2237, 2238, 2239, 2241, 2242, 2243, 2244, 2245, 2246, 2247, 2248, 2249, 2250, 2251, 2252, 2253, 2254, 2255, 2256, 2257, 2258, 2259, 2260, 2261, 2262, 2263, 2264, 2265, 2266, 2267, 2268, 2269, 2270, 2271, 2272, 2273, 2274, 2275, 2276, 2277, 2278, 2279, 2280, 2281, 2282, 2283, 2284, 2285, 2286, 2287, 2288, 2289, 2290, 2291, 2299, 2300, 2301, 2302, 2303, 2304, 2305, 2306, 2307, 2308, 2309, 2310, 2311, 2312, 2313, 2314, 2315, 2316, 2317, 2318, 2319, 2321, 2322, 2323, 2324, 2325, 2326, 2327, 2328, 2329, 2330, 2331, 2332, 2333, 2334, 2335, 2336, 2337, 2338, 2339, 2340, 2341, 2342, 2343, 2344, 2345, 2346, 2347, 2348, 2349, 2350, 2351, 2352, 2353, 2354, 2355, 2356, 2357, 2358, 2359, 2360, 2361, 2362, 2363, 2364, 2365, 2366, 2367, 2368, 2369, 2370, 2371, 2372, 2373, 2374, 2381, 2382, 2383, 2384, 2385, 2386, 2387, 2388, 2389, 2390, 2391, 2392, 2393, 2394, 2395, 2396, 2397, 2398, 2399, 2401, 2402, 2403, 2404, 2405, 2406, 2407, 2408, 2409, 2410, 2411, 2412, 2413, 2414, 2415, 2416, 2417, 2418, 2419, 2420, 2421, 2422, 2423, 2424, 2425, 2426, 2427, 2428, 2429, 2430, 2431, 2432, 2433, 2434, 2435, 2436, 2437, 2438, 2439, 2440, 2441, 2442, 2443, 2444, 2445, 2446, 2447, 2448, 2449, 2450, 2451, 2452, 2453, 2454, 2455, 2456, 2463, 2464, 2465, 2466, 2467, 2468, 2469, 2470, 2471, 2472, 2473, 2474, 2475, 2476, 2477, 2478, 2479, 2481, 2482, 2483, 2484, 2485, 2486, 2487, 2488, 2489, 2490, 2491, 2492, 2493, 2494, 2495, 2496, 2497, 2498, 2499, 2500, 2501, 2502, 2503, 2504, 2505, 2506, 2507, 2508, 2509, 2510, 2511, 2512, 2513, 2514, 2515, 2516, 2517, 2518, 2519, 2520, 2521, 2522, 2523, 2524, 2525, 2526, 2527, 2528, 2529, 2530, 2531, 2532, 2533, 2534, 2535, 2536, 2537, 2538, 2544, 2545, 2546, 2547, 2548, 2549, 2550, 2551, 2552, 2553, 2554, 2555, 2556, 2557, 2558, 2559, 2561, 2562, 2563, 2564, 2565, 2566, 2567, 2568, 2569, 2570, 2571, 2572, 2573, 2574, 2575, 2576, 2577, 2578, 2579, 2580, 2581, 2582, 2583, 2584, 2585, 2586, 2587, 2588, 2589, 2590, 2591, 2592, 2593, 2594, 2595, 2596, 2597, 2598, 2599, 2600, 2601, 2602, 2603, 2604, 2605, 2606, 2607, 2608, 2609, 2610, 2611, 2612, 2613, 2614, 2615, 2616, 2617, 2618, 2619, 2620, 2621, 2626, 2627, 2628, 2629, 2630, 2631, 2632, 2633, 2634, 2635, 2636, 2637, 2638, 2639, 2641, 2642, 2643, 2644, 2645, 2646, 2647, 2648, 2649, 2650, 2651, 2652, 2653, 2654, 2655, 2656, 2657, 2658, 2659, 2660, 2661, 2662, 2663, 2664, 2665, 2666, 2667, 2668, 2669, 2670, 2671, 2672, 2673, 2674, 2675, 2676, 2677, 2678, 2679, 2680, 2681, 2682, 2683, 2684, 2685, 2686, 2687, 2688, 2689, 2690, 2691, 2692, 2693, 2694, 2695, 2696, 2697, 2698, 2699, 2700, 2701, 2702, 2703, 2708, 2709, 2710, 2711, 2712, 2713, 2714, 2715, 2716, 2717, 2718, 2719, 2721, 2722, 2723, 2724, 2725, 2726, 2727, 2728, 2729, 2730, 2731, 2732, 2733, 2734, 2735, 2736, 2737, 2738, 2739, 2740, 2741, 2742, 2743, 2744, 2745, 2746, 2747, 2748, 2749, 2750, 2751, 2752, 2753, 2754, 2755, 2756, 2757, 2758, 2759, 2760, 2761, 2762, 2763, 2764, 2765, 2766, 2767, 2768, 2769, 2770, 2771, 2772, 2773, 2774, 2775, 2776, 2777, 2778, 2779, 2780, 2781, 2782, 2783, 2784, 2785, 2790, 2791, 2792, 2793, 2794, 2795, 2796, 2797, 2798, 2799, 2801, 2802, 2803, 2804, 2805, 2806, 2807, 2808, 2809, 2810, 2811, 2812, 2813, 2814, 2815, 2816, 2817, 2818, 2819, 2820, 2821, 2822, 2823, 2824, 2825, 2826, 2827, 2828, 2829, 2830, 2831, 2832, 2833, 2834, 2835, 2836, 2837, 2838, 2839, 2840, 2841, 2842, 2843, 2844, 2845, 2846, 2847, 2848, 2849, 2850, 2851, 2852, 2853, 2854, 2855, 2856, 2857, 2858, 2859, 2860, 2861, 2862, 2863, 2864, 2865, 2866, 2867, 2868, 2872, 2873, 2874, 2875, 2876, 2877, 2878, 2879, 2881, 2882, 2883, 2884, 2885, 2886, 2887, 2888, 2889, 2890, 2891, 2892, 2893, 2894, 2895, 2896, 2897, 2898, 2899, 2900, 2901, 2902, 2903, 2904, 2905, 2906, 2907, 2908, 2909, 2910, 2911, 2912, 2913, 2914, 2915, 2916, 2917, 2918, 2919, 2920, 2921, 2922, 2923, 2924, 2925, 2926, 2927, 2928, 2929, 2930, 2931, 2932, 2933, 2934, 2935, 2936, 2937, 2938, 2939, 2940, 2941, 2942, 2943, 2944, 2945, 2946, 2947, 2948, 2949, 2950, 2953, 2954, 2955, 2956, 2957, 2958, 2959, 2961, 2962, 2963, 2964, 2965, 2966, 2967, 2968, 2969, 2970, 2971, 2972, 2973, 2974, 2975, 2976, 2977, 2978, 2979, 2980, 2981, 2982, 2983, 2984, 2985, 2986, 2987, 2988, 2989, 2990, 2991, 2992, 2993, 2994, 2995, 2996, 2997, 2998, 2999, 3000, 3001, 3002, 3003, 3004, 3005, 3006, 3007, 3008, 3009, 3010, 3011, 3012, 3013, 3014, 3015, 3016, 3017, 3018, 3019, 3020, 3021, 3022, 3023, 3024, 3025, 3026, 3027, 3028, 3029, 3030, 3031, 3032, 3035, 3036, 3037, 3038, 3039, 3041, 3042, 3043, 3044, 3045, 3046, 3047, 3048, 3049, 3050, 3051, 3052, 3053, 3054, 3055, 3056, 3057, 3058, 3059, 3060, 3061, 3062, 3063, 3064, 3065, 3066, 3067, 3068, 3069, 3070, 3071, 3072, 3073, 3074, 3075, 3076, 3077, 3078, 3079, 3080, 3081, 3082, 3083, 3084, 3085, 3086, 3087, 3088, 3089, 3090, 3091, 3092, 3093, 3094, 3095, 3096, 3097, 3098, 3099, 3100, 3101, 3102, 3103, 3104, 3105, 3106, 3107, 3108, 3109, 3110, 3111, 3112, 3113, 3114, 3115, 3117, 3118, 3119, 3121, 3122, 3123, 3124, 3125, 3126, 3127, 3128, 3129, 3130, 3131, 3132, 3133, 3134, 3135, 3136, 3137, 3138, 3139, 3140, 3141, 3142, 3143, 3144, 3145, 3146, 3147, 3148, 3149, 3150, 3151, 3152, 3153, 3154, 3155, 3156, 3157, 3158, 3159, 3160, 3161, 3162, 3163, 3164, 3165, 3166, 3167, 3168, 3169, 3170, 3171, 3172, 3173, 3174, 3175, 3176, 3177, 3178, 3179, 3180, 3181, 3182, 3183, 3184, 3185, 3186, 3187, 3188, 3189, 3190, 3191, 3192, 3193, 3194, 3195, 3196, 3197, 3199, 3201, 3202, 3203, 3204, 3205, 3206, 3207, 3208, 3209, 3210, 3211, 3212, 3213, 3214, 3215, 3216, 3217, 3218, 3219, 3220, 3221, 3222, 3223, 3224, 3225, 3226, 3227, 3228, 3229, 3230, 3231, 3232, 3233, 3234, 3235, 3236, 3237, 3238, 3239, 3240, 3241, 3242, 3243, 3244, 3245, 3246, 3247, 3248, 3249, 3250, 3251, 3252, 3253, 3254, 3255, 3256, 3257, 3258, 3259, 3260, 3261, 3262, 3263, 3264, 3265, 3266, 3267, 3268, 3269, 3270, 3271, 3272, 3273, 3274, 3275, 3276, 3277, 3278, 3279, 3281, 3282, 3283, 3284, 3285, 3286, 3287, 3288, 3289, 3290, 3291, 3292, 3293, 3294, 3295, 3296, 3297, 3298, 3299, 3300, 3301, 3302, 3303, 3304, 3305, 3306, 3307, 3308, 3309, 3310, 3311, 3312, 3313, 3314, 3315, 3316, 3317, 3318, 3319, 3320, 3321, 3322, 3323, 3324, 3325, 3326, 3327, 3328, 3329, 3330, 3331, 3332, 3333, 3334, 3335, 3336, 3337, 3338, 3339, 3340, 3341, 3342, 3343, 3344, 3345, 3346, 3347, 3348, 3349, 3350, 3351, 3352, 3353, 3354, 3355, 3356, 3357, 3358, 3359, 3361, 3363, 3364, 3365, 3366, 3367, 3368, 3369, 3370, 3371, 3372, 3373, 3374, 3375, 3376, 3377, 3378, 3379, 3380, 3381, 3382, 3383, 3384, 3385, 3386, 3387, 3388, 3389, 3390, 3391, 3392, 3393, 3394, 3395, 3396, 3397, 3398, 3399, 3400, 3401, 3402, 3403, 3404, 3405, 3406, 3407, 3408, 3409, 3410, 3411, 3412, 3413, 3414, 3415, 3416, 3417, 3418, 3419, 3420, 3421, 3422, 3423, 3424, 3425, 3426, 3427, 3428, 3429, 3430, 3431, 3432, 3433, 3434, 3435, 3436, 3437, 3438, 3439, 3441, 3442, 3443, 3445, 3446, 3447, 3448, 3449, 3450, 3451, 3452, 3453, 3454, 3455, 3456, 3457, 3458, 3459, 3460, 3461, 3462, 3463, 3464, 3465, 3466, 3467, 3468, 3469, 3470, 3471, 3472, 3473, 3474, 3475, 3476, 3477, 3478, 3479, 3480, 3481, 3482, 3483, 3484, 3485, 3486, 3487, 3488, 3489, 3490, 3491, 3492, 3493, 3494, 3495, 3496, 3497, 3498, 3499, 3500, 3501, 3502, 3503, 3504, 3505, 3506, 3507, 3508, 3509, 3510, 3511, 3512, 3513, 3514, 3515, 3516, 3517, 3518, 3519, 3521, 3522, 3523, 3524, 3525, 3528, 3529, 3530, 3531, 3532, 3533, 3534, 3535, 3536, 3537, 3538, 3539, 3540, 3541, 3542, 3543, 3544, 3545, 3546, 3547, 3548, 3549, 3550, 3551, 3552, 3553, 3554, 3555, 3556, 3557, 3558, 3559, 3560, 3561, 3562, 3563, 3564, 3565, 3566, 3567, 3568, 3569, 3570, 3571, 3572, 3573, 3574, 3575, 3576, 3577, 3578, 3579, 3580, 3581, 3582, 3583, 3584, 3585, 3586, 3587, 3588, 3589, 3590, 3591, 3592, 3593, 3594, 3595, 3596, 3597, 3598, 3599, 3601, 3602, 3603, 3604, 3605, 3606, 3607, 3610, 3611, 3612, 3613, 3614, 3615, 3616, 3617, 3618, 3619, 3620, 3621, 3622, 3623, 3624, 3625, 3626, 3627, 3628, 3629, 3630, 3631, 3632, 3633, 3634, 3635, 3636, 3637, 3638, 3639, 3640, 3641, 3642, 3643, 3644, 3645, 3646, 3647, 3648, 3649, 3650, 3651, 3652, 3653, 3654, 3655, 3656, 3657, 3658, 3659, 3660, 3661, 3662, 3663, 3664, 3665, 3666, 3667, 3668, 3669, 3670, 3671, 3672, 3673, 3674, 3675, 3676, 3677, 3678, 3679, 3681, 3682, 3683, 3684, 3685, 3686, 3687, 3688, 3692, 3693, 3694, 3695, 3696, 3697, 3698, 3699, 3700, 3701, 3702, 3703, 3704, 3705, 3706, 3707, 3708, 3709, 3710, 3711, 3712, 3713, 3714, 3715, 3716, 3717, 3718, 3719, 3720, 3721, 3722, 3723, 3724, 3725, 3726, 3727, 3728, 3729, 3730, 3731, 3732, 3733, 3734, 3735, 3736, 3737, 3738, 3739, 3740, 3741, 3742, 3743, 3744, 3745, 3746, 3747, 3748, 3749, 3750, 3751, 3752, 3753, 3754, 3755, 3756, 3757, 3758, 3759, 3761, 3762, 3763, 3764, 3765, 3766, 3767, 3768, 3769, 3770, 3775, 3776, 3777, 3778, 3779, 3780, 3781, 3782, 3783, 3784, 3785, 3786, 3787, 3788, 3789, 3790, 3791, 3792, 3793, 3794, 3795, 3796, 3797, 3798, 3799, 3800, 3801, 3802, 3803, 3804, 3805, 3806, 3807, 3808, 3809, 3810, 3811, 3812, 3813, 3814, 3815, 3816, 3817, 3818, 3819, 3820, 3821, 3822, 3823, 3824, 3825, 3826, 3827, 3828, 3829, 3830, 3831, 3832, 3833, 3834, 3835, 3836, 3837, 3838, 3839, 3841, 3842, 3843, 3844, 3845, 3846, 3847, 3848, 3849, 3850, 3851, 3852, 3857, 3858, 3859, 3860, 3861, 3862, 3863, 3864, 3865, 3866, 3867, 3868, 3869, 3870, 3871, 3872, 3873, 3874, 3875, 3876, 3877, 3878, 3879, 3880, 3881, 3882, 3883, 3884, 3885, 3886, 3887, 3888, 3889, 3890, 3891, 3892, 3893, 3894, 3895, 3896, 3897, 3898, 3899, 3900, 3901, 3902, 3903, 3904, 3905, 3906, 3907, 3908, 3909, 3910, 3911, 3912, 3913, 3914, 3915, 3916, 3917, 3918, 3919, 3921, 3922, 3923, 3924, 3925, 3926, 3927, 3928, 3929, 3930, 3931, 3932, 3933, 3934, 3939, 3940, 3941, 3942, 3943, 3944, 3945, 3946, 3947, 3948, 3949, 3950, 3951, 3952, 3953, 3954, 3955, 3956, 3957, 3958, 3959, 3960, 3961, 3962, 3963, 3964, 3965, 3966, 3967, 3968, 3969, 3970, 3971, 3972, 3973, 3974, 3975, 3976, 3977, 3978, 3979, 3980, 3981, 3982, 3983, 3984, 3985, 3986, 3987, 3988, 3989, 3990, 3991, 3992, 3993, 3994, 3995, 3996, 3997, 3998, 3999, 4001, 4002, 4003, 4004, 4005, 4006, 4007, 4008, 4009, 4010, 4011, 4012, 4013, 4014, 4015, 4016, 4022, 4023, 4024, 4025, 4026, 4027, 4028, 4029, 4030, 4031, 4032, 4033, 4034, 4035, 4036, 4037, 4038, 4039, 4040, 4041, 4042, 4043, 4044, 4045, 4046, 4047, 4048, 4049, 4050, 4051, 4052, 4053, 4054, 4055, 4056, 4057, 4058, 4059, 4060, 4061, 4062, 4063, 4064, 4065, 4066, 4067, 4068, 4069, 4070, 4071, 4072, 4073, 4074, 4075, 4076, 4077, 4078, 4079, 4081, 4082, 4083, 4084, 4085, 4086, 4087, 4088, 4089, 4090, 4091, 4092, 4093, 4094, 4095, 4096, 4097, 4104, 4105, 4106, 4107, 4108, 4109, 4110, 4111, 4112, 4113, 4114, 4115, 4116, 4117, 4118, 4119, 4120, 4121, 4122, 4123, 4124, 4125, 4126, 4127, 4128, 4129, 4130, 4131, 4132, 4133, 4134, 4135, 4136, 4137, 4138, 4139, 4140, 4141, 4142, 4143, 4144, 4145, 4146, 4147, 4148, 4149, 4150, 4151, 4152, 4153, 4154, 4155, 4156, 4157, 4158, 4159, 4161, 4162, 4163, 4164, 4165, 4166, 4167, 4168, 4169, 4170, 4171, 4172, 4173, 4174, 4175, 4176, 4177, 4178, 4179, 4186, 4187, 4188, 4189, 4190, 4191, 4192, 4193, 4194, 4195, 4196, 4197, 4198, 4199, 4200, 4201, 4202, 4203, 4204, 4205, 4206, 4207, 4208, 4209, 4210, 4211, 4212, 4213, 4214, 4215, 4216, 4217, 4218, 4219, 4220, 4221, 4222, 4223, 4224, 4225, 4226, 4227, 4228, 4229, 4230, 4231, 4232, 4233, 4234, 4235, 4236, 4237, 4238, 4239, 4241, 4242, 4243, 4244, 4245, 4246, 4247, 4248, 4249, 4250, 4251, 4252, 4253, 4254, 4255, 4256, 4257, 4258, 4259, 4260, 4261, 4269, 4270, 4271, 4272, 4273, 4274, 4275, 4276, 4277, 4278, 4279, 4280, 4281, 4282, 4283, 4284, 4285, 4286, 4287, 4288, 4289, 4290, 4291, 4292, 4293, 4294, 4295, 4296, 4297, 4298, 4299, 4300, 4301, 4302, 4303, 4304, 4305, 4306, 4307, 4308, 4309, 4310, 4311, 4312, 4313, 4314, 4315, 4316, 4317, 4318, 4319, 4321, 4322, 4323, 4324, 4325, 4326, 4327, 4328, 4329, 4330, 4331, 4332, 4333, 4334, 4335, 4336, 4337, 4338, 4339, 4340, 4341, 4342, 4343, 4351, 4352, 4353, 4354, 4355, 4356, 4357, 4358, 4359, 4360, 4361, 4362, 4363, 4364, 4365, 4366, 4367, 4368, 4369, 4370, 4371, 4372, 4373, 4374, 4375, 4376, 4377, 4378, 4379, 4380, 4381, 4382, 4383, 4384, 4385, 4386, 4387, 4388, 4389, 4390, 4391, 4392, 4393, 4394, 4395, 4396, 4397, 4398, 4399, 4401, 4402, 4403, 4404, 4405, 4406, 4407, 4408, 4409, 4410, 4411, 4412, 4413, 4414, 4415, 4416, 4417, 4418, 4419, 4420, 4421, 4422, 4423, 4424, 4425, 4434, 4435, 4436, 4437, 4438, 4439, 4440, 4441, 4442, 4443, 4444, 4445, 4446, 4447, 4448, 4449, 4450, 4451, 4452, 4453, 4454, 4455, 4456, 4457, 4458, 4459, 4460, 4461, 4462, 4463, 4464, 4465, 4466, 4467, 4468, 4469, 4470, 4471, 4472, 4473, 4474, 4475, 4476, 4477, 4478, 4482, 4483, 4484, 4485, 4486, 4487, 4488, 4489, 4490, 4491, 4492, 4493, 4494, 4495, 4496, 4497, 4498, 4499, 4500, 4501, 4502, 4503, 4504, 4505, 4506, 4516, 4517, 4518, 4519, 4520, 4521, 4522, 4523, 4524, 4525, 4526, 4527, 4528, 4529, 4530, 4531, 4532, 4533, 4534, 4535, 4536, 4537, 4538, 4539, 4540, 4541, 4542, 4543, 4544, 4545, 4546, 4547, 4548, 4549, 4550, 4551, 4552, 4553, 4554, 4555, 4556, 4557, 4558, 4562, 4563, 4564, 4565, 4566, 4567, 4568, 4569, 4570, 4571, 4572, 4573, 4574, 4575, 4576, 4577, 4578, 4579, 4580, 4581, 4582, 4583, 4584, 4585, 4586, 4587, 4588, 4598, 4599, 4600, 4601, 4602, 4603, 4604, 4605, 4606, 4607, 4608, 4609, 4610, 4611, 4612, 4613, 4614, 4615, 4616, 4617, 4618, 4619, 4620, 4621, 4622, 4623, 4624, 4625, 4626, 4627, 4628, 4629, 4630, 4631, 4632, 4633, 4634, 4635, 4636, 4637, 4638, 4642, 4643, 4644, 4645, 4646, 4647, 4648, 4649, 4650, 4651, 4652, 4653, 4654, 4655, 4656, 4657, 4658, 4659, 4660, 4661, 4662, 4663, 4664, 4665, 4666, 4667, 4668, 4669, 4670, 4681, 4682, 4683, 4684, 4685, 4686, 4687, 4688, 4689, 4690, 4691, 4692, 4693, 4694, 4695, 4696, 4697, 4698, 4699, 4700, 4701, 4702, 4703, 4704, 4705, 4706, 4707, 4708, 4709, 4710, 4711, 4712, 4713, 4714, 4715, 4716, 4717, 4718, 4722, 4723, 4724, 4725, 4726, 4727, 4728, 4729, 4730, 4731, 4732, 4733, 4734, 4735, 4736, 4737, 4738, 4739, 4740, 4741, 4742, 4743, 4744, 4745, 4746, 4747, 4748, 4749, 4750, 4751, 4752, 4763, 4764, 4765, 4766, 4767, 4768, 4769, 4770, 4771, 4772, 4773, 4774, 4775, 4776, 4777, 4778, 4779, 4780, 4781, 4782, 4783, 4784, 4785, 4786, 4787, 4788, 4789, 4790, 4791, 4792, 4793, 4794, 4795, 4796, 4797, 4798, 4802, 4803, 4804, 4805, 4806, 4807, 4808, 4809, 4810, 4811, 4812, 4813, 4814, 4815, 4816, 4817, 4818, 4819, 4820, 4821, 4822, 4823, 4824, 4825, 4826, 4827, 4828, 4829, 4830, 4831, 4832, 4833, 4834, 4845, 4846, 4847, 4848, 4849, 4850, 4851, 4852, 4853, 4854, 4855, 4856, 4857, 4858, 4859, 4860, 4861, 4862, 4863, 4864, 4865, 4866, 4867, 4868, 4869, 4870, 4871, 4872, 4873, 4874, 4875, 4876, 4877, 4878, 4882, 4883, 4884, 4885, 4886, 4887, 4888, 4889, 4890, 4891, 4892, 4893, 4894, 4895, 4896, 4897, 4898, 4899, 4900, 4901, 4902, 4903, 4904, 4905, 4906, 4907, 4908, 4909, 4910, 4911, 4912, 4913, 4914, 4915, 4928, 4929, 4930, 4931, 4932, 4933, 4934, 4935, 4936, 4937, 4938, 4939, 4940, 4941, 4942, 4943, 4944, 4945, 4946, 4947, 4948, 4949, 4950, 4951, 4952, 4953, 4954, 4955, 4956, 4957, 4958, 4962, 4963, 4964, 4965, 4966, 4967, 4968, 4969, 4970, 4971, 4972, 4973, 4974, 4975, 4976, 4977, 4978, 4979, 4980, 4981, 4982, 4983, 4984, 4985, 4986, 4987, 4988, 4989, 4990, 4991, 4992, 4993, 4994, 4995, 4996, 4997, 5010, 5011, 5012, 5013, 5014, 5015, 5016, 5017, 5018, 5019, 5020, 5021, 5022, 5023, 5024, 5025, 5026, 5027, 5028, 5029, 5030, 5031, 5032, 5033, 5034, 5035, 5036, 5037, 5038, 5042, 5043, 5044, 5045, 5046, 5047, 5048, 5049, 5050, 5051, 5052, 5053, 5054, 5055, 5056, 5057, 5058, 5059, 5060, 5061, 5062, 5063, 5064, 5065, 5066, 5067, 5068, 5069, 5070, 5071, 5072, 5073, 5074, 5075, 5076, 5077, 5078, 5079, 5092, 5093, 5094, 5095, 5096, 5097, 5098, 5099, 5100, 5101, 5102, 5103, 5104, 5105, 5106, 5107, 5108, 5109, 5110, 5111, 5112, 5113, 5114, 5115, 5116, 5117, 5118, 5122, 5123, 5124, 5125, 5126, 5127, 5128, 5129, 5130, 5131, 5132, 5133, 5134, 5135, 5136, 5137, 5138, 5139, 5140, 5141, 5142, 5143, 5144, 5145, 5146, 5147, 5148, 5149, 5150, 5151, 5152, 5153, 5154, 5155, 5156, 5157, 5158, 5159, 5160, 5161, 5175, 5176, 5177, 5178, 5179, 5180, 5181, 5182, 5183, 5184, 5185, 5186, 5187, 5188, 5189, 5190, 5191, 5192, 5193, 5194, 5195, 5196, 5197, 5198, 5202, 5203, 5204, 5205, 5206, 5207, 5208, 5209, 5210, 5211, 5212, 5213, 5214, 5215, 5216, 5217, 5218, 5219, 5220, 5221, 5222, 5223, 5224, 5225, 5226, 5227, 5228, 5229, 5230, 5231, 5232, 5233, 5234, 5235, 5236, 5237, 5238, 5239, 5240, 5241, 5242, 5243, 5257, 5258, 5259, 5260, 5261, 5262, 5263, 5264, 5265, 5266, 5267, 5268, 5269, 5270, 5271, 5272, 5273, 5274, 5275, 5276, 5277, 5278, 5282, 5283, 5284, 5285, 5286, 5287, 5288, 5289, 5290, 5291, 5292, 5293, 5294, 5295, 5296, 5297, 5298, 5299, 5300, 5301, 5302, 5303, 5304, 5305, 5306, 5307, 5308, 5309, 5310, 5311, 5312, 5313, 5314, 5315, 5316, 5317, 5318, 5319, 5320, 5321, 5322, 5323, 5324, 5340, 5341, 5342, 5343, 5344, 5345, 5346, 5347, 5348, 5349, 5350, 5351, 5352, 5353, 5354, 5355, 5356, 5357, 5358, 5362, 5363, 5364, 5365, 5366, 5367, 5368, 5369, 5370, 5371, 5372, 5373, 5374, 5375, 5376, 5377, 5378, 5379, 5380, 5381, 5382, 5383, 5384, 5385, 5386, 5387, 5388, 5389, 5390, 5391, 5392, 5393, 5394, 5395, 5396, 5397, 5398, 5399, 5400, 5401, 5402, 5403, 5404, 5405, 5406, 5422, 5423, 5424, 5425, 5426, 5427, 5428, 5429, 5430, 5431, 5432, 5433, 5434, 5435, 5436, 5437, 5438, 5442, 5443, 5444, 5445, 5446, 5447, 5448, 5449, 5450, 5451, 5452, 5453, 5454, 5455, 5456, 5457, 5458, 5459, 5460, 5461, 5462, 5463, 5464, 5465, 5466, 5467, 5468, 5469, 5470, 5471, 5472, 5473, 5474, 5475, 5476, 5477, 5478, 5479, 5480, 5481, 5482, 5483, 5484, 5485, 5486, 5487, 5488, 5504, 5505, 5506, 5507, 5508, 5509, 5510, 5511, 5512, 5513, 5514, 5515, 5516, 5517, 5518, 5522, 5523, 5524, 5525, 5526, 5527, 5528, 5529, 5530, 5531, 5532, 5533, 5534, 5535, 5536, 5537, 5538, 5539, 5540, 5541, 5542, 5543, 5544, 5545, 5546, 5547, 5548, 5549, 5550, 5551, 5552, 5553, 5554, 5555, 5556, 5557, 5558, 5559, 5560, 5561, 5562, 5563, 5564, 5565, 5566, 5567, 5568, 5569, 5570, 5587, 5588, 5589, 5590, 5591, 5592, 5593, 5594, 5595, 5596, 5597, 5603, 5604, 5605, 5606, 5607, 5608, 5609, 5610, 5611, 5612, 5613, 5614, 5615, 5616, 5617, 5618, 5619, 5620, 5621, 5622, 5623, 5624, 5625, 5626, 5627, 5628, 5629, 5630, 5631, 5632, 5633, 5634, 5635, 5636, 5637, 5638, 5639, 5640, 5641, 5642, 5643, 5644, 5645, 5646, 5647, 5648, 5649, 5650, 5651, 5669, 5670, 5671, 5672, 5673, 5674, 5675, 5676, 5677, 5683, 5684, 5685, 5686, 5687, 5688, 5689, 5690, 5691, 5692, 5693, 5694, 5695, 5696, 5697, 5698, 5699, 5700, 5701, 5702, 5703, 5704, 5705, 5706, 5707, 5708, 5709, 5710, 5711, 5712, 5713, 5714, 5715, 5716, 5717, 5718, 5719, 5720, 5721, 5722, 5723, 5724, 5725, 5726, 5727, 5728, 5729, 5730, 5731, 5732, 5733, 5751, 5752, 5753, 5754, 5755, 5756, 5757, 5763, 5764, 5765, 5766, 5767, 5768, 5769, 5770, 5771, 5772, 5773, 5774, 5775, 5776, 5777, 5778, 5779, 5780, 5781, 5782, 5783, 5784, 5785, 5786, 5787, 5788, 5789, 5790, 5791, 5792, 5793, 5794, 5795, 5796, 5797, 5798, 5799, 5800, 5801, 5802, 5803, 5804, 5805, 5806, 5807, 5808, 5809, 5810, 5811, 5812, 5813, 5814, 5815, 5832, 5833, 5834, 5835, 5836, 5837, 5843, 5844, 5845, 5846, 5847, 5848, 5849, 5850, 5851, 5852, 5853, 5854, 5855, 5856, 5857, 5858, 5859, 5860, 5861, 5862, 5863, 5864, 5865, 5866, 5867, 5868, 5869, 5870, 5871, 5872, 5873, 5874, 5875, 5876, 5877, 5878, 5879, 5880, 5881, 5882, 5883, 5884, 5885, 5886, 5887, 5888, 5889, 5890, 5891, 5892, 5893, 5894, 5895, 5896, 5897, 5913, 5914, 5915, 5916, 5917, 5923, 5924, 5925, 5926, 5927, 5928, 5929, 5930, 5931, 5932, 5933, 5934, 5935, 5936, 5937, 5938, 5939, 5940, 5941, 5942, 5943, 5944, 5945, 5946, 5947, 5948, 5949, 5950, 5951, 5952, 5953, 5954, 5955, 5956, 5957, 5958, 5959, 5960, 5961, 5962, 5963, 5964, 5965, 5966, 5967, 5968, 5969, 5970, 5971, 5972, 5973, 5974, 5975, 5976, 5977, 5978, 5979, 5994, 5995, 5996, 5997, 6003, 6004, 6005, 6006, 6007, 6008, 6009, 6010, 6011, 6012, 6013, 6014, 6015, 6016, 6017, 6018, 6019, 6020, 6021, 6022, 6023, 6024, 6025, 6026, 6027, 6028, 6029, 6030, 6031, 6032, 6033, 6034, 6035, 6036, 6037, 6038, 6039, 6040, 6041, 6042, 6043, 6044, 6045, 6046, 6047, 6048, 6049, 6050, 6051, 6052, 6053, 6054, 6055, 6056, 6057, 6058, 6059, 6060, 6075, 6076, 6077, 6083, 6084, 6085, 6086, 6087, 6088, 6089, 6090, 6091, 6092, 6093, 6094, 6095, 6096, 6097, 6098, 6099, 6100, 6101, 6102, 6103, 6104, 6105, 6106, 6107, 6108, 6109, 6110, 6111, 6112, 6113, 6114, 6115, 6116, 6117, 6118, 6119, 6120, 6121, 6122, 6123, 6124, 6125, 6126, 6127, 6128, 6129, 6130, 6131, 6132, 6133, 6134, 6135, 6136, 6137, 6138, 6139, 6140, 6141, 6142, 6156, 6157, 6163, 6164, 6165, 6166, 6167, 6168, 6169, 6170, 6171, 6172, 6173, 6174, 6175, 6176, 6177, 6178, 6179, 6180, 6181, 6182, 6183, 6184, 6185, 6186, 6187, 6188, 6189, 6190, 6191, 6192, 6193, 6194, 6195, 6196, 6197, 6198, 6199, 6200, 6201, 6202, 6203, 6204, 6205, 6206, 6207, 6208, 6209, 6210, 6211, 6212, 6213, 6214, 6215, 6216, 6217, 6218, 6219, 6220, 6221, 6222, 6223, 6224, 6237, 6243, 6244, 6245, 6246, 6247, 6248, 6249, 6250, 6251, 6252, 6253, 6254, 6255, 6256, 6257, 6258, 6259, 6260, 6261, 6262, 6263, 6264, 6265, 6266, 6267, 6268, 6269, 6270, 6271, 6272, 6273, 6274, 6275, 6276, 6277, 6278, 6279, 6280, 6281, 6282, 6283, 6284, 6285, 6286, 6287, 6288, 6289, 6290, 6291, 6292, 6293, 6294, 6295, 6296, 6297, 6298, 6299, 6300, 6301, 6302, 6303, 6304, 6305, 6306, 6323, 6324, 6325, 6326, 6327, 6328, 6329, 6330, 6331, 6332, 6333, 6334, 6335, 6336, 6337, 6338, 6339, 6340, 6341, 6342, 6343, 6344, 6345, 6346, 6347, 6348, 6349, 6350, 6351, 6352, 6353, 6354, 6355, 6356, 6357, 6358, 6359, 6360, 6361, 6362, 6363, 6364, 6365, 6366, 6367, 6368, 6369, 6370, 6371, 6372, 6373, 6374, 6375, 6376, 6377, 6378, 6379, 6380, 6381, 6382, 6383, 6384, 6385, 6386, 6387, 6388, 6403, 6404, 6405, 6406, 6407, 6408, 6409, 6410, 6411, 6412, 6413, 6414, 6415, 6416, 6417, 6418, 6419, 6420, 6421, 6422, 6423, 6424, 6425, 6426, 6427, 6428, 6429, 6430, 6431, 6432, 6433, 6434, 6435, 6436, 6437, 6438, 6439, 6440, 6441, 6442, 6443, 6444, 6445, 6446, 6447, 6448, 6449, 6450, 6451, 6452, 6453, 6454, 6455, 6456, 6457, 6458, 6459, 6460, 6461, 6462, 6463, 6464, 6465, 6466, 6467, 6468, 6469, 6483, 6484, 6485, 6486, 6487, 6488, 6489, 6490, 6491, 6492, 6493, 6494, 6495, 6496, 6497, 6498, 6499, 6500, 6501, 6502, 6503, 6504, 6505, 6506, 6507, 6508, 6509, 6510, 6511, 6512, 6513, 6514, 6515, 6516, 6517, 6518, 6519, 6520, 6521, 6522, 6523, 6524, 6525, 6526, 6527, 6528, 6529, 6530, 6531, 6532, 6533, 6534, 6535, 6536, 6537, 6538, 6539, 6540, 6541, 6542, 6543, 6544, 6545, 6546, 6547, 6548, 6549, 6550, 6551]\n",
      "val ids:  []\n",
      "test ids:  [0, 1, 2, 3, 4, 5, 6, 7, 8, 78, 79, 80, 81, 82, 83, 84, 85, 86, 87, 88, 89, 90, 158, 159, 160, 161, 162, 163, 164, 165, 166, 167, 168, 169, 170, 171, 238, 239, 240, 241, 242, 243, 244, 245, 246, 247, 248, 249, 250, 251, 252, 253, 318, 319, 320, 321, 322, 324, 325, 326, 327, 328, 329, 330, 331, 332, 333, 334, 335, 398, 399, 400, 401, 402, 405, 406, 407, 408, 409, 410, 411, 412, 413, 414, 415, 416, 417, 478, 479, 480, 481, 482, 486, 487, 488, 489, 490, 491, 492, 493, 494, 495, 496, 497, 498, 499, 558, 559, 560, 561, 562, 567, 568, 569, 570, 571, 572, 573, 574, 575, 576, 577, 578, 579, 580, 638, 639, 640, 641, 642, 648, 649, 650, 651, 652, 653, 654, 655, 656, 657, 658, 659, 660, 661, 662, 718, 719, 720, 721, 722, 729, 730, 731, 732, 733, 734, 735, 736, 737, 738, 739, 740, 741, 742, 743, 744, 798, 799, 800, 801, 802, 810, 811, 812, 813, 814, 815, 816, 817, 818, 819, 820, 821, 822, 823, 824, 825, 826, 878, 879, 880, 881, 882, 892, 893, 894, 895, 896, 897, 898, 899, 900, 901, 902, 903, 904, 905, 906, 907, 908, 958, 959, 960, 961, 962, 974, 975, 976, 977, 978, 979, 980, 981, 982, 983, 984, 985, 986, 987, 988, 989, 1039, 1040, 1041, 1057, 1058, 1059, 1060, 1061, 1062, 1063, 1064, 1065, 1066, 1067, 1068, 1069, 1070, 1071, 1119, 1120, 1121, 1139, 1140, 1141, 1142, 1143, 1144, 1145, 1146, 1147, 1148, 1149, 1150, 1151, 1152, 1153, 1199, 1200, 1201, 1221, 1222, 1223, 1224, 1225, 1226, 1227, 1228, 1229, 1230, 1231, 1232, 1233, 1234, 1235, 1279, 1280, 1281, 1304, 1305, 1306, 1307, 1308, 1309, 1310, 1311, 1312, 1313, 1314, 1315, 1316, 1359, 1360, 1361, 1386, 1387, 1388, 1389, 1390, 1391, 1392, 1393, 1394, 1395, 1396, 1397, 1398, 1439, 1440, 1441, 1469, 1470, 1471, 1472, 1473, 1474, 1475, 1476, 1477, 1478, 1479, 1480, 1519, 1520, 1521, 1551, 1552, 1553, 1554, 1555, 1556, 1557, 1558, 1559, 1560, 1561, 1562, 1599, 1600, 1601, 1633, 1634, 1635, 1636, 1637, 1638, 1639, 1640, 1641, 1642, 1643, 1644, 1679, 1680, 1681, 1716, 1717, 1718, 1719, 1720, 1721, 1722, 1723, 1724, 1725, 1759, 1760, 1761, 1798, 1799, 1800, 1801, 1802, 1803, 1804, 1805, 1806, 1807, 1839, 1840, 1841, 1880, 1881, 1882, 1883, 1884, 1885, 1886, 1887, 1888, 1889, 1919, 1920, 1921, 1963, 1964, 1965, 1966, 1967, 1968, 1969, 1970, 1971, 1999, 2000, 2001, 2045, 2046, 2047, 2048, 2049, 2050, 2051, 2052, 2053, 2079, 2080, 2081, 2127, 2128, 2129, 2130, 2131, 2132, 2133, 2134, 2160, 2210, 2211, 2212, 2213, 2214, 2215, 2216, 2240, 2292, 2293, 2294, 2295, 2296, 2297, 2298, 2320, 2375, 2376, 2377, 2378, 2379, 2380, 2400, 2457, 2458, 2459, 2460, 2461, 2462, 2480, 2539, 2540, 2541, 2542, 2543, 2560, 2622, 2623, 2624, 2625, 2640, 2704, 2705, 2706, 2707, 2720, 2786, 2787, 2788, 2789, 2800, 2869, 2870, 2871, 2880, 2951, 2952, 2960, 3033, 3034, 3040, 3116, 3120, 3198, 3200, 3280, 3360, 3362, 3440, 3444, 3520, 3526, 3527, 3600, 3608, 3609, 3680, 3689, 3690, 3691, 3760, 3771, 3772, 3773, 3774, 3840, 3853, 3854, 3855, 3856, 3920, 3935, 3936, 3937, 3938, 4000, 4017, 4018, 4019, 4020, 4021, 4080, 4098, 4099, 4100, 4101, 4102, 4103, 4160, 4180, 4181, 4182, 4183, 4184, 4185, 4240, 4262, 4263, 4264, 4265, 4266, 4267, 4268, 4320, 4344, 4345, 4346, 4347, 4348, 4349, 4350, 4400, 4426, 4427, 4428, 4429, 4430, 4431, 4432, 4433, 4479, 4480, 4481, 4507, 4508, 4509, 4510, 4511, 4512, 4513, 4514, 4515, 4559, 4560, 4561, 4589, 4590, 4591, 4592, 4593, 4594, 4595, 4596, 4597, 4639, 4640, 4641, 4671, 4672, 4673, 4674, 4675, 4676, 4677, 4678, 4679, 4680, 4719, 4720, 4721, 4753, 4754, 4755, 4756, 4757, 4758, 4759, 4760, 4761, 4762, 4799, 4800, 4801, 4835, 4836, 4837, 4838, 4839, 4840, 4841, 4842, 4843, 4844, 4879, 4880, 4881, 4916, 4917, 4918, 4919, 4920, 4921, 4922, 4923, 4924, 4925, 4926, 4927, 4959, 4960, 4961, 4998, 4999, 5000, 5001, 5002, 5003, 5004, 5005, 5006, 5007, 5008, 5009, 5039, 5040, 5041, 5080, 5081, 5082, 5083, 5084, 5085, 5086, 5087, 5088, 5089, 5090, 5091, 5119, 5120, 5121, 5162, 5163, 5164, 5165, 5166, 5167, 5168, 5169, 5170, 5171, 5172, 5173, 5174, 5199, 5200, 5201, 5244, 5245, 5246, 5247, 5248, 5249, 5250, 5251, 5252, 5253, 5254, 5255, 5256, 5279, 5280, 5281, 5325, 5326, 5327, 5328, 5329, 5330, 5331, 5332, 5333, 5334, 5335, 5336, 5337, 5338, 5339, 5359, 5360, 5361, 5407, 5408, 5409, 5410, 5411, 5412, 5413, 5414, 5415, 5416, 5417, 5418, 5419, 5420, 5421, 5439, 5440, 5441, 5489, 5490, 5491, 5492, 5493, 5494, 5495, 5496, 5497, 5498, 5499, 5500, 5501, 5502, 5503, 5519, 5520, 5521, 5571, 5572, 5573, 5574, 5575, 5576, 5577, 5578, 5579, 5580, 5581, 5582, 5583, 5584, 5585, 5586, 5598, 5599, 5600, 5601, 5602, 5652, 5653, 5654, 5655, 5656, 5657, 5658, 5659, 5660, 5661, 5662, 5663, 5664, 5665, 5666, 5667, 5668, 5678, 5679, 5680, 5681, 5682, 5734, 5735, 5736, 5737, 5738, 5739, 5740, 5741, 5742, 5743, 5744, 5745, 5746, 5747, 5748, 5749, 5750, 5758, 5759, 5760, 5761, 5762, 5816, 5817, 5818, 5819, 5820, 5821, 5822, 5823, 5824, 5825, 5826, 5827, 5828, 5829, 5830, 5831, 5838, 5839, 5840, 5841, 5842, 5898, 5899, 5900, 5901, 5902, 5903, 5904, 5905, 5906, 5907, 5908, 5909, 5910, 5911, 5912, 5918, 5919, 5920, 5921, 5922, 5980, 5981, 5982, 5983, 5984, 5985, 5986, 5987, 5988, 5989, 5990, 5991, 5992, 5993, 5998, 5999, 6000, 6001, 6002, 6061, 6062, 6063, 6064, 6065, 6066, 6067, 6068, 6069, 6070, 6071, 6072, 6073, 6074, 6078, 6079, 6080, 6081, 6082, 6143, 6144, 6145, 6146, 6147, 6148, 6149, 6150, 6151, 6152, 6153, 6154, 6155, 6158, 6159, 6160, 6161, 6162, 6225, 6226, 6227, 6228, 6229, 6230, 6231, 6232, 6233, 6234, 6235, 6236, 6238, 6239, 6240, 6241, 6242, 6307, 6308, 6309, 6310, 6311, 6312, 6313, 6314, 6315, 6316, 6317, 6318, 6319, 6320, 6321, 6322, 6389, 6390, 6391, 6392, 6393, 6394, 6395, 6396, 6397, 6398, 6399, 6400, 6401, 6402, 6470, 6471, 6472, 6473, 6474, 6475, 6476, 6477, 6478, 6479, 6480, 6481, 6482, 6552, 6553, 6554, 6555, 6556, 6557, 6558, 6559, 6560]\n",
      "CPU times: user 156 ms, sys: 31.7 ms, total: 188 ms\n",
      "Wall time: 187 ms\n"
     ]
    }
   ],
   "source": [
    "%%time\n",
    "n_total = len(simulation.dataframe)\n",
    "n_train = len(simulation.dataframe[simulation.dataframe.type_of == \"train\"])\n",
    "n_val = len(simulation.dataframe[simulation.dataframe.type_of == \"val\"])\n",
    "n_test = len(simulation.dataframe[simulation.dataframe.type_of == \"test\"])\n",
    "n_train_hamiltonians = len(simulation.train_ids)\n",
    "n_val_hamiltonians = len(simulation.val_ids)\n",
    "n_test_hamiltonians = len(simulation.test_ids)\n",
    "n_total_hamiltonians = n_train_hamiltonians + n_val_hamiltonians + n_test_hamiltonians\n",
    "\n",
    "print(\"% train: \", n_train/n_total)\n",
    "print(\"% val: \",  n_val/n_total)\n",
    "print(\"% test: \", n_test/n_total)\n",
    "print(\"% train + val + test: \", (n_train+n_val+n_test)/n_total)\n",
    "print(\"\\n\")\n",
    "print(\"number of train hamiltonians: \", n_train_hamiltonians)\n",
    "print(\"number of val hamiltonians: \", n_val_hamiltonians)\n",
    "print(\"number of test hamiltonians: \", n_test_hamiltonians)\n",
    "print(\"total number of hamiltonians: \", n_total_hamiltonians)\n",
    "print(\"\\n\")\n",
    "print(\"train ids: \", simulation.train_ids)\n",
    "print(\"val ids: \", simulation.val_ids)\n",
    "print(\"test ids: \", simulation.test_ids)"
   ]
  },
  {
   "cell_type": "markdown",
   "metadata": {
    "papermill": {
     "duration": 0.018504,
     "end_time": "2020-07-16T02:34:37.643237",
     "exception": false,
     "start_time": "2020-07-16T02:34:37.624733",
     "status": "completed"
    },
    "tags": []
   },
   "source": [
    "## Running a simulation"
   ]
  },
  {
   "cell_type": "code",
   "execution_count": 27,
   "metadata": {
    "execution": {
     "iopub.execute_input": "2020-07-16T02:34:37.684802Z",
     "iopub.status.busy": "2020-07-16T02:34:37.684489Z",
     "iopub.status.idle": "2020-07-16T02:37:40.164925Z",
     "shell.execute_reply": "2020-07-16T02:37:40.165177Z"
    },
    "papermill": {
     "duration": 182.501363,
     "end_time": "2020-07-16T02:37:40.165243",
     "exception": false,
     "start_time": "2020-07-16T02:34:37.663880",
     "status": "completed"
    },
    "tags": []
   },
   "outputs": [
    {
     "name": "stderr",
     "output_type": "stream",
     "text": [
      "\r",
      "running experiments:   0%|          | 0/100 [00:00<?, ?it/s]"
     ]
    },
    {
     "name": "stdout",
     "output_type": "stream",
     "text": [
      "Simulation mode:  dct\n"
     ]
    },
    {
     "name": "stderr",
     "output_type": "stream",
     "text": [
      "\r",
      "running experiments:   1%|          | 1/100 [00:01<02:49,  1.71s/it]"
     ]
    },
    {
     "name": "stderr",
     "output_type": "stream",
     "text": [
      "\r",
      "running experiments:   2%|▏         | 2/100 [00:03<02:48,  1.72s/it]"
     ]
    },
    {
     "name": "stderr",
     "output_type": "stream",
     "text": [
      "\r",
      "running experiments:   3%|▎         | 3/100 [00:05<02:49,  1.75s/it]"
     ]
    },
    {
     "name": "stderr",
     "output_type": "stream",
     "text": [
      "\r",
      "running experiments:   4%|▍         | 4/100 [00:07<02:49,  1.76s/it]"
     ]
    },
    {
     "name": "stderr",
     "output_type": "stream",
     "text": [
      "\r",
      "running experiments:   5%|▌         | 5/100 [00:08<02:48,  1.77s/it]"
     ]
    },
    {
     "name": "stderr",
     "output_type": "stream",
     "text": [
      "\r",
      "running experiments:   6%|▌         | 6/100 [00:10<02:47,  1.79s/it]"
     ]
    },
    {
     "name": "stderr",
     "output_type": "stream",
     "text": [
      "\r",
      "running experiments:   7%|▋         | 7/100 [00:12<02:45,  1.78s/it]"
     ]
    },
    {
     "name": "stderr",
     "output_type": "stream",
     "text": [
      "\r",
      "running experiments:   8%|▊         | 8/100 [00:14<02:45,  1.79s/it]"
     ]
    },
    {
     "name": "stderr",
     "output_type": "stream",
     "text": [
      "\r",
      "running experiments:   9%|▉         | 9/100 [00:16<02:43,  1.79s/it]"
     ]
    },
    {
     "name": "stderr",
     "output_type": "stream",
     "text": [
      "\r",
      "running experiments:  10%|█         | 10/100 [00:17<02:41,  1.79s/it]"
     ]
    },
    {
     "name": "stderr",
     "output_type": "stream",
     "text": [
      "\r",
      "running experiments:  11%|█         | 11/100 [00:19<02:38,  1.78s/it]"
     ]
    },
    {
     "name": "stderr",
     "output_type": "stream",
     "text": [
      "\r",
      "running experiments:  12%|█▏        | 12/100 [00:21<02:40,  1.82s/it]"
     ]
    },
    {
     "name": "stderr",
     "output_type": "stream",
     "text": [
      "\r",
      "running experiments:  13%|█▎        | 13/100 [00:23<02:38,  1.82s/it]"
     ]
    },
    {
     "name": "stderr",
     "output_type": "stream",
     "text": [
      "\r",
      "running experiments:  14%|█▍        | 14/100 [00:25<02:35,  1.80s/it]"
     ]
    },
    {
     "name": "stderr",
     "output_type": "stream",
     "text": [
      "\r",
      "running experiments:  15%|█▌        | 15/100 [00:26<02:33,  1.81s/it]"
     ]
    },
    {
     "name": "stderr",
     "output_type": "stream",
     "text": [
      "\r",
      "running experiments:  16%|█▌        | 16/100 [00:28<02:33,  1.82s/it]"
     ]
    },
    {
     "name": "stderr",
     "output_type": "stream",
     "text": [
      "\r",
      "running experiments:  17%|█▋        | 17/100 [00:30<02:31,  1.82s/it]"
     ]
    },
    {
     "name": "stderr",
     "output_type": "stream",
     "text": [
      "\r",
      "running experiments:  18%|█▊        | 18/100 [00:32<02:27,  1.80s/it]"
     ]
    },
    {
     "name": "stderr",
     "output_type": "stream",
     "text": [
      "\r",
      "running experiments:  19%|█▉        | 19/100 [00:34<02:27,  1.82s/it]"
     ]
    },
    {
     "name": "stderr",
     "output_type": "stream",
     "text": [
      "\r",
      "running experiments:  20%|██        | 20/100 [00:36<02:25,  1.82s/it]"
     ]
    },
    {
     "name": "stderr",
     "output_type": "stream",
     "text": [
      "\r",
      "running experiments:  21%|██        | 21/100 [00:37<02:22,  1.80s/it]"
     ]
    },
    {
     "name": "stderr",
     "output_type": "stream",
     "text": [
      "\r",
      "running experiments:  22%|██▏       | 22/100 [00:39<02:19,  1.79s/it]"
     ]
    },
    {
     "name": "stderr",
     "output_type": "stream",
     "text": [
      "\r",
      "running experiments:  23%|██▎       | 23/100 [00:41<02:20,  1.83s/it]"
     ]
    },
    {
     "name": "stderr",
     "output_type": "stream",
     "text": [
      "\r",
      "running experiments:  24%|██▍       | 24/100 [00:43<02:18,  1.83s/it]"
     ]
    },
    {
     "name": "stderr",
     "output_type": "stream",
     "text": [
      "\r",
      "running experiments:  25%|██▌       | 25/100 [00:45<02:16,  1.82s/it]"
     ]
    },
    {
     "name": "stderr",
     "output_type": "stream",
     "text": [
      "\r",
      "running experiments:  26%|██▌       | 26/100 [00:46<02:14,  1.82s/it]"
     ]
    },
    {
     "name": "stderr",
     "output_type": "stream",
     "text": [
      "\r",
      "running experiments:  27%|██▋       | 27/100 [00:48<02:13,  1.83s/it]"
     ]
    },
    {
     "name": "stderr",
     "output_type": "stream",
     "text": [
      "\r",
      "running experiments:  28%|██▊       | 28/100 [00:50<02:11,  1.82s/it]"
     ]
    },
    {
     "name": "stderr",
     "output_type": "stream",
     "text": [
      "\r",
      "running experiments:  29%|██▉       | 29/100 [00:52<02:09,  1.82s/it]"
     ]
    },
    {
     "name": "stderr",
     "output_type": "stream",
     "text": [
      "\r",
      "running experiments:  30%|███       | 30/100 [00:54<02:09,  1.85s/it]"
     ]
    },
    {
     "name": "stderr",
     "output_type": "stream",
     "text": [
      "\r",
      "running experiments:  31%|███       | 31/100 [00:56<02:08,  1.86s/it]"
     ]
    },
    {
     "name": "stderr",
     "output_type": "stream",
     "text": [
      "\r",
      "running experiments:  32%|███▏      | 32/100 [00:58<02:07,  1.87s/it]"
     ]
    },
    {
     "name": "stderr",
     "output_type": "stream",
     "text": [
      "\r",
      "running experiments:  33%|███▎      | 33/100 [00:59<02:04,  1.86s/it]"
     ]
    },
    {
     "name": "stderr",
     "output_type": "stream",
     "text": [
      "\r",
      "running experiments:  34%|███▍      | 34/100 [01:01<02:01,  1.85s/it]"
     ]
    },
    {
     "name": "stderr",
     "output_type": "stream",
     "text": [
      "\r",
      "running experiments:  35%|███▌      | 35/100 [01:03<02:00,  1.85s/it]"
     ]
    },
    {
     "name": "stderr",
     "output_type": "stream",
     "text": [
      "\r",
      "running experiments:  36%|███▌      | 36/100 [01:05<01:58,  1.85s/it]"
     ]
    },
    {
     "name": "stderr",
     "output_type": "stream",
     "text": [
      "\r",
      "running experiments:  37%|███▋      | 37/100 [01:07<01:56,  1.85s/it]"
     ]
    },
    {
     "name": "stderr",
     "output_type": "stream",
     "text": [
      "\r",
      "running experiments:  38%|███▊      | 38/100 [01:09<01:53,  1.84s/it]"
     ]
    },
    {
     "name": "stderr",
     "output_type": "stream",
     "text": [
      "\r",
      "running experiments:  39%|███▉      | 39/100 [01:10<01:51,  1.83s/it]"
     ]
    },
    {
     "name": "stderr",
     "output_type": "stream",
     "text": [
      "\r",
      "running experiments:  40%|████      | 40/100 [01:12<01:49,  1.83s/it]"
     ]
    },
    {
     "name": "stderr",
     "output_type": "stream",
     "text": [
      "\r",
      "running experiments:  41%|████      | 41/100 [01:14<01:51,  1.90s/it]"
     ]
    },
    {
     "name": "stderr",
     "output_type": "stream",
     "text": [
      "\r",
      "running experiments:  42%|████▏     | 42/100 [01:16<01:49,  1.88s/it]"
     ]
    },
    {
     "name": "stderr",
     "output_type": "stream",
     "text": [
      "\r",
      "running experiments:  43%|████▎     | 43/100 [01:18<01:46,  1.87s/it]"
     ]
    },
    {
     "name": "stderr",
     "output_type": "stream",
     "text": [
      "\r",
      "running experiments:  44%|████▍     | 44/100 [01:20<01:43,  1.85s/it]"
     ]
    },
    {
     "name": "stderr",
     "output_type": "stream",
     "text": [
      "\r",
      "running experiments:  45%|████▌     | 45/100 [01:22<01:41,  1.84s/it]"
     ]
    },
    {
     "name": "stderr",
     "output_type": "stream",
     "text": [
      "\r",
      "running experiments:  46%|████▌     | 46/100 [01:23<01:38,  1.83s/it]"
     ]
    },
    {
     "name": "stderr",
     "output_type": "stream",
     "text": [
      "\r",
      "running experiments:  47%|████▋     | 47/100 [01:25<01:36,  1.81s/it]"
     ]
    },
    {
     "name": "stderr",
     "output_type": "stream",
     "text": [
      "\r",
      "running experiments:  48%|████▊     | 48/100 [01:27<01:33,  1.81s/it]"
     ]
    },
    {
     "name": "stderr",
     "output_type": "stream",
     "text": [
      "\r",
      "running experiments:  49%|████▉     | 49/100 [01:29<01:32,  1.81s/it]"
     ]
    },
    {
     "name": "stderr",
     "output_type": "stream",
     "text": [
      "\r",
      "running experiments:  50%|█████     | 50/100 [01:31<01:29,  1.79s/it]"
     ]
    },
    {
     "name": "stderr",
     "output_type": "stream",
     "text": [
      "\r",
      "running experiments:  51%|█████     | 51/100 [01:32<01:28,  1.81s/it]"
     ]
    },
    {
     "name": "stderr",
     "output_type": "stream",
     "text": [
      "\r",
      "running experiments:  52%|█████▏    | 52/100 [01:34<01:26,  1.80s/it]"
     ]
    },
    {
     "name": "stderr",
     "output_type": "stream",
     "text": [
      "\r",
      "running experiments:  53%|█████▎    | 53/100 [01:36<01:25,  1.81s/it]"
     ]
    },
    {
     "name": "stderr",
     "output_type": "stream",
     "text": [
      "\r",
      "running experiments:  54%|█████▍    | 54/100 [01:38<01:24,  1.83s/it]"
     ]
    },
    {
     "name": "stderr",
     "output_type": "stream",
     "text": [
      "\r",
      "running experiments:  55%|█████▌    | 55/100 [01:40<01:22,  1.83s/it]"
     ]
    },
    {
     "name": "stderr",
     "output_type": "stream",
     "text": [
      "\r",
      "running experiments:  56%|█████▌    | 56/100 [01:42<01:20,  1.83s/it]"
     ]
    },
    {
     "name": "stderr",
     "output_type": "stream",
     "text": [
      "\r",
      "running experiments:  57%|█████▋    | 57/100 [01:43<01:19,  1.84s/it]"
     ]
    },
    {
     "name": "stderr",
     "output_type": "stream",
     "text": [
      "\r",
      "running experiments:  58%|█████▊    | 58/100 [01:45<01:16,  1.83s/it]"
     ]
    },
    {
     "name": "stderr",
     "output_type": "stream",
     "text": [
      "\r",
      "running experiments:  59%|█████▉    | 59/100 [01:47<01:14,  1.83s/it]"
     ]
    },
    {
     "name": "stderr",
     "output_type": "stream",
     "text": [
      "\r",
      "running experiments:  60%|██████    | 60/100 [01:49<01:13,  1.84s/it]"
     ]
    },
    {
     "name": "stderr",
     "output_type": "stream",
     "text": [
      "\r",
      "running experiments:  61%|██████    | 61/100 [01:51<01:11,  1.83s/it]"
     ]
    },
    {
     "name": "stderr",
     "output_type": "stream",
     "text": [
      "\r",
      "running experiments:  62%|██████▏   | 62/100 [01:53<01:08,  1.81s/it]"
     ]
    },
    {
     "name": "stderr",
     "output_type": "stream",
     "text": [
      "\r",
      "running experiments:  63%|██████▎   | 63/100 [01:54<01:07,  1.81s/it]"
     ]
    },
    {
     "name": "stderr",
     "output_type": "stream",
     "text": [
      "\r",
      "running experiments:  64%|██████▍   | 64/100 [01:56<01:05,  1.82s/it]"
     ]
    },
    {
     "name": "stderr",
     "output_type": "stream",
     "text": [
      "\r",
      "running experiments:  65%|██████▌   | 65/100 [01:58<01:03,  1.82s/it]"
     ]
    },
    {
     "name": "stderr",
     "output_type": "stream",
     "text": [
      "\r",
      "running experiments:  66%|██████▌   | 66/100 [02:00<01:01,  1.81s/it]"
     ]
    },
    {
     "name": "stderr",
     "output_type": "stream",
     "text": [
      "\r",
      "running experiments:  67%|██████▋   | 67/100 [02:02<00:59,  1.82s/it]"
     ]
    },
    {
     "name": "stderr",
     "output_type": "stream",
     "text": [
      "\r",
      "running experiments:  68%|██████▊   | 68/100 [02:03<00:58,  1.82s/it]"
     ]
    },
    {
     "name": "stderr",
     "output_type": "stream",
     "text": [
      "\r",
      "running experiments:  69%|██████▉   | 69/100 [02:05<00:56,  1.83s/it]"
     ]
    },
    {
     "name": "stderr",
     "output_type": "stream",
     "text": [
      "\r",
      "running experiments:  70%|███████   | 70/100 [02:07<00:55,  1.84s/it]"
     ]
    },
    {
     "name": "stderr",
     "output_type": "stream",
     "text": [
      "\r",
      "running experiments:  71%|███████   | 71/100 [02:09<00:53,  1.86s/it]"
     ]
    },
    {
     "name": "stderr",
     "output_type": "stream",
     "text": [
      "\r",
      "running experiments:  72%|███████▏  | 72/100 [02:11<00:52,  1.86s/it]"
     ]
    },
    {
     "name": "stderr",
     "output_type": "stream",
     "text": [
      "\r",
      "running experiments:  73%|███████▎  | 73/100 [02:13<00:49,  1.84s/it]"
     ]
    },
    {
     "name": "stderr",
     "output_type": "stream",
     "text": [
      "\r",
      "running experiments:  74%|███████▍  | 74/100 [02:15<00:47,  1.84s/it]"
     ]
    },
    {
     "name": "stderr",
     "output_type": "stream",
     "text": [
      "\r",
      "running experiments:  75%|███████▌  | 75/100 [02:16<00:46,  1.84s/it]"
     ]
    },
    {
     "name": "stderr",
     "output_type": "stream",
     "text": [
      "\r",
      "running experiments:  76%|███████▌  | 76/100 [02:18<00:44,  1.84s/it]"
     ]
    },
    {
     "name": "stderr",
     "output_type": "stream",
     "text": [
      "\r",
      "running experiments:  77%|███████▋  | 77/100 [02:20<00:42,  1.84s/it]"
     ]
    },
    {
     "name": "stderr",
     "output_type": "stream",
     "text": [
      "\r",
      "running experiments:  78%|███████▊  | 78/100 [02:22<00:39,  1.81s/it]"
     ]
    },
    {
     "name": "stderr",
     "output_type": "stream",
     "text": [
      "\r",
      "running experiments:  79%|███████▉  | 79/100 [02:24<00:38,  1.82s/it]"
     ]
    },
    {
     "name": "stderr",
     "output_type": "stream",
     "text": [
      "\r",
      "running experiments:  80%|████████  | 80/100 [02:26<00:36,  1.84s/it]"
     ]
    },
    {
     "name": "stderr",
     "output_type": "stream",
     "text": [
      "\r",
      "running experiments:  81%|████████  | 81/100 [02:27<00:35,  1.84s/it]"
     ]
    },
    {
     "name": "stderr",
     "output_type": "stream",
     "text": [
      "\r",
      "running experiments:  82%|████████▏ | 82/100 [02:29<00:33,  1.85s/it]"
     ]
    },
    {
     "name": "stderr",
     "output_type": "stream",
     "text": [
      "\r",
      "running experiments:  83%|████████▎ | 83/100 [02:31<00:31,  1.83s/it]"
     ]
    },
    {
     "name": "stderr",
     "output_type": "stream",
     "text": [
      "\r",
      "running experiments:  84%|████████▍ | 84/100 [02:33<00:29,  1.82s/it]"
     ]
    },
    {
     "name": "stderr",
     "output_type": "stream",
     "text": [
      "\r",
      "running experiments:  85%|████████▌ | 85/100 [02:35<00:27,  1.84s/it]"
     ]
    },
    {
     "name": "stderr",
     "output_type": "stream",
     "text": [
      "\r",
      "running experiments:  86%|████████▌ | 86/100 [02:37<00:25,  1.83s/it]"
     ]
    },
    {
     "name": "stderr",
     "output_type": "stream",
     "text": [
      "\r",
      "running experiments:  87%|████████▋ | 87/100 [02:38<00:23,  1.84s/it]"
     ]
    },
    {
     "name": "stderr",
     "output_type": "stream",
     "text": [
      "\r",
      "running experiments:  88%|████████▊ | 88/100 [02:40<00:22,  1.83s/it]"
     ]
    },
    {
     "name": "stderr",
     "output_type": "stream",
     "text": [
      "\r",
      "running experiments:  89%|████████▉ | 89/100 [02:42<00:20,  1.84s/it]"
     ]
    },
    {
     "name": "stderr",
     "output_type": "stream",
     "text": [
      "\r",
      "running experiments:  90%|█████████ | 90/100 [02:44<00:18,  1.82s/it]"
     ]
    },
    {
     "name": "stderr",
     "output_type": "stream",
     "text": [
      "\r",
      "running experiments:  91%|█████████ | 91/100 [02:46<00:16,  1.82s/it]"
     ]
    },
    {
     "name": "stderr",
     "output_type": "stream",
     "text": [
      "\r",
      "running experiments:  92%|█████████▏| 92/100 [02:47<00:14,  1.81s/it]"
     ]
    },
    {
     "name": "stderr",
     "output_type": "stream",
     "text": [
      "\r",
      "running experiments:  93%|█████████▎| 93/100 [02:49<00:12,  1.80s/it]"
     ]
    },
    {
     "name": "stderr",
     "output_type": "stream",
     "text": [
      "\r",
      "running experiments:  94%|█████████▍| 94/100 [02:51<00:10,  1.82s/it]"
     ]
    },
    {
     "name": "stderr",
     "output_type": "stream",
     "text": [
      "\r",
      "running experiments:  95%|█████████▌| 95/100 [02:53<00:09,  1.82s/it]"
     ]
    },
    {
     "name": "stderr",
     "output_type": "stream",
     "text": [
      "\r",
      "running experiments:  96%|█████████▌| 96/100 [02:55<00:07,  1.81s/it]"
     ]
    },
    {
     "name": "stderr",
     "output_type": "stream",
     "text": [
      "\r",
      "running experiments:  97%|█████████▋| 97/100 [02:57<00:05,  1.82s/it]"
     ]
    },
    {
     "name": "stderr",
     "output_type": "stream",
     "text": [
      "\r",
      "running experiments:  98%|█████████▊| 98/100 [02:58<00:03,  1.80s/it]"
     ]
    },
    {
     "name": "stderr",
     "output_type": "stream",
     "text": [
      "\r",
      "running experiments:  99%|█████████▉| 99/100 [03:00<00:01,  1.81s/it]"
     ]
    },
    {
     "name": "stderr",
     "output_type": "stream",
     "text": [
      "\r",
      "running experiments: 100%|██████████| 100/100 [03:02<00:00,  1.81s/it]"
     ]
    },
    {
     "name": "stderr",
     "output_type": "stream",
     "text": [
      "\r",
      "running experiments: 100%|██████████| 100/100 [03:02<00:00,  1.82s/it]"
     ]
    },
    {
     "name": "stdout",
     "output_type": "stream",
     "text": [
      "CPU times: user 3min 1s, sys: 855 ms, total: 3min 2s\n",
      "Wall time: 3min 2s\n"
     ]
    },
    {
     "name": "stderr",
     "output_type": "stream",
     "text": [
      "\n"
     ]
    }
   ],
   "source": [
    "\n",
    "%%time\n",
    "simulation.run_simulation(n_experiments, start_n, fit_params,shuffle_rows, pred_params, random_features, \\\n",
    "                          store_in_lists, save_eigenvector, save_hamiltonian, save_accuracy,\\\n",
    "                          save_models)\n",
    "if simulation.fourier_mode is not None:\n",
    "    simulation.fourier_dataframe.head(10)"
   ]
  },
  {
   "cell_type": "code",
   "execution_count": 28,
   "metadata": {
    "execution": {
     "iopub.execute_input": "2020-07-16T02:37:40.238266Z",
     "iopub.status.busy": "2020-07-16T02:37:40.237932Z",
     "iopub.status.idle": "2020-07-16T02:37:40.263752Z",
     "shell.execute_reply": "2020-07-16T02:37:40.263429Z"
    },
    "papermill": {
     "duration": 0.062646,
     "end_time": "2020-07-16T02:37:40.263805",
     "exception": false,
     "start_time": "2020-07-16T02:37:40.201159",
     "status": "completed"
    },
    "tags": []
   },
   "outputs": [
    {
     "data": {
      "text/html": [
       "<div>\n",
       "<style scoped>\n",
       "    .dataframe tbody tr th:only-of-type {\n",
       "        vertical-align: middle;\n",
       "    }\n",
       "\n",
       "    .dataframe tbody tr th {\n",
       "        vertical-align: top;\n",
       "    }\n",
       "\n",
       "    .dataframe thead th {\n",
       "        text-align: right;\n",
       "    }\n",
       "</style>\n",
       "<table border=\"1\" class=\"dataframe\">\n",
       "  <thead>\n",
       "    <tr style=\"text-align: right;\">\n",
       "      <th></th>\n",
       "      <th>id</th>\n",
       "      <th>path</th>\n",
       "      <th>t1</th>\n",
       "      <th>t2</th>\n",
       "      <th>winding</th>\n",
       "      <th>phase</th>\n",
       "      <th>pred_phase</th>\n",
       "      <th>type_of</th>\n",
       "      <th>feat0</th>\n",
       "      <th>feat1</th>\n",
       "      <th>...</th>\n",
       "      <th>feat90</th>\n",
       "      <th>feat91</th>\n",
       "      <th>feat92</th>\n",
       "      <th>feat93</th>\n",
       "      <th>feat94</th>\n",
       "      <th>feat95</th>\n",
       "      <th>feat96</th>\n",
       "      <th>feat97</th>\n",
       "      <th>feat98</th>\n",
       "      <th>feat99</th>\n",
       "    </tr>\n",
       "  </thead>\n",
       "  <tbody>\n",
       "    <tr>\n",
       "      <th>0</th>\n",
       "      <td>0</td>\n",
       "      <td>H_-2_-2_0.509296.dat</td>\n",
       "      <td>-2.0</td>\n",
       "      <td>-2.0</td>\n",
       "      <td>0.509296</td>\n",
       "      <td>999</td>\n",
       "      <td>666</td>\n",
       "      <td>test</td>\n",
       "      <td>0.100000</td>\n",
       "      <td>0.100000</td>\n",
       "      <td>...</td>\n",
       "      <td>0.100000</td>\n",
       "      <td>0.100000</td>\n",
       "      <td>0.100000</td>\n",
       "      <td>0.100000</td>\n",
       "      <td>0.100000</td>\n",
       "      <td>0.100000</td>\n",
       "      <td>0.100000</td>\n",
       "      <td>0.100000</td>\n",
       "      <td>0.100000</td>\n",
       "      <td>0.100000</td>\n",
       "    </tr>\n",
       "    <tr>\n",
       "      <th>1</th>\n",
       "      <td>0</td>\n",
       "      <td>H_-2_-2_0.509296.dat</td>\n",
       "      <td>-2.0</td>\n",
       "      <td>-2.0</td>\n",
       "      <td>0.509296</td>\n",
       "      <td>999</td>\n",
       "      <td>666</td>\n",
       "      <td>test</td>\n",
       "      <td>0.141421</td>\n",
       "      <td>0.141142</td>\n",
       "      <td>...</td>\n",
       "      <td>0.114412</td>\n",
       "      <td>0.108967</td>\n",
       "      <td>0.123928</td>\n",
       "      <td>0.119406</td>\n",
       "      <td>0.131490</td>\n",
       "      <td>0.127962</td>\n",
       "      <td>0.136978</td>\n",
       "      <td>0.134500</td>\n",
       "      <td>0.140306</td>\n",
       "      <td>0.138916</td>\n",
       "    </tr>\n",
       "    <tr>\n",
       "      <th>2</th>\n",
       "      <td>0</td>\n",
       "      <td>H_-2_-2_0.509296.dat</td>\n",
       "      <td>-2.0</td>\n",
       "      <td>-2.0</td>\n",
       "      <td>0.509296</td>\n",
       "      <td>999</td>\n",
       "      <td>666</td>\n",
       "      <td>test</td>\n",
       "      <td>0.141421</td>\n",
       "      <td>0.140306</td>\n",
       "      <td>...</td>\n",
       "      <td>0.043702</td>\n",
       "      <td>0.026500</td>\n",
       "      <td>0.075777</td>\n",
       "      <td>0.060214</td>\n",
       "      <td>0.103092</td>\n",
       "      <td>0.090145</td>\n",
       "      <td>0.123928</td>\n",
       "      <td>0.114412</td>\n",
       "      <td>0.136978</td>\n",
       "      <td>0.131490</td>\n",
       "    </tr>\n",
       "    <tr>\n",
       "      <th>3</th>\n",
       "      <td>0</td>\n",
       "      <td>H_-2_-2_0.509296.dat</td>\n",
       "      <td>-2.0</td>\n",
       "      <td>-2.0</td>\n",
       "      <td>0.509296</td>\n",
       "      <td>999</td>\n",
       "      <td>666</td>\n",
       "      <td>test</td>\n",
       "      <td>-0.100000</td>\n",
       "      <td>0.100000</td>\n",
       "      <td>...</td>\n",
       "      <td>-0.100000</td>\n",
       "      <td>0.100000</td>\n",
       "      <td>-0.100000</td>\n",
       "      <td>0.100000</td>\n",
       "      <td>-0.100000</td>\n",
       "      <td>0.100000</td>\n",
       "      <td>-0.100000</td>\n",
       "      <td>0.100000</td>\n",
       "      <td>-0.100000</td>\n",
       "      <td>0.100000</td>\n",
       "    </tr>\n",
       "    <tr>\n",
       "      <th>4</th>\n",
       "      <td>0</td>\n",
       "      <td>H_-2_-2_0.509296.dat</td>\n",
       "      <td>-2.0</td>\n",
       "      <td>-2.0</td>\n",
       "      <td>0.509296</td>\n",
       "      <td>999</td>\n",
       "      <td>666</td>\n",
       "      <td>test</td>\n",
       "      <td>0.000509</td>\n",
       "      <td>-0.008372</td>\n",
       "      <td>...</td>\n",
       "      <td>-0.082713</td>\n",
       "      <td>-0.089753</td>\n",
       "      <td>-0.067684</td>\n",
       "      <td>-0.075347</td>\n",
       "      <td>-0.051587</td>\n",
       "      <td>-0.059753</td>\n",
       "      <td>-0.034677</td>\n",
       "      <td>-0.043217</td>\n",
       "      <td>-0.017220</td>\n",
       "      <td>-0.026000</td>\n",
       "    </tr>\n",
       "    <tr>\n",
       "      <th>5</th>\n",
       "      <td>0</td>\n",
       "      <td>H_-2_-2_0.509296.dat</td>\n",
       "      <td>-2.0</td>\n",
       "      <td>-2.0</td>\n",
       "      <td>0.509296</td>\n",
       "      <td>999</td>\n",
       "      <td>666</td>\n",
       "      <td>test</td>\n",
       "      <td>0.001204</td>\n",
       "      <td>-0.016530</td>\n",
       "      <td>...</td>\n",
       "      <td>-0.134123</td>\n",
       "      <td>-0.138686</td>\n",
       "      <td>-0.118757</td>\n",
       "      <td>-0.127445</td>\n",
       "      <td>-0.095929</td>\n",
       "      <td>-0.108196</td>\n",
       "      <td>-0.067073</td>\n",
       "      <td>-0.082149</td>\n",
       "      <td>-0.034003</td>\n",
       "      <td>-0.050940</td>\n",
       "    </tr>\n",
       "    <tr>\n",
       "      <th>6</th>\n",
       "      <td>0</td>\n",
       "      <td>H_-2_-2_0.509296.dat</td>\n",
       "      <td>-2.0</td>\n",
       "      <td>-2.0</td>\n",
       "      <td>0.509296</td>\n",
       "      <td>999</td>\n",
       "      <td>666</td>\n",
       "      <td>test</td>\n",
       "      <td>-0.141421</td>\n",
       "      <td>-0.138980</td>\n",
       "      <td>...</td>\n",
       "      <td>0.043375</td>\n",
       "      <td>0.067830</td>\n",
       "      <td>-0.009222</td>\n",
       "      <td>0.017385</td>\n",
       "      <td>-0.060524</td>\n",
       "      <td>-0.035502</td>\n",
       "      <td>-0.103326</td>\n",
       "      <td>-0.083403</td>\n",
       "      <td>-0.131616</td>\n",
       "      <td>-0.119589</td>\n",
       "    </tr>\n",
       "    <tr>\n",
       "      <th>7</th>\n",
       "      <td>0</td>\n",
       "      <td>H_-2_-2_0.509296.dat</td>\n",
       "      <td>-2.0</td>\n",
       "      <td>-2.0</td>\n",
       "      <td>0.509296</td>\n",
       "      <td>999</td>\n",
       "      <td>666</td>\n",
       "      <td>test</td>\n",
       "      <td>-0.000826</td>\n",
       "      <td>0.025688</td>\n",
       "      <td>...</td>\n",
       "      <td>0.134753</td>\n",
       "      <td>0.124324</td>\n",
       "      <td>0.141088</td>\n",
       "      <td>0.140407</td>\n",
       "      <td>0.127608</td>\n",
       "      <td>0.136771</td>\n",
       "      <td>0.096206</td>\n",
       "      <td>0.113925</td>\n",
       "      <td>0.051292</td>\n",
       "      <td>0.075079</td>\n",
       "    </tr>\n",
       "    <tr>\n",
       "      <th>8</th>\n",
       "      <td>0</td>\n",
       "      <td>H_-2_-2_0.509296.dat</td>\n",
       "      <td>-2.0</td>\n",
       "      <td>-2.0</td>\n",
       "      <td>0.509296</td>\n",
       "      <td>999</td>\n",
       "      <td>666</td>\n",
       "      <td>test</td>\n",
       "      <td>0.141417</td>\n",
       "      <td>0.136684</td>\n",
       "      <td>...</td>\n",
       "      <td>-0.115093</td>\n",
       "      <td>-0.131915</td>\n",
       "      <td>-0.061266</td>\n",
       "      <td>-0.091040</td>\n",
       "      <td>0.007717</td>\n",
       "      <td>-0.027643</td>\n",
       "      <td>0.074791</td>\n",
       "      <td>0.042592</td>\n",
       "      <td>0.123363</td>\n",
       "      <td>0.102291</td>\n",
       "    </tr>\n",
       "    <tr>\n",
       "      <th>9</th>\n",
       "      <td>0</td>\n",
       "      <td>H_-2_-2_0.509296.dat</td>\n",
       "      <td>-2.0</td>\n",
       "      <td>-2.0</td>\n",
       "      <td>0.509296</td>\n",
       "      <td>999</td>\n",
       "      <td>666</td>\n",
       "      <td>test</td>\n",
       "      <td>0.001302</td>\n",
       "      <td>0.036430</td>\n",
       "      <td>...</td>\n",
       "      <td>0.082068</td>\n",
       "      <td>0.050848</td>\n",
       "      <td>0.127402</td>\n",
       "      <td>0.108132</td>\n",
       "      <td>0.141218</td>\n",
       "      <td>0.138667</td>\n",
       "      <td>0.120099</td>\n",
       "      <td>0.134896</td>\n",
       "      <td>0.069268</td>\n",
       "      <td>0.097755</td>\n",
       "    </tr>\n",
       "  </tbody>\n",
       "</table>\n",
       "<p>10 rows × 108 columns</p>\n",
       "</div>"
      ],
      "text/plain": [
       "   id                  path   t1   t2   winding  phase  pred_phase type_of  \\\n",
       "0   0  H_-2_-2_0.509296.dat -2.0 -2.0  0.509296    999         666    test   \n",
       "1   0  H_-2_-2_0.509296.dat -2.0 -2.0  0.509296    999         666    test   \n",
       "2   0  H_-2_-2_0.509296.dat -2.0 -2.0  0.509296    999         666    test   \n",
       "3   0  H_-2_-2_0.509296.dat -2.0 -2.0  0.509296    999         666    test   \n",
       "4   0  H_-2_-2_0.509296.dat -2.0 -2.0  0.509296    999         666    test   \n",
       "5   0  H_-2_-2_0.509296.dat -2.0 -2.0  0.509296    999         666    test   \n",
       "6   0  H_-2_-2_0.509296.dat -2.0 -2.0  0.509296    999         666    test   \n",
       "7   0  H_-2_-2_0.509296.dat -2.0 -2.0  0.509296    999         666    test   \n",
       "8   0  H_-2_-2_0.509296.dat -2.0 -2.0  0.509296    999         666    test   \n",
       "9   0  H_-2_-2_0.509296.dat -2.0 -2.0  0.509296    999         666    test   \n",
       "\n",
       "      feat0     feat1  ...    feat90    feat91    feat92    feat93    feat94  \\\n",
       "0  0.100000  0.100000  ...  0.100000  0.100000  0.100000  0.100000  0.100000   \n",
       "1  0.141421  0.141142  ...  0.114412  0.108967  0.123928  0.119406  0.131490   \n",
       "2  0.141421  0.140306  ...  0.043702  0.026500  0.075777  0.060214  0.103092   \n",
       "3 -0.100000  0.100000  ... -0.100000  0.100000 -0.100000  0.100000 -0.100000   \n",
       "4  0.000509 -0.008372  ... -0.082713 -0.089753 -0.067684 -0.075347 -0.051587   \n",
       "5  0.001204 -0.016530  ... -0.134123 -0.138686 -0.118757 -0.127445 -0.095929   \n",
       "6 -0.141421 -0.138980  ...  0.043375  0.067830 -0.009222  0.017385 -0.060524   \n",
       "7 -0.000826  0.025688  ...  0.134753  0.124324  0.141088  0.140407  0.127608   \n",
       "8  0.141417  0.136684  ... -0.115093 -0.131915 -0.061266 -0.091040  0.007717   \n",
       "9  0.001302  0.036430  ...  0.082068  0.050848  0.127402  0.108132  0.141218   \n",
       "\n",
       "     feat95    feat96    feat97    feat98    feat99  \n",
       "0  0.100000  0.100000  0.100000  0.100000  0.100000  \n",
       "1  0.127962  0.136978  0.134500  0.140306  0.138916  \n",
       "2  0.090145  0.123928  0.114412  0.136978  0.131490  \n",
       "3  0.100000 -0.100000  0.100000 -0.100000  0.100000  \n",
       "4 -0.059753 -0.034677 -0.043217 -0.017220 -0.026000  \n",
       "5 -0.108196 -0.067073 -0.082149 -0.034003 -0.050940  \n",
       "6 -0.035502 -0.103326 -0.083403 -0.131616 -0.119589  \n",
       "7  0.136771  0.096206  0.113925  0.051292  0.075079  \n",
       "8 -0.027643  0.074791  0.042592  0.123363  0.102291  \n",
       "9  0.138667  0.120099  0.134896  0.069268  0.097755  \n",
       "\n",
       "[10 rows x 108 columns]"
      ]
     },
     "execution_count": 28,
     "metadata": {},
     "output_type": "execute_result"
    }
   ],
   "source": [
    "simulation.dataframe.head(10)"
   ]
  },
  {
   "cell_type": "markdown",
   "metadata": {
    "papermill": {
     "duration": 0.03589,
     "end_time": "2020-07-16T02:37:40.335554",
     "exception": false,
     "start_time": "2020-07-16T02:37:40.299664",
     "status": "completed"
    },
    "tags": []
   },
   "source": [
    "#### Viewing a random sample"
   ]
  },
  {
   "cell_type": "code",
   "execution_count": 29,
   "metadata": {
    "execution": {
     "iopub.execute_input": "2020-07-16T02:37:40.410376Z",
     "iopub.status.busy": "2020-07-16T02:37:40.410059Z",
     "iopub.status.idle": "2020-07-16T02:37:40.444035Z",
     "shell.execute_reply": "2020-07-16T02:37:40.443715Z"
    },
    "papermill": {
     "duration": 0.072559,
     "end_time": "2020-07-16T02:37:40.444087",
     "exception": false,
     "start_time": "2020-07-16T02:37:40.371528",
     "status": "completed"
    },
    "tags": []
   },
   "outputs": [
    {
     "name": "stdout",
     "output_type": "stream",
     "text": [
      "CPU times: user 23.7 ms, sys: 0 ns, total: 23.7 ms\n",
      "Wall time: 23.5 ms\n"
     ]
    }
   ],
   "source": [
    "%%time\n",
    "if simulation.fourier_mode is not None:\n",
    "    simulation.fourier_dataframe.sample(frac=0.1, replace=False)"
   ]
  },
  {
   "cell_type": "markdown",
   "metadata": {
    "papermill": {
     "duration": 0.036172,
     "end_time": "2020-07-16T02:37:40.516709",
     "exception": false,
     "start_time": "2020-07-16T02:37:40.480537",
     "status": "completed"
    },
    "tags": []
   },
   "source": [
    "#### Checking train/val/test splits again"
   ]
  },
  {
   "cell_type": "code",
   "execution_count": 30,
   "metadata": {
    "execution": {
     "iopub.execute_input": "2020-07-16T02:37:40.591409Z",
     "iopub.status.busy": "2020-07-16T02:37:40.591079Z",
     "iopub.status.idle": "2020-07-16T02:37:40.771441Z",
     "shell.execute_reply": "2020-07-16T02:37:40.771747Z"
    },
    "papermill": {
     "duration": 0.218699,
     "end_time": "2020-07-16T02:37:40.771813",
     "exception": false,
     "start_time": "2020-07-16T02:37:40.553114",
     "status": "completed"
    },
    "tags": []
   },
   "outputs": [
    {
     "name": "stdout",
     "output_type": "stream",
     "text": [
      "% train:  0.08474317939338516\n",
      "% val:  0.7620789513793629\n",
      "% test:  0.15317786922725193\n",
      "% train + val + test:  1.0\n",
      "\n",
      "\n",
      "number of train hamiltonians:  556\n",
      "number of val hamiltonians:  5000\n",
      "number of test hamiltonians:  1005\n",
      "total number of hamiltonians:  6561\n",
      "\n",
      "\n",
      "train ids:  [6217, 6362, 625, 3331, 3230, 3675, 2102, 4434, 2219, 2015, 6035, 5892, 3053, 6289, 5928, 2435, 2034, 3536, 2807, 708, 624, 595, 296, 1084, 1926, 5292, 4882, 6181, 2070, 1202, 1618, 1611, 4457, 280, 4192, 195, 1043, 1325, 6353, 3746, 4454, 1974, 4624, 3606, 3188, 3075, 5542, 6455, 3563, 6349, 4610, 4069, 1401, 2221, 4528, 665, 208, 3324, 3734, 6165, 4982, 3702, 4739, 1259, 5103, 4914, 6258, 3484, 832, 4027, 5260, 5689, 5504, 2073, 3994, 1932, 5544, 925, 5371, 3669, 2370, 5913, 1181, 4946, 794, 2932, 5215, 6251, 1457, 5949, 5261, 1135, 3674, 1961, 5776, 14, 609, 930, 5793, 6042, 6545, 674, 521, 153, 2785, 1617, 4226, 5180, 3151, 4134, 5014, 4824, 3542, 2205, 4031, 4094, 6463, 5305, 5721, 4805, 4358, 3242, 4550, 1160, 6445, 6529, 3888, 3345, 191, 787, 537, 1758, 2422, 4322, 2058, 4045, 5404, 2021, 143, 5148, 6088, 4318, 686, 2703, 4075, 5835, 3109, 564, 761, 803, 5896, 5228, 6300, 3218, 4089, 1848, 6387, 4815, 3382, 4792, 5642, 5021, 3405, 5308, 5890, 1048, 2599, 1161, 2135, 3892, 4577, 439, 5029, 591, 2687, 6540, 2647, 432, 3126, 4054, 221, 3635, 5378, 1972, 5863, 2656, 1769, 6127, 3284, 2223, 2502, 2753, 541, 3546, 588, 6271, 1530, 3415, 2644, 3728, 786, 1434, 3180, 6438, 2146, 3358, 67, 5466, 3390, 713, 4768, 1923, 3191, 5608, 691, 3548, 619, 6203, 1113, 4235, 2784, 5075, 1508, 1195, 5283, 2643, 5350, 4993, 4910, 1134, 275, 6287, 2760, 4188, 5482, 2152, 1449, 3851, 2563, 2793, 5515, 2197, 1743, 5974, 6020, 1939, 4477, 2271, 1698, 1685, 4025, 3160, 450, 885, 2727, 3872, 1695, 1031, 5060, 1319, 2618, 2557, 1499, 3792, 599, 383, 3995, 2122, 2481, 4963, 3495, 4285, 2101, 6347, 2604, 520, 3538, 1865, 831, 1332, 1409, 3625, 1338, 4626, 4216, 1828, 3963, 2158, 2035, 126, 2948, 4810, 999, 68, 1859, 3781, 2467, 3439, 552, 3824, 279, 4475, 4466, 3807, 1092, 6508, 4305, 3785, 2398, 700, 267, 5967, 3956, 4487, 2744, 4127, 138, 2590, 2434, 3294, 2991, 3404, 6214, 5053, 3550, 1166, 3633, 4976, 875, 1007, 5784, 1576, 5465, 6043, 1330, 927, 3744, 3678, 5871, 919, 5529, 2273, 5783, 2839, 1290, 2874, 2605, 2312, 2111, 5929, 4860, 4063, 4384, 2020, 4308, 3769, 1857, 847, 424, 2958, 3515, 3589, 1563, 1597, 5377, 5564, 6108, 3914, 748, 6117, 1107, 1704, 4003, 2522, 3612, 3901, 3047, 54, 4955, 1240, 1922, 2076, 3461, 5229, 6415, 2511, 3009, 6521, 949, 3574, 3832, 6336, 1672, 3665, 1619, 1874, 3951, 688, 3340, 5703, 5807, 4581, 3913, 3873, 4415, 4553, 5426, 3089, 6483, 2444, 5033, 3955, 2439, 1446, 6517, 1872, 4072, 2107, 5065, 5101, 477, 1590, 3376, 3814, 5725, 4052, 5650, 508, 6305, 6539, 3314, 4165, 1783, 1117, 762, 6224, 470, 4804, 4164, 3100, 529, 39, 5672, 3719, 4187, 6274, 3838, 119, 6382, 1810, 5340, 6208, 5109, 3319, 3991, 4474, 1425, 3129, 1213, 6278, 3070, 2334, 3407, 3509, 4705, 3863, 4478, 3373, 3739, 141, 5370, 1645, 4034, 5235, 5357, 2587, 554, 5510, 5468, 2097, 5810, 200, 3355, 237, 2742, 6458, 3616, 3347, 4372, 6007, 5177, 5552, 4772, 5779, 2180, 555, 293, 2573, 3417, 3493, 3232, 1029, 3104, 1209, 3629, 6337, 3418, 3369, 647, 193, 3737, 1786, 5733, 3545, 2067, 5463, 5062, 4892, 1757, 2726, 3087, 2855, 2806, 2993, 4776, 2327, 3561, 3791, 2959, 2319, 5528, 2583, 3519, 197, 2110, 637, 2907, 2406, 3987, 1245, 3575, 6450, 4935, 2090, 350, 4570, 5557, 4197, 3794, 1773, 6098, 2790, 6409, 538, 4788, 3076]\n",
      "val ids:  [2854, 342, 3213, 378, 278, 1322, 3131, 1665, 4775, 5770, 219, 3777, 4989, 6324, 1099, 5423, 2022, 3747, 6087, 1959, 5931, 5637, 5126, 4611, 4885, 6452, 2975, 1080, 6142, 1754, 404, 4297, 3067, 5147, 4643, 5231, 3162, 12, 3837, 2853, 3808, 1414, 3167, 6428, 3124, 57, 1204, 3859, 6537, 1837, 3238, 2178, 2182, 1090, 5704, 48, 3338, 3241, 5592, 2282, 1517, 5429, 2520, 1930, 1915, 199, 5728, 35, 2364, 430, 1927, 3666, 3982, 1592, 6024, 2931, 6441, 6498, 1908, 4493, 2555, 3489, 2103, 689, 3038, 2136, 5724, 3848, 1877, 130, 1174, 6183, 539, 972, 4523, 3271, 1114, 3810, 3478, 1301, 3317, 313, 2515, 3181, 4571, 172, 6093, 1021, 5944, 750, 5111, 1709, 1651, 4196, 3379, 5811, 2943, 3834, 6515, 2500, 3247, 2121, 3066, 3604, 970, 3354, 3363, 2868, 4574, 4686, 622, 5593, 1187, 284, 3409, 2802, 784, 2036, 5288, 857, 1002, 4227, 3641, 5277, 1268, 4825, 4930, 4629, 4492, 2979, 4945, 5486, 3654, 1934, 4035, 2857, 874, 1329, 3657, 3713, 60, 5774, 3492, 1813, 4122, 2697, 2416, 526, 5800, 1734, 3077, 1824, 1381, 4575, 2039, 3142, 4082, 512, 4852, 4702, 3789, 1498, 6303, 3102, 5317, 22, 4091, 5794, 1367, 4556, 4023, 3137, 2534, 5116, 5953, 440, 6493, 791, 3862, 387, 1136, 1602, 853, 585, 6173, 5146, 2566, 3584, 3686, 6030, 3370, 5603, 5965, 2372, 2803, 4893, 2316, 4398, 3216, 1129, 349, 1830, 789, 3599, 2779, 4087, 6218, 40, 5549, 1835, 1981, 1287, 5690, 6023, 255, 4161, 4048, 5631, 2454, 681, 5559, 1191, 3611, 6265, 4646, 4462, 131, 1779, 5346, 6139, 2575, 1208, 5176, 4352, 1342, 4967, 2112, 2173, 3342, 1975, 1192, 2879, 3341, 5265, 5037, 6122, 5505, 4735, 5274, 4402, 66, 2354, 3926, 6281, 3079, 3624, 5873, 5238, 1687, 645, 1159, 5135, 1014, 3156, 1186, 3201, 3202, 1351, 3681, 4642, 6110, 3919, 2673, 212, 2619, 6188, 5015, 2559, 1126, 2207, 312, 6544, 4495, 6028, 5977, 311, 505, 4220, 5018, 4872, 2339, 2465, 4667, 1356, 198, 1045, 3884, 2323, 2776, 4782, 699, 5727, 2209, 4953, 2748, 4628, 3125, 5155, 3817, 2677, 680, 2187, 4712, 5217, 3990, 5156, 152, 3092, 3587, 2836, 2169, 828, 1254, 701, 5715, 4525, 5767, 3426, 5262, 2474, 6288, 5636, 2781, 1941, 5674, 2150, 1352, 3518, 4913, 4517, 5956, 1861, 5707, 3780, 106, 6514, 5565, 235, 3048, 6295, 5208, 5131, 421, 2242, 5702, 1794, 4113, 2315, 5950, 4630, 5895, 1424, 4456, 4170, 931, 6282, 1860, 3325, 2490, 1510, 6361, 5205, 2126, 3442, 3146, 2183, 5363, 5382, 2614, 1317, 5472, 5264, 6039, 630, 4390, 1909, 2442, 3351, 944, 1282, 358, 933, 5772, 1613, 1155, 6200, 1349, 3352, 2137, 5764, 3541, 5512, 2888, 3869, 5483, 5298, 4411, 5687, 2731, 727, 2267, 1937, 4990, 3036, 1167, 2455, 4033, 842, 2747, 5050, 2965, 4458, 4663, 1326, 5319, 1237, 5375, 3468, 471, 3381, 75, 780, 2412, 4725, 1335, 5364, 420, 4698, 2322, 6489, 484, 6437, 4911, 5787, 2234, 4627, 3132, 6138, 1198, 2743, 5479, 4112, 4093, 3282, 3368, 468, 2191, 4950, 3005, 5799, 5063, 1514, 1512, 3472, 30, 274, 6118, 6246, 2167, 2970, 4460, 4543, 2514, 1629, 298, 777, 1711, 3488, 3543, 5781, 475, 1771, 1906, 2392, 1873, 5406, 2631, 4179, 4073, 6294, 2671, 1811, 3894, 5607, 5353, 5856, 5115, 1374, 3843, 1792, 3671, 5696, 3715, 6106, 1582, 5513, 3659, 1979, 3139, 2848, 2391, 5454, 3454, 3714, 3021, 2603, 2771, 4304, 3573, 3296, 764, 431, 1283, 128, 860, 6172, 4501, 4855, 1983, 1689, 5159, 1130, 1655, 1774, 271, 2317, 2570, 2255, 2741, 5220, 1013, 3406, 288, 6536, 2792, 4312, 2399, 3339, 4489, 675, 5517, 3809, 6446, 1787, 5955, 4965, 6522, 5142, 3841, 891, 3959, 5694, 1706, 4797, 1137, 854, 2538, 4519, 607, 4736, 6052, 4386, 3564, 2758, 6060, 6343, 797, 2082, 1772, 994, 3485, 1980, 6464, 2577, 4554, 3374, 3510, 3457, 3738, 5448, 1612, 2648, 4061, 4491, 1428, 5833, 3335, 1987, 3482, 4418, 3058, 2105, 1609, 1463, 5078, 2060, 6374, 669, 2768, 93, 5239, 2505, 4309, 6485, 5713, 50, 1791, 3133, 6429, 5537, 375, 2598, 1736, 3622, 5257, 2485, 3741, 5210, 1427, 4040, 1591, 2486, 2153, 3699, 1515, 2164, 2966, 5925, 5620, 618, 1006, 4888, 2362, 2984, 2775, 5434, 2699, 4152, 1898, 1369, 3372, 557, 372, 206, 6510, 711, 5324, 1355, 1350, 515, 5027, 5795, 6130, 98, 2698, 1124, 1336, 3823, 254, 3128, 4148, 2650, 781, 118, 3349, 1543, 3766, 5855, 2026, 1255, 4445, 2638, 1086, 5031, 2981, 360, 5958, 1054, 6057, 1525, 5225, 806, 292, 4619, 4211, 3434, 4937, 5941, 4446, 6427, 1703, 1531, 4126, 6444, 4284, 3419, 1154, 1053, 1702, 583, 4012, 4005, 608, 4940, 2419, 1694, 2858, 4004, 1334, 1986, 2349, 4522, 6548, 4248, 3950, 6302, 277, 4203, 546, 3761, 4097, 359, 2283, 3403, 2546, 582, 5460, 3316, 4218, 2535, 3634, 6506, 2927, 678, 2576, 5150, 3850, 3365, 867, 1931, 3222, 6131, 4727, 1946, 5617, 5401, 4612, 2527, 2166, 371, 3060, 2241, 36, 4908, 4588, 5054, 3206, 1766, 4212, 2176, 1165, 3323, 6259, 4326, 5402, 4229, 2365, 4453, 6253, 3803, 2572, 3585, 2553, 2423, 4137, 1292, 2254, 6354, 843, 2547, 3939, 1948, 3621, 6166, 6424, 6442, 4952, 522, 6297, 207, 2299, 1912, 4938, 2701, 805, 6547, 2840, 4219, 6449, 133, 2866, 1176, 2990, 4125, 1481, 4210, 2446, 5791, 3822, 1778, 3974, 4307, 4368, 2447, 1291, 1686, 3554, 2270, 6516, 5917, 1323, 3988, 4546, 6264, 3596, 1164, 2501, 4124, 3471, 5508, 3413, 4573, 1879, 4275, 6413, 5756, 1997, 361, 4276, 1459, 2987, 4740, 4832, 6013, 4731, 615, 3302, 422, 234, 3483, 4803, 1023, 3343, 2601, 3793, 4636, 6048, 3010, 1168, 2919, 5467, 127, 3820, 4261, 5268, 3870, 1862, 4968, 5616, 4601, 1079, 4142, 3080, 4090, 5624, 64, 1018, 6201, 268, 702, 4067, 4502, 3931, 2985, 6124, 2432, 5134, 6433, 884, 353, 4647, 594, 712, 2427, 1541, 2329, 4887, 4406, 3949, 3922, 3295, 6075, 5802, 2387, 2851, 1093, 6163, 1657, 4412, 4337, 2968, 1654, 3173, 5675, 5161, 1249, 939, 4662, 6040, 1379, 5044, 3159, 3328, 3082, 4135, 5516, 1684, 6210, 4014, 4504, 5341, 5850, 3670, 746, 1814, 6418, 3469, 1248, 664, 5563, 5293, 5449, 1075, 4371, 4375, 1870, 5525, 6212, 2431, 5445, 110, 2865, 4340, 2639, 4437, 5476, 3272, 5303, 2518, 1745, 5753, 3664, 5924, 3695, 2740, 122, 4817, 125, 2024, 3305, 1246, 752, 912, 5322, 1024, 4683, 2712, 3022, 5362, 4696, 4996, 1565, 4569, 394, 964, 2910, 4751, 4970, 2482, 990, 5149, 6372, 4655, 3871, 2944, 4473, 3882, 3560, 3885, 4691, 3494, 2863, 6283, 4833, 3281, 3091, 4324, 4763, 1914, 1111, 1696, 4396, 1276, 751, 5481, 6270, 1540, 2938, 466, 2410, 2903, 5546, 606, 4464, 3682, 4357, 3688, 2324, 2533, 5773, 549, 4421, 2847, 3497, 2825, 3507, 6466, 776, 3812, 453, 2247, 5534, 144, 2189, 4447, 4807, 3143, 1596, 2303, 4168, 1358, 2886, 841, 3743, 3765, 3844, 2680, 3647, 5844, 6461, 4941, 1825, 395, 2174, 967, 4802, 6269, 4943, 4291, 4241, 5452, 5545, 3138, 3912, 1091, 4436, 1625, 2263, 4107, 2767, 2921, 5056, 2302, 4770, 6121, 6423, 1493, 509, 3086, 4948, 5230, 1339, 1412, 4997, 590, 4632, 4461, 3068, 5348, 1933, 3237, 1842, 6359, 5849, 3185, 4529, 1753, 3646, 5611, 5223, 444, 1354, 2600, 4467, 3877, 6384, 336, 4081, 3638, 3568, 3410, 5459, 419, 2078, 1863, 5862, 763, 302, 1712, 677, 258, 1653, 2982, 3672, 886, 2710, 861, 2006, 2974, 4145, 5456, 4490, 1100, 551, 2359, 192, 4944, 2989, 3097, 1851, 5387, 3348, 950, 3245, 3264, 855, 1078, 2606, 771, 3502, 5287, 3027, 6379, 2194, 2554, 5157, 4300, 1652, 2054, 775, 2249, 1903, 4548, 2651, 6504, 6334, 2390, 1727, 4095, 2685, 6186, 1364, 1001, 2277, 3923, 5485, 256, 2828, 3166, 1949, 5809, 3240, 888, 6457, 29, 5442, 2086, 3029, 345, 6453, 6469, 5514, 5013, 6492, 3045, 2634, 5700, 4903, 6216, 6332, 4987, 2664, 5803, 1831, 5882, 3069, 2759, 442, 202, 795, 634, 5270, 4302, 3969, 1033, 1549, 5094, 3183, 1247, 1834, 3431, 2980, 4621, 146, 2405, 4209, 4958, 2366, 437, 4130, 531, 2859, 5232, 4032, 5455, 5385, 518, 5034, 4452, 6434, 845, 6202, 865, 49, 3026, 5403, 1942, 3552, 3398, 5070, 953, 41, 2014, 1544, 3710, 5096, 6550, 1871, 1989, 1577, 2268, 32, 3933, 4106, 4360, 2495, 2607, 4133, 2348, 1578, 23, 5243, 1036, 5140, 1019, 4450, 5012, 6220, 2165, 1403, 4325, 6542, 1008, 20, 4742, 1749, 1263, 3061, 621, 1954, 4404, 6046, 4105, 809, 670, 5522, 3717, 3275, 3828, 4765, 2336, 3042, 5806, 3209, 3703, 382, 1244, 4013, 4845, 2198, 1215, 2044, 4846, 6373, 6417, 4282, 177, 1574, 1182, 5973, 1691, 3815, 6369, 4171, 4334, 852, 5289, 4777, 2016, 4251, 4144, 1005, 3903, 1028, 3011, 1950, 2181, 4376, 1072, 506, 3307, 2777, 4820, 6211, 3386, 6167, 996, 58, 1108, 2506, 4202, 5306, 286, 1809, 1715, 1548, 5397, 6038, 943, 5480, 3249, 4533, 4706, 1875, 4738, 6077, 2409, 1567, 4169, 2665, 261, 5752, 2244, 6341, 517, 6331, 3236, 5639, 5719, 4687, 1423, 4355, 5478, 3096, 3438, 3607, 6014, 6059, 4397, 833, 632, 6137, 917, 3983, 4190, 1464, 5436, 16, 646, 3001, 3718, 690, 5291, 1905, 4176, 5019, 5648, 3660, 1341, 2594, 3458, 3516, 2193, 4886, 3663, 4983, 1269, 3039, 6029, 2791, 386, 589, 3676, 5061, 5227, 223, 3784, 5206, 598, 1348, 1486, 2226, 2569, 1595, 2536, 5107, 6026, 2313, 4600, 315, 4851, 6037, 2275, 2338, 2597, 6541, 5808, 6534, 2162, 1256, 2593, 5028, 3168, 6490, 3306, 4620, 5117, 291, 1303, 755, 586, 2287, 1844, 5424, 5635, 3667, 2007, 4364, 3972, 2591, 693, 6523, 2683, 6462, 768, 5790, 1047, 4730, 3416, 4876, 6111, 3943, 3852, 2337, 5870, 1951, 381, 1539, 4451, 5726, 973, 6491, 5996, 3842, 4828, 535, 2229, 4717, 4622, 2711, 297, 1628, 3391, 3694, 6249, 3453, 6100, 6531, 3732, 2733, 2008, 3770, 4811, 4766, 947, 1616, 53, 5484, 5861, 2829, 4138, 6502, 1483, 5553, 2453, 504, 3626, 1371, 376, 2309, 225, 112, 1482, 1523, 4064, 4280, 2755, 3610, 1377, 3175, 187, 1183, 5994, 5768, 4871, 3593, 4287, 4194, 644, 220, 5530, 5959, 1328, 1650, 2679, 3023, 4001, 3539, 2835, 929, 2300, 1818, 136, 11, 5676, 3656, 6058, 3586, 3577, 3290, 1667, 2730, 1815, 2119, 6025, 4688, 5204, 196, 1550, 4007, 1646, 1297, 3721, 182, 3899, 2914, 3401, 3776, 5699, 502, 753, 1678, 259, 2846, 2752, 1566, 2218, 6260, 2728, 4864, 584, 5398, 140, 94, 1697, 3835, 5302, 620, 1518, 129, 4995, 4316, 4373, 4369, 2524, 1748, 452, 3150, 2695, 2531, 2061, 1699, 120, 2484, 1347, 1976, 4704, 3322, 3576, 1056, 174, 5876, 3503, 3883, 6430, 4532, 19, 6032, 4286, 5474, 5051, 5345, 2652, 3177, 4116, 870, 1936, 4303, 1085, 2830, 3977, 2586, 5936, 1624, 4335, 2291, 5894, 3954, 2124, 6377, 3164, 4587, 2310, 4071, 4108, 3427, 4821, 33, 351, 1257, 3565, 5011, 3184, 5930, 4889, 849, 1400, 5732, 3101, 5196, 6364, 3984, 2923, 6530, 3505, 2345, 3504, 5300, 4146, 6279, 1433, 4567, 1683, 3030, 190, 1177, 2900, 997, 2969, 3105, 5464, 2881, 2700, 173, 4710, 6134, 403, 6190, 1756, 4293, 459, 2196, 2977, 4273, 1581, 6497, 2808, 4332, 1895, 3725, 3651, 2204, 5714, 222, 4295, 3924, 4659, 4083, 5272, 5757, 5695, 1973, 5596, 4985, 3603, 3880, 72, 228, 1649, 5643, 2355, 3420, 4444, 6304, 464, 1688, 5368, 4178, 1384, 2222, 2824, 5226, 5354, 2831, 3119, 5647, 2778, 3088, 4233, 4883, 3631, 3475, 4933, 4648, 5342, 1995, 5032, 3540, 5282, 5875, 2722, 1157, 2899, 3697, 3693, 1278, 4584, 4657, 3724, 5123, 5782, 2890, 4395, 6084, 3906, 4905, 1755, 2882, 1087, 3279, 3500, 2916, 6222, 1417, 6298, 3153, 4536, 5066, 4566, 4665, 2332, 5705, 1418, 2426, 5043, 6176, 6329, 3289, 5640, 226, 679, 1500, 1985, 610, 4068, 4582, 1467, 6031, 4947, 4092, 6487, 4439, 4224, 3327, 766, 4365, 2521, 2029, 5092, 5951, 5622, 5866, 3999, 343, 4936, 423, 124, 5778, 5567, 2104, 2926, 565, 214, 5555, 2346, 5543, 5017, 3292, 4096, 5462, 2721, 6538, 3428, 1731, 3140, 4423, 5213, 3905, 921, 96, 2962, 5392, 1751, 836, 3299, 4774, 4247, 4848, 5158, 547, 1262, 3392, 767, 6215, 6126, 2878, 3251, 2436, 70, 3645, 2736, 5184, 2820, 3562, 1344, 4362, 6403, 2658, 5100, 3122, 1892, 1340, 1346, 5711, 4823, 4771, 448, 1448, 2509, 4819, 5860, 5685, 2065, 2508, 856, 364, 5865, 2896, 5859, 4272, 5313, 3908, 1189, 3763, 2714, 3224, 4895, 3024, 2497, 5888, 3712, 1854, 1077, 1658, 2609, 304, 151, 2140, 3309, 428, 6195, 5891, 4901, 3847, 1957, 2099, 5527, 3975, 2937, 5118, 5110, 1363, 6532, 4485, 4681, 4245, 5059, 1945, 2018, 696, 3231, 3705, 3572, 4818, 2689, 3649, 3866, 4861, 4274, 3169, 4221, 6170, 503, 5798, 111, 513, 2200, 76, 4858, 26, 1032, 1762, 6184, 3178, 2094, 3588, 2307, 123, 3265, 772, 3962, 2810, 5030, 3234, 2571, 1868, 1402, 4055, 4830, 3073, 211, 4661, 5207, 3258, 4614, 4111, 2478, 2430, 563, 5763, 2528, 6459, 2645, 783, 511, 3644, 5301, 4204, 392, 4873, 4521, 3432, 4104, 5881, 5638, 6196, 5558, 5604, 935, 4988, 760, 3529, 137, 5195, 6169, 4909, 2326, 782, 6027, 2356, 5259, 5153, 1575, 3755, 3437, 4175, 3303, 4685, 4016, 2815, 3767, 1763, 5461, 4863, 5104, 5242, 956, 6012, 3093, 3467, 51, 189, 2551, 4215, 4410, 5621, 6275, 59, 2889, 4534, 2363, 2285, 6367, 2040, 4722, 3864, 3952, 2654, 5211, 1584, 4389, 2340, 2849, 6528, 5547, 121, 4530, 2545, 2228, 2236, 2844, 5295, 5633, 3364, 1429, 1529, 4503, 6193, 3194, 3547, 1212, 3134, 1955, 3642, 3182, 1938, 3214, 4795, 2120, 2397, 2893, 1406, 1104, 2428, 3145, 1501, 6301, 2765, 1994, 2996, 389, 3037, 1662, 5212, 1902, 530, 6185, 3799, 194, 2483, 3176, 1171, 3865, 3455, 2289, 1460, 1589, 5532, 2493, 3521, 3308, 2276, 6248, 3537, 1251, 793, 4010, 1432, 724, 915, 969, 2344, 4984, 5812, 55, 2448, 2734, 5785, 282, 528, 2717, 3930, 4689, 4654, 1977, 2042, 754, 5046, 3797, 3881, 6494, 4129, 1430, 2333, 3683, 2821, 6255, 2850, 6016, 694, 3367, 1405, 1253, 2838, 303, 2739, 2902, 6512, 687, 2750, 2529, 965, 4486, 951, 4745, 62, 5618, 2818, 837, 2314, 2561, 5541, 3544, 4043, 2233, 1179, 2544, 5957, 6443, 4966, 3786, 1431, 6085, 2388, 2386, 2887, 2897, 5625, 597, 4301, 2350, 4385, 1674, 2564, 792, 3579, 2185, 2596, 4242, 4378, 1913, 4259, 2335, 3762, 796, 115, 4443, 3298, 1094, 4143, 848, 3250, 4009, 1632, 523, 3267, 2487, 911, 3775, 5136, 4356, 6266, 5035, 1622, 3013, 5321, 2763, 5160, 3605, 5457, 550, 2003, 3253, 3957, 5275, 181, 4288, 2352, 4633, 616, 1180, 1074, 4109, 627, 3090, 4857, 548, 1890, 2470, 3333, 117, 338, 1112, 5267, 10, 2262, 5877, 920, 3726, 605, 2115, 1220, 1407, 3445, 2935, 1097, 4531, 1900, 6257, 5720, 216, 5450, 4618, 3944, 2972, 4278, 6533, 6376, 2168, 5518, 6263, 4617, 4250, 139, 5389, 3112, 150, 2186, 3498, 914, 4440, 1275, 1052, 1819, 1010, 4319, 427, 2940, 6333, 4405, 3801, 5797, 45, 1988, 1728, 1380, 4498, 5052, 5751, 27, 1000, 1178, 3839, 4208, 4151, 3054, 2476, 5914, 5628, 3412, 5684, 4051, 3897, 5224, 4140, 2274, 4813, 2113, 4394, 2954, 1522, 5718, 2179, 1623, 2005, 2195, 2199, 4289, 2674, 4850, 3400, 5916, 4747, 6114, 5430, 4572, 3411, 4979, 4167, 3986, 2892, 4237, 5372, 2876, 3158, 2225, 135, 227, 542, 2238, 2089, 6460, 6008, 374, 6518, 2144, 91, 5381, 3396, 4207, 3945, 4150, 3223, 2626, 6104, 4199, 3524, 5152, 3582, 1098, 3668, 1206, 510, 3273, 3312, 4865, 4120, 73, 2479, 13, 6432, 3985, 1960, 6328, 5962, 5366, 2496, 2611, 2269, 3708, 6408, 1055, 429, 2953, 6244, 3648, 2523, 5671, 287, 5175, 5093, 4392, 1506, 2832, 940, 2837, 4482, 5273, 4870, 4694, 5189, 1188, 396, 3736, 726, 4748, 3549, 1082, 4470, 1004, 1852, 2041, 5589, 5347, 5380, 5966, 458, 5804, 4217, 4496, 1370, 474, 3964, 4506, 4030, 4723, 1252, 672, 2574, 715, 5432, 4484, 2769, 4579, 4079, 2796, 2027, 4773, 6366, 3421, 685, 1729, 5651, 263, 4623, 2872, 3506, 1138, 2562, 3904, 4279, 1197, 1833, 862, 3831, 6017, 2724, 1044, 188, 3414, 6527, 1708, 6509, 2812, 1258, 2257, 3514, 869, 2621, 3615, 5969, 21, 4664, 4884, 4695, 3243, 5570, 314, 5934, 3898, 6141, 435, 1408, 2503, 2492, 3896, 3136, 2237, 185, 4729, 5097, 1671, 6524, 5978, 6352, 5016, 1026, 4750, 5073, 4121, 4708, 3147, 863, 5386, 3443, 6179, 3269, 6299, 4651, 2617, 6116, 706, 1911, 5946, 1788, 2653, 3266, 5786, 3942, 5294, 877, 4163, 3203, 1693, 155, 3530, 4980, 4239, 3620, 1952, 6468, 4449, 1462, 3701, 4794, 3099, 2978, 3205, 3257, 4311, 4542, 4363, 3578, 3932, 6129, 4896, 5869, 210, 2613, 272, 5686, 5178, 544, 438, 4399, 5379, 3753, 3470, 3065, 2884, 1893, 2177, 5766, 1992, 2537, 3195, 3071, 1998, 3270, 2456, 307, 1042, 447, 788, 3968, 1450, 3465, 3857, 604, 4214, 3917, 745, 5511, 4414, 3451, 6051, 2904, 4339, 1436, 3890, 5453, 2956, 3868, 6435, 5960, 6192, 3499, 1916, 5554, 4613, 107, 5595, 5627, 2579, 42, 4716, 2384, 5796, 3018, 2852, 418, 3722, 1740, 4294, 3019, 3397, 2149, 4697, 5526, 5708, 3971, 4236, 4853, 623, 6168, 231, 132, 3226, 4078, 2095, 3256, 4008, 362, 2190, 5533, 5701, 3447, 628, 5712, 525, 4934, 4327, 3225, 924, 3276, 4540, 1738, 5963, 2232, 3583, 3378, 4957, 1853, 5709, 3423, 5315, 6054, 6338, 3704, 4011, 3016, 2231, 2877, 2860, 4915, 2499, 1035, 4798, 4598, 2885, 1812, 2230, 4260, 2589, 3015, 1236, 2967, 1808, 3278, 2558, 2584, 596, 4631, 5536, 5771, 6273, 2464, 4117, 3463, 4299, 6425, 4046, 2738, 5964, 1266, 176, 5889, 1410, 1419, 1302, 4890, 683, 4954, 2513, 2588, 3614, 4341, 5872, 6191, 2816, 4455, 2691, 1357, 966, 270, 1832, 1603, 4605, 2911, 698, 5151, 3020, 3259, 6034, 3491, 134, 769, 6327, 3344, 2256, 5670, 1162, 600, 105, 1850, 2033, 5836, 2415, 5926, 4693, 305, 2246, 1170, 3745, 2998, 5192, 2441, 1607, 4413, 1456, 3057, 1443, 2098, 5788, 1378, 4177, 6247, 4459, 2761, 3219, 4516, 2239, 5952, 3929, 1545, 3551, 5539, 179, 5569, 5286, 6360, 3487, 1288, 290, 5697, 281, 4201, 1866, 2725, 6350, 5716, 2568, 6549, 4044, 1466, 5995, 5851, 6385, 6456, 5297, 2403, 2059, 835, 1666, 1845, 2281, 289, 5886, 3286, 1324, 5932, 1488, 2288, 9, 3778, 4200, 1614, 1020, 2708, 337, 3858, 1707, 3051, 4065, 6105, 3144, 460, 5311, 2043, 4734, 3130, 4085, 4225, 5186, 4786, 2915, 3941, 2072, 3287, 4338, 4552, 1752, 2662, 3371, 4074, 3479, 3014, 6451, 4469, 3353, 365, 3315, 4110, 3628, 4526, 4062, 3084, 1271, 3790, 1990, 3636, 5780, 4331, 932, 807, 3149, 3108, 3255, 6205, 6363, 2062, 3591, 2358, 4732, 5488, 1856, 1096, 3700, 5765, 1534, 4253, 4393, 2382, 5458, 633, 6375, 1293, 5447, 3973, 3707, 1701, 5431, 6178, 5393, 1785, 2507, 3716, 4658, 514, 3326, 4971, 95, 5594, 4557, 63, 1586, 2306, 3041, 5645, 3619, 1285, 323, 1366, 2690, 6004, 3966, 5193, 2142, 4728, 1011, 4222, 3677, 704, 3288, 3211, 3074, 4314, 4555, 5646, 1239, 3283, 3050, 1298, 1468, 1741, 3113, 4407, 3111, 3486, 3350, 5927, 4315, 3387, 3293, 2686, 2891, 4499, 5893, 3525, 3229, 2325, 3960, 2106, 6421, 3157, 5095, 2010, 2636, 4422, 6272, 6049, 1535, 2004, 2783, 5141, 5074, 5843, 758, 262, 3571, 4006, 1260, 5938, 4416, 1795, 1016, 2159, 5755, 1768, 4066, 5221, 3893, 295, 1194, 1606, 4306, 1917, 3163, 3640, 108, 3046, 2549, 2011, 5649, 2092, 2602, 175, 4539, 4939, 3366, 1454, 3228, 1826, 1918, 6414, 2814, 3064, 5296, 5832, 2055, 2737, 2471, 4767, 44, 2156, 3867, 2143, 1585, 778, 357, 2488, 434, 1116, 2171, 3978, 1816, 6006, 3758, 1158, 6112, 116, 2290, 5045, 1385, 347, 6454, 3043, 276, 15, 1838, 4403, 3740, 3148, 4246, 456, 5129, 4243, 5405, 2942, 3450, 3902, 6431, 2264, 109, 1962, 217, 1864, 3004, 2028, 2580, 5314, 5729, 6157, 5344, 6055, 3783, 2585, 1647, 5857, 922, 4049, 2660, 1438, 6383, 998, 2360, 1030, 2331, 6346, 1537, 5524, 4638, 3909, 2992, 910, 5710, 6123, 426, 4123, 5427, 5669, 4784, 5961, 883, 2342, 2475, 4060, 1250, 3508, 3062, 6033, 1630, 1185, 1878, 3860, 1822, 4737, 3751, 2083, 6036, 2681, 4149, 4741, 2258, 3318, 264, 1739, 4847, 145, 454, 4854, 2898, 4387, 462, 5883, 5057, 1502, 3727, 3819, 3152, 443, 3049, 113, 5789, 6209, 4036, 2009, 6187, 4158, 6005, 4520, 4877, 2670, 4699, 5475, 71, 6306, 668, 5036, 4634, 5098, 1587, 747, 779, 3436, 1485, 4974, 5801, 4682, 5369, 3106, 2286, 1836, 695, 4779, 707, 3320, 2630, 1899, 519, 156, 5550, 4789, 3448, 840, 5428, 2341, 4359, 3756, 6505, 6252, 6099, 344, 1300, 4053, 4232, 1046, 3723, 5507, 6194, 4354, 3910, 4269, 5834, 6256, 532, 1659, 6339, 6189, 5509, 5072, 1452, 913, 2945, 209, 4162, 612, 4703, 5551, 1495, 1536, 3816, 4928, 2141, 5122, 5683, 4790, 2797, 6136, 1487, 850, 2155, 1608, 3782, 2713, 3798, 3627, 3107, 4047, 4900, 5108, 1076, 3566, 5068, 1564, 839, 5216, 2031, 5471, 2245, 1656, 2188, 2629, 1935, 1676, 354, 2077, 6103, 1626, 6419, 1132, 3059, 6010, 3592, 2424, 2756, 6370, 5968, 3662, 4891, 3967, 2408, 1690, 1365, 4147, 2627, 6345, 6378, 3559, 257, 1876, 5538, 157, 3916, 5605, 3361, 300, 2612, 4059, 631, 5154, 3805, 1353, 3948, 1797, 6448, 5847, 1747, 1670, 46, 2719, 5722, 3555, 3204, 3127, 1570, 3199, 4942, 4562, 5897, 3375, 4189, 4408, 2243, 3388, 3357, 2635, 4743, 4616, 6484, 3321, 6267, 2693, 316, 1677, 717, 3189, 306, 5590, 236, 945, 355, 4366, 1015, 3380, 5933, 433, 545, 1572, 1817, 4313, 3886, 3208, 1737, 3227, 1940, 2351, 97, 5376, 2278, 4328, 5236, 3953, 613, 1790, 397, 5399, 186, 4902, 3263, 5320, 5258, 6076, 5067, 3476, 2139, 1404, 4538, 5612, 6022, 5349, 4050, 3336, 889, 2175, 2795, 3460, 47, 6107, 3687, 3268, 629, 4904, 4977, 5400, 617, 4607, 4333, 6132, 1442, 5071, 5312, 533, 1829, 1034, 1904, 2357, 859, 4141, 6284, 4653, 5942, 2930, 4056, 4115, 4859, 230, 1781, 6496, 1947, 1489, 2367, 1265, 666, 149, 4769, 5049, 3007, 5730, 5644, 6422, 2437, 4391, 3254, 229, 3597, 5127, 3996, 5634, 941, 6513, 4986, 3402, 310, 5937, 1660, 4463, 483, 457, 3845, 1764, 4604, 3891, 527, 4351, 4174, 2764, 1750, 952, 2696, 2371, 5884, 6097, 6507, 1327, 6546, 773, 2393, 2248, 1320, 5064, 6045, 2252, 3661, 5477, 4962, 4537, 5568, 6204, 5384, 5316, 3979, 1855, 5181, 3522, 2220, 5560, 2224, 1867, 3768, 602, 5854, 3992, 1122, 2068, 4625, 37, 446, 873, 373, 3830, 2084, 3172, 6109, 4476, 2684, 4809, 3098, 6083, 6003, 3754, 6171, 6501, 352, 3095, 4172, 4153, 5077, 6285, 1133, 6089, 5307, 1465, 1321, 3802, 3473, 5106, 2773, 4878, 1526, 2123, 6182, 1211, 3874, 938, 6125, 2038, 3192, 3304, 142, 3452, 804, 3094, 6207, 1383, 3594, 1003, 4718, 2394, 5198, 5284, 5754, 3879, 4527, 3123, 3569, 285, 2735, 4270, 1175, 4442, 1216, 2385, 864, 3811, 2949, 6245, 3861, 1261, 2976, 1796, 2963, 5185, 441, 4223, 3907, 3055, 5024, 5276, 341, 4086, 5473, 1193, 2663, 65, 4666, 3632, 1217, 2772, 5619, 5373, 3118, 6221, 918, 4796, 5137, 3025, 4310, 1503, 5853, 2668, 2917, 2754, 4541, 5614, 4438, 543, 5677, 3117, 846, 4234, 5374, 5879, 2347, 6018, 4370, 2950, 1362, 1242, 5356, 2206, 4599, 6543, 1027, 5885, 3925, 2936, 183, 6197, 6262, 6447, 3002, 3637, 2172, 6156, 1631, 1610, 5626, 2610, 4724, 4931, 4271, 3395, 5010, 4649, 3449, 955, 3078, 6096, 2530, 1726, 1050, 2330, 6115, 4978, 2100, 100, 2988, 1296, 4128, 4298, 934, 2272, 2266, 3028, 2672, 3464, 5233, 2368, 5128, 393, 3330, 4159, 24, 2581, 3044, 2833, 3532, 2396, 5805, 5940, 6101, 384, 4568, 5209, 5105, 2766, 4231, 2202, 5693, 2161, 4037, 2023, 5867, 887, 3110, 5299, 723, 469, 6357, 6525, 3155, 928, 4420, 283, 3623, 5435, 5562, 4277, 5038, 6407, 3779, 2955, 1207, 6495, 3698, 5691, 1583, 6293, 4409, 1730, 6092, 6198, 4975, 2304, 3261, 3260, 1190, 3706, 2433, 2517, 2801, 2552, 4544, 3430, 1664, 4381, 6348, 2729, 1675, 3947, 2986, 2947, 147, 3481, 4656, 2284, 224, 390, 2864, 2688, 2843, 1331, 2414, 2452, 1289, 5099, 4382, 1767, 2526, 3711, 34, 5351, 1869, 148, 1272, 4906, 3425, 4028, 1343, 834, 4058, 4785, 3480, 1509, 676, 4609, 6254, 1513, 4024, 6499, 5218, 6368, 5197, 593, 3989, 838, 3742, 991, 3459, 43, 3618, 3179, 6500, 1491, 3035, 827, 201, 5219, 2983, 6128, 2512, 340, 380, 4650, 4746, 4972, 923, 749, 2321, 2301, 273, 5868, 1299, 4166, 114, 2201, 3291, 6420, 4500, 5629, 5048, 3274, 3601, 890, 1524, 1993, 1415, 6021, 2108, 2025, 1416, 4869, 180, 1447, 4088, 6291, 5079, 1376, 4585, 2939, 3643, 2085, 6091, 808, 1789, 968, 4714, 5433, 4342, 5271, 1241, 2723, 757, 4545, 449, 1984, 3031, 1896, 3063, 369, 6011, 2117, 3114, 1705, 4744, 4483, 936, 3233, 5214, 1894, 3535, 3921, 1780, 2861, 5846, 4076, 4257, 204, 1735, 6340, 5535, 587, 3806, 4549, 4379, 1507, 1219, 1125, 2905, 5133, 2908, 4749, 3764, 363, 3940, 4191, 926, 6371, 1102, 1538, 1528, 3165, 1604, 3384, 3262, 3557, 5692, 4173, 3759, 3733, 5470, 1568, 4029, 2030, 3121, 74, 3017, 2745, 18, 3462, 3496, 4321, 4077, 1455, 4139, 1821, 3846, 5241, 4791, 3215, 4195, 1925, 4015, 1793, 2862, 2504, 2109, 5688, 4635, 6386, 5309, 1746, 4374, 2811, 4488, 3825, 3433, 1368, 1958, 697, 309, 5775, 5506, 1270, 2510, 1770, 2250, 3556, 2489, 851, 4793, 4383, 2151, 4039, 2227, 2063, 2473, 2383, 3141, 5469, 1492, 2138, 5266, 4057, 2646, 2002, 2961, 3408, 2845, 5179, 1569, 3186, 3696, 1118, 1420, 1127, 3441, 6406, 5358, 5976, 4002, 436, 2875, 5523, 1382, 339, 1956, 1504, 1294, 6056, 705, 957, 1494, 4606, 1710, 995, 5124, 4131, 3190, 759, 3829, 6053, 3692, 2012, 2259, 1264, 2235, 1846, 6113, 716, 4213, 5112, 3729, 3598, 61, 6358, 6133, 2308, 2305, 4296, 1083, 4812, 4932, 3918, 2114, 5630, 5022, 4564, 4494, 2449, 524, 4249, 473, 3171, 260, 1669, 3511, 6404, 101, 1765, 1203, 4856, 770, 3399, 2782, 2692, 6412, 4827, 1891, 2661, 5394, 516, 4070, 4991, 5388, 5769, 4435, 3895, 5972, 4343, 2369, 6416, 709, 3534, 3311, 1421, 1422, 3528, 1156, 2463, 2429, 703, 5874, 3849, 6551, 1214, 3513, 1243, 6351, 6344, 1627, 2440, 2261, 6330, 3154, 463, 5971, 5143, 5203, 4244, 581, 2445, 1095, 2353, 205, 636, 3196, 5263, 2578, 2925, 6326, 5531, 682, 2147, 4292, 3878, 2813, 5591, 5047, 3246, 1103, 4118, 6180, 5814, 4603, 2265, 790, 25, 2525, 501, 643, 2873, 2774, 3821, 4186, 451, 3813, 4899, 1333, 2924, 388, 566, 213, 1847, 6164, 2096, 6094, 2418, 6342, 6044, 3008, 5837, 4041, 348, 5615, 232, 1375, 3752, 3332, 1823, 4154, 5194, 1588, 4388, 5076, 3826, 4709, 4583, 1594, 2641, 5278, 5610, 2013, 3239, 1295, 4157, 3570, 2548, 3800, 948, 4637, 1012, 2374, 611, 215, 2208, 1907, 425, 5698, 3617, 4868, 4132, 3383, 4565, 3389, 3750, 5444, 868, 5706, 1996, 714, 2649, 3446, 1372, 356, 1123, 1598, 2494, 4690, 4238, 2946, 5731, 4733, 5845, 104, 4206, 710, 6486, 2842, 3221, 3796, 3523, 2402, 5290, 5304, 5114, 2389, 2929, 1218, 3466, 3056, 601, 5055, 540, 692, 6380, 5446, 6355, 6177, 5144, 5561, 1025, 1573, 385, 2466, 1621, 3220, 2125, 4026, 3424, 1777, 3244, 2657, 993, 4822, 4156, 3517, 2642, 1605, 1714, 4969, 6277, 5673, 5069, 2311, 2411, 4949, 3003, 2628, 3639, 684, 3720, 2997, 2280, 4038, 1505, 5422, 2318, 2934, 2659, 1435, 1484, 184, 3889, 4670, 3512, 2757, 2413, 6323, 3085, 1953, 2592, 3553, 3655, 1169, 6206, 963, 2826, 3709, 4652, 3161, 2822, 2913, 2056, 5588, 2894, 3980, 2620, 5183, 1944, 3477, 1700, 5587, 4711, 6405, 6411, 4497, 954, 99, 4780, 5723, 937, 3875, 6488, 4707, 872, 4994, 4283, 2556, 635, 4806, 667, 6119, 3346, 756, 4578, 4353, 2817, 2971, 4417, 2809, 6296, 5383, 1426, 3115, 1732, 4764, 6237, 4547, 3170, 4898, 4136, 377, 308, 1073, 3533, 4524, 2071, 5145, 4119, 4692, 1682, 6140, 1274, 3961, 5609, 2404, 2608, 2420, 2716, 1453, 4783, 5815, 2516, 2941, 1273, 866, 4535, 5777, 3581, 366, 2637, 6090, 3193, 4608, 154, 2381, 2867, 4468, 534, 5948, 4684, 472, 4252, 2856, 2702, 3435, 2093, 728, 2468, 4981, 3000, 2823, 2170, 6410, 4713, 3490, 5947, 6290, 2973, 5130, 2550, 2633, 3052, 5979, 4401, 2260, 1673, 2615, 3285, 2417, 2253, 6219, 1345, 6009, 5365, 2361, 4551, 1286, 2532, 299, 3970, 1110, 2373, 5391, 2066, 4155, 3804, 461, 2616, 1277, 3673, 5437, 2075, 1399, 3456, 6335, 6261, 6467, 3836, 3531, 1668, 2451, 4255, 2999, 4700, 3630, 5864, 4558, 556, 52, 5975, 445, 5020, 4576, 1733, 3207, 1943, 3356, 3210, 992, 1109, 5438, 3083, 6223, 4875, 6388, 5285, 2715, 1373, 2565, 3757, 3653, 603, 536, 1115, 3558, 2933, 2841, 2567, 614, 5613, 2682, 5188, 1661, 6381, 4228, 5202, 5190, 1105, 2595, 368, 6243, 2064, 2498, 3580, 1131, 5234, 4230, 1017, 2912, 1037, 1620, 1458, 2655, 2443, 6511, 4602, 871, 2118, 785, 2920, 5237, 663, 4425, 6440, 5023, 3911, 2192, 4808, 2157, 6503, 5939, 485, 765, 5852, 2491, 3501, 4317, 4505, 2964, 5880, 5139, 4419, 6365, 3827, 1982, 1663, 5597, 3730, 5102, 391, 3217, 2203, 4956, 3474, 2519, 4205, 5395, 1173, 6286, 3422, 92, 3081, 6520, 2425, 5343, 3981, 2477, 2251, 2032, 909, 5887, 3658, 946, 4701, 5792, 3235, 3788, 2762, 5606, 4645, 4849, 2087, 6015, 317, 4254, 77, 6325, 4330, 2799, 2709, 1318, 465, 1101, 6250, 1744, 218, 5923, 4660, 5935, 269, 2148, 1038, 294, 916, 5970, 2074, 2667, 3749, 2804, 3252, 3310, 671, 1571, 2088, 1089, 4256, 1461, 5451, 2675, 4472, 2751, 1106, 3685, 3602, 1991, 4992, 2895, 2421, 5858, 1901, 4964, 2994, 3072, 1928, 3731, 4329, 626, 6175, 4281, 4022, 1897, 5945, 6465, 2279, 2217, 4336, 3301, 2957, 6276, 1776, 2770, 5269, 4778, 844, 28, 2395, 3300, 2749, 4644, 3337, 3174, 5113, 1511, 2019, 370, 2678, 1088, 4441, 1205, 5556, 3590, 367, 6174, 5997, 1692, 1490, 4424, 2472, 725, 4781, 6095, 3329, 1924, 2676, 6120, 2017, 673, 2069, 3818, 2918, 1593, 4465, 5310, 4615, 4290, 4834, 3297, 1497, 4816, 1184, 2343, 2906, 2834, 6356, 5915, 31, 858, 103, 1267, 5632, 1533, 2798, 1496, 1437, 1445, 2669, 476, 4874, 3965, 4198, 2401, 3212, 2666, 4380, 4448, 56, 1648, 3946, 4668, 6535, 1713, 1051, 3393, 69, 1820, 3313, 3385, 3613, 2154, 4907, 3927, 2780, 5623, 1843, 1929, 17, 829, 4563, 3197, 3998, 4866, 5443, 5025, 876, 5138, 3833, 6280, 1413, 4084, 1784, 3976, 455, 6519, 1516, 2328, 3103, 5352, 2909, 301, 1081, 4831, 3377, 1580, 6292, 2037, 6019, 4114, 6086, 3359, 3248, 5954, 2694, 3795, 6135, 346, 3684, 2582, 4929, 5323, 2805, 1546, 5240, 5566, 4258, 4367, 1444, 2407, 5641, 6426, 1238, 1782, 265, 3394, 1978, 5548, 5848, 2438, 3652, 2632, 379, 2922, 6102, 203, 1547, 1009, 2184, 3997, 5132, 5182, 6199, 2469, 4323, 4912, 2928, 5396, 2718, 4867, 4829, 5355, 5425, 2819, 4726, 5125, 5813, 2901, 4518, 5878, 4193, 3650, 5222, 5367, 1337, 5943, 942, 233, 2883, 4715, 2091, 3429, 4862, 3595, 1527, 1827, 507, 592, 2827, 3187, 3012, 1049, 2116, 1411, 4973, 3032, 2145, 1022, 3135, 3748, 830, 1858, 6439, 3928, 5717, 1163, 4951, 5487, 4826, 102, 5042, 1210, 3934, 4814, 3958, 3006, 38, 2163, 1196, 1742, 2057, 3900, 4586, 1579, 6050, 6268, 1775, 3735, 5318, 5191, 3887, 1284, 3787, 178, 1532, 3567, 553, 6213, 971, 4669, 774, 1451, 2450, 1172, 500, 1615, 4042, 3915, 2794, 6436, 3876, 5058, 266, 3334, 2732, 1910, 6041, 6526, 1849, 4752, 4894, 5187, 3277, 6047, 4377, 5390, 5540, 4580, 4787, 3679, 1128, 2746, 4897, 1542, 467, 4471, 4361, 3993, 2995, 5026]\n",
      "test ids:  [0, 1, 2, 3, 4, 5, 6, 7, 8, 78, 79, 80, 81, 82, 83, 84, 85, 86, 87, 88, 89, 90, 158, 159, 160, 161, 162, 163, 164, 165, 166, 167, 168, 169, 170, 171, 238, 239, 240, 241, 242, 243, 244, 245, 246, 247, 248, 249, 250, 251, 252, 253, 318, 319, 320, 321, 322, 324, 325, 326, 327, 328, 329, 330, 331, 332, 333, 334, 335, 398, 399, 400, 401, 402, 405, 406, 407, 408, 409, 410, 411, 412, 413, 414, 415, 416, 417, 478, 479, 480, 481, 482, 486, 487, 488, 489, 490, 491, 492, 493, 494, 495, 496, 497, 498, 499, 558, 559, 560, 561, 562, 567, 568, 569, 570, 571, 572, 573, 574, 575, 576, 577, 578, 579, 580, 638, 639, 640, 641, 642, 648, 649, 650, 651, 652, 653, 654, 655, 656, 657, 658, 659, 660, 661, 662, 718, 719, 720, 721, 722, 729, 730, 731, 732, 733, 734, 735, 736, 737, 738, 739, 740, 741, 742, 743, 744, 798, 799, 800, 801, 802, 810, 811, 812, 813, 814, 815, 816, 817, 818, 819, 820, 821, 822, 823, 824, 825, 826, 878, 879, 880, 881, 882, 892, 893, 894, 895, 896, 897, 898, 899, 900, 901, 902, 903, 904, 905, 906, 907, 908, 958, 959, 960, 961, 962, 974, 975, 976, 977, 978, 979, 980, 981, 982, 983, 984, 985, 986, 987, 988, 989, 1039, 1040, 1041, 1057, 1058, 1059, 1060, 1061, 1062, 1063, 1064, 1065, 1066, 1067, 1068, 1069, 1070, 1071, 1119, 1120, 1121, 1139, 1140, 1141, 1142, 1143, 1144, 1145, 1146, 1147, 1148, 1149, 1150, 1151, 1152, 1153, 1199, 1200, 1201, 1221, 1222, 1223, 1224, 1225, 1226, 1227, 1228, 1229, 1230, 1231, 1232, 1233, 1234, 1235, 1279, 1280, 1281, 1304, 1305, 1306, 1307, 1308, 1309, 1310, 1311, 1312, 1313, 1314, 1315, 1316, 1359, 1360, 1361, 1386, 1387, 1388, 1389, 1390, 1391, 1392, 1393, 1394, 1395, 1396, 1397, 1398, 1439, 1440, 1441, 1469, 1470, 1471, 1472, 1473, 1474, 1475, 1476, 1477, 1478, 1479, 1480, 1519, 1520, 1521, 1551, 1552, 1553, 1554, 1555, 1556, 1557, 1558, 1559, 1560, 1561, 1562, 1599, 1600, 1601, 1633, 1634, 1635, 1636, 1637, 1638, 1639, 1640, 1641, 1642, 1643, 1644, 1679, 1680, 1681, 1716, 1717, 1718, 1719, 1720, 1721, 1722, 1723, 1724, 1725, 1759, 1760, 1761, 1798, 1799, 1800, 1801, 1802, 1803, 1804, 1805, 1806, 1807, 1839, 1840, 1841, 1880, 1881, 1882, 1883, 1884, 1885, 1886, 1887, 1888, 1889, 1919, 1920, 1921, 1963, 1964, 1965, 1966, 1967, 1968, 1969, 1970, 1971, 1999, 2000, 2001, 2045, 2046, 2047, 2048, 2049, 2050, 2051, 2052, 2053, 2079, 2080, 2081, 2127, 2128, 2129, 2130, 2131, 2132, 2133, 2134, 2160, 2210, 2211, 2212, 2213, 2214, 2215, 2216, 2240, 2292, 2293, 2294, 2295, 2296, 2297, 2298, 2320, 2375, 2376, 2377, 2378, 2379, 2380, 2400, 2457, 2458, 2459, 2460, 2461, 2462, 2480, 2539, 2540, 2541, 2542, 2543, 2560, 2622, 2623, 2624, 2625, 2640, 2704, 2705, 2706, 2707, 2720, 2786, 2787, 2788, 2789, 2800, 2869, 2870, 2871, 2880, 2951, 2952, 2960, 3033, 3034, 3040, 3116, 3120, 3198, 3200, 3280, 3360, 3362, 3440, 3444, 3520, 3526, 3527, 3600, 3608, 3609, 3680, 3689, 3690, 3691, 3760, 3771, 3772, 3773, 3774, 3840, 3853, 3854, 3855, 3856, 3920, 3935, 3936, 3937, 3938, 4000, 4017, 4018, 4019, 4020, 4021, 4080, 4098, 4099, 4100, 4101, 4102, 4103, 4160, 4180, 4181, 4182, 4183, 4184, 4185, 4240, 4262, 4263, 4264, 4265, 4266, 4267, 4268, 4320, 4344, 4345, 4346, 4347, 4348, 4349, 4350, 4400, 4426, 4427, 4428, 4429, 4430, 4431, 4432, 4433, 4479, 4480, 4481, 4507, 4508, 4509, 4510, 4511, 4512, 4513, 4514, 4515, 4559, 4560, 4561, 4589, 4590, 4591, 4592, 4593, 4594, 4595, 4596, 4597, 4639, 4640, 4641, 4671, 4672, 4673, 4674, 4675, 4676, 4677, 4678, 4679, 4680, 4719, 4720, 4721, 4753, 4754, 4755, 4756, 4757, 4758, 4759, 4760, 4761, 4762, 4799, 4800, 4801, 4835, 4836, 4837, 4838, 4839, 4840, 4841, 4842, 4843, 4844, 4879, 4880, 4881, 4916, 4917, 4918, 4919, 4920, 4921, 4922, 4923, 4924, 4925, 4926, 4927, 4959, 4960, 4961, 4998, 4999, 5000, 5001, 5002, 5003, 5004, 5005, 5006, 5007, 5008, 5009, 5039, 5040, 5041, 5080, 5081, 5082, 5083, 5084, 5085, 5086, 5087, 5088, 5089, 5090, 5091, 5119, 5120, 5121, 5162, 5163, 5164, 5165, 5166, 5167, 5168, 5169, 5170, 5171, 5172, 5173, 5174, 5199, 5200, 5201, 5244, 5245, 5246, 5247, 5248, 5249, 5250, 5251, 5252, 5253, 5254, 5255, 5256, 5279, 5280, 5281, 5325, 5326, 5327, 5328, 5329, 5330, 5331, 5332, 5333, 5334, 5335, 5336, 5337, 5338, 5339, 5359, 5360, 5361, 5407, 5408, 5409, 5410, 5411, 5412, 5413, 5414, 5415, 5416, 5417, 5418, 5419, 5420, 5421, 5439, 5440, 5441, 5489, 5490, 5491, 5492, 5493, 5494, 5495, 5496, 5497, 5498, 5499, 5500, 5501, 5502, 5503, 5519, 5520, 5521, 5571, 5572, 5573, 5574, 5575, 5576, 5577, 5578, 5579, 5580, 5581, 5582, 5583, 5584, 5585, 5586, 5598, 5599, 5600, 5601, 5602, 5652, 5653, 5654, 5655, 5656, 5657, 5658, 5659, 5660, 5661, 5662, 5663, 5664, 5665, 5666, 5667, 5668, 5678, 5679, 5680, 5681, 5682, 5734, 5735, 5736, 5737, 5738, 5739, 5740, 5741, 5742, 5743, 5744, 5745, 5746, 5747, 5748, 5749, 5750, 5758, 5759, 5760, 5761, 5762, 5816, 5817, 5818, 5819, 5820, 5821, 5822, 5823, 5824, 5825, 5826, 5827, 5828, 5829, 5830, 5831, 5838, 5839, 5840, 5841, 5842, 5898, 5899, 5900, 5901, 5902, 5903, 5904, 5905, 5906, 5907, 5908, 5909, 5910, 5911, 5912, 5918, 5919, 5920, 5921, 5922, 5980, 5981, 5982, 5983, 5984, 5985, 5986, 5987, 5988, 5989, 5990, 5991, 5992, 5993, 5998, 5999, 6000, 6001, 6002, 6061, 6062, 6063, 6064, 6065, 6066, 6067, 6068, 6069, 6070, 6071, 6072, 6073, 6074, 6078, 6079, 6080, 6081, 6082, 6143, 6144, 6145, 6146, 6147, 6148, 6149, 6150, 6151, 6152, 6153, 6154, 6155, 6158, 6159, 6160, 6161, 6162, 6225, 6226, 6227, 6228, 6229, 6230, 6231, 6232, 6233, 6234, 6235, 6236, 6238, 6239, 6240, 6241, 6242, 6307, 6308, 6309, 6310, 6311, 6312, 6313, 6314, 6315, 6316, 6317, 6318, 6319, 6320, 6321, 6322, 6389, 6390, 6391, 6392, 6393, 6394, 6395, 6396, 6397, 6398, 6399, 6400, 6401, 6402, 6470, 6471, 6472, 6473, 6474, 6475, 6476, 6477, 6478, 6479, 6480, 6481, 6482, 6552, 6553, 6554, 6555, 6556, 6557, 6558, 6559, 6560]\n",
      "CPU times: user 150 ms, sys: 20 ms, total: 170 ms\n",
      "Wall time: 170 ms\n"
     ]
    }
   ],
   "source": [
    "%%time\n",
    "n_total = len(simulation.dataframe)\n",
    "n_train = len(simulation.dataframe[simulation.dataframe.type_of == \"train\"])\n",
    "n_val = len(simulation.dataframe[simulation.dataframe.type_of == \"val\"])\n",
    "n_test = len(simulation.dataframe[simulation.dataframe.type_of == \"test\"])\n",
    "n_train_hamiltonians = len(simulation.train_ids)\n",
    "n_val_hamiltonians = len(simulation.val_ids)\n",
    "n_test_hamiltonians = len(simulation.test_ids)\n",
    "n_total_hamiltonians = n_train_hamiltonians + n_val_hamiltonians + n_test_hamiltonians\n",
    "\n",
    "print(\"% train: \", n_train/n_total)\n",
    "print(\"% val: \",  n_val/n_total)\n",
    "print(\"% test: \", n_test/n_total)\n",
    "print(\"% train + val + test: \", (n_train+n_val+n_test)/n_total)\n",
    "print(\"\\n\")\n",
    "print(\"number of train hamiltonians: \", n_train_hamiltonians)\n",
    "print(\"number of val hamiltonians: \", n_val_hamiltonians)\n",
    "print(\"number of test hamiltonians: \", n_test_hamiltonians)\n",
    "print(\"total number of hamiltonians: \", n_total_hamiltonians)\n",
    "print(\"\\n\")\n",
    "print(\"train ids: \", simulation.train_ids)\n",
    "print(\"val ids: \", simulation.val_ids)\n",
    "print(\"test ids: \", simulation.test_ids)"
   ]
  },
  {
   "cell_type": "markdown",
   "metadata": {
    "papermill": {
     "duration": 0.03812,
     "end_time": "2020-07-16T02:37:40.847323",
     "exception": false,
     "start_time": "2020-07-16T02:37:40.809203",
     "status": "completed"
    },
    "tags": []
   },
   "source": [
    "#### Checking summaries"
   ]
  },
  {
   "cell_type": "code",
   "execution_count": 31,
   "metadata": {
    "execution": {
     "iopub.execute_input": "2020-07-16T02:37:40.925221Z",
     "iopub.status.busy": "2020-07-16T02:37:40.924907Z",
     "iopub.status.idle": "2020-07-16T02:37:40.943533Z",
     "shell.execute_reply": "2020-07-16T02:37:40.943216Z"
    },
    "papermill": {
     "duration": 0.056953,
     "end_time": "2020-07-16T02:37:40.943585",
     "exception": false,
     "start_time": "2020-07-16T02:37:40.886632",
     "status": "completed"
    },
    "tags": []
   },
   "outputs": [
    {
     "name": "stdout",
     "output_type": "stream",
     "text": [
      "length of ham_summary:  6561\n",
      "CPU times: user 54 µs, sys: 1 µs, total: 55 µs\n",
      "Wall time: 56 µs\n"
     ]
    },
    {
     "data": {
      "text/html": [
       "<div>\n",
       "<style scoped>\n",
       "    .dataframe tbody tr th:only-of-type {\n",
       "        vertical-align: middle;\n",
       "    }\n",
       "\n",
       "    .dataframe tbody tr th {\n",
       "        vertical-align: top;\n",
       "    }\n",
       "\n",
       "    .dataframe thead th {\n",
       "        text-align: right;\n",
       "    }\n",
       "</style>\n",
       "<table border=\"1\" class=\"dataframe\">\n",
       "  <thead>\n",
       "    <tr style=\"text-align: right;\">\n",
       "      <th></th>\n",
       "      <th>t1</th>\n",
       "      <th>t2</th>\n",
       "      <th>type_of</th>\n",
       "      <th>0</th>\n",
       "      <th>1</th>\n",
       "      <th>phase</th>\n",
       "      <th>pred_phase</th>\n",
       "    </tr>\n",
       "    <tr>\n",
       "      <th>id</th>\n",
       "      <th></th>\n",
       "      <th></th>\n",
       "      <th></th>\n",
       "      <th></th>\n",
       "      <th></th>\n",
       "      <th></th>\n",
       "      <th></th>\n",
       "    </tr>\n",
       "  </thead>\n",
       "  <tbody>\n",
       "    <tr>\n",
       "      <th>0</th>\n",
       "      <td>-2.0</td>\n",
       "      <td>-2.00</td>\n",
       "      <td>test</td>\n",
       "      <td>0.55</td>\n",
       "      <td>0.45</td>\n",
       "      <td>999</td>\n",
       "      <td>0</td>\n",
       "    </tr>\n",
       "    <tr>\n",
       "      <th>1</th>\n",
       "      <td>-2.0</td>\n",
       "      <td>-1.95</td>\n",
       "      <td>test</td>\n",
       "      <td>0.61</td>\n",
       "      <td>0.39</td>\n",
       "      <td>0</td>\n",
       "      <td>0</td>\n",
       "    </tr>\n",
       "    <tr>\n",
       "      <th>2</th>\n",
       "      <td>-2.0</td>\n",
       "      <td>-1.90</td>\n",
       "      <td>test</td>\n",
       "      <td>0.57</td>\n",
       "      <td>0.43</td>\n",
       "      <td>0</td>\n",
       "      <td>0</td>\n",
       "    </tr>\n",
       "    <tr>\n",
       "      <th>3</th>\n",
       "      <td>-2.0</td>\n",
       "      <td>-1.85</td>\n",
       "      <td>test</td>\n",
       "      <td>0.58</td>\n",
       "      <td>0.42</td>\n",
       "      <td>0</td>\n",
       "      <td>0</td>\n",
       "    </tr>\n",
       "    <tr>\n",
       "      <th>4</th>\n",
       "      <td>-2.0</td>\n",
       "      <td>-1.80</td>\n",
       "      <td>test</td>\n",
       "      <td>0.70</td>\n",
       "      <td>0.30</td>\n",
       "      <td>0</td>\n",
       "      <td>0</td>\n",
       "    </tr>\n",
       "    <tr>\n",
       "      <th>...</th>\n",
       "      <td>...</td>\n",
       "      <td>...</td>\n",
       "      <td>...</td>\n",
       "      <td>...</td>\n",
       "      <td>...</td>\n",
       "      <td>...</td>\n",
       "      <td>...</td>\n",
       "    </tr>\n",
       "    <tr>\n",
       "      <th>6556</th>\n",
       "      <td>2.0</td>\n",
       "      <td>1.80</td>\n",
       "      <td>test</td>\n",
       "      <td>0.73</td>\n",
       "      <td>0.27</td>\n",
       "      <td>0</td>\n",
       "      <td>0</td>\n",
       "    </tr>\n",
       "    <tr>\n",
       "      <th>6557</th>\n",
       "      <td>2.0</td>\n",
       "      <td>1.85</td>\n",
       "      <td>test</td>\n",
       "      <td>0.65</td>\n",
       "      <td>0.35</td>\n",
       "      <td>0</td>\n",
       "      <td>0</td>\n",
       "    </tr>\n",
       "    <tr>\n",
       "      <th>6558</th>\n",
       "      <td>2.0</td>\n",
       "      <td>1.90</td>\n",
       "      <td>test</td>\n",
       "      <td>0.62</td>\n",
       "      <td>0.38</td>\n",
       "      <td>0</td>\n",
       "      <td>0</td>\n",
       "    </tr>\n",
       "    <tr>\n",
       "      <th>6559</th>\n",
       "      <td>2.0</td>\n",
       "      <td>1.95</td>\n",
       "      <td>test</td>\n",
       "      <td>0.51</td>\n",
       "      <td>0.49</td>\n",
       "      <td>0</td>\n",
       "      <td>0</td>\n",
       "    </tr>\n",
       "    <tr>\n",
       "      <th>6560</th>\n",
       "      <td>2.0</td>\n",
       "      <td>2.00</td>\n",
       "      <td>test</td>\n",
       "      <td>0.48</td>\n",
       "      <td>0.52</td>\n",
       "      <td>999</td>\n",
       "      <td>1</td>\n",
       "    </tr>\n",
       "  </tbody>\n",
       "</table>\n",
       "<p>6561 rows × 7 columns</p>\n",
       "</div>"
      ],
      "text/plain": [
       "       t1    t2 type_of     0     1  phase  pred_phase\n",
       "id                                                    \n",
       "0    -2.0 -2.00    test  0.55  0.45    999           0\n",
       "1    -2.0 -1.95    test  0.61  0.39      0           0\n",
       "2    -2.0 -1.90    test  0.57  0.43      0           0\n",
       "3    -2.0 -1.85    test  0.58  0.42      0           0\n",
       "4    -2.0 -1.80    test  0.70  0.30      0           0\n",
       "...   ...   ...     ...   ...   ...    ...         ...\n",
       "6556  2.0  1.80    test  0.73  0.27      0           0\n",
       "6557  2.0  1.85    test  0.65  0.35      0           0\n",
       "6558  2.0  1.90    test  0.62  0.38      0           0\n",
       "6559  2.0  1.95    test  0.51  0.49      0           0\n",
       "6560  2.0  2.00    test  0.48  0.52    999           1\n",
       "\n",
       "[6561 rows x 7 columns]"
      ]
     },
     "execution_count": 31,
     "metadata": {},
     "output_type": "execute_result"
    }
   ],
   "source": [
    "%%time\n",
    "ham_summary = simulation.hamiltonian_summary\n",
    "print(\"length of ham_summary: \", len(ham_summary))\n",
    "ham_summary"
   ]
  },
  {
   "cell_type": "code",
   "execution_count": 32,
   "metadata": {
    "execution": {
     "iopub.execute_input": "2020-07-16T02:37:41.022982Z",
     "iopub.status.busy": "2020-07-16T02:37:41.022671Z",
     "iopub.status.idle": "2020-07-16T02:37:41.050444Z",
     "shell.execute_reply": "2020-07-16T02:37:41.050696Z"
    },
    "papermill": {
     "duration": 0.069853,
     "end_time": "2020-07-16T02:37:41.050765",
     "exception": false,
     "start_time": "2020-07-16T02:37:40.980912",
     "status": "completed"
    },
    "tags": []
   },
   "outputs": [
    {
     "data": {
      "text/html": [
       "<div>\n",
       "<style scoped>\n",
       "    .dataframe tbody tr th:only-of-type {\n",
       "        vertical-align: middle;\n",
       "    }\n",
       "\n",
       "    .dataframe tbody tr th {\n",
       "        vertical-align: top;\n",
       "    }\n",
       "\n",
       "    .dataframe thead th {\n",
       "        text-align: right;\n",
       "    }\n",
       "</style>\n",
       "<table border=\"1\" class=\"dataframe\">\n",
       "  <thead>\n",
       "    <tr style=\"text-align: right;\">\n",
       "      <th></th>\n",
       "      <th>t1</th>\n",
       "      <th>t2</th>\n",
       "      <th>0</th>\n",
       "      <th>1</th>\n",
       "      <th>phase</th>\n",
       "      <th>pred_phase</th>\n",
       "    </tr>\n",
       "  </thead>\n",
       "  <tbody>\n",
       "    <tr>\n",
       "      <th>count</th>\n",
       "      <td>6561.000000</td>\n",
       "      <td>6.561000e+03</td>\n",
       "      <td>6561.000000</td>\n",
       "      <td>6561.000000</td>\n",
       "      <td>6561.000000</td>\n",
       "      <td>6561.000000</td>\n",
       "    </tr>\n",
       "    <tr>\n",
       "      <th>mean</th>\n",
       "      <td>0.000000</td>\n",
       "      <td>-4.331917e-18</td>\n",
       "      <td>0.476709</td>\n",
       "      <td>0.523291</td>\n",
       "      <td>25.002134</td>\n",
       "      <td>0.516232</td>\n",
       "    </tr>\n",
       "    <tr>\n",
       "      <th>std</th>\n",
       "      <td>1.169134</td>\n",
       "      <td>1.169134e+00</td>\n",
       "      <td>0.437241</td>\n",
       "      <td>0.437241</td>\n",
       "      <td>154.495657</td>\n",
       "      <td>0.499775</td>\n",
       "    </tr>\n",
       "    <tr>\n",
       "      <th>min</th>\n",
       "      <td>-2.000000</td>\n",
       "      <td>-2.000000e+00</td>\n",
       "      <td>0.000000</td>\n",
       "      <td>0.030000</td>\n",
       "      <td>0.000000</td>\n",
       "      <td>0.000000</td>\n",
       "    </tr>\n",
       "    <tr>\n",
       "      <th>25%</th>\n",
       "      <td>-1.000000</td>\n",
       "      <td>-1.000000e+00</td>\n",
       "      <td>0.020000</td>\n",
       "      <td>0.050000</td>\n",
       "      <td>0.000000</td>\n",
       "      <td>0.000000</td>\n",
       "    </tr>\n",
       "    <tr>\n",
       "      <th>50%</th>\n",
       "      <td>0.000000</td>\n",
       "      <td>0.000000e+00</td>\n",
       "      <td>0.430000</td>\n",
       "      <td>0.570000</td>\n",
       "      <td>1.000000</td>\n",
       "      <td>1.000000</td>\n",
       "    </tr>\n",
       "    <tr>\n",
       "      <th>75%</th>\n",
       "      <td>1.000000</td>\n",
       "      <td>1.000000e+00</td>\n",
       "      <td>0.950000</td>\n",
       "      <td>0.980000</td>\n",
       "      <td>1.000000</td>\n",
       "      <td>1.000000</td>\n",
       "    </tr>\n",
       "    <tr>\n",
       "      <th>max</th>\n",
       "      <td>2.000000</td>\n",
       "      <td>2.000000e+00</td>\n",
       "      <td>0.970000</td>\n",
       "      <td>1.000000</td>\n",
       "      <td>999.000000</td>\n",
       "      <td>1.000000</td>\n",
       "    </tr>\n",
       "  </tbody>\n",
       "</table>\n",
       "</div>"
      ],
      "text/plain": [
       "                t1            t2            0            1        phase  \\\n",
       "count  6561.000000  6.561000e+03  6561.000000  6561.000000  6561.000000   \n",
       "mean      0.000000 -4.331917e-18     0.476709     0.523291    25.002134   \n",
       "std       1.169134  1.169134e+00     0.437241     0.437241   154.495657   \n",
       "min      -2.000000 -2.000000e+00     0.000000     0.030000     0.000000   \n",
       "25%      -1.000000 -1.000000e+00     0.020000     0.050000     0.000000   \n",
       "50%       0.000000  0.000000e+00     0.430000     0.570000     1.000000   \n",
       "75%       1.000000  1.000000e+00     0.950000     0.980000     1.000000   \n",
       "max       2.000000  2.000000e+00     0.970000     1.000000   999.000000   \n",
       "\n",
       "        pred_phase  \n",
       "count  6561.000000  \n",
       "mean      0.516232  \n",
       "std       0.499775  \n",
       "min       0.000000  \n",
       "25%       0.000000  \n",
       "50%       1.000000  \n",
       "75%       1.000000  \n",
       "max       1.000000  "
      ]
     },
     "execution_count": 32,
     "metadata": {},
     "output_type": "execute_result"
    }
   ],
   "source": [
    "ham_summary.describe()"
   ]
  },
  {
   "cell_type": "code",
   "execution_count": 33,
   "metadata": {
    "execution": {
     "iopub.execute_input": "2020-07-16T02:37:41.128410Z",
     "iopub.status.busy": "2020-07-16T02:37:41.128088Z",
     "iopub.status.idle": "2020-07-16T02:37:41.144110Z",
     "shell.execute_reply": "2020-07-16T02:37:41.143787Z"
    },
    "papermill": {
     "duration": 0.055599,
     "end_time": "2020-07-16T02:37:41.144163",
     "exception": false,
     "start_time": "2020-07-16T02:37:41.088564",
     "status": "completed"
    },
    "tags": []
   },
   "outputs": [
    {
     "name": "stdout",
     "output_type": "stream",
     "text": [
      "length of ham_summary:  656100\n"
     ]
    },
    {
     "data": {
      "text/html": [
       "<div>\n",
       "<style scoped>\n",
       "    .dataframe tbody tr th:only-of-type {\n",
       "        vertical-align: middle;\n",
       "    }\n",
       "\n",
       "    .dataframe tbody tr th {\n",
       "        vertical-align: top;\n",
       "    }\n",
       "\n",
       "    .dataframe thead th {\n",
       "        text-align: right;\n",
       "    }\n",
       "</style>\n",
       "<table border=\"1\" class=\"dataframe\">\n",
       "  <thead>\n",
       "    <tr style=\"text-align: right;\">\n",
       "      <th></th>\n",
       "      <th>id</th>\n",
       "      <th>phase</th>\n",
       "      <th>pred_phase</th>\n",
       "      <th>type_of</th>\n",
       "    </tr>\n",
       "  </thead>\n",
       "  <tbody>\n",
       "    <tr>\n",
       "      <th>0</th>\n",
       "      <td>0</td>\n",
       "      <td>999</td>\n",
       "      <td>1</td>\n",
       "      <td>test</td>\n",
       "    </tr>\n",
       "    <tr>\n",
       "      <th>1</th>\n",
       "      <td>0</td>\n",
       "      <td>999</td>\n",
       "      <td>0</td>\n",
       "      <td>test</td>\n",
       "    </tr>\n",
       "    <tr>\n",
       "      <th>2</th>\n",
       "      <td>0</td>\n",
       "      <td>999</td>\n",
       "      <td>0</td>\n",
       "      <td>test</td>\n",
       "    </tr>\n",
       "    <tr>\n",
       "      <th>3</th>\n",
       "      <td>0</td>\n",
       "      <td>999</td>\n",
       "      <td>1</td>\n",
       "      <td>test</td>\n",
       "    </tr>\n",
       "    <tr>\n",
       "      <th>4</th>\n",
       "      <td>0</td>\n",
       "      <td>999</td>\n",
       "      <td>0</td>\n",
       "      <td>test</td>\n",
       "    </tr>\n",
       "    <tr>\n",
       "      <th>...</th>\n",
       "      <td>...</td>\n",
       "      <td>...</td>\n",
       "      <td>...</td>\n",
       "      <td>...</td>\n",
       "    </tr>\n",
       "    <tr>\n",
       "      <th>656095</th>\n",
       "      <td>6560</td>\n",
       "      <td>999</td>\n",
       "      <td>0</td>\n",
       "      <td>test</td>\n",
       "    </tr>\n",
       "    <tr>\n",
       "      <th>656096</th>\n",
       "      <td>6560</td>\n",
       "      <td>999</td>\n",
       "      <td>1</td>\n",
       "      <td>test</td>\n",
       "    </tr>\n",
       "    <tr>\n",
       "      <th>656097</th>\n",
       "      <td>6560</td>\n",
       "      <td>999</td>\n",
       "      <td>1</td>\n",
       "      <td>test</td>\n",
       "    </tr>\n",
       "    <tr>\n",
       "      <th>656098</th>\n",
       "      <td>6560</td>\n",
       "      <td>999</td>\n",
       "      <td>1</td>\n",
       "      <td>test</td>\n",
       "    </tr>\n",
       "    <tr>\n",
       "      <th>656099</th>\n",
       "      <td>6560</td>\n",
       "      <td>999</td>\n",
       "      <td>0</td>\n",
       "      <td>test</td>\n",
       "    </tr>\n",
       "  </tbody>\n",
       "</table>\n",
       "<p>656100 rows × 4 columns</p>\n",
       "</div>"
      ],
      "text/plain": [
       "          id  phase  pred_phase type_of\n",
       "0          0    999           1    test\n",
       "1          0    999           0    test\n",
       "2          0    999           0    test\n",
       "3          0    999           1    test\n",
       "4          0    999           0    test\n",
       "...      ...    ...         ...     ...\n",
       "656095  6560    999           0    test\n",
       "656096  6560    999           1    test\n",
       "656097  6560    999           1    test\n",
       "656098  6560    999           1    test\n",
       "656099  6560    999           0    test\n",
       "\n",
       "[656100 rows x 4 columns]"
      ]
     },
     "execution_count": 33,
     "metadata": {},
     "output_type": "execute_result"
    }
   ],
   "source": [
    "eigen_summary = simulation.eigenvector_summary\n",
    "print(\"length of ham_summary: \", len(eigen_summary))\n",
    "eigen_summary"
   ]
  },
  {
   "cell_type": "markdown",
   "metadata": {
    "papermill": {
     "duration": 0.037652,
     "end_time": "2020-07-16T02:37:41.219324",
     "exception": false,
     "start_time": "2020-07-16T02:37:41.181672",
     "status": "completed"
    },
    "tags": []
   },
   "source": [
    "#### Checking accuracies"
   ]
  },
  {
   "cell_type": "code",
   "execution_count": 34,
   "metadata": {
    "execution": {
     "iopub.execute_input": "2020-07-16T02:37:41.298153Z",
     "iopub.status.busy": "2020-07-16T02:37:41.297759Z",
     "iopub.status.idle": "2020-07-16T02:37:41.308830Z",
     "shell.execute_reply": "2020-07-16T02:37:41.308515Z"
    },
    "papermill": {
     "duration": 0.051468,
     "end_time": "2020-07-16T02:37:41.308883",
     "exception": false,
     "start_time": "2020-07-16T02:37:41.257415",
     "status": "completed"
    },
    "tags": []
   },
   "outputs": [
    {
     "data": {
      "text/plain": [
       "{'eigenvector_train': 0.9739748201438849,\n",
       " 'eigenvector_val': 0.947916,\n",
       " 'eigenvector_test': 0.741718009478673,\n",
       " 'hamiltonian_train': 0.9928057553956835,\n",
       " 'hamiltonian_val': 0.9848,\n",
       " 'hamiltonian_test': 1.0}"
      ]
     },
     "execution_count": 34,
     "metadata": {},
     "output_type": "execute_result"
    }
   ],
   "source": [
    "simulation.accuracy"
   ]
  },
  {
   "cell_type": "markdown",
   "metadata": {
    "papermill": {
     "duration": 0.037501,
     "end_time": "2020-07-16T02:37:41.384288",
     "exception": false,
     "start_time": "2020-07-16T02:37:41.346787",
     "status": "completed"
    },
    "tags": []
   },
   "source": [
    "#### Checking data stored in  memory"
   ]
  },
  {
   "cell_type": "code",
   "execution_count": 35,
   "metadata": {
    "execution": {
     "iopub.execute_input": "2020-07-16T02:37:41.462822Z",
     "iopub.status.busy": "2020-07-16T02:37:41.462504Z",
     "iopub.status.idle": "2020-07-16T02:37:41.472863Z",
     "shell.execute_reply": "2020-07-16T02:37:41.472545Z"
    },
    "papermill": {
     "duration": 0.050185,
     "end_time": "2020-07-16T02:37:41.472914",
     "exception": false,
     "start_time": "2020-07-16T02:37:41.422729",
     "status": "completed"
    },
    "tags": []
   },
   "outputs": [
    {
     "data": {
      "text/plain": [
       "[]"
      ]
     },
     "execution_count": 35,
     "metadata": {},
     "output_type": "execute_result"
    }
   ],
   "source": [
    "ham_summary_list = simulation.hamiltonian_summary_list\n",
    "ham_summary_list"
   ]
  },
  {
   "cell_type": "code",
   "execution_count": 36,
   "metadata": {
    "execution": {
     "iopub.execute_input": "2020-07-16T02:37:41.553433Z",
     "iopub.status.busy": "2020-07-16T02:37:41.553115Z",
     "iopub.status.idle": "2020-07-16T02:37:41.563064Z",
     "shell.execute_reply": "2020-07-16T02:37:41.563314Z"
    },
    "papermill": {
     "duration": 0.050105,
     "end_time": "2020-07-16T02:37:41.563384",
     "exception": false,
     "start_time": "2020-07-16T02:37:41.513279",
     "status": "completed"
    },
    "tags": []
   },
   "outputs": [
    {
     "data": {
      "text/plain": [
       "[]"
      ]
     },
     "execution_count": 36,
     "metadata": {},
     "output_type": "execute_result"
    }
   ],
   "source": [
    "eigen_summary_list = simulation.eigenvector_summary_list\n",
    "eigen_summary_list"
   ]
  },
  {
   "cell_type": "code",
   "execution_count": 37,
   "metadata": {
    "execution": {
     "iopub.execute_input": "2020-07-16T02:37:41.644858Z",
     "iopub.status.busy": "2020-07-16T02:37:41.644541Z",
     "iopub.status.idle": "2020-07-16T02:37:41.654804Z",
     "shell.execute_reply": "2020-07-16T02:37:41.654490Z"
    },
    "papermill": {
     "duration": 0.052587,
     "end_time": "2020-07-16T02:37:41.654857",
     "exception": false,
     "start_time": "2020-07-16T02:37:41.602270",
     "status": "completed"
    },
    "tags": []
   },
   "outputs": [
    {
     "data": {
      "text/plain": [
       "{'eigenvector_train': [],\n",
       " 'eigenvector_val': [],\n",
       " 'eigenvector_test': [],\n",
       " 'hamiltonian_train': [],\n",
       " 'hamiltonian_val': [],\n",
       " 'hamiltonian_test': []}"
      ]
     },
     "execution_count": 37,
     "metadata": {},
     "output_type": "execute_result"
    }
   ],
   "source": [
    "accuracy_list = simulation.accuracy_list\n",
    "accuracy_list"
   ]
  },
  {
   "cell_type": "code",
   "execution_count": null,
   "metadata": {
    "papermill": {
     "duration": 0.037977,
     "end_time": "2020-07-16T02:37:41.731255",
     "exception": false,
     "start_time": "2020-07-16T02:37:41.693278",
     "status": "completed"
    },
    "tags": []
   },
   "outputs": [],
   "source": []
  },
  {
   "cell_type": "code",
   "execution_count": null,
   "metadata": {
    "papermill": {
     "duration": 0.038812,
     "end_time": "2020-07-16T02:37:41.809542",
     "exception": false,
     "start_time": "2020-07-16T02:37:41.770730",
     "status": "completed"
    },
    "tags": []
   },
   "outputs": [],
   "source": []
  },
  {
   "cell_type": "code",
   "execution_count": 38,
   "metadata": {
    "execution": {
     "iopub.execute_input": "2020-07-16T02:37:41.887880Z",
     "iopub.status.busy": "2020-07-16T02:37:41.887569Z",
     "iopub.status.idle": "2020-07-16T02:37:41.897718Z",
     "shell.execute_reply": "2020-07-16T02:37:41.897388Z"
    },
    "papermill": {
     "duration": 0.049699,
     "end_time": "2020-07-16T02:37:41.897773",
     "exception": false,
     "start_time": "2020-07-16T02:37:41.848074",
     "status": "completed"
    },
    "tags": []
   },
   "outputs": [],
   "source": [
    "#simulation.fourier_matrix"
   ]
  },
  {
   "cell_type": "code",
   "execution_count": 39,
   "metadata": {
    "execution": {
     "iopub.execute_input": "2020-07-16T02:37:41.978575Z",
     "iopub.status.busy": "2020-07-16T02:37:41.978266Z",
     "iopub.status.idle": "2020-07-16T02:37:41.987896Z",
     "shell.execute_reply": "2020-07-16T02:37:41.987572Z"
    },
    "papermill": {
     "duration": 0.051251,
     "end_time": "2020-07-16T02:37:41.987951",
     "exception": false,
     "start_time": "2020-07-16T02:37:41.936700",
     "status": "completed"
    },
    "tags": []
   },
   "outputs": [],
   "source": [
    "#simulation.fourier_matrix.shape"
   ]
  },
  {
   "cell_type": "code",
   "execution_count": 40,
   "metadata": {
    "execution": {
     "iopub.execute_input": "2020-07-16T02:37:42.066775Z",
     "iopub.status.busy": "2020-07-16T02:37:42.066466Z",
     "iopub.status.idle": "2020-07-16T02:37:42.076172Z",
     "shell.execute_reply": "2020-07-16T02:37:42.075852Z"
    },
    "papermill": {
     "duration": 0.049619,
     "end_time": "2020-07-16T02:37:42.076225",
     "exception": false,
     "start_time": "2020-07-16T02:37:42.026606",
     "status": "completed"
    },
    "tags": []
   },
   "outputs": [],
   "source": [
    "#simulation.fourier_matrix[:,0]"
   ]
  },
  {
   "cell_type": "code",
   "execution_count": 41,
   "metadata": {
    "execution": {
     "iopub.execute_input": "2020-07-16T02:37:42.156230Z",
     "iopub.status.busy": "2020-07-16T02:37:42.155921Z",
     "iopub.status.idle": "2020-07-16T02:37:42.167349Z",
     "shell.execute_reply": "2020-07-16T02:37:42.167003Z"
    },
    "papermill": {
     "duration": 0.052158,
     "end_time": "2020-07-16T02:37:42.167402",
     "exception": false,
     "start_time": "2020-07-16T02:37:42.115244",
     "status": "completed"
    },
    "tags": []
   },
   "outputs": [],
   "source": [
    "#simulation.fourier_matrix[:,1]"
   ]
  },
  {
   "cell_type": "code",
   "execution_count": 42,
   "metadata": {
    "execution": {
     "iopub.execute_input": "2020-07-16T02:37:42.246819Z",
     "iopub.status.busy": "2020-07-16T02:37:42.246509Z",
     "iopub.status.idle": "2020-07-16T02:37:42.255886Z",
     "shell.execute_reply": "2020-07-16T02:37:42.256190Z"
    },
    "papermill": {
     "duration": 0.049958,
     "end_time": "2020-07-16T02:37:42.256257",
     "exception": false,
     "start_time": "2020-07-16T02:37:42.206299",
     "status": "completed"
    },
    "tags": []
   },
   "outputs": [],
   "source": [
    "#np.exp(-1j*2*np.pi*3/100)"
   ]
  },
  {
   "cell_type": "code",
   "execution_count": 43,
   "metadata": {
    "execution": {
     "iopub.execute_input": "2020-07-16T02:37:42.341043Z",
     "iopub.status.busy": "2020-07-16T02:37:42.340608Z",
     "iopub.status.idle": "2020-07-16T02:37:42.350298Z",
     "shell.execute_reply": "2020-07-16T02:37:42.350565Z"
    },
    "papermill": {
     "duration": 0.05489,
     "end_time": "2020-07-16T02:37:42.350639",
     "exception": false,
     "start_time": "2020-07-16T02:37:42.295749",
     "status": "completed"
    },
    "tags": []
   },
   "outputs": [],
   "source": [
    "#for i in range(1,50):\n",
    "#    print(\"\\n\")\n",
    "#    print(i)\n",
    "#    print(np.sum((np.real(simulation.fourier_matrix[:,i]) - np.real(simulation.fourier_matrix[:,-i]))**2))\n",
    "#    print(np.sum((np.imag(simulation.fourier_matrix[:,i])+ np.imag(simulation.fourier_matrix[:,-i]))**2))"
   ]
  },
  {
   "cell_type": "code",
   "execution_count": 44,
   "metadata": {
    "execution": {
     "iopub.execute_input": "2020-07-16T02:37:42.429831Z",
     "iopub.status.busy": "2020-07-16T02:37:42.429525Z",
     "iopub.status.idle": "2020-07-16T02:37:42.446784Z",
     "shell.execute_reply": "2020-07-16T02:37:42.446456Z"
    },
    "papermill": {
     "duration": 0.05725,
     "end_time": "2020-07-16T02:37:42.446839",
     "exception": false,
     "start_time": "2020-07-16T02:37:42.389589",
     "status": "completed"
    },
    "tags": []
   },
   "outputs": [],
   "source": [
    "#print(simulation.fourier_matrix[:,0])"
   ]
  },
  {
   "cell_type": "code",
   "execution_count": 45,
   "metadata": {
    "execution": {
     "iopub.execute_input": "2020-07-16T02:37:42.526949Z",
     "iopub.status.busy": "2020-07-16T02:37:42.526629Z",
     "iopub.status.idle": "2020-07-16T02:37:42.554767Z",
     "shell.execute_reply": "2020-07-16T02:37:42.554424Z"
    },
    "papermill": {
     "duration": 0.069008,
     "end_time": "2020-07-16T02:37:42.554823",
     "exception": false,
     "start_time": "2020-07-16T02:37:42.485815",
     "status": "completed"
    },
    "tags": []
   },
   "outputs": [],
   "source": [
    "#print(simulation.fourier_matrix[:,50])"
   ]
  },
  {
   "cell_type": "code",
   "execution_count": null,
   "metadata": {
    "papermill": {
     "duration": 0.038105,
     "end_time": "2020-07-16T02:37:42.631621",
     "exception": false,
     "start_time": "2020-07-16T02:37:42.593516",
     "status": "completed"
    },
    "tags": []
   },
   "outputs": [],
   "source": []
  }
 ],
 "metadata": {
  "celltoolbar": "Tags",
  "kernelspec": {
   "display_name": "ml_top_phases",
   "language": "python",
   "name": "ml_top_phases"
  },
  "language_info": {
   "codemirror_mode": {
    "name": "ipython",
    "version": 3
   },
   "file_extension": ".py",
   "mimetype": "text/x-python",
   "name": "python",
   "nbconvert_exporter": "python",
   "pygments_lexer": "ipython3",
   "version": "3.6.10"
  },
  "papermill": {
   "duration": 194.659839,
   "end_time": "2020-07-16T02:37:42.782232",
   "environment_variables": {},
   "exception": null,
   "input_path": "0_simulation_template.ipynb",
   "output_path": "zzz_simulation_output_ssh1_4th_scenario_100_6561.ipynb",
   "parameters": {
    "allowed_windings": [
     0,
     1
    ],
    "csv_path": "/home/rio/ssh_csvs/ssh1/periodic_100_6561.csv",
    "features_to_use": [
     0,
     1,
     2,
     3,
     49,
     50
    ],
    "fit_params": null,
    "fourier_features_to_use": [
     1,
     2,
     14,
     36,
     48,
     49
    ],
    "fourier_fillna": false,
    "fourier_mode": "dct",
    "fourier_normalize": false,
    "fourier_real": null,
    "model_kw": {
     "criterion": "entropy"
    },
    "model_name": "DecisionTreeClassifier",
    "n_experiments": 100,
    "pred_params": null,
    "random_features": false,
    "random_state": 253638464,
    "save_accuracy": true,
    "save_eigenvector": true,
    "save_hamiltonian": true,
    "save_models": true,
    "shuffle_features": false,
    "shuffle_rows": true,
    "simulation_dir": "/home/rio/ssh_simulations/ssh1/periodic_4th_scenario_100_6561",
    "start_n": 0,
    "store_in_lists": false,
    "val_split": 0.9
   },
   "start_time": "2020-07-16T02:34:28.122393",
   "version": "2.1.0"
  }
 },
 "nbformat": 4,
 "nbformat_minor": 2
}