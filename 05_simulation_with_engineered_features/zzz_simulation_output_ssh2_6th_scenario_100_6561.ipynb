{
 "cells": [
  {
   "cell_type": "markdown",
   "metadata": {
    "papermill": {
     "duration": 0.055339,
     "end_time": "2020-07-09T22:23:17.758006",
     "exception": false,
     "start_time": "2020-07-09T22:23:17.702667",
     "status": "completed"
    },
    "tags": []
   },
   "source": [
    "# Simulation template \n",
    "\n",
    "In this notebook we run the machine learning analysis of topological phase transitions occurring  in both nearest-neighbours SSH models (ssh1) and second neighbours models (ssh2) as decribed in the paper [Machine learning topological phases in real space](https://arxiv.org/abs/1901.01963). Here the simulation is run with features generated from fourier components in the first scenario. This scenario is characterized by using only the EVEN wavevector space eigenmodes, computed from ALL real space components."
   ]
  },
  {
   "cell_type": "markdown",
   "metadata": {
    "papermill": {
     "duration": 0.015234,
     "end_time": "2020-07-09T22:23:17.793157",
     "exception": false,
     "start_time": "2020-07-09T22:23:17.777923",
     "status": "completed"
    },
    "tags": []
   },
   "source": [
    "## Defining parameters"
   ]
  },
  {
   "cell_type": "code",
   "execution_count": 1,
   "metadata": {
    "execution": {
     "iopub.execute_input": "2020-07-09T22:23:17.826924Z",
     "iopub.status.busy": "2020-07-09T22:23:17.825910Z",
     "iopub.status.idle": "2020-07-09T22:23:18.417033Z",
     "shell.execute_reply": "2020-07-09T22:23:18.416708Z"
    },
    "papermill": {
     "duration": 0.608879,
     "end_time": "2020-07-09T22:23:18.417088",
     "exception": false,
     "start_time": "2020-07-09T22:23:17.808209",
     "status": "completed"
    },
    "tags": []
   },
   "outputs": [
    {
     "name": "stdout",
     "output_type": "stream",
     "text": [
      "CPU times: user 742 ms, sys: 280 ms, total: 1.02 s\n",
      "Wall time: 584 ms\n"
     ]
    }
   ],
   "source": [
    "%%time\n",
    "%load_ext autoreload\n",
    "%autoreload 2\n",
    "from simulation import *"
   ]
  },
  {
   "cell_type": "code",
   "execution_count": 2,
   "metadata": {
    "execution": {
     "iopub.execute_input": "2020-07-09T22:23:18.451164Z",
     "iopub.status.busy": "2020-07-09T22:23:18.450608Z",
     "iopub.status.idle": "2020-07-09T22:23:18.462007Z",
     "shell.execute_reply": "2020-07-09T22:23:18.461683Z"
    },
    "papermill": {
     "duration": 0.029068,
     "end_time": "2020-07-09T22:23:18.462059",
     "exception": false,
     "start_time": "2020-07-09T22:23:18.432991",
     "status": "completed"
    },
    "tags": [
     "parameters"
    ]
   },
   "outputs": [
    {
     "name": "stdout",
     "output_type": "stream",
     "text": [
      "CPU times: user 3 µs, sys: 1 µs, total: 4 µs\n",
      "Wall time: 4.77 µs\n"
     ]
    }
   ],
   "source": [
    "%%time\n",
    "### Dataset and simulation parameters\n",
    "#csv_path = SSH2_PERIODIC_100_6561_CSV \n",
    "csv_path = SSH1_PERIODIC_100_6561_CSV \n",
    "model_name = \"DecisionTreeClassifier\"\n",
    "model_kw = {\"criterion\":\"entropy\"}\n",
    "allowed_windings = [0,1]\n",
    "#allowed_windings = [-1,0,1,2]\n",
    "simulation_dir = SSH1_PERIODIC_1ST_SCENARIO_100_6561_SIMULATION_DIR\n",
    "#simulation_dir = SSH2_PERIODIC_ENGINEERED_100_6561_SIMULATION_DIR\n",
    "val_split = 0.9  \n",
    "features_to_use = None\n",
    "shuffle_features = False\n",
    "random_state = 763\n",
    "\n",
    "### Fourier features\n",
    "fourier_mode = \"dft\"\n",
    "fourier_features_to_use = None\n",
    "fourier_real = \"real\"\n",
    "fourier_normalize = True\n",
    "fourier_fillna = False\n",
    "\n",
    "### Running a simulation\n",
    "n_experiments = 5\n",
    "start_n = 0\n",
    "fit_params = None\n",
    "#mode=mode\n",
    "shuffle_rows = True\n",
    "pred_params = None\n",
    "random_features = False\n",
    "######### DON'T SET THIS TO TRUE UNLESS YOUR DATASET IS SMALL!! WILL FLOOD YOUR MEMORY!!!\n",
    "store_in_lists = False   \n",
    "########## BELOW ARE THE PARAMETERS THAT CONTROL WHAT WILL BE SAVED\n",
    "save_eigenvector=True\n",
    "save_hamiltonian=True \n",
    "save_accuracy=True \n",
    "save_models=True"
   ]
  },
  {
   "cell_type": "code",
   "execution_count": 3,
   "metadata": {
    "execution": {
     "iopub.execute_input": "2020-07-09T22:23:18.496535Z",
     "iopub.status.busy": "2020-07-09T22:23:18.496015Z",
     "iopub.status.idle": "2020-07-09T22:23:18.609861Z",
     "shell.execute_reply": "2020-07-09T22:23:18.611546Z"
    },
    "papermill": {
     "duration": 0.134334,
     "end_time": "2020-07-09T22:23:18.611849",
     "exception": false,
     "start_time": "2020-07-09T22:23:18.477515",
     "status": "completed"
    },
    "tags": [
     "injected-parameters"
    ]
   },
   "outputs": [],
   "source": [
    "# Parameters\n",
    "model_kw = {\"criterion\": \"entropy\", \"n_estimators\": 25, \"n_jobs\": -1}\n",
    "allowed_windings = [-1, 0, 1, 2]\n",
    "val_split = 0.5\n",
    "features_to_use = None\n",
    "shuffle_features = False\n",
    "n_experiments = 100\n",
    "start_n = 0\n",
    "fit_params = None\n",
    "shuffle_rows = True\n",
    "pred_params = None\n",
    "random_features = False\n",
    "store_in_lists = False\n",
    "save_eigenvector = True\n",
    "save_hamiltonian = True\n",
    "save_accuracy = True\n",
    "save_models = True\n",
    "csv_path = \"/home/rio/ssh_csvs/ssh2/periodic_100_6561.csv\"\n",
    "model_name = \"RandomForestClassifier\"\n",
    "simulation_dir = \"/home/rio/ssh_simulations/ssh2/periodic_6th_scenario_100_6561\"\n",
    "random_state = 34896\n",
    "fourier_features_to_use = [\n",
    "    0,\n",
    "    1,\n",
    "    2,\n",
    "    3,\n",
    "    4,\n",
    "    5,\n",
    "    6,\n",
    "    8,\n",
    "    10,\n",
    "    12,\n",
    "    16,\n",
    "    18,\n",
    "    26,\n",
    "    28,\n",
    "    30,\n",
    "    32,\n",
    "    34,\n",
    "    36,\n",
    "    38,\n",
    "    40,\n",
    "    42,\n",
    "    44,\n",
    "    46,\n",
    "    47,\n",
    "    48,\n",
    "]\n",
    "fourier_mode = \"dct\"\n",
    "fourier_real = None\n",
    "fourier_normalize = False\n",
    "fourier_fillna = False\n",
    "normalize = False\n",
    "fillna = False\n"
   ]
  },
  {
   "cell_type": "code",
   "execution_count": 4,
   "metadata": {
    "execution": {
     "iopub.execute_input": "2020-07-09T22:23:18.682795Z",
     "iopub.status.busy": "2020-07-09T22:23:18.682426Z",
     "iopub.status.idle": "2020-07-09T22:23:24.412202Z",
     "shell.execute_reply": "2020-07-09T22:23:24.412513Z"
    },
    "papermill": {
     "duration": 5.750631,
     "end_time": "2020-07-09T22:23:24.412578",
     "exception": false,
     "start_time": "2020-07-09T22:23:18.661947",
     "status": "completed"
    },
    "tags": []
   },
   "outputs": [
    {
     "name": "stdout",
     "output_type": "stream",
     "text": [
      "Info on all data: \n",
      "\n",
      "<class 'pandas.core.frame.DataFrame'>\n",
      "Int64Index: 656100 entries, 0 to 656099\n",
      "Columns: 108 entries, id to feat99\n",
      "dtypes: float64(103), int32(3), object(2)\n",
      "memory usage: 538.1+ MB\n",
      "CPU times: user 5.88 s, sys: 576 ms, total: 6.45 s\n",
      "Wall time: 5.7 s\n"
     ]
    },
    {
     "data": {
      "text/html": [
       "<div>\n",
       "<style scoped>\n",
       "    .dataframe tbody tr th:only-of-type {\n",
       "        vertical-align: middle;\n",
       "    }\n",
       "\n",
       "    .dataframe tbody tr th {\n",
       "        vertical-align: top;\n",
       "    }\n",
       "\n",
       "    .dataframe thead th {\n",
       "        text-align: right;\n",
       "    }\n",
       "</style>\n",
       "<table border=\"1\" class=\"dataframe\">\n",
       "  <thead>\n",
       "    <tr style=\"text-align: right;\">\n",
       "      <th></th>\n",
       "      <th>id</th>\n",
       "      <th>path</th>\n",
       "      <th>t1</th>\n",
       "      <th>t2</th>\n",
       "      <th>winding</th>\n",
       "      <th>phase</th>\n",
       "      <th>pred_phase</th>\n",
       "      <th>type_of</th>\n",
       "      <th>feat0</th>\n",
       "      <th>feat1</th>\n",
       "      <th>...</th>\n",
       "      <th>feat90</th>\n",
       "      <th>feat91</th>\n",
       "      <th>feat92</th>\n",
       "      <th>feat93</th>\n",
       "      <th>feat94</th>\n",
       "      <th>feat95</th>\n",
       "      <th>feat96</th>\n",
       "      <th>feat97</th>\n",
       "      <th>feat98</th>\n",
       "      <th>feat99</th>\n",
       "    </tr>\n",
       "  </thead>\n",
       "  <tbody>\n",
       "    <tr>\n",
       "      <th>0</th>\n",
       "      <td>0</td>\n",
       "      <td>H_-2_-2_0.501338.dat</td>\n",
       "      <td>-2.0</td>\n",
       "      <td>-2.0</td>\n",
       "      <td>0.501338</td>\n",
       "      <td>999</td>\n",
       "      <td>666</td>\n",
       "      <td>test</td>\n",
       "      <td>-0.130965</td>\n",
       "      <td>0.301130</td>\n",
       "      <td>...</td>\n",
       "      <td>-0.080279</td>\n",
       "      <td>-0.115687</td>\n",
       "      <td>-0.174988</td>\n",
       "      <td>0.245064</td>\n",
       "      <td>0.319763</td>\n",
       "      <td>-0.059082</td>\n",
       "      <td>-0.000556</td>\n",
       "      <td>-0.245133</td>\n",
       "      <td>-0.301130</td>\n",
       "      <td>0.130965</td>\n",
       "    </tr>\n",
       "    <tr>\n",
       "      <th>1</th>\n",
       "      <td>0</td>\n",
       "      <td>H_-2_-2_0.501338.dat</td>\n",
       "      <td>-2.0</td>\n",
       "      <td>-2.0</td>\n",
       "      <td>0.501338</td>\n",
       "      <td>999</td>\n",
       "      <td>666</td>\n",
       "      <td>test</td>\n",
       "      <td>-0.130965</td>\n",
       "      <td>-0.301130</td>\n",
       "      <td>...</td>\n",
       "      <td>-0.080279</td>\n",
       "      <td>0.115687</td>\n",
       "      <td>-0.174988</td>\n",
       "      <td>-0.245064</td>\n",
       "      <td>0.319763</td>\n",
       "      <td>0.059082</td>\n",
       "      <td>-0.000556</td>\n",
       "      <td>0.245133</td>\n",
       "      <td>-0.301130</td>\n",
       "      <td>-0.130965</td>\n",
       "    </tr>\n",
       "    <tr>\n",
       "      <th>2</th>\n",
       "      <td>0</td>\n",
       "      <td>H_-2_-2_0.501338.dat</td>\n",
       "      <td>-2.0</td>\n",
       "      <td>-2.0</td>\n",
       "      <td>0.501338</td>\n",
       "      <td>999</td>\n",
       "      <td>666</td>\n",
       "      <td>test</td>\n",
       "      <td>-0.148414</td>\n",
       "      <td>-0.042467</td>\n",
       "      <td>...</td>\n",
       "      <td>0.185442</td>\n",
       "      <td>-0.080620</td>\n",
       "      <td>-0.066211</td>\n",
       "      <td>-0.121339</td>\n",
       "      <td>-0.151700</td>\n",
       "      <td>0.192513</td>\n",
       "      <td>0.191642</td>\n",
       "      <td>-0.050956</td>\n",
       "      <td>-0.042467</td>\n",
       "      <td>-0.148414</td>\n",
       "    </tr>\n",
       "    <tr>\n",
       "      <th>3</th>\n",
       "      <td>0</td>\n",
       "      <td>H_-2_-2_0.501338.dat</td>\n",
       "      <td>-2.0</td>\n",
       "      <td>-2.0</td>\n",
       "      <td>0.501338</td>\n",
       "      <td>999</td>\n",
       "      <td>666</td>\n",
       "      <td>test</td>\n",
       "      <td>-0.069630</td>\n",
       "      <td>-0.026147</td>\n",
       "      <td>...</td>\n",
       "      <td>0.102009</td>\n",
       "      <td>-0.100671</td>\n",
       "      <td>-0.081002</td>\n",
       "      <td>-0.020715</td>\n",
       "      <td>-0.058717</td>\n",
       "      <td>0.115834</td>\n",
       "      <td>0.118274</td>\n",
       "      <td>-0.054666</td>\n",
       "      <td>-0.026147</td>\n",
       "      <td>-0.069630</td>\n",
       "    </tr>\n",
       "    <tr>\n",
       "      <th>4</th>\n",
       "      <td>0</td>\n",
       "      <td>H_-2_-2_0.501338.dat</td>\n",
       "      <td>-2.0</td>\n",
       "      <td>-2.0</td>\n",
       "      <td>0.501338</td>\n",
       "      <td>999</td>\n",
       "      <td>666</td>\n",
       "      <td>test</td>\n",
       "      <td>0.010206</td>\n",
       "      <td>-0.014625</td>\n",
       "      <td>...</td>\n",
       "      <td>0.047555</td>\n",
       "      <td>-0.041368</td>\n",
       "      <td>-0.018852</td>\n",
       "      <td>-0.017673</td>\n",
       "      <td>-0.023377</td>\n",
       "      <td>0.031447</td>\n",
       "      <td>0.010280</td>\n",
       "      <td>0.000925</td>\n",
       "      <td>0.014625</td>\n",
       "      <td>-0.010206</td>\n",
       "    </tr>\n",
       "  </tbody>\n",
       "</table>\n",
       "<p>5 rows × 108 columns</p>\n",
       "</div>"
      ],
      "text/plain": [
       "   id                  path   t1   t2   winding  phase  pred_phase type_of  \\\n",
       "0   0  H_-2_-2_0.501338.dat -2.0 -2.0  0.501338    999         666    test   \n",
       "1   0  H_-2_-2_0.501338.dat -2.0 -2.0  0.501338    999         666    test   \n",
       "2   0  H_-2_-2_0.501338.dat -2.0 -2.0  0.501338    999         666    test   \n",
       "3   0  H_-2_-2_0.501338.dat -2.0 -2.0  0.501338    999         666    test   \n",
       "4   0  H_-2_-2_0.501338.dat -2.0 -2.0  0.501338    999         666    test   \n",
       "\n",
       "      feat0     feat1  ...    feat90    feat91    feat92    feat93    feat94  \\\n",
       "0 -0.130965  0.301130  ... -0.080279 -0.115687 -0.174988  0.245064  0.319763   \n",
       "1 -0.130965 -0.301130  ... -0.080279  0.115687 -0.174988 -0.245064  0.319763   \n",
       "2 -0.148414 -0.042467  ...  0.185442 -0.080620 -0.066211 -0.121339 -0.151700   \n",
       "3 -0.069630 -0.026147  ...  0.102009 -0.100671 -0.081002 -0.020715 -0.058717   \n",
       "4  0.010206 -0.014625  ...  0.047555 -0.041368 -0.018852 -0.017673 -0.023377   \n",
       "\n",
       "     feat95    feat96    feat97    feat98    feat99  \n",
       "0 -0.059082 -0.000556 -0.245133 -0.301130  0.130965  \n",
       "1  0.059082 -0.000556  0.245133 -0.301130 -0.130965  \n",
       "2  0.192513  0.191642 -0.050956 -0.042467 -0.148414  \n",
       "3  0.115834  0.118274 -0.054666 -0.026147 -0.069630  \n",
       "4  0.031447  0.010280  0.000925  0.014625 -0.010206  \n",
       "\n",
       "[5 rows x 108 columns]"
      ]
     },
     "execution_count": 4,
     "metadata": {},
     "output_type": "execute_result"
    }
   ],
   "source": [
    "%%time\n",
    "#Starting an instance of Simulation with a decision tree\n",
    "model = DecisionTreeClassifier(criterion=\"entropy\")\n",
    "#dict_args = {\"csv_path\":csv_path, \"model\":model, \"allowed_windings\":allowed_windings,\\\n",
    "#             \"simulation_dir\":simulation_dir, \"val_split\":val_split, \"features_to_use\":features_to_use,\\\n",
    "#            \"shuffle_features\":shuffle_features, \"random_state\":random_state}\n",
    "simulation = Simulation(csv_path,model_name,model_kw,allowed_windings,simulation_dir,val_split,features_to_use,\\\n",
    "                       shuffle_features,fourier_mode,fourier_features_to_use,fourier_real,\\\n",
    "                       fourier_normalize, fourier_fillna , random_state)\n",
    "#simulation = Simulation(**dict_args)\n",
    "\n",
    "\n",
    "#(self, csv_path, model_name, model_kw, allowed_windings, simulation_dir = None, val_split = 0, \n",
    "# features_to_use = None, shuffle_features = False, fourier_mode=None, fourier_features_to_use=None,\n",
    "# fourier_real = False, fourier_normalize = False, Fourier_fillna=False, random_state = None):\n",
    "\n",
    "\n",
    "\n",
    "print(\"Info on all data: \\n\")\n",
    "simulation.dataframe.info()\n",
    "simulation.dataframe.head()"
   ]
  },
  {
   "cell_type": "markdown",
   "metadata": {
    "papermill": {
     "duration": 0.019904,
     "end_time": "2020-07-09T22:23:24.449363",
     "exception": false,
     "start_time": "2020-07-09T22:23:24.429459",
     "status": "completed"
    },
    "tags": []
   },
   "source": [
    "####  Fourier features"
   ]
  },
  {
   "cell_type": "code",
   "execution_count": 5,
   "metadata": {
    "execution": {
     "iopub.execute_input": "2020-07-09T22:23:24.510207Z",
     "iopub.status.busy": "2020-07-09T22:23:24.509822Z",
     "iopub.status.idle": "2020-07-09T22:23:24.647891Z",
     "shell.execute_reply": "2020-07-09T22:23:24.647482Z"
    },
    "papermill": {
     "duration": 0.179288,
     "end_time": "2020-07-09T22:23:24.647944",
     "exception": false,
     "start_time": "2020-07-09T22:23:24.468656",
     "status": "completed"
    },
    "tags": []
   },
   "outputs": [
    {
     "name": "stdout",
     "output_type": "stream",
     "text": [
      "<class 'pandas.core.frame.DataFrame'>\n",
      "Int64Index: 656100 entries, 0 to 656099\n",
      "Data columns (total 33 columns):\n",
      " #   Column      Non-Null Count   Dtype  \n",
      "---  ------      --------------   -----  \n",
      " 0   id          656100 non-null  int32  \n",
      " 1   path        656100 non-null  object \n",
      " 2   t1          656100 non-null  float64\n",
      " 3   t2          656100 non-null  float64\n",
      " 4   winding     656100 non-null  float64\n",
      " 5   phase       656100 non-null  int32  \n",
      " 6   pred_phase  656100 non-null  int32  \n",
      " 7   type_of     656100 non-null  object \n",
      " 8   dct_feat0   656100 non-null  float64\n",
      " 9   dct_feat1   656100 non-null  float64\n",
      " 10  dct_feat2   656100 non-null  float64\n",
      " 11  dct_feat3   656100 non-null  float64\n",
      " 12  dct_feat4   656100 non-null  float64\n",
      " 13  dct_feat5   656100 non-null  float64\n",
      " 14  dct_feat6   656100 non-null  float64\n",
      " 15  dct_feat8   656100 non-null  float64\n",
      " 16  dct_feat10  656100 non-null  float64\n",
      " 17  dct_feat12  656100 non-null  float64\n",
      " 18  dct_feat16  656100 non-null  float64\n",
      " 19  dct_feat18  656100 non-null  float64\n",
      " 20  dct_feat26  656100 non-null  float64\n",
      " 21  dct_feat28  656100 non-null  float64\n",
      " 22  dct_feat30  656100 non-null  float64\n",
      " 23  dct_feat32  656100 non-null  float64\n",
      " 24  dct_feat34  656100 non-null  float64\n",
      " 25  dct_feat36  656100 non-null  float64\n",
      " 26  dct_feat38  656100 non-null  float64\n",
      " 27  dct_feat40  656100 non-null  float64\n",
      " 28  dct_feat42  656100 non-null  float64\n",
      " 29  dct_feat44  656100 non-null  float64\n",
      " 30  dct_feat46  656100 non-null  float64\n",
      " 31  dct_feat47  656100 non-null  float64\n",
      " 32  dct_feat48  656100 non-null  float64\n",
      "dtypes: float64(28), int32(3), object(2)\n",
      "memory usage: 162.7+ MB\n",
      "CPU times: user 111 ms, sys: 15.9 ms, total: 127 ms\n",
      "Wall time: 127 ms\n"
     ]
    }
   ],
   "source": [
    "%%time\n",
    "#simulation.generate_fourier_df()\n",
    "if simulation.fourier_mode is not None:\n",
    "    simulation.fourier_dataframe.info() \n",
    "    simulation.fourier_dataframe.sample(15)\n"
   ]
  },
  {
   "cell_type": "code",
   "execution_count": 6,
   "metadata": {
    "execution": {
     "iopub.execute_input": "2020-07-09T22:23:24.687876Z",
     "iopub.status.busy": "2020-07-09T22:23:24.687295Z",
     "iopub.status.idle": "2020-07-09T22:23:24.697888Z",
     "shell.execute_reply": "2020-07-09T22:23:24.698192Z"
    },
    "papermill": {
     "duration": 0.032503,
     "end_time": "2020-07-09T22:23:24.698256",
     "exception": false,
     "start_time": "2020-07-09T22:23:24.665753",
     "status": "completed"
    },
    "tags": []
   },
   "outputs": [
    {
     "name": "stdout",
     "output_type": "stream",
     "text": [
      "features_to_use: \n",
      "\n",
      "\n",
      "None\n",
      "\n",
      "\n",
      "fourier_features: \n",
      "\n",
      "\n",
      "['dct_feat0', 'dct_feat1', 'dct_feat2', 'dct_feat3', 'dct_feat4', 'dct_feat5', 'dct_feat6', 'dct_feat8', 'dct_feat10', 'dct_feat12', 'dct_feat16', 'dct_feat18', 'dct_feat26', 'dct_feat28', 'dct_feat30', 'dct_feat32', 'dct_feat34', 'dct_feat36', 'dct_feat38', 'dct_feat40', 'dct_feat42', 'dct_feat44', 'dct_feat46', 'dct_feat47', 'dct_feat48']\n",
      "\n",
      "\n",
      "Number of Fourier features: \n",
      "\n",
      "\n",
      "25\n"
     ]
    }
   ],
   "source": [
    "print(\"features_to_use: \")\n",
    "print(\"\\n\")\n",
    "print(simulation.features_to_use)\n",
    "if simulation.features_to_use is not None:\n",
    "    print(\"Number of real space features:\")\n",
    "    print(\"\\n\")\n",
    "    print(len(simulation.features_to_use))\n",
    "print(\"\\n\")\n",
    "print(\"fourier_features: \")\n",
    "print(\"\\n\")\n",
    "print(simulation.fourier_features)\n",
    "print(\"\\n\")\n",
    "if simulation.fourier_features is not None:\n",
    "    print(\"Number of Fourier features: \")\n",
    "    print(\"\\n\")\n",
    "    print(len(simulation.fourier_features))"
   ]
  },
  {
   "cell_type": "code",
   "execution_count": 7,
   "metadata": {
    "execution": {
     "iopub.execute_input": "2020-07-09T22:23:24.734480Z",
     "iopub.status.busy": "2020-07-09T22:23:24.734172Z",
     "iopub.status.idle": "2020-07-09T22:23:24.788417Z",
     "shell.execute_reply": "2020-07-09T22:23:24.788932Z"
    },
    "papermill": {
     "duration": 0.073611,
     "end_time": "2020-07-09T22:23:24.789023",
     "exception": false,
     "start_time": "2020-07-09T22:23:24.715412",
     "status": "completed"
    },
    "tags": []
   },
   "outputs": [],
   "source": [
    "#simulation.dataframe.iloc[331456,:]"
   ]
  },
  {
   "cell_type": "code",
   "execution_count": 8,
   "metadata": {
    "execution": {
     "iopub.execute_input": "2020-07-09T22:23:24.836928Z",
     "iopub.status.busy": "2020-07-09T22:23:24.836397Z",
     "iopub.status.idle": "2020-07-09T22:23:24.885396Z",
     "shell.execute_reply": "2020-07-09T22:23:24.885703Z"
    },
    "papermill": {
     "duration": 0.07048,
     "end_time": "2020-07-09T22:23:24.885783",
     "exception": false,
     "start_time": "2020-07-09T22:23:24.815303",
     "status": "completed"
    },
    "tags": []
   },
   "outputs": [],
   "source": [
    "#for ix, obj in enumerate(simulation.dataframe.iloc[331456,:].values):\n",
    "#    print(ix,obj)"
   ]
  },
  {
   "cell_type": "code",
   "execution_count": 9,
   "metadata": {
    "execution": {
     "iopub.execute_input": "2020-07-09T22:23:24.926220Z",
     "iopub.status.busy": "2020-07-09T22:23:24.925916Z",
     "iopub.status.idle": "2020-07-09T22:23:24.986409Z",
     "shell.execute_reply": "2020-07-09T22:23:24.985945Z"
    },
    "papermill": {
     "duration": 0.08052,
     "end_time": "2020-07-09T22:23:24.986492",
     "exception": false,
     "start_time": "2020-07-09T22:23:24.905972",
     "status": "completed"
    },
    "tags": []
   },
   "outputs": [],
   "source": [
    "#simulation.fourier_engineered_dataframe.dct_feat0"
   ]
  },
  {
   "cell_type": "code",
   "execution_count": 10,
   "metadata": {
    "execution": {
     "iopub.execute_input": "2020-07-09T22:23:25.042719Z",
     "iopub.status.busy": "2020-07-09T22:23:25.042408Z",
     "iopub.status.idle": "2020-07-09T22:23:25.060395Z",
     "shell.execute_reply": "2020-07-09T22:23:25.060043Z"
    },
    "papermill": {
     "duration": 0.040178,
     "end_time": "2020-07-09T22:23:25.060449",
     "exception": false,
     "start_time": "2020-07-09T22:23:25.020271",
     "status": "completed"
    },
    "tags": []
   },
   "outputs": [],
   "source": [
    "#simulation.features"
   ]
  },
  {
   "cell_type": "code",
   "execution_count": 11,
   "metadata": {
    "execution": {
     "iopub.execute_input": "2020-07-09T22:23:25.095048Z",
     "iopub.status.busy": "2020-07-09T22:23:25.094745Z",
     "iopub.status.idle": "2020-07-09T22:23:25.144153Z",
     "shell.execute_reply": "2020-07-09T22:23:25.143696Z"
    },
    "papermill": {
     "duration": 0.06751,
     "end_time": "2020-07-09T22:23:25.144222",
     "exception": false,
     "start_time": "2020-07-09T22:23:25.076712",
     "status": "completed"
    },
    "tags": []
   },
   "outputs": [],
   "source": [
    "#simulation.fourier_matrix"
   ]
  },
  {
   "cell_type": "code",
   "execution_count": 12,
   "metadata": {
    "execution": {
     "iopub.execute_input": "2020-07-09T22:23:25.191695Z",
     "iopub.status.busy": "2020-07-09T22:23:25.191387Z",
     "iopub.status.idle": "2020-07-09T22:23:25.248128Z",
     "shell.execute_reply": "2020-07-09T22:23:25.247562Z"
    },
    "papermill": {
     "duration": 0.078542,
     "end_time": "2020-07-09T22:23:25.248210",
     "exception": false,
     "start_time": "2020-07-09T22:23:25.169668",
     "status": "completed"
    },
    "tags": []
   },
   "outputs": [],
   "source": [
    "#1/simulation.n_features*simulation.dataframe.loc[:,simulation.features].sum(axis=1)"
   ]
  },
  {
   "cell_type": "code",
   "execution_count": 13,
   "metadata": {
    "execution": {
     "iopub.execute_input": "2020-07-09T22:23:25.303870Z",
     "iopub.status.busy": "2020-07-09T22:23:25.303561Z",
     "iopub.status.idle": "2020-07-09T22:23:25.313561Z",
     "shell.execute_reply": "2020-07-09T22:23:25.313271Z"
    },
    "papermill": {
     "duration": 0.034014,
     "end_time": "2020-07-09T22:23:25.313617",
     "exception": false,
     "start_time": "2020-07-09T22:23:25.279603",
     "status": "completed"
    },
    "tags": []
   },
   "outputs": [],
   "source": [
    "#df_2 = simulation.fourier_engineered_dataframe[simulation.fourier_engineered_dataframe.phase==2]\n",
    "#df_2.describe()"
   ]
  },
  {
   "cell_type": "code",
   "execution_count": 14,
   "metadata": {
    "execution": {
     "iopub.execute_input": "2020-07-09T22:23:25.348580Z",
     "iopub.status.busy": "2020-07-09T22:23:25.348265Z",
     "iopub.status.idle": "2020-07-09T22:23:25.368549Z",
     "shell.execute_reply": "2020-07-09T22:23:25.368197Z"
    },
    "papermill": {
     "duration": 0.038502,
     "end_time": "2020-07-09T22:23:25.368602",
     "exception": false,
     "start_time": "2020-07-09T22:23:25.330100",
     "status": "completed"
    },
    "tags": []
   },
   "outputs": [],
   "source": [
    "#df_1 = simulation.fourier_engineered_dataframe[simulation.fourier_engineered_dataframe.phase==1]\n",
    "#df_1.describe()"
   ]
  },
  {
   "cell_type": "code",
   "execution_count": 15,
   "metadata": {
    "execution": {
     "iopub.execute_input": "2020-07-09T22:23:25.405096Z",
     "iopub.status.busy": "2020-07-09T22:23:25.404653Z",
     "iopub.status.idle": "2020-07-09T22:23:25.472286Z",
     "shell.execute_reply": "2020-07-09T22:23:25.472942Z"
    },
    "papermill": {
     "duration": 0.087193,
     "end_time": "2020-07-09T22:23:25.473068",
     "exception": false,
     "start_time": "2020-07-09T22:23:25.385875",
     "status": "completed"
    },
    "tags": []
   },
   "outputs": [],
   "source": [
    "#df_0 = simulation.fourier_engineered_dataframe[simulation.fourier_engineered_dataframe.phase==0]\n",
    "#df_0.describe()"
   ]
  },
  {
   "cell_type": "code",
   "execution_count": 16,
   "metadata": {
    "execution": {
     "iopub.execute_input": "2020-07-09T22:23:25.534047Z",
     "iopub.status.busy": "2020-07-09T22:23:25.533741Z",
     "iopub.status.idle": "2020-07-09T22:23:25.543758Z",
     "shell.execute_reply": "2020-07-09T22:23:25.543424Z"
    },
    "papermill": {
     "duration": 0.032772,
     "end_time": "2020-07-09T22:23:25.543809",
     "exception": false,
     "start_time": "2020-07-09T22:23:25.511037",
     "status": "completed"
    },
    "tags": []
   },
   "outputs": [],
   "source": [
    "#plt.figure(figsize=(10,10))\n",
    "#plt.scatter(df_1.fourier_feat0,df_1.fourier_feat2)\n",
    "#plt.scatter(df_0.fourier_feat0,df_0.fourier_feat2,alpha=0.4)"
   ]
  },
  {
   "cell_type": "code",
   "execution_count": 17,
   "metadata": {
    "execution": {
     "iopub.execute_input": "2020-07-09T22:23:25.580136Z",
     "iopub.status.busy": "2020-07-09T22:23:25.579830Z",
     "iopub.status.idle": "2020-07-09T22:23:25.634699Z",
     "shell.execute_reply": "2020-07-09T22:23:25.632927Z"
    },
    "papermill": {
     "duration": 0.073796,
     "end_time": "2020-07-09T22:23:25.634947",
     "exception": false,
     "start_time": "2020-07-09T22:23:25.561151",
     "status": "completed"
    },
    "tags": []
   },
   "outputs": [],
   "source": [
    "#plt.scatter(df_0.fourier_feat0,df_0.fourier_feat2,alpha=0.4)"
   ]
  },
  {
   "cell_type": "code",
   "execution_count": 18,
   "metadata": {
    "execution": {
     "iopub.execute_input": "2020-07-09T22:23:25.701727Z",
     "iopub.status.busy": "2020-07-09T22:23:25.701419Z",
     "iopub.status.idle": "2020-07-09T22:23:25.711015Z",
     "shell.execute_reply": "2020-07-09T22:23:25.711331Z"
    },
    "papermill": {
     "duration": 0.03041,
     "end_time": "2020-07-09T22:23:25.711396",
     "exception": false,
     "start_time": "2020-07-09T22:23:25.680986",
     "status": "completed"
    },
    "tags": []
   },
   "outputs": [],
   "source": [
    "#plt.scatter(df_2.fourier_feat0,df_2.fourier_feat2)"
   ]
  },
  {
   "cell_type": "code",
   "execution_count": 19,
   "metadata": {
    "execution": {
     "iopub.execute_input": "2020-07-09T22:23:25.747995Z",
     "iopub.status.busy": "2020-07-09T22:23:25.747677Z",
     "iopub.status.idle": "2020-07-09T22:23:25.793894Z",
     "shell.execute_reply": "2020-07-09T22:23:25.794223Z"
    },
    "papermill": {
     "duration": 0.065543,
     "end_time": "2020-07-09T22:23:25.794308",
     "exception": false,
     "start_time": "2020-07-09T22:23:25.728765",
     "status": "completed"
    },
    "tags": []
   },
   "outputs": [],
   "source": [
    "#df_1.hist(figsize=(15,15))"
   ]
  },
  {
   "cell_type": "code",
   "execution_count": 20,
   "metadata": {
    "execution": {
     "iopub.execute_input": "2020-07-09T22:23:25.834659Z",
     "iopub.status.busy": "2020-07-09T22:23:25.834355Z",
     "iopub.status.idle": "2020-07-09T22:23:25.885873Z",
     "shell.execute_reply": "2020-07-09T22:23:25.885452Z"
    },
    "papermill": {
     "duration": 0.071054,
     "end_time": "2020-07-09T22:23:25.885949",
     "exception": false,
     "start_time": "2020-07-09T22:23:25.814895",
     "status": "completed"
    },
    "tags": []
   },
   "outputs": [],
   "source": [
    "#df_0.hist(figsize=(15,15))"
   ]
  },
  {
   "cell_type": "markdown",
   "metadata": {
    "papermill": {
     "duration": 0.020151,
     "end_time": "2020-07-09T22:23:25.934768",
     "exception": false,
     "start_time": "2020-07-09T22:23:25.914617",
     "status": "completed"
    },
    "tags": []
   },
   "source": [
    "#### Checking initialization"
   ]
  },
  {
   "cell_type": "code",
   "execution_count": 21,
   "metadata": {
    "execution": {
     "iopub.execute_input": "2020-07-09T22:23:25.970142Z",
     "iopub.status.busy": "2020-07-09T22:23:25.969834Z",
     "iopub.status.idle": "2020-07-09T22:23:25.985783Z",
     "shell.execute_reply": "2020-07-09T22:23:25.985465Z"
    },
    "papermill": {
     "duration": 0.034423,
     "end_time": "2020-07-09T22:23:25.985833",
     "exception": false,
     "start_time": "2020-07-09T22:23:25.951410",
     "status": "completed"
    },
    "tags": []
   },
   "outputs": [
    {
     "name": "stdout",
     "output_type": "stream",
     "text": [
      "n_features:  100\n",
      "n_hamiltonians:  6561\n",
      "n_ts:  2\n",
      "CPU times: user 120 µs, sys: 16 µs, total: 136 µs\n",
      "Wall time: 91.3 µs\n"
     ]
    }
   ],
   "source": [
    "%%time\n",
    "n_features = simulation.n_features\n",
    "n_hamiltonians = simulation.n_hamiltonians\n",
    "n_ts = simulation.n_ts\n",
    "\n",
    "print(\"n_features: \", n_features)\n",
    "print(\"n_hamiltonians: \", n_hamiltonians)\n",
    "print(\"n_ts: \", n_ts)"
   ]
  },
  {
   "cell_type": "code",
   "execution_count": 22,
   "metadata": {
    "execution": {
     "iopub.execute_input": "2020-07-09T22:23:26.021520Z",
     "iopub.status.busy": "2020-07-09T22:23:26.021154Z",
     "iopub.status.idle": "2020-07-09T22:23:26.263968Z",
     "shell.execute_reply": "2020-07-09T22:23:26.263697Z"
    },
    "papermill": {
     "duration": 0.261463,
     "end_time": "2020-07-09T22:23:26.264017",
     "exception": false,
     "start_time": "2020-07-09T22:23:26.002554",
     "status": "completed"
    },
    "tags": []
   },
   "outputs": [
    {
     "name": "stdout",
     "output_type": "stream",
     "text": [
      "% train:  0.8414875781130925\n",
      "% val:  0.0\n",
      "% test:  0.15851242188690748\n",
      "% train + val + test:  1.0\n",
      "\n",
      "\n",
      "number of train hamiltonians:  5521\n",
      "number of val hamiltonians:  0\n",
      "number of test hamiltonians:  1040\n",
      "total number of hamiltonians:  6561\n",
      "\n",
      "\n",
      "train ids:  [13, 14, 15, 16, 17, 18, 19, 20, 21, 22, 23, 24, 25, 26, 27, 28, 29, 30, 31, 32, 33, 34, 35, 36, 37, 38, 39, 41, 42, 43, 44, 45, 46, 47, 48, 49, 50, 51, 52, 53, 54, 55, 56, 57, 58, 59, 60, 61, 62, 63, 64, 65, 66, 67, 68, 69, 70, 71, 72, 73, 74, 75, 76, 77, 78, 79, 80, 95, 96, 97, 98, 99, 100, 101, 102, 103, 104, 105, 106, 107, 108, 109, 110, 111, 112, 113, 114, 115, 116, 117, 118, 119, 121, 122, 123, 124, 125, 126, 127, 128, 129, 130, 131, 132, 133, 134, 135, 136, 137, 138, 139, 140, 141, 142, 143, 144, 145, 146, 147, 148, 149, 150, 151, 152, 153, 154, 155, 156, 157, 158, 159, 160, 161, 176, 177, 178, 179, 180, 181, 182, 183, 184, 185, 186, 187, 188, 189, 190, 191, 192, 193, 194, 195, 196, 197, 198, 199, 201, 202, 203, 204, 205, 206, 207, 208, 209, 210, 211, 212, 213, 214, 215, 216, 217, 218, 219, 220, 221, 222, 223, 224, 225, 226, 227, 228, 229, 230, 231, 232, 233, 234, 235, 236, 237, 238, 239, 240, 241, 242, 258, 259, 260, 261, 262, 263, 264, 265, 266, 267, 268, 269, 270, 271, 272, 273, 274, 275, 276, 277, 278, 279, 281, 282, 283, 284, 285, 286, 287, 288, 289, 290, 291, 292, 293, 294, 295, 296, 297, 298, 299, 300, 301, 302, 303, 304, 305, 306, 307, 308, 309, 310, 311, 312, 313, 314, 315, 316, 317, 318, 319, 320, 321, 322, 323, 340, 341, 342, 343, 344, 345, 346, 347, 348, 349, 350, 351, 352, 353, 354, 355, 356, 357, 358, 359, 361, 362, 363, 364, 365, 366, 367, 368, 369, 370, 371, 372, 373, 374, 375, 376, 377, 378, 379, 380, 381, 382, 383, 384, 385, 386, 387, 388, 389, 390, 391, 392, 393, 394, 395, 396, 397, 398, 399, 400, 401, 402, 403, 404, 422, 423, 424, 425, 426, 427, 428, 429, 430, 431, 432, 433, 434, 435, 436, 437, 438, 439, 441, 442, 443, 444, 445, 446, 447, 448, 449, 450, 451, 452, 453, 454, 455, 456, 457, 458, 459, 460, 461, 462, 463, 464, 465, 466, 467, 468, 469, 470, 471, 472, 473, 474, 475, 476, 477, 478, 479, 480, 481, 482, 483, 484, 485, 503, 504, 505, 506, 507, 508, 509, 510, 511, 512, 513, 514, 515, 516, 517, 518, 519, 521, 522, 523, 524, 525, 526, 527, 528, 529, 530, 531, 532, 533, 534, 535, 536, 537, 538, 539, 540, 541, 542, 543, 544, 545, 546, 547, 548, 549, 550, 551, 552, 553, 554, 555, 556, 557, 558, 559, 560, 561, 562, 563, 564, 565, 566, 585, 586, 587, 588, 589, 590, 591, 592, 593, 594, 595, 596, 597, 598, 599, 601, 602, 603, 604, 605, 606, 607, 608, 609, 610, 611, 612, 613, 614, 615, 616, 617, 618, 619, 620, 621, 622, 623, 624, 625, 626, 627, 628, 629, 630, 631, 632, 633, 634, 635, 636, 637, 638, 639, 640, 641, 642, 643, 644, 645, 646, 647, 667, 668, 669, 670, 671, 672, 673, 674, 675, 676, 677, 678, 679, 681, 682, 683, 684, 685, 686, 687, 688, 689, 690, 691, 692, 693, 694, 695, 696, 697, 698, 699, 700, 701, 702, 703, 704, 705, 706, 707, 708, 709, 710, 711, 712, 713, 714, 715, 716, 717, 718, 719, 720, 721, 722, 723, 724, 725, 726, 727, 728, 749, 750, 751, 752, 753, 754, 755, 756, 757, 758, 759, 761, 762, 763, 764, 765, 766, 767, 768, 769, 770, 771, 772, 773, 774, 775, 776, 777, 778, 779, 780, 781, 782, 783, 784, 785, 786, 787, 788, 789, 790, 791, 792, 793, 794, 795, 796, 797, 798, 799, 800, 801, 802, 803, 804, 805, 806, 807, 808, 809, 830, 831, 832, 833, 834, 835, 836, 837, 838, 839, 841, 842, 843, 844, 845, 846, 847, 848, 849, 850, 851, 852, 853, 854, 855, 856, 857, 858, 859, 860, 861, 862, 863, 864, 865, 866, 867, 868, 869, 870, 871, 872, 873, 874, 875, 876, 877, 878, 879, 880, 881, 882, 883, 884, 885, 886, 887, 888, 889, 890, 912, 913, 914, 915, 916, 917, 918, 919, 921, 922, 923, 924, 925, 926, 927, 928, 929, 930, 931, 932, 933, 934, 935, 936, 937, 938, 939, 940, 941, 942, 943, 944, 945, 946, 947, 948, 949, 950, 951, 952, 953, 954, 955, 956, 957, 958, 959, 960, 961, 962, 963, 964, 965, 966, 967, 968, 969, 970, 971, 994, 995, 996, 997, 998, 999, 1001, 1002, 1003, 1004, 1005, 1006, 1007, 1008, 1009, 1010, 1011, 1012, 1013, 1014, 1015, 1016, 1017, 1018, 1019, 1020, 1021, 1022, 1023, 1024, 1025, 1026, 1027, 1028, 1029, 1030, 1031, 1032, 1033, 1034, 1035, 1036, 1037, 1038, 1039, 1040, 1041, 1042, 1043, 1044, 1045, 1046, 1047, 1048, 1049, 1050, 1051, 1052, 1076, 1077, 1078, 1079, 1081, 1082, 1083, 1084, 1085, 1086, 1087, 1088, 1089, 1090, 1091, 1092, 1093, 1094, 1095, 1096, 1097, 1098, 1099, 1100, 1101, 1102, 1103, 1104, 1105, 1106, 1107, 1108, 1109, 1110, 1111, 1112, 1113, 1114, 1115, 1116, 1117, 1118, 1119, 1120, 1121, 1122, 1123, 1124, 1125, 1126, 1127, 1128, 1129, 1130, 1131, 1132, 1133, 1134, 1157, 1158, 1159, 1161, 1162, 1163, 1164, 1165, 1166, 1167, 1168, 1169, 1170, 1171, 1172, 1173, 1174, 1175, 1176, 1177, 1178, 1179, 1180, 1181, 1182, 1183, 1184, 1185, 1186, 1187, 1188, 1189, 1190, 1191, 1192, 1193, 1194, 1195, 1196, 1197, 1198, 1199, 1200, 1201, 1202, 1203, 1204, 1205, 1206, 1207, 1208, 1209, 1210, 1211, 1212, 1213, 1214, 1215, 1216, 1239, 1241, 1242, 1243, 1244, 1245, 1246, 1247, 1248, 1249, 1250, 1251, 1252, 1253, 1254, 1255, 1256, 1257, 1258, 1259, 1260, 1261, 1262, 1263, 1264, 1265, 1266, 1267, 1268, 1269, 1270, 1271, 1272, 1273, 1274, 1275, 1276, 1277, 1278, 1279, 1280, 1281, 1282, 1283, 1284, 1285, 1286, 1287, 1288, 1289, 1290, 1291, 1292, 1293, 1294, 1295, 1296, 1297, 1298, 1299, 1321, 1322, 1323, 1324, 1325, 1326, 1327, 1328, 1329, 1330, 1331, 1332, 1333, 1334, 1335, 1336, 1337, 1338, 1339, 1340, 1341, 1342, 1343, 1344, 1345, 1346, 1347, 1348, 1349, 1350, 1351, 1352, 1353, 1354, 1355, 1356, 1357, 1358, 1359, 1360, 1361, 1362, 1363, 1364, 1365, 1366, 1367, 1368, 1369, 1370, 1371, 1372, 1373, 1374, 1375, 1376, 1377, 1378, 1379, 1380, 1381, 1402, 1403, 1404, 1405, 1406, 1407, 1408, 1409, 1410, 1411, 1412, 1413, 1414, 1415, 1416, 1417, 1418, 1419, 1420, 1421, 1422, 1423, 1424, 1425, 1426, 1427, 1428, 1429, 1430, 1431, 1432, 1433, 1434, 1435, 1436, 1437, 1438, 1439, 1440, 1441, 1442, 1443, 1444, 1445, 1446, 1447, 1448, 1449, 1450, 1451, 1452, 1453, 1454, 1455, 1456, 1457, 1458, 1459, 1460, 1461, 1462, 1463, 1464, 1484, 1485, 1486, 1487, 1488, 1489, 1490, 1491, 1492, 1493, 1494, 1495, 1496, 1497, 1498, 1499, 1500, 1501, 1502, 1503, 1504, 1505, 1506, 1507, 1508, 1509, 1510, 1511, 1512, 1513, 1514, 1515, 1516, 1517, 1518, 1519, 1520, 1521, 1522, 1523, 1524, 1525, 1526, 1527, 1528, 1529, 1530, 1531, 1532, 1533, 1534, 1535, 1536, 1537, 1538, 1539, 1540, 1541, 1542, 1543, 1544, 1545, 1546, 1566, 1567, 1568, 1569, 1570, 1571, 1572, 1573, 1574, 1575, 1576, 1577, 1578, 1579, 1580, 1581, 1582, 1583, 1584, 1585, 1586, 1587, 1588, 1589, 1590, 1591, 1592, 1593, 1594, 1595, 1596, 1597, 1598, 1599, 1600, 1601, 1602, 1603, 1604, 1605, 1606, 1607, 1608, 1609, 1610, 1611, 1612, 1613, 1614, 1615, 1616, 1617, 1618, 1619, 1620, 1621, 1622, 1623, 1624, 1625, 1626, 1627, 1628, 1648, 1649, 1650, 1651, 1652, 1653, 1654, 1655, 1656, 1657, 1658, 1659, 1660, 1661, 1662, 1663, 1664, 1665, 1666, 1667, 1668, 1669, 1670, 1671, 1672, 1673, 1674, 1675, 1676, 1677, 1678, 1679, 1680, 1681, 1682, 1683, 1684, 1685, 1686, 1687, 1688, 1689, 1690, 1691, 1692, 1693, 1694, 1695, 1696, 1697, 1698, 1699, 1701, 1702, 1703, 1704, 1705, 1706, 1707, 1708, 1709, 1710, 1711, 1729, 1730, 1731, 1732, 1733, 1734, 1735, 1736, 1737, 1738, 1739, 1740, 1741, 1742, 1743, 1744, 1745, 1746, 1747, 1748, 1749, 1750, 1751, 1752, 1753, 1754, 1755, 1756, 1757, 1758, 1759, 1760, 1761, 1762, 1763, 1764, 1765, 1766, 1767, 1768, 1769, 1770, 1771, 1772, 1773, 1774, 1775, 1776, 1777, 1778, 1779, 1781, 1782, 1783, 1784, 1785, 1786, 1787, 1788, 1789, 1790, 1791, 1792, 1793, 1811, 1812, 1813, 1814, 1815, 1816, 1817, 1818, 1819, 1820, 1821, 1822, 1823, 1824, 1825, 1826, 1827, 1828, 1829, 1830, 1831, 1832, 1833, 1834, 1835, 1836, 1837, 1838, 1839, 1840, 1841, 1842, 1843, 1844, 1845, 1846, 1847, 1848, 1849, 1850, 1851, 1852, 1853, 1854, 1855, 1856, 1857, 1858, 1859, 1861, 1862, 1863, 1864, 1865, 1866, 1867, 1868, 1869, 1870, 1871, 1872, 1873, 1874, 1875, 1876, 1893, 1894, 1895, 1896, 1897, 1898, 1899, 1900, 1901, 1902, 1903, 1904, 1905, 1906, 1907, 1908, 1909, 1910, 1911, 1912, 1913, 1914, 1915, 1916, 1917, 1918, 1919, 1920, 1921, 1922, 1923, 1924, 1925, 1926, 1927, 1928, 1929, 1930, 1931, 1932, 1933, 1934, 1935, 1936, 1937, 1938, 1939, 1941, 1942, 1943, 1944, 1945, 1946, 1947, 1948, 1949, 1950, 1951, 1952, 1953, 1954, 1955, 1956, 1957, 1958, 1975, 1976, 1977, 1978, 1979, 1980, 1981, 1982, 1983, 1984, 1985, 1986, 1987, 1988, 1989, 1990, 1991, 1992, 1993, 1994, 1995, 1996, 1997, 1998, 1999, 2000, 2001, 2002, 2003, 2004, 2005, 2006, 2007, 2008, 2009, 2010, 2011, 2012, 2013, 2014, 2015, 2016, 2017, 2018, 2019, 2021, 2022, 2023, 2024, 2025, 2026, 2027, 2028, 2029, 2030, 2031, 2032, 2033, 2034, 2035, 2036, 2037, 2038, 2039, 2056, 2057, 2058, 2059, 2060, 2061, 2062, 2063, 2064, 2065, 2066, 2067, 2068, 2069, 2070, 2071, 2072, 2073, 2074, 2075, 2076, 2077, 2078, 2079, 2080, 2081, 2082, 2083, 2084, 2085, 2086, 2087, 2088, 2089, 2090, 2091, 2092, 2093, 2094, 2095, 2096, 2097, 2098, 2099, 2101, 2102, 2103, 2104, 2105, 2106, 2107, 2108, 2109, 2110, 2111, 2112, 2113, 2114, 2115, 2116, 2117, 2118, 2119, 2121, 2122, 2123, 2138, 2139, 2140, 2141, 2142, 2143, 2144, 2145, 2146, 2147, 2148, 2149, 2150, 2151, 2152, 2153, 2154, 2155, 2156, 2157, 2158, 2159, 2160, 2161, 2162, 2163, 2164, 2165, 2166, 2167, 2168, 2169, 2170, 2171, 2172, 2173, 2174, 2175, 2176, 2177, 2178, 2179, 2181, 2182, 2183, 2184, 2185, 2186, 2187, 2188, 2189, 2190, 2191, 2192, 2193, 2194, 2195, 2196, 2197, 2198, 2199, 2201, 2202, 2203, 2204, 2205, 2220, 2221, 2222, 2223, 2224, 2225, 2226, 2227, 2228, 2229, 2230, 2231, 2232, 2233, 2234, 2235, 2236, 2237, 2238, 2239, 2240, 2241, 2242, 2243, 2244, 2245, 2246, 2247, 2248, 2249, 2250, 2251, 2252, 2253, 2254, 2255, 2256, 2257, 2258, 2259, 2261, 2262, 2263, 2264, 2265, 2266, 2267, 2268, 2269, 2270, 2271, 2272, 2273, 2274, 2275, 2276, 2277, 2278, 2279, 2281, 2282, 2283, 2284, 2285, 2286, 2287, 2288, 2301, 2302, 2303, 2304, 2305, 2306, 2307, 2308, 2309, 2310, 2311, 2312, 2313, 2314, 2315, 2316, 2317, 2318, 2319, 2320, 2321, 2322, 2323, 2324, 2325, 2326, 2327, 2328, 2329, 2330, 2331, 2332, 2333, 2334, 2335, 2336, 2337, 2338, 2339, 2341, 2342, 2343, 2344, 2345, 2346, 2347, 2348, 2349, 2350, 2351, 2352, 2353, 2354, 2355, 2356, 2357, 2358, 2359, 2361, 2362, 2363, 2364, 2365, 2366, 2367, 2368, 2369, 2370, 2383, 2384, 2385, 2386, 2387, 2388, 2389, 2390, 2391, 2392, 2393, 2394, 2395, 2396, 2397, 2398, 2399, 2400, 2401, 2402, 2403, 2404, 2405, 2406, 2407, 2408, 2409, 2410, 2411, 2412, 2413, 2414, 2415, 2416, 2417, 2418, 2419, 2421, 2422, 2423, 2424, 2425, 2426, 2427, 2428, 2429, 2430, 2431, 2432, 2433, 2434, 2435, 2436, 2437, 2438, 2439, 2441, 2442, 2443, 2444, 2445, 2446, 2447, 2448, 2449, 2450, 2451, 2452, 2453, 2465, 2466, 2467, 2468, 2469, 2470, 2471, 2472, 2473, 2474, 2475, 2476, 2477, 2478, 2479, 2480, 2481, 2482, 2483, 2484, 2485, 2486, 2487, 2488, 2489, 2490, 2491, 2492, 2493, 2494, 2495, 2496, 2497, 2498, 2499, 2501, 2502, 2503, 2504, 2505, 2506, 2507, 2508, 2509, 2510, 2511, 2512, 2513, 2514, 2515, 2516, 2517, 2518, 2519, 2521, 2522, 2523, 2524, 2525, 2526, 2527, 2528, 2529, 2530, 2531, 2532, 2533, 2534, 2535, 2547, 2548, 2549, 2550, 2551, 2552, 2553, 2554, 2555, 2556, 2557, 2558, 2559, 2560, 2561, 2562, 2563, 2564, 2565, 2566, 2567, 2568, 2569, 2570, 2571, 2572, 2573, 2574, 2575, 2576, 2577, 2578, 2579, 2581, 2582, 2583, 2584, 2585, 2586, 2587, 2588, 2589, 2590, 2591, 2592, 2593, 2594, 2595, 2596, 2597, 2598, 2599, 2601, 2602, 2603, 2604, 2605, 2606, 2607, 2608, 2609, 2610, 2611, 2612, 2613, 2614, 2615, 2616, 2617, 2628, 2629, 2630, 2631, 2632, 2633, 2634, 2635, 2636, 2637, 2638, 2639, 2640, 2641, 2642, 2643, 2644, 2645, 2646, 2647, 2648, 2649, 2650, 2651, 2652, 2653, 2654, 2655, 2656, 2657, 2658, 2659, 2661, 2662, 2663, 2664, 2665, 2666, 2667, 2668, 2669, 2670, 2671, 2672, 2673, 2674, 2675, 2676, 2677, 2678, 2679, 2681, 2682, 2683, 2684, 2685, 2686, 2687, 2688, 2689, 2690, 2691, 2692, 2693, 2694, 2695, 2696, 2697, 2698, 2699, 2700, 2710, 2711, 2712, 2713, 2714, 2715, 2716, 2717, 2718, 2719, 2720, 2721, 2722, 2723, 2724, 2725, 2726, 2727, 2728, 2729, 2730, 2731, 2732, 2733, 2734, 2735, 2736, 2737, 2738, 2739, 2741, 2742, 2743, 2744, 2745, 2746, 2747, 2748, 2749, 2750, 2751, 2752, 2753, 2754, 2755, 2756, 2757, 2758, 2759, 2761, 2762, 2763, 2764, 2765, 2766, 2767, 2768, 2769, 2770, 2771, 2772, 2773, 2774, 2775, 2776, 2777, 2778, 2779, 2780, 2781, 2782, 2792, 2793, 2794, 2795, 2796, 2797, 2798, 2799, 2800, 2801, 2802, 2803, 2804, 2805, 2806, 2807, 2808, 2809, 2810, 2811, 2812, 2813, 2814, 2815, 2816, 2817, 2818, 2819, 2821, 2822, 2823, 2824, 2825, 2826, 2827, 2828, 2829, 2830, 2831, 2832, 2833, 2834, 2835, 2836, 2837, 2838, 2839, 2841, 2842, 2843, 2844, 2845, 2846, 2847, 2848, 2849, 2850, 2851, 2852, 2853, 2854, 2855, 2856, 2857, 2858, 2859, 2860, 2861, 2862, 2863, 2864, 2865, 2874, 2875, 2876, 2877, 2878, 2879, 2880, 2881, 2882, 2883, 2884, 2885, 2886, 2887, 2888, 2889, 2890, 2891, 2892, 2893, 2894, 2895, 2896, 2897, 2898, 2899, 2901, 2902, 2903, 2904, 2905, 2906, 2907, 2908, 2909, 2910, 2911, 2912, 2913, 2914, 2915, 2916, 2917, 2918, 2919, 2921, 2922, 2923, 2924, 2925, 2926, 2927, 2928, 2929, 2930, 2931, 2932, 2933, 2934, 2935, 2936, 2937, 2938, 2939, 2940, 2941, 2942, 2943, 2944, 2945, 2946, 2947, 2955, 2956, 2957, 2958, 2959, 2960, 2961, 2962, 2963, 2964, 2965, 2966, 2967, 2968, 2969, 2970, 2971, 2972, 2973, 2974, 2975, 2976, 2977, 2978, 2979, 2981, 2982, 2983, 2984, 2985, 2986, 2987, 2988, 2989, 2990, 2991, 2992, 2993, 2994, 2995, 2996, 2997, 2998, 2999, 3001, 3002, 3003, 3004, 3005, 3006, 3007, 3008, 3009, 3010, 3011, 3012, 3013, 3014, 3015, 3016, 3017, 3018, 3019, 3020, 3021, 3022, 3023, 3024, 3025, 3026, 3027, 3028, 3029, 3037, 3038, 3039, 3040, 3041, 3042, 3043, 3044, 3045, 3046, 3047, 3048, 3049, 3050, 3051, 3052, 3053, 3054, 3055, 3056, 3057, 3058, 3059, 3061, 3062, 3063, 3064, 3065, 3066, 3067, 3068, 3069, 3070, 3071, 3072, 3073, 3074, 3075, 3076, 3077, 3078, 3079, 3081, 3082, 3083, 3084, 3085, 3086, 3087, 3088, 3089, 3090, 3091, 3092, 3093, 3094, 3095, 3096, 3097, 3098, 3099, 3100, 3101, 3102, 3103, 3104, 3105, 3106, 3107, 3108, 3109, 3110, 3111, 3112, 3119, 3120, 3121, 3122, 3123, 3124, 3125, 3126, 3127, 3128, 3129, 3130, 3131, 3132, 3133, 3134, 3135, 3136, 3137, 3138, 3139, 3141, 3142, 3143, 3144, 3145, 3146, 3147, 3148, 3149, 3150, 3151, 3152, 3153, 3154, 3155, 3156, 3157, 3158, 3159, 3161, 3162, 3163, 3164, 3165, 3166, 3167, 3168, 3169, 3170, 3171, 3172, 3173, 3174, 3175, 3176, 3177, 3178, 3179, 3180, 3181, 3182, 3183, 3184, 3185, 3186, 3187, 3188, 3189, 3190, 3191, 3192, 3193, 3194, 3201, 3202, 3203, 3204, 3205, 3206, 3207, 3208, 3209, 3210, 3211, 3212, 3213, 3214, 3215, 3216, 3217, 3218, 3219, 3221, 3222, 3223, 3224, 3225, 3226, 3227, 3228, 3229, 3230, 3231, 3232, 3233, 3234, 3235, 3236, 3237, 3238, 3239, 3241, 3242, 3243, 3244, 3245, 3246, 3247, 3248, 3249, 3250, 3251, 3252, 3253, 3254, 3255, 3256, 3257, 3258, 3259, 3260, 3261, 3262, 3263, 3264, 3265, 3266, 3267, 3268, 3269, 3270, 3271, 3272, 3273, 3274, 3275, 3276, 3277, 3282, 3283, 3284, 3285, 3286, 3287, 3288, 3289, 3290, 3291, 3292, 3293, 3294, 3295, 3296, 3297, 3298, 3299, 3301, 3302, 3303, 3304, 3305, 3306, 3307, 3308, 3309, 3310, 3311, 3312, 3313, 3314, 3315, 3316, 3317, 3318, 3319, 3320, 3321, 3322, 3323, 3324, 3325, 3326, 3327, 3328, 3329, 3330, 3331, 3332, 3333, 3334, 3335, 3336, 3337, 3338, 3339, 3340, 3341, 3342, 3343, 3344, 3345, 3346, 3347, 3348, 3349, 3350, 3351, 3352, 3353, 3354, 3355, 3356, 3357, 3358, 3359, 3364, 3365, 3366, 3367, 3368, 3369, 3370, 3371, 3372, 3373, 3374, 3375, 3376, 3377, 3378, 3379, 3381, 3382, 3383, 3384, 3385, 3386, 3387, 3388, 3389, 3390, 3391, 3392, 3393, 3394, 3395, 3396, 3397, 3398, 3399, 3400, 3401, 3402, 3403, 3404, 3405, 3406, 3407, 3408, 3409, 3410, 3411, 3412, 3413, 3414, 3415, 3416, 3417, 3418, 3419, 3420, 3421, 3422, 3423, 3424, 3425, 3426, 3427, 3428, 3429, 3430, 3431, 3432, 3433, 3434, 3435, 3436, 3437, 3438, 3439, 3440, 3441, 3442, 3446, 3447, 3448, 3449, 3450, 3451, 3452, 3453, 3454, 3455, 3456, 3457, 3458, 3459, 3461, 3462, 3463, 3464, 3465, 3466, 3467, 3468, 3469, 3470, 3471, 3472, 3473, 3474, 3475, 3476, 3477, 3478, 3479, 3480, 3481, 3482, 3483, 3484, 3485, 3486, 3487, 3488, 3489, 3490, 3491, 3492, 3493, 3494, 3495, 3496, 3497, 3498, 3499, 3500, 3501, 3502, 3503, 3504, 3505, 3506, 3507, 3508, 3509, 3510, 3511, 3512, 3513, 3514, 3515, 3516, 3517, 3518, 3519, 3520, 3521, 3522, 3523, 3524, 3527, 3528, 3529, 3530, 3531, 3532, 3533, 3534, 3535, 3536, 3537, 3538, 3539, 3541, 3542, 3543, 3544, 3545, 3546, 3547, 3548, 3549, 3550, 3551, 3552, 3553, 3554, 3555, 3556, 3557, 3558, 3559, 3560, 3561, 3562, 3563, 3564, 3565, 3566, 3567, 3568, 3569, 3570, 3571, 3572, 3573, 3574, 3575, 3576, 3577, 3578, 3579, 3580, 3581, 3582, 3583, 3584, 3585, 3586, 3587, 3588, 3589, 3590, 3591, 3592, 3593, 3594, 3595, 3596, 3597, 3598, 3599, 3600, 3601, 3602, 3603, 3604, 3605, 3606, 3609, 3610, 3611, 3612, 3613, 3614, 3615, 3616, 3617, 3618, 3619, 3621, 3622, 3623, 3624, 3625, 3626, 3627, 3628, 3629, 3630, 3631, 3632, 3633, 3634, 3635, 3636, 3637, 3638, 3639, 3640, 3641, 3642, 3643, 3644, 3645, 3646, 3647, 3648, 3649, 3650, 3651, 3652, 3653, 3654, 3655, 3656, 3657, 3658, 3659, 3660, 3661, 3662, 3663, 3664, 3665, 3666, 3667, 3668, 3669, 3670, 3671, 3672, 3673, 3674, 3675, 3676, 3677, 3678, 3679, 3680, 3681, 3682, 3683, 3684, 3685, 3686, 3687, 3688, 3689, 3691, 3692, 3693, 3694, 3695, 3696, 3697, 3698, 3699, 3701, 3702, 3703, 3704, 3705, 3706, 3707, 3708, 3709, 3710, 3711, 3712, 3713, 3714, 3715, 3716, 3717, 3718, 3719, 3720, 3721, 3722, 3723, 3724, 3725, 3726, 3727, 3728, 3729, 3730, 3731, 3732, 3733, 3734, 3735, 3736, 3737, 3738, 3739, 3740, 3741, 3742, 3743, 3744, 3745, 3746, 3747, 3748, 3749, 3750, 3751, 3752, 3753, 3754, 3755, 3756, 3757, 3758, 3759, 3760, 3761, 3762, 3763, 3764, 3765, 3766, 3767, 3768, 3769, 3770, 3771, 3773, 3774, 3775, 3776, 3777, 3778, 3779, 3781, 3782, 3783, 3784, 3785, 3786, 3787, 3788, 3789, 3790, 3791, 3792, 3793, 3794, 3795, 3796, 3797, 3798, 3799, 3800, 3801, 3802, 3803, 3804, 3805, 3806, 3807, 3808, 3809, 3810, 3811, 3812, 3813, 3814, 3815, 3816, 3817, 3818, 3819, 3820, 3821, 3822, 3823, 3824, 3825, 3826, 3827, 3828, 3829, 3830, 3831, 3832, 3833, 3834, 3835, 3836, 3837, 3838, 3839, 3840, 3841, 3842, 3843, 3844, 3845, 3846, 3847, 3848, 3849, 3850, 3851, 3852, 3853, 3855, 3856, 3857, 3858, 3859, 3861, 3862, 3863, 3864, 3865, 3866, 3867, 3868, 3869, 3870, 3871, 3872, 3873, 3874, 3875, 3876, 3877, 3878, 3879, 3880, 3881, 3882, 3883, 3884, 3885, 3886, 3887, 3888, 3889, 3890, 3891, 3892, 3893, 3894, 3895, 3896, 3897, 3898, 3899, 3900, 3901, 3902, 3903, 3904, 3905, 3906, 3907, 3908, 3909, 3910, 3911, 3912, 3913, 3914, 3915, 3916, 3917, 3918, 3919, 3920, 3921, 3922, 3923, 3924, 3925, 3926, 3927, 3928, 3929, 3930, 3931, 3932, 3933, 3934, 3935, 3937, 3938, 3939, 3941, 3942, 3943, 3944, 3945, 3946, 3947, 3948, 3949, 3950, 3951, 3952, 3953, 3954, 3955, 3956, 3957, 3958, 3959, 3960, 3961, 3962, 3963, 3964, 3965, 3966, 3967, 3968, 3969, 3970, 3971, 3972, 3973, 3974, 3975, 3976, 3977, 3978, 3979, 3980, 3981, 3982, 3983, 3984, 3985, 3986, 3987, 3988, 3989, 3990, 3991, 3992, 3993, 3994, 3995, 3996, 3997, 3998, 3999, 4000, 4001, 4002, 4003, 4004, 4005, 4006, 4007, 4008, 4009, 4010, 4011, 4012, 4013, 4014, 4015, 4016, 4017, 4021, 4022, 4023, 4024, 4025, 4026, 4027, 4028, 4029, 4030, 4031, 4032, 4033, 4034, 4035, 4036, 4037, 4038, 4039, 4040, 4041, 4042, 4043, 4044, 4045, 4046, 4047, 4048, 4049, 4050, 4051, 4052, 4053, 4054, 4055, 4056, 4057, 4058, 4059, 4060, 4061, 4062, 4063, 4064, 4065, 4066, 4067, 4068, 4069, 4070, 4071, 4072, 4073, 4074, 4075, 4076, 4077, 4078, 4079, 4080, 4081, 4082, 4083, 4084, 4085, 4086, 4087, 4088, 4089, 4090, 4091, 4092, 4093, 4094, 4095, 4096, 4097, 4098, 4102, 4103, 4104, 4105, 4106, 4107, 4108, 4109, 4110, 4111, 4112, 4113, 4114, 4115, 4116, 4117, 4118, 4119, 4120, 4121, 4122, 4123, 4124, 4125, 4126, 4127, 4128, 4129, 4130, 4131, 4132, 4133, 4134, 4135, 4136, 4137, 4138, 4139, 4140, 4141, 4142, 4143, 4144, 4145, 4146, 4147, 4148, 4149, 4150, 4151, 4152, 4153, 4154, 4155, 4156, 4157, 4158, 4159, 4160, 4161, 4162, 4163, 4164, 4165, 4166, 4167, 4168, 4169, 4170, 4171, 4172, 4173, 4174, 4175, 4176, 4177, 4178, 4179, 4184, 4185, 4186, 4187, 4188, 4189, 4190, 4191, 4192, 4193, 4194, 4195, 4196, 4197, 4198, 4199, 4200, 4201, 4202, 4203, 4204, 4205, 4206, 4207, 4208, 4209, 4210, 4211, 4212, 4213, 4214, 4215, 4216, 4217, 4218, 4219, 4220, 4221, 4222, 4223, 4224, 4225, 4226, 4227, 4228, 4229, 4230, 4231, 4232, 4233, 4234, 4235, 4236, 4237, 4238, 4239, 4240, 4241, 4242, 4243, 4244, 4245, 4246, 4247, 4248, 4249, 4250, 4251, 4252, 4253, 4254, 4255, 4256, 4257, 4258, 4259, 4261, 4262, 4267, 4268, 4269, 4270, 4271, 4272, 4273, 4274, 4275, 4276, 4277, 4278, 4279, 4280, 4281, 4282, 4283, 4284, 4285, 4286, 4287, 4288, 4289, 4290, 4291, 4292, 4293, 4294, 4295, 4296, 4297, 4298, 4299, 4300, 4301, 4302, 4303, 4304, 4305, 4306, 4307, 4308, 4309, 4310, 4311, 4312, 4313, 4314, 4315, 4316, 4317, 4318, 4319, 4320, 4321, 4322, 4323, 4324, 4325, 4326, 4327, 4328, 4329, 4330, 4331, 4332, 4333, 4334, 4335, 4336, 4337, 4338, 4339, 4341, 4342, 4343, 4344, 4349, 4350, 4351, 4352, 4353, 4354, 4355, 4356, 4357, 4358, 4359, 4360, 4361, 4362, 4363, 4364, 4365, 4366, 4367, 4368, 4369, 4370, 4371, 4372, 4373, 4374, 4375, 4376, 4377, 4378, 4379, 4380, 4381, 4382, 4383, 4384, 4385, 4386, 4387, 4388, 4389, 4390, 4391, 4392, 4393, 4394, 4395, 4396, 4397, 4398, 4399, 4400, 4401, 4402, 4403, 4404, 4405, 4406, 4407, 4408, 4409, 4410, 4411, 4412, 4413, 4414, 4415, 4416, 4417, 4418, 4419, 4421, 4422, 4423, 4424, 4425, 4426, 4432, 4433, 4434, 4435, 4436, 4437, 4438, 4439, 4440, 4441, 4442, 4443, 4444, 4445, 4446, 4447, 4448, 4449, 4450, 4451, 4452, 4453, 4454, 4455, 4456, 4457, 4458, 4459, 4460, 4461, 4462, 4463, 4464, 4465, 4466, 4467, 4468, 4469, 4470, 4471, 4472, 4473, 4474, 4475, 4476, 4477, 4478, 4479, 4480, 4481, 4482, 4483, 4484, 4485, 4486, 4487, 4488, 4489, 4490, 4491, 4492, 4493, 4494, 4495, 4496, 4497, 4498, 4499, 4501, 4502, 4503, 4504, 4505, 4506, 4507, 4514, 4515, 4516, 4517, 4518, 4519, 4520, 4521, 4522, 4523, 4524, 4525, 4526, 4527, 4528, 4529, 4530, 4531, 4532, 4533, 4534, 4535, 4536, 4537, 4538, 4539, 4540, 4541, 4542, 4543, 4544, 4545, 4546, 4547, 4548, 4549, 4550, 4551, 4552, 4553, 4554, 4555, 4556, 4557, 4558, 4559, 4560, 4561, 4562, 4563, 4564, 4565, 4566, 4567, 4568, 4569, 4570, 4571, 4572, 4573, 4574, 4575, 4576, 4577, 4578, 4579, 4581, 4582, 4583, 4584, 4585, 4586, 4587, 4588, 4589, 4596, 4597, 4598, 4599, 4600, 4601, 4602, 4603, 4604, 4605, 4606, 4607, 4608, 4609, 4610, 4611, 4612, 4613, 4614, 4615, 4616, 4617, 4618, 4619, 4620, 4621, 4622, 4623, 4624, 4625, 4626, 4627, 4628, 4629, 4630, 4631, 4632, 4633, 4634, 4635, 4636, 4637, 4638, 4639, 4640, 4641, 4642, 4643, 4644, 4645, 4646, 4647, 4648, 4649, 4650, 4651, 4652, 4653, 4654, 4655, 4656, 4657, 4658, 4659, 4661, 4662, 4663, 4664, 4665, 4666, 4667, 4668, 4669, 4670, 4671, 4679, 4680, 4681, 4682, 4683, 4684, 4685, 4686, 4687, 4688, 4689, 4690, 4691, 4692, 4693, 4694, 4695, 4696, 4697, 4698, 4699, 4700, 4701, 4702, 4703, 4704, 4705, 4706, 4707, 4708, 4709, 4710, 4711, 4712, 4713, 4714, 4715, 4716, 4717, 4718, 4719, 4720, 4721, 4722, 4723, 4724, 4725, 4726, 4727, 4728, 4729, 4730, 4731, 4732, 4733, 4734, 4735, 4736, 4737, 4738, 4739, 4741, 4742, 4743, 4744, 4745, 4746, 4747, 4748, 4749, 4750, 4751, 4752, 4761, 4762, 4763, 4764, 4765, 4766, 4767, 4768, 4769, 4770, 4771, 4772, 4773, 4774, 4775, 4776, 4777, 4778, 4779, 4780, 4781, 4782, 4783, 4784, 4785, 4786, 4787, 4788, 4789, 4790, 4791, 4792, 4793, 4794, 4795, 4796, 4797, 4798, 4799, 4800, 4801, 4802, 4803, 4804, 4805, 4806, 4807, 4808, 4809, 4810, 4811, 4812, 4813, 4814, 4815, 4816, 4817, 4818, 4819, 4821, 4822, 4823, 4824, 4825, 4826, 4827, 4828, 4829, 4830, 4831, 4832, 4833, 4834, 4844, 4845, 4846, 4847, 4848, 4849, 4850, 4851, 4852, 4853, 4854, 4855, 4856, 4857, 4858, 4859, 4860, 4861, 4862, 4863, 4864, 4865, 4866, 4867, 4868, 4869, 4870, 4871, 4872, 4873, 4874, 4875, 4876, 4877, 4878, 4879, 4880, 4881, 4882, 4883, 4884, 4885, 4886, 4887, 4888, 4889, 4890, 4891, 4892, 4893, 4894, 4895, 4896, 4897, 4898, 4899, 4901, 4902, 4903, 4904, 4905, 4906, 4907, 4908, 4909, 4910, 4911, 4912, 4913, 4914, 4915, 4916, 4926, 4927, 4928, 4929, 4930, 4931, 4932, 4933, 4934, 4935, 4936, 4937, 4938, 4939, 4940, 4941, 4942, 4943, 4944, 4945, 4946, 4947, 4948, 4949, 4950, 4951, 4952, 4953, 4954, 4955, 4956, 4957, 4958, 4959, 4960, 4961, 4962, 4963, 4964, 4965, 4966, 4967, 4968, 4969, 4970, 4971, 4972, 4973, 4974, 4975, 4976, 4977, 4978, 4979, 4981, 4982, 4983, 4984, 4985, 4986, 4987, 4988, 4989, 4990, 4991, 4992, 4993, 4994, 4995, 4996, 4997, 4998, 5008, 5009, 5010, 5011, 5012, 5013, 5014, 5015, 5016, 5017, 5018, 5019, 5020, 5021, 5022, 5023, 5024, 5025, 5026, 5027, 5028, 5029, 5030, 5031, 5032, 5033, 5034, 5035, 5036, 5037, 5038, 5039, 5040, 5041, 5042, 5043, 5044, 5045, 5046, 5047, 5048, 5049, 5050, 5051, 5052, 5053, 5054, 5055, 5056, 5057, 5058, 5059, 5061, 5062, 5063, 5064, 5065, 5066, 5067, 5068, 5069, 5070, 5071, 5072, 5073, 5074, 5075, 5076, 5077, 5078, 5079, 5091, 5092, 5093, 5094, 5095, 5096, 5097, 5098, 5099, 5100, 5101, 5102, 5103, 5104, 5105, 5106, 5107, 5108, 5109, 5110, 5111, 5112, 5113, 5114, 5115, 5116, 5117, 5118, 5119, 5120, 5121, 5122, 5123, 5124, 5125, 5126, 5127, 5128, 5129, 5130, 5131, 5132, 5133, 5134, 5135, 5136, 5137, 5138, 5139, 5141, 5142, 5143, 5144, 5145, 5146, 5147, 5148, 5149, 5150, 5151, 5152, 5153, 5154, 5155, 5156, 5157, 5158, 5159, 5160, 5161, 5173, 5174, 5175, 5176, 5177, 5178, 5179, 5180, 5181, 5182, 5183, 5184, 5185, 5186, 5187, 5188, 5189, 5190, 5191, 5192, 5193, 5194, 5195, 5196, 5197, 5198, 5199, 5200, 5201, 5202, 5203, 5204, 5205, 5206, 5207, 5208, 5209, 5210, 5211, 5212, 5213, 5214, 5215, 5216, 5217, 5218, 5219, 5221, 5222, 5223, 5224, 5225, 5226, 5227, 5228, 5229, 5230, 5231, 5232, 5233, 5234, 5235, 5236, 5237, 5238, 5239, 5240, 5241, 5242, 5243, 5256, 5257, 5258, 5259, 5260, 5261, 5262, 5263, 5264, 5265, 5266, 5267, 5268, 5269, 5270, 5271, 5272, 5273, 5274, 5275, 5276, 5277, 5278, 5279, 5280, 5281, 5282, 5283, 5284, 5285, 5286, 5287, 5288, 5289, 5290, 5291, 5292, 5293, 5294, 5295, 5296, 5297, 5298, 5299, 5301, 5302, 5303, 5304, 5305, 5306, 5307, 5308, 5309, 5310, 5311, 5312, 5313, 5314, 5315, 5316, 5317, 5318, 5319, 5320, 5321, 5322, 5323, 5324, 5325, 5338, 5339, 5340, 5341, 5342, 5343, 5344, 5345, 5346, 5347, 5348, 5349, 5350, 5351, 5352, 5353, 5354, 5355, 5356, 5357, 5358, 5359, 5360, 5361, 5362, 5363, 5364, 5365, 5366, 5367, 5368, 5369, 5370, 5371, 5372, 5373, 5374, 5375, 5376, 5377, 5378, 5379, 5381, 5382, 5383, 5384, 5385, 5386, 5387, 5388, 5389, 5390, 5391, 5392, 5393, 5394, 5395, 5396, 5397, 5398, 5399, 5400, 5401, 5402, 5403, 5404, 5405, 5406, 5421, 5422, 5423, 5424, 5425, 5426, 5427, 5428, 5429, 5430, 5431, 5432, 5433, 5434, 5435, 5436, 5437, 5438, 5439, 5440, 5441, 5442, 5443, 5444, 5445, 5446, 5447, 5448, 5449, 5450, 5451, 5452, 5453, 5454, 5455, 5456, 5457, 5458, 5459, 5461, 5462, 5463, 5464, 5465, 5466, 5467, 5468, 5469, 5470, 5471, 5472, 5473, 5474, 5475, 5476, 5477, 5478, 5479, 5480, 5481, 5482, 5483, 5484, 5485, 5486, 5487, 5488, 5503, 5504, 5505, 5506, 5507, 5508, 5509, 5510, 5511, 5512, 5513, 5514, 5515, 5516, 5517, 5518, 5519, 5520, 5521, 5522, 5523, 5524, 5525, 5526, 5527, 5528, 5529, 5530, 5531, 5532, 5533, 5534, 5535, 5536, 5537, 5538, 5539, 5541, 5542, 5543, 5544, 5545, 5546, 5547, 5548, 5549, 5550, 5551, 5552, 5553, 5554, 5555, 5556, 5557, 5558, 5559, 5560, 5561, 5562, 5563, 5564, 5565, 5566, 5567, 5568, 5569, 5570, 5585, 5586, 5587, 5588, 5589, 5590, 5591, 5592, 5593, 5594, 5595, 5596, 5597, 5598, 5599, 5600, 5601, 5602, 5603, 5604, 5605, 5606, 5607, 5608, 5609, 5610, 5611, 5612, 5613, 5614, 5615, 5616, 5617, 5618, 5619, 5621, 5622, 5623, 5624, 5625, 5626, 5627, 5628, 5629, 5630, 5631, 5632, 5633, 5634, 5635, 5636, 5637, 5638, 5639, 5640, 5641, 5642, 5643, 5644, 5645, 5646, 5647, 5648, 5649, 5650, 5651, 5652, 5668, 5669, 5670, 5671, 5672, 5673, 5674, 5675, 5676, 5677, 5678, 5679, 5680, 5681, 5682, 5683, 5684, 5685, 5686, 5687, 5688, 5689, 5690, 5691, 5692, 5693, 5694, 5695, 5696, 5697, 5698, 5699, 5701, 5702, 5703, 5704, 5705, 5706, 5707, 5708, 5709, 5710, 5711, 5712, 5713, 5714, 5715, 5716, 5717, 5718, 5719, 5720, 5721, 5722, 5723, 5724, 5725, 5726, 5727, 5728, 5729, 5730, 5731, 5732, 5733, 5750, 5751, 5752, 5753, 5754, 5755, 5756, 5757, 5758, 5759, 5760, 5761, 5762, 5763, 5764, 5765, 5766, 5767, 5768, 5769, 5770, 5771, 5772, 5773, 5774, 5775, 5776, 5777, 5778, 5779, 5781, 5782, 5783, 5784, 5785, 5786, 5787, 5788, 5789, 5790, 5791, 5792, 5793, 5794, 5795, 5796, 5797, 5798, 5799, 5800, 5801, 5802, 5803, 5804, 5805, 5806, 5807, 5808, 5809, 5810, 5811, 5812, 5813, 5814, 5815, 5832, 5833, 5834, 5835, 5836, 5837, 5838, 5839, 5840, 5841, 5842, 5843, 5844, 5845, 5846, 5847, 5848, 5849, 5850, 5851, 5852, 5853, 5854, 5855, 5856, 5857, 5858, 5859, 5861, 5862, 5863, 5864, 5865, 5866, 5867, 5868, 5869, 5870, 5871, 5872, 5873, 5874, 5875, 5876, 5877, 5878, 5879, 5880, 5881, 5882, 5883, 5884, 5885, 5886, 5887, 5888, 5889, 5890, 5891, 5892, 5893, 5894, 5895, 5896, 5897, 5913, 5914, 5915, 5916, 5917, 5918, 5919, 5920, 5921, 5922, 5923, 5924, 5925, 5926, 5927, 5928, 5929, 5930, 5931, 5932, 5933, 5934, 5935, 5936, 5937, 5938, 5939, 5941, 5942, 5943, 5944, 5945, 5946, 5947, 5948, 5949, 5950, 5951, 5952, 5953, 5954, 5955, 5956, 5957, 5958, 5959, 5960, 5961, 5962, 5963, 5964, 5965, 5966, 5967, 5968, 5969, 5970, 5971, 5972, 5973, 5974, 5975, 5976, 5977, 5978, 5994, 5995, 5996, 5997, 5998, 5999, 6000, 6001, 6002, 6003, 6004, 6005, 6006, 6007, 6008, 6009, 6010, 6011, 6012, 6013, 6014, 6015, 6016, 6017, 6018, 6019, 6021, 6022, 6023, 6024, 6025, 6026, 6027, 6028, 6029, 6030, 6031, 6032, 6033, 6034, 6035, 6036, 6037, 6038, 6039, 6040, 6041, 6042, 6043, 6044, 6045, 6046, 6047, 6048, 6049, 6050, 6051, 6052, 6053, 6054, 6055, 6056, 6057, 6058, 6059, 6060, 6075, 6076, 6077, 6078, 6079, 6080, 6081, 6082, 6083, 6084, 6085, 6086, 6087, 6088, 6089, 6090, 6091, 6092, 6093, 6094, 6095, 6096, 6097, 6098, 6099, 6101, 6102, 6103, 6104, 6105, 6106, 6107, 6108, 6109, 6110, 6111, 6112, 6113, 6114, 6115, 6116, 6117, 6118, 6119, 6120, 6121, 6122, 6123, 6124, 6125, 6126, 6127, 6128, 6129, 6130, 6131, 6132, 6133, 6134, 6135, 6136, 6137, 6138, 6139, 6140, 6141, 6142, 6156, 6157, 6158, 6159, 6160, 6161, 6162, 6163, 6164, 6165, 6166, 6167, 6168, 6169, 6170, 6171, 6172, 6173, 6174, 6175, 6176, 6177, 6178, 6179, 6181, 6182, 6183, 6184, 6185, 6186, 6187, 6188, 6189, 6190, 6191, 6192, 6193, 6194, 6195, 6196, 6197, 6198, 6199, 6200, 6201, 6202, 6203, 6204, 6205, 6206, 6207, 6208, 6209, 6210, 6211, 6212, 6213, 6214, 6215, 6216, 6217, 6218, 6219, 6220, 6221, 6222, 6223, 6224, 6237, 6238, 6239, 6240, 6241, 6242, 6243, 6244, 6245, 6246, 6247, 6248, 6249, 6250, 6251, 6252, 6253, 6254, 6255, 6256, 6257, 6258, 6259, 6261, 6262, 6263, 6264, 6265, 6266, 6267, 6268, 6269, 6270, 6271, 6272, 6273, 6274, 6275, 6276, 6277, 6278, 6279, 6280, 6281, 6282, 6283, 6284, 6285, 6286, 6287, 6288, 6289, 6290, 6291, 6292, 6293, 6294, 6295, 6296, 6297, 6298, 6299, 6300, 6301, 6302, 6303, 6304, 6305, 6318, 6319, 6320, 6321, 6322, 6323, 6324, 6325, 6326, 6327, 6328, 6329, 6330, 6331, 6332, 6333, 6334, 6335, 6336, 6337, 6338, 6339, 6341, 6342, 6343, 6344, 6345, 6346, 6347, 6348, 6349, 6350, 6351, 6352, 6353, 6354, 6355, 6356, 6357, 6358, 6359, 6360, 6361, 6362, 6363, 6364, 6365, 6366, 6367, 6368, 6369, 6370, 6371, 6372, 6373, 6374, 6375, 6376, 6377, 6378, 6379, 6380, 6381, 6382, 6383, 6384, 6385, 6386, 6387, 6399, 6400, 6401, 6402, 6403, 6404, 6405, 6406, 6407, 6408, 6409, 6410, 6411, 6412, 6413, 6414, 6415, 6416, 6417, 6418, 6419, 6421, 6422, 6423, 6424, 6425, 6426, 6427, 6428, 6429, 6430, 6431, 6432, 6433, 6434, 6435, 6436, 6437, 6438, 6439, 6440, 6441, 6442, 6443, 6444, 6445, 6446, 6447, 6448, 6449, 6450, 6451, 6452, 6453, 6454, 6455, 6456, 6457, 6458, 6459, 6460, 6461, 6462, 6463, 6464, 6465, 6466, 6467, 6468, 6469, 6480, 6481, 6482, 6483, 6484, 6485, 6486, 6487, 6488, 6489, 6490, 6491, 6492, 6493, 6494, 6495, 6496, 6497, 6498, 6499, 6501, 6502, 6503, 6504, 6505, 6506, 6507, 6508, 6509, 6510, 6511, 6512, 6513, 6514, 6515, 6516, 6517, 6518, 6519, 6520, 6521, 6522, 6523, 6524, 6525, 6526, 6527, 6528, 6529, 6530, 6531, 6532, 6533, 6534, 6535, 6536, 6537, 6538, 6539, 6540, 6541, 6542, 6543, 6544, 6545, 6546, 6547, 6548, 6549, 6550, 6551]\n",
      "val ids:  []\n",
      "test ids:  [0, 1, 2, 3, 4, 5, 6, 7, 8, 9, 10, 11, 12, 40, 81, 82, 83, 84, 85, 86, 87, 88, 89, 90, 91, 92, 93, 94, 120, 162, 163, 164, 165, 166, 167, 168, 169, 170, 171, 172, 173, 174, 175, 200, 243, 244, 245, 246, 247, 248, 249, 250, 251, 252, 253, 254, 255, 256, 257, 280, 324, 325, 326, 327, 328, 329, 330, 331, 332, 333, 334, 335, 336, 337, 338, 339, 360, 405, 406, 407, 408, 409, 410, 411, 412, 413, 414, 415, 416, 417, 418, 419, 420, 421, 440, 486, 487, 488, 489, 490, 491, 492, 493, 494, 495, 496, 497, 498, 499, 500, 501, 502, 520, 567, 568, 569, 570, 571, 572, 573, 574, 575, 576, 577, 578, 579, 580, 581, 582, 583, 584, 600, 648, 649, 650, 651, 652, 653, 654, 655, 656, 657, 658, 659, 660, 661, 662, 663, 664, 665, 666, 680, 729, 730, 731, 732, 733, 734, 735, 736, 737, 738, 739, 740, 741, 742, 743, 744, 745, 746, 747, 748, 760, 810, 811, 812, 813, 814, 815, 816, 817, 818, 819, 820, 821, 822, 823, 824, 825, 826, 827, 828, 829, 840, 891, 892, 893, 894, 895, 896, 897, 898, 899, 900, 901, 902, 903, 904, 905, 906, 907, 908, 909, 910, 911, 920, 972, 973, 974, 975, 976, 977, 978, 979, 980, 981, 982, 983, 984, 985, 986, 987, 988, 989, 990, 991, 992, 993, 1000, 1053, 1054, 1055, 1056, 1057, 1058, 1059, 1060, 1061, 1062, 1063, 1064, 1065, 1066, 1067, 1068, 1069, 1070, 1071, 1072, 1073, 1074, 1075, 1080, 1135, 1136, 1137, 1138, 1139, 1140, 1141, 1142, 1143, 1144, 1145, 1146, 1147, 1148, 1149, 1150, 1151, 1152, 1153, 1154, 1155, 1156, 1160, 1217, 1218, 1219, 1220, 1221, 1222, 1223, 1224, 1225, 1226, 1227, 1228, 1229, 1230, 1231, 1232, 1233, 1234, 1235, 1236, 1237, 1238, 1240, 1300, 1301, 1302, 1303, 1304, 1305, 1306, 1307, 1308, 1309, 1310, 1311, 1312, 1313, 1314, 1315, 1316, 1317, 1318, 1319, 1320, 1382, 1383, 1384, 1385, 1386, 1387, 1388, 1389, 1390, 1391, 1392, 1393, 1394, 1395, 1396, 1397, 1398, 1399, 1400, 1401, 1465, 1466, 1467, 1468, 1469, 1470, 1471, 1472, 1473, 1474, 1475, 1476, 1477, 1478, 1479, 1480, 1481, 1482, 1483, 1547, 1548, 1549, 1550, 1551, 1552, 1553, 1554, 1555, 1556, 1557, 1558, 1559, 1560, 1561, 1562, 1563, 1564, 1565, 1629, 1630, 1631, 1632, 1633, 1634, 1635, 1636, 1637, 1638, 1639, 1640, 1641, 1642, 1643, 1644, 1645, 1646, 1647, 1700, 1712, 1713, 1714, 1715, 1716, 1717, 1718, 1719, 1720, 1721, 1722, 1723, 1724, 1725, 1726, 1727, 1728, 1780, 1794, 1795, 1796, 1797, 1798, 1799, 1800, 1801, 1802, 1803, 1804, 1805, 1806, 1807, 1808, 1809, 1810, 1860, 1877, 1878, 1879, 1880, 1881, 1882, 1883, 1884, 1885, 1886, 1887, 1888, 1889, 1890, 1891, 1892, 1940, 1959, 1960, 1961, 1962, 1963, 1964, 1965, 1966, 1967, 1968, 1969, 1970, 1971, 1972, 1973, 1974, 2020, 2040, 2041, 2042, 2043, 2044, 2045, 2046, 2047, 2048, 2049, 2050, 2051, 2052, 2053, 2054, 2055, 2100, 2120, 2124, 2125, 2126, 2127, 2128, 2129, 2130, 2131, 2132, 2133, 2134, 2135, 2136, 2137, 2180, 2200, 2206, 2207, 2208, 2209, 2210, 2211, 2212, 2213, 2214, 2215, 2216, 2217, 2218, 2219, 2260, 2280, 2289, 2290, 2291, 2292, 2293, 2294, 2295, 2296, 2297, 2298, 2299, 2300, 2340, 2360, 2371, 2372, 2373, 2374, 2375, 2376, 2377, 2378, 2379, 2380, 2381, 2382, 2420, 2440, 2454, 2455, 2456, 2457, 2458, 2459, 2460, 2461, 2462, 2463, 2464, 2500, 2520, 2536, 2537, 2538, 2539, 2540, 2541, 2542, 2543, 2544, 2545, 2546, 2580, 2600, 2618, 2619, 2620, 2621, 2622, 2623, 2624, 2625, 2626, 2627, 2660, 2680, 2701, 2702, 2703, 2704, 2705, 2706, 2707, 2708, 2709, 2740, 2760, 2783, 2784, 2785, 2786, 2787, 2788, 2789, 2790, 2791, 2820, 2840, 2866, 2867, 2868, 2869, 2870, 2871, 2872, 2873, 2900, 2920, 2948, 2949, 2950, 2951, 2952, 2953, 2954, 2980, 3000, 3030, 3031, 3032, 3033, 3034, 3035, 3036, 3060, 3080, 3113, 3114, 3115, 3116, 3117, 3118, 3140, 3160, 3195, 3196, 3197, 3198, 3199, 3200, 3220, 3240, 3278, 3279, 3280, 3281, 3300, 3360, 3361, 3362, 3363, 3380, 3443, 3444, 3445, 3460, 3525, 3526, 3540, 3607, 3608, 3620, 3690, 3700, 3772, 3780, 3854, 3860, 3936, 3940, 4018, 4019, 4020, 4099, 4100, 4101, 4180, 4181, 4182, 4183, 4260, 4263, 4264, 4265, 4266, 4340, 4345, 4346, 4347, 4348, 4420, 4427, 4428, 4429, 4430, 4431, 4500, 4508, 4509, 4510, 4511, 4512, 4513, 4580, 4590, 4591, 4592, 4593, 4594, 4595, 4660, 4672, 4673, 4674, 4675, 4676, 4677, 4678, 4740, 4753, 4754, 4755, 4756, 4757, 4758, 4759, 4760, 4820, 4835, 4836, 4837, 4838, 4839, 4840, 4841, 4842, 4843, 4900, 4917, 4918, 4919, 4920, 4921, 4922, 4923, 4924, 4925, 4980, 4999, 5000, 5001, 5002, 5003, 5004, 5005, 5006, 5007, 5060, 5080, 5081, 5082, 5083, 5084, 5085, 5086, 5087, 5088, 5089, 5090, 5140, 5162, 5163, 5164, 5165, 5166, 5167, 5168, 5169, 5170, 5171, 5172, 5220, 5244, 5245, 5246, 5247, 5248, 5249, 5250, 5251, 5252, 5253, 5254, 5255, 5300, 5326, 5327, 5328, 5329, 5330, 5331, 5332, 5333, 5334, 5335, 5336, 5337, 5380, 5407, 5408, 5409, 5410, 5411, 5412, 5413, 5414, 5415, 5416, 5417, 5418, 5419, 5420, 5460, 5489, 5490, 5491, 5492, 5493, 5494, 5495, 5496, 5497, 5498, 5499, 5500, 5501, 5502, 5540, 5571, 5572, 5573, 5574, 5575, 5576, 5577, 5578, 5579, 5580, 5581, 5582, 5583, 5584, 5620, 5653, 5654, 5655, 5656, 5657, 5658, 5659, 5660, 5661, 5662, 5663, 5664, 5665, 5666, 5667, 5700, 5734, 5735, 5736, 5737, 5738, 5739, 5740, 5741, 5742, 5743, 5744, 5745, 5746, 5747, 5748, 5749, 5780, 5816, 5817, 5818, 5819, 5820, 5821, 5822, 5823, 5824, 5825, 5826, 5827, 5828, 5829, 5830, 5831, 5860, 5898, 5899, 5900, 5901, 5902, 5903, 5904, 5905, 5906, 5907, 5908, 5909, 5910, 5911, 5912, 5940, 5979, 5980, 5981, 5982, 5983, 5984, 5985, 5986, 5987, 5988, 5989, 5990, 5991, 5992, 5993, 6020, 6061, 6062, 6063, 6064, 6065, 6066, 6067, 6068, 6069, 6070, 6071, 6072, 6073, 6074, 6100, 6143, 6144, 6145, 6146, 6147, 6148, 6149, 6150, 6151, 6152, 6153, 6154, 6155, 6180, 6225, 6226, 6227, 6228, 6229, 6230, 6231, 6232, 6233, 6234, 6235, 6236, 6260, 6306, 6307, 6308, 6309, 6310, 6311, 6312, 6313, 6314, 6315, 6316, 6317, 6340, 6388, 6389, 6390, 6391, 6392, 6393, 6394, 6395, 6396, 6397, 6398, 6420, 6470, 6471, 6472, 6473, 6474, 6475, 6476, 6477, 6478, 6479, 6500, 6552, 6553, 6554, 6555, 6556, 6557, 6558, 6559, 6560]\n",
      "CPU times: user 178 ms, sys: 7.38 ms, total: 186 ms\n",
      "Wall time: 185 ms\n"
     ]
    }
   ],
   "source": [
    "%%time\n",
    "n_total = len(simulation.dataframe)\n",
    "n_train = len(simulation.dataframe[simulation.dataframe.type_of == \"train\"])\n",
    "n_val = len(simulation.dataframe[simulation.dataframe.type_of == \"val\"])\n",
    "n_test = len(simulation.dataframe[simulation.dataframe.type_of == \"test\"])\n",
    "n_train_hamiltonians = len(simulation.train_ids)\n",
    "n_val_hamiltonians = len(simulation.val_ids)\n",
    "n_test_hamiltonians = len(simulation.test_ids)\n",
    "n_total_hamiltonians = n_train_hamiltonians + n_val_hamiltonians + n_test_hamiltonians\n",
    "\n",
    "print(\"% train: \", n_train/n_total)\n",
    "print(\"% val: \",  n_val/n_total)\n",
    "print(\"% test: \", n_test/n_total)\n",
    "print(\"% train + val + test: \", (n_train+n_val+n_test)/n_total)\n",
    "print(\"\\n\")\n",
    "print(\"number of train hamiltonians: \", n_train_hamiltonians)\n",
    "print(\"number of val hamiltonians: \", n_val_hamiltonians)\n",
    "print(\"number of test hamiltonians: \", n_test_hamiltonians)\n",
    "print(\"total number of hamiltonians: \", n_total_hamiltonians)\n",
    "print(\"\\n\")\n",
    "print(\"train ids: \", simulation.train_ids)\n",
    "print(\"val ids: \", simulation.val_ids)\n",
    "print(\"test ids: \", simulation.test_ids)"
   ]
  },
  {
   "cell_type": "markdown",
   "metadata": {
    "papermill": {
     "duration": 0.018551,
     "end_time": "2020-07-09T22:23:26.301480",
     "exception": false,
     "start_time": "2020-07-09T22:23:26.282929",
     "status": "completed"
    },
    "tags": []
   },
   "source": [
    "## Running a simulation"
   ]
  },
  {
   "cell_type": "code",
   "execution_count": 23,
   "metadata": {
    "execution": {
     "iopub.execute_input": "2020-07-09T22:23:26.340546Z",
     "iopub.status.busy": "2020-07-09T22:23:26.340221Z",
     "iopub.status.idle": "2020-07-09T23:10:58.603254Z",
     "shell.execute_reply": "2020-07-09T23:10:58.603561Z"
    },
    "papermill": {
     "duration": 2852.283991,
     "end_time": "2020-07-09T23:10:58.603626",
     "exception": false,
     "start_time": "2020-07-09T22:23:26.319635",
     "status": "completed"
    },
    "tags": []
   },
   "outputs": [
    {
     "name": "stderr",
     "output_type": "stream",
     "text": [
      "\r",
      "running experiments:   0%|          | 0/100 [00:00<?, ?it/s]"
     ]
    },
    {
     "name": "stderr",
     "output_type": "stream",
     "text": [
      "\r",
      "running experiments:   1%|          | 1/100 [00:27<45:47, 27.76s/it]"
     ]
    },
    {
     "name": "stderr",
     "output_type": "stream",
     "text": [
      "\r",
      "running experiments:   2%|▏         | 2/100 [00:56<46:01, 28.18s/it]"
     ]
    },
    {
     "name": "stderr",
     "output_type": "stream",
     "text": [
      "\r",
      "running experiments:   3%|▎         | 3/100 [01:26<46:01, 28.47s/it]"
     ]
    },
    {
     "name": "stderr",
     "output_type": "stream",
     "text": [
      "\r",
      "running experiments:   4%|▍         | 4/100 [01:54<45:39, 28.54s/it]"
     ]
    },
    {
     "name": "stderr",
     "output_type": "stream",
     "text": [
      "\r",
      "running experiments:   5%|▌         | 5/100 [02:23<45:20, 28.64s/it]"
     ]
    },
    {
     "name": "stderr",
     "output_type": "stream",
     "text": [
      "\r",
      "running experiments:   6%|▌         | 6/100 [02:51<44:43, 28.55s/it]"
     ]
    },
    {
     "name": "stderr",
     "output_type": "stream",
     "text": [
      "\r",
      "running experiments:   7%|▋         | 7/100 [03:20<44:00, 28.39s/it]"
     ]
    },
    {
     "name": "stderr",
     "output_type": "stream",
     "text": [
      "\r",
      "running experiments:   8%|▊         | 8/100 [03:48<43:22, 28.29s/it]"
     ]
    },
    {
     "name": "stderr",
     "output_type": "stream",
     "text": [
      "\r",
      "running experiments:   9%|▉         | 9/100 [04:16<43:06, 28.43s/it]"
     ]
    },
    {
     "name": "stderr",
     "output_type": "stream",
     "text": [
      "\r",
      "running experiments:  10%|█         | 10/100 [04:45<42:51, 28.57s/it]"
     ]
    },
    {
     "name": "stderr",
     "output_type": "stream",
     "text": [
      "\r",
      "running experiments:  11%|█         | 11/100 [05:15<42:46, 28.84s/it]"
     ]
    },
    {
     "name": "stderr",
     "output_type": "stream",
     "text": [
      "\r",
      "running experiments:  12%|█▏        | 12/100 [05:43<42:11, 28.77s/it]"
     ]
    },
    {
     "name": "stderr",
     "output_type": "stream",
     "text": [
      "\r",
      "running experiments:  13%|█▎        | 13/100 [06:12<41:44, 28.78s/it]"
     ]
    },
    {
     "name": "stderr",
     "output_type": "stream",
     "text": [
      "\r",
      "running experiments:  14%|█▍        | 14/100 [06:40<41:04, 28.66s/it]"
     ]
    },
    {
     "name": "stderr",
     "output_type": "stream",
     "text": [
      "\r",
      "running experiments:  15%|█▌        | 15/100 [07:08<40:12, 28.38s/it]"
     ]
    },
    {
     "name": "stderr",
     "output_type": "stream",
     "text": [
      "\r",
      "running experiments:  16%|█▌        | 16/100 [07:37<39:45, 28.40s/it]"
     ]
    },
    {
     "name": "stderr",
     "output_type": "stream",
     "text": [
      "\r",
      "running experiments:  17%|█▋        | 17/100 [08:04<38:58, 28.17s/it]"
     ]
    },
    {
     "name": "stderr",
     "output_type": "stream",
     "text": [
      "\r",
      "running experiments:  18%|█▊        | 18/100 [08:33<38:38, 28.27s/it]"
     ]
    },
    {
     "name": "stderr",
     "output_type": "stream",
     "text": [
      "\r",
      "running experiments:  19%|█▉        | 19/100 [09:00<37:54, 28.08s/it]"
     ]
    },
    {
     "name": "stderr",
     "output_type": "stream",
     "text": [
      "\r",
      "running experiments:  20%|██        | 20/100 [09:29<37:32, 28.16s/it]"
     ]
    },
    {
     "name": "stderr",
     "output_type": "stream",
     "text": [
      "\r",
      "running experiments:  21%|██        | 21/100 [09:56<36:47, 27.95s/it]"
     ]
    },
    {
     "name": "stderr",
     "output_type": "stream",
     "text": [
      "\r",
      "running experiments:  22%|██▏       | 22/100 [10:25<36:38, 28.19s/it]"
     ]
    },
    {
     "name": "stderr",
     "output_type": "stream",
     "text": [
      "\r",
      "running experiments:  23%|██▎       | 23/100 [10:53<36:07, 28.15s/it]"
     ]
    },
    {
     "name": "stderr",
     "output_type": "stream",
     "text": [
      "\r",
      "running experiments:  24%|██▍       | 24/100 [11:21<35:38, 28.14s/it]"
     ]
    },
    {
     "name": "stderr",
     "output_type": "stream",
     "text": [
      "\r",
      "running experiments:  25%|██▌       | 25/100 [11:50<35:28, 28.38s/it]"
     ]
    },
    {
     "name": "stderr",
     "output_type": "stream",
     "text": [
      "\r",
      "running experiments:  26%|██▌       | 26/100 [12:18<34:55, 28.32s/it]"
     ]
    },
    {
     "name": "stderr",
     "output_type": "stream",
     "text": [
      "\r",
      "running experiments:  27%|██▋       | 27/100 [12:46<34:10, 28.09s/it]"
     ]
    },
    {
     "name": "stderr",
     "output_type": "stream",
     "text": [
      "\r",
      "running experiments:  28%|██▊       | 28/100 [13:16<34:26, 28.70s/it]"
     ]
    },
    {
     "name": "stderr",
     "output_type": "stream",
     "text": [
      "\r",
      "running experiments:  29%|██▉       | 29/100 [13:47<34:41, 29.32s/it]"
     ]
    },
    {
     "name": "stderr",
     "output_type": "stream",
     "text": [
      "\r",
      "running experiments:  30%|███       | 30/100 [14:17<34:34, 29.63s/it]"
     ]
    },
    {
     "name": "stderr",
     "output_type": "stream",
     "text": [
      "\r",
      "running experiments:  31%|███       | 31/100 [14:48<34:23, 29.91s/it]"
     ]
    },
    {
     "name": "stderr",
     "output_type": "stream",
     "text": [
      "\r",
      "running experiments:  32%|███▏      | 32/100 [15:16<33:17, 29.38s/it]"
     ]
    },
    {
     "name": "stderr",
     "output_type": "stream",
     "text": [
      "\r",
      "running experiments:  33%|███▎      | 33/100 [15:44<32:24, 29.02s/it]"
     ]
    },
    {
     "name": "stderr",
     "output_type": "stream",
     "text": [
      "\r",
      "running experiments:  34%|███▍      | 34/100 [16:13<31:54, 29.01s/it]"
     ]
    },
    {
     "name": "stderr",
     "output_type": "stream",
     "text": [
      "\r",
      "running experiments:  35%|███▌      | 35/100 [16:41<31:12, 28.82s/it]"
     ]
    },
    {
     "name": "stderr",
     "output_type": "stream",
     "text": [
      "\r",
      "running experiments:  36%|███▌      | 36/100 [17:09<30:29, 28.59s/it]"
     ]
    },
    {
     "name": "stderr",
     "output_type": "stream",
     "text": [
      "\r",
      "running experiments:  37%|███▋      | 37/100 [17:38<30:04, 28.64s/it]"
     ]
    },
    {
     "name": "stderr",
     "output_type": "stream",
     "text": [
      "\r",
      "running experiments:  38%|███▊      | 38/100 [18:07<29:39, 28.70s/it]"
     ]
    },
    {
     "name": "stderr",
     "output_type": "stream",
     "text": [
      "\r",
      "running experiments:  39%|███▉      | 39/100 [18:35<28:56, 28.47s/it]"
     ]
    },
    {
     "name": "stderr",
     "output_type": "stream",
     "text": [
      "\r",
      "running experiments:  40%|████      | 40/100 [19:03<28:16, 28.28s/it]"
     ]
    },
    {
     "name": "stderr",
     "output_type": "stream",
     "text": [
      "\r",
      "running experiments:  41%|████      | 41/100 [19:31<27:41, 28.16s/it]"
     ]
    },
    {
     "name": "stderr",
     "output_type": "stream",
     "text": [
      "\r",
      "running experiments:  42%|████▏     | 42/100 [20:00<27:27, 28.41s/it]"
     ]
    },
    {
     "name": "stderr",
     "output_type": "stream",
     "text": [
      "\r",
      "running experiments:  43%|████▎     | 43/100 [20:29<27:15, 28.69s/it]"
     ]
    },
    {
     "name": "stderr",
     "output_type": "stream",
     "text": [
      "\r",
      "running experiments:  44%|████▍     | 44/100 [20:57<26:43, 28.63s/it]"
     ]
    },
    {
     "name": "stderr",
     "output_type": "stream",
     "text": [
      "\r",
      "running experiments:  45%|████▌     | 45/100 [21:26<26:16, 28.66s/it]"
     ]
    },
    {
     "name": "stderr",
     "output_type": "stream",
     "text": [
      "\r",
      "running experiments:  46%|████▌     | 46/100 [21:54<25:35, 28.43s/it]"
     ]
    },
    {
     "name": "stderr",
     "output_type": "stream",
     "text": [
      "\r",
      "running experiments:  47%|████▋     | 47/100 [22:23<25:12, 28.54s/it]"
     ]
    },
    {
     "name": "stderr",
     "output_type": "stream",
     "text": [
      "\r",
      "running experiments:  48%|████▊     | 48/100 [22:52<24:56, 28.77s/it]"
     ]
    },
    {
     "name": "stderr",
     "output_type": "stream",
     "text": [
      "\r",
      "running experiments:  49%|████▉     | 49/100 [23:21<24:21, 28.65s/it]"
     ]
    },
    {
     "name": "stderr",
     "output_type": "stream",
     "text": [
      "\r",
      "running experiments:  50%|█████     | 50/100 [23:50<24:10, 29.01s/it]"
     ]
    },
    {
     "name": "stderr",
     "output_type": "stream",
     "text": [
      "\r",
      "running experiments:  51%|█████     | 51/100 [24:18<23:26, 28.71s/it]"
     ]
    },
    {
     "name": "stderr",
     "output_type": "stream",
     "text": [
      "\r",
      "running experiments:  52%|█████▏    | 52/100 [24:48<23:12, 29.01s/it]"
     ]
    },
    {
     "name": "stderr",
     "output_type": "stream",
     "text": [
      "\r",
      "running experiments:  53%|█████▎    | 53/100 [25:16<22:30, 28.74s/it]"
     ]
    },
    {
     "name": "stderr",
     "output_type": "stream",
     "text": [
      "\r",
      "running experiments:  54%|█████▍    | 54/100 [25:45<21:58, 28.66s/it]"
     ]
    },
    {
     "name": "stderr",
     "output_type": "stream",
     "text": [
      "\r",
      "running experiments:  55%|█████▌    | 55/100 [26:13<21:20, 28.46s/it]"
     ]
    },
    {
     "name": "stderr",
     "output_type": "stream",
     "text": [
      "\r",
      "running experiments:  56%|█████▌    | 56/100 [26:40<20:40, 28.20s/it]"
     ]
    },
    {
     "name": "stderr",
     "output_type": "stream",
     "text": [
      "\r",
      "running experiments:  57%|█████▋    | 57/100 [27:09<20:23, 28.45s/it]"
     ]
    },
    {
     "name": "stderr",
     "output_type": "stream",
     "text": [
      "\r",
      "running experiments:  58%|█████▊    | 58/100 [27:38<20:03, 28.65s/it]"
     ]
    },
    {
     "name": "stderr",
     "output_type": "stream",
     "text": [
      "\r",
      "running experiments:  59%|█████▉    | 59/100 [28:07<19:27, 28.49s/it]"
     ]
    },
    {
     "name": "stderr",
     "output_type": "stream",
     "text": [
      "\r",
      "running experiments:  60%|██████    | 60/100 [28:36<19:12, 28.82s/it]"
     ]
    },
    {
     "name": "stderr",
     "output_type": "stream",
     "text": [
      "\r",
      "running experiments:  61%|██████    | 61/100 [29:04<18:31, 28.50s/it]"
     ]
    },
    {
     "name": "stderr",
     "output_type": "stream",
     "text": [
      "\r",
      "running experiments:  62%|██████▏   | 62/100 [29:32<18:03, 28.52s/it]"
     ]
    },
    {
     "name": "stderr",
     "output_type": "stream",
     "text": [
      "\r",
      "running experiments:  63%|██████▎   | 63/100 [30:00<17:23, 28.20s/it]"
     ]
    },
    {
     "name": "stderr",
     "output_type": "stream",
     "text": [
      "\r",
      "running experiments:  64%|██████▍   | 64/100 [30:29<17:02, 28.41s/it]"
     ]
    },
    {
     "name": "stderr",
     "output_type": "stream",
     "text": [
      "\r",
      "running experiments:  65%|██████▌   | 65/100 [30:58<16:43, 28.68s/it]"
     ]
    },
    {
     "name": "stderr",
     "output_type": "stream",
     "text": [
      "\r",
      "running experiments:  66%|██████▌   | 66/100 [31:26<16:05, 28.38s/it]"
     ]
    },
    {
     "name": "stderr",
     "output_type": "stream",
     "text": [
      "\r",
      "running experiments:  67%|██████▋   | 67/100 [31:54<15:39, 28.47s/it]"
     ]
    },
    {
     "name": "stderr",
     "output_type": "stream",
     "text": [
      "\r",
      "running experiments:  68%|██████▊   | 68/100 [32:23<15:13, 28.55s/it]"
     ]
    },
    {
     "name": "stderr",
     "output_type": "stream",
     "text": [
      "\r",
      "running experiments:  69%|██████▉   | 69/100 [32:51<14:39, 28.37s/it]"
     ]
    },
    {
     "name": "stderr",
     "output_type": "stream",
     "text": [
      "\r",
      "running experiments:  70%|███████   | 70/100 [33:20<14:14, 28.50s/it]"
     ]
    },
    {
     "name": "stderr",
     "output_type": "stream",
     "text": [
      "\r",
      "running experiments:  71%|███████   | 71/100 [33:48<13:44, 28.42s/it]"
     ]
    },
    {
     "name": "stderr",
     "output_type": "stream",
     "text": [
      "\r",
      "running experiments:  72%|███████▏  | 72/100 [34:17<13:22, 28.65s/it]"
     ]
    },
    {
     "name": "stderr",
     "output_type": "stream",
     "text": [
      "\r",
      "running experiments:  73%|███████▎  | 73/100 [34:45<12:47, 28.44s/it]"
     ]
    },
    {
     "name": "stderr",
     "output_type": "stream",
     "text": [
      "\r",
      "running experiments:  74%|███████▍  | 74/100 [35:15<12:25, 28.66s/it]"
     ]
    },
    {
     "name": "stderr",
     "output_type": "stream",
     "text": [
      "\r",
      "running experiments:  75%|███████▌  | 75/100 [35:44<12:00, 28.81s/it]"
     ]
    },
    {
     "name": "stderr",
     "output_type": "stream",
     "text": [
      "\r",
      "running experiments:  76%|███████▌  | 76/100 [36:11<11:21, 28.40s/it]"
     ]
    },
    {
     "name": "stderr",
     "output_type": "stream",
     "text": [
      "\r",
      "running experiments:  77%|███████▋  | 77/100 [36:39<10:48, 28.19s/it]"
     ]
    },
    {
     "name": "stderr",
     "output_type": "stream",
     "text": [
      "\r",
      "running experiments:  78%|███████▊  | 78/100 [37:07<10:21, 28.26s/it]"
     ]
    },
    {
     "name": "stderr",
     "output_type": "stream",
     "text": [
      "\r",
      "running experiments:  79%|███████▉  | 79/100 [37:35<09:51, 28.16s/it]"
     ]
    },
    {
     "name": "stderr",
     "output_type": "stream",
     "text": [
      "\r",
      "running experiments:  80%|████████  | 80/100 [38:03<09:22, 28.11s/it]"
     ]
    },
    {
     "name": "stderr",
     "output_type": "stream",
     "text": [
      "\r",
      "running experiments:  81%|████████  | 81/100 [38:31<08:51, 27.99s/it]"
     ]
    },
    {
     "name": "stderr",
     "output_type": "stream",
     "text": [
      "\r",
      "running experiments:  82%|████████▏ | 82/100 [39:00<08:30, 28.39s/it]"
     ]
    },
    {
     "name": "stderr",
     "output_type": "stream",
     "text": [
      "\r",
      "running experiments:  83%|████████▎ | 83/100 [39:29<08:06, 28.60s/it]"
     ]
    },
    {
     "name": "stderr",
     "output_type": "stream",
     "text": [
      "\r",
      "running experiments:  84%|████████▍ | 84/100 [39:58<07:36, 28.54s/it]"
     ]
    },
    {
     "name": "stderr",
     "output_type": "stream",
     "text": [
      "\r",
      "running experiments:  85%|████████▌ | 85/100 [40:25<07:02, 28.14s/it]"
     ]
    },
    {
     "name": "stderr",
     "output_type": "stream",
     "text": [
      "\r",
      "running experiments:  86%|████████▌ | 86/100 [40:54<06:39, 28.55s/it]"
     ]
    },
    {
     "name": "stderr",
     "output_type": "stream",
     "text": [
      "\r",
      "running experiments:  87%|████████▋ | 87/100 [41:24<06:16, 28.93s/it]"
     ]
    },
    {
     "name": "stderr",
     "output_type": "stream",
     "text": [
      "\r",
      "running experiments:  88%|████████▊ | 88/100 [41:51<05:39, 28.26s/it]"
     ]
    },
    {
     "name": "stderr",
     "output_type": "stream",
     "text": [
      "\r",
      "running experiments:  89%|████████▉ | 89/100 [42:19<05:11, 28.28s/it]"
     ]
    },
    {
     "name": "stderr",
     "output_type": "stream",
     "text": [
      "\r",
      "running experiments:  90%|█████████ | 90/100 [42:48<04:43, 28.37s/it]"
     ]
    },
    {
     "name": "stderr",
     "output_type": "stream",
     "text": [
      "\r",
      "running experiments:  91%|█████████ | 91/100 [43:17<04:16, 28.49s/it]"
     ]
    },
    {
     "name": "stderr",
     "output_type": "stream",
     "text": [
      "\r",
      "running experiments:  92%|█████████▏| 92/100 [43:45<03:46, 28.32s/it]"
     ]
    },
    {
     "name": "stderr",
     "output_type": "stream",
     "text": [
      "\r",
      "running experiments:  93%|█████████▎| 93/100 [44:13<03:19, 28.44s/it]"
     ]
    },
    {
     "name": "stderr",
     "output_type": "stream",
     "text": [
      "\r",
      "running experiments:  94%|█████████▍| 94/100 [44:42<02:50, 28.44s/it]"
     ]
    },
    {
     "name": "stderr",
     "output_type": "stream",
     "text": [
      "\r",
      "running experiments:  95%|█████████▌| 95/100 [45:10<02:21, 28.28s/it]"
     ]
    },
    {
     "name": "stderr",
     "output_type": "stream",
     "text": [
      "\r",
      "running experiments:  96%|█████████▌| 96/100 [45:38<01:53, 28.47s/it]"
     ]
    },
    {
     "name": "stderr",
     "output_type": "stream",
     "text": [
      "\r",
      "running experiments:  97%|█████████▋| 97/100 [46:07<01:25, 28.57s/it]"
     ]
    },
    {
     "name": "stderr",
     "output_type": "stream",
     "text": [
      "\r",
      "running experiments:  98%|█████████▊| 98/100 [46:36<00:57, 28.54s/it]"
     ]
    },
    {
     "name": "stderr",
     "output_type": "stream",
     "text": [
      "\r",
      "running experiments:  99%|█████████▉| 99/100 [47:04<00:28, 28.46s/it]"
     ]
    },
    {
     "name": "stderr",
     "output_type": "stream",
     "text": [
      "\r",
      "running experiments: 100%|██████████| 100/100 [47:32<00:00, 28.24s/it]"
     ]
    },
    {
     "name": "stderr",
     "output_type": "stream",
     "text": [
      "\r",
      "running experiments: 100%|██████████| 100/100 [47:32<00:00, 28.52s/it]"
     ]
    },
    {
     "name": "stdout",
     "output_type": "stream",
     "text": [
      "CPU times: user 5h 17min 41s, sys: 14.2 s, total: 5h 17min 55s\n",
      "Wall time: 47min 32s\n"
     ]
    },
    {
     "name": "stderr",
     "output_type": "stream",
     "text": [
      "\n"
     ]
    }
   ],
   "source": [
    "%%time\n",
    "simulation.run_simulation(n_experiments, start_n, fit_params,shuffle_rows, pred_params, random_features, \\\n",
    "                          store_in_lists, save_eigenvector, save_hamiltonian, save_accuracy,\\\n",
    "                          save_models)\n",
    "if simulation.fourier_mode is not None:\n",
    "    simulation.fourier_dataframe.head(10)"
   ]
  },
  {
   "cell_type": "code",
   "execution_count": 24,
   "metadata": {
    "execution": {
     "iopub.execute_input": "2020-07-09T23:10:58.675286Z",
     "iopub.status.busy": "2020-07-09T23:10:58.674968Z",
     "iopub.status.idle": "2020-07-09T23:10:58.699379Z",
     "shell.execute_reply": "2020-07-09T23:10:58.699059Z"
    },
    "papermill": {
     "duration": 0.060787,
     "end_time": "2020-07-09T23:10:58.699430",
     "exception": false,
     "start_time": "2020-07-09T23:10:58.638643",
     "status": "completed"
    },
    "tags": []
   },
   "outputs": [
    {
     "data": {
      "text/html": [
       "<div>\n",
       "<style scoped>\n",
       "    .dataframe tbody tr th:only-of-type {\n",
       "        vertical-align: middle;\n",
       "    }\n",
       "\n",
       "    .dataframe tbody tr th {\n",
       "        vertical-align: top;\n",
       "    }\n",
       "\n",
       "    .dataframe thead th {\n",
       "        text-align: right;\n",
       "    }\n",
       "</style>\n",
       "<table border=\"1\" class=\"dataframe\">\n",
       "  <thead>\n",
       "    <tr style=\"text-align: right;\">\n",
       "      <th></th>\n",
       "      <th>id</th>\n",
       "      <th>path</th>\n",
       "      <th>t1</th>\n",
       "      <th>t2</th>\n",
       "      <th>winding</th>\n",
       "      <th>phase</th>\n",
       "      <th>pred_phase</th>\n",
       "      <th>type_of</th>\n",
       "      <th>feat0</th>\n",
       "      <th>feat1</th>\n",
       "      <th>...</th>\n",
       "      <th>feat90</th>\n",
       "      <th>feat91</th>\n",
       "      <th>feat92</th>\n",
       "      <th>feat93</th>\n",
       "      <th>feat94</th>\n",
       "      <th>feat95</th>\n",
       "      <th>feat96</th>\n",
       "      <th>feat97</th>\n",
       "      <th>feat98</th>\n",
       "      <th>feat99</th>\n",
       "    </tr>\n",
       "  </thead>\n",
       "  <tbody>\n",
       "    <tr>\n",
       "      <th>0</th>\n",
       "      <td>0</td>\n",
       "      <td>H_-2_-2_0.501338.dat</td>\n",
       "      <td>-2.0</td>\n",
       "      <td>-2.0</td>\n",
       "      <td>0.501338</td>\n",
       "      <td>999</td>\n",
       "      <td>666</td>\n",
       "      <td>test</td>\n",
       "      <td>-0.130965</td>\n",
       "      <td>0.301130</td>\n",
       "      <td>...</td>\n",
       "      <td>-0.080279</td>\n",
       "      <td>-0.115687</td>\n",
       "      <td>-0.174988</td>\n",
       "      <td>0.245064</td>\n",
       "      <td>0.319763</td>\n",
       "      <td>-0.059082</td>\n",
       "      <td>-0.000556</td>\n",
       "      <td>-0.245133</td>\n",
       "      <td>-0.301130</td>\n",
       "      <td>0.130965</td>\n",
       "    </tr>\n",
       "    <tr>\n",
       "      <th>1</th>\n",
       "      <td>0</td>\n",
       "      <td>H_-2_-2_0.501338.dat</td>\n",
       "      <td>-2.0</td>\n",
       "      <td>-2.0</td>\n",
       "      <td>0.501338</td>\n",
       "      <td>999</td>\n",
       "      <td>666</td>\n",
       "      <td>test</td>\n",
       "      <td>-0.130965</td>\n",
       "      <td>-0.301130</td>\n",
       "      <td>...</td>\n",
       "      <td>-0.080279</td>\n",
       "      <td>0.115687</td>\n",
       "      <td>-0.174988</td>\n",
       "      <td>-0.245064</td>\n",
       "      <td>0.319763</td>\n",
       "      <td>0.059082</td>\n",
       "      <td>-0.000556</td>\n",
       "      <td>0.245133</td>\n",
       "      <td>-0.301130</td>\n",
       "      <td>-0.130965</td>\n",
       "    </tr>\n",
       "    <tr>\n",
       "      <th>2</th>\n",
       "      <td>0</td>\n",
       "      <td>H_-2_-2_0.501338.dat</td>\n",
       "      <td>-2.0</td>\n",
       "      <td>-2.0</td>\n",
       "      <td>0.501338</td>\n",
       "      <td>999</td>\n",
       "      <td>666</td>\n",
       "      <td>test</td>\n",
       "      <td>-0.148414</td>\n",
       "      <td>-0.042467</td>\n",
       "      <td>...</td>\n",
       "      <td>0.185442</td>\n",
       "      <td>-0.080620</td>\n",
       "      <td>-0.066211</td>\n",
       "      <td>-0.121339</td>\n",
       "      <td>-0.151700</td>\n",
       "      <td>0.192513</td>\n",
       "      <td>0.191642</td>\n",
       "      <td>-0.050956</td>\n",
       "      <td>-0.042467</td>\n",
       "      <td>-0.148414</td>\n",
       "    </tr>\n",
       "    <tr>\n",
       "      <th>3</th>\n",
       "      <td>0</td>\n",
       "      <td>H_-2_-2_0.501338.dat</td>\n",
       "      <td>-2.0</td>\n",
       "      <td>-2.0</td>\n",
       "      <td>0.501338</td>\n",
       "      <td>999</td>\n",
       "      <td>666</td>\n",
       "      <td>test</td>\n",
       "      <td>-0.069630</td>\n",
       "      <td>-0.026147</td>\n",
       "      <td>...</td>\n",
       "      <td>0.102009</td>\n",
       "      <td>-0.100671</td>\n",
       "      <td>-0.081002</td>\n",
       "      <td>-0.020715</td>\n",
       "      <td>-0.058717</td>\n",
       "      <td>0.115834</td>\n",
       "      <td>0.118274</td>\n",
       "      <td>-0.054666</td>\n",
       "      <td>-0.026147</td>\n",
       "      <td>-0.069630</td>\n",
       "    </tr>\n",
       "    <tr>\n",
       "      <th>4</th>\n",
       "      <td>0</td>\n",
       "      <td>H_-2_-2_0.501338.dat</td>\n",
       "      <td>-2.0</td>\n",
       "      <td>-2.0</td>\n",
       "      <td>0.501338</td>\n",
       "      <td>999</td>\n",
       "      <td>666</td>\n",
       "      <td>test</td>\n",
       "      <td>0.010206</td>\n",
       "      <td>-0.014625</td>\n",
       "      <td>...</td>\n",
       "      <td>0.047555</td>\n",
       "      <td>-0.041368</td>\n",
       "      <td>-0.018852</td>\n",
       "      <td>-0.017673</td>\n",
       "      <td>-0.023377</td>\n",
       "      <td>0.031447</td>\n",
       "      <td>0.010280</td>\n",
       "      <td>0.000925</td>\n",
       "      <td>0.014625</td>\n",
       "      <td>-0.010206</td>\n",
       "    </tr>\n",
       "    <tr>\n",
       "      <th>5</th>\n",
       "      <td>0</td>\n",
       "      <td>H_-2_-2_0.501338.dat</td>\n",
       "      <td>-2.0</td>\n",
       "      <td>-2.0</td>\n",
       "      <td>0.501338</td>\n",
       "      <td>999</td>\n",
       "      <td>666</td>\n",
       "      <td>test</td>\n",
       "      <td>0.116962</td>\n",
       "      <td>0.021475</td>\n",
       "      <td>...</td>\n",
       "      <td>-0.086901</td>\n",
       "      <td>-0.045676</td>\n",
       "      <td>-0.028034</td>\n",
       "      <td>0.129266</td>\n",
       "      <td>0.130083</td>\n",
       "      <td>-0.098190</td>\n",
       "      <td>-0.104188</td>\n",
       "      <td>-0.007911</td>\n",
       "      <td>0.021475</td>\n",
       "      <td>0.116962</td>\n",
       "    </tr>\n",
       "    <tr>\n",
       "      <th>6</th>\n",
       "      <td>0</td>\n",
       "      <td>H_-2_-2_0.501338.dat</td>\n",
       "      <td>-2.0</td>\n",
       "      <td>-2.0</td>\n",
       "      <td>0.501338</td>\n",
       "      <td>999</td>\n",
       "      <td>666</td>\n",
       "      <td>test</td>\n",
       "      <td>0.037175</td>\n",
       "      <td>-0.095882</td>\n",
       "      <td>...</td>\n",
       "      <td>-0.027490</td>\n",
       "      <td>0.046168</td>\n",
       "      <td>0.063419</td>\n",
       "      <td>-0.041630</td>\n",
       "      <td>-0.085769</td>\n",
       "      <td>-0.010604</td>\n",
       "      <td>-0.009822</td>\n",
       "      <td>0.084024</td>\n",
       "      <td>0.095882</td>\n",
       "      <td>-0.037175</td>\n",
       "    </tr>\n",
       "    <tr>\n",
       "      <th>7</th>\n",
       "      <td>0</td>\n",
       "      <td>H_-2_-2_0.501338.dat</td>\n",
       "      <td>-2.0</td>\n",
       "      <td>-2.0</td>\n",
       "      <td>0.501338</td>\n",
       "      <td>999</td>\n",
       "      <td>666</td>\n",
       "      <td>test</td>\n",
       "      <td>0.027709</td>\n",
       "      <td>-0.038180</td>\n",
       "      <td>...</td>\n",
       "      <td>0.123344</td>\n",
       "      <td>-0.114320</td>\n",
       "      <td>-0.057118</td>\n",
       "      <td>-0.040291</td>\n",
       "      <td>-0.061263</td>\n",
       "      <td>0.087153</td>\n",
       "      <td>0.029599</td>\n",
       "      <td>-0.001276</td>\n",
       "      <td>0.038180</td>\n",
       "      <td>-0.027709</td>\n",
       "    </tr>\n",
       "    <tr>\n",
       "      <th>8</th>\n",
       "      <td>0</td>\n",
       "      <td>H_-2_-2_0.501338.dat</td>\n",
       "      <td>-2.0</td>\n",
       "      <td>-2.0</td>\n",
       "      <td>0.501338</td>\n",
       "      <td>999</td>\n",
       "      <td>666</td>\n",
       "      <td>test</td>\n",
       "      <td>0.059795</td>\n",
       "      <td>0.030272</td>\n",
       "      <td>...</td>\n",
       "      <td>-0.082347</td>\n",
       "      <td>0.140996</td>\n",
       "      <td>0.128386</td>\n",
       "      <td>-0.036608</td>\n",
       "      <td>0.029628</td>\n",
       "      <td>-0.124877</td>\n",
       "      <td>-0.140478</td>\n",
       "      <td>0.088573</td>\n",
       "      <td>0.030272</td>\n",
       "      <td>0.059795</td>\n",
       "    </tr>\n",
       "    <tr>\n",
       "      <th>9</th>\n",
       "      <td>0</td>\n",
       "      <td>H_-2_-2_0.501338.dat</td>\n",
       "      <td>-2.0</td>\n",
       "      <td>-2.0</td>\n",
       "      <td>0.501338</td>\n",
       "      <td>999</td>\n",
       "      <td>666</td>\n",
       "      <td>test</td>\n",
       "      <td>0.141605</td>\n",
       "      <td>0.013497</td>\n",
       "      <td>...</td>\n",
       "      <td>-0.035718</td>\n",
       "      <td>-0.110014</td>\n",
       "      <td>-0.082452</td>\n",
       "      <td>0.146084</td>\n",
       "      <td>0.152588</td>\n",
       "      <td>-0.067575</td>\n",
       "      <td>-0.087187</td>\n",
       "      <td>-0.043484</td>\n",
       "      <td>0.013497</td>\n",
       "      <td>0.141605</td>\n",
       "    </tr>\n",
       "  </tbody>\n",
       "</table>\n",
       "<p>10 rows × 108 columns</p>\n",
       "</div>"
      ],
      "text/plain": [
       "   id                  path   t1   t2   winding  phase  pred_phase type_of  \\\n",
       "0   0  H_-2_-2_0.501338.dat -2.0 -2.0  0.501338    999         666    test   \n",
       "1   0  H_-2_-2_0.501338.dat -2.0 -2.0  0.501338    999         666    test   \n",
       "2   0  H_-2_-2_0.501338.dat -2.0 -2.0  0.501338    999         666    test   \n",
       "3   0  H_-2_-2_0.501338.dat -2.0 -2.0  0.501338    999         666    test   \n",
       "4   0  H_-2_-2_0.501338.dat -2.0 -2.0  0.501338    999         666    test   \n",
       "5   0  H_-2_-2_0.501338.dat -2.0 -2.0  0.501338    999         666    test   \n",
       "6   0  H_-2_-2_0.501338.dat -2.0 -2.0  0.501338    999         666    test   \n",
       "7   0  H_-2_-2_0.501338.dat -2.0 -2.0  0.501338    999         666    test   \n",
       "8   0  H_-2_-2_0.501338.dat -2.0 -2.0  0.501338    999         666    test   \n",
       "9   0  H_-2_-2_0.501338.dat -2.0 -2.0  0.501338    999         666    test   \n",
       "\n",
       "      feat0     feat1  ...    feat90    feat91    feat92    feat93    feat94  \\\n",
       "0 -0.130965  0.301130  ... -0.080279 -0.115687 -0.174988  0.245064  0.319763   \n",
       "1 -0.130965 -0.301130  ... -0.080279  0.115687 -0.174988 -0.245064  0.319763   \n",
       "2 -0.148414 -0.042467  ...  0.185442 -0.080620 -0.066211 -0.121339 -0.151700   \n",
       "3 -0.069630 -0.026147  ...  0.102009 -0.100671 -0.081002 -0.020715 -0.058717   \n",
       "4  0.010206 -0.014625  ...  0.047555 -0.041368 -0.018852 -0.017673 -0.023377   \n",
       "5  0.116962  0.021475  ... -0.086901 -0.045676 -0.028034  0.129266  0.130083   \n",
       "6  0.037175 -0.095882  ... -0.027490  0.046168  0.063419 -0.041630 -0.085769   \n",
       "7  0.027709 -0.038180  ...  0.123344 -0.114320 -0.057118 -0.040291 -0.061263   \n",
       "8  0.059795  0.030272  ... -0.082347  0.140996  0.128386 -0.036608  0.029628   \n",
       "9  0.141605  0.013497  ... -0.035718 -0.110014 -0.082452  0.146084  0.152588   \n",
       "\n",
       "     feat95    feat96    feat97    feat98    feat99  \n",
       "0 -0.059082 -0.000556 -0.245133 -0.301130  0.130965  \n",
       "1  0.059082 -0.000556  0.245133 -0.301130 -0.130965  \n",
       "2  0.192513  0.191642 -0.050956 -0.042467 -0.148414  \n",
       "3  0.115834  0.118274 -0.054666 -0.026147 -0.069630  \n",
       "4  0.031447  0.010280  0.000925  0.014625 -0.010206  \n",
       "5 -0.098190 -0.104188 -0.007911  0.021475  0.116962  \n",
       "6 -0.010604 -0.009822  0.084024  0.095882 -0.037175  \n",
       "7  0.087153  0.029599 -0.001276  0.038180 -0.027709  \n",
       "8 -0.124877 -0.140478  0.088573  0.030272  0.059795  \n",
       "9 -0.067575 -0.087187 -0.043484  0.013497  0.141605  \n",
       "\n",
       "[10 rows x 108 columns]"
      ]
     },
     "execution_count": 24,
     "metadata": {},
     "output_type": "execute_result"
    }
   ],
   "source": [
    "simulation.dataframe.head(10)"
   ]
  },
  {
   "cell_type": "markdown",
   "metadata": {
    "papermill": {
     "duration": 0.034212,
     "end_time": "2020-07-09T23:10:58.768168",
     "exception": false,
     "start_time": "2020-07-09T23:10:58.733956",
     "status": "completed"
    },
    "tags": []
   },
   "source": [
    "#### Viewing a random sample"
   ]
  },
  {
   "cell_type": "code",
   "execution_count": 25,
   "metadata": {
    "execution": {
     "iopub.execute_input": "2020-07-09T23:10:58.840623Z",
     "iopub.status.busy": "2020-07-09T23:10:58.840078Z",
     "iopub.status.idle": "2020-07-09T23:10:58.875359Z",
     "shell.execute_reply": "2020-07-09T23:10:58.875034Z"
    },
    "papermill": {
     "duration": 0.072154,
     "end_time": "2020-07-09T23:10:58.875410",
     "exception": false,
     "start_time": "2020-07-09T23:10:58.803256",
     "status": "completed"
    },
    "tags": []
   },
   "outputs": [
    {
     "name": "stdout",
     "output_type": "stream",
     "text": [
      "CPU times: user 20.6 ms, sys: 3.99 ms, total: 24.6 ms\n",
      "Wall time: 24.4 ms\n"
     ]
    }
   ],
   "source": [
    "%%time\n",
    "if simulation.fourier_mode is not None:\n",
    "    simulation.fourier_dataframe.sample(frac=0.1, replace=False)"
   ]
  },
  {
   "cell_type": "markdown",
   "metadata": {
    "papermill": {
     "duration": 0.034553,
     "end_time": "2020-07-09T23:10:58.945268",
     "exception": false,
     "start_time": "2020-07-09T23:10:58.910715",
     "status": "completed"
    },
    "tags": []
   },
   "source": [
    "#### Checking train/val/test splits again"
   ]
  },
  {
   "cell_type": "code",
   "execution_count": 26,
   "metadata": {
    "execution": {
     "iopub.execute_input": "2020-07-09T23:10:59.018379Z",
     "iopub.status.busy": "2020-07-09T23:10:59.017871Z",
     "iopub.status.idle": "2020-07-09T23:10:59.365863Z",
     "shell.execute_reply": "2020-07-09T23:10:59.365539Z"
    },
    "papermill": {
     "duration": 0.384751,
     "end_time": "2020-07-09T23:10:59.365914",
     "exception": false,
     "start_time": "2020-07-09T23:10:58.981163",
     "status": "completed"
    },
    "tags": []
   },
   "outputs": [
    {
     "name": "stdout",
     "output_type": "stream",
     "text": [
      "% train:  0.4208199969516842\n",
      "% val:  0.42066758116140834\n",
      "% test:  0.15851242188690748\n",
      "% train + val + test:  1.0\n",
      "\n",
      "\n",
      "number of train hamiltonians:  2761\n",
      "number of val hamiltonians:  2760\n",
      "number of test hamiltonians:  1040\n",
      "total number of hamiltonians:  6561\n",
      "\n",
      "\n",
      "train ids:  [831, 4686, 4978, 535, 2035, 6301, 833, 6443, 2629, 3897, 2486, 471, 1015, 1444, 929, 1029, 6536, 4570, 2089, 5091, 2838, 6347, 3656, 4987, 2417, 1341, 4249, 995, 3527, 4225, 3308, 5201, 4587, 1255, 5285, 1925, 2595, 4072, 2064, 3165, 5782, 1267, 362, 3826, 5637, 6509, 4899, 6257, 387, 395, 3334, 4562, 4177, 6171, 697, 715, 4304, 1361, 5721, 4122, 423, 3027, 1811, 5522, 4483, 4492, 1181, 1738, 1812, 3836, 3832, 463, 262, 3736, 2034, 1279, 3438, 5708, 4991, 3250, 3262, 6035, 113, 1816, 1765, 5859, 4496, 5476, 4666, 5340, 2228, 2675, 4432, 563, 4351, 1273, 1196, 4090, 830, 4077, 2079, 2117, 3776, 3337, 2465, 1443, 880, 4158, 3204, 343, 4952, 340, 4497, 3351, 2526, 1293, 6083, 4413, 3819, 4023, 3888, 229, 1027, 2223, 2245, 958, 5174, 6326, 1041, 2721, 4967, 6110, 6187, 4863, 3133, 4284, 3714, 4706, 2094, 6029, 6045, 3328, 5695, 3321, 6452, 4378, 2318, 4190, 3827, 1665, 1335, 558, 5897, 3420, 4047, 4788, 2152, 5231, 4681, 4892, 3859, 3671, 1456, 30, 5923, 5613, 2170, 4579, 6286, 2123, 1582, 4437, 2659, 4096, 4555, 1426, 3447, 2113, 3052, 3432, 5856, 3077, 2579, 2279, 2142, 1437, 804, 3942, 392, 2356, 2509, 3762, 2097, 3715, 5278, 377, 5298, 6494, 29, 5688, 2971, 2777, 438, 5833, 4812, 4778, 1094, 3873, 2897, 1783, 5400, 624, 3338, 1024, 5511, 4271, 4289, 3333, 6224, 5610, 6351, 4669, 4017, 5113, 5791, 2171, 4542, 5530, 3138, 4849, 5015, 4885, 5617, 4648, 878, 5767, 4623, 6179, 6521, 3551, 3925, 4134, 4081, 5310, 1422, 3784, 3528, 688, 4737, 3268, 1374, 5228, 4015, 1498, 3253, 5784, 3679, 751, 1247, 1184, 1525, 1340, 4046, 3050, 4544, 3272, 233, 1171, 1827, 3246, 5283, 1452, 3981, 2736, 4468, 1614, 274, 2628, 4934, 4335, 6109, 800, 365, 3663, 1463, 3684, 6079, 4553, 6549, 3829, 2415, 1278, 3208, 3794, 1832, 4506, 239, 5971, 3864, 4192, 1408, 2192, 2853, 3422, 3870, 4410, 3699, 4741, 180, 465, 2575, 1730, 4732, 6107, 1995, 6515, 6093, 5686, 109, 2202, 1215, 4316, 4649, 1098, 2924, 845, 700, 1519, 1210, 3985, 240, 3861, 4794, 4252, 3787, 681, 6125, 2287, 2974, 6051, 3720, 3440, 6383, 532, 1766, 1406, 1128, 2979, 3587, 2666, 5053, 4867, 4606, 3774, 5603, 1927, 6124, 3950, 4433, 5727, 5281, 5849, 506, 1529, 3803, 513, 1524, 2493, 4803, 5512, 5240, 1081, 934, 5470, 287, 4729, 3948, 1289, 509, 2074, 2105, 6484, 431, 4802, 4988, 2507, 5529, 1109, 1049, 2078, 2434, 1187, 4052, 3496, 4538, 1037, 4893, 5935, 4140, 1741, 1430, 4829, 3613, 5518, 3673, 2942, 4459, 3159, 3885, 2571, 3811, 5427, 3170, 543, 2637, 2344, 2984, 4154, 5138, 1910, 1520, 2308, 289, 1829, 2570, 5475, 5205, 2430, 6294, 1573, 3055, 5647, 5375, 4868, 597, 1545, 2513, 553, 3329, 1414, 5569, 2268, 2492, 2056, 4059, 1619, 230, 3672, 3687, 2412, 3383, 4169, 320, 372, 4505, 3558, 1870, 5810, 3336, 6453, 4766, 3409, 1865, 6121, 3835, 61, 1702, 6243, 1847, 1902, 1775, 5863, 1782, 3818, 3059, 2718, 6037, 4383, 835, 2179, 1569, 473, 4124, 4102, 6164, 3767, 6535, 3833, 2257, 2667, 1978, 3563, 6005, 6217, 2471, 2774, 6178, 1838, 3610, 3216, 4779, 22, 1246, 3102, 2558, 2272, 773, 1846, 2630, 787, 2479, 1039, 4033, 1299, 841, 6496, 2643, 3371, 6293, 771, 4962, 4037, 3653, 5457, 273, 2407, 3626, 3112, 5236, 3756, 3531, 6527, 3681, 4948, 5515, 3071, 2121, 1185, 481, 2676, 6290, 6281, 2939, 4884, 5951, 2809, 4569, 4954, 1363, 4079, 629, 3475, 3450, 2239, 844, 3500, 3136, 3903, 1624, 1448, 1993, 4369, 187, 4578, 17, 2858, 151, 3729, 3296, 3330, 3952, 3728, 2325, 1332, 5854, 4845, 4548, 1981, 672, 3466, 3497, 5949, 2914, 3945, 1872, 1451, 4151, 5429, 702, 6299, 2241, 1916, 3001, 2185, 6414, 3149, 4603, 6489, 3840, 6438, 4359, 1431, 5306, 3779, 3283, 2928, 3878, 1791, 1004, 4627, 2391, 2932, 4030, 5731, 4337, 2863, 3389, 4781, 2669, 2482, 2433, 3483, 6534, 2973, 559, 5699, 727, 4827, 5936, 1914, 887, 2405, 3856, 1672, 1410, 4233, 130, 3615, 2889, 2827, 4491, 3718, 448, 5226, 3740, 5917, 5619, 5428, 6221, 4232, 2841, 2352, 1854, 2039, 2715, 3224, 281, 1603, 1420, 449, 2968, 2275, 4750, 3901, 6262, 2639, 210, 4866, 6038, 3560, 928, 5032, 1446, 4390, 1686, 5953, 3081, 5851, 4092, 635, 2993, 5694, 76, 1735, 6524, 4107, 5587, 4218, 5598, 554, 27, 5451, 3871, 4617, 5395, 6190, 3287, 4694, 3244, 5866, 6542, 474, 5857, 1459, 212, 4828, 1180, 2957, 5025, 2797, 2910, 2091, 458, 3139, 1003, 2966, 4219, 4531, 4434, 1089, 1704, 6089, 128, 2499, 5509, 5632, 5046, 5521, 1507, 5643, 2742, 6043, 4295, 4194, 3153, 5467, 2649, 4296, 5426, 1367, 6141, 1909, 5313, 267, 5640, 5811, 1996, 886, 5865, 1501, 967, 2593, 5943, 4261, 1038, 460, 5651, 4153, 4984, 5315, 3458, 2878, 4971, 185, 3962, 5216, 2153, 870, 1567, 183, 1905, 4114, 5092, 1458, 1824, 1179, 2730, 3791, 5535, 3045, 5563, 5714, 1106, 5844, 848, 2469, 4855, 2642, 1211, 1826, 4001, 2311, 3643, 1328, 3543, 2399, 4858, 6370, 4796, 2609, 6531, 3579, 1088, 4141, 3482, 4236, 1678, 4364, 1852, 3431, 4856, 2940, 4996, 3094, 4349, 1617, 2761, 6213, 4599, 5928, 6333, 1250, 4272, 3098, 5157, 5042, 4726, 2925, 1455, 5028, 6448, 2591, 3110, 4696, 3689, 3387, 4058, 6297, 5693, 630, 612, 5261, 4480, 5381, 179, 6181, 4662, 5275, 1844, 721, 752, 6367, 4715, 4475, 849, 3595, 1380, 4314, 3992, 3618, 4028, 4407, 6378, 5781, 524, 3983, 3294, 196, 279, 6363, 2109, 5453, 525, 2891, 5876, 3368, 3093, 5718, 5517, 6359, 6304, 4464, 5813, 607, 2159, 959, 3075, 1485, 5050, 403, 1051, 5224, 4772, 3461, 4469, 4889, 4695, 5237, 3255, 3583, 859, 3354, 4546, 6162, 2613, 3430, 3297, 6112, 5448, 3391, 4958, 3435, 861, 2244, 3738, 5559, 3385, 1254, 2743, 508, 2768, 3900, 5959, 1209, 1017, 6360, 1212, 4375, 6287, 5286, 1821, 221, 4736, 5845, 3171, 4637, 2517, 2276, 2831, 368, 2261, 3088, 5716, 3190, 3249, 3378, 1602, 6461, 4044, 4550, 3072, 3619, 6175, 3974, 3479, 3932, 5323, 5359, 5601, 5035, 6491, 2561, 6352, 1625, 1954, 3161, 4832, 6495, 1938, 5706, 1673, 2511, 2196, 639, 3011, 2765, 3163, 4745, 1513, 2283, 5135, 6463, 3131, 5543, 1168, 2314, 2237, 6115, 4557, 6519, 2018, 3533, 4419, 307, 3825, 2756, 3931, 1907, 4248, 3320, 4008, 2086, 3785, 888, 1026, 5043, 3157, 6056, 3186, 5132, 3559, 6004, 282, 6516, 2334, 1163, 1020, 4974, 2763, 3346, 4123, 5730, 5568, 6332, 4156, 5484, 184, 97, 5153, 299, 1505, 4714, 1457, 3805, 5950, 3799, 883, 3192, 2313, 4222, 3887, 2168, 5621, 3392, 1920, 139, 6482, 797, 4288, 3183, 4450, 5513, 4202, 5308, 3083, 2485, 3548, 3821, 118, 1368, 2836, 3989, 3230, 4571, 4792, 4524, 202, 5373, 6348, 4184, 3427, 5033, 6085, 2481, 4797, 4308, 2909, 260, 2996, 1580, 6055, 2826, 1432, 425, 633, 4231, 4743, 2259, 3339, 5177, 3038, 795, 5229, 3078, 3616, 1986, 3261, 4461, 4391, 2169, 2946, 2879, 2122, 4734, 2475, 6130, 182, 4873, 1112, 6444, 1896, 1934, 4038, 3907, 197, 4242, 5789, 1352, 6355, 2028, 3539, 2439, 5848, 3442, 5880, 4667, 4690, 5875, 2099, 3341, 5505, 5872, 549, 4577, 5889, 1214, 5815, 3585, 2183, 3979, 2975, 1170, 5274, 5807, 4628, 4243, 4641, 1261, 2977, 4278, 2893, 3167, 589, 6459, 5438, 3922, 6193, 3764, 545, 5094, 2395, 3642, 538, 5196, 6502, 2273, 2917, 2883, 2597, 1323, 124, 6354, 2489, 5894, 2632, 4771, 3004, 3327, 1950, 2850, 4970, 4362, 1701, 687, 5360, 1177, 1842, 2731, 4043, 5594, 5263, 4830, 3727, 1831, 4228, 5704, 4586, 1731, 4318, 1688, 5469, 2247, 6256, 4705, 1502, 528, 2158, 293, 4629, 5311, 3980, 5378, 6214, 783, 1658, 1243, 2739, 2077, 5674, 6334, 623, 4646, 866, 941, 6272, 6176, 5774, 1182, 2832, 2816, 1935, 1251, 670, 5100, 5425, 4143, 5154, 4199, 6284, 3658, 5208, 1928, 4292, 6252, 3238, 5265, 1919, 4663, 4108, 5852, 6189, 1268, 3020, 3988, 5967, 350, 4848, 270, 275, 4051, 5262, 2429, 3188, 4339, 5268, 619, 2085, 5870, 3516, 222, 2286, 1035, 1199, 2427, 6481, 3298, 3920, 636, 4633, 3707, 710, 6034, 447, 47, 4499, 3284, 2504, 2574, 1353, 5692, 945, 3375, 2596, 526, 5869, 889, 5024, 65, 3933, 5800, 5037, 266, 1488, 2404, 2717, 3744, 218, 3889, 3359, 4157, 1213, 2339, 2073, 6450, 4927, 464, 4299, 1102, 6530, 345, 1621, 4584, 593, 2277, 2720, 3793, 2141, 2447, 3245, 1749, 776, 1540, 4831, 2470, 4554, 1948, 4470, 5676, 1158, 6336, 1096, 2690, 3498, 5339, 55, 4764, 3021, 122, 3542, 4886, 2695, 3820, 2220, 3667, 3966, 2683, 5126, 1047, 642, 388, 3410, 1377, 477, 2535, 3481, 3085, 2419, 3741, 155, 4146, 4137, 3305, 4540, 4975, 4725, 1127, 3924, 3576, 2998, 1263, 3164, 3874, 4246, 227, 1772, 2938, 2877, 6137, 5532, 234, 3090, 4665, 925, 5347, 3357, 75, 590, 2118, 4596, 3013, 4040, 19, 3773, 863, 2000, 2663, 685, 4693, 3317, 138, 3523, 4957, 6188, 3984, 5296, 5187, 2563, 6382, 2929, 4609, 1516, 4179, 3786, 1364, 352, 3172, 632, 1793, 873, 1133, 6159, 1025, 1777, 529, 3972, 1947, 5345, 6088, 2986, 5871, 6357, 5588, 4664, 5504, 1046, 5049, 2658, 5691, 620, 6455, 2762, 4908, 2224, 1538, 5289, 3257, 6205, 4408, 1295, 853, 6057, 3451, 3965, 194, 3994, 1921, 2413, 6386, 3322, 2962, 6118, 6237, 3916, 4615, 4709, 422, 4449, 5393, 4467, 2990, 322, 1253, 4818, 14, 5204, 2812, 3166, 74, 4422, 2862, 4654, 1271, 1036, 4425, 400, 6049, 5887, 258, 2566, 5921, 4294, 836, 1201, 68, 4176, 1568, 3150, 5526, 1288, 856, 4876, 2030, 5390, 3381, 6157, 713, 1093, 72, 1751, 114, 3057, 1002, 4069, 766, 2688, 4298, 5009, 357, 2385, 4291, 4607, 3254, 3930, 3056, 5067, 2515, 3866, 6501, 3335, 50, 1819, 4306, 3810, 5589, 4897, 3017, 4097, 5765, 4119, 3191, 2748, 598, 3265, 3039, 3512, 3909, 300, 4172, 2310, 3095, 4259, 4697, 5893, 2934, 3869, 4130, 4712, 5638, 4882, 1286, 5997, 5280, 4022, 6139, 4870, 5432, 203, 1537, 5303, 1990, 235, 6058, 3468, 3775, 2654, 3366, 3290, 5785, 3649, 3788, 6427, 1190, 5206, 4852, 4388, 1447, 1957, 616, 3518, 1533, 5634, 5123, 6412, 16, 3295, 1668, 268, 4799, 242, 5406, 5725, 4173, 2636, 4816, 3343, 2092, 54, 1259, 2967, 3640, 2882, 2846, 3838, 3289, 80, 2229, 2588, 5956, 2641, 1169, 6465, 4622, 2964, 5210, 5846, 5920, 2319, 5896, 4135, 2175, 3763, 6140, 2072, 4733, 4679, 4168, 2547, 4853, 3402, 2592, 947, 1987, 5304, 3823, 4324, 3123, 1773, 1823, 3091, 5459, 4254, 5994, 4384, 5152, 5485, 3676, 5065, 5606, 3570, 1298, 2076, 3759, 161, 3151, 5422, 2160, 5362, 3586, 466, 351, 634, 5447, 3665, 2631, 5213, 775, 1346, 3577, 3812, 430, 5180, 1082, 2240, 1321, 3105, 3124, 6547, 6462, 4995, 4445, 712, 3623, 48, 707, 2931, 2107, 539, 4959, 4227, 2692, 6077, 5203, 3686, 5615, 518, 3264, 6135, 2502, 5155, 2818, 4197, 1757, 6510, 141, 2991, 2058, 2955, 4857, 1108, 5442, 4955, 2896, 4765, 3377, 4386, 781, 3162, 5241, 1951, 1326, 2958, 6142, 4285, 5802, 2496, 41, 3697, 5562, 5363, 4175, 2729, 6211, 159, 4573, 2722, 5600, 485, 374, 6253, 1976, 3201, 4159, 1594, 2997, 5622, 1740, 3507, 4747, 4473, 6123, 5797, 3958, 4048, 3970, 890, 2800, 4613, 5029, 475, 6305, 6507, 4565, 3434, 5141, 4423, 1711, 1174, 1581, 2693, 4721, 4452, 1939, 4912, 4614, 1006, 6464, 3655, 3223, 60, 5257, 4944, 1521, 3891, 1937, 4914, 3894, 301, 1530, 6468, 3358, 5389, 2801, 6350, 4763, 4702, 1124, 3103, 3951, 277, 3637, 2828, 6114, 4906, 4865, 3693, 4545, 5430, 5370, 2387, 682, 56, 1283, 2941, 3489, 1200, 2232, 5176, 1984, 511, 3367, 3929, 2184, 2172, 2316, 4379, 154, 6380, 693, 5931, 469, 2428, 933, 5392, 1526, 5977, 2008, 5486, 2530, 6345, 719, 3919, 6431, 621, 1531, 457, 971, 6240, 1710, 5728, 5612, 1733, 5137, 6402, 2905, 2617, 882, 5435, 5514, 2274, 3745, 5838, 1586, 272, 647, 1983, 2678, 3400, 3914, 6319, 5770, 4581, 3066, 4903, 6000, 232, 705, 4561, 4083, 2506, 1517, 2677, 6258, 1436, 3668, 1651, 5792, 4412, 4722, 1760, 283, 4221, 2856, 5374, 1855, 1789, 95, 4904, 2926, 6511, 3631, 1351, 2817, 2681, 1862, 2081, 15, 4136, 5023, 1508, 3158, 4198, 1607, 1095, 3005, 3722, 3973, 3939, 381, 1667, 292, 832, 263, 1266, 938, 3906, 4915, 2235, 5361, 5461, 315, 617, 3252, 3695, 6458, 375, 5114, 2650, 5842, 1650, 3173, 3883, 2004, 2652, 3470, 5812, 4989, 6401, 1953, 3946, 5644, 4682, 946, 2307, 2084, 3868, 2664, 4558, 4775, 3557, 1599, 2749, 4642, 4126, 2552, 3472, 5069, 2270, 4966, 3850, 6300, 1923, 4929, 1372, 1623, 1869, 371, 765, 4727, 3344, 6261, 5466, 4456, 6436, 2095, 1936, 6541, 3987, 3593, 6366, 6343, 5074, 6018, 6550, 3372, 2792, 2556, 4149, 5056, 3757, 6429, 2834, 3683, 564, 2876, 667, 4106, 726, 4762, 4093, 1613, 3495, 3023, 6404, 5832, 1369, 4121, 3509, 4334, 3273, 5946, 2803, 1172, 3592, 1786, 3421, 763, 4011, 1774, 4095, 2424, 1411, 1820, 5678, 912, 2438, 5102, 1342, 5628, 3307, 4932, 3553, 6007, 843, 3501, 359, 21, 2408, 1111, 1917, 4490, 5284, 4880, 4250, 3778, 5604, 348, 2581, 1412, 1010, 6084, 441, 4398, 4300, 784, 1453, 5144, 4869, 3086, 1198, 1523, 3890, 4907, 5225, 2466, 297, 3274, 5368, 2655, 6421, 3956, 3462, 5761, 5282, 1894, 2769, 3648, 1350, 6106, 1622, 4328, 4601, 4269, 4787, 3174, 5472, 4262, 516, 676, 4355, 1585, 613, 259, 6076, 869, 3106, 679, 5786, 3180, 1052, 3574, 4213, 1685, 6185, 4946, 3177, 5020, 6385, 2402, 3147, 536, 6517, 1598, 2723, 2343, 2859, 2781, 1583, 965, 3014, 2165, 3350, 2577, 37, 1769, 2522, 3313, 5507, 5379, 5424, 2608, 1933, 5684, 5668, 2589, 2679, 6407, 2656, 3704, 4060, 3324, 4403, 3734, 2810, 3669, 3226, 4415, 2843, 3048, 627, 6525, 4895, 397, 5446, 1756, 6540, 3955, 1839, 312, 5405, 5508, 3902, 4160, 5948, 1850, 295, 6206, 2585, 5385, 3843, 285, 5809, 1584, 1781, 4214, 1851, 1709, 842, 758, 963, 537, 1162, 2066, 5964, 4484, 3630, 1694, 2614, 1871, 4810, 4943, 690, 6116, 1189, 609, 6437, 3865, 2983, 3991, 6377, 5398, 3591, 6546, 2191, 2327, 1908, 3318, 2835, 2082, 1813, 6466, 3639, 3625, 3876, 3043, 4711, 2779, 1322, 1895, 857, 5098, 951, 3168, 2888, 4769, 5215, 3018, 4117, 6167, 3109, 2727, 2330, 6291, 2780, 3178, 521, 6047, 767, 6485, 1264, 5125, 3194, 4220, 4094, 4807, 5433, 6323, 1450, 674, 2431, 2071, 6172, 4352, 6111, 770, 4937, 6024, 3568, 3214, 4883, 4851, 3872, 5235, 342, 5342, 5131, 42, 6222, 5675, 2006, 6430, 5551, 3904, 1048, 4303, 954, 5873, 2012, 6538, 3753, 2845, 4277, 1461, 4621, 3236, 2437, 2825, 2691, 5160, 4401, 3544, 1572, 2662, 190, 191, 3187, 6374, 2444, 4894, 5008, 468, 5525, 98, 2410, 3976, 2421, 2262, 3407, 3996, 1297, 5194, 71, 5624, 1504, 2724, 4307, 3104, 5947, 5318, 6303, 4212, 1763, 4822, 4368, 4985, 931, 1084, 378, 5878, 834, 1652, 3428, 2553, 2255, 3960, 1194, 4533, 1161, 2390, 5130, 450, 5179, 4049, 59, 2644, 1497, 6099, 4795, 1788, 344, 3286, 2944, 1126, 919, 3424, 1571, 3492, 5752, 4879, 2350, 631, 5480, 6244, 1893, 5482, 3977, 1663, 1664, 5358, 1528, 3212, 5103, 6192, 3651, 1085, 476, 3928, 692, 1600, 858, 4770, 6408, 5858, 204, 1836, 628, 70, 2065, 4691, 1991, 6405, 5929, 5975, 1697, 26, 2370, 181, 2397, 5316, 5868, 290, 1616, 5544, 850, 5954, 4438, 4251, 5115, 2364, 4597, 2884, 6259, 1157, 1245, 5145, 774, 2602, 1274, 2584, 940, 347, 3802, 4735, 5801, 1589, 5930, 5681, 298, 6451, 1489, 923, 4844, 5585, 2798, 4798, 1675, 2442, 4270, 4981, 341, 757, 1349, 5357, 226, 4659, 5713, 5356, 671, 1945, 99, 1595, 5099, 2672, 4281, 2855, 4256, 2446, 3233, 6247, 6493, 2995, 3968, 2651, 79, 2554, 5922, 917, 5351, 2773, 398, 1165, 2793, 6545, 1167, 2150, 2477, 3068, 3376, 1687, 2612, 5710, 5968, 5861, 4791, 5952, 6400, 2725, 5837, 4710, 1929, 6418, 5519, 3662, 4650, 3893, 2359, 5773, 3837, 6369, 3463, 2994, 4658, 6417, 2821, 4566, 5836, 1776, 1438, 4189, 3412, 4446, 3058, 5506, 4161, 2657, 4813, 5150, 5239, 3638, 3908, 4520, 1946, 102, 3857, 2353, 2598, 34, 6086, 5711, 1901, 4716, 2101, 1428, 1515, 4905, 5550, 6138, 4354, 4969, 3666, 3535, 1510, 1861, 790, 1416, 2759, 2646, 4890, 6492, 6120, 5567, 2426, 28, 4552, 2710, 4761, 6195, 2422, 1415, 1745, 1269, 1258, 595, 1992, 2700, 6054, 4817, 2714, 5965, 4846, 4313, 4286, 966, 4145, 2178, 1897, 5751, 4477, 3808, 1097, 3476, 1857, 3719, 2258, 2271, 2842, 5449, 6528, 2738, 6040, 5479, 948, 2726, 5452, 3742, 2306, 2201, 4125, 2315, 5234, 998, 534, 1814, 3181, 1197, 3210, 66, 4819, 603, 6469, 3851, 694, 5147, 454, 2923, 2830, 4751, 1358, 6283, 2001, 3429, 1462, 2483, 4366, 4027, 6551, 689, 5777, 5677, 3537, 4526, 6078, 64, 302, 4742, 1333, 1329, 4911, 1241, 5444, 2451, 4800, 5488, 2357, 3207, 1669, 176, 1932, 3025, 453, 188, 625, 3770, 1662, 1248, 4598, 3645, 6296, 3555, 2523, 2351, 3705, 2564, 3467, 3028, 2534, 1260, 1239, 6344, 2775, 2406, 1699, 393, 2140, 131, 5045, 1277, 4042, 2947, 3087, 2796, 519, 953, 401, 5641, 2764, 1977, 3804, 455, 4061, 5259, 2242, 1843, 3717, 5799, 4186, 3478, 1539, 3605, 2281, 3084, 4147, 3504, 1588, 1732, 6426, 5680, 3325, 4861, 4994, 641, 725, 2874, 1956, 3019, 4089, 5271, 3848, 5022, 6021, 1779, 4447, 1290, 1926, 6248, 5733, 3661, 1087, 927, 1752, 4928, 3691]\n",
      "val ids:  [2919, 2894, 150, 1359, 1535, 1744, 6105, 5233, 4728, 6184, 704, 3046, 3847, 3474, 5242, 1008, 145, 2568, 4982, 1216, 2278, 6410, 2653, 4730, 4109, 1696, 5354, 5549, 5891, 865, 877, 2837, 4916, 3459, 809, 4128, 6094, 6161, 2794, 1618, 4749, 3456, 3688, 5388, 1858, 3867, 444, 1159, 806, 1841, 6017, 6264, 3228, 3310, 4821, 1492, 3449, 3603, 294, 5456, 5976, 4713, 2067, 4888, 1494, 1975, 5883, 4336, 1770, 4144, 1866, 4947, 3267, 483, 63, 4283, 550, 5134, 1033, 6170, 3644, 1693, 115, 2844, 4426, 3612, 296, 178, 3266, 5670, 5957, 6163, 4872, 2778, 2985, 108, 384, 4786, 3040, 5895, 3853, 4305, 566, 5355, 2848, 3828, 2366, 355, 5998, 3590, 4435, 6197, 3538, 4708, 429, 6368, 6329, 2400, 4976, 4164, 3694, 2266, 3423, 4395, 6548, 304, 1873, 2922, 2416, 2716, 4230, 2147, 3259, 4684, 3975, 4287, 5756, 1030, 802, 4568, 6523, 3993, 5719, 5554, 808, 5178, 52, 4010, 1671, 3858, 5095, 1703, 5197, 6376, 5434, 1706, 3365, 1792, 4528, 4847, 6338, 3312, 6487, 193, 146, 4801, 5635, 3982, 3282, 2305, 3473, 703, 3405, 6285, 2367, 2467, 358, 3315, 1454, 5542, 4235, 2143, 3154, 3514, 3260, 696, 4080, 445, 5471, 228, 6016, 6136, 1729, 3390, 4170, 4939, 4393, 4460, 4536, 1653, 3911, 4539, 5143, 3316, 4724, 5566, 3912, 1418, 3961, 4502, 4486, 1661, 5794, 1615, 1419, 2155, 4377, 2890, 640, 3524, 2156, 6544, 4992, 4323, 4604, 4887, 2480, 5672, 5202, 3754, 2495, 4902, 2087, 2758, 5256, 2633, 6117, 6518, 4556, 5291, 2903, 6249, 3739, 2362, 4062, 3781, 1121, 3348, 4910, 1746, 394, 5455, 6419, 4993, 6113, 2027, 2833, 1441, 2915, 2583, 3499, 3723, 3842, 531, 3486, 149, 6134, 4704, 1620, 3800, 4442, 1028, 2943, 2476, 4685, 2038, 1291, 3026, 5537, 3406, 2098, 1834, 4466, 3299, 4968, 472, 4065, 2978, 5441, 673, 1906, 6075, 2616, 3664, 2852, 4279, 4495, 6108, 862, 4204, 2238, 5133, 5798, 4133, 5523, 5199, 5599, 1103, 3276, 1758, 3024, 2961, 1575, 391, 4525, 1107, 4310, 4067, 5924, 349, 2388, 3121, 1262, 6447, 1183, 1132, 5198, 3594, 1604, 1371, 5117, 1596, 5473, 3217, 2875, 4267, 6102, 3347, 3698, 3007, 2562, 2019, 6096, 211, 3241, 3534, 5061, 3457, 3182, 4973, 1086, 2959, 433, 2881, 1863, 722, 3895, 6425, 2767, 691, 5919, 3493, 1244, 6019, 1365, 2860, 3755, 4651, 2514, 3148, 4645, 3636, 5978, 96, 5790, 507, 2532, 3562, 6031, 2594, 3680, 3621, 4504, 4200, 3209, 3184, 177, 6435, 461, 4618, 5705, 18, 2557, 2988, 1287, 4983, 6212, 3042, 1913, 3814, 20, 614, 24, 5314, 4823, 5685, 4608, 5465, 4522, 1491, 160, 1014, 5048, 3247, 2811, 2782, 3550, 4625, 4489, 5181, 5558, 6003, 3288, 6052, 4485, 5933, 2435, 1875, 4701, 3319, 2061, 2887, 805, 5269, 3855, 3953, 5307, 2490, 3969, 4739, 3009, 3565, 446, 1915, 5062, 1296, 5630, 6504, 1759, 3949, 5391, 5723, 5874, 1597, 1356, 2576, 2166, 121, 4559, 2015, 4036, 4240, 3221, 4392, 3369, 1040, 6320, 116, 6092, 6467, 3696, 1912, 1677, 4458, 6191, 6269, 103, 3441, 2328, 5755, 1495, 2317, 646, 58, 5443, 264, 2880, 2014, 6298, 1099, 6365, 1034, 4611, 4055, 604, 956, 78, 5879, 1423, 949, 879, 2771, 1659, 2661, 5839, 6036, 5036, 3016, 6025, 3099, 686, 5159, 3571, 127, 3743, 2746, 4280, 2016, 3404, 2282, 4474, 216, 5018, 2945, 2615, 3822, 3735, 2103, 5058, 796, 6223, 6456, 5013, 5687, 6364, 3964, 3213, 6423, 5626, 2267, 5778, 451, 5207, 4115, 6289, 510, 4409, 125, 1790, 6177, 3008, 4063, 1001, 769, 6275, 4417, 6032, 1281, 918, 5560, 3219, 462, 1045, 5320, 140, 6341, 4014, 6288, 6498, 4380, 4325, 5232, 4041, 3632, 1748, 5287, 5698, 1208, 2234, 3971, 5942, 709, 2119, 6514, 4789, 3934, 1918, 2323, 3096, 3927, 5403, 772, 5156, 6411, 3575, 2425, 4178, 5116, 2912, 5439, 608, 3834, 1626, 5151, 2432, 2808, 2970, 313, 4860, 5648, 2003, 3510, 215, 4551, 404, 1440, 6342, 2999, 6002, 876, 3384, 426, 5892, 3657, 5075, 3685, 5343, 201, 6027, 5590, 4589, 626, 2807, 2011, 4317, 4367, 1104, 364, 3798, 3892, 148, 2203, 316, 2744, 3393, 5019, 2937, 2009, 3203, 4142, 5882, 5553, 2254, 6439, 1166, 3541, 3629, 5886, 5972, 5877, 5214, 2368, 3547, 2531, 785, 1903, 5766, 4941, 1591, 6255, 1876, 6422, 46, 4205, 5958, 6413, 5270, 5027, 5592, 5565, 915, 6080, 1022, 3122, 5292, 2324, 4953, 2734, 5944, 4519, 4206, 3128, 599, 4472, 1176, 1666, 189, 4312, 4639, 3490, 1012, 5272, 1985, 5064, 3777, 6166, 2992, 1830, 5387, 5093, 5352, 305, 3797, 1670, 5607, 3446, 4834, 4035, 3561, 5618, 1606, 6322, 6432, 4949, 1767, 1164, 2069, 5454, 1439, 1007, 3396, 105, 778, 4541, 3806, 3061, 5843, 3269, 2221, 5121, 5974, 5591, 2026, 1900, 2226, 5324, 4640, 561, 2303, 3758, 2741, 1076, 3957, 926, 5371, 4805, 2494, 4211, 6119, 2474, 4443, 4881, 1131, 4382, 5258, 4634, 5636, 73, 585, 2198, 864, 6182, 1864, 3356, 684, 6250, 3530, 4977, 3844, 5552, 4668, 6133, 2090, 5295, 3660, 5127, 3464, 1542, 3611, 5218, 761, 4005, 3293, 1822, 3263, 1464, 4361, 1899, 2478, 442, 5804, 3751, 4537, 969, 1566, 106, 1949, 860, 4811, 2301, 2754, 6010, 2549, 4319, 4875, 1348, 5890, 3332, 1931, 5701, 6122, 4039, 5383, 5055, 4547, 1490, 5384, 3234, 5221, 4717, 3652, 3529, 192, 3766, 5835, 2921, 4514, 4282, 2164, 5671, 1205, 714, 2640, 5111, 780, 4098, 750, 2906, 2403, 2199, 3737, 2083, 6202, 1764, 5063, 2611, 224, 601, 382, 6295, 1988, 2010, 2173, 314, 1122, 4002, 1119, 4501, 3999, 38, 6218, 540, 1707, 3677, 3918, 4309, 4534, 261, 4406, 4998, 5012, 1379, 3119, 2354, 3145, 3465, 4301, 6239, 4387, 6339, 6488, 4632, 3995, 1570, 6060, 5847, 6506, 3010, 5503, 3511, 1449, 1695, 3503, 1692, 4350, 3311, 2111, 935, 4612, 5078, 3455, 2696, 1527, 939, 57, 3156, 133, 5788, 4950, 4275, 4086, 5528, 5697, 1188, 936, 3037, 2116, 5377, 5279, 1853, 5556, 2443, 2689, 2857, 4859, 3169, 5402, 3132, 2795, 3954, 885, 5888, 4476, 4208, 6207, 1762, 2687, 4638, 846, 5394, 5597, 1753, 1280, 6173, 1541, 3353, 6200, 236, 2854, 3185, 5097, 1742, 2904, 1242, 2981, 3580, 32, 4862, 13, 132, 6520, 1357, 6384, 5682, 3485, 5217, 1536, 2487, 5759, 5481, 1336, 4833, 2647, 3137, 5760, 2401, 1445, 1654, 5276, 2392, 3879, 1657, 31, 2331, 5527, 2112, 6008, 914, 555, 517, 4616, 136, 39, 6186, 2587, 6358, 6246, 2145, 2264, 6273, 3342, 198, 278, 2448, 2336, 1587, 6042, 1123, 3712, 5124, 2195, 5227, 638, 4455, 4210, 1206, 432, 265, 3054, 3896, 6098, 5772, 1435, 2227, 3323, 4785, 5148, 6415, 3292, 2288, 6486, 3070, 1609, 1366, 2320, 5536, 2190, 5483, 3129, 4692, 3554, 1496, 4268, 6131, 2682, 6276, 5189, 6091, 6156, 2560, 1083, 5595, 4333, 3469, 6127, 6445, 4087, 346, 3552, 1282, 4744, 2712, 871, 2737, 4462, 924, 1648, 1543, 6210, 5796, 2586, 4951, 1134, 6490, 615, 5146, 1009, 2747, 2389, 6169, 1078, 2770, 1500, 2332, 3175, 4487, 6505, 5996, 855, 1090, 5925, 1101, 3309, 5230, 5639, 3143, 6440, 1979, 4680, 4116, 4185, 5715, 2965, 5290, 3304, 2007, 6512, 6387, 1338, 3702, 2205, 3807, 4986, 4396, 3783, 2060, 2804, 6428, 386, 2302, 5995, 1785, 3107, 2022, 3899, 4720, 6268, 754, 2711, 467, 3484, 3748, 4636, 1922, 5188, 5776, 3047, 4689, 5763, 5223, 3130, 1378, 4344, 4195, 994, 5120, 2901, 5955, 3505, 5855, 4360, 2728, 3913, 2989, 4806, 3706, 1486, 2230, 999, 5916, 5937, 3063, 5561, 3520, 5793, 2197, 6087, 3915, 354, 1265, 1997, 5814, 321, 3480, 2024, 1339, 3731, 2114, 4293, 4804, 318, 3967, 3517, 6302, 1360, 3452, 2638, 4209, 3556, 5119, 5397, 4723, 4330, 2409, 4535, 3596, 4752, 129, 6522, 153, 762, 2751, 2582, 4964, 6353, 3100, 2935, 1503, 2969, 6457, 3229, 3750, 4150, 2572, 4488, 2233, 5609, 2335, 2512, 3437, 6497, 4451, 399, 4463, 3747, 5182, 5934, 225, 2839, 199, 237, 4405, 3572, 5477, 1130, 1270, 390, 269, 4931, 1592, 937, 4898, 43, 5267, 4315, 370, 4670, 2899, 3654, 1512, 799, 3239, 1579, 4193, 4926, 1784, 207, 6533, 5076, 3285, 943, 4532, 2671, 1676, 4394, 152, 6013, 3135, 5703, 6330, 4385, 6503, 2753, 2029, 4630, 4326, 5139, 3809, 208, 4088, 361, 5754, 2312, 4620, 2369, 764, 5026, 5079, 1077, 711, 3600, 587, 4624, 3597, 3142, 1186, 1845, 5717, 3941, 1952, 768, 4657, 144, 5464, 4226, 552, 6270, 2550, 4521, 3599, 4066, 3506, 3418, 1347, 5557, 5440, 3029, 4441, 1499, 5319, 4082, 3051, 3494, 6215, 1402, 4216, 4635, 952, 807, 3003, 1284, 6274, 3002, 5386, 2057, 3134, 755, 4053, 1116, 6328, 5021, 5961, 3125, 4131, 5437, 6023, 6009, 2187, 3935, 3569, 716, 3306, 695, 5173, 1404, 157, 5096, 5110, 4809, 2194, 402, 5349, 3628, 1272, 6104, 2829, 3771, 3724, 2002, 452, 3675, 1115, 2468, 1421, 482, 5243, 3947, 2533, 123, 4631, 2108, 2338, 2799, 1755, 1355, 4700, 4332, 1252, 2604, 1924, 4191, 6441, 5191, 6483, 5806, 5690, 4572, 2017, 6132, 3092, 1655, 884, 3602, 1958, 6327, 5520, 3218, 4482, 1590, 1019, 622, 2358, 5211, 5758, 5401, 5803, 5260, 4936, 2976, 5346, 2814, 2151, 1506, 3408, 2361, 286, 4707, 67, 1689, 6335, 1275, 1487, 1778, 1737, 3491, 5030, 6048, 2698, 4223, 588, 4127, 3251, 4457, 523, 2309, 3079, 3880, 3225, 6325, 2253, 4376, 1334, 5616, 3564, 5787, 2565, 3248, 6279, 4436, 4353, 837, 2393, 5372, 5625, 5679, 4003, 2757, 1425, 2023, 4780, 1734, 5546, 505, 1257, 353, 3519, 3398, 5193, 1787, 1193, 3242, 1207, 942, 962, 1576, 1195, 4942, 921, 6442, 4746, 1043, 2231, 2418, 546, 4877, 107, 213, 547, 4374, 6403, 3545, 1856, 137, 562, 6014, 5010, 6399, 6198, 6406, 5611, 2154, 4244, 5938, 2819, 5650, 2960, 3862, 779, 6409, 6090, 5884, 838, 611, 3301, 4748, 2104, 2573, 3258, 4075, 2885, 839, 4874, 3713, 4163, 3769, 6095, 4582, 3237, 23, 4105, 4643, 1484, 1191, 3635, 4454, 2607, 2386, 6371, 4777, 4110, 3730, 3845, 6375, 4683, 2341, 5109, 1373, 4050, 1511, 4529, 2265, 2750, 3488, 2188, 793, 4013, 4972, 4963, 3601, 2606, 1427, 5183, 5161, 1114, 4365, 1705, 1331, 4113, 4356, 1612, 5762, 6379, 3923, 2146, 4439, 369, 4767, 4854, 5321, 1324, 5450, 2037, 3863, 4207, 3678, 4661, 3388, 1343, 308, 434, 3340, 119, 5039, 586, 6356, 4341, 756, 4576, 2333, 4370, 1628, 5696, 4864, 5305, 3403, 5366, 2032, 6337, 5853, 5322, 6263, 4329, 6168, 3875, 4397, 3536, 367, 1859, 4440, 6543, 3189, 1682, 376, 5962, 3382, 373, 3521, 2139, 2822, 5294, 1534, 309, 3006, 1327, 3222, 2634, 4247, 5158, 437, 720, 3425, 284, 4808, 1684, 3303, 3411, 217, 5669, 5673, 4290, 3053, 1943, 1125, 319, 1120, 1656, 2106, 4111, 5016, 2518, 2555, 5044, 2411, 356, 2348, 3205, 643, 5764, 3749, 5726, 6254, 484, 4543, 142, 4940, 2670, 1998, 6103, 5564, 548, 5468, 541, 3938, 916, 5112, 5969, 4933, 6373, 3732, 4031, 291, 6208, 5702, 5932, 5299, 101, 2093, 3502, 6346, 2972, 5209, 5396, 2719, 1021, 5017, 1117, 1276, 4343, 701, 5047, 6513, 1031, 396, 2684, 4024, 5070, 2665, 1999, 6097, 2913, 4239, 3314, 5077, 2806, 4605, 6267, 4363, 6381, 2668, 4322, 2337, 3120, 4774, 3373, 2559, 875, 2603, 111, 1736, 456, 5353, 5939, 6331, 3082, 5142, 4009, 6012, 4527, 3963, 5881, 3709, 6434, 3179, 1867, 4515, 3256, 2329, 4188, 3598, 5011, 4371, 6529, 2144, 3830, 1204, 5364, 2263, 3395, 4297, 3567, 1337, 3846, 77, 4564, 2384, 4610, 1203, 5277, 3454, 3277, 605, 5107, 789, 3789, 792, 5108, 5960, 3062, 2519, 2599, 4091, 3578, 2865, 5382, 1023, 5478, 2080, 5683, 4825, 675, 3682, 1118, 3049, 5539, 5926, 3532, 1403, 3067, 551, 3370, 668, 3399, 2453, 2510, 6165, 5649, 2524, 2383, 1605, 4152, 443, 5057, 1294, 4465, 2345, 3831, 6174, 223, 2505, 3089, 2068, 4416, 1828, 3841, 2252, 6044, 5720, 1042, 4237, 5376, 2685, 4245, 5593, 1413, 4530, 385, 3752, 5184, 6424, 1532, 2610, 220, 214, 560, 45, 3345, 2473, 1840, 4961, 4471, 798, 3176, 205, 2181, 6537, 6460, 1518, 2732, 556, 5538, 5273, 1747, 3508, 6194, 5071, 4653, 4574, 1817, 3801, 1405, 5605, 1698, 5474, 1018, 3921, 4165, 5014, 424, 478, 5129, 1249, 4784, 3522, 6499, 3352, 5970, 4217, 2436, 2025, 803, 1173, 2491, 2182, 4913, 2236, 4738, 503, 3419, 4517, 1330, 470, 6203, 6204, 2673, 1848, 1708, 6220, 3886, 3839, 2898, 1930, 4671, 4201, 62, 5175, 2449, 964, 5038, 4032, 2138, 1005, 3227, 5463, 2148, 3703, 2501, 2251, 3015, 4029, 3566, 3515, 3232, 2930, 4783, 3111, 4909, 950, 759, 3417, 4373, 2982, 5918, 4257, 1345, 5072, 4167, 3606, 3849, 4656, 3302, 3990, 158, 5200, 5614, 5341, 2162, 1110, 2824, 4196, 6361, 2363, 2902, 2605, 968, 4120, 49, 4448, 2304, 3944, 881, 728, 4224, 3978, 4782, 1522, 4549, 6022, 3815, 6454, 3796, 3487, 3917, 1683, 2062, 565, 592, 5186, 3634, 1680, 749, 6266, 2956, 932, 3426, 5068, 1381, 2013, 1611, 4421, 4253, 33, 4084, 2036, 3817, 5586, 4945, 955, 4404, 2176, 479, 5867, 4389, 512, 3549, 4073, 238, 5864, 2864, 3726, 3270, 1608, 428, 3401, 5487, 126, 6039, 435, 6526, 527, 3905, 3659, 363, 2452, 3647, 4234, 5570, 3453, 1994, 3614, 276, 847, 1674, 156, 4074, 3584, 4129, 1761, 1750, 2249, 1375, 4342, 5732, 1417, 791, 5458, 5516, 147, 310, 5288, 1460, 3604, 5266, 2102, 1409, 5757, 5834, 637, 3633, 3126, 4997, 2907, 4162, 913, 1016, 5222, 851, 4896, 1681, 2423, 5602, 4718, 5073, 4057, 530, 1370, 3792, 930, 5301, 4773, 3589, 1546, 4719, 3733, 2772, 6318, 4493, 533, 2174, 1433, 4026, 6508, 3386, 2167, 5555, 1578, 2674, 3884, 4498, 6446, 753, 2908, 698, 4481, 2269, 5317, 4006, 1679, 6196, 6282, 6539, 4960, 5399, 2697, 4626, 4768, 2161, 644, 5423, 1256, 5531, 271, 4655, 4575, 777, 2578, 2284, 6006, 2752, 5293, 69, 717, 6321, 867, 4891, 25, 4358, 3193, 3073, 2256, 1818, 1660, 1113, 5105, 5367, 5547, 5524, 996, 4703, 3910, 1175, 6129, 4424, 4930, 4068, 1424, 5631, 708, 2987, 1509, 389, 3824, 4567, 5348, 4871, 4602, 6030, 5541, 4171, 2005, 2815, 3141, 3069, 1325, 3710, 5104, 3355, 1944, 5862, 6053, 4000, 3074, 4148, 2635, 2861, 3416, 2472, 669, 4990, 4503, 4414, 3326, 5724, 2222, 677, 1178, 2497, 1874, 4320, 1989, 3609, 2157, 2548, 135, 2802, 4935, 1754, 4357, 5040, 5722, 2963, 4241, 2551, 4215, 2569, 4104, 1574, 2745, 3898, 2645, 3127, 4045, 4139, 231, 3959, 5185, 2713, 6271, 6160, 3022, 1105, 6277, 6416, 2916, 3721, 5627, 1442, 1407, 3215, 3413, 2886, 2648, 380, 5421, 3877, 3943, 2927, 4402, 5190, 4034, 3573, 2516, 3746, 5219, 2590, 2823, 645, 5913, 1354, 1833, 4619, 3852, 1739, 1601, 970, 4585, 6050, 699, 3627, 3477, 6101, 4647, 4338, 6158, 6011, 1577, 1825, 6059, 4258, 1904, 515, 4255, 5729, 1285, 801, 3379, 3790, 3998, 6201, 5122, 3448, 2733, 2567, 5041, 117, 2694, 4815, 3397, 5750, 3760, 4078, 35, 3471, 1202, 51, 1011, 3937, 2031, 4418, 2503, 3692, 5054, 723, 1013, 6199, 5031, 2285, 5462, 6242, 4327, 104, 6126, 4004, 288, 1898, 4814, 706, 5941, 5596, 2735, 4687, 4203, 5712, 4085, 4523, 427, 5101, 4478, 5338, 4274, 4138, 1129, 4826, 6209, 1771, 3881, 5629, 3064, 2250, 4563, 4516, 4400, 544, 2186, 6238, 6433, 5309, 6028, 2813, 4901, 5534, 209, 4187, 5051, 3436, 557, 4025, 3768, 5642, 2225, 5312, 366, 5709, 241, 480, 5840, 854, 2033, 1032, 4850, 2394, 1362, 4453, 2365, 5795, 2766, 4938, 4132, 1593, 3765, 5805, 5808, 4302, 1514, 2527, 522, 5533, 3986, 874, 3725, 6280, 5769, 591, 5128, 2398, 5302, 5404, 5915, 5510, 4652, 1292, 782, 6128, 2445, 4311, 594, 3065, 1982, 2849, 4174, 3711, 1493, 4276, 2163, 5445, 6216, 1942, 2892, 3243, 1837, 2895, 3646, 3349, 5768, 5059, 6292, 2346, 4331, 4064, 44, 5945, 1868, 2243, 206, 4056, 4444, 5297, 1050, 5052, 5707, 2349, 2070, 788, 4824, 5545, 6033, 6532, 3331, 3641, 1044, 4776, 1079, 872, 2851, 3813, 5645, 5646, 4699, 5783, 602, 2110, 5212, 53, 6349, 4507, 6278, 5106, 2322, 2528, 2342, 2059, 4979, 2498, 6449, 1815, 514, 4965, 2484, 3588, 2248, 4070, 3152, 2096, 4688, 2936, 4238, 5771, 311, 3782, 2601, 306, 2805, 2396, 383, 3701, 4560, 3235, 5325, 5841, 944, 2529, 5775, 4381, 5365, 4372, 3044, 2149, 4793, 3546, 6241, 5623, 2326, 3108, 3670, 960, 3582, 134, 100, 2441, 3439, 4273, 5652, 459, 4878, 4583, 6015, 5066, 997, 5999, 2847, 4588, 5034, 3144, 112, 3076, 3513, 6480, 596, 786, 1691, 6183, 2204, 5633, 3364, 5195, 3394, 4103, 186, 3622, 2686, 5136, 1544, 724, 5548, 3414, 5689, 5350, 2521, 1610, 4321, 3097, 5118, 1192, 36, 3211, 1344, 4112, 4012, 5436, 1690, 3202, 219, 6041, 1768, 1955, 317, 4076, 3291, 3816, 5238, 618, 439, 379, 5431, 606, 1627, 6081, 4790, 4229, 3882, 3650, 6324, 3101, 3997, 3617, 303, 1434, 3795, 3275, 1100, 3761, 2508, 3415, 2699, 3581, 6362, 195, 2021, 4399, 3271, 2088, 542, 3155, 2450, 1376, 6046, 504, 2177, 6251, 5192, 2525, 3926, 5927, 4021, 3708, 5149, 3624, 3012, 3206, 718, 5963, 1743, 3674, 794, 436, 2321, 2347, 2246, 610, 6026, 5264, 1941, 2355, 3716, 852, 5608, 5973, 5779, 2488, 868, 5753, 4054, 5369, 5344, 143, 2075, 6245, 1980, 2776, 1092, 683, 2115, 1429, 4071, 957, 1091, 1849, 1911, 4166, 3433, 922, 3041, 5914, 6372, 678, 2189, 4118, 4956, 3146, 110, 4479, 6082, 1649, 2755, 2933, 2063, 2918, 4007, 3374, 4600, 1835, 323, 4411, 5966, 2193, 4644, 6001, 3231, 5885, 2911, 4494, 6219, 4698, 4731, 961, 4155, 4518, 5850, 2414, 6265, 4016]\n",
      "test ids:  [0, 1, 2, 3, 4, 5, 6, 7, 8, 9, 10, 11, 12, 40, 81, 82, 83, 84, 85, 86, 87, 88, 89, 90, 91, 92, 93, 94, 120, 162, 163, 164, 165, 166, 167, 168, 169, 170, 171, 172, 173, 174, 175, 200, 243, 244, 245, 246, 247, 248, 249, 250, 251, 252, 253, 254, 255, 256, 257, 280, 324, 325, 326, 327, 328, 329, 330, 331, 332, 333, 334, 335, 336, 337, 338, 339, 360, 405, 406, 407, 408, 409, 410, 411, 412, 413, 414, 415, 416, 417, 418, 419, 420, 421, 440, 486, 487, 488, 489, 490, 491, 492, 493, 494, 495, 496, 497, 498, 499, 500, 501, 502, 520, 567, 568, 569, 570, 571, 572, 573, 574, 575, 576, 577, 578, 579, 580, 581, 582, 583, 584, 600, 648, 649, 650, 651, 652, 653, 654, 655, 656, 657, 658, 659, 660, 661, 662, 663, 664, 665, 666, 680, 729, 730, 731, 732, 733, 734, 735, 736, 737, 738, 739, 740, 741, 742, 743, 744, 745, 746, 747, 748, 760, 810, 811, 812, 813, 814, 815, 816, 817, 818, 819, 820, 821, 822, 823, 824, 825, 826, 827, 828, 829, 840, 891, 892, 893, 894, 895, 896, 897, 898, 899, 900, 901, 902, 903, 904, 905, 906, 907, 908, 909, 910, 911, 920, 972, 973, 974, 975, 976, 977, 978, 979, 980, 981, 982, 983, 984, 985, 986, 987, 988, 989, 990, 991, 992, 993, 1000, 1053, 1054, 1055, 1056, 1057, 1058, 1059, 1060, 1061, 1062, 1063, 1064, 1065, 1066, 1067, 1068, 1069, 1070, 1071, 1072, 1073, 1074, 1075, 1080, 1135, 1136, 1137, 1138, 1139, 1140, 1141, 1142, 1143, 1144, 1145, 1146, 1147, 1148, 1149, 1150, 1151, 1152, 1153, 1154, 1155, 1156, 1160, 1217, 1218, 1219, 1220, 1221, 1222, 1223, 1224, 1225, 1226, 1227, 1228, 1229, 1230, 1231, 1232, 1233, 1234, 1235, 1236, 1237, 1238, 1240, 1300, 1301, 1302, 1303, 1304, 1305, 1306, 1307, 1308, 1309, 1310, 1311, 1312, 1313, 1314, 1315, 1316, 1317, 1318, 1319, 1320, 1382, 1383, 1384, 1385, 1386, 1387, 1388, 1389, 1390, 1391, 1392, 1393, 1394, 1395, 1396, 1397, 1398, 1399, 1400, 1401, 1465, 1466, 1467, 1468, 1469, 1470, 1471, 1472, 1473, 1474, 1475, 1476, 1477, 1478, 1479, 1480, 1481, 1482, 1483, 1547, 1548, 1549, 1550, 1551, 1552, 1553, 1554, 1555, 1556, 1557, 1558, 1559, 1560, 1561, 1562, 1563, 1564, 1565, 1629, 1630, 1631, 1632, 1633, 1634, 1635, 1636, 1637, 1638, 1639, 1640, 1641, 1642, 1643, 1644, 1645, 1646, 1647, 1700, 1712, 1713, 1714, 1715, 1716, 1717, 1718, 1719, 1720, 1721, 1722, 1723, 1724, 1725, 1726, 1727, 1728, 1780, 1794, 1795, 1796, 1797, 1798, 1799, 1800, 1801, 1802, 1803, 1804, 1805, 1806, 1807, 1808, 1809, 1810, 1860, 1877, 1878, 1879, 1880, 1881, 1882, 1883, 1884, 1885, 1886, 1887, 1888, 1889, 1890, 1891, 1892, 1940, 1959, 1960, 1961, 1962, 1963, 1964, 1965, 1966, 1967, 1968, 1969, 1970, 1971, 1972, 1973, 1974, 2020, 2040, 2041, 2042, 2043, 2044, 2045, 2046, 2047, 2048, 2049, 2050, 2051, 2052, 2053, 2054, 2055, 2100, 2120, 2124, 2125, 2126, 2127, 2128, 2129, 2130, 2131, 2132, 2133, 2134, 2135, 2136, 2137, 2180, 2200, 2206, 2207, 2208, 2209, 2210, 2211, 2212, 2213, 2214, 2215, 2216, 2217, 2218, 2219, 2260, 2280, 2289, 2290, 2291, 2292, 2293, 2294, 2295, 2296, 2297, 2298, 2299, 2300, 2340, 2360, 2371, 2372, 2373, 2374, 2375, 2376, 2377, 2378, 2379, 2380, 2381, 2382, 2420, 2440, 2454, 2455, 2456, 2457, 2458, 2459, 2460, 2461, 2462, 2463, 2464, 2500, 2520, 2536, 2537, 2538, 2539, 2540, 2541, 2542, 2543, 2544, 2545, 2546, 2580, 2600, 2618, 2619, 2620, 2621, 2622, 2623, 2624, 2625, 2626, 2627, 2660, 2680, 2701, 2702, 2703, 2704, 2705, 2706, 2707, 2708, 2709, 2740, 2760, 2783, 2784, 2785, 2786, 2787, 2788, 2789, 2790, 2791, 2820, 2840, 2866, 2867, 2868, 2869, 2870, 2871, 2872, 2873, 2900, 2920, 2948, 2949, 2950, 2951, 2952, 2953, 2954, 2980, 3000, 3030, 3031, 3032, 3033, 3034, 3035, 3036, 3060, 3080, 3113, 3114, 3115, 3116, 3117, 3118, 3140, 3160, 3195, 3196, 3197, 3198, 3199, 3200, 3220, 3240, 3278, 3279, 3280, 3281, 3300, 3360, 3361, 3362, 3363, 3380, 3443, 3444, 3445, 3460, 3525, 3526, 3540, 3607, 3608, 3620, 3690, 3700, 3772, 3780, 3854, 3860, 3936, 3940, 4018, 4019, 4020, 4099, 4100, 4101, 4180, 4181, 4182, 4183, 4260, 4263, 4264, 4265, 4266, 4340, 4345, 4346, 4347, 4348, 4420, 4427, 4428, 4429, 4430, 4431, 4500, 4508, 4509, 4510, 4511, 4512, 4513, 4580, 4590, 4591, 4592, 4593, 4594, 4595, 4660, 4672, 4673, 4674, 4675, 4676, 4677, 4678, 4740, 4753, 4754, 4755, 4756, 4757, 4758, 4759, 4760, 4820, 4835, 4836, 4837, 4838, 4839, 4840, 4841, 4842, 4843, 4900, 4917, 4918, 4919, 4920, 4921, 4922, 4923, 4924, 4925, 4980, 4999, 5000, 5001, 5002, 5003, 5004, 5005, 5006, 5007, 5060, 5080, 5081, 5082, 5083, 5084, 5085, 5086, 5087, 5088, 5089, 5090, 5140, 5162, 5163, 5164, 5165, 5166, 5167, 5168, 5169, 5170, 5171, 5172, 5220, 5244, 5245, 5246, 5247, 5248, 5249, 5250, 5251, 5252, 5253, 5254, 5255, 5300, 5326, 5327, 5328, 5329, 5330, 5331, 5332, 5333, 5334, 5335, 5336, 5337, 5380, 5407, 5408, 5409, 5410, 5411, 5412, 5413, 5414, 5415, 5416, 5417, 5418, 5419, 5420, 5460, 5489, 5490, 5491, 5492, 5493, 5494, 5495, 5496, 5497, 5498, 5499, 5500, 5501, 5502, 5540, 5571, 5572, 5573, 5574, 5575, 5576, 5577, 5578, 5579, 5580, 5581, 5582, 5583, 5584, 5620, 5653, 5654, 5655, 5656, 5657, 5658, 5659, 5660, 5661, 5662, 5663, 5664, 5665, 5666, 5667, 5700, 5734, 5735, 5736, 5737, 5738, 5739, 5740, 5741, 5742, 5743, 5744, 5745, 5746, 5747, 5748, 5749, 5780, 5816, 5817, 5818, 5819, 5820, 5821, 5822, 5823, 5824, 5825, 5826, 5827, 5828, 5829, 5830, 5831, 5860, 5898, 5899, 5900, 5901, 5902, 5903, 5904, 5905, 5906, 5907, 5908, 5909, 5910, 5911, 5912, 5940, 5979, 5980, 5981, 5982, 5983, 5984, 5985, 5986, 5987, 5988, 5989, 5990, 5991, 5992, 5993, 6020, 6061, 6062, 6063, 6064, 6065, 6066, 6067, 6068, 6069, 6070, 6071, 6072, 6073, 6074, 6100, 6143, 6144, 6145, 6146, 6147, 6148, 6149, 6150, 6151, 6152, 6153, 6154, 6155, 6180, 6225, 6226, 6227, 6228, 6229, 6230, 6231, 6232, 6233, 6234, 6235, 6236, 6260, 6306, 6307, 6308, 6309, 6310, 6311, 6312, 6313, 6314, 6315, 6316, 6317, 6340, 6388, 6389, 6390, 6391, 6392, 6393, 6394, 6395, 6396, 6397, 6398, 6420, 6470, 6471, 6472, 6473, 6474, 6475, 6476, 6477, 6478, 6479, 6500, 6552, 6553, 6554, 6555, 6556, 6557, 6558, 6559, 6560]\n",
      "CPU times: user 172 ms, sys: 164 ms, total: 336 ms\n",
      "Wall time: 336 ms\n"
     ]
    }
   ],
   "source": [
    "%%time\n",
    "n_total = len(simulation.dataframe)\n",
    "n_train = len(simulation.dataframe[simulation.dataframe.type_of == \"train\"])\n",
    "n_val = len(simulation.dataframe[simulation.dataframe.type_of == \"val\"])\n",
    "n_test = len(simulation.dataframe[simulation.dataframe.type_of == \"test\"])\n",
    "n_train_hamiltonians = len(simulation.train_ids)\n",
    "n_val_hamiltonians = len(simulation.val_ids)\n",
    "n_test_hamiltonians = len(simulation.test_ids)\n",
    "n_total_hamiltonians = n_train_hamiltonians + n_val_hamiltonians + n_test_hamiltonians\n",
    "\n",
    "print(\"% train: \", n_train/n_total)\n",
    "print(\"% val: \",  n_val/n_total)\n",
    "print(\"% test: \", n_test/n_total)\n",
    "print(\"% train + val + test: \", (n_train+n_val+n_test)/n_total)\n",
    "print(\"\\n\")\n",
    "print(\"number of train hamiltonians: \", n_train_hamiltonians)\n",
    "print(\"number of val hamiltonians: \", n_val_hamiltonians)\n",
    "print(\"number of test hamiltonians: \", n_test_hamiltonians)\n",
    "print(\"total number of hamiltonians: \", n_total_hamiltonians)\n",
    "print(\"\\n\")\n",
    "print(\"train ids: \", simulation.train_ids)\n",
    "print(\"val ids: \", simulation.val_ids)\n",
    "print(\"test ids: \", simulation.test_ids)"
   ]
  },
  {
   "cell_type": "markdown",
   "metadata": {
    "papermill": {
     "duration": 0.034952,
     "end_time": "2020-07-09T23:10:59.436322",
     "exception": false,
     "start_time": "2020-07-09T23:10:59.401370",
     "status": "completed"
    },
    "tags": []
   },
   "source": [
    "#### Checking summaries"
   ]
  },
  {
   "cell_type": "code",
   "execution_count": 27,
   "metadata": {
    "execution": {
     "iopub.execute_input": "2020-07-09T23:10:59.509093Z",
     "iopub.status.busy": "2020-07-09T23:10:59.508587Z",
     "iopub.status.idle": "2020-07-09T23:10:59.528663Z",
     "shell.execute_reply": "2020-07-09T23:10:59.528338Z"
    },
    "papermill": {
     "duration": 0.056893,
     "end_time": "2020-07-09T23:10:59.528714",
     "exception": false,
     "start_time": "2020-07-09T23:10:59.471821",
     "status": "completed"
    },
    "tags": []
   },
   "outputs": [
    {
     "name": "stdout",
     "output_type": "stream",
     "text": [
      "length of ham_summary:  6561\n",
      "CPU times: user 132 µs, sys: 0 ns, total: 132 µs\n",
      "Wall time: 91.1 µs\n"
     ]
    },
    {
     "data": {
      "text/html": [
       "<div>\n",
       "<style scoped>\n",
       "    .dataframe tbody tr th:only-of-type {\n",
       "        vertical-align: middle;\n",
       "    }\n",
       "\n",
       "    .dataframe tbody tr th {\n",
       "        vertical-align: top;\n",
       "    }\n",
       "\n",
       "    .dataframe thead th {\n",
       "        text-align: right;\n",
       "    }\n",
       "</style>\n",
       "<table border=\"1\" class=\"dataframe\">\n",
       "  <thead>\n",
       "    <tr style=\"text-align: right;\">\n",
       "      <th></th>\n",
       "      <th>t1</th>\n",
       "      <th>t2</th>\n",
       "      <th>type_of</th>\n",
       "      <th>-1</th>\n",
       "      <th>0</th>\n",
       "      <th>1</th>\n",
       "      <th>2</th>\n",
       "      <th>phase</th>\n",
       "      <th>pred_phase</th>\n",
       "    </tr>\n",
       "    <tr>\n",
       "      <th>id</th>\n",
       "      <th></th>\n",
       "      <th></th>\n",
       "      <th></th>\n",
       "      <th></th>\n",
       "      <th></th>\n",
       "      <th></th>\n",
       "      <th></th>\n",
       "      <th></th>\n",
       "      <th></th>\n",
       "    </tr>\n",
       "  </thead>\n",
       "  <tbody>\n",
       "    <tr>\n",
       "      <th>0</th>\n",
       "      <td>-2.0</td>\n",
       "      <td>-2.00</td>\n",
       "      <td>test</td>\n",
       "      <td>0.11</td>\n",
       "      <td>0.44</td>\n",
       "      <td>0.20</td>\n",
       "      <td>0.25</td>\n",
       "      <td>999</td>\n",
       "      <td>0</td>\n",
       "    </tr>\n",
       "    <tr>\n",
       "      <th>1</th>\n",
       "      <td>-2.0</td>\n",
       "      <td>-1.95</td>\n",
       "      <td>test</td>\n",
       "      <td>0.12</td>\n",
       "      <td>0.48</td>\n",
       "      <td>0.16</td>\n",
       "      <td>0.24</td>\n",
       "      <td>-1</td>\n",
       "      <td>0</td>\n",
       "    </tr>\n",
       "    <tr>\n",
       "      <th>2</th>\n",
       "      <td>-2.0</td>\n",
       "      <td>-1.90</td>\n",
       "      <td>test</td>\n",
       "      <td>0.13</td>\n",
       "      <td>0.41</td>\n",
       "      <td>0.20</td>\n",
       "      <td>0.26</td>\n",
       "      <td>-1</td>\n",
       "      <td>0</td>\n",
       "    </tr>\n",
       "    <tr>\n",
       "      <th>3</th>\n",
       "      <td>-2.0</td>\n",
       "      <td>-1.85</td>\n",
       "      <td>test</td>\n",
       "      <td>0.19</td>\n",
       "      <td>0.38</td>\n",
       "      <td>0.22</td>\n",
       "      <td>0.21</td>\n",
       "      <td>-1</td>\n",
       "      <td>0</td>\n",
       "    </tr>\n",
       "    <tr>\n",
       "      <th>4</th>\n",
       "      <td>-2.0</td>\n",
       "      <td>-1.80</td>\n",
       "      <td>test</td>\n",
       "      <td>0.15</td>\n",
       "      <td>0.44</td>\n",
       "      <td>0.19</td>\n",
       "      <td>0.22</td>\n",
       "      <td>-1</td>\n",
       "      <td>0</td>\n",
       "    </tr>\n",
       "    <tr>\n",
       "      <th>...</th>\n",
       "      <td>...</td>\n",
       "      <td>...</td>\n",
       "      <td>...</td>\n",
       "      <td>...</td>\n",
       "      <td>...</td>\n",
       "      <td>...</td>\n",
       "      <td>...</td>\n",
       "      <td>...</td>\n",
       "      <td>...</td>\n",
       "    </tr>\n",
       "    <tr>\n",
       "      <th>6556</th>\n",
       "      <td>2.0</td>\n",
       "      <td>1.80</td>\n",
       "      <td>test</td>\n",
       "      <td>0.36</td>\n",
       "      <td>0.12</td>\n",
       "      <td>0.13</td>\n",
       "      <td>0.39</td>\n",
       "      <td>-1</td>\n",
       "      <td>2</td>\n",
       "    </tr>\n",
       "    <tr>\n",
       "      <th>6557</th>\n",
       "      <td>2.0</td>\n",
       "      <td>1.85</td>\n",
       "      <td>test</td>\n",
       "      <td>0.35</td>\n",
       "      <td>0.10</td>\n",
       "      <td>0.08</td>\n",
       "      <td>0.47</td>\n",
       "      <td>-1</td>\n",
       "      <td>2</td>\n",
       "    </tr>\n",
       "    <tr>\n",
       "      <th>6558</th>\n",
       "      <td>2.0</td>\n",
       "      <td>1.90</td>\n",
       "      <td>test</td>\n",
       "      <td>0.32</td>\n",
       "      <td>0.18</td>\n",
       "      <td>0.09</td>\n",
       "      <td>0.41</td>\n",
       "      <td>-1</td>\n",
       "      <td>2</td>\n",
       "    </tr>\n",
       "    <tr>\n",
       "      <th>6559</th>\n",
       "      <td>2.0</td>\n",
       "      <td>1.95</td>\n",
       "      <td>test</td>\n",
       "      <td>0.28</td>\n",
       "      <td>0.16</td>\n",
       "      <td>0.09</td>\n",
       "      <td>0.47</td>\n",
       "      <td>-1</td>\n",
       "      <td>2</td>\n",
       "    </tr>\n",
       "    <tr>\n",
       "      <th>6560</th>\n",
       "      <td>2.0</td>\n",
       "      <td>2.00</td>\n",
       "      <td>test</td>\n",
       "      <td>0.27</td>\n",
       "      <td>0.18</td>\n",
       "      <td>0.07</td>\n",
       "      <td>0.48</td>\n",
       "      <td>999</td>\n",
       "      <td>2</td>\n",
       "    </tr>\n",
       "  </tbody>\n",
       "</table>\n",
       "<p>6561 rows × 9 columns</p>\n",
       "</div>"
      ],
      "text/plain": [
       "       t1    t2 type_of    -1     0     1     2  phase  pred_phase\n",
       "id                                                                \n",
       "0    -2.0 -2.00    test  0.11  0.44  0.20  0.25    999           0\n",
       "1    -2.0 -1.95    test  0.12  0.48  0.16  0.24     -1           0\n",
       "2    -2.0 -1.90    test  0.13  0.41  0.20  0.26     -1           0\n",
       "3    -2.0 -1.85    test  0.19  0.38  0.22  0.21     -1           0\n",
       "4    -2.0 -1.80    test  0.15  0.44  0.19  0.22     -1           0\n",
       "...   ...   ...     ...   ...   ...   ...   ...    ...         ...\n",
       "6556  2.0  1.80    test  0.36  0.12  0.13  0.39     -1           2\n",
       "6557  2.0  1.85    test  0.35  0.10  0.08  0.47     -1           2\n",
       "6558  2.0  1.90    test  0.32  0.18  0.09  0.41     -1           2\n",
       "6559  2.0  1.95    test  0.28  0.16  0.09  0.47     -1           2\n",
       "6560  2.0  2.00    test  0.27  0.18  0.07  0.48    999           2\n",
       "\n",
       "[6561 rows x 9 columns]"
      ]
     },
     "execution_count": 27,
     "metadata": {},
     "output_type": "execute_result"
    }
   ],
   "source": [
    "%%time\n",
    "ham_summary = simulation.hamiltonian_summary\n",
    "print(\"length of ham_summary: \", len(ham_summary))\n",
    "ham_summary"
   ]
  },
  {
   "cell_type": "code",
   "execution_count": 28,
   "metadata": {
    "execution": {
     "iopub.execute_input": "2020-07-09T23:10:59.602865Z",
     "iopub.status.busy": "2020-07-09T23:10:59.602342Z",
     "iopub.status.idle": "2020-07-09T23:10:59.633883Z",
     "shell.execute_reply": "2020-07-09T23:10:59.633563Z"
    },
    "papermill": {
     "duration": 0.069165,
     "end_time": "2020-07-09T23:10:59.633934",
     "exception": false,
     "start_time": "2020-07-09T23:10:59.564769",
     "status": "completed"
    },
    "tags": []
   },
   "outputs": [
    {
     "data": {
      "text/html": [
       "<div>\n",
       "<style scoped>\n",
       "    .dataframe tbody tr th:only-of-type {\n",
       "        vertical-align: middle;\n",
       "    }\n",
       "\n",
       "    .dataframe tbody tr th {\n",
       "        vertical-align: top;\n",
       "    }\n",
       "\n",
       "    .dataframe thead th {\n",
       "        text-align: right;\n",
       "    }\n",
       "</style>\n",
       "<table border=\"1\" class=\"dataframe\">\n",
       "  <thead>\n",
       "    <tr style=\"text-align: right;\">\n",
       "      <th></th>\n",
       "      <th>t1</th>\n",
       "      <th>t2</th>\n",
       "      <th>-1</th>\n",
       "      <th>0</th>\n",
       "      <th>1</th>\n",
       "      <th>2</th>\n",
       "      <th>phase</th>\n",
       "      <th>pred_phase</th>\n",
       "    </tr>\n",
       "  </thead>\n",
       "  <tbody>\n",
       "    <tr>\n",
       "      <th>count</th>\n",
       "      <td>6561.000000</td>\n",
       "      <td>6.561000e+03</td>\n",
       "      <td>6561.000000</td>\n",
       "      <td>6561.000000</td>\n",
       "      <td>6561.000000</td>\n",
       "      <td>6561.000000</td>\n",
       "      <td>6561.000000</td>\n",
       "      <td>6561.000000</td>\n",
       "    </tr>\n",
       "    <tr>\n",
       "      <th>mean</th>\n",
       "      <td>0.000000</td>\n",
       "      <td>-4.331917e-18</td>\n",
       "      <td>0.195287</td>\n",
       "      <td>0.316185</td>\n",
       "      <td>0.304624</td>\n",
       "      <td>0.183903</td>\n",
       "      <td>28.045877</td>\n",
       "      <td>0.486816</td>\n",
       "    </tr>\n",
       "    <tr>\n",
       "      <th>std</th>\n",
       "      <td>1.169134</td>\n",
       "      <td>1.169134e+00</td>\n",
       "      <td>0.361915</td>\n",
       "      <td>0.435040</td>\n",
       "      <td>0.434863</td>\n",
       "      <td>0.353145</td>\n",
       "      <td>163.557011</td>\n",
       "      <td>1.016113</td>\n",
       "    </tr>\n",
       "    <tr>\n",
       "      <th>min</th>\n",
       "      <td>-2.000000</td>\n",
       "      <td>-2.000000e+00</td>\n",
       "      <td>0.000000</td>\n",
       "      <td>0.000000</td>\n",
       "      <td>0.000000</td>\n",
       "      <td>0.000000</td>\n",
       "      <td>-1.000000</td>\n",
       "      <td>-1.000000</td>\n",
       "    </tr>\n",
       "    <tr>\n",
       "      <th>25%</th>\n",
       "      <td>-1.000000</td>\n",
       "      <td>-1.000000e+00</td>\n",
       "      <td>0.000000</td>\n",
       "      <td>0.000000</td>\n",
       "      <td>0.000000</td>\n",
       "      <td>0.000000</td>\n",
       "      <td>0.000000</td>\n",
       "      <td>0.000000</td>\n",
       "    </tr>\n",
       "    <tr>\n",
       "      <th>50%</th>\n",
       "      <td>0.000000</td>\n",
       "      <td>0.000000e+00</td>\n",
       "      <td>0.000000</td>\n",
       "      <td>0.010000</td>\n",
       "      <td>0.010000</td>\n",
       "      <td>0.000000</td>\n",
       "      <td>1.000000</td>\n",
       "      <td>0.000000</td>\n",
       "    </tr>\n",
       "    <tr>\n",
       "      <th>75%</th>\n",
       "      <td>1.000000</td>\n",
       "      <td>1.000000e+00</td>\n",
       "      <td>0.140000</td>\n",
       "      <td>0.970000</td>\n",
       "      <td>0.960000</td>\n",
       "      <td>0.070000</td>\n",
       "      <td>1.000000</td>\n",
       "      <td>1.000000</td>\n",
       "    </tr>\n",
       "    <tr>\n",
       "      <th>max</th>\n",
       "      <td>2.000000</td>\n",
       "      <td>2.000000e+00</td>\n",
       "      <td>1.000000</td>\n",
       "      <td>1.000000</td>\n",
       "      <td>1.000000</td>\n",
       "      <td>1.000000</td>\n",
       "      <td>999.000000</td>\n",
       "      <td>2.000000</td>\n",
       "    </tr>\n",
       "  </tbody>\n",
       "</table>\n",
       "</div>"
      ],
      "text/plain": [
       "                t1            t2           -1            0            1  \\\n",
       "count  6561.000000  6.561000e+03  6561.000000  6561.000000  6561.000000   \n",
       "mean      0.000000 -4.331917e-18     0.195287     0.316185     0.304624   \n",
       "std       1.169134  1.169134e+00     0.361915     0.435040     0.434863   \n",
       "min      -2.000000 -2.000000e+00     0.000000     0.000000     0.000000   \n",
       "25%      -1.000000 -1.000000e+00     0.000000     0.000000     0.000000   \n",
       "50%       0.000000  0.000000e+00     0.000000     0.010000     0.010000   \n",
       "75%       1.000000  1.000000e+00     0.140000     0.970000     0.960000   \n",
       "max       2.000000  2.000000e+00     1.000000     1.000000     1.000000   \n",
       "\n",
       "                 2        phase   pred_phase  \n",
       "count  6561.000000  6561.000000  6561.000000  \n",
       "mean      0.183903    28.045877     0.486816  \n",
       "std       0.353145   163.557011     1.016113  \n",
       "min       0.000000    -1.000000    -1.000000  \n",
       "25%       0.000000     0.000000     0.000000  \n",
       "50%       0.000000     1.000000     0.000000  \n",
       "75%       0.070000     1.000000     1.000000  \n",
       "max       1.000000   999.000000     2.000000  "
      ]
     },
     "execution_count": 28,
     "metadata": {},
     "output_type": "execute_result"
    }
   ],
   "source": [
    "ham_summary.describe()"
   ]
  },
  {
   "cell_type": "code",
   "execution_count": 29,
   "metadata": {
    "execution": {
     "iopub.execute_input": "2020-07-09T23:10:59.709021Z",
     "iopub.status.busy": "2020-07-09T23:10:59.708670Z",
     "iopub.status.idle": "2020-07-09T23:10:59.723780Z",
     "shell.execute_reply": "2020-07-09T23:10:59.724226Z"
    },
    "papermill": {
     "duration": 0.053869,
     "end_time": "2020-07-09T23:10:59.724317",
     "exception": false,
     "start_time": "2020-07-09T23:10:59.670448",
     "status": "completed"
    },
    "tags": []
   },
   "outputs": [
    {
     "name": "stdout",
     "output_type": "stream",
     "text": [
      "length of ham_summary:  656100\n"
     ]
    },
    {
     "data": {
      "text/html": [
       "<div>\n",
       "<style scoped>\n",
       "    .dataframe tbody tr th:only-of-type {\n",
       "        vertical-align: middle;\n",
       "    }\n",
       "\n",
       "    .dataframe tbody tr th {\n",
       "        vertical-align: top;\n",
       "    }\n",
       "\n",
       "    .dataframe thead th {\n",
       "        text-align: right;\n",
       "    }\n",
       "</style>\n",
       "<table border=\"1\" class=\"dataframe\">\n",
       "  <thead>\n",
       "    <tr style=\"text-align: right;\">\n",
       "      <th></th>\n",
       "      <th>id</th>\n",
       "      <th>phase</th>\n",
       "      <th>pred_phase</th>\n",
       "      <th>type_of</th>\n",
       "    </tr>\n",
       "  </thead>\n",
       "  <tbody>\n",
       "    <tr>\n",
       "      <th>0</th>\n",
       "      <td>0</td>\n",
       "      <td>999</td>\n",
       "      <td>-1</td>\n",
       "      <td>test</td>\n",
       "    </tr>\n",
       "    <tr>\n",
       "      <th>1</th>\n",
       "      <td>0</td>\n",
       "      <td>999</td>\n",
       "      <td>2</td>\n",
       "      <td>test</td>\n",
       "    </tr>\n",
       "    <tr>\n",
       "      <th>2</th>\n",
       "      <td>0</td>\n",
       "      <td>999</td>\n",
       "      <td>-1</td>\n",
       "      <td>test</td>\n",
       "    </tr>\n",
       "    <tr>\n",
       "      <th>3</th>\n",
       "      <td>0</td>\n",
       "      <td>999</td>\n",
       "      <td>1</td>\n",
       "      <td>test</td>\n",
       "    </tr>\n",
       "    <tr>\n",
       "      <th>4</th>\n",
       "      <td>0</td>\n",
       "      <td>999</td>\n",
       "      <td>-1</td>\n",
       "      <td>test</td>\n",
       "    </tr>\n",
       "    <tr>\n",
       "      <th>...</th>\n",
       "      <td>...</td>\n",
       "      <td>...</td>\n",
       "      <td>...</td>\n",
       "      <td>...</td>\n",
       "    </tr>\n",
       "    <tr>\n",
       "      <th>656095</th>\n",
       "      <td>6560</td>\n",
       "      <td>999</td>\n",
       "      <td>-1</td>\n",
       "      <td>test</td>\n",
       "    </tr>\n",
       "    <tr>\n",
       "      <th>656096</th>\n",
       "      <td>6560</td>\n",
       "      <td>999</td>\n",
       "      <td>-1</td>\n",
       "      <td>test</td>\n",
       "    </tr>\n",
       "    <tr>\n",
       "      <th>656097</th>\n",
       "      <td>6560</td>\n",
       "      <td>999</td>\n",
       "      <td>2</td>\n",
       "      <td>test</td>\n",
       "    </tr>\n",
       "    <tr>\n",
       "      <th>656098</th>\n",
       "      <td>6560</td>\n",
       "      <td>999</td>\n",
       "      <td>1</td>\n",
       "      <td>test</td>\n",
       "    </tr>\n",
       "    <tr>\n",
       "      <th>656099</th>\n",
       "      <td>6560</td>\n",
       "      <td>999</td>\n",
       "      <td>0</td>\n",
       "      <td>test</td>\n",
       "    </tr>\n",
       "  </tbody>\n",
       "</table>\n",
       "<p>656100 rows × 4 columns</p>\n",
       "</div>"
      ],
      "text/plain": [
       "          id  phase  pred_phase type_of\n",
       "0          0    999          -1    test\n",
       "1          0    999           2    test\n",
       "2          0    999          -1    test\n",
       "3          0    999           1    test\n",
       "4          0    999          -1    test\n",
       "...      ...    ...         ...     ...\n",
       "656095  6560    999          -1    test\n",
       "656096  6560    999          -1    test\n",
       "656097  6560    999           2    test\n",
       "656098  6560    999           1    test\n",
       "656099  6560    999           0    test\n",
       "\n",
       "[656100 rows x 4 columns]"
      ]
     },
     "execution_count": 29,
     "metadata": {},
     "output_type": "execute_result"
    }
   ],
   "source": [
    "eigen_summary = simulation.eigenvector_summary\n",
    "print(\"length of ham_summary: \", len(eigen_summary))\n",
    "eigen_summary"
   ]
  },
  {
   "cell_type": "markdown",
   "metadata": {
    "papermill": {
     "duration": 0.037702,
     "end_time": "2020-07-09T23:10:59.800434",
     "exception": false,
     "start_time": "2020-07-09T23:10:59.762732",
     "status": "completed"
    },
    "tags": []
   },
   "source": [
    "#### Checking accuracies"
   ]
  },
  {
   "cell_type": "code",
   "execution_count": 30,
   "metadata": {
    "execution": {
     "iopub.execute_input": "2020-07-09T23:10:59.880797Z",
     "iopub.status.busy": "2020-07-09T23:10:59.880483Z",
     "iopub.status.idle": "2020-07-09T23:10:59.891030Z",
     "shell.execute_reply": "2020-07-09T23:10:59.890685Z"
    },
    "papermill": {
     "duration": 0.052088,
     "end_time": "2020-07-09T23:10:59.891083",
     "exception": false,
     "start_time": "2020-07-09T23:10:59.838995",
     "status": "completed"
    },
    "tags": []
   },
   "outputs": [
    {
     "data": {
      "text/plain": [
       "{'eigenvector_train': 0.9996631655197392,\n",
       " 'eigenvector_val': 0.9604963768115942,\n",
       " 'eigenvector_test': 0.6473224679860302,\n",
       " 'hamiltonian_train': 1.0,\n",
       " 'hamiltonian_val': 0.9974637681159421,\n",
       " 'hamiltonian_test': 0.8777648428405123}"
      ]
     },
     "execution_count": 30,
     "metadata": {},
     "output_type": "execute_result"
    }
   ],
   "source": [
    "simulation.accuracy"
   ]
  },
  {
   "cell_type": "markdown",
   "metadata": {
    "papermill": {
     "duration": 0.037959,
     "end_time": "2020-07-09T23:10:59.966863",
     "exception": false,
     "start_time": "2020-07-09T23:10:59.928904",
     "status": "completed"
    },
    "tags": []
   },
   "source": [
    "#### Checking data stored in  memory"
   ]
  },
  {
   "cell_type": "code",
   "execution_count": 31,
   "metadata": {
    "execution": {
     "iopub.execute_input": "2020-07-09T23:11:00.047045Z",
     "iopub.status.busy": "2020-07-09T23:11:00.046733Z",
     "iopub.status.idle": "2020-07-09T23:11:00.057357Z",
     "shell.execute_reply": "2020-07-09T23:11:00.057683Z"
    },
    "papermill": {
     "duration": 0.052225,
     "end_time": "2020-07-09T23:11:00.057750",
     "exception": false,
     "start_time": "2020-07-09T23:11:00.005525",
     "status": "completed"
    },
    "tags": []
   },
   "outputs": [
    {
     "data": {
      "text/plain": [
       "[]"
      ]
     },
     "execution_count": 31,
     "metadata": {},
     "output_type": "execute_result"
    }
   ],
   "source": [
    "ham_summary_list = simulation.hamiltonian_summary_list\n",
    "ham_summary_list"
   ]
  },
  {
   "cell_type": "code",
   "execution_count": 32,
   "metadata": {
    "execution": {
     "iopub.execute_input": "2020-07-09T23:11:00.136470Z",
     "iopub.status.busy": "2020-07-09T23:11:00.136143Z",
     "iopub.status.idle": "2020-07-09T23:11:00.146734Z",
     "shell.execute_reply": "2020-07-09T23:11:00.146410Z"
    },
    "papermill": {
     "duration": 0.049544,
     "end_time": "2020-07-09T23:11:00.146785",
     "exception": false,
     "start_time": "2020-07-09T23:11:00.097241",
     "status": "completed"
    },
    "tags": []
   },
   "outputs": [
    {
     "data": {
      "text/plain": [
       "[]"
      ]
     },
     "execution_count": 32,
     "metadata": {},
     "output_type": "execute_result"
    }
   ],
   "source": [
    "eigen_summary_list = simulation.eigenvector_summary_list\n",
    "eigen_summary_list"
   ]
  },
  {
   "cell_type": "code",
   "execution_count": 33,
   "metadata": {
    "execution": {
     "iopub.execute_input": "2020-07-09T23:11:00.224750Z",
     "iopub.status.busy": "2020-07-09T23:11:00.224421Z",
     "iopub.status.idle": "2020-07-09T23:11:00.234678Z",
     "shell.execute_reply": "2020-07-09T23:11:00.234980Z"
    },
    "papermill": {
     "duration": 0.050617,
     "end_time": "2020-07-09T23:11:00.235045",
     "exception": false,
     "start_time": "2020-07-09T23:11:00.184428",
     "status": "completed"
    },
    "tags": []
   },
   "outputs": [
    {
     "data": {
      "text/plain": [
       "{'eigenvector_train': [],\n",
       " 'eigenvector_val': [],\n",
       " 'eigenvector_test': [],\n",
       " 'hamiltonian_train': [],\n",
       " 'hamiltonian_val': [],\n",
       " 'hamiltonian_test': []}"
      ]
     },
     "execution_count": 33,
     "metadata": {},
     "output_type": "execute_result"
    }
   ],
   "source": [
    "accuracy_list = simulation.accuracy_list\n",
    "accuracy_list"
   ]
  },
  {
   "cell_type": "code",
   "execution_count": null,
   "metadata": {
    "papermill": {
     "duration": 0.036745,
     "end_time": "2020-07-09T23:11:00.310797",
     "exception": false,
     "start_time": "2020-07-09T23:11:00.274052",
     "status": "completed"
    },
    "tags": []
   },
   "outputs": [],
   "source": []
  },
  {
   "cell_type": "code",
   "execution_count": null,
   "metadata": {
    "papermill": {
     "duration": 0.037432,
     "end_time": "2020-07-09T23:11:00.386124",
     "exception": false,
     "start_time": "2020-07-09T23:11:00.348692",
     "status": "completed"
    },
    "tags": []
   },
   "outputs": [],
   "source": []
  },
  {
   "cell_type": "code",
   "execution_count": 34,
   "metadata": {
    "execution": {
     "iopub.execute_input": "2020-07-09T23:11:00.461608Z",
     "iopub.status.busy": "2020-07-09T23:11:00.461302Z",
     "iopub.status.idle": "2020-07-09T23:11:00.471040Z",
     "shell.execute_reply": "2020-07-09T23:11:00.470766Z"
    },
    "papermill": {
     "duration": 0.04828,
     "end_time": "2020-07-09T23:11:00.471094",
     "exception": false,
     "start_time": "2020-07-09T23:11:00.422814",
     "status": "completed"
    },
    "tags": []
   },
   "outputs": [],
   "source": [
    "#simulation.fourier_matrix"
   ]
  },
  {
   "cell_type": "code",
   "execution_count": 35,
   "metadata": {
    "execution": {
     "iopub.execute_input": "2020-07-09T23:11:00.548764Z",
     "iopub.status.busy": "2020-07-09T23:11:00.548456Z",
     "iopub.status.idle": "2020-07-09T23:11:00.558100Z",
     "shell.execute_reply": "2020-07-09T23:11:00.558419Z"
    },
    "papermill": {
     "duration": 0.049877,
     "end_time": "2020-07-09T23:11:00.558487",
     "exception": false,
     "start_time": "2020-07-09T23:11:00.508610",
     "status": "completed"
    },
    "tags": []
   },
   "outputs": [],
   "source": [
    "#simulation.fourier_matrix.shape"
   ]
  },
  {
   "cell_type": "code",
   "execution_count": 36,
   "metadata": {
    "execution": {
     "iopub.execute_input": "2020-07-09T23:11:00.634459Z",
     "iopub.status.busy": "2020-07-09T23:11:00.634154Z",
     "iopub.status.idle": "2020-07-09T23:11:00.644165Z",
     "shell.execute_reply": "2020-07-09T23:11:00.644491Z"
    },
    "papermill": {
     "duration": 0.049214,
     "end_time": "2020-07-09T23:11:00.644557",
     "exception": false,
     "start_time": "2020-07-09T23:11:00.595343",
     "status": "completed"
    },
    "tags": []
   },
   "outputs": [],
   "source": [
    "#simulation.fourier_matrix[:,0]"
   ]
  },
  {
   "cell_type": "code",
   "execution_count": 37,
   "metadata": {
    "execution": {
     "iopub.execute_input": "2020-07-09T23:11:00.722280Z",
     "iopub.status.busy": "2020-07-09T23:11:00.721955Z",
     "iopub.status.idle": "2020-07-09T23:11:00.733918Z",
     "shell.execute_reply": "2020-07-09T23:11:00.733628Z"
    },
    "papermill": {
     "duration": 0.051727,
     "end_time": "2020-07-09T23:11:00.733973",
     "exception": false,
     "start_time": "2020-07-09T23:11:00.682246",
     "status": "completed"
    },
    "tags": []
   },
   "outputs": [],
   "source": [
    "#simulation.fourier_matrix[:,1]"
   ]
  },
  {
   "cell_type": "code",
   "execution_count": 38,
   "metadata": {
    "execution": {
     "iopub.execute_input": "2020-07-09T23:11:00.813602Z",
     "iopub.status.busy": "2020-07-09T23:11:00.813293Z",
     "iopub.status.idle": "2020-07-09T23:11:00.823296Z",
     "shell.execute_reply": "2020-07-09T23:11:00.822799Z"
    },
    "papermill": {
     "duration": 0.050818,
     "end_time": "2020-07-09T23:11:00.823380",
     "exception": false,
     "start_time": "2020-07-09T23:11:00.772562",
     "status": "completed"
    },
    "tags": []
   },
   "outputs": [],
   "source": [
    "#np.exp(-1j*2*np.pi*3/100)"
   ]
  },
  {
   "cell_type": "code",
   "execution_count": 39,
   "metadata": {
    "execution": {
     "iopub.execute_input": "2020-07-09T23:11:00.904413Z",
     "iopub.status.busy": "2020-07-09T23:11:00.904050Z",
     "iopub.status.idle": "2020-07-09T23:11:00.914163Z",
     "shell.execute_reply": "2020-07-09T23:11:00.913873Z"
    },
    "papermill": {
     "duration": 0.051072,
     "end_time": "2020-07-09T23:11:00.914219",
     "exception": false,
     "start_time": "2020-07-09T23:11:00.863147",
     "status": "completed"
    },
    "tags": []
   },
   "outputs": [],
   "source": [
    "#for i in range(1,50):\n",
    "#    print(\"\\n\")\n",
    "#    print(i)\n",
    "#    print(np.sum((np.real(simulation.fourier_matrix[:,i]) - np.real(simulation.fourier_matrix[:,-i]))**2))\n",
    "#    print(np.sum((np.imag(simulation.fourier_matrix[:,i])+ np.imag(simulation.fourier_matrix[:,-i]))**2))"
   ]
  },
  {
   "cell_type": "code",
   "execution_count": 40,
   "metadata": {
    "execution": {
     "iopub.execute_input": "2020-07-09T23:11:00.993683Z",
     "iopub.status.busy": "2020-07-09T23:11:00.993376Z",
     "iopub.status.idle": "2020-07-09T23:11:01.002694Z",
     "shell.execute_reply": "2020-07-09T23:11:01.002998Z"
    },
    "papermill": {
     "duration": 0.050414,
     "end_time": "2020-07-09T23:11:01.003062",
     "exception": false,
     "start_time": "2020-07-09T23:11:00.952648",
     "status": "completed"
    },
    "tags": []
   },
   "outputs": [],
   "source": [
    "#print(simulation.fourier_matrix[:,0])"
   ]
  },
  {
   "cell_type": "code",
   "execution_count": 41,
   "metadata": {
    "execution": {
     "iopub.execute_input": "2020-07-09T23:11:01.083536Z",
     "iopub.status.busy": "2020-07-09T23:11:01.083229Z",
     "iopub.status.idle": "2020-07-09T23:11:01.093112Z",
     "shell.execute_reply": "2020-07-09T23:11:01.093429Z"
    },
    "papermill": {
     "duration": 0.050601,
     "end_time": "2020-07-09T23:11:01.093497",
     "exception": false,
     "start_time": "2020-07-09T23:11:01.042896",
     "status": "completed"
    },
    "tags": []
   },
   "outputs": [],
   "source": [
    "#print(simulation.fourier_matrix[:,50])"
   ]
  },
  {
   "cell_type": "code",
   "execution_count": null,
   "metadata": {
    "papermill": {
     "duration": 0.036928,
     "end_time": "2020-07-09T23:11:01.167576",
     "exception": false,
     "start_time": "2020-07-09T23:11:01.130648",
     "status": "completed"
    },
    "tags": []
   },
   "outputs": [],
   "source": []
  }
 ],
 "metadata": {
  "celltoolbar": "Tags",
  "kernelspec": {
   "display_name": "ml_top_phases",
   "language": "python",
   "name": "ml_top_phases"
  },
  "language_info": {
   "codemirror_mode": {
    "name": "ipython",
    "version": 3
   },
   "file_extension": ".py",
   "mimetype": "text/x-python",
   "name": "python",
   "nbconvert_exporter": "python",
   "pygments_lexer": "ipython3",
   "version": "3.6.10"
  },
  "papermill": {
   "duration": 2864.244802,
   "end_time": "2020-07-09T23:11:01.315359",
   "environment_variables": {},
   "exception": null,
   "input_path": "0_simulation_template.ipynb",
   "output_path": "zzz_simulation_output_ssh2_6th_scenario_100_6561.ipynb",
   "parameters": {
    "allowed_windings": [
     -1,
     0,
     1,
     2
    ],
    "csv_path": "/home/rio/ssh_csvs/ssh2/periodic_100_6561.csv",
    "features_to_use": null,
    "fillna": false,
    "fit_params": null,
    "fourier_features_to_use": [
     0,
     1,
     2,
     3,
     4,
     5,
     6,
     8,
     10,
     12,
     16,
     18,
     26,
     28,
     30,
     32,
     34,
     36,
     38,
     40,
     42,
     44,
     46,
     47,
     48
    ],
    "fourier_fillna": false,
    "fourier_mode": "dct",
    "fourier_normalize": false,
    "fourier_real": null,
    "model_kw": {
     "criterion": "entropy",
     "n_estimators": 25,
     "n_jobs": -1
    },
    "model_name": "RandomForestClassifier",
    "n_experiments": 100,
    "normalize": false,
    "pred_params": null,
    "random_features": false,
    "random_state": 34896,
    "save_accuracy": true,
    "save_eigenvector": true,
    "save_hamiltonian": true,
    "save_models": true,
    "shuffle_features": false,
    "shuffle_rows": true,
    "simulation_dir": "/home/rio/ssh_simulations/ssh2/periodic_6th_scenario_100_6561",
    "start_n": 0,
    "store_in_lists": false,
    "val_split": 0.5
   },
   "start_time": "2020-07-09T22:23:17.070557",
   "version": "2.1.0"
  }
 },
 "nbformat": 4,
 "nbformat_minor": 2
}