{
 "cells": [
  {
   "cell_type": "markdown",
   "metadata": {
    "papermill": {
     "duration": 0.02068,
     "end_time": "2020-07-16T02:17:13.984608",
     "exception": false,
     "start_time": "2020-07-16T02:17:13.963928",
     "status": "completed"
    },
    "tags": []
   },
   "source": [
    "# Simulation template \n",
    "\n",
    "In this notebook we run the machine learning analysis of topological phase transitions occurring  in both nearest-neighbours SSH models (ssh1) and second neighbours models (ssh2) as decribed in the paper [Machine learning topological phases in real space](https://arxiv.org/abs/1901.01963). Here the simulation is run with features generated from fourier components in the first scenario. This scenario is characterized by using only the EVEN wavevector space eigenmodes, computed from ALL real space components."
   ]
  },
  {
   "cell_type": "markdown",
   "metadata": {
    "papermill": {
     "duration": 0.016635,
     "end_time": "2020-07-16T02:17:14.018014",
     "exception": false,
     "start_time": "2020-07-16T02:17:14.001379",
     "status": "completed"
    },
    "tags": []
   },
   "source": [
    "## Defining parameters"
   ]
  },
  {
   "cell_type": "code",
   "execution_count": 1,
   "metadata": {
    "execution": {
     "iopub.execute_input": "2020-07-16T02:17:14.052867Z",
     "iopub.status.busy": "2020-07-16T02:17:14.052532Z",
     "iopub.status.idle": "2020-07-16T02:17:14.633602Z",
     "shell.execute_reply": "2020-07-16T02:17:14.633859Z"
    },
    "papermill": {
     "duration": 0.5999,
     "end_time": "2020-07-16T02:17:14.633932",
     "exception": false,
     "start_time": "2020-07-16T02:17:14.034032",
     "status": "completed"
    },
    "tags": []
   },
   "outputs": [
    {
     "name": "stdout",
     "output_type": "stream",
     "text": [
      "CPU times: user 762 ms, sys: 257 ms, total: 1.02 s\n",
      "Wall time: 574 ms\n"
     ]
    }
   ],
   "source": [
    "%%time\n",
    "%load_ext autoreload\n",
    "%autoreload 2\n",
    "from simulation import *"
   ]
  },
  {
   "cell_type": "code",
   "execution_count": 2,
   "metadata": {
    "execution": {
     "iopub.execute_input": "2020-07-16T02:17:14.671132Z",
     "iopub.status.busy": "2020-07-16T02:17:14.670781Z",
     "iopub.status.idle": "2020-07-16T02:17:14.681895Z",
     "shell.execute_reply": "2020-07-16T02:17:14.681574Z"
    },
    "papermill": {
     "duration": 0.0306,
     "end_time": "2020-07-16T02:17:14.681948",
     "exception": false,
     "start_time": "2020-07-16T02:17:14.651348",
     "status": "completed"
    },
    "tags": [
     "parameters"
    ]
   },
   "outputs": [
    {
     "name": "stdout",
     "output_type": "stream",
     "text": [
      "CPU times: user 3 µs, sys: 1 µs, total: 4 µs\n",
      "Wall time: 5.01 µs\n"
     ]
    }
   ],
   "source": [
    "%%time\n",
    "### Dataset and simulation parameters\n",
    "#csv_path = SSH2_PERIODIC_100_6561_CSV \n",
    "csv_path = SSH1_PERIODIC_100_6561_CSV \n",
    "model_name = \"DecisionTreeClassifier\"\n",
    "model_kw = {\"criterion\":\"entropy\"}\n",
    "allowed_windings = [0,1]\n",
    "#allowed_windings = [-1,0,1,2]\n",
    "simulation_dir = SSH1_PERIODIC_1ST_SCENARIO_100_6561_SIMULATION_DIR\n",
    "#simulation_dir = SSH2_PERIODIC_ENGINEERED_100_6561_SIMULATION_DIR\n",
    "val_split = 0.9  \n",
    "features_to_use = None\n",
    "shuffle_features = False\n",
    "random_state = 763\n",
    "\n",
    "### Fourier features\n",
    "fourier_mode = \"dst\"\n",
    "fourier_features_to_use = None\n",
    "fourier_real = \"imag\"\n",
    "fourier_normalize = False\n",
    "fourier_fillna = False\n",
    "\n",
    "### Running a simulation\n",
    "n_experiments = 5\n",
    "start_n = 0\n",
    "fit_params = None\n",
    "#mode=mode\n",
    "shuffle_rows = True\n",
    "pred_params = None\n",
    "random_features = False\n",
    "######### DON'T SET THIS TO TRUE UNLESS YOUR DATASET IS SMALL!! WILL FLOOD YOUR MEMORY!!!\n",
    "store_in_lists = False   \n",
    "########## BELOW ARE THE PARAMETERS THAT CONTROL WHAT WILL BE SAVED\n",
    "save_eigenvector=True\n",
    "save_hamiltonian=True \n",
    "save_accuracy=True \n",
    "save_models=True"
   ]
  },
  {
   "cell_type": "code",
   "execution_count": 3,
   "metadata": {
    "execution": {
     "iopub.execute_input": "2020-07-16T02:17:14.721801Z",
     "iopub.status.busy": "2020-07-16T02:17:14.721459Z",
     "iopub.status.idle": "2020-07-16T02:17:14.798513Z",
     "shell.execute_reply": "2020-07-16T02:17:14.799175Z"
    },
    "papermill": {
     "duration": 0.099994,
     "end_time": "2020-07-16T02:17:14.799304",
     "exception": false,
     "start_time": "2020-07-16T02:17:14.699310",
     "status": "completed"
    },
    "tags": [
     "injected-parameters"
    ]
   },
   "outputs": [],
   "source": [
    "# Parameters\n",
    "model_kw = {\"criterion\": \"entropy\"}\n",
    "allowed_windings = [0, 1]\n",
    "val_split = 0.9\n",
    "features_to_use = [0, 1, 3, 50]\n",
    "shuffle_features = False\n",
    "n_experiments = 100\n",
    "start_n = 0\n",
    "fit_params = None\n",
    "shuffle_rows = True\n",
    "pred_params = None\n",
    "random_features = False\n",
    "store_in_lists = False\n",
    "save_eigenvector = True\n",
    "save_hamiltonian = True\n",
    "save_accuracy = True\n",
    "save_models = True\n",
    "csv_path = \"/home/rio/ssh_csvs/ssh1/periodic_100_6561.csv\"\n",
    "model_name = \"DecisionTreeClassifier\"\n",
    "simulation_dir = \"/home/rio/ssh_simulations/ssh1/periodic_2nd_scenario_100_6561\"\n",
    "random_state = 5836934\n",
    "fourier_features_to_use = None\n",
    "fourier_mode = None\n",
    "fourier_real = None\n",
    "fourier_normalize = None\n",
    "fourier_fillna = None\n"
   ]
  },
  {
   "cell_type": "code",
   "execution_count": 4,
   "metadata": {
    "execution": {
     "iopub.execute_input": "2020-07-16T02:17:14.858564Z",
     "iopub.status.busy": "2020-07-16T02:17:14.858219Z",
     "iopub.status.idle": "2020-07-16T02:17:20.371830Z",
     "shell.execute_reply": "2020-07-16T02:17:20.371514Z"
    },
    "papermill": {
     "duration": 5.535764,
     "end_time": "2020-07-16T02:17:20.371883",
     "exception": false,
     "start_time": "2020-07-16T02:17:14.836119",
     "status": "completed"
    },
    "tags": []
   },
   "outputs": [
    {
     "name": "stdout",
     "output_type": "stream",
     "text": [
      "Info on all data: \n",
      "\n",
      "<class 'pandas.core.frame.DataFrame'>\n",
      "Int64Index: 656100 entries, 0 to 656099\n",
      "Columns: 108 entries, id to feat99\n",
      "dtypes: float64(103), int32(3), object(2)\n",
      "memory usage: 538.1+ MB\n",
      "CPU times: user 5.16 s, sys: 326 ms, total: 5.49 s\n",
      "Wall time: 5.49 s\n"
     ]
    },
    {
     "data": {
      "text/html": [
       "<div>\n",
       "<style scoped>\n",
       "    .dataframe tbody tr th:only-of-type {\n",
       "        vertical-align: middle;\n",
       "    }\n",
       "\n",
       "    .dataframe tbody tr th {\n",
       "        vertical-align: top;\n",
       "    }\n",
       "\n",
       "    .dataframe thead th {\n",
       "        text-align: right;\n",
       "    }\n",
       "</style>\n",
       "<table border=\"1\" class=\"dataframe\">\n",
       "  <thead>\n",
       "    <tr style=\"text-align: right;\">\n",
       "      <th></th>\n",
       "      <th>id</th>\n",
       "      <th>path</th>\n",
       "      <th>t1</th>\n",
       "      <th>t2</th>\n",
       "      <th>winding</th>\n",
       "      <th>phase</th>\n",
       "      <th>pred_phase</th>\n",
       "      <th>type_of</th>\n",
       "      <th>feat0</th>\n",
       "      <th>feat1</th>\n",
       "      <th>...</th>\n",
       "      <th>feat90</th>\n",
       "      <th>feat91</th>\n",
       "      <th>feat92</th>\n",
       "      <th>feat93</th>\n",
       "      <th>feat94</th>\n",
       "      <th>feat95</th>\n",
       "      <th>feat96</th>\n",
       "      <th>feat97</th>\n",
       "      <th>feat98</th>\n",
       "      <th>feat99</th>\n",
       "    </tr>\n",
       "  </thead>\n",
       "  <tbody>\n",
       "    <tr>\n",
       "      <th>0</th>\n",
       "      <td>0</td>\n",
       "      <td>H_-2_-2_0.509296.dat</td>\n",
       "      <td>-2.0</td>\n",
       "      <td>-2.0</td>\n",
       "      <td>0.509296</td>\n",
       "      <td>999</td>\n",
       "      <td>666</td>\n",
       "      <td>test</td>\n",
       "      <td>0.100000</td>\n",
       "      <td>0.100000</td>\n",
       "      <td>...</td>\n",
       "      <td>0.100000</td>\n",
       "      <td>0.100000</td>\n",
       "      <td>0.100000</td>\n",
       "      <td>0.100000</td>\n",
       "      <td>0.100000</td>\n",
       "      <td>0.100000</td>\n",
       "      <td>0.100000</td>\n",
       "      <td>0.100000</td>\n",
       "      <td>0.100000</td>\n",
       "      <td>0.100000</td>\n",
       "    </tr>\n",
       "    <tr>\n",
       "      <th>1</th>\n",
       "      <td>0</td>\n",
       "      <td>H_-2_-2_0.509296.dat</td>\n",
       "      <td>-2.0</td>\n",
       "      <td>-2.0</td>\n",
       "      <td>0.509296</td>\n",
       "      <td>999</td>\n",
       "      <td>666</td>\n",
       "      <td>test</td>\n",
       "      <td>0.141421</td>\n",
       "      <td>0.141142</td>\n",
       "      <td>...</td>\n",
       "      <td>0.114412</td>\n",
       "      <td>0.108967</td>\n",
       "      <td>0.123928</td>\n",
       "      <td>0.119406</td>\n",
       "      <td>0.131490</td>\n",
       "      <td>0.127962</td>\n",
       "      <td>0.136978</td>\n",
       "      <td>0.134500</td>\n",
       "      <td>0.140306</td>\n",
       "      <td>0.138916</td>\n",
       "    </tr>\n",
       "    <tr>\n",
       "      <th>2</th>\n",
       "      <td>0</td>\n",
       "      <td>H_-2_-2_0.509296.dat</td>\n",
       "      <td>-2.0</td>\n",
       "      <td>-2.0</td>\n",
       "      <td>0.509296</td>\n",
       "      <td>999</td>\n",
       "      <td>666</td>\n",
       "      <td>test</td>\n",
       "      <td>0.141421</td>\n",
       "      <td>0.140306</td>\n",
       "      <td>...</td>\n",
       "      <td>0.043702</td>\n",
       "      <td>0.026500</td>\n",
       "      <td>0.075777</td>\n",
       "      <td>0.060214</td>\n",
       "      <td>0.103092</td>\n",
       "      <td>0.090145</td>\n",
       "      <td>0.123928</td>\n",
       "      <td>0.114412</td>\n",
       "      <td>0.136978</td>\n",
       "      <td>0.131490</td>\n",
       "    </tr>\n",
       "    <tr>\n",
       "      <th>3</th>\n",
       "      <td>0</td>\n",
       "      <td>H_-2_-2_0.509296.dat</td>\n",
       "      <td>-2.0</td>\n",
       "      <td>-2.0</td>\n",
       "      <td>0.509296</td>\n",
       "      <td>999</td>\n",
       "      <td>666</td>\n",
       "      <td>test</td>\n",
       "      <td>-0.100000</td>\n",
       "      <td>0.100000</td>\n",
       "      <td>...</td>\n",
       "      <td>-0.100000</td>\n",
       "      <td>0.100000</td>\n",
       "      <td>-0.100000</td>\n",
       "      <td>0.100000</td>\n",
       "      <td>-0.100000</td>\n",
       "      <td>0.100000</td>\n",
       "      <td>-0.100000</td>\n",
       "      <td>0.100000</td>\n",
       "      <td>-0.100000</td>\n",
       "      <td>0.100000</td>\n",
       "    </tr>\n",
       "    <tr>\n",
       "      <th>4</th>\n",
       "      <td>0</td>\n",
       "      <td>H_-2_-2_0.509296.dat</td>\n",
       "      <td>-2.0</td>\n",
       "      <td>-2.0</td>\n",
       "      <td>0.509296</td>\n",
       "      <td>999</td>\n",
       "      <td>666</td>\n",
       "      <td>test</td>\n",
       "      <td>0.000509</td>\n",
       "      <td>-0.008372</td>\n",
       "      <td>...</td>\n",
       "      <td>-0.082713</td>\n",
       "      <td>-0.089753</td>\n",
       "      <td>-0.067684</td>\n",
       "      <td>-0.075347</td>\n",
       "      <td>-0.051587</td>\n",
       "      <td>-0.059753</td>\n",
       "      <td>-0.034677</td>\n",
       "      <td>-0.043217</td>\n",
       "      <td>-0.017220</td>\n",
       "      <td>-0.026000</td>\n",
       "    </tr>\n",
       "  </tbody>\n",
       "</table>\n",
       "<p>5 rows × 108 columns</p>\n",
       "</div>"
      ],
      "text/plain": [
       "   id                  path   t1   t2   winding  phase  pred_phase type_of  \\\n",
       "0   0  H_-2_-2_0.509296.dat -2.0 -2.0  0.509296    999         666    test   \n",
       "1   0  H_-2_-2_0.509296.dat -2.0 -2.0  0.509296    999         666    test   \n",
       "2   0  H_-2_-2_0.509296.dat -2.0 -2.0  0.509296    999         666    test   \n",
       "3   0  H_-2_-2_0.509296.dat -2.0 -2.0  0.509296    999         666    test   \n",
       "4   0  H_-2_-2_0.509296.dat -2.0 -2.0  0.509296    999         666    test   \n",
       "\n",
       "      feat0     feat1  ...    feat90    feat91    feat92    feat93    feat94  \\\n",
       "0  0.100000  0.100000  ...  0.100000  0.100000  0.100000  0.100000  0.100000   \n",
       "1  0.141421  0.141142  ...  0.114412  0.108967  0.123928  0.119406  0.131490   \n",
       "2  0.141421  0.140306  ...  0.043702  0.026500  0.075777  0.060214  0.103092   \n",
       "3 -0.100000  0.100000  ... -0.100000  0.100000 -0.100000  0.100000 -0.100000   \n",
       "4  0.000509 -0.008372  ... -0.082713 -0.089753 -0.067684 -0.075347 -0.051587   \n",
       "\n",
       "     feat95    feat96    feat97    feat98    feat99  \n",
       "0  0.100000  0.100000  0.100000  0.100000  0.100000  \n",
       "1  0.127962  0.136978  0.134500  0.140306  0.138916  \n",
       "2  0.090145  0.123928  0.114412  0.136978  0.131490  \n",
       "3  0.100000 -0.100000  0.100000 -0.100000  0.100000  \n",
       "4 -0.059753 -0.034677 -0.043217 -0.017220 -0.026000  \n",
       "\n",
       "[5 rows x 108 columns]"
      ]
     },
     "execution_count": 4,
     "metadata": {},
     "output_type": "execute_result"
    }
   ],
   "source": [
    "%%time\n",
    "#Starting an instance of Simulation with a decision tree\n",
    "model = DecisionTreeClassifier(criterion=\"entropy\")\n",
    "#dict_args = {\"csv_path\":csv_path, \"model\":model, \"allowed_windings\":allowed_windings,\\\n",
    "#             \"simulation_dir\":simulation_dir, \"val_split\":val_split, \"features_to_use\":features_to_use,\\\n",
    "#            \"shuffle_features\":shuffle_features, \"random_state\":random_state}\n",
    "simulation = Simulation(csv_path,model_name,model_kw,allowed_windings,simulation_dir,val_split,features_to_use,\\\n",
    "                       shuffle_features,fourier_mode,fourier_features_to_use,fourier_real,\\\n",
    "                       fourier_normalize, fourier_fillna , random_state)\n",
    "#simulation = Simulation(**dict_args)\n",
    "\n",
    "\n",
    "#(self, csv_path, model_name, model_kw, allowed_windings, simulation_dir = None, val_split = 0, \n",
    "# features_to_use = None, shuffle_features = False, fourier_mode=None, fourier_features_to_use=None,\n",
    "# fourier_real = False, fourier_normalize = False, Fourier_fillna=False, random_state = None):\n",
    "\n",
    "\n",
    "\n",
    "print(\"Info on all data: \\n\")\n",
    "simulation.dataframe.info()\n",
    "simulation.dataframe.head()"
   ]
  },
  {
   "cell_type": "markdown",
   "metadata": {
    "papermill": {
     "duration": 0.017494,
     "end_time": "2020-07-16T02:17:20.407291",
     "exception": false,
     "start_time": "2020-07-16T02:17:20.389797",
     "status": "completed"
    },
    "tags": []
   },
   "source": [
    "####  Fourier features"
   ]
  },
  {
   "cell_type": "code",
   "execution_count": 5,
   "metadata": {
    "execution": {
     "iopub.execute_input": "2020-07-16T02:17:20.444453Z",
     "iopub.status.busy": "2020-07-16T02:17:20.444130Z",
     "iopub.status.idle": "2020-07-16T02:17:20.454963Z",
     "shell.execute_reply": "2020-07-16T02:17:20.455227Z"
    },
    "papermill": {
     "duration": 0.029967,
     "end_time": "2020-07-16T02:17:20.455301",
     "exception": false,
     "start_time": "2020-07-16T02:17:20.425334",
     "status": "completed"
    },
    "tags": []
   },
   "outputs": [
    {
     "name": "stdout",
     "output_type": "stream",
     "text": [
      "CPU times: user 2 µs, sys: 0 ns, total: 2 µs\n",
      "Wall time: 3.81 µs\n"
     ]
    }
   ],
   "source": [
    "%%time\n",
    "#simulation.generate_fourier_df()\n",
    "if simulation.fourier_mode is not None:\n",
    "    simulation.fourier_dataframe.info() \n",
    "    simulation.fourier_dataframe.sample(15)\n"
   ]
  },
  {
   "cell_type": "code",
   "execution_count": 6,
   "metadata": {
    "execution": {
     "iopub.execute_input": "2020-07-16T02:17:20.492333Z",
     "iopub.status.busy": "2020-07-16T02:17:20.492018Z",
     "iopub.status.idle": "2020-07-16T02:17:20.558098Z",
     "shell.execute_reply": "2020-07-16T02:17:20.557421Z"
    },
    "papermill": {
     "duration": 0.085768,
     "end_time": "2020-07-16T02:17:20.558201",
     "exception": false,
     "start_time": "2020-07-16T02:17:20.472433",
     "status": "completed"
    },
    "tags": []
   },
   "outputs": [
    {
     "name": "stdout",
     "output_type": "stream",
     "text": [
      "features_to_use: \n",
      "\n",
      "\n",
      "[0, 1, 3, 50]\n",
      "Number of real space features:\n",
      "\n",
      "\n",
      "4\n",
      "\n",
      "\n",
      "fourier_features: \n",
      "\n",
      "\n",
      "None\n",
      "\n",
      "\n",
      "\n",
      "\n",
      "Fourier operator: \n",
      "None\n",
      "\n",
      "\n"
     ]
    }
   ],
   "source": [
    "print(\"features_to_use: \")\n",
    "print(\"\\n\")\n",
    "print(simulation.features_to_use)\n",
    "if simulation.features_to_use is not None:\n",
    "    print(\"Number of real space features:\")\n",
    "    print(\"\\n\")\n",
    "    print(len(simulation.features_to_use))\n",
    "print(\"\\n\")\n",
    "print(\"fourier_features: \")\n",
    "print(\"\\n\")\n",
    "print(simulation.fourier_features)\n",
    "print(\"\\n\")\n",
    "if simulation.fourier_features is not None:\n",
    "    print(\"Number of Fourier features: \")\n",
    "    print(\"\\n\")\n",
    "    print(len(simulation.fourier_features))\n",
    "print(\"\\n\")\n",
    "print(\"Fourier operator: \")\n",
    "print(simulation.fourier_operator)\n",
    "print(\"\\n\")\n",
    "if simulation.fourier_operator is not None:\n",
    "    print(\"Shape of Fourier operator: \")\n",
    "    print(simulation.fourier_operator.shape)"
   ]
  },
  {
   "cell_type": "code",
   "execution_count": 7,
   "metadata": {
    "execution": {
     "iopub.execute_input": "2020-07-16T02:17:20.621318Z",
     "iopub.status.busy": "2020-07-16T02:17:20.620955Z",
     "iopub.status.idle": "2020-07-16T02:17:20.631165Z",
     "shell.execute_reply": "2020-07-16T02:17:20.630703Z"
    },
    "papermill": {
     "duration": 0.033029,
     "end_time": "2020-07-16T02:17:20.631242",
     "exception": false,
     "start_time": "2020-07-16T02:17:20.598213",
     "status": "completed"
    },
    "tags": []
   },
   "outputs": [],
   "source": [
    "#a = np.array([1+1j,2+3j,4+8j])\n",
    "#np.imag(a)"
   ]
  },
  {
   "cell_type": "code",
   "execution_count": 8,
   "metadata": {
    "execution": {
     "iopub.execute_input": "2020-07-16T02:17:20.670479Z",
     "iopub.status.busy": "2020-07-16T02:17:20.670167Z",
     "iopub.status.idle": "2020-07-16T02:17:20.765661Z",
     "shell.execute_reply": "2020-07-16T02:17:20.763846Z"
    },
    "papermill": {
     "duration": 0.116217,
     "end_time": "2020-07-16T02:17:20.765918",
     "exception": false,
     "start_time": "2020-07-16T02:17:20.649701",
     "status": "completed"
    },
    "tags": []
   },
   "outputs": [],
   "source": [
    "#plt.plot(np.imag(simulation.fourier_operator[:,0]))"
   ]
  },
  {
   "cell_type": "code",
   "execution_count": 9,
   "metadata": {
    "execution": {
     "iopub.execute_input": "2020-07-16T02:17:20.845559Z",
     "iopub.status.busy": "2020-07-16T02:17:20.845252Z",
     "iopub.status.idle": "2020-07-16T02:17:20.855553Z",
     "shell.execute_reply": "2020-07-16T02:17:20.855872Z"
    },
    "papermill": {
     "duration": 0.032532,
     "end_time": "2020-07-16T02:17:20.855943",
     "exception": false,
     "start_time": "2020-07-16T02:17:20.823411",
     "status": "completed"
    },
    "tags": []
   },
   "outputs": [],
   "source": [
    "#np.sin(np.pi/(50))*2"
   ]
  },
  {
   "cell_type": "code",
   "execution_count": 10,
   "metadata": {
    "execution": {
     "iopub.execute_input": "2020-07-16T02:17:20.893439Z",
     "iopub.status.busy": "2020-07-16T02:17:20.893131Z",
     "iopub.status.idle": "2020-07-16T02:17:20.970223Z",
     "shell.execute_reply": "2020-07-16T02:17:20.968475Z"
    },
    "papermill": {
     "duration": 0.096422,
     "end_time": "2020-07-16T02:17:20.970479",
     "exception": false,
     "start_time": "2020-07-16T02:17:20.874057",
     "status": "completed"
    },
    "tags": []
   },
   "outputs": [],
   "source": [
    "#2*np.sin(np.pi/50*49)"
   ]
  },
  {
   "cell_type": "code",
   "execution_count": 11,
   "metadata": {
    "execution": {
     "iopub.execute_input": "2020-07-16T02:17:21.046372Z",
     "iopub.status.busy": "2020-07-16T02:17:21.046034Z",
     "iopub.status.idle": "2020-07-16T02:17:21.056703Z",
     "shell.execute_reply": "2020-07-16T02:17:21.056350Z"
    },
    "papermill": {
     "duration": 0.032418,
     "end_time": "2020-07-16T02:17:21.056760",
     "exception": false,
     "start_time": "2020-07-16T02:17:21.024342",
     "status": "completed"
    },
    "tags": []
   },
   "outputs": [],
   "source": [
    "#simulation.dataframe.iloc[331456,:]"
   ]
  },
  {
   "cell_type": "code",
   "execution_count": 12,
   "metadata": {
    "execution": {
     "iopub.execute_input": "2020-07-16T02:17:21.094603Z",
     "iopub.status.busy": "2020-07-16T02:17:21.094294Z",
     "iopub.status.idle": "2020-07-16T02:17:21.163561Z",
     "shell.execute_reply": "2020-07-16T02:17:21.162949Z"
    },
    "papermill": {
     "duration": 0.088457,
     "end_time": "2020-07-16T02:17:21.163655",
     "exception": false,
     "start_time": "2020-07-16T02:17:21.075198",
     "status": "completed"
    },
    "tags": []
   },
   "outputs": [],
   "source": [
    "#for ix, obj in enumerate(simulation.dataframe.iloc[331456,:].values):\n",
    "#    print(ix,obj)"
   ]
  },
  {
   "cell_type": "code",
   "execution_count": 13,
   "metadata": {
    "execution": {
     "iopub.execute_input": "2020-07-16T02:17:21.229058Z",
     "iopub.status.busy": "2020-07-16T02:17:21.228740Z",
     "iopub.status.idle": "2020-07-16T02:17:21.238821Z",
     "shell.execute_reply": "2020-07-16T02:17:21.238448Z"
    },
    "papermill": {
     "duration": 0.033748,
     "end_time": "2020-07-16T02:17:21.238880",
     "exception": false,
     "start_time": "2020-07-16T02:17:21.205132",
     "status": "completed"
    },
    "tags": []
   },
   "outputs": [],
   "source": [
    "#simulation.fourier_engineered_dataframe.dct_feat0"
   ]
  },
  {
   "cell_type": "code",
   "execution_count": 14,
   "metadata": {
    "execution": {
     "iopub.execute_input": "2020-07-16T02:17:21.276533Z",
     "iopub.status.busy": "2020-07-16T02:17:21.276211Z",
     "iopub.status.idle": "2020-07-16T02:17:21.337303Z",
     "shell.execute_reply": "2020-07-16T02:17:21.335514Z"
    },
    "papermill": {
     "duration": 0.080975,
     "end_time": "2020-07-16T02:17:21.337559",
     "exception": false,
     "start_time": "2020-07-16T02:17:21.256584",
     "status": "completed"
    },
    "tags": []
   },
   "outputs": [],
   "source": [
    "#simulation.features"
   ]
  },
  {
   "cell_type": "code",
   "execution_count": 15,
   "metadata": {
    "execution": {
     "iopub.execute_input": "2020-07-16T02:17:21.412248Z",
     "iopub.status.busy": "2020-07-16T02:17:21.411756Z",
     "iopub.status.idle": "2020-07-16T02:17:21.421808Z",
     "shell.execute_reply": "2020-07-16T02:17:21.422127Z"
    },
    "papermill": {
     "duration": 0.032141,
     "end_time": "2020-07-16T02:17:21.422196",
     "exception": false,
     "start_time": "2020-07-16T02:17:21.390055",
     "status": "completed"
    },
    "tags": []
   },
   "outputs": [],
   "source": [
    "#simulation.fourier_matrix"
   ]
  },
  {
   "cell_type": "code",
   "execution_count": 16,
   "metadata": {
    "execution": {
     "iopub.execute_input": "2020-07-16T02:17:21.460672Z",
     "iopub.status.busy": "2020-07-16T02:17:21.460173Z",
     "iopub.status.idle": "2020-07-16T02:17:21.503956Z",
     "shell.execute_reply": "2020-07-16T02:17:21.503623Z"
    },
    "papermill": {
     "duration": 0.063533,
     "end_time": "2020-07-16T02:17:21.504010",
     "exception": false,
     "start_time": "2020-07-16T02:17:21.440477",
     "status": "completed"
    },
    "tags": []
   },
   "outputs": [],
   "source": [
    "#1/simulation.n_features*simulation.dataframe.loc[:,simulation.features].sum(axis=1)"
   ]
  },
  {
   "cell_type": "code",
   "execution_count": 17,
   "metadata": {
    "execution": {
     "iopub.execute_input": "2020-07-16T02:17:21.542341Z",
     "iopub.status.busy": "2020-07-16T02:17:21.541738Z",
     "iopub.status.idle": "2020-07-16T02:17:21.601753Z",
     "shell.execute_reply": "2020-07-16T02:17:21.603423Z"
    },
    "papermill": {
     "duration": 0.081189,
     "end_time": "2020-07-16T02:17:21.603735",
     "exception": false,
     "start_time": "2020-07-16T02:17:21.522546",
     "status": "completed"
    },
    "tags": []
   },
   "outputs": [],
   "source": [
    "#df_2 = simulation.fourier_engineered_dataframe[simulation.fourier_engineered_dataframe.phase==2]\n",
    "#df_2.describe()"
   ]
  },
  {
   "cell_type": "code",
   "execution_count": 18,
   "metadata": {
    "execution": {
     "iopub.execute_input": "2020-07-16T02:17:21.675776Z",
     "iopub.status.busy": "2020-07-16T02:17:21.675472Z",
     "iopub.status.idle": "2020-07-16T02:17:21.685104Z",
     "shell.execute_reply": "2020-07-16T02:17:21.684783Z"
    },
    "papermill": {
     "duration": 0.030843,
     "end_time": "2020-07-16T02:17:21.685158",
     "exception": false,
     "start_time": "2020-07-16T02:17:21.654315",
     "status": "completed"
    },
    "tags": []
   },
   "outputs": [],
   "source": [
    "#df_1 = simulation.fourier_engineered_dataframe[simulation.fourier_engineered_dataframe.phase==1]\n",
    "#df_1.describe()"
   ]
  },
  {
   "cell_type": "code",
   "execution_count": 19,
   "metadata": {
    "execution": {
     "iopub.execute_input": "2020-07-16T02:17:21.724579Z",
     "iopub.status.busy": "2020-07-16T02:17:21.724261Z",
     "iopub.status.idle": "2020-07-16T02:17:21.770948Z",
     "shell.execute_reply": "2020-07-16T02:17:21.770561Z"
    },
    "papermill": {
     "duration": 0.067655,
     "end_time": "2020-07-16T02:17:21.771012",
     "exception": false,
     "start_time": "2020-07-16T02:17:21.703357",
     "status": "completed"
    },
    "tags": []
   },
   "outputs": [],
   "source": [
    "#df_0 = simulation.fourier_engineered_dataframe[simulation.fourier_engineered_dataframe.phase==0]\n",
    "#df_0.describe()"
   ]
  },
  {
   "cell_type": "code",
   "execution_count": 20,
   "metadata": {
    "execution": {
     "iopub.execute_input": "2020-07-16T02:17:21.808789Z",
     "iopub.status.busy": "2020-07-16T02:17:21.808475Z",
     "iopub.status.idle": "2020-07-16T02:17:21.878655Z",
     "shell.execute_reply": "2020-07-16T02:17:21.876902Z"
    },
    "papermill": {
     "duration": 0.089643,
     "end_time": "2020-07-16T02:17:21.878907",
     "exception": false,
     "start_time": "2020-07-16T02:17:21.789264",
     "status": "completed"
    },
    "tags": []
   },
   "outputs": [],
   "source": [
    "#plt.figure(figsize=(10,10))\n",
    "#plt.scatter(df_1.fourier_feat0,df_1.fourier_feat2)\n",
    "#plt.scatter(df_0.fourier_feat0,df_0.fourier_feat2,alpha=0.4)"
   ]
  },
  {
   "cell_type": "code",
   "execution_count": 21,
   "metadata": {
    "execution": {
     "iopub.execute_input": "2020-07-16T02:17:21.957240Z",
     "iopub.status.busy": "2020-07-16T02:17:21.956921Z",
     "iopub.status.idle": "2020-07-16T02:17:21.967553Z",
     "shell.execute_reply": "2020-07-16T02:17:21.967208Z"
    },
    "papermill": {
     "duration": 0.033207,
     "end_time": "2020-07-16T02:17:21.967608",
     "exception": false,
     "start_time": "2020-07-16T02:17:21.934401",
     "status": "completed"
    },
    "tags": []
   },
   "outputs": [],
   "source": [
    "#plt.scatter(df_0.fourier_feat0,df_0.fourier_feat2,alpha=0.4)"
   ]
  },
  {
   "cell_type": "code",
   "execution_count": 22,
   "metadata": {
    "execution": {
     "iopub.execute_input": "2020-07-16T02:17:22.005689Z",
     "iopub.status.busy": "2020-07-16T02:17:22.005292Z",
     "iopub.status.idle": "2020-07-16T02:17:22.054093Z",
     "shell.execute_reply": "2020-07-16T02:17:22.054424Z"
    },
    "papermill": {
     "duration": 0.06906,
     "end_time": "2020-07-16T02:17:22.054510",
     "exception": false,
     "start_time": "2020-07-16T02:17:21.985450",
     "status": "completed"
    },
    "tags": []
   },
   "outputs": [],
   "source": [
    "#plt.scatter(df_2.fourier_feat0,df_2.fourier_feat2)"
   ]
  },
  {
   "cell_type": "code",
   "execution_count": 23,
   "metadata": {
    "execution": {
     "iopub.execute_input": "2020-07-16T02:17:22.107446Z",
     "iopub.status.busy": "2020-07-16T02:17:22.107140Z",
     "iopub.status.idle": "2020-07-16T02:17:22.122920Z",
     "shell.execute_reply": "2020-07-16T02:17:22.123243Z"
    },
    "papermill": {
     "duration": 0.04166,
     "end_time": "2020-07-16T02:17:22.123314",
     "exception": false,
     "start_time": "2020-07-16T02:17:22.081654",
     "status": "completed"
    },
    "tags": []
   },
   "outputs": [],
   "source": [
    "#df_1.hist(figsize=(15,15))"
   ]
  },
  {
   "cell_type": "code",
   "execution_count": 24,
   "metadata": {
    "execution": {
     "iopub.execute_input": "2020-07-16T02:17:22.161765Z",
     "iopub.status.busy": "2020-07-16T02:17:22.161462Z",
     "iopub.status.idle": "2020-07-16T02:17:22.212770Z",
     "shell.execute_reply": "2020-07-16T02:17:22.212313Z"
    },
    "papermill": {
     "duration": 0.071191,
     "end_time": "2020-07-16T02:17:22.212842",
     "exception": false,
     "start_time": "2020-07-16T02:17:22.141651",
     "status": "completed"
    },
    "tags": []
   },
   "outputs": [],
   "source": [
    "#df_0.hist(figsize=(15,15))"
   ]
  },
  {
   "cell_type": "markdown",
   "metadata": {
    "papermill": {
     "duration": 0.021936,
     "end_time": "2020-07-16T02:17:22.262006",
     "exception": false,
     "start_time": "2020-07-16T02:17:22.240070",
     "status": "completed"
    },
    "tags": []
   },
   "source": [
    "#### Checking initialization"
   ]
  },
  {
   "cell_type": "code",
   "execution_count": 25,
   "metadata": {
    "execution": {
     "iopub.execute_input": "2020-07-16T02:17:22.301661Z",
     "iopub.status.busy": "2020-07-16T02:17:22.301352Z",
     "iopub.status.idle": "2020-07-16T02:17:22.311648Z",
     "shell.execute_reply": "2020-07-16T02:17:22.311902Z"
    },
    "papermill": {
     "duration": 0.030972,
     "end_time": "2020-07-16T02:17:22.311971",
     "exception": false,
     "start_time": "2020-07-16T02:17:22.280999",
     "status": "completed"
    },
    "tags": []
   },
   "outputs": [
    {
     "name": "stdout",
     "output_type": "stream",
     "text": [
      "n_features:  100\n",
      "n_hamiltonians:  6561\n",
      "n_ts:  2\n",
      "CPU times: user 134 µs, sys: 14 µs, total: 148 µs\n",
      "Wall time: 90.6 µs\n"
     ]
    }
   ],
   "source": [
    "%%time\n",
    "n_features = simulation.n_features\n",
    "n_hamiltonians = simulation.n_hamiltonians\n",
    "n_ts = simulation.n_ts\n",
    "\n",
    "print(\"n_features: \", n_features)\n",
    "print(\"n_hamiltonians: \", n_hamiltonians)\n",
    "print(\"n_ts: \", n_ts)"
   ]
  },
  {
   "cell_type": "code",
   "execution_count": 26,
   "metadata": {
    "execution": {
     "iopub.execute_input": "2020-07-16T02:17:22.349531Z",
     "iopub.status.busy": "2020-07-16T02:17:22.349213Z",
     "iopub.status.idle": "2020-07-16T02:17:22.601005Z",
     "shell.execute_reply": "2020-07-16T02:17:22.601267Z"
    },
    "papermill": {
     "duration": 0.271523,
     "end_time": "2020-07-16T02:17:22.601339",
     "exception": false,
     "start_time": "2020-07-16T02:17:22.329816",
     "status": "completed"
    },
    "tags": []
   },
   "outputs": [
    {
     "name": "stdout",
     "output_type": "stream",
     "text": [
      "% train:  0.846822130772748\n",
      "% val:  0.0\n",
      "% test:  0.15317786922725193\n",
      "% train + val + test:  1.0\n",
      "\n",
      "\n",
      "number of train hamiltonians:  5556\n",
      "number of val hamiltonians:  0\n",
      "number of test hamiltonians:  1005\n",
      "total number of hamiltonians:  6561\n",
      "\n",
      "\n",
      "train ids:  [9, 10, 11, 12, 13, 14, 15, 16, 17, 18, 19, 20, 21, 22, 23, 24, 25, 26, 27, 28, 29, 30, 31, 32, 33, 34, 35, 36, 37, 38, 39, 40, 41, 42, 43, 44, 45, 46, 47, 48, 49, 50, 51, 52, 53, 54, 55, 56, 57, 58, 59, 60, 61, 62, 63, 64, 65, 66, 67, 68, 69, 70, 71, 72, 73, 74, 75, 76, 77, 91, 92, 93, 94, 95, 96, 97, 98, 99, 100, 101, 102, 103, 104, 105, 106, 107, 108, 109, 110, 111, 112, 113, 114, 115, 116, 117, 118, 119, 120, 121, 122, 123, 124, 125, 126, 127, 128, 129, 130, 131, 132, 133, 134, 135, 136, 137, 138, 139, 140, 141, 142, 143, 144, 145, 146, 147, 148, 149, 150, 151, 152, 153, 154, 155, 156, 157, 172, 173, 174, 175, 176, 177, 178, 179, 180, 181, 182, 183, 184, 185, 186, 187, 188, 189, 190, 191, 192, 193, 194, 195, 196, 197, 198, 199, 200, 201, 202, 203, 204, 205, 206, 207, 208, 209, 210, 211, 212, 213, 214, 215, 216, 217, 218, 219, 220, 221, 222, 223, 224, 225, 226, 227, 228, 229, 230, 231, 232, 233, 234, 235, 236, 237, 254, 255, 256, 257, 258, 259, 260, 261, 262, 263, 264, 265, 266, 267, 268, 269, 270, 271, 272, 273, 274, 275, 276, 277, 278, 279, 280, 281, 282, 283, 284, 285, 286, 287, 288, 289, 290, 291, 292, 293, 294, 295, 296, 297, 298, 299, 300, 301, 302, 303, 304, 305, 306, 307, 308, 309, 310, 311, 312, 313, 314, 315, 316, 317, 323, 336, 337, 338, 339, 340, 341, 342, 343, 344, 345, 346, 347, 348, 349, 350, 351, 352, 353, 354, 355, 356, 357, 358, 359, 360, 361, 362, 363, 364, 365, 366, 367, 368, 369, 370, 371, 372, 373, 374, 375, 376, 377, 378, 379, 380, 381, 382, 383, 384, 385, 386, 387, 388, 389, 390, 391, 392, 393, 394, 395, 396, 397, 403, 404, 418, 419, 420, 421, 422, 423, 424, 425, 426, 427, 428, 429, 430, 431, 432, 433, 434, 435, 436, 437, 438, 439, 440, 441, 442, 443, 444, 445, 446, 447, 448, 449, 450, 451, 452, 453, 454, 455, 456, 457, 458, 459, 460, 461, 462, 463, 464, 465, 466, 467, 468, 469, 470, 471, 472, 473, 474, 475, 476, 477, 483, 484, 485, 500, 501, 502, 503, 504, 505, 506, 507, 508, 509, 510, 511, 512, 513, 514, 515, 516, 517, 518, 519, 520, 521, 522, 523, 524, 525, 526, 527, 528, 529, 530, 531, 532, 533, 534, 535, 536, 537, 538, 539, 540, 541, 542, 543, 544, 545, 546, 547, 548, 549, 550, 551, 552, 553, 554, 555, 556, 557, 563, 564, 565, 566, 581, 582, 583, 584, 585, 586, 587, 588, 589, 590, 591, 592, 593, 594, 595, 596, 597, 598, 599, 600, 601, 602, 603, 604, 605, 606, 607, 608, 609, 610, 611, 612, 613, 614, 615, 616, 617, 618, 619, 620, 621, 622, 623, 624, 625, 626, 627, 628, 629, 630, 631, 632, 633, 634, 635, 636, 637, 643, 644, 645, 646, 647, 663, 664, 665, 666, 667, 668, 669, 670, 671, 672, 673, 674, 675, 676, 677, 678, 679, 680, 681, 682, 683, 684, 685, 686, 687, 688, 689, 690, 691, 692, 693, 694, 695, 696, 697, 698, 699, 700, 701, 702, 703, 704, 705, 706, 707, 708, 709, 710, 711, 712, 713, 714, 715, 716, 717, 723, 724, 725, 726, 727, 728, 745, 746, 747, 748, 749, 750, 751, 752, 753, 754, 755, 756, 757, 758, 759, 760, 761, 762, 763, 764, 765, 766, 767, 768, 769, 770, 771, 772, 773, 774, 775, 776, 777, 778, 779, 780, 781, 782, 783, 784, 785, 786, 787, 788, 789, 790, 791, 792, 793, 794, 795, 796, 797, 803, 804, 805, 806, 807, 808, 809, 827, 828, 829, 830, 831, 832, 833, 834, 835, 836, 837, 838, 839, 840, 841, 842, 843, 844, 845, 846, 847, 848, 849, 850, 851, 852, 853, 854, 855, 856, 857, 858, 859, 860, 861, 862, 863, 864, 865, 866, 867, 868, 869, 870, 871, 872, 873, 874, 875, 876, 877, 883, 884, 885, 886, 887, 888, 889, 890, 891, 909, 910, 911, 912, 913, 914, 915, 916, 917, 918, 919, 920, 921, 922, 923, 924, 925, 926, 927, 928, 929, 930, 931, 932, 933, 934, 935, 936, 937, 938, 939, 940, 941, 942, 943, 944, 945, 946, 947, 948, 949, 950, 951, 952, 953, 954, 955, 956, 957, 963, 964, 965, 966, 967, 968, 969, 970, 971, 972, 973, 990, 991, 992, 993, 994, 995, 996, 997, 998, 999, 1000, 1001, 1002, 1003, 1004, 1005, 1006, 1007, 1008, 1009, 1010, 1011, 1012, 1013, 1014, 1015, 1016, 1017, 1018, 1019, 1020, 1021, 1022, 1023, 1024, 1025, 1026, 1027, 1028, 1029, 1030, 1031, 1032, 1033, 1034, 1035, 1036, 1037, 1038, 1042, 1043, 1044, 1045, 1046, 1047, 1048, 1049, 1050, 1051, 1052, 1053, 1054, 1055, 1056, 1072, 1073, 1074, 1075, 1076, 1077, 1078, 1079, 1080, 1081, 1082, 1083, 1084, 1085, 1086, 1087, 1088, 1089, 1090, 1091, 1092, 1093, 1094, 1095, 1096, 1097, 1098, 1099, 1100, 1101, 1102, 1103, 1104, 1105, 1106, 1107, 1108, 1109, 1110, 1111, 1112, 1113, 1114, 1115, 1116, 1117, 1118, 1122, 1123, 1124, 1125, 1126, 1127, 1128, 1129, 1130, 1131, 1132, 1133, 1134, 1135, 1136, 1137, 1138, 1154, 1155, 1156, 1157, 1158, 1159, 1160, 1161, 1162, 1163, 1164, 1165, 1166, 1167, 1168, 1169, 1170, 1171, 1172, 1173, 1174, 1175, 1176, 1177, 1178, 1179, 1180, 1181, 1182, 1183, 1184, 1185, 1186, 1187, 1188, 1189, 1190, 1191, 1192, 1193, 1194, 1195, 1196, 1197, 1198, 1202, 1203, 1204, 1205, 1206, 1207, 1208, 1209, 1210, 1211, 1212, 1213, 1214, 1215, 1216, 1217, 1218, 1219, 1220, 1236, 1237, 1238, 1239, 1240, 1241, 1242, 1243, 1244, 1245, 1246, 1247, 1248, 1249, 1250, 1251, 1252, 1253, 1254, 1255, 1256, 1257, 1258, 1259, 1260, 1261, 1262, 1263, 1264, 1265, 1266, 1267, 1268, 1269, 1270, 1271, 1272, 1273, 1274, 1275, 1276, 1277, 1278, 1282, 1283, 1284, 1285, 1286, 1287, 1288, 1289, 1290, 1291, 1292, 1293, 1294, 1295, 1296, 1297, 1298, 1299, 1300, 1301, 1302, 1303, 1317, 1318, 1319, 1320, 1321, 1322, 1323, 1324, 1325, 1326, 1327, 1328, 1329, 1330, 1331, 1332, 1333, 1334, 1335, 1336, 1337, 1338, 1339, 1340, 1341, 1342, 1343, 1344, 1345, 1346, 1347, 1348, 1349, 1350, 1351, 1352, 1353, 1354, 1355, 1356, 1357, 1358, 1362, 1363, 1364, 1365, 1366, 1367, 1368, 1369, 1370, 1371, 1372, 1373, 1374, 1375, 1376, 1377, 1378, 1379, 1380, 1381, 1382, 1383, 1384, 1385, 1399, 1400, 1401, 1402, 1403, 1404, 1405, 1406, 1407, 1408, 1409, 1410, 1411, 1412, 1413, 1414, 1415, 1416, 1417, 1418, 1419, 1420, 1421, 1422, 1423, 1424, 1425, 1426, 1427, 1428, 1429, 1430, 1431, 1432, 1433, 1434, 1435, 1436, 1437, 1438, 1442, 1443, 1444, 1445, 1446, 1447, 1448, 1449, 1450, 1451, 1452, 1453, 1454, 1455, 1456, 1457, 1458, 1459, 1460, 1461, 1462, 1463, 1464, 1465, 1466, 1467, 1468, 1481, 1482, 1483, 1484, 1485, 1486, 1487, 1488, 1489, 1490, 1491, 1492, 1493, 1494, 1495, 1496, 1497, 1498, 1499, 1500, 1501, 1502, 1503, 1504, 1505, 1506, 1507, 1508, 1509, 1510, 1511, 1512, 1513, 1514, 1515, 1516, 1517, 1518, 1522, 1523, 1524, 1525, 1526, 1527, 1528, 1529, 1530, 1531, 1532, 1533, 1534, 1535, 1536, 1537, 1538, 1539, 1540, 1541, 1542, 1543, 1544, 1545, 1546, 1547, 1548, 1549, 1550, 1563, 1564, 1565, 1566, 1567, 1568, 1569, 1570, 1571, 1572, 1573, 1574, 1575, 1576, 1577, 1578, 1579, 1580, 1581, 1582, 1583, 1584, 1585, 1586, 1587, 1588, 1589, 1590, 1591, 1592, 1593, 1594, 1595, 1596, 1597, 1598, 1602, 1603, 1604, 1605, 1606, 1607, 1608, 1609, 1610, 1611, 1612, 1613, 1614, 1615, 1616, 1617, 1618, 1619, 1620, 1621, 1622, 1623, 1624, 1625, 1626, 1627, 1628, 1629, 1630, 1631, 1632, 1645, 1646, 1647, 1648, 1649, 1650, 1651, 1652, 1653, 1654, 1655, 1656, 1657, 1658, 1659, 1660, 1661, 1662, 1663, 1664, 1665, 1666, 1667, 1668, 1669, 1670, 1671, 1672, 1673, 1674, 1675, 1676, 1677, 1678, 1682, 1683, 1684, 1685, 1686, 1687, 1688, 1689, 1690, 1691, 1692, 1693, 1694, 1695, 1696, 1697, 1698, 1699, 1700, 1701, 1702, 1703, 1704, 1705, 1706, 1707, 1708, 1709, 1710, 1711, 1712, 1713, 1714, 1715, 1726, 1727, 1728, 1729, 1730, 1731, 1732, 1733, 1734, 1735, 1736, 1737, 1738, 1739, 1740, 1741, 1742, 1743, 1744, 1745, 1746, 1747, 1748, 1749, 1750, 1751, 1752, 1753, 1754, 1755, 1756, 1757, 1758, 1762, 1763, 1764, 1765, 1766, 1767, 1768, 1769, 1770, 1771, 1772, 1773, 1774, 1775, 1776, 1777, 1778, 1779, 1780, 1781, 1782, 1783, 1784, 1785, 1786, 1787, 1788, 1789, 1790, 1791, 1792, 1793, 1794, 1795, 1796, 1797, 1808, 1809, 1810, 1811, 1812, 1813, 1814, 1815, 1816, 1817, 1818, 1819, 1820, 1821, 1822, 1823, 1824, 1825, 1826, 1827, 1828, 1829, 1830, 1831, 1832, 1833, 1834, 1835, 1836, 1837, 1838, 1842, 1843, 1844, 1845, 1846, 1847, 1848, 1849, 1850, 1851, 1852, 1853, 1854, 1855, 1856, 1857, 1858, 1859, 1860, 1861, 1862, 1863, 1864, 1865, 1866, 1867, 1868, 1869, 1870, 1871, 1872, 1873, 1874, 1875, 1876, 1877, 1878, 1879, 1890, 1891, 1892, 1893, 1894, 1895, 1896, 1897, 1898, 1899, 1900, 1901, 1902, 1903, 1904, 1905, 1906, 1907, 1908, 1909, 1910, 1911, 1912, 1913, 1914, 1915, 1916, 1917, 1918, 1922, 1923, 1924, 1925, 1926, 1927, 1928, 1929, 1930, 1931, 1932, 1933, 1934, 1935, 1936, 1937, 1938, 1939, 1940, 1941, 1942, 1943, 1944, 1945, 1946, 1947, 1948, 1949, 1950, 1951, 1952, 1953, 1954, 1955, 1956, 1957, 1958, 1959, 1960, 1961, 1962, 1972, 1973, 1974, 1975, 1976, 1977, 1978, 1979, 1980, 1981, 1982, 1983, 1984, 1985, 1986, 1987, 1988, 1989, 1990, 1991, 1992, 1993, 1994, 1995, 1996, 1997, 1998, 2002, 2003, 2004, 2005, 2006, 2007, 2008, 2009, 2010, 2011, 2012, 2013, 2014, 2015, 2016, 2017, 2018, 2019, 2020, 2021, 2022, 2023, 2024, 2025, 2026, 2027, 2028, 2029, 2030, 2031, 2032, 2033, 2034, 2035, 2036, 2037, 2038, 2039, 2040, 2041, 2042, 2043, 2044, 2054, 2055, 2056, 2057, 2058, 2059, 2060, 2061, 2062, 2063, 2064, 2065, 2066, 2067, 2068, 2069, 2070, 2071, 2072, 2073, 2074, 2075, 2076, 2077, 2078, 2082, 2083, 2084, 2085, 2086, 2087, 2088, 2089, 2090, 2091, 2092, 2093, 2094, 2095, 2096, 2097, 2098, 2099, 2100, 2101, 2102, 2103, 2104, 2105, 2106, 2107, 2108, 2109, 2110, 2111, 2112, 2113, 2114, 2115, 2116, 2117, 2118, 2119, 2120, 2121, 2122, 2123, 2124, 2125, 2126, 2135, 2136, 2137, 2138, 2139, 2140, 2141, 2142, 2143, 2144, 2145, 2146, 2147, 2148, 2149, 2150, 2151, 2152, 2153, 2154, 2155, 2156, 2157, 2158, 2159, 2161, 2162, 2163, 2164, 2165, 2166, 2167, 2168, 2169, 2170, 2171, 2172, 2173, 2174, 2175, 2176, 2177, 2178, 2179, 2180, 2181, 2182, 2183, 2184, 2185, 2186, 2187, 2188, 2189, 2190, 2191, 2192, 2193, 2194, 2195, 2196, 2197, 2198, 2199, 2200, 2201, 2202, 2203, 2204, 2205, 2206, 2207, 2208, 2209, 2217, 2218, 2219, 2220, 2221, 2222, 2223, 2224, 2225, 2226, 2227, 2228, 2229, 2230, 2231, 2232, 2233, 2234, 2235, 2236, 2237, 2238, 2239, 2241, 2242, 2243, 2244, 2245, 2246, 2247, 2248, 2249, 2250, 2251, 2252, 2253, 2254, 2255, 2256, 2257, 2258, 2259, 2260, 2261, 2262, 2263, 2264, 2265, 2266, 2267, 2268, 2269, 2270, 2271, 2272, 2273, 2274, 2275, 2276, 2277, 2278, 2279, 2280, 2281, 2282, 2283, 2284, 2285, 2286, 2287, 2288, 2289, 2290, 2291, 2299, 2300, 2301, 2302, 2303, 2304, 2305, 2306, 2307, 2308, 2309, 2310, 2311, 2312, 2313, 2314, 2315, 2316, 2317, 2318, 2319, 2321, 2322, 2323, 2324, 2325, 2326, 2327, 2328, 2329, 2330, 2331, 2332, 2333, 2334, 2335, 2336, 2337, 2338, 2339, 2340, 2341, 2342, 2343, 2344, 2345, 2346, 2347, 2348, 2349, 2350, 2351, 2352, 2353, 2354, 2355, 2356, 2357, 2358, 2359, 2360, 2361, 2362, 2363, 2364, 2365, 2366, 2367, 2368, 2369, 2370, 2371, 2372, 2373, 2374, 2381, 2382, 2383, 2384, 2385, 2386, 2387, 2388, 2389, 2390, 2391, 2392, 2393, 2394, 2395, 2396, 2397, 2398, 2399, 2401, 2402, 2403, 2404, 2405, 2406, 2407, 2408, 2409, 2410, 2411, 2412, 2413, 2414, 2415, 2416, 2417, 2418, 2419, 2420, 2421, 2422, 2423, 2424, 2425, 2426, 2427, 2428, 2429, 2430, 2431, 2432, 2433, 2434, 2435, 2436, 2437, 2438, 2439, 2440, 2441, 2442, 2443, 2444, 2445, 2446, 2447, 2448, 2449, 2450, 2451, 2452, 2453, 2454, 2455, 2456, 2463, 2464, 2465, 2466, 2467, 2468, 2469, 2470, 2471, 2472, 2473, 2474, 2475, 2476, 2477, 2478, 2479, 2481, 2482, 2483, 2484, 2485, 2486, 2487, 2488, 2489, 2490, 2491, 2492, 2493, 2494, 2495, 2496, 2497, 2498, 2499, 2500, 2501, 2502, 2503, 2504, 2505, 2506, 2507, 2508, 2509, 2510, 2511, 2512, 2513, 2514, 2515, 2516, 2517, 2518, 2519, 2520, 2521, 2522, 2523, 2524, 2525, 2526, 2527, 2528, 2529, 2530, 2531, 2532, 2533, 2534, 2535, 2536, 2537, 2538, 2544, 2545, 2546, 2547, 2548, 2549, 2550, 2551, 2552, 2553, 2554, 2555, 2556, 2557, 2558, 2559, 2561, 2562, 2563, 2564, 2565, 2566, 2567, 2568, 2569, 2570, 2571, 2572, 2573, 2574, 2575, 2576, 2577, 2578, 2579, 2580, 2581, 2582, 2583, 2584, 2585, 2586, 2587, 2588, 2589, 2590, 2591, 2592, 2593, 2594, 2595, 2596, 2597, 2598, 2599, 2600, 2601, 2602, 2603, 2604, 2605, 2606, 2607, 2608, 2609, 2610, 2611, 2612, 2613, 2614, 2615, 2616, 2617, 2618, 2619, 2620, 2621, 2626, 2627, 2628, 2629, 2630, 2631, 2632, 2633, 2634, 2635, 2636, 2637, 2638, 2639, 2641, 2642, 2643, 2644, 2645, 2646, 2647, 2648, 2649, 2650, 2651, 2652, 2653, 2654, 2655, 2656, 2657, 2658, 2659, 2660, 2661, 2662, 2663, 2664, 2665, 2666, 2667, 2668, 2669, 2670, 2671, 2672, 2673, 2674, 2675, 2676, 2677, 2678, 2679, 2680, 2681, 2682, 2683, 2684, 2685, 2686, 2687, 2688, 2689, 2690, 2691, 2692, 2693, 2694, 2695, 2696, 2697, 2698, 2699, 2700, 2701, 2702, 2703, 2708, 2709, 2710, 2711, 2712, 2713, 2714, 2715, 2716, 2717, 2718, 2719, 2721, 2722, 2723, 2724, 2725, 2726, 2727, 2728, 2729, 2730, 2731, 2732, 2733, 2734, 2735, 2736, 2737, 2738, 2739, 2740, 2741, 2742, 2743, 2744, 2745, 2746, 2747, 2748, 2749, 2750, 2751, 2752, 2753, 2754, 2755, 2756, 2757, 2758, 2759, 2760, 2761, 2762, 2763, 2764, 2765, 2766, 2767, 2768, 2769, 2770, 2771, 2772, 2773, 2774, 2775, 2776, 2777, 2778, 2779, 2780, 2781, 2782, 2783, 2784, 2785, 2790, 2791, 2792, 2793, 2794, 2795, 2796, 2797, 2798, 2799, 2801, 2802, 2803, 2804, 2805, 2806, 2807, 2808, 2809, 2810, 2811, 2812, 2813, 2814, 2815, 2816, 2817, 2818, 2819, 2820, 2821, 2822, 2823, 2824, 2825, 2826, 2827, 2828, 2829, 2830, 2831, 2832, 2833, 2834, 2835, 2836, 2837, 2838, 2839, 2840, 2841, 2842, 2843, 2844, 2845, 2846, 2847, 2848, 2849, 2850, 2851, 2852, 2853, 2854, 2855, 2856, 2857, 2858, 2859, 2860, 2861, 2862, 2863, 2864, 2865, 2866, 2867, 2868, 2872, 2873, 2874, 2875, 2876, 2877, 2878, 2879, 2881, 2882, 2883, 2884, 2885, 2886, 2887, 2888, 2889, 2890, 2891, 2892, 2893, 2894, 2895, 2896, 2897, 2898, 2899, 2900, 2901, 2902, 2903, 2904, 2905, 2906, 2907, 2908, 2909, 2910, 2911, 2912, 2913, 2914, 2915, 2916, 2917, 2918, 2919, 2920, 2921, 2922, 2923, 2924, 2925, 2926, 2927, 2928, 2929, 2930, 2931, 2932, 2933, 2934, 2935, 2936, 2937, 2938, 2939, 2940, 2941, 2942, 2943, 2944, 2945, 2946, 2947, 2948, 2949, 2950, 2953, 2954, 2955, 2956, 2957, 2958, 2959, 2961, 2962, 2963, 2964, 2965, 2966, 2967, 2968, 2969, 2970, 2971, 2972, 2973, 2974, 2975, 2976, 2977, 2978, 2979, 2980, 2981, 2982, 2983, 2984, 2985, 2986, 2987, 2988, 2989, 2990, 2991, 2992, 2993, 2994, 2995, 2996, 2997, 2998, 2999, 3000, 3001, 3002, 3003, 3004, 3005, 3006, 3007, 3008, 3009, 3010, 3011, 3012, 3013, 3014, 3015, 3016, 3017, 3018, 3019, 3020, 3021, 3022, 3023, 3024, 3025, 3026, 3027, 3028, 3029, 3030, 3031, 3032, 3035, 3036, 3037, 3038, 3039, 3041, 3042, 3043, 3044, 3045, 3046, 3047, 3048, 3049, 3050, 3051, 3052, 3053, 3054, 3055, 3056, 3057, 3058, 3059, 3060, 3061, 3062, 3063, 3064, 3065, 3066, 3067, 3068, 3069, 3070, 3071, 3072, 3073, 3074, 3075, 3076, 3077, 3078, 3079, 3080, 3081, 3082, 3083, 3084, 3085, 3086, 3087, 3088, 3089, 3090, 3091, 3092, 3093, 3094, 3095, 3096, 3097, 3098, 3099, 3100, 3101, 3102, 3103, 3104, 3105, 3106, 3107, 3108, 3109, 3110, 3111, 3112, 3113, 3114, 3115, 3117, 3118, 3119, 3121, 3122, 3123, 3124, 3125, 3126, 3127, 3128, 3129, 3130, 3131, 3132, 3133, 3134, 3135, 3136, 3137, 3138, 3139, 3140, 3141, 3142, 3143, 3144, 3145, 3146, 3147, 3148, 3149, 3150, 3151, 3152, 3153, 3154, 3155, 3156, 3157, 3158, 3159, 3160, 3161, 3162, 3163, 3164, 3165, 3166, 3167, 3168, 3169, 3170, 3171, 3172, 3173, 3174, 3175, 3176, 3177, 3178, 3179, 3180, 3181, 3182, 3183, 3184, 3185, 3186, 3187, 3188, 3189, 3190, 3191, 3192, 3193, 3194, 3195, 3196, 3197, 3199, 3201, 3202, 3203, 3204, 3205, 3206, 3207, 3208, 3209, 3210, 3211, 3212, 3213, 3214, 3215, 3216, 3217, 3218, 3219, 3220, 3221, 3222, 3223, 3224, 3225, 3226, 3227, 3228, 3229, 3230, 3231, 3232, 3233, 3234, 3235, 3236, 3237, 3238, 3239, 3240, 3241, 3242, 3243, 3244, 3245, 3246, 3247, 3248, 3249, 3250, 3251, 3252, 3253, 3254, 3255, 3256, 3257, 3258, 3259, 3260, 3261, 3262, 3263, 3264, 3265, 3266, 3267, 3268, 3269, 3270, 3271, 3272, 3273, 3274, 3275, 3276, 3277, 3278, 3279, 3281, 3282, 3283, 3284, 3285, 3286, 3287, 3288, 3289, 3290, 3291, 3292, 3293, 3294, 3295, 3296, 3297, 3298, 3299, 3300, 3301, 3302, 3303, 3304, 3305, 3306, 3307, 3308, 3309, 3310, 3311, 3312, 3313, 3314, 3315, 3316, 3317, 3318, 3319, 3320, 3321, 3322, 3323, 3324, 3325, 3326, 3327, 3328, 3329, 3330, 3331, 3332, 3333, 3334, 3335, 3336, 3337, 3338, 3339, 3340, 3341, 3342, 3343, 3344, 3345, 3346, 3347, 3348, 3349, 3350, 3351, 3352, 3353, 3354, 3355, 3356, 3357, 3358, 3359, 3361, 3363, 3364, 3365, 3366, 3367, 3368, 3369, 3370, 3371, 3372, 3373, 3374, 3375, 3376, 3377, 3378, 3379, 3380, 3381, 3382, 3383, 3384, 3385, 3386, 3387, 3388, 3389, 3390, 3391, 3392, 3393, 3394, 3395, 3396, 3397, 3398, 3399, 3400, 3401, 3402, 3403, 3404, 3405, 3406, 3407, 3408, 3409, 3410, 3411, 3412, 3413, 3414, 3415, 3416, 3417, 3418, 3419, 3420, 3421, 3422, 3423, 3424, 3425, 3426, 3427, 3428, 3429, 3430, 3431, 3432, 3433, 3434, 3435, 3436, 3437, 3438, 3439, 3441, 3442, 3443, 3445, 3446, 3447, 3448, 3449, 3450, 3451, 3452, 3453, 3454, 3455, 3456, 3457, 3458, 3459, 3460, 3461, 3462, 3463, 3464, 3465, 3466, 3467, 3468, 3469, 3470, 3471, 3472, 3473, 3474, 3475, 3476, 3477, 3478, 3479, 3480, 3481, 3482, 3483, 3484, 3485, 3486, 3487, 3488, 3489, 3490, 3491, 3492, 3493, 3494, 3495, 3496, 3497, 3498, 3499, 3500, 3501, 3502, 3503, 3504, 3505, 3506, 3507, 3508, 3509, 3510, 3511, 3512, 3513, 3514, 3515, 3516, 3517, 3518, 3519, 3521, 3522, 3523, 3524, 3525, 3528, 3529, 3530, 3531, 3532, 3533, 3534, 3535, 3536, 3537, 3538, 3539, 3540, 3541, 3542, 3543, 3544, 3545, 3546, 3547, 3548, 3549, 3550, 3551, 3552, 3553, 3554, 3555, 3556, 3557, 3558, 3559, 3560, 3561, 3562, 3563, 3564, 3565, 3566, 3567, 3568, 3569, 3570, 3571, 3572, 3573, 3574, 3575, 3576, 3577, 3578, 3579, 3580, 3581, 3582, 3583, 3584, 3585, 3586, 3587, 3588, 3589, 3590, 3591, 3592, 3593, 3594, 3595, 3596, 3597, 3598, 3599, 3601, 3602, 3603, 3604, 3605, 3606, 3607, 3610, 3611, 3612, 3613, 3614, 3615, 3616, 3617, 3618, 3619, 3620, 3621, 3622, 3623, 3624, 3625, 3626, 3627, 3628, 3629, 3630, 3631, 3632, 3633, 3634, 3635, 3636, 3637, 3638, 3639, 3640, 3641, 3642, 3643, 3644, 3645, 3646, 3647, 3648, 3649, 3650, 3651, 3652, 3653, 3654, 3655, 3656, 3657, 3658, 3659, 3660, 3661, 3662, 3663, 3664, 3665, 3666, 3667, 3668, 3669, 3670, 3671, 3672, 3673, 3674, 3675, 3676, 3677, 3678, 3679, 3681, 3682, 3683, 3684, 3685, 3686, 3687, 3688, 3692, 3693, 3694, 3695, 3696, 3697, 3698, 3699, 3700, 3701, 3702, 3703, 3704, 3705, 3706, 3707, 3708, 3709, 3710, 3711, 3712, 3713, 3714, 3715, 3716, 3717, 3718, 3719, 3720, 3721, 3722, 3723, 3724, 3725, 3726, 3727, 3728, 3729, 3730, 3731, 3732, 3733, 3734, 3735, 3736, 3737, 3738, 3739, 3740, 3741, 3742, 3743, 3744, 3745, 3746, 3747, 3748, 3749, 3750, 3751, 3752, 3753, 3754, 3755, 3756, 3757, 3758, 3759, 3761, 3762, 3763, 3764, 3765, 3766, 3767, 3768, 3769, 3770, 3775, 3776, 3777, 3778, 3779, 3780, 3781, 3782, 3783, 3784, 3785, 3786, 3787, 3788, 3789, 3790, 3791, 3792, 3793, 3794, 3795, 3796, 3797, 3798, 3799, 3800, 3801, 3802, 3803, 3804, 3805, 3806, 3807, 3808, 3809, 3810, 3811, 3812, 3813, 3814, 3815, 3816, 3817, 3818, 3819, 3820, 3821, 3822, 3823, 3824, 3825, 3826, 3827, 3828, 3829, 3830, 3831, 3832, 3833, 3834, 3835, 3836, 3837, 3838, 3839, 3841, 3842, 3843, 3844, 3845, 3846, 3847, 3848, 3849, 3850, 3851, 3852, 3857, 3858, 3859, 3860, 3861, 3862, 3863, 3864, 3865, 3866, 3867, 3868, 3869, 3870, 3871, 3872, 3873, 3874, 3875, 3876, 3877, 3878, 3879, 3880, 3881, 3882, 3883, 3884, 3885, 3886, 3887, 3888, 3889, 3890, 3891, 3892, 3893, 3894, 3895, 3896, 3897, 3898, 3899, 3900, 3901, 3902, 3903, 3904, 3905, 3906, 3907, 3908, 3909, 3910, 3911, 3912, 3913, 3914, 3915, 3916, 3917, 3918, 3919, 3921, 3922, 3923, 3924, 3925, 3926, 3927, 3928, 3929, 3930, 3931, 3932, 3933, 3934, 3939, 3940, 3941, 3942, 3943, 3944, 3945, 3946, 3947, 3948, 3949, 3950, 3951, 3952, 3953, 3954, 3955, 3956, 3957, 3958, 3959, 3960, 3961, 3962, 3963, 3964, 3965, 3966, 3967, 3968, 3969, 3970, 3971, 3972, 3973, 3974, 3975, 3976, 3977, 3978, 3979, 3980, 3981, 3982, 3983, 3984, 3985, 3986, 3987, 3988, 3989, 3990, 3991, 3992, 3993, 3994, 3995, 3996, 3997, 3998, 3999, 4001, 4002, 4003, 4004, 4005, 4006, 4007, 4008, 4009, 4010, 4011, 4012, 4013, 4014, 4015, 4016, 4022, 4023, 4024, 4025, 4026, 4027, 4028, 4029, 4030, 4031, 4032, 4033, 4034, 4035, 4036, 4037, 4038, 4039, 4040, 4041, 4042, 4043, 4044, 4045, 4046, 4047, 4048, 4049, 4050, 4051, 4052, 4053, 4054, 4055, 4056, 4057, 4058, 4059, 4060, 4061, 4062, 4063, 4064, 4065, 4066, 4067, 4068, 4069, 4070, 4071, 4072, 4073, 4074, 4075, 4076, 4077, 4078, 4079, 4081, 4082, 4083, 4084, 4085, 4086, 4087, 4088, 4089, 4090, 4091, 4092, 4093, 4094, 4095, 4096, 4097, 4104, 4105, 4106, 4107, 4108, 4109, 4110, 4111, 4112, 4113, 4114, 4115, 4116, 4117, 4118, 4119, 4120, 4121, 4122, 4123, 4124, 4125, 4126, 4127, 4128, 4129, 4130, 4131, 4132, 4133, 4134, 4135, 4136, 4137, 4138, 4139, 4140, 4141, 4142, 4143, 4144, 4145, 4146, 4147, 4148, 4149, 4150, 4151, 4152, 4153, 4154, 4155, 4156, 4157, 4158, 4159, 4161, 4162, 4163, 4164, 4165, 4166, 4167, 4168, 4169, 4170, 4171, 4172, 4173, 4174, 4175, 4176, 4177, 4178, 4179, 4186, 4187, 4188, 4189, 4190, 4191, 4192, 4193, 4194, 4195, 4196, 4197, 4198, 4199, 4200, 4201, 4202, 4203, 4204, 4205, 4206, 4207, 4208, 4209, 4210, 4211, 4212, 4213, 4214, 4215, 4216, 4217, 4218, 4219, 4220, 4221, 4222, 4223, 4224, 4225, 4226, 4227, 4228, 4229, 4230, 4231, 4232, 4233, 4234, 4235, 4236, 4237, 4238, 4239, 4241, 4242, 4243, 4244, 4245, 4246, 4247, 4248, 4249, 4250, 4251, 4252, 4253, 4254, 4255, 4256, 4257, 4258, 4259, 4260, 4261, 4269, 4270, 4271, 4272, 4273, 4274, 4275, 4276, 4277, 4278, 4279, 4280, 4281, 4282, 4283, 4284, 4285, 4286, 4287, 4288, 4289, 4290, 4291, 4292, 4293, 4294, 4295, 4296, 4297, 4298, 4299, 4300, 4301, 4302, 4303, 4304, 4305, 4306, 4307, 4308, 4309, 4310, 4311, 4312, 4313, 4314, 4315, 4316, 4317, 4318, 4319, 4321, 4322, 4323, 4324, 4325, 4326, 4327, 4328, 4329, 4330, 4331, 4332, 4333, 4334, 4335, 4336, 4337, 4338, 4339, 4340, 4341, 4342, 4343, 4351, 4352, 4353, 4354, 4355, 4356, 4357, 4358, 4359, 4360, 4361, 4362, 4363, 4364, 4365, 4366, 4367, 4368, 4369, 4370, 4371, 4372, 4373, 4374, 4375, 4376, 4377, 4378, 4379, 4380, 4381, 4382, 4383, 4384, 4385, 4386, 4387, 4388, 4389, 4390, 4391, 4392, 4393, 4394, 4395, 4396, 4397, 4398, 4399, 4401, 4402, 4403, 4404, 4405, 4406, 4407, 4408, 4409, 4410, 4411, 4412, 4413, 4414, 4415, 4416, 4417, 4418, 4419, 4420, 4421, 4422, 4423, 4424, 4425, 4434, 4435, 4436, 4437, 4438, 4439, 4440, 4441, 4442, 4443, 4444, 4445, 4446, 4447, 4448, 4449, 4450, 4451, 4452, 4453, 4454, 4455, 4456, 4457, 4458, 4459, 4460, 4461, 4462, 4463, 4464, 4465, 4466, 4467, 4468, 4469, 4470, 4471, 4472, 4473, 4474, 4475, 4476, 4477, 4478, 4482, 4483, 4484, 4485, 4486, 4487, 4488, 4489, 4490, 4491, 4492, 4493, 4494, 4495, 4496, 4497, 4498, 4499, 4500, 4501, 4502, 4503, 4504, 4505, 4506, 4516, 4517, 4518, 4519, 4520, 4521, 4522, 4523, 4524, 4525, 4526, 4527, 4528, 4529, 4530, 4531, 4532, 4533, 4534, 4535, 4536, 4537, 4538, 4539, 4540, 4541, 4542, 4543, 4544, 4545, 4546, 4547, 4548, 4549, 4550, 4551, 4552, 4553, 4554, 4555, 4556, 4557, 4558, 4562, 4563, 4564, 4565, 4566, 4567, 4568, 4569, 4570, 4571, 4572, 4573, 4574, 4575, 4576, 4577, 4578, 4579, 4580, 4581, 4582, 4583, 4584, 4585, 4586, 4587, 4588, 4598, 4599, 4600, 4601, 4602, 4603, 4604, 4605, 4606, 4607, 4608, 4609, 4610, 4611, 4612, 4613, 4614, 4615, 4616, 4617, 4618, 4619, 4620, 4621, 4622, 4623, 4624, 4625, 4626, 4627, 4628, 4629, 4630, 4631, 4632, 4633, 4634, 4635, 4636, 4637, 4638, 4642, 4643, 4644, 4645, 4646, 4647, 4648, 4649, 4650, 4651, 4652, 4653, 4654, 4655, 4656, 4657, 4658, 4659, 4660, 4661, 4662, 4663, 4664, 4665, 4666, 4667, 4668, 4669, 4670, 4681, 4682, 4683, 4684, 4685, 4686, 4687, 4688, 4689, 4690, 4691, 4692, 4693, 4694, 4695, 4696, 4697, 4698, 4699, 4700, 4701, 4702, 4703, 4704, 4705, 4706, 4707, 4708, 4709, 4710, 4711, 4712, 4713, 4714, 4715, 4716, 4717, 4718, 4722, 4723, 4724, 4725, 4726, 4727, 4728, 4729, 4730, 4731, 4732, 4733, 4734, 4735, 4736, 4737, 4738, 4739, 4740, 4741, 4742, 4743, 4744, 4745, 4746, 4747, 4748, 4749, 4750, 4751, 4752, 4763, 4764, 4765, 4766, 4767, 4768, 4769, 4770, 4771, 4772, 4773, 4774, 4775, 4776, 4777, 4778, 4779, 4780, 4781, 4782, 4783, 4784, 4785, 4786, 4787, 4788, 4789, 4790, 4791, 4792, 4793, 4794, 4795, 4796, 4797, 4798, 4802, 4803, 4804, 4805, 4806, 4807, 4808, 4809, 4810, 4811, 4812, 4813, 4814, 4815, 4816, 4817, 4818, 4819, 4820, 4821, 4822, 4823, 4824, 4825, 4826, 4827, 4828, 4829, 4830, 4831, 4832, 4833, 4834, 4845, 4846, 4847, 4848, 4849, 4850, 4851, 4852, 4853, 4854, 4855, 4856, 4857, 4858, 4859, 4860, 4861, 4862, 4863, 4864, 4865, 4866, 4867, 4868, 4869, 4870, 4871, 4872, 4873, 4874, 4875, 4876, 4877, 4878, 4882, 4883, 4884, 4885, 4886, 4887, 4888, 4889, 4890, 4891, 4892, 4893, 4894, 4895, 4896, 4897, 4898, 4899, 4900, 4901, 4902, 4903, 4904, 4905, 4906, 4907, 4908, 4909, 4910, 4911, 4912, 4913, 4914, 4915, 4928, 4929, 4930, 4931, 4932, 4933, 4934, 4935, 4936, 4937, 4938, 4939, 4940, 4941, 4942, 4943, 4944, 4945, 4946, 4947, 4948, 4949, 4950, 4951, 4952, 4953, 4954, 4955, 4956, 4957, 4958, 4962, 4963, 4964, 4965, 4966, 4967, 4968, 4969, 4970, 4971, 4972, 4973, 4974, 4975, 4976, 4977, 4978, 4979, 4980, 4981, 4982, 4983, 4984, 4985, 4986, 4987, 4988, 4989, 4990, 4991, 4992, 4993, 4994, 4995, 4996, 4997, 5010, 5011, 5012, 5013, 5014, 5015, 5016, 5017, 5018, 5019, 5020, 5021, 5022, 5023, 5024, 5025, 5026, 5027, 5028, 5029, 5030, 5031, 5032, 5033, 5034, 5035, 5036, 5037, 5038, 5042, 5043, 5044, 5045, 5046, 5047, 5048, 5049, 5050, 5051, 5052, 5053, 5054, 5055, 5056, 5057, 5058, 5059, 5060, 5061, 5062, 5063, 5064, 5065, 5066, 5067, 5068, 5069, 5070, 5071, 5072, 5073, 5074, 5075, 5076, 5077, 5078, 5079, 5092, 5093, 5094, 5095, 5096, 5097, 5098, 5099, 5100, 5101, 5102, 5103, 5104, 5105, 5106, 5107, 5108, 5109, 5110, 5111, 5112, 5113, 5114, 5115, 5116, 5117, 5118, 5122, 5123, 5124, 5125, 5126, 5127, 5128, 5129, 5130, 5131, 5132, 5133, 5134, 5135, 5136, 5137, 5138, 5139, 5140, 5141, 5142, 5143, 5144, 5145, 5146, 5147, 5148, 5149, 5150, 5151, 5152, 5153, 5154, 5155, 5156, 5157, 5158, 5159, 5160, 5161, 5175, 5176, 5177, 5178, 5179, 5180, 5181, 5182, 5183, 5184, 5185, 5186, 5187, 5188, 5189, 5190, 5191, 5192, 5193, 5194, 5195, 5196, 5197, 5198, 5202, 5203, 5204, 5205, 5206, 5207, 5208, 5209, 5210, 5211, 5212, 5213, 5214, 5215, 5216, 5217, 5218, 5219, 5220, 5221, 5222, 5223, 5224, 5225, 5226, 5227, 5228, 5229, 5230, 5231, 5232, 5233, 5234, 5235, 5236, 5237, 5238, 5239, 5240, 5241, 5242, 5243, 5257, 5258, 5259, 5260, 5261, 5262, 5263, 5264, 5265, 5266, 5267, 5268, 5269, 5270, 5271, 5272, 5273, 5274, 5275, 5276, 5277, 5278, 5282, 5283, 5284, 5285, 5286, 5287, 5288, 5289, 5290, 5291, 5292, 5293, 5294, 5295, 5296, 5297, 5298, 5299, 5300, 5301, 5302, 5303, 5304, 5305, 5306, 5307, 5308, 5309, 5310, 5311, 5312, 5313, 5314, 5315, 5316, 5317, 5318, 5319, 5320, 5321, 5322, 5323, 5324, 5340, 5341, 5342, 5343, 5344, 5345, 5346, 5347, 5348, 5349, 5350, 5351, 5352, 5353, 5354, 5355, 5356, 5357, 5358, 5362, 5363, 5364, 5365, 5366, 5367, 5368, 5369, 5370, 5371, 5372, 5373, 5374, 5375, 5376, 5377, 5378, 5379, 5380, 5381, 5382, 5383, 5384, 5385, 5386, 5387, 5388, 5389, 5390, 5391, 5392, 5393, 5394, 5395, 5396, 5397, 5398, 5399, 5400, 5401, 5402, 5403, 5404, 5405, 5406, 5422, 5423, 5424, 5425, 5426, 5427, 5428, 5429, 5430, 5431, 5432, 5433, 5434, 5435, 5436, 5437, 5438, 5442, 5443, 5444, 5445, 5446, 5447, 5448, 5449, 5450, 5451, 5452, 5453, 5454, 5455, 5456, 5457, 5458, 5459, 5460, 5461, 5462, 5463, 5464, 5465, 5466, 5467, 5468, 5469, 5470, 5471, 5472, 5473, 5474, 5475, 5476, 5477, 5478, 5479, 5480, 5481, 5482, 5483, 5484, 5485, 5486, 5487, 5488, 5504, 5505, 5506, 5507, 5508, 5509, 5510, 5511, 5512, 5513, 5514, 5515, 5516, 5517, 5518, 5522, 5523, 5524, 5525, 5526, 5527, 5528, 5529, 5530, 5531, 5532, 5533, 5534, 5535, 5536, 5537, 5538, 5539, 5540, 5541, 5542, 5543, 5544, 5545, 5546, 5547, 5548, 5549, 5550, 5551, 5552, 5553, 5554, 5555, 5556, 5557, 5558, 5559, 5560, 5561, 5562, 5563, 5564, 5565, 5566, 5567, 5568, 5569, 5570, 5587, 5588, 5589, 5590, 5591, 5592, 5593, 5594, 5595, 5596, 5597, 5603, 5604, 5605, 5606, 5607, 5608, 5609, 5610, 5611, 5612, 5613, 5614, 5615, 5616, 5617, 5618, 5619, 5620, 5621, 5622, 5623, 5624, 5625, 5626, 5627, 5628, 5629, 5630, 5631, 5632, 5633, 5634, 5635, 5636, 5637, 5638, 5639, 5640, 5641, 5642, 5643, 5644, 5645, 5646, 5647, 5648, 5649, 5650, 5651, 5669, 5670, 5671, 5672, 5673, 5674, 5675, 5676, 5677, 5683, 5684, 5685, 5686, 5687, 5688, 5689, 5690, 5691, 5692, 5693, 5694, 5695, 5696, 5697, 5698, 5699, 5700, 5701, 5702, 5703, 5704, 5705, 5706, 5707, 5708, 5709, 5710, 5711, 5712, 5713, 5714, 5715, 5716, 5717, 5718, 5719, 5720, 5721, 5722, 5723, 5724, 5725, 5726, 5727, 5728, 5729, 5730, 5731, 5732, 5733, 5751, 5752, 5753, 5754, 5755, 5756, 5757, 5763, 5764, 5765, 5766, 5767, 5768, 5769, 5770, 5771, 5772, 5773, 5774, 5775, 5776, 5777, 5778, 5779, 5780, 5781, 5782, 5783, 5784, 5785, 5786, 5787, 5788, 5789, 5790, 5791, 5792, 5793, 5794, 5795, 5796, 5797, 5798, 5799, 5800, 5801, 5802, 5803, 5804, 5805, 5806, 5807, 5808, 5809, 5810, 5811, 5812, 5813, 5814, 5815, 5832, 5833, 5834, 5835, 5836, 5837, 5843, 5844, 5845, 5846, 5847, 5848, 5849, 5850, 5851, 5852, 5853, 5854, 5855, 5856, 5857, 5858, 5859, 5860, 5861, 5862, 5863, 5864, 5865, 5866, 5867, 5868, 5869, 5870, 5871, 5872, 5873, 5874, 5875, 5876, 5877, 5878, 5879, 5880, 5881, 5882, 5883, 5884, 5885, 5886, 5887, 5888, 5889, 5890, 5891, 5892, 5893, 5894, 5895, 5896, 5897, 5913, 5914, 5915, 5916, 5917, 5923, 5924, 5925, 5926, 5927, 5928, 5929, 5930, 5931, 5932, 5933, 5934, 5935, 5936, 5937, 5938, 5939, 5940, 5941, 5942, 5943, 5944, 5945, 5946, 5947, 5948, 5949, 5950, 5951, 5952, 5953, 5954, 5955, 5956, 5957, 5958, 5959, 5960, 5961, 5962, 5963, 5964, 5965, 5966, 5967, 5968, 5969, 5970, 5971, 5972, 5973, 5974, 5975, 5976, 5977, 5978, 5979, 5994, 5995, 5996, 5997, 6003, 6004, 6005, 6006, 6007, 6008, 6009, 6010, 6011, 6012, 6013, 6014, 6015, 6016, 6017, 6018, 6019, 6020, 6021, 6022, 6023, 6024, 6025, 6026, 6027, 6028, 6029, 6030, 6031, 6032, 6033, 6034, 6035, 6036, 6037, 6038, 6039, 6040, 6041, 6042, 6043, 6044, 6045, 6046, 6047, 6048, 6049, 6050, 6051, 6052, 6053, 6054, 6055, 6056, 6057, 6058, 6059, 6060, 6075, 6076, 6077, 6083, 6084, 6085, 6086, 6087, 6088, 6089, 6090, 6091, 6092, 6093, 6094, 6095, 6096, 6097, 6098, 6099, 6100, 6101, 6102, 6103, 6104, 6105, 6106, 6107, 6108, 6109, 6110, 6111, 6112, 6113, 6114, 6115, 6116, 6117, 6118, 6119, 6120, 6121, 6122, 6123, 6124, 6125, 6126, 6127, 6128, 6129, 6130, 6131, 6132, 6133, 6134, 6135, 6136, 6137, 6138, 6139, 6140, 6141, 6142, 6156, 6157, 6163, 6164, 6165, 6166, 6167, 6168, 6169, 6170, 6171, 6172, 6173, 6174, 6175, 6176, 6177, 6178, 6179, 6180, 6181, 6182, 6183, 6184, 6185, 6186, 6187, 6188, 6189, 6190, 6191, 6192, 6193, 6194, 6195, 6196, 6197, 6198, 6199, 6200, 6201, 6202, 6203, 6204, 6205, 6206, 6207, 6208, 6209, 6210, 6211, 6212, 6213, 6214, 6215, 6216, 6217, 6218, 6219, 6220, 6221, 6222, 6223, 6224, 6237, 6243, 6244, 6245, 6246, 6247, 6248, 6249, 6250, 6251, 6252, 6253, 6254, 6255, 6256, 6257, 6258, 6259, 6260, 6261, 6262, 6263, 6264, 6265, 6266, 6267, 6268, 6269, 6270, 6271, 6272, 6273, 6274, 6275, 6276, 6277, 6278, 6279, 6280, 6281, 6282, 6283, 6284, 6285, 6286, 6287, 6288, 6289, 6290, 6291, 6292, 6293, 6294, 6295, 6296, 6297, 6298, 6299, 6300, 6301, 6302, 6303, 6304, 6305, 6306, 6323, 6324, 6325, 6326, 6327, 6328, 6329, 6330, 6331, 6332, 6333, 6334, 6335, 6336, 6337, 6338, 6339, 6340, 6341, 6342, 6343, 6344, 6345, 6346, 6347, 6348, 6349, 6350, 6351, 6352, 6353, 6354, 6355, 6356, 6357, 6358, 6359, 6360, 6361, 6362, 6363, 6364, 6365, 6366, 6367, 6368, 6369, 6370, 6371, 6372, 6373, 6374, 6375, 6376, 6377, 6378, 6379, 6380, 6381, 6382, 6383, 6384, 6385, 6386, 6387, 6388, 6403, 6404, 6405, 6406, 6407, 6408, 6409, 6410, 6411, 6412, 6413, 6414, 6415, 6416, 6417, 6418, 6419, 6420, 6421, 6422, 6423, 6424, 6425, 6426, 6427, 6428, 6429, 6430, 6431, 6432, 6433, 6434, 6435, 6436, 6437, 6438, 6439, 6440, 6441, 6442, 6443, 6444, 6445, 6446, 6447, 6448, 6449, 6450, 6451, 6452, 6453, 6454, 6455, 6456, 6457, 6458, 6459, 6460, 6461, 6462, 6463, 6464, 6465, 6466, 6467, 6468, 6469, 6483, 6484, 6485, 6486, 6487, 6488, 6489, 6490, 6491, 6492, 6493, 6494, 6495, 6496, 6497, 6498, 6499, 6500, 6501, 6502, 6503, 6504, 6505, 6506, 6507, 6508, 6509, 6510, 6511, 6512, 6513, 6514, 6515, 6516, 6517, 6518, 6519, 6520, 6521, 6522, 6523, 6524, 6525, 6526, 6527, 6528, 6529, 6530, 6531, 6532, 6533, 6534, 6535, 6536, 6537, 6538, 6539, 6540, 6541, 6542, 6543, 6544, 6545, 6546, 6547, 6548, 6549, 6550, 6551]\n",
      "val ids:  []\n",
      "test ids:  [0, 1, 2, 3, 4, 5, 6, 7, 8, 78, 79, 80, 81, 82, 83, 84, 85, 86, 87, 88, 89, 90, 158, 159, 160, 161, 162, 163, 164, 165, 166, 167, 168, 169, 170, 171, 238, 239, 240, 241, 242, 243, 244, 245, 246, 247, 248, 249, 250, 251, 252, 253, 318, 319, 320, 321, 322, 324, 325, 326, 327, 328, 329, 330, 331, 332, 333, 334, 335, 398, 399, 400, 401, 402, 405, 406, 407, 408, 409, 410, 411, 412, 413, 414, 415, 416, 417, 478, 479, 480, 481, 482, 486, 487, 488, 489, 490, 491, 492, 493, 494, 495, 496, 497, 498, 499, 558, 559, 560, 561, 562, 567, 568, 569, 570, 571, 572, 573, 574, 575, 576, 577, 578, 579, 580, 638, 639, 640, 641, 642, 648, 649, 650, 651, 652, 653, 654, 655, 656, 657, 658, 659, 660, 661, 662, 718, 719, 720, 721, 722, 729, 730, 731, 732, 733, 734, 735, 736, 737, 738, 739, 740, 741, 742, 743, 744, 798, 799, 800, 801, 802, 810, 811, 812, 813, 814, 815, 816, 817, 818, 819, 820, 821, 822, 823, 824, 825, 826, 878, 879, 880, 881, 882, 892, 893, 894, 895, 896, 897, 898, 899, 900, 901, 902, 903, 904, 905, 906, 907, 908, 958, 959, 960, 961, 962, 974, 975, 976, 977, 978, 979, 980, 981, 982, 983, 984, 985, 986, 987, 988, 989, 1039, 1040, 1041, 1057, 1058, 1059, 1060, 1061, 1062, 1063, 1064, 1065, 1066, 1067, 1068, 1069, 1070, 1071, 1119, 1120, 1121, 1139, 1140, 1141, 1142, 1143, 1144, 1145, 1146, 1147, 1148, 1149, 1150, 1151, 1152, 1153, 1199, 1200, 1201, 1221, 1222, 1223, 1224, 1225, 1226, 1227, 1228, 1229, 1230, 1231, 1232, 1233, 1234, 1235, 1279, 1280, 1281, 1304, 1305, 1306, 1307, 1308, 1309, 1310, 1311, 1312, 1313, 1314, 1315, 1316, 1359, 1360, 1361, 1386, 1387, 1388, 1389, 1390, 1391, 1392, 1393, 1394, 1395, 1396, 1397, 1398, 1439, 1440, 1441, 1469, 1470, 1471, 1472, 1473, 1474, 1475, 1476, 1477, 1478, 1479, 1480, 1519, 1520, 1521, 1551, 1552, 1553, 1554, 1555, 1556, 1557, 1558, 1559, 1560, 1561, 1562, 1599, 1600, 1601, 1633, 1634, 1635, 1636, 1637, 1638, 1639, 1640, 1641, 1642, 1643, 1644, 1679, 1680, 1681, 1716, 1717, 1718, 1719, 1720, 1721, 1722, 1723, 1724, 1725, 1759, 1760, 1761, 1798, 1799, 1800, 1801, 1802, 1803, 1804, 1805, 1806, 1807, 1839, 1840, 1841, 1880, 1881, 1882, 1883, 1884, 1885, 1886, 1887, 1888, 1889, 1919, 1920, 1921, 1963, 1964, 1965, 1966, 1967, 1968, 1969, 1970, 1971, 1999, 2000, 2001, 2045, 2046, 2047, 2048, 2049, 2050, 2051, 2052, 2053, 2079, 2080, 2081, 2127, 2128, 2129, 2130, 2131, 2132, 2133, 2134, 2160, 2210, 2211, 2212, 2213, 2214, 2215, 2216, 2240, 2292, 2293, 2294, 2295, 2296, 2297, 2298, 2320, 2375, 2376, 2377, 2378, 2379, 2380, 2400, 2457, 2458, 2459, 2460, 2461, 2462, 2480, 2539, 2540, 2541, 2542, 2543, 2560, 2622, 2623, 2624, 2625, 2640, 2704, 2705, 2706, 2707, 2720, 2786, 2787, 2788, 2789, 2800, 2869, 2870, 2871, 2880, 2951, 2952, 2960, 3033, 3034, 3040, 3116, 3120, 3198, 3200, 3280, 3360, 3362, 3440, 3444, 3520, 3526, 3527, 3600, 3608, 3609, 3680, 3689, 3690, 3691, 3760, 3771, 3772, 3773, 3774, 3840, 3853, 3854, 3855, 3856, 3920, 3935, 3936, 3937, 3938, 4000, 4017, 4018, 4019, 4020, 4021, 4080, 4098, 4099, 4100, 4101, 4102, 4103, 4160, 4180, 4181, 4182, 4183, 4184, 4185, 4240, 4262, 4263, 4264, 4265, 4266, 4267, 4268, 4320, 4344, 4345, 4346, 4347, 4348, 4349, 4350, 4400, 4426, 4427, 4428, 4429, 4430, 4431, 4432, 4433, 4479, 4480, 4481, 4507, 4508, 4509, 4510, 4511, 4512, 4513, 4514, 4515, 4559, 4560, 4561, 4589, 4590, 4591, 4592, 4593, 4594, 4595, 4596, 4597, 4639, 4640, 4641, 4671, 4672, 4673, 4674, 4675, 4676, 4677, 4678, 4679, 4680, 4719, 4720, 4721, 4753, 4754, 4755, 4756, 4757, 4758, 4759, 4760, 4761, 4762, 4799, 4800, 4801, 4835, 4836, 4837, 4838, 4839, 4840, 4841, 4842, 4843, 4844, 4879, 4880, 4881, 4916, 4917, 4918, 4919, 4920, 4921, 4922, 4923, 4924, 4925, 4926, 4927, 4959, 4960, 4961, 4998, 4999, 5000, 5001, 5002, 5003, 5004, 5005, 5006, 5007, 5008, 5009, 5039, 5040, 5041, 5080, 5081, 5082, 5083, 5084, 5085, 5086, 5087, 5088, 5089, 5090, 5091, 5119, 5120, 5121, 5162, 5163, 5164, 5165, 5166, 5167, 5168, 5169, 5170, 5171, 5172, 5173, 5174, 5199, 5200, 5201, 5244, 5245, 5246, 5247, 5248, 5249, 5250, 5251, 5252, 5253, 5254, 5255, 5256, 5279, 5280, 5281, 5325, 5326, 5327, 5328, 5329, 5330, 5331, 5332, 5333, 5334, 5335, 5336, 5337, 5338, 5339, 5359, 5360, 5361, 5407, 5408, 5409, 5410, 5411, 5412, 5413, 5414, 5415, 5416, 5417, 5418, 5419, 5420, 5421, 5439, 5440, 5441, 5489, 5490, 5491, 5492, 5493, 5494, 5495, 5496, 5497, 5498, 5499, 5500, 5501, 5502, 5503, 5519, 5520, 5521, 5571, 5572, 5573, 5574, 5575, 5576, 5577, 5578, 5579, 5580, 5581, 5582, 5583, 5584, 5585, 5586, 5598, 5599, 5600, 5601, 5602, 5652, 5653, 5654, 5655, 5656, 5657, 5658, 5659, 5660, 5661, 5662, 5663, 5664, 5665, 5666, 5667, 5668, 5678, 5679, 5680, 5681, 5682, 5734, 5735, 5736, 5737, 5738, 5739, 5740, 5741, 5742, 5743, 5744, 5745, 5746, 5747, 5748, 5749, 5750, 5758, 5759, 5760, 5761, 5762, 5816, 5817, 5818, 5819, 5820, 5821, 5822, 5823, 5824, 5825, 5826, 5827, 5828, 5829, 5830, 5831, 5838, 5839, 5840, 5841, 5842, 5898, 5899, 5900, 5901, 5902, 5903, 5904, 5905, 5906, 5907, 5908, 5909, 5910, 5911, 5912, 5918, 5919, 5920, 5921, 5922, 5980, 5981, 5982, 5983, 5984, 5985, 5986, 5987, 5988, 5989, 5990, 5991, 5992, 5993, 5998, 5999, 6000, 6001, 6002, 6061, 6062, 6063, 6064, 6065, 6066, 6067, 6068, 6069, 6070, 6071, 6072, 6073, 6074, 6078, 6079, 6080, 6081, 6082, 6143, 6144, 6145, 6146, 6147, 6148, 6149, 6150, 6151, 6152, 6153, 6154, 6155, 6158, 6159, 6160, 6161, 6162, 6225, 6226, 6227, 6228, 6229, 6230, 6231, 6232, 6233, 6234, 6235, 6236, 6238, 6239, 6240, 6241, 6242, 6307, 6308, 6309, 6310, 6311, 6312, 6313, 6314, 6315, 6316, 6317, 6318, 6319, 6320, 6321, 6322, 6389, 6390, 6391, 6392, 6393, 6394, 6395, 6396, 6397, 6398, 6399, 6400, 6401, 6402, 6470, 6471, 6472, 6473, 6474, 6475, 6476, 6477, 6478, 6479, 6480, 6481, 6482, 6552, 6553, 6554, 6555, 6556, 6557, 6558, 6559, 6560]\n",
      "CPU times: user 157 ms, sys: 56.2 ms, total: 213 ms\n",
      "Wall time: 212 ms\n"
     ]
    }
   ],
   "source": [
    "%%time\n",
    "n_total = len(simulation.dataframe)\n",
    "n_train = len(simulation.dataframe[simulation.dataframe.type_of == \"train\"])\n",
    "n_val = len(simulation.dataframe[simulation.dataframe.type_of == \"val\"])\n",
    "n_test = len(simulation.dataframe[simulation.dataframe.type_of == \"test\"])\n",
    "n_train_hamiltonians = len(simulation.train_ids)\n",
    "n_val_hamiltonians = len(simulation.val_ids)\n",
    "n_test_hamiltonians = len(simulation.test_ids)\n",
    "n_total_hamiltonians = n_train_hamiltonians + n_val_hamiltonians + n_test_hamiltonians\n",
    "\n",
    "print(\"% train: \", n_train/n_total)\n",
    "print(\"% val: \",  n_val/n_total)\n",
    "print(\"% test: \", n_test/n_total)\n",
    "print(\"% train + val + test: \", (n_train+n_val+n_test)/n_total)\n",
    "print(\"\\n\")\n",
    "print(\"number of train hamiltonians: \", n_train_hamiltonians)\n",
    "print(\"number of val hamiltonians: \", n_val_hamiltonians)\n",
    "print(\"number of test hamiltonians: \", n_test_hamiltonians)\n",
    "print(\"total number of hamiltonians: \", n_total_hamiltonians)\n",
    "print(\"\\n\")\n",
    "print(\"train ids: \", simulation.train_ids)\n",
    "print(\"val ids: \", simulation.val_ids)\n",
    "print(\"test ids: \", simulation.test_ids)"
   ]
  },
  {
   "cell_type": "markdown",
   "metadata": {
    "papermill": {
     "duration": 0.019044,
     "end_time": "2020-07-16T02:17:22.639649",
     "exception": false,
     "start_time": "2020-07-16T02:17:22.620605",
     "status": "completed"
    },
    "tags": []
   },
   "source": [
    "## Running a simulation"
   ]
  },
  {
   "cell_type": "code",
   "execution_count": 27,
   "metadata": {
    "execution": {
     "iopub.execute_input": "2020-07-16T02:17:22.679345Z",
     "iopub.status.busy": "2020-07-16T02:17:22.679036Z",
     "iopub.status.idle": "2020-07-16T02:19:48.292612Z",
     "shell.execute_reply": "2020-07-16T02:19:48.292291Z"
    },
    "papermill": {
     "duration": 145.63391,
     "end_time": "2020-07-16T02:19:48.292664",
     "exception": false,
     "start_time": "2020-07-16T02:17:22.658754",
     "status": "completed"
    },
    "tags": []
   },
   "outputs": [
    {
     "name": "stderr",
     "output_type": "stream",
     "text": [
      "\r",
      "running experiments:   0%|          | 0/100 [00:00<?, ?it/s]"
     ]
    },
    {
     "name": "stdout",
     "output_type": "stream",
     "text": [
      "Simulation mode:  None\n"
     ]
    },
    {
     "name": "stderr",
     "output_type": "stream",
     "text": [
      "\r",
      "running experiments:   1%|          | 1/100 [00:01<02:35,  1.58s/it]"
     ]
    },
    {
     "name": "stderr",
     "output_type": "stream",
     "text": [
      "\r",
      "running experiments:   2%|▏         | 2/100 [00:03<02:32,  1.55s/it]"
     ]
    },
    {
     "name": "stderr",
     "output_type": "stream",
     "text": [
      "\r",
      "running experiments:   3%|▎         | 3/100 [00:04<02:28,  1.54s/it]"
     ]
    },
    {
     "name": "stderr",
     "output_type": "stream",
     "text": [
      "\r",
      "running experiments:   4%|▍         | 4/100 [00:05<02:24,  1.50s/it]"
     ]
    },
    {
     "name": "stderr",
     "output_type": "stream",
     "text": [
      "\r",
      "running experiments:   5%|▌         | 5/100 [00:07<02:21,  1.49s/it]"
     ]
    },
    {
     "name": "stderr",
     "output_type": "stream",
     "text": [
      "\r",
      "running experiments:   6%|▌         | 6/100 [00:08<02:19,  1.49s/it]"
     ]
    },
    {
     "name": "stderr",
     "output_type": "stream",
     "text": [
      "\r",
      "running experiments:   7%|▋         | 7/100 [00:10<02:17,  1.48s/it]"
     ]
    },
    {
     "name": "stderr",
     "output_type": "stream",
     "text": [
      "\r",
      "running experiments:   8%|▊         | 8/100 [00:11<02:15,  1.48s/it]"
     ]
    },
    {
     "name": "stderr",
     "output_type": "stream",
     "text": [
      "\r",
      "running experiments:   9%|▉         | 9/100 [00:13<02:13,  1.47s/it]"
     ]
    },
    {
     "name": "stderr",
     "output_type": "stream",
     "text": [
      "\r",
      "running experiments:  10%|█         | 10/100 [00:14<02:11,  1.47s/it]"
     ]
    },
    {
     "name": "stderr",
     "output_type": "stream",
     "text": [
      "\r",
      "running experiments:  11%|█         | 11/100 [00:16<02:09,  1.45s/it]"
     ]
    },
    {
     "name": "stderr",
     "output_type": "stream",
     "text": [
      "\r",
      "running experiments:  12%|█▏        | 12/100 [00:17<02:08,  1.46s/it]"
     ]
    },
    {
     "name": "stderr",
     "output_type": "stream",
     "text": [
      "\r",
      "running experiments:  13%|█▎        | 13/100 [00:19<02:06,  1.46s/it]"
     ]
    },
    {
     "name": "stderr",
     "output_type": "stream",
     "text": [
      "\r",
      "running experiments:  14%|█▍        | 14/100 [00:20<02:04,  1.45s/it]"
     ]
    },
    {
     "name": "stderr",
     "output_type": "stream",
     "text": [
      "\r",
      "running experiments:  15%|█▌        | 15/100 [00:21<02:02,  1.45s/it]"
     ]
    },
    {
     "name": "stderr",
     "output_type": "stream",
     "text": [
      "\r",
      "running experiments:  16%|█▌        | 16/100 [00:23<02:01,  1.45s/it]"
     ]
    },
    {
     "name": "stderr",
     "output_type": "stream",
     "text": [
      "\r",
      "running experiments:  17%|█▋        | 17/100 [00:24<02:00,  1.46s/it]"
     ]
    },
    {
     "name": "stderr",
     "output_type": "stream",
     "text": [
      "\r",
      "running experiments:  18%|█▊        | 18/100 [00:26<01:59,  1.45s/it]"
     ]
    },
    {
     "name": "stderr",
     "output_type": "stream",
     "text": [
      "\r",
      "running experiments:  19%|█▉        | 19/100 [00:27<01:59,  1.47s/it]"
     ]
    },
    {
     "name": "stderr",
     "output_type": "stream",
     "text": [
      "\r",
      "running experiments:  20%|██        | 20/100 [00:29<01:57,  1.46s/it]"
     ]
    },
    {
     "name": "stderr",
     "output_type": "stream",
     "text": [
      "\r",
      "running experiments:  21%|██        | 21/100 [00:30<01:55,  1.46s/it]"
     ]
    },
    {
     "name": "stderr",
     "output_type": "stream",
     "text": [
      "\r",
      "running experiments:  22%|██▏       | 22/100 [00:32<01:53,  1.46s/it]"
     ]
    },
    {
     "name": "stderr",
     "output_type": "stream",
     "text": [
      "\r",
      "running experiments:  23%|██▎       | 23/100 [00:33<01:52,  1.46s/it]"
     ]
    },
    {
     "name": "stderr",
     "output_type": "stream",
     "text": [
      "\r",
      "running experiments:  24%|██▍       | 24/100 [00:35<01:50,  1.46s/it]"
     ]
    },
    {
     "name": "stderr",
     "output_type": "stream",
     "text": [
      "\r",
      "running experiments:  25%|██▌       | 25/100 [00:36<01:49,  1.46s/it]"
     ]
    },
    {
     "name": "stderr",
     "output_type": "stream",
     "text": [
      "\r",
      "running experiments:  26%|██▌       | 26/100 [00:38<01:48,  1.46s/it]"
     ]
    },
    {
     "name": "stderr",
     "output_type": "stream",
     "text": [
      "\r",
      "running experiments:  27%|██▋       | 27/100 [00:39<01:47,  1.47s/it]"
     ]
    },
    {
     "name": "stderr",
     "output_type": "stream",
     "text": [
      "\r",
      "running experiments:  28%|██▊       | 28/100 [00:41<01:46,  1.47s/it]"
     ]
    },
    {
     "name": "stderr",
     "output_type": "stream",
     "text": [
      "\r",
      "running experiments:  29%|██▉       | 29/100 [00:42<01:43,  1.46s/it]"
     ]
    },
    {
     "name": "stderr",
     "output_type": "stream",
     "text": [
      "\r",
      "running experiments:  30%|███       | 30/100 [00:43<01:42,  1.46s/it]"
     ]
    },
    {
     "name": "stderr",
     "output_type": "stream",
     "text": [
      "\r",
      "running experiments:  31%|███       | 31/100 [00:45<01:40,  1.46s/it]"
     ]
    },
    {
     "name": "stderr",
     "output_type": "stream",
     "text": [
      "\r",
      "running experiments:  32%|███▏      | 32/100 [00:46<01:39,  1.46s/it]"
     ]
    },
    {
     "name": "stderr",
     "output_type": "stream",
     "text": [
      "\r",
      "running experiments:  33%|███▎      | 33/100 [00:48<01:37,  1.45s/it]"
     ]
    },
    {
     "name": "stderr",
     "output_type": "stream",
     "text": [
      "\r",
      "running experiments:  34%|███▍      | 34/100 [00:49<01:35,  1.45s/it]"
     ]
    },
    {
     "name": "stderr",
     "output_type": "stream",
     "text": [
      "\r",
      "running experiments:  35%|███▌      | 35/100 [00:51<01:34,  1.45s/it]"
     ]
    },
    {
     "name": "stderr",
     "output_type": "stream",
     "text": [
      "\r",
      "running experiments:  36%|███▌      | 36/100 [00:52<01:31,  1.44s/it]"
     ]
    },
    {
     "name": "stderr",
     "output_type": "stream",
     "text": [
      "\r",
      "running experiments:  37%|███▋      | 37/100 [00:54<01:30,  1.44s/it]"
     ]
    },
    {
     "name": "stderr",
     "output_type": "stream",
     "text": [
      "\r",
      "running experiments:  38%|███▊      | 38/100 [00:55<01:29,  1.44s/it]"
     ]
    },
    {
     "name": "stderr",
     "output_type": "stream",
     "text": [
      "\r",
      "running experiments:  39%|███▉      | 39/100 [00:56<01:28,  1.45s/it]"
     ]
    },
    {
     "name": "stderr",
     "output_type": "stream",
     "text": [
      "\r",
      "running experiments:  40%|████      | 40/100 [00:58<01:27,  1.45s/it]"
     ]
    },
    {
     "name": "stderr",
     "output_type": "stream",
     "text": [
      "\r",
      "running experiments:  41%|████      | 41/100 [00:59<01:25,  1.45s/it]"
     ]
    },
    {
     "name": "stderr",
     "output_type": "stream",
     "text": [
      "\r",
      "running experiments:  42%|████▏     | 42/100 [01:01<01:23,  1.45s/it]"
     ]
    },
    {
     "name": "stderr",
     "output_type": "stream",
     "text": [
      "\r",
      "running experiments:  43%|████▎     | 43/100 [01:02<01:22,  1.45s/it]"
     ]
    },
    {
     "name": "stderr",
     "output_type": "stream",
     "text": [
      "\r",
      "running experiments:  44%|████▍     | 44/100 [01:04<01:21,  1.45s/it]"
     ]
    },
    {
     "name": "stderr",
     "output_type": "stream",
     "text": [
      "\r",
      "running experiments:  45%|████▌     | 45/100 [01:05<01:20,  1.46s/it]"
     ]
    },
    {
     "name": "stderr",
     "output_type": "stream",
     "text": [
      "\r",
      "running experiments:  46%|████▌     | 46/100 [01:07<01:18,  1.46s/it]"
     ]
    },
    {
     "name": "stderr",
     "output_type": "stream",
     "text": [
      "\r",
      "running experiments:  47%|████▋     | 47/100 [01:08<01:16,  1.45s/it]"
     ]
    },
    {
     "name": "stderr",
     "output_type": "stream",
     "text": [
      "\r",
      "running experiments:  48%|████▊     | 48/100 [01:10<01:15,  1.46s/it]"
     ]
    },
    {
     "name": "stderr",
     "output_type": "stream",
     "text": [
      "\r",
      "running experiments:  49%|████▉     | 49/100 [01:11<01:14,  1.46s/it]"
     ]
    },
    {
     "name": "stderr",
     "output_type": "stream",
     "text": [
      "\r",
      "running experiments:  50%|█████     | 50/100 [01:12<01:13,  1.46s/it]"
     ]
    },
    {
     "name": "stderr",
     "output_type": "stream",
     "text": [
      "\r",
      "running experiments:  51%|█████     | 51/100 [01:14<01:11,  1.47s/it]"
     ]
    },
    {
     "name": "stderr",
     "output_type": "stream",
     "text": [
      "\r",
      "running experiments:  52%|█████▏    | 52/100 [01:15<01:10,  1.47s/it]"
     ]
    },
    {
     "name": "stderr",
     "output_type": "stream",
     "text": [
      "\r",
      "running experiments:  53%|█████▎    | 53/100 [01:17<01:08,  1.46s/it]"
     ]
    },
    {
     "name": "stderr",
     "output_type": "stream",
     "text": [
      "\r",
      "running experiments:  54%|█████▍    | 54/100 [01:18<01:07,  1.46s/it]"
     ]
    },
    {
     "name": "stderr",
     "output_type": "stream",
     "text": [
      "\r",
      "running experiments:  55%|█████▌    | 55/100 [01:20<01:05,  1.46s/it]"
     ]
    },
    {
     "name": "stderr",
     "output_type": "stream",
     "text": [
      "\r",
      "running experiments:  56%|█████▌    | 56/100 [01:21<01:03,  1.45s/it]"
     ]
    },
    {
     "name": "stderr",
     "output_type": "stream",
     "text": [
      "\r",
      "running experiments:  57%|█████▋    | 57/100 [01:23<01:02,  1.45s/it]"
     ]
    },
    {
     "name": "stderr",
     "output_type": "stream",
     "text": [
      "\r",
      "running experiments:  58%|█████▊    | 58/100 [01:24<01:01,  1.45s/it]"
     ]
    },
    {
     "name": "stderr",
     "output_type": "stream",
     "text": [
      "\r",
      "running experiments:  59%|█████▉    | 59/100 [01:26<00:59,  1.45s/it]"
     ]
    },
    {
     "name": "stderr",
     "output_type": "stream",
     "text": [
      "\r",
      "running experiments:  60%|██████    | 60/100 [01:27<00:57,  1.45s/it]"
     ]
    },
    {
     "name": "stderr",
     "output_type": "stream",
     "text": [
      "\r",
      "running experiments:  61%|██████    | 61/100 [01:28<00:56,  1.45s/it]"
     ]
    },
    {
     "name": "stderr",
     "output_type": "stream",
     "text": [
      "\r",
      "running experiments:  62%|██████▏   | 62/100 [01:30<00:54,  1.44s/it]"
     ]
    },
    {
     "name": "stderr",
     "output_type": "stream",
     "text": [
      "\r",
      "running experiments:  63%|██████▎   | 63/100 [01:31<00:54,  1.46s/it]"
     ]
    },
    {
     "name": "stderr",
     "output_type": "stream",
     "text": [
      "\r",
      "running experiments:  64%|██████▍   | 64/100 [01:33<00:52,  1.46s/it]"
     ]
    },
    {
     "name": "stderr",
     "output_type": "stream",
     "text": [
      "\r",
      "running experiments:  65%|██████▌   | 65/100 [01:34<00:50,  1.45s/it]"
     ]
    },
    {
     "name": "stderr",
     "output_type": "stream",
     "text": [
      "\r",
      "running experiments:  66%|██████▌   | 66/100 [01:36<00:49,  1.45s/it]"
     ]
    },
    {
     "name": "stderr",
     "output_type": "stream",
     "text": [
      "\r",
      "running experiments:  67%|██████▋   | 67/100 [01:37<00:47,  1.45s/it]"
     ]
    },
    {
     "name": "stderr",
     "output_type": "stream",
     "text": [
      "\r",
      "running experiments:  68%|██████▊   | 68/100 [01:39<00:46,  1.46s/it]"
     ]
    },
    {
     "name": "stderr",
     "output_type": "stream",
     "text": [
      "\r",
      "running experiments:  69%|██████▉   | 69/100 [01:40<00:44,  1.45s/it]"
     ]
    },
    {
     "name": "stderr",
     "output_type": "stream",
     "text": [
      "\r",
      "running experiments:  70%|███████   | 70/100 [01:41<00:43,  1.44s/it]"
     ]
    },
    {
     "name": "stderr",
     "output_type": "stream",
     "text": [
      "\r",
      "running experiments:  71%|███████   | 71/100 [01:43<00:41,  1.44s/it]"
     ]
    },
    {
     "name": "stderr",
     "output_type": "stream",
     "text": [
      "\r",
      "running experiments:  72%|███████▏  | 72/100 [01:44<00:40,  1.45s/it]"
     ]
    },
    {
     "name": "stderr",
     "output_type": "stream",
     "text": [
      "\r",
      "running experiments:  73%|███████▎  | 73/100 [01:46<00:39,  1.45s/it]"
     ]
    },
    {
     "name": "stderr",
     "output_type": "stream",
     "text": [
      "\r",
      "running experiments:  74%|███████▍  | 74/100 [01:47<00:37,  1.46s/it]"
     ]
    },
    {
     "name": "stderr",
     "output_type": "stream",
     "text": [
      "\r",
      "running experiments:  75%|███████▌  | 75/100 [01:49<00:36,  1.45s/it]"
     ]
    },
    {
     "name": "stderr",
     "output_type": "stream",
     "text": [
      "\r",
      "running experiments:  76%|███████▌  | 76/100 [01:50<00:34,  1.45s/it]"
     ]
    },
    {
     "name": "stderr",
     "output_type": "stream",
     "text": [
      "\r",
      "running experiments:  77%|███████▋  | 77/100 [01:52<00:33,  1.45s/it]"
     ]
    },
    {
     "name": "stderr",
     "output_type": "stream",
     "text": [
      "\r",
      "running experiments:  78%|███████▊  | 78/100 [01:53<00:31,  1.45s/it]"
     ]
    },
    {
     "name": "stderr",
     "output_type": "stream",
     "text": [
      "\r",
      "running experiments:  79%|███████▉  | 79/100 [01:55<00:30,  1.45s/it]"
     ]
    },
    {
     "name": "stderr",
     "output_type": "stream",
     "text": [
      "\r",
      "running experiments:  80%|████████  | 80/100 [01:56<00:28,  1.45s/it]"
     ]
    },
    {
     "name": "stderr",
     "output_type": "stream",
     "text": [
      "\r",
      "running experiments:  81%|████████  | 81/100 [01:57<00:27,  1.45s/it]"
     ]
    },
    {
     "name": "stderr",
     "output_type": "stream",
     "text": [
      "\r",
      "running experiments:  82%|████████▏ | 82/100 [01:59<00:26,  1.44s/it]"
     ]
    },
    {
     "name": "stderr",
     "output_type": "stream",
     "text": [
      "\r",
      "running experiments:  83%|████████▎ | 83/100 [02:00<00:24,  1.43s/it]"
     ]
    },
    {
     "name": "stderr",
     "output_type": "stream",
     "text": [
      "\r",
      "running experiments:  84%|████████▍ | 84/100 [02:02<00:23,  1.44s/it]"
     ]
    },
    {
     "name": "stderr",
     "output_type": "stream",
     "text": [
      "\r",
      "running experiments:  85%|████████▌ | 85/100 [02:03<00:21,  1.45s/it]"
     ]
    },
    {
     "name": "stderr",
     "output_type": "stream",
     "text": [
      "\r",
      "running experiments:  86%|████████▌ | 86/100 [02:05<00:20,  1.45s/it]"
     ]
    },
    {
     "name": "stderr",
     "output_type": "stream",
     "text": [
      "\r",
      "running experiments:  87%|████████▋ | 87/100 [02:06<00:18,  1.45s/it]"
     ]
    },
    {
     "name": "stderr",
     "output_type": "stream",
     "text": [
      "\r",
      "running experiments:  88%|████████▊ | 88/100 [02:08<00:17,  1.45s/it]"
     ]
    },
    {
     "name": "stderr",
     "output_type": "stream",
     "text": [
      "\r",
      "running experiments:  89%|████████▉ | 89/100 [02:09<00:15,  1.44s/it]"
     ]
    },
    {
     "name": "stderr",
     "output_type": "stream",
     "text": [
      "\r",
      "running experiments:  90%|█████████ | 90/100 [02:10<00:14,  1.44s/it]"
     ]
    },
    {
     "name": "stderr",
     "output_type": "stream",
     "text": [
      "\r",
      "running experiments:  91%|█████████ | 91/100 [02:12<00:12,  1.44s/it]"
     ]
    },
    {
     "name": "stderr",
     "output_type": "stream",
     "text": [
      "\r",
      "running experiments:  92%|█████████▏| 92/100 [02:13<00:11,  1.43s/it]"
     ]
    },
    {
     "name": "stderr",
     "output_type": "stream",
     "text": [
      "\r",
      "running experiments:  93%|█████████▎| 93/100 [02:15<00:10,  1.45s/it]"
     ]
    },
    {
     "name": "stderr",
     "output_type": "stream",
     "text": [
      "\r",
      "running experiments:  94%|█████████▍| 94/100 [02:16<00:08,  1.49s/it]"
     ]
    },
    {
     "name": "stderr",
     "output_type": "stream",
     "text": [
      "\r",
      "running experiments:  95%|█████████▌| 95/100 [02:18<00:07,  1.47s/it]"
     ]
    },
    {
     "name": "stderr",
     "output_type": "stream",
     "text": [
      "\r",
      "running experiments:  96%|█████████▌| 96/100 [02:19<00:05,  1.47s/it]"
     ]
    },
    {
     "name": "stderr",
     "output_type": "stream",
     "text": [
      "\r",
      "running experiments:  97%|█████████▋| 97/100 [02:21<00:04,  1.46s/it]"
     ]
    },
    {
     "name": "stderr",
     "output_type": "stream",
     "text": [
      "\r",
      "running experiments:  98%|█████████▊| 98/100 [02:22<00:02,  1.48s/it]"
     ]
    },
    {
     "name": "stderr",
     "output_type": "stream",
     "text": [
      "\r",
      "running experiments:  99%|█████████▉| 99/100 [02:24<00:01,  1.47s/it]"
     ]
    },
    {
     "name": "stderr",
     "output_type": "stream",
     "text": [
      "\r",
      "running experiments: 100%|██████████| 100/100 [02:25<00:00,  1.46s/it]"
     ]
    },
    {
     "name": "stderr",
     "output_type": "stream",
     "text": [
      "\r",
      "running experiments: 100%|██████████| 100/100 [02:25<00:00,  1.46s/it]"
     ]
    },
    {
     "name": "stdout",
     "output_type": "stream",
     "text": [
      "CPU times: user 2min 22s, sys: 3.08 s, total: 2min 25s\n",
      "Wall time: 2min 25s\n"
     ]
    },
    {
     "name": "stderr",
     "output_type": "stream",
     "text": [
      "\n"
     ]
    }
   ],
   "source": [
    "\n",
    "%%time\n",
    "simulation.run_simulation(n_experiments, start_n, fit_params,shuffle_rows, pred_params, random_features, \\\n",
    "                          store_in_lists, save_eigenvector, save_hamiltonian, save_accuracy,\\\n",
    "                          save_models)\n",
    "if simulation.fourier_mode is not None:\n",
    "    simulation.fourier_dataframe.head(10)"
   ]
  },
  {
   "cell_type": "code",
   "execution_count": 28,
   "metadata": {
    "execution": {
     "iopub.execute_input": "2020-07-16T02:19:48.367380Z",
     "iopub.status.busy": "2020-07-16T02:19:48.367072Z",
     "iopub.status.idle": "2020-07-16T02:19:48.393048Z",
     "shell.execute_reply": "2020-07-16T02:19:48.392729Z"
    },
    "papermill": {
     "duration": 0.065036,
     "end_time": "2020-07-16T02:19:48.393101",
     "exception": false,
     "start_time": "2020-07-16T02:19:48.328065",
     "status": "completed"
    },
    "tags": []
   },
   "outputs": [
    {
     "data": {
      "text/html": [
       "<div>\n",
       "<style scoped>\n",
       "    .dataframe tbody tr th:only-of-type {\n",
       "        vertical-align: middle;\n",
       "    }\n",
       "\n",
       "    .dataframe tbody tr th {\n",
       "        vertical-align: top;\n",
       "    }\n",
       "\n",
       "    .dataframe thead th {\n",
       "        text-align: right;\n",
       "    }\n",
       "</style>\n",
       "<table border=\"1\" class=\"dataframe\">\n",
       "  <thead>\n",
       "    <tr style=\"text-align: right;\">\n",
       "      <th></th>\n",
       "      <th>id</th>\n",
       "      <th>path</th>\n",
       "      <th>t1</th>\n",
       "      <th>t2</th>\n",
       "      <th>winding</th>\n",
       "      <th>phase</th>\n",
       "      <th>pred_phase</th>\n",
       "      <th>type_of</th>\n",
       "      <th>feat0</th>\n",
       "      <th>feat1</th>\n",
       "      <th>...</th>\n",
       "      <th>feat90</th>\n",
       "      <th>feat91</th>\n",
       "      <th>feat92</th>\n",
       "      <th>feat93</th>\n",
       "      <th>feat94</th>\n",
       "      <th>feat95</th>\n",
       "      <th>feat96</th>\n",
       "      <th>feat97</th>\n",
       "      <th>feat98</th>\n",
       "      <th>feat99</th>\n",
       "    </tr>\n",
       "  </thead>\n",
       "  <tbody>\n",
       "    <tr>\n",
       "      <th>0</th>\n",
       "      <td>0</td>\n",
       "      <td>H_-2_-2_0.509296.dat</td>\n",
       "      <td>-2.0</td>\n",
       "      <td>-2.0</td>\n",
       "      <td>0.509296</td>\n",
       "      <td>999</td>\n",
       "      <td>1</td>\n",
       "      <td>test</td>\n",
       "      <td>0.100000</td>\n",
       "      <td>0.100000</td>\n",
       "      <td>...</td>\n",
       "      <td>0.100000</td>\n",
       "      <td>0.100000</td>\n",
       "      <td>0.100000</td>\n",
       "      <td>0.100000</td>\n",
       "      <td>0.100000</td>\n",
       "      <td>0.100000</td>\n",
       "      <td>0.100000</td>\n",
       "      <td>0.100000</td>\n",
       "      <td>0.100000</td>\n",
       "      <td>0.100000</td>\n",
       "    </tr>\n",
       "    <tr>\n",
       "      <th>1</th>\n",
       "      <td>0</td>\n",
       "      <td>H_-2_-2_0.509296.dat</td>\n",
       "      <td>-2.0</td>\n",
       "      <td>-2.0</td>\n",
       "      <td>0.509296</td>\n",
       "      <td>999</td>\n",
       "      <td>0</td>\n",
       "      <td>test</td>\n",
       "      <td>0.141421</td>\n",
       "      <td>0.141142</td>\n",
       "      <td>...</td>\n",
       "      <td>0.114412</td>\n",
       "      <td>0.108967</td>\n",
       "      <td>0.123928</td>\n",
       "      <td>0.119406</td>\n",
       "      <td>0.131490</td>\n",
       "      <td>0.127962</td>\n",
       "      <td>0.136978</td>\n",
       "      <td>0.134500</td>\n",
       "      <td>0.140306</td>\n",
       "      <td>0.138916</td>\n",
       "    </tr>\n",
       "    <tr>\n",
       "      <th>2</th>\n",
       "      <td>0</td>\n",
       "      <td>H_-2_-2_0.509296.dat</td>\n",
       "      <td>-2.0</td>\n",
       "      <td>-2.0</td>\n",
       "      <td>0.509296</td>\n",
       "      <td>999</td>\n",
       "      <td>1</td>\n",
       "      <td>test</td>\n",
       "      <td>0.141421</td>\n",
       "      <td>0.140306</td>\n",
       "      <td>...</td>\n",
       "      <td>0.043702</td>\n",
       "      <td>0.026500</td>\n",
       "      <td>0.075777</td>\n",
       "      <td>0.060214</td>\n",
       "      <td>0.103092</td>\n",
       "      <td>0.090145</td>\n",
       "      <td>0.123928</td>\n",
       "      <td>0.114412</td>\n",
       "      <td>0.136978</td>\n",
       "      <td>0.131490</td>\n",
       "    </tr>\n",
       "    <tr>\n",
       "      <th>3</th>\n",
       "      <td>0</td>\n",
       "      <td>H_-2_-2_0.509296.dat</td>\n",
       "      <td>-2.0</td>\n",
       "      <td>-2.0</td>\n",
       "      <td>0.509296</td>\n",
       "      <td>999</td>\n",
       "      <td>1</td>\n",
       "      <td>test</td>\n",
       "      <td>-0.100000</td>\n",
       "      <td>0.100000</td>\n",
       "      <td>...</td>\n",
       "      <td>-0.100000</td>\n",
       "      <td>0.100000</td>\n",
       "      <td>-0.100000</td>\n",
       "      <td>0.100000</td>\n",
       "      <td>-0.100000</td>\n",
       "      <td>0.100000</td>\n",
       "      <td>-0.100000</td>\n",
       "      <td>0.100000</td>\n",
       "      <td>-0.100000</td>\n",
       "      <td>0.100000</td>\n",
       "    </tr>\n",
       "    <tr>\n",
       "      <th>4</th>\n",
       "      <td>0</td>\n",
       "      <td>H_-2_-2_0.509296.dat</td>\n",
       "      <td>-2.0</td>\n",
       "      <td>-2.0</td>\n",
       "      <td>0.509296</td>\n",
       "      <td>999</td>\n",
       "      <td>0</td>\n",
       "      <td>test</td>\n",
       "      <td>0.000509</td>\n",
       "      <td>-0.008372</td>\n",
       "      <td>...</td>\n",
       "      <td>-0.082713</td>\n",
       "      <td>-0.089753</td>\n",
       "      <td>-0.067684</td>\n",
       "      <td>-0.075347</td>\n",
       "      <td>-0.051587</td>\n",
       "      <td>-0.059753</td>\n",
       "      <td>-0.034677</td>\n",
       "      <td>-0.043217</td>\n",
       "      <td>-0.017220</td>\n",
       "      <td>-0.026000</td>\n",
       "    </tr>\n",
       "    <tr>\n",
       "      <th>5</th>\n",
       "      <td>0</td>\n",
       "      <td>H_-2_-2_0.509296.dat</td>\n",
       "      <td>-2.0</td>\n",
       "      <td>-2.0</td>\n",
       "      <td>0.509296</td>\n",
       "      <td>999</td>\n",
       "      <td>0</td>\n",
       "      <td>test</td>\n",
       "      <td>0.001204</td>\n",
       "      <td>-0.016530</td>\n",
       "      <td>...</td>\n",
       "      <td>-0.134123</td>\n",
       "      <td>-0.138686</td>\n",
       "      <td>-0.118757</td>\n",
       "      <td>-0.127445</td>\n",
       "      <td>-0.095929</td>\n",
       "      <td>-0.108196</td>\n",
       "      <td>-0.067073</td>\n",
       "      <td>-0.082149</td>\n",
       "      <td>-0.034003</td>\n",
       "      <td>-0.050940</td>\n",
       "    </tr>\n",
       "    <tr>\n",
       "      <th>6</th>\n",
       "      <td>0</td>\n",
       "      <td>H_-2_-2_0.509296.dat</td>\n",
       "      <td>-2.0</td>\n",
       "      <td>-2.0</td>\n",
       "      <td>0.509296</td>\n",
       "      <td>999</td>\n",
       "      <td>1</td>\n",
       "      <td>test</td>\n",
       "      <td>-0.141421</td>\n",
       "      <td>-0.138980</td>\n",
       "      <td>...</td>\n",
       "      <td>0.043375</td>\n",
       "      <td>0.067830</td>\n",
       "      <td>-0.009222</td>\n",
       "      <td>0.017385</td>\n",
       "      <td>-0.060524</td>\n",
       "      <td>-0.035502</td>\n",
       "      <td>-0.103326</td>\n",
       "      <td>-0.083403</td>\n",
       "      <td>-0.131616</td>\n",
       "      <td>-0.119589</td>\n",
       "    </tr>\n",
       "    <tr>\n",
       "      <th>7</th>\n",
       "      <td>0</td>\n",
       "      <td>H_-2_-2_0.509296.dat</td>\n",
       "      <td>-2.0</td>\n",
       "      <td>-2.0</td>\n",
       "      <td>0.509296</td>\n",
       "      <td>999</td>\n",
       "      <td>0</td>\n",
       "      <td>test</td>\n",
       "      <td>-0.000826</td>\n",
       "      <td>0.025688</td>\n",
       "      <td>...</td>\n",
       "      <td>0.134753</td>\n",
       "      <td>0.124324</td>\n",
       "      <td>0.141088</td>\n",
       "      <td>0.140407</td>\n",
       "      <td>0.127608</td>\n",
       "      <td>0.136771</td>\n",
       "      <td>0.096206</td>\n",
       "      <td>0.113925</td>\n",
       "      <td>0.051292</td>\n",
       "      <td>0.075079</td>\n",
       "    </tr>\n",
       "    <tr>\n",
       "      <th>8</th>\n",
       "      <td>0</td>\n",
       "      <td>H_-2_-2_0.509296.dat</td>\n",
       "      <td>-2.0</td>\n",
       "      <td>-2.0</td>\n",
       "      <td>0.509296</td>\n",
       "      <td>999</td>\n",
       "      <td>0</td>\n",
       "      <td>test</td>\n",
       "      <td>0.141417</td>\n",
       "      <td>0.136684</td>\n",
       "      <td>...</td>\n",
       "      <td>-0.115093</td>\n",
       "      <td>-0.131915</td>\n",
       "      <td>-0.061266</td>\n",
       "      <td>-0.091040</td>\n",
       "      <td>0.007717</td>\n",
       "      <td>-0.027643</td>\n",
       "      <td>0.074791</td>\n",
       "      <td>0.042592</td>\n",
       "      <td>0.123363</td>\n",
       "      <td>0.102291</td>\n",
       "    </tr>\n",
       "    <tr>\n",
       "      <th>9</th>\n",
       "      <td>0</td>\n",
       "      <td>H_-2_-2_0.509296.dat</td>\n",
       "      <td>-2.0</td>\n",
       "      <td>-2.0</td>\n",
       "      <td>0.509296</td>\n",
       "      <td>999</td>\n",
       "      <td>1</td>\n",
       "      <td>test</td>\n",
       "      <td>0.001302</td>\n",
       "      <td>0.036430</td>\n",
       "      <td>...</td>\n",
       "      <td>0.082068</td>\n",
       "      <td>0.050848</td>\n",
       "      <td>0.127402</td>\n",
       "      <td>0.108132</td>\n",
       "      <td>0.141218</td>\n",
       "      <td>0.138667</td>\n",
       "      <td>0.120099</td>\n",
       "      <td>0.134896</td>\n",
       "      <td>0.069268</td>\n",
       "      <td>0.097755</td>\n",
       "    </tr>\n",
       "  </tbody>\n",
       "</table>\n",
       "<p>10 rows × 108 columns</p>\n",
       "</div>"
      ],
      "text/plain": [
       "   id                  path   t1   t2   winding  phase  pred_phase type_of  \\\n",
       "0   0  H_-2_-2_0.509296.dat -2.0 -2.0  0.509296    999           1    test   \n",
       "1   0  H_-2_-2_0.509296.dat -2.0 -2.0  0.509296    999           0    test   \n",
       "2   0  H_-2_-2_0.509296.dat -2.0 -2.0  0.509296    999           1    test   \n",
       "3   0  H_-2_-2_0.509296.dat -2.0 -2.0  0.509296    999           1    test   \n",
       "4   0  H_-2_-2_0.509296.dat -2.0 -2.0  0.509296    999           0    test   \n",
       "5   0  H_-2_-2_0.509296.dat -2.0 -2.0  0.509296    999           0    test   \n",
       "6   0  H_-2_-2_0.509296.dat -2.0 -2.0  0.509296    999           1    test   \n",
       "7   0  H_-2_-2_0.509296.dat -2.0 -2.0  0.509296    999           0    test   \n",
       "8   0  H_-2_-2_0.509296.dat -2.0 -2.0  0.509296    999           0    test   \n",
       "9   0  H_-2_-2_0.509296.dat -2.0 -2.0  0.509296    999           1    test   \n",
       "\n",
       "      feat0     feat1  ...    feat90    feat91    feat92    feat93    feat94  \\\n",
       "0  0.100000  0.100000  ...  0.100000  0.100000  0.100000  0.100000  0.100000   \n",
       "1  0.141421  0.141142  ...  0.114412  0.108967  0.123928  0.119406  0.131490   \n",
       "2  0.141421  0.140306  ...  0.043702  0.026500  0.075777  0.060214  0.103092   \n",
       "3 -0.100000  0.100000  ... -0.100000  0.100000 -0.100000  0.100000 -0.100000   \n",
       "4  0.000509 -0.008372  ... -0.082713 -0.089753 -0.067684 -0.075347 -0.051587   \n",
       "5  0.001204 -0.016530  ... -0.134123 -0.138686 -0.118757 -0.127445 -0.095929   \n",
       "6 -0.141421 -0.138980  ...  0.043375  0.067830 -0.009222  0.017385 -0.060524   \n",
       "7 -0.000826  0.025688  ...  0.134753  0.124324  0.141088  0.140407  0.127608   \n",
       "8  0.141417  0.136684  ... -0.115093 -0.131915 -0.061266 -0.091040  0.007717   \n",
       "9  0.001302  0.036430  ...  0.082068  0.050848  0.127402  0.108132  0.141218   \n",
       "\n",
       "     feat95    feat96    feat97    feat98    feat99  \n",
       "0  0.100000  0.100000  0.100000  0.100000  0.100000  \n",
       "1  0.127962  0.136978  0.134500  0.140306  0.138916  \n",
       "2  0.090145  0.123928  0.114412  0.136978  0.131490  \n",
       "3  0.100000 -0.100000  0.100000 -0.100000  0.100000  \n",
       "4 -0.059753 -0.034677 -0.043217 -0.017220 -0.026000  \n",
       "5 -0.108196 -0.067073 -0.082149 -0.034003 -0.050940  \n",
       "6 -0.035502 -0.103326 -0.083403 -0.131616 -0.119589  \n",
       "7  0.136771  0.096206  0.113925  0.051292  0.075079  \n",
       "8 -0.027643  0.074791  0.042592  0.123363  0.102291  \n",
       "9  0.138667  0.120099  0.134896  0.069268  0.097755  \n",
       "\n",
       "[10 rows x 108 columns]"
      ]
     },
     "execution_count": 28,
     "metadata": {},
     "output_type": "execute_result"
    }
   ],
   "source": [
    "simulation.dataframe.head(10)"
   ]
  },
  {
   "cell_type": "markdown",
   "metadata": {
    "papermill": {
     "duration": 0.035691,
     "end_time": "2020-07-16T02:19:48.466722",
     "exception": false,
     "start_time": "2020-07-16T02:19:48.431031",
     "status": "completed"
    },
    "tags": []
   },
   "source": [
    "#### Viewing a random sample"
   ]
  },
  {
   "cell_type": "code",
   "execution_count": 29,
   "metadata": {
    "execution": {
     "iopub.execute_input": "2020-07-16T02:19:48.542212Z",
     "iopub.status.busy": "2020-07-16T02:19:48.541905Z",
     "iopub.status.idle": "2020-07-16T02:19:48.552002Z",
     "shell.execute_reply": "2020-07-16T02:19:48.552302Z"
    },
    "papermill": {
     "duration": 0.04783,
     "end_time": "2020-07-16T02:19:48.552368",
     "exception": false,
     "start_time": "2020-07-16T02:19:48.504538",
     "status": "completed"
    },
    "tags": []
   },
   "outputs": [
    {
     "name": "stdout",
     "output_type": "stream",
     "text": [
      "CPU times: user 2 µs, sys: 0 ns, total: 2 µs\n",
      "Wall time: 3.58 µs\n"
     ]
    }
   ],
   "source": [
    "%%time\n",
    "if simulation.fourier_mode is not None:\n",
    "    simulation.fourier_dataframe.sample(frac=0.1, replace=False)"
   ]
  },
  {
   "cell_type": "markdown",
   "metadata": {
    "papermill": {
     "duration": 0.084168,
     "end_time": "2020-07-16T02:19:48.672869",
     "exception": false,
     "start_time": "2020-07-16T02:19:48.588701",
     "status": "completed"
    },
    "tags": []
   },
   "source": [
    "#### Checking train/val/test splits again"
   ]
  },
  {
   "cell_type": "code",
   "execution_count": 30,
   "metadata": {
    "execution": {
     "iopub.execute_input": "2020-07-16T02:19:48.749790Z",
     "iopub.status.busy": "2020-07-16T02:19:48.749250Z",
     "iopub.status.idle": "2020-07-16T02:19:48.930600Z",
     "shell.execute_reply": "2020-07-16T02:19:48.930905Z"
    },
    "papermill": {
     "duration": 0.220639,
     "end_time": "2020-07-16T02:19:48.930972",
     "exception": false,
     "start_time": "2020-07-16T02:19:48.710333",
     "status": "completed"
    },
    "tags": []
   },
   "outputs": [
    {
     "name": "stdout",
     "output_type": "stream",
     "text": [
      "% train:  0.08474317939338516\n",
      "% val:  0.7620789513793629\n",
      "% test:  0.15317786922725193\n",
      "% train + val + test:  1.0\n",
      "\n",
      "\n",
      "number of train hamiltonians:  556\n",
      "number of val hamiltonians:  5000\n",
      "number of test hamiltonians:  1005\n",
      "total number of hamiltonians:  6561\n",
      "\n",
      "\n",
      "train ids:  [4506, 842, 2846, 2477, 4044, 2284, 3837, 1822, 2932, 2124, 6174, 5607, 5017, 1432, 1694, 3355, 516, 3043, 2488, 500, 2286, 6515, 2710, 2418, 6044, 3379, 969, 5304, 2399, 608, 1537, 3059, 2126, 2040, 4779, 790, 6456, 126, 4863, 4963, 1544, 4116, 2813, 1618, 3817, 5294, 3327, 2575, 2027, 4768, 2881, 4477, 3796, 5029, 3523, 4631, 4992, 2517, 344, 937, 5436, 514, 4395, 2935, 1503, 1180, 5178, 374, 256, 1455, 2680, 4809, 2859, 4523, 5113, 1793, 4399, 1214, 3555, 1936, 2275, 3665, 794, 2654, 5276, 3953, 1833, 2529, 3610, 6095, 4174, 4577, 5542, 5179, 118, 4309, 3304, 2774, 4356, 769, 4780, 5683, 111, 2408, 944, 3184, 630, 3140, 3264, 6289, 1738, 145, 3054, 4964, 1654, 3754, 3882, 1241, 5996, 5948, 4081, 6359, 5455, 5135, 1751, 6049, 5859, 3645, 2633, 2984, 1826, 5557, 5727, 311, 1042, 4957, 5523, 1762, 2417, 3038, 3729, 1238, 2493, 291, 4282, 5605, 4447, 2834, 4299, 2688, 3179, 5423, 513, 2556, 504, 604, 1371, 3010, 3094, 2223, 2122, 2550, 4806, 4563, 2923, 2784, 6299, 4394, 1171, 3943, 4411, 1728, 2169, 6489, 2790, 4902, 2904, 701, 1916, 6108, 5343, 6036, 2866, 4891, 2914, 3451, 419, 1383, 3638, 968, 1832, 3055, 5104, 6342, 6288, 2002, 2094, 5257, 3234, 4790, 1913, 3265, 2721, 3036, 457, 3791, 3337, 2872, 708, 3349, 1107, 3919, 534, 6187, 4330, 5789, 4724, 2797, 5877, 2715, 3730, 3373, 3378, 280, 4089, 2204, 3163, 4091, 2036, 3971, 1669, 4702, 1355, 1929, 1274, 1549, 5714, 1629, 2553, 4572, 4603, 2744, 2509, 1510, 2324, 1184, 4312, 5203, 4143, 2577, 3118, 3693, 5278, 1504, 6222, 442, 3884, 936, 5876, 3952, 3326, 285, 2482, 1433, 1188, 6370, 4699, 2184, 3496, 830, 5543, 5424, 3229, 3530, 3623, 5604, 673, 2146, 3126, 1895, 3104, 1528, 3982, 4306, 1808, 2220, 3857, 2996, 5450, 3676, 2465, 3474, 3644, 9, 796, 5488, 23, 5487, 17, 1624, 1127, 4624, 1525, 3231, 3148, 5182, 294, 1126, 5115, 6376, 2258, 4586, 5401, 1494, 4334, 6005, 5126, 2508, 3316, 290, 3350, 6190, 3341, 3296, 840, 1487, 2059, 4904, 4420, 395, 3211, 141, 264, 191, 5631, 3228, 1959, 1578, 3165, 1299, 3621, 1991, 3885, 14, 3313, 5358, 3206, 1167, 4665, 6125, 5724, 2515, 2684, 3578, 6362, 2281, 684, 3539, 2401, 1773, 3060, 5835, 5048, 1693, 2718, 6508, 4257, 1596, 5310, 5715, 3780, 5370, 2772, 6269, 2234, 3193, 6380, 3144, 1427, 5215, 4491, 3107, 3913, 5403, 4408, 1418, 1015, 3365, 5188, 1137, 5303, 677, 966, 3503, 956, 3438, 360, 3205, 1699, 2041, 4170, 2748, 57, 3463, 3562, 3494, 1603, 1354, 5517, 5515, 4472, 1900, 2899, 6199, 5190, 3192, 3221, 5312, 4073, 120, 4503, 4355, 54, 2512, 2201, 2776, 586, 4620, 4296, 1097, 4574, 4789, 3471, 2885, 5114, 2641, 6287, 3601, 6491, 1220, 2317, 2646, 2863, 5782, 923, 6096, 35, 5134, 6461, 3442, 4937, 3201, 2729, 5243, 5445, 3714, 4195, 5784, 5198, 3585, 3828, 6353, 3769, 3720, 5709, 6382, 3426, 2185, 187, 1216, 3052, 26, 625, 4205, 2933, 6175, 6445, 2326, 502, 4112, 5462, 5881, 4251, 3895, 31, 4200, 3889, 5034, 537, 2205, 1155, 2015, 339, 1194, 1453, 5366, 5934, 6121, 914, 4545, 1594, 582, 1211, 617, 3582, 860, 5307, 1248, 4414, 2455, 3736, 3340, 4900, 1017, 1252, 4105, 5966, 5849, 404, 6502, 1951, 3630, 1349, 4884, 341, 5706, 354, 5511, 2580, 4188, 6437, 2628, 6336, 1297, 940, 2527, 63, 1277, 4784, 4865, 121, 4473, 3682, 4243, 5448, 3431, 4684, 5137, 3815, 5527, 4127, 2491, 473, 1946, 6343, 5295]\n",
      "val ids:  [1714, 6448, 3668, 2383, 5477, 5444, 5707, 4575, 967, 1095, 3550, 3078, 3334, 942, 302, 3850, 3162, 24, 2862, 3020, 1779, 5394, 2280, 3809, 369, 6024, 4118, 4585, 3979, 3752, 1456, 1109, 6327, 3486, 274, 1506, 4588, 234, 1420, 6381, 2602, 728, 862, 3858, 3356, 3462, 1399, 5108, 6008, 434, 883, 5801, 277, 1973, 4250, 3878, 2101, 528, 4815, 1630, 1078, 343, 372, 4092, 5777, 5863, 3321, 4235, 2695, 2381, 2456, 6272, 4049, 3907, 1698, 3190, 6490, 4404, 5865, 1047, 3385, 6102, 4247, 4244, 1778, 6371, 2178, 2010, 3023, 2421, 5790, 3757, 5230, 2614, 970, 4976, 1670, 3166, 44, 3064, 1162, 4895, 3739, 2398, 6533, 1837, 2844, 1972, 1027, 3453, 1111, 4133, 6216, 2361, 5780, 767, 5702, 4443, 3965, 5594, 5139, 2532, 1682, 5264, 3522, 6057, 463, 5390, 1956, 1607, 102, 3237, 1026, 3146, 5391, 5603, 588, 2694, 2106, 2245, 180, 3225, 2092, 5697, 152, 4466, 4199, 3670, 546, 4201, 5259, 140, 3271, 1123, 1952, 387, 6041, 3784, 3598, 3867, 2811, 832, 6295, 1987, 390, 4712, 6007, 5193, 4899, 3354, 952, 2995, 957, 1542, 3662, 1372, 4793, 4149, 226, 3914, 3194, 4438, 3266, 3084, 3415, 5698, 6357, 2382, 1271, 56, 3498, 1577, 5522, 271, 472, 2176, 1608, 6360, 4642, 2183, 1937, 3367, 6372, 2701, 2345, 3751, 5393, 2781, 3137, 2858, 6367, 6076, 1350, 1088, 4203, 1154, 4012, 1025, 4638, 3957, 1996, 6337, 1496, 3262, 4196, 4052, 4305, 4386, 788, 4741, 5465, 4464, 5514, 3775, 3831, 1412, 1132, 192, 3499, 888, 2594, 4767, 1328, 803, 3088, 4076, 2303, 6130, 3443, 1707, 3191, 5319, 599, 3428, 3220, 5058, 3545, 6467, 4016, 6377, 4519, 5732, 5595, 4436, 1546, 4542, 4125, 2111, 2912, 773, 2557, 5208, 690, 6441, 6182, 848, 833, 4211, 3637, 3845, 2229, 2069, 680, 1486, 3666, 4500, 5192, 1384, 1530, 5642, 5355, 5267, 4376, 3172, 1215, 5768, 6284, 4279, 260, 2794, 3748, 2833, 4788, 4505, 4794, 6493, 3119, 991, 3700, 3377, 4885, 5231, 3134, 1022, 951, 746, 6093, 2443, 3677, 3561, 3459, 2554, 5947, 484, 5107, 5731, 522, 924, 3398, 3909, 1780, 5672, 4787, 5970, 6504, 2673, 762, 1770, 6543, 2504, 1091, 2608, 4407, 1251, 1413, 4952, 1613, 2600, 1975, 5650, 2937, 454, 3648, 3620, 231, 373, 678, 838, 1303, 2307, 1692, 5406, 1340, 4953, 92, 2958, 4280, 297, 1958, 5467, 943, 3130, 2257, 91, 45, 296, 4311, 3346, 5689, 3491, 4932, 849, 3138, 4310, 2318, 6547, 4045, 2873, 4221, 4852, 1834, 1074, 2507, 3315, 5435, 2446, 6346, 3532, 4224, 1545, 4995, 1796, 3147, 3929, 139, 5807, 4810, 2953, 861, 5474, 2225, 3873, 3674, 4294, 1028, 4804, 117, 3808, 792, 776, 4492, 594, 2064, 911, 382, 4541, 1864, 2598, 2333, 4648, 6432, 613, 5313, 5627, 3323, 3430, 3517, 4187, 2965, 3989, 5344, 1375, 4435, 3744, 1955, 5526, 2524, 4848, 5565, 5211, 912, 4747, 635, 2564, 5729, 4451, 6446, 4828, 4461, 1502, 6219, 1706, 4236, 6435, 4131, 865, 3133, 5400, 2472, 829, 4478, 2773, 184, 1915, 4898, 6215, 5701, 2368, 2137, 4599, 4633, 5012, 1657, 827, 5592, 5219, 6169, 1449, 4915, 5132, 6257, 3724, 2581, 3470, 1977, 4520, 201, 3342, 4943, 3186, 5094, 5220, 65, 4495, 4069, 3759, 1400, 4744, 5610, 1492, 389, 2112, 3924, 1944, 2428, 1293, 2962, 2471, 5446, 3041, 1816, 5617, 3893, 5291, 2925, 6265, 5535, 4612, 4849, 6040, 1925, 4454, 2559, 1645, 5380, 2291, 5677, 4956, 2023, 4159, 6246, 3740, 5857, 2876, 6447, 2658, 5953, 2693, 259, 6126, 4162, 1872, 4088, 4373, 5883, 4714, 3839, 2396, 6365, 2241, 3336, 4908, 5713, 626, 2139, 4715, 205, 1345, 2762, 6329, 2096, 1673, 4342, 3721, 131, 4307, 4581, 3781, 1674, 2202, 1208, 210, 219, 1458, 4033, 4324, 1124, 631, 556, 2967, 2890, 5102, 3404, 3755, 6047, 2775, 2771, 2743, 4050, 1677, 6514, 1879, 3622, 3566, 501, 2091, 913, 4962, 2849, 5834, 1791, 5130, 4068, 4252, 2190, 1286, 5708, 212, 5438, 1104, 5944, 4190, 6127, 1288, 1212, 3786, 4002, 3540, 172, 2929, 2734, 1564, 1595, 148, 5141, 2855, 1414, 1772, 6520, 2652, 1659, 2901, 4496, 5047, 4608, 1348, 208, 3745, 1858, 2689, 846, 3436, 4658, 2838, 3908, 4338, 5096, 971, 3683, 1447, 4552, 555, 5353, 3816, 2174, 2832, 4901, 2956, 4993, 4980, 3940, 5195, 4626, 2927, 4618, 1106, 133, 3050, 5346, 5785, 5539, 4571, 3898, 5057, 4402, 6027, 703, 3181, 1917, 2118, 1763, 2394, 1819, 2682, 4285, 5078, 67, 3309, 3596, 4059, 3322, 4064, 119, 5422, 3047, 2655, 4517, 1813, 4192, 1668, 3890, 6028, 4969, 1757, 1459, 4353, 3891, 2031, 1344, 2731, 519, 36, 317, 644, 2597, 5023, 4442, 5055, 3554, 3045, 1914, 2415, 1904, 4007, 6094, 4566, 3099, 5186, 4014, 3948, 464, 3210, 6443, 2919, 3057, 2915, 3851, 4378, 4950, 1769, 3363, 3272, 6038, 2253, 3580, 151, 2807, 1943, 4698, 95, 5615, 922, 3076, 2022, 2525, 584, 4248, 4232, 5427, 5197, 337, 3435, 6527, 5395, 1957, 6545, 3863, 3241, 6176, 3093, 2928, 619, 1335, 2593, 1009, 3171, 3657, 685, 4061, 4746, 6383, 4108, 3612, 2898, 3732, 697, 6541, 2814, 2363, 5861, 6018, 5852, 5504, 1207, 1856, 2906, 4206, 1174, 1797, 6171, 5398, 2874, 2434, 876, 1318, 6014, 5772, 2114, 3605, 2857, 5293, 257, 4951, 3658, 5569, 6055, 926, 4981, 4032, 2637, 5704, 3964, 4769, 2659, 2424, 1170, 3479, 5156, 2764, 3149, 4366, 4367, 4148, 4039, 4635, 2604, 1376, 2385, 2865, 4327, 2033, 1138, 3174, 681, 2100, 4792, 5792, 1195, 1264, 4528, 6404, 533, 391, 4534, 5516, 3467, 3173, 5897, 420, 359, 4805, 4743, 5596, 1329, 4085, 1910, 3008, 1584, 6426, 6088, 4318, 5482, 527, 3618, 1443, 1046, 6202, 1357, 3433, 1619, 2228, 4295, 1079, 77, 1323, 1424, 4276, 53, 4983, 2104, 3709, 1903, 3619, 3571, 782, 521, 4217, 1732, 665, 5385, 4333, 5775, 3805, 3860, 348, 1378, 2256, 5323, 3452, 2107, 255, 6220, 25, 5159, 3906, 2264, 1236, 2235, 4887, 3197, 3422, 5626, 5364, 5484, 2795, 768, 2208, 5384, 2549, 3866, 5145, 235, 1343, 5938, 963, 3903, 314, 6449, 3838, 2017, 2364, 1815, 909, 4194, 918, 5946, 5442, 2820, 1000, 4385, 3513, 3706, 5010, 366, 1010, 1110, 919, 2365, 3279, 950, 839, 4093, 345, 5932, 3548, 4690, 4444, 764, 461, 713, 2607, 1298, 4034, 2479, 4275, 1794, 3339, 4662, 1990, 4204, 4942, 1130, 6180, 6134, 3604, 6521, 3728, 5513, 1867, 4764, 2463, 2510, 5214, 873, 204, 3317, 312, 375, 1602, 2348, 2796, 6507, 6023, 4694, 3455, 5157, 5969, 4197, 5960, 6132, 3484, 4218, 2819, 4826, 2346, 2993, 590, 2722, 4161, 4259, 5341, 4587, 6037, 6034, 4147, 1034, 362, 2061, 3414, 3139, 4890, 2247, 3168, 2136, 3461, 2948, 6373, 5968, 1020, 1974, 3015, 4026, 2613, 1548, 4242, 1156, 3460, 4006, 4220, 5765, 3616, 5270, 1052, 6104, 418, 765, 4783, 1598, 6421, 6486, 1981, 3122, 3164, 1269, 6264, 1129, 783, 4110, 2007, 5271, 4396, 4292, 3533, 3260, 5381, 6409, 4966, 1219, 2817, 4253, 114, 3074, 2170, 4304, 5964, 445, 2999, 1848, 2812, 1568, 202, 547, 315, 228, 4911, 5529, 3282, 5138, 384, 4008, 1366, 5566, 2330, 227, 1582, 3298, 6492, 672, 4158, 5100, 4141, 1656, 4003, 3737, 2861, 2657, 851, 874, 3246, 1615, 368, 4949, 1087, 2186, 2155, 2572, 647, 5870, 5314, 3767, 1687, 2983, 5052, 4883, 6350, 4498, 2057, 6167, 563, 1347, 5032, 2603, 222, 4713, 3468, 3631, 1857, 2085, 3073, 2976, 2175, 6035, 5774, 3035, 526, 2839, 272, 4119, 5302, 4284, 4368, 5079, 1566, 5374, 5786, 4985, 4497, 3203, 2809, 2921, 99, 2110, 2751, 1908, 724, 6418, 3439, 609, 5629, 3991, 5563, 6434, 309, 4625, 6166, 3318, 3202, 3738, 5716, 3969, 422, 4041, 2589, 5614, 934, 4614, 5776, 3032, 2867, 877, 5962, 4223, 998, 1976, 2645, 6048, 2664, 3954, 3798, 3454, 2012, 5637, 3100, 2854, 1258, 1911, 5124, 566, 3124, 5371, 4847, 5887, 3946, 4058, 4460, 3226, 5641, 2344, 4281, 109, 5425, 5730, 1018, 6466, 2500, 3117, 2943, 2677, 3109, 2733, 3310, 2427, 2044, 4668, 1243, 5864, 440, 4469, 2308, 5550, 2449, 2358, 2197, 5636, 2060, 5651, 1012, 4536, 3031, 4317, 508, 6059, 2195, 6031, 5935, 3515, 6332, 439, 3417, 1445, 6099, 4905, 5995, 2506, 5976, 3502, 6546, 207, 5154, 103, 6283, 5028, 6086, 4970, 3782, 5916, 5237, 2538, 2728, 2528, 2552, 5548, 4636, 3599, 3570, 6534, 5233, 4035, 4549, 1417, 2372, 953, 4336, 1282, 4212, 5691, 3654, 263, 4827, 46, 2726, 1483, 194, 356, 6519, 304, 3425, 5795, 175, 2217, 6438, 4562, 5878, 3151, 1213, 338, 6173, 2692, 598, 3750, 3247, 3450, 2531, 887, 2949, 3516, 1499, 6454, 1462, 4493, 1037, 5320, 3579, 4375, 2619, 3542, 6349, 430, 2054, 2992, 3916, 3402, 4410, 1939, 4254, 3624, 2656, 3793, 4419, 4144, 4909, 2013, 1261, 1507, 4540, 3500, 4875, 5067, 3587, 6535, 3131, 2109, 4391, 2236, 6010, 5753, 2278, 2411, 5531, 5783, 4994, 831, 5788, 4868, 1997, 1737, 4062, 938, 1777, 2938, 5755, 3477, 1157, 2911, 5611, 1262, 3232, 1789, 929, 4666, 2878, 5405, 2803, 589, 1159, 1684, 3238, 3764, 4415, 2030, 5843, 1175, 4135, 3338, 2717, 3289, 1985, 863, 629, 646, 1753, 2716, 5379, 4864, 2078, 2063, 1892, 5206, 2154, 4175, 2840, 3995, 5470, 4817, 1465, 4331, 2907, 1331, 2164, 3258, 1690, 3655, 4740, 2842, 3830, 5158, 2587, 1868, 2262, 1927, 5699, 3646, 3353, 3249, 1166, 543, 6097, 5290, 931, 5376, 5853, 2940, 1402, 1419, 5686, 753, 5670, 5387, 616, 108, 295, 6463, 1285, 4971, 5756, 4132, 4629, 5184, 62, 2780, 6542, 2609, 2601, 5556, 5260, 770, 6388, 1401, 2856, 948, 3343, 2588, 6253, 6328, 3687, 4727, 441, 58, 5936, 4425, 1940, 2189, 6053, 5222, 5369, 4109, 6379, 1734, 1014, 2076, 2642, 4177, 4163, 2879, 5949, 5621, 3633, 4360, 5591, 4683, 2747, 1517, 4938, 2852, 6117, 3329, 2338, 6012, 2851, 1612, 3297, 182, 4397, 2736, 1183, 3058, 2276, 994, 6255, 3626, 6256, 3292, 1358, 4935, 917, 2233, 5043, 4030, 5268, 6415, 1859, 195, 5551, 6517, 2065, 3483, 6529, 4070, 778, 5560, 4051, 2043, 5036, 1989, 3106, 4270, 1481, 4811, 4903, 2877, 4191, 2895, 224, 3685, 4710, 6422, 306, 5475, 5473, 2805, 6267, 289, 1897, 3505, 5547, 2683, 2272, 1165, 4261, 3524, 3469, 2941, 4354, 1346, 6212, 2847, 3024, 1290, 539, 2179, 383, 6326, 4457, 592, 1209, 2836, 3868, 6488, 3178, 2166, 6325, 4711, 3871, 1825, 287, 1729, 4968, 4272, 2366, 2750, 4501, 3799, 2530, 5950, 2681, 4772, 3699, 1089, 5204, 4168, 5894, 4291, 5287, 2610, 2547, 6469, 1404, 5077, 4065, 5674, 2028, 2267, 1259, 447, 6106, 5277, 3063, 3267, 1741, 1177, 123, 3981, 1136, 5554, 3152, 462, 5133, 4255, 5306, 49, 1651, 2450, 3661, 618, 3199, 4851, 4580, 761, 1273, 336, 3870, 1949, 5478, 5725, 2690, 6051, 5218, 6494, 1683, 2321, 1003, 2825, 607, 2590, 1740, 2964, 3951, 3861, 301, 2697, 5891, 177, 5235, 5872, 5618, 3834, 6254, 6210, 3080, 3777, 2760, 3123, 2138, 606, 3675, 549, 3726, 2483, 4860, 3256, 4870, 1587, 134, 1368, 40, 15, 4113, 471, 5242, 6403, 3802, 4043, 1508, 1268, 4685, 3984, 602, 3410, 2261, 1696, 2487, 6054, 10, 5118, 3746, 3388, 4456, 4365, 3606, 2497, 4393, 5733, 3257, 5025, 3968, 1117, 3395, 1325, 13, 5151, 2263, 6420, 5855, 1193, 282, 5050, 193, 2082, 4538, 2533, 2141, 4054, 5803, 351, 6300, 1322, 6179, 5810, 745, 1567, 5977, 1941, 3239, 1898, 2596, 1099, 3159, 3560, 2165, 2886, 1984, 6484, 2265, 2770, 2738, 3814, 1962, 6512, 4982, 3573, 2591, 2123, 3959, 1575, 2452, 2546, 4422, 2125, 4934, 5915, 4387, 5917, 3990, 3673, 6186, 2034, 5648, 1912, 6019, 71, 6163, 5866, 3423, 4063, 5026, 4570, 5646, 1324, 2765, 4273, 1339, 4829, 4022, 1810, 3939, 4228, 1179, 1181, 6029, 3495, 3472, 6198, 3333, 1050, 5202, 1622, 596, 483, 1571, 1739, 4372, 1852, 3375, 2843, 1563, 4198, 3320, 5227, 3001, 433, 2018, 3013, 751, 910, 2567, 3707, 316, 3758, 233, 4609, 772, 258, 3583, 5764, 5613, 4686, 5061, 1590, 3344, 6280, 2944, 3713, 2239, 757, 3347, 710, 2218, 4824, 771, 4831, 5210, 4527, 278, 2056, 2676, 5437, 4929, 5099, 691, 5869, 5060, 4821, 3290, 4146, 3888, 474, 4704, 3475, 4700, 2072, 51, 4094, 3783, 3770, 2445, 3607, 4877, 667, 5711, 230, 4725, 5266, 3932, 5530, 1381, 4774, 5847, 3653, 4707, 4584, 1100, 4623, 4120, 2227, 2974, 870, 1902, 3405, 4302, 1818, 1614, 6292, 4663, 1253, 996, 1083, 5155, 2274, 3556, 4079, 3701, 5321, 2088, 2730, 3017, 6302, 834, 4090, 5457, 808, 1030, 6335, 5274, 5779, 694, 1905, 4445, 1998, 3558, 2244, 3511, 2481, 6522, 875, 1591, 4782, 3413, 3418, 2254, 2090, 4340, 6223, 2062, 671, 3575, 2271, 1676, 6439, 4339, 5885, 553, 3574, 403, 705, 6016, 3003, 6185, 1260, 5833, 2259, 4845, 5024, 1983, 6338, 4516, 6301, 1008, 3009, 3044, 4379, 6122, 1379, 3245, 3351, 455, 2685, 4742, 2686, 2565, 2724, 3358, 3698, 4687, 1464, 4009, 5432, 1197, 3345, 1652, 2806, 129, 5506, 4859, 523, 2135, 6385, 3412, 4653, 128, 4230, 5562, 1425, 4341, 2331, 6419, 5051, 4416, 3490, 5377, 1767, 3842, 2367, 1203, 5552, 2822, 448, 3028, 225, 4446, 5895, 5671, 5221, 2649, 444, 6274, 2290, 1272, 5463, 4449, 3420, 218, 4568, 4290, 3887, 3899, 1705, 1435, 4556, 583, 4775, 358, 4630, 3514, 2486, 2384, 4807, 955, 3204, 1365, 6459, 5224, 1678, 5046, 845, 5472, 3091, 2196, 112, 3291, 76, 232, 3077, 1295, 2675, 5063, 6177, 5038, 157, 28, 1186, 1210, 5645, 3927, 6204, 1429, 6526, 3790, 1284, 787, 2845, 3248, 3694, 915, 3012, 859, 2180, 1054, 3742, 2042, 3688, 370, 3519, 1289, 5066, 5793, 1626, 2391, 4474, 1244, 4271, 2435, 5311, 66, 853, 5726, 4655, 645, 1583, 2102, 941, 1098, 4913, 3014, 5213, 4179, 1013, 3628, 2117, 93, 6141, 6453, 2035, 1775, 424, 3883, 3411, 1931, 5888, 2896, 4518, 2016, 1665, 4886, 3169, 355, 4337, 6123, 4944, 2900, 3070, 4215, 3930, 510, 2416, 2194, 266, 4137, 6425, 6285, 5703, 2476, 2752, 5207, 4820, 1423, 2349, 206, 1894, 1735, 1593, 2954, 4173, 2798, 4670, 2562, 1405, 4115, 593, 3068, 5512, 1191, 485, 100, 4300, 5183, 1691, 885, 3386, 2005, 94, 2978, 3372, 3021, 3447, 597, 544, 2989, 1877, 4114, 2584, 4298, 3046, 1385, 3128, 5797, 5069, 5896, 3510, 4239, 1072, 3956, 1488, 4813, 6341, 3482, 3213, 116, 3101, 4669, 2084, 5508, 6112, 2325, 4692, 5459, 5538, 1092, 805, 137, 4888, 3787, 5123, 5549, 4486, 4121, 2864, 155, 2413, 2691, 3595, 512, 6384, 4289, 784, 3189, 6188, 6364, 4948, 2514, 5144, 1321, 2287, 535, 451, 4954, 3804, 2143, 29, 1287, 6015, 866, 2666, 5073, 1337, 2636, 220, 3352, 3456, 6510, 2568, 443, 3864, 68, 1574, 3145, 5524, 5555, 2336, 1663, 3597, 1755, 520, 3928, 2163, 5846, 2810, 1709, 2182, 4241, 3111, 564, 5710, 3069, 1239, 6536, 3912, 1202, 3357, 6278, 3018, 5848, 5893, 6358, 2334, 5191, 2242, 3934, 421, 2393, 5967, 4833, 276, 4038, 5272, 4087, 4027, 2778, 6530, 3715, 550, 3711, 3135, 6205, 4226, 281, 4172, 3917, 3042, 4871, 4930, 1935, 3810, 2888, 997, 531, 763, 4583, 2570, 2026, 6020, 5234, 1085, 1869, 115, 5892, 4389, 4467, 4734, 4106, 1044, 5483, 4579, 4701, 2397, 949, 1374, 6100, 5016, 6009, 1326, 153, 3332, 47, 4610, 1205, 1245, 2740, 3196, 5265, 3994, 2611, 197, 6128, 4652, 5620, 4882, 6286, 2801, 223, 2653, 1082, 6524, 6501, 2660, 850, 2767, 2831, 3092, 2420, 3862, 2098, 4661, 1980, 1509, 1550, 2342, 4316, 3274, 3224, 5340, 6306, 5258, 6294, 2620, 347, 2816, 4388, 3432, 3686, 515, 1697, 3195, 4602, 3778, 269, 3393, 38, 2039, 4256, 666, 2769, 6282, 4615, 380, 6011, 1173, 5262, 2395, 3083, 5127, 173, 2860, 2902, 4126, 4578, 1185, 946, 1871, 293, 615, 2071, 1353, 5292, 4526, 5889, 3584, 3288, 22, 3695, 3996, 5926, 4124, 1932, 4057, 3632, 1436, 774, 3048, 2492, 5283, 4382, 702, 3672, 3640, 847, 1024, 268, 5275, 4277, 6168, 4689, 2979, 4567, 643, 3376, 1131, 2467, 2451, 5466, 4315, 3403, 5030, 4708, 1907, 4165, 5296, 4524, 2635, 5357, 5673, 6412, 536, 2055, 3704, 1198, 1266, 591, 6450, 2754, 5927, 5136, 5205, 1928, 5924, 5952, 2894, 5568, 1038, 1812, 342, 5533, 6197, 1430, 3293, 4873, 1086, 3209, 6290, 749, 6207, 2662, 3277, 4978, 3944, 3761, 3977, 2352, 5464, 2246, 711, 5383, 5181, 4483, 12, 1055, 632, 1953, 1865, 2939, 890, 4825, 4458, 4889, 2496, 2526, 3508, 2433, 1498, 1342, 928, 5638, 3005, 3547, 3188, 211, 2423, 4532, 1093, 381, 581, 2959, 4413, 3696, 6244, 4940, 1986, 1754, 3617, 453, 5452, 4362, 2473, 1523, 4363, 3368, 5692, 6004, 3735, 1543, 5588, 3651, 3029, 1918, 6075, 2516, 5122, 1356, 1302, 5809, 449, 377, 1923, 4776, 6118, 6465, 3978, 3457, 6544, 804, 5402, 3541, 3180, 1538, 4231, 4107, 149, 5316, 6262, 1002, 4071, 4605, 5053, 5802, 3396, 4150, 1922, 2583, 6387, 6195, 748, 6098, 2821, 6354, 1452, 1978, 4504, 5561, 1301, 2946, 3096, 3800, 4156, 760, 2884, 4111, 3650, 2535, 4681, 1829, 4417, 3678, 2200, 6133, 3900, 2429, 6538, 4856, 5486, 6276, 466, 4401, 1451, 4649, 3869, 1527, 3660, 3572, 1930, 2712, 5431, 6077, 1454, 4627, 6105, 4906, 237, 6243, 5481, 5509, 3910, 6116, 3743, 6442, 2158, 868, 3877, 3733, 5301, 3208, 1077, 2097, 6170, 5913, 6378, 5064, 3705, 5212, 4278, 3223, 1007, 6050, 1700, 6413, 3970, 3627, 215, 5720, 4857, 3892, 1327, 1781, 468, 6213, 2783, 1861, 507, 2561, 5388, 1204, 6218, 4910, 3103, 5308, 5033, 2058, 4645, 2555, 394, 1257, 221, 2670, 5223, 1511, 5832, 5461, 1701, 3176, 3466, 795, 4202, 2826, 4412, 5054, 6192, 2991, 5540, 6107, 4697, 2073, 1270, 5468, 2799, 4308, 2792, 3072, 4151, 3097, 1522, 1125, 5860, 3409, 3153, 2957, 475, 1363, 2502, 6156, 3603, 3215, 1855, 4688, 1658, 2924, 4082, 4861, 5150, 716, 696, 3824, 1795, 3243, 41, 2579, 6251, 4297, 933, 5428, 3901, 2248, 340, 4392, 2024, 3734, 5160, 4005, 2745, 5070, 4371, 378, 518, 3242, 2083, 3361, 3110, 2934, 3963, 995, 4766, 2631, 6087, 1187, 3308, 19, 973, 4047, 2157, 3538, 3102, 5971, 2605, 5175, 5117, 4470, 4808, 2440, 5844, 4874, 3244, 3233, 3086, 2177, 676, 97, 605, 181, 4617, 1532, 6022, 2250, 6172, 3819, 3749, 3087, 2917, 3669, 3419, 4153, 3359, 2727, 6305, 3251, 5647, 3254, 2804, 3286, 188, 2868, 5536, 6221, 1409, 5454, 3535, 396, 4531, 4025, 5196, 4283, 5546, 5965, 4750, 1422, 5375, 2853, 542, 2920, 4823, 540, 6194, 265, 2763, 2105, 5593, 196, 3602, 1845, 4129, 4946, 104, 3915, 4939, 3823, 2301, 2945, 3872, 6460, 2355, 2648, 6331, 2369, 4004, 4167, 5022, 964, 2997, 954, 5812, 1742, 2972, 4736, 1529, 5015, 5587, 5261, 2882, 4819, 5752, 1768, 545, 2650, 4086, 1164, 3081, 42, 2004, 435, 4651, 4286, 5106, 5263, 284, 2322, 612, 5873, 6208, 261, 4576, 4770, 476, 1899, 2438, 125, 1703, 4695, 1933, 6505, 3822, 1982, 3006, 2006, 1112, 1726, 5616, 505, 5773, 2702, 3789, 3485, 2029, 1672, 4550, 3756, 190, 5299, 3684, 3314, 809, 3625, 1979, 6440, 3518, 2536, 3383, 3366, 1580, 2699, 1493, 3723, 5146, 350, 3512, 3614, 5994, 2534, 5228, 3478, 3546, 6485, 1240, 3958, 6429, 2162, 254, 1218, 1565, 5226, 2390, 3859, 2612, 2310, 286, 2759, 2665, 4866, 2756, 365, 4862, 3712, 1114, 3567, 6468, 3424, 1873, 3269, 2437, 1332, 5351, 3481, 2793, 5625, 2618, 548, 3719, 1893, 4667, 3794, 2582, 2299, 1710, 189, 6260, 947, 4705, 5322, 4791, 2848, 6157, 6293, 3832, 5794, 1276, 5479, 3259, 3537, 3993, 3708, 4709, 5389, 2936, 4219, 692, 5429, 2288, 1196, 5185, 6046, 1632, 6139, 5065, 5929, 4359, 458, 3049, 5937, 5298, 687, 5567, 3925, 532, 2347, 600, 4628, 5451, 1647, 5886, 2490, 1168, 388, 628, 4452, 6532, 1667, 2746, 2632, 5815, 4878, 992, 4130, 4222, 1874, 1380, 1415, 5236, 1896, 5318, 3154, 3966, 1192, 4781, 1045, 4155, 4325, 1442, 990, 6540, 3563, 1821, 6296, 5286, 2719, 5305, 110, 3108, 3594, 3487, 2753, 3185, 1049, 3986, 1611, 270, 2388, 5093, 5372, 3549, 2495, 3255, 6375, 4659, 6495, 2469, 2887, 3886, 2441, 3813, 3918, 797, 756, 1788, 2698, 3025, 364, 2969, 2908, 4984, 5813, 2474, 1736, 6291, 6266, 2066, 1182, 4535, 2116, 5811, 5426, 4892, 4484, 3811, 4260, 2782, 2077, 1410, 4186, 1783, 2422, 3167, 1053, 2087, 2893, 3022, 4869, 4748, 2108, 1961, 4529, 4682, 5875, 1746, 4357, 1513, 2671, 2444, 5633, 101, 4293, 1256, 3829, 6201, 2739, 2926, 1685, 2425, 945, 2454, 3098, 5110, 4313, 4931, 5011, 4739, 2891, 3216, 5532, 5804, 2151, 2639, 3576, 6323, 2187, 307, 3835, 3718, 857, 2723, 2909, 2329, 3998, 467, 2968, 4733, 1514, 4437, 6043, 688, 5791, 1581, 1623, 2353, 174, 1351, 1792, 5941, 1246, 305, 2499, 6452, 2732, 5693, 747, 3488, 4643, 2987, 5269, 2850, 150, 2615, 3636, 674, 3240, 3960, 3849, 3507, 5273, 6548, 3300, 2478, 1406, 2171, 3113, 6206, 4459, 5925, 1820, 1790, 4036, 3881, 6140, 2121, 3275, 144, 428, 5111, 1364, 2470, 6516, 2119, 4448, 6045, 511, 346, 999, 4095, 3762, 5300, 3613, 2198, 6091, 2191, 3273, 2630, 5072, 2019, 5140, 2249, 1843, 143, 891, 2373, 2961, 3795, 3061, 5125, 4421, 637, 2889, 5712, 2573, 154, 4335, 2315, 5143, 5923, 3132, 1817, 6114, 323, 4732, 1116, 759, 686, 1660, 689, 5959, 4897, 2337, 1586, 793, 1715, 4958, 669, 3806, 6427, 3980, 3843, 3325, 5957, 4716, 3030, 4169, 1666, 4735, 2392, 5404, 6549, 4830, 3143, 3492, 2981, 2279, 5505, 717, 3999, 6103, 3543, 5676, 6525, 1334, 6513, 6503, 4573, 841, 1080, 4303, 610, 3875, 5209, 107, 1485, 1730, 4822, 5189, 1744, 4011, 6189, 3581, 6368, 2270, 6423, 4377, 1134, 3394, 2592, 2037, 4544, 3997, 2837, 1960, 30, 4369, 3559, 34, 6211, 1249, 3053, 2193, 4490, 6344, 5723, 2311, 4867, 624, 5928, 5021, 1752, 4499, 1482, 3150, 709, 6090, 2505, 5537, 3827, 1407, 4723, 310, 6498, 3307, 3129, 3531, 2725, 2255, 1863, 6500, 1081, 2519, 766, 3841, 3464, 1534, 5609, 4381, 5315, 3305, 2791, 4455, 4729, 6017, 1541, 2300, 1377, 5153, 5152, 6084, 5882, 1075, 2332, 2328, 3071, 4749, 4832, 50, 4288, 2206, 2544, 930, 4751, 1786, 4634, 6369, 4301, 2511, 1056, 5787, 5187, 5675, 6224, 3369, 2226, 5216, 2818, 2990, 3820, 6021, 1294, 2305, 2988, 1411, 5766, 3306, 1263, 4028, 2268, 3961, 4622, 2115, 5954, 2359, 2823, 1113, 3079, 1296, 4046, 2931, 3324, 852, 4606, 2687, 3565, 5688, 2447, 1011, 4246, 2003, 1466, 1653, 2586, 5105, 460, 6361, 4797, 1588, 3387, 4972, 6258, 1096, 4122, 5352, 3011, 4403, 3261, 2975, 3075, 2402, 5013, 972, 3446, 3408, 1809, 2563, 1847, 5161, 752, 1605, 186, 203, 4418, 3731, 4752, 4066, 700, 6250, 5939, 1993, 1646, 1870, 2403, 2599, 5045, 299, 4803, 4056, 3763, 2464, 6414, 3105, 6026, 1373, 4489, 5914, 1890, 2339, 4287, 3593, 6209, 5518, 828, 6275, 6137, 3629, 1572, 4152, 5147, 1671, 3641, 726, 4547, 6330, 459, 3219, 3983, 4914, 3236, 349, 4214, 3406, 6537, 5619, 1901, 470, 5018, 4945, 2569, 5528, 5031, 4557, 4423, 6271, 5975, 758, 5238, 3788, 4786, 1163, 4650, 4096, 4554, 4894, 509, 2144, 2251, 1891, 5931, 213, 3158, 1851, 367, 2830, 6252, 6268, 1333, 2323, 3656, 5241, 3679, 216, 1463, 1579, 2910, 2370, 5510, 2150, 5649, 4726, 27, 3182, 1844, 6457, 3534, 916, 4955, 4941, 4989, 2161, 2678, 4075, 4060, 2145, 6281, 2103, 3659, 2749, 6249, 6142, 2273, 438, 113, 2713, 5850, 6352, 5836, 4370, 5373, 124, 2153, 3381, 3747, 1031, 2617, 5074, 3722, 2260, 3002, 3852, 288, 185, 6411, 4988, 3489, 4208, 4229, 2700, 5485, 2070, 5696, 2578, 4023, 2120, 156, 4611, 1942, 1491, 2985, 1597, 4543, 2426, 1495, 506, 1019, 6135, 1750, 503, 52, 2815, 3051, 2389, 2679, 1785, 3776, 611, 5771, 273, 871, 2916, 5564, 2484, 837, 135, 1854, 1831, 3865, 1610, 2448, 3004, 854, 37, 4123, 1695, 48, 4647, 4238, 3458, 3521, 3399, 3312, 4189, 2203, 5382, 4384, 5997, 1330, 5805, 4936, 3988, 1450, 3497, 3768, 789, 886, 5951, 4171, 5365, 4522, 6115, 3392, 1876, 4785, 3160, 2099, 2498, 1497, 3501, 98, 3207, 3879, 4928, 4055, 4053, 1733, 4551, 4424, 33, 1569, 2829, 2319, 361, 6348, 6030, 4598, 4084, 1621, 6217, 4539, 2032, 530, 3974, 2306, 6416, 3400, 2410, 5956, 2714, 1787, 456, 3374, 2014, 1021, 2703, 3287, 2343, 4031, 5955, 55, 5469, 6499, 538, 3389, 4855, 4274, 4343, 2387, 236, 6408, 1446, 3115, 6092, 6237, 6366, 2574, 3975, 6089, 199, 397, 4654, 5634, 465, 4323, 6386, 806, 4227, 3847, 725, 5856, 6506, 3945, 4383, 5128, 3212, 5942, 3880, 262, 292, 1688, 2663, 3716, 5449, 693, 6497, 1866, 2501, 1860, 5874, 1408, 6458, 122, 2095, 4390, 4564, 385, 379, 2414, 4380, 2224, 4637, 1004, 698, 2167, 2537, 1518, 5131, 2277, 5507, 670, 5770, 3592, 5062, 5687, 1500, 1625, 5324, 634, 3295, 807, 1606, 1878, 5767, 4600, 4104, 5297, 4553, 791, 3642, 393, 1811, 2199, 2545, 755, 2521, 5721, 5858, 715, 1029, 2156, 750, 3904, 1954, 1539, 3792, 1255, 1176, 5728, 3529, 5845, 2643, 2494, 2283, 1592, 6196, 6003, 3506, 1352, 5940, 3972, 138, 6509, 1090, 6451, 1604, 146, 4332, 1774, 6109, 4691, 1043, 3664, 2243, 6060, 2513, 4352, 712, 3703, 5544, 4010, 6304, 3941, 1341, 5695, 5854, 4802, 723, 601, 2672, 2966, 4858, 2982, 5694, 6417, 3416, 6193, 4441, 4656, 2558, 5635, 3136, 3114, 551, 2406, 4487, 6487, 2266, 5368, 1947, 3947, 1515, 4083, 4013, 6334, 2086, 5669, 4812, 2626, 4991, 3082, 1842, 3803, 73, 300, 1533, 6200, 6056, 622, 2341, 4546, 2955, 695, 2621, 2188, 1370, 6181, 5808, 3894, 1336, 6273, 2971, 3569, 229, 2669, 2824, 39, 5019, 5350, 2357, 1711, 5973, 1616, 2207, 6363, 4157, 5979, 2285, 3544, 43, 5961, 5232, 4975, 142, 2571, 6183, 1076, 5194, 5095, 1035, 2309, 1531, 5972, 3976, 1190, 3250, 2209, 3331, 1189, 4269, 1516, 4234, 2651, 3846, 5049, 3536, 279, 3370, 1115, 2998, 4773, 4405, 3253, 2667, 889, 5930, 2407, 699, 5348, 4814, 2755, 6405, 3812, 1292, 5071, 6119, 6263, 679, 2159, 2942, 836, 6025, 4795, 1628, 1836, 1444, 1428, 4358, 3230, 4644, 855, 1924, 3896, 2644, 6178, 6410, 6455, 4979, 5933, 1756, 4233, 2551, 5769, 557, 1758, 1727, 69, 4128, 6333, 1382, 3635, 5229, 5035, 5362, 4986, 446, 3328, 5097, 2638, 5177, 4138, 3276, 5718, 5347, 4525, 1830, 1421, 5778, 3090, 2768, 5447, 1319, 2113, 4193, 864, 5837, 1448, 436, 2362, 2905, 4876, 5480, 3818, 5397, 179, 4321, 6462, 5570, 927, 4730, 1005, 4398, 4207, 5109, 1032, 5597, 5289, 5945, 1023, 6184, 3056, 1275, 5879, 2237, 3833, 2977, 620, 5622, 3741, 1416, 386, 6428, 450, 4816, 2148, 70, 1254, 5719, 3085, 1526, 2779, 3121, 939, 3671, 2192, 1950, 6531, 664, 5545, 704, 6138, 2021, 5056, 2439, 3183, 2360, 2238, 2518, 3294, 6436, 1675, 5148, 3836, 6245, 3335, 3552, 4176, 682, 3397, 313, 595, 3727, 6355, 2903, 6191, 1457, 2520, 178, 6164, 4117, 2808, 5851, 2947, 5630, 4237, 5142, 4351, 4818, 2181, 3299, 3429, 3283, 3380, 3095, 1460, 3525, 2453, 2093, 6058, 6303, 3528, 2436, 1247, 2883, 3551, 3844, 3421, 921, 1048, 1206, 1835, 754, 1655, 517, 6261, 1934, 920, 5309, 4502, 2008, 5974, 2585, 3667, 4621, 4258, 1712, 4142, 2312, 5623, 3222, 3825, 2785, 2841, 2419, 2011, 636, 1001, 3921, 3785, 668, 844, 5092, 4364, 5606, 2777, 6430, 1169, 1501, 6550, 3807, 2356, 5800, 1118, 3649, 6551, 3766, 183, 4001, 1033, 21, 2758, 5690, 2231, 5963, 3278, 2922, 3801, 935, 6324, 4604, 1589, 1995, 6136, 2827, 1661, 3590, 5684, 1689, 2980, 1084, 6297, 872, 5239, 2147, 587, 2442, 5020, 3284, 3577, 1828, 2430, 6165, 5806, 5796, 2354, 3187, 4996, 6248, 3401, 6518, 2766, 3437, 3643, 1547, 4796, 2252, 4947, 6444, 5101, 4521, 376, 5628, 4912, 2696, 1242, 858, 4471, 2152, 1664, 5541, 1468, 3985, 1094, 198, 3634, 5868, 2986, 3141, 2627, 3227, 5880, 3897, 1702, 3156, 1649, 3973, 1776, 4718, 5014, 3066, 5453, 3911, 1765, 856, 2327, 5176, 2219, 3217, 2074, 2140, 3235, 2412, 5460, 3319, 4216, 4798, 1535, 2606, 5476, 4973, 4178, 4245, 4974, 6483, 3441, 2230, 4225, 5639, 3942, 5284, 5534, 5781, 2020, 4322, 585, 353, 1764, 1938, 603, 4613, 4632, 3681, 3826, 3568, 706, 5559, 4660, 2313, 6374, 5558, 437, 3557, 3476, 2742, 1265, 6129, 3848, 3465, 4015, 4530, 3922, 4145, 4488, 2149, 4907, 1101, 3427, 2523, 5456, 4166, 357, 4933, 932, 425, 965, 5624, 3214, 2009, 3302, 3717, 3301, 4040, 623, 2221, 3564, 1291, 1237, 6523, 3434, 6539, 4555, 4696, 4361, 4646, 5042, 477, 20, 2757, 3089, 1743, 1158, 541, 552, 2025, 2351, 5751, 5754, 5356, 4569, 4476, 96, 6083, 2994, 2335, 6356, 2468, 2222, 4763, 1909, 4024, 5589, 4987, 5345, 6270, 1748, 1467, 779, 1926, 6203, 3157, 5240, 5814, 1128, 5871, 5342, 1133, 554, 1484, 714, 3039, 1438, 3027, 525, 2282, 5862, 5884, 3725, 6407, 524, 4893, 72, 275, 6006, 5434, 2970, 59, 5458, 786, 5433, 6214, 2973, 5399, 1178, 352, 3285, 3448, 835, 452, 1426, 1051, 4977, 1278, 431, 1875, 2431, 2918, 469, 4067, 1576, 6052, 1490, 5722, 3391, 6433, 3177, 4440, 176, 127, 3765, 3252, 777, 993, 2741, 4706, 1570, 4140, 2548, 3407, 4406, 1766, 2350, 6101, 5757, 1731, 3615, 267, 4329, 4097, 1369, 5027, 6039, 5799, 200, 429, 303, 1135, 4154, 5763, 5112, 5867, 4249, 565, 6406, 5059, 3473, 1283, 3821, 2289, 3692, 6511, 5098, 4558, 4465, 4731, 2835, 16, 3330, 5037, 4607, 4048, 5354, 2711, 780, 3926, 1161, 3019, 627, 106, 1906, 3589, 5958, 5612, 675, 2875, 5180, 363, 6085, 3647, 6351, 3652, 5076, 5978, 2897, 6111, 3155, 1609, 4314, 32, 4409, 2913, 3449, 4745, 5798, 1823, 2386, 3112, 1160, 3026, 4077, 2485, 5943, 2466, 2930, 4319, 4616, 61, 2075, 2269, 5075, 1108, 1036, 5149, 5103, 4374, 3955, 775, 3797, 2963, 1992, 1945, 1620, 3016, 3067, 1849, 1489, 1585, 4037, 392, 3962, 3509, 4078, 214, 1217, 3175, 1320, 2475, 529, 5700, 5068, 6528, 4136, 3161, 4453, 1853, 5705, 283, 5217, 3697, 5392, 130, 4619, 3007, 3710, 781, 1814, 5443, 6259, 6110, 2674, 1862, 1512, 2661, 2634, 2802, 3588, 4778, 614, 5471, 6131, 1627, 3142, 4582, 3876, 4042, 1403, 6013, 1749, 2038, 1006, 2735, 2595, 1784, 1747, 3125, 2432, 4209, 3950, 4728, 3493, 2503, 1367, 5590, 1122, 2173, 3384, 64, 4765, 4485, 6247, 426, 4737, 4210, 1827, 3218, 1617, 2314, 4139, 6277, 884, 4134, 11, 2576, 4213, 2409, 5608, 2067, 2668, 4463, 1988, 6279, 427, 843, 2374, 683, 5643, 5225, 6339, 4693, 1437, 4997, 3753, 5129, 60, 4771, 633, 3348, 3364, 298, 4439, 1338, 2522, 2737, 5044, 2168, 1105, 4029, 869, 5288, 3949, 3586, 5367, 5363, 6496, 1648, 1434, 5644, 5553, 2709, 2828, 3933, 5386, 2629, 1994, 3611, 1300, 4326, 3268, 4834, 1573, 4462, 4548, 1362, 4328, 1838, 1073, 5349, 1850, 3639, 6113, 18, 1317, 1686, 4854, 6042, 4434, 2232, 663, 4722, 6124, 4703, 4896, 4601, 4965, 3065, 74, 308, 6347, 5116, 432, 1103, 5640, 1524, 2616, 4657, 6431, 6464, 4872, 4468, 3874, 1650, 1536, 75, 727, 3931, 4072, 5317, 371, 2647, 3170, 5430, 3779, 1631, 105, 4738, 3037, 1267, 3591, 2405, 3923, 5285, 3000, 136, 3992, 2404, 3281, 4494, 4565, 1745, 2316, 4664, 6120, 5685, 3270, 1662, 1713, 1704, 3663, 2566, 209, 5396, 4777, 5525, 6340, 707, 1540, 5282, 5717, 2761, 2068, 2304, 3311, 1505, 1016, 1824, 4990, 5890, 6424, 925, 5632, 4450, 2371, 6033, 3445, 3062, 4537, 4533, 1771, 3702, 1431, 5378, 4846, 6345, 4482, 423, 3902, 785, 2489, 217, 6298, 3480, 4475, 3371, 3382, 3905, 3553, 2708, 6032, 3967, 4717, 1102, 867, 2089, 4967, 2892, 3504, 2142, 2340, 4164, 147, 4074, 2302, 4850, 3263, 3987, 3303, 1846, 3390, 1250, 1948, 3127, 132, 2950, 621, 4853, 1172, 1708, 2172, 1782, 1461]\n",
      "test ids:  [0, 1, 2, 3, 4, 5, 6, 7, 8, 78, 79, 80, 81, 82, 83, 84, 85, 86, 87, 88, 89, 90, 158, 159, 160, 161, 162, 163, 164, 165, 166, 167, 168, 169, 170, 171, 238, 239, 240, 241, 242, 243, 244, 245, 246, 247, 248, 249, 250, 251, 252, 253, 318, 319, 320, 321, 322, 324, 325, 326, 327, 328, 329, 330, 331, 332, 333, 334, 335, 398, 399, 400, 401, 402, 405, 406, 407, 408, 409, 410, 411, 412, 413, 414, 415, 416, 417, 478, 479, 480, 481, 482, 486, 487, 488, 489, 490, 491, 492, 493, 494, 495, 496, 497, 498, 499, 558, 559, 560, 561, 562, 567, 568, 569, 570, 571, 572, 573, 574, 575, 576, 577, 578, 579, 580, 638, 639, 640, 641, 642, 648, 649, 650, 651, 652, 653, 654, 655, 656, 657, 658, 659, 660, 661, 662, 718, 719, 720, 721, 722, 729, 730, 731, 732, 733, 734, 735, 736, 737, 738, 739, 740, 741, 742, 743, 744, 798, 799, 800, 801, 802, 810, 811, 812, 813, 814, 815, 816, 817, 818, 819, 820, 821, 822, 823, 824, 825, 826, 878, 879, 880, 881, 882, 892, 893, 894, 895, 896, 897, 898, 899, 900, 901, 902, 903, 904, 905, 906, 907, 908, 958, 959, 960, 961, 962, 974, 975, 976, 977, 978, 979, 980, 981, 982, 983, 984, 985, 986, 987, 988, 989, 1039, 1040, 1041, 1057, 1058, 1059, 1060, 1061, 1062, 1063, 1064, 1065, 1066, 1067, 1068, 1069, 1070, 1071, 1119, 1120, 1121, 1139, 1140, 1141, 1142, 1143, 1144, 1145, 1146, 1147, 1148, 1149, 1150, 1151, 1152, 1153, 1199, 1200, 1201, 1221, 1222, 1223, 1224, 1225, 1226, 1227, 1228, 1229, 1230, 1231, 1232, 1233, 1234, 1235, 1279, 1280, 1281, 1304, 1305, 1306, 1307, 1308, 1309, 1310, 1311, 1312, 1313, 1314, 1315, 1316, 1359, 1360, 1361, 1386, 1387, 1388, 1389, 1390, 1391, 1392, 1393, 1394, 1395, 1396, 1397, 1398, 1439, 1440, 1441, 1469, 1470, 1471, 1472, 1473, 1474, 1475, 1476, 1477, 1478, 1479, 1480, 1519, 1520, 1521, 1551, 1552, 1553, 1554, 1555, 1556, 1557, 1558, 1559, 1560, 1561, 1562, 1599, 1600, 1601, 1633, 1634, 1635, 1636, 1637, 1638, 1639, 1640, 1641, 1642, 1643, 1644, 1679, 1680, 1681, 1716, 1717, 1718, 1719, 1720, 1721, 1722, 1723, 1724, 1725, 1759, 1760, 1761, 1798, 1799, 1800, 1801, 1802, 1803, 1804, 1805, 1806, 1807, 1839, 1840, 1841, 1880, 1881, 1882, 1883, 1884, 1885, 1886, 1887, 1888, 1889, 1919, 1920, 1921, 1963, 1964, 1965, 1966, 1967, 1968, 1969, 1970, 1971, 1999, 2000, 2001, 2045, 2046, 2047, 2048, 2049, 2050, 2051, 2052, 2053, 2079, 2080, 2081, 2127, 2128, 2129, 2130, 2131, 2132, 2133, 2134, 2160, 2210, 2211, 2212, 2213, 2214, 2215, 2216, 2240, 2292, 2293, 2294, 2295, 2296, 2297, 2298, 2320, 2375, 2376, 2377, 2378, 2379, 2380, 2400, 2457, 2458, 2459, 2460, 2461, 2462, 2480, 2539, 2540, 2541, 2542, 2543, 2560, 2622, 2623, 2624, 2625, 2640, 2704, 2705, 2706, 2707, 2720, 2786, 2787, 2788, 2789, 2800, 2869, 2870, 2871, 2880, 2951, 2952, 2960, 3033, 3034, 3040, 3116, 3120, 3198, 3200, 3280, 3360, 3362, 3440, 3444, 3520, 3526, 3527, 3600, 3608, 3609, 3680, 3689, 3690, 3691, 3760, 3771, 3772, 3773, 3774, 3840, 3853, 3854, 3855, 3856, 3920, 3935, 3936, 3937, 3938, 4000, 4017, 4018, 4019, 4020, 4021, 4080, 4098, 4099, 4100, 4101, 4102, 4103, 4160, 4180, 4181, 4182, 4183, 4184, 4185, 4240, 4262, 4263, 4264, 4265, 4266, 4267, 4268, 4320, 4344, 4345, 4346, 4347, 4348, 4349, 4350, 4400, 4426, 4427, 4428, 4429, 4430, 4431, 4432, 4433, 4479, 4480, 4481, 4507, 4508, 4509, 4510, 4511, 4512, 4513, 4514, 4515, 4559, 4560, 4561, 4589, 4590, 4591, 4592, 4593, 4594, 4595, 4596, 4597, 4639, 4640, 4641, 4671, 4672, 4673, 4674, 4675, 4676, 4677, 4678, 4679, 4680, 4719, 4720, 4721, 4753, 4754, 4755, 4756, 4757, 4758, 4759, 4760, 4761, 4762, 4799, 4800, 4801, 4835, 4836, 4837, 4838, 4839, 4840, 4841, 4842, 4843, 4844, 4879, 4880, 4881, 4916, 4917, 4918, 4919, 4920, 4921, 4922, 4923, 4924, 4925, 4926, 4927, 4959, 4960, 4961, 4998, 4999, 5000, 5001, 5002, 5003, 5004, 5005, 5006, 5007, 5008, 5009, 5039, 5040, 5041, 5080, 5081, 5082, 5083, 5084, 5085, 5086, 5087, 5088, 5089, 5090, 5091, 5119, 5120, 5121, 5162, 5163, 5164, 5165, 5166, 5167, 5168, 5169, 5170, 5171, 5172, 5173, 5174, 5199, 5200, 5201, 5244, 5245, 5246, 5247, 5248, 5249, 5250, 5251, 5252, 5253, 5254, 5255, 5256, 5279, 5280, 5281, 5325, 5326, 5327, 5328, 5329, 5330, 5331, 5332, 5333, 5334, 5335, 5336, 5337, 5338, 5339, 5359, 5360, 5361, 5407, 5408, 5409, 5410, 5411, 5412, 5413, 5414, 5415, 5416, 5417, 5418, 5419, 5420, 5421, 5439, 5440, 5441, 5489, 5490, 5491, 5492, 5493, 5494, 5495, 5496, 5497, 5498, 5499, 5500, 5501, 5502, 5503, 5519, 5520, 5521, 5571, 5572, 5573, 5574, 5575, 5576, 5577, 5578, 5579, 5580, 5581, 5582, 5583, 5584, 5585, 5586, 5598, 5599, 5600, 5601, 5602, 5652, 5653, 5654, 5655, 5656, 5657, 5658, 5659, 5660, 5661, 5662, 5663, 5664, 5665, 5666, 5667, 5668, 5678, 5679, 5680, 5681, 5682, 5734, 5735, 5736, 5737, 5738, 5739, 5740, 5741, 5742, 5743, 5744, 5745, 5746, 5747, 5748, 5749, 5750, 5758, 5759, 5760, 5761, 5762, 5816, 5817, 5818, 5819, 5820, 5821, 5822, 5823, 5824, 5825, 5826, 5827, 5828, 5829, 5830, 5831, 5838, 5839, 5840, 5841, 5842, 5898, 5899, 5900, 5901, 5902, 5903, 5904, 5905, 5906, 5907, 5908, 5909, 5910, 5911, 5912, 5918, 5919, 5920, 5921, 5922, 5980, 5981, 5982, 5983, 5984, 5985, 5986, 5987, 5988, 5989, 5990, 5991, 5992, 5993, 5998, 5999, 6000, 6001, 6002, 6061, 6062, 6063, 6064, 6065, 6066, 6067, 6068, 6069, 6070, 6071, 6072, 6073, 6074, 6078, 6079, 6080, 6081, 6082, 6143, 6144, 6145, 6146, 6147, 6148, 6149, 6150, 6151, 6152, 6153, 6154, 6155, 6158, 6159, 6160, 6161, 6162, 6225, 6226, 6227, 6228, 6229, 6230, 6231, 6232, 6233, 6234, 6235, 6236, 6238, 6239, 6240, 6241, 6242, 6307, 6308, 6309, 6310, 6311, 6312, 6313, 6314, 6315, 6316, 6317, 6318, 6319, 6320, 6321, 6322, 6389, 6390, 6391, 6392, 6393, 6394, 6395, 6396, 6397, 6398, 6399, 6400, 6401, 6402, 6470, 6471, 6472, 6473, 6474, 6475, 6476, 6477, 6478, 6479, 6480, 6481, 6482, 6552, 6553, 6554, 6555, 6556, 6557, 6558, 6559, 6560]\n",
      "CPU times: user 157 ms, sys: 12 ms, total: 169 ms\n",
      "Wall time: 170 ms\n"
     ]
    }
   ],
   "source": [
    "%%time\n",
    "n_total = len(simulation.dataframe)\n",
    "n_train = len(simulation.dataframe[simulation.dataframe.type_of == \"train\"])\n",
    "n_val = len(simulation.dataframe[simulation.dataframe.type_of == \"val\"])\n",
    "n_test = len(simulation.dataframe[simulation.dataframe.type_of == \"test\"])\n",
    "n_train_hamiltonians = len(simulation.train_ids)\n",
    "n_val_hamiltonians = len(simulation.val_ids)\n",
    "n_test_hamiltonians = len(simulation.test_ids)\n",
    "n_total_hamiltonians = n_train_hamiltonians + n_val_hamiltonians + n_test_hamiltonians\n",
    "\n",
    "print(\"% train: \", n_train/n_total)\n",
    "print(\"% val: \",  n_val/n_total)\n",
    "print(\"% test: \", n_test/n_total)\n",
    "print(\"% train + val + test: \", (n_train+n_val+n_test)/n_total)\n",
    "print(\"\\n\")\n",
    "print(\"number of train hamiltonians: \", n_train_hamiltonians)\n",
    "print(\"number of val hamiltonians: \", n_val_hamiltonians)\n",
    "print(\"number of test hamiltonians: \", n_test_hamiltonians)\n",
    "print(\"total number of hamiltonians: \", n_total_hamiltonians)\n",
    "print(\"\\n\")\n",
    "print(\"train ids: \", simulation.train_ids)\n",
    "print(\"val ids: \", simulation.val_ids)\n",
    "print(\"test ids: \", simulation.test_ids)"
   ]
  },
  {
   "cell_type": "markdown",
   "metadata": {
    "papermill": {
     "duration": 0.037217,
     "end_time": "2020-07-16T02:19:49.005325",
     "exception": false,
     "start_time": "2020-07-16T02:19:48.968108",
     "status": "completed"
    },
    "tags": []
   },
   "source": [
    "#### Checking summaries"
   ]
  },
  {
   "cell_type": "code",
   "execution_count": 31,
   "metadata": {
    "execution": {
     "iopub.execute_input": "2020-07-16T02:19:49.083438Z",
     "iopub.status.busy": "2020-07-16T02:19:49.082938Z",
     "iopub.status.idle": "2020-07-16T02:19:49.101720Z",
     "shell.execute_reply": "2020-07-16T02:19:49.101403Z"
    },
    "papermill": {
     "duration": 0.058039,
     "end_time": "2020-07-16T02:19:49.101772",
     "exception": false,
     "start_time": "2020-07-16T02:19:49.043733",
     "status": "completed"
    },
    "tags": []
   },
   "outputs": [
    {
     "name": "stdout",
     "output_type": "stream",
     "text": [
      "length of ham_summary:  6561\n",
      "CPU times: user 101 µs, sys: 3 µs, total: 104 µs\n",
      "Wall time: 59.8 µs\n"
     ]
    },
    {
     "data": {
      "text/html": [
       "<div>\n",
       "<style scoped>\n",
       "    .dataframe tbody tr th:only-of-type {\n",
       "        vertical-align: middle;\n",
       "    }\n",
       "\n",
       "    .dataframe tbody tr th {\n",
       "        vertical-align: top;\n",
       "    }\n",
       "\n",
       "    .dataframe thead th {\n",
       "        text-align: right;\n",
       "    }\n",
       "</style>\n",
       "<table border=\"1\" class=\"dataframe\">\n",
       "  <thead>\n",
       "    <tr style=\"text-align: right;\">\n",
       "      <th></th>\n",
       "      <th>t1</th>\n",
       "      <th>t2</th>\n",
       "      <th>type_of</th>\n",
       "      <th>0</th>\n",
       "      <th>1</th>\n",
       "      <th>phase</th>\n",
       "      <th>pred_phase</th>\n",
       "    </tr>\n",
       "    <tr>\n",
       "      <th>id</th>\n",
       "      <th></th>\n",
       "      <th></th>\n",
       "      <th></th>\n",
       "      <th></th>\n",
       "      <th></th>\n",
       "      <th></th>\n",
       "      <th></th>\n",
       "    </tr>\n",
       "  </thead>\n",
       "  <tbody>\n",
       "    <tr>\n",
       "      <th>0</th>\n",
       "      <td>-2.0</td>\n",
       "      <td>-2.00</td>\n",
       "      <td>test</td>\n",
       "      <td>0.52</td>\n",
       "      <td>0.48</td>\n",
       "      <td>999</td>\n",
       "      <td>0</td>\n",
       "    </tr>\n",
       "    <tr>\n",
       "      <th>1</th>\n",
       "      <td>-2.0</td>\n",
       "      <td>-1.95</td>\n",
       "      <td>test</td>\n",
       "      <td>0.61</td>\n",
       "      <td>0.39</td>\n",
       "      <td>0</td>\n",
       "      <td>0</td>\n",
       "    </tr>\n",
       "    <tr>\n",
       "      <th>2</th>\n",
       "      <td>-2.0</td>\n",
       "      <td>-1.90</td>\n",
       "      <td>test</td>\n",
       "      <td>0.67</td>\n",
       "      <td>0.33</td>\n",
       "      <td>0</td>\n",
       "      <td>0</td>\n",
       "    </tr>\n",
       "    <tr>\n",
       "      <th>3</th>\n",
       "      <td>-2.0</td>\n",
       "      <td>-1.85</td>\n",
       "      <td>test</td>\n",
       "      <td>0.71</td>\n",
       "      <td>0.29</td>\n",
       "      <td>0</td>\n",
       "      <td>0</td>\n",
       "    </tr>\n",
       "    <tr>\n",
       "      <th>4</th>\n",
       "      <td>-2.0</td>\n",
       "      <td>-1.80</td>\n",
       "      <td>test</td>\n",
       "      <td>0.79</td>\n",
       "      <td>0.21</td>\n",
       "      <td>0</td>\n",
       "      <td>0</td>\n",
       "    </tr>\n",
       "    <tr>\n",
       "      <th>...</th>\n",
       "      <td>...</td>\n",
       "      <td>...</td>\n",
       "      <td>...</td>\n",
       "      <td>...</td>\n",
       "      <td>...</td>\n",
       "      <td>...</td>\n",
       "      <td>...</td>\n",
       "    </tr>\n",
       "    <tr>\n",
       "      <th>6556</th>\n",
       "      <td>2.0</td>\n",
       "      <td>1.80</td>\n",
       "      <td>test</td>\n",
       "      <td>0.77</td>\n",
       "      <td>0.23</td>\n",
       "      <td>0</td>\n",
       "      <td>0</td>\n",
       "    </tr>\n",
       "    <tr>\n",
       "      <th>6557</th>\n",
       "      <td>2.0</td>\n",
       "      <td>1.85</td>\n",
       "      <td>test</td>\n",
       "      <td>0.70</td>\n",
       "      <td>0.30</td>\n",
       "      <td>0</td>\n",
       "      <td>0</td>\n",
       "    </tr>\n",
       "    <tr>\n",
       "      <th>6558</th>\n",
       "      <td>2.0</td>\n",
       "      <td>1.90</td>\n",
       "      <td>test</td>\n",
       "      <td>0.70</td>\n",
       "      <td>0.30</td>\n",
       "      <td>0</td>\n",
       "      <td>0</td>\n",
       "    </tr>\n",
       "    <tr>\n",
       "      <th>6559</th>\n",
       "      <td>2.0</td>\n",
       "      <td>1.95</td>\n",
       "      <td>test</td>\n",
       "      <td>0.62</td>\n",
       "      <td>0.38</td>\n",
       "      <td>0</td>\n",
       "      <td>0</td>\n",
       "    </tr>\n",
       "    <tr>\n",
       "      <th>6560</th>\n",
       "      <td>2.0</td>\n",
       "      <td>2.00</td>\n",
       "      <td>test</td>\n",
       "      <td>0.56</td>\n",
       "      <td>0.44</td>\n",
       "      <td>999</td>\n",
       "      <td>0</td>\n",
       "    </tr>\n",
       "  </tbody>\n",
       "</table>\n",
       "<p>6561 rows × 7 columns</p>\n",
       "</div>"
      ],
      "text/plain": [
       "       t1    t2 type_of     0     1  phase  pred_phase\n",
       "id                                                    \n",
       "0    -2.0 -2.00    test  0.52  0.48    999           0\n",
       "1    -2.0 -1.95    test  0.61  0.39      0           0\n",
       "2    -2.0 -1.90    test  0.67  0.33      0           0\n",
       "3    -2.0 -1.85    test  0.71  0.29      0           0\n",
       "4    -2.0 -1.80    test  0.79  0.21      0           0\n",
       "...   ...   ...     ...   ...   ...    ...         ...\n",
       "6556  2.0  1.80    test  0.77  0.23      0           0\n",
       "6557  2.0  1.85    test  0.70  0.30      0           0\n",
       "6558  2.0  1.90    test  0.70  0.30      0           0\n",
       "6559  2.0  1.95    test  0.62  0.38      0           0\n",
       "6560  2.0  2.00    test  0.56  0.44    999           0\n",
       "\n",
       "[6561 rows x 7 columns]"
      ]
     },
     "execution_count": 31,
     "metadata": {},
     "output_type": "execute_result"
    }
   ],
   "source": [
    "%%time\n",
    "ham_summary = simulation.hamiltonian_summary\n",
    "print(\"length of ham_summary: \", len(ham_summary))\n",
    "ham_summary"
   ]
  },
  {
   "cell_type": "code",
   "execution_count": 32,
   "metadata": {
    "execution": {
     "iopub.execute_input": "2020-07-16T02:19:49.178754Z",
     "iopub.status.busy": "2020-07-16T02:19:49.178434Z",
     "iopub.status.idle": "2020-07-16T02:19:49.205517Z",
     "shell.execute_reply": "2020-07-16T02:19:49.205196Z"
    },
    "papermill": {
     "duration": 0.066042,
     "end_time": "2020-07-16T02:19:49.205569",
     "exception": false,
     "start_time": "2020-07-16T02:19:49.139527",
     "status": "completed"
    },
    "tags": []
   },
   "outputs": [
    {
     "data": {
      "text/html": [
       "<div>\n",
       "<style scoped>\n",
       "    .dataframe tbody tr th:only-of-type {\n",
       "        vertical-align: middle;\n",
       "    }\n",
       "\n",
       "    .dataframe tbody tr th {\n",
       "        vertical-align: top;\n",
       "    }\n",
       "\n",
       "    .dataframe thead th {\n",
       "        text-align: right;\n",
       "    }\n",
       "</style>\n",
       "<table border=\"1\" class=\"dataframe\">\n",
       "  <thead>\n",
       "    <tr style=\"text-align: right;\">\n",
       "      <th></th>\n",
       "      <th>t1</th>\n",
       "      <th>t2</th>\n",
       "      <th>0</th>\n",
       "      <th>1</th>\n",
       "      <th>phase</th>\n",
       "      <th>pred_phase</th>\n",
       "    </tr>\n",
       "  </thead>\n",
       "  <tbody>\n",
       "    <tr>\n",
       "      <th>count</th>\n",
       "      <td>6561.000000</td>\n",
       "      <td>6.561000e+03</td>\n",
       "      <td>6561.000000</td>\n",
       "      <td>6561.000000</td>\n",
       "      <td>6561.000000</td>\n",
       "      <td>6561.000000</td>\n",
       "    </tr>\n",
       "    <tr>\n",
       "      <th>mean</th>\n",
       "      <td>0.000000</td>\n",
       "      <td>-4.331917e-18</td>\n",
       "      <td>0.500111</td>\n",
       "      <td>0.499889</td>\n",
       "      <td>25.002134</td>\n",
       "      <td>0.495351</td>\n",
       "    </tr>\n",
       "    <tr>\n",
       "      <th>std</th>\n",
       "      <td>1.169134</td>\n",
       "      <td>1.169134e+00</td>\n",
       "      <td>0.438820</td>\n",
       "      <td>0.438820</td>\n",
       "      <td>154.495657</td>\n",
       "      <td>0.500016</td>\n",
       "    </tr>\n",
       "    <tr>\n",
       "      <th>min</th>\n",
       "      <td>-2.000000</td>\n",
       "      <td>-2.000000e+00</td>\n",
       "      <td>0.000000</td>\n",
       "      <td>0.000000</td>\n",
       "      <td>0.000000</td>\n",
       "      <td>0.000000</td>\n",
       "    </tr>\n",
       "    <tr>\n",
       "      <th>25%</th>\n",
       "      <td>-1.000000</td>\n",
       "      <td>-1.000000e+00</td>\n",
       "      <td>0.030000</td>\n",
       "      <td>0.050000</td>\n",
       "      <td>0.000000</td>\n",
       "      <td>0.000000</td>\n",
       "    </tr>\n",
       "    <tr>\n",
       "      <th>50%</th>\n",
       "      <td>0.000000</td>\n",
       "      <td>0.000000e+00</td>\n",
       "      <td>0.530000</td>\n",
       "      <td>0.470000</td>\n",
       "      <td>1.000000</td>\n",
       "      <td>0.000000</td>\n",
       "    </tr>\n",
       "    <tr>\n",
       "      <th>75%</th>\n",
       "      <td>1.000000</td>\n",
       "      <td>1.000000e+00</td>\n",
       "      <td>0.950000</td>\n",
       "      <td>0.970000</td>\n",
       "      <td>1.000000</td>\n",
       "      <td>1.000000</td>\n",
       "    </tr>\n",
       "    <tr>\n",
       "      <th>max</th>\n",
       "      <td>2.000000</td>\n",
       "      <td>2.000000e+00</td>\n",
       "      <td>1.000000</td>\n",
       "      <td>1.000000</td>\n",
       "      <td>999.000000</td>\n",
       "      <td>1.000000</td>\n",
       "    </tr>\n",
       "  </tbody>\n",
       "</table>\n",
       "</div>"
      ],
      "text/plain": [
       "                t1            t2            0            1        phase  \\\n",
       "count  6561.000000  6.561000e+03  6561.000000  6561.000000  6561.000000   \n",
       "mean      0.000000 -4.331917e-18     0.500111     0.499889    25.002134   \n",
       "std       1.169134  1.169134e+00     0.438820     0.438820   154.495657   \n",
       "min      -2.000000 -2.000000e+00     0.000000     0.000000     0.000000   \n",
       "25%      -1.000000 -1.000000e+00     0.030000     0.050000     0.000000   \n",
       "50%       0.000000  0.000000e+00     0.530000     0.470000     1.000000   \n",
       "75%       1.000000  1.000000e+00     0.950000     0.970000     1.000000   \n",
       "max       2.000000  2.000000e+00     1.000000     1.000000   999.000000   \n",
       "\n",
       "        pred_phase  \n",
       "count  6561.000000  \n",
       "mean      0.495351  \n",
       "std       0.500016  \n",
       "min       0.000000  \n",
       "25%       0.000000  \n",
       "50%       0.000000  \n",
       "75%       1.000000  \n",
       "max       1.000000  "
      ]
     },
     "execution_count": 32,
     "metadata": {},
     "output_type": "execute_result"
    }
   ],
   "source": [
    "ham_summary.describe()"
   ]
  },
  {
   "cell_type": "code",
   "execution_count": 33,
   "metadata": {
    "execution": {
     "iopub.execute_input": "2020-07-16T02:19:49.284862Z",
     "iopub.status.busy": "2020-07-16T02:19:49.284548Z",
     "iopub.status.idle": "2020-07-16T02:19:49.301007Z",
     "shell.execute_reply": "2020-07-16T02:19:49.300740Z"
    },
    "papermill": {
     "duration": 0.056409,
     "end_time": "2020-07-16T02:19:49.301060",
     "exception": false,
     "start_time": "2020-07-16T02:19:49.244651",
     "status": "completed"
    },
    "tags": []
   },
   "outputs": [
    {
     "name": "stdout",
     "output_type": "stream",
     "text": [
      "length of ham_summary:  656100\n"
     ]
    },
    {
     "data": {
      "text/html": [
       "<div>\n",
       "<style scoped>\n",
       "    .dataframe tbody tr th:only-of-type {\n",
       "        vertical-align: middle;\n",
       "    }\n",
       "\n",
       "    .dataframe tbody tr th {\n",
       "        vertical-align: top;\n",
       "    }\n",
       "\n",
       "    .dataframe thead th {\n",
       "        text-align: right;\n",
       "    }\n",
       "</style>\n",
       "<table border=\"1\" class=\"dataframe\">\n",
       "  <thead>\n",
       "    <tr style=\"text-align: right;\">\n",
       "      <th></th>\n",
       "      <th>id</th>\n",
       "      <th>phase</th>\n",
       "      <th>pred_phase</th>\n",
       "      <th>type_of</th>\n",
       "    </tr>\n",
       "  </thead>\n",
       "  <tbody>\n",
       "    <tr>\n",
       "      <th>0</th>\n",
       "      <td>0</td>\n",
       "      <td>999</td>\n",
       "      <td>1</td>\n",
       "      <td>test</td>\n",
       "    </tr>\n",
       "    <tr>\n",
       "      <th>1</th>\n",
       "      <td>0</td>\n",
       "      <td>999</td>\n",
       "      <td>0</td>\n",
       "      <td>test</td>\n",
       "    </tr>\n",
       "    <tr>\n",
       "      <th>2</th>\n",
       "      <td>0</td>\n",
       "      <td>999</td>\n",
       "      <td>1</td>\n",
       "      <td>test</td>\n",
       "    </tr>\n",
       "    <tr>\n",
       "      <th>3</th>\n",
       "      <td>0</td>\n",
       "      <td>999</td>\n",
       "      <td>1</td>\n",
       "      <td>test</td>\n",
       "    </tr>\n",
       "    <tr>\n",
       "      <th>4</th>\n",
       "      <td>0</td>\n",
       "      <td>999</td>\n",
       "      <td>0</td>\n",
       "      <td>test</td>\n",
       "    </tr>\n",
       "    <tr>\n",
       "      <th>...</th>\n",
       "      <td>...</td>\n",
       "      <td>...</td>\n",
       "      <td>...</td>\n",
       "      <td>...</td>\n",
       "    </tr>\n",
       "    <tr>\n",
       "      <th>656095</th>\n",
       "      <td>6560</td>\n",
       "      <td>999</td>\n",
       "      <td>0</td>\n",
       "      <td>test</td>\n",
       "    </tr>\n",
       "    <tr>\n",
       "      <th>656096</th>\n",
       "      <td>6560</td>\n",
       "      <td>999</td>\n",
       "      <td>0</td>\n",
       "      <td>test</td>\n",
       "    </tr>\n",
       "    <tr>\n",
       "      <th>656097</th>\n",
       "      <td>6560</td>\n",
       "      <td>999</td>\n",
       "      <td>0</td>\n",
       "      <td>test</td>\n",
       "    </tr>\n",
       "    <tr>\n",
       "      <th>656098</th>\n",
       "      <td>6560</td>\n",
       "      <td>999</td>\n",
       "      <td>0</td>\n",
       "      <td>test</td>\n",
       "    </tr>\n",
       "    <tr>\n",
       "      <th>656099</th>\n",
       "      <td>6560</td>\n",
       "      <td>999</td>\n",
       "      <td>0</td>\n",
       "      <td>test</td>\n",
       "    </tr>\n",
       "  </tbody>\n",
       "</table>\n",
       "<p>656100 rows × 4 columns</p>\n",
       "</div>"
      ],
      "text/plain": [
       "          id  phase  pred_phase type_of\n",
       "0          0    999           1    test\n",
       "1          0    999           0    test\n",
       "2          0    999           1    test\n",
       "3          0    999           1    test\n",
       "4          0    999           0    test\n",
       "...      ...    ...         ...     ...\n",
       "656095  6560    999           0    test\n",
       "656096  6560    999           0    test\n",
       "656097  6560    999           0    test\n",
       "656098  6560    999           0    test\n",
       "656099  6560    999           0    test\n",
       "\n",
       "[656100 rows x 4 columns]"
      ]
     },
     "execution_count": 33,
     "metadata": {},
     "output_type": "execute_result"
    }
   ],
   "source": [
    "eigen_summary = simulation.eigenvector_summary\n",
    "print(\"length of ham_summary: \", len(eigen_summary))\n",
    "eigen_summary"
   ]
  },
  {
   "cell_type": "markdown",
   "metadata": {
    "papermill": {
     "duration": 0.037117,
     "end_time": "2020-07-16T02:19:49.375504",
     "exception": false,
     "start_time": "2020-07-16T02:19:49.338387",
     "status": "completed"
    },
    "tags": []
   },
   "source": [
    "#### Checking accuracies"
   ]
  },
  {
   "cell_type": "code",
   "execution_count": 34,
   "metadata": {
    "execution": {
     "iopub.execute_input": "2020-07-16T02:19:49.455789Z",
     "iopub.status.busy": "2020-07-16T02:19:49.455482Z",
     "iopub.status.idle": "2020-07-16T02:19:49.466341Z",
     "shell.execute_reply": "2020-07-16T02:19:49.466647Z"
    },
    "papermill": {
     "duration": 0.052906,
     "end_time": "2020-07-16T02:19:49.466715",
     "exception": false,
     "start_time": "2020-07-16T02:19:49.413809",
     "status": "completed"
    },
    "tags": []
   },
   "outputs": [
    {
     "data": {
      "text/plain": [
       "{'eigenvector_train': 0.9708453237410072,\n",
       " 'eigenvector_val': 0.944024,\n",
       " 'eigenvector_test': 0.7851658767772511,\n",
       " 'hamiltonian_train': 0.9892086330935251,\n",
       " 'hamiltonian_val': 0.9852,\n",
       " 'hamiltonian_test': 0.9893364928909952}"
      ]
     },
     "execution_count": 34,
     "metadata": {},
     "output_type": "execute_result"
    }
   ],
   "source": [
    "simulation.accuracy"
   ]
  },
  {
   "cell_type": "markdown",
   "metadata": {
    "papermill": {
     "duration": 0.037697,
     "end_time": "2020-07-16T02:19:49.543626",
     "exception": false,
     "start_time": "2020-07-16T02:19:49.505929",
     "status": "completed"
    },
    "tags": []
   },
   "source": [
    "#### Checking data stored in  memory"
   ]
  },
  {
   "cell_type": "code",
   "execution_count": 35,
   "metadata": {
    "execution": {
     "iopub.execute_input": "2020-07-16T02:19:49.624068Z",
     "iopub.status.busy": "2020-07-16T02:19:49.623441Z",
     "iopub.status.idle": "2020-07-16T02:19:49.633686Z",
     "shell.execute_reply": "2020-07-16T02:19:49.633361Z"
    },
    "papermill": {
     "duration": 0.051504,
     "end_time": "2020-07-16T02:19:49.633740",
     "exception": false,
     "start_time": "2020-07-16T02:19:49.582236",
     "status": "completed"
    },
    "tags": []
   },
   "outputs": [
    {
     "data": {
      "text/plain": [
       "[]"
      ]
     },
     "execution_count": 35,
     "metadata": {},
     "output_type": "execute_result"
    }
   ],
   "source": [
    "ham_summary_list = simulation.hamiltonian_summary_list\n",
    "ham_summary_list"
   ]
  },
  {
   "cell_type": "code",
   "execution_count": 36,
   "metadata": {
    "execution": {
     "iopub.execute_input": "2020-07-16T02:19:49.713969Z",
     "iopub.status.busy": "2020-07-16T02:19:49.713658Z",
     "iopub.status.idle": "2020-07-16T02:19:49.723908Z",
     "shell.execute_reply": "2020-07-16T02:19:49.723588Z"
    },
    "papermill": {
     "duration": 0.049589,
     "end_time": "2020-07-16T02:19:49.723961",
     "exception": false,
     "start_time": "2020-07-16T02:19:49.674372",
     "status": "completed"
    },
    "tags": []
   },
   "outputs": [
    {
     "data": {
      "text/plain": [
       "[]"
      ]
     },
     "execution_count": 36,
     "metadata": {},
     "output_type": "execute_result"
    }
   ],
   "source": [
    "eigen_summary_list = simulation.eigenvector_summary_list\n",
    "eigen_summary_list"
   ]
  },
  {
   "cell_type": "code",
   "execution_count": 37,
   "metadata": {
    "execution": {
     "iopub.execute_input": "2020-07-16T02:19:49.809171Z",
     "iopub.status.busy": "2020-07-16T02:19:49.808487Z",
     "iopub.status.idle": "2020-07-16T02:19:49.818962Z",
     "shell.execute_reply": "2020-07-16T02:19:49.818685Z"
    },
    "papermill": {
     "duration": 0.055541,
     "end_time": "2020-07-16T02:19:49.819017",
     "exception": false,
     "start_time": "2020-07-16T02:19:49.763476",
     "status": "completed"
    },
    "tags": []
   },
   "outputs": [
    {
     "data": {
      "text/plain": [
       "{'eigenvector_train': [],\n",
       " 'eigenvector_val': [],\n",
       " 'eigenvector_test': [],\n",
       " 'hamiltonian_train': [],\n",
       " 'hamiltonian_val': [],\n",
       " 'hamiltonian_test': []}"
      ]
     },
     "execution_count": 37,
     "metadata": {},
     "output_type": "execute_result"
    }
   ],
   "source": [
    "accuracy_list = simulation.accuracy_list\n",
    "accuracy_list"
   ]
  },
  {
   "cell_type": "code",
   "execution_count": null,
   "metadata": {
    "papermill": {
     "duration": 0.037798,
     "end_time": "2020-07-16T02:19:49.894991",
     "exception": false,
     "start_time": "2020-07-16T02:19:49.857193",
     "status": "completed"
    },
    "tags": []
   },
   "outputs": [],
   "source": []
  },
  {
   "cell_type": "code",
   "execution_count": null,
   "metadata": {
    "papermill": {
     "duration": 0.041512,
     "end_time": "2020-07-16T02:19:49.975525",
     "exception": false,
     "start_time": "2020-07-16T02:19:49.934013",
     "status": "completed"
    },
    "tags": []
   },
   "outputs": [],
   "source": []
  },
  {
   "cell_type": "code",
   "execution_count": 38,
   "metadata": {
    "execution": {
     "iopub.execute_input": "2020-07-16T02:19:50.056894Z",
     "iopub.status.busy": "2020-07-16T02:19:50.056583Z",
     "iopub.status.idle": "2020-07-16T02:19:50.065938Z",
     "shell.execute_reply": "2020-07-16T02:19:50.066193Z"
    },
    "papermill": {
     "duration": 0.049372,
     "end_time": "2020-07-16T02:19:50.066263",
     "exception": false,
     "start_time": "2020-07-16T02:19:50.016891",
     "status": "completed"
    },
    "tags": []
   },
   "outputs": [],
   "source": [
    "#simulation.fourier_matrix"
   ]
  },
  {
   "cell_type": "code",
   "execution_count": 39,
   "metadata": {
    "execution": {
     "iopub.execute_input": "2020-07-16T02:19:50.147020Z",
     "iopub.status.busy": "2020-07-16T02:19:50.146656Z",
     "iopub.status.idle": "2020-07-16T02:19:50.158125Z",
     "shell.execute_reply": "2020-07-16T02:19:50.157765Z"
    },
    "papermill": {
     "duration": 0.05279,
     "end_time": "2020-07-16T02:19:50.158183",
     "exception": false,
     "start_time": "2020-07-16T02:19:50.105393",
     "status": "completed"
    },
    "tags": []
   },
   "outputs": [],
   "source": [
    "#simulation.fourier_matrix.shape"
   ]
  },
  {
   "cell_type": "code",
   "execution_count": 40,
   "metadata": {
    "execution": {
     "iopub.execute_input": "2020-07-16T02:19:50.237295Z",
     "iopub.status.busy": "2020-07-16T02:19:50.236983Z",
     "iopub.status.idle": "2020-07-16T02:19:50.246895Z",
     "shell.execute_reply": "2020-07-16T02:19:50.246564Z"
    },
    "papermill": {
     "duration": 0.050273,
     "end_time": "2020-07-16T02:19:50.246950",
     "exception": false,
     "start_time": "2020-07-16T02:19:50.196677",
     "status": "completed"
    },
    "tags": []
   },
   "outputs": [],
   "source": [
    "#simulation.fourier_matrix[:,0]"
   ]
  },
  {
   "cell_type": "code",
   "execution_count": 41,
   "metadata": {
    "execution": {
     "iopub.execute_input": "2020-07-16T02:19:50.328002Z",
     "iopub.status.busy": "2020-07-16T02:19:50.327687Z",
     "iopub.status.idle": "2020-07-16T02:19:50.337624Z",
     "shell.execute_reply": "2020-07-16T02:19:50.337972Z"
    },
    "papermill": {
     "duration": 0.051897,
     "end_time": "2020-07-16T02:19:50.338052",
     "exception": false,
     "start_time": "2020-07-16T02:19:50.286155",
     "status": "completed"
    },
    "tags": []
   },
   "outputs": [],
   "source": [
    "#simulation.fourier_matrix[:,1]"
   ]
  },
  {
   "cell_type": "code",
   "execution_count": 42,
   "metadata": {
    "execution": {
     "iopub.execute_input": "2020-07-16T02:19:50.416912Z",
     "iopub.status.busy": "2020-07-16T02:19:50.416602Z",
     "iopub.status.idle": "2020-07-16T02:19:50.426133Z",
     "shell.execute_reply": "2020-07-16T02:19:50.425802Z"
    },
    "papermill": {
     "duration": 0.049568,
     "end_time": "2020-07-16T02:19:50.426188",
     "exception": false,
     "start_time": "2020-07-16T02:19:50.376620",
     "status": "completed"
    },
    "tags": []
   },
   "outputs": [],
   "source": [
    "#np.exp(-1j*2*np.pi*3/100)"
   ]
  },
  {
   "cell_type": "code",
   "execution_count": 43,
   "metadata": {
    "execution": {
     "iopub.execute_input": "2020-07-16T02:19:50.506664Z",
     "iopub.status.busy": "2020-07-16T02:19:50.506322Z",
     "iopub.status.idle": "2020-07-16T02:19:50.516436Z",
     "shell.execute_reply": "2020-07-16T02:19:50.516088Z"
    },
    "papermill": {
     "duration": 0.050908,
     "end_time": "2020-07-16T02:19:50.516491",
     "exception": false,
     "start_time": "2020-07-16T02:19:50.465583",
     "status": "completed"
    },
    "tags": []
   },
   "outputs": [],
   "source": [
    "#for i in range(1,50):\n",
    "#    print(\"\\n\")\n",
    "#    print(i)\n",
    "#    print(np.sum((np.real(simulation.fourier_matrix[:,i]) - np.real(simulation.fourier_matrix[:,-i]))**2))\n",
    "#    print(np.sum((np.imag(simulation.fourier_matrix[:,i])+ np.imag(simulation.fourier_matrix[:,-i]))**2))"
   ]
  },
  {
   "cell_type": "code",
   "execution_count": 44,
   "metadata": {
    "execution": {
     "iopub.execute_input": "2020-07-16T02:19:50.599121Z",
     "iopub.status.busy": "2020-07-16T02:19:50.598808Z",
     "iopub.status.idle": "2020-07-16T02:19:50.609820Z",
     "shell.execute_reply": "2020-07-16T02:19:50.609494Z"
    },
    "papermill": {
     "duration": 0.052418,
     "end_time": "2020-07-16T02:19:50.609876",
     "exception": false,
     "start_time": "2020-07-16T02:19:50.557458",
     "status": "completed"
    },
    "tags": []
   },
   "outputs": [],
   "source": [
    "#print(simulation.fourier_matrix[:,0])"
   ]
  },
  {
   "cell_type": "code",
   "execution_count": 45,
   "metadata": {
    "execution": {
     "iopub.execute_input": "2020-07-16T02:19:50.693900Z",
     "iopub.status.busy": "2020-07-16T02:19:50.693565Z",
     "iopub.status.idle": "2020-07-16T02:19:50.703216Z",
     "shell.execute_reply": "2020-07-16T02:19:50.702890Z"
    },
    "papermill": {
     "duration": 0.054068,
     "end_time": "2020-07-16T02:19:50.703272",
     "exception": false,
     "start_time": "2020-07-16T02:19:50.649204",
     "status": "completed"
    },
    "tags": []
   },
   "outputs": [],
   "source": [
    "#print(simulation.fourier_matrix[:,50])"
   ]
  },
  {
   "cell_type": "code",
   "execution_count": null,
   "metadata": {
    "papermill": {
     "duration": 0.038661,
     "end_time": "2020-07-16T02:19:50.783673",
     "exception": false,
     "start_time": "2020-07-16T02:19:50.745012",
     "status": "completed"
    },
    "tags": []
   },
   "outputs": [],
   "source": []
  }
 ],
 "metadata": {
  "celltoolbar": "Tags",
  "kernelspec": {
   "display_name": "ml_top_phases",
   "language": "python",
   "name": "ml_top_phases"
  },
  "language_info": {
   "codemirror_mode": {
    "name": "ipython",
    "version": 3
   },
   "file_extension": ".py",
   "mimetype": "text/x-python",
   "name": "python",
   "nbconvert_exporter": "python",
   "pygments_lexer": "ipython3",
   "version": "3.6.10"
  },
  "papermill": {
   "duration": 157.585341,
   "end_time": "2020-07-16T02:19:50.929400",
   "environment_variables": {},
   "exception": null,
   "input_path": "0_simulation_template.ipynb",
   "output_path": "zzz_simulation_output_ssh1_2nd_scenario_100_6561.ipynb",
   "parameters": {
    "allowed_windings": [
     0,
     1
    ],
    "csv_path": "/home/rio/ssh_csvs/ssh1/periodic_100_6561.csv",
    "features_to_use": [
     0,
     1,
     3,
     50
    ],
    "fit_params": null,
    "fourier_features_to_use": null,
    "fourier_fillna": null,
    "fourier_mode": null,
    "fourier_normalize": null,
    "fourier_real": null,
    "model_kw": {
     "criterion": "entropy"
    },
    "model_name": "DecisionTreeClassifier",
    "n_experiments": 100,
    "pred_params": null,
    "random_features": false,
    "random_state": 5836934,
    "save_accuracy": true,
    "save_eigenvector": true,
    "save_hamiltonian": true,
    "save_models": true,
    "shuffle_features": false,
    "shuffle_rows": true,
    "simulation_dir": "/home/rio/ssh_simulations/ssh1/periodic_2nd_scenario_100_6561",
    "start_n": 0,
    "store_in_lists": false,
    "val_split": 0.9
   },
   "start_time": "2020-07-16T02:17:13.344059",
   "version": "2.1.0"
  }
 },
 "nbformat": 4,
 "nbformat_minor": 2
}