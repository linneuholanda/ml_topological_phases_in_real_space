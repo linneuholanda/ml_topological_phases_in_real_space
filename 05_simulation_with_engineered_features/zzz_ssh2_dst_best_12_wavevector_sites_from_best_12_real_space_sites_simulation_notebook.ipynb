{
 "cells": [
  {
   "cell_type": "markdown",
   "metadata": {
    "papermill": {
     "duration": 0.055806,
     "end_time": "2020-07-18T17:57:59.770623",
     "exception": false,
     "start_time": "2020-07-18T17:57:59.714817",
     "status": "completed"
    },
    "tags": []
   },
   "source": [
    "# Simulation template \n",
    "\n",
    "In this notebook we run the machine learning analysis of topological phase transitions occurring  in both nearest-neighbours SSH models (ssh1) and second neighbours models (ssh2) as decribed in the paper [Machine learning topological phases in real space](https://arxiv.org/abs/1901.01963). Here the simulation is run with features generated from fourier components in the first scenario. This scenario is characterized by using only the EVEN wavevector space eigenmodes, computed from ALL real space components."
   ]
  },
  {
   "cell_type": "markdown",
   "metadata": {
    "papermill": {
     "duration": 0.017239,
     "end_time": "2020-07-18T17:57:59.807669",
     "exception": false,
     "start_time": "2020-07-18T17:57:59.790430",
     "status": "completed"
    },
    "tags": []
   },
   "source": [
    "## Defining parameters"
   ]
  },
  {
   "cell_type": "code",
   "execution_count": 1,
   "metadata": {
    "execution": {
     "iopub.execute_input": "2020-07-18T17:57:59.844267Z",
     "iopub.status.busy": "2020-07-18T17:57:59.843948Z",
     "iopub.status.idle": "2020-07-18T17:58:00.483176Z",
     "shell.execute_reply": "2020-07-18T17:58:00.482848Z"
    },
    "papermill": {
     "duration": 0.659193,
     "end_time": "2020-07-18T17:58:00.483233",
     "exception": false,
     "start_time": "2020-07-18T17:57:59.824040",
     "status": "completed"
    },
    "tags": []
   },
   "outputs": [
    {
     "name": "stdout",
     "output_type": "stream",
     "text": [
      "CPU times: user 745 ms, sys: 294 ms, total: 1.04 s\n",
      "Wall time: 632 ms\n"
     ]
    }
   ],
   "source": [
    "%%time\n",
    "%load_ext autoreload\n",
    "%autoreload 2\n",
    "from simulation import *"
   ]
  },
  {
   "cell_type": "code",
   "execution_count": 2,
   "metadata": {
    "execution": {
     "iopub.execute_input": "2020-07-18T17:58:00.520879Z",
     "iopub.status.busy": "2020-07-18T17:58:00.520555Z",
     "iopub.status.idle": "2020-07-18T17:58:00.532637Z",
     "shell.execute_reply": "2020-07-18T17:58:00.532272Z"
    },
    "papermill": {
     "duration": 0.032343,
     "end_time": "2020-07-18T17:58:00.532694",
     "exception": false,
     "start_time": "2020-07-18T17:58:00.500351",
     "status": "completed"
    },
    "tags": [
     "parameters"
    ]
   },
   "outputs": [
    {
     "name": "stdout",
     "output_type": "stream",
     "text": [
      "CPU times: user 2 µs, sys: 1 µs, total: 3 µs\n",
      "Wall time: 4.77 µs\n"
     ]
    }
   ],
   "source": [
    "%%time\n",
    "### Dataset and simulation parameters\n",
    "#csv_path = SSH2_PERIODIC_100_6561_CSV \n",
    "csv_path = SSH1_PERIODIC_100_6561_CSV \n",
    "model_name = \"DecisionTreeClassifier\"\n",
    "model_kw = {\"criterion\":\"entropy\"}\n",
    "allowed_windings = [0,1]\n",
    "#allowed_windings = [-1,0,1,2]\n",
    "simulation_dir = SSH1_REAL_SPACE_ALL_SITES\n",
    "#simulation_dir = SSH2_PERIODIC_ENGINEERED_100_6561_SIMULATION_DIR\n",
    "val_split = 0.9  \n",
    "features_to_use = None\n",
    "shuffle_features = False\n",
    "random_state = 763\n",
    "\n",
    "### Fourier features\n",
    "fourier_mode = \"dst\"\n",
    "fourier_features_to_use = None\n",
    "fourier_real = \"imag\"\n",
    "fourier_normalize = False\n",
    "fourier_fillna = False\n",
    "\n",
    "### Running a simulation\n",
    "n_experiments = 5\n",
    "start_n = 0\n",
    "fit_params = None\n",
    "#mode=mode\n",
    "shuffle_rows = True\n",
    "pred_params = None\n",
    "random_features = False\n",
    "######### DON'T SET THIS TO TRUE UNLESS YOUR DATASET IS SMALL!! WILL FLOOD YOUR MEMORY!!!\n",
    "store_in_lists = False   \n",
    "########## BELOW ARE THE PARAMETERS THAT CONTROL WHAT WILL BE SAVED\n",
    "save_eigenvector=True\n",
    "save_hamiltonian=True \n",
    "save_accuracy=True \n",
    "save_models=True"
   ]
  },
  {
   "cell_type": "code",
   "execution_count": 3,
   "metadata": {
    "execution": {
     "iopub.execute_input": "2020-07-18T17:58:00.569370Z",
     "iopub.status.busy": "2020-07-18T17:58:00.569048Z",
     "iopub.status.idle": "2020-07-18T17:58:00.659975Z",
     "shell.execute_reply": "2020-07-18T17:58:00.662055Z"
    },
    "papermill": {
     "duration": 0.113173,
     "end_time": "2020-07-18T17:58:00.662367",
     "exception": false,
     "start_time": "2020-07-18T17:58:00.549194",
     "status": "completed"
    },
    "tags": [
     "injected-parameters"
    ]
   },
   "outputs": [],
   "source": [
    "# Parameters\n",
    "model_kw = {\"criterion\": \"entropy\", \"n_estimators\": 25, \"n_jobs\": -1}\n",
    "allowed_windings = [-1, 0, 1, 2]\n",
    "val_split = 0.5\n",
    "features_to_use = [0, 1, 2, 3, 4, 5, 6, 7, 46, 48, 49, 50]\n",
    "shuffle_features = False\n",
    "n_experiments = 100\n",
    "start_n = 0\n",
    "fit_params = None\n",
    "shuffle_rows = True\n",
    "pred_params = None\n",
    "random_features = False\n",
    "store_in_lists = False\n",
    "save_eigenvector = True\n",
    "save_hamiltonian = True\n",
    "save_accuracy = True\n",
    "save_models = True\n",
    "csv_path = \"/home/rio/ssh_csvs/ssh2/periodic_100_6561.csv\"\n",
    "model_name = \"RandomForestClassifier\"\n",
    "simulation_dir = \"/home/rio/ssh_simulations/ssh2/periodic_100_6561/dst_best_12_wavevector_sites_from_best_12_real_space_sites\"\n",
    "random_state = 2020\n",
    "fourier_features_to_use = [0, 1, 2, 3, 4, 5, 43, 44, 45, 46, 47, 48]\n",
    "fourier_mode = \"dst\"\n",
    "fourier_real = None\n",
    "fourier_normalize = False\n",
    "fourier_fillna = False\n"
   ]
  },
  {
   "cell_type": "code",
   "execution_count": 4,
   "metadata": {
    "execution": {
     "iopub.execute_input": "2020-07-18T17:58:00.738498Z",
     "iopub.status.busy": "2020-07-18T17:58:00.738166Z",
     "iopub.status.idle": "2020-07-18T17:58:06.303081Z",
     "shell.execute_reply": "2020-07-18T17:58:06.302761Z"
    },
    "papermill": {
     "duration": 5.586323,
     "end_time": "2020-07-18T17:58:06.303133",
     "exception": false,
     "start_time": "2020-07-18T17:58:00.716810",
     "status": "completed"
    },
    "tags": []
   },
   "outputs": [
    {
     "name": "stdout",
     "output_type": "stream",
     "text": [
      "Info on all data: \n",
      "\n",
      "<class 'pandas.core.frame.DataFrame'>\n",
      "Int64Index: 656100 entries, 0 to 656099\n",
      "Columns: 108 entries, id to feat99\n",
      "dtypes: float64(103), int32(3), object(2)\n",
      "memory usage: 538.1+ MB\n",
      "CPU times: user 5.53 s, sys: 533 ms, total: 6.06 s\n",
      "Wall time: 5.54 s\n"
     ]
    },
    {
     "data": {
      "text/html": [
       "<div>\n",
       "<style scoped>\n",
       "    .dataframe tbody tr th:only-of-type {\n",
       "        vertical-align: middle;\n",
       "    }\n",
       "\n",
       "    .dataframe tbody tr th {\n",
       "        vertical-align: top;\n",
       "    }\n",
       "\n",
       "    .dataframe thead th {\n",
       "        text-align: right;\n",
       "    }\n",
       "</style>\n",
       "<table border=\"1\" class=\"dataframe\">\n",
       "  <thead>\n",
       "    <tr style=\"text-align: right;\">\n",
       "      <th></th>\n",
       "      <th>id</th>\n",
       "      <th>path</th>\n",
       "      <th>t1</th>\n",
       "      <th>t2</th>\n",
       "      <th>winding</th>\n",
       "      <th>phase</th>\n",
       "      <th>pred_phase</th>\n",
       "      <th>type_of</th>\n",
       "      <th>feat0</th>\n",
       "      <th>feat1</th>\n",
       "      <th>...</th>\n",
       "      <th>feat90</th>\n",
       "      <th>feat91</th>\n",
       "      <th>feat92</th>\n",
       "      <th>feat93</th>\n",
       "      <th>feat94</th>\n",
       "      <th>feat95</th>\n",
       "      <th>feat96</th>\n",
       "      <th>feat97</th>\n",
       "      <th>feat98</th>\n",
       "      <th>feat99</th>\n",
       "    </tr>\n",
       "  </thead>\n",
       "  <tbody>\n",
       "    <tr>\n",
       "      <th>0</th>\n",
       "      <td>0</td>\n",
       "      <td>H_-2_-2_0.501338.dat</td>\n",
       "      <td>-2.0</td>\n",
       "      <td>-2.0</td>\n",
       "      <td>0.501338</td>\n",
       "      <td>999</td>\n",
       "      <td>666</td>\n",
       "      <td>test</td>\n",
       "      <td>-0.130965</td>\n",
       "      <td>0.301130</td>\n",
       "      <td>...</td>\n",
       "      <td>-0.080279</td>\n",
       "      <td>-0.115687</td>\n",
       "      <td>-0.174988</td>\n",
       "      <td>0.245064</td>\n",
       "      <td>0.319763</td>\n",
       "      <td>-0.059082</td>\n",
       "      <td>-0.000556</td>\n",
       "      <td>-0.245133</td>\n",
       "      <td>-0.301130</td>\n",
       "      <td>0.130965</td>\n",
       "    </tr>\n",
       "    <tr>\n",
       "      <th>1</th>\n",
       "      <td>0</td>\n",
       "      <td>H_-2_-2_0.501338.dat</td>\n",
       "      <td>-2.0</td>\n",
       "      <td>-2.0</td>\n",
       "      <td>0.501338</td>\n",
       "      <td>999</td>\n",
       "      <td>666</td>\n",
       "      <td>test</td>\n",
       "      <td>-0.130965</td>\n",
       "      <td>-0.301130</td>\n",
       "      <td>...</td>\n",
       "      <td>-0.080279</td>\n",
       "      <td>0.115687</td>\n",
       "      <td>-0.174988</td>\n",
       "      <td>-0.245064</td>\n",
       "      <td>0.319763</td>\n",
       "      <td>0.059082</td>\n",
       "      <td>-0.000556</td>\n",
       "      <td>0.245133</td>\n",
       "      <td>-0.301130</td>\n",
       "      <td>-0.130965</td>\n",
       "    </tr>\n",
       "    <tr>\n",
       "      <th>2</th>\n",
       "      <td>0</td>\n",
       "      <td>H_-2_-2_0.501338.dat</td>\n",
       "      <td>-2.0</td>\n",
       "      <td>-2.0</td>\n",
       "      <td>0.501338</td>\n",
       "      <td>999</td>\n",
       "      <td>666</td>\n",
       "      <td>test</td>\n",
       "      <td>-0.148414</td>\n",
       "      <td>-0.042467</td>\n",
       "      <td>...</td>\n",
       "      <td>0.185442</td>\n",
       "      <td>-0.080620</td>\n",
       "      <td>-0.066211</td>\n",
       "      <td>-0.121339</td>\n",
       "      <td>-0.151700</td>\n",
       "      <td>0.192513</td>\n",
       "      <td>0.191642</td>\n",
       "      <td>-0.050956</td>\n",
       "      <td>-0.042467</td>\n",
       "      <td>-0.148414</td>\n",
       "    </tr>\n",
       "    <tr>\n",
       "      <th>3</th>\n",
       "      <td>0</td>\n",
       "      <td>H_-2_-2_0.501338.dat</td>\n",
       "      <td>-2.0</td>\n",
       "      <td>-2.0</td>\n",
       "      <td>0.501338</td>\n",
       "      <td>999</td>\n",
       "      <td>666</td>\n",
       "      <td>test</td>\n",
       "      <td>-0.069630</td>\n",
       "      <td>-0.026147</td>\n",
       "      <td>...</td>\n",
       "      <td>0.102009</td>\n",
       "      <td>-0.100671</td>\n",
       "      <td>-0.081002</td>\n",
       "      <td>-0.020715</td>\n",
       "      <td>-0.058717</td>\n",
       "      <td>0.115834</td>\n",
       "      <td>0.118274</td>\n",
       "      <td>-0.054666</td>\n",
       "      <td>-0.026147</td>\n",
       "      <td>-0.069630</td>\n",
       "    </tr>\n",
       "    <tr>\n",
       "      <th>4</th>\n",
       "      <td>0</td>\n",
       "      <td>H_-2_-2_0.501338.dat</td>\n",
       "      <td>-2.0</td>\n",
       "      <td>-2.0</td>\n",
       "      <td>0.501338</td>\n",
       "      <td>999</td>\n",
       "      <td>666</td>\n",
       "      <td>test</td>\n",
       "      <td>0.010206</td>\n",
       "      <td>-0.014625</td>\n",
       "      <td>...</td>\n",
       "      <td>0.047555</td>\n",
       "      <td>-0.041368</td>\n",
       "      <td>-0.018852</td>\n",
       "      <td>-0.017673</td>\n",
       "      <td>-0.023377</td>\n",
       "      <td>0.031447</td>\n",
       "      <td>0.010280</td>\n",
       "      <td>0.000925</td>\n",
       "      <td>0.014625</td>\n",
       "      <td>-0.010206</td>\n",
       "    </tr>\n",
       "  </tbody>\n",
       "</table>\n",
       "<p>5 rows × 108 columns</p>\n",
       "</div>"
      ],
      "text/plain": [
       "   id                  path   t1   t2   winding  phase  pred_phase type_of  \\\n",
       "0   0  H_-2_-2_0.501338.dat -2.0 -2.0  0.501338    999         666    test   \n",
       "1   0  H_-2_-2_0.501338.dat -2.0 -2.0  0.501338    999         666    test   \n",
       "2   0  H_-2_-2_0.501338.dat -2.0 -2.0  0.501338    999         666    test   \n",
       "3   0  H_-2_-2_0.501338.dat -2.0 -2.0  0.501338    999         666    test   \n",
       "4   0  H_-2_-2_0.501338.dat -2.0 -2.0  0.501338    999         666    test   \n",
       "\n",
       "      feat0     feat1  ...    feat90    feat91    feat92    feat93    feat94  \\\n",
       "0 -0.130965  0.301130  ... -0.080279 -0.115687 -0.174988  0.245064  0.319763   \n",
       "1 -0.130965 -0.301130  ... -0.080279  0.115687 -0.174988 -0.245064  0.319763   \n",
       "2 -0.148414 -0.042467  ...  0.185442 -0.080620 -0.066211 -0.121339 -0.151700   \n",
       "3 -0.069630 -0.026147  ...  0.102009 -0.100671 -0.081002 -0.020715 -0.058717   \n",
       "4  0.010206 -0.014625  ...  0.047555 -0.041368 -0.018852 -0.017673 -0.023377   \n",
       "\n",
       "     feat95    feat96    feat97    feat98    feat99  \n",
       "0 -0.059082 -0.000556 -0.245133 -0.301130  0.130965  \n",
       "1  0.059082 -0.000556  0.245133 -0.301130 -0.130965  \n",
       "2  0.192513  0.191642 -0.050956 -0.042467 -0.148414  \n",
       "3  0.115834  0.118274 -0.054666 -0.026147 -0.069630  \n",
       "4  0.031447  0.010280  0.000925  0.014625 -0.010206  \n",
       "\n",
       "[5 rows x 108 columns]"
      ]
     },
     "execution_count": 4,
     "metadata": {},
     "output_type": "execute_result"
    }
   ],
   "source": [
    "%%time\n",
    "#Starting an instance of Simulation with a decision tree\n",
    "model = DecisionTreeClassifier(criterion=\"entropy\")\n",
    "#dict_args = {\"csv_path\":csv_path, \"model\":model, \"allowed_windings\":allowed_windings,\\\n",
    "#             \"simulation_dir\":simulation_dir, \"val_split\":val_split, \"features_to_use\":features_to_use,\\\n",
    "#            \"shuffle_features\":shuffle_features, \"random_state\":random_state}\n",
    "simulation = Simulation(csv_path,model_name,model_kw,allowed_windings,simulation_dir,val_split,features_to_use,\\\n",
    "                       shuffle_features,fourier_mode,fourier_features_to_use,fourier_real,\\\n",
    "                       fourier_normalize, fourier_fillna , random_state)\n",
    "#simulation = Simulation(**dict_args)\n",
    "\n",
    "\n",
    "#(self, csv_path, model_name, model_kw, allowed_windings, simulation_dir = None, val_split = 0, \n",
    "# features_to_use = None, shuffle_features = False, fourier_mode=None, fourier_features_to_use=None,\n",
    "# fourier_real = False, fourier_normalize = False, Fourier_fillna=False, random_state = None):\n",
    "\n",
    "\n",
    "\n",
    "print(\"Info on all data: \\n\")\n",
    "simulation.dataframe.info()\n",
    "simulation.dataframe.head()"
   ]
  },
  {
   "cell_type": "markdown",
   "metadata": {
    "papermill": {
     "duration": 0.018183,
     "end_time": "2020-07-18T17:58:06.339337",
     "exception": false,
     "start_time": "2020-07-18T17:58:06.321154",
     "status": "completed"
    },
    "tags": []
   },
   "source": [
    "####  Fourier features"
   ]
  },
  {
   "cell_type": "code",
   "execution_count": 5,
   "metadata": {
    "execution": {
     "iopub.execute_input": "2020-07-18T17:58:06.375934Z",
     "iopub.status.busy": "2020-07-18T17:58:06.375621Z",
     "iopub.status.idle": "2020-07-18T17:58:06.481970Z",
     "shell.execute_reply": "2020-07-18T17:58:06.481649Z"
    },
    "papermill": {
     "duration": 0.125379,
     "end_time": "2020-07-18T17:58:06.482022",
     "exception": false,
     "start_time": "2020-07-18T17:58:06.356643",
     "status": "completed"
    },
    "tags": []
   },
   "outputs": [
    {
     "name": "stdout",
     "output_type": "stream",
     "text": [
      "<class 'pandas.core.frame.DataFrame'>\n",
      "Int64Index: 656100 entries, 0 to 656099\n",
      "Data columns (total 20 columns):\n",
      " #   Column      Non-Null Count   Dtype  \n",
      "---  ------      --------------   -----  \n",
      " 0   id          656100 non-null  int32  \n",
      " 1   path        656100 non-null  object \n",
      " 2   t1          656100 non-null  float64\n",
      " 3   t2          656100 non-null  float64\n",
      " 4   winding     656100 non-null  float64\n",
      " 5   phase       656100 non-null  int32  \n",
      " 6   pred_phase  656100 non-null  int32  \n",
      " 7   type_of     656100 non-null  object \n",
      " 8   dst_feat0   656100 non-null  float64\n",
      " 9   dst_feat1   656100 non-null  float64\n",
      " 10  dst_feat2   656100 non-null  float64\n",
      " 11  dst_feat3   656100 non-null  float64\n",
      " 12  dst_feat4   656100 non-null  float64\n",
      " 13  dst_feat5   656100 non-null  float64\n",
      " 14  dst_feat43  656100 non-null  float64\n",
      " 15  dst_feat44  656100 non-null  float64\n",
      " 16  dst_feat45  656100 non-null  float64\n",
      " 17  dst_feat46  656100 non-null  float64\n",
      " 18  dst_feat47  656100 non-null  float64\n",
      " 19  dst_feat48  656100 non-null  float64\n",
      "dtypes: float64(15), int32(3), object(2)\n",
      "memory usage: 97.6+ MB\n",
      "CPU times: user 90.5 ms, sys: 4.31 ms, total: 94.8 ms\n",
      "Wall time: 94.2 ms\n"
     ]
    }
   ],
   "source": [
    "%%time\n",
    "#simulation.generate_fourier_df()\n",
    "if simulation.fourier_mode is not None:\n",
    "    simulation.fourier_dataframe.info() \n",
    "    simulation.fourier_dataframe.sample(15)\n"
   ]
  },
  {
   "cell_type": "code",
   "execution_count": 6,
   "metadata": {
    "execution": {
     "iopub.execute_input": "2020-07-18T17:58:06.521231Z",
     "iopub.status.busy": "2020-07-18T17:58:06.520909Z",
     "iopub.status.idle": "2020-07-18T17:58:06.535030Z",
     "shell.execute_reply": "2020-07-18T17:58:06.535333Z"
    },
    "papermill": {
     "duration": 0.035131,
     "end_time": "2020-07-18T17:58:06.535397",
     "exception": false,
     "start_time": "2020-07-18T17:58:06.500266",
     "status": "completed"
    },
    "tags": []
   },
   "outputs": [
    {
     "name": "stdout",
     "output_type": "stream",
     "text": [
      "features_to_use: \n",
      "\n",
      "\n",
      "[0, 1, 2, 3, 4, 5, 6, 7, 46, 48, 49, 50]\n",
      "Number of real space features:\n",
      "\n",
      "\n",
      "12\n",
      "\n",
      "\n",
      "fourier_features: \n",
      "\n",
      "\n",
      "['dst_feat0', 'dst_feat1', 'dst_feat2', 'dst_feat3', 'dst_feat4', 'dst_feat5', 'dst_feat43', 'dst_feat44', 'dst_feat45', 'dst_feat46', 'dst_feat47', 'dst_feat48']\n",
      "\n",
      "\n",
      "Number of Fourier features: \n",
      "\n",
      "\n",
      "12\n",
      "\n",
      "\n",
      "Fourier operator: \n",
      "[[ 0.12558104  0.25066647  0.37476263  0.49737977  0.61803399  0.73624911\n",
      "   0.73624911  0.61803399  0.49737977  0.37476263  0.25066647  0.12558104]\n",
      " [ 0.25066647  0.49737977  0.73624911  0.96350735  1.1755705   1.36909421\n",
      "  -1.36909421 -1.1755705  -0.96350735 -0.73624911 -0.49737977 -0.25066647]\n",
      " [ 0.37476263  0.73624911  1.07165359  1.36909421  1.61803399  1.8096541\n",
      "   1.8096541   1.61803399  1.36909421  1.07165359  0.73624911  0.37476263]\n",
      " [ 0.49737977  0.96350735  1.36909421  1.68865585  1.90211303  1.99605346\n",
      "  -1.99605346 -1.90211303 -1.68865585 -1.36909421 -0.96350735 -0.49737977]\n",
      " [ 0.61803399  1.1755705   1.61803399  1.90211303  2.          1.90211303\n",
      "   1.90211303  2.          1.90211303  1.61803399  1.1755705   0.61803399]\n",
      " [ 0.73624911  1.36909421  1.8096541   1.99605346  1.90211303  1.54102649\n",
      "  -1.54102649 -1.90211303 -1.99605346 -1.8096541  -1.36909421 -0.73624911]\n",
      " [ 0.85155858  1.54102649  1.93716632  1.9645745   1.61803399  0.96350735\n",
      "   0.96350735  1.61803399  1.9645745   1.93716632  1.54102649  0.85155858]\n",
      " [ 0.96350735  1.68865585  1.99605346  1.8096541   1.1755705   0.25066647\n",
      "  -0.25066647 -1.1755705  -1.8096541  -1.99605346 -1.68865585 -0.96350735]\n",
      " [ 0.37476263 -0.73624911  1.07165359 -1.36909421  1.61803399 -1.8096541\n",
      "  -1.8096541   1.61803399 -1.36909421  1.07165359 -0.73624911  0.37476263]\n",
      " [ 0.12558104 -0.25066647  0.37476263 -0.49737977  0.61803399 -0.73624911\n",
      "  -0.73624911  0.61803399 -0.49737977  0.37476263 -0.25066647  0.12558104]]\n",
      "\n",
      "\n",
      "Shape of Fourier operator: \n",
      "(10, 12)\n"
     ]
    }
   ],
   "source": [
    "print(\"features_to_use: \")\n",
    "print(\"\\n\")\n",
    "print(simulation.features_to_use)\n",
    "if simulation.features_to_use is not None:\n",
    "    print(\"Number of real space features:\")\n",
    "    print(\"\\n\")\n",
    "    print(len(simulation.features_to_use))\n",
    "print(\"\\n\")\n",
    "print(\"fourier_features: \")\n",
    "print(\"\\n\")\n",
    "print(simulation.fourier_features)\n",
    "print(\"\\n\")\n",
    "if simulation.fourier_features is not None:\n",
    "    print(\"Number of Fourier features: \")\n",
    "    print(\"\\n\")\n",
    "    print(len(simulation.fourier_features))\n",
    "print(\"\\n\")\n",
    "print(\"Fourier operator: \")\n",
    "print(simulation.fourier_operator)\n",
    "print(\"\\n\")\n",
    "if simulation.fourier_operator is not None:\n",
    "    print(\"Shape of Fourier operator: \")\n",
    "    print(simulation.fourier_operator.shape)"
   ]
  },
  {
   "cell_type": "code",
   "execution_count": 7,
   "metadata": {
    "execution": {
     "iopub.execute_input": "2020-07-18T17:58:06.573338Z",
     "iopub.status.busy": "2020-07-18T17:58:06.572846Z",
     "iopub.status.idle": "2020-07-18T17:58:06.629634Z",
     "shell.execute_reply": "2020-07-18T17:58:06.629195Z"
    },
    "papermill": {
     "duration": 0.076079,
     "end_time": "2020-07-18T17:58:06.629703",
     "exception": false,
     "start_time": "2020-07-18T17:58:06.553624",
     "status": "completed"
    },
    "tags": []
   },
   "outputs": [],
   "source": [
    "#a = np.array([1+1j,2+3j,4+8j])\n",
    "#np.imag(a)"
   ]
  },
  {
   "cell_type": "code",
   "execution_count": 8,
   "metadata": {
    "execution": {
     "iopub.execute_input": "2020-07-18T17:58:06.679795Z",
     "iopub.status.busy": "2020-07-18T17:58:06.679474Z",
     "iopub.status.idle": "2020-07-18T17:58:06.770870Z",
     "shell.execute_reply": "2020-07-18T17:58:06.769089Z"
    },
    "papermill": {
     "duration": 0.114522,
     "end_time": "2020-07-18T17:58:06.771120",
     "exception": false,
     "start_time": "2020-07-18T17:58:06.656598",
     "status": "completed"
    },
    "tags": []
   },
   "outputs": [],
   "source": [
    "#plt.plot(np.imag(simulation.fourier_operator[:,0]))"
   ]
  },
  {
   "cell_type": "code",
   "execution_count": 9,
   "metadata": {
    "execution": {
     "iopub.execute_input": "2020-07-18T17:58:06.846475Z",
     "iopub.status.busy": "2020-07-18T17:58:06.846155Z",
     "iopub.status.idle": "2020-07-18T17:58:06.856612Z",
     "shell.execute_reply": "2020-07-18T17:58:06.856322Z"
    },
    "papermill": {
     "duration": 0.032568,
     "end_time": "2020-07-18T17:58:06.856668",
     "exception": false,
     "start_time": "2020-07-18T17:58:06.824100",
     "status": "completed"
    },
    "tags": []
   },
   "outputs": [],
   "source": [
    "#np.sin(np.pi/(50))*2"
   ]
  },
  {
   "cell_type": "code",
   "execution_count": 10,
   "metadata": {
    "execution": {
     "iopub.execute_input": "2020-07-18T17:58:06.894684Z",
     "iopub.status.busy": "2020-07-18T17:58:06.894376Z",
     "iopub.status.idle": "2020-07-18T17:58:06.963758Z",
     "shell.execute_reply": "2020-07-18T17:58:06.963140Z"
    },
    "papermill": {
     "duration": 0.088703,
     "end_time": "2020-07-18T17:58:06.963849",
     "exception": false,
     "start_time": "2020-07-18T17:58:06.875146",
     "status": "completed"
    },
    "tags": []
   },
   "outputs": [],
   "source": [
    "#2*np.sin(np.pi/50*49)"
   ]
  },
  {
   "cell_type": "code",
   "execution_count": 11,
   "metadata": {
    "execution": {
     "iopub.execute_input": "2020-07-18T17:58:07.029748Z",
     "iopub.status.busy": "2020-07-18T17:58:07.029303Z",
     "iopub.status.idle": "2020-07-18T17:58:07.042180Z",
     "shell.execute_reply": "2020-07-18T17:58:07.041893Z"
    },
    "papermill": {
     "duration": 0.036942,
     "end_time": "2020-07-18T17:58:07.042236",
     "exception": false,
     "start_time": "2020-07-18T17:58:07.005294",
     "status": "completed"
    },
    "tags": []
   },
   "outputs": [],
   "source": [
    "#simulation.dataframe.iloc[331456,:]"
   ]
  },
  {
   "cell_type": "code",
   "execution_count": 12,
   "metadata": {
    "execution": {
     "iopub.execute_input": "2020-07-18T17:58:07.080076Z",
     "iopub.status.busy": "2020-07-18T17:58:07.079766Z",
     "iopub.status.idle": "2020-07-18T17:58:07.165890Z",
     "shell.execute_reply": "2020-07-18T17:58:07.164673Z"
    },
    "papermill": {
     "duration": 0.105649,
     "end_time": "2020-07-18T17:58:07.166066",
     "exception": false,
     "start_time": "2020-07-18T17:58:07.060417",
     "status": "completed"
    },
    "tags": []
   },
   "outputs": [],
   "source": [
    "#for ix, obj in enumerate(simulation.dataframe.iloc[331456,:].values):\n",
    "#    print(ix,obj)"
   ]
  },
  {
   "cell_type": "code",
   "execution_count": 13,
   "metadata": {
    "execution": {
     "iopub.execute_input": "2020-07-18T17:58:07.243287Z",
     "iopub.status.busy": "2020-07-18T17:58:07.242977Z",
     "iopub.status.idle": "2020-07-18T17:58:07.252775Z",
     "shell.execute_reply": "2020-07-18T17:58:07.253059Z"
    },
    "papermill": {
     "duration": 0.032145,
     "end_time": "2020-07-18T17:58:07.253134",
     "exception": false,
     "start_time": "2020-07-18T17:58:07.220989",
     "status": "completed"
    },
    "tags": []
   },
   "outputs": [],
   "source": [
    "#simulation.fourier_engineered_dataframe.dct_feat0"
   ]
  },
  {
   "cell_type": "code",
   "execution_count": 14,
   "metadata": {
    "execution": {
     "iopub.execute_input": "2020-07-18T17:58:07.291625Z",
     "iopub.status.busy": "2020-07-18T17:58:07.291316Z",
     "iopub.status.idle": "2020-07-18T17:58:07.364104Z",
     "shell.execute_reply": "2020-07-18T17:58:07.363400Z"
    },
    "papermill": {
     "duration": 0.092091,
     "end_time": "2020-07-18T17:58:07.364214",
     "exception": false,
     "start_time": "2020-07-18T17:58:07.272123",
     "status": "completed"
    },
    "tags": []
   },
   "outputs": [],
   "source": [
    "#simulation.features"
   ]
  },
  {
   "cell_type": "code",
   "execution_count": 15,
   "metadata": {
    "execution": {
     "iopub.execute_input": "2020-07-18T17:58:07.426722Z",
     "iopub.status.busy": "2020-07-18T17:58:07.426389Z",
     "iopub.status.idle": "2020-07-18T17:58:07.436429Z",
     "shell.execute_reply": "2020-07-18T17:58:07.436062Z"
    },
    "papermill": {
     "duration": 0.032207,
     "end_time": "2020-07-18T17:58:07.436486",
     "exception": false,
     "start_time": "2020-07-18T17:58:07.404279",
     "status": "completed"
    },
    "tags": []
   },
   "outputs": [],
   "source": [
    "#simulation.fourier_matrix"
   ]
  },
  {
   "cell_type": "code",
   "execution_count": 16,
   "metadata": {
    "execution": {
     "iopub.execute_input": "2020-07-18T17:58:07.475429Z",
     "iopub.status.busy": "2020-07-18T17:58:07.475121Z",
     "iopub.status.idle": "2020-07-18T17:58:07.547336Z",
     "shell.execute_reply": "2020-07-18T17:58:07.548023Z"
    },
    "papermill": {
     "duration": 0.092484,
     "end_time": "2020-07-18T17:58:07.548178",
     "exception": false,
     "start_time": "2020-07-18T17:58:07.455694",
     "status": "completed"
    },
    "tags": []
   },
   "outputs": [],
   "source": [
    "#1/simulation.n_features*simulation.dataframe.loc[:,simulation.features].sum(axis=1)"
   ]
  },
  {
   "cell_type": "code",
   "execution_count": 17,
   "metadata": {
    "execution": {
     "iopub.execute_input": "2020-07-18T17:58:07.624187Z",
     "iopub.status.busy": "2020-07-18T17:58:07.623874Z",
     "iopub.status.idle": "2020-07-18T17:58:07.635587Z",
     "shell.execute_reply": "2020-07-18T17:58:07.635241Z"
    },
    "papermill": {
     "duration": 0.03606,
     "end_time": "2020-07-18T17:58:07.635643",
     "exception": false,
     "start_time": "2020-07-18T17:58:07.599583",
     "status": "completed"
    },
    "tags": []
   },
   "outputs": [],
   "source": [
    "#df_2 = simulation.fourier_engineered_dataframe[simulation.fourier_engineered_dataframe.phase==2]\n",
    "#df_2.describe()"
   ]
  },
  {
   "cell_type": "code",
   "execution_count": 18,
   "metadata": {
    "execution": {
     "iopub.execute_input": "2020-07-18T17:58:07.673964Z",
     "iopub.status.busy": "2020-07-18T17:58:07.673653Z",
     "iopub.status.idle": "2020-07-18T17:58:07.743573Z",
     "shell.execute_reply": "2020-07-18T17:58:07.745394Z"
    },
    "papermill": {
     "duration": 0.092351,
     "end_time": "2020-07-18T17:58:07.745699",
     "exception": false,
     "start_time": "2020-07-18T17:58:07.653348",
     "status": "completed"
    },
    "tags": []
   },
   "outputs": [],
   "source": [
    "#df_1 = simulation.fourier_engineered_dataframe[simulation.fourier_engineered_dataframe.phase==1]\n",
    "#df_1.describe()"
   ]
  },
  {
   "cell_type": "code",
   "execution_count": 19,
   "metadata": {
    "execution": {
     "iopub.execute_input": "2020-07-18T17:58:07.822545Z",
     "iopub.status.busy": "2020-07-18T17:58:07.822236Z",
     "iopub.status.idle": "2020-07-18T17:58:07.832174Z",
     "shell.execute_reply": "2020-07-18T17:58:07.831832Z"
    },
    "papermill": {
     "duration": 0.032994,
     "end_time": "2020-07-18T17:58:07.832229",
     "exception": false,
     "start_time": "2020-07-18T17:58:07.799235",
     "status": "completed"
    },
    "tags": []
   },
   "outputs": [],
   "source": [
    "#df_0 = simulation.fourier_engineered_dataframe[simulation.fourier_engineered_dataframe.phase==0]\n",
    "#df_0.describe()"
   ]
  },
  {
   "cell_type": "code",
   "execution_count": 20,
   "metadata": {
    "execution": {
     "iopub.execute_input": "2020-07-18T17:58:07.869907Z",
     "iopub.status.busy": "2020-07-18T17:58:07.869596Z",
     "iopub.status.idle": "2020-07-18T17:58:07.937888Z",
     "shell.execute_reply": "2020-07-18T17:58:07.938470Z"
    },
    "papermill": {
     "duration": 0.088568,
     "end_time": "2020-07-18T17:58:07.938585",
     "exception": false,
     "start_time": "2020-07-18T17:58:07.850017",
     "status": "completed"
    },
    "tags": []
   },
   "outputs": [],
   "source": [
    "#plt.figure(figsize=(10,10))\n",
    "#plt.scatter(df_1.fourier_feat0,df_1.fourier_feat2)\n",
    "#plt.scatter(df_0.fourier_feat0,df_0.fourier_feat2,alpha=0.4)"
   ]
  },
  {
   "cell_type": "code",
   "execution_count": 21,
   "metadata": {
    "execution": {
     "iopub.execute_input": "2020-07-18T17:58:08.004954Z",
     "iopub.status.busy": "2020-07-18T17:58:08.004642Z",
     "iopub.status.idle": "2020-07-18T17:58:08.025834Z",
     "shell.execute_reply": "2020-07-18T17:58:08.025487Z"
    },
    "papermill": {
     "duration": 0.04552,
     "end_time": "2020-07-18T17:58:08.025888",
     "exception": false,
     "start_time": "2020-07-18T17:58:07.980368",
     "status": "completed"
    },
    "tags": []
   },
   "outputs": [],
   "source": [
    "#plt.scatter(df_0.fourier_feat0,df_0.fourier_feat2,alpha=0.4)"
   ]
  },
  {
   "cell_type": "code",
   "execution_count": 22,
   "metadata": {
    "execution": {
     "iopub.execute_input": "2020-07-18T17:58:08.065183Z",
     "iopub.status.busy": "2020-07-18T17:58:08.064874Z",
     "iopub.status.idle": "2020-07-18T17:58:08.139065Z",
     "shell.execute_reply": "2020-07-18T17:58:08.138361Z"
    },
    "papermill": {
     "duration": 0.093647,
     "end_time": "2020-07-18T17:58:08.139167",
     "exception": false,
     "start_time": "2020-07-18T17:58:08.045520",
     "status": "completed"
    },
    "tags": []
   },
   "outputs": [],
   "source": [
    "#plt.scatter(df_2.fourier_feat0,df_2.fourier_feat2)"
   ]
  },
  {
   "cell_type": "code",
   "execution_count": 23,
   "metadata": {
    "execution": {
     "iopub.execute_input": "2020-07-18T17:58:08.209123Z",
     "iopub.status.busy": "2020-07-18T17:58:08.208812Z",
     "iopub.status.idle": "2020-07-18T17:58:08.220542Z",
     "shell.execute_reply": "2020-07-18T17:58:08.220194Z"
    },
    "papermill": {
     "duration": 0.034849,
     "end_time": "2020-07-18T17:58:08.220596",
     "exception": false,
     "start_time": "2020-07-18T17:58:08.185747",
     "status": "completed"
    },
    "tags": []
   },
   "outputs": [],
   "source": [
    "#df_1.hist(figsize=(15,15))"
   ]
  },
  {
   "cell_type": "code",
   "execution_count": 24,
   "metadata": {
    "execution": {
     "iopub.execute_input": "2020-07-18T17:58:08.258964Z",
     "iopub.status.busy": "2020-07-18T17:58:08.258656Z",
     "iopub.status.idle": "2020-07-18T17:58:08.330221Z",
     "shell.execute_reply": "2020-07-18T17:58:08.329517Z"
    },
    "papermill": {
     "duration": 0.091569,
     "end_time": "2020-07-18T17:58:08.330324",
     "exception": false,
     "start_time": "2020-07-18T17:58:08.238755",
     "status": "completed"
    },
    "tags": []
   },
   "outputs": [],
   "source": [
    "#df_0.hist(figsize=(15,15))"
   ]
  },
  {
   "cell_type": "markdown",
   "metadata": {
    "papermill": {
     "duration": 0.021701,
     "end_time": "2020-07-18T17:58:08.393956",
     "exception": false,
     "start_time": "2020-07-18T17:58:08.372255",
     "status": "completed"
    },
    "tags": []
   },
   "source": [
    "#### Checking initialization"
   ]
  },
  {
   "cell_type": "code",
   "execution_count": 25,
   "metadata": {
    "execution": {
     "iopub.execute_input": "2020-07-18T17:58:08.433239Z",
     "iopub.status.busy": "2020-07-18T17:58:08.432921Z",
     "iopub.status.idle": "2020-07-18T17:58:08.443688Z",
     "shell.execute_reply": "2020-07-18T17:58:08.443360Z"
    },
    "papermill": {
     "duration": 0.031131,
     "end_time": "2020-07-18T17:58:08.443739",
     "exception": false,
     "start_time": "2020-07-18T17:58:08.412608",
     "status": "completed"
    },
    "tags": []
   },
   "outputs": [
    {
     "name": "stdout",
     "output_type": "stream",
     "text": [
      "n_features:  100\n",
      "n_hamiltonians:  6561\n",
      "n_ts:  2\n",
      "CPU times: user 624 µs, sys: 82 µs, total: 706 µs\n",
      "Wall time: 488 µs\n"
     ]
    }
   ],
   "source": [
    "%%time\n",
    "n_features = simulation.n_features\n",
    "n_hamiltonians = simulation.n_hamiltonians\n",
    "n_ts = simulation.n_ts\n",
    "\n",
    "print(\"n_features: \", n_features)\n",
    "print(\"n_hamiltonians: \", n_hamiltonians)\n",
    "print(\"n_ts: \", n_ts)"
   ]
  },
  {
   "cell_type": "code",
   "execution_count": 26,
   "metadata": {
    "execution": {
     "iopub.execute_input": "2020-07-18T17:58:08.482003Z",
     "iopub.status.busy": "2020-07-18T17:58:08.481682Z",
     "iopub.status.idle": "2020-07-18T17:58:08.757561Z",
     "shell.execute_reply": "2020-07-18T17:58:08.757240Z"
    },
    "papermill": {
     "duration": 0.295659,
     "end_time": "2020-07-18T17:58:08.757611",
     "exception": false,
     "start_time": "2020-07-18T17:58:08.461952",
     "status": "completed"
    },
    "tags": []
   },
   "outputs": [
    {
     "name": "stdout",
     "output_type": "stream",
     "text": [
      "% train:  0.8414875781130925\n",
      "% val:  0.0\n",
      "% test:  0.15851242188690748\n",
      "% train + val + test:  1.0\n",
      "\n",
      "\n",
      "number of train hamiltonians:  5521\n",
      "number of val hamiltonians:  0\n",
      "number of test hamiltonians:  1040\n",
      "total number of hamiltonians:  6561\n",
      "\n",
      "\n",
      "train ids:  [13, 14, 15, 16, 17, 18, 19, 20, 21, 22, 23, 24, 25, 26, 27, 28, 29, 30, 31, 32, 33, 34, 35, 36, 37, 38, 39, 41, 42, 43, 44, 45, 46, 47, 48, 49, 50, 51, 52, 53, 54, 55, 56, 57, 58, 59, 60, 61, 62, 63, 64, 65, 66, 67, 68, 69, 70, 71, 72, 73, 74, 75, 76, 77, 78, 79, 80, 95, 96, 97, 98, 99, 100, 101, 102, 103, 104, 105, 106, 107, 108, 109, 110, 111, 112, 113, 114, 115, 116, 117, 118, 119, 121, 122, 123, 124, 125, 126, 127, 128, 129, 130, 131, 132, 133, 134, 135, 136, 137, 138, 139, 140, 141, 142, 143, 144, 145, 146, 147, 148, 149, 150, 151, 152, 153, 154, 155, 156, 157, 158, 159, 160, 161, 176, 177, 178, 179, 180, 181, 182, 183, 184, 185, 186, 187, 188, 189, 190, 191, 192, 193, 194, 195, 196, 197, 198, 199, 201, 202, 203, 204, 205, 206, 207, 208, 209, 210, 211, 212, 213, 214, 215, 216, 217, 218, 219, 220, 221, 222, 223, 224, 225, 226, 227, 228, 229, 230, 231, 232, 233, 234, 235, 236, 237, 238, 239, 240, 241, 242, 258, 259, 260, 261, 262, 263, 264, 265, 266, 267, 268, 269, 270, 271, 272, 273, 274, 275, 276, 277, 278, 279, 281, 282, 283, 284, 285, 286, 287, 288, 289, 290, 291, 292, 293, 294, 295, 296, 297, 298, 299, 300, 301, 302, 303, 304, 305, 306, 307, 308, 309, 310, 311, 312, 313, 314, 315, 316, 317, 318, 319, 320, 321, 322, 323, 340, 341, 342, 343, 344, 345, 346, 347, 348, 349, 350, 351, 352, 353, 354, 355, 356, 357, 358, 359, 361, 362, 363, 364, 365, 366, 367, 368, 369, 370, 371, 372, 373, 374, 375, 376, 377, 378, 379, 380, 381, 382, 383, 384, 385, 386, 387, 388, 389, 390, 391, 392, 393, 394, 395, 396, 397, 398, 399, 400, 401, 402, 403, 404, 422, 423, 424, 425, 426, 427, 428, 429, 430, 431, 432, 433, 434, 435, 436, 437, 438, 439, 441, 442, 443, 444, 445, 446, 447, 448, 449, 450, 451, 452, 453, 454, 455, 456, 457, 458, 459, 460, 461, 462, 463, 464, 465, 466, 467, 468, 469, 470, 471, 472, 473, 474, 475, 476, 477, 478, 479, 480, 481, 482, 483, 484, 485, 503, 504, 505, 506, 507, 508, 509, 510, 511, 512, 513, 514, 515, 516, 517, 518, 519, 521, 522, 523, 524, 525, 526, 527, 528, 529, 530, 531, 532, 533, 534, 535, 536, 537, 538, 539, 540, 541, 542, 543, 544, 545, 546, 547, 548, 549, 550, 551, 552, 553, 554, 555, 556, 557, 558, 559, 560, 561, 562, 563, 564, 565, 566, 585, 586, 587, 588, 589, 590, 591, 592, 593, 594, 595, 596, 597, 598, 599, 601, 602, 603, 604, 605, 606, 607, 608, 609, 610, 611, 612, 613, 614, 615, 616, 617, 618, 619, 620, 621, 622, 623, 624, 625, 626, 627, 628, 629, 630, 631, 632, 633, 634, 635, 636, 637, 638, 639, 640, 641, 642, 643, 644, 645, 646, 647, 667, 668, 669, 670, 671, 672, 673, 674, 675, 676, 677, 678, 679, 681, 682, 683, 684, 685, 686, 687, 688, 689, 690, 691, 692, 693, 694, 695, 696, 697, 698, 699, 700, 701, 702, 703, 704, 705, 706, 707, 708, 709, 710, 711, 712, 713, 714, 715, 716, 717, 718, 719, 720, 721, 722, 723, 724, 725, 726, 727, 728, 749, 750, 751, 752, 753, 754, 755, 756, 757, 758, 759, 761, 762, 763, 764, 765, 766, 767, 768, 769, 770, 771, 772, 773, 774, 775, 776, 777, 778, 779, 780, 781, 782, 783, 784, 785, 786, 787, 788, 789, 790, 791, 792, 793, 794, 795, 796, 797, 798, 799, 800, 801, 802, 803, 804, 805, 806, 807, 808, 809, 830, 831, 832, 833, 834, 835, 836, 837, 838, 839, 841, 842, 843, 844, 845, 846, 847, 848, 849, 850, 851, 852, 853, 854, 855, 856, 857, 858, 859, 860, 861, 862, 863, 864, 865, 866, 867, 868, 869, 870, 871, 872, 873, 874, 875, 876, 877, 878, 879, 880, 881, 882, 883, 884, 885, 886, 887, 888, 889, 890, 912, 913, 914, 915, 916, 917, 918, 919, 921, 922, 923, 924, 925, 926, 927, 928, 929, 930, 931, 932, 933, 934, 935, 936, 937, 938, 939, 940, 941, 942, 943, 944, 945, 946, 947, 948, 949, 950, 951, 952, 953, 954, 955, 956, 957, 958, 959, 960, 961, 962, 963, 964, 965, 966, 967, 968, 969, 970, 971, 994, 995, 996, 997, 998, 999, 1001, 1002, 1003, 1004, 1005, 1006, 1007, 1008, 1009, 1010, 1011, 1012, 1013, 1014, 1015, 1016, 1017, 1018, 1019, 1020, 1021, 1022, 1023, 1024, 1025, 1026, 1027, 1028, 1029, 1030, 1031, 1032, 1033, 1034, 1035, 1036, 1037, 1038, 1039, 1040, 1041, 1042, 1043, 1044, 1045, 1046, 1047, 1048, 1049, 1050, 1051, 1052, 1076, 1077, 1078, 1079, 1081, 1082, 1083, 1084, 1085, 1086, 1087, 1088, 1089, 1090, 1091, 1092, 1093, 1094, 1095, 1096, 1097, 1098, 1099, 1100, 1101, 1102, 1103, 1104, 1105, 1106, 1107, 1108, 1109, 1110, 1111, 1112, 1113, 1114, 1115, 1116, 1117, 1118, 1119, 1120, 1121, 1122, 1123, 1124, 1125, 1126, 1127, 1128, 1129, 1130, 1131, 1132, 1133, 1134, 1157, 1158, 1159, 1161, 1162, 1163, 1164, 1165, 1166, 1167, 1168, 1169, 1170, 1171, 1172, 1173, 1174, 1175, 1176, 1177, 1178, 1179, 1180, 1181, 1182, 1183, 1184, 1185, 1186, 1187, 1188, 1189, 1190, 1191, 1192, 1193, 1194, 1195, 1196, 1197, 1198, 1199, 1200, 1201, 1202, 1203, 1204, 1205, 1206, 1207, 1208, 1209, 1210, 1211, 1212, 1213, 1214, 1215, 1216, 1239, 1241, 1242, 1243, 1244, 1245, 1246, 1247, 1248, 1249, 1250, 1251, 1252, 1253, 1254, 1255, 1256, 1257, 1258, 1259, 1260, 1261, 1262, 1263, 1264, 1265, 1266, 1267, 1268, 1269, 1270, 1271, 1272, 1273, 1274, 1275, 1276, 1277, 1278, 1279, 1280, 1281, 1282, 1283, 1284, 1285, 1286, 1287, 1288, 1289, 1290, 1291, 1292, 1293, 1294, 1295, 1296, 1297, 1298, 1299, 1321, 1322, 1323, 1324, 1325, 1326, 1327, 1328, 1329, 1330, 1331, 1332, 1333, 1334, 1335, 1336, 1337, 1338, 1339, 1340, 1341, 1342, 1343, 1344, 1345, 1346, 1347, 1348, 1349, 1350, 1351, 1352, 1353, 1354, 1355, 1356, 1357, 1358, 1359, 1360, 1361, 1362, 1363, 1364, 1365, 1366, 1367, 1368, 1369, 1370, 1371, 1372, 1373, 1374, 1375, 1376, 1377, 1378, 1379, 1380, 1381, 1402, 1403, 1404, 1405, 1406, 1407, 1408, 1409, 1410, 1411, 1412, 1413, 1414, 1415, 1416, 1417, 1418, 1419, 1420, 1421, 1422, 1423, 1424, 1425, 1426, 1427, 1428, 1429, 1430, 1431, 1432, 1433, 1434, 1435, 1436, 1437, 1438, 1439, 1440, 1441, 1442, 1443, 1444, 1445, 1446, 1447, 1448, 1449, 1450, 1451, 1452, 1453, 1454, 1455, 1456, 1457, 1458, 1459, 1460, 1461, 1462, 1463, 1464, 1484, 1485, 1486, 1487, 1488, 1489, 1490, 1491, 1492, 1493, 1494, 1495, 1496, 1497, 1498, 1499, 1500, 1501, 1502, 1503, 1504, 1505, 1506, 1507, 1508, 1509, 1510, 1511, 1512, 1513, 1514, 1515, 1516, 1517, 1518, 1519, 1520, 1521, 1522, 1523, 1524, 1525, 1526, 1527, 1528, 1529, 1530, 1531, 1532, 1533, 1534, 1535, 1536, 1537, 1538, 1539, 1540, 1541, 1542, 1543, 1544, 1545, 1546, 1566, 1567, 1568, 1569, 1570, 1571, 1572, 1573, 1574, 1575, 1576, 1577, 1578, 1579, 1580, 1581, 1582, 1583, 1584, 1585, 1586, 1587, 1588, 1589, 1590, 1591, 1592, 1593, 1594, 1595, 1596, 1597, 1598, 1599, 1600, 1601, 1602, 1603, 1604, 1605, 1606, 1607, 1608, 1609, 1610, 1611, 1612, 1613, 1614, 1615, 1616, 1617, 1618, 1619, 1620, 1621, 1622, 1623, 1624, 1625, 1626, 1627, 1628, 1648, 1649, 1650, 1651, 1652, 1653, 1654, 1655, 1656, 1657, 1658, 1659, 1660, 1661, 1662, 1663, 1664, 1665, 1666, 1667, 1668, 1669, 1670, 1671, 1672, 1673, 1674, 1675, 1676, 1677, 1678, 1679, 1680, 1681, 1682, 1683, 1684, 1685, 1686, 1687, 1688, 1689, 1690, 1691, 1692, 1693, 1694, 1695, 1696, 1697, 1698, 1699, 1701, 1702, 1703, 1704, 1705, 1706, 1707, 1708, 1709, 1710, 1711, 1729, 1730, 1731, 1732, 1733, 1734, 1735, 1736, 1737, 1738, 1739, 1740, 1741, 1742, 1743, 1744, 1745, 1746, 1747, 1748, 1749, 1750, 1751, 1752, 1753, 1754, 1755, 1756, 1757, 1758, 1759, 1760, 1761, 1762, 1763, 1764, 1765, 1766, 1767, 1768, 1769, 1770, 1771, 1772, 1773, 1774, 1775, 1776, 1777, 1778, 1779, 1781, 1782, 1783, 1784, 1785, 1786, 1787, 1788, 1789, 1790, 1791, 1792, 1793, 1811, 1812, 1813, 1814, 1815, 1816, 1817, 1818, 1819, 1820, 1821, 1822, 1823, 1824, 1825, 1826, 1827, 1828, 1829, 1830, 1831, 1832, 1833, 1834, 1835, 1836, 1837, 1838, 1839, 1840, 1841, 1842, 1843, 1844, 1845, 1846, 1847, 1848, 1849, 1850, 1851, 1852, 1853, 1854, 1855, 1856, 1857, 1858, 1859, 1861, 1862, 1863, 1864, 1865, 1866, 1867, 1868, 1869, 1870, 1871, 1872, 1873, 1874, 1875, 1876, 1893, 1894, 1895, 1896, 1897, 1898, 1899, 1900, 1901, 1902, 1903, 1904, 1905, 1906, 1907, 1908, 1909, 1910, 1911, 1912, 1913, 1914, 1915, 1916, 1917, 1918, 1919, 1920, 1921, 1922, 1923, 1924, 1925, 1926, 1927, 1928, 1929, 1930, 1931, 1932, 1933, 1934, 1935, 1936, 1937, 1938, 1939, 1941, 1942, 1943, 1944, 1945, 1946, 1947, 1948, 1949, 1950, 1951, 1952, 1953, 1954, 1955, 1956, 1957, 1958, 1975, 1976, 1977, 1978, 1979, 1980, 1981, 1982, 1983, 1984, 1985, 1986, 1987, 1988, 1989, 1990, 1991, 1992, 1993, 1994, 1995, 1996, 1997, 1998, 1999, 2000, 2001, 2002, 2003, 2004, 2005, 2006, 2007, 2008, 2009, 2010, 2011, 2012, 2013, 2014, 2015, 2016, 2017, 2018, 2019, 2021, 2022, 2023, 2024, 2025, 2026, 2027, 2028, 2029, 2030, 2031, 2032, 2033, 2034, 2035, 2036, 2037, 2038, 2039, 2056, 2057, 2058, 2059, 2060, 2061, 2062, 2063, 2064, 2065, 2066, 2067, 2068, 2069, 2070, 2071, 2072, 2073, 2074, 2075, 2076, 2077, 2078, 2079, 2080, 2081, 2082, 2083, 2084, 2085, 2086, 2087, 2088, 2089, 2090, 2091, 2092, 2093, 2094, 2095, 2096, 2097, 2098, 2099, 2101, 2102, 2103, 2104, 2105, 2106, 2107, 2108, 2109, 2110, 2111, 2112, 2113, 2114, 2115, 2116, 2117, 2118, 2119, 2121, 2122, 2123, 2138, 2139, 2140, 2141, 2142, 2143, 2144, 2145, 2146, 2147, 2148, 2149, 2150, 2151, 2152, 2153, 2154, 2155, 2156, 2157, 2158, 2159, 2160, 2161, 2162, 2163, 2164, 2165, 2166, 2167, 2168, 2169, 2170, 2171, 2172, 2173, 2174, 2175, 2176, 2177, 2178, 2179, 2181, 2182, 2183, 2184, 2185, 2186, 2187, 2188, 2189, 2190, 2191, 2192, 2193, 2194, 2195, 2196, 2197, 2198, 2199, 2201, 2202, 2203, 2204, 2205, 2220, 2221, 2222, 2223, 2224, 2225, 2226, 2227, 2228, 2229, 2230, 2231, 2232, 2233, 2234, 2235, 2236, 2237, 2238, 2239, 2240, 2241, 2242, 2243, 2244, 2245, 2246, 2247, 2248, 2249, 2250, 2251, 2252, 2253, 2254, 2255, 2256, 2257, 2258, 2259, 2261, 2262, 2263, 2264, 2265, 2266, 2267, 2268, 2269, 2270, 2271, 2272, 2273, 2274, 2275, 2276, 2277, 2278, 2279, 2281, 2282, 2283, 2284, 2285, 2286, 2287, 2288, 2301, 2302, 2303, 2304, 2305, 2306, 2307, 2308, 2309, 2310, 2311, 2312, 2313, 2314, 2315, 2316, 2317, 2318, 2319, 2320, 2321, 2322, 2323, 2324, 2325, 2326, 2327, 2328, 2329, 2330, 2331, 2332, 2333, 2334, 2335, 2336, 2337, 2338, 2339, 2341, 2342, 2343, 2344, 2345, 2346, 2347, 2348, 2349, 2350, 2351, 2352, 2353, 2354, 2355, 2356, 2357, 2358, 2359, 2361, 2362, 2363, 2364, 2365, 2366, 2367, 2368, 2369, 2370, 2383, 2384, 2385, 2386, 2387, 2388, 2389, 2390, 2391, 2392, 2393, 2394, 2395, 2396, 2397, 2398, 2399, 2400, 2401, 2402, 2403, 2404, 2405, 2406, 2407, 2408, 2409, 2410, 2411, 2412, 2413, 2414, 2415, 2416, 2417, 2418, 2419, 2421, 2422, 2423, 2424, 2425, 2426, 2427, 2428, 2429, 2430, 2431, 2432, 2433, 2434, 2435, 2436, 2437, 2438, 2439, 2441, 2442, 2443, 2444, 2445, 2446, 2447, 2448, 2449, 2450, 2451, 2452, 2453, 2465, 2466, 2467, 2468, 2469, 2470, 2471, 2472, 2473, 2474, 2475, 2476, 2477, 2478, 2479, 2480, 2481, 2482, 2483, 2484, 2485, 2486, 2487, 2488, 2489, 2490, 2491, 2492, 2493, 2494, 2495, 2496, 2497, 2498, 2499, 2501, 2502, 2503, 2504, 2505, 2506, 2507, 2508, 2509, 2510, 2511, 2512, 2513, 2514, 2515, 2516, 2517, 2518, 2519, 2521, 2522, 2523, 2524, 2525, 2526, 2527, 2528, 2529, 2530, 2531, 2532, 2533, 2534, 2535, 2547, 2548, 2549, 2550, 2551, 2552, 2553, 2554, 2555, 2556, 2557, 2558, 2559, 2560, 2561, 2562, 2563, 2564, 2565, 2566, 2567, 2568, 2569, 2570, 2571, 2572, 2573, 2574, 2575, 2576, 2577, 2578, 2579, 2581, 2582, 2583, 2584, 2585, 2586, 2587, 2588, 2589, 2590, 2591, 2592, 2593, 2594, 2595, 2596, 2597, 2598, 2599, 2601, 2602, 2603, 2604, 2605, 2606, 2607, 2608, 2609, 2610, 2611, 2612, 2613, 2614, 2615, 2616, 2617, 2628, 2629, 2630, 2631, 2632, 2633, 2634, 2635, 2636, 2637, 2638, 2639, 2640, 2641, 2642, 2643, 2644, 2645, 2646, 2647, 2648, 2649, 2650, 2651, 2652, 2653, 2654, 2655, 2656, 2657, 2658, 2659, 2661, 2662, 2663, 2664, 2665, 2666, 2667, 2668, 2669, 2670, 2671, 2672, 2673, 2674, 2675, 2676, 2677, 2678, 2679, 2681, 2682, 2683, 2684, 2685, 2686, 2687, 2688, 2689, 2690, 2691, 2692, 2693, 2694, 2695, 2696, 2697, 2698, 2699, 2700, 2710, 2711, 2712, 2713, 2714, 2715, 2716, 2717, 2718, 2719, 2720, 2721, 2722, 2723, 2724, 2725, 2726, 2727, 2728, 2729, 2730, 2731, 2732, 2733, 2734, 2735, 2736, 2737, 2738, 2739, 2741, 2742, 2743, 2744, 2745, 2746, 2747, 2748, 2749, 2750, 2751, 2752, 2753, 2754, 2755, 2756, 2757, 2758, 2759, 2761, 2762, 2763, 2764, 2765, 2766, 2767, 2768, 2769, 2770, 2771, 2772, 2773, 2774, 2775, 2776, 2777, 2778, 2779, 2780, 2781, 2782, 2792, 2793, 2794, 2795, 2796, 2797, 2798, 2799, 2800, 2801, 2802, 2803, 2804, 2805, 2806, 2807, 2808, 2809, 2810, 2811, 2812, 2813, 2814, 2815, 2816, 2817, 2818, 2819, 2821, 2822, 2823, 2824, 2825, 2826, 2827, 2828, 2829, 2830, 2831, 2832, 2833, 2834, 2835, 2836, 2837, 2838, 2839, 2841, 2842, 2843, 2844, 2845, 2846, 2847, 2848, 2849, 2850, 2851, 2852, 2853, 2854, 2855, 2856, 2857, 2858, 2859, 2860, 2861, 2862, 2863, 2864, 2865, 2874, 2875, 2876, 2877, 2878, 2879, 2880, 2881, 2882, 2883, 2884, 2885, 2886, 2887, 2888, 2889, 2890, 2891, 2892, 2893, 2894, 2895, 2896, 2897, 2898, 2899, 2901, 2902, 2903, 2904, 2905, 2906, 2907, 2908, 2909, 2910, 2911, 2912, 2913, 2914, 2915, 2916, 2917, 2918, 2919, 2921, 2922, 2923, 2924, 2925, 2926, 2927, 2928, 2929, 2930, 2931, 2932, 2933, 2934, 2935, 2936, 2937, 2938, 2939, 2940, 2941, 2942, 2943, 2944, 2945, 2946, 2947, 2955, 2956, 2957, 2958, 2959, 2960, 2961, 2962, 2963, 2964, 2965, 2966, 2967, 2968, 2969, 2970, 2971, 2972, 2973, 2974, 2975, 2976, 2977, 2978, 2979, 2981, 2982, 2983, 2984, 2985, 2986, 2987, 2988, 2989, 2990, 2991, 2992, 2993, 2994, 2995, 2996, 2997, 2998, 2999, 3001, 3002, 3003, 3004, 3005, 3006, 3007, 3008, 3009, 3010, 3011, 3012, 3013, 3014, 3015, 3016, 3017, 3018, 3019, 3020, 3021, 3022, 3023, 3024, 3025, 3026, 3027, 3028, 3029, 3037, 3038, 3039, 3040, 3041, 3042, 3043, 3044, 3045, 3046, 3047, 3048, 3049, 3050, 3051, 3052, 3053, 3054, 3055, 3056, 3057, 3058, 3059, 3061, 3062, 3063, 3064, 3065, 3066, 3067, 3068, 3069, 3070, 3071, 3072, 3073, 3074, 3075, 3076, 3077, 3078, 3079, 3081, 3082, 3083, 3084, 3085, 3086, 3087, 3088, 3089, 3090, 3091, 3092, 3093, 3094, 3095, 3096, 3097, 3098, 3099, 3100, 3101, 3102, 3103, 3104, 3105, 3106, 3107, 3108, 3109, 3110, 3111, 3112, 3119, 3120, 3121, 3122, 3123, 3124, 3125, 3126, 3127, 3128, 3129, 3130, 3131, 3132, 3133, 3134, 3135, 3136, 3137, 3138, 3139, 3141, 3142, 3143, 3144, 3145, 3146, 3147, 3148, 3149, 3150, 3151, 3152, 3153, 3154, 3155, 3156, 3157, 3158, 3159, 3161, 3162, 3163, 3164, 3165, 3166, 3167, 3168, 3169, 3170, 3171, 3172, 3173, 3174, 3175, 3176, 3177, 3178, 3179, 3180, 3181, 3182, 3183, 3184, 3185, 3186, 3187, 3188, 3189, 3190, 3191, 3192, 3193, 3194, 3201, 3202, 3203, 3204, 3205, 3206, 3207, 3208, 3209, 3210, 3211, 3212, 3213, 3214, 3215, 3216, 3217, 3218, 3219, 3221, 3222, 3223, 3224, 3225, 3226, 3227, 3228, 3229, 3230, 3231, 3232, 3233, 3234, 3235, 3236, 3237, 3238, 3239, 3241, 3242, 3243, 3244, 3245, 3246, 3247, 3248, 3249, 3250, 3251, 3252, 3253, 3254, 3255, 3256, 3257, 3258, 3259, 3260, 3261, 3262, 3263, 3264, 3265, 3266, 3267, 3268, 3269, 3270, 3271, 3272, 3273, 3274, 3275, 3276, 3277, 3282, 3283, 3284, 3285, 3286, 3287, 3288, 3289, 3290, 3291, 3292, 3293, 3294, 3295, 3296, 3297, 3298, 3299, 3301, 3302, 3303, 3304, 3305, 3306, 3307, 3308, 3309, 3310, 3311, 3312, 3313, 3314, 3315, 3316, 3317, 3318, 3319, 3320, 3321, 3322, 3323, 3324, 3325, 3326, 3327, 3328, 3329, 3330, 3331, 3332, 3333, 3334, 3335, 3336, 3337, 3338, 3339, 3340, 3341, 3342, 3343, 3344, 3345, 3346, 3347, 3348, 3349, 3350, 3351, 3352, 3353, 3354, 3355, 3356, 3357, 3358, 3359, 3364, 3365, 3366, 3367, 3368, 3369, 3370, 3371, 3372, 3373, 3374, 3375, 3376, 3377, 3378, 3379, 3381, 3382, 3383, 3384, 3385, 3386, 3387, 3388, 3389, 3390, 3391, 3392, 3393, 3394, 3395, 3396, 3397, 3398, 3399, 3400, 3401, 3402, 3403, 3404, 3405, 3406, 3407, 3408, 3409, 3410, 3411, 3412, 3413, 3414, 3415, 3416, 3417, 3418, 3419, 3420, 3421, 3422, 3423, 3424, 3425, 3426, 3427, 3428, 3429, 3430, 3431, 3432, 3433, 3434, 3435, 3436, 3437, 3438, 3439, 3440, 3441, 3442, 3446, 3447, 3448, 3449, 3450, 3451, 3452, 3453, 3454, 3455, 3456, 3457, 3458, 3459, 3461, 3462, 3463, 3464, 3465, 3466, 3467, 3468, 3469, 3470, 3471, 3472, 3473, 3474, 3475, 3476, 3477, 3478, 3479, 3480, 3481, 3482, 3483, 3484, 3485, 3486, 3487, 3488, 3489, 3490, 3491, 3492, 3493, 3494, 3495, 3496, 3497, 3498, 3499, 3500, 3501, 3502, 3503, 3504, 3505, 3506, 3507, 3508, 3509, 3510, 3511, 3512, 3513, 3514, 3515, 3516, 3517, 3518, 3519, 3520, 3521, 3522, 3523, 3524, 3527, 3528, 3529, 3530, 3531, 3532, 3533, 3534, 3535, 3536, 3537, 3538, 3539, 3541, 3542, 3543, 3544, 3545, 3546, 3547, 3548, 3549, 3550, 3551, 3552, 3553, 3554, 3555, 3556, 3557, 3558, 3559, 3560, 3561, 3562, 3563, 3564, 3565, 3566, 3567, 3568, 3569, 3570, 3571, 3572, 3573, 3574, 3575, 3576, 3577, 3578, 3579, 3580, 3581, 3582, 3583, 3584, 3585, 3586, 3587, 3588, 3589, 3590, 3591, 3592, 3593, 3594, 3595, 3596, 3597, 3598, 3599, 3600, 3601, 3602, 3603, 3604, 3605, 3606, 3609, 3610, 3611, 3612, 3613, 3614, 3615, 3616, 3617, 3618, 3619, 3621, 3622, 3623, 3624, 3625, 3626, 3627, 3628, 3629, 3630, 3631, 3632, 3633, 3634, 3635, 3636, 3637, 3638, 3639, 3640, 3641, 3642, 3643, 3644, 3645, 3646, 3647, 3648, 3649, 3650, 3651, 3652, 3653, 3654, 3655, 3656, 3657, 3658, 3659, 3660, 3661, 3662, 3663, 3664, 3665, 3666, 3667, 3668, 3669, 3670, 3671, 3672, 3673, 3674, 3675, 3676, 3677, 3678, 3679, 3680, 3681, 3682, 3683, 3684, 3685, 3686, 3687, 3688, 3689, 3691, 3692, 3693, 3694, 3695, 3696, 3697, 3698, 3699, 3701, 3702, 3703, 3704, 3705, 3706, 3707, 3708, 3709, 3710, 3711, 3712, 3713, 3714, 3715, 3716, 3717, 3718, 3719, 3720, 3721, 3722, 3723, 3724, 3725, 3726, 3727, 3728, 3729, 3730, 3731, 3732, 3733, 3734, 3735, 3736, 3737, 3738, 3739, 3740, 3741, 3742, 3743, 3744, 3745, 3746, 3747, 3748, 3749, 3750, 3751, 3752, 3753, 3754, 3755, 3756, 3757, 3758, 3759, 3760, 3761, 3762, 3763, 3764, 3765, 3766, 3767, 3768, 3769, 3770, 3771, 3773, 3774, 3775, 3776, 3777, 3778, 3779, 3781, 3782, 3783, 3784, 3785, 3786, 3787, 3788, 3789, 3790, 3791, 3792, 3793, 3794, 3795, 3796, 3797, 3798, 3799, 3800, 3801, 3802, 3803, 3804, 3805, 3806, 3807, 3808, 3809, 3810, 3811, 3812, 3813, 3814, 3815, 3816, 3817, 3818, 3819, 3820, 3821, 3822, 3823, 3824, 3825, 3826, 3827, 3828, 3829, 3830, 3831, 3832, 3833, 3834, 3835, 3836, 3837, 3838, 3839, 3840, 3841, 3842, 3843, 3844, 3845, 3846, 3847, 3848, 3849, 3850, 3851, 3852, 3853, 3855, 3856, 3857, 3858, 3859, 3861, 3862, 3863, 3864, 3865, 3866, 3867, 3868, 3869, 3870, 3871, 3872, 3873, 3874, 3875, 3876, 3877, 3878, 3879, 3880, 3881, 3882, 3883, 3884, 3885, 3886, 3887, 3888, 3889, 3890, 3891, 3892, 3893, 3894, 3895, 3896, 3897, 3898, 3899, 3900, 3901, 3902, 3903, 3904, 3905, 3906, 3907, 3908, 3909, 3910, 3911, 3912, 3913, 3914, 3915, 3916, 3917, 3918, 3919, 3920, 3921, 3922, 3923, 3924, 3925, 3926, 3927, 3928, 3929, 3930, 3931, 3932, 3933, 3934, 3935, 3937, 3938, 3939, 3941, 3942, 3943, 3944, 3945, 3946, 3947, 3948, 3949, 3950, 3951, 3952, 3953, 3954, 3955, 3956, 3957, 3958, 3959, 3960, 3961, 3962, 3963, 3964, 3965, 3966, 3967, 3968, 3969, 3970, 3971, 3972, 3973, 3974, 3975, 3976, 3977, 3978, 3979, 3980, 3981, 3982, 3983, 3984, 3985, 3986, 3987, 3988, 3989, 3990, 3991, 3992, 3993, 3994, 3995, 3996, 3997, 3998, 3999, 4000, 4001, 4002, 4003, 4004, 4005, 4006, 4007, 4008, 4009, 4010, 4011, 4012, 4013, 4014, 4015, 4016, 4017, 4021, 4022, 4023, 4024, 4025, 4026, 4027, 4028, 4029, 4030, 4031, 4032, 4033, 4034, 4035, 4036, 4037, 4038, 4039, 4040, 4041, 4042, 4043, 4044, 4045, 4046, 4047, 4048, 4049, 4050, 4051, 4052, 4053, 4054, 4055, 4056, 4057, 4058, 4059, 4060, 4061, 4062, 4063, 4064, 4065, 4066, 4067, 4068, 4069, 4070, 4071, 4072, 4073, 4074, 4075, 4076, 4077, 4078, 4079, 4080, 4081, 4082, 4083, 4084, 4085, 4086, 4087, 4088, 4089, 4090, 4091, 4092, 4093, 4094, 4095, 4096, 4097, 4098, 4102, 4103, 4104, 4105, 4106, 4107, 4108, 4109, 4110, 4111, 4112, 4113, 4114, 4115, 4116, 4117, 4118, 4119, 4120, 4121, 4122, 4123, 4124, 4125, 4126, 4127, 4128, 4129, 4130, 4131, 4132, 4133, 4134, 4135, 4136, 4137, 4138, 4139, 4140, 4141, 4142, 4143, 4144, 4145, 4146, 4147, 4148, 4149, 4150, 4151, 4152, 4153, 4154, 4155, 4156, 4157, 4158, 4159, 4160, 4161, 4162, 4163, 4164, 4165, 4166, 4167, 4168, 4169, 4170, 4171, 4172, 4173, 4174, 4175, 4176, 4177, 4178, 4179, 4184, 4185, 4186, 4187, 4188, 4189, 4190, 4191, 4192, 4193, 4194, 4195, 4196, 4197, 4198, 4199, 4200, 4201, 4202, 4203, 4204, 4205, 4206, 4207, 4208, 4209, 4210, 4211, 4212, 4213, 4214, 4215, 4216, 4217, 4218, 4219, 4220, 4221, 4222, 4223, 4224, 4225, 4226, 4227, 4228, 4229, 4230, 4231, 4232, 4233, 4234, 4235, 4236, 4237, 4238, 4239, 4240, 4241, 4242, 4243, 4244, 4245, 4246, 4247, 4248, 4249, 4250, 4251, 4252, 4253, 4254, 4255, 4256, 4257, 4258, 4259, 4261, 4262, 4267, 4268, 4269, 4270, 4271, 4272, 4273, 4274, 4275, 4276, 4277, 4278, 4279, 4280, 4281, 4282, 4283, 4284, 4285, 4286, 4287, 4288, 4289, 4290, 4291, 4292, 4293, 4294, 4295, 4296, 4297, 4298, 4299, 4300, 4301, 4302, 4303, 4304, 4305, 4306, 4307, 4308, 4309, 4310, 4311, 4312, 4313, 4314, 4315, 4316, 4317, 4318, 4319, 4320, 4321, 4322, 4323, 4324, 4325, 4326, 4327, 4328, 4329, 4330, 4331, 4332, 4333, 4334, 4335, 4336, 4337, 4338, 4339, 4341, 4342, 4343, 4344, 4349, 4350, 4351, 4352, 4353, 4354, 4355, 4356, 4357, 4358, 4359, 4360, 4361, 4362, 4363, 4364, 4365, 4366, 4367, 4368, 4369, 4370, 4371, 4372, 4373, 4374, 4375, 4376, 4377, 4378, 4379, 4380, 4381, 4382, 4383, 4384, 4385, 4386, 4387, 4388, 4389, 4390, 4391, 4392, 4393, 4394, 4395, 4396, 4397, 4398, 4399, 4400, 4401, 4402, 4403, 4404, 4405, 4406, 4407, 4408, 4409, 4410, 4411, 4412, 4413, 4414, 4415, 4416, 4417, 4418, 4419, 4421, 4422, 4423, 4424, 4425, 4426, 4432, 4433, 4434, 4435, 4436, 4437, 4438, 4439, 4440, 4441, 4442, 4443, 4444, 4445, 4446, 4447, 4448, 4449, 4450, 4451, 4452, 4453, 4454, 4455, 4456, 4457, 4458, 4459, 4460, 4461, 4462, 4463, 4464, 4465, 4466, 4467, 4468, 4469, 4470, 4471, 4472, 4473, 4474, 4475, 4476, 4477, 4478, 4479, 4480, 4481, 4482, 4483, 4484, 4485, 4486, 4487, 4488, 4489, 4490, 4491, 4492, 4493, 4494, 4495, 4496, 4497, 4498, 4499, 4501, 4502, 4503, 4504, 4505, 4506, 4507, 4514, 4515, 4516, 4517, 4518, 4519, 4520, 4521, 4522, 4523, 4524, 4525, 4526, 4527, 4528, 4529, 4530, 4531, 4532, 4533, 4534, 4535, 4536, 4537, 4538, 4539, 4540, 4541, 4542, 4543, 4544, 4545, 4546, 4547, 4548, 4549, 4550, 4551, 4552, 4553, 4554, 4555, 4556, 4557, 4558, 4559, 4560, 4561, 4562, 4563, 4564, 4565, 4566, 4567, 4568, 4569, 4570, 4571, 4572, 4573, 4574, 4575, 4576, 4577, 4578, 4579, 4581, 4582, 4583, 4584, 4585, 4586, 4587, 4588, 4589, 4596, 4597, 4598, 4599, 4600, 4601, 4602, 4603, 4604, 4605, 4606, 4607, 4608, 4609, 4610, 4611, 4612, 4613, 4614, 4615, 4616, 4617, 4618, 4619, 4620, 4621, 4622, 4623, 4624, 4625, 4626, 4627, 4628, 4629, 4630, 4631, 4632, 4633, 4634, 4635, 4636, 4637, 4638, 4639, 4640, 4641, 4642, 4643, 4644, 4645, 4646, 4647, 4648, 4649, 4650, 4651, 4652, 4653, 4654, 4655, 4656, 4657, 4658, 4659, 4661, 4662, 4663, 4664, 4665, 4666, 4667, 4668, 4669, 4670, 4671, 4679, 4680, 4681, 4682, 4683, 4684, 4685, 4686, 4687, 4688, 4689, 4690, 4691, 4692, 4693, 4694, 4695, 4696, 4697, 4698, 4699, 4700, 4701, 4702, 4703, 4704, 4705, 4706, 4707, 4708, 4709, 4710, 4711, 4712, 4713, 4714, 4715, 4716, 4717, 4718, 4719, 4720, 4721, 4722, 4723, 4724, 4725, 4726, 4727, 4728, 4729, 4730, 4731, 4732, 4733, 4734, 4735, 4736, 4737, 4738, 4739, 4741, 4742, 4743, 4744, 4745, 4746, 4747, 4748, 4749, 4750, 4751, 4752, 4761, 4762, 4763, 4764, 4765, 4766, 4767, 4768, 4769, 4770, 4771, 4772, 4773, 4774, 4775, 4776, 4777, 4778, 4779, 4780, 4781, 4782, 4783, 4784, 4785, 4786, 4787, 4788, 4789, 4790, 4791, 4792, 4793, 4794, 4795, 4796, 4797, 4798, 4799, 4800, 4801, 4802, 4803, 4804, 4805, 4806, 4807, 4808, 4809, 4810, 4811, 4812, 4813, 4814, 4815, 4816, 4817, 4818, 4819, 4821, 4822, 4823, 4824, 4825, 4826, 4827, 4828, 4829, 4830, 4831, 4832, 4833, 4834, 4844, 4845, 4846, 4847, 4848, 4849, 4850, 4851, 4852, 4853, 4854, 4855, 4856, 4857, 4858, 4859, 4860, 4861, 4862, 4863, 4864, 4865, 4866, 4867, 4868, 4869, 4870, 4871, 4872, 4873, 4874, 4875, 4876, 4877, 4878, 4879, 4880, 4881, 4882, 4883, 4884, 4885, 4886, 4887, 4888, 4889, 4890, 4891, 4892, 4893, 4894, 4895, 4896, 4897, 4898, 4899, 4901, 4902, 4903, 4904, 4905, 4906, 4907, 4908, 4909, 4910, 4911, 4912, 4913, 4914, 4915, 4916, 4926, 4927, 4928, 4929, 4930, 4931, 4932, 4933, 4934, 4935, 4936, 4937, 4938, 4939, 4940, 4941, 4942, 4943, 4944, 4945, 4946, 4947, 4948, 4949, 4950, 4951, 4952, 4953, 4954, 4955, 4956, 4957, 4958, 4959, 4960, 4961, 4962, 4963, 4964, 4965, 4966, 4967, 4968, 4969, 4970, 4971, 4972, 4973, 4974, 4975, 4976, 4977, 4978, 4979, 4981, 4982, 4983, 4984, 4985, 4986, 4987, 4988, 4989, 4990, 4991, 4992, 4993, 4994, 4995, 4996, 4997, 4998, 5008, 5009, 5010, 5011, 5012, 5013, 5014, 5015, 5016, 5017, 5018, 5019, 5020, 5021, 5022, 5023, 5024, 5025, 5026, 5027, 5028, 5029, 5030, 5031, 5032, 5033, 5034, 5035, 5036, 5037, 5038, 5039, 5040, 5041, 5042, 5043, 5044, 5045, 5046, 5047, 5048, 5049, 5050, 5051, 5052, 5053, 5054, 5055, 5056, 5057, 5058, 5059, 5061, 5062, 5063, 5064, 5065, 5066, 5067, 5068, 5069, 5070, 5071, 5072, 5073, 5074, 5075, 5076, 5077, 5078, 5079, 5091, 5092, 5093, 5094, 5095, 5096, 5097, 5098, 5099, 5100, 5101, 5102, 5103, 5104, 5105, 5106, 5107, 5108, 5109, 5110, 5111, 5112, 5113, 5114, 5115, 5116, 5117, 5118, 5119, 5120, 5121, 5122, 5123, 5124, 5125, 5126, 5127, 5128, 5129, 5130, 5131, 5132, 5133, 5134, 5135, 5136, 5137, 5138, 5139, 5141, 5142, 5143, 5144, 5145, 5146, 5147, 5148, 5149, 5150, 5151, 5152, 5153, 5154, 5155, 5156, 5157, 5158, 5159, 5160, 5161, 5173, 5174, 5175, 5176, 5177, 5178, 5179, 5180, 5181, 5182, 5183, 5184, 5185, 5186, 5187, 5188, 5189, 5190, 5191, 5192, 5193, 5194, 5195, 5196, 5197, 5198, 5199, 5200, 5201, 5202, 5203, 5204, 5205, 5206, 5207, 5208, 5209, 5210, 5211, 5212, 5213, 5214, 5215, 5216, 5217, 5218, 5219, 5221, 5222, 5223, 5224, 5225, 5226, 5227, 5228, 5229, 5230, 5231, 5232, 5233, 5234, 5235, 5236, 5237, 5238, 5239, 5240, 5241, 5242, 5243, 5256, 5257, 5258, 5259, 5260, 5261, 5262, 5263, 5264, 5265, 5266, 5267, 5268, 5269, 5270, 5271, 5272, 5273, 5274, 5275, 5276, 5277, 5278, 5279, 5280, 5281, 5282, 5283, 5284, 5285, 5286, 5287, 5288, 5289, 5290, 5291, 5292, 5293, 5294, 5295, 5296, 5297, 5298, 5299, 5301, 5302, 5303, 5304, 5305, 5306, 5307, 5308, 5309, 5310, 5311, 5312, 5313, 5314, 5315, 5316, 5317, 5318, 5319, 5320, 5321, 5322, 5323, 5324, 5325, 5338, 5339, 5340, 5341, 5342, 5343, 5344, 5345, 5346, 5347, 5348, 5349, 5350, 5351, 5352, 5353, 5354, 5355, 5356, 5357, 5358, 5359, 5360, 5361, 5362, 5363, 5364, 5365, 5366, 5367, 5368, 5369, 5370, 5371, 5372, 5373, 5374, 5375, 5376, 5377, 5378, 5379, 5381, 5382, 5383, 5384, 5385, 5386, 5387, 5388, 5389, 5390, 5391, 5392, 5393, 5394, 5395, 5396, 5397, 5398, 5399, 5400, 5401, 5402, 5403, 5404, 5405, 5406, 5421, 5422, 5423, 5424, 5425, 5426, 5427, 5428, 5429, 5430, 5431, 5432, 5433, 5434, 5435, 5436, 5437, 5438, 5439, 5440, 5441, 5442, 5443, 5444, 5445, 5446, 5447, 5448, 5449, 5450, 5451, 5452, 5453, 5454, 5455, 5456, 5457, 5458, 5459, 5461, 5462, 5463, 5464, 5465, 5466, 5467, 5468, 5469, 5470, 5471, 5472, 5473, 5474, 5475, 5476, 5477, 5478, 5479, 5480, 5481, 5482, 5483, 5484, 5485, 5486, 5487, 5488, 5503, 5504, 5505, 5506, 5507, 5508, 5509, 5510, 5511, 5512, 5513, 5514, 5515, 5516, 5517, 5518, 5519, 5520, 5521, 5522, 5523, 5524, 5525, 5526, 5527, 5528, 5529, 5530, 5531, 5532, 5533, 5534, 5535, 5536, 5537, 5538, 5539, 5541, 5542, 5543, 5544, 5545, 5546, 5547, 5548, 5549, 5550, 5551, 5552, 5553, 5554, 5555, 5556, 5557, 5558, 5559, 5560, 5561, 5562, 5563, 5564, 5565, 5566, 5567, 5568, 5569, 5570, 5585, 5586, 5587, 5588, 5589, 5590, 5591, 5592, 5593, 5594, 5595, 5596, 5597, 5598, 5599, 5600, 5601, 5602, 5603, 5604, 5605, 5606, 5607, 5608, 5609, 5610, 5611, 5612, 5613, 5614, 5615, 5616, 5617, 5618, 5619, 5621, 5622, 5623, 5624, 5625, 5626, 5627, 5628, 5629, 5630, 5631, 5632, 5633, 5634, 5635, 5636, 5637, 5638, 5639, 5640, 5641, 5642, 5643, 5644, 5645, 5646, 5647, 5648, 5649, 5650, 5651, 5652, 5668, 5669, 5670, 5671, 5672, 5673, 5674, 5675, 5676, 5677, 5678, 5679, 5680, 5681, 5682, 5683, 5684, 5685, 5686, 5687, 5688, 5689, 5690, 5691, 5692, 5693, 5694, 5695, 5696, 5697, 5698, 5699, 5701, 5702, 5703, 5704, 5705, 5706, 5707, 5708, 5709, 5710, 5711, 5712, 5713, 5714, 5715, 5716, 5717, 5718, 5719, 5720, 5721, 5722, 5723, 5724, 5725, 5726, 5727, 5728, 5729, 5730, 5731, 5732, 5733, 5750, 5751, 5752, 5753, 5754, 5755, 5756, 5757, 5758, 5759, 5760, 5761, 5762, 5763, 5764, 5765, 5766, 5767, 5768, 5769, 5770, 5771, 5772, 5773, 5774, 5775, 5776, 5777, 5778, 5779, 5781, 5782, 5783, 5784, 5785, 5786, 5787, 5788, 5789, 5790, 5791, 5792, 5793, 5794, 5795, 5796, 5797, 5798, 5799, 5800, 5801, 5802, 5803, 5804, 5805, 5806, 5807, 5808, 5809, 5810, 5811, 5812, 5813, 5814, 5815, 5832, 5833, 5834, 5835, 5836, 5837, 5838, 5839, 5840, 5841, 5842, 5843, 5844, 5845, 5846, 5847, 5848, 5849, 5850, 5851, 5852, 5853, 5854, 5855, 5856, 5857, 5858, 5859, 5861, 5862, 5863, 5864, 5865, 5866, 5867, 5868, 5869, 5870, 5871, 5872, 5873, 5874, 5875, 5876, 5877, 5878, 5879, 5880, 5881, 5882, 5883, 5884, 5885, 5886, 5887, 5888, 5889, 5890, 5891, 5892, 5893, 5894, 5895, 5896, 5897, 5913, 5914, 5915, 5916, 5917, 5918, 5919, 5920, 5921, 5922, 5923, 5924, 5925, 5926, 5927, 5928, 5929, 5930, 5931, 5932, 5933, 5934, 5935, 5936, 5937, 5938, 5939, 5941, 5942, 5943, 5944, 5945, 5946, 5947, 5948, 5949, 5950, 5951, 5952, 5953, 5954, 5955, 5956, 5957, 5958, 5959, 5960, 5961, 5962, 5963, 5964, 5965, 5966, 5967, 5968, 5969, 5970, 5971, 5972, 5973, 5974, 5975, 5976, 5977, 5978, 5994, 5995, 5996, 5997, 5998, 5999, 6000, 6001, 6002, 6003, 6004, 6005, 6006, 6007, 6008, 6009, 6010, 6011, 6012, 6013, 6014, 6015, 6016, 6017, 6018, 6019, 6021, 6022, 6023, 6024, 6025, 6026, 6027, 6028, 6029, 6030, 6031, 6032, 6033, 6034, 6035, 6036, 6037, 6038, 6039, 6040, 6041, 6042, 6043, 6044, 6045, 6046, 6047, 6048, 6049, 6050, 6051, 6052, 6053, 6054, 6055, 6056, 6057, 6058, 6059, 6060, 6075, 6076, 6077, 6078, 6079, 6080, 6081, 6082, 6083, 6084, 6085, 6086, 6087, 6088, 6089, 6090, 6091, 6092, 6093, 6094, 6095, 6096, 6097, 6098, 6099, 6101, 6102, 6103, 6104, 6105, 6106, 6107, 6108, 6109, 6110, 6111, 6112, 6113, 6114, 6115, 6116, 6117, 6118, 6119, 6120, 6121, 6122, 6123, 6124, 6125, 6126, 6127, 6128, 6129, 6130, 6131, 6132, 6133, 6134, 6135, 6136, 6137, 6138, 6139, 6140, 6141, 6142, 6156, 6157, 6158, 6159, 6160, 6161, 6162, 6163, 6164, 6165, 6166, 6167, 6168, 6169, 6170, 6171, 6172, 6173, 6174, 6175, 6176, 6177, 6178, 6179, 6181, 6182, 6183, 6184, 6185, 6186, 6187, 6188, 6189, 6190, 6191, 6192, 6193, 6194, 6195, 6196, 6197, 6198, 6199, 6200, 6201, 6202, 6203, 6204, 6205, 6206, 6207, 6208, 6209, 6210, 6211, 6212, 6213, 6214, 6215, 6216, 6217, 6218, 6219, 6220, 6221, 6222, 6223, 6224, 6237, 6238, 6239, 6240, 6241, 6242, 6243, 6244, 6245, 6246, 6247, 6248, 6249, 6250, 6251, 6252, 6253, 6254, 6255, 6256, 6257, 6258, 6259, 6261, 6262, 6263, 6264, 6265, 6266, 6267, 6268, 6269, 6270, 6271, 6272, 6273, 6274, 6275, 6276, 6277, 6278, 6279, 6280, 6281, 6282, 6283, 6284, 6285, 6286, 6287, 6288, 6289, 6290, 6291, 6292, 6293, 6294, 6295, 6296, 6297, 6298, 6299, 6300, 6301, 6302, 6303, 6304, 6305, 6318, 6319, 6320, 6321, 6322, 6323, 6324, 6325, 6326, 6327, 6328, 6329, 6330, 6331, 6332, 6333, 6334, 6335, 6336, 6337, 6338, 6339, 6341, 6342, 6343, 6344, 6345, 6346, 6347, 6348, 6349, 6350, 6351, 6352, 6353, 6354, 6355, 6356, 6357, 6358, 6359, 6360, 6361, 6362, 6363, 6364, 6365, 6366, 6367, 6368, 6369, 6370, 6371, 6372, 6373, 6374, 6375, 6376, 6377, 6378, 6379, 6380, 6381, 6382, 6383, 6384, 6385, 6386, 6387, 6399, 6400, 6401, 6402, 6403, 6404, 6405, 6406, 6407, 6408, 6409, 6410, 6411, 6412, 6413, 6414, 6415, 6416, 6417, 6418, 6419, 6421, 6422, 6423, 6424, 6425, 6426, 6427, 6428, 6429, 6430, 6431, 6432, 6433, 6434, 6435, 6436, 6437, 6438, 6439, 6440, 6441, 6442, 6443, 6444, 6445, 6446, 6447, 6448, 6449, 6450, 6451, 6452, 6453, 6454, 6455, 6456, 6457, 6458, 6459, 6460, 6461, 6462, 6463, 6464, 6465, 6466, 6467, 6468, 6469, 6480, 6481, 6482, 6483, 6484, 6485, 6486, 6487, 6488, 6489, 6490, 6491, 6492, 6493, 6494, 6495, 6496, 6497, 6498, 6499, 6501, 6502, 6503, 6504, 6505, 6506, 6507, 6508, 6509, 6510, 6511, 6512, 6513, 6514, 6515, 6516, 6517, 6518, 6519, 6520, 6521, 6522, 6523, 6524, 6525, 6526, 6527, 6528, 6529, 6530, 6531, 6532, 6533, 6534, 6535, 6536, 6537, 6538, 6539, 6540, 6541, 6542, 6543, 6544, 6545, 6546, 6547, 6548, 6549, 6550, 6551]\n",
      "val ids:  []\n",
      "test ids:  [0, 1, 2, 3, 4, 5, 6, 7, 8, 9, 10, 11, 12, 40, 81, 82, 83, 84, 85, 86, 87, 88, 89, 90, 91, 92, 93, 94, 120, 162, 163, 164, 165, 166, 167, 168, 169, 170, 171, 172, 173, 174, 175, 200, 243, 244, 245, 246, 247, 248, 249, 250, 251, 252, 253, 254, 255, 256, 257, 280, 324, 325, 326, 327, 328, 329, 330, 331, 332, 333, 334, 335, 336, 337, 338, 339, 360, 405, 406, 407, 408, 409, 410, 411, 412, 413, 414, 415, 416, 417, 418, 419, 420, 421, 440, 486, 487, 488, 489, 490, 491, 492, 493, 494, 495, 496, 497, 498, 499, 500, 501, 502, 520, 567, 568, 569, 570, 571, 572, 573, 574, 575, 576, 577, 578, 579, 580, 581, 582, 583, 584, 600, 648, 649, 650, 651, 652, 653, 654, 655, 656, 657, 658, 659, 660, 661, 662, 663, 664, 665, 666, 680, 729, 730, 731, 732, 733, 734, 735, 736, 737, 738, 739, 740, 741, 742, 743, 744, 745, 746, 747, 748, 760, 810, 811, 812, 813, 814, 815, 816, 817, 818, 819, 820, 821, 822, 823, 824, 825, 826, 827, 828, 829, 840, 891, 892, 893, 894, 895, 896, 897, 898, 899, 900, 901, 902, 903, 904, 905, 906, 907, 908, 909, 910, 911, 920, 972, 973, 974, 975, 976, 977, 978, 979, 980, 981, 982, 983, 984, 985, 986, 987, 988, 989, 990, 991, 992, 993, 1000, 1053, 1054, 1055, 1056, 1057, 1058, 1059, 1060, 1061, 1062, 1063, 1064, 1065, 1066, 1067, 1068, 1069, 1070, 1071, 1072, 1073, 1074, 1075, 1080, 1135, 1136, 1137, 1138, 1139, 1140, 1141, 1142, 1143, 1144, 1145, 1146, 1147, 1148, 1149, 1150, 1151, 1152, 1153, 1154, 1155, 1156, 1160, 1217, 1218, 1219, 1220, 1221, 1222, 1223, 1224, 1225, 1226, 1227, 1228, 1229, 1230, 1231, 1232, 1233, 1234, 1235, 1236, 1237, 1238, 1240, 1300, 1301, 1302, 1303, 1304, 1305, 1306, 1307, 1308, 1309, 1310, 1311, 1312, 1313, 1314, 1315, 1316, 1317, 1318, 1319, 1320, 1382, 1383, 1384, 1385, 1386, 1387, 1388, 1389, 1390, 1391, 1392, 1393, 1394, 1395, 1396, 1397, 1398, 1399, 1400, 1401, 1465, 1466, 1467, 1468, 1469, 1470, 1471, 1472, 1473, 1474, 1475, 1476, 1477, 1478, 1479, 1480, 1481, 1482, 1483, 1547, 1548, 1549, 1550, 1551, 1552, 1553, 1554, 1555, 1556, 1557, 1558, 1559, 1560, 1561, 1562, 1563, 1564, 1565, 1629, 1630, 1631, 1632, 1633, 1634, 1635, 1636, 1637, 1638, 1639, 1640, 1641, 1642, 1643, 1644, 1645, 1646, 1647, 1700, 1712, 1713, 1714, 1715, 1716, 1717, 1718, 1719, 1720, 1721, 1722, 1723, 1724, 1725, 1726, 1727, 1728, 1780, 1794, 1795, 1796, 1797, 1798, 1799, 1800, 1801, 1802, 1803, 1804, 1805, 1806, 1807, 1808, 1809, 1810, 1860, 1877, 1878, 1879, 1880, 1881, 1882, 1883, 1884, 1885, 1886, 1887, 1888, 1889, 1890, 1891, 1892, 1940, 1959, 1960, 1961, 1962, 1963, 1964, 1965, 1966, 1967, 1968, 1969, 1970, 1971, 1972, 1973, 1974, 2020, 2040, 2041, 2042, 2043, 2044, 2045, 2046, 2047, 2048, 2049, 2050, 2051, 2052, 2053, 2054, 2055, 2100, 2120, 2124, 2125, 2126, 2127, 2128, 2129, 2130, 2131, 2132, 2133, 2134, 2135, 2136, 2137, 2180, 2200, 2206, 2207, 2208, 2209, 2210, 2211, 2212, 2213, 2214, 2215, 2216, 2217, 2218, 2219, 2260, 2280, 2289, 2290, 2291, 2292, 2293, 2294, 2295, 2296, 2297, 2298, 2299, 2300, 2340, 2360, 2371, 2372, 2373, 2374, 2375, 2376, 2377, 2378, 2379, 2380, 2381, 2382, 2420, 2440, 2454, 2455, 2456, 2457, 2458, 2459, 2460, 2461, 2462, 2463, 2464, 2500, 2520, 2536, 2537, 2538, 2539, 2540, 2541, 2542, 2543, 2544, 2545, 2546, 2580, 2600, 2618, 2619, 2620, 2621, 2622, 2623, 2624, 2625, 2626, 2627, 2660, 2680, 2701, 2702, 2703, 2704, 2705, 2706, 2707, 2708, 2709, 2740, 2760, 2783, 2784, 2785, 2786, 2787, 2788, 2789, 2790, 2791, 2820, 2840, 2866, 2867, 2868, 2869, 2870, 2871, 2872, 2873, 2900, 2920, 2948, 2949, 2950, 2951, 2952, 2953, 2954, 2980, 3000, 3030, 3031, 3032, 3033, 3034, 3035, 3036, 3060, 3080, 3113, 3114, 3115, 3116, 3117, 3118, 3140, 3160, 3195, 3196, 3197, 3198, 3199, 3200, 3220, 3240, 3278, 3279, 3280, 3281, 3300, 3360, 3361, 3362, 3363, 3380, 3443, 3444, 3445, 3460, 3525, 3526, 3540, 3607, 3608, 3620, 3690, 3700, 3772, 3780, 3854, 3860, 3936, 3940, 4018, 4019, 4020, 4099, 4100, 4101, 4180, 4181, 4182, 4183, 4260, 4263, 4264, 4265, 4266, 4340, 4345, 4346, 4347, 4348, 4420, 4427, 4428, 4429, 4430, 4431, 4500, 4508, 4509, 4510, 4511, 4512, 4513, 4580, 4590, 4591, 4592, 4593, 4594, 4595, 4660, 4672, 4673, 4674, 4675, 4676, 4677, 4678, 4740, 4753, 4754, 4755, 4756, 4757, 4758, 4759, 4760, 4820, 4835, 4836, 4837, 4838, 4839, 4840, 4841, 4842, 4843, 4900, 4917, 4918, 4919, 4920, 4921, 4922, 4923, 4924, 4925, 4980, 4999, 5000, 5001, 5002, 5003, 5004, 5005, 5006, 5007, 5060, 5080, 5081, 5082, 5083, 5084, 5085, 5086, 5087, 5088, 5089, 5090, 5140, 5162, 5163, 5164, 5165, 5166, 5167, 5168, 5169, 5170, 5171, 5172, 5220, 5244, 5245, 5246, 5247, 5248, 5249, 5250, 5251, 5252, 5253, 5254, 5255, 5300, 5326, 5327, 5328, 5329, 5330, 5331, 5332, 5333, 5334, 5335, 5336, 5337, 5380, 5407, 5408, 5409, 5410, 5411, 5412, 5413, 5414, 5415, 5416, 5417, 5418, 5419, 5420, 5460, 5489, 5490, 5491, 5492, 5493, 5494, 5495, 5496, 5497, 5498, 5499, 5500, 5501, 5502, 5540, 5571, 5572, 5573, 5574, 5575, 5576, 5577, 5578, 5579, 5580, 5581, 5582, 5583, 5584, 5620, 5653, 5654, 5655, 5656, 5657, 5658, 5659, 5660, 5661, 5662, 5663, 5664, 5665, 5666, 5667, 5700, 5734, 5735, 5736, 5737, 5738, 5739, 5740, 5741, 5742, 5743, 5744, 5745, 5746, 5747, 5748, 5749, 5780, 5816, 5817, 5818, 5819, 5820, 5821, 5822, 5823, 5824, 5825, 5826, 5827, 5828, 5829, 5830, 5831, 5860, 5898, 5899, 5900, 5901, 5902, 5903, 5904, 5905, 5906, 5907, 5908, 5909, 5910, 5911, 5912, 5940, 5979, 5980, 5981, 5982, 5983, 5984, 5985, 5986, 5987, 5988, 5989, 5990, 5991, 5992, 5993, 6020, 6061, 6062, 6063, 6064, 6065, 6066, 6067, 6068, 6069, 6070, 6071, 6072, 6073, 6074, 6100, 6143, 6144, 6145, 6146, 6147, 6148, 6149, 6150, 6151, 6152, 6153, 6154, 6155, 6180, 6225, 6226, 6227, 6228, 6229, 6230, 6231, 6232, 6233, 6234, 6235, 6236, 6260, 6306, 6307, 6308, 6309, 6310, 6311, 6312, 6313, 6314, 6315, 6316, 6317, 6340, 6388, 6389, 6390, 6391, 6392, 6393, 6394, 6395, 6396, 6397, 6398, 6420, 6470, 6471, 6472, 6473, 6474, 6475, 6476, 6477, 6478, 6479, 6500, 6552, 6553, 6554, 6555, 6556, 6557, 6558, 6559, 6560]\n",
      "CPU times: user 170 ms, sys: 32.1 ms, total: 202 ms\n",
      "Wall time: 201 ms\n"
     ]
    }
   ],
   "source": [
    "%%time\n",
    "n_total = len(simulation.dataframe)\n",
    "n_train = len(simulation.dataframe[simulation.dataframe.type_of == \"train\"])\n",
    "n_val = len(simulation.dataframe[simulation.dataframe.type_of == \"val\"])\n",
    "n_test = len(simulation.dataframe[simulation.dataframe.type_of == \"test\"])\n",
    "n_train_hamiltonians = len(simulation.train_ids)\n",
    "n_val_hamiltonians = len(simulation.val_ids)\n",
    "n_test_hamiltonians = len(simulation.test_ids)\n",
    "n_total_hamiltonians = n_train_hamiltonians + n_val_hamiltonians + n_test_hamiltonians\n",
    "\n",
    "print(\"% train: \", n_train/n_total)\n",
    "print(\"% val: \",  n_val/n_total)\n",
    "print(\"% test: \", n_test/n_total)\n",
    "print(\"% train + val + test: \", (n_train+n_val+n_test)/n_total)\n",
    "print(\"\\n\")\n",
    "print(\"number of train hamiltonians: \", n_train_hamiltonians)\n",
    "print(\"number of val hamiltonians: \", n_val_hamiltonians)\n",
    "print(\"number of test hamiltonians: \", n_test_hamiltonians)\n",
    "print(\"total number of hamiltonians: \", n_total_hamiltonians)\n",
    "print(\"\\n\")\n",
    "print(\"train ids: \", simulation.train_ids)\n",
    "print(\"val ids: \", simulation.val_ids)\n",
    "print(\"test ids: \", simulation.test_ids)"
   ]
  },
  {
   "cell_type": "markdown",
   "metadata": {
    "papermill": {
     "duration": 0.02001,
     "end_time": "2020-07-18T17:58:08.797195",
     "exception": false,
     "start_time": "2020-07-18T17:58:08.777185",
     "status": "completed"
    },
    "tags": []
   },
   "source": [
    "## Running a simulation"
   ]
  },
  {
   "cell_type": "code",
   "execution_count": 27,
   "metadata": {
    "execution": {
     "iopub.execute_input": "2020-07-18T17:58:08.838168Z",
     "iopub.status.busy": "2020-07-18T17:58:08.837855Z",
     "iopub.status.idle": "2020-07-18T18:31:38.254648Z",
     "shell.execute_reply": "2020-07-18T18:31:38.254965Z"
    },
    "papermill": {
     "duration": 2009.438468,
     "end_time": "2020-07-18T18:31:38.255032",
     "exception": false,
     "start_time": "2020-07-18T17:58:08.816564",
     "status": "completed"
    },
    "tags": []
   },
   "outputs": [
    {
     "name": "stderr",
     "output_type": "stream",
     "text": [
      "\r",
      "running experiments:   0%|          | 0/100 [00:00<?, ?it/s]"
     ]
    },
    {
     "name": "stdout",
     "output_type": "stream",
     "text": [
      "Simulation mode:  dst\n"
     ]
    },
    {
     "name": "stderr",
     "output_type": "stream",
     "text": [
      "\r",
      "running experiments:   1%|          | 1/100 [00:19<32:16, 19.56s/it]"
     ]
    },
    {
     "name": "stderr",
     "output_type": "stream",
     "text": [
      "\r",
      "running experiments:   2%|▏         | 2/100 [00:39<32:02, 19.62s/it]"
     ]
    },
    {
     "name": "stderr",
     "output_type": "stream",
     "text": [
      "\r",
      "running experiments:   3%|▎         | 3/100 [00:59<31:55, 19.75s/it]"
     ]
    },
    {
     "name": "stderr",
     "output_type": "stream",
     "text": [
      "\r",
      "running experiments:   4%|▍         | 4/100 [01:19<31:53, 19.93s/it]"
     ]
    },
    {
     "name": "stderr",
     "output_type": "stream",
     "text": [
      "\r",
      "running experiments:   5%|▌         | 5/100 [01:39<31:27, 19.87s/it]"
     ]
    },
    {
     "name": "stderr",
     "output_type": "stream",
     "text": [
      "\r",
      "running experiments:   6%|▌         | 6/100 [02:00<31:31, 20.12s/it]"
     ]
    },
    {
     "name": "stderr",
     "output_type": "stream",
     "text": [
      "\r",
      "running experiments:   7%|▋         | 7/100 [02:20<31:06, 20.07s/it]"
     ]
    },
    {
     "name": "stderr",
     "output_type": "stream",
     "text": [
      "\r",
      "running experiments:   8%|▊         | 8/100 [02:39<30:39, 19.99s/it]"
     ]
    },
    {
     "name": "stderr",
     "output_type": "stream",
     "text": [
      "\r",
      "running experiments:   9%|▉         | 9/100 [03:00<30:36, 20.19s/it]"
     ]
    },
    {
     "name": "stderr",
     "output_type": "stream",
     "text": [
      "\r",
      "running experiments:  10%|█         | 10/100 [03:20<30:06, 20.07s/it]"
     ]
    },
    {
     "name": "stderr",
     "output_type": "stream",
     "text": [
      "\r",
      "running experiments:  11%|█         | 11/100 [03:40<29:35, 19.95s/it]"
     ]
    },
    {
     "name": "stderr",
     "output_type": "stream",
     "text": [
      "\r",
      "running experiments:  12%|█▏        | 12/100 [03:59<29:13, 19.93s/it]"
     ]
    },
    {
     "name": "stderr",
     "output_type": "stream",
     "text": [
      "\r",
      "running experiments:  13%|█▎        | 13/100 [04:19<28:46, 19.84s/it]"
     ]
    },
    {
     "name": "stderr",
     "output_type": "stream",
     "text": [
      "\r",
      "running experiments:  14%|█▍        | 14/100 [04:39<28:18, 19.75s/it]"
     ]
    },
    {
     "name": "stderr",
     "output_type": "stream",
     "text": [
      "\r",
      "running experiments:  15%|█▌        | 15/100 [04:59<28:13, 19.93s/it]"
     ]
    },
    {
     "name": "stderr",
     "output_type": "stream",
     "text": [
      "\r",
      "running experiments:  16%|█▌        | 16/100 [05:19<27:51, 19.90s/it]"
     ]
    },
    {
     "name": "stderr",
     "output_type": "stream",
     "text": [
      "\r",
      "running experiments:  17%|█▋        | 17/100 [05:38<27:17, 19.73s/it]"
     ]
    },
    {
     "name": "stderr",
     "output_type": "stream",
     "text": [
      "\r",
      "running experiments:  18%|█▊        | 18/100 [05:58<27:08, 19.86s/it]"
     ]
    },
    {
     "name": "stderr",
     "output_type": "stream",
     "text": [
      "\r",
      "running experiments:  19%|█▉        | 19/100 [06:19<27:05, 20.07s/it]"
     ]
    },
    {
     "name": "stderr",
     "output_type": "stream",
     "text": [
      "\r",
      "running experiments:  20%|██        | 20/100 [06:39<26:59, 20.25s/it]"
     ]
    },
    {
     "name": "stderr",
     "output_type": "stream",
     "text": [
      "\r",
      "running experiments:  21%|██        | 21/100 [07:00<26:40, 20.25s/it]"
     ]
    },
    {
     "name": "stderr",
     "output_type": "stream",
     "text": [
      "\r",
      "running experiments:  22%|██▏       | 22/100 [07:20<26:14, 20.19s/it]"
     ]
    },
    {
     "name": "stderr",
     "output_type": "stream",
     "text": [
      "\r",
      "running experiments:  23%|██▎       | 23/100 [07:40<26:06, 20.34s/it]"
     ]
    },
    {
     "name": "stderr",
     "output_type": "stream",
     "text": [
      "\r",
      "running experiments:  24%|██▍       | 24/100 [08:00<25:38, 20.24s/it]"
     ]
    },
    {
     "name": "stderr",
     "output_type": "stream",
     "text": [
      "\r",
      "running experiments:  25%|██▌       | 25/100 [08:20<25:01, 20.02s/it]"
     ]
    },
    {
     "name": "stderr",
     "output_type": "stream",
     "text": [
      "\r",
      "running experiments:  26%|██▌       | 26/100 [08:40<24:47, 20.11s/it]"
     ]
    },
    {
     "name": "stderr",
     "output_type": "stream",
     "text": [
      "\r",
      "running experiments:  27%|██▋       | 27/100 [09:00<24:22, 20.03s/it]"
     ]
    },
    {
     "name": "stderr",
     "output_type": "stream",
     "text": [
      "\r",
      "running experiments:  28%|██▊       | 28/100 [09:20<23:52, 19.90s/it]"
     ]
    },
    {
     "name": "stderr",
     "output_type": "stream",
     "text": [
      "\r",
      "running experiments:  29%|██▉       | 29/100 [09:40<23:39, 19.99s/it]"
     ]
    },
    {
     "name": "stderr",
     "output_type": "stream",
     "text": [
      "\r",
      "running experiments:  30%|███       | 30/100 [10:00<23:20, 20.00s/it]"
     ]
    },
    {
     "name": "stderr",
     "output_type": "stream",
     "text": [
      "\r",
      "running experiments:  31%|███       | 31/100 [10:20<23:00, 20.00s/it]"
     ]
    },
    {
     "name": "stderr",
     "output_type": "stream",
     "text": [
      "\r",
      "running experiments:  32%|███▏      | 32/100 [10:40<22:31, 19.87s/it]"
     ]
    },
    {
     "name": "stderr",
     "output_type": "stream",
     "text": [
      "\r",
      "running experiments:  33%|███▎      | 33/100 [10:59<22:08, 19.83s/it]"
     ]
    },
    {
     "name": "stderr",
     "output_type": "stream",
     "text": [
      "\r",
      "running experiments:  34%|███▍      | 34/100 [11:19<21:45, 19.78s/it]"
     ]
    },
    {
     "name": "stderr",
     "output_type": "stream",
     "text": [
      "\r",
      "running experiments:  35%|███▌      | 35/100 [11:39<21:23, 19.74s/it]"
     ]
    },
    {
     "name": "stderr",
     "output_type": "stream",
     "text": [
      "\r",
      "running experiments:  36%|███▌      | 36/100 [12:00<21:26, 20.10s/it]"
     ]
    },
    {
     "name": "stderr",
     "output_type": "stream",
     "text": [
      "\r",
      "running experiments:  37%|███▋      | 37/100 [12:19<20:54, 19.91s/it]"
     ]
    },
    {
     "name": "stderr",
     "output_type": "stream",
     "text": [
      "\r",
      "running experiments:  38%|███▊      | 38/100 [12:39<20:35, 19.93s/it]"
     ]
    },
    {
     "name": "stderr",
     "output_type": "stream",
     "text": [
      "\r",
      "running experiments:  39%|███▉      | 39/100 [12:59<20:16, 19.94s/it]"
     ]
    },
    {
     "name": "stderr",
     "output_type": "stream",
     "text": [
      "\r",
      "running experiments:  40%|████      | 40/100 [13:19<20:03, 20.05s/it]"
     ]
    },
    {
     "name": "stderr",
     "output_type": "stream",
     "text": [
      "\r",
      "running experiments:  41%|████      | 41/100 [13:39<19:36, 19.94s/it]"
     ]
    },
    {
     "name": "stderr",
     "output_type": "stream",
     "text": [
      "\r",
      "running experiments:  42%|████▏     | 42/100 [13:59<19:12, 19.88s/it]"
     ]
    },
    {
     "name": "stderr",
     "output_type": "stream",
     "text": [
      "\r",
      "running experiments:  43%|████▎     | 43/100 [14:18<18:45, 19.75s/it]"
     ]
    },
    {
     "name": "stderr",
     "output_type": "stream",
     "text": [
      "\r",
      "running experiments:  44%|████▍     | 44/100 [14:38<18:32, 19.86s/it]"
     ]
    },
    {
     "name": "stderr",
     "output_type": "stream",
     "text": [
      "\r",
      "running experiments:  45%|████▌     | 45/100 [14:58<18:07, 19.78s/it]"
     ]
    },
    {
     "name": "stderr",
     "output_type": "stream",
     "text": [
      "\r",
      "running experiments:  46%|████▌     | 46/100 [15:19<18:06, 20.12s/it]"
     ]
    },
    {
     "name": "stderr",
     "output_type": "stream",
     "text": [
      "\r",
      "running experiments:  47%|████▋     | 47/100 [15:38<17:38, 19.96s/it]"
     ]
    },
    {
     "name": "stderr",
     "output_type": "stream",
     "text": [
      "\r",
      "running experiments:  48%|████▊     | 48/100 [15:59<17:23, 20.07s/it]"
     ]
    },
    {
     "name": "stderr",
     "output_type": "stream",
     "text": [
      "\r",
      "running experiments:  49%|████▉     | 49/100 [16:19<17:07, 20.14s/it]"
     ]
    },
    {
     "name": "stderr",
     "output_type": "stream",
     "text": [
      "\r",
      "running experiments:  50%|█████     | 50/100 [16:38<16:34, 19.90s/it]"
     ]
    },
    {
     "name": "stderr",
     "output_type": "stream",
     "text": [
      "\r",
      "running experiments:  51%|█████     | 51/100 [16:58<16:10, 19.81s/it]"
     ]
    },
    {
     "name": "stderr",
     "output_type": "stream",
     "text": [
      "\r",
      "running experiments:  52%|█████▏    | 52/100 [17:18<15:49, 19.78s/it]"
     ]
    },
    {
     "name": "stderr",
     "output_type": "stream",
     "text": [
      "\r",
      "running experiments:  53%|█████▎    | 53/100 [17:37<15:28, 19.75s/it]"
     ]
    },
    {
     "name": "stderr",
     "output_type": "stream",
     "text": [
      "\r",
      "running experiments:  54%|█████▍    | 54/100 [17:57<15:14, 19.89s/it]"
     ]
    },
    {
     "name": "stderr",
     "output_type": "stream",
     "text": [
      "\r",
      "running experiments:  55%|█████▌    | 55/100 [18:17<14:51, 19.81s/it]"
     ]
    },
    {
     "name": "stderr",
     "output_type": "stream",
     "text": [
      "\r",
      "running experiments:  56%|█████▌    | 56/100 [18:37<14:29, 19.75s/it]"
     ]
    },
    {
     "name": "stderr",
     "output_type": "stream",
     "text": [
      "\r",
      "running experiments:  57%|█████▋    | 57/100 [18:57<14:12, 19.83s/it]"
     ]
    },
    {
     "name": "stderr",
     "output_type": "stream",
     "text": [
      "\r",
      "running experiments:  58%|█████▊    | 58/100 [19:17<13:51, 19.81s/it]"
     ]
    },
    {
     "name": "stderr",
     "output_type": "stream",
     "text": [
      "\r",
      "running experiments:  59%|█████▉    | 59/100 [19:36<13:27, 19.70s/it]"
     ]
    },
    {
     "name": "stderr",
     "output_type": "stream",
     "text": [
      "\r",
      "running experiments:  60%|██████    | 60/100 [19:55<13:01, 19.54s/it]"
     ]
    },
    {
     "name": "stderr",
     "output_type": "stream",
     "text": [
      "\r",
      "running experiments:  61%|██████    | 61/100 [20:15<12:48, 19.70s/it]"
     ]
    },
    {
     "name": "stderr",
     "output_type": "stream",
     "text": [
      "\r",
      "running experiments:  62%|██████▏   | 62/100 [20:35<12:25, 19.61s/it]"
     ]
    },
    {
     "name": "stderr",
     "output_type": "stream",
     "text": [
      "\r",
      "running experiments:  63%|██████▎   | 63/100 [20:55<12:09, 19.71s/it]"
     ]
    },
    {
     "name": "stderr",
     "output_type": "stream",
     "text": [
      "\r",
      "running experiments:  64%|██████▍   | 64/100 [21:19<12:36, 21.03s/it]"
     ]
    },
    {
     "name": "stderr",
     "output_type": "stream",
     "text": [
      "\r",
      "running experiments:  65%|██████▌   | 65/100 [21:39<12:06, 20.77s/it]"
     ]
    },
    {
     "name": "stderr",
     "output_type": "stream",
     "text": [
      "\r",
      "running experiments:  66%|██████▌   | 66/100 [21:59<11:38, 20.53s/it]"
     ]
    },
    {
     "name": "stderr",
     "output_type": "stream",
     "text": [
      "\r",
      "running experiments:  67%|██████▋   | 67/100 [22:18<11:05, 20.17s/it]"
     ]
    },
    {
     "name": "stderr",
     "output_type": "stream",
     "text": [
      "\r",
      "running experiments:  68%|██████▊   | 68/100 [22:37<10:35, 19.85s/it]"
     ]
    },
    {
     "name": "stderr",
     "output_type": "stream",
     "text": [
      "\r",
      "running experiments:  69%|██████▉   | 69/100 [22:57<10:11, 19.72s/it]"
     ]
    },
    {
     "name": "stderr",
     "output_type": "stream",
     "text": [
      "\r",
      "running experiments:  70%|███████   | 70/100 [23:17<09:55, 19.84s/it]"
     ]
    },
    {
     "name": "stderr",
     "output_type": "stream",
     "text": [
      "\r",
      "running experiments:  71%|███████   | 71/100 [23:37<09:36, 19.90s/it]"
     ]
    },
    {
     "name": "stderr",
     "output_type": "stream",
     "text": [
      "\r",
      "running experiments:  72%|███████▏  | 72/100 [23:57<09:17, 19.90s/it]"
     ]
    },
    {
     "name": "stderr",
     "output_type": "stream",
     "text": [
      "\r",
      "running experiments:  73%|███████▎  | 73/100 [24:17<09:02, 20.09s/it]"
     ]
    },
    {
     "name": "stderr",
     "output_type": "stream",
     "text": [
      "\r",
      "running experiments:  74%|███████▍  | 74/100 [24:37<08:37, 19.91s/it]"
     ]
    },
    {
     "name": "stderr",
     "output_type": "stream",
     "text": [
      "\r",
      "running experiments:  75%|███████▌  | 75/100 [24:57<08:21, 20.07s/it]"
     ]
    },
    {
     "name": "stderr",
     "output_type": "stream",
     "text": [
      "\r",
      "running experiments:  76%|███████▌  | 76/100 [25:17<08:02, 20.09s/it]"
     ]
    },
    {
     "name": "stderr",
     "output_type": "stream",
     "text": [
      "\r",
      "running experiments:  77%|███████▋  | 77/100 [25:38<07:43, 20.15s/it]"
     ]
    },
    {
     "name": "stderr",
     "output_type": "stream",
     "text": [
      "\r",
      "running experiments:  78%|███████▊  | 78/100 [25:58<07:22, 20.11s/it]"
     ]
    },
    {
     "name": "stderr",
     "output_type": "stream",
     "text": [
      "\r",
      "running experiments:  79%|███████▉  | 79/100 [26:17<06:57, 19.90s/it]"
     ]
    },
    {
     "name": "stderr",
     "output_type": "stream",
     "text": [
      "\r",
      "running experiments:  80%|████████  | 80/100 [26:37<06:39, 20.00s/it]"
     ]
    },
    {
     "name": "stderr",
     "output_type": "stream",
     "text": [
      "\r",
      "running experiments:  81%|████████  | 81/100 [26:57<06:20, 20.00s/it]"
     ]
    },
    {
     "name": "stderr",
     "output_type": "stream",
     "text": [
      "\r",
      "running experiments:  82%|████████▏ | 82/100 [27:16<05:55, 19.74s/it]"
     ]
    },
    {
     "name": "stderr",
     "output_type": "stream",
     "text": [
      "\r",
      "running experiments:  83%|████████▎ | 83/100 [27:37<05:37, 19.87s/it]"
     ]
    },
    {
     "name": "stderr",
     "output_type": "stream",
     "text": [
      "\r",
      "running experiments:  84%|████████▍ | 84/100 [27:57<05:18, 19.90s/it]"
     ]
    },
    {
     "name": "stderr",
     "output_type": "stream",
     "text": [
      "\r",
      "running experiments:  85%|████████▌ | 85/100 [28:16<04:57, 19.82s/it]"
     ]
    },
    {
     "name": "stderr",
     "output_type": "stream",
     "text": [
      "\r",
      "running experiments:  86%|████████▌ | 86/100 [28:37<04:43, 20.22s/it]"
     ]
    },
    {
     "name": "stderr",
     "output_type": "stream",
     "text": [
      "\r",
      "running experiments:  87%|████████▋ | 87/100 [28:58<04:24, 20.31s/it]"
     ]
    },
    {
     "name": "stderr",
     "output_type": "stream",
     "text": [
      "\r",
      "running experiments:  88%|████████▊ | 88/100 [29:17<04:01, 20.09s/it]"
     ]
    },
    {
     "name": "stderr",
     "output_type": "stream",
     "text": [
      "\r",
      "running experiments:  89%|████████▉ | 89/100 [29:39<03:45, 20.54s/it]"
     ]
    },
    {
     "name": "stderr",
     "output_type": "stream",
     "text": [
      "\r",
      "running experiments:  90%|█████████ | 90/100 [30:00<03:27, 20.77s/it]"
     ]
    },
    {
     "name": "stderr",
     "output_type": "stream",
     "text": [
      "\r",
      "running experiments:  91%|█████████ | 91/100 [30:21<03:06, 20.67s/it]"
     ]
    },
    {
     "name": "stderr",
     "output_type": "stream",
     "text": [
      "\r",
      "running experiments:  92%|█████████▏| 92/100 [30:42<02:46, 20.83s/it]"
     ]
    },
    {
     "name": "stderr",
     "output_type": "stream",
     "text": [
      "\r",
      "running experiments:  93%|█████████▎| 93/100 [31:01<02:22, 20.36s/it]"
     ]
    },
    {
     "name": "stderr",
     "output_type": "stream",
     "text": [
      "\r",
      "running experiments:  94%|█████████▍| 94/100 [31:22<02:02, 20.36s/it]"
     ]
    },
    {
     "name": "stderr",
     "output_type": "stream",
     "text": [
      "\r",
      "running experiments:  95%|█████████▌| 95/100 [31:43<01:42, 20.56s/it]"
     ]
    },
    {
     "name": "stderr",
     "output_type": "stream",
     "text": [
      "\r",
      "running experiments:  96%|█████████▌| 96/100 [32:04<01:22, 20.71s/it]"
     ]
    },
    {
     "name": "stderr",
     "output_type": "stream",
     "text": [
      "\r",
      "running experiments:  97%|█████████▋| 97/100 [32:25<01:02, 20.95s/it]"
     ]
    },
    {
     "name": "stderr",
     "output_type": "stream",
     "text": [
      "\r",
      "running experiments:  98%|█████████▊| 98/100 [32:47<00:42, 21.16s/it]"
     ]
    },
    {
     "name": "stderr",
     "output_type": "stream",
     "text": [
      "\r",
      "running experiments:  99%|█████████▉| 99/100 [33:08<00:21, 21.28s/it]"
     ]
    },
    {
     "name": "stderr",
     "output_type": "stream",
     "text": [
      "\r",
      "running experiments: 100%|██████████| 100/100 [33:29<00:00, 21.02s/it]"
     ]
    },
    {
     "name": "stderr",
     "output_type": "stream",
     "text": [
      "\r",
      "running experiments: 100%|██████████| 100/100 [33:29<00:00, 20.09s/it]"
     ]
    },
    {
     "name": "stdout",
     "output_type": "stream",
     "text": [
      "CPU times: user 3h 37min 45s, sys: 25.2 s, total: 3h 38min 10s\n",
      "Wall time: 33min 29s\n"
     ]
    },
    {
     "name": "stderr",
     "output_type": "stream",
     "text": [
      "\n"
     ]
    }
   ],
   "source": [
    "\n",
    "%%time\n",
    "simulation.run_simulation(n_experiments, start_n, fit_params,shuffle_rows, pred_params, random_features, \\\n",
    "                          store_in_lists, save_eigenvector, save_hamiltonian, save_accuracy,\\\n",
    "                          save_models)\n",
    "if simulation.fourier_mode is not None:\n",
    "    simulation.fourier_dataframe.head(10)"
   ]
  },
  {
   "cell_type": "code",
   "execution_count": 28,
   "metadata": {
    "execution": {
     "iopub.execute_input": "2020-07-18T18:31:38.750378Z",
     "iopub.status.busy": "2020-07-18T18:31:38.748547Z",
     "iopub.status.idle": "2020-07-18T18:31:38.811483Z",
     "shell.execute_reply": "2020-07-18T18:31:38.811177Z"
    },
    "papermill": {
     "duration": 0.267502,
     "end_time": "2020-07-18T18:31:38.811541",
     "exception": false,
     "start_time": "2020-07-18T18:31:38.544039",
     "status": "completed"
    },
    "tags": []
   },
   "outputs": [
    {
     "data": {
      "text/html": [
       "<div>\n",
       "<style scoped>\n",
       "    .dataframe tbody tr th:only-of-type {\n",
       "        vertical-align: middle;\n",
       "    }\n",
       "\n",
       "    .dataframe tbody tr th {\n",
       "        vertical-align: top;\n",
       "    }\n",
       "\n",
       "    .dataframe thead th {\n",
       "        text-align: right;\n",
       "    }\n",
       "</style>\n",
       "<table border=\"1\" class=\"dataframe\">\n",
       "  <thead>\n",
       "    <tr style=\"text-align: right;\">\n",
       "      <th></th>\n",
       "      <th>id</th>\n",
       "      <th>path</th>\n",
       "      <th>t1</th>\n",
       "      <th>t2</th>\n",
       "      <th>winding</th>\n",
       "      <th>phase</th>\n",
       "      <th>pred_phase</th>\n",
       "      <th>type_of</th>\n",
       "      <th>feat0</th>\n",
       "      <th>feat1</th>\n",
       "      <th>...</th>\n",
       "      <th>feat90</th>\n",
       "      <th>feat91</th>\n",
       "      <th>feat92</th>\n",
       "      <th>feat93</th>\n",
       "      <th>feat94</th>\n",
       "      <th>feat95</th>\n",
       "      <th>feat96</th>\n",
       "      <th>feat97</th>\n",
       "      <th>feat98</th>\n",
       "      <th>feat99</th>\n",
       "    </tr>\n",
       "  </thead>\n",
       "  <tbody>\n",
       "    <tr>\n",
       "      <th>0</th>\n",
       "      <td>0</td>\n",
       "      <td>H_-2_-2_0.501338.dat</td>\n",
       "      <td>-2.0</td>\n",
       "      <td>-2.0</td>\n",
       "      <td>0.501338</td>\n",
       "      <td>999</td>\n",
       "      <td>666</td>\n",
       "      <td>test</td>\n",
       "      <td>-0.130965</td>\n",
       "      <td>0.301130</td>\n",
       "      <td>...</td>\n",
       "      <td>-0.080279</td>\n",
       "      <td>-0.115687</td>\n",
       "      <td>-0.174988</td>\n",
       "      <td>0.245064</td>\n",
       "      <td>0.319763</td>\n",
       "      <td>-0.059082</td>\n",
       "      <td>-0.000556</td>\n",
       "      <td>-0.245133</td>\n",
       "      <td>-0.301130</td>\n",
       "      <td>0.130965</td>\n",
       "    </tr>\n",
       "    <tr>\n",
       "      <th>1</th>\n",
       "      <td>0</td>\n",
       "      <td>H_-2_-2_0.501338.dat</td>\n",
       "      <td>-2.0</td>\n",
       "      <td>-2.0</td>\n",
       "      <td>0.501338</td>\n",
       "      <td>999</td>\n",
       "      <td>666</td>\n",
       "      <td>test</td>\n",
       "      <td>-0.130965</td>\n",
       "      <td>-0.301130</td>\n",
       "      <td>...</td>\n",
       "      <td>-0.080279</td>\n",
       "      <td>0.115687</td>\n",
       "      <td>-0.174988</td>\n",
       "      <td>-0.245064</td>\n",
       "      <td>0.319763</td>\n",
       "      <td>0.059082</td>\n",
       "      <td>-0.000556</td>\n",
       "      <td>0.245133</td>\n",
       "      <td>-0.301130</td>\n",
       "      <td>-0.130965</td>\n",
       "    </tr>\n",
       "    <tr>\n",
       "      <th>2</th>\n",
       "      <td>0</td>\n",
       "      <td>H_-2_-2_0.501338.dat</td>\n",
       "      <td>-2.0</td>\n",
       "      <td>-2.0</td>\n",
       "      <td>0.501338</td>\n",
       "      <td>999</td>\n",
       "      <td>666</td>\n",
       "      <td>test</td>\n",
       "      <td>-0.148414</td>\n",
       "      <td>-0.042467</td>\n",
       "      <td>...</td>\n",
       "      <td>0.185442</td>\n",
       "      <td>-0.080620</td>\n",
       "      <td>-0.066211</td>\n",
       "      <td>-0.121339</td>\n",
       "      <td>-0.151700</td>\n",
       "      <td>0.192513</td>\n",
       "      <td>0.191642</td>\n",
       "      <td>-0.050956</td>\n",
       "      <td>-0.042467</td>\n",
       "      <td>-0.148414</td>\n",
       "    </tr>\n",
       "    <tr>\n",
       "      <th>3</th>\n",
       "      <td>0</td>\n",
       "      <td>H_-2_-2_0.501338.dat</td>\n",
       "      <td>-2.0</td>\n",
       "      <td>-2.0</td>\n",
       "      <td>0.501338</td>\n",
       "      <td>999</td>\n",
       "      <td>666</td>\n",
       "      <td>test</td>\n",
       "      <td>-0.069630</td>\n",
       "      <td>-0.026147</td>\n",
       "      <td>...</td>\n",
       "      <td>0.102009</td>\n",
       "      <td>-0.100671</td>\n",
       "      <td>-0.081002</td>\n",
       "      <td>-0.020715</td>\n",
       "      <td>-0.058717</td>\n",
       "      <td>0.115834</td>\n",
       "      <td>0.118274</td>\n",
       "      <td>-0.054666</td>\n",
       "      <td>-0.026147</td>\n",
       "      <td>-0.069630</td>\n",
       "    </tr>\n",
       "    <tr>\n",
       "      <th>4</th>\n",
       "      <td>0</td>\n",
       "      <td>H_-2_-2_0.501338.dat</td>\n",
       "      <td>-2.0</td>\n",
       "      <td>-2.0</td>\n",
       "      <td>0.501338</td>\n",
       "      <td>999</td>\n",
       "      <td>666</td>\n",
       "      <td>test</td>\n",
       "      <td>0.010206</td>\n",
       "      <td>-0.014625</td>\n",
       "      <td>...</td>\n",
       "      <td>0.047555</td>\n",
       "      <td>-0.041368</td>\n",
       "      <td>-0.018852</td>\n",
       "      <td>-0.017673</td>\n",
       "      <td>-0.023377</td>\n",
       "      <td>0.031447</td>\n",
       "      <td>0.010280</td>\n",
       "      <td>0.000925</td>\n",
       "      <td>0.014625</td>\n",
       "      <td>-0.010206</td>\n",
       "    </tr>\n",
       "    <tr>\n",
       "      <th>5</th>\n",
       "      <td>0</td>\n",
       "      <td>H_-2_-2_0.501338.dat</td>\n",
       "      <td>-2.0</td>\n",
       "      <td>-2.0</td>\n",
       "      <td>0.501338</td>\n",
       "      <td>999</td>\n",
       "      <td>666</td>\n",
       "      <td>test</td>\n",
       "      <td>0.116962</td>\n",
       "      <td>0.021475</td>\n",
       "      <td>...</td>\n",
       "      <td>-0.086901</td>\n",
       "      <td>-0.045676</td>\n",
       "      <td>-0.028034</td>\n",
       "      <td>0.129266</td>\n",
       "      <td>0.130083</td>\n",
       "      <td>-0.098190</td>\n",
       "      <td>-0.104188</td>\n",
       "      <td>-0.007911</td>\n",
       "      <td>0.021475</td>\n",
       "      <td>0.116962</td>\n",
       "    </tr>\n",
       "    <tr>\n",
       "      <th>6</th>\n",
       "      <td>0</td>\n",
       "      <td>H_-2_-2_0.501338.dat</td>\n",
       "      <td>-2.0</td>\n",
       "      <td>-2.0</td>\n",
       "      <td>0.501338</td>\n",
       "      <td>999</td>\n",
       "      <td>666</td>\n",
       "      <td>test</td>\n",
       "      <td>0.037175</td>\n",
       "      <td>-0.095882</td>\n",
       "      <td>...</td>\n",
       "      <td>-0.027490</td>\n",
       "      <td>0.046168</td>\n",
       "      <td>0.063419</td>\n",
       "      <td>-0.041630</td>\n",
       "      <td>-0.085769</td>\n",
       "      <td>-0.010604</td>\n",
       "      <td>-0.009822</td>\n",
       "      <td>0.084024</td>\n",
       "      <td>0.095882</td>\n",
       "      <td>-0.037175</td>\n",
       "    </tr>\n",
       "    <tr>\n",
       "      <th>7</th>\n",
       "      <td>0</td>\n",
       "      <td>H_-2_-2_0.501338.dat</td>\n",
       "      <td>-2.0</td>\n",
       "      <td>-2.0</td>\n",
       "      <td>0.501338</td>\n",
       "      <td>999</td>\n",
       "      <td>666</td>\n",
       "      <td>test</td>\n",
       "      <td>0.027709</td>\n",
       "      <td>-0.038180</td>\n",
       "      <td>...</td>\n",
       "      <td>0.123344</td>\n",
       "      <td>-0.114320</td>\n",
       "      <td>-0.057118</td>\n",
       "      <td>-0.040291</td>\n",
       "      <td>-0.061263</td>\n",
       "      <td>0.087153</td>\n",
       "      <td>0.029599</td>\n",
       "      <td>-0.001276</td>\n",
       "      <td>0.038180</td>\n",
       "      <td>-0.027709</td>\n",
       "    </tr>\n",
       "    <tr>\n",
       "      <th>8</th>\n",
       "      <td>0</td>\n",
       "      <td>H_-2_-2_0.501338.dat</td>\n",
       "      <td>-2.0</td>\n",
       "      <td>-2.0</td>\n",
       "      <td>0.501338</td>\n",
       "      <td>999</td>\n",
       "      <td>666</td>\n",
       "      <td>test</td>\n",
       "      <td>0.059795</td>\n",
       "      <td>0.030272</td>\n",
       "      <td>...</td>\n",
       "      <td>-0.082347</td>\n",
       "      <td>0.140996</td>\n",
       "      <td>0.128386</td>\n",
       "      <td>-0.036608</td>\n",
       "      <td>0.029628</td>\n",
       "      <td>-0.124877</td>\n",
       "      <td>-0.140478</td>\n",
       "      <td>0.088573</td>\n",
       "      <td>0.030272</td>\n",
       "      <td>0.059795</td>\n",
       "    </tr>\n",
       "    <tr>\n",
       "      <th>9</th>\n",
       "      <td>0</td>\n",
       "      <td>H_-2_-2_0.501338.dat</td>\n",
       "      <td>-2.0</td>\n",
       "      <td>-2.0</td>\n",
       "      <td>0.501338</td>\n",
       "      <td>999</td>\n",
       "      <td>666</td>\n",
       "      <td>test</td>\n",
       "      <td>0.141605</td>\n",
       "      <td>0.013497</td>\n",
       "      <td>...</td>\n",
       "      <td>-0.035718</td>\n",
       "      <td>-0.110014</td>\n",
       "      <td>-0.082452</td>\n",
       "      <td>0.146084</td>\n",
       "      <td>0.152588</td>\n",
       "      <td>-0.067575</td>\n",
       "      <td>-0.087187</td>\n",
       "      <td>-0.043484</td>\n",
       "      <td>0.013497</td>\n",
       "      <td>0.141605</td>\n",
       "    </tr>\n",
       "  </tbody>\n",
       "</table>\n",
       "<p>10 rows × 108 columns</p>\n",
       "</div>"
      ],
      "text/plain": [
       "   id                  path   t1   t2   winding  phase  pred_phase type_of  \\\n",
       "0   0  H_-2_-2_0.501338.dat -2.0 -2.0  0.501338    999         666    test   \n",
       "1   0  H_-2_-2_0.501338.dat -2.0 -2.0  0.501338    999         666    test   \n",
       "2   0  H_-2_-2_0.501338.dat -2.0 -2.0  0.501338    999         666    test   \n",
       "3   0  H_-2_-2_0.501338.dat -2.0 -2.0  0.501338    999         666    test   \n",
       "4   0  H_-2_-2_0.501338.dat -2.0 -2.0  0.501338    999         666    test   \n",
       "5   0  H_-2_-2_0.501338.dat -2.0 -2.0  0.501338    999         666    test   \n",
       "6   0  H_-2_-2_0.501338.dat -2.0 -2.0  0.501338    999         666    test   \n",
       "7   0  H_-2_-2_0.501338.dat -2.0 -2.0  0.501338    999         666    test   \n",
       "8   0  H_-2_-2_0.501338.dat -2.0 -2.0  0.501338    999         666    test   \n",
       "9   0  H_-2_-2_0.501338.dat -2.0 -2.0  0.501338    999         666    test   \n",
       "\n",
       "      feat0     feat1  ...    feat90    feat91    feat92    feat93    feat94  \\\n",
       "0 -0.130965  0.301130  ... -0.080279 -0.115687 -0.174988  0.245064  0.319763   \n",
       "1 -0.130965 -0.301130  ... -0.080279  0.115687 -0.174988 -0.245064  0.319763   \n",
       "2 -0.148414 -0.042467  ...  0.185442 -0.080620 -0.066211 -0.121339 -0.151700   \n",
       "3 -0.069630 -0.026147  ...  0.102009 -0.100671 -0.081002 -0.020715 -0.058717   \n",
       "4  0.010206 -0.014625  ...  0.047555 -0.041368 -0.018852 -0.017673 -0.023377   \n",
       "5  0.116962  0.021475  ... -0.086901 -0.045676 -0.028034  0.129266  0.130083   \n",
       "6  0.037175 -0.095882  ... -0.027490  0.046168  0.063419 -0.041630 -0.085769   \n",
       "7  0.027709 -0.038180  ...  0.123344 -0.114320 -0.057118 -0.040291 -0.061263   \n",
       "8  0.059795  0.030272  ... -0.082347  0.140996  0.128386 -0.036608  0.029628   \n",
       "9  0.141605  0.013497  ... -0.035718 -0.110014 -0.082452  0.146084  0.152588   \n",
       "\n",
       "     feat95    feat96    feat97    feat98    feat99  \n",
       "0 -0.059082 -0.000556 -0.245133 -0.301130  0.130965  \n",
       "1  0.059082 -0.000556  0.245133 -0.301130 -0.130965  \n",
       "2  0.192513  0.191642 -0.050956 -0.042467 -0.148414  \n",
       "3  0.115834  0.118274 -0.054666 -0.026147 -0.069630  \n",
       "4  0.031447  0.010280  0.000925  0.014625 -0.010206  \n",
       "5 -0.098190 -0.104188 -0.007911  0.021475  0.116962  \n",
       "6 -0.010604 -0.009822  0.084024  0.095882 -0.037175  \n",
       "7  0.087153  0.029599 -0.001276  0.038180 -0.027709  \n",
       "8 -0.124877 -0.140478  0.088573  0.030272  0.059795  \n",
       "9 -0.067575 -0.087187 -0.043484  0.013497  0.141605  \n",
       "\n",
       "[10 rows x 108 columns]"
      ]
     },
     "execution_count": 28,
     "metadata": {},
     "output_type": "execute_result"
    }
   ],
   "source": [
    "simulation.dataframe.head(10)"
   ]
  },
  {
   "cell_type": "markdown",
   "metadata": {
    "papermill": {
     "duration": 0.057227,
     "end_time": "2020-07-18T18:31:38.906236",
     "exception": false,
     "start_time": "2020-07-18T18:31:38.849009",
     "status": "completed"
    },
    "tags": []
   },
   "source": [
    "#### Viewing a random sample"
   ]
  },
  {
   "cell_type": "code",
   "execution_count": 29,
   "metadata": {
    "execution": {
     "iopub.execute_input": "2020-07-18T18:31:39.005241Z",
     "iopub.status.busy": "2020-07-18T18:31:39.003904Z",
     "iopub.status.idle": "2020-07-18T18:31:39.472488Z",
     "shell.execute_reply": "2020-07-18T18:31:39.472027Z"
    },
    "papermill": {
     "duration": 0.530511,
     "end_time": "2020-07-18T18:31:39.472557",
     "exception": false,
     "start_time": "2020-07-18T18:31:38.942046",
     "status": "completed"
    },
    "tags": []
   },
   "outputs": [
    {
     "name": "stdout",
     "output_type": "stream",
     "text": [
      "CPU times: user 54.7 ms, sys: 0 ns, total: 54.7 ms\n",
      "Wall time: 54.1 ms\n"
     ]
    }
   ],
   "source": [
    "%%time\n",
    "if simulation.fourier_mode is not None:\n",
    "    simulation.fourier_dataframe.sample(frac=0.1, replace=False)"
   ]
  },
  {
   "cell_type": "markdown",
   "metadata": {
    "papermill": {
     "duration": 0.220676,
     "end_time": "2020-07-18T18:31:39.737040",
     "exception": false,
     "start_time": "2020-07-18T18:31:39.516364",
     "status": "completed"
    },
    "tags": []
   },
   "source": [
    "#### Checking train/val/test splits again"
   ]
  },
  {
   "cell_type": "code",
   "execution_count": 30,
   "metadata": {
    "execution": {
     "iopub.execute_input": "2020-07-18T18:31:40.229023Z",
     "iopub.status.busy": "2020-07-18T18:31:40.228693Z",
     "iopub.status.idle": "2020-07-18T18:31:41.557230Z",
     "shell.execute_reply": "2020-07-18T18:31:41.556910Z"
    },
    "papermill": {
     "duration": 1.635936,
     "end_time": "2020-07-18T18:31:41.557282",
     "exception": false,
     "start_time": "2020-07-18T18:31:39.921346",
     "status": "completed"
    },
    "tags": []
   },
   "outputs": [
    {
     "name": "stdout",
     "output_type": "stream",
     "text": [
      "% train:  0.4208199969516842\n",
      "% val:  0.42066758116140834\n",
      "% test:  0.15851242188690748\n",
      "% train + val + test:  1.0\n",
      "\n",
      "\n",
      "number of train hamiltonians:  2761\n",
      "number of val hamiltonians:  2760\n",
      "number of test hamiltonians:  1040\n",
      "total number of hamiltonians:  6561\n",
      "\n",
      "\n",
      "train ids:  [135, 1505, 3468, 673, 3840, 3421, 4810, 4016, 6299, 3446, 1542, 1332, 3583, 1045, 2905, 4297, 1003, 6326, 1707, 790, 223, 1027, 41, 3809, 3678, 6269, 3474, 4552, 1981, 1579, 3725, 798, 4009, 220, 2306, 6006, 4809, 2994, 5456, 4318, 710, 6183, 474, 1378, 3735, 4200, 1291, 3478, 4762, 4202, 4719, 3974, 4276, 6408, 762, 5315, 3573, 1592, 3273, 3377, 3276, 3483, 5147, 3618, 4227, 2194, 2313, 5854, 4114, 5313, 3718, 1604, 6121, 3764, 676, 6274, 1957, 4577, 4454, 3269, 5691, 3934, 2157, 2752, 3944, 18, 2205, 1408, 2675, 238, 830, 5212, 112, 5071, 863, 1026, 6550, 2307, 4161, 3922, 3589, 2021, 455, 1008, 2598, 4781, 2302, 2355, 5994, 5438, 5469, 4111, 2146, 33, 137, 6361, 3090, 961, 2395, 3737, 1793, 6223, 4621, 5918, 4356, 4523, 6517, 3429, 3621, 4599, 2413, 3018, 5077, 3262, 4178, 227, 4275, 2425, 5293, 5930, 4153, 4873, 4582, 2517, 3253, 2939, 3703, 628, 2965, 2582, 3679, 4637, 3630, 5275, 3935, 5048, 3650, 6443, 2449, 1928, 4746, 5305, 5592, 2141, 5652, 2392, 3815, 2315, 3923, 2159, 5776, 5104, 1916, 4423, 6426, 752, 30, 5101, 1173, 757, 5628, 197, 4936, 5206, 5999, 4309, 5807, 644, 1198, 1379, 4715, 2921, 6023, 1948, 299, 2305, 3687, 1329, 5708, 613, 2878, 1566, 4984, 700, 4926, 3304, 5216, 4962, 1192, 3120, 1976, 321, 4516, 3837, 3057, 4438, 6022, 2451, 288, 5523, 6507, 6456, 228, 858, 4091, 5099, 518, 803, 4012, 2686, 3849, 2233, 3977, 914, 4576, 2557, 1292, 860, 403, 5869, 4069, 3955, 1999, 1122, 2745, 804, 5797, 2522, 4909, 4115, 3266, 6469, 3306, 4524, 3169, 2890, 6239, 4410, 2635, 2928, 4574, 3886, 2901, 356, 3396, 6430, 4241, 4155, 4639, 6407, 1571, 2342, 3575, 4124, 3664, 2629, 1254, 3949, 6483, 2923, 4794, 2962, 5096, 5432, 1600, 3907, 5643, 3549, 270, 5923, 6092, 35, 4612, 44, 1819, 1422, 4868, 6367, 4401, 2742, 1176, 4072, 3871, 2109, 4831, 1699, 4800, 5260, 3517, 2832, 116, 998, 3147, 5841, 864, 5229, 4412, 3372, 3609, 558, 442, 5714, 1503, 3730, 4156, 4812, 5119, 6541, 769, 5424, 6488, 610, 6199, 1251, 3515, 5848, 3384, 15, 4391, 3864, 6447, 1191, 5221, 5363, 5802, 3761, 2747, 5641, 100, 5218, 2199, 472, 2162, 1255, 4483, 237, 2912, 1123, 1007, 5536, 6282, 2650, 448, 809, 2590, 301, 1938, 4531, 765, 5785, 3282, 5920, 3039, 4055, 20, 4409, 6484, 4645, 1297, 3122, 303, 5457, 2183, 2959, 2097, 1381, 6094, 1492, 3189, 5634, 2825, 1689, 1741, 4659, 2173, 4147, 6007, 2000, 3412, 3239, 3498, 3099, 3585, 3826, 4238, 2010, 1345, 2527, 6502, 1779, 322, 4906, 2759, 6142, 3378, 511, 4635, 2922, 1843, 5675, 22, 6156, 6435, 6200, 3466, 3157, 2842, 346, 3611, 6030, 6051, 2103, 1829, 6334, 6494, 2512, 1170, 935, 5956, 232, 1111, 3259, 2366, 4371, 4991, 1442, 4771, 2487, 1906, 3476, 4089, 1931, 4164, 275, 5648, 4233, 1434, 2106, 5318, 4679, 565, 5618, 1110, 469, 5066, 5108, 2356, 4116, 6370, 1038, 3900, 2350, 766, 4447, 3496, 2677, 3452, 6459, 2892, 1349, 6304, 187, 6300, 4477, 4214, 3683, 6451, 4330, 4187, 1734, 1285, 1295, 146, 4713, 1897, 3475, 2235, 2550, 2594, 5600, 6421, 5112, 4869, 1181, 2098, 1086, 2119, 6029, 6272, 783, 4550, 5684, 4469, 2556, 6084, 3263, 4494, 1652, 4060, 4053, 4337, 4705, 6010, 5103, 3633, 5890, 2861, 3088, 6270, 2323, 62, 2240, 1625, 1609, 632, 1826, 207, 113, 780, 3020, 1572, 3407, 3910, 2060, 306, 4865, 1076, 5394, 934, 3916, 1905, 4625, 3309, 6521, 4110, 1289, 1017, 3383, 4389, 4007, 6376, 1023, 5308, 4735, 4847, 5678, 794, 36, 1814, 236, 6302, 5067, 1811, 5929, 3190, 4261, 4685, 6211, 4935, 3163, 2279, 2597, 219, 635, 6138, 5258, 3434, 5189, 48, 5261, 3861, 2418, 3507, 1529, 6050, 963, 3175, 2363, 114, 4039, 404, 4177, 870, 4323, 4270, 5215, 3803, 1425, 2231, 3216, 6134, 2972, 2771, 6468, 1567, 4671, 6503, 2968, 6442, 2065, 4184, 1926, 5996, 1273, 4527, 721, 5607, 2149, 4506, 4664, 4573, 5240, 6467, 140, 1755, 1402, 3053, 478, 3794, 4407, 1189, 5606, 364, 6141, 1816, 3990, 6280, 3450, 4851, 1452, 4598, 1591, 3100, 5019, 314, 5922, 3308, 5384, 32, 1206, 1463, 2417, 6410, 5136, 2079, 597, 5888, 5587, 2779, 2792, 1157, 4378, 5436, 4792, 5312, 5510, 5712, 2884, 1249, 1841, 3183, 2593, 2283, 4973, 315, 453, 3529, 3214, 5344, 4041, 1208, 3962, 4300, 4618, 1268, 1982, 5473, 4217, 2304, 6080, 5118, 4828, 5522, 3999, 1900, 3097, 3073, 5098, 153, 6102, 4285, 2860, 4112, 3201, 1825, 386, 5556, 2333, 2096, 717, 5812, 1131, 1854, 4209, 6139, 2774, 5190, 1870, 3601, 3811, 2826, 2772, 6088, 2800, 4786, 5557, 2973, 2978, 1490, 2085, 3747, 4845, 1087, 3842, 4877, 1041, 3564, 447, 6319, 1428, 3125, 141, 1871, 4691, 142, 1876, 595, 5269, 4280, 3430, 3173, 3677, 3374, 2274, 3040, 1615, 4938, 2301, 1520, 2902, 1462, 3324, 1168, 5152, 3777, 5381, 50, 1162, 186, 3464, 725, 1205, 1271, 3012, 3997, 1284, 3103, 6324, 192, 6052, 5945, 1907, 3139, 6215, 2262, 544, 838, 4704, 6048, 3465, 4630, 5100, 5840, 772, 6035, 2684, 1523, 2564, 6363, 6077, 6275, 4491, 2519, 887, 1040, 375, 2743, 4381, 1676, 2569, 4256, 4783, 728, 1201, 1369, 2523, 719, 4969, 1127, 1202, 1677, 5482, 459, 952, 3213, 5552, 6357, 4162, 5794, 6279, 1077, 3562, 685, 3603, 1757, 5353, 5913, 2874, 3509, 1424, 5124, 5186, 1588, 4193, 395, 4022, 4192, 1815, 2770, 955, 4530, 4062, 4036, 6004, 3973, 5995, 3672, 6263, 668, 4393, 6327, 5686, 3045, 2738, 3453, 1935, 5791, 3071, 2713, 6325, 1515, 1203, 4044, 6083, 3555, 797, 530, 3752, 5704, 17, 4623, 2352, 1664, 5444, 6240, 1333, 3800, 2007, 6085, 4703, 4141, 3899, 5796, 3149, 2399, 3673, 867, 2338, 1102, 3610, 4743, 5857, 2357, 5448, 2575, 5974, 3941, 5539, 4911, 5511, 3417, 5021, 226, 1764, 3592, 3077, 2071, 3830, 1568, 6203, 6261, 957, 4626, 5117, 4572, 2225, 5367, 1169, 2242, 5953, 5475, 2750, 4049, 5792, 3427, 2196, 4548, 6321, 641, 3029, 1619, 3111, 2647, 883, 34, 4152, 6182, 267, 3524, 2672, 4932, 3126, 5036, 5732, 5763, 2484, 159, 4858, 1850, 4248, 4129, 5427, 4902, 4267, 844, 3799, 1832, 1651, 1576, 2494, 5603, 3413, 4967, 3576, 5962, 4687, 6186, 954, 5356, 764, 2715, 962, 294, 2182, 2763, 5467, 2024, 3288, 4160, 2266, 3368, 1043, 4458, 1015, 2895, 1213, 2712, 1612, 184, 1975, 6495, 1733, 4165, 1992, 3560, 4130, 5597, 4696, 5541, 4373, 2405, 4404, 3835, 5946, 1403, 6055, 2326, 1257, 6021, 3598, 1025, 4033, 3808, 6320, 3310, 5374, 6406, 4627, 4196, 6375, 3688, 371, 4776, 6221, 3058, 3625, 4239, 1130, 1429, 5032, 2057, 6114, 4544, 5834, 24, 1353, 2475, 4549, 3804, 868, 318, 1460, 2984, 3743, 6125, 6243, 6206, 2245, 2354, 835, 1813, 616, 285, 14, 422, 3930, 1836, 3759, 3068, 205, 4818, 2570, 4415, 5842, 2613, 4895, 6014, 4813, 1019, 4333, 951, 3810, 109, 2361, 552, 5375, 5674, 2700, 3355, 4052, 3629, 2386, 2058, 2657, 754, 848, 64, 2571, 6207, 390, 1367, 2421, 931, 4191, 1769, 464, 3011, 802, 2013, 3587, 2927, 242, 2448, 2562, 6098, 3049, 3765, 960, 4063, 4540, 6191, 890, 5798, 1089, 3439, 4490, 4492, 6457, 5781, 5644, 3440, 2332, 5533, 1264, 2668, 1010, 5156, 147, 1770, 1088, 2944, 1785, 684, 2883, 2731, 4928, 3121, 4765, 2030, 2526, 1946, 2278, 2439, 4482, 21, 513, 1582, 2929, 5705, 5870, 3141, 703, 1589, 4698, 1290, 2232, 1848, 6042, 6372, 2427, 562, 3710, 2358, 2435, 1341, 3238, 2359, 1358, 2876, 2688, 2632, 3982, 1743, 4504, 1783, 2325, 3641, 5676, 2078, 2518, 831, 433, 1091, 258, 1541, 4225, 1322, 3619, 3315, 5310, 5359, 3805, 1265, 5565, 4807, 3335, 3232, 5055, 1853, 99, 5484, 807, 3399, 561, 2288, 1407, 6119, 5850, 6026, 290, 1937, 1032, 2766, 4244, 2453, 3888, 148, 5442, 4335, 2179, 389, 5535, 4453, 2976, 4048, 6359, 6283, 4701, 2995, 3066, 2717, 5455, 5949, 6338, 2610, 2692, 2794, 3143, 6132, 6290, 3247, 6458, 1348, 3159, 6501, 6369, 4199, 3155, 5765, 3078, 5668, 4854, 292, 2658, 3311, 3136, 775, 3026, 3851, 5507, 5422, 588, 4643, 3202, 3089, 25, 609, 507, 4563, 1534, 1909, 3709, 1454, 5932, 5202, 4587, 2521, 842, 5309, 4157, 4046, 5811, 2573, 2723, 2438, 4866, 1195, 5350, 4976, 3274, 2509, 5838, 3751, 5033, 4744, 3070, 3623, 483, 1193, 5207, 712, 5070, 5977, 1790, 5889, 1119, 4806, 2513, 6189, 4634, 2843, 201, 206, 5596, 626, 5421, 4065, 6545, 4954, 1623, 1902, 2796, 4970, 3455, 3875, 3409, 5769, 2329, 942, 2335, 599, 4849, 2981, 3397, 5598, 5976, 479, 1212, 2762, 5474, 286, 5148, 591, 5133, 5273, 3644, 6424, 4383, 5299, 4127, 5134, 2930, 438, 1174, 1082, 1754, 2751, 4198, 6246, 2011, 5050, 587, 4290, 3692, 1617, 2611, 4992, 2112, 5613, 1507, 5960, 1922, 6209, 4481, 4661, 6247, 3167, 4692, 3501, 5372, 4620, 4332, 2409, 5558, 6036, 5963, 4168, 2006, 3535, 3435, 1172, 5680, 2987, 2958, 3482, 866, 3497, 2486, 2558, 2649, 3287, 5365, 5640, 4772, 4443, 943, 1506, 2837, 3868, 2036, 6286, 5788, 1517, 5528, 3636, 436, 105, 2388, 928, 2988, 4663, 5876, 5799, 2234, 3059, 5677, 5257, 2877, 3771, 4913, 3569, 5512, 6258, 2693, 5636, 1574, 932, 6079, 1103, 6337, 855, 2885, 2798, 1046, 6248, 2528, 4240, 1599, 2142, 3880, 3662, 4271, 6440, 2118, 606, 2056, 1514, 1356, 2616, 2853, 1029, 4717, 3404, 3556, 4615, 4537, 2267, 72, 2229, 6123, 1190, 5426, 3217, 3597, 770, 5237, 426, 3784, 3379, 5016, 971, 3945, 4207, 947, 5049, 2767, 4216, 5194, 3072, 6490, 2347, 3775, 2778, 2480, 5635, 5113, 1739, 5861, 5179, 2222, 555, 1777, 3206, 462, 6463, 3395, 3921, 1698, 1245, 1759, 2665, 2169, 1511, 217, 1502, 5264, 3442, 2683, 4294, 3050, 6368, 4963, 4891, 5530, 3364, 881, 5926, 4368, 2646, 5970, 3347, 3931, 6012, 1100, 878, 1331, 3425, 533, 6089, 5694, 5937, 3758, 3375, 2831, 5297, 2710, 3028, 4291, 3447, 4274, 6342, 6425, 4622, 4445, 2768, 5526, 5397, 3016, 3179, 5928, 4798, 1953, 2139, 5183, 377, 5234, 6196, 1166, 5211, 3218, 4949, 3967, 477, 2748, 5696, 670, 5191, 4148, 6244, 5038, 4313, 3869, 5027, 3350, 967, 3470, 3929, 5266, 3019, 2612, 5226, 2855, 3595, 6241, 1128, 3181, 713, 4501, 1650, 1920, 4945, 688, 2481, 3568, 4640, 5137, 4788, 300, 3408, 3074, 4912, 39, 1244, 4465, 3708, 5697, 4456, 5197, 3884, 3682, 2261, 2682, 1824, 2002, 6159, 5123, 4706, 6380, 2493, 4145, 2393, 715, 1108, 5441, 2829, 1430, 1377, 2666, 4047, 4994, 6358, 6044, 118, 5458, 5342, 885, 3424, 196, 5199, 5518, 6532, 5317, 2482, 1437, 3048, 3846, 4520, 5529, 4403, 2849, 3786, 3542, 2967, 144, 5599, 4090, 5029, 4720, 5051, 6549, 4588, 1837, 4652, 3531, 5128, 4931, 1439, 3511, 1121, 2656, 6403, 1945, 4082, 4528, 349, 4419, 1447, 3566, 5223, 2754, 3614, 1822, 5971, 4243, 193, 6429, 751, 3539, 5041, 3510, 525, 2806, 5095, 1105, 3577, 3272, 2362, 1188, 5274, 3485, 1210, 1858, 5852, 4463, 4734, 5513, 5537, 1678, 213, 1259, 633, 3075, 936, 1765, 1129, 3249, 115, 6017, 4213, 3046, 1132, 2755, 3520, 4641, 1936, 4697, 4032, 2803, 5035, 2801, 1375, 4823, 4942, 5813, 1537, 4957, 4989, 4149, 5506, 5468, 2474, 5710, 1763, 6040, 3047, 1456, 5075, 6251, 2913, 2364, 5863, 4435, 2724, 3248, 3128, 3987, 5173, 4518, 3490, 6220, 451, 5018, 4379, 6524, 2917, 427, 345, 5713, 5404, 295, 4998, 312, 4952, 3932, 2773, 6103, 2022, 1446, 4816, 2447, 4601, 2608, 2719, 2576, 2880, 1851, 6001, 4121, 5725, 5547, 6544, 456, 5470, 6412, 1194, 4770, 3329, 3271, 1357, 6025, 6289, 3506, 4848, 3947, 3571, 3925, 1930, 792, 1413, 3841, 2591, 4025, 6002, 6436, 3105, 3706, 5402, 5368, 4146, 1499, 396, 3917, 5761, 2066, 5927, 1258, 1508, 3720, 1182, 708, 4648, 2828, 6346, 5868, 2249, 1628, 3152, 869, 5355, 4683, 5138, 6253, 3570, 2535, 5340, 1862, 3087, 3707, 1261, 4087, 4056, 2498, 3665, 2204, 5943, 3966, 4361, 5973, 1457, 834, 551, 1448, 3543, 2856, 3770, 2915, 3343, 1241, 265, 6268, 150, 4752, 2077, 4745, 3437, 4892, 1546, 6104, 1995, 5205, 1030, 373, 3823, 1004, 4392, 6438, 4532, 4968, 3188, 1275, 6188, 3749, 180, 5232, 1846, 3924, 1096, 365, 4853, 2140, 6254, 2117, 2554, 1540, 4478, 1531, 5454, 3593, 6242, 57, 6115, 5754, 5116, 2592, 3418, 4122, 1267, 5756, 2086, 1985, 4077, 1179, 2563, 6015, 4670, 5053, 4979, 4235, 3817, 6082, 4017, 5871, 1685, 63, 5017, 480, 4150, 521, 5864, 753, 5471, 1898, 194, 2402, 3513, 1097, 1984, 5219, 3422, 3405, 4255, 1209, 4058, 5373, 5145, 2663, 2339, 2574, 763, 557, 443, 2370, 6413, 620, 5476, 5105, 701, 4284, 3516, 6011, 4311, 3153, 2167, 3061, 5465, 1518, 2184, 6218, 160, 2154, 5434, 5605, 379, 4027, 6303, 49, 2904, 5349, 277, 2241, 143, 1661, 6018, 1775, 1838, 3704, 5131, 5161, 4884, 5948, 2181, 3890, 402, 4247, 6492, 2587, 4795, 2805, 3705, 2452, 4375, 2795, 3388, 5398, 139, 4555, 149, 1692, 3251, 4653, 4767, 4103, 1020, 3243, 6113, 2253, 3536, 2507, 4030, 16, 5298, 4174, 2491, 5282, 716, 4457, 3299, 5302, 3406, 3093, 699, 3164, 3389, 3382, 1260, 42, 4974, 3671, 4522, 2654, 3991, 181, 1282, 6339, 3724, 3319, 3289, 4562, 4688, 1581, 5225, 6374, 4908, 2193, 4872, 5520, 3185, 3728, 4476, 3659, 3345, 2174, 5924, 5092, 3339, 875, 3820, 5647, 289, 4929, 2147, 6496, 3376, 6128, 5508, 4154, 3553, 679, 637, 695, 121, 65, 4108, 4990, 3194, 514, 2468, 509, 2648, 2470, 3351, 5685, 2062, 3502, 5065, 789, 2190, 4829, 3325, 2531, 3006, 6297, 3715, 4712, 5074, 1605, 74, 2845, 6499, 5150, 3124, 2746, 4341, 2655, 1451, 4497, 3056, 5855, 1601, 5757, 929, 475, 5174, 2436, 2875, 178, 2848, 2942, 3684, 104, 6353, 528, 3419, 3519, 2797, 4982, 391, 1033, 3391, 5919, 5481, 4231, 2465, 1593, 2956, 6034, 4366, 5022, 2189, 3177, 3411, 6450, 5376, 6399, 3491, 1084, 3286, 3727, 4579, 4310, 4028, 857, 6266, 3768, 278, 4859, 585, 1266, 3314, 2907, 805, 362, 5280, 2396, 1215, 3330, 199, 5878, 994, 5159, 524, 6437, 5795, 133, 4134, 1956, 3939, 1949, 1006, 647, 4887, 5430, 856, 3995, 5851, 3950, 4201, 1648, 4480, 2551, 1501, 2168, 231, 1277, 435, 4257, 2947, 4488, 2854, 5595, 2410, 2529, 879, 646, 1918, 3127, 643, 590, 619, 2631, 2799, 5503, 2390, 5143, 3774, 843, 4287, 5630, 5753, 859, 3599, 1359, 1867, 2271, 3998, 2485, 4893, 3001, 527, 2940, 3698, 2175, 4282, 5727, 3713, 4246, 3438, 2974, 3134, 2838, 1711, 2017, 5217, 5177, 5094, 5431, 4725, 3277, 2353, 3953, 1595, 5267, 3207, 6328, 3827, 2101, 6204, 2975, 2532, 1749, 4726, 5378, 3381, 3590, 4026, 5549, 1978, 3763, 5125, 5146, 46, 3436, 3681, 6161, 4143, 2938, 471, 309, 2937, 508, 2678, 4338, 6101, 470, 3726, 4896, 6158, 6124, 5693, 4210, 4385, 4934, 6037, 4763, 233, 948, 5975, 6330, 1050, 3894, 399, 3745, 3873, 2164, 5379, 1012, 6111, 1784, 2287, 1512, 3151, 3853, 1766, 5135, 2259, 5440, 2080, 5437, 4521, 6454, 2711, 1455, 4899, 2508, 5602, 5141, 2059, 157, 2888, 4425, 4699, 3591, 6513, 3721, 1913, 2401, 6462, 2254, 1526, 5357, 47, 4405, 5445, 1894, 183, 5227, 136, 2735, 5672, 3958, 1165, 601, 5307, 1433, 4450, 2170, 2428, 784, 5671, 6335, 773, 3069, 5586, 3920, 5064, 5521, 2467, 2008, 3402, 3106, 5561, 2031, 431, 2032, 2809, 218, 4769, 302, 3182, 2067, 4350, 6110, 640, 774, 3773, 3334, 2671, 5262, 5935, 400, 3403, 5524, 5759, 2857, 939, 4397, 3398, 1659, 5843, 4547, 3212, 1627, 4940, 1618, 6039, 4894, 782, 6278, 5028, 1410, 60, 4451, 5646, 1947, 298, 593, 4916, 76, 5553, 6009, 6536, 4826, 1656, 5758, 953, 5370, 2960, 1753, 5176, 3912, 944, 592, 4163, 5729, 380, 1535, 1487, 5283, 5997, 504, 4721, 611, 4889, 1952, 4578, 5121, 2957, 3954, 6107, 5294, 1532, 687, 1355, 3021, 4878, 5752, 1655, 3158, 1781, 3244, 3231, 4054, 5185, 3790, 2027, 4259, 1748, 540, 3736, 2734, 3686, 5706, 5682, 1368, 4462, 3154, 621, 5789, 4499, 946, 4433, 6163, 1274, 6027, 4951, 429, 5042, 2578, 1016, 3492, 4126, 1184, 2584, 3791, 4811, 3150, 383, 1351, 5154, 5961, 4642, 5624, 1013, 4298, 851, 54, 6439, 6418, 4680, 556, 4485, 706, 2943, 1186, 3137, 6402, 6525, 3738, 4142, 778, 6118, 1772, 5872, 4668, 4881, 3639, 5464, 4764, 1782, 387, 259, 261, 4021, 1047, 4170, 767, 2226, 1338, 1768, 4723, 1354, 6354, 1406, 4821, 5688, 1330, 2367, 5633, 1955, 2911, 924, 2916, 366, 4299, 4459, 2072, 3473, 1835, 6179, 6480, 3787, 5287, 6305, 3261, 2579, 2069, 4426, 1126, 1299, 4179, 2555, 2780, 6385, 6535, 1441, 1852, 3367, 3146, 4281, 4944, 2903, 2807, 6076, 3852, 3937, 916, 2269, 6415, 1914, 6047, 3172, 6378, 3856, 4190, 3221, 2138, 4400, 1735, 1614, 4953, 293, 5604, 134, 2732, 214, 358, 5915, 5551, 5106, 424, 5263, 2599, 13, 2203, 5279, 5859, 1158, 3850, 537, 3295, 5723, 5562, 645, 4302, 4043, 671, 4342, 432, 2035, 4489, 1498, 5726, 1404, 1497, 5966, 6285, 2400, 4514, 2248, 5399, 3628, 1090, 5236, 4372, 6086, 4566, 3538, 1504, 3390, 5611, 5158, 1989, 1164, 2909, 690, 189, 1868, 4105, 3986, 2185, 279, 959, 1496, 3908, 361, 3859, 3933, 2172, 3229, 3651, 5354, 2369, 4080, 1986, 1834, 2886, 6448, 5546, 2865, 4268, 1028, 3480, 6129, 3145, 922, 6527, 785, 3801, 4901, 444, 4799, 2343, 1436, 2636, 5360, 5453, 4319, 2925, 313, 2191, 1693, 107, 2028, 1762, 5175, 4434, 4693, 3757, 6449, 6379, 4006]\n",
      "val ids:  [291, 296, 2756, 5718, 1791, 3255, 6294, 465, 1786, 3668, 2977, 2115, 4729, 3905, 4083, 5880, 1376, 2736, 3655, 1911, 1336, 937, 5155, 3471, 3337, 6175, 5058, 2931, 4475, 4570, 3701, 3903, 3584, 222, 915, 352, 5052, 4229, 2777, 3653, 274, 5054, 5504, 3432, 3893, 152, 3762, 131, 5835, 3332, 2696, 1098, 5883, 3612, 2859, 2311, 5862, 3215, 3420, 4279, 3642, 3828, 526, 6264, 949, 3943, 2327, 3187, 1421, 2998, 2445, 6131, 4651, 2955, 965, 6446, 4986, 3984, 4787, 3533, 2068, 5722, 5894, 4933, 2685, 6355, 3578, 179, 6167, 4910, 2516, 541, 4384, 3756, 2033, 3902, 940, 2443, 1078, 393, 3711, 4617, 5626, 4367, 3979, 1516, 4120, 5865, 5527, 151, 3015, 4461, 4619, 3254, 4218, 2489, 262, 4131, 852, 2811, 3426, 5443, 2496, 5815, 4768, 503, 1740, 1021, 1125, 2081, 4228, 185, 2492, 3863, 2488, 4472, 6318, 517, 6136, 2257, 4708, 2606, 2434, 4474, 749, 2412, 6350, 1340, 849, 1200, 1744, 6485, 2560, 2674, 4694, 1944, 996, 190, 369, 4001, 2718, 5277, 5323, 3052, 2676, 4064, 4629, 5934, 4398, 5637, 4710, 1052, 5072, 4876, 1667, 2256, 4328, 1431, 3081, 5777, 3734, 4827, 5944, 3742, 2113, 3459, 6205, 3889, 1178, 5222, 4975, 5709, 5477, 2997, 5015, 6423, 211, 4468, 4003, 1844, 1248, 2933, 941, 5957, 3038, 3839, 2741, 4607, 2003, 3818, 77, 4915, 3296, 367, 4750, 6546, 3393, 5631, 723, 5388, 2662, 1602, 6481, 3876, 2237, 5687, 3322, 2082, 2992, 1426, 1954, 3101, 268, 3731, 5621, 2156, 5433, 2337, 6273, 5278, 724, 4119, 2559, 4079, 3285, 3993, 5837, 4874, 3857, 2404, 129, 3370, 6031, 2270, 4363, 2019, 4716, 1988, 2472, 3208, 4624, 5585, 3881, 452, 458, 3469, 1509, 1204, 6099, 5594, 4718, 2568, 2966, 4037, 2858, 6262, 2670, 3956, 686, 6259, 2565, 3303, 1418, 841, 1543, 4748, 3410, 871, 485, 523, 1326, 2153, 692, 4066, 4442, 6252, 1423, 4583, 5853, 2505, 4339, 554, 4396, 97, 5914, 6194, 1939, 195, 4996, 2617, 5849, 5790, 3831, 4564, 1412, 5978, 3481, 6351, 5774, 4351, 602, 1665, 6202, 6250, 1691, 2268, 4151, 6360, 1688, 2429, 5129, 5931, 693, 3132, 123, 2862, 6174, 4505, 6433, 4526, 4455, 880, 1018, 862, 4867, 4808, 108, 3373, 1116, 6516, 215, 1872, 3901, 1673, 468, 1263, 2285, 4172, 1943, 1366, 2609, 3462, 2628, 2384, 853, 2423, 4005, 5545, 4286, 23, 1005, 1417, 5429, 5303, 2530, 1874, 5951, 79, 5259, 6276, 4830, 6511, 4307, 145, 3722, 2644, 5389, 642, 3657, 5936, 3316, 4029, 4188, 5450, 553, 2143, 566, 1941, 2673, 2144, 956, 3938, 5750, 5695, 2038, 2441, 4349, 4394, 5401, 2442, 3530, 3778, 5073, 925, 1197, 5319, 2258, 6336, 6386, 1372, 6292, 6287, 5393, 5538, 2239, 269, 1035, 5395, 5153, 4230, 6345, 4655, 1167, 263, 3845, 2186, 3423, 3968, 1489, 3866, 5875, 4376, 4825, 2495, 1276, 755, 3353, 3338, 607, 2387, 4907, 2827, 6466, 5800, 6045, 3865, 1525, 2121, 6038, 3495, 1113, 3340, 1328, 3928, 3148, 3104, 1594, 3178, 1951, 4206, 2331, 4446, 3798, 2037, 5238, 4353, 2640, 3522, 4344, 3964, 4137, 1085, 5968, 2836, 317, 2983, 3484, 4295, 3241, 5069, 5639, 4731, 1990, 5241, 3344, 4073, 2284, 6431, 1745, 3537, 5939, 5023, 5954, 5942, 3975, 4092, 3505, 1051, 6265, 2808, 2201, 2630, 124, 675, 836, 119, 2398, 5488, 445, 3359, 1183, 5804, 5938, 4013, 5068, 5178, 4215, 5768, 27, 1524, 3946, 4632, 2177, 5235, 234, 3767, 2330, 4395, 5008, 381, 5149, 2089, 2589, 382, 1083, 629, 3822, 3009, 4736, 1522, 4960, 5184, 4529, 5196, 2669, 4981, 1488, 3527, 624, 4948, 4448, 1185, 1653, 353, 5321, 307, 750, 3667, 1662, 1001, 61, 791, 1896, 4167, 999, 3170, 1002, 1842, 4343, 4650, 4749, 2689, 1118, 3235, 4449, 37, 5265, 3697, 3486, 1538, 58, 3646, 1350, 3107, 4985, 3186, 2093, 4076, 3336, 2596, 3604, 2514, 4031, 3023, 3685, 101, 1704, 5079, 1370, 4565, 5783, 6249, 2479, 2615, 297, 4709, 1513, 617, 5130, 4616, 4487, 4597, 6411, 2834, 5998, 5272, 4139, 5564, 2005, 2478, 1934, 5566, 3544, 5782, 4357, 3605, 2087, 3600, 68, 6201, 2344, 6520, 6291, 5366, 216, 4440, 3712, 5446, 5879, 4880, 4452, 4204, 6531, 3323, 4439, 1458, 5423, 3002, 4334, 2110, 2273, 2034, 2653, 3095, 4102, 4903, 4558, 1839, 4536, 3307, 4208, 3472, 529, 6078, 340, 5208, 1980, 6096, 4857, 913, 1449, 1998, 1500, 3906, 2830, 320, 4742, 128, 3719, 3847, 3449, 2725, 5638, 6090, 623, 476, 6013, 4534, 4292, 5614, 397, 5385, 3551, 1427, 5151, 305, 2941, 4784, 96, 3246, 2277, 4432, 2889, 5462, 2749, 473, 6093, 401, 4301, 385, 3094, 3131, 4747, 3051, 4939, 1683, 5144, 4722, 3855, 2320, 2310, 5555, 6465, 1823, 3695, 1701, 2769, 4296, 6543, 3660, 1180, 5180, 4535, 1107, 264, 1866, 3792, 2303, 4289, 3233, 106, 1864, 125, 6362, 3897, 5187, 2963, 3041, 759, 2664, 966, 2891, 67, 2334, 467, 6185, 1674, 1327, 1344, 6445, 4273, 3428, 4883, 6213, 3007, 516, 1099, 833, 482, 4882, 4766, 4040, 2014, 596, 6095, 4546, 2566, 6178, 3913, 2161, 3616, 3521, 3714, 1325, 3119, 2178, 3504, 3223, 3558, 4649, 1833, 546, 5024, 310, 6298, 3463, 4819, 6491, 3663, 5550, 3387, 4377, 3796, 1362, 5193, 6120, 4253, 2753, 2383, 4751, 4833, 276, 3779, 1626, 3341, 615, 4414, 43, 1994, 2643, 5195, 1710, 697, 355, 4844, 6005, 3552, 5392, 3327, 3331, 2246, 5625, 1767, 2639, 4502, 3371, 1347, 1279, 3313, 5751, 1024, 2238, 5764, 4220, 4817, 29, 4533, 5040, 6528, 4542, 3156, 4484, 5377, 1586, 5588, 5010, 2910, 1527, 4515, 2695, 3821, 4109, 850, 3606, 5532, 437, 1278, 5386, 6164, 5020, 1120, 2781, 6024, 348, 4322, 6166, 1598, 5760, 5045, 2819, 534, 4094, 4011, 3219, 2605, 2645, 1486, 1899, 457, 4860, 6364, 130, 2561, 545, 368, 2899, 2982, 3565, 1821, 2595, 3960, 2642, 2403, 5107, 3634, 6464, 2722, 4575, 6534, 3877, 1983, 2515, 5139, 758, 4194, 1343, 631, 4937, 4600, 3753, 5548, 4571, 4327, 4123, 38, 484, 5325, 4042, 5213, 311, 2477, 604, 4871, 3027, 4369, 3236, 4304, 3812, 6033, 1569, 4785, 3904, 6542, 945, 3898, 4390, 2637, 6427, 6122, 2265, 6373, 6510, 1657, 5034, 5716, 4695, 4965, 384, 3547, 4364, 6347, 1847, 4374, 281, 450, 5846, 4585, 2419, 3624, 342, 1774, 2247, 1459, 138, 204, 224, 6081, 876, 5967, 4584, 5721, 547, 5242, 4554, 6498, 4250, 5030, 3896, 5567, 2171, 1708, 4732, 4222, 3129, 5766, 1694, 4205, 4166, 5013, 938, 522, 1761, 1109, 4315, 28, 519, 4249, 4000, 4034, 3184, 3242, 2924, 2499, 5292, 3298, 1732, 837, 6384, 56, 4422, 5466, 1672, 5701, 6383, 5078, 4890, 4133, 6212, 1095, 1415, 2524, 698, 6453, 1610, 1133, 2422, 4418, 3617, 3043, 4329, 2914, 210, 6172, 2510, 1977, 5717, 3996, 1438, 4242, 3494, 1856, 1293, 1211, 3342, 3582, 481, 5893, 2961, 1031, 4212, 4262, 3648, 6452, 726, 3878, 589, 538, 6514, 2765, 1288, 1875, 3862, 2368, 2088, 3283, 1912, 5952, 4556, 5786, 5200, 1703, 1611, 6000, 1360, 4846, 1760, 2094, 3062, 3806, 4739, 3969, 634, 1729, 2697, 933, 559, 5396, 4958, 53, 2228, 1380, 4897, 4444, 6366, 5487, 1817, 1979, 1039, 5047, 3508, 5916, 4608, 1493, 3602, 1663, 6219, 4406, 2076, 5516, 2850, 3729, 208, 1337, 5702, 3674, 4140, 1435, 2414, 1539, 779, 1758, 5601, 5203, 3168, 5809, 2321, 3523, 3670, 454, 2729, 3983, 1272, 4106, 2004, 3874, 5102, 2814, 3098, 4059, 1536, 5400, 3739, 5391, 2986, 3550, 3209, 2614, 5772, 463, 4169, 1787, 4568, 2348, 5351, 6127, 761, 2846, 1298, 3083, 714, 1865, 4436, 872, 4382, 3493, 5014, 6133, 4125, 4219, 4495, 2497, 3503, 6177, 3694, 756, 2444, 3237, 1620, 3252, 3138, 1453, 5288, 2552, 618, 4702, 2476, 357, 6169, 5043, 304, 2835, 1042, 102, 3702, 1104, 1830, 2431, 3257, 3750, 5472, 806, 1670, 434, 460, 5964, 801, 4801, 2012, 4283, 3744, 2758, 5382, 4175, 1544, 2583, 2969, 4959, 5311, 5009, 2634, 5793, 4075, 4682, 1730, 1044, 4964, 6237, 5347, 4441, 2815, 4834, 6540, 2091, 5730, 6267, 689, 2151, 6293, 563, 6197, 2504, 351, 3741, 2548, 2935, 1577, 2586, 702, 2070, 3312, 3545, 3014, 5955, 512, 6349, 5091, 3693, 4411, 1827, 4596, 2919, 1792, 4875, 1925, 4068, 4654, 1996, 1587, 6504, 3205, 4995, 854, 3054, 2782, 6277, 1363, 3814, 2864, 5214, 4203, 4666, 5591, 350, 110, 4117, 6506, 707, 78, 3699, 997, 4226, 3676, 6171, 1270, 5110, 6117, 1789, 3559, 55, 3211, 2074, 4277, 2581, 5062, 1092, 2511, 5306, 5301, 720, 3085, 1036, 2882, 4689, 4561, 5383, 5882, 5056, 4095, 5228, 5463, 847, 5076, 1346, 344, 2651, 1904, 6245, 5111, 5867, 430, 5515, 1679, 2844, 80, 4879, 2824, 6135, 5314, 5958, 6216, 229, 622, 5371, 5296, 674, 5670, 874, 3691, 4118, 6419, 1450, 6054, 4024, 6343, 681, 598, 4173, 2721, 1207, 4525, 3165, 1893, 5387, 2699, 4159, 5531, 3003, 968, 4380, 6173, 2728, 5933, 2318, 2733, 3844, 3400, 3369, 51, 5061, 3358, 2221, 1752, 4107, 1323, 3789, 1654, 4486, 6184, 3882, 3581, 3265, 539, 4733, 1545, 449, 5461, 4971, 3268, 3161, 4503, 543, 5554, 5479, 4010, 3572, 564, 5093, 1919, 3291, 6381, 1253, 4223, 4293, 4559, 3649, 6493, 5543, 1901, 3488, 2638, 6059, 1352, 2394, 5589, 2187, 5346, 2009, 5182, 4232, 4316, 1603, 5724, 795, 3448, 4045, 1494, 4855, 323, 4061, 6400, 6401, 2224, 4646, 1419, 2659, 6497, 3696, 5230, 235, 5286, 4496, 3024, 3647, 3732, 3965, 888, 363, 6210, 239, 2015, 103, 2934, 3499, 5439, 1820, 5231, 4803, 2023, 4321, 4278, 2822, 865, 4413, 1163, 4774, 722, 4245, 638, 6533, 1420, 3825, 1093, 2757, 672, 5810, 3689, 605, 2727, 4589, 388, 2812, 3328, 2123, 5731, 3970, 3162, 4236, 1649, 3541, 6214, 6256, 3193, 2430, 3192, 6190, 1371, 3755, 1177, 2816, 308, 6301, 1175, 1578, 425, 3797, 4888, 4557, 1756, 5615, 1751, 4437, 4312, 5845, 3909, 4417, 3326, 1484, 5873, 95, 2775, 1596, 3836, 98, 5814, 3640, 5683, 2823, 4631, 2092, 6198, 4898, 4493, 3528, 359, 1106, 1533, 6224, 1101, 2817, 3366, 2720, 3879, 117, 930, 4961, 1669, 1022, 6187, 917, 5239, 260, 1622, 2416, 4856, 1684, 2852, 6434, 4314, 5390, 3258, 6519, 2188, 2064, 709, 6008, 5338, 5486, 5405, 6162, 4707, 2155, 532, 5403, 3574, 4789, 919, 5715, 5858, 6387, 4358, 3980, 3394, 5348, 5728, 5012, 1923, 221, 3356, 4728, 2533, 549, 5480, 3972, 3782, 1929, 1828, 2195, 3292, 466, 5692, 4815, 4096, 3086, 3076, 4977, 677, 1324, 2887, 4662, 4862, 4791, 4805, 6108, 6281, 4088, 1445, 374, 2025, 4424, 177, 1117, 1521, 5361, 2881, 4777, 2166, 198, 5877, 4684, 958, 3622, 6441, 5707, 6537, 5452, 5885, 2604, 3005, 6105, 5483, 4611, 2945, 2483, 3321, 3318, 5046, 5896, 3092, 370, 4050, 548, 4730, 6404, 594, 4724, 2345, 191, 4852, 3638, 2553, 3951, 2145, 586, 3461, 4946, 1812, 6049, 542, 4144, 2251, 5291, 5839, 3065, 1681, 1495, 3872, 6509, 3352, 2991, 1606, 4004, 6016, 378, 2102, 2236, 5771, 4993, 1374, 3010, 5204, 2282, 4288, 5281, 5109, 1695, 2349, 6523, 111, 2996, 2897, 4987, 506, 4421, 884, 5224, 2971, 1280, 4237, 2534, 5519, 4738, 2407, 1286, 3260, 2926, 354, 3740, 4326, 2898, 6323, 2985, 5188, 4822, 2223, 439, 1590, 4644, 5026, 31, 4128, 1873, 3346, 5011, 6377, 1742, 2308, 203, 5784, 3680, 3754, 3631, 4086, 3297, 3357, 1658, 6322, 3451, 5673, 510, 3919, 2411, 5892, 691, 1680, 6529, 6551, 608, 4814, 66, 4324, 1573, 4997, 4325, 1411, 3317, 796, 2148, 1584, 4610, 3392, 5616, 4761, 6060, 5485, 4802, 882, 2588, 1491, 1283, 423, 4234, 52, 2714, 6195, 4252, 3813, 5623, 1895, 5290, 2250, 225, 3256, 182, 4097, 3675, 6508, 2336, 5787, 1950, 3191, 5276, 1335, 2026, 1159, 3174, 6428, 2084, 1187, 3838, 5514, 2264, 3926, 3477, 343, 3166, 1048, 4185, 5198, 3927, 26, 4885, 75, 4832, 5544, 2165, 3457, 2243, 550, 4038, 3110, 2312, 886, 4988, 2397, 6097, 45, 6530, 188, 5642, 241, 2607, 3645, 2502, 1199, 2894, 4023, 3546, 6371, 3500, 3270, 4466, 636, 1134, 1339, 3144, 5369, 970, 3988, 4978, 603, 1580, 5120, 6140, 2276, 5806, 158, 271, 4656, 2192, 3554, 1682, 3788, 4186, 2391, 861, 6075, 2160, 266, 4479, 3225, 428, 4782, 2469, 5284, 1239, 2993, 3561, 4272, 4306, 2577, 4359, 1736, 19, 2322, 1958, 2408, 4254, 950, 1440, 132, 3994, 630, 4780, 3441, 5950, 5160, 6056, 4195, 3226, 5593, 5268, 3748, 4950, 4085, 3781, 6255, 3487, 4460, 845, 3349, 5270, 1778, 5352, 5181, 1924, 3594, 926, 6176, 4614, 6482, 4658, 3654, 6331, 3557, 6417, 272, 1731, 71, 4221, 3666, 3084, 4773, 4605, 1049, 5044, 5808, 6461, 4074, 2503, 3746, 3892, 5192, 3228, 2176, 2602, 1861, 2351, 2433, 2585, 1697, 1011, 6416, 4473, 3305, 1855, 240, 6053, 2776, 2813, 6522, 6332, 287, 1485, 2473, 1675, 3204, 612, 4955, 5563, 1196, 718, 4071, 1737, 2095, 5762, 5435, 1671, 2150, 6548, 2687, 5449, 3176, 5271, 3833, 1927, 5304, 5037, 3918, 3320, 3627, 5622, 912, 3785, 1616, 1776, 4647, 3971, 3637, 1247, 5891, 771, 316, 1738, 889, 2979, 4606, 5525, 4604, 6019, 2016, 4797, 6109, 2633, 5887, 5210, 3067, 3596, 3911, 4464, 126, 4914, 4370, 4824, 6414, 2603, 1747, 4467, 4138, 5233, 5114, 6352, 3981, 3025, 3013, 1281, 3843, 4189, 3079, 5881, 704, 2841, 1857, 2547, 5509, 2908, 3102, 1607, 3401, 3978, 6329, 3989, 1334, 1575, 3365, 4104, 2319, 6505, 5322, 1903, 2936, 4628, 3489, 6003, 2652, 230, 4352, 3848, 347, 1321, 918, 4711, 3416, 2075, 787, 3586, 1510, 2406, 4197, 5031, 5719, 2316, 2679, 3891, 3885, 5650, 3948, 2090, 5925, 4609, 5632, 799, 1112, 515, 2314, 4657, 6515, 5569, 2970, 711, 4051, 3563, 5649, 2730, 3064, 6116, 6344, 4305, 3613, 392, 6295, 6181, 683, 4035, 4008, 6041, 5063, 5534, 3130, 5324, 5866, 2039, 694, 5733, 2252, 627, 5059, 3867, 5425, 2152, 3458, 2061, 5651, 921, 5679, 5610, 4081, 2726, 2426, 1583, 4581, 6539, 3992, 3063, 3224, 283, 4135, 3985, 4365, 2107, 4567, 2739, 3042, 2990, 6409, 3123, 6028, 2641, 5917, 5560, 3112, 5542, 5126, 6157, 2272, 3264, 1081, 1009, 4602, 4098, 5127, 376, 4354, 5699, 2197, 3819, 4741, 1993, 3963, 4665, 1216, 5590, 2389, 3512, 4258, 1690, 3230, 2932, 4362, 2230, 1910, 3290, 3250, 4779, 2001, 4669, 3802, 531, 3386, 3354, 4667, 793, 2158, 3267, 5612, 3467, 3807, 161, 6126, 2114, 5775, 3870, 3534, 5609, 2946, 6526, 1115, 2847, 3414, 846, 2415, 2063, 4700, 3661, 6296, 2896, 5316, 4355, 5972, 5201, 3635, 1342, 781, 5619, 6284, 4870, 5209, 5886, 6208, 4569, 2220, 839, 6460, 4904, 2346, 1365, 2281, 6487, 2317, 1034, 535, 3887, 3245, 2446, 1613, 4498, 5755, 6165, 3652, 2818, 4956, 5778, 2681, 4930, 4399, 2501, 1243, 1987, 3914, 3976, 6112, 2432, 667, 1416, 969, 4553, 4613, 1845, 2918, 777, 394, 2275, 639, 5921, 1461, 5959, 6057, 2108, 776, 4303, 2029, 155, 4386, 6422, 786, 2964, 6058, 69, 3234, 923, 1287, 1409, 2999, 4796, 5805, 5767, 2450, 4113, 1709, 1932, 1528, 3615, 3959, 964, 2122, 4171, 5801, 995, 202, 6170, 1405, 1250, 560, 5681, 2833, 3580, 4545, 5941, 1242, 3008, 5343, 319, 1818, 282, 1750, 6432, 3333, 1124, 6518, 4972, 2690, 3915, 3793, 2385, 6547, 5451, 4388, 2365, 3171, 3626, 2761, 73, 6365, 3044, 5897, 3431, 3454, 6444, 1161, 3082, 4132, 5039, 2244, 4638, 5132, 4538, 5947, 3227, 5406, 3895, 1859, 2567, 3942, 3957, 5703, 4586, 3433, 3829, 6257, 4067, 5969, 4211, 6333, 3180, 6193, 4941, 3643, 5770, 6348, 1414, 2716, 4714, 4727, 2286, 1296, 1361, 4320, 4158, 70, 3037, 2437, 4943, 3733, 3302, 3832, 1443, 3456, 1269, 2698, 5629, 4507, 4269, 3108, 6271, 6087, 122, 3783, 2810, 4015, 2105, 2018, 4681, 2572, 6137, 6046, 5627, 1621, 1608, 3579, 3952, 4863, 4793, 705, 1917, 4636, 4551, 2694, 4737, 5847, 2466, 2667, 4136, 4084, 625, 3883, 1530, 4251, 3091, 2744, 5773, 5341, 4360, 2661, 5320, 4002, 5097, 3776, 1686, 4686, 2737, 669, 5025, 1840, 2764, 6489, 3716, 5698, 212, 1771, 1246, 3658, 927, 696, 4317, 2424, 4519, 2863, 3858, 808, 4947, 2111, 5364, 832, 4541, 5358, 6356, 1869, 4886, 2906, 1942, 1831, 5833, 1373, 877, 3294, 1668, 5505, 3096, 3834, 4014, 5690, 372, 1037, 2601, 2255, 2851, 5339, 127, 3816, 1262, 4927, 3293, 4331, 1432, 5844, 1256, 4633, 2471, 3479, 1788, 3142, 4336, 4775, 2324, 5256, 2227, 4966, 6217, 6106, 4176, 727, 3548, 2073, 5836, 4778, 1364, 5243, 2202, 4560, 1094, 5965, 3532, 3514, 5459, 5295, 2309, 3632, 5568, 5517, 536, 6538, 1014, 6486, 768, 3588, 273, 3301, 3669, 5559, 3824, 4057, 1624, 4402, 59, 5645, 3055, 2549, 873, 5057, 1705, 6382, 5803, 3961, 1464, 3284, 2198, 3135, 1444, 1702, 156, 3723, 4905, 5122, 4093, 4861, 2804, 6405, 398, 4070, 6032, 5884, 2525, 5617, 461, 2839, 1660, 1079, 341, 2104, 2821, 176, 6455, 154, 682, 441, 2879, 2691, 3109, 284, 4804, 4408, 1687, 4539, 1696, 2116, 4517, 4690, 1570, 5362, 5711, 4790, 788, 4308, 1933, 3518, 3656, 3769, 1991, 2989, 6512, 3385, 5895, 6222, 2341, 4224, 5289, 3004, 5669, 5115, 1597, 2893, 1908, 1746, 5447, 6238, 1171, 3210, 1849, 1252, 2263, 1997, 3022, 209, 4864, 6341, 2099, 3717, 2490, 1666, 1863, 2793, 5570, 3415, 5874, 5157, 5428, 3203, 4470, 6168, 5608, 2506, 2083, 1915, 4603, 800, 5779, 2328, 5832, 3017, 614, 1294, 3222, 1114, 505, 1519, 1921, 6192, 3766, 4416, 4850, 2802, 4471, 6130, 5689, 2163, 3760, 4543, 6043, 5856, 6160, 5720, 6288, 5142, 3567, 6091, 446, 1585, 5478, 4078, 1773, 4983, 3795, 3348, 5345, 1214, 4387, 5285, 3275, 1706, 3133, 678]\n",
      "test ids:  [0, 1, 2, 3, 4, 5, 6, 7, 8, 9, 10, 11, 12, 40, 81, 82, 83, 84, 85, 86, 87, 88, 89, 90, 91, 92, 93, 94, 120, 162, 163, 164, 165, 166, 167, 168, 169, 170, 171, 172, 173, 174, 175, 200, 243, 244, 245, 246, 247, 248, 249, 250, 251, 252, 253, 254, 255, 256, 257, 280, 324, 325, 326, 327, 328, 329, 330, 331, 332, 333, 334, 335, 336, 337, 338, 339, 360, 405, 406, 407, 408, 409, 410, 411, 412, 413, 414, 415, 416, 417, 418, 419, 420, 421, 440, 486, 487, 488, 489, 490, 491, 492, 493, 494, 495, 496, 497, 498, 499, 500, 501, 502, 520, 567, 568, 569, 570, 571, 572, 573, 574, 575, 576, 577, 578, 579, 580, 581, 582, 583, 584, 600, 648, 649, 650, 651, 652, 653, 654, 655, 656, 657, 658, 659, 660, 661, 662, 663, 664, 665, 666, 680, 729, 730, 731, 732, 733, 734, 735, 736, 737, 738, 739, 740, 741, 742, 743, 744, 745, 746, 747, 748, 760, 810, 811, 812, 813, 814, 815, 816, 817, 818, 819, 820, 821, 822, 823, 824, 825, 826, 827, 828, 829, 840, 891, 892, 893, 894, 895, 896, 897, 898, 899, 900, 901, 902, 903, 904, 905, 906, 907, 908, 909, 910, 911, 920, 972, 973, 974, 975, 976, 977, 978, 979, 980, 981, 982, 983, 984, 985, 986, 987, 988, 989, 990, 991, 992, 993, 1000, 1053, 1054, 1055, 1056, 1057, 1058, 1059, 1060, 1061, 1062, 1063, 1064, 1065, 1066, 1067, 1068, 1069, 1070, 1071, 1072, 1073, 1074, 1075, 1080, 1135, 1136, 1137, 1138, 1139, 1140, 1141, 1142, 1143, 1144, 1145, 1146, 1147, 1148, 1149, 1150, 1151, 1152, 1153, 1154, 1155, 1156, 1160, 1217, 1218, 1219, 1220, 1221, 1222, 1223, 1224, 1225, 1226, 1227, 1228, 1229, 1230, 1231, 1232, 1233, 1234, 1235, 1236, 1237, 1238, 1240, 1300, 1301, 1302, 1303, 1304, 1305, 1306, 1307, 1308, 1309, 1310, 1311, 1312, 1313, 1314, 1315, 1316, 1317, 1318, 1319, 1320, 1382, 1383, 1384, 1385, 1386, 1387, 1388, 1389, 1390, 1391, 1392, 1393, 1394, 1395, 1396, 1397, 1398, 1399, 1400, 1401, 1465, 1466, 1467, 1468, 1469, 1470, 1471, 1472, 1473, 1474, 1475, 1476, 1477, 1478, 1479, 1480, 1481, 1482, 1483, 1547, 1548, 1549, 1550, 1551, 1552, 1553, 1554, 1555, 1556, 1557, 1558, 1559, 1560, 1561, 1562, 1563, 1564, 1565, 1629, 1630, 1631, 1632, 1633, 1634, 1635, 1636, 1637, 1638, 1639, 1640, 1641, 1642, 1643, 1644, 1645, 1646, 1647, 1700, 1712, 1713, 1714, 1715, 1716, 1717, 1718, 1719, 1720, 1721, 1722, 1723, 1724, 1725, 1726, 1727, 1728, 1780, 1794, 1795, 1796, 1797, 1798, 1799, 1800, 1801, 1802, 1803, 1804, 1805, 1806, 1807, 1808, 1809, 1810, 1860, 1877, 1878, 1879, 1880, 1881, 1882, 1883, 1884, 1885, 1886, 1887, 1888, 1889, 1890, 1891, 1892, 1940, 1959, 1960, 1961, 1962, 1963, 1964, 1965, 1966, 1967, 1968, 1969, 1970, 1971, 1972, 1973, 1974, 2020, 2040, 2041, 2042, 2043, 2044, 2045, 2046, 2047, 2048, 2049, 2050, 2051, 2052, 2053, 2054, 2055, 2100, 2120, 2124, 2125, 2126, 2127, 2128, 2129, 2130, 2131, 2132, 2133, 2134, 2135, 2136, 2137, 2180, 2200, 2206, 2207, 2208, 2209, 2210, 2211, 2212, 2213, 2214, 2215, 2216, 2217, 2218, 2219, 2260, 2280, 2289, 2290, 2291, 2292, 2293, 2294, 2295, 2296, 2297, 2298, 2299, 2300, 2340, 2360, 2371, 2372, 2373, 2374, 2375, 2376, 2377, 2378, 2379, 2380, 2381, 2382, 2420, 2440, 2454, 2455, 2456, 2457, 2458, 2459, 2460, 2461, 2462, 2463, 2464, 2500, 2520, 2536, 2537, 2538, 2539, 2540, 2541, 2542, 2543, 2544, 2545, 2546, 2580, 2600, 2618, 2619, 2620, 2621, 2622, 2623, 2624, 2625, 2626, 2627, 2660, 2680, 2701, 2702, 2703, 2704, 2705, 2706, 2707, 2708, 2709, 2740, 2760, 2783, 2784, 2785, 2786, 2787, 2788, 2789, 2790, 2791, 2820, 2840, 2866, 2867, 2868, 2869, 2870, 2871, 2872, 2873, 2900, 2920, 2948, 2949, 2950, 2951, 2952, 2953, 2954, 2980, 3000, 3030, 3031, 3032, 3033, 3034, 3035, 3036, 3060, 3080, 3113, 3114, 3115, 3116, 3117, 3118, 3140, 3160, 3195, 3196, 3197, 3198, 3199, 3200, 3220, 3240, 3278, 3279, 3280, 3281, 3300, 3360, 3361, 3362, 3363, 3380, 3443, 3444, 3445, 3460, 3525, 3526, 3540, 3607, 3608, 3620, 3690, 3700, 3772, 3780, 3854, 3860, 3936, 3940, 4018, 4019, 4020, 4099, 4100, 4101, 4180, 4181, 4182, 4183, 4260, 4263, 4264, 4265, 4266, 4340, 4345, 4346, 4347, 4348, 4420, 4427, 4428, 4429, 4430, 4431, 4500, 4508, 4509, 4510, 4511, 4512, 4513, 4580, 4590, 4591, 4592, 4593, 4594, 4595, 4660, 4672, 4673, 4674, 4675, 4676, 4677, 4678, 4740, 4753, 4754, 4755, 4756, 4757, 4758, 4759, 4760, 4820, 4835, 4836, 4837, 4838, 4839, 4840, 4841, 4842, 4843, 4900, 4917, 4918, 4919, 4920, 4921, 4922, 4923, 4924, 4925, 4980, 4999, 5000, 5001, 5002, 5003, 5004, 5005, 5006, 5007, 5060, 5080, 5081, 5082, 5083, 5084, 5085, 5086, 5087, 5088, 5089, 5090, 5140, 5162, 5163, 5164, 5165, 5166, 5167, 5168, 5169, 5170, 5171, 5172, 5220, 5244, 5245, 5246, 5247, 5248, 5249, 5250, 5251, 5252, 5253, 5254, 5255, 5300, 5326, 5327, 5328, 5329, 5330, 5331, 5332, 5333, 5334, 5335, 5336, 5337, 5380, 5407, 5408, 5409, 5410, 5411, 5412, 5413, 5414, 5415, 5416, 5417, 5418, 5419, 5420, 5460, 5489, 5490, 5491, 5492, 5493, 5494, 5495, 5496, 5497, 5498, 5499, 5500, 5501, 5502, 5540, 5571, 5572, 5573, 5574, 5575, 5576, 5577, 5578, 5579, 5580, 5581, 5582, 5583, 5584, 5620, 5653, 5654, 5655, 5656, 5657, 5658, 5659, 5660, 5661, 5662, 5663, 5664, 5665, 5666, 5667, 5700, 5734, 5735, 5736, 5737, 5738, 5739, 5740, 5741, 5742, 5743, 5744, 5745, 5746, 5747, 5748, 5749, 5780, 5816, 5817, 5818, 5819, 5820, 5821, 5822, 5823, 5824, 5825, 5826, 5827, 5828, 5829, 5830, 5831, 5860, 5898, 5899, 5900, 5901, 5902, 5903, 5904, 5905, 5906, 5907, 5908, 5909, 5910, 5911, 5912, 5940, 5979, 5980, 5981, 5982, 5983, 5984, 5985, 5986, 5987, 5988, 5989, 5990, 5991, 5992, 5993, 6020, 6061, 6062, 6063, 6064, 6065, 6066, 6067, 6068, 6069, 6070, 6071, 6072, 6073, 6074, 6100, 6143, 6144, 6145, 6146, 6147, 6148, 6149, 6150, 6151, 6152, 6153, 6154, 6155, 6180, 6225, 6226, 6227, 6228, 6229, 6230, 6231, 6232, 6233, 6234, 6235, 6236, 6260, 6306, 6307, 6308, 6309, 6310, 6311, 6312, 6313, 6314, 6315, 6316, 6317, 6340, 6388, 6389, 6390, 6391, 6392, 6393, 6394, 6395, 6396, 6397, 6398, 6420, 6470, 6471, 6472, 6473, 6474, 6475, 6476, 6477, 6478, 6479, 6500, 6552, 6553, 6554, 6555, 6556, 6557, 6558, 6559, 6560]\n",
      "CPU times: user 195 ms, sys: 491 ms, total: 687 ms\n",
      "Wall time: 690 ms\n"
     ]
    }
   ],
   "source": [
    "%%time\n",
    "n_total = len(simulation.dataframe)\n",
    "n_train = len(simulation.dataframe[simulation.dataframe.type_of == \"train\"])\n",
    "n_val = len(simulation.dataframe[simulation.dataframe.type_of == \"val\"])\n",
    "n_test = len(simulation.dataframe[simulation.dataframe.type_of == \"test\"])\n",
    "n_train_hamiltonians = len(simulation.train_ids)\n",
    "n_val_hamiltonians = len(simulation.val_ids)\n",
    "n_test_hamiltonians = len(simulation.test_ids)\n",
    "n_total_hamiltonians = n_train_hamiltonians + n_val_hamiltonians + n_test_hamiltonians\n",
    "\n",
    "print(\"% train: \", n_train/n_total)\n",
    "print(\"% val: \",  n_val/n_total)\n",
    "print(\"% test: \", n_test/n_total)\n",
    "print(\"% train + val + test: \", (n_train+n_val+n_test)/n_total)\n",
    "print(\"\\n\")\n",
    "print(\"number of train hamiltonians: \", n_train_hamiltonians)\n",
    "print(\"number of val hamiltonians: \", n_val_hamiltonians)\n",
    "print(\"number of test hamiltonians: \", n_test_hamiltonians)\n",
    "print(\"total number of hamiltonians: \", n_total_hamiltonians)\n",
    "print(\"\\n\")\n",
    "print(\"train ids: \", simulation.train_ids)\n",
    "print(\"val ids: \", simulation.val_ids)\n",
    "print(\"test ids: \", simulation.test_ids)"
   ]
  },
  {
   "cell_type": "markdown",
   "metadata": {
    "papermill": {
     "duration": 0.175447,
     "end_time": "2020-07-18T18:31:41.769718",
     "exception": false,
     "start_time": "2020-07-18T18:31:41.594271",
     "status": "completed"
    },
    "tags": []
   },
   "source": [
    "#### Checking summaries"
   ]
  },
  {
   "cell_type": "code",
   "execution_count": 31,
   "metadata": {
    "execution": {
     "iopub.execute_input": "2020-07-18T18:31:42.302550Z",
     "iopub.status.busy": "2020-07-18T18:31:42.300839Z",
     "iopub.status.idle": "2020-07-18T18:31:42.750954Z",
     "shell.execute_reply": "2020-07-18T18:31:42.750545Z"
    },
    "papermill": {
     "duration": 0.602755,
     "end_time": "2020-07-18T18:31:42.751022",
     "exception": false,
     "start_time": "2020-07-18T18:31:42.148267",
     "status": "completed"
    },
    "tags": []
   },
   "outputs": [
    {
     "name": "stdout",
     "output_type": "stream",
     "text": [
      "length of ham_summary:  6561\n",
      "CPU times: user 207 µs, sys: 0 ns, total: 207 µs\n",
      "Wall time: 132 µs\n"
     ]
    },
    {
     "data": {
      "text/html": [
       "<div>\n",
       "<style scoped>\n",
       "    .dataframe tbody tr th:only-of-type {\n",
       "        vertical-align: middle;\n",
       "    }\n",
       "\n",
       "    .dataframe tbody tr th {\n",
       "        vertical-align: top;\n",
       "    }\n",
       "\n",
       "    .dataframe thead th {\n",
       "        text-align: right;\n",
       "    }\n",
       "</style>\n",
       "<table border=\"1\" class=\"dataframe\">\n",
       "  <thead>\n",
       "    <tr style=\"text-align: right;\">\n",
       "      <th></th>\n",
       "      <th>t1</th>\n",
       "      <th>t2</th>\n",
       "      <th>type_of</th>\n",
       "      <th>-1</th>\n",
       "      <th>0</th>\n",
       "      <th>1</th>\n",
       "      <th>2</th>\n",
       "      <th>phase</th>\n",
       "      <th>pred_phase</th>\n",
       "    </tr>\n",
       "    <tr>\n",
       "      <th>id</th>\n",
       "      <th></th>\n",
       "      <th></th>\n",
       "      <th></th>\n",
       "      <th></th>\n",
       "      <th></th>\n",
       "      <th></th>\n",
       "      <th></th>\n",
       "      <th></th>\n",
       "      <th></th>\n",
       "    </tr>\n",
       "  </thead>\n",
       "  <tbody>\n",
       "    <tr>\n",
       "      <th>0</th>\n",
       "      <td>-2.0</td>\n",
       "      <td>-2.00</td>\n",
       "      <td>test</td>\n",
       "      <td>0.12</td>\n",
       "      <td>0.42</td>\n",
       "      <td>0.31</td>\n",
       "      <td>0.15</td>\n",
       "      <td>999</td>\n",
       "      <td>0</td>\n",
       "    </tr>\n",
       "    <tr>\n",
       "      <th>1</th>\n",
       "      <td>-2.0</td>\n",
       "      <td>-1.95</td>\n",
       "      <td>test</td>\n",
       "      <td>0.10</td>\n",
       "      <td>0.46</td>\n",
       "      <td>0.29</td>\n",
       "      <td>0.15</td>\n",
       "      <td>-1</td>\n",
       "      <td>0</td>\n",
       "    </tr>\n",
       "    <tr>\n",
       "      <th>2</th>\n",
       "      <td>-2.0</td>\n",
       "      <td>-1.90</td>\n",
       "      <td>test</td>\n",
       "      <td>0.09</td>\n",
       "      <td>0.48</td>\n",
       "      <td>0.28</td>\n",
       "      <td>0.15</td>\n",
       "      <td>-1</td>\n",
       "      <td>0</td>\n",
       "    </tr>\n",
       "    <tr>\n",
       "      <th>3</th>\n",
       "      <td>-2.0</td>\n",
       "      <td>-1.85</td>\n",
       "      <td>test</td>\n",
       "      <td>0.12</td>\n",
       "      <td>0.40</td>\n",
       "      <td>0.36</td>\n",
       "      <td>0.12</td>\n",
       "      <td>-1</td>\n",
       "      <td>0</td>\n",
       "    </tr>\n",
       "    <tr>\n",
       "      <th>4</th>\n",
       "      <td>-2.0</td>\n",
       "      <td>-1.80</td>\n",
       "      <td>test</td>\n",
       "      <td>0.15</td>\n",
       "      <td>0.43</td>\n",
       "      <td>0.31</td>\n",
       "      <td>0.11</td>\n",
       "      <td>-1</td>\n",
       "      <td>0</td>\n",
       "    </tr>\n",
       "    <tr>\n",
       "      <th>...</th>\n",
       "      <td>...</td>\n",
       "      <td>...</td>\n",
       "      <td>...</td>\n",
       "      <td>...</td>\n",
       "      <td>...</td>\n",
       "      <td>...</td>\n",
       "      <td>...</td>\n",
       "      <td>...</td>\n",
       "      <td>...</td>\n",
       "    </tr>\n",
       "    <tr>\n",
       "      <th>6556</th>\n",
       "      <td>2.0</td>\n",
       "      <td>1.80</td>\n",
       "      <td>test</td>\n",
       "      <td>0.18</td>\n",
       "      <td>0.39</td>\n",
       "      <td>0.21</td>\n",
       "      <td>0.22</td>\n",
       "      <td>-1</td>\n",
       "      <td>0</td>\n",
       "    </tr>\n",
       "    <tr>\n",
       "      <th>6557</th>\n",
       "      <td>2.0</td>\n",
       "      <td>1.85</td>\n",
       "      <td>test</td>\n",
       "      <td>0.11</td>\n",
       "      <td>0.38</td>\n",
       "      <td>0.25</td>\n",
       "      <td>0.26</td>\n",
       "      <td>-1</td>\n",
       "      <td>0</td>\n",
       "    </tr>\n",
       "    <tr>\n",
       "      <th>6558</th>\n",
       "      <td>2.0</td>\n",
       "      <td>1.90</td>\n",
       "      <td>test</td>\n",
       "      <td>0.15</td>\n",
       "      <td>0.35</td>\n",
       "      <td>0.23</td>\n",
       "      <td>0.27</td>\n",
       "      <td>-1</td>\n",
       "      <td>0</td>\n",
       "    </tr>\n",
       "    <tr>\n",
       "      <th>6559</th>\n",
       "      <td>2.0</td>\n",
       "      <td>1.95</td>\n",
       "      <td>test</td>\n",
       "      <td>0.11</td>\n",
       "      <td>0.44</td>\n",
       "      <td>0.22</td>\n",
       "      <td>0.23</td>\n",
       "      <td>-1</td>\n",
       "      <td>0</td>\n",
       "    </tr>\n",
       "    <tr>\n",
       "      <th>6560</th>\n",
       "      <td>2.0</td>\n",
       "      <td>2.00</td>\n",
       "      <td>test</td>\n",
       "      <td>0.05</td>\n",
       "      <td>0.47</td>\n",
       "      <td>0.25</td>\n",
       "      <td>0.23</td>\n",
       "      <td>999</td>\n",
       "      <td>0</td>\n",
       "    </tr>\n",
       "  </tbody>\n",
       "</table>\n",
       "<p>6561 rows × 9 columns</p>\n",
       "</div>"
      ],
      "text/plain": [
       "       t1    t2 type_of    -1     0     1     2  phase  pred_phase\n",
       "id                                                                \n",
       "0    -2.0 -2.00    test  0.12  0.42  0.31  0.15    999           0\n",
       "1    -2.0 -1.95    test  0.10  0.46  0.29  0.15     -1           0\n",
       "2    -2.0 -1.90    test  0.09  0.48  0.28  0.15     -1           0\n",
       "3    -2.0 -1.85    test  0.12  0.40  0.36  0.12     -1           0\n",
       "4    -2.0 -1.80    test  0.15  0.43  0.31  0.11     -1           0\n",
       "...   ...   ...     ...   ...   ...   ...   ...    ...         ...\n",
       "6556  2.0  1.80    test  0.18  0.39  0.21  0.22     -1           0\n",
       "6557  2.0  1.85    test  0.11  0.38  0.25  0.26     -1           0\n",
       "6558  2.0  1.90    test  0.15  0.35  0.23  0.27     -1           0\n",
       "6559  2.0  1.95    test  0.11  0.44  0.22  0.23     -1           0\n",
       "6560  2.0  2.00    test  0.05  0.47  0.25  0.23    999           0\n",
       "\n",
       "[6561 rows x 9 columns]"
      ]
     },
     "execution_count": 31,
     "metadata": {},
     "output_type": "execute_result"
    }
   ],
   "source": [
    "%%time\n",
    "ham_summary = simulation.hamiltonian_summary\n",
    "print(\"length of ham_summary: \", len(ham_summary))\n",
    "ham_summary"
   ]
  },
  {
   "cell_type": "code",
   "execution_count": 32,
   "metadata": {
    "execution": {
     "iopub.execute_input": "2020-07-18T18:31:42.915220Z",
     "iopub.status.busy": "2020-07-18T18:31:42.914749Z",
     "iopub.status.idle": "2020-07-18T18:31:43.212148Z",
     "shell.execute_reply": "2020-07-18T18:31:43.211813Z"
    },
    "papermill": {
     "duration": 0.422484,
     "end_time": "2020-07-18T18:31:43.212201",
     "exception": false,
     "start_time": "2020-07-18T18:31:42.789717",
     "status": "completed"
    },
    "tags": []
   },
   "outputs": [
    {
     "data": {
      "text/html": [
       "<div>\n",
       "<style scoped>\n",
       "    .dataframe tbody tr th:only-of-type {\n",
       "        vertical-align: middle;\n",
       "    }\n",
       "\n",
       "    .dataframe tbody tr th {\n",
       "        vertical-align: top;\n",
       "    }\n",
       "\n",
       "    .dataframe thead th {\n",
       "        text-align: right;\n",
       "    }\n",
       "</style>\n",
       "<table border=\"1\" class=\"dataframe\">\n",
       "  <thead>\n",
       "    <tr style=\"text-align: right;\">\n",
       "      <th></th>\n",
       "      <th>t1</th>\n",
       "      <th>t2</th>\n",
       "      <th>-1</th>\n",
       "      <th>0</th>\n",
       "      <th>1</th>\n",
       "      <th>2</th>\n",
       "      <th>phase</th>\n",
       "      <th>pred_phase</th>\n",
       "    </tr>\n",
       "  </thead>\n",
       "  <tbody>\n",
       "    <tr>\n",
       "      <th>count</th>\n",
       "      <td>6561.000000</td>\n",
       "      <td>6.561000e+03</td>\n",
       "      <td>6561.000000</td>\n",
       "      <td>6561.000000</td>\n",
       "      <td>6561.000000</td>\n",
       "      <td>6561.000000</td>\n",
       "      <td>6561.000000</td>\n",
       "      <td>6561.000000</td>\n",
       "    </tr>\n",
       "    <tr>\n",
       "      <th>mean</th>\n",
       "      <td>0.000000</td>\n",
       "      <td>-4.331917e-18</td>\n",
       "      <td>0.168019</td>\n",
       "      <td>0.339569</td>\n",
       "      <td>0.324723</td>\n",
       "      <td>0.167689</td>\n",
       "      <td>28.045877</td>\n",
       "      <td>0.479043</td>\n",
       "    </tr>\n",
       "    <tr>\n",
       "      <th>std</th>\n",
       "      <td>1.169134</td>\n",
       "      <td>1.169134e+00</td>\n",
       "      <td>0.310786</td>\n",
       "      <td>0.392521</td>\n",
       "      <td>0.391107</td>\n",
       "      <td>0.309542</td>\n",
       "      <td>163.557011</td>\n",
       "      <td>0.967724</td>\n",
       "    </tr>\n",
       "    <tr>\n",
       "      <th>min</th>\n",
       "      <td>-2.000000</td>\n",
       "      <td>-2.000000e+00</td>\n",
       "      <td>0.000000</td>\n",
       "      <td>0.000000</td>\n",
       "      <td>0.000000</td>\n",
       "      <td>0.000000</td>\n",
       "      <td>-1.000000</td>\n",
       "      <td>-1.000000</td>\n",
       "    </tr>\n",
       "    <tr>\n",
       "      <th>25%</th>\n",
       "      <td>-1.000000</td>\n",
       "      <td>-1.000000e+00</td>\n",
       "      <td>0.000000</td>\n",
       "      <td>0.000000</td>\n",
       "      <td>0.000000</td>\n",
       "      <td>0.000000</td>\n",
       "      <td>0.000000</td>\n",
       "      <td>0.000000</td>\n",
       "    </tr>\n",
       "    <tr>\n",
       "      <th>50%</th>\n",
       "      <td>0.000000</td>\n",
       "      <td>0.000000e+00</td>\n",
       "      <td>0.020000</td>\n",
       "      <td>0.120000</td>\n",
       "      <td>0.120000</td>\n",
       "      <td>0.020000</td>\n",
       "      <td>1.000000</td>\n",
       "      <td>0.000000</td>\n",
       "    </tr>\n",
       "    <tr>\n",
       "      <th>75%</th>\n",
       "      <td>1.000000</td>\n",
       "      <td>1.000000e+00</td>\n",
       "      <td>0.100000</td>\n",
       "      <td>0.810000</td>\n",
       "      <td>0.800000</td>\n",
       "      <td>0.110000</td>\n",
       "      <td>1.000000</td>\n",
       "      <td>1.000000</td>\n",
       "    </tr>\n",
       "    <tr>\n",
       "      <th>max</th>\n",
       "      <td>2.000000</td>\n",
       "      <td>2.000000e+00</td>\n",
       "      <td>1.000000</td>\n",
       "      <td>1.000000</td>\n",
       "      <td>1.000000</td>\n",
       "      <td>1.000000</td>\n",
       "      <td>999.000000</td>\n",
       "      <td>2.000000</td>\n",
       "    </tr>\n",
       "  </tbody>\n",
       "</table>\n",
       "</div>"
      ],
      "text/plain": [
       "                t1            t2           -1            0            1  \\\n",
       "count  6561.000000  6.561000e+03  6561.000000  6561.000000  6561.000000   \n",
       "mean      0.000000 -4.331917e-18     0.168019     0.339569     0.324723   \n",
       "std       1.169134  1.169134e+00     0.310786     0.392521     0.391107   \n",
       "min      -2.000000 -2.000000e+00     0.000000     0.000000     0.000000   \n",
       "25%      -1.000000 -1.000000e+00     0.000000     0.000000     0.000000   \n",
       "50%       0.000000  0.000000e+00     0.020000     0.120000     0.120000   \n",
       "75%       1.000000  1.000000e+00     0.100000     0.810000     0.800000   \n",
       "max       2.000000  2.000000e+00     1.000000     1.000000     1.000000   \n",
       "\n",
       "                 2        phase   pred_phase  \n",
       "count  6561.000000  6561.000000  6561.000000  \n",
       "mean      0.167689    28.045877     0.479043  \n",
       "std       0.309542   163.557011     0.967724  \n",
       "min       0.000000    -1.000000    -1.000000  \n",
       "25%       0.000000     0.000000     0.000000  \n",
       "50%       0.020000     1.000000     0.000000  \n",
       "75%       0.110000     1.000000     1.000000  \n",
       "max       1.000000   999.000000     2.000000  "
      ]
     },
     "execution_count": 32,
     "metadata": {},
     "output_type": "execute_result"
    }
   ],
   "source": [
    "ham_summary.describe()"
   ]
  },
  {
   "cell_type": "code",
   "execution_count": 33,
   "metadata": {
    "execution": {
     "iopub.execute_input": "2020-07-18T18:31:43.389965Z",
     "iopub.status.busy": "2020-07-18T18:31:43.387142Z",
     "iopub.status.idle": "2020-07-18T18:31:44.405361Z",
     "shell.execute_reply": "2020-07-18T18:31:44.403845Z"
    },
    "papermill": {
     "duration": 1.154962,
     "end_time": "2020-07-18T18:31:44.405621",
     "exception": false,
     "start_time": "2020-07-18T18:31:43.250659",
     "status": "completed"
    },
    "tags": []
   },
   "outputs": [
    {
     "name": "stdout",
     "output_type": "stream",
     "text": [
      "length of ham_summary:  656100\n"
     ]
    },
    {
     "data": {
      "text/html": [
       "<div>\n",
       "<style scoped>\n",
       "    .dataframe tbody tr th:only-of-type {\n",
       "        vertical-align: middle;\n",
       "    }\n",
       "\n",
       "    .dataframe tbody tr th {\n",
       "        vertical-align: top;\n",
       "    }\n",
       "\n",
       "    .dataframe thead th {\n",
       "        text-align: right;\n",
       "    }\n",
       "</style>\n",
       "<table border=\"1\" class=\"dataframe\">\n",
       "  <thead>\n",
       "    <tr style=\"text-align: right;\">\n",
       "      <th></th>\n",
       "      <th>id</th>\n",
       "      <th>phase</th>\n",
       "      <th>pred_phase</th>\n",
       "      <th>type_of</th>\n",
       "    </tr>\n",
       "  </thead>\n",
       "  <tbody>\n",
       "    <tr>\n",
       "      <th>0</th>\n",
       "      <td>0</td>\n",
       "      <td>999</td>\n",
       "      <td>-1</td>\n",
       "      <td>test</td>\n",
       "    </tr>\n",
       "    <tr>\n",
       "      <th>1</th>\n",
       "      <td>0</td>\n",
       "      <td>999</td>\n",
       "      <td>-1</td>\n",
       "      <td>test</td>\n",
       "    </tr>\n",
       "    <tr>\n",
       "      <th>2</th>\n",
       "      <td>0</td>\n",
       "      <td>999</td>\n",
       "      <td>2</td>\n",
       "      <td>test</td>\n",
       "    </tr>\n",
       "    <tr>\n",
       "      <th>3</th>\n",
       "      <td>0</td>\n",
       "      <td>999</td>\n",
       "      <td>1</td>\n",
       "      <td>test</td>\n",
       "    </tr>\n",
       "    <tr>\n",
       "      <th>4</th>\n",
       "      <td>0</td>\n",
       "      <td>999</td>\n",
       "      <td>0</td>\n",
       "      <td>test</td>\n",
       "    </tr>\n",
       "    <tr>\n",
       "      <th>...</th>\n",
       "      <td>...</td>\n",
       "      <td>...</td>\n",
       "      <td>...</td>\n",
       "      <td>...</td>\n",
       "    </tr>\n",
       "    <tr>\n",
       "      <th>656095</th>\n",
       "      <td>6560</td>\n",
       "      <td>999</td>\n",
       "      <td>0</td>\n",
       "      <td>test</td>\n",
       "    </tr>\n",
       "    <tr>\n",
       "      <th>656096</th>\n",
       "      <td>6560</td>\n",
       "      <td>999</td>\n",
       "      <td>2</td>\n",
       "      <td>test</td>\n",
       "    </tr>\n",
       "    <tr>\n",
       "      <th>656097</th>\n",
       "      <td>6560</td>\n",
       "      <td>999</td>\n",
       "      <td>2</td>\n",
       "      <td>test</td>\n",
       "    </tr>\n",
       "    <tr>\n",
       "      <th>656098</th>\n",
       "      <td>6560</td>\n",
       "      <td>999</td>\n",
       "      <td>0</td>\n",
       "      <td>test</td>\n",
       "    </tr>\n",
       "    <tr>\n",
       "      <th>656099</th>\n",
       "      <td>6560</td>\n",
       "      <td>999</td>\n",
       "      <td>0</td>\n",
       "      <td>test</td>\n",
       "    </tr>\n",
       "  </tbody>\n",
       "</table>\n",
       "<p>656100 rows × 4 columns</p>\n",
       "</div>"
      ],
      "text/plain": [
       "          id  phase  pred_phase type_of\n",
       "0          0    999          -1    test\n",
       "1          0    999          -1    test\n",
       "2          0    999           2    test\n",
       "3          0    999           1    test\n",
       "4          0    999           0    test\n",
       "...      ...    ...         ...     ...\n",
       "656095  6560    999           0    test\n",
       "656096  6560    999           2    test\n",
       "656097  6560    999           2    test\n",
       "656098  6560    999           0    test\n",
       "656099  6560    999           0    test\n",
       "\n",
       "[656100 rows x 4 columns]"
      ]
     },
     "execution_count": 33,
     "metadata": {},
     "output_type": "execute_result"
    }
   ],
   "source": [
    "eigen_summary = simulation.eigenvector_summary\n",
    "print(\"length of ham_summary: \", len(eigen_summary))\n",
    "eigen_summary"
   ]
  },
  {
   "cell_type": "markdown",
   "metadata": {
    "papermill": {
     "duration": 0.285127,
     "end_time": "2020-07-18T18:31:44.730699",
     "exception": false,
     "start_time": "2020-07-18T18:31:44.445572",
     "status": "completed"
    },
    "tags": []
   },
   "source": [
    "#### Checking accuracies"
   ]
  },
  {
   "cell_type": "code",
   "execution_count": 34,
   "metadata": {
    "execution": {
     "iopub.execute_input": "2020-07-18T18:31:45.163979Z",
     "iopub.status.busy": "2020-07-18T18:31:45.162270Z",
     "iopub.status.idle": "2020-07-18T18:31:45.826961Z",
     "shell.execute_reply": "2020-07-18T18:31:45.828810Z"
    },
    "papermill": {
     "duration": 0.838077,
     "end_time": "2020-07-18T18:31:45.829115",
     "exception": false,
     "start_time": "2020-07-18T18:31:44.991038",
     "status": "completed"
    },
    "tags": []
   },
   "outputs": [
    {
     "data": {
      "text/plain": [
       "{'eigenvector_train': 0.9992321622600507,\n",
       " 'eigenvector_val': 0.8202355072463768,\n",
       " 'eigenvector_test': 0.41244470314318976,\n",
       " 'hamiltonian_train': 1.0,\n",
       " 'hamiltonian_val': 0.9956521739130435,\n",
       " 'hamiltonian_test': 0.5797438882421421}"
      ]
     },
     "execution_count": 34,
     "metadata": {},
     "output_type": "execute_result"
    }
   ],
   "source": [
    "simulation.accuracy"
   ]
  },
  {
   "cell_type": "markdown",
   "metadata": {
    "papermill": {
     "duration": 0.039747,
     "end_time": "2020-07-18T18:31:45.943272",
     "exception": false,
     "start_time": "2020-07-18T18:31:45.903525",
     "status": "completed"
    },
    "tags": []
   },
   "source": [
    "#### Checking data stored in  memory"
   ]
  },
  {
   "cell_type": "code",
   "execution_count": 35,
   "metadata": {
    "execution": {
     "iopub.execute_input": "2020-07-18T18:31:46.121662Z",
     "iopub.status.busy": "2020-07-18T18:31:46.121279Z",
     "iopub.status.idle": "2020-07-18T18:31:46.158838Z",
     "shell.execute_reply": "2020-07-18T18:31:46.158514Z"
    },
    "papermill": {
     "duration": 0.101833,
     "end_time": "2020-07-18T18:31:46.158891",
     "exception": false,
     "start_time": "2020-07-18T18:31:46.057058",
     "status": "completed"
    },
    "tags": []
   },
   "outputs": [
    {
     "data": {
      "text/plain": [
       "[]"
      ]
     },
     "execution_count": 35,
     "metadata": {},
     "output_type": "execute_result"
    }
   ],
   "source": [
    "ham_summary_list = simulation.hamiltonian_summary_list\n",
    "ham_summary_list"
   ]
  },
  {
   "cell_type": "code",
   "execution_count": 36,
   "metadata": {
    "execution": {
     "iopub.execute_input": "2020-07-18T18:31:46.245988Z",
     "iopub.status.busy": "2020-07-18T18:31:46.245672Z",
     "iopub.status.idle": "2020-07-18T18:31:46.970726Z",
     "shell.execute_reply": "2020-07-18T18:31:46.968839Z"
    },
    "papermill": {
     "duration": 0.772957,
     "end_time": "2020-07-18T18:31:46.970989",
     "exception": false,
     "start_time": "2020-07-18T18:31:46.198032",
     "status": "completed"
    },
    "tags": []
   },
   "outputs": [
    {
     "data": {
      "text/plain": [
       "[]"
      ]
     },
     "execution_count": 36,
     "metadata": {},
     "output_type": "execute_result"
    }
   ],
   "source": [
    "eigen_summary_list = simulation.eigenvector_summary_list\n",
    "eigen_summary_list"
   ]
  },
  {
   "cell_type": "code",
   "execution_count": 37,
   "metadata": {
    "execution": {
     "iopub.execute_input": "2020-07-18T18:31:47.173402Z",
     "iopub.status.busy": "2020-07-18T18:31:47.171626Z",
     "iopub.status.idle": "2020-07-18T18:31:48.004109Z",
     "shell.execute_reply": "2020-07-18T18:31:48.002329Z"
    },
    "papermill": {
     "duration": 0.993185,
     "end_time": "2020-07-18T18:31:48.004365",
     "exception": false,
     "start_time": "2020-07-18T18:31:47.011180",
     "status": "completed"
    },
    "tags": []
   },
   "outputs": [
    {
     "data": {
      "text/plain": [
       "{'eigenvector_train': [],\n",
       " 'eigenvector_val': [],\n",
       " 'eigenvector_test': [],\n",
       " 'hamiltonian_train': [],\n",
       " 'hamiltonian_val': [],\n",
       " 'hamiltonian_test': []}"
      ]
     },
     "execution_count": 37,
     "metadata": {},
     "output_type": "execute_result"
    }
   ],
   "source": [
    "accuracy_list = simulation.accuracy_list\n",
    "accuracy_list"
   ]
  },
  {
   "cell_type": "code",
   "execution_count": null,
   "metadata": {
    "papermill": {
     "duration": 0.10964,
     "end_time": "2020-07-18T18:31:48.153937",
     "exception": false,
     "start_time": "2020-07-18T18:31:48.044297",
     "status": "completed"
    },
    "tags": []
   },
   "outputs": [],
   "source": []
  },
  {
   "cell_type": "code",
   "execution_count": null,
   "metadata": {
    "papermill": {
     "duration": 5.982257,
     "end_time": "2020-07-18T18:31:55.811545",
     "exception": false,
     "start_time": "2020-07-18T18:31:49.829288",
     "status": "completed"
    },
    "tags": []
   },
   "outputs": [],
   "source": []
  },
  {
   "cell_type": "code",
   "execution_count": 38,
   "metadata": {
    "execution": {
     "iopub.execute_input": "2020-07-18T18:31:56.653982Z",
     "iopub.status.busy": "2020-07-18T18:31:56.651912Z",
     "iopub.status.idle": "2020-07-18T18:31:56.664945Z",
     "shell.execute_reply": "2020-07-18T18:31:56.664618Z"
    },
    "papermill": {
     "duration": 0.221681,
     "end_time": "2020-07-18T18:31:56.664997",
     "exception": false,
     "start_time": "2020-07-18T18:31:56.443316",
     "status": "completed"
    },
    "tags": []
   },
   "outputs": [],
   "source": [
    "#simulation.fourier_matrix"
   ]
  },
  {
   "cell_type": "code",
   "execution_count": 39,
   "metadata": {
    "execution": {
     "iopub.execute_input": "2020-07-18T18:31:57.402579Z",
     "iopub.status.busy": "2020-07-18T18:31:57.400891Z",
     "iopub.status.idle": "2020-07-18T18:31:57.757404Z",
     "shell.execute_reply": "2020-07-18T18:31:57.755567Z"
    },
    "papermill": {
     "duration": 0.661526,
     "end_time": "2020-07-18T18:31:57.757656",
     "exception": false,
     "start_time": "2020-07-18T18:31:57.096130",
     "status": "completed"
    },
    "tags": []
   },
   "outputs": [],
   "source": [
    "#simulation.fourier_matrix.shape"
   ]
  },
  {
   "cell_type": "code",
   "execution_count": 40,
   "metadata": {
    "execution": {
     "iopub.execute_input": "2020-07-18T18:31:58.005879Z",
     "iopub.status.busy": "2020-07-18T18:31:58.004972Z",
     "iopub.status.idle": "2020-07-18T18:31:58.191128Z",
     "shell.execute_reply": "2020-07-18T18:31:58.190778Z"
    },
    "papermill": {
     "duration": 0.369686,
     "end_time": "2020-07-18T18:31:58.191181",
     "exception": false,
     "start_time": "2020-07-18T18:31:57.821495",
     "status": "completed"
    },
    "tags": []
   },
   "outputs": [],
   "source": [
    "#simulation.fourier_matrix[:,0]"
   ]
  },
  {
   "cell_type": "code",
   "execution_count": 41,
   "metadata": {
    "execution": {
     "iopub.execute_input": "2020-07-18T18:31:58.500813Z",
     "iopub.status.busy": "2020-07-18T18:31:58.499067Z",
     "iopub.status.idle": "2020-07-18T18:31:58.536685Z",
     "shell.execute_reply": "2020-07-18T18:31:58.537383Z"
    },
    "papermill": {
     "duration": 0.306766,
     "end_time": "2020-07-18T18:31:58.537518",
     "exception": false,
     "start_time": "2020-07-18T18:31:58.230752",
     "status": "completed"
    },
    "tags": []
   },
   "outputs": [],
   "source": [
    "#simulation.fourier_matrix[:,1]"
   ]
  },
  {
   "cell_type": "code",
   "execution_count": 42,
   "metadata": {
    "execution": {
     "iopub.execute_input": "2020-07-18T18:31:58.991276Z",
     "iopub.status.busy": "2020-07-18T18:31:58.989474Z",
     "iopub.status.idle": "2020-07-18T18:31:59.681779Z",
     "shell.execute_reply": "2020-07-18T18:31:59.680225Z"
    },
    "papermill": {
     "duration": 0.880825,
     "end_time": "2020-07-18T18:31:59.682039",
     "exception": false,
     "start_time": "2020-07-18T18:31:58.801214",
     "status": "completed"
    },
    "tags": []
   },
   "outputs": [],
   "source": [
    "#np.exp(-1j*2*np.pi*3/100)"
   ]
  },
  {
   "cell_type": "code",
   "execution_count": 43,
   "metadata": {
    "execution": {
     "iopub.execute_input": "2020-07-18T18:32:00.088631Z",
     "iopub.status.busy": "2020-07-18T18:32:00.086838Z",
     "iopub.status.idle": "2020-07-18T18:32:00.900062Z",
     "shell.execute_reply": "2020-07-18T18:32:00.898288Z"
    },
    "papermill": {
     "duration": 1.141338,
     "end_time": "2020-07-18T18:32:00.900313",
     "exception": false,
     "start_time": "2020-07-18T18:31:59.758975",
     "status": "completed"
    },
    "tags": []
   },
   "outputs": [],
   "source": [
    "#for i in range(1,50):\n",
    "#    print(\"\\n\")\n",
    "#    print(i)\n",
    "#    print(np.sum((np.real(simulation.fourier_matrix[:,i]) - np.real(simulation.fourier_matrix[:,-i]))**2))\n",
    "#    print(np.sum((np.imag(simulation.fourier_matrix[:,i])+ np.imag(simulation.fourier_matrix[:,-i]))**2))"
   ]
  },
  {
   "cell_type": "code",
   "execution_count": 44,
   "metadata": {
    "execution": {
     "iopub.execute_input": "2020-07-18T18:32:00.982301Z",
     "iopub.status.busy": "2020-07-18T18:32:00.981992Z",
     "iopub.status.idle": "2020-07-18T18:32:01.234145Z",
     "shell.execute_reply": "2020-07-18T18:32:01.232307Z"
    },
    "papermill": {
     "duration": 0.293343,
     "end_time": "2020-07-18T18:32:01.234398",
     "exception": false,
     "start_time": "2020-07-18T18:32:00.941055",
     "status": "completed"
    },
    "tags": []
   },
   "outputs": [],
   "source": [
    "#print(simulation.fourier_matrix[:,0])"
   ]
  },
  {
   "cell_type": "code",
   "execution_count": 45,
   "metadata": {
    "execution": {
     "iopub.execute_input": "2020-07-18T18:32:01.350445Z",
     "iopub.status.busy": "2020-07-18T18:32:01.350136Z",
     "iopub.status.idle": "2020-07-18T18:32:01.359988Z",
     "shell.execute_reply": "2020-07-18T18:32:01.359657Z"
    },
    "papermill": {
     "duration": 0.050826,
     "end_time": "2020-07-18T18:32:01.360040",
     "exception": false,
     "start_time": "2020-07-18T18:32:01.309214",
     "status": "completed"
    },
    "tags": []
   },
   "outputs": [],
   "source": [
    "#print(simulation.fourier_matrix[:,50])"
   ]
  },
  {
   "cell_type": "code",
   "execution_count": null,
   "metadata": {
    "papermill": {
     "duration": 0.175038,
     "end_time": "2020-07-18T18:32:01.844141",
     "exception": false,
     "start_time": "2020-07-18T18:32:01.669103",
     "status": "completed"
    },
    "tags": []
   },
   "outputs": [],
   "source": []
  }
 ],
 "metadata": {
  "celltoolbar": "Tags",
  "kernelspec": {
   "display_name": "ml_top_phases",
   "language": "python",
   "name": "ml_top_phases"
  },
  "language_info": {
   "codemirror_mode": {
    "name": "ipython",
    "version": 3
   },
   "file_extension": ".py",
   "mimetype": "text/x-python",
   "name": "python",
   "nbconvert_exporter": "python",
   "pygments_lexer": "ipython3",
   "version": "3.6.10"
  },
  "papermill": {
   "duration": 2043.164475,
   "end_time": "2020-07-18T18:32:02.255981",
   "environment_variables": {},
   "exception": null,
   "input_path": "0_simulation_template.ipynb",
   "output_path": "zzz_ssh2_dst_best_12_wavevector_sites_from_best_12_real_space_sites_simulation_notebook.ipynb",
   "parameters": {
    "allowed_windings": [
     -1,
     0,
     1,
     2
    ],
    "csv_path": "/home/rio/ssh_csvs/ssh2/periodic_100_6561.csv",
    "features_to_use": [
     0,
     1,
     2,
     3,
     4,
     5,
     6,
     7,
     46,
     48,
     49,
     50
    ],
    "fit_params": null,
    "fourier_features_to_use": [
     0,
     1,
     2,
     3,
     4,
     5,
     43,
     44,
     45,
     46,
     47,
     48
    ],
    "fourier_fillna": false,
    "fourier_mode": "dst",
    "fourier_normalize": false,
    "fourier_real": null,
    "model_kw": {
     "criterion": "entropy",
     "n_estimators": 25,
     "n_jobs": -1
    },
    "model_name": "RandomForestClassifier",
    "n_experiments": 100,
    "pred_params": null,
    "random_features": false,
    "random_state": 2020,
    "save_accuracy": true,
    "save_eigenvector": true,
    "save_hamiltonian": true,
    "save_models": true,
    "shuffle_features": false,
    "shuffle_rows": true,
    "simulation_dir": "/home/rio/ssh_simulations/ssh2/periodic_100_6561/dst_best_12_wavevector_sites_from_best_12_real_space_sites",
    "start_n": 0,
    "store_in_lists": false,
    "val_split": 0.5
   },
   "start_time": "2020-07-18T17:57:59.091506",
   "version": "2.1.0"
  }
 },
 "nbformat": 4,
 "nbformat_minor": 2
}