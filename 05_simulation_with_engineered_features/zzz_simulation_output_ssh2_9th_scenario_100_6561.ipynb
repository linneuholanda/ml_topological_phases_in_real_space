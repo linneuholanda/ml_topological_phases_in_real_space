{
 "cells": [
  {
   "cell_type": "markdown",
   "metadata": {
    "papermill": {
     "duration": 0.047107,
     "end_time": "2020-07-10T01:52:44.686726",
     "exception": false,
     "start_time": "2020-07-10T01:52:44.639619",
     "status": "completed"
    },
    "tags": []
   },
   "source": [
    "# Simulation template \n",
    "\n",
    "In this notebook we run the machine learning analysis of topological phase transitions occurring  in both nearest-neighbours SSH models (ssh1) and second neighbours models (ssh2) as decribed in the paper [Machine learning topological phases in real space](https://arxiv.org/abs/1901.01963). Here the simulation is run with features generated from fourier components in the first scenario. This scenario is characterized by using only the EVEN wavevector space eigenmodes, computed from ALL real space components."
   ]
  },
  {
   "cell_type": "markdown",
   "metadata": {
    "papermill": {
     "duration": 0.01518,
     "end_time": "2020-07-10T01:52:44.720785",
     "exception": false,
     "start_time": "2020-07-10T01:52:44.705605",
     "status": "completed"
    },
    "tags": []
   },
   "source": [
    "## Defining parameters"
   ]
  },
  {
   "cell_type": "code",
   "execution_count": 1,
   "metadata": {
    "execution": {
     "iopub.execute_input": "2020-07-10T01:52:44.755173Z",
     "iopub.status.busy": "2020-07-10T01:52:44.754841Z",
     "iopub.status.idle": "2020-07-10T01:52:45.396673Z",
     "shell.execute_reply": "2020-07-10T01:52:45.397084Z"
    },
    "papermill": {
     "duration": 0.661158,
     "end_time": "2020-07-10T01:52:45.397170",
     "exception": false,
     "start_time": "2020-07-10T01:52:44.736012",
     "status": "completed"
    },
    "tags": []
   },
   "outputs": [
    {
     "name": "stdout",
     "output_type": "stream",
     "text": [
      "CPU times: user 826 ms, sys: 234 ms, total: 1.06 s\n",
      "Wall time: 633 ms\n"
     ]
    }
   ],
   "source": [
    "%%time\n",
    "%load_ext autoreload\n",
    "%autoreload 2\n",
    "from simulation import *"
   ]
  },
  {
   "cell_type": "code",
   "execution_count": 2,
   "metadata": {
    "execution": {
     "iopub.execute_input": "2020-07-10T01:52:45.433485Z",
     "iopub.status.busy": "2020-07-10T01:52:45.433132Z",
     "iopub.status.idle": "2020-07-10T01:52:45.447214Z",
     "shell.execute_reply": "2020-07-10T01:52:45.446815Z"
    },
    "papermill": {
     "duration": 0.033509,
     "end_time": "2020-07-10T01:52:45.447275",
     "exception": false,
     "start_time": "2020-07-10T01:52:45.413766",
     "status": "completed"
    },
    "tags": [
     "parameters"
    ]
   },
   "outputs": [
    {
     "name": "stdout",
     "output_type": "stream",
     "text": [
      "CPU times: user 4 µs, sys: 1e+03 ns, total: 5 µs\n",
      "Wall time: 7.15 µs\n"
     ]
    }
   ],
   "source": [
    "%%time\n",
    "### Dataset and simulation parameters\n",
    "#csv_path = SSH2_PERIODIC_100_6561_CSV \n",
    "csv_path = SSH1_PERIODIC_100_6561_CSV \n",
    "model_name = \"DecisionTreeClassifier\"\n",
    "model_kw = {\"criterion\":\"entropy\"}\n",
    "allowed_windings = [0,1]\n",
    "#allowed_windings = [-1,0,1,2]\n",
    "simulation_dir = SSH1_PERIODIC_1ST_SCENARIO_100_6561_SIMULATION_DIR\n",
    "#simulation_dir = SSH2_PERIODIC_ENGINEERED_100_6561_SIMULATION_DIR\n",
    "val_split = 0.9  \n",
    "features_to_use = None\n",
    "shuffle_features = False\n",
    "random_state = 763\n",
    "\n",
    "### Fourier features\n",
    "fourier_mode = \"dft\"\n",
    "fourier_features_to_use = None\n",
    "fourier_real = \"real\"\n",
    "fourier_normalize = True\n",
    "fourier_fillna = False\n",
    "\n",
    "### Running a simulation\n",
    "n_experiments = 5\n",
    "start_n = 0\n",
    "fit_params = None\n",
    "#mode=mode\n",
    "shuffle_rows = True\n",
    "pred_params = None\n",
    "random_features = False\n",
    "######### DON'T SET THIS TO TRUE UNLESS YOUR DATASET IS SMALL!! WILL FLOOD YOUR MEMORY!!!\n",
    "store_in_lists = False   \n",
    "########## BELOW ARE THE PARAMETERS THAT CONTROL WHAT WILL BE SAVED\n",
    "save_eigenvector=True\n",
    "save_hamiltonian=True \n",
    "save_accuracy=True \n",
    "save_models=True"
   ]
  },
  {
   "cell_type": "code",
   "execution_count": 3,
   "metadata": {
    "execution": {
     "iopub.execute_input": "2020-07-10T01:52:45.484905Z",
     "iopub.status.busy": "2020-07-10T01:52:45.484371Z",
     "iopub.status.idle": "2020-07-10T01:52:45.584470Z",
     "shell.execute_reply": "2020-07-10T01:52:45.586007Z"
    },
    "papermill": {
     "duration": 0.122625,
     "end_time": "2020-07-10T01:52:45.586326",
     "exception": false,
     "start_time": "2020-07-10T01:52:45.463701",
     "status": "completed"
    },
    "tags": [
     "injected-parameters"
    ]
   },
   "outputs": [],
   "source": [
    "# Parameters\n",
    "model_kw = {\"criterion\": \"entropy\", \"n_estimators\": 25, \"n_jobs\": -1}\n",
    "allowed_windings = [-1, 0, 1, 2]\n",
    "val_split = 0.5\n",
    "features_to_use = [0, 1, 2, 3, 4, 5, 6, 7, 46, 48, 49, 50]\n",
    "shuffle_features = False\n",
    "n_experiments = 100\n",
    "start_n = 0\n",
    "fit_params = None\n",
    "shuffle_rows = True\n",
    "pred_params = None\n",
    "random_features = False\n",
    "store_in_lists = False\n",
    "save_eigenvector = True\n",
    "save_hamiltonian = True\n",
    "save_accuracy = True\n",
    "save_models = True\n",
    "csv_path = \"/home/rio/ssh_csvs/ssh2/periodic_100_6561.csv\"\n",
    "model_name = \"RandomForestClassifier\"\n",
    "simulation_dir = \"/home/rio/ssh_simulations/ssh2/periodic_9th_scenario_100_6561\"\n",
    "random_state = 34896\n",
    "fourier_features_to_use = [0, 1, 2, 3, 4, 5, 6, 8, 42, 44, 46, 48]\n",
    "fourier_mode = \"dct\"\n",
    "fourier_real = None\n",
    "fourier_normalize = False\n",
    "fourier_fillna = False\n",
    "normalize = False\n",
    "fillna = False\n"
   ]
  },
  {
   "cell_type": "code",
   "execution_count": 4,
   "metadata": {
    "execution": {
     "iopub.execute_input": "2020-07-10T01:52:45.660650Z",
     "iopub.status.busy": "2020-07-10T01:52:45.660300Z",
     "iopub.status.idle": "2020-07-10T01:52:51.568065Z",
     "shell.execute_reply": "2020-07-10T01:52:51.567736Z"
    },
    "papermill": {
     "duration": 5.928508,
     "end_time": "2020-07-10T01:52:51.568118",
     "exception": false,
     "start_time": "2020-07-10T01:52:45.639610",
     "status": "completed"
    },
    "tags": []
   },
   "outputs": [
    {
     "name": "stdout",
     "output_type": "stream",
     "text": [
      "Info on all data: \n",
      "\n",
      "<class 'pandas.core.frame.DataFrame'>\n",
      "Int64Index: 656100 entries, 0 to 656099\n",
      "Columns: 108 entries, id to feat99\n",
      "dtypes: float64(103), int32(3), object(2)\n",
      "memory usage: 538.1+ MB\n",
      "CPU times: user 5.7 s, sys: 696 ms, total: 6.4 s\n",
      "Wall time: 5.88 s\n"
     ]
    },
    {
     "data": {
      "text/html": [
       "<div>\n",
       "<style scoped>\n",
       "    .dataframe tbody tr th:only-of-type {\n",
       "        vertical-align: middle;\n",
       "    }\n",
       "\n",
       "    .dataframe tbody tr th {\n",
       "        vertical-align: top;\n",
       "    }\n",
       "\n",
       "    .dataframe thead th {\n",
       "        text-align: right;\n",
       "    }\n",
       "</style>\n",
       "<table border=\"1\" class=\"dataframe\">\n",
       "  <thead>\n",
       "    <tr style=\"text-align: right;\">\n",
       "      <th></th>\n",
       "      <th>id</th>\n",
       "      <th>path</th>\n",
       "      <th>t1</th>\n",
       "      <th>t2</th>\n",
       "      <th>winding</th>\n",
       "      <th>phase</th>\n",
       "      <th>pred_phase</th>\n",
       "      <th>type_of</th>\n",
       "      <th>feat0</th>\n",
       "      <th>feat1</th>\n",
       "      <th>...</th>\n",
       "      <th>feat90</th>\n",
       "      <th>feat91</th>\n",
       "      <th>feat92</th>\n",
       "      <th>feat93</th>\n",
       "      <th>feat94</th>\n",
       "      <th>feat95</th>\n",
       "      <th>feat96</th>\n",
       "      <th>feat97</th>\n",
       "      <th>feat98</th>\n",
       "      <th>feat99</th>\n",
       "    </tr>\n",
       "  </thead>\n",
       "  <tbody>\n",
       "    <tr>\n",
       "      <th>0</th>\n",
       "      <td>0</td>\n",
       "      <td>H_-2_-2_0.501338.dat</td>\n",
       "      <td>-2.0</td>\n",
       "      <td>-2.0</td>\n",
       "      <td>0.501338</td>\n",
       "      <td>999</td>\n",
       "      <td>666</td>\n",
       "      <td>test</td>\n",
       "      <td>-0.130965</td>\n",
       "      <td>0.301130</td>\n",
       "      <td>...</td>\n",
       "      <td>-0.080279</td>\n",
       "      <td>-0.115687</td>\n",
       "      <td>-0.174988</td>\n",
       "      <td>0.245064</td>\n",
       "      <td>0.319763</td>\n",
       "      <td>-0.059082</td>\n",
       "      <td>-0.000556</td>\n",
       "      <td>-0.245133</td>\n",
       "      <td>-0.301130</td>\n",
       "      <td>0.130965</td>\n",
       "    </tr>\n",
       "    <tr>\n",
       "      <th>1</th>\n",
       "      <td>0</td>\n",
       "      <td>H_-2_-2_0.501338.dat</td>\n",
       "      <td>-2.0</td>\n",
       "      <td>-2.0</td>\n",
       "      <td>0.501338</td>\n",
       "      <td>999</td>\n",
       "      <td>666</td>\n",
       "      <td>test</td>\n",
       "      <td>-0.130965</td>\n",
       "      <td>-0.301130</td>\n",
       "      <td>...</td>\n",
       "      <td>-0.080279</td>\n",
       "      <td>0.115687</td>\n",
       "      <td>-0.174988</td>\n",
       "      <td>-0.245064</td>\n",
       "      <td>0.319763</td>\n",
       "      <td>0.059082</td>\n",
       "      <td>-0.000556</td>\n",
       "      <td>0.245133</td>\n",
       "      <td>-0.301130</td>\n",
       "      <td>-0.130965</td>\n",
       "    </tr>\n",
       "    <tr>\n",
       "      <th>2</th>\n",
       "      <td>0</td>\n",
       "      <td>H_-2_-2_0.501338.dat</td>\n",
       "      <td>-2.0</td>\n",
       "      <td>-2.0</td>\n",
       "      <td>0.501338</td>\n",
       "      <td>999</td>\n",
       "      <td>666</td>\n",
       "      <td>test</td>\n",
       "      <td>-0.148414</td>\n",
       "      <td>-0.042467</td>\n",
       "      <td>...</td>\n",
       "      <td>0.185442</td>\n",
       "      <td>-0.080620</td>\n",
       "      <td>-0.066211</td>\n",
       "      <td>-0.121339</td>\n",
       "      <td>-0.151700</td>\n",
       "      <td>0.192513</td>\n",
       "      <td>0.191642</td>\n",
       "      <td>-0.050956</td>\n",
       "      <td>-0.042467</td>\n",
       "      <td>-0.148414</td>\n",
       "    </tr>\n",
       "    <tr>\n",
       "      <th>3</th>\n",
       "      <td>0</td>\n",
       "      <td>H_-2_-2_0.501338.dat</td>\n",
       "      <td>-2.0</td>\n",
       "      <td>-2.0</td>\n",
       "      <td>0.501338</td>\n",
       "      <td>999</td>\n",
       "      <td>666</td>\n",
       "      <td>test</td>\n",
       "      <td>-0.069630</td>\n",
       "      <td>-0.026147</td>\n",
       "      <td>...</td>\n",
       "      <td>0.102009</td>\n",
       "      <td>-0.100671</td>\n",
       "      <td>-0.081002</td>\n",
       "      <td>-0.020715</td>\n",
       "      <td>-0.058717</td>\n",
       "      <td>0.115834</td>\n",
       "      <td>0.118274</td>\n",
       "      <td>-0.054666</td>\n",
       "      <td>-0.026147</td>\n",
       "      <td>-0.069630</td>\n",
       "    </tr>\n",
       "    <tr>\n",
       "      <th>4</th>\n",
       "      <td>0</td>\n",
       "      <td>H_-2_-2_0.501338.dat</td>\n",
       "      <td>-2.0</td>\n",
       "      <td>-2.0</td>\n",
       "      <td>0.501338</td>\n",
       "      <td>999</td>\n",
       "      <td>666</td>\n",
       "      <td>test</td>\n",
       "      <td>0.010206</td>\n",
       "      <td>-0.014625</td>\n",
       "      <td>...</td>\n",
       "      <td>0.047555</td>\n",
       "      <td>-0.041368</td>\n",
       "      <td>-0.018852</td>\n",
       "      <td>-0.017673</td>\n",
       "      <td>-0.023377</td>\n",
       "      <td>0.031447</td>\n",
       "      <td>0.010280</td>\n",
       "      <td>0.000925</td>\n",
       "      <td>0.014625</td>\n",
       "      <td>-0.010206</td>\n",
       "    </tr>\n",
       "  </tbody>\n",
       "</table>\n",
       "<p>5 rows × 108 columns</p>\n",
       "</div>"
      ],
      "text/plain": [
       "   id                  path   t1   t2   winding  phase  pred_phase type_of  \\\n",
       "0   0  H_-2_-2_0.501338.dat -2.0 -2.0  0.501338    999         666    test   \n",
       "1   0  H_-2_-2_0.501338.dat -2.0 -2.0  0.501338    999         666    test   \n",
       "2   0  H_-2_-2_0.501338.dat -2.0 -2.0  0.501338    999         666    test   \n",
       "3   0  H_-2_-2_0.501338.dat -2.0 -2.0  0.501338    999         666    test   \n",
       "4   0  H_-2_-2_0.501338.dat -2.0 -2.0  0.501338    999         666    test   \n",
       "\n",
       "      feat0     feat1  ...    feat90    feat91    feat92    feat93    feat94  \\\n",
       "0 -0.130965  0.301130  ... -0.080279 -0.115687 -0.174988  0.245064  0.319763   \n",
       "1 -0.130965 -0.301130  ... -0.080279  0.115687 -0.174988 -0.245064  0.319763   \n",
       "2 -0.148414 -0.042467  ...  0.185442 -0.080620 -0.066211 -0.121339 -0.151700   \n",
       "3 -0.069630 -0.026147  ...  0.102009 -0.100671 -0.081002 -0.020715 -0.058717   \n",
       "4  0.010206 -0.014625  ...  0.047555 -0.041368 -0.018852 -0.017673 -0.023377   \n",
       "\n",
       "     feat95    feat96    feat97    feat98    feat99  \n",
       "0 -0.059082 -0.000556 -0.245133 -0.301130  0.130965  \n",
       "1  0.059082 -0.000556  0.245133 -0.301130 -0.130965  \n",
       "2  0.192513  0.191642 -0.050956 -0.042467 -0.148414  \n",
       "3  0.115834  0.118274 -0.054666 -0.026147 -0.069630  \n",
       "4  0.031447  0.010280  0.000925  0.014625 -0.010206  \n",
       "\n",
       "[5 rows x 108 columns]"
      ]
     },
     "execution_count": 4,
     "metadata": {},
     "output_type": "execute_result"
    }
   ],
   "source": [
    "%%time\n",
    "#Starting an instance of Simulation with a decision tree\n",
    "model = DecisionTreeClassifier(criterion=\"entropy\")\n",
    "#dict_args = {\"csv_path\":csv_path, \"model\":model, \"allowed_windings\":allowed_windings,\\\n",
    "#             \"simulation_dir\":simulation_dir, \"val_split\":val_split, \"features_to_use\":features_to_use,\\\n",
    "#            \"shuffle_features\":shuffle_features, \"random_state\":random_state}\n",
    "simulation = Simulation(csv_path,model_name,model_kw,allowed_windings,simulation_dir,val_split,features_to_use,\\\n",
    "                       shuffle_features,fourier_mode,fourier_features_to_use,fourier_real,\\\n",
    "                       fourier_normalize, fourier_fillna , random_state)\n",
    "#simulation = Simulation(**dict_args)\n",
    "\n",
    "\n",
    "#(self, csv_path, model_name, model_kw, allowed_windings, simulation_dir = None, val_split = 0, \n",
    "# features_to_use = None, shuffle_features = False, fourier_mode=None, fourier_features_to_use=None,\n",
    "# fourier_real = False, fourier_normalize = False, Fourier_fillna=False, random_state = None):\n",
    "\n",
    "\n",
    "\n",
    "print(\"Info on all data: \\n\")\n",
    "simulation.dataframe.info()\n",
    "simulation.dataframe.head()"
   ]
  },
  {
   "cell_type": "markdown",
   "metadata": {
    "papermill": {
     "duration": 0.01736,
     "end_time": "2020-07-10T01:52:51.602707",
     "exception": false,
     "start_time": "2020-07-10T01:52:51.585347",
     "status": "completed"
    },
    "tags": []
   },
   "source": [
    "####  Fourier features"
   ]
  },
  {
   "cell_type": "code",
   "execution_count": 5,
   "metadata": {
    "execution": {
     "iopub.execute_input": "2020-07-10T01:52:51.639214Z",
     "iopub.status.busy": "2020-07-10T01:52:51.638902Z",
     "iopub.status.idle": "2020-07-10T01:52:51.739478Z",
     "shell.execute_reply": "2020-07-10T01:52:51.739155Z"
    },
    "papermill": {
     "duration": 0.120139,
     "end_time": "2020-07-10T01:52:51.739530",
     "exception": false,
     "start_time": "2020-07-10T01:52:51.619391",
     "status": "completed"
    },
    "tags": []
   },
   "outputs": [
    {
     "name": "stdout",
     "output_type": "stream",
     "text": [
      "<class 'pandas.core.frame.DataFrame'>\n",
      "Int64Index: 656100 entries, 0 to 656099\n",
      "Data columns (total 20 columns):\n",
      " #   Column      Non-Null Count   Dtype  \n",
      "---  ------      --------------   -----  \n",
      " 0   id          656100 non-null  int32  \n",
      " 1   path        656100 non-null  object \n",
      " 2   t1          656100 non-null  float64\n",
      " 3   t2          656100 non-null  float64\n",
      " 4   winding     656100 non-null  float64\n",
      " 5   phase       656100 non-null  int32  \n",
      " 6   pred_phase  656100 non-null  int32  \n",
      " 7   type_of     656100 non-null  object \n",
      " 8   dct_feat0   656100 non-null  float64\n",
      " 9   dct_feat1   656100 non-null  float64\n",
      " 10  dct_feat2   656100 non-null  float64\n",
      " 11  dct_feat3   656100 non-null  float64\n",
      " 12  dct_feat4   656100 non-null  float64\n",
      " 13  dct_feat5   656100 non-null  float64\n",
      " 14  dct_feat6   656100 non-null  float64\n",
      " 15  dct_feat8   656100 non-null  float64\n",
      " 16  dct_feat42  656100 non-null  float64\n",
      " 17  dct_feat44  656100 non-null  float64\n",
      " 18  dct_feat46  656100 non-null  float64\n",
      " 19  dct_feat48  656100 non-null  float64\n",
      "dtypes: float64(15), int32(3), object(2)\n",
      "memory usage: 97.6+ MB\n",
      "CPU times: user 89.7 ms, sys: 260 µs, total: 90 ms\n",
      "Wall time: 89.2 ms\n"
     ]
    }
   ],
   "source": [
    "%%time\n",
    "#simulation.generate_fourier_df()\n",
    "if simulation.fourier_mode is not None:\n",
    "    simulation.fourier_dataframe.info() \n",
    "    simulation.fourier_dataframe.sample(15)\n"
   ]
  },
  {
   "cell_type": "code",
   "execution_count": 6,
   "metadata": {
    "execution": {
     "iopub.execute_input": "2020-07-10T01:52:51.780315Z",
     "iopub.status.busy": "2020-07-10T01:52:51.779978Z",
     "iopub.status.idle": "2020-07-10T01:52:51.791050Z",
     "shell.execute_reply": "2020-07-10T01:52:51.791323Z"
    },
    "papermill": {
     "duration": 0.034977,
     "end_time": "2020-07-10T01:52:51.791392",
     "exception": false,
     "start_time": "2020-07-10T01:52:51.756415",
     "status": "completed"
    },
    "tags": []
   },
   "outputs": [
    {
     "name": "stdout",
     "output_type": "stream",
     "text": [
      "features_to_use: \n",
      "\n",
      "\n",
      "[0, 1, 2, 3, 4, 5, 6, 7, 46, 48, 49, 50]\n",
      "Number of real space features:\n",
      "\n",
      "\n",
      "12\n",
      "\n",
      "\n",
      "fourier_features: \n",
      "\n",
      "\n",
      "['dct_feat0', 'dct_feat1', 'dct_feat2', 'dct_feat3', 'dct_feat4', 'dct_feat5', 'dct_feat6', 'dct_feat8', 'dct_feat42', 'dct_feat44', 'dct_feat46', 'dct_feat48']\n",
      "\n",
      "\n",
      "Number of Fourier features: \n",
      "\n",
      "\n",
      "12\n"
     ]
    }
   ],
   "source": [
    "print(\"features_to_use: \")\n",
    "print(\"\\n\")\n",
    "print(simulation.features_to_use)\n",
    "if simulation.features_to_use is not None:\n",
    "    print(\"Number of real space features:\")\n",
    "    print(\"\\n\")\n",
    "    print(len(simulation.features_to_use))\n",
    "print(\"\\n\")\n",
    "print(\"fourier_features: \")\n",
    "print(\"\\n\")\n",
    "print(simulation.fourier_features)\n",
    "print(\"\\n\")\n",
    "if simulation.fourier_features is not None:\n",
    "    print(\"Number of Fourier features: \")\n",
    "    print(\"\\n\")\n",
    "    print(len(simulation.fourier_features))"
   ]
  },
  {
   "cell_type": "code",
   "execution_count": 7,
   "metadata": {
    "execution": {
     "iopub.execute_input": "2020-07-10T01:52:51.827901Z",
     "iopub.status.busy": "2020-07-10T01:52:51.827593Z",
     "iopub.status.idle": "2020-07-10T01:52:51.910292Z",
     "shell.execute_reply": "2020-07-10T01:52:51.908538Z"
    },
    "papermill": {
     "duration": 0.102618,
     "end_time": "2020-07-10T01:52:51.910541",
     "exception": false,
     "start_time": "2020-07-10T01:52:51.807923",
     "status": "completed"
    },
    "tags": []
   },
   "outputs": [],
   "source": [
    "#simulation.dataframe.iloc[331456,:]"
   ]
  },
  {
   "cell_type": "code",
   "execution_count": 8,
   "metadata": {
    "execution": {
     "iopub.execute_input": "2020-07-10T01:52:51.984113Z",
     "iopub.status.busy": "2020-07-10T01:52:51.983726Z",
     "iopub.status.idle": "2020-07-10T01:52:51.993359Z",
     "shell.execute_reply": "2020-07-10T01:52:51.993629Z"
    },
    "papermill": {
     "duration": 0.030826,
     "end_time": "2020-07-10T01:52:51.993702",
     "exception": false,
     "start_time": "2020-07-10T01:52:51.962876",
     "status": "completed"
    },
    "tags": []
   },
   "outputs": [],
   "source": [
    "#for ix, obj in enumerate(simulation.dataframe.iloc[331456,:].values):\n",
    "#    print(ix,obj)"
   ]
  },
  {
   "cell_type": "code",
   "execution_count": 9,
   "metadata": {
    "execution": {
     "iopub.execute_input": "2020-07-10T01:52:52.028879Z",
     "iopub.status.busy": "2020-07-10T01:52:52.028570Z",
     "iopub.status.idle": "2020-07-10T01:52:52.091023Z",
     "shell.execute_reply": "2020-07-10T01:52:52.092719Z"
    },
    "papermill": {
     "duration": 0.082818,
     "end_time": "2020-07-10T01:52:52.093022",
     "exception": false,
     "start_time": "2020-07-10T01:52:52.010204",
     "status": "completed"
    },
    "tags": []
   },
   "outputs": [],
   "source": [
    "#simulation.fourier_engineered_dataframe.dct_feat0"
   ]
  },
  {
   "cell_type": "code",
   "execution_count": 10,
   "metadata": {
    "execution": {
     "iopub.execute_input": "2020-07-10T01:52:52.165683Z",
     "iopub.status.busy": "2020-07-10T01:52:52.165128Z",
     "iopub.status.idle": "2020-07-10T01:52:52.175631Z",
     "shell.execute_reply": "2020-07-10T01:52:52.176072Z"
    },
    "papermill": {
     "duration": 0.032037,
     "end_time": "2020-07-10T01:52:52.176151",
     "exception": false,
     "start_time": "2020-07-10T01:52:52.144114",
     "status": "completed"
    },
    "tags": []
   },
   "outputs": [],
   "source": [
    "#simulation.features"
   ]
  },
  {
   "cell_type": "code",
   "execution_count": 11,
   "metadata": {
    "execution": {
     "iopub.execute_input": "2020-07-10T01:52:52.219031Z",
     "iopub.status.busy": "2020-07-10T01:52:52.218506Z",
     "iopub.status.idle": "2020-07-10T01:52:52.267994Z",
     "shell.execute_reply": "2020-07-10T01:52:52.267414Z"
    },
    "papermill": {
     "duration": 0.072361,
     "end_time": "2020-07-10T01:52:52.268086",
     "exception": false,
     "start_time": "2020-07-10T01:52:52.195725",
     "status": "completed"
    },
    "tags": []
   },
   "outputs": [],
   "source": [
    "#simulation.fourier_matrix"
   ]
  },
  {
   "cell_type": "code",
   "execution_count": 12,
   "metadata": {
    "execution": {
     "iopub.execute_input": "2020-07-10T01:52:52.321059Z",
     "iopub.status.busy": "2020-07-10T01:52:52.320493Z",
     "iopub.status.idle": "2020-07-10T01:52:52.380302Z",
     "shell.execute_reply": "2020-07-10T01:52:52.379784Z"
    },
    "papermill": {
     "duration": 0.087228,
     "end_time": "2020-07-10T01:52:52.380391",
     "exception": false,
     "start_time": "2020-07-10T01:52:52.293163",
     "status": "completed"
    },
    "tags": []
   },
   "outputs": [],
   "source": [
    "#1/simulation.n_features*simulation.dataframe.loc[:,simulation.features].sum(axis=1)"
   ]
  },
  {
   "cell_type": "code",
   "execution_count": 13,
   "metadata": {
    "execution": {
     "iopub.execute_input": "2020-07-10T01:52:52.422208Z",
     "iopub.status.busy": "2020-07-10T01:52:52.421879Z",
     "iopub.status.idle": "2020-07-10T01:52:52.477679Z",
     "shell.execute_reply": "2020-07-10T01:52:52.477945Z"
    },
    "papermill": {
     "duration": 0.077674,
     "end_time": "2020-07-10T01:52:52.478015",
     "exception": false,
     "start_time": "2020-07-10T01:52:52.400341",
     "status": "completed"
    },
    "tags": []
   },
   "outputs": [],
   "source": [
    "#df_2 = simulation.fourier_engineered_dataframe[simulation.fourier_engineered_dataframe.phase==2]\n",
    "#df_2.describe()"
   ]
  },
  {
   "cell_type": "code",
   "execution_count": 14,
   "metadata": {
    "execution": {
     "iopub.execute_input": "2020-07-10T01:52:52.513500Z",
     "iopub.status.busy": "2020-07-10T01:52:52.513189Z",
     "iopub.status.idle": "2020-07-10T01:52:52.567761Z",
     "shell.execute_reply": "2020-07-10T01:52:52.567384Z"
    },
    "papermill": {
     "duration": 0.072913,
     "end_time": "2020-07-10T01:52:52.567817",
     "exception": false,
     "start_time": "2020-07-10T01:52:52.494904",
     "status": "completed"
    },
    "tags": []
   },
   "outputs": [],
   "source": [
    "#df_1 = simulation.fourier_engineered_dataframe[simulation.fourier_engineered_dataframe.phase==1]\n",
    "#df_1.describe()"
   ]
  },
  {
   "cell_type": "code",
   "execution_count": 15,
   "metadata": {
    "execution": {
     "iopub.execute_input": "2020-07-10T01:52:52.604836Z",
     "iopub.status.busy": "2020-07-10T01:52:52.604255Z",
     "iopub.status.idle": "2020-07-10T01:52:52.651172Z",
     "shell.execute_reply": "2020-07-10T01:52:52.650823Z"
    },
    "papermill": {
     "duration": 0.066038,
     "end_time": "2020-07-10T01:52:52.651229",
     "exception": false,
     "start_time": "2020-07-10T01:52:52.585191",
     "status": "completed"
    },
    "tags": []
   },
   "outputs": [],
   "source": [
    "#df_0 = simulation.fourier_engineered_dataframe[simulation.fourier_engineered_dataframe.phase==0]\n",
    "#df_0.describe()"
   ]
  },
  {
   "cell_type": "code",
   "execution_count": 16,
   "metadata": {
    "execution": {
     "iopub.execute_input": "2020-07-10T01:52:52.690109Z",
     "iopub.status.busy": "2020-07-10T01:52:52.689787Z",
     "iopub.status.idle": "2020-07-10T01:52:52.742645Z",
     "shell.execute_reply": "2020-07-10T01:52:52.743149Z"
    },
    "papermill": {
     "duration": 0.074439,
     "end_time": "2020-07-10T01:52:52.743248",
     "exception": false,
     "start_time": "2020-07-10T01:52:52.668809",
     "status": "completed"
    },
    "tags": []
   },
   "outputs": [],
   "source": [
    "#plt.figure(figsize=(10,10))\n",
    "#plt.scatter(df_1.fourier_feat0,df_1.fourier_feat2)\n",
    "#plt.scatter(df_0.fourier_feat0,df_0.fourier_feat2,alpha=0.4)"
   ]
  },
  {
   "cell_type": "code",
   "execution_count": 17,
   "metadata": {
    "execution": {
     "iopub.execute_input": "2020-07-10T01:52:52.803275Z",
     "iopub.status.busy": "2020-07-10T01:52:52.802767Z",
     "iopub.status.idle": "2020-07-10T01:52:52.834251Z",
     "shell.execute_reply": "2020-07-10T01:52:52.834700Z"
    },
    "papermill": {
     "duration": 0.062313,
     "end_time": "2020-07-10T01:52:52.834830",
     "exception": false,
     "start_time": "2020-07-10T01:52:52.772517",
     "status": "completed"
    },
    "tags": []
   },
   "outputs": [],
   "source": [
    "#plt.scatter(df_0.fourier_feat0,df_0.fourier_feat2,alpha=0.4)"
   ]
  },
  {
   "cell_type": "code",
   "execution_count": 18,
   "metadata": {
    "execution": {
     "iopub.execute_input": "2020-07-10T01:52:52.889295Z",
     "iopub.status.busy": "2020-07-10T01:52:52.888792Z",
     "iopub.status.idle": "2020-07-10T01:52:52.925992Z",
     "shell.execute_reply": "2020-07-10T01:52:52.925649Z"
    },
    "papermill": {
     "duration": 0.063468,
     "end_time": "2020-07-10T01:52:52.926046",
     "exception": false,
     "start_time": "2020-07-10T01:52:52.862578",
     "status": "completed"
    },
    "tags": []
   },
   "outputs": [],
   "source": [
    "#plt.scatter(df_2.fourier_feat0,df_2.fourier_feat2)"
   ]
  },
  {
   "cell_type": "code",
   "execution_count": 19,
   "metadata": {
    "execution": {
     "iopub.execute_input": "2020-07-10T01:52:52.962284Z",
     "iopub.status.busy": "2020-07-10T01:52:52.961765Z",
     "iopub.status.idle": "2020-07-10T01:52:53.026334Z",
     "shell.execute_reply": "2020-07-10T01:52:53.025809Z"
    },
    "papermill": {
     "duration": 0.083096,
     "end_time": "2020-07-10T01:52:53.026410",
     "exception": false,
     "start_time": "2020-07-10T01:52:52.943314",
     "status": "completed"
    },
    "tags": []
   },
   "outputs": [],
   "source": [
    "#df_1.hist(figsize=(15,15))"
   ]
  },
  {
   "cell_type": "code",
   "execution_count": 20,
   "metadata": {
    "execution": {
     "iopub.execute_input": "2020-07-10T01:52:53.075304Z",
     "iopub.status.busy": "2020-07-10T01:52:53.074961Z",
     "iopub.status.idle": "2020-07-10T01:52:53.126278Z",
     "shell.execute_reply": "2020-07-10T01:52:53.125864Z"
    },
    "papermill": {
     "duration": 0.070147,
     "end_time": "2020-07-10T01:52:53.126354",
     "exception": false,
     "start_time": "2020-07-10T01:52:53.056207",
     "status": "completed"
    },
    "tags": []
   },
   "outputs": [],
   "source": [
    "#df_0.hist(figsize=(15,15))"
   ]
  },
  {
   "cell_type": "markdown",
   "metadata": {
    "papermill": {
     "duration": 0.019209,
     "end_time": "2020-07-10T01:52:53.164423",
     "exception": false,
     "start_time": "2020-07-10T01:52:53.145214",
     "status": "completed"
    },
    "tags": []
   },
   "source": [
    "#### Checking initialization"
   ]
  },
  {
   "cell_type": "code",
   "execution_count": 21,
   "metadata": {
    "execution": {
     "iopub.execute_input": "2020-07-10T01:52:53.206750Z",
     "iopub.status.busy": "2020-07-10T01:52:53.206289Z",
     "iopub.status.idle": "2020-07-10T01:52:53.219404Z",
     "shell.execute_reply": "2020-07-10T01:52:53.218967Z"
    },
    "papermill": {
     "duration": 0.033746,
     "end_time": "2020-07-10T01:52:53.219485",
     "exception": false,
     "start_time": "2020-07-10T01:52:53.185739",
     "status": "completed"
    },
    "tags": []
   },
   "outputs": [
    {
     "name": "stdout",
     "output_type": "stream",
     "text": [
      "n_features:  100\n",
      "n_hamiltonians:  6561\n",
      "n_ts:  2\n",
      "CPU times: user 436 µs, sys: 62 µs, total: 498 µs\n",
      "Wall time: 316 µs\n"
     ]
    }
   ],
   "source": [
    "%%time\n",
    "n_features = simulation.n_features\n",
    "n_hamiltonians = simulation.n_hamiltonians\n",
    "n_ts = simulation.n_ts\n",
    "\n",
    "print(\"n_features: \", n_features)\n",
    "print(\"n_hamiltonians: \", n_hamiltonians)\n",
    "print(\"n_ts: \", n_ts)"
   ]
  },
  {
   "cell_type": "code",
   "execution_count": 22,
   "metadata": {
    "execution": {
     "iopub.execute_input": "2020-07-10T01:52:53.259781Z",
     "iopub.status.busy": "2020-07-10T01:52:53.259160Z",
     "iopub.status.idle": "2020-07-10T01:52:53.547487Z",
     "shell.execute_reply": "2020-07-10T01:52:53.547967Z"
    },
    "papermill": {
     "duration": 0.310584,
     "end_time": "2020-07-10T01:52:53.548056",
     "exception": false,
     "start_time": "2020-07-10T01:52:53.237472",
     "status": "completed"
    },
    "tags": []
   },
   "outputs": [
    {
     "name": "stdout",
     "output_type": "stream",
     "text": [
      "% train:  0.8414875781130925\n",
      "% val:  0.0\n",
      "% test:  0.15851242188690748\n",
      "% train + val + test:  1.0\n",
      "\n",
      "\n",
      "number of train hamiltonians:  5521\n",
      "number of val hamiltonians:  0\n",
      "number of test hamiltonians:  1040\n",
      "total number of hamiltonians:  6561\n",
      "\n",
      "\n",
      "train ids:  [13, 14, 15, 16, 17, 18, 19, 20, 21, 22, 23, 24, 25, 26, 27, 28, 29, 30, 31, 32, 33, 34, 35, 36, 37, 38, 39, 41, 42, 43, 44, 45, 46, 47, 48, 49, 50, 51, 52, 53, 54, 55, 56, 57, 58, 59, 60, 61, 62, 63, 64, 65, 66, 67, 68, 69, 70, 71, 72, 73, 74, 75, 76, 77, 78, 79, 80, 95, 96, 97, 98, 99, 100, 101, 102, 103, 104, 105, 106, 107, 108, 109, 110, 111, 112, 113, 114, 115, 116, 117, 118, 119, 121, 122, 123, 124, 125, 126, 127, 128, 129, 130, 131, 132, 133, 134, 135, 136, 137, 138, 139, 140, 141, 142, 143, 144, 145, 146, 147, 148, 149, 150, 151, 152, 153, 154, 155, 156, 157, 158, 159, 160, 161, 176, 177, 178, 179, 180, 181, 182, 183, 184, 185, 186, 187, 188, 189, 190, 191, 192, 193, 194, 195, 196, 197, 198, 199, 201, 202, 203, 204, 205, 206, 207, 208, 209, 210, 211, 212, 213, 214, 215, 216, 217, 218, 219, 220, 221, 222, 223, 224, 225, 226, 227, 228, 229, 230, 231, 232, 233, 234, 235, 236, 237, 238, 239, 240, 241, 242, 258, 259, 260, 261, 262, 263, 264, 265, 266, 267, 268, 269, 270, 271, 272, 273, 274, 275, 276, 277, 278, 279, 281, 282, 283, 284, 285, 286, 287, 288, 289, 290, 291, 292, 293, 294, 295, 296, 297, 298, 299, 300, 301, 302, 303, 304, 305, 306, 307, 308, 309, 310, 311, 312, 313, 314, 315, 316, 317, 318, 319, 320, 321, 322, 323, 340, 341, 342, 343, 344, 345, 346, 347, 348, 349, 350, 351, 352, 353, 354, 355, 356, 357, 358, 359, 361, 362, 363, 364, 365, 366, 367, 368, 369, 370, 371, 372, 373, 374, 375, 376, 377, 378, 379, 380, 381, 382, 383, 384, 385, 386, 387, 388, 389, 390, 391, 392, 393, 394, 395, 396, 397, 398, 399, 400, 401, 402, 403, 404, 422, 423, 424, 425, 426, 427, 428, 429, 430, 431, 432, 433, 434, 435, 436, 437, 438, 439, 441, 442, 443, 444, 445, 446, 447, 448, 449, 450, 451, 452, 453, 454, 455, 456, 457, 458, 459, 460, 461, 462, 463, 464, 465, 466, 467, 468, 469, 470, 471, 472, 473, 474, 475, 476, 477, 478, 479, 480, 481, 482, 483, 484, 485, 503, 504, 505, 506, 507, 508, 509, 510, 511, 512, 513, 514, 515, 516, 517, 518, 519, 521, 522, 523, 524, 525, 526, 527, 528, 529, 530, 531, 532, 533, 534, 535, 536, 537, 538, 539, 540, 541, 542, 543, 544, 545, 546, 547, 548, 549, 550, 551, 552, 553, 554, 555, 556, 557, 558, 559, 560, 561, 562, 563, 564, 565, 566, 585, 586, 587, 588, 589, 590, 591, 592, 593, 594, 595, 596, 597, 598, 599, 601, 602, 603, 604, 605, 606, 607, 608, 609, 610, 611, 612, 613, 614, 615, 616, 617, 618, 619, 620, 621, 622, 623, 624, 625, 626, 627, 628, 629, 630, 631, 632, 633, 634, 635, 636, 637, 638, 639, 640, 641, 642, 643, 644, 645, 646, 647, 667, 668, 669, 670, 671, 672, 673, 674, 675, 676, 677, 678, 679, 681, 682, 683, 684, 685, 686, 687, 688, 689, 690, 691, 692, 693, 694, 695, 696, 697, 698, 699, 700, 701, 702, 703, 704, 705, 706, 707, 708, 709, 710, 711, 712, 713, 714, 715, 716, 717, 718, 719, 720, 721, 722, 723, 724, 725, 726, 727, 728, 749, 750, 751, 752, 753, 754, 755, 756, 757, 758, 759, 761, 762, 763, 764, 765, 766, 767, 768, 769, 770, 771, 772, 773, 774, 775, 776, 777, 778, 779, 780, 781, 782, 783, 784, 785, 786, 787, 788, 789, 790, 791, 792, 793, 794, 795, 796, 797, 798, 799, 800, 801, 802, 803, 804, 805, 806, 807, 808, 809, 830, 831, 832, 833, 834, 835, 836, 837, 838, 839, 841, 842, 843, 844, 845, 846, 847, 848, 849, 850, 851, 852, 853, 854, 855, 856, 857, 858, 859, 860, 861, 862, 863, 864, 865, 866, 867, 868, 869, 870, 871, 872, 873, 874, 875, 876, 877, 878, 879, 880, 881, 882, 883, 884, 885, 886, 887, 888, 889, 890, 912, 913, 914, 915, 916, 917, 918, 919, 921, 922, 923, 924, 925, 926, 927, 928, 929, 930, 931, 932, 933, 934, 935, 936, 937, 938, 939, 940, 941, 942, 943, 944, 945, 946, 947, 948, 949, 950, 951, 952, 953, 954, 955, 956, 957, 958, 959, 960, 961, 962, 963, 964, 965, 966, 967, 968, 969, 970, 971, 994, 995, 996, 997, 998, 999, 1001, 1002, 1003, 1004, 1005, 1006, 1007, 1008, 1009, 1010, 1011, 1012, 1013, 1014, 1015, 1016, 1017, 1018, 1019, 1020, 1021, 1022, 1023, 1024, 1025, 1026, 1027, 1028, 1029, 1030, 1031, 1032, 1033, 1034, 1035, 1036, 1037, 1038, 1039, 1040, 1041, 1042, 1043, 1044, 1045, 1046, 1047, 1048, 1049, 1050, 1051, 1052, 1076, 1077, 1078, 1079, 1081, 1082, 1083, 1084, 1085, 1086, 1087, 1088, 1089, 1090, 1091, 1092, 1093, 1094, 1095, 1096, 1097, 1098, 1099, 1100, 1101, 1102, 1103, 1104, 1105, 1106, 1107, 1108, 1109, 1110, 1111, 1112, 1113, 1114, 1115, 1116, 1117, 1118, 1119, 1120, 1121, 1122, 1123, 1124, 1125, 1126, 1127, 1128, 1129, 1130, 1131, 1132, 1133, 1134, 1157, 1158, 1159, 1161, 1162, 1163, 1164, 1165, 1166, 1167, 1168, 1169, 1170, 1171, 1172, 1173, 1174, 1175, 1176, 1177, 1178, 1179, 1180, 1181, 1182, 1183, 1184, 1185, 1186, 1187, 1188, 1189, 1190, 1191, 1192, 1193, 1194, 1195, 1196, 1197, 1198, 1199, 1200, 1201, 1202, 1203, 1204, 1205, 1206, 1207, 1208, 1209, 1210, 1211, 1212, 1213, 1214, 1215, 1216, 1239, 1241, 1242, 1243, 1244, 1245, 1246, 1247, 1248, 1249, 1250, 1251, 1252, 1253, 1254, 1255, 1256, 1257, 1258, 1259, 1260, 1261, 1262, 1263, 1264, 1265, 1266, 1267, 1268, 1269, 1270, 1271, 1272, 1273, 1274, 1275, 1276, 1277, 1278, 1279, 1280, 1281, 1282, 1283, 1284, 1285, 1286, 1287, 1288, 1289, 1290, 1291, 1292, 1293, 1294, 1295, 1296, 1297, 1298, 1299, 1321, 1322, 1323, 1324, 1325, 1326, 1327, 1328, 1329, 1330, 1331, 1332, 1333, 1334, 1335, 1336, 1337, 1338, 1339, 1340, 1341, 1342, 1343, 1344, 1345, 1346, 1347, 1348, 1349, 1350, 1351, 1352, 1353, 1354, 1355, 1356, 1357, 1358, 1359, 1360, 1361, 1362, 1363, 1364, 1365, 1366, 1367, 1368, 1369, 1370, 1371, 1372, 1373, 1374, 1375, 1376, 1377, 1378, 1379, 1380, 1381, 1402, 1403, 1404, 1405, 1406, 1407, 1408, 1409, 1410, 1411, 1412, 1413, 1414, 1415, 1416, 1417, 1418, 1419, 1420, 1421, 1422, 1423, 1424, 1425, 1426, 1427, 1428, 1429, 1430, 1431, 1432, 1433, 1434, 1435, 1436, 1437, 1438, 1439, 1440, 1441, 1442, 1443, 1444, 1445, 1446, 1447, 1448, 1449, 1450, 1451, 1452, 1453, 1454, 1455, 1456, 1457, 1458, 1459, 1460, 1461, 1462, 1463, 1464, 1484, 1485, 1486, 1487, 1488, 1489, 1490, 1491, 1492, 1493, 1494, 1495, 1496, 1497, 1498, 1499, 1500, 1501, 1502, 1503, 1504, 1505, 1506, 1507, 1508, 1509, 1510, 1511, 1512, 1513, 1514, 1515, 1516, 1517, 1518, 1519, 1520, 1521, 1522, 1523, 1524, 1525, 1526, 1527, 1528, 1529, 1530, 1531, 1532, 1533, 1534, 1535, 1536, 1537, 1538, 1539, 1540, 1541, 1542, 1543, 1544, 1545, 1546, 1566, 1567, 1568, 1569, 1570, 1571, 1572, 1573, 1574, 1575, 1576, 1577, 1578, 1579, 1580, 1581, 1582, 1583, 1584, 1585, 1586, 1587, 1588, 1589, 1590, 1591, 1592, 1593, 1594, 1595, 1596, 1597, 1598, 1599, 1600, 1601, 1602, 1603, 1604, 1605, 1606, 1607, 1608, 1609, 1610, 1611, 1612, 1613, 1614, 1615, 1616, 1617, 1618, 1619, 1620, 1621, 1622, 1623, 1624, 1625, 1626, 1627, 1628, 1648, 1649, 1650, 1651, 1652, 1653, 1654, 1655, 1656, 1657, 1658, 1659, 1660, 1661, 1662, 1663, 1664, 1665, 1666, 1667, 1668, 1669, 1670, 1671, 1672, 1673, 1674, 1675, 1676, 1677, 1678, 1679, 1680, 1681, 1682, 1683, 1684, 1685, 1686, 1687, 1688, 1689, 1690, 1691, 1692, 1693, 1694, 1695, 1696, 1697, 1698, 1699, 1701, 1702, 1703, 1704, 1705, 1706, 1707, 1708, 1709, 1710, 1711, 1729, 1730, 1731, 1732, 1733, 1734, 1735, 1736, 1737, 1738, 1739, 1740, 1741, 1742, 1743, 1744, 1745, 1746, 1747, 1748, 1749, 1750, 1751, 1752, 1753, 1754, 1755, 1756, 1757, 1758, 1759, 1760, 1761, 1762, 1763, 1764, 1765, 1766, 1767, 1768, 1769, 1770, 1771, 1772, 1773, 1774, 1775, 1776, 1777, 1778, 1779, 1781, 1782, 1783, 1784, 1785, 1786, 1787, 1788, 1789, 1790, 1791, 1792, 1793, 1811, 1812, 1813, 1814, 1815, 1816, 1817, 1818, 1819, 1820, 1821, 1822, 1823, 1824, 1825, 1826, 1827, 1828, 1829, 1830, 1831, 1832, 1833, 1834, 1835, 1836, 1837, 1838, 1839, 1840, 1841, 1842, 1843, 1844, 1845, 1846, 1847, 1848, 1849, 1850, 1851, 1852, 1853, 1854, 1855, 1856, 1857, 1858, 1859, 1861, 1862, 1863, 1864, 1865, 1866, 1867, 1868, 1869, 1870, 1871, 1872, 1873, 1874, 1875, 1876, 1893, 1894, 1895, 1896, 1897, 1898, 1899, 1900, 1901, 1902, 1903, 1904, 1905, 1906, 1907, 1908, 1909, 1910, 1911, 1912, 1913, 1914, 1915, 1916, 1917, 1918, 1919, 1920, 1921, 1922, 1923, 1924, 1925, 1926, 1927, 1928, 1929, 1930, 1931, 1932, 1933, 1934, 1935, 1936, 1937, 1938, 1939, 1941, 1942, 1943, 1944, 1945, 1946, 1947, 1948, 1949, 1950, 1951, 1952, 1953, 1954, 1955, 1956, 1957, 1958, 1975, 1976, 1977, 1978, 1979, 1980, 1981, 1982, 1983, 1984, 1985, 1986, 1987, 1988, 1989, 1990, 1991, 1992, 1993, 1994, 1995, 1996, 1997, 1998, 1999, 2000, 2001, 2002, 2003, 2004, 2005, 2006, 2007, 2008, 2009, 2010, 2011, 2012, 2013, 2014, 2015, 2016, 2017, 2018, 2019, 2021, 2022, 2023, 2024, 2025, 2026, 2027, 2028, 2029, 2030, 2031, 2032, 2033, 2034, 2035, 2036, 2037, 2038, 2039, 2056, 2057, 2058, 2059, 2060, 2061, 2062, 2063, 2064, 2065, 2066, 2067, 2068, 2069, 2070, 2071, 2072, 2073, 2074, 2075, 2076, 2077, 2078, 2079, 2080, 2081, 2082, 2083, 2084, 2085, 2086, 2087, 2088, 2089, 2090, 2091, 2092, 2093, 2094, 2095, 2096, 2097, 2098, 2099, 2101, 2102, 2103, 2104, 2105, 2106, 2107, 2108, 2109, 2110, 2111, 2112, 2113, 2114, 2115, 2116, 2117, 2118, 2119, 2121, 2122, 2123, 2138, 2139, 2140, 2141, 2142, 2143, 2144, 2145, 2146, 2147, 2148, 2149, 2150, 2151, 2152, 2153, 2154, 2155, 2156, 2157, 2158, 2159, 2160, 2161, 2162, 2163, 2164, 2165, 2166, 2167, 2168, 2169, 2170, 2171, 2172, 2173, 2174, 2175, 2176, 2177, 2178, 2179, 2181, 2182, 2183, 2184, 2185, 2186, 2187, 2188, 2189, 2190, 2191, 2192, 2193, 2194, 2195, 2196, 2197, 2198, 2199, 2201, 2202, 2203, 2204, 2205, 2220, 2221, 2222, 2223, 2224, 2225, 2226, 2227, 2228, 2229, 2230, 2231, 2232, 2233, 2234, 2235, 2236, 2237, 2238, 2239, 2240, 2241, 2242, 2243, 2244, 2245, 2246, 2247, 2248, 2249, 2250, 2251, 2252, 2253, 2254, 2255, 2256, 2257, 2258, 2259, 2261, 2262, 2263, 2264, 2265, 2266, 2267, 2268, 2269, 2270, 2271, 2272, 2273, 2274, 2275, 2276, 2277, 2278, 2279, 2281, 2282, 2283, 2284, 2285, 2286, 2287, 2288, 2301, 2302, 2303, 2304, 2305, 2306, 2307, 2308, 2309, 2310, 2311, 2312, 2313, 2314, 2315, 2316, 2317, 2318, 2319, 2320, 2321, 2322, 2323, 2324, 2325, 2326, 2327, 2328, 2329, 2330, 2331, 2332, 2333, 2334, 2335, 2336, 2337, 2338, 2339, 2341, 2342, 2343, 2344, 2345, 2346, 2347, 2348, 2349, 2350, 2351, 2352, 2353, 2354, 2355, 2356, 2357, 2358, 2359, 2361, 2362, 2363, 2364, 2365, 2366, 2367, 2368, 2369, 2370, 2383, 2384, 2385, 2386, 2387, 2388, 2389, 2390, 2391, 2392, 2393, 2394, 2395, 2396, 2397, 2398, 2399, 2400, 2401, 2402, 2403, 2404, 2405, 2406, 2407, 2408, 2409, 2410, 2411, 2412, 2413, 2414, 2415, 2416, 2417, 2418, 2419, 2421, 2422, 2423, 2424, 2425, 2426, 2427, 2428, 2429, 2430, 2431, 2432, 2433, 2434, 2435, 2436, 2437, 2438, 2439, 2441, 2442, 2443, 2444, 2445, 2446, 2447, 2448, 2449, 2450, 2451, 2452, 2453, 2465, 2466, 2467, 2468, 2469, 2470, 2471, 2472, 2473, 2474, 2475, 2476, 2477, 2478, 2479, 2480, 2481, 2482, 2483, 2484, 2485, 2486, 2487, 2488, 2489, 2490, 2491, 2492, 2493, 2494, 2495, 2496, 2497, 2498, 2499, 2501, 2502, 2503, 2504, 2505, 2506, 2507, 2508, 2509, 2510, 2511, 2512, 2513, 2514, 2515, 2516, 2517, 2518, 2519, 2521, 2522, 2523, 2524, 2525, 2526, 2527, 2528, 2529, 2530, 2531, 2532, 2533, 2534, 2535, 2547, 2548, 2549, 2550, 2551, 2552, 2553, 2554, 2555, 2556, 2557, 2558, 2559, 2560, 2561, 2562, 2563, 2564, 2565, 2566, 2567, 2568, 2569, 2570, 2571, 2572, 2573, 2574, 2575, 2576, 2577, 2578, 2579, 2581, 2582, 2583, 2584, 2585, 2586, 2587, 2588, 2589, 2590, 2591, 2592, 2593, 2594, 2595, 2596, 2597, 2598, 2599, 2601, 2602, 2603, 2604, 2605, 2606, 2607, 2608, 2609, 2610, 2611, 2612, 2613, 2614, 2615, 2616, 2617, 2628, 2629, 2630, 2631, 2632, 2633, 2634, 2635, 2636, 2637, 2638, 2639, 2640, 2641, 2642, 2643, 2644, 2645, 2646, 2647, 2648, 2649, 2650, 2651, 2652, 2653, 2654, 2655, 2656, 2657, 2658, 2659, 2661, 2662, 2663, 2664, 2665, 2666, 2667, 2668, 2669, 2670, 2671, 2672, 2673, 2674, 2675, 2676, 2677, 2678, 2679, 2681, 2682, 2683, 2684, 2685, 2686, 2687, 2688, 2689, 2690, 2691, 2692, 2693, 2694, 2695, 2696, 2697, 2698, 2699, 2700, 2710, 2711, 2712, 2713, 2714, 2715, 2716, 2717, 2718, 2719, 2720, 2721, 2722, 2723, 2724, 2725, 2726, 2727, 2728, 2729, 2730, 2731, 2732, 2733, 2734, 2735, 2736, 2737, 2738, 2739, 2741, 2742, 2743, 2744, 2745, 2746, 2747, 2748, 2749, 2750, 2751, 2752, 2753, 2754, 2755, 2756, 2757, 2758, 2759, 2761, 2762, 2763, 2764, 2765, 2766, 2767, 2768, 2769, 2770, 2771, 2772, 2773, 2774, 2775, 2776, 2777, 2778, 2779, 2780, 2781, 2782, 2792, 2793, 2794, 2795, 2796, 2797, 2798, 2799, 2800, 2801, 2802, 2803, 2804, 2805, 2806, 2807, 2808, 2809, 2810, 2811, 2812, 2813, 2814, 2815, 2816, 2817, 2818, 2819, 2821, 2822, 2823, 2824, 2825, 2826, 2827, 2828, 2829, 2830, 2831, 2832, 2833, 2834, 2835, 2836, 2837, 2838, 2839, 2841, 2842, 2843, 2844, 2845, 2846, 2847, 2848, 2849, 2850, 2851, 2852, 2853, 2854, 2855, 2856, 2857, 2858, 2859, 2860, 2861, 2862, 2863, 2864, 2865, 2874, 2875, 2876, 2877, 2878, 2879, 2880, 2881, 2882, 2883, 2884, 2885, 2886, 2887, 2888, 2889, 2890, 2891, 2892, 2893, 2894, 2895, 2896, 2897, 2898, 2899, 2901, 2902, 2903, 2904, 2905, 2906, 2907, 2908, 2909, 2910, 2911, 2912, 2913, 2914, 2915, 2916, 2917, 2918, 2919, 2921, 2922, 2923, 2924, 2925, 2926, 2927, 2928, 2929, 2930, 2931, 2932, 2933, 2934, 2935, 2936, 2937, 2938, 2939, 2940, 2941, 2942, 2943, 2944, 2945, 2946, 2947, 2955, 2956, 2957, 2958, 2959, 2960, 2961, 2962, 2963, 2964, 2965, 2966, 2967, 2968, 2969, 2970, 2971, 2972, 2973, 2974, 2975, 2976, 2977, 2978, 2979, 2981, 2982, 2983, 2984, 2985, 2986, 2987, 2988, 2989, 2990, 2991, 2992, 2993, 2994, 2995, 2996, 2997, 2998, 2999, 3001, 3002, 3003, 3004, 3005, 3006, 3007, 3008, 3009, 3010, 3011, 3012, 3013, 3014, 3015, 3016, 3017, 3018, 3019, 3020, 3021, 3022, 3023, 3024, 3025, 3026, 3027, 3028, 3029, 3037, 3038, 3039, 3040, 3041, 3042, 3043, 3044, 3045, 3046, 3047, 3048, 3049, 3050, 3051, 3052, 3053, 3054, 3055, 3056, 3057, 3058, 3059, 3061, 3062, 3063, 3064, 3065, 3066, 3067, 3068, 3069, 3070, 3071, 3072, 3073, 3074, 3075, 3076, 3077, 3078, 3079, 3081, 3082, 3083, 3084, 3085, 3086, 3087, 3088, 3089, 3090, 3091, 3092, 3093, 3094, 3095, 3096, 3097, 3098, 3099, 3100, 3101, 3102, 3103, 3104, 3105, 3106, 3107, 3108, 3109, 3110, 3111, 3112, 3119, 3120, 3121, 3122, 3123, 3124, 3125, 3126, 3127, 3128, 3129, 3130, 3131, 3132, 3133, 3134, 3135, 3136, 3137, 3138, 3139, 3141, 3142, 3143, 3144, 3145, 3146, 3147, 3148, 3149, 3150, 3151, 3152, 3153, 3154, 3155, 3156, 3157, 3158, 3159, 3161, 3162, 3163, 3164, 3165, 3166, 3167, 3168, 3169, 3170, 3171, 3172, 3173, 3174, 3175, 3176, 3177, 3178, 3179, 3180, 3181, 3182, 3183, 3184, 3185, 3186, 3187, 3188, 3189, 3190, 3191, 3192, 3193, 3194, 3201, 3202, 3203, 3204, 3205, 3206, 3207, 3208, 3209, 3210, 3211, 3212, 3213, 3214, 3215, 3216, 3217, 3218, 3219, 3221, 3222, 3223, 3224, 3225, 3226, 3227, 3228, 3229, 3230, 3231, 3232, 3233, 3234, 3235, 3236, 3237, 3238, 3239, 3241, 3242, 3243, 3244, 3245, 3246, 3247, 3248, 3249, 3250, 3251, 3252, 3253, 3254, 3255, 3256, 3257, 3258, 3259, 3260, 3261, 3262, 3263, 3264, 3265, 3266, 3267, 3268, 3269, 3270, 3271, 3272, 3273, 3274, 3275, 3276, 3277, 3282, 3283, 3284, 3285, 3286, 3287, 3288, 3289, 3290, 3291, 3292, 3293, 3294, 3295, 3296, 3297, 3298, 3299, 3301, 3302, 3303, 3304, 3305, 3306, 3307, 3308, 3309, 3310, 3311, 3312, 3313, 3314, 3315, 3316, 3317, 3318, 3319, 3320, 3321, 3322, 3323, 3324, 3325, 3326, 3327, 3328, 3329, 3330, 3331, 3332, 3333, 3334, 3335, 3336, 3337, 3338, 3339, 3340, 3341, 3342, 3343, 3344, 3345, 3346, 3347, 3348, 3349, 3350, 3351, 3352, 3353, 3354, 3355, 3356, 3357, 3358, 3359, 3364, 3365, 3366, 3367, 3368, 3369, 3370, 3371, 3372, 3373, 3374, 3375, 3376, 3377, 3378, 3379, 3381, 3382, 3383, 3384, 3385, 3386, 3387, 3388, 3389, 3390, 3391, 3392, 3393, 3394, 3395, 3396, 3397, 3398, 3399, 3400, 3401, 3402, 3403, 3404, 3405, 3406, 3407, 3408, 3409, 3410, 3411, 3412, 3413, 3414, 3415, 3416, 3417, 3418, 3419, 3420, 3421, 3422, 3423, 3424, 3425, 3426, 3427, 3428, 3429, 3430, 3431, 3432, 3433, 3434, 3435, 3436, 3437, 3438, 3439, 3440, 3441, 3442, 3446, 3447, 3448, 3449, 3450, 3451, 3452, 3453, 3454, 3455, 3456, 3457, 3458, 3459, 3461, 3462, 3463, 3464, 3465, 3466, 3467, 3468, 3469, 3470, 3471, 3472, 3473, 3474, 3475, 3476, 3477, 3478, 3479, 3480, 3481, 3482, 3483, 3484, 3485, 3486, 3487, 3488, 3489, 3490, 3491, 3492, 3493, 3494, 3495, 3496, 3497, 3498, 3499, 3500, 3501, 3502, 3503, 3504, 3505, 3506, 3507, 3508, 3509, 3510, 3511, 3512, 3513, 3514, 3515, 3516, 3517, 3518, 3519, 3520, 3521, 3522, 3523, 3524, 3527, 3528, 3529, 3530, 3531, 3532, 3533, 3534, 3535, 3536, 3537, 3538, 3539, 3541, 3542, 3543, 3544, 3545, 3546, 3547, 3548, 3549, 3550, 3551, 3552, 3553, 3554, 3555, 3556, 3557, 3558, 3559, 3560, 3561, 3562, 3563, 3564, 3565, 3566, 3567, 3568, 3569, 3570, 3571, 3572, 3573, 3574, 3575, 3576, 3577, 3578, 3579, 3580, 3581, 3582, 3583, 3584, 3585, 3586, 3587, 3588, 3589, 3590, 3591, 3592, 3593, 3594, 3595, 3596, 3597, 3598, 3599, 3600, 3601, 3602, 3603, 3604, 3605, 3606, 3609, 3610, 3611, 3612, 3613, 3614, 3615, 3616, 3617, 3618, 3619, 3621, 3622, 3623, 3624, 3625, 3626, 3627, 3628, 3629, 3630, 3631, 3632, 3633, 3634, 3635, 3636, 3637, 3638, 3639, 3640, 3641, 3642, 3643, 3644, 3645, 3646, 3647, 3648, 3649, 3650, 3651, 3652, 3653, 3654, 3655, 3656, 3657, 3658, 3659, 3660, 3661, 3662, 3663, 3664, 3665, 3666, 3667, 3668, 3669, 3670, 3671, 3672, 3673, 3674, 3675, 3676, 3677, 3678, 3679, 3680, 3681, 3682, 3683, 3684, 3685, 3686, 3687, 3688, 3689, 3691, 3692, 3693, 3694, 3695, 3696, 3697, 3698, 3699, 3701, 3702, 3703, 3704, 3705, 3706, 3707, 3708, 3709, 3710, 3711, 3712, 3713, 3714, 3715, 3716, 3717, 3718, 3719, 3720, 3721, 3722, 3723, 3724, 3725, 3726, 3727, 3728, 3729, 3730, 3731, 3732, 3733, 3734, 3735, 3736, 3737, 3738, 3739, 3740, 3741, 3742, 3743, 3744, 3745, 3746, 3747, 3748, 3749, 3750, 3751, 3752, 3753, 3754, 3755, 3756, 3757, 3758, 3759, 3760, 3761, 3762, 3763, 3764, 3765, 3766, 3767, 3768, 3769, 3770, 3771, 3773, 3774, 3775, 3776, 3777, 3778, 3779, 3781, 3782, 3783, 3784, 3785, 3786, 3787, 3788, 3789, 3790, 3791, 3792, 3793, 3794, 3795, 3796, 3797, 3798, 3799, 3800, 3801, 3802, 3803, 3804, 3805, 3806, 3807, 3808, 3809, 3810, 3811, 3812, 3813, 3814, 3815, 3816, 3817, 3818, 3819, 3820, 3821, 3822, 3823, 3824, 3825, 3826, 3827, 3828, 3829, 3830, 3831, 3832, 3833, 3834, 3835, 3836, 3837, 3838, 3839, 3840, 3841, 3842, 3843, 3844, 3845, 3846, 3847, 3848, 3849, 3850, 3851, 3852, 3853, 3855, 3856, 3857, 3858, 3859, 3861, 3862, 3863, 3864, 3865, 3866, 3867, 3868, 3869, 3870, 3871, 3872, 3873, 3874, 3875, 3876, 3877, 3878, 3879, 3880, 3881, 3882, 3883, 3884, 3885, 3886, 3887, 3888, 3889, 3890, 3891, 3892, 3893, 3894, 3895, 3896, 3897, 3898, 3899, 3900, 3901, 3902, 3903, 3904, 3905, 3906, 3907, 3908, 3909, 3910, 3911, 3912, 3913, 3914, 3915, 3916, 3917, 3918, 3919, 3920, 3921, 3922, 3923, 3924, 3925, 3926, 3927, 3928, 3929, 3930, 3931, 3932, 3933, 3934, 3935, 3937, 3938, 3939, 3941, 3942, 3943, 3944, 3945, 3946, 3947, 3948, 3949, 3950, 3951, 3952, 3953, 3954, 3955, 3956, 3957, 3958, 3959, 3960, 3961, 3962, 3963, 3964, 3965, 3966, 3967, 3968, 3969, 3970, 3971, 3972, 3973, 3974, 3975, 3976, 3977, 3978, 3979, 3980, 3981, 3982, 3983, 3984, 3985, 3986, 3987, 3988, 3989, 3990, 3991, 3992, 3993, 3994, 3995, 3996, 3997, 3998, 3999, 4000, 4001, 4002, 4003, 4004, 4005, 4006, 4007, 4008, 4009, 4010, 4011, 4012, 4013, 4014, 4015, 4016, 4017, 4021, 4022, 4023, 4024, 4025, 4026, 4027, 4028, 4029, 4030, 4031, 4032, 4033, 4034, 4035, 4036, 4037, 4038, 4039, 4040, 4041, 4042, 4043, 4044, 4045, 4046, 4047, 4048, 4049, 4050, 4051, 4052, 4053, 4054, 4055, 4056, 4057, 4058, 4059, 4060, 4061, 4062, 4063, 4064, 4065, 4066, 4067, 4068, 4069, 4070, 4071, 4072, 4073, 4074, 4075, 4076, 4077, 4078, 4079, 4080, 4081, 4082, 4083, 4084, 4085, 4086, 4087, 4088, 4089, 4090, 4091, 4092, 4093, 4094, 4095, 4096, 4097, 4098, 4102, 4103, 4104, 4105, 4106, 4107, 4108, 4109, 4110, 4111, 4112, 4113, 4114, 4115, 4116, 4117, 4118, 4119, 4120, 4121, 4122, 4123, 4124, 4125, 4126, 4127, 4128, 4129, 4130, 4131, 4132, 4133, 4134, 4135, 4136, 4137, 4138, 4139, 4140, 4141, 4142, 4143, 4144, 4145, 4146, 4147, 4148, 4149, 4150, 4151, 4152, 4153, 4154, 4155, 4156, 4157, 4158, 4159, 4160, 4161, 4162, 4163, 4164, 4165, 4166, 4167, 4168, 4169, 4170, 4171, 4172, 4173, 4174, 4175, 4176, 4177, 4178, 4179, 4184, 4185, 4186, 4187, 4188, 4189, 4190, 4191, 4192, 4193, 4194, 4195, 4196, 4197, 4198, 4199, 4200, 4201, 4202, 4203, 4204, 4205, 4206, 4207, 4208, 4209, 4210, 4211, 4212, 4213, 4214, 4215, 4216, 4217, 4218, 4219, 4220, 4221, 4222, 4223, 4224, 4225, 4226, 4227, 4228, 4229, 4230, 4231, 4232, 4233, 4234, 4235, 4236, 4237, 4238, 4239, 4240, 4241, 4242, 4243, 4244, 4245, 4246, 4247, 4248, 4249, 4250, 4251, 4252, 4253, 4254, 4255, 4256, 4257, 4258, 4259, 4261, 4262, 4267, 4268, 4269, 4270, 4271, 4272, 4273, 4274, 4275, 4276, 4277, 4278, 4279, 4280, 4281, 4282, 4283, 4284, 4285, 4286, 4287, 4288, 4289, 4290, 4291, 4292, 4293, 4294, 4295, 4296, 4297, 4298, 4299, 4300, 4301, 4302, 4303, 4304, 4305, 4306, 4307, 4308, 4309, 4310, 4311, 4312, 4313, 4314, 4315, 4316, 4317, 4318, 4319, 4320, 4321, 4322, 4323, 4324, 4325, 4326, 4327, 4328, 4329, 4330, 4331, 4332, 4333, 4334, 4335, 4336, 4337, 4338, 4339, 4341, 4342, 4343, 4344, 4349, 4350, 4351, 4352, 4353, 4354, 4355, 4356, 4357, 4358, 4359, 4360, 4361, 4362, 4363, 4364, 4365, 4366, 4367, 4368, 4369, 4370, 4371, 4372, 4373, 4374, 4375, 4376, 4377, 4378, 4379, 4380, 4381, 4382, 4383, 4384, 4385, 4386, 4387, 4388, 4389, 4390, 4391, 4392, 4393, 4394, 4395, 4396, 4397, 4398, 4399, 4400, 4401, 4402, 4403, 4404, 4405, 4406, 4407, 4408, 4409, 4410, 4411, 4412, 4413, 4414, 4415, 4416, 4417, 4418, 4419, 4421, 4422, 4423, 4424, 4425, 4426, 4432, 4433, 4434, 4435, 4436, 4437, 4438, 4439, 4440, 4441, 4442, 4443, 4444, 4445, 4446, 4447, 4448, 4449, 4450, 4451, 4452, 4453, 4454, 4455, 4456, 4457, 4458, 4459, 4460, 4461, 4462, 4463, 4464, 4465, 4466, 4467, 4468, 4469, 4470, 4471, 4472, 4473, 4474, 4475, 4476, 4477, 4478, 4479, 4480, 4481, 4482, 4483, 4484, 4485, 4486, 4487, 4488, 4489, 4490, 4491, 4492, 4493, 4494, 4495, 4496, 4497, 4498, 4499, 4501, 4502, 4503, 4504, 4505, 4506, 4507, 4514, 4515, 4516, 4517, 4518, 4519, 4520, 4521, 4522, 4523, 4524, 4525, 4526, 4527, 4528, 4529, 4530, 4531, 4532, 4533, 4534, 4535, 4536, 4537, 4538, 4539, 4540, 4541, 4542, 4543, 4544, 4545, 4546, 4547, 4548, 4549, 4550, 4551, 4552, 4553, 4554, 4555, 4556, 4557, 4558, 4559, 4560, 4561, 4562, 4563, 4564, 4565, 4566, 4567, 4568, 4569, 4570, 4571, 4572, 4573, 4574, 4575, 4576, 4577, 4578, 4579, 4581, 4582, 4583, 4584, 4585, 4586, 4587, 4588, 4589, 4596, 4597, 4598, 4599, 4600, 4601, 4602, 4603, 4604, 4605, 4606, 4607, 4608, 4609, 4610, 4611, 4612, 4613, 4614, 4615, 4616, 4617, 4618, 4619, 4620, 4621, 4622, 4623, 4624, 4625, 4626, 4627, 4628, 4629, 4630, 4631, 4632, 4633, 4634, 4635, 4636, 4637, 4638, 4639, 4640, 4641, 4642, 4643, 4644, 4645, 4646, 4647, 4648, 4649, 4650, 4651, 4652, 4653, 4654, 4655, 4656, 4657, 4658, 4659, 4661, 4662, 4663, 4664, 4665, 4666, 4667, 4668, 4669, 4670, 4671, 4679, 4680, 4681, 4682, 4683, 4684, 4685, 4686, 4687, 4688, 4689, 4690, 4691, 4692, 4693, 4694, 4695, 4696, 4697, 4698, 4699, 4700, 4701, 4702, 4703, 4704, 4705, 4706, 4707, 4708, 4709, 4710, 4711, 4712, 4713, 4714, 4715, 4716, 4717, 4718, 4719, 4720, 4721, 4722, 4723, 4724, 4725, 4726, 4727, 4728, 4729, 4730, 4731, 4732, 4733, 4734, 4735, 4736, 4737, 4738, 4739, 4741, 4742, 4743, 4744, 4745, 4746, 4747, 4748, 4749, 4750, 4751, 4752, 4761, 4762, 4763, 4764, 4765, 4766, 4767, 4768, 4769, 4770, 4771, 4772, 4773, 4774, 4775, 4776, 4777, 4778, 4779, 4780, 4781, 4782, 4783, 4784, 4785, 4786, 4787, 4788, 4789, 4790, 4791, 4792, 4793, 4794, 4795, 4796, 4797, 4798, 4799, 4800, 4801, 4802, 4803, 4804, 4805, 4806, 4807, 4808, 4809, 4810, 4811, 4812, 4813, 4814, 4815, 4816, 4817, 4818, 4819, 4821, 4822, 4823, 4824, 4825, 4826, 4827, 4828, 4829, 4830, 4831, 4832, 4833, 4834, 4844, 4845, 4846, 4847, 4848, 4849, 4850, 4851, 4852, 4853, 4854, 4855, 4856, 4857, 4858, 4859, 4860, 4861, 4862, 4863, 4864, 4865, 4866, 4867, 4868, 4869, 4870, 4871, 4872, 4873, 4874, 4875, 4876, 4877, 4878, 4879, 4880, 4881, 4882, 4883, 4884, 4885, 4886, 4887, 4888, 4889, 4890, 4891, 4892, 4893, 4894, 4895, 4896, 4897, 4898, 4899, 4901, 4902, 4903, 4904, 4905, 4906, 4907, 4908, 4909, 4910, 4911, 4912, 4913, 4914, 4915, 4916, 4926, 4927, 4928, 4929, 4930, 4931, 4932, 4933, 4934, 4935, 4936, 4937, 4938, 4939, 4940, 4941, 4942, 4943, 4944, 4945, 4946, 4947, 4948, 4949, 4950, 4951, 4952, 4953, 4954, 4955, 4956, 4957, 4958, 4959, 4960, 4961, 4962, 4963, 4964, 4965, 4966, 4967, 4968, 4969, 4970, 4971, 4972, 4973, 4974, 4975, 4976, 4977, 4978, 4979, 4981, 4982, 4983, 4984, 4985, 4986, 4987, 4988, 4989, 4990, 4991, 4992, 4993, 4994, 4995, 4996, 4997, 4998, 5008, 5009, 5010, 5011, 5012, 5013, 5014, 5015, 5016, 5017, 5018, 5019, 5020, 5021, 5022, 5023, 5024, 5025, 5026, 5027, 5028, 5029, 5030, 5031, 5032, 5033, 5034, 5035, 5036, 5037, 5038, 5039, 5040, 5041, 5042, 5043, 5044, 5045, 5046, 5047, 5048, 5049, 5050, 5051, 5052, 5053, 5054, 5055, 5056, 5057, 5058, 5059, 5061, 5062, 5063, 5064, 5065, 5066, 5067, 5068, 5069, 5070, 5071, 5072, 5073, 5074, 5075, 5076, 5077, 5078, 5079, 5091, 5092, 5093, 5094, 5095, 5096, 5097, 5098, 5099, 5100, 5101, 5102, 5103, 5104, 5105, 5106, 5107, 5108, 5109, 5110, 5111, 5112, 5113, 5114, 5115, 5116, 5117, 5118, 5119, 5120, 5121, 5122, 5123, 5124, 5125, 5126, 5127, 5128, 5129, 5130, 5131, 5132, 5133, 5134, 5135, 5136, 5137, 5138, 5139, 5141, 5142, 5143, 5144, 5145, 5146, 5147, 5148, 5149, 5150, 5151, 5152, 5153, 5154, 5155, 5156, 5157, 5158, 5159, 5160, 5161, 5173, 5174, 5175, 5176, 5177, 5178, 5179, 5180, 5181, 5182, 5183, 5184, 5185, 5186, 5187, 5188, 5189, 5190, 5191, 5192, 5193, 5194, 5195, 5196, 5197, 5198, 5199, 5200, 5201, 5202, 5203, 5204, 5205, 5206, 5207, 5208, 5209, 5210, 5211, 5212, 5213, 5214, 5215, 5216, 5217, 5218, 5219, 5221, 5222, 5223, 5224, 5225, 5226, 5227, 5228, 5229, 5230, 5231, 5232, 5233, 5234, 5235, 5236, 5237, 5238, 5239, 5240, 5241, 5242, 5243, 5256, 5257, 5258, 5259, 5260, 5261, 5262, 5263, 5264, 5265, 5266, 5267, 5268, 5269, 5270, 5271, 5272, 5273, 5274, 5275, 5276, 5277, 5278, 5279, 5280, 5281, 5282, 5283, 5284, 5285, 5286, 5287, 5288, 5289, 5290, 5291, 5292, 5293, 5294, 5295, 5296, 5297, 5298, 5299, 5301, 5302, 5303, 5304, 5305, 5306, 5307, 5308, 5309, 5310, 5311, 5312, 5313, 5314, 5315, 5316, 5317, 5318, 5319, 5320, 5321, 5322, 5323, 5324, 5325, 5338, 5339, 5340, 5341, 5342, 5343, 5344, 5345, 5346, 5347, 5348, 5349, 5350, 5351, 5352, 5353, 5354, 5355, 5356, 5357, 5358, 5359, 5360, 5361, 5362, 5363, 5364, 5365, 5366, 5367, 5368, 5369, 5370, 5371, 5372, 5373, 5374, 5375, 5376, 5377, 5378, 5379, 5381, 5382, 5383, 5384, 5385, 5386, 5387, 5388, 5389, 5390, 5391, 5392, 5393, 5394, 5395, 5396, 5397, 5398, 5399, 5400, 5401, 5402, 5403, 5404, 5405, 5406, 5421, 5422, 5423, 5424, 5425, 5426, 5427, 5428, 5429, 5430, 5431, 5432, 5433, 5434, 5435, 5436, 5437, 5438, 5439, 5440, 5441, 5442, 5443, 5444, 5445, 5446, 5447, 5448, 5449, 5450, 5451, 5452, 5453, 5454, 5455, 5456, 5457, 5458, 5459, 5461, 5462, 5463, 5464, 5465, 5466, 5467, 5468, 5469, 5470, 5471, 5472, 5473, 5474, 5475, 5476, 5477, 5478, 5479, 5480, 5481, 5482, 5483, 5484, 5485, 5486, 5487, 5488, 5503, 5504, 5505, 5506, 5507, 5508, 5509, 5510, 5511, 5512, 5513, 5514, 5515, 5516, 5517, 5518, 5519, 5520, 5521, 5522, 5523, 5524, 5525, 5526, 5527, 5528, 5529, 5530, 5531, 5532, 5533, 5534, 5535, 5536, 5537, 5538, 5539, 5541, 5542, 5543, 5544, 5545, 5546, 5547, 5548, 5549, 5550, 5551, 5552, 5553, 5554, 5555, 5556, 5557, 5558, 5559, 5560, 5561, 5562, 5563, 5564, 5565, 5566, 5567, 5568, 5569, 5570, 5585, 5586, 5587, 5588, 5589, 5590, 5591, 5592, 5593, 5594, 5595, 5596, 5597, 5598, 5599, 5600, 5601, 5602, 5603, 5604, 5605, 5606, 5607, 5608, 5609, 5610, 5611, 5612, 5613, 5614, 5615, 5616, 5617, 5618, 5619, 5621, 5622, 5623, 5624, 5625, 5626, 5627, 5628, 5629, 5630, 5631, 5632, 5633, 5634, 5635, 5636, 5637, 5638, 5639, 5640, 5641, 5642, 5643, 5644, 5645, 5646, 5647, 5648, 5649, 5650, 5651, 5652, 5668, 5669, 5670, 5671, 5672, 5673, 5674, 5675, 5676, 5677, 5678, 5679, 5680, 5681, 5682, 5683, 5684, 5685, 5686, 5687, 5688, 5689, 5690, 5691, 5692, 5693, 5694, 5695, 5696, 5697, 5698, 5699, 5701, 5702, 5703, 5704, 5705, 5706, 5707, 5708, 5709, 5710, 5711, 5712, 5713, 5714, 5715, 5716, 5717, 5718, 5719, 5720, 5721, 5722, 5723, 5724, 5725, 5726, 5727, 5728, 5729, 5730, 5731, 5732, 5733, 5750, 5751, 5752, 5753, 5754, 5755, 5756, 5757, 5758, 5759, 5760, 5761, 5762, 5763, 5764, 5765, 5766, 5767, 5768, 5769, 5770, 5771, 5772, 5773, 5774, 5775, 5776, 5777, 5778, 5779, 5781, 5782, 5783, 5784, 5785, 5786, 5787, 5788, 5789, 5790, 5791, 5792, 5793, 5794, 5795, 5796, 5797, 5798, 5799, 5800, 5801, 5802, 5803, 5804, 5805, 5806, 5807, 5808, 5809, 5810, 5811, 5812, 5813, 5814, 5815, 5832, 5833, 5834, 5835, 5836, 5837, 5838, 5839, 5840, 5841, 5842, 5843, 5844, 5845, 5846, 5847, 5848, 5849, 5850, 5851, 5852, 5853, 5854, 5855, 5856, 5857, 5858, 5859, 5861, 5862, 5863, 5864, 5865, 5866, 5867, 5868, 5869, 5870, 5871, 5872, 5873, 5874, 5875, 5876, 5877, 5878, 5879, 5880, 5881, 5882, 5883, 5884, 5885, 5886, 5887, 5888, 5889, 5890, 5891, 5892, 5893, 5894, 5895, 5896, 5897, 5913, 5914, 5915, 5916, 5917, 5918, 5919, 5920, 5921, 5922, 5923, 5924, 5925, 5926, 5927, 5928, 5929, 5930, 5931, 5932, 5933, 5934, 5935, 5936, 5937, 5938, 5939, 5941, 5942, 5943, 5944, 5945, 5946, 5947, 5948, 5949, 5950, 5951, 5952, 5953, 5954, 5955, 5956, 5957, 5958, 5959, 5960, 5961, 5962, 5963, 5964, 5965, 5966, 5967, 5968, 5969, 5970, 5971, 5972, 5973, 5974, 5975, 5976, 5977, 5978, 5994, 5995, 5996, 5997, 5998, 5999, 6000, 6001, 6002, 6003, 6004, 6005, 6006, 6007, 6008, 6009, 6010, 6011, 6012, 6013, 6014, 6015, 6016, 6017, 6018, 6019, 6021, 6022, 6023, 6024, 6025, 6026, 6027, 6028, 6029, 6030, 6031, 6032, 6033, 6034, 6035, 6036, 6037, 6038, 6039, 6040, 6041, 6042, 6043, 6044, 6045, 6046, 6047, 6048, 6049, 6050, 6051, 6052, 6053, 6054, 6055, 6056, 6057, 6058, 6059, 6060, 6075, 6076, 6077, 6078, 6079, 6080, 6081, 6082, 6083, 6084, 6085, 6086, 6087, 6088, 6089, 6090, 6091, 6092, 6093, 6094, 6095, 6096, 6097, 6098, 6099, 6101, 6102, 6103, 6104, 6105, 6106, 6107, 6108, 6109, 6110, 6111, 6112, 6113, 6114, 6115, 6116, 6117, 6118, 6119, 6120, 6121, 6122, 6123, 6124, 6125, 6126, 6127, 6128, 6129, 6130, 6131, 6132, 6133, 6134, 6135, 6136, 6137, 6138, 6139, 6140, 6141, 6142, 6156, 6157, 6158, 6159, 6160, 6161, 6162, 6163, 6164, 6165, 6166, 6167, 6168, 6169, 6170, 6171, 6172, 6173, 6174, 6175, 6176, 6177, 6178, 6179, 6181, 6182, 6183, 6184, 6185, 6186, 6187, 6188, 6189, 6190, 6191, 6192, 6193, 6194, 6195, 6196, 6197, 6198, 6199, 6200, 6201, 6202, 6203, 6204, 6205, 6206, 6207, 6208, 6209, 6210, 6211, 6212, 6213, 6214, 6215, 6216, 6217, 6218, 6219, 6220, 6221, 6222, 6223, 6224, 6237, 6238, 6239, 6240, 6241, 6242, 6243, 6244, 6245, 6246, 6247, 6248, 6249, 6250, 6251, 6252, 6253, 6254, 6255, 6256, 6257, 6258, 6259, 6261, 6262, 6263, 6264, 6265, 6266, 6267, 6268, 6269, 6270, 6271, 6272, 6273, 6274, 6275, 6276, 6277, 6278, 6279, 6280, 6281, 6282, 6283, 6284, 6285, 6286, 6287, 6288, 6289, 6290, 6291, 6292, 6293, 6294, 6295, 6296, 6297, 6298, 6299, 6300, 6301, 6302, 6303, 6304, 6305, 6318, 6319, 6320, 6321, 6322, 6323, 6324, 6325, 6326, 6327, 6328, 6329, 6330, 6331, 6332, 6333, 6334, 6335, 6336, 6337, 6338, 6339, 6341, 6342, 6343, 6344, 6345, 6346, 6347, 6348, 6349, 6350, 6351, 6352, 6353, 6354, 6355, 6356, 6357, 6358, 6359, 6360, 6361, 6362, 6363, 6364, 6365, 6366, 6367, 6368, 6369, 6370, 6371, 6372, 6373, 6374, 6375, 6376, 6377, 6378, 6379, 6380, 6381, 6382, 6383, 6384, 6385, 6386, 6387, 6399, 6400, 6401, 6402, 6403, 6404, 6405, 6406, 6407, 6408, 6409, 6410, 6411, 6412, 6413, 6414, 6415, 6416, 6417, 6418, 6419, 6421, 6422, 6423, 6424, 6425, 6426, 6427, 6428, 6429, 6430, 6431, 6432, 6433, 6434, 6435, 6436, 6437, 6438, 6439, 6440, 6441, 6442, 6443, 6444, 6445, 6446, 6447, 6448, 6449, 6450, 6451, 6452, 6453, 6454, 6455, 6456, 6457, 6458, 6459, 6460, 6461, 6462, 6463, 6464, 6465, 6466, 6467, 6468, 6469, 6480, 6481, 6482, 6483, 6484, 6485, 6486, 6487, 6488, 6489, 6490, 6491, 6492, 6493, 6494, 6495, 6496, 6497, 6498, 6499, 6501, 6502, 6503, 6504, 6505, 6506, 6507, 6508, 6509, 6510, 6511, 6512, 6513, 6514, 6515, 6516, 6517, 6518, 6519, 6520, 6521, 6522, 6523, 6524, 6525, 6526, 6527, 6528, 6529, 6530, 6531, 6532, 6533, 6534, 6535, 6536, 6537, 6538, 6539, 6540, 6541, 6542, 6543, 6544, 6545, 6546, 6547, 6548, 6549, 6550, 6551]\n",
      "val ids:  []\n",
      "test ids:  [0, 1, 2, 3, 4, 5, 6, 7, 8, 9, 10, 11, 12, 40, 81, 82, 83, 84, 85, 86, 87, 88, 89, 90, 91, 92, 93, 94, 120, 162, 163, 164, 165, 166, 167, 168, 169, 170, 171, 172, 173, 174, 175, 200, 243, 244, 245, 246, 247, 248, 249, 250, 251, 252, 253, 254, 255, 256, 257, 280, 324, 325, 326, 327, 328, 329, 330, 331, 332, 333, 334, 335, 336, 337, 338, 339, 360, 405, 406, 407, 408, 409, 410, 411, 412, 413, 414, 415, 416, 417, 418, 419, 420, 421, 440, 486, 487, 488, 489, 490, 491, 492, 493, 494, 495, 496, 497, 498, 499, 500, 501, 502, 520, 567, 568, 569, 570, 571, 572, 573, 574, 575, 576, 577, 578, 579, 580, 581, 582, 583, 584, 600, 648, 649, 650, 651, 652, 653, 654, 655, 656, 657, 658, 659, 660, 661, 662, 663, 664, 665, 666, 680, 729, 730, 731, 732, 733, 734, 735, 736, 737, 738, 739, 740, 741, 742, 743, 744, 745, 746, 747, 748, 760, 810, 811, 812, 813, 814, 815, 816, 817, 818, 819, 820, 821, 822, 823, 824, 825, 826, 827, 828, 829, 840, 891, 892, 893, 894, 895, 896, 897, 898, 899, 900, 901, 902, 903, 904, 905, 906, 907, 908, 909, 910, 911, 920, 972, 973, 974, 975, 976, 977, 978, 979, 980, 981, 982, 983, 984, 985, 986, 987, 988, 989, 990, 991, 992, 993, 1000, 1053, 1054, 1055, 1056, 1057, 1058, 1059, 1060, 1061, 1062, 1063, 1064, 1065, 1066, 1067, 1068, 1069, 1070, 1071, 1072, 1073, 1074, 1075, 1080, 1135, 1136, 1137, 1138, 1139, 1140, 1141, 1142, 1143, 1144, 1145, 1146, 1147, 1148, 1149, 1150, 1151, 1152, 1153, 1154, 1155, 1156, 1160, 1217, 1218, 1219, 1220, 1221, 1222, 1223, 1224, 1225, 1226, 1227, 1228, 1229, 1230, 1231, 1232, 1233, 1234, 1235, 1236, 1237, 1238, 1240, 1300, 1301, 1302, 1303, 1304, 1305, 1306, 1307, 1308, 1309, 1310, 1311, 1312, 1313, 1314, 1315, 1316, 1317, 1318, 1319, 1320, 1382, 1383, 1384, 1385, 1386, 1387, 1388, 1389, 1390, 1391, 1392, 1393, 1394, 1395, 1396, 1397, 1398, 1399, 1400, 1401, 1465, 1466, 1467, 1468, 1469, 1470, 1471, 1472, 1473, 1474, 1475, 1476, 1477, 1478, 1479, 1480, 1481, 1482, 1483, 1547, 1548, 1549, 1550, 1551, 1552, 1553, 1554, 1555, 1556, 1557, 1558, 1559, 1560, 1561, 1562, 1563, 1564, 1565, 1629, 1630, 1631, 1632, 1633, 1634, 1635, 1636, 1637, 1638, 1639, 1640, 1641, 1642, 1643, 1644, 1645, 1646, 1647, 1700, 1712, 1713, 1714, 1715, 1716, 1717, 1718, 1719, 1720, 1721, 1722, 1723, 1724, 1725, 1726, 1727, 1728, 1780, 1794, 1795, 1796, 1797, 1798, 1799, 1800, 1801, 1802, 1803, 1804, 1805, 1806, 1807, 1808, 1809, 1810, 1860, 1877, 1878, 1879, 1880, 1881, 1882, 1883, 1884, 1885, 1886, 1887, 1888, 1889, 1890, 1891, 1892, 1940, 1959, 1960, 1961, 1962, 1963, 1964, 1965, 1966, 1967, 1968, 1969, 1970, 1971, 1972, 1973, 1974, 2020, 2040, 2041, 2042, 2043, 2044, 2045, 2046, 2047, 2048, 2049, 2050, 2051, 2052, 2053, 2054, 2055, 2100, 2120, 2124, 2125, 2126, 2127, 2128, 2129, 2130, 2131, 2132, 2133, 2134, 2135, 2136, 2137, 2180, 2200, 2206, 2207, 2208, 2209, 2210, 2211, 2212, 2213, 2214, 2215, 2216, 2217, 2218, 2219, 2260, 2280, 2289, 2290, 2291, 2292, 2293, 2294, 2295, 2296, 2297, 2298, 2299, 2300, 2340, 2360, 2371, 2372, 2373, 2374, 2375, 2376, 2377, 2378, 2379, 2380, 2381, 2382, 2420, 2440, 2454, 2455, 2456, 2457, 2458, 2459, 2460, 2461, 2462, 2463, 2464, 2500, 2520, 2536, 2537, 2538, 2539, 2540, 2541, 2542, 2543, 2544, 2545, 2546, 2580, 2600, 2618, 2619, 2620, 2621, 2622, 2623, 2624, 2625, 2626, 2627, 2660, 2680, 2701, 2702, 2703, 2704, 2705, 2706, 2707, 2708, 2709, 2740, 2760, 2783, 2784, 2785, 2786, 2787, 2788, 2789, 2790, 2791, 2820, 2840, 2866, 2867, 2868, 2869, 2870, 2871, 2872, 2873, 2900, 2920, 2948, 2949, 2950, 2951, 2952, 2953, 2954, 2980, 3000, 3030, 3031, 3032, 3033, 3034, 3035, 3036, 3060, 3080, 3113, 3114, 3115, 3116, 3117, 3118, 3140, 3160, 3195, 3196, 3197, 3198, 3199, 3200, 3220, 3240, 3278, 3279, 3280, 3281, 3300, 3360, 3361, 3362, 3363, 3380, 3443, 3444, 3445, 3460, 3525, 3526, 3540, 3607, 3608, 3620, 3690, 3700, 3772, 3780, 3854, 3860, 3936, 3940, 4018, 4019, 4020, 4099, 4100, 4101, 4180, 4181, 4182, 4183, 4260, 4263, 4264, 4265, 4266, 4340, 4345, 4346, 4347, 4348, 4420, 4427, 4428, 4429, 4430, 4431, 4500, 4508, 4509, 4510, 4511, 4512, 4513, 4580, 4590, 4591, 4592, 4593, 4594, 4595, 4660, 4672, 4673, 4674, 4675, 4676, 4677, 4678, 4740, 4753, 4754, 4755, 4756, 4757, 4758, 4759, 4760, 4820, 4835, 4836, 4837, 4838, 4839, 4840, 4841, 4842, 4843, 4900, 4917, 4918, 4919, 4920, 4921, 4922, 4923, 4924, 4925, 4980, 4999, 5000, 5001, 5002, 5003, 5004, 5005, 5006, 5007, 5060, 5080, 5081, 5082, 5083, 5084, 5085, 5086, 5087, 5088, 5089, 5090, 5140, 5162, 5163, 5164, 5165, 5166, 5167, 5168, 5169, 5170, 5171, 5172, 5220, 5244, 5245, 5246, 5247, 5248, 5249, 5250, 5251, 5252, 5253, 5254, 5255, 5300, 5326, 5327, 5328, 5329, 5330, 5331, 5332, 5333, 5334, 5335, 5336, 5337, 5380, 5407, 5408, 5409, 5410, 5411, 5412, 5413, 5414, 5415, 5416, 5417, 5418, 5419, 5420, 5460, 5489, 5490, 5491, 5492, 5493, 5494, 5495, 5496, 5497, 5498, 5499, 5500, 5501, 5502, 5540, 5571, 5572, 5573, 5574, 5575, 5576, 5577, 5578, 5579, 5580, 5581, 5582, 5583, 5584, 5620, 5653, 5654, 5655, 5656, 5657, 5658, 5659, 5660, 5661, 5662, 5663, 5664, 5665, 5666, 5667, 5700, 5734, 5735, 5736, 5737, 5738, 5739, 5740, 5741, 5742, 5743, 5744, 5745, 5746, 5747, 5748, 5749, 5780, 5816, 5817, 5818, 5819, 5820, 5821, 5822, 5823, 5824, 5825, 5826, 5827, 5828, 5829, 5830, 5831, 5860, 5898, 5899, 5900, 5901, 5902, 5903, 5904, 5905, 5906, 5907, 5908, 5909, 5910, 5911, 5912, 5940, 5979, 5980, 5981, 5982, 5983, 5984, 5985, 5986, 5987, 5988, 5989, 5990, 5991, 5992, 5993, 6020, 6061, 6062, 6063, 6064, 6065, 6066, 6067, 6068, 6069, 6070, 6071, 6072, 6073, 6074, 6100, 6143, 6144, 6145, 6146, 6147, 6148, 6149, 6150, 6151, 6152, 6153, 6154, 6155, 6180, 6225, 6226, 6227, 6228, 6229, 6230, 6231, 6232, 6233, 6234, 6235, 6236, 6260, 6306, 6307, 6308, 6309, 6310, 6311, 6312, 6313, 6314, 6315, 6316, 6317, 6340, 6388, 6389, 6390, 6391, 6392, 6393, 6394, 6395, 6396, 6397, 6398, 6420, 6470, 6471, 6472, 6473, 6474, 6475, 6476, 6477, 6478, 6479, 6500, 6552, 6553, 6554, 6555, 6556, 6557, 6558, 6559, 6560]\n",
      "CPU times: user 188 ms, sys: 32.1 ms, total: 220 ms\n",
      "Wall time: 219 ms\n"
     ]
    }
   ],
   "source": [
    "%%time\n",
    "n_total = len(simulation.dataframe)\n",
    "n_train = len(simulation.dataframe[simulation.dataframe.type_of == \"train\"])\n",
    "n_val = len(simulation.dataframe[simulation.dataframe.type_of == \"val\"])\n",
    "n_test = len(simulation.dataframe[simulation.dataframe.type_of == \"test\"])\n",
    "n_train_hamiltonians = len(simulation.train_ids)\n",
    "n_val_hamiltonians = len(simulation.val_ids)\n",
    "n_test_hamiltonians = len(simulation.test_ids)\n",
    "n_total_hamiltonians = n_train_hamiltonians + n_val_hamiltonians + n_test_hamiltonians\n",
    "\n",
    "print(\"% train: \", n_train/n_total)\n",
    "print(\"% val: \",  n_val/n_total)\n",
    "print(\"% test: \", n_test/n_total)\n",
    "print(\"% train + val + test: \", (n_train+n_val+n_test)/n_total)\n",
    "print(\"\\n\")\n",
    "print(\"number of train hamiltonians: \", n_train_hamiltonians)\n",
    "print(\"number of val hamiltonians: \", n_val_hamiltonians)\n",
    "print(\"number of test hamiltonians: \", n_test_hamiltonians)\n",
    "print(\"total number of hamiltonians: \", n_total_hamiltonians)\n",
    "print(\"\\n\")\n",
    "print(\"train ids: \", simulation.train_ids)\n",
    "print(\"val ids: \", simulation.val_ids)\n",
    "print(\"test ids: \", simulation.test_ids)"
   ]
  },
  {
   "cell_type": "markdown",
   "metadata": {
    "papermill": {
     "duration": 0.019834,
     "end_time": "2020-07-10T01:52:53.598922",
     "exception": false,
     "start_time": "2020-07-10T01:52:53.579088",
     "status": "completed"
    },
    "tags": []
   },
   "source": [
    "## Running a simulation"
   ]
  },
  {
   "cell_type": "code",
   "execution_count": 23,
   "metadata": {
    "execution": {
     "iopub.execute_input": "2020-07-10T01:52:53.646520Z",
     "iopub.status.busy": "2020-07-10T01:52:53.645979Z",
     "iopub.status.idle": "2020-07-10T02:20:34.243124Z",
     "shell.execute_reply": "2020-07-10T02:20:34.243436Z"
    },
    "papermill": {
     "duration": 1660.618602,
     "end_time": "2020-07-10T02:20:34.243500",
     "exception": false,
     "start_time": "2020-07-10T01:52:53.624898",
     "status": "completed"
    },
    "tags": []
   },
   "outputs": [
    {
     "name": "stderr",
     "output_type": "stream",
     "text": [
      "\r",
      "running experiments:   0%|          | 0/100 [00:00<?, ?it/s]"
     ]
    },
    {
     "name": "stderr",
     "output_type": "stream",
     "text": [
      "\r",
      "running experiments:   1%|          | 1/100 [00:19<32:24, 19.65s/it]"
     ]
    },
    {
     "name": "stderr",
     "output_type": "stream",
     "text": [
      "\r",
      "running experiments:   2%|▏         | 2/100 [00:38<31:29, 19.28s/it]"
     ]
    },
    {
     "name": "stderr",
     "output_type": "stream",
     "text": [
      "\r",
      "running experiments:   3%|▎         | 3/100 [00:55<30:18, 18.75s/it]"
     ]
    },
    {
     "name": "stderr",
     "output_type": "stream",
     "text": [
      "\r",
      "running experiments:   4%|▍         | 4/100 [01:12<29:11, 18.25s/it]"
     ]
    },
    {
     "name": "stderr",
     "output_type": "stream",
     "text": [
      "\r",
      "running experiments:   5%|▌         | 5/100 [01:29<28:14, 17.84s/it]"
     ]
    },
    {
     "name": "stderr",
     "output_type": "stream",
     "text": [
      "\r",
      "running experiments:   6%|▌         | 6/100 [01:46<27:25, 17.51s/it]"
     ]
    },
    {
     "name": "stderr",
     "output_type": "stream",
     "text": [
      "\r",
      "running experiments:   7%|▋         | 7/100 [02:03<26:56, 17.39s/it]"
     ]
    },
    {
     "name": "stderr",
     "output_type": "stream",
     "text": [
      "\r",
      "running experiments:   8%|▊         | 8/100 [02:20<26:25, 17.23s/it]"
     ]
    },
    {
     "name": "stderr",
     "output_type": "stream",
     "text": [
      "\r",
      "running experiments:   9%|▉         | 9/100 [02:36<25:48, 17.02s/it]"
     ]
    },
    {
     "name": "stderr",
     "output_type": "stream",
     "text": [
      "\r",
      "running experiments:  10%|█         | 10/100 [02:53<25:32, 17.03s/it]"
     ]
    },
    {
     "name": "stderr",
     "output_type": "stream",
     "text": [
      "\r",
      "running experiments:  11%|█         | 11/100 [03:10<25:03, 16.90s/it]"
     ]
    },
    {
     "name": "stderr",
     "output_type": "stream",
     "text": [
      "\r",
      "running experiments:  12%|█▏        | 12/100 [03:26<24:32, 16.73s/it]"
     ]
    },
    {
     "name": "stderr",
     "output_type": "stream",
     "text": [
      "\r",
      "running experiments:  13%|█▎        | 13/100 [03:43<24:07, 16.64s/it]"
     ]
    },
    {
     "name": "stderr",
     "output_type": "stream",
     "text": [
      "\r",
      "running experiments:  14%|█▍        | 14/100 [03:59<23:47, 16.60s/it]"
     ]
    },
    {
     "name": "stderr",
     "output_type": "stream",
     "text": [
      "\r",
      "running experiments:  15%|█▌        | 15/100 [04:16<23:30, 16.59s/it]"
     ]
    },
    {
     "name": "stderr",
     "output_type": "stream",
     "text": [
      "\r",
      "running experiments:  16%|█▌        | 16/100 [04:33<23:19, 16.66s/it]"
     ]
    },
    {
     "name": "stderr",
     "output_type": "stream",
     "text": [
      "\r",
      "running experiments:  17%|█▋        | 17/100 [04:49<23:00, 16.63s/it]"
     ]
    },
    {
     "name": "stderr",
     "output_type": "stream",
     "text": [
      "\r",
      "running experiments:  18%|█▊        | 18/100 [05:06<22:44, 16.64s/it]"
     ]
    },
    {
     "name": "stderr",
     "output_type": "stream",
     "text": [
      "\r",
      "running experiments:  19%|█▉        | 19/100 [05:22<22:24, 16.59s/it]"
     ]
    },
    {
     "name": "stderr",
     "output_type": "stream",
     "text": [
      "\r",
      "running experiments:  20%|██        | 20/100 [05:39<22:10, 16.63s/it]"
     ]
    },
    {
     "name": "stderr",
     "output_type": "stream",
     "text": [
      "\r",
      "running experiments:  21%|██        | 21/100 [05:56<22:08, 16.82s/it]"
     ]
    },
    {
     "name": "stderr",
     "output_type": "stream",
     "text": [
      "\r",
      "running experiments:  22%|██▏       | 22/100 [06:13<21:44, 16.73s/it]"
     ]
    },
    {
     "name": "stderr",
     "output_type": "stream",
     "text": [
      "\r",
      "running experiments:  23%|██▎       | 23/100 [06:30<21:35, 16.82s/it]"
     ]
    },
    {
     "name": "stderr",
     "output_type": "stream",
     "text": [
      "\r",
      "running experiments:  24%|██▍       | 24/100 [06:47<21:19, 16.84s/it]"
     ]
    },
    {
     "name": "stderr",
     "output_type": "stream",
     "text": [
      "\r",
      "running experiments:  25%|██▌       | 25/100 [07:03<20:53, 16.71s/it]"
     ]
    },
    {
     "name": "stderr",
     "output_type": "stream",
     "text": [
      "\r",
      "running experiments:  26%|██▌       | 26/100 [07:20<20:32, 16.66s/it]"
     ]
    },
    {
     "name": "stderr",
     "output_type": "stream",
     "text": [
      "\r",
      "running experiments:  27%|██▋       | 27/100 [07:36<20:09, 16.56s/it]"
     ]
    },
    {
     "name": "stderr",
     "output_type": "stream",
     "text": [
      "\r",
      "running experiments:  28%|██▊       | 28/100 [07:52<19:44, 16.46s/it]"
     ]
    },
    {
     "name": "stderr",
     "output_type": "stream",
     "text": [
      "\r",
      "running experiments:  29%|██▉       | 29/100 [08:09<19:28, 16.46s/it]"
     ]
    },
    {
     "name": "stderr",
     "output_type": "stream",
     "text": [
      "\r",
      "running experiments:  30%|███       | 30/100 [08:26<19:28, 16.69s/it]"
     ]
    },
    {
     "name": "stderr",
     "output_type": "stream",
     "text": [
      "\r",
      "running experiments:  31%|███       | 31/100 [08:42<19:08, 16.64s/it]"
     ]
    },
    {
     "name": "stderr",
     "output_type": "stream",
     "text": [
      "\r",
      "running experiments:  32%|███▏      | 32/100 [08:59<18:56, 16.72s/it]"
     ]
    },
    {
     "name": "stderr",
     "output_type": "stream",
     "text": [
      "\r",
      "running experiments:  33%|███▎      | 33/100 [09:16<18:43, 16.77s/it]"
     ]
    },
    {
     "name": "stderr",
     "output_type": "stream",
     "text": [
      "\r",
      "running experiments:  34%|███▍      | 34/100 [09:33<18:25, 16.75s/it]"
     ]
    },
    {
     "name": "stderr",
     "output_type": "stream",
     "text": [
      "\r",
      "running experiments:  35%|███▌      | 35/100 [09:50<18:06, 16.72s/it]"
     ]
    },
    {
     "name": "stderr",
     "output_type": "stream",
     "text": [
      "\r",
      "running experiments:  36%|███▌      | 36/100 [10:06<17:43, 16.62s/it]"
     ]
    },
    {
     "name": "stderr",
     "output_type": "stream",
     "text": [
      "\r",
      "running experiments:  37%|███▋      | 37/100 [10:23<17:27, 16.63s/it]"
     ]
    },
    {
     "name": "stderr",
     "output_type": "stream",
     "text": [
      "\r",
      "running experiments:  38%|███▊      | 38/100 [10:39<17:15, 16.71s/it]"
     ]
    },
    {
     "name": "stderr",
     "output_type": "stream",
     "text": [
      "\r",
      "running experiments:  39%|███▉      | 39/100 [10:56<16:57, 16.68s/it]"
     ]
    },
    {
     "name": "stderr",
     "output_type": "stream",
     "text": [
      "\r",
      "running experiments:  40%|████      | 40/100 [11:13<16:37, 16.62s/it]"
     ]
    },
    {
     "name": "stderr",
     "output_type": "stream",
     "text": [
      "\r",
      "running experiments:  41%|████      | 41/100 [11:29<16:19, 16.60s/it]"
     ]
    },
    {
     "name": "stderr",
     "output_type": "stream",
     "text": [
      "\r",
      "running experiments:  42%|████▏     | 42/100 [11:46<16:01, 16.58s/it]"
     ]
    },
    {
     "name": "stderr",
     "output_type": "stream",
     "text": [
      "\r",
      "running experiments:  43%|████▎     | 43/100 [12:02<15:45, 16.58s/it]"
     ]
    },
    {
     "name": "stderr",
     "output_type": "stream",
     "text": [
      "\r",
      "running experiments:  44%|████▍     | 44/100 [12:19<15:30, 16.62s/it]"
     ]
    },
    {
     "name": "stderr",
     "output_type": "stream",
     "text": [
      "\r",
      "running experiments:  45%|████▌     | 45/100 [12:35<15:09, 16.53s/it]"
     ]
    },
    {
     "name": "stderr",
     "output_type": "stream",
     "text": [
      "\r",
      "running experiments:  46%|████▌     | 46/100 [12:52<14:53, 16.55s/it]"
     ]
    },
    {
     "name": "stderr",
     "output_type": "stream",
     "text": [
      "\r",
      "running experiments:  47%|████▋     | 47/100 [13:09<14:43, 16.66s/it]"
     ]
    },
    {
     "name": "stderr",
     "output_type": "stream",
     "text": [
      "\r",
      "running experiments:  48%|████▊     | 48/100 [13:25<14:25, 16.64s/it]"
     ]
    },
    {
     "name": "stderr",
     "output_type": "stream",
     "text": [
      "\r",
      "running experiments:  49%|████▉     | 49/100 [13:42<14:09, 16.65s/it]"
     ]
    },
    {
     "name": "stderr",
     "output_type": "stream",
     "text": [
      "\r",
      "running experiments:  50%|█████     | 50/100 [13:59<13:54, 16.69s/it]"
     ]
    },
    {
     "name": "stderr",
     "output_type": "stream",
     "text": [
      "\r",
      "running experiments:  51%|█████     | 51/100 [14:15<13:33, 16.61s/it]"
     ]
    },
    {
     "name": "stderr",
     "output_type": "stream",
     "text": [
      "\r",
      "running experiments:  52%|█████▏    | 52/100 [14:32<13:13, 16.53s/it]"
     ]
    },
    {
     "name": "stderr",
     "output_type": "stream",
     "text": [
      "\r",
      "running experiments:  53%|█████▎    | 53/100 [14:48<13:00, 16.61s/it]"
     ]
    },
    {
     "name": "stderr",
     "output_type": "stream",
     "text": [
      "\r",
      "running experiments:  54%|█████▍    | 54/100 [15:05<12:37, 16.48s/it]"
     ]
    },
    {
     "name": "stderr",
     "output_type": "stream",
     "text": [
      "\r",
      "running experiments:  55%|█████▌    | 55/100 [15:21<12:27, 16.60s/it]"
     ]
    },
    {
     "name": "stderr",
     "output_type": "stream",
     "text": [
      "\r",
      "running experiments:  56%|█████▌    | 56/100 [15:38<12:06, 16.52s/it]"
     ]
    },
    {
     "name": "stderr",
     "output_type": "stream",
     "text": [
      "\r",
      "running experiments:  57%|█████▋    | 57/100 [15:54<11:46, 16.43s/it]"
     ]
    },
    {
     "name": "stderr",
     "output_type": "stream",
     "text": [
      "\r",
      "running experiments:  58%|█████▊    | 58/100 [16:10<11:27, 16.37s/it]"
     ]
    },
    {
     "name": "stderr",
     "output_type": "stream",
     "text": [
      "\r",
      "running experiments:  59%|█████▉    | 59/100 [16:27<11:16, 16.49s/it]"
     ]
    },
    {
     "name": "stderr",
     "output_type": "stream",
     "text": [
      "\r",
      "running experiments:  60%|██████    | 60/100 [16:43<10:56, 16.41s/it]"
     ]
    },
    {
     "name": "stderr",
     "output_type": "stream",
     "text": [
      "\r",
      "running experiments:  61%|██████    | 61/100 [17:00<10:44, 16.53s/it]"
     ]
    },
    {
     "name": "stderr",
     "output_type": "stream",
     "text": [
      "\r",
      "running experiments:  62%|██████▏   | 62/100 [17:16<10:26, 16.50s/it]"
     ]
    },
    {
     "name": "stderr",
     "output_type": "stream",
     "text": [
      "\r",
      "running experiments:  63%|██████▎   | 63/100 [17:33<10:08, 16.44s/it]"
     ]
    },
    {
     "name": "stderr",
     "output_type": "stream",
     "text": [
      "\r",
      "running experiments:  64%|██████▍   | 64/100 [17:49<09:50, 16.40s/it]"
     ]
    },
    {
     "name": "stderr",
     "output_type": "stream",
     "text": [
      "\r",
      "running experiments:  65%|██████▌   | 65/100 [18:05<09:33, 16.37s/it]"
     ]
    },
    {
     "name": "stderr",
     "output_type": "stream",
     "text": [
      "\r",
      "running experiments:  66%|██████▌   | 66/100 [18:22<09:18, 16.41s/it]"
     ]
    },
    {
     "name": "stderr",
     "output_type": "stream",
     "text": [
      "\r",
      "running experiments:  67%|██████▋   | 67/100 [18:38<09:00, 16.37s/it]"
     ]
    },
    {
     "name": "stderr",
     "output_type": "stream",
     "text": [
      "\r",
      "running experiments:  68%|██████▊   | 68/100 [18:54<08:40, 16.26s/it]"
     ]
    },
    {
     "name": "stderr",
     "output_type": "stream",
     "text": [
      "\r",
      "running experiments:  69%|██████▉   | 69/100 [19:11<08:26, 16.34s/it]"
     ]
    },
    {
     "name": "stderr",
     "output_type": "stream",
     "text": [
      "\r",
      "running experiments:  70%|███████   | 70/100 [19:27<08:11, 16.38s/it]"
     ]
    },
    {
     "name": "stderr",
     "output_type": "stream",
     "text": [
      "\r",
      "running experiments:  71%|███████   | 71/100 [19:44<07:57, 16.48s/it]"
     ]
    },
    {
     "name": "stderr",
     "output_type": "stream",
     "text": [
      "\r",
      "running experiments:  72%|███████▏  | 72/100 [20:01<07:42, 16.54s/it]"
     ]
    },
    {
     "name": "stderr",
     "output_type": "stream",
     "text": [
      "\r",
      "running experiments:  73%|███████▎  | 73/100 [20:17<07:26, 16.55s/it]"
     ]
    },
    {
     "name": "stderr",
     "output_type": "stream",
     "text": [
      "\r",
      "running experiments:  74%|███████▍  | 74/100 [20:33<07:07, 16.42s/it]"
     ]
    },
    {
     "name": "stderr",
     "output_type": "stream",
     "text": [
      "\r",
      "running experiments:  75%|███████▌  | 75/100 [20:50<06:51, 16.44s/it]"
     ]
    },
    {
     "name": "stderr",
     "output_type": "stream",
     "text": [
      "\r",
      "running experiments:  76%|███████▌  | 76/100 [21:06<06:35, 16.49s/it]"
     ]
    },
    {
     "name": "stderr",
     "output_type": "stream",
     "text": [
      "\r",
      "running experiments:  77%|███████▋  | 77/100 [21:23<06:20, 16.54s/it]"
     ]
    },
    {
     "name": "stderr",
     "output_type": "stream",
     "text": [
      "\r",
      "running experiments:  78%|███████▊  | 78/100 [21:39<06:02, 16.50s/it]"
     ]
    },
    {
     "name": "stderr",
     "output_type": "stream",
     "text": [
      "\r",
      "running experiments:  79%|███████▉  | 79/100 [21:56<05:45, 16.43s/it]"
     ]
    },
    {
     "name": "stderr",
     "output_type": "stream",
     "text": [
      "\r",
      "running experiments:  80%|████████  | 80/100 [22:12<05:28, 16.43s/it]"
     ]
    },
    {
     "name": "stderr",
     "output_type": "stream",
     "text": [
      "\r",
      "running experiments:  81%|████████  | 81/100 [22:28<05:11, 16.39s/it]"
     ]
    },
    {
     "name": "stderr",
     "output_type": "stream",
     "text": [
      "\r",
      "running experiments:  82%|████████▏ | 82/100 [22:45<04:54, 16.34s/it]"
     ]
    },
    {
     "name": "stderr",
     "output_type": "stream",
     "text": [
      "\r",
      "running experiments:  83%|████████▎ | 83/100 [23:01<04:37, 16.33s/it]"
     ]
    },
    {
     "name": "stderr",
     "output_type": "stream",
     "text": [
      "\r",
      "running experiments:  84%|████████▍ | 84/100 [23:18<04:23, 16.44s/it]"
     ]
    },
    {
     "name": "stderr",
     "output_type": "stream",
     "text": [
      "\r",
      "running experiments:  85%|████████▌ | 85/100 [23:34<04:06, 16.44s/it]"
     ]
    },
    {
     "name": "stderr",
     "output_type": "stream",
     "text": [
      "\r",
      "running experiments:  86%|████████▌ | 86/100 [23:50<03:48, 16.35s/it]"
     ]
    },
    {
     "name": "stderr",
     "output_type": "stream",
     "text": [
      "\r",
      "running experiments:  87%|████████▋ | 87/100 [24:07<03:34, 16.51s/it]"
     ]
    },
    {
     "name": "stderr",
     "output_type": "stream",
     "text": [
      "\r",
      "running experiments:  88%|████████▊ | 88/100 [24:23<03:17, 16.45s/it]"
     ]
    },
    {
     "name": "stderr",
     "output_type": "stream",
     "text": [
      "\r",
      "running experiments:  89%|████████▉ | 89/100 [24:40<03:00, 16.41s/it]"
     ]
    },
    {
     "name": "stderr",
     "output_type": "stream",
     "text": [
      "\r",
      "running experiments:  90%|█████████ | 90/100 [24:56<02:43, 16.39s/it]"
     ]
    },
    {
     "name": "stderr",
     "output_type": "stream",
     "text": [
      "\r",
      "running experiments:  91%|█████████ | 91/100 [25:12<02:27, 16.36s/it]"
     ]
    },
    {
     "name": "stderr",
     "output_type": "stream",
     "text": [
      "\r",
      "running experiments:  92%|█████████▏| 92/100 [25:29<02:10, 16.37s/it]"
     ]
    },
    {
     "name": "stderr",
     "output_type": "stream",
     "text": [
      "\r",
      "running experiments:  93%|█████████▎| 93/100 [25:45<01:54, 16.35s/it]"
     ]
    },
    {
     "name": "stderr",
     "output_type": "stream",
     "text": [
      "\r",
      "running experiments:  94%|█████████▍| 94/100 [26:01<01:37, 16.32s/it]"
     ]
    },
    {
     "name": "stderr",
     "output_type": "stream",
     "text": [
      "\r",
      "running experiments:  95%|█████████▌| 95/100 [26:18<01:21, 16.34s/it]"
     ]
    },
    {
     "name": "stderr",
     "output_type": "stream",
     "text": [
      "\r",
      "running experiments:  96%|█████████▌| 96/100 [26:35<01:06, 16.64s/it]"
     ]
    },
    {
     "name": "stderr",
     "output_type": "stream",
     "text": [
      "\r",
      "running experiments:  97%|█████████▋| 97/100 [26:51<00:49, 16.51s/it]"
     ]
    },
    {
     "name": "stderr",
     "output_type": "stream",
     "text": [
      "\r",
      "running experiments:  98%|█████████▊| 98/100 [27:08<00:33, 16.54s/it]"
     ]
    },
    {
     "name": "stderr",
     "output_type": "stream",
     "text": [
      "\r",
      "running experiments:  99%|█████████▉| 99/100 [27:24<00:16, 16.36s/it]"
     ]
    },
    {
     "name": "stderr",
     "output_type": "stream",
     "text": [
      "\r",
      "running experiments: 100%|██████████| 100/100 [27:40<00:00, 16.33s/it]"
     ]
    },
    {
     "name": "stderr",
     "output_type": "stream",
     "text": [
      "\r",
      "running experiments: 100%|██████████| 100/100 [27:40<00:00, 16.61s/it]"
     ]
    },
    {
     "name": "stdout",
     "output_type": "stream",
     "text": [
      "CPU times: user 2h 54min 26s, sys: 17.3 s, total: 2h 54min 43s\n",
      "Wall time: 27min 40s\n"
     ]
    },
    {
     "name": "stderr",
     "output_type": "stream",
     "text": [
      "\n"
     ]
    }
   ],
   "source": [
    "%%time\n",
    "simulation.run_simulation(n_experiments, start_n, fit_params,shuffle_rows, pred_params, random_features, \\\n",
    "                          store_in_lists, save_eigenvector, save_hamiltonian, save_accuracy,\\\n",
    "                          save_models)\n",
    "if simulation.fourier_mode is not None:\n",
    "    simulation.fourier_dataframe.head(10)"
   ]
  },
  {
   "cell_type": "code",
   "execution_count": 24,
   "metadata": {
    "execution": {
     "iopub.execute_input": "2020-07-10T02:20:34.314632Z",
     "iopub.status.busy": "2020-07-10T02:20:34.314325Z",
     "iopub.status.idle": "2020-07-10T02:20:34.338112Z",
     "shell.execute_reply": "2020-07-10T02:20:34.338420Z"
    },
    "papermill": {
     "duration": 0.060559,
     "end_time": "2020-07-10T02:20:34.338487",
     "exception": false,
     "start_time": "2020-07-10T02:20:34.277928",
     "status": "completed"
    },
    "tags": []
   },
   "outputs": [
    {
     "data": {
      "text/html": [
       "<div>\n",
       "<style scoped>\n",
       "    .dataframe tbody tr th:only-of-type {\n",
       "        vertical-align: middle;\n",
       "    }\n",
       "\n",
       "    .dataframe tbody tr th {\n",
       "        vertical-align: top;\n",
       "    }\n",
       "\n",
       "    .dataframe thead th {\n",
       "        text-align: right;\n",
       "    }\n",
       "</style>\n",
       "<table border=\"1\" class=\"dataframe\">\n",
       "  <thead>\n",
       "    <tr style=\"text-align: right;\">\n",
       "      <th></th>\n",
       "      <th>id</th>\n",
       "      <th>path</th>\n",
       "      <th>t1</th>\n",
       "      <th>t2</th>\n",
       "      <th>winding</th>\n",
       "      <th>phase</th>\n",
       "      <th>pred_phase</th>\n",
       "      <th>type_of</th>\n",
       "      <th>feat0</th>\n",
       "      <th>feat1</th>\n",
       "      <th>...</th>\n",
       "      <th>feat90</th>\n",
       "      <th>feat91</th>\n",
       "      <th>feat92</th>\n",
       "      <th>feat93</th>\n",
       "      <th>feat94</th>\n",
       "      <th>feat95</th>\n",
       "      <th>feat96</th>\n",
       "      <th>feat97</th>\n",
       "      <th>feat98</th>\n",
       "      <th>feat99</th>\n",
       "    </tr>\n",
       "  </thead>\n",
       "  <tbody>\n",
       "    <tr>\n",
       "      <th>0</th>\n",
       "      <td>0</td>\n",
       "      <td>H_-2_-2_0.501338.dat</td>\n",
       "      <td>-2.0</td>\n",
       "      <td>-2.0</td>\n",
       "      <td>0.501338</td>\n",
       "      <td>999</td>\n",
       "      <td>666</td>\n",
       "      <td>test</td>\n",
       "      <td>-0.130965</td>\n",
       "      <td>0.301130</td>\n",
       "      <td>...</td>\n",
       "      <td>-0.080279</td>\n",
       "      <td>-0.115687</td>\n",
       "      <td>-0.174988</td>\n",
       "      <td>0.245064</td>\n",
       "      <td>0.319763</td>\n",
       "      <td>-0.059082</td>\n",
       "      <td>-0.000556</td>\n",
       "      <td>-0.245133</td>\n",
       "      <td>-0.301130</td>\n",
       "      <td>0.130965</td>\n",
       "    </tr>\n",
       "    <tr>\n",
       "      <th>1</th>\n",
       "      <td>0</td>\n",
       "      <td>H_-2_-2_0.501338.dat</td>\n",
       "      <td>-2.0</td>\n",
       "      <td>-2.0</td>\n",
       "      <td>0.501338</td>\n",
       "      <td>999</td>\n",
       "      <td>666</td>\n",
       "      <td>test</td>\n",
       "      <td>-0.130965</td>\n",
       "      <td>-0.301130</td>\n",
       "      <td>...</td>\n",
       "      <td>-0.080279</td>\n",
       "      <td>0.115687</td>\n",
       "      <td>-0.174988</td>\n",
       "      <td>-0.245064</td>\n",
       "      <td>0.319763</td>\n",
       "      <td>0.059082</td>\n",
       "      <td>-0.000556</td>\n",
       "      <td>0.245133</td>\n",
       "      <td>-0.301130</td>\n",
       "      <td>-0.130965</td>\n",
       "    </tr>\n",
       "    <tr>\n",
       "      <th>2</th>\n",
       "      <td>0</td>\n",
       "      <td>H_-2_-2_0.501338.dat</td>\n",
       "      <td>-2.0</td>\n",
       "      <td>-2.0</td>\n",
       "      <td>0.501338</td>\n",
       "      <td>999</td>\n",
       "      <td>666</td>\n",
       "      <td>test</td>\n",
       "      <td>-0.148414</td>\n",
       "      <td>-0.042467</td>\n",
       "      <td>...</td>\n",
       "      <td>0.185442</td>\n",
       "      <td>-0.080620</td>\n",
       "      <td>-0.066211</td>\n",
       "      <td>-0.121339</td>\n",
       "      <td>-0.151700</td>\n",
       "      <td>0.192513</td>\n",
       "      <td>0.191642</td>\n",
       "      <td>-0.050956</td>\n",
       "      <td>-0.042467</td>\n",
       "      <td>-0.148414</td>\n",
       "    </tr>\n",
       "    <tr>\n",
       "      <th>3</th>\n",
       "      <td>0</td>\n",
       "      <td>H_-2_-2_0.501338.dat</td>\n",
       "      <td>-2.0</td>\n",
       "      <td>-2.0</td>\n",
       "      <td>0.501338</td>\n",
       "      <td>999</td>\n",
       "      <td>666</td>\n",
       "      <td>test</td>\n",
       "      <td>-0.069630</td>\n",
       "      <td>-0.026147</td>\n",
       "      <td>...</td>\n",
       "      <td>0.102009</td>\n",
       "      <td>-0.100671</td>\n",
       "      <td>-0.081002</td>\n",
       "      <td>-0.020715</td>\n",
       "      <td>-0.058717</td>\n",
       "      <td>0.115834</td>\n",
       "      <td>0.118274</td>\n",
       "      <td>-0.054666</td>\n",
       "      <td>-0.026147</td>\n",
       "      <td>-0.069630</td>\n",
       "    </tr>\n",
       "    <tr>\n",
       "      <th>4</th>\n",
       "      <td>0</td>\n",
       "      <td>H_-2_-2_0.501338.dat</td>\n",
       "      <td>-2.0</td>\n",
       "      <td>-2.0</td>\n",
       "      <td>0.501338</td>\n",
       "      <td>999</td>\n",
       "      <td>666</td>\n",
       "      <td>test</td>\n",
       "      <td>0.010206</td>\n",
       "      <td>-0.014625</td>\n",
       "      <td>...</td>\n",
       "      <td>0.047555</td>\n",
       "      <td>-0.041368</td>\n",
       "      <td>-0.018852</td>\n",
       "      <td>-0.017673</td>\n",
       "      <td>-0.023377</td>\n",
       "      <td>0.031447</td>\n",
       "      <td>0.010280</td>\n",
       "      <td>0.000925</td>\n",
       "      <td>0.014625</td>\n",
       "      <td>-0.010206</td>\n",
       "    </tr>\n",
       "    <tr>\n",
       "      <th>5</th>\n",
       "      <td>0</td>\n",
       "      <td>H_-2_-2_0.501338.dat</td>\n",
       "      <td>-2.0</td>\n",
       "      <td>-2.0</td>\n",
       "      <td>0.501338</td>\n",
       "      <td>999</td>\n",
       "      <td>666</td>\n",
       "      <td>test</td>\n",
       "      <td>0.116962</td>\n",
       "      <td>0.021475</td>\n",
       "      <td>...</td>\n",
       "      <td>-0.086901</td>\n",
       "      <td>-0.045676</td>\n",
       "      <td>-0.028034</td>\n",
       "      <td>0.129266</td>\n",
       "      <td>0.130083</td>\n",
       "      <td>-0.098190</td>\n",
       "      <td>-0.104188</td>\n",
       "      <td>-0.007911</td>\n",
       "      <td>0.021475</td>\n",
       "      <td>0.116962</td>\n",
       "    </tr>\n",
       "    <tr>\n",
       "      <th>6</th>\n",
       "      <td>0</td>\n",
       "      <td>H_-2_-2_0.501338.dat</td>\n",
       "      <td>-2.0</td>\n",
       "      <td>-2.0</td>\n",
       "      <td>0.501338</td>\n",
       "      <td>999</td>\n",
       "      <td>666</td>\n",
       "      <td>test</td>\n",
       "      <td>0.037175</td>\n",
       "      <td>-0.095882</td>\n",
       "      <td>...</td>\n",
       "      <td>-0.027490</td>\n",
       "      <td>0.046168</td>\n",
       "      <td>0.063419</td>\n",
       "      <td>-0.041630</td>\n",
       "      <td>-0.085769</td>\n",
       "      <td>-0.010604</td>\n",
       "      <td>-0.009822</td>\n",
       "      <td>0.084024</td>\n",
       "      <td>0.095882</td>\n",
       "      <td>-0.037175</td>\n",
       "    </tr>\n",
       "    <tr>\n",
       "      <th>7</th>\n",
       "      <td>0</td>\n",
       "      <td>H_-2_-2_0.501338.dat</td>\n",
       "      <td>-2.0</td>\n",
       "      <td>-2.0</td>\n",
       "      <td>0.501338</td>\n",
       "      <td>999</td>\n",
       "      <td>666</td>\n",
       "      <td>test</td>\n",
       "      <td>0.027709</td>\n",
       "      <td>-0.038180</td>\n",
       "      <td>...</td>\n",
       "      <td>0.123344</td>\n",
       "      <td>-0.114320</td>\n",
       "      <td>-0.057118</td>\n",
       "      <td>-0.040291</td>\n",
       "      <td>-0.061263</td>\n",
       "      <td>0.087153</td>\n",
       "      <td>0.029599</td>\n",
       "      <td>-0.001276</td>\n",
       "      <td>0.038180</td>\n",
       "      <td>-0.027709</td>\n",
       "    </tr>\n",
       "    <tr>\n",
       "      <th>8</th>\n",
       "      <td>0</td>\n",
       "      <td>H_-2_-2_0.501338.dat</td>\n",
       "      <td>-2.0</td>\n",
       "      <td>-2.0</td>\n",
       "      <td>0.501338</td>\n",
       "      <td>999</td>\n",
       "      <td>666</td>\n",
       "      <td>test</td>\n",
       "      <td>0.059795</td>\n",
       "      <td>0.030272</td>\n",
       "      <td>...</td>\n",
       "      <td>-0.082347</td>\n",
       "      <td>0.140996</td>\n",
       "      <td>0.128386</td>\n",
       "      <td>-0.036608</td>\n",
       "      <td>0.029628</td>\n",
       "      <td>-0.124877</td>\n",
       "      <td>-0.140478</td>\n",
       "      <td>0.088573</td>\n",
       "      <td>0.030272</td>\n",
       "      <td>0.059795</td>\n",
       "    </tr>\n",
       "    <tr>\n",
       "      <th>9</th>\n",
       "      <td>0</td>\n",
       "      <td>H_-2_-2_0.501338.dat</td>\n",
       "      <td>-2.0</td>\n",
       "      <td>-2.0</td>\n",
       "      <td>0.501338</td>\n",
       "      <td>999</td>\n",
       "      <td>666</td>\n",
       "      <td>test</td>\n",
       "      <td>0.141605</td>\n",
       "      <td>0.013497</td>\n",
       "      <td>...</td>\n",
       "      <td>-0.035718</td>\n",
       "      <td>-0.110014</td>\n",
       "      <td>-0.082452</td>\n",
       "      <td>0.146084</td>\n",
       "      <td>0.152588</td>\n",
       "      <td>-0.067575</td>\n",
       "      <td>-0.087187</td>\n",
       "      <td>-0.043484</td>\n",
       "      <td>0.013497</td>\n",
       "      <td>0.141605</td>\n",
       "    </tr>\n",
       "  </tbody>\n",
       "</table>\n",
       "<p>10 rows × 108 columns</p>\n",
       "</div>"
      ],
      "text/plain": [
       "   id                  path   t1   t2   winding  phase  pred_phase type_of  \\\n",
       "0   0  H_-2_-2_0.501338.dat -2.0 -2.0  0.501338    999         666    test   \n",
       "1   0  H_-2_-2_0.501338.dat -2.0 -2.0  0.501338    999         666    test   \n",
       "2   0  H_-2_-2_0.501338.dat -2.0 -2.0  0.501338    999         666    test   \n",
       "3   0  H_-2_-2_0.501338.dat -2.0 -2.0  0.501338    999         666    test   \n",
       "4   0  H_-2_-2_0.501338.dat -2.0 -2.0  0.501338    999         666    test   \n",
       "5   0  H_-2_-2_0.501338.dat -2.0 -2.0  0.501338    999         666    test   \n",
       "6   0  H_-2_-2_0.501338.dat -2.0 -2.0  0.501338    999         666    test   \n",
       "7   0  H_-2_-2_0.501338.dat -2.0 -2.0  0.501338    999         666    test   \n",
       "8   0  H_-2_-2_0.501338.dat -2.0 -2.0  0.501338    999         666    test   \n",
       "9   0  H_-2_-2_0.501338.dat -2.0 -2.0  0.501338    999         666    test   \n",
       "\n",
       "      feat0     feat1  ...    feat90    feat91    feat92    feat93    feat94  \\\n",
       "0 -0.130965  0.301130  ... -0.080279 -0.115687 -0.174988  0.245064  0.319763   \n",
       "1 -0.130965 -0.301130  ... -0.080279  0.115687 -0.174988 -0.245064  0.319763   \n",
       "2 -0.148414 -0.042467  ...  0.185442 -0.080620 -0.066211 -0.121339 -0.151700   \n",
       "3 -0.069630 -0.026147  ...  0.102009 -0.100671 -0.081002 -0.020715 -0.058717   \n",
       "4  0.010206 -0.014625  ...  0.047555 -0.041368 -0.018852 -0.017673 -0.023377   \n",
       "5  0.116962  0.021475  ... -0.086901 -0.045676 -0.028034  0.129266  0.130083   \n",
       "6  0.037175 -0.095882  ... -0.027490  0.046168  0.063419 -0.041630 -0.085769   \n",
       "7  0.027709 -0.038180  ...  0.123344 -0.114320 -0.057118 -0.040291 -0.061263   \n",
       "8  0.059795  0.030272  ... -0.082347  0.140996  0.128386 -0.036608  0.029628   \n",
       "9  0.141605  0.013497  ... -0.035718 -0.110014 -0.082452  0.146084  0.152588   \n",
       "\n",
       "     feat95    feat96    feat97    feat98    feat99  \n",
       "0 -0.059082 -0.000556 -0.245133 -0.301130  0.130965  \n",
       "1  0.059082 -0.000556  0.245133 -0.301130 -0.130965  \n",
       "2  0.192513  0.191642 -0.050956 -0.042467 -0.148414  \n",
       "3  0.115834  0.118274 -0.054666 -0.026147 -0.069630  \n",
       "4  0.031447  0.010280  0.000925  0.014625 -0.010206  \n",
       "5 -0.098190 -0.104188 -0.007911  0.021475  0.116962  \n",
       "6 -0.010604 -0.009822  0.084024  0.095882 -0.037175  \n",
       "7  0.087153  0.029599 -0.001276  0.038180 -0.027709  \n",
       "8 -0.124877 -0.140478  0.088573  0.030272  0.059795  \n",
       "9 -0.067575 -0.087187 -0.043484  0.013497  0.141605  \n",
       "\n",
       "[10 rows x 108 columns]"
      ]
     },
     "execution_count": 24,
     "metadata": {},
     "output_type": "execute_result"
    }
   ],
   "source": [
    "simulation.dataframe.head(10)"
   ]
  },
  {
   "cell_type": "markdown",
   "metadata": {
    "papermill": {
     "duration": 0.034464,
     "end_time": "2020-07-10T02:20:34.407209",
     "exception": false,
     "start_time": "2020-07-10T02:20:34.372745",
     "status": "completed"
    },
    "tags": []
   },
   "source": [
    "#### Viewing a random sample"
   ]
  },
  {
   "cell_type": "code",
   "execution_count": 25,
   "metadata": {
    "execution": {
     "iopub.execute_input": "2020-07-10T02:20:34.479012Z",
     "iopub.status.busy": "2020-07-10T02:20:34.478704Z",
     "iopub.status.idle": "2020-07-10T02:20:34.509063Z",
     "shell.execute_reply": "2020-07-10T02:20:34.508742Z"
    },
    "papermill": {
     "duration": 0.06695,
     "end_time": "2020-07-10T02:20:34.509114",
     "exception": false,
     "start_time": "2020-07-10T02:20:34.442164",
     "status": "completed"
    },
    "tags": []
   },
   "outputs": [
    {
     "name": "stdout",
     "output_type": "stream",
     "text": [
      "CPU times: user 20.1 ms, sys: 0 ns, total: 20.1 ms\n",
      "Wall time: 19.9 ms\n"
     ]
    }
   ],
   "source": [
    "%%time\n",
    "if simulation.fourier_mode is not None:\n",
    "    simulation.fourier_dataframe.sample(frac=0.1, replace=False)"
   ]
  },
  {
   "cell_type": "markdown",
   "metadata": {
    "papermill": {
     "duration": 0.035144,
     "end_time": "2020-07-10T02:20:34.579773",
     "exception": false,
     "start_time": "2020-07-10T02:20:34.544629",
     "status": "completed"
    },
    "tags": []
   },
   "source": [
    "#### Checking train/val/test splits again"
   ]
  },
  {
   "cell_type": "code",
   "execution_count": 26,
   "metadata": {
    "execution": {
     "iopub.execute_input": "2020-07-10T02:20:34.650650Z",
     "iopub.status.busy": "2020-07-10T02:20:34.650329Z",
     "iopub.status.idle": "2020-07-10T02:20:35.023695Z",
     "shell.execute_reply": "2020-07-10T02:20:35.024004Z"
    },
    "papermill": {
     "duration": 0.409965,
     "end_time": "2020-07-10T02:20:35.024069",
     "exception": false,
     "start_time": "2020-07-10T02:20:34.614104",
     "status": "completed"
    },
    "tags": []
   },
   "outputs": [
    {
     "name": "stdout",
     "output_type": "stream",
     "text": [
      "% train:  0.4208199969516842\n",
      "% val:  0.42066758116140834\n",
      "% test:  0.15851242188690748\n",
      "% train + val + test:  1.0\n",
      "\n",
      "\n",
      "number of train hamiltonians:  2761\n",
      "number of val hamiltonians:  2760\n",
      "number of test hamiltonians:  1040\n",
      "total number of hamiltonians:  6561\n",
      "\n",
      "\n",
      "train ids:  [5534, 5752, 3326, 937, 2674, 5123, 1831, 5223, 5592, 5978, 1289, 3563, 3849, 6115, 39, 4039, 5884, 4458, 5389, 6294, 5851, 6018, 3421, 6533, 2408, 4397, 5443, 281, 3910, 3594, 3622, 5633, 1434, 2891, 509, 4389, 6004, 2684, 3808, 4761, 1693, 3603, 2091, 4205, 1708, 4721, 5674, 1739, 199, 453, 3659, 3991, 3833, 6006, 6183, 423, 777, 2812, 4770, 838, 1658, 2941, 5636, 758, 848, 551, 2667, 5712, 2690, 3254, 1024, 3370, 4909, 6357, 3519, 5196, 1734, 1765, 4058, 2016, 3993, 5772, 1538, 1922, 2108, 5932, 5362, 5046, 2893, 995, 5733, 1598, 4462, 1094, 2939, 5356, 1823, 4189, 5545, 801, 5598, 1905, 5346, 5972, 2672, 3848, 951, 5278, 3214, 6344, 2927, 5603, 1368, 759, 792, 6352, 2807, 881, 5760, 787, 587, 3100, 4043, 3500, 5117, 3876, 3886, 550, 3627, 2910, 609, 3103, 2485, 1011, 220, 4033, 1486, 4213, 5469, 799, 869, 1120, 4710, 4441, 4576, 3441, 5949, 5109, 4997, 4015, 2059, 5186, 5613, 755, 5436, 3119, 2450, 4517, 5158, 2880, 1026, 3553, 4956, 1294, 4853, 1278, 1403, 2499, 237, 402, 608, 1697, 4724, 1525, 152, 3942, 839, 345, 6250, 4492, 526, 4062, 5313, 6450, 6439, 545, 356, 541, 2167, 3891, 4864, 4615, 6205, 3592, 3654, 2697, 4114, 554, 1826, 1911, 179, 2712, 3075, 4229, 2002, 3760, 4404, 4399, 1322, 5552, 4856, 4854, 5437, 6241, 2983, 4295, 3087, 4228, 2278, 1193, 1331, 3404, 6535, 2615, 1786, 3088, 5887, 3844, 4256, 1991, 764, 6128, 5367, 3552, 2990, 3318, 2001, 5291, 1672, 4029, 446, 2883, 3056, 4111, 2506, 4133, 5457, 433, 4878, 5977, 1157, 4466, 140, 295, 5849, 1616, 380, 43, 4566, 6209, 5546, 5339, 4873, 3174, 6468, 207, 444, 782, 4323, 131, 5178, 4811, 5142, 353, 791, 1045, 2263, 115, 4262, 4906, 74, 210, 480, 6367, 3275, 3912, 4061, 3235, 5126, 4192, 5649, 2404, 63, 5020, 6179, 4796, 2435, 4118, 1753, 2359, 562, 25, 3857, 1574, 4712, 1285, 6433, 2363, 1845, 556, 535, 68, 4413, 1275, 4410, 4994, 5967, 4144, 4137, 3028, 3101, 1869, 671, 5835, 2653, 6305, 182, 1187, 5958, 2071, 1815, 4902, 676, 4555, 2026, 1019, 2486, 5937, 5848, 627, 4778, 1782, 3710, 240, 3669, 346, 4966, 2547, 1612, 5505, 213, 3739, 1613, 6421, 2643, 919, 4481, 287, 6498, 3601, 235, 1265, 860, 6495, 3292, 3866, 4140, 4305, 4642, 806, 1248, 1105, 261, 1535, 4216, 2386, 5796, 3926, 714, 4418, 2596, 3459, 3170, 2084, 4891, 2021, 3523, 3511, 3382, 4805, 4938, 398, 3105, 4158, 273, 5050, 3565, 4023, 1509, 994, 1114, 3597, 3950, 3649, 4449, 1273, 2559, 4792, 1757, 4351, 138, 4903, 2186, 1051, 4861, 3242, 3372, 1376, 3802, 2631, 4626, 3458, 3259, 670, 5622, 5929, 4338, 3571, 1864, 716, 3059, 4663, 5668, 4471, 1076, 1768, 4464, 3564, 2259, 3634, 2552, 3423, 4435, 1020, 5890, 5607, 2568, 4648, 6047, 1203, 4078, 6536, 4766, 6212, 2308, 2032, 1912, 6245, 4072, 4817, 5053, 1981, 1047, 4772, 6203, 5555, 2663, 2831, 874, 3960, 5357, 1530, 727, 4776, 2430, 1497, 6300, 3340, 5118, 5120, 1659, 2504, 270, 561, 6385, 149, 2496, 1989, 3138, 4889, 3756, 4940, 1696, 2638, 5379, 3879, 4506, 4415, 721, 5458, 4895, 2713, 6169, 5098, 5798, 4722, 2337, 5297, 2644, 1282, 1512, 3918, 549, 2888, 3761, 5198, 3405, 5385, 6406, 310, 3978, 6108, 2094, 4203, 6022, 3189, 2887, 2881, 2195, 1323, 1931, 2526, 5124, 5204, 2739, 3510, 5404, 4849, 5403, 3711, 3621, 3288, 1078, 4178, 4738, 5104, 5093, 6058, 4143, 3108, 6247, 2969, 114, 863, 4268, 4797, 6493, 3520, 4003, 4816, 3933, 6460, 5399, 4813, 540, 4550, 5135, 3847, 6084, 1603, 4407, 5948, 5103, 2944, 6268, 525, 4313, 3914, 1212, 2244, 6189, 6127, 3616, 935, 2792, 2179, 1272, 3730, 3671, 6463, 2678, 3218, 3122, 4832, 4549, 6371, 1521, 223, 6279, 2879, 2283, 5285, 4685, 2535, 885, 1839, 1339, 317, 1042, 6010, 1447, 4969, 964, 1758, 534, 1439, 763, 2999, 1327, 6182, 3062, 4267, 1040, 188, 1204, 2612, 5942, 3085, 464, 5143, 5957, 5806, 701, 4381, 3438, 2492, 5692, 5119, 3714, 1568, 527, 5565, 3188, 2778, 5105, 2861, 3148, 6532, 3110, 3185, 4223, 97, 6457, 6077, 2558, 147, 5693, 2251, 2576, 6181, 6075, 2107, 296, 5310, 6401, 3175, 5550, 4582, 1281, 3541, 4371, 865, 2655, 5070, 3911, 6485, 4620, 471, 1502, 2247, 1505, 5514, 3435, 3794, 1346, 3486, 3737, 943, 2452, 2031, 3355, 2225, 3556, 258, 5286, 2913, 1762, 2561, 4882, 6497, 5307, 5549, 2687, 4808, 454, 6383, 3635, 3579, 2327, 849, 6243, 5976, 3653, 4289, 2855, 3901, 397, 1211, 2406, 4871, 2140, 5234, 3777, 4501, 5214, 620, 306, 6430, 3648, 2606, 1377, 6465, 6056, 5476, 4649, 2602, 2811, 361, 2842, 1182, 3276, 1342, 1332, 4350, 1181, 510, 24, 5434, 3810, 1133, 5435, 5724, 5351, 1027, 5222, 3045, 4086, 3729, 2391, 2763, 3672, 2907, 5809, 298, 1668, 78, 6139, 2175, 2976, 5928, 4156, 3083, 2895, 3143, 597, 3334, 705, 691, 4032, 4141, 51, 368, 1324, 2657, 1592, 5325, 5341, 5260, 4221, 1686, 853, 4932, 6319, 3013, 17, 3899, 6530, 2935, 6527, 4736, 4485, 4986, 3179, 5068, 625, 5394, 5531, 1092, 802, 5139, 773, 1442, 5025, 2269, 1291, 3141, 4210, 5541, 1857, 284, 4202, 3151, 2981, 2436, 4304, 5317, 6025, 4630, 3482, 4488, 969, 1920, 384, 347, 5145, 4170, 6382, 1660, 121, 950, 4749, 887, 4071, 2411, 4355, 6263, 1691, 1944, 3266, 3232, 231, 5374, 6399, 4059, 5586, 3884, 1935, 2122, 3407, 3587, 5373, 1903, 4548, 5709, 5852, 2353, 19, 2751, 3832, 4083, 4711, 4762, 922, 3681, 21, 1122, 4632, 65, 4208, 1108, 3397, 629, 3376, 2823, 5834, 2081, 2321, 4087, 2141, 5480, 5590, 1976, 4286, 5440, 1701, 3637, 5995, 4518, 390, 2776, 563, 2838, 1604, 5787, 2917, 3806, 4782, 6409, 2410, 5456, 5559, 6321, 6015, 4096, 6076, 852, 4356, 5878, 2255, 2581, 4164, 3074, 372, 2800, 1004, 2844, 5509, 4425, 3997, 774, 4504, 6349, 6515, 96, 4082, 3555, 5486, 6351, 1582, 5713, 1499, 1485, 5785, 6131, 3307, 4316, 1569, 3464, 1609, 2848, 4989, 2085, 2281, 4684, 6504, 2451, 1030, 1405, 3775, 4668, 1688, 1508, 5423, 850, 5969, 6046, 1917, 3410, 4597, 4587, 2923, 1840, 1811, 3237, 2611, 110, 1692, 4440, 1984, 5043, 3674, 2243, 3514, 5755, 1290, 5688, 4145, 1343, 6265, 6039, 283, 1619, 2181, 2986, 3255, 1624, 260, 604, 3098, 354, 2160, 5765, 3130, 2163, 2509, 2583, 4503, 6337, 1608, 5722, 2481, 1784, 1329, 3878, 564, 3499, 2649, 1271, 2390, 5152, 4598, 1210, 2567, 2958, 5488, 2965, 6114, 5847, 1444, 2287, 4045, 6267, 4628, 2466, 2947, 1215, 2741, 1082, 918, 635, 2407, 101, 6092, 4665, 2113, 5936, 1657, 2467, 1493, 5756, 2747, 2922, 772, 5049, 6405, 5256, 1915, 5523, 5951, 938, 4159, 3350, 4743, 3209, 4868, 1017, 3485, 5625, 6415, 3913, 3533, 5283, 1167, 1785, 5348, 4505, 4787, 3473, 4376, 5239, 160, 1756, 6242, 3495, 2884, 5963, 1942, 1194, 3651, 5448, 4012, 6194, 5597, 3025, 2925, 672, 1454, 1841, 3394, 26, 3505, 3517, 2711, 6325, 1689, 1924, 1599, 2197, 4400, 3457, 5782, 1097, 4300, 1001, 2749, 4734, 203, 623, 5881, 6293, 4250, 477, 2318, 4617, 4049, 3562, 277, 1664, 880, 1111, 5095, 6011, 370, 3694, 6435, 4652, 1993, 208, 1102, 3524, 1948, 5227, 5935, 537, 211, 546, 2918, 312, 2940, 2106, 1730, 4026, 5432, 4352, 1690, 4968, 3286, 5477, 5567, 1365, 3693, 1583, 3959, 2610, 6284, 5684, 135, 3768, 1575, 4439, 3567, 109, 1822, 6347, 1587, 3211, 1451, 1979, 756, 227, 1407, 2795, 1818, 3795, 2088, 5148, 3246, 2593, 1670, 3125, 5133, 28, 2640, 3210, 2333, 2397, 2521, 2839, 6082, 4744, 4046, 4645, 4375, 177, 2974, 4801, 5837, 959, 2665, 4523, 3299, 5894, 595, 3708, 3731, 1732, 4259, 3769, 5506, 753, 5294, 49, 1420, 673, 1423, 5850, 4671, 3356, 3989, 5206, 4139, 3980, 3905, 5377, 2987, 4926, 2370, 3291, 4324, 2578, 2073, 4272, 5708, 5525, 2598, 5711, 1913, 5623, 3574, 726, 6461, 209, 6366, 5707, 5560, 858, 4309, 6173, 3271, 6487, 5547, 1464, 6109, 3233, 3442, 5397, 4105, 2413, 5832, 5853, 1528, 3079, 2221, 2383, 5134, 2320, 2307, 4708, 6029, 2315, 3512, 6110, 6176, 689, 5686, 3898, 6330, 6103, 4470, 4273, 4899, 845, 3316, 3344, 5913, 2604, 4278, 4824, 4667, 3064, 2446, 457, 2609, 2722, 4807, 2928, 941, 4855, 5687, 3981, 6129, 2161, 4877, 2154, 2989, 4819, 3343, 2594, 1109, 5106, 67, 3655, 712, 4196, 6197, 533, 4829, 4658, 1256, 262, 1754, 4987, 5729, 2068, 2909, 4651, 1458, 1123, 71, 388, 516, 6413, 4047, 5770, 2803, 3542, 2592, 4874, 3930, 868, 5973, 4954, 4731, 5212, 3970, 5155, 4394, 1050, 781, 5322, 928, 6295, 381, 5030, 4494, 2565, 1452, 4249, 1681, 5889, 2650, 1615, 5014, 5366, 3489, 6013, 4484, 2781, 4641, 1918, 1083, 3788, 2027, 2921, 2220, 5361, 1579, 4833, 5262, 4090, 5553, 4398, 2902, 3396, 1685, 3073, 6381, 2165, 870, 695, 2959, 2104, 3569, 3249, 45, 3247, 5844, 1517, 3939, 4292, 4048, 4957, 20, 5022, 2477, 1247, 4809, 2173, 4804, 2551, 6447, 555, 396, 4363, 6499, 5132, 3736, 6258, 5193, 5076, 553, 628, 1414, 2313, 2930, 5238, 449, 2601, 699, 6269, 1743, 1898, 4931, 4627, 3870, 3751, 4084, 319, 4730, 426, 4150, 3337, 5016, 4010, 1876, 1516, 1570, 3638, 3974, 428, 1268, 1457, 1081, 847, 5481, 6513, 3368, 3904, 3378, 3231, 4056, 4823, 274, 2735, 2271, 1118, 588, 4862, 1007, 5593, 4081, 4818, 2284, 2099, 3705, 6488, 4845, 3401, 2058, 5033, 5517, 2080, 6186, 4803, 3687, 349, 2725, 141, 862, 394, 2673, 4457, 2176, 3821, 6170, 3862, 5131, 1573, 1031, 4103, 3428, 57, 4945, 1514, 4715, 2769, 1449, 2757, 4621, 5759, 5715, 4442, 1997, 5678, 1258, 1100, 5813, 3650, 291, 4269, 2562, 3995, 1654, 3285, 3265, 150, 178, 4624, 1117, 5400, 485, 794, 3298, 4007, 4054, 667, 3041, 4241, 5221, 953, 5058, 3573, 5964, 3068, 674, 1334, 2585, 4060, 6354, 4496, 2689, 6016, 3702, 4763, 3329, 4014, 5195, 1593, 3554, 4558, 2279, 6343, 1261, 3134, 4916, 4147, 4362, 6362, 1176, 2511, 752, 4364, 1337, 4034, 1955, 5179, 1455, 5922, 1099, 1484, 5459, 1450, 4377, 690, 5021, 4681, 4539, 3204, 6506, 4303, 1195, 2512, 4138, 2005, 5463, 322, 790, 5015, 538, 6423, 2079, 4599, 1770, 3836, 5190, 3082, 6030, 3309, 2809, 2886, 2155, 5321, 1978, 559, 1340, 757, 2019, 6099, 5795, 5284, 222, 6259, 5269, 1366, 1927, 4307, 6166, 2575, 16, 504, 299, 3652, 5879, 624, 195, 4253, 438, 2228, 1446, 1541, 6443, 469, 427, 3804, 5298, 931, 5864, 1345, 4311, 5203, 2908, 693, 2236, 4908, 6359, 5475, 5682, 3104, 3561, 3763, 129, 1127, 636, 3263, 4534, 3633, 5430, 4125, 3987, 6538, 1443, 3390, 2582, 5226, 6264, 6464, 6017, 1950, 4562, 5382, 2270, 2346, 4325, 5644, 4344, 4588, 6159, 3099, 3422, 2737, 5431, 3585, 3096, 4544, 2311, 4151, 2916, 2532, 1767, 2304, 2505, 2253, 5955, 5176, 2753, 6165, 6429, 6054, 5229, 1594, 468, 4693, 2629, 3369, 4556, 2139, 4360, 434, 3590, 4319, 4525, 3626, 3919, 3822, 374, 3501, 3264, 3047, 5771, 1957, 618, 2388, 5519, 3979, 2330, 3258, 2118, 6106, 5524, 1926, 3800, 4402, 1832, 2572, 642, 95, 2074, 2846, 2851, 125, 2011, 102, 1402, 4335, 3786, 5064, 2185, 2148, 4051, 4167, 2693, 2633, 3625, 3004, 3070, 4283, 3971, 4406, 3988, 6251, 5100, 1104, 2726, 3969, 2898, 2814, 108, 2507, 4102, 6419, 4370, 4530, 5240, 3982, 594, 5473, 6348, 2490, 590, 5181, 2932, 2599, 6083, 5643, 2017, 962, 6453, 1742, 4073, 1526, 3790, 1980, 6142, 1095, 3722, 1274, 2818, 2698, 3543, 4697, 4388, 999, 3957, 475, 290, 2357, 1381, 681, 4519, 2034, 1415, 4337, 3719, 479, 1259, 793, 2853, 687, 5971, 1515, 1333, 2637, 3373, 3429, 1735, 6138, 264, 403, 47, 6048, 3823, 190, 316, 832, 6041, 5645, 2924, 1584, 2549, 3528, 6130, 118, 5866, 5259, 4255, 4358, 3040, 3773, 3973, 3239, 5854, 6157, 3319, 2744, 4622, 4541, 5034, 2400, 1159, 3881, 3559, 4075, 294, 2158, 297, 5243, 269, 2434, 2683, 3682, 4294, 4251, 6003, 5201, 6514, 1335, 6386, 6551, 2177, 289, 3216, 1425, 2449, 1279, 1032, 5689, 3575, 5074, 5371, 915, 5257, 5767, 1875, 462, 4640, 2475, 1364, 5629, 5799, 6490, 6369, 364, 4538, 4055, 2061, 76, 5467, 3925, 1941, 1533, 3084, 3666, 5758, 5874, 2591, 4409, 1773, 1711, 4526, 1975, 2022, 1404, 2393, 3877, 3006, 6364, 100, 6174, 1581, 961, 6422, 1986, 4699, 2201, 3783, 5272, 1174, 196, 137, 4006, 1736, 6105, 5535, 886, 6207, 5532, 3568, 3717, 2531, 4276, 6331, 1326, 6345, 2025, 5395, 5570, 4383, 1661, 4438, 2433, 5067, 6158, 4799, 5632, 2385, 522, 4211, 1351, 3124, 2985, 3830, 3479, 4644, 1028, 775, 3427, 1126, 6521, 4193, 5428, 3602, 1245, 2233, 5099, 4009, 3578, 1866, 5840, 1132, 4515, 5282, 1438, 2238, 2946, 3703, 6363, 4396, 785, 2975, 644, 1408, 1089, 5611, 5914, 5647, 2991, 3580, 4962, 5624, 2261, 4065, 1462, 5855, 3859, 2112, 2018, 3934, 4334, 6480, 3835, 4701, 5683, 1951, 4160, 5063, 6452, 4514, 2121, 2285, 2801, 1829, 1546, 5447, 30, 3139, 5974, 2169, 4200, 4044, 3503, 837, 6282, 1288, 2843, 4037, 4788, 4545, 4215, 6112, 1330, 6034, 3192, 5888, 3222, 3803, 242, 3308, 1651, 2062, 467, 4746, 1775, 4802, 3529, 593, 5716, 1781, 3864, 1596, 6167, 5690, 5685, 204, 5077, 4131, 5241, 4414, 1328, 3834, 4714, 6094, 6360, 1936, 3017, 2569, 2829, 1029, 3725, 5612, 5225, 4965, 124, 531, 278, 3029, 5035, 1046, 4656, 3720, 4187, 1112, 2448, 2398, 342, 5112, 3044, 647, 4935, 2970, 1179, 447, 833, 6503, 715, 2274, 5515, 3411, 5042, 6489, 3692, 3095, 2101, 3273, 4773, 1171, 3606, 484, 6462, 4456, 1113, 311, 2931, 844, 4474, 2821, 2028, 3433, 4095, 146, 4771, 5061, 1937, 3658, 637, 3582, 1249, 1627, 1625, 5215, 3304, 4739, 3770, 3727, 139, 5594, 2405, 4585, 2159, 1827, 4533, 4942, 395, 5189, 6220, 2815, 5959, 4834, 4696, 6377, 4290, 3825, 4013, 3150, 3046, 1703, 4017, 6469, 6012, 2012, 1825, 4277, 6320, 3389, 4928, 5861, 4540, 1267, 1669, 4002, 1200, 508, 1436, 2743, 3840, 933, 3850, 2993, 1787, 2719, 2671, 6404, 519, 1052, 4863, 1424, 6402, 1361, 5160, 3339, 5773, 2164, 5144, 3986, 5270, 2837, 1985, 5998, 1344, 4691, 6299, 1628, 3732, 3078, 4495, 4751, 4217, 4088, 1500, 3963, 1738, 1296, 3663, 5762, 2497, 3558, 320, 4173, 5769, 1164, 3718, 2979, 6543, 5916, 3515, 1432, 3417, 4385, 1567, 1201, 633, 6426, 2892, 5159, 1853, 6162, 1790, 2366, 4129, 5107, 2369, 1173, 1684, 6078, 2095, 6001, 4490, 4583, 1867, 1777, 3446, 507, 2782, 3867, 6523, 591, 303, 4952, 4372, 5554, 4779, 3345, 5354, 3213, 4953, 611, 3163, 5039, 1925, 3156, 1610, 5543, 603, 1379, 4616, 2331, 6213, 2226, 3677, 2617, 4955, 1814, 6459, 6120, 3348, 4727, 1904, 3294, 192, 5814, 5863, 963, 202, 4520, 2822, 3828, 4136, 4339, 1128, 1257, 3893, 3042, 1537, 4781, 2143, 2067, 1325, 3949, 5805, 4901, 4780, 181, 724, 5062, 2647, 589, 6482, 1441, 779, 4093, 1812, 638, 3996, 5057, 3282, 889, 5753, 783, 1440, 5224, 79, 2465, 6372, 5433, 4812, 2771, 400, 3131, 2008, 3628, 3516, 3432, 3900, 437, 1813, 4915, 3180, 2489, 882, 6446, 1110, 3241, 1079, 3584, 3306, 3290, 5539, 3668, 2326, 1205, 3723, 3186, 530, 1170, 4153, 5703, 5548, 5051, 1496, 2566, 536, 803, 5384, 3962, 4242, 1003, 3277, 3874, 5794, 4612, 3005, 4869, 5675, 2874, 1445, 3695, 3176, 2646, 5781, 800, 1520, 5883, 697, 4634, 5939, 3207, 1033, 2193, 1206, 4887, 4609, 4774, 6275, 3136, 4022, 1295, 1460, 2514, 6486, 1863, 5149, 599, 5788, 1932, 363, 4601, 2188, 6097, 2691, 1707, 1709, 2720, 966, 379, 1994, 2232, 524, 3250, 276, 4296, 1418, 2119, 4064, 4733, 4288, 2613, 1828, 2804, 5191, 2316, 5604, 3954, 4076, 2724, 201, 3765, 3109, 5048, 2652, 5919, 37, 3374, 2248, 5896, 132, 3383, 1186, 1199, 2998, 29, 3964, 4983, 2502, 6522, 3311, 6387, 5638, 2437, 2694, 1778, 2528, 263, 4639, 285, 2057, 4857, 1679, 890, 5242, 4391, 4432, 5125, 3399, 4390, 1297, 1897, 4450, 5111, 4326, 5595, 1909, 6516, 5507, 617, 639, 3639, 5487, 5846, 1987, 945, 1264, 2007, 279, 4092, 6044, 4310, 2203, 1262, 2651, 1503, 1949, 267, 2834, 3129, 309, 5841, 1336, 1362, 4768, 3347, 4720, 3063, 3917, 4951, 965, 1207, 5306, 5587, 2419, 313, 5450, 4635, 4737, 4328, 3902, 2942, 5324, 2222, 4996, 3466, 5154, 6451, 3951, 1586, 1013, 5233, 4563, 2426, 2344, 2329, 696, 4810, 2899, 2699, 6301, 2577, 4888, 3456, 4662, 1680, 3418, 2945, 3137, 2473, 3611, 4068, 2603, 5153, 286, 5390, 1873, 5697, 112, 2590, 1096, 717, 4361, 2168, 5648, 5018, 3424, 3948, 3267, 6529, 5091, 2656, 371, 2816, 1037, 5129, 544, 4179, 5185, 4447, 4230, 4933, 5309, 4742, 3636, 3994, 4666, 186, 1270, 5183, 4860, 5261, 5392, 3365, 4605, 3245, 4613, 3097, 3755, 3303, 1411, 2836, 6249, 6053, 5528, 66, 4682, 5292, 425, 6432, 2082, 5363, 1933, 1369, 3789, 4426, 5569, 3384, 389, 445, 2635, 719, 3839, 6436, 1035, 6368, 2162, 4907, 3219, 1341, 1090, 4618, 6256, 3504, 4016, 2403, 4572, 2417, 59, 5453, 3838, 1848, 1868, 5200, 3470, 4204, 3481, 2301, 4333, 1022, 3745, 646, 2926, 4947, 1789, 4379, 3021, 3968, 5213, 4036, 6438, 41, 4647, 3091, 392, 4308, 5451, 4568, 6492, 4005, 2422, 3920, 2447, 2967, 3358, 1165, 1501, 4079, 3451, 5671, 2288, 1103, 2368, 4575, 677, 1435, 5836, 1522, 1850, 2716, 5508, 602, 5484, 1175, 2303, 4239, 4445, 3749, 72, 3256, 3145, 4461, 1115, 3656, 4199, 2614, 4244, 3965]\n",
      "val ids:  [2519, 601, 4403, 3320, 5876, 2117, 5999, 5277, 2445, 3027, 5276, 1511, 630, 5938, 3493, 5470, 6483, 308, 2764, 3827, 684, 3935, 5777, 4844, 5792, 929, 5691, 1166, 1352, 3882, 4478, 5503, 2254, 4473, 6322, 4655, 4232, 4552, 698, 6298, 5790, 998, 6440, 3215, 4789, 307, 1421, 1899, 1534, 2476, 3270, 5464, 4066, 5670, 1250, 3645, 2493, 2014, 1453, 1910, 5815, 5962, 3820, 3566, 3317, 1682, 2681, 288, 6355, 1750, 77, 5293, 1824, 2911, 1771, 6410, 6358, 4828, 3975, 350, 2817, 2111, 3155, 4636, 4565, 2361, 439, 934, 2574, 2659, 5627, 224, 1169, 2534, 4373, 4132, 4741, 4979, 4052, 6118, 6161, 4815, 2529, 1998, 4574, 1983, 1620, 5616, 399, 1161, 6214, 4686, 4224, 4669, 3058, 6445, 4865, 3896, 5923, 4870, 2727, 1448, 2775, 4460, 506, 5562, 2960, 4694, 3065, 4240, 5880, 3632, 6239, 1673, 3613, 1861, 2023, 1172, 5468, 1006, 4174, 3039, 70, 3747, 2240, 3716, 4707, 2239, 3178, 6412, 3043, 5471, 3646, 3624, 6449, 6328, 1746, 6116, 2416, 770, 3364, 2729, 1900, 6287, 3194, 1358, 5614, 2503, 2358, 3699, 4285, 2265, 6323, 5924, 5564, 4236, 1577, 557, 106, 1858, 4312, 2645, 2338, 5608, 2524, 4939, 1005, 6324, 3985, 2773, 996, 6346, 4611, 5344, 5751, 831, 275, 2919, 5116, 481, 2110, 5536, 3437, 4476, 1188, 3641, 265, 2418, 2978, 3468, 2199, 4790, 366, 645, 4827, 3604, 547, 3159, 6216, 4108, 3289, 4247, 5892, 866, 1034, 3067, 197, 768, 542, 6052, 6014, 6175, 401, 6537, 2267, 1494, 4040, 6494, 2116, 2563, 4148, 872, 4451, 3072, 271, 4306, 3670, 404, 46, 5406, 3206, 5218, 3781, 5442, 2766, 5960, 4231, 5462, 4349, 3895, 2087, 5637, 3190, 5121, 517, 432, 3274, 4637, 5784, 6512, 5867, 5141, 229, 3152, 1939, 1655, 873, 2914, 4482, 4302, 4936, 1417, 4814, 703, 1422, 515, 3314, 4752, 3826, 4477, 952, 1958, 1580, 3488, 3012, 1012, 3346, 4589, 3333, 4729, 2516, 1591, 3454, 4057, 1293, 769, 3615, 5856, 3922, 3595, 5216, 3589, 5426, 1744, 6424, 4852, 4775, 6134, 1649, 3077, 1896, 3121, 459, 4191, 765, 2488, 4416, 6375, 1125, 6266, 2982, 5194, 3696, 4109, 3472, 3841, 5600, 3371, 2478, 3243, 2172, 1731, 282, 1041, 300, 3679, 2605, 6374, 4608, 3381, 3157, 1600, 6132, 6098, 2471, 3539, 2692, 2522, 4930, 1529, 4573, 1380, 805, 2229, 6125, 6276, 706, 5954, 6255, 3875, 2151, 2754, 6081, 5381, 3395, 2272, 4893, 2498, 5012, 1607, 1213, 1426, 6055, 2092, 2006, 31, 4596, 3022, 4053, 111, 688, 1107, 4704, 3177, 5147, 205, 3856, 5069, 3049, 376, 5893, 5017, 1837, 766, 1410, 3782, 128, 3630, 2607, 1946, 2654, 3354, 1461, 3187, 5673, 913, 1298, 6370, 631, 2342, 2527, 214, 3586, 4122, 2075, 3593, 2115, 607, 4342, 2901, 452, 2063, 5466, 704, 1098, 3236, 613, 5197, 3506, 3484, 4560, 6365, 5789, 3251, 3497, 4405, 2083, 6509, 226, 2345, 511, 5617, 5768, 1929, 2003, 1648, 4561, 238, 1202, 2586, 1871, 3863, 232, 3764, 3191, 2234, 1283, 3461, 4847, 5563, 3402, 3999, 3502, 925, 1038, 2973, 5175, 3153, 4586, 142, 2258, 1540, 4547, 5372, 6080, 6009, 1048, 6508, 2750, 6210, 3691, 385, 2182, 5210, 5136, 3992, 3283, 5378, 4898, 3757, 4570, 3534, 5445, 5838, 450, 5801, 6550, 2149, 5704, 6026, 4557, 1740, 4097, 3359, 3947, 62, 4692, 2774, 3400, 1129, 266, 4282, 4970, 6547, 3071, 113, 1623, 2355, 4631, 3536, 4524, 529, 3944, 422, 3123, 4950, 626, 6008, 3631, 876, 634, 2530, 528, 1353, 3379, 5011, 5228, 3016, 3494, 5347, 5263, 5438, 2718, 713, 1835, 3742, 1671, 5439, 5078, 4614, 6199, 2808, 6218, 2802, 596, 5146, 6222, 5094, 6244, 3054, 6005, 923, 2832, 2856, 5672, 4551, 6198, 6195, 4246, 3181, 2824, 5839, 3112, 4117, 1589, 5779, 4825, 6121, 483, 98, 2977, 3816, 4382, 5273, 5862, 5009, 4130, 3557, 6458, 3610, 2425, 3600, 6036, 5047, 5211, 2587, 6502, 5800, 2431, 5931, 1039, 2859, 1650, 4777, 6384, 4948, 2183, 6335, 1002, 5730, 4412, 1134, 3425, 56, 4368, 3530, 678, 6140, 1198, 2312, 2794, 3324, 921, 5732, 4600, 3885, 3449, 3767, 3811, 2060, 2157, 61, 3976, 5602, 2138, 5885, 5174, 3132, 5187, 2632, 5264, 3146, 122, 5364, 6238, 4374, 6338, 5342, 3328, 4094, 6290, 621, 2030, 725, 5340, 157, 560, 4190, 3752, 2736, 4423, 4226, 6196, 2961, 4858, 3147, 3474, 3596, 153, 5778, 1363, 5360, 3229, 5997, 4553, 2421, 939, 161, 3938, 685, 718, 3809, 4990, 5288, 5530, 4112, 5157, 2762, 4659, 119, 1252, 855, 3538, 3228, 5639, 2595, 212, 4343, 1859, 4321, 5312, 6223, 6289, 225, 3106, 3142, 2142, 4695, 5504, 4690, 3023, 6333, 2833, 34, 4207, 5877, 3805, 5429, 5882, 2571, 3448, 2997, 6531, 4713, 5875, 2174, 2286, 6510, 5071, 4453, 136, 2262, 2878, 5585, 3498, 835, 3743, 441, 4683, 6204, 3966, 5723, 5695, 2819, 5449, 2423, 1321, 4764, 1359, 4850, 1755, 5526, 2399, 5029, 3647, 804, 2170, 1084, 3011, 4687, 1588, 6171, 5343, 1276, 1618, 5702, 4479, 6273, 4480, 268, 4972, 1260, 5601, 532, 3408, 15, 5209, 6208, 304, 323, 751, 5393, 219, 2688, 133, 5895, 5511, 2114, 4546, 2648, 5113, 3001, 216, 2384, 6448, 4070, 3598, 382, 6172, 5350, 3923, 3845, 3931, 3038, 2533, 4927, 355, 6270, 2231, 871, 341, 2086, 3008, 3724, 4483, 3014, 5402, 5933, 3798, 386, 3887, 552, 4554, 2584, 1907, 2885, 879, 997, 351, 2484, 1456, 1611, 946, 2668, 3416, 5920, 5926, 5452, 4121, 3165, 35, 1595, 215, 3678, 6096, 4516, 3961, 5699, 430, 3164, 234, 2328, 193, 1666, 4281, 127, 6133, 3605, 4331, 99, 3366, 2230, 1168, 2070, 5320, 5375, 3166, 4521, 4201, 4981, 1428, 5808, 6545, 5520, 6206, 3272, 4366, 2412, 4783, 1621, 3332, 3296, 2767, 606, 558, 1191, 3436, 5316, 4119, 5032, 3758, 2205, 2389, 4806, 3377, 762, 3120, 55, 4723, 4798, 4257, 2038, 912, 5302, 1934, 2336, 1009, 159, 3829, 3547, 4821, 3698, 6518, 1870, 233, 3325, 2491, 1348, 206, 4188, 5774, 2194, 134, 3480, 3643, 3061, 3305, 2000, 3015, 2890, 4452, 1710, 5869, 4387, 4726, 1916, 2556, 2661, 2798, 5059, 4365, 5365, 2144, 3865, 2501, 1209, 3162, 4367, 3133, 3509, 4985, 3081, 1677, 3302, 5677, 5921, 4110, 5676, 4275, 3351, 6027, 761, 5521, 843, 3419, 2677, 1536, 5589, 3673, 6528, 2152, 3799, 836, 5618, 2748, 3144, 4067, 2972, 5669, 470, 4011, 1663, 6049, 2072, 3518, 5097, 1416, 3107, 4386, 1532, 1510, 846, 126, 3576, 854, 5338, 5694, 4320, 3726, 4785, 4212, 3244, 5970, 3581, 1601, 1287, 3268, 1241, 4499, 3037, 5019, 5797, 2933, 6484, 4897, 798, 3796, 2056, 3202, 2424, 4475, 4448, 4846, 6057, 3837, 6137, 103, 4767, 377, 3909, 2035, 5441, 2302, 3212, 2957, 6090, 3642, 3984, 1208, 221, 2850, 2510, 1676, 4168, 5953, 2097, 1545, 5045, 6539, 4578, 5615, 6542, 474, 3537, 948, 5698, 4171, 2178, 460, 4243, 3342, 2525, 2237, 4393, 3312, 4154, 2039, 3937, 180, 4941, 4826, 2728, 3223, 4949, 3784, 3475, 3478, 2256, 1851, 6178, 5596, 3689, 4107, 189, 2145, 3248, 3393, 2442, 960, 1674, 4498, 3026, 387, 6089, 4974, 1947, 6350, 1255, 1036, 6431, 2597, 1578, 2756, 6361, 4408, 1763, 2905, 3883, 5287, 5865, 5391, 3352, 1523, 6050, 2937, 3336, 1437, 1086, 64, 6045, 4584, 2669, 4004, 6024, 4894, 1996, 3706, 3052, 5763, 6437, 5725, 4946, 4245, 1177, 6135, 27, 1844, 5066, 523, 3487, 1683, 786, 4536, 4747, 1849, 3967, 369, 1656, 3715, 305, 4487, 4848, 4176, 796, 2105, 6113, 32, 3740, 1791, 4038, 6093, 4993, 4748, 5726, 2146, 191, 1429, 4851, 1406, 3831, 1943, 6188, 1253, 4353, 1409, 4725, 3521, 183, 6271, 1093, 4793, 2616, 5516, 5474, 1372, 1748, 1263, 5114, 2487, 565, 1299, 151, 2184, 5188, 1286, 2746, 3128, 750, 2876, 2314, 2679, 6200, 6501, 6546, 3915, 2479, 3154, 2198, 272, 473, 2835, 5710, 4543, 4567, 640, 707, 4446, 6060, 2860, 4091, 3599, 1130, 4892, 878, 4875, 3550, 5727, 5137, 682, 2268, 3686, 5802, 365, 3680, 3704, 5775, 1495, 4025, 1902, 3507, 2395, 6456, 2793, 3234, 3759, 4008, 1737, 942, 6193, 2093, 4120, 3869, 4186, 1901, 6283, 5872, 6292, 1189, 5631, 5281, 1783, 2676, 4433, 315, 5634, 5930, 2305, 4177, 2362, 1504, 936, 236, 2889, 4629, 1106, 1489, 424, 1488, 6417, 3675, 461, 4960, 4248, 5786, 3462, 1821, 3076, 1695, 4728, 3945, 4992, 5961, 375, 1678, 5405, 3201, 1360, 3735, 1733, 2550, 6051, 4369, 2306, 4165, 5679, 1846, 1956, 2827, 3092, 3450, 1246, 1542, 1590, 4934, 107, 3173, 857, 5386, 3262, 4317, 5182, 2349, 754, 3455, 1350, 5454, 2732, 5518, 2428, 3750, 3261, 3313, 6336, 4330, 1992, 2841, 5180, 5207, 14, 5010, 2854, 4661, 5996, 1357, 1163, 4929, 4252, 1908, 3924, 2589, 2731, 3335, 2759, 3391, 6519, 2662, 6028, 3721, 155, 3843, 3916, 6342, 340, 2715, 2076, 373, 6526, 2996, 357, 2064, 2367, 2392, 4270, 3297, 6376, 4535, 4238, 6164, 2642, 6253, 5358, 592, 3955, 3301, 5199, 22, 1830, 4646, 2252, 709, 2266, 5303, 1571, 1855, 1820, 3172, 1131, 3230, 2235, 1617, 2772, 4028, 2356, 3413, 1747, 6091, 52, 3024, 2966, 3050, 5812, 6507, 2564, 3295, 5305, 3813, 3629, 185, 1602, 5968, 38, 4341, 3226, 1819, 4035, 6380, 5568, 1371, 4214, 3943, 4531, 6190, 5793, 888, 5401, 585, 6177, 6291, 3387, 1954, 2915, 668, 1180, 619, 4831, 4225, 1764, 343, 4995, 4653, 5621, 2696, 3572, 2317, 3018, 927, 3158, 5314, 4359, 1667, 1792, 5208, 2191, 3496, 3508, 292, 2779, 5870, 2242, 5315, 4113, 472, 1766, 1774, 2171, 6540, 4401, 6466, 2845, 5804, 4254, 2343, 3842, 3892, 5127, 4706, 6192, 3149, 5028, 3983, 5232, 5352, 4206, 2275, 5318, 5031, 6202, 4021, 358, 4261, 3546, 6444, 5754, 3792, 3771, 6156, 5680, 6425, 4123, 1675, 622, 3818, 3665, 1378, 2415, 3007, 5897, 503, 4472, 3880, 3738, 679, 4717, 6285, 5398, 2223, 1576, 2224, 3858, 5943, 4050, 3644, 3801, 1216, 4209, 2882, 789, 3733, 4444, 970, 6187, 5994, 6002, 5533, 3953, 6379, 809, 3287, 3051, 1354, 1874, 6042, 875, 1842, 1606, 4135, 4329, 5944, 2796, 4976, 1662, 1862, 1356, 932, 6407, 3089, 1419, 1543, 184, 708, 2190, 4967, 2733, 5192, 2029, 1490, 3903, 1999, 4527, 4297, 6418, 5803, 2570, 2069, 669, 1531, 2245, 5184, 1779, 6297, 2675, 518, 5295, 1834, 3322, 710, 4884, 4279, 4943, 4152, 1242, 5231, 4126, 3055, 616, 6332, 2912, 2429, 2494, 4124, 4411, 1952, 3657, 4905, 5705, 73, 6123, 218, 6304, 1121, 4633, 3193, 3126, 1665, 4080, 4876, 1016, 3469, 3907, 2123, 3491, 4354, 1506, 3447, 1430, 2468, 48, 4866, 958, 767, 5138, 5513, 6329, 5941, 3331, 1906, 3972, 5128, 2250, 3890, 1769, 2755, 967, 23, 4830, 2799, 5927, 2777, 5833, 1519, 3855, 6416, 3894, 1572, 1492, 104, 2396, 2515, 683, 861, 3531, 5719, 3797, 4459, 5110, 2875, 5965, 1605, 3367, 5055, 954, 5696, 6191, 4750, 1116, 6524, 4963, 5950, 2700, 643, 5217, 2573, 1087, 2334, 6219, 5038, 4529, 5478, 5455, 4172, 4042, 5041, 2734, 6454, 1349, 883, 3683, 4559, 3003, 301, 5558, 5791, 3851, 722, 6428, 3853, 6334, 4961, 1185, 4421, 3591, 6511, 5975, 5701, 2956, 458, 6224, 6122, 1585, 4896, 795, 5857, 877, 5156, 3766, 5177, 3463, 2865, 6201, 3490, 2825, 3871, 4227, 3817, 3728, 50, 702, 1928, 5945, 352, 4489, 2109, 6111, 1178, 3321, 2682, 5349, 2906, 80, 2202, 4157, 2826, 3357, 2077, 293, 1990, 4233, 5630, 2806, 1239, 3868, 3183, 2695, 4709, 3477, 6262, 2730, 5279, 856, 4419, 4074, 4664, 3260, 4880, 3889, 4791, 2864, 957, 2264, 6038, 6481, 1995, 788, 6525, 3819, 4218, 3225, 5873, 4149, 4041, 5280, 4705, 3614, 2364, 5296, 4235, 6185, 2805, 3208, 4977, 4914, 4161, 6327, 5056, 3168, 6288, 1355, 3570, 1214, 1049, 2024, 54, 5052, 3102, 442, 3956, 436, 5092, 2765, 1923, 2588, 187, 5750, 2770, 1374, 1988, 217, 4298, 2628, 3746, 5370, 3492, 4195, 5956, 4077, 5810, 6031, 4542, 4380, 18, 2995, 956, 5537, 5868, 4327, 5482, 4883, 3793, 4786, 2745, 5718, 4670, 148, 4468, 3069, 145, 3002, 3483, 6085, 4700, 1025, 4169, 3791, 6087, 448, 1367, 3846, 2877, 6467, 6088, 4197, 2354, 2387, 4142, 5079, 930, 1652, 4395, 1729, 3375, 728, 3221, 2857, 924, 4982, 2858, 2934, 443, 3709, 6318, 1487, 1183, 6373, 4234, 378, 2347, 4493, 6117, 2758, 5359, 6280, 2721, 5013, 2010, 3785, 4219, 455, 2365, 4115, 1433, 5388, 4106, 4000, 2483, 6023, 3171, 4220, 5610, 5717, 2710, 5642, 2943, 5599, 2015, 1544, 3341, 5641, 5274, 5205, 5267, 3406, 2513, 1982, 3685, 2257, 2098, 5925, 6281, 5757, 3812, 6353, 5237, 944, 4581, 2963, 2033, 5161, 5538, 3560, 2443, 1077, 5096, 917, 3412, 6296, 539, 614, 4689, 2324, 6491, 968, 2554, 5446, 5871, 5122, 4507, 3323, 6037, 1347, 2971, 4602, 5918, 1938, 2517, 949, 3224, 4454, 2427, 2761, 4654, 3439, 6252, 3779, 6211, 1843, 1838, 5640, 4465, 4564, 6261, 3921, 4745, 2241, 700, 2432, 6102, 2714, 1023, 5173, 2348, 3660, 6400, 5858, 1459, 2847, 914, 4384, 2401, 4944, 955, 4116, 2686, 3897, 2849, 456, 3257, 3908, 4571, 3203, 4975, 1760, 6160, 348, 4703, 143, 5556, 5619, 4718, 3467, 1872, 543, 3403, 5422, 6303, 6441, 5040, 3713, 2013, 1124, 1266, 4794, 2780, 3430, 1945, 4885, 1745, 5290, 2738, 44, 3776, 1895, 2282, 5609, 2852, 4532, 6079, 4497, 3667, 3701, 158, 1338, 5150, 4528, 6341, 4698, 3349, 6272, 4085, 3612, 362, 5731, 5396, 4964, 4098, 3929, 6278, 5271, 5483, 4357, 1833, 6408, 5036, 2096, 117, 5714, 2066, 2332, 2319, 6237, 1184, 4031, 4128, 5934, 1277, 3284, 1817, 3734, 4991, 5807, 6019, 1816, 3020, 4175, 2350, 4623, 2147, 2470, 1566, 2988, 6277, 830, 2830, 3535, 5421, 1953, 3532, 5764, 6124, 5461, 3664, 4765, 6427, 1015, 2797, 3712, 1705, 6496, 2894, 6101, 6302, 5258, 4069, 6248, 5202, 3754, 6286, 4001, 2351, 4162, 3684, 3066, 4274, 3762, 5721, 5650, 4436, 5652, 5720, 5605, 3090, 6168, 154, 130, 1280, 2768, 4437, 4434, 4146, 2341, 5651, 5075, 105, 4198, 1044, 4680, 1507, 5425, 6549, 344, 5542, 3527, 6043, 1010, 5235, 5304, 3618, 5102, 4859, 3852, 5522, 610, 383, 4194, 2189, 60, 1491, 2444, 5512, 2904, 926, 1498, 5544, 1254, 1269, 2309, 5946, 2742, 5355, 4424, 5424, 3545, 4795, 778, 4650, 6544, 2641, 5299, 1694, 5783, 3697, 2863, 3588, 6411, 5427, 5527, 3661, 3205, 947, 864, 69, 2685, 3434, 6032, 4392, 5265, 723, 2090, 5891, 2004, 5465, 321, 5323, 3888, 2322, 841, 3619, 5947, 4800, 548, 6455, 5551, 6163, 5859, 4237, 1852, 1847, 3906, 5023, 842, 4522, 505, 2752, 6033, 5108, 5485, 5561, 2192, 3609, 4155, 2469, 4280, 3522, 605, 2078, 3338, 463, 3086, 1197, 5843, 632, 4619, 6217, 2009, 2482, 4569, 4973, 1412, 4732, 1008, 1524, 797, 1653, 5917, 771, 6035, 2036, 4867, 5479, 720, 2666, 6356, 2962, 1836, 123, 1687, 3958, 1699, 2813, 6119, 241, 1865, 512, 1284, 2495, 2553, 4314, 1119, 33, 3824, 5008, 3293, 6141, 5628, 3127, 3057, 3409, 6240, 4607, 5557, 2929, 13, 6442, 513, 566, 6517, 2472, 3253, 2438, 4332, 4719, 1043, 1741, 940, 228, 116, 4443, 2352, 1930, 1243, 6403, 834, 3330, 3398, 6007, 5044, 2658, 5387, 3977, 1761, 2156, 5566, 1373, 393, 5383, 1919, 3928, 4625, 2409, 2474, 3778, 42, 1894, 3426, 2402, 4537, 3465, 6326, 6505, 884, 431, 694, 6136, 2555, 4638, 3513, 4937, 3583, 5635, 2903, 4287, 4315, 2453, 3415, 3392, 3861, 1527, 4769, 1014, 1706, 1158, 4104, 5266, 2896, 3774, 5952, 5065, 176, 2480, 2335, 367, 2103, 6246, 2664, 3753, 5646, 3169, 1856, 5728, 6040, 3952, 6107, 4959, 2608, 5151, 4984, 2394, 4486, 5311, 4716, 5073, 4657, 3217, 1776, 5024, 4491, 4301, 2246, 514, 1698, 4679, 3741, 4604, 6548, 5289, 2339, 3453, 2310, 4606, 6434, 3932, 2955, 5591, 5345, 3748, 6126, 4322, 6104, 4222, 5915, 3544, 4735, 36, 2984, 6534, 3053, 4886, 3388, 5268, 1021, 3640, 4063, 5319, 4163, 3676, 4030, 3452, 2102, 3010, 3872, 314, 4502, 5130, 2828, 5301, 3814, 3111, 466, 5115, 4913, 1788, 2518, 5588, 5845, 5369, 359, 2560, 4822, 482, 692, 5761, 5842, 2523, 3873, 6086, 6095, 3946, 4378, 1759, 1772, 230, 780, 3386, 1088, 2717, 144, 6414, 1192, 2938, 3353, 451, 851, 1513, 586, 5219, 1091, 2323, 2227, 1977, 1370, 4603, 2187, 3787, 521, 2548, 3549, 5472, 5966, 5766, 6000, 3135, 4971, 867, 3577, 3182, 4469, 3440, 3269, 465, 2670, 615, 318, 58, 3548, 6541, 2636, 4577, 2166, 3662, 391, 1251, 5308, 4998, 2579, 239, 1190, 2150, 4911, 3927, 1101, 4881, 4702, 3420, 6215, 4610, 4784, 3327, 5706, 2639, 4299, 5368, 4134, 4688, 4184, 4166, 612, 3707, 4284, 3815, 1614, 259, 1518, 1752, 2992, 4417, 2441, 6274, 4579, 5236, 1018, 3551, 4089, 3094, 1431, 2414, 6520, 4185, 1427, 4467, 198, 4643, 1854, 2439, 3315, 4463, 4988, 3744, 776, 3048, 749, 2994, 3093, 2862, 1921, 2276, 4890, 4910, 3161, 686, 3009, 4978, 6339, 3167, 2557, 1749, 5027, 4879, 3807, 1704, 2968, 3431, 5101, 598, 859, 1085, 1702, 302, 4958, 1539, 971, 5606, 3184, 2065, 3990, 1622, 3414, 4024, 6254, 3252, 5037, 5811, 5026, 4912, 5376, 1292, 1463, 1914, 4455, 4336, 2508, 6184, 429, 2196, 5072, 4318, 2634, 6221, 5230, 3310, 2630, 194, 1196, 6378, 4127, 916, 1751, 3471, 3998, 4291, 5444, 1793, 2037, 4293, 5510, 2089, 5681, 1162, 4258, 2273, 641, 6257, 6021, 1413, 5353, 675, 2964, 5776, 711, 5054, 3941, 2204, 4904, 53, 2249, 807, 478, 2723, 3623, 5529, 784, 1597, 6059, 3617, 476, 5886, 156, 3385, 3238, 5626, 4027, 3019, 1893, 2897, 2153, 4872, 2936, 435, 2325, 2277, 4422, 4271, 3476, 3688, 5275, 808, 75, 1375, 1244, 2810, 1626, 3227]\n",
      "test ids:  [0, 1, 2, 3, 4, 5, 6, 7, 8, 9, 10, 11, 12, 40, 81, 82, 83, 84, 85, 86, 87, 88, 89, 90, 91, 92, 93, 94, 120, 162, 163, 164, 165, 166, 167, 168, 169, 170, 171, 172, 173, 174, 175, 200, 243, 244, 245, 246, 247, 248, 249, 250, 251, 252, 253, 254, 255, 256, 257, 280, 324, 325, 326, 327, 328, 329, 330, 331, 332, 333, 334, 335, 336, 337, 338, 339, 360, 405, 406, 407, 408, 409, 410, 411, 412, 413, 414, 415, 416, 417, 418, 419, 420, 421, 440, 486, 487, 488, 489, 490, 491, 492, 493, 494, 495, 496, 497, 498, 499, 500, 501, 502, 520, 567, 568, 569, 570, 571, 572, 573, 574, 575, 576, 577, 578, 579, 580, 581, 582, 583, 584, 600, 648, 649, 650, 651, 652, 653, 654, 655, 656, 657, 658, 659, 660, 661, 662, 663, 664, 665, 666, 680, 729, 730, 731, 732, 733, 734, 735, 736, 737, 738, 739, 740, 741, 742, 743, 744, 745, 746, 747, 748, 760, 810, 811, 812, 813, 814, 815, 816, 817, 818, 819, 820, 821, 822, 823, 824, 825, 826, 827, 828, 829, 840, 891, 892, 893, 894, 895, 896, 897, 898, 899, 900, 901, 902, 903, 904, 905, 906, 907, 908, 909, 910, 911, 920, 972, 973, 974, 975, 976, 977, 978, 979, 980, 981, 982, 983, 984, 985, 986, 987, 988, 989, 990, 991, 992, 993, 1000, 1053, 1054, 1055, 1056, 1057, 1058, 1059, 1060, 1061, 1062, 1063, 1064, 1065, 1066, 1067, 1068, 1069, 1070, 1071, 1072, 1073, 1074, 1075, 1080, 1135, 1136, 1137, 1138, 1139, 1140, 1141, 1142, 1143, 1144, 1145, 1146, 1147, 1148, 1149, 1150, 1151, 1152, 1153, 1154, 1155, 1156, 1160, 1217, 1218, 1219, 1220, 1221, 1222, 1223, 1224, 1225, 1226, 1227, 1228, 1229, 1230, 1231, 1232, 1233, 1234, 1235, 1236, 1237, 1238, 1240, 1300, 1301, 1302, 1303, 1304, 1305, 1306, 1307, 1308, 1309, 1310, 1311, 1312, 1313, 1314, 1315, 1316, 1317, 1318, 1319, 1320, 1382, 1383, 1384, 1385, 1386, 1387, 1388, 1389, 1390, 1391, 1392, 1393, 1394, 1395, 1396, 1397, 1398, 1399, 1400, 1401, 1465, 1466, 1467, 1468, 1469, 1470, 1471, 1472, 1473, 1474, 1475, 1476, 1477, 1478, 1479, 1480, 1481, 1482, 1483, 1547, 1548, 1549, 1550, 1551, 1552, 1553, 1554, 1555, 1556, 1557, 1558, 1559, 1560, 1561, 1562, 1563, 1564, 1565, 1629, 1630, 1631, 1632, 1633, 1634, 1635, 1636, 1637, 1638, 1639, 1640, 1641, 1642, 1643, 1644, 1645, 1646, 1647, 1700, 1712, 1713, 1714, 1715, 1716, 1717, 1718, 1719, 1720, 1721, 1722, 1723, 1724, 1725, 1726, 1727, 1728, 1780, 1794, 1795, 1796, 1797, 1798, 1799, 1800, 1801, 1802, 1803, 1804, 1805, 1806, 1807, 1808, 1809, 1810, 1860, 1877, 1878, 1879, 1880, 1881, 1882, 1883, 1884, 1885, 1886, 1887, 1888, 1889, 1890, 1891, 1892, 1940, 1959, 1960, 1961, 1962, 1963, 1964, 1965, 1966, 1967, 1968, 1969, 1970, 1971, 1972, 1973, 1974, 2020, 2040, 2041, 2042, 2043, 2044, 2045, 2046, 2047, 2048, 2049, 2050, 2051, 2052, 2053, 2054, 2055, 2100, 2120, 2124, 2125, 2126, 2127, 2128, 2129, 2130, 2131, 2132, 2133, 2134, 2135, 2136, 2137, 2180, 2200, 2206, 2207, 2208, 2209, 2210, 2211, 2212, 2213, 2214, 2215, 2216, 2217, 2218, 2219, 2260, 2280, 2289, 2290, 2291, 2292, 2293, 2294, 2295, 2296, 2297, 2298, 2299, 2300, 2340, 2360, 2371, 2372, 2373, 2374, 2375, 2376, 2377, 2378, 2379, 2380, 2381, 2382, 2420, 2440, 2454, 2455, 2456, 2457, 2458, 2459, 2460, 2461, 2462, 2463, 2464, 2500, 2520, 2536, 2537, 2538, 2539, 2540, 2541, 2542, 2543, 2544, 2545, 2546, 2580, 2600, 2618, 2619, 2620, 2621, 2622, 2623, 2624, 2625, 2626, 2627, 2660, 2680, 2701, 2702, 2703, 2704, 2705, 2706, 2707, 2708, 2709, 2740, 2760, 2783, 2784, 2785, 2786, 2787, 2788, 2789, 2790, 2791, 2820, 2840, 2866, 2867, 2868, 2869, 2870, 2871, 2872, 2873, 2900, 2920, 2948, 2949, 2950, 2951, 2952, 2953, 2954, 2980, 3000, 3030, 3031, 3032, 3033, 3034, 3035, 3036, 3060, 3080, 3113, 3114, 3115, 3116, 3117, 3118, 3140, 3160, 3195, 3196, 3197, 3198, 3199, 3200, 3220, 3240, 3278, 3279, 3280, 3281, 3300, 3360, 3361, 3362, 3363, 3380, 3443, 3444, 3445, 3460, 3525, 3526, 3540, 3607, 3608, 3620, 3690, 3700, 3772, 3780, 3854, 3860, 3936, 3940, 4018, 4019, 4020, 4099, 4100, 4101, 4180, 4181, 4182, 4183, 4260, 4263, 4264, 4265, 4266, 4340, 4345, 4346, 4347, 4348, 4420, 4427, 4428, 4429, 4430, 4431, 4500, 4508, 4509, 4510, 4511, 4512, 4513, 4580, 4590, 4591, 4592, 4593, 4594, 4595, 4660, 4672, 4673, 4674, 4675, 4676, 4677, 4678, 4740, 4753, 4754, 4755, 4756, 4757, 4758, 4759, 4760, 4820, 4835, 4836, 4837, 4838, 4839, 4840, 4841, 4842, 4843, 4900, 4917, 4918, 4919, 4920, 4921, 4922, 4923, 4924, 4925, 4980, 4999, 5000, 5001, 5002, 5003, 5004, 5005, 5006, 5007, 5060, 5080, 5081, 5082, 5083, 5084, 5085, 5086, 5087, 5088, 5089, 5090, 5140, 5162, 5163, 5164, 5165, 5166, 5167, 5168, 5169, 5170, 5171, 5172, 5220, 5244, 5245, 5246, 5247, 5248, 5249, 5250, 5251, 5252, 5253, 5254, 5255, 5300, 5326, 5327, 5328, 5329, 5330, 5331, 5332, 5333, 5334, 5335, 5336, 5337, 5380, 5407, 5408, 5409, 5410, 5411, 5412, 5413, 5414, 5415, 5416, 5417, 5418, 5419, 5420, 5460, 5489, 5490, 5491, 5492, 5493, 5494, 5495, 5496, 5497, 5498, 5499, 5500, 5501, 5502, 5540, 5571, 5572, 5573, 5574, 5575, 5576, 5577, 5578, 5579, 5580, 5581, 5582, 5583, 5584, 5620, 5653, 5654, 5655, 5656, 5657, 5658, 5659, 5660, 5661, 5662, 5663, 5664, 5665, 5666, 5667, 5700, 5734, 5735, 5736, 5737, 5738, 5739, 5740, 5741, 5742, 5743, 5744, 5745, 5746, 5747, 5748, 5749, 5780, 5816, 5817, 5818, 5819, 5820, 5821, 5822, 5823, 5824, 5825, 5826, 5827, 5828, 5829, 5830, 5831, 5860, 5898, 5899, 5900, 5901, 5902, 5903, 5904, 5905, 5906, 5907, 5908, 5909, 5910, 5911, 5912, 5940, 5979, 5980, 5981, 5982, 5983, 5984, 5985, 5986, 5987, 5988, 5989, 5990, 5991, 5992, 5993, 6020, 6061, 6062, 6063, 6064, 6065, 6066, 6067, 6068, 6069, 6070, 6071, 6072, 6073, 6074, 6100, 6143, 6144, 6145, 6146, 6147, 6148, 6149, 6150, 6151, 6152, 6153, 6154, 6155, 6180, 6225, 6226, 6227, 6228, 6229, 6230, 6231, 6232, 6233, 6234, 6235, 6236, 6260, 6306, 6307, 6308, 6309, 6310, 6311, 6312, 6313, 6314, 6315, 6316, 6317, 6340, 6388, 6389, 6390, 6391, 6392, 6393, 6394, 6395, 6396, 6397, 6398, 6420, 6470, 6471, 6472, 6473, 6474, 6475, 6476, 6477, 6478, 6479, 6500, 6552, 6553, 6554, 6555, 6556, 6557, 6558, 6559, 6560]\n",
      "CPU times: user 167 ms, sys: 196 ms, total: 363 ms\n",
      "Wall time: 363 ms\n"
     ]
    }
   ],
   "source": [
    "%%time\n",
    "n_total = len(simulation.dataframe)\n",
    "n_train = len(simulation.dataframe[simulation.dataframe.type_of == \"train\"])\n",
    "n_val = len(simulation.dataframe[simulation.dataframe.type_of == \"val\"])\n",
    "n_test = len(simulation.dataframe[simulation.dataframe.type_of == \"test\"])\n",
    "n_train_hamiltonians = len(simulation.train_ids)\n",
    "n_val_hamiltonians = len(simulation.val_ids)\n",
    "n_test_hamiltonians = len(simulation.test_ids)\n",
    "n_total_hamiltonians = n_train_hamiltonians + n_val_hamiltonians + n_test_hamiltonians\n",
    "\n",
    "print(\"% train: \", n_train/n_total)\n",
    "print(\"% val: \",  n_val/n_total)\n",
    "print(\"% test: \", n_test/n_total)\n",
    "print(\"% train + val + test: \", (n_train+n_val+n_test)/n_total)\n",
    "print(\"\\n\")\n",
    "print(\"number of train hamiltonians: \", n_train_hamiltonians)\n",
    "print(\"number of val hamiltonians: \", n_val_hamiltonians)\n",
    "print(\"number of test hamiltonians: \", n_test_hamiltonians)\n",
    "print(\"total number of hamiltonians: \", n_total_hamiltonians)\n",
    "print(\"\\n\")\n",
    "print(\"train ids: \", simulation.train_ids)\n",
    "print(\"val ids: \", simulation.val_ids)\n",
    "print(\"test ids: \", simulation.test_ids)"
   ]
  },
  {
   "cell_type": "markdown",
   "metadata": {
    "papermill": {
     "duration": 0.920589,
     "end_time": "2020-07-10T02:20:35.980625",
     "exception": false,
     "start_time": "2020-07-10T02:20:35.060036",
     "status": "completed"
    },
    "tags": []
   },
   "source": [
    "#### Checking summaries"
   ]
  },
  {
   "cell_type": "code",
   "execution_count": 27,
   "metadata": {
    "execution": {
     "iopub.execute_input": "2020-07-10T02:20:36.056345Z",
     "iopub.status.busy": "2020-07-10T02:20:36.056035Z",
     "iopub.status.idle": "2020-07-10T02:20:36.075668Z",
     "shell.execute_reply": "2020-07-10T02:20:36.075970Z"
    },
    "papermill": {
     "duration": 0.057751,
     "end_time": "2020-07-10T02:20:36.076034",
     "exception": false,
     "start_time": "2020-07-10T02:20:36.018283",
     "status": "completed"
    },
    "tags": []
   },
   "outputs": [
    {
     "name": "stdout",
     "output_type": "stream",
     "text": [
      "length of ham_summary:  6561\n",
      "CPU times: user 108 µs, sys: 0 ns, total: 108 µs\n",
      "Wall time: 62.2 µs\n"
     ]
    },
    {
     "data": {
      "text/html": [
       "<div>\n",
       "<style scoped>\n",
       "    .dataframe tbody tr th:only-of-type {\n",
       "        vertical-align: middle;\n",
       "    }\n",
       "\n",
       "    .dataframe tbody tr th {\n",
       "        vertical-align: top;\n",
       "    }\n",
       "\n",
       "    .dataframe thead th {\n",
       "        text-align: right;\n",
       "    }\n",
       "</style>\n",
       "<table border=\"1\" class=\"dataframe\">\n",
       "  <thead>\n",
       "    <tr style=\"text-align: right;\">\n",
       "      <th></th>\n",
       "      <th>t1</th>\n",
       "      <th>t2</th>\n",
       "      <th>type_of</th>\n",
       "      <th>-1</th>\n",
       "      <th>0</th>\n",
       "      <th>1</th>\n",
       "      <th>2</th>\n",
       "      <th>phase</th>\n",
       "      <th>pred_phase</th>\n",
       "    </tr>\n",
       "    <tr>\n",
       "      <th>id</th>\n",
       "      <th></th>\n",
       "      <th></th>\n",
       "      <th></th>\n",
       "      <th></th>\n",
       "      <th></th>\n",
       "      <th></th>\n",
       "      <th></th>\n",
       "      <th></th>\n",
       "      <th></th>\n",
       "    </tr>\n",
       "  </thead>\n",
       "  <tbody>\n",
       "    <tr>\n",
       "      <th>0</th>\n",
       "      <td>-2.0</td>\n",
       "      <td>-2.00</td>\n",
       "      <td>test</td>\n",
       "      <td>0.10</td>\n",
       "      <td>0.50</td>\n",
       "      <td>0.30</td>\n",
       "      <td>0.10</td>\n",
       "      <td>999</td>\n",
       "      <td>0</td>\n",
       "    </tr>\n",
       "    <tr>\n",
       "      <th>1</th>\n",
       "      <td>-2.0</td>\n",
       "      <td>-1.95</td>\n",
       "      <td>test</td>\n",
       "      <td>0.11</td>\n",
       "      <td>0.50</td>\n",
       "      <td>0.26</td>\n",
       "      <td>0.13</td>\n",
       "      <td>-1</td>\n",
       "      <td>0</td>\n",
       "    </tr>\n",
       "    <tr>\n",
       "      <th>2</th>\n",
       "      <td>-2.0</td>\n",
       "      <td>-1.90</td>\n",
       "      <td>test</td>\n",
       "      <td>0.16</td>\n",
       "      <td>0.48</td>\n",
       "      <td>0.24</td>\n",
       "      <td>0.12</td>\n",
       "      <td>-1</td>\n",
       "      <td>0</td>\n",
       "    </tr>\n",
       "    <tr>\n",
       "      <th>3</th>\n",
       "      <td>-2.0</td>\n",
       "      <td>-1.85</td>\n",
       "      <td>test</td>\n",
       "      <td>0.17</td>\n",
       "      <td>0.43</td>\n",
       "      <td>0.27</td>\n",
       "      <td>0.13</td>\n",
       "      <td>-1</td>\n",
       "      <td>0</td>\n",
       "    </tr>\n",
       "    <tr>\n",
       "      <th>4</th>\n",
       "      <td>-2.0</td>\n",
       "      <td>-1.80</td>\n",
       "      <td>test</td>\n",
       "      <td>0.18</td>\n",
       "      <td>0.42</td>\n",
       "      <td>0.27</td>\n",
       "      <td>0.13</td>\n",
       "      <td>-1</td>\n",
       "      <td>0</td>\n",
       "    </tr>\n",
       "    <tr>\n",
       "      <th>...</th>\n",
       "      <td>...</td>\n",
       "      <td>...</td>\n",
       "      <td>...</td>\n",
       "      <td>...</td>\n",
       "      <td>...</td>\n",
       "      <td>...</td>\n",
       "      <td>...</td>\n",
       "      <td>...</td>\n",
       "      <td>...</td>\n",
       "    </tr>\n",
       "    <tr>\n",
       "      <th>6556</th>\n",
       "      <td>2.0</td>\n",
       "      <td>1.80</td>\n",
       "      <td>test</td>\n",
       "      <td>0.21</td>\n",
       "      <td>0.31</td>\n",
       "      <td>0.20</td>\n",
       "      <td>0.28</td>\n",
       "      <td>-1</td>\n",
       "      <td>0</td>\n",
       "    </tr>\n",
       "    <tr>\n",
       "      <th>6557</th>\n",
       "      <td>2.0</td>\n",
       "      <td>1.85</td>\n",
       "      <td>test</td>\n",
       "      <td>0.16</td>\n",
       "      <td>0.32</td>\n",
       "      <td>0.21</td>\n",
       "      <td>0.31</td>\n",
       "      <td>-1</td>\n",
       "      <td>0</td>\n",
       "    </tr>\n",
       "    <tr>\n",
       "      <th>6558</th>\n",
       "      <td>2.0</td>\n",
       "      <td>1.90</td>\n",
       "      <td>test</td>\n",
       "      <td>0.13</td>\n",
       "      <td>0.38</td>\n",
       "      <td>0.16</td>\n",
       "      <td>0.33</td>\n",
       "      <td>-1</td>\n",
       "      <td>0</td>\n",
       "    </tr>\n",
       "    <tr>\n",
       "      <th>6559</th>\n",
       "      <td>2.0</td>\n",
       "      <td>1.95</td>\n",
       "      <td>test</td>\n",
       "      <td>0.12</td>\n",
       "      <td>0.43</td>\n",
       "      <td>0.15</td>\n",
       "      <td>0.30</td>\n",
       "      <td>-1</td>\n",
       "      <td>0</td>\n",
       "    </tr>\n",
       "    <tr>\n",
       "      <th>6560</th>\n",
       "      <td>2.0</td>\n",
       "      <td>2.00</td>\n",
       "      <td>test</td>\n",
       "      <td>0.12</td>\n",
       "      <td>0.33</td>\n",
       "      <td>0.24</td>\n",
       "      <td>0.31</td>\n",
       "      <td>999</td>\n",
       "      <td>0</td>\n",
       "    </tr>\n",
       "  </tbody>\n",
       "</table>\n",
       "<p>6561 rows × 9 columns</p>\n",
       "</div>"
      ],
      "text/plain": [
       "       t1    t2 type_of    -1     0     1     2  phase  pred_phase\n",
       "id                                                                \n",
       "0    -2.0 -2.00    test  0.10  0.50  0.30  0.10    999           0\n",
       "1    -2.0 -1.95    test  0.11  0.50  0.26  0.13     -1           0\n",
       "2    -2.0 -1.90    test  0.16  0.48  0.24  0.12     -1           0\n",
       "3    -2.0 -1.85    test  0.17  0.43  0.27  0.13     -1           0\n",
       "4    -2.0 -1.80    test  0.18  0.42  0.27  0.13     -1           0\n",
       "...   ...   ...     ...   ...   ...   ...   ...    ...         ...\n",
       "6556  2.0  1.80    test  0.21  0.31  0.20  0.28     -1           0\n",
       "6557  2.0  1.85    test  0.16  0.32  0.21  0.31     -1           0\n",
       "6558  2.0  1.90    test  0.13  0.38  0.16  0.33     -1           0\n",
       "6559  2.0  1.95    test  0.12  0.43  0.15  0.30     -1           0\n",
       "6560  2.0  2.00    test  0.12  0.33  0.24  0.31    999           0\n",
       "\n",
       "[6561 rows x 9 columns]"
      ]
     },
     "execution_count": 27,
     "metadata": {},
     "output_type": "execute_result"
    }
   ],
   "source": [
    "%%time\n",
    "ham_summary = simulation.hamiltonian_summary\n",
    "print(\"length of ham_summary: \", len(ham_summary))\n",
    "ham_summary"
   ]
  },
  {
   "cell_type": "code",
   "execution_count": 28,
   "metadata": {
    "execution": {
     "iopub.execute_input": "2020-07-10T02:20:36.148871Z",
     "iopub.status.busy": "2020-07-10T02:20:36.148562Z",
     "iopub.status.idle": "2020-07-10T02:20:36.181045Z",
     "shell.execute_reply": "2020-07-10T02:20:36.180723Z"
    },
    "papermill": {
     "duration": 0.069702,
     "end_time": "2020-07-10T02:20:36.181095",
     "exception": false,
     "start_time": "2020-07-10T02:20:36.111393",
     "status": "completed"
    },
    "tags": []
   },
   "outputs": [
    {
     "data": {
      "text/html": [
       "<div>\n",
       "<style scoped>\n",
       "    .dataframe tbody tr th:only-of-type {\n",
       "        vertical-align: middle;\n",
       "    }\n",
       "\n",
       "    .dataframe tbody tr th {\n",
       "        vertical-align: top;\n",
       "    }\n",
       "\n",
       "    .dataframe thead th {\n",
       "        text-align: right;\n",
       "    }\n",
       "</style>\n",
       "<table border=\"1\" class=\"dataframe\">\n",
       "  <thead>\n",
       "    <tr style=\"text-align: right;\">\n",
       "      <th></th>\n",
       "      <th>t1</th>\n",
       "      <th>t2</th>\n",
       "      <th>-1</th>\n",
       "      <th>0</th>\n",
       "      <th>1</th>\n",
       "      <th>2</th>\n",
       "      <th>phase</th>\n",
       "      <th>pred_phase</th>\n",
       "    </tr>\n",
       "  </thead>\n",
       "  <tbody>\n",
       "    <tr>\n",
       "      <th>count</th>\n",
       "      <td>6561.000000</td>\n",
       "      <td>6.561000e+03</td>\n",
       "      <td>6561.000000</td>\n",
       "      <td>6561.000000</td>\n",
       "      <td>6561.000000</td>\n",
       "      <td>6561.000000</td>\n",
       "      <td>6561.000000</td>\n",
       "      <td>6561.000000</td>\n",
       "    </tr>\n",
       "    <tr>\n",
       "      <th>mean</th>\n",
       "      <td>0.000000</td>\n",
       "      <td>-4.331917e-18</td>\n",
       "      <td>0.178137</td>\n",
       "      <td>0.327820</td>\n",
       "      <td>0.323112</td>\n",
       "      <td>0.170930</td>\n",
       "      <td>28.045877</td>\n",
       "      <td>0.484530</td>\n",
       "    </tr>\n",
       "    <tr>\n",
       "      <th>std</th>\n",
       "      <td>1.169134</td>\n",
       "      <td>1.169134e+00</td>\n",
       "      <td>0.331846</td>\n",
       "      <td>0.409217</td>\n",
       "      <td>0.412467</td>\n",
       "      <td>0.325538</td>\n",
       "      <td>163.557011</td>\n",
       "      <td>0.996846</td>\n",
       "    </tr>\n",
       "    <tr>\n",
       "      <th>min</th>\n",
       "      <td>-2.000000</td>\n",
       "      <td>-2.000000e+00</td>\n",
       "      <td>0.000000</td>\n",
       "      <td>0.000000</td>\n",
       "      <td>0.000000</td>\n",
       "      <td>0.000000</td>\n",
       "      <td>-1.000000</td>\n",
       "      <td>-1.000000</td>\n",
       "    </tr>\n",
       "    <tr>\n",
       "      <th>25%</th>\n",
       "      <td>-1.000000</td>\n",
       "      <td>-1.000000e+00</td>\n",
       "      <td>0.000000</td>\n",
       "      <td>0.000000</td>\n",
       "      <td>0.000000</td>\n",
       "      <td>0.000000</td>\n",
       "      <td>0.000000</td>\n",
       "      <td>0.000000</td>\n",
       "    </tr>\n",
       "    <tr>\n",
       "      <th>50%</th>\n",
       "      <td>0.000000</td>\n",
       "      <td>0.000000e+00</td>\n",
       "      <td>0.010000</td>\n",
       "      <td>0.070000</td>\n",
       "      <td>0.080000</td>\n",
       "      <td>0.010000</td>\n",
       "      <td>1.000000</td>\n",
       "      <td>0.000000</td>\n",
       "    </tr>\n",
       "    <tr>\n",
       "      <th>75%</th>\n",
       "      <td>1.000000</td>\n",
       "      <td>1.000000e+00</td>\n",
       "      <td>0.110000</td>\n",
       "      <td>0.880000</td>\n",
       "      <td>0.900000</td>\n",
       "      <td>0.080000</td>\n",
       "      <td>1.000000</td>\n",
       "      <td>1.000000</td>\n",
       "    </tr>\n",
       "    <tr>\n",
       "      <th>max</th>\n",
       "      <td>2.000000</td>\n",
       "      <td>2.000000e+00</td>\n",
       "      <td>1.000000</td>\n",
       "      <td>1.000000</td>\n",
       "      <td>1.000000</td>\n",
       "      <td>1.000000</td>\n",
       "      <td>999.000000</td>\n",
       "      <td>2.000000</td>\n",
       "    </tr>\n",
       "  </tbody>\n",
       "</table>\n",
       "</div>"
      ],
      "text/plain": [
       "                t1            t2           -1            0            1  \\\n",
       "count  6561.000000  6.561000e+03  6561.000000  6561.000000  6561.000000   \n",
       "mean      0.000000 -4.331917e-18     0.178137     0.327820     0.323112   \n",
       "std       1.169134  1.169134e+00     0.331846     0.409217     0.412467   \n",
       "min      -2.000000 -2.000000e+00     0.000000     0.000000     0.000000   \n",
       "25%      -1.000000 -1.000000e+00     0.000000     0.000000     0.000000   \n",
       "50%       0.000000  0.000000e+00     0.010000     0.070000     0.080000   \n",
       "75%       1.000000  1.000000e+00     0.110000     0.880000     0.900000   \n",
       "max       2.000000  2.000000e+00     1.000000     1.000000     1.000000   \n",
       "\n",
       "                 2        phase   pred_phase  \n",
       "count  6561.000000  6561.000000  6561.000000  \n",
       "mean      0.170930    28.045877     0.484530  \n",
       "std       0.325538   163.557011     0.996846  \n",
       "min       0.000000    -1.000000    -1.000000  \n",
       "25%       0.000000     0.000000     0.000000  \n",
       "50%       0.010000     1.000000     0.000000  \n",
       "75%       0.080000     1.000000     1.000000  \n",
       "max       1.000000   999.000000     2.000000  "
      ]
     },
     "execution_count": 28,
     "metadata": {},
     "output_type": "execute_result"
    }
   ],
   "source": [
    "ham_summary.describe()"
   ]
  },
  {
   "cell_type": "code",
   "execution_count": 29,
   "metadata": {
    "execution": {
     "iopub.execute_input": "2020-07-10T02:20:36.257043Z",
     "iopub.status.busy": "2020-07-10T02:20:36.256731Z",
     "iopub.status.idle": "2020-07-10T02:20:36.272120Z",
     "shell.execute_reply": "2020-07-10T02:20:36.271802Z"
    },
    "papermill": {
     "duration": 0.053627,
     "end_time": "2020-07-10T02:20:36.272171",
     "exception": false,
     "start_time": "2020-07-10T02:20:36.218544",
     "status": "completed"
    },
    "tags": []
   },
   "outputs": [
    {
     "name": "stdout",
     "output_type": "stream",
     "text": [
      "length of ham_summary:  656100\n"
     ]
    },
    {
     "data": {
      "text/html": [
       "<div>\n",
       "<style scoped>\n",
       "    .dataframe tbody tr th:only-of-type {\n",
       "        vertical-align: middle;\n",
       "    }\n",
       "\n",
       "    .dataframe tbody tr th {\n",
       "        vertical-align: top;\n",
       "    }\n",
       "\n",
       "    .dataframe thead th {\n",
       "        text-align: right;\n",
       "    }\n",
       "</style>\n",
       "<table border=\"1\" class=\"dataframe\">\n",
       "  <thead>\n",
       "    <tr style=\"text-align: right;\">\n",
       "      <th></th>\n",
       "      <th>id</th>\n",
       "      <th>phase</th>\n",
       "      <th>pred_phase</th>\n",
       "      <th>type_of</th>\n",
       "    </tr>\n",
       "  </thead>\n",
       "  <tbody>\n",
       "    <tr>\n",
       "      <th>0</th>\n",
       "      <td>0</td>\n",
       "      <td>999</td>\n",
       "      <td>0</td>\n",
       "      <td>test</td>\n",
       "    </tr>\n",
       "    <tr>\n",
       "      <th>1</th>\n",
       "      <td>0</td>\n",
       "      <td>999</td>\n",
       "      <td>-1</td>\n",
       "      <td>test</td>\n",
       "    </tr>\n",
       "    <tr>\n",
       "      <th>2</th>\n",
       "      <td>0</td>\n",
       "      <td>999</td>\n",
       "      <td>1</td>\n",
       "      <td>test</td>\n",
       "    </tr>\n",
       "    <tr>\n",
       "      <th>3</th>\n",
       "      <td>0</td>\n",
       "      <td>999</td>\n",
       "      <td>1</td>\n",
       "      <td>test</td>\n",
       "    </tr>\n",
       "    <tr>\n",
       "      <th>4</th>\n",
       "      <td>0</td>\n",
       "      <td>999</td>\n",
       "      <td>1</td>\n",
       "      <td>test</td>\n",
       "    </tr>\n",
       "    <tr>\n",
       "      <th>...</th>\n",
       "      <td>...</td>\n",
       "      <td>...</td>\n",
       "      <td>...</td>\n",
       "      <td>...</td>\n",
       "    </tr>\n",
       "    <tr>\n",
       "      <th>656095</th>\n",
       "      <td>6560</td>\n",
       "      <td>999</td>\n",
       "      <td>-1</td>\n",
       "      <td>test</td>\n",
       "    </tr>\n",
       "    <tr>\n",
       "      <th>656096</th>\n",
       "      <td>6560</td>\n",
       "      <td>999</td>\n",
       "      <td>1</td>\n",
       "      <td>test</td>\n",
       "    </tr>\n",
       "    <tr>\n",
       "      <th>656097</th>\n",
       "      <td>6560</td>\n",
       "      <td>999</td>\n",
       "      <td>0</td>\n",
       "      <td>test</td>\n",
       "    </tr>\n",
       "    <tr>\n",
       "      <th>656098</th>\n",
       "      <td>6560</td>\n",
       "      <td>999</td>\n",
       "      <td>1</td>\n",
       "      <td>test</td>\n",
       "    </tr>\n",
       "    <tr>\n",
       "      <th>656099</th>\n",
       "      <td>6560</td>\n",
       "      <td>999</td>\n",
       "      <td>0</td>\n",
       "      <td>test</td>\n",
       "    </tr>\n",
       "  </tbody>\n",
       "</table>\n",
       "<p>656100 rows × 4 columns</p>\n",
       "</div>"
      ],
      "text/plain": [
       "          id  phase  pred_phase type_of\n",
       "0          0    999           0    test\n",
       "1          0    999          -1    test\n",
       "2          0    999           1    test\n",
       "3          0    999           1    test\n",
       "4          0    999           1    test\n",
       "...      ...    ...         ...     ...\n",
       "656095  6560    999          -1    test\n",
       "656096  6560    999           1    test\n",
       "656097  6560    999           0    test\n",
       "656098  6560    999           1    test\n",
       "656099  6560    999           0    test\n",
       "\n",
       "[656100 rows x 4 columns]"
      ]
     },
     "execution_count": 29,
     "metadata": {},
     "output_type": "execute_result"
    }
   ],
   "source": [
    "eigen_summary = simulation.eigenvector_summary\n",
    "print(\"length of ham_summary: \", len(eigen_summary))\n",
    "eigen_summary"
   ]
  },
  {
   "cell_type": "markdown",
   "metadata": {
    "papermill": {
     "duration": 0.035832,
     "end_time": "2020-07-10T02:20:36.344142",
     "exception": false,
     "start_time": "2020-07-10T02:20:36.308310",
     "status": "completed"
    },
    "tags": []
   },
   "source": [
    "#### Checking accuracies"
   ]
  },
  {
   "cell_type": "code",
   "execution_count": 30,
   "metadata": {
    "execution": {
     "iopub.execute_input": "2020-07-10T02:20:36.419992Z",
     "iopub.status.busy": "2020-07-10T02:20:36.419657Z",
     "iopub.status.idle": "2020-07-10T02:20:36.430153Z",
     "shell.execute_reply": "2020-07-10T02:20:36.429833Z"
    },
    "papermill": {
     "duration": 0.049376,
     "end_time": "2020-07-10T02:20:36.430203",
     "exception": false,
     "start_time": "2020-07-10T02:20:36.380827",
     "status": "completed"
    },
    "tags": []
   },
   "outputs": [
    {
     "data": {
      "text/plain": [
       "{'eigenvector_train': 0.999402390438247,\n",
       " 'eigenvector_val': 0.889177536231884,\n",
       " 'eigenvector_test': 0.48966239813736906,\n",
       " 'hamiltonian_train': 1.0,\n",
       " 'hamiltonian_val': 0.9978260869565218,\n",
       " 'hamiltonian_test': 0.7462165308498254}"
      ]
     },
     "execution_count": 30,
     "metadata": {},
     "output_type": "execute_result"
    }
   ],
   "source": [
    "simulation.accuracy"
   ]
  },
  {
   "cell_type": "markdown",
   "metadata": {
    "papermill": {
     "duration": 0.036828,
     "end_time": "2020-07-10T02:20:36.503566",
     "exception": false,
     "start_time": "2020-07-10T02:20:36.466738",
     "status": "completed"
    },
    "tags": []
   },
   "source": [
    "#### Checking data stored in  memory"
   ]
  },
  {
   "cell_type": "code",
   "execution_count": 31,
   "metadata": {
    "execution": {
     "iopub.execute_input": "2020-07-10T02:20:36.580084Z",
     "iopub.status.busy": "2020-07-10T02:20:36.579776Z",
     "iopub.status.idle": "2020-07-10T02:20:36.590398Z",
     "shell.execute_reply": "2020-07-10T02:20:36.590076Z"
    },
    "papermill": {
     "duration": 0.049359,
     "end_time": "2020-07-10T02:20:36.590449",
     "exception": false,
     "start_time": "2020-07-10T02:20:36.541090",
     "status": "completed"
    },
    "tags": []
   },
   "outputs": [
    {
     "data": {
      "text/plain": [
       "[]"
      ]
     },
     "execution_count": 31,
     "metadata": {},
     "output_type": "execute_result"
    }
   ],
   "source": [
    "ham_summary_list = simulation.hamiltonian_summary_list\n",
    "ham_summary_list"
   ]
  },
  {
   "cell_type": "code",
   "execution_count": 32,
   "metadata": {
    "execution": {
     "iopub.execute_input": "2020-07-10T02:20:36.666279Z",
     "iopub.status.busy": "2020-07-10T02:20:36.665967Z",
     "iopub.status.idle": "2020-07-10T02:20:36.676002Z",
     "shell.execute_reply": "2020-07-10T02:20:36.676348Z"
    },
    "papermill": {
     "duration": 0.049077,
     "end_time": "2020-07-10T02:20:36.676420",
     "exception": false,
     "start_time": "2020-07-10T02:20:36.627343",
     "status": "completed"
    },
    "tags": []
   },
   "outputs": [
    {
     "data": {
      "text/plain": [
       "[]"
      ]
     },
     "execution_count": 32,
     "metadata": {},
     "output_type": "execute_result"
    }
   ],
   "source": [
    "eigen_summary_list = simulation.eigenvector_summary_list\n",
    "eigen_summary_list"
   ]
  },
  {
   "cell_type": "code",
   "execution_count": 33,
   "metadata": {
    "execution": {
     "iopub.execute_input": "2020-07-10T02:20:36.756720Z",
     "iopub.status.busy": "2020-07-10T02:20:36.756408Z",
     "iopub.status.idle": "2020-07-10T02:20:36.766680Z",
     "shell.execute_reply": "2020-07-10T02:20:36.766358Z"
    },
    "papermill": {
     "duration": 0.052306,
     "end_time": "2020-07-10T02:20:36.766732",
     "exception": false,
     "start_time": "2020-07-10T02:20:36.714426",
     "status": "completed"
    },
    "tags": []
   },
   "outputs": [
    {
     "data": {
      "text/plain": [
       "{'eigenvector_train': [],\n",
       " 'eigenvector_val': [],\n",
       " 'eigenvector_test': [],\n",
       " 'hamiltonian_train': [],\n",
       " 'hamiltonian_val': [],\n",
       " 'hamiltonian_test': []}"
      ]
     },
     "execution_count": 33,
     "metadata": {},
     "output_type": "execute_result"
    }
   ],
   "source": [
    "accuracy_list = simulation.accuracy_list\n",
    "accuracy_list"
   ]
  },
  {
   "cell_type": "code",
   "execution_count": null,
   "metadata": {
    "papermill": {
     "duration": 0.038122,
     "end_time": "2020-07-10T02:20:36.842168",
     "exception": false,
     "start_time": "2020-07-10T02:20:36.804046",
     "status": "completed"
    },
    "tags": []
   },
   "outputs": [],
   "source": []
  },
  {
   "cell_type": "code",
   "execution_count": null,
   "metadata": {
    "papermill": {
     "duration": 0.040411,
     "end_time": "2020-07-10T02:20:36.920305",
     "exception": false,
     "start_time": "2020-07-10T02:20:36.879894",
     "status": "completed"
    },
    "tags": []
   },
   "outputs": [],
   "source": []
  },
  {
   "cell_type": "code",
   "execution_count": 34,
   "metadata": {
    "execution": {
     "iopub.execute_input": "2020-07-10T02:20:36.996630Z",
     "iopub.status.busy": "2020-07-10T02:20:36.996308Z",
     "iopub.status.idle": "2020-07-10T02:20:37.006064Z",
     "shell.execute_reply": "2020-07-10T02:20:37.005770Z"
    },
    "papermill": {
     "duration": 0.048503,
     "end_time": "2020-07-10T02:20:37.006118",
     "exception": false,
     "start_time": "2020-07-10T02:20:36.957615",
     "status": "completed"
    },
    "tags": []
   },
   "outputs": [],
   "source": [
    "#simulation.fourier_matrix"
   ]
  },
  {
   "cell_type": "code",
   "execution_count": 35,
   "metadata": {
    "execution": {
     "iopub.execute_input": "2020-07-10T02:20:37.085592Z",
     "iopub.status.busy": "2020-07-10T02:20:37.085135Z",
     "iopub.status.idle": "2020-07-10T02:20:37.094469Z",
     "shell.execute_reply": "2020-07-10T02:20:37.094786Z"
    },
    "papermill": {
     "duration": 0.04968,
     "end_time": "2020-07-10T02:20:37.094854",
     "exception": false,
     "start_time": "2020-07-10T02:20:37.045174",
     "status": "completed"
    },
    "tags": []
   },
   "outputs": [],
   "source": [
    "#simulation.fourier_matrix.shape"
   ]
  },
  {
   "cell_type": "code",
   "execution_count": 36,
   "metadata": {
    "execution": {
     "iopub.execute_input": "2020-07-10T02:20:37.171747Z",
     "iopub.status.busy": "2020-07-10T02:20:37.171436Z",
     "iopub.status.idle": "2020-07-10T02:20:37.180892Z",
     "shell.execute_reply": "2020-07-10T02:20:37.180564Z"
    },
    "papermill": {
     "duration": 0.04891,
     "end_time": "2020-07-10T02:20:37.180944",
     "exception": false,
     "start_time": "2020-07-10T02:20:37.132034",
     "status": "completed"
    },
    "tags": []
   },
   "outputs": [],
   "source": [
    "#simulation.fourier_matrix[:,0]"
   ]
  },
  {
   "cell_type": "code",
   "execution_count": 37,
   "metadata": {
    "execution": {
     "iopub.execute_input": "2020-07-10T02:20:37.259500Z",
     "iopub.status.busy": "2020-07-10T02:20:37.259180Z",
     "iopub.status.idle": "2020-07-10T02:20:37.268941Z",
     "shell.execute_reply": "2020-07-10T02:20:37.268528Z"
    },
    "papermill": {
     "duration": 0.049634,
     "end_time": "2020-07-10T02:20:37.269002",
     "exception": false,
     "start_time": "2020-07-10T02:20:37.219368",
     "status": "completed"
    },
    "tags": []
   },
   "outputs": [],
   "source": [
    "#simulation.fourier_matrix[:,1]"
   ]
  },
  {
   "cell_type": "code",
   "execution_count": 38,
   "metadata": {
    "execution": {
     "iopub.execute_input": "2020-07-10T02:20:37.347151Z",
     "iopub.status.busy": "2020-07-10T02:20:37.346843Z",
     "iopub.status.idle": "2020-07-10T02:20:37.356372Z",
     "shell.execute_reply": "2020-07-10T02:20:37.356661Z"
    },
    "papermill": {
     "duration": 0.05019,
     "end_time": "2020-07-10T02:20:37.356734",
     "exception": false,
     "start_time": "2020-07-10T02:20:37.306544",
     "status": "completed"
    },
    "tags": []
   },
   "outputs": [],
   "source": [
    "#np.exp(-1j*2*np.pi*3/100)"
   ]
  },
  {
   "cell_type": "code",
   "execution_count": 39,
   "metadata": {
    "execution": {
     "iopub.execute_input": "2020-07-10T02:20:37.438079Z",
     "iopub.status.busy": "2020-07-10T02:20:37.437744Z",
     "iopub.status.idle": "2020-07-10T02:20:37.447480Z",
     "shell.execute_reply": "2020-07-10T02:20:37.447190Z"
    },
    "papermill": {
     "duration": 0.050856,
     "end_time": "2020-07-10T02:20:37.447535",
     "exception": false,
     "start_time": "2020-07-10T02:20:37.396679",
     "status": "completed"
    },
    "tags": []
   },
   "outputs": [],
   "source": [
    "#for i in range(1,50):\n",
    "#    print(\"\\n\")\n",
    "#    print(i)\n",
    "#    print(np.sum((np.real(simulation.fourier_matrix[:,i]) - np.real(simulation.fourier_matrix[:,-i]))**2))\n",
    "#    print(np.sum((np.imag(simulation.fourier_matrix[:,i])+ np.imag(simulation.fourier_matrix[:,-i]))**2))"
   ]
  },
  {
   "cell_type": "code",
   "execution_count": 40,
   "metadata": {
    "execution": {
     "iopub.execute_input": "2020-07-10T02:20:37.524941Z",
     "iopub.status.busy": "2020-07-10T02:20:37.524632Z",
     "iopub.status.idle": "2020-07-10T02:20:37.539825Z",
     "shell.execute_reply": "2020-07-10T02:20:37.539488Z"
    },
    "papermill": {
     "duration": 0.054518,
     "end_time": "2020-07-10T02:20:37.539876",
     "exception": false,
     "start_time": "2020-07-10T02:20:37.485358",
     "status": "completed"
    },
    "tags": []
   },
   "outputs": [],
   "source": [
    "#print(simulation.fourier_matrix[:,0])"
   ]
  },
  {
   "cell_type": "code",
   "execution_count": 41,
   "metadata": {
    "execution": {
     "iopub.execute_input": "2020-07-10T02:20:37.619493Z",
     "iopub.status.busy": "2020-07-10T02:20:37.619168Z",
     "iopub.status.idle": "2020-07-10T02:20:37.629202Z",
     "shell.execute_reply": "2020-07-10T02:20:37.628877Z"
    },
    "papermill": {
     "duration": 0.051033,
     "end_time": "2020-07-10T02:20:37.629254",
     "exception": false,
     "start_time": "2020-07-10T02:20:37.578221",
     "status": "completed"
    },
    "tags": []
   },
   "outputs": [],
   "source": [
    "#print(simulation.fourier_matrix[:,50])"
   ]
  },
  {
   "cell_type": "code",
   "execution_count": null,
   "metadata": {
    "papermill": {
     "duration": 0.036962,
     "end_time": "2020-07-10T02:20:37.703352",
     "exception": false,
     "start_time": "2020-07-10T02:20:37.666390",
     "status": "completed"
    },
    "tags": []
   },
   "outputs": [],
   "source": []
  }
 ],
 "metadata": {
  "celltoolbar": "Tags",
  "kernelspec": {
   "display_name": "ml_top_phases",
   "language": "python",
   "name": "ml_top_phases"
  },
  "language_info": {
   "codemirror_mode": {
    "name": "ipython",
    "version": 3
   },
   "file_extension": ".py",
   "mimetype": "text/x-python",
   "name": "python",
   "nbconvert_exporter": "python",
   "pygments_lexer": "ipython3",
   "version": "3.6.10"
  },
  "papermill": {
   "duration": 1673.834257,
   "end_time": "2020-07-10T02:20:37.851467",
   "environment_variables": {},
   "exception": null,
   "input_path": "0_simulation_template.ipynb",
   "output_path": "zzz_simulation_output_ssh2_9th_scenario_100_6561.ipynb",
   "parameters": {
    "allowed_windings": [
     -1,
     0,
     1,
     2
    ],
    "csv_path": "/home/rio/ssh_csvs/ssh2/periodic_100_6561.csv",
    "features_to_use": [
     0,
     1,
     2,
     3,
     4,
     5,
     6,
     7,
     46,
     48,
     49,
     50
    ],
    "fillna": false,
    "fit_params": null,
    "fourier_features_to_use": [
     0,
     1,
     2,
     3,
     4,
     5,
     6,
     8,
     42,
     44,
     46,
     48
    ],
    "fourier_fillna": false,
    "fourier_mode": "dct",
    "fourier_normalize": false,
    "fourier_real": null,
    "model_kw": {
     "criterion": "entropy",
     "n_estimators": 25,
     "n_jobs": -1
    },
    "model_name": "RandomForestClassifier",
    "n_experiments": 100,
    "normalize": false,
    "pred_params": null,
    "random_features": false,
    "random_state": 34896,
    "save_accuracy": true,
    "save_eigenvector": true,
    "save_hamiltonian": true,
    "save_models": true,
    "shuffle_features": false,
    "shuffle_rows": true,
    "simulation_dir": "/home/rio/ssh_simulations/ssh2/periodic_9th_scenario_100_6561",
    "start_n": 0,
    "store_in_lists": false,
    "val_split": 0.5
   },
   "start_time": "2020-07-10T01:52:44.017210",
   "version": "2.1.0"
  }
 },
 "nbformat": 4,
 "nbformat_minor": 2
}