{
 "cells": [
  {
   "cell_type": "markdown",
   "metadata": {
    "papermill": {
     "duration": 0.023378,
     "end_time": "2020-07-11T21:30:54.344255",
     "exception": false,
     "start_time": "2020-07-11T21:30:54.320877",
     "status": "completed"
    },
    "tags": []
   },
   "source": [
    "# Results template\n",
    "\n",
    "In this notebook we get the results of simulations performed with the nearest neighbours (ssh1) and second neighbours (ssh2) systems."
   ]
  },
  {
   "cell_type": "code",
   "execution_count": 1,
   "metadata": {
    "execution": {
     "iopub.execute_input": "2020-07-11T21:30:54.387961Z",
     "iopub.status.busy": "2020-07-11T21:30:54.387615Z",
     "iopub.status.idle": "2020-07-11T21:30:54.906939Z",
     "shell.execute_reply": "2020-07-11T21:30:54.906650Z"
    },
    "papermill": {
     "duration": 0.542997,
     "end_time": "2020-07-11T21:30:54.907000",
     "exception": false,
     "start_time": "2020-07-11T21:30:54.364003",
     "status": "completed"
    },
    "tags": []
   },
   "outputs": [],
   "source": [
    "%load_ext autoreload\n",
    "%autoreload 2\n",
    "from simulation_results import *\n",
    "#import template_parameters"
   ]
  },
  {
   "cell_type": "markdown",
   "metadata": {
    "papermill": {
     "duration": 0.020371,
     "end_time": "2020-07-11T21:30:54.948362",
     "exception": false,
     "start_time": "2020-07-11T21:30:54.927991",
     "status": "completed"
    },
    "tags": []
   },
   "source": [
    "# Defining parameters"
   ]
  },
  {
   "cell_type": "code",
   "execution_count": 2,
   "metadata": {
    "execution": {
     "iopub.execute_input": "2020-07-11T21:30:54.991352Z",
     "iopub.status.busy": "2020-07-11T21:30:54.990895Z",
     "iopub.status.idle": "2020-07-11T21:30:55.007545Z",
     "shell.execute_reply": "2020-07-11T21:30:55.007221Z"
    },
    "papermill": {
     "duration": 0.039085,
     "end_time": "2020-07-11T21:30:55.007596",
     "exception": false,
     "start_time": "2020-07-11T21:30:54.968511",
     "status": "completed"
    },
    "tags": [
     "parameters"
    ]
   },
   "outputs": [
    {
     "name": "stdout",
     "output_type": "stream",
     "text": [
      "CPU times: user 324 µs, sys: 0 ns, total: 324 µs\n",
      "Wall time: 227 µs\n"
     ]
    }
   ],
   "source": [
    "%%time\n",
    "\n",
    "#########################################################################\n",
    "###################### Simulation and experiment ########################\n",
    "#########################################################################\n",
    "\n",
    "#figs_dir = \"/home/linneu/paper/ml_topological_phases_in_real_space/paper/ssh1/periodic_100_6561\"\n",
    "simulation_dir = SSH1_PERIODIC_1ST_SCENARIO_100_6561_SIMULATION_DIR  #\"/home/linneu/ssh_simulations/ssh1/periodic_100_6561\"\n",
    "figures_dir = SSH1_PERIODIC_1ST_SCENARIO_100_6561_FIGURES_DIR \n",
    "experiment_name = \"0\"\n",
    "n_experiments = None\n",
    "load_hamiltonian_summary = False\n",
    "#winding_cmap_dict = {0: \"Reds\", 1:\"Blues\"}\n",
    "\n",
    "#########################################################################\n",
    "################### Results from a single experiment ####################\n",
    "#########################################################################\n",
    "\n",
    "### Visualizing train/val/test splits with scatter plot for a single experiment\n",
    "scatter_train_val_test_params = {\n",
    "\"fig_params\":{\"figsize\": (6,6)}, \n",
    "\"val_params\": {\"marker\": \"s\", \"s\": 64, \"alpha\": 0.2, \"color\": \"salmon\", \"label\": \"val\"},\n",
    "\"test_params\": {\"marker\": \"s\", \"s\": 64, \"alpha\": 0.5, \"color\": \"royalblue\", \"label\": \"test\"},\n",
    "\"train_params\": {\"marker\": \"o\", \"s\": 3, \"alpha\": 1, \"color\": \"green\", \"label\": \"train\"},\n",
    "\"legend_params\": {\"framealpha\": 0.8, \"loc\": \"upper right\", \"fontsize\": 16},\n",
    "\"xlabel_params\": {\"xlabel\": \"$t_2$\", \"fontsize\": 24},\n",
    "\"ylabel_params\": {\"ylabel\": \"$t_1$\", \"fontsize\": 24},\n",
    "\"title_params\": {},\n",
    "\"xlim_params\": {\"left\": -2, \"right\": 2},\n",
    "\"ylim_params\": {\"bottom\": -2, \"top\": 2},\n",
    "\"xticks_params\": {\"fontsize\": 14},\n",
    "\"yticks_params\": {\"fontsize\": 14},\n",
    "\"tight_params\": {},\n",
    "\"savefig_params\": {\"fname\": os.path.join(figures_dir,\"scatter_train_val_test_experiment_0.png\")},\n",
    "}\n",
    "\n",
    "### Plotting train winding labels with scatter plot for a single experiment\n",
    "scatter_winding_train_params = {\n",
    "\"fig_params\":{\"figsize\": (6,6)}, \n",
    "\"winding_params\": {0: {\"marker\": \"o\", \"s\": 10, \"color\": \"red\", \"label\": 0}, \\\n",
    "                   1: {\"marker\": \"o\", \"s\": 10, \"color\": \"blue\", \"label\": 1}, \\\n",
    "                                    },\n",
    "\"legend_params\": {\"framealpha\": 0.8, \"loc\": \"upper right\", \"fontsize\": 16},\n",
    "\"xlabel_params\": {\"xlabel\": \"$t_2$\", \"fontsize\": 24},\n",
    "\"ylabel_params\": {\"ylabel\": \"$t_1$\", \"fontsize\": 24},\n",
    "\"title_params\": {},\n",
    "\"xlim_params\": {\"left\": -2, \"right\": 2},\n",
    "\"ylim_params\": {\"bottom\": -2, \"top\": 2},\n",
    "\"xticks_params\": {\"fontsize\": 14},\n",
    "\"yticks_params\": {\"fontsize\": 14},\n",
    "\"tight_params\": {},\n",
    "#\"train_winding_path_to_save\": \"/home/linneu/ml_topological_phases_in_real_space/paper/ssh1/periodic_100_6561/train_winding_labels_experiment_0.png\",\n",
    "\"savefig_params\": {\"fname\": os.path.join(figures_dir,\"scatter_winding_train_experiment_0.png\")},\n",
    "}\n",
    "        \n",
    "### Plotting prediction grid with pcolormesh\n",
    "pcolormesh_prediction_grid_params = {\n",
    "\"fig_params\": {\"figsize\": (6,6)},\n",
    "\"winding_params\": {0: {\"marker\": \"o\", \"s\": 10, \"color\": \"red\", \"label\": 0}, \n",
    "                   1: {\"marker\": \"o\", \"s\": 10, \"color\": \"blue\", \"label\": 1}},\n",
    "#\"prediction_grid_pcolormesh_params\": {\"cmap\": ListedColormap([\"hotpink\", \"lightskyblue\"]), \"alpha\": 0.5},\n",
    "\"pcolormesh_params\": {\"cmap\": \"ssh1\", \"alpha\": 0.5},\n",
    "\"legend_params\": {\"framealpha\": 0.8, \"loc\": \"upper right\", \"fontsize\": 16},\n",
    "\"xlabel_params\": {\"xlabel\": \"$t_2$\", \"fontsize\": 24},\n",
    "\"ylabel_params\": {\"ylabel\": \"$t_1$\", \"fontsize\": 24},\n",
    "\"title_params\": {},\n",
    "\"xlim_params\": {\"left\": -2, \"right\": 2},\n",
    "\"ylim_params\": {\"bottom\": -2, \"top\": 2},\n",
    "\"xticks_params\": {\"fontsize\": 14},\n",
    "\"yticks_params\": {\"fontsize\": 14},\n",
    "\"tight_params\": {},\n",
    "\"savefig_params\": {\"fname\": os.path.join(figures_dir,\"pcolormesh_prediction_grid_experiment_0.png\")},\n",
    "}\n",
    "    \n",
    "### Plotting Winding Heatmaps for a single experiment\n",
    "winding_cmap_dict = {0: \"Reds\", 1:\"Blues\"}\n",
    "imshow_winding_grid_params = {\n",
    "\"winding\": 1,\n",
    "\"imshow_params\": {\"cmap\": \"bwr_r\", \"aspect\": \"equal\", \"alpha\": None, \"origin\": \"lower\", \"extent\": [-2,2,-2,2],\\\n",
    "                  \"vmin\": 0, \"vmax\":1},\n",
    "\"colorbar_params\": {\"mappable\": None, \"labelsize\": 24, \"ticks\": [0, 0.2, 0.4, 0.6, 0.8, 1.0], \"pad\": 0.1, \"shrink\": 0.8, \\\n",
    "                                           \"extend\": \"neither\"},\n",
    "#\"colorbar_params\": {0:{\"mappable\": None, \"labelsize\": 24, \"ticks\": [0, 0.2, 0.4, 0.6, 0.8, 1.0], \"pad\": 0.1, \"shrink\": 0.8, \\\n",
    "#                                           \"extend\": \"neither\"},\n",
    "#                    1: {\"mappable\": None, \"labelsize\": 24, \"ticks\": [0, 0.2, 0.4, 0.6, 0.8, 1.0], \"pad\": 0.1, \"shrink\": 0.8, \\\n",
    "#                                           \"extend\": \"neither\"}},\n",
    "\"fig_params\": {\"figsize\": (12,12)},\n",
    "\"xlabel_params\": {\"xlabel\": \"$t_2$\", \"fontsize\": 48},\n",
    "\"ylabel_params\": {\"ylabel\": \"$t_1$\", \"fontsize\": 48},\n",
    "\"title_params\": {},\n",
    "\"xlim_params\": {\"left\": -2, \"right\": 2},\n",
    "\"ylim_params\": {\"bottom\": -2, \"top\": 2},\n",
    "\"xticks_params\": {\"fontsize\": 24},\n",
    "\"yticks_params\": {\"fontsize\": 24},\n",
    "\"tight_params\": {},\n",
    "\"savefig_params\": {\"fname\": os.path.join(figures_dir,\"imshow_winding_grid_winding_{}_{}.png\")},\n",
    "} \n",
    "        \n",
    "##################################################################################\n",
    "################### Bootstrapped results from all experiments ####################\n",
    "##################################################################################\n",
    "    \n",
    "### Plotting simulation winding heatmaps\n",
    "merge_imshow_winding_grids_params = {\n",
    "\"winding_params\": {1: {\"cmap\": \"bwr_r\", \"aspect\": \"equal\", \"alpha\": None, \"origin\": \"lower\", \"extent\": [-2,2,-2,2], \\\n",
    "                  \"vmin\": 0, \"vmax\": 1}},\n",
    "#\"winding_params\": {0: {\"cmap\": \"Reds_alpha\", \"aspect\": \"equal\", \"alpha\": None, \"origin\": \"lower\", \"extent\": [-2,2,-2,2], \\\n",
    "#                                           \"vmin\": 0, \"vmax\": 1},\n",
    "#                       1: {\"cmap\": \"Blues_alpha\", \"aspect\": \"equal\", \"alpha\": None, \"origin\": \"lower\", \"extent\": [-2,2,-2,2], \\\n",
    "#                                           \"vmin\": 0, \"vmax\": 1}},\n",
    "\"colorbar_params\": {1: {\"mappable\": None, \"labelsize\": 24, \"ticks\": [0, 0.2, 0.4, 0.6, 0.8, 1.0], \"pad\": 0.1, \"shrink\": 0.8, \\\n",
    "                                           \"extend\": \"neither\"}},\n",
    "\"fig_params\": {\"figsize\": (12,12)},\n",
    "\"xlabel_params\": {\"xlabel\": \"$t_2$\", \"fontsize\": 48},\n",
    "\"ylabel_params\": {\"ylabel\": \"$t_1$\", \"fontsize\": 48},\n",
    "\"title_params\": {},\n",
    "\"xlim_params\": {\"left\": -2, \"right\": 2},\n",
    "\"ylim_params\": {\"bottom\": -2, \"top\": 2},\n",
    "\"xticks_params\": {\"fontsize\": 24},\n",
    "\"yticks_params\": {\"fontsize\": 24},\n",
    "\"tight_params\": {},\n",
    "#\"sim_winding_heatmap_path_to_save\": \"/home/linneu/ml_topological_phases_in_real_space/paper/ssh1/{}_{}_{}/simulation_merged_winding_grid.png\".format(ssh_type,chain_length,n_hamiltonians),\n",
    "\"savefig_params\": {\"fname\": os.path.join(figures_dir,\"merge_winding_grids_{}.png\")},\n",
    "}\n",
    "        \n",
    "### Plotting feature importances\n",
    "plot_feature_importances_params = {\n",
    "\"n_features\": None,\n",
    "\"plot\": \"bar\",\n",
    "\"plot_params\": {\"color\": \"indianred\", \"width\": 0.7},\n",
    "\"hist_precision\": 1000,\n",
    "\"fig_params\": {\"figsize\": (12,12)}, \n",
    "\"xlabel_params\": {\"xlabel\": \"lattice site\", \"fontsize\": 24},\n",
    "\"ylabel_params\": {\"ylabel\": \"reduction in information entropy (%)\", \"fontsize\": 24},\n",
    "\"title_params\": {\"label\": \"Information entropy signature - SSH 1\", \"fontsize\": 24},\n",
    "\"xlim_params\": {},\n",
    "\"ylim_params\": {},\n",
    "\"xticks_params\": {\"ticks\": [int(i) for i in np.linspace(0,99,10).astype(int)], \"fontsize\": 24},\n",
    "\"yticks_params\": {\"fontsize\": 24},\n",
    "\"tight_params\": {},\n",
    "#\"feature_importances_path_to_save\": \"/home/linneu/ml_topological_phases_in_real_space/paper/ssh1/{}_{}_{}/feature_importances.png\".format(ssh_type,chain_length,n_hamiltonians),\n",
    "\"savefig_params\": {\"fname\": os.path.join(figures_dir,\"plot_feature_importances.png\")},\n",
    "}\n",
    "\n",
    "### Plotting cumulative feature importances\n",
    "plot_cumulative_feature_importances_params = {\n",
    "\"n_features\": None,\n",
    "\"plot\": \"bar\",\n",
    "\"hist_precision\": 1000,\n",
    "\"plot_params\": {\"color\":\"indianred\", \"width\": 0.7},\n",
    "\"fig_params\": {\"figsize\": (12,12)},\n",
    "\"xlabel_params\": {\"xlabel\": \"lattice site\", \"fontsize\": 24},\n",
    "\"ylabel_params\": {\"ylabel\": \"cumulative reduction in information entropy (%)\", \"fontsize\": 24},\n",
    "\"title_params\": {\"label\": \"Cumulative information entropy signature - SSH 1\", \"fontsize\": 24},\n",
    "\"xlim_params\": {},\n",
    "\"ylim_params\": {},\n",
    "\"xticks_params\": {\"ticks\": [int(i) for i in np.linspace(0,99,10).astype(int)], \"fontsize\": 24},\n",
    "\"yticks_params\": {\"fontsize\": 24},\n",
    "\"tight_params\": {},\n",
    "#cumulative_features_path_to_save = \"/home/linneu/ml_topological_phases_in_real_space/paper/ssh1/periodic_100_6561/cumulative_feature_importances.png\"\n",
    "\"savefig_params\": {\"fname\": os.path.join(figures_dir,\"plot_cumulative_feature_importances.png\")},\n",
    "}\n",
    "\n",
    "### Plotting fourier feature importances\n",
    "plot_fourier_feature_importances_params = {\n",
    "\"n_features\": None,\n",
    "\"fourier\": True,\n",
    "\"plot\": \"bar\",\n",
    "\"plot_params\": {\"color\": \"palevioletred\", \"width\": 0.7},\n",
    "\"hist_precision\": 1000,\n",
    "\"fig_params\": {\"figsize\": (12,12)}, \n",
    "\"xlabel_params\": {\"xlabel\": \"reciprocal lattice site\", \"fontsize\": 24},\n",
    "\"ylabel_params\": {\"ylabel\": \"reduction in information entropy (%)\", \"fontsize\": 24},\n",
    "\"title_params\": {\"label\": \"Reciprocal lattice information entropy signature - SSH 1\", \"fontsize\": 24},\n",
    "\"xlim_params\": {},\n",
    "\"ylim_params\": {},\n",
    "\"xticks_params\": {\"ticks\": [int(i) for i in np.linspace(0,99,10).astype(int)], \"fontsize\": 24},\n",
    "\"yticks_params\": {\"fontsize\": 24},\n",
    "\"tight_params\": {},\n",
    "#\"feature_importances_path_to_save\": \"/home/linneu/ml_topological_phases_in_real_space/paper/ssh1/{}_{}_{}/feature_importances.png\".format(ssh_type,chain_length,n_hamiltonians),\n",
    "\"savefig_params\": {\"fname\": os.path.join(figures_dir,\"plot_feature_importances.png\")},\n",
    "}\n",
    "\n",
    "### Plotting cumulative fourier feature importances\n",
    "plot_cumulative_fourier_feature_importances_params = {\n",
    "\"n_features\": None,\n",
    "\"fourier\": True,\n",
    "\"plot\": \"bar\",\n",
    "\"hist_precision\": 1000,\n",
    "\"plot_params\": {\"color\":\"palevioletred\", \"width\": 0.7},\n",
    "\"fig_params\": {\"figsize\": (12,12)},\n",
    "\"xlabel_params\": {\"xlabel\": \"lattice site\", \"fontsize\": 24},\n",
    "\"ylabel_params\": {\"ylabel\": \"cumulative reduction in information entropy (%)\", \"fontsize\": 24},\n",
    "\"title_params\": {\"label\": \"Cumulative information entropy signature - SSH 1\", \"fontsize\": 24},\n",
    "\"xlim_params\": {},\n",
    "\"ylim_params\": {},\n",
    "\"xticks_params\": {\"ticks\": [int(i) for i in np.linspace(0,99,10).astype(int)], \"fontsize\": 24},\n",
    "\"yticks_params\": {\"fontsize\": 24},\n",
    "\"tight_params\": {},\n",
    "#cumulative_features_path_to_save = \"/home/linneu/ml_topological_phases_in_real_space/paper/ssh1/periodic_100_6561/cumulative_feature_importances.png\"\n",
    "\"savefig_params\": {\"fname\": os.path.join(figures_dir,\"plot_cumulative_feature_importances.png\")},\n",
    "}"
   ]
  },
  {
   "cell_type": "code",
   "execution_count": 3,
   "metadata": {
    "execution": {
     "iopub.execute_input": "2020-07-11T21:30:55.051065Z",
     "iopub.status.busy": "2020-07-11T21:30:55.050623Z",
     "iopub.status.idle": "2020-07-11T21:30:55.137025Z",
     "shell.execute_reply": "2020-07-11T21:30:55.138043Z"
    },
    "papermill": {
     "duration": 0.109788,
     "end_time": "2020-07-11T21:30:55.138209",
     "exception": false,
     "start_time": "2020-07-11T21:30:55.028421",
     "status": "completed"
    },
    "tags": [
     "injected-parameters"
    ]
   },
   "outputs": [],
   "source": [
    "# Parameters\n",
    "scatter_train_val_test_params = {\n",
    "    \"fig_params\": {\"figsize\": [6, 6]},\n",
    "    \"val_params\": {\n",
    "        \"marker\": \"s\",\n",
    "        \"s\": 64,\n",
    "        \"alpha\": 0.2,\n",
    "        \"color\": \"salmon\",\n",
    "        \"label\": \"val\",\n",
    "    },\n",
    "    \"test_params\": {\n",
    "        \"marker\": \"s\",\n",
    "        \"s\": 64,\n",
    "        \"alpha\": 0.5,\n",
    "        \"color\": \"royalblue\",\n",
    "        \"label\": \"test\",\n",
    "    },\n",
    "    \"train_params\": {\n",
    "        \"marker\": \"o\",\n",
    "        \"s\": 3,\n",
    "        \"alpha\": 1,\n",
    "        \"color\": \"green\",\n",
    "        \"label\": \"train\",\n",
    "    },\n",
    "    \"legend_params\": {\"framealpha\": 0.8, \"loc\": \"upper right\", \"fontsize\": 16},\n",
    "    \"xlabel_params\": {\"xlabel\": \"$t_2$\", \"fontsize\": 24},\n",
    "    \"ylabel_params\": {\"ylabel\": \"$t_1$\", \"fontsize\": 24},\n",
    "    \"title_params\": {},\n",
    "    \"xlim_params\": {\"left\": -2, \"right\": 2},\n",
    "    \"ylim_params\": {\"bottom\": -2, \"top\": 2},\n",
    "    \"xticks_params\": {\"fontsize\": 14},\n",
    "    \"yticks_params\": {\"fontsize\": 14},\n",
    "    \"tight_params\": {},\n",
    "    \"savefig_params\": {\n",
    "        \"fname\": \"/home/rio/ml_topological_phases_in_real_space/5_paper/ssh1/periodic_5th_scenario_100_6561/scatter_train_val_test_experiment_0.png\"\n",
    "    },\n",
    "}\n",
    "scatter_winding_train_params = {\n",
    "    \"fig_params\": {\"figsize\": [6, 6]},\n",
    "    \"winding_params\": {\n",
    "        \"0\": {\"marker\": \"o\", \"s\": 10, \"color\": \"red\", \"label\": 0},\n",
    "        \"1\": {\"marker\": \"o\", \"s\": 10, \"color\": \"blue\", \"label\": 1},\n",
    "    },\n",
    "    \"legend_params\": {\"framealpha\": 0.8, \"loc\": \"upper right\", \"fontsize\": 16},\n",
    "    \"xlabel_params\": {\"xlabel\": \"$t_2$\", \"fontsize\": 24},\n",
    "    \"ylabel_params\": {\"ylabel\": \"$t_1$\", \"fontsize\": 24},\n",
    "    \"title_params\": {},\n",
    "    \"xlim_params\": {\"left\": -2, \"right\": 2},\n",
    "    \"ylim_params\": {\"bottom\": -2, \"top\": 2},\n",
    "    \"xticks_params\": {\"fontsize\": 14},\n",
    "    \"yticks_params\": {\"fontsize\": 14},\n",
    "    \"tight_params\": {},\n",
    "    \"savefig_params\": {\n",
    "        \"fname\": \"/home/rio/ml_topological_phases_in_real_space/5_paper/ssh1/periodic_5th_scenario_100_6561/scatter_winding_train_experiment_0.png\"\n",
    "    },\n",
    "}\n",
    "pcolormesh_prediction_grid_params = {\n",
    "    \"fig_params\": {\"figsize\": [6, 6]},\n",
    "    \"winding_params\": {\n",
    "        \"0\": {\"marker\": \"o\", \"s\": 10, \"color\": \"red\", \"label\": 0},\n",
    "        \"1\": {\"marker\": \"o\", \"s\": 10, \"color\": \"blue\", \"label\": 1},\n",
    "    },\n",
    "    \"pcolormesh_params\": {\"cmap\": \"ssh1\", \"alpha\": 0.5},\n",
    "    \"legend_params\": {\"framealpha\": 0.8, \"loc\": \"upper right\", \"fontsize\": 16},\n",
    "    \"xlabel_params\": {\"xlabel\": \"$t_2$\", \"fontsize\": 24},\n",
    "    \"ylabel_params\": {\"ylabel\": \"$t_1$\", \"fontsize\": 24},\n",
    "    \"title_params\": {},\n",
    "    \"xlim_params\": {\"left\": -2, \"right\": 2},\n",
    "    \"ylim_params\": {\"bottom\": -2, \"top\": 2},\n",
    "    \"xticks_params\": {\"fontsize\": 14},\n",
    "    \"yticks_params\": {\"fontsize\": 14},\n",
    "    \"tight_params\": {},\n",
    "    \"savefig_params\": {\n",
    "        \"fname\": \"/home/rio/ml_topological_phases_in_real_space/5_paper/ssh1/periodic_5th_scenario_100_6561/pcolormesh_prediction_grid_experiment_0.png\"\n",
    "    },\n",
    "}\n",
    "winding_cmap_dict = {\"0\": \"Reds\", \"1\": \"Blues\"}\n",
    "imshow_winding_grid_params = {\n",
    "    \"winding\": 1,\n",
    "    \"imshow_params\": {\n",
    "        \"cmap\": \"bwr_r\",\n",
    "        \"aspect\": \"equal\",\n",
    "        \"alpha\": None,\n",
    "        \"origin\": \"lower\",\n",
    "        \"extent\": [-2, 2, -2, 2],\n",
    "        \"vmin\": 0,\n",
    "        \"vmax\": 1,\n",
    "    },\n",
    "    \"colorbar_params\": {\n",
    "        \"mappable\": None,\n",
    "        \"labelsize\": 24,\n",
    "        \"ticks\": [0, 0.2, 0.4, 0.6, 0.8, 1.0],\n",
    "        \"pad\": 0.1,\n",
    "        \"shrink\": 0.8,\n",
    "        \"extend\": \"neither\",\n",
    "    },\n",
    "    \"fig_params\": {\"figsize\": [12, 12]},\n",
    "    \"xlabel_params\": {\"xlabel\": \"$t_2$\", \"fontsize\": 48},\n",
    "    \"ylabel_params\": {\"ylabel\": \"$t_1$\", \"fontsize\": 48},\n",
    "    \"title_params\": {},\n",
    "    \"xlim_params\": {\"left\": -2, \"right\": 2},\n",
    "    \"ylim_params\": {\"bottom\": -2, \"top\": 2},\n",
    "    \"xticks_params\": {\"fontsize\": 24},\n",
    "    \"yticks_params\": {\"fontsize\": 24},\n",
    "    \"tight_params\": {},\n",
    "    \"savefig_params\": {\n",
    "        \"fname\": \"/home/rio/ml_topological_phases_in_real_space/5_paper/ssh1/periodic_5th_scenario_100_6561/imshow_winding_grid_winding_{}_{}.png\"\n",
    "    },\n",
    "}\n",
    "merge_imshow_winding_grids_params = {\n",
    "    \"winding_params\": {\n",
    "        \"0\": {\n",
    "            \"cmap\": \"Reds_alpha\",\n",
    "            \"aspect\": \"equal\",\n",
    "            \"alpha\": None,\n",
    "            \"origin\": \"lower\",\n",
    "            \"extent\": [-2, 2, -2, 2],\n",
    "            \"vmin\": 0,\n",
    "            \"vmax\": 1,\n",
    "        },\n",
    "        \"1\": {\n",
    "            \"cmap\": \"Blues_alpha\",\n",
    "            \"aspect\": \"equal\",\n",
    "            \"alpha\": None,\n",
    "            \"origin\": \"lower\",\n",
    "            \"extent\": [-2, 2, -2, 2],\n",
    "            \"vmin\": 0,\n",
    "            \"vmax\": 1,\n",
    "        },\n",
    "    },\n",
    "    \"colorbar_params\": {},\n",
    "    \"fig_params\": {\"figsize\": [12, 12]},\n",
    "    \"xlabel_params\": {\"xlabel\": \"$t_2$\", \"fontsize\": 48},\n",
    "    \"ylabel_params\": {\"ylabel\": \"$t_1$\", \"fontsize\": 48},\n",
    "    \"title_params\": {},\n",
    "    \"xlim_params\": {\"left\": -2, \"right\": 2},\n",
    "    \"ylim_params\": {\"bottom\": -2, \"top\": 2},\n",
    "    \"xticks_params\": {\"fontsize\": 24},\n",
    "    \"yticks_params\": {\"fontsize\": 24},\n",
    "    \"tight_params\": {},\n",
    "    \"savefig_params\": {\n",
    "        \"fname\": \"/home/rio/ml_topological_phases_in_real_space/5_paper/ssh1/periodic_5th_scenario_100_6561/merge_imshow_winding_grids_second_{}.png\"\n",
    "    },\n",
    "}\n",
    "plot_feature_importances_params = {\n",
    "    \"n_features\": None,\n",
    "    \"plot\": \"bar\",\n",
    "    \"plot_params\": {\"color\": \"indianred\", \"width\": 0.7},\n",
    "    \"hist_precision\": 1000,\n",
    "    \"fig_params\": {\"figsize\": [12, 12]},\n",
    "    \"xlabel_params\": {\"xlabel\": \"lattice site\", \"fontsize\": 24},\n",
    "    \"ylabel_params\": {\"ylabel\": \"reduction in information entropy (%)\", \"fontsize\": 24},\n",
    "    \"title_params\": {\n",
    "        \"label\": \"Information entropy signature (real space) - SSH 1\",\n",
    "        \"fontsize\": 24,\n",
    "    },\n",
    "    \"xlim_params\": {},\n",
    "    \"ylim_params\": {},\n",
    "    \"xticks_params\": {\"ticks\": [0, 11, 22, 33, 44, 55, 66, 77, 88, 99], \"fontsize\": 24},\n",
    "    \"yticks_params\": {\"fontsize\": 24},\n",
    "    \"tight_params\": {},\n",
    "    \"savefig_params\": {\n",
    "        \"fname\": \"/home/rio/ml_topological_phases_in_real_space/5_paper/ssh1/periodic_5th_scenario_100_6561/plot_feature_importances.png\"\n",
    "    },\n",
    "}\n",
    "plot_cumulative_feature_importances_params = {\n",
    "    \"n_features\": None,\n",
    "    \"plot\": \"bar\",\n",
    "    \"hist_precision\": 1000,\n",
    "    \"plot_params\": {\"color\": \"indianred\", \"width\": 0.7},\n",
    "    \"fig_params\": {\"figsize\": [12, 12]},\n",
    "    \"xlabel_params\": {\"xlabel\": \"lattice site\", \"fontsize\": 24},\n",
    "    \"ylabel_params\": {\n",
    "        \"ylabel\": \"cumulative reduction in information entropy (%)\",\n",
    "        \"fontsize\": 24,\n",
    "    },\n",
    "    \"title_params\": {\n",
    "        \"label\": \"Cumulative information entropy signature (real space) - SSH 1\",\n",
    "        \"fontsize\": 24,\n",
    "    },\n",
    "    \"xlim_params\": {},\n",
    "    \"ylim_params\": {},\n",
    "    \"xticks_params\": {\"ticks\": [0, 11, 22, 33, 44, 55, 66, 77, 88, 99], \"fontsize\": 24},\n",
    "    \"yticks_params\": {\"fontsize\": 24},\n",
    "    \"tight_params\": {},\n",
    "    \"savefig_params\": {\n",
    "        \"fname\": \"/home/rio/ml_topological_phases_in_real_space/5_paper/ssh1/periodic_5th_scenario_100_6561/plot_cumulative_feature_importances.png\"\n",
    "    },\n",
    "}\n",
    "plot_fourier_feature_importances_params = {\n",
    "    \"n_features\": None,\n",
    "    \"fourier\": True,\n",
    "    \"plot\": \"bar\",\n",
    "    \"plot_params\": {\"color\": \"palevioletred\", \"width\": 0.7},\n",
    "    \"hist_precision\": 1000,\n",
    "    \"fig_params\": {\"figsize\": [12, 12]},\n",
    "    \"xlabel_params\": {\"xlabel\": \"reciprocal lattice site\", \"fontsize\": 24},\n",
    "    \"ylabel_params\": {\"ylabel\": \"reduction in information entropy (%)\", \"fontsize\": 24},\n",
    "    \"title_params\": {\n",
    "        \"label\": \"Information entropy signature (wavevector space) - SSH 1\",\n",
    "        \"fontsize\": 24,\n",
    "    },\n",
    "    \"xlim_params\": {},\n",
    "    \"ylim_params\": {},\n",
    "    \"xticks_params\": {\"ticks\": [0, 11, 22, 33, 44, 55, 66, 77, 88, 99], \"fontsize\": 24},\n",
    "    \"yticks_params\": {\"fontsize\": 24},\n",
    "    \"tight_params\": {},\n",
    "    \"savefig_params\": {\n",
    "        \"fname\": \"/home/rio/ml_topological_phases_in_real_space/5_paper/ssh1/periodic_5th_scenario_100_6561/plot_fourier_feature_importances.png\"\n",
    "    },\n",
    "}\n",
    "plot_cumulative_fourier_feature_importances_params = {\n",
    "    \"n_features\": None,\n",
    "    \"fourier\": True,\n",
    "    \"plot\": \"bar\",\n",
    "    \"hist_precision\": 1000,\n",
    "    \"plot_params\": {\"color\": \"palevioletred\", \"width\": 0.7},\n",
    "    \"fig_params\": {\"figsize\": [12, 12]},\n",
    "    \"xlabel_params\": {\"xlabel\": \"reciprocal lattice site\", \"fontsize\": 24},\n",
    "    \"ylabel_params\": {\n",
    "        \"ylabel\": \"cumulative reduction in information entropy (%)\",\n",
    "        \"fontsize\": 24,\n",
    "    },\n",
    "    \"title_params\": {\n",
    "        \"label\": \"Cumulative information entropy signature (wavevector space) - SSH 1\",\n",
    "        \"fontsize\": 24,\n",
    "    },\n",
    "    \"xlim_params\": {},\n",
    "    \"ylim_params\": {},\n",
    "    \"xticks_params\": {\"ticks\": [0, 11, 22, 33, 44, 55, 66, 77, 88, 99], \"fontsize\": 24},\n",
    "    \"yticks_params\": {\"fontsize\": 24},\n",
    "    \"tight_params\": {},\n",
    "    \"savefig_params\": {\n",
    "        \"fname\": \"/home/rio/ml_topological_phases_in_real_space/5_paper/ssh1/periodic_5th_scenario_100_6561/plot_cumulative_fourier_feature_importances.png\"\n",
    "    },\n",
    "}\n",
    "simulation_dir = \"/home/rio/ssh_simulations/ssh1/periodic_5th_scenario_100_6561\"\n",
    "figures_dir = \"/home/rio/ml_topological_phases_in_real_space/5_paper/ssh1/periodic_5th_scenario_100_6561\"\n",
    "experiment_name = \"0\"\n",
    "n_experiments = None\n",
    "load_hamiltonian_summary = False\n"
   ]
  },
  {
   "cell_type": "markdown",
   "metadata": {
    "papermill": {
     "duration": 0.021134,
     "end_time": "2020-07-11T21:30:55.206080",
     "exception": false,
     "start_time": "2020-07-11T21:30:55.184946",
     "status": "completed"
    },
    "tags": []
   },
   "source": [
    "## Results from a single experiment"
   ]
  },
  {
   "cell_type": "markdown",
   "metadata": {
    "papermill": {
     "duration": 0.020035,
     "end_time": "2020-07-11T21:30:55.248476",
     "exception": false,
     "start_time": "2020-07-11T21:30:55.228441",
     "status": "completed"
    },
    "tags": []
   },
   "source": [
    "#### Initializing Experiment instance"
   ]
  },
  {
   "cell_type": "code",
   "execution_count": 4,
   "metadata": {
    "execution": {
     "iopub.execute_input": "2020-07-11T21:30:55.293859Z",
     "iopub.status.busy": "2020-07-11T21:30:55.293533Z",
     "iopub.status.idle": "2020-07-11T21:30:55.748016Z",
     "shell.execute_reply": "2020-07-11T21:30:55.747203Z"
    },
    "papermill": {
     "duration": 0.476658,
     "end_time": "2020-07-11T21:30:55.748124",
     "exception": false,
     "start_time": "2020-07-11T21:30:55.271466",
     "status": "completed"
    },
    "tags": []
   },
   "outputs": [],
   "source": [
    "experiment = Experiment(simulation_dir, experiment_name)"
   ]
  },
  {
   "cell_type": "markdown",
   "metadata": {
    "papermill": {
     "duration": 0.019419,
     "end_time": "2020-07-11T21:30:55.797396",
     "exception": false,
     "start_time": "2020-07-11T21:30:55.777977",
     "status": "completed"
    },
    "tags": []
   },
   "source": [
    "#### Viewing Train/Val/Test split"
   ]
  },
  {
   "cell_type": "code",
   "execution_count": 5,
   "metadata": {
    "execution": {
     "iopub.execute_input": "2020-07-11T21:30:55.838133Z",
     "iopub.status.busy": "2020-07-11T21:30:55.837639Z",
     "iopub.status.idle": "2020-07-11T21:30:55.846990Z",
     "shell.execute_reply": "2020-07-11T21:30:55.847289Z"
    },
    "papermill": {
     "duration": 0.030924,
     "end_time": "2020-07-11T21:30:55.847354",
     "exception": false,
     "start_time": "2020-07-11T21:30:55.816430",
     "status": "completed"
    },
    "tags": []
   },
   "outputs": [
    {
     "name": "stdout",
     "output_type": "stream",
     "text": [
      "% train:  0.08474317939338516\n",
      "% val:  0.7620789513793629\n",
      "% test:  0.15317786922725193\n",
      "% train + val + test:  1.0\n",
      "\n",
      "\n",
      "number of train hamiltonians:  556\n",
      "number of val hamiltonians:  5000\n",
      "number of test hamiltonians:  1005\n",
      "total number of hamiltonians:  6561\n"
     ]
    }
   ],
   "source": [
    "experiment.print_train_val_test()"
   ]
  },
  {
   "cell_type": "markdown",
   "metadata": {
    "papermill": {
     "duration": 0.019225,
     "end_time": "2020-07-11T21:30:55.885869",
     "exception": false,
     "start_time": "2020-07-11T21:30:55.866644",
     "status": "completed"
    },
    "tags": []
   },
   "source": [
    "#### Viewing dataset summary"
   ]
  },
  {
   "cell_type": "code",
   "execution_count": 6,
   "metadata": {
    "execution": {
     "iopub.execute_input": "2020-07-11T21:30:55.929251Z",
     "iopub.status.busy": "2020-07-11T21:30:55.928711Z",
     "iopub.status.idle": "2020-07-11T21:30:55.986130Z",
     "shell.execute_reply": "2020-07-11T21:30:55.985813Z"
    },
    "papermill": {
     "duration": 0.080161,
     "end_time": "2020-07-11T21:30:55.986181",
     "exception": false,
     "start_time": "2020-07-11T21:30:55.906020",
     "status": "completed"
    },
    "tags": []
   },
   "outputs": [
    {
     "name": "stdout",
     "output_type": "stream",
     "text": [
      "Summary of train + val data\n",
      "\n",
      "% train/val phases: \n",
      "0    0.507919\n",
      "1    0.492081\n",
      "Name: phase, dtype: float64\n",
      "\n",
      "\n",
      "total train/val phases: \n",
      "0    2822\n",
      "1    2734\n",
      "Name: phase, dtype: int64\n",
      "\n",
      "\n",
      "Summary of test data\n",
      "\n",
      "% test phases: \n",
      "1    0.552133\n",
      "0    0.447867\n",
      "Name: phase, dtype: float64\n",
      "\n",
      "\n",
      "total test phases: \n",
      "1    466\n",
      "0    378\n",
      "Name: phase, dtype: int64\n",
      "\n",
      "\n",
      "Summary of train + val + test data\n",
      "\n",
      "% phases: \n",
      "1    0.5\n",
      "0    0.5\n",
      "Name: phase, dtype: float64\n",
      "\n",
      "\n",
      "total phases: \n",
      "1    3200\n",
      "0    3200\n",
      "Name: phase, dtype: int64\n"
     ]
    }
   ],
   "source": [
    "experiment.print_phases()"
   ]
  },
  {
   "cell_type": "markdown",
   "metadata": {
    "papermill": {
     "duration": 0.020639,
     "end_time": "2020-07-11T21:30:56.027821",
     "exception": false,
     "start_time": "2020-07-11T21:30:56.007182",
     "status": "completed"
    },
    "tags": []
   },
   "source": [
    "#### Viewing eigenvector summary"
   ]
  },
  {
   "cell_type": "code",
   "execution_count": 7,
   "metadata": {
    "execution": {
     "iopub.execute_input": "2020-07-11T21:30:56.072193Z",
     "iopub.status.busy": "2020-07-11T21:30:56.071874Z",
     "iopub.status.idle": "2020-07-11T21:30:56.088640Z",
     "shell.execute_reply": "2020-07-11T21:30:56.088892Z"
    },
    "papermill": {
     "duration": 0.040186,
     "end_time": "2020-07-11T21:30:56.088960",
     "exception": false,
     "start_time": "2020-07-11T21:30:56.048774",
     "status": "completed"
    },
    "tags": []
   },
   "outputs": [
    {
     "data": {
      "text/html": [
       "<div>\n",
       "<style scoped>\n",
       "    .dataframe tbody tr th:only-of-type {\n",
       "        vertical-align: middle;\n",
       "    }\n",
       "\n",
       "    .dataframe tbody tr th {\n",
       "        vertical-align: top;\n",
       "    }\n",
       "\n",
       "    .dataframe thead th {\n",
       "        text-align: right;\n",
       "    }\n",
       "</style>\n",
       "<table border=\"1\" class=\"dataframe\">\n",
       "  <thead>\n",
       "    <tr style=\"text-align: right;\">\n",
       "      <th></th>\n",
       "      <th>id</th>\n",
       "      <th>phase</th>\n",
       "      <th>pred_phase</th>\n",
       "      <th>type_of</th>\n",
       "    </tr>\n",
       "  </thead>\n",
       "  <tbody>\n",
       "    <tr>\n",
       "      <th>0</th>\n",
       "      <td>0</td>\n",
       "      <td>999</td>\n",
       "      <td>1</td>\n",
       "      <td>test</td>\n",
       "    </tr>\n",
       "    <tr>\n",
       "      <th>1</th>\n",
       "      <td>0</td>\n",
       "      <td>999</td>\n",
       "      <td>0</td>\n",
       "      <td>test</td>\n",
       "    </tr>\n",
       "    <tr>\n",
       "      <th>2</th>\n",
       "      <td>0</td>\n",
       "      <td>999</td>\n",
       "      <td>0</td>\n",
       "      <td>test</td>\n",
       "    </tr>\n",
       "    <tr>\n",
       "      <th>3</th>\n",
       "      <td>0</td>\n",
       "      <td>999</td>\n",
       "      <td>1</td>\n",
       "      <td>test</td>\n",
       "    </tr>\n",
       "    <tr>\n",
       "      <th>4</th>\n",
       "      <td>0</td>\n",
       "      <td>999</td>\n",
       "      <td>0</td>\n",
       "      <td>test</td>\n",
       "    </tr>\n",
       "  </tbody>\n",
       "</table>\n",
       "</div>"
      ],
      "text/plain": [
       "   id  phase  pred_phase type_of\n",
       "0   0    999           1    test\n",
       "1   0    999           0    test\n",
       "2   0    999           0    test\n",
       "3   0    999           1    test\n",
       "4   0    999           0    test"
      ]
     },
     "execution_count": 7,
     "metadata": {},
     "output_type": "execute_result"
    }
   ],
   "source": [
    "experiment.eigenvector_summary.head()"
   ]
  },
  {
   "cell_type": "markdown",
   "metadata": {
    "papermill": {
     "duration": 0.022739,
     "end_time": "2020-07-11T21:30:56.134217",
     "exception": false,
     "start_time": "2020-07-11T21:30:56.111478",
     "status": "completed"
    },
    "tags": []
   },
   "source": [
    "#### Vieweng Hamiltonian summary"
   ]
  },
  {
   "cell_type": "code",
   "execution_count": 8,
   "metadata": {
    "execution": {
     "iopub.execute_input": "2020-07-11T21:30:56.185296Z",
     "iopub.status.busy": "2020-07-11T21:30:56.184918Z",
     "iopub.status.idle": "2020-07-11T21:30:56.247817Z",
     "shell.execute_reply": "2020-07-11T21:30:56.247462Z"
    },
    "papermill": {
     "duration": 0.090511,
     "end_time": "2020-07-11T21:30:56.247876",
     "exception": false,
     "start_time": "2020-07-11T21:30:56.157365",
     "status": "completed"
    },
    "tags": []
   },
   "outputs": [
    {
     "data": {
      "text/html": [
       "<div>\n",
       "<style scoped>\n",
       "    .dataframe tbody tr th:only-of-type {\n",
       "        vertical-align: middle;\n",
       "    }\n",
       "\n",
       "    .dataframe tbody tr th {\n",
       "        vertical-align: top;\n",
       "    }\n",
       "\n",
       "    .dataframe thead th {\n",
       "        text-align: right;\n",
       "    }\n",
       "</style>\n",
       "<table border=\"1\" class=\"dataframe\">\n",
       "  <thead>\n",
       "    <tr style=\"text-align: right;\">\n",
       "      <th></th>\n",
       "      <th>t1</th>\n",
       "      <th>t2</th>\n",
       "      <th>type_of</th>\n",
       "      <th>0</th>\n",
       "      <th>1</th>\n",
       "      <th>phase</th>\n",
       "      <th>pred_phase</th>\n",
       "    </tr>\n",
       "    <tr>\n",
       "      <th>id</th>\n",
       "      <th></th>\n",
       "      <th></th>\n",
       "      <th></th>\n",
       "      <th></th>\n",
       "      <th></th>\n",
       "      <th></th>\n",
       "      <th></th>\n",
       "    </tr>\n",
       "  </thead>\n",
       "  <tbody>\n",
       "    <tr>\n",
       "      <th>0</th>\n",
       "      <td>-2.0</td>\n",
       "      <td>-2.00</td>\n",
       "      <td>test</td>\n",
       "      <td>0.43</td>\n",
       "      <td>0.57</td>\n",
       "      <td>999</td>\n",
       "      <td>1</td>\n",
       "    </tr>\n",
       "    <tr>\n",
       "      <th>1</th>\n",
       "      <td>-2.0</td>\n",
       "      <td>-1.95</td>\n",
       "      <td>test</td>\n",
       "      <td>0.43</td>\n",
       "      <td>0.57</td>\n",
       "      <td>0</td>\n",
       "      <td>1</td>\n",
       "    </tr>\n",
       "    <tr>\n",
       "      <th>2</th>\n",
       "      <td>-2.0</td>\n",
       "      <td>-1.90</td>\n",
       "      <td>test</td>\n",
       "      <td>0.44</td>\n",
       "      <td>0.56</td>\n",
       "      <td>0</td>\n",
       "      <td>1</td>\n",
       "    </tr>\n",
       "    <tr>\n",
       "      <th>3</th>\n",
       "      <td>-2.0</td>\n",
       "      <td>-1.85</td>\n",
       "      <td>test</td>\n",
       "      <td>0.52</td>\n",
       "      <td>0.48</td>\n",
       "      <td>0</td>\n",
       "      <td>0</td>\n",
       "    </tr>\n",
       "    <tr>\n",
       "      <th>4</th>\n",
       "      <td>-2.0</td>\n",
       "      <td>-1.80</td>\n",
       "      <td>test</td>\n",
       "      <td>0.46</td>\n",
       "      <td>0.54</td>\n",
       "      <td>0</td>\n",
       "      <td>1</td>\n",
       "    </tr>\n",
       "  </tbody>\n",
       "</table>\n",
       "</div>"
      ],
      "text/plain": [
       "     t1    t2 type_of     0     1  phase  pred_phase\n",
       "id                                                  \n",
       "0  -2.0 -2.00    test  0.43  0.57    999           1\n",
       "1  -2.0 -1.95    test  0.43  0.57      0           1\n",
       "2  -2.0 -1.90    test  0.44  0.56      0           1\n",
       "3  -2.0 -1.85    test  0.52  0.48      0           0\n",
       "4  -2.0 -1.80    test  0.46  0.54      0           1"
      ]
     },
     "execution_count": 8,
     "metadata": {},
     "output_type": "execute_result"
    }
   ],
   "source": [
    "experiment.hamiltonian_summary.head()"
   ]
  },
  {
   "cell_type": "markdown",
   "metadata": {
    "papermill": {
     "duration": 0.045152,
     "end_time": "2020-07-11T21:30:56.330400",
     "exception": false,
     "start_time": "2020-07-11T21:30:56.285248",
     "status": "completed"
    },
    "tags": []
   },
   "source": [
    "#### Viewing accuracy"
   ]
  },
  {
   "cell_type": "code",
   "execution_count": 9,
   "metadata": {
    "execution": {
     "iopub.execute_input": "2020-07-11T21:30:56.375853Z",
     "iopub.status.busy": "2020-07-11T21:30:56.375501Z",
     "iopub.status.idle": "2020-07-11T21:30:56.386217Z",
     "shell.execute_reply": "2020-07-11T21:30:56.386528Z"
    },
    "papermill": {
     "duration": 0.033869,
     "end_time": "2020-07-11T21:30:56.386596",
     "exception": false,
     "start_time": "2020-07-11T21:30:56.352727",
     "status": "completed"
    },
    "tags": []
   },
   "outputs": [
    {
     "data": {
      "text/plain": [
       "{'eigenvector_train': 0.9718705035971223,\n",
       " 'eigenvector_val': 0.822224,\n",
       " 'eigenvector_test': 0.5894194312796208,\n",
       " 'hamiltonian_train': 0.9838129496402878,\n",
       " 'hamiltonian_val': 0.9886,\n",
       " 'hamiltonian_test': 0.783175355450237}"
      ]
     },
     "execution_count": 9,
     "metadata": {},
     "output_type": "execute_result"
    }
   ],
   "source": [
    "experiment.accuracy"
   ]
  },
  {
   "cell_type": "markdown",
   "metadata": {
    "papermill": {
     "duration": 0.021662,
     "end_time": "2020-07-11T21:30:56.429535",
     "exception": false,
     "start_time": "2020-07-11T21:30:56.407873",
     "status": "completed"
    },
    "tags": []
   },
   "source": [
    "#### Visualizing train/val/test splits with scatter plot for a single experiment"
   ]
  },
  {
   "cell_type": "code",
   "execution_count": 10,
   "metadata": {
    "execution": {
     "iopub.execute_input": "2020-07-11T21:30:56.476225Z",
     "iopub.status.busy": "2020-07-11T21:30:56.475691Z",
     "iopub.status.idle": "2020-07-11T21:30:56.895614Z",
     "shell.execute_reply": "2020-07-11T21:30:56.895968Z"
    },
    "papermill": {
     "duration": 0.444899,
     "end_time": "2020-07-11T21:30:56.896056",
     "exception": false,
     "start_time": "2020-07-11T21:30:56.451157",
     "status": "completed"
    },
    "tags": []
   },
   "outputs": [
    {
     "data": {
      "image/png": "[encoded data removed]",
      "text/plain": [
       "<Figure size 432x432 with 1 Axes>"
      ]
     },
     "metadata": {
      "needs_background": "light"
     },
     "output_type": "display_data"
    }
   ],
   "source": [
    "experiment.scatter_train_val_test(**scatter_train_val_test_params)\n"
   ]
  },
  {
   "cell_type": "markdown",
   "metadata": {
    "papermill": {
     "duration": 0.023048,
     "end_time": "2020-07-11T21:30:56.949465",
     "exception": false,
     "start_time": "2020-07-11T21:30:56.926417",
     "status": "completed"
    },
    "tags": []
   },
   "source": [
    "#### Plotting train winding labels with scatter plot for a single experiment"
   ]
  },
  {
   "cell_type": "code",
   "execution_count": 11,
   "metadata": {
    "execution": {
     "iopub.execute_input": "2020-07-11T21:30:57.001995Z",
     "iopub.status.busy": "2020-07-11T21:30:57.001458Z",
     "iopub.status.idle": "2020-07-11T21:30:57.222181Z",
     "shell.execute_reply": "2020-07-11T21:30:57.221856Z"
    },
    "papermill": {
     "duration": 0.246783,
     "end_time": "2020-07-11T21:30:57.222232",
     "exception": false,
     "start_time": "2020-07-11T21:30:56.975449",
     "status": "completed"
    },
    "tags": []
   },
   "outputs": [
    {
     "data": {
      "image/png": "[encoded data removed]",
      "text/plain": [
       "<Figure size 432x432 with 1 Axes>"
      ]
     },
     "metadata": {
      "needs_background": "light"
     },
     "output_type": "display_data"
    }
   ],
   "source": [
    "scatter_winding_train_params[\"winding_params\"] = {int(w): scatter_winding_train_params[\"winding_params\"][w] for w in \n",
    "                                                  scatter_winding_train_params[\"winding_params\"]}\n",
    "experiment.scatter_winding_train(**scatter_winding_train_params)\n"
   ]
  },
  {
   "cell_type": "markdown",
   "metadata": {
    "papermill": {
     "duration": 0.022098,
     "end_time": "2020-07-11T21:30:57.267077",
     "exception": false,
     "start_time": "2020-07-11T21:30:57.244979",
     "status": "completed"
    },
    "tags": []
   },
   "source": [
    "#### Plotting prediction grid with pcolormesh for a single experiment"
   ]
  },
  {
   "cell_type": "code",
   "execution_count": 12,
   "metadata": {
    "execution": {
     "iopub.execute_input": "2020-07-11T21:30:57.313497Z",
     "iopub.status.busy": "2020-07-11T21:30:57.312998Z",
     "iopub.status.idle": "2020-07-11T21:30:57.521161Z",
     "shell.execute_reply": "2020-07-11T21:30:57.520839Z"
    },
    "papermill": {
     "duration": 0.232125,
     "end_time": "2020-07-11T21:30:57.521212",
     "exception": false,
     "start_time": "2020-07-11T21:30:57.289087",
     "status": "completed"
    },
    "tags": []
   },
   "outputs": [
    {
     "data": {
      "image/png": "[encoded data removed]",
      "text/plain": [
       "<Figure size 432x432 with 1 Axes>"
      ]
     },
     "metadata": {
      "needs_background": "light"
     },
     "output_type": "display_data"
    }
   ],
   "source": [
    "pcolormesh_prediction_grid_params[\"winding_params\"] = {int(w): pcolormesh_prediction_grid_params[\"winding_params\"][w] for w in \n",
    "                                                  pcolormesh_prediction_grid_params[\"winding_params\"]}\n",
    "experiment.pcolormesh_prediction_grid(**pcolormesh_prediction_grid_params)\n"
   ]
  },
  {
   "cell_type": "markdown",
   "metadata": {
    "papermill": {
     "duration": 0.0228,
     "end_time": "2020-07-11T21:30:57.567414",
     "exception": false,
     "start_time": "2020-07-11T21:30:57.544614",
     "status": "completed"
    },
    "tags": []
   },
   "source": [
    "#### Plotting single Winding Heatmaps for a single experiment"
   ]
  },
  {
   "cell_type": "code",
   "execution_count": 13,
   "metadata": {
    "execution": {
     "iopub.execute_input": "2020-07-11T21:30:57.615443Z",
     "iopub.status.busy": "2020-07-11T21:30:57.614938Z",
     "iopub.status.idle": "2020-07-11T21:30:58.306230Z",
     "shell.execute_reply": "2020-07-11T21:30:58.305909Z"
    },
    "papermill": {
     "duration": 0.716376,
     "end_time": "2020-07-11T21:30:58.306280",
     "exception": false,
     "start_time": "2020-07-11T21:30:57.589904",
     "status": "completed"
    },
    "tags": []
   },
   "outputs": [
    {
     "data": {
      "image/png": "[encoded data removed]",
      "text/plain": [
       "<Figure size 864x864 with 2 Axes>"
      ]
     },
     "metadata": {
      "needs_background": "light"
     },
     "output_type": "display_data"
    },
    {
     "data": {
      "image/png": "[encoded data removed]",
      "text/plain": [
       "<Figure size 864x864 with 2 Axes>"
      ]
     },
     "metadata": {
      "needs_background": "light"
     },
     "output_type": "display_data"
    }
   ],
   "source": [
    "winding_cmap_dict = {int(w): winding_cmap_dict[w] for w in                                                   winding_cmap_dict}\n",
    "fname = imshow_winding_grid_params[\"savefig_params\"][\"fname\"]\n",
    "for w, c in winding_cmap_dict.items():\n",
    "    imshow_winding_grid_params[\"winding\"] = w\n",
    "    imshow_winding_grid_params[\"imshow_params\"][\"cmap\"] = c\n",
    "    imshow_winding_grid_params[\"savefig_params\"][\"fname\"] = fname.format(w,\"exp_\"+experiment_name)\n",
    "    experiment.imshow_winding_grid(**imshow_winding_grid_params)\n",
    "imshow_winding_grid_params[\"savefig_params\"][\"fname\"] = fname"
   ]
  },
  {
   "cell_type": "markdown",
   "metadata": {
    "papermill": {
     "duration": 0.024605,
     "end_time": "2020-07-11T21:30:58.356343",
     "exception": false,
     "start_time": "2020-07-11T21:30:58.331738",
     "status": "completed"
    },
    "tags": []
   },
   "source": [
    "#### Plotting Merged Winding Heatmaps for a single experiment"
   ]
  },
  {
   "cell_type": "code",
   "execution_count": 14,
   "metadata": {
    "execution": {
     "iopub.execute_input": "2020-07-11T21:30:58.408339Z",
     "iopub.status.busy": "2020-07-11T21:30:58.407830Z",
     "iopub.status.idle": "2020-07-11T21:30:58.846977Z",
     "shell.execute_reply": "2020-07-11T21:30:58.847276Z"
    },
    "papermill": {
     "duration": 0.466473,
     "end_time": "2020-07-11T21:30:58.847341",
     "exception": false,
     "start_time": "2020-07-11T21:30:58.380868",
     "status": "completed"
    },
    "tags": []
   },
   "outputs": [
    {
     "name": "stdout",
     "output_type": "stream",
     "text": [
      "Plotting winding 0\n",
      "Plotting winding 1\n"
     ]
    },
    {
     "data": {
      "image/png": "[encoded data removed]",
      "text/plain": [
       "<Figure size 864x864 with 1 Axes>"
      ]
     },
     "metadata": {
      "needs_background": "light"
     },
     "output_type": "display_data"
    }
   ],
   "source": [
    "merge_imshow_winding_grids_params[\"winding_params\"] = {int(w): merge_imshow_winding_grids_params[\"winding_params\"][w] for w in \n",
    "                                                  merge_imshow_winding_grids_params[\"winding_params\"]}\n",
    "merge_imshow_winding_grids_params[\"colorbar_params\"] = {int(w): merge_imshow_winding_grids_params[\"colorbar_params\"][w] for w in \n",
    "                                                  merge_imshow_winding_grids_params[\"colorbar_params\"]}\n",
    "fname = merge_imshow_winding_grids_params[\"savefig_params\"][\"fname\"]\n",
    "merge_imshow_winding_grids_params[\"savefig_params\"][\"fname\"] = fname.format(\"exp_\"+experiment_name)\n",
    "experiment.merge_imshow_winding_grids(**merge_imshow_winding_grids_params)\n",
    "merge_imshow_winding_grids_params[\"savefig_params\"][\"fname\"] = fname"
   ]
  },
  {
   "cell_type": "markdown",
   "metadata": {
    "papermill": {
     "duration": 0.026394,
     "end_time": "2020-07-11T21:30:58.900144",
     "exception": false,
     "start_time": "2020-07-11T21:30:58.873750",
     "status": "completed"
    },
    "tags": []
   },
   "source": [
    "## Results from all experiments "
   ]
  },
  {
   "cell_type": "markdown",
   "metadata": {
    "papermill": {
     "duration": 0.025565,
     "end_time": "2020-07-11T21:30:58.951329",
     "exception": false,
     "start_time": "2020-07-11T21:30:58.925764",
     "status": "completed"
    },
    "tags": []
   },
   "source": [
    "#### Initializing ExperimentEnsemble instance"
   ]
  },
  {
   "cell_type": "code",
   "execution_count": 15,
   "metadata": {
    "execution": {
     "iopub.execute_input": "2020-07-11T21:30:59.006001Z",
     "iopub.status.busy": "2020-07-11T21:30:59.005474Z",
     "iopub.status.idle": "2020-07-11T21:30:59.166837Z",
     "shell.execute_reply": "2020-07-11T21:30:59.166491Z"
    },
    "papermill": {
     "duration": 0.189136,
     "end_time": "2020-07-11T21:30:59.166893",
     "exception": false,
     "start_time": "2020-07-11T21:30:58.977757",
     "status": "completed"
    },
    "tags": []
   },
   "outputs": [],
   "source": [
    "simulation = ExperimentEnsemble(simulation_dir, n_experiments, load_hamiltonian_summary)"
   ]
  },
  {
   "cell_type": "markdown",
   "metadata": {
    "papermill": {
     "duration": 0.025929,
     "end_time": "2020-07-11T21:30:59.219348",
     "exception": false,
     "start_time": "2020-07-11T21:30:59.193419",
     "status": "completed"
    },
    "tags": []
   },
   "source": [
    "#### Computing Hamiltonian summary"
   ]
  },
  {
   "cell_type": "code",
   "execution_count": 16,
   "metadata": {
    "execution": {
     "iopub.execute_input": "2020-07-11T21:30:59.272339Z",
     "iopub.status.busy": "2020-07-11T21:30:59.272033Z",
     "iopub.status.idle": "2020-07-11T21:31:00.235471Z",
     "shell.execute_reply": "2020-07-11T21:31:00.235771Z"
    },
    "papermill": {
     "duration": 0.991031,
     "end_time": "2020-07-11T21:31:00.235835",
     "exception": false,
     "start_time": "2020-07-11T21:30:59.244804",
     "status": "completed"
    },
    "tags": []
   },
   "outputs": [
    {
     "name": "stderr",
     "output_type": "stream",
     "text": [
      "\r",
      "mean hamiltonian summary:   0%|          | 0/100 [00:00<?, ?it/s]"
     ]
    },
    {
     "name": "stderr",
     "output_type": "stream",
     "text": [
      "\r",
      "mean hamiltonian summary:  12%|█▏        | 12/100 [00:00<00:00, 118.66it/s]"
     ]
    },
    {
     "name": "stderr",
     "output_type": "stream",
     "text": [
      "\r",
      "mean hamiltonian summary:  24%|██▍       | 24/100 [00:00<00:00, 113.78it/s]"
     ]
    },
    {
     "name": "stderr",
     "output_type": "stream",
     "text": [
      "\r",
      "mean hamiltonian summary:  41%|████      | 41/100 [00:00<00:00, 125.18it/s]"
     ]
    },
    {
     "name": "stderr",
     "output_type": "stream",
     "text": [
      "\r",
      "mean hamiltonian summary:  52%|█████▏    | 52/100 [00:00<00:00, 119.35it/s]"
     ]
    },
    {
     "name": "stderr",
     "output_type": "stream",
     "text": [
      "\r",
      "mean hamiltonian summary:  70%|███████   | 70/100 [00:00<00:00, 131.60it/s]"
     ]
    },
    {
     "name": "stderr",
     "output_type": "stream",
     "text": [
      "\r",
      "mean hamiltonian summary:  88%|████████▊ | 88/100 [00:00<00:00, 137.95it/s]"
     ]
    },
    {
     "name": "stderr",
     "output_type": "stream",
     "text": [
      "\r",
      "mean hamiltonian summary: 100%|██████████| 100/100 [00:00<00:00, 139.02it/s]"
     ]
    },
    {
     "name": "stderr",
     "output_type": "stream",
     "text": [
      "\n",
      "\r",
      "majority vote:   0%|          | 0/6561 [00:00<?, ?it/s]"
     ]
    },
    {
     "name": "stderr",
     "output_type": "stream",
     "text": [
      "\r",
      "majority vote: 100%|██████████| 6561/6561 [00:00<00:00, 86292.43it/s]"
     ]
    },
    {
     "name": "stderr",
     "output_type": "stream",
     "text": [
      "\n"
     ]
    }
   ],
   "source": [
    "simulation.compute_hamiltonian_summary()"
   ]
  },
  {
   "cell_type": "markdown",
   "metadata": {
    "papermill": {
     "duration": 0.028126,
     "end_time": "2020-07-11T21:31:00.292650",
     "exception": false,
     "start_time": "2020-07-11T21:31:00.264524",
     "status": "completed"
    },
    "tags": []
   },
   "source": [
    "#### Plotting single winding heatmaps for a simulation"
   ]
  },
  {
   "cell_type": "code",
   "execution_count": 17,
   "metadata": {
    "execution": {
     "iopub.execute_input": "2020-07-11T21:31:00.350938Z",
     "iopub.status.busy": "2020-07-11T21:31:00.350607Z",
     "iopub.status.idle": "2020-07-11T21:31:01.014121Z",
     "shell.execute_reply": "2020-07-11T21:31:01.014375Z"
    },
    "papermill": {
     "duration": 0.694144,
     "end_time": "2020-07-11T21:31:01.014443",
     "exception": false,
     "start_time": "2020-07-11T21:31:00.320299",
     "status": "completed"
    },
    "tags": []
   },
   "outputs": [
    {
     "data": {
      "image/png": "[encoded data removed]",
      "text/plain": [
       "<Figure size 864x864 with 2 Axes>"
      ]
     },
     "metadata": {
      "needs_background": "light"
     },
     "output_type": "display_data"
    },
    {
     "data": {
      "image/png": "[encoded data removed]",
      "text/plain": [
       "<Figure size 864x864 with 2 Axes>"
      ]
     },
     "metadata": {
      "needs_background": "light"
     },
     "output_type": "display_data"
    }
   ],
   "source": [
    "winding_cmap_dict = {int(w): winding_cmap_dict[w] for w in                                                   winding_cmap_dict}\n",
    "fname = imshow_winding_grid_params[\"savefig_params\"][\"fname\"]\n",
    "for w, c in winding_cmap_dict.items():\n",
    "    imshow_winding_grid_params[\"winding\"] = w\n",
    "    imshow_winding_grid_params[\"imshow_params\"][\"cmap\"] = c\n",
    "    imshow_winding_grid_params[\"savefig_params\"][\"fname\"] = fname.format(w,\"sim\")\n",
    "    simulation.imshow_winding_grid(**imshow_winding_grid_params)\n",
    "imshow_winding_grid_params[\"savefig_params\"][\"fname\"] = fname"
   ]
  },
  {
   "cell_type": "markdown",
   "metadata": {
    "papermill": {
     "duration": 0.029764,
     "end_time": "2020-07-11T21:31:01.076502",
     "exception": false,
     "start_time": "2020-07-11T21:31:01.046738",
     "status": "completed"
    },
    "tags": []
   },
   "source": [
    "#### Plotting merged simulation winding heatmaps"
   ]
  },
  {
   "cell_type": "code",
   "execution_count": 18,
   "metadata": {
    "execution": {
     "iopub.execute_input": "2020-07-11T21:31:01.137843Z",
     "iopub.status.busy": "2020-07-11T21:31:01.137523Z",
     "iopub.status.idle": "2020-07-11T21:31:01.537198Z",
     "shell.execute_reply": "2020-07-11T21:31:01.536928Z"
    },
    "papermill": {
     "duration": 0.431439,
     "end_time": "2020-07-11T21:31:01.537252",
     "exception": false,
     "start_time": "2020-07-11T21:31:01.105813",
     "status": "completed"
    },
    "tags": []
   },
   "outputs": [
    {
     "name": "stdout",
     "output_type": "stream",
     "text": [
      "Plotting winding 0\n",
      "Plotting winding 1\n"
     ]
    },
    {
     "data": {
      "image/png": "[encoded data removed]",
      "text/plain": [
       "<Figure size 864x864 with 1 Axes>"
      ]
     },
     "metadata": {
      "needs_background": "light"
     },
     "output_type": "display_data"
    }
   ],
   "source": [
    "merge_imshow_winding_grids_params[\"winding_params\"] = {int(w): merge_imshow_winding_grids_params[\"winding_params\"][w] for w in \n",
    "                                                  merge_imshow_winding_grids_params[\"winding_params\"]}\n",
    "merge_imshow_winding_grids_params[\"colorbar_params\"] = {int(w): merge_imshow_winding_grids_params[\"colorbar_params\"][w] for w in \n",
    "                                                  merge_imshow_winding_grids_params[\"colorbar_params\"]}\n",
    "fname = merge_imshow_winding_grids_params[\"savefig_params\"][\"fname\"]\n",
    "merge_imshow_winding_grids_params[\"savefig_params\"][\"fname\"] = fname.format(\"sim\")\n",
    "simulation.merge_imshow_winding_grids(**merge_imshow_winding_grids_params)\n",
    "merge_imshow_winding_grids_params[\"savefig_params\"][\"fname\"] = fname"
   ]
  },
  {
   "cell_type": "markdown",
   "metadata": {
    "papermill": {
     "duration": 0.031549,
     "end_time": "2020-07-11T21:31:01.600737",
     "exception": false,
     "start_time": "2020-07-11T21:31:01.569188",
     "status": "completed"
    },
    "tags": []
   },
   "source": [
    "#### Computing mean accuracies"
   ]
  },
  {
   "cell_type": "code",
   "execution_count": 19,
   "metadata": {
    "execution": {
     "iopub.execute_input": "2020-07-11T21:31:01.665007Z",
     "iopub.status.busy": "2020-07-11T21:31:01.664697Z",
     "iopub.status.idle": "2020-07-11T21:31:24.604495Z",
     "shell.execute_reply": "2020-07-11T21:31:24.603771Z"
    },
    "papermill": {
     "duration": 22.972772,
     "end_time": "2020-07-11T21:31:24.604601",
     "exception": false,
     "start_time": "2020-07-11T21:31:01.631829",
     "status": "completed"
    },
    "tags": []
   },
   "outputs": [
    {
     "name": "stderr",
     "output_type": "stream",
     "text": [
      "\r",
      "computing mean accuracies:   0%|          | 0/100 [00:00<?, ?it/s]"
     ]
    },
    {
     "name": "stderr",
     "output_type": "stream",
     "text": [
      "\r",
      "computing mean accuracies:   1%|          | 1/100 [00:00<00:14,  7.07it/s]"
     ]
    },
    {
     "name": "stderr",
     "output_type": "stream",
     "text": [
      "\r",
      "computing mean accuracies:   2%|▏         | 2/100 [00:00<00:17,  5.65it/s]"
     ]
    },
    {
     "name": "stderr",
     "output_type": "stream",
     "text": [
      "\r",
      "computing mean accuracies:   3%|▎         | 3/100 [00:00<00:19,  5.05it/s]"
     ]
    },
    {
     "name": "stderr",
     "output_type": "stream",
     "text": [
      "\r",
      "computing mean accuracies:   4%|▍         | 4/100 [00:00<00:19,  4.80it/s]"
     ]
    },
    {
     "name": "stderr",
     "output_type": "stream",
     "text": [
      "\r",
      "computing mean accuracies:   5%|▌         | 5/100 [00:01<00:20,  4.65it/s]"
     ]
    },
    {
     "name": "stderr",
     "output_type": "stream",
     "text": [
      "\r",
      "computing mean accuracies:   6%|▌         | 6/100 [00:01<00:20,  4.67it/s]"
     ]
    },
    {
     "name": "stderr",
     "output_type": "stream",
     "text": [
      "\r",
      "computing mean accuracies:   7%|▋         | 7/100 [00:01<00:20,  4.48it/s]"
     ]
    },
    {
     "name": "stderr",
     "output_type": "stream",
     "text": [
      "\r",
      "computing mean accuracies:   8%|▊         | 8/100 [00:01<00:21,  4.35it/s]"
     ]
    },
    {
     "name": "stderr",
     "output_type": "stream",
     "text": [
      "\r",
      "computing mean accuracies:   9%|▉         | 9/100 [00:02<00:21,  4.33it/s]"
     ]
    },
    {
     "name": "stderr",
     "output_type": "stream",
     "text": [
      "\r",
      "computing mean accuracies:  10%|█         | 10/100 [00:02<00:20,  4.49it/s]"
     ]
    },
    {
     "name": "stderr",
     "output_type": "stream",
     "text": [
      "\r",
      "computing mean accuracies:  11%|█         | 11/100 [00:02<00:19,  4.55it/s]"
     ]
    },
    {
     "name": "stderr",
     "output_type": "stream",
     "text": [
      "\r",
      "computing mean accuracies:  12%|█▏        | 12/100 [00:02<00:18,  4.67it/s]"
     ]
    },
    {
     "name": "stderr",
     "output_type": "stream",
     "text": [
      "\r",
      "computing mean accuracies:  13%|█▎        | 13/100 [00:02<00:18,  4.63it/s]"
     ]
    },
    {
     "name": "stderr",
     "output_type": "stream",
     "text": [
      "\r",
      "computing mean accuracies:  14%|█▍        | 14/100 [00:03<00:18,  4.63it/s]"
     ]
    },
    {
     "name": "stderr",
     "output_type": "stream",
     "text": [
      "\r",
      "computing mean accuracies:  15%|█▌        | 15/100 [00:03<00:19,  4.45it/s]"
     ]
    },
    {
     "name": "stderr",
     "output_type": "stream",
     "text": [
      "\r",
      "computing mean accuracies:  16%|█▌        | 16/100 [00:03<00:19,  4.37it/s]"
     ]
    },
    {
     "name": "stderr",
     "output_type": "stream",
     "text": [
      "\r",
      "computing mean accuracies:  17%|█▋        | 17/100 [00:03<00:18,  4.44it/s]"
     ]
    },
    {
     "name": "stderr",
     "output_type": "stream",
     "text": [
      "\r",
      "computing mean accuracies:  18%|█▊        | 18/100 [00:04<00:19,  4.27it/s]"
     ]
    },
    {
     "name": "stderr",
     "output_type": "stream",
     "text": [
      "\r",
      "computing mean accuracies:  19%|█▉        | 19/100 [00:04<00:18,  4.35it/s]"
     ]
    },
    {
     "name": "stderr",
     "output_type": "stream",
     "text": [
      "\r",
      "computing mean accuracies:  20%|██        | 20/100 [00:04<00:18,  4.38it/s]"
     ]
    },
    {
     "name": "stderr",
     "output_type": "stream",
     "text": [
      "\r",
      "computing mean accuracies:  21%|██        | 21/100 [00:04<00:17,  4.44it/s]"
     ]
    },
    {
     "name": "stderr",
     "output_type": "stream",
     "text": [
      "\r",
      "computing mean accuracies:  22%|██▏       | 22/100 [00:04<00:17,  4.43it/s]"
     ]
    },
    {
     "name": "stderr",
     "output_type": "stream",
     "text": [
      "\r",
      "computing mean accuracies:  23%|██▎       | 23/100 [00:05<00:18,  4.12it/s]"
     ]
    },
    {
     "name": "stderr",
     "output_type": "stream",
     "text": [
      "\r",
      "computing mean accuracies:  24%|██▍       | 24/100 [00:05<00:18,  4.19it/s]"
     ]
    },
    {
     "name": "stderr",
     "output_type": "stream",
     "text": [
      "\r",
      "computing mean accuracies:  25%|██▌       | 25/100 [00:05<00:17,  4.30it/s]"
     ]
    },
    {
     "name": "stderr",
     "output_type": "stream",
     "text": [
      "\r",
      "computing mean accuracies:  26%|██▌       | 26/100 [00:05<00:17,  4.32it/s]"
     ]
    },
    {
     "name": "stderr",
     "output_type": "stream",
     "text": [
      "\r",
      "computing mean accuracies:  27%|██▋       | 27/100 [00:06<00:16,  4.37it/s]"
     ]
    },
    {
     "name": "stderr",
     "output_type": "stream",
     "text": [
      "\r",
      "computing mean accuracies:  28%|██▊       | 28/100 [00:06<00:17,  4.19it/s]"
     ]
    },
    {
     "name": "stderr",
     "output_type": "stream",
     "text": [
      "\r",
      "computing mean accuracies:  29%|██▉       | 29/100 [00:06<00:17,  4.16it/s]"
     ]
    },
    {
     "name": "stderr",
     "output_type": "stream",
     "text": [
      "\r",
      "computing mean accuracies:  30%|███       | 30/100 [00:06<00:17,  4.08it/s]"
     ]
    },
    {
     "name": "stderr",
     "output_type": "stream",
     "text": [
      "\r",
      "computing mean accuracies:  31%|███       | 31/100 [00:07<00:16,  4.26it/s]"
     ]
    },
    {
     "name": "stderr",
     "output_type": "stream",
     "text": [
      "\r",
      "computing mean accuracies:  32%|███▏      | 32/100 [00:07<00:15,  4.29it/s]"
     ]
    },
    {
     "name": "stderr",
     "output_type": "stream",
     "text": [
      "\r",
      "computing mean accuracies:  33%|███▎      | 33/100 [00:07<00:14,  4.55it/s]"
     ]
    },
    {
     "name": "stderr",
     "output_type": "stream",
     "text": [
      "\r",
      "computing mean accuracies:  34%|███▍      | 34/100 [00:07<00:14,  4.55it/s]"
     ]
    },
    {
     "name": "stderr",
     "output_type": "stream",
     "text": [
      "\r",
      "computing mean accuracies:  35%|███▌      | 35/100 [00:07<00:13,  4.85it/s]"
     ]
    },
    {
     "name": "stderr",
     "output_type": "stream",
     "text": [
      "\r",
      "computing mean accuracies:  36%|███▌      | 36/100 [00:08<00:18,  3.42it/s]"
     ]
    },
    {
     "name": "stderr",
     "output_type": "stream",
     "text": [
      "\r",
      "computing mean accuracies:  37%|███▋      | 37/100 [00:08<00:20,  3.12it/s]"
     ]
    },
    {
     "name": "stderr",
     "output_type": "stream",
     "text": [
      "\r",
      "computing mean accuracies:  38%|███▊      | 38/100 [00:09<00:17,  3.46it/s]"
     ]
    },
    {
     "name": "stderr",
     "output_type": "stream",
     "text": [
      "\r",
      "computing mean accuracies:  39%|███▉      | 39/100 [00:09<00:15,  3.84it/s]"
     ]
    },
    {
     "name": "stderr",
     "output_type": "stream",
     "text": [
      "\r",
      "computing mean accuracies:  40%|████      | 40/100 [00:09<00:14,  4.13it/s]"
     ]
    },
    {
     "name": "stderr",
     "output_type": "stream",
     "text": [
      "\r",
      "computing mean accuracies:  41%|████      | 41/100 [00:09<00:13,  4.26it/s]"
     ]
    },
    {
     "name": "stderr",
     "output_type": "stream",
     "text": [
      "\r",
      "computing mean accuracies:  42%|████▏     | 42/100 [00:09<00:12,  4.54it/s]"
     ]
    },
    {
     "name": "stderr",
     "output_type": "stream",
     "text": [
      "\r",
      "computing mean accuracies:  43%|████▎     | 43/100 [00:10<00:12,  4.47it/s]"
     ]
    },
    {
     "name": "stderr",
     "output_type": "stream",
     "text": [
      "\r",
      "computing mean accuracies:  44%|████▍     | 44/100 [00:10<00:12,  4.66it/s]"
     ]
    },
    {
     "name": "stderr",
     "output_type": "stream",
     "text": [
      "\r",
      "computing mean accuracies:  45%|████▌     | 45/100 [00:10<00:11,  4.67it/s]"
     ]
    },
    {
     "name": "stderr",
     "output_type": "stream",
     "text": [
      "\r",
      "computing mean accuracies:  46%|████▌     | 46/100 [00:10<00:12,  4.46it/s]"
     ]
    },
    {
     "name": "stderr",
     "output_type": "stream",
     "text": [
      "\r",
      "computing mean accuracies:  47%|████▋     | 47/100 [00:10<00:12,  4.28it/s]"
     ]
    },
    {
     "name": "stderr",
     "output_type": "stream",
     "text": [
      "\r",
      "computing mean accuracies:  48%|████▊     | 48/100 [00:11<00:11,  4.43it/s]"
     ]
    },
    {
     "name": "stderr",
     "output_type": "stream",
     "text": [
      "\r",
      "computing mean accuracies:  49%|████▉     | 49/100 [00:11<00:11,  4.58it/s]"
     ]
    },
    {
     "name": "stderr",
     "output_type": "stream",
     "text": [
      "\r",
      "computing mean accuracies:  50%|█████     | 50/100 [00:11<00:11,  4.44it/s]"
     ]
    },
    {
     "name": "stderr",
     "output_type": "stream",
     "text": [
      "\r",
      "computing mean accuracies:  51%|█████     | 51/100 [00:11<00:10,  4.54it/s]"
     ]
    },
    {
     "name": "stderr",
     "output_type": "stream",
     "text": [
      "\r",
      "computing mean accuracies:  52%|█████▏    | 52/100 [00:12<00:10,  4.48it/s]"
     ]
    },
    {
     "name": "stderr",
     "output_type": "stream",
     "text": [
      "\r",
      "computing mean accuracies:  53%|█████▎    | 53/100 [00:12<00:10,  4.45it/s]"
     ]
    },
    {
     "name": "stderr",
     "output_type": "stream",
     "text": [
      "\r",
      "computing mean accuracies:  54%|█████▍    | 54/100 [00:12<00:09,  4.76it/s]"
     ]
    },
    {
     "name": "stderr",
     "output_type": "stream",
     "text": [
      "\r",
      "computing mean accuracies:  55%|█████▌    | 55/100 [00:12<00:09,  4.56it/s]"
     ]
    },
    {
     "name": "stderr",
     "output_type": "stream",
     "text": [
      "\r",
      "computing mean accuracies:  56%|█████▌    | 56/100 [00:12<00:09,  4.61it/s]"
     ]
    },
    {
     "name": "stderr",
     "output_type": "stream",
     "text": [
      "\r",
      "computing mean accuracies:  57%|█████▋    | 57/100 [00:13<00:09,  4.47it/s]"
     ]
    },
    {
     "name": "stderr",
     "output_type": "stream",
     "text": [
      "\r",
      "computing mean accuracies:  58%|█████▊    | 58/100 [00:13<00:09,  4.40it/s]"
     ]
    },
    {
     "name": "stderr",
     "output_type": "stream",
     "text": [
      "\r",
      "computing mean accuracies:  59%|█████▉    | 59/100 [00:13<00:09,  4.37it/s]"
     ]
    },
    {
     "name": "stderr",
     "output_type": "stream",
     "text": [
      "\r",
      "computing mean accuracies:  60%|██████    | 60/100 [00:13<00:10,  3.94it/s]"
     ]
    },
    {
     "name": "stderr",
     "output_type": "stream",
     "text": [
      "\r",
      "computing mean accuracies:  61%|██████    | 61/100 [00:14<00:09,  4.10it/s]"
     ]
    },
    {
     "name": "stderr",
     "output_type": "stream",
     "text": [
      "\r",
      "computing mean accuracies:  62%|██████▏   | 62/100 [00:14<00:08,  4.27it/s]"
     ]
    },
    {
     "name": "stderr",
     "output_type": "stream",
     "text": [
      "\r",
      "computing mean accuracies:  63%|██████▎   | 63/100 [00:14<00:08,  4.51it/s]"
     ]
    },
    {
     "name": "stderr",
     "output_type": "stream",
     "text": [
      "\r",
      "computing mean accuracies:  64%|██████▍   | 64/100 [00:14<00:07,  4.50it/s]"
     ]
    },
    {
     "name": "stderr",
     "output_type": "stream",
     "text": [
      "\r",
      "computing mean accuracies:  65%|██████▌   | 65/100 [00:14<00:07,  4.73it/s]"
     ]
    },
    {
     "name": "stderr",
     "output_type": "stream",
     "text": [
      "\r",
      "computing mean accuracies:  66%|██████▌   | 66/100 [00:15<00:07,  4.38it/s]"
     ]
    },
    {
     "name": "stderr",
     "output_type": "stream",
     "text": [
      "\r",
      "computing mean accuracies:  67%|██████▋   | 67/100 [00:15<00:08,  3.75it/s]"
     ]
    },
    {
     "name": "stderr",
     "output_type": "stream",
     "text": [
      "\r",
      "computing mean accuracies:  68%|██████▊   | 68/100 [00:15<00:08,  3.96it/s]"
     ]
    },
    {
     "name": "stderr",
     "output_type": "stream",
     "text": [
      "\r",
      "computing mean accuracies:  69%|██████▉   | 69/100 [00:16<00:07,  4.02it/s]"
     ]
    },
    {
     "name": "stderr",
     "output_type": "stream",
     "text": [
      "\r",
      "computing mean accuracies:  70%|███████   | 70/100 [00:16<00:07,  4.16it/s]"
     ]
    },
    {
     "name": "stderr",
     "output_type": "stream",
     "text": [
      "\r",
      "computing mean accuracies:  71%|███████   | 71/100 [00:16<00:06,  4.43it/s]"
     ]
    },
    {
     "name": "stderr",
     "output_type": "stream",
     "text": [
      "\r",
      "computing mean accuracies:  72%|███████▏  | 72/100 [00:16<00:06,  4.47it/s]"
     ]
    },
    {
     "name": "stderr",
     "output_type": "stream",
     "text": [
      "\r",
      "computing mean accuracies:  73%|███████▎  | 73/100 [00:16<00:05,  4.58it/s]"
     ]
    },
    {
     "name": "stderr",
     "output_type": "stream",
     "text": [
      "\r",
      "computing mean accuracies:  74%|███████▍  | 74/100 [00:17<00:05,  4.52it/s]"
     ]
    },
    {
     "name": "stderr",
     "output_type": "stream",
     "text": [
      "\r",
      "computing mean accuracies:  75%|███████▌  | 75/100 [00:17<00:05,  4.49it/s]"
     ]
    },
    {
     "name": "stderr",
     "output_type": "stream",
     "text": [
      "\r",
      "computing mean accuracies:  76%|███████▌  | 76/100 [00:17<00:05,  4.34it/s]"
     ]
    },
    {
     "name": "stderr",
     "output_type": "stream",
     "text": [
      "\r",
      "computing mean accuracies:  77%|███████▋  | 77/100 [00:17<00:05,  4.43it/s]"
     ]
    },
    {
     "name": "stderr",
     "output_type": "stream",
     "text": [
      "\r",
      "computing mean accuracies:  78%|███████▊  | 78/100 [00:18<00:05,  4.25it/s]"
     ]
    },
    {
     "name": "stderr",
     "output_type": "stream",
     "text": [
      "\r",
      "computing mean accuracies:  79%|███████▉  | 79/100 [00:18<00:04,  4.53it/s]"
     ]
    },
    {
     "name": "stderr",
     "output_type": "stream",
     "text": [
      "\r",
      "computing mean accuracies:  80%|████████  | 80/100 [00:18<00:04,  4.51it/s]"
     ]
    },
    {
     "name": "stderr",
     "output_type": "stream",
     "text": [
      "\r",
      "computing mean accuracies:  81%|████████  | 81/100 [00:18<00:04,  4.37it/s]"
     ]
    },
    {
     "name": "stderr",
     "output_type": "stream",
     "text": [
      "\r",
      "computing mean accuracies:  82%|████████▏ | 82/100 [00:18<00:04,  4.41it/s]"
     ]
    },
    {
     "name": "stderr",
     "output_type": "stream",
     "text": [
      "\r",
      "computing mean accuracies:  83%|████████▎ | 83/100 [00:19<00:03,  4.61it/s]"
     ]
    },
    {
     "name": "stderr",
     "output_type": "stream",
     "text": [
      "\r",
      "computing mean accuracies:  84%|████████▍ | 84/100 [00:19<00:03,  4.59it/s]"
     ]
    },
    {
     "name": "stderr",
     "output_type": "stream",
     "text": [
      "\r",
      "computing mean accuracies:  85%|████████▌ | 85/100 [00:19<00:03,  4.51it/s]"
     ]
    },
    {
     "name": "stderr",
     "output_type": "stream",
     "text": [
      "\r",
      "computing mean accuracies:  86%|████████▌ | 86/100 [00:19<00:03,  4.54it/s]"
     ]
    },
    {
     "name": "stderr",
     "output_type": "stream",
     "text": [
      "\r",
      "computing mean accuracies:  87%|████████▋ | 87/100 [00:19<00:02,  4.55it/s]"
     ]
    },
    {
     "name": "stderr",
     "output_type": "stream",
     "text": [
      "\r",
      "computing mean accuracies:  88%|████████▊ | 88/100 [00:20<00:02,  4.62it/s]"
     ]
    },
    {
     "name": "stderr",
     "output_type": "stream",
     "text": [
      "\r",
      "computing mean accuracies:  89%|████████▉ | 89/100 [00:20<00:02,  4.57it/s]"
     ]
    },
    {
     "name": "stderr",
     "output_type": "stream",
     "text": [
      "\r",
      "computing mean accuracies:  90%|█████████ | 90/100 [00:20<00:02,  4.12it/s]"
     ]
    },
    {
     "name": "stderr",
     "output_type": "stream",
     "text": [
      "\r",
      "computing mean accuracies:  91%|█████████ | 91/100 [00:20<00:02,  4.21it/s]"
     ]
    },
    {
     "name": "stderr",
     "output_type": "stream",
     "text": [
      "\r",
      "computing mean accuracies:  92%|█████████▏| 92/100 [00:21<00:01,  4.22it/s]"
     ]
    },
    {
     "name": "stderr",
     "output_type": "stream",
     "text": [
      "\r",
      "computing mean accuracies:  93%|█████████▎| 93/100 [00:21<00:01,  4.19it/s]"
     ]
    },
    {
     "name": "stderr",
     "output_type": "stream",
     "text": [
      "\r",
      "computing mean accuracies:  94%|█████████▍| 94/100 [00:21<00:01,  4.29it/s]"
     ]
    },
    {
     "name": "stderr",
     "output_type": "stream",
     "text": [
      "\r",
      "computing mean accuracies:  95%|█████████▌| 95/100 [00:21<00:01,  4.45it/s]"
     ]
    },
    {
     "name": "stderr",
     "output_type": "stream",
     "text": [
      "\r",
      "computing mean accuracies:  96%|█████████▌| 96/100 [00:22<00:00,  4.47it/s]"
     ]
    },
    {
     "name": "stderr",
     "output_type": "stream",
     "text": [
      "\r",
      "computing mean accuracies:  97%|█████████▋| 97/100 [00:22<00:00,  4.41it/s]"
     ]
    },
    {
     "name": "stderr",
     "output_type": "stream",
     "text": [
      "\r",
      "computing mean accuracies:  98%|█████████▊| 98/100 [00:22<00:00,  4.60it/s]"
     ]
    },
    {
     "name": "stderr",
     "output_type": "stream",
     "text": [
      "\r",
      "computing mean accuracies:  99%|█████████▉| 99/100 [00:22<00:00,  4.74it/s]"
     ]
    },
    {
     "name": "stderr",
     "output_type": "stream",
     "text": [
      "\r",
      "computing mean accuracies: 100%|██████████| 100/100 [00:22<00:00,  4.71it/s]"
     ]
    },
    {
     "name": "stderr",
     "output_type": "stream",
     "text": [
      "\r",
      "computing mean accuracies: 100%|██████████| 100/100 [00:22<00:00,  4.36it/s]"
     ]
    },
    {
     "name": "stderr",
     "output_type": "stream",
     "text": [
      "\n"
     ]
    },
    {
     "data": {
      "text/plain": [
       "{'eigenvector_train': 0.9754402877697842,\n",
       " 'eigenvector_val': 0.8208846200000002,\n",
       " 'eigenvector_test': 0.5925707345971564,\n",
       " 'hamiltonian_train': 0.9937410071942446,\n",
       " 'hamiltonian_val': 0.99111,\n",
       " 'hamiltonian_test': 0.9121327014218008}"
      ]
     },
     "execution_count": 19,
     "metadata": {},
     "output_type": "execute_result"
    }
   ],
   "source": [
    "save_to_disk = False\n",
    "simulation.compute_mean_accuracy(save_to_disk=save_to_disk)\n",
    "simulation.mean_accuracy"
   ]
  },
  {
   "cell_type": "markdown",
   "metadata": {
    "papermill": {
     "duration": 0.050973,
     "end_time": "2020-07-11T21:31:24.728162",
     "exception": false,
     "start_time": "2020-07-11T21:31:24.677189",
     "status": "completed"
    },
    "tags": []
   },
   "source": [
    "#### Computing bootstrap accuracies"
   ]
  },
  {
   "cell_type": "code",
   "execution_count": 20,
   "metadata": {
    "execution": {
     "iopub.execute_input": "2020-07-11T21:31:24.835920Z",
     "iopub.status.busy": "2020-07-11T21:31:24.835432Z",
     "iopub.status.idle": "2020-07-11T21:31:24.848779Z",
     "shell.execute_reply": "2020-07-11T21:31:24.849091Z"
    },
    "papermill": {
     "duration": 0.067967,
     "end_time": "2020-07-11T21:31:24.849161",
     "exception": false,
     "start_time": "2020-07-11T21:31:24.781194",
     "status": "completed"
    },
    "tags": []
   },
   "outputs": [
    {
     "data": {
      "text/plain": [
       "{'hamiltonian_train': 1.0,\n",
       " 'hamiltonian_val': 1.0,\n",
       " 'hamiltonian_test': 0.9585308056872038}"
      ]
     },
     "execution_count": 20,
     "metadata": {},
     "output_type": "execute_result"
    }
   ],
   "source": [
    "save_to_disk = False\n",
    "simulation.compute_bootstrap_accuracy(save_to_disk=save_to_disk)\n",
    "simulation.bootstrap_accuracy"
   ]
  },
  {
   "cell_type": "markdown",
   "metadata": {
    "papermill": {
     "duration": 0.053269,
     "end_time": "2020-07-11T21:31:24.953979",
     "exception": false,
     "start_time": "2020-07-11T21:31:24.900710",
     "status": "completed"
    },
    "tags": []
   },
   "source": [
    "#### Computing mean feature importances"
   ]
  },
  {
   "cell_type": "code",
   "execution_count": 21,
   "metadata": {
    "execution": {
     "iopub.execute_input": "2020-07-11T21:31:25.057830Z",
     "iopub.status.busy": "2020-07-11T21:31:25.057314Z",
     "iopub.status.idle": "2020-07-11T21:31:25.131158Z",
     "shell.execute_reply": "2020-07-11T21:31:25.130818Z"
    },
    "papermill": {
     "duration": 0.1265,
     "end_time": "2020-07-11T21:31:25.131229",
     "exception": false,
     "start_time": "2020-07-11T21:31:25.004729",
     "status": "completed"
    },
    "tags": []
   },
   "outputs": [
    {
     "name": "stderr",
     "output_type": "stream",
     "text": [
      "\r",
      "mean feature importances:   0%|          | 0/100 [00:00<?, ?it/s]"
     ]
    },
    {
     "name": "stderr",
     "output_type": "stream",
     "text": [
      "\r",
      "mean feature importances: 100%|██████████| 100/100 [00:00<00:00, 1586.31it/s]"
     ]
    },
    {
     "name": "stdout",
     "output_type": "stream",
     "text": [
      "Sorted feature importances: \n",
      "\n",
      "\n",
      "[(1, 0.054496054014410475), (15, 0.05397308561408364), (13, 0.0514693717094826), (10, 0.048686272954195926), (12, 0.04843448420886751), (16, 0.04453512387577448), (22, 0.04262644598885768), (17, 0.04219109664673329), (8, 0.04078506126798051), (24, 0.04071678136367414), (11, 0.04046860609332015), (9, 0.04009896065918851), (14, 0.03892199716332376), (0, 0.03633162434978859), (21, 0.03567531277994228), (23, 0.0355086199418226), (3, 0.03439083983842621), (20, 0.034152449494652626), (2, 0.03398830203416424), (18, 0.032683075122611975), (4, 0.03204311366186973), (5, 0.030715510854066572), (25, 0.02979704518588027), (7, 0.02841998974191894), (19, 0.024954499047122797), (6, 0.023936276387840478)]\n"
     ]
    },
    {
     "name": "stderr",
     "output_type": "stream",
     "text": [
      "\n"
     ]
    }
   ],
   "source": [
    "import operator\n",
    "save_to_disk = False\n",
    "simulation.compute_mean_feature_importance(save_to_disk=save_to_disk)\n",
    "### Sorted feature importances from highest to lowest\n",
    "sorted_feature_importances = sorted(simulation.feature_importance.items(), key=operator.itemgetter(1),reverse=True)\n",
    "print(\"Sorted feature importances: \")\n",
    "print(\"\\n\")\n",
    "print(sorted_feature_importances)"
   ]
  },
  {
   "cell_type": "markdown",
   "metadata": {
    "papermill": {
     "duration": 0.049844,
     "end_time": "2020-07-11T21:31:25.230768",
     "exception": false,
     "start_time": "2020-07-11T21:31:25.180924",
     "status": "completed"
    },
    "tags": []
   },
   "source": [
    "#### Plotting feature importances"
   ]
  },
  {
   "cell_type": "code",
   "execution_count": 22,
   "metadata": {
    "execution": {
     "iopub.execute_input": "2020-07-11T21:31:25.333725Z",
     "iopub.status.busy": "2020-07-11T21:31:25.333213Z",
     "iopub.status.idle": "2020-07-11T21:31:25.630487Z",
     "shell.execute_reply": "2020-07-11T21:31:25.630803Z"
    },
    "papermill": {
     "duration": 0.351116,
     "end_time": "2020-07-11T21:31:25.630881",
     "exception": false,
     "start_time": "2020-07-11T21:31:25.279765",
     "status": "completed"
    },
    "tags": []
   },
   "outputs": [
    {
     "data": {
      "image/png": "[encoded data removed]",
      "text/plain": [
       "<Figure size 864x864 with 1 Axes>"
      ]
     },
     "metadata": {
      "needs_background": "light"
     },
     "output_type": "display_data"
    }
   ],
   "source": [
    "simulation.plot_feature_importances(**plot_feature_importances_params)"
   ]
  },
  {
   "cell_type": "markdown",
   "metadata": {
    "papermill": {
     "duration": 0.051498,
     "end_time": "2020-07-11T21:31:25.734258",
     "exception": false,
     "start_time": "2020-07-11T21:31:25.682760",
     "status": "completed"
    },
    "tags": []
   },
   "source": [
    "#### Plotting cumulative feature importances"
   ]
  },
  {
   "cell_type": "code",
   "execution_count": 23,
   "metadata": {
    "execution": {
     "iopub.execute_input": "2020-07-11T21:31:25.836372Z",
     "iopub.status.busy": "2020-07-11T21:31:25.836055Z",
     "iopub.status.idle": "2020-07-11T21:31:25.844223Z",
     "shell.execute_reply": "2020-07-11T21:31:25.844532Z"
    },
    "papermill": {
     "duration": 0.059927,
     "end_time": "2020-07-11T21:31:25.844598",
     "exception": false,
     "start_time": "2020-07-11T21:31:25.784671",
     "status": "completed"
    },
    "tags": []
   },
   "outputs": [],
   "source": [
    "#if simulation.fourier_mode is None:\n",
    "#    plot_cumulative_feature_importances_params"
   ]
  },
  {
   "cell_type": "code",
   "execution_count": 24,
   "metadata": {
    "execution": {
     "iopub.execute_input": "2020-07-11T21:31:25.948832Z",
     "iopub.status.busy": "2020-07-11T21:31:25.948493Z",
     "iopub.status.idle": "2020-07-11T21:31:26.292082Z",
     "shell.execute_reply": "2020-07-11T21:31:26.291760Z"
    },
    "papermill": {
     "duration": 0.397194,
     "end_time": "2020-07-11T21:31:26.292134",
     "exception": false,
     "start_time": "2020-07-11T21:31:25.894940",
     "status": "completed"
    },
    "tags": []
   },
   "outputs": [
    {
     "data": {
      "image/png": "[encoded data removed]",
      "text/plain": [
       "<Figure size 864x864 with 1 Axes>"
      ]
     },
     "metadata": {
      "needs_background": "light"
     },
     "output_type": "display_data"
    }
   ],
   "source": [
    "simulation.plot_cumulative_feature_importances(**plot_cumulative_feature_importances_params)\n"
   ]
  },
  {
   "cell_type": "markdown",
   "metadata": {
    "papermill": {
     "duration": 0.053965,
     "end_time": "2020-07-11T21:31:26.399266",
     "exception": false,
     "start_time": "2020-07-11T21:31:26.345301",
     "status": "completed"
    },
    "tags": []
   },
   "source": [
    "####  Fourier transform of feature importances"
   ]
  },
  {
   "cell_type": "code",
   "execution_count": 25,
   "metadata": {
    "execution": {
     "iopub.execute_input": "2020-07-11T21:31:26.508091Z",
     "iopub.status.busy": "2020-07-11T21:31:26.507735Z",
     "iopub.status.idle": "2020-07-11T21:31:26.517195Z",
     "shell.execute_reply": "2020-07-11T21:31:26.516833Z"
    },
    "papermill": {
     "duration": 0.064959,
     "end_time": "2020-07-11T21:31:26.517261",
     "exception": false,
     "start_time": "2020-07-11T21:31:26.452302",
     "status": "completed"
    },
    "tags": []
   },
   "outputs": [],
   "source": [
    "#%load_ext autoreload\n",
    "#%autoreload 2\n",
    "#from simulation_results import *\n",
    "#import template_parameters"
   ]
  },
  {
   "cell_type": "code",
   "execution_count": 26,
   "metadata": {
    "execution": {
     "iopub.execute_input": "2020-07-11T21:31:26.637358Z",
     "iopub.status.busy": "2020-07-11T21:31:26.637025Z",
     "iopub.status.idle": "2020-07-11T21:31:26.646854Z",
     "shell.execute_reply": "2020-07-11T21:31:26.646540Z"
    },
    "papermill": {
     "duration": 0.068338,
     "end_time": "2020-07-11T21:31:26.646905",
     "exception": false,
     "start_time": "2020-07-11T21:31:26.578567",
     "status": "completed"
    },
    "tags": []
   },
   "outputs": [
    {
     "name": "stdout",
     "output_type": "stream",
     "text": [
      "Sorted fourier feature importances: \n",
      "\n",
      "\n",
      "[(0, 0.9887159488758427), (2, 0.0019658202551354974), (24, 0.0019658202551354974), (1, 0.0009064329951772611), (25, 0.0009064329951772611), (4, 0.0008440361882340623), (22, 0.0008440361882340623), (11, 0.0007716983099563986), (15, 0.0007716983099563986), (7, 0.0003553148003469589), (19, 0.0003553148003469589), (9, 0.00029449808788047126), (17, 0.00029449808788047126), (5, 0.0001693027830699009), (21, 0.0001693027830699009), (6, 0.00014754009143586492), (20, 0.00014754009143586492), (8, 0.0001303500072244705), (18, 0.0001303500072244705), (3, 2.2147849035052465e-05), (23, 2.2147849035052465e-05), (12, 1.7513201102857677e-05), (14, 1.7513201102857677e-05), (10, 1.7183302190671783e-05), (16, 1.7183302190671783e-05), (13, 3.753825784726059e-07)]\n"
     ]
    }
   ],
   "source": [
    "import operator\n",
    "#fft_type=False\n",
    "save_to_disk = False\n",
    "simulation.compute_fourier_feature_importance( save_to_disk=False)\n",
    "### Sorted fourier feature importances from highest to lowest\n",
    "sorted_fourier_feature_importances = sorted(simulation.fourier_feature_importance.items(), key=operator.itemgetter(1),reverse=True)\n",
    "print(\"Sorted fourier feature importances: \")\n",
    "print(\"\\n\")\n",
    "print(sorted_fourier_feature_importances)"
   ]
  },
  {
   "cell_type": "code",
   "execution_count": 27,
   "metadata": {
    "execution": {
     "iopub.execute_input": "2020-07-11T21:31:26.761755Z",
     "iopub.status.busy": "2020-07-11T21:31:26.761241Z",
     "iopub.status.idle": "2020-07-11T21:31:26.772698Z",
     "shell.execute_reply": "2020-07-11T21:31:26.772413Z"
    },
    "papermill": {
     "duration": 0.070068,
     "end_time": "2020-07-11T21:31:26.772755",
     "exception": false,
     "start_time": "2020-07-11T21:31:26.702687",
     "status": "completed"
    },
    "tags": []
   },
   "outputs": [
    {
     "data": {
      "text/plain": [
       "1.0000000000000002"
      ]
     },
     "execution_count": 27,
     "metadata": {},
     "output_type": "execute_result"
    }
   ],
   "source": [
    "np.sum(list(simulation.fourier_feature_importance.values()))"
   ]
  },
  {
   "cell_type": "code",
   "execution_count": 28,
   "metadata": {
    "execution": {
     "iopub.execute_input": "2020-07-11T21:31:26.882676Z",
     "iopub.status.busy": "2020-07-11T21:31:26.882312Z",
     "iopub.status.idle": "2020-07-11T21:31:26.891762Z",
     "shell.execute_reply": "2020-07-11T21:31:26.891441Z"
    },
    "papermill": {
     "duration": 0.063637,
     "end_time": "2020-07-11T21:31:26.891814",
     "exception": false,
     "start_time": "2020-07-11T21:31:26.828177",
     "status": "completed"
    },
    "tags": []
   },
   "outputs": [
    {
     "data": {
      "text/plain": [
       "26"
      ]
     },
     "execution_count": 28,
     "metadata": {},
     "output_type": "execute_result"
    }
   ],
   "source": [
    "len(simulation.fourier_feature_importance.values())"
   ]
  },
  {
   "cell_type": "markdown",
   "metadata": {
    "papermill": {
     "duration": 0.051153,
     "end_time": "2020-07-11T21:31:26.994623",
     "exception": false,
     "start_time": "2020-07-11T21:31:26.943470",
     "status": "completed"
    },
    "tags": []
   },
   "source": [
    "#### Plotting Fourier feature importance"
   ]
  },
  {
   "cell_type": "code",
   "execution_count": 29,
   "metadata": {
    "execution": {
     "iopub.execute_input": "2020-07-11T21:31:27.105421Z",
     "iopub.status.busy": "2020-07-11T21:31:27.105060Z",
     "iopub.status.idle": "2020-07-11T21:31:27.431976Z",
     "shell.execute_reply": "2020-07-11T21:31:27.431548Z"
    },
    "papermill": {
     "duration": 0.38455,
     "end_time": "2020-07-11T21:31:27.432053",
     "exception": false,
     "start_time": "2020-07-11T21:31:27.047503",
     "status": "completed"
    },
    "tags": []
   },
   "outputs": [
    {
     "data": {
      "image/png": "[encoded data removed]",
      "text/plain": [
       "<Figure size 864x864 with 1 Axes>"
      ]
     },
     "metadata": {
      "needs_background": "light"
     },
     "output_type": "display_data"
    }
   ],
   "source": [
    "simulation.plot_feature_importances(**plot_fourier_feature_importances_params)"
   ]
  },
  {
   "cell_type": "markdown",
   "metadata": {
    "papermill": {
     "duration": 0.052226,
     "end_time": "2020-07-11T21:31:27.536845",
     "exception": false,
     "start_time": "2020-07-11T21:31:27.484619",
     "status": "completed"
    },
    "tags": []
   },
   "source": [
    "#### Plotting cumulative Fourier feature importances"
   ]
  },
  {
   "cell_type": "code",
   "execution_count": 30,
   "metadata": {
    "execution": {
     "iopub.execute_input": "2020-07-11T21:31:27.644357Z",
     "iopub.status.busy": "2020-07-11T21:31:27.644037Z",
     "iopub.status.idle": "2020-07-11T21:31:27.930946Z",
     "shell.execute_reply": "2020-07-11T21:31:27.930623Z"
    },
    "papermill": {
     "duration": 0.342048,
     "end_time": "2020-07-11T21:31:27.931000",
     "exception": false,
     "start_time": "2020-07-11T21:31:27.588952",
     "status": "completed"
    },
    "tags": []
   },
   "outputs": [
    {
     "data": {
      "image/png": "[encoded data removed]",
      "text/plain": [
       "<Figure size 864x864 with 1 Axes>"
      ]
     },
     "metadata": {
      "needs_background": "light"
     },
     "output_type": "display_data"
    }
   ],
   "source": [
    "simulation.plot_cumulative_feature_importances(**plot_cumulative_fourier_feature_importances_params)"
   ]
  },
  {
   "cell_type": "markdown",
   "metadata": {
    "papermill": {
     "duration": 0.052822,
     "end_time": "2020-07-11T21:31:28.036939",
     "exception": false,
     "start_time": "2020-07-11T21:31:27.984117",
     "status": "completed"
    },
    "tags": []
   },
   "source": [
    "#### Computing lattice and reciprocal lattice statistics "
   ]
  },
  {
   "cell_type": "code",
   "execution_count": 31,
   "metadata": {
    "execution": {
     "iopub.execute_input": "2020-07-11T21:31:28.149800Z",
     "iopub.status.busy": "2020-07-11T21:31:28.149402Z",
     "iopub.status.idle": "2020-07-11T21:31:28.158994Z",
     "shell.execute_reply": "2020-07-11T21:31:28.159334Z"
    },
    "papermill": {
     "duration": 0.068708,
     "end_time": "2020-07-11T21:31:28.159414",
     "exception": false,
     "start_time": "2020-07-11T21:31:28.090706",
     "status": "completed"
    },
    "tags": []
   },
   "outputs": [
    {
     "name": "stdout",
     "output_type": "stream",
     "text": [
      "real lattice statistics: \n",
      "{'mean': 0.4798093139646854, 'var': 0.079222585050062, 'std': 0.28146506896960055, 'shannon': 3.2355850501406933}\n",
      "reciprocal lattice statistics: \n",
      "{'mean': 0.005642025562078705, 'var': 0.004212429350738364, 'std': 0.06490323066487803, 'shannon': 0.09098016415132405}\n"
     ]
    }
   ],
   "source": [
    "save_to_disk = False\n",
    "simulation.compute_feature_importance_statistics(save_to_disk)\n",
    "print(\"real lattice statistics: \")\n",
    "print(simulation.feature_importance_statistics)\n",
    "print(\"reciprocal lattice statistics: \")\n",
    "print(simulation.fourier_feature_importance_statistics)"
   ]
  },
  {
   "cell_type": "code",
   "execution_count": 32,
   "metadata": {
    "execution": {
     "iopub.execute_input": "2020-07-11T21:31:28.274875Z",
     "iopub.status.busy": "2020-07-11T21:31:28.274562Z",
     "iopub.status.idle": "2020-07-11T21:31:28.285098Z",
     "shell.execute_reply": "2020-07-11T21:31:28.284780Z"
    },
    "papermill": {
     "duration": 0.069631,
     "end_time": "2020-07-11T21:31:28.285150",
     "exception": false,
     "start_time": "2020-07-11T21:31:28.215519",
     "status": "completed"
    },
    "tags": []
   },
   "outputs": [
    {
     "data": {
      "text/plain": [
       "0.30685281944005466"
      ]
     },
     "execution_count": 32,
     "metadata": {},
     "output_type": "execute_result"
    }
   ],
   "source": [
    "np.log(np.e/2)"
   ]
  },
  {
   "cell_type": "code",
   "execution_count": 33,
   "metadata": {
    "execution": {
     "iopub.execute_input": "2020-07-11T21:31:28.397738Z",
     "iopub.status.busy": "2020-07-11T21:31:28.397405Z",
     "iopub.status.idle": "2020-07-11T21:31:28.451249Z",
     "shell.execute_reply": "2020-07-11T21:31:28.449437Z"
    },
    "papermill": {
     "duration": 0.111216,
     "end_time": "2020-07-11T21:31:28.451501",
     "exception": false,
     "start_time": "2020-07-11T21:31:28.340285",
     "status": "completed"
    },
    "tags": []
   },
   "outputs": [
    {
     "data": {
      "text/plain": [
       "0.01826799229543979"
      ]
     },
     "execution_count": 33,
     "metadata": {},
     "output_type": "execute_result"
    }
   ],
   "source": [
    "simulation.feature_importance_statistics[\"std\"]*simulation.fourier_feature_importance_statistics[\"std\"]"
   ]
  },
  {
   "cell_type": "code",
   "execution_count": 34,
   "metadata": {
    "execution": {
     "iopub.execute_input": "2020-07-11T21:31:28.600614Z",
     "iopub.status.busy": "2020-07-11T21:31:28.599818Z",
     "iopub.status.idle": "2020-07-11T21:31:28.610592Z",
     "shell.execute_reply": "2020-07-11T21:31:28.611091Z"
    },
    "papermill": {
     "duration": 0.070701,
     "end_time": "2020-07-11T21:31:28.611189",
     "exception": false,
     "start_time": "2020-07-11T21:31:28.540488",
     "status": "completed"
    },
    "tags": []
   },
   "outputs": [
    {
     "data": {
      "text/plain": [
       "0.07957747154594767"
      ]
     },
     "execution_count": 34,
     "metadata": {},
     "output_type": "execute_result"
    }
   ],
   "source": [
    "1/(4*np.pi)"
   ]
  },
  {
   "cell_type": "code",
   "execution_count": null,
   "metadata": {
    "papermill": {
     "duration": 0.0712,
     "end_time": "2020-07-11T21:31:28.745422",
     "exception": false,
     "start_time": "2020-07-11T21:31:28.674222",
     "status": "completed"
    },
    "tags": []
   },
   "outputs": [],
   "source": []
  }
 ],
 "metadata": {
  "celltoolbar": "Tags",
  "kernelspec": {
   "display_name": "ml_top_phases",
   "language": "python",
   "name": "ml_top_phases"
  },
  "language_info": {
   "codemirror_mode": {
    "name": "ipython",
    "version": 3
   },
   "file_extension": ".py",
   "mimetype": "text/x-python",
   "name": "python",
   "nbconvert_exporter": "python",
   "pygments_lexer": "ipython3",
   "version": "3.6.10"
  },
  "papermill": {
   "duration": 35.222619,
   "end_time": "2020-07-11T21:31:28.906092",
   "environment_variables": {},
   "exception": null,
   "input_path": "0_results_template.ipynb",
   "output_path": "zzz_results_output_ssh1_periodic_5th_scenario_100_6561.ipynb",
   "parameters": {
    "experiment_name": "0",
    "figures_dir": "/home/rio/ml_topological_phases_in_real_space/5_paper/ssh1/periodic_5th_scenario_100_6561",
    "imshow_winding_grid_params": {
     "colorbar_params": {
      "extend": "neither",
      "labelsize": 24,
      "mappable": null,
      "pad": 0.1,
      "shrink": 0.8,
      "ticks": [
       0,
       0.2,
       0.4,
       0.6,
       0.8,
       1.0
      ]
     },
     "fig_params": {
      "figsize": [
       12,
       12
      ]
     },
     "imshow_params": {
      "alpha": null,
      "aspect": "equal",
      "cmap": "bwr_r",
      "extent": [
       -2,
       2,
       -2,
       2
      ],
      "origin": "lower",
      "vmax": 1,
      "vmin": 0
     },
     "savefig_params": {
      "fname": "/home/rio/ml_topological_phases_in_real_space/5_paper/ssh1/periodic_5th_scenario_100_6561/imshow_winding_grid_winding_{}_{}.png"
     },
     "tight_params": {},
     "title_params": {},
     "winding": 1,
     "xlabel_params": {
      "fontsize": 48,
      "xlabel": "$t_2$"
     },
     "xlim_params": {
      "left": -2,
      "right": 2
     },
     "xticks_params": {
      "fontsize": 24
     },
     "ylabel_params": {
      "fontsize": 48,
      "ylabel": "$t_1$"
     },
     "ylim_params": {
      "bottom": -2,
      "top": 2
     },
     "yticks_params": {
      "fontsize": 24
     }
    },
    "load_hamiltonian_summary": false,
    "merge_imshow_winding_grids_params": {
     "colorbar_params": {},
     "fig_params": {
      "figsize": [
       12,
       12
      ]
     },
     "savefig_params": {
      "fname": "/home/rio/ml_topological_phases_in_real_space/5_paper/ssh1/periodic_5th_scenario_100_6561/merge_imshow_winding_grids_second_{}.png"
     },
     "tight_params": {},
     "title_params": {},
     "winding_params": {
      "0": {
       "alpha": null,
       "aspect": "equal",
       "cmap": "Reds_alpha",
       "extent": [
        -2,
        2,
        -2,
        2
       ],
       "origin": "lower",
       "vmax": 1,
       "vmin": 0
      },
      "1": {
       "alpha": null,
       "aspect": "equal",
       "cmap": "Blues_alpha",
       "extent": [
        -2,
        2,
        -2,
        2
       ],
       "origin": "lower",
       "vmax": 1,
       "vmin": 0
      }
     },
     "xlabel_params": {
      "fontsize": 48,
      "xlabel": "$t_2$"
     },
     "xlim_params": {
      "left": -2,
      "right": 2
     },
     "xticks_params": {
      "fontsize": 24
     },
     "ylabel_params": {
      "fontsize": 48,
      "ylabel": "$t_1$"
     },
     "ylim_params": {
      "bottom": -2,
      "top": 2
     },
     "yticks_params": {
      "fontsize": 24
     }
    },
    "n_experiments": null,
    "pcolormesh_prediction_grid_params": {
     "fig_params": {
      "figsize": [
       6,
       6
      ]
     },
     "legend_params": {
      "fontsize": 16,
      "framealpha": 0.8,
      "loc": "upper right"
     },
     "pcolormesh_params": {
      "alpha": 0.5,
      "cmap": "ssh1"
     },
     "savefig_params": {
      "fname": "/home/rio/ml_topological_phases_in_real_space/5_paper/ssh1/periodic_5th_scenario_100_6561/pcolormesh_prediction_grid_experiment_0.png"
     },
     "tight_params": {},
     "title_params": {},
     "winding_params": {
      "0": {
       "color": "red",
       "label": 0,
       "marker": "o",
       "s": 10
      },
      "1": {
       "color": "blue",
       "label": 1,
       "marker": "o",
       "s": 10
      }
     },
     "xlabel_params": {
      "fontsize": 24,
      "xlabel": "$t_2$"
     },
     "xlim_params": {
      "left": -2,
      "right": 2
     },
     "xticks_params": {
      "fontsize": 14
     },
     "ylabel_params": {
      "fontsize": 24,
      "ylabel": "$t_1$"
     },
     "ylim_params": {
      "bottom": -2,
      "top": 2
     },
     "yticks_params": {
      "fontsize": 14
     }
    },
    "plot_cumulative_feature_importances_params": {
     "fig_params": {
      "figsize": [
       12,
       12
      ]
     },
     "hist_precision": 1000,
     "n_features": null,
     "plot": "bar",
     "plot_params": {
      "color": "indianred",
      "width": 0.7
     },
     "savefig_params": {
      "fname": "/home/rio/ml_topological_phases_in_real_space/5_paper/ssh1/periodic_5th_scenario_100_6561/plot_cumulative_feature_importances.png"
     },
     "tight_params": {},
     "title_params": {
      "fontsize": 24,
      "label": "Cumulative information entropy signature (real space) - SSH 1"
     },
     "xlabel_params": {
      "fontsize": 24,
      "xlabel": "lattice site"
     },
     "xlim_params": {},
     "xticks_params": {
      "fontsize": 24,
      "ticks": [
       0,
       11,
       22,
       33,
       44,
       55,
       66,
       77,
       88,
       99
      ]
     },
     "ylabel_params": {
      "fontsize": 24,
      "ylabel": "cumulative reduction in information entropy (%)"
     },
     "ylim_params": {},
     "yticks_params": {
      "fontsize": 24
     }
    },
    "plot_cumulative_fourier_feature_importances_params": {
     "fig_params": {
      "figsize": [
       12,
       12
      ]
     },
     "fourier": true,
     "hist_precision": 1000,
     "n_features": null,
     "plot": "bar",
     "plot_params": {
      "color": "palevioletred",
      "width": 0.7
     },
     "savefig_params": {
      "fname": "/home/rio/ml_topological_phases_in_real_space/5_paper/ssh1/periodic_5th_scenario_100_6561/plot_cumulative_fourier_feature_importances.png"
     },
     "tight_params": {},
     "title_params": {
      "fontsize": 24,
      "label": "Cumulative information entropy signature (wavevector space) - SSH 1"
     },
     "xlabel_params": {
      "fontsize": 24,
      "xlabel": "reciprocal lattice site"
     },
     "xlim_params": {},
     "xticks_params": {
      "fontsize": 24,
      "ticks": [
       0,
       11,
       22,
       33,
       44,
       55,
       66,
       77,
       88,
       99
      ]
     },
     "ylabel_params": {
      "fontsize": 24,
      "ylabel": "cumulative reduction in information entropy (%)"
     },
     "ylim_params": {},
     "yticks_params": {
      "fontsize": 24
     }
    },
    "plot_feature_importances_params": {
     "fig_params": {
      "figsize": [
       12,
       12
      ]
     },
     "hist_precision": 1000,
     "n_features": null,
     "plot": "bar",
     "plot_params": {
      "color": "indianred",
      "width": 0.7
     },
     "savefig_params": {
      "fname": "/home/rio/ml_topological_phases_in_real_space/5_paper/ssh1/periodic_5th_scenario_100_6561/plot_feature_importances.png"
     },
     "tight_params": {},
     "title_params": {
      "fontsize": 24,
      "label": "Information entropy signature (real space) - SSH 1"
     },
     "xlabel_params": {
      "fontsize": 24,
      "xlabel": "lattice site"
     },
     "xlim_params": {},
     "xticks_params": {
      "fontsize": 24,
      "ticks": [
       0,
       11,
       22,
       33,
       44,
       55,
       66,
       77,
       88,
       99
      ]
     },
     "ylabel_params": {
      "fontsize": 24,
      "ylabel": "reduction in information entropy (%)"
     },
     "ylim_params": {},
     "yticks_params": {
      "fontsize": 24
     }
    },
    "plot_fourier_feature_importances_params": {
     "fig_params": {
      "figsize": [
       12,
       12
      ]
     },
     "fourier": true,
     "hist_precision": 1000,
     "n_features": null,
     "plot": "bar",
     "plot_params": {
      "color": "palevioletred",
      "width": 0.7
     },
     "savefig_params": {
      "fname": "/home/rio/ml_topological_phases_in_real_space/5_paper/ssh1/periodic_5th_scenario_100_6561/plot_fourier_feature_importances.png"
     },
     "tight_params": {},
     "title_params": {
      "fontsize": 24,
      "label": "Information entropy signature (wavevector space) - SSH 1"
     },
     "xlabel_params": {
      "fontsize": 24,
      "xlabel": "reciprocal lattice site"
     },
     "xlim_params": {},
     "xticks_params": {
      "fontsize": 24,
      "ticks": [
       0,
       11,
       22,
       33,
       44,
       55,
       66,
       77,
       88,
       99
      ]
     },
     "ylabel_params": {
      "fontsize": 24,
      "ylabel": "reduction in information entropy (%)"
     },
     "ylim_params": {},
     "yticks_params": {
      "fontsize": 24
     }
    },
    "scatter_train_val_test_params": {
     "fig_params": {
      "figsize": [
       6,
       6
      ]
     },
     "legend_params": {
      "fontsize": 16,
      "framealpha": 0.8,
      "loc": "upper right"
     },
     "savefig_params": {
      "fname": "/home/rio/ml_topological_phases_in_real_space/5_paper/ssh1/periodic_5th_scenario_100_6561/scatter_train_val_test_experiment_0.png"
     },
     "test_params": {
      "alpha": 0.5,
      "color": "royalblue",
      "label": "test",
      "marker": "s",
      "s": 64
     },
     "tight_params": {},
     "title_params": {},
     "train_params": {
      "alpha": 1,
      "color": "green",
      "label": "train",
      "marker": "o",
      "s": 3
     },
     "val_params": {
      "alpha": 0.2,
      "color": "salmon",
      "label": "val",
      "marker": "s",
      "s": 64
     },
     "xlabel_params": {
      "fontsize": 24,
      "xlabel": "$t_2$"
     },
     "xlim_params": {
      "left": -2,
      "right": 2
     },
     "xticks_params": {
      "fontsize": 14
     },
     "ylabel_params": {
      "fontsize": 24,
      "ylabel": "$t_1$"
     },
     "ylim_params": {
      "bottom": -2,
      "top": 2
     },
     "yticks_params": {
      "fontsize": 14
     }
    },
    "scatter_winding_train_params": {
     "fig_params": {
      "figsize": [
       6,
       6
      ]
     },
     "legend_params": {
      "fontsize": 16,
      "framealpha": 0.8,
      "loc": "upper right"
     },
     "savefig_params": {
      "fname": "/home/rio/ml_topological_phases_in_real_space/5_paper/ssh1/periodic_5th_scenario_100_6561/scatter_winding_train_experiment_0.png"
     },
     "tight_params": {},
     "title_params": {},
     "winding_params": {
      "0": {
       "color": "red",
       "label": 0,
       "marker": "o",
       "s": 10
      },
      "1": {
       "color": "blue",
       "label": 1,
       "marker": "o",
       "s": 10
      }
     },
     "xlabel_params": {
      "fontsize": 24,
      "xlabel": "$t_2$"
     },
     "xlim_params": {
      "left": -2,
      "right": 2
     },
     "xticks_params": {
      "fontsize": 14
     },
     "ylabel_params": {
      "fontsize": 24,
      "ylabel": "$t_1$"
     },
     "ylim_params": {
      "bottom": -2,
      "top": 2
     },
     "yticks_params": {
      "fontsize": 14
     }
    },
    "simulation_dir": "/home/rio/ssh_simulations/ssh1/periodic_5th_scenario_100_6561",
    "winding_cmap_dict": {
     "0": "Reds",
     "1": "Blues"
    }
   },
   "start_time": "2020-07-11T21:30:53.683473",
   "version": "2.1.0"
  }
 },
 "nbformat": 4,
 "nbformat_minor": 2
}