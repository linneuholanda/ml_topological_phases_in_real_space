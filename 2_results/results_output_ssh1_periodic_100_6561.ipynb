{
 "cells": [
  {
   "cell_type": "code",
   "execution_count": null,
   "metadata": {
    "hide_input": true,
    "inputHidden": true
   },
   "outputs": [
    {
     "data": {
      "text/html": [
       "<span style=\"color:red; font-family:Helvetica Neue, Helvetica, Arial, sans-serif; font-size:2em;\">An Exception was encountered at 'In [10]'.</span>"
      ]
     },
     "metadata": {},
     "output_type": "display_data"
    }
   ],
   "source": [
    "%%html\n",
    "<span style=\"color:red; font-family:Helvetica Neue, Helvetica, Arial, sans-serif; font-size:2em;\">An Exception was encountered at 'In [10]'.</span>"
   ]
  },
  {
   "cell_type": "markdown",
   "metadata": {
    "papermill": {
     "duration": 0.032314,
     "end_time": "2020-03-13T21:14:20.355888",
     "exception": false,
     "start_time": "2020-03-13T21:14:20.323574",
     "status": "completed"
    },
    "tags": []
   },
   "source": [
    "# Results template\n",
    "\n",
    "In this notebook we get the results of simulations performed with the nearest neighbours (ssh1) and second neighbours (ssh2) systems."
   ]
  },
  {
   "cell_type": "code",
   "execution_count": 1,
   "metadata": {
    "papermill": {
     "duration": 0.797592,
     "end_time": "2020-03-13T21:14:21.177215",
     "exception": false,
     "start_time": "2020-03-13T21:14:20.379623",
     "status": "completed"
    },
    "tags": []
   },
   "outputs": [],
   "source": [
    "%load_ext autoreload\n",
    "%autoreload 2\n",
    "from simulation_results import *\n",
    "#import template_parameters"
   ]
  },
  {
   "cell_type": "markdown",
   "metadata": {
    "papermill": {
     "duration": 0.028993,
     "end_time": "2020-03-13T21:14:21.238156",
     "exception": false,
     "start_time": "2020-03-13T21:14:21.209163",
     "status": "completed"
    },
    "tags": []
   },
   "source": [
    "# Defining parameters"
   ]
  },
  {
   "cell_type": "code",
   "execution_count": 2,
   "metadata": {
    "papermill": {
     "duration": 0.197659,
     "end_time": "2020-03-13T21:14:21.463763",
     "exception": false,
     "start_time": "2020-03-13T21:14:21.266104",
     "status": "completed"
    },
    "tags": [
     "parameters"
    ]
   },
   "outputs": [
    {
     "ename": "NameError",
     "evalue": "name 'experiment' is not defined",
     "output_type": "error",
     "traceback": [
      "\u001b[0;31m---------------------------------------------------------------------------\u001b[0m",
      "\u001b[0;31mNameError\u001b[0m                                 Traceback (most recent call last)",
      "\u001b[0;32m<timed exec>\u001b[0m in \u001b[0;36m<module>\u001b[0;34m\u001b[0m\n",
      "\u001b[0;31mNameError\u001b[0m: name 'experiment' is not defined"
     ]
    }
   ],
   "source": [
    "%%time\n",
    "\n",
    "#########################################################################\n",
    "################### Simulation and experiment #####################\n",
    "#########################################################################\n",
    "simulation_dir = \"/home/linneu/ssh_simulations/ssh1/periodic_100_6561\"\n",
    "experiment_name = \"0\"\n",
    "#########################################################################\n",
    "################### Results from a single experiment ####################\n",
    "#########################################################################\n",
    "\n",
    "### Visualizing train/val/test splits with scatter plot for a single experiment\n",
    "train_val_test_fig_params = fig_params={\"figsize\": (6,6)} \n",
    "train_val_test_val_params={\"marker\": \"s\", \"s\": 64, \"alpha\": 0.2, \"color\": \"salmon\", \"label\": \"val\"}\n",
    "train_val_test_test_params={\"marker\": \"s\", \"s\": 64, \"alpha\": 0.5, \"color\": \"royalblue\", \"label\": \"test\"}\n",
    "train_val_test_train_params={\"marker\": \"o\", \"s\": 3, \"alpha\": 1, \"color\": \"green\", \"label\": \"train\"}\n",
    "train_val_test_legend_params={\"framealpha\": 0.8, \"loc\": \"upper right\", \"fontsize\": 16}\n",
    "train_val_test_xlabel_params={\"xlabel\": \"$t_2$\", \"fontsize\": 24}\n",
    "train_val_test_ylabel_params={\"ylabel\": \"$t_1$\", \"fontsize\": 24}\n",
    "train_val_test_title_params={}\n",
    "train_val_test_xlim_params = {\"left\": np.min(experiment.t2), \"right\": np.max(experiment.t2)}\n",
    "train_val_test_ylim_params = {\"bottom\": np.min(experiment.t1), \"top\": np.max(experiment.t1)}\n",
    "train_val_test_xticks_params = {\"fontsize\": 14}\n",
    "train_val_test_yticks_params = {\"fontsize\": 14}\n",
    "train_val_test_tight_params = {}\n",
    "train_val_test_path_to_save = \"/home/linneu/ml_topological_phases_in_real_space/paper/ssh1/periodic_100_6561/train_val_test_split_experiment_0.png\"\n",
    "train_val_test_savefig_params = {\"fname\": train_val_test_path_to_save}\n",
    "\n",
    "### Plotting train winding labels with scatter plot for a single experiment\n",
    "train_winding_fig_params = fig_params={\"figsize\": (6,6)} \n",
    "train_winding_winding_params = {0: {\"marker\": \"o\", \"s\": 10, \"color\": \"red\", \"label\": 0}, \\\n",
    "                  1: {\"marker\": \"o\", \"s\": 10, \"color\": \"blue\", \"label\": 1}, \\\n",
    "                  }\n",
    "train_winding_legend_params={\"framealpha\": 0.8, \"loc\": \"upper right\", \"fontsize\": 16}\n",
    "train_winding_xlabel_params={\"xlabel\": \"$t_2$\", \"fontsize\": 24}\n",
    "train_winding_ylabel_params={\"ylabel\": \"$t_1$\", \"fontsize\": 24}\n",
    "train_winding_title_params={}\n",
    "train_winding_xlim_params = {\"left\": np.min(experiment.t2), \"right\": np.max(experiment.t2)}\n",
    "train_winding_ylim_params = {\"bottom\": np.min(experiment.t1), \"top\": np.max(experiment.t1)}\n",
    "train_winding_xticks_params = {\"fontsize\": 14}\n",
    "train_winding_yticks_params = {\"fontsize\": 14}\n",
    "train_winding_tight_params = {}\n",
    "train_winding_path_to_save = \"/home/linneu/ml_topological_phases_in_real_space/paper/ssh1/periodic_100_6561/train_winding_labels_experiment_0.png\"\n",
    "train_winding_savefig_params = {\"fname\": train_winding_path_to_save}\n",
    "\n",
    "### Plotting prediction grid with pcolormesh\n",
    "prediction_grid_fig_params = fig_params={\"figsize\": (6,6)}\n",
    "prediction_grid_winding_params = {0: {\"marker\": \"o\", \"s\": 10, \"color\": \"red\", \"label\": 0}, \n",
    "                  1: {\"marker\": \"o\", \"s\": 10, \"color\": \"blue\", \"label\": 1}}\n",
    "prediction_grid_pcolormesh_params = {\"cmap\": ListedColormap([\"hotpink\", \"lightskyblue\"]), \"alpha\": 0.5}\n",
    "prediction_grid_legend_params={\"framealpha\": 0.8, \"loc\": \"upper right\", \"fontsize\": 16}\n",
    "prediction_grid_xlabel_params={\"xlabel\": \"$t_2$\", \"fontsize\": 24}\n",
    "prediction_grid_ylabel_params={\"ylabel\": \"$t_1$\", \"fontsize\": 24}\n",
    "prediction_grid_title_params={}\n",
    "prediction_grid_xlim_params = {\"left\": np.min(experiment.t2), \"right\": np.max(experiment.t2)}\n",
    "prediction_grid_ylim_params = {\"bottom\": np.min(experiment.t1), \"top\": np.max(experiment.t1)}\n",
    "prediction_grid_xticks_params = {\"fontsize\": 14}\n",
    "prediction_grid_yticks_params = {\"fontsize\": 14}\n",
    "prediction_grid_tight_params = {}\n",
    "prediction_grid_path_to_save = \"/home/linneu/ml_topological_phases_in_real_space/paper/ssh1/periodic_100_6561/prediction_grid_experiment_0.png\"\n",
    "prediction_grid_savefig_params = {\"fname\": prediction_grid_path_to_save}\n",
    "\n",
    "### Plotting Winding Heatmaps for a single experiment\n",
    "winding_heatmap_winding = 1\n",
    "winding_heatmap_imshow_params = {\"cmap\": \"bwr_r\", \"aspect\": \"equal\", \"alpha\": None, \"origin\": \"lower\", \"extent\": [-2,2,-2,2],\\\n",
    "                \"vmin\": 0, \"vmax\":1}\n",
    "winding_heatmap_colorbar_params={\"mappable\": None, \"labelsize\": 24}\n",
    "winding_heatmap_fig_params = {\"figsize\": (12,12)}\n",
    "winding_heatmap_xlabel_params={\"xlabel\": \"$t_2$\", \"fontsize\": 48}\n",
    "winding_heatmap_ylabel_params={\"ylabel\": \"$t_1$\", \"fontsize\": 48}\n",
    "winding_heatmap_title_params={}\n",
    "winding_heatmap_xlim_params = {\"left\": np.min(experiment.t2), \"right\": np.max(experiment.t2)}\n",
    "winding_heatmap_ylim_params = {\"bottom\": np.min(experiment.t1), \"top\": np.max(experiment.t1)}\n",
    "winding_heatmap_xticks_params = {\"fontsize\": 24}\n",
    "winding_heatmap_yticks_params = {\"fontsize\": 24}\n",
    "winding_heatmap_tight_params = {}\n",
    "winding_heatmap_path_to_save = \"/home/linneu/ml_topological_phases_in_real_space/paper/ssh1/periodic_100_6561/winding_1_grid.png\"\n",
    "winding_heatmap_savefig_params = {\"fname\": winding_heatmap_path_to_save}\n",
    "\n",
    "##################################################################################\n",
    "################### Bootstrapped results from all experiments ####################\n",
    "##################################################################################\n",
    "\n",
    "### Plotting simulation winding heatmaps\n",
    "sim_winding_heatmap_winding_params = {1: {\"cmap\": \"bwr_r\", \"aspect\": \"equal\", \"alpha\": None, \"origin\": \"lower\", \"extent\": [-2,2,-2,2], \\\n",
    "                  \"vmin\": 0, \"vmax\": 1}}\n",
    "sim_winding_heatmap_colorbar_params={1: {\"mappable\": None, \"labelsize\": 24, \"ticks\": [0, 0.2, 0.4, 0.6, 0.8, 1.0], \"pad\": 0.1, \"shrink\": 0.8, \\\n",
    "                     \"extend\": \"neither\"}}\n",
    "sim_winding_heatmap_fig_params = {\"figsize\": (12,12)}\n",
    "sim_winding_heatmap_xlabel_params={\"xlabel\": \"$t_2$\", \"fontsize\": 48}\n",
    "sim_winding_heatmap_ylabel_params={\"ylabel\": \"$t_1$\", \"fontsize\": 48}\n",
    "sim_winding_heatmap_title_params={}\n",
    "sim_winding_heatmap_xlim_params = {\"left\": np.min(simulation.t2), \"right\": np.max(simulation.t2)}\n",
    "sim_winding_heatmap_ylim_params = {\"bottom\": np.min(simulation.t1), \"top\": np.max(simulation.t1)}\n",
    "sim_winding_heatmap_xticks_params = {\"fontsize\": 24}\n",
    "sim_winding_heatmap_yticks_params = {\"fontsize\": 24}\n",
    "sim_winding_heatmap_tight_params = {}\n",
    "sim_winding_heatmap_path_to_save = \"/home/linneu/ml_topological_phases_in_real_space/paper/ssh1/periodic_100_6561/simulation_merged_winding_grid.png\"\n",
    "sim_winding_heatmap_savefig_params = {\"fname\": sim_winding_heatmap_path_to_save}\n",
    "\n",
    "### Plotting feature importances\n",
    "feature_importances_n_features = None\n",
    "feature_importances_plot_type = \"bar\"\n",
    "feature_importances_plot_params = {\"color\": \"indianred\", \"width\": 0.7}\n",
    "feature_importances_hist_precision = 1000\n",
    "feature_importances_fig_params={\"figsize\": (12,12)} \n",
    "feature_importances_xlabel_params = {\"xlabel\": \"lattice site\", \"fontsize\": 24}\n",
    "feature_importances_ylabel_params = {\"ylabel\": \"reduction in information entropy (%)\", \"fontsize\": 24}\n",
    "feature_importances_title_params = {\"label\": \"Information entropy signature - SSH 1\", \"fontsize\": 24}\n",
    "feature_importances_xlim_params = {}\n",
    "feature_importances_ylim_params = {}\n",
    "feature_importances_xticks_params = {\"ticks\": np.linspace(0,99,10).astype(int), \"fontsize\": 24}\n",
    "feature_importances_yticks_params = {\"fontsize\": 24}\n",
    "feature_importances_tight_params = {}\n",
    "feature_importances_path_to_save = \"/home/linneu/ml_topological_phases_in_real_space/paper/ssh1/periodic_100_6561/feature_importances.png\"\n",
    "feature_importances_savefig_params = {\"fname\": feature_importances_path_to_save}\n",
    "\n",
    "### Plotting cumulative feature importances\n",
    "cumulative_features_n_features = None\n",
    "cumulative_features_plot_type = \"bar\"\n",
    "cumulative_features_hist_precision = 1000\n",
    "cumulative_features_plot_params = {\"color\":\"indianred\", \"width\": 0.7}\n",
    "cumulative_features_fig_params={\"figsize\": (12,12)}\n",
    "cumulative_features_xlabel_params = {\"xlabel\": \"lattice site\", \"fontsize\": 24}\n",
    "cumulative_features_ylabel_params = {\"ylabel\": \"cumulative reduction in information entropy (%)\", \"fontsize\": 24}\n",
    "cumulative_features_title_params = {\"label\": \"Cumulative information entropy signature - SSH 1\", \"fontsize\": 24}\n",
    "cumulative_features_xlim_params = {}\n",
    "cumulative_features_ylim_params = {}\n",
    "cumulative_features_xticks_params = {\"ticks\": np.linspace(0,99,10).astype(int), \"fontsize\": 24}\n",
    "cumulative_features_yticks_params = {\"fontsize\": 24}\n",
    "cumulative_features_tight_params = {}\n",
    "cumulative_features_path_to_save = \"/home/linneu/ml_topological_phases_in_real_space/paper/ssh1/periodic_100_6561/cumulative_feature_importances.png\"\n",
    "cumulative_features_savefig_params = {\"fname\": cumulative_features_path_to_save}\n",
    "\n"
   ]
  },
  {
   "cell_type": "code",
   "execution_count": 3,
   "metadata": {
    "papermill": {
     "duration": 0.08597,
     "end_time": "2020-03-13T21:14:21.581093",
     "exception": false,
     "start_time": "2020-03-13T21:14:21.495123",
     "status": "completed"
    },
    "tags": [
     "injected-parameters"
    ]
   },
   "outputs": [],
   "source": [
    "# Parameters\n",
    "train_val_test_fig_params = {\"fig_params\": {\"figsize\": \"(6, 6)\"}}\n",
    "train_val_test_val_params = {\n",
    "    \"marker\": \"s\",\n",
    "    \"s\": 64,\n",
    "    \"alpha\": 0.2,\n",
    "    \"color\": \"salmon\",\n",
    "    \"label\": \"val\",\n",
    "}\n",
    "train_val_test_test_params = {\n",
    "    \"marker\": \"s\",\n",
    "    \"s\": 64,\n",
    "    \"alpha\": 0.5,\n",
    "    \"color\": \"royalblue\",\n",
    "    \"label\": \"test\",\n",
    "}\n",
    "train_val_test_train_params = {\n",
    "    \"marker\": \"o\",\n",
    "    \"s\": 3,\n",
    "    \"alpha\": 1,\n",
    "    \"color\": \"green\",\n",
    "    \"label\": \"train\",\n",
    "}\n",
    "train_val_test_legend_params = {\"framealpha\": 0.8, \"loc\": \"upper right\", \"fontsize\": 16}\n",
    "train_val_test_xlabel_params = {\"xlabel\": \"$t_2$\", \"fontsize\": 24}\n",
    "train_val_test_ylabel_params = {\"ylabel\": \"$t_1$\", \"fontsize\": 24}\n",
    "train_val_test_title_params = {}\n",
    "train_val_test_xlim_params = {\"left\": -2, \"right\": 2}\n",
    "train_val_test_ylim_params = {\"bottom\": -2, \"top\": 2}\n",
    "train_val_test_xticks_params = {\"fontsize\": 14}\n",
    "train_val_test_yticks_params = {\"fontsize\": 14}\n",
    "train_val_test_tight_params = {}\n",
    "train_val_test_savefig_params = {\n",
    "    \"fname\": \"/home/linneu/ml_topological_phases_in_real_space/paper/ssh1/periodic_100_6561/train_val_test_split_experiment_0.png\"\n",
    "}\n",
    "train_winding_fig_params = {\"fig_params\": {\"figsize\": \"(6, 6)\"}}\n",
    "train_winding_winding_params = {\n",
    "    \"0\": {\"marker\": \"o\", \"s\": 10, \"color\": \"red\", \"label\": 0},\n",
    "    \"1\": {\"marker\": \"o\", \"s\": 10, \"color\": \"blue\", \"label\": 1},\n",
    "}\n",
    "train_winding_legend_params = {\"framealpha\": 0.8, \"loc\": \"upper right\", \"fontsize\": 16}\n",
    "train_winding_xlabel_params = {\"xlabel\": \"$t_2$\", \"fontsize\": 24}\n",
    "train_winding_ylabel_params = {\"ylabel\": \"$t_1$\", \"fontsize\": 24}\n",
    "train_winding_title_params = {}\n",
    "train_winding_xlim_params = {\"left\": -2, \"right\": 2}\n",
    "train_winding_ylim_params = {\"bottom\": -2, \"top\": 2}\n",
    "train_winding_xticks_params = {\"fontsize\": 14}\n",
    "train_winding_yticks_params = {\"fontsize\": 14}\n",
    "train_winding_tight_params = {}\n",
    "train_winding_savefig_params = {\n",
    "    \"fname\": \"/home/linneu/ml_topological_phases_in_real_space/paper/ssh1/periodic_100_6561/train_winding_labels_experiment_0.png\"\n",
    "}\n",
    "prediction_grid_fig_params = {\"fig_params\": {\"figsize\": \"(6, 6)\"}}\n",
    "prediction_grid_winding_params = {\n",
    "    \"0\": {\"marker\": \"o\", \"s\": 10, \"color\": \"red\", \"label\": 0},\n",
    "    \"1\": {\"marker\": \"o\", \"s\": 10, \"color\": \"blue\", \"label\": 1},\n",
    "}\n",
    "prediction_grid_pcolormesh_params = {\"cmap\": \"ssh1\", \"alpha\": 0.5}\n",
    "prediction_grid_legend_params = {\n",
    "    \"framealpha\": 0.8,\n",
    "    \"loc\": \"upper right\",\n",
    "    \"fontsize\": 16,\n",
    "}\n",
    "prediction_grid_xlabel_params = {\"xlabel\": \"$t_2$\", \"fontsize\": 24}\n",
    "prediction_grid_ylabel_params = {\"ylabel\": \"$t_1$\", \"fontsize\": 24}\n",
    "prediction_grid_title_params = {}\n",
    "prediction_grid_xlim_params = {\"left\": -2, \"right\": 2}\n",
    "prediction_grid_ylim_params = {\"bottom\": -2, \"top\": 2}\n",
    "prediction_grid_xticks_params = {\"fontsize\": 14}\n",
    "prediction_grid_yticks_params = {\"fontsize\": 14}\n",
    "prediction_grid_tight_params = {}\n",
    "prediction_grid_savefig_params = {\n",
    "    \"fname\": \"/home/linneu/ml_topological_phases_in_real_space/paper/ssh1/periodic_100_6561/prediction_grid_experiment_0.png\"\n",
    "}\n",
    "winding_heatmap_winding = 1\n",
    "winding_heatmap_imshow_params = {\n",
    "    \"cmap\": \"bwr_r\",\n",
    "    \"aspect\": \"equal\",\n",
    "    \"alpha\": None,\n",
    "    \"origin\": \"lower\",\n",
    "    \"extent\": [-2, 2, -2, 2],\n",
    "    \"vmin\": 0,\n",
    "    \"vmax\": 1,\n",
    "}\n",
    "winding_heatmap_colorbar_params = {\"mappable\": None, \"labelsize\": 24}\n",
    "winding_heatmap_fig_params = {\"figsize\": \"(12, 12)\"}\n",
    "winding_heatmap_xlabel_params = {\"xlabel\": \"$t_2$\", \"fontsize\": 48}\n",
    "winding_heatmap_ylabel_params = {\"ylabel\": \"$t_1$\", \"fontsize\": 48}\n",
    "winding_heatmap_title_params = {}\n",
    "winding_heatmap_xlim_params = {\"left\": -2, \"right\": 2}\n",
    "winding_heatmap_ylim_params = {\"bottom\": -2, \"top\": 2}\n",
    "winding_heatmap_xticks_params = {\"fontsize\": 24}\n",
    "winding_heatmap_yticks_params = {\"fontsize\": 24}\n",
    "winding_heatmap_tight_params = {}\n",
    "winding_heatmap_savefig_params = {\n",
    "    \"fname\": \"/home/linneu/ml_topological_phases_in_real_space/paper/ssh1/periodic_100_6561/winding_1_grid_experiment_0.png\"\n",
    "}\n",
    "sim_winding_heatmap_winding_params = {\n",
    "    \"1\": {\n",
    "        \"cmap\": \"bwr_r\",\n",
    "        \"aspect\": \"equal\",\n",
    "        \"alpha\": None,\n",
    "        \"origin\": \"lower\",\n",
    "        \"extent\": [-2, 2, -2, 2],\n",
    "        \"vmin\": 0,\n",
    "        \"vmax\": 1,\n",
    "    }\n",
    "}\n",
    "sim_winding_heatmap_colorbar_params = {\n",
    "    \"1\": {\n",
    "        \"mappable\": None,\n",
    "        \"labelsize\": 24,\n",
    "        \"ticks\": [0, 0.2, 0.4, 0.6, 0.8, 1.0],\n",
    "        \"pad\": 0.1,\n",
    "        \"shrink\": 0.8,\n",
    "        \"extend\": \"neither\",\n",
    "    }\n",
    "}\n",
    "sim_winding_heatmap_fig_params = {\"figsize\": \"(12, 12)\"}\n",
    "sim_winding_heatmap_xlabel_params = {\"xlabel\": \"$t_2$\", \"fontsize\": 48}\n",
    "sim_winding_heatmap_ylabel_params = {\"ylabel\": \"$t_1$\", \"fontsize\": 48}\n",
    "sim_winding_heatmap_title_params = {}\n",
    "sim_winding_heatmap_xlim_params = {\"left\": -2, \"right\": 2}\n",
    "sim_winding_heatmap_ylim_params = {\"bottom\": -2, \"top\": 2}\n",
    "sim_winding_heatmap_xticks_params = {\"fontsize\": 24}\n",
    "sim_winding_heatmap_yticks_params = {\"fontsize\": 24}\n",
    "sim_winding_heatmap_tight_params = {}\n",
    "sim_winding_heatmap_savefig_params = {\n",
    "    \"fname\": \"/home/linneu/ml_topological_phases_in_real_space/paper/ssh1/periodic_100_6561/bootstrapped_merged_winding_grid.png\"\n",
    "}\n",
    "feature_importances_n_features = None\n",
    "feature_importances_plot_type = \"bar\"\n",
    "feature_importances_plot_params = {\"color\": \"indianred\", \"width\": 0.7}\n",
    "feature_importances_hist_precision = 1000\n",
    "feature_importances_fig_params = {\"figsize\": \"(12, 12)\"}\n",
    "feature_importances_xlabel_params = {\"xlabel\": \"lattice site\", \"fontsize\": 24}\n",
    "feature_importances_ylabel_params = {\n",
    "    \"ylabel\": \"reduction in information entropy (%)\",\n",
    "    \"fontsize\": 24,\n",
    "}\n",
    "feature_importances_title_params = {\n",
    "    \"label\": \"Information entropy signature - SSH 1\",\n",
    "    \"fontsize\": 24,\n",
    "}\n",
    "feature_importances_xlim_params = {}\n",
    "feature_importances_ylim_params = {}\n",
    "feature_importances_xticks_params = {\n",
    "    \"ticks\": [0, 11, 22, 33, 44, 55, 66, 77, 88, 99],\n",
    "    \"fontsize\": 24,\n",
    "}\n",
    "feature_importances_yticks_params = {\"fontsize\": 24}\n",
    "feature_importances_tight_params = {}\n",
    "feature_importances_savefig_params = {\n",
    "    \"fname\": \"/home/linneu/ml_topological_phases_in_real_space/paper/ssh1/periodic_100_6561/bootstrapped_feature_importances.png\"\n",
    "}\n",
    "cumulative_features_n_features = None\n",
    "cumulative_features_plot_type = \"bar\"\n",
    "cumulative_features_hist_precision = 1000\n",
    "cumulative_features_plot_params = {\"color\": \"indianred\", \"width\": 0.7}\n",
    "cumulative_features_fig_params = {\"figsize\": \"(12, 12)\"}\n",
    "cumulative_features_xlabel_params = {\"xlabel\": \"lattice site\", \"fontsize\": 24}\n",
    "cumulative_features_ylabel_params = {\n",
    "    \"ylabel\": \"cumulative reduction in information entropy (%)\",\n",
    "    \"fontsize\": 24,\n",
    "}\n",
    "cumulative_features_title_params = {\n",
    "    \"label\": \"Cumulative information entropy signature - SSH 1\",\n",
    "    \"fontsize\": 24,\n",
    "}\n",
    "cumulative_features_xlim_params = {}\n",
    "cumulative_features_ylim_params = {}\n",
    "cumulative_features_xticks_params = {\n",
    "    \"ticks\": [0, 11, 22, 33, 44, 55, 66, 77, 88, 99],\n",
    "    \"fontsize\": 24,\n",
    "}\n",
    "cumulative_features_yticks_params = {\"fontsize\": 24}\n",
    "cumulative_features_tight_params = {}\n",
    "cumulative_features_savefig_params = {\n",
    "    \"fname\": \"/home/linneu/ml_topological_phases_in_real_space/paper/ssh1/periodic_100_6561/bootstrapped_cumulative_feature_importances.png\"\n",
    "}\n",
    "simulation_dir = \"/home/linneu/ssh_simulations/ssh1/periodic_100_6561\"\n",
    "experiment_name = \"0\"\n"
   ]
  },
  {
   "cell_type": "markdown",
   "metadata": {
    "papermill": {
     "duration": 0.029708,
     "end_time": "2020-03-13T21:14:21.643937",
     "exception": false,
     "start_time": "2020-03-13T21:14:21.614229",
     "status": "completed"
    },
    "tags": []
   },
   "source": [
    "## Results from a single experiment"
   ]
  },
  {
   "cell_type": "markdown",
   "metadata": {
    "papermill": {
     "duration": 0.028695,
     "end_time": "2020-03-13T21:14:21.701336",
     "exception": false,
     "start_time": "2020-03-13T21:14:21.672641",
     "status": "completed"
    },
    "tags": []
   },
   "source": [
    "#### Initializing Experiment instance"
   ]
  },
  {
   "cell_type": "code",
   "execution_count": 4,
   "metadata": {
    "papermill": {
     "duration": 0.338087,
     "end_time": "2020-03-13T21:14:22.069420",
     "exception": false,
     "start_time": "2020-03-13T21:14:21.731333",
     "status": "completed"
    },
    "tags": []
   },
   "outputs": [],
   "source": [
    "experiment = Experiment(simulation_dir, experiment_name)"
   ]
  },
  {
   "cell_type": "markdown",
   "metadata": {
    "papermill": {
     "duration": 0.031023,
     "end_time": "2020-03-13T21:14:22.133655",
     "exception": false,
     "start_time": "2020-03-13T21:14:22.102632",
     "status": "completed"
    },
    "tags": []
   },
   "source": [
    "#### Viewing Train/Val/Test split"
   ]
  },
  {
   "cell_type": "code",
   "execution_count": 5,
   "metadata": {
    "papermill": {
     "duration": 0.057193,
     "end_time": "2020-03-13T21:14:22.221056",
     "exception": false,
     "start_time": "2020-03-13T21:14:22.163863",
     "status": "completed"
    },
    "tags": []
   },
   "outputs": [
    {
     "name": "stdout",
     "output_type": "stream",
     "text": [
      "% train:  0.08474317939338516\n",
      "% val:  0.7620789513793629\n",
      "% test:  0.15317786922725193\n",
      "% train + val + test:  1.0\n",
      "\n",
      "\n",
      "number of train hamiltonians:  556\n",
      "number of val hamiltonians:  5000\n",
      "number of test hamiltonians:  1005\n",
      "total number of hamiltonians:  6561\n"
     ]
    }
   ],
   "source": [
    "experiment.print_train_val_test()"
   ]
  },
  {
   "cell_type": "markdown",
   "metadata": {
    "papermill": {
     "duration": 0.02911,
     "end_time": "2020-03-13T21:14:22.282469",
     "exception": false,
     "start_time": "2020-03-13T21:14:22.253359",
     "status": "completed"
    },
    "tags": []
   },
   "source": [
    "#### Viewing dataset summary"
   ]
  },
  {
   "cell_type": "code",
   "execution_count": 6,
   "metadata": {
    "papermill": {
     "duration": 0.069465,
     "end_time": "2020-03-13T21:14:22.380809",
     "exception": false,
     "start_time": "2020-03-13T21:14:22.311344",
     "status": "completed"
    },
    "tags": []
   },
   "outputs": [
    {
     "name": "stdout",
     "output_type": "stream",
     "text": [
      "Summary of train + val data\n",
      "\n",
      "% train/val phases: \n",
      "0    0.507919\n",
      "1    0.492081\n",
      "Name: phase, dtype: float64\n",
      "\n",
      "\n",
      "total train/val phases: \n",
      "0    2822\n",
      "1    2734\n",
      "Name: phase, dtype: int64\n",
      "\n",
      "\n",
      "Summary of test data\n",
      "\n",
      "% test phases: \n",
      "1    0.552133\n",
      "0    0.447867\n",
      "Name: phase, dtype: float64\n",
      "\n",
      "\n",
      "total test phases: \n",
      "1    466\n",
      "0    378\n",
      "Name: phase, dtype: int64\n",
      "\n",
      "\n",
      "Summary of train + val + test data\n",
      "\n",
      "% phases: \n",
      "1    0.5\n",
      "0    0.5\n",
      "Name: phase, dtype: float64\n",
      "\n",
      "\n",
      "total phases: \n",
      "1    3200\n",
      "0    3200\n",
      "Name: phase, dtype: int64\n"
     ]
    }
   ],
   "source": [
    "experiment.print_phases()"
   ]
  },
  {
   "cell_type": "markdown",
   "metadata": {
    "papermill": {
     "duration": 0.022969,
     "end_time": "2020-03-13T21:14:22.433418",
     "exception": false,
     "start_time": "2020-03-13T21:14:22.410449",
     "status": "completed"
    },
    "tags": []
   },
   "source": [
    "#### Viewing eigenvector summary"
   ]
  },
  {
   "cell_type": "code",
   "execution_count": 7,
   "metadata": {
    "papermill": {
     "duration": 0.064627,
     "end_time": "2020-03-13T21:14:22.521167",
     "exception": false,
     "start_time": "2020-03-13T21:14:22.456540",
     "status": "completed"
    },
    "tags": []
   },
   "outputs": [
    {
     "data": {
      "text/html": [
       "<div>\n",
       "<style scoped>\n",
       "    .dataframe tbody tr th:only-of-type {\n",
       "        vertical-align: middle;\n",
       "    }\n",
       "\n",
       "    .dataframe tbody tr th {\n",
       "        vertical-align: top;\n",
       "    }\n",
       "\n",
       "    .dataframe thead th {\n",
       "        text-align: right;\n",
       "    }\n",
       "</style>\n",
       "<table border=\"1\" class=\"dataframe\">\n",
       "  <thead>\n",
       "    <tr style=\"text-align: right;\">\n",
       "      <th></th>\n",
       "      <th>id</th>\n",
       "      <th>phase</th>\n",
       "      <th>pred_phase</th>\n",
       "      <th>type_of</th>\n",
       "    </tr>\n",
       "  </thead>\n",
       "  <tbody>\n",
       "    <tr>\n",
       "      <th>0</th>\n",
       "      <td>0</td>\n",
       "      <td>999</td>\n",
       "      <td>0</td>\n",
       "      <td>test</td>\n",
       "    </tr>\n",
       "    <tr>\n",
       "      <th>1</th>\n",
       "      <td>0</td>\n",
       "      <td>999</td>\n",
       "      <td>0</td>\n",
       "      <td>test</td>\n",
       "    </tr>\n",
       "    <tr>\n",
       "      <th>2</th>\n",
       "      <td>0</td>\n",
       "      <td>999</td>\n",
       "      <td>0</td>\n",
       "      <td>test</td>\n",
       "    </tr>\n",
       "    <tr>\n",
       "      <th>3</th>\n",
       "      <td>0</td>\n",
       "      <td>999</td>\n",
       "      <td>0</td>\n",
       "      <td>test</td>\n",
       "    </tr>\n",
       "    <tr>\n",
       "      <th>4</th>\n",
       "      <td>0</td>\n",
       "      <td>999</td>\n",
       "      <td>0</td>\n",
       "      <td>test</td>\n",
       "    </tr>\n",
       "  </tbody>\n",
       "</table>\n",
       "</div>"
      ],
      "text/plain": [
       "   id  phase  pred_phase type_of\n",
       "0   0    999           0    test\n",
       "1   0    999           0    test\n",
       "2   0    999           0    test\n",
       "3   0    999           0    test\n",
       "4   0    999           0    test"
      ]
     },
     "execution_count": 7,
     "metadata": {},
     "output_type": "execute_result"
    }
   ],
   "source": [
    "experiment.eigenvector_summary.head()"
   ]
  },
  {
   "cell_type": "markdown",
   "metadata": {
    "papermill": {
     "duration": 0.024122,
     "end_time": "2020-03-13T21:14:22.573149",
     "exception": false,
     "start_time": "2020-03-13T21:14:22.549027",
     "status": "completed"
    },
    "tags": []
   },
   "source": [
    "#### Vieweng Hamiltonian summary"
   ]
  },
  {
   "cell_type": "code",
   "execution_count": 8,
   "metadata": {
    "papermill": {
     "duration": 0.060784,
     "end_time": "2020-03-13T21:14:22.658052",
     "exception": false,
     "start_time": "2020-03-13T21:14:22.597268",
     "status": "completed"
    },
    "tags": []
   },
   "outputs": [
    {
     "data": {
      "text/html": [
       "<div>\n",
       "<style scoped>\n",
       "    .dataframe tbody tr th:only-of-type {\n",
       "        vertical-align: middle;\n",
       "    }\n",
       "\n",
       "    .dataframe tbody tr th {\n",
       "        vertical-align: top;\n",
       "    }\n",
       "\n",
       "    .dataframe thead th {\n",
       "        text-align: right;\n",
       "    }\n",
       "</style>\n",
       "<table border=\"1\" class=\"dataframe\">\n",
       "  <thead>\n",
       "    <tr style=\"text-align: right;\">\n",
       "      <th></th>\n",
       "      <th>t1</th>\n",
       "      <th>t2</th>\n",
       "      <th>type_of</th>\n",
       "      <th>0</th>\n",
       "      <th>1</th>\n",
       "      <th>phase</th>\n",
       "      <th>pred_phase</th>\n",
       "    </tr>\n",
       "    <tr>\n",
       "      <th>id</th>\n",
       "      <th></th>\n",
       "      <th></th>\n",
       "      <th></th>\n",
       "      <th></th>\n",
       "      <th></th>\n",
       "      <th></th>\n",
       "      <th></th>\n",
       "    </tr>\n",
       "  </thead>\n",
       "  <tbody>\n",
       "    <tr>\n",
       "      <th>0</th>\n",
       "      <td>-2.0</td>\n",
       "      <td>-2.00</td>\n",
       "      <td>test</td>\n",
       "      <td>0.66</td>\n",
       "      <td>0.34</td>\n",
       "      <td>999</td>\n",
       "      <td>0</td>\n",
       "    </tr>\n",
       "    <tr>\n",
       "      <th>1</th>\n",
       "      <td>-2.0</td>\n",
       "      <td>-1.95</td>\n",
       "      <td>test</td>\n",
       "      <td>0.79</td>\n",
       "      <td>0.21</td>\n",
       "      <td>0</td>\n",
       "      <td>0</td>\n",
       "    </tr>\n",
       "    <tr>\n",
       "      <th>2</th>\n",
       "      <td>-2.0</td>\n",
       "      <td>-1.90</td>\n",
       "      <td>test</td>\n",
       "      <td>0.82</td>\n",
       "      <td>0.18</td>\n",
       "      <td>0</td>\n",
       "      <td>0</td>\n",
       "    </tr>\n",
       "    <tr>\n",
       "      <th>3</th>\n",
       "      <td>-2.0</td>\n",
       "      <td>-1.85</td>\n",
       "      <td>test</td>\n",
       "      <td>0.86</td>\n",
       "      <td>0.14</td>\n",
       "      <td>0</td>\n",
       "      <td>0</td>\n",
       "    </tr>\n",
       "    <tr>\n",
       "      <th>4</th>\n",
       "      <td>-2.0</td>\n",
       "      <td>-1.80</td>\n",
       "      <td>test</td>\n",
       "      <td>0.89</td>\n",
       "      <td>0.11</td>\n",
       "      <td>0</td>\n",
       "      <td>0</td>\n",
       "    </tr>\n",
       "  </tbody>\n",
       "</table>\n",
       "</div>"
      ],
      "text/plain": [
       "     t1    t2 type_of     0     1  phase  pred_phase\n",
       "id                                                  \n",
       "0  -2.0 -2.00    test  0.66  0.34    999           0\n",
       "1  -2.0 -1.95    test  0.79  0.21      0           0\n",
       "2  -2.0 -1.90    test  0.82  0.18      0           0\n",
       "3  -2.0 -1.85    test  0.86  0.14      0           0\n",
       "4  -2.0 -1.80    test  0.89  0.11      0           0"
      ]
     },
     "execution_count": 8,
     "metadata": {},
     "output_type": "execute_result"
    }
   ],
   "source": [
    "experiment.hamiltonian_summary.head()"
   ]
  },
  {
   "cell_type": "markdown",
   "metadata": {
    "papermill": {
     "duration": 0.024251,
     "end_time": "2020-03-13T21:14:22.712930",
     "exception": false,
     "start_time": "2020-03-13T21:14:22.688679",
     "status": "completed"
    },
    "tags": []
   },
   "source": [
    "#### Viewing accuracy"
   ]
  },
  {
   "cell_type": "code",
   "execution_count": 9,
   "metadata": {
    "papermill": {
     "duration": 0.052036,
     "end_time": "2020-03-13T21:14:22.789128",
     "exception": false,
     "start_time": "2020-03-13T21:14:22.737092",
     "status": "completed"
    },
    "tags": []
   },
   "outputs": [
    {
     "data": {
      "text/plain": [
       "{'eigenvector_train': 0.9829496402877698,\n",
       " 'eigenvector_val': 0.963464,\n",
       " 'eigenvector_test': 0.7753909952606635,\n",
       " 'hamiltonian_train': 1.0,\n",
       " 'hamiltonian_val': 1.0,\n",
       " 'hamiltonian_test': 0.9158767772511849}"
      ]
     },
     "execution_count": 9,
     "metadata": {},
     "output_type": "execute_result"
    }
   ],
   "source": [
    "experiment.accuracy"
   ]
  },
  {
   "cell_type": "markdown",
   "metadata": {
    "papermill": {
     "duration": 0.02649,
     "end_time": "2020-03-13T21:14:22.845821",
     "exception": false,
     "start_time": "2020-03-13T21:14:22.819331",
     "status": "completed"
    },
    "tags": []
   },
   "source": [
    "#### Visualizing train/val/test splits with scatter plot for a single experiment"
   ]
  },
  {
   "cell_type": "code",
   "execution_count": 10,
   "metadata": {
    "papermill": {
     "duration": 0.074919,
     "end_time": "2020-03-13T21:14:22.945375",
     "exception": true,
     "start_time": "2020-03-13T21:14:22.870456",
     "status": "failed"
    },
    "tags": []
   },
   "outputs": [
    {
     "ename": "TypeError",
     "evalue": "__init__() got an unexpected keyword argument 'fig_params'",
     "output_type": "error",
     "traceback": [
      "\u001b[0;31m---------------------------------------------------------------------------\u001b[0m",
      "\u001b[0;31mTypeError\u001b[0m                                 Traceback (most recent call last)",
      "\u001b[0;32m<ipython-input-10-13729a506e85>\u001b[0m in \u001b[0;36m<module>\u001b[0;34m\u001b[0m\n\u001b[1;32m      5\u001b[0m                                   \u001b[0mtrain_val_test_xlim_params\u001b[0m\u001b[0;34m,\u001b[0m \u001b[0mtrain_val_test_ylim_params\u001b[0m\u001b[0;34m,\u001b[0m\u001b[0;34m\u001b[0m\u001b[0;34m\u001b[0m\u001b[0m\n\u001b[1;32m      6\u001b[0m                                   \u001b[0mtrain_val_test_xticks_params\u001b[0m\u001b[0;34m,\u001b[0m \u001b[0mtrain_val_test_yticks_params\u001b[0m\u001b[0;34m,\u001b[0m\u001b[0;34m\u001b[0m\u001b[0;34m\u001b[0m\u001b[0m\n\u001b[0;32m----> 7\u001b[0;31m                                   train_val_test_tight_params, train_val_test_savefig_params)\n\u001b[0m",
      "\u001b[0;32m~/ml_topological_phases_in_real_space/2_results/simulation_results.py\u001b[0m in \u001b[0;36mscatter_train_val_test\u001b[0;34m(self, val_params, test_params, train_params, legend_params, fig_params, xlabel_params, ylabel_params, title_params, xlim_params, ylim_params, xticks_params, yticks_params, tight_params, savefig_params)\u001b[0m\n\u001b[1;32m    223\u001b[0m         \u001b[0mtest_params\u001b[0m\u001b[0;34m[\u001b[0m\u001b[0;34m\"y\"\u001b[0m\u001b[0;34m]\u001b[0m \u001b[0;34m=\u001b[0m \u001b[0mt1_test\u001b[0m\u001b[0;34m\u001b[0m\u001b[0;34m\u001b[0m\u001b[0m\n\u001b[1;32m    224\u001b[0m         \u001b[0;31m### plotting\u001b[0m\u001b[0;34m\u001b[0m\u001b[0;34m\u001b[0m\u001b[0;34m\u001b[0m\u001b[0m\n\u001b[0;32m--> 225\u001b[0;31m         \u001b[0mfigure\u001b[0m \u001b[0;34m=\u001b[0m \u001b[0mself\u001b[0m\u001b[0;34m.\u001b[0m\u001b[0mcreate_plot\u001b[0m\u001b[0;34m(\u001b[0m\u001b[0mfig_params\u001b[0m\u001b[0;34m,\u001b[0m \u001b[0mxlabel_params\u001b[0m\u001b[0;34m,\u001b[0m \u001b[0mylabel_params\u001b[0m\u001b[0;34m,\u001b[0m \u001b[0mtitle_params\u001b[0m\u001b[0;34m,\u001b[0m \u001b[0mxlim_params\u001b[0m\u001b[0;34m,\u001b[0m \u001b[0mylim_params\u001b[0m\u001b[0;34m,\u001b[0m \u001b[0mxticks_params\u001b[0m\u001b[0;34m,\u001b[0m \u001b[0myticks_params\u001b[0m\u001b[0;34m)\u001b[0m\u001b[0;34m\u001b[0m\u001b[0;34m\u001b[0m\u001b[0m\n\u001b[0m\u001b[1;32m    226\u001b[0m         \u001b[0mplt\u001b[0m\u001b[0;34m.\u001b[0m\u001b[0mscatter\u001b[0m\u001b[0;34m(\u001b[0m\u001b[0;34m**\u001b[0m\u001b[0mval_params\u001b[0m\u001b[0;34m)\u001b[0m\u001b[0;34m\u001b[0m\u001b[0;34m\u001b[0m\u001b[0m\n\u001b[1;32m    227\u001b[0m         \u001b[0mplt\u001b[0m\u001b[0;34m.\u001b[0m\u001b[0mscatter\u001b[0m\u001b[0;34m(\u001b[0m\u001b[0;34m**\u001b[0m\u001b[0mtest_params\u001b[0m\u001b[0;34m)\u001b[0m\u001b[0;34m\u001b[0m\u001b[0;34m\u001b[0m\u001b[0m\n",
      "\u001b[0;32m~/ml_topological_phases_in_real_space/2_results/simulation_results.py\u001b[0m in \u001b[0;36mcreate_plot\u001b[0;34m(self, fig_params, xlabel_params, ylabel_params, title_params, xlim_params, ylim_params, xticks_params, yticks_params)\u001b[0m\n\u001b[1;32m    168\u001b[0m         \u001b[0mfigure\u001b[0m\u001b[0;34m:\u001b[0m \u001b[0ma\u001b[0m \u001b[0mfigure\u001b[0m \u001b[0;32mwith\u001b[0m \u001b[0mproperly\u001b[0m \u001b[0mset\u001b[0m \u001b[0maxes\u001b[0m \u001b[0;32mfor\u001b[0m \u001b[0mplotting\u001b[0m\u001b[0;34m.\u001b[0m\u001b[0mListedColormap\u001b[0m\u001b[0;34m(\u001b[0m\u001b[0;34m[\u001b[0m\u001b[0;34m\"hotpink\"\u001b[0m\u001b[0;34m,\u001b[0m \u001b[0;34m\"lightskyblue\"\u001b[0m\u001b[0;34m]\u001b[0m\u001b[0;34m)\u001b[0m\u001b[0;34m\u001b[0m\u001b[0;34m\u001b[0m\u001b[0m\n\u001b[1;32m    169\u001b[0m         \"\"\"\n\u001b[0;32m--> 170\u001b[0;31m         \u001b[0mfigure\u001b[0m \u001b[0;34m=\u001b[0m \u001b[0mplt\u001b[0m\u001b[0;34m.\u001b[0m\u001b[0mfigure\u001b[0m\u001b[0;34m(\u001b[0m\u001b[0;34m**\u001b[0m\u001b[0mfig_params\u001b[0m\u001b[0;34m)\u001b[0m\u001b[0;34m\u001b[0m\u001b[0;34m\u001b[0m\u001b[0m\n\u001b[0m\u001b[1;32m    171\u001b[0m         \u001b[0;31m#if fit_axes:\u001b[0m\u001b[0;34m\u001b[0m\u001b[0;34m\u001b[0m\u001b[0;34m\u001b[0m\u001b[0m\n\u001b[1;32m    172\u001b[0m         \u001b[0;31m#    plt.xlim(np.min(self.t2), np.max(self.t2))\u001b[0m\u001b[0;34m\u001b[0m\u001b[0;34m\u001b[0m\u001b[0;34m\u001b[0m\u001b[0m\n",
      "\u001b[0;32m~/anaconda3/envs/ml_top_phases/lib/python3.6/site-packages/matplotlib/pyplot.py\u001b[0m in \u001b[0;36mfigure\u001b[0;34m(num, figsize, dpi, facecolor, edgecolor, frameon, FigureClass, clear, **kwargs)\u001b[0m\n\u001b[1;32m    543\u001b[0m                                         \u001b[0mframeon\u001b[0m\u001b[0;34m=\u001b[0m\u001b[0mframeon\u001b[0m\u001b[0;34m,\u001b[0m\u001b[0;34m\u001b[0m\u001b[0;34m\u001b[0m\u001b[0m\n\u001b[1;32m    544\u001b[0m                                         \u001b[0mFigureClass\u001b[0m\u001b[0;34m=\u001b[0m\u001b[0mFigureClass\u001b[0m\u001b[0;34m,\u001b[0m\u001b[0;34m\u001b[0m\u001b[0;34m\u001b[0m\u001b[0m\n\u001b[0;32m--> 545\u001b[0;31m                                         **kwargs)\n\u001b[0m\u001b[1;32m    546\u001b[0m \u001b[0;34m\u001b[0m\u001b[0m\n\u001b[1;32m    547\u001b[0m         \u001b[0;32mif\u001b[0m \u001b[0mfigLabel\u001b[0m\u001b[0;34m:\u001b[0m\u001b[0;34m\u001b[0m\u001b[0;34m\u001b[0m\u001b[0m\n",
      "\u001b[0;32m~/anaconda3/envs/ml_top_phases/lib/python3.6/site-packages/matplotlib/backend_bases.py\u001b[0m in \u001b[0;36mnew_figure_manager\u001b[0;34m(cls, num, *args, **kwargs)\u001b[0m\n\u001b[1;32m   3258\u001b[0m         \u001b[0;32mfrom\u001b[0m \u001b[0mmatplotlib\u001b[0m\u001b[0;34m.\u001b[0m\u001b[0mfigure\u001b[0m \u001b[0;32mimport\u001b[0m \u001b[0mFigure\u001b[0m\u001b[0;34m\u001b[0m\u001b[0;34m\u001b[0m\u001b[0m\n\u001b[1;32m   3259\u001b[0m         \u001b[0mfig_cls\u001b[0m \u001b[0;34m=\u001b[0m \u001b[0mkwargs\u001b[0m\u001b[0;34m.\u001b[0m\u001b[0mpop\u001b[0m\u001b[0;34m(\u001b[0m\u001b[0;34m'FigureClass'\u001b[0m\u001b[0;34m,\u001b[0m \u001b[0mFigure\u001b[0m\u001b[0;34m)\u001b[0m\u001b[0;34m\u001b[0m\u001b[0;34m\u001b[0m\u001b[0m\n\u001b[0;32m-> 3260\u001b[0;31m         \u001b[0mfig\u001b[0m \u001b[0;34m=\u001b[0m \u001b[0mfig_cls\u001b[0m\u001b[0;34m(\u001b[0m\u001b[0;34m*\u001b[0m\u001b[0margs\u001b[0m\u001b[0;34m,\u001b[0m \u001b[0;34m**\u001b[0m\u001b[0mkwargs\u001b[0m\u001b[0;34m)\u001b[0m\u001b[0;34m\u001b[0m\u001b[0;34m\u001b[0m\u001b[0m\n\u001b[0m\u001b[1;32m   3261\u001b[0m         \u001b[0;32mreturn\u001b[0m \u001b[0mcls\u001b[0m\u001b[0;34m.\u001b[0m\u001b[0mnew_figure_manager_given_figure\u001b[0m\u001b[0;34m(\u001b[0m\u001b[0mnum\u001b[0m\u001b[0;34m,\u001b[0m \u001b[0mfig\u001b[0m\u001b[0;34m)\u001b[0m\u001b[0;34m\u001b[0m\u001b[0;34m\u001b[0m\u001b[0m\n\u001b[1;32m   3262\u001b[0m \u001b[0;34m\u001b[0m\u001b[0m\n",
      "\u001b[0;31mTypeError\u001b[0m: __init__() got an unexpected keyword argument 'fig_params'"
     ]
    }
   ],
   "source": [
    "experiment.scatter_train_val_test(train_val_test_val_params, train_val_test_test_params, \n",
    "                                  train_val_test_train_params, train_val_test_legend_params, \n",
    "                                  train_val_test_fig_params, train_val_test_xlabel_params, \n",
    "                                  train_val_test_ylabel_params, train_val_test_title_params, \n",
    "                                  train_val_test_xlim_params, train_val_test_ylim_params, \n",
    "                                  train_val_test_xticks_params, train_val_test_yticks_params,\n",
    "                                  train_val_test_tight_params, train_val_test_savefig_params)"
   ]
  },
  {
   "cell_type": "markdown",
   "metadata": {
    "papermill": {
     "duration": null,
     "end_time": null,
     "exception": null,
     "start_time": null,
     "status": "pending"
    },
    "tags": []
   },
   "source": [
    "#### Plotting train winding labels with scatter plot for a single experiment"
   ]
  },
  {
   "cell_type": "code",
   "execution_count": null,
   "metadata": {
    "papermill": {
     "duration": null,
     "end_time": null,
     "exception": null,
     "start_time": null,
     "status": "pending"
    },
    "tags": []
   },
   "outputs": [],
   "source": [
    "experiment.scatter_winding_train(train_winding_winding_params, train_winding_legend_params,\n",
    "                                 train_winding_fig_params, train_winding_xlabel_params,\n",
    "                                 train_winding_ylabel_params, train_winding_title_params,  \n",
    "                                 train_winding_xlim_params, train_winding_ylim_params, \n",
    "                                 train_winding_xticks_params, train_winding_yticks_params,\n",
    "                                 train_winding_tight_params, train_winding_savefig_params)"
   ]
  },
  {
   "cell_type": "markdown",
   "metadata": {
    "papermill": {
     "duration": null,
     "end_time": null,
     "exception": null,
     "start_time": null,
     "status": "pending"
    },
    "tags": []
   },
   "source": [
    "#### Plotting prediction grid with pcolormesh for a single experiment"
   ]
  },
  {
   "cell_type": "code",
   "execution_count": null,
   "metadata": {
    "papermill": {
     "duration": null,
     "end_time": null,
     "exception": null,
     "start_time": null,
     "status": "pending"
    },
    "tags": []
   },
   "outputs": [],
   "source": [
    "#prediction_grid_pcolormesh_params\": {\"cmap\": ListedColormap([\"hotpink\", \"lightskyblue\"]), \"alpha\": 0.5}\n",
    "experiment.pcolormesh_prediction_grid(prediction_grid_winding_params, prediction_grid_pcolormesh_params, \n",
    "                                      prediction_grid_legend_params, prediction_grid_fig_params, \n",
    "                                      prediction_grid_xlabel_params, prediction_grid_ylabel_params, \n",
    "                                      prediction_grid_title_params, prediction_grid_xlim_params, \n",
    "                                      prediction_grid_ylim_params, prediction_grid_xticks_params, \n",
    "                                      prediction_grid_yticks_params, prediction_grid_tight_params, \n",
    "                                      prediction_grid_savefig_params)"
   ]
  },
  {
   "cell_type": "markdown",
   "metadata": {
    "papermill": {
     "duration": null,
     "end_time": null,
     "exception": null,
     "start_time": null,
     "status": "pending"
    },
    "tags": []
   },
   "source": [
    "#### Plotting Winding Heatmaps for a single experiment"
   ]
  },
  {
   "cell_type": "code",
   "execution_count": null,
   "metadata": {
    "papermill": {
     "duration": null,
     "end_time": null,
     "exception": null,
     "start_time": null,
     "status": "pending"
    },
    "tags": []
   },
   "outputs": [],
   "source": [
    "experiment.imshow_winding_grid(winding_heatmap_winding, winding_heatmap_imshow_params, \n",
    "                               winding_heatmap_colorbar_params, winding_heatmap_fig_params, \n",
    "                               winding_heatmap_xlabel_params, winding_heatmap_ylabel_params, \n",
    "                               winding_heatmap_title_params, winding_heatmap_xlim_params, \n",
    "                               winding_heatmap_ylim_params, winding_heatmap_xticks_params, \n",
    "                               winding_heatmap_yticks_params, winding_heatmap_tight_params, \n",
    "                               winding_heatmap_savefig_params)"
   ]
  },
  {
   "cell_type": "markdown",
   "metadata": {
    "papermill": {
     "duration": null,
     "end_time": null,
     "exception": null,
     "start_time": null,
     "status": "pending"
    },
    "tags": []
   },
   "source": [
    "## Results from all experiments "
   ]
  },
  {
   "cell_type": "markdown",
   "metadata": {
    "papermill": {
     "duration": null,
     "end_time": null,
     "exception": null,
     "start_time": null,
     "status": "pending"
    },
    "tags": []
   },
   "source": [
    "#### Initializing ExperimentEnsemble instance"
   ]
  },
  {
   "cell_type": "code",
   "execution_count": null,
   "metadata": {
    "papermill": {
     "duration": null,
     "end_time": null,
     "exception": null,
     "start_time": null,
     "status": "pending"
    },
    "tags": []
   },
   "outputs": [],
   "source": [
    "simulation = ExperimentEnsemble(simulation_dir, n_experiments, load_hamiltonian_summary)"
   ]
  },
  {
   "cell_type": "markdown",
   "metadata": {
    "papermill": {
     "duration": null,
     "end_time": null,
     "exception": null,
     "start_time": null,
     "status": "pending"
    },
    "tags": []
   },
   "source": [
    "#### Computing Hamiltonian summary"
   ]
  },
  {
   "cell_type": "code",
   "execution_count": null,
   "metadata": {
    "papermill": {
     "duration": null,
     "end_time": null,
     "exception": null,
     "start_time": null,
     "status": "pending"
    },
    "tags": []
   },
   "outputs": [],
   "source": [
    "simulation.compute_hamiltonian_summary()"
   ]
  },
  {
   "cell_type": "markdown",
   "metadata": {
    "papermill": {
     "duration": null,
     "end_time": null,
     "exception": null,
     "start_time": null,
     "status": "pending"
    },
    "tags": []
   },
   "source": [
    "#### Plotting simulation winding heatmaps"
   ]
  },
  {
   "cell_type": "code",
   "execution_count": null,
   "metadata": {
    "papermill": {
     "duration": null,
     "end_time": null,
     "exception": null,
     "start_time": null,
     "status": "pending"
    },
    "tags": []
   },
   "outputs": [],
   "source": [
    "simulation.merge_imshow_winding_grids(sim_winding_heatmap_winding_params, sim_winding_heatmap_colorbar_params, \n",
    "                                      sim_winding_heatmap_fig_params, sim_winding_heatmap_xlabel_params, \n",
    "                                      sim_winding_heatmap_ylabel_params,sim_winding_heatmap_title_params, \n",
    "                                      sim_winding_heatmap_xlim_params, sim_winding_heatmap_ylim_params, \n",
    "                                      sim_winding_heatmap_xticks_params, sim_winding_heatmap_yticks_params,  \\\n",
    "                                      sim_winding_heatmap_tight_params, sim_winding_heatmap_savefig_params)"
   ]
  },
  {
   "cell_type": "markdown",
   "metadata": {
    "papermill": {
     "duration": null,
     "end_time": null,
     "exception": null,
     "start_time": null,
     "status": "pending"
    },
    "tags": []
   },
   "source": [
    "#### Computing mean accuracies"
   ]
  },
  {
   "cell_type": "code",
   "execution_count": null,
   "metadata": {
    "papermill": {
     "duration": null,
     "end_time": null,
     "exception": null,
     "start_time": null,
     "status": "pending"
    },
    "tags": []
   },
   "outputs": [],
   "source": [
    "save_to_disk = False\n",
    "simulation.compute_mean_accuracy(save_to_disk=save_to_disk)\n",
    "simulation.mean_accuracy"
   ]
  },
  {
   "cell_type": "markdown",
   "metadata": {
    "papermill": {
     "duration": null,
     "end_time": null,
     "exception": null,
     "start_time": null,
     "status": "pending"
    },
    "tags": []
   },
   "source": [
    "#### Computing bootstrap accuracies"
   ]
  },
  {
   "cell_type": "code",
   "execution_count": null,
   "metadata": {
    "papermill": {
     "duration": null,
     "end_time": null,
     "exception": null,
     "start_time": null,
     "status": "pending"
    },
    "tags": []
   },
   "outputs": [],
   "source": [
    "save_to_disk = False\n",
    "simulation.compute_bootstrap_accuracy(save_to_disk=save_to_disk)\n",
    "simulation.bootstrap_accuracy"
   ]
  },
  {
   "cell_type": "markdown",
   "metadata": {
    "papermill": {
     "duration": null,
     "end_time": null,
     "exception": null,
     "start_time": null,
     "status": "pending"
    },
    "tags": []
   },
   "source": [
    "#### Computing mean feature importances"
   ]
  },
  {
   "cell_type": "code",
   "execution_count": null,
   "metadata": {
    "papermill": {
     "duration": null,
     "end_time": null,
     "exception": null,
     "start_time": null,
     "status": "pending"
    },
    "tags": []
   },
   "outputs": [],
   "source": [
    "import operator\n",
    "save_to_disk = False\n",
    "simulation.compute_mean_feature_importance(save_to_disk=save_to_disk)\n",
    "### Sorted feature importances from highest to lowest\n",
    "sorted_feature_importances = sorted(simulation.feature_importance.items(), key=operator.itemgetter(1),reverse=True)\n",
    "print(\"Sorted feature importances: \")\n",
    "print(\"\\n\")\n",
    "print(sorted_feature_importances)"
   ]
  },
  {
   "cell_type": "markdown",
   "metadata": {
    "papermill": {
     "duration": null,
     "end_time": null,
     "exception": null,
     "start_time": null,
     "status": "pending"
    },
    "tags": []
   },
   "source": [
    "#### Plotting feature importances"
   ]
  },
  {
   "cell_type": "code",
   "execution_count": null,
   "metadata": {
    "papermill": {
     "duration": null,
     "end_time": null,
     "exception": null,
     "start_time": null,
     "status": "pending"
    },
    "tags": []
   },
   "outputs": [],
   "source": [
    "simulation.plot_feature_importances(feature_importances_n_features, feature_importances_plot_type,  \n",
    "                                    feature_importances_hist_precision, feature_importances_plot_params, \n",
    "                                    feature_importances_fig_params, feature_importances_xlabel_params, \n",
    "                                    feature_importances_ylabel_params, feature_importances_title_params, \n",
    "                                    feature_importances_xlim_params, feature_importances_ylim_params, \n",
    "                                    feature_importances_xticks_params, feature_importances_yticks_params, \n",
    "                                    feature_importances_tight_params, feature_importances_savefig_params)"
   ]
  },
  {
   "cell_type": "markdown",
   "metadata": {
    "papermill": {
     "duration": null,
     "end_time": null,
     "exception": null,
     "start_time": null,
     "status": "pending"
    },
    "tags": []
   },
   "source": [
    "#### Plotting cumulative feature importances"
   ]
  },
  {
   "cell_type": "code",
   "execution_count": null,
   "metadata": {
    "papermill": {
     "duration": null,
     "end_time": null,
     "exception": null,
     "start_time": null,
     "status": "pending"
    },
    "tags": []
   },
   "outputs": [],
   "source": [
    "simulation.plot_cumulative_feature_importances(cumulative_features_n_features, cumulative_features_plot_type,  \n",
    "                                               cumulative_features_hist_precision, cumulative_features_plot_params,\n",
    "                                               cumulative_features_fig_params, cumulative_features_xlabel_params, \n",
    "                                               cumulative_features_ylabel_params, cumulative_features_title_params,\n",
    "                                               cumulative_features_xlim_params, cumulative_features_ylim_params, \n",
    "                                               cumulative_features_xticks_params, cumulative_features_yticks_params, \n",
    "                                               cumulative_features_tight_params, cumulative_features_savefig_params)\n"
   ]
  },
  {
   "cell_type": "code",
   "execution_count": null,
   "metadata": {
    "papermill": {
     "duration": null,
     "end_time": null,
     "exception": null,
     "start_time": null,
     "status": "pending"
    },
    "tags": []
   },
   "outputs": [],
   "source": []
  },
  {
   "cell_type": "code",
   "execution_count": null,
   "metadata": {
    "papermill": {
     "duration": null,
     "end_time": null,
     "exception": null,
     "start_time": null,
     "status": "pending"
    },
    "tags": []
   },
   "outputs": [],
   "source": []
  },
  {
   "cell_type": "code",
   "execution_count": null,
   "metadata": {
    "papermill": {
     "duration": null,
     "end_time": null,
     "exception": null,
     "start_time": null,
     "status": "pending"
    },
    "tags": []
   },
   "outputs": [],
   "source": []
  },
  {
   "cell_type": "code",
   "execution_count": null,
   "metadata": {
    "papermill": {
     "duration": null,
     "end_time": null,
     "exception": null,
     "start_time": null,
     "status": "pending"
    },
    "tags": []
   },
   "outputs": [],
   "source": []
  }
 ],
 "metadata": {
  "celltoolbar": "Tags",
  "kernelspec": {
   "display_name": "Python [conda env:ml_top_phases] *",
   "language": "python",
   "name": "conda-env-ml_top_phases-py"
  },
  "language_info": {
   "codemirror_mode": {
    "name": "ipython",
    "version": 3
   },
   "file_extension": ".py",
   "mimetype": "text/x-python",
   "name": "python",
   "nbconvert_exporter": "python",
   "pygments_lexer": "ipython3",
   "version": "3.6.10"
  },
  "papermill": {
   "duration": 3.50379,
   "end_time": "2020-03-13T21:14:23.051721",
   "environment_variables": {},
   "exception": true,
   "input_path": "results_template_ssh1.ipynb",
   "output_path": "results_output_ssh1_periodic_100_6561.ipynb",
   "parameters": {
    "cumulative_features_fig_params": {
     "figsize": [
      12,
      12
     ]
    },
    "cumulative_features_hist_precision": 1000,
    "cumulative_features_n_features": null,
    "cumulative_features_plot_params": {
     "color": "indianred",
     "width": 0.7
    },
    "cumulative_features_plot_type": "bar",
    "cumulative_features_savefig_params": {
     "fname": "/home/linneu/ml_topological_phases_in_real_space/paper/ssh1/periodic_100_6561/bootstrapped_cumulative_feature_importances.png"
    },
    "cumulative_features_tight_params": {},
    "cumulative_features_title_params": {
     "fontsize": 24,
     "label": "Cumulative information entropy signature - SSH 1"
    },
    "cumulative_features_xlabel_params": {
     "fontsize": 24,
     "xlabel": "lattice site"
    },
    "cumulative_features_xlim_params": {},
    "cumulative_features_xticks_params": {
     "fontsize": 24,
     "ticks": [
      0,
      11,
      22,
      33,
      44,
      55,
      66,
      77,
      88,
      99
     ]
    },
    "cumulative_features_ylabel_params": {
     "fontsize": 24,
     "ylabel": "cumulative reduction in information entropy (%)"
    },
    "cumulative_features_ylim_params": {},
    "cumulative_features_yticks_params": {
     "fontsize": 24
    },
    "experiment_name": "0",
    "feature_importances_fig_params": {
     "figsize": [
      12,
      12
     ]
    },
    "feature_importances_hist_precision": 1000,
    "feature_importances_n_features": null,
    "feature_importances_plot_params": {
     "color": "indianred",
     "width": 0.7
    },
    "feature_importances_plot_type": "bar",
    "feature_importances_savefig_params": {
     "fname": "/home/linneu/ml_topological_phases_in_real_space/paper/ssh1/periodic_100_6561/bootstrapped_feature_importances.png"
    },
    "feature_importances_tight_params": {},
    "feature_importances_title_params": {
     "fontsize": 24,
     "label": "Information entropy signature - SSH 1"
    },
    "feature_importances_xlabel_params": {
     "fontsize": 24,
     "xlabel": "lattice site"
    },
    "feature_importances_xlim_params": {},
    "feature_importances_xticks_params": {
     "fontsize": 24,
     "ticks": [
      0,
      11,
      22,
      33,
      44,
      55,
      66,
      77,
      88,
      99
     ]
    },
    "feature_importances_ylabel_params": {
     "fontsize": 24,
     "ylabel": "reduction in information entropy (%)"
    },
    "feature_importances_ylim_params": {},
    "feature_importances_yticks_params": {
     "fontsize": 24
    },
    "prediction_grid_fig_params": {
     "fig_params": {
      "figsize": [
       6,
       6
      ]
     }
    },
    "prediction_grid_legend_params": {
     "fontsize": 16,
     "framealpha": 0.8,
     "loc": "upper right"
    },
    "prediction_grid_pcolormesh_params": {
     "alpha": 0.5,
     "cmap": "ssh1"
    },
    "prediction_grid_savefig_params": {
     "fname": "/home/linneu/ml_topological_phases_in_real_space/paper/ssh1/periodic_100_6561/prediction_grid_experiment_0.png"
    },
    "prediction_grid_tight_params": {},
    "prediction_grid_title_params": {},
    "prediction_grid_winding_params": {
     "0": {
      "color": "red",
      "label": 0,
      "marker": "o",
      "s": 10
     },
     "1": {
      "color": "blue",
      "label": 1,
      "marker": "o",
      "s": 10
     }
    },
    "prediction_grid_xlabel_params": {
     "fontsize": 24,
     "xlabel": "$t_2$"
    },
    "prediction_grid_xlim_params": {
     "left": -2,
     "right": 2
    },
    "prediction_grid_xticks_params": {
     "fontsize": 14
    },
    "prediction_grid_ylabel_params": {
     "fontsize": 24,
     "ylabel": "$t_1$"
    },
    "prediction_grid_ylim_params": {
     "bottom": -2,
     "top": 2
    },
    "prediction_grid_yticks_params": {
     "fontsize": 14
    },
    "sim_winding_heatmap_colorbar_params": {
     "1": {
      "extend": "neither",
      "labelsize": 24,
      "mappable": null,
      "pad": 0.1,
      "shrink": 0.8,
      "ticks": [
       0,
       0.2,
       0.4,
       0.6,
       0.8,
       1.0
      ]
     }
    },
    "sim_winding_heatmap_fig_params": {
     "figsize": [
      12,
      12
     ]
    },
    "sim_winding_heatmap_savefig_params": {
     "fname": "/home/linneu/ml_topological_phases_in_real_space/paper/ssh1/periodic_100_6561/bootstrapped_merged_winding_grid.png"
    },
    "sim_winding_heatmap_tight_params": {},
    "sim_winding_heatmap_title_params": {},
    "sim_winding_heatmap_winding_params": {
     "1": {
      "alpha": null,
      "aspect": "equal",
      "cmap": "bwr_r",
      "extent": [
       -2,
       2,
       -2,
       2
      ],
      "origin": "lower",
      "vmax": 1,
      "vmin": 0
     }
    },
    "sim_winding_heatmap_xlabel_params": {
     "fontsize": 48,
     "xlabel": "$t_2$"
    },
    "sim_winding_heatmap_xlim_params": {
     "left": -2,
     "right": 2
    },
    "sim_winding_heatmap_xticks_params": {
     "fontsize": 24
    },
    "sim_winding_heatmap_ylabel_params": {
     "fontsize": 48,
     "ylabel": "$t_1$"
    },
    "sim_winding_heatmap_ylim_params": {
     "bottom": -2,
     "top": 2
    },
    "sim_winding_heatmap_yticks_params": {
     "fontsize": 24
    },
    "simulation_dir": "/home/linneu/ssh_simulations/ssh1/periodic_100_6561",
    "train_val_test_fig_params": {
     "fig_params": {
      "figsize": [
       6,
       6
      ]
     }
    },
    "train_val_test_legend_params": {
     "fontsize": 16,
     "framealpha": 0.8,
     "loc": "upper right"
    },
    "train_val_test_savefig_params": {
     "fname": "/home/linneu/ml_topological_phases_in_real_space/paper/ssh1/periodic_100_6561/train_val_test_split_experiment_0.png"
    },
    "train_val_test_test_params": {
     "alpha": 0.5,
     "color": "royalblue",
     "label": "test",
     "marker": "s",
     "s": 64
    },
    "train_val_test_tight_params": {},
    "train_val_test_title_params": {},
    "train_val_test_train_params": {
     "alpha": 1,
     "color": "green",
     "label": "train",
     "marker": "o",
     "s": 3
    },
    "train_val_test_val_params": {
     "alpha": 0.2,
     "color": "salmon",
     "label": "val",
     "marker": "s",
     "s": 64
    },
    "train_val_test_xlabel_params": {
     "fontsize": 24,
     "xlabel": "$t_2$"
    },
    "train_val_test_xlim_params": {
     "left": -2,
     "right": 2
    },
    "train_val_test_xticks_params": {
     "fontsize": 14
    },
    "train_val_test_ylabel_params": {
     "fontsize": 24,
     "ylabel": "$t_1$"
    },
    "train_val_test_ylim_params": {
     "bottom": -2,
     "top": 2
    },
    "train_val_test_yticks_params": {
     "fontsize": 14
    },
    "train_winding_fig_params": {
     "fig_params": {
      "figsize": [
       6,
       6
      ]
     }
    },
    "train_winding_legend_params": {
     "fontsize": 16,
     "framealpha": 0.8,
     "loc": "upper right"
    },
    "train_winding_savefig_params": {
     "fname": "/home/linneu/ml_topological_phases_in_real_space/paper/ssh1/periodic_100_6561/train_winding_labels_experiment_0.png"
    },
    "train_winding_tight_params": {},
    "train_winding_title_params": {},
    "train_winding_winding_params": {
     "0": {
      "color": "red",
      "label": 0,
      "marker": "o",
      "s": 10
     },
     "1": {
      "color": "blue",
      "label": 1,
      "marker": "o",
      "s": 10
     }
    },
    "train_winding_xlabel_params": {
     "fontsize": 24,
     "xlabel": "$t_2$"
    },
    "train_winding_xlim_params": {
     "left": -2,
     "right": 2
    },
    "train_winding_xticks_params": {
     "fontsize": 14
    },
    "train_winding_ylabel_params": {
     "fontsize": 24,
     "ylabel": "$t_1$"
    },
    "train_winding_ylim_params": {
     "bottom": -2,
     "top": 2
    },
    "train_winding_yticks_params": {
     "fontsize": 14
    },
    "winding_heatmap_colorbar_params": {
     "labelsize": 24,
     "mappable": null
    },
    "winding_heatmap_fig_params": {
     "figsize": [
      12,
      12
     ]
    },
    "winding_heatmap_imshow_params": {
     "alpha": null,
     "aspect": "equal",
     "cmap": "bwr_r",
     "extent": [
      -2,
      2,
      -2,
      2
     ],
     "origin": "lower",
     "vmax": 1,
     "vmin": 0
    },
    "winding_heatmap_savefig_params": {
     "fname": "/home/linneu/ml_topological_phases_in_real_space/paper/ssh1/periodic_100_6561/winding_1_grid_experiment_0.png"
    },
    "winding_heatmap_tight_params": {},
    "winding_heatmap_title_params": {},
    "winding_heatmap_winding": 1,
    "winding_heatmap_xlabel_params": {
     "fontsize": 48,
     "xlabel": "$t_2$"
    },
    "winding_heatmap_xlim_params": {
     "left": -2,
     "right": 2
    },
    "winding_heatmap_xticks_params": {
     "fontsize": 24
    },
    "winding_heatmap_ylabel_params": {
     "fontsize": 48,
     "ylabel": "$t_1$"
    },
    "winding_heatmap_ylim_params": {
     "bottom": -2,
     "top": 2
    },
    "winding_heatmap_yticks_params": {
     "fontsize": 24
    }
   },
   "start_time": "2020-03-13T21:14:19.547931",
   "version": "2.0.0"
  }
 },
 "nbformat": 4,
 "nbformat_minor": 2
}