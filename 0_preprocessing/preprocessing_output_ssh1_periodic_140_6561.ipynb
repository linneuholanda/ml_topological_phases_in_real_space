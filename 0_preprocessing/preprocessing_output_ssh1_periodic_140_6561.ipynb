{
 "cells": [
  {
   "cell_type": "markdown",
   "metadata": {
    "papermill": {
     "duration": 0.03352,
     "end_time": "2020-04-06T19:50:50.684329",
     "exception": false,
     "start_time": "2020-04-06T19:50:50.650809",
     "status": "completed"
    },
    "tags": []
   },
   "source": [
    "# Generate csv files \n"
   ]
  },
  {
   "cell_type": "markdown",
   "metadata": {
    "papermill": {
     "duration": 0.009267,
     "end_time": "2020-04-06T19:50:50.709506",
     "exception": false,
     "start_time": "2020-04-06T19:50:50.700239",
     "status": "completed"
    },
    "tags": []
   },
   "source": [
    "This notebook generates .csv files from a directory containing .dat files with Hamiltonian data. Each .dat file is assumed to be named as `\"H_t1_t2_winding.dat\"`.  "
   ]
  },
  {
   "cell_type": "code",
   "execution_count": 1,
   "metadata": {
    "execution": {
     "iopub.execute_input": "2020-04-06T19:50:50.728007Z",
     "iopub.status.busy": "2020-04-06T19:50:50.727415Z",
     "iopub.status.idle": "2020-04-06T19:50:51.037951Z",
     "shell.execute_reply": "2020-04-06T19:50:51.037654Z"
    },
    "papermill": {
     "duration": 0.319565,
     "end_time": "2020-04-06T19:50:51.038013",
     "exception": false,
     "start_time": "2020-04-06T19:50:50.718448",
     "status": "completed"
    },
    "tags": []
   },
   "outputs": [],
   "source": [
    "%load_ext autoreload\n",
    "%autoreload 2\n",
    "from preprocessing import *"
   ]
  },
  {
   "cell_type": "markdown",
   "metadata": {
    "papermill": {
     "duration": 0.008132,
     "end_time": "2020-04-06T19:50:51.053213",
     "exception": false,
     "start_time": "2020-04-06T19:50:51.045081",
     "status": "completed"
    },
    "tags": []
   },
   "source": [
    "### Set the parameters below carefully"
   ]
  },
  {
   "cell_type": "code",
   "execution_count": 2,
   "metadata": {
    "execution": {
     "iopub.execute_input": "2020-04-06T19:50:51.068971Z",
     "iopub.status.busy": "2020-04-06T19:50:51.068648Z",
     "iopub.status.idle": "2020-04-06T19:50:51.077615Z",
     "shell.execute_reply": "2020-04-06T19:50:51.077341Z"
    },
    "papermill": {
     "duration": 0.016971,
     "end_time": "2020-04-06T19:50:51.077668",
     "exception": false,
     "start_time": "2020-04-06T19:50:51.060697",
     "status": "completed"
    },
    "tags": [
     "parameters"
    ]
   },
   "outputs": [
    {
     "name": "stdout",
     "output_type": "stream",
     "text": [
      "CPU times: user 2 µs, sys: 1e+03 ns, total: 3 µs\n",
      "Wall time: 4.05 µs\n"
     ]
    }
   ],
   "source": [
    "%%time\n",
    "grid_folder = SSH1_PERIODIC_100_6561_GRID_DIR\n",
    "allowed_windings = [0,1]\n",
    "epsilon = 0.01\n",
    "csv_dir = SSH1_CSVS_DIR \n",
    "csv_name = SSH1_PERIODIC_100_6561_CSV\n"
   ]
  },
  {
   "cell_type": "code",
   "execution_count": 3,
   "metadata": {
    "execution": {
     "iopub.execute_input": "2020-04-06T19:50:51.114824Z",
     "iopub.status.busy": "2020-04-06T19:50:51.114516Z",
     "iopub.status.idle": "2020-04-06T19:50:51.200958Z",
     "shell.execute_reply": "2020-04-06T19:50:51.199074Z"
    },
    "papermill": {
     "duration": 0.117561,
     "end_time": "2020-04-06T19:50:51.201241",
     "exception": false,
     "start_time": "2020-04-06T19:50:51.083680",
     "status": "completed"
    },
    "tags": [
     "injected-parameters"
    ]
   },
   "outputs": [],
   "source": [
    "# Parameters\n",
    "allowed_windings = [0, 1]\n",
    "epsilon = 0.01\n",
    "csv_dir = \"/home/rio/ssh_csvs/ssh1\"\n",
    "grid_folder = \"/home/rio/ssh_grids/ssh1/periodic_140_6561\"\n",
    "csv_name = \"/home/rio/ssh_csvs/ssh1/periodic_140_6561.csv\"\n"
   ]
  },
  {
   "cell_type": "code",
   "execution_count": 4,
   "metadata": {
    "execution": {
     "iopub.execute_input": "2020-04-06T19:50:51.257496Z",
     "iopub.status.busy": "2020-04-06T19:50:51.256732Z",
     "iopub.status.idle": "2020-04-06T19:54:07.175030Z",
     "shell.execute_reply": "2020-04-06T19:54:07.175350Z"
    },
    "papermill": {
     "duration": 195.937774,
     "end_time": "2020-04-06T19:54:07.175417",
     "exception": false,
     "start_time": "2020-04-06T19:50:51.237643",
     "status": "completed"
    },
    "tags": []
   },
   "outputs": [
    {
     "name": "stderr",
     "output_type": "stream",
     "text": [
      "\r",
      "loading hamiltonians:   0%|          | 0/6561 [00:00<?, ?it/s]"
     ]
    },
    {
     "name": "stderr",
     "output_type": "stream",
     "text": [
      "\r",
      "loading hamiltonians:   0%|          | 3/6561 [00:00<03:43, 29.31it/s]"
     ]
    },
    {
     "name": "stderr",
     "output_type": "stream",
     "text": [
      "\r",
      "loading hamiltonians:   0%|          | 4/6561 [00:00<05:55, 18.44it/s]"
     ]
    },
    {
     "name": "stderr",
     "output_type": "stream",
     "text": [
      "\r",
      "loading hamiltonians:   0%|          | 13/6561 [00:00<04:30, 24.18it/s]"
     ]
    },
    {
     "name": "stderr",
     "output_type": "stream",
     "text": [
      "\r",
      "loading hamiltonians:   0%|          | 22/6561 [00:00<03:31, 30.90it/s]"
     ]
    },
    {
     "name": "stderr",
     "output_type": "stream",
     "text": [
      "\r",
      "loading hamiltonians:   0%|          | 28/6561 [00:00<03:03, 35.57it/s]"
     ]
    },
    {
     "name": "stderr",
     "output_type": "stream",
     "text": [
      "\r",
      "loading hamiltonians:   1%|          | 35/6561 [00:00<02:37, 41.40it/s]"
     ]
    },
    {
     "name": "stderr",
     "output_type": "stream",
     "text": [
      "\r",
      "loading hamiltonians:   1%|          | 43/6561 [00:00<02:18, 47.11it/s]"
     ]
    },
    {
     "name": "stderr",
     "output_type": "stream",
     "text": [
      "\r",
      "loading hamiltonians:   1%|          | 52/6561 [00:00<02:00, 54.15it/s]"
     ]
    },
    {
     "name": "stderr",
     "output_type": "stream",
     "text": [
      "\r",
      "loading hamiltonians:   1%|          | 62/6561 [00:00<01:44, 62.21it/s]"
     ]
    },
    {
     "name": "stderr",
     "output_type": "stream",
     "text": [
      "\r",
      "loading hamiltonians:   1%|          | 70/6561 [00:01<01:39, 65.29it/s]"
     ]
    },
    {
     "name": "stderr",
     "output_type": "stream",
     "text": [
      "\r",
      "loading hamiltonians:   1%|          | 78/6561 [00:01<01:34, 68.84it/s]"
     ]
    },
    {
     "name": "stderr",
     "output_type": "stream",
     "text": [
      "\r",
      "loading hamiltonians:   1%|▏         | 86/6561 [00:01<01:30, 71.68it/s]"
     ]
    },
    {
     "name": "stderr",
     "output_type": "stream",
     "text": [
      "\r",
      "loading hamiltonians:   1%|▏         | 94/6561 [00:01<01:31, 70.32it/s]"
     ]
    },
    {
     "name": "stderr",
     "output_type": "stream",
     "text": [
      "\r",
      "loading hamiltonians:   2%|▏         | 102/6561 [00:01<01:32, 69.93it/s]"
     ]
    },
    {
     "name": "stderr",
     "output_type": "stream",
     "text": [
      "\r",
      "loading hamiltonians:   2%|▏         | 110/6561 [00:01<01:29, 72.36it/s]"
     ]
    },
    {
     "name": "stderr",
     "output_type": "stream",
     "text": [
      "\r",
      "loading hamiltonians:   2%|▏         | 119/6561 [00:01<01:24, 76.49it/s]"
     ]
    },
    {
     "name": "stderr",
     "output_type": "stream",
     "text": [
      "\r",
      "loading hamiltonians:   2%|▏         | 127/6561 [00:01<01:23, 77.25it/s]"
     ]
    },
    {
     "name": "stderr",
     "output_type": "stream",
     "text": [
      "\r",
      "loading hamiltonians:   2%|▏         | 135/6561 [00:01<01:25, 74.78it/s]"
     ]
    },
    {
     "name": "stderr",
     "output_type": "stream",
     "text": [
      "\r",
      "loading hamiltonians:   2%|▏         | 145/6561 [00:02<01:20, 79.84it/s]"
     ]
    },
    {
     "name": "stderr",
     "output_type": "stream",
     "text": [
      "\r",
      "loading hamiltonians:   2%|▏         | 154/6561 [00:02<01:19, 80.95it/s]"
     ]
    },
    {
     "name": "stderr",
     "output_type": "stream",
     "text": [
      "\r",
      "loading hamiltonians:   2%|▏         | 163/6561 [00:02<01:21, 78.71it/s]"
     ]
    },
    {
     "name": "stderr",
     "output_type": "stream",
     "text": [
      "\r",
      "loading hamiltonians:   3%|▎         | 173/6561 [00:02<01:17, 82.34it/s]"
     ]
    },
    {
     "name": "stderr",
     "output_type": "stream",
     "text": [
      "\r",
      "loading hamiltonians:   3%|▎         | 182/6561 [00:02<01:17, 82.11it/s]"
     ]
    },
    {
     "name": "stderr",
     "output_type": "stream",
     "text": [
      "\r",
      "loading hamiltonians:   3%|▎         | 191/6561 [00:02<01:18, 80.67it/s]"
     ]
    },
    {
     "name": "stderr",
     "output_type": "stream",
     "text": [
      "\r",
      "loading hamiltonians:   3%|▎         | 200/6561 [00:02<01:18, 80.80it/s]"
     ]
    },
    {
     "name": "stderr",
     "output_type": "stream",
     "text": [
      "\r",
      "loading hamiltonians:   3%|▎         | 209/6561 [00:02<01:20, 78.97it/s]"
     ]
    },
    {
     "name": "stderr",
     "output_type": "stream",
     "text": [
      "\r",
      "loading hamiltonians:   3%|▎         | 217/6561 [00:02<01:27, 72.45it/s]"
     ]
    },
    {
     "name": "stderr",
     "output_type": "stream",
     "text": [
      "\r",
      "loading hamiltonians:   3%|▎         | 227/6561 [00:03<01:21, 77.44it/s]"
     ]
    },
    {
     "name": "stderr",
     "output_type": "stream",
     "text": [
      "\r",
      "loading hamiltonians:   4%|▎         | 236/6561 [00:03<01:20, 78.48it/s]"
     ]
    },
    {
     "name": "stderr",
     "output_type": "stream",
     "text": [
      "\r",
      "loading hamiltonians:   4%|▎         | 245/6561 [00:03<01:18, 80.07it/s]"
     ]
    },
    {
     "name": "stderr",
     "output_type": "stream",
     "text": [
      "\r",
      "loading hamiltonians:   4%|▍         | 256/6561 [00:03<01:13, 85.31it/s]"
     ]
    },
    {
     "name": "stderr",
     "output_type": "stream",
     "text": [
      "\r",
      "loading hamiltonians:   4%|▍         | 265/6561 [00:03<01:13, 85.21it/s]"
     ]
    },
    {
     "name": "stderr",
     "output_type": "stream",
     "text": [
      "\r",
      "loading hamiltonians:   4%|▍         | 274/6561 [00:03<01:14, 84.32it/s]"
     ]
    },
    {
     "name": "stderr",
     "output_type": "stream",
     "text": [
      "\r",
      "loading hamiltonians:   4%|▍         | 283/6561 [00:03<01:16, 81.89it/s]"
     ]
    },
    {
     "name": "stderr",
     "output_type": "stream",
     "text": [
      "\r",
      "loading hamiltonians:   4%|▍         | 292/6561 [00:03<01:23, 74.66it/s]"
     ]
    },
    {
     "name": "stderr",
     "output_type": "stream",
     "text": [
      "\r",
      "loading hamiltonians:   5%|▍         | 300/6561 [00:03<01:22, 75.83it/s]"
     ]
    },
    {
     "name": "stderr",
     "output_type": "stream",
     "text": [
      "\r",
      "loading hamiltonians:   5%|▍         | 308/6561 [00:04<01:22, 75.51it/s]"
     ]
    },
    {
     "name": "stderr",
     "output_type": "stream",
     "text": [
      "\r",
      "loading hamiltonians:   5%|▍         | 316/6561 [00:04<01:22, 75.83it/s]"
     ]
    },
    {
     "name": "stderr",
     "output_type": "stream",
     "text": [
      "\r",
      "loading hamiltonians:   5%|▍         | 326/6561 [00:04<01:16, 81.62it/s]"
     ]
    },
    {
     "name": "stderr",
     "output_type": "stream",
     "text": [
      "\r",
      "loading hamiltonians:   5%|▌         | 335/6561 [00:04<01:14, 83.62it/s]"
     ]
    },
    {
     "name": "stderr",
     "output_type": "stream",
     "text": [
      "\r",
      "loading hamiltonians:   5%|▌         | 344/6561 [00:04<01:13, 84.63it/s]"
     ]
    },
    {
     "name": "stderr",
     "output_type": "stream",
     "text": [
      "\r",
      "loading hamiltonians:   5%|▌         | 353/6561 [00:04<01:18, 79.23it/s]"
     ]
    },
    {
     "name": "stderr",
     "output_type": "stream",
     "text": [
      "\r",
      "loading hamiltonians:   6%|▌         | 362/6561 [00:04<01:21, 75.67it/s]"
     ]
    },
    {
     "name": "stderr",
     "output_type": "stream",
     "text": [
      "\r",
      "loading hamiltonians:   6%|▌         | 370/6561 [00:04<01:21, 76.23it/s]"
     ]
    },
    {
     "name": "stderr",
     "output_type": "stream",
     "text": [
      "\r",
      "loading hamiltonians:   6%|▌         | 379/6561 [00:04<01:19, 77.40it/s]"
     ]
    },
    {
     "name": "stderr",
     "output_type": "stream",
     "text": [
      "\r",
      "loading hamiltonians:   6%|▌         | 387/6561 [00:05<01:22, 74.78it/s]"
     ]
    },
    {
     "name": "stderr",
     "output_type": "stream",
     "text": [
      "\r",
      "loading hamiltonians:   6%|▌         | 395/6561 [00:05<01:52, 54.63it/s]"
     ]
    },
    {
     "name": "stderr",
     "output_type": "stream",
     "text": [
      "\r",
      "loading hamiltonians:   6%|▌         | 402/6561 [00:05<02:11, 46.68it/s]"
     ]
    },
    {
     "name": "stderr",
     "output_type": "stream",
     "text": [
      "\r",
      "loading hamiltonians:   6%|▌         | 410/6561 [00:05<01:57, 52.26it/s]"
     ]
    },
    {
     "name": "stderr",
     "output_type": "stream",
     "text": [
      "\r",
      "loading hamiltonians:   6%|▋         | 422/6561 [00:05<01:38, 62.12it/s]"
     ]
    },
    {
     "name": "stderr",
     "output_type": "stream",
     "text": [
      "\r",
      "loading hamiltonians:   7%|▋         | 430/6561 [00:05<01:32, 66.24it/s]"
     ]
    },
    {
     "name": "stderr",
     "output_type": "stream",
     "text": [
      "\r",
      "loading hamiltonians:   7%|▋         | 440/6561 [00:05<01:24, 72.70it/s]"
     ]
    },
    {
     "name": "stderr",
     "output_type": "stream",
     "text": [
      "\r",
      "loading hamiltonians:   7%|▋         | 449/6561 [00:06<01:21, 75.03it/s]"
     ]
    },
    {
     "name": "stderr",
     "output_type": "stream",
     "text": [
      "\r",
      "loading hamiltonians:   7%|▋         | 458/6561 [00:06<01:25, 71.30it/s]"
     ]
    },
    {
     "name": "stderr",
     "output_type": "stream",
     "text": [
      "\r",
      "loading hamiltonians:   7%|▋         | 469/6561 [00:06<01:16, 79.51it/s]"
     ]
    },
    {
     "name": "stderr",
     "output_type": "stream",
     "text": [
      "\r",
      "loading hamiltonians:   7%|▋         | 478/6561 [00:06<01:15, 80.89it/s]"
     ]
    },
    {
     "name": "stderr",
     "output_type": "stream",
     "text": [
      "\r",
      "loading hamiltonians:   7%|▋         | 488/6561 [00:06<01:13, 82.93it/s]"
     ]
    },
    {
     "name": "stderr",
     "output_type": "stream",
     "text": [
      "\r",
      "loading hamiltonians:   8%|▊         | 498/6561 [00:06<01:09, 86.79it/s]"
     ]
    },
    {
     "name": "stderr",
     "output_type": "stream",
     "text": [
      "\r",
      "loading hamiltonians:   8%|▊         | 508/6561 [00:06<01:07, 89.99it/s]"
     ]
    },
    {
     "name": "stderr",
     "output_type": "stream",
     "text": [
      "\r",
      "loading hamiltonians:   8%|▊         | 518/6561 [00:06<01:08, 87.61it/s]"
     ]
    },
    {
     "name": "stderr",
     "output_type": "stream",
     "text": [
      "\r",
      "loading hamiltonians:   8%|▊         | 527/6561 [00:06<01:13, 82.37it/s]"
     ]
    },
    {
     "name": "stderr",
     "output_type": "stream",
     "text": [
      "\r",
      "loading hamiltonians:   8%|▊         | 537/6561 [00:07<01:09, 86.52it/s]"
     ]
    },
    {
     "name": "stderr",
     "output_type": "stream",
     "text": [
      "\r",
      "loading hamiltonians:   8%|▊         | 546/6561 [00:07<01:10, 84.73it/s]"
     ]
    },
    {
     "name": "stderr",
     "output_type": "stream",
     "text": [
      "\r",
      "loading hamiltonians:   8%|▊         | 555/6561 [00:07<01:11, 84.43it/s]"
     ]
    },
    {
     "name": "stderr",
     "output_type": "stream",
     "text": [
      "\r",
      "loading hamiltonians:   9%|▊         | 564/6561 [00:07<01:14, 81.02it/s]"
     ]
    },
    {
     "name": "stderr",
     "output_type": "stream",
     "text": [
      "\r",
      "loading hamiltonians:   9%|▊         | 573/6561 [00:07<01:15, 79.67it/s]"
     ]
    },
    {
     "name": "stderr",
     "output_type": "stream",
     "text": [
      "\r",
      "loading hamiltonians:   9%|▉         | 582/6561 [00:07<01:18, 76.06it/s]"
     ]
    },
    {
     "name": "stderr",
     "output_type": "stream",
     "text": [
      "\r",
      "loading hamiltonians:   9%|▉         | 590/6561 [00:07<01:20, 74.57it/s]"
     ]
    },
    {
     "name": "stderr",
     "output_type": "stream",
     "text": [
      "\r",
      "loading hamiltonians:   9%|▉         | 598/6561 [00:07<01:21, 73.49it/s]"
     ]
    },
    {
     "name": "stderr",
     "output_type": "stream",
     "text": [
      "\r",
      "loading hamiltonians:   9%|▉         | 607/6561 [00:07<01:17, 77.27it/s]"
     ]
    },
    {
     "name": "stderr",
     "output_type": "stream",
     "text": [
      "\r",
      "loading hamiltonians:   9%|▉         | 618/6561 [00:08<01:10, 84.75it/s]"
     ]
    },
    {
     "name": "stderr",
     "output_type": "stream",
     "text": [
      "\r",
      "loading hamiltonians:  10%|▉         | 627/6561 [00:08<01:11, 83.02it/s]"
     ]
    },
    {
     "name": "stderr",
     "output_type": "stream",
     "text": [
      "\r",
      "loading hamiltonians:  10%|▉         | 636/6561 [00:08<01:10, 83.55it/s]"
     ]
    },
    {
     "name": "stderr",
     "output_type": "stream",
     "text": [
      "\r",
      "loading hamiltonians:  10%|▉         | 647/6561 [00:08<01:06, 88.79it/s]"
     ]
    },
    {
     "name": "stderr",
     "output_type": "stream",
     "text": [
      "\r",
      "loading hamiltonians:  10%|█         | 657/6561 [00:08<01:10, 84.14it/s]"
     ]
    },
    {
     "name": "stderr",
     "output_type": "stream",
     "text": [
      "\r",
      "loading hamiltonians:  10%|█         | 666/6561 [00:08<01:13, 79.81it/s]"
     ]
    },
    {
     "name": "stderr",
     "output_type": "stream",
     "text": [
      "\r",
      "loading hamiltonians:  10%|█         | 675/6561 [00:08<01:13, 80.41it/s]"
     ]
    },
    {
     "name": "stderr",
     "output_type": "stream",
     "text": [
      "\r",
      "loading hamiltonians:  10%|█         | 684/6561 [00:08<01:14, 79.12it/s]"
     ]
    },
    {
     "name": "stderr",
     "output_type": "stream",
     "text": [
      "\r",
      "loading hamiltonians:  11%|█         | 693/6561 [00:09<01:22, 71.22it/s]"
     ]
    },
    {
     "name": "stderr",
     "output_type": "stream",
     "text": [
      "\r",
      "loading hamiltonians:  11%|█         | 701/6561 [00:09<01:25, 68.35it/s]"
     ]
    },
    {
     "name": "stderr",
     "output_type": "stream",
     "text": [
      "\r",
      "loading hamiltonians:  11%|█         | 713/6561 [00:09<01:16, 76.93it/s]"
     ]
    },
    {
     "name": "stderr",
     "output_type": "stream",
     "text": [
      "\r",
      "loading hamiltonians:  11%|█         | 722/6561 [00:09<01:15, 77.47it/s]"
     ]
    },
    {
     "name": "stderr",
     "output_type": "stream",
     "text": [
      "\r",
      "loading hamiltonians:  11%|█         | 731/6561 [00:09<01:14, 78.72it/s]"
     ]
    },
    {
     "name": "stderr",
     "output_type": "stream",
     "text": [
      "\r",
      "loading hamiltonians:  11%|█▏        | 740/6561 [00:09<01:14, 78.11it/s]"
     ]
    },
    {
     "name": "stderr",
     "output_type": "stream",
     "text": [
      "\r",
      "loading hamiltonians:  11%|█▏        | 748/6561 [00:09<01:17, 74.89it/s]"
     ]
    },
    {
     "name": "stderr",
     "output_type": "stream",
     "text": [
      "\r",
      "loading hamiltonians:  12%|█▏        | 756/6561 [00:09<01:23, 69.86it/s]"
     ]
    },
    {
     "name": "stderr",
     "output_type": "stream",
     "text": [
      "\r",
      "loading hamiltonians:  12%|█▏        | 765/6561 [00:09<01:21, 71.50it/s]"
     ]
    },
    {
     "name": "stderr",
     "output_type": "stream",
     "text": [
      "\r",
      "loading hamiltonians:  12%|█▏        | 774/6561 [00:10<01:17, 74.52it/s]"
     ]
    },
    {
     "name": "stderr",
     "output_type": "stream",
     "text": [
      "\r",
      "loading hamiltonians:  12%|█▏        | 782/6561 [00:10<01:18, 73.74it/s]"
     ]
    },
    {
     "name": "stderr",
     "output_type": "stream",
     "text": [
      "\r",
      "loading hamiltonians:  12%|█▏        | 790/6561 [00:10<01:33, 61.71it/s]"
     ]
    },
    {
     "name": "stderr",
     "output_type": "stream",
     "text": [
      "\r",
      "loading hamiltonians:  12%|█▏        | 800/6561 [00:10<01:24, 68.40it/s]"
     ]
    },
    {
     "name": "stderr",
     "output_type": "stream",
     "text": [
      "\r",
      "loading hamiltonians:  12%|█▏        | 810/6561 [00:10<01:19, 72.66it/s]"
     ]
    },
    {
     "name": "stderr",
     "output_type": "stream",
     "text": [
      "\r",
      "loading hamiltonians:  12%|█▏        | 818/6561 [00:10<01:22, 69.80it/s]"
     ]
    },
    {
     "name": "stderr",
     "output_type": "stream",
     "text": [
      "\r",
      "loading hamiltonians:  13%|█▎        | 826/6561 [00:10<01:20, 71.13it/s]"
     ]
    },
    {
     "name": "stderr",
     "output_type": "stream",
     "text": [
      "\r",
      "loading hamiltonians:  13%|█▎        | 834/6561 [00:10<01:18, 73.11it/s]"
     ]
    },
    {
     "name": "stderr",
     "output_type": "stream",
     "text": [
      "\r",
      "loading hamiltonians:  13%|█▎        | 842/6561 [00:11<01:17, 73.88it/s]"
     ]
    },
    {
     "name": "stderr",
     "output_type": "stream",
     "text": [
      "\r",
      "loading hamiltonians:  13%|█▎        | 850/6561 [00:11<01:16, 74.43it/s]"
     ]
    },
    {
     "name": "stderr",
     "output_type": "stream",
     "text": [
      "\r",
      "loading hamiltonians:  13%|█▎        | 858/6561 [00:11<01:59, 47.74it/s]"
     ]
    },
    {
     "name": "stderr",
     "output_type": "stream",
     "text": [
      "\r",
      "loading hamiltonians:  13%|█▎        | 865/6561 [00:11<01:50, 51.33it/s]"
     ]
    },
    {
     "name": "stderr",
     "output_type": "stream",
     "text": [
      "\r",
      "loading hamiltonians:  13%|█▎        | 873/6561 [00:11<01:41, 56.30it/s]"
     ]
    },
    {
     "name": "stderr",
     "output_type": "stream",
     "text": [
      "\r",
      "loading hamiltonians:  13%|█▎        | 880/6561 [00:11<01:41, 55.72it/s]"
     ]
    },
    {
     "name": "stderr",
     "output_type": "stream",
     "text": [
      "\r",
      "loading hamiltonians:  14%|█▎        | 889/6561 [00:11<01:32, 61.47it/s]"
     ]
    },
    {
     "name": "stderr",
     "output_type": "stream",
     "text": [
      "\r",
      "loading hamiltonians:  14%|█▎        | 897/6561 [00:12<01:27, 64.62it/s]"
     ]
    },
    {
     "name": "stderr",
     "output_type": "stream",
     "text": [
      "\r",
      "loading hamiltonians:  14%|█▍        | 906/6561 [00:12<01:21, 69.68it/s]"
     ]
    },
    {
     "name": "stderr",
     "output_type": "stream",
     "text": [
      "\r",
      "loading hamiltonians:  14%|█▍        | 915/6561 [00:12<01:16, 74.11it/s]"
     ]
    },
    {
     "name": "stderr",
     "output_type": "stream",
     "text": [
      "\r",
      "loading hamiltonians:  14%|█▍        | 925/6561 [00:12<01:10, 79.90it/s]"
     ]
    },
    {
     "name": "stderr",
     "output_type": "stream",
     "text": [
      "\r",
      "loading hamiltonians:  14%|█▍        | 934/6561 [00:12<01:09, 80.64it/s]"
     ]
    },
    {
     "name": "stderr",
     "output_type": "stream",
     "text": [
      "\r",
      "loading hamiltonians:  14%|█▍        | 943/6561 [00:12<01:15, 74.43it/s]"
     ]
    },
    {
     "name": "stderr",
     "output_type": "stream",
     "text": [
      "\r",
      "loading hamiltonians:  15%|█▍        | 952/6561 [00:12<01:12, 77.41it/s]"
     ]
    },
    {
     "name": "stderr",
     "output_type": "stream",
     "text": [
      "\r",
      "loading hamiltonians:  15%|█▍        | 961/6561 [00:12<01:10, 79.41it/s]"
     ]
    },
    {
     "name": "stderr",
     "output_type": "stream",
     "text": [
      "\r",
      "loading hamiltonians:  15%|█▍        | 970/6561 [00:12<01:12, 77.30it/s]"
     ]
    },
    {
     "name": "stderr",
     "output_type": "stream",
     "text": [
      "\r",
      "loading hamiltonians:  15%|█▍        | 979/6561 [00:13<01:10, 79.12it/s]"
     ]
    },
    {
     "name": "stderr",
     "output_type": "stream",
     "text": [
      "\r",
      "loading hamiltonians:  15%|█▌        | 989/6561 [00:13<01:06, 83.27it/s]"
     ]
    },
    {
     "name": "stderr",
     "output_type": "stream",
     "text": [
      "\r",
      "loading hamiltonians:  15%|█▌        | 999/6561 [00:13<01:05, 85.26it/s]"
     ]
    },
    {
     "name": "stderr",
     "output_type": "stream",
     "text": [
      "\r",
      "loading hamiltonians:  15%|█▌        | 1010/6561 [00:13<01:01, 89.60it/s]"
     ]
    },
    {
     "name": "stderr",
     "output_type": "stream",
     "text": [
      "\r",
      "loading hamiltonians:  16%|█▌        | 1020/6561 [00:13<01:03, 86.65it/s]"
     ]
    },
    {
     "name": "stderr",
     "output_type": "stream",
     "text": [
      "\r",
      "loading hamiltonians:  16%|█▌        | 1029/6561 [00:13<01:05, 84.00it/s]"
     ]
    },
    {
     "name": "stderr",
     "output_type": "stream",
     "text": [
      "\r",
      "loading hamiltonians:  16%|█▌        | 1038/6561 [00:13<01:08, 80.75it/s]"
     ]
    },
    {
     "name": "stderr",
     "output_type": "stream",
     "text": [
      "\r",
      "loading hamiltonians:  16%|█▌        | 1047/6561 [00:13<01:07, 82.10it/s]"
     ]
    },
    {
     "name": "stderr",
     "output_type": "stream",
     "text": [
      "\r",
      "loading hamiltonians:  16%|█▌        | 1056/6561 [00:13<01:11, 76.46it/s]"
     ]
    },
    {
     "name": "stderr",
     "output_type": "stream",
     "text": [
      "\r",
      "loading hamiltonians:  16%|█▌        | 1064/6561 [00:14<02:05, 43.91it/s]"
     ]
    },
    {
     "name": "stderr",
     "output_type": "stream",
     "text": [
      "\r",
      "loading hamiltonians:  16%|█▋        | 1073/6561 [00:14<01:47, 50.89it/s]"
     ]
    },
    {
     "name": "stderr",
     "output_type": "stream",
     "text": [
      "\r",
      "loading hamiltonians:  16%|█▋        | 1080/6561 [00:14<02:02, 44.81it/s]"
     ]
    },
    {
     "name": "stderr",
     "output_type": "stream",
     "text": [
      "\r",
      "loading hamiltonians:  17%|█▋        | 1088/6561 [00:14<01:48, 50.38it/s]"
     ]
    },
    {
     "name": "stderr",
     "output_type": "stream",
     "text": [
      "\r",
      "loading hamiltonians:  17%|█▋        | 1095/6561 [00:14<01:41, 53.63it/s]"
     ]
    },
    {
     "name": "stderr",
     "output_type": "stream",
     "text": [
      "\r",
      "loading hamiltonians:  17%|█▋        | 1103/6561 [00:14<01:32, 58.96it/s]"
     ]
    },
    {
     "name": "stderr",
     "output_type": "stream",
     "text": [
      "\r",
      "loading hamiltonians:  17%|█▋        | 1111/6561 [00:15<01:25, 63.73it/s]"
     ]
    },
    {
     "name": "stderr",
     "output_type": "stream",
     "text": [
      "\r",
      "loading hamiltonians:  17%|█▋        | 1120/6561 [00:15<01:23, 65.12it/s]"
     ]
    },
    {
     "name": "stderr",
     "output_type": "stream",
     "text": [
      "\r",
      "loading hamiltonians:  17%|█▋        | 1128/6561 [00:15<01:20, 67.83it/s]"
     ]
    },
    {
     "name": "stderr",
     "output_type": "stream",
     "text": [
      "\r",
      "loading hamiltonians:  17%|█▋        | 1139/6561 [00:15<01:12, 75.22it/s]"
     ]
    },
    {
     "name": "stderr",
     "output_type": "stream",
     "text": [
      "\r",
      "loading hamiltonians:  17%|█▋        | 1148/6561 [00:15<01:09, 78.08it/s]"
     ]
    },
    {
     "name": "stderr",
     "output_type": "stream",
     "text": [
      "\r",
      "loading hamiltonians:  18%|█▊        | 1157/6561 [00:15<01:10, 76.98it/s]"
     ]
    },
    {
     "name": "stderr",
     "output_type": "stream",
     "text": [
      "\r",
      "loading hamiltonians:  18%|█▊        | 1165/6561 [00:15<01:11, 75.17it/s]"
     ]
    },
    {
     "name": "stderr",
     "output_type": "stream",
     "text": [
      "\r",
      "loading hamiltonians:  18%|█▊        | 1174/6561 [00:15<01:09, 77.20it/s]"
     ]
    },
    {
     "name": "stderr",
     "output_type": "stream",
     "text": [
      "\r",
      "loading hamiltonians:  18%|█▊        | 1182/6561 [00:16<01:19, 67.46it/s]"
     ]
    },
    {
     "name": "stderr",
     "output_type": "stream",
     "text": [
      "\r",
      "loading hamiltonians:  18%|█▊        | 1190/6561 [00:16<01:19, 67.42it/s]"
     ]
    },
    {
     "name": "stderr",
     "output_type": "stream",
     "text": [
      "\r",
      "loading hamiltonians:  18%|█▊        | 1200/6561 [00:16<01:13, 72.67it/s]"
     ]
    },
    {
     "name": "stderr",
     "output_type": "stream",
     "text": [
      "\r",
      "loading hamiltonians:  18%|█▊        | 1209/6561 [00:16<01:11, 75.31it/s]"
     ]
    },
    {
     "name": "stderr",
     "output_type": "stream",
     "text": [
      "\r",
      "loading hamiltonians:  19%|█▊        | 1217/6561 [00:16<01:28, 60.72it/s]"
     ]
    },
    {
     "name": "stderr",
     "output_type": "stream",
     "text": [
      "\r",
      "loading hamiltonians:  19%|█▊        | 1224/6561 [00:16<01:25, 62.78it/s]"
     ]
    },
    {
     "name": "stderr",
     "output_type": "stream",
     "text": [
      "\r",
      "loading hamiltonians:  19%|█▉        | 1232/6561 [00:16<01:21, 65.50it/s]"
     ]
    },
    {
     "name": "stderr",
     "output_type": "stream",
     "text": [
      "\r",
      "loading hamiltonians:  19%|█▉        | 1240/6561 [00:16<01:20, 65.96it/s]"
     ]
    },
    {
     "name": "stderr",
     "output_type": "stream",
     "text": [
      "\r",
      "loading hamiltonians:  19%|█▉        | 1250/6561 [00:17<01:14, 71.21it/s]"
     ]
    },
    {
     "name": "stderr",
     "output_type": "stream",
     "text": [
      "\r",
      "loading hamiltonians:  19%|█▉        | 1259/6561 [00:17<01:12, 72.67it/s]"
     ]
    },
    {
     "name": "stderr",
     "output_type": "stream",
     "text": [
      "\r",
      "loading hamiltonians:  19%|█▉        | 1268/6561 [00:17<01:09, 76.59it/s]"
     ]
    },
    {
     "name": "stderr",
     "output_type": "stream",
     "text": [
      "\r",
      "loading hamiltonians:  19%|█▉        | 1278/6561 [00:17<01:05, 80.05it/s]"
     ]
    },
    {
     "name": "stderr",
     "output_type": "stream",
     "text": [
      "\r",
      "loading hamiltonians:  20%|█▉        | 1287/6561 [00:17<01:04, 82.36it/s]"
     ]
    },
    {
     "name": "stderr",
     "output_type": "stream",
     "text": [
      "\r",
      "loading hamiltonians:  20%|█▉        | 1296/6561 [00:17<01:07, 78.40it/s]"
     ]
    },
    {
     "name": "stderr",
     "output_type": "stream",
     "text": [
      "\r",
      "loading hamiltonians:  20%|█▉        | 1304/6561 [00:17<01:08, 76.56it/s]"
     ]
    },
    {
     "name": "stderr",
     "output_type": "stream",
     "text": [
      "\r",
      "loading hamiltonians:  20%|██        | 1313/6561 [00:17<01:07, 78.08it/s]"
     ]
    },
    {
     "name": "stderr",
     "output_type": "stream",
     "text": [
      "\r",
      "loading hamiltonians:  20%|██        | 1321/6561 [00:17<01:09, 75.71it/s]"
     ]
    },
    {
     "name": "stderr",
     "output_type": "stream",
     "text": [
      "\r",
      "loading hamiltonians:  20%|██        | 1329/6561 [00:18<01:11, 73.69it/s]"
     ]
    },
    {
     "name": "stderr",
     "output_type": "stream",
     "text": [
      "\r",
      "loading hamiltonians:  20%|██        | 1338/6561 [00:18<01:08, 76.42it/s]"
     ]
    },
    {
     "name": "stderr",
     "output_type": "stream",
     "text": [
      "\r",
      "loading hamiltonians:  21%|██        | 1346/6561 [00:18<01:10, 74.15it/s]"
     ]
    },
    {
     "name": "stderr",
     "output_type": "stream",
     "text": [
      "\r",
      "loading hamiltonians:  21%|██        | 1358/6561 [00:18<01:02, 83.10it/s]"
     ]
    },
    {
     "name": "stderr",
     "output_type": "stream",
     "text": [
      "\r",
      "loading hamiltonians:  21%|██        | 1368/6561 [00:18<01:00, 86.04it/s]"
     ]
    },
    {
     "name": "stderr",
     "output_type": "stream",
     "text": [
      "\r",
      "loading hamiltonians:  21%|██        | 1377/6561 [00:18<01:06, 77.50it/s]"
     ]
    },
    {
     "name": "stderr",
     "output_type": "stream",
     "text": [
      "\r",
      "loading hamiltonians:  21%|██        | 1386/6561 [00:18<01:06, 77.37it/s]"
     ]
    },
    {
     "name": "stderr",
     "output_type": "stream",
     "text": [
      "\r",
      "loading hamiltonians:  21%|██▏       | 1395/6561 [00:18<01:05, 79.10it/s]"
     ]
    },
    {
     "name": "stderr",
     "output_type": "stream",
     "text": [
      "\r",
      "loading hamiltonians:  21%|██▏       | 1404/6561 [00:18<01:07, 76.81it/s]"
     ]
    },
    {
     "name": "stderr",
     "output_type": "stream",
     "text": [
      "\r",
      "loading hamiltonians:  22%|██▏       | 1414/6561 [00:19<01:02, 82.04it/s]"
     ]
    },
    {
     "name": "stderr",
     "output_type": "stream",
     "text": [
      "\r",
      "loading hamiltonians:  22%|██▏       | 1423/6561 [00:19<01:07, 76.56it/s]"
     ]
    },
    {
     "name": "stderr",
     "output_type": "stream",
     "text": [
      "\r",
      "loading hamiltonians:  22%|██▏       | 1433/6561 [00:19<01:02, 81.79it/s]"
     ]
    },
    {
     "name": "stderr",
     "output_type": "stream",
     "text": [
      "\r",
      "loading hamiltonians:  22%|██▏       | 1442/6561 [00:19<01:06, 76.73it/s]"
     ]
    },
    {
     "name": "stderr",
     "output_type": "stream",
     "text": [
      "\r",
      "loading hamiltonians:  22%|██▏       | 1450/6561 [00:19<01:07, 75.84it/s]"
     ]
    },
    {
     "name": "stderr",
     "output_type": "stream",
     "text": [
      "\r",
      "loading hamiltonians:  22%|██▏       | 1458/6561 [00:19<01:06, 76.92it/s]"
     ]
    },
    {
     "name": "stderr",
     "output_type": "stream",
     "text": [
      "\r",
      "loading hamiltonians:  22%|██▏       | 1466/6561 [00:19<01:08, 74.09it/s]"
     ]
    },
    {
     "name": "stderr",
     "output_type": "stream",
     "text": [
      "\r",
      "loading hamiltonians:  22%|██▏       | 1474/6561 [00:19<01:09, 73.37it/s]"
     ]
    },
    {
     "name": "stderr",
     "output_type": "stream",
     "text": [
      "\r",
      "loading hamiltonians:  23%|██▎       | 1482/6561 [00:19<01:10, 71.96it/s]"
     ]
    },
    {
     "name": "stderr",
     "output_type": "stream",
     "text": [
      "\r",
      "loading hamiltonians:  23%|██▎       | 1490/6561 [00:20<01:08, 73.54it/s]"
     ]
    },
    {
     "name": "stderr",
     "output_type": "stream",
     "text": [
      "\r",
      "loading hamiltonians:  23%|██▎       | 1500/6561 [00:20<01:05, 77.28it/s]"
     ]
    },
    {
     "name": "stderr",
     "output_type": "stream",
     "text": [
      "\r",
      "loading hamiltonians:  23%|██▎       | 1509/6561 [00:20<01:03, 79.46it/s]"
     ]
    },
    {
     "name": "stderr",
     "output_type": "stream",
     "text": [
      "\r",
      "loading hamiltonians:  23%|██▎       | 1520/6561 [00:20<01:00, 83.62it/s]"
     ]
    },
    {
     "name": "stderr",
     "output_type": "stream",
     "text": [
      "\r",
      "loading hamiltonians:  23%|██▎       | 1529/6561 [00:20<01:02, 80.78it/s]"
     ]
    },
    {
     "name": "stderr",
     "output_type": "stream",
     "text": [
      "\r",
      "loading hamiltonians:  23%|██▎       | 1539/6561 [00:20<00:59, 84.86it/s]"
     ]
    },
    {
     "name": "stderr",
     "output_type": "stream",
     "text": [
      "\r",
      "loading hamiltonians:  24%|██▎       | 1548/6561 [00:20<01:03, 79.19it/s]"
     ]
    },
    {
     "name": "stderr",
     "output_type": "stream",
     "text": [
      "\r",
      "loading hamiltonians:  24%|██▎       | 1558/6561 [00:20<01:01, 81.86it/s]"
     ]
    },
    {
     "name": "stderr",
     "output_type": "stream",
     "text": [
      "\r",
      "loading hamiltonians:  24%|██▍       | 1567/6561 [00:21<01:05, 76.45it/s]"
     ]
    },
    {
     "name": "stderr",
     "output_type": "stream",
     "text": [
      "\r",
      "loading hamiltonians:  24%|██▍       | 1575/6561 [00:21<01:06, 75.03it/s]"
     ]
    },
    {
     "name": "stderr",
     "output_type": "stream",
     "text": [
      "\r",
      "loading hamiltonians:  24%|██▍       | 1583/6561 [00:21<01:05, 76.29it/s]"
     ]
    },
    {
     "name": "stderr",
     "output_type": "stream",
     "text": [
      "\r",
      "loading hamiltonians:  24%|██▍       | 1594/6561 [00:21<01:00, 82.75it/s]"
     ]
    },
    {
     "name": "stderr",
     "output_type": "stream",
     "text": [
      "\r",
      "loading hamiltonians:  24%|██▍       | 1603/6561 [00:21<01:10, 70.40it/s]"
     ]
    },
    {
     "name": "stderr",
     "output_type": "stream",
     "text": [
      "\r",
      "loading hamiltonians:  25%|██▍       | 1611/6561 [00:21<01:08, 72.69it/s]"
     ]
    },
    {
     "name": "stderr",
     "output_type": "stream",
     "text": [
      "\r",
      "loading hamiltonians:  25%|██▍       | 1619/6561 [00:21<01:08, 72.11it/s]"
     ]
    },
    {
     "name": "stderr",
     "output_type": "stream",
     "text": [
      "\r",
      "loading hamiltonians:  25%|██▍       | 1627/6561 [00:21<01:10, 70.00it/s]"
     ]
    },
    {
     "name": "stderr",
     "output_type": "stream",
     "text": [
      "\r",
      "loading hamiltonians:  25%|██▍       | 1635/6561 [00:21<01:08, 71.47it/s]"
     ]
    },
    {
     "name": "stderr",
     "output_type": "stream",
     "text": [
      "\r",
      "loading hamiltonians:  25%|██▌       | 1643/6561 [00:22<01:09, 70.96it/s]"
     ]
    },
    {
     "name": "stderr",
     "output_type": "stream",
     "text": [
      "\r",
      "loading hamiltonians:  25%|██▌       | 1652/6561 [00:22<01:06, 73.99it/s]"
     ]
    },
    {
     "name": "stderr",
     "output_type": "stream",
     "text": [
      "\r",
      "loading hamiltonians:  25%|██▌       | 1662/6561 [00:22<01:01, 79.08it/s]"
     ]
    },
    {
     "name": "stderr",
     "output_type": "stream",
     "text": [
      "\r",
      "loading hamiltonians:  25%|██▌       | 1671/6561 [00:22<01:02, 78.70it/s]"
     ]
    },
    {
     "name": "stderr",
     "output_type": "stream",
     "text": [
      "\r",
      "loading hamiltonians:  26%|██▌       | 1679/6561 [00:22<01:04, 75.62it/s]"
     ]
    },
    {
     "name": "stderr",
     "output_type": "stream",
     "text": [
      "\r",
      "loading hamiltonians:  26%|██▌       | 1687/6561 [00:22<01:04, 75.21it/s]"
     ]
    },
    {
     "name": "stderr",
     "output_type": "stream",
     "text": [
      "\r",
      "loading hamiltonians:  26%|██▌       | 1695/6561 [00:22<01:05, 74.32it/s]"
     ]
    },
    {
     "name": "stderr",
     "output_type": "stream",
     "text": [
      "\r",
      "loading hamiltonians:  26%|██▌       | 1703/6561 [00:23<01:42, 47.35it/s]"
     ]
    },
    {
     "name": "stderr",
     "output_type": "stream",
     "text": [
      "\r",
      "loading hamiltonians:  26%|██▌       | 1710/6561 [00:23<01:33, 52.12it/s]"
     ]
    },
    {
     "name": "stderr",
     "output_type": "stream",
     "text": [
      "\r",
      "loading hamiltonians:  26%|██▌       | 1719/6561 [00:23<01:21, 59.51it/s]"
     ]
    },
    {
     "name": "stderr",
     "output_type": "stream",
     "text": [
      "\r",
      "loading hamiltonians:  26%|██▋       | 1727/6561 [00:23<02:46, 29.02it/s]"
     ]
    },
    {
     "name": "stderr",
     "output_type": "stream",
     "text": [
      "\r",
      "loading hamiltonians:  26%|██▋       | 1735/6561 [00:23<02:16, 35.36it/s]"
     ]
    },
    {
     "name": "stderr",
     "output_type": "stream",
     "text": [
      "\r",
      "loading hamiltonians:  27%|██▋       | 1743/6561 [00:24<01:55, 41.87it/s]"
     ]
    },
    {
     "name": "stderr",
     "output_type": "stream",
     "text": [
      "\r",
      "loading hamiltonians:  27%|██▋       | 1750/6561 [00:24<01:43, 46.67it/s]"
     ]
    },
    {
     "name": "stderr",
     "output_type": "stream",
     "text": [
      "\r",
      "loading hamiltonians:  27%|██▋       | 1760/6561 [00:24<01:27, 55.06it/s]"
     ]
    },
    {
     "name": "stderr",
     "output_type": "stream",
     "text": [
      "\r",
      "loading hamiltonians:  27%|██▋       | 1772/6561 [00:24<01:14, 64.37it/s]"
     ]
    },
    {
     "name": "stderr",
     "output_type": "stream",
     "text": [
      "\r",
      "loading hamiltonians:  27%|██▋       | 1781/6561 [00:24<01:10, 68.21it/s]"
     ]
    },
    {
     "name": "stderr",
     "output_type": "stream",
     "text": [
      "\r",
      "loading hamiltonians:  27%|██▋       | 1790/6561 [00:24<01:10, 67.99it/s]"
     ]
    },
    {
     "name": "stderr",
     "output_type": "stream",
     "text": [
      "\r",
      "loading hamiltonians:  27%|██▋       | 1798/6561 [00:24<01:09, 68.65it/s]"
     ]
    },
    {
     "name": "stderr",
     "output_type": "stream",
     "text": [
      "\r",
      "loading hamiltonians:  28%|██▊       | 1810/6561 [00:24<01:00, 77.89it/s]"
     ]
    },
    {
     "name": "stderr",
     "output_type": "stream",
     "text": [
      "\r",
      "loading hamiltonians:  28%|██▊       | 1820/6561 [00:24<00:59, 79.90it/s]"
     ]
    },
    {
     "name": "stderr",
     "output_type": "stream",
     "text": [
      "\r",
      "loading hamiltonians:  28%|██▊       | 1829/6561 [00:25<00:58, 80.25it/s]"
     ]
    },
    {
     "name": "stderr",
     "output_type": "stream",
     "text": [
      "\r",
      "loading hamiltonians:  28%|██▊       | 1838/6561 [00:25<01:01, 76.86it/s]"
     ]
    },
    {
     "name": "stderr",
     "output_type": "stream",
     "text": [
      "\r",
      "loading hamiltonians:  28%|██▊       | 1847/6561 [00:25<01:02, 75.37it/s]"
     ]
    },
    {
     "name": "stderr",
     "output_type": "stream",
     "text": [
      "\r",
      "loading hamiltonians:  28%|██▊       | 1856/6561 [00:25<01:01, 77.11it/s]"
     ]
    },
    {
     "name": "stderr",
     "output_type": "stream",
     "text": [
      "\r",
      "loading hamiltonians:  28%|██▊       | 1864/6561 [00:25<01:03, 74.34it/s]"
     ]
    },
    {
     "name": "stderr",
     "output_type": "stream",
     "text": [
      "\r",
      "loading hamiltonians:  29%|██▊       | 1872/6561 [00:25<01:03, 74.36it/s]"
     ]
    },
    {
     "name": "stderr",
     "output_type": "stream",
     "text": [
      "\r",
      "loading hamiltonians:  29%|██▊       | 1880/6561 [00:25<01:04, 72.87it/s]"
     ]
    },
    {
     "name": "stderr",
     "output_type": "stream",
     "text": [
      "\r",
      "loading hamiltonians:  29%|██▉       | 1888/6561 [00:25<01:05, 71.64it/s]"
     ]
    },
    {
     "name": "stderr",
     "output_type": "stream",
     "text": [
      "\r",
      "loading hamiltonians:  29%|██▉       | 1896/6561 [00:26<01:04, 72.29it/s]"
     ]
    },
    {
     "name": "stderr",
     "output_type": "stream",
     "text": [
      "\r",
      "loading hamiltonians:  29%|██▉       | 1905/6561 [00:26<01:06, 70.20it/s]"
     ]
    },
    {
     "name": "stderr",
     "output_type": "stream",
     "text": [
      "\r",
      "loading hamiltonians:  29%|██▉       | 1915/6561 [00:26<01:01, 75.51it/s]"
     ]
    },
    {
     "name": "stderr",
     "output_type": "stream",
     "text": [
      "\r",
      "loading hamiltonians:  29%|██▉       | 1923/6561 [00:26<01:00, 76.20it/s]"
     ]
    },
    {
     "name": "stderr",
     "output_type": "stream",
     "text": [
      "\r",
      "loading hamiltonians:  29%|██▉       | 1932/6561 [00:26<00:59, 77.50it/s]"
     ]
    },
    {
     "name": "stderr",
     "output_type": "stream",
     "text": [
      "\r",
      "loading hamiltonians:  30%|██▉       | 1940/6561 [00:26<01:02, 73.98it/s]"
     ]
    },
    {
     "name": "stderr",
     "output_type": "stream",
     "text": [
      "\r",
      "loading hamiltonians:  30%|██▉       | 1948/6561 [00:26<01:01, 74.62it/s]"
     ]
    },
    {
     "name": "stderr",
     "output_type": "stream",
     "text": [
      "\r",
      "loading hamiltonians:  30%|██▉       | 1956/6561 [00:26<01:03, 72.42it/s]"
     ]
    },
    {
     "name": "stderr",
     "output_type": "stream",
     "text": [
      "\r",
      "loading hamiltonians:  30%|██▉       | 1964/6561 [00:26<01:02, 73.29it/s]"
     ]
    },
    {
     "name": "stderr",
     "output_type": "stream",
     "text": [
      "\r",
      "loading hamiltonians:  30%|███       | 1972/6561 [00:27<01:07, 67.98it/s]"
     ]
    },
    {
     "name": "stderr",
     "output_type": "stream",
     "text": [
      "\r",
      "loading hamiltonians:  30%|███       | 1979/6561 [00:27<01:07, 67.47it/s]"
     ]
    },
    {
     "name": "stderr",
     "output_type": "stream",
     "text": [
      "\r",
      "loading hamiltonians:  30%|███       | 1989/6561 [00:27<01:02, 73.50it/s]"
     ]
    },
    {
     "name": "stderr",
     "output_type": "stream",
     "text": [
      "\r",
      "loading hamiltonians:  30%|███       | 1999/6561 [00:27<00:57, 79.43it/s]"
     ]
    },
    {
     "name": "stderr",
     "output_type": "stream",
     "text": [
      "\r",
      "loading hamiltonians:  31%|███       | 2008/6561 [00:27<00:59, 76.49it/s]"
     ]
    },
    {
     "name": "stderr",
     "output_type": "stream",
     "text": [
      "\r",
      "loading hamiltonians:  31%|███       | 2018/6561 [00:27<00:55, 82.09it/s]"
     ]
    },
    {
     "name": "stderr",
     "output_type": "stream",
     "text": [
      "\r",
      "loading hamiltonians:  31%|███       | 2027/6561 [00:27<00:57, 78.89it/s]"
     ]
    },
    {
     "name": "stderr",
     "output_type": "stream",
     "text": [
      "\r",
      "loading hamiltonians:  31%|███       | 2036/6561 [00:27<00:58, 77.46it/s]"
     ]
    },
    {
     "name": "stderr",
     "output_type": "stream",
     "text": [
      "\r",
      "loading hamiltonians:  31%|███       | 2044/6561 [00:27<00:58, 77.49it/s]"
     ]
    },
    {
     "name": "stderr",
     "output_type": "stream",
     "text": [
      "\r",
      "loading hamiltonians:  31%|███▏      | 2052/6561 [00:28<01:08, 65.41it/s]"
     ]
    },
    {
     "name": "stderr",
     "output_type": "stream",
     "text": [
      "\r",
      "loading hamiltonians:  31%|███▏      | 2061/6561 [00:28<01:03, 70.65it/s]"
     ]
    },
    {
     "name": "stderr",
     "output_type": "stream",
     "text": [
      "\r",
      "loading hamiltonians:  32%|███▏      | 2070/6561 [00:28<01:02, 72.42it/s]"
     ]
    },
    {
     "name": "stderr",
     "output_type": "stream",
     "text": [
      "\r",
      "loading hamiltonians:  32%|███▏      | 2078/6561 [00:28<01:02, 71.89it/s]"
     ]
    },
    {
     "name": "stderr",
     "output_type": "stream",
     "text": [
      "\r",
      "loading hamiltonians:  32%|███▏      | 2088/6561 [00:28<00:57, 78.09it/s]"
     ]
    },
    {
     "name": "stderr",
     "output_type": "stream",
     "text": [
      "\r",
      "loading hamiltonians:  32%|███▏      | 2100/6561 [00:28<00:52, 85.52it/s]"
     ]
    },
    {
     "name": "stderr",
     "output_type": "stream",
     "text": [
      "\r",
      "loading hamiltonians:  32%|███▏      | 2112/6561 [00:28<00:48, 92.17it/s]"
     ]
    },
    {
     "name": "stderr",
     "output_type": "stream",
     "text": [
      "\r",
      "loading hamiltonians:  32%|███▏      | 2122/6561 [00:28<00:52, 83.84it/s]"
     ]
    },
    {
     "name": "stderr",
     "output_type": "stream",
     "text": [
      "\r",
      "loading hamiltonians:  32%|███▏      | 2131/6561 [00:29<00:54, 80.91it/s]"
     ]
    },
    {
     "name": "stderr",
     "output_type": "stream",
     "text": [
      "\r",
      "loading hamiltonians:  33%|███▎      | 2140/6561 [00:29<00:56, 78.33it/s]"
     ]
    },
    {
     "name": "stderr",
     "output_type": "stream",
     "text": [
      "\r",
      "loading hamiltonians:  33%|███▎      | 2149/6561 [00:29<00:54, 81.09it/s]"
     ]
    },
    {
     "name": "stderr",
     "output_type": "stream",
     "text": [
      "\r",
      "loading hamiltonians:  33%|███▎      | 2158/6561 [00:29<00:52, 83.45it/s]"
     ]
    },
    {
     "name": "stderr",
     "output_type": "stream",
     "text": [
      "\r",
      "loading hamiltonians:  33%|███▎      | 2167/6561 [00:29<00:54, 80.35it/s]"
     ]
    },
    {
     "name": "stderr",
     "output_type": "stream",
     "text": [
      "\r",
      "loading hamiltonians:  33%|███▎      | 2176/6561 [00:29<00:54, 81.09it/s]"
     ]
    },
    {
     "name": "stderr",
     "output_type": "stream",
     "text": [
      "\r",
      "loading hamiltonians:  33%|███▎      | 2185/6561 [00:29<00:52, 83.26it/s]"
     ]
    },
    {
     "name": "stderr",
     "output_type": "stream",
     "text": [
      "\r",
      "loading hamiltonians:  33%|███▎      | 2196/6561 [00:29<00:48, 89.16it/s]"
     ]
    },
    {
     "name": "stderr",
     "output_type": "stream",
     "text": [
      "\r",
      "loading hamiltonians:  34%|███▎      | 2206/6561 [00:29<00:55, 77.97it/s]"
     ]
    },
    {
     "name": "stderr",
     "output_type": "stream",
     "text": [
      "\r",
      "loading hamiltonians:  34%|███▍      | 2215/6561 [00:30<00:55, 78.51it/s]"
     ]
    },
    {
     "name": "stderr",
     "output_type": "stream",
     "text": [
      "\r",
      "loading hamiltonians:  34%|███▍      | 2225/6561 [00:30<00:52, 82.14it/s]"
     ]
    },
    {
     "name": "stderr",
     "output_type": "stream",
     "text": [
      "\r",
      "loading hamiltonians:  34%|███▍      | 2236/6561 [00:30<00:49, 87.73it/s]"
     ]
    },
    {
     "name": "stderr",
     "output_type": "stream",
     "text": [
      "\r",
      "loading hamiltonians:  34%|███▍      | 2246/6561 [00:30<00:47, 90.59it/s]"
     ]
    },
    {
     "name": "stderr",
     "output_type": "stream",
     "text": [
      "\r",
      "loading hamiltonians:  34%|███▍      | 2256/6561 [00:30<00:56, 75.98it/s]"
     ]
    },
    {
     "name": "stderr",
     "output_type": "stream",
     "text": [
      "\r",
      "loading hamiltonians:  35%|███▍      | 2265/6561 [00:30<00:57, 74.19it/s]"
     ]
    },
    {
     "name": "stderr",
     "output_type": "stream",
     "text": [
      "\r",
      "loading hamiltonians:  35%|███▍      | 2274/6561 [00:30<00:55, 77.18it/s]"
     ]
    },
    {
     "name": "stderr",
     "output_type": "stream",
     "text": [
      "\r",
      "loading hamiltonians:  35%|███▍      | 2284/6561 [00:30<00:53, 80.30it/s]"
     ]
    },
    {
     "name": "stderr",
     "output_type": "stream",
     "text": [
      "\r",
      "loading hamiltonians:  35%|███▍      | 2293/6561 [00:31<00:52, 81.31it/s]"
     ]
    },
    {
     "name": "stderr",
     "output_type": "stream",
     "text": [
      "\r",
      "loading hamiltonians:  35%|███▌      | 2302/6561 [00:31<00:51, 83.47it/s]"
     ]
    },
    {
     "name": "stderr",
     "output_type": "stream",
     "text": [
      "\r",
      "loading hamiltonians:  35%|███▌      | 2311/6561 [00:31<00:52, 81.21it/s]"
     ]
    },
    {
     "name": "stderr",
     "output_type": "stream",
     "text": [
      "\r",
      "loading hamiltonians:  35%|███▌      | 2320/6561 [00:31<00:55, 76.01it/s]"
     ]
    },
    {
     "name": "stderr",
     "output_type": "stream",
     "text": [
      "\r",
      "loading hamiltonians:  35%|███▌      | 2328/6561 [00:31<00:59, 70.75it/s]"
     ]
    },
    {
     "name": "stderr",
     "output_type": "stream",
     "text": [
      "\r",
      "loading hamiltonians:  36%|███▌      | 2337/6561 [00:31<00:57, 73.96it/s]"
     ]
    },
    {
     "name": "stderr",
     "output_type": "stream",
     "text": [
      "\r",
      "loading hamiltonians:  36%|███▌      | 2345/6561 [00:31<00:56, 75.12it/s]"
     ]
    },
    {
     "name": "stderr",
     "output_type": "stream",
     "text": [
      "\r",
      "loading hamiltonians:  36%|███▌      | 2354/6561 [00:31<00:54, 77.89it/s]"
     ]
    },
    {
     "name": "stderr",
     "output_type": "stream",
     "text": [
      "\r",
      "loading hamiltonians:  36%|███▌      | 2363/6561 [00:31<00:52, 79.74it/s]"
     ]
    },
    {
     "name": "stderr",
     "output_type": "stream",
     "text": [
      "\r",
      "loading hamiltonians:  36%|███▌      | 2372/6561 [00:32<00:51, 80.66it/s]"
     ]
    },
    {
     "name": "stderr",
     "output_type": "stream",
     "text": [
      "\r",
      "loading hamiltonians:  36%|███▋      | 2383/6561 [00:32<00:48, 85.75it/s]"
     ]
    },
    {
     "name": "stderr",
     "output_type": "stream",
     "text": [
      "\r",
      "loading hamiltonians:  36%|███▋      | 2392/6561 [00:33<02:31, 27.52it/s]"
     ]
    },
    {
     "name": "stderr",
     "output_type": "stream",
     "text": [
      "\r",
      "loading hamiltonians:  37%|███▋      | 2399/6561 [00:33<02:21, 29.34it/s]"
     ]
    },
    {
     "name": "stderr",
     "output_type": "stream",
     "text": [
      "\r",
      "loading hamiltonians:  37%|███▋      | 2408/6561 [00:33<01:54, 36.39it/s]"
     ]
    },
    {
     "name": "stderr",
     "output_type": "stream",
     "text": [
      "\r",
      "loading hamiltonians:  37%|███▋      | 2419/6561 [00:33<01:32, 44.79it/s]"
     ]
    },
    {
     "name": "stderr",
     "output_type": "stream",
     "text": [
      "\r",
      "loading hamiltonians:  37%|███▋      | 2427/6561 [00:33<01:21, 50.73it/s]"
     ]
    },
    {
     "name": "stderr",
     "output_type": "stream",
     "text": [
      "\r",
      "loading hamiltonians:  37%|███▋      | 2437/6561 [00:33<01:09, 59.19it/s]"
     ]
    },
    {
     "name": "stderr",
     "output_type": "stream",
     "text": [
      "\r",
      "loading hamiltonians:  37%|███▋      | 2446/6561 [00:33<01:02, 65.61it/s]"
     ]
    },
    {
     "name": "stderr",
     "output_type": "stream",
     "text": [
      "\r",
      "loading hamiltonians:  37%|███▋      | 2455/6561 [00:33<01:00, 68.41it/s]"
     ]
    },
    {
     "name": "stderr",
     "output_type": "stream",
     "text": [
      "\r",
      "loading hamiltonians:  38%|███▊      | 2465/6561 [00:33<00:55, 73.25it/s]"
     ]
    },
    {
     "name": "stderr",
     "output_type": "stream",
     "text": [
      "\r",
      "loading hamiltonians:  38%|███▊      | 2474/6561 [00:34<00:54, 74.47it/s]"
     ]
    },
    {
     "name": "stderr",
     "output_type": "stream",
     "text": [
      "\r",
      "loading hamiltonians:  38%|███▊      | 2483/6561 [00:34<00:52, 77.57it/s]"
     ]
    },
    {
     "name": "stderr",
     "output_type": "stream",
     "text": [
      "\r",
      "loading hamiltonians:  38%|███▊      | 2493/6561 [00:34<00:49, 81.76it/s]"
     ]
    },
    {
     "name": "stderr",
     "output_type": "stream",
     "text": [
      "\r",
      "loading hamiltonians:  38%|███▊      | 2502/6561 [00:34<00:53, 75.27it/s]"
     ]
    },
    {
     "name": "stderr",
     "output_type": "stream",
     "text": [
      "\r",
      "loading hamiltonians:  38%|███▊      | 2510/6561 [00:34<00:55, 72.92it/s]"
     ]
    },
    {
     "name": "stderr",
     "output_type": "stream",
     "text": [
      "\r",
      "loading hamiltonians:  38%|███▊      | 2518/6561 [00:34<00:54, 74.46it/s]"
     ]
    },
    {
     "name": "stderr",
     "output_type": "stream",
     "text": [
      "\r",
      "loading hamiltonians:  39%|███▊      | 2526/6561 [00:34<00:53, 75.75it/s]"
     ]
    },
    {
     "name": "stderr",
     "output_type": "stream",
     "text": [
      "\r",
      "loading hamiltonians:  39%|███▊      | 2535/6561 [00:34<00:52, 77.06it/s]"
     ]
    },
    {
     "name": "stderr",
     "output_type": "stream",
     "text": [
      "\r",
      "loading hamiltonians:  39%|███▉      | 2543/6561 [00:34<00:52, 76.29it/s]"
     ]
    },
    {
     "name": "stderr",
     "output_type": "stream",
     "text": [
      "\r",
      "loading hamiltonians:  39%|███▉      | 2551/6561 [00:35<00:53, 75.56it/s]"
     ]
    },
    {
     "name": "stderr",
     "output_type": "stream",
     "text": [
      "\r",
      "loading hamiltonians:  39%|███▉      | 2559/6561 [00:35<00:53, 75.29it/s]"
     ]
    },
    {
     "name": "stderr",
     "output_type": "stream",
     "text": [
      "\r",
      "loading hamiltonians:  39%|███▉      | 2568/6561 [00:35<00:51, 77.69it/s]"
     ]
    },
    {
     "name": "stderr",
     "output_type": "stream",
     "text": [
      "\r",
      "loading hamiltonians:  39%|███▉      | 2576/6561 [00:35<00:55, 71.68it/s]"
     ]
    },
    {
     "name": "stderr",
     "output_type": "stream",
     "text": [
      "\r",
      "loading hamiltonians:  39%|███▉      | 2584/6561 [00:35<00:56, 70.43it/s]"
     ]
    },
    {
     "name": "stderr",
     "output_type": "stream",
     "text": [
      "\r",
      "loading hamiltonians:  40%|███▉      | 2592/6561 [00:35<00:54, 72.90it/s]"
     ]
    },
    {
     "name": "stderr",
     "output_type": "stream",
     "text": [
      "\r",
      "loading hamiltonians:  40%|███▉      | 2601/6561 [00:35<00:51, 76.97it/s]"
     ]
    },
    {
     "name": "stderr",
     "output_type": "stream",
     "text": [
      "\r",
      "loading hamiltonians:  40%|███▉      | 2610/6561 [00:35<00:51, 76.73it/s]"
     ]
    },
    {
     "name": "stderr",
     "output_type": "stream",
     "text": [
      "\r",
      "loading hamiltonians:  40%|███▉      | 2618/6561 [00:36<00:53, 73.93it/s]"
     ]
    },
    {
     "name": "stderr",
     "output_type": "stream",
     "text": [
      "\r",
      "loading hamiltonians:  40%|████      | 2627/6561 [00:36<00:51, 76.62it/s]"
     ]
    },
    {
     "name": "stderr",
     "output_type": "stream",
     "text": [
      "\r",
      "loading hamiltonians:  40%|████      | 2636/6561 [00:36<00:49, 79.17it/s]"
     ]
    },
    {
     "name": "stderr",
     "output_type": "stream",
     "text": [
      "\r",
      "loading hamiltonians:  40%|████      | 2645/6561 [00:36<00:47, 81.89it/s]"
     ]
    },
    {
     "name": "stderr",
     "output_type": "stream",
     "text": [
      "\r",
      "loading hamiltonians:  40%|████      | 2655/6561 [00:36<00:45, 86.38it/s]"
     ]
    },
    {
     "name": "stderr",
     "output_type": "stream",
     "text": [
      "\r",
      "loading hamiltonians:  41%|████      | 2664/6561 [00:36<00:45, 85.03it/s]"
     ]
    },
    {
     "name": "stderr",
     "output_type": "stream",
     "text": [
      "\r",
      "loading hamiltonians:  41%|████      | 2673/6561 [00:36<00:47, 82.22it/s]"
     ]
    },
    {
     "name": "stderr",
     "output_type": "stream",
     "text": [
      "\r",
      "loading hamiltonians:  41%|████      | 2683/6561 [00:36<00:46, 83.52it/s]"
     ]
    },
    {
     "name": "stderr",
     "output_type": "stream",
     "text": [
      "\r",
      "loading hamiltonians:  41%|████      | 2692/6561 [00:36<00:54, 71.17it/s]"
     ]
    },
    {
     "name": "stderr",
     "output_type": "stream",
     "text": [
      "\r",
      "loading hamiltonians:  41%|████      | 2701/6561 [00:37<00:51, 75.12it/s]"
     ]
    },
    {
     "name": "stderr",
     "output_type": "stream",
     "text": [
      "\r",
      "loading hamiltonians:  41%|████▏     | 2711/6561 [00:37<00:49, 78.37it/s]"
     ]
    },
    {
     "name": "stderr",
     "output_type": "stream",
     "text": [
      "\r",
      "loading hamiltonians:  41%|████▏     | 2720/6561 [00:37<00:49, 77.16it/s]"
     ]
    },
    {
     "name": "stderr",
     "output_type": "stream",
     "text": [
      "\r",
      "loading hamiltonians:  42%|████▏     | 2728/6561 [00:37<00:52, 73.39it/s]"
     ]
    },
    {
     "name": "stderr",
     "output_type": "stream",
     "text": [
      "\r",
      "loading hamiltonians:  42%|████▏     | 2736/6561 [00:37<00:51, 73.82it/s]"
     ]
    },
    {
     "name": "stderr",
     "output_type": "stream",
     "text": [
      "\r",
      "loading hamiltonians:  42%|████▏     | 2745/6561 [00:37<00:50, 75.95it/s]"
     ]
    },
    {
     "name": "stderr",
     "output_type": "stream",
     "text": [
      "\r",
      "loading hamiltonians:  42%|████▏     | 2753/6561 [00:37<00:51, 74.67it/s]"
     ]
    },
    {
     "name": "stderr",
     "output_type": "stream",
     "text": [
      "\r",
      "loading hamiltonians:  42%|████▏     | 2763/6561 [00:37<00:48, 78.61it/s]"
     ]
    },
    {
     "name": "stderr",
     "output_type": "stream",
     "text": [
      "\r",
      "loading hamiltonians:  42%|████▏     | 2771/6561 [00:37<00:49, 76.99it/s]"
     ]
    },
    {
     "name": "stderr",
     "output_type": "stream",
     "text": [
      "\r",
      "loading hamiltonians:  42%|████▏     | 2780/6561 [00:38<00:48, 78.44it/s]"
     ]
    },
    {
     "name": "stderr",
     "output_type": "stream",
     "text": [
      "\r",
      "loading hamiltonians:  42%|████▏     | 2788/6561 [00:38<01:03, 59.26it/s]"
     ]
    },
    {
     "name": "stderr",
     "output_type": "stream",
     "text": [
      "\r",
      "loading hamiltonians:  43%|████▎     | 2798/6561 [00:38<00:56, 66.75it/s]"
     ]
    },
    {
     "name": "stderr",
     "output_type": "stream",
     "text": [
      "\r",
      "loading hamiltonians:  43%|████▎     | 2806/6561 [00:38<00:53, 69.91it/s]"
     ]
    },
    {
     "name": "stderr",
     "output_type": "stream",
     "text": [
      "\r",
      "loading hamiltonians:  43%|████▎     | 2814/6561 [00:38<00:54, 68.59it/s]"
     ]
    },
    {
     "name": "stderr",
     "output_type": "stream",
     "text": [
      "\r",
      "loading hamiltonians:  43%|████▎     | 2822/6561 [00:38<00:53, 69.29it/s]"
     ]
    },
    {
     "name": "stderr",
     "output_type": "stream",
     "text": [
      "\r",
      "loading hamiltonians:  43%|████▎     | 2832/6561 [00:38<00:50, 74.30it/s]"
     ]
    },
    {
     "name": "stderr",
     "output_type": "stream",
     "text": [
      "\r",
      "loading hamiltonians:  43%|████▎     | 2840/6561 [00:38<00:51, 72.41it/s]"
     ]
    },
    {
     "name": "stderr",
     "output_type": "stream",
     "text": [
      "\r",
      "loading hamiltonians:  43%|████▎     | 2848/6561 [00:39<00:51, 72.60it/s]"
     ]
    },
    {
     "name": "stderr",
     "output_type": "stream",
     "text": [
      "\r",
      "loading hamiltonians:  44%|████▎     | 2856/6561 [00:39<00:51, 71.40it/s]"
     ]
    },
    {
     "name": "stderr",
     "output_type": "stream",
     "text": [
      "\r",
      "loading hamiltonians:  44%|████▎     | 2868/6561 [00:39<00:45, 80.55it/s]"
     ]
    },
    {
     "name": "stderr",
     "output_type": "stream",
     "text": [
      "\r",
      "loading hamiltonians:  44%|████▍     | 2877/6561 [00:39<00:44, 82.03it/s]"
     ]
    },
    {
     "name": "stderr",
     "output_type": "stream",
     "text": [
      "\r",
      "loading hamiltonians:  44%|████▍     | 2886/6561 [00:39<00:44, 81.84it/s]"
     ]
    },
    {
     "name": "stderr",
     "output_type": "stream",
     "text": [
      "\r",
      "loading hamiltonians:  44%|████▍     | 2895/6561 [00:39<00:43, 83.50it/s]"
     ]
    },
    {
     "name": "stderr",
     "output_type": "stream",
     "text": [
      "\r",
      "loading hamiltonians:  44%|████▍     | 2904/6561 [00:39<00:44, 82.60it/s]"
     ]
    },
    {
     "name": "stderr",
     "output_type": "stream",
     "text": [
      "\r",
      "loading hamiltonians:  44%|████▍     | 2913/6561 [00:39<00:45, 80.69it/s]"
     ]
    },
    {
     "name": "stderr",
     "output_type": "stream",
     "text": [
      "\r",
      "loading hamiltonians:  45%|████▍     | 2922/6561 [00:39<00:47, 75.96it/s]"
     ]
    },
    {
     "name": "stderr",
     "output_type": "stream",
     "text": [
      "\r",
      "loading hamiltonians:  45%|████▍     | 2930/6561 [00:40<00:52, 69.63it/s]"
     ]
    },
    {
     "name": "stderr",
     "output_type": "stream",
     "text": [
      "\r",
      "loading hamiltonians:  45%|████▍     | 2939/6561 [00:40<00:49, 72.65it/s]"
     ]
    },
    {
     "name": "stderr",
     "output_type": "stream",
     "text": [
      "\r",
      "loading hamiltonians:  45%|████▍     | 2948/6561 [00:40<00:46, 76.99it/s]"
     ]
    },
    {
     "name": "stderr",
     "output_type": "stream",
     "text": [
      "\r",
      "loading hamiltonians:  45%|████▌     | 2956/6561 [00:40<00:48, 75.01it/s]"
     ]
    },
    {
     "name": "stderr",
     "output_type": "stream",
     "text": [
      "\r",
      "loading hamiltonians:  45%|████▌     | 2964/6561 [00:40<00:49, 73.16it/s]"
     ]
    },
    {
     "name": "stderr",
     "output_type": "stream",
     "text": [
      "\r",
      "loading hamiltonians:  45%|████▌     | 2975/6561 [00:40<00:44, 80.22it/s]"
     ]
    },
    {
     "name": "stderr",
     "output_type": "stream",
     "text": [
      "\r",
      "loading hamiltonians:  45%|████▌     | 2984/6561 [00:40<00:46, 77.31it/s]"
     ]
    },
    {
     "name": "stderr",
     "output_type": "stream",
     "text": [
      "\r",
      "loading hamiltonians:  46%|████▌     | 2992/6561 [00:40<00:50, 70.84it/s]"
     ]
    },
    {
     "name": "stderr",
     "output_type": "stream",
     "text": [
      "\r",
      "loading hamiltonians:  46%|████▌     | 3001/6561 [00:41<00:48, 74.05it/s]"
     ]
    },
    {
     "name": "stderr",
     "output_type": "stream",
     "text": [
      "\r",
      "loading hamiltonians:  46%|████▌     | 3009/6561 [00:41<00:49, 71.98it/s]"
     ]
    },
    {
     "name": "stderr",
     "output_type": "stream",
     "text": [
      "\r",
      "loading hamiltonians:  46%|████▌     | 3017/6561 [00:41<00:48, 73.83it/s]"
     ]
    },
    {
     "name": "stderr",
     "output_type": "stream",
     "text": [
      "\r",
      "loading hamiltonians:  46%|████▌     | 3027/6561 [00:41<00:45, 77.60it/s]"
     ]
    },
    {
     "name": "stderr",
     "output_type": "stream",
     "text": [
      "\r",
      "loading hamiltonians:  46%|████▋     | 3036/6561 [00:41<00:44, 78.81it/s]"
     ]
    },
    {
     "name": "stderr",
     "output_type": "stream",
     "text": [
      "\r",
      "loading hamiltonians:  46%|████▋     | 3044/6561 [00:41<00:45, 78.00it/s]"
     ]
    },
    {
     "name": "stderr",
     "output_type": "stream",
     "text": [
      "\r",
      "loading hamiltonians:  47%|████▋     | 3052/6561 [00:41<00:46, 76.04it/s]"
     ]
    },
    {
     "name": "stderr",
     "output_type": "stream",
     "text": [
      "\r",
      "loading hamiltonians:  47%|████▋     | 3061/6561 [00:41<00:44, 77.84it/s]"
     ]
    },
    {
     "name": "stderr",
     "output_type": "stream",
     "text": [
      "\r",
      "loading hamiltonians:  47%|████▋     | 3069/6561 [00:41<00:46, 75.29it/s]"
     ]
    },
    {
     "name": "stderr",
     "output_type": "stream",
     "text": [
      "\r",
      "loading hamiltonians:  47%|████▋     | 3077/6561 [00:42<00:48, 72.01it/s]"
     ]
    },
    {
     "name": "stderr",
     "output_type": "stream",
     "text": [
      "\r",
      "loading hamiltonians:  47%|████▋     | 3085/6561 [00:42<00:48, 71.77it/s]"
     ]
    },
    {
     "name": "stderr",
     "output_type": "stream",
     "text": [
      "\r",
      "loading hamiltonians:  47%|████▋     | 3093/6561 [00:42<00:48, 72.04it/s]"
     ]
    },
    {
     "name": "stderr",
     "output_type": "stream",
     "text": [
      "\r",
      "loading hamiltonians:  47%|████▋     | 3102/6561 [00:42<00:45, 75.94it/s]"
     ]
    },
    {
     "name": "stderr",
     "output_type": "stream",
     "text": [
      "\r",
      "loading hamiltonians:  47%|████▋     | 3110/6561 [00:42<00:46, 73.77it/s]"
     ]
    },
    {
     "name": "stderr",
     "output_type": "stream",
     "text": [
      "\r",
      "loading hamiltonians:  48%|████▊     | 3118/6561 [00:42<00:45, 74.99it/s]"
     ]
    },
    {
     "name": "stderr",
     "output_type": "stream",
     "text": [
      "\r",
      "loading hamiltonians:  48%|████▊     | 3127/6561 [00:42<00:44, 77.96it/s]"
     ]
    },
    {
     "name": "stderr",
     "output_type": "stream",
     "text": [
      "\r",
      "loading hamiltonians:  48%|████▊     | 3137/6561 [00:42<00:41, 83.43it/s]"
     ]
    },
    {
     "name": "stderr",
     "output_type": "stream",
     "text": [
      "\r",
      "loading hamiltonians:  48%|████▊     | 3146/6561 [00:42<00:40, 84.10it/s]"
     ]
    },
    {
     "name": "stderr",
     "output_type": "stream",
     "text": [
      "\r",
      "loading hamiltonians:  48%|████▊     | 3155/6561 [00:42<00:40, 84.71it/s]"
     ]
    },
    {
     "name": "stderr",
     "output_type": "stream",
     "text": [
      "\r",
      "loading hamiltonians:  48%|████▊     | 3164/6561 [00:43<00:42, 79.46it/s]"
     ]
    },
    {
     "name": "stderr",
     "output_type": "stream",
     "text": [
      "\r",
      "loading hamiltonians:  48%|████▊     | 3173/6561 [00:43<00:55, 61.26it/s]"
     ]
    },
    {
     "name": "stderr",
     "output_type": "stream",
     "text": [
      "\r",
      "loading hamiltonians:  48%|████▊     | 3180/6561 [00:44<02:59, 18.89it/s]"
     ]
    },
    {
     "name": "stderr",
     "output_type": "stream",
     "text": [
      "\r",
      "loading hamiltonians:  49%|████▊     | 3189/6561 [00:44<02:17, 24.54it/s]"
     ]
    },
    {
     "name": "stderr",
     "output_type": "stream",
     "text": [
      "\r",
      "loading hamiltonians:  49%|████▊     | 3197/6561 [00:44<01:48, 30.91it/s]"
     ]
    },
    {
     "name": "stderr",
     "output_type": "stream",
     "text": [
      "\r",
      "loading hamiltonians:  49%|████▉     | 3206/6561 [00:44<01:27, 38.44it/s]"
     ]
    },
    {
     "name": "stderr",
     "output_type": "stream",
     "text": [
      "\r",
      "loading hamiltonians:  49%|████▉     | 3214/6561 [00:44<01:14, 45.19it/s]"
     ]
    },
    {
     "name": "stderr",
     "output_type": "stream",
     "text": [
      "\r",
      "loading hamiltonians:  49%|████▉     | 3222/6561 [00:44<01:06, 50.24it/s]"
     ]
    },
    {
     "name": "stderr",
     "output_type": "stream",
     "text": [
      "\r",
      "loading hamiltonians:  49%|████▉     | 3231/6561 [00:44<00:58, 57.03it/s]"
     ]
    },
    {
     "name": "stderr",
     "output_type": "stream",
     "text": [
      "\r",
      "loading hamiltonians:  49%|████▉     | 3239/6561 [00:45<00:55, 59.83it/s]"
     ]
    },
    {
     "name": "stderr",
     "output_type": "stream",
     "text": [
      "\r",
      "loading hamiltonians:  49%|████▉     | 3247/6561 [00:45<00:52, 63.19it/s]"
     ]
    },
    {
     "name": "stderr",
     "output_type": "stream",
     "text": [
      "\r",
      "loading hamiltonians:  50%|████▉     | 3256/6561 [00:45<00:48, 67.92it/s]"
     ]
    },
    {
     "name": "stderr",
     "output_type": "stream",
     "text": [
      "\r",
      "loading hamiltonians:  50%|████▉     | 3271/6561 [00:45<00:40, 80.30it/s]"
     ]
    },
    {
     "name": "stderr",
     "output_type": "stream",
     "text": [
      "\r",
      "loading hamiltonians:  50%|█████     | 3281/6561 [00:45<00:42, 76.85it/s]"
     ]
    },
    {
     "name": "stderr",
     "output_type": "stream",
     "text": [
      "\r",
      "loading hamiltonians:  50%|█████     | 3290/6561 [00:45<00:43, 75.79it/s]"
     ]
    },
    {
     "name": "stderr",
     "output_type": "stream",
     "text": [
      "\r",
      "loading hamiltonians:  50%|█████     | 3299/6561 [00:45<00:45, 72.04it/s]"
     ]
    },
    {
     "name": "stderr",
     "output_type": "stream",
     "text": [
      "\r",
      "loading hamiltonians:  50%|█████     | 3307/6561 [00:45<00:45, 71.32it/s]"
     ]
    },
    {
     "name": "stderr",
     "output_type": "stream",
     "text": [
      "\r",
      "loading hamiltonians:  51%|█████     | 3315/6561 [00:46<00:47, 68.80it/s]"
     ]
    },
    {
     "name": "stderr",
     "output_type": "stream",
     "text": [
      "\r",
      "loading hamiltonians:  51%|█████     | 3324/6561 [00:46<00:43, 73.58it/s]"
     ]
    },
    {
     "name": "stderr",
     "output_type": "stream",
     "text": [
      "\r",
      "loading hamiltonians:  51%|█████     | 3333/6561 [00:46<00:42, 76.54it/s]"
     ]
    },
    {
     "name": "stderr",
     "output_type": "stream",
     "text": [
      "\r",
      "loading hamiltonians:  51%|█████     | 3342/6561 [00:46<00:41, 78.45it/s]"
     ]
    },
    {
     "name": "stderr",
     "output_type": "stream",
     "text": [
      "\r",
      "loading hamiltonians:  51%|█████     | 3351/6561 [00:46<00:39, 80.31it/s]"
     ]
    },
    {
     "name": "stderr",
     "output_type": "stream",
     "text": [
      "\r",
      "loading hamiltonians:  51%|█████     | 3360/6561 [00:46<00:39, 80.65it/s]"
     ]
    },
    {
     "name": "stderr",
     "output_type": "stream",
     "text": [
      "\r",
      "loading hamiltonians:  51%|█████▏    | 3369/6561 [00:46<00:38, 83.04it/s]"
     ]
    },
    {
     "name": "stderr",
     "output_type": "stream",
     "text": [
      "\r",
      "loading hamiltonians:  51%|█████▏    | 3378/6561 [00:46<00:37, 83.94it/s]"
     ]
    },
    {
     "name": "stderr",
     "output_type": "stream",
     "text": [
      "\r",
      "loading hamiltonians:  52%|█████▏    | 3387/6561 [00:46<00:37, 85.54it/s]"
     ]
    },
    {
     "name": "stderr",
     "output_type": "stream",
     "text": [
      "\r",
      "loading hamiltonians:  52%|█████▏    | 3396/6561 [00:46<00:38, 81.51it/s]"
     ]
    },
    {
     "name": "stderr",
     "output_type": "stream",
     "text": [
      "\r",
      "loading hamiltonians:  52%|█████▏    | 3405/6561 [00:47<00:41, 76.69it/s]"
     ]
    },
    {
     "name": "stderr",
     "output_type": "stream",
     "text": [
      "\r",
      "loading hamiltonians:  52%|█████▏    | 3415/6561 [00:47<00:40, 78.63it/s]"
     ]
    },
    {
     "name": "stderr",
     "output_type": "stream",
     "text": [
      "\r",
      "loading hamiltonians:  52%|█████▏    | 3427/6561 [00:47<00:36, 85.01it/s]"
     ]
    },
    {
     "name": "stderr",
     "output_type": "stream",
     "text": [
      "\r",
      "loading hamiltonians:  52%|█████▏    | 3436/6561 [00:47<00:40, 77.76it/s]"
     ]
    },
    {
     "name": "stderr",
     "output_type": "stream",
     "text": [
      "\r",
      "loading hamiltonians:  53%|█████▎    | 3445/6561 [00:47<00:40, 76.96it/s]"
     ]
    },
    {
     "name": "stderr",
     "output_type": "stream",
     "text": [
      "\r",
      "loading hamiltonians:  53%|█████▎    | 3453/6561 [00:47<00:41, 74.64it/s]"
     ]
    },
    {
     "name": "stderr",
     "output_type": "stream",
     "text": [
      "\r",
      "loading hamiltonians:  53%|█████▎    | 3462/6561 [00:47<00:39, 78.04it/s]"
     ]
    },
    {
     "name": "stderr",
     "output_type": "stream",
     "text": [
      "\r",
      "loading hamiltonians:  53%|█████▎    | 3471/6561 [00:47<00:38, 80.71it/s]"
     ]
    },
    {
     "name": "stderr",
     "output_type": "stream",
     "text": [
      "\r",
      "loading hamiltonians:  53%|█████▎    | 3480/6561 [00:48<00:40, 76.52it/s]"
     ]
    },
    {
     "name": "stderr",
     "output_type": "stream",
     "text": [
      "\r",
      "loading hamiltonians:  53%|█████▎    | 3488/6561 [00:48<00:41, 73.48it/s]"
     ]
    },
    {
     "name": "stderr",
     "output_type": "stream",
     "text": [
      "\r",
      "loading hamiltonians:  53%|█████▎    | 3496/6561 [00:48<00:45, 67.72it/s]"
     ]
    },
    {
     "name": "stderr",
     "output_type": "stream",
     "text": [
      "\r",
      "loading hamiltonians:  53%|█████▎    | 3507/6561 [00:48<00:41, 74.35it/s]"
     ]
    },
    {
     "name": "stderr",
     "output_type": "stream",
     "text": [
      "\r",
      "loading hamiltonians:  54%|█████▎    | 3515/6561 [00:48<00:41, 72.78it/s]"
     ]
    },
    {
     "name": "stderr",
     "output_type": "stream",
     "text": [
      "\r",
      "loading hamiltonians:  54%|█████▎    | 3523/6561 [00:48<00:43, 70.35it/s]"
     ]
    },
    {
     "name": "stderr",
     "output_type": "stream",
     "text": [
      "\r",
      "loading hamiltonians:  54%|█████▍    | 3531/6561 [00:48<00:43, 70.31it/s]"
     ]
    },
    {
     "name": "stderr",
     "output_type": "stream",
     "text": [
      "\r",
      "loading hamiltonians:  54%|█████▍    | 3539/6561 [00:48<00:43, 69.58it/s]"
     ]
    },
    {
     "name": "stderr",
     "output_type": "stream",
     "text": [
      "\r",
      "loading hamiltonians:  54%|█████▍    | 3548/6561 [00:49<00:41, 73.05it/s]"
     ]
    },
    {
     "name": "stderr",
     "output_type": "stream",
     "text": [
      "\r",
      "loading hamiltonians:  54%|█████▍    | 3556/6561 [00:49<00:41, 72.62it/s]"
     ]
    },
    {
     "name": "stderr",
     "output_type": "stream",
     "text": [
      "\r",
      "loading hamiltonians:  54%|█████▍    | 3564/6561 [00:49<00:42, 70.19it/s]"
     ]
    },
    {
     "name": "stderr",
     "output_type": "stream",
     "text": [
      "\r",
      "loading hamiltonians:  54%|█████▍    | 3574/6561 [00:49<00:40, 74.67it/s]"
     ]
    },
    {
     "name": "stderr",
     "output_type": "stream",
     "text": [
      "\r",
      "loading hamiltonians:  55%|█████▍    | 3582/6561 [00:49<00:40, 74.09it/s]"
     ]
    },
    {
     "name": "stderr",
     "output_type": "stream",
     "text": [
      "\r",
      "loading hamiltonians:  55%|█████▍    | 3590/6561 [00:49<00:40, 73.08it/s]"
     ]
    },
    {
     "name": "stderr",
     "output_type": "stream",
     "text": [
      "\r",
      "loading hamiltonians:  55%|█████▍    | 3598/6561 [00:49<00:41, 70.60it/s]"
     ]
    },
    {
     "name": "stderr",
     "output_type": "stream",
     "text": [
      "\r",
      "loading hamiltonians:  55%|█████▍    | 3607/6561 [00:49<00:39, 74.21it/s]"
     ]
    },
    {
     "name": "stderr",
     "output_type": "stream",
     "text": [
      "\r",
      "loading hamiltonians:  55%|█████▌    | 3615/6561 [00:49<00:40, 73.34it/s]"
     ]
    },
    {
     "name": "stderr",
     "output_type": "stream",
     "text": [
      "\r",
      "loading hamiltonians:  55%|█████▌    | 3623/6561 [00:50<00:40, 73.12it/s]"
     ]
    },
    {
     "name": "stderr",
     "output_type": "stream",
     "text": [
      "\r",
      "loading hamiltonians:  55%|█████▌    | 3631/6561 [00:50<01:08, 43.06it/s]"
     ]
    },
    {
     "name": "stderr",
     "output_type": "stream",
     "text": [
      "\r",
      "loading hamiltonians:  55%|█████▌    | 3638/6561 [00:50<01:00, 48.06it/s]"
     ]
    },
    {
     "name": "stderr",
     "output_type": "stream",
     "text": [
      "\r",
      "loading hamiltonians:  56%|█████▌    | 3647/6561 [00:50<00:53, 54.42it/s]"
     ]
    },
    {
     "name": "stderr",
     "output_type": "stream",
     "text": [
      "\r",
      "loading hamiltonians:  56%|█████▌    | 3655/6561 [00:50<00:48, 59.45it/s]"
     ]
    },
    {
     "name": "stderr",
     "output_type": "stream",
     "text": [
      "\r",
      "loading hamiltonians:  56%|█████▌    | 3667/6561 [00:50<00:42, 68.65it/s]"
     ]
    },
    {
     "name": "stderr",
     "output_type": "stream",
     "text": [
      "\r",
      "loading hamiltonians:  56%|█████▌    | 3676/6561 [00:50<00:41, 69.97it/s]"
     ]
    },
    {
     "name": "stderr",
     "output_type": "stream",
     "text": [
      "\r",
      "loading hamiltonians:  56%|█████▌    | 3684/6561 [00:51<00:42, 68.15it/s]"
     ]
    },
    {
     "name": "stderr",
     "output_type": "stream",
     "text": [
      "\r",
      "loading hamiltonians:  56%|█████▋    | 3694/6561 [00:51<00:38, 73.87it/s]"
     ]
    },
    {
     "name": "stderr",
     "output_type": "stream",
     "text": [
      "\r",
      "loading hamiltonians:  56%|█████▋    | 3704/6561 [00:51<00:36, 78.73it/s]"
     ]
    },
    {
     "name": "stderr",
     "output_type": "stream",
     "text": [
      "\r",
      "loading hamiltonians:  57%|█████▋    | 3715/6561 [00:51<00:34, 82.43it/s]"
     ]
    },
    {
     "name": "stderr",
     "output_type": "stream",
     "text": [
      "\r",
      "loading hamiltonians:  57%|█████▋    | 3724/6561 [00:51<00:35, 80.57it/s]"
     ]
    },
    {
     "name": "stderr",
     "output_type": "stream",
     "text": [
      "\r",
      "loading hamiltonians:  57%|█████▋    | 3733/6561 [00:51<00:36, 77.03it/s]"
     ]
    },
    {
     "name": "stderr",
     "output_type": "stream",
     "text": [
      "\r",
      "loading hamiltonians:  57%|█████▋    | 3741/6561 [00:51<00:36, 77.85it/s]"
     ]
    },
    {
     "name": "stderr",
     "output_type": "stream",
     "text": [
      "\r",
      "loading hamiltonians:  57%|█████▋    | 3751/6561 [00:51<00:34, 82.63it/s]"
     ]
    },
    {
     "name": "stderr",
     "output_type": "stream",
     "text": [
      "\r",
      "loading hamiltonians:  57%|█████▋    | 3760/6561 [00:51<00:34, 80.31it/s]"
     ]
    },
    {
     "name": "stderr",
     "output_type": "stream",
     "text": [
      "\r",
      "loading hamiltonians:  57%|█████▋    | 3769/6561 [00:52<00:35, 78.10it/s]"
     ]
    },
    {
     "name": "stderr",
     "output_type": "stream",
     "text": [
      "\r",
      "loading hamiltonians:  58%|█████▊    | 3777/6561 [00:52<00:39, 70.54it/s]"
     ]
    },
    {
     "name": "stderr",
     "output_type": "stream",
     "text": [
      "\r",
      "loading hamiltonians:  58%|█████▊    | 3787/6561 [00:52<00:37, 74.91it/s]"
     ]
    },
    {
     "name": "stderr",
     "output_type": "stream",
     "text": [
      "\r",
      "loading hamiltonians:  58%|█████▊    | 3795/6561 [00:52<00:37, 73.30it/s]"
     ]
    },
    {
     "name": "stderr",
     "output_type": "stream",
     "text": [
      "\r",
      "loading hamiltonians:  58%|█████▊    | 3803/6561 [00:52<00:37, 72.95it/s]"
     ]
    },
    {
     "name": "stderr",
     "output_type": "stream",
     "text": [
      "\r",
      "loading hamiltonians:  58%|█████▊    | 3811/6561 [00:52<00:37, 72.89it/s]"
     ]
    },
    {
     "name": "stderr",
     "output_type": "stream",
     "text": [
      "\r",
      "loading hamiltonians:  58%|█████▊    | 3819/6561 [00:52<00:36, 74.47it/s]"
     ]
    },
    {
     "name": "stderr",
     "output_type": "stream",
     "text": [
      "\r",
      "loading hamiltonians:  58%|█████▊    | 3827/6561 [00:52<00:36, 75.48it/s]"
     ]
    },
    {
     "name": "stderr",
     "output_type": "stream",
     "text": [
      "\r",
      "loading hamiltonians:  58%|█████▊    | 3835/6561 [00:53<00:37, 71.88it/s]"
     ]
    },
    {
     "name": "stderr",
     "output_type": "stream",
     "text": [
      "\r",
      "loading hamiltonians:  59%|█████▊    | 3847/6561 [00:53<00:33, 80.26it/s]"
     ]
    },
    {
     "name": "stderr",
     "output_type": "stream",
     "text": [
      "\r",
      "loading hamiltonians:  59%|█████▉    | 3857/6561 [00:53<00:32, 83.97it/s]"
     ]
    },
    {
     "name": "stderr",
     "output_type": "stream",
     "text": [
      "\r",
      "loading hamiltonians:  59%|█████▉    | 3867/6561 [00:53<00:30, 88.12it/s]"
     ]
    },
    {
     "name": "stderr",
     "output_type": "stream",
     "text": [
      "\r",
      "loading hamiltonians:  59%|█████▉    | 3877/6561 [00:53<00:32, 81.46it/s]"
     ]
    },
    {
     "name": "stderr",
     "output_type": "stream",
     "text": [
      "\r",
      "loading hamiltonians:  59%|█████▉    | 3887/6561 [00:53<00:31, 83.76it/s]"
     ]
    },
    {
     "name": "stderr",
     "output_type": "stream",
     "text": [
      "\r",
      "loading hamiltonians:  59%|█████▉    | 3896/6561 [00:53<00:34, 78.05it/s]"
     ]
    },
    {
     "name": "stderr",
     "output_type": "stream",
     "text": [
      "\r",
      "loading hamiltonians:  60%|█████▉    | 3908/6561 [00:53<00:30, 86.95it/s]"
     ]
    },
    {
     "name": "stderr",
     "output_type": "stream",
     "text": [
      "\r",
      "loading hamiltonians:  60%|█████▉    | 3918/6561 [00:53<00:32, 81.80it/s]"
     ]
    },
    {
     "name": "stderr",
     "output_type": "stream",
     "text": [
      "\r",
      "loading hamiltonians:  60%|█████▉    | 3927/6561 [00:54<00:32, 81.52it/s]"
     ]
    },
    {
     "name": "stderr",
     "output_type": "stream",
     "text": [
      "\r",
      "loading hamiltonians:  60%|█████▉    | 3936/6561 [00:54<00:32, 80.56it/s]"
     ]
    },
    {
     "name": "stderr",
     "output_type": "stream",
     "text": [
      "\r",
      "loading hamiltonians:  60%|██████    | 3945/6561 [00:54<00:32, 81.46it/s]"
     ]
    },
    {
     "name": "stderr",
     "output_type": "stream",
     "text": [
      "\r",
      "loading hamiltonians:  60%|██████    | 3955/6561 [00:54<00:30, 84.82it/s]"
     ]
    },
    {
     "name": "stderr",
     "output_type": "stream",
     "text": [
      "\r",
      "loading hamiltonians:  60%|██████    | 3964/6561 [00:54<00:31, 82.84it/s]"
     ]
    },
    {
     "name": "stderr",
     "output_type": "stream",
     "text": [
      "\r",
      "loading hamiltonians:  61%|██████    | 3973/6561 [00:54<00:32, 80.36it/s]"
     ]
    },
    {
     "name": "stderr",
     "output_type": "stream",
     "text": [
      "\r",
      "loading hamiltonians:  61%|██████    | 3982/6561 [00:54<00:32, 80.53it/s]"
     ]
    },
    {
     "name": "stderr",
     "output_type": "stream",
     "text": [
      "\r",
      "loading hamiltonians:  61%|██████    | 3991/6561 [00:54<00:34, 75.51it/s]"
     ]
    },
    {
     "name": "stderr",
     "output_type": "stream",
     "text": [
      "\r",
      "loading hamiltonians:  61%|██████    | 4000/6561 [00:55<00:32, 78.50it/s]"
     ]
    },
    {
     "name": "stderr",
     "output_type": "stream",
     "text": [
      "\r",
      "loading hamiltonians:  61%|██████    | 4008/6561 [00:55<00:33, 75.41it/s]"
     ]
    },
    {
     "name": "stderr",
     "output_type": "stream",
     "text": [
      "\r",
      "loading hamiltonians:  61%|██████    | 4016/6561 [00:55<00:37, 67.47it/s]"
     ]
    },
    {
     "name": "stderr",
     "output_type": "stream",
     "text": [
      "\r",
      "loading hamiltonians:  61%|██████▏   | 4025/6561 [00:55<00:38, 65.96it/s]"
     ]
    },
    {
     "name": "stderr",
     "output_type": "stream",
     "text": [
      "\r",
      "loading hamiltonians:  61%|██████▏   | 4033/6561 [00:55<00:36, 68.48it/s]"
     ]
    },
    {
     "name": "stderr",
     "output_type": "stream",
     "text": [
      "\r",
      "loading hamiltonians:  62%|██████▏   | 4040/6561 [00:55<00:36, 68.61it/s]"
     ]
    },
    {
     "name": "stderr",
     "output_type": "stream",
     "text": [
      "\r",
      "loading hamiltonians:  62%|██████▏   | 4048/6561 [00:55<00:36, 69.14it/s]"
     ]
    },
    {
     "name": "stderr",
     "output_type": "stream",
     "text": [
      "\r",
      "loading hamiltonians:  62%|██████▏   | 4056/6561 [00:55<00:35, 70.18it/s]"
     ]
    },
    {
     "name": "stderr",
     "output_type": "stream",
     "text": [
      "\r",
      "loading hamiltonians:  62%|██████▏   | 4064/6561 [00:55<00:34, 72.83it/s]"
     ]
    },
    {
     "name": "stderr",
     "output_type": "stream",
     "text": [
      "\r",
      "loading hamiltonians:  62%|██████▏   | 4072/6561 [00:56<00:33, 74.16it/s]"
     ]
    },
    {
     "name": "stderr",
     "output_type": "stream",
     "text": [
      "\r",
      "loading hamiltonians:  62%|██████▏   | 4080/6561 [00:56<00:36, 67.25it/s]"
     ]
    },
    {
     "name": "stderr",
     "output_type": "stream",
     "text": [
      "\r",
      "loading hamiltonians:  62%|██████▏   | 4088/6561 [00:56<00:35, 70.17it/s]"
     ]
    },
    {
     "name": "stderr",
     "output_type": "stream",
     "text": [
      "\r",
      "loading hamiltonians:  62%|██████▏   | 4097/6561 [00:56<00:33, 73.82it/s]"
     ]
    },
    {
     "name": "stderr",
     "output_type": "stream",
     "text": [
      "\r",
      "loading hamiltonians:  63%|██████▎   | 4105/6561 [00:56<00:35, 69.85it/s]"
     ]
    },
    {
     "name": "stderr",
     "output_type": "stream",
     "text": [
      "\r",
      "loading hamiltonians:  63%|██████▎   | 4114/6561 [00:56<00:32, 74.77it/s]"
     ]
    },
    {
     "name": "stderr",
     "output_type": "stream",
     "text": [
      "\r",
      "loading hamiltonians:  63%|██████▎   | 4122/6561 [00:56<00:33, 72.91it/s]"
     ]
    },
    {
     "name": "stderr",
     "output_type": "stream",
     "text": [
      "\r",
      "loading hamiltonians:  63%|██████▎   | 4130/6561 [00:56<00:34, 71.27it/s]"
     ]
    },
    {
     "name": "stderr",
     "output_type": "stream",
     "text": [
      "\r",
      "loading hamiltonians:  63%|██████▎   | 4138/6561 [00:56<00:35, 67.48it/s]"
     ]
    },
    {
     "name": "stderr",
     "output_type": "stream",
     "text": [
      "\r",
      "loading hamiltonians:  63%|██████▎   | 4146/6561 [00:57<00:34, 70.65it/s]"
     ]
    },
    {
     "name": "stderr",
     "output_type": "stream",
     "text": [
      "\r",
      "loading hamiltonians:  63%|██████▎   | 4154/6561 [00:57<00:32, 73.05it/s]"
     ]
    },
    {
     "name": "stderr",
     "output_type": "stream",
     "text": [
      "\r",
      "loading hamiltonians:  63%|██████▎   | 4162/6561 [00:57<00:32, 74.59it/s]"
     ]
    },
    {
     "name": "stderr",
     "output_type": "stream",
     "text": [
      "\r",
      "loading hamiltonians:  64%|██████▎   | 4172/6561 [00:57<00:29, 80.54it/s]"
     ]
    },
    {
     "name": "stderr",
     "output_type": "stream",
     "text": [
      "\r",
      "loading hamiltonians:  64%|██████▎   | 4182/6561 [00:57<00:28, 83.95it/s]"
     ]
    },
    {
     "name": "stderr",
     "output_type": "stream",
     "text": [
      "\r",
      "loading hamiltonians:  64%|██████▍   | 4195/6561 [00:57<00:25, 93.40it/s]"
     ]
    },
    {
     "name": "stderr",
     "output_type": "stream",
     "text": [
      "\r",
      "loading hamiltonians:  64%|██████▍   | 4205/6561 [00:58<01:45, 22.41it/s]"
     ]
    },
    {
     "name": "stderr",
     "output_type": "stream",
     "text": [
      "\r",
      "loading hamiltonians:  64%|██████▍   | 4213/6561 [00:58<01:22, 28.45it/s]"
     ]
    },
    {
     "name": "stderr",
     "output_type": "stream",
     "text": [
      "\r",
      "loading hamiltonians:  64%|██████▍   | 4221/6561 [00:59<01:07, 34.66it/s]"
     ]
    },
    {
     "name": "stderr",
     "output_type": "stream",
     "text": [
      "\r",
      "loading hamiltonians:  64%|██████▍   | 4229/6561 [00:59<00:56, 41.25it/s]"
     ]
    },
    {
     "name": "stderr",
     "output_type": "stream",
     "text": [
      "\r",
      "loading hamiltonians:  65%|██████▍   | 4237/6561 [00:59<00:49, 47.00it/s]"
     ]
    },
    {
     "name": "stderr",
     "output_type": "stream",
     "text": [
      "\r",
      "loading hamiltonians:  65%|██████▍   | 4247/6561 [00:59<00:42, 54.76it/s]"
     ]
    },
    {
     "name": "stderr",
     "output_type": "stream",
     "text": [
      "\r",
      "loading hamiltonians:  65%|██████▍   | 4255/6561 [00:59<00:39, 58.19it/s]"
     ]
    },
    {
     "name": "stderr",
     "output_type": "stream",
     "text": [
      "\r",
      "loading hamiltonians:  65%|██████▍   | 4263/6561 [00:59<00:37, 61.66it/s]"
     ]
    },
    {
     "name": "stderr",
     "output_type": "stream",
     "text": [
      "\r",
      "loading hamiltonians:  65%|██████▌   | 4271/6561 [00:59<00:35, 65.01it/s]"
     ]
    },
    {
     "name": "stderr",
     "output_type": "stream",
     "text": [
      "\r",
      "loading hamiltonians:  65%|██████▌   | 4279/6561 [00:59<00:34, 66.47it/s]"
     ]
    },
    {
     "name": "stderr",
     "output_type": "stream",
     "text": [
      "\r",
      "loading hamiltonians:  65%|██████▌   | 4287/6561 [00:59<00:32, 69.21it/s]"
     ]
    },
    {
     "name": "stderr",
     "output_type": "stream",
     "text": [
      "\r",
      "loading hamiltonians:  65%|██████▌   | 4295/6561 [01:00<00:32, 69.19it/s]"
     ]
    },
    {
     "name": "stderr",
     "output_type": "stream",
     "text": [
      "\r",
      "loading hamiltonians:  66%|██████▌   | 4303/6561 [01:00<00:33, 67.90it/s]"
     ]
    },
    {
     "name": "stderr",
     "output_type": "stream",
     "text": [
      "\r",
      "loading hamiltonians:  66%|██████▌   | 4311/6561 [01:00<00:36, 61.80it/s]"
     ]
    },
    {
     "name": "stderr",
     "output_type": "stream",
     "text": [
      "\r",
      "loading hamiltonians:  66%|██████▌   | 4320/6561 [01:00<00:33, 66.27it/s]"
     ]
    },
    {
     "name": "stderr",
     "output_type": "stream",
     "text": [
      "\r",
      "loading hamiltonians:  66%|██████▌   | 4330/6561 [01:00<00:30, 72.22it/s]"
     ]
    },
    {
     "name": "stderr",
     "output_type": "stream",
     "text": [
      "\r",
      "loading hamiltonians:  66%|██████▌   | 4338/6561 [01:00<00:31, 69.63it/s]"
     ]
    },
    {
     "name": "stderr",
     "output_type": "stream",
     "text": [
      "\r",
      "loading hamiltonians:  66%|██████▋   | 4348/6561 [01:00<00:29, 74.46it/s]"
     ]
    },
    {
     "name": "stderr",
     "output_type": "stream",
     "text": [
      "\r",
      "loading hamiltonians:  66%|██████▋   | 4356/6561 [01:00<00:29, 75.26it/s]"
     ]
    },
    {
     "name": "stderr",
     "output_type": "stream",
     "text": [
      "\r",
      "loading hamiltonians:  67%|██████▋   | 4365/6561 [01:01<00:28, 78.29it/s]"
     ]
    },
    {
     "name": "stderr",
     "output_type": "stream",
     "text": [
      "\r",
      "loading hamiltonians:  67%|██████▋   | 4373/6561 [01:01<00:27, 78.55it/s]"
     ]
    },
    {
     "name": "stderr",
     "output_type": "stream",
     "text": [
      "\r",
      "loading hamiltonians:  67%|██████▋   | 4381/6561 [01:01<00:28, 75.36it/s]"
     ]
    },
    {
     "name": "stderr",
     "output_type": "stream",
     "text": [
      "\r",
      "loading hamiltonians:  67%|██████▋   | 4392/6561 [01:01<00:26, 80.91it/s]"
     ]
    },
    {
     "name": "stderr",
     "output_type": "stream",
     "text": [
      "\r",
      "loading hamiltonians:  67%|██████▋   | 4401/6561 [01:01<00:27, 79.20it/s]"
     ]
    },
    {
     "name": "stderr",
     "output_type": "stream",
     "text": [
      "\r",
      "loading hamiltonians:  67%|██████▋   | 4410/6561 [01:01<00:27, 77.01it/s]"
     ]
    },
    {
     "name": "stderr",
     "output_type": "stream",
     "text": [
      "\r",
      "loading hamiltonians:  67%|██████▋   | 4418/6561 [01:01<00:28, 74.25it/s]"
     ]
    },
    {
     "name": "stderr",
     "output_type": "stream",
     "text": [
      "\r",
      "loading hamiltonians:  67%|██████▋   | 4426/6561 [01:01<00:30, 70.92it/s]"
     ]
    },
    {
     "name": "stderr",
     "output_type": "stream",
     "text": [
      "\r",
      "loading hamiltonians:  68%|██████▊   | 4435/6561 [01:01<00:29, 72.89it/s]"
     ]
    },
    {
     "name": "stderr",
     "output_type": "stream",
     "text": [
      "\r",
      "loading hamiltonians:  68%|██████▊   | 4443/6561 [01:02<00:29, 72.39it/s]"
     ]
    },
    {
     "name": "stderr",
     "output_type": "stream",
     "text": [
      "\r",
      "loading hamiltonians:  68%|██████▊   | 4451/6561 [01:02<00:28, 74.12it/s]"
     ]
    },
    {
     "name": "stderr",
     "output_type": "stream",
     "text": [
      "\r",
      "loading hamiltonians:  68%|██████▊   | 4463/6561 [01:02<00:25, 81.51it/s]"
     ]
    },
    {
     "name": "stderr",
     "output_type": "stream",
     "text": [
      "\r",
      "loading hamiltonians:  68%|██████▊   | 4472/6561 [01:02<00:25, 81.35it/s]"
     ]
    },
    {
     "name": "stderr",
     "output_type": "stream",
     "text": [
      "\r",
      "loading hamiltonians:  68%|██████▊   | 4481/6561 [01:02<00:27, 76.34it/s]"
     ]
    },
    {
     "name": "stderr",
     "output_type": "stream",
     "text": [
      "\r",
      "loading hamiltonians:  68%|██████▊   | 4489/6561 [01:02<00:27, 75.02it/s]"
     ]
    },
    {
     "name": "stderr",
     "output_type": "stream",
     "text": [
      "\r",
      "loading hamiltonians:  69%|██████▊   | 4497/6561 [01:02<00:28, 73.42it/s]"
     ]
    },
    {
     "name": "stderr",
     "output_type": "stream",
     "text": [
      "\r",
      "loading hamiltonians:  69%|██████▊   | 4506/6561 [01:02<00:26, 77.69it/s]"
     ]
    },
    {
     "name": "stderr",
     "output_type": "stream",
     "text": [
      "\r",
      "loading hamiltonians:  69%|██████▉   | 4515/6561 [01:02<00:25, 79.78it/s]"
     ]
    },
    {
     "name": "stderr",
     "output_type": "stream",
     "text": [
      "\r",
      "loading hamiltonians:  69%|██████▉   | 4524/6561 [01:03<00:25, 80.94it/s]"
     ]
    },
    {
     "name": "stderr",
     "output_type": "stream",
     "text": [
      "\r",
      "loading hamiltonians:  69%|██████▉   | 4533/6561 [01:03<00:24, 82.78it/s]"
     ]
    },
    {
     "name": "stderr",
     "output_type": "stream",
     "text": [
      "\r",
      "loading hamiltonians:  69%|██████▉   | 4542/6561 [01:03<00:24, 81.90it/s]"
     ]
    },
    {
     "name": "stderr",
     "output_type": "stream",
     "text": [
      "\r",
      "loading hamiltonians:  69%|██████▉   | 4553/6561 [01:03<00:22, 87.97it/s]"
     ]
    },
    {
     "name": "stderr",
     "output_type": "stream",
     "text": [
      "\r",
      "loading hamiltonians:  70%|██████▉   | 4562/6561 [01:03<00:26, 75.76it/s]"
     ]
    },
    {
     "name": "stderr",
     "output_type": "stream",
     "text": [
      "\r",
      "loading hamiltonians:  70%|██████▉   | 4572/6561 [01:03<00:25, 79.49it/s]"
     ]
    },
    {
     "name": "stderr",
     "output_type": "stream",
     "text": [
      "\r",
      "loading hamiltonians:  70%|██████▉   | 4581/6561 [01:03<00:25, 77.21it/s]"
     ]
    },
    {
     "name": "stderr",
     "output_type": "stream",
     "text": [
      "\r",
      "loading hamiltonians:  70%|██████▉   | 4589/6561 [01:03<00:25, 77.59it/s]"
     ]
    },
    {
     "name": "stderr",
     "output_type": "stream",
     "text": [
      "\r",
      "loading hamiltonians:  70%|███████   | 4597/6561 [01:03<00:25, 75.84it/s]"
     ]
    },
    {
     "name": "stderr",
     "output_type": "stream",
     "text": [
      "\r",
      "loading hamiltonians:  70%|███████   | 4606/6561 [01:04<00:24, 79.01it/s]"
     ]
    },
    {
     "name": "stderr",
     "output_type": "stream",
     "text": [
      "\r",
      "loading hamiltonians:  70%|███████   | 4615/6561 [01:04<00:25, 75.69it/s]"
     ]
    },
    {
     "name": "stderr",
     "output_type": "stream",
     "text": [
      "\r",
      "loading hamiltonians:  70%|███████   | 4623/6561 [01:04<00:25, 76.25it/s]"
     ]
    },
    {
     "name": "stderr",
     "output_type": "stream",
     "text": [
      "\r",
      "loading hamiltonians:  71%|███████   | 4632/6561 [01:04<00:24, 77.89it/s]"
     ]
    },
    {
     "name": "stderr",
     "output_type": "stream",
     "text": [
      "\r",
      "loading hamiltonians:  71%|███████   | 4640/6561 [01:04<00:25, 74.88it/s]"
     ]
    },
    {
     "name": "stderr",
     "output_type": "stream",
     "text": [
      "\r",
      "loading hamiltonians:  71%|███████   | 4648/6561 [01:04<00:26, 72.87it/s]"
     ]
    },
    {
     "name": "stderr",
     "output_type": "stream",
     "text": [
      "\r",
      "loading hamiltonians:  71%|███████   | 4656/6561 [01:04<00:26, 72.40it/s]"
     ]
    },
    {
     "name": "stderr",
     "output_type": "stream",
     "text": [
      "\r",
      "loading hamiltonians:  71%|███████   | 4664/6561 [01:04<00:26, 71.49it/s]"
     ]
    },
    {
     "name": "stderr",
     "output_type": "stream",
     "text": [
      "\r",
      "loading hamiltonians:  71%|███████   | 4672/6561 [01:05<00:26, 71.37it/s]"
     ]
    },
    {
     "name": "stderr",
     "output_type": "stream",
     "text": [
      "\r",
      "loading hamiltonians:  71%|███████▏  | 4680/6561 [01:05<00:28, 65.74it/s]"
     ]
    },
    {
     "name": "stderr",
     "output_type": "stream",
     "text": [
      "\r",
      "loading hamiltonians:  72%|███████▏  | 4692/6561 [01:05<00:24, 75.85it/s]"
     ]
    },
    {
     "name": "stderr",
     "output_type": "stream",
     "text": [
      "\r",
      "loading hamiltonians:  72%|███████▏  | 4701/6561 [01:05<00:28, 65.71it/s]"
     ]
    },
    {
     "name": "stderr",
     "output_type": "stream",
     "text": [
      "\r",
      "loading hamiltonians:  72%|███████▏  | 4709/6561 [01:05<00:27, 66.86it/s]"
     ]
    },
    {
     "name": "stderr",
     "output_type": "stream",
     "text": [
      "\r",
      "loading hamiltonians:  72%|███████▏  | 4717/6561 [01:05<00:26, 68.45it/s]"
     ]
    },
    {
     "name": "stderr",
     "output_type": "stream",
     "text": [
      "\r",
      "loading hamiltonians:  72%|███████▏  | 4727/6561 [01:05<00:24, 73.65it/s]"
     ]
    },
    {
     "name": "stderr",
     "output_type": "stream",
     "text": [
      "\r",
      "loading hamiltonians:  72%|███████▏  | 4735/6561 [01:05<00:24, 73.22it/s]"
     ]
    },
    {
     "name": "stderr",
     "output_type": "stream",
     "text": [
      "\r",
      "loading hamiltonians:  72%|███████▏  | 4743/6561 [01:06<00:26, 69.91it/s]"
     ]
    },
    {
     "name": "stderr",
     "output_type": "stream",
     "text": [
      "\r",
      "loading hamiltonians:  72%|███████▏  | 4752/6561 [01:06<00:24, 73.47it/s]"
     ]
    },
    {
     "name": "stderr",
     "output_type": "stream",
     "text": [
      "\r",
      "loading hamiltonians:  73%|███████▎  | 4760/6561 [01:06<00:24, 74.42it/s]"
     ]
    },
    {
     "name": "stderr",
     "output_type": "stream",
     "text": [
      "\r",
      "loading hamiltonians:  73%|███████▎  | 4771/6561 [01:06<00:21, 81.77it/s]"
     ]
    },
    {
     "name": "stderr",
     "output_type": "stream",
     "text": [
      "\r",
      "loading hamiltonians:  73%|███████▎  | 4780/6561 [01:06<00:30, 58.06it/s]"
     ]
    },
    {
     "name": "stderr",
     "output_type": "stream",
     "text": [
      "\r",
      "loading hamiltonians:  73%|███████▎  | 4789/6561 [01:06<00:27, 64.89it/s]"
     ]
    },
    {
     "name": "stderr",
     "output_type": "stream",
     "text": [
      "\r",
      "loading hamiltonians:  73%|███████▎  | 4797/6561 [01:06<00:26, 66.39it/s]"
     ]
    },
    {
     "name": "stderr",
     "output_type": "stream",
     "text": [
      "\r",
      "loading hamiltonians:  73%|███████▎  | 4805/6561 [01:06<00:28, 61.25it/s]"
     ]
    },
    {
     "name": "stderr",
     "output_type": "stream",
     "text": [
      "\r",
      "loading hamiltonians:  73%|███████▎  | 4812/6561 [01:07<00:27, 63.54it/s]"
     ]
    },
    {
     "name": "stderr",
     "output_type": "stream",
     "text": [
      "\r",
      "loading hamiltonians:  73%|███████▎  | 4821/6561 [01:07<00:25, 69.05it/s]"
     ]
    },
    {
     "name": "stderr",
     "output_type": "stream",
     "text": [
      "\r",
      "loading hamiltonians:  74%|███████▎  | 4829/6561 [01:07<00:24, 70.08it/s]"
     ]
    },
    {
     "name": "stderr",
     "output_type": "stream",
     "text": [
      "\r",
      "loading hamiltonians:  74%|███████▍  | 4839/6561 [01:07<00:22, 76.89it/s]"
     ]
    },
    {
     "name": "stderr",
     "output_type": "stream",
     "text": [
      "\r",
      "loading hamiltonians:  74%|███████▍  | 4848/6561 [01:07<00:21, 78.18it/s]"
     ]
    },
    {
     "name": "stderr",
     "output_type": "stream",
     "text": [
      "\r",
      "loading hamiltonians:  74%|███████▍  | 4857/6561 [01:07<00:23, 72.31it/s]"
     ]
    },
    {
     "name": "stderr",
     "output_type": "stream",
     "text": [
      "\r",
      "loading hamiltonians:  74%|███████▍  | 4865/6561 [01:07<00:24, 68.73it/s]"
     ]
    },
    {
     "name": "stderr",
     "output_type": "stream",
     "text": [
      "\r",
      "loading hamiltonians:  74%|███████▍  | 4875/6561 [01:07<00:22, 74.47it/s]"
     ]
    },
    {
     "name": "stderr",
     "output_type": "stream",
     "text": [
      "\r",
      "loading hamiltonians:  74%|███████▍  | 4884/6561 [01:07<00:22, 76.04it/s]"
     ]
    },
    {
     "name": "stderr",
     "output_type": "stream",
     "text": [
      "\r",
      "loading hamiltonians:  75%|███████▍  | 4893/6561 [01:08<00:21, 77.50it/s]"
     ]
    },
    {
     "name": "stderr",
     "output_type": "stream",
     "text": [
      "\r",
      "loading hamiltonians:  75%|███████▍  | 4901/6561 [01:08<00:21, 76.08it/s]"
     ]
    },
    {
     "name": "stderr",
     "output_type": "stream",
     "text": [
      "\r",
      "loading hamiltonians:  75%|███████▍  | 4909/6561 [01:08<00:21, 76.53it/s]"
     ]
    },
    {
     "name": "stderr",
     "output_type": "stream",
     "text": [
      "\r",
      "loading hamiltonians:  75%|███████▍  | 4919/6561 [01:08<00:19, 82.21it/s]"
     ]
    },
    {
     "name": "stderr",
     "output_type": "stream",
     "text": [
      "\r",
      "loading hamiltonians:  75%|███████▌  | 4928/6561 [01:08<00:20, 79.63it/s]"
     ]
    },
    {
     "name": "stderr",
     "output_type": "stream",
     "text": [
      "\r",
      "loading hamiltonians:  75%|███████▌  | 4937/6561 [01:08<00:21, 74.00it/s]"
     ]
    },
    {
     "name": "stderr",
     "output_type": "stream",
     "text": [
      "\r",
      "loading hamiltonians:  75%|███████▌  | 4945/6561 [01:08<00:22, 73.09it/s]"
     ]
    },
    {
     "name": "stderr",
     "output_type": "stream",
     "text": [
      "\r",
      "loading hamiltonians:  76%|███████▌  | 4955/6561 [01:08<00:20, 78.19it/s]"
     ]
    },
    {
     "name": "stderr",
     "output_type": "stream",
     "text": [
      "\r",
      "loading hamiltonians:  76%|███████▌  | 4964/6561 [01:09<00:21, 73.95it/s]"
     ]
    },
    {
     "name": "stderr",
     "output_type": "stream",
     "text": [
      "\r",
      "loading hamiltonians:  76%|███████▌  | 4972/6561 [01:09<00:22, 71.45it/s]"
     ]
    },
    {
     "name": "stderr",
     "output_type": "stream",
     "text": [
      "\r",
      "loading hamiltonians:  76%|███████▌  | 4981/6561 [01:09<00:21, 71.89it/s]"
     ]
    },
    {
     "name": "stderr",
     "output_type": "stream",
     "text": [
      "\r",
      "loading hamiltonians:  76%|███████▌  | 4992/6561 [01:09<00:19, 79.96it/s]"
     ]
    },
    {
     "name": "stderr",
     "output_type": "stream",
     "text": [
      "\r",
      "loading hamiltonians:  76%|███████▌  | 5001/6561 [01:09<00:19, 80.84it/s]"
     ]
    },
    {
     "name": "stderr",
     "output_type": "stream",
     "text": [
      "\r",
      "loading hamiltonians:  76%|███████▋  | 5010/6561 [01:09<00:19, 77.81it/s]"
     ]
    },
    {
     "name": "stderr",
     "output_type": "stream",
     "text": [
      "\r",
      "loading hamiltonians:  76%|███████▋  | 5018/6561 [01:09<00:20, 75.54it/s]"
     ]
    },
    {
     "name": "stderr",
     "output_type": "stream",
     "text": [
      "\r",
      "loading hamiltonians:  77%|███████▋  | 5027/6561 [01:09<00:19, 77.64it/s]"
     ]
    },
    {
     "name": "stderr",
     "output_type": "stream",
     "text": [
      "\r",
      "loading hamiltonians:  77%|███████▋  | 5035/6561 [01:09<00:20, 74.88it/s]"
     ]
    },
    {
     "name": "stderr",
     "output_type": "stream",
     "text": [
      "\r",
      "loading hamiltonians:  77%|███████▋  | 5043/6561 [01:10<00:22, 67.68it/s]"
     ]
    },
    {
     "name": "stderr",
     "output_type": "stream",
     "text": [
      "\r",
      "loading hamiltonians:  77%|███████▋  | 5053/6561 [01:10<00:20, 73.88it/s]"
     ]
    },
    {
     "name": "stderr",
     "output_type": "stream",
     "text": [
      "\r",
      "loading hamiltonians:  77%|███████▋  | 5061/6561 [01:10<00:24, 60.57it/s]"
     ]
    },
    {
     "name": "stderr",
     "output_type": "stream",
     "text": [
      "\r",
      "loading hamiltonians:  77%|███████▋  | 5069/6561 [01:10<00:22, 65.23it/s]"
     ]
    },
    {
     "name": "stderr",
     "output_type": "stream",
     "text": [
      "\r",
      "loading hamiltonians:  77%|███████▋  | 5077/6561 [01:10<00:21, 67.89it/s]"
     ]
    },
    {
     "name": "stderr",
     "output_type": "stream",
     "text": [
      "\r",
      "loading hamiltonians:  78%|███████▊  | 5085/6561 [01:10<00:21, 67.93it/s]"
     ]
    },
    {
     "name": "stderr",
     "output_type": "stream",
     "text": [
      "\r",
      "loading hamiltonians:  78%|███████▊  | 5093/6561 [01:10<00:21, 69.35it/s]"
     ]
    },
    {
     "name": "stderr",
     "output_type": "stream",
     "text": [
      "\r",
      "loading hamiltonians:  78%|███████▊  | 5101/6561 [01:10<00:21, 68.36it/s]"
     ]
    },
    {
     "name": "stderr",
     "output_type": "stream",
     "text": [
      "\r",
      "loading hamiltonians:  78%|███████▊  | 5110/6561 [01:11<00:20, 72.22it/s]"
     ]
    },
    {
     "name": "stderr",
     "output_type": "stream",
     "text": [
      "\r",
      "loading hamiltonians:  78%|███████▊  | 5118/6561 [01:11<00:19, 74.39it/s]"
     ]
    },
    {
     "name": "stderr",
     "output_type": "stream",
     "text": [
      "\r",
      "loading hamiltonians:  78%|███████▊  | 5129/6561 [01:11<00:17, 80.88it/s]"
     ]
    },
    {
     "name": "stderr",
     "output_type": "stream",
     "text": [
      "\r",
      "loading hamiltonians:  78%|███████▊  | 5140/6561 [01:11<00:16, 86.32it/s]"
     ]
    },
    {
     "name": "stderr",
     "output_type": "stream",
     "text": [
      "\r",
      "loading hamiltonians:  78%|███████▊  | 5149/6561 [01:11<00:16, 84.68it/s]"
     ]
    },
    {
     "name": "stderr",
     "output_type": "stream",
     "text": [
      "\r",
      "loading hamiltonians:  79%|███████▊  | 5158/6561 [01:11<00:16, 86.20it/s]"
     ]
    },
    {
     "name": "stderr",
     "output_type": "stream",
     "text": [
      "\r",
      "loading hamiltonians:  79%|███████▉  | 5167/6561 [01:11<00:19, 73.25it/s]"
     ]
    },
    {
     "name": "stderr",
     "output_type": "stream",
     "text": [
      "\r",
      "loading hamiltonians:  79%|███████▉  | 5175/6561 [01:11<00:19, 70.83it/s]"
     ]
    },
    {
     "name": "stderr",
     "output_type": "stream",
     "text": [
      "\r",
      "loading hamiltonians:  79%|███████▉  | 5183/6561 [01:11<00:19, 71.46it/s]"
     ]
    },
    {
     "name": "stderr",
     "output_type": "stream",
     "text": [
      "\r",
      "loading hamiltonians:  79%|███████▉  | 5192/6561 [01:12<00:18, 75.25it/s]"
     ]
    },
    {
     "name": "stderr",
     "output_type": "stream",
     "text": [
      "\r",
      "loading hamiltonians:  79%|███████▉  | 5200/6561 [01:12<00:18, 73.59it/s]"
     ]
    },
    {
     "name": "stderr",
     "output_type": "stream",
     "text": [
      "\r",
      "loading hamiltonians:  79%|███████▉  | 5208/6561 [01:12<00:19, 70.21it/s]"
     ]
    },
    {
     "name": "stderr",
     "output_type": "stream",
     "text": [
      "\r",
      "loading hamiltonians:  80%|███████▉  | 5218/6561 [01:12<00:17, 75.63it/s]"
     ]
    },
    {
     "name": "stderr",
     "output_type": "stream",
     "text": [
      "\r",
      "loading hamiltonians:  80%|███████▉  | 5226/6561 [01:12<00:18, 71.71it/s]"
     ]
    },
    {
     "name": "stderr",
     "output_type": "stream",
     "text": [
      "\r",
      "loading hamiltonians:  80%|███████▉  | 5234/6561 [01:12<00:18, 70.55it/s]"
     ]
    },
    {
     "name": "stderr",
     "output_type": "stream",
     "text": [
      "\r",
      "loading hamiltonians:  80%|███████▉  | 5243/6561 [01:12<00:17, 74.48it/s]"
     ]
    },
    {
     "name": "stderr",
     "output_type": "stream",
     "text": [
      "\r",
      "loading hamiltonians:  80%|████████  | 5251/6561 [01:12<00:18, 72.46it/s]"
     ]
    },
    {
     "name": "stderr",
     "output_type": "stream",
     "text": [
      "\r",
      "loading hamiltonians:  80%|████████  | 5261/6561 [01:12<00:16, 78.21it/s]"
     ]
    },
    {
     "name": "stderr",
     "output_type": "stream",
     "text": [
      "\r",
      "loading hamiltonians:  80%|████████  | 5270/6561 [01:13<00:16, 79.73it/s]"
     ]
    },
    {
     "name": "stderr",
     "output_type": "stream",
     "text": [
      "\r",
      "loading hamiltonians:  80%|████████  | 5279/6561 [01:13<00:15, 81.23it/s]"
     ]
    },
    {
     "name": "stderr",
     "output_type": "stream",
     "text": [
      "\r",
      "loading hamiltonians:  81%|████████  | 5288/6561 [01:13<00:15, 81.75it/s]"
     ]
    },
    {
     "name": "stderr",
     "output_type": "stream",
     "text": [
      "\r",
      "loading hamiltonians:  81%|████████  | 5297/6561 [01:13<00:16, 77.19it/s]"
     ]
    },
    {
     "name": "stderr",
     "output_type": "stream",
     "text": [
      "\r",
      "loading hamiltonians:  81%|████████  | 5306/6561 [01:13<00:15, 78.89it/s]"
     ]
    },
    {
     "name": "stderr",
     "output_type": "stream",
     "text": [
      "\r",
      "loading hamiltonians:  81%|████████  | 5316/6561 [01:13<00:15, 82.55it/s]"
     ]
    },
    {
     "name": "stderr",
     "output_type": "stream",
     "text": [
      "\r",
      "loading hamiltonians:  81%|████████  | 5325/6561 [01:13<00:15, 82.30it/s]"
     ]
    },
    {
     "name": "stderr",
     "output_type": "stream",
     "text": [
      "\r",
      "loading hamiltonians:  81%|████████▏ | 5334/6561 [01:13<00:14, 83.26it/s]"
     ]
    },
    {
     "name": "stderr",
     "output_type": "stream",
     "text": [
      "\r",
      "loading hamiltonians:  81%|████████▏ | 5343/6561 [01:14<00:16, 73.48it/s]"
     ]
    },
    {
     "name": "stderr",
     "output_type": "stream",
     "text": [
      "\r",
      "loading hamiltonians:  82%|████████▏ | 5353/6561 [01:14<00:15, 77.30it/s]"
     ]
    },
    {
     "name": "stderr",
     "output_type": "stream",
     "text": [
      "\r",
      "loading hamiltonians:  82%|████████▏ | 5361/6561 [01:14<00:15, 75.32it/s]"
     ]
    },
    {
     "name": "stderr",
     "output_type": "stream",
     "text": [
      "\r",
      "loading hamiltonians:  82%|████████▏ | 5371/6561 [01:14<00:15, 79.05it/s]"
     ]
    },
    {
     "name": "stderr",
     "output_type": "stream",
     "text": [
      "\r",
      "loading hamiltonians:  82%|████████▏ | 5380/6561 [01:14<00:15, 77.69it/s]"
     ]
    },
    {
     "name": "stderr",
     "output_type": "stream",
     "text": [
      "\r",
      "loading hamiltonians:  82%|████████▏ | 5388/6561 [01:14<00:15, 75.27it/s]"
     ]
    },
    {
     "name": "stderr",
     "output_type": "stream",
     "text": [
      "\r",
      "loading hamiltonians:  82%|████████▏ | 5396/6561 [01:14<00:15, 75.08it/s]"
     ]
    },
    {
     "name": "stderr",
     "output_type": "stream",
     "text": [
      "\r",
      "loading hamiltonians:  82%|████████▏ | 5404/6561 [01:14<00:15, 72.78it/s]"
     ]
    },
    {
     "name": "stderr",
     "output_type": "stream",
     "text": [
      "\r",
      "loading hamiltonians:  82%|████████▏ | 5412/6561 [01:14<00:15, 73.12it/s]"
     ]
    },
    {
     "name": "stderr",
     "output_type": "stream",
     "text": [
      "\r",
      "loading hamiltonians:  83%|████████▎ | 5420/6561 [01:15<00:16, 69.96it/s]"
     ]
    },
    {
     "name": "stderr",
     "output_type": "stream",
     "text": [
      "\r",
      "loading hamiltonians:  83%|████████▎ | 5428/6561 [01:15<00:15, 70.97it/s]"
     ]
    },
    {
     "name": "stderr",
     "output_type": "stream",
     "text": [
      "\r",
      "loading hamiltonians:  83%|████████▎ | 5437/6561 [01:15<00:15, 74.81it/s]"
     ]
    },
    {
     "name": "stderr",
     "output_type": "stream",
     "text": [
      "\r",
      "loading hamiltonians:  83%|████████▎ | 5445/6561 [01:15<00:16, 69.02it/s]"
     ]
    },
    {
     "name": "stderr",
     "output_type": "stream",
     "text": [
      "\r",
      "loading hamiltonians:  83%|████████▎ | 5455/6561 [01:15<00:14, 75.26it/s]"
     ]
    },
    {
     "name": "stderr",
     "output_type": "stream",
     "text": [
      "\r",
      "loading hamiltonians:  83%|████████▎ | 5463/6561 [01:15<00:15, 72.20it/s]"
     ]
    },
    {
     "name": "stderr",
     "output_type": "stream",
     "text": [
      "\r",
      "loading hamiltonians:  83%|████████▎ | 5471/6561 [01:17<01:11, 15.31it/s]"
     ]
    },
    {
     "name": "stderr",
     "output_type": "stream",
     "text": [
      "\r",
      "loading hamiltonians:  84%|████████▎ | 5480/6561 [01:17<00:53, 20.31it/s]"
     ]
    },
    {
     "name": "stderr",
     "output_type": "stream",
     "text": [
      "\r",
      "loading hamiltonians:  84%|████████▎ | 5489/6561 [01:17<00:40, 26.34it/s]"
     ]
    },
    {
     "name": "stderr",
     "output_type": "stream",
     "text": [
      "\r",
      "loading hamiltonians:  84%|████████▍ | 5497/6561 [01:17<00:32, 32.57it/s]"
     ]
    },
    {
     "name": "stderr",
     "output_type": "stream",
     "text": [
      "\r",
      "loading hamiltonians:  84%|████████▍ | 5505/6561 [01:17<00:26, 39.53it/s]"
     ]
    },
    {
     "name": "stderr",
     "output_type": "stream",
     "text": [
      "\r",
      "loading hamiltonians:  84%|████████▍ | 5514/6561 [01:17<00:22, 47.20it/s]"
     ]
    },
    {
     "name": "stderr",
     "output_type": "stream",
     "text": [
      "\r",
      "loading hamiltonians:  84%|████████▍ | 5524/6561 [01:17<00:18, 55.91it/s]"
     ]
    },
    {
     "name": "stderr",
     "output_type": "stream",
     "text": [
      "\r",
      "loading hamiltonians:  84%|████████▍ | 5533/6561 [01:17<00:16, 61.38it/s]"
     ]
    },
    {
     "name": "stderr",
     "output_type": "stream",
     "text": [
      "\r",
      "loading hamiltonians:  84%|████████▍ | 5542/6561 [01:17<00:15, 64.89it/s]"
     ]
    },
    {
     "name": "stderr",
     "output_type": "stream",
     "text": [
      "\r",
      "loading hamiltonians:  85%|████████▍ | 5551/6561 [01:18<00:15, 66.52it/s]"
     ]
    },
    {
     "name": "stderr",
     "output_type": "stream",
     "text": [
      "\r",
      "loading hamiltonians:  85%|████████▍ | 5559/6561 [01:18<00:14, 66.81it/s]"
     ]
    },
    {
     "name": "stderr",
     "output_type": "stream",
     "text": [
      "\r",
      "loading hamiltonians:  85%|████████▍ | 5567/6561 [01:18<00:14, 70.12it/s]"
     ]
    },
    {
     "name": "stderr",
     "output_type": "stream",
     "text": [
      "\r",
      "loading hamiltonians:  85%|████████▌ | 5578/6561 [01:18<00:12, 77.97it/s]"
     ]
    },
    {
     "name": "stderr",
     "output_type": "stream",
     "text": [
      "\r",
      "loading hamiltonians:  85%|████████▌ | 5589/6561 [01:18<00:11, 84.39it/s]"
     ]
    },
    {
     "name": "stderr",
     "output_type": "stream",
     "text": [
      "\r",
      "loading hamiltonians:  85%|████████▌ | 5599/6561 [01:18<00:11, 81.90it/s]"
     ]
    },
    {
     "name": "stderr",
     "output_type": "stream",
     "text": [
      "\r",
      "loading hamiltonians:  85%|████████▌ | 5608/6561 [01:18<00:11, 79.68it/s]"
     ]
    },
    {
     "name": "stderr",
     "output_type": "stream",
     "text": [
      "\r",
      "loading hamiltonians:  86%|████████▌ | 5617/6561 [01:18<00:12, 78.09it/s]"
     ]
    },
    {
     "name": "stderr",
     "output_type": "stream",
     "text": [
      "\r",
      "loading hamiltonians:  86%|████████▌ | 5626/6561 [01:19<00:11, 78.61it/s]"
     ]
    },
    {
     "name": "stderr",
     "output_type": "stream",
     "text": [
      "\r",
      "loading hamiltonians:  86%|████████▌ | 5635/6561 [01:19<00:11, 79.75it/s]"
     ]
    },
    {
     "name": "stderr",
     "output_type": "stream",
     "text": [
      "\r",
      "loading hamiltonians:  86%|████████▌ | 5644/6561 [01:19<00:11, 81.66it/s]"
     ]
    },
    {
     "name": "stderr",
     "output_type": "stream",
     "text": [
      "\r",
      "loading hamiltonians:  86%|████████▌ | 5653/6561 [01:19<00:11, 78.11it/s]"
     ]
    },
    {
     "name": "stderr",
     "output_type": "stream",
     "text": [
      "\r",
      "loading hamiltonians:  86%|████████▋ | 5661/6561 [01:19<00:11, 76.56it/s]"
     ]
    },
    {
     "name": "stderr",
     "output_type": "stream",
     "text": [
      "\r",
      "loading hamiltonians:  86%|████████▋ | 5669/6561 [01:19<00:11, 76.22it/s]"
     ]
    },
    {
     "name": "stderr",
     "output_type": "stream",
     "text": [
      "\r",
      "loading hamiltonians:  87%|████████▋ | 5677/6561 [01:19<00:11, 75.97it/s]"
     ]
    },
    {
     "name": "stderr",
     "output_type": "stream",
     "text": [
      "\r",
      "loading hamiltonians:  87%|████████▋ | 5685/6561 [01:19<00:11, 74.31it/s]"
     ]
    },
    {
     "name": "stderr",
     "output_type": "stream",
     "text": [
      "\r",
      "loading hamiltonians:  87%|████████▋ | 5693/6561 [01:19<00:11, 72.87it/s]"
     ]
    },
    {
     "name": "stderr",
     "output_type": "stream",
     "text": [
      "\r",
      "loading hamiltonians:  87%|████████▋ | 5701/6561 [01:20<00:12, 71.14it/s]"
     ]
    },
    {
     "name": "stderr",
     "output_type": "stream",
     "text": [
      "\r",
      "loading hamiltonians:  87%|████████▋ | 5709/6561 [01:20<00:12, 69.26it/s]"
     ]
    },
    {
     "name": "stderr",
     "output_type": "stream",
     "text": [
      "\r",
      "loading hamiltonians:  87%|████████▋ | 5717/6561 [01:20<00:11, 70.90it/s]"
     ]
    },
    {
     "name": "stderr",
     "output_type": "stream",
     "text": [
      "\r",
      "loading hamiltonians:  87%|████████▋ | 5727/6561 [01:20<00:12, 65.02it/s]"
     ]
    },
    {
     "name": "stderr",
     "output_type": "stream",
     "text": [
      "\r",
      "loading hamiltonians:  87%|████████▋ | 5734/6561 [01:20<00:12, 65.19it/s]"
     ]
    },
    {
     "name": "stderr",
     "output_type": "stream",
     "text": [
      "\r",
      "loading hamiltonians:  88%|████████▊ | 5741/6561 [01:20<00:12, 65.74it/s]"
     ]
    },
    {
     "name": "stderr",
     "output_type": "stream",
     "text": [
      "\r",
      "loading hamiltonians:  88%|████████▊ | 5751/6561 [01:20<00:11, 72.52it/s]"
     ]
    },
    {
     "name": "stderr",
     "output_type": "stream",
     "text": [
      "\r",
      "loading hamiltonians:  88%|████████▊ | 5759/6561 [01:20<00:10, 74.45it/s]"
     ]
    },
    {
     "name": "stderr",
     "output_type": "stream",
     "text": [
      "\r",
      "loading hamiltonians:  88%|████████▊ | 5767/6561 [01:20<00:10, 72.42it/s]"
     ]
    },
    {
     "name": "stderr",
     "output_type": "stream",
     "text": [
      "\r",
      "loading hamiltonians:  88%|████████▊ | 5776/6561 [01:21<00:10, 75.09it/s]"
     ]
    },
    {
     "name": "stderr",
     "output_type": "stream",
     "text": [
      "\r",
      "loading hamiltonians:  88%|████████▊ | 5784/6561 [01:21<00:10, 72.61it/s]"
     ]
    },
    {
     "name": "stderr",
     "output_type": "stream",
     "text": [
      "\r",
      "loading hamiltonians:  88%|████████▊ | 5793/6561 [01:21<00:09, 76.98it/s]"
     ]
    },
    {
     "name": "stderr",
     "output_type": "stream",
     "text": [
      "\r",
      "loading hamiltonians:  88%|████████▊ | 5803/6561 [01:21<00:09, 81.03it/s]"
     ]
    },
    {
     "name": "stderr",
     "output_type": "stream",
     "text": [
      "\r",
      "loading hamiltonians:  89%|████████▊ | 5813/6561 [01:21<00:08, 85.49it/s]"
     ]
    },
    {
     "name": "stderr",
     "output_type": "stream",
     "text": [
      "\r",
      "loading hamiltonians:  89%|████████▊ | 5822/6561 [01:21<00:09, 79.27it/s]"
     ]
    },
    {
     "name": "stderr",
     "output_type": "stream",
     "text": [
      "\r",
      "loading hamiltonians:  89%|████████▉ | 5831/6561 [01:21<00:09, 74.94it/s]"
     ]
    },
    {
     "name": "stderr",
     "output_type": "stream",
     "text": [
      "\r",
      "loading hamiltonians:  89%|████████▉ | 5839/6561 [01:21<00:09, 74.45it/s]"
     ]
    },
    {
     "name": "stderr",
     "output_type": "stream",
     "text": [
      "\r",
      "loading hamiltonians:  89%|████████▉ | 5847/6561 [01:22<00:09, 72.82it/s]"
     ]
    },
    {
     "name": "stderr",
     "output_type": "stream",
     "text": [
      "\r",
      "loading hamiltonians:  89%|████████▉ | 5855/6561 [01:22<00:10, 69.92it/s]"
     ]
    },
    {
     "name": "stderr",
     "output_type": "stream",
     "text": [
      "\r",
      "loading hamiltonians:  89%|████████▉ | 5863/6561 [01:22<00:09, 71.75it/s]"
     ]
    },
    {
     "name": "stderr",
     "output_type": "stream",
     "text": [
      "\r",
      "loading hamiltonians:  89%|████████▉ | 5871/6561 [01:22<00:09, 73.34it/s]"
     ]
    },
    {
     "name": "stderr",
     "output_type": "stream",
     "text": [
      "\r",
      "loading hamiltonians:  90%|████████▉ | 5881/6561 [01:22<00:08, 77.00it/s]"
     ]
    },
    {
     "name": "stderr",
     "output_type": "stream",
     "text": [
      "\r",
      "loading hamiltonians:  90%|████████▉ | 5889/6561 [01:22<00:09, 74.30it/s]"
     ]
    },
    {
     "name": "stderr",
     "output_type": "stream",
     "text": [
      "\r",
      "loading hamiltonians:  90%|████████▉ | 5898/6561 [01:22<00:08, 76.04it/s]"
     ]
    },
    {
     "name": "stderr",
     "output_type": "stream",
     "text": [
      "\r",
      "loading hamiltonians:  90%|█████████ | 5908/6561 [01:22<00:08, 80.50it/s]"
     ]
    },
    {
     "name": "stderr",
     "output_type": "stream",
     "text": [
      "\r",
      "loading hamiltonians:  90%|█████████ | 5917/6561 [01:22<00:08, 80.19it/s]"
     ]
    },
    {
     "name": "stderr",
     "output_type": "stream",
     "text": [
      "\r",
      "loading hamiltonians:  90%|█████████ | 5926/6561 [01:23<00:08, 73.79it/s]"
     ]
    },
    {
     "name": "stderr",
     "output_type": "stream",
     "text": [
      "\r",
      "loading hamiltonians:  90%|█████████ | 5934/6561 [01:23<00:08, 75.36it/s]"
     ]
    },
    {
     "name": "stderr",
     "output_type": "stream",
     "text": [
      "\r",
      "loading hamiltonians:  91%|█████████ | 5942/6561 [01:23<00:08, 74.08it/s]"
     ]
    },
    {
     "name": "stderr",
     "output_type": "stream",
     "text": [
      "\r",
      "loading hamiltonians:  91%|█████████ | 5950/6561 [01:23<00:08, 70.48it/s]"
     ]
    },
    {
     "name": "stderr",
     "output_type": "stream",
     "text": [
      "\r",
      "loading hamiltonians:  91%|█████████ | 5958/6561 [01:23<00:08, 71.13it/s]"
     ]
    },
    {
     "name": "stderr",
     "output_type": "stream",
     "text": [
      "\r",
      "loading hamiltonians:  91%|█████████ | 5966/6561 [01:23<00:08, 70.13it/s]"
     ]
    },
    {
     "name": "stderr",
     "output_type": "stream",
     "text": [
      "\r",
      "loading hamiltonians:  91%|█████████ | 5974/6561 [01:23<00:08, 71.03it/s]"
     ]
    },
    {
     "name": "stderr",
     "output_type": "stream",
     "text": [
      "\r",
      "loading hamiltonians:  91%|█████████ | 5982/6561 [01:23<00:08, 69.94it/s]"
     ]
    },
    {
     "name": "stderr",
     "output_type": "stream",
     "text": [
      "\r",
      "loading hamiltonians:  91%|█████████▏| 5990/6561 [01:23<00:08, 68.87it/s]"
     ]
    },
    {
     "name": "stderr",
     "output_type": "stream",
     "text": [
      "\r",
      "loading hamiltonians:  91%|█████████▏| 5997/6561 [01:24<00:08, 68.91it/s]"
     ]
    },
    {
     "name": "stderr",
     "output_type": "stream",
     "text": [
      "\r",
      "loading hamiltonians:  92%|█████████▏| 6004/6561 [01:24<00:08, 69.14it/s]"
     ]
    },
    {
     "name": "stderr",
     "output_type": "stream",
     "text": [
      "\r",
      "loading hamiltonians:  92%|█████████▏| 6014/6561 [01:24<00:07, 75.89it/s]"
     ]
    },
    {
     "name": "stderr",
     "output_type": "stream",
     "text": [
      "\r",
      "loading hamiltonians:  92%|█████████▏| 6024/6561 [01:24<00:06, 81.44it/s]"
     ]
    },
    {
     "name": "stderr",
     "output_type": "stream",
     "text": [
      "\r",
      "loading hamiltonians:  92%|█████████▏| 6036/6561 [01:24<00:05, 88.69it/s]"
     ]
    },
    {
     "name": "stderr",
     "output_type": "stream",
     "text": [
      "\r",
      "loading hamiltonians:  92%|█████████▏| 6046/6561 [01:24<00:05, 88.21it/s]"
     ]
    },
    {
     "name": "stderr",
     "output_type": "stream",
     "text": [
      "\r",
      "loading hamiltonians:  92%|█████████▏| 6056/6561 [01:24<00:05, 85.61it/s]"
     ]
    },
    {
     "name": "stderr",
     "output_type": "stream",
     "text": [
      "\r",
      "loading hamiltonians:  92%|█████████▏| 6065/6561 [01:24<00:06, 78.98it/s]"
     ]
    },
    {
     "name": "stderr",
     "output_type": "stream",
     "text": [
      "\r",
      "loading hamiltonians:  93%|█████████▎| 6074/6561 [01:24<00:06, 74.91it/s]"
     ]
    },
    {
     "name": "stderr",
     "output_type": "stream",
     "text": [
      "\r",
      "loading hamiltonians:  93%|█████████▎| 6082/6561 [01:25<00:06, 73.11it/s]"
     ]
    },
    {
     "name": "stderr",
     "output_type": "stream",
     "text": [
      "\r",
      "loading hamiltonians:  93%|█████████▎| 6090/6561 [01:25<00:06, 73.44it/s]"
     ]
    },
    {
     "name": "stderr",
     "output_type": "stream",
     "text": [
      "\r",
      "loading hamiltonians:  93%|█████████▎| 6098/6561 [01:25<00:06, 71.19it/s]"
     ]
    },
    {
     "name": "stderr",
     "output_type": "stream",
     "text": [
      "\r",
      "loading hamiltonians:  93%|█████████▎| 6107/6561 [01:25<00:06, 67.11it/s]"
     ]
    },
    {
     "name": "stderr",
     "output_type": "stream",
     "text": [
      "\r",
      "loading hamiltonians:  93%|█████████▎| 6116/6561 [01:25<00:06, 70.70it/s]"
     ]
    },
    {
     "name": "stderr",
     "output_type": "stream",
     "text": [
      "\r",
      "loading hamiltonians:  93%|█████████▎| 6124/6561 [01:25<00:06, 71.53it/s]"
     ]
    },
    {
     "name": "stderr",
     "output_type": "stream",
     "text": [
      "\r",
      "loading hamiltonians:  93%|█████████▎| 6132/6561 [01:25<00:06, 67.33it/s]"
     ]
    },
    {
     "name": "stderr",
     "output_type": "stream",
     "text": [
      "\r",
      "loading hamiltonians:  94%|█████████▎| 6139/6561 [01:25<00:06, 66.11it/s]"
     ]
    },
    {
     "name": "stderr",
     "output_type": "stream",
     "text": [
      "\r",
      "loading hamiltonians:  94%|█████████▎| 6148/6561 [01:26<00:05, 71.20it/s]"
     ]
    },
    {
     "name": "stderr",
     "output_type": "stream",
     "text": [
      "\r",
      "loading hamiltonians:  94%|█████████▍| 6156/6561 [01:26<00:05, 70.82it/s]"
     ]
    },
    {
     "name": "stderr",
     "output_type": "stream",
     "text": [
      "\r",
      "loading hamiltonians:  94%|█████████▍| 6164/6561 [01:26<00:05, 70.48it/s]"
     ]
    },
    {
     "name": "stderr",
     "output_type": "stream",
     "text": [
      "\r",
      "loading hamiltonians:  94%|█████████▍| 6176/6561 [01:26<00:04, 79.00it/s]"
     ]
    },
    {
     "name": "stderr",
     "output_type": "stream",
     "text": [
      "\r",
      "loading hamiltonians:  94%|█████████▍| 6185/6561 [01:26<00:04, 77.37it/s]"
     ]
    },
    {
     "name": "stderr",
     "output_type": "stream",
     "text": [
      "\r",
      "loading hamiltonians:  94%|█████████▍| 6194/6561 [01:26<00:04, 76.65it/s]"
     ]
    },
    {
     "name": "stderr",
     "output_type": "stream",
     "text": [
      "\r",
      "loading hamiltonians:  95%|█████████▍| 6203/6561 [01:26<00:04, 79.17it/s]"
     ]
    },
    {
     "name": "stderr",
     "output_type": "stream",
     "text": [
      "\r",
      "loading hamiltonians:  95%|█████████▍| 6212/6561 [01:26<00:04, 78.90it/s]"
     ]
    },
    {
     "name": "stderr",
     "output_type": "stream",
     "text": [
      "\r",
      "loading hamiltonians:  95%|█████████▍| 6221/6561 [01:26<00:04, 76.32it/s]"
     ]
    },
    {
     "name": "stderr",
     "output_type": "stream",
     "text": [
      "\r",
      "loading hamiltonians:  95%|█████████▍| 6229/6561 [01:27<00:04, 75.10it/s]"
     ]
    },
    {
     "name": "stderr",
     "output_type": "stream",
     "text": [
      "\r",
      "loading hamiltonians:  95%|█████████▌| 6237/6561 [01:27<00:04, 71.31it/s]"
     ]
    },
    {
     "name": "stderr",
     "output_type": "stream",
     "text": [
      "\r",
      "loading hamiltonians:  95%|█████████▌| 6246/6561 [01:27<00:04, 72.74it/s]"
     ]
    },
    {
     "name": "stderr",
     "output_type": "stream",
     "text": [
      "\r",
      "loading hamiltonians:  95%|█████████▌| 6259/6561 [01:27<00:03, 82.68it/s]"
     ]
    },
    {
     "name": "stderr",
     "output_type": "stream",
     "text": [
      "\r",
      "loading hamiltonians:  96%|█████████▌| 6268/6561 [01:27<00:03, 84.42it/s]"
     ]
    },
    {
     "name": "stderr",
     "output_type": "stream",
     "text": [
      "\r",
      "loading hamiltonians:  96%|█████████▌| 6277/6561 [01:27<00:03, 77.39it/s]"
     ]
    },
    {
     "name": "stderr",
     "output_type": "stream",
     "text": [
      "\r",
      "loading hamiltonians:  96%|█████████▌| 6286/6561 [01:27<00:03, 76.23it/s]"
     ]
    },
    {
     "name": "stderr",
     "output_type": "stream",
     "text": [
      "\r",
      "loading hamiltonians:  96%|█████████▌| 6294/6561 [01:27<00:03, 72.58it/s]"
     ]
    },
    {
     "name": "stderr",
     "output_type": "stream",
     "text": [
      "\r",
      "loading hamiltonians:  96%|█████████▌| 6302/6561 [01:28<00:03, 69.69it/s]"
     ]
    },
    {
     "name": "stderr",
     "output_type": "stream",
     "text": [
      "\r",
      "loading hamiltonians:  96%|█████████▌| 6310/6561 [01:28<00:03, 63.84it/s]"
     ]
    },
    {
     "name": "stderr",
     "output_type": "stream",
     "text": [
      "\r",
      "loading hamiltonians:  96%|█████████▋| 6318/6561 [01:28<00:03, 67.51it/s]"
     ]
    },
    {
     "name": "stderr",
     "output_type": "stream",
     "text": [
      "\r",
      "loading hamiltonians:  96%|█████████▋| 6326/6561 [01:28<00:03, 69.53it/s]"
     ]
    },
    {
     "name": "stderr",
     "output_type": "stream",
     "text": [
      "\r",
      "loading hamiltonians:  97%|█████████▋| 6334/6561 [01:28<00:03, 69.14it/s]"
     ]
    },
    {
     "name": "stderr",
     "output_type": "stream",
     "text": [
      "\r",
      "loading hamiltonians:  97%|█████████▋| 6342/6561 [01:28<00:03, 69.40it/s]"
     ]
    },
    {
     "name": "stderr",
     "output_type": "stream",
     "text": [
      "\r",
      "loading hamiltonians:  97%|█████████▋| 6350/6561 [01:28<00:03, 70.00it/s]"
     ]
    },
    {
     "name": "stderr",
     "output_type": "stream",
     "text": [
      "\r",
      "loading hamiltonians:  97%|█████████▋| 6358/6561 [01:28<00:02, 71.36it/s]"
     ]
    },
    {
     "name": "stderr",
     "output_type": "stream",
     "text": [
      "\r",
      "loading hamiltonians:  97%|█████████▋| 6366/6561 [01:28<00:02, 67.91it/s]"
     ]
    },
    {
     "name": "stderr",
     "output_type": "stream",
     "text": [
      "\r",
      "loading hamiltonians:  97%|█████████▋| 6376/6561 [01:29<00:02, 74.33it/s]"
     ]
    },
    {
     "name": "stderr",
     "output_type": "stream",
     "text": [
      "\r",
      "loading hamiltonians:  97%|█████████▋| 6385/6561 [01:29<00:02, 75.89it/s]"
     ]
    },
    {
     "name": "stderr",
     "output_type": "stream",
     "text": [
      "\r",
      "loading hamiltonians:  97%|█████████▋| 6394/6561 [01:29<00:02, 77.65it/s]"
     ]
    },
    {
     "name": "stderr",
     "output_type": "stream",
     "text": [
      "\r",
      "loading hamiltonians:  98%|█████████▊| 6402/6561 [01:29<00:02, 76.85it/s]"
     ]
    },
    {
     "name": "stderr",
     "output_type": "stream",
     "text": [
      "\r",
      "loading hamiltonians:  98%|█████████▊| 6410/6561 [01:29<00:01, 75.73it/s]"
     ]
    },
    {
     "name": "stderr",
     "output_type": "stream",
     "text": [
      "\r",
      "loading hamiltonians:  98%|█████████▊| 6418/6561 [01:29<00:01, 75.85it/s]"
     ]
    },
    {
     "name": "stderr",
     "output_type": "stream",
     "text": [
      "\r",
      "loading hamiltonians:  98%|█████████▊| 6426/6561 [01:29<00:01, 69.34it/s]"
     ]
    },
    {
     "name": "stderr",
     "output_type": "stream",
     "text": [
      "\r",
      "loading hamiltonians:  98%|█████████▊| 6435/6561 [01:29<00:01, 74.32it/s]"
     ]
    },
    {
     "name": "stderr",
     "output_type": "stream",
     "text": [
      "\r",
      "loading hamiltonians:  98%|█████████▊| 6443/6561 [01:29<00:01, 73.95it/s]"
     ]
    },
    {
     "name": "stderr",
     "output_type": "stream",
     "text": [
      "\r",
      "loading hamiltonians:  98%|█████████▊| 6453/6561 [01:30<00:01, 77.99it/s]"
     ]
    },
    {
     "name": "stderr",
     "output_type": "stream",
     "text": [
      "\r",
      "loading hamiltonians:  99%|█████████▊| 6465/6561 [01:30<00:01, 85.89it/s]"
     ]
    },
    {
     "name": "stderr",
     "output_type": "stream",
     "text": [
      "\r",
      "loading hamiltonians:  99%|█████████▊| 6475/6561 [01:30<00:00, 89.37it/s]"
     ]
    },
    {
     "name": "stderr",
     "output_type": "stream",
     "text": [
      "\r",
      "loading hamiltonians:  99%|█████████▉| 6485/6561 [01:30<00:00, 88.89it/s]"
     ]
    },
    {
     "name": "stderr",
     "output_type": "stream",
     "text": [
      "\r",
      "loading hamiltonians:  99%|█████████▉| 6495/6561 [01:30<00:00, 75.28it/s]"
     ]
    },
    {
     "name": "stderr",
     "output_type": "stream",
     "text": [
      "\r",
      "loading hamiltonians:  99%|█████████▉| 6504/6561 [01:30<00:00, 77.32it/s]"
     ]
    },
    {
     "name": "stderr",
     "output_type": "stream",
     "text": [
      "\r",
      "loading hamiltonians:  99%|█████████▉| 6513/6561 [01:30<00:00, 73.17it/s]"
     ]
    },
    {
     "name": "stderr",
     "output_type": "stream",
     "text": [
      "\r",
      "loading hamiltonians:  99%|█████████▉| 6521/6561 [01:30<00:00, 72.25it/s]"
     ]
    },
    {
     "name": "stderr",
     "output_type": "stream",
     "text": [
      "\r",
      "loading hamiltonians: 100%|█████████▉| 6529/6561 [01:31<00:00, 72.15it/s]"
     ]
    },
    {
     "name": "stderr",
     "output_type": "stream",
     "text": [
      "\r",
      "loading hamiltonians: 100%|█████████▉| 6537/6561 [01:31<00:00, 71.09it/s]"
     ]
    },
    {
     "name": "stderr",
     "output_type": "stream",
     "text": [
      "\r",
      "loading hamiltonians: 100%|█████████▉| 6545/6561 [01:31<00:00, 72.17it/s]"
     ]
    },
    {
     "name": "stderr",
     "output_type": "stream",
     "text": [
      "\r",
      "loading hamiltonians: 100%|█████████▉| 6553/6561 [01:31<00:00, 71.37it/s]"
     ]
    },
    {
     "name": "stderr",
     "output_type": "stream",
     "text": [
      "\r",
      "loading hamiltonians: 100%|██████████| 6561/6561 [01:31<00:00, 70.40it/s]"
     ]
    },
    {
     "name": "stderr",
     "output_type": "stream",
     "text": [
      "\r",
      "loading hamiltonians: 100%|██████████| 6561/6561 [01:31<00:00, 71.68it/s]"
     ]
    },
    {
     "name": "stderr",
     "output_type": "stream",
     "text": [
      "\n"
     ]
    },
    {
     "name": "stdout",
     "output_type": "stream",
     "text": [
      "shape of raw_data:  (918540, 144)\n",
      "len list_of_hamiltonians:  6561\n"
     ]
    },
    {
     "name": "stdout",
     "output_type": "stream",
     "text": [
      "CPU times: user 2min 10s, sys: 16.4 s, total: 2min 26s\n",
      "Wall time: 3min 15s\n"
     ]
    }
   ],
   "source": [
    "%%time\n",
    "list_of_hamiltonians, raw_data = load_hamiltonians(grid_folder)\n",
    "print(\"shape of raw_data: \", raw_data.shape)\n",
    "print(\"len list_of_hamiltonians: \", len(list_of_hamiltonians))\n",
    "\n",
    "dataframe = make_dataframe(raw_data, list_of_hamiltonians, allowed_windings = allowed_windings, epsilon = epsilon, \\\n",
    "                           csv_dir=csv_dir, csv_name = csv_name)"
   ]
  },
  {
   "cell_type": "code",
   "execution_count": 5,
   "metadata": {
    "execution": {
     "iopub.execute_input": "2020-04-06T19:54:07.429161Z",
     "iopub.status.busy": "2020-04-06T19:54:07.428669Z",
     "iopub.status.idle": "2020-04-06T19:54:07.460698Z",
     "shell.execute_reply": "2020-04-06T19:54:07.460376Z"
    },
    "papermill": {
     "duration": 0.159673,
     "end_time": "2020-04-06T19:54:07.460748",
     "exception": false,
     "start_time": "2020-04-06T19:54:07.301075",
     "status": "completed"
    },
    "tags": []
   },
   "outputs": [
    {
     "name": "stdout",
     "output_type": "stream",
     "text": [
      "<class 'pandas.core.frame.DataFrame'>\n",
      "RangeIndex: 918540 entries, 0 to 918539\n",
      "Columns: 148 entries, id to feat139\n",
      "dtypes: float64(3), int32(1), int64(2), object(142)\n",
      "memory usage: 1.0+ GB\n"
     ]
    },
    {
     "data": {
      "text/html": [
       "<div>\n",
       "<style scoped>\n",
       "    .dataframe tbody tr th:only-of-type {\n",
       "        vertical-align: middle;\n",
       "    }\n",
       "\n",
       "    .dataframe tbody tr th {\n",
       "        vertical-align: top;\n",
       "    }\n",
       "\n",
       "    .dataframe thead th {\n",
       "        text-align: right;\n",
       "    }\n",
       "</style>\n",
       "<table border=\"1\" class=\"dataframe\">\n",
       "  <thead>\n",
       "    <tr style=\"text-align: right;\">\n",
       "      <th></th>\n",
       "      <th>id</th>\n",
       "      <th>path</th>\n",
       "      <th>t1</th>\n",
       "      <th>t2</th>\n",
       "      <th>winding</th>\n",
       "      <th>phase</th>\n",
       "      <th>pred_phase</th>\n",
       "      <th>type_of</th>\n",
       "      <th>feat0</th>\n",
       "      <th>feat1</th>\n",
       "      <th>...</th>\n",
       "      <th>feat130</th>\n",
       "      <th>feat131</th>\n",
       "      <th>feat132</th>\n",
       "      <th>feat133</th>\n",
       "      <th>feat134</th>\n",
       "      <th>feat135</th>\n",
       "      <th>feat136</th>\n",
       "      <th>feat137</th>\n",
       "      <th>feat138</th>\n",
       "      <th>feat139</th>\n",
       "    </tr>\n",
       "  </thead>\n",
       "  <tbody>\n",
       "    <tr>\n",
       "      <th>0</th>\n",
       "      <td>0</td>\n",
       "      <td>H_-2_-2_0.501338.dat</td>\n",
       "      <td>-2.0</td>\n",
       "      <td>-2.0</td>\n",
       "      <td>0.501338</td>\n",
       "      <td>999</td>\n",
       "      <td>666</td>\n",
       "      <td>test</td>\n",
       "      <td>0.084515</td>\n",
       "      <td>0.084515</td>\n",
       "      <td>...</td>\n",
       "      <td>0.084515</td>\n",
       "      <td>0.084515</td>\n",
       "      <td>0.084515</td>\n",
       "      <td>0.084515</td>\n",
       "      <td>0.084515</td>\n",
       "      <td>0.084515</td>\n",
       "      <td>0.084515</td>\n",
       "      <td>0.084515</td>\n",
       "      <td>0.084515</td>\n",
       "      <td>0.084515</td>\n",
       "    </tr>\n",
       "    <tr>\n",
       "      <th>1</th>\n",
       "      <td>0</td>\n",
       "      <td>H_-2_-2_0.501338.dat</td>\n",
       "      <td>-2.0</td>\n",
       "      <td>-2.0</td>\n",
       "      <td>0.501338</td>\n",
       "      <td>999</td>\n",
       "      <td>666</td>\n",
       "      <td>test</td>\n",
       "      <td>0.119523</td>\n",
       "      <td>0.119403</td>\n",
       "      <td>...</td>\n",
       "      <td>0.107686</td>\n",
       "      <td>0.105251</td>\n",
       "      <td>0.111901</td>\n",
       "      <td>0.109905</td>\n",
       "      <td>0.115216</td>\n",
       "      <td>0.113673</td>\n",
       "      <td>0.117602</td>\n",
       "      <td>0.116526</td>\n",
       "      <td>0.119042</td>\n",
       "      <td>0.118441</td>\n",
       "    </tr>\n",
       "    <tr>\n",
       "      <th>2</th>\n",
       "      <td>0</td>\n",
       "      <td>H_-2_-2_0.501338.dat</td>\n",
       "      <td>-2.0</td>\n",
       "      <td>-2.0</td>\n",
       "      <td>0.501338</td>\n",
       "      <td>999</td>\n",
       "      <td>666</td>\n",
       "      <td>test</td>\n",
       "      <td>0.119523</td>\n",
       "      <td>0.119042</td>\n",
       "      <td>...</td>\n",
       "      <td>0.074521</td>\n",
       "      <td>0.065845</td>\n",
       "      <td>0.090009</td>\n",
       "      <td>0.082598</td>\n",
       "      <td>0.102604</td>\n",
       "      <td>0.096696</td>\n",
       "      <td>0.111901</td>\n",
       "      <td>0.107686</td>\n",
       "      <td>0.117602</td>\n",
       "      <td>0.115216</td>\n",
       "    </tr>\n",
       "    <tr>\n",
       "      <th>3</th>\n",
       "      <td>0</td>\n",
       "      <td>H_-2_-2_0.501338.dat</td>\n",
       "      <td>-2.0</td>\n",
       "      <td>-2.0</td>\n",
       "      <td>0.501338</td>\n",
       "      <td>999</td>\n",
       "      <td>666</td>\n",
       "      <td>test</td>\n",
       "      <td>-0.084515</td>\n",
       "      <td>0.084515</td>\n",
       "      <td>...</td>\n",
       "      <td>-0.084515</td>\n",
       "      <td>0.084515</td>\n",
       "      <td>-0.084515</td>\n",
       "      <td>0.084515</td>\n",
       "      <td>-0.084515</td>\n",
       "      <td>0.084515</td>\n",
       "      <td>-0.084515</td>\n",
       "      <td>0.084515</td>\n",
       "      <td>-0.084515</td>\n",
       "      <td>0.084515</td>\n",
       "    </tr>\n",
       "    <tr>\n",
       "      <th>4</th>\n",
       "      <td>0</td>\n",
       "      <td>H_-2_-2_0.501338.dat</td>\n",
       "      <td>-2.0</td>\n",
       "      <td>-2.0</td>\n",
       "      <td>0.501338</td>\n",
       "      <td>999</td>\n",
       "      <td>666</td>\n",
       "      <td>test</td>\n",
       "      <td>-0.002030</td>\n",
       "      <td>-0.007389</td>\n",
       "      <td>...</td>\n",
       "      <td>-0.053680</td>\n",
       "      <td>-0.058417</td>\n",
       "      <td>-0.043892</td>\n",
       "      <td>-0.048835</td>\n",
       "      <td>-0.033750</td>\n",
       "      <td>-0.038860</td>\n",
       "      <td>-0.023336</td>\n",
       "      <td>-0.028571</td>\n",
       "      <td>-0.012734</td>\n",
       "      <td>-0.018053</td>\n",
       "    </tr>\n",
       "  </tbody>\n",
       "</table>\n",
       "<p>5 rows × 148 columns</p>\n",
       "</div>"
      ],
      "text/plain": [
       "   id                  path   t1   t2   winding  phase  pred_phase type_of  \\\n",
       "0   0  H_-2_-2_0.501338.dat -2.0 -2.0  0.501338    999         666    test   \n",
       "1   0  H_-2_-2_0.501338.dat -2.0 -2.0  0.501338    999         666    test   \n",
       "2   0  H_-2_-2_0.501338.dat -2.0 -2.0  0.501338    999         666    test   \n",
       "3   0  H_-2_-2_0.501338.dat -2.0 -2.0  0.501338    999         666    test   \n",
       "4   0  H_-2_-2_0.501338.dat -2.0 -2.0  0.501338    999         666    test   \n",
       "\n",
       "       feat0      feat1  ...    feat130    feat131    feat132    feat133  \\\n",
       "0   0.084515   0.084515  ...   0.084515   0.084515   0.084515   0.084515   \n",
       "1   0.119523   0.119403  ...   0.107686   0.105251   0.111901   0.109905   \n",
       "2   0.119523   0.119042  ...   0.074521   0.065845   0.090009   0.082598   \n",
       "3  -0.084515   0.084515  ...  -0.084515   0.084515  -0.084515   0.084515   \n",
       "4  -0.002030  -0.007389  ...  -0.053680  -0.058417  -0.043892  -0.048835   \n",
       "\n",
       "     feat134    feat135    feat136    feat137    feat138    feat139  \n",
       "0   0.084515   0.084515   0.084515   0.084515   0.084515   0.084515  \n",
       "1   0.115216   0.113673   0.117602   0.116526   0.119042   0.118441  \n",
       "2   0.102604   0.096696   0.111901   0.107686   0.117602   0.115216  \n",
       "3  -0.084515   0.084515  -0.084515   0.084515  -0.084515   0.084515  \n",
       "4  -0.033750  -0.038860  -0.023336  -0.028571  -0.012734  -0.018053  \n",
       "\n",
       "[5 rows x 148 columns]"
      ]
     },
     "execution_count": 5,
     "metadata": {},
     "output_type": "execute_result"
    }
   ],
   "source": [
    "dataframe.info()\n",
    "dataframe.head()\n",
    "#dataframe.tail()"
   ]
  },
  {
   "cell_type": "markdown",
   "metadata": {
    "papermill": {
     "duration": 0.130313,
     "end_time": "2020-04-06T19:54:07.744199",
     "exception": false,
     "start_time": "2020-04-06T19:54:07.613886",
     "status": "completed"
    },
    "tags": []
   },
   "source": [
    "#### Train/test "
   ]
  },
  {
   "cell_type": "code",
   "execution_count": 6,
   "metadata": {
    "execution": {
     "iopub.execute_input": "2020-04-06T19:54:08.001009Z",
     "iopub.status.busy": "2020-04-06T19:54:08.000610Z",
     "iopub.status.idle": "2020-04-06T19:54:13.514114Z",
     "shell.execute_reply": "2020-04-06T19:54:13.513792Z"
    },
    "papermill": {
     "duration": 5.644191,
     "end_time": "2020-04-06T19:54:13.514164",
     "exception": false,
     "start_time": "2020-04-06T19:54:07.869973",
     "status": "completed"
    },
    "tags": []
   },
   "outputs": [
    {
     "name": "stdout",
     "output_type": "stream",
     "text": [
      "% train:  0.9358329522938577\n",
      "% test:  0.06416704770614236\n",
      "% train + test:  1.0\n"
     ]
    }
   ],
   "source": [
    "n_total = len(dataframe)\n",
    "n_train = len(dataframe[dataframe.type_of == \"train\"])\n",
    "n_test = len(dataframe[dataframe.type_of == \"test\"])\n",
    "print(\"% train: \", n_train/n_total)\n",
    "print(\"% test: \", n_test/n_total)\n",
    "print(\"% train + test: \", (n_train+n_test)/n_total)"
   ]
  },
  {
   "cell_type": "markdown",
   "metadata": {
    "papermill": {
     "duration": 0.544416,
     "end_time": "2020-04-06T19:54:14.488050",
     "exception": false,
     "start_time": "2020-04-06T19:54:13.943634",
     "status": "completed"
    },
    "tags": []
   },
   "source": [
    "#### Unique winding values"
   ]
  },
  {
   "cell_type": "code",
   "execution_count": 7,
   "metadata": {
    "execution": {
     "iopub.execute_input": "2020-04-06T19:54:15.357903Z",
     "iopub.status.busy": "2020-04-06T19:54:15.357586Z",
     "iopub.status.idle": "2020-04-06T19:54:15.372551Z",
     "shell.execute_reply": "2020-04-06T19:54:15.372873Z"
    },
    "papermill": {
     "duration": 0.593631,
     "end_time": "2020-04-06T19:54:15.372941",
     "exception": false,
     "start_time": "2020-04-06T19:54:14.779310",
     "status": "completed"
    },
    "tags": []
   },
   "outputs": [
    {
     "data": {
      "text/plain": [
       "array([  0,   1, 999], dtype=int32)"
      ]
     },
     "execution_count": 7,
     "metadata": {},
     "output_type": "execute_result"
    }
   ],
   "source": [
    "np.unique(dataframe.phase.values)"
   ]
  },
  {
   "cell_type": "markdown",
   "metadata": {
    "papermill": {
     "duration": 0.421389,
     "end_time": "2020-04-06T19:54:16.181483",
     "exception": false,
     "start_time": "2020-04-06T19:54:15.760094",
     "status": "completed"
    },
    "tags": []
   },
   "source": [
    "#### Checking t values are row-major sorted"
   ]
  },
  {
   "cell_type": "code",
   "execution_count": 8,
   "metadata": {
    "execution": {
     "iopub.execute_input": "2020-04-06T19:54:17.490901Z",
     "iopub.status.busy": "2020-04-06T19:54:17.488837Z",
     "iopub.status.idle": "2020-04-06T19:54:18.965015Z",
     "shell.execute_reply": "2020-04-06T19:54:18.963215Z"
    },
    "papermill": {
     "duration": 2.218285,
     "end_time": "2020-04-06T19:54:18.965262",
     "exception": false,
     "start_time": "2020-04-06T19:54:16.746977",
     "status": "completed"
    },
    "tags": []
   },
   "outputs": [],
   "source": [
    "#np.set_printoptions(threshold=np.inf)\n",
    "#t_array = dataframe[[\"t1\", \"t2\"]].values\n",
    "#print(\"t_array:\\n\", t_array)\n",
    "#np.set_printoptions()"
   ]
  },
  {
   "cell_type": "markdown",
   "metadata": {
    "papermill": {
     "duration": 0.45062,
     "end_time": "2020-04-06T19:54:19.596052",
     "exception": false,
     "start_time": "2020-04-06T19:54:19.145432",
     "status": "completed"
    },
    "tags": []
   },
   "source": [
    "#### Making a grid"
   ]
  },
  {
   "cell_type": "code",
   "execution_count": 9,
   "metadata": {
    "execution": {
     "iopub.execute_input": "2020-04-06T19:54:21.276255Z",
     "iopub.status.busy": "2020-04-06T19:54:21.274534Z",
     "iopub.status.idle": "2020-04-06T19:54:21.887874Z",
     "shell.execute_reply": "2020-04-06T19:54:21.887121Z"
    },
    "papermill": {
     "duration": 1.271966,
     "end_time": "2020-04-06T19:54:21.887951",
     "exception": false,
     "start_time": "2020-04-06T19:54:20.615985",
     "status": "completed"
    },
    "tags": []
   },
   "outputs": [],
   "source": [
    "#xx = dataframe.t2.values\n",
    "#yy = dataframe.t1.values\n",
    "#print(\"xx: \\n\", xx)\n",
    "#print(\"yy: \\n\", yy)"
   ]
  },
  {
   "cell_type": "code",
   "execution_count": 10,
   "metadata": {
    "execution": {
     "iopub.execute_input": "2020-04-06T19:54:22.164704Z",
     "iopub.status.busy": "2020-04-06T19:54:22.164390Z",
     "iopub.status.idle": "2020-04-06T19:54:25.653426Z",
     "shell.execute_reply": "2020-04-06T19:54:25.653077Z"
    },
    "papermill": {
     "duration": 3.622673,
     "end_time": "2020-04-06T19:54:25.653478",
     "exception": false,
     "start_time": "2020-04-06T19:54:22.030805",
     "status": "completed"
    },
    "tags": []
   },
   "outputs": [
    {
     "data": {
      "text/html": [
       "<div>\n",
       "<style scoped>\n",
       "    .dataframe tbody tr th:only-of-type {\n",
       "        vertical-align: middle;\n",
       "    }\n",
       "\n",
       "    .dataframe tbody tr th {\n",
       "        vertical-align: top;\n",
       "    }\n",
       "\n",
       "    .dataframe thead th {\n",
       "        text-align: right;\n",
       "    }\n",
       "</style>\n",
       "<table border=\"1\" class=\"dataframe\">\n",
       "  <thead>\n",
       "    <tr style=\"text-align: right;\">\n",
       "      <th></th>\n",
       "      <th>id</th>\n",
       "      <th>path</th>\n",
       "      <th>t1</th>\n",
       "      <th>t2</th>\n",
       "      <th>winding</th>\n",
       "      <th>phase</th>\n",
       "      <th>pred_phase</th>\n",
       "      <th>type_of</th>\n",
       "      <th>feat0</th>\n",
       "      <th>feat1</th>\n",
       "      <th>...</th>\n",
       "      <th>feat130</th>\n",
       "      <th>feat131</th>\n",
       "      <th>feat132</th>\n",
       "      <th>feat133</th>\n",
       "      <th>feat134</th>\n",
       "      <th>feat135</th>\n",
       "      <th>feat136</th>\n",
       "      <th>feat137</th>\n",
       "      <th>feat138</th>\n",
       "      <th>feat139</th>\n",
       "    </tr>\n",
       "  </thead>\n",
       "  <tbody>\n",
       "    <tr>\n",
       "      <th>560</th>\n",
       "      <td>4</td>\n",
       "      <td>H_-2_-1.8_-0.00976312.dat</td>\n",
       "      <td>-2.0</td>\n",
       "      <td>-1.80</td>\n",
       "      <td>-0.009763</td>\n",
       "      <td>0</td>\n",
       "      <td>666</td>\n",
       "      <td>train</td>\n",
       "      <td>0.084515</td>\n",
       "      <td>-0.084515</td>\n",
       "      <td>...</td>\n",
       "      <td>0.084515</td>\n",
       "      <td>-0.084515</td>\n",
       "      <td>0.084515</td>\n",
       "      <td>-0.084515</td>\n",
       "      <td>0.084515</td>\n",
       "      <td>-0.084515</td>\n",
       "      <td>0.084515</td>\n",
       "      <td>-0.084515</td>\n",
       "      <td>0.084515</td>\n",
       "      <td>-0.084515</td>\n",
       "    </tr>\n",
       "    <tr>\n",
       "      <th>561</th>\n",
       "      <td>4</td>\n",
       "      <td>H_-2_-1.8_-0.00976312.dat</td>\n",
       "      <td>-2.0</td>\n",
       "      <td>-1.80</td>\n",
       "      <td>-0.009763</td>\n",
       "      <td>0</td>\n",
       "      <td>666</td>\n",
       "      <td>train</td>\n",
       "      <td>0.119523</td>\n",
       "      <td>-0.119415</td>\n",
       "      <td>...</td>\n",
       "      <td>0.107686</td>\n",
       "      <td>-0.105385</td>\n",
       "      <td>0.111901</td>\n",
       "      <td>-0.110015</td>\n",
       "      <td>0.115216</td>\n",
       "      <td>-0.113760</td>\n",
       "      <td>0.117602</td>\n",
       "      <td>-0.116589</td>\n",
       "      <td>0.119042</td>\n",
       "      <td>-0.118479</td>\n",
       "    </tr>\n",
       "    <tr>\n",
       "      <th>562</th>\n",
       "      <td>4</td>\n",
       "      <td>H_-2_-1.8_-0.00976312.dat</td>\n",
       "      <td>-2.0</td>\n",
       "      <td>-1.80</td>\n",
       "      <td>-0.009763</td>\n",
       "      <td>0</td>\n",
       "      <td>666</td>\n",
       "      <td>train</td>\n",
       "      <td>0.119523</td>\n",
       "      <td>-0.119091</td>\n",
       "      <td>...</td>\n",
       "      <td>0.074521</td>\n",
       "      <td>-0.066317</td>\n",
       "      <td>0.090009</td>\n",
       "      <td>-0.083006</td>\n",
       "      <td>0.102604</td>\n",
       "      <td>-0.097028</td>\n",
       "      <td>0.111901</td>\n",
       "      <td>-0.107931</td>\n",
       "      <td>0.117602</td>\n",
       "      <td>-0.115365</td>\n",
       "    </tr>\n",
       "    <tr>\n",
       "      <th>563</th>\n",
       "      <td>4</td>\n",
       "      <td>H_-2_-1.8_-0.00976312.dat</td>\n",
       "      <td>-2.0</td>\n",
       "      <td>-1.80</td>\n",
       "      <td>-0.009763</td>\n",
       "      <td>0</td>\n",
       "      <td>666</td>\n",
       "      <td>train</td>\n",
       "      <td>-0.119523</td>\n",
       "      <td>0.118553</td>\n",
       "      <td>...</td>\n",
       "      <td>-0.026596</td>\n",
       "      <td>0.011562</td>\n",
       "      <td>-0.056638</td>\n",
       "      <td>0.042794</td>\n",
       "      <td>-0.082598</td>\n",
       "      <td>0.070941</td>\n",
       "      <td>-0.102604</td>\n",
       "      <td>0.093976</td>\n",
       "      <td>-0.115216</td>\n",
       "      <td>0.110237</td>\n",
       "    </tr>\n",
       "    <tr>\n",
       "      <th>564</th>\n",
       "      <td>4</td>\n",
       "      <td>H_-2_-1.8_-0.00976312.dat</td>\n",
       "      <td>-2.0</td>\n",
       "      <td>-1.80</td>\n",
       "      <td>-0.009763</td>\n",
       "      <td>0</td>\n",
       "      <td>666</td>\n",
       "      <td>train</td>\n",
       "      <td>0.084515</td>\n",
       "      <td>0.084515</td>\n",
       "      <td>...</td>\n",
       "      <td>0.084515</td>\n",
       "      <td>0.084515</td>\n",
       "      <td>0.084515</td>\n",
       "      <td>0.084515</td>\n",
       "      <td>0.084515</td>\n",
       "      <td>0.084515</td>\n",
       "      <td>0.084515</td>\n",
       "      <td>0.084515</td>\n",
       "      <td>0.084515</td>\n",
       "      <td>0.084515</td>\n",
       "    </tr>\n",
       "    <tr>\n",
       "      <th>...</th>\n",
       "      <td>...</td>\n",
       "      <td>...</td>\n",
       "      <td>...</td>\n",
       "      <td>...</td>\n",
       "      <td>...</td>\n",
       "      <td>...</td>\n",
       "      <td>...</td>\n",
       "      <td>...</td>\n",
       "      <td>...</td>\n",
       "      <td>...</td>\n",
       "      <td>...</td>\n",
       "      <td>...</td>\n",
       "      <td>...</td>\n",
       "      <td>...</td>\n",
       "      <td>...</td>\n",
       "      <td>...</td>\n",
       "      <td>...</td>\n",
       "      <td>...</td>\n",
       "      <td>...</td>\n",
       "      <td>...</td>\n",
       "      <td>...</td>\n",
       "    </tr>\n",
       "    <tr>\n",
       "      <th>1555</th>\n",
       "      <td>11</td>\n",
       "      <td>H_-2_-1.45_-0.00285944.dat</td>\n",
       "      <td>-2.0</td>\n",
       "      <td>-1.45</td>\n",
       "      <td>-0.002859</td>\n",
       "      <td>0</td>\n",
       "      <td>666</td>\n",
       "      <td>train</td>\n",
       "      <td>-0.000131</td>\n",
       "      <td>-0.031131</td>\n",
       "      <td>...</td>\n",
       "      <td>0.000131</td>\n",
       "      <td>0.031131</td>\n",
       "      <td>-0.070148</td>\n",
       "      <td>-0.042643</td>\n",
       "      <td>-0.113632</td>\n",
       "      <td>-0.100129</td>\n",
       "      <td>-0.113713</td>\n",
       "      <td>-0.119370</td>\n",
       "      <td>-0.070360</td>\n",
       "      <td>-0.093015</td>\n",
       "    </tr>\n",
       "    <tr>\n",
       "      <th>1556</th>\n",
       "      <td>11</td>\n",
       "      <td>H_-2_-1.45_-0.00285944.dat</td>\n",
       "      <td>-2.0</td>\n",
       "      <td>-1.45</td>\n",
       "      <td>-0.002859</td>\n",
       "      <td>0</td>\n",
       "      <td>666</td>\n",
       "      <td>train</td>\n",
       "      <td>0.119523</td>\n",
       "      <td>0.111340</td>\n",
       "      <td>...</td>\n",
       "      <td>-0.026596</td>\n",
       "      <td>0.017599</td>\n",
       "      <td>-0.107686</td>\n",
       "      <td>-0.081456</td>\n",
       "      <td>-0.107686</td>\n",
       "      <td>-0.119172</td>\n",
       "      <td>-0.026596</td>\n",
       "      <td>-0.067150</td>\n",
       "      <td>0.074521</td>\n",
       "      <td>0.035438</td>\n",
       "    </tr>\n",
       "    <tr>\n",
       "      <th>1557</th>\n",
       "      <td>11</td>\n",
       "      <td>H_-2_-1.45_-0.00285944.dat</td>\n",
       "      <td>-2.0</td>\n",
       "      <td>-1.45</td>\n",
       "      <td>-0.002859</td>\n",
       "      <td>0</td>\n",
       "      <td>666</td>\n",
       "      <td>train</td>\n",
       "      <td>0.119523</td>\n",
       "      <td>0.114203</td>\n",
       "      <td>...</td>\n",
       "      <td>-0.107677</td>\n",
       "      <td>-0.087595</td>\n",
       "      <td>-0.115221</td>\n",
       "      <td>-0.119468</td>\n",
       "      <td>-0.065863</td>\n",
       "      <td>-0.092342</td>\n",
       "      <td>0.016022</td>\n",
       "      <td>-0.019611</td>\n",
       "      <td>0.089995</td>\n",
       "      <td>0.062804</td>\n",
       "    </tr>\n",
       "    <tr>\n",
       "      <th>1558</th>\n",
       "      <td>11</td>\n",
       "      <td>H_-2_-1.45_-0.00285944.dat</td>\n",
       "      <td>-2.0</td>\n",
       "      <td>-1.45</td>\n",
       "      <td>-0.002859</td>\n",
       "      <td>0</td>\n",
       "      <td>666</td>\n",
       "      <td>train</td>\n",
       "      <td>-0.000858</td>\n",
       "      <td>0.034419</td>\n",
       "      <td>...</td>\n",
       "      <td>-0.051085</td>\n",
       "      <td>-0.080672</td>\n",
       "      <td>0.032623</td>\n",
       "      <td>-0.002728</td>\n",
       "      <td>0.100220</td>\n",
       "      <td>0.076564</td>\n",
       "      <td>0.118323</td>\n",
       "      <td>0.118044</td>\n",
       "      <td>0.077991</td>\n",
       "      <td>0.101227</td>\n",
       "    </tr>\n",
       "    <tr>\n",
       "      <th>1559</th>\n",
       "      <td>11</td>\n",
       "      <td>H_-2_-1.45_-0.00285944.dat</td>\n",
       "      <td>-2.0</td>\n",
       "      <td>-1.45</td>\n",
       "      <td>-0.002859</td>\n",
       "      <td>0</td>\n",
       "      <td>666</td>\n",
       "      <td>train</td>\n",
       "      <td>-0.119523</td>\n",
       "      <td>-0.109747</td>\n",
       "      <td>...</td>\n",
       "      <td>-0.026499</td>\n",
       "      <td>-0.070577</td>\n",
       "      <td>0.082670</td>\n",
       "      <td>0.041623</td>\n",
       "      <td>0.117584</td>\n",
       "      <td>0.116437</td>\n",
       "      <td>0.046884</td>\n",
       "      <td>0.086666</td>\n",
       "      <td>-0.065928</td>\n",
       "      <td>-0.020948</td>\n",
       "    </tr>\n",
       "  </tbody>\n",
       "</table>\n",
       "<p>1000 rows × 148 columns</p>\n",
       "</div>"
      ],
      "text/plain": [
       "      id                        path   t1    t2   winding  phase  pred_phase  \\\n",
       "560    4   H_-2_-1.8_-0.00976312.dat -2.0 -1.80 -0.009763      0         666   \n",
       "561    4   H_-2_-1.8_-0.00976312.dat -2.0 -1.80 -0.009763      0         666   \n",
       "562    4   H_-2_-1.8_-0.00976312.dat -2.0 -1.80 -0.009763      0         666   \n",
       "563    4   H_-2_-1.8_-0.00976312.dat -2.0 -1.80 -0.009763      0         666   \n",
       "564    4   H_-2_-1.8_-0.00976312.dat -2.0 -1.80 -0.009763      0         666   \n",
       "...   ..                         ...  ...   ...       ...    ...         ...   \n",
       "1555  11  H_-2_-1.45_-0.00285944.dat -2.0 -1.45 -0.002859      0         666   \n",
       "1556  11  H_-2_-1.45_-0.00285944.dat -2.0 -1.45 -0.002859      0         666   \n",
       "1557  11  H_-2_-1.45_-0.00285944.dat -2.0 -1.45 -0.002859      0         666   \n",
       "1558  11  H_-2_-1.45_-0.00285944.dat -2.0 -1.45 -0.002859      0         666   \n",
       "1559  11  H_-2_-1.45_-0.00285944.dat -2.0 -1.45 -0.002859      0         666   \n",
       "\n",
       "     type_of      feat0      feat1  ...    feat130    feat131    feat132  \\\n",
       "560    train   0.084515  -0.084515  ...   0.084515  -0.084515   0.084515   \n",
       "561    train   0.119523  -0.119415  ...   0.107686  -0.105385   0.111901   \n",
       "562    train   0.119523  -0.119091  ...   0.074521  -0.066317   0.090009   \n",
       "563    train  -0.119523   0.118553  ...  -0.026596   0.011562  -0.056638   \n",
       "564    train   0.084515   0.084515  ...   0.084515   0.084515   0.084515   \n",
       "...      ...        ...        ...  ...        ...        ...        ...   \n",
       "1555   train  -0.000131  -0.031131  ...   0.000131   0.031131  -0.070148   \n",
       "1556   train   0.119523   0.111340  ...  -0.026596   0.017599  -0.107686   \n",
       "1557   train   0.119523   0.114203  ...  -0.107677  -0.087595  -0.115221   \n",
       "1558   train  -0.000858   0.034419  ...  -0.051085  -0.080672   0.032623   \n",
       "1559   train  -0.119523  -0.109747  ...  -0.026499  -0.070577   0.082670   \n",
       "\n",
       "        feat133    feat134    feat135    feat136    feat137    feat138  \\\n",
       "560   -0.084515   0.084515  -0.084515   0.084515  -0.084515   0.084515   \n",
       "561   -0.110015   0.115216  -0.113760   0.117602  -0.116589   0.119042   \n",
       "562   -0.083006   0.102604  -0.097028   0.111901  -0.107931   0.117602   \n",
       "563    0.042794  -0.082598   0.070941  -0.102604   0.093976  -0.115216   \n",
       "564    0.084515   0.084515   0.084515   0.084515   0.084515   0.084515   \n",
       "...         ...        ...        ...        ...        ...        ...   \n",
       "1555  -0.042643  -0.113632  -0.100129  -0.113713  -0.119370  -0.070360   \n",
       "1556  -0.081456  -0.107686  -0.119172  -0.026596  -0.067150   0.074521   \n",
       "1557  -0.119468  -0.065863  -0.092342   0.016022  -0.019611   0.089995   \n",
       "1558  -0.002728   0.100220   0.076564   0.118323   0.118044   0.077991   \n",
       "1559   0.041623   0.117584   0.116437   0.046884   0.086666  -0.065928   \n",
       "\n",
       "        feat139  \n",
       "560   -0.084515  \n",
       "561   -0.118479  \n",
       "562   -0.115365  \n",
       "563    0.110237  \n",
       "564    0.084515  \n",
       "...         ...  \n",
       "1555  -0.093015  \n",
       "1556   0.035438  \n",
       "1557   0.062804  \n",
       "1558   0.101227  \n",
       "1559  -0.020948  \n",
       "\n",
       "[1000 rows x 148 columns]"
      ]
     },
     "execution_count": 10,
     "metadata": {},
     "output_type": "execute_result"
    }
   ],
   "source": [
    "# A view of train data\n",
    "dataframe[dataframe.type_of == \"train\"].head(1000)"
   ]
  },
  {
   "cell_type": "code",
   "execution_count": 11,
   "metadata": {
    "execution": {
     "iopub.execute_input": "2020-04-06T19:54:25.918858Z",
     "iopub.status.busy": "2020-04-06T19:54:25.918543Z",
     "iopub.status.idle": "2020-04-06T19:54:25.925811Z",
     "shell.execute_reply": "2020-04-06T19:54:25.926067Z"
    },
    "papermill": {
     "duration": 0.14369,
     "end_time": "2020-04-06T19:54:25.926138",
     "exception": false,
     "start_time": "2020-04-06T19:54:25.782448",
     "status": "completed"
    },
    "tags": []
   },
   "outputs": [],
   "source": [
    "# A view of test data\n",
    "#dataframe[dataframe.type_of == \"test\"].head(1000)"
   ]
  },
  {
   "cell_type": "markdown",
   "metadata": {
    "papermill": {
     "duration": 0.131514,
     "end_time": "2020-04-06T19:54:26.183046",
     "exception": false,
     "start_time": "2020-04-06T19:54:26.051532",
     "status": "completed"
    },
    "tags": []
   },
   "source": [
    "#### clearing variables"
   ]
  },
  {
   "cell_type": "code",
   "execution_count": 12,
   "metadata": {
    "execution": {
     "iopub.execute_input": "2020-04-06T19:54:26.441778Z",
     "iopub.status.busy": "2020-04-06T19:54:26.441458Z",
     "iopub.status.idle": "2020-04-06T19:54:26.448996Z",
     "shell.execute_reply": "2020-04-06T19:54:26.449343Z"
    },
    "papermill": {
     "duration": 0.14039,
     "end_time": "2020-04-06T19:54:26.449413",
     "exception": false,
     "start_time": "2020-04-06T19:54:26.309023",
     "status": "completed"
    },
    "tags": []
   },
   "outputs": [],
   "source": [
    "#del list_of_hamiltonians\n",
    "#del raw_data\n",
    "#del dataframe"
   ]
  },
  {
   "cell_type": "code",
   "execution_count": null,
   "metadata": {
    "papermill": {
     "duration": 0.128458,
     "end_time": "2020-04-06T19:54:26.706043",
     "exception": false,
     "start_time": "2020-04-06T19:54:26.577585",
     "status": "completed"
    },
    "tags": []
   },
   "outputs": [],
   "source": []
  }
 ],
 "metadata": {
  "celltoolbar": "Tags",
  "kernelspec": {
   "display_name": "ml_top_phases",
   "language": "python",
   "name": "ml_top_phases"
  },
  "language_info": {
   "codemirror_mode": {
    "name": "ipython",
    "version": 3
   },
   "file_extension": ".py",
   "mimetype": "text/x-python",
   "name": "python",
   "nbconvert_exporter": "python",
   "pygments_lexer": "ipython3",
   "version": "3.6.10"
  },
  "papermill": {
   "duration": 218.10332,
   "end_time": "2020-04-06T19:54:28.171197",
   "environment_variables": {},
   "exception": null,
   "input_path": "0_preprocessing_template.ipynb",
   "output_path": "preprocessing_output_ssh1_periodic_140_6561.ipynb",
   "parameters": {
    "allowed_windings": [
     0,
     1
    ],
    "csv_dir": "/home/rio/ssh_csvs/ssh1",
    "csv_name": "/home/rio/ssh_csvs/ssh1/periodic_140_6561.csv",
    "epsilon": 0.01,
    "grid_folder": "/home/rio/ssh_grids/ssh1/periodic_140_6561"
   },
   "start_time": "2020-04-06T19:50:50.067877",
   "version": "2.1.0"
  }
 },
 "nbformat": 4,
 "nbformat_minor": 2
}