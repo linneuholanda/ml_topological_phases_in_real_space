{
 "cells": [
  {
   "cell_type": "markdown",
   "metadata": {
    "papermill": {
     "duration": 0.053738,
     "end_time": "2020-07-09T18:44:41.970306",
     "exception": false,
     "start_time": "2020-07-09T18:44:41.916568",
     "status": "completed"
    },
    "tags": []
   },
   "source": [
    "# Simulation template \n",
    "\n",
    "In this notebook we run the machine learning analysis of topological phase transitions occurring  in both nearest-neighbours SSH models (ssh1) and second neighbours models (ssh2) as decribed in the paper [Machine learning topological phases in real space](https://arxiv.org/abs/1901.01963). Here the simulation is run with features generated from fourier components in the first scenario. This scenario is characterized by using only the EVEN wavevector space eigenmodes, computed from ALL real space components."
   ]
  },
  {
   "cell_type": "markdown",
   "metadata": {
    "papermill": {
     "duration": 0.015214,
     "end_time": "2020-07-09T18:44:42.005133",
     "exception": false,
     "start_time": "2020-07-09T18:44:41.989919",
     "status": "completed"
    },
    "tags": []
   },
   "source": [
    "## Defining parameters"
   ]
  },
  {
   "cell_type": "code",
   "execution_count": 1,
   "metadata": {
    "execution": {
     "iopub.execute_input": "2020-07-09T18:44:42.038284Z",
     "iopub.status.busy": "2020-07-09T18:44:42.037952Z",
     "iopub.status.idle": "2020-07-09T18:44:42.630590Z",
     "shell.execute_reply": "2020-07-09T18:44:42.630907Z"
    },
    "papermill": {
     "duration": 0.610759,
     "end_time": "2020-07-09T18:44:42.630976",
     "exception": false,
     "start_time": "2020-07-09T18:44:42.020217",
     "status": "completed"
    },
    "tags": []
   },
   "outputs": [
    {
     "name": "stdout",
     "output_type": "stream",
     "text": [
      "CPU times: user 766 ms, sys: 255 ms, total: 1.02 s\n",
      "Wall time: 586 ms\n"
     ]
    }
   ],
   "source": [
    "%%time\n",
    "%load_ext autoreload\n",
    "%autoreload 2\n",
    "from simulation import *"
   ]
  },
  {
   "cell_type": "code",
   "execution_count": 2,
   "metadata": {
    "execution": {
     "iopub.execute_input": "2020-07-09T18:44:42.665034Z",
     "iopub.status.busy": "2020-07-09T18:44:42.664692Z",
     "iopub.status.idle": "2020-07-09T18:44:42.675367Z",
     "shell.execute_reply": "2020-07-09T18:44:42.675676Z"
    },
    "papermill": {
     "duration": 0.028708,
     "end_time": "2020-07-09T18:44:42.675741",
     "exception": false,
     "start_time": "2020-07-09T18:44:42.647033",
     "status": "completed"
    },
    "tags": [
     "parameters"
    ]
   },
   "outputs": [
    {
     "name": "stdout",
     "output_type": "stream",
     "text": [
      "CPU times: user 2 µs, sys: 1e+03 ns, total: 3 µs\n",
      "Wall time: 4.77 µs\n"
     ]
    }
   ],
   "source": [
    "%%time\n",
    "### Dataset and simulation parameters\n",
    "#csv_path = SSH2_PERIODIC_100_6561_CSV \n",
    "csv_path = SSH1_PERIODIC_100_6561_CSV \n",
    "model_name = \"DecisionTreeClassifier\"\n",
    "model_kw = {\"criterion\":\"entropy\"}\n",
    "allowed_windings = [0,1]\n",
    "#allowed_windings = [-1,0,1,2]\n",
    "simulation_dir = SSH1_PERIODIC_1ST_SCENARIO_100_6561_SIMULATION_DIR\n",
    "#simulation_dir = SSH2_PERIODIC_ENGINEERED_100_6561_SIMULATION_DIR\n",
    "val_split = 0.9  \n",
    "features_to_use = None\n",
    "shuffle_features = False\n",
    "random_state = 763\n",
    "\n",
    "### Fourier features\n",
    "fourier_mode = \"dft\"\n",
    "fourier_features_to_use = None\n",
    "fourier_real = \"real\"\n",
    "fourier_normalize = True\n",
    "fourier_fillna = False\n",
    "\n",
    "### Running a simulation\n",
    "n_experiments = 5\n",
    "start_n = 0\n",
    "fit_params = None\n",
    "#mode=mode\n",
    "shuffle_rows = True\n",
    "pred_params = None\n",
    "random_features = False\n",
    "######### DON'T SET THIS TO TRUE UNLESS YOUR DATASET IS SMALL!! WILL FLOOD YOUR MEMORY!!!\n",
    "store_in_lists = False   \n",
    "########## BELOW ARE THE PARAMETERS THAT CONTROL WHAT WILL BE SAVED\n",
    "save_eigenvector=True\n",
    "save_hamiltonian=True \n",
    "save_accuracy=True \n",
    "save_models=True"
   ]
  },
  {
   "cell_type": "code",
   "execution_count": 3,
   "metadata": {
    "execution": {
     "iopub.execute_input": "2020-07-09T18:44:42.710075Z",
     "iopub.status.busy": "2020-07-09T18:44:42.709749Z",
     "iopub.status.idle": "2020-07-09T18:44:42.807049Z",
     "shell.execute_reply": "2020-07-09T18:44:42.808762Z"
    },
    "papermill": {
     "duration": 0.117933,
     "end_time": "2020-07-09T18:44:42.809064",
     "exception": false,
     "start_time": "2020-07-09T18:44:42.691131",
     "status": "completed"
    },
    "tags": [
     "injected-parameters"
    ]
   },
   "outputs": [],
   "source": [
    "# Parameters\n",
    "model_kw = {\"criterion\": \"entropy\", \"n_estimators\": 25, \"n_jobs\": -1}\n",
    "allowed_windings = [-1, 0, 1, 2]\n",
    "val_split = 0.5\n",
    "features_to_use = [\n",
    "    0,\n",
    "    1,\n",
    "    2,\n",
    "    3,\n",
    "    4,\n",
    "    5,\n",
    "    6,\n",
    "    7,\n",
    "    8,\n",
    "    9,\n",
    "    10,\n",
    "    11,\n",
    "    12,\n",
    "    13,\n",
    "    14,\n",
    "    40,\n",
    "    42,\n",
    "    43,\n",
    "    44,\n",
    "    45,\n",
    "    46,\n",
    "    47,\n",
    "    48,\n",
    "    49,\n",
    "    50,\n",
    "]\n",
    "shuffle_features = False\n",
    "n_experiments = 100\n",
    "start_n = 0\n",
    "fit_params = None\n",
    "shuffle_rows = True\n",
    "pred_params = None\n",
    "random_features = False\n",
    "store_in_lists = False\n",
    "save_eigenvector = True\n",
    "save_hamiltonian = True\n",
    "save_accuracy = True\n",
    "save_models = True\n",
    "csv_path = \"/home/rio/ssh_csvs/ssh2/periodic_100_6561.csv\"\n",
    "model_name = \"RandomForestClassifier\"\n",
    "simulation_dir = \"/home/rio/ssh_simulations/ssh2/periodic_1st_scenario_100_6561\"\n",
    "random_state = 244854\n",
    "fourier_features_to_use = None\n",
    "fourier_mode = None\n",
    "fourier_real = None\n",
    "fourier_normalize = None\n",
    "fourier_fillna = None\n"
   ]
  },
  {
   "cell_type": "code",
   "execution_count": 4,
   "metadata": {
    "execution": {
     "iopub.execute_input": "2020-07-09T18:44:42.880127Z",
     "iopub.status.busy": "2020-07-09T18:44:42.879711Z",
     "iopub.status.idle": "2020-07-09T18:44:48.257397Z",
     "shell.execute_reply": "2020-07-09T18:44:48.257080Z"
    },
    "papermill": {
     "duration": 5.398604,
     "end_time": "2020-07-09T18:44:48.257448",
     "exception": false,
     "start_time": "2020-07-09T18:44:42.858844",
     "status": "completed"
    },
    "tags": []
   },
   "outputs": [
    {
     "name": "stdout",
     "output_type": "stream",
     "text": [
      "Info on all data: \n",
      "\n",
      "<class 'pandas.core.frame.DataFrame'>\n",
      "Int64Index: 656100 entries, 0 to 656099\n",
      "Columns: 108 entries, id to feat99\n",
      "dtypes: float64(103), int32(3), object(2)\n",
      "memory usage: 538.1+ MB\n",
      "CPU times: user 5.03 s, sys: 324 ms, total: 5.35 s\n",
      "Wall time: 5.35 s\n"
     ]
    },
    {
     "data": {
      "text/html": [
       "<div>\n",
       "<style scoped>\n",
       "    .dataframe tbody tr th:only-of-type {\n",
       "        vertical-align: middle;\n",
       "    }\n",
       "\n",
       "    .dataframe tbody tr th {\n",
       "        vertical-align: top;\n",
       "    }\n",
       "\n",
       "    .dataframe thead th {\n",
       "        text-align: right;\n",
       "    }\n",
       "</style>\n",
       "<table border=\"1\" class=\"dataframe\">\n",
       "  <thead>\n",
       "    <tr style=\"text-align: right;\">\n",
       "      <th></th>\n",
       "      <th>id</th>\n",
       "      <th>path</th>\n",
       "      <th>t1</th>\n",
       "      <th>t2</th>\n",
       "      <th>winding</th>\n",
       "      <th>phase</th>\n",
       "      <th>pred_phase</th>\n",
       "      <th>type_of</th>\n",
       "      <th>feat0</th>\n",
       "      <th>feat1</th>\n",
       "      <th>...</th>\n",
       "      <th>feat90</th>\n",
       "      <th>feat91</th>\n",
       "      <th>feat92</th>\n",
       "      <th>feat93</th>\n",
       "      <th>feat94</th>\n",
       "      <th>feat95</th>\n",
       "      <th>feat96</th>\n",
       "      <th>feat97</th>\n",
       "      <th>feat98</th>\n",
       "      <th>feat99</th>\n",
       "    </tr>\n",
       "  </thead>\n",
       "  <tbody>\n",
       "    <tr>\n",
       "      <th>0</th>\n",
       "      <td>0</td>\n",
       "      <td>H_-2_-2_0.501338.dat</td>\n",
       "      <td>-2.0</td>\n",
       "      <td>-2.0</td>\n",
       "      <td>0.501338</td>\n",
       "      <td>999</td>\n",
       "      <td>666</td>\n",
       "      <td>test</td>\n",
       "      <td>-0.130965</td>\n",
       "      <td>0.301130</td>\n",
       "      <td>...</td>\n",
       "      <td>-0.080279</td>\n",
       "      <td>-0.115687</td>\n",
       "      <td>-0.174988</td>\n",
       "      <td>0.245064</td>\n",
       "      <td>0.319763</td>\n",
       "      <td>-0.059082</td>\n",
       "      <td>-0.000556</td>\n",
       "      <td>-0.245133</td>\n",
       "      <td>-0.301130</td>\n",
       "      <td>0.130965</td>\n",
       "    </tr>\n",
       "    <tr>\n",
       "      <th>1</th>\n",
       "      <td>0</td>\n",
       "      <td>H_-2_-2_0.501338.dat</td>\n",
       "      <td>-2.0</td>\n",
       "      <td>-2.0</td>\n",
       "      <td>0.501338</td>\n",
       "      <td>999</td>\n",
       "      <td>666</td>\n",
       "      <td>test</td>\n",
       "      <td>-0.130965</td>\n",
       "      <td>-0.301130</td>\n",
       "      <td>...</td>\n",
       "      <td>-0.080279</td>\n",
       "      <td>0.115687</td>\n",
       "      <td>-0.174988</td>\n",
       "      <td>-0.245064</td>\n",
       "      <td>0.319763</td>\n",
       "      <td>0.059082</td>\n",
       "      <td>-0.000556</td>\n",
       "      <td>0.245133</td>\n",
       "      <td>-0.301130</td>\n",
       "      <td>-0.130965</td>\n",
       "    </tr>\n",
       "    <tr>\n",
       "      <th>2</th>\n",
       "      <td>0</td>\n",
       "      <td>H_-2_-2_0.501338.dat</td>\n",
       "      <td>-2.0</td>\n",
       "      <td>-2.0</td>\n",
       "      <td>0.501338</td>\n",
       "      <td>999</td>\n",
       "      <td>666</td>\n",
       "      <td>test</td>\n",
       "      <td>-0.148414</td>\n",
       "      <td>-0.042467</td>\n",
       "      <td>...</td>\n",
       "      <td>0.185442</td>\n",
       "      <td>-0.080620</td>\n",
       "      <td>-0.066211</td>\n",
       "      <td>-0.121339</td>\n",
       "      <td>-0.151700</td>\n",
       "      <td>0.192513</td>\n",
       "      <td>0.191642</td>\n",
       "      <td>-0.050956</td>\n",
       "      <td>-0.042467</td>\n",
       "      <td>-0.148414</td>\n",
       "    </tr>\n",
       "    <tr>\n",
       "      <th>3</th>\n",
       "      <td>0</td>\n",
       "      <td>H_-2_-2_0.501338.dat</td>\n",
       "      <td>-2.0</td>\n",
       "      <td>-2.0</td>\n",
       "      <td>0.501338</td>\n",
       "      <td>999</td>\n",
       "      <td>666</td>\n",
       "      <td>test</td>\n",
       "      <td>-0.069630</td>\n",
       "      <td>-0.026147</td>\n",
       "      <td>...</td>\n",
       "      <td>0.102009</td>\n",
       "      <td>-0.100671</td>\n",
       "      <td>-0.081002</td>\n",
       "      <td>-0.020715</td>\n",
       "      <td>-0.058717</td>\n",
       "      <td>0.115834</td>\n",
       "      <td>0.118274</td>\n",
       "      <td>-0.054666</td>\n",
       "      <td>-0.026147</td>\n",
       "      <td>-0.069630</td>\n",
       "    </tr>\n",
       "    <tr>\n",
       "      <th>4</th>\n",
       "      <td>0</td>\n",
       "      <td>H_-2_-2_0.501338.dat</td>\n",
       "      <td>-2.0</td>\n",
       "      <td>-2.0</td>\n",
       "      <td>0.501338</td>\n",
       "      <td>999</td>\n",
       "      <td>666</td>\n",
       "      <td>test</td>\n",
       "      <td>0.010206</td>\n",
       "      <td>-0.014625</td>\n",
       "      <td>...</td>\n",
       "      <td>0.047555</td>\n",
       "      <td>-0.041368</td>\n",
       "      <td>-0.018852</td>\n",
       "      <td>-0.017673</td>\n",
       "      <td>-0.023377</td>\n",
       "      <td>0.031447</td>\n",
       "      <td>0.010280</td>\n",
       "      <td>0.000925</td>\n",
       "      <td>0.014625</td>\n",
       "      <td>-0.010206</td>\n",
       "    </tr>\n",
       "  </tbody>\n",
       "</table>\n",
       "<p>5 rows × 108 columns</p>\n",
       "</div>"
      ],
      "text/plain": [
       "   id                  path   t1   t2   winding  phase  pred_phase type_of  \\\n",
       "0   0  H_-2_-2_0.501338.dat -2.0 -2.0  0.501338    999         666    test   \n",
       "1   0  H_-2_-2_0.501338.dat -2.0 -2.0  0.501338    999         666    test   \n",
       "2   0  H_-2_-2_0.501338.dat -2.0 -2.0  0.501338    999         666    test   \n",
       "3   0  H_-2_-2_0.501338.dat -2.0 -2.0  0.501338    999         666    test   \n",
       "4   0  H_-2_-2_0.501338.dat -2.0 -2.0  0.501338    999         666    test   \n",
       "\n",
       "      feat0     feat1  ...    feat90    feat91    feat92    feat93    feat94  \\\n",
       "0 -0.130965  0.301130  ... -0.080279 -0.115687 -0.174988  0.245064  0.319763   \n",
       "1 -0.130965 -0.301130  ... -0.080279  0.115687 -0.174988 -0.245064  0.319763   \n",
       "2 -0.148414 -0.042467  ...  0.185442 -0.080620 -0.066211 -0.121339 -0.151700   \n",
       "3 -0.069630 -0.026147  ...  0.102009 -0.100671 -0.081002 -0.020715 -0.058717   \n",
       "4  0.010206 -0.014625  ...  0.047555 -0.041368 -0.018852 -0.017673 -0.023377   \n",
       "\n",
       "     feat95    feat96    feat97    feat98    feat99  \n",
       "0 -0.059082 -0.000556 -0.245133 -0.301130  0.130965  \n",
       "1  0.059082 -0.000556  0.245133 -0.301130 -0.130965  \n",
       "2  0.192513  0.191642 -0.050956 -0.042467 -0.148414  \n",
       "3  0.115834  0.118274 -0.054666 -0.026147 -0.069630  \n",
       "4  0.031447  0.010280  0.000925  0.014625 -0.010206  \n",
       "\n",
       "[5 rows x 108 columns]"
      ]
     },
     "execution_count": 4,
     "metadata": {},
     "output_type": "execute_result"
    }
   ],
   "source": [
    "%%time\n",
    "#Starting an instance of Simulation with a decision tree\n",
    "model = DecisionTreeClassifier(criterion=\"entropy\")\n",
    "#dict_args = {\"csv_path\":csv_path, \"model\":model, \"allowed_windings\":allowed_windings,\\\n",
    "#             \"simulation_dir\":simulation_dir, \"val_split\":val_split, \"features_to_use\":features_to_use,\\\n",
    "#            \"shuffle_features\":shuffle_features, \"random_state\":random_state}\n",
    "simulation = Simulation(csv_path,model_name,model_kw,allowed_windings,simulation_dir,val_split,features_to_use,\\\n",
    "                       shuffle_features,fourier_mode,fourier_features_to_use,fourier_real,\\\n",
    "                       fourier_normalize, fourier_fillna , random_state)\n",
    "#simulation = Simulation(**dict_args)\n",
    "\n",
    "\n",
    "#(self, csv_path, model_name, model_kw, allowed_windings, simulation_dir = None, val_split = 0, \n",
    "# features_to_use = None, shuffle_features = False, fourier_mode=None, fourier_features_to_use=None,\n",
    "# fourier_real = False, fourier_normalize = False, Fourier_fillna=False, random_state = None):\n",
    "\n",
    "\n",
    "\n",
    "print(\"Info on all data: \\n\")\n",
    "simulation.dataframe.info()\n",
    "simulation.dataframe.head()"
   ]
  },
  {
   "cell_type": "markdown",
   "metadata": {
    "papermill": {
     "duration": 0.03812,
     "end_time": "2020-07-09T18:44:48.313450",
     "exception": false,
     "start_time": "2020-07-09T18:44:48.275330",
     "status": "completed"
    },
    "tags": []
   },
   "source": [
    "####  Fourier features"
   ]
  },
  {
   "cell_type": "code",
   "execution_count": 5,
   "metadata": {
    "execution": {
     "iopub.execute_input": "2020-07-09T18:44:48.394479Z",
     "iopub.status.busy": "2020-07-09T18:44:48.393974Z",
     "iopub.status.idle": "2020-07-09T18:44:48.404406Z",
     "shell.execute_reply": "2020-07-09T18:44:48.404712Z"
    },
    "papermill": {
     "duration": 0.034536,
     "end_time": "2020-07-09T18:44:48.404777",
     "exception": false,
     "start_time": "2020-07-09T18:44:48.370241",
     "status": "completed"
    },
    "tags": []
   },
   "outputs": [
    {
     "name": "stdout",
     "output_type": "stream",
     "text": [
      "CPU times: user 2 µs, sys: 0 ns, total: 2 µs\n",
      "Wall time: 3.81 µs\n"
     ]
    }
   ],
   "source": [
    "%%time\n",
    "#simulation.generate_fourier_df()\n",
    "if simulation.fourier_mode is not None:\n",
    "    simulation.fourier_dataframe.info() \n",
    "    simulation.fourier_dataframe.sample(15)\n"
   ]
  },
  {
   "cell_type": "code",
   "execution_count": 6,
   "metadata": {
    "execution": {
     "iopub.execute_input": "2020-07-09T18:44:48.440840Z",
     "iopub.status.busy": "2020-07-09T18:44:48.440286Z",
     "iopub.status.idle": "2020-07-09T18:44:48.505940Z",
     "shell.execute_reply": "2020-07-09T18:44:48.506329Z"
    },
    "papermill": {
     "duration": 0.084864,
     "end_time": "2020-07-09T18:44:48.506422",
     "exception": false,
     "start_time": "2020-07-09T18:44:48.421558",
     "status": "completed"
    },
    "tags": []
   },
   "outputs": [
    {
     "name": "stdout",
     "output_type": "stream",
     "text": [
      "features_to_use: \n",
      "\n",
      "\n",
      "[0, 1, 2, 3, 4, 5, 6, 7, 8, 9, 10, 11, 12, 13, 14, 40, 42, 43, 44, 45, 46, 47, 48, 49, 50]\n",
      "Number of real space features:\n",
      "\n",
      "\n",
      "25\n",
      "\n",
      "\n",
      "fourier_features: \n",
      "\n",
      "\n",
      "None\n",
      "\n",
      "\n"
     ]
    }
   ],
   "source": [
    "print(\"features_to_use: \")\n",
    "print(\"\\n\")\n",
    "print(simulation.features_to_use)\n",
    "if simulation.features_to_use is not None:\n",
    "    print(\"Number of real space features:\")\n",
    "    print(\"\\n\")\n",
    "    print(len(simulation.features_to_use))\n",
    "print(\"\\n\")\n",
    "print(\"fourier_features: \")\n",
    "print(\"\\n\")\n",
    "print(simulation.fourier_features)\n",
    "print(\"\\n\")\n",
    "if simulation.fourier_features is not None:\n",
    "    print(\"Number of Fourier features: \")\n",
    "    print(\"\\n\")\n",
    "    print(len(simulation.fourier_features))"
   ]
  },
  {
   "cell_type": "code",
   "execution_count": 7,
   "metadata": {
    "execution": {
     "iopub.execute_input": "2020-07-09T18:44:48.544838Z",
     "iopub.status.busy": "2020-07-09T18:44:48.544515Z",
     "iopub.status.idle": "2020-07-09T18:44:48.596659Z",
     "shell.execute_reply": "2020-07-09T18:44:48.597064Z"
    },
    "papermill": {
     "duration": 0.071243,
     "end_time": "2020-07-09T18:44:48.597183",
     "exception": false,
     "start_time": "2020-07-09T18:44:48.525940",
     "status": "completed"
    },
    "tags": []
   },
   "outputs": [],
   "source": [
    "#simulation.dataframe.iloc[331456,:]"
   ]
  },
  {
   "cell_type": "code",
   "execution_count": 8,
   "metadata": {
    "execution": {
     "iopub.execute_input": "2020-07-09T18:44:48.652572Z",
     "iopub.status.busy": "2020-07-09T18:44:48.652245Z",
     "iopub.status.idle": "2020-07-09T18:44:48.662940Z",
     "shell.execute_reply": "2020-07-09T18:44:48.662584Z"
    },
    "papermill": {
     "duration": 0.03392,
     "end_time": "2020-07-09T18:44:48.662996",
     "exception": false,
     "start_time": "2020-07-09T18:44:48.629076",
     "status": "completed"
    },
    "tags": []
   },
   "outputs": [],
   "source": [
    "#for ix, obj in enumerate(simulation.dataframe.iloc[331456,:].values):\n",
    "#    print(ix,obj)"
   ]
  },
  {
   "cell_type": "code",
   "execution_count": 9,
   "metadata": {
    "execution": {
     "iopub.execute_input": "2020-07-09T18:44:48.697408Z",
     "iopub.status.busy": "2020-07-09T18:44:48.697074Z",
     "iopub.status.idle": "2020-07-09T18:44:48.764714Z",
     "shell.execute_reply": "2020-07-09T18:44:48.763947Z"
    },
    "papermill": {
     "duration": 0.085646,
     "end_time": "2020-07-09T18:44:48.764819",
     "exception": false,
     "start_time": "2020-07-09T18:44:48.679173",
     "status": "completed"
    },
    "tags": []
   },
   "outputs": [],
   "source": [
    "#simulation.fourier_engineered_dataframe.dct_feat0"
   ]
  },
  {
   "cell_type": "code",
   "execution_count": 10,
   "metadata": {
    "execution": {
     "iopub.execute_input": "2020-07-09T18:44:48.827778Z",
     "iopub.status.busy": "2020-07-09T18:44:48.827425Z",
     "iopub.status.idle": "2020-07-09T18:44:48.837750Z",
     "shell.execute_reply": "2020-07-09T18:44:48.837404Z"
    },
    "papermill": {
     "duration": 0.032275,
     "end_time": "2020-07-09T18:44:48.837804",
     "exception": false,
     "start_time": "2020-07-09T18:44:48.805529",
     "status": "completed"
    },
    "tags": []
   },
   "outputs": [],
   "source": [
    "#simulation.features"
   ]
  },
  {
   "cell_type": "code",
   "execution_count": 11,
   "metadata": {
    "execution": {
     "iopub.execute_input": "2020-07-09T18:44:48.872863Z",
     "iopub.status.busy": "2020-07-09T18:44:48.872558Z",
     "iopub.status.idle": "2020-07-09T18:44:48.946471Z",
     "shell.execute_reply": "2020-07-09T18:44:48.944700Z"
    },
    "papermill": {
     "duration": 0.092335,
     "end_time": "2020-07-09T18:44:48.946721",
     "exception": false,
     "start_time": "2020-07-09T18:44:48.854386",
     "status": "completed"
    },
    "tags": []
   },
   "outputs": [],
   "source": [
    "#simulation.fourier_matrix"
   ]
  },
  {
   "cell_type": "code",
   "execution_count": 12,
   "metadata": {
    "execution": {
     "iopub.execute_input": "2020-07-09T18:44:49.021609Z",
     "iopub.status.busy": "2020-07-09T18:44:49.021302Z",
     "iopub.status.idle": "2020-07-09T18:44:49.032096Z",
     "shell.execute_reply": "2020-07-09T18:44:49.031753Z"
    },
    "papermill": {
     "duration": 0.032046,
     "end_time": "2020-07-09T18:44:49.032150",
     "exception": false,
     "start_time": "2020-07-09T18:44:49.000104",
     "status": "completed"
    },
    "tags": []
   },
   "outputs": [],
   "source": [
    "#1/simulation.n_features*simulation.dataframe.loc[:,simulation.features].sum(axis=1)"
   ]
  },
  {
   "cell_type": "code",
   "execution_count": 13,
   "metadata": {
    "execution": {
     "iopub.execute_input": "2020-07-09T18:44:49.066984Z",
     "iopub.status.busy": "2020-07-09T18:44:49.066680Z",
     "iopub.status.idle": "2020-07-09T18:44:49.130947Z",
     "shell.execute_reply": "2020-07-09T18:44:49.130425Z"
    },
    "papermill": {
     "duration": 0.082401,
     "end_time": "2020-07-09T18:44:49.131024",
     "exception": false,
     "start_time": "2020-07-09T18:44:49.048623",
     "status": "completed"
    },
    "tags": []
   },
   "outputs": [],
   "source": [
    "#df_2 = simulation.fourier_engineered_dataframe[simulation.fourier_engineered_dataframe.phase==2]\n",
    "#df_2.describe()"
   ]
  },
  {
   "cell_type": "code",
   "execution_count": 14,
   "metadata": {
    "execution": {
     "iopub.execute_input": "2020-07-09T18:44:49.174803Z",
     "iopub.status.busy": "2020-07-09T18:44:49.174455Z",
     "iopub.status.idle": "2020-07-09T18:44:49.595550Z",
     "shell.execute_reply": "2020-07-09T18:44:49.593776Z"
    },
    "papermill": {
     "duration": 0.440287,
     "end_time": "2020-07-09T18:44:49.595802",
     "exception": false,
     "start_time": "2020-07-09T18:44:49.155515",
     "status": "completed"
    },
    "tags": []
   },
   "outputs": [],
   "source": [
    "#df_1 = simulation.fourier_engineered_dataframe[simulation.fourier_engineered_dataframe.phase==1]\n",
    "#df_1.describe()"
   ]
  },
  {
   "cell_type": "code",
   "execution_count": 15,
   "metadata": {
    "execution": {
     "iopub.execute_input": "2020-07-09T18:44:49.669539Z",
     "iopub.status.busy": "2020-07-09T18:44:49.669229Z",
     "iopub.status.idle": "2020-07-09T18:44:49.678638Z",
     "shell.execute_reply": "2020-07-09T18:44:49.678956Z"
    },
    "papermill": {
     "duration": 0.030678,
     "end_time": "2020-07-09T18:44:49.679025",
     "exception": false,
     "start_time": "2020-07-09T18:44:49.648347",
     "status": "completed"
    },
    "tags": []
   },
   "outputs": [],
   "source": [
    "#df_0 = simulation.fourier_engineered_dataframe[simulation.fourier_engineered_dataframe.phase==0]\n",
    "#df_0.describe()"
   ]
  },
  {
   "cell_type": "code",
   "execution_count": 16,
   "metadata": {
    "execution": {
     "iopub.execute_input": "2020-07-09T18:44:49.715809Z",
     "iopub.status.busy": "2020-07-09T18:44:49.715491Z",
     "iopub.status.idle": "2020-07-09T18:44:49.777292Z",
     "shell.execute_reply": "2020-07-09T18:44:49.778982Z"
    },
    "papermill": {
     "duration": 0.082802,
     "end_time": "2020-07-09T18:44:49.779290",
     "exception": false,
     "start_time": "2020-07-09T18:44:49.696488",
     "status": "completed"
    },
    "tags": []
   },
   "outputs": [],
   "source": [
    "#plt.figure(figsize=(10,10))\n",
    "#plt.scatter(df_1.fourier_feat0,df_1.fourier_feat2)\n",
    "#plt.scatter(df_0.fourier_feat0,df_0.fourier_feat2,alpha=0.4)"
   ]
  },
  {
   "cell_type": "code",
   "execution_count": 17,
   "metadata": {
    "execution": {
     "iopub.execute_input": "2020-07-09T18:44:49.851721Z",
     "iopub.status.busy": "2020-07-09T18:44:49.851188Z",
     "iopub.status.idle": "2020-07-09T18:44:49.861386Z",
     "shell.execute_reply": "2020-07-09T18:44:49.861039Z"
    },
    "papermill": {
     "duration": 0.03077,
     "end_time": "2020-07-09T18:44:49.861440",
     "exception": false,
     "start_time": "2020-07-09T18:44:49.830670",
     "status": "completed"
    },
    "tags": []
   },
   "outputs": [],
   "source": [
    "#plt.scatter(df_0.fourier_feat0,df_0.fourier_feat2,alpha=0.4)"
   ]
  },
  {
   "cell_type": "code",
   "execution_count": 18,
   "metadata": {
    "execution": {
     "iopub.execute_input": "2020-07-09T18:44:49.897169Z",
     "iopub.status.busy": "2020-07-09T18:44:49.896659Z",
     "iopub.status.idle": "2020-07-09T18:44:49.929008Z",
     "shell.execute_reply": "2020-07-09T18:44:49.929349Z"
    },
    "papermill": {
     "duration": 0.051287,
     "end_time": "2020-07-09T18:44:49.929423",
     "exception": false,
     "start_time": "2020-07-09T18:44:49.878136",
     "status": "completed"
    },
    "tags": []
   },
   "outputs": [],
   "source": [
    "#plt.scatter(df_2.fourier_feat0,df_2.fourier_feat2)"
   ]
  },
  {
   "cell_type": "code",
   "execution_count": 19,
   "metadata": {
    "execution": {
     "iopub.execute_input": "2020-07-09T18:44:49.965922Z",
     "iopub.status.busy": "2020-07-09T18:44:49.965617Z",
     "iopub.status.idle": "2020-07-09T18:44:50.038307Z",
     "shell.execute_reply": "2020-07-09T18:44:50.036554Z"
    },
    "papermill": {
     "duration": 0.091839,
     "end_time": "2020-07-09T18:44:50.038556",
     "exception": false,
     "start_time": "2020-07-09T18:44:49.946717",
     "status": "completed"
    },
    "tags": []
   },
   "outputs": [],
   "source": [
    "#df_1.hist(figsize=(15,15))"
   ]
  },
  {
   "cell_type": "code",
   "execution_count": 20,
   "metadata": {
    "execution": {
     "iopub.execute_input": "2020-07-09T18:44:50.109868Z",
     "iopub.status.busy": "2020-07-09T18:44:50.109562Z",
     "iopub.status.idle": "2020-07-09T18:44:50.119592Z",
     "shell.execute_reply": "2020-07-09T18:44:50.119253Z"
    },
    "papermill": {
     "duration": 0.030802,
     "end_time": "2020-07-09T18:44:50.119644",
     "exception": false,
     "start_time": "2020-07-09T18:44:50.088842",
     "status": "completed"
    },
    "tags": []
   },
   "outputs": [],
   "source": [
    "#df_0.hist(figsize=(15,15))"
   ]
  },
  {
   "cell_type": "markdown",
   "metadata": {
    "papermill": {
     "duration": 0.016882,
     "end_time": "2020-07-09T18:44:50.153682",
     "exception": false,
     "start_time": "2020-07-09T18:44:50.136800",
     "status": "completed"
    },
    "tags": []
   },
   "source": [
    "#### Checking initialization"
   ]
  },
  {
   "cell_type": "code",
   "execution_count": 21,
   "metadata": {
    "execution": {
     "iopub.execute_input": "2020-07-09T18:44:50.189213Z",
     "iopub.status.busy": "2020-07-09T18:44:50.188902Z",
     "iopub.status.idle": "2020-07-09T18:44:50.248313Z",
     "shell.execute_reply": "2020-07-09T18:44:50.250147Z"
    },
    "papermill": {
     "duration": 0.080267,
     "end_time": "2020-07-09T18:44:50.250454",
     "exception": false,
     "start_time": "2020-07-09T18:44:50.170187",
     "status": "completed"
    },
    "tags": []
   },
   "outputs": [
    {
     "name": "stdout",
     "output_type": "stream",
     "text": [
      "n_features:  100\n",
      "n_hamiltonians:  6561\n",
      "n_ts:  2\n",
      "CPU times: user 1.27 ms, sys: 134 µs, total: 1.4 ms\n",
      "Wall time: 736 µs\n"
     ]
    }
   ],
   "source": [
    "%%time\n",
    "n_features = simulation.n_features\n",
    "n_hamiltonians = simulation.n_hamiltonians\n",
    "n_ts = simulation.n_ts\n",
    "\n",
    "print(\"n_features: \", n_features)\n",
    "print(\"n_hamiltonians: \", n_hamiltonians)\n",
    "print(\"n_ts: \", n_ts)"
   ]
  },
  {
   "cell_type": "code",
   "execution_count": 22,
   "metadata": {
    "execution": {
     "iopub.execute_input": "2020-07-09T18:44:50.322924Z",
     "iopub.status.busy": "2020-07-09T18:44:50.322604Z",
     "iopub.status.idle": "2020-07-09T18:44:50.505441Z",
     "shell.execute_reply": "2020-07-09T18:44:50.505169Z"
    },
    "papermill": {
     "duration": 0.20431,
     "end_time": "2020-07-09T18:44:50.505493",
     "exception": false,
     "start_time": "2020-07-09T18:44:50.301183",
     "status": "completed"
    },
    "tags": []
   },
   "outputs": [
    {
     "name": "stdout",
     "output_type": "stream",
     "text": [
      "% train:  0.8414875781130925\n",
      "% val:  0.0\n",
      "% test:  0.15851242188690748\n",
      "% train + val + test:  1.0\n",
      "\n",
      "\n",
      "number of train hamiltonians:  5521\n",
      "number of val hamiltonians:  0\n",
      "number of test hamiltonians:  1040\n",
      "total number of hamiltonians:  6561\n",
      "\n",
      "\n",
      "train ids:  [13, 14, 15, 16, 17, 18, 19, 20, 21, 22, 23, 24, 25, 26, 27, 28, 29, 30, 31, 32, 33, 34, 35, 36, 37, 38, 39, 41, 42, 43, 44, 45, 46, 47, 48, 49, 50, 51, 52, 53, 54, 55, 56, 57, 58, 59, 60, 61, 62, 63, 64, 65, 66, 67, 68, 69, 70, 71, 72, 73, 74, 75, 76, 77, 78, 79, 80, 95, 96, 97, 98, 99, 100, 101, 102, 103, 104, 105, 106, 107, 108, 109, 110, 111, 112, 113, 114, 115, 116, 117, 118, 119, 121, 122, 123, 124, 125, 126, 127, 128, 129, 130, 131, 132, 133, 134, 135, 136, 137, 138, 139, 140, 141, 142, 143, 144, 145, 146, 147, 148, 149, 150, 151, 152, 153, 154, 155, 156, 157, 158, 159, 160, 161, 176, 177, 178, 179, 180, 181, 182, 183, 184, 185, 186, 187, 188, 189, 190, 191, 192, 193, 194, 195, 196, 197, 198, 199, 201, 202, 203, 204, 205, 206, 207, 208, 209, 210, 211, 212, 213, 214, 215, 216, 217, 218, 219, 220, 221, 222, 223, 224, 225, 226, 227, 228, 229, 230, 231, 232, 233, 234, 235, 236, 237, 238, 239, 240, 241, 242, 258, 259, 260, 261, 262, 263, 264, 265, 266, 267, 268, 269, 270, 271, 272, 273, 274, 275, 276, 277, 278, 279, 281, 282, 283, 284, 285, 286, 287, 288, 289, 290, 291, 292, 293, 294, 295, 296, 297, 298, 299, 300, 301, 302, 303, 304, 305, 306, 307, 308, 309, 310, 311, 312, 313, 314, 315, 316, 317, 318, 319, 320, 321, 322, 323, 340, 341, 342, 343, 344, 345, 346, 347, 348, 349, 350, 351, 352, 353, 354, 355, 356, 357, 358, 359, 361, 362, 363, 364, 365, 366, 367, 368, 369, 370, 371, 372, 373, 374, 375, 376, 377, 378, 379, 380, 381, 382, 383, 384, 385, 386, 387, 388, 389, 390, 391, 392, 393, 394, 395, 396, 397, 398, 399, 400, 401, 402, 403, 404, 422, 423, 424, 425, 426, 427, 428, 429, 430, 431, 432, 433, 434, 435, 436, 437, 438, 439, 441, 442, 443, 444, 445, 446, 447, 448, 449, 450, 451, 452, 453, 454, 455, 456, 457, 458, 459, 460, 461, 462, 463, 464, 465, 466, 467, 468, 469, 470, 471, 472, 473, 474, 475, 476, 477, 478, 479, 480, 481, 482, 483, 484, 485, 503, 504, 505, 506, 507, 508, 509, 510, 511, 512, 513, 514, 515, 516, 517, 518, 519, 521, 522, 523, 524, 525, 526, 527, 528, 529, 530, 531, 532, 533, 534, 535, 536, 537, 538, 539, 540, 541, 542, 543, 544, 545, 546, 547, 548, 549, 550, 551, 552, 553, 554, 555, 556, 557, 558, 559, 560, 561, 562, 563, 564, 565, 566, 585, 586, 587, 588, 589, 590, 591, 592, 593, 594, 595, 596, 597, 598, 599, 601, 602, 603, 604, 605, 606, 607, 608, 609, 610, 611, 612, 613, 614, 615, 616, 617, 618, 619, 620, 621, 622, 623, 624, 625, 626, 627, 628, 629, 630, 631, 632, 633, 634, 635, 636, 637, 638, 639, 640, 641, 642, 643, 644, 645, 646, 647, 667, 668, 669, 670, 671, 672, 673, 674, 675, 676, 677, 678, 679, 681, 682, 683, 684, 685, 686, 687, 688, 689, 690, 691, 692, 693, 694, 695, 696, 697, 698, 699, 700, 701, 702, 703, 704, 705, 706, 707, 708, 709, 710, 711, 712, 713, 714, 715, 716, 717, 718, 719, 720, 721, 722, 723, 724, 725, 726, 727, 728, 749, 750, 751, 752, 753, 754, 755, 756, 757, 758, 759, 761, 762, 763, 764, 765, 766, 767, 768, 769, 770, 771, 772, 773, 774, 775, 776, 777, 778, 779, 780, 781, 782, 783, 784, 785, 786, 787, 788, 789, 790, 791, 792, 793, 794, 795, 796, 797, 798, 799, 800, 801, 802, 803, 804, 805, 806, 807, 808, 809, 830, 831, 832, 833, 834, 835, 836, 837, 838, 839, 841, 842, 843, 844, 845, 846, 847, 848, 849, 850, 851, 852, 853, 854, 855, 856, 857, 858, 859, 860, 861, 862, 863, 864, 865, 866, 867, 868, 869, 870, 871, 872, 873, 874, 875, 876, 877, 878, 879, 880, 881, 882, 883, 884, 885, 886, 887, 888, 889, 890, 912, 913, 914, 915, 916, 917, 918, 919, 921, 922, 923, 924, 925, 926, 927, 928, 929, 930, 931, 932, 933, 934, 935, 936, 937, 938, 939, 940, 941, 942, 943, 944, 945, 946, 947, 948, 949, 950, 951, 952, 953, 954, 955, 956, 957, 958, 959, 960, 961, 962, 963, 964, 965, 966, 967, 968, 969, 970, 971, 994, 995, 996, 997, 998, 999, 1001, 1002, 1003, 1004, 1005, 1006, 1007, 1008, 1009, 1010, 1011, 1012, 1013, 1014, 1015, 1016, 1017, 1018, 1019, 1020, 1021, 1022, 1023, 1024, 1025, 1026, 1027, 1028, 1029, 1030, 1031, 1032, 1033, 1034, 1035, 1036, 1037, 1038, 1039, 1040, 1041, 1042, 1043, 1044, 1045, 1046, 1047, 1048, 1049, 1050, 1051, 1052, 1076, 1077, 1078, 1079, 1081, 1082, 1083, 1084, 1085, 1086, 1087, 1088, 1089, 1090, 1091, 1092, 1093, 1094, 1095, 1096, 1097, 1098, 1099, 1100, 1101, 1102, 1103, 1104, 1105, 1106, 1107, 1108, 1109, 1110, 1111, 1112, 1113, 1114, 1115, 1116, 1117, 1118, 1119, 1120, 1121, 1122, 1123, 1124, 1125, 1126, 1127, 1128, 1129, 1130, 1131, 1132, 1133, 1134, 1157, 1158, 1159, 1161, 1162, 1163, 1164, 1165, 1166, 1167, 1168, 1169, 1170, 1171, 1172, 1173, 1174, 1175, 1176, 1177, 1178, 1179, 1180, 1181, 1182, 1183, 1184, 1185, 1186, 1187, 1188, 1189, 1190, 1191, 1192, 1193, 1194, 1195, 1196, 1197, 1198, 1199, 1200, 1201, 1202, 1203, 1204, 1205, 1206, 1207, 1208, 1209, 1210, 1211, 1212, 1213, 1214, 1215, 1216, 1239, 1241, 1242, 1243, 1244, 1245, 1246, 1247, 1248, 1249, 1250, 1251, 1252, 1253, 1254, 1255, 1256, 1257, 1258, 1259, 1260, 1261, 1262, 1263, 1264, 1265, 1266, 1267, 1268, 1269, 1270, 1271, 1272, 1273, 1274, 1275, 1276, 1277, 1278, 1279, 1280, 1281, 1282, 1283, 1284, 1285, 1286, 1287, 1288, 1289, 1290, 1291, 1292, 1293, 1294, 1295, 1296, 1297, 1298, 1299, 1321, 1322, 1323, 1324, 1325, 1326, 1327, 1328, 1329, 1330, 1331, 1332, 1333, 1334, 1335, 1336, 1337, 1338, 1339, 1340, 1341, 1342, 1343, 1344, 1345, 1346, 1347, 1348, 1349, 1350, 1351, 1352, 1353, 1354, 1355, 1356, 1357, 1358, 1359, 1360, 1361, 1362, 1363, 1364, 1365, 1366, 1367, 1368, 1369, 1370, 1371, 1372, 1373, 1374, 1375, 1376, 1377, 1378, 1379, 1380, 1381, 1402, 1403, 1404, 1405, 1406, 1407, 1408, 1409, 1410, 1411, 1412, 1413, 1414, 1415, 1416, 1417, 1418, 1419, 1420, 1421, 1422, 1423, 1424, 1425, 1426, 1427, 1428, 1429, 1430, 1431, 1432, 1433, 1434, 1435, 1436, 1437, 1438, 1439, 1440, 1441, 1442, 1443, 1444, 1445, 1446, 1447, 1448, 1449, 1450, 1451, 1452, 1453, 1454, 1455, 1456, 1457, 1458, 1459, 1460, 1461, 1462, 1463, 1464, 1484, 1485, 1486, 1487, 1488, 1489, 1490, 1491, 1492, 1493, 1494, 1495, 1496, 1497, 1498, 1499, 1500, 1501, 1502, 1503, 1504, 1505, 1506, 1507, 1508, 1509, 1510, 1511, 1512, 1513, 1514, 1515, 1516, 1517, 1518, 1519, 1520, 1521, 1522, 1523, 1524, 1525, 1526, 1527, 1528, 1529, 1530, 1531, 1532, 1533, 1534, 1535, 1536, 1537, 1538, 1539, 1540, 1541, 1542, 1543, 1544, 1545, 1546, 1566, 1567, 1568, 1569, 1570, 1571, 1572, 1573, 1574, 1575, 1576, 1577, 1578, 1579, 1580, 1581, 1582, 1583, 1584, 1585, 1586, 1587, 1588, 1589, 1590, 1591, 1592, 1593, 1594, 1595, 1596, 1597, 1598, 1599, 1600, 1601, 1602, 1603, 1604, 1605, 1606, 1607, 1608, 1609, 1610, 1611, 1612, 1613, 1614, 1615, 1616, 1617, 1618, 1619, 1620, 1621, 1622, 1623, 1624, 1625, 1626, 1627, 1628, 1648, 1649, 1650, 1651, 1652, 1653, 1654, 1655, 1656, 1657, 1658, 1659, 1660, 1661, 1662, 1663, 1664, 1665, 1666, 1667, 1668, 1669, 1670, 1671, 1672, 1673, 1674, 1675, 1676, 1677, 1678, 1679, 1680, 1681, 1682, 1683, 1684, 1685, 1686, 1687, 1688, 1689, 1690, 1691, 1692, 1693, 1694, 1695, 1696, 1697, 1698, 1699, 1701, 1702, 1703, 1704, 1705, 1706, 1707, 1708, 1709, 1710, 1711, 1729, 1730, 1731, 1732, 1733, 1734, 1735, 1736, 1737, 1738, 1739, 1740, 1741, 1742, 1743, 1744, 1745, 1746, 1747, 1748, 1749, 1750, 1751, 1752, 1753, 1754, 1755, 1756, 1757, 1758, 1759, 1760, 1761, 1762, 1763, 1764, 1765, 1766, 1767, 1768, 1769, 1770, 1771, 1772, 1773, 1774, 1775, 1776, 1777, 1778, 1779, 1781, 1782, 1783, 1784, 1785, 1786, 1787, 1788, 1789, 1790, 1791, 1792, 1793, 1811, 1812, 1813, 1814, 1815, 1816, 1817, 1818, 1819, 1820, 1821, 1822, 1823, 1824, 1825, 1826, 1827, 1828, 1829, 1830, 1831, 1832, 1833, 1834, 1835, 1836, 1837, 1838, 1839, 1840, 1841, 1842, 1843, 1844, 1845, 1846, 1847, 1848, 1849, 1850, 1851, 1852, 1853, 1854, 1855, 1856, 1857, 1858, 1859, 1861, 1862, 1863, 1864, 1865, 1866, 1867, 1868, 1869, 1870, 1871, 1872, 1873, 1874, 1875, 1876, 1893, 1894, 1895, 1896, 1897, 1898, 1899, 1900, 1901, 1902, 1903, 1904, 1905, 1906, 1907, 1908, 1909, 1910, 1911, 1912, 1913, 1914, 1915, 1916, 1917, 1918, 1919, 1920, 1921, 1922, 1923, 1924, 1925, 1926, 1927, 1928, 1929, 1930, 1931, 1932, 1933, 1934, 1935, 1936, 1937, 1938, 1939, 1941, 1942, 1943, 1944, 1945, 1946, 1947, 1948, 1949, 1950, 1951, 1952, 1953, 1954, 1955, 1956, 1957, 1958, 1975, 1976, 1977, 1978, 1979, 1980, 1981, 1982, 1983, 1984, 1985, 1986, 1987, 1988, 1989, 1990, 1991, 1992, 1993, 1994, 1995, 1996, 1997, 1998, 1999, 2000, 2001, 2002, 2003, 2004, 2005, 2006, 2007, 2008, 2009, 2010, 2011, 2012, 2013, 2014, 2015, 2016, 2017, 2018, 2019, 2021, 2022, 2023, 2024, 2025, 2026, 2027, 2028, 2029, 2030, 2031, 2032, 2033, 2034, 2035, 2036, 2037, 2038, 2039, 2056, 2057, 2058, 2059, 2060, 2061, 2062, 2063, 2064, 2065, 2066, 2067, 2068, 2069, 2070, 2071, 2072, 2073, 2074, 2075, 2076, 2077, 2078, 2079, 2080, 2081, 2082, 2083, 2084, 2085, 2086, 2087, 2088, 2089, 2090, 2091, 2092, 2093, 2094, 2095, 2096, 2097, 2098, 2099, 2101, 2102, 2103, 2104, 2105, 2106, 2107, 2108, 2109, 2110, 2111, 2112, 2113, 2114, 2115, 2116, 2117, 2118, 2119, 2121, 2122, 2123, 2138, 2139, 2140, 2141, 2142, 2143, 2144, 2145, 2146, 2147, 2148, 2149, 2150, 2151, 2152, 2153, 2154, 2155, 2156, 2157, 2158, 2159, 2160, 2161, 2162, 2163, 2164, 2165, 2166, 2167, 2168, 2169, 2170, 2171, 2172, 2173, 2174, 2175, 2176, 2177, 2178, 2179, 2181, 2182, 2183, 2184, 2185, 2186, 2187, 2188, 2189, 2190, 2191, 2192, 2193, 2194, 2195, 2196, 2197, 2198, 2199, 2201, 2202, 2203, 2204, 2205, 2220, 2221, 2222, 2223, 2224, 2225, 2226, 2227, 2228, 2229, 2230, 2231, 2232, 2233, 2234, 2235, 2236, 2237, 2238, 2239, 2240, 2241, 2242, 2243, 2244, 2245, 2246, 2247, 2248, 2249, 2250, 2251, 2252, 2253, 2254, 2255, 2256, 2257, 2258, 2259, 2261, 2262, 2263, 2264, 2265, 2266, 2267, 2268, 2269, 2270, 2271, 2272, 2273, 2274, 2275, 2276, 2277, 2278, 2279, 2281, 2282, 2283, 2284, 2285, 2286, 2287, 2288, 2301, 2302, 2303, 2304, 2305, 2306, 2307, 2308, 2309, 2310, 2311, 2312, 2313, 2314, 2315, 2316, 2317, 2318, 2319, 2320, 2321, 2322, 2323, 2324, 2325, 2326, 2327, 2328, 2329, 2330, 2331, 2332, 2333, 2334, 2335, 2336, 2337, 2338, 2339, 2341, 2342, 2343, 2344, 2345, 2346, 2347, 2348, 2349, 2350, 2351, 2352, 2353, 2354, 2355, 2356, 2357, 2358, 2359, 2361, 2362, 2363, 2364, 2365, 2366, 2367, 2368, 2369, 2370, 2383, 2384, 2385, 2386, 2387, 2388, 2389, 2390, 2391, 2392, 2393, 2394, 2395, 2396, 2397, 2398, 2399, 2400, 2401, 2402, 2403, 2404, 2405, 2406, 2407, 2408, 2409, 2410, 2411, 2412, 2413, 2414, 2415, 2416, 2417, 2418, 2419, 2421, 2422, 2423, 2424, 2425, 2426, 2427, 2428, 2429, 2430, 2431, 2432, 2433, 2434, 2435, 2436, 2437, 2438, 2439, 2441, 2442, 2443, 2444, 2445, 2446, 2447, 2448, 2449, 2450, 2451, 2452, 2453, 2465, 2466, 2467, 2468, 2469, 2470, 2471, 2472, 2473, 2474, 2475, 2476, 2477, 2478, 2479, 2480, 2481, 2482, 2483, 2484, 2485, 2486, 2487, 2488, 2489, 2490, 2491, 2492, 2493, 2494, 2495, 2496, 2497, 2498, 2499, 2501, 2502, 2503, 2504, 2505, 2506, 2507, 2508, 2509, 2510, 2511, 2512, 2513, 2514, 2515, 2516, 2517, 2518, 2519, 2521, 2522, 2523, 2524, 2525, 2526, 2527, 2528, 2529, 2530, 2531, 2532, 2533, 2534, 2535, 2547, 2548, 2549, 2550, 2551, 2552, 2553, 2554, 2555, 2556, 2557, 2558, 2559, 2560, 2561, 2562, 2563, 2564, 2565, 2566, 2567, 2568, 2569, 2570, 2571, 2572, 2573, 2574, 2575, 2576, 2577, 2578, 2579, 2581, 2582, 2583, 2584, 2585, 2586, 2587, 2588, 2589, 2590, 2591, 2592, 2593, 2594, 2595, 2596, 2597, 2598, 2599, 2601, 2602, 2603, 2604, 2605, 2606, 2607, 2608, 2609, 2610, 2611, 2612, 2613, 2614, 2615, 2616, 2617, 2628, 2629, 2630, 2631, 2632, 2633, 2634, 2635, 2636, 2637, 2638, 2639, 2640, 2641, 2642, 2643, 2644, 2645, 2646, 2647, 2648, 2649, 2650, 2651, 2652, 2653, 2654, 2655, 2656, 2657, 2658, 2659, 2661, 2662, 2663, 2664, 2665, 2666, 2667, 2668, 2669, 2670, 2671, 2672, 2673, 2674, 2675, 2676, 2677, 2678, 2679, 2681, 2682, 2683, 2684, 2685, 2686, 2687, 2688, 2689, 2690, 2691, 2692, 2693, 2694, 2695, 2696, 2697, 2698, 2699, 2700, 2710, 2711, 2712, 2713, 2714, 2715, 2716, 2717, 2718, 2719, 2720, 2721, 2722, 2723, 2724, 2725, 2726, 2727, 2728, 2729, 2730, 2731, 2732, 2733, 2734, 2735, 2736, 2737, 2738, 2739, 2741, 2742, 2743, 2744, 2745, 2746, 2747, 2748, 2749, 2750, 2751, 2752, 2753, 2754, 2755, 2756, 2757, 2758, 2759, 2761, 2762, 2763, 2764, 2765, 2766, 2767, 2768, 2769, 2770, 2771, 2772, 2773, 2774, 2775, 2776, 2777, 2778, 2779, 2780, 2781, 2782, 2792, 2793, 2794, 2795, 2796, 2797, 2798, 2799, 2800, 2801, 2802, 2803, 2804, 2805, 2806, 2807, 2808, 2809, 2810, 2811, 2812, 2813, 2814, 2815, 2816, 2817, 2818, 2819, 2821, 2822, 2823, 2824, 2825, 2826, 2827, 2828, 2829, 2830, 2831, 2832, 2833, 2834, 2835, 2836, 2837, 2838, 2839, 2841, 2842, 2843, 2844, 2845, 2846, 2847, 2848, 2849, 2850, 2851, 2852, 2853, 2854, 2855, 2856, 2857, 2858, 2859, 2860, 2861, 2862, 2863, 2864, 2865, 2874, 2875, 2876, 2877, 2878, 2879, 2880, 2881, 2882, 2883, 2884, 2885, 2886, 2887, 2888, 2889, 2890, 2891, 2892, 2893, 2894, 2895, 2896, 2897, 2898, 2899, 2901, 2902, 2903, 2904, 2905, 2906, 2907, 2908, 2909, 2910, 2911, 2912, 2913, 2914, 2915, 2916, 2917, 2918, 2919, 2921, 2922, 2923, 2924, 2925, 2926, 2927, 2928, 2929, 2930, 2931, 2932, 2933, 2934, 2935, 2936, 2937, 2938, 2939, 2940, 2941, 2942, 2943, 2944, 2945, 2946, 2947, 2955, 2956, 2957, 2958, 2959, 2960, 2961, 2962, 2963, 2964, 2965, 2966, 2967, 2968, 2969, 2970, 2971, 2972, 2973, 2974, 2975, 2976, 2977, 2978, 2979, 2981, 2982, 2983, 2984, 2985, 2986, 2987, 2988, 2989, 2990, 2991, 2992, 2993, 2994, 2995, 2996, 2997, 2998, 2999, 3001, 3002, 3003, 3004, 3005, 3006, 3007, 3008, 3009, 3010, 3011, 3012, 3013, 3014, 3015, 3016, 3017, 3018, 3019, 3020, 3021, 3022, 3023, 3024, 3025, 3026, 3027, 3028, 3029, 3037, 3038, 3039, 3040, 3041, 3042, 3043, 3044, 3045, 3046, 3047, 3048, 3049, 3050, 3051, 3052, 3053, 3054, 3055, 3056, 3057, 3058, 3059, 3061, 3062, 3063, 3064, 3065, 3066, 3067, 3068, 3069, 3070, 3071, 3072, 3073, 3074, 3075, 3076, 3077, 3078, 3079, 3081, 3082, 3083, 3084, 3085, 3086, 3087, 3088, 3089, 3090, 3091, 3092, 3093, 3094, 3095, 3096, 3097, 3098, 3099, 3100, 3101, 3102, 3103, 3104, 3105, 3106, 3107, 3108, 3109, 3110, 3111, 3112, 3119, 3120, 3121, 3122, 3123, 3124, 3125, 3126, 3127, 3128, 3129, 3130, 3131, 3132, 3133, 3134, 3135, 3136, 3137, 3138, 3139, 3141, 3142, 3143, 3144, 3145, 3146, 3147, 3148, 3149, 3150, 3151, 3152, 3153, 3154, 3155, 3156, 3157, 3158, 3159, 3161, 3162, 3163, 3164, 3165, 3166, 3167, 3168, 3169, 3170, 3171, 3172, 3173, 3174, 3175, 3176, 3177, 3178, 3179, 3180, 3181, 3182, 3183, 3184, 3185, 3186, 3187, 3188, 3189, 3190, 3191, 3192, 3193, 3194, 3201, 3202, 3203, 3204, 3205, 3206, 3207, 3208, 3209, 3210, 3211, 3212, 3213, 3214, 3215, 3216, 3217, 3218, 3219, 3221, 3222, 3223, 3224, 3225, 3226, 3227, 3228, 3229, 3230, 3231, 3232, 3233, 3234, 3235, 3236, 3237, 3238, 3239, 3241, 3242, 3243, 3244, 3245, 3246, 3247, 3248, 3249, 3250, 3251, 3252, 3253, 3254, 3255, 3256, 3257, 3258, 3259, 3260, 3261, 3262, 3263, 3264, 3265, 3266, 3267, 3268, 3269, 3270, 3271, 3272, 3273, 3274, 3275, 3276, 3277, 3282, 3283, 3284, 3285, 3286, 3287, 3288, 3289, 3290, 3291, 3292, 3293, 3294, 3295, 3296, 3297, 3298, 3299, 3301, 3302, 3303, 3304, 3305, 3306, 3307, 3308, 3309, 3310, 3311, 3312, 3313, 3314, 3315, 3316, 3317, 3318, 3319, 3320, 3321, 3322, 3323, 3324, 3325, 3326, 3327, 3328, 3329, 3330, 3331, 3332, 3333, 3334, 3335, 3336, 3337, 3338, 3339, 3340, 3341, 3342, 3343, 3344, 3345, 3346, 3347, 3348, 3349, 3350, 3351, 3352, 3353, 3354, 3355, 3356, 3357, 3358, 3359, 3364, 3365, 3366, 3367, 3368, 3369, 3370, 3371, 3372, 3373, 3374, 3375, 3376, 3377, 3378, 3379, 3381, 3382, 3383, 3384, 3385, 3386, 3387, 3388, 3389, 3390, 3391, 3392, 3393, 3394, 3395, 3396, 3397, 3398, 3399, 3400, 3401, 3402, 3403, 3404, 3405, 3406, 3407, 3408, 3409, 3410, 3411, 3412, 3413, 3414, 3415, 3416, 3417, 3418, 3419, 3420, 3421, 3422, 3423, 3424, 3425, 3426, 3427, 3428, 3429, 3430, 3431, 3432, 3433, 3434, 3435, 3436, 3437, 3438, 3439, 3440, 3441, 3442, 3446, 3447, 3448, 3449, 3450, 3451, 3452, 3453, 3454, 3455, 3456, 3457, 3458, 3459, 3461, 3462, 3463, 3464, 3465, 3466, 3467, 3468, 3469, 3470, 3471, 3472, 3473, 3474, 3475, 3476, 3477, 3478, 3479, 3480, 3481, 3482, 3483, 3484, 3485, 3486, 3487, 3488, 3489, 3490, 3491, 3492, 3493, 3494, 3495, 3496, 3497, 3498, 3499, 3500, 3501, 3502, 3503, 3504, 3505, 3506, 3507, 3508, 3509, 3510, 3511, 3512, 3513, 3514, 3515, 3516, 3517, 3518, 3519, 3520, 3521, 3522, 3523, 3524, 3527, 3528, 3529, 3530, 3531, 3532, 3533, 3534, 3535, 3536, 3537, 3538, 3539, 3541, 3542, 3543, 3544, 3545, 3546, 3547, 3548, 3549, 3550, 3551, 3552, 3553, 3554, 3555, 3556, 3557, 3558, 3559, 3560, 3561, 3562, 3563, 3564, 3565, 3566, 3567, 3568, 3569, 3570, 3571, 3572, 3573, 3574, 3575, 3576, 3577, 3578, 3579, 3580, 3581, 3582, 3583, 3584, 3585, 3586, 3587, 3588, 3589, 3590, 3591, 3592, 3593, 3594, 3595, 3596, 3597, 3598, 3599, 3600, 3601, 3602, 3603, 3604, 3605, 3606, 3609, 3610, 3611, 3612, 3613, 3614, 3615, 3616, 3617, 3618, 3619, 3621, 3622, 3623, 3624, 3625, 3626, 3627, 3628, 3629, 3630, 3631, 3632, 3633, 3634, 3635, 3636, 3637, 3638, 3639, 3640, 3641, 3642, 3643, 3644, 3645, 3646, 3647, 3648, 3649, 3650, 3651, 3652, 3653, 3654, 3655, 3656, 3657, 3658, 3659, 3660, 3661, 3662, 3663, 3664, 3665, 3666, 3667, 3668, 3669, 3670, 3671, 3672, 3673, 3674, 3675, 3676, 3677, 3678, 3679, 3680, 3681, 3682, 3683, 3684, 3685, 3686, 3687, 3688, 3689, 3691, 3692, 3693, 3694, 3695, 3696, 3697, 3698, 3699, 3701, 3702, 3703, 3704, 3705, 3706, 3707, 3708, 3709, 3710, 3711, 3712, 3713, 3714, 3715, 3716, 3717, 3718, 3719, 3720, 3721, 3722, 3723, 3724, 3725, 3726, 3727, 3728, 3729, 3730, 3731, 3732, 3733, 3734, 3735, 3736, 3737, 3738, 3739, 3740, 3741, 3742, 3743, 3744, 3745, 3746, 3747, 3748, 3749, 3750, 3751, 3752, 3753, 3754, 3755, 3756, 3757, 3758, 3759, 3760, 3761, 3762, 3763, 3764, 3765, 3766, 3767, 3768, 3769, 3770, 3771, 3773, 3774, 3775, 3776, 3777, 3778, 3779, 3781, 3782, 3783, 3784, 3785, 3786, 3787, 3788, 3789, 3790, 3791, 3792, 3793, 3794, 3795, 3796, 3797, 3798, 3799, 3800, 3801, 3802, 3803, 3804, 3805, 3806, 3807, 3808, 3809, 3810, 3811, 3812, 3813, 3814, 3815, 3816, 3817, 3818, 3819, 3820, 3821, 3822, 3823, 3824, 3825, 3826, 3827, 3828, 3829, 3830, 3831, 3832, 3833, 3834, 3835, 3836, 3837, 3838, 3839, 3840, 3841, 3842, 3843, 3844, 3845, 3846, 3847, 3848, 3849, 3850, 3851, 3852, 3853, 3855, 3856, 3857, 3858, 3859, 3861, 3862, 3863, 3864, 3865, 3866, 3867, 3868, 3869, 3870, 3871, 3872, 3873, 3874, 3875, 3876, 3877, 3878, 3879, 3880, 3881, 3882, 3883, 3884, 3885, 3886, 3887, 3888, 3889, 3890, 3891, 3892, 3893, 3894, 3895, 3896, 3897, 3898, 3899, 3900, 3901, 3902, 3903, 3904, 3905, 3906, 3907, 3908, 3909, 3910, 3911, 3912, 3913, 3914, 3915, 3916, 3917, 3918, 3919, 3920, 3921, 3922, 3923, 3924, 3925, 3926, 3927, 3928, 3929, 3930, 3931, 3932, 3933, 3934, 3935, 3937, 3938, 3939, 3941, 3942, 3943, 3944, 3945, 3946, 3947, 3948, 3949, 3950, 3951, 3952, 3953, 3954, 3955, 3956, 3957, 3958, 3959, 3960, 3961, 3962, 3963, 3964, 3965, 3966, 3967, 3968, 3969, 3970, 3971, 3972, 3973, 3974, 3975, 3976, 3977, 3978, 3979, 3980, 3981, 3982, 3983, 3984, 3985, 3986, 3987, 3988, 3989, 3990, 3991, 3992, 3993, 3994, 3995, 3996, 3997, 3998, 3999, 4000, 4001, 4002, 4003, 4004, 4005, 4006, 4007, 4008, 4009, 4010, 4011, 4012, 4013, 4014, 4015, 4016, 4017, 4021, 4022, 4023, 4024, 4025, 4026, 4027, 4028, 4029, 4030, 4031, 4032, 4033, 4034, 4035, 4036, 4037, 4038, 4039, 4040, 4041, 4042, 4043, 4044, 4045, 4046, 4047, 4048, 4049, 4050, 4051, 4052, 4053, 4054, 4055, 4056, 4057, 4058, 4059, 4060, 4061, 4062, 4063, 4064, 4065, 4066, 4067, 4068, 4069, 4070, 4071, 4072, 4073, 4074, 4075, 4076, 4077, 4078, 4079, 4080, 4081, 4082, 4083, 4084, 4085, 4086, 4087, 4088, 4089, 4090, 4091, 4092, 4093, 4094, 4095, 4096, 4097, 4098, 4102, 4103, 4104, 4105, 4106, 4107, 4108, 4109, 4110, 4111, 4112, 4113, 4114, 4115, 4116, 4117, 4118, 4119, 4120, 4121, 4122, 4123, 4124, 4125, 4126, 4127, 4128, 4129, 4130, 4131, 4132, 4133, 4134, 4135, 4136, 4137, 4138, 4139, 4140, 4141, 4142, 4143, 4144, 4145, 4146, 4147, 4148, 4149, 4150, 4151, 4152, 4153, 4154, 4155, 4156, 4157, 4158, 4159, 4160, 4161, 4162, 4163, 4164, 4165, 4166, 4167, 4168, 4169, 4170, 4171, 4172, 4173, 4174, 4175, 4176, 4177, 4178, 4179, 4184, 4185, 4186, 4187, 4188, 4189, 4190, 4191, 4192, 4193, 4194, 4195, 4196, 4197, 4198, 4199, 4200, 4201, 4202, 4203, 4204, 4205, 4206, 4207, 4208, 4209, 4210, 4211, 4212, 4213, 4214, 4215, 4216, 4217, 4218, 4219, 4220, 4221, 4222, 4223, 4224, 4225, 4226, 4227, 4228, 4229, 4230, 4231, 4232, 4233, 4234, 4235, 4236, 4237, 4238, 4239, 4240, 4241, 4242, 4243, 4244, 4245, 4246, 4247, 4248, 4249, 4250, 4251, 4252, 4253, 4254, 4255, 4256, 4257, 4258, 4259, 4261, 4262, 4267, 4268, 4269, 4270, 4271, 4272, 4273, 4274, 4275, 4276, 4277, 4278, 4279, 4280, 4281, 4282, 4283, 4284, 4285, 4286, 4287, 4288, 4289, 4290, 4291, 4292, 4293, 4294, 4295, 4296, 4297, 4298, 4299, 4300, 4301, 4302, 4303, 4304, 4305, 4306, 4307, 4308, 4309, 4310, 4311, 4312, 4313, 4314, 4315, 4316, 4317, 4318, 4319, 4320, 4321, 4322, 4323, 4324, 4325, 4326, 4327, 4328, 4329, 4330, 4331, 4332, 4333, 4334, 4335, 4336, 4337, 4338, 4339, 4341, 4342, 4343, 4344, 4349, 4350, 4351, 4352, 4353, 4354, 4355, 4356, 4357, 4358, 4359, 4360, 4361, 4362, 4363, 4364, 4365, 4366, 4367, 4368, 4369, 4370, 4371, 4372, 4373, 4374, 4375, 4376, 4377, 4378, 4379, 4380, 4381, 4382, 4383, 4384, 4385, 4386, 4387, 4388, 4389, 4390, 4391, 4392, 4393, 4394, 4395, 4396, 4397, 4398, 4399, 4400, 4401, 4402, 4403, 4404, 4405, 4406, 4407, 4408, 4409, 4410, 4411, 4412, 4413, 4414, 4415, 4416, 4417, 4418, 4419, 4421, 4422, 4423, 4424, 4425, 4426, 4432, 4433, 4434, 4435, 4436, 4437, 4438, 4439, 4440, 4441, 4442, 4443, 4444, 4445, 4446, 4447, 4448, 4449, 4450, 4451, 4452, 4453, 4454, 4455, 4456, 4457, 4458, 4459, 4460, 4461, 4462, 4463, 4464, 4465, 4466, 4467, 4468, 4469, 4470, 4471, 4472, 4473, 4474, 4475, 4476, 4477, 4478, 4479, 4480, 4481, 4482, 4483, 4484, 4485, 4486, 4487, 4488, 4489, 4490, 4491, 4492, 4493, 4494, 4495, 4496, 4497, 4498, 4499, 4501, 4502, 4503, 4504, 4505, 4506, 4507, 4514, 4515, 4516, 4517, 4518, 4519, 4520, 4521, 4522, 4523, 4524, 4525, 4526, 4527, 4528, 4529, 4530, 4531, 4532, 4533, 4534, 4535, 4536, 4537, 4538, 4539, 4540, 4541, 4542, 4543, 4544, 4545, 4546, 4547, 4548, 4549, 4550, 4551, 4552, 4553, 4554, 4555, 4556, 4557, 4558, 4559, 4560, 4561, 4562, 4563, 4564, 4565, 4566, 4567, 4568, 4569, 4570, 4571, 4572, 4573, 4574, 4575, 4576, 4577, 4578, 4579, 4581, 4582, 4583, 4584, 4585, 4586, 4587, 4588, 4589, 4596, 4597, 4598, 4599, 4600, 4601, 4602, 4603, 4604, 4605, 4606, 4607, 4608, 4609, 4610, 4611, 4612, 4613, 4614, 4615, 4616, 4617, 4618, 4619, 4620, 4621, 4622, 4623, 4624, 4625, 4626, 4627, 4628, 4629, 4630, 4631, 4632, 4633, 4634, 4635, 4636, 4637, 4638, 4639, 4640, 4641, 4642, 4643, 4644, 4645, 4646, 4647, 4648, 4649, 4650, 4651, 4652, 4653, 4654, 4655, 4656, 4657, 4658, 4659, 4661, 4662, 4663, 4664, 4665, 4666, 4667, 4668, 4669, 4670, 4671, 4679, 4680, 4681, 4682, 4683, 4684, 4685, 4686, 4687, 4688, 4689, 4690, 4691, 4692, 4693, 4694, 4695, 4696, 4697, 4698, 4699, 4700, 4701, 4702, 4703, 4704, 4705, 4706, 4707, 4708, 4709, 4710, 4711, 4712, 4713, 4714, 4715, 4716, 4717, 4718, 4719, 4720, 4721, 4722, 4723, 4724, 4725, 4726, 4727, 4728, 4729, 4730, 4731, 4732, 4733, 4734, 4735, 4736, 4737, 4738, 4739, 4741, 4742, 4743, 4744, 4745, 4746, 4747, 4748, 4749, 4750, 4751, 4752, 4761, 4762, 4763, 4764, 4765, 4766, 4767, 4768, 4769, 4770, 4771, 4772, 4773, 4774, 4775, 4776, 4777, 4778, 4779, 4780, 4781, 4782, 4783, 4784, 4785, 4786, 4787, 4788, 4789, 4790, 4791, 4792, 4793, 4794, 4795, 4796, 4797, 4798, 4799, 4800, 4801, 4802, 4803, 4804, 4805, 4806, 4807, 4808, 4809, 4810, 4811, 4812, 4813, 4814, 4815, 4816, 4817, 4818, 4819, 4821, 4822, 4823, 4824, 4825, 4826, 4827, 4828, 4829, 4830, 4831, 4832, 4833, 4834, 4844, 4845, 4846, 4847, 4848, 4849, 4850, 4851, 4852, 4853, 4854, 4855, 4856, 4857, 4858, 4859, 4860, 4861, 4862, 4863, 4864, 4865, 4866, 4867, 4868, 4869, 4870, 4871, 4872, 4873, 4874, 4875, 4876, 4877, 4878, 4879, 4880, 4881, 4882, 4883, 4884, 4885, 4886, 4887, 4888, 4889, 4890, 4891, 4892, 4893, 4894, 4895, 4896, 4897, 4898, 4899, 4901, 4902, 4903, 4904, 4905, 4906, 4907, 4908, 4909, 4910, 4911, 4912, 4913, 4914, 4915, 4916, 4926, 4927, 4928, 4929, 4930, 4931, 4932, 4933, 4934, 4935, 4936, 4937, 4938, 4939, 4940, 4941, 4942, 4943, 4944, 4945, 4946, 4947, 4948, 4949, 4950, 4951, 4952, 4953, 4954, 4955, 4956, 4957, 4958, 4959, 4960, 4961, 4962, 4963, 4964, 4965, 4966, 4967, 4968, 4969, 4970, 4971, 4972, 4973, 4974, 4975, 4976, 4977, 4978, 4979, 4981, 4982, 4983, 4984, 4985, 4986, 4987, 4988, 4989, 4990, 4991, 4992, 4993, 4994, 4995, 4996, 4997, 4998, 5008, 5009, 5010, 5011, 5012, 5013, 5014, 5015, 5016, 5017, 5018, 5019, 5020, 5021, 5022, 5023, 5024, 5025, 5026, 5027, 5028, 5029, 5030, 5031, 5032, 5033, 5034, 5035, 5036, 5037, 5038, 5039, 5040, 5041, 5042, 5043, 5044, 5045, 5046, 5047, 5048, 5049, 5050, 5051, 5052, 5053, 5054, 5055, 5056, 5057, 5058, 5059, 5061, 5062, 5063, 5064, 5065, 5066, 5067, 5068, 5069, 5070, 5071, 5072, 5073, 5074, 5075, 5076, 5077, 5078, 5079, 5091, 5092, 5093, 5094, 5095, 5096, 5097, 5098, 5099, 5100, 5101, 5102, 5103, 5104, 5105, 5106, 5107, 5108, 5109, 5110, 5111, 5112, 5113, 5114, 5115, 5116, 5117, 5118, 5119, 5120, 5121, 5122, 5123, 5124, 5125, 5126, 5127, 5128, 5129, 5130, 5131, 5132, 5133, 5134, 5135, 5136, 5137, 5138, 5139, 5141, 5142, 5143, 5144, 5145, 5146, 5147, 5148, 5149, 5150, 5151, 5152, 5153, 5154, 5155, 5156, 5157, 5158, 5159, 5160, 5161, 5173, 5174, 5175, 5176, 5177, 5178, 5179, 5180, 5181, 5182, 5183, 5184, 5185, 5186, 5187, 5188, 5189, 5190, 5191, 5192, 5193, 5194, 5195, 5196, 5197, 5198, 5199, 5200, 5201, 5202, 5203, 5204, 5205, 5206, 5207, 5208, 5209, 5210, 5211, 5212, 5213, 5214, 5215, 5216, 5217, 5218, 5219, 5221, 5222, 5223, 5224, 5225, 5226, 5227, 5228, 5229, 5230, 5231, 5232, 5233, 5234, 5235, 5236, 5237, 5238, 5239, 5240, 5241, 5242, 5243, 5256, 5257, 5258, 5259, 5260, 5261, 5262, 5263, 5264, 5265, 5266, 5267, 5268, 5269, 5270, 5271, 5272, 5273, 5274, 5275, 5276, 5277, 5278, 5279, 5280, 5281, 5282, 5283, 5284, 5285, 5286, 5287, 5288, 5289, 5290, 5291, 5292, 5293, 5294, 5295, 5296, 5297, 5298, 5299, 5301, 5302, 5303, 5304, 5305, 5306, 5307, 5308, 5309, 5310, 5311, 5312, 5313, 5314, 5315, 5316, 5317, 5318, 5319, 5320, 5321, 5322, 5323, 5324, 5325, 5338, 5339, 5340, 5341, 5342, 5343, 5344, 5345, 5346, 5347, 5348, 5349, 5350, 5351, 5352, 5353, 5354, 5355, 5356, 5357, 5358, 5359, 5360, 5361, 5362, 5363, 5364, 5365, 5366, 5367, 5368, 5369, 5370, 5371, 5372, 5373, 5374, 5375, 5376, 5377, 5378, 5379, 5381, 5382, 5383, 5384, 5385, 5386, 5387, 5388, 5389, 5390, 5391, 5392, 5393, 5394, 5395, 5396, 5397, 5398, 5399, 5400, 5401, 5402, 5403, 5404, 5405, 5406, 5421, 5422, 5423, 5424, 5425, 5426, 5427, 5428, 5429, 5430, 5431, 5432, 5433, 5434, 5435, 5436, 5437, 5438, 5439, 5440, 5441, 5442, 5443, 5444, 5445, 5446, 5447, 5448, 5449, 5450, 5451, 5452, 5453, 5454, 5455, 5456, 5457, 5458, 5459, 5461, 5462, 5463, 5464, 5465, 5466, 5467, 5468, 5469, 5470, 5471, 5472, 5473, 5474, 5475, 5476, 5477, 5478, 5479, 5480, 5481, 5482, 5483, 5484, 5485, 5486, 5487, 5488, 5503, 5504, 5505, 5506, 5507, 5508, 5509, 5510, 5511, 5512, 5513, 5514, 5515, 5516, 5517, 5518, 5519, 5520, 5521, 5522, 5523, 5524, 5525, 5526, 5527, 5528, 5529, 5530, 5531, 5532, 5533, 5534, 5535, 5536, 5537, 5538, 5539, 5541, 5542, 5543, 5544, 5545, 5546, 5547, 5548, 5549, 5550, 5551, 5552, 5553, 5554, 5555, 5556, 5557, 5558, 5559, 5560, 5561, 5562, 5563, 5564, 5565, 5566, 5567, 5568, 5569, 5570, 5585, 5586, 5587, 5588, 5589, 5590, 5591, 5592, 5593, 5594, 5595, 5596, 5597, 5598, 5599, 5600, 5601, 5602, 5603, 5604, 5605, 5606, 5607, 5608, 5609, 5610, 5611, 5612, 5613, 5614, 5615, 5616, 5617, 5618, 5619, 5621, 5622, 5623, 5624, 5625, 5626, 5627, 5628, 5629, 5630, 5631, 5632, 5633, 5634, 5635, 5636, 5637, 5638, 5639, 5640, 5641, 5642, 5643, 5644, 5645, 5646, 5647, 5648, 5649, 5650, 5651, 5652, 5668, 5669, 5670, 5671, 5672, 5673, 5674, 5675, 5676, 5677, 5678, 5679, 5680, 5681, 5682, 5683, 5684, 5685, 5686, 5687, 5688, 5689, 5690, 5691, 5692, 5693, 5694, 5695, 5696, 5697, 5698, 5699, 5701, 5702, 5703, 5704, 5705, 5706, 5707, 5708, 5709, 5710, 5711, 5712, 5713, 5714, 5715, 5716, 5717, 5718, 5719, 5720, 5721, 5722, 5723, 5724, 5725, 5726, 5727, 5728, 5729, 5730, 5731, 5732, 5733, 5750, 5751, 5752, 5753, 5754, 5755, 5756, 5757, 5758, 5759, 5760, 5761, 5762, 5763, 5764, 5765, 5766, 5767, 5768, 5769, 5770, 5771, 5772, 5773, 5774, 5775, 5776, 5777, 5778, 5779, 5781, 5782, 5783, 5784, 5785, 5786, 5787, 5788, 5789, 5790, 5791, 5792, 5793, 5794, 5795, 5796, 5797, 5798, 5799, 5800, 5801, 5802, 5803, 5804, 5805, 5806, 5807, 5808, 5809, 5810, 5811, 5812, 5813, 5814, 5815, 5832, 5833, 5834, 5835, 5836, 5837, 5838, 5839, 5840, 5841, 5842, 5843, 5844, 5845, 5846, 5847, 5848, 5849, 5850, 5851, 5852, 5853, 5854, 5855, 5856, 5857, 5858, 5859, 5861, 5862, 5863, 5864, 5865, 5866, 5867, 5868, 5869, 5870, 5871, 5872, 5873, 5874, 5875, 5876, 5877, 5878, 5879, 5880, 5881, 5882, 5883, 5884, 5885, 5886, 5887, 5888, 5889, 5890, 5891, 5892, 5893, 5894, 5895, 5896, 5897, 5913, 5914, 5915, 5916, 5917, 5918, 5919, 5920, 5921, 5922, 5923, 5924, 5925, 5926, 5927, 5928, 5929, 5930, 5931, 5932, 5933, 5934, 5935, 5936, 5937, 5938, 5939, 5941, 5942, 5943, 5944, 5945, 5946, 5947, 5948, 5949, 5950, 5951, 5952, 5953, 5954, 5955, 5956, 5957, 5958, 5959, 5960, 5961, 5962, 5963, 5964, 5965, 5966, 5967, 5968, 5969, 5970, 5971, 5972, 5973, 5974, 5975, 5976, 5977, 5978, 5994, 5995, 5996, 5997, 5998, 5999, 6000, 6001, 6002, 6003, 6004, 6005, 6006, 6007, 6008, 6009, 6010, 6011, 6012, 6013, 6014, 6015, 6016, 6017, 6018, 6019, 6021, 6022, 6023, 6024, 6025, 6026, 6027, 6028, 6029, 6030, 6031, 6032, 6033, 6034, 6035, 6036, 6037, 6038, 6039, 6040, 6041, 6042, 6043, 6044, 6045, 6046, 6047, 6048, 6049, 6050, 6051, 6052, 6053, 6054, 6055, 6056, 6057, 6058, 6059, 6060, 6075, 6076, 6077, 6078, 6079, 6080, 6081, 6082, 6083, 6084, 6085, 6086, 6087, 6088, 6089, 6090, 6091, 6092, 6093, 6094, 6095, 6096, 6097, 6098, 6099, 6101, 6102, 6103, 6104, 6105, 6106, 6107, 6108, 6109, 6110, 6111, 6112, 6113, 6114, 6115, 6116, 6117, 6118, 6119, 6120, 6121, 6122, 6123, 6124, 6125, 6126, 6127, 6128, 6129, 6130, 6131, 6132, 6133, 6134, 6135, 6136, 6137, 6138, 6139, 6140, 6141, 6142, 6156, 6157, 6158, 6159, 6160, 6161, 6162, 6163, 6164, 6165, 6166, 6167, 6168, 6169, 6170, 6171, 6172, 6173, 6174, 6175, 6176, 6177, 6178, 6179, 6181, 6182, 6183, 6184, 6185, 6186, 6187, 6188, 6189, 6190, 6191, 6192, 6193, 6194, 6195, 6196, 6197, 6198, 6199, 6200, 6201, 6202, 6203, 6204, 6205, 6206, 6207, 6208, 6209, 6210, 6211, 6212, 6213, 6214, 6215, 6216, 6217, 6218, 6219, 6220, 6221, 6222, 6223, 6224, 6237, 6238, 6239, 6240, 6241, 6242, 6243, 6244, 6245, 6246, 6247, 6248, 6249, 6250, 6251, 6252, 6253, 6254, 6255, 6256, 6257, 6258, 6259, 6261, 6262, 6263, 6264, 6265, 6266, 6267, 6268, 6269, 6270, 6271, 6272, 6273, 6274, 6275, 6276, 6277, 6278, 6279, 6280, 6281, 6282, 6283, 6284, 6285, 6286, 6287, 6288, 6289, 6290, 6291, 6292, 6293, 6294, 6295, 6296, 6297, 6298, 6299, 6300, 6301, 6302, 6303, 6304, 6305, 6318, 6319, 6320, 6321, 6322, 6323, 6324, 6325, 6326, 6327, 6328, 6329, 6330, 6331, 6332, 6333, 6334, 6335, 6336, 6337, 6338, 6339, 6341, 6342, 6343, 6344, 6345, 6346, 6347, 6348, 6349, 6350, 6351, 6352, 6353, 6354, 6355, 6356, 6357, 6358, 6359, 6360, 6361, 6362, 6363, 6364, 6365, 6366, 6367, 6368, 6369, 6370, 6371, 6372, 6373, 6374, 6375, 6376, 6377, 6378, 6379, 6380, 6381, 6382, 6383, 6384, 6385, 6386, 6387, 6399, 6400, 6401, 6402, 6403, 6404, 6405, 6406, 6407, 6408, 6409, 6410, 6411, 6412, 6413, 6414, 6415, 6416, 6417, 6418, 6419, 6421, 6422, 6423, 6424, 6425, 6426, 6427, 6428, 6429, 6430, 6431, 6432, 6433, 6434, 6435, 6436, 6437, 6438, 6439, 6440, 6441, 6442, 6443, 6444, 6445, 6446, 6447, 6448, 6449, 6450, 6451, 6452, 6453, 6454, 6455, 6456, 6457, 6458, 6459, 6460, 6461, 6462, 6463, 6464, 6465, 6466, 6467, 6468, 6469, 6480, 6481, 6482, 6483, 6484, 6485, 6486, 6487, 6488, 6489, 6490, 6491, 6492, 6493, 6494, 6495, 6496, 6497, 6498, 6499, 6501, 6502, 6503, 6504, 6505, 6506, 6507, 6508, 6509, 6510, 6511, 6512, 6513, 6514, 6515, 6516, 6517, 6518, 6519, 6520, 6521, 6522, 6523, 6524, 6525, 6526, 6527, 6528, 6529, 6530, 6531, 6532, 6533, 6534, 6535, 6536, 6537, 6538, 6539, 6540, 6541, 6542, 6543, 6544, 6545, 6546, 6547, 6548, 6549, 6550, 6551]\n",
      "val ids:  []\n",
      "test ids:  [0, 1, 2, 3, 4, 5, 6, 7, 8, 9, 10, 11, 12, 40, 81, 82, 83, 84, 85, 86, 87, 88, 89, 90, 91, 92, 93, 94, 120, 162, 163, 164, 165, 166, 167, 168, 169, 170, 171, 172, 173, 174, 175, 200, 243, 244, 245, 246, 247, 248, 249, 250, 251, 252, 253, 254, 255, 256, 257, 280, 324, 325, 326, 327, 328, 329, 330, 331, 332, 333, 334, 335, 336, 337, 338, 339, 360, 405, 406, 407, 408, 409, 410, 411, 412, 413, 414, 415, 416, 417, 418, 419, 420, 421, 440, 486, 487, 488, 489, 490, 491, 492, 493, 494, 495, 496, 497, 498, 499, 500, 501, 502, 520, 567, 568, 569, 570, 571, 572, 573, 574, 575, 576, 577, 578, 579, 580, 581, 582, 583, 584, 600, 648, 649, 650, 651, 652, 653, 654, 655, 656, 657, 658, 659, 660, 661, 662, 663, 664, 665, 666, 680, 729, 730, 731, 732, 733, 734, 735, 736, 737, 738, 739, 740, 741, 742, 743, 744, 745, 746, 747, 748, 760, 810, 811, 812, 813, 814, 815, 816, 817, 818, 819, 820, 821, 822, 823, 824, 825, 826, 827, 828, 829, 840, 891, 892, 893, 894, 895, 896, 897, 898, 899, 900, 901, 902, 903, 904, 905, 906, 907, 908, 909, 910, 911, 920, 972, 973, 974, 975, 976, 977, 978, 979, 980, 981, 982, 983, 984, 985, 986, 987, 988, 989, 990, 991, 992, 993, 1000, 1053, 1054, 1055, 1056, 1057, 1058, 1059, 1060, 1061, 1062, 1063, 1064, 1065, 1066, 1067, 1068, 1069, 1070, 1071, 1072, 1073, 1074, 1075, 1080, 1135, 1136, 1137, 1138, 1139, 1140, 1141, 1142, 1143, 1144, 1145, 1146, 1147, 1148, 1149, 1150, 1151, 1152, 1153, 1154, 1155, 1156, 1160, 1217, 1218, 1219, 1220, 1221, 1222, 1223, 1224, 1225, 1226, 1227, 1228, 1229, 1230, 1231, 1232, 1233, 1234, 1235, 1236, 1237, 1238, 1240, 1300, 1301, 1302, 1303, 1304, 1305, 1306, 1307, 1308, 1309, 1310, 1311, 1312, 1313, 1314, 1315, 1316, 1317, 1318, 1319, 1320, 1382, 1383, 1384, 1385, 1386, 1387, 1388, 1389, 1390, 1391, 1392, 1393, 1394, 1395, 1396, 1397, 1398, 1399, 1400, 1401, 1465, 1466, 1467, 1468, 1469, 1470, 1471, 1472, 1473, 1474, 1475, 1476, 1477, 1478, 1479, 1480, 1481, 1482, 1483, 1547, 1548, 1549, 1550, 1551, 1552, 1553, 1554, 1555, 1556, 1557, 1558, 1559, 1560, 1561, 1562, 1563, 1564, 1565, 1629, 1630, 1631, 1632, 1633, 1634, 1635, 1636, 1637, 1638, 1639, 1640, 1641, 1642, 1643, 1644, 1645, 1646, 1647, 1700, 1712, 1713, 1714, 1715, 1716, 1717, 1718, 1719, 1720, 1721, 1722, 1723, 1724, 1725, 1726, 1727, 1728, 1780, 1794, 1795, 1796, 1797, 1798, 1799, 1800, 1801, 1802, 1803, 1804, 1805, 1806, 1807, 1808, 1809, 1810, 1860, 1877, 1878, 1879, 1880, 1881, 1882, 1883, 1884, 1885, 1886, 1887, 1888, 1889, 1890, 1891, 1892, 1940, 1959, 1960, 1961, 1962, 1963, 1964, 1965, 1966, 1967, 1968, 1969, 1970, 1971, 1972, 1973, 1974, 2020, 2040, 2041, 2042, 2043, 2044, 2045, 2046, 2047, 2048, 2049, 2050, 2051, 2052, 2053, 2054, 2055, 2100, 2120, 2124, 2125, 2126, 2127, 2128, 2129, 2130, 2131, 2132, 2133, 2134, 2135, 2136, 2137, 2180, 2200, 2206, 2207, 2208, 2209, 2210, 2211, 2212, 2213, 2214, 2215, 2216, 2217, 2218, 2219, 2260, 2280, 2289, 2290, 2291, 2292, 2293, 2294, 2295, 2296, 2297, 2298, 2299, 2300, 2340, 2360, 2371, 2372, 2373, 2374, 2375, 2376, 2377, 2378, 2379, 2380, 2381, 2382, 2420, 2440, 2454, 2455, 2456, 2457, 2458, 2459, 2460, 2461, 2462, 2463, 2464, 2500, 2520, 2536, 2537, 2538, 2539, 2540, 2541, 2542, 2543, 2544, 2545, 2546, 2580, 2600, 2618, 2619, 2620, 2621, 2622, 2623, 2624, 2625, 2626, 2627, 2660, 2680, 2701, 2702, 2703, 2704, 2705, 2706, 2707, 2708, 2709, 2740, 2760, 2783, 2784, 2785, 2786, 2787, 2788, 2789, 2790, 2791, 2820, 2840, 2866, 2867, 2868, 2869, 2870, 2871, 2872, 2873, 2900, 2920, 2948, 2949, 2950, 2951, 2952, 2953, 2954, 2980, 3000, 3030, 3031, 3032, 3033, 3034, 3035, 3036, 3060, 3080, 3113, 3114, 3115, 3116, 3117, 3118, 3140, 3160, 3195, 3196, 3197, 3198, 3199, 3200, 3220, 3240, 3278, 3279, 3280, 3281, 3300, 3360, 3361, 3362, 3363, 3380, 3443, 3444, 3445, 3460, 3525, 3526, 3540, 3607, 3608, 3620, 3690, 3700, 3772, 3780, 3854, 3860, 3936, 3940, 4018, 4019, 4020, 4099, 4100, 4101, 4180, 4181, 4182, 4183, 4260, 4263, 4264, 4265, 4266, 4340, 4345, 4346, 4347, 4348, 4420, 4427, 4428, 4429, 4430, 4431, 4500, 4508, 4509, 4510, 4511, 4512, 4513, 4580, 4590, 4591, 4592, 4593, 4594, 4595, 4660, 4672, 4673, 4674, 4675, 4676, 4677, 4678, 4740, 4753, 4754, 4755, 4756, 4757, 4758, 4759, 4760, 4820, 4835, 4836, 4837, 4838, 4839, 4840, 4841, 4842, 4843, 4900, 4917, 4918, 4919, 4920, 4921, 4922, 4923, 4924, 4925, 4980, 4999, 5000, 5001, 5002, 5003, 5004, 5005, 5006, 5007, 5060, 5080, 5081, 5082, 5083, 5084, 5085, 5086, 5087, 5088, 5089, 5090, 5140, 5162, 5163, 5164, 5165, 5166, 5167, 5168, 5169, 5170, 5171, 5172, 5220, 5244, 5245, 5246, 5247, 5248, 5249, 5250, 5251, 5252, 5253, 5254, 5255, 5300, 5326, 5327, 5328, 5329, 5330, 5331, 5332, 5333, 5334, 5335, 5336, 5337, 5380, 5407, 5408, 5409, 5410, 5411, 5412, 5413, 5414, 5415, 5416, 5417, 5418, 5419, 5420, 5460, 5489, 5490, 5491, 5492, 5493, 5494, 5495, 5496, 5497, 5498, 5499, 5500, 5501, 5502, 5540, 5571, 5572, 5573, 5574, 5575, 5576, 5577, 5578, 5579, 5580, 5581, 5582, 5583, 5584, 5620, 5653, 5654, 5655, 5656, 5657, 5658, 5659, 5660, 5661, 5662, 5663, 5664, 5665, 5666, 5667, 5700, 5734, 5735, 5736, 5737, 5738, 5739, 5740, 5741, 5742, 5743, 5744, 5745, 5746, 5747, 5748, 5749, 5780, 5816, 5817, 5818, 5819, 5820, 5821, 5822, 5823, 5824, 5825, 5826, 5827, 5828, 5829, 5830, 5831, 5860, 5898, 5899, 5900, 5901, 5902, 5903, 5904, 5905, 5906, 5907, 5908, 5909, 5910, 5911, 5912, 5940, 5979, 5980, 5981, 5982, 5983, 5984, 5985, 5986, 5987, 5988, 5989, 5990, 5991, 5992, 5993, 6020, 6061, 6062, 6063, 6064, 6065, 6066, 6067, 6068, 6069, 6070, 6071, 6072, 6073, 6074, 6100, 6143, 6144, 6145, 6146, 6147, 6148, 6149, 6150, 6151, 6152, 6153, 6154, 6155, 6180, 6225, 6226, 6227, 6228, 6229, 6230, 6231, 6232, 6233, 6234, 6235, 6236, 6260, 6306, 6307, 6308, 6309, 6310, 6311, 6312, 6313, 6314, 6315, 6316, 6317, 6340, 6388, 6389, 6390, 6391, 6392, 6393, 6394, 6395, 6396, 6397, 6398, 6420, 6470, 6471, 6472, 6473, 6474, 6475, 6476, 6477, 6478, 6479, 6500, 6552, 6553, 6554, 6555, 6556, 6557, 6558, 6559, 6560]\n",
      "CPU times: user 163 ms, sys: 7.89 ms, total: 171 ms\n",
      "Wall time: 170 ms\n"
     ]
    }
   ],
   "source": [
    "%%time\n",
    "n_total = len(simulation.dataframe)\n",
    "n_train = len(simulation.dataframe[simulation.dataframe.type_of == \"train\"])\n",
    "n_val = len(simulation.dataframe[simulation.dataframe.type_of == \"val\"])\n",
    "n_test = len(simulation.dataframe[simulation.dataframe.type_of == \"test\"])\n",
    "n_train_hamiltonians = len(simulation.train_ids)\n",
    "n_val_hamiltonians = len(simulation.val_ids)\n",
    "n_test_hamiltonians = len(simulation.test_ids)\n",
    "n_total_hamiltonians = n_train_hamiltonians + n_val_hamiltonians + n_test_hamiltonians\n",
    "\n",
    "print(\"% train: \", n_train/n_total)\n",
    "print(\"% val: \",  n_val/n_total)\n",
    "print(\"% test: \", n_test/n_total)\n",
    "print(\"% train + val + test: \", (n_train+n_val+n_test)/n_total)\n",
    "print(\"\\n\")\n",
    "print(\"number of train hamiltonians: \", n_train_hamiltonians)\n",
    "print(\"number of val hamiltonians: \", n_val_hamiltonians)\n",
    "print(\"number of test hamiltonians: \", n_test_hamiltonians)\n",
    "print(\"total number of hamiltonians: \", n_total_hamiltonians)\n",
    "print(\"\\n\")\n",
    "print(\"train ids: \", simulation.train_ids)\n",
    "print(\"val ids: \", simulation.val_ids)\n",
    "print(\"test ids: \", simulation.test_ids)"
   ]
  },
  {
   "cell_type": "markdown",
   "metadata": {
    "papermill": {
     "duration": 0.017137,
     "end_time": "2020-07-09T18:44:50.540089",
     "exception": false,
     "start_time": "2020-07-09T18:44:50.522952",
     "status": "completed"
    },
    "tags": []
   },
   "source": [
    "## Running a simulation"
   ]
  },
  {
   "cell_type": "code",
   "execution_count": 23,
   "metadata": {
    "execution": {
     "iopub.execute_input": "2020-07-09T18:44:50.580620Z",
     "iopub.status.busy": "2020-07-09T18:44:50.580279Z",
     "iopub.status.idle": "2020-07-09T19:23:22.146232Z",
     "shell.execute_reply": "2020-07-09T19:23:22.146543Z"
    },
    "papermill": {
     "duration": 2311.588092,
     "end_time": "2020-07-09T19:23:22.146607",
     "exception": false,
     "start_time": "2020-07-09T18:44:50.558515",
     "status": "completed"
    },
    "tags": []
   },
   "outputs": [
    {
     "name": "stderr",
     "output_type": "stream",
     "text": [
      "\r",
      "running experiments:   0%|          | 0/100 [00:00<?, ?it/s]"
     ]
    },
    {
     "name": "stderr",
     "output_type": "stream",
     "text": [
      "\r",
      "running experiments:   1%|          | 1/100 [00:22<37:08, 22.51s/it]"
     ]
    },
    {
     "name": "stderr",
     "output_type": "stream",
     "text": [
      "\r",
      "running experiments:   2%|▏         | 2/100 [00:45<37:02, 22.68s/it]"
     ]
    },
    {
     "name": "stderr",
     "output_type": "stream",
     "text": [
      "\r",
      "running experiments:   3%|▎         | 3/100 [01:08<36:39, 22.68s/it]"
     ]
    },
    {
     "name": "stderr",
     "output_type": "stream",
     "text": [
      "\r",
      "running experiments:   4%|▍         | 4/100 [01:31<36:23, 22.74s/it]"
     ]
    },
    {
     "name": "stderr",
     "output_type": "stream",
     "text": [
      "\r",
      "running experiments:   5%|▌         | 5/100 [01:54<36:15, 22.90s/it]"
     ]
    },
    {
     "name": "stderr",
     "output_type": "stream",
     "text": [
      "\r",
      "running experiments:   6%|▌         | 6/100 [02:17<36:02, 23.00s/it]"
     ]
    },
    {
     "name": "stderr",
     "output_type": "stream",
     "text": [
      "\r",
      "running experiments:   7%|▋         | 7/100 [02:41<35:55, 23.17s/it]"
     ]
    },
    {
     "name": "stderr",
     "output_type": "stream",
     "text": [
      "\r",
      "running experiments:   8%|▊         | 8/100 [03:04<35:29, 23.14s/it]"
     ]
    },
    {
     "name": "stderr",
     "output_type": "stream",
     "text": [
      "\r",
      "running experiments:   9%|▉         | 9/100 [03:28<35:28, 23.39s/it]"
     ]
    },
    {
     "name": "stderr",
     "output_type": "stream",
     "text": [
      "\r",
      "running experiments:  10%|█         | 10/100 [03:51<34:53, 23.27s/it]"
     ]
    },
    {
     "name": "stderr",
     "output_type": "stream",
     "text": [
      "\r",
      "running experiments:  11%|█         | 11/100 [04:15<34:55, 23.55s/it]"
     ]
    },
    {
     "name": "stderr",
     "output_type": "stream",
     "text": [
      "\r",
      "running experiments:  12%|█▏        | 12/100 [04:41<35:45, 24.38s/it]"
     ]
    },
    {
     "name": "stderr",
     "output_type": "stream",
     "text": [
      "\r",
      "running experiments:  13%|█▎        | 13/100 [05:04<34:47, 24.00s/it]"
     ]
    },
    {
     "name": "stderr",
     "output_type": "stream",
     "text": [
      "\r",
      "running experiments:  14%|█▍        | 14/100 [05:28<34:06, 23.79s/it]"
     ]
    },
    {
     "name": "stderr",
     "output_type": "stream",
     "text": [
      "\r",
      "running experiments:  15%|█▌        | 15/100 [05:51<33:24, 23.58s/it]"
     ]
    },
    {
     "name": "stderr",
     "output_type": "stream",
     "text": [
      "\r",
      "running experiments:  16%|█▌        | 16/100 [06:14<32:50, 23.46s/it]"
     ]
    },
    {
     "name": "stderr",
     "output_type": "stream",
     "text": [
      "\r",
      "running experiments:  17%|█▋        | 17/100 [06:38<32:29, 23.49s/it]"
     ]
    },
    {
     "name": "stderr",
     "output_type": "stream",
     "text": [
      "\r",
      "running experiments:  18%|█▊        | 18/100 [07:01<32:03, 23.45s/it]"
     ]
    },
    {
     "name": "stderr",
     "output_type": "stream",
     "text": [
      "\r",
      "running experiments:  19%|█▉        | 19/100 [07:24<31:20, 23.21s/it]"
     ]
    },
    {
     "name": "stderr",
     "output_type": "stream",
     "text": [
      "\r",
      "running experiments:  20%|██        | 20/100 [07:47<30:58, 23.23s/it]"
     ]
    },
    {
     "name": "stderr",
     "output_type": "stream",
     "text": [
      "\r",
      "running experiments:  21%|██        | 21/100 [08:10<30:45, 23.36s/it]"
     ]
    },
    {
     "name": "stderr",
     "output_type": "stream",
     "text": [
      "\r",
      "running experiments:  22%|██▏       | 22/100 [08:33<30:12, 23.23s/it]"
     ]
    },
    {
     "name": "stderr",
     "output_type": "stream",
     "text": [
      "\r",
      "running experiments:  23%|██▎       | 23/100 [08:57<29:47, 23.21s/it]"
     ]
    },
    {
     "name": "stderr",
     "output_type": "stream",
     "text": [
      "\r",
      "running experiments:  24%|██▍       | 24/100 [09:20<29:32, 23.32s/it]"
     ]
    },
    {
     "name": "stderr",
     "output_type": "stream",
     "text": [
      "\r",
      "running experiments:  25%|██▌       | 25/100 [09:43<29:08, 23.31s/it]"
     ]
    },
    {
     "name": "stderr",
     "output_type": "stream",
     "text": [
      "\r",
      "running experiments:  26%|██▌       | 26/100 [10:06<28:30, 23.12s/it]"
     ]
    },
    {
     "name": "stderr",
     "output_type": "stream",
     "text": [
      "\r",
      "running experiments:  27%|██▋       | 27/100 [10:30<28:24, 23.35s/it]"
     ]
    },
    {
     "name": "stderr",
     "output_type": "stream",
     "text": [
      "\r",
      "running experiments:  28%|██▊       | 28/100 [10:53<27:50, 23.21s/it]"
     ]
    },
    {
     "name": "stderr",
     "output_type": "stream",
     "text": [
      "\r",
      "running experiments:  29%|██▉       | 29/100 [11:17<27:39, 23.38s/it]"
     ]
    },
    {
     "name": "stderr",
     "output_type": "stream",
     "text": [
      "\r",
      "running experiments:  30%|███       | 30/100 [11:40<27:14, 23.34s/it]"
     ]
    },
    {
     "name": "stderr",
     "output_type": "stream",
     "text": [
      "\r",
      "running experiments:  31%|███       | 31/100 [12:03<26:49, 23.32s/it]"
     ]
    },
    {
     "name": "stderr",
     "output_type": "stream",
     "text": [
      "\r",
      "running experiments:  32%|███▏      | 32/100 [12:26<26:17, 23.19s/it]"
     ]
    },
    {
     "name": "stderr",
     "output_type": "stream",
     "text": [
      "\r",
      "running experiments:  33%|███▎      | 33/100 [12:49<25:51, 23.16s/it]"
     ]
    },
    {
     "name": "stderr",
     "output_type": "stream",
     "text": [
      "\r",
      "running experiments:  34%|███▍      | 34/100 [13:12<25:23, 23.08s/it]"
     ]
    },
    {
     "name": "stderr",
     "output_type": "stream",
     "text": [
      "\r",
      "running experiments:  35%|███▌      | 35/100 [13:35<25:01, 23.10s/it]"
     ]
    },
    {
     "name": "stderr",
     "output_type": "stream",
     "text": [
      "\r",
      "running experiments:  36%|███▌      | 36/100 [13:58<24:28, 22.94s/it]"
     ]
    },
    {
     "name": "stderr",
     "output_type": "stream",
     "text": [
      "\r",
      "running experiments:  37%|███▋      | 37/100 [14:22<24:26, 23.28s/it]"
     ]
    },
    {
     "name": "stderr",
     "output_type": "stream",
     "text": [
      "\r",
      "running experiments:  38%|███▊      | 38/100 [14:45<24:01, 23.25s/it]"
     ]
    },
    {
     "name": "stderr",
     "output_type": "stream",
     "text": [
      "\r",
      "running experiments:  39%|███▉      | 39/100 [15:09<23:55, 23.53s/it]"
     ]
    },
    {
     "name": "stderr",
     "output_type": "stream",
     "text": [
      "\r",
      "running experiments:  40%|████      | 40/100 [15:32<23:26, 23.43s/it]"
     ]
    },
    {
     "name": "stderr",
     "output_type": "stream",
     "text": [
      "\r",
      "running experiments:  41%|████      | 41/100 [15:55<22:47, 23.18s/it]"
     ]
    },
    {
     "name": "stderr",
     "output_type": "stream",
     "text": [
      "\r",
      "running experiments:  42%|████▏     | 42/100 [16:18<22:22, 23.14s/it]"
     ]
    },
    {
     "name": "stderr",
     "output_type": "stream",
     "text": [
      "\r",
      "running experiments:  43%|████▎     | 43/100 [16:41<21:56, 23.09s/it]"
     ]
    },
    {
     "name": "stderr",
     "output_type": "stream",
     "text": [
      "\r",
      "running experiments:  44%|████▍     | 44/100 [17:04<21:39, 23.20s/it]"
     ]
    },
    {
     "name": "stderr",
     "output_type": "stream",
     "text": [
      "\r",
      "running experiments:  45%|████▌     | 45/100 [17:28<21:18, 23.24s/it]"
     ]
    },
    {
     "name": "stderr",
     "output_type": "stream",
     "text": [
      "\r",
      "running experiments:  46%|████▌     | 46/100 [17:52<21:06, 23.46s/it]"
     ]
    },
    {
     "name": "stderr",
     "output_type": "stream",
     "text": [
      "\r",
      "running experiments:  47%|████▋     | 47/100 [18:15<20:42, 23.44s/it]"
     ]
    },
    {
     "name": "stderr",
     "output_type": "stream",
     "text": [
      "\r",
      "running experiments:  48%|████▊     | 48/100 [18:38<20:09, 23.27s/it]"
     ]
    },
    {
     "name": "stderr",
     "output_type": "stream",
     "text": [
      "\r",
      "running experiments:  49%|████▉     | 49/100 [19:01<19:48, 23.30s/it]"
     ]
    },
    {
     "name": "stderr",
     "output_type": "stream",
     "text": [
      "\r",
      "running experiments:  50%|█████     | 50/100 [19:25<19:29, 23.40s/it]"
     ]
    },
    {
     "name": "stderr",
     "output_type": "stream",
     "text": [
      "\r",
      "running experiments:  51%|█████     | 51/100 [19:48<18:58, 23.23s/it]"
     ]
    },
    {
     "name": "stderr",
     "output_type": "stream",
     "text": [
      "\r",
      "running experiments:  52%|█████▏    | 52/100 [20:11<18:31, 23.15s/it]"
     ]
    },
    {
     "name": "stderr",
     "output_type": "stream",
     "text": [
      "\r",
      "running experiments:  53%|█████▎    | 53/100 [20:34<18:08, 23.16s/it]"
     ]
    },
    {
     "name": "stderr",
     "output_type": "stream",
     "text": [
      "\r",
      "running experiments:  54%|█████▍    | 54/100 [20:57<17:39, 23.04s/it]"
     ]
    },
    {
     "name": "stderr",
     "output_type": "stream",
     "text": [
      "\r",
      "running experiments:  55%|█████▌    | 55/100 [21:20<17:15, 23.02s/it]"
     ]
    },
    {
     "name": "stderr",
     "output_type": "stream",
     "text": [
      "\r",
      "running experiments:  56%|█████▌    | 56/100 [21:43<16:53, 23.03s/it]"
     ]
    },
    {
     "name": "stderr",
     "output_type": "stream",
     "text": [
      "\r",
      "running experiments:  57%|█████▋    | 57/100 [22:06<16:29, 23.00s/it]"
     ]
    },
    {
     "name": "stderr",
     "output_type": "stream",
     "text": [
      "\r",
      "running experiments:  58%|█████▊    | 58/100 [22:28<16:02, 22.91s/it]"
     ]
    },
    {
     "name": "stderr",
     "output_type": "stream",
     "text": [
      "\r",
      "running experiments:  59%|█████▉    | 59/100 [22:51<15:41, 22.96s/it]"
     ]
    },
    {
     "name": "stderr",
     "output_type": "stream",
     "text": [
      "\r",
      "running experiments:  60%|██████    | 60/100 [23:15<15:19, 22.98s/it]"
     ]
    },
    {
     "name": "stderr",
     "output_type": "stream",
     "text": [
      "\r",
      "running experiments:  61%|██████    | 61/100 [23:39<15:07, 23.28s/it]"
     ]
    },
    {
     "name": "stderr",
     "output_type": "stream",
     "text": [
      "\r",
      "running experiments:  62%|██████▏   | 62/100 [24:01<14:37, 23.09s/it]"
     ]
    },
    {
     "name": "stderr",
     "output_type": "stream",
     "text": [
      "\r",
      "running experiments:  63%|██████▎   | 63/100 [24:24<14:13, 23.08s/it]"
     ]
    },
    {
     "name": "stderr",
     "output_type": "stream",
     "text": [
      "\r",
      "running experiments:  64%|██████▍   | 64/100 [24:47<13:46, 22.95s/it]"
     ]
    },
    {
     "name": "stderr",
     "output_type": "stream",
     "text": [
      "\r",
      "running experiments:  65%|██████▌   | 65/100 [25:10<13:24, 22.98s/it]"
     ]
    },
    {
     "name": "stderr",
     "output_type": "stream",
     "text": [
      "\r",
      "running experiments:  66%|██████▌   | 66/100 [25:33<13:01, 22.99s/it]"
     ]
    },
    {
     "name": "stderr",
     "output_type": "stream",
     "text": [
      "\r",
      "running experiments:  67%|██████▋   | 67/100 [25:56<12:39, 23.00s/it]"
     ]
    },
    {
     "name": "stderr",
     "output_type": "stream",
     "text": [
      "\r",
      "running experiments:  68%|██████▊   | 68/100 [26:19<12:19, 23.10s/it]"
     ]
    },
    {
     "name": "stderr",
     "output_type": "stream",
     "text": [
      "\r",
      "running experiments:  69%|██████▉   | 69/100 [26:42<11:56, 23.13s/it]"
     ]
    },
    {
     "name": "stderr",
     "output_type": "stream",
     "text": [
      "\r",
      "running experiments:  70%|███████   | 70/100 [27:06<11:33, 23.11s/it]"
     ]
    },
    {
     "name": "stderr",
     "output_type": "stream",
     "text": [
      "\r",
      "running experiments:  71%|███████   | 71/100 [27:29<11:09, 23.10s/it]"
     ]
    },
    {
     "name": "stderr",
     "output_type": "stream",
     "text": [
      "\r",
      "running experiments:  72%|███████▏  | 72/100 [27:51<10:44, 23.00s/it]"
     ]
    },
    {
     "name": "stderr",
     "output_type": "stream",
     "text": [
      "\r",
      "running experiments:  73%|███████▎  | 73/100 [28:14<10:20, 22.99s/it]"
     ]
    },
    {
     "name": "stderr",
     "output_type": "stream",
     "text": [
      "\r",
      "running experiments:  74%|███████▍  | 74/100 [28:37<09:58, 23.02s/it]"
     ]
    },
    {
     "name": "stderr",
     "output_type": "stream",
     "text": [
      "\r",
      "running experiments:  75%|███████▌  | 75/100 [29:00<09:35, 23.00s/it]"
     ]
    },
    {
     "name": "stderr",
     "output_type": "stream",
     "text": [
      "\r",
      "running experiments:  76%|███████▌  | 76/100 [29:23<09:09, 22.91s/it]"
     ]
    },
    {
     "name": "stderr",
     "output_type": "stream",
     "text": [
      "\r",
      "running experiments:  77%|███████▋  | 77/100 [29:46<08:47, 22.92s/it]"
     ]
    },
    {
     "name": "stderr",
     "output_type": "stream",
     "text": [
      "\r",
      "running experiments:  78%|███████▊  | 78/100 [30:08<08:20, 22.76s/it]"
     ]
    },
    {
     "name": "stderr",
     "output_type": "stream",
     "text": [
      "\r",
      "running experiments:  79%|███████▉  | 79/100 [30:31<07:58, 22.76s/it]"
     ]
    },
    {
     "name": "stderr",
     "output_type": "stream",
     "text": [
      "\r",
      "running experiments:  80%|████████  | 80/100 [30:54<07:33, 22.68s/it]"
     ]
    },
    {
     "name": "stderr",
     "output_type": "stream",
     "text": [
      "\r",
      "running experiments:  81%|████████  | 81/100 [31:17<07:11, 22.73s/it]"
     ]
    },
    {
     "name": "stderr",
     "output_type": "stream",
     "text": [
      "\r",
      "running experiments:  82%|████████▏ | 82/100 [31:40<06:51, 22.87s/it]"
     ]
    },
    {
     "name": "stderr",
     "output_type": "stream",
     "text": [
      "\r",
      "running experiments:  83%|████████▎ | 83/100 [32:03<06:30, 22.99s/it]"
     ]
    },
    {
     "name": "stderr",
     "output_type": "stream",
     "text": [
      "\r",
      "running experiments:  84%|████████▍ | 84/100 [32:26<06:09, 23.10s/it]"
     ]
    },
    {
     "name": "stderr",
     "output_type": "stream",
     "text": [
      "\r",
      "running experiments:  85%|████████▌ | 85/100 [32:49<05:46, 23.09s/it]"
     ]
    },
    {
     "name": "stderr",
     "output_type": "stream",
     "text": [
      "\r",
      "running experiments:  86%|████████▌ | 86/100 [33:12<05:21, 22.93s/it]"
     ]
    },
    {
     "name": "stderr",
     "output_type": "stream",
     "text": [
      "\r",
      "running experiments:  87%|████████▋ | 87/100 [33:36<05:00, 23.12s/it]"
     ]
    },
    {
     "name": "stderr",
     "output_type": "stream",
     "text": [
      "\r",
      "running experiments:  88%|████████▊ | 88/100 [33:58<04:36, 23.01s/it]"
     ]
    },
    {
     "name": "stderr",
     "output_type": "stream",
     "text": [
      "\r",
      "running experiments:  89%|████████▉ | 89/100 [34:21<04:12, 22.98s/it]"
     ]
    },
    {
     "name": "stderr",
     "output_type": "stream",
     "text": [
      "\r",
      "running experiments:  90%|█████████ | 90/100 [34:44<03:48, 22.88s/it]"
     ]
    },
    {
     "name": "stderr",
     "output_type": "stream",
     "text": [
      "\r",
      "running experiments:  91%|█████████ | 91/100 [35:06<03:24, 22.73s/it]"
     ]
    },
    {
     "name": "stderr",
     "output_type": "stream",
     "text": [
      "\r",
      "running experiments:  92%|█████████▏| 92/100 [35:29<03:00, 22.60s/it]"
     ]
    },
    {
     "name": "stderr",
     "output_type": "stream",
     "text": [
      "\r",
      "running experiments:  93%|█████████▎| 93/100 [35:51<02:38, 22.68s/it]"
     ]
    },
    {
     "name": "stderr",
     "output_type": "stream",
     "text": [
      "\r",
      "running experiments:  94%|█████████▍| 94/100 [36:14<02:16, 22.79s/it]"
     ]
    },
    {
     "name": "stderr",
     "output_type": "stream",
     "text": [
      "\r",
      "running experiments:  95%|█████████▌| 95/100 [36:38<01:54, 22.99s/it]"
     ]
    },
    {
     "name": "stderr",
     "output_type": "stream",
     "text": [
      "\r",
      "running experiments:  96%|█████████▌| 96/100 [37:01<01:31, 22.91s/it]"
     ]
    },
    {
     "name": "stderr",
     "output_type": "stream",
     "text": [
      "\r",
      "running experiments:  97%|█████████▋| 97/100 [37:23<01:08, 22.69s/it]"
     ]
    },
    {
     "name": "stderr",
     "output_type": "stream",
     "text": [
      "\r",
      "running experiments:  98%|█████████▊| 98/100 [37:46<00:45, 22.88s/it]"
     ]
    },
    {
     "name": "stderr",
     "output_type": "stream",
     "text": [
      "\r",
      "running experiments:  99%|█████████▉| 99/100 [38:09<00:22, 22.74s/it]"
     ]
    },
    {
     "name": "stderr",
     "output_type": "stream",
     "text": [
      "\r",
      "running experiments: 100%|██████████| 100/100 [38:31<00:00, 22.66s/it]"
     ]
    },
    {
     "name": "stderr",
     "output_type": "stream",
     "text": [
      "\r",
      "running experiments: 100%|██████████| 100/100 [38:31<00:00, 23.12s/it]"
     ]
    },
    {
     "name": "stdout",
     "output_type": "stream",
     "text": [
      "CPU times: user 4h 9min 13s, sys: 14.8 s, total: 4h 9min 28s\n",
      "Wall time: 38min 31s\n"
     ]
    },
    {
     "name": "stderr",
     "output_type": "stream",
     "text": [
      "\n"
     ]
    }
   ],
   "source": [
    "%%time\n",
    "simulation.run_simulation(n_experiments, start_n, fit_params,shuffle_rows, pred_params, random_features, \\\n",
    "                          store_in_lists, save_eigenvector, save_hamiltonian, save_accuracy,\\\n",
    "                          save_models)\n",
    "if simulation.fourier_mode is not None:\n",
    "    simulation.fourier_dataframe.head(10)"
   ]
  },
  {
   "cell_type": "code",
   "execution_count": 24,
   "metadata": {
    "execution": {
     "iopub.execute_input": "2020-07-09T19:23:22.218849Z",
     "iopub.status.busy": "2020-07-09T19:23:22.218257Z",
     "iopub.status.idle": "2020-07-09T19:23:22.242571Z",
     "shell.execute_reply": "2020-07-09T19:23:22.242248Z"
    },
    "papermill": {
     "duration": 0.061107,
     "end_time": "2020-07-09T19:23:22.242623",
     "exception": false,
     "start_time": "2020-07-09T19:23:22.181516",
     "status": "completed"
    },
    "tags": []
   },
   "outputs": [
    {
     "data": {
      "text/html": [
       "<div>\n",
       "<style scoped>\n",
       "    .dataframe tbody tr th:only-of-type {\n",
       "        vertical-align: middle;\n",
       "    }\n",
       "\n",
       "    .dataframe tbody tr th {\n",
       "        vertical-align: top;\n",
       "    }\n",
       "\n",
       "    .dataframe thead th {\n",
       "        text-align: right;\n",
       "    }\n",
       "</style>\n",
       "<table border=\"1\" class=\"dataframe\">\n",
       "  <thead>\n",
       "    <tr style=\"text-align: right;\">\n",
       "      <th></th>\n",
       "      <th>id</th>\n",
       "      <th>path</th>\n",
       "      <th>t1</th>\n",
       "      <th>t2</th>\n",
       "      <th>winding</th>\n",
       "      <th>phase</th>\n",
       "      <th>pred_phase</th>\n",
       "      <th>type_of</th>\n",
       "      <th>feat0</th>\n",
       "      <th>feat1</th>\n",
       "      <th>...</th>\n",
       "      <th>feat90</th>\n",
       "      <th>feat91</th>\n",
       "      <th>feat92</th>\n",
       "      <th>feat93</th>\n",
       "      <th>feat94</th>\n",
       "      <th>feat95</th>\n",
       "      <th>feat96</th>\n",
       "      <th>feat97</th>\n",
       "      <th>feat98</th>\n",
       "      <th>feat99</th>\n",
       "    </tr>\n",
       "  </thead>\n",
       "  <tbody>\n",
       "    <tr>\n",
       "      <th>0</th>\n",
       "      <td>0</td>\n",
       "      <td>H_-2_-2_0.501338.dat</td>\n",
       "      <td>-2.0</td>\n",
       "      <td>-2.0</td>\n",
       "      <td>0.501338</td>\n",
       "      <td>999</td>\n",
       "      <td>-1</td>\n",
       "      <td>test</td>\n",
       "      <td>-0.130965</td>\n",
       "      <td>0.301130</td>\n",
       "      <td>...</td>\n",
       "      <td>-0.080279</td>\n",
       "      <td>-0.115687</td>\n",
       "      <td>-0.174988</td>\n",
       "      <td>0.245064</td>\n",
       "      <td>0.319763</td>\n",
       "      <td>-0.059082</td>\n",
       "      <td>-0.000556</td>\n",
       "      <td>-0.245133</td>\n",
       "      <td>-0.301130</td>\n",
       "      <td>0.130965</td>\n",
       "    </tr>\n",
       "    <tr>\n",
       "      <th>1</th>\n",
       "      <td>0</td>\n",
       "      <td>H_-2_-2_0.501338.dat</td>\n",
       "      <td>-2.0</td>\n",
       "      <td>-2.0</td>\n",
       "      <td>0.501338</td>\n",
       "      <td>999</td>\n",
       "      <td>-1</td>\n",
       "      <td>test</td>\n",
       "      <td>-0.130965</td>\n",
       "      <td>-0.301130</td>\n",
       "      <td>...</td>\n",
       "      <td>-0.080279</td>\n",
       "      <td>0.115687</td>\n",
       "      <td>-0.174988</td>\n",
       "      <td>-0.245064</td>\n",
       "      <td>0.319763</td>\n",
       "      <td>0.059082</td>\n",
       "      <td>-0.000556</td>\n",
       "      <td>0.245133</td>\n",
       "      <td>-0.301130</td>\n",
       "      <td>-0.130965</td>\n",
       "    </tr>\n",
       "    <tr>\n",
       "      <th>2</th>\n",
       "      <td>0</td>\n",
       "      <td>H_-2_-2_0.501338.dat</td>\n",
       "      <td>-2.0</td>\n",
       "      <td>-2.0</td>\n",
       "      <td>0.501338</td>\n",
       "      <td>999</td>\n",
       "      <td>-1</td>\n",
       "      <td>test</td>\n",
       "      <td>-0.148414</td>\n",
       "      <td>-0.042467</td>\n",
       "      <td>...</td>\n",
       "      <td>0.185442</td>\n",
       "      <td>-0.080620</td>\n",
       "      <td>-0.066211</td>\n",
       "      <td>-0.121339</td>\n",
       "      <td>-0.151700</td>\n",
       "      <td>0.192513</td>\n",
       "      <td>0.191642</td>\n",
       "      <td>-0.050956</td>\n",
       "      <td>-0.042467</td>\n",
       "      <td>-0.148414</td>\n",
       "    </tr>\n",
       "    <tr>\n",
       "      <th>3</th>\n",
       "      <td>0</td>\n",
       "      <td>H_-2_-2_0.501338.dat</td>\n",
       "      <td>-2.0</td>\n",
       "      <td>-2.0</td>\n",
       "      <td>0.501338</td>\n",
       "      <td>999</td>\n",
       "      <td>-1</td>\n",
       "      <td>test</td>\n",
       "      <td>-0.069630</td>\n",
       "      <td>-0.026147</td>\n",
       "      <td>...</td>\n",
       "      <td>0.102009</td>\n",
       "      <td>-0.100671</td>\n",
       "      <td>-0.081002</td>\n",
       "      <td>-0.020715</td>\n",
       "      <td>-0.058717</td>\n",
       "      <td>0.115834</td>\n",
       "      <td>0.118274</td>\n",
       "      <td>-0.054666</td>\n",
       "      <td>-0.026147</td>\n",
       "      <td>-0.069630</td>\n",
       "    </tr>\n",
       "    <tr>\n",
       "      <th>4</th>\n",
       "      <td>0</td>\n",
       "      <td>H_-2_-2_0.501338.dat</td>\n",
       "      <td>-2.0</td>\n",
       "      <td>-2.0</td>\n",
       "      <td>0.501338</td>\n",
       "      <td>999</td>\n",
       "      <td>2</td>\n",
       "      <td>test</td>\n",
       "      <td>0.010206</td>\n",
       "      <td>-0.014625</td>\n",
       "      <td>...</td>\n",
       "      <td>0.047555</td>\n",
       "      <td>-0.041368</td>\n",
       "      <td>-0.018852</td>\n",
       "      <td>-0.017673</td>\n",
       "      <td>-0.023377</td>\n",
       "      <td>0.031447</td>\n",
       "      <td>0.010280</td>\n",
       "      <td>0.000925</td>\n",
       "      <td>0.014625</td>\n",
       "      <td>-0.010206</td>\n",
       "    </tr>\n",
       "    <tr>\n",
       "      <th>5</th>\n",
       "      <td>0</td>\n",
       "      <td>H_-2_-2_0.501338.dat</td>\n",
       "      <td>-2.0</td>\n",
       "      <td>-2.0</td>\n",
       "      <td>0.501338</td>\n",
       "      <td>999</td>\n",
       "      <td>1</td>\n",
       "      <td>test</td>\n",
       "      <td>0.116962</td>\n",
       "      <td>0.021475</td>\n",
       "      <td>...</td>\n",
       "      <td>-0.086901</td>\n",
       "      <td>-0.045676</td>\n",
       "      <td>-0.028034</td>\n",
       "      <td>0.129266</td>\n",
       "      <td>0.130083</td>\n",
       "      <td>-0.098190</td>\n",
       "      <td>-0.104188</td>\n",
       "      <td>-0.007911</td>\n",
       "      <td>0.021475</td>\n",
       "      <td>0.116962</td>\n",
       "    </tr>\n",
       "    <tr>\n",
       "      <th>6</th>\n",
       "      <td>0</td>\n",
       "      <td>H_-2_-2_0.501338.dat</td>\n",
       "      <td>-2.0</td>\n",
       "      <td>-2.0</td>\n",
       "      <td>0.501338</td>\n",
       "      <td>999</td>\n",
       "      <td>-1</td>\n",
       "      <td>test</td>\n",
       "      <td>0.037175</td>\n",
       "      <td>-0.095882</td>\n",
       "      <td>...</td>\n",
       "      <td>-0.027490</td>\n",
       "      <td>0.046168</td>\n",
       "      <td>0.063419</td>\n",
       "      <td>-0.041630</td>\n",
       "      <td>-0.085769</td>\n",
       "      <td>-0.010604</td>\n",
       "      <td>-0.009822</td>\n",
       "      <td>0.084024</td>\n",
       "      <td>0.095882</td>\n",
       "      <td>-0.037175</td>\n",
       "    </tr>\n",
       "    <tr>\n",
       "      <th>7</th>\n",
       "      <td>0</td>\n",
       "      <td>H_-2_-2_0.501338.dat</td>\n",
       "      <td>-2.0</td>\n",
       "      <td>-2.0</td>\n",
       "      <td>0.501338</td>\n",
       "      <td>999</td>\n",
       "      <td>2</td>\n",
       "      <td>test</td>\n",
       "      <td>0.027709</td>\n",
       "      <td>-0.038180</td>\n",
       "      <td>...</td>\n",
       "      <td>0.123344</td>\n",
       "      <td>-0.114320</td>\n",
       "      <td>-0.057118</td>\n",
       "      <td>-0.040291</td>\n",
       "      <td>-0.061263</td>\n",
       "      <td>0.087153</td>\n",
       "      <td>0.029599</td>\n",
       "      <td>-0.001276</td>\n",
       "      <td>0.038180</td>\n",
       "      <td>-0.027709</td>\n",
       "    </tr>\n",
       "    <tr>\n",
       "      <th>8</th>\n",
       "      <td>0</td>\n",
       "      <td>H_-2_-2_0.501338.dat</td>\n",
       "      <td>-2.0</td>\n",
       "      <td>-2.0</td>\n",
       "      <td>0.501338</td>\n",
       "      <td>999</td>\n",
       "      <td>1</td>\n",
       "      <td>test</td>\n",
       "      <td>0.059795</td>\n",
       "      <td>0.030272</td>\n",
       "      <td>...</td>\n",
       "      <td>-0.082347</td>\n",
       "      <td>0.140996</td>\n",
       "      <td>0.128386</td>\n",
       "      <td>-0.036608</td>\n",
       "      <td>0.029628</td>\n",
       "      <td>-0.124877</td>\n",
       "      <td>-0.140478</td>\n",
       "      <td>0.088573</td>\n",
       "      <td>0.030272</td>\n",
       "      <td>0.059795</td>\n",
       "    </tr>\n",
       "    <tr>\n",
       "      <th>9</th>\n",
       "      <td>0</td>\n",
       "      <td>H_-2_-2_0.501338.dat</td>\n",
       "      <td>-2.0</td>\n",
       "      <td>-2.0</td>\n",
       "      <td>0.501338</td>\n",
       "      <td>999</td>\n",
       "      <td>1</td>\n",
       "      <td>test</td>\n",
       "      <td>0.141605</td>\n",
       "      <td>0.013497</td>\n",
       "      <td>...</td>\n",
       "      <td>-0.035718</td>\n",
       "      <td>-0.110014</td>\n",
       "      <td>-0.082452</td>\n",
       "      <td>0.146084</td>\n",
       "      <td>0.152588</td>\n",
       "      <td>-0.067575</td>\n",
       "      <td>-0.087187</td>\n",
       "      <td>-0.043484</td>\n",
       "      <td>0.013497</td>\n",
       "      <td>0.141605</td>\n",
       "    </tr>\n",
       "  </tbody>\n",
       "</table>\n",
       "<p>10 rows × 108 columns</p>\n",
       "</div>"
      ],
      "text/plain": [
       "   id                  path   t1   t2   winding  phase  pred_phase type_of  \\\n",
       "0   0  H_-2_-2_0.501338.dat -2.0 -2.0  0.501338    999          -1    test   \n",
       "1   0  H_-2_-2_0.501338.dat -2.0 -2.0  0.501338    999          -1    test   \n",
       "2   0  H_-2_-2_0.501338.dat -2.0 -2.0  0.501338    999          -1    test   \n",
       "3   0  H_-2_-2_0.501338.dat -2.0 -2.0  0.501338    999          -1    test   \n",
       "4   0  H_-2_-2_0.501338.dat -2.0 -2.0  0.501338    999           2    test   \n",
       "5   0  H_-2_-2_0.501338.dat -2.0 -2.0  0.501338    999           1    test   \n",
       "6   0  H_-2_-2_0.501338.dat -2.0 -2.0  0.501338    999          -1    test   \n",
       "7   0  H_-2_-2_0.501338.dat -2.0 -2.0  0.501338    999           2    test   \n",
       "8   0  H_-2_-2_0.501338.dat -2.0 -2.0  0.501338    999           1    test   \n",
       "9   0  H_-2_-2_0.501338.dat -2.0 -2.0  0.501338    999           1    test   \n",
       "\n",
       "      feat0     feat1  ...    feat90    feat91    feat92    feat93    feat94  \\\n",
       "0 -0.130965  0.301130  ... -0.080279 -0.115687 -0.174988  0.245064  0.319763   \n",
       "1 -0.130965 -0.301130  ... -0.080279  0.115687 -0.174988 -0.245064  0.319763   \n",
       "2 -0.148414 -0.042467  ...  0.185442 -0.080620 -0.066211 -0.121339 -0.151700   \n",
       "3 -0.069630 -0.026147  ...  0.102009 -0.100671 -0.081002 -0.020715 -0.058717   \n",
       "4  0.010206 -0.014625  ...  0.047555 -0.041368 -0.018852 -0.017673 -0.023377   \n",
       "5  0.116962  0.021475  ... -0.086901 -0.045676 -0.028034  0.129266  0.130083   \n",
       "6  0.037175 -0.095882  ... -0.027490  0.046168  0.063419 -0.041630 -0.085769   \n",
       "7  0.027709 -0.038180  ...  0.123344 -0.114320 -0.057118 -0.040291 -0.061263   \n",
       "8  0.059795  0.030272  ... -0.082347  0.140996  0.128386 -0.036608  0.029628   \n",
       "9  0.141605  0.013497  ... -0.035718 -0.110014 -0.082452  0.146084  0.152588   \n",
       "\n",
       "     feat95    feat96    feat97    feat98    feat99  \n",
       "0 -0.059082 -0.000556 -0.245133 -0.301130  0.130965  \n",
       "1  0.059082 -0.000556  0.245133 -0.301130 -0.130965  \n",
       "2  0.192513  0.191642 -0.050956 -0.042467 -0.148414  \n",
       "3  0.115834  0.118274 -0.054666 -0.026147 -0.069630  \n",
       "4  0.031447  0.010280  0.000925  0.014625 -0.010206  \n",
       "5 -0.098190 -0.104188 -0.007911  0.021475  0.116962  \n",
       "6 -0.010604 -0.009822  0.084024  0.095882 -0.037175  \n",
       "7  0.087153  0.029599 -0.001276  0.038180 -0.027709  \n",
       "8 -0.124877 -0.140478  0.088573  0.030272  0.059795  \n",
       "9 -0.067575 -0.087187 -0.043484  0.013497  0.141605  \n",
       "\n",
       "[10 rows x 108 columns]"
      ]
     },
     "execution_count": 24,
     "metadata": {},
     "output_type": "execute_result"
    }
   ],
   "source": [
    "simulation.dataframe.head(10)"
   ]
  },
  {
   "cell_type": "markdown",
   "metadata": {
    "papermill": {
     "duration": 0.034976,
     "end_time": "2020-07-09T19:23:22.320620",
     "exception": false,
     "start_time": "2020-07-09T19:23:22.285644",
     "status": "completed"
    },
    "tags": []
   },
   "source": [
    "#### Viewing a random sample"
   ]
  },
  {
   "cell_type": "code",
   "execution_count": 25,
   "metadata": {
    "execution": {
     "iopub.execute_input": "2020-07-09T19:23:22.396250Z",
     "iopub.status.busy": "2020-07-09T19:23:22.395938Z",
     "iopub.status.idle": "2020-07-09T19:23:22.406635Z",
     "shell.execute_reply": "2020-07-09T19:23:22.406316Z"
    },
    "papermill": {
     "duration": 0.04876,
     "end_time": "2020-07-09T19:23:22.406686",
     "exception": false,
     "start_time": "2020-07-09T19:23:22.357926",
     "status": "completed"
    },
    "tags": []
   },
   "outputs": [
    {
     "name": "stdout",
     "output_type": "stream",
     "text": [
      "CPU times: user 3 µs, sys: 0 ns, total: 3 µs\n",
      "Wall time: 4.05 µs\n"
     ]
    }
   ],
   "source": [
    "%%time\n",
    "if simulation.fourier_mode is not None:\n",
    "    simulation.fourier_dataframe.sample(frac=0.1, replace=False)"
   ]
  },
  {
   "cell_type": "markdown",
   "metadata": {
    "papermill": {
     "duration": 0.039214,
     "end_time": "2020-07-09T19:23:22.482973",
     "exception": false,
     "start_time": "2020-07-09T19:23:22.443759",
     "status": "completed"
    },
    "tags": []
   },
   "source": [
    "#### Checking train/val/test splits again"
   ]
  },
  {
   "cell_type": "code",
   "execution_count": 26,
   "metadata": {
    "execution": {
     "iopub.execute_input": "2020-07-09T19:23:22.554963Z",
     "iopub.status.busy": "2020-07-09T19:23:22.554630Z",
     "iopub.status.idle": "2020-07-09T19:23:22.742404Z",
     "shell.execute_reply": "2020-07-09T19:23:22.742128Z"
    },
    "papermill": {
     "duration": 0.224329,
     "end_time": "2020-07-09T19:23:22.742459",
     "exception": false,
     "start_time": "2020-07-09T19:23:22.518130",
     "status": "completed"
    },
    "tags": []
   },
   "outputs": [
    {
     "name": "stdout",
     "output_type": "stream",
     "text": [
      "% train:  0.4208199969516842\n",
      "% val:  0.42066758116140834\n",
      "% test:  0.15851242188690748\n",
      "% train + val + test:  1.0\n",
      "\n",
      "\n",
      "number of train hamiltonians:  2761\n",
      "number of val hamiltonians:  2760\n",
      "number of test hamiltonians:  1040\n",
      "total number of hamiltonians:  6561\n",
      "\n",
      "\n",
      "train ids:  [479, 1199, 2058, 6287, 6483, 3435, 5873, 4628, 2333, 3621, 4553, 2119, 1165, 2978, 3888, 4241, 2745, 4847, 3045, 1454, 5122, 4765, 5019, 2481, 1006, 1180, 1613, 345, 2257, 6105, 5241, 1689, 2695, 5274, 2430, 3176, 3828, 641, 4149, 6464, 3527, 5488, 3687, 4173, 2286, 2732, 2903, 2472, 2276, 3052, 3895, 4712, 3521, 6366, 4955, 5112, 3369, 1765, 2825, 2736, 4176, 1005, 2650, 4272, 3166, 4743, 792, 2689, 1621, 6518, 4774, 2234, 5094, 1079, 1420, 4969, 4219, 4967, 5020, 1775, 4784, 3821, 1210, 4418, 6140, 800, 6084, 613, 3459, 4061, 5837, 4190, 1488, 3214, 1525, 5473, 684, 4853, 833, 6382, 5892, 3960, 5693, 5265, 5129, 6265, 389, 5691, 4017, 3489, 4242, 5998, 3662, 2731, 5430, 6440, 5263, 2724, 617, 1936, 2399, 4692, 848, 18, 1455, 2113, 3623, 5590, 53, 3942, 4524, 2738, 6196, 6451, 545, 6341, 1343, 3070, 3456, 3357, 3406, 6255, 5543, 4652, 435, 2962, 3545, 5352, 4763, 2715, 4339, 5549, 2314, 704, 6117, 4667, 3224, 4156, 1124, 3637, 3417, 564, 4958, 3282, 4477, 5359, 4797, 5307, 6431, 4691, 720, 5152, 3294, 4466, 181, 6050, 3509, 3707, 3692, 3715, 6291, 548, 5649, 2818, 5548, 5541, 5422, 3968, 5127, 4425, 1345, 1850, 1010, 5950, 630, 5513, 6469, 1824, 4745, 5625, 3650, 773, 5047, 4736, 3680, 4321, 3043, 1364, 6120, 5106, 4868, 3138, 2320, 5939, 4079, 2405, 6365, 3755, 296, 2313, 1023, 4007, 5190, 2415, 134, 3652, 5395, 5511, 3925, 3880, 3669, 2677, 606, 4623, 297, 3548, 3438, 3168, 5775, 1167, 2021, 871, 2581, 5929, 2875, 1083, 512, 1914, 5486, 3656, 114, 4081, 3174, 5617, 3865, 4646, 3552, 4798, 4382, 4134, 1749, 2850, 4933, 5730, 2242, 6504, 6202, 3480, 3664, 3005, 4344, 1445, 2699, 2688, 3103, 5681, 4374, 670, 4670, 6374, 2938, 6258, 6300, 456, 546, 2311, 3831, 5366, 6322, 3386, 1748, 5177, 5485, 1211, 2285, 1342, 4875, 6380, 5350, 4909, 3648, 2913, 5807, 6056, 2876, 52, 366, 302, 3298, 3261, 2910, 547, 5848, 106, 5838, 5242, 3107, 3317, 5768, 3502, 1012, 1736, 2928, 4620, 3748, 1178, 5025, 5616, 402, 6123, 4279, 6493, 2523, 6277, 5524, 5341, 1504, 528, 4251, 5923, 6192, 2350, 6038, 5212, 959, 776, 2324, 1690, 5401, 2364, 3267, 5256, 5516, 2911, 4407, 4441, 74, 2979, 2080, 5640, 3832, 6082, 4127, 784, 1693, 5275, 2503, 4417, 3630, 926, 6455, 5102, 1651, 241, 3226, 6349, 2446, 682, 3077, 70, 919, 2114, 2577, 4996, 5505, 3072, 176, 4621, 2570, 4154, 1274, 2304, 2477, 4034, 5889, 5405, 13, 4214, 2829, 340, 1262, 6017, 3301, 6080, 2912, 3899, 1344, 1837, 4359, 5854, 3703, 6251, 3366, 6005, 6081, 1410, 5109, 4088, 5385, 527, 1790, 1946, 1423, 1834, 5391, 3469, 5011, 2556, 4080, 855, 1276, 2985, 681, 2754, 4537, 5055, 4054, 4735, 6156, 3055, 43, 2170, 5386, 4700, 714, 1772, 269, 6159, 2319, 2514, 4039, 145, 2442, 1286, 305, 782, 1588, 2806, 5075, 5919, 4390, 3866, 3727, 2152, 522, 1292, 870, 6086, 2885, 3964, 2992, 1007, 5836, 1042, 4194, 3359, 453, 3061, 2434, 2907, 3554, 5076, 6054, 1741, 271, 4829, 4632, 4341, 2283, 4113, 1447, 1460, 6161, 6094, 294, 5066, 3565, 591, 727, 1907, 3208, 5067, 4422, 6106, 4543, 6015, 6083, 2798, 3424, 2095, 2955, 4060, 3217, 5806, 4961, 4637, 2755, 5042, 3388, 5763, 5865, 3584, 1844, 5201, 5843, 767, 3377, 1519, 3663, 5277, 1491, 1912, 2438, 2877, 1266, 5804, 1763, 2107, 2649, 3021, 6279, 3792, 5440, 3272, 3962, 1839, 5340, 1377, 111, 5670, 535, 2796, 3740, 5063, 3269, 1768, 6367, 6495, 6362, 1518, 6213, 4102, 5199, 865, 2351, 1001, 3041, 1280, 5619, 6193, 3512, 4165, 2061, 1028, 383, 627, 2642, 6169, 5261, 2849, 592, 3098, 6044, 1910, 303, 1370, 6111, 6029, 5303, 1365, 5683, 4947, 5558, 1029, 4115, 2079, 539, 1606, 4626, 2062, 5010, 1783, 5404, 5862, 4575, 3102, 5917, 3610, 5777, 3310, 1695, 2930, 4682, 769, 5565, 4498, 526, 4302, 4866, 4864, 39, 2177, 2393, 1261, 3426, 671, 6091, 3419, 1786, 19, 4684, 2070, 1691, 3254, 799, 4826, 6010, 2233, 5811, 957, 3233, 4116, 2861, 377, 2429, 2937, 5762, 42, 5450, 4384, 4494, 5021, 4679, 4010, 1116, 477, 6499, 3392, 1894, 4576, 2915, 3325, 4216, 2203, 3813, 4137, 2631, 1509, 5215, 1105, 201, 998, 5958, 4641, 4177, 3353, 6456, 2599, 1503, 1268, 5526, 3082, 4436, 5188, 5276, 4654, 2349, 5645, 1409, 2764, 5072, 4126, 4968, 3493, 4437, 3150, 2657, 3710, 5299, 4565, 1338, 2111, 2193, 2502, 4945, 222, 6327, 5639, 1871, 967, 3704, 4401, 4355, 3996, 1896, 5095, 881, 4608, 4638, 2034, 3990, 638, 1182, 371, 1838, 612, 597, 6448, 4935, 4499, 5429, 2190, 809, 5178, 4259, 5567, 2400, 5534, 4979, 1290, 1951, 4381, 620, 2772, 3725, 1679, 2187, 1846, 5101, 4733, 6550, 2433, 242, 2597, 5297, 6356, 3364, 4205, 2427, 4291, 4360, 4988, 6375, 947, 1585, 2059, 4663, 2195, 65, 3401, 1115, 4255, 3852, 2891, 1977, 3790, 4391, 4221, 3428, 467, 33, 3123, 3236, 3678, 4204, 2181, 2028, 2899, 4008, 5435, 1516, 4715, 1926, 3223, 3368, 631, 4452, 4984, 2996, 6430, 3781, 3839, 3582, 1848, 2757, 1687, 708, 534, 643, 5198, 4004, 5093, 5521, 5949, 1539, 3385, 3133, 2467, 6297, 422, 3342, 4325, 3097, 76, 4389, 6509, 6519, 932, 696, 2651, 2633, 2428, 6007, 6019, 2526, 3086, 5547, 1861, 838, 236, 4133, 1281, 3933, 3024, 3603, 4337, 1843, 2063, 4578, 465, 5759, 1924, 3788, 2894, 1120, 2935, 4895, 2353, 1462, 368, 2267, 4142, 1683, 3439, 4203, 346, 6276, 2003, 4688, 3599, 4890, 2895, 1782, 6002, 298, 3611, 4444, 6136, 5149, 4561, 2146, 1209, 4517, 3026, 4162, 3938, 2718, 4442, 4786, 3487, 1711, 1694, 425, 5184, 2097, 5847, 3722, 1947, 2723, 5339, 4067, 3972, 1106, 2444, 4520, 3012, 115, 3578, 4130, 717, 6009, 1990, 3596, 5883, 3984, 6172, 1597, 4730, 6296, 4558, 3624, 5622, 6179, 5896, 2922, 184, 5472, 3798, 158, 2763, 1603, 719, 2833, 6533, 1942, 5802, 299, 118, 1572, 217, 5931, 5447, 6246, 447, 2615, 6491, 445, 1592, 2329, 3096, 2905, 1540, 2483, 1593, 4353, 4144, 350, 701, 5696, 4150, 3529, 6104, 1788, 3768, 1352, 6513, 3605, 1212, 56, 856, 700, 3177, 3492, 955, 1103, 6217, 789, 2186, 6048, 3122, 6242, 4292, 3372, 1627, 4450, 381, 196, 1791, 130, 5519, 6376, 4445, 5711, 3765, 3295, 3812, 1164, 284, 4954, 2510, 549, 4169, 5482, 1326, 5976, 3184, 3040, 5813, 863, 5975, 2555, 2919, 4532, 2813, 4874, 5630, 4635, 352, 2747, 126, 5313, 3158, 4318, 780, 5646, 3869, 2576, 3465, 4744, 6108, 476, 5017, 36, 677, 3408, 5441, 1520, 3686, 4888, 3671, 4234, 2834, 608, 6032, 3407, 1814, 4725, 1937, 3488, 5353, 5427, 3753, 4419, 5636, 5537, 231, 3235, 5536, 868, 3914, 1489, 3011, 5110, 362, 2799, 67, 2690, 1485, 288, 531, 3087, 4872, 626, 2904, 3814, 3570, 2367, 2005, 1901, 4350, 3179, 3516, 4701, 2878, 2614, 1919, 5934, 3853, 3019, 1913, 4406, 6444, 1654, 3595, 1916, 3524, 5591, 6204, 2089, 6400, 3135, 5871, 1371, 6098, 5030, 423, 2698, 3919, 6531, 5099, 1172, 4405, 5183, 1265, 861, 4661, 3965, 2801, 2592, 3593, 2140, 5012, 2509, 4891, 6190, 4293, 5753, 240, 5964, 830, 444, 37, 364, 6186, 3647, 2770, 1114, 4574, 935, 4977, 1186, 1277, 1197, 275, 3238, 4480, 3218, 689, 3698, 6373, 1954, 3293, 3622, 5550, 552, 6353, 4351, 3210, 5598, 384, 1131, 4002, 6334, 3193, 4768, 1945, 3581, 3104, 1271, 4361, 2843, 4036, 2737, 223, 5436, 2504, 4738, 4301, 3257, 5371, 5295, 3894, 3398, 4365, 5850, 4848, 4230, 72, 3345, 5946, 913, 5610, 2957, 793, 3638, 4252, 2826, 5791, 781, 6012, 3999, 4210, 4950, 2529, 119, 5595, 4788, 1026, 4328, 193, 1668, 5592, 4435, 4873, 5156, 6407, 6115, 4540, 4125, 1448, 428, 1505, 5384, 3576, 3541, 4717, 6447, 1450, 832, 1998, 2486, 3296, 2681, 3155, 6280, 2282, 6385, 4095, 1676, 5644, 2436, 4262, 3049, 185, 1732, 5048, 17, 4728, 285, 517, 6188, 2925, 1612, 1601, 4862, 463, 5798, 4016, 4910, 2758, 3018, 3194, 3093, 1102, 4198, 1381, 2476, 4070, 391, 2673, 1981, 952, 2653, 1760, 206, 3291, 5317, 4281, 41, 5647, 4927, 6079, 3292, 4554, 4358, 1429, 2147, 3672, 6539, 5458, 2149, 965, 1495, 1869, 3731, 2812, 4832, 511, 2675, 5721, 3947, 711, 2641, 929, 3112, 3635, 1361, 2245, 5682, 5059, 4937, 5774, 2563, 4990, 5452, 6338, 2665, 5928, 6284, 5203, 6377, 1904, 4069, 2860, 1507, 5432, 5477, 3418, 2792, 4228, 2109, 5859, 5561, 3467, 5995, 3189, 4459, 3836, 6425, 5632, 1512, 3270, 372, 6294, 5283, 353, 1666, 5035, 5786, 6051, 1097, 4163, 4476, 2157, 3640, 6543, 96, 2278, 1278, 2417, 3411, 4854, 6176, 5074, 724, 1038, 3058, 2226, 100, 2085, 4446, 55, 6121, 2368, 3284, 4273, 1362, 2076, 3396, 151, 5966, 4091, 3192, 2166, 6415, 2941, 1494, 4761, 6381, 2077, 1119, 2281, 4227, 2710, 439, 38, 3157, 2423, 5115, 1205, 4708, 188, 132, 1956, 5920, 2249, 2945, 3952, 4965, 3222, 451, 4555, 3164, 4285, 4475, 5378, 3402, 6283, 4312, 2841, 1380, 3978, 951, 4376, 2251, 452, 3084, 4319, 5781, 99, 4375, 3119, 3500, 3100, 4863, 1113, 4613, 5552, 5379, 1246, 586, 4139, 2881, 1787, 1257, 4813, 5442, 5885, 4280, 5684, 1049, 3588, 2562, 2733, 1577, 5397, 2258, 5792, 4557, 3796, 1569, 1529, 2579, 2084, 860, 4012, 3121, 2161, 262, 5308, 5431, 2685, 2501, 143, 1663, 4583, 759, 5776, 4223, 98, 4206, 3921, 3071, 2493, 4877, 4588, 1084, 3151, 3805, 3273, 673, 4231, 4731, 2598, 1995, 3477, 765, 3491, 5387, 1729, 5701, 2078, 2318, 5675, 2122, 1170, 2450, 3167, 6055, 5137, 3191, 4258, 146, 853, 3264, 4497, 4936, 6027, 1348, 5508, 762, 4330, 752, 1090, 273, 4178, 3870, 5510, 1742, 2171, 4693, 5226, 1988, 5545, 4596, 4014, 4048, 4766, 2646, 1785, 798, 2734, 5732, 3147, 2775, 709, 2909, 3795, 6004, 6249, 6267, 2821, 3442, 4032, 203, 1095, 5635, 4516, 3517, 508, 2998, 4140, 4402, 3711, 3450, 4155, 4822, 3975, 386, 6293, 6271, 880, 2557, 197, 1498, 5841, 1411, 2365, 103, 1044, 4989, 5697, 4742, 4609, 6289, 2123, 4449, 4327, 3660, 1130, 2185, 1957, 4404, 1975, 4806, 668, 4946, 177, 2643, 3896, 2934, 5377, 3242, 404, 1017, 948, 1194, 1269, 5669, 6223, 1934, 5612, 2250, 4930, 3181, 1920, 1052, 5207, 2684, 2312, 2927, 2025, 3800, 5677, 4201, 4901, 2262, 3044, 3741, 1762, 4189, 380, 6239, 3306, 1355, 6181, 3783, 3153, 964, 5406, 6014, 4810, 1436, 3998, 2033, 6035, 1769, 672, 2774, 6167, 933, 4808, 1185, 367, 195, 6417, 1864, 3212, 1046, 849, 4777, 5874, 5542, 4746, 1490, 5937, 4037, 524, 1259, 4629, 2893, 3806, 1568, 2175, 1935, 3553, 4529, 1704, 6344, 2997, 4597, 968, 2810, 4151, 4135, 927, 5544, 2857, 2612, 5570, 6399, 75, 6016, 3653, 1776, 3932, 323, 4481, 4845, 4396, 5358, 4828, 5197, 4045, 3764, 3557, 3412, 1862, 6040, 5144, 6496, 712, 4114, 274, 2069, 15, 5921, 3187, 3842, 6112, 4453, 6503, 2422, 1858, 1667, 869, 2721, 6076, 1337, 5914, 3909, 6114, 4311, 3285, 378, 6534, 3324, 1174, 1508, 3404, 1298, 4598, 6414, 4550, 1372, 478, 3558, 1421, 843, 2103, 1255, 3714, 5403, 1325, 1077, 3266, 2828, 5594, 1688, 4411, 5284, 6248, 5702, 1024, 2865, 628, 286, 5116, 4108, 4830, 1285, 4861, 4846, 430, 1620, 2006, 2916, 5970, 1249, 3729, 3335, 4257, 4541, 1327, 6492, 1590, 679, 5690, 1104, 566, 1523, 4217, 4655, 4769, 5834, 2490, 3580, 199, 4818, 710, 442, 1020, 5694, 1811, 6463, 6523, 2115, 6000, 1050, 462, 2332, 216, 758, 4971, 779, 716, 3405, 4491, 646, 2164, 2158, 3008, 4749, 4366, 2443, 4912, 5426, 5678, 859, 5176, 5175, 2228, 4400, 6450, 5372, 1208, 5615, 3845, 2495, 3758, 128, 2030, 1354, 3156, 289, 5064, 1939, 2655, 1216, 636, 5451, 5120, 4791, 2981, 2256, 1254, 4885, 4315, 3515, 3877, 4416, 1918, 3029, 3413, 400, 916, 4331, 5999, 1419, 2255, 6099, 1014, 707, 6282, 3556, 5294, 803, 6060, 2749, 4625, 6413, 1533, 3425, 3874, 4120, 4539, 602, 2917, 4145, 4423, 1580, 5211, 4148, 2664, 523, 4022, 4104, 202, 3277, 3258, 229, 2691, 3062, 618, 5196, 1686, 1198, 1363, 1948, 3099, 675, 725, 5234, 6286, 6187, 3819, 4028, 354, 3676, 4118, 1414, 4702, 4720, 3538, 3320, 5148, 3791, 3473, 4197, 5375, 1650, 1081, 4653, 3906, 4514, 3244, 2110, 1408, 1041, 2966, 3349, 5306, 3262, 5750, 3891, 457, 5233, 5034, 1321, 4392, 4072, 4974, 3105, 473, 178, 609, 446, 3719, 211, 1203, 2163, 4643, 5069, 282, 3987, 2634, 1376, 1897, 6325, 295, 471, 2518, 464, 5772, 2559, 2804, 2663, 2479, 2884, 705, 3682, 4934, 3498, 3957, 5715, 1701, 3533, 2106, 888, 2139, 2148, 4013, 125, 2419, 5056, 5323, 3844, 3801, 5770, 5320, 3201, 629, 3111, 5468, 4157, 3146, 852, 4440, 23, 3503, 5469, 392, 942, 4323, 5528, 5456, 2644, 344, 2232, 5455, 6281, 5206, 3003, 839, 459, 6401, 5036, 6378, 105, 3734, 3641, 5272, 5026, 936, 2072, 5963, 4569, 3374, 1378, 1175, 5130, 2606, 510, 2548, 2150, 5231, 1008, 2561, 3015, 4949, 3625, 3913, 2421, 3371, 214, 3416, 1215, 1753, 5311, 4326, 1034, 2252, 5092, 2396, 4035, 1039, 4077, 3508, 4472, 5079, 4051, 5785, 6053, 3327, 2611, 5221, 5374, 4153, 1270, 6422, 1245, 6269, 6429, 3619, 5518, 997, 6195, 4881, 5257, 1813, 3017, 4849, 4338, 6096, 4992, 5461, 4200, 1978, 6490, 5832, 4893, 3519, 3027, 667, 5790, 4288, 1441, 5589, 2413, 5729, 1021, 4471, 6371, 4087, 138, 5302, 774, 2669, 1599, 3129, 5070, 1440, 5344, 3522, 3182, 147, 858, 4851, 2254, 3959, 5553, 320, 2001, 2359, 1875, 4729, 6540, 3139, 6085, 518, 3717, 3389, 3350, 5706, 4238, 2970, 1702, 393, 2259, 557, 2482, 4772, 1128, 3162, 4665, 1497, 536, 2012, 1334, 4577, 804, 3336, 831, 2533, 5126, 1976, 5687, 1614, 2896, 3654, 3977, 2573, 5433, 6331, 5894, 3818, 5695, 2238, 4383, 3308, 1332, 4892, 5345, 1607, 5018, 5846, 5049, 5290, 2449, 4518, 4633, 1923, 4664, 3319, 4579, 2766, 104, 2678, 2668, 4944, 4796, 1625, 3743, 59, 4603, 3782, 4105, 1350, 4929, 2288, 2989, 5142, 4447, 4493, 3573, 1341, 6405, 3251, 5173, 4723, 6442, 1617, 4434, 768, 4211, 5259, 2263, 4132, 64, 5689, 2247, 678, 6432, 777, 1542, 3276, 4689, 5271, 5091, 5517, 5462, 6387, 483, 4458, 1159, 3564, 3949, 4455, 5551, 1048, 3378, 4106, 6498, 3468, 5624, 2302, 4093, 5796, 2846, 565, 1815, 5671, 3464, 6494, 6370, 2976, 4202, 3409, 385, 669, 4975, 3701, 772, 1703, 2060, 4560, 3486, 1750, 2407, 6097, 4821, 940, 5108, 2984, 3471, 4496, 3614, 4959, 2183, 2550, 4605, 485, 6133, 2066, 633, 1991, 4356, 5278, 1653, 882, 4121, 2194, 1615, 1517, 5376, 5301, 1996, 6421, 1685, 6127, 6347, 6168, 5291, 1511, 6337, 3793, 4357, 5125, 5698, 1537, 2409, 6018, 847, 1738, 1731, 4191, 4299, 4656, 4066, 5918, 3586, 2470, 1917, 558, 1501, 4143, 2887, 794, 625, 2613, 2264, 6368, 6164, 6207, 5202, 529, 5868, 6057, 3383, 850, 5672, 5383, 5626, 4123, 209, 4122, 3598, 3785, 4536, 4648, 1659, 4559, 4029, 1452, 2507, 3592, 5546, 2906, 2964, 292, 1744, 2354, 308, 1536, 2587, 3820, 5232, 1740, 2236, 1434, 5673, 3169, 4572, 5960, 4915, 5953, 2569, 1587, 6185, 4533, 4587, 5270, 3299, 3064, 1412, 3054, 4807, 1248, 342, 1576, 6178, 6302, 6222, 1406, 4905, 2322, 5808, 5195, 1927, 3076, 715, 4668, 5057, 6182, 3851, 2491, 3414, 6042, 3628, 4027, 4240, 2856, 5016, 543, 6131, 2991, 6243, 5222, 4601, 3771, 2983, 283, 1925, 6087, 5631, 5515, 4492, 6266, 5100, 218, 1431, 1669, 4781, 5648, 5314, 5464, 2730, 2586, 3145, 5357, 5997, 3562, 5603, 6538, 5840, 4615, 2075, 1545, 140, 5887, 1110, 3255, 2769, 5476, 5481, 1515, 4213, 4460, 4174, 3089, 2240, 6345, 1705, 3634, 4636, 6343, 5392, 5839, 2853, 6240, 2348, 3356, 1499, 2345, 923, 3057, 6028, 397, 605, 1658, 4721, 3995, 4085, 4220, 2921, 1163, 6428, 3375, 3288, 5679, 1171, 4651, 718, 5008, 4469, 6485, 3390, 686, 2019, 3902, 5752, 2578, 787, 4886, 5182, 2366, 4196, 4538, 6416, 6403, 2505, 3550, 541, 2591, 3286, 1840, 6022, 1707, 4479, 5864, 3966, 5967, 3483, 1906, 2752, 4953, 71, 3745, 1373, 3452, 5240, 6544, 519, 4131, 6330, 5237, 2713, 6218, 5863, 3613, 6103, 4883, 2683, 506, 3535, 3246, 2609, 5890, 2099, 49, 261, 2648, 837, 5134, 5941, 304, 443, 1605, 3762, 6041, 3068, 5539, 1179, 3823, 1680, 806, 4152, 3304, 1589, 1664, 4993, 5795, 5288, 1825, 2498, 2746, 5969, 5705, 1993, 2411, 5235, 107, 3343, 5927, 6480, 5564, 1357, 2601, 3476, 2862, 4785, 1188, 6023, 5147, 1132, 2015, 3615, 2923, 5623, 1754, 2229, 2465, 1339, 1793, 5633, 3307, 5037, 3370, 6379, 1004, 550, 6059, 433, 2528, 1092, 4931, 5038, 4129, 2596, 2722, 4334, 1407, 4771, 2524, 5674, 136, 1051, 1032, 6409, 2239, 2697, 3935, 3887, 317, 5061, 3834, 4782, 3421, 1611, 1876, 962, 4903, 1761, 1985, 4802, 1986, 4062, 6194, 3124, 2016, 6507, 2645, 3572, 4468, 2516, 3797, 2397, 4607, 5434, 121, 5771, 1446, 5050, 4619, 3901, 47, 4570, 5463, 5474, 2748, 5668, 3085, 995, 4224, 3881, 2274, 3109, 4474, 4896, 5373, 3203, 3822, 953, 4059, 862, 1244, 2988, 507, 6466, 3326, 2064, 3365, 1747, 796, 2735, 3547, 1177, 1735, 3215, 3253, 2800, 2940, 3981, 3937, 437, 5757, 3872, 4995, 2401, 3228, 237, 5117, 2326, 596, 3433, 595, 5382, 5733, 3190, 1443, 3724, 2179, 1944, 3245, 1911, 3609, 4978, 3789, 5533, 3677, 5319, 4324, 2013, 480, 5810, 1526, 5886, 603, 3674, 2995, 1857, 5479, 2071, 3381, 5557, 4966, 1872, 4542, 4827, 4878, 3022]\n",
      "val ids:  [382, 2666, 4343, 6198, 1500, 28, 3924, 2794, 505, 928, 5961, 2445, 4869, 5029, 5216, 3313, 1573, 4478, 4076, 5726, 2967, 191, 1943, 4962, 2167, 6497, 1133, 2334, 5971, 5041, 5755, 2112, 6457, 4894, 117, 2808, 5650, 3606, 276, 2692, 4485, 3338, 14, 438, 4297, 3815, 1335, 4750, 1328, 1291, 4005, 4697, 2629, 515, 5236, 3575, 5185, 4305, 1759, 6128, 112, 6138, 2328, 5522, 3134, 3721, 3712, 647, 754, 4914, 2081, 1582, 4232, 63, 6292, 3237, 5606, 5062, 2971, 4686, 424, 766, 6515, 468, 2279, 54, 5731, 5852, 4815, 1766, 210, 5856, 3976, 2201, 6419, 2315, 5118, 6093, 3930, 3186, 2237, 5475, 1351, 5593, 6441, 5784, 6459, 2004, 4566, 3007, 5895, 3955, 3568, 1671, 4703, 807, 5977, 3161, 5381, 3256, 1623, 2272, 5709, 3636, 2387, 3956, 5356, 2968, 5078, 6350, 6175, 2169, 6110, 4367, 124, 3754, 3382, 1900, 2638, 5758, 562, 6384, 3152, 1657, 46, 2452, 1263, 5478, 5676, 2204, 4515, 1118, 2220, 3132, 270, 1438, 4695, 3659, 5141, 4983, 5637, 4858, 213, 4049, 30, 6201, 1931, 1828, 4942, 131, 2762, 2882, 3507, 3917, 521, 1091, 279, 3073, 3341, 3824, 1242, 4136, 6089, 3259, 5402, 5978, 5151, 2145, 6092, 1033, 32, 3393, 4584, 961, 154, 5568, 2532, 6047, 706, 2327, 5724, 2972, 1873, 6412, 4859, 5179, 4307, 2090, 4631, 2437, 1181, 6549, 4207, 4964, 4286, 3037, 2275, 4092, 4811, 3802, 3739, 2608, 4074, 3048, 3125, 3946, 2038, 645, 3478, 1581, 144, 3658, 5444, 3752, 2700, 692, 6357, 3980, 2468, 3205, 538, 6200, 5805, 3776, 4884, 5789, 4119, 1100, 266, 918, 1322, 5699, 3688, 1025, 3571, 1812, 4096, 2717, 6323, 5710, 4075, 3399, 4222, 1272, 4783, 1037, 3882, 2471, 431, 966, 5354, 4681, 4268, 588, 469, 3209, 2640, 226, 4003, 2947, 2091, 3518, 4117, 698, 6342, 5866, 6162, 3287, 5187, 4342, 3484, 5471, 3601, 2031, 1356, 1767, 5052, 4086, 5680, 1929, 3856, 2670, 3850, 3499, 6013, 3616, 4387, 5133, 4683, 2390, 4208, 844, 1449, 3183, 6101, 5132, 842, 4128, 5014, 4009, 3675, 4809, 2564, 3684, 1427, 5028, 5930, 470, 4722, 1755, 2527, 4171, 6272, 343, 2466, 57, 969, 4245, 5279, 6321, 1166, 1514, 3858, 917, 2384, 2807, 2447, 2605, 2156, 6443, 3329, 3268, 48, 1535, 239, 5189, 3314, 6482, 4267, 66, 4290, 1853, 2154, 2552, 3994, 4403, 3666, 4097, 3918, 2924, 644, 6250, 1952, 4535, 4739, 4283, 6095, 5281, 2753, 6460, 1596, 4804, 2023, 6046, 5853, 2153, 3466, 139, 5605, 6247, 1823, 4939, 3352, 5484, 4261, 1486, 4084, 6303, 1984, 6505, 872, 640, 1294, 2451, 513, 5224, 6324, 4030, 5258, 6025, 2323, 6206, 3645, 2235, 4193, 4812, 6529, 3441, 4303, 1930, 4696, 2496, 886, 2836, 3974, 4050, 2859, 426, 1510, 639, 5457, 1349, 2727, 1997, 2590, 5111, 5282, 2343, 6214, 4981, 4296, 3600, 4212, 129, 4994, 5355, 2037, 3020, 2355, 2492, 4064, 2473, 6520, 3090, 5421, 1134, 757, 5604, 5217, 4534, 3890, 5718, 2610, 2617, 4800, 2852, 3632, 5925, 1822, 864, 3213, 4659, 2560, 4237, 1771, 238, 258, 3923, 6468, 4047, 1369, 2987, 2287, 4546, 2086, 5186, 4957, 4042, 449, 1816, 5145, 4256, 764, 341, 5880, 5933, 4502, 2246, 228, 532, 5364, 1173, 6256, 5608, 3639, 1288, 224, 1459, 2265, 4040, 2403, 220, 3829, 6514, 3053, 4146, 1819, 4233, 3770, 4314, 599, 5714, 2956, 5400, 361, 2480, 1109, 2811, 2897, 2842, 4432, 1346, 2780, 4562, 1273, 2165, 51, 6160, 3063, 5114, 1835, 3175, 263, 3916, 1296, 3332, 375, 3773, 5438, 2307, 3893, 2342, 1299, 5504, 4271, 5200, 3422, 2572, 3454, 3221, 268, 2879, 6402, 5520, 533, 2101, 808, 4585, 4669, 6329, 5835, 6439, 1252, 2439, 4751, 5965, 1684, 3297, 1405, 3878, 3804, 3597, 2338, 1183, 5712, 6501, 5044, 6261, 5398, 4748, 3523, 2317, 2310, 5809, 4985, 2993, 5015, 4871, 1493, 5360, 1979, 2395, 97, 6224, 135, 585, 1251, 778, 6535, 233, 4855, 234, 1678, 2616, 5723, 475, 3920, 2224, 931, 4369, 6212, 183, 3497, 3763, 3472, 6177, 2662, 4622, 1016, 1832, 2797, 2751, 1856, 5585, 1820, 4078, 5138, 3346, 4642, 2073, 2594, 5922, 2362, 4488, 24, 1295, 113, 2661, 2197, 4278, 265, 4699, 5213, 5703, 2511, 1045, 604, 5996, 4908, 560, 5194, 2335, 3837, 2389, 6036, 2253, 3910, 2554, 3706, 4107, 235, 2575, 834, 2024, 1121, 683, 525, 514, 5751, 4277, 395, 4644, 4065, 2388, 374, 4889, 885, 2743, 4694, 3646, 5727, 4567, 4833, 4379, 945, 4170, 3716, 3732, 6033, 4057, 315, 1117, 1191, 277, 4025, 212, 4412, 4294, 3738, 4393, 3506, 3163, 1739, 4335, 2720, 2803, 5325, 3825, 1752, 3013, 2431, 5717, 2936, 5779, 5445, 4164, 5027, 702, 3747, 3928, 4897, 159, 1628, 4295, 1847, 5192, 1368, 2602, 1789, 313, 5962, 25, 388, 4627, 883, 6346, 1040, 1453, 6203, 3232, 142, 1652, 370, 6237, 2530, 1833, 2188, 3864, 20, 3862, 1868, 1831, 3685, 4726, 4109, 3751, 694, 4368, 1706, 1859, 1333, 3415, 3871, 4752, 4823, 4394, 6245, 4094, 690, 5287, 3252, 5439, 3746, 6088, 1379, 3457, 2908, 1841, 157, 5193, 1737, 6058, 1527, 2946, 434, 6125, 4790, 2155, 2316, 3787, 1487, 4364, 5849, 322, 1196, 1250, 3567, 5394, 5884, 5692, 466, 3128, 3912, 3689, 4916, 4398, 3328, 3766, 3091, 3733, 607, 2863, 691, 2273, 3591, 5098, 3391, 3954, 728, 6238, 4244, 4110, 3436, 4332, 5449, 1418, 1534, 2898, 6077, 1908, 770, 999, 5351, 5607, 6052, 3708, 4762, 1598, 3644, 1532, 1610, 141, 3172, 6119, 1863, 6453, 877, 2874, 4253, 161, 6129, 3265, 5208, 58, 1538, 5588, 3760, 3009, 887, 3633, 5955, 3602, 79, 3857, 1682, 5292, 2816, 3501, 4519, 16, 4505, 2535, 481, 5973, 5725, 5296, 3873, 1213, 2902, 1698, 1122, 3001, 1426, 3403, 1430, 6137, 6506, 6467, 2682, 1258, 6184, 4563, 6163, 390, 221, 2141, 2230, 4548, 5716, 2977, 2686, 3757, 2277, 4568, 3127, 5560, 5367, 5318, 4940, 2776, 1578, 4320, 4024, 2728, 956, 1626, 1088, 6166, 4188, 1865, 182, 4461, 5097, 4300, 4001, 2982, 3749, 6537, 1241, 6424, 805, 1579, 1413, 6208, 4943, 2802, 1435, 1492, 3448, 1200, 4852, 4793, 4397, 3482, 6264, 2361, 4377, 1111, 4991, 2057, 2824, 3989, 2243, 611, 2266, 6516, 4484, 1817, 2105, 4824, 3108, 2656, 21, 721, 2391, 4882, 4789, 3958, 180, 4704, 2817, 3081, 4819, 1899, 3318, 722, 1524, 2739, 771, 554, 5219, 3323, 3088, 4906, 150, 1018, 846, 5363, 3604, 6427, 5437, 215, 4414, 5562, 6090, 5857, 1594, 3904, 6102, 4413, 4816, 4322, 2432, 687, 2768, 1743, 6254, 6445, 914, 1283, 2888, 2337, 4055, 179, 1457, 2176, 5532, 3397, 2008, 3263, 3079, 3354, 4899, 5103, 4185, 3230, 1433, 3892, 5512, 835, 5065, 5601, 6270, 3250, 5556, 1604, 713, 1708, 291, 5947, 946, 4887, 3702, 5268, 6372, 26, 2765, 1699, 915, 1206, 4184, 4799, 2558, 5869, 6116, 6075, 2965, 1030, 4618, 1127, 5362, 836, 2725, 5225, 2719, 2929, 4000, 4443, 190, 3905, 4426, 3841, 3059, 6335, 3420, 4711, 4043, 2174, 2244, 4023, 5867, 3316, 3432, 1287, 6545, 4795, 1745, 4612, 3534, 1521, 6354, 6252, 3510, 1528, 1157, 6141, 5794, 4963, 4487, 2671, 4011, 2531, 1662, 5466, 1821, 6536, 1522, 1432, 5506, 1665, 924, 4639, 2547, 1359, 2652, 3969, 3331, 5349, 5338, 4349, 5943, 4058, 1933, 5842, 2582, 4671, 5180, 6437, 2121, 6462, 69, 2726, 1019, 4046, 3400, 2303, 1324, 1898, 3207, 590, 4707, 4926, 3756, 3014, 2223, 278, 2227, 3988, 2654, 6122, 3590, 5951, 2939, 763, 2022, 3817, 3004, 3695, 6034, 879, 674, 2969, 6458, 1980, 699, 2117, 5388, 1692, 4956, 1958, 4175, 429, 1675, 1082, 3283, 2674, 3219, 3485, 5453, 3840, 6386, 5071, 3759, 6139, 2603, 2192, 6288, 300, 1544, 1331, 3784, 555, 938, 5155, 460, 4528, 6364, 4063, 3566, 1770, 3673, 3274, 4775, 232, 2202, 3463, 5135, 4747, 4545, 2636, 4083, 2584, 3016, 5851, 5459, 3188, 1546, 1781, 3617, 3542, 878, 3178, 4215, 1616, 351, 2144, 1496, 884, 2994, 2883, 6263, 5054, 6305, 3929, 4913, 1909, 6487, 5708, 6273, 2261, 34, 4246, 4250, 3985, 4778, 4033, 4610, 616, 5223, 5454, 5154, 2679, 516, 2974, 1190, 290, 1710, 4549, 4454, 2248, 4698, 4473, 5324, 3549, 4705, 2639, 1282, 2093, 3971, 4602, 2485, 1484, 5143, 4218, 6043, 4249, 1893, 29, 4089, 156, 3683, 4448, 5942, 356, 4147, 3046, 31, 3943, 5046, 5293, 551, 4199, 6449, 2571, 930, 2301, 4071, 5399, 61, 3546, 281, 347, 5782, 293, 2819, 4409, 4982, 3809, 1329, 116, 3897, 6352, 5389, 3886, 123, 5764, 6031, 4904, 6548, 3028, 5051, 4523, 5765, 3351, 3631, 3931, 4649, 3561, 2506, 2549, 2809, 537, 5269, 1829, 3170, 5766, 922, 2441, 4310, 5298, 697, 1902, 4794, 4879, 3130, 4304, 2676, 3861, 2595, 3094, 5113, 4803, 2926, 2494, 2781, 6132, 6363, 5013, 1267, 194, 1360, 2742, 1513, 4586, 3234, 5628, 4451, 6426, 841, 3496, 1530, 4650, 2074, 941, 3750, 2647, 1779, 5209, 5105, 2488, 3379, 3142, 3074, 3042, 3067, 2196, 6369, 3069, 4506, 2336, 6220, 2565, 971, 1108, 1566, 6045, 5872, 2635, 2583, 1955, 1047, 1043, 4470, 3002, 3551, 3681, 6517, 5881, 3927, 4952, 6328, 5266, 458, 1915, 1009, 5783, 2116, 2408, 6011, 4395, 1416, 1502, 3859, 2892, 4527, 348, 3926, 4860, 5346, 2815, 5797, 6191, 1983, 6113, 5627, 5448, 2018, 3693, 3481, 4229, 1867, 1661, 4856, 2551, 5609, 2750, 925, 1375, 3394, 2143, 4421, 4333, 4363, 876, 3811, 1932, 3395, 889, 1187, 6360, 4236, 1818, 4932, 2087, 2406, 1035, 6511, 1193, 866, 1730, 427, 6030, 2694, 3136, 3455, 3430, 6418, 189, 3531, 5926, 2191, 5855, 2918, 5423, 1027, 2309, 5773, 4352, 2672, 4773, 6355, 3039, 791, 6488, 6319, 2416, 504, 5009, 1011, 1358, 287, 4372, 3050, 1195, 1456, 5778, 4551, 4309, 6452, 3997, 3311, 401, 1461, 5032, 4168, 6275, 4433, 2716, 1591, 363, 2901, 3309, 1284, 1696, 1619, 1201, 5891, 4614, 62, 3303, 2159, 102, 5058, 4289, 3038, 4658, 4408, 3334, 6274, 5393, 1085, 5104, 4599, 4457, 1168, 2339, 2067, 3627, 3302, 6259, 148, 227, 4606, 4951, 5893, 5218, 5713, 4814, 3665, 3340, 3505, 1905, 958, 5368, 68, 695, 1570, 750, 4308, 6210, 2474, 6423, 3830, 6408, 3849, 790, 1297, 3159, 1202, 6037, 3847, 3941, 5131, 6326, 561, 1922, 27, 5957, 6211, 874, 387, 6541, 4525, 1256, 5916, 77, 5343, 1895, 2184, 3720, 5936, 4997, 1928, 2667, 5599, 4604, 775, 685, 3694, 3979, 2173, 2848, 1239, 5688, 1417, 6008, 6512, 2082, 3726, 5204, 152, 5285, 3992, 2835, 6411, 1279, 589, 3120, 3993, 949, 4801, 1013, 2010, 6216, 2759, 2831, 2385, 2398, 2142, 2568, 3799, 3056, 5559, 3427, 5157, 4373, 5446, 2779, 4031, 1982, 5554, 4124, 3961, 399, 3475, 2637, 6510, 4456, 3846, 2823, 4865, 3808, 4970, 5641, 5487, 6358, 1192, 2347, 3312, 2007, 272, 3555, 355, 5952, 403, 186, 2932, 5587, 4792, 4038, 2412, 4630, 4386, 4006, 4522, 205, 3583, 3569, 5968, 1792, 5994, 5139, 994, 6336, 6528, 6524, 5531, 3767, 3429, 3807, 1624, 153, 3655, 2410, 3410, 5634, 4941, 2628, 3559, 4687, 2782, 3373, 4734, 5289, 873, 1756, 2830, 267, 6221, 5525, 2943, 1673, 1367, 1425, 5310, 1849, 3779, 2890, 2383, 4399, 2168, 6410, 5566, 1600, 2687, 2269, 2199, 530, 5304, 6157, 4317, 2858, 2838, 3047, 3963, 6465, 5722, 6024, 5760, 3775, 5465, 3330, 5514, 5205, 795, 5022, 4490, 1784, 3431, 4465, 1437, 1189, 4770, 373, 3855, 3718, 4370, 1247, 1087, 219, 4284, 3827, 2017, 4052, 3879, 2693, 4483, 1994, 6285, 1098, 3885, 2632, 1543, 3948, 3333, 6049, 5161, 4764, 5643, 786, 5181, 3774, 137, 1921, 5924, 2027, 2032, 1571, 3173, 4948, 4041, 4275, 2864, 2469, 854, 3953, 1101, 2241, 4825, 3661, 3339, 4056, 1672, 4467, 3900, 761, 2659, 5480, 307, 3131, 3643, 950, 1826, 6003, 1677, 5787, 4709, 4316, 2712, 4276, 1096, 4495, 3777, 3530, 3657, 6262, 1609, 5214, 5443, 2847, 1506, 3511, 4780, 4385, 3321, 556, 5875, 1584, 6126, 1999, 6525, 4503, 3744, 1992, 1031, 2714, 4710, 3078, 996, 1451, 3728, 1253, 474, 4270, 3462, 4371, 2854, 45, 1567, 1353, 4817, 5974, 3696, 108, 204, 4158, 5754, 5803, 3803, 1340, 2944, 1845, 461, 1734, 6526, 4464, 3679, 2515, 2567, 2886, 4160, 4617, 3165, 1648, 2771, 4073, 2108, 5273, 1903, 2845, 2098, 3908, 6433, 4226, 4928, 6130, 954, 6435, 394, 6301, 2521, 2744, 6219, 3876, 3144, 614, 5342, 3449, 2658, 3337, 398, 3440, 5938, 6278, 4902, 3991, 4354, 637, 3271, 4571, 5621, 1093, 2426, 5243, 851, 5954, 867, 1586, 2271, 4680, 2011, 4727, 3982, 6298, 4552, 5361, 5077, 1078, 432, 5507, 6339, 2225, 369, 149, 3826, 1697, 3367, 318, 3101, 2344, 1774, 1089, 110, 5638, 4716, 970, 5158, 3699, 1681, 5915, 4831, 2793, 4388, 4600, 2961, 4657, 5861, 2270, 3248, 5959, 5767, 542, 3095, 4666, 4462, 1674, 4987, 5602, 797, 50, 6486, 3290, 3691, 4248, 484, 3939, 4410, 5897, 2839, 3794, 3513, 6361, 4732, 3911, 3769, 2837, 3816, 4336, 3898, 6295, 1422, 2497, 3945, 3883, 2959, 2986, 1949, 2331, 4239, 3249, 6241, 3730, 155, 3697, 396, 5596, 1415, 316, 5844, 624, 5321, 1403, 3560, 3626, 1444, 5935, 1854, 5316, 3544, 1204, 4167, 4647, 5040, 4737, 2761, 594, 3315, 4634, 4718, 1347, 2534, 2026, 301, 785, 3884, 5569, 2741, 6165, 622, 1852, 1207, 3126, 4741, 35, 3579, 4159, 4172, 623, 4489, 6484, 5305, 5704, 5858, 1938, 2508, 4098, 3185, 2484, 3225, 2268, 4870, 2065, 2585, 5720, 5652, 5053, 1439, 5262, 2855, 3141, 890, 1107, 5972, 1649, 2827, 60, 4973, 3833, 5230, 2036, 3536, 3154, 1777, 3204, 4706, 5944, 4103, 3504, 3149, 2352, 5174, 601, 3563, 2221, 2198, 4179, 4306, 5107, 2513, 5023, 2607, 5123, 450, 4530, 4805, 101, 6521, 3742, 3642, 3843, 5228, 2588, 2814, 676, 4501, 3479, 755, 2593, 3006, 3612, 2308, 482, 6299, 1374, 4581, 3934, 3495, 6173, 3668, 610, 5229, 3915, 5396, 3967, 2958, 3649, 379, 5793, 3470, 2341, 309, 2475, 5833, 3148, 3922, 6530, 192, 5124, 4867, 553, 3451, 22, 6183, 6436, 2914, 6502, 3305, 3206, 4186, 4247, 2767, 311, 2805, 4424, 1953, 2517, 6532, 1751, 5033, 5191, 1424, 5503, 5467, 963, 4998, 4960, 4719, 3227, 2369, 5888, 5227, 5597, 5286, 6508, 4111, 4141, 3216, 2306, 1076, 4504, 5535, 1458, 5347, 939, 1989, 6406, 2960, 3180, 3737, 6290, 95, 5761, 559, 621, 1574, 6078, 2942, 5160, 756, 2851, 6171, 1827, 3075, 4209, 1866, 634, 4269, 5614, 3025, 3835, 2414, 4582, 4589, 5876, 2088, 5128, 3539, 5719, 5788, 2566, 875, 749, 4438, 3810, 4439, 5629, 5945, 5686, 2068, 5948, 1941, 2844, 1608, 960, 3247, 5801, 6546, 3384, 1003, 6124, 2000, 1655, 2205, 3903, 1289, 1243, 5882, 2035, 3589, 3875, 3344, 6348, 703, 1709, 6107, 359, 5870, 5322, 3355, 312, 2092, 2487, 2386, 6257, 3723, 2990, 4044, 319, 2711, 5096, 1162, 2424, 6205, 6039, 5845, 358, 376, 230, 4090, 1402, 4298, 2231, 441, 5878, 4486, 3260, 2346, 3670, 454, 3863, 3434, 3986, 2478, 5509, 2160, 6158, 3786, 3106, 4329, 944, 619, 4507, 2402, 472, 788, 587, 1758, 4724, 4662, 4544, 3651, 6489, 6359, 5153, 3243, 753, 6551, 5264, 3083, 3778, 2822, 3490, 4714, 2418, 5238, 2305, 6404, 1404, 934, 6461, 3709, 912, 642, 6446, 4378, 1022, 3437, 5707, 6209, 615, 2014, 5267, 845, 6134, 2795, 73, 1464, 1987, 5121, 3239, 3143, 5800, 2522, 5260, 4640, 3289, 6383, 6109, 4166, 4068, 4713, 2178, 207, 3211, 6351, 2172, 1125, 3458, 6454, 1778, 5815, 2453, 44, 1169, 2512, 4911, 5045, 3171, 1656, 5210, 2425, 2151, 1176, 2083, 4254, 4645, 2525, 726, 2696, 6142, 4082, 5642, 3514, 6135, 1161, 3202, 3587, 1330, 4972, 6438, 4779, 4834, 4112, 5428, 2284, 635, 6332, 127, 2435, 5309, 3275, 1002, 5390, 1123, 6118, 4362, 2756, 3322, 2394, 5529, 1773, 6547, 2056, 1660, 6320, 3951, 4564, 1264, 5150, 4531, 1746, 5527, 4690, 4053, 259, 5315, 1015, 5239, 3358, 6434, 4482, 540, 4776, 4161, 2832, 225, 4187, 3241, 6527, 5159, 4976, 5879, 4287, 187, 5119, 5913, 4880, 4857, 5043, 6197, 6304, 4907, 1602, 1618, 1126, 5932, 4282, 6174, 3629, 1442, 4986, 5369, 5756, 4876, 6481, 2118, 122, 5651, 6001, 2009, 6199, 1950, 3973, 632, 6522, 1870, 5812, 2553, 1851, 2392, 3735, 5068, 310, 1622, 3453, 2604, 4844, 1842, 2448, 2325, 2975, 2519, 4787, 509, 3889, 2094, 2778, 593, 4521, 208, 6021, 4850, 1583, 2029, 3761, 4313, 3137, 5685, 5280, 4938, 2330, 2321, 3092, 2973, 3618, 4463, 5370, 5538, 751, 3868, 3543, 5136, 5799, 1670, 3983, 4526, 2963, 688, 5424, 436, 1575, 5073, 6318, 2370, 4547, 4611, 2574, 4616, 4021, 3348, 4573, 6189, 3970, 4026, 1036, 3066, 1158, 1366, 2999, 2096, 4235, 78, 2102, 2931, 1275, 3023, 3537, 5348, 3705, 6215, 6026, 3594, 260, 2489, 1099, 5365, 5600, 2589, 4192, 3447, 3446, 1531, 544, 5425, 1336, 1428, 109, 1541, 3950, 314, 3387, 3110, 6170, 1214, 4243, 4415, 5031, 3528, 4274, 1830, 2356, 2729, 2189, 5956, 1733, 1293, 2002, 1595, 3532, 5877, 2358, 2162, 723, 3944, 693, 2880, 3520, 4767, 1094, 4898, 3229, 5024, 2357, 3474, 448, 4138, 2222, 2773, 5312, 6253, 3838, 1874, 160, 4685, 3347, 943, 2138, 783, 5586, 3907, 3577, 563, 5769, 6542, 2933, 306, 4225, 5613, 198, 3574, 349, 80, 1757, 6244, 503, 365, 3848, 3376, 5483, 2889, 3667, 1855, 937, 2104, 6006, 921, 4015, 4624, 1836, 3010, 598, 3231, 2182, 5146, 133, 6333, 5563, 1086, 5470, 1323, 5728, 3713, 5814, 1463, 5555, 5530, 4556, 6268, 3494, 2630, 3423, 321, 3736, 1184, 3867, 1112, 3051, 2499, 2039, 2363, 5039, 802, 3065, 2404, 455, 857, 5523, 3585, 264, 801, 3461, 4195, 1129, 5618, 1764, 357, 4380, 5611, 2777, 1260]\n",
      "test ids:  [0, 1, 2, 3, 4, 5, 6, 7, 8, 9, 10, 11, 12, 40, 81, 82, 83, 84, 85, 86, 87, 88, 89, 90, 91, 92, 93, 94, 120, 162, 163, 164, 165, 166, 167, 168, 169, 170, 171, 172, 173, 174, 175, 200, 243, 244, 245, 246, 247, 248, 249, 250, 251, 252, 253, 254, 255, 256, 257, 280, 324, 325, 326, 327, 328, 329, 330, 331, 332, 333, 334, 335, 336, 337, 338, 339, 360, 405, 406, 407, 408, 409, 410, 411, 412, 413, 414, 415, 416, 417, 418, 419, 420, 421, 440, 486, 487, 488, 489, 490, 491, 492, 493, 494, 495, 496, 497, 498, 499, 500, 501, 502, 520, 567, 568, 569, 570, 571, 572, 573, 574, 575, 576, 577, 578, 579, 580, 581, 582, 583, 584, 600, 648, 649, 650, 651, 652, 653, 654, 655, 656, 657, 658, 659, 660, 661, 662, 663, 664, 665, 666, 680, 729, 730, 731, 732, 733, 734, 735, 736, 737, 738, 739, 740, 741, 742, 743, 744, 745, 746, 747, 748, 760, 810, 811, 812, 813, 814, 815, 816, 817, 818, 819, 820, 821, 822, 823, 824, 825, 826, 827, 828, 829, 840, 891, 892, 893, 894, 895, 896, 897, 898, 899, 900, 901, 902, 903, 904, 905, 906, 907, 908, 909, 910, 911, 920, 972, 973, 974, 975, 976, 977, 978, 979, 980, 981, 982, 983, 984, 985, 986, 987, 988, 989, 990, 991, 992, 993, 1000, 1053, 1054, 1055, 1056, 1057, 1058, 1059, 1060, 1061, 1062, 1063, 1064, 1065, 1066, 1067, 1068, 1069, 1070, 1071, 1072, 1073, 1074, 1075, 1080, 1135, 1136, 1137, 1138, 1139, 1140, 1141, 1142, 1143, 1144, 1145, 1146, 1147, 1148, 1149, 1150, 1151, 1152, 1153, 1154, 1155, 1156, 1160, 1217, 1218, 1219, 1220, 1221, 1222, 1223, 1224, 1225, 1226, 1227, 1228, 1229, 1230, 1231, 1232, 1233, 1234, 1235, 1236, 1237, 1238, 1240, 1300, 1301, 1302, 1303, 1304, 1305, 1306, 1307, 1308, 1309, 1310, 1311, 1312, 1313, 1314, 1315, 1316, 1317, 1318, 1319, 1320, 1382, 1383, 1384, 1385, 1386, 1387, 1388, 1389, 1390, 1391, 1392, 1393, 1394, 1395, 1396, 1397, 1398, 1399, 1400, 1401, 1465, 1466, 1467, 1468, 1469, 1470, 1471, 1472, 1473, 1474, 1475, 1476, 1477, 1478, 1479, 1480, 1481, 1482, 1483, 1547, 1548, 1549, 1550, 1551, 1552, 1553, 1554, 1555, 1556, 1557, 1558, 1559, 1560, 1561, 1562, 1563, 1564, 1565, 1629, 1630, 1631, 1632, 1633, 1634, 1635, 1636, 1637, 1638, 1639, 1640, 1641, 1642, 1643, 1644, 1645, 1646, 1647, 1700, 1712, 1713, 1714, 1715, 1716, 1717, 1718, 1719, 1720, 1721, 1722, 1723, 1724, 1725, 1726, 1727, 1728, 1780, 1794, 1795, 1796, 1797, 1798, 1799, 1800, 1801, 1802, 1803, 1804, 1805, 1806, 1807, 1808, 1809, 1810, 1860, 1877, 1878, 1879, 1880, 1881, 1882, 1883, 1884, 1885, 1886, 1887, 1888, 1889, 1890, 1891, 1892, 1940, 1959, 1960, 1961, 1962, 1963, 1964, 1965, 1966, 1967, 1968, 1969, 1970, 1971, 1972, 1973, 1974, 2020, 2040, 2041, 2042, 2043, 2044, 2045, 2046, 2047, 2048, 2049, 2050, 2051, 2052, 2053, 2054, 2055, 2100, 2120, 2124, 2125, 2126, 2127, 2128, 2129, 2130, 2131, 2132, 2133, 2134, 2135, 2136, 2137, 2180, 2200, 2206, 2207, 2208, 2209, 2210, 2211, 2212, 2213, 2214, 2215, 2216, 2217, 2218, 2219, 2260, 2280, 2289, 2290, 2291, 2292, 2293, 2294, 2295, 2296, 2297, 2298, 2299, 2300, 2340, 2360, 2371, 2372, 2373, 2374, 2375, 2376, 2377, 2378, 2379, 2380, 2381, 2382, 2420, 2440, 2454, 2455, 2456, 2457, 2458, 2459, 2460, 2461, 2462, 2463, 2464, 2500, 2520, 2536, 2537, 2538, 2539, 2540, 2541, 2542, 2543, 2544, 2545, 2546, 2580, 2600, 2618, 2619, 2620, 2621, 2622, 2623, 2624, 2625, 2626, 2627, 2660, 2680, 2701, 2702, 2703, 2704, 2705, 2706, 2707, 2708, 2709, 2740, 2760, 2783, 2784, 2785, 2786, 2787, 2788, 2789, 2790, 2791, 2820, 2840, 2866, 2867, 2868, 2869, 2870, 2871, 2872, 2873, 2900, 2920, 2948, 2949, 2950, 2951, 2952, 2953, 2954, 2980, 3000, 3030, 3031, 3032, 3033, 3034, 3035, 3036, 3060, 3080, 3113, 3114, 3115, 3116, 3117, 3118, 3140, 3160, 3195, 3196, 3197, 3198, 3199, 3200, 3220, 3240, 3278, 3279, 3280, 3281, 3300, 3360, 3361, 3362, 3363, 3380, 3443, 3444, 3445, 3460, 3525, 3526, 3540, 3607, 3608, 3620, 3690, 3700, 3772, 3780, 3854, 3860, 3936, 3940, 4018, 4019, 4020, 4099, 4100, 4101, 4180, 4181, 4182, 4183, 4260, 4263, 4264, 4265, 4266, 4340, 4345, 4346, 4347, 4348, 4420, 4427, 4428, 4429, 4430, 4431, 4500, 4508, 4509, 4510, 4511, 4512, 4513, 4580, 4590, 4591, 4592, 4593, 4594, 4595, 4660, 4672, 4673, 4674, 4675, 4676, 4677, 4678, 4740, 4753, 4754, 4755, 4756, 4757, 4758, 4759, 4760, 4820, 4835, 4836, 4837, 4838, 4839, 4840, 4841, 4842, 4843, 4900, 4917, 4918, 4919, 4920, 4921, 4922, 4923, 4924, 4925, 4980, 4999, 5000, 5001, 5002, 5003, 5004, 5005, 5006, 5007, 5060, 5080, 5081, 5082, 5083, 5084, 5085, 5086, 5087, 5088, 5089, 5090, 5140, 5162, 5163, 5164, 5165, 5166, 5167, 5168, 5169, 5170, 5171, 5172, 5220, 5244, 5245, 5246, 5247, 5248, 5249, 5250, 5251, 5252, 5253, 5254, 5255, 5300, 5326, 5327, 5328, 5329, 5330, 5331, 5332, 5333, 5334, 5335, 5336, 5337, 5380, 5407, 5408, 5409, 5410, 5411, 5412, 5413, 5414, 5415, 5416, 5417, 5418, 5419, 5420, 5460, 5489, 5490, 5491, 5492, 5493, 5494, 5495, 5496, 5497, 5498, 5499, 5500, 5501, 5502, 5540, 5571, 5572, 5573, 5574, 5575, 5576, 5577, 5578, 5579, 5580, 5581, 5582, 5583, 5584, 5620, 5653, 5654, 5655, 5656, 5657, 5658, 5659, 5660, 5661, 5662, 5663, 5664, 5665, 5666, 5667, 5700, 5734, 5735, 5736, 5737, 5738, 5739, 5740, 5741, 5742, 5743, 5744, 5745, 5746, 5747, 5748, 5749, 5780, 5816, 5817, 5818, 5819, 5820, 5821, 5822, 5823, 5824, 5825, 5826, 5827, 5828, 5829, 5830, 5831, 5860, 5898, 5899, 5900, 5901, 5902, 5903, 5904, 5905, 5906, 5907, 5908, 5909, 5910, 5911, 5912, 5940, 5979, 5980, 5981, 5982, 5983, 5984, 5985, 5986, 5987, 5988, 5989, 5990, 5991, 5992, 5993, 6020, 6061, 6062, 6063, 6064, 6065, 6066, 6067, 6068, 6069, 6070, 6071, 6072, 6073, 6074, 6100, 6143, 6144, 6145, 6146, 6147, 6148, 6149, 6150, 6151, 6152, 6153, 6154, 6155, 6180, 6225, 6226, 6227, 6228, 6229, 6230, 6231, 6232, 6233, 6234, 6235, 6236, 6260, 6306, 6307, 6308, 6309, 6310, 6311, 6312, 6313, 6314, 6315, 6316, 6317, 6340, 6388, 6389, 6390, 6391, 6392, 6393, 6394, 6395, 6396, 6397, 6398, 6420, 6470, 6471, 6472, 6473, 6474, 6475, 6476, 6477, 6478, 6479, 6500, 6552, 6553, 6554, 6555, 6556, 6557, 6558, 6559, 6560]\n",
      "CPU times: user 173 ms, sys: 4 ms, total: 177 ms\n",
      "Wall time: 176 ms\n"
     ]
    }
   ],
   "source": [
    "%%time\n",
    "n_total = len(simulation.dataframe)\n",
    "n_train = len(simulation.dataframe[simulation.dataframe.type_of == \"train\"])\n",
    "n_val = len(simulation.dataframe[simulation.dataframe.type_of == \"val\"])\n",
    "n_test = len(simulation.dataframe[simulation.dataframe.type_of == \"test\"])\n",
    "n_train_hamiltonians = len(simulation.train_ids)\n",
    "n_val_hamiltonians = len(simulation.val_ids)\n",
    "n_test_hamiltonians = len(simulation.test_ids)\n",
    "n_total_hamiltonians = n_train_hamiltonians + n_val_hamiltonians + n_test_hamiltonians\n",
    "\n",
    "print(\"% train: \", n_train/n_total)\n",
    "print(\"% val: \",  n_val/n_total)\n",
    "print(\"% test: \", n_test/n_total)\n",
    "print(\"% train + val + test: \", (n_train+n_val+n_test)/n_total)\n",
    "print(\"\\n\")\n",
    "print(\"number of train hamiltonians: \", n_train_hamiltonians)\n",
    "print(\"number of val hamiltonians: \", n_val_hamiltonians)\n",
    "print(\"number of test hamiltonians: \", n_test_hamiltonians)\n",
    "print(\"total number of hamiltonians: \", n_total_hamiltonians)\n",
    "print(\"\\n\")\n",
    "print(\"train ids: \", simulation.train_ids)\n",
    "print(\"val ids: \", simulation.val_ids)\n",
    "print(\"test ids: \", simulation.test_ids)"
   ]
  },
  {
   "cell_type": "markdown",
   "metadata": {
    "papermill": {
     "duration": 0.037392,
     "end_time": "2020-07-09T19:23:22.817141",
     "exception": false,
     "start_time": "2020-07-09T19:23:22.779749",
     "status": "completed"
    },
    "tags": []
   },
   "source": [
    "#### Checking summaries"
   ]
  },
  {
   "cell_type": "code",
   "execution_count": 27,
   "metadata": {
    "execution": {
     "iopub.execute_input": "2020-07-09T19:23:22.892663Z",
     "iopub.status.busy": "2020-07-09T19:23:22.892345Z",
     "iopub.status.idle": "2020-07-09T19:23:22.911939Z",
     "shell.execute_reply": "2020-07-09T19:23:22.911668Z"
    },
    "papermill": {
     "duration": 0.057806,
     "end_time": "2020-07-09T19:23:22.911991",
     "exception": false,
     "start_time": "2020-07-09T19:23:22.854185",
     "status": "completed"
    },
    "tags": []
   },
   "outputs": [
    {
     "name": "stdout",
     "output_type": "stream",
     "text": [
      "length of ham_summary:  6561\n",
      "CPU times: user 51 µs, sys: 0 ns, total: 51 µs\n",
      "Wall time: 53.6 µs\n"
     ]
    },
    {
     "data": {
      "text/html": [
       "<div>\n",
       "<style scoped>\n",
       "    .dataframe tbody tr th:only-of-type {\n",
       "        vertical-align: middle;\n",
       "    }\n",
       "\n",
       "    .dataframe tbody tr th {\n",
       "        vertical-align: top;\n",
       "    }\n",
       "\n",
       "    .dataframe thead th {\n",
       "        text-align: right;\n",
       "    }\n",
       "</style>\n",
       "<table border=\"1\" class=\"dataframe\">\n",
       "  <thead>\n",
       "    <tr style=\"text-align: right;\">\n",
       "      <th></th>\n",
       "      <th>t1</th>\n",
       "      <th>t2</th>\n",
       "      <th>type_of</th>\n",
       "      <th>-1</th>\n",
       "      <th>0</th>\n",
       "      <th>1</th>\n",
       "      <th>2</th>\n",
       "      <th>phase</th>\n",
       "      <th>pred_phase</th>\n",
       "    </tr>\n",
       "    <tr>\n",
       "      <th>id</th>\n",
       "      <th></th>\n",
       "      <th></th>\n",
       "      <th></th>\n",
       "      <th></th>\n",
       "      <th></th>\n",
       "      <th></th>\n",
       "      <th></th>\n",
       "      <th></th>\n",
       "      <th></th>\n",
       "    </tr>\n",
       "  </thead>\n",
       "  <tbody>\n",
       "    <tr>\n",
       "      <th>0</th>\n",
       "      <td>-2.0</td>\n",
       "      <td>-2.00</td>\n",
       "      <td>test</td>\n",
       "      <td>0.23</td>\n",
       "      <td>0.42</td>\n",
       "      <td>0.29</td>\n",
       "      <td>0.06</td>\n",
       "      <td>999</td>\n",
       "      <td>0</td>\n",
       "    </tr>\n",
       "    <tr>\n",
       "      <th>1</th>\n",
       "      <td>-2.0</td>\n",
       "      <td>-1.95</td>\n",
       "      <td>test</td>\n",
       "      <td>0.27</td>\n",
       "      <td>0.43</td>\n",
       "      <td>0.25</td>\n",
       "      <td>0.05</td>\n",
       "      <td>-1</td>\n",
       "      <td>0</td>\n",
       "    </tr>\n",
       "    <tr>\n",
       "      <th>2</th>\n",
       "      <td>-2.0</td>\n",
       "      <td>-1.90</td>\n",
       "      <td>test</td>\n",
       "      <td>0.25</td>\n",
       "      <td>0.43</td>\n",
       "      <td>0.28</td>\n",
       "      <td>0.04</td>\n",
       "      <td>-1</td>\n",
       "      <td>0</td>\n",
       "    </tr>\n",
       "    <tr>\n",
       "      <th>3</th>\n",
       "      <td>-2.0</td>\n",
       "      <td>-1.85</td>\n",
       "      <td>test</td>\n",
       "      <td>0.30</td>\n",
       "      <td>0.40</td>\n",
       "      <td>0.27</td>\n",
       "      <td>0.03</td>\n",
       "      <td>-1</td>\n",
       "      <td>0</td>\n",
       "    </tr>\n",
       "    <tr>\n",
       "      <th>4</th>\n",
       "      <td>-2.0</td>\n",
       "      <td>-1.80</td>\n",
       "      <td>test</td>\n",
       "      <td>0.28</td>\n",
       "      <td>0.38</td>\n",
       "      <td>0.29</td>\n",
       "      <td>0.05</td>\n",
       "      <td>-1</td>\n",
       "      <td>0</td>\n",
       "    </tr>\n",
       "    <tr>\n",
       "      <th>...</th>\n",
       "      <td>...</td>\n",
       "      <td>...</td>\n",
       "      <td>...</td>\n",
       "      <td>...</td>\n",
       "      <td>...</td>\n",
       "      <td>...</td>\n",
       "      <td>...</td>\n",
       "      <td>...</td>\n",
       "      <td>...</td>\n",
       "    </tr>\n",
       "    <tr>\n",
       "      <th>6556</th>\n",
       "      <td>2.0</td>\n",
       "      <td>1.80</td>\n",
       "      <td>test</td>\n",
       "      <td>0.39</td>\n",
       "      <td>0.21</td>\n",
       "      <td>0.06</td>\n",
       "      <td>0.34</td>\n",
       "      <td>-1</td>\n",
       "      <td>-1</td>\n",
       "    </tr>\n",
       "    <tr>\n",
       "      <th>6557</th>\n",
       "      <td>2.0</td>\n",
       "      <td>1.85</td>\n",
       "      <td>test</td>\n",
       "      <td>0.39</td>\n",
       "      <td>0.16</td>\n",
       "      <td>0.08</td>\n",
       "      <td>0.37</td>\n",
       "      <td>-1</td>\n",
       "      <td>-1</td>\n",
       "    </tr>\n",
       "    <tr>\n",
       "      <th>6558</th>\n",
       "      <td>2.0</td>\n",
       "      <td>1.90</td>\n",
       "      <td>test</td>\n",
       "      <td>0.31</td>\n",
       "      <td>0.22</td>\n",
       "      <td>0.09</td>\n",
       "      <td>0.38</td>\n",
       "      <td>-1</td>\n",
       "      <td>2</td>\n",
       "    </tr>\n",
       "    <tr>\n",
       "      <th>6559</th>\n",
       "      <td>2.0</td>\n",
       "      <td>1.95</td>\n",
       "      <td>test</td>\n",
       "      <td>0.22</td>\n",
       "      <td>0.31</td>\n",
       "      <td>0.09</td>\n",
       "      <td>0.38</td>\n",
       "      <td>-1</td>\n",
       "      <td>2</td>\n",
       "    </tr>\n",
       "    <tr>\n",
       "      <th>6560</th>\n",
       "      <td>2.0</td>\n",
       "      <td>2.00</td>\n",
       "      <td>test</td>\n",
       "      <td>0.29</td>\n",
       "      <td>0.25</td>\n",
       "      <td>0.06</td>\n",
       "      <td>0.40</td>\n",
       "      <td>999</td>\n",
       "      <td>2</td>\n",
       "    </tr>\n",
       "  </tbody>\n",
       "</table>\n",
       "<p>6561 rows × 9 columns</p>\n",
       "</div>"
      ],
      "text/plain": [
       "       t1    t2 type_of    -1     0     1     2  phase  pred_phase\n",
       "id                                                                \n",
       "0    -2.0 -2.00    test  0.23  0.42  0.29  0.06    999           0\n",
       "1    -2.0 -1.95    test  0.27  0.43  0.25  0.05     -1           0\n",
       "2    -2.0 -1.90    test  0.25  0.43  0.28  0.04     -1           0\n",
       "3    -2.0 -1.85    test  0.30  0.40  0.27  0.03     -1           0\n",
       "4    -2.0 -1.80    test  0.28  0.38  0.29  0.05     -1           0\n",
       "...   ...   ...     ...   ...   ...   ...   ...    ...         ...\n",
       "6556  2.0  1.80    test  0.39  0.21  0.06  0.34     -1          -1\n",
       "6557  2.0  1.85    test  0.39  0.16  0.08  0.37     -1          -1\n",
       "6558  2.0  1.90    test  0.31  0.22  0.09  0.38     -1           2\n",
       "6559  2.0  1.95    test  0.22  0.31  0.09  0.38     -1           2\n",
       "6560  2.0  2.00    test  0.29  0.25  0.06  0.40    999           2\n",
       "\n",
       "[6561 rows x 9 columns]"
      ]
     },
     "execution_count": 27,
     "metadata": {},
     "output_type": "execute_result"
    }
   ],
   "source": [
    "%%time\n",
    "ham_summary = simulation.hamiltonian_summary\n",
    "print(\"length of ham_summary: \", len(ham_summary))\n",
    "ham_summary"
   ]
  },
  {
   "cell_type": "code",
   "execution_count": 28,
   "metadata": {
    "execution": {
     "iopub.execute_input": "2020-07-09T19:23:22.990180Z",
     "iopub.status.busy": "2020-07-09T19:23:22.989869Z",
     "iopub.status.idle": "2020-07-09T19:23:23.020580Z",
     "shell.execute_reply": "2020-07-09T19:23:23.020901Z"
    },
    "papermill": {
     "duration": 0.071301,
     "end_time": "2020-07-09T19:23:23.020968",
     "exception": false,
     "start_time": "2020-07-09T19:23:22.949667",
     "status": "completed"
    },
    "tags": []
   },
   "outputs": [
    {
     "data": {
      "text/html": [
       "<div>\n",
       "<style scoped>\n",
       "    .dataframe tbody tr th:only-of-type {\n",
       "        vertical-align: middle;\n",
       "    }\n",
       "\n",
       "    .dataframe tbody tr th {\n",
       "        vertical-align: top;\n",
       "    }\n",
       "\n",
       "    .dataframe thead th {\n",
       "        text-align: right;\n",
       "    }\n",
       "</style>\n",
       "<table border=\"1\" class=\"dataframe\">\n",
       "  <thead>\n",
       "    <tr style=\"text-align: right;\">\n",
       "      <th></th>\n",
       "      <th>t1</th>\n",
       "      <th>t2</th>\n",
       "      <th>-1</th>\n",
       "      <th>0</th>\n",
       "      <th>1</th>\n",
       "      <th>2</th>\n",
       "      <th>phase</th>\n",
       "      <th>pred_phase</th>\n",
       "    </tr>\n",
       "  </thead>\n",
       "  <tbody>\n",
       "    <tr>\n",
       "      <th>count</th>\n",
       "      <td>6561.000000</td>\n",
       "      <td>6.561000e+03</td>\n",
       "      <td>6561.000000</td>\n",
       "      <td>6561.000000</td>\n",
       "      <td>6561.000000</td>\n",
       "      <td>6561.000000</td>\n",
       "      <td>6561.000000</td>\n",
       "      <td>6561.000000</td>\n",
       "    </tr>\n",
       "    <tr>\n",
       "      <th>mean</th>\n",
       "      <td>0.000000</td>\n",
       "      <td>-4.331917e-18</td>\n",
       "      <td>0.196016</td>\n",
       "      <td>0.311168</td>\n",
       "      <td>0.308589</td>\n",
       "      <td>0.184228</td>\n",
       "      <td>28.045877</td>\n",
       "      <td>0.477061</td>\n",
       "    </tr>\n",
       "    <tr>\n",
       "      <th>std</th>\n",
       "      <td>1.169134</td>\n",
       "      <td>1.169134e+00</td>\n",
       "      <td>0.363242</td>\n",
       "      <td>0.433383</td>\n",
       "      <td>0.436459</td>\n",
       "      <td>0.358993</td>\n",
       "      <td>163.557011</td>\n",
       "      <td>1.020730</td>\n",
       "    </tr>\n",
       "    <tr>\n",
       "      <th>min</th>\n",
       "      <td>-2.000000</td>\n",
       "      <td>-2.000000e+00</td>\n",
       "      <td>0.000000</td>\n",
       "      <td>0.000000</td>\n",
       "      <td>0.000000</td>\n",
       "      <td>0.000000</td>\n",
       "      <td>-1.000000</td>\n",
       "      <td>-1.000000</td>\n",
       "    </tr>\n",
       "    <tr>\n",
       "      <th>25%</th>\n",
       "      <td>-1.000000</td>\n",
       "      <td>-1.000000e+00</td>\n",
       "      <td>0.000000</td>\n",
       "      <td>0.000000</td>\n",
       "      <td>0.000000</td>\n",
       "      <td>0.000000</td>\n",
       "      <td>0.000000</td>\n",
       "      <td>0.000000</td>\n",
       "    </tr>\n",
       "    <tr>\n",
       "      <th>50%</th>\n",
       "      <td>0.000000</td>\n",
       "      <td>0.000000e+00</td>\n",
       "      <td>0.000000</td>\n",
       "      <td>0.010000</td>\n",
       "      <td>0.010000</td>\n",
       "      <td>0.000000</td>\n",
       "      <td>1.000000</td>\n",
       "      <td>0.000000</td>\n",
       "    </tr>\n",
       "    <tr>\n",
       "      <th>75%</th>\n",
       "      <td>1.000000</td>\n",
       "      <td>1.000000e+00</td>\n",
       "      <td>0.130000</td>\n",
       "      <td>0.970000</td>\n",
       "      <td>0.980000</td>\n",
       "      <td>0.060000</td>\n",
       "      <td>1.000000</td>\n",
       "      <td>1.000000</td>\n",
       "    </tr>\n",
       "    <tr>\n",
       "      <th>max</th>\n",
       "      <td>2.000000</td>\n",
       "      <td>2.000000e+00</td>\n",
       "      <td>1.000000</td>\n",
       "      <td>1.000000</td>\n",
       "      <td>1.000000</td>\n",
       "      <td>1.000000</td>\n",
       "      <td>999.000000</td>\n",
       "      <td>2.000000</td>\n",
       "    </tr>\n",
       "  </tbody>\n",
       "</table>\n",
       "</div>"
      ],
      "text/plain": [
       "                t1            t2           -1            0            1  \\\n",
       "count  6561.000000  6.561000e+03  6561.000000  6561.000000  6561.000000   \n",
       "mean      0.000000 -4.331917e-18     0.196016     0.311168     0.308589   \n",
       "std       1.169134  1.169134e+00     0.363242     0.433383     0.436459   \n",
       "min      -2.000000 -2.000000e+00     0.000000     0.000000     0.000000   \n",
       "25%      -1.000000 -1.000000e+00     0.000000     0.000000     0.000000   \n",
       "50%       0.000000  0.000000e+00     0.000000     0.010000     0.010000   \n",
       "75%       1.000000  1.000000e+00     0.130000     0.970000     0.980000   \n",
       "max       2.000000  2.000000e+00     1.000000     1.000000     1.000000   \n",
       "\n",
       "                 2        phase   pred_phase  \n",
       "count  6561.000000  6561.000000  6561.000000  \n",
       "mean      0.184228    28.045877     0.477061  \n",
       "std       0.358993   163.557011     1.020730  \n",
       "min       0.000000    -1.000000    -1.000000  \n",
       "25%       0.000000     0.000000     0.000000  \n",
       "50%       0.000000     1.000000     0.000000  \n",
       "75%       0.060000     1.000000     1.000000  \n",
       "max       1.000000   999.000000     2.000000  "
      ]
     },
     "execution_count": 28,
     "metadata": {},
     "output_type": "execute_result"
    }
   ],
   "source": [
    "ham_summary.describe()"
   ]
  },
  {
   "cell_type": "code",
   "execution_count": 29,
   "metadata": {
    "execution": {
     "iopub.execute_input": "2020-07-09T19:23:23.099332Z",
     "iopub.status.busy": "2020-07-09T19:23:23.099023Z",
     "iopub.status.idle": "2020-07-09T19:23:23.113860Z",
     "shell.execute_reply": "2020-07-09T19:23:23.114114Z"
    },
    "papermill": {
     "duration": 0.054986,
     "end_time": "2020-07-09T19:23:23.114180",
     "exception": false,
     "start_time": "2020-07-09T19:23:23.059194",
     "status": "completed"
    },
    "tags": []
   },
   "outputs": [
    {
     "name": "stdout",
     "output_type": "stream",
     "text": [
      "length of ham_summary:  656100\n"
     ]
    },
    {
     "data": {
      "text/html": [
       "<div>\n",
       "<style scoped>\n",
       "    .dataframe tbody tr th:only-of-type {\n",
       "        vertical-align: middle;\n",
       "    }\n",
       "\n",
       "    .dataframe tbody tr th {\n",
       "        vertical-align: top;\n",
       "    }\n",
       "\n",
       "    .dataframe thead th {\n",
       "        text-align: right;\n",
       "    }\n",
       "</style>\n",
       "<table border=\"1\" class=\"dataframe\">\n",
       "  <thead>\n",
       "    <tr style=\"text-align: right;\">\n",
       "      <th></th>\n",
       "      <th>id</th>\n",
       "      <th>phase</th>\n",
       "      <th>pred_phase</th>\n",
       "      <th>type_of</th>\n",
       "    </tr>\n",
       "  </thead>\n",
       "  <tbody>\n",
       "    <tr>\n",
       "      <th>0</th>\n",
       "      <td>0</td>\n",
       "      <td>999</td>\n",
       "      <td>-1</td>\n",
       "      <td>test</td>\n",
       "    </tr>\n",
       "    <tr>\n",
       "      <th>1</th>\n",
       "      <td>0</td>\n",
       "      <td>999</td>\n",
       "      <td>-1</td>\n",
       "      <td>test</td>\n",
       "    </tr>\n",
       "    <tr>\n",
       "      <th>2</th>\n",
       "      <td>0</td>\n",
       "      <td>999</td>\n",
       "      <td>-1</td>\n",
       "      <td>test</td>\n",
       "    </tr>\n",
       "    <tr>\n",
       "      <th>3</th>\n",
       "      <td>0</td>\n",
       "      <td>999</td>\n",
       "      <td>-1</td>\n",
       "      <td>test</td>\n",
       "    </tr>\n",
       "    <tr>\n",
       "      <th>4</th>\n",
       "      <td>0</td>\n",
       "      <td>999</td>\n",
       "      <td>2</td>\n",
       "      <td>test</td>\n",
       "    </tr>\n",
       "    <tr>\n",
       "      <th>...</th>\n",
       "      <td>...</td>\n",
       "      <td>...</td>\n",
       "      <td>...</td>\n",
       "      <td>...</td>\n",
       "    </tr>\n",
       "    <tr>\n",
       "      <th>656095</th>\n",
       "      <td>6560</td>\n",
       "      <td>999</td>\n",
       "      <td>-1</td>\n",
       "      <td>test</td>\n",
       "    </tr>\n",
       "    <tr>\n",
       "      <th>656096</th>\n",
       "      <td>6560</td>\n",
       "      <td>999</td>\n",
       "      <td>-1</td>\n",
       "      <td>test</td>\n",
       "    </tr>\n",
       "    <tr>\n",
       "      <th>656097</th>\n",
       "      <td>6560</td>\n",
       "      <td>999</td>\n",
       "      <td>-1</td>\n",
       "      <td>test</td>\n",
       "    </tr>\n",
       "    <tr>\n",
       "      <th>656098</th>\n",
       "      <td>6560</td>\n",
       "      <td>999</td>\n",
       "      <td>1</td>\n",
       "      <td>test</td>\n",
       "    </tr>\n",
       "    <tr>\n",
       "      <th>656099</th>\n",
       "      <td>6560</td>\n",
       "      <td>999</td>\n",
       "      <td>1</td>\n",
       "      <td>test</td>\n",
       "    </tr>\n",
       "  </tbody>\n",
       "</table>\n",
       "<p>656100 rows × 4 columns</p>\n",
       "</div>"
      ],
      "text/plain": [
       "          id  phase  pred_phase type_of\n",
       "0          0    999          -1    test\n",
       "1          0    999          -1    test\n",
       "2          0    999          -1    test\n",
       "3          0    999          -1    test\n",
       "4          0    999           2    test\n",
       "...      ...    ...         ...     ...\n",
       "656095  6560    999          -1    test\n",
       "656096  6560    999          -1    test\n",
       "656097  6560    999          -1    test\n",
       "656098  6560    999           1    test\n",
       "656099  6560    999           1    test\n",
       "\n",
       "[656100 rows x 4 columns]"
      ]
     },
     "execution_count": 29,
     "metadata": {},
     "output_type": "execute_result"
    }
   ],
   "source": [
    "eigen_summary = simulation.eigenvector_summary\n",
    "print(\"length of ham_summary: \", len(eigen_summary))\n",
    "eigen_summary"
   ]
  },
  {
   "cell_type": "markdown",
   "metadata": {
    "papermill": {
     "duration": 0.038166,
     "end_time": "2020-07-09T19:23:23.190063",
     "exception": false,
     "start_time": "2020-07-09T19:23:23.151897",
     "status": "completed"
    },
    "tags": []
   },
   "source": [
    "#### Checking accuracies"
   ]
  },
  {
   "cell_type": "code",
   "execution_count": 30,
   "metadata": {
    "execution": {
     "iopub.execute_input": "2020-07-09T19:23:23.268048Z",
     "iopub.status.busy": "2020-07-09T19:23:23.267739Z",
     "iopub.status.idle": "2020-07-09T19:23:23.278143Z",
     "shell.execute_reply": "2020-07-09T19:23:23.278397Z"
    },
    "papermill": {
     "duration": 0.049325,
     "end_time": "2020-07-09T19:23:23.278465",
     "exception": false,
     "start_time": "2020-07-09T19:23:23.229140",
     "status": "completed"
    },
    "tags": []
   },
   "outputs": [
    {
     "data": {
      "text/plain": [
       "{'eigenvector_train': 0.999757334299167,\n",
       " 'eigenvector_val': 0.9667028985507247,\n",
       " 'eigenvector_test': 0.6505704307334109,\n",
       " 'hamiltonian_train': 1.0,\n",
       " 'hamiltonian_val': 0.9981884057971014,\n",
       " 'hamiltonian_test': 0.8766006984866124}"
      ]
     },
     "execution_count": 30,
     "metadata": {},
     "output_type": "execute_result"
    }
   ],
   "source": [
    "simulation.accuracy"
   ]
  },
  {
   "cell_type": "markdown",
   "metadata": {
    "papermill": {
     "duration": 0.036492,
     "end_time": "2020-07-09T19:23:23.351271",
     "exception": false,
     "start_time": "2020-07-09T19:23:23.314779",
     "status": "completed"
    },
    "tags": []
   },
   "source": [
    "#### Checking data stored in  memory"
   ]
  },
  {
   "cell_type": "code",
   "execution_count": 31,
   "metadata": {
    "execution": {
     "iopub.execute_input": "2020-07-09T19:23:23.427695Z",
     "iopub.status.busy": "2020-07-09T19:23:23.427384Z",
     "iopub.status.idle": "2020-07-09T19:23:23.437859Z",
     "shell.execute_reply": "2020-07-09T19:23:23.437528Z"
    },
    "papermill": {
     "duration": 0.049315,
     "end_time": "2020-07-09T19:23:23.437911",
     "exception": false,
     "start_time": "2020-07-09T19:23:23.388596",
     "status": "completed"
    },
    "tags": []
   },
   "outputs": [
    {
     "data": {
      "text/plain": [
       "[]"
      ]
     },
     "execution_count": 31,
     "metadata": {},
     "output_type": "execute_result"
    }
   ],
   "source": [
    "ham_summary_list = simulation.hamiltonian_summary_list\n",
    "ham_summary_list"
   ]
  },
  {
   "cell_type": "code",
   "execution_count": 32,
   "metadata": {
    "execution": {
     "iopub.execute_input": "2020-07-09T19:23:23.515763Z",
     "iopub.status.busy": "2020-07-09T19:23:23.515454Z",
     "iopub.status.idle": "2020-07-09T19:23:23.525738Z",
     "shell.execute_reply": "2020-07-09T19:23:23.525993Z"
    },
    "papermill": {
     "duration": 0.050332,
     "end_time": "2020-07-09T19:23:23.526060",
     "exception": false,
     "start_time": "2020-07-09T19:23:23.475728",
     "status": "completed"
    },
    "tags": []
   },
   "outputs": [
    {
     "data": {
      "text/plain": [
       "[]"
      ]
     },
     "execution_count": 32,
     "metadata": {},
     "output_type": "execute_result"
    }
   ],
   "source": [
    "eigen_summary_list = simulation.eigenvector_summary_list\n",
    "eigen_summary_list"
   ]
  },
  {
   "cell_type": "code",
   "execution_count": 33,
   "metadata": {
    "execution": {
     "iopub.execute_input": "2020-07-09T19:23:23.604050Z",
     "iopub.status.busy": "2020-07-09T19:23:23.603483Z",
     "iopub.status.idle": "2020-07-09T19:23:23.614162Z",
     "shell.execute_reply": "2020-07-09T19:23:23.614468Z"
    },
    "papermill": {
     "duration": 0.05062,
     "end_time": "2020-07-09T19:23:23.614533",
     "exception": false,
     "start_time": "2020-07-09T19:23:23.563913",
     "status": "completed"
    },
    "tags": []
   },
   "outputs": [
    {
     "data": {
      "text/plain": [
       "{'eigenvector_train': [],\n",
       " 'eigenvector_val': [],\n",
       " 'eigenvector_test': [],\n",
       " 'hamiltonian_train': [],\n",
       " 'hamiltonian_val': [],\n",
       " 'hamiltonian_test': []}"
      ]
     },
     "execution_count": 33,
     "metadata": {},
     "output_type": "execute_result"
    }
   ],
   "source": [
    "accuracy_list = simulation.accuracy_list\n",
    "accuracy_list"
   ]
  },
  {
   "cell_type": "code",
   "execution_count": null,
   "metadata": {
    "papermill": {
     "duration": 0.037202,
     "end_time": "2020-07-09T19:23:23.688786",
     "exception": false,
     "start_time": "2020-07-09T19:23:23.651584",
     "status": "completed"
    },
    "tags": []
   },
   "outputs": [],
   "source": []
  },
  {
   "cell_type": "code",
   "execution_count": null,
   "metadata": {
    "papermill": {
     "duration": 0.037668,
     "end_time": "2020-07-09T19:23:23.764348",
     "exception": false,
     "start_time": "2020-07-09T19:23:23.726680",
     "status": "completed"
    },
    "tags": []
   },
   "outputs": [],
   "source": []
  },
  {
   "cell_type": "code",
   "execution_count": 34,
   "metadata": {
    "execution": {
     "iopub.execute_input": "2020-07-09T19:23:23.840694Z",
     "iopub.status.busy": "2020-07-09T19:23:23.840375Z",
     "iopub.status.idle": "2020-07-09T19:23:23.849591Z",
     "shell.execute_reply": "2020-07-09T19:23:23.849896Z"
    },
    "papermill": {
     "duration": 0.048461,
     "end_time": "2020-07-09T19:23:23.849961",
     "exception": false,
     "start_time": "2020-07-09T19:23:23.801500",
     "status": "completed"
    },
    "tags": []
   },
   "outputs": [],
   "source": [
    "#simulation.fourier_matrix"
   ]
  },
  {
   "cell_type": "code",
   "execution_count": 35,
   "metadata": {
    "execution": {
     "iopub.execute_input": "2020-07-09T19:23:23.928920Z",
     "iopub.status.busy": "2020-07-09T19:23:23.928599Z",
     "iopub.status.idle": "2020-07-09T19:23:23.939096Z",
     "shell.execute_reply": "2020-07-09T19:23:23.938745Z"
    },
    "papermill": {
     "duration": 0.050937,
     "end_time": "2020-07-09T19:23:23.939150",
     "exception": false,
     "start_time": "2020-07-09T19:23:23.888213",
     "status": "completed"
    },
    "tags": []
   },
   "outputs": [],
   "source": [
    "#simulation.fourier_matrix.shape"
   ]
  },
  {
   "cell_type": "code",
   "execution_count": 36,
   "metadata": {
    "execution": {
     "iopub.execute_input": "2020-07-09T19:23:24.015522Z",
     "iopub.status.busy": "2020-07-09T19:23:24.015215Z",
     "iopub.status.idle": "2020-07-09T19:23:24.081577Z",
     "shell.execute_reply": "2020-07-09T19:23:24.083287Z"
    },
    "papermill": {
     "duration": 0.107319,
     "end_time": "2020-07-09T19:23:24.083587",
     "exception": false,
     "start_time": "2020-07-09T19:23:23.976268",
     "status": "completed"
    },
    "tags": []
   },
   "outputs": [],
   "source": [
    "#simulation.fourier_matrix[:,0]"
   ]
  },
  {
   "cell_type": "code",
   "execution_count": 37,
   "metadata": {
    "execution": {
     "iopub.execute_input": "2020-07-09T19:23:24.197019Z",
     "iopub.status.busy": "2020-07-09T19:23:24.196523Z",
     "iopub.status.idle": "2020-07-09T19:23:24.206713Z",
     "shell.execute_reply": "2020-07-09T19:23:24.206367Z"
    },
    "papermill": {
     "duration": 0.049902,
     "end_time": "2020-07-09T19:23:24.206768",
     "exception": false,
     "start_time": "2020-07-09T19:23:24.156866",
     "status": "completed"
    },
    "tags": []
   },
   "outputs": [],
   "source": [
    "#simulation.fourier_matrix[:,1]"
   ]
  },
  {
   "cell_type": "code",
   "execution_count": 38,
   "metadata": {
    "execution": {
     "iopub.execute_input": "2020-07-09T19:23:24.283369Z",
     "iopub.status.busy": "2020-07-09T19:23:24.282873Z",
     "iopub.status.idle": "2020-07-09T19:23:24.293238Z",
     "shell.execute_reply": "2020-07-09T19:23:24.292888Z"
    },
    "papermill": {
     "duration": 0.04937,
     "end_time": "2020-07-09T19:23:24.293291",
     "exception": false,
     "start_time": "2020-07-09T19:23:24.243921",
     "status": "completed"
    },
    "tags": []
   },
   "outputs": [],
   "source": [
    "#np.exp(-1j*2*np.pi*3/100)"
   ]
  },
  {
   "cell_type": "code",
   "execution_count": 39,
   "metadata": {
    "execution": {
     "iopub.execute_input": "2020-07-09T19:23:24.375099Z",
     "iopub.status.busy": "2020-07-09T19:23:24.374601Z",
     "iopub.status.idle": "2020-07-09T19:23:24.384684Z",
     "shell.execute_reply": "2020-07-09T19:23:24.384338Z"
    },
    "papermill": {
     "duration": 0.053288,
     "end_time": "2020-07-09T19:23:24.384737",
     "exception": false,
     "start_time": "2020-07-09T19:23:24.331449",
     "status": "completed"
    },
    "tags": []
   },
   "outputs": [],
   "source": [
    "#for i in range(1,50):\n",
    "#    print(\"\\n\")\n",
    "#    print(i)\n",
    "#    print(np.sum((np.real(simulation.fourier_matrix[:,i]) - np.real(simulation.fourier_matrix[:,-i]))**2))\n",
    "#    print(np.sum((np.imag(simulation.fourier_matrix[:,i])+ np.imag(simulation.fourier_matrix[:,-i]))**2))"
   ]
  },
  {
   "cell_type": "code",
   "execution_count": 40,
   "metadata": {
    "execution": {
     "iopub.execute_input": "2020-07-09T19:23:24.463377Z",
     "iopub.status.busy": "2020-07-09T19:23:24.462883Z",
     "iopub.status.idle": "2020-07-09T19:23:24.474832Z",
     "shell.execute_reply": "2020-07-09T19:23:24.475153Z"
    },
    "papermill": {
     "duration": 0.051617,
     "end_time": "2020-07-09T19:23:24.475220",
     "exception": false,
     "start_time": "2020-07-09T19:23:24.423603",
     "status": "completed"
    },
    "tags": []
   },
   "outputs": [],
   "source": [
    "#print(simulation.fourier_matrix[:,0])"
   ]
  },
  {
   "cell_type": "code",
   "execution_count": 41,
   "metadata": {
    "execution": {
     "iopub.execute_input": "2020-07-09T19:23:24.553979Z",
     "iopub.status.busy": "2020-07-09T19:23:24.553446Z",
     "iopub.status.idle": "2020-07-09T19:23:24.563501Z",
     "shell.execute_reply": "2020-07-09T19:23:24.563171Z"
    },
    "papermill": {
     "duration": 0.050148,
     "end_time": "2020-07-09T19:23:24.563553",
     "exception": false,
     "start_time": "2020-07-09T19:23:24.513405",
     "status": "completed"
    },
    "tags": []
   },
   "outputs": [],
   "source": [
    "#print(simulation.fourier_matrix[:,50])"
   ]
  },
  {
   "cell_type": "code",
   "execution_count": null,
   "metadata": {
    "papermill": {
     "duration": 0.03706,
     "end_time": "2020-07-09T19:23:24.637724",
     "exception": false,
     "start_time": "2020-07-09T19:23:24.600664",
     "status": "completed"
    },
    "tags": []
   },
   "outputs": [],
   "source": []
  }
 ],
 "metadata": {
  "celltoolbar": "Tags",
  "kernelspec": {
   "display_name": "ml_top_phases",
   "language": "python",
   "name": "ml_top_phases"
  },
  "language_info": {
   "codemirror_mode": {
    "name": "ipython",
    "version": 3
   },
   "file_extension": ".py",
   "mimetype": "text/x-python",
   "name": "python",
   "nbconvert_exporter": "python",
   "pygments_lexer": "ipython3",
   "version": "3.6.10"
  },
  "papermill": {
   "duration": 2323.496839,
   "end_time": "2020-07-09T19:23:24.786022",
   "environment_variables": {},
   "exception": null,
   "input_path": "0_simulation_template.ipynb",
   "output_path": "zzz_simulation_output_ssh2_1st_scenario_100_6561.ipynb",
   "parameters": {
    "allowed_windings": [
     -1,
     0,
     1,
     2
    ],
    "csv_path": "/home/rio/ssh_csvs/ssh2/periodic_100_6561.csv",
    "features_to_use": [
     0,
     1,
     2,
     3,
     4,
     5,
     6,
     7,
     8,
     9,
     10,
     11,
     12,
     13,
     14,
     40,
     42,
     43,
     44,
     45,
     46,
     47,
     48,
     49,
     50
    ],
    "fit_params": null,
    "fourier_features_to_use": null,
    "fourier_fillna": null,
    "fourier_mode": null,
    "fourier_normalize": null,
    "fourier_real": null,
    "model_kw": {
     "criterion": "entropy",
     "n_estimators": 25,
     "n_jobs": -1
    },
    "model_name": "RandomForestClassifier",
    "n_experiments": 100,
    "pred_params": null,
    "random_features": false,
    "random_state": 244854,
    "save_accuracy": true,
    "save_eigenvector": true,
    "save_hamiltonian": true,
    "save_models": true,
    "shuffle_features": false,
    "shuffle_rows": true,
    "simulation_dir": "/home/rio/ssh_simulations/ssh2/periodic_1st_scenario_100_6561",
    "start_n": 0,
    "store_in_lists": false,
    "val_split": 0.5
   },
   "start_time": "2020-07-09T18:44:41.289183",
   "version": "2.1.0"
  }
 },
 "nbformat": 4,
 "nbformat_minor": 2
}