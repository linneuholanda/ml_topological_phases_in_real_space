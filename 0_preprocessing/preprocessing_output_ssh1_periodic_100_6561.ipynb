{
 "cells": [
  {
   "cell_type": "markdown",
   "metadata": {
    "papermill": {
     "duration": 0.010436,
     "end_time": "2020-04-05T19:39:07.773467",
     "exception": false,
     "start_time": "2020-04-05T19:39:07.763031",
     "status": "completed"
    },
    "tags": []
   },
   "source": [
    "# Generate csv files \n"
   ]
  },
  {
   "cell_type": "markdown",
   "metadata": {
    "papermill": {
     "duration": 0.005957,
     "end_time": "2020-04-05T19:39:07.786177",
     "exception": false,
     "start_time": "2020-04-05T19:39:07.780220",
     "status": "completed"
    },
    "tags": []
   },
   "source": [
    "This notebook generates .csv files from a directory containing .dat files with Hamiltonian data. Each .dat file is assumed to be named as `\"H_t1_t2_winding.dat\"`.  "
   ]
  },
  {
   "cell_type": "code",
   "execution_count": 1,
   "metadata": {
    "execution": {
     "iopub.execute_input": "2020-04-05T19:39:07.802134Z",
     "iopub.status.busy": "2020-04-05T19:39:07.801044Z",
     "iopub.status.idle": "2020-04-05T19:39:08.008740Z",
     "shell.execute_reply": "2020-04-05T19:39:08.008398Z"
    },
    "papermill": {
     "duration": 0.216492,
     "end_time": "2020-04-05T19:39:08.008798",
     "exception": false,
     "start_time": "2020-04-05T19:39:07.792306",
     "status": "completed"
    },
    "tags": []
   },
   "outputs": [],
   "source": [
    "#from IPython.core.display import HTML\n",
    "#HTML(\"<script>Jupyter.notebook.kernel.restart()</script>\")\n",
    "%load_ext autoreload\n",
    "%autoreload 2\n",
    "\n",
    "from preprocessing import *"
   ]
  },
  {
   "cell_type": "markdown",
   "metadata": {
    "papermill": {
     "duration": 0.006022,
     "end_time": "2020-04-05T19:39:08.021576",
     "exception": false,
     "start_time": "2020-04-05T19:39:08.015554",
     "status": "completed"
    },
    "tags": []
   },
   "source": [
    "### Set the parameters below carefully"
   ]
  },
  {
   "cell_type": "code",
   "execution_count": 2,
   "metadata": {
    "execution": {
     "iopub.execute_input": "2020-04-05T19:39:08.035907Z",
     "iopub.status.busy": "2020-04-05T19:39:08.035596Z",
     "iopub.status.idle": "2020-04-05T19:39:08.042603Z",
     "shell.execute_reply": "2020-04-05T19:39:08.042286Z"
    },
    "papermill": {
     "duration": 0.014936,
     "end_time": "2020-04-05T19:39:08.042654",
     "exception": false,
     "start_time": "2020-04-05T19:39:08.027718",
     "status": "completed"
    },
    "tags": [
     "parameters"
    ]
   },
   "outputs": [
    {
     "name": "stdout",
     "output_type": "stream",
     "text": [
      "CPU times: user 2 µs, sys: 1e+03 ns, total: 3 µs\n",
      "Wall time: 4.53 µs\n"
     ]
    }
   ],
   "source": [
    "%%time\n",
    "#grid_folder = \"/home/linneu/ssh_grids/ssh1/periodic_100_6561\"\n",
    "grid_folder = \"/home/rio/ssh_grids/ssh1/periodic_100_6561\"\n",
    "allowed_windings = [0,1]\n",
    "epsilon = 0.01\n",
    "#csv_name = \"/home/linneu/ssh_csvs/ssh1/periodic_100_6561.csv\"\n",
    "csv_dir = \"/home/rio/ssh_csvs/ssh1\"\n",
    "csv_name = \"periodic_100_6561\" \n"
   ]
  },
  {
   "cell_type": "code",
   "execution_count": 3,
   "metadata": {
    "execution": {
     "iopub.execute_input": "2020-04-05T19:39:08.060444Z",
     "iopub.status.busy": "2020-04-05T19:39:08.060133Z",
     "iopub.status.idle": "2020-04-05T19:39:08.133085Z",
     "shell.execute_reply": "2020-04-05T19:39:08.134817Z"
    },
    "papermill": {
     "duration": 0.086338,
     "end_time": "2020-04-05T19:39:08.135129",
     "exception": false,
     "start_time": "2020-04-05T19:39:08.048791",
     "status": "completed"
    },
    "tags": [
     "injected-parameters"
    ]
   },
   "outputs": [],
   "source": [
    "# Parameters\n",
    "allowed_windings = [0, 1]\n",
    "epsilon = 0.01\n",
    "csv_dir = \"/home/rio/ssh_csvs/ssh1\"\n",
    "grid_folder = \"/home/rio/ssh_grids/ssh1/periodic_100_6561\"\n",
    "csv_name = \"periodic_100_6561.csv\"\n"
   ]
  },
  {
   "cell_type": "code",
   "execution_count": 4,
   "metadata": {
    "execution": {
     "iopub.execute_input": "2020-04-05T19:39:08.185699Z",
     "iopub.status.busy": "2020-04-05T19:39:08.184836Z",
     "iopub.status.idle": "2020-04-05T19:40:10.234016Z",
     "shell.execute_reply": "2020-04-05T19:40:10.234322Z"
    },
    "papermill": {
     "duration": 62.065868,
     "end_time": "2020-04-05T19:40:10.234387",
     "exception": false,
     "start_time": "2020-04-05T19:39:08.168519",
     "status": "completed"
    },
    "tags": []
   },
   "outputs": [
    {
     "name": "stderr",
     "output_type": "stream",
     "text": [
      "\r",
      "loading hamiltonians:   0%|          | 0/6561 [00:00<?, ?it/s]"
     ]
    },
    {
     "name": "stderr",
     "output_type": "stream",
     "text": [
      "\r",
      "loading hamiltonians:   2%|▏         | 124/6561 [00:00<00:05, 1237.29it/s]"
     ]
    },
    {
     "name": "stderr",
     "output_type": "stream",
     "text": [
      "\r",
      "loading hamiltonians:   4%|▍         | 261/6561 [00:00<00:04, 1272.77it/s]"
     ]
    },
    {
     "name": "stderr",
     "output_type": "stream",
     "text": [
      "\r",
      "loading hamiltonians:   6%|▌         | 381/6561 [00:00<00:04, 1248.95it/s]"
     ]
    },
    {
     "name": "stderr",
     "output_type": "stream",
     "text": [
      "\r",
      "loading hamiltonians:   8%|▊         | 516/6561 [00:00<00:04, 1277.41it/s]"
     ]
    },
    {
     "name": "stderr",
     "output_type": "stream",
     "text": [
      "\r",
      "loading hamiltonians:  10%|▉         | 637/6561 [00:00<00:04, 1255.58it/s]"
     ]
    },
    {
     "name": "stderr",
     "output_type": "stream",
     "text": [
      "\r",
      "loading hamiltonians:  12%|█▏        | 772/6561 [00:00<00:04, 1281.56it/s]"
     ]
    },
    {
     "name": "stderr",
     "output_type": "stream",
     "text": [
      "\r",
      "loading hamiltonians:  14%|█▎        | 886/6561 [00:00<00:06, 890.78it/s] "
     ]
    },
    {
     "name": "stderr",
     "output_type": "stream",
     "text": [
      "\r",
      "loading hamiltonians:  16%|█▌        | 1024/6561 [00:00<00:05, 995.88it/s]"
     ]
    },
    {
     "name": "stderr",
     "output_type": "stream",
     "text": [
      "\r",
      "loading hamiltonians:  18%|█▊        | 1149/6561 [00:01<00:05, 1059.00it/s]"
     ]
    },
    {
     "name": "stderr",
     "output_type": "stream",
     "text": [
      "\r",
      "loading hamiltonians:  20%|█▉        | 1289/6561 [00:01<00:04, 1141.32it/s]"
     ]
    },
    {
     "name": "stderr",
     "output_type": "stream",
     "text": [
      "\r",
      "loading hamiltonians:  22%|██▏       | 1413/6561 [00:01<00:04, 1168.68it/s]"
     ]
    },
    {
     "name": "stderr",
     "output_type": "stream",
     "text": [
      "\r",
      "loading hamiltonians:  23%|██▎       | 1541/6561 [00:01<00:04, 1189.66it/s]"
     ]
    },
    {
     "name": "stderr",
     "output_type": "stream",
     "text": [
      "\r",
      "loading hamiltonians:  26%|██▌       | 1681/6561 [00:01<00:03, 1244.85it/s]"
     ]
    },
    {
     "name": "stderr",
     "output_type": "stream",
     "text": [
      "\r",
      "loading hamiltonians:  28%|██▊       | 1809/6561 [00:01<00:06, 718.22it/s] "
     ]
    },
    {
     "name": "stderr",
     "output_type": "stream",
     "text": [
      "\r",
      "loading hamiltonians:  30%|██▉       | 1949/6561 [00:01<00:05, 840.58it/s]"
     ]
    },
    {
     "name": "stderr",
     "output_type": "stream",
     "text": [
      "\r",
      "loading hamiltonians:  32%|███▏      | 2073/6561 [00:01<00:04, 930.25it/s]"
     ]
    },
    {
     "name": "stderr",
     "output_type": "stream",
     "text": [
      "\r",
      "loading hamiltonians:  34%|███▎      | 2213/6561 [00:02<00:04, 1033.09it/s]"
     ]
    },
    {
     "name": "stderr",
     "output_type": "stream",
     "text": [
      "\r",
      "loading hamiltonians:  36%|███▌      | 2338/6561 [00:02<00:03, 1089.66it/s]"
     ]
    },
    {
     "name": "stderr",
     "output_type": "stream",
     "text": [
      "\r",
      "loading hamiltonians:  38%|███▊      | 2472/6561 [00:02<00:03, 1133.95it/s]"
     ]
    },
    {
     "name": "stderr",
     "output_type": "stream",
     "text": [
      "\r",
      "loading hamiltonians:  40%|███▉      | 2612/6561 [00:02<00:03, 1199.18it/s]"
     ]
    },
    {
     "name": "stderr",
     "output_type": "stream",
     "text": [
      "\r",
      "loading hamiltonians:  42%|████▏     | 2741/6561 [00:02<00:06, 587.65it/s] "
     ]
    },
    {
     "name": "stderr",
     "output_type": "stream",
     "text": [
      "\r",
      "loading hamiltonians:  44%|████▍     | 2881/6561 [00:02<00:05, 710.96it/s]"
     ]
    },
    {
     "name": "stderr",
     "output_type": "stream",
     "text": [
      "\r",
      "loading hamiltonians:  46%|████▌     | 3005/6561 [00:03<00:04, 815.01it/s]"
     ]
    },
    {
     "name": "stderr",
     "output_type": "stream",
     "text": [
      "\r",
      "loading hamiltonians:  48%|████▊     | 3144/6561 [00:03<00:03, 930.15it/s]"
     ]
    },
    {
     "name": "stderr",
     "output_type": "stream",
     "text": [
      "\r",
      "loading hamiltonians:  50%|████▉     | 3269/6561 [00:03<00:03, 1007.09it/s]"
     ]
    },
    {
     "name": "stderr",
     "output_type": "stream",
     "text": [
      "\r",
      "loading hamiltonians:  52%|█████▏    | 3403/6561 [00:03<00:02, 1069.91it/s]"
     ]
    },
    {
     "name": "stderr",
     "output_type": "stream",
     "text": [
      "\r",
      "loading hamiltonians:  54%|█████▍    | 3543/6561 [00:03<00:02, 1149.78it/s]"
     ]
    },
    {
     "name": "stderr",
     "output_type": "stream",
     "text": [
      "\r",
      "loading hamiltonians:  56%|█████▌    | 3672/6561 [00:04<00:05, 495.42it/s] "
     ]
    },
    {
     "name": "stderr",
     "output_type": "stream",
     "text": [
      "\r",
      "loading hamiltonians:  58%|█████▊    | 3809/6561 [00:04<00:04, 611.91it/s]"
     ]
    },
    {
     "name": "stderr",
     "output_type": "stream",
     "text": [
      "\r",
      "loading hamiltonians:  60%|█████▉    | 3927/6561 [00:04<00:03, 714.93it/s]"
     ]
    },
    {
     "name": "stderr",
     "output_type": "stream",
     "text": [
      "\r",
      "loading hamiltonians:  62%|██████▏   | 4062/6561 [00:04<00:03, 831.75it/s]"
     ]
    },
    {
     "name": "stderr",
     "output_type": "stream",
     "text": [
      "\r",
      "loading hamiltonians:  64%|██████▎   | 4182/6561 [00:04<00:02, 915.93it/s]"
     ]
    },
    {
     "name": "stderr",
     "output_type": "stream",
     "text": [
      "\r",
      "loading hamiltonians:  66%|██████▌   | 4318/6561 [00:04<00:02, 1015.11it/s]"
     ]
    },
    {
     "name": "stderr",
     "output_type": "stream",
     "text": [
      "\r",
      "loading hamiltonians:  68%|██████▊   | 4442/6561 [00:04<00:01, 1066.56it/s]"
     ]
    },
    {
     "name": "stderr",
     "output_type": "stream",
     "text": [
      "\r",
      "loading hamiltonians:  70%|██████▉   | 4579/6561 [00:04<00:01, 1141.53it/s]"
     ]
    },
    {
     "name": "stderr",
     "output_type": "stream",
     "text": [
      "\r",
      "loading hamiltonians:  72%|███████▏  | 4706/6561 [00:04<00:01, 1161.59it/s]"
     ]
    },
    {
     "name": "stderr",
     "output_type": "stream",
     "text": [
      "\r",
      "loading hamiltonians:  74%|███████▎  | 4832/6561 [00:05<00:04, 405.64it/s] "
     ]
    },
    {
     "name": "stderr",
     "output_type": "stream",
     "text": [
      "\r",
      "loading hamiltonians:  75%|███████▌  | 4939/6561 [00:05<00:03, 498.29it/s]"
     ]
    },
    {
     "name": "stderr",
     "output_type": "stream",
     "text": [
      "\r",
      "loading hamiltonians:  77%|███████▋  | 5059/6561 [00:05<00:02, 604.17it/s]"
     ]
    },
    {
     "name": "stderr",
     "output_type": "stream",
     "text": [
      "\r",
      "loading hamiltonians:  79%|███████▉  | 5181/6561 [00:05<00:01, 707.36it/s]"
     ]
    },
    {
     "name": "stderr",
     "output_type": "stream",
     "text": [
      "\r",
      "loading hamiltonians:  81%|████████  | 5318/6561 [00:06<00:01, 827.05it/s]"
     ]
    },
    {
     "name": "stderr",
     "output_type": "stream",
     "text": [
      "\r",
      "loading hamiltonians:  83%|████████▎ | 5439/6561 [00:06<00:01, 913.04it/s]"
     ]
    },
    {
     "name": "stderr",
     "output_type": "stream",
     "text": [
      "\r",
      "loading hamiltonians:  85%|████████▍ | 5566/6561 [00:06<00:00, 995.22it/s]"
     ]
    },
    {
     "name": "stderr",
     "output_type": "stream",
     "text": [
      "\r",
      "loading hamiltonians:  87%|████████▋ | 5687/6561 [00:06<00:00, 1042.71it/s]"
     ]
    },
    {
     "name": "stderr",
     "output_type": "stream",
     "text": [
      "\r",
      "loading hamiltonians:  89%|████████▉ | 5824/6561 [00:06<00:00, 1121.64it/s]"
     ]
    },
    {
     "name": "stderr",
     "output_type": "stream",
     "text": [
      "\r",
      "loading hamiltonians:  91%|█████████ | 5949/6561 [00:06<00:00, 1144.41it/s]"
     ]
    },
    {
     "name": "stderr",
     "output_type": "stream",
     "text": [
      "\r",
      "loading hamiltonians:  93%|█████████▎| 6085/6561 [00:06<00:00, 1200.18it/s]"
     ]
    },
    {
     "name": "stderr",
     "output_type": "stream",
     "text": [
      "\r",
      "loading hamiltonians:  95%|█████████▍| 6212/6561 [00:07<00:01, 340.45it/s] "
     ]
    },
    {
     "name": "stderr",
     "output_type": "stream",
     "text": [
      "\r",
      "loading hamiltonians:  97%|█████████▋| 6349/6561 [00:07<00:00, 439.39it/s]"
     ]
    },
    {
     "name": "stderr",
     "output_type": "stream",
     "text": [
      "\r",
      "loading hamiltonians:  99%|█████████▊| 6469/6561 [00:07<00:00, 541.95it/s]"
     ]
    },
    {
     "name": "stderr",
     "output_type": "stream",
     "text": [
      "\r",
      "loading hamiltonians: 100%|██████████| 6561/6561 [00:07<00:00, 824.37it/s]"
     ]
    },
    {
     "name": "stderr",
     "output_type": "stream",
     "text": [
      "\n"
     ]
    },
    {
     "name": "stdout",
     "output_type": "stream",
     "text": [
      "shape of raw_data:  (656100, 104)\n",
      "len list_of_hamiltonians:  6561\n"
     ]
    },
    {
     "name": "stdout",
     "output_type": "stream",
     "text": [
      "CPU times: user 57.1 s, sys: 5.02 s, total: 1min 2s\n",
      "Wall time: 1min 2s\n"
     ]
    }
   ],
   "source": [
    "%%time\n",
    "list_of_hamiltonians, raw_data = load_hamiltonians(grid_folder)\n",
    "print(\"shape of raw_data: \", raw_data.shape)\n",
    "print(\"len list_of_hamiltonians: \", len(list_of_hamiltonians))\n",
    "\n",
    "dataframe = make_dataframe(raw_data, list_of_hamiltonians, allowed_windings = allowed_windings, epsilon = epsilon, \\\n",
    "                           csv_dir=csv_dir, csv_name = csv_name)"
   ]
  },
  {
   "cell_type": "code",
   "execution_count": 5,
   "metadata": {
    "execution": {
     "iopub.execute_input": "2020-04-05T19:40:10.266605Z",
     "iopub.status.busy": "2020-04-05T19:40:10.266250Z",
     "iopub.status.idle": "2020-04-05T19:40:10.296066Z",
     "shell.execute_reply": "2020-04-05T19:40:10.296347Z"
    },
    "papermill": {
     "duration": 0.0466,
     "end_time": "2020-04-05T19:40:10.296424",
     "exception": false,
     "start_time": "2020-04-05T19:40:10.249824",
     "status": "completed"
    },
    "tags": []
   },
   "outputs": [
    {
     "name": "stdout",
     "output_type": "stream",
     "text": [
      "<class 'pandas.core.frame.DataFrame'>\n",
      "RangeIndex: 656100 entries, 0 to 656099\n",
      "Columns: 108 entries, id to feat99\n",
      "dtypes: float64(3), int32(1), int64(2), object(102)\n",
      "memory usage: 538.1+ MB\n"
     ]
    },
    {
     "data": {
      "text/html": [
       "<div>\n",
       "<style scoped>\n",
       "    .dataframe tbody tr th:only-of-type {\n",
       "        vertical-align: middle;\n",
       "    }\n",
       "\n",
       "    .dataframe tbody tr th {\n",
       "        vertical-align: top;\n",
       "    }\n",
       "\n",
       "    .dataframe thead th {\n",
       "        text-align: right;\n",
       "    }\n",
       "</style>\n",
       "<table border=\"1\" class=\"dataframe\">\n",
       "  <thead>\n",
       "    <tr style=\"text-align: right;\">\n",
       "      <th></th>\n",
       "      <th>id</th>\n",
       "      <th>path</th>\n",
       "      <th>t1</th>\n",
       "      <th>t2</th>\n",
       "      <th>winding</th>\n",
       "      <th>phase</th>\n",
       "      <th>pred_phase</th>\n",
       "      <th>type_of</th>\n",
       "      <th>feat0</th>\n",
       "      <th>feat1</th>\n",
       "      <th>...</th>\n",
       "      <th>feat90</th>\n",
       "      <th>feat91</th>\n",
       "      <th>feat92</th>\n",
       "      <th>feat93</th>\n",
       "      <th>feat94</th>\n",
       "      <th>feat95</th>\n",
       "      <th>feat96</th>\n",
       "      <th>feat97</th>\n",
       "      <th>feat98</th>\n",
       "      <th>feat99</th>\n",
       "    </tr>\n",
       "  </thead>\n",
       "  <tbody>\n",
       "    <tr>\n",
       "      <th>0</th>\n",
       "      <td>0</td>\n",
       "      <td>H_-2_-2_0.509296.dat</td>\n",
       "      <td>-2.0</td>\n",
       "      <td>-2.0</td>\n",
       "      <td>0.509296</td>\n",
       "      <td>999</td>\n",
       "      <td>666</td>\n",
       "      <td>test</td>\n",
       "      <td>0.100000</td>\n",
       "      <td>0.100000</td>\n",
       "      <td>...</td>\n",
       "      <td>0.100000</td>\n",
       "      <td>0.100000</td>\n",
       "      <td>0.100000</td>\n",
       "      <td>0.100000</td>\n",
       "      <td>0.100000</td>\n",
       "      <td>0.100000</td>\n",
       "      <td>0.100000</td>\n",
       "      <td>0.100000</td>\n",
       "      <td>0.100000</td>\n",
       "      <td>0.100000</td>\n",
       "    </tr>\n",
       "    <tr>\n",
       "      <th>1</th>\n",
       "      <td>0</td>\n",
       "      <td>H_-2_-2_0.509296.dat</td>\n",
       "      <td>-2.0</td>\n",
       "      <td>-2.0</td>\n",
       "      <td>0.509296</td>\n",
       "      <td>999</td>\n",
       "      <td>666</td>\n",
       "      <td>test</td>\n",
       "      <td>0.141421</td>\n",
       "      <td>0.141142</td>\n",
       "      <td>...</td>\n",
       "      <td>0.114412</td>\n",
       "      <td>0.108967</td>\n",
       "      <td>0.123928</td>\n",
       "      <td>0.119406</td>\n",
       "      <td>0.131490</td>\n",
       "      <td>0.127962</td>\n",
       "      <td>0.136978</td>\n",
       "      <td>0.134500</td>\n",
       "      <td>0.140306</td>\n",
       "      <td>0.138916</td>\n",
       "    </tr>\n",
       "    <tr>\n",
       "      <th>2</th>\n",
       "      <td>0</td>\n",
       "      <td>H_-2_-2_0.509296.dat</td>\n",
       "      <td>-2.0</td>\n",
       "      <td>-2.0</td>\n",
       "      <td>0.509296</td>\n",
       "      <td>999</td>\n",
       "      <td>666</td>\n",
       "      <td>test</td>\n",
       "      <td>0.141421</td>\n",
       "      <td>0.140306</td>\n",
       "      <td>...</td>\n",
       "      <td>0.043702</td>\n",
       "      <td>0.026500</td>\n",
       "      <td>0.075777</td>\n",
       "      <td>0.060214</td>\n",
       "      <td>0.103092</td>\n",
       "      <td>0.090145</td>\n",
       "      <td>0.123928</td>\n",
       "      <td>0.114412</td>\n",
       "      <td>0.136978</td>\n",
       "      <td>0.131490</td>\n",
       "    </tr>\n",
       "    <tr>\n",
       "      <th>3</th>\n",
       "      <td>0</td>\n",
       "      <td>H_-2_-2_0.509296.dat</td>\n",
       "      <td>-2.0</td>\n",
       "      <td>-2.0</td>\n",
       "      <td>0.509296</td>\n",
       "      <td>999</td>\n",
       "      <td>666</td>\n",
       "      <td>test</td>\n",
       "      <td>-0.100000</td>\n",
       "      <td>0.100000</td>\n",
       "      <td>...</td>\n",
       "      <td>-0.100000</td>\n",
       "      <td>0.100000</td>\n",
       "      <td>-0.100000</td>\n",
       "      <td>0.100000</td>\n",
       "      <td>-0.100000</td>\n",
       "      <td>0.100000</td>\n",
       "      <td>-0.100000</td>\n",
       "      <td>0.100000</td>\n",
       "      <td>-0.100000</td>\n",
       "      <td>0.100000</td>\n",
       "    </tr>\n",
       "    <tr>\n",
       "      <th>4</th>\n",
       "      <td>0</td>\n",
       "      <td>H_-2_-2_0.509296.dat</td>\n",
       "      <td>-2.0</td>\n",
       "      <td>-2.0</td>\n",
       "      <td>0.509296</td>\n",
       "      <td>999</td>\n",
       "      <td>666</td>\n",
       "      <td>test</td>\n",
       "      <td>0.000509</td>\n",
       "      <td>-0.008372</td>\n",
       "      <td>...</td>\n",
       "      <td>-0.082713</td>\n",
       "      <td>-0.089753</td>\n",
       "      <td>-0.067684</td>\n",
       "      <td>-0.075347</td>\n",
       "      <td>-0.051587</td>\n",
       "      <td>-0.059753</td>\n",
       "      <td>-0.034677</td>\n",
       "      <td>-0.043217</td>\n",
       "      <td>-0.017220</td>\n",
       "      <td>-0.026000</td>\n",
       "    </tr>\n",
       "  </tbody>\n",
       "</table>\n",
       "<p>5 rows × 108 columns</p>\n",
       "</div>"
      ],
      "text/plain": [
       "   id                  path   t1   t2   winding  phase  pred_phase type_of  \\\n",
       "0   0  H_-2_-2_0.509296.dat -2.0 -2.0  0.509296    999         666    test   \n",
       "1   0  H_-2_-2_0.509296.dat -2.0 -2.0  0.509296    999         666    test   \n",
       "2   0  H_-2_-2_0.509296.dat -2.0 -2.0  0.509296    999         666    test   \n",
       "3   0  H_-2_-2_0.509296.dat -2.0 -2.0  0.509296    999         666    test   \n",
       "4   0  H_-2_-2_0.509296.dat -2.0 -2.0  0.509296    999         666    test   \n",
       "\n",
       "       feat0      feat1  ...     feat90     feat91     feat92     feat93  \\\n",
       "0   0.100000   0.100000  ...   0.100000   0.100000   0.100000   0.100000   \n",
       "1   0.141421   0.141142  ...   0.114412   0.108967   0.123928   0.119406   \n",
       "2   0.141421   0.140306  ...   0.043702   0.026500   0.075777   0.060214   \n",
       "3  -0.100000   0.100000  ...  -0.100000   0.100000  -0.100000   0.100000   \n",
       "4   0.000509  -0.008372  ...  -0.082713  -0.089753  -0.067684  -0.075347   \n",
       "\n",
       "      feat94     feat95     feat96     feat97     feat98     feat99  \n",
       "0   0.100000   0.100000   0.100000   0.100000   0.100000   0.100000  \n",
       "1   0.131490   0.127962   0.136978   0.134500   0.140306   0.138916  \n",
       "2   0.103092   0.090145   0.123928   0.114412   0.136978   0.131490  \n",
       "3  -0.100000   0.100000  -0.100000   0.100000  -0.100000   0.100000  \n",
       "4  -0.051587  -0.059753  -0.034677  -0.043217  -0.017220  -0.026000  \n",
       "\n",
       "[5 rows x 108 columns]"
      ]
     },
     "execution_count": 5,
     "metadata": {},
     "output_type": "execute_result"
    }
   ],
   "source": [
    "dataframe.info()\n",
    "dataframe.head()\n",
    "#dataframe.tail()"
   ]
  },
  {
   "cell_type": "markdown",
   "metadata": {
    "papermill": {
     "duration": 0.016687,
     "end_time": "2020-04-05T19:40:10.330254",
     "exception": false,
     "start_time": "2020-04-05T19:40:10.313567",
     "status": "completed"
    },
    "tags": []
   },
   "source": [
    "#### Train/test "
   ]
  },
  {
   "cell_type": "code",
   "execution_count": 6,
   "metadata": {
    "execution": {
     "iopub.execute_input": "2020-04-05T19:40:10.365120Z",
     "iopub.status.busy": "2020-04-05T19:40:10.364806Z",
     "iopub.status.idle": "2020-04-05T19:40:12.987680Z",
     "shell.execute_reply": "2020-04-05T19:40:12.988082Z"
    },
    "papermill": {
     "duration": 2.640892,
     "end_time": "2020-04-05T19:40:12.988153",
     "exception": false,
     "start_time": "2020-04-05T19:40:10.347261",
     "status": "completed"
    },
    "tags": []
   },
   "outputs": [
    {
     "name": "stdout",
     "output_type": "stream",
     "text": [
      "% train:  0.846822130772748\n",
      "% test:  0.15317786922725193\n",
      "% train + test:  1.0\n"
     ]
    }
   ],
   "source": [
    "n_total = len(dataframe)\n",
    "n_train = len(dataframe[dataframe.type_of == \"train\"])\n",
    "n_test = len(dataframe[dataframe.type_of == \"test\"])\n",
    "print(\"% train: \", n_train/n_total)\n",
    "print(\"% test: \", n_test/n_total)\n",
    "print(\"% train + test: \", (n_train+n_test)/n_total)"
   ]
  },
  {
   "cell_type": "markdown",
   "metadata": {
    "papermill": {
     "duration": 0.02265,
     "end_time": "2020-04-05T19:40:13.030017",
     "exception": false,
     "start_time": "2020-04-05T19:40:13.007367",
     "status": "completed"
    },
    "tags": []
   },
   "source": [
    "#### Unique winding values"
   ]
  },
  {
   "cell_type": "code",
   "execution_count": 7,
   "metadata": {
    "execution": {
     "iopub.execute_input": "2020-04-05T19:40:13.064392Z",
     "iopub.status.busy": "2020-04-05T19:40:13.063884Z",
     "iopub.status.idle": "2020-04-05T19:40:13.076218Z",
     "shell.execute_reply": "2020-04-05T19:40:13.075896Z"
    },
    "papermill": {
     "duration": 0.030475,
     "end_time": "2020-04-05T19:40:13.076270",
     "exception": false,
     "start_time": "2020-04-05T19:40:13.045795",
     "status": "completed"
    },
    "tags": []
   },
   "outputs": [
    {
     "data": {
      "text/plain": [
       "array([  0,   1, 999], dtype=int32)"
      ]
     },
     "execution_count": 7,
     "metadata": {},
     "output_type": "execute_result"
    }
   ],
   "source": [
    "np.unique(dataframe.phase.values)"
   ]
  },
  {
   "cell_type": "markdown",
   "metadata": {
    "papermill": {
     "duration": 0.015761,
     "end_time": "2020-04-05T19:40:13.108058",
     "exception": false,
     "start_time": "2020-04-05T19:40:13.092297",
     "status": "completed"
    },
    "tags": []
   },
   "source": [
    "#### Checking t values are row-major sorted"
   ]
  },
  {
   "cell_type": "code",
   "execution_count": 8,
   "metadata": {
    "execution": {
     "iopub.execute_input": "2020-04-05T19:40:13.143345Z",
     "iopub.status.busy": "2020-04-05T19:40:13.143032Z",
     "iopub.status.idle": "2020-04-05T19:40:13.188630Z",
     "shell.execute_reply": "2020-04-05T19:40:13.190764Z"
    },
    "papermill": {
     "duration": 0.066024,
     "end_time": "2020-04-05T19:40:13.191175",
     "exception": false,
     "start_time": "2020-04-05T19:40:13.125151",
     "status": "completed"
    },
    "tags": []
   },
   "outputs": [],
   "source": [
    "#np.set_printoptions(threshold=np.inf)\n",
    "#t_array = dataframe[[\"t1\", \"t2\"]].values\n",
    "#print(\"t_array:\\n\", t_array)\n",
    "#np.set_printoptions()"
   ]
  },
  {
   "cell_type": "markdown",
   "metadata": {
    "papermill": {
     "duration": 0.017707,
     "end_time": "2020-04-05T19:40:13.252513",
     "exception": false,
     "start_time": "2020-04-05T19:40:13.234806",
     "status": "completed"
    },
    "tags": []
   },
   "source": [
    "#### Making a grid"
   ]
  },
  {
   "cell_type": "code",
   "execution_count": 9,
   "metadata": {
    "execution": {
     "iopub.execute_input": "2020-04-05T19:40:13.286843Z",
     "iopub.status.busy": "2020-04-05T19:40:13.286509Z",
     "iopub.status.idle": "2020-04-05T19:40:13.292568Z",
     "shell.execute_reply": "2020-04-05T19:40:13.292885Z"
    },
    "papermill": {
     "duration": 0.024269,
     "end_time": "2020-04-05T19:40:13.292956",
     "exception": false,
     "start_time": "2020-04-05T19:40:13.268687",
     "status": "completed"
    },
    "tags": []
   },
   "outputs": [],
   "source": [
    "#xx = dataframe.t2.values\n",
    "#yy = dataframe.t1.values\n",
    "#print(\"xx: \\n\", xx)\n",
    "#print(\"yy: \\n\", yy)"
   ]
  },
  {
   "cell_type": "code",
   "execution_count": 10,
   "metadata": {
    "execution": {
     "iopub.execute_input": "2020-04-05T19:40:13.328478Z",
     "iopub.status.busy": "2020-04-05T19:40:13.328169Z",
     "iopub.status.idle": "2020-04-05T19:40:14.886118Z",
     "shell.execute_reply": "2020-04-05T19:40:14.885797Z"
    },
    "papermill": {
     "duration": 1.576481,
     "end_time": "2020-04-05T19:40:14.886171",
     "exception": false,
     "start_time": "2020-04-05T19:40:13.309690",
     "status": "completed"
    },
    "tags": []
   },
   "outputs": [
    {
     "data": {
      "text/html": [
       "<div>\n",
       "<style scoped>\n",
       "    .dataframe tbody tr th:only-of-type {\n",
       "        vertical-align: middle;\n",
       "    }\n",
       "\n",
       "    .dataframe tbody tr th {\n",
       "        vertical-align: top;\n",
       "    }\n",
       "\n",
       "    .dataframe thead th {\n",
       "        text-align: right;\n",
       "    }\n",
       "</style>\n",
       "<table border=\"1\" class=\"dataframe\">\n",
       "  <thead>\n",
       "    <tr style=\"text-align: right;\">\n",
       "      <th></th>\n",
       "      <th>id</th>\n",
       "      <th>path</th>\n",
       "      <th>t1</th>\n",
       "      <th>t2</th>\n",
       "      <th>winding</th>\n",
       "      <th>phase</th>\n",
       "      <th>pred_phase</th>\n",
       "      <th>type_of</th>\n",
       "      <th>feat0</th>\n",
       "      <th>feat1</th>\n",
       "      <th>...</th>\n",
       "      <th>feat90</th>\n",
       "      <th>feat91</th>\n",
       "      <th>feat92</th>\n",
       "      <th>feat93</th>\n",
       "      <th>feat94</th>\n",
       "      <th>feat95</th>\n",
       "      <th>feat96</th>\n",
       "      <th>feat97</th>\n",
       "      <th>feat98</th>\n",
       "      <th>feat99</th>\n",
       "    </tr>\n",
       "  </thead>\n",
       "  <tbody>\n",
       "    <tr>\n",
       "      <th>900</th>\n",
       "      <td>9</td>\n",
       "      <td>H_-2_-1.55_-0.00906169.dat</td>\n",
       "      <td>-2.0</td>\n",
       "      <td>-1.55</td>\n",
       "      <td>-0.009062</td>\n",
       "      <td>0</td>\n",
       "      <td>666</td>\n",
       "      <td>train</td>\n",
       "      <td>0.100000</td>\n",
       "      <td>0.100000</td>\n",
       "      <td>...</td>\n",
       "      <td>0.100000</td>\n",
       "      <td>0.100000</td>\n",
       "      <td>0.100000</td>\n",
       "      <td>0.100000</td>\n",
       "      <td>0.100000</td>\n",
       "      <td>0.100000</td>\n",
       "      <td>0.100000</td>\n",
       "      <td>0.100000</td>\n",
       "      <td>0.100000</td>\n",
       "      <td>0.100000</td>\n",
       "    </tr>\n",
       "    <tr>\n",
       "      <th>901</th>\n",
       "      <td>9</td>\n",
       "      <td>H_-2_-1.55_-0.00906169.dat</td>\n",
       "      <td>-2.0</td>\n",
       "      <td>-1.55</td>\n",
       "      <td>-0.009062</td>\n",
       "      <td>0</td>\n",
       "      <td>666</td>\n",
       "      <td>train</td>\n",
       "      <td>0.100000</td>\n",
       "      <td>-0.100000</td>\n",
       "      <td>...</td>\n",
       "      <td>0.100000</td>\n",
       "      <td>-0.100000</td>\n",
       "      <td>0.100000</td>\n",
       "      <td>-0.100000</td>\n",
       "      <td>0.100000</td>\n",
       "      <td>-0.100000</td>\n",
       "      <td>0.100000</td>\n",
       "      <td>-0.100000</td>\n",
       "      <td>0.100000</td>\n",
       "      <td>-0.100000</td>\n",
       "    </tr>\n",
       "    <tr>\n",
       "      <th>902</th>\n",
       "      <td>9</td>\n",
       "      <td>H_-2_-1.55_-0.00906169.dat</td>\n",
       "      <td>-2.0</td>\n",
       "      <td>-1.55</td>\n",
       "      <td>-0.009062</td>\n",
       "      <td>0</td>\n",
       "      <td>666</td>\n",
       "      <td>train</td>\n",
       "      <td>0.141421</td>\n",
       "      <td>0.141209</td>\n",
       "      <td>...</td>\n",
       "      <td>0.114412</td>\n",
       "      <td>0.109682</td>\n",
       "      <td>0.123928</td>\n",
       "      <td>0.120007</td>\n",
       "      <td>0.131490</td>\n",
       "      <td>0.128438</td>\n",
       "      <td>0.136978</td>\n",
       "      <td>0.134844</td>\n",
       "      <td>0.140306</td>\n",
       "      <td>0.139123</td>\n",
       "    </tr>\n",
       "    <tr>\n",
       "      <th>903</th>\n",
       "      <td>9</td>\n",
       "      <td>H_-2_-1.55_-0.00906169.dat</td>\n",
       "      <td>-2.0</td>\n",
       "      <td>-1.55</td>\n",
       "      <td>-0.009062</td>\n",
       "      <td>0</td>\n",
       "      <td>666</td>\n",
       "      <td>train</td>\n",
       "      <td>0.141421</td>\n",
       "      <td>0.139516</td>\n",
       "      <td>...</td>\n",
       "      <td>-0.043702</td>\n",
       "      <td>-0.065115</td>\n",
       "      <td>0.008880</td>\n",
       "      <td>-0.014328</td>\n",
       "      <td>0.060214</td>\n",
       "      <td>0.038471</td>\n",
       "      <td>0.103092</td>\n",
       "      <td>0.085867</td>\n",
       "      <td>0.131490</td>\n",
       "      <td>0.121203</td>\n",
       "    </tr>\n",
       "    <tr>\n",
       "      <th>904</th>\n",
       "      <td>9</td>\n",
       "      <td>H_-2_-1.55_-0.00906169.dat</td>\n",
       "      <td>-2.0</td>\n",
       "      <td>-1.55</td>\n",
       "      <td>-0.009062</td>\n",
       "      <td>0</td>\n",
       "      <td>666</td>\n",
       "      <td>train</td>\n",
       "      <td>0.141421</td>\n",
       "      <td>0.140572</td>\n",
       "      <td>...</td>\n",
       "      <td>0.043702</td>\n",
       "      <td>0.028721</td>\n",
       "      <td>0.075777</td>\n",
       "      <td>0.062255</td>\n",
       "      <td>0.103092</td>\n",
       "      <td>0.091879</td>\n",
       "      <td>0.123928</td>\n",
       "      <td>0.115729</td>\n",
       "      <td>0.136978</td>\n",
       "      <td>0.132307</td>\n",
       "    </tr>\n",
       "    <tr>\n",
       "      <th>...</th>\n",
       "      <td>...</td>\n",
       "      <td>...</td>\n",
       "      <td>...</td>\n",
       "      <td>...</td>\n",
       "      <td>...</td>\n",
       "      <td>...</td>\n",
       "      <td>...</td>\n",
       "      <td>...</td>\n",
       "      <td>...</td>\n",
       "      <td>...</td>\n",
       "      <td>...</td>\n",
       "      <td>...</td>\n",
       "      <td>...</td>\n",
       "      <td>...</td>\n",
       "      <td>...</td>\n",
       "      <td>...</td>\n",
       "      <td>...</td>\n",
       "      <td>...</td>\n",
       "      <td>...</td>\n",
       "      <td>...</td>\n",
       "      <td>...</td>\n",
       "    </tr>\n",
       "    <tr>\n",
       "      <th>1895</th>\n",
       "      <td>18</td>\n",
       "      <td>H_-2_-1.1_-0.00325923.dat</td>\n",
       "      <td>-2.0</td>\n",
       "      <td>-1.10</td>\n",
       "      <td>-0.003259</td>\n",
       "      <td>0</td>\n",
       "      <td>666</td>\n",
       "      <td>train</td>\n",
       "      <td>0.141421</td>\n",
       "      <td>0.135641</td>\n",
       "      <td>...</td>\n",
       "      <td>-0.043989</td>\n",
       "      <td>-0.079976</td>\n",
       "      <td>0.076032</td>\n",
       "      <td>0.106469</td>\n",
       "      <td>-0.103298</td>\n",
       "      <td>-0.126273</td>\n",
       "      <td>0.124074</td>\n",
       "      <td>0.138142</td>\n",
       "      <td>-0.137053</td>\n",
       "      <td>-0.141332</td>\n",
       "    </tr>\n",
       "    <tr>\n",
       "      <th>1896</th>\n",
       "      <td>18</td>\n",
       "      <td>H_-2_-1.1_-0.00325923.dat</td>\n",
       "      <td>-2.0</td>\n",
       "      <td>-1.10</td>\n",
       "      <td>-0.003259</td>\n",
       "      <td>0</td>\n",
       "      <td>666</td>\n",
       "      <td>train</td>\n",
       "      <td>-0.000125</td>\n",
       "      <td>0.077667</td>\n",
       "      <td>...</td>\n",
       "      <td>-0.134461</td>\n",
       "      <td>-0.136402</td>\n",
       "      <td>0.109047</td>\n",
       "      <td>0.041557</td>\n",
       "      <td>0.017601</td>\n",
       "      <td>0.091867</td>\n",
       "      <td>-0.127909</td>\n",
       "      <td>-0.140007</td>\n",
       "      <td>0.119473</td>\n",
       "      <td>0.058172</td>\n",
       "    </tr>\n",
       "    <tr>\n",
       "      <th>1897</th>\n",
       "      <td>18</td>\n",
       "      <td>H_-2_-1.1_-0.00325923.dat</td>\n",
       "      <td>-2.0</td>\n",
       "      <td>-1.10</td>\n",
       "      <td>-0.003259</td>\n",
       "      <td>0</td>\n",
       "      <td>666</td>\n",
       "      <td>train</td>\n",
       "      <td>-0.001253</td>\n",
       "      <td>0.038525</td>\n",
       "      <td>...</td>\n",
       "      <td>0.134882</td>\n",
       "      <td>0.117508</td>\n",
       "      <td>-0.120073</td>\n",
       "      <td>-0.094248</td>\n",
       "      <td>0.097719</td>\n",
       "      <td>0.065065</td>\n",
       "      <td>-0.069226</td>\n",
       "      <td>-0.031794</td>\n",
       "      <td>0.036383</td>\n",
       "      <td>-0.003474</td>\n",
       "    </tr>\n",
       "    <tr>\n",
       "      <th>1898</th>\n",
       "      <td>18</td>\n",
       "      <td>H_-2_-1.1_-0.00325923.dat</td>\n",
       "      <td>-2.0</td>\n",
       "      <td>-1.10</td>\n",
       "      <td>-0.003259</td>\n",
       "      <td>0</td>\n",
       "      <td>666</td>\n",
       "      <td>train</td>\n",
       "      <td>0.000341</td>\n",
       "      <td>0.077486</td>\n",
       "      <td>...</td>\n",
       "      <td>0.134394</td>\n",
       "      <td>-0.136459</td>\n",
       "      <td>-0.109184</td>\n",
       "      <td>0.041764</td>\n",
       "      <td>-0.017387</td>\n",
       "      <td>0.091702</td>\n",
       "      <td>0.127816</td>\n",
       "      <td>-0.140037</td>\n",
       "      <td>-0.119588</td>\n",
       "      <td>0.058369</td>\n",
       "    </tr>\n",
       "    <tr>\n",
       "      <th>1899</th>\n",
       "      <td>18</td>\n",
       "      <td>H_-2_-1.1_-0.00325923.dat</td>\n",
       "      <td>-2.0</td>\n",
       "      <td>-1.10</td>\n",
       "      <td>-0.003259</td>\n",
       "      <td>0</td>\n",
       "      <td>666</td>\n",
       "      <td>train</td>\n",
       "      <td>0.001695</td>\n",
       "      <td>0.038100</td>\n",
       "      <td>...</td>\n",
       "      <td>-0.135014</td>\n",
       "      <td>0.117753</td>\n",
       "      <td>0.120306</td>\n",
       "      <td>-0.094576</td>\n",
       "      <td>-0.098038</td>\n",
       "      <td>0.065457</td>\n",
       "      <td>0.069610</td>\n",
       "      <td>-0.032224</td>\n",
       "      <td>-0.036809</td>\n",
       "      <td>-0.003033</td>\n",
       "    </tr>\n",
       "  </tbody>\n",
       "</table>\n",
       "<p>1000 rows × 108 columns</p>\n",
       "</div>"
      ],
      "text/plain": [
       "      id                        path   t1    t2   winding  phase  pred_phase  \\\n",
       "900    9  H_-2_-1.55_-0.00906169.dat -2.0 -1.55 -0.009062      0         666   \n",
       "901    9  H_-2_-1.55_-0.00906169.dat -2.0 -1.55 -0.009062      0         666   \n",
       "902    9  H_-2_-1.55_-0.00906169.dat -2.0 -1.55 -0.009062      0         666   \n",
       "903    9  H_-2_-1.55_-0.00906169.dat -2.0 -1.55 -0.009062      0         666   \n",
       "904    9  H_-2_-1.55_-0.00906169.dat -2.0 -1.55 -0.009062      0         666   \n",
       "...   ..                         ...  ...   ...       ...    ...         ...   \n",
       "1895  18   H_-2_-1.1_-0.00325923.dat -2.0 -1.10 -0.003259      0         666   \n",
       "1896  18   H_-2_-1.1_-0.00325923.dat -2.0 -1.10 -0.003259      0         666   \n",
       "1897  18   H_-2_-1.1_-0.00325923.dat -2.0 -1.10 -0.003259      0         666   \n",
       "1898  18   H_-2_-1.1_-0.00325923.dat -2.0 -1.10 -0.003259      0         666   \n",
       "1899  18   H_-2_-1.1_-0.00325923.dat -2.0 -1.10 -0.003259      0         666   \n",
       "\n",
       "     type_of      feat0      feat1  ...     feat90     feat91     feat92  \\\n",
       "900    train   0.100000   0.100000  ...   0.100000   0.100000   0.100000   \n",
       "901    train   0.100000  -0.100000  ...   0.100000  -0.100000   0.100000   \n",
       "902    train   0.141421   0.141209  ...   0.114412   0.109682   0.123928   \n",
       "903    train   0.141421   0.139516  ...  -0.043702  -0.065115   0.008880   \n",
       "904    train   0.141421   0.140572  ...   0.043702   0.028721   0.075777   \n",
       "...      ...        ...        ...  ...        ...        ...        ...   \n",
       "1895   train   0.141421   0.135641  ...  -0.043989  -0.079976   0.076032   \n",
       "1896   train  -0.000125   0.077667  ...  -0.134461  -0.136402   0.109047   \n",
       "1897   train  -0.001253   0.038525  ...   0.134882   0.117508  -0.120073   \n",
       "1898   train   0.000341   0.077486  ...   0.134394  -0.136459  -0.109184   \n",
       "1899   train   0.001695   0.038100  ...  -0.135014   0.117753   0.120306   \n",
       "\n",
       "         feat93     feat94     feat95     feat96     feat97     feat98  \\\n",
       "900    0.100000   0.100000   0.100000   0.100000   0.100000   0.100000   \n",
       "901   -0.100000   0.100000  -0.100000   0.100000  -0.100000   0.100000   \n",
       "902    0.120007   0.131490   0.128438   0.136978   0.134844   0.140306   \n",
       "903   -0.014328   0.060214   0.038471   0.103092   0.085867   0.131490   \n",
       "904    0.062255   0.103092   0.091879   0.123928   0.115729   0.136978   \n",
       "...         ...        ...        ...        ...        ...        ...   \n",
       "1895   0.106469  -0.103298  -0.126273   0.124074   0.138142  -0.137053   \n",
       "1896   0.041557   0.017601   0.091867  -0.127909  -0.140007   0.119473   \n",
       "1897  -0.094248   0.097719   0.065065  -0.069226  -0.031794   0.036383   \n",
       "1898   0.041764  -0.017387   0.091702   0.127816  -0.140037  -0.119588   \n",
       "1899  -0.094576  -0.098038   0.065457   0.069610  -0.032224  -0.036809   \n",
       "\n",
       "         feat99  \n",
       "900    0.100000  \n",
       "901   -0.100000  \n",
       "902    0.139123  \n",
       "903    0.121203  \n",
       "904    0.132307  \n",
       "...         ...  \n",
       "1895  -0.141332  \n",
       "1896   0.058172  \n",
       "1897  -0.003474  \n",
       "1898   0.058369  \n",
       "1899  -0.003033  \n",
       "\n",
       "[1000 rows x 108 columns]"
      ]
     },
     "execution_count": 10,
     "metadata": {},
     "output_type": "execute_result"
    }
   ],
   "source": [
    "# A view of train data\n",
    "dataframe[dataframe.type_of == \"train\"].head(1000)"
   ]
  },
  {
   "cell_type": "code",
   "execution_count": 11,
   "metadata": {
    "execution": {
     "iopub.execute_input": "2020-04-05T19:40:14.922644Z",
     "iopub.status.busy": "2020-04-05T19:40:14.922332Z",
     "iopub.status.idle": "2020-04-05T19:40:14.928677Z",
     "shell.execute_reply": "2020-04-05T19:40:14.928339Z"
    },
    "papermill": {
     "duration": 0.025479,
     "end_time": "2020-04-05T19:40:14.928735",
     "exception": false,
     "start_time": "2020-04-05T19:40:14.903256",
     "status": "completed"
    },
    "tags": []
   },
   "outputs": [],
   "source": [
    "# A view of test data\n",
    "#dataframe[dataframe.type_of == \"test\"].head(1000)"
   ]
  },
  {
   "cell_type": "markdown",
   "metadata": {
    "papermill": {
     "duration": 0.017547,
     "end_time": "2020-04-05T19:40:14.963065",
     "exception": false,
     "start_time": "2020-04-05T19:40:14.945518",
     "status": "completed"
    },
    "tags": []
   },
   "source": [
    "#### clearing variables"
   ]
  },
  {
   "cell_type": "code",
   "execution_count": 12,
   "metadata": {
    "execution": {
     "iopub.execute_input": "2020-04-05T19:40:14.997847Z",
     "iopub.status.busy": "2020-04-05T19:40:14.997532Z",
     "iopub.status.idle": "2020-04-05T19:40:15.048202Z",
     "shell.execute_reply": "2020-04-05T19:40:15.048629Z"
    },
    "papermill": {
     "duration": 0.069118,
     "end_time": "2020-04-05T19:40:15.048719",
     "exception": false,
     "start_time": "2020-04-05T19:40:14.979601",
     "status": "completed"
    },
    "tags": []
   },
   "outputs": [],
   "source": [
    "#del list_of_hamiltonians\n",
    "#del raw_data\n",
    "#del dataframe"
   ]
  },
  {
   "cell_type": "code",
   "execution_count": null,
   "metadata": {
    "papermill": {
     "duration": 0.018481,
     "end_time": "2020-04-05T19:40:15.091060",
     "exception": false,
     "start_time": "2020-04-05T19:40:15.072579",
     "status": "completed"
    },
    "tags": []
   },
   "outputs": [],
   "source": []
  }
 ],
 "metadata": {
  "celltoolbar": "Tags",
  "kernelspec": {
   "display_name": "ml_top_phases",
   "language": "python",
   "name": "ml_top_phases"
  },
  "language_info": {
   "codemirror_mode": {
    "name": "ipython",
    "version": 3
   },
   "file_extension": ".py",
   "mimetype": "text/x-python",
   "name": "python",
   "nbconvert_exporter": "python",
   "pygments_lexer": "ipython3",
   "version": "3.6.10"
  },
  "papermill": {
   "duration": 69.046581,
   "end_time": "2020-04-05T19:40:16.222449",
   "environment_variables": {},
   "exception": null,
   "input_path": "preprocessing_template.ipynb",
   "output_path": "preprocessing_output_ssh1_periodic_100_6561.ipynb",
   "parameters": {
    "allowed_windings": [
     0,
     1
    ],
    "csv_dir": "/home/rio/ssh_csvs/ssh1",
    "csv_name": "periodic_100_6561.csv",
    "epsilon": 0.01,
    "grid_folder": "/home/rio/ssh_grids/ssh1/periodic_100_6561"
   },
   "start_time": "2020-04-05T19:39:07.175868",
   "version": "2.1.0"
  }
 },
 "nbformat": 4,
 "nbformat_minor": 2
}