{
 "cells": [
  {
   "cell_type": "markdown",
   "metadata": {
    "papermill": {
     "duration": 0.01772,
     "end_time": "2020-03-04T01:43:31.883760",
     "exception": false,
     "start_time": "2020-03-04T01:43:31.866040",
     "status": "completed"
    },
    "tags": []
   },
   "source": [
    "# Generate csv files \n"
   ]
  },
  {
   "cell_type": "markdown",
   "metadata": {
    "papermill": {
     "duration": 0.012795,
     "end_time": "2020-03-04T01:43:31.911000",
     "exception": false,
     "start_time": "2020-03-04T01:43:31.898205",
     "status": "completed"
    },
    "tags": []
   },
   "source": [
    "This notebook generates .csv files from a directory containing .dat files with Hamiltonian data. Each .dat file is assumed to be named as `\"H_t1_t2_winding.dat\"`.  "
   ]
  },
  {
   "cell_type": "code",
   "execution_count": 1,
   "metadata": {
    "papermill": {
     "duration": 0.280283,
     "end_time": "2020-03-04T01:43:32.204145",
     "exception": false,
     "start_time": "2020-03-04T01:43:31.923862",
     "status": "completed"
    },
    "tags": []
   },
   "outputs": [],
   "source": [
    "#from IPython.core.display import HTML\n",
    "#HTML(\"<script>Jupyter.notebook.kernel.restart()</script>\")\n",
    "%load_ext autoreload\n",
    "%autoreload 2\n",
    "\n",
    "from preprocessing import *"
   ]
  },
  {
   "cell_type": "markdown",
   "metadata": {
    "papermill": {
     "duration": 0.012515,
     "end_time": "2020-03-04T01:43:32.236289",
     "exception": false,
     "start_time": "2020-03-04T01:43:32.223774",
     "status": "completed"
    },
    "tags": []
   },
   "source": [
    "### Set the parameters below carefully"
   ]
  },
  {
   "cell_type": "code",
   "execution_count": 2,
   "metadata": {
    "papermill": {
     "duration": 0.035033,
     "end_time": "2020-03-04T01:43:32.283986",
     "exception": false,
     "start_time": "2020-03-04T01:43:32.248953",
     "status": "completed"
    },
    "tags": [
     "parameters"
    ]
   },
   "outputs": [
    {
     "name": "stdout",
     "output_type": "stream",
     "text": [
      "CPU times: user 3 µs, sys: 0 ns, total: 3 µs\n",
      "Wall time: 4.77 µs\n"
     ]
    }
   ],
   "source": [
    "%%time\n",
    "grid_folder = \"/home/linneu/ssh_grids/ssh1/periodic_100_6561\"\n",
    "allowed_windings = [0,1]\n",
    "epsilon = 0.01\n",
    "csv_name = \"/home/linneu/ssh_csvs/ssh1/periodic_100_6561.csv\"\n",
    "to_csv = True\n"
   ]
  },
  {
   "cell_type": "code",
   "execution_count": 3,
   "metadata": {
    "papermill": {
     "duration": 0.031555,
     "end_time": "2020-03-04T01:43:32.330585",
     "exception": false,
     "start_time": "2020-03-04T01:43:32.299030",
     "status": "completed"
    },
    "tags": [
     "injected-parameters"
    ]
   },
   "outputs": [],
   "source": [
    "# Parameters\n",
    "allowed_windings = [0, 1]\n",
    "epsilon = 0.01\n",
    "to_csv = True\n",
    "grid_folder = \"/home/linneu/ssh_grids/ssh1/periodic_180_6561\"\n",
    "csv_name = \"/home/linneu/ssh_csvs/ssh1/periodic_180_6561.csv\"\n"
   ]
  },
  {
   "cell_type": "code",
   "execution_count": 4,
   "metadata": {
    "papermill": {
     "duration": 309.570036,
     "end_time": "2020-03-04T01:48:41.916649",
     "exception": false,
     "start_time": "2020-03-04T01:43:32.346613",
     "status": "completed"
    },
    "tags": []
   },
   "outputs": [
    {
     "name": "stderr",
     "output_type": "stream",
     "text": [
      "\r",
      "loading hamiltonians:   0%|          | 0/6561 [00:00<?, ?it/s]"
     ]
    },
    {
     "name": "stderr",
     "output_type": "stream",
     "text": [
      "\r",
      "loading hamiltonians:   0%|          | 29/6561 [00:00<00:22, 286.91it/s]"
     ]
    },
    {
     "name": "stderr",
     "output_type": "stream",
     "text": [
      "\r",
      "loading hamiltonians:   1%|          | 53/6561 [00:00<00:24, 269.86it/s]"
     ]
    },
    {
     "name": "stderr",
     "output_type": "stream",
     "text": [
      "\r",
      "loading hamiltonians:   1%|          | 82/6561 [00:00<00:25, 257.03it/s]"
     ]
    },
    {
     "name": "stderr",
     "output_type": "stream",
     "text": [
      "\r",
      "loading hamiltonians:   2%|▏         | 112/6561 [00:00<00:24, 268.32it/s]"
     ]
    },
    {
     "name": "stderr",
     "output_type": "stream",
     "text": [
      "\r",
      "loading hamiltonians:   2%|▏         | 135/6561 [00:00<00:25, 252.98it/s]"
     ]
    },
    {
     "name": "stderr",
     "output_type": "stream",
     "text": [
      "\r",
      "loading hamiltonians:   3%|▎         | 165/6561 [00:00<00:24, 263.55it/s]"
     ]
    },
    {
     "name": "stderr",
     "output_type": "stream",
     "text": [
      "\r",
      "loading hamiltonians:   3%|▎         | 189/6561 [00:00<00:25, 251.02it/s]"
     ]
    },
    {
     "name": "stderr",
     "output_type": "stream",
     "text": [
      "\r",
      "loading hamiltonians:   3%|▎         | 219/6561 [00:00<00:24, 262.79it/s]"
     ]
    },
    {
     "name": "stderr",
     "output_type": "stream",
     "text": [
      "\r",
      "loading hamiltonians:   4%|▎         | 245/6561 [00:00<00:24, 253.24it/s]"
     ]
    },
    {
     "name": "stderr",
     "output_type": "stream",
     "text": [
      "\r",
      "loading hamiltonians:   4%|▍         | 270/6561 [00:01<00:25, 244.20it/s]"
     ]
    },
    {
     "name": "stderr",
     "output_type": "stream",
     "text": [
      "\r",
      "loading hamiltonians:   5%|▍         | 299/6561 [00:01<00:24, 255.55it/s]"
     ]
    },
    {
     "name": "stderr",
     "output_type": "stream",
     "text": [
      "\r",
      "loading hamiltonians:   5%|▍         | 325/6561 [00:01<00:25, 242.55it/s]"
     ]
    },
    {
     "name": "stderr",
     "output_type": "stream",
     "text": [
      "\r",
      "loading hamiltonians:   5%|▌         | 353/6561 [00:01<00:24, 252.49it/s]"
     ]
    },
    {
     "name": "stderr",
     "output_type": "stream",
     "text": [
      "\r",
      "loading hamiltonians:   6%|▌         | 379/6561 [00:01<00:25, 241.25it/s]"
     ]
    },
    {
     "name": "stderr",
     "output_type": "stream",
     "text": [
      "\r",
      "loading hamiltonians:   6%|▌         | 407/6561 [00:01<00:24, 251.46it/s]"
     ]
    },
    {
     "name": "stderr",
     "output_type": "stream",
     "text": [
      "\r",
      "loading hamiltonians:   7%|▋         | 433/6561 [00:01<00:25, 244.34it/s]"
     ]
    },
    {
     "name": "stderr",
     "output_type": "stream",
     "text": [
      "\r",
      "loading hamiltonians:   7%|▋         | 458/6561 [00:01<00:25, 240.51it/s]"
     ]
    },
    {
     "name": "stderr",
     "output_type": "stream",
     "text": [
      "\r",
      "loading hamiltonians:   7%|▋         | 483/6561 [00:02<00:46, 129.66it/s]"
     ]
    },
    {
     "name": "stderr",
     "output_type": "stream",
     "text": [
      "\r",
      "loading hamiltonians:   8%|▊         | 506/6561 [00:02<00:40, 147.79it/s]"
     ]
    },
    {
     "name": "stderr",
     "output_type": "stream",
     "text": [
      "\r",
      "loading hamiltonians:   8%|▊         | 536/6561 [00:02<00:34, 173.85it/s]"
     ]
    },
    {
     "name": "stderr",
     "output_type": "stream",
     "text": [
      "\r",
      "loading hamiltonians:   9%|▊         | 559/6561 [00:02<00:32, 185.35it/s]"
     ]
    },
    {
     "name": "stderr",
     "output_type": "stream",
     "text": [
      "\r",
      "loading hamiltonians:   9%|▉         | 589/6561 [00:02<00:28, 208.53it/s]"
     ]
    },
    {
     "name": "stderr",
     "output_type": "stream",
     "text": [
      "\r",
      "loading hamiltonians:   9%|▉         | 614/6561 [00:02<00:27, 214.79it/s]"
     ]
    },
    {
     "name": "stderr",
     "output_type": "stream",
     "text": [
      "\r",
      "loading hamiltonians:  10%|▉         | 643/6561 [00:02<00:25, 232.62it/s]"
     ]
    },
    {
     "name": "stderr",
     "output_type": "stream",
     "text": [
      "\r",
      "loading hamiltonians:  10%|█         | 669/6561 [00:02<00:25, 233.70it/s]"
     ]
    },
    {
     "name": "stderr",
     "output_type": "stream",
     "text": [
      "\r",
      "loading hamiltonians:  11%|█         | 694/6561 [00:03<00:25, 231.76it/s]"
     ]
    },
    {
     "name": "stderr",
     "output_type": "stream",
     "text": [
      "\r",
      "loading hamiltonians:  11%|█         | 724/6561 [00:03<00:23, 247.35it/s]"
     ]
    },
    {
     "name": "stderr",
     "output_type": "stream",
     "text": [
      "\r",
      "loading hamiltonians:  11%|█▏        | 750/6561 [00:03<00:24, 241.39it/s]"
     ]
    },
    {
     "name": "stderr",
     "output_type": "stream",
     "text": [
      "\r",
      "loading hamiltonians:  12%|█▏        | 780/6561 [00:03<00:22, 254.95it/s]"
     ]
    },
    {
     "name": "stderr",
     "output_type": "stream",
     "text": [
      "\r",
      "loading hamiltonians:  12%|█▏        | 807/6561 [00:03<00:23, 248.51it/s]"
     ]
    },
    {
     "name": "stderr",
     "output_type": "stream",
     "text": [
      "\r",
      "loading hamiltonians:  13%|█▎        | 833/6561 [00:03<00:23, 242.19it/s]"
     ]
    },
    {
     "name": "stderr",
     "output_type": "stream",
     "text": [
      "\r",
      "loading hamiltonians:  13%|█▎        | 864/6561 [00:03<00:22, 256.36it/s]"
     ]
    },
    {
     "name": "stderr",
     "output_type": "stream",
     "text": [
      "\r",
      "loading hamiltonians:  14%|█▎        | 891/6561 [00:03<00:22, 250.73it/s]"
     ]
    },
    {
     "name": "stderr",
     "output_type": "stream",
     "text": [
      "\r",
      "loading hamiltonians:  14%|█▍        | 920/6561 [00:03<00:21, 260.92it/s]"
     ]
    },
    {
     "name": "stderr",
     "output_type": "stream",
     "text": [
      "\r",
      "loading hamiltonians:  14%|█▍        | 947/6561 [00:04<00:22, 251.80it/s]"
     ]
    },
    {
     "name": "stderr",
     "output_type": "stream",
     "text": [
      "\r",
      "loading hamiltonians:  15%|█▍        | 973/6561 [00:04<00:23, 242.40it/s]"
     ]
    },
    {
     "name": "stderr",
     "output_type": "stream",
     "text": [
      "\r",
      "loading hamiltonians:  15%|█▌        | 998/6561 [00:04<01:03, 87.74it/s] "
     ]
    },
    {
     "name": "stderr",
     "output_type": "stream",
     "text": [
      "\r",
      "loading hamiltonians:  16%|█▌        | 1024/6561 [00:04<00:51, 107.66it/s]"
     ]
    },
    {
     "name": "stderr",
     "output_type": "stream",
     "text": [
      "\r",
      "loading hamiltonians:  16%|█▌        | 1054/6561 [00:05<00:41, 133.19it/s]"
     ]
    },
    {
     "name": "stderr",
     "output_type": "stream",
     "text": [
      "\r",
      "loading hamiltonians:  16%|█▋        | 1077/6561 [00:05<00:36, 151.36it/s]"
     ]
    },
    {
     "name": "stderr",
     "output_type": "stream",
     "text": [
      "\r",
      "loading hamiltonians:  17%|█▋        | 1106/6561 [00:05<00:30, 176.59it/s]"
     ]
    },
    {
     "name": "stderr",
     "output_type": "stream",
     "text": [
      "\r",
      "loading hamiltonians:  17%|█▋        | 1131/6561 [00:05<00:28, 189.99it/s]"
     ]
    },
    {
     "name": "stderr",
     "output_type": "stream",
     "text": [
      "\r",
      "loading hamiltonians:  18%|█▊        | 1161/6561 [00:05<00:25, 212.71it/s]"
     ]
    },
    {
     "name": "stderr",
     "output_type": "stream",
     "text": [
      "\r",
      "loading hamiltonians:  18%|█▊        | 1187/6561 [00:05<00:24, 217.93it/s]"
     ]
    },
    {
     "name": "stderr",
     "output_type": "stream",
     "text": [
      "\r",
      "loading hamiltonians:  18%|█▊        | 1212/6561 [00:05<00:24, 222.00it/s]"
     ]
    },
    {
     "name": "stderr",
     "output_type": "stream",
     "text": [
      "\r",
      "loading hamiltonians:  19%|█▉        | 1242/6561 [00:05<00:22, 239.77it/s]"
     ]
    },
    {
     "name": "stderr",
     "output_type": "stream",
     "text": [
      "\r",
      "loading hamiltonians:  19%|█▉        | 1268/6561 [00:05<00:22, 236.35it/s]"
     ]
    },
    {
     "name": "stderr",
     "output_type": "stream",
     "text": [
      "\r",
      "loading hamiltonians:  20%|█▉        | 1296/6561 [00:06<00:21, 246.77it/s]"
     ]
    },
    {
     "name": "stderr",
     "output_type": "stream",
     "text": [
      "\r",
      "loading hamiltonians:  20%|██        | 1322/6561 [00:06<00:21, 238.53it/s]"
     ]
    },
    {
     "name": "stderr",
     "output_type": "stream",
     "text": [
      "\r",
      "loading hamiltonians:  21%|██        | 1348/6561 [00:06<00:21, 244.04it/s]"
     ]
    },
    {
     "name": "stderr",
     "output_type": "stream",
     "text": [
      "\r",
      "loading hamiltonians:  21%|██        | 1374/6561 [00:06<00:21, 239.94it/s]"
     ]
    },
    {
     "name": "stderr",
     "output_type": "stream",
     "text": [
      "\r",
      "loading hamiltonians:  21%|██▏       | 1399/6561 [00:06<00:21, 237.50it/s]"
     ]
    },
    {
     "name": "stderr",
     "output_type": "stream",
     "text": [
      "\r",
      "loading hamiltonians:  22%|██▏       | 1429/6561 [00:06<00:20, 252.51it/s]"
     ]
    },
    {
     "name": "stderr",
     "output_type": "stream",
     "text": [
      "\r",
      "loading hamiltonians:  22%|██▏       | 1455/6561 [00:06<00:20, 247.59it/s]"
     ]
    },
    {
     "name": "stderr",
     "output_type": "stream",
     "text": [
      "\r",
      "loading hamiltonians:  23%|██▎       | 1486/6561 [00:06<00:19, 261.88it/s]"
     ]
    },
    {
     "name": "stderr",
     "output_type": "stream",
     "text": [
      "\r",
      "loading hamiltonians:  23%|██▎       | 1513/6561 [00:07<01:12, 69.51it/s] "
     ]
    },
    {
     "name": "stderr",
     "output_type": "stream",
     "text": [
      "\r",
      "loading hamiltonians:  23%|██▎       | 1541/6561 [00:07<00:57, 87.88it/s]"
     ]
    },
    {
     "name": "stderr",
     "output_type": "stream",
     "text": [
      "\r",
      "loading hamiltonians:  24%|██▍       | 1571/6561 [00:08<00:44, 111.39it/s]"
     ]
    },
    {
     "name": "stderr",
     "output_type": "stream",
     "text": [
      "\r",
      "loading hamiltonians:  24%|██▍       | 1595/6561 [00:08<00:37, 131.38it/s]"
     ]
    },
    {
     "name": "stderr",
     "output_type": "stream",
     "text": [
      "\r",
      "loading hamiltonians:  25%|██▍       | 1624/6561 [00:08<00:31, 156.96it/s]"
     ]
    },
    {
     "name": "stderr",
     "output_type": "stream",
     "text": [
      "\r",
      "loading hamiltonians:  25%|██▌       | 1649/6561 [00:08<00:28, 173.94it/s]"
     ]
    },
    {
     "name": "stderr",
     "output_type": "stream",
     "text": [
      "\r",
      "loading hamiltonians:  26%|██▌       | 1679/6561 [00:08<00:24, 198.43it/s]"
     ]
    },
    {
     "name": "stderr",
     "output_type": "stream",
     "text": [
      "\r",
      "loading hamiltonians:  26%|██▌       | 1705/6561 [00:08<00:23, 206.81it/s]"
     ]
    },
    {
     "name": "stderr",
     "output_type": "stream",
     "text": [
      "\r",
      "loading hamiltonians:  26%|██▋       | 1730/6561 [00:08<00:22, 214.26it/s]"
     ]
    },
    {
     "name": "stderr",
     "output_type": "stream",
     "text": [
      "\r",
      "loading hamiltonians:  27%|██▋       | 1760/6561 [00:08<00:20, 233.26it/s]"
     ]
    },
    {
     "name": "stderr",
     "output_type": "stream",
     "text": [
      "\r",
      "loading hamiltonians:  27%|██▋       | 1786/6561 [00:08<00:20, 231.18it/s]"
     ]
    },
    {
     "name": "stderr",
     "output_type": "stream",
     "text": [
      "\r",
      "loading hamiltonians:  28%|██▊       | 1817/6561 [00:09<00:19, 248.94it/s]"
     ]
    },
    {
     "name": "stderr",
     "output_type": "stream",
     "text": [
      "\r",
      "loading hamiltonians:  28%|██▊       | 1844/6561 [00:09<00:19, 244.80it/s]"
     ]
    },
    {
     "name": "stderr",
     "output_type": "stream",
     "text": [
      "\r",
      "loading hamiltonians:  29%|██▊       | 1870/6561 [00:09<00:19, 239.62it/s]"
     ]
    },
    {
     "name": "stderr",
     "output_type": "stream",
     "text": [
      "\r",
      "loading hamiltonians:  29%|██▉       | 1900/6561 [00:09<00:18, 254.02it/s]"
     ]
    },
    {
     "name": "stderr",
     "output_type": "stream",
     "text": [
      "\r",
      "loading hamiltonians:  29%|██▉       | 1927/6561 [00:09<00:18, 248.73it/s]"
     ]
    },
    {
     "name": "stderr",
     "output_type": "stream",
     "text": [
      "\r",
      "loading hamiltonians:  30%|██▉       | 1958/6561 [00:09<00:17, 261.89it/s]"
     ]
    },
    {
     "name": "stderr",
     "output_type": "stream",
     "text": [
      "\r",
      "loading hamiltonians:  30%|███       | 1985/6561 [00:09<00:18, 251.87it/s]"
     ]
    },
    {
     "name": "stderr",
     "output_type": "stream",
     "text": [
      "\r",
      "loading hamiltonians:  31%|███       | 2011/6561 [00:09<00:18, 246.57it/s]"
     ]
    },
    {
     "name": "stderr",
     "output_type": "stream",
     "text": [
      "\r",
      "loading hamiltonians:  31%|███       | 2037/6561 [00:11<01:22, 54.67it/s] "
     ]
    },
    {
     "name": "stderr",
     "output_type": "stream",
     "text": [
      "\r",
      "loading hamiltonians:  31%|███▏      | 2059/6561 [00:11<01:03, 70.51it/s]"
     ]
    },
    {
     "name": "stderr",
     "output_type": "stream",
     "text": [
      "\r",
      "loading hamiltonians:  32%|███▏      | 2089/6561 [00:11<00:48, 91.49it/s]"
     ]
    },
    {
     "name": "stderr",
     "output_type": "stream",
     "text": [
      "\r",
      "loading hamiltonians:  32%|███▏      | 2112/6561 [00:11<00:39, 111.32it/s]"
     ]
    },
    {
     "name": "stderr",
     "output_type": "stream",
     "text": [
      "\r",
      "loading hamiltonians:  33%|███▎      | 2142/6561 [00:11<00:32, 136.72it/s]"
     ]
    },
    {
     "name": "stderr",
     "output_type": "stream",
     "text": [
      "\r",
      "loading hamiltonians:  33%|███▎      | 2167/6561 [00:11<00:28, 155.97it/s]"
     ]
    },
    {
     "name": "stderr",
     "output_type": "stream",
     "text": [
      "\r",
      "loading hamiltonians:  33%|███▎      | 2197/6561 [00:11<00:24, 181.51it/s]"
     ]
    },
    {
     "name": "stderr",
     "output_type": "stream",
     "text": [
      "\r",
      "loading hamiltonians:  34%|███▍      | 2223/6561 [00:11<00:22, 194.22it/s]"
     ]
    },
    {
     "name": "stderr",
     "output_type": "stream",
     "text": [
      "\r",
      "loading hamiltonians:  34%|███▍      | 2248/6561 [00:11<00:21, 204.51it/s]"
     ]
    },
    {
     "name": "stderr",
     "output_type": "stream",
     "text": [
      "\r",
      "loading hamiltonians:  35%|███▍      | 2278/6561 [00:12<00:18, 225.52it/s]"
     ]
    },
    {
     "name": "stderr",
     "output_type": "stream",
     "text": [
      "\r",
      "loading hamiltonians:  35%|███▌      | 2305/6561 [00:12<00:18, 228.52it/s]"
     ]
    },
    {
     "name": "stderr",
     "output_type": "stream",
     "text": [
      "\r",
      "loading hamiltonians:  36%|███▌      | 2335/6561 [00:12<00:17, 244.51it/s]"
     ]
    },
    {
     "name": "stderr",
     "output_type": "stream",
     "text": [
      "\r",
      "loading hamiltonians:  36%|███▌      | 2362/6561 [00:12<00:17, 240.30it/s]"
     ]
    },
    {
     "name": "stderr",
     "output_type": "stream",
     "text": [
      "\r",
      "loading hamiltonians:  36%|███▋      | 2388/6561 [00:12<00:17, 239.69it/s]"
     ]
    },
    {
     "name": "stderr",
     "output_type": "stream",
     "text": [
      "\r",
      "loading hamiltonians:  37%|███▋      | 2418/6561 [00:12<00:16, 255.05it/s]"
     ]
    },
    {
     "name": "stderr",
     "output_type": "stream",
     "text": [
      "\r",
      "loading hamiltonians:  37%|███▋      | 2445/6561 [00:12<00:16, 249.28it/s]"
     ]
    },
    {
     "name": "stderr",
     "output_type": "stream",
     "text": [
      "\r",
      "loading hamiltonians:  38%|███▊      | 2476/6561 [00:12<00:15, 262.93it/s]"
     ]
    },
    {
     "name": "stderr",
     "output_type": "stream",
     "text": [
      "\r",
      "loading hamiltonians:  38%|███▊      | 2503/6561 [00:12<00:16, 253.27it/s]"
     ]
    },
    {
     "name": "stderr",
     "output_type": "stream",
     "text": [
      "\r",
      "loading hamiltonians:  39%|███▊      | 2529/6561 [00:13<00:16, 247.13it/s]"
     ]
    },
    {
     "name": "stderr",
     "output_type": "stream",
     "text": [
      "\r",
      "loading hamiltonians:  39%|███▉      | 2558/6561 [00:13<00:15, 257.30it/s]"
     ]
    },
    {
     "name": "stderr",
     "output_type": "stream",
     "text": [
      "\r",
      "loading hamiltonians:  39%|███▉      | 2585/6561 [00:13<00:16, 245.71it/s]"
     ]
    },
    {
     "name": "stderr",
     "output_type": "stream",
     "text": [
      "\r",
      "loading hamiltonians:  40%|███▉      | 2614/6561 [00:13<00:15, 256.12it/s]"
     ]
    },
    {
     "name": "stderr",
     "output_type": "stream",
     "text": [
      "\r",
      "loading hamiltonians:  40%|████      | 2641/6561 [00:13<00:15, 245.37it/s]"
     ]
    },
    {
     "name": "stderr",
     "output_type": "stream",
     "text": [
      "\r",
      "loading hamiltonians:  41%|████      | 2666/6561 [00:13<00:16, 238.31it/s]"
     ]
    },
    {
     "name": "stderr",
     "output_type": "stream",
     "text": [
      "\r",
      "loading hamiltonians:  41%|████      | 2691/6561 [00:15<01:31, 42.13it/s] "
     ]
    },
    {
     "name": "stderr",
     "output_type": "stream",
     "text": [
      "\r",
      "loading hamiltonians:  41%|████▏     | 2716/6561 [00:15<01:08, 55.79it/s]"
     ]
    },
    {
     "name": "stderr",
     "output_type": "stream",
     "text": [
      "\r",
      "loading hamiltonians:  42%|████▏     | 2747/6561 [00:15<00:51, 73.81it/s]"
     ]
    },
    {
     "name": "stderr",
     "output_type": "stream",
     "text": [
      "\r",
      "loading hamiltonians:  42%|████▏     | 2771/6561 [00:15<00:40, 92.81it/s]"
     ]
    },
    {
     "name": "stderr",
     "output_type": "stream",
     "text": [
      "\r",
      "loading hamiltonians:  43%|████▎     | 2802/6561 [00:15<00:32, 117.08it/s]"
     ]
    },
    {
     "name": "stderr",
     "output_type": "stream",
     "text": [
      "\r",
      "loading hamiltonians:  43%|████▎     | 2827/6561 [00:15<00:27, 137.56it/s]"
     ]
    },
    {
     "name": "stderr",
     "output_type": "stream",
     "text": [
      "\r",
      "loading hamiltonians:  44%|████▎     | 2856/6561 [00:16<00:23, 156.17it/s]"
     ]
    },
    {
     "name": "stderr",
     "output_type": "stream",
     "text": [
      "\r",
      "loading hamiltonians:  44%|████▍     | 2885/6561 [00:16<00:20, 180.73it/s]"
     ]
    },
    {
     "name": "stderr",
     "output_type": "stream",
     "text": [
      "\r",
      "loading hamiltonians:  44%|████▍     | 2911/6561 [00:16<00:19, 191.12it/s]"
     ]
    },
    {
     "name": "stderr",
     "output_type": "stream",
     "text": [
      "\r",
      "loading hamiltonians:  45%|████▍     | 2940/6561 [00:16<00:17, 212.48it/s]"
     ]
    },
    {
     "name": "stderr",
     "output_type": "stream",
     "text": [
      "\r",
      "loading hamiltonians:  45%|████▌     | 2966/6561 [00:16<00:16, 214.88it/s]"
     ]
    },
    {
     "name": "stderr",
     "output_type": "stream",
     "text": [
      "\r",
      "loading hamiltonians:  46%|████▌     | 2996/6561 [00:16<00:16, 219.91it/s]"
     ]
    },
    {
     "name": "stderr",
     "output_type": "stream",
     "text": [
      "\r",
      "loading hamiltonians:  46%|████▌     | 3027/6561 [00:16<00:14, 240.09it/s]"
     ]
    },
    {
     "name": "stderr",
     "output_type": "stream",
     "text": [
      "\r",
      "loading hamiltonians:  47%|████▋     | 3054/6561 [00:16<00:14, 238.41it/s]"
     ]
    },
    {
     "name": "stderr",
     "output_type": "stream",
     "text": [
      "\r",
      "loading hamiltonians:  47%|████▋     | 3084/6561 [00:16<00:13, 253.52it/s]"
     ]
    },
    {
     "name": "stderr",
     "output_type": "stream",
     "text": [
      "\r",
      "loading hamiltonians:  47%|████▋     | 3111/6561 [00:17<00:13, 247.90it/s]"
     ]
    },
    {
     "name": "stderr",
     "output_type": "stream",
     "text": [
      "\r",
      "loading hamiltonians:  48%|████▊     | 3137/6561 [00:17<00:14, 243.18it/s]"
     ]
    },
    {
     "name": "stderr",
     "output_type": "stream",
     "text": [
      "\r",
      "loading hamiltonians:  48%|████▊     | 3167/6561 [00:17<00:13, 256.95it/s]"
     ]
    },
    {
     "name": "stderr",
     "output_type": "stream",
     "text": [
      "\r",
      "loading hamiltonians:  49%|████▊     | 3194/6561 [00:17<00:13, 249.36it/s]"
     ]
    },
    {
     "name": "stderr",
     "output_type": "stream",
     "text": [
      "\r",
      "loading hamiltonians:  49%|████▉     | 3224/6561 [00:17<00:12, 262.66it/s]"
     ]
    },
    {
     "name": "stderr",
     "output_type": "stream",
     "text": [
      "\r",
      "loading hamiltonians:  50%|████▉     | 3251/6561 [00:17<00:12, 255.11it/s]"
     ]
    },
    {
     "name": "stderr",
     "output_type": "stream",
     "text": [
      "\r",
      "loading hamiltonians:  50%|████▉     | 3277/6561 [00:17<00:13, 247.42it/s]"
     ]
    },
    {
     "name": "stderr",
     "output_type": "stream",
     "text": [
      "\r",
      "loading hamiltonians:  50%|█████     | 3308/6561 [00:17<00:12, 261.18it/s]"
     ]
    },
    {
     "name": "stderr",
     "output_type": "stream",
     "text": [
      "\r",
      "loading hamiltonians:  51%|█████     | 3335/6561 [00:17<00:12, 253.17it/s]"
     ]
    },
    {
     "name": "stderr",
     "output_type": "stream",
     "text": [
      "\r",
      "loading hamiltonians:  51%|█████▏    | 3365/6561 [00:17<00:12, 263.98it/s]"
     ]
    },
    {
     "name": "stderr",
     "output_type": "stream",
     "text": [
      "\r",
      "loading hamiltonians:  52%|█████▏    | 3392/6561 [00:18<00:12, 253.72it/s]"
     ]
    },
    {
     "name": "stderr",
     "output_type": "stream",
     "text": [
      "\r",
      "loading hamiltonians:  52%|█████▏    | 3418/6561 [00:18<00:12, 244.92it/s]"
     ]
    },
    {
     "name": "stderr",
     "output_type": "stream",
     "text": [
      "\r",
      "loading hamiltonians:  53%|█████▎    | 3447/6561 [00:18<00:12, 255.91it/s]"
     ]
    },
    {
     "name": "stderr",
     "output_type": "stream",
     "text": [
      "\r",
      "loading hamiltonians:  53%|█████▎    | 3473/6561 [00:20<01:28, 34.83it/s] "
     ]
    },
    {
     "name": "stderr",
     "output_type": "stream",
     "text": [
      "\r",
      "loading hamiltonians:  53%|█████▎    | 3503/6561 [00:20<01:04, 47.38it/s]"
     ]
    },
    {
     "name": "stderr",
     "output_type": "stream",
     "text": [
      "\r",
      "loading hamiltonians:  54%|█████▎    | 3526/6561 [00:20<00:48, 62.15it/s]"
     ]
    },
    {
     "name": "stderr",
     "output_type": "stream",
     "text": [
      "\r",
      "loading hamiltonians:  54%|█████▍    | 3557/6561 [00:20<00:36, 81.54it/s]"
     ]
    },
    {
     "name": "stderr",
     "output_type": "stream",
     "text": [
      "\r",
      "loading hamiltonians:  55%|█████▍    | 3582/6561 [00:20<00:29, 101.36it/s]"
     ]
    },
    {
     "name": "stderr",
     "output_type": "stream",
     "text": [
      "\r",
      "loading hamiltonians:  55%|█████▍    | 3607/6561 [00:21<00:24, 121.81it/s]"
     ]
    },
    {
     "name": "stderr",
     "output_type": "stream",
     "text": [
      "\r",
      "loading hamiltonians:  55%|█████▌    | 3638/6561 [00:21<00:19, 147.99it/s]"
     ]
    },
    {
     "name": "stderr",
     "output_type": "stream",
     "text": [
      "\r",
      "loading hamiltonians:  56%|█████▌    | 3664/6561 [00:21<00:17, 166.15it/s]"
     ]
    },
    {
     "name": "stderr",
     "output_type": "stream",
     "text": [
      "\r",
      "loading hamiltonians:  56%|█████▋    | 3694/6561 [00:21<00:14, 191.21it/s]"
     ]
    },
    {
     "name": "stderr",
     "output_type": "stream",
     "text": [
      "\r",
      "loading hamiltonians:  57%|█████▋    | 3721/6561 [00:21<00:13, 203.06it/s]"
     ]
    },
    {
     "name": "stderr",
     "output_type": "stream",
     "text": [
      "\r",
      "loading hamiltonians:  57%|█████▋    | 3747/6561 [00:21<00:13, 211.42it/s]"
     ]
    },
    {
     "name": "stderr",
     "output_type": "stream",
     "text": [
      "\r",
      "loading hamiltonians:  58%|█████▊    | 3778/6561 [00:21<00:11, 233.26it/s]"
     ]
    },
    {
     "name": "stderr",
     "output_type": "stream",
     "text": [
      "\r",
      "loading hamiltonians:  58%|█████▊    | 3805/6561 [00:21<00:11, 234.26it/s]"
     ]
    },
    {
     "name": "stderr",
     "output_type": "stream",
     "text": [
      "\r",
      "loading hamiltonians:  58%|█████▊    | 3836/6561 [00:21<00:10, 251.18it/s]"
     ]
    },
    {
     "name": "stderr",
     "output_type": "stream",
     "text": [
      "\r",
      "loading hamiltonians:  59%|█████▉    | 3864/6561 [00:22<00:10, 245.47it/s]"
     ]
    },
    {
     "name": "stderr",
     "output_type": "stream",
     "text": [
      "\r",
      "loading hamiltonians:  59%|█████▉    | 3890/6561 [00:22<00:11, 238.87it/s]"
     ]
    },
    {
     "name": "stderr",
     "output_type": "stream",
     "text": [
      "\r",
      "loading hamiltonians:  60%|█████▉    | 3919/6561 [00:22<00:10, 249.70it/s]"
     ]
    },
    {
     "name": "stderr",
     "output_type": "stream",
     "text": [
      "\r",
      "loading hamiltonians:  60%|██████    | 3945/6561 [00:22<00:10, 242.37it/s]"
     ]
    },
    {
     "name": "stderr",
     "output_type": "stream",
     "text": [
      "\r",
      "loading hamiltonians:  61%|██████    | 3973/6561 [00:22<00:10, 251.58it/s]"
     ]
    },
    {
     "name": "stderr",
     "output_type": "stream",
     "text": [
      "\r",
      "loading hamiltonians:  61%|██████    | 3999/6561 [00:22<00:10, 243.68it/s]"
     ]
    },
    {
     "name": "stderr",
     "output_type": "stream",
     "text": [
      "\r",
      "loading hamiltonians:  61%|██████▏   | 4028/6561 [00:22<00:10, 241.72it/s]"
     ]
    },
    {
     "name": "stderr",
     "output_type": "stream",
     "text": [
      "\r",
      "loading hamiltonians:  62%|██████▏   | 4059/6561 [00:22<00:09, 256.45it/s]"
     ]
    },
    {
     "name": "stderr",
     "output_type": "stream",
     "text": [
      "\r",
      "loading hamiltonians:  62%|██████▏   | 4086/6561 [00:22<00:09, 248.98it/s]"
     ]
    },
    {
     "name": "stderr",
     "output_type": "stream",
     "text": [
      "\r",
      "loading hamiltonians:  63%|██████▎   | 4117/6561 [00:23<00:09, 261.75it/s]"
     ]
    },
    {
     "name": "stderr",
     "output_type": "stream",
     "text": [
      "\r",
      "loading hamiltonians:  63%|██████▎   | 4144/6561 [00:23<00:09, 252.93it/s]"
     ]
    },
    {
     "name": "stderr",
     "output_type": "stream",
     "text": [
      "\r",
      "loading hamiltonians:  64%|██████▎   | 4170/6561 [00:23<00:09, 244.79it/s]"
     ]
    },
    {
     "name": "stderr",
     "output_type": "stream",
     "text": [
      "\r",
      "loading hamiltonians:  64%|██████▍   | 4199/6561 [00:23<00:09, 255.48it/s]"
     ]
    },
    {
     "name": "stderr",
     "output_type": "stream",
     "text": [
      "\r",
      "loading hamiltonians:  64%|██████▍   | 4225/6561 [00:23<00:09, 245.82it/s]"
     ]
    },
    {
     "name": "stderr",
     "output_type": "stream",
     "text": [
      "\r",
      "loading hamiltonians:  65%|██████▍   | 4254/6561 [00:23<00:08, 256.70it/s]"
     ]
    },
    {
     "name": "stderr",
     "output_type": "stream",
     "text": [
      "\r",
      "loading hamiltonians:  65%|██████▌   | 4281/6561 [00:23<00:09, 249.39it/s]"
     ]
    },
    {
     "name": "stderr",
     "output_type": "stream",
     "text": [
      "\r",
      "loading hamiltonians:  66%|██████▌   | 4308/6561 [00:23<00:09, 239.80it/s]"
     ]
    },
    {
     "name": "stderr",
     "output_type": "stream",
     "text": [
      "\r",
      "loading hamiltonians:  66%|██████▌   | 4339/6561 [00:23<00:08, 254.65it/s]"
     ]
    },
    {
     "name": "stderr",
     "output_type": "stream",
     "text": [
      "\r",
      "loading hamiltonians:  67%|██████▋   | 4365/6561 [00:24<00:08, 249.73it/s]"
     ]
    },
    {
     "name": "stderr",
     "output_type": "stream",
     "text": [
      "\r",
      "loading hamiltonians:  67%|██████▋   | 4395/6561 [00:24<00:08, 262.01it/s]"
     ]
    },
    {
     "name": "stderr",
     "output_type": "stream",
     "text": [
      "\r",
      "loading hamiltonians:  67%|██████▋   | 4422/6561 [00:24<00:08, 251.75it/s]"
     ]
    },
    {
     "name": "stderr",
     "output_type": "stream",
     "text": [
      "\r",
      "loading hamiltonians:  68%|██████▊   | 4448/6561 [00:24<00:08, 245.27it/s]"
     ]
    },
    {
     "name": "stderr",
     "output_type": "stream",
     "text": [
      "\r",
      "loading hamiltonians:  68%|██████▊   | 4476/6561 [00:24<00:08, 254.46it/s]"
     ]
    },
    {
     "name": "stderr",
     "output_type": "stream",
     "text": [
      "\r",
      "loading hamiltonians:  69%|██████▊   | 4502/6561 [00:27<01:13, 27.92it/s] "
     ]
    },
    {
     "name": "stderr",
     "output_type": "stream",
     "text": [
      "\r",
      "loading hamiltonians:  69%|██████▉   | 4533/6561 [00:27<00:52, 38.35it/s]"
     ]
    },
    {
     "name": "stderr",
     "output_type": "stream",
     "text": [
      "\r",
      "loading hamiltonians:  69%|██████▉   | 4557/6561 [00:27<00:39, 51.16it/s]"
     ]
    },
    {
     "name": "stderr",
     "output_type": "stream",
     "text": [
      "\r",
      "loading hamiltonians:  70%|██████▉   | 4588/6561 [00:27<00:28, 68.09it/s]"
     ]
    },
    {
     "name": "stderr",
     "output_type": "stream",
     "text": [
      "\r",
      "loading hamiltonians:  70%|███████   | 4613/6561 [00:27<00:22, 86.53it/s]"
     ]
    },
    {
     "name": "stderr",
     "output_type": "stream",
     "text": [
      "\r",
      "loading hamiltonians:  71%|███████   | 4639/6561 [00:27<00:18, 106.48it/s]"
     ]
    },
    {
     "name": "stderr",
     "output_type": "stream",
     "text": [
      "\r",
      "loading hamiltonians:  71%|███████   | 4669/6561 [00:27<00:14, 131.77it/s]"
     ]
    },
    {
     "name": "stderr",
     "output_type": "stream",
     "text": [
      "\r",
      "loading hamiltonians:  72%|███████▏  | 4695/6561 [00:28<00:12, 150.78it/s]"
     ]
    },
    {
     "name": "stderr",
     "output_type": "stream",
     "text": [
      "\r",
      "loading hamiltonians:  72%|███████▏  | 4724/6561 [00:28<00:10, 175.16it/s]"
     ]
    },
    {
     "name": "stderr",
     "output_type": "stream",
     "text": [
      "\r",
      "loading hamiltonians:  72%|███████▏  | 4750/6561 [00:28<00:09, 187.51it/s]"
     ]
    },
    {
     "name": "stderr",
     "output_type": "stream",
     "text": [
      "\r",
      "loading hamiltonians:  73%|███████▎  | 4779/6561 [00:28<00:08, 198.35it/s]"
     ]
    },
    {
     "name": "stderr",
     "output_type": "stream",
     "text": [
      "\r",
      "loading hamiltonians:  73%|███████▎  | 4808/6561 [00:28<00:08, 218.10it/s]"
     ]
    },
    {
     "name": "stderr",
     "output_type": "stream",
     "text": [
      "\r",
      "loading hamiltonians:  74%|███████▎  | 4834/6561 [00:28<00:07, 222.32it/s]"
     ]
    },
    {
     "name": "stderr",
     "output_type": "stream",
     "text": [
      "\r",
      "loading hamiltonians:  74%|███████▍  | 4864/6561 [00:28<00:07, 240.88it/s]"
     ]
    },
    {
     "name": "stderr",
     "output_type": "stream",
     "text": [
      "\r",
      "loading hamiltonians:  75%|███████▍  | 4891/6561 [00:28<00:06, 240.07it/s]"
     ]
    },
    {
     "name": "stderr",
     "output_type": "stream",
     "text": [
      "\r",
      "loading hamiltonians:  75%|███████▍  | 4919/6561 [00:28<00:06, 238.84it/s]"
     ]
    },
    {
     "name": "stderr",
     "output_type": "stream",
     "text": [
      "\r",
      "loading hamiltonians:  75%|███████▌  | 4950/6561 [00:29<00:06, 255.09it/s]"
     ]
    },
    {
     "name": "stderr",
     "output_type": "stream",
     "text": [
      "\r",
      "loading hamiltonians:  76%|███████▌  | 4977/6561 [00:29<00:06, 248.53it/s]"
     ]
    },
    {
     "name": "stderr",
     "output_type": "stream",
     "text": [
      "\r",
      "loading hamiltonians:  76%|███████▋  | 5007/6561 [00:29<00:05, 261.35it/s]"
     ]
    },
    {
     "name": "stderr",
     "output_type": "stream",
     "text": [
      "\r",
      "loading hamiltonians:  77%|███████▋  | 5034/6561 [00:29<00:06, 253.07it/s]"
     ]
    },
    {
     "name": "stderr",
     "output_type": "stream",
     "text": [
      "\r",
      "loading hamiltonians:  77%|███████▋  | 5060/6561 [00:29<00:06, 246.81it/s]"
     ]
    },
    {
     "name": "stderr",
     "output_type": "stream",
     "text": [
      "\r",
      "loading hamiltonians:  78%|███████▊  | 5090/6561 [00:29<00:05, 260.50it/s]"
     ]
    },
    {
     "name": "stderr",
     "output_type": "stream",
     "text": [
      "\r",
      "loading hamiltonians:  78%|███████▊  | 5117/6561 [00:29<00:05, 253.15it/s]"
     ]
    },
    {
     "name": "stderr",
     "output_type": "stream",
     "text": [
      "\r",
      "loading hamiltonians:  78%|███████▊  | 5148/6561 [00:29<00:05, 265.23it/s]"
     ]
    },
    {
     "name": "stderr",
     "output_type": "stream",
     "text": [
      "\r",
      "loading hamiltonians:  79%|███████▉  | 5175/6561 [00:29<00:05, 257.87it/s]"
     ]
    },
    {
     "name": "stderr",
     "output_type": "stream",
     "text": [
      "\r",
      "loading hamiltonians:  79%|███████▉  | 5202/6561 [00:30<00:05, 251.01it/s]"
     ]
    },
    {
     "name": "stderr",
     "output_type": "stream",
     "text": [
      "\r",
      "loading hamiltonians:  80%|███████▉  | 5232/6561 [00:30<00:05, 263.75it/s]"
     ]
    },
    {
     "name": "stderr",
     "output_type": "stream",
     "text": [
      "\r",
      "loading hamiltonians:  80%|████████  | 5259/6561 [00:30<00:05, 252.36it/s]"
     ]
    },
    {
     "name": "stderr",
     "output_type": "stream",
     "text": [
      "\r",
      "loading hamiltonians:  81%|████████  | 5289/6561 [00:30<00:04, 263.96it/s]"
     ]
    },
    {
     "name": "stderr",
     "output_type": "stream",
     "text": [
      "\r",
      "loading hamiltonians:  81%|████████  | 5316/6561 [00:30<00:04, 254.74it/s]"
     ]
    },
    {
     "name": "stderr",
     "output_type": "stream",
     "text": [
      "\r",
      "loading hamiltonians:  81%|████████▏ | 5342/6561 [00:30<00:05, 232.68it/s]"
     ]
    },
    {
     "name": "stderr",
     "output_type": "stream",
     "text": [
      "\r",
      "loading hamiltonians:  82%|████████▏ | 5373/6561 [00:30<00:04, 250.63it/s]"
     ]
    },
    {
     "name": "stderr",
     "output_type": "stream",
     "text": [
      "\r",
      "loading hamiltonians:  82%|████████▏ | 5399/6561 [00:30<00:04, 246.97it/s]"
     ]
    },
    {
     "name": "stderr",
     "output_type": "stream",
     "text": [
      "\r",
      "loading hamiltonians:  83%|████████▎ | 5430/6561 [00:30<00:04, 261.75it/s]"
     ]
    },
    {
     "name": "stderr",
     "output_type": "stream",
     "text": [
      "\r",
      "loading hamiltonians:  83%|████████▎ | 5457/6561 [00:31<00:04, 253.10it/s]"
     ]
    },
    {
     "name": "stderr",
     "output_type": "stream",
     "text": [
      "\r",
      "loading hamiltonians:  84%|████████▎ | 5483/6561 [00:31<00:04, 243.45it/s]"
     ]
    },
    {
     "name": "stderr",
     "output_type": "stream",
     "text": [
      "\r",
      "loading hamiltonians:  84%|████████▍ | 5512/6561 [00:31<00:04, 254.83it/s]"
     ]
    },
    {
     "name": "stderr",
     "output_type": "stream",
     "text": [
      "\r",
      "loading hamiltonians:  84%|████████▍ | 5538/6561 [00:31<00:04, 245.78it/s]"
     ]
    },
    {
     "name": "stderr",
     "output_type": "stream",
     "text": [
      "\r",
      "loading hamiltonians:  85%|████████▍ | 5567/6561 [00:31<00:03, 257.18it/s]"
     ]
    },
    {
     "name": "stderr",
     "output_type": "stream",
     "text": [
      "\r",
      "loading hamiltonians:  85%|████████▌ | 5594/6561 [00:31<00:03, 249.83it/s]"
     ]
    },
    {
     "name": "stderr",
     "output_type": "stream",
     "text": [
      "\r",
      "loading hamiltonians:  86%|████████▌ | 5620/6561 [00:31<00:03, 246.05it/s]"
     ]
    },
    {
     "name": "stderr",
     "output_type": "stream",
     "text": [
      "\r",
      "loading hamiltonians:  86%|████████▌ | 5651/6561 [00:31<00:03, 261.73it/s]"
     ]
    },
    {
     "name": "stderr",
     "output_type": "stream",
     "text": [
      "\r",
      "loading hamiltonians:  87%|████████▋ | 5678/6561 [00:31<00:03, 254.87it/s]"
     ]
    },
    {
     "name": "stderr",
     "output_type": "stream",
     "text": [
      "\r",
      "loading hamiltonians:  87%|████████▋ | 5709/6561 [00:32<00:03, 267.96it/s]"
     ]
    },
    {
     "name": "stderr",
     "output_type": "stream",
     "text": [
      "\r",
      "loading hamiltonians:  87%|████████▋ | 5737/6561 [00:32<00:03, 259.14it/s]"
     ]
    },
    {
     "name": "stderr",
     "output_type": "stream",
     "text": [
      "\r",
      "loading hamiltonians:  88%|████████▊ | 5764/6561 [00:35<00:34, 23.27it/s] "
     ]
    },
    {
     "name": "stderr",
     "output_type": "stream",
     "text": [
      "\r",
      "loading hamiltonians:  88%|████████▊ | 5794/6561 [00:35<00:23, 32.17it/s]"
     ]
    },
    {
     "name": "stderr",
     "output_type": "stream",
     "text": [
      "\r",
      "loading hamiltonians:  89%|████████▊ | 5818/6561 [00:35<00:17, 43.40it/s]"
     ]
    },
    {
     "name": "stderr",
     "output_type": "stream",
     "text": [
      "\r",
      "loading hamiltonians:  89%|████████▉ | 5849/6561 [00:36<00:12, 58.46it/s]"
     ]
    },
    {
     "name": "stderr",
     "output_type": "stream",
     "text": [
      "\r",
      "loading hamiltonians:  90%|████████▉ | 5874/6561 [00:36<00:09, 75.52it/s]"
     ]
    },
    {
     "name": "stderr",
     "output_type": "stream",
     "text": [
      "\r",
      "loading hamiltonians:  90%|████████▉ | 5903/6561 [00:36<00:06, 94.97it/s]"
     ]
    },
    {
     "name": "stderr",
     "output_type": "stream",
     "text": [
      "\r",
      "loading hamiltonians:  90%|█████████ | 5934/6561 [00:36<00:05, 119.84it/s]"
     ]
    },
    {
     "name": "stderr",
     "output_type": "stream",
     "text": [
      "\r",
      "loading hamiltonians:  91%|█████████ | 5961/6561 [00:36<00:04, 141.17it/s]"
     ]
    },
    {
     "name": "stderr",
     "output_type": "stream",
     "text": [
      "\r",
      "loading hamiltonians:  91%|█████████▏| 5992/6561 [00:36<00:03, 168.32it/s]"
     ]
    },
    {
     "name": "stderr",
     "output_type": "stream",
     "text": [
      "\r",
      "loading hamiltonians:  92%|█████████▏| 6020/6561 [00:36<00:02, 184.57it/s]"
     ]
    },
    {
     "name": "stderr",
     "output_type": "stream",
     "text": [
      "\r",
      "loading hamiltonians:  92%|█████████▏| 6047/6561 [00:36<00:02, 198.21it/s]"
     ]
    },
    {
     "name": "stderr",
     "output_type": "stream",
     "text": [
      "\r",
      "loading hamiltonians:  93%|█████████▎| 6078/6561 [00:36<00:02, 221.72it/s]"
     ]
    },
    {
     "name": "stderr",
     "output_type": "stream",
     "text": [
      "\r",
      "loading hamiltonians:  93%|█████████▎| 6106/6561 [00:37<00:02, 224.93it/s]"
     ]
    },
    {
     "name": "stderr",
     "output_type": "stream",
     "text": [
      "\r",
      "loading hamiltonians:  94%|█████████▎| 6136/6561 [00:37<00:01, 241.54it/s]"
     ]
    },
    {
     "name": "stderr",
     "output_type": "stream",
     "text": [
      "\r",
      "loading hamiltonians:  94%|█████████▍| 6163/6561 [00:37<00:01, 236.00it/s]"
     ]
    },
    {
     "name": "stderr",
     "output_type": "stream",
     "text": [
      "\r",
      "loading hamiltonians:  94%|█████████▍| 6189/6561 [00:37<00:01, 232.50it/s]"
     ]
    },
    {
     "name": "stderr",
     "output_type": "stream",
     "text": [
      "\r",
      "loading hamiltonians:  95%|█████████▍| 6218/6561 [00:37<00:01, 246.50it/s]"
     ]
    },
    {
     "name": "stderr",
     "output_type": "stream",
     "text": [
      "\r",
      "loading hamiltonians:  95%|█████████▌| 6244/6561 [00:37<00:01, 240.22it/s]"
     ]
    },
    {
     "name": "stderr",
     "output_type": "stream",
     "text": [
      "\r",
      "loading hamiltonians:  96%|█████████▌| 6275/6561 [00:37<00:01, 257.03it/s]"
     ]
    },
    {
     "name": "stderr",
     "output_type": "stream",
     "text": [
      "\r",
      "loading hamiltonians:  96%|█████████▌| 6302/6561 [00:37<00:01, 249.86it/s]"
     ]
    },
    {
     "name": "stderr",
     "output_type": "stream",
     "text": [
      "\r",
      "loading hamiltonians:  96%|█████████▋| 6328/6561 [00:37<00:00, 243.94it/s]"
     ]
    },
    {
     "name": "stderr",
     "output_type": "stream",
     "text": [
      "\r",
      "loading hamiltonians:  97%|█████████▋| 6359/6561 [00:38<00:00, 259.59it/s]"
     ]
    },
    {
     "name": "stderr",
     "output_type": "stream",
     "text": [
      "\r",
      "loading hamiltonians:  97%|█████████▋| 6386/6561 [00:38<00:00, 253.61it/s]"
     ]
    },
    {
     "name": "stderr",
     "output_type": "stream",
     "text": [
      "\r",
      "loading hamiltonians:  98%|█████████▊| 6417/6561 [00:38<00:00, 249.83it/s]"
     ]
    },
    {
     "name": "stderr",
     "output_type": "stream",
     "text": [
      "\r",
      "loading hamiltonians:  98%|█████████▊| 6448/6561 [00:38<00:00, 263.55it/s]"
     ]
    },
    {
     "name": "stderr",
     "output_type": "stream",
     "text": [
      "\r",
      "loading hamiltonians:  99%|█████████▊| 6475/6561 [00:38<00:00, 257.38it/s]"
     ]
    },
    {
     "name": "stderr",
     "output_type": "stream",
     "text": [
      "\r",
      "loading hamiltonians:  99%|█████████▉| 6506/6561 [00:38<00:00, 269.71it/s]"
     ]
    },
    {
     "name": "stderr",
     "output_type": "stream",
     "text": [
      "\r",
      "loading hamiltonians: 100%|█████████▉| 6534/6561 [00:38<00:00, 259.66it/s]"
     ]
    },
    {
     "name": "stderr",
     "output_type": "stream",
     "text": [
      "\r",
      "loading hamiltonians: 100%|██████████| 6561/6561 [00:38<00:00, 252.98it/s]"
     ]
    },
    {
     "name": "stderr",
     "output_type": "stream",
     "text": [
      "\r",
      "loading hamiltonians: 100%|██████████| 6561/6561 [00:38<00:00, 168.84it/s]"
     ]
    },
    {
     "name": "stderr",
     "output_type": "stream",
     "text": [
      "\n"
     ]
    },
    {
     "name": "stdout",
     "output_type": "stream",
     "text": [
      "shape of raw_data:  (1180980, 184)\n",
      "len list_of_hamiltonians:  6561\n"
     ]
    },
    {
     "name": "stdout",
     "output_type": "stream",
     "text": [
      "CPU times: user 4min 44s, sys: 24.9 s, total: 5min 8s\n",
      "Wall time: 5min 9s\n"
     ]
    }
   ],
   "source": [
    "%%time\n",
    "list_of_hamiltonians, raw_data = load_hamiltonians(grid_folder)\n",
    "print(\"shape of raw_data: \", raw_data.shape)\n",
    "print(\"len list_of_hamiltonians: \", len(list_of_hamiltonians))\n",
    "\n",
    "dataframe = make_dataframe(raw_data, list_of_hamiltonians, allowed_windings = allowed_windings, epsilon = epsilon, \\\n",
    "                           csv_name = csv_name, to_csv = to_csv)"
   ]
  },
  {
   "cell_type": "code",
   "execution_count": 5,
   "metadata": {
    "papermill": {
     "duration": 0.146666,
     "end_time": "2020-03-04T01:48:42.151885",
     "exception": false,
     "start_time": "2020-03-04T01:48:42.005219",
     "status": "completed"
    },
    "tags": []
   },
   "outputs": [
    {
     "name": "stdout",
     "output_type": "stream",
     "text": [
      "<class 'pandas.core.frame.DataFrame'>\n",
      "RangeIndex: 1180980 entries, 0 to 1180979\n",
      "Columns: 188 entries, id to feat179\n",
      "dtypes: float64(3), int32(1), int64(2), object(182)\n",
      "memory usage: 1.6+ GB\n"
     ]
    },
    {
     "data": {
      "text/html": [
       "<div>\n",
       "<style scoped>\n",
       "    .dataframe tbody tr th:only-of-type {\n",
       "        vertical-align: middle;\n",
       "    }\n",
       "\n",
       "    .dataframe tbody tr th {\n",
       "        vertical-align: top;\n",
       "    }\n",
       "\n",
       "    .dataframe thead th {\n",
       "        text-align: right;\n",
       "    }\n",
       "</style>\n",
       "<table border=\"1\" class=\"dataframe\">\n",
       "  <thead>\n",
       "    <tr style=\"text-align: right;\">\n",
       "      <th></th>\n",
       "      <th>id</th>\n",
       "      <th>path</th>\n",
       "      <th>t1</th>\n",
       "      <th>t2</th>\n",
       "      <th>winding</th>\n",
       "      <th>phase</th>\n",
       "      <th>pred_phase</th>\n",
       "      <th>type_of</th>\n",
       "      <th>feat0</th>\n",
       "      <th>feat1</th>\n",
       "      <th>...</th>\n",
       "      <th>feat170</th>\n",
       "      <th>feat171</th>\n",
       "      <th>feat172</th>\n",
       "      <th>feat173</th>\n",
       "      <th>feat174</th>\n",
       "      <th>feat175</th>\n",
       "      <th>feat176</th>\n",
       "      <th>feat177</th>\n",
       "      <th>feat178</th>\n",
       "      <th>feat179</th>\n",
       "    </tr>\n",
       "  </thead>\n",
       "  <tbody>\n",
       "    <tr>\n",
       "      <th>0</th>\n",
       "      <td>0</td>\n",
       "      <td>H_-2_-2_0.501338.dat</td>\n",
       "      <td>-2.0</td>\n",
       "      <td>-2.0</td>\n",
       "      <td>0.501338</td>\n",
       "      <td>999</td>\n",
       "      <td>666</td>\n",
       "      <td>test</td>\n",
       "      <td>0.074536</td>\n",
       "      <td>0.074536</td>\n",
       "      <td>...</td>\n",
       "      <td>0.074536</td>\n",
       "      <td>0.074536</td>\n",
       "      <td>0.074536</td>\n",
       "      <td>0.074536</td>\n",
       "      <td>0.074536</td>\n",
       "      <td>0.074536</td>\n",
       "      <td>0.074536</td>\n",
       "      <td>0.074536</td>\n",
       "      <td>0.074536</td>\n",
       "      <td>0.074536</td>\n",
       "    </tr>\n",
       "    <tr>\n",
       "      <th>1</th>\n",
       "      <td>0</td>\n",
       "      <td>H_-2_-2_0.501338.dat</td>\n",
       "      <td>-2.0</td>\n",
       "      <td>-2.0</td>\n",
       "      <td>0.501338</td>\n",
       "      <td>999</td>\n",
       "      <td>666</td>\n",
       "      <td>test</td>\n",
       "      <td>0.105409</td>\n",
       "      <td>0.105345</td>\n",
       "      <td>...</td>\n",
       "      <td>0.099052</td>\n",
       "      <td>0.097734</td>\n",
       "      <td>0.101326</td>\n",
       "      <td>0.100250</td>\n",
       "      <td>0.103106</td>\n",
       "      <td>0.102278</td>\n",
       "      <td>0.104383</td>\n",
       "      <td>0.103808</td>\n",
       "      <td>0.105152</td>\n",
       "      <td>0.104832</td>\n",
       "    </tr>\n",
       "    <tr>\n",
       "      <th>2</th>\n",
       "      <td>0</td>\n",
       "      <td>H_-2_-2_0.501338.dat</td>\n",
       "      <td>-2.0</td>\n",
       "      <td>-2.0</td>\n",
       "      <td>0.501338</td>\n",
       "      <td>999</td>\n",
       "      <td>666</td>\n",
       "      <td>test</td>\n",
       "      <td>0.105409</td>\n",
       "      <td>0.105152</td>\n",
       "      <td>...</td>\n",
       "      <td>0.080748</td>\n",
       "      <td>0.075825</td>\n",
       "      <td>0.089392</td>\n",
       "      <td>0.085278</td>\n",
       "      <td>0.096296</td>\n",
       "      <td>0.093071</td>\n",
       "      <td>0.101326</td>\n",
       "      <td>0.099052</td>\n",
       "      <td>0.104383</td>\n",
       "      <td>0.103106</td>\n",
       "    </tr>\n",
       "    <tr>\n",
       "      <th>3</th>\n",
       "      <td>0</td>\n",
       "      <td>H_-2_-2_0.501338.dat</td>\n",
       "      <td>-2.0</td>\n",
       "      <td>-2.0</td>\n",
       "      <td>0.501338</td>\n",
       "      <td>999</td>\n",
       "      <td>666</td>\n",
       "      <td>test</td>\n",
       "      <td>-0.074536</td>\n",
       "      <td>0.074536</td>\n",
       "      <td>...</td>\n",
       "      <td>-0.074536</td>\n",
       "      <td>0.074536</td>\n",
       "      <td>-0.074536</td>\n",
       "      <td>0.074536</td>\n",
       "      <td>-0.074536</td>\n",
       "      <td>0.074536</td>\n",
       "      <td>-0.074536</td>\n",
       "      <td>0.074536</td>\n",
       "      <td>-0.074536</td>\n",
       "      <td>0.074536</td>\n",
       "    </tr>\n",
       "    <tr>\n",
       "      <th>4</th>\n",
       "      <td>0</td>\n",
       "      <td>H_-2_-2_0.501338.dat</td>\n",
       "      <td>-2.0</td>\n",
       "      <td>-2.0</td>\n",
       "      <td>0.501338</td>\n",
       "      <td>999</td>\n",
       "      <td>666</td>\n",
       "      <td>test</td>\n",
       "      <td>0.000030</td>\n",
       "      <td>-0.003649</td>\n",
       "      <td>...</td>\n",
       "      <td>-0.036024</td>\n",
       "      <td>-0.039459</td>\n",
       "      <td>-0.029026</td>\n",
       "      <td>-0.032545</td>\n",
       "      <td>-0.021886</td>\n",
       "      <td>-0.025472</td>\n",
       "      <td>-0.014640</td>\n",
       "      <td>-0.018274</td>\n",
       "      <td>-0.007323</td>\n",
       "      <td>-0.010988</td>\n",
       "    </tr>\n",
       "  </tbody>\n",
       "</table>\n",
       "<p>5 rows × 188 columns</p>\n",
       "</div>"
      ],
      "text/plain": [
       "   id                  path   t1   t2   winding  phase  pred_phase type_of  \\\n",
       "0   0  H_-2_-2_0.501338.dat -2.0 -2.0  0.501338    999         666    test   \n",
       "1   0  H_-2_-2_0.501338.dat -2.0 -2.0  0.501338    999         666    test   \n",
       "2   0  H_-2_-2_0.501338.dat -2.0 -2.0  0.501338    999         666    test   \n",
       "3   0  H_-2_-2_0.501338.dat -2.0 -2.0  0.501338    999         666    test   \n",
       "4   0  H_-2_-2_0.501338.dat -2.0 -2.0  0.501338    999         666    test   \n",
       "\n",
       "       feat0      feat1  ...    feat170    feat171    feat172    feat173  \\\n",
       "0   0.074536   0.074536  ...   0.074536   0.074536   0.074536   0.074536   \n",
       "1   0.105409   0.105345  ...   0.099052   0.097734   0.101326   0.100250   \n",
       "2   0.105409   0.105152  ...   0.080748   0.075825   0.089392   0.085278   \n",
       "3  -0.074536   0.074536  ...  -0.074536   0.074536  -0.074536   0.074536   \n",
       "4   0.000030  -0.003649  ...  -0.036024  -0.039459  -0.029026  -0.032545   \n",
       "\n",
       "     feat174    feat175    feat176    feat177    feat178    feat179  \n",
       "0   0.074536   0.074536   0.074536   0.074536   0.074536   0.074536  \n",
       "1   0.103106   0.102278   0.104383   0.103808   0.105152   0.104832  \n",
       "2   0.096296   0.093071   0.101326   0.099052   0.104383   0.103106  \n",
       "3  -0.074536   0.074536  -0.074536   0.074536  -0.074536   0.074536  \n",
       "4  -0.021886  -0.025472  -0.014640  -0.018274  -0.007323  -0.010988  \n",
       "\n",
       "[5 rows x 188 columns]"
      ]
     },
     "execution_count": 5,
     "metadata": {},
     "output_type": "execute_result"
    }
   ],
   "source": [
    "dataframe.info()\n",
    "dataframe.head()\n",
    "#dataframe.tail()"
   ]
  },
  {
   "cell_type": "markdown",
   "metadata": {
    "papermill": {
     "duration": 0.066533,
     "end_time": "2020-03-04T01:48:42.290069",
     "exception": false,
     "start_time": "2020-03-04T01:48:42.223536",
     "status": "completed"
    },
    "tags": []
   },
   "source": [
    "#### Checking t values are row-major sorted"
   ]
  },
  {
   "cell_type": "code",
   "execution_count": 6,
   "metadata": {
    "papermill": {
     "duration": 0.095412,
     "end_time": "2020-03-04T01:48:42.450903",
     "exception": false,
     "start_time": "2020-03-04T01:48:42.355491",
     "status": "completed"
    },
    "tags": []
   },
   "outputs": [
    {
     "name": "stdout",
     "output_type": "stream",
     "text": [
      "t_array:\n",
      " [[-2. -2.]\n",
      " [-2. -2.]\n",
      " [-2. -2.]\n",
      " ...\n",
      " [ 2.  2.]\n",
      " [ 2.  2.]\n",
      " [ 2.  2.]]\n"
     ]
    }
   ],
   "source": [
    "#np.set_printoptions(threshold=np.inf)\n",
    "t_array = dataframe[[\"t1\", \"t2\"]].values\n",
    "print(\"t_array:\\n\", t_array)\n",
    "np.set_printoptions()"
   ]
  },
  {
   "cell_type": "markdown",
   "metadata": {
    "papermill": {
     "duration": 0.071571,
     "end_time": "2020-03-04T01:48:42.596831",
     "exception": false,
     "start_time": "2020-03-04T01:48:42.525260",
     "status": "completed"
    },
    "tags": []
   },
   "source": [
    "#### Making a grid"
   ]
  },
  {
   "cell_type": "code",
   "execution_count": 7,
   "metadata": {
    "papermill": {
     "duration": 0.092955,
     "end_time": "2020-03-04T01:48:42.763079",
     "exception": false,
     "start_time": "2020-03-04T01:48:42.670124",
     "status": "completed"
    },
    "tags": []
   },
   "outputs": [
    {
     "name": "stdout",
     "output_type": "stream",
     "text": [
      "xx: \n",
      " [-2. -2. -2. ...  2.  2.  2.]\n",
      "yy: \n",
      " [-2. -2. -2. ...  2.  2.  2.]\n"
     ]
    }
   ],
   "source": [
    "xx = dataframe.t2.values\n",
    "yy = dataframe.t1.values\n",
    "print(\"xx: \\n\", xx)\n",
    "print(\"yy: \\n\", yy)"
   ]
  },
  {
   "cell_type": "markdown",
   "metadata": {
    "papermill": {
     "duration": 0.071724,
     "end_time": "2020-03-04T01:48:42.910941",
     "exception": false,
     "start_time": "2020-03-04T01:48:42.839217",
     "status": "completed"
    },
    "tags": []
   },
   "source": [
    "#### Train/test "
   ]
  },
  {
   "cell_type": "code",
   "execution_count": 8,
   "metadata": {
    "papermill": {
     "duration": 14.866129,
     "end_time": "2020-03-04T01:48:57.846871",
     "exception": false,
     "start_time": "2020-03-04T01:48:42.980742",
     "status": "completed"
    },
    "tags": []
   },
   "outputs": [
    {
     "name": "stdout",
     "output_type": "stream",
     "text": [
      "% train:  0.9358329522938577\n",
      "% test:  0.06416704770614236\n",
      "% train + test:  1.0\n"
     ]
    }
   ],
   "source": [
    "n_total = len(dataframe)\n",
    "n_train = len(dataframe[dataframe.type_of == \"train\"])\n",
    "n_test = len(dataframe[dataframe.type_of == \"test\"])\n",
    "print(\"% train: \", n_train/n_total)\n",
    "print(\"% test: \", n_test/n_total)\n",
    "print(\"% train + test: \", (n_train+n_test)/n_total)"
   ]
  },
  {
   "cell_type": "code",
   "execution_count": 9,
   "metadata": {
    "papermill": {
     "duration": 8.728852,
     "end_time": "2020-03-04T01:49:06.675205",
     "exception": false,
     "start_time": "2020-03-04T01:48:57.946353",
     "status": "completed"
    },
    "tags": []
   },
   "outputs": [
    {
     "data": {
      "text/html": [
       "<div>\n",
       "<style scoped>\n",
       "    .dataframe tbody tr th:only-of-type {\n",
       "        vertical-align: middle;\n",
       "    }\n",
       "\n",
       "    .dataframe tbody tr th {\n",
       "        vertical-align: top;\n",
       "    }\n",
       "\n",
       "    .dataframe thead th {\n",
       "        text-align: right;\n",
       "    }\n",
       "</style>\n",
       "<table border=\"1\" class=\"dataframe\">\n",
       "  <thead>\n",
       "    <tr style=\"text-align: right;\">\n",
       "      <th></th>\n",
       "      <th>id</th>\n",
       "      <th>path</th>\n",
       "      <th>t1</th>\n",
       "      <th>t2</th>\n",
       "      <th>winding</th>\n",
       "      <th>phase</th>\n",
       "      <th>pred_phase</th>\n",
       "      <th>type_of</th>\n",
       "      <th>feat0</th>\n",
       "      <th>feat1</th>\n",
       "      <th>...</th>\n",
       "      <th>feat170</th>\n",
       "      <th>feat171</th>\n",
       "      <th>feat172</th>\n",
       "      <th>feat173</th>\n",
       "      <th>feat174</th>\n",
       "      <th>feat175</th>\n",
       "      <th>feat176</th>\n",
       "      <th>feat177</th>\n",
       "      <th>feat178</th>\n",
       "      <th>feat179</th>\n",
       "    </tr>\n",
       "  </thead>\n",
       "  <tbody>\n",
       "    <tr>\n",
       "      <th>720</th>\n",
       "      <td>4</td>\n",
       "      <td>H_-2_-1.8_-0.00976312.dat</td>\n",
       "      <td>-2.0</td>\n",
       "      <td>-1.80</td>\n",
       "      <td>-0.009763</td>\n",
       "      <td>0</td>\n",
       "      <td>666</td>\n",
       "      <td>train</td>\n",
       "      <td>0.074536</td>\n",
       "      <td>0.074536</td>\n",
       "      <td>...</td>\n",
       "      <td>0.074536</td>\n",
       "      <td>0.074536</td>\n",
       "      <td>0.074536</td>\n",
       "      <td>0.074536</td>\n",
       "      <td>0.074536</td>\n",
       "      <td>0.074536</td>\n",
       "      <td>0.074536</td>\n",
       "      <td>0.074536</td>\n",
       "      <td>0.074536</td>\n",
       "      <td>0.074536</td>\n",
       "    </tr>\n",
       "    <tr>\n",
       "      <th>721</th>\n",
       "      <td>4</td>\n",
       "      <td>H_-2_-1.8_-0.00976312.dat</td>\n",
       "      <td>-2.0</td>\n",
       "      <td>-1.80</td>\n",
       "      <td>-0.009763</td>\n",
       "      <td>0</td>\n",
       "      <td>666</td>\n",
       "      <td>train</td>\n",
       "      <td>-0.105409</td>\n",
       "      <td>-0.105352</td>\n",
       "      <td>...</td>\n",
       "      <td>-0.099052</td>\n",
       "      <td>-0.097806</td>\n",
       "      <td>-0.101326</td>\n",
       "      <td>-0.100310</td>\n",
       "      <td>-0.103106</td>\n",
       "      <td>-0.102325</td>\n",
       "      <td>-0.104383</td>\n",
       "      <td>-0.103841</td>\n",
       "      <td>-0.105152</td>\n",
       "      <td>-0.104852</td>\n",
       "    </tr>\n",
       "    <tr>\n",
       "      <th>722</th>\n",
       "      <td>4</td>\n",
       "      <td>H_-2_-1.8_-0.00976312.dat</td>\n",
       "      <td>-2.0</td>\n",
       "      <td>-1.80</td>\n",
       "      <td>-0.009763</td>\n",
       "      <td>0</td>\n",
       "      <td>666</td>\n",
       "      <td>train</td>\n",
       "      <td>0.105409</td>\n",
       "      <td>0.105179</td>\n",
       "      <td>...</td>\n",
       "      <td>0.080748</td>\n",
       "      <td>0.076094</td>\n",
       "      <td>0.089392</td>\n",
       "      <td>0.085505</td>\n",
       "      <td>0.096296</td>\n",
       "      <td>0.093252</td>\n",
       "      <td>0.101326</td>\n",
       "      <td>0.099184</td>\n",
       "      <td>0.104383</td>\n",
       "      <td>0.103186</td>\n",
       "    </tr>\n",
       "    <tr>\n",
       "      <th>723</th>\n",
       "      <td>4</td>\n",
       "      <td>H_-2_-1.8_-0.00976312.dat</td>\n",
       "      <td>-2.0</td>\n",
       "      <td>-1.80</td>\n",
       "      <td>-0.009763</td>\n",
       "      <td>0</td>\n",
       "      <td>666</td>\n",
       "      <td>train</td>\n",
       "      <td>0.105409</td>\n",
       "      <td>0.104891</td>\n",
       "      <td>...</td>\n",
       "      <td>0.052705</td>\n",
       "      <td>0.043406</td>\n",
       "      <td>0.070533</td>\n",
       "      <td>0.062429</td>\n",
       "      <td>0.085278</td>\n",
       "      <td>0.078723</td>\n",
       "      <td>0.096296</td>\n",
       "      <td>0.091577</td>\n",
       "      <td>0.103106</td>\n",
       "      <td>0.100429</td>\n",
       "    </tr>\n",
       "    <tr>\n",
       "      <th>724</th>\n",
       "      <td>4</td>\n",
       "      <td>H_-2_-1.8_-0.00976312.dat</td>\n",
       "      <td>-2.0</td>\n",
       "      <td>-1.80</td>\n",
       "      <td>-0.009763</td>\n",
       "      <td>0</td>\n",
       "      <td>666</td>\n",
       "      <td>train</td>\n",
       "      <td>0.074536</td>\n",
       "      <td>-0.074536</td>\n",
       "      <td>...</td>\n",
       "      <td>0.074536</td>\n",
       "      <td>-0.074536</td>\n",
       "      <td>0.074536</td>\n",
       "      <td>-0.074536</td>\n",
       "      <td>0.074536</td>\n",
       "      <td>-0.074536</td>\n",
       "      <td>0.074536</td>\n",
       "      <td>-0.074536</td>\n",
       "      <td>0.074536</td>\n",
       "      <td>-0.074536</td>\n",
       "    </tr>\n",
       "    <tr>\n",
       "      <th>...</th>\n",
       "      <td>...</td>\n",
       "      <td>...</td>\n",
       "      <td>...</td>\n",
       "      <td>...</td>\n",
       "      <td>...</td>\n",
       "      <td>...</td>\n",
       "      <td>...</td>\n",
       "      <td>...</td>\n",
       "      <td>...</td>\n",
       "      <td>...</td>\n",
       "      <td>...</td>\n",
       "      <td>...</td>\n",
       "      <td>...</td>\n",
       "      <td>...</td>\n",
       "      <td>...</td>\n",
       "      <td>...</td>\n",
       "      <td>...</td>\n",
       "      <td>...</td>\n",
       "      <td>...</td>\n",
       "      <td>...</td>\n",
       "      <td>...</td>\n",
       "    </tr>\n",
       "    <tr>\n",
       "      <th>1715</th>\n",
       "      <td>9</td>\n",
       "      <td>H_-2_-1.55_-0.00373594.dat</td>\n",
       "      <td>-2.0</td>\n",
       "      <td>-1.55</td>\n",
       "      <td>-0.003736</td>\n",
       "      <td>0</td>\n",
       "      <td>666</td>\n",
       "      <td>train</td>\n",
       "      <td>0.105409</td>\n",
       "      <td>-0.075686</td>\n",
       "      <td>...</td>\n",
       "      <td>-0.105409</td>\n",
       "      <td>0.075686</td>\n",
       "      <td>0.032563</td>\n",
       "      <td>0.046389</td>\n",
       "      <td>0.085284</td>\n",
       "      <td>-0.104355</td>\n",
       "      <td>-0.085271</td>\n",
       "      <td>0.018106</td>\n",
       "      <td>-0.032584</td>\n",
       "      <td>0.093165</td>\n",
       "    </tr>\n",
       "    <tr>\n",
       "      <th>1716</th>\n",
       "      <td>9</td>\n",
       "      <td>H_-2_-1.55_-0.00373594.dat</td>\n",
       "      <td>-2.0</td>\n",
       "      <td>-1.55</td>\n",
       "      <td>-0.003736</td>\n",
       "      <td>0</td>\n",
       "      <td>666</td>\n",
       "      <td>train</td>\n",
       "      <td>0.105409</td>\n",
       "      <td>-0.077469</td>\n",
       "      <td>...</td>\n",
       "      <td>-0.098998</td>\n",
       "      <td>0.097246</td>\n",
       "      <td>0.059076</td>\n",
       "      <td>0.015941</td>\n",
       "      <td>0.070414</td>\n",
       "      <td>-0.104958</td>\n",
       "      <td>-0.093145</td>\n",
       "      <td>0.034843</td>\n",
       "      <td>-0.025347</td>\n",
       "      <td>0.088100</td>\n",
       "    </tr>\n",
       "    <tr>\n",
       "      <th>1717</th>\n",
       "      <td>9</td>\n",
       "      <td>H_-2_-1.55_-0.00373594.dat</td>\n",
       "      <td>-2.0</td>\n",
       "      <td>-1.55</td>\n",
       "      <td>-0.003736</td>\n",
       "      <td>0</td>\n",
       "      <td>666</td>\n",
       "      <td>train</td>\n",
       "      <td>0.105407</td>\n",
       "      <td>-0.072031</td>\n",
       "      <td>...</td>\n",
       "      <td>-0.080319</td>\n",
       "      <td>0.005710</td>\n",
       "      <td>-0.026146</td>\n",
       "      <td>0.092099</td>\n",
       "      <td>0.103242</td>\n",
       "      <td>-0.086457</td>\n",
       "      <td>-0.064370</td>\n",
       "      <td>-0.016298</td>\n",
       "      <td>-0.046806</td>\n",
       "      <td>0.100746</td>\n",
       "    </tr>\n",
       "    <tr>\n",
       "      <th>1718</th>\n",
       "      <td>9</td>\n",
       "      <td>H_-2_-1.55_-0.00373594.dat</td>\n",
       "      <td>-2.0</td>\n",
       "      <td>-1.55</td>\n",
       "      <td>-0.003736</td>\n",
       "      <td>0</td>\n",
       "      <td>666</td>\n",
       "      <td>train</td>\n",
       "      <td>-0.105409</td>\n",
       "      <td>0.082390</td>\n",
       "      <td>...</td>\n",
       "      <td>0.018429</td>\n",
       "      <td>-0.079058</td>\n",
       "      <td>-0.104366</td>\n",
       "      <td>0.072438</td>\n",
       "      <td>-0.011145</td>\n",
       "      <td>0.074002</td>\n",
       "      <td>0.105144</td>\n",
       "      <td>-0.077603</td>\n",
       "      <td>0.003806</td>\n",
       "      <td>-0.068585</td>\n",
       "    </tr>\n",
       "    <tr>\n",
       "      <th>1719</th>\n",
       "      <td>9</td>\n",
       "      <td>H_-2_-1.55_-0.00373594.dat</td>\n",
       "      <td>-2.0</td>\n",
       "      <td>-1.55</td>\n",
       "      <td>-0.003736</td>\n",
       "      <td>0</td>\n",
       "      <td>666</td>\n",
       "      <td>train</td>\n",
       "      <td>0.105409</td>\n",
       "      <td>-0.073814</td>\n",
       "      <td>...</td>\n",
       "      <td>-0.098929</td>\n",
       "      <td>0.043626</td>\n",
       "      <td>0.003320</td>\n",
       "      <td>0.072628</td>\n",
       "      <td>0.096442</td>\n",
       "      <td>-0.098040</td>\n",
       "      <td>-0.075575</td>\n",
       "      <td>0.000825</td>\n",
       "      <td>-0.039820</td>\n",
       "      <td>0.097422</td>\n",
       "    </tr>\n",
       "  </tbody>\n",
       "</table>\n",
       "<p>1000 rows × 188 columns</p>\n",
       "</div>"
      ],
      "text/plain": [
       "      id                        path   t1    t2   winding  phase  pred_phase  \\\n",
       "720    4   H_-2_-1.8_-0.00976312.dat -2.0 -1.80 -0.009763      0         666   \n",
       "721    4   H_-2_-1.8_-0.00976312.dat -2.0 -1.80 -0.009763      0         666   \n",
       "722    4   H_-2_-1.8_-0.00976312.dat -2.0 -1.80 -0.009763      0         666   \n",
       "723    4   H_-2_-1.8_-0.00976312.dat -2.0 -1.80 -0.009763      0         666   \n",
       "724    4   H_-2_-1.8_-0.00976312.dat -2.0 -1.80 -0.009763      0         666   \n",
       "...   ..                         ...  ...   ...       ...    ...         ...   \n",
       "1715   9  H_-2_-1.55_-0.00373594.dat -2.0 -1.55 -0.003736      0         666   \n",
       "1716   9  H_-2_-1.55_-0.00373594.dat -2.0 -1.55 -0.003736      0         666   \n",
       "1717   9  H_-2_-1.55_-0.00373594.dat -2.0 -1.55 -0.003736      0         666   \n",
       "1718   9  H_-2_-1.55_-0.00373594.dat -2.0 -1.55 -0.003736      0         666   \n",
       "1719   9  H_-2_-1.55_-0.00373594.dat -2.0 -1.55 -0.003736      0         666   \n",
       "\n",
       "     type_of      feat0      feat1  ...    feat170    feat171    feat172  \\\n",
       "720    train   0.074536   0.074536  ...   0.074536   0.074536   0.074536   \n",
       "721    train  -0.105409  -0.105352  ...  -0.099052  -0.097806  -0.101326   \n",
       "722    train   0.105409   0.105179  ...   0.080748   0.076094   0.089392   \n",
       "723    train   0.105409   0.104891  ...   0.052705   0.043406   0.070533   \n",
       "724    train   0.074536  -0.074536  ...   0.074536  -0.074536   0.074536   \n",
       "...      ...        ...        ...  ...        ...        ...        ...   \n",
       "1715   train   0.105409  -0.075686  ...  -0.105409   0.075686   0.032563   \n",
       "1716   train   0.105409  -0.077469  ...  -0.098998   0.097246   0.059076   \n",
       "1717   train   0.105407  -0.072031  ...  -0.080319   0.005710  -0.026146   \n",
       "1718   train  -0.105409   0.082390  ...   0.018429  -0.079058  -0.104366   \n",
       "1719   train   0.105409  -0.073814  ...  -0.098929   0.043626   0.003320   \n",
       "\n",
       "        feat173    feat174    feat175    feat176    feat177    feat178  \\\n",
       "720    0.074536   0.074536   0.074536   0.074536   0.074536   0.074536   \n",
       "721   -0.100310  -0.103106  -0.102325  -0.104383  -0.103841  -0.105152   \n",
       "722    0.085505   0.096296   0.093252   0.101326   0.099184   0.104383   \n",
       "723    0.062429   0.085278   0.078723   0.096296   0.091577   0.103106   \n",
       "724   -0.074536   0.074536  -0.074536   0.074536  -0.074536   0.074536   \n",
       "...         ...        ...        ...        ...        ...        ...   \n",
       "1715   0.046389   0.085284  -0.104355  -0.085271   0.018106  -0.032584   \n",
       "1716   0.015941   0.070414  -0.104958  -0.093145   0.034843  -0.025347   \n",
       "1717   0.092099   0.103242  -0.086457  -0.064370  -0.016298  -0.046806   \n",
       "1718   0.072438  -0.011145   0.074002   0.105144  -0.077603   0.003806   \n",
       "1719   0.072628   0.096442  -0.098040  -0.075575   0.000825  -0.039820   \n",
       "\n",
       "        feat179  \n",
       "720    0.074536  \n",
       "721   -0.104852  \n",
       "722    0.103186  \n",
       "723    0.100429  \n",
       "724   -0.074536  \n",
       "...         ...  \n",
       "1715   0.093165  \n",
       "1716   0.088100  \n",
       "1717   0.100746  \n",
       "1718  -0.068585  \n",
       "1719   0.097422  \n",
       "\n",
       "[1000 rows x 188 columns]"
      ]
     },
     "execution_count": 9,
     "metadata": {},
     "output_type": "execute_result"
    }
   ],
   "source": [
    "# A view of train data\n",
    "dataframe[dataframe.type_of == \"train\"].head(1000)"
   ]
  },
  {
   "cell_type": "code",
   "execution_count": 10,
   "metadata": {
    "papermill": {
     "duration": 0.593018,
     "end_time": "2020-03-04T01:49:07.339535",
     "exception": false,
     "start_time": "2020-03-04T01:49:06.746517",
     "status": "completed"
    },
    "tags": []
   },
   "outputs": [
    {
     "data": {
      "text/html": [
       "<div>\n",
       "<style scoped>\n",
       "    .dataframe tbody tr th:only-of-type {\n",
       "        vertical-align: middle;\n",
       "    }\n",
       "\n",
       "    .dataframe tbody tr th {\n",
       "        vertical-align: top;\n",
       "    }\n",
       "\n",
       "    .dataframe thead th {\n",
       "        text-align: right;\n",
       "    }\n",
       "</style>\n",
       "<table border=\"1\" class=\"dataframe\">\n",
       "  <thead>\n",
       "    <tr style=\"text-align: right;\">\n",
       "      <th></th>\n",
       "      <th>id</th>\n",
       "      <th>path</th>\n",
       "      <th>t1</th>\n",
       "      <th>t2</th>\n",
       "      <th>winding</th>\n",
       "      <th>phase</th>\n",
       "      <th>pred_phase</th>\n",
       "      <th>type_of</th>\n",
       "      <th>feat0</th>\n",
       "      <th>feat1</th>\n",
       "      <th>...</th>\n",
       "      <th>feat170</th>\n",
       "      <th>feat171</th>\n",
       "      <th>feat172</th>\n",
       "      <th>feat173</th>\n",
       "      <th>feat174</th>\n",
       "      <th>feat175</th>\n",
       "      <th>feat176</th>\n",
       "      <th>feat177</th>\n",
       "      <th>feat178</th>\n",
       "      <th>feat179</th>\n",
       "    </tr>\n",
       "  </thead>\n",
       "  <tbody>\n",
       "    <tr>\n",
       "      <th>0</th>\n",
       "      <td>0</td>\n",
       "      <td>H_-2_-2_0.501338.dat</td>\n",
       "      <td>-2.00</td>\n",
       "      <td>-2.0</td>\n",
       "      <td>0.501338</td>\n",
       "      <td>999</td>\n",
       "      <td>666</td>\n",
       "      <td>test</td>\n",
       "      <td>0.074536</td>\n",
       "      <td>0.074536</td>\n",
       "      <td>...</td>\n",
       "      <td>0.074536</td>\n",
       "      <td>0.074536</td>\n",
       "      <td>0.074536</td>\n",
       "      <td>0.074536</td>\n",
       "      <td>0.074536</td>\n",
       "      <td>0.074536</td>\n",
       "      <td>0.074536</td>\n",
       "      <td>0.074536</td>\n",
       "      <td>0.074536</td>\n",
       "      <td>0.074536</td>\n",
       "    </tr>\n",
       "    <tr>\n",
       "      <th>1</th>\n",
       "      <td>0</td>\n",
       "      <td>H_-2_-2_0.501338.dat</td>\n",
       "      <td>-2.00</td>\n",
       "      <td>-2.0</td>\n",
       "      <td>0.501338</td>\n",
       "      <td>999</td>\n",
       "      <td>666</td>\n",
       "      <td>test</td>\n",
       "      <td>0.105409</td>\n",
       "      <td>0.105345</td>\n",
       "      <td>...</td>\n",
       "      <td>0.099052</td>\n",
       "      <td>0.097734</td>\n",
       "      <td>0.101326</td>\n",
       "      <td>0.100250</td>\n",
       "      <td>0.103106</td>\n",
       "      <td>0.102278</td>\n",
       "      <td>0.104383</td>\n",
       "      <td>0.103808</td>\n",
       "      <td>0.105152</td>\n",
       "      <td>0.104832</td>\n",
       "    </tr>\n",
       "    <tr>\n",
       "      <th>2</th>\n",
       "      <td>0</td>\n",
       "      <td>H_-2_-2_0.501338.dat</td>\n",
       "      <td>-2.00</td>\n",
       "      <td>-2.0</td>\n",
       "      <td>0.501338</td>\n",
       "      <td>999</td>\n",
       "      <td>666</td>\n",
       "      <td>test</td>\n",
       "      <td>0.105409</td>\n",
       "      <td>0.105152</td>\n",
       "      <td>...</td>\n",
       "      <td>0.080748</td>\n",
       "      <td>0.075825</td>\n",
       "      <td>0.089392</td>\n",
       "      <td>0.085278</td>\n",
       "      <td>0.096296</td>\n",
       "      <td>0.093071</td>\n",
       "      <td>0.101326</td>\n",
       "      <td>0.099052</td>\n",
       "      <td>0.104383</td>\n",
       "      <td>0.103106</td>\n",
       "    </tr>\n",
       "    <tr>\n",
       "      <th>3</th>\n",
       "      <td>0</td>\n",
       "      <td>H_-2_-2_0.501338.dat</td>\n",
       "      <td>-2.00</td>\n",
       "      <td>-2.0</td>\n",
       "      <td>0.501338</td>\n",
       "      <td>999</td>\n",
       "      <td>666</td>\n",
       "      <td>test</td>\n",
       "      <td>-0.074536</td>\n",
       "      <td>0.074536</td>\n",
       "      <td>...</td>\n",
       "      <td>-0.074536</td>\n",
       "      <td>0.074536</td>\n",
       "      <td>-0.074536</td>\n",
       "      <td>0.074536</td>\n",
       "      <td>-0.074536</td>\n",
       "      <td>0.074536</td>\n",
       "      <td>-0.074536</td>\n",
       "      <td>0.074536</td>\n",
       "      <td>-0.074536</td>\n",
       "      <td>0.074536</td>\n",
       "    </tr>\n",
       "    <tr>\n",
       "      <th>4</th>\n",
       "      <td>0</td>\n",
       "      <td>H_-2_-2_0.501338.dat</td>\n",
       "      <td>-2.00</td>\n",
       "      <td>-2.0</td>\n",
       "      <td>0.501338</td>\n",
       "      <td>999</td>\n",
       "      <td>666</td>\n",
       "      <td>test</td>\n",
       "      <td>0.000030</td>\n",
       "      <td>-0.003649</td>\n",
       "      <td>...</td>\n",
       "      <td>-0.036024</td>\n",
       "      <td>-0.039459</td>\n",
       "      <td>-0.029026</td>\n",
       "      <td>-0.032545</td>\n",
       "      <td>-0.021886</td>\n",
       "      <td>-0.025472</td>\n",
       "      <td>-0.014640</td>\n",
       "      <td>-0.018274</td>\n",
       "      <td>-0.007323</td>\n",
       "      <td>-0.010988</td>\n",
       "    </tr>\n",
       "    <tr>\n",
       "      <th>...</th>\n",
       "      <td>...</td>\n",
       "      <td>...</td>\n",
       "      <td>...</td>\n",
       "      <td>...</td>\n",
       "      <td>...</td>\n",
       "      <td>...</td>\n",
       "      <td>...</td>\n",
       "      <td>...</td>\n",
       "      <td>...</td>\n",
       "      <td>...</td>\n",
       "      <td>...</td>\n",
       "      <td>...</td>\n",
       "      <td>...</td>\n",
       "      <td>...</td>\n",
       "      <td>...</td>\n",
       "      <td>...</td>\n",
       "      <td>...</td>\n",
       "      <td>...</td>\n",
       "      <td>...</td>\n",
       "      <td>...</td>\n",
       "      <td>...</td>\n",
       "    </tr>\n",
       "    <tr>\n",
       "      <th>14675</th>\n",
       "      <td>81</td>\n",
       "      <td>H_-1.95_-2_1.04352.dat</td>\n",
       "      <td>-1.95</td>\n",
       "      <td>-2.0</td>\n",
       "      <td>1.043520</td>\n",
       "      <td>1</td>\n",
       "      <td>666</td>\n",
       "      <td>test</td>\n",
       "      <td>-0.000180</td>\n",
       "      <td>0.071553</td>\n",
       "      <td>...</td>\n",
       "      <td>-0.091377</td>\n",
       "      <td>0.102810</td>\n",
       "      <td>0.042709</td>\n",
       "      <td>0.033884</td>\n",
       "      <td>0.100306</td>\n",
       "      <td>-0.095726</td>\n",
       "      <td>-0.021740</td>\n",
       "      <td>-0.053896</td>\n",
       "      <td>-0.104850</td>\n",
       "      <td>0.084459</td>\n",
       "    </tr>\n",
       "    <tr>\n",
       "      <th>14676</th>\n",
       "      <td>81</td>\n",
       "      <td>H_-1.95_-2_1.04352.dat</td>\n",
       "      <td>-1.95</td>\n",
       "      <td>-2.0</td>\n",
       "      <td>1.043520</td>\n",
       "      <td>1</td>\n",
       "      <td>666</td>\n",
       "      <td>test</td>\n",
       "      <td>-0.000431</td>\n",
       "      <td>-0.073838</td>\n",
       "      <td>...</td>\n",
       "      <td>0.103732</td>\n",
       "      <td>-0.086906</td>\n",
       "      <td>-0.015097</td>\n",
       "      <td>-0.062650</td>\n",
       "      <td>-0.104786</td>\n",
       "      <td>0.082533</td>\n",
       "      <td>0.007783</td>\n",
       "      <td>0.068410</td>\n",
       "      <td>0.105329</td>\n",
       "      <td>-0.077758</td>\n",
       "    </tr>\n",
       "    <tr>\n",
       "      <th>14677</th>\n",
       "      <td>81</td>\n",
       "      <td>H_-1.95_-2_1.04352.dat</td>\n",
       "      <td>-1.95</td>\n",
       "      <td>-2.0</td>\n",
       "      <td>1.043520</td>\n",
       "      <td>1</td>\n",
       "      <td>666</td>\n",
       "      <td>test</td>\n",
       "      <td>0.105404</td>\n",
       "      <td>0.070212</td>\n",
       "      <td>...</td>\n",
       "      <td>-0.051792</td>\n",
       "      <td>-0.103195</td>\n",
       "      <td>0.096719</td>\n",
       "      <td>0.032163</td>\n",
       "      <td>0.031572</td>\n",
       "      <td>0.096471</td>\n",
       "      <td>-0.103319</td>\n",
       "      <td>-0.052331</td>\n",
       "      <td>-0.009973</td>\n",
       "      <td>-0.085530</td>\n",
       "    </tr>\n",
       "    <tr>\n",
       "      <th>14678</th>\n",
       "      <td>81</td>\n",
       "      <td>H_-1.95_-2_1.04352.dat</td>\n",
       "      <td>-1.95</td>\n",
       "      <td>-2.0</td>\n",
       "      <td>1.043520</td>\n",
       "      <td>1</td>\n",
       "      <td>666</td>\n",
       "      <td>test</td>\n",
       "      <td>-0.000293</td>\n",
       "      <td>0.081576</td>\n",
       "      <td>...</td>\n",
       "      <td>0.067980</td>\n",
       "      <td>-0.019580</td>\n",
       "      <td>0.067531</td>\n",
       "      <td>0.105401</td>\n",
       "      <td>-0.091433</td>\n",
       "      <td>-0.017026</td>\n",
       "      <td>-0.035776</td>\n",
       "      <td>-0.099488</td>\n",
       "      <td>0.103858</td>\n",
       "      <td>0.051578</td>\n",
       "    </tr>\n",
       "    <tr>\n",
       "      <th>14679</th>\n",
       "      <td>81</td>\n",
       "      <td>H_-1.95_-2_1.04352.dat</td>\n",
       "      <td>-1.95</td>\n",
       "      <td>-2.0</td>\n",
       "      <td>1.043520</td>\n",
       "      <td>1</td>\n",
       "      <td>666</td>\n",
       "      <td>test</td>\n",
       "      <td>0.000421</td>\n",
       "      <td>-0.082026</td>\n",
       "      <td>...</td>\n",
       "      <td>0.067433</td>\n",
       "      <td>0.020281</td>\n",
       "      <td>0.068078</td>\n",
       "      <td>-0.105390</td>\n",
       "      <td>-0.091076</td>\n",
       "      <td>0.016320</td>\n",
       "      <td>-0.036447</td>\n",
       "      <td>0.099722</td>\n",
       "      <td>0.103734</td>\n",
       "      <td>-0.050954</td>\n",
       "    </tr>\n",
       "  </tbody>\n",
       "</table>\n",
       "<p>1000 rows × 188 columns</p>\n",
       "</div>"
      ],
      "text/plain": [
       "       id                    path    t1   t2   winding  phase  pred_phase  \\\n",
       "0       0    H_-2_-2_0.501338.dat -2.00 -2.0  0.501338    999         666   \n",
       "1       0    H_-2_-2_0.501338.dat -2.00 -2.0  0.501338    999         666   \n",
       "2       0    H_-2_-2_0.501338.dat -2.00 -2.0  0.501338    999         666   \n",
       "3       0    H_-2_-2_0.501338.dat -2.00 -2.0  0.501338    999         666   \n",
       "4       0    H_-2_-2_0.501338.dat -2.00 -2.0  0.501338    999         666   \n",
       "...    ..                     ...   ...  ...       ...    ...         ...   \n",
       "14675  81  H_-1.95_-2_1.04352.dat -1.95 -2.0  1.043520      1         666   \n",
       "14676  81  H_-1.95_-2_1.04352.dat -1.95 -2.0  1.043520      1         666   \n",
       "14677  81  H_-1.95_-2_1.04352.dat -1.95 -2.0  1.043520      1         666   \n",
       "14678  81  H_-1.95_-2_1.04352.dat -1.95 -2.0  1.043520      1         666   \n",
       "14679  81  H_-1.95_-2_1.04352.dat -1.95 -2.0  1.043520      1         666   \n",
       "\n",
       "      type_of      feat0      feat1  ...    feat170    feat171    feat172  \\\n",
       "0        test   0.074536   0.074536  ...   0.074536   0.074536   0.074536   \n",
       "1        test   0.105409   0.105345  ...   0.099052   0.097734   0.101326   \n",
       "2        test   0.105409   0.105152  ...   0.080748   0.075825   0.089392   \n",
       "3        test  -0.074536   0.074536  ...  -0.074536   0.074536  -0.074536   \n",
       "4        test   0.000030  -0.003649  ...  -0.036024  -0.039459  -0.029026   \n",
       "...       ...        ...        ...  ...        ...        ...        ...   \n",
       "14675    test  -0.000180   0.071553  ...  -0.091377   0.102810   0.042709   \n",
       "14676    test  -0.000431  -0.073838  ...   0.103732  -0.086906  -0.015097   \n",
       "14677    test   0.105404   0.070212  ...  -0.051792  -0.103195   0.096719   \n",
       "14678    test  -0.000293   0.081576  ...   0.067980  -0.019580   0.067531   \n",
       "14679    test   0.000421  -0.082026  ...   0.067433   0.020281   0.068078   \n",
       "\n",
       "         feat173    feat174    feat175    feat176    feat177    feat178  \\\n",
       "0       0.074536   0.074536   0.074536   0.074536   0.074536   0.074536   \n",
       "1       0.100250   0.103106   0.102278   0.104383   0.103808   0.105152   \n",
       "2       0.085278   0.096296   0.093071   0.101326   0.099052   0.104383   \n",
       "3       0.074536  -0.074536   0.074536  -0.074536   0.074536  -0.074536   \n",
       "4      -0.032545  -0.021886  -0.025472  -0.014640  -0.018274  -0.007323   \n",
       "...          ...        ...        ...        ...        ...        ...   \n",
       "14675   0.033884   0.100306  -0.095726  -0.021740  -0.053896  -0.104850   \n",
       "14676  -0.062650  -0.104786   0.082533   0.007783   0.068410   0.105329   \n",
       "14677   0.032163   0.031572   0.096471  -0.103319  -0.052331  -0.009973   \n",
       "14678   0.105401  -0.091433  -0.017026  -0.035776  -0.099488   0.103858   \n",
       "14679  -0.105390  -0.091076   0.016320  -0.036447   0.099722   0.103734   \n",
       "\n",
       "         feat179  \n",
       "0       0.074536  \n",
       "1       0.104832  \n",
       "2       0.103106  \n",
       "3       0.074536  \n",
       "4      -0.010988  \n",
       "...          ...  \n",
       "14675   0.084459  \n",
       "14676  -0.077758  \n",
       "14677  -0.085530  \n",
       "14678   0.051578  \n",
       "14679  -0.050954  \n",
       "\n",
       "[1000 rows x 188 columns]"
      ]
     },
     "execution_count": 10,
     "metadata": {},
     "output_type": "execute_result"
    }
   ],
   "source": [
    "# A view of test data\n",
    "dataframe[dataframe.type_of == \"test\"].head(1000)"
   ]
  },
  {
   "cell_type": "markdown",
   "metadata": {
    "papermill": {
     "duration": 0.091959,
     "end_time": "2020-03-04T01:49:07.528230",
     "exception": false,
     "start_time": "2020-03-04T01:49:07.436271",
     "status": "completed"
    },
    "tags": []
   },
   "source": [
    "#### Unique winding values"
   ]
  },
  {
   "cell_type": "code",
   "execution_count": 11,
   "metadata": {
    "papermill": {
     "duration": 0.112295,
     "end_time": "2020-03-04T01:49:07.729391",
     "exception": false,
     "start_time": "2020-03-04T01:49:07.617096",
     "status": "completed"
    },
    "tags": []
   },
   "outputs": [
    {
     "data": {
      "text/plain": [
       "array([  0,   1, 999], dtype=int32)"
      ]
     },
     "execution_count": 11,
     "metadata": {},
     "output_type": "execute_result"
    }
   ],
   "source": [
    "np.unique(dataframe.phase.values)"
   ]
  },
  {
   "cell_type": "markdown",
   "metadata": {
    "papermill": {
     "duration": 0.072353,
     "end_time": "2020-03-04T01:49:07.877300",
     "exception": false,
     "start_time": "2020-03-04T01:49:07.804947",
     "status": "completed"
    },
    "tags": []
   },
   "source": [
    "#### clearing variables"
   ]
  },
  {
   "cell_type": "code",
   "execution_count": 12,
   "metadata": {
    "papermill": {
     "duration": 0.342979,
     "end_time": "2020-03-04T01:49:08.291188",
     "exception": false,
     "start_time": "2020-03-04T01:49:07.948209",
     "status": "completed"
    },
    "tags": []
   },
   "outputs": [],
   "source": [
    "del list_of_hamiltonians\n",
    "del raw_data\n",
    "del dataframe"
   ]
  },
  {
   "cell_type": "markdown",
   "metadata": {
    "papermill": {
     "duration": 0.089258,
     "end_time": "2020-03-04T01:49:08.471652",
     "exception": false,
     "start_time": "2020-03-04T01:49:08.382394",
     "status": "completed"
    },
    "tags": []
   },
   "source": [
    "#### Halting notebook"
   ]
  },
  {
   "cell_type": "code",
   "execution_count": 13,
   "metadata": {
    "papermill": {
     "duration": 0.112109,
     "end_time": "2020-03-04T01:49:08.673075",
     "exception": false,
     "start_time": "2020-03-04T01:49:08.560966",
     "status": "completed"
    },
    "tags": []
   },
   "outputs": [
    {
     "data": {
      "application/javascript": [
       "Jupyter.notebook.session.delete();\n"
      ],
      "text/plain": [
       "<IPython.core.display.Javascript object>"
      ]
     },
     "metadata": {},
     "output_type": "display_data"
    }
   ],
   "source": [
    "%%javascript\n",
    "Jupyter.notebook.session.delete();"
   ]
  },
  {
   "cell_type": "code",
   "execution_count": null,
   "metadata": {
    "papermill": {
     "duration": 0.070226,
     "end_time": "2020-03-04T01:49:08.818530",
     "exception": false,
     "start_time": "2020-03-04T01:49:08.748304",
     "status": "completed"
    },
    "tags": []
   },
   "outputs": [],
   "source": []
  }
 ],
 "metadata": {
  "celltoolbar": "Tags",
  "kernelspec": {
   "display_name": "ml_top_phases",
   "language": "python",
   "name": "ml_top_phases"
  },
  "language_info": {
   "codemirror_mode": {
    "name": "ipython",
    "version": 3
   },
   "file_extension": ".py",
   "mimetype": "text/x-python",
   "name": "python",
   "nbconvert_exporter": "python",
   "pygments_lexer": "ipython3",
   "version": "3.6.10"
  },
  "papermill": {
   "duration": 337.739269,
   "end_time": "2020-03-04T01:49:08.897671",
   "environment_variables": {},
   "exception": null,
   "input_path": "preprocessing_template.ipynb",
   "output_path": "preprocessing_output_periodic_180_6561.ipynb",
   "parameters": {
    "allowed_windings": [
     0,
     1
    ],
    "csv_name": "/home/linneu/ssh_csvs/ssh1/periodic_180_6561.csv",
    "epsilon": 0.01,
    "grid_folder": "/home/linneu/ssh_grids/ssh1/periodic_180_6561",
    "to_csv": true
   },
   "start_time": "2020-03-04T01:43:31.158402",
   "version": "2.0.0"
  }
 },
 "nbformat": 4,
 "nbformat_minor": 2
}