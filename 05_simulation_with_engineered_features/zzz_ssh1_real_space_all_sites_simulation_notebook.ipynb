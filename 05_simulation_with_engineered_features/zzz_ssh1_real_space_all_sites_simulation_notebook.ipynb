{
 "cells": [
  {
   "cell_type": "markdown",
   "metadata": {
    "papermill": {
     "duration": 0.020736,
     "end_time": "2020-07-18T04:29:40.008341",
     "exception": false,
     "start_time": "2020-07-18T04:29:39.987605",
     "status": "completed"
    },
    "tags": []
   },
   "source": [
    "# Simulation template \n",
    "\n",
    "In this notebook we run the machine learning analysis of topological phase transitions occurring  in both nearest-neighbours SSH models (ssh1) and second neighbours models (ssh2) as decribed in the paper [Machine learning topological phases in real space](https://arxiv.org/abs/1901.01963). Here the simulation is run with features generated from fourier components in the first scenario. This scenario is characterized by using only the EVEN wavevector space eigenmodes, computed from ALL real space components."
   ]
  },
  {
   "cell_type": "markdown",
   "metadata": {
    "papermill": {
     "duration": 0.019682,
     "end_time": "2020-07-18T04:29:40.044936",
     "exception": false,
     "start_time": "2020-07-18T04:29:40.025254",
     "status": "completed"
    },
    "tags": []
   },
   "source": [
    "## Defining parameters"
   ]
  },
  {
   "cell_type": "code",
   "execution_count": 1,
   "metadata": {
    "execution": {
     "iopub.execute_input": "2020-07-18T04:29:40.083174Z",
     "iopub.status.busy": "2020-07-18T04:29:40.082859Z",
     "iopub.status.idle": "2020-07-18T04:29:40.698412Z",
     "shell.execute_reply": "2020-07-18T04:29:40.698091Z"
    },
    "papermill": {
     "duration": 0.634622,
     "end_time": "2020-07-18T04:29:40.698469",
     "exception": false,
     "start_time": "2020-07-18T04:29:40.063847",
     "status": "completed"
    },
    "tags": []
   },
   "outputs": [
    {
     "name": "stdout",
     "output_type": "stream",
     "text": [
      "CPU times: user 784 ms, sys: 262 ms, total: 1.05 s\n",
      "Wall time: 608 ms\n"
     ]
    }
   ],
   "source": [
    "%%time\n",
    "%load_ext autoreload\n",
    "%autoreload 2\n",
    "from simulation import *"
   ]
  },
  {
   "cell_type": "code",
   "execution_count": 2,
   "metadata": {
    "execution": {
     "iopub.execute_input": "2020-07-18T04:29:40.736595Z",
     "iopub.status.busy": "2020-07-18T04:29:40.736231Z",
     "iopub.status.idle": "2020-07-18T04:29:40.748630Z",
     "shell.execute_reply": "2020-07-18T04:29:40.748882Z"
    },
    "papermill": {
     "duration": 0.032213,
     "end_time": "2020-07-18T04:29:40.748952",
     "exception": false,
     "start_time": "2020-07-18T04:29:40.716739",
     "status": "completed"
    },
    "tags": [
     "parameters"
    ]
   },
   "outputs": [
    {
     "name": "stdout",
     "output_type": "stream",
     "text": [
      "CPU times: user 3 µs, sys: 0 ns, total: 3 µs\n",
      "Wall time: 5.48 µs\n"
     ]
    }
   ],
   "source": [
    "%%time\n",
    "### Dataset and simulation parameters\n",
    "#csv_path = SSH2_PERIODIC_100_6561_CSV \n",
    "csv_path = SSH1_PERIODIC_100_6561_CSV \n",
    "model_name = \"DecisionTreeClassifier\"\n",
    "model_kw = {\"criterion\":\"entropy\"}\n",
    "allowed_windings = [0,1]\n",
    "#allowed_windings = [-1,0,1,2]\n",
    "simulation_dir = SSH1_REAL_SPACE_ALL_SITES\n",
    "#simulation_dir = SSH2_PERIODIC_ENGINEERED_100_6561_SIMULATION_DIR\n",
    "val_split = 0.9  \n",
    "features_to_use = None\n",
    "shuffle_features = False\n",
    "random_state = 763\n",
    "\n",
    "### Fourier features\n",
    "fourier_mode = \"dst\"\n",
    "fourier_features_to_use = None\n",
    "fourier_real = \"imag\"\n",
    "fourier_normalize = False\n",
    "fourier_fillna = False\n",
    "\n",
    "### Running a simulation\n",
    "n_experiments = 5\n",
    "start_n = 0\n",
    "fit_params = None\n",
    "#mode=mode\n",
    "shuffle_rows = True\n",
    "pred_params = None\n",
    "random_features = False\n",
    "######### DON'T SET THIS TO TRUE UNLESS YOUR DATASET IS SMALL!! WILL FLOOD YOUR MEMORY!!!\n",
    "store_in_lists = False   \n",
    "########## BELOW ARE THE PARAMETERS THAT CONTROL WHAT WILL BE SAVED\n",
    "save_eigenvector=True\n",
    "save_hamiltonian=True \n",
    "save_accuracy=True \n",
    "save_models=True"
   ]
  },
  {
   "cell_type": "code",
   "execution_count": 3,
   "metadata": {
    "execution": {
     "iopub.execute_input": "2020-07-18T04:29:40.786970Z",
     "iopub.status.busy": "2020-07-18T04:29:40.786350Z",
     "iopub.status.idle": "2020-07-18T04:29:40.898121Z",
     "shell.execute_reply": "2020-07-18T04:29:40.896791Z"
    },
    "papermill": {
     "duration": 0.13156,
     "end_time": "2020-07-18T04:29:40.898322",
     "exception": false,
     "start_time": "2020-07-18T04:29:40.766762",
     "status": "completed"
    },
    "tags": [
     "injected-parameters"
    ]
   },
   "outputs": [],
   "source": [
    "# Parameters\n",
    "model_kw = {\"criterion\": \"entropy\"}\n",
    "allowed_windings = [0, 1]\n",
    "val_split = 0.9\n",
    "features_to_use = None\n",
    "shuffle_features = False\n",
    "n_experiments = 100\n",
    "start_n = 0\n",
    "fit_params = None\n",
    "shuffle_rows = True\n",
    "pred_params = None\n",
    "random_features = False\n",
    "store_in_lists = False\n",
    "save_eigenvector = True\n",
    "save_hamiltonian = True\n",
    "save_accuracy = True\n",
    "save_models = True\n",
    "csv_path = \"/home/rio/ssh_csvs/ssh1/periodic_100_6561.csv\"\n",
    "model_name = \"DecisionTreeClassifier\"\n",
    "simulation_dir = \"/home/rio/ssh_simulations/ssh1/periodic_100_6561/real_space_all_sites\"\n",
    "random_state = 1010\n",
    "fourier_features_to_use = None\n",
    "fourier_mode = None\n",
    "fourier_real = None\n",
    "fourier_normalize = None\n",
    "fourier_fillna = None\n"
   ]
  },
  {
   "cell_type": "code",
   "execution_count": 4,
   "metadata": {
    "execution": {
     "iopub.execute_input": "2020-07-18T04:29:40.952253Z",
     "iopub.status.busy": "2020-07-18T04:29:40.951706Z",
     "iopub.status.idle": "2020-07-18T04:29:46.243356Z",
     "shell.execute_reply": "2020-07-18T04:29:46.243038Z"
    },
    "papermill": {
     "duration": 5.311826,
     "end_time": "2020-07-18T04:29:46.243407",
     "exception": false,
     "start_time": "2020-07-18T04:29:40.931581",
     "status": "completed"
    },
    "tags": []
   },
   "outputs": [
    {
     "name": "stdout",
     "output_type": "stream",
     "text": [
      "Info on all data: \n",
      "\n",
      "<class 'pandas.core.frame.DataFrame'>\n",
      "Int64Index: 656100 entries, 0 to 656099\n",
      "Columns: 108 entries, id to feat99\n",
      "dtypes: float64(103), int32(3), object(2)\n",
      "memory usage: 538.1+ MB\n",
      "CPU times: user 4.96 s, sys: 294 ms, total: 5.26 s\n",
      "Wall time: 5.26 s\n"
     ]
    },
    {
     "data": {
      "text/html": [
       "<div>\n",
       "<style scoped>\n",
       "    .dataframe tbody tr th:only-of-type {\n",
       "        vertical-align: middle;\n",
       "    }\n",
       "\n",
       "    .dataframe tbody tr th {\n",
       "        vertical-align: top;\n",
       "    }\n",
       "\n",
       "    .dataframe thead th {\n",
       "        text-align: right;\n",
       "    }\n",
       "</style>\n",
       "<table border=\"1\" class=\"dataframe\">\n",
       "  <thead>\n",
       "    <tr style=\"text-align: right;\">\n",
       "      <th></th>\n",
       "      <th>id</th>\n",
       "      <th>path</th>\n",
       "      <th>t1</th>\n",
       "      <th>t2</th>\n",
       "      <th>winding</th>\n",
       "      <th>phase</th>\n",
       "      <th>pred_phase</th>\n",
       "      <th>type_of</th>\n",
       "      <th>feat0</th>\n",
       "      <th>feat1</th>\n",
       "      <th>...</th>\n",
       "      <th>feat90</th>\n",
       "      <th>feat91</th>\n",
       "      <th>feat92</th>\n",
       "      <th>feat93</th>\n",
       "      <th>feat94</th>\n",
       "      <th>feat95</th>\n",
       "      <th>feat96</th>\n",
       "      <th>feat97</th>\n",
       "      <th>feat98</th>\n",
       "      <th>feat99</th>\n",
       "    </tr>\n",
       "  </thead>\n",
       "  <tbody>\n",
       "    <tr>\n",
       "      <th>0</th>\n",
       "      <td>0</td>\n",
       "      <td>H_-2_-2_0.509296.dat</td>\n",
       "      <td>-2.0</td>\n",
       "      <td>-2.0</td>\n",
       "      <td>0.509296</td>\n",
       "      <td>999</td>\n",
       "      <td>666</td>\n",
       "      <td>test</td>\n",
       "      <td>0.100000</td>\n",
       "      <td>0.100000</td>\n",
       "      <td>...</td>\n",
       "      <td>0.100000</td>\n",
       "      <td>0.100000</td>\n",
       "      <td>0.100000</td>\n",
       "      <td>0.100000</td>\n",
       "      <td>0.100000</td>\n",
       "      <td>0.100000</td>\n",
       "      <td>0.100000</td>\n",
       "      <td>0.100000</td>\n",
       "      <td>0.100000</td>\n",
       "      <td>0.100000</td>\n",
       "    </tr>\n",
       "    <tr>\n",
       "      <th>1</th>\n",
       "      <td>0</td>\n",
       "      <td>H_-2_-2_0.509296.dat</td>\n",
       "      <td>-2.0</td>\n",
       "      <td>-2.0</td>\n",
       "      <td>0.509296</td>\n",
       "      <td>999</td>\n",
       "      <td>666</td>\n",
       "      <td>test</td>\n",
       "      <td>0.141421</td>\n",
       "      <td>0.141142</td>\n",
       "      <td>...</td>\n",
       "      <td>0.114412</td>\n",
       "      <td>0.108967</td>\n",
       "      <td>0.123928</td>\n",
       "      <td>0.119406</td>\n",
       "      <td>0.131490</td>\n",
       "      <td>0.127962</td>\n",
       "      <td>0.136978</td>\n",
       "      <td>0.134500</td>\n",
       "      <td>0.140306</td>\n",
       "      <td>0.138916</td>\n",
       "    </tr>\n",
       "    <tr>\n",
       "      <th>2</th>\n",
       "      <td>0</td>\n",
       "      <td>H_-2_-2_0.509296.dat</td>\n",
       "      <td>-2.0</td>\n",
       "      <td>-2.0</td>\n",
       "      <td>0.509296</td>\n",
       "      <td>999</td>\n",
       "      <td>666</td>\n",
       "      <td>test</td>\n",
       "      <td>0.141421</td>\n",
       "      <td>0.140306</td>\n",
       "      <td>...</td>\n",
       "      <td>0.043702</td>\n",
       "      <td>0.026500</td>\n",
       "      <td>0.075777</td>\n",
       "      <td>0.060214</td>\n",
       "      <td>0.103092</td>\n",
       "      <td>0.090145</td>\n",
       "      <td>0.123928</td>\n",
       "      <td>0.114412</td>\n",
       "      <td>0.136978</td>\n",
       "      <td>0.131490</td>\n",
       "    </tr>\n",
       "    <tr>\n",
       "      <th>3</th>\n",
       "      <td>0</td>\n",
       "      <td>H_-2_-2_0.509296.dat</td>\n",
       "      <td>-2.0</td>\n",
       "      <td>-2.0</td>\n",
       "      <td>0.509296</td>\n",
       "      <td>999</td>\n",
       "      <td>666</td>\n",
       "      <td>test</td>\n",
       "      <td>-0.100000</td>\n",
       "      <td>0.100000</td>\n",
       "      <td>...</td>\n",
       "      <td>-0.100000</td>\n",
       "      <td>0.100000</td>\n",
       "      <td>-0.100000</td>\n",
       "      <td>0.100000</td>\n",
       "      <td>-0.100000</td>\n",
       "      <td>0.100000</td>\n",
       "      <td>-0.100000</td>\n",
       "      <td>0.100000</td>\n",
       "      <td>-0.100000</td>\n",
       "      <td>0.100000</td>\n",
       "    </tr>\n",
       "    <tr>\n",
       "      <th>4</th>\n",
       "      <td>0</td>\n",
       "      <td>H_-2_-2_0.509296.dat</td>\n",
       "      <td>-2.0</td>\n",
       "      <td>-2.0</td>\n",
       "      <td>0.509296</td>\n",
       "      <td>999</td>\n",
       "      <td>666</td>\n",
       "      <td>test</td>\n",
       "      <td>0.000509</td>\n",
       "      <td>-0.008372</td>\n",
       "      <td>...</td>\n",
       "      <td>-0.082713</td>\n",
       "      <td>-0.089753</td>\n",
       "      <td>-0.067684</td>\n",
       "      <td>-0.075347</td>\n",
       "      <td>-0.051587</td>\n",
       "      <td>-0.059753</td>\n",
       "      <td>-0.034677</td>\n",
       "      <td>-0.043217</td>\n",
       "      <td>-0.017220</td>\n",
       "      <td>-0.026000</td>\n",
       "    </tr>\n",
       "  </tbody>\n",
       "</table>\n",
       "<p>5 rows × 108 columns</p>\n",
       "</div>"
      ],
      "text/plain": [
       "   id                  path   t1   t2   winding  phase  pred_phase type_of  \\\n",
       "0   0  H_-2_-2_0.509296.dat -2.0 -2.0  0.509296    999         666    test   \n",
       "1   0  H_-2_-2_0.509296.dat -2.0 -2.0  0.509296    999         666    test   \n",
       "2   0  H_-2_-2_0.509296.dat -2.0 -2.0  0.509296    999         666    test   \n",
       "3   0  H_-2_-2_0.509296.dat -2.0 -2.0  0.509296    999         666    test   \n",
       "4   0  H_-2_-2_0.509296.dat -2.0 -2.0  0.509296    999         666    test   \n",
       "\n",
       "      feat0     feat1  ...    feat90    feat91    feat92    feat93    feat94  \\\n",
       "0  0.100000  0.100000  ...  0.100000  0.100000  0.100000  0.100000  0.100000   \n",
       "1  0.141421  0.141142  ...  0.114412  0.108967  0.123928  0.119406  0.131490   \n",
       "2  0.141421  0.140306  ...  0.043702  0.026500  0.075777  0.060214  0.103092   \n",
       "3 -0.100000  0.100000  ... -0.100000  0.100000 -0.100000  0.100000 -0.100000   \n",
       "4  0.000509 -0.008372  ... -0.082713 -0.089753 -0.067684 -0.075347 -0.051587   \n",
       "\n",
       "     feat95    feat96    feat97    feat98    feat99  \n",
       "0  0.100000  0.100000  0.100000  0.100000  0.100000  \n",
       "1  0.127962  0.136978  0.134500  0.140306  0.138916  \n",
       "2  0.090145  0.123928  0.114412  0.136978  0.131490  \n",
       "3  0.100000 -0.100000  0.100000 -0.100000  0.100000  \n",
       "4 -0.059753 -0.034677 -0.043217 -0.017220 -0.026000  \n",
       "\n",
       "[5 rows x 108 columns]"
      ]
     },
     "execution_count": 4,
     "metadata": {},
     "output_type": "execute_result"
    }
   ],
   "source": [
    "%%time\n",
    "#Starting an instance of Simulation with a decision tree\n",
    "model = DecisionTreeClassifier(criterion=\"entropy\")\n",
    "#dict_args = {\"csv_path\":csv_path, \"model\":model, \"allowed_windings\":allowed_windings,\\\n",
    "#             \"simulation_dir\":simulation_dir, \"val_split\":val_split, \"features_to_use\":features_to_use,\\\n",
    "#            \"shuffle_features\":shuffle_features, \"random_state\":random_state}\n",
    "simulation = Simulation(csv_path,model_name,model_kw,allowed_windings,simulation_dir,val_split,features_to_use,\\\n",
    "                       shuffle_features,fourier_mode,fourier_features_to_use,fourier_real,\\\n",
    "                       fourier_normalize, fourier_fillna , random_state)\n",
    "#simulation = Simulation(**dict_args)\n",
    "\n",
    "\n",
    "#(self, csv_path, model_name, model_kw, allowed_windings, simulation_dir = None, val_split = 0, \n",
    "# features_to_use = None, shuffle_features = False, fourier_mode=None, fourier_features_to_use=None,\n",
    "# fourier_real = False, fourier_normalize = False, Fourier_fillna=False, random_state = None):\n",
    "\n",
    "\n",
    "\n",
    "print(\"Info on all data: \\n\")\n",
    "simulation.dataframe.info()\n",
    "simulation.dataframe.head()"
   ]
  },
  {
   "cell_type": "markdown",
   "metadata": {
    "papermill": {
     "duration": 0.017447,
     "end_time": "2020-07-18T04:29:46.278687",
     "exception": false,
     "start_time": "2020-07-18T04:29:46.261240",
     "status": "completed"
    },
    "tags": []
   },
   "source": [
    "####  Fourier features"
   ]
  },
  {
   "cell_type": "code",
   "execution_count": 5,
   "metadata": {
    "execution": {
     "iopub.execute_input": "2020-07-18T04:29:46.315809Z",
     "iopub.status.busy": "2020-07-18T04:29:46.315496Z",
     "iopub.status.idle": "2020-07-18T04:29:46.326836Z",
     "shell.execute_reply": "2020-07-18T04:29:46.326517Z"
    },
    "papermill": {
     "duration": 0.030079,
     "end_time": "2020-07-18T04:29:46.326888",
     "exception": false,
     "start_time": "2020-07-18T04:29:46.296809",
     "status": "completed"
    },
    "tags": []
   },
   "outputs": [
    {
     "name": "stdout",
     "output_type": "stream",
     "text": [
      "CPU times: user 3 µs, sys: 0 ns, total: 3 µs\n",
      "Wall time: 4.29 µs\n"
     ]
    }
   ],
   "source": [
    "%%time\n",
    "#simulation.generate_fourier_df()\n",
    "if simulation.fourier_mode is not None:\n",
    "    simulation.fourier_dataframe.info() \n",
    "    simulation.fourier_dataframe.sample(15)\n"
   ]
  },
  {
   "cell_type": "code",
   "execution_count": 6,
   "metadata": {
    "execution": {
     "iopub.execute_input": "2020-07-18T04:29:46.363468Z",
     "iopub.status.busy": "2020-07-18T04:29:46.363151Z",
     "iopub.status.idle": "2020-07-18T04:29:46.425398Z",
     "shell.execute_reply": "2020-07-18T04:29:46.425002Z"
    },
    "papermill": {
     "duration": 0.081632,
     "end_time": "2020-07-18T04:29:46.425460",
     "exception": false,
     "start_time": "2020-07-18T04:29:46.343828",
     "status": "completed"
    },
    "tags": []
   },
   "outputs": [
    {
     "name": "stdout",
     "output_type": "stream",
     "text": [
      "features_to_use: \n",
      "\n",
      "\n",
      "None\n",
      "\n",
      "\n",
      "fourier_features: \n",
      "\n",
      "\n",
      "None\n",
      "\n",
      "\n",
      "\n",
      "\n",
      "Fourier operator: \n",
      "None\n",
      "\n",
      "\n"
     ]
    }
   ],
   "source": [
    "print(\"features_to_use: \")\n",
    "print(\"\\n\")\n",
    "print(simulation.features_to_use)\n",
    "if simulation.features_to_use is not None:\n",
    "    print(\"Number of real space features:\")\n",
    "    print(\"\\n\")\n",
    "    print(len(simulation.features_to_use))\n",
    "print(\"\\n\")\n",
    "print(\"fourier_features: \")\n",
    "print(\"\\n\")\n",
    "print(simulation.fourier_features)\n",
    "print(\"\\n\")\n",
    "if simulation.fourier_features is not None:\n",
    "    print(\"Number of Fourier features: \")\n",
    "    print(\"\\n\")\n",
    "    print(len(simulation.fourier_features))\n",
    "print(\"\\n\")\n",
    "print(\"Fourier operator: \")\n",
    "print(simulation.fourier_operator)\n",
    "print(\"\\n\")\n",
    "if simulation.fourier_operator is not None:\n",
    "    print(\"Shape of Fourier operator: \")\n",
    "    print(simulation.fourier_operator.shape)"
   ]
  },
  {
   "cell_type": "code",
   "execution_count": 7,
   "metadata": {
    "execution": {
     "iopub.execute_input": "2020-07-18T04:29:46.471763Z",
     "iopub.status.busy": "2020-07-18T04:29:46.471427Z",
     "iopub.status.idle": "2020-07-18T04:29:46.485470Z",
     "shell.execute_reply": "2020-07-18T04:29:46.485120Z"
    },
    "papermill": {
     "duration": 0.035742,
     "end_time": "2020-07-18T04:29:46.485528",
     "exception": false,
     "start_time": "2020-07-18T04:29:46.449786",
     "status": "completed"
    },
    "tags": []
   },
   "outputs": [],
   "source": [
    "#a = np.array([1+1j,2+3j,4+8j])\n",
    "#np.imag(a)"
   ]
  },
  {
   "cell_type": "code",
   "execution_count": 8,
   "metadata": {
    "execution": {
     "iopub.execute_input": "2020-07-18T04:29:46.522956Z",
     "iopub.status.busy": "2020-07-18T04:29:46.522647Z",
     "iopub.status.idle": "2020-07-18T04:29:46.639130Z",
     "shell.execute_reply": "2020-07-18T04:29:46.637399Z"
    },
    "papermill": {
     "duration": 0.13611,
     "end_time": "2020-07-18T04:29:46.639374",
     "exception": false,
     "start_time": "2020-07-18T04:29:46.503264",
     "status": "completed"
    },
    "tags": []
   },
   "outputs": [],
   "source": [
    "#plt.plot(np.imag(simulation.fourier_operator[:,0]))"
   ]
  },
  {
   "cell_type": "code",
   "execution_count": 9,
   "metadata": {
    "execution": {
     "iopub.execute_input": "2020-07-18T04:29:46.715670Z",
     "iopub.status.busy": "2020-07-18T04:29:46.715334Z",
     "iopub.status.idle": "2020-07-18T04:29:46.724851Z",
     "shell.execute_reply": "2020-07-18T04:29:46.725166Z"
    },
    "papermill": {
     "duration": 0.032605,
     "end_time": "2020-07-18T04:29:46.725234",
     "exception": false,
     "start_time": "2020-07-18T04:29:46.692629",
     "status": "completed"
    },
    "tags": []
   },
   "outputs": [],
   "source": [
    "#np.sin(np.pi/(50))*2"
   ]
  },
  {
   "cell_type": "code",
   "execution_count": 10,
   "metadata": {
    "execution": {
     "iopub.execute_input": "2020-07-18T04:29:46.763743Z",
     "iopub.status.busy": "2020-07-18T04:29:46.763433Z",
     "iopub.status.idle": "2020-07-18T04:29:46.834042Z",
     "shell.execute_reply": "2020-07-18T04:29:46.833234Z"
    },
    "papermill": {
     "duration": 0.091007,
     "end_time": "2020-07-18T04:29:46.834159",
     "exception": false,
     "start_time": "2020-07-18T04:29:46.743152",
     "status": "completed"
    },
    "tags": []
   },
   "outputs": [],
   "source": [
    "#2*np.sin(np.pi/50*49)"
   ]
  },
  {
   "cell_type": "code",
   "execution_count": 11,
   "metadata": {
    "execution": {
     "iopub.execute_input": "2020-07-18T04:29:46.902896Z",
     "iopub.status.busy": "2020-07-18T04:29:46.902588Z",
     "iopub.status.idle": "2020-07-18T04:29:46.912585Z",
     "shell.execute_reply": "2020-07-18T04:29:46.912901Z"
    },
    "papermill": {
     "duration": 0.033464,
     "end_time": "2020-07-18T04:29:46.912969",
     "exception": false,
     "start_time": "2020-07-18T04:29:46.879505",
     "status": "completed"
    },
    "tags": []
   },
   "outputs": [],
   "source": [
    "#simulation.dataframe.iloc[331456,:]"
   ]
  },
  {
   "cell_type": "code",
   "execution_count": 12,
   "metadata": {
    "execution": {
     "iopub.execute_input": "2020-07-18T04:29:46.950245Z",
     "iopub.status.busy": "2020-07-18T04:29:46.949935Z",
     "iopub.status.idle": "2020-07-18T04:29:46.985857Z",
     "shell.execute_reply": "2020-07-18T04:29:46.985505Z"
    },
    "papermill": {
     "duration": 0.055247,
     "end_time": "2020-07-18T04:29:46.985913",
     "exception": false,
     "start_time": "2020-07-18T04:29:46.930666",
     "status": "completed"
    },
    "tags": []
   },
   "outputs": [],
   "source": [
    "#for ix, obj in enumerate(simulation.dataframe.iloc[331456,:].values):\n",
    "#    print(ix,obj)"
   ]
  },
  {
   "cell_type": "code",
   "execution_count": 13,
   "metadata": {
    "execution": {
     "iopub.execute_input": "2020-07-18T04:29:47.025363Z",
     "iopub.status.busy": "2020-07-18T04:29:47.025031Z",
     "iopub.status.idle": "2020-07-18T04:29:47.085767Z",
     "shell.execute_reply": "2020-07-18T04:29:47.083989Z"
    },
    "papermill": {
     "duration": 0.080695,
     "end_time": "2020-07-18T04:29:47.086017",
     "exception": false,
     "start_time": "2020-07-18T04:29:47.005322",
     "status": "completed"
    },
    "tags": []
   },
   "outputs": [],
   "source": [
    "#simulation.fourier_engineered_dataframe.dct_feat0"
   ]
  },
  {
   "cell_type": "code",
   "execution_count": 14,
   "metadata": {
    "execution": {
     "iopub.execute_input": "2020-07-18T04:29:47.158303Z",
     "iopub.status.busy": "2020-07-18T04:29:47.157992Z",
     "iopub.status.idle": "2020-07-18T04:29:47.167759Z",
     "shell.execute_reply": "2020-07-18T04:29:47.167436Z"
    },
    "papermill": {
     "duration": 0.030909,
     "end_time": "2020-07-18T04:29:47.167811",
     "exception": false,
     "start_time": "2020-07-18T04:29:47.136902",
     "status": "completed"
    },
    "tags": []
   },
   "outputs": [],
   "source": [
    "#simulation.features"
   ]
  },
  {
   "cell_type": "code",
   "execution_count": 15,
   "metadata": {
    "execution": {
     "iopub.execute_input": "2020-07-18T04:29:47.206096Z",
     "iopub.status.busy": "2020-07-18T04:29:47.205778Z",
     "iopub.status.idle": "2020-07-18T04:29:47.262478Z",
     "shell.execute_reply": "2020-07-18T04:29:47.260448Z"
    },
    "papermill": {
     "duration": 0.076635,
     "end_time": "2020-07-18T04:29:47.262737",
     "exception": false,
     "start_time": "2020-07-18T04:29:47.186102",
     "status": "completed"
    },
    "tags": []
   },
   "outputs": [],
   "source": [
    "#simulation.fourier_matrix"
   ]
  },
  {
   "cell_type": "code",
   "execution_count": 16,
   "metadata": {
    "execution": {
     "iopub.execute_input": "2020-07-18T04:29:47.330006Z",
     "iopub.status.busy": "2020-07-18T04:29:47.329694Z",
     "iopub.status.idle": "2020-07-18T04:29:47.338939Z",
     "shell.execute_reply": "2020-07-18T04:29:47.339193Z"
    },
    "papermill": {
     "duration": 0.03038,
     "end_time": "2020-07-18T04:29:47.339260",
     "exception": false,
     "start_time": "2020-07-18T04:29:47.308880",
     "status": "completed"
    },
    "tags": []
   },
   "outputs": [],
   "source": [
    "#1/simulation.n_features*simulation.dataframe.loc[:,simulation.features].sum(axis=1)"
   ]
  },
  {
   "cell_type": "code",
   "execution_count": 17,
   "metadata": {
    "execution": {
     "iopub.execute_input": "2020-07-18T04:29:47.378065Z",
     "iopub.status.busy": "2020-07-18T04:29:47.377528Z",
     "iopub.status.idle": "2020-07-18T04:29:47.427801Z",
     "shell.execute_reply": "2020-07-18T04:29:47.425959Z"
    },
    "papermill": {
     "duration": 0.07059,
     "end_time": "2020-07-18T04:29:47.428182",
     "exception": false,
     "start_time": "2020-07-18T04:29:47.357592",
     "status": "completed"
    },
    "tags": []
   },
   "outputs": [],
   "source": [
    "#df_2 = simulation.fourier_engineered_dataframe[simulation.fourier_engineered_dataframe.phase==2]\n",
    "#df_2.describe()"
   ]
  },
  {
   "cell_type": "code",
   "execution_count": 18,
   "metadata": {
    "execution": {
     "iopub.execute_input": "2020-07-18T04:29:47.499097Z",
     "iopub.status.busy": "2020-07-18T04:29:47.498792Z",
     "iopub.status.idle": "2020-07-18T04:29:47.508162Z",
     "shell.execute_reply": "2020-07-18T04:29:47.508417Z"
    },
    "papermill": {
     "duration": 0.03048,
     "end_time": "2020-07-18T04:29:47.508483",
     "exception": false,
     "start_time": "2020-07-18T04:29:47.478003",
     "status": "completed"
    },
    "tags": []
   },
   "outputs": [],
   "source": [
    "#df_1 = simulation.fourier_engineered_dataframe[simulation.fourier_engineered_dataframe.phase==1]\n",
    "#df_1.describe()"
   ]
  },
  {
   "cell_type": "code",
   "execution_count": 19,
   "metadata": {
    "execution": {
     "iopub.execute_input": "2020-07-18T04:29:47.549293Z",
     "iopub.status.busy": "2020-07-18T04:29:47.548984Z",
     "iopub.status.idle": "2020-07-18T04:29:47.593875Z",
     "shell.execute_reply": "2020-07-18T04:29:47.594296Z"
    },
    "papermill": {
     "duration": 0.067353,
     "end_time": "2020-07-18T04:29:47.594383",
     "exception": false,
     "start_time": "2020-07-18T04:29:47.527030",
     "status": "completed"
    },
    "tags": []
   },
   "outputs": [],
   "source": [
    "#df_0 = simulation.fourier_engineered_dataframe[simulation.fourier_engineered_dataframe.phase==0]\n",
    "#df_0.describe()"
   ]
  },
  {
   "cell_type": "code",
   "execution_count": 20,
   "metadata": {
    "execution": {
     "iopub.execute_input": "2020-07-18T04:29:47.636181Z",
     "iopub.status.busy": "2020-07-18T04:29:47.635872Z",
     "iopub.status.idle": "2020-07-18T04:29:47.685680Z",
     "shell.execute_reply": "2020-07-18T04:29:47.686027Z"
    },
    "papermill": {
     "duration": 0.069826,
     "end_time": "2020-07-18T04:29:47.686111",
     "exception": false,
     "start_time": "2020-07-18T04:29:47.616285",
     "status": "completed"
    },
    "tags": []
   },
   "outputs": [],
   "source": [
    "#plt.figure(figsize=(10,10))\n",
    "#plt.scatter(df_1.fourier_feat0,df_1.fourier_feat2)\n",
    "#plt.scatter(df_0.fourier_feat0,df_0.fourier_feat2,alpha=0.4)"
   ]
  },
  {
   "cell_type": "code",
   "execution_count": 21,
   "metadata": {
    "execution": {
     "iopub.execute_input": "2020-07-18T04:29:47.738350Z",
     "iopub.status.busy": "2020-07-18T04:29:47.738044Z",
     "iopub.status.idle": "2020-07-18T04:29:47.777468Z",
     "shell.execute_reply": "2020-07-18T04:29:47.777180Z"
    },
    "papermill": {
     "duration": 0.064302,
     "end_time": "2020-07-18T04:29:47.777524",
     "exception": false,
     "start_time": "2020-07-18T04:29:47.713222",
     "status": "completed"
    },
    "tags": []
   },
   "outputs": [],
   "source": [
    "#plt.scatter(df_0.fourier_feat0,df_0.fourier_feat2,alpha=0.4)"
   ]
  },
  {
   "cell_type": "code",
   "execution_count": 22,
   "metadata": {
    "execution": {
     "iopub.execute_input": "2020-07-18T04:29:47.814423Z",
     "iopub.status.busy": "2020-07-18T04:29:47.814118Z",
     "iopub.status.idle": "2020-07-18T04:29:47.860702Z",
     "shell.execute_reply": "2020-07-18T04:29:47.861122Z"
    },
    "papermill": {
     "duration": 0.066203,
     "end_time": "2020-07-18T04:29:47.861204",
     "exception": false,
     "start_time": "2020-07-18T04:29:47.795001",
     "status": "completed"
    },
    "tags": []
   },
   "outputs": [],
   "source": [
    "#plt.scatter(df_2.fourier_feat0,df_2.fourier_feat2)"
   ]
  },
  {
   "cell_type": "code",
   "execution_count": 23,
   "metadata": {
    "execution": {
     "iopub.execute_input": "2020-07-18T04:29:47.911496Z",
     "iopub.status.busy": "2020-07-18T04:29:47.911163Z",
     "iopub.status.idle": "2020-07-18T04:29:47.961465Z",
     "shell.execute_reply": "2020-07-18T04:29:47.961014Z"
    },
    "papermill": {
     "duration": 0.07286,
     "end_time": "2020-07-18T04:29:47.961533",
     "exception": false,
     "start_time": "2020-07-18T04:29:47.888673",
     "status": "completed"
    },
    "tags": []
   },
   "outputs": [],
   "source": [
    "#df_1.hist(figsize=(15,15))"
   ]
  },
  {
   "cell_type": "code",
   "execution_count": 24,
   "metadata": {
    "execution": {
     "iopub.execute_input": "2020-07-18T04:29:48.009937Z",
     "iopub.status.busy": "2020-07-18T04:29:48.009630Z",
     "iopub.status.idle": "2020-07-18T04:29:48.018972Z",
     "shell.execute_reply": "2020-07-18T04:29:48.019276Z"
    },
    "papermill": {
     "duration": 0.031375,
     "end_time": "2020-07-18T04:29:48.019340",
     "exception": false,
     "start_time": "2020-07-18T04:29:47.987965",
     "status": "completed"
    },
    "tags": []
   },
   "outputs": [],
   "source": [
    "#df_0.hist(figsize=(15,15))"
   ]
  },
  {
   "cell_type": "markdown",
   "metadata": {
    "papermill": {
     "duration": 0.01836,
     "end_time": "2020-07-18T04:29:48.056146",
     "exception": false,
     "start_time": "2020-07-18T04:29:48.037786",
     "status": "completed"
    },
    "tags": []
   },
   "source": [
    "#### Checking initialization"
   ]
  },
  {
   "cell_type": "code",
   "execution_count": 25,
   "metadata": {
    "execution": {
     "iopub.execute_input": "2020-07-18T04:29:48.097783Z",
     "iopub.status.busy": "2020-07-18T04:29:48.097472Z",
     "iopub.status.idle": "2020-07-18T04:29:48.144716Z",
     "shell.execute_reply": "2020-07-18T04:29:48.145027Z"
    },
    "papermill": {
     "duration": 0.069714,
     "end_time": "2020-07-18T04:29:48.145107",
     "exception": false,
     "start_time": "2020-07-18T04:29:48.075393",
     "status": "completed"
    },
    "tags": []
   },
   "outputs": [
    {
     "name": "stdout",
     "output_type": "stream",
     "text": [
      "n_features:  100\n",
      "n_hamiltonians:  6561\n",
      "n_ts:  2\n",
      "CPU times: user 402 µs, sys: 41 µs, total: 443 µs\n",
      "Wall time: 298 µs\n"
     ]
    }
   ],
   "source": [
    "%%time\n",
    "n_features = simulation.n_features\n",
    "n_hamiltonians = simulation.n_hamiltonians\n",
    "n_ts = simulation.n_ts\n",
    "\n",
    "print(\"n_features: \", n_features)\n",
    "print(\"n_hamiltonians: \", n_hamiltonians)\n",
    "print(\"n_ts: \", n_ts)"
   ]
  },
  {
   "cell_type": "code",
   "execution_count": 26,
   "metadata": {
    "execution": {
     "iopub.execute_input": "2020-07-18T04:29:48.190256Z",
     "iopub.status.busy": "2020-07-18T04:29:48.189708Z",
     "iopub.status.idle": "2020-07-18T04:29:48.409041Z",
     "shell.execute_reply": "2020-07-18T04:29:48.409294Z"
    },
    "papermill": {
     "duration": 0.240575,
     "end_time": "2020-07-18T04:29:48.409363",
     "exception": false,
     "start_time": "2020-07-18T04:29:48.168788",
     "status": "completed"
    },
    "tags": []
   },
   "outputs": [
    {
     "name": "stdout",
     "output_type": "stream",
     "text": [
      "% train:  0.846822130772748\n",
      "% val:  0.0\n",
      "% test:  0.15317786922725193\n",
      "% train + val + test:  1.0\n",
      "\n",
      "\n",
      "number of train hamiltonians:  5556\n",
      "number of val hamiltonians:  0\n",
      "number of test hamiltonians:  1005\n",
      "total number of hamiltonians:  6561\n",
      "\n",
      "\n",
      "train ids:  [9, 10, 11, 12, 13, 14, 15, 16, 17, 18, 19, 20, 21, 22, 23, 24, 25, 26, 27, 28, 29, 30, 31, 32, 33, 34, 35, 36, 37, 38, 39, 40, 41, 42, 43, 44, 45, 46, 47, 48, 49, 50, 51, 52, 53, 54, 55, 56, 57, 58, 59, 60, 61, 62, 63, 64, 65, 66, 67, 68, 69, 70, 71, 72, 73, 74, 75, 76, 77, 91, 92, 93, 94, 95, 96, 97, 98, 99, 100, 101, 102, 103, 104, 105, 106, 107, 108, 109, 110, 111, 112, 113, 114, 115, 116, 117, 118, 119, 120, 121, 122, 123, 124, 125, 126, 127, 128, 129, 130, 131, 132, 133, 134, 135, 136, 137, 138, 139, 140, 141, 142, 143, 144, 145, 146, 147, 148, 149, 150, 151, 152, 153, 154, 155, 156, 157, 172, 173, 174, 175, 176, 177, 178, 179, 180, 181, 182, 183, 184, 185, 186, 187, 188, 189, 190, 191, 192, 193, 194, 195, 196, 197, 198, 199, 200, 201, 202, 203, 204, 205, 206, 207, 208, 209, 210, 211, 212, 213, 214, 215, 216, 217, 218, 219, 220, 221, 222, 223, 224, 225, 226, 227, 228, 229, 230, 231, 232, 233, 234, 235, 236, 237, 254, 255, 256, 257, 258, 259, 260, 261, 262, 263, 264, 265, 266, 267, 268, 269, 270, 271, 272, 273, 274, 275, 276, 277, 278, 279, 280, 281, 282, 283, 284, 285, 286, 287, 288, 289, 290, 291, 292, 293, 294, 295, 296, 297, 298, 299, 300, 301, 302, 303, 304, 305, 306, 307, 308, 309, 310, 311, 312, 313, 314, 315, 316, 317, 323, 336, 337, 338, 339, 340, 341, 342, 343, 344, 345, 346, 347, 348, 349, 350, 351, 352, 353, 354, 355, 356, 357, 358, 359, 360, 361, 362, 363, 364, 365, 366, 367, 368, 369, 370, 371, 372, 373, 374, 375, 376, 377, 378, 379, 380, 381, 382, 383, 384, 385, 386, 387, 388, 389, 390, 391, 392, 393, 394, 395, 396, 397, 403, 404, 418, 419, 420, 421, 422, 423, 424, 425, 426, 427, 428, 429, 430, 431, 432, 433, 434, 435, 436, 437, 438, 439, 440, 441, 442, 443, 444, 445, 446, 447, 448, 449, 450, 451, 452, 453, 454, 455, 456, 457, 458, 459, 460, 461, 462, 463, 464, 465, 466, 467, 468, 469, 470, 471, 472, 473, 474, 475, 476, 477, 483, 484, 485, 500, 501, 502, 503, 504, 505, 506, 507, 508, 509, 510, 511, 512, 513, 514, 515, 516, 517, 518, 519, 520, 521, 522, 523, 524, 525, 526, 527, 528, 529, 530, 531, 532, 533, 534, 535, 536, 537, 538, 539, 540, 541, 542, 543, 544, 545, 546, 547, 548, 549, 550, 551, 552, 553, 554, 555, 556, 557, 563, 564, 565, 566, 581, 582, 583, 584, 585, 586, 587, 588, 589, 590, 591, 592, 593, 594, 595, 596, 597, 598, 599, 600, 601, 602, 603, 604, 605, 606, 607, 608, 609, 610, 611, 612, 613, 614, 615, 616, 617, 618, 619, 620, 621, 622, 623, 624, 625, 626, 627, 628, 629, 630, 631, 632, 633, 634, 635, 636, 637, 643, 644, 645, 646, 647, 663, 664, 665, 666, 667, 668, 669, 670, 671, 672, 673, 674, 675, 676, 677, 678, 679, 680, 681, 682, 683, 684, 685, 686, 687, 688, 689, 690, 691, 692, 693, 694, 695, 696, 697, 698, 699, 700, 701, 702, 703, 704, 705, 706, 707, 708, 709, 710, 711, 712, 713, 714, 715, 716, 717, 723, 724, 725, 726, 727, 728, 745, 746, 747, 748, 749, 750, 751, 752, 753, 754, 755, 756, 757, 758, 759, 760, 761, 762, 763, 764, 765, 766, 767, 768, 769, 770, 771, 772, 773, 774, 775, 776, 777, 778, 779, 780, 781, 782, 783, 784, 785, 786, 787, 788, 789, 790, 791, 792, 793, 794, 795, 796, 797, 803, 804, 805, 806, 807, 808, 809, 827, 828, 829, 830, 831, 832, 833, 834, 835, 836, 837, 838, 839, 840, 841, 842, 843, 844, 845, 846, 847, 848, 849, 850, 851, 852, 853, 854, 855, 856, 857, 858, 859, 860, 861, 862, 863, 864, 865, 866, 867, 868, 869, 870, 871, 872, 873, 874, 875, 876, 877, 883, 884, 885, 886, 887, 888, 889, 890, 891, 909, 910, 911, 912, 913, 914, 915, 916, 917, 918, 919, 920, 921, 922, 923, 924, 925, 926, 927, 928, 929, 930, 931, 932, 933, 934, 935, 936, 937, 938, 939, 940, 941, 942, 943, 944, 945, 946, 947, 948, 949, 950, 951, 952, 953, 954, 955, 956, 957, 963, 964, 965, 966, 967, 968, 969, 970, 971, 972, 973, 990, 991, 992, 993, 994, 995, 996, 997, 998, 999, 1000, 1001, 1002, 1003, 1004, 1005, 1006, 1007, 1008, 1009, 1010, 1011, 1012, 1013, 1014, 1015, 1016, 1017, 1018, 1019, 1020, 1021, 1022, 1023, 1024, 1025, 1026, 1027, 1028, 1029, 1030, 1031, 1032, 1033, 1034, 1035, 1036, 1037, 1038, 1042, 1043, 1044, 1045, 1046, 1047, 1048, 1049, 1050, 1051, 1052, 1053, 1054, 1055, 1056, 1072, 1073, 1074, 1075, 1076, 1077, 1078, 1079, 1080, 1081, 1082, 1083, 1084, 1085, 1086, 1087, 1088, 1089, 1090, 1091, 1092, 1093, 1094, 1095, 1096, 1097, 1098, 1099, 1100, 1101, 1102, 1103, 1104, 1105, 1106, 1107, 1108, 1109, 1110, 1111, 1112, 1113, 1114, 1115, 1116, 1117, 1118, 1122, 1123, 1124, 1125, 1126, 1127, 1128, 1129, 1130, 1131, 1132, 1133, 1134, 1135, 1136, 1137, 1138, 1154, 1155, 1156, 1157, 1158, 1159, 1160, 1161, 1162, 1163, 1164, 1165, 1166, 1167, 1168, 1169, 1170, 1171, 1172, 1173, 1174, 1175, 1176, 1177, 1178, 1179, 1180, 1181, 1182, 1183, 1184, 1185, 1186, 1187, 1188, 1189, 1190, 1191, 1192, 1193, 1194, 1195, 1196, 1197, 1198, 1202, 1203, 1204, 1205, 1206, 1207, 1208, 1209, 1210, 1211, 1212, 1213, 1214, 1215, 1216, 1217, 1218, 1219, 1220, 1236, 1237, 1238, 1239, 1240, 1241, 1242, 1243, 1244, 1245, 1246, 1247, 1248, 1249, 1250, 1251, 1252, 1253, 1254, 1255, 1256, 1257, 1258, 1259, 1260, 1261, 1262, 1263, 1264, 1265, 1266, 1267, 1268, 1269, 1270, 1271, 1272, 1273, 1274, 1275, 1276, 1277, 1278, 1282, 1283, 1284, 1285, 1286, 1287, 1288, 1289, 1290, 1291, 1292, 1293, 1294, 1295, 1296, 1297, 1298, 1299, 1300, 1301, 1302, 1303, 1317, 1318, 1319, 1320, 1321, 1322, 1323, 1324, 1325, 1326, 1327, 1328, 1329, 1330, 1331, 1332, 1333, 1334, 1335, 1336, 1337, 1338, 1339, 1340, 1341, 1342, 1343, 1344, 1345, 1346, 1347, 1348, 1349, 1350, 1351, 1352, 1353, 1354, 1355, 1356, 1357, 1358, 1362, 1363, 1364, 1365, 1366, 1367, 1368, 1369, 1370, 1371, 1372, 1373, 1374, 1375, 1376, 1377, 1378, 1379, 1380, 1381, 1382, 1383, 1384, 1385, 1399, 1400, 1401, 1402, 1403, 1404, 1405, 1406, 1407, 1408, 1409, 1410, 1411, 1412, 1413, 1414, 1415, 1416, 1417, 1418, 1419, 1420, 1421, 1422, 1423, 1424, 1425, 1426, 1427, 1428, 1429, 1430, 1431, 1432, 1433, 1434, 1435, 1436, 1437, 1438, 1442, 1443, 1444, 1445, 1446, 1447, 1448, 1449, 1450, 1451, 1452, 1453, 1454, 1455, 1456, 1457, 1458, 1459, 1460, 1461, 1462, 1463, 1464, 1465, 1466, 1467, 1468, 1481, 1482, 1483, 1484, 1485, 1486, 1487, 1488, 1489, 1490, 1491, 1492, 1493, 1494, 1495, 1496, 1497, 1498, 1499, 1500, 1501, 1502, 1503, 1504, 1505, 1506, 1507, 1508, 1509, 1510, 1511, 1512, 1513, 1514, 1515, 1516, 1517, 1518, 1522, 1523, 1524, 1525, 1526, 1527, 1528, 1529, 1530, 1531, 1532, 1533, 1534, 1535, 1536, 1537, 1538, 1539, 1540, 1541, 1542, 1543, 1544, 1545, 1546, 1547, 1548, 1549, 1550, 1563, 1564, 1565, 1566, 1567, 1568, 1569, 1570, 1571, 1572, 1573, 1574, 1575, 1576, 1577, 1578, 1579, 1580, 1581, 1582, 1583, 1584, 1585, 1586, 1587, 1588, 1589, 1590, 1591, 1592, 1593, 1594, 1595, 1596, 1597, 1598, 1602, 1603, 1604, 1605, 1606, 1607, 1608, 1609, 1610, 1611, 1612, 1613, 1614, 1615, 1616, 1617, 1618, 1619, 1620, 1621, 1622, 1623, 1624, 1625, 1626, 1627, 1628, 1629, 1630, 1631, 1632, 1645, 1646, 1647, 1648, 1649, 1650, 1651, 1652, 1653, 1654, 1655, 1656, 1657, 1658, 1659, 1660, 1661, 1662, 1663, 1664, 1665, 1666, 1667, 1668, 1669, 1670, 1671, 1672, 1673, 1674, 1675, 1676, 1677, 1678, 1682, 1683, 1684, 1685, 1686, 1687, 1688, 1689, 1690, 1691, 1692, 1693, 1694, 1695, 1696, 1697, 1698, 1699, 1700, 1701, 1702, 1703, 1704, 1705, 1706, 1707, 1708, 1709, 1710, 1711, 1712, 1713, 1714, 1715, 1726, 1727, 1728, 1729, 1730, 1731, 1732, 1733, 1734, 1735, 1736, 1737, 1738, 1739, 1740, 1741, 1742, 1743, 1744, 1745, 1746, 1747, 1748, 1749, 1750, 1751, 1752, 1753, 1754, 1755, 1756, 1757, 1758, 1762, 1763, 1764, 1765, 1766, 1767, 1768, 1769, 1770, 1771, 1772, 1773, 1774, 1775, 1776, 1777, 1778, 1779, 1780, 1781, 1782, 1783, 1784, 1785, 1786, 1787, 1788, 1789, 1790, 1791, 1792, 1793, 1794, 1795, 1796, 1797, 1808, 1809, 1810, 1811, 1812, 1813, 1814, 1815, 1816, 1817, 1818, 1819, 1820, 1821, 1822, 1823, 1824, 1825, 1826, 1827, 1828, 1829, 1830, 1831, 1832, 1833, 1834, 1835, 1836, 1837, 1838, 1842, 1843, 1844, 1845, 1846, 1847, 1848, 1849, 1850, 1851, 1852, 1853, 1854, 1855, 1856, 1857, 1858, 1859, 1860, 1861, 1862, 1863, 1864, 1865, 1866, 1867, 1868, 1869, 1870, 1871, 1872, 1873, 1874, 1875, 1876, 1877, 1878, 1879, 1890, 1891, 1892, 1893, 1894, 1895, 1896, 1897, 1898, 1899, 1900, 1901, 1902, 1903, 1904, 1905, 1906, 1907, 1908, 1909, 1910, 1911, 1912, 1913, 1914, 1915, 1916, 1917, 1918, 1922, 1923, 1924, 1925, 1926, 1927, 1928, 1929, 1930, 1931, 1932, 1933, 1934, 1935, 1936, 1937, 1938, 1939, 1940, 1941, 1942, 1943, 1944, 1945, 1946, 1947, 1948, 1949, 1950, 1951, 1952, 1953, 1954, 1955, 1956, 1957, 1958, 1959, 1960, 1961, 1962, 1972, 1973, 1974, 1975, 1976, 1977, 1978, 1979, 1980, 1981, 1982, 1983, 1984, 1985, 1986, 1987, 1988, 1989, 1990, 1991, 1992, 1993, 1994, 1995, 1996, 1997, 1998, 2002, 2003, 2004, 2005, 2006, 2007, 2008, 2009, 2010, 2011, 2012, 2013, 2014, 2015, 2016, 2017, 2018, 2019, 2020, 2021, 2022, 2023, 2024, 2025, 2026, 2027, 2028, 2029, 2030, 2031, 2032, 2033, 2034, 2035, 2036, 2037, 2038, 2039, 2040, 2041, 2042, 2043, 2044, 2054, 2055, 2056, 2057, 2058, 2059, 2060, 2061, 2062, 2063, 2064, 2065, 2066, 2067, 2068, 2069, 2070, 2071, 2072, 2073, 2074, 2075, 2076, 2077, 2078, 2082, 2083, 2084, 2085, 2086, 2087, 2088, 2089, 2090, 2091, 2092, 2093, 2094, 2095, 2096, 2097, 2098, 2099, 2100, 2101, 2102, 2103, 2104, 2105, 2106, 2107, 2108, 2109, 2110, 2111, 2112, 2113, 2114, 2115, 2116, 2117, 2118, 2119, 2120, 2121, 2122, 2123, 2124, 2125, 2126, 2135, 2136, 2137, 2138, 2139, 2140, 2141, 2142, 2143, 2144, 2145, 2146, 2147, 2148, 2149, 2150, 2151, 2152, 2153, 2154, 2155, 2156, 2157, 2158, 2159, 2161, 2162, 2163, 2164, 2165, 2166, 2167, 2168, 2169, 2170, 2171, 2172, 2173, 2174, 2175, 2176, 2177, 2178, 2179, 2180, 2181, 2182, 2183, 2184, 2185, 2186, 2187, 2188, 2189, 2190, 2191, 2192, 2193, 2194, 2195, 2196, 2197, 2198, 2199, 2200, 2201, 2202, 2203, 2204, 2205, 2206, 2207, 2208, 2209, 2217, 2218, 2219, 2220, 2221, 2222, 2223, 2224, 2225, 2226, 2227, 2228, 2229, 2230, 2231, 2232, 2233, 2234, 2235, 2236, 2237, 2238, 2239, 2241, 2242, 2243, 2244, 2245, 2246, 2247, 2248, 2249, 2250, 2251, 2252, 2253, 2254, 2255, 2256, 2257, 2258, 2259, 2260, 2261, 2262, 2263, 2264, 2265, 2266, 2267, 2268, 2269, 2270, 2271, 2272, 2273, 2274, 2275, 2276, 2277, 2278, 2279, 2280, 2281, 2282, 2283, 2284, 2285, 2286, 2287, 2288, 2289, 2290, 2291, 2299, 2300, 2301, 2302, 2303, 2304, 2305, 2306, 2307, 2308, 2309, 2310, 2311, 2312, 2313, 2314, 2315, 2316, 2317, 2318, 2319, 2321, 2322, 2323, 2324, 2325, 2326, 2327, 2328, 2329, 2330, 2331, 2332, 2333, 2334, 2335, 2336, 2337, 2338, 2339, 2340, 2341, 2342, 2343, 2344, 2345, 2346, 2347, 2348, 2349, 2350, 2351, 2352, 2353, 2354, 2355, 2356, 2357, 2358, 2359, 2360, 2361, 2362, 2363, 2364, 2365, 2366, 2367, 2368, 2369, 2370, 2371, 2372, 2373, 2374, 2381, 2382, 2383, 2384, 2385, 2386, 2387, 2388, 2389, 2390, 2391, 2392, 2393, 2394, 2395, 2396, 2397, 2398, 2399, 2401, 2402, 2403, 2404, 2405, 2406, 2407, 2408, 2409, 2410, 2411, 2412, 2413, 2414, 2415, 2416, 2417, 2418, 2419, 2420, 2421, 2422, 2423, 2424, 2425, 2426, 2427, 2428, 2429, 2430, 2431, 2432, 2433, 2434, 2435, 2436, 2437, 2438, 2439, 2440, 2441, 2442, 2443, 2444, 2445, 2446, 2447, 2448, 2449, 2450, 2451, 2452, 2453, 2454, 2455, 2456, 2463, 2464, 2465, 2466, 2467, 2468, 2469, 2470, 2471, 2472, 2473, 2474, 2475, 2476, 2477, 2478, 2479, 2481, 2482, 2483, 2484, 2485, 2486, 2487, 2488, 2489, 2490, 2491, 2492, 2493, 2494, 2495, 2496, 2497, 2498, 2499, 2500, 2501, 2502, 2503, 2504, 2505, 2506, 2507, 2508, 2509, 2510, 2511, 2512, 2513, 2514, 2515, 2516, 2517, 2518, 2519, 2520, 2521, 2522, 2523, 2524, 2525, 2526, 2527, 2528, 2529, 2530, 2531, 2532, 2533, 2534, 2535, 2536, 2537, 2538, 2544, 2545, 2546, 2547, 2548, 2549, 2550, 2551, 2552, 2553, 2554, 2555, 2556, 2557, 2558, 2559, 2561, 2562, 2563, 2564, 2565, 2566, 2567, 2568, 2569, 2570, 2571, 2572, 2573, 2574, 2575, 2576, 2577, 2578, 2579, 2580, 2581, 2582, 2583, 2584, 2585, 2586, 2587, 2588, 2589, 2590, 2591, 2592, 2593, 2594, 2595, 2596, 2597, 2598, 2599, 2600, 2601, 2602, 2603, 2604, 2605, 2606, 2607, 2608, 2609, 2610, 2611, 2612, 2613, 2614, 2615, 2616, 2617, 2618, 2619, 2620, 2621, 2626, 2627, 2628, 2629, 2630, 2631, 2632, 2633, 2634, 2635, 2636, 2637, 2638, 2639, 2641, 2642, 2643, 2644, 2645, 2646, 2647, 2648, 2649, 2650, 2651, 2652, 2653, 2654, 2655, 2656, 2657, 2658, 2659, 2660, 2661, 2662, 2663, 2664, 2665, 2666, 2667, 2668, 2669, 2670, 2671, 2672, 2673, 2674, 2675, 2676, 2677, 2678, 2679, 2680, 2681, 2682, 2683, 2684, 2685, 2686, 2687, 2688, 2689, 2690, 2691, 2692, 2693, 2694, 2695, 2696, 2697, 2698, 2699, 2700, 2701, 2702, 2703, 2708, 2709, 2710, 2711, 2712, 2713, 2714, 2715, 2716, 2717, 2718, 2719, 2721, 2722, 2723, 2724, 2725, 2726, 2727, 2728, 2729, 2730, 2731, 2732, 2733, 2734, 2735, 2736, 2737, 2738, 2739, 2740, 2741, 2742, 2743, 2744, 2745, 2746, 2747, 2748, 2749, 2750, 2751, 2752, 2753, 2754, 2755, 2756, 2757, 2758, 2759, 2760, 2761, 2762, 2763, 2764, 2765, 2766, 2767, 2768, 2769, 2770, 2771, 2772, 2773, 2774, 2775, 2776, 2777, 2778, 2779, 2780, 2781, 2782, 2783, 2784, 2785, 2790, 2791, 2792, 2793, 2794, 2795, 2796, 2797, 2798, 2799, 2801, 2802, 2803, 2804, 2805, 2806, 2807, 2808, 2809, 2810, 2811, 2812, 2813, 2814, 2815, 2816, 2817, 2818, 2819, 2820, 2821, 2822, 2823, 2824, 2825, 2826, 2827, 2828, 2829, 2830, 2831, 2832, 2833, 2834, 2835, 2836, 2837, 2838, 2839, 2840, 2841, 2842, 2843, 2844, 2845, 2846, 2847, 2848, 2849, 2850, 2851, 2852, 2853, 2854, 2855, 2856, 2857, 2858, 2859, 2860, 2861, 2862, 2863, 2864, 2865, 2866, 2867, 2868, 2872, 2873, 2874, 2875, 2876, 2877, 2878, 2879, 2881, 2882, 2883, 2884, 2885, 2886, 2887, 2888, 2889, 2890, 2891, 2892, 2893, 2894, 2895, 2896, 2897, 2898, 2899, 2900, 2901, 2902, 2903, 2904, 2905, 2906, 2907, 2908, 2909, 2910, 2911, 2912, 2913, 2914, 2915, 2916, 2917, 2918, 2919, 2920, 2921, 2922, 2923, 2924, 2925, 2926, 2927, 2928, 2929, 2930, 2931, 2932, 2933, 2934, 2935, 2936, 2937, 2938, 2939, 2940, 2941, 2942, 2943, 2944, 2945, 2946, 2947, 2948, 2949, 2950, 2953, 2954, 2955, 2956, 2957, 2958, 2959, 2961, 2962, 2963, 2964, 2965, 2966, 2967, 2968, 2969, 2970, 2971, 2972, 2973, 2974, 2975, 2976, 2977, 2978, 2979, 2980, 2981, 2982, 2983, 2984, 2985, 2986, 2987, 2988, 2989, 2990, 2991, 2992, 2993, 2994, 2995, 2996, 2997, 2998, 2999, 3000, 3001, 3002, 3003, 3004, 3005, 3006, 3007, 3008, 3009, 3010, 3011, 3012, 3013, 3014, 3015, 3016, 3017, 3018, 3019, 3020, 3021, 3022, 3023, 3024, 3025, 3026, 3027, 3028, 3029, 3030, 3031, 3032, 3035, 3036, 3037, 3038, 3039, 3041, 3042, 3043, 3044, 3045, 3046, 3047, 3048, 3049, 3050, 3051, 3052, 3053, 3054, 3055, 3056, 3057, 3058, 3059, 3060, 3061, 3062, 3063, 3064, 3065, 3066, 3067, 3068, 3069, 3070, 3071, 3072, 3073, 3074, 3075, 3076, 3077, 3078, 3079, 3080, 3081, 3082, 3083, 3084, 3085, 3086, 3087, 3088, 3089, 3090, 3091, 3092, 3093, 3094, 3095, 3096, 3097, 3098, 3099, 3100, 3101, 3102, 3103, 3104, 3105, 3106, 3107, 3108, 3109, 3110, 3111, 3112, 3113, 3114, 3115, 3117, 3118, 3119, 3121, 3122, 3123, 3124, 3125, 3126, 3127, 3128, 3129, 3130, 3131, 3132, 3133, 3134, 3135, 3136, 3137, 3138, 3139, 3140, 3141, 3142, 3143, 3144, 3145, 3146, 3147, 3148, 3149, 3150, 3151, 3152, 3153, 3154, 3155, 3156, 3157, 3158, 3159, 3160, 3161, 3162, 3163, 3164, 3165, 3166, 3167, 3168, 3169, 3170, 3171, 3172, 3173, 3174, 3175, 3176, 3177, 3178, 3179, 3180, 3181, 3182, 3183, 3184, 3185, 3186, 3187, 3188, 3189, 3190, 3191, 3192, 3193, 3194, 3195, 3196, 3197, 3199, 3201, 3202, 3203, 3204, 3205, 3206, 3207, 3208, 3209, 3210, 3211, 3212, 3213, 3214, 3215, 3216, 3217, 3218, 3219, 3220, 3221, 3222, 3223, 3224, 3225, 3226, 3227, 3228, 3229, 3230, 3231, 3232, 3233, 3234, 3235, 3236, 3237, 3238, 3239, 3240, 3241, 3242, 3243, 3244, 3245, 3246, 3247, 3248, 3249, 3250, 3251, 3252, 3253, 3254, 3255, 3256, 3257, 3258, 3259, 3260, 3261, 3262, 3263, 3264, 3265, 3266, 3267, 3268, 3269, 3270, 3271, 3272, 3273, 3274, 3275, 3276, 3277, 3278, 3279, 3281, 3282, 3283, 3284, 3285, 3286, 3287, 3288, 3289, 3290, 3291, 3292, 3293, 3294, 3295, 3296, 3297, 3298, 3299, 3300, 3301, 3302, 3303, 3304, 3305, 3306, 3307, 3308, 3309, 3310, 3311, 3312, 3313, 3314, 3315, 3316, 3317, 3318, 3319, 3320, 3321, 3322, 3323, 3324, 3325, 3326, 3327, 3328, 3329, 3330, 3331, 3332, 3333, 3334, 3335, 3336, 3337, 3338, 3339, 3340, 3341, 3342, 3343, 3344, 3345, 3346, 3347, 3348, 3349, 3350, 3351, 3352, 3353, 3354, 3355, 3356, 3357, 3358, 3359, 3361, 3363, 3364, 3365, 3366, 3367, 3368, 3369, 3370, 3371, 3372, 3373, 3374, 3375, 3376, 3377, 3378, 3379, 3380, 3381, 3382, 3383, 3384, 3385, 3386, 3387, 3388, 3389, 3390, 3391, 3392, 3393, 3394, 3395, 3396, 3397, 3398, 3399, 3400, 3401, 3402, 3403, 3404, 3405, 3406, 3407, 3408, 3409, 3410, 3411, 3412, 3413, 3414, 3415, 3416, 3417, 3418, 3419, 3420, 3421, 3422, 3423, 3424, 3425, 3426, 3427, 3428, 3429, 3430, 3431, 3432, 3433, 3434, 3435, 3436, 3437, 3438, 3439, 3441, 3442, 3443, 3445, 3446, 3447, 3448, 3449, 3450, 3451, 3452, 3453, 3454, 3455, 3456, 3457, 3458, 3459, 3460, 3461, 3462, 3463, 3464, 3465, 3466, 3467, 3468, 3469, 3470, 3471, 3472, 3473, 3474, 3475, 3476, 3477, 3478, 3479, 3480, 3481, 3482, 3483, 3484, 3485, 3486, 3487, 3488, 3489, 3490, 3491, 3492, 3493, 3494, 3495, 3496, 3497, 3498, 3499, 3500, 3501, 3502, 3503, 3504, 3505, 3506, 3507, 3508, 3509, 3510, 3511, 3512, 3513, 3514, 3515, 3516, 3517, 3518, 3519, 3521, 3522, 3523, 3524, 3525, 3528, 3529, 3530, 3531, 3532, 3533, 3534, 3535, 3536, 3537, 3538, 3539, 3540, 3541, 3542, 3543, 3544, 3545, 3546, 3547, 3548, 3549, 3550, 3551, 3552, 3553, 3554, 3555, 3556, 3557, 3558, 3559, 3560, 3561, 3562, 3563, 3564, 3565, 3566, 3567, 3568, 3569, 3570, 3571, 3572, 3573, 3574, 3575, 3576, 3577, 3578, 3579, 3580, 3581, 3582, 3583, 3584, 3585, 3586, 3587, 3588, 3589, 3590, 3591, 3592, 3593, 3594, 3595, 3596, 3597, 3598, 3599, 3601, 3602, 3603, 3604, 3605, 3606, 3607, 3610, 3611, 3612, 3613, 3614, 3615, 3616, 3617, 3618, 3619, 3620, 3621, 3622, 3623, 3624, 3625, 3626, 3627, 3628, 3629, 3630, 3631, 3632, 3633, 3634, 3635, 3636, 3637, 3638, 3639, 3640, 3641, 3642, 3643, 3644, 3645, 3646, 3647, 3648, 3649, 3650, 3651, 3652, 3653, 3654, 3655, 3656, 3657, 3658, 3659, 3660, 3661, 3662, 3663, 3664, 3665, 3666, 3667, 3668, 3669, 3670, 3671, 3672, 3673, 3674, 3675, 3676, 3677, 3678, 3679, 3681, 3682, 3683, 3684, 3685, 3686, 3687, 3688, 3692, 3693, 3694, 3695, 3696, 3697, 3698, 3699, 3700, 3701, 3702, 3703, 3704, 3705, 3706, 3707, 3708, 3709, 3710, 3711, 3712, 3713, 3714, 3715, 3716, 3717, 3718, 3719, 3720, 3721, 3722, 3723, 3724, 3725, 3726, 3727, 3728, 3729, 3730, 3731, 3732, 3733, 3734, 3735, 3736, 3737, 3738, 3739, 3740, 3741, 3742, 3743, 3744, 3745, 3746, 3747, 3748, 3749, 3750, 3751, 3752, 3753, 3754, 3755, 3756, 3757, 3758, 3759, 3761, 3762, 3763, 3764, 3765, 3766, 3767, 3768, 3769, 3770, 3775, 3776, 3777, 3778, 3779, 3780, 3781, 3782, 3783, 3784, 3785, 3786, 3787, 3788, 3789, 3790, 3791, 3792, 3793, 3794, 3795, 3796, 3797, 3798, 3799, 3800, 3801, 3802, 3803, 3804, 3805, 3806, 3807, 3808, 3809, 3810, 3811, 3812, 3813, 3814, 3815, 3816, 3817, 3818, 3819, 3820, 3821, 3822, 3823, 3824, 3825, 3826, 3827, 3828, 3829, 3830, 3831, 3832, 3833, 3834, 3835, 3836, 3837, 3838, 3839, 3841, 3842, 3843, 3844, 3845, 3846, 3847, 3848, 3849, 3850, 3851, 3852, 3857, 3858, 3859, 3860, 3861, 3862, 3863, 3864, 3865, 3866, 3867, 3868, 3869, 3870, 3871, 3872, 3873, 3874, 3875, 3876, 3877, 3878, 3879, 3880, 3881, 3882, 3883, 3884, 3885, 3886, 3887, 3888, 3889, 3890, 3891, 3892, 3893, 3894, 3895, 3896, 3897, 3898, 3899, 3900, 3901, 3902, 3903, 3904, 3905, 3906, 3907, 3908, 3909, 3910, 3911, 3912, 3913, 3914, 3915, 3916, 3917, 3918, 3919, 3921, 3922, 3923, 3924, 3925, 3926, 3927, 3928, 3929, 3930, 3931, 3932, 3933, 3934, 3939, 3940, 3941, 3942, 3943, 3944, 3945, 3946, 3947, 3948, 3949, 3950, 3951, 3952, 3953, 3954, 3955, 3956, 3957, 3958, 3959, 3960, 3961, 3962, 3963, 3964, 3965, 3966, 3967, 3968, 3969, 3970, 3971, 3972, 3973, 3974, 3975, 3976, 3977, 3978, 3979, 3980, 3981, 3982, 3983, 3984, 3985, 3986, 3987, 3988, 3989, 3990, 3991, 3992, 3993, 3994, 3995, 3996, 3997, 3998, 3999, 4001, 4002, 4003, 4004, 4005, 4006, 4007, 4008, 4009, 4010, 4011, 4012, 4013, 4014, 4015, 4016, 4022, 4023, 4024, 4025, 4026, 4027, 4028, 4029, 4030, 4031, 4032, 4033, 4034, 4035, 4036, 4037, 4038, 4039, 4040, 4041, 4042, 4043, 4044, 4045, 4046, 4047, 4048, 4049, 4050, 4051, 4052, 4053, 4054, 4055, 4056, 4057, 4058, 4059, 4060, 4061, 4062, 4063, 4064, 4065, 4066, 4067, 4068, 4069, 4070, 4071, 4072, 4073, 4074, 4075, 4076, 4077, 4078, 4079, 4081, 4082, 4083, 4084, 4085, 4086, 4087, 4088, 4089, 4090, 4091, 4092, 4093, 4094, 4095, 4096, 4097, 4104, 4105, 4106, 4107, 4108, 4109, 4110, 4111, 4112, 4113, 4114, 4115, 4116, 4117, 4118, 4119, 4120, 4121, 4122, 4123, 4124, 4125, 4126, 4127, 4128, 4129, 4130, 4131, 4132, 4133, 4134, 4135, 4136, 4137, 4138, 4139, 4140, 4141, 4142, 4143, 4144, 4145, 4146, 4147, 4148, 4149, 4150, 4151, 4152, 4153, 4154, 4155, 4156, 4157, 4158, 4159, 4161, 4162, 4163, 4164, 4165, 4166, 4167, 4168, 4169, 4170, 4171, 4172, 4173, 4174, 4175, 4176, 4177, 4178, 4179, 4186, 4187, 4188, 4189, 4190, 4191, 4192, 4193, 4194, 4195, 4196, 4197, 4198, 4199, 4200, 4201, 4202, 4203, 4204, 4205, 4206, 4207, 4208, 4209, 4210, 4211, 4212, 4213, 4214, 4215, 4216, 4217, 4218, 4219, 4220, 4221, 4222, 4223, 4224, 4225, 4226, 4227, 4228, 4229, 4230, 4231, 4232, 4233, 4234, 4235, 4236, 4237, 4238, 4239, 4241, 4242, 4243, 4244, 4245, 4246, 4247, 4248, 4249, 4250, 4251, 4252, 4253, 4254, 4255, 4256, 4257, 4258, 4259, 4260, 4261, 4269, 4270, 4271, 4272, 4273, 4274, 4275, 4276, 4277, 4278, 4279, 4280, 4281, 4282, 4283, 4284, 4285, 4286, 4287, 4288, 4289, 4290, 4291, 4292, 4293, 4294, 4295, 4296, 4297, 4298, 4299, 4300, 4301, 4302, 4303, 4304, 4305, 4306, 4307, 4308, 4309, 4310, 4311, 4312, 4313, 4314, 4315, 4316, 4317, 4318, 4319, 4321, 4322, 4323, 4324, 4325, 4326, 4327, 4328, 4329, 4330, 4331, 4332, 4333, 4334, 4335, 4336, 4337, 4338, 4339, 4340, 4341, 4342, 4343, 4351, 4352, 4353, 4354, 4355, 4356, 4357, 4358, 4359, 4360, 4361, 4362, 4363, 4364, 4365, 4366, 4367, 4368, 4369, 4370, 4371, 4372, 4373, 4374, 4375, 4376, 4377, 4378, 4379, 4380, 4381, 4382, 4383, 4384, 4385, 4386, 4387, 4388, 4389, 4390, 4391, 4392, 4393, 4394, 4395, 4396, 4397, 4398, 4399, 4401, 4402, 4403, 4404, 4405, 4406, 4407, 4408, 4409, 4410, 4411, 4412, 4413, 4414, 4415, 4416, 4417, 4418, 4419, 4420, 4421, 4422, 4423, 4424, 4425, 4434, 4435, 4436, 4437, 4438, 4439, 4440, 4441, 4442, 4443, 4444, 4445, 4446, 4447, 4448, 4449, 4450, 4451, 4452, 4453, 4454, 4455, 4456, 4457, 4458, 4459, 4460, 4461, 4462, 4463, 4464, 4465, 4466, 4467, 4468, 4469, 4470, 4471, 4472, 4473, 4474, 4475, 4476, 4477, 4478, 4482, 4483, 4484, 4485, 4486, 4487, 4488, 4489, 4490, 4491, 4492, 4493, 4494, 4495, 4496, 4497, 4498, 4499, 4500, 4501, 4502, 4503, 4504, 4505, 4506, 4516, 4517, 4518, 4519, 4520, 4521, 4522, 4523, 4524, 4525, 4526, 4527, 4528, 4529, 4530, 4531, 4532, 4533, 4534, 4535, 4536, 4537, 4538, 4539, 4540, 4541, 4542, 4543, 4544, 4545, 4546, 4547, 4548, 4549, 4550, 4551, 4552, 4553, 4554, 4555, 4556, 4557, 4558, 4562, 4563, 4564, 4565, 4566, 4567, 4568, 4569, 4570, 4571, 4572, 4573, 4574, 4575, 4576, 4577, 4578, 4579, 4580, 4581, 4582, 4583, 4584, 4585, 4586, 4587, 4588, 4598, 4599, 4600, 4601, 4602, 4603, 4604, 4605, 4606, 4607, 4608, 4609, 4610, 4611, 4612, 4613, 4614, 4615, 4616, 4617, 4618, 4619, 4620, 4621, 4622, 4623, 4624, 4625, 4626, 4627, 4628, 4629, 4630, 4631, 4632, 4633, 4634, 4635, 4636, 4637, 4638, 4642, 4643, 4644, 4645, 4646, 4647, 4648, 4649, 4650, 4651, 4652, 4653, 4654, 4655, 4656, 4657, 4658, 4659, 4660, 4661, 4662, 4663, 4664, 4665, 4666, 4667, 4668, 4669, 4670, 4681, 4682, 4683, 4684, 4685, 4686, 4687, 4688, 4689, 4690, 4691, 4692, 4693, 4694, 4695, 4696, 4697, 4698, 4699, 4700, 4701, 4702, 4703, 4704, 4705, 4706, 4707, 4708, 4709, 4710, 4711, 4712, 4713, 4714, 4715, 4716, 4717, 4718, 4722, 4723, 4724, 4725, 4726, 4727, 4728, 4729, 4730, 4731, 4732, 4733, 4734, 4735, 4736, 4737, 4738, 4739, 4740, 4741, 4742, 4743, 4744, 4745, 4746, 4747, 4748, 4749, 4750, 4751, 4752, 4763, 4764, 4765, 4766, 4767, 4768, 4769, 4770, 4771, 4772, 4773, 4774, 4775, 4776, 4777, 4778, 4779, 4780, 4781, 4782, 4783, 4784, 4785, 4786, 4787, 4788, 4789, 4790, 4791, 4792, 4793, 4794, 4795, 4796, 4797, 4798, 4802, 4803, 4804, 4805, 4806, 4807, 4808, 4809, 4810, 4811, 4812, 4813, 4814, 4815, 4816, 4817, 4818, 4819, 4820, 4821, 4822, 4823, 4824, 4825, 4826, 4827, 4828, 4829, 4830, 4831, 4832, 4833, 4834, 4845, 4846, 4847, 4848, 4849, 4850, 4851, 4852, 4853, 4854, 4855, 4856, 4857, 4858, 4859, 4860, 4861, 4862, 4863, 4864, 4865, 4866, 4867, 4868, 4869, 4870, 4871, 4872, 4873, 4874, 4875, 4876, 4877, 4878, 4882, 4883, 4884, 4885, 4886, 4887, 4888, 4889, 4890, 4891, 4892, 4893, 4894, 4895, 4896, 4897, 4898, 4899, 4900, 4901, 4902, 4903, 4904, 4905, 4906, 4907, 4908, 4909, 4910, 4911, 4912, 4913, 4914, 4915, 4928, 4929, 4930, 4931, 4932, 4933, 4934, 4935, 4936, 4937, 4938, 4939, 4940, 4941, 4942, 4943, 4944, 4945, 4946, 4947, 4948, 4949, 4950, 4951, 4952, 4953, 4954, 4955, 4956, 4957, 4958, 4962, 4963, 4964, 4965, 4966, 4967, 4968, 4969, 4970, 4971, 4972, 4973, 4974, 4975, 4976, 4977, 4978, 4979, 4980, 4981, 4982, 4983, 4984, 4985, 4986, 4987, 4988, 4989, 4990, 4991, 4992, 4993, 4994, 4995, 4996, 4997, 5010, 5011, 5012, 5013, 5014, 5015, 5016, 5017, 5018, 5019, 5020, 5021, 5022, 5023, 5024, 5025, 5026, 5027, 5028, 5029, 5030, 5031, 5032, 5033, 5034, 5035, 5036, 5037, 5038, 5042, 5043, 5044, 5045, 5046, 5047, 5048, 5049, 5050, 5051, 5052, 5053, 5054, 5055, 5056, 5057, 5058, 5059, 5060, 5061, 5062, 5063, 5064, 5065, 5066, 5067, 5068, 5069, 5070, 5071, 5072, 5073, 5074, 5075, 5076, 5077, 5078, 5079, 5092, 5093, 5094, 5095, 5096, 5097, 5098, 5099, 5100, 5101, 5102, 5103, 5104, 5105, 5106, 5107, 5108, 5109, 5110, 5111, 5112, 5113, 5114, 5115, 5116, 5117, 5118, 5122, 5123, 5124, 5125, 5126, 5127, 5128, 5129, 5130, 5131, 5132, 5133, 5134, 5135, 5136, 5137, 5138, 5139, 5140, 5141, 5142, 5143, 5144, 5145, 5146, 5147, 5148, 5149, 5150, 5151, 5152, 5153, 5154, 5155, 5156, 5157, 5158, 5159, 5160, 5161, 5175, 5176, 5177, 5178, 5179, 5180, 5181, 5182, 5183, 5184, 5185, 5186, 5187, 5188, 5189, 5190, 5191, 5192, 5193, 5194, 5195, 5196, 5197, 5198, 5202, 5203, 5204, 5205, 5206, 5207, 5208, 5209, 5210, 5211, 5212, 5213, 5214, 5215, 5216, 5217, 5218, 5219, 5220, 5221, 5222, 5223, 5224, 5225, 5226, 5227, 5228, 5229, 5230, 5231, 5232, 5233, 5234, 5235, 5236, 5237, 5238, 5239, 5240, 5241, 5242, 5243, 5257, 5258, 5259, 5260, 5261, 5262, 5263, 5264, 5265, 5266, 5267, 5268, 5269, 5270, 5271, 5272, 5273, 5274, 5275, 5276, 5277, 5278, 5282, 5283, 5284, 5285, 5286, 5287, 5288, 5289, 5290, 5291, 5292, 5293, 5294, 5295, 5296, 5297, 5298, 5299, 5300, 5301, 5302, 5303, 5304, 5305, 5306, 5307, 5308, 5309, 5310, 5311, 5312, 5313, 5314, 5315, 5316, 5317, 5318, 5319, 5320, 5321, 5322, 5323, 5324, 5340, 5341, 5342, 5343, 5344, 5345, 5346, 5347, 5348, 5349, 5350, 5351, 5352, 5353, 5354, 5355, 5356, 5357, 5358, 5362, 5363, 5364, 5365, 5366, 5367, 5368, 5369, 5370, 5371, 5372, 5373, 5374, 5375, 5376, 5377, 5378, 5379, 5380, 5381, 5382, 5383, 5384, 5385, 5386, 5387, 5388, 5389, 5390, 5391, 5392, 5393, 5394, 5395, 5396, 5397, 5398, 5399, 5400, 5401, 5402, 5403, 5404, 5405, 5406, 5422, 5423, 5424, 5425, 5426, 5427, 5428, 5429, 5430, 5431, 5432, 5433, 5434, 5435, 5436, 5437, 5438, 5442, 5443, 5444, 5445, 5446, 5447, 5448, 5449, 5450, 5451, 5452, 5453, 5454, 5455, 5456, 5457, 5458, 5459, 5460, 5461, 5462, 5463, 5464, 5465, 5466, 5467, 5468, 5469, 5470, 5471, 5472, 5473, 5474, 5475, 5476, 5477, 5478, 5479, 5480, 5481, 5482, 5483, 5484, 5485, 5486, 5487, 5488, 5504, 5505, 5506, 5507, 5508, 5509, 5510, 5511, 5512, 5513, 5514, 5515, 5516, 5517, 5518, 5522, 5523, 5524, 5525, 5526, 5527, 5528, 5529, 5530, 5531, 5532, 5533, 5534, 5535, 5536, 5537, 5538, 5539, 5540, 5541, 5542, 5543, 5544, 5545, 5546, 5547, 5548, 5549, 5550, 5551, 5552, 5553, 5554, 5555, 5556, 5557, 5558, 5559, 5560, 5561, 5562, 5563, 5564, 5565, 5566, 5567, 5568, 5569, 5570, 5587, 5588, 5589, 5590, 5591, 5592, 5593, 5594, 5595, 5596, 5597, 5603, 5604, 5605, 5606, 5607, 5608, 5609, 5610, 5611, 5612, 5613, 5614, 5615, 5616, 5617, 5618, 5619, 5620, 5621, 5622, 5623, 5624, 5625, 5626, 5627, 5628, 5629, 5630, 5631, 5632, 5633, 5634, 5635, 5636, 5637, 5638, 5639, 5640, 5641, 5642, 5643, 5644, 5645, 5646, 5647, 5648, 5649, 5650, 5651, 5669, 5670, 5671, 5672, 5673, 5674, 5675, 5676, 5677, 5683, 5684, 5685, 5686, 5687, 5688, 5689, 5690, 5691, 5692, 5693, 5694, 5695, 5696, 5697, 5698, 5699, 5700, 5701, 5702, 5703, 5704, 5705, 5706, 5707, 5708, 5709, 5710, 5711, 5712, 5713, 5714, 5715, 5716, 5717, 5718, 5719, 5720, 5721, 5722, 5723, 5724, 5725, 5726, 5727, 5728, 5729, 5730, 5731, 5732, 5733, 5751, 5752, 5753, 5754, 5755, 5756, 5757, 5763, 5764, 5765, 5766, 5767, 5768, 5769, 5770, 5771, 5772, 5773, 5774, 5775, 5776, 5777, 5778, 5779, 5780, 5781, 5782, 5783, 5784, 5785, 5786, 5787, 5788, 5789, 5790, 5791, 5792, 5793, 5794, 5795, 5796, 5797, 5798, 5799, 5800, 5801, 5802, 5803, 5804, 5805, 5806, 5807, 5808, 5809, 5810, 5811, 5812, 5813, 5814, 5815, 5832, 5833, 5834, 5835, 5836, 5837, 5843, 5844, 5845, 5846, 5847, 5848, 5849, 5850, 5851, 5852, 5853, 5854, 5855, 5856, 5857, 5858, 5859, 5860, 5861, 5862, 5863, 5864, 5865, 5866, 5867, 5868, 5869, 5870, 5871, 5872, 5873, 5874, 5875, 5876, 5877, 5878, 5879, 5880, 5881, 5882, 5883, 5884, 5885, 5886, 5887, 5888, 5889, 5890, 5891, 5892, 5893, 5894, 5895, 5896, 5897, 5913, 5914, 5915, 5916, 5917, 5923, 5924, 5925, 5926, 5927, 5928, 5929, 5930, 5931, 5932, 5933, 5934, 5935, 5936, 5937, 5938, 5939, 5940, 5941, 5942, 5943, 5944, 5945, 5946, 5947, 5948, 5949, 5950, 5951, 5952, 5953, 5954, 5955, 5956, 5957, 5958, 5959, 5960, 5961, 5962, 5963, 5964, 5965, 5966, 5967, 5968, 5969, 5970, 5971, 5972, 5973, 5974, 5975, 5976, 5977, 5978, 5979, 5994, 5995, 5996, 5997, 6003, 6004, 6005, 6006, 6007, 6008, 6009, 6010, 6011, 6012, 6013, 6014, 6015, 6016, 6017, 6018, 6019, 6020, 6021, 6022, 6023, 6024, 6025, 6026, 6027, 6028, 6029, 6030, 6031, 6032, 6033, 6034, 6035, 6036, 6037, 6038, 6039, 6040, 6041, 6042, 6043, 6044, 6045, 6046, 6047, 6048, 6049, 6050, 6051, 6052, 6053, 6054, 6055, 6056, 6057, 6058, 6059, 6060, 6075, 6076, 6077, 6083, 6084, 6085, 6086, 6087, 6088, 6089, 6090, 6091, 6092, 6093, 6094, 6095, 6096, 6097, 6098, 6099, 6100, 6101, 6102, 6103, 6104, 6105, 6106, 6107, 6108, 6109, 6110, 6111, 6112, 6113, 6114, 6115, 6116, 6117, 6118, 6119, 6120, 6121, 6122, 6123, 6124, 6125, 6126, 6127, 6128, 6129, 6130, 6131, 6132, 6133, 6134, 6135, 6136, 6137, 6138, 6139, 6140, 6141, 6142, 6156, 6157, 6163, 6164, 6165, 6166, 6167, 6168, 6169, 6170, 6171, 6172, 6173, 6174, 6175, 6176, 6177, 6178, 6179, 6180, 6181, 6182, 6183, 6184, 6185, 6186, 6187, 6188, 6189, 6190, 6191, 6192, 6193, 6194, 6195, 6196, 6197, 6198, 6199, 6200, 6201, 6202, 6203, 6204, 6205, 6206, 6207, 6208, 6209, 6210, 6211, 6212, 6213, 6214, 6215, 6216, 6217, 6218, 6219, 6220, 6221, 6222, 6223, 6224, 6237, 6243, 6244, 6245, 6246, 6247, 6248, 6249, 6250, 6251, 6252, 6253, 6254, 6255, 6256, 6257, 6258, 6259, 6260, 6261, 6262, 6263, 6264, 6265, 6266, 6267, 6268, 6269, 6270, 6271, 6272, 6273, 6274, 6275, 6276, 6277, 6278, 6279, 6280, 6281, 6282, 6283, 6284, 6285, 6286, 6287, 6288, 6289, 6290, 6291, 6292, 6293, 6294, 6295, 6296, 6297, 6298, 6299, 6300, 6301, 6302, 6303, 6304, 6305, 6306, 6323, 6324, 6325, 6326, 6327, 6328, 6329, 6330, 6331, 6332, 6333, 6334, 6335, 6336, 6337, 6338, 6339, 6340, 6341, 6342, 6343, 6344, 6345, 6346, 6347, 6348, 6349, 6350, 6351, 6352, 6353, 6354, 6355, 6356, 6357, 6358, 6359, 6360, 6361, 6362, 6363, 6364, 6365, 6366, 6367, 6368, 6369, 6370, 6371, 6372, 6373, 6374, 6375, 6376, 6377, 6378, 6379, 6380, 6381, 6382, 6383, 6384, 6385, 6386, 6387, 6388, 6403, 6404, 6405, 6406, 6407, 6408, 6409, 6410, 6411, 6412, 6413, 6414, 6415, 6416, 6417, 6418, 6419, 6420, 6421, 6422, 6423, 6424, 6425, 6426, 6427, 6428, 6429, 6430, 6431, 6432, 6433, 6434, 6435, 6436, 6437, 6438, 6439, 6440, 6441, 6442, 6443, 6444, 6445, 6446, 6447, 6448, 6449, 6450, 6451, 6452, 6453, 6454, 6455, 6456, 6457, 6458, 6459, 6460, 6461, 6462, 6463, 6464, 6465, 6466, 6467, 6468, 6469, 6483, 6484, 6485, 6486, 6487, 6488, 6489, 6490, 6491, 6492, 6493, 6494, 6495, 6496, 6497, 6498, 6499, 6500, 6501, 6502, 6503, 6504, 6505, 6506, 6507, 6508, 6509, 6510, 6511, 6512, 6513, 6514, 6515, 6516, 6517, 6518, 6519, 6520, 6521, 6522, 6523, 6524, 6525, 6526, 6527, 6528, 6529, 6530, 6531, 6532, 6533, 6534, 6535, 6536, 6537, 6538, 6539, 6540, 6541, 6542, 6543, 6544, 6545, 6546, 6547, 6548, 6549, 6550, 6551]\n",
      "val ids:  []\n",
      "test ids:  [0, 1, 2, 3, 4, 5, 6, 7, 8, 78, 79, 80, 81, 82, 83, 84, 85, 86, 87, 88, 89, 90, 158, 159, 160, 161, 162, 163, 164, 165, 166, 167, 168, 169, 170, 171, 238, 239, 240, 241, 242, 243, 244, 245, 246, 247, 248, 249, 250, 251, 252, 253, 318, 319, 320, 321, 322, 324, 325, 326, 327, 328, 329, 330, 331, 332, 333, 334, 335, 398, 399, 400, 401, 402, 405, 406, 407, 408, 409, 410, 411, 412, 413, 414, 415, 416, 417, 478, 479, 480, 481, 482, 486, 487, 488, 489, 490, 491, 492, 493, 494, 495, 496, 497, 498, 499, 558, 559, 560, 561, 562, 567, 568, 569, 570, 571, 572, 573, 574, 575, 576, 577, 578, 579, 580, 638, 639, 640, 641, 642, 648, 649, 650, 651, 652, 653, 654, 655, 656, 657, 658, 659, 660, 661, 662, 718, 719, 720, 721, 722, 729, 730, 731, 732, 733, 734, 735, 736, 737, 738, 739, 740, 741, 742, 743, 744, 798, 799, 800, 801, 802, 810, 811, 812, 813, 814, 815, 816, 817, 818, 819, 820, 821, 822, 823, 824, 825, 826, 878, 879, 880, 881, 882, 892, 893, 894, 895, 896, 897, 898, 899, 900, 901, 902, 903, 904, 905, 906, 907, 908, 958, 959, 960, 961, 962, 974, 975, 976, 977, 978, 979, 980, 981, 982, 983, 984, 985, 986, 987, 988, 989, 1039, 1040, 1041, 1057, 1058, 1059, 1060, 1061, 1062, 1063, 1064, 1065, 1066, 1067, 1068, 1069, 1070, 1071, 1119, 1120, 1121, 1139, 1140, 1141, 1142, 1143, 1144, 1145, 1146, 1147, 1148, 1149, 1150, 1151, 1152, 1153, 1199, 1200, 1201, 1221, 1222, 1223, 1224, 1225, 1226, 1227, 1228, 1229, 1230, 1231, 1232, 1233, 1234, 1235, 1279, 1280, 1281, 1304, 1305, 1306, 1307, 1308, 1309, 1310, 1311, 1312, 1313, 1314, 1315, 1316, 1359, 1360, 1361, 1386, 1387, 1388, 1389, 1390, 1391, 1392, 1393, 1394, 1395, 1396, 1397, 1398, 1439, 1440, 1441, 1469, 1470, 1471, 1472, 1473, 1474, 1475, 1476, 1477, 1478, 1479, 1480, 1519, 1520, 1521, 1551, 1552, 1553, 1554, 1555, 1556, 1557, 1558, 1559, 1560, 1561, 1562, 1599, 1600, 1601, 1633, 1634, 1635, 1636, 1637, 1638, 1639, 1640, 1641, 1642, 1643, 1644, 1679, 1680, 1681, 1716, 1717, 1718, 1719, 1720, 1721, 1722, 1723, 1724, 1725, 1759, 1760, 1761, 1798, 1799, 1800, 1801, 1802, 1803, 1804, 1805, 1806, 1807, 1839, 1840, 1841, 1880, 1881, 1882, 1883, 1884, 1885, 1886, 1887, 1888, 1889, 1919, 1920, 1921, 1963, 1964, 1965, 1966, 1967, 1968, 1969, 1970, 1971, 1999, 2000, 2001, 2045, 2046, 2047, 2048, 2049, 2050, 2051, 2052, 2053, 2079, 2080, 2081, 2127, 2128, 2129, 2130, 2131, 2132, 2133, 2134, 2160, 2210, 2211, 2212, 2213, 2214, 2215, 2216, 2240, 2292, 2293, 2294, 2295, 2296, 2297, 2298, 2320, 2375, 2376, 2377, 2378, 2379, 2380, 2400, 2457, 2458, 2459, 2460, 2461, 2462, 2480, 2539, 2540, 2541, 2542, 2543, 2560, 2622, 2623, 2624, 2625, 2640, 2704, 2705, 2706, 2707, 2720, 2786, 2787, 2788, 2789, 2800, 2869, 2870, 2871, 2880, 2951, 2952, 2960, 3033, 3034, 3040, 3116, 3120, 3198, 3200, 3280, 3360, 3362, 3440, 3444, 3520, 3526, 3527, 3600, 3608, 3609, 3680, 3689, 3690, 3691, 3760, 3771, 3772, 3773, 3774, 3840, 3853, 3854, 3855, 3856, 3920, 3935, 3936, 3937, 3938, 4000, 4017, 4018, 4019, 4020, 4021, 4080, 4098, 4099, 4100, 4101, 4102, 4103, 4160, 4180, 4181, 4182, 4183, 4184, 4185, 4240, 4262, 4263, 4264, 4265, 4266, 4267, 4268, 4320, 4344, 4345, 4346, 4347, 4348, 4349, 4350, 4400, 4426, 4427, 4428, 4429, 4430, 4431, 4432, 4433, 4479, 4480, 4481, 4507, 4508, 4509, 4510, 4511, 4512, 4513, 4514, 4515, 4559, 4560, 4561, 4589, 4590, 4591, 4592, 4593, 4594, 4595, 4596, 4597, 4639, 4640, 4641, 4671, 4672, 4673, 4674, 4675, 4676, 4677, 4678, 4679, 4680, 4719, 4720, 4721, 4753, 4754, 4755, 4756, 4757, 4758, 4759, 4760, 4761, 4762, 4799, 4800, 4801, 4835, 4836, 4837, 4838, 4839, 4840, 4841, 4842, 4843, 4844, 4879, 4880, 4881, 4916, 4917, 4918, 4919, 4920, 4921, 4922, 4923, 4924, 4925, 4926, 4927, 4959, 4960, 4961, 4998, 4999, 5000, 5001, 5002, 5003, 5004, 5005, 5006, 5007, 5008, 5009, 5039, 5040, 5041, 5080, 5081, 5082, 5083, 5084, 5085, 5086, 5087, 5088, 5089, 5090, 5091, 5119, 5120, 5121, 5162, 5163, 5164, 5165, 5166, 5167, 5168, 5169, 5170, 5171, 5172, 5173, 5174, 5199, 5200, 5201, 5244, 5245, 5246, 5247, 5248, 5249, 5250, 5251, 5252, 5253, 5254, 5255, 5256, 5279, 5280, 5281, 5325, 5326, 5327, 5328, 5329, 5330, 5331, 5332, 5333, 5334, 5335, 5336, 5337, 5338, 5339, 5359, 5360, 5361, 5407, 5408, 5409, 5410, 5411, 5412, 5413, 5414, 5415, 5416, 5417, 5418, 5419, 5420, 5421, 5439, 5440, 5441, 5489, 5490, 5491, 5492, 5493, 5494, 5495, 5496, 5497, 5498, 5499, 5500, 5501, 5502, 5503, 5519, 5520, 5521, 5571, 5572, 5573, 5574, 5575, 5576, 5577, 5578, 5579, 5580, 5581, 5582, 5583, 5584, 5585, 5586, 5598, 5599, 5600, 5601, 5602, 5652, 5653, 5654, 5655, 5656, 5657, 5658, 5659, 5660, 5661, 5662, 5663, 5664, 5665, 5666, 5667, 5668, 5678, 5679, 5680, 5681, 5682, 5734, 5735, 5736, 5737, 5738, 5739, 5740, 5741, 5742, 5743, 5744, 5745, 5746, 5747, 5748, 5749, 5750, 5758, 5759, 5760, 5761, 5762, 5816, 5817, 5818, 5819, 5820, 5821, 5822, 5823, 5824, 5825, 5826, 5827, 5828, 5829, 5830, 5831, 5838, 5839, 5840, 5841, 5842, 5898, 5899, 5900, 5901, 5902, 5903, 5904, 5905, 5906, 5907, 5908, 5909, 5910, 5911, 5912, 5918, 5919, 5920, 5921, 5922, 5980, 5981, 5982, 5983, 5984, 5985, 5986, 5987, 5988, 5989, 5990, 5991, 5992, 5993, 5998, 5999, 6000, 6001, 6002, 6061, 6062, 6063, 6064, 6065, 6066, 6067, 6068, 6069, 6070, 6071, 6072, 6073, 6074, 6078, 6079, 6080, 6081, 6082, 6143, 6144, 6145, 6146, 6147, 6148, 6149, 6150, 6151, 6152, 6153, 6154, 6155, 6158, 6159, 6160, 6161, 6162, 6225, 6226, 6227, 6228, 6229, 6230, 6231, 6232, 6233, 6234, 6235, 6236, 6238, 6239, 6240, 6241, 6242, 6307, 6308, 6309, 6310, 6311, 6312, 6313, 6314, 6315, 6316, 6317, 6318, 6319, 6320, 6321, 6322, 6389, 6390, 6391, 6392, 6393, 6394, 6395, 6396, 6397, 6398, 6399, 6400, 6401, 6402, 6470, 6471, 6472, 6473, 6474, 6475, 6476, 6477, 6478, 6479, 6480, 6481, 6482, 6552, 6553, 6554, 6555, 6556, 6557, 6558, 6559, 6560]\n",
      "CPU times: user 146 ms, sys: 24.3 ms, total: 171 ms\n",
      "Wall time: 170 ms\n"
     ]
    }
   ],
   "source": [
    "%%time\n",
    "n_total = len(simulation.dataframe)\n",
    "n_train = len(simulation.dataframe[simulation.dataframe.type_of == \"train\"])\n",
    "n_val = len(simulation.dataframe[simulation.dataframe.type_of == \"val\"])\n",
    "n_test = len(simulation.dataframe[simulation.dataframe.type_of == \"test\"])\n",
    "n_train_hamiltonians = len(simulation.train_ids)\n",
    "n_val_hamiltonians = len(simulation.val_ids)\n",
    "n_test_hamiltonians = len(simulation.test_ids)\n",
    "n_total_hamiltonians = n_train_hamiltonians + n_val_hamiltonians + n_test_hamiltonians\n",
    "\n",
    "print(\"% train: \", n_train/n_total)\n",
    "print(\"% val: \",  n_val/n_total)\n",
    "print(\"% test: \", n_test/n_total)\n",
    "print(\"% train + val + test: \", (n_train+n_val+n_test)/n_total)\n",
    "print(\"\\n\")\n",
    "print(\"number of train hamiltonians: \", n_train_hamiltonians)\n",
    "print(\"number of val hamiltonians: \", n_val_hamiltonians)\n",
    "print(\"number of test hamiltonians: \", n_test_hamiltonians)\n",
    "print(\"total number of hamiltonians: \", n_total_hamiltonians)\n",
    "print(\"\\n\")\n",
    "print(\"train ids: \", simulation.train_ids)\n",
    "print(\"val ids: \", simulation.val_ids)\n",
    "print(\"test ids: \", simulation.test_ids)"
   ]
  },
  {
   "cell_type": "markdown",
   "metadata": {
    "papermill": {
     "duration": 0.018342,
     "end_time": "2020-07-18T04:29:48.446222",
     "exception": false,
     "start_time": "2020-07-18T04:29:48.427880",
     "status": "completed"
    },
    "tags": []
   },
   "source": [
    "## Running a simulation"
   ]
  },
  {
   "cell_type": "code",
   "execution_count": 27,
   "metadata": {
    "execution": {
     "iopub.execute_input": "2020-07-18T04:29:48.486456Z",
     "iopub.status.busy": "2020-07-18T04:29:48.486146Z",
     "iopub.status.idle": "2020-07-18T04:45:45.213509Z",
     "shell.execute_reply": "2020-07-18T04:45:45.213197Z"
    },
    "papermill": {
     "duration": 956.748197,
     "end_time": "2020-07-18T04:45:45.213559",
     "exception": false,
     "start_time": "2020-07-18T04:29:48.465362",
     "status": "completed"
    },
    "tags": []
   },
   "outputs": [
    {
     "name": "stderr",
     "output_type": "stream",
     "text": [
      "\r",
      "running experiments:   0%|          | 0/100 [00:00<?, ?it/s]"
     ]
    },
    {
     "name": "stdout",
     "output_type": "stream",
     "text": [
      "Simulation mode:  None\n"
     ]
    },
    {
     "name": "stderr",
     "output_type": "stream",
     "text": [
      "\r",
      "running experiments:   1%|          | 1/100 [00:09<16:27,  9.97s/it]"
     ]
    },
    {
     "name": "stderr",
     "output_type": "stream",
     "text": [
      "\r",
      "running experiments:   2%|▏         | 2/100 [00:19<16:18,  9.99s/it]"
     ]
    },
    {
     "name": "stderr",
     "output_type": "stream",
     "text": [
      "\r",
      "running experiments:   3%|▎         | 3/100 [00:29<15:59,  9.89s/it]"
     ]
    },
    {
     "name": "stderr",
     "output_type": "stream",
     "text": [
      "\r",
      "running experiments:   4%|▍         | 4/100 [00:39<15:43,  9.83s/it]"
     ]
    },
    {
     "name": "stderr",
     "output_type": "stream",
     "text": [
      "\r",
      "running experiments:   5%|▌         | 5/100 [00:48<15:28,  9.78s/it]"
     ]
    },
    {
     "name": "stderr",
     "output_type": "stream",
     "text": [
      "\r",
      "running experiments:   6%|▌         | 6/100 [00:58<15:14,  9.73s/it]"
     ]
    },
    {
     "name": "stderr",
     "output_type": "stream",
     "text": [
      "\r",
      "running experiments:   7%|▋         | 7/100 [01:08<14:57,  9.65s/it]"
     ]
    },
    {
     "name": "stderr",
     "output_type": "stream",
     "text": [
      "\r",
      "running experiments:   8%|▊         | 8/100 [01:17<14:44,  9.61s/it]"
     ]
    },
    {
     "name": "stderr",
     "output_type": "stream",
     "text": [
      "\r",
      "running experiments:   9%|▉         | 9/100 [01:27<14:45,  9.73s/it]"
     ]
    },
    {
     "name": "stderr",
     "output_type": "stream",
     "text": [
      "\r",
      "running experiments:  10%|█         | 10/100 [01:36<14:15,  9.51s/it]"
     ]
    },
    {
     "name": "stderr",
     "output_type": "stream",
     "text": [
      "\r",
      "running experiments:  11%|█         | 11/100 [01:45<14:00,  9.45s/it]"
     ]
    },
    {
     "name": "stderr",
     "output_type": "stream",
     "text": [
      "\r",
      "running experiments:  12%|█▏        | 12/100 [01:55<13:49,  9.43s/it]"
     ]
    },
    {
     "name": "stderr",
     "output_type": "stream",
     "text": [
      "\r",
      "running experiments:  13%|█▎        | 13/100 [02:04<13:46,  9.50s/it]"
     ]
    },
    {
     "name": "stderr",
     "output_type": "stream",
     "text": [
      "\r",
      "running experiments:  14%|█▍        | 14/100 [02:15<13:59,  9.76s/it]"
     ]
    },
    {
     "name": "stderr",
     "output_type": "stream",
     "text": [
      "\r",
      "running experiments:  15%|█▌        | 15/100 [02:24<13:38,  9.63s/it]"
     ]
    },
    {
     "name": "stderr",
     "output_type": "stream",
     "text": [
      "\r",
      "running experiments:  16%|█▌        | 16/100 [02:34<13:31,  9.66s/it]"
     ]
    },
    {
     "name": "stderr",
     "output_type": "stream",
     "text": [
      "\r",
      "running experiments:  17%|█▋        | 17/100 [02:44<13:24,  9.69s/it]"
     ]
    },
    {
     "name": "stderr",
     "output_type": "stream",
     "text": [
      "\r",
      "running experiments:  18%|█▊        | 18/100 [02:53<12:58,  9.50s/it]"
     ]
    },
    {
     "name": "stderr",
     "output_type": "stream",
     "text": [
      "\r",
      "running experiments:  19%|█▉        | 19/100 [03:02<12:54,  9.56s/it]"
     ]
    },
    {
     "name": "stderr",
     "output_type": "stream",
     "text": [
      "\r",
      "running experiments:  20%|██        | 20/100 [03:12<12:42,  9.53s/it]"
     ]
    },
    {
     "name": "stderr",
     "output_type": "stream",
     "text": [
      "\r",
      "running experiments:  21%|██        | 21/100 [03:21<12:22,  9.39s/it]"
     ]
    },
    {
     "name": "stderr",
     "output_type": "stream",
     "text": [
      "\r",
      "running experiments:  22%|██▏       | 22/100 [03:30<12:08,  9.34s/it]"
     ]
    },
    {
     "name": "stderr",
     "output_type": "stream",
     "text": [
      "\r",
      "running experiments:  23%|██▎       | 23/100 [03:40<12:00,  9.35s/it]"
     ]
    },
    {
     "name": "stderr",
     "output_type": "stream",
     "text": [
      "\r",
      "running experiments:  24%|██▍       | 24/100 [03:48<11:35,  9.15s/it]"
     ]
    },
    {
     "name": "stderr",
     "output_type": "stream",
     "text": [
      "\r",
      "running experiments:  25%|██▌       | 25/100 [03:58<11:32,  9.24s/it]"
     ]
    },
    {
     "name": "stderr",
     "output_type": "stream",
     "text": [
      "\r",
      "running experiments:  26%|██▌       | 26/100 [04:08<11:47,  9.56s/it]"
     ]
    },
    {
     "name": "stderr",
     "output_type": "stream",
     "text": [
      "\r",
      "running experiments:  27%|██▋       | 27/100 [04:17<11:35,  9.53s/it]"
     ]
    },
    {
     "name": "stderr",
     "output_type": "stream",
     "text": [
      "\r",
      "running experiments:  28%|██▊       | 28/100 [04:28<11:59,  9.99s/it]"
     ]
    },
    {
     "name": "stderr",
     "output_type": "stream",
     "text": [
      "\r",
      "running experiments:  29%|██▉       | 29/100 [04:38<11:45,  9.94s/it]"
     ]
    },
    {
     "name": "stderr",
     "output_type": "stream",
     "text": [
      "\r",
      "running experiments:  30%|███       | 30/100 [04:48<11:29,  9.85s/it]"
     ]
    },
    {
     "name": "stderr",
     "output_type": "stream",
     "text": [
      "\r",
      "running experiments:  31%|███       | 31/100 [04:58<11:27,  9.96s/it]"
     ]
    },
    {
     "name": "stderr",
     "output_type": "stream",
     "text": [
      "\r",
      "running experiments:  32%|███▏      | 32/100 [05:08<11:13,  9.91s/it]"
     ]
    },
    {
     "name": "stderr",
     "output_type": "stream",
     "text": [
      "\r",
      "running experiments:  33%|███▎      | 33/100 [05:18<10:56,  9.80s/it]"
     ]
    },
    {
     "name": "stderr",
     "output_type": "stream",
     "text": [
      "\r",
      "running experiments:  34%|███▍      | 34/100 [05:27<10:45,  9.78s/it]"
     ]
    },
    {
     "name": "stderr",
     "output_type": "stream",
     "text": [
      "\r",
      "running experiments:  35%|███▌      | 35/100 [05:37<10:26,  9.63s/it]"
     ]
    },
    {
     "name": "stderr",
     "output_type": "stream",
     "text": [
      "\r",
      "running experiments:  36%|███▌      | 36/100 [05:47<10:27,  9.81s/it]"
     ]
    },
    {
     "name": "stderr",
     "output_type": "stream",
     "text": [
      "\r",
      "running experiments:  37%|███▋      | 37/100 [05:56<10:10,  9.70s/it]"
     ]
    },
    {
     "name": "stderr",
     "output_type": "stream",
     "text": [
      "\r",
      "running experiments:  38%|███▊      | 38/100 [06:05<09:54,  9.58s/it]"
     ]
    },
    {
     "name": "stderr",
     "output_type": "stream",
     "text": [
      "\r",
      "running experiments:  39%|███▉      | 39/100 [06:14<09:33,  9.40s/it]"
     ]
    },
    {
     "name": "stderr",
     "output_type": "stream",
     "text": [
      "\r",
      "running experiments:  40%|████      | 40/100 [06:24<09:32,  9.55s/it]"
     ]
    },
    {
     "name": "stderr",
     "output_type": "stream",
     "text": [
      "\r",
      "running experiments:  41%|████      | 41/100 [06:35<09:36,  9.77s/it]"
     ]
    },
    {
     "name": "stderr",
     "output_type": "stream",
     "text": [
      "\r",
      "running experiments:  42%|████▏     | 42/100 [06:44<09:17,  9.62s/it]"
     ]
    },
    {
     "name": "stderr",
     "output_type": "stream",
     "text": [
      "\r",
      "running experiments:  43%|████▎     | 43/100 [06:54<09:12,  9.69s/it]"
     ]
    },
    {
     "name": "stderr",
     "output_type": "stream",
     "text": [
      "\r",
      "running experiments:  44%|████▍     | 44/100 [07:03<08:58,  9.61s/it]"
     ]
    },
    {
     "name": "stderr",
     "output_type": "stream",
     "text": [
      "\r",
      "running experiments:  45%|████▌     | 45/100 [07:13<08:46,  9.57s/it]"
     ]
    },
    {
     "name": "stderr",
     "output_type": "stream",
     "text": [
      "\r",
      "running experiments:  46%|████▌     | 46/100 [07:22<08:40,  9.63s/it]"
     ]
    },
    {
     "name": "stderr",
     "output_type": "stream",
     "text": [
      "\r",
      "running experiments:  47%|████▋     | 47/100 [07:32<08:31,  9.65s/it]"
     ]
    },
    {
     "name": "stderr",
     "output_type": "stream",
     "text": [
      "\r",
      "running experiments:  48%|████▊     | 48/100 [07:41<08:13,  9.49s/it]"
     ]
    },
    {
     "name": "stderr",
     "output_type": "stream",
     "text": [
      "\r",
      "running experiments:  49%|████▉     | 49/100 [07:51<08:05,  9.51s/it]"
     ]
    },
    {
     "name": "stderr",
     "output_type": "stream",
     "text": [
      "\r",
      "running experiments:  50%|█████     | 50/100 [08:00<07:55,  9.51s/it]"
     ]
    },
    {
     "name": "stderr",
     "output_type": "stream",
     "text": [
      "\r",
      "running experiments:  51%|█████     | 51/100 [08:09<07:32,  9.23s/it]"
     ]
    },
    {
     "name": "stderr",
     "output_type": "stream",
     "text": [
      "\r",
      "running experiments:  52%|█████▏    | 52/100 [08:18<07:25,  9.27s/it]"
     ]
    },
    {
     "name": "stderr",
     "output_type": "stream",
     "text": [
      "\r",
      "running experiments:  53%|█████▎    | 53/100 [08:28<07:16,  9.28s/it]"
     ]
    },
    {
     "name": "stderr",
     "output_type": "stream",
     "text": [
      "\r",
      "running experiments:  54%|█████▍    | 54/100 [08:37<07:09,  9.33s/it]"
     ]
    },
    {
     "name": "stderr",
     "output_type": "stream",
     "text": [
      "\r",
      "running experiments:  55%|█████▌    | 55/100 [08:47<07:08,  9.52s/it]"
     ]
    },
    {
     "name": "stderr",
     "output_type": "stream",
     "text": [
      "\r",
      "running experiments:  56%|█████▌    | 56/100 [08:57<07:00,  9.55s/it]"
     ]
    },
    {
     "name": "stderr",
     "output_type": "stream",
     "text": [
      "\r",
      "running experiments:  57%|█████▋    | 57/100 [09:07<06:57,  9.72s/it]"
     ]
    },
    {
     "name": "stderr",
     "output_type": "stream",
     "text": [
      "\r",
      "running experiments:  58%|█████▊    | 58/100 [09:16<06:39,  9.51s/it]"
     ]
    },
    {
     "name": "stderr",
     "output_type": "stream",
     "text": [
      "\r",
      "running experiments:  59%|█████▉    | 59/100 [09:25<06:32,  9.57s/it]"
     ]
    },
    {
     "name": "stderr",
     "output_type": "stream",
     "text": [
      "\r",
      "running experiments:  60%|██████    | 60/100 [09:35<06:25,  9.64s/it]"
     ]
    },
    {
     "name": "stderr",
     "output_type": "stream",
     "text": [
      "\r",
      "running experiments:  61%|██████    | 61/100 [09:45<06:16,  9.66s/it]"
     ]
    },
    {
     "name": "stderr",
     "output_type": "stream",
     "text": [
      "\r",
      "running experiments:  62%|██████▏   | 62/100 [09:55<06:13,  9.83s/it]"
     ]
    },
    {
     "name": "stderr",
     "output_type": "stream",
     "text": [
      "\r",
      "running experiments:  63%|██████▎   | 63/100 [10:05<06:06,  9.90s/it]"
     ]
    },
    {
     "name": "stderr",
     "output_type": "stream",
     "text": [
      "\r",
      "running experiments:  64%|██████▍   | 64/100 [10:15<05:52,  9.79s/it]"
     ]
    },
    {
     "name": "stderr",
     "output_type": "stream",
     "text": [
      "\r",
      "running experiments:  65%|██████▌   | 65/100 [10:24<05:39,  9.70s/it]"
     ]
    },
    {
     "name": "stderr",
     "output_type": "stream",
     "text": [
      "\r",
      "running experiments:  66%|██████▌   | 66/100 [10:34<05:33,  9.82s/it]"
     ]
    },
    {
     "name": "stderr",
     "output_type": "stream",
     "text": [
      "\r",
      "running experiments:  67%|██████▋   | 67/100 [10:44<05:24,  9.83s/it]"
     ]
    },
    {
     "name": "stderr",
     "output_type": "stream",
     "text": [
      "\r",
      "running experiments:  68%|██████▊   | 68/100 [10:54<05:14,  9.83s/it]"
     ]
    },
    {
     "name": "stderr",
     "output_type": "stream",
     "text": [
      "\r",
      "running experiments:  69%|██████▉   | 69/100 [11:03<04:52,  9.42s/it]"
     ]
    },
    {
     "name": "stderr",
     "output_type": "stream",
     "text": [
      "\r",
      "running experiments:  70%|███████   | 70/100 [11:13<04:52,  9.75s/it]"
     ]
    },
    {
     "name": "stderr",
     "output_type": "stream",
     "text": [
      "\r",
      "running experiments:  71%|███████   | 71/100 [11:22<04:39,  9.63s/it]"
     ]
    },
    {
     "name": "stderr",
     "output_type": "stream",
     "text": [
      "\r",
      "running experiments:  72%|███████▏  | 72/100 [11:31<04:22,  9.37s/it]"
     ]
    },
    {
     "name": "stderr",
     "output_type": "stream",
     "text": [
      "\r",
      "running experiments:  73%|███████▎  | 73/100 [11:41<04:13,  9.37s/it]"
     ]
    },
    {
     "name": "stderr",
     "output_type": "stream",
     "text": [
      "\r",
      "running experiments:  74%|███████▍  | 74/100 [11:50<04:05,  9.45s/it]"
     ]
    },
    {
     "name": "stderr",
     "output_type": "stream",
     "text": [
      "\r",
      "running experiments:  75%|███████▌  | 75/100 [11:59<03:53,  9.35s/it]"
     ]
    },
    {
     "name": "stderr",
     "output_type": "stream",
     "text": [
      "\r",
      "running experiments:  76%|███████▌  | 76/100 [12:09<03:44,  9.34s/it]"
     ]
    },
    {
     "name": "stderr",
     "output_type": "stream",
     "text": [
      "\r",
      "running experiments:  77%|███████▋  | 77/100 [12:19<03:39,  9.53s/it]"
     ]
    },
    {
     "name": "stderr",
     "output_type": "stream",
     "text": [
      "\r",
      "running experiments:  78%|███████▊  | 78/100 [12:28<03:32,  9.65s/it]"
     ]
    },
    {
     "name": "stderr",
     "output_type": "stream",
     "text": [
      "\r",
      "running experiments:  79%|███████▉  | 79/100 [12:38<03:22,  9.64s/it]"
     ]
    },
    {
     "name": "stderr",
     "output_type": "stream",
     "text": [
      "\r",
      "running experiments:  80%|████████  | 80/100 [12:47<03:11,  9.56s/it]"
     ]
    },
    {
     "name": "stderr",
     "output_type": "stream",
     "text": [
      "\r",
      "running experiments:  81%|████████  | 81/100 [12:58<03:06,  9.84s/it]"
     ]
    },
    {
     "name": "stderr",
     "output_type": "stream",
     "text": [
      "\r",
      "running experiments:  82%|████████▏ | 82/100 [13:09<03:02, 10.12s/it]"
     ]
    },
    {
     "name": "stderr",
     "output_type": "stream",
     "text": [
      "\r",
      "running experiments:  83%|████████▎ | 83/100 [13:18<02:48,  9.93s/it]"
     ]
    },
    {
     "name": "stderr",
     "output_type": "stream",
     "text": [
      "\r",
      "running experiments:  84%|████████▍ | 84/100 [13:28<02:39,  9.94s/it]"
     ]
    },
    {
     "name": "stderr",
     "output_type": "stream",
     "text": [
      "\r",
      "running experiments:  85%|████████▌ | 85/100 [13:38<02:26,  9.78s/it]"
     ]
    },
    {
     "name": "stderr",
     "output_type": "stream",
     "text": [
      "\r",
      "running experiments:  86%|████████▌ | 86/100 [13:47<02:14,  9.61s/it]"
     ]
    },
    {
     "name": "stderr",
     "output_type": "stream",
     "text": [
      "\r",
      "running experiments:  87%|████████▋ | 87/100 [13:56<02:02,  9.40s/it]"
     ]
    },
    {
     "name": "stderr",
     "output_type": "stream",
     "text": [
      "\r",
      "running experiments:  88%|████████▊ | 88/100 [14:05<01:52,  9.40s/it]"
     ]
    },
    {
     "name": "stderr",
     "output_type": "stream",
     "text": [
      "\r",
      "running experiments:  89%|████████▉ | 89/100 [14:14<01:41,  9.25s/it]"
     ]
    },
    {
     "name": "stderr",
     "output_type": "stream",
     "text": [
      "\r",
      "running experiments:  90%|█████████ | 90/100 [14:23<01:32,  9.23s/it]"
     ]
    },
    {
     "name": "stderr",
     "output_type": "stream",
     "text": [
      "\r",
      "running experiments:  91%|█████████ | 91/100 [14:33<01:24,  9.41s/it]"
     ]
    },
    {
     "name": "stderr",
     "output_type": "stream",
     "text": [
      "\r",
      "running experiments:  92%|█████████▏| 92/100 [14:42<01:13,  9.23s/it]"
     ]
    },
    {
     "name": "stderr",
     "output_type": "stream",
     "text": [
      "\r",
      "running experiments:  93%|█████████▎| 93/100 [14:52<01:05,  9.40s/it]"
     ]
    },
    {
     "name": "stderr",
     "output_type": "stream",
     "text": [
      "\r",
      "running experiments:  94%|█████████▍| 94/100 [15:01<00:56,  9.44s/it]"
     ]
    },
    {
     "name": "stderr",
     "output_type": "stream",
     "text": [
      "\r",
      "running experiments:  95%|█████████▌| 95/100 [15:10<00:46,  9.35s/it]"
     ]
    },
    {
     "name": "stderr",
     "output_type": "stream",
     "text": [
      "\r",
      "running experiments:  96%|█████████▌| 96/100 [15:19<00:37,  9.28s/it]"
     ]
    },
    {
     "name": "stderr",
     "output_type": "stream",
     "text": [
      "\r",
      "running experiments:  97%|█████████▋| 97/100 [15:29<00:27,  9.30s/it]"
     ]
    },
    {
     "name": "stderr",
     "output_type": "stream",
     "text": [
      "\r",
      "running experiments:  98%|█████████▊| 98/100 [15:38<00:18,  9.31s/it]"
     ]
    },
    {
     "name": "stderr",
     "output_type": "stream",
     "text": [
      "\r",
      "running experiments:  99%|█████████▉| 99/100 [15:47<00:09,  9.05s/it]"
     ]
    },
    {
     "name": "stderr",
     "output_type": "stream",
     "text": [
      "\r",
      "running experiments: 100%|██████████| 100/100 [15:56<00:00,  9.23s/it]"
     ]
    },
    {
     "name": "stderr",
     "output_type": "stream",
     "text": [
      "\r",
      "running experiments: 100%|██████████| 100/100 [15:56<00:00,  9.57s/it]"
     ]
    },
    {
     "name": "stdout",
     "output_type": "stream",
     "text": [
      "CPU times: user 15min 52s, sys: 3.99 s, total: 15min 56s\n",
      "Wall time: 15min 56s\n"
     ]
    },
    {
     "name": "stderr",
     "output_type": "stream",
     "text": [
      "\n"
     ]
    }
   ],
   "source": [
    "\n",
    "%%time\n",
    "simulation.run_simulation(n_experiments, start_n, fit_params,shuffle_rows, pred_params, random_features, \\\n",
    "                          store_in_lists, save_eigenvector, save_hamiltonian, save_accuracy,\\\n",
    "                          save_models)\n",
    "if simulation.fourier_mode is not None:\n",
    "    simulation.fourier_dataframe.head(10)"
   ]
  },
  {
   "cell_type": "code",
   "execution_count": 28,
   "metadata": {
    "execution": {
     "iopub.execute_input": "2020-07-18T04:45:45.286147Z",
     "iopub.status.busy": "2020-07-18T04:45:45.285810Z",
     "iopub.status.idle": "2020-07-18T04:45:45.311951Z",
     "shell.execute_reply": "2020-07-18T04:45:45.312361Z"
    },
    "papermill": {
     "duration": 0.063046,
     "end_time": "2020-07-18T04:45:45.312443",
     "exception": false,
     "start_time": "2020-07-18T04:45:45.249397",
     "status": "completed"
    },
    "tags": []
   },
   "outputs": [
    {
     "data": {
      "text/html": [
       "<div>\n",
       "<style scoped>\n",
       "    .dataframe tbody tr th:only-of-type {\n",
       "        vertical-align: middle;\n",
       "    }\n",
       "\n",
       "    .dataframe tbody tr th {\n",
       "        vertical-align: top;\n",
       "    }\n",
       "\n",
       "    .dataframe thead th {\n",
       "        text-align: right;\n",
       "    }\n",
       "</style>\n",
       "<table border=\"1\" class=\"dataframe\">\n",
       "  <thead>\n",
       "    <tr style=\"text-align: right;\">\n",
       "      <th></th>\n",
       "      <th>id</th>\n",
       "      <th>path</th>\n",
       "      <th>t1</th>\n",
       "      <th>t2</th>\n",
       "      <th>winding</th>\n",
       "      <th>phase</th>\n",
       "      <th>pred_phase</th>\n",
       "      <th>type_of</th>\n",
       "      <th>feat0</th>\n",
       "      <th>feat1</th>\n",
       "      <th>...</th>\n",
       "      <th>feat90</th>\n",
       "      <th>feat91</th>\n",
       "      <th>feat92</th>\n",
       "      <th>feat93</th>\n",
       "      <th>feat94</th>\n",
       "      <th>feat95</th>\n",
       "      <th>feat96</th>\n",
       "      <th>feat97</th>\n",
       "      <th>feat98</th>\n",
       "      <th>feat99</th>\n",
       "    </tr>\n",
       "  </thead>\n",
       "  <tbody>\n",
       "    <tr>\n",
       "      <th>0</th>\n",
       "      <td>0</td>\n",
       "      <td>H_-2_-2_0.509296.dat</td>\n",
       "      <td>-2.0</td>\n",
       "      <td>-2.0</td>\n",
       "      <td>0.509296</td>\n",
       "      <td>999</td>\n",
       "      <td>1</td>\n",
       "      <td>test</td>\n",
       "      <td>0.100000</td>\n",
       "      <td>0.100000</td>\n",
       "      <td>...</td>\n",
       "      <td>0.100000</td>\n",
       "      <td>0.100000</td>\n",
       "      <td>0.100000</td>\n",
       "      <td>0.100000</td>\n",
       "      <td>0.100000</td>\n",
       "      <td>0.100000</td>\n",
       "      <td>0.100000</td>\n",
       "      <td>0.100000</td>\n",
       "      <td>0.100000</td>\n",
       "      <td>0.100000</td>\n",
       "    </tr>\n",
       "    <tr>\n",
       "      <th>1</th>\n",
       "      <td>0</td>\n",
       "      <td>H_-2_-2_0.509296.dat</td>\n",
       "      <td>-2.0</td>\n",
       "      <td>-2.0</td>\n",
       "      <td>0.509296</td>\n",
       "      <td>999</td>\n",
       "      <td>1</td>\n",
       "      <td>test</td>\n",
       "      <td>0.141421</td>\n",
       "      <td>0.141142</td>\n",
       "      <td>...</td>\n",
       "      <td>0.114412</td>\n",
       "      <td>0.108967</td>\n",
       "      <td>0.123928</td>\n",
       "      <td>0.119406</td>\n",
       "      <td>0.131490</td>\n",
       "      <td>0.127962</td>\n",
       "      <td>0.136978</td>\n",
       "      <td>0.134500</td>\n",
       "      <td>0.140306</td>\n",
       "      <td>0.138916</td>\n",
       "    </tr>\n",
       "    <tr>\n",
       "      <th>2</th>\n",
       "      <td>0</td>\n",
       "      <td>H_-2_-2_0.509296.dat</td>\n",
       "      <td>-2.0</td>\n",
       "      <td>-2.0</td>\n",
       "      <td>0.509296</td>\n",
       "      <td>999</td>\n",
       "      <td>1</td>\n",
       "      <td>test</td>\n",
       "      <td>0.141421</td>\n",
       "      <td>0.140306</td>\n",
       "      <td>...</td>\n",
       "      <td>0.043702</td>\n",
       "      <td>0.026500</td>\n",
       "      <td>0.075777</td>\n",
       "      <td>0.060214</td>\n",
       "      <td>0.103092</td>\n",
       "      <td>0.090145</td>\n",
       "      <td>0.123928</td>\n",
       "      <td>0.114412</td>\n",
       "      <td>0.136978</td>\n",
       "      <td>0.131490</td>\n",
       "    </tr>\n",
       "    <tr>\n",
       "      <th>3</th>\n",
       "      <td>0</td>\n",
       "      <td>H_-2_-2_0.509296.dat</td>\n",
       "      <td>-2.0</td>\n",
       "      <td>-2.0</td>\n",
       "      <td>0.509296</td>\n",
       "      <td>999</td>\n",
       "      <td>1</td>\n",
       "      <td>test</td>\n",
       "      <td>-0.100000</td>\n",
       "      <td>0.100000</td>\n",
       "      <td>...</td>\n",
       "      <td>-0.100000</td>\n",
       "      <td>0.100000</td>\n",
       "      <td>-0.100000</td>\n",
       "      <td>0.100000</td>\n",
       "      <td>-0.100000</td>\n",
       "      <td>0.100000</td>\n",
       "      <td>-0.100000</td>\n",
       "      <td>0.100000</td>\n",
       "      <td>-0.100000</td>\n",
       "      <td>0.100000</td>\n",
       "    </tr>\n",
       "    <tr>\n",
       "      <th>4</th>\n",
       "      <td>0</td>\n",
       "      <td>H_-2_-2_0.509296.dat</td>\n",
       "      <td>-2.0</td>\n",
       "      <td>-2.0</td>\n",
       "      <td>0.509296</td>\n",
       "      <td>999</td>\n",
       "      <td>0</td>\n",
       "      <td>test</td>\n",
       "      <td>0.000509</td>\n",
       "      <td>-0.008372</td>\n",
       "      <td>...</td>\n",
       "      <td>-0.082713</td>\n",
       "      <td>-0.089753</td>\n",
       "      <td>-0.067684</td>\n",
       "      <td>-0.075347</td>\n",
       "      <td>-0.051587</td>\n",
       "      <td>-0.059753</td>\n",
       "      <td>-0.034677</td>\n",
       "      <td>-0.043217</td>\n",
       "      <td>-0.017220</td>\n",
       "      <td>-0.026000</td>\n",
       "    </tr>\n",
       "    <tr>\n",
       "      <th>5</th>\n",
       "      <td>0</td>\n",
       "      <td>H_-2_-2_0.509296.dat</td>\n",
       "      <td>-2.0</td>\n",
       "      <td>-2.0</td>\n",
       "      <td>0.509296</td>\n",
       "      <td>999</td>\n",
       "      <td>0</td>\n",
       "      <td>test</td>\n",
       "      <td>0.001204</td>\n",
       "      <td>-0.016530</td>\n",
       "      <td>...</td>\n",
       "      <td>-0.134123</td>\n",
       "      <td>-0.138686</td>\n",
       "      <td>-0.118757</td>\n",
       "      <td>-0.127445</td>\n",
       "      <td>-0.095929</td>\n",
       "      <td>-0.108196</td>\n",
       "      <td>-0.067073</td>\n",
       "      <td>-0.082149</td>\n",
       "      <td>-0.034003</td>\n",
       "      <td>-0.050940</td>\n",
       "    </tr>\n",
       "    <tr>\n",
       "      <th>6</th>\n",
       "      <td>0</td>\n",
       "      <td>H_-2_-2_0.509296.dat</td>\n",
       "      <td>-2.0</td>\n",
       "      <td>-2.0</td>\n",
       "      <td>0.509296</td>\n",
       "      <td>999</td>\n",
       "      <td>0</td>\n",
       "      <td>test</td>\n",
       "      <td>-0.141421</td>\n",
       "      <td>-0.138980</td>\n",
       "      <td>...</td>\n",
       "      <td>0.043375</td>\n",
       "      <td>0.067830</td>\n",
       "      <td>-0.009222</td>\n",
       "      <td>0.017385</td>\n",
       "      <td>-0.060524</td>\n",
       "      <td>-0.035502</td>\n",
       "      <td>-0.103326</td>\n",
       "      <td>-0.083403</td>\n",
       "      <td>-0.131616</td>\n",
       "      <td>-0.119589</td>\n",
       "    </tr>\n",
       "    <tr>\n",
       "      <th>7</th>\n",
       "      <td>0</td>\n",
       "      <td>H_-2_-2_0.509296.dat</td>\n",
       "      <td>-2.0</td>\n",
       "      <td>-2.0</td>\n",
       "      <td>0.509296</td>\n",
       "      <td>999</td>\n",
       "      <td>1</td>\n",
       "      <td>test</td>\n",
       "      <td>-0.000826</td>\n",
       "      <td>0.025688</td>\n",
       "      <td>...</td>\n",
       "      <td>0.134753</td>\n",
       "      <td>0.124324</td>\n",
       "      <td>0.141088</td>\n",
       "      <td>0.140407</td>\n",
       "      <td>0.127608</td>\n",
       "      <td>0.136771</td>\n",
       "      <td>0.096206</td>\n",
       "      <td>0.113925</td>\n",
       "      <td>0.051292</td>\n",
       "      <td>0.075079</td>\n",
       "    </tr>\n",
       "    <tr>\n",
       "      <th>8</th>\n",
       "      <td>0</td>\n",
       "      <td>H_-2_-2_0.509296.dat</td>\n",
       "      <td>-2.0</td>\n",
       "      <td>-2.0</td>\n",
       "      <td>0.509296</td>\n",
       "      <td>999</td>\n",
       "      <td>1</td>\n",
       "      <td>test</td>\n",
       "      <td>0.141417</td>\n",
       "      <td>0.136684</td>\n",
       "      <td>...</td>\n",
       "      <td>-0.115093</td>\n",
       "      <td>-0.131915</td>\n",
       "      <td>-0.061266</td>\n",
       "      <td>-0.091040</td>\n",
       "      <td>0.007717</td>\n",
       "      <td>-0.027643</td>\n",
       "      <td>0.074791</td>\n",
       "      <td>0.042592</td>\n",
       "      <td>0.123363</td>\n",
       "      <td>0.102291</td>\n",
       "    </tr>\n",
       "    <tr>\n",
       "      <th>9</th>\n",
       "      <td>0</td>\n",
       "      <td>H_-2_-2_0.509296.dat</td>\n",
       "      <td>-2.0</td>\n",
       "      <td>-2.0</td>\n",
       "      <td>0.509296</td>\n",
       "      <td>999</td>\n",
       "      <td>1</td>\n",
       "      <td>test</td>\n",
       "      <td>0.001302</td>\n",
       "      <td>0.036430</td>\n",
       "      <td>...</td>\n",
       "      <td>0.082068</td>\n",
       "      <td>0.050848</td>\n",
       "      <td>0.127402</td>\n",
       "      <td>0.108132</td>\n",
       "      <td>0.141218</td>\n",
       "      <td>0.138667</td>\n",
       "      <td>0.120099</td>\n",
       "      <td>0.134896</td>\n",
       "      <td>0.069268</td>\n",
       "      <td>0.097755</td>\n",
       "    </tr>\n",
       "  </tbody>\n",
       "</table>\n",
       "<p>10 rows × 108 columns</p>\n",
       "</div>"
      ],
      "text/plain": [
       "   id                  path   t1   t2   winding  phase  pred_phase type_of  \\\n",
       "0   0  H_-2_-2_0.509296.dat -2.0 -2.0  0.509296    999           1    test   \n",
       "1   0  H_-2_-2_0.509296.dat -2.0 -2.0  0.509296    999           1    test   \n",
       "2   0  H_-2_-2_0.509296.dat -2.0 -2.0  0.509296    999           1    test   \n",
       "3   0  H_-2_-2_0.509296.dat -2.0 -2.0  0.509296    999           1    test   \n",
       "4   0  H_-2_-2_0.509296.dat -2.0 -2.0  0.509296    999           0    test   \n",
       "5   0  H_-2_-2_0.509296.dat -2.0 -2.0  0.509296    999           0    test   \n",
       "6   0  H_-2_-2_0.509296.dat -2.0 -2.0  0.509296    999           0    test   \n",
       "7   0  H_-2_-2_0.509296.dat -2.0 -2.0  0.509296    999           1    test   \n",
       "8   0  H_-2_-2_0.509296.dat -2.0 -2.0  0.509296    999           1    test   \n",
       "9   0  H_-2_-2_0.509296.dat -2.0 -2.0  0.509296    999           1    test   \n",
       "\n",
       "      feat0     feat1  ...    feat90    feat91    feat92    feat93    feat94  \\\n",
       "0  0.100000  0.100000  ...  0.100000  0.100000  0.100000  0.100000  0.100000   \n",
       "1  0.141421  0.141142  ...  0.114412  0.108967  0.123928  0.119406  0.131490   \n",
       "2  0.141421  0.140306  ...  0.043702  0.026500  0.075777  0.060214  0.103092   \n",
       "3 -0.100000  0.100000  ... -0.100000  0.100000 -0.100000  0.100000 -0.100000   \n",
       "4  0.000509 -0.008372  ... -0.082713 -0.089753 -0.067684 -0.075347 -0.051587   \n",
       "5  0.001204 -0.016530  ... -0.134123 -0.138686 -0.118757 -0.127445 -0.095929   \n",
       "6 -0.141421 -0.138980  ...  0.043375  0.067830 -0.009222  0.017385 -0.060524   \n",
       "7 -0.000826  0.025688  ...  0.134753  0.124324  0.141088  0.140407  0.127608   \n",
       "8  0.141417  0.136684  ... -0.115093 -0.131915 -0.061266 -0.091040  0.007717   \n",
       "9  0.001302  0.036430  ...  0.082068  0.050848  0.127402  0.108132  0.141218   \n",
       "\n",
       "     feat95    feat96    feat97    feat98    feat99  \n",
       "0  0.100000  0.100000  0.100000  0.100000  0.100000  \n",
       "1  0.127962  0.136978  0.134500  0.140306  0.138916  \n",
       "2  0.090145  0.123928  0.114412  0.136978  0.131490  \n",
       "3  0.100000 -0.100000  0.100000 -0.100000  0.100000  \n",
       "4 -0.059753 -0.034677 -0.043217 -0.017220 -0.026000  \n",
       "5 -0.108196 -0.067073 -0.082149 -0.034003 -0.050940  \n",
       "6 -0.035502 -0.103326 -0.083403 -0.131616 -0.119589  \n",
       "7  0.136771  0.096206  0.113925  0.051292  0.075079  \n",
       "8 -0.027643  0.074791  0.042592  0.123363  0.102291  \n",
       "9  0.138667  0.120099  0.134896  0.069268  0.097755  \n",
       "\n",
       "[10 rows x 108 columns]"
      ]
     },
     "execution_count": 28,
     "metadata": {},
     "output_type": "execute_result"
    }
   ],
   "source": [
    "simulation.dataframe.head(10)"
   ]
  },
  {
   "cell_type": "markdown",
   "metadata": {
    "papermill": {
     "duration": 0.035339,
     "end_time": "2020-07-18T04:45:45.383740",
     "exception": false,
     "start_time": "2020-07-18T04:45:45.348401",
     "status": "completed"
    },
    "tags": []
   },
   "source": [
    "#### Viewing a random sample"
   ]
  },
  {
   "cell_type": "code",
   "execution_count": 29,
   "metadata": {
    "execution": {
     "iopub.execute_input": "2020-07-18T04:45:45.457827Z",
     "iopub.status.busy": "2020-07-18T04:45:45.457474Z",
     "iopub.status.idle": "2020-07-18T04:45:45.467902Z",
     "shell.execute_reply": "2020-07-18T04:45:45.467584Z"
    },
    "papermill": {
     "duration": 0.048276,
     "end_time": "2020-07-18T04:45:45.467953",
     "exception": false,
     "start_time": "2020-07-18T04:45:45.419677",
     "status": "completed"
    },
    "tags": []
   },
   "outputs": [
    {
     "name": "stdout",
     "output_type": "stream",
     "text": [
      "CPU times: user 2 µs, sys: 0 ns, total: 2 µs\n",
      "Wall time: 4.29 µs\n"
     ]
    }
   ],
   "source": [
    "%%time\n",
    "if simulation.fourier_mode is not None:\n",
    "    simulation.fourier_dataframe.sample(frac=0.1, replace=False)"
   ]
  },
  {
   "cell_type": "markdown",
   "metadata": {
    "papermill": {
     "duration": 0.035496,
     "end_time": "2020-07-18T04:45:45.538871",
     "exception": false,
     "start_time": "2020-07-18T04:45:45.503375",
     "status": "completed"
    },
    "tags": []
   },
   "source": [
    "#### Checking train/val/test splits again"
   ]
  },
  {
   "cell_type": "code",
   "execution_count": 30,
   "metadata": {
    "execution": {
     "iopub.execute_input": "2020-07-18T04:45:45.612212Z",
     "iopub.status.busy": "2020-07-18T04:45:45.611860Z",
     "iopub.status.idle": "2020-07-18T04:45:45.794577Z",
     "shell.execute_reply": "2020-07-18T04:45:45.794257Z"
    },
    "papermill": {
     "duration": 0.219463,
     "end_time": "2020-07-18T04:45:45.794629",
     "exception": false,
     "start_time": "2020-07-18T04:45:45.575166",
     "status": "completed"
    },
    "tags": []
   },
   "outputs": [
    {
     "name": "stdout",
     "output_type": "stream",
     "text": [
      "% train:  0.08474317939338516\n",
      "% val:  0.7620789513793629\n",
      "% test:  0.15317786922725193\n",
      "% train + val + test:  1.0\n",
      "\n",
      "\n",
      "number of train hamiltonians:  556\n",
      "number of val hamiltonians:  5000\n",
      "number of test hamiltonians:  1005\n",
      "total number of hamiltonians:  6561\n",
      "\n",
      "\n",
      "train ids:  [3178, 3434, 111, 1250, 5550, 1973, 4504, 4576, 5701, 5693, 1660, 6223, 1567, 5307, 3148, 3627, 889, 2367, 4983, 3503, 5451, 5092, 3796, 2847, 129, 4539, 3145, 1958, 5733, 3402, 954, 3384, 1515, 221, 5272, 531, 3662, 2579, 5242, 4571, 314, 5631, 1175, 5114, 838, 5518, 5978, 6325, 669, 1002, 3548, 2983, 3761, 60, 5848, 6251, 1578, 5780, 313, 3635, 863, 4461, 2832, 3262, 3710, 2115, 5730, 3146, 795, 6025, 2109, 1174, 2766, 2007, 3052, 2519, 2770, 2354, 3642, 5299, 6450, 1301, 1043, 4549, 2410, 356, 5789, 995, 4276, 3959, 1977, 4406, 1186, 3757, 3846, 916, 6336, 3577, 1180, 5016, 2988, 5237, 4435, 2577, 5386, 5276, 35, 6364, 1936, 6205, 3298, 204, 796, 1364, 3108, 3833, 1203, 4850, 1495, 4500, 5802, 2746, 5644, 2756, 3544, 1009, 3124, 2283, 1078, 2042, 5098, 178, 3946, 128, 6185, 783, 4982, 6164, 6200, 3977, 3909, 5511, 1319, 1323, 951, 275, 1489, 3658, 4653, 6118, 99, 4657, 4944, 1243, 3089, 1464, 3389, 2066, 3453, 1409, 4459, 3030, 4081, 2656, 276, 3732, 1291, 2104, 2986, 1417, 5349, 2351, 6298, 55, 3867, 2831, 6386, 2185, 1863, 2971, 2571, 4126, 3502, 199, 5615, 387, 3596, 1535, 6169, 5885, 3167, 5318, 1505, 1624, 5858, 2403, 235, 4132, 5939, 4938, 861, 123, 6019, 4708, 786, 4857, 3775, 1433, 706, 2164, 5356, 4701, 2659, 5154, 565, 3515, 6439, 6026, 2765, 4408, 3406, 2738, 3641, 148, 6424, 1944, 4161, 2879, 2922, 6388, 4858, 843, 3794, 1794, 4378, 3603, 771, 931, 3015, 2652, 544, 5350, 1597, 666, 285, 2663, 3363, 2510, 2438, 5145, 4948, 4224, 3722, 3009, 208, 4260, 5175, 1318, 2650, 6332, 6087, 2359, 3369, 1705, 4391, 5291, 4057, 2778, 2921, 5397, 4682, 2112, 2366, 6178, 2523, 4787, 1655, 5795, 1026, 1756, 1539, 5020, 5159, 3190, 4887, 155, 6350, 1835, 2172, 5118, 4986, 376, 3602, 25, 1623, 3967, 5995, 4648, 4147, 4358, 3930, 4778, 209, 4811, 2866, 2607, 1774, 2477, 5786, 3973, 3365, 5587, 121, 3149, 2651, 4826, 445, 1536, 1264, 6429, 2771, 2414, 6262, 3922, 1898, 3881, 2776, 5852, 3213, 5539, 2846, 6140, 4238, 3112, 1604, 5140, 5916, 2317, 1645, 5122, 3746, 4218, 1573, 968, 3514, 5059, 3458, 1632, 2465, 2256, 1579, 3943, 3422, 3563, 4235, 3221, 5597, 4620, 5528, 2405, 2435, 3568, 1982, 4635, 5011, 51, 607, 3964, 4951, 2287, 6259, 3418, 4473, 2333, 4790, 2186, 5388, 3904, 6273, 2551, 2752, 4878, 6212, 1646, 2274, 5488, 4952, 6407, 5303, 4071, 4496, 1011, 4805, 3359, 6550, 3476, 2344, 781, 630, 5972, 3570, 4968, 3587, 4093, 2054, 4188, 3287, 4321, 2268, 773, 216, 1246, 119, 3371, 366, 3918, 4890, 4928, 4833, 3004, 5815, 3002, 4555, 1023, 3105, 3062, 4271, 6127, 4307, 4932, 2915, 3431, 2353, 1867, 5997, 5867, 925, 5035, 5060, 2657, 2609, 5556, 1178, 5317, 4001, 6331, 846, 2486, 5641, 49, 2693, 5442, 3194, 2201, 6057, 317, 2850, 5313, 647, 4669, 2250, 3655, 4992, 4502, 5890, 5461, 1611, 5929, 3061, 688, 5161, 3075, 4697, 4381, 5289, 2086, 3185, 2701, 803, 3367, 21, 1974, 5636, 585, 4303, 1414, 3613, 5277, 15, 2264, 3405, 2811, 3861, 4622, 3088, 6035, 5768, 2116, 3147, 485, 1211, 1796, 4889, 1351, 6187, 6167, 4625, 4794, 3162, 3358, 5950, 1997, 3963, 4059, 4872, 1245, 4796, 5926, 4388, 2958, 625, 3782, 4993, 3829, 4460, 1430, 4258, 950, 3186, 4864, 3950, 2690, 3571, 2107, 4304, 3163, 3068, 3446, 1612, 6053, 2471, 5183, 6047, 1817, 277, 4930, 4605, 3604, 6357, 3695, 5509, 2261, 4285, 4885, 1460, 4709]\n",
      "val ids:  [4975, 3165, 1856, 6110, 4277, 764, 2677, 4525, 2874, 5398, 4273, 1663, 3542, 1503, 1092, 6137, 4447, 6051, 5049, 5856, 3118, 5627, 5869, 4230, 1384, 4978, 4420, 971, 3235, 1095, 6519, 42, 532, 1404, 3437, 2644, 6209, 2175, 2470, 4505, 862, 4538, 2424, 1952, 5043, 2679, 4558, 6335, 1435, 1412, 1484, 460, 4832, 6114, 3135, 4226, 1103, 3257, 4856, 1664, 3800, 4628, 1494, 2260, 2731, 6327, 230, 6543, 3386, 2502, 1764, 4441, 1358, 1402, 3475, 4138, 6510, 5047, 1783, 5178, 1743, 6513, 4395, 4633, 5124, 1913, 4497, 3702, 3617, 5214, 3843, 5379, 910, 4775, 1955, 4016, 1926, 5647, 2818, 1184, 4645, 6186, 1626, 5308, 1253, 299, 2700, 1565, 4536, 845, 3378, 6033, 4472, 1665, 4149, 3740, 10, 3501, 5964, 1132, 1544, 3265, 6378, 1860, 6359, 3751, 5947, 6351, 3824, 4612, 2095, 2841, 1205, 4247, 807, 5621, 3479, 6435, 1771, 5285, 4397, 2629, 5854, 5535, 2273, 5067, 433, 2168, 3518, 2678, 6244, 5444, 4899, 56, 4250, 3556, 1054, 2793, 266, 3238, 4177, 6179, 4649, 5435, 312, 1960, 6210, 3727, 1019, 1044, 1825, 3987, 2192, 2011, 4449, 5526, 1568, 3491, 628, 2859, 1176, 2282, 3321, 3370, 4410, 3461, 1056, 3615, 726, 5029, 1357, 3267, 2041, 637, 3823, 1173, 1956, 3199, 4145, 5895, 4411, 5391, 1689, 4547, 2108, 1196, 2806, 1690, 1006, 5506, 3168, 4192, 344, 4528, 5949, 4468, 1382, 300, 5476, 4052, 4658, 2829, 6108, 2177, 1453, 228, 2909, 1545, 2452, 3484, 6221, 2908, 4613, 2854, 4867, 5472, 2758, 2904, 6440, 4251, 753, 132, 871, 6454, 3361, 664, 424, 3277, 1572, 4326, 6545, 6048, 232, 5893, 5669, 5523, 3261, 4519, 4654, 850, 4650, 3934, 3349, 1258, 3037, 1410, 1927, 1322, 223, 1754, 22, 2901, 5764, 3834, 5804, 6345, 5234, 4140, 1875, 3271, 1693, 3113, 586, 4136, 4234, 5265, 3965, 1658, 2389, 2162, 3994, 2299, 5403, 4803, 3237, 5182, 472, 633, 5927, 4825, 3847, 4217, 5687, 1046, 5975, 1523, 2853, 16, 3724, 4734, 6141, 4492, 4387, 6086, 5102, 2667, 6283, 4416, 4164, 1493, 3868, 6538, 3243, 2478, 2341, 3508, 1831, 3025, 442, 3522, 3832, 3121, 4252, 6373, 1105, 3477, 5974, 5833, 1540, 1594, 6284, 2152, 564, 58, 557, 3845, 1617, 1207, 136, 2342, 6462, 3452, 6371, 3466, 4336, 3350, 3543, 1462, 4566, 6132, 6204, 4884, 5896, 2668, 2809, 1172, 1114, 620, 3471, 1918, 6420, 1190, 2718, 3326, 6008, 1157, 109, 533, 2331, 5725, 1179, 3521, 5213, 4974, 4031, 1368, 1852, 552, 9, 1895, 173, 545, 3974, 3001, 31, 4444, 1829, 5282, 4602, 6028, 5552, 5354, 5133, 17, 3299, 3078, 2085, 1766, 1497, 4133, 1504, 6452, 38, 2600, 1450, 2098, 5343, 2093, 3985, 2665, 1993, 6338, 27, 452, 2254, 292, 3208, 755, 5619, 603, 513, 4061, 3634, 4069, 1923, 110, 5774, 3114, 2919, 3302, 59, 4568, 5141, 2226, 3827, 3042, 1296, 4357, 6170, 137, 2325, 3816, 547, 4817, 5545, 5394, 5110, 1327, 2550, 4122, 2143, 3672, 5645, 120, 4097, 555, 6208, 6379, 3595, 2649, 2969, 1017, 619, 5806, 6099, 4607, 3019, 2217, 2140, 1593, 4883, 3074, 3166, 2730, 4987, 1438, 1193, 5406, 3419, 2018, 2363, 336, 2717, 1087, 1465, 4179, 5864, 1992, 644, 3251, 2724, 4981, 4448, 1212, 1219, 2887, 4489, 5996, 5015, 3328, 5283, 2774, 5537, 1518, 5684, 4910, 1053, 116, 5225, 4550, 2180, 3916, 503, 352, 3274, 1216, 6296, 5683, 5123, 4341, 1585, 3534, 2020, 3954, 1106, 4726, 3651, 4731, 4043, 6457, 1940, 3193, 4084, 3205, 2032, 3401, 5570, 3036, 3598, 3311, 3270, 3354, 3687, 4659, 3282, 4812, 3610, 4370, 4364, 2141, 4329, 727, 4964, 944, 6430, 2373, 5694, 3421, 4534, 3763, 1213, 3745, 999, 5610, 1239, 5936, 4638, 1371, 785, 4090, 2060, 1108, 6265, 3992, 3875, 2596, 3879, 5340, 2570, 4666, 2078, 5875, 3682, 2328, 6042, 5460, 3151, 4297, 4434, 1823, 1122, 4385, 3202, 3549, 6442, 2209, 372, 788, 4392, 2564, 2689, 5105, 2817, 4202, 1586, 338, 2734, 2113, 3006, 3102, 766, 2920, 3810, 514, 2206, 2242, 4965, 5305, 3734, 4495, 4398, 5355, 4254, 4902, 342, 5560, 3957, 1437, 5553, 2858, 43, 1268, 5186, 1826, 4524, 371, 4389, 5766, 1251, 5455, 4228, 3531, 4493, 1124, 1569, 3451, 5650, 92, 4438, 6013, 311, 3955, 141, 4110, 6009, 525, 385, 302, 4006, 3649, 3753, 4356, 1163, 3478, 3585, 5323, 5037, 4556, 5293, 105, 705, 2603, 3429, 2483, 3117, 5884, 222, 4167, 2845, 2736, 6418, 108, 2156, 516, 3895, 233, 1824, 1403, 4516, 2582, 4466, 3592, 6367, 5948, 3778, 2697, 4533, 4117, 3808, 4905, 775, 5544, 5930, 2824, 6059, 1022, 1160, 2517, 383, 1454, 949, 4166, 6253, 2636, 4643, 363, 4563, 2503, 1937, 2638, 2504, 6300, 5228, 2537, 2288, 3673, 6521, 157, 3460, 470, 5064, 3638, 2309, 3980, 4154, 3364, 3327, 3191, 6403, 1113, 4891, 2837, 1587, 6250, 3574, 4029, 855, 3857, 3674, 6103, 2632, 2335, 1707, 4526, 4619, 1487, 3813, 5892, 553, 1340, 2982, 3387, 1018, 3383, 4707, 6206, 2121, 1337, 6498, 1135, 2178, 4782, 365, 3080, 918, 5396, 3578, 6456, 5924, 6115, 4442, 3996, 5404, 3494, 4108, 5377, 5590, 4040, 2148, 1466, 4058, 2384, 1217, 5189, 3092, 6165, 4291, 428, 2187, 4239, 1032, 2864, 1701, 4361, 1789, 4027, 804, 1972, 5814, 6432, 2500, 522, 4189, 4788, 1506, 2816, 1107, 3975, 5239, 5879, 2428, 4631, 634, 2899, 1341, 24, 6288, 3851, 5695, 4935, 2549, 1939, 4957, 543, 3082, 4270, 3536, 257, 3157, 1123, 3842, 4292, 4743, 6213, 5345, 3696, 4274, 6460, 4704, 3289, 5028, 5955, 1916, 5131, 421, 3313, 1008, 192, 4328, 2016, 1853, 1851, 2902, 4365, 4527, 4656, 359, 1267, 1317, 5887, 2223, 3085, 2355, 5698, 6119, 6458, 2759, 2505, 3906, 5651, 1995, 600, 3209, 2005, 6116, 4033, 3887, 4477, 1275, 2137, 520, 5857, 1432, 6038, 4457, 152, 2553, 2313, 940, 3011, 1277, 226, 5897, 3495, 2393, 518, 1507, 3830, 6256, 1781, 2408, 2322, 5792, 3329, 5079, 3885, 3195, 6219, 1709, 4284, 2224, 74, 1266, 4766, 1833, 2966, 2801, 5775, 2872, 590, 464, 3100, 2917, 2436, 6010, 272, 3581, 5794, 4848, 2828, 5543, 2905, 4906, 3388, 5872, 2427, 3546, 2147, 4342, 5434, 63, 623, 2962, 3049, 3719, 4494, 1678, 870, 3024, 5155, 1416, 5314, 3705, 441, 991, 1580, 4684, 3884, 2014, 3972, 5784, 2290, 5714, 5129, 1289, 4750, 1548, 3125, 2138, 1434, 3685, 675, 754, 643, 829, 4380, 4499, 4047, 1125, 4786, 6337, 3219, 2003, 1085, 2170, 4751, 6043, 4934, 3093, 5870, 3264, 5062, 2150, 3597, 6076, 746, 5462, 5422, 1254, 2415, 1675, 1837, 3013, 5676, 4314, 5363, 2741, 3684, 5093, 6246, 701, 5886, 1276, 2165, 5803, 4399, 3381, 832, 2028, 5269, 913, 5125, 676, 5866, 2891, 1697, 2933, 5771, 6109, 5437, 1838, 3322, 6199, 2699, 4820, 3122, 2597, 6416, 3913, 5458, 6075, 1263, 3297, 3301, 3306, 1584, 5108, 1541, 1129, 1615, 2695, 4005, 770, 1776, 2884, 1708, 431, 5700, 2763, 4629, 4396, 2868, 725, 3239, 4827, 6049, 5027, 2324, 4627, 3236, 2764, 2683, 5646, 4368, 4767, 5561, 3639, 2727, 2166, 1694, 3919, 6404, 4470, 1130, 4088, 1362, 704, 2694, 4343, 3898, 4748, 184, 1081, 2174, 6431, 2819, 2406, 794, 6171, 3355, 2688, 5152, 52, 4148, 4947, 5184, 2111, 5850, 2102, 3956, 1346, 4369, 6054, 1865, 4139, 605, 425, 4733, 3457, 4904, 183, 2805, 4565, 760, 443, 4584, 4082, 3012, 3914, 1295, 1194, 144, 2955, 2923, 5270, 2804, 214, 4244, 6434, 2204, 1728, 2760, 4692, 1864, 2827, 1899, 5370, 4382, 4521, 963, 4213, 3801, 1538, 1628, 5057, 6297, 1868, 5238, 2431, 787, 2821, 1336, 5720, 6293, 4023, 919, 2286, 5393, 6268, 6077, 3612, 2089, 2984, 778, 5624, 2497, 6421, 2992, 2785, 34, 1449, 2876, 3423, 3541, 1847, 3154, 2246, 4617, 2199, 3338, 133, 139, 2058, 3952, 877, 1500, 4491, 2171, 1715, 1379, 4540, 5257, 3517, 6126, 724, 2506, 1563, 3926, 1375, 3244, 2409, 3580, 6535, 936, 2239, 350, 2655, 146, 5483, 5068, 2057, 180, 2255, 3803, 5464, 4413, 616, 5591, 997, 1691, 5077, 1042, 4716, 1981, 5722, 2949, 5150, 2716, 4569, 5731, 187, 289, 195, 6489, 2555, 4452, 2725, 2692, 5045, 2524, 2948, 1819, 3283, 4768, 1097, 6166, 6191, 6045, 3187, 5426, 456, 6136, 2585, 3342, 4063, 774, 3253, 943, 5012, 1265, 5066, 3731, 2823, 5479, 4546, 3899, 6505, 2946, 4359, 6443, 1778, 3268, 2396, 3559, 5932, 2124, 1861, 1177, 888, 3552, 4159, 98, 4104, 761, 271, 1699, 5767, 4713, 3807, 1786, 2314, 581, 4471, 2126, 613, 367, 5970, 510, 2267, 4366, 6032, 5022, 4618, 1162, 3767, 4989, 2762, 2932, 176, 2953, 4362, 280, 3216, 3835, 3560, 2013, 1590, 610, 3063, 1197, 5058, 1816, 1812, 1048, 1272, 2535, 2441, 717, 6413, 4474, 1996, 6339, 548, 4818, 4158, 1442, 1027, 1353, 5913, 2397, 5928, 231, 1083, 6278, 631, 3319, 6329, 5790, 3622, 1373, 5076, 4152, 5699, 1285, 1510, 682, 220, 1902, 4646, 2097, 5785, 3743, 2833, 2696, 6085, 2444, 3779, 2838, 1014, 3020, 6093, 3442, 4374, 3290, 3417, 1566, 4548, 436, 3699, 1726, 2918, 5874, 4092, 779, 4791, 2546, 4773, 1904, 1662, 4386, 6222, 6176, 3379, 1928, 1782, 1818, 4979, 2964, 4221, 1979, 6243, 3728, 1425, 3425, 927, 3539, 2856, 3841, 4253, 2848, 1421, 5531, 1901, 2979, 3126, 3859, 2798, 373, 5877, 2627, 886, 101, 4973, 4334, 2330, 5692, 3226, 2862, 1486, 1813, 2182, 4520, 1874, 306, 4554, 2495, 2469, 2017, 1650, 4789, 1618, 1137, 5952, 3863, 6157, 3737, 4335, 4214, 4114, 2976, 3558, 1436, 3605, 2094, 2430, 5616, 1024, 1820, 4752, 2044, 5381, 1652, 2348, 5704, 5367, 5812, 5430, 5030, 5217, 347, 5917, 4467, 2411, 118, 708, 5517, 4969, 3759, 3412, 2726, 5685, 519, 2698, 6011, 3448, 2572, 5311, 3463, 1688, 4360, 685, 2574, 5595, 2464, 2203, 4724, 206, 6304, 713, 2173, 1989, 3241, 5188, 3611, 1324, 1654, 177, 6277, 3668, 4813, 5765, 4551, 5429, 3372, 837, 2660, 5104, 2270, 211, 4038, 924, 294, 2482, 5569, 102, 2927, 3307, 2306, 4095, 2851, 728, 5130, 5073, 6423, 4067, 4749, 2968, 4541, 2637, 4373, 844, 453, 1090, 645, 3385, 2937, 1455, 6380, 4966, 3718, 563, 30, 3486, 3949, 5054, 5691, 3781, 4886, 462, 2592, 2653, 70, 4621, 3197, 1456, 1931, 1073, 281, 440, 6361, 6348, 4417, 5127, 542, 2878, 2258, 3606, 2346, 4729, 5862, 2989, 6003, 6368, 4041, 4318, 4079, 4287, 1842, 2910, 1670, 140, 1695, 6412, 4121, 3836, 5387, 4115, 2957, 5781, 1757, 3266, 2836, 3123, 5466, 1015, 2136, 2768, 374, 5038, 4690, 4529, 2390, 3878, 4299, 4162, 459, 5065, 2680, 5853, 5389, 5316, 4700, 3184, 3844, 2985, 2120, 6528, 2063, 3726, 3348, 2205, 1845, 4317, 4735, 6023, 6340, 3398, 3820, 1079, 5557, 3645, 5014, 670, 5284, 3525, 4804, 4169, 2220, 2275, 6542, 3692, 3701, 5473, 1914, 3594, 6091, 5019, 6201, 2088, 2423, 6486, 6448, 1209, 1326, 265, 858, 2055, 291, 2714, 1740, 5705, 1333, 2711, 4222, 5375, 2202, 3511, 5144, 1075, 3806, 2710, 1529, 1485, 6275, 4286, 5796, 1094, 5961, 4146, 2875, 5592, 6254, 1003, 5633, 3141, 3723, 2861, 2446, 4462, 5881, 1374, 6495, 1420, 2929, 504, 1581, 450, 2715, 3530, 841, 5368, 6106, 2584, 2416, 6414, 1876, 4830, 5096, 2364, 1354, 1169, 5194, 3352, 2312, 4075, 3894, 5871, 6027, 2886, 5232, 3099, 6374, 3837, 909, 5938, 5529, 3896, 1168, 364, 5614, 6286, 3790, 4053, 6196, 4907, 3273, 4048, 2790, 3343, 5486, 3427, 106, 723, 2440, 2898, 6508, 1045, 6342, 3285, 2219, 3255, 1772, 189, 2784, 6451, 3087, 4025, 1034, 5341, 2269, 3223, 3035, 646, 6128, 2753, 582, 236, 2145, 2316, 1191, 680, 5809, 500, 295, 6092, 6133, 4109, 3815, 2554, 1649, 4311, 463, 1098, 4694, 4157, 789, 3174, 5017, 2362, 3961, 3619, 1621, 756, 310, 4153, 1516, 6372, 6387, 2398, 2558, 3582, 3137, 2740, 2360, 3693, 602, 4530, 3070, 3375, 2033, 1158, 2516, 4308, 6198, 769, 1128, 4309, 1330, 5036, 1682, 3561, 2189, 3188, 5457, 2237, 1195, 264, 142, 2071, 1710, 5424, 1571, 1165, 5454, 5940, 3828, 4150, 1792, 2813, 143, 6192, 5505, 6533, 2442, 3852, 2863, 3164, 5262, 290, 6005, 941, 589, 3246, 1859, 1877, 6544, 4845, 5010, 2394, 6405, 6124, 2511, 1988, 2548, 5347, 1537, 5728, 1603, 2196, 2615, 1702, 3671, 990, 5304, 47, 4390, 1751, 6285, 4823, 1896, 2544, 71, 4956, 3865, 103, 6197, 3142, 3677, 5702, 4418, 4784, 712, 3315, 345, 3489, 2319, 3725, 5639, 2942, 4943, 1127, 2231, 5056, 2536, 752, 5994, 4588, 3152, 466, 5860, 2489, 1257, 2347, 3058, 3890, 5515, 3095, 2814, 3474, 3335, 5364, 282, 1986, 6190, 3134, 3281, 4300, 5288, 6056, 791, 6295, 3886, 3497, 3227, 529, 1745, 2195, 3927, 5863, 5180, 1934, 3983, 5793, 4118, 1377, 587, 4186, 6500, 3041, 4296, 1126, 2149, 5023, 3079, 5933, 1255, 437, 2289, 4958, 3538, 3229, 3565, 2326, 2860, 2265, 1188, 3305, 5957, 3532, 5446, 4945, 2345, 3717, 3742, 3110, 1542, 5292, 5626, 473, 2792, 5132, 6377, 5638, 6517, 3729, 3562, 5218, 5382, 857, 4871, 5031, 32, 3455, 1451, 5204, 3018, 6520, 2843, 5052, 100, 5315, 6083, 992, 1746, 6352, 707, 550, 4698, 1452, 3109, 5358, 875, 6436, 2796, 5715, 549, 4243, 2142, 2914, 1591, 3897, 2453, 851, 2591, 5048, 6438, 1111, 5643, 5533, 5374, 5689, 6469, 2907, 2755, 711, 219, 1331, 3408, 5423, 2135, 5401, 5158, 4706, 1290, 3115, 46, 1443, 2493, 5378, 339, 793, 4855, 2443, 3430, 4816, 1343, 1525, 3127, 4831, 928, 612, 2991, 5309, 4042, 2561, 4715, 2825, 6007, 3263, 4407, 4275, 5834, 1962, 3155, 2463, 6280, 5554, 5302, 2530, 4464, 2383, 1773, 828, 3065, 4929, 2808, 1096, 3944, 4168, 4404, 1052, 5612, 1858, 3300, 3982, 2056, 1524, 6537, 194, 4007, 6183, 2911, 1461, 4626, 5604, 3057, 3787, 1020, 4454, 689, 4535, 920, 1192, 3749, 517, 5222, 3391, 2947, 5959, 3583, 521, 3091, 4785, 4261, 6224, 1692, 768, 6202, 1661, 4443, 5882, 772, 2631, 2635, 6502, 40, 5891, 836, 1104, 4908, 6506, 5126, 4372, 6211, 663, 3838, 2266, 2349, 14, 4375, 5878, 3323, 2563, 1942, 4339, 5211, 2587, 1381, 677, 5635, 1278, 1768, 3410, 2350, 5385, 1297, 4272, 4312, 6089, 541, 1501, 2069, 970, 3487, 2153, 3948, 147, 2419, 3553, 471, 4601, 4070, 957, 3247, 921, 6181, 868, 5937, 5348, 2729, 1415, 2747, 5179, 4037, 6444, 6215, 1668, 3506, 2358, 4151, 1903, 3981, 3812, 2009, 5963, 6113, 267, 1202, 3575, 1753, 4991, 2940, 3260, 1248, 3344, 792, 439, 5542, 2936, 4896, 3623, 3664, 5482, 5525, 6494, 6531, 3203, 3493, 1273, 3420, 2381, 890, 451, 3490, 2365, 2685, 3492, 5717, 3646, 3449, 6269, 4503, 4665, 404, 6370, 1951, 185, 4915, 5210, 474, 4065, 307, 6551, 4446, 4610, 6334, 1183, 2611, 1983, 4354, 3752, 5485, 5146, 6383, 435, 3232, 4780, 2404, 947, 2945, 5618, 5468, 234, 891, 993, 3942, 2885, 6015, 4570, 6526, 1533, 4003, 6184, 1791, 3872, 2006, 4465, 1630, 2072, 2025, 2303, 2532, 5696, 4722, 1777, 4888, 912, 3447, 1844, 1244, 1810, 213, 4702, 2225, 1531, 4577, 3589, 6195, 3081, 1978, 3873, 2434, 6305, 5042, 6425, 2713, 2235, 6539, 5562, 316, 3318, 4004, 2448, 112, 4402, 198, 3320, 5707, 73, 5969, 3593, 1252, 4355, 1857, 3659, 3393, 107, 3161, 2935, 512, 2096, 5625, 4209, 3984, 172, 876, 3567, 4861, 5100, 2742, 2190, 5931, 6376, 3947, 3858, 3470, 1347, 5620, 1954, 5843, 2997, 4980, 4866, 283, 5516, 5588, 6263, 4078, 469, 4026, 2893, 692, 3071, 4256, 4518, 4747, 3569, 2616, 113, 2200, 370, 2981, 4436, 3138, 1161, 3204, 2310, 2672, 3798, 4091, 2743, 3817, 3700, 2236, 2702, 3640, 2641, 1657, 790, 1348, 4424, 5953, 5353, 3703, 1514, 566, 2581, 6497, 1491, 2675, 5755, 2975, 1166, 3104, 2528, 4573, 6483, 1093, 3132, 3971, 215, 6040, 5855, 3860, 4537, 3021, 4501, 2425, 369, 2512, 1832, 6437, 2674, 4330, 5605, 1328, 1444, 3353, 3107, 780, 2179, 4119, 4422, 5475, 254, 2307, 4129, 4412, 5278, 1320, 5966, 1492, 5593, 2077, 20, 4877, 5107, 6524, 1206, 2122, 5547, 5106, 1830, 5962, 2590, 1706, 426, 1517, 3826, 6207, 853, 2070, 2357, 3050, 4777, 3784, 2092, 1873, 2447, 3711, 1862, 3130, 4828, 1339, 5153, 3039, 6360, 3893, 5220, 537, 29, 3258, 392, 1948, 4298, 1236, 523, 1021, 1912, 5727, 5034, 3780, 1109, 1546, 6292, 3880, 6129, 1527, 1509, 3473, 2803, 2473, 2499, 4984, 4963, 5271, 3978, 1949, 866, 1490, 6487, 1933, 4008, 691, 5371, 4567, 1457, 6463, 1775, 5594, 4056, 175, 4112, 3736, 1648, 1890, 994, 1549, 6188, 4280, 842, 3210, 5433, 2259, 1133, 5342, 835, 1482, 4022, 3618, 117, 4419, 5465, 1131, 2481, 1843, 1583, 4130, 2426, 5157, 1576, 3776, 2343, 381, 3339, 5160, 6052, 2980, 4642, 2799, 5046, 380, 309, 1338, 3814, 911, 5072, 4105, 3869, 5139, 2568, 2244, 5637, 1508, 4793, 5346, 1242, 4868, 1788, 4437, 427, 3416, 3709, 5805, 3654, 4711, 6122, 5113, 3000, 3111, 1592, 4405, 1905, 3902, 535, 3754, 296, 1627, 6496, 934, 1957, 2302, 18, 3822, 3792, 2501, 4703, 4685, 6260, 2723, 2087, 303, 509, 3177, 4717, 2455, 68, 2815, 6257, 3804, 1575, 2432, 2285, 4903, 4874, 6446, 4478, 965, 5044, 923, 3510, 2445, 1855, 1522, 1344, 1700, 6323, 6363, 1990, 5055, 6468, 1378, 5769, 3485, 4310, 93, 5609, 2474, 2105, 887, 4776, 2681, 6097, 5094, 6163, 3509, 5456, 2779, 2450, 449, 2950, 4517, 3404, 5977, 3924, 1878, 4687, 3407, 2708, 1671, 5835, 4740, 2208, 6504, 2822, 2035, 2733, 4779, 2015, 597, 2773, 4739, 952, 865, 2252, 1218, 2604, 4634, 4143, 4955, 4895, 6294, 5143, 3791, 4876, 6290, 2065, 6266, 6490, 948, 3621, 3516, 3786, 2301, 6014, 448, 2877, 4010, 2412, 6135, 5032, 5611, 2207, 3993, 1994, 5197, 340, 3234, 3373, 5320, 3443, 3588, 6117, 3599, 1247, 1814, 5198, 2421, 2538, 315, 5773, 4725, 2245, 2900, 1422, 4599, 6112, 805, 5706, 1300, 2761, 5634, 942, 3459, 225, 5508, 524, 2670, 6433, 1170, 1945, 1910, 2580, 2125, 1731, 3550, 6507, 4852, 3272, 2227, 6375, 4123, 2352, 6252, 1406, 4196, 2881, 4859, 2038, 5373, 5752, 5534, 6530, 3016, 5671, 2518, 2386, 5522, 2114, 1010, 3850, 4044, 626, 2061, 3795, 4210, 384, 6012, 4039, 13, 2728, 4939, 4860, 4587, 5847, 4034, 4585, 1846, 2023, 193, 278, 2515, 872, 2566, 4077, 4933, 6501, 3990, 621, 4207, 114, 2191, 3637, 4882, 2456, 1732, 346, 2938, 1101, 3821, 2395, 2795, 3380, 3481, 1051, 5837, 1445, 5193, 127, 4367, 2475, 2338, 3748, 6449, 3396, 5115, 3675, 3750, 3480, 3045, 6549, 5859, 389, 5712, 1016, 4087, 69, 3928, 2894, 4216, 1866, 3504, 3551, 2791, 3432, 3048, 4242, 2662, 4898, 2277, 5606, 4574, 926, 3789, 635, 4582, 762, 808, 72, 360, 4281, 3450, 150, 527, 1684, 5555, 3060, 3468, 1049, 4319, 5540, 1356, 5480, 690, 3533, 3631, 5208, 6382, 501, 4035, 6484, 4977, 1302, 4142, 1117, 3176, 3783, 28, 2857, 6041, 5798, 506, 2772, 6493, 5365, 3762, 2151, 1741, 395, 6408, 4083, 856, 6218, 5603, 6445, 3316, 4211, 5306, 2802, 1790, 4854, 353, 5469, 2221, 5512, 3284, 5321, 4941, 6499, 343, 2030, 2666, 859, 4193, 3818, 3131, 447, 5719, 4155, 3653, 3336, 1408, 3908, 2251, 1282, 1811, 5546, 5287, 678, 5448, 4325, 4125, 4046, 2090, 4223, 2332, 5873, 4205, 1240, 1656, 6291, 6365, 3557, 2484, 3286, 6514, 2775, 5297, 1770, 348, 284, 6461, 2750, 2565, 2139, 4384, 3819, 2019, 5209, 1712, 5219, 505, 4195, 508, 6289, 3067, 2987, 2304, 3584, 6261, 362, 4608, 4111, 3905, 3917, 4771, 1134, 4681, 3031, 3755, 3345, 1596, 4911, 4931, 422, 5524, 595, 4204, 955, 3259, 6174, 6271, 4137, 3224, 5880, 3968, 4712, 5116, 1428, 4670, 6441, 3624, 273, 5230, 1055, 833, 3483, 1953, 6406, 3464, 1366, 4623, 6180, 2429, 4995, 6527, 2749, 255, 2735, 2588, 5951, 444, 3171, 5071, 1089, 917, 3714, 2605, 6516, 5135, 1329, 6525, 6353, 5979, 1400, 3769, 1943, 6031, 1481, 3601, 3770, 6409, 5099, 475, 3207, 3988, 36, 996, 5751, 4327, 3912, 3877, 4225, 2279, 4249, 4187, 1848, 6534, 4875, 1332, 4632, 3128, 1828, 1674, 5836, 5181, 4094, 933, 2008, 6385, 2118, 227, 126, 1210, 1765, 1659, 3523, 5431, 6264, 596, 1737, 4849, 6055, 2062, 5362, 667, 4220, 4662, 1607, 4695, 4455, 1577, 3892, 2807, 6030, 6341, 2956, 5025, 5477, 5264, 1629, 203, 3505, 2719, 3056, 196, 2783, 1399, 615, 430, 2959, 5732, 1284, 5801, 6090, 6029, 2183, 341, 3564, 710, 361, 6333, 6036, 6485, 608, 4819, 601, 2781, 1074, 5946, 1418, 377, 3670, 3545, 3103, 5207, 2388, 6134, 5845, 2454, 604, 4060, 3382, 2491, 1102, 5709, 1998, 4970, 5559, 1711, 5195, 2586, 2722, 6121, 1610, 5322, 4305, 528, 1342, 2485, 3076, 3566, 2525, 1036, 1922, 2024, 279, 4798, 3660, 4647, 3053, 5428, 3249, 149, 3288, 6303, 6301, 3368, 1283, 2123, 873, 1734, 5726, 5923, 2144, 3636, 5589, 3679, 4727, 3900, 5223, 1299, 3537, 95, 1138, 6541, 834, 2873, 3351, 3415, 511, 3665, 1747, 3683, 3317, 2076, 4988, 5640, 4269, 64, 379, 6139, 3215, 237, 1733, 584, 4913, 5400, 4403, 3269, 2117, 6512, 3366, 636, 6324, 4953, 2496, 2004, 1292, 3397, 5541, 3084, 3716, 698, 3201, 681, 1448, 757, 2990, 3312, 2399, 2418, 3910, 1809, 2839, 5566, 4199, 3233, 2012, 4445, 3357, 6488, 2559, 869, 200, 1004, 2944, 1385, 4862, 3196, 4453, 5432, 2673, 4135, 2437, 2176, 5310, 261, 4414, 4579, 5226, 4197, 3456, 3777, 5779, 3953, 2318, 6034, 4976, 4946, 763, 1000, 3292, 1155, 4552, 5443, 2721, 3044, 3652, 2040, 551, 1171, 4482, 3231, 5142, 4124, 758, 4259, 1738, 4337, 1459, 5536, 5481, 2628, 4863, 5757, 1915, 2569, 5112, 6447, 3788, 5708, 5945, 1413, 4049, 4231, 594, 4940, 483, 4198, 5192, 627, 3310, 434, 4586, 2647, 1959, 6050, 4809, 614, 3721, 5548, 41, 5294, 6355, 2834, 1570, 1698, 1917, 2228, 2865, 5128, 1950, 3656, 3730, 4532, 5216, 6455, 3212, 929, 6306, 2513, 3666, 33, 125, 2507, 5797, 6272, 2099, 709, 6547, 2965, 2608, 1929, 3175, 4172, 4107, 3413, 4313, 1822, 5711, 3923, 5024, 3991, 3911, 3245, 4128, 1241, 6523, 287, 1985, 3793, 2732, 438, 288, 4846, 5275, 699, 1748, 3799, 207, 683, 4176, 1262, 1458, 2643, 1513, 964, 864, 337, 5298, 454, 2402, 2029, 4236, 937, 2613, 1834, 6060, 4531, 5967, 3915, 3090, 1365, 4451, 5261, 3540, 4376, 703, 4604, 3433, 3647, 4045, 3657, 2467, 593, 3043, 2882, 2556, 2385, 5136, 2617, 6282, 5915, 2321, 5811, 2830, 4603, 5471, 12, 6258, 3023, 4290, 3482, 210, 782, 3697, 4306, 4699, 4865, 5723, 5390, 6330, 3797, 3169, 2520, 378, 3159, 5973, 1589, 2941, 4806, 6058, 2739, 5097, 5459, 1894, 1426, 131, 697, 465, 6101, 694, 4113, 2963, 1496, 5613, 388, 1467, 6349, 2642, 5453, 3399, 217, 4738, 2082, 4036, 3428, 2329, 3441, 4797, 77, 5958, 2757, 4737, 3888, 4763, 5507, 4011, 6366, 4456, 2575, 6417, 4353, 611, 2466, 4742, 3160, 4030, 4246, 2451, 3439, 5103, 5095, 4415, 3747, 202, 1785, 4439, 6100, 6172, 3436, 5021, 3435, 457, 6467, 2654, 3395, 2925, 6017, 4815, 827, 932, 3014, 2916, 3467, 5770, 4557, 5241, 3667, 592, 1033, 2794, 2278, 135, 4795, 502, 5319, 4120, 3554, 1164, 3669, 1372, 391, 1530, 1984, 1925, 2769, 1367, 3507, 1598, 4598, 6182, 5674, 5205, 5156, 538, 2193, 2323, 2037, 4248, 91, 1750, 1080, 186, 6138, 4994, 3512, 1154, 4769, 3256, 5527, 1947, 1653, 4333, 1488, 747, 5215, 3332, 2995, 2169, 1118, 1620, 3849, 3499, 1029, 1405, 2234, 2356, 3708, 4116, 4914, 2100, 6466, 2620, 1271, 671, 2906, 4476, 6518, 4543, 1808, 1891, 5425, 806, 3029, 5229, 2059, 3941, 1787, 53, 4506, 2567, 2896, 4580, 1763, 3106, 1619, 6511, 224, 259, 484, 5176, 3907, 5772, 2939, 4458, 5273, 4301, 4553, 6245, 4163, 2257, 4351, 5686, 477, 2083, 2598, 5670, 2387, 5729, 4615, 5236, 852, 2913, 1735, 3454, 1376, 1038, 3628, 632, 3866, 6046, 2687, 1908, 6095, 2262, 1156, 3293, 2106, 3133, 1730, 5563, 6203, 6216, 3831, 3939, 5301, 5231, 6453, 6249, 5366, 6214, 939, 1286, 1893, 2027, 1380, 679, 124, 3341, 4853, 3017, 1050, 308, 3390, 6422, 1483, 3101, 4765, 507, 1685, 2855, 1613, 4624, 305, 1001, 4106, 3809, 2686, 6491, 3864, 3294, 3756, 3891, 3129, 3931, 4893, 5267, 4032, 556, 672, 1498, 5813, 1736, 1334, 6428, 1742, 6492, 3026, 3989, 1595, 5268, 4171, 4834, 5383, 5212, 5376, 2155, 2218, 4174, 6347, 3409, 5101, 349, 2233, 1293, 867, 3333, 1683, 3715, 6459, 3986, 767, 3591, 2737, 3172, 4764, 396, 1427, 3862, 3643, 606, 4691, 6131, 2926, 4009, 5783, 115, 4178, 5438, 6084, 4741, 784, 2167, 1259, 2002, 956, 2999, 1088, 3225, 5069, 2903, 191, 5925, 4736, 2188, 3182, 1749, 583, 696, 5629, 1534, 2994, 293, 3765, 2712, 5846, 5530, 4219, 624, 1084, 1827, 1298, 6522, 1608, 4667, 212, 3766, 6326, 2163, 2978, 3870, 26, 1370, 1204, 2064, 2401, 6217, 6098, 2476, 6156, 1703, 1198, 5233, 1767, 1511, 4282, 1072, 2744, 4730, 5617, 4144, 201, 1543, 2281, 5018, 2371, 6532, 2022, 3400, 3046, 749, 1651, 2534, 2682, 3921, 2449, 4064, 394, 1303, 1946, 840, 4611, 4463, 945, 2514, 3183, 3179, 94, 3995, 3547, 3661, 4323, 5478, 4705, 3356, 967, 5976, 591, 6194, 3883, 922, 3230, 3279, 1270, 1013, 695, 2101, 3929, 847, 4191, 3825, 3738, 3218, 1714, 4170, 4283, 4985, 1941, 1100, 6515, 3962, 4028, 1892, 5800, 2031, 1769, 4781, 5713, 1237, 5648, 5263, 4636, 3620, 4522, 3143, 2311, 1755, 2308, 5369, 3047, 3632, 5876, 1727, 1582, 2974, 5753, 1031, 2576, 4581, 1677, 3513, 2897, 286, 2021, 4393, 1850, 3644, 588, 4774, 5630, 668, 6415, 4131, 3966, 2487, 3189, 467, 4912, 3579, 617, 2545, 4134, 1704, 4190, 4255, 3903, 4990, 2043, 1369, 1287, 5756, 3153, 686, 3712, 2748, 534, 397, 3240, 3758, 2612, 145, 1115, 3010, 5810, 3524, 2074, 3707, 1879, 1424, 2103, 4600, 6125, 2230, 2648, 5514, 1345, 5224, 3296, 104, 5673, 4377, 3222, 3331, 4822, 2498, 4745, 1238, 1911, 5109, 2977, 5532, 3376, 776, 2619, 419, 62, 4371, 5474, 4469, 3051, 3083, 2327, 48, 5782, 1849, 2621, 2767, 1411, 301, 2754, 122, 2930, 1762, 3173, 2529, 5392, 1821, 2849, 5117, 1528, 2684, 5675, 629, 946, 6237, 2439, 2232, 673, 5808, 6343, 3192, 3573, 5148, 297, 4241, 1423, 4851, 4950, 4201, 5452, 2243, 915, 4710, 37, 702, 3324, 5147, 5487, 830, 2664, 6130, 3027, 6168, 2594, 5312, 4962, 5776, 190, 2241, 3848, 5061, 6540, 4614, 1352, 2372, 6193, 1077, 6465, 4096, 382, 1429, 2867, 3629, 3713, 2433, 2671, 5075, 1676, 3032, 546, 6426, 2547, 1110, 3096, 1256, 5567, 4821, 2036, 777, 2967, 1625, 1854, 3424, 3158, 4810, 2073, 262, 2370, 368, 3519, 3086, 4156, 4024, 2972, 3945, 1159, 1897, 2691, 4383, 4086, 3925, 6299, 1321, 2842, 1729, 6274, 2595, 2676, 4807, 3805, 3688, 5070, 5607, 5050, 274, 3334, 1288, 4498, 1249, 256, 2844, 6354, 268, 5300, 3098, 2276, 4485, 3469, 3028, 5965, 914, 3472, 3181, 1793, 6509, 4655, 1112, 1938, 2305, 1350, 4352, 2973, 375, 2300, 1976, 3140, 3394, 3733, 6173, 2490, 4870, 5513, 2614, 2382, 4564, 4783, 2583, 3940, 4686, 745, 4997, 4693, 4484, 848, 622, 1076, 3064, 3038, 3347, 5296, 2340, 6281, 4663, 57, 4572, 2602, 715, 6024, 1012, 5352, 4651, 1784, 5954, 4897, 4808, 3055, 4483, 2337, 2272, 4972, 4954, 2658, 5111, 4237, 1900, 5623, 5724, 4829, 3744, 2645, 2334, 674, 138, 3630, 390, 66, 351, 4644, 4689, 468, 5227, 4630, 258, 5504, 2533, 4085, 3445, 5357, 6536, 3139, 4338, 5243, 3590, 973, 5447, 3764, 1673, 4233, 4014, 2194, 4562, 4257, 4165, 2527, 2075, 3633, 3607, 4609, 1696, 5033, 4015, 2928, 2599, 6189, 4664, 3999, 2494, 5266, 4575, 5026, 218, 5463, 2892, 3337, 6102, 831, 4073, 3022, 6287, 1744, 5063, 1935, 2407, 3254, 1672, 6369, 197, 23, 6410, 11, 5190, 4660, 5763, 5351, 5196, 2606, 3616, 5260, 884, 3374, 358, 2034, 849, 3411, 432, 3500, 2589, 5688, 1836, 3295, 3960, 3073, 5372, 1924, 1187, 2420, 3979, 1035, 3242, 2271, 5324, 748, 6123, 4203, 2835, 4076, 5787, 536, 4232, 2119, 3304, 5941, 2238, 5672, 446, 19, 4425, 1869, 599, 3951, 4723, 4545, 4379, 357, 4316, 2248, 3874, 1739, 4293, 5971, 1116, 1447, 2531, 1667, 3346, 3314, 1606, 3932, 5538, 1547, 5450, 6464, 2970, 418, 5564, 270, 4637, 3802, 2889, 6105, 4728, 5697, 2634, 5942, 3097, 75, 6270, 1294, 269, 5754, 839, 2630, 3059, 3686, 751, 2091, 3119, 4322, 1355, 3650, 3648, 5137, 6328, 618, 1181, 3706, 6175, 2961, 5258, 6358, 1797, 3876, 6020, 2993, 1208, 5721, 6039, 2159, 2883, 5943, 2253, 6346, 5568, 2562, 1220, 1512, 4967, 515, 3735, 5807, 3438, 3739, 4423, 1269, 429, 2522, 5883, 1574, 5206, 4055, 1091, 3275, 2197, 935, 4062, 3156, 3303, 1446, 6177, 4523, 4949, 5013, 4688, 1686, 4661, 458, 3933, 3392, 2368, 5445, 1335, 3211, 2374, 5718, 1795, 1349, 2912, 4909, 5956, 2709, 5380, 2184, 797, 4901, 5395, 4583, 4668, 6411, 3170, 1185, 2391, 3278, 4409, 420, 4206, 5849, 3496, 3676, 3626, 6088, 205, 3535, 3901, 750, 3308, 6546, 3998, 3741, 3576, 1987, 3768, 3414, 3882, 1419, 5649, 1871, 2336, 2339, 5449, 1383, 966, 4054, 5510, 6022, 1616, 5185, 2280, 3007, 5235, 3681, 6279, 5551, 2826, 5565, 2468, 1872, 2703, 5470, 6018, 5788, 3377, 5703, 5405, 3340, 972, 2996, 5399, 2573, 65, 2315, 714, 3072, 260, 386, 969, 4279, 883, 4066, 2521, 2067, 2249, 5632, 1687, 4894, 6427, 3220, 4002, 3054, 2229, 6384, 2780, 181, 1631, 76, 4421, 1780, 3250, 455, 4578, 2552, 4900, 6220, 1136, 5274, 2557, 2669, 3488, 5935, 3839, 3003, 5844, 5558, 6247, 263, 4294, 1930, 1758, 554, 5960, 3889, 6142, 4363, 130, 5889, 2745, 45, 3625, 182, 3976, 2633, 2472, 765, 4892, 4215, 530, 759, 298, 4229, 304, 4772, 3958, 4718, 5202, 4315, 2154, 1028, 1991, 1609, 1260, 39, 3704, 2488, 3069, 354, 6120, 5677, 3276, 5622, 2934, 609, 5799, 3678, 2422, 5187, 2284, 4288, 1564, 4072, 5894, 4051, 2084, 2263, 151, 6094, 5777, 4542, 50, 5642, 2931, 5888, 3698, 4450, 5868, 4792, 2639, 5861, 1622, 2413, 3528, 4847, 3970, 3206, 67, 4487, 1431, 4302, 1189, 6267, 3403, 2291, 4814, 3969, 6503, 5149, 1588, 3614, 2181, 1325, 1752, 4289, 5221, 5295, 6356, 4696, 1030, 5286, 1007, 4141, 5290, 6037, 953, 2492, 5051, 6016, 1550, 3785, 156, 3462, 153, 4744, 3248, 3136, 179, 1980, 5596, 998, 4475, 4173, 5865, 4936, 3465, 6004, 403, 4544, 5608, 4606, 3291, 6104, 3144, 5191, 4175, 3529, 1713, 1025, 3008, 3150, 1815, 2526, 3066, 4394, 5240, 854, 5944, 6255, 6548, 6107, 1468, 4732, 1906, 5078, 2998, 97, 5344, 5549, 3330, 4486, 1605, 540, 4996, 5914, 6096, 1463, 4824, 5259, 5427, 1526, 188, 2417, 5628, 5151, 44, 1666, 2610, 2601, 4208, 6276, 1214, 3572, 1099, 684, 809, 2222, 1047, 3720, 5710, 930, 1407, 2509, 2247, 665, 6362, 2158, 4869, 4714, 355, 4089, 1961, 1167, 4873, 323, 1502, 1499, 2810, 6111, 3252, 4937, 4942, 4340, 4401, 1975, 5484, 2782, 2661, 687, 4012, 4194, 3309, 4245, 4324, 2820, 174, 5832, 1932, 4074, 3217, 2039, 1779, 6302, 5934, 2392, 539, 6381, 4332, 4127, 3663, 598, 5138, 4200, 2593, 860, 393, 2157, 423, 461, 1274, 4212, 1647, 2618, 3694, 716, 2369, 1261, 5778, 2751, 4488, 61, 5467, 476, 1082, 1037, 2361, 6248, 5402, 1182, 2890, 5851, 229, 2852, 2578, 2110, 4050, 4652, 3555, 2010, 4616, 2508, 5203, 154, 2895, 6419, 4278, 3005, 6344, 2198, 3214, 1602, 2954, 2924, 6044, 4746, 700, 96, 5968, 4490, 3871, 1086, 874, 6529, 4971, 2943, 3811, 4295, 2812, 5053, 693, 3426, 1005, 1532, 1669, 3094, 6006, 2797, 885, 3228, 3586, 4683, 5436, 54, 2026, 2626, 3997, 5134, 3325, 2888, 5716, 3077, 3498, 4802, 1215, 4227, 5074, 2146, 1870, 1401, 5177, 134, 5384, 5690, 4013, 2161, 6021, 2479, 2840, 2646, 1909, 3180, 1614, 938, 1363, 2068, 2777, 4331, 5791, 1907, 4068, 4440, 4770, 526]\n",
      "test ids:  [0, 1, 2, 3, 4, 5, 6, 7, 8, 78, 79, 80, 81, 82, 83, 84, 85, 86, 87, 88, 89, 90, 158, 159, 160, 161, 162, 163, 164, 165, 166, 167, 168, 169, 170, 171, 238, 239, 240, 241, 242, 243, 244, 245, 246, 247, 248, 249, 250, 251, 252, 253, 318, 319, 320, 321, 322, 324, 325, 326, 327, 328, 329, 330, 331, 332, 333, 334, 335, 398, 399, 400, 401, 402, 405, 406, 407, 408, 409, 410, 411, 412, 413, 414, 415, 416, 417, 478, 479, 480, 481, 482, 486, 487, 488, 489, 490, 491, 492, 493, 494, 495, 496, 497, 498, 499, 558, 559, 560, 561, 562, 567, 568, 569, 570, 571, 572, 573, 574, 575, 576, 577, 578, 579, 580, 638, 639, 640, 641, 642, 648, 649, 650, 651, 652, 653, 654, 655, 656, 657, 658, 659, 660, 661, 662, 718, 719, 720, 721, 722, 729, 730, 731, 732, 733, 734, 735, 736, 737, 738, 739, 740, 741, 742, 743, 744, 798, 799, 800, 801, 802, 810, 811, 812, 813, 814, 815, 816, 817, 818, 819, 820, 821, 822, 823, 824, 825, 826, 878, 879, 880, 881, 882, 892, 893, 894, 895, 896, 897, 898, 899, 900, 901, 902, 903, 904, 905, 906, 907, 908, 958, 959, 960, 961, 962, 974, 975, 976, 977, 978, 979, 980, 981, 982, 983, 984, 985, 986, 987, 988, 989, 1039, 1040, 1041, 1057, 1058, 1059, 1060, 1061, 1062, 1063, 1064, 1065, 1066, 1067, 1068, 1069, 1070, 1071, 1119, 1120, 1121, 1139, 1140, 1141, 1142, 1143, 1144, 1145, 1146, 1147, 1148, 1149, 1150, 1151, 1152, 1153, 1199, 1200, 1201, 1221, 1222, 1223, 1224, 1225, 1226, 1227, 1228, 1229, 1230, 1231, 1232, 1233, 1234, 1235, 1279, 1280, 1281, 1304, 1305, 1306, 1307, 1308, 1309, 1310, 1311, 1312, 1313, 1314, 1315, 1316, 1359, 1360, 1361, 1386, 1387, 1388, 1389, 1390, 1391, 1392, 1393, 1394, 1395, 1396, 1397, 1398, 1439, 1440, 1441, 1469, 1470, 1471, 1472, 1473, 1474, 1475, 1476, 1477, 1478, 1479, 1480, 1519, 1520, 1521, 1551, 1552, 1553, 1554, 1555, 1556, 1557, 1558, 1559, 1560, 1561, 1562, 1599, 1600, 1601, 1633, 1634, 1635, 1636, 1637, 1638, 1639, 1640, 1641, 1642, 1643, 1644, 1679, 1680, 1681, 1716, 1717, 1718, 1719, 1720, 1721, 1722, 1723, 1724, 1725, 1759, 1760, 1761, 1798, 1799, 1800, 1801, 1802, 1803, 1804, 1805, 1806, 1807, 1839, 1840, 1841, 1880, 1881, 1882, 1883, 1884, 1885, 1886, 1887, 1888, 1889, 1919, 1920, 1921, 1963, 1964, 1965, 1966, 1967, 1968, 1969, 1970, 1971, 1999, 2000, 2001, 2045, 2046, 2047, 2048, 2049, 2050, 2051, 2052, 2053, 2079, 2080, 2081, 2127, 2128, 2129, 2130, 2131, 2132, 2133, 2134, 2160, 2210, 2211, 2212, 2213, 2214, 2215, 2216, 2240, 2292, 2293, 2294, 2295, 2296, 2297, 2298, 2320, 2375, 2376, 2377, 2378, 2379, 2380, 2400, 2457, 2458, 2459, 2460, 2461, 2462, 2480, 2539, 2540, 2541, 2542, 2543, 2560, 2622, 2623, 2624, 2625, 2640, 2704, 2705, 2706, 2707, 2720, 2786, 2787, 2788, 2789, 2800, 2869, 2870, 2871, 2880, 2951, 2952, 2960, 3033, 3034, 3040, 3116, 3120, 3198, 3200, 3280, 3360, 3362, 3440, 3444, 3520, 3526, 3527, 3600, 3608, 3609, 3680, 3689, 3690, 3691, 3760, 3771, 3772, 3773, 3774, 3840, 3853, 3854, 3855, 3856, 3920, 3935, 3936, 3937, 3938, 4000, 4017, 4018, 4019, 4020, 4021, 4080, 4098, 4099, 4100, 4101, 4102, 4103, 4160, 4180, 4181, 4182, 4183, 4184, 4185, 4240, 4262, 4263, 4264, 4265, 4266, 4267, 4268, 4320, 4344, 4345, 4346, 4347, 4348, 4349, 4350, 4400, 4426, 4427, 4428, 4429, 4430, 4431, 4432, 4433, 4479, 4480, 4481, 4507, 4508, 4509, 4510, 4511, 4512, 4513, 4514, 4515, 4559, 4560, 4561, 4589, 4590, 4591, 4592, 4593, 4594, 4595, 4596, 4597, 4639, 4640, 4641, 4671, 4672, 4673, 4674, 4675, 4676, 4677, 4678, 4679, 4680, 4719, 4720, 4721, 4753, 4754, 4755, 4756, 4757, 4758, 4759, 4760, 4761, 4762, 4799, 4800, 4801, 4835, 4836, 4837, 4838, 4839, 4840, 4841, 4842, 4843, 4844, 4879, 4880, 4881, 4916, 4917, 4918, 4919, 4920, 4921, 4922, 4923, 4924, 4925, 4926, 4927, 4959, 4960, 4961, 4998, 4999, 5000, 5001, 5002, 5003, 5004, 5005, 5006, 5007, 5008, 5009, 5039, 5040, 5041, 5080, 5081, 5082, 5083, 5084, 5085, 5086, 5087, 5088, 5089, 5090, 5091, 5119, 5120, 5121, 5162, 5163, 5164, 5165, 5166, 5167, 5168, 5169, 5170, 5171, 5172, 5173, 5174, 5199, 5200, 5201, 5244, 5245, 5246, 5247, 5248, 5249, 5250, 5251, 5252, 5253, 5254, 5255, 5256, 5279, 5280, 5281, 5325, 5326, 5327, 5328, 5329, 5330, 5331, 5332, 5333, 5334, 5335, 5336, 5337, 5338, 5339, 5359, 5360, 5361, 5407, 5408, 5409, 5410, 5411, 5412, 5413, 5414, 5415, 5416, 5417, 5418, 5419, 5420, 5421, 5439, 5440, 5441, 5489, 5490, 5491, 5492, 5493, 5494, 5495, 5496, 5497, 5498, 5499, 5500, 5501, 5502, 5503, 5519, 5520, 5521, 5571, 5572, 5573, 5574, 5575, 5576, 5577, 5578, 5579, 5580, 5581, 5582, 5583, 5584, 5585, 5586, 5598, 5599, 5600, 5601, 5602, 5652, 5653, 5654, 5655, 5656, 5657, 5658, 5659, 5660, 5661, 5662, 5663, 5664, 5665, 5666, 5667, 5668, 5678, 5679, 5680, 5681, 5682, 5734, 5735, 5736, 5737, 5738, 5739, 5740, 5741, 5742, 5743, 5744, 5745, 5746, 5747, 5748, 5749, 5750, 5758, 5759, 5760, 5761, 5762, 5816, 5817, 5818, 5819, 5820, 5821, 5822, 5823, 5824, 5825, 5826, 5827, 5828, 5829, 5830, 5831, 5838, 5839, 5840, 5841, 5842, 5898, 5899, 5900, 5901, 5902, 5903, 5904, 5905, 5906, 5907, 5908, 5909, 5910, 5911, 5912, 5918, 5919, 5920, 5921, 5922, 5980, 5981, 5982, 5983, 5984, 5985, 5986, 5987, 5988, 5989, 5990, 5991, 5992, 5993, 5998, 5999, 6000, 6001, 6002, 6061, 6062, 6063, 6064, 6065, 6066, 6067, 6068, 6069, 6070, 6071, 6072, 6073, 6074, 6078, 6079, 6080, 6081, 6082, 6143, 6144, 6145, 6146, 6147, 6148, 6149, 6150, 6151, 6152, 6153, 6154, 6155, 6158, 6159, 6160, 6161, 6162, 6225, 6226, 6227, 6228, 6229, 6230, 6231, 6232, 6233, 6234, 6235, 6236, 6238, 6239, 6240, 6241, 6242, 6307, 6308, 6309, 6310, 6311, 6312, 6313, 6314, 6315, 6316, 6317, 6318, 6319, 6320, 6321, 6322, 6389, 6390, 6391, 6392, 6393, 6394, 6395, 6396, 6397, 6398, 6399, 6400, 6401, 6402, 6470, 6471, 6472, 6473, 6474, 6475, 6476, 6477, 6478, 6479, 6480, 6481, 6482, 6552, 6553, 6554, 6555, 6556, 6557, 6558, 6559, 6560]\n",
      "CPU times: user 160 ms, sys: 12 ms, total: 172 ms\n",
      "Wall time: 171 ms\n"
     ]
    }
   ],
   "source": [
    "%%time\n",
    "n_total = len(simulation.dataframe)\n",
    "n_train = len(simulation.dataframe[simulation.dataframe.type_of == \"train\"])\n",
    "n_val = len(simulation.dataframe[simulation.dataframe.type_of == \"val\"])\n",
    "n_test = len(simulation.dataframe[simulation.dataframe.type_of == \"test\"])\n",
    "n_train_hamiltonians = len(simulation.train_ids)\n",
    "n_val_hamiltonians = len(simulation.val_ids)\n",
    "n_test_hamiltonians = len(simulation.test_ids)\n",
    "n_total_hamiltonians = n_train_hamiltonians + n_val_hamiltonians + n_test_hamiltonians\n",
    "\n",
    "print(\"% train: \", n_train/n_total)\n",
    "print(\"% val: \",  n_val/n_total)\n",
    "print(\"% test: \", n_test/n_total)\n",
    "print(\"% train + val + test: \", (n_train+n_val+n_test)/n_total)\n",
    "print(\"\\n\")\n",
    "print(\"number of train hamiltonians: \", n_train_hamiltonians)\n",
    "print(\"number of val hamiltonians: \", n_val_hamiltonians)\n",
    "print(\"number of test hamiltonians: \", n_test_hamiltonians)\n",
    "print(\"total number of hamiltonians: \", n_total_hamiltonians)\n",
    "print(\"\\n\")\n",
    "print(\"train ids: \", simulation.train_ids)\n",
    "print(\"val ids: \", simulation.val_ids)\n",
    "print(\"test ids: \", simulation.test_ids)"
   ]
  },
  {
   "cell_type": "markdown",
   "metadata": {
    "papermill": {
     "duration": 0.036073,
     "end_time": "2020-07-18T04:45:45.867582",
     "exception": false,
     "start_time": "2020-07-18T04:45:45.831509",
     "status": "completed"
    },
    "tags": []
   },
   "source": [
    "#### Checking summaries"
   ]
  },
  {
   "cell_type": "code",
   "execution_count": 31,
   "metadata": {
    "execution": {
     "iopub.execute_input": "2020-07-18T04:45:45.941974Z",
     "iopub.status.busy": "2020-07-18T04:45:45.941667Z",
     "iopub.status.idle": "2020-07-18T04:45:45.960105Z",
     "shell.execute_reply": "2020-07-18T04:45:45.959790Z"
    },
    "papermill": {
     "duration": 0.056335,
     "end_time": "2020-07-18T04:45:45.960157",
     "exception": false,
     "start_time": "2020-07-18T04:45:45.903822",
     "status": "completed"
    },
    "tags": []
   },
   "outputs": [
    {
     "name": "stdout",
     "output_type": "stream",
     "text": [
      "length of ham_summary:  6561\n",
      "CPU times: user 112 µs, sys: 1 µs, total: 113 µs\n",
      "Wall time: 81.1 µs\n"
     ]
    },
    {
     "data": {
      "text/html": [
       "<div>\n",
       "<style scoped>\n",
       "    .dataframe tbody tr th:only-of-type {\n",
       "        vertical-align: middle;\n",
       "    }\n",
       "\n",
       "    .dataframe tbody tr th {\n",
       "        vertical-align: top;\n",
       "    }\n",
       "\n",
       "    .dataframe thead th {\n",
       "        text-align: right;\n",
       "    }\n",
       "</style>\n",
       "<table border=\"1\" class=\"dataframe\">\n",
       "  <thead>\n",
       "    <tr style=\"text-align: right;\">\n",
       "      <th></th>\n",
       "      <th>t1</th>\n",
       "      <th>t2</th>\n",
       "      <th>type_of</th>\n",
       "      <th>0</th>\n",
       "      <th>1</th>\n",
       "      <th>phase</th>\n",
       "      <th>pred_phase</th>\n",
       "    </tr>\n",
       "    <tr>\n",
       "      <th>id</th>\n",
       "      <th></th>\n",
       "      <th></th>\n",
       "      <th></th>\n",
       "      <th></th>\n",
       "      <th></th>\n",
       "      <th></th>\n",
       "      <th></th>\n",
       "    </tr>\n",
       "  </thead>\n",
       "  <tbody>\n",
       "    <tr>\n",
       "      <th>0</th>\n",
       "      <td>-2.0</td>\n",
       "      <td>-2.00</td>\n",
       "      <td>test</td>\n",
       "      <td>0.45</td>\n",
       "      <td>0.55</td>\n",
       "      <td>999</td>\n",
       "      <td>1</td>\n",
       "    </tr>\n",
       "    <tr>\n",
       "      <th>1</th>\n",
       "      <td>-2.0</td>\n",
       "      <td>-1.95</td>\n",
       "      <td>test</td>\n",
       "      <td>0.54</td>\n",
       "      <td>0.46</td>\n",
       "      <td>0</td>\n",
       "      <td>0</td>\n",
       "    </tr>\n",
       "    <tr>\n",
       "      <th>2</th>\n",
       "      <td>-2.0</td>\n",
       "      <td>-1.90</td>\n",
       "      <td>test</td>\n",
       "      <td>0.71</td>\n",
       "      <td>0.29</td>\n",
       "      <td>0</td>\n",
       "      <td>0</td>\n",
       "    </tr>\n",
       "    <tr>\n",
       "      <th>3</th>\n",
       "      <td>-2.0</td>\n",
       "      <td>-1.85</td>\n",
       "      <td>test</td>\n",
       "      <td>0.84</td>\n",
       "      <td>0.16</td>\n",
       "      <td>0</td>\n",
       "      <td>0</td>\n",
       "    </tr>\n",
       "    <tr>\n",
       "      <th>4</th>\n",
       "      <td>-2.0</td>\n",
       "      <td>-1.80</td>\n",
       "      <td>test</td>\n",
       "      <td>0.86</td>\n",
       "      <td>0.14</td>\n",
       "      <td>0</td>\n",
       "      <td>0</td>\n",
       "    </tr>\n",
       "    <tr>\n",
       "      <th>...</th>\n",
       "      <td>...</td>\n",
       "      <td>...</td>\n",
       "      <td>...</td>\n",
       "      <td>...</td>\n",
       "      <td>...</td>\n",
       "      <td>...</td>\n",
       "      <td>...</td>\n",
       "    </tr>\n",
       "    <tr>\n",
       "      <th>6556</th>\n",
       "      <td>2.0</td>\n",
       "      <td>1.80</td>\n",
       "      <td>test</td>\n",
       "      <td>0.88</td>\n",
       "      <td>0.12</td>\n",
       "      <td>0</td>\n",
       "      <td>0</td>\n",
       "    </tr>\n",
       "    <tr>\n",
       "      <th>6557</th>\n",
       "      <td>2.0</td>\n",
       "      <td>1.85</td>\n",
       "      <td>test</td>\n",
       "      <td>0.86</td>\n",
       "      <td>0.14</td>\n",
       "      <td>0</td>\n",
       "      <td>0</td>\n",
       "    </tr>\n",
       "    <tr>\n",
       "      <th>6558</th>\n",
       "      <td>2.0</td>\n",
       "      <td>1.90</td>\n",
       "      <td>test</td>\n",
       "      <td>0.63</td>\n",
       "      <td>0.37</td>\n",
       "      <td>0</td>\n",
       "      <td>0</td>\n",
       "    </tr>\n",
       "    <tr>\n",
       "      <th>6559</th>\n",
       "      <td>2.0</td>\n",
       "      <td>1.95</td>\n",
       "      <td>test</td>\n",
       "      <td>0.64</td>\n",
       "      <td>0.36</td>\n",
       "      <td>0</td>\n",
       "      <td>0</td>\n",
       "    </tr>\n",
       "    <tr>\n",
       "      <th>6560</th>\n",
       "      <td>2.0</td>\n",
       "      <td>2.00</td>\n",
       "      <td>test</td>\n",
       "      <td>0.44</td>\n",
       "      <td>0.56</td>\n",
       "      <td>999</td>\n",
       "      <td>1</td>\n",
       "    </tr>\n",
       "  </tbody>\n",
       "</table>\n",
       "<p>6561 rows × 7 columns</p>\n",
       "</div>"
      ],
      "text/plain": [
       "       t1    t2 type_of     0     1  phase  pred_phase\n",
       "id                                                    \n",
       "0    -2.0 -2.00    test  0.45  0.55    999           1\n",
       "1    -2.0 -1.95    test  0.54  0.46      0           0\n",
       "2    -2.0 -1.90    test  0.71  0.29      0           0\n",
       "3    -2.0 -1.85    test  0.84  0.16      0           0\n",
       "4    -2.0 -1.80    test  0.86  0.14      0           0\n",
       "...   ...   ...     ...   ...   ...    ...         ...\n",
       "6556  2.0  1.80    test  0.88  0.12      0           0\n",
       "6557  2.0  1.85    test  0.86  0.14      0           0\n",
       "6558  2.0  1.90    test  0.63  0.37      0           0\n",
       "6559  2.0  1.95    test  0.64  0.36      0           0\n",
       "6560  2.0  2.00    test  0.44  0.56    999           1\n",
       "\n",
       "[6561 rows x 7 columns]"
      ]
     },
     "execution_count": 31,
     "metadata": {},
     "output_type": "execute_result"
    }
   ],
   "source": [
    "%%time\n",
    "ham_summary = simulation.hamiltonian_summary\n",
    "print(\"length of ham_summary: \", len(ham_summary))\n",
    "ham_summary"
   ]
  },
  {
   "cell_type": "code",
   "execution_count": 32,
   "metadata": {
    "execution": {
     "iopub.execute_input": "2020-07-18T04:45:46.036565Z",
     "iopub.status.busy": "2020-07-18T04:45:46.036057Z",
     "iopub.status.idle": "2020-07-18T04:45:46.063540Z",
     "shell.execute_reply": "2020-07-18T04:45:46.063223Z"
    },
    "papermill": {
     "duration": 0.066211,
     "end_time": "2020-07-18T04:45:46.063591",
     "exception": false,
     "start_time": "2020-07-18T04:45:45.997380",
     "status": "completed"
    },
    "tags": []
   },
   "outputs": [
    {
     "data": {
      "text/html": [
       "<div>\n",
       "<style scoped>\n",
       "    .dataframe tbody tr th:only-of-type {\n",
       "        vertical-align: middle;\n",
       "    }\n",
       "\n",
       "    .dataframe tbody tr th {\n",
       "        vertical-align: top;\n",
       "    }\n",
       "\n",
       "    .dataframe thead th {\n",
       "        text-align: right;\n",
       "    }\n",
       "</style>\n",
       "<table border=\"1\" class=\"dataframe\">\n",
       "  <thead>\n",
       "    <tr style=\"text-align: right;\">\n",
       "      <th></th>\n",
       "      <th>t1</th>\n",
       "      <th>t2</th>\n",
       "      <th>0</th>\n",
       "      <th>1</th>\n",
       "      <th>phase</th>\n",
       "      <th>pred_phase</th>\n",
       "    </tr>\n",
       "  </thead>\n",
       "  <tbody>\n",
       "    <tr>\n",
       "      <th>count</th>\n",
       "      <td>6561.000000</td>\n",
       "      <td>6.561000e+03</td>\n",
       "      <td>6561.000000</td>\n",
       "      <td>6561.000000</td>\n",
       "      <td>6561.000000</td>\n",
       "      <td>6561.000000</td>\n",
       "    </tr>\n",
       "    <tr>\n",
       "      <th>mean</th>\n",
       "      <td>0.000000</td>\n",
       "      <td>-4.331917e-18</td>\n",
       "      <td>0.477607</td>\n",
       "      <td>0.522393</td>\n",
       "      <td>25.002134</td>\n",
       "      <td>0.511507</td>\n",
       "    </tr>\n",
       "    <tr>\n",
       "      <th>std</th>\n",
       "      <td>1.169134</td>\n",
       "      <td>1.169134e+00</td>\n",
       "      <td>0.447464</td>\n",
       "      <td>0.447464</td>\n",
       "      <td>154.495657</td>\n",
       "      <td>0.499906</td>\n",
       "    </tr>\n",
       "    <tr>\n",
       "      <th>min</th>\n",
       "      <td>-2.000000</td>\n",
       "      <td>-2.000000e+00</td>\n",
       "      <td>0.000000</td>\n",
       "      <td>0.000000</td>\n",
       "      <td>0.000000</td>\n",
       "      <td>0.000000</td>\n",
       "    </tr>\n",
       "    <tr>\n",
       "      <th>25%</th>\n",
       "      <td>-1.000000</td>\n",
       "      <td>-1.000000e+00</td>\n",
       "      <td>0.010000</td>\n",
       "      <td>0.050000</td>\n",
       "      <td>0.000000</td>\n",
       "      <td>0.000000</td>\n",
       "    </tr>\n",
       "    <tr>\n",
       "      <th>50%</th>\n",
       "      <td>0.000000</td>\n",
       "      <td>0.000000e+00</td>\n",
       "      <td>0.420000</td>\n",
       "      <td>0.580000</td>\n",
       "      <td>1.000000</td>\n",
       "      <td>1.000000</td>\n",
       "    </tr>\n",
       "    <tr>\n",
       "      <th>75%</th>\n",
       "      <td>1.000000</td>\n",
       "      <td>1.000000e+00</td>\n",
       "      <td>0.950000</td>\n",
       "      <td>0.990000</td>\n",
       "      <td>1.000000</td>\n",
       "      <td>1.000000</td>\n",
       "    </tr>\n",
       "    <tr>\n",
       "      <th>max</th>\n",
       "      <td>2.000000</td>\n",
       "      <td>2.000000e+00</td>\n",
       "      <td>1.000000</td>\n",
       "      <td>1.000000</td>\n",
       "      <td>999.000000</td>\n",
       "      <td>1.000000</td>\n",
       "    </tr>\n",
       "  </tbody>\n",
       "</table>\n",
       "</div>"
      ],
      "text/plain": [
       "                t1            t2            0            1        phase  \\\n",
       "count  6561.000000  6.561000e+03  6561.000000  6561.000000  6561.000000   \n",
       "mean      0.000000 -4.331917e-18     0.477607     0.522393    25.002134   \n",
       "std       1.169134  1.169134e+00     0.447464     0.447464   154.495657   \n",
       "min      -2.000000 -2.000000e+00     0.000000     0.000000     0.000000   \n",
       "25%      -1.000000 -1.000000e+00     0.010000     0.050000     0.000000   \n",
       "50%       0.000000  0.000000e+00     0.420000     0.580000     1.000000   \n",
       "75%       1.000000  1.000000e+00     0.950000     0.990000     1.000000   \n",
       "max       2.000000  2.000000e+00     1.000000     1.000000   999.000000   \n",
       "\n",
       "        pred_phase  \n",
       "count  6561.000000  \n",
       "mean      0.511507  \n",
       "std       0.499906  \n",
       "min       0.000000  \n",
       "25%       0.000000  \n",
       "50%       1.000000  \n",
       "75%       1.000000  \n",
       "max       1.000000  "
      ]
     },
     "execution_count": 32,
     "metadata": {},
     "output_type": "execute_result"
    }
   ],
   "source": [
    "ham_summary.describe()"
   ]
  },
  {
   "cell_type": "code",
   "execution_count": 33,
   "metadata": {
    "execution": {
     "iopub.execute_input": "2020-07-18T04:45:46.140988Z",
     "iopub.status.busy": "2020-07-18T04:45:46.140490Z",
     "iopub.status.idle": "2020-07-18T04:45:46.155531Z",
     "shell.execute_reply": "2020-07-18T04:45:46.155218Z"
    },
    "papermill": {
     "duration": 0.05434,
     "end_time": "2020-07-18T04:45:46.155582",
     "exception": false,
     "start_time": "2020-07-18T04:45:46.101242",
     "status": "completed"
    },
    "tags": []
   },
   "outputs": [
    {
     "name": "stdout",
     "output_type": "stream",
     "text": [
      "length of ham_summary:  656100\n"
     ]
    },
    {
     "data": {
      "text/html": [
       "<div>\n",
       "<style scoped>\n",
       "    .dataframe tbody tr th:only-of-type {\n",
       "        vertical-align: middle;\n",
       "    }\n",
       "\n",
       "    .dataframe tbody tr th {\n",
       "        vertical-align: top;\n",
       "    }\n",
       "\n",
       "    .dataframe thead th {\n",
       "        text-align: right;\n",
       "    }\n",
       "</style>\n",
       "<table border=\"1\" class=\"dataframe\">\n",
       "  <thead>\n",
       "    <tr style=\"text-align: right;\">\n",
       "      <th></th>\n",
       "      <th>id</th>\n",
       "      <th>phase</th>\n",
       "      <th>pred_phase</th>\n",
       "      <th>type_of</th>\n",
       "    </tr>\n",
       "  </thead>\n",
       "  <tbody>\n",
       "    <tr>\n",
       "      <th>0</th>\n",
       "      <td>0</td>\n",
       "      <td>999</td>\n",
       "      <td>1</td>\n",
       "      <td>test</td>\n",
       "    </tr>\n",
       "    <tr>\n",
       "      <th>1</th>\n",
       "      <td>0</td>\n",
       "      <td>999</td>\n",
       "      <td>1</td>\n",
       "      <td>test</td>\n",
       "    </tr>\n",
       "    <tr>\n",
       "      <th>2</th>\n",
       "      <td>0</td>\n",
       "      <td>999</td>\n",
       "      <td>1</td>\n",
       "      <td>test</td>\n",
       "    </tr>\n",
       "    <tr>\n",
       "      <th>3</th>\n",
       "      <td>0</td>\n",
       "      <td>999</td>\n",
       "      <td>1</td>\n",
       "      <td>test</td>\n",
       "    </tr>\n",
       "    <tr>\n",
       "      <th>4</th>\n",
       "      <td>0</td>\n",
       "      <td>999</td>\n",
       "      <td>0</td>\n",
       "      <td>test</td>\n",
       "    </tr>\n",
       "    <tr>\n",
       "      <th>...</th>\n",
       "      <td>...</td>\n",
       "      <td>...</td>\n",
       "      <td>...</td>\n",
       "      <td>...</td>\n",
       "    </tr>\n",
       "    <tr>\n",
       "      <th>656095</th>\n",
       "      <td>6560</td>\n",
       "      <td>999</td>\n",
       "      <td>1</td>\n",
       "      <td>test</td>\n",
       "    </tr>\n",
       "    <tr>\n",
       "      <th>656096</th>\n",
       "      <td>6560</td>\n",
       "      <td>999</td>\n",
       "      <td>0</td>\n",
       "      <td>test</td>\n",
       "    </tr>\n",
       "    <tr>\n",
       "      <th>656097</th>\n",
       "      <td>6560</td>\n",
       "      <td>999</td>\n",
       "      <td>0</td>\n",
       "      <td>test</td>\n",
       "    </tr>\n",
       "    <tr>\n",
       "      <th>656098</th>\n",
       "      <td>6560</td>\n",
       "      <td>999</td>\n",
       "      <td>1</td>\n",
       "      <td>test</td>\n",
       "    </tr>\n",
       "    <tr>\n",
       "      <th>656099</th>\n",
       "      <td>6560</td>\n",
       "      <td>999</td>\n",
       "      <td>0</td>\n",
       "      <td>test</td>\n",
       "    </tr>\n",
       "  </tbody>\n",
       "</table>\n",
       "<p>656100 rows × 4 columns</p>\n",
       "</div>"
      ],
      "text/plain": [
       "          id  phase  pred_phase type_of\n",
       "0          0    999           1    test\n",
       "1          0    999           1    test\n",
       "2          0    999           1    test\n",
       "3          0    999           1    test\n",
       "4          0    999           0    test\n",
       "...      ...    ...         ...     ...\n",
       "656095  6560    999           1    test\n",
       "656096  6560    999           0    test\n",
       "656097  6560    999           0    test\n",
       "656098  6560    999           1    test\n",
       "656099  6560    999           0    test\n",
       "\n",
       "[656100 rows x 4 columns]"
      ]
     },
     "execution_count": 33,
     "metadata": {},
     "output_type": "execute_result"
    }
   ],
   "source": [
    "eigen_summary = simulation.eigenvector_summary\n",
    "print(\"length of ham_summary: \", len(eigen_summary))\n",
    "eigen_summary"
   ]
  },
  {
   "cell_type": "markdown",
   "metadata": {
    "papermill": {
     "duration": 0.036833,
     "end_time": "2020-07-18T04:45:46.229529",
     "exception": false,
     "start_time": "2020-07-18T04:45:46.192696",
     "status": "completed"
    },
    "tags": []
   },
   "source": [
    "#### Checking accuracies"
   ]
  },
  {
   "cell_type": "code",
   "execution_count": 34,
   "metadata": {
    "execution": {
     "iopub.execute_input": "2020-07-18T04:45:46.306883Z",
     "iopub.status.busy": "2020-07-18T04:45:46.306577Z",
     "iopub.status.idle": "2020-07-18T04:45:46.316911Z",
     "shell.execute_reply": "2020-07-18T04:45:46.316640Z"
    },
    "papermill": {
     "duration": 0.049618,
     "end_time": "2020-07-18T04:45:46.316965",
     "exception": false,
     "start_time": "2020-07-18T04:45:46.267347",
     "status": "completed"
    },
    "tags": []
   },
   "outputs": [
    {
     "data": {
      "text/plain": [
       "{'eigenvector_train': 0.9823741007194244,\n",
       " 'eigenvector_val': 0.964478,\n",
       " 'eigenvector_test': 0.8321445497630332,\n",
       " 'hamiltonian_train': 1.0,\n",
       " 'hamiltonian_val': 1.0,\n",
       " 'hamiltonian_test': 0.9976303317535545}"
      ]
     },
     "execution_count": 34,
     "metadata": {},
     "output_type": "execute_result"
    }
   ],
   "source": [
    "simulation.accuracy"
   ]
  },
  {
   "cell_type": "markdown",
   "metadata": {
    "papermill": {
     "duration": 0.037187,
     "end_time": "2020-07-18T04:45:46.391528",
     "exception": false,
     "start_time": "2020-07-18T04:45:46.354341",
     "status": "completed"
    },
    "tags": []
   },
   "source": [
    "#### Checking data stored in  memory"
   ]
  },
  {
   "cell_type": "code",
   "execution_count": 35,
   "metadata": {
    "execution": {
     "iopub.execute_input": "2020-07-18T04:45:46.469582Z",
     "iopub.status.busy": "2020-07-18T04:45:46.469269Z",
     "iopub.status.idle": "2020-07-18T04:45:46.479549Z",
     "shell.execute_reply": "2020-07-18T04:45:46.479231Z"
    },
    "papermill": {
     "duration": 0.049873,
     "end_time": "2020-07-18T04:45:46.479600",
     "exception": false,
     "start_time": "2020-07-18T04:45:46.429727",
     "status": "completed"
    },
    "tags": []
   },
   "outputs": [
    {
     "data": {
      "text/plain": [
       "[]"
      ]
     },
     "execution_count": 35,
     "metadata": {},
     "output_type": "execute_result"
    }
   ],
   "source": [
    "ham_summary_list = simulation.hamiltonian_summary_list\n",
    "ham_summary_list"
   ]
  },
  {
   "cell_type": "code",
   "execution_count": 36,
   "metadata": {
    "execution": {
     "iopub.execute_input": "2020-07-18T04:45:46.557673Z",
     "iopub.status.busy": "2020-07-18T04:45:46.557363Z",
     "iopub.status.idle": "2020-07-18T04:45:46.567737Z",
     "shell.execute_reply": "2020-07-18T04:45:46.567420Z"
    },
    "papermill": {
     "duration": 0.05001,
     "end_time": "2020-07-18T04:45:46.567787",
     "exception": false,
     "start_time": "2020-07-18T04:45:46.517777",
     "status": "completed"
    },
    "tags": []
   },
   "outputs": [
    {
     "data": {
      "text/plain": [
       "[]"
      ]
     },
     "execution_count": 36,
     "metadata": {},
     "output_type": "execute_result"
    }
   ],
   "source": [
    "eigen_summary_list = simulation.eigenvector_summary_list\n",
    "eigen_summary_list"
   ]
  },
  {
   "cell_type": "code",
   "execution_count": 37,
   "metadata": {
    "execution": {
     "iopub.execute_input": "2020-07-18T04:45:46.648244Z",
     "iopub.status.busy": "2020-07-18T04:45:46.647925Z",
     "iopub.status.idle": "2020-07-18T04:45:46.659727Z",
     "shell.execute_reply": "2020-07-18T04:45:46.659407Z"
    },
    "papermill": {
     "duration": 0.053005,
     "end_time": "2020-07-18T04:45:46.659778",
     "exception": false,
     "start_time": "2020-07-18T04:45:46.606773",
     "status": "completed"
    },
    "tags": []
   },
   "outputs": [
    {
     "data": {
      "text/plain": [
       "{'eigenvector_train': [],\n",
       " 'eigenvector_val': [],\n",
       " 'eigenvector_test': [],\n",
       " 'hamiltonian_train': [],\n",
       " 'hamiltonian_val': [],\n",
       " 'hamiltonian_test': []}"
      ]
     },
     "execution_count": 37,
     "metadata": {},
     "output_type": "execute_result"
    }
   ],
   "source": [
    "accuracy_list = simulation.accuracy_list\n",
    "accuracy_list"
   ]
  },
  {
   "cell_type": "code",
   "execution_count": null,
   "metadata": {
    "papermill": {
     "duration": 0.037916,
     "end_time": "2020-07-18T04:45:46.735515",
     "exception": false,
     "start_time": "2020-07-18T04:45:46.697599",
     "status": "completed"
    },
    "tags": []
   },
   "outputs": [],
   "source": []
  },
  {
   "cell_type": "code",
   "execution_count": null,
   "metadata": {
    "papermill": {
     "duration": 0.040227,
     "end_time": "2020-07-18T04:45:46.814869",
     "exception": false,
     "start_time": "2020-07-18T04:45:46.774642",
     "status": "completed"
    },
    "tags": []
   },
   "outputs": [],
   "source": []
  },
  {
   "cell_type": "code",
   "execution_count": 38,
   "metadata": {
    "execution": {
     "iopub.execute_input": "2020-07-18T04:45:46.894764Z",
     "iopub.status.busy": "2020-07-18T04:45:46.894454Z",
     "iopub.status.idle": "2020-07-18T04:45:46.904015Z",
     "shell.execute_reply": "2020-07-18T04:45:46.904279Z"
    },
    "papermill": {
     "duration": 0.05139,
     "end_time": "2020-07-18T04:45:46.904349",
     "exception": false,
     "start_time": "2020-07-18T04:45:46.852959",
     "status": "completed"
    },
    "tags": []
   },
   "outputs": [],
   "source": [
    "#simulation.fourier_matrix"
   ]
  },
  {
   "cell_type": "code",
   "execution_count": 39,
   "metadata": {
    "execution": {
     "iopub.execute_input": "2020-07-18T04:45:46.986136Z",
     "iopub.status.busy": "2020-07-18T04:45:46.985819Z",
     "iopub.status.idle": "2020-07-18T04:45:46.995505Z",
     "shell.execute_reply": "2020-07-18T04:45:46.995174Z"
    },
    "papermill": {
     "duration": 0.05191,
     "end_time": "2020-07-18T04:45:46.995559",
     "exception": false,
     "start_time": "2020-07-18T04:45:46.943649",
     "status": "completed"
    },
    "tags": []
   },
   "outputs": [],
   "source": [
    "#simulation.fourier_matrix.shape"
   ]
  },
  {
   "cell_type": "code",
   "execution_count": 40,
   "metadata": {
    "execution": {
     "iopub.execute_input": "2020-07-18T04:45:47.073589Z",
     "iopub.status.busy": "2020-07-18T04:45:47.073275Z",
     "iopub.status.idle": "2020-07-18T04:45:47.082779Z",
     "shell.execute_reply": "2020-07-18T04:45:47.083079Z"
    },
    "papermill": {
     "duration": 0.049571,
     "end_time": "2020-07-18T04:45:47.083144",
     "exception": false,
     "start_time": "2020-07-18T04:45:47.033573",
     "status": "completed"
    },
    "tags": []
   },
   "outputs": [],
   "source": [
    "#simulation.fourier_matrix[:,0]"
   ]
  },
  {
   "cell_type": "code",
   "execution_count": 41,
   "metadata": {
    "execution": {
     "iopub.execute_input": "2020-07-18T04:45:47.166849Z",
     "iopub.status.busy": "2020-07-18T04:45:47.166539Z",
     "iopub.status.idle": "2020-07-18T04:45:47.176107Z",
     "shell.execute_reply": "2020-07-18T04:45:47.175785Z"
    },
    "papermill": {
     "duration": 0.053715,
     "end_time": "2020-07-18T04:45:47.176159",
     "exception": false,
     "start_time": "2020-07-18T04:45:47.122444",
     "status": "completed"
    },
    "tags": []
   },
   "outputs": [],
   "source": [
    "#simulation.fourier_matrix[:,1]"
   ]
  },
  {
   "cell_type": "code",
   "execution_count": 42,
   "metadata": {
    "execution": {
     "iopub.execute_input": "2020-07-18T04:45:47.254633Z",
     "iopub.status.busy": "2020-07-18T04:45:47.254318Z",
     "iopub.status.idle": "2020-07-18T04:45:47.263860Z",
     "shell.execute_reply": "2020-07-18T04:45:47.263538Z"
    },
    "papermill": {
     "duration": 0.049509,
     "end_time": "2020-07-18T04:45:47.263911",
     "exception": false,
     "start_time": "2020-07-18T04:45:47.214402",
     "status": "completed"
    },
    "tags": []
   },
   "outputs": [],
   "source": [
    "#np.exp(-1j*2*np.pi*3/100)"
   ]
  },
  {
   "cell_type": "code",
   "execution_count": 43,
   "metadata": {
    "execution": {
     "iopub.execute_input": "2020-07-18T04:45:47.347081Z",
     "iopub.status.busy": "2020-07-18T04:45:47.346759Z",
     "iopub.status.idle": "2020-07-18T04:45:47.356004Z",
     "shell.execute_reply": "2020-07-18T04:45:47.356309Z"
    },
    "papermill": {
     "duration": 0.053422,
     "end_time": "2020-07-18T04:45:47.356374",
     "exception": false,
     "start_time": "2020-07-18T04:45:47.302952",
     "status": "completed"
    },
    "tags": []
   },
   "outputs": [],
   "source": [
    "#for i in range(1,50):\n",
    "#    print(\"\\n\")\n",
    "#    print(i)\n",
    "#    print(np.sum((np.real(simulation.fourier_matrix[:,i]) - np.real(simulation.fourier_matrix[:,-i]))**2))\n",
    "#    print(np.sum((np.imag(simulation.fourier_matrix[:,i])+ np.imag(simulation.fourier_matrix[:,-i]))**2))"
   ]
  },
  {
   "cell_type": "code",
   "execution_count": 44,
   "metadata": {
    "execution": {
     "iopub.execute_input": "2020-07-18T04:45:47.434809Z",
     "iopub.status.busy": "2020-07-18T04:45:47.434501Z",
     "iopub.status.idle": "2020-07-18T04:45:47.452050Z",
     "shell.execute_reply": "2020-07-18T04:45:47.452356Z"
    },
    "papermill": {
     "duration": 0.057792,
     "end_time": "2020-07-18T04:45:47.452427",
     "exception": false,
     "start_time": "2020-07-18T04:45:47.394635",
     "status": "completed"
    },
    "tags": []
   },
   "outputs": [],
   "source": [
    "#print(simulation.fourier_matrix[:,0])"
   ]
  },
  {
   "cell_type": "code",
   "execution_count": 45,
   "metadata": {
    "execution": {
     "iopub.execute_input": "2020-07-18T04:45:47.537176Z",
     "iopub.status.busy": "2020-07-18T04:45:47.536865Z",
     "iopub.status.idle": "2020-07-18T04:45:47.546316Z",
     "shell.execute_reply": "2020-07-18T04:45:47.545992Z"
    },
    "papermill": {
     "duration": 0.054729,
     "end_time": "2020-07-18T04:45:47.546369",
     "exception": false,
     "start_time": "2020-07-18T04:45:47.491640",
     "status": "completed"
    },
    "tags": []
   },
   "outputs": [],
   "source": [
    "#print(simulation.fourier_matrix[:,50])"
   ]
  },
  {
   "cell_type": "code",
   "execution_count": null,
   "metadata": {
    "papermill": {
     "duration": 0.03821,
     "end_time": "2020-07-18T04:45:47.622915",
     "exception": false,
     "start_time": "2020-07-18T04:45:47.584705",
     "status": "completed"
    },
    "tags": []
   },
   "outputs": [],
   "source": []
  }
 ],
 "metadata": {
  "celltoolbar": "Tags",
  "kernelspec": {
   "display_name": "ml_top_phases",
   "language": "python",
   "name": "ml_top_phases"
  },
  "language_info": {
   "codemirror_mode": {
    "name": "ipython",
    "version": 3
   },
   "file_extension": ".py",
   "mimetype": "text/x-python",
   "name": "python",
   "nbconvert_exporter": "python",
   "pygments_lexer": "ipython3",
   "version": "3.6.10"
  },
  "papermill": {
   "duration": 968.397798,
   "end_time": "2020-07-18T04:45:47.771015",
   "environment_variables": {},
   "exception": null,
   "input_path": "0_simulation_template.ipynb",
   "output_path": "zzz_ssh1_real_space_all_sites_simulation_notebook.ipynb",
   "parameters": {
    "allowed_windings": [
     0,
     1
    ],
    "csv_path": "/home/rio/ssh_csvs/ssh1/periodic_100_6561.csv",
    "features_to_use": null,
    "fit_params": null,
    "fourier_features_to_use": null,
    "fourier_fillna": null,
    "fourier_mode": null,
    "fourier_normalize": null,
    "fourier_real": null,
    "model_kw": {
     "criterion": "entropy"
    },
    "model_name": "DecisionTreeClassifier",
    "n_experiments": 100,
    "pred_params": null,
    "random_features": false,
    "random_state": 1010,
    "save_accuracy": true,
    "save_eigenvector": true,
    "save_hamiltonian": true,
    "save_models": true,
    "shuffle_features": false,
    "shuffle_rows": true,
    "simulation_dir": "/home/rio/ssh_simulations/ssh1/periodic_100_6561/real_space_all_sites",
    "start_n": 0,
    "store_in_lists": false,
    "val_split": 0.9
   },
   "start_time": "2020-07-18T04:29:39.373217",
   "version": "2.1.0"
  }
 },
 "nbformat": 4,
 "nbformat_minor": 2
}