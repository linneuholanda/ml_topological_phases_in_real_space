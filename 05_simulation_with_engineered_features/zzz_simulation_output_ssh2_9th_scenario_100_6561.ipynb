{
 "cells": [
  {
   "cell_type": "markdown",
   "metadata": {
    "papermill": {
     "duration": 0.05347,
     "end_time": "2020-07-09T08:15:43.493718",
     "exception": false,
     "start_time": "2020-07-09T08:15:43.440248",
     "status": "completed"
    },
    "tags": []
   },
   "source": [
    "# Simulation template \n",
    "\n",
    "In this notebook we run the machine learning analysis of topological phase transitions occurring  in both nearest-neighbours SSH models (ssh1) and second neighbours models (ssh2) as decribed in the paper [Machine learning topological phases in real space](https://arxiv.org/abs/1901.01963). Here the simulation is run with features generated from fourier components in the first scenario. This scenario is characterized by using only the EVEN wavevector space eigenmodes, computed from ALL real space components."
   ]
  },
  {
   "cell_type": "markdown",
   "metadata": {
    "papermill": {
     "duration": 0.015994,
     "end_time": "2020-07-09T08:15:43.529003",
     "exception": false,
     "start_time": "2020-07-09T08:15:43.513009",
     "status": "completed"
    },
    "tags": []
   },
   "source": [
    "## Defining parameters"
   ]
  },
  {
   "cell_type": "code",
   "execution_count": 1,
   "metadata": {
    "execution": {
     "iopub.execute_input": "2020-07-09T08:15:43.563794Z",
     "iopub.status.busy": "2020-07-09T08:15:43.562932Z",
     "iopub.status.idle": "2020-07-09T08:15:44.142930Z",
     "shell.execute_reply": "2020-07-09T08:15:44.142603Z"
    },
    "papermill": {
     "duration": 0.597515,
     "end_time": "2020-07-09T08:15:44.142985",
     "exception": false,
     "start_time": "2020-07-09T08:15:43.545470",
     "status": "completed"
    },
    "tags": []
   },
   "outputs": [
    {
     "name": "stdout",
     "output_type": "stream",
     "text": [
      "CPU times: user 723 ms, sys: 296 ms, total: 1.02 s\n",
      "Wall time: 573 ms\n"
     ]
    }
   ],
   "source": [
    "%%time\n",
    "%load_ext autoreload\n",
    "%autoreload 2\n",
    "from simulation import *"
   ]
  },
  {
   "cell_type": "code",
   "execution_count": 2,
   "metadata": {
    "execution": {
     "iopub.execute_input": "2020-07-09T08:15:44.177041Z",
     "iopub.status.busy": "2020-07-09T08:15:44.176715Z",
     "iopub.status.idle": "2020-07-09T08:15:44.187292Z",
     "shell.execute_reply": "2020-07-09T08:15:44.187597Z"
    },
    "papermill": {
     "duration": 0.028391,
     "end_time": "2020-07-09T08:15:44.187661",
     "exception": false,
     "start_time": "2020-07-09T08:15:44.159270",
     "status": "completed"
    },
    "tags": [
     "parameters"
    ]
   },
   "outputs": [
    {
     "name": "stdout",
     "output_type": "stream",
     "text": [
      "CPU times: user 2 µs, sys: 1 µs, total: 3 µs\n",
      "Wall time: 4.77 µs\n"
     ]
    }
   ],
   "source": [
    "%%time\n",
    "### Dataset and simulation parameters\n",
    "#csv_path = SSH2_PERIODIC_100_6561_CSV \n",
    "csv_path = SSH1_PERIODIC_100_6561_CSV \n",
    "model_name = \"DecisionTreeClassifier\"\n",
    "model_kw = {\"criterion\":\"entropy\"}\n",
    "allowed_windings = [0,1]\n",
    "#allowed_windings = [-1,0,1,2]\n",
    "simulation_dir = SSH1_PERIODIC_1ST_SCENARIO_100_6561_SIMULATION_DIR\n",
    "#simulation_dir = SSH2_PERIODIC_ENGINEERED_100_6561_SIMULATION_DIR\n",
    "val_split = 0.9  \n",
    "features_to_use = None\n",
    "shuffle_features = False\n",
    "random_state = 763\n",
    "\n",
    "### Fourier features\n",
    "fourier_mode = \"dft\"\n",
    "fourier_features_to_use = None\n",
    "fourier_real = \"real\"\n",
    "fourier_normalize = True\n",
    "fourier_fillna = False\n",
    "\n",
    "### Running a simulation\n",
    "n_experiments = 5\n",
    "start_n = 0\n",
    "fit_params = None\n",
    "#mode=mode\n",
    "shuffle_rows = True\n",
    "pred_params = None\n",
    "random_features = False\n",
    "######### DON'T SET THIS TO TRUE UNLESS YOUR DATASET IS SMALL!! WILL FLOOD YOUR MEMORY!!!\n",
    "store_in_lists = False   \n",
    "########## BELOW ARE THE PARAMETERS THAT CONTROL WHAT WILL BE SAVED\n",
    "save_eigenvector=True\n",
    "save_hamiltonian=True \n",
    "save_accuracy=True \n",
    "save_models=True"
   ]
  },
  {
   "cell_type": "code",
   "execution_count": 3,
   "metadata": {
    "execution": {
     "iopub.execute_input": "2020-07-09T08:15:44.221318Z",
     "iopub.status.busy": "2020-07-09T08:15:44.219830Z",
     "iopub.status.idle": "2020-07-09T08:15:44.335670Z",
     "shell.execute_reply": "2020-07-09T08:15:44.337382Z"
    },
    "papermill": {
     "duration": 0.134706,
     "end_time": "2020-07-09T08:15:44.337682",
     "exception": false,
     "start_time": "2020-07-09T08:15:44.202976",
     "status": "completed"
    },
    "tags": [
     "injected-parameters"
    ]
   },
   "outputs": [],
   "source": [
    "# Parameters\n",
    "model_kw = {\"criterion\": \"entropy\", \"n_estimators\": 25, \"n_jobs\": -1}\n",
    "allowed_windings = [-1, 0, 1, 2]\n",
    "val_split = 0.5\n",
    "features_to_use = [0, 1, 2, 3, 4, 5]\n",
    "shuffle_features = False\n",
    "n_experiments = 5\n",
    "start_n = 0\n",
    "fit_params = None\n",
    "shuffle_rows = True\n",
    "pred_params = None\n",
    "random_features = False\n",
    "store_in_lists = False\n",
    "save_eigenvector = True\n",
    "save_hamiltonian = True\n",
    "save_accuracy = True\n",
    "save_models = True\n",
    "csv_path = \"/home/rio/ssh_csvs/ssh2/periodic_100_6561.csv\"\n",
    "model_name = \"RandomForestClassifier\"\n",
    "simulation_dir = \"/home/rio/ssh_simulations/ssh2/periodic_9th_scenario_100_6561\"\n",
    "random_state = 34896\n",
    "fourier_features_to_use = [0, 1, 2, 3, 4, 5]\n",
    "fourier_mode = \"dct\"\n",
    "fourier_real = None\n",
    "fourier_normalize = False\n",
    "fourier_fillna = False\n",
    "normalize = False\n",
    "fillna = False\n"
   ]
  },
  {
   "cell_type": "code",
   "execution_count": 4,
   "metadata": {
    "execution": {
     "iopub.execute_input": "2020-07-09T08:15:44.411371Z",
     "iopub.status.busy": "2020-07-09T08:15:44.410764Z",
     "iopub.status.idle": "2020-07-09T08:15:49.933981Z",
     "shell.execute_reply": "2020-07-09T08:15:49.933706Z"
    },
    "papermill": {
     "duration": 5.543376,
     "end_time": "2020-07-09T08:15:49.934033",
     "exception": false,
     "start_time": "2020-07-09T08:15:44.390657",
     "status": "completed"
    },
    "tags": []
   },
   "outputs": [
    {
     "name": "stdout",
     "output_type": "stream",
     "text": [
      "Info on all data: \n",
      "\n",
      "<class 'pandas.core.frame.DataFrame'>\n",
      "Int64Index: 656100 entries, 0 to 656099\n",
      "Columns: 108 entries, id to feat99\n",
      "dtypes: float64(103), int32(3), object(2)\n",
      "memory usage: 538.1+ MB\n",
      "CPU times: user 5.49 s, sys: 480 ms, total: 5.97 s\n",
      "Wall time: 5.5 s\n"
     ]
    },
    {
     "data": {
      "text/html": [
       "<div>\n",
       "<style scoped>\n",
       "    .dataframe tbody tr th:only-of-type {\n",
       "        vertical-align: middle;\n",
       "    }\n",
       "\n",
       "    .dataframe tbody tr th {\n",
       "        vertical-align: top;\n",
       "    }\n",
       "\n",
       "    .dataframe thead th {\n",
       "        text-align: right;\n",
       "    }\n",
       "</style>\n",
       "<table border=\"1\" class=\"dataframe\">\n",
       "  <thead>\n",
       "    <tr style=\"text-align: right;\">\n",
       "      <th></th>\n",
       "      <th>id</th>\n",
       "      <th>path</th>\n",
       "      <th>t1</th>\n",
       "      <th>t2</th>\n",
       "      <th>winding</th>\n",
       "      <th>phase</th>\n",
       "      <th>pred_phase</th>\n",
       "      <th>type_of</th>\n",
       "      <th>feat0</th>\n",
       "      <th>feat1</th>\n",
       "      <th>...</th>\n",
       "      <th>feat90</th>\n",
       "      <th>feat91</th>\n",
       "      <th>feat92</th>\n",
       "      <th>feat93</th>\n",
       "      <th>feat94</th>\n",
       "      <th>feat95</th>\n",
       "      <th>feat96</th>\n",
       "      <th>feat97</th>\n",
       "      <th>feat98</th>\n",
       "      <th>feat99</th>\n",
       "    </tr>\n",
       "  </thead>\n",
       "  <tbody>\n",
       "    <tr>\n",
       "      <th>0</th>\n",
       "      <td>0</td>\n",
       "      <td>H_-2_-2_0.501338.dat</td>\n",
       "      <td>-2.0</td>\n",
       "      <td>-2.0</td>\n",
       "      <td>0.501338</td>\n",
       "      <td>999</td>\n",
       "      <td>666</td>\n",
       "      <td>test</td>\n",
       "      <td>-0.130965</td>\n",
       "      <td>0.301130</td>\n",
       "      <td>...</td>\n",
       "      <td>-0.080279</td>\n",
       "      <td>-0.115687</td>\n",
       "      <td>-0.174988</td>\n",
       "      <td>0.245064</td>\n",
       "      <td>0.319763</td>\n",
       "      <td>-0.059082</td>\n",
       "      <td>-0.000556</td>\n",
       "      <td>-0.245133</td>\n",
       "      <td>-0.301130</td>\n",
       "      <td>0.130965</td>\n",
       "    </tr>\n",
       "    <tr>\n",
       "      <th>1</th>\n",
       "      <td>0</td>\n",
       "      <td>H_-2_-2_0.501338.dat</td>\n",
       "      <td>-2.0</td>\n",
       "      <td>-2.0</td>\n",
       "      <td>0.501338</td>\n",
       "      <td>999</td>\n",
       "      <td>666</td>\n",
       "      <td>test</td>\n",
       "      <td>-0.130965</td>\n",
       "      <td>-0.301130</td>\n",
       "      <td>...</td>\n",
       "      <td>-0.080279</td>\n",
       "      <td>0.115687</td>\n",
       "      <td>-0.174988</td>\n",
       "      <td>-0.245064</td>\n",
       "      <td>0.319763</td>\n",
       "      <td>0.059082</td>\n",
       "      <td>-0.000556</td>\n",
       "      <td>0.245133</td>\n",
       "      <td>-0.301130</td>\n",
       "      <td>-0.130965</td>\n",
       "    </tr>\n",
       "    <tr>\n",
       "      <th>2</th>\n",
       "      <td>0</td>\n",
       "      <td>H_-2_-2_0.501338.dat</td>\n",
       "      <td>-2.0</td>\n",
       "      <td>-2.0</td>\n",
       "      <td>0.501338</td>\n",
       "      <td>999</td>\n",
       "      <td>666</td>\n",
       "      <td>test</td>\n",
       "      <td>-0.148414</td>\n",
       "      <td>-0.042467</td>\n",
       "      <td>...</td>\n",
       "      <td>0.185442</td>\n",
       "      <td>-0.080620</td>\n",
       "      <td>-0.066211</td>\n",
       "      <td>-0.121339</td>\n",
       "      <td>-0.151700</td>\n",
       "      <td>0.192513</td>\n",
       "      <td>0.191642</td>\n",
       "      <td>-0.050956</td>\n",
       "      <td>-0.042467</td>\n",
       "      <td>-0.148414</td>\n",
       "    </tr>\n",
       "    <tr>\n",
       "      <th>3</th>\n",
       "      <td>0</td>\n",
       "      <td>H_-2_-2_0.501338.dat</td>\n",
       "      <td>-2.0</td>\n",
       "      <td>-2.0</td>\n",
       "      <td>0.501338</td>\n",
       "      <td>999</td>\n",
       "      <td>666</td>\n",
       "      <td>test</td>\n",
       "      <td>-0.069630</td>\n",
       "      <td>-0.026147</td>\n",
       "      <td>...</td>\n",
       "      <td>0.102009</td>\n",
       "      <td>-0.100671</td>\n",
       "      <td>-0.081002</td>\n",
       "      <td>-0.020715</td>\n",
       "      <td>-0.058717</td>\n",
       "      <td>0.115834</td>\n",
       "      <td>0.118274</td>\n",
       "      <td>-0.054666</td>\n",
       "      <td>-0.026147</td>\n",
       "      <td>-0.069630</td>\n",
       "    </tr>\n",
       "    <tr>\n",
       "      <th>4</th>\n",
       "      <td>0</td>\n",
       "      <td>H_-2_-2_0.501338.dat</td>\n",
       "      <td>-2.0</td>\n",
       "      <td>-2.0</td>\n",
       "      <td>0.501338</td>\n",
       "      <td>999</td>\n",
       "      <td>666</td>\n",
       "      <td>test</td>\n",
       "      <td>0.010206</td>\n",
       "      <td>-0.014625</td>\n",
       "      <td>...</td>\n",
       "      <td>0.047555</td>\n",
       "      <td>-0.041368</td>\n",
       "      <td>-0.018852</td>\n",
       "      <td>-0.017673</td>\n",
       "      <td>-0.023377</td>\n",
       "      <td>0.031447</td>\n",
       "      <td>0.010280</td>\n",
       "      <td>0.000925</td>\n",
       "      <td>0.014625</td>\n",
       "      <td>-0.010206</td>\n",
       "    </tr>\n",
       "  </tbody>\n",
       "</table>\n",
       "<p>5 rows × 108 columns</p>\n",
       "</div>"
      ],
      "text/plain": [
       "   id                  path   t1   t2   winding  phase  pred_phase type_of  \\\n",
       "0   0  H_-2_-2_0.501338.dat -2.0 -2.0  0.501338    999         666    test   \n",
       "1   0  H_-2_-2_0.501338.dat -2.0 -2.0  0.501338    999         666    test   \n",
       "2   0  H_-2_-2_0.501338.dat -2.0 -2.0  0.501338    999         666    test   \n",
       "3   0  H_-2_-2_0.501338.dat -2.0 -2.0  0.501338    999         666    test   \n",
       "4   0  H_-2_-2_0.501338.dat -2.0 -2.0  0.501338    999         666    test   \n",
       "\n",
       "      feat0     feat1  ...    feat90    feat91    feat92    feat93    feat94  \\\n",
       "0 -0.130965  0.301130  ... -0.080279 -0.115687 -0.174988  0.245064  0.319763   \n",
       "1 -0.130965 -0.301130  ... -0.080279  0.115687 -0.174988 -0.245064  0.319763   \n",
       "2 -0.148414 -0.042467  ...  0.185442 -0.080620 -0.066211 -0.121339 -0.151700   \n",
       "3 -0.069630 -0.026147  ...  0.102009 -0.100671 -0.081002 -0.020715 -0.058717   \n",
       "4  0.010206 -0.014625  ...  0.047555 -0.041368 -0.018852 -0.017673 -0.023377   \n",
       "\n",
       "     feat95    feat96    feat97    feat98    feat99  \n",
       "0 -0.059082 -0.000556 -0.245133 -0.301130  0.130965  \n",
       "1  0.059082 -0.000556  0.245133 -0.301130 -0.130965  \n",
       "2  0.192513  0.191642 -0.050956 -0.042467 -0.148414  \n",
       "3  0.115834  0.118274 -0.054666 -0.026147 -0.069630  \n",
       "4  0.031447  0.010280  0.000925  0.014625 -0.010206  \n",
       "\n",
       "[5 rows x 108 columns]"
      ]
     },
     "execution_count": 4,
     "metadata": {},
     "output_type": "execute_result"
    }
   ],
   "source": [
    "%%time\n",
    "#Starting an instance of Simulation with a decision tree\n",
    "model = DecisionTreeClassifier(criterion=\"entropy\")\n",
    "#dict_args = {\"csv_path\":csv_path, \"model\":model, \"allowed_windings\":allowed_windings,\\\n",
    "#             \"simulation_dir\":simulation_dir, \"val_split\":val_split, \"features_to_use\":features_to_use,\\\n",
    "#            \"shuffle_features\":shuffle_features, \"random_state\":random_state}\n",
    "simulation = Simulation(csv_path,model_name,model_kw,allowed_windings,simulation_dir,val_split,features_to_use,\\\n",
    "                       shuffle_features,fourier_mode,fourier_features_to_use,fourier_real,\\\n",
    "                       fourier_normalize, fourier_fillna , random_state)\n",
    "#simulation = Simulation(**dict_args)\n",
    "\n",
    "\n",
    "#(self, csv_path, model_name, model_kw, allowed_windings, simulation_dir = None, val_split = 0, \n",
    "# features_to_use = None, shuffle_features = False, fourier_mode=None, fourier_features_to_use=None,\n",
    "# fourier_real = False, fourier_normalize = False, Fourier_fillna=False, random_state = None):\n",
    "\n",
    "\n",
    "\n",
    "print(\"Info on all data: \\n\")\n",
    "simulation.dataframe.info()\n",
    "simulation.dataframe.head()"
   ]
  },
  {
   "cell_type": "markdown",
   "metadata": {
    "papermill": {
     "duration": 0.017446,
     "end_time": "2020-07-09T08:15:49.968137",
     "exception": false,
     "start_time": "2020-07-09T08:15:49.950691",
     "status": "completed"
    },
    "tags": []
   },
   "source": [
    "####  Fourier features"
   ]
  },
  {
   "cell_type": "code",
   "execution_count": 5,
   "metadata": {
    "execution": {
     "iopub.execute_input": "2020-07-09T08:15:50.002620Z",
     "iopub.status.busy": "2020-07-09T08:15:50.002003Z",
     "iopub.status.idle": "2020-07-09T08:15:50.086004Z",
     "shell.execute_reply": "2020-07-09T08:15:50.085683Z"
    },
    "papermill": {
     "duration": 0.101818,
     "end_time": "2020-07-09T08:15:50.086056",
     "exception": false,
     "start_time": "2020-07-09T08:15:49.984238",
     "status": "completed"
    },
    "tags": []
   },
   "outputs": [
    {
     "name": "stdout",
     "output_type": "stream",
     "text": [
      "<class 'pandas.core.frame.DataFrame'>\n",
      "Int64Index: 656100 entries, 0 to 656099\n",
      "Data columns (total 14 columns):\n",
      " #   Column      Non-Null Count   Dtype  \n",
      "---  ------      --------------   -----  \n",
      " 0   id          656100 non-null  int32  \n",
      " 1   path        656100 non-null  object \n",
      " 2   t1          656100 non-null  float64\n",
      " 3   t2          656100 non-null  float64\n",
      " 4   winding     656100 non-null  float64\n",
      " 5   phase       656100 non-null  int32  \n",
      " 6   pred_phase  656100 non-null  int32  \n",
      " 7   type_of     656100 non-null  object \n",
      " 8   dct_feat0   656100 non-null  float64\n",
      " 9   dct_feat1   656100 non-null  float64\n",
      " 10  dct_feat2   656100 non-null  float64\n",
      " 11  dct_feat3   656100 non-null  float64\n",
      " 12  dct_feat4   656100 non-null  float64\n",
      " 13  dct_feat5   656100 non-null  float64\n",
      "dtypes: float64(9), int32(3), object(2)\n",
      "memory usage: 67.6+ MB\n",
      "CPU times: user 73.9 ms, sys: 265 µs, total: 74.2 ms\n",
      "Wall time: 73.6 ms\n"
     ]
    }
   ],
   "source": [
    "%%time\n",
    "#simulation.generate_fourier_df()\n",
    "if simulation.fourier_mode is not None:\n",
    "    simulation.fourier_dataframe.info() \n",
    "    simulation.fourier_dataframe.sample(15)\n"
   ]
  },
  {
   "cell_type": "code",
   "execution_count": 6,
   "metadata": {
    "execution": {
     "iopub.execute_input": "2020-07-09T08:15:50.124422Z",
     "iopub.status.busy": "2020-07-09T08:15:50.124093Z",
     "iopub.status.idle": "2020-07-09T08:15:50.135020Z",
     "shell.execute_reply": "2020-07-09T08:15:50.134742Z"
    },
    "papermill": {
     "duration": 0.032382,
     "end_time": "2020-07-09T08:15:50.135073",
     "exception": false,
     "start_time": "2020-07-09T08:15:50.102691",
     "status": "completed"
    },
    "tags": []
   },
   "outputs": [
    {
     "name": "stdout",
     "output_type": "stream",
     "text": [
      "features_to_use: \n",
      "\n",
      "\n",
      "[0, 1, 2, 3, 4, 5]\n",
      "Number of real space features:\n",
      "\n",
      "\n",
      "6\n",
      "\n",
      "\n",
      "fourier_features: \n",
      "\n",
      "\n",
      "['dct_feat0', 'dct_feat1', 'dct_feat2', 'dct_feat3', 'dct_feat4', 'dct_feat5']\n",
      "\n",
      "\n",
      "Number of Fourier features: \n",
      "\n",
      "\n",
      "6\n"
     ]
    }
   ],
   "source": [
    "print(\"features_to_use: \")\n",
    "print(\"\\n\")\n",
    "print(simulation.features_to_use)\n",
    "if simulation.features_to_use is not None:\n",
    "    print(\"Number of real space features:\")\n",
    "    print(\"\\n\")\n",
    "    print(len(simulation.features_to_use))\n",
    "print(\"\\n\")\n",
    "print(\"fourier_features: \")\n",
    "print(\"\\n\")\n",
    "print(simulation.fourier_features)\n",
    "print(\"\\n\")\n",
    "if simulation.fourier_features is not None:\n",
    "    print(\"Number of Fourier features: \")\n",
    "    print(\"\\n\")\n",
    "    print(len(simulation.fourier_features))"
   ]
  },
  {
   "cell_type": "code",
   "execution_count": 7,
   "metadata": {
    "execution": {
     "iopub.execute_input": "2020-07-09T08:15:50.169516Z",
     "iopub.status.busy": "2020-07-09T08:15:50.169205Z",
     "iopub.status.idle": "2020-07-09T08:15:50.232189Z",
     "shell.execute_reply": "2020-07-09T08:15:50.231567Z"
    },
    "papermill": {
     "duration": 0.08088,
     "end_time": "2020-07-09T08:15:50.232283",
     "exception": false,
     "start_time": "2020-07-09T08:15:50.151403",
     "status": "completed"
    },
    "tags": []
   },
   "outputs": [],
   "source": [
    "#simulation.dataframe.iloc[331456,:]"
   ]
  },
  {
   "cell_type": "code",
   "execution_count": 8,
   "metadata": {
    "execution": {
     "iopub.execute_input": "2020-07-09T08:15:50.334852Z",
     "iopub.status.busy": "2020-07-09T08:15:50.334353Z",
     "iopub.status.idle": "2020-07-09T08:15:50.344219Z",
     "shell.execute_reply": "2020-07-09T08:15:50.343873Z"
    },
    "papermill": {
     "duration": 0.077569,
     "end_time": "2020-07-09T08:15:50.344284",
     "exception": false,
     "start_time": "2020-07-09T08:15:50.266715",
     "status": "completed"
    },
    "tags": []
   },
   "outputs": [],
   "source": [
    "#for ix, obj in enumerate(simulation.dataframe.iloc[331456,:].values):\n",
    "#    print(ix,obj)"
   ]
  },
  {
   "cell_type": "code",
   "execution_count": 9,
   "metadata": {
    "execution": {
     "iopub.execute_input": "2020-07-09T08:15:50.379150Z",
     "iopub.status.busy": "2020-07-09T08:15:50.378654Z",
     "iopub.status.idle": "2020-07-09T08:15:50.431183Z",
     "shell.execute_reply": "2020-07-09T08:15:50.430763Z"
    },
    "papermill": {
     "duration": 0.070527,
     "end_time": "2020-07-09T08:15:50.431250",
     "exception": false,
     "start_time": "2020-07-09T08:15:50.360723",
     "status": "completed"
    },
    "tags": []
   },
   "outputs": [],
   "source": [
    "#simulation.fourier_engineered_dataframe.dct_feat0"
   ]
  },
  {
   "cell_type": "code",
   "execution_count": 10,
   "metadata": {
    "execution": {
     "iopub.execute_input": "2020-07-09T08:15:50.472268Z",
     "iopub.status.busy": "2020-07-09T08:15:50.471750Z",
     "iopub.status.idle": "2020-07-09T08:15:50.522765Z",
     "shell.execute_reply": "2020-07-09T08:15:50.522338Z"
    },
    "papermill": {
     "duration": 0.070234,
     "end_time": "2020-07-09T08:15:50.522829",
     "exception": false,
     "start_time": "2020-07-09T08:15:50.452595",
     "status": "completed"
    },
    "tags": []
   },
   "outputs": [],
   "source": [
    "#simulation.features"
   ]
  },
  {
   "cell_type": "code",
   "execution_count": 11,
   "metadata": {
    "execution": {
     "iopub.execute_input": "2020-07-09T08:15:50.565696Z",
     "iopub.status.busy": "2020-07-09T08:15:50.565206Z",
     "iopub.status.idle": "2020-07-09T08:15:50.613587Z",
     "shell.execute_reply": "2020-07-09T08:15:50.613950Z"
    },
    "papermill": {
     "duration": 0.069189,
     "end_time": "2020-07-09T08:15:50.614025",
     "exception": false,
     "start_time": "2020-07-09T08:15:50.544836",
     "status": "completed"
    },
    "tags": []
   },
   "outputs": [],
   "source": [
    "#simulation.fourier_matrix"
   ]
  },
  {
   "cell_type": "code",
   "execution_count": 12,
   "metadata": {
    "execution": {
     "iopub.execute_input": "2020-07-09T08:15:50.655607Z",
     "iopub.status.busy": "2020-07-09T08:15:50.655080Z",
     "iopub.status.idle": "2020-07-09T08:15:50.725110Z",
     "shell.execute_reply": "2020-07-09T08:15:50.724511Z"
    },
    "papermill": {
     "duration": 0.089876,
     "end_time": "2020-07-09T08:15:50.725202",
     "exception": false,
     "start_time": "2020-07-09T08:15:50.635326",
     "status": "completed"
    },
    "tags": []
   },
   "outputs": [],
   "source": [
    "#1/simulation.n_features*simulation.dataframe.loc[:,simulation.features].sum(axis=1)"
   ]
  },
  {
   "cell_type": "code",
   "execution_count": 13,
   "metadata": {
    "execution": {
     "iopub.execute_input": "2020-07-09T08:15:50.777257Z",
     "iopub.status.busy": "2020-07-09T08:15:50.776916Z",
     "iopub.status.idle": "2020-07-09T08:15:50.787156Z",
     "shell.execute_reply": "2020-07-09T08:15:50.786810Z"
    },
    "papermill": {
     "duration": 0.030962,
     "end_time": "2020-07-09T08:15:50.787210",
     "exception": false,
     "start_time": "2020-07-09T08:15:50.756248",
     "status": "completed"
    },
    "tags": []
   },
   "outputs": [],
   "source": [
    "#df_2 = simulation.fourier_engineered_dataframe[simulation.fourier_engineered_dataframe.phase==2]\n",
    "#df_2.describe()"
   ]
  },
  {
   "cell_type": "code",
   "execution_count": 14,
   "metadata": {
    "execution": {
     "iopub.execute_input": "2020-07-09T08:15:50.821566Z",
     "iopub.status.busy": "2020-07-09T08:15:50.821252Z",
     "iopub.status.idle": "2020-07-09T08:15:50.881746Z",
     "shell.execute_reply": "2020-07-09T08:15:50.881208Z"
    },
    "papermill": {
     "duration": 0.078333,
     "end_time": "2020-07-09T08:15:50.881827",
     "exception": false,
     "start_time": "2020-07-09T08:15:50.803494",
     "status": "completed"
    },
    "tags": []
   },
   "outputs": [],
   "source": [
    "#df_1 = simulation.fourier_engineered_dataframe[simulation.fourier_engineered_dataframe.phase==1]\n",
    "#df_1.describe()"
   ]
  },
  {
   "cell_type": "code",
   "execution_count": 15,
   "metadata": {
    "execution": {
     "iopub.execute_input": "2020-07-09T08:15:50.935519Z",
     "iopub.status.busy": "2020-07-09T08:15:50.935198Z",
     "iopub.status.idle": "2020-07-09T08:15:50.946577Z",
     "shell.execute_reply": "2020-07-09T08:15:50.946238Z"
    },
    "papermill": {
     "duration": 0.033401,
     "end_time": "2020-07-09T08:15:50.946630",
     "exception": false,
     "start_time": "2020-07-09T08:15:50.913229",
     "status": "completed"
    },
    "tags": []
   },
   "outputs": [],
   "source": [
    "#df_0 = simulation.fourier_engineered_dataframe[simulation.fourier_engineered_dataframe.phase==0]\n",
    "#df_0.describe()"
   ]
  },
  {
   "cell_type": "code",
   "execution_count": 16,
   "metadata": {
    "execution": {
     "iopub.execute_input": "2020-07-09T08:15:50.980952Z",
     "iopub.status.busy": "2020-07-09T08:15:50.980634Z",
     "iopub.status.idle": "2020-07-09T08:15:51.039425Z",
     "shell.execute_reply": "2020-07-09T08:15:51.039910Z"
    },
    "papermill": {
     "duration": 0.077039,
     "end_time": "2020-07-09T08:15:51.040011",
     "exception": false,
     "start_time": "2020-07-09T08:15:50.962972",
     "status": "completed"
    },
    "tags": []
   },
   "outputs": [],
   "source": [
    "#plt.figure(figsize=(10,10))\n",
    "#plt.scatter(df_1.fourier_feat0,df_1.fourier_feat2)\n",
    "#plt.scatter(df_0.fourier_feat0,df_0.fourier_feat2,alpha=0.4)"
   ]
  },
  {
   "cell_type": "code",
   "execution_count": 17,
   "metadata": {
    "execution": {
     "iopub.execute_input": "2020-07-09T08:15:51.094508Z",
     "iopub.status.busy": "2020-07-09T08:15:51.094182Z",
     "iopub.status.idle": "2020-07-09T08:15:51.104632Z",
     "shell.execute_reply": "2020-07-09T08:15:51.104890Z"
    },
    "papermill": {
     "duration": 0.033651,
     "end_time": "2020-07-09T08:15:51.104963",
     "exception": false,
     "start_time": "2020-07-09T08:15:51.071312",
     "status": "completed"
    },
    "tags": []
   },
   "outputs": [],
   "source": [
    "#plt.scatter(df_0.fourier_feat0,df_0.fourier_feat2,alpha=0.4)"
   ]
  },
  {
   "cell_type": "code",
   "execution_count": 18,
   "metadata": {
    "execution": {
     "iopub.execute_input": "2020-07-09T08:15:51.141535Z",
     "iopub.status.busy": "2020-07-09T08:15:51.141223Z",
     "iopub.status.idle": "2020-07-09T08:15:51.211808Z",
     "shell.execute_reply": "2020-07-09T08:15:51.213494Z"
    },
    "papermill": {
     "duration": 0.092587,
     "end_time": "2020-07-09T08:15:51.213792",
     "exception": false,
     "start_time": "2020-07-09T08:15:51.121205",
     "status": "completed"
    },
    "tags": []
   },
   "outputs": [],
   "source": [
    "#plt.scatter(df_2.fourier_feat0,df_2.fourier_feat2)"
   ]
  },
  {
   "cell_type": "code",
   "execution_count": 19,
   "metadata": {
    "execution": {
     "iopub.execute_input": "2020-07-09T08:15:51.288008Z",
     "iopub.status.busy": "2020-07-09T08:15:51.287688Z",
     "iopub.status.idle": "2020-07-09T08:15:51.297749Z",
     "shell.execute_reply": "2020-07-09T08:15:51.297458Z"
    },
    "papermill": {
     "duration": 0.030945,
     "end_time": "2020-07-09T08:15:51.297803",
     "exception": false,
     "start_time": "2020-07-09T08:15:51.266858",
     "status": "completed"
    },
    "tags": []
   },
   "outputs": [],
   "source": [
    "#df_1.hist(figsize=(15,15))"
   ]
  },
  {
   "cell_type": "code",
   "execution_count": 20,
   "metadata": {
    "execution": {
     "iopub.execute_input": "2020-07-09T08:15:51.332192Z",
     "iopub.status.busy": "2020-07-09T08:15:51.331884Z",
     "iopub.status.idle": "2020-07-09T08:15:51.389569Z",
     "shell.execute_reply": "2020-07-09T08:15:51.389155Z"
    },
    "papermill": {
     "duration": 0.075548,
     "end_time": "2020-07-09T08:15:51.389645",
     "exception": false,
     "start_time": "2020-07-09T08:15:51.314097",
     "status": "completed"
    },
    "tags": []
   },
   "outputs": [],
   "source": [
    "#df_0.hist(figsize=(15,15))"
   ]
  },
  {
   "cell_type": "markdown",
   "metadata": {
    "papermill": {
     "duration": 0.021488,
     "end_time": "2020-07-09T08:15:51.442516",
     "exception": false,
     "start_time": "2020-07-09T08:15:51.421028",
     "status": "completed"
    },
    "tags": []
   },
   "source": [
    "#### Checking initialization"
   ]
  },
  {
   "cell_type": "code",
   "execution_count": 21,
   "metadata": {
    "execution": {
     "iopub.execute_input": "2020-07-09T08:15:51.477167Z",
     "iopub.status.busy": "2020-07-09T08:15:51.476854Z",
     "iopub.status.idle": "2020-07-09T08:15:51.487191Z",
     "shell.execute_reply": "2020-07-09T08:15:51.487446Z"
    },
    "papermill": {
     "duration": 0.028634,
     "end_time": "2020-07-09T08:15:51.487513",
     "exception": false,
     "start_time": "2020-07-09T08:15:51.458879",
     "status": "completed"
    },
    "tags": []
   },
   "outputs": [
    {
     "name": "stdout",
     "output_type": "stream",
     "text": [
      "n_features:  100\n",
      "n_hamiltonians:  6561\n",
      "n_ts:  2\n",
      "CPU times: user 500 µs, sys: 63 µs, total: 563 µs\n",
      "Wall time: 420 µs\n"
     ]
    }
   ],
   "source": [
    "%%time\n",
    "n_features = simulation.n_features\n",
    "n_hamiltonians = simulation.n_hamiltonians\n",
    "n_ts = simulation.n_ts\n",
    "\n",
    "print(\"n_features: \", n_features)\n",
    "print(\"n_hamiltonians: \", n_hamiltonians)\n",
    "print(\"n_ts: \", n_ts)"
   ]
  },
  {
   "cell_type": "code",
   "execution_count": 22,
   "metadata": {
    "execution": {
     "iopub.execute_input": "2020-07-09T08:15:51.523001Z",
     "iopub.status.busy": "2020-07-09T08:15:51.522680Z",
     "iopub.status.idle": "2020-07-09T08:15:51.763442Z",
     "shell.execute_reply": "2020-07-09T08:15:51.763745Z"
    },
    "papermill": {
     "duration": 0.259668,
     "end_time": "2020-07-09T08:15:51.763810",
     "exception": false,
     "start_time": "2020-07-09T08:15:51.504142",
     "status": "completed"
    },
    "tags": []
   },
   "outputs": [
    {
     "name": "stdout",
     "output_type": "stream",
     "text": [
      "% train:  0.8414875781130925\n",
      "% val:  0.0\n",
      "% test:  0.15851242188690748\n",
      "% train + val + test:  1.0\n",
      "\n",
      "\n",
      "number of train hamiltonians:  5521\n",
      "number of val hamiltonians:  0\n",
      "number of test hamiltonians:  1040\n",
      "total number of hamiltonians:  6561\n",
      "\n",
      "\n",
      "train ids:  [13, 14, 15, 16, 17, 18, 19, 20, 21, 22, 23, 24, 25, 26, 27, 28, 29, 30, 31, 32, 33, 34, 35, 36, 37, 38, 39, 41, 42, 43, 44, 45, 46, 47, 48, 49, 50, 51, 52, 53, 54, 55, 56, 57, 58, 59, 60, 61, 62, 63, 64, 65, 66, 67, 68, 69, 70, 71, 72, 73, 74, 75, 76, 77, 78, 79, 80, 95, 96, 97, 98, 99, 100, 101, 102, 103, 104, 105, 106, 107, 108, 109, 110, 111, 112, 113, 114, 115, 116, 117, 118, 119, 121, 122, 123, 124, 125, 126, 127, 128, 129, 130, 131, 132, 133, 134, 135, 136, 137, 138, 139, 140, 141, 142, 143, 144, 145, 146, 147, 148, 149, 150, 151, 152, 153, 154, 155, 156, 157, 158, 159, 160, 161, 176, 177, 178, 179, 180, 181, 182, 183, 184, 185, 186, 187, 188, 189, 190, 191, 192, 193, 194, 195, 196, 197, 198, 199, 201, 202, 203, 204, 205, 206, 207, 208, 209, 210, 211, 212, 213, 214, 215, 216, 217, 218, 219, 220, 221, 222, 223, 224, 225, 226, 227, 228, 229, 230, 231, 232, 233, 234, 235, 236, 237, 238, 239, 240, 241, 242, 258, 259, 260, 261, 262, 263, 264, 265, 266, 267, 268, 269, 270, 271, 272, 273, 274, 275, 276, 277, 278, 279, 281, 282, 283, 284, 285, 286, 287, 288, 289, 290, 291, 292, 293, 294, 295, 296, 297, 298, 299, 300, 301, 302, 303, 304, 305, 306, 307, 308, 309, 310, 311, 312, 313, 314, 315, 316, 317, 318, 319, 320, 321, 322, 323, 340, 341, 342, 343, 344, 345, 346, 347, 348, 349, 350, 351, 352, 353, 354, 355, 356, 357, 358, 359, 361, 362, 363, 364, 365, 366, 367, 368, 369, 370, 371, 372, 373, 374, 375, 376, 377, 378, 379, 380, 381, 382, 383, 384, 385, 386, 387, 388, 389, 390, 391, 392, 393, 394, 395, 396, 397, 398, 399, 400, 401, 402, 403, 404, 422, 423, 424, 425, 426, 427, 428, 429, 430, 431, 432, 433, 434, 435, 436, 437, 438, 439, 441, 442, 443, 444, 445, 446, 447, 448, 449, 450, 451, 452, 453, 454, 455, 456, 457, 458, 459, 460, 461, 462, 463, 464, 465, 466, 467, 468, 469, 470, 471, 472, 473, 474, 475, 476, 477, 478, 479, 480, 481, 482, 483, 484, 485, 503, 504, 505, 506, 507, 508, 509, 510, 511, 512, 513, 514, 515, 516, 517, 518, 519, 521, 522, 523, 524, 525, 526, 527, 528, 529, 530, 531, 532, 533, 534, 535, 536, 537, 538, 539, 540, 541, 542, 543, 544, 545, 546, 547, 548, 549, 550, 551, 552, 553, 554, 555, 556, 557, 558, 559, 560, 561, 562, 563, 564, 565, 566, 585, 586, 587, 588, 589, 590, 591, 592, 593, 594, 595, 596, 597, 598, 599, 601, 602, 603, 604, 605, 606, 607, 608, 609, 610, 611, 612, 613, 614, 615, 616, 617, 618, 619, 620, 621, 622, 623, 624, 625, 626, 627, 628, 629, 630, 631, 632, 633, 634, 635, 636, 637, 638, 639, 640, 641, 642, 643, 644, 645, 646, 647, 667, 668, 669, 670, 671, 672, 673, 674, 675, 676, 677, 678, 679, 681, 682, 683, 684, 685, 686, 687, 688, 689, 690, 691, 692, 693, 694, 695, 696, 697, 698, 699, 700, 701, 702, 703, 704, 705, 706, 707, 708, 709, 710, 711, 712, 713, 714, 715, 716, 717, 718, 719, 720, 721, 722, 723, 724, 725, 726, 727, 728, 749, 750, 751, 752, 753, 754, 755, 756, 757, 758, 759, 761, 762, 763, 764, 765, 766, 767, 768, 769, 770, 771, 772, 773, 774, 775, 776, 777, 778, 779, 780, 781, 782, 783, 784, 785, 786, 787, 788, 789, 790, 791, 792, 793, 794, 795, 796, 797, 798, 799, 800, 801, 802, 803, 804, 805, 806, 807, 808, 809, 830, 831, 832, 833, 834, 835, 836, 837, 838, 839, 841, 842, 843, 844, 845, 846, 847, 848, 849, 850, 851, 852, 853, 854, 855, 856, 857, 858, 859, 860, 861, 862, 863, 864, 865, 866, 867, 868, 869, 870, 871, 872, 873, 874, 875, 876, 877, 878, 879, 880, 881, 882, 883, 884, 885, 886, 887, 888, 889, 890, 912, 913, 914, 915, 916, 917, 918, 919, 921, 922, 923, 924, 925, 926, 927, 928, 929, 930, 931, 932, 933, 934, 935, 936, 937, 938, 939, 940, 941, 942, 943, 944, 945, 946, 947, 948, 949, 950, 951, 952, 953, 954, 955, 956, 957, 958, 959, 960, 961, 962, 963, 964, 965, 966, 967, 968, 969, 970, 971, 994, 995, 996, 997, 998, 999, 1001, 1002, 1003, 1004, 1005, 1006, 1007, 1008, 1009, 1010, 1011, 1012, 1013, 1014, 1015, 1016, 1017, 1018, 1019, 1020, 1021, 1022, 1023, 1024, 1025, 1026, 1027, 1028, 1029, 1030, 1031, 1032, 1033, 1034, 1035, 1036, 1037, 1038, 1039, 1040, 1041, 1042, 1043, 1044, 1045, 1046, 1047, 1048, 1049, 1050, 1051, 1052, 1076, 1077, 1078, 1079, 1081, 1082, 1083, 1084, 1085, 1086, 1087, 1088, 1089, 1090, 1091, 1092, 1093, 1094, 1095, 1096, 1097, 1098, 1099, 1100, 1101, 1102, 1103, 1104, 1105, 1106, 1107, 1108, 1109, 1110, 1111, 1112, 1113, 1114, 1115, 1116, 1117, 1118, 1119, 1120, 1121, 1122, 1123, 1124, 1125, 1126, 1127, 1128, 1129, 1130, 1131, 1132, 1133, 1134, 1157, 1158, 1159, 1161, 1162, 1163, 1164, 1165, 1166, 1167, 1168, 1169, 1170, 1171, 1172, 1173, 1174, 1175, 1176, 1177, 1178, 1179, 1180, 1181, 1182, 1183, 1184, 1185, 1186, 1187, 1188, 1189, 1190, 1191, 1192, 1193, 1194, 1195, 1196, 1197, 1198, 1199, 1200, 1201, 1202, 1203, 1204, 1205, 1206, 1207, 1208, 1209, 1210, 1211, 1212, 1213, 1214, 1215, 1216, 1239, 1241, 1242, 1243, 1244, 1245, 1246, 1247, 1248, 1249, 1250, 1251, 1252, 1253, 1254, 1255, 1256, 1257, 1258, 1259, 1260, 1261, 1262, 1263, 1264, 1265, 1266, 1267, 1268, 1269, 1270, 1271, 1272, 1273, 1274, 1275, 1276, 1277, 1278, 1279, 1280, 1281, 1282, 1283, 1284, 1285, 1286, 1287, 1288, 1289, 1290, 1291, 1292, 1293, 1294, 1295, 1296, 1297, 1298, 1299, 1321, 1322, 1323, 1324, 1325, 1326, 1327, 1328, 1329, 1330, 1331, 1332, 1333, 1334, 1335, 1336, 1337, 1338, 1339, 1340, 1341, 1342, 1343, 1344, 1345, 1346, 1347, 1348, 1349, 1350, 1351, 1352, 1353, 1354, 1355, 1356, 1357, 1358, 1359, 1360, 1361, 1362, 1363, 1364, 1365, 1366, 1367, 1368, 1369, 1370, 1371, 1372, 1373, 1374, 1375, 1376, 1377, 1378, 1379, 1380, 1381, 1402, 1403, 1404, 1405, 1406, 1407, 1408, 1409, 1410, 1411, 1412, 1413, 1414, 1415, 1416, 1417, 1418, 1419, 1420, 1421, 1422, 1423, 1424, 1425, 1426, 1427, 1428, 1429, 1430, 1431, 1432, 1433, 1434, 1435, 1436, 1437, 1438, 1439, 1440, 1441, 1442, 1443, 1444, 1445, 1446, 1447, 1448, 1449, 1450, 1451, 1452, 1453, 1454, 1455, 1456, 1457, 1458, 1459, 1460, 1461, 1462, 1463, 1464, 1484, 1485, 1486, 1487, 1488, 1489, 1490, 1491, 1492, 1493, 1494, 1495, 1496, 1497, 1498, 1499, 1500, 1501, 1502, 1503, 1504, 1505, 1506, 1507, 1508, 1509, 1510, 1511, 1512, 1513, 1514, 1515, 1516, 1517, 1518, 1519, 1520, 1521, 1522, 1523, 1524, 1525, 1526, 1527, 1528, 1529, 1530, 1531, 1532, 1533, 1534, 1535, 1536, 1537, 1538, 1539, 1540, 1541, 1542, 1543, 1544, 1545, 1546, 1566, 1567, 1568, 1569, 1570, 1571, 1572, 1573, 1574, 1575, 1576, 1577, 1578, 1579, 1580, 1581, 1582, 1583, 1584, 1585, 1586, 1587, 1588, 1589, 1590, 1591, 1592, 1593, 1594, 1595, 1596, 1597, 1598, 1599, 1600, 1601, 1602, 1603, 1604, 1605, 1606, 1607, 1608, 1609, 1610, 1611, 1612, 1613, 1614, 1615, 1616, 1617, 1618, 1619, 1620, 1621, 1622, 1623, 1624, 1625, 1626, 1627, 1628, 1648, 1649, 1650, 1651, 1652, 1653, 1654, 1655, 1656, 1657, 1658, 1659, 1660, 1661, 1662, 1663, 1664, 1665, 1666, 1667, 1668, 1669, 1670, 1671, 1672, 1673, 1674, 1675, 1676, 1677, 1678, 1679, 1680, 1681, 1682, 1683, 1684, 1685, 1686, 1687, 1688, 1689, 1690, 1691, 1692, 1693, 1694, 1695, 1696, 1697, 1698, 1699, 1701, 1702, 1703, 1704, 1705, 1706, 1707, 1708, 1709, 1710, 1711, 1729, 1730, 1731, 1732, 1733, 1734, 1735, 1736, 1737, 1738, 1739, 1740, 1741, 1742, 1743, 1744, 1745, 1746, 1747, 1748, 1749, 1750, 1751, 1752, 1753, 1754, 1755, 1756, 1757, 1758, 1759, 1760, 1761, 1762, 1763, 1764, 1765, 1766, 1767, 1768, 1769, 1770, 1771, 1772, 1773, 1774, 1775, 1776, 1777, 1778, 1779, 1781, 1782, 1783, 1784, 1785, 1786, 1787, 1788, 1789, 1790, 1791, 1792, 1793, 1811, 1812, 1813, 1814, 1815, 1816, 1817, 1818, 1819, 1820, 1821, 1822, 1823, 1824, 1825, 1826, 1827, 1828, 1829, 1830, 1831, 1832, 1833, 1834, 1835, 1836, 1837, 1838, 1839, 1840, 1841, 1842, 1843, 1844, 1845, 1846, 1847, 1848, 1849, 1850, 1851, 1852, 1853, 1854, 1855, 1856, 1857, 1858, 1859, 1861, 1862, 1863, 1864, 1865, 1866, 1867, 1868, 1869, 1870, 1871, 1872, 1873, 1874, 1875, 1876, 1893, 1894, 1895, 1896, 1897, 1898, 1899, 1900, 1901, 1902, 1903, 1904, 1905, 1906, 1907, 1908, 1909, 1910, 1911, 1912, 1913, 1914, 1915, 1916, 1917, 1918, 1919, 1920, 1921, 1922, 1923, 1924, 1925, 1926, 1927, 1928, 1929, 1930, 1931, 1932, 1933, 1934, 1935, 1936, 1937, 1938, 1939, 1941, 1942, 1943, 1944, 1945, 1946, 1947, 1948, 1949, 1950, 1951, 1952, 1953, 1954, 1955, 1956, 1957, 1958, 1975, 1976, 1977, 1978, 1979, 1980, 1981, 1982, 1983, 1984, 1985, 1986, 1987, 1988, 1989, 1990, 1991, 1992, 1993, 1994, 1995, 1996, 1997, 1998, 1999, 2000, 2001, 2002, 2003, 2004, 2005, 2006, 2007, 2008, 2009, 2010, 2011, 2012, 2013, 2014, 2015, 2016, 2017, 2018, 2019, 2021, 2022, 2023, 2024, 2025, 2026, 2027, 2028, 2029, 2030, 2031, 2032, 2033, 2034, 2035, 2036, 2037, 2038, 2039, 2056, 2057, 2058, 2059, 2060, 2061, 2062, 2063, 2064, 2065, 2066, 2067, 2068, 2069, 2070, 2071, 2072, 2073, 2074, 2075, 2076, 2077, 2078, 2079, 2080, 2081, 2082, 2083, 2084, 2085, 2086, 2087, 2088, 2089, 2090, 2091, 2092, 2093, 2094, 2095, 2096, 2097, 2098, 2099, 2101, 2102, 2103, 2104, 2105, 2106, 2107, 2108, 2109, 2110, 2111, 2112, 2113, 2114, 2115, 2116, 2117, 2118, 2119, 2121, 2122, 2123, 2138, 2139, 2140, 2141, 2142, 2143, 2144, 2145, 2146, 2147, 2148, 2149, 2150, 2151, 2152, 2153, 2154, 2155, 2156, 2157, 2158, 2159, 2160, 2161, 2162, 2163, 2164, 2165, 2166, 2167, 2168, 2169, 2170, 2171, 2172, 2173, 2174, 2175, 2176, 2177, 2178, 2179, 2181, 2182, 2183, 2184, 2185, 2186, 2187, 2188, 2189, 2190, 2191, 2192, 2193, 2194, 2195, 2196, 2197, 2198, 2199, 2201, 2202, 2203, 2204, 2205, 2220, 2221, 2222, 2223, 2224, 2225, 2226, 2227, 2228, 2229, 2230, 2231, 2232, 2233, 2234, 2235, 2236, 2237, 2238, 2239, 2240, 2241, 2242, 2243, 2244, 2245, 2246, 2247, 2248, 2249, 2250, 2251, 2252, 2253, 2254, 2255, 2256, 2257, 2258, 2259, 2261, 2262, 2263, 2264, 2265, 2266, 2267, 2268, 2269, 2270, 2271, 2272, 2273, 2274, 2275, 2276, 2277, 2278, 2279, 2281, 2282, 2283, 2284, 2285, 2286, 2287, 2288, 2301, 2302, 2303, 2304, 2305, 2306, 2307, 2308, 2309, 2310, 2311, 2312, 2313, 2314, 2315, 2316, 2317, 2318, 2319, 2320, 2321, 2322, 2323, 2324, 2325, 2326, 2327, 2328, 2329, 2330, 2331, 2332, 2333, 2334, 2335, 2336, 2337, 2338, 2339, 2341, 2342, 2343, 2344, 2345, 2346, 2347, 2348, 2349, 2350, 2351, 2352, 2353, 2354, 2355, 2356, 2357, 2358, 2359, 2361, 2362, 2363, 2364, 2365, 2366, 2367, 2368, 2369, 2370, 2383, 2384, 2385, 2386, 2387, 2388, 2389, 2390, 2391, 2392, 2393, 2394, 2395, 2396, 2397, 2398, 2399, 2400, 2401, 2402, 2403, 2404, 2405, 2406, 2407, 2408, 2409, 2410, 2411, 2412, 2413, 2414, 2415, 2416, 2417, 2418, 2419, 2421, 2422, 2423, 2424, 2425, 2426, 2427, 2428, 2429, 2430, 2431, 2432, 2433, 2434, 2435, 2436, 2437, 2438, 2439, 2441, 2442, 2443, 2444, 2445, 2446, 2447, 2448, 2449, 2450, 2451, 2452, 2453, 2465, 2466, 2467, 2468, 2469, 2470, 2471, 2472, 2473, 2474, 2475, 2476, 2477, 2478, 2479, 2480, 2481, 2482, 2483, 2484, 2485, 2486, 2487, 2488, 2489, 2490, 2491, 2492, 2493, 2494, 2495, 2496, 2497, 2498, 2499, 2501, 2502, 2503, 2504, 2505, 2506, 2507, 2508, 2509, 2510, 2511, 2512, 2513, 2514, 2515, 2516, 2517, 2518, 2519, 2521, 2522, 2523, 2524, 2525, 2526, 2527, 2528, 2529, 2530, 2531, 2532, 2533, 2534, 2535, 2547, 2548, 2549, 2550, 2551, 2552, 2553, 2554, 2555, 2556, 2557, 2558, 2559, 2560, 2561, 2562, 2563, 2564, 2565, 2566, 2567, 2568, 2569, 2570, 2571, 2572, 2573, 2574, 2575, 2576, 2577, 2578, 2579, 2581, 2582, 2583, 2584, 2585, 2586, 2587, 2588, 2589, 2590, 2591, 2592, 2593, 2594, 2595, 2596, 2597, 2598, 2599, 2601, 2602, 2603, 2604, 2605, 2606, 2607, 2608, 2609, 2610, 2611, 2612, 2613, 2614, 2615, 2616, 2617, 2628, 2629, 2630, 2631, 2632, 2633, 2634, 2635, 2636, 2637, 2638, 2639, 2640, 2641, 2642, 2643, 2644, 2645, 2646, 2647, 2648, 2649, 2650, 2651, 2652, 2653, 2654, 2655, 2656, 2657, 2658, 2659, 2661, 2662, 2663, 2664, 2665, 2666, 2667, 2668, 2669, 2670, 2671, 2672, 2673, 2674, 2675, 2676, 2677, 2678, 2679, 2681, 2682, 2683, 2684, 2685, 2686, 2687, 2688, 2689, 2690, 2691, 2692, 2693, 2694, 2695, 2696, 2697, 2698, 2699, 2700, 2710, 2711, 2712, 2713, 2714, 2715, 2716, 2717, 2718, 2719, 2720, 2721, 2722, 2723, 2724, 2725, 2726, 2727, 2728, 2729, 2730, 2731, 2732, 2733, 2734, 2735, 2736, 2737, 2738, 2739, 2741, 2742, 2743, 2744, 2745, 2746, 2747, 2748, 2749, 2750, 2751, 2752, 2753, 2754, 2755, 2756, 2757, 2758, 2759, 2761, 2762, 2763, 2764, 2765, 2766, 2767, 2768, 2769, 2770, 2771, 2772, 2773, 2774, 2775, 2776, 2777, 2778, 2779, 2780, 2781, 2782, 2792, 2793, 2794, 2795, 2796, 2797, 2798, 2799, 2800, 2801, 2802, 2803, 2804, 2805, 2806, 2807, 2808, 2809, 2810, 2811, 2812, 2813, 2814, 2815, 2816, 2817, 2818, 2819, 2821, 2822, 2823, 2824, 2825, 2826, 2827, 2828, 2829, 2830, 2831, 2832, 2833, 2834, 2835, 2836, 2837, 2838, 2839, 2841, 2842, 2843, 2844, 2845, 2846, 2847, 2848, 2849, 2850, 2851, 2852, 2853, 2854, 2855, 2856, 2857, 2858, 2859, 2860, 2861, 2862, 2863, 2864, 2865, 2874, 2875, 2876, 2877, 2878, 2879, 2880, 2881, 2882, 2883, 2884, 2885, 2886, 2887, 2888, 2889, 2890, 2891, 2892, 2893, 2894, 2895, 2896, 2897, 2898, 2899, 2901, 2902, 2903, 2904, 2905, 2906, 2907, 2908, 2909, 2910, 2911, 2912, 2913, 2914, 2915, 2916, 2917, 2918, 2919, 2921, 2922, 2923, 2924, 2925, 2926, 2927, 2928, 2929, 2930, 2931, 2932, 2933, 2934, 2935, 2936, 2937, 2938, 2939, 2940, 2941, 2942, 2943, 2944, 2945, 2946, 2947, 2955, 2956, 2957, 2958, 2959, 2960, 2961, 2962, 2963, 2964, 2965, 2966, 2967, 2968, 2969, 2970, 2971, 2972, 2973, 2974, 2975, 2976, 2977, 2978, 2979, 2981, 2982, 2983, 2984, 2985, 2986, 2987, 2988, 2989, 2990, 2991, 2992, 2993, 2994, 2995, 2996, 2997, 2998, 2999, 3001, 3002, 3003, 3004, 3005, 3006, 3007, 3008, 3009, 3010, 3011, 3012, 3013, 3014, 3015, 3016, 3017, 3018, 3019, 3020, 3021, 3022, 3023, 3024, 3025, 3026, 3027, 3028, 3029, 3037, 3038, 3039, 3040, 3041, 3042, 3043, 3044, 3045, 3046, 3047, 3048, 3049, 3050, 3051, 3052, 3053, 3054, 3055, 3056, 3057, 3058, 3059, 3061, 3062, 3063, 3064, 3065, 3066, 3067, 3068, 3069, 3070, 3071, 3072, 3073, 3074, 3075, 3076, 3077, 3078, 3079, 3081, 3082, 3083, 3084, 3085, 3086, 3087, 3088, 3089, 3090, 3091, 3092, 3093, 3094, 3095, 3096, 3097, 3098, 3099, 3100, 3101, 3102, 3103, 3104, 3105, 3106, 3107, 3108, 3109, 3110, 3111, 3112, 3119, 3120, 3121, 3122, 3123, 3124, 3125, 3126, 3127, 3128, 3129, 3130, 3131, 3132, 3133, 3134, 3135, 3136, 3137, 3138, 3139, 3141, 3142, 3143, 3144, 3145, 3146, 3147, 3148, 3149, 3150, 3151, 3152, 3153, 3154, 3155, 3156, 3157, 3158, 3159, 3161, 3162, 3163, 3164, 3165, 3166, 3167, 3168, 3169, 3170, 3171, 3172, 3173, 3174, 3175, 3176, 3177, 3178, 3179, 3180, 3181, 3182, 3183, 3184, 3185, 3186, 3187, 3188, 3189, 3190, 3191, 3192, 3193, 3194, 3201, 3202, 3203, 3204, 3205, 3206, 3207, 3208, 3209, 3210, 3211, 3212, 3213, 3214, 3215, 3216, 3217, 3218, 3219, 3221, 3222, 3223, 3224, 3225, 3226, 3227, 3228, 3229, 3230, 3231, 3232, 3233, 3234, 3235, 3236, 3237, 3238, 3239, 3241, 3242, 3243, 3244, 3245, 3246, 3247, 3248, 3249, 3250, 3251, 3252, 3253, 3254, 3255, 3256, 3257, 3258, 3259, 3260, 3261, 3262, 3263, 3264, 3265, 3266, 3267, 3268, 3269, 3270, 3271, 3272, 3273, 3274, 3275, 3276, 3277, 3282, 3283, 3284, 3285, 3286, 3287, 3288, 3289, 3290, 3291, 3292, 3293, 3294, 3295, 3296, 3297, 3298, 3299, 3301, 3302, 3303, 3304, 3305, 3306, 3307, 3308, 3309, 3310, 3311, 3312, 3313, 3314, 3315, 3316, 3317, 3318, 3319, 3320, 3321, 3322, 3323, 3324, 3325, 3326, 3327, 3328, 3329, 3330, 3331, 3332, 3333, 3334, 3335, 3336, 3337, 3338, 3339, 3340, 3341, 3342, 3343, 3344, 3345, 3346, 3347, 3348, 3349, 3350, 3351, 3352, 3353, 3354, 3355, 3356, 3357, 3358, 3359, 3364, 3365, 3366, 3367, 3368, 3369, 3370, 3371, 3372, 3373, 3374, 3375, 3376, 3377, 3378, 3379, 3381, 3382, 3383, 3384, 3385, 3386, 3387, 3388, 3389, 3390, 3391, 3392, 3393, 3394, 3395, 3396, 3397, 3398, 3399, 3400, 3401, 3402, 3403, 3404, 3405, 3406, 3407, 3408, 3409, 3410, 3411, 3412, 3413, 3414, 3415, 3416, 3417, 3418, 3419, 3420, 3421, 3422, 3423, 3424, 3425, 3426, 3427, 3428, 3429, 3430, 3431, 3432, 3433, 3434, 3435, 3436, 3437, 3438, 3439, 3440, 3441, 3442, 3446, 3447, 3448, 3449, 3450, 3451, 3452, 3453, 3454, 3455, 3456, 3457, 3458, 3459, 3461, 3462, 3463, 3464, 3465, 3466, 3467, 3468, 3469, 3470, 3471, 3472, 3473, 3474, 3475, 3476, 3477, 3478, 3479, 3480, 3481, 3482, 3483, 3484, 3485, 3486, 3487, 3488, 3489, 3490, 3491, 3492, 3493, 3494, 3495, 3496, 3497, 3498, 3499, 3500, 3501, 3502, 3503, 3504, 3505, 3506, 3507, 3508, 3509, 3510, 3511, 3512, 3513, 3514, 3515, 3516, 3517, 3518, 3519, 3520, 3521, 3522, 3523, 3524, 3527, 3528, 3529, 3530, 3531, 3532, 3533, 3534, 3535, 3536, 3537, 3538, 3539, 3541, 3542, 3543, 3544, 3545, 3546, 3547, 3548, 3549, 3550, 3551, 3552, 3553, 3554, 3555, 3556, 3557, 3558, 3559, 3560, 3561, 3562, 3563, 3564, 3565, 3566, 3567, 3568, 3569, 3570, 3571, 3572, 3573, 3574, 3575, 3576, 3577, 3578, 3579, 3580, 3581, 3582, 3583, 3584, 3585, 3586, 3587, 3588, 3589, 3590, 3591, 3592, 3593, 3594, 3595, 3596, 3597, 3598, 3599, 3600, 3601, 3602, 3603, 3604, 3605, 3606, 3609, 3610, 3611, 3612, 3613, 3614, 3615, 3616, 3617, 3618, 3619, 3621, 3622, 3623, 3624, 3625, 3626, 3627, 3628, 3629, 3630, 3631, 3632, 3633, 3634, 3635, 3636, 3637, 3638, 3639, 3640, 3641, 3642, 3643, 3644, 3645, 3646, 3647, 3648, 3649, 3650, 3651, 3652, 3653, 3654, 3655, 3656, 3657, 3658, 3659, 3660, 3661, 3662, 3663, 3664, 3665, 3666, 3667, 3668, 3669, 3670, 3671, 3672, 3673, 3674, 3675, 3676, 3677, 3678, 3679, 3680, 3681, 3682, 3683, 3684, 3685, 3686, 3687, 3688, 3689, 3691, 3692, 3693, 3694, 3695, 3696, 3697, 3698, 3699, 3701, 3702, 3703, 3704, 3705, 3706, 3707, 3708, 3709, 3710, 3711, 3712, 3713, 3714, 3715, 3716, 3717, 3718, 3719, 3720, 3721, 3722, 3723, 3724, 3725, 3726, 3727, 3728, 3729, 3730, 3731, 3732, 3733, 3734, 3735, 3736, 3737, 3738, 3739, 3740, 3741, 3742, 3743, 3744, 3745, 3746, 3747, 3748, 3749, 3750, 3751, 3752, 3753, 3754, 3755, 3756, 3757, 3758, 3759, 3760, 3761, 3762, 3763, 3764, 3765, 3766, 3767, 3768, 3769, 3770, 3771, 3773, 3774, 3775, 3776, 3777, 3778, 3779, 3781, 3782, 3783, 3784, 3785, 3786, 3787, 3788, 3789, 3790, 3791, 3792, 3793, 3794, 3795, 3796, 3797, 3798, 3799, 3800, 3801, 3802, 3803, 3804, 3805, 3806, 3807, 3808, 3809, 3810, 3811, 3812, 3813, 3814, 3815, 3816, 3817, 3818, 3819, 3820, 3821, 3822, 3823, 3824, 3825, 3826, 3827, 3828, 3829, 3830, 3831, 3832, 3833, 3834, 3835, 3836, 3837, 3838, 3839, 3840, 3841, 3842, 3843, 3844, 3845, 3846, 3847, 3848, 3849, 3850, 3851, 3852, 3853, 3855, 3856, 3857, 3858, 3859, 3861, 3862, 3863, 3864, 3865, 3866, 3867, 3868, 3869, 3870, 3871, 3872, 3873, 3874, 3875, 3876, 3877, 3878, 3879, 3880, 3881, 3882, 3883, 3884, 3885, 3886, 3887, 3888, 3889, 3890, 3891, 3892, 3893, 3894, 3895, 3896, 3897, 3898, 3899, 3900, 3901, 3902, 3903, 3904, 3905, 3906, 3907, 3908, 3909, 3910, 3911, 3912, 3913, 3914, 3915, 3916, 3917, 3918, 3919, 3920, 3921, 3922, 3923, 3924, 3925, 3926, 3927, 3928, 3929, 3930, 3931, 3932, 3933, 3934, 3935, 3937, 3938, 3939, 3941, 3942, 3943, 3944, 3945, 3946, 3947, 3948, 3949, 3950, 3951, 3952, 3953, 3954, 3955, 3956, 3957, 3958, 3959, 3960, 3961, 3962, 3963, 3964, 3965, 3966, 3967, 3968, 3969, 3970, 3971, 3972, 3973, 3974, 3975, 3976, 3977, 3978, 3979, 3980, 3981, 3982, 3983, 3984, 3985, 3986, 3987, 3988, 3989, 3990, 3991, 3992, 3993, 3994, 3995, 3996, 3997, 3998, 3999, 4000, 4001, 4002, 4003, 4004, 4005, 4006, 4007, 4008, 4009, 4010, 4011, 4012, 4013, 4014, 4015, 4016, 4017, 4021, 4022, 4023, 4024, 4025, 4026, 4027, 4028, 4029, 4030, 4031, 4032, 4033, 4034, 4035, 4036, 4037, 4038, 4039, 4040, 4041, 4042, 4043, 4044, 4045, 4046, 4047, 4048, 4049, 4050, 4051, 4052, 4053, 4054, 4055, 4056, 4057, 4058, 4059, 4060, 4061, 4062, 4063, 4064, 4065, 4066, 4067, 4068, 4069, 4070, 4071, 4072, 4073, 4074, 4075, 4076, 4077, 4078, 4079, 4080, 4081, 4082, 4083, 4084, 4085, 4086, 4087, 4088, 4089, 4090, 4091, 4092, 4093, 4094, 4095, 4096, 4097, 4098, 4102, 4103, 4104, 4105, 4106, 4107, 4108, 4109, 4110, 4111, 4112, 4113, 4114, 4115, 4116, 4117, 4118, 4119, 4120, 4121, 4122, 4123, 4124, 4125, 4126, 4127, 4128, 4129, 4130, 4131, 4132, 4133, 4134, 4135, 4136, 4137, 4138, 4139, 4140, 4141, 4142, 4143, 4144, 4145, 4146, 4147, 4148, 4149, 4150, 4151, 4152, 4153, 4154, 4155, 4156, 4157, 4158, 4159, 4160, 4161, 4162, 4163, 4164, 4165, 4166, 4167, 4168, 4169, 4170, 4171, 4172, 4173, 4174, 4175, 4176, 4177, 4178, 4179, 4184, 4185, 4186, 4187, 4188, 4189, 4190, 4191, 4192, 4193, 4194, 4195, 4196, 4197, 4198, 4199, 4200, 4201, 4202, 4203, 4204, 4205, 4206, 4207, 4208, 4209, 4210, 4211, 4212, 4213, 4214, 4215, 4216, 4217, 4218, 4219, 4220, 4221, 4222, 4223, 4224, 4225, 4226, 4227, 4228, 4229, 4230, 4231, 4232, 4233, 4234, 4235, 4236, 4237, 4238, 4239, 4240, 4241, 4242, 4243, 4244, 4245, 4246, 4247, 4248, 4249, 4250, 4251, 4252, 4253, 4254, 4255, 4256, 4257, 4258, 4259, 4261, 4262, 4267, 4268, 4269, 4270, 4271, 4272, 4273, 4274, 4275, 4276, 4277, 4278, 4279, 4280, 4281, 4282, 4283, 4284, 4285, 4286, 4287, 4288, 4289, 4290, 4291, 4292, 4293, 4294, 4295, 4296, 4297, 4298, 4299, 4300, 4301, 4302, 4303, 4304, 4305, 4306, 4307, 4308, 4309, 4310, 4311, 4312, 4313, 4314, 4315, 4316, 4317, 4318, 4319, 4320, 4321, 4322, 4323, 4324, 4325, 4326, 4327, 4328, 4329, 4330, 4331, 4332, 4333, 4334, 4335, 4336, 4337, 4338, 4339, 4341, 4342, 4343, 4344, 4349, 4350, 4351, 4352, 4353, 4354, 4355, 4356, 4357, 4358, 4359, 4360, 4361, 4362, 4363, 4364, 4365, 4366, 4367, 4368, 4369, 4370, 4371, 4372, 4373, 4374, 4375, 4376, 4377, 4378, 4379, 4380, 4381, 4382, 4383, 4384, 4385, 4386, 4387, 4388, 4389, 4390, 4391, 4392, 4393, 4394, 4395, 4396, 4397, 4398, 4399, 4400, 4401, 4402, 4403, 4404, 4405, 4406, 4407, 4408, 4409, 4410, 4411, 4412, 4413, 4414, 4415, 4416, 4417, 4418, 4419, 4421, 4422, 4423, 4424, 4425, 4426, 4432, 4433, 4434, 4435, 4436, 4437, 4438, 4439, 4440, 4441, 4442, 4443, 4444, 4445, 4446, 4447, 4448, 4449, 4450, 4451, 4452, 4453, 4454, 4455, 4456, 4457, 4458, 4459, 4460, 4461, 4462, 4463, 4464, 4465, 4466, 4467, 4468, 4469, 4470, 4471, 4472, 4473, 4474, 4475, 4476, 4477, 4478, 4479, 4480, 4481, 4482, 4483, 4484, 4485, 4486, 4487, 4488, 4489, 4490, 4491, 4492, 4493, 4494, 4495, 4496, 4497, 4498, 4499, 4501, 4502, 4503, 4504, 4505, 4506, 4507, 4514, 4515, 4516, 4517, 4518, 4519, 4520, 4521, 4522, 4523, 4524, 4525, 4526, 4527, 4528, 4529, 4530, 4531, 4532, 4533, 4534, 4535, 4536, 4537, 4538, 4539, 4540, 4541, 4542, 4543, 4544, 4545, 4546, 4547, 4548, 4549, 4550, 4551, 4552, 4553, 4554, 4555, 4556, 4557, 4558, 4559, 4560, 4561, 4562, 4563, 4564, 4565, 4566, 4567, 4568, 4569, 4570, 4571, 4572, 4573, 4574, 4575, 4576, 4577, 4578, 4579, 4581, 4582, 4583, 4584, 4585, 4586, 4587, 4588, 4589, 4596, 4597, 4598, 4599, 4600, 4601, 4602, 4603, 4604, 4605, 4606, 4607, 4608, 4609, 4610, 4611, 4612, 4613, 4614, 4615, 4616, 4617, 4618, 4619, 4620, 4621, 4622, 4623, 4624, 4625, 4626, 4627, 4628, 4629, 4630, 4631, 4632, 4633, 4634, 4635, 4636, 4637, 4638, 4639, 4640, 4641, 4642, 4643, 4644, 4645, 4646, 4647, 4648, 4649, 4650, 4651, 4652, 4653, 4654, 4655, 4656, 4657, 4658, 4659, 4661, 4662, 4663, 4664, 4665, 4666, 4667, 4668, 4669, 4670, 4671, 4679, 4680, 4681, 4682, 4683, 4684, 4685, 4686, 4687, 4688, 4689, 4690, 4691, 4692, 4693, 4694, 4695, 4696, 4697, 4698, 4699, 4700, 4701, 4702, 4703, 4704, 4705, 4706, 4707, 4708, 4709, 4710, 4711, 4712, 4713, 4714, 4715, 4716, 4717, 4718, 4719, 4720, 4721, 4722, 4723, 4724, 4725, 4726, 4727, 4728, 4729, 4730, 4731, 4732, 4733, 4734, 4735, 4736, 4737, 4738, 4739, 4741, 4742, 4743, 4744, 4745, 4746, 4747, 4748, 4749, 4750, 4751, 4752, 4761, 4762, 4763, 4764, 4765, 4766, 4767, 4768, 4769, 4770, 4771, 4772, 4773, 4774, 4775, 4776, 4777, 4778, 4779, 4780, 4781, 4782, 4783, 4784, 4785, 4786, 4787, 4788, 4789, 4790, 4791, 4792, 4793, 4794, 4795, 4796, 4797, 4798, 4799, 4800, 4801, 4802, 4803, 4804, 4805, 4806, 4807, 4808, 4809, 4810, 4811, 4812, 4813, 4814, 4815, 4816, 4817, 4818, 4819, 4821, 4822, 4823, 4824, 4825, 4826, 4827, 4828, 4829, 4830, 4831, 4832, 4833, 4834, 4844, 4845, 4846, 4847, 4848, 4849, 4850, 4851, 4852, 4853, 4854, 4855, 4856, 4857, 4858, 4859, 4860, 4861, 4862, 4863, 4864, 4865, 4866, 4867, 4868, 4869, 4870, 4871, 4872, 4873, 4874, 4875, 4876, 4877, 4878, 4879, 4880, 4881, 4882, 4883, 4884, 4885, 4886, 4887, 4888, 4889, 4890, 4891, 4892, 4893, 4894, 4895, 4896, 4897, 4898, 4899, 4901, 4902, 4903, 4904, 4905, 4906, 4907, 4908, 4909, 4910, 4911, 4912, 4913, 4914, 4915, 4916, 4926, 4927, 4928, 4929, 4930, 4931, 4932, 4933, 4934, 4935, 4936, 4937, 4938, 4939, 4940, 4941, 4942, 4943, 4944, 4945, 4946, 4947, 4948, 4949, 4950, 4951, 4952, 4953, 4954, 4955, 4956, 4957, 4958, 4959, 4960, 4961, 4962, 4963, 4964, 4965, 4966, 4967, 4968, 4969, 4970, 4971, 4972, 4973, 4974, 4975, 4976, 4977, 4978, 4979, 4981, 4982, 4983, 4984, 4985, 4986, 4987, 4988, 4989, 4990, 4991, 4992, 4993, 4994, 4995, 4996, 4997, 4998, 5008, 5009, 5010, 5011, 5012, 5013, 5014, 5015, 5016, 5017, 5018, 5019, 5020, 5021, 5022, 5023, 5024, 5025, 5026, 5027, 5028, 5029, 5030, 5031, 5032, 5033, 5034, 5035, 5036, 5037, 5038, 5039, 5040, 5041, 5042, 5043, 5044, 5045, 5046, 5047, 5048, 5049, 5050, 5051, 5052, 5053, 5054, 5055, 5056, 5057, 5058, 5059, 5061, 5062, 5063, 5064, 5065, 5066, 5067, 5068, 5069, 5070, 5071, 5072, 5073, 5074, 5075, 5076, 5077, 5078, 5079, 5091, 5092, 5093, 5094, 5095, 5096, 5097, 5098, 5099, 5100, 5101, 5102, 5103, 5104, 5105, 5106, 5107, 5108, 5109, 5110, 5111, 5112, 5113, 5114, 5115, 5116, 5117, 5118, 5119, 5120, 5121, 5122, 5123, 5124, 5125, 5126, 5127, 5128, 5129, 5130, 5131, 5132, 5133, 5134, 5135, 5136, 5137, 5138, 5139, 5141, 5142, 5143, 5144, 5145, 5146, 5147, 5148, 5149, 5150, 5151, 5152, 5153, 5154, 5155, 5156, 5157, 5158, 5159, 5160, 5161, 5173, 5174, 5175, 5176, 5177, 5178, 5179, 5180, 5181, 5182, 5183, 5184, 5185, 5186, 5187, 5188, 5189, 5190, 5191, 5192, 5193, 5194, 5195, 5196, 5197, 5198, 5199, 5200, 5201, 5202, 5203, 5204, 5205, 5206, 5207, 5208, 5209, 5210, 5211, 5212, 5213, 5214, 5215, 5216, 5217, 5218, 5219, 5221, 5222, 5223, 5224, 5225, 5226, 5227, 5228, 5229, 5230, 5231, 5232, 5233, 5234, 5235, 5236, 5237, 5238, 5239, 5240, 5241, 5242, 5243, 5256, 5257, 5258, 5259, 5260, 5261, 5262, 5263, 5264, 5265, 5266, 5267, 5268, 5269, 5270, 5271, 5272, 5273, 5274, 5275, 5276, 5277, 5278, 5279, 5280, 5281, 5282, 5283, 5284, 5285, 5286, 5287, 5288, 5289, 5290, 5291, 5292, 5293, 5294, 5295, 5296, 5297, 5298, 5299, 5301, 5302, 5303, 5304, 5305, 5306, 5307, 5308, 5309, 5310, 5311, 5312, 5313, 5314, 5315, 5316, 5317, 5318, 5319, 5320, 5321, 5322, 5323, 5324, 5325, 5338, 5339, 5340, 5341, 5342, 5343, 5344, 5345, 5346, 5347, 5348, 5349, 5350, 5351, 5352, 5353, 5354, 5355, 5356, 5357, 5358, 5359, 5360, 5361, 5362, 5363, 5364, 5365, 5366, 5367, 5368, 5369, 5370, 5371, 5372, 5373, 5374, 5375, 5376, 5377, 5378, 5379, 5381, 5382, 5383, 5384, 5385, 5386, 5387, 5388, 5389, 5390, 5391, 5392, 5393, 5394, 5395, 5396, 5397, 5398, 5399, 5400, 5401, 5402, 5403, 5404, 5405, 5406, 5421, 5422, 5423, 5424, 5425, 5426, 5427, 5428, 5429, 5430, 5431, 5432, 5433, 5434, 5435, 5436, 5437, 5438, 5439, 5440, 5441, 5442, 5443, 5444, 5445, 5446, 5447, 5448, 5449, 5450, 5451, 5452, 5453, 5454, 5455, 5456, 5457, 5458, 5459, 5461, 5462, 5463, 5464, 5465, 5466, 5467, 5468, 5469, 5470, 5471, 5472, 5473, 5474, 5475, 5476, 5477, 5478, 5479, 5480, 5481, 5482, 5483, 5484, 5485, 5486, 5487, 5488, 5503, 5504, 5505, 5506, 5507, 5508, 5509, 5510, 5511, 5512, 5513, 5514, 5515, 5516, 5517, 5518, 5519, 5520, 5521, 5522, 5523, 5524, 5525, 5526, 5527, 5528, 5529, 5530, 5531, 5532, 5533, 5534, 5535, 5536, 5537, 5538, 5539, 5541, 5542, 5543, 5544, 5545, 5546, 5547, 5548, 5549, 5550, 5551, 5552, 5553, 5554, 5555, 5556, 5557, 5558, 5559, 5560, 5561, 5562, 5563, 5564, 5565, 5566, 5567, 5568, 5569, 5570, 5585, 5586, 5587, 5588, 5589, 5590, 5591, 5592, 5593, 5594, 5595, 5596, 5597, 5598, 5599, 5600, 5601, 5602, 5603, 5604, 5605, 5606, 5607, 5608, 5609, 5610, 5611, 5612, 5613, 5614, 5615, 5616, 5617, 5618, 5619, 5621, 5622, 5623, 5624, 5625, 5626, 5627, 5628, 5629, 5630, 5631, 5632, 5633, 5634, 5635, 5636, 5637, 5638, 5639, 5640, 5641, 5642, 5643, 5644, 5645, 5646, 5647, 5648, 5649, 5650, 5651, 5652, 5668, 5669, 5670, 5671, 5672, 5673, 5674, 5675, 5676, 5677, 5678, 5679, 5680, 5681, 5682, 5683, 5684, 5685, 5686, 5687, 5688, 5689, 5690, 5691, 5692, 5693, 5694, 5695, 5696, 5697, 5698, 5699, 5701, 5702, 5703, 5704, 5705, 5706, 5707, 5708, 5709, 5710, 5711, 5712, 5713, 5714, 5715, 5716, 5717, 5718, 5719, 5720, 5721, 5722, 5723, 5724, 5725, 5726, 5727, 5728, 5729, 5730, 5731, 5732, 5733, 5750, 5751, 5752, 5753, 5754, 5755, 5756, 5757, 5758, 5759, 5760, 5761, 5762, 5763, 5764, 5765, 5766, 5767, 5768, 5769, 5770, 5771, 5772, 5773, 5774, 5775, 5776, 5777, 5778, 5779, 5781, 5782, 5783, 5784, 5785, 5786, 5787, 5788, 5789, 5790, 5791, 5792, 5793, 5794, 5795, 5796, 5797, 5798, 5799, 5800, 5801, 5802, 5803, 5804, 5805, 5806, 5807, 5808, 5809, 5810, 5811, 5812, 5813, 5814, 5815, 5832, 5833, 5834, 5835, 5836, 5837, 5838, 5839, 5840, 5841, 5842, 5843, 5844, 5845, 5846, 5847, 5848, 5849, 5850, 5851, 5852, 5853, 5854, 5855, 5856, 5857, 5858, 5859, 5861, 5862, 5863, 5864, 5865, 5866, 5867, 5868, 5869, 5870, 5871, 5872, 5873, 5874, 5875, 5876, 5877, 5878, 5879, 5880, 5881, 5882, 5883, 5884, 5885, 5886, 5887, 5888, 5889, 5890, 5891, 5892, 5893, 5894, 5895, 5896, 5897, 5913, 5914, 5915, 5916, 5917, 5918, 5919, 5920, 5921, 5922, 5923, 5924, 5925, 5926, 5927, 5928, 5929, 5930, 5931, 5932, 5933, 5934, 5935, 5936, 5937, 5938, 5939, 5941, 5942, 5943, 5944, 5945, 5946, 5947, 5948, 5949, 5950, 5951, 5952, 5953, 5954, 5955, 5956, 5957, 5958, 5959, 5960, 5961, 5962, 5963, 5964, 5965, 5966, 5967, 5968, 5969, 5970, 5971, 5972, 5973, 5974, 5975, 5976, 5977, 5978, 5994, 5995, 5996, 5997, 5998, 5999, 6000, 6001, 6002, 6003, 6004, 6005, 6006, 6007, 6008, 6009, 6010, 6011, 6012, 6013, 6014, 6015, 6016, 6017, 6018, 6019, 6021, 6022, 6023, 6024, 6025, 6026, 6027, 6028, 6029, 6030, 6031, 6032, 6033, 6034, 6035, 6036, 6037, 6038, 6039, 6040, 6041, 6042, 6043, 6044, 6045, 6046, 6047, 6048, 6049, 6050, 6051, 6052, 6053, 6054, 6055, 6056, 6057, 6058, 6059, 6060, 6075, 6076, 6077, 6078, 6079, 6080, 6081, 6082, 6083, 6084, 6085, 6086, 6087, 6088, 6089, 6090, 6091, 6092, 6093, 6094, 6095, 6096, 6097, 6098, 6099, 6101, 6102, 6103, 6104, 6105, 6106, 6107, 6108, 6109, 6110, 6111, 6112, 6113, 6114, 6115, 6116, 6117, 6118, 6119, 6120, 6121, 6122, 6123, 6124, 6125, 6126, 6127, 6128, 6129, 6130, 6131, 6132, 6133, 6134, 6135, 6136, 6137, 6138, 6139, 6140, 6141, 6142, 6156, 6157, 6158, 6159, 6160, 6161, 6162, 6163, 6164, 6165, 6166, 6167, 6168, 6169, 6170, 6171, 6172, 6173, 6174, 6175, 6176, 6177, 6178, 6179, 6181, 6182, 6183, 6184, 6185, 6186, 6187, 6188, 6189, 6190, 6191, 6192, 6193, 6194, 6195, 6196, 6197, 6198, 6199, 6200, 6201, 6202, 6203, 6204, 6205, 6206, 6207, 6208, 6209, 6210, 6211, 6212, 6213, 6214, 6215, 6216, 6217, 6218, 6219, 6220, 6221, 6222, 6223, 6224, 6237, 6238, 6239, 6240, 6241, 6242, 6243, 6244, 6245, 6246, 6247, 6248, 6249, 6250, 6251, 6252, 6253, 6254, 6255, 6256, 6257, 6258, 6259, 6261, 6262, 6263, 6264, 6265, 6266, 6267, 6268, 6269, 6270, 6271, 6272, 6273, 6274, 6275, 6276, 6277, 6278, 6279, 6280, 6281, 6282, 6283, 6284, 6285, 6286, 6287, 6288, 6289, 6290, 6291, 6292, 6293, 6294, 6295, 6296, 6297, 6298, 6299, 6300, 6301, 6302, 6303, 6304, 6305, 6318, 6319, 6320, 6321, 6322, 6323, 6324, 6325, 6326, 6327, 6328, 6329, 6330, 6331, 6332, 6333, 6334, 6335, 6336, 6337, 6338, 6339, 6341, 6342, 6343, 6344, 6345, 6346, 6347, 6348, 6349, 6350, 6351, 6352, 6353, 6354, 6355, 6356, 6357, 6358, 6359, 6360, 6361, 6362, 6363, 6364, 6365, 6366, 6367, 6368, 6369, 6370, 6371, 6372, 6373, 6374, 6375, 6376, 6377, 6378, 6379, 6380, 6381, 6382, 6383, 6384, 6385, 6386, 6387, 6399, 6400, 6401, 6402, 6403, 6404, 6405, 6406, 6407, 6408, 6409, 6410, 6411, 6412, 6413, 6414, 6415, 6416, 6417, 6418, 6419, 6421, 6422, 6423, 6424, 6425, 6426, 6427, 6428, 6429, 6430, 6431, 6432, 6433, 6434, 6435, 6436, 6437, 6438, 6439, 6440, 6441, 6442, 6443, 6444, 6445, 6446, 6447, 6448, 6449, 6450, 6451, 6452, 6453, 6454, 6455, 6456, 6457, 6458, 6459, 6460, 6461, 6462, 6463, 6464, 6465, 6466, 6467, 6468, 6469, 6480, 6481, 6482, 6483, 6484, 6485, 6486, 6487, 6488, 6489, 6490, 6491, 6492, 6493, 6494, 6495, 6496, 6497, 6498, 6499, 6501, 6502, 6503, 6504, 6505, 6506, 6507, 6508, 6509, 6510, 6511, 6512, 6513, 6514, 6515, 6516, 6517, 6518, 6519, 6520, 6521, 6522, 6523, 6524, 6525, 6526, 6527, 6528, 6529, 6530, 6531, 6532, 6533, 6534, 6535, 6536, 6537, 6538, 6539, 6540, 6541, 6542, 6543, 6544, 6545, 6546, 6547, 6548, 6549, 6550, 6551]\n",
      "val ids:  []\n",
      "test ids:  [0, 1, 2, 3, 4, 5, 6, 7, 8, 9, 10, 11, 12, 40, 81, 82, 83, 84, 85, 86, 87, 88, 89, 90, 91, 92, 93, 94, 120, 162, 163, 164, 165, 166, 167, 168, 169, 170, 171, 172, 173, 174, 175, 200, 243, 244, 245, 246, 247, 248, 249, 250, 251, 252, 253, 254, 255, 256, 257, 280, 324, 325, 326, 327, 328, 329, 330, 331, 332, 333, 334, 335, 336, 337, 338, 339, 360, 405, 406, 407, 408, 409, 410, 411, 412, 413, 414, 415, 416, 417, 418, 419, 420, 421, 440, 486, 487, 488, 489, 490, 491, 492, 493, 494, 495, 496, 497, 498, 499, 500, 501, 502, 520, 567, 568, 569, 570, 571, 572, 573, 574, 575, 576, 577, 578, 579, 580, 581, 582, 583, 584, 600, 648, 649, 650, 651, 652, 653, 654, 655, 656, 657, 658, 659, 660, 661, 662, 663, 664, 665, 666, 680, 729, 730, 731, 732, 733, 734, 735, 736, 737, 738, 739, 740, 741, 742, 743, 744, 745, 746, 747, 748, 760, 810, 811, 812, 813, 814, 815, 816, 817, 818, 819, 820, 821, 822, 823, 824, 825, 826, 827, 828, 829, 840, 891, 892, 893, 894, 895, 896, 897, 898, 899, 900, 901, 902, 903, 904, 905, 906, 907, 908, 909, 910, 911, 920, 972, 973, 974, 975, 976, 977, 978, 979, 980, 981, 982, 983, 984, 985, 986, 987, 988, 989, 990, 991, 992, 993, 1000, 1053, 1054, 1055, 1056, 1057, 1058, 1059, 1060, 1061, 1062, 1063, 1064, 1065, 1066, 1067, 1068, 1069, 1070, 1071, 1072, 1073, 1074, 1075, 1080, 1135, 1136, 1137, 1138, 1139, 1140, 1141, 1142, 1143, 1144, 1145, 1146, 1147, 1148, 1149, 1150, 1151, 1152, 1153, 1154, 1155, 1156, 1160, 1217, 1218, 1219, 1220, 1221, 1222, 1223, 1224, 1225, 1226, 1227, 1228, 1229, 1230, 1231, 1232, 1233, 1234, 1235, 1236, 1237, 1238, 1240, 1300, 1301, 1302, 1303, 1304, 1305, 1306, 1307, 1308, 1309, 1310, 1311, 1312, 1313, 1314, 1315, 1316, 1317, 1318, 1319, 1320, 1382, 1383, 1384, 1385, 1386, 1387, 1388, 1389, 1390, 1391, 1392, 1393, 1394, 1395, 1396, 1397, 1398, 1399, 1400, 1401, 1465, 1466, 1467, 1468, 1469, 1470, 1471, 1472, 1473, 1474, 1475, 1476, 1477, 1478, 1479, 1480, 1481, 1482, 1483, 1547, 1548, 1549, 1550, 1551, 1552, 1553, 1554, 1555, 1556, 1557, 1558, 1559, 1560, 1561, 1562, 1563, 1564, 1565, 1629, 1630, 1631, 1632, 1633, 1634, 1635, 1636, 1637, 1638, 1639, 1640, 1641, 1642, 1643, 1644, 1645, 1646, 1647, 1700, 1712, 1713, 1714, 1715, 1716, 1717, 1718, 1719, 1720, 1721, 1722, 1723, 1724, 1725, 1726, 1727, 1728, 1780, 1794, 1795, 1796, 1797, 1798, 1799, 1800, 1801, 1802, 1803, 1804, 1805, 1806, 1807, 1808, 1809, 1810, 1860, 1877, 1878, 1879, 1880, 1881, 1882, 1883, 1884, 1885, 1886, 1887, 1888, 1889, 1890, 1891, 1892, 1940, 1959, 1960, 1961, 1962, 1963, 1964, 1965, 1966, 1967, 1968, 1969, 1970, 1971, 1972, 1973, 1974, 2020, 2040, 2041, 2042, 2043, 2044, 2045, 2046, 2047, 2048, 2049, 2050, 2051, 2052, 2053, 2054, 2055, 2100, 2120, 2124, 2125, 2126, 2127, 2128, 2129, 2130, 2131, 2132, 2133, 2134, 2135, 2136, 2137, 2180, 2200, 2206, 2207, 2208, 2209, 2210, 2211, 2212, 2213, 2214, 2215, 2216, 2217, 2218, 2219, 2260, 2280, 2289, 2290, 2291, 2292, 2293, 2294, 2295, 2296, 2297, 2298, 2299, 2300, 2340, 2360, 2371, 2372, 2373, 2374, 2375, 2376, 2377, 2378, 2379, 2380, 2381, 2382, 2420, 2440, 2454, 2455, 2456, 2457, 2458, 2459, 2460, 2461, 2462, 2463, 2464, 2500, 2520, 2536, 2537, 2538, 2539, 2540, 2541, 2542, 2543, 2544, 2545, 2546, 2580, 2600, 2618, 2619, 2620, 2621, 2622, 2623, 2624, 2625, 2626, 2627, 2660, 2680, 2701, 2702, 2703, 2704, 2705, 2706, 2707, 2708, 2709, 2740, 2760, 2783, 2784, 2785, 2786, 2787, 2788, 2789, 2790, 2791, 2820, 2840, 2866, 2867, 2868, 2869, 2870, 2871, 2872, 2873, 2900, 2920, 2948, 2949, 2950, 2951, 2952, 2953, 2954, 2980, 3000, 3030, 3031, 3032, 3033, 3034, 3035, 3036, 3060, 3080, 3113, 3114, 3115, 3116, 3117, 3118, 3140, 3160, 3195, 3196, 3197, 3198, 3199, 3200, 3220, 3240, 3278, 3279, 3280, 3281, 3300, 3360, 3361, 3362, 3363, 3380, 3443, 3444, 3445, 3460, 3525, 3526, 3540, 3607, 3608, 3620, 3690, 3700, 3772, 3780, 3854, 3860, 3936, 3940, 4018, 4019, 4020, 4099, 4100, 4101, 4180, 4181, 4182, 4183, 4260, 4263, 4264, 4265, 4266, 4340, 4345, 4346, 4347, 4348, 4420, 4427, 4428, 4429, 4430, 4431, 4500, 4508, 4509, 4510, 4511, 4512, 4513, 4580, 4590, 4591, 4592, 4593, 4594, 4595, 4660, 4672, 4673, 4674, 4675, 4676, 4677, 4678, 4740, 4753, 4754, 4755, 4756, 4757, 4758, 4759, 4760, 4820, 4835, 4836, 4837, 4838, 4839, 4840, 4841, 4842, 4843, 4900, 4917, 4918, 4919, 4920, 4921, 4922, 4923, 4924, 4925, 4980, 4999, 5000, 5001, 5002, 5003, 5004, 5005, 5006, 5007, 5060, 5080, 5081, 5082, 5083, 5084, 5085, 5086, 5087, 5088, 5089, 5090, 5140, 5162, 5163, 5164, 5165, 5166, 5167, 5168, 5169, 5170, 5171, 5172, 5220, 5244, 5245, 5246, 5247, 5248, 5249, 5250, 5251, 5252, 5253, 5254, 5255, 5300, 5326, 5327, 5328, 5329, 5330, 5331, 5332, 5333, 5334, 5335, 5336, 5337, 5380, 5407, 5408, 5409, 5410, 5411, 5412, 5413, 5414, 5415, 5416, 5417, 5418, 5419, 5420, 5460, 5489, 5490, 5491, 5492, 5493, 5494, 5495, 5496, 5497, 5498, 5499, 5500, 5501, 5502, 5540, 5571, 5572, 5573, 5574, 5575, 5576, 5577, 5578, 5579, 5580, 5581, 5582, 5583, 5584, 5620, 5653, 5654, 5655, 5656, 5657, 5658, 5659, 5660, 5661, 5662, 5663, 5664, 5665, 5666, 5667, 5700, 5734, 5735, 5736, 5737, 5738, 5739, 5740, 5741, 5742, 5743, 5744, 5745, 5746, 5747, 5748, 5749, 5780, 5816, 5817, 5818, 5819, 5820, 5821, 5822, 5823, 5824, 5825, 5826, 5827, 5828, 5829, 5830, 5831, 5860, 5898, 5899, 5900, 5901, 5902, 5903, 5904, 5905, 5906, 5907, 5908, 5909, 5910, 5911, 5912, 5940, 5979, 5980, 5981, 5982, 5983, 5984, 5985, 5986, 5987, 5988, 5989, 5990, 5991, 5992, 5993, 6020, 6061, 6062, 6063, 6064, 6065, 6066, 6067, 6068, 6069, 6070, 6071, 6072, 6073, 6074, 6100, 6143, 6144, 6145, 6146, 6147, 6148, 6149, 6150, 6151, 6152, 6153, 6154, 6155, 6180, 6225, 6226, 6227, 6228, 6229, 6230, 6231, 6232, 6233, 6234, 6235, 6236, 6260, 6306, 6307, 6308, 6309, 6310, 6311, 6312, 6313, 6314, 6315, 6316, 6317, 6340, 6388, 6389, 6390, 6391, 6392, 6393, 6394, 6395, 6396, 6397, 6398, 6420, 6470, 6471, 6472, 6473, 6474, 6475, 6476, 6477, 6478, 6479, 6500, 6552, 6553, 6554, 6555, 6556, 6557, 6558, 6559, 6560]\n",
      "CPU times: user 167 ms, sys: 19.9 ms, total: 187 ms\n",
      "Wall time: 190 ms\n"
     ]
    }
   ],
   "source": [
    "%%time\n",
    "n_total = len(simulation.dataframe)\n",
    "n_train = len(simulation.dataframe[simulation.dataframe.type_of == \"train\"])\n",
    "n_val = len(simulation.dataframe[simulation.dataframe.type_of == \"val\"])\n",
    "n_test = len(simulation.dataframe[simulation.dataframe.type_of == \"test\"])\n",
    "n_train_hamiltonians = len(simulation.train_ids)\n",
    "n_val_hamiltonians = len(simulation.val_ids)\n",
    "n_test_hamiltonians = len(simulation.test_ids)\n",
    "n_total_hamiltonians = n_train_hamiltonians + n_val_hamiltonians + n_test_hamiltonians\n",
    "\n",
    "print(\"% train: \", n_train/n_total)\n",
    "print(\"% val: \",  n_val/n_total)\n",
    "print(\"% test: \", n_test/n_total)\n",
    "print(\"% train + val + test: \", (n_train+n_val+n_test)/n_total)\n",
    "print(\"\\n\")\n",
    "print(\"number of train hamiltonians: \", n_train_hamiltonians)\n",
    "print(\"number of val hamiltonians: \", n_val_hamiltonians)\n",
    "print(\"number of test hamiltonians: \", n_test_hamiltonians)\n",
    "print(\"total number of hamiltonians: \", n_total_hamiltonians)\n",
    "print(\"\\n\")\n",
    "print(\"train ids: \", simulation.train_ids)\n",
    "print(\"val ids: \", simulation.val_ids)\n",
    "print(\"test ids: \", simulation.test_ids)"
   ]
  },
  {
   "cell_type": "markdown",
   "metadata": {
    "papermill": {
     "duration": 0.01963,
     "end_time": "2020-07-09T08:15:51.802851",
     "exception": false,
     "start_time": "2020-07-09T08:15:51.783221",
     "status": "completed"
    },
    "tags": []
   },
   "source": [
    "## Running a simulation"
   ]
  },
  {
   "cell_type": "code",
   "execution_count": 23,
   "metadata": {
    "execution": {
     "iopub.execute_input": "2020-07-09T08:15:51.841618Z",
     "iopub.status.busy": "2020-07-09T08:15:51.841189Z",
     "iopub.status.idle": "2020-07-09T08:17:03.127274Z",
     "shell.execute_reply": "2020-07-09T08:17:03.127573Z"
    },
    "papermill": {
     "duration": 71.307343,
     "end_time": "2020-07-09T08:17:03.127637",
     "exception": false,
     "start_time": "2020-07-09T08:15:51.820294",
     "status": "completed"
    },
    "tags": []
   },
   "outputs": [
    {
     "name": "stderr",
     "output_type": "stream",
     "text": [
      "\r",
      "running experiments:   0%|          | 0/5 [00:00<?, ?it/s]"
     ]
    },
    {
     "name": "stderr",
     "output_type": "stream",
     "text": [
      "\r",
      "running experiments:  20%|██        | 1/5 [00:14<00:56, 14.05s/it]"
     ]
    },
    {
     "name": "stderr",
     "output_type": "stream",
     "text": [
      "\r",
      "running experiments:  40%|████      | 2/5 [00:28<00:42, 14.18s/it]"
     ]
    },
    {
     "name": "stderr",
     "output_type": "stream",
     "text": [
      "\r",
      "running experiments:  60%|██████    | 3/5 [00:42<00:28, 14.12s/it]"
     ]
    },
    {
     "name": "stderr",
     "output_type": "stream",
     "text": [
      "\r",
      "running experiments:  80%|████████  | 4/5 [00:56<00:14, 14.17s/it]"
     ]
    },
    {
     "name": "stderr",
     "output_type": "stream",
     "text": [
      "\r",
      "running experiments: 100%|██████████| 5/5 [01:11<00:00, 14.26s/it]"
     ]
    },
    {
     "name": "stderr",
     "output_type": "stream",
     "text": [
      "\r",
      "running experiments: 100%|██████████| 5/5 [01:11<00:00, 14.25s/it]"
     ]
    },
    {
     "name": "stdout",
     "output_type": "stream",
     "text": [
      "CPU times: user 7min 26s, sys: 1.63 s, total: 7min 28s\n",
      "Wall time: 1min 11s\n"
     ]
    },
    {
     "name": "stderr",
     "output_type": "stream",
     "text": [
      "\n"
     ]
    }
   ],
   "source": [
    "%%time\n",
    "simulation.run_simulation(n_experiments, start_n, fit_params,shuffle_rows, pred_params, random_features, \\\n",
    "                          store_in_lists, save_eigenvector, save_hamiltonian, save_accuracy,\\\n",
    "                          save_models)\n",
    "if simulation.fourier_mode is not None:\n",
    "    simulation.fourier_dataframe.head(10)"
   ]
  },
  {
   "cell_type": "code",
   "execution_count": 24,
   "metadata": {
    "execution": {
     "iopub.execute_input": "2020-07-09T08:17:03.169933Z",
     "iopub.status.busy": "2020-07-09T08:17:03.169625Z",
     "iopub.status.idle": "2020-07-09T08:17:03.193757Z",
     "shell.execute_reply": "2020-07-09T08:17:03.193440Z"
    },
    "papermill": {
     "duration": 0.04662,
     "end_time": "2020-07-09T08:17:03.193809",
     "exception": false,
     "start_time": "2020-07-09T08:17:03.147189",
     "status": "completed"
    },
    "tags": []
   },
   "outputs": [
    {
     "data": {
      "text/html": [
       "<div>\n",
       "<style scoped>\n",
       "    .dataframe tbody tr th:only-of-type {\n",
       "        vertical-align: middle;\n",
       "    }\n",
       "\n",
       "    .dataframe tbody tr th {\n",
       "        vertical-align: top;\n",
       "    }\n",
       "\n",
       "    .dataframe thead th {\n",
       "        text-align: right;\n",
       "    }\n",
       "</style>\n",
       "<table border=\"1\" class=\"dataframe\">\n",
       "  <thead>\n",
       "    <tr style=\"text-align: right;\">\n",
       "      <th></th>\n",
       "      <th>id</th>\n",
       "      <th>path</th>\n",
       "      <th>t1</th>\n",
       "      <th>t2</th>\n",
       "      <th>winding</th>\n",
       "      <th>phase</th>\n",
       "      <th>pred_phase</th>\n",
       "      <th>type_of</th>\n",
       "      <th>feat0</th>\n",
       "      <th>feat1</th>\n",
       "      <th>...</th>\n",
       "      <th>feat90</th>\n",
       "      <th>feat91</th>\n",
       "      <th>feat92</th>\n",
       "      <th>feat93</th>\n",
       "      <th>feat94</th>\n",
       "      <th>feat95</th>\n",
       "      <th>feat96</th>\n",
       "      <th>feat97</th>\n",
       "      <th>feat98</th>\n",
       "      <th>feat99</th>\n",
       "    </tr>\n",
       "  </thead>\n",
       "  <tbody>\n",
       "    <tr>\n",
       "      <th>0</th>\n",
       "      <td>0</td>\n",
       "      <td>H_-2_-2_0.501338.dat</td>\n",
       "      <td>-2.0</td>\n",
       "      <td>-2.0</td>\n",
       "      <td>0.501338</td>\n",
       "      <td>999</td>\n",
       "      <td>666</td>\n",
       "      <td>test</td>\n",
       "      <td>-0.130965</td>\n",
       "      <td>0.301130</td>\n",
       "      <td>...</td>\n",
       "      <td>-0.080279</td>\n",
       "      <td>-0.115687</td>\n",
       "      <td>-0.174988</td>\n",
       "      <td>0.245064</td>\n",
       "      <td>0.319763</td>\n",
       "      <td>-0.059082</td>\n",
       "      <td>-0.000556</td>\n",
       "      <td>-0.245133</td>\n",
       "      <td>-0.301130</td>\n",
       "      <td>0.130965</td>\n",
       "    </tr>\n",
       "    <tr>\n",
       "      <th>1</th>\n",
       "      <td>0</td>\n",
       "      <td>H_-2_-2_0.501338.dat</td>\n",
       "      <td>-2.0</td>\n",
       "      <td>-2.0</td>\n",
       "      <td>0.501338</td>\n",
       "      <td>999</td>\n",
       "      <td>666</td>\n",
       "      <td>test</td>\n",
       "      <td>-0.130965</td>\n",
       "      <td>-0.301130</td>\n",
       "      <td>...</td>\n",
       "      <td>-0.080279</td>\n",
       "      <td>0.115687</td>\n",
       "      <td>-0.174988</td>\n",
       "      <td>-0.245064</td>\n",
       "      <td>0.319763</td>\n",
       "      <td>0.059082</td>\n",
       "      <td>-0.000556</td>\n",
       "      <td>0.245133</td>\n",
       "      <td>-0.301130</td>\n",
       "      <td>-0.130965</td>\n",
       "    </tr>\n",
       "    <tr>\n",
       "      <th>2</th>\n",
       "      <td>0</td>\n",
       "      <td>H_-2_-2_0.501338.dat</td>\n",
       "      <td>-2.0</td>\n",
       "      <td>-2.0</td>\n",
       "      <td>0.501338</td>\n",
       "      <td>999</td>\n",
       "      <td>666</td>\n",
       "      <td>test</td>\n",
       "      <td>-0.148414</td>\n",
       "      <td>-0.042467</td>\n",
       "      <td>...</td>\n",
       "      <td>0.185442</td>\n",
       "      <td>-0.080620</td>\n",
       "      <td>-0.066211</td>\n",
       "      <td>-0.121339</td>\n",
       "      <td>-0.151700</td>\n",
       "      <td>0.192513</td>\n",
       "      <td>0.191642</td>\n",
       "      <td>-0.050956</td>\n",
       "      <td>-0.042467</td>\n",
       "      <td>-0.148414</td>\n",
       "    </tr>\n",
       "    <tr>\n",
       "      <th>3</th>\n",
       "      <td>0</td>\n",
       "      <td>H_-2_-2_0.501338.dat</td>\n",
       "      <td>-2.0</td>\n",
       "      <td>-2.0</td>\n",
       "      <td>0.501338</td>\n",
       "      <td>999</td>\n",
       "      <td>666</td>\n",
       "      <td>test</td>\n",
       "      <td>-0.069630</td>\n",
       "      <td>-0.026147</td>\n",
       "      <td>...</td>\n",
       "      <td>0.102009</td>\n",
       "      <td>-0.100671</td>\n",
       "      <td>-0.081002</td>\n",
       "      <td>-0.020715</td>\n",
       "      <td>-0.058717</td>\n",
       "      <td>0.115834</td>\n",
       "      <td>0.118274</td>\n",
       "      <td>-0.054666</td>\n",
       "      <td>-0.026147</td>\n",
       "      <td>-0.069630</td>\n",
       "    </tr>\n",
       "    <tr>\n",
       "      <th>4</th>\n",
       "      <td>0</td>\n",
       "      <td>H_-2_-2_0.501338.dat</td>\n",
       "      <td>-2.0</td>\n",
       "      <td>-2.0</td>\n",
       "      <td>0.501338</td>\n",
       "      <td>999</td>\n",
       "      <td>666</td>\n",
       "      <td>test</td>\n",
       "      <td>0.010206</td>\n",
       "      <td>-0.014625</td>\n",
       "      <td>...</td>\n",
       "      <td>0.047555</td>\n",
       "      <td>-0.041368</td>\n",
       "      <td>-0.018852</td>\n",
       "      <td>-0.017673</td>\n",
       "      <td>-0.023377</td>\n",
       "      <td>0.031447</td>\n",
       "      <td>0.010280</td>\n",
       "      <td>0.000925</td>\n",
       "      <td>0.014625</td>\n",
       "      <td>-0.010206</td>\n",
       "    </tr>\n",
       "    <tr>\n",
       "      <th>5</th>\n",
       "      <td>0</td>\n",
       "      <td>H_-2_-2_0.501338.dat</td>\n",
       "      <td>-2.0</td>\n",
       "      <td>-2.0</td>\n",
       "      <td>0.501338</td>\n",
       "      <td>999</td>\n",
       "      <td>666</td>\n",
       "      <td>test</td>\n",
       "      <td>0.116962</td>\n",
       "      <td>0.021475</td>\n",
       "      <td>...</td>\n",
       "      <td>-0.086901</td>\n",
       "      <td>-0.045676</td>\n",
       "      <td>-0.028034</td>\n",
       "      <td>0.129266</td>\n",
       "      <td>0.130083</td>\n",
       "      <td>-0.098190</td>\n",
       "      <td>-0.104188</td>\n",
       "      <td>-0.007911</td>\n",
       "      <td>0.021475</td>\n",
       "      <td>0.116962</td>\n",
       "    </tr>\n",
       "    <tr>\n",
       "      <th>6</th>\n",
       "      <td>0</td>\n",
       "      <td>H_-2_-2_0.501338.dat</td>\n",
       "      <td>-2.0</td>\n",
       "      <td>-2.0</td>\n",
       "      <td>0.501338</td>\n",
       "      <td>999</td>\n",
       "      <td>666</td>\n",
       "      <td>test</td>\n",
       "      <td>0.037175</td>\n",
       "      <td>-0.095882</td>\n",
       "      <td>...</td>\n",
       "      <td>-0.027490</td>\n",
       "      <td>0.046168</td>\n",
       "      <td>0.063419</td>\n",
       "      <td>-0.041630</td>\n",
       "      <td>-0.085769</td>\n",
       "      <td>-0.010604</td>\n",
       "      <td>-0.009822</td>\n",
       "      <td>0.084024</td>\n",
       "      <td>0.095882</td>\n",
       "      <td>-0.037175</td>\n",
       "    </tr>\n",
       "    <tr>\n",
       "      <th>7</th>\n",
       "      <td>0</td>\n",
       "      <td>H_-2_-2_0.501338.dat</td>\n",
       "      <td>-2.0</td>\n",
       "      <td>-2.0</td>\n",
       "      <td>0.501338</td>\n",
       "      <td>999</td>\n",
       "      <td>666</td>\n",
       "      <td>test</td>\n",
       "      <td>0.027709</td>\n",
       "      <td>-0.038180</td>\n",
       "      <td>...</td>\n",
       "      <td>0.123344</td>\n",
       "      <td>-0.114320</td>\n",
       "      <td>-0.057118</td>\n",
       "      <td>-0.040291</td>\n",
       "      <td>-0.061263</td>\n",
       "      <td>0.087153</td>\n",
       "      <td>0.029599</td>\n",
       "      <td>-0.001276</td>\n",
       "      <td>0.038180</td>\n",
       "      <td>-0.027709</td>\n",
       "    </tr>\n",
       "    <tr>\n",
       "      <th>8</th>\n",
       "      <td>0</td>\n",
       "      <td>H_-2_-2_0.501338.dat</td>\n",
       "      <td>-2.0</td>\n",
       "      <td>-2.0</td>\n",
       "      <td>0.501338</td>\n",
       "      <td>999</td>\n",
       "      <td>666</td>\n",
       "      <td>test</td>\n",
       "      <td>0.059795</td>\n",
       "      <td>0.030272</td>\n",
       "      <td>...</td>\n",
       "      <td>-0.082347</td>\n",
       "      <td>0.140996</td>\n",
       "      <td>0.128386</td>\n",
       "      <td>-0.036608</td>\n",
       "      <td>0.029628</td>\n",
       "      <td>-0.124877</td>\n",
       "      <td>-0.140478</td>\n",
       "      <td>0.088573</td>\n",
       "      <td>0.030272</td>\n",
       "      <td>0.059795</td>\n",
       "    </tr>\n",
       "    <tr>\n",
       "      <th>9</th>\n",
       "      <td>0</td>\n",
       "      <td>H_-2_-2_0.501338.dat</td>\n",
       "      <td>-2.0</td>\n",
       "      <td>-2.0</td>\n",
       "      <td>0.501338</td>\n",
       "      <td>999</td>\n",
       "      <td>666</td>\n",
       "      <td>test</td>\n",
       "      <td>0.141605</td>\n",
       "      <td>0.013497</td>\n",
       "      <td>...</td>\n",
       "      <td>-0.035718</td>\n",
       "      <td>-0.110014</td>\n",
       "      <td>-0.082452</td>\n",
       "      <td>0.146084</td>\n",
       "      <td>0.152588</td>\n",
       "      <td>-0.067575</td>\n",
       "      <td>-0.087187</td>\n",
       "      <td>-0.043484</td>\n",
       "      <td>0.013497</td>\n",
       "      <td>0.141605</td>\n",
       "    </tr>\n",
       "  </tbody>\n",
       "</table>\n",
       "<p>10 rows × 108 columns</p>\n",
       "</div>"
      ],
      "text/plain": [
       "   id                  path   t1   t2   winding  phase  pred_phase type_of  \\\n",
       "0   0  H_-2_-2_0.501338.dat -2.0 -2.0  0.501338    999         666    test   \n",
       "1   0  H_-2_-2_0.501338.dat -2.0 -2.0  0.501338    999         666    test   \n",
       "2   0  H_-2_-2_0.501338.dat -2.0 -2.0  0.501338    999         666    test   \n",
       "3   0  H_-2_-2_0.501338.dat -2.0 -2.0  0.501338    999         666    test   \n",
       "4   0  H_-2_-2_0.501338.dat -2.0 -2.0  0.501338    999         666    test   \n",
       "5   0  H_-2_-2_0.501338.dat -2.0 -2.0  0.501338    999         666    test   \n",
       "6   0  H_-2_-2_0.501338.dat -2.0 -2.0  0.501338    999         666    test   \n",
       "7   0  H_-2_-2_0.501338.dat -2.0 -2.0  0.501338    999         666    test   \n",
       "8   0  H_-2_-2_0.501338.dat -2.0 -2.0  0.501338    999         666    test   \n",
       "9   0  H_-2_-2_0.501338.dat -2.0 -2.0  0.501338    999         666    test   \n",
       "\n",
       "      feat0     feat1  ...    feat90    feat91    feat92    feat93    feat94  \\\n",
       "0 -0.130965  0.301130  ... -0.080279 -0.115687 -0.174988  0.245064  0.319763   \n",
       "1 -0.130965 -0.301130  ... -0.080279  0.115687 -0.174988 -0.245064  0.319763   \n",
       "2 -0.148414 -0.042467  ...  0.185442 -0.080620 -0.066211 -0.121339 -0.151700   \n",
       "3 -0.069630 -0.026147  ...  0.102009 -0.100671 -0.081002 -0.020715 -0.058717   \n",
       "4  0.010206 -0.014625  ...  0.047555 -0.041368 -0.018852 -0.017673 -0.023377   \n",
       "5  0.116962  0.021475  ... -0.086901 -0.045676 -0.028034  0.129266  0.130083   \n",
       "6  0.037175 -0.095882  ... -0.027490  0.046168  0.063419 -0.041630 -0.085769   \n",
       "7  0.027709 -0.038180  ...  0.123344 -0.114320 -0.057118 -0.040291 -0.061263   \n",
       "8  0.059795  0.030272  ... -0.082347  0.140996  0.128386 -0.036608  0.029628   \n",
       "9  0.141605  0.013497  ... -0.035718 -0.110014 -0.082452  0.146084  0.152588   \n",
       "\n",
       "     feat95    feat96    feat97    feat98    feat99  \n",
       "0 -0.059082 -0.000556 -0.245133 -0.301130  0.130965  \n",
       "1  0.059082 -0.000556  0.245133 -0.301130 -0.130965  \n",
       "2  0.192513  0.191642 -0.050956 -0.042467 -0.148414  \n",
       "3  0.115834  0.118274 -0.054666 -0.026147 -0.069630  \n",
       "4  0.031447  0.010280  0.000925  0.014625 -0.010206  \n",
       "5 -0.098190 -0.104188 -0.007911  0.021475  0.116962  \n",
       "6 -0.010604 -0.009822  0.084024  0.095882 -0.037175  \n",
       "7  0.087153  0.029599 -0.001276  0.038180 -0.027709  \n",
       "8 -0.124877 -0.140478  0.088573  0.030272  0.059795  \n",
       "9 -0.067575 -0.087187 -0.043484  0.013497  0.141605  \n",
       "\n",
       "[10 rows x 108 columns]"
      ]
     },
     "execution_count": 24,
     "metadata": {},
     "output_type": "execute_result"
    }
   ],
   "source": [
    "simulation.dataframe.head(10)"
   ]
  },
  {
   "cell_type": "markdown",
   "metadata": {
    "papermill": {
     "duration": 0.020013,
     "end_time": "2020-07-09T08:17:03.235205",
     "exception": false,
     "start_time": "2020-07-09T08:17:03.215192",
     "status": "completed"
    },
    "tags": []
   },
   "source": [
    "#### Viewing a random sample"
   ]
  },
  {
   "cell_type": "code",
   "execution_count": 25,
   "metadata": {
    "execution": {
     "iopub.execute_input": "2020-07-09T08:17:03.278011Z",
     "iopub.status.busy": "2020-07-09T08:17:03.277688Z",
     "iopub.status.idle": "2020-07-09T08:17:03.338338Z",
     "shell.execute_reply": "2020-07-09T08:17:03.337969Z"
    },
    "papermill": {
     "duration": 0.08328,
     "end_time": "2020-07-09T08:17:03.338395",
     "exception": false,
     "start_time": "2020-07-09T08:17:03.255115",
     "status": "completed"
    },
    "tags": []
   },
   "outputs": [
    {
     "name": "stdout",
     "output_type": "stream",
     "text": [
      "CPU times: user 19.5 ms, sys: 0 ns, total: 19.5 ms\n",
      "Wall time: 19.3 ms\n"
     ]
    }
   ],
   "source": [
    "%%time\n",
    "if simulation.fourier_mode is not None:\n",
    "    simulation.fourier_dataframe.sample(frac=0.1, replace=False)"
   ]
  },
  {
   "cell_type": "markdown",
   "metadata": {
    "papermill": {
     "duration": 0.02205,
     "end_time": "2020-07-09T08:17:03.384010",
     "exception": false,
     "start_time": "2020-07-09T08:17:03.361960",
     "status": "completed"
    },
    "tags": []
   },
   "source": [
    "#### Checking train/val/test splits again"
   ]
  },
  {
   "cell_type": "code",
   "execution_count": 26,
   "metadata": {
    "execution": {
     "iopub.execute_input": "2020-07-09T08:17:03.425957Z",
     "iopub.status.busy": "2020-07-09T08:17:03.425633Z",
     "iopub.status.idle": "2020-07-09T08:17:03.614004Z",
     "shell.execute_reply": "2020-07-09T08:17:03.614260Z"
    },
    "papermill": {
     "duration": 0.2098,
     "end_time": "2020-07-09T08:17:03.614327",
     "exception": false,
     "start_time": "2020-07-09T08:17:03.404527",
     "status": "completed"
    },
    "tags": []
   },
   "outputs": [
    {
     "name": "stdout",
     "output_type": "stream",
     "text": [
      "% train:  0.4208199969516842\n",
      "% val:  0.42066758116140834\n",
      "% test:  0.15851242188690748\n",
      "% train + val + test:  1.0\n",
      "\n",
      "\n",
      "number of train hamiltonians:  2761\n",
      "number of val hamiltonians:  2760\n",
      "number of test hamiltonians:  1040\n",
      "total number of hamiltonians:  6561\n",
      "\n",
      "\n",
      "train ids:  [785, 2882, 4984, 1451, 4315, 723, 5446, 3382, 5964, 5777, 2195, 2639, 6198, 2777, 3558, 4219, 5711, 2717, 2080, 2862, 3432, 4389, 6328, 5452, 960, 1605, 5279, 3517, 5235, 4017, 2471, 386, 3737, 3807, 193, 2957, 4728, 5269, 3699, 5199, 4791, 3471, 4587, 4465, 5216, 527, 4016, 5605, 3829, 6224, 1020, 2853, 6342, 3039, 4308, 4776, 5338, 1813, 5671, 3095, 948, 2009, 5729, 2038, 4410, 3498, 6521, 714, 6205, 3011, 1838, 2715, 2341, 4723, 3966, 3091, 4284, 3972, 1132, 3344, 850, 4988, 530, 1759, 2758, 1567, 3237, 1296, 2887, 3365, 72, 4860, 4893, 4605, 3267, 3815, 2636, 6135, 6524, 4256, 4890, 4414, 5684, 4359, 3640, 5297, 1177, 1344, 1381, 3830, 3370, 6514, 3922, 5034, 1591, 6117, 2981, 1342, 1598, 3870, 6022, 5304, 432, 3476, 4449, 5870, 5704, 2644, 388, 4982, 6374, 515, 52, 1693, 4354, 1957, 3951, 3524, 2528, 3315, 4998, 4443, 3841, 2977, 3769, 297, 4137, 2965, 808, 2113, 3374, 4007, 3520, 2654, 2799, 1946, 1615, 6485, 4077, 152, 5712, 3647, 5465, 4598, 343, 4790, 4471, 5836, 874, 1921, 2184, 375, 1359, 1081, 3942, 4707, 6051, 6038, 6407, 3628, 6324, 4502, 4403, 6365, 1756, 46, 2643, 5233, 3646, 5294, 4737, 6502, 1587, 5340, 1758, 4615, 4297, 5437, 5313, 5094, 3828, 1770, 2910, 3101, 1980, 4810, 3308, 5947, 3326, 1265, 132, 4194, 4712, 3609, 4555, 3130, 4802, 6102, 4150, 1097, 5272, 6333, 2969, 1743, 4141, 3271, 4696, 3313, 444, 2140, 5507, 308, 2150, 1912, 2675, 367, 6268, 3744, 630, 1506, 3441, 1739, 3146, 3419, 5728, 1332, 3672, 4228, 2885, 4417, 3215, 434, 2225, 4466, 995, 6085, 4026, 3503, 5189, 240, 2442, 1019, 5548, 4199, 6193, 4093, 123, 6195, 2240, 6123, 2721, 4364, 4968, 3467, 3606, 2982, 587, 2991, 4863, 525, 4767, 6413, 4128, 4397, 4299, 6330, 5075, 3542, 5100, 4082, 1704, 6111, 1649, 4436, 3469, 5588, 620, 5114, 6301, 4697, 4828, 795, 4641, 2091, 3357, 2699, 605, 3253, 599, 2155, 3180, 274, 4973, 1269, 6262, 150, 6288, 6400, 5769, 2408, 4267, 1096, 1500, 2507, 4531, 6200, 398, 1268, 4899, 2947, 3574, 5869, 1993, 5102, 3599, 1370, 142, 5790, 2648, 2909, 1987, 1363, 3947, 1694, 5186, 6460, 1294, 140, 2326, 5511, 1735, 4402, 864, 5147, 1538, 4955, 2221, 3309, 2836, 3763, 6050, 4013, 934, 99, 1754, 2986, 4736, 4931, 6016, 6435, 3615, 135, 5027, 2592, 5783, 237, 2163, 270, 964, 4992, 5308, 1333, 5063, 1163, 5301, 5214, 6052, 4120, 1778, 1520, 1915, 3571, 6271, 1653, 5209, 3129, 5405, 4143, 3821, 5752, 3152, 2345, 5631, 3991, 3725, 3139, 3272, 883, 3259, 4870, 615, 1665, 1702, 1592, 157, 6091, 3176, 635, 5053, 3617, 3849, 5569, 351, 6114, 1077, 4400, 1866, 3793, 4929, 503, 14, 2035, 3151, 1761, 4725, 5996, 4185, 4283, 4495, 5651, 6196, 4021, 6416, 4799, 3120, 3484, 3193, 2723, 1958, 5148, 1201, 4826, 6211, 471, 3593, 3477, 2109, 2027, 3169, 6364, 3946, 588, 3457, 3501, 3642, 5713, 3021, 1790, 5455, 4089, 1001, 2158, 5854, 1289, 2330, 268, 6498, 4684, 565, 4381, 2555, 2926, 2057, 216, 4669, 6469, 4501, 5805, 2557, 5933, 3392, 3173, 300, 524, 4133, 4628, 208, 4574, 4368, 5129, 4108, 2010, 6120, 2437, 6526, 4084, 3502, 2745, 2468, 6322, 5565, 3553, 6273, 4981, 5440, 2492, 5719, 4163, 4261, 4569, 1671, 1293, 4159, 1411, 949, 3643, 5887, 2403, 1362, 6490, 3842, 890, 5566, 6090, 5375, 33, 705, 5585, 2827, 682, 6450, 6282, 873, 4067, 15, 5151, 1696, 5950, 3268, 4727, 2834, 3275, 1187, 3020, 1422, 5473, 3188, 6080, 1569, 22, 638, 971, 5315, 302, 2584, 4122, 6293, 1775, 3490, 2959, 4794, 551, 2357, 3965, 1676, 1981, 2944, 6445, 5916, 775, 4796, 3504, 3632, 5127, 4611, 3123, 713, 5289, 5037, 4543, 2067, 4970, 3897, 136, 2845, 3556, 1114, 6188, 1432, 2426, 1734, 1620, 148, 2497, 592, 5231, 1281, 5772, 5555, 517, 4818, 2483, 6346, 2730, 1614, 2253, 1834, 2609, 2824, 3750, 6054, 5262, 5467, 4963, 3439, 750, 1948, 2261, 6184, 4369, 1255, 4930, 2093, 4469, 4915, 940, 4405, 4792, 3894, 1174, 1351, 2486, 4151, 1050, 5535, 2698, 4969, 2283, 2503, 4272, 3298, 5529, 3836, 715, 799, 869, 4003, 4225, 2983, 2069, 863, 6529, 794, 5458, 4906, 3133, 5198, 266, 1583, 1819, 2895, 2963, 5972, 2875, 5275, 3124, 3715, 3087, 2573, 4220, 5210, 311, 5096, 4596, 2472, 4223, 2668, 3038, 1578, 1740, 3505, 1495, 5676, 3214, 2336, 5674, 4891, 35, 4540, 6528, 6004, 393, 5955, 4463, 4526, 463, 3952, 2365, 206, 259, 1280, 725, 3393, 5644, 301, 3845, 2590, 622, 4370, 3723, 6508, 3710, 5135, 459, 3592, 5217, 1197, 2935, 2533, 2428, 387, 2843, 4044, 2148, 3274, 4482, 5073, 1683, 832, 4235, 2930, 3270, 2177, 3022, 1504, 6055, 3971, 1338, 3880, 6319, 6204, 5673, 6034, 6214, 1617, 2505, 6372, 3652, 552, 29, 1984, 4030, 6221, 6326, 3055, 4608, 6190, 2063, 3788, 5047, 4550, 1975, 4475, 2733, 3781, 4781, 6296, 2512, 6030, 1604, 4351, 5461, 888, 4492, 5444, 3012, 5730, 4179, 6427, 801, 1736, 4876, 5403, 6059, 2072, 461, 5894, 267, 269, 3960, 4967, 2485, 2589, 3288, 1979, 4165, 1589, 3694, 3159, 4079, 5389, 3225, 3598, 4798, 5864, 3789, 1913, 4356, 5208, 6216, 4241, 4746, 5941, 4371, 4075, 519, 5603, 1372, 1373, 3973, 6086, 3330, 5381, 5130, 5755, 1445, 2742, 5043, 3372, 389, 970, 4193, 2586, 6355, 3733, 5464, 353, 466, 3787, 5774, 1493, 2510, 5190, 4350, 2918, 3413, 5477, 4795, 1573, 4768, 6300, 5692, 147, 2781, 5962, 3028, 4951, 6137, 5672, 3631, 1441, 4171, 5278, 2765, 4088, 139, 4184, 4327, 4603, 3507, 1783, 4562, 4912, 668, 5938, 5472, 3827, 3943, 4701, 5557, 3600, 1078, 791, 3742, 3708, 1831, 3676, 6021, 6548, 2744, 4048, 3996, 1260, 2927, 1365, 2916, 4081, 1532, 4472, 1277, 1033, 455, 1896, 1507, 6003, 5562, 2712, 4750, 4902, 4847, 5525, 5042, 4435, 1502, 2508, 346, 137, 3248, 5614, 2829, 1842, 3825, 2854, 4774, 4809, 2021, 2614, 449, 526, 2943, 5345, 3686, 2763, 3137, 2976, 3515, 5392, 1082, 5406, 4607, 3331, 1666, 1181, 4668, 4717, 1416, 5784, 4772, 1593, 6483, 703, 4559, 1903, 3442, 4114, 3069, 4945, 70, 5593, 2794, 377, 1855, 4191, 1241, 359, 5679, 2903, 3052, 5201, 1168, 2579, 2123, 2404, 4377, 5257, 1840, 2772, 1771, 1087, 637, 1660, 4957, 3228, 6503, 3809, 4664, 275, 686, 5109, 4831, 2271, 2320, 5021, 2141, 5393, 2527, 306, 4230, 6321, 1101, 4643, 632, 5064, 3407, 2167, 3454, 5523, 4663, 3078, 4609, 3673, 3799, 5095, 6162, 261, 5017, 2417, 2077, 2711, 447, 759, 5954, 5303, 2695, 293, 4204, 4834, 4520, 4239, 774, 5641, 1407, 5796, 3577, 5847, 1744, 5695, 6007, 4647, 141, 279, 4450, 963, 3826, 5706, 3904, 708, 2287, 5356, 236, 2917, 5101, 3625, 1183, 4824, 1876, 6544, 856, 5271, 4706, 5838, 5044, 5918, 3126, 2166, 769, 2901, 6010, 4940, 2303, 4622, 1119, 718, 5514, 2757, 3510, 3697, 3037, 4394, 4690, 5532, 5850, 3786, 2671, 3512, 2831, 621, 5268, 2974, 6087, 4161, 5322, 2447, 1486, 3179, 6170, 342, 2613, 4656, 6376, 3465, 2224, 4713, 3900, 3489, 5763, 3818, 555, 4691, 1772, 3110, 2196, 6499, 4337, 1454, 2975, 4635, 6305, 786, 485, 606, 6115, 2771, 6246, 3291, 3165, 6439, 3148, 272, 611, 1419, 3106, 1996, 5236, 5810, 3084, 2631, 4038, 3982, 5435, 4903, 3318, 2811, 3539, 6436, 1453, 3475, 509, 1371, 134, 151, 1261, 6547, 6344, 6049, 2269, 5311, 4655, 2344, 5014, 3545, 6402, 2893, 806, 5074, 2228, 5775, 1329, 5361, 3948, 6103, 5366, 402, 4989, 1022, 4630, 6165, 2418, 4164, 5508, 283, 787, 2741, 4986, 4253, 2535, 1898, 2735, 5994, 2278, 6178, 4519, 3304, 1291, 3238, 5126, 4395, 4762, 5865, 5258, 2810, 3872, 5433, 5445, 454, 1449, 3464, 4352, 6048, 234, 18, 3778, 2684, 834, 3409, 98, 1088, 3136, 3057, 804, 954, 1288, 3791, 3667, 1295, 2939, 3641, 5808, 78, 2775, 959, 238, 4372, 1950, 4407, 4331, 288, 3654, 1868, 3752, 349, 4125, 3153, 5720, 2352, 4090, 1524, 3269, 4685, 2425, 4059, 684, 6075, 3941, 6136, 1650, 2168, 6382, 6078, 104, 2556, 780, 3496, 3337, 4031, 2058, 5020, 4730, 214, 5039, 3866, 6128, 2263, 5347, 5789, 3436, 3873, 2411, 3493, 4478, 5192, 793, 3459, 5589, 849, 1829, 5264, 1489, 2670, 4166, 3685, 5807, 3284, 21, 4115, 5856, 4130, 4602, 779, 4134, 564, 3221, 6539, 186, 2985, 465, 5590, 1844, 5939, 6325, 1410, 558, 4616, 5957, 5128, 6185, 4062, 2328, 4897, 4234, 3450, 2565, 1195, 5224, 4732, 3568, 3305, 3170, 1024, 866, 1535, 3536, 643, 4205, 5932, 1125, 2793, 3590, 320, 2343, 271, 2367, 1955, 5762, 3680, 4042, 3702, 2558, 2139, 2384, 318, 919, 6257, 4455, 4538, 1438, 5052, 3044, 2490, 5976, 4729, 1009, 2826, 2439, 5519, 3186, 2731, 1582, 2012, 390, 6525, 58, 4545, 2075, 470, 1923, 3205, 5607, 3630, 71, 1299, 1933, 226, 1708, 2081, 1430, 6517, 4694, 2987, 5107, 4319, 43, 2898, 5765, 5889, 4154, 4813, 2966, 2115, 3624, 5891, 4865, 6350, 1037, 3795, 2178, 5567, 1579, 1003, 4747, 4406, 4270, 2559, 235, 2588, 1252, 1990, 5883, 2197, 2414, 2338, 547, 6019, 1045, 1942, 5307, 4861, 5668, 645, 4722, 6362, 860, 6468, 1361, 4049, 4303, 291, 4404, 2851, 3605, 4236, 4170, 6299, 4558, 710, 3862, 1086, 778, 64, 3909, 5946, 5587, 5131, 5429, 761, 5134, 3989, 5483, 4445, 4213, 4254, 4426, 1113, 1585, 3949, 3678, 2145, 4335, 4856, 5023, 1189, 4825, 3597, 3937, 2007, 1425, 3434, 5533, 886, 2182, 6444, 3639, 4745, 3001, 1505, 3324, 1905, 3265, 2232, 278, 481, 2152, 4958, 450, 203, 5936, 1182, 3212, 2967, 5481, 5624, 4904, 3378, 2162, 3492, 4097, 2313, 1248, 669, 6104, 4883, 3446, 4554, 1628, 1413, 4111, 6463, 3921, 5920, 998, 1213, 553, 1334, 1601, 6341, 1510, 6126, 2863, 1427, 4532, 5643, 6084, 4731, 1278, 1118, 1038, 3782, 394, 4844, 1786, 4829, 4667, 1021, 2879, 2002, 3695, 2756, 513, 54, 2473, 4657, 4786, 4744, 861, 2153, 726, 4811, 2934, 3740, 5479, 2363, 2251, 1992, 2282, 5116, 4933, 2666, 6172, 5282, 5427, 357, 510, 3207, 2716, 4497, 4739, 6025, 2170, 727, 6421, 430, 1545, 4189, 681, 2355, 3002, 6264, 2736, 508, 4212, 5698, 1776, 27, 6411, 4156, 16, 1710, 610, 4398, 5040, 303, 4290, 2102, 456, 5766, 5487, 2238, 4464, 3648, 4623, 2806, 6486, 2319, 3327, 5066, 4514, 2725, 5942, 2970, 4991, 2385, 674, 1347, 5732, 3530, 921, 6363, 3537, 4853, 593, 1612, 3794, 5948, 1192, 938, 1049, 2905, 5048, 5526, 4011, 5256, 6383, 5068, 559, 932, 1924, 4458, 5010, 1833, 4979, 6495, 2856, 3929, 5539, 3429, 1518, 5888, 5025, 3572, 6217, 63, 5595, 5963, 4797, 3299, 1018, 5756, 724, 3660, 5638, 3509, 3251, 1828, 4885, 3040, 2530, 1675, 3056, 2416, 4282, 2899, 4646, 457, 5801, 2554, 2092, 1681, 1258, 1104, 4072, 3656, 6177, 3869, 3232, 2029, 2635, 5545, 2284, 2220, 429, 4517, 3650, 3404, 5261, 6168, 1158, 2640, 114, 3521, 3375, 5885, 2172, 3184, 867, 757, 4571, 5733, 4783, 1437, 6442, 4433, 2233, 6060, 3741, 3802, 4383, 5879, 3614, 2610, 5844, 3206, 1822, 4073, 473, 773, 5454, 4619, 4488, 5556, 4286, 45, 782, 1023, 5669, 5484, 4926, 373, 962, 3746, 1680, 5457, 4952, 6414, 155, 3289, 3549, 2737, 4252, 3798, 3071, 4109, 5786, 4892, 4761, 2687, 3735, 1872, 5362, 1576, 1180, 2103, 4474, 433, 853, 3927, 2560, 529, 1366, 5723, 5951, 1340, 3449, 1405, 5966, 5917, 5882, 5594, 2797, 6443, 719, 5691, 2919, 4291, 2022, 876, 2165, 4849, 5776, 3154, 1121, 5952, 3565, 3481, 6409, 5386, 6127, 2595, 4862, 6516, 1368, 2429, 5141, 5065, 5956, 6156, 3856, 4549, 3569, 1283, 4250, 3979, 6047, 4035, 4300, 5809, 2696, 3985, 5348, 3969, 4833, 4785, 3758, 4032, 3543, 1581, 5552, 5710, 2477, 885, 1793, 2402, 5795, 469, 3863, 5136, 1036, 1623, 1094, 3264, 4160, 5029, 4275, 6488, 4028, 4452, 1484, 2902, 1179, 3691, 1193, 758, 5225, 3635, 5145, 5862, 6134, 4231, 1986, 2801, 3316, 5115, 6387, 2645, 865, 2761, 4224, 889, 4639, 3233, 1167, 6223, 1123, 321, 1207, 1590, 6429, 1875, 4875, 3388, 4323, 2874, 846, 1369, 2883, 5687, 852, 1208, 80, 1812, 709, 4243, 3239, 3333, 3236, 3975, 4203, 4104, 4092, 939, 4542, 5439, 2686, 2858, 3689, 1204, 3785, 2452, 4942, 5949, 1662, 3430, 544, 1244, 4648, 3885, 5958, 5849, 5971, 2504, 2990, 6248, 1648, 4121, 5158, 2884, 5897, 1711, 591, 1999, 4928, 2659, 1379, 6253, 3596, 4390, 4174, 4504, 802, 3396, 4046, 5050, 1988, 5793, 2722, 1870, 437, 185, 1811, 6425, 6335, 1262, 385, 3416, 68, 2617, 6175, 3703, 2011, 6203, 2516, 2466, 1194, 3674, 3579, 3029, 5121, 5767, 2107, 2099, 1336, 5155, 5792, 3816, 4233, 3925, 2929, 2719, 1128, 3990, 3128, 3705, 2066, 6083, 2604, 3025, 3482, 4196, 2453, 5637, 1836, 771, 4877, 3368, 1117, 2766, 3364, 286, 5196, 4169, 1203, 446, 5833, 4379, 3076, 4566, 3716, 6012, 845, 5160, 2581, 6181, 4721, 6245, 3604, 3431, 3083, 5425, 3518, 4629, 3888, 3887, 4493, 2663, 3892, 3562, 1092, 2550, 3295, 2792, 677, 1428, 2311, 2118, 5364, 2714, 3756, 1687, 4914, 3732, 6057, 4387, 3687, 2597, 5207, 6287, 6280, 3483, 2611, 4733, 3107, 1830, 3964, 4278, 671, 4186, 4006, 2847, 1611, 453, 4289, 1004, 4938, 2591, 5923, 4339, 5806, 3963, 2388, 1503, 4442, 3194, 4440, 1093, 1456, 3743, 2266, 3622, 1376, 749, 1284, 6220, 4659, 5285, 5376, 6386, 3340, 2244, 2071, 6331, 4113, 1345, 6283, 5544, 6513, 5546, 5881, 3636, 3066, 3653, 2305, 1016, 5768, 3287, 1703, 3585, 1102, 1242, 5592, 546, 428, 1014, 4051, 2634, 4268, 5370, 4961, 111, 2778, 6426, 3440, 1109, 4909, 4749, 48, 944, 4221, 2574, 4800, 6294, 5953, 30, 3822, 3201, 765, 312, 6045, 4152, 4613, 672, 5703, 258, 4305, 3711, 4306, 6035, 1205, 877, 34, 6256, 2817, 59, 3470, 3968, 2370, 2475, 4503, 6158, 4054, 4541, 3487, 5781, 319, 113, 1184, 3928, 4808, 1515, 6187, 1330, 3978, 3683, 2593, 6176, 3047, 5211, 376, 6265, 4004, 6415, 3500, 693, 1869, 2419, 5779, 4460, 1406, 3246, 5395, 1529, 2629, 3122, 4621, 229, 5855, 2890, 5895, 4292, 6270, 1326, 1540, 943, 1100, 2585, 2277, 4138, 2582, 5176, 3065, 3513, 1530, 2192, 439, 3070, 1747, 2968, 5613, 2972, 5357, 5026, 1259, 2350, 870, 2243, 3150, 4793, 3992, 2474, 1047, 2185, 4633, 3626, 5299, 2599, 956, 6110, 3226, 3072, 6261, 5449, 1927, 541, 1028, 6373, 3560, 2476, 4735, 2346, 4624, 3999, 1178, 5019, 1533, 31, 2962, 5032, 2921, 1448, 5804, 3657, 6423, 842, 5177, 2694, 2676, 4846, 3468, 4583, 3164, 2489, 4304, 6254, 1577, 2199, 858, 4612, 4534, 3008, 5241, 3824, 6440, 6361, 3555, 3665, 5323, 3832, 1622, 947, 5802, 4157, 2068, 2302, 482, 6432, 6285, 3668, 1982, 3017, 4888, 1824, 2835, 3093, 4784, 4578, 3578, 3957, 2114, 4832, 5937, 3081, 3016, 1861, 3701, 3944, 4214, 1909, 1766, 2056, 798, 4036, 3336, 5354, 5191, 689, 5205, 2362, 2112, 3231, 4516, 2413, 2361, 942, 1034, 4868, 65, 676, 1698, 4202, 5761, 3050, 3774, 6303, 5875, 4815, 4880, 4211, 4456, 3127, 2393, 1664, 2812, 4295, 3893, 4373, 4552, 6032, 5372, 4000, 2061, 3395, 528, 20, 5212, 4374, 1596, 4124, 2932, 1531, 3425, 4366, 5108, 2268, 596, 5622, 2386, 6406, 4905, 2608, 3767, 4411, 448, 5515, 5339, 1672, 3958, 594, 5549, 1490, 6166, 4661, 2672, 2774, 1157, 1012, 103, 5200, 2230, 4568, 4355, 177, 1455, 1851, 1126, 1661, 5803, 194, 2653, 1624, 2524, 6543, 2288, 4069, 691, 1349, 1944, 4950, 4131, 6511, 1823, 2273, 5682, 191, 4242, 2239, 6454, 4310, 6336, 3183, 549, 618, 1998, 75, 5059, 354, 239, 5621, 3903, 158, 2773, 5474, 770, 2569, 5431, 2502, 1352, 3833, 3692, 1874, 5859, 5538, 5314, 4408, 4848, 4716, 3386, 2907, 1873, 4330, 4821, 2770, 6533, 3803, 2235, 2122, 2656, 4413, 2673, 382, 1164, 3010, 5811, 6125, 1930, 3053, 3523, 931, 2281, 3293, 3349, 3930, 3317, 322, 6451, 1691, 5708, 3213, 3427, 2655, 6352, 1826, 1131, 1742, 192, 3104, 2667, 3321, 6026, 2015, 2594, 3879, 4317, 644, 1341, 5113, 6347, 1176, 6494, 5295, 968, 5276, 4039, 3559, 3247, 3339, 5968, 3977, 4136, 1682, 4805, 3612, 3458, 5506, 1789, 5563, 3094, 4700, 391, 4384, 6082, 5750, 3851, 2633, 2351, 2904, 2026, 3853, 4806, 431, 6101, 121, 13, 3061, 781, 95, 2179, 754, 2090, 5120, 358, 2436, 1779, 281, 2807, 4704, 347, 3714, 2496, 6095, 5243, 3923, 763, 4276, 5846, 2181, 6138, 6113, 1292, 3162, 425, 4477, 5773, 5596, 1525, 5873, 366, 1098, 2262, 5398, 3745, 2258, 105, 2246, 4375, 1991, 4751, 4479, 5974, 5098, 3707, 2513, 2861, 5702, 2190, 4872, 4486, 2034, 1364, 1514, 4654, 6244, 2732, 4816, 1263, 548, 4567, 3970, 969, 2482, 3527, 1983, 4321, 5202, 4448, 4481, 3438, 4561, 5627, 4978, 1048, 5402, 5604, 5106, 6534, 6239, 4096, 6159, 5321, 4244, 2525, 6093, 3580, 4620, 3724, 2515, 1597, 233, 2017, 3367, 2642, 1751, 2164, 2347, 4313, 2480, 1827, 3755, 198, 5683, 1769, 1380, 4457, 1755, 4190, 3472, 5929, 181, 3751, 5876, 3918, 3911, 5194, 1821, 557, 2079, 1162, 2259, 423, 2749, 4421, 641, 1788, 1580, 6302, 3043, 5878, 3679, 3063, 263, 2265, 2664, 4801, 3286, 4934, 3242, 950, 616, 927, 772, 4341, 290, 2759, 2984, 2819, 2156, 1434, 3831, 3981, 4459, 3222, 5471, 1348, 5475, 3422, 6039, 857, 878, 6140, 958, 3074, 5709, 119, 4102, 2438, 5652, 2855, 532, 4357, 844, 3261, 4061, 698, 2718, 282, 2176, 3573, 3292, 6098, 4222, 3068, 2570, 2956, 4521, 5221, 6179, 3488, 1007, 728, 704, 396, 4682, 847, 304]\n",
      "val ids:  [4293, 3185, 6399, 5049, 5067, 5973, 3023, 2082, 4424, 5183, 42, 6215, 3121, 3721, 475, 4913, 3086, 1127, 6275, 3890, 5727, 4103, 6028, 3837, 2059, 4851, 108, 3704, 3058, 3913, 4499, 6297, 2241, 6167, 3307, 6017, 3258, 4454, 586, 6295, 2596, 2144, 467, 4419, 2815, 2036, 1206, 4741, 4871, 6027, 2665, 3314, 2603, 2272, 6088, 4506, 1621, 4110, 5874, 3426, 3901, 4845, 4342, 3508, 1914, 2231, 397, 937, 3669, 2805, 1423, 6431, 5422, 160, 5815, 5267, 1670, 6269, 2754, 3204, 3134, 537, 468, 118, 6449, 1112, 3529, 4993, 3731, 4589, 2441, 4396, 5346, 5690, 675, 2679, 6428, 6206, 6255, 6515, 4507, 6096, 685, 2193, 4451, 2534, 2961, 4467, 2245, 3350, 2669, 6251, 871, 4288, 4666, 3814, 3111, 4360, 5814, 6510, 2641, 4770, 5970, 3871, 3241, 3852, 3092, 4142, 1745, 5505, 6378, 3771, 1043, 3805, 1837, 3516, 3616, 5092, 2160, 183, 3858, 474, 6446, 4525, 1655, 4401, 384, 4523, 4787, 122, 5965, 5718, 6276, 3376, 4423, 768, 3748, 5188, 5008, 2814, 6375, 4859, 145, 3839, 5928, 6037, 1542, 37, 3369, 4022, 4709, 5476, 3986, 2398, 4047, 477, 1608, 3541, 5451, 4886, 2202, 355, 1519, 1784, 3538, 3249, 1360, 1847, 5281, 5400, 2321, 310, 3006, 562, 4857, 5717, 2198, 4573, 2407, 1346, 3243, 3149, 223, 1297, 4086, 2307, 3759, 5397, 1447, 1656, 1491, 227, 6422, 3726, 38, 2864, 2349, 4068, 1841, 1323, 4249, 6538, 3254, 3178, 1613, 1214, 5632, 3659, 2308, 4948, 5079, 6542, 2842, 2602, 1442, 3158, 4078, 646, 4052, 6550, 3435, 4074, 5678, 882, 4412, 128, 2083, 3717, 1677, 4273, 5277, 3800, 3891, 6112, 1667, 5504, 4822, 6430, 5794, 4965, 211, 2060, 2334, 3810, 126, 2753, 4446, 4361, 4626, 1496, 2204, 3671, 598, 6357, 5388, 875, 5998, 2481, 4060, 3175, 521, 3048, 4515, 4782, 792, 3846, 187, 642, 6116, 879, 1610, 767, 77, 3765, 3792, 161, 2116, 2333, 523, 6466, 4498, 1357, 3451, 1618, 6284, 2514, 2142, 833, 4218, 6043, 6298, 4522, 1985, 5234, 3105, 4149, 2495, 5559, 6492, 2264, 1757, 2881, 5379, 1737, 131, 3098, 4708, 2435, 3883, 6107, 4216, 4296, 2222, 3994, 3125, 683, 3914, 4298, 6191, 1832, 1818, 96, 4985, 5771, 1421, 153, 2813, 144, 5646, 5296, 4827, 4954, 364, 2995, 6356, 6124, 711, 184, 2531, 3230, 6031, 3997, 3693, 4972, 4139, 5760, 3102, 2914, 5868, 3224, 2449, 789, 3473, 1133, 994, 5353, 2342, 2396, 997, 1509, 1685, 5448, 4586, 285, 2638, 480, 2108, 3747, 1378, 1835, 6209, 3354, 4332, 4693, 614, 5896, 2678, 2803, 2690, 3108, 5139, 2487, 146, 2445, 4318, 3096, 1651, 1041, 2410, 5401, 231, 284, 4658, 6056, 2700, 3019, 4565, 6496, 5688, 1108, 5061, 2750, 4734, 1461, 1867, 5351, 2822, 6213, 5293, 5396, 3312, 4245, 2647, 2607, 2415, 751, 5391, 5770, 3550, 3681, 4582, 868, 97, 316, 707, 3777, 5611, 3663, 138, 1032, 4742, 5522, 6384, 36, 4192, 6447, 1435, 1051, 2465, 3390, 5024, 1928, 6337, 5350, 1856, 3461, 5530, 4581, 436, 4238, 2746, 5618, 2004, 4040, 5028, 6540, 213, 3882, 4644, 4033, 5112, 3210, 4076, 3452, 3119, 190, 766, 2189, 2395, 1575, 6419, 1116, 5266, 912, 1172, 1705, 5013, 4584, 5764, 2720, 2331, 697, 5640, 3377, 4618, 6523, 6497, 566, 3398, 1931, 1657, 3698, 518, 4995, 6360, 26, 3414, 5239, 3532, 2526, 2748, 1513, 5466, 273, 1938, 4994, 4119, 1485, 2070, 4812, 133, 6023, 2612, 4889, 1937, 2782, 2039, 3773, 1599, 2888, 264, 2119, 1594, 3282, 3712, 2752, 4025, 4560, 2488, 1699, 2751, 2443, 3548, 3189, 5880, 2566, 2780, 6036, 3926, 4910, 1130, 5197, 2728, 2226, 5359, 5650, 3618, 1730, 4487, 4378, 4966, 841, 1750, 399, 3181, 1498, 2086, 1124, 6370, 5426, 6014, 3145, 2509, 369, 3059, 5213, 3397, 424, 3147, 3739, 6368, 3391, 3603, 156, 3400, 6105, 4010, 4037, 3974, 3062, 5930, 3250, 3820, 395, 2286, 2494, 6029, 2876, 3881, 5675, 3610, 4198, 5143, 315, 1322, 1202, 918, 6005, 2257, 2183, 2798, 3187, 1595, 4353, 2897, 2110, 629, 3775, 4855, 4071, 1749, 634, 6281, 5924, 612, 458, 5861, 6455, 6208, 4127, 4468, 307, 4752, 5180, 1105, 2024, 3142, 224, 702, 5317, 5274, 854, 5542, 5725, 2529, 3495, 2913, 2030, 479, 692, 2823, 3575, 1165, 6339, 5560, 3347, 4601, 1920, 2014, 1922, 5203, 914, 807, 5645, 3497, 125, 3049, 201, 1110, 462, 2188, 2186, 3073, 2423, 3499, 1211, 62, 3381, 5230, 2095, 1095, 4399, 966, 1918, 4505, 2522, 1200, 2960, 383, 5975, 124, 830, 5564, 6359, 2205, 483, 442, 6044, 4008, 4388, 1616, 5046, 3319, 2839, 872, 4777, 5757, 6530, 28, 3217, 2877, 2743, 2121, 101, 1857, 2033, 287, 2317, 1814, 5931, 6366, 403, 6541, 716, 5071, 1543, 5012, 4724, 3602, 952, 3736, 6504, 112, 6278, 5892, 1276, 2891, 5753, 6501, 6258, 1517, 2366, 4530, 2312, 2713, 4112, 4535, 1566, 2755, 1619, 1816, 2154, 4343, 3876, 4548, 1325, 4091, 5841, 5647, 1748, 4476, 5866, 3166, 6121, 3303, 3417, 4858, 1046, 3411, 2729, 2101, 5175, 3796, 3932, 6042, 1402, 6024, 5813, 4874, 1900, 5325, 2689, 6438, 3761, 4653, 3266, 2032, 5626, 1253, 673, 4269, 2085, 3582, 116, 3163, 298, 6219, 5273, 2924, 2945, 5373, 1443, 535, 2606, 6381, 6465, 2062, 3356, 3651, 5561, 4279, 2084, 4518, 5463, 2448, 4041, 3613, 5123, 1414, 5527, 4679, 1956, 2994, 2561, 5554, 2174, 2392, 6520, 3216, 1781, 996, 3662, 5270, 6532, 2394, 341, 1603, 3089, 2553, 2564, 5173, 3637, 3638, 365, 699, 4066, 1463, 6418, 4434, 189, 4748, 1945, 1600, 2955, 2849, 5161, 3168, 955, 1107, 4962, 5378, 5547, 4703, 2685, 5051, 4489, 1025, 5642, 3144, 5872, 4135, 6379, 5324, 1013, 2117, 5181, 617, 2563, 5394, 4058, 117, 2339, 3310, 6403, 2734, 2912, 4274, 3899, 3406, 5045, 3352, 6109, 540, 6001, 5133, 6292, 1906, 1460, 5609, 6122, 209, 6040, 2450, 100, 129, 6002, 2996, 2369, 426, 4453, 6277, 4441, 5226, 5558, 5018, 6291, 5832, 1212, 5960, 4391, 3762, 3015, 4320, 6323, 5602, 1609, 4470, 5229, 6237, 4461, 3633, 4869, 5150, 4778, 5383, 6545, 5320, 2795, 2358, 6412, 73, 5404, 6461, 340, 2925, 4312, 5097, 5731, 3915, 1902, 1027, 783, 5531, 6252, 4001, 1935, 5926, 1606, 2523, 1932, 2256, 4937, 5601, 2576, 4927, 2318, 3666, 6456, 1528, 1792, 4823, 4258, 4251, 5619, 1458, 2018, 6160, 44, 4604, 5280, 3223, 4195, 3051, 115, 5503, 5517, 926, 5054, 4168, 543, 5835, 3621, 512, 4557, 6046, 880, 2941, 2391, 1090, 241, 2911, 5204, 2657, 262, 5485, 3738, 230, 6194, 695, 4094, 2548, 3511, 5843, 5685, 5193, 1854, 2469, 180, 4145, 1042, 4365, 511, 4943, 2691, 1355, 3906, 154, 1678, 3424, 4129, 6348, 3209, 1570, 4349, 4444, 762, 5686, 1499, 4686, 2323, 2833, 5055, 3980, 3026, 3355, 5858, 613, 2229, 17, 2389, 4280, 2309, 2937, 204, 1697, 3627, 3591, 3584, 3077, 961, 5078, 5694, 6008, 3273, 1733, 2359, 3566, 5722, 3131, 784, 314, 753, 3865, 2998, 4651, 1773, 3088, 49, 6250, 1264, 6199, 3934, 1907, 5921, 3351, 4662, 5468, 348, 3564, 1572, 2971, 221, 3218, 4014, 6367, 4462, 1343, 6467, 3433, 1002, 6263, 3099, 6058, 3479, 1353, 374, 3848, 607, 1099, 2724, 2409, 6484, 4765, 3619, 5724, 4939, 1894, 1865, 3453, 1521, 2252, 4140, 1916, 6417, 2693, 1954, 218, 5751, 2880, 4118, 2250, 4953, 4588, 2322, 667, 3840, 5179, 1911, 3190, 4167, 805, 2846, 1686, 2171, 3868, 5480, 534, 2616, 5886, 3734, 5423, 6279, 3252, 3389, 2037, 3474, 19, 2223, 2157, 5534, 3875, 3320, 5509, 2886, 1741, 2161, 5681, 3595, 3082, 4311, 3812, 3684, 2637, 1188, 2096, 4577, 2434, 3817, 4977, 3961, 3208, 1853, 5568, 4606, 722, 3455, 1663, 3401, 505, 401, 3838, 2857, 5715, 563, 4029, 5384, 1196, 4687, 2275, 2942, 1516, 1171, 3760, 299, 3174, 3713, 5265, 4307, 1424, 1934, 5608, 1464, 3353, 5978, 2314, 4367, 3998, 5036, 6332, 3919, 5122, 5536, 3917, 3675, 917, 3157, 3276, 5697, 6164, 5363, 5834, 3987, 371, 1254, 3720, 4226, 6161, 296, 199, 522, 3013, 3041, 5689, 5374, 5119, 2988, 628, 633, 2065, 6536, 928, 5553, 4894, 1044, 4600, 4524, 1374, 5343, 1426, 2431, 4146, 5925, 941, 1356, 2796, 4277, 1706, 1668, 4158, 3819, 5015, 1091, 4437, 2383, 957, 6092, 6489, 5867, 1893, 4045, 4636, 6448, 4599, 1085, 3984, 5057, 2316, 438, 5091, 5011, 2710, 4262, 3754, 5344, 4529, 2491, 2173, 5222, 4285, 4055, 3764, 4527, 2076, 5110, 1270, 5237, 5469, 2860, 6076, 1995, 3886, 3581, 5430, 4056, 4309, 5022, 3394, 4187, 5915, 3348, 6081, 5884, 2762, 5436, 2979, 4422, 1989, 6464, 5387, 6132, 6118, 5478, 143, 3384, 6015, 4064, 887, 946, 6197, 5310, 916, 1817, 3161, 4144, 6218, 4637, 4544, 4480, 6274, 6434, 1774, 464, 3589, 4650, 2973, 1029, 3718, 5914, 3156, 2768, 3014, 1290, 5705, 5124, 2143, 4975, 4850, 5977, 5852, 4085, 2571, 3797, 3993, 4817, 3719, 381, 2025, 5649, 1409, 542, 4257, 277, 6139, 3042, 5358, 1115, 5442, 3103, 1439, 2187, 4789, 5228, 4087, 4916, 2601, 1335, 4382, 1243, 3956, 2997, 4302, 2958, 4634, 5149, 2249, 55, 5462, 967, 3054, 5696, 1659, 4971, 2255, 5636, 2444, 6459, 640, 797, 1871, 1943, 4773, 6338, 4949, 1602, 127, 6183, 5369, 5242, 1501, 313, 1849, 5390, 1436, 2335, 2652, 2828, 5488, 2234, 2191, 721, 3531, 4887, 3988, 3067, 1350, 5218, 3448, 6169, 6369, 6212, 4322, 2364, 4689, 4572, 380, 276, 4614, 5138, 5726, 5450, 3874, 5616, 1511, 851, 1429, 2332, 647, 1324, 2677, 790, 3494, 5365, 1588, 5223, 1929, 4738, 538, 3954, 700, 3256, 4409, 222, 3916, 627, 1134, 5516, 5612, 2146, 5290, 5788, 2816, 5069, 2073, 1444, 1420, 4248, 3670, 3341, 5144, 701, 2412, 1820, 47, 6404, 56, 1166, 3135, 3112, 3009, 3418, 1052, 1777, 1247, 3132, 4173, 74, 4705, 1574, 5305, 3491, 6377, 5634, 1331, 1256, 4432, 3688, 4771, 2923, 110, 3403, 4200, 1544, 2276, 2511, 1791, 370, 6011, 6452, 4380, 4960, 3806, 4209, 2931, 925, 2498, 2519, 1939, 51, 5153, 4176, 4533, 3924, 2064, 2387, 2832, 6537, 5945, 3485, 3855, 2270, 561, 1417, 3722, 3345, 5635, 23, 2194, 4585, 4788, 1536, 1440, 3234, 4281, 4210, 1337, 6462, 679, 5432, 1249, 4015, 5099, 4936, 1689, 179, 3709, 5287, 3804, 4683, 1767, 5799, 1526, 6129, 5995, 4217, 2422, 5714, 219, 159, 1512, 1492, 2304, 2518, 1843, 6053, 3486, 4328, 3343, 4537, 1695, 107, 3784, 3557, 2356, 2353, 4105, 2978, 6481, 24, 2940, 1358, 3552, 205, 4034, 2008, 5259, 915, 1936, 3664, 3263, 5009, 3192, 4314, 6424, 5586, 4625, 5597, 260, 317, 3877, 404, 5629, 4155, 6009, 6018, 4698, 631, 1951, 6507, 3402, 3141, 102, 445, 2000, 5758, 2433, 929, 4392, 3933, 1418, 5524, 6119, 4878, 2159, 5600, 1994, 6202, 5999, 2776, 4743, 1122, 4376, 5377, 476, 3167, 4901, 5360, 764, 2552, 4964, 3844, 1186, 1198, 1785, 3783, 294, 5922, 5227, 5845, 1030, 1864, 4987, 4178, 4002, 1367, 839, 1976, 4699, 4208, 5038, 210, 5893, 1415, 3644, 4597, 2138, 422, 4447, 5754, 539, 6380, 2575, 965, 951, 3834, 5368, 3611, 800, 6267, 507, 5070, 2089, 884, 6242, 2726, 6000, 1250, 4188, 5215, 6487, 3211, 6410, 1079, 556, 3085, 5997, 4714, 514, 6240, 2427, 1275, 1845, 3813, 3629, 69, 4819, 3706, 4935, 2583, 3696, 1076, 1764, 1910, 5093, 4148, 5424, 1170, 2006, 2467, 1926, 345, 6343, 202, 2800, 2658, 4201, 5871, 3255, 1568, 4946, 1245, 2151, 3423, 4009, 1017, 5105, 212, 3544, 2149, 2830, 6033, 4333, 2400, 545, 356, 4177, 452, 4719, 2692, 5072, 624, 1412, 427, 1497, 4898, 5591, 5785, 688, 6408, 5240, 1652, 3172, 4197, 5837, 6453, 1159, 4617, 4652, 2848, 1216, 777, 3808, 4358, 6518, 6141, 3623, 4766, 3379, 504, 368, 1190, 4237, 1787, 6241, 1953, 1752, 1863, 3535, 32, 3801, 242, 1274, 4107, 6358, 6535, 3864, 1607, 6401, 1815, 5528, 5615, 2285, 3950, 6506, 1408, 3323, 602, 4854, 5598, 1753, 4123, 3551, 1282, 855, 5919, 5319, 4997, 3260, 5797, 5443, 4207, 3859, 5512, 2424, 6133, 6351, 4640, 2928, 5298, 3649, 5352, 2478, 5076, 3387, 344, 1701, 935, 3229, 1010, 5628, 2446, 1452, 1285, 4227, 554, 3753, 5877, 4715, 6131, 149, 3171, 5935, 5312, 4720, 945, 4126, 232, 2254, 1541, 3823, 3645, 5570, 50, 3045, 2896, 859, 6106, 3757, 3463, 3143, 5610, 3528, 3412, 4095, 3027, 1978, 838, 1008, 2325, 1848, 2315, 1527, 3895, 4956, 1103, 2651, 2087, 4106, 1321, 1977, 2688, 3861, 3177, 5030, 41, 3634, 2248, 4057, 4642, 5453, 451, 6094, 831, 755, 3075, 1089, 6353, 3007, 2203, 4483, 1210, 6354, 1673, 5857, 4814, 1459, 3005, 1403, 3202, 4553, 1106, 5633, 6089, 3522, 3235, 6527, 6079, 2908, 4070, 5927, 678, 3850, 3466, 6290, 4326, 1328, 67, 362, 4229, 3294, 690, 3297, 4852, 5961, 1658, 1908, 3931, 292, 3334, 3328, 363, 2106, 4415, 1895, 2236, 2567, 4947, 3534, 6222, 5787, 4259, 441, 1539, 2310, 5306, 1287, 2818, 601, 2098, 4425, 924, 484, 5399, 5187, 1626, 5701, 4576, 1273, 1709, 3586, 2003, 5286, 215, 4996, 5599, 460, 670, 3203, 207, 1625, 3962, 1537, 1111, 3779, 3420, 4132, 2946, 1679, 5132, 1897, 5033, 1011, 2484, 4807, 109, 694, 3046, 5316, 6546, 636, 3079, 5890, 1266, 1523, 4316, 4024, 1175, 3910, 3867, 309, 5056, 803, 6013, 3677, 4556, 5174, 1862, 2933, 5288, 3462, 4117, 1782, 1508, 2324, 506, 478, 3682, 5447, 5117, 5284, 1173, 936, 953, 2013, 2406, 881, 3335, 1404, 3939, 809, 5355, 2697, 3955, 2169, 5959, 6334, 1746, 4879, 5184, 1917, 4990, 1901, 756, 1246, 3301, 6327, 2767, 3421, 2301, 3358, 4665, 6247, 130, 2105, 3847, 2938, 2632, 1768, 4976, 39, 352, 2727, 3024, 717, 585, 4334, 5606, 1488, 4908, 4551, 188, 4162, 2999, 2337, 2354, 1239, 2005, 2078, 3912, 3920, 1684, 4702, 2111, 4172, 3601, 595, 435, 3346, 196, 1692, 4287, 1209, 5185, 608, 4206, 560, 4769, 3768, 6509, 5103, 4336, 1339, 5118, 1215, 2242, 5677, 3902, 3480, 4473, 3506, 3583, 5520, 4803, 2859, 350, 25, 2821, 6405, 5238, 3311, 6441, 2237, 3373, 2682, 3594, 6259, 6174, 4338, 3410, 3383, 372, 1083, 217, 5195, 3547, 2432, 5670, 4116, 4301, 5382, 1327, 2628, 6385, 5839, 2989, 3277, 6493, 1031, 3302, 2521, 3953, 933, 5782, 6266, 3155, 3561, 4907, 2630, 3405, 2470, 3329, 5077, 5639, 516, 2577, 5260, 3770, 4680, 4490, 2532, 4873, 4632, 1457, 265, 5812, 3245, 2368, 5693, 5441, 4866, 3399, 3776, 1763, 5716, 1450, 76, 106, 5513, 5969, 1669, 2028, 5470, 4098, 2390, 4271, 3325, 5438, 1925, 1688, 4726, 4638, 4496, 5035, 295, 3018, 5699, 4631, 1858, 4438, 2738, 5543, 923, 2802, 5283, 3456, 3182, 5944, 4005, 3587, 3857, 4575, 3995, 4362, 5482, 2809, 1005, 4830, 5791, 5146, 2001, 1487, 1852, 2019, 6505, 5759, 6130, 2572, 1433, 2401, 1584, 1040, 6512, 5302, 6249, 2598, 289, 4344, 5510, 2451, 5031, 4645, 2493, 2348, 6286, 5623, 5721, 3090, 4418, 3576, 4695, 550, 1707, 2506, 6551, 5967, 6207, 2850, 4896, 2804, 5863, 2547, 5349, 392, 4484, 5104, 5943, 6041, 1169, 4528, 3878, 1462, 2915, 3730, 1949, 4246, 4147, 182, 2865, 1546, 6097, 2674, 4570, 4610, 1199, 4959, 1947, 3661, 4363, 619, 5625, 3563, 1354, 4416, 1035, 2405, 2964, 2838, 3447, 3385, 3097, 5851, 2074, 4884, 776, 2088, 1571, 4083, 6077, 4247, 913, 2661, 2023, 1251, 5291, 5367, 6433, 3408, 5934, 1762, 3227, 2936, 2681, 6171, 3938, 1298, 6458, 1161, 6329, 61, 3790, 4027, 66, 3366, 687, 590, 1267, 625, 1431, 6173, 4385, 2562, 2399, 2894, 609, 2769, 1765, 696, 3749, 2031, 2650, 2892, 3064, 1846, 5125, 3959, 400, 2841, 57, 3908, 4043, 3907, 6349, 5371, 6210, 3546, 1272, 848, 4215, 6192, 589, 5648, 1997, 5680, 5342, 3945, 60, 220, 3332, 2097, 2825, 835, 3835, 5152, 1377, 6345, 3567, 1731, 3003, 5800, 2430, 3428, 2397, 3415, 6238, 6006, 1084, 788, 3554, 3570, 2329, 4240, 361, 4393, 2568, 1286, 5551, 1522, 1257, 4627, 5459, 4065, 3967, 4012, 4080, 3727, 6108, 3138, 6157, 5178, 6099, 5157, 4053, 2267, 472, 5913, 1674, 2844, 2306, 2587, 2327, 930, 4710, 4050, 604, 2922, 2747, 3983, 2992, 2646, 3296, 4763, 1732, 837, 5778, 3896, 6522, 2501, 922, 5521, 3976, 6189, 3244, 2837, 1279, 3342, 3322, 5318, 5541, 197, 4232, 1271, 1375, 3290, 536, 1015, 323, 5341, 4175, 5041, 5016, 5159, 720, 3283, 3766, 3729, 3004, 6519, 2517, 5219, 5434, 4688, 6371, 4563, 6201, 5292, 5537, 6480, 1738, 4324, 4485, 4547, 2274, 5309, 796, 6163, 5421, 1026, 5058, 639, 1627, 4692, 623, 603, 6272, 2551, 4539, 6289, 4775, 79, 4974, 752, 6182, 4864, 3935, 4681, 4579, 4294, 5154, 6549, 1654, 5798, 3306, 3359, 2852, 1039, 53, 2615, 4804, 1859, 4895, 6304, 3533, 2605, 4063, 4882, 3884, 4564, 3371, 4386, 4779, 3905, 2499, 4711, 3109, 531, 4718, 5232, 2878, 4329, 6491, 1825, 195, 1185, 5617, 3285, 712, 3811, 1919, 178, 1129, 6482, 6531, 843, 305, 1729, 5550, 1899, 6142, 5137, 2764, 3191, 3898, 379, 1850, 4911, 2779, 4494, 2421, 3728, 4649, 3889, 1952, 6243, 4325, 5206, 2549, 533, 4983, 4491, 4670, 443, 597, 1494, 999, 2578, 5630, 4932, 1446, 4944, 626, 5156, 228, 2016, 5456, 2479, 176, 5840, 862, 4546, 3262, 2808, 1006, 4153, 5853, 1120, 3219, 1586, 4671, 1839, 5848, 4439, 6318, 1760, 3514, 2175, 4764, 2279, 3478, 3437, 2993, 1690, 378, 2662, 4023, 2649, 5707, 4536, 1941, 2739, 5842, 836, 5062, 5142, 706, 3588, 3519, 5518, 1191, 2104, 2889, 4941, 6457, 3257, 4867, 6186, 4255, 3843, 5263, 5486, 1904, 3658, 3655, 4780, 2227, 225, 5428, 4881, 5182, 3100, 2094, 2683, 2247, 6437, 2906, 1534, 5111, 2201, 6320, 5385, 3338, 2147]\n",
      "test ids:  [0, 1, 2, 3, 4, 5, 6, 7, 8, 9, 10, 11, 12, 40, 81, 82, 83, 84, 85, 86, 87, 88, 89, 90, 91, 92, 93, 94, 120, 162, 163, 164, 165, 166, 167, 168, 169, 170, 171, 172, 173, 174, 175, 200, 243, 244, 245, 246, 247, 248, 249, 250, 251, 252, 253, 254, 255, 256, 257, 280, 324, 325, 326, 327, 328, 329, 330, 331, 332, 333, 334, 335, 336, 337, 338, 339, 360, 405, 406, 407, 408, 409, 410, 411, 412, 413, 414, 415, 416, 417, 418, 419, 420, 421, 440, 486, 487, 488, 489, 490, 491, 492, 493, 494, 495, 496, 497, 498, 499, 500, 501, 502, 520, 567, 568, 569, 570, 571, 572, 573, 574, 575, 576, 577, 578, 579, 580, 581, 582, 583, 584, 600, 648, 649, 650, 651, 652, 653, 654, 655, 656, 657, 658, 659, 660, 661, 662, 663, 664, 665, 666, 680, 729, 730, 731, 732, 733, 734, 735, 736, 737, 738, 739, 740, 741, 742, 743, 744, 745, 746, 747, 748, 760, 810, 811, 812, 813, 814, 815, 816, 817, 818, 819, 820, 821, 822, 823, 824, 825, 826, 827, 828, 829, 840, 891, 892, 893, 894, 895, 896, 897, 898, 899, 900, 901, 902, 903, 904, 905, 906, 907, 908, 909, 910, 911, 920, 972, 973, 974, 975, 976, 977, 978, 979, 980, 981, 982, 983, 984, 985, 986, 987, 988, 989, 990, 991, 992, 993, 1000, 1053, 1054, 1055, 1056, 1057, 1058, 1059, 1060, 1061, 1062, 1063, 1064, 1065, 1066, 1067, 1068, 1069, 1070, 1071, 1072, 1073, 1074, 1075, 1080, 1135, 1136, 1137, 1138, 1139, 1140, 1141, 1142, 1143, 1144, 1145, 1146, 1147, 1148, 1149, 1150, 1151, 1152, 1153, 1154, 1155, 1156, 1160, 1217, 1218, 1219, 1220, 1221, 1222, 1223, 1224, 1225, 1226, 1227, 1228, 1229, 1230, 1231, 1232, 1233, 1234, 1235, 1236, 1237, 1238, 1240, 1300, 1301, 1302, 1303, 1304, 1305, 1306, 1307, 1308, 1309, 1310, 1311, 1312, 1313, 1314, 1315, 1316, 1317, 1318, 1319, 1320, 1382, 1383, 1384, 1385, 1386, 1387, 1388, 1389, 1390, 1391, 1392, 1393, 1394, 1395, 1396, 1397, 1398, 1399, 1400, 1401, 1465, 1466, 1467, 1468, 1469, 1470, 1471, 1472, 1473, 1474, 1475, 1476, 1477, 1478, 1479, 1480, 1481, 1482, 1483, 1547, 1548, 1549, 1550, 1551, 1552, 1553, 1554, 1555, 1556, 1557, 1558, 1559, 1560, 1561, 1562, 1563, 1564, 1565, 1629, 1630, 1631, 1632, 1633, 1634, 1635, 1636, 1637, 1638, 1639, 1640, 1641, 1642, 1643, 1644, 1645, 1646, 1647, 1700, 1712, 1713, 1714, 1715, 1716, 1717, 1718, 1719, 1720, 1721, 1722, 1723, 1724, 1725, 1726, 1727, 1728, 1780, 1794, 1795, 1796, 1797, 1798, 1799, 1800, 1801, 1802, 1803, 1804, 1805, 1806, 1807, 1808, 1809, 1810, 1860, 1877, 1878, 1879, 1880, 1881, 1882, 1883, 1884, 1885, 1886, 1887, 1888, 1889, 1890, 1891, 1892, 1940, 1959, 1960, 1961, 1962, 1963, 1964, 1965, 1966, 1967, 1968, 1969, 1970, 1971, 1972, 1973, 1974, 2020, 2040, 2041, 2042, 2043, 2044, 2045, 2046, 2047, 2048, 2049, 2050, 2051, 2052, 2053, 2054, 2055, 2100, 2120, 2124, 2125, 2126, 2127, 2128, 2129, 2130, 2131, 2132, 2133, 2134, 2135, 2136, 2137, 2180, 2200, 2206, 2207, 2208, 2209, 2210, 2211, 2212, 2213, 2214, 2215, 2216, 2217, 2218, 2219, 2260, 2280, 2289, 2290, 2291, 2292, 2293, 2294, 2295, 2296, 2297, 2298, 2299, 2300, 2340, 2360, 2371, 2372, 2373, 2374, 2375, 2376, 2377, 2378, 2379, 2380, 2381, 2382, 2420, 2440, 2454, 2455, 2456, 2457, 2458, 2459, 2460, 2461, 2462, 2463, 2464, 2500, 2520, 2536, 2537, 2538, 2539, 2540, 2541, 2542, 2543, 2544, 2545, 2546, 2580, 2600, 2618, 2619, 2620, 2621, 2622, 2623, 2624, 2625, 2626, 2627, 2660, 2680, 2701, 2702, 2703, 2704, 2705, 2706, 2707, 2708, 2709, 2740, 2760, 2783, 2784, 2785, 2786, 2787, 2788, 2789, 2790, 2791, 2820, 2840, 2866, 2867, 2868, 2869, 2870, 2871, 2872, 2873, 2900, 2920, 2948, 2949, 2950, 2951, 2952, 2953, 2954, 2980, 3000, 3030, 3031, 3032, 3033, 3034, 3035, 3036, 3060, 3080, 3113, 3114, 3115, 3116, 3117, 3118, 3140, 3160, 3195, 3196, 3197, 3198, 3199, 3200, 3220, 3240, 3278, 3279, 3280, 3281, 3300, 3360, 3361, 3362, 3363, 3380, 3443, 3444, 3445, 3460, 3525, 3526, 3540, 3607, 3608, 3620, 3690, 3700, 3772, 3780, 3854, 3860, 3936, 3940, 4018, 4019, 4020, 4099, 4100, 4101, 4180, 4181, 4182, 4183, 4260, 4263, 4264, 4265, 4266, 4340, 4345, 4346, 4347, 4348, 4420, 4427, 4428, 4429, 4430, 4431, 4500, 4508, 4509, 4510, 4511, 4512, 4513, 4580, 4590, 4591, 4592, 4593, 4594, 4595, 4660, 4672, 4673, 4674, 4675, 4676, 4677, 4678, 4740, 4753, 4754, 4755, 4756, 4757, 4758, 4759, 4760, 4820, 4835, 4836, 4837, 4838, 4839, 4840, 4841, 4842, 4843, 4900, 4917, 4918, 4919, 4920, 4921, 4922, 4923, 4924, 4925, 4980, 4999, 5000, 5001, 5002, 5003, 5004, 5005, 5006, 5007, 5060, 5080, 5081, 5082, 5083, 5084, 5085, 5086, 5087, 5088, 5089, 5090, 5140, 5162, 5163, 5164, 5165, 5166, 5167, 5168, 5169, 5170, 5171, 5172, 5220, 5244, 5245, 5246, 5247, 5248, 5249, 5250, 5251, 5252, 5253, 5254, 5255, 5300, 5326, 5327, 5328, 5329, 5330, 5331, 5332, 5333, 5334, 5335, 5336, 5337, 5380, 5407, 5408, 5409, 5410, 5411, 5412, 5413, 5414, 5415, 5416, 5417, 5418, 5419, 5420, 5460, 5489, 5490, 5491, 5492, 5493, 5494, 5495, 5496, 5497, 5498, 5499, 5500, 5501, 5502, 5540, 5571, 5572, 5573, 5574, 5575, 5576, 5577, 5578, 5579, 5580, 5581, 5582, 5583, 5584, 5620, 5653, 5654, 5655, 5656, 5657, 5658, 5659, 5660, 5661, 5662, 5663, 5664, 5665, 5666, 5667, 5700, 5734, 5735, 5736, 5737, 5738, 5739, 5740, 5741, 5742, 5743, 5744, 5745, 5746, 5747, 5748, 5749, 5780, 5816, 5817, 5818, 5819, 5820, 5821, 5822, 5823, 5824, 5825, 5826, 5827, 5828, 5829, 5830, 5831, 5860, 5898, 5899, 5900, 5901, 5902, 5903, 5904, 5905, 5906, 5907, 5908, 5909, 5910, 5911, 5912, 5940, 5979, 5980, 5981, 5982, 5983, 5984, 5985, 5986, 5987, 5988, 5989, 5990, 5991, 5992, 5993, 6020, 6061, 6062, 6063, 6064, 6065, 6066, 6067, 6068, 6069, 6070, 6071, 6072, 6073, 6074, 6100, 6143, 6144, 6145, 6146, 6147, 6148, 6149, 6150, 6151, 6152, 6153, 6154, 6155, 6180, 6225, 6226, 6227, 6228, 6229, 6230, 6231, 6232, 6233, 6234, 6235, 6236, 6260, 6306, 6307, 6308, 6309, 6310, 6311, 6312, 6313, 6314, 6315, 6316, 6317, 6340, 6388, 6389, 6390, 6391, 6392, 6393, 6394, 6395, 6396, 6397, 6398, 6420, 6470, 6471, 6472, 6473, 6474, 6475, 6476, 6477, 6478, 6479, 6500, 6552, 6553, 6554, 6555, 6556, 6557, 6558, 6559, 6560]\n",
      "CPU times: user 162 ms, sys: 16 ms, total: 178 ms\n",
      "Wall time: 177 ms\n"
     ]
    }
   ],
   "source": [
    "%%time\n",
    "n_total = len(simulation.dataframe)\n",
    "n_train = len(simulation.dataframe[simulation.dataframe.type_of == \"train\"])\n",
    "n_val = len(simulation.dataframe[simulation.dataframe.type_of == \"val\"])\n",
    "n_test = len(simulation.dataframe[simulation.dataframe.type_of == \"test\"])\n",
    "n_train_hamiltonians = len(simulation.train_ids)\n",
    "n_val_hamiltonians = len(simulation.val_ids)\n",
    "n_test_hamiltonians = len(simulation.test_ids)\n",
    "n_total_hamiltonians = n_train_hamiltonians + n_val_hamiltonians + n_test_hamiltonians\n",
    "\n",
    "print(\"% train: \", n_train/n_total)\n",
    "print(\"% val: \",  n_val/n_total)\n",
    "print(\"% test: \", n_test/n_total)\n",
    "print(\"% train + val + test: \", (n_train+n_val+n_test)/n_total)\n",
    "print(\"\\n\")\n",
    "print(\"number of train hamiltonians: \", n_train_hamiltonians)\n",
    "print(\"number of val hamiltonians: \", n_val_hamiltonians)\n",
    "print(\"number of test hamiltonians: \", n_test_hamiltonians)\n",
    "print(\"total number of hamiltonians: \", n_total_hamiltonians)\n",
    "print(\"\\n\")\n",
    "print(\"train ids: \", simulation.train_ids)\n",
    "print(\"val ids: \", simulation.val_ids)\n",
    "print(\"test ids: \", simulation.test_ids)"
   ]
  },
  {
   "cell_type": "markdown",
   "metadata": {
    "papermill": {
     "duration": 0.020697,
     "end_time": "2020-07-09T08:17:03.655774",
     "exception": false,
     "start_time": "2020-07-09T08:17:03.635077",
     "status": "completed"
    },
    "tags": []
   },
   "source": [
    "#### Checking summaries"
   ]
  },
  {
   "cell_type": "code",
   "execution_count": 27,
   "metadata": {
    "execution": {
     "iopub.execute_input": "2020-07-09T08:17:03.700965Z",
     "iopub.status.busy": "2020-07-09T08:17:03.700648Z",
     "iopub.status.idle": "2020-07-09T08:17:03.720227Z",
     "shell.execute_reply": "2020-07-09T08:17:03.719909Z"
    },
    "papermill": {
     "duration": 0.041224,
     "end_time": "2020-07-09T08:17:03.720277",
     "exception": false,
     "start_time": "2020-07-09T08:17:03.679053",
     "status": "completed"
    },
    "tags": []
   },
   "outputs": [
    {
     "name": "stdout",
     "output_type": "stream",
     "text": [
      "length of ham_summary:  6561\n",
      "CPU times: user 59 µs, sys: 0 ns, total: 59 µs\n",
      "Wall time: 57 µs\n"
     ]
    },
    {
     "data": {
      "text/html": [
       "<div>\n",
       "<style scoped>\n",
       "    .dataframe tbody tr th:only-of-type {\n",
       "        vertical-align: middle;\n",
       "    }\n",
       "\n",
       "    .dataframe tbody tr th {\n",
       "        vertical-align: top;\n",
       "    }\n",
       "\n",
       "    .dataframe thead th {\n",
       "        text-align: right;\n",
       "    }\n",
       "</style>\n",
       "<table border=\"1\" class=\"dataframe\">\n",
       "  <thead>\n",
       "    <tr style=\"text-align: right;\">\n",
       "      <th></th>\n",
       "      <th>t1</th>\n",
       "      <th>t2</th>\n",
       "      <th>type_of</th>\n",
       "      <th>-1</th>\n",
       "      <th>0</th>\n",
       "      <th>1</th>\n",
       "      <th>2</th>\n",
       "      <th>phase</th>\n",
       "      <th>pred_phase</th>\n",
       "    </tr>\n",
       "    <tr>\n",
       "      <th>id</th>\n",
       "      <th></th>\n",
       "      <th></th>\n",
       "      <th></th>\n",
       "      <th></th>\n",
       "      <th></th>\n",
       "      <th></th>\n",
       "      <th></th>\n",
       "      <th></th>\n",
       "      <th></th>\n",
       "    </tr>\n",
       "  </thead>\n",
       "  <tbody>\n",
       "    <tr>\n",
       "      <th>0</th>\n",
       "      <td>-2.0</td>\n",
       "      <td>-2.00</td>\n",
       "      <td>test</td>\n",
       "      <td>0.13</td>\n",
       "      <td>0.45</td>\n",
       "      <td>0.30</td>\n",
       "      <td>0.12</td>\n",
       "      <td>999</td>\n",
       "      <td>0</td>\n",
       "    </tr>\n",
       "    <tr>\n",
       "      <th>1</th>\n",
       "      <td>-2.0</td>\n",
       "      <td>-1.95</td>\n",
       "      <td>test</td>\n",
       "      <td>0.09</td>\n",
       "      <td>0.45</td>\n",
       "      <td>0.33</td>\n",
       "      <td>0.13</td>\n",
       "      <td>-1</td>\n",
       "      <td>0</td>\n",
       "    </tr>\n",
       "    <tr>\n",
       "      <th>2</th>\n",
       "      <td>-2.0</td>\n",
       "      <td>-1.90</td>\n",
       "      <td>test</td>\n",
       "      <td>0.17</td>\n",
       "      <td>0.39</td>\n",
       "      <td>0.30</td>\n",
       "      <td>0.14</td>\n",
       "      <td>-1</td>\n",
       "      <td>0</td>\n",
       "    </tr>\n",
       "    <tr>\n",
       "      <th>3</th>\n",
       "      <td>-2.0</td>\n",
       "      <td>-1.85</td>\n",
       "      <td>test</td>\n",
       "      <td>0.10</td>\n",
       "      <td>0.42</td>\n",
       "      <td>0.33</td>\n",
       "      <td>0.15</td>\n",
       "      <td>-1</td>\n",
       "      <td>0</td>\n",
       "    </tr>\n",
       "    <tr>\n",
       "      <th>4</th>\n",
       "      <td>-2.0</td>\n",
       "      <td>-1.80</td>\n",
       "      <td>test</td>\n",
       "      <td>0.12</td>\n",
       "      <td>0.49</td>\n",
       "      <td>0.31</td>\n",
       "      <td>0.08</td>\n",
       "      <td>-1</td>\n",
       "      <td>0</td>\n",
       "    </tr>\n",
       "    <tr>\n",
       "      <th>...</th>\n",
       "      <td>...</td>\n",
       "      <td>...</td>\n",
       "      <td>...</td>\n",
       "      <td>...</td>\n",
       "      <td>...</td>\n",
       "      <td>...</td>\n",
       "      <td>...</td>\n",
       "      <td>...</td>\n",
       "      <td>...</td>\n",
       "    </tr>\n",
       "    <tr>\n",
       "      <th>6556</th>\n",
       "      <td>2.0</td>\n",
       "      <td>1.80</td>\n",
       "      <td>test</td>\n",
       "      <td>0.13</td>\n",
       "      <td>0.43</td>\n",
       "      <td>0.22</td>\n",
       "      <td>0.22</td>\n",
       "      <td>-1</td>\n",
       "      <td>0</td>\n",
       "    </tr>\n",
       "    <tr>\n",
       "      <th>6557</th>\n",
       "      <td>2.0</td>\n",
       "      <td>1.85</td>\n",
       "      <td>test</td>\n",
       "      <td>0.10</td>\n",
       "      <td>0.46</td>\n",
       "      <td>0.29</td>\n",
       "      <td>0.15</td>\n",
       "      <td>-1</td>\n",
       "      <td>0</td>\n",
       "    </tr>\n",
       "    <tr>\n",
       "      <th>6558</th>\n",
       "      <td>2.0</td>\n",
       "      <td>1.90</td>\n",
       "      <td>test</td>\n",
       "      <td>0.15</td>\n",
       "      <td>0.45</td>\n",
       "      <td>0.23</td>\n",
       "      <td>0.17</td>\n",
       "      <td>-1</td>\n",
       "      <td>0</td>\n",
       "    </tr>\n",
       "    <tr>\n",
       "      <th>6559</th>\n",
       "      <td>2.0</td>\n",
       "      <td>1.95</td>\n",
       "      <td>test</td>\n",
       "      <td>0.12</td>\n",
       "      <td>0.50</td>\n",
       "      <td>0.25</td>\n",
       "      <td>0.13</td>\n",
       "      <td>-1</td>\n",
       "      <td>0</td>\n",
       "    </tr>\n",
       "    <tr>\n",
       "      <th>6560</th>\n",
       "      <td>2.0</td>\n",
       "      <td>2.00</td>\n",
       "      <td>test</td>\n",
       "      <td>0.10</td>\n",
       "      <td>0.49</td>\n",
       "      <td>0.25</td>\n",
       "      <td>0.16</td>\n",
       "      <td>999</td>\n",
       "      <td>0</td>\n",
       "    </tr>\n",
       "  </tbody>\n",
       "</table>\n",
       "<p>6561 rows × 9 columns</p>\n",
       "</div>"
      ],
      "text/plain": [
       "       t1    t2 type_of    -1     0     1     2  phase  pred_phase\n",
       "id                                                                \n",
       "0    -2.0 -2.00    test  0.13  0.45  0.30  0.12    999           0\n",
       "1    -2.0 -1.95    test  0.09  0.45  0.33  0.13     -1           0\n",
       "2    -2.0 -1.90    test  0.17  0.39  0.30  0.14     -1           0\n",
       "3    -2.0 -1.85    test  0.10  0.42  0.33  0.15     -1           0\n",
       "4    -2.0 -1.80    test  0.12  0.49  0.31  0.08     -1           0\n",
       "...   ...   ...     ...   ...   ...   ...   ...    ...         ...\n",
       "6556  2.0  1.80    test  0.13  0.43  0.22  0.22     -1           0\n",
       "6557  2.0  1.85    test  0.10  0.46  0.29  0.15     -1           0\n",
       "6558  2.0  1.90    test  0.15  0.45  0.23  0.17     -1           0\n",
       "6559  2.0  1.95    test  0.12  0.50  0.25  0.13     -1           0\n",
       "6560  2.0  2.00    test  0.10  0.49  0.25  0.16    999           0\n",
       "\n",
       "[6561 rows x 9 columns]"
      ]
     },
     "execution_count": 27,
     "metadata": {},
     "output_type": "execute_result"
    }
   ],
   "source": [
    "%%time\n",
    "ham_summary = simulation.hamiltonian_summary\n",
    "print(\"length of ham_summary: \", len(ham_summary))\n",
    "ham_summary"
   ]
  },
  {
   "cell_type": "code",
   "execution_count": 28,
   "metadata": {
    "execution": {
     "iopub.execute_input": "2020-07-09T08:17:03.766148Z",
     "iopub.status.busy": "2020-07-09T08:17:03.765826Z",
     "iopub.status.idle": "2020-07-09T08:17:03.847057Z",
     "shell.execute_reply": "2020-07-09T08:17:03.846620Z"
    },
    "papermill": {
     "duration": 0.105476,
     "end_time": "2020-07-09T08:17:03.847123",
     "exception": false,
     "start_time": "2020-07-09T08:17:03.741647",
     "status": "completed"
    },
    "tags": []
   },
   "outputs": [
    {
     "data": {
      "text/html": [
       "<div>\n",
       "<style scoped>\n",
       "    .dataframe tbody tr th:only-of-type {\n",
       "        vertical-align: middle;\n",
       "    }\n",
       "\n",
       "    .dataframe tbody tr th {\n",
       "        vertical-align: top;\n",
       "    }\n",
       "\n",
       "    .dataframe thead th {\n",
       "        text-align: right;\n",
       "    }\n",
       "</style>\n",
       "<table border=\"1\" class=\"dataframe\">\n",
       "  <thead>\n",
       "    <tr style=\"text-align: right;\">\n",
       "      <th></th>\n",
       "      <th>t1</th>\n",
       "      <th>t2</th>\n",
       "      <th>-1</th>\n",
       "      <th>0</th>\n",
       "      <th>1</th>\n",
       "      <th>2</th>\n",
       "      <th>phase</th>\n",
       "      <th>pred_phase</th>\n",
       "    </tr>\n",
       "  </thead>\n",
       "  <tbody>\n",
       "    <tr>\n",
       "      <th>count</th>\n",
       "      <td>6561.000000</td>\n",
       "      <td>6.561000e+03</td>\n",
       "      <td>6561.000000</td>\n",
       "      <td>6561.000000</td>\n",
       "      <td>6561.000000</td>\n",
       "      <td>6561.000000</td>\n",
       "      <td>6561.000000</td>\n",
       "      <td>6561.000000</td>\n",
       "    </tr>\n",
       "    <tr>\n",
       "      <th>mean</th>\n",
       "      <td>0.000000</td>\n",
       "      <td>-4.331917e-18</td>\n",
       "      <td>0.162859</td>\n",
       "      <td>0.347670</td>\n",
       "      <td>0.334893</td>\n",
       "      <td>0.154579</td>\n",
       "      <td>28.045877</td>\n",
       "      <td>0.410151</td>\n",
       "    </tr>\n",
       "    <tr>\n",
       "      <th>std</th>\n",
       "      <td>1.169134</td>\n",
       "      <td>1.169134e+00</td>\n",
       "      <td>0.256033</td>\n",
       "      <td>0.312154</td>\n",
       "      <td>0.314430</td>\n",
       "      <td>0.254208</td>\n",
       "      <td>163.557011</td>\n",
       "      <td>0.821517</td>\n",
       "    </tr>\n",
       "    <tr>\n",
       "      <th>min</th>\n",
       "      <td>-2.000000</td>\n",
       "      <td>-2.000000e+00</td>\n",
       "      <td>0.000000</td>\n",
       "      <td>0.000000</td>\n",
       "      <td>0.000000</td>\n",
       "      <td>0.000000</td>\n",
       "      <td>-1.000000</td>\n",
       "      <td>-1.000000</td>\n",
       "    </tr>\n",
       "    <tr>\n",
       "      <th>25%</th>\n",
       "      <td>-1.000000</td>\n",
       "      <td>-1.000000e+00</td>\n",
       "      <td>0.000000</td>\n",
       "      <td>0.010000</td>\n",
       "      <td>0.000000</td>\n",
       "      <td>0.000000</td>\n",
       "      <td>0.000000</td>\n",
       "      <td>0.000000</td>\n",
       "    </tr>\n",
       "    <tr>\n",
       "      <th>50%</th>\n",
       "      <td>0.000000</td>\n",
       "      <td>0.000000e+00</td>\n",
       "      <td>0.100000</td>\n",
       "      <td>0.320000</td>\n",
       "      <td>0.290000</td>\n",
       "      <td>0.090000</td>\n",
       "      <td>1.000000</td>\n",
       "      <td>0.000000</td>\n",
       "    </tr>\n",
       "    <tr>\n",
       "      <th>75%</th>\n",
       "      <td>1.000000</td>\n",
       "      <td>1.000000e+00</td>\n",
       "      <td>0.160000</td>\n",
       "      <td>0.460000</td>\n",
       "      <td>0.440000</td>\n",
       "      <td>0.150000</td>\n",
       "      <td>1.000000</td>\n",
       "      <td>1.000000</td>\n",
       "    </tr>\n",
       "    <tr>\n",
       "      <th>max</th>\n",
       "      <td>2.000000</td>\n",
       "      <td>2.000000e+00</td>\n",
       "      <td>1.000000</td>\n",
       "      <td>1.000000</td>\n",
       "      <td>1.000000</td>\n",
       "      <td>1.000000</td>\n",
       "      <td>999.000000</td>\n",
       "      <td>2.000000</td>\n",
       "    </tr>\n",
       "  </tbody>\n",
       "</table>\n",
       "</div>"
      ],
      "text/plain": [
       "                t1            t2           -1            0            1  \\\n",
       "count  6561.000000  6.561000e+03  6561.000000  6561.000000  6561.000000   \n",
       "mean      0.000000 -4.331917e-18     0.162859     0.347670     0.334893   \n",
       "std       1.169134  1.169134e+00     0.256033     0.312154     0.314430   \n",
       "min      -2.000000 -2.000000e+00     0.000000     0.000000     0.000000   \n",
       "25%      -1.000000 -1.000000e+00     0.000000     0.010000     0.000000   \n",
       "50%       0.000000  0.000000e+00     0.100000     0.320000     0.290000   \n",
       "75%       1.000000  1.000000e+00     0.160000     0.460000     0.440000   \n",
       "max       2.000000  2.000000e+00     1.000000     1.000000     1.000000   \n",
       "\n",
       "                 2        phase   pred_phase  \n",
       "count  6561.000000  6561.000000  6561.000000  \n",
       "mean      0.154579    28.045877     0.410151  \n",
       "std       0.254208   163.557011     0.821517  \n",
       "min       0.000000    -1.000000    -1.000000  \n",
       "25%       0.000000     0.000000     0.000000  \n",
       "50%       0.090000     1.000000     0.000000  \n",
       "75%       0.150000     1.000000     1.000000  \n",
       "max       1.000000   999.000000     2.000000  "
      ]
     },
     "execution_count": 28,
     "metadata": {},
     "output_type": "execute_result"
    }
   ],
   "source": [
    "ham_summary.describe()"
   ]
  },
  {
   "cell_type": "code",
   "execution_count": 29,
   "metadata": {
    "execution": {
     "iopub.execute_input": "2020-07-09T08:17:03.892582Z",
     "iopub.status.busy": "2020-07-09T08:17:03.892266Z",
     "iopub.status.idle": "2020-07-09T08:17:03.906910Z",
     "shell.execute_reply": "2020-07-09T08:17:03.906592Z"
    },
    "papermill": {
     "duration": 0.036479,
     "end_time": "2020-07-09T08:17:03.906961",
     "exception": false,
     "start_time": "2020-07-09T08:17:03.870482",
     "status": "completed"
    },
    "tags": []
   },
   "outputs": [
    {
     "name": "stdout",
     "output_type": "stream",
     "text": [
      "length of ham_summary:  656100\n"
     ]
    },
    {
     "data": {
      "text/html": [
       "<div>\n",
       "<style scoped>\n",
       "    .dataframe tbody tr th:only-of-type {\n",
       "        vertical-align: middle;\n",
       "    }\n",
       "\n",
       "    .dataframe tbody tr th {\n",
       "        vertical-align: top;\n",
       "    }\n",
       "\n",
       "    .dataframe thead th {\n",
       "        text-align: right;\n",
       "    }\n",
       "</style>\n",
       "<table border=\"1\" class=\"dataframe\">\n",
       "  <thead>\n",
       "    <tr style=\"text-align: right;\">\n",
       "      <th></th>\n",
       "      <th>id</th>\n",
       "      <th>phase</th>\n",
       "      <th>pred_phase</th>\n",
       "      <th>type_of</th>\n",
       "    </tr>\n",
       "  </thead>\n",
       "  <tbody>\n",
       "    <tr>\n",
       "      <th>0</th>\n",
       "      <td>0</td>\n",
       "      <td>999</td>\n",
       "      <td>2</td>\n",
       "      <td>test</td>\n",
       "    </tr>\n",
       "    <tr>\n",
       "      <th>1</th>\n",
       "      <td>0</td>\n",
       "      <td>999</td>\n",
       "      <td>2</td>\n",
       "      <td>test</td>\n",
       "    </tr>\n",
       "    <tr>\n",
       "      <th>2</th>\n",
       "      <td>0</td>\n",
       "      <td>999</td>\n",
       "      <td>2</td>\n",
       "      <td>test</td>\n",
       "    </tr>\n",
       "    <tr>\n",
       "      <th>3</th>\n",
       "      <td>0</td>\n",
       "      <td>999</td>\n",
       "      <td>1</td>\n",
       "      <td>test</td>\n",
       "    </tr>\n",
       "    <tr>\n",
       "      <th>4</th>\n",
       "      <td>0</td>\n",
       "      <td>999</td>\n",
       "      <td>0</td>\n",
       "      <td>test</td>\n",
       "    </tr>\n",
       "    <tr>\n",
       "      <th>...</th>\n",
       "      <td>...</td>\n",
       "      <td>...</td>\n",
       "      <td>...</td>\n",
       "      <td>...</td>\n",
       "    </tr>\n",
       "    <tr>\n",
       "      <th>656095</th>\n",
       "      <td>6560</td>\n",
       "      <td>999</td>\n",
       "      <td>0</td>\n",
       "      <td>test</td>\n",
       "    </tr>\n",
       "    <tr>\n",
       "      <th>656096</th>\n",
       "      <td>6560</td>\n",
       "      <td>999</td>\n",
       "      <td>-1</td>\n",
       "      <td>test</td>\n",
       "    </tr>\n",
       "    <tr>\n",
       "      <th>656097</th>\n",
       "      <td>6560</td>\n",
       "      <td>999</td>\n",
       "      <td>0</td>\n",
       "      <td>test</td>\n",
       "    </tr>\n",
       "    <tr>\n",
       "      <th>656098</th>\n",
       "      <td>6560</td>\n",
       "      <td>999</td>\n",
       "      <td>1</td>\n",
       "      <td>test</td>\n",
       "    </tr>\n",
       "    <tr>\n",
       "      <th>656099</th>\n",
       "      <td>6560</td>\n",
       "      <td>999</td>\n",
       "      <td>0</td>\n",
       "      <td>test</td>\n",
       "    </tr>\n",
       "  </tbody>\n",
       "</table>\n",
       "<p>656100 rows × 4 columns</p>\n",
       "</div>"
      ],
      "text/plain": [
       "          id  phase  pred_phase type_of\n",
       "0          0    999           2    test\n",
       "1          0    999           2    test\n",
       "2          0    999           2    test\n",
       "3          0    999           1    test\n",
       "4          0    999           0    test\n",
       "...      ...    ...         ...     ...\n",
       "656095  6560    999           0    test\n",
       "656096  6560    999          -1    test\n",
       "656097  6560    999           0    test\n",
       "656098  6560    999           1    test\n",
       "656099  6560    999           0    test\n",
       "\n",
       "[656100 rows x 4 columns]"
      ]
     },
     "execution_count": 29,
     "metadata": {},
     "output_type": "execute_result"
    }
   ],
   "source": [
    "eigen_summary = simulation.eigenvector_summary\n",
    "print(\"length of ham_summary: \", len(eigen_summary))\n",
    "eigen_summary"
   ]
  },
  {
   "cell_type": "markdown",
   "metadata": {
    "papermill": {
     "duration": 0.021705,
     "end_time": "2020-07-09T08:17:03.950583",
     "exception": false,
     "start_time": "2020-07-09T08:17:03.928878",
     "status": "completed"
    },
    "tags": []
   },
   "source": [
    "#### Checking accuracies"
   ]
  },
  {
   "cell_type": "code",
   "execution_count": 30,
   "metadata": {
    "execution": {
     "iopub.execute_input": "2020-07-09T08:17:03.994352Z",
     "iopub.status.busy": "2020-07-09T08:17:03.994044Z",
     "iopub.status.idle": "2020-07-09T08:17:04.044159Z",
     "shell.execute_reply": "2020-07-09T08:17:04.044542Z"
    },
    "papermill": {
     "duration": 0.073021,
     "end_time": "2020-07-09T08:17:04.044622",
     "exception": false,
     "start_time": "2020-07-09T08:17:03.971601",
     "status": "completed"
    },
    "tags": []
   },
   "outputs": [
    {
     "data": {
      "text/plain": [
       "{'eigenvector_train': 0.9969250271640709,\n",
       " 'eigenvector_val': 0.43267391304347824,\n",
       " 'eigenvector_test': 0.2210826542491269,\n",
       " 'hamiltonian_train': 1.0,\n",
       " 'hamiltonian_val': 0.7865942028985508,\n",
       " 'hamiltonian_test': 0.15948777648428406}"
      ]
     },
     "execution_count": 30,
     "metadata": {},
     "output_type": "execute_result"
    }
   ],
   "source": [
    "simulation.accuracy"
   ]
  },
  {
   "cell_type": "markdown",
   "metadata": {
    "papermill": {
     "duration": 0.023581,
     "end_time": "2020-07-09T08:17:04.097943",
     "exception": false,
     "start_time": "2020-07-09T08:17:04.074362",
     "status": "completed"
    },
    "tags": []
   },
   "source": [
    "#### Checking data stored in  memory"
   ]
  },
  {
   "cell_type": "code",
   "execution_count": 31,
   "metadata": {
    "execution": {
     "iopub.execute_input": "2020-07-09T08:17:04.143578Z",
     "iopub.status.busy": "2020-07-09T08:17:04.143079Z",
     "iopub.status.idle": "2020-07-09T08:17:04.153236Z",
     "shell.execute_reply": "2020-07-09T08:17:04.153537Z"
    },
    "papermill": {
     "duration": 0.034447,
     "end_time": "2020-07-09T08:17:04.153601",
     "exception": false,
     "start_time": "2020-07-09T08:17:04.119154",
     "status": "completed"
    },
    "tags": []
   },
   "outputs": [
    {
     "data": {
      "text/plain": [
       "[]"
      ]
     },
     "execution_count": 31,
     "metadata": {},
     "output_type": "execute_result"
    }
   ],
   "source": [
    "ham_summary_list = simulation.hamiltonian_summary_list\n",
    "ham_summary_list"
   ]
  },
  {
   "cell_type": "code",
   "execution_count": 32,
   "metadata": {
    "execution": {
     "iopub.execute_input": "2020-07-09T08:17:04.199512Z",
     "iopub.status.busy": "2020-07-09T08:17:04.198968Z",
     "iopub.status.idle": "2020-07-09T08:17:04.260910Z",
     "shell.execute_reply": "2020-07-09T08:17:04.261363Z"
    },
    "papermill": {
     "duration": 0.085626,
     "end_time": "2020-07-09T08:17:04.261454",
     "exception": false,
     "start_time": "2020-07-09T08:17:04.175828",
     "status": "completed"
    },
    "tags": []
   },
   "outputs": [
    {
     "data": {
      "text/plain": [
       "[]"
      ]
     },
     "execution_count": 32,
     "metadata": {},
     "output_type": "execute_result"
    }
   ],
   "source": [
    "eigen_summary_list = simulation.eigenvector_summary_list\n",
    "eigen_summary_list"
   ]
  },
  {
   "cell_type": "code",
   "execution_count": 33,
   "metadata": {
    "execution": {
     "iopub.execute_input": "2020-07-09T08:17:04.317092Z",
     "iopub.status.busy": "2020-07-09T08:17:04.316597Z",
     "iopub.status.idle": "2020-07-09T08:17:04.335351Z",
     "shell.execute_reply": "2020-07-09T08:17:04.335035Z"
    },
    "papermill": {
     "duration": 0.042815,
     "end_time": "2020-07-09T08:17:04.335399",
     "exception": false,
     "start_time": "2020-07-09T08:17:04.292584",
     "status": "completed"
    },
    "tags": []
   },
   "outputs": [
    {
     "data": {
      "text/plain": [
       "{'eigenvector_train': [],\n",
       " 'eigenvector_val': [],\n",
       " 'eigenvector_test': [],\n",
       " 'hamiltonian_train': [],\n",
       " 'hamiltonian_val': [],\n",
       " 'hamiltonian_test': []}"
      ]
     },
     "execution_count": 33,
     "metadata": {},
     "output_type": "execute_result"
    }
   ],
   "source": [
    "accuracy_list = simulation.accuracy_list\n",
    "accuracy_list"
   ]
  },
  {
   "cell_type": "code",
   "execution_count": null,
   "metadata": {
    "papermill": {
     "duration": 0.021697,
     "end_time": "2020-07-09T08:17:04.379657",
     "exception": false,
     "start_time": "2020-07-09T08:17:04.357960",
     "status": "completed"
    },
    "tags": []
   },
   "outputs": [],
   "source": []
  },
  {
   "cell_type": "code",
   "execution_count": null,
   "metadata": {
    "papermill": {
     "duration": 0.021809,
     "end_time": "2020-07-09T08:17:04.423559",
     "exception": false,
     "start_time": "2020-07-09T08:17:04.401750",
     "status": "completed"
    },
    "tags": []
   },
   "outputs": [],
   "source": []
  },
  {
   "cell_type": "code",
   "execution_count": 34,
   "metadata": {
    "execution": {
     "iopub.execute_input": "2020-07-09T08:17:04.468720Z",
     "iopub.status.busy": "2020-07-09T08:17:04.468412Z",
     "iopub.status.idle": "2020-07-09T08:17:04.484553Z",
     "shell.execute_reply": "2020-07-09T08:17:04.484221Z"
    },
    "papermill": {
     "duration": 0.039593,
     "end_time": "2020-07-09T08:17:04.484606",
     "exception": false,
     "start_time": "2020-07-09T08:17:04.445013",
     "status": "completed"
    },
    "tags": []
   },
   "outputs": [],
   "source": [
    "#simulation.fourier_matrix"
   ]
  },
  {
   "cell_type": "code",
   "execution_count": 35,
   "metadata": {
    "execution": {
     "iopub.execute_input": "2020-07-09T08:17:04.531063Z",
     "iopub.status.busy": "2020-07-09T08:17:04.530744Z",
     "iopub.status.idle": "2020-07-09T08:17:04.609822Z",
     "shell.execute_reply": "2020-07-09T08:17:04.608009Z"
    },
    "papermill": {
     "duration": 0.103015,
     "end_time": "2020-07-09T08:17:04.610070",
     "exception": false,
     "start_time": "2020-07-09T08:17:04.507055",
     "status": "completed"
    },
    "tags": []
   },
   "outputs": [],
   "source": [
    "#simulation.fourier_matrix.shape"
   ]
  },
  {
   "cell_type": "code",
   "execution_count": 36,
   "metadata": {
    "execution": {
     "iopub.execute_input": "2020-07-09T08:17:04.693790Z",
     "iopub.status.busy": "2020-07-09T08:17:04.693481Z",
     "iopub.status.idle": "2020-07-09T08:17:04.702817Z",
     "shell.execute_reply": "2020-07-09T08:17:04.703122Z"
    },
    "papermill": {
     "duration": 0.034043,
     "end_time": "2020-07-09T08:17:04.703187",
     "exception": false,
     "start_time": "2020-07-09T08:17:04.669144",
     "status": "completed"
    },
    "tags": []
   },
   "outputs": [],
   "source": [
    "#simulation.fourier_matrix[:,0]"
   ]
  },
  {
   "cell_type": "code",
   "execution_count": 37,
   "metadata": {
    "execution": {
     "iopub.execute_input": "2020-07-09T08:17:04.750336Z",
     "iopub.status.busy": "2020-07-09T08:17:04.750028Z",
     "iopub.status.idle": "2020-07-09T08:17:04.819673Z",
     "shell.execute_reply": "2020-07-09T08:17:04.819058Z"
    },
    "papermill": {
     "duration": 0.093903,
     "end_time": "2020-07-09T08:17:04.819764",
     "exception": false,
     "start_time": "2020-07-09T08:17:04.725861",
     "status": "completed"
    },
    "tags": []
   },
   "outputs": [],
   "source": [
    "#simulation.fourier_matrix[:,1]"
   ]
  },
  {
   "cell_type": "code",
   "execution_count": 38,
   "metadata": {
    "execution": {
     "iopub.execute_input": "2020-07-09T08:17:04.886735Z",
     "iopub.status.busy": "2020-07-09T08:17:04.886426Z",
     "iopub.status.idle": "2020-07-09T08:17:04.896037Z",
     "shell.execute_reply": "2020-07-09T08:17:04.895716Z"
    },
    "papermill": {
     "duration": 0.035163,
     "end_time": "2020-07-09T08:17:04.896088",
     "exception": false,
     "start_time": "2020-07-09T08:17:04.860925",
     "status": "completed"
    },
    "tags": []
   },
   "outputs": [],
   "source": [
    "#np.exp(-1j*2*np.pi*3/100)"
   ]
  },
  {
   "cell_type": "code",
   "execution_count": 39,
   "metadata": {
    "execution": {
     "iopub.execute_input": "2020-07-09T08:17:04.943797Z",
     "iopub.status.busy": "2020-07-09T08:17:04.943482Z",
     "iopub.status.idle": "2020-07-09T08:17:05.011452Z",
     "shell.execute_reply": "2020-07-09T08:17:05.010752Z"
    },
    "papermill": {
     "duration": 0.092438,
     "end_time": "2020-07-09T08:17:05.011553",
     "exception": false,
     "start_time": "2020-07-09T08:17:04.919115",
     "status": "completed"
    },
    "tags": []
   },
   "outputs": [],
   "source": [
    "#for i in range(1,50):\n",
    "#    print(\"\\n\")\n",
    "#    print(i)\n",
    "#    print(np.sum((np.real(simulation.fourier_matrix[:,i]) - np.real(simulation.fourier_matrix[:,-i]))**2))\n",
    "#    print(np.sum((np.imag(simulation.fourier_matrix[:,i])+ np.imag(simulation.fourier_matrix[:,-i]))**2))"
   ]
  },
  {
   "cell_type": "code",
   "execution_count": 40,
   "metadata": {
    "execution": {
     "iopub.execute_input": "2020-07-09T08:17:05.083986Z",
     "iopub.status.busy": "2020-07-09T08:17:05.083676Z",
     "iopub.status.idle": "2020-07-09T08:17:05.098921Z",
     "shell.execute_reply": "2020-07-09T08:17:05.098598Z"
    },
    "papermill": {
     "duration": 0.040658,
     "end_time": "2020-07-09T08:17:05.098972",
     "exception": false,
     "start_time": "2020-07-09T08:17:05.058314",
     "status": "completed"
    },
    "tags": []
   },
   "outputs": [],
   "source": [
    "#print(simulation.fourier_matrix[:,0])"
   ]
  },
  {
   "cell_type": "code",
   "execution_count": 41,
   "metadata": {
    "execution": {
     "iopub.execute_input": "2020-07-09T08:17:05.148070Z",
     "iopub.status.busy": "2020-07-09T08:17:05.147730Z",
     "iopub.status.idle": "2020-07-09T08:17:05.226033Z",
     "shell.execute_reply": "2020-07-09T08:17:05.224255Z"
    },
    "papermill": {
     "duration": 0.104354,
     "end_time": "2020-07-09T08:17:05.226276",
     "exception": false,
     "start_time": "2020-07-09T08:17:05.121922",
     "status": "completed"
    },
    "tags": []
   },
   "outputs": [],
   "source": [
    "#print(simulation.fourier_matrix[:,50])"
   ]
  },
  {
   "cell_type": "code",
   "execution_count": null,
   "metadata": {
    "papermill": {
     "duration": 0.022609,
     "end_time": "2020-07-09T08:17:05.307146",
     "exception": false,
     "start_time": "2020-07-09T08:17:05.284537",
     "status": "completed"
    },
    "tags": []
   },
   "outputs": [],
   "source": []
  }
 ],
 "metadata": {
  "celltoolbar": "Tags",
  "kernelspec": {
   "display_name": "ml_top_phases",
   "language": "python",
   "name": "ml_top_phases"
  },
  "language_info": {
   "codemirror_mode": {
    "name": "ipython",
    "version": 3
   },
   "file_extension": ".py",
   "mimetype": "text/x-python",
   "name": "python",
   "nbconvert_exporter": "python",
   "pygments_lexer": "ipython3",
   "version": "3.6.10"
  },
  "papermill": {
   "duration": 82.626983,
   "end_time": "2020-07-09T08:17:05.436882",
   "environment_variables": {},
   "exception": null,
   "input_path": "0_simulation_template.ipynb",
   "output_path": "zzz_simulation_output_ssh2_9th_scenario_100_6561.ipynb",
   "parameters": {
    "allowed_windings": [
     -1,
     0,
     1,
     2
    ],
    "csv_path": "/home/rio/ssh_csvs/ssh2/periodic_100_6561.csv",
    "features_to_use": [
     0,
     1,
     2,
     3,
     4,
     5
    ],
    "fillna": false,
    "fit_params": null,
    "fourier_features_to_use": [
     0,
     1,
     2,
     3,
     4,
     5
    ],
    "fourier_fillna": false,
    "fourier_mode": "dct",
    "fourier_normalize": false,
    "fourier_real": null,
    "model_kw": {
     "criterion": "entropy",
     "n_estimators": 25,
     "n_jobs": -1
    },
    "model_name": "RandomForestClassifier",
    "n_experiments": 5,
    "normalize": false,
    "pred_params": null,
    "random_features": false,
    "random_state": 34896,
    "save_accuracy": true,
    "save_eigenvector": true,
    "save_hamiltonian": true,
    "save_models": true,
    "shuffle_features": false,
    "shuffle_rows": true,
    "simulation_dir": "/home/rio/ssh_simulations/ssh2/periodic_9th_scenario_100_6561",
    "start_n": 0,
    "store_in_lists": false,
    "val_split": 0.5
   },
   "start_time": "2020-07-09T08:15:42.809899",
   "version": "2.1.0"
  }
 },
 "nbformat": 4,
 "nbformat_minor": 2
}