{
 "cells": [
  {
   "cell_type": "markdown",
   "metadata": {
    "papermill": {
     "duration": 0.019154,
     "end_time": "2020-07-09T09:47:40.806209",
     "exception": false,
     "start_time": "2020-07-09T09:47:40.787055",
     "status": "completed"
    },
    "tags": []
   },
   "source": [
    "# Simulation template \n",
    "\n",
    "In this notebook we run the machine learning analysis of topological phase transitions occurring  in both nearest-neighbours SSH models (ssh1) and second neighbours models (ssh2) as decribed in the paper [Machine learning topological phases in real space](https://arxiv.org/abs/1901.01963). Here the simulation is run with features generated from fourier components in the first scenario. This scenario is characterized by using only the EVEN wavevector space eigenmodes, computed from ALL real space components."
   ]
  },
  {
   "cell_type": "markdown",
   "metadata": {
    "papermill": {
     "duration": 0.152298,
     "end_time": "2020-07-09T09:47:40.974462",
     "exception": false,
     "start_time": "2020-07-09T09:47:40.822164",
     "status": "completed"
    },
    "tags": []
   },
   "source": [
    "## Defining parameters"
   ]
  },
  {
   "cell_type": "code",
   "execution_count": 1,
   "metadata": {
    "execution": {
     "iopub.execute_input": "2020-07-09T09:47:41.052909Z",
     "iopub.status.busy": "2020-07-09T09:47:41.051811Z",
     "iopub.status.idle": "2020-07-09T09:47:41.633829Z",
     "shell.execute_reply": "2020-07-09T09:47:41.634130Z"
    },
    "papermill": {
     "duration": 0.60465,
     "end_time": "2020-07-09T09:47:41.634207",
     "exception": false,
     "start_time": "2020-07-09T09:47:41.029557",
     "status": "completed"
    },
    "tags": []
   },
   "outputs": [
    {
     "name": "stdout",
     "output_type": "stream",
     "text": [
      "CPU times: user 757 ms, sys: 264 ms, total: 1.02 s\n",
      "Wall time: 575 ms\n"
     ]
    }
   ],
   "source": [
    "%%time\n",
    "%load_ext autoreload\n",
    "%autoreload 2\n",
    "from simulation import *"
   ]
  },
  {
   "cell_type": "code",
   "execution_count": 2,
   "metadata": {
    "execution": {
     "iopub.execute_input": "2020-07-09T09:47:41.667260Z",
     "iopub.status.busy": "2020-07-09T09:47:41.666923Z",
     "iopub.status.idle": "2020-07-09T09:47:41.679336Z",
     "shell.execute_reply": "2020-07-09T09:47:41.679014Z"
    },
    "papermill": {
     "duration": 0.029374,
     "end_time": "2020-07-09T09:47:41.679389",
     "exception": false,
     "start_time": "2020-07-09T09:47:41.650015",
     "status": "completed"
    },
    "tags": [
     "parameters"
    ]
   },
   "outputs": [
    {
     "name": "stdout",
     "output_type": "stream",
     "text": [
      "CPU times: user 2 µs, sys: 1 µs, total: 3 µs\n",
      "Wall time: 4.77 µs\n"
     ]
    }
   ],
   "source": [
    "%%time\n",
    "### Dataset and simulation parameters\n",
    "#csv_path = SSH2_PERIODIC_100_6561_CSV \n",
    "csv_path = SSH1_PERIODIC_100_6561_CSV \n",
    "model_name = \"DecisionTreeClassifier\"\n",
    "model_kw = {\"criterion\":\"entropy\"}\n",
    "allowed_windings = [0,1]\n",
    "#allowed_windings = [-1,0,1,2]\n",
    "simulation_dir = SSH1_PERIODIC_1ST_SCENARIO_100_6561_SIMULATION_DIR\n",
    "#simulation_dir = SSH2_PERIODIC_ENGINEERED_100_6561_SIMULATION_DIR\n",
    "val_split = 0.9  \n",
    "features_to_use = None\n",
    "shuffle_features = False\n",
    "random_state = 763\n",
    "\n",
    "### Fourier features\n",
    "fourier_mode = \"dft\"\n",
    "fourier_features_to_use = None\n",
    "fourier_real = \"real\"\n",
    "fourier_normalize = True\n",
    "fourier_fillna = False\n",
    "\n",
    "### Running a simulation\n",
    "n_experiments = 5\n",
    "start_n = 0\n",
    "fit_params = None\n",
    "#mode=mode\n",
    "shuffle_rows = True\n",
    "pred_params = None\n",
    "random_features = False\n",
    "######### DON'T SET THIS TO TRUE UNLESS YOUR DATASET IS SMALL!! WILL FLOOD YOUR MEMORY!!!\n",
    "store_in_lists = False   \n",
    "########## BELOW ARE THE PARAMETERS THAT CONTROL WHAT WILL BE SAVED\n",
    "save_eigenvector=True\n",
    "save_hamiltonian=True \n",
    "save_accuracy=True \n",
    "save_models=True"
   ]
  },
  {
   "cell_type": "code",
   "execution_count": 3,
   "metadata": {
    "execution": {
     "iopub.execute_input": "2020-07-09T09:47:41.713222Z",
     "iopub.status.busy": "2020-07-09T09:47:41.712908Z",
     "iopub.status.idle": "2020-07-09T09:47:41.818030Z",
     "shell.execute_reply": "2020-07-09T09:47:41.817684Z"
    },
    "papermill": {
     "duration": 0.123179,
     "end_time": "2020-07-09T09:47:41.818084",
     "exception": false,
     "start_time": "2020-07-09T09:47:41.694905",
     "status": "completed"
    },
    "tags": [
     "injected-parameters"
    ]
   },
   "outputs": [],
   "source": [
    "# Parameters\n",
    "model_kw = {\"criterion\": \"entropy\"}\n",
    "allowed_windings = [0, 1]\n",
    "val_split = 0.9\n",
    "features_to_use = [0, 1, 2, 3, 49, 50]\n",
    "shuffle_features = False\n",
    "n_experiments = 100\n",
    "start_n = 0\n",
    "fit_params = None\n",
    "shuffle_rows = True\n",
    "pred_params = None\n",
    "random_features = False\n",
    "store_in_lists = False\n",
    "save_eigenvector = True\n",
    "save_hamiltonian = True\n",
    "save_accuracy = True\n",
    "save_models = True\n",
    "csv_path = \"/home/rio/ssh_csvs/ssh1/periodic_100_6561.csv\"\n",
    "model_name = \"DecisionTreeClassifier\"\n",
    "simulation_dir = \"/home/rio/ssh_simulations/ssh1/periodic_9th_scenario_100_6561\"\n",
    "random_state = 34896\n",
    "fourier_features_to_use = [0, 2, 4, 6, 8, 50]\n",
    "fourier_mode = \"dct\"\n",
    "fourier_real = None\n",
    "fourier_normalize = False\n",
    "fourier_fillna = False\n",
    "normalize = False\n",
    "fillna = False\n"
   ]
  },
  {
   "cell_type": "code",
   "execution_count": 4,
   "metadata": {
    "execution": {
     "iopub.execute_input": "2020-07-09T09:47:41.857185Z",
     "iopub.status.busy": "2020-07-09T09:47:41.856854Z",
     "iopub.status.idle": "2020-07-09T09:47:47.320173Z",
     "shell.execute_reply": "2020-07-09T09:47:47.319855Z"
    },
    "papermill": {
     "duration": 5.484074,
     "end_time": "2020-07-09T09:47:47.320224",
     "exception": false,
     "start_time": "2020-07-09T09:47:41.836150",
     "status": "completed"
    },
    "tags": []
   },
   "outputs": [
    {
     "name": "stdout",
     "output_type": "stream",
     "text": [
      "Info on all data: \n",
      "\n",
      "<class 'pandas.core.frame.DataFrame'>\n",
      "Int64Index: 656100 entries, 0 to 656099\n",
      "Columns: 108 entries, id to feat99\n",
      "dtypes: float64(103), int32(3), object(2)\n",
      "memory usage: 538.1+ MB\n",
      "CPU times: user 5.37 s, sys: 486 ms, total: 5.85 s\n",
      "Wall time: 5.38 s\n"
     ]
    },
    {
     "data": {
      "text/html": [
       "<div>\n",
       "<style scoped>\n",
       "    .dataframe tbody tr th:only-of-type {\n",
       "        vertical-align: middle;\n",
       "    }\n",
       "\n",
       "    .dataframe tbody tr th {\n",
       "        vertical-align: top;\n",
       "    }\n",
       "\n",
       "    .dataframe thead th {\n",
       "        text-align: right;\n",
       "    }\n",
       "</style>\n",
       "<table border=\"1\" class=\"dataframe\">\n",
       "  <thead>\n",
       "    <tr style=\"text-align: right;\">\n",
       "      <th></th>\n",
       "      <th>id</th>\n",
       "      <th>path</th>\n",
       "      <th>t1</th>\n",
       "      <th>t2</th>\n",
       "      <th>winding</th>\n",
       "      <th>phase</th>\n",
       "      <th>pred_phase</th>\n",
       "      <th>type_of</th>\n",
       "      <th>feat0</th>\n",
       "      <th>feat1</th>\n",
       "      <th>...</th>\n",
       "      <th>feat90</th>\n",
       "      <th>feat91</th>\n",
       "      <th>feat92</th>\n",
       "      <th>feat93</th>\n",
       "      <th>feat94</th>\n",
       "      <th>feat95</th>\n",
       "      <th>feat96</th>\n",
       "      <th>feat97</th>\n",
       "      <th>feat98</th>\n",
       "      <th>feat99</th>\n",
       "    </tr>\n",
       "  </thead>\n",
       "  <tbody>\n",
       "    <tr>\n",
       "      <th>0</th>\n",
       "      <td>0</td>\n",
       "      <td>H_-2_-2_0.509296.dat</td>\n",
       "      <td>-2.0</td>\n",
       "      <td>-2.0</td>\n",
       "      <td>0.509296</td>\n",
       "      <td>999</td>\n",
       "      <td>666</td>\n",
       "      <td>test</td>\n",
       "      <td>0.100000</td>\n",
       "      <td>0.100000</td>\n",
       "      <td>...</td>\n",
       "      <td>0.100000</td>\n",
       "      <td>0.100000</td>\n",
       "      <td>0.100000</td>\n",
       "      <td>0.100000</td>\n",
       "      <td>0.100000</td>\n",
       "      <td>0.100000</td>\n",
       "      <td>0.100000</td>\n",
       "      <td>0.100000</td>\n",
       "      <td>0.100000</td>\n",
       "      <td>0.100000</td>\n",
       "    </tr>\n",
       "    <tr>\n",
       "      <th>1</th>\n",
       "      <td>0</td>\n",
       "      <td>H_-2_-2_0.509296.dat</td>\n",
       "      <td>-2.0</td>\n",
       "      <td>-2.0</td>\n",
       "      <td>0.509296</td>\n",
       "      <td>999</td>\n",
       "      <td>666</td>\n",
       "      <td>test</td>\n",
       "      <td>0.141421</td>\n",
       "      <td>0.141142</td>\n",
       "      <td>...</td>\n",
       "      <td>0.114412</td>\n",
       "      <td>0.108967</td>\n",
       "      <td>0.123928</td>\n",
       "      <td>0.119406</td>\n",
       "      <td>0.131490</td>\n",
       "      <td>0.127962</td>\n",
       "      <td>0.136978</td>\n",
       "      <td>0.134500</td>\n",
       "      <td>0.140306</td>\n",
       "      <td>0.138916</td>\n",
       "    </tr>\n",
       "    <tr>\n",
       "      <th>2</th>\n",
       "      <td>0</td>\n",
       "      <td>H_-2_-2_0.509296.dat</td>\n",
       "      <td>-2.0</td>\n",
       "      <td>-2.0</td>\n",
       "      <td>0.509296</td>\n",
       "      <td>999</td>\n",
       "      <td>666</td>\n",
       "      <td>test</td>\n",
       "      <td>0.141421</td>\n",
       "      <td>0.140306</td>\n",
       "      <td>...</td>\n",
       "      <td>0.043702</td>\n",
       "      <td>0.026500</td>\n",
       "      <td>0.075777</td>\n",
       "      <td>0.060214</td>\n",
       "      <td>0.103092</td>\n",
       "      <td>0.090145</td>\n",
       "      <td>0.123928</td>\n",
       "      <td>0.114412</td>\n",
       "      <td>0.136978</td>\n",
       "      <td>0.131490</td>\n",
       "    </tr>\n",
       "    <tr>\n",
       "      <th>3</th>\n",
       "      <td>0</td>\n",
       "      <td>H_-2_-2_0.509296.dat</td>\n",
       "      <td>-2.0</td>\n",
       "      <td>-2.0</td>\n",
       "      <td>0.509296</td>\n",
       "      <td>999</td>\n",
       "      <td>666</td>\n",
       "      <td>test</td>\n",
       "      <td>-0.100000</td>\n",
       "      <td>0.100000</td>\n",
       "      <td>...</td>\n",
       "      <td>-0.100000</td>\n",
       "      <td>0.100000</td>\n",
       "      <td>-0.100000</td>\n",
       "      <td>0.100000</td>\n",
       "      <td>-0.100000</td>\n",
       "      <td>0.100000</td>\n",
       "      <td>-0.100000</td>\n",
       "      <td>0.100000</td>\n",
       "      <td>-0.100000</td>\n",
       "      <td>0.100000</td>\n",
       "    </tr>\n",
       "    <tr>\n",
       "      <th>4</th>\n",
       "      <td>0</td>\n",
       "      <td>H_-2_-2_0.509296.dat</td>\n",
       "      <td>-2.0</td>\n",
       "      <td>-2.0</td>\n",
       "      <td>0.509296</td>\n",
       "      <td>999</td>\n",
       "      <td>666</td>\n",
       "      <td>test</td>\n",
       "      <td>0.000509</td>\n",
       "      <td>-0.008372</td>\n",
       "      <td>...</td>\n",
       "      <td>-0.082713</td>\n",
       "      <td>-0.089753</td>\n",
       "      <td>-0.067684</td>\n",
       "      <td>-0.075347</td>\n",
       "      <td>-0.051587</td>\n",
       "      <td>-0.059753</td>\n",
       "      <td>-0.034677</td>\n",
       "      <td>-0.043217</td>\n",
       "      <td>-0.017220</td>\n",
       "      <td>-0.026000</td>\n",
       "    </tr>\n",
       "  </tbody>\n",
       "</table>\n",
       "<p>5 rows × 108 columns</p>\n",
       "</div>"
      ],
      "text/plain": [
       "   id                  path   t1   t2   winding  phase  pred_phase type_of  \\\n",
       "0   0  H_-2_-2_0.509296.dat -2.0 -2.0  0.509296    999         666    test   \n",
       "1   0  H_-2_-2_0.509296.dat -2.0 -2.0  0.509296    999         666    test   \n",
       "2   0  H_-2_-2_0.509296.dat -2.0 -2.0  0.509296    999         666    test   \n",
       "3   0  H_-2_-2_0.509296.dat -2.0 -2.0  0.509296    999         666    test   \n",
       "4   0  H_-2_-2_0.509296.dat -2.0 -2.0  0.509296    999         666    test   \n",
       "\n",
       "      feat0     feat1  ...    feat90    feat91    feat92    feat93    feat94  \\\n",
       "0  0.100000  0.100000  ...  0.100000  0.100000  0.100000  0.100000  0.100000   \n",
       "1  0.141421  0.141142  ...  0.114412  0.108967  0.123928  0.119406  0.131490   \n",
       "2  0.141421  0.140306  ...  0.043702  0.026500  0.075777  0.060214  0.103092   \n",
       "3 -0.100000  0.100000  ... -0.100000  0.100000 -0.100000  0.100000 -0.100000   \n",
       "4  0.000509 -0.008372  ... -0.082713 -0.089753 -0.067684 -0.075347 -0.051587   \n",
       "\n",
       "     feat95    feat96    feat97    feat98    feat99  \n",
       "0  0.100000  0.100000  0.100000  0.100000  0.100000  \n",
       "1  0.127962  0.136978  0.134500  0.140306  0.138916  \n",
       "2  0.090145  0.123928  0.114412  0.136978  0.131490  \n",
       "3  0.100000 -0.100000  0.100000 -0.100000  0.100000  \n",
       "4 -0.059753 -0.034677 -0.043217 -0.017220 -0.026000  \n",
       "\n",
       "[5 rows x 108 columns]"
      ]
     },
     "execution_count": 4,
     "metadata": {},
     "output_type": "execute_result"
    }
   ],
   "source": [
    "%%time\n",
    "#Starting an instance of Simulation with a decision tree\n",
    "model = DecisionTreeClassifier(criterion=\"entropy\")\n",
    "#dict_args = {\"csv_path\":csv_path, \"model\":model, \"allowed_windings\":allowed_windings,\\\n",
    "#             \"simulation_dir\":simulation_dir, \"val_split\":val_split, \"features_to_use\":features_to_use,\\\n",
    "#            \"shuffle_features\":shuffle_features, \"random_state\":random_state}\n",
    "simulation = Simulation(csv_path,model_name,model_kw,allowed_windings,simulation_dir,val_split,features_to_use,\\\n",
    "                       shuffle_features,fourier_mode,fourier_features_to_use,fourier_real,\\\n",
    "                       fourier_normalize, fourier_fillna , random_state)\n",
    "#simulation = Simulation(**dict_args)\n",
    "\n",
    "\n",
    "#(self, csv_path, model_name, model_kw, allowed_windings, simulation_dir = None, val_split = 0, \n",
    "# features_to_use = None, shuffle_features = False, fourier_mode=None, fourier_features_to_use=None,\n",
    "# fourier_real = False, fourier_normalize = False, Fourier_fillna=False, random_state = None):\n",
    "\n",
    "\n",
    "\n",
    "print(\"Info on all data: \\n\")\n",
    "simulation.dataframe.info()\n",
    "simulation.dataframe.head()"
   ]
  },
  {
   "cell_type": "markdown",
   "metadata": {
    "papermill": {
     "duration": 0.024468,
     "end_time": "2020-07-09T09:47:47.361640",
     "exception": false,
     "start_time": "2020-07-09T09:47:47.337172",
     "status": "completed"
    },
    "tags": []
   },
   "source": [
    "####  Fourier features"
   ]
  },
  {
   "cell_type": "code",
   "execution_count": 5,
   "metadata": {
    "execution": {
     "iopub.execute_input": "2020-07-09T09:47:47.397079Z",
     "iopub.status.busy": "2020-07-09T09:47:47.396770Z",
     "iopub.status.idle": "2020-07-09T09:47:47.481355Z",
     "shell.execute_reply": "2020-07-09T09:47:47.481036Z"
    },
    "papermill": {
     "duration": 0.102373,
     "end_time": "2020-07-09T09:47:47.481405",
     "exception": false,
     "start_time": "2020-07-09T09:47:47.379032",
     "status": "completed"
    },
    "tags": []
   },
   "outputs": [
    {
     "name": "stdout",
     "output_type": "stream",
     "text": [
      "<class 'pandas.core.frame.DataFrame'>\n",
      "Int64Index: 656100 entries, 0 to 656099\n",
      "Data columns (total 14 columns):\n",
      " #   Column      Non-Null Count   Dtype  \n",
      "---  ------      --------------   -----  \n",
      " 0   id          656100 non-null  int32  \n",
      " 1   path        656100 non-null  object \n",
      " 2   t1          656100 non-null  float64\n",
      " 3   t2          656100 non-null  float64\n",
      " 4   winding     656100 non-null  float64\n",
      " 5   phase       656100 non-null  int32  \n",
      " 6   pred_phase  656100 non-null  int32  \n",
      " 7   type_of     656100 non-null  object \n",
      " 8   dct_feat0   656100 non-null  float64\n",
      " 9   dct_feat2   656100 non-null  float64\n",
      " 10  dct_feat4   656100 non-null  float64\n",
      " 11  dct_feat6   656100 non-null  float64\n",
      " 12  dct_feat8   656100 non-null  float64\n",
      " 13  dct_feat50  656100 non-null  float64\n",
      "dtypes: float64(9), int32(3), object(2)\n",
      "memory usage: 67.6+ MB\n",
      "CPU times: user 73.7 ms, sys: 192 µs, total: 73.9 ms\n",
      "Wall time: 73.4 ms\n"
     ]
    }
   ],
   "source": [
    "%%time\n",
    "#simulation.generate_fourier_df()\n",
    "if simulation.fourier_mode is not None:\n",
    "    simulation.fourier_dataframe.info() \n",
    "    simulation.fourier_dataframe.sample(15)\n"
   ]
  },
  {
   "cell_type": "code",
   "execution_count": 6,
   "metadata": {
    "execution": {
     "iopub.execute_input": "2020-07-09T09:47:47.517399Z",
     "iopub.status.busy": "2020-07-09T09:47:47.517087Z",
     "iopub.status.idle": "2020-07-09T09:47:47.528448Z",
     "shell.execute_reply": "2020-07-09T09:47:47.528750Z"
    },
    "papermill": {
     "duration": 0.030561,
     "end_time": "2020-07-09T09:47:47.528815",
     "exception": false,
     "start_time": "2020-07-09T09:47:47.498254",
     "status": "completed"
    },
    "tags": []
   },
   "outputs": [
    {
     "name": "stdout",
     "output_type": "stream",
     "text": [
      "features_to_use: \n",
      "\n",
      "\n",
      "[0, 1, 2, 3, 49, 50]\n",
      "Number of real space features:\n",
      "\n",
      "\n",
      "6\n",
      "\n",
      "\n",
      "fourier_features: \n",
      "\n",
      "\n",
      "['dct_feat0', 'dct_feat2', 'dct_feat4', 'dct_feat6', 'dct_feat8', 'dct_feat50']\n",
      "\n",
      "\n",
      "Number of Fourier features: \n",
      "\n",
      "\n",
      "6\n"
     ]
    }
   ],
   "source": [
    "print(\"features_to_use: \")\n",
    "print(\"\\n\")\n",
    "print(simulation.features_to_use)\n",
    "if simulation.features_to_use is not None:\n",
    "    print(\"Number of real space features:\")\n",
    "    print(\"\\n\")\n",
    "    print(len(simulation.features_to_use))\n",
    "print(\"\\n\")\n",
    "print(\"fourier_features: \")\n",
    "print(\"\\n\")\n",
    "print(simulation.fourier_features)\n",
    "print(\"\\n\")\n",
    "if simulation.fourier_features is not None:\n",
    "    print(\"Number of Fourier features: \")\n",
    "    print(\"\\n\")\n",
    "    print(len(simulation.fourier_features))"
   ]
  },
  {
   "cell_type": "code",
   "execution_count": 7,
   "metadata": {
    "execution": {
     "iopub.execute_input": "2020-07-09T09:47:47.562657Z",
     "iopub.status.busy": "2020-07-09T09:47:47.562352Z",
     "iopub.status.idle": "2020-07-09T09:47:47.643828Z",
     "shell.execute_reply": "2020-07-09T09:47:47.642861Z"
    },
    "papermill": {
     "duration": 0.099073,
     "end_time": "2020-07-09T09:47:47.643969",
     "exception": false,
     "start_time": "2020-07-09T09:47:47.544896",
     "status": "completed"
    },
    "tags": []
   },
   "outputs": [],
   "source": [
    "#simulation.dataframe.iloc[331456,:]"
   ]
  },
  {
   "cell_type": "code",
   "execution_count": 8,
   "metadata": {
    "execution": {
     "iopub.execute_input": "2020-07-09T09:47:47.720685Z",
     "iopub.status.busy": "2020-07-09T09:47:47.720364Z",
     "iopub.status.idle": "2020-07-09T09:47:47.729802Z",
     "shell.execute_reply": "2020-07-09T09:47:47.730105Z"
    },
    "papermill": {
     "duration": 0.031613,
     "end_time": "2020-07-09T09:47:47.730172",
     "exception": false,
     "start_time": "2020-07-09T09:47:47.698559",
     "status": "completed"
    },
    "tags": []
   },
   "outputs": [],
   "source": [
    "#for ix, obj in enumerate(simulation.dataframe.iloc[331456,:].values):\n",
    "#    print(ix,obj)"
   ]
  },
  {
   "cell_type": "code",
   "execution_count": 9,
   "metadata": {
    "execution": {
     "iopub.execute_input": "2020-07-09T09:47:47.764795Z",
     "iopub.status.busy": "2020-07-09T09:47:47.764488Z",
     "iopub.status.idle": "2020-07-09T09:47:47.834471Z",
     "shell.execute_reply": "2020-07-09T09:47:47.834753Z"
    },
    "papermill": {
     "duration": 0.08825,
     "end_time": "2020-07-09T09:47:47.834825",
     "exception": false,
     "start_time": "2020-07-09T09:47:47.746575",
     "status": "completed"
    },
    "tags": []
   },
   "outputs": [],
   "source": [
    "#simulation.fourier_engineered_dataframe.dct_feat0"
   ]
  },
  {
   "cell_type": "code",
   "execution_count": 10,
   "metadata": {
    "execution": {
     "iopub.execute_input": "2020-07-09T09:47:47.870664Z",
     "iopub.status.busy": "2020-07-09T09:47:47.870312Z",
     "iopub.status.idle": "2020-07-09T09:47:47.933998Z",
     "shell.execute_reply": "2020-07-09T09:47:47.933376Z"
    },
    "papermill": {
     "duration": 0.081808,
     "end_time": "2020-07-09T09:47:47.934092",
     "exception": false,
     "start_time": "2020-07-09T09:47:47.852284",
     "status": "completed"
    },
    "tags": []
   },
   "outputs": [],
   "source": [
    "#simulation.features"
   ]
  },
  {
   "cell_type": "code",
   "execution_count": 11,
   "metadata": {
    "execution": {
     "iopub.execute_input": "2020-07-09T09:47:47.998607Z",
     "iopub.status.busy": "2020-07-09T09:47:47.998299Z",
     "iopub.status.idle": "2020-07-09T09:47:48.008837Z",
     "shell.execute_reply": "2020-07-09T09:47:48.008499Z"
    },
    "papermill": {
     "duration": 0.035316,
     "end_time": "2020-07-09T09:47:48.008890",
     "exception": false,
     "start_time": "2020-07-09T09:47:47.973574",
     "status": "completed"
    },
    "tags": []
   },
   "outputs": [],
   "source": [
    "#simulation.fourier_matrix"
   ]
  },
  {
   "cell_type": "code",
   "execution_count": 12,
   "metadata": {
    "execution": {
     "iopub.execute_input": "2020-07-09T09:47:48.043622Z",
     "iopub.status.busy": "2020-07-09T09:47:48.043316Z",
     "iopub.status.idle": "2020-07-09T09:47:48.141663Z",
     "shell.execute_reply": "2020-07-09T09:47:48.140122Z"
    },
    "papermill": {
     "duration": 0.116462,
     "end_time": "2020-07-09T09:47:48.141912",
     "exception": false,
     "start_time": "2020-07-09T09:47:48.025450",
     "status": "completed"
    },
    "tags": []
   },
   "outputs": [],
   "source": [
    "#1/simulation.n_features*simulation.dataframe.loc[:,simulation.features].sum(axis=1)"
   ]
  },
  {
   "cell_type": "code",
   "execution_count": 13,
   "metadata": {
    "execution": {
     "iopub.execute_input": "2020-07-09T09:47:48.179256Z",
     "iopub.status.busy": "2020-07-09T09:47:48.178947Z",
     "iopub.status.idle": "2020-07-09T09:47:48.242449Z",
     "shell.execute_reply": "2020-07-09T09:47:48.241847Z"
    },
    "papermill": {
     "duration": 0.082013,
     "end_time": "2020-07-09T09:47:48.242555",
     "exception": false,
     "start_time": "2020-07-09T09:47:48.160542",
     "status": "completed"
    },
    "tags": []
   },
   "outputs": [],
   "source": [
    "#df_2 = simulation.fourier_engineered_dataframe[simulation.fourier_engineered_dataframe.phase==2]\n",
    "#df_2.describe()"
   ]
  },
  {
   "cell_type": "code",
   "execution_count": 14,
   "metadata": {
    "execution": {
     "iopub.execute_input": "2020-07-09T09:47:48.307014Z",
     "iopub.status.busy": "2020-07-09T09:47:48.306706Z",
     "iopub.status.idle": "2020-07-09T09:47:48.316264Z",
     "shell.execute_reply": "2020-07-09T09:47:48.316582Z"
    },
    "papermill": {
     "duration": 0.035296,
     "end_time": "2020-07-09T09:47:48.316650",
     "exception": false,
     "start_time": "2020-07-09T09:47:48.281354",
     "status": "completed"
    },
    "tags": []
   },
   "outputs": [],
   "source": [
    "#df_1 = simulation.fourier_engineered_dataframe[simulation.fourier_engineered_dataframe.phase==1]\n",
    "#df_1.describe()"
   ]
  },
  {
   "cell_type": "code",
   "execution_count": 15,
   "metadata": {
    "execution": {
     "iopub.execute_input": "2020-07-09T09:47:48.351275Z",
     "iopub.status.busy": "2020-07-09T09:47:48.350970Z",
     "iopub.status.idle": "2020-07-09T09:47:48.417822Z",
     "shell.execute_reply": "2020-07-09T09:47:48.417016Z"
    },
    "papermill": {
     "duration": 0.084778,
     "end_time": "2020-07-09T09:47:48.417940",
     "exception": false,
     "start_time": "2020-07-09T09:47:48.333162",
     "status": "completed"
    },
    "tags": []
   },
   "outputs": [],
   "source": [
    "#df_0 = simulation.fourier_engineered_dataframe[simulation.fourier_engineered_dataframe.phase==0]\n",
    "#df_0.describe()"
   ]
  },
  {
   "cell_type": "code",
   "execution_count": 16,
   "metadata": {
    "execution": {
     "iopub.execute_input": "2020-07-09T09:47:48.483945Z",
     "iopub.status.busy": "2020-07-09T09:47:48.483600Z",
     "iopub.status.idle": "2020-07-09T09:47:48.492511Z",
     "shell.execute_reply": "2020-07-09T09:47:48.492825Z"
    },
    "papermill": {
     "duration": 0.031303,
     "end_time": "2020-07-09T09:47:48.492893",
     "exception": false,
     "start_time": "2020-07-09T09:47:48.461590",
     "status": "completed"
    },
    "tags": []
   },
   "outputs": [],
   "source": [
    "#plt.figure(figsize=(10,10))\n",
    "#plt.scatter(df_1.fourier_feat0,df_1.fourier_feat2)\n",
    "#plt.scatter(df_0.fourier_feat0,df_0.fourier_feat2,alpha=0.4)"
   ]
  },
  {
   "cell_type": "code",
   "execution_count": 17,
   "metadata": {
    "execution": {
     "iopub.execute_input": "2020-07-09T09:47:48.527707Z",
     "iopub.status.busy": "2020-07-09T09:47:48.527402Z",
     "iopub.status.idle": "2020-07-09T09:47:48.591815Z",
     "shell.execute_reply": "2020-07-09T09:47:48.591180Z"
    },
    "papermill": {
     "duration": 0.082537,
     "end_time": "2020-07-09T09:47:48.591908",
     "exception": false,
     "start_time": "2020-07-09T09:47:48.509371",
     "status": "completed"
    },
    "tags": []
   },
   "outputs": [],
   "source": [
    "#plt.scatter(df_0.fourier_feat0,df_0.fourier_feat2,alpha=0.4)"
   ]
  },
  {
   "cell_type": "code",
   "execution_count": 18,
   "metadata": {
    "execution": {
     "iopub.execute_input": "2020-07-09T09:47:48.656926Z",
     "iopub.status.busy": "2020-07-09T09:47:48.656618Z",
     "iopub.status.idle": "2020-07-09T09:47:48.666325Z",
     "shell.execute_reply": "2020-07-09T09:47:48.665976Z"
    },
    "papermill": {
     "duration": 0.038927,
     "end_time": "2020-07-09T09:47:48.666380",
     "exception": false,
     "start_time": "2020-07-09T09:47:48.627453",
     "status": "completed"
    },
    "tags": []
   },
   "outputs": [],
   "source": [
    "#plt.scatter(df_2.fourier_feat0,df_2.fourier_feat2)"
   ]
  },
  {
   "cell_type": "code",
   "execution_count": 19,
   "metadata": {
    "execution": {
     "iopub.execute_input": "2020-07-09T09:47:48.700978Z",
     "iopub.status.busy": "2020-07-09T09:47:48.700669Z",
     "iopub.status.idle": "2020-07-09T09:47:48.797882Z",
     "shell.execute_reply": "2020-07-09T09:47:48.799532Z"
    },
    "papermill": {
     "duration": 0.117014,
     "end_time": "2020-07-09T09:47:48.799836",
     "exception": false,
     "start_time": "2020-07-09T09:47:48.682822",
     "status": "completed"
    },
    "tags": []
   },
   "outputs": [],
   "source": [
    "#df_1.hist(figsize=(15,15))"
   ]
  },
  {
   "cell_type": "code",
   "execution_count": 20,
   "metadata": {
    "execution": {
     "iopub.execute_input": "2020-07-09T09:47:48.880046Z",
     "iopub.status.busy": "2020-07-09T09:47:48.879740Z",
     "iopub.status.idle": "2020-07-09T09:47:48.889489Z",
     "shell.execute_reply": "2020-07-09T09:47:48.889156Z"
    },
    "papermill": {
     "duration": 0.032929,
     "end_time": "2020-07-09T09:47:48.889539",
     "exception": false,
     "start_time": "2020-07-09T09:47:48.856610",
     "status": "completed"
    },
    "tags": []
   },
   "outputs": [],
   "source": [
    "#df_0.hist(figsize=(15,15))"
   ]
  },
  {
   "cell_type": "markdown",
   "metadata": {
    "papermill": {
     "duration": 0.016284,
     "end_time": "2020-07-09T09:47:48.922402",
     "exception": false,
     "start_time": "2020-07-09T09:47:48.906118",
     "status": "completed"
    },
    "tags": []
   },
   "source": [
    "#### Checking initialization"
   ]
  },
  {
   "cell_type": "code",
   "execution_count": 21,
   "metadata": {
    "execution": {
     "iopub.execute_input": "2020-07-09T09:47:48.959039Z",
     "iopub.status.busy": "2020-07-09T09:47:48.958730Z",
     "iopub.status.idle": "2020-07-09T09:47:49.000701Z",
     "shell.execute_reply": "2020-07-09T09:47:49.000328Z"
    },
    "papermill": {
     "duration": 0.060024,
     "end_time": "2020-07-09T09:47:49.000758",
     "exception": false,
     "start_time": "2020-07-09T09:47:48.940734",
     "status": "completed"
    },
    "tags": []
   },
   "outputs": [
    {
     "name": "stdout",
     "output_type": "stream",
     "text": [
      "n_features:  100\n",
      "n_hamiltonians:  6561\n",
      "n_ts:  2\n",
      "CPU times: user 396 µs, sys: 48 µs, total: 444 µs\n",
      "Wall time: 230 µs\n"
     ]
    }
   ],
   "source": [
    "%%time\n",
    "n_features = simulation.n_features\n",
    "n_hamiltonians = simulation.n_hamiltonians\n",
    "n_ts = simulation.n_ts\n",
    "\n",
    "print(\"n_features: \", n_features)\n",
    "print(\"n_hamiltonians: \", n_hamiltonians)\n",
    "print(\"n_ts: \", n_ts)"
   ]
  },
  {
   "cell_type": "code",
   "execution_count": 22,
   "metadata": {
    "execution": {
     "iopub.execute_input": "2020-07-09T09:47:49.043343Z",
     "iopub.status.busy": "2020-07-09T09:47:49.042834Z",
     "iopub.status.idle": "2020-07-09T09:47:49.303453Z",
     "shell.execute_reply": "2020-07-09T09:47:49.303758Z"
    },
    "papermill": {
     "duration": 0.282902,
     "end_time": "2020-07-09T09:47:49.303824",
     "exception": false,
     "start_time": "2020-07-09T09:47:49.020922",
     "status": "completed"
    },
    "tags": []
   },
   "outputs": [
    {
     "name": "stdout",
     "output_type": "stream",
     "text": [
      "% train:  0.846822130772748\n",
      "% val:  0.0\n",
      "% test:  0.15317786922725193\n",
      "% train + val + test:  1.0\n",
      "\n",
      "\n",
      "number of train hamiltonians:  5556\n",
      "number of val hamiltonians:  0\n",
      "number of test hamiltonians:  1005\n",
      "total number of hamiltonians:  6561\n",
      "\n",
      "\n",
      "train ids:  [9, 10, 11, 12, 13, 14, 15, 16, 17, 18, 19, 20, 21, 22, 23, 24, 25, 26, 27, 28, 29, 30, 31, 32, 33, 34, 35, 36, 37, 38, 39, 40, 41, 42, 43, 44, 45, 46, 47, 48, 49, 50, 51, 52, 53, 54, 55, 56, 57, 58, 59, 60, 61, 62, 63, 64, 65, 66, 67, 68, 69, 70, 71, 72, 73, 74, 75, 76, 77, 91, 92, 93, 94, 95, 96, 97, 98, 99, 100, 101, 102, 103, 104, 105, 106, 107, 108, 109, 110, 111, 112, 113, 114, 115, 116, 117, 118, 119, 120, 121, 122, 123, 124, 125, 126, 127, 128, 129, 130, 131, 132, 133, 134, 135, 136, 137, 138, 139, 140, 141, 142, 143, 144, 145, 146, 147, 148, 149, 150, 151, 152, 153, 154, 155, 156, 157, 172, 173, 174, 175, 176, 177, 178, 179, 180, 181, 182, 183, 184, 185, 186, 187, 188, 189, 190, 191, 192, 193, 194, 195, 196, 197, 198, 199, 200, 201, 202, 203, 204, 205, 206, 207, 208, 209, 210, 211, 212, 213, 214, 215, 216, 217, 218, 219, 220, 221, 222, 223, 224, 225, 226, 227, 228, 229, 230, 231, 232, 233, 234, 235, 236, 237, 254, 255, 256, 257, 258, 259, 260, 261, 262, 263, 264, 265, 266, 267, 268, 269, 270, 271, 272, 273, 274, 275, 276, 277, 278, 279, 280, 281, 282, 283, 284, 285, 286, 287, 288, 289, 290, 291, 292, 293, 294, 295, 296, 297, 298, 299, 300, 301, 302, 303, 304, 305, 306, 307, 308, 309, 310, 311, 312, 313, 314, 315, 316, 317, 323, 336, 337, 338, 339, 340, 341, 342, 343, 344, 345, 346, 347, 348, 349, 350, 351, 352, 353, 354, 355, 356, 357, 358, 359, 360, 361, 362, 363, 364, 365, 366, 367, 368, 369, 370, 371, 372, 373, 374, 375, 376, 377, 378, 379, 380, 381, 382, 383, 384, 385, 386, 387, 388, 389, 390, 391, 392, 393, 394, 395, 396, 397, 403, 404, 418, 419, 420, 421, 422, 423, 424, 425, 426, 427, 428, 429, 430, 431, 432, 433, 434, 435, 436, 437, 438, 439, 440, 441, 442, 443, 444, 445, 446, 447, 448, 449, 450, 451, 452, 453, 454, 455, 456, 457, 458, 459, 460, 461, 462, 463, 464, 465, 466, 467, 468, 469, 470, 471, 472, 473, 474, 475, 476, 477, 483, 484, 485, 500, 501, 502, 503, 504, 505, 506, 507, 508, 509, 510, 511, 512, 513, 514, 515, 516, 517, 518, 519, 520, 521, 522, 523, 524, 525, 526, 527, 528, 529, 530, 531, 532, 533, 534, 535, 536, 537, 538, 539, 540, 541, 542, 543, 544, 545, 546, 547, 548, 549, 550, 551, 552, 553, 554, 555, 556, 557, 563, 564, 565, 566, 581, 582, 583, 584, 585, 586, 587, 588, 589, 590, 591, 592, 593, 594, 595, 596, 597, 598, 599, 600, 601, 602, 603, 604, 605, 606, 607, 608, 609, 610, 611, 612, 613, 614, 615, 616, 617, 618, 619, 620, 621, 622, 623, 624, 625, 626, 627, 628, 629, 630, 631, 632, 633, 634, 635, 636, 637, 643, 644, 645, 646, 647, 663, 664, 665, 666, 667, 668, 669, 670, 671, 672, 673, 674, 675, 676, 677, 678, 679, 680, 681, 682, 683, 684, 685, 686, 687, 688, 689, 690, 691, 692, 693, 694, 695, 696, 697, 698, 699, 700, 701, 702, 703, 704, 705, 706, 707, 708, 709, 710, 711, 712, 713, 714, 715, 716, 717, 723, 724, 725, 726, 727, 728, 745, 746, 747, 748, 749, 750, 751, 752, 753, 754, 755, 756, 757, 758, 759, 760, 761, 762, 763, 764, 765, 766, 767, 768, 769, 770, 771, 772, 773, 774, 775, 776, 777, 778, 779, 780, 781, 782, 783, 784, 785, 786, 787, 788, 789, 790, 791, 792, 793, 794, 795, 796, 797, 803, 804, 805, 806, 807, 808, 809, 827, 828, 829, 830, 831, 832, 833, 834, 835, 836, 837, 838, 839, 840, 841, 842, 843, 844, 845, 846, 847, 848, 849, 850, 851, 852, 853, 854, 855, 856, 857, 858, 859, 860, 861, 862, 863, 864, 865, 866, 867, 868, 869, 870, 871, 872, 873, 874, 875, 876, 877, 883, 884, 885, 886, 887, 888, 889, 890, 891, 909, 910, 911, 912, 913, 914, 915, 916, 917, 918, 919, 920, 921, 922, 923, 924, 925, 926, 927, 928, 929, 930, 931, 932, 933, 934, 935, 936, 937, 938, 939, 940, 941, 942, 943, 944, 945, 946, 947, 948, 949, 950, 951, 952, 953, 954, 955, 956, 957, 963, 964, 965, 966, 967, 968, 969, 970, 971, 972, 973, 990, 991, 992, 993, 994, 995, 996, 997, 998, 999, 1000, 1001, 1002, 1003, 1004, 1005, 1006, 1007, 1008, 1009, 1010, 1011, 1012, 1013, 1014, 1015, 1016, 1017, 1018, 1019, 1020, 1021, 1022, 1023, 1024, 1025, 1026, 1027, 1028, 1029, 1030, 1031, 1032, 1033, 1034, 1035, 1036, 1037, 1038, 1042, 1043, 1044, 1045, 1046, 1047, 1048, 1049, 1050, 1051, 1052, 1053, 1054, 1055, 1056, 1072, 1073, 1074, 1075, 1076, 1077, 1078, 1079, 1080, 1081, 1082, 1083, 1084, 1085, 1086, 1087, 1088, 1089, 1090, 1091, 1092, 1093, 1094, 1095, 1096, 1097, 1098, 1099, 1100, 1101, 1102, 1103, 1104, 1105, 1106, 1107, 1108, 1109, 1110, 1111, 1112, 1113, 1114, 1115, 1116, 1117, 1118, 1122, 1123, 1124, 1125, 1126, 1127, 1128, 1129, 1130, 1131, 1132, 1133, 1134, 1135, 1136, 1137, 1138, 1154, 1155, 1156, 1157, 1158, 1159, 1160, 1161, 1162, 1163, 1164, 1165, 1166, 1167, 1168, 1169, 1170, 1171, 1172, 1173, 1174, 1175, 1176, 1177, 1178, 1179, 1180, 1181, 1182, 1183, 1184, 1185, 1186, 1187, 1188, 1189, 1190, 1191, 1192, 1193, 1194, 1195, 1196, 1197, 1198, 1202, 1203, 1204, 1205, 1206, 1207, 1208, 1209, 1210, 1211, 1212, 1213, 1214, 1215, 1216, 1217, 1218, 1219, 1220, 1236, 1237, 1238, 1239, 1240, 1241, 1242, 1243, 1244, 1245, 1246, 1247, 1248, 1249, 1250, 1251, 1252, 1253, 1254, 1255, 1256, 1257, 1258, 1259, 1260, 1261, 1262, 1263, 1264, 1265, 1266, 1267, 1268, 1269, 1270, 1271, 1272, 1273, 1274, 1275, 1276, 1277, 1278, 1282, 1283, 1284, 1285, 1286, 1287, 1288, 1289, 1290, 1291, 1292, 1293, 1294, 1295, 1296, 1297, 1298, 1299, 1300, 1301, 1302, 1303, 1317, 1318, 1319, 1320, 1321, 1322, 1323, 1324, 1325, 1326, 1327, 1328, 1329, 1330, 1331, 1332, 1333, 1334, 1335, 1336, 1337, 1338, 1339, 1340, 1341, 1342, 1343, 1344, 1345, 1346, 1347, 1348, 1349, 1350, 1351, 1352, 1353, 1354, 1355, 1356, 1357, 1358, 1362, 1363, 1364, 1365, 1366, 1367, 1368, 1369, 1370, 1371, 1372, 1373, 1374, 1375, 1376, 1377, 1378, 1379, 1380, 1381, 1382, 1383, 1384, 1385, 1399, 1400, 1401, 1402, 1403, 1404, 1405, 1406, 1407, 1408, 1409, 1410, 1411, 1412, 1413, 1414, 1415, 1416, 1417, 1418, 1419, 1420, 1421, 1422, 1423, 1424, 1425, 1426, 1427, 1428, 1429, 1430, 1431, 1432, 1433, 1434, 1435, 1436, 1437, 1438, 1442, 1443, 1444, 1445, 1446, 1447, 1448, 1449, 1450, 1451, 1452, 1453, 1454, 1455, 1456, 1457, 1458, 1459, 1460, 1461, 1462, 1463, 1464, 1465, 1466, 1467, 1468, 1481, 1482, 1483, 1484, 1485, 1486, 1487, 1488, 1489, 1490, 1491, 1492, 1493, 1494, 1495, 1496, 1497, 1498, 1499, 1500, 1501, 1502, 1503, 1504, 1505, 1506, 1507, 1508, 1509, 1510, 1511, 1512, 1513, 1514, 1515, 1516, 1517, 1518, 1522, 1523, 1524, 1525, 1526, 1527, 1528, 1529, 1530, 1531, 1532, 1533, 1534, 1535, 1536, 1537, 1538, 1539, 1540, 1541, 1542, 1543, 1544, 1545, 1546, 1547, 1548, 1549, 1550, 1563, 1564, 1565, 1566, 1567, 1568, 1569, 1570, 1571, 1572, 1573, 1574, 1575, 1576, 1577, 1578, 1579, 1580, 1581, 1582, 1583, 1584, 1585, 1586, 1587, 1588, 1589, 1590, 1591, 1592, 1593, 1594, 1595, 1596, 1597, 1598, 1602, 1603, 1604, 1605, 1606, 1607, 1608, 1609, 1610, 1611, 1612, 1613, 1614, 1615, 1616, 1617, 1618, 1619, 1620, 1621, 1622, 1623, 1624, 1625, 1626, 1627, 1628, 1629, 1630, 1631, 1632, 1645, 1646, 1647, 1648, 1649, 1650, 1651, 1652, 1653, 1654, 1655, 1656, 1657, 1658, 1659, 1660, 1661, 1662, 1663, 1664, 1665, 1666, 1667, 1668, 1669, 1670, 1671, 1672, 1673, 1674, 1675, 1676, 1677, 1678, 1682, 1683, 1684, 1685, 1686, 1687, 1688, 1689, 1690, 1691, 1692, 1693, 1694, 1695, 1696, 1697, 1698, 1699, 1700, 1701, 1702, 1703, 1704, 1705, 1706, 1707, 1708, 1709, 1710, 1711, 1712, 1713, 1714, 1715, 1726, 1727, 1728, 1729, 1730, 1731, 1732, 1733, 1734, 1735, 1736, 1737, 1738, 1739, 1740, 1741, 1742, 1743, 1744, 1745, 1746, 1747, 1748, 1749, 1750, 1751, 1752, 1753, 1754, 1755, 1756, 1757, 1758, 1762, 1763, 1764, 1765, 1766, 1767, 1768, 1769, 1770, 1771, 1772, 1773, 1774, 1775, 1776, 1777, 1778, 1779, 1780, 1781, 1782, 1783, 1784, 1785, 1786, 1787, 1788, 1789, 1790, 1791, 1792, 1793, 1794, 1795, 1796, 1797, 1808, 1809, 1810, 1811, 1812, 1813, 1814, 1815, 1816, 1817, 1818, 1819, 1820, 1821, 1822, 1823, 1824, 1825, 1826, 1827, 1828, 1829, 1830, 1831, 1832, 1833, 1834, 1835, 1836, 1837, 1838, 1842, 1843, 1844, 1845, 1846, 1847, 1848, 1849, 1850, 1851, 1852, 1853, 1854, 1855, 1856, 1857, 1858, 1859, 1860, 1861, 1862, 1863, 1864, 1865, 1866, 1867, 1868, 1869, 1870, 1871, 1872, 1873, 1874, 1875, 1876, 1877, 1878, 1879, 1890, 1891, 1892, 1893, 1894, 1895, 1896, 1897, 1898, 1899, 1900, 1901, 1902, 1903, 1904, 1905, 1906, 1907, 1908, 1909, 1910, 1911, 1912, 1913, 1914, 1915, 1916, 1917, 1918, 1922, 1923, 1924, 1925, 1926, 1927, 1928, 1929, 1930, 1931, 1932, 1933, 1934, 1935, 1936, 1937, 1938, 1939, 1940, 1941, 1942, 1943, 1944, 1945, 1946, 1947, 1948, 1949, 1950, 1951, 1952, 1953, 1954, 1955, 1956, 1957, 1958, 1959, 1960, 1961, 1962, 1972, 1973, 1974, 1975, 1976, 1977, 1978, 1979, 1980, 1981, 1982, 1983, 1984, 1985, 1986, 1987, 1988, 1989, 1990, 1991, 1992, 1993, 1994, 1995, 1996, 1997, 1998, 2002, 2003, 2004, 2005, 2006, 2007, 2008, 2009, 2010, 2011, 2012, 2013, 2014, 2015, 2016, 2017, 2018, 2019, 2020, 2021, 2022, 2023, 2024, 2025, 2026, 2027, 2028, 2029, 2030, 2031, 2032, 2033, 2034, 2035, 2036, 2037, 2038, 2039, 2040, 2041, 2042, 2043, 2044, 2054, 2055, 2056, 2057, 2058, 2059, 2060, 2061, 2062, 2063, 2064, 2065, 2066, 2067, 2068, 2069, 2070, 2071, 2072, 2073, 2074, 2075, 2076, 2077, 2078, 2082, 2083, 2084, 2085, 2086, 2087, 2088, 2089, 2090, 2091, 2092, 2093, 2094, 2095, 2096, 2097, 2098, 2099, 2100, 2101, 2102, 2103, 2104, 2105, 2106, 2107, 2108, 2109, 2110, 2111, 2112, 2113, 2114, 2115, 2116, 2117, 2118, 2119, 2120, 2121, 2122, 2123, 2124, 2125, 2126, 2135, 2136, 2137, 2138, 2139, 2140, 2141, 2142, 2143, 2144, 2145, 2146, 2147, 2148, 2149, 2150, 2151, 2152, 2153, 2154, 2155, 2156, 2157, 2158, 2159, 2161, 2162, 2163, 2164, 2165, 2166, 2167, 2168, 2169, 2170, 2171, 2172, 2173, 2174, 2175, 2176, 2177, 2178, 2179, 2180, 2181, 2182, 2183, 2184, 2185, 2186, 2187, 2188, 2189, 2190, 2191, 2192, 2193, 2194, 2195, 2196, 2197, 2198, 2199, 2200, 2201, 2202, 2203, 2204, 2205, 2206, 2207, 2208, 2209, 2217, 2218, 2219, 2220, 2221, 2222, 2223, 2224, 2225, 2226, 2227, 2228, 2229, 2230, 2231, 2232, 2233, 2234, 2235, 2236, 2237, 2238, 2239, 2241, 2242, 2243, 2244, 2245, 2246, 2247, 2248, 2249, 2250, 2251, 2252, 2253, 2254, 2255, 2256, 2257, 2258, 2259, 2260, 2261, 2262, 2263, 2264, 2265, 2266, 2267, 2268, 2269, 2270, 2271, 2272, 2273, 2274, 2275, 2276, 2277, 2278, 2279, 2280, 2281, 2282, 2283, 2284, 2285, 2286, 2287, 2288, 2289, 2290, 2291, 2299, 2300, 2301, 2302, 2303, 2304, 2305, 2306, 2307, 2308, 2309, 2310, 2311, 2312, 2313, 2314, 2315, 2316, 2317, 2318, 2319, 2321, 2322, 2323, 2324, 2325, 2326, 2327, 2328, 2329, 2330, 2331, 2332, 2333, 2334, 2335, 2336, 2337, 2338, 2339, 2340, 2341, 2342, 2343, 2344, 2345, 2346, 2347, 2348, 2349, 2350, 2351, 2352, 2353, 2354, 2355, 2356, 2357, 2358, 2359, 2360, 2361, 2362, 2363, 2364, 2365, 2366, 2367, 2368, 2369, 2370, 2371, 2372, 2373, 2374, 2381, 2382, 2383, 2384, 2385, 2386, 2387, 2388, 2389, 2390, 2391, 2392, 2393, 2394, 2395, 2396, 2397, 2398, 2399, 2401, 2402, 2403, 2404, 2405, 2406, 2407, 2408, 2409, 2410, 2411, 2412, 2413, 2414, 2415, 2416, 2417, 2418, 2419, 2420, 2421, 2422, 2423, 2424, 2425, 2426, 2427, 2428, 2429, 2430, 2431, 2432, 2433, 2434, 2435, 2436, 2437, 2438, 2439, 2440, 2441, 2442, 2443, 2444, 2445, 2446, 2447, 2448, 2449, 2450, 2451, 2452, 2453, 2454, 2455, 2456, 2463, 2464, 2465, 2466, 2467, 2468, 2469, 2470, 2471, 2472, 2473, 2474, 2475, 2476, 2477, 2478, 2479, 2481, 2482, 2483, 2484, 2485, 2486, 2487, 2488, 2489, 2490, 2491, 2492, 2493, 2494, 2495, 2496, 2497, 2498, 2499, 2500, 2501, 2502, 2503, 2504, 2505, 2506, 2507, 2508, 2509, 2510, 2511, 2512, 2513, 2514, 2515, 2516, 2517, 2518, 2519, 2520, 2521, 2522, 2523, 2524, 2525, 2526, 2527, 2528, 2529, 2530, 2531, 2532, 2533, 2534, 2535, 2536, 2537, 2538, 2544, 2545, 2546, 2547, 2548, 2549, 2550, 2551, 2552, 2553, 2554, 2555, 2556, 2557, 2558, 2559, 2561, 2562, 2563, 2564, 2565, 2566, 2567, 2568, 2569, 2570, 2571, 2572, 2573, 2574, 2575, 2576, 2577, 2578, 2579, 2580, 2581, 2582, 2583, 2584, 2585, 2586, 2587, 2588, 2589, 2590, 2591, 2592, 2593, 2594, 2595, 2596, 2597, 2598, 2599, 2600, 2601, 2602, 2603, 2604, 2605, 2606, 2607, 2608, 2609, 2610, 2611, 2612, 2613, 2614, 2615, 2616, 2617, 2618, 2619, 2620, 2621, 2626, 2627, 2628, 2629, 2630, 2631, 2632, 2633, 2634, 2635, 2636, 2637, 2638, 2639, 2641, 2642, 2643, 2644, 2645, 2646, 2647, 2648, 2649, 2650, 2651, 2652, 2653, 2654, 2655, 2656, 2657, 2658, 2659, 2660, 2661, 2662, 2663, 2664, 2665, 2666, 2667, 2668, 2669, 2670, 2671, 2672, 2673, 2674, 2675, 2676, 2677, 2678, 2679, 2680, 2681, 2682, 2683, 2684, 2685, 2686, 2687, 2688, 2689, 2690, 2691, 2692, 2693, 2694, 2695, 2696, 2697, 2698, 2699, 2700, 2701, 2702, 2703, 2708, 2709, 2710, 2711, 2712, 2713, 2714, 2715, 2716, 2717, 2718, 2719, 2721, 2722, 2723, 2724, 2725, 2726, 2727, 2728, 2729, 2730, 2731, 2732, 2733, 2734, 2735, 2736, 2737, 2738, 2739, 2740, 2741, 2742, 2743, 2744, 2745, 2746, 2747, 2748, 2749, 2750, 2751, 2752, 2753, 2754, 2755, 2756, 2757, 2758, 2759, 2760, 2761, 2762, 2763, 2764, 2765, 2766, 2767, 2768, 2769, 2770, 2771, 2772, 2773, 2774, 2775, 2776, 2777, 2778, 2779, 2780, 2781, 2782, 2783, 2784, 2785, 2790, 2791, 2792, 2793, 2794, 2795, 2796, 2797, 2798, 2799, 2801, 2802, 2803, 2804, 2805, 2806, 2807, 2808, 2809, 2810, 2811, 2812, 2813, 2814, 2815, 2816, 2817, 2818, 2819, 2820, 2821, 2822, 2823, 2824, 2825, 2826, 2827, 2828, 2829, 2830, 2831, 2832, 2833, 2834, 2835, 2836, 2837, 2838, 2839, 2840, 2841, 2842, 2843, 2844, 2845, 2846, 2847, 2848, 2849, 2850, 2851, 2852, 2853, 2854, 2855, 2856, 2857, 2858, 2859, 2860, 2861, 2862, 2863, 2864, 2865, 2866, 2867, 2868, 2872, 2873, 2874, 2875, 2876, 2877, 2878, 2879, 2881, 2882, 2883, 2884, 2885, 2886, 2887, 2888, 2889, 2890, 2891, 2892, 2893, 2894, 2895, 2896, 2897, 2898, 2899, 2900, 2901, 2902, 2903, 2904, 2905, 2906, 2907, 2908, 2909, 2910, 2911, 2912, 2913, 2914, 2915, 2916, 2917, 2918, 2919, 2920, 2921, 2922, 2923, 2924, 2925, 2926, 2927, 2928, 2929, 2930, 2931, 2932, 2933, 2934, 2935, 2936, 2937, 2938, 2939, 2940, 2941, 2942, 2943, 2944, 2945, 2946, 2947, 2948, 2949, 2950, 2953, 2954, 2955, 2956, 2957, 2958, 2959, 2961, 2962, 2963, 2964, 2965, 2966, 2967, 2968, 2969, 2970, 2971, 2972, 2973, 2974, 2975, 2976, 2977, 2978, 2979, 2980, 2981, 2982, 2983, 2984, 2985, 2986, 2987, 2988, 2989, 2990, 2991, 2992, 2993, 2994, 2995, 2996, 2997, 2998, 2999, 3000, 3001, 3002, 3003, 3004, 3005, 3006, 3007, 3008, 3009, 3010, 3011, 3012, 3013, 3014, 3015, 3016, 3017, 3018, 3019, 3020, 3021, 3022, 3023, 3024, 3025, 3026, 3027, 3028, 3029, 3030, 3031, 3032, 3035, 3036, 3037, 3038, 3039, 3041, 3042, 3043, 3044, 3045, 3046, 3047, 3048, 3049, 3050, 3051, 3052, 3053, 3054, 3055, 3056, 3057, 3058, 3059, 3060, 3061, 3062, 3063, 3064, 3065, 3066, 3067, 3068, 3069, 3070, 3071, 3072, 3073, 3074, 3075, 3076, 3077, 3078, 3079, 3080, 3081, 3082, 3083, 3084, 3085, 3086, 3087, 3088, 3089, 3090, 3091, 3092, 3093, 3094, 3095, 3096, 3097, 3098, 3099, 3100, 3101, 3102, 3103, 3104, 3105, 3106, 3107, 3108, 3109, 3110, 3111, 3112, 3113, 3114, 3115, 3117, 3118, 3119, 3121, 3122, 3123, 3124, 3125, 3126, 3127, 3128, 3129, 3130, 3131, 3132, 3133, 3134, 3135, 3136, 3137, 3138, 3139, 3140, 3141, 3142, 3143, 3144, 3145, 3146, 3147, 3148, 3149, 3150, 3151, 3152, 3153, 3154, 3155, 3156, 3157, 3158, 3159, 3160, 3161, 3162, 3163, 3164, 3165, 3166, 3167, 3168, 3169, 3170, 3171, 3172, 3173, 3174, 3175, 3176, 3177, 3178, 3179, 3180, 3181, 3182, 3183, 3184, 3185, 3186, 3187, 3188, 3189, 3190, 3191, 3192, 3193, 3194, 3195, 3196, 3197, 3199, 3201, 3202, 3203, 3204, 3205, 3206, 3207, 3208, 3209, 3210, 3211, 3212, 3213, 3214, 3215, 3216, 3217, 3218, 3219, 3220, 3221, 3222, 3223, 3224, 3225, 3226, 3227, 3228, 3229, 3230, 3231, 3232, 3233, 3234, 3235, 3236, 3237, 3238, 3239, 3240, 3241, 3242, 3243, 3244, 3245, 3246, 3247, 3248, 3249, 3250, 3251, 3252, 3253, 3254, 3255, 3256, 3257, 3258, 3259, 3260, 3261, 3262, 3263, 3264, 3265, 3266, 3267, 3268, 3269, 3270, 3271, 3272, 3273, 3274, 3275, 3276, 3277, 3278, 3279, 3281, 3282, 3283, 3284, 3285, 3286, 3287, 3288, 3289, 3290, 3291, 3292, 3293, 3294, 3295, 3296, 3297, 3298, 3299, 3300, 3301, 3302, 3303, 3304, 3305, 3306, 3307, 3308, 3309, 3310, 3311, 3312, 3313, 3314, 3315, 3316, 3317, 3318, 3319, 3320, 3321, 3322, 3323, 3324, 3325, 3326, 3327, 3328, 3329, 3330, 3331, 3332, 3333, 3334, 3335, 3336, 3337, 3338, 3339, 3340, 3341, 3342, 3343, 3344, 3345, 3346, 3347, 3348, 3349, 3350, 3351, 3352, 3353, 3354, 3355, 3356, 3357, 3358, 3359, 3361, 3363, 3364, 3365, 3366, 3367, 3368, 3369, 3370, 3371, 3372, 3373, 3374, 3375, 3376, 3377, 3378, 3379, 3380, 3381, 3382, 3383, 3384, 3385, 3386, 3387, 3388, 3389, 3390, 3391, 3392, 3393, 3394, 3395, 3396, 3397, 3398, 3399, 3400, 3401, 3402, 3403, 3404, 3405, 3406, 3407, 3408, 3409, 3410, 3411, 3412, 3413, 3414, 3415, 3416, 3417, 3418, 3419, 3420, 3421, 3422, 3423, 3424, 3425, 3426, 3427, 3428, 3429, 3430, 3431, 3432, 3433, 3434, 3435, 3436, 3437, 3438, 3439, 3441, 3442, 3443, 3445, 3446, 3447, 3448, 3449, 3450, 3451, 3452, 3453, 3454, 3455, 3456, 3457, 3458, 3459, 3460, 3461, 3462, 3463, 3464, 3465, 3466, 3467, 3468, 3469, 3470, 3471, 3472, 3473, 3474, 3475, 3476, 3477, 3478, 3479, 3480, 3481, 3482, 3483, 3484, 3485, 3486, 3487, 3488, 3489, 3490, 3491, 3492, 3493, 3494, 3495, 3496, 3497, 3498, 3499, 3500, 3501, 3502, 3503, 3504, 3505, 3506, 3507, 3508, 3509, 3510, 3511, 3512, 3513, 3514, 3515, 3516, 3517, 3518, 3519, 3521, 3522, 3523, 3524, 3525, 3528, 3529, 3530, 3531, 3532, 3533, 3534, 3535, 3536, 3537, 3538, 3539, 3540, 3541, 3542, 3543, 3544, 3545, 3546, 3547, 3548, 3549, 3550, 3551, 3552, 3553, 3554, 3555, 3556, 3557, 3558, 3559, 3560, 3561, 3562, 3563, 3564, 3565, 3566, 3567, 3568, 3569, 3570, 3571, 3572, 3573, 3574, 3575, 3576, 3577, 3578, 3579, 3580, 3581, 3582, 3583, 3584, 3585, 3586, 3587, 3588, 3589, 3590, 3591, 3592, 3593, 3594, 3595, 3596, 3597, 3598, 3599, 3601, 3602, 3603, 3604, 3605, 3606, 3607, 3610, 3611, 3612, 3613, 3614, 3615, 3616, 3617, 3618, 3619, 3620, 3621, 3622, 3623, 3624, 3625, 3626, 3627, 3628, 3629, 3630, 3631, 3632, 3633, 3634, 3635, 3636, 3637, 3638, 3639, 3640, 3641, 3642, 3643, 3644, 3645, 3646, 3647, 3648, 3649, 3650, 3651, 3652, 3653, 3654, 3655, 3656, 3657, 3658, 3659, 3660, 3661, 3662, 3663, 3664, 3665, 3666, 3667, 3668, 3669, 3670, 3671, 3672, 3673, 3674, 3675, 3676, 3677, 3678, 3679, 3681, 3682, 3683, 3684, 3685, 3686, 3687, 3688, 3692, 3693, 3694, 3695, 3696, 3697, 3698, 3699, 3700, 3701, 3702, 3703, 3704, 3705, 3706, 3707, 3708, 3709, 3710, 3711, 3712, 3713, 3714, 3715, 3716, 3717, 3718, 3719, 3720, 3721, 3722, 3723, 3724, 3725, 3726, 3727, 3728, 3729, 3730, 3731, 3732, 3733, 3734, 3735, 3736, 3737, 3738, 3739, 3740, 3741, 3742, 3743, 3744, 3745, 3746, 3747, 3748, 3749, 3750, 3751, 3752, 3753, 3754, 3755, 3756, 3757, 3758, 3759, 3761, 3762, 3763, 3764, 3765, 3766, 3767, 3768, 3769, 3770, 3775, 3776, 3777, 3778, 3779, 3780, 3781, 3782, 3783, 3784, 3785, 3786, 3787, 3788, 3789, 3790, 3791, 3792, 3793, 3794, 3795, 3796, 3797, 3798, 3799, 3800, 3801, 3802, 3803, 3804, 3805, 3806, 3807, 3808, 3809, 3810, 3811, 3812, 3813, 3814, 3815, 3816, 3817, 3818, 3819, 3820, 3821, 3822, 3823, 3824, 3825, 3826, 3827, 3828, 3829, 3830, 3831, 3832, 3833, 3834, 3835, 3836, 3837, 3838, 3839, 3841, 3842, 3843, 3844, 3845, 3846, 3847, 3848, 3849, 3850, 3851, 3852, 3857, 3858, 3859, 3860, 3861, 3862, 3863, 3864, 3865, 3866, 3867, 3868, 3869, 3870, 3871, 3872, 3873, 3874, 3875, 3876, 3877, 3878, 3879, 3880, 3881, 3882, 3883, 3884, 3885, 3886, 3887, 3888, 3889, 3890, 3891, 3892, 3893, 3894, 3895, 3896, 3897, 3898, 3899, 3900, 3901, 3902, 3903, 3904, 3905, 3906, 3907, 3908, 3909, 3910, 3911, 3912, 3913, 3914, 3915, 3916, 3917, 3918, 3919, 3921, 3922, 3923, 3924, 3925, 3926, 3927, 3928, 3929, 3930, 3931, 3932, 3933, 3934, 3939, 3940, 3941, 3942, 3943, 3944, 3945, 3946, 3947, 3948, 3949, 3950, 3951, 3952, 3953, 3954, 3955, 3956, 3957, 3958, 3959, 3960, 3961, 3962, 3963, 3964, 3965, 3966, 3967, 3968, 3969, 3970, 3971, 3972, 3973, 3974, 3975, 3976, 3977, 3978, 3979, 3980, 3981, 3982, 3983, 3984, 3985, 3986, 3987, 3988, 3989, 3990, 3991, 3992, 3993, 3994, 3995, 3996, 3997, 3998, 3999, 4001, 4002, 4003, 4004, 4005, 4006, 4007, 4008, 4009, 4010, 4011, 4012, 4013, 4014, 4015, 4016, 4022, 4023, 4024, 4025, 4026, 4027, 4028, 4029, 4030, 4031, 4032, 4033, 4034, 4035, 4036, 4037, 4038, 4039, 4040, 4041, 4042, 4043, 4044, 4045, 4046, 4047, 4048, 4049, 4050, 4051, 4052, 4053, 4054, 4055, 4056, 4057, 4058, 4059, 4060, 4061, 4062, 4063, 4064, 4065, 4066, 4067, 4068, 4069, 4070, 4071, 4072, 4073, 4074, 4075, 4076, 4077, 4078, 4079, 4081, 4082, 4083, 4084, 4085, 4086, 4087, 4088, 4089, 4090, 4091, 4092, 4093, 4094, 4095, 4096, 4097, 4104, 4105, 4106, 4107, 4108, 4109, 4110, 4111, 4112, 4113, 4114, 4115, 4116, 4117, 4118, 4119, 4120, 4121, 4122, 4123, 4124, 4125, 4126, 4127, 4128, 4129, 4130, 4131, 4132, 4133, 4134, 4135, 4136, 4137, 4138, 4139, 4140, 4141, 4142, 4143, 4144, 4145, 4146, 4147, 4148, 4149, 4150, 4151, 4152, 4153, 4154, 4155, 4156, 4157, 4158, 4159, 4161, 4162, 4163, 4164, 4165, 4166, 4167, 4168, 4169, 4170, 4171, 4172, 4173, 4174, 4175, 4176, 4177, 4178, 4179, 4186, 4187, 4188, 4189, 4190, 4191, 4192, 4193, 4194, 4195, 4196, 4197, 4198, 4199, 4200, 4201, 4202, 4203, 4204, 4205, 4206, 4207, 4208, 4209, 4210, 4211, 4212, 4213, 4214, 4215, 4216, 4217, 4218, 4219, 4220, 4221, 4222, 4223, 4224, 4225, 4226, 4227, 4228, 4229, 4230, 4231, 4232, 4233, 4234, 4235, 4236, 4237, 4238, 4239, 4241, 4242, 4243, 4244, 4245, 4246, 4247, 4248, 4249, 4250, 4251, 4252, 4253, 4254, 4255, 4256, 4257, 4258, 4259, 4260, 4261, 4269, 4270, 4271, 4272, 4273, 4274, 4275, 4276, 4277, 4278, 4279, 4280, 4281, 4282, 4283, 4284, 4285, 4286, 4287, 4288, 4289, 4290, 4291, 4292, 4293, 4294, 4295, 4296, 4297, 4298, 4299, 4300, 4301, 4302, 4303, 4304, 4305, 4306, 4307, 4308, 4309, 4310, 4311, 4312, 4313, 4314, 4315, 4316, 4317, 4318, 4319, 4321, 4322, 4323, 4324, 4325, 4326, 4327, 4328, 4329, 4330, 4331, 4332, 4333, 4334, 4335, 4336, 4337, 4338, 4339, 4340, 4341, 4342, 4343, 4351, 4352, 4353, 4354, 4355, 4356, 4357, 4358, 4359, 4360, 4361, 4362, 4363, 4364, 4365, 4366, 4367, 4368, 4369, 4370, 4371, 4372, 4373, 4374, 4375, 4376, 4377, 4378, 4379, 4380, 4381, 4382, 4383, 4384, 4385, 4386, 4387, 4388, 4389, 4390, 4391, 4392, 4393, 4394, 4395, 4396, 4397, 4398, 4399, 4401, 4402, 4403, 4404, 4405, 4406, 4407, 4408, 4409, 4410, 4411, 4412, 4413, 4414, 4415, 4416, 4417, 4418, 4419, 4420, 4421, 4422, 4423, 4424, 4425, 4434, 4435, 4436, 4437, 4438, 4439, 4440, 4441, 4442, 4443, 4444, 4445, 4446, 4447, 4448, 4449, 4450, 4451, 4452, 4453, 4454, 4455, 4456, 4457, 4458, 4459, 4460, 4461, 4462, 4463, 4464, 4465, 4466, 4467, 4468, 4469, 4470, 4471, 4472, 4473, 4474, 4475, 4476, 4477, 4478, 4482, 4483, 4484, 4485, 4486, 4487, 4488, 4489, 4490, 4491, 4492, 4493, 4494, 4495, 4496, 4497, 4498, 4499, 4500, 4501, 4502, 4503, 4504, 4505, 4506, 4516, 4517, 4518, 4519, 4520, 4521, 4522, 4523, 4524, 4525, 4526, 4527, 4528, 4529, 4530, 4531, 4532, 4533, 4534, 4535, 4536, 4537, 4538, 4539, 4540, 4541, 4542, 4543, 4544, 4545, 4546, 4547, 4548, 4549, 4550, 4551, 4552, 4553, 4554, 4555, 4556, 4557, 4558, 4562, 4563, 4564, 4565, 4566, 4567, 4568, 4569, 4570, 4571, 4572, 4573, 4574, 4575, 4576, 4577, 4578, 4579, 4580, 4581, 4582, 4583, 4584, 4585, 4586, 4587, 4588, 4598, 4599, 4600, 4601, 4602, 4603, 4604, 4605, 4606, 4607, 4608, 4609, 4610, 4611, 4612, 4613, 4614, 4615, 4616, 4617, 4618, 4619, 4620, 4621, 4622, 4623, 4624, 4625, 4626, 4627, 4628, 4629, 4630, 4631, 4632, 4633, 4634, 4635, 4636, 4637, 4638, 4642, 4643, 4644, 4645, 4646, 4647, 4648, 4649, 4650, 4651, 4652, 4653, 4654, 4655, 4656, 4657, 4658, 4659, 4660, 4661, 4662, 4663, 4664, 4665, 4666, 4667, 4668, 4669, 4670, 4681, 4682, 4683, 4684, 4685, 4686, 4687, 4688, 4689, 4690, 4691, 4692, 4693, 4694, 4695, 4696, 4697, 4698, 4699, 4700, 4701, 4702, 4703, 4704, 4705, 4706, 4707, 4708, 4709, 4710, 4711, 4712, 4713, 4714, 4715, 4716, 4717, 4718, 4722, 4723, 4724, 4725, 4726, 4727, 4728, 4729, 4730, 4731, 4732, 4733, 4734, 4735, 4736, 4737, 4738, 4739, 4740, 4741, 4742, 4743, 4744, 4745, 4746, 4747, 4748, 4749, 4750, 4751, 4752, 4763, 4764, 4765, 4766, 4767, 4768, 4769, 4770, 4771, 4772, 4773, 4774, 4775, 4776, 4777, 4778, 4779, 4780, 4781, 4782, 4783, 4784, 4785, 4786, 4787, 4788, 4789, 4790, 4791, 4792, 4793, 4794, 4795, 4796, 4797, 4798, 4802, 4803, 4804, 4805, 4806, 4807, 4808, 4809, 4810, 4811, 4812, 4813, 4814, 4815, 4816, 4817, 4818, 4819, 4820, 4821, 4822, 4823, 4824, 4825, 4826, 4827, 4828, 4829, 4830, 4831, 4832, 4833, 4834, 4845, 4846, 4847, 4848, 4849, 4850, 4851, 4852, 4853, 4854, 4855, 4856, 4857, 4858, 4859, 4860, 4861, 4862, 4863, 4864, 4865, 4866, 4867, 4868, 4869, 4870, 4871, 4872, 4873, 4874, 4875, 4876, 4877, 4878, 4882, 4883, 4884, 4885, 4886, 4887, 4888, 4889, 4890, 4891, 4892, 4893, 4894, 4895, 4896, 4897, 4898, 4899, 4900, 4901, 4902, 4903, 4904, 4905, 4906, 4907, 4908, 4909, 4910, 4911, 4912, 4913, 4914, 4915, 4928, 4929, 4930, 4931, 4932, 4933, 4934, 4935, 4936, 4937, 4938, 4939, 4940, 4941, 4942, 4943, 4944, 4945, 4946, 4947, 4948, 4949, 4950, 4951, 4952, 4953, 4954, 4955, 4956, 4957, 4958, 4962, 4963, 4964, 4965, 4966, 4967, 4968, 4969, 4970, 4971, 4972, 4973, 4974, 4975, 4976, 4977, 4978, 4979, 4980, 4981, 4982, 4983, 4984, 4985, 4986, 4987, 4988, 4989, 4990, 4991, 4992, 4993, 4994, 4995, 4996, 4997, 5010, 5011, 5012, 5013, 5014, 5015, 5016, 5017, 5018, 5019, 5020, 5021, 5022, 5023, 5024, 5025, 5026, 5027, 5028, 5029, 5030, 5031, 5032, 5033, 5034, 5035, 5036, 5037, 5038, 5042, 5043, 5044, 5045, 5046, 5047, 5048, 5049, 5050, 5051, 5052, 5053, 5054, 5055, 5056, 5057, 5058, 5059, 5060, 5061, 5062, 5063, 5064, 5065, 5066, 5067, 5068, 5069, 5070, 5071, 5072, 5073, 5074, 5075, 5076, 5077, 5078, 5079, 5092, 5093, 5094, 5095, 5096, 5097, 5098, 5099, 5100, 5101, 5102, 5103, 5104, 5105, 5106, 5107, 5108, 5109, 5110, 5111, 5112, 5113, 5114, 5115, 5116, 5117, 5118, 5122, 5123, 5124, 5125, 5126, 5127, 5128, 5129, 5130, 5131, 5132, 5133, 5134, 5135, 5136, 5137, 5138, 5139, 5140, 5141, 5142, 5143, 5144, 5145, 5146, 5147, 5148, 5149, 5150, 5151, 5152, 5153, 5154, 5155, 5156, 5157, 5158, 5159, 5160, 5161, 5175, 5176, 5177, 5178, 5179, 5180, 5181, 5182, 5183, 5184, 5185, 5186, 5187, 5188, 5189, 5190, 5191, 5192, 5193, 5194, 5195, 5196, 5197, 5198, 5202, 5203, 5204, 5205, 5206, 5207, 5208, 5209, 5210, 5211, 5212, 5213, 5214, 5215, 5216, 5217, 5218, 5219, 5220, 5221, 5222, 5223, 5224, 5225, 5226, 5227, 5228, 5229, 5230, 5231, 5232, 5233, 5234, 5235, 5236, 5237, 5238, 5239, 5240, 5241, 5242, 5243, 5257, 5258, 5259, 5260, 5261, 5262, 5263, 5264, 5265, 5266, 5267, 5268, 5269, 5270, 5271, 5272, 5273, 5274, 5275, 5276, 5277, 5278, 5282, 5283, 5284, 5285, 5286, 5287, 5288, 5289, 5290, 5291, 5292, 5293, 5294, 5295, 5296, 5297, 5298, 5299, 5300, 5301, 5302, 5303, 5304, 5305, 5306, 5307, 5308, 5309, 5310, 5311, 5312, 5313, 5314, 5315, 5316, 5317, 5318, 5319, 5320, 5321, 5322, 5323, 5324, 5340, 5341, 5342, 5343, 5344, 5345, 5346, 5347, 5348, 5349, 5350, 5351, 5352, 5353, 5354, 5355, 5356, 5357, 5358, 5362, 5363, 5364, 5365, 5366, 5367, 5368, 5369, 5370, 5371, 5372, 5373, 5374, 5375, 5376, 5377, 5378, 5379, 5380, 5381, 5382, 5383, 5384, 5385, 5386, 5387, 5388, 5389, 5390, 5391, 5392, 5393, 5394, 5395, 5396, 5397, 5398, 5399, 5400, 5401, 5402, 5403, 5404, 5405, 5406, 5422, 5423, 5424, 5425, 5426, 5427, 5428, 5429, 5430, 5431, 5432, 5433, 5434, 5435, 5436, 5437, 5438, 5442, 5443, 5444, 5445, 5446, 5447, 5448, 5449, 5450, 5451, 5452, 5453, 5454, 5455, 5456, 5457, 5458, 5459, 5460, 5461, 5462, 5463, 5464, 5465, 5466, 5467, 5468, 5469, 5470, 5471, 5472, 5473, 5474, 5475, 5476, 5477, 5478, 5479, 5480, 5481, 5482, 5483, 5484, 5485, 5486, 5487, 5488, 5504, 5505, 5506, 5507, 5508, 5509, 5510, 5511, 5512, 5513, 5514, 5515, 5516, 5517, 5518, 5522, 5523, 5524, 5525, 5526, 5527, 5528, 5529, 5530, 5531, 5532, 5533, 5534, 5535, 5536, 5537, 5538, 5539, 5540, 5541, 5542, 5543, 5544, 5545, 5546, 5547, 5548, 5549, 5550, 5551, 5552, 5553, 5554, 5555, 5556, 5557, 5558, 5559, 5560, 5561, 5562, 5563, 5564, 5565, 5566, 5567, 5568, 5569, 5570, 5587, 5588, 5589, 5590, 5591, 5592, 5593, 5594, 5595, 5596, 5597, 5603, 5604, 5605, 5606, 5607, 5608, 5609, 5610, 5611, 5612, 5613, 5614, 5615, 5616, 5617, 5618, 5619, 5620, 5621, 5622, 5623, 5624, 5625, 5626, 5627, 5628, 5629, 5630, 5631, 5632, 5633, 5634, 5635, 5636, 5637, 5638, 5639, 5640, 5641, 5642, 5643, 5644, 5645, 5646, 5647, 5648, 5649, 5650, 5651, 5669, 5670, 5671, 5672, 5673, 5674, 5675, 5676, 5677, 5683, 5684, 5685, 5686, 5687, 5688, 5689, 5690, 5691, 5692, 5693, 5694, 5695, 5696, 5697, 5698, 5699, 5700, 5701, 5702, 5703, 5704, 5705, 5706, 5707, 5708, 5709, 5710, 5711, 5712, 5713, 5714, 5715, 5716, 5717, 5718, 5719, 5720, 5721, 5722, 5723, 5724, 5725, 5726, 5727, 5728, 5729, 5730, 5731, 5732, 5733, 5751, 5752, 5753, 5754, 5755, 5756, 5757, 5763, 5764, 5765, 5766, 5767, 5768, 5769, 5770, 5771, 5772, 5773, 5774, 5775, 5776, 5777, 5778, 5779, 5780, 5781, 5782, 5783, 5784, 5785, 5786, 5787, 5788, 5789, 5790, 5791, 5792, 5793, 5794, 5795, 5796, 5797, 5798, 5799, 5800, 5801, 5802, 5803, 5804, 5805, 5806, 5807, 5808, 5809, 5810, 5811, 5812, 5813, 5814, 5815, 5832, 5833, 5834, 5835, 5836, 5837, 5843, 5844, 5845, 5846, 5847, 5848, 5849, 5850, 5851, 5852, 5853, 5854, 5855, 5856, 5857, 5858, 5859, 5860, 5861, 5862, 5863, 5864, 5865, 5866, 5867, 5868, 5869, 5870, 5871, 5872, 5873, 5874, 5875, 5876, 5877, 5878, 5879, 5880, 5881, 5882, 5883, 5884, 5885, 5886, 5887, 5888, 5889, 5890, 5891, 5892, 5893, 5894, 5895, 5896, 5897, 5913, 5914, 5915, 5916, 5917, 5923, 5924, 5925, 5926, 5927, 5928, 5929, 5930, 5931, 5932, 5933, 5934, 5935, 5936, 5937, 5938, 5939, 5940, 5941, 5942, 5943, 5944, 5945, 5946, 5947, 5948, 5949, 5950, 5951, 5952, 5953, 5954, 5955, 5956, 5957, 5958, 5959, 5960, 5961, 5962, 5963, 5964, 5965, 5966, 5967, 5968, 5969, 5970, 5971, 5972, 5973, 5974, 5975, 5976, 5977, 5978, 5979, 5994, 5995, 5996, 5997, 6003, 6004, 6005, 6006, 6007, 6008, 6009, 6010, 6011, 6012, 6013, 6014, 6015, 6016, 6017, 6018, 6019, 6020, 6021, 6022, 6023, 6024, 6025, 6026, 6027, 6028, 6029, 6030, 6031, 6032, 6033, 6034, 6035, 6036, 6037, 6038, 6039, 6040, 6041, 6042, 6043, 6044, 6045, 6046, 6047, 6048, 6049, 6050, 6051, 6052, 6053, 6054, 6055, 6056, 6057, 6058, 6059, 6060, 6075, 6076, 6077, 6083, 6084, 6085, 6086, 6087, 6088, 6089, 6090, 6091, 6092, 6093, 6094, 6095, 6096, 6097, 6098, 6099, 6100, 6101, 6102, 6103, 6104, 6105, 6106, 6107, 6108, 6109, 6110, 6111, 6112, 6113, 6114, 6115, 6116, 6117, 6118, 6119, 6120, 6121, 6122, 6123, 6124, 6125, 6126, 6127, 6128, 6129, 6130, 6131, 6132, 6133, 6134, 6135, 6136, 6137, 6138, 6139, 6140, 6141, 6142, 6156, 6157, 6163, 6164, 6165, 6166, 6167, 6168, 6169, 6170, 6171, 6172, 6173, 6174, 6175, 6176, 6177, 6178, 6179, 6180, 6181, 6182, 6183, 6184, 6185, 6186, 6187, 6188, 6189, 6190, 6191, 6192, 6193, 6194, 6195, 6196, 6197, 6198, 6199, 6200, 6201, 6202, 6203, 6204, 6205, 6206, 6207, 6208, 6209, 6210, 6211, 6212, 6213, 6214, 6215, 6216, 6217, 6218, 6219, 6220, 6221, 6222, 6223, 6224, 6237, 6243, 6244, 6245, 6246, 6247, 6248, 6249, 6250, 6251, 6252, 6253, 6254, 6255, 6256, 6257, 6258, 6259, 6260, 6261, 6262, 6263, 6264, 6265, 6266, 6267, 6268, 6269, 6270, 6271, 6272, 6273, 6274, 6275, 6276, 6277, 6278, 6279, 6280, 6281, 6282, 6283, 6284, 6285, 6286, 6287, 6288, 6289, 6290, 6291, 6292, 6293, 6294, 6295, 6296, 6297, 6298, 6299, 6300, 6301, 6302, 6303, 6304, 6305, 6306, 6323, 6324, 6325, 6326, 6327, 6328, 6329, 6330, 6331, 6332, 6333, 6334, 6335, 6336, 6337, 6338, 6339, 6340, 6341, 6342, 6343, 6344, 6345, 6346, 6347, 6348, 6349, 6350, 6351, 6352, 6353, 6354, 6355, 6356, 6357, 6358, 6359, 6360, 6361, 6362, 6363, 6364, 6365, 6366, 6367, 6368, 6369, 6370, 6371, 6372, 6373, 6374, 6375, 6376, 6377, 6378, 6379, 6380, 6381, 6382, 6383, 6384, 6385, 6386, 6387, 6388, 6403, 6404, 6405, 6406, 6407, 6408, 6409, 6410, 6411, 6412, 6413, 6414, 6415, 6416, 6417, 6418, 6419, 6420, 6421, 6422, 6423, 6424, 6425, 6426, 6427, 6428, 6429, 6430, 6431, 6432, 6433, 6434, 6435, 6436, 6437, 6438, 6439, 6440, 6441, 6442, 6443, 6444, 6445, 6446, 6447, 6448, 6449, 6450, 6451, 6452, 6453, 6454, 6455, 6456, 6457, 6458, 6459, 6460, 6461, 6462, 6463, 6464, 6465, 6466, 6467, 6468, 6469, 6483, 6484, 6485, 6486, 6487, 6488, 6489, 6490, 6491, 6492, 6493, 6494, 6495, 6496, 6497, 6498, 6499, 6500, 6501, 6502, 6503, 6504, 6505, 6506, 6507, 6508, 6509, 6510, 6511, 6512, 6513, 6514, 6515, 6516, 6517, 6518, 6519, 6520, 6521, 6522, 6523, 6524, 6525, 6526, 6527, 6528, 6529, 6530, 6531, 6532, 6533, 6534, 6535, 6536, 6537, 6538, 6539, 6540, 6541, 6542, 6543, 6544, 6545, 6546, 6547, 6548, 6549, 6550, 6551]\n",
      "val ids:  []\n",
      "test ids:  [0, 1, 2, 3, 4, 5, 6, 7, 8, 78, 79, 80, 81, 82, 83, 84, 85, 86, 87, 88, 89, 90, 158, 159, 160, 161, 162, 163, 164, 165, 166, 167, 168, 169, 170, 171, 238, 239, 240, 241, 242, 243, 244, 245, 246, 247, 248, 249, 250, 251, 252, 253, 318, 319, 320, 321, 322, 324, 325, 326, 327, 328, 329, 330, 331, 332, 333, 334, 335, 398, 399, 400, 401, 402, 405, 406, 407, 408, 409, 410, 411, 412, 413, 414, 415, 416, 417, 478, 479, 480, 481, 482, 486, 487, 488, 489, 490, 491, 492, 493, 494, 495, 496, 497, 498, 499, 558, 559, 560, 561, 562, 567, 568, 569, 570, 571, 572, 573, 574, 575, 576, 577, 578, 579, 580, 638, 639, 640, 641, 642, 648, 649, 650, 651, 652, 653, 654, 655, 656, 657, 658, 659, 660, 661, 662, 718, 719, 720, 721, 722, 729, 730, 731, 732, 733, 734, 735, 736, 737, 738, 739, 740, 741, 742, 743, 744, 798, 799, 800, 801, 802, 810, 811, 812, 813, 814, 815, 816, 817, 818, 819, 820, 821, 822, 823, 824, 825, 826, 878, 879, 880, 881, 882, 892, 893, 894, 895, 896, 897, 898, 899, 900, 901, 902, 903, 904, 905, 906, 907, 908, 958, 959, 960, 961, 962, 974, 975, 976, 977, 978, 979, 980, 981, 982, 983, 984, 985, 986, 987, 988, 989, 1039, 1040, 1041, 1057, 1058, 1059, 1060, 1061, 1062, 1063, 1064, 1065, 1066, 1067, 1068, 1069, 1070, 1071, 1119, 1120, 1121, 1139, 1140, 1141, 1142, 1143, 1144, 1145, 1146, 1147, 1148, 1149, 1150, 1151, 1152, 1153, 1199, 1200, 1201, 1221, 1222, 1223, 1224, 1225, 1226, 1227, 1228, 1229, 1230, 1231, 1232, 1233, 1234, 1235, 1279, 1280, 1281, 1304, 1305, 1306, 1307, 1308, 1309, 1310, 1311, 1312, 1313, 1314, 1315, 1316, 1359, 1360, 1361, 1386, 1387, 1388, 1389, 1390, 1391, 1392, 1393, 1394, 1395, 1396, 1397, 1398, 1439, 1440, 1441, 1469, 1470, 1471, 1472, 1473, 1474, 1475, 1476, 1477, 1478, 1479, 1480, 1519, 1520, 1521, 1551, 1552, 1553, 1554, 1555, 1556, 1557, 1558, 1559, 1560, 1561, 1562, 1599, 1600, 1601, 1633, 1634, 1635, 1636, 1637, 1638, 1639, 1640, 1641, 1642, 1643, 1644, 1679, 1680, 1681, 1716, 1717, 1718, 1719, 1720, 1721, 1722, 1723, 1724, 1725, 1759, 1760, 1761, 1798, 1799, 1800, 1801, 1802, 1803, 1804, 1805, 1806, 1807, 1839, 1840, 1841, 1880, 1881, 1882, 1883, 1884, 1885, 1886, 1887, 1888, 1889, 1919, 1920, 1921, 1963, 1964, 1965, 1966, 1967, 1968, 1969, 1970, 1971, 1999, 2000, 2001, 2045, 2046, 2047, 2048, 2049, 2050, 2051, 2052, 2053, 2079, 2080, 2081, 2127, 2128, 2129, 2130, 2131, 2132, 2133, 2134, 2160, 2210, 2211, 2212, 2213, 2214, 2215, 2216, 2240, 2292, 2293, 2294, 2295, 2296, 2297, 2298, 2320, 2375, 2376, 2377, 2378, 2379, 2380, 2400, 2457, 2458, 2459, 2460, 2461, 2462, 2480, 2539, 2540, 2541, 2542, 2543, 2560, 2622, 2623, 2624, 2625, 2640, 2704, 2705, 2706, 2707, 2720, 2786, 2787, 2788, 2789, 2800, 2869, 2870, 2871, 2880, 2951, 2952, 2960, 3033, 3034, 3040, 3116, 3120, 3198, 3200, 3280, 3360, 3362, 3440, 3444, 3520, 3526, 3527, 3600, 3608, 3609, 3680, 3689, 3690, 3691, 3760, 3771, 3772, 3773, 3774, 3840, 3853, 3854, 3855, 3856, 3920, 3935, 3936, 3937, 3938, 4000, 4017, 4018, 4019, 4020, 4021, 4080, 4098, 4099, 4100, 4101, 4102, 4103, 4160, 4180, 4181, 4182, 4183, 4184, 4185, 4240, 4262, 4263, 4264, 4265, 4266, 4267, 4268, 4320, 4344, 4345, 4346, 4347, 4348, 4349, 4350, 4400, 4426, 4427, 4428, 4429, 4430, 4431, 4432, 4433, 4479, 4480, 4481, 4507, 4508, 4509, 4510, 4511, 4512, 4513, 4514, 4515, 4559, 4560, 4561, 4589, 4590, 4591, 4592, 4593, 4594, 4595, 4596, 4597, 4639, 4640, 4641, 4671, 4672, 4673, 4674, 4675, 4676, 4677, 4678, 4679, 4680, 4719, 4720, 4721, 4753, 4754, 4755, 4756, 4757, 4758, 4759, 4760, 4761, 4762, 4799, 4800, 4801, 4835, 4836, 4837, 4838, 4839, 4840, 4841, 4842, 4843, 4844, 4879, 4880, 4881, 4916, 4917, 4918, 4919, 4920, 4921, 4922, 4923, 4924, 4925, 4926, 4927, 4959, 4960, 4961, 4998, 4999, 5000, 5001, 5002, 5003, 5004, 5005, 5006, 5007, 5008, 5009, 5039, 5040, 5041, 5080, 5081, 5082, 5083, 5084, 5085, 5086, 5087, 5088, 5089, 5090, 5091, 5119, 5120, 5121, 5162, 5163, 5164, 5165, 5166, 5167, 5168, 5169, 5170, 5171, 5172, 5173, 5174, 5199, 5200, 5201, 5244, 5245, 5246, 5247, 5248, 5249, 5250, 5251, 5252, 5253, 5254, 5255, 5256, 5279, 5280, 5281, 5325, 5326, 5327, 5328, 5329, 5330, 5331, 5332, 5333, 5334, 5335, 5336, 5337, 5338, 5339, 5359, 5360, 5361, 5407, 5408, 5409, 5410, 5411, 5412, 5413, 5414, 5415, 5416, 5417, 5418, 5419, 5420, 5421, 5439, 5440, 5441, 5489, 5490, 5491, 5492, 5493, 5494, 5495, 5496, 5497, 5498, 5499, 5500, 5501, 5502, 5503, 5519, 5520, 5521, 5571, 5572, 5573, 5574, 5575, 5576, 5577, 5578, 5579, 5580, 5581, 5582, 5583, 5584, 5585, 5586, 5598, 5599, 5600, 5601, 5602, 5652, 5653, 5654, 5655, 5656, 5657, 5658, 5659, 5660, 5661, 5662, 5663, 5664, 5665, 5666, 5667, 5668, 5678, 5679, 5680, 5681, 5682, 5734, 5735, 5736, 5737, 5738, 5739, 5740, 5741, 5742, 5743, 5744, 5745, 5746, 5747, 5748, 5749, 5750, 5758, 5759, 5760, 5761, 5762, 5816, 5817, 5818, 5819, 5820, 5821, 5822, 5823, 5824, 5825, 5826, 5827, 5828, 5829, 5830, 5831, 5838, 5839, 5840, 5841, 5842, 5898, 5899, 5900, 5901, 5902, 5903, 5904, 5905, 5906, 5907, 5908, 5909, 5910, 5911, 5912, 5918, 5919, 5920, 5921, 5922, 5980, 5981, 5982, 5983, 5984, 5985, 5986, 5987, 5988, 5989, 5990, 5991, 5992, 5993, 5998, 5999, 6000, 6001, 6002, 6061, 6062, 6063, 6064, 6065, 6066, 6067, 6068, 6069, 6070, 6071, 6072, 6073, 6074, 6078, 6079, 6080, 6081, 6082, 6143, 6144, 6145, 6146, 6147, 6148, 6149, 6150, 6151, 6152, 6153, 6154, 6155, 6158, 6159, 6160, 6161, 6162, 6225, 6226, 6227, 6228, 6229, 6230, 6231, 6232, 6233, 6234, 6235, 6236, 6238, 6239, 6240, 6241, 6242, 6307, 6308, 6309, 6310, 6311, 6312, 6313, 6314, 6315, 6316, 6317, 6318, 6319, 6320, 6321, 6322, 6389, 6390, 6391, 6392, 6393, 6394, 6395, 6396, 6397, 6398, 6399, 6400, 6401, 6402, 6470, 6471, 6472, 6473, 6474, 6475, 6476, 6477, 6478, 6479, 6480, 6481, 6482, 6552, 6553, 6554, 6555, 6556, 6557, 6558, 6559, 6560]\n",
      "CPU times: user 183 ms, sys: 11.8 ms, total: 195 ms\n",
      "Wall time: 194 ms\n"
     ]
    }
   ],
   "source": [
    "%%time\n",
    "n_total = len(simulation.dataframe)\n",
    "n_train = len(simulation.dataframe[simulation.dataframe.type_of == \"train\"])\n",
    "n_val = len(simulation.dataframe[simulation.dataframe.type_of == \"val\"])\n",
    "n_test = len(simulation.dataframe[simulation.dataframe.type_of == \"test\"])\n",
    "n_train_hamiltonians = len(simulation.train_ids)\n",
    "n_val_hamiltonians = len(simulation.val_ids)\n",
    "n_test_hamiltonians = len(simulation.test_ids)\n",
    "n_total_hamiltonians = n_train_hamiltonians + n_val_hamiltonians + n_test_hamiltonians\n",
    "\n",
    "print(\"% train: \", n_train/n_total)\n",
    "print(\"% val: \",  n_val/n_total)\n",
    "print(\"% test: \", n_test/n_total)\n",
    "print(\"% train + val + test: \", (n_train+n_val+n_test)/n_total)\n",
    "print(\"\\n\")\n",
    "print(\"number of train hamiltonians: \", n_train_hamiltonians)\n",
    "print(\"number of val hamiltonians: \", n_val_hamiltonians)\n",
    "print(\"number of test hamiltonians: \", n_test_hamiltonians)\n",
    "print(\"total number of hamiltonians: \", n_total_hamiltonians)\n",
    "print(\"\\n\")\n",
    "print(\"train ids: \", simulation.train_ids)\n",
    "print(\"val ids: \", simulation.val_ids)\n",
    "print(\"test ids: \", simulation.test_ids)"
   ]
  },
  {
   "cell_type": "markdown",
   "metadata": {
    "papermill": {
     "duration": 0.016985,
     "end_time": "2020-07-09T09:47:49.337995",
     "exception": false,
     "start_time": "2020-07-09T09:47:49.321010",
     "status": "completed"
    },
    "tags": []
   },
   "source": [
    "## Running a simulation"
   ]
  },
  {
   "cell_type": "code",
   "execution_count": 23,
   "metadata": {
    "execution": {
     "iopub.execute_input": "2020-07-09T09:47:49.376015Z",
     "iopub.status.busy": "2020-07-09T09:47:49.375477Z",
     "iopub.status.idle": "2020-07-09T09:51:10.628841Z",
     "shell.execute_reply": "2020-07-09T09:51:10.628527Z"
    },
    "papermill": {
     "duration": 201.273146,
     "end_time": "2020-07-09T09:51:10.628891",
     "exception": false,
     "start_time": "2020-07-09T09:47:49.355745",
     "status": "completed"
    },
    "tags": []
   },
   "outputs": [
    {
     "name": "stderr",
     "output_type": "stream",
     "text": [
      "\r",
      "running experiments:   0%|          | 0/100 [00:00<?, ?it/s]"
     ]
    },
    {
     "name": "stderr",
     "output_type": "stream",
     "text": [
      "\r",
      "running experiments:   1%|          | 1/100 [00:01<03:13,  1.95s/it]"
     ]
    },
    {
     "name": "stderr",
     "output_type": "stream",
     "text": [
      "\r",
      "running experiments:   2%|▏         | 2/100 [00:04<03:15,  1.99s/it]"
     ]
    },
    {
     "name": "stderr",
     "output_type": "stream",
     "text": [
      "\r",
      "running experiments:   3%|▎         | 3/100 [00:05<03:11,  1.97s/it]"
     ]
    },
    {
     "name": "stderr",
     "output_type": "stream",
     "text": [
      "\r",
      "running experiments:   4%|▍         | 4/100 [00:07<03:09,  1.98s/it]"
     ]
    },
    {
     "name": "stderr",
     "output_type": "stream",
     "text": [
      "\r",
      "running experiments:   5%|▌         | 5/100 [00:09<03:04,  1.95s/it]"
     ]
    },
    {
     "name": "stderr",
     "output_type": "stream",
     "text": [
      "\r",
      "running experiments:   6%|▌         | 6/100 [00:12<03:11,  2.03s/it]"
     ]
    },
    {
     "name": "stderr",
     "output_type": "stream",
     "text": [
      "\r",
      "running experiments:   7%|▋         | 7/100 [00:14<03:09,  2.03s/it]"
     ]
    },
    {
     "name": "stderr",
     "output_type": "stream",
     "text": [
      "\r",
      "running experiments:   8%|▊         | 8/100 [00:16<03:11,  2.08s/it]"
     ]
    },
    {
     "name": "stderr",
     "output_type": "stream",
     "text": [
      "\r",
      "running experiments:   9%|▉         | 9/100 [00:18<03:06,  2.05s/it]"
     ]
    },
    {
     "name": "stderr",
     "output_type": "stream",
     "text": [
      "\r",
      "running experiments:  10%|█         | 10/100 [00:20<03:03,  2.04s/it]"
     ]
    },
    {
     "name": "stderr",
     "output_type": "stream",
     "text": [
      "\r",
      "running experiments:  11%|█         | 11/100 [00:22<03:00,  2.02s/it]"
     ]
    },
    {
     "name": "stderr",
     "output_type": "stream",
     "text": [
      "\r",
      "running experiments:  12%|█▏        | 12/100 [00:24<02:55,  1.99s/it]"
     ]
    },
    {
     "name": "stderr",
     "output_type": "stream",
     "text": [
      "\r",
      "running experiments:  13%|█▎        | 13/100 [00:26<02:53,  1.99s/it]"
     ]
    },
    {
     "name": "stderr",
     "output_type": "stream",
     "text": [
      "\r",
      "running experiments:  14%|█▍        | 14/100 [00:28<02:53,  2.02s/it]"
     ]
    },
    {
     "name": "stderr",
     "output_type": "stream",
     "text": [
      "\r",
      "running experiments:  15%|█▌        | 15/100 [00:30<02:56,  2.08s/it]"
     ]
    },
    {
     "name": "stderr",
     "output_type": "stream",
     "text": [
      "\r",
      "running experiments:  16%|█▌        | 16/100 [00:32<02:56,  2.10s/it]"
     ]
    },
    {
     "name": "stderr",
     "output_type": "stream",
     "text": [
      "\r",
      "running experiments:  17%|█▋        | 17/100 [00:34<02:49,  2.04s/it]"
     ]
    },
    {
     "name": "stderr",
     "output_type": "stream",
     "text": [
      "\r",
      "running experiments:  18%|█▊        | 18/100 [00:36<02:46,  2.03s/it]"
     ]
    },
    {
     "name": "stderr",
     "output_type": "stream",
     "text": [
      "\r",
      "running experiments:  19%|█▉        | 19/100 [00:38<02:43,  2.01s/it]"
     ]
    },
    {
     "name": "stderr",
     "output_type": "stream",
     "text": [
      "\r",
      "running experiments:  20%|██        | 20/100 [00:40<02:40,  2.00s/it]"
     ]
    },
    {
     "name": "stderr",
     "output_type": "stream",
     "text": [
      "\r",
      "running experiments:  21%|██        | 21/100 [00:42<02:38,  2.00s/it]"
     ]
    },
    {
     "name": "stderr",
     "output_type": "stream",
     "text": [
      "\r",
      "running experiments:  22%|██▏       | 22/100 [00:44<02:38,  2.03s/it]"
     ]
    },
    {
     "name": "stderr",
     "output_type": "stream",
     "text": [
      "\r",
      "running experiments:  23%|██▎       | 23/100 [00:46<02:38,  2.06s/it]"
     ]
    },
    {
     "name": "stderr",
     "output_type": "stream",
     "text": [
      "\r",
      "running experiments:  24%|██▍       | 24/100 [00:48<02:34,  2.03s/it]"
     ]
    },
    {
     "name": "stderr",
     "output_type": "stream",
     "text": [
      "\r",
      "running experiments:  25%|██▌       | 25/100 [00:50<02:33,  2.05s/it]"
     ]
    },
    {
     "name": "stderr",
     "output_type": "stream",
     "text": [
      "\r",
      "running experiments:  26%|██▌       | 26/100 [00:52<02:31,  2.05s/it]"
     ]
    },
    {
     "name": "stderr",
     "output_type": "stream",
     "text": [
      "\r",
      "running experiments:  27%|██▋       | 27/100 [00:54<02:31,  2.07s/it]"
     ]
    },
    {
     "name": "stderr",
     "output_type": "stream",
     "text": [
      "\r",
      "running experiments:  28%|██▊       | 28/100 [00:57<02:30,  2.09s/it]"
     ]
    },
    {
     "name": "stderr",
     "output_type": "stream",
     "text": [
      "\r",
      "running experiments:  29%|██▉       | 29/100 [00:59<02:28,  2.09s/it]"
     ]
    },
    {
     "name": "stderr",
     "output_type": "stream",
     "text": [
      "\r",
      "running experiments:  30%|███       | 30/100 [01:01<02:25,  2.08s/it]"
     ]
    },
    {
     "name": "stderr",
     "output_type": "stream",
     "text": [
      "\r",
      "running experiments:  31%|███       | 31/100 [01:03<02:20,  2.04s/it]"
     ]
    },
    {
     "name": "stderr",
     "output_type": "stream",
     "text": [
      "\r",
      "running experiments:  32%|███▏      | 32/100 [01:05<02:17,  2.03s/it]"
     ]
    },
    {
     "name": "stderr",
     "output_type": "stream",
     "text": [
      "\r",
      "running experiments:  33%|███▎      | 33/100 [01:07<02:14,  2.00s/it]"
     ]
    },
    {
     "name": "stderr",
     "output_type": "stream",
     "text": [
      "\r",
      "running experiments:  34%|███▍      | 34/100 [01:09<02:13,  2.02s/it]"
     ]
    },
    {
     "name": "stderr",
     "output_type": "stream",
     "text": [
      "\r",
      "running experiments:  35%|███▌      | 35/100 [01:11<02:09,  2.00s/it]"
     ]
    },
    {
     "name": "stderr",
     "output_type": "stream",
     "text": [
      "\r",
      "running experiments:  36%|███▌      | 36/100 [01:13<02:07,  2.00s/it]"
     ]
    },
    {
     "name": "stderr",
     "output_type": "stream",
     "text": [
      "\r",
      "running experiments:  37%|███▋      | 37/100 [01:15<02:04,  1.98s/it]"
     ]
    },
    {
     "name": "stderr",
     "output_type": "stream",
     "text": [
      "\r",
      "running experiments:  38%|███▊      | 38/100 [01:17<02:06,  2.04s/it]"
     ]
    },
    {
     "name": "stderr",
     "output_type": "stream",
     "text": [
      "\r",
      "running experiments:  39%|███▉      | 39/100 [01:19<02:01,  2.00s/it]"
     ]
    },
    {
     "name": "stderr",
     "output_type": "stream",
     "text": [
      "\r",
      "running experiments:  40%|████      | 40/100 [01:21<02:03,  2.06s/it]"
     ]
    },
    {
     "name": "stderr",
     "output_type": "stream",
     "text": [
      "\r",
      "running experiments:  41%|████      | 41/100 [01:23<02:02,  2.07s/it]"
     ]
    },
    {
     "name": "stderr",
     "output_type": "stream",
     "text": [
      "\r",
      "running experiments:  42%|████▏     | 42/100 [01:25<02:01,  2.10s/it]"
     ]
    },
    {
     "name": "stderr",
     "output_type": "stream",
     "text": [
      "\r",
      "running experiments:  43%|████▎     | 43/100 [01:27<01:55,  2.03s/it]"
     ]
    },
    {
     "name": "stderr",
     "output_type": "stream",
     "text": [
      "\r",
      "running experiments:  44%|████▍     | 44/100 [01:29<01:56,  2.07s/it]"
     ]
    },
    {
     "name": "stderr",
     "output_type": "stream",
     "text": [
      "\r",
      "running experiments:  45%|████▌     | 45/100 [01:31<01:52,  2.04s/it]"
     ]
    },
    {
     "name": "stderr",
     "output_type": "stream",
     "text": [
      "\r",
      "running experiments:  46%|████▌     | 46/100 [01:33<01:49,  2.02s/it]"
     ]
    },
    {
     "name": "stderr",
     "output_type": "stream",
     "text": [
      "\r",
      "running experiments:  47%|████▋     | 47/100 [01:35<01:46,  2.01s/it]"
     ]
    },
    {
     "name": "stderr",
     "output_type": "stream",
     "text": [
      "\r",
      "running experiments:  48%|████▊     | 48/100 [01:37<01:45,  2.03s/it]"
     ]
    },
    {
     "name": "stderr",
     "output_type": "stream",
     "text": [
      "\r",
      "running experiments:  49%|████▉     | 49/100 [01:39<01:43,  2.02s/it]"
     ]
    },
    {
     "name": "stderr",
     "output_type": "stream",
     "text": [
      "\r",
      "running experiments:  50%|█████     | 50/100 [01:41<01:39,  2.00s/it]"
     ]
    },
    {
     "name": "stderr",
     "output_type": "stream",
     "text": [
      "\r",
      "running experiments:  51%|█████     | 51/100 [01:43<01:39,  2.03s/it]"
     ]
    },
    {
     "name": "stderr",
     "output_type": "stream",
     "text": [
      "\r",
      "running experiments:  52%|█████▏    | 52/100 [01:45<01:39,  2.06s/it]"
     ]
    },
    {
     "name": "stderr",
     "output_type": "stream",
     "text": [
      "\r",
      "running experiments:  53%|█████▎    | 53/100 [01:47<01:37,  2.08s/it]"
     ]
    },
    {
     "name": "stderr",
     "output_type": "stream",
     "text": [
      "\r",
      "running experiments:  54%|█████▍    | 54/100 [01:49<01:34,  2.05s/it]"
     ]
    },
    {
     "name": "stderr",
     "output_type": "stream",
     "text": [
      "\r",
      "running experiments:  55%|█████▌    | 55/100 [01:51<01:31,  2.03s/it]"
     ]
    },
    {
     "name": "stderr",
     "output_type": "stream",
     "text": [
      "\r",
      "running experiments:  56%|█████▌    | 56/100 [01:53<01:27,  1.99s/it]"
     ]
    },
    {
     "name": "stderr",
     "output_type": "stream",
     "text": [
      "\r",
      "running experiments:  57%|█████▋    | 57/100 [01:55<01:24,  1.97s/it]"
     ]
    },
    {
     "name": "stderr",
     "output_type": "stream",
     "text": [
      "\r",
      "running experiments:  58%|█████▊    | 58/100 [01:57<01:24,  2.01s/it]"
     ]
    },
    {
     "name": "stderr",
     "output_type": "stream",
     "text": [
      "\r",
      "running experiments:  59%|█████▉    | 59/100 [01:59<01:21,  1.98s/it]"
     ]
    },
    {
     "name": "stderr",
     "output_type": "stream",
     "text": [
      "\r",
      "running experiments:  60%|██████    | 60/100 [02:01<01:18,  1.95s/it]"
     ]
    },
    {
     "name": "stderr",
     "output_type": "stream",
     "text": [
      "\r",
      "running experiments:  61%|██████    | 61/100 [02:03<01:15,  1.93s/it]"
     ]
    },
    {
     "name": "stderr",
     "output_type": "stream",
     "text": [
      "\r",
      "running experiments:  62%|██████▏   | 62/100 [02:05<01:15,  1.99s/it]"
     ]
    },
    {
     "name": "stderr",
     "output_type": "stream",
     "text": [
      "\r",
      "running experiments:  63%|██████▎   | 63/100 [02:07<01:12,  1.95s/it]"
     ]
    },
    {
     "name": "stderr",
     "output_type": "stream",
     "text": [
      "\r",
      "running experiments:  64%|██████▍   | 64/100 [02:09<01:10,  1.96s/it]"
     ]
    },
    {
     "name": "stderr",
     "output_type": "stream",
     "text": [
      "\r",
      "running experiments:  65%|██████▌   | 65/100 [02:11<01:08,  1.95s/it]"
     ]
    },
    {
     "name": "stderr",
     "output_type": "stream",
     "text": [
      "\r",
      "running experiments:  66%|██████▌   | 66/100 [02:13<01:07,  1.99s/it]"
     ]
    },
    {
     "name": "stderr",
     "output_type": "stream",
     "text": [
      "\r",
      "running experiments:  67%|██████▋   | 67/100 [02:15<01:06,  2.02s/it]"
     ]
    },
    {
     "name": "stderr",
     "output_type": "stream",
     "text": [
      "\r",
      "running experiments:  68%|██████▊   | 68/100 [02:17<01:04,  2.00s/it]"
     ]
    },
    {
     "name": "stderr",
     "output_type": "stream",
     "text": [
      "\r",
      "running experiments:  69%|██████▉   | 69/100 [02:19<01:01,  1.99s/it]"
     ]
    },
    {
     "name": "stderr",
     "output_type": "stream",
     "text": [
      "\r",
      "running experiments:  70%|███████   | 70/100 [02:21<00:58,  1.95s/it]"
     ]
    },
    {
     "name": "stderr",
     "output_type": "stream",
     "text": [
      "\r",
      "running experiments:  71%|███████   | 71/100 [02:23<00:56,  1.93s/it]"
     ]
    },
    {
     "name": "stderr",
     "output_type": "stream",
     "text": [
      "\r",
      "running experiments:  72%|███████▏  | 72/100 [02:25<00:54,  1.95s/it]"
     ]
    },
    {
     "name": "stderr",
     "output_type": "stream",
     "text": [
      "\r",
      "running experiments:  73%|███████▎  | 73/100 [02:27<00:52,  1.94s/it]"
     ]
    },
    {
     "name": "stderr",
     "output_type": "stream",
     "text": [
      "\r",
      "running experiments:  74%|███████▍  | 74/100 [02:29<00:52,  2.02s/it]"
     ]
    },
    {
     "name": "stderr",
     "output_type": "stream",
     "text": [
      "\r",
      "running experiments:  75%|███████▌  | 75/100 [02:31<00:50,  2.04s/it]"
     ]
    },
    {
     "name": "stderr",
     "output_type": "stream",
     "text": [
      "\r",
      "running experiments:  76%|███████▌  | 76/100 [02:33<00:48,  2.00s/it]"
     ]
    },
    {
     "name": "stderr",
     "output_type": "stream",
     "text": [
      "\r",
      "running experiments:  77%|███████▋  | 77/100 [02:35<00:46,  2.01s/it]"
     ]
    },
    {
     "name": "stderr",
     "output_type": "stream",
     "text": [
      "\r",
      "running experiments:  78%|███████▊  | 78/100 [02:37<00:44,  2.01s/it]"
     ]
    },
    {
     "name": "stderr",
     "output_type": "stream",
     "text": [
      "\r",
      "running experiments:  79%|███████▉  | 79/100 [02:39<00:42,  2.01s/it]"
     ]
    },
    {
     "name": "stderr",
     "output_type": "stream",
     "text": [
      "\r",
      "running experiments:  80%|████████  | 80/100 [02:41<00:40,  2.04s/it]"
     ]
    },
    {
     "name": "stderr",
     "output_type": "stream",
     "text": [
      "\r",
      "running experiments:  81%|████████  | 81/100 [02:43<00:38,  2.04s/it]"
     ]
    },
    {
     "name": "stderr",
     "output_type": "stream",
     "text": [
      "\r",
      "running experiments:  82%|████████▏ | 82/100 [02:45<00:36,  2.01s/it]"
     ]
    },
    {
     "name": "stderr",
     "output_type": "stream",
     "text": [
      "\r",
      "running experiments:  83%|████████▎ | 83/100 [02:47<00:34,  2.02s/it]"
     ]
    },
    {
     "name": "stderr",
     "output_type": "stream",
     "text": [
      "\r",
      "running experiments:  84%|████████▍ | 84/100 [02:49<00:31,  1.99s/it]"
     ]
    },
    {
     "name": "stderr",
     "output_type": "stream",
     "text": [
      "\r",
      "running experiments:  85%|████████▌ | 85/100 [02:51<00:29,  1.97s/it]"
     ]
    },
    {
     "name": "stderr",
     "output_type": "stream",
     "text": [
      "\r",
      "running experiments:  86%|████████▌ | 86/100 [02:53<00:27,  1.98s/it]"
     ]
    },
    {
     "name": "stderr",
     "output_type": "stream",
     "text": [
      "\r",
      "running experiments:  87%|████████▋ | 87/100 [02:55<00:25,  1.96s/it]"
     ]
    },
    {
     "name": "stderr",
     "output_type": "stream",
     "text": [
      "\r",
      "running experiments:  88%|████████▊ | 88/100 [02:57<00:23,  1.94s/it]"
     ]
    },
    {
     "name": "stderr",
     "output_type": "stream",
     "text": [
      "\r",
      "running experiments:  89%|████████▉ | 89/100 [02:59<00:21,  1.93s/it]"
     ]
    },
    {
     "name": "stderr",
     "output_type": "stream",
     "text": [
      "\r",
      "running experiments:  90%|█████████ | 90/100 [03:01<00:19,  1.94s/it]"
     ]
    },
    {
     "name": "stderr",
     "output_type": "stream",
     "text": [
      "\r",
      "running experiments:  91%|█████████ | 91/100 [03:02<00:17,  1.93s/it]"
     ]
    },
    {
     "name": "stderr",
     "output_type": "stream",
     "text": [
      "\r",
      "running experiments:  92%|█████████▏| 92/100 [03:05<00:16,  2.01s/it]"
     ]
    },
    {
     "name": "stderr",
     "output_type": "stream",
     "text": [
      "\r",
      "running experiments:  93%|█████████▎| 93/100 [03:07<00:14,  2.03s/it]"
     ]
    },
    {
     "name": "stderr",
     "output_type": "stream",
     "text": [
      "\r",
      "running experiments:  94%|█████████▍| 94/100 [03:09<00:11,  1.99s/it]"
     ]
    },
    {
     "name": "stderr",
     "output_type": "stream",
     "text": [
      "\r",
      "running experiments:  95%|█████████▌| 95/100 [03:11<00:10,  2.03s/it]"
     ]
    },
    {
     "name": "stderr",
     "output_type": "stream",
     "text": [
      "\r",
      "running experiments:  96%|█████████▌| 96/100 [03:13<00:07,  1.97s/it]"
     ]
    },
    {
     "name": "stderr",
     "output_type": "stream",
     "text": [
      "\r",
      "running experiments:  97%|█████████▋| 97/100 [03:15<00:06,  2.02s/it]"
     ]
    },
    {
     "name": "stderr",
     "output_type": "stream",
     "text": [
      "\r",
      "running experiments:  98%|█████████▊| 98/100 [03:17<00:03,  1.98s/it]"
     ]
    },
    {
     "name": "stderr",
     "output_type": "stream",
     "text": [
      "\r",
      "running experiments:  99%|█████████▉| 99/100 [03:19<00:02,  2.03s/it]"
     ]
    },
    {
     "name": "stderr",
     "output_type": "stream",
     "text": [
      "\r",
      "running experiments: 100%|██████████| 100/100 [03:21<00:00,  2.01s/it]"
     ]
    },
    {
     "name": "stderr",
     "output_type": "stream",
     "text": [
      "\r",
      "running experiments: 100%|██████████| 100/100 [03:21<00:00,  2.01s/it]"
     ]
    },
    {
     "name": "stdout",
     "output_type": "stream",
     "text": [
      "CPU times: user 3min 20s, sys: 796 ms, total: 3min 21s\n",
      "Wall time: 3min 21s\n"
     ]
    },
    {
     "name": "stderr",
     "output_type": "stream",
     "text": [
      "\n"
     ]
    }
   ],
   "source": [
    "%%time\n",
    "simulation.run_simulation(n_experiments, start_n, fit_params,shuffle_rows, pred_params, random_features, \\\n",
    "                          store_in_lists, save_eigenvector, save_hamiltonian, save_accuracy,\\\n",
    "                          save_models)\n",
    "if simulation.fourier_mode is not None:\n",
    "    simulation.fourier_dataframe.head(10)"
   ]
  },
  {
   "cell_type": "code",
   "execution_count": 24,
   "metadata": {
    "execution": {
     "iopub.execute_input": "2020-07-09T09:51:10.701582Z",
     "iopub.status.busy": "2020-07-09T09:51:10.701276Z",
     "iopub.status.idle": "2020-07-09T09:51:10.726742Z",
     "shell.execute_reply": "2020-07-09T09:51:10.726423Z"
    },
    "papermill": {
     "duration": 0.062677,
     "end_time": "2020-07-09T09:51:10.726792",
     "exception": false,
     "start_time": "2020-07-09T09:51:10.664115",
     "status": "completed"
    },
    "tags": []
   },
   "outputs": [
    {
     "data": {
      "text/html": [
       "<div>\n",
       "<style scoped>\n",
       "    .dataframe tbody tr th:only-of-type {\n",
       "        vertical-align: middle;\n",
       "    }\n",
       "\n",
       "    .dataframe tbody tr th {\n",
       "        vertical-align: top;\n",
       "    }\n",
       "\n",
       "    .dataframe thead th {\n",
       "        text-align: right;\n",
       "    }\n",
       "</style>\n",
       "<table border=\"1\" class=\"dataframe\">\n",
       "  <thead>\n",
       "    <tr style=\"text-align: right;\">\n",
       "      <th></th>\n",
       "      <th>id</th>\n",
       "      <th>path</th>\n",
       "      <th>t1</th>\n",
       "      <th>t2</th>\n",
       "      <th>winding</th>\n",
       "      <th>phase</th>\n",
       "      <th>pred_phase</th>\n",
       "      <th>type_of</th>\n",
       "      <th>feat0</th>\n",
       "      <th>feat1</th>\n",
       "      <th>...</th>\n",
       "      <th>feat90</th>\n",
       "      <th>feat91</th>\n",
       "      <th>feat92</th>\n",
       "      <th>feat93</th>\n",
       "      <th>feat94</th>\n",
       "      <th>feat95</th>\n",
       "      <th>feat96</th>\n",
       "      <th>feat97</th>\n",
       "      <th>feat98</th>\n",
       "      <th>feat99</th>\n",
       "    </tr>\n",
       "  </thead>\n",
       "  <tbody>\n",
       "    <tr>\n",
       "      <th>0</th>\n",
       "      <td>0</td>\n",
       "      <td>H_-2_-2_0.509296.dat</td>\n",
       "      <td>-2.0</td>\n",
       "      <td>-2.0</td>\n",
       "      <td>0.509296</td>\n",
       "      <td>999</td>\n",
       "      <td>666</td>\n",
       "      <td>test</td>\n",
       "      <td>0.100000</td>\n",
       "      <td>0.100000</td>\n",
       "      <td>...</td>\n",
       "      <td>0.100000</td>\n",
       "      <td>0.100000</td>\n",
       "      <td>0.100000</td>\n",
       "      <td>0.100000</td>\n",
       "      <td>0.100000</td>\n",
       "      <td>0.100000</td>\n",
       "      <td>0.100000</td>\n",
       "      <td>0.100000</td>\n",
       "      <td>0.100000</td>\n",
       "      <td>0.100000</td>\n",
       "    </tr>\n",
       "    <tr>\n",
       "      <th>1</th>\n",
       "      <td>0</td>\n",
       "      <td>H_-2_-2_0.509296.dat</td>\n",
       "      <td>-2.0</td>\n",
       "      <td>-2.0</td>\n",
       "      <td>0.509296</td>\n",
       "      <td>999</td>\n",
       "      <td>666</td>\n",
       "      <td>test</td>\n",
       "      <td>0.141421</td>\n",
       "      <td>0.141142</td>\n",
       "      <td>...</td>\n",
       "      <td>0.114412</td>\n",
       "      <td>0.108967</td>\n",
       "      <td>0.123928</td>\n",
       "      <td>0.119406</td>\n",
       "      <td>0.131490</td>\n",
       "      <td>0.127962</td>\n",
       "      <td>0.136978</td>\n",
       "      <td>0.134500</td>\n",
       "      <td>0.140306</td>\n",
       "      <td>0.138916</td>\n",
       "    </tr>\n",
       "    <tr>\n",
       "      <th>2</th>\n",
       "      <td>0</td>\n",
       "      <td>H_-2_-2_0.509296.dat</td>\n",
       "      <td>-2.0</td>\n",
       "      <td>-2.0</td>\n",
       "      <td>0.509296</td>\n",
       "      <td>999</td>\n",
       "      <td>666</td>\n",
       "      <td>test</td>\n",
       "      <td>0.141421</td>\n",
       "      <td>0.140306</td>\n",
       "      <td>...</td>\n",
       "      <td>0.043702</td>\n",
       "      <td>0.026500</td>\n",
       "      <td>0.075777</td>\n",
       "      <td>0.060214</td>\n",
       "      <td>0.103092</td>\n",
       "      <td>0.090145</td>\n",
       "      <td>0.123928</td>\n",
       "      <td>0.114412</td>\n",
       "      <td>0.136978</td>\n",
       "      <td>0.131490</td>\n",
       "    </tr>\n",
       "    <tr>\n",
       "      <th>3</th>\n",
       "      <td>0</td>\n",
       "      <td>H_-2_-2_0.509296.dat</td>\n",
       "      <td>-2.0</td>\n",
       "      <td>-2.0</td>\n",
       "      <td>0.509296</td>\n",
       "      <td>999</td>\n",
       "      <td>666</td>\n",
       "      <td>test</td>\n",
       "      <td>-0.100000</td>\n",
       "      <td>0.100000</td>\n",
       "      <td>...</td>\n",
       "      <td>-0.100000</td>\n",
       "      <td>0.100000</td>\n",
       "      <td>-0.100000</td>\n",
       "      <td>0.100000</td>\n",
       "      <td>-0.100000</td>\n",
       "      <td>0.100000</td>\n",
       "      <td>-0.100000</td>\n",
       "      <td>0.100000</td>\n",
       "      <td>-0.100000</td>\n",
       "      <td>0.100000</td>\n",
       "    </tr>\n",
       "    <tr>\n",
       "      <th>4</th>\n",
       "      <td>0</td>\n",
       "      <td>H_-2_-2_0.509296.dat</td>\n",
       "      <td>-2.0</td>\n",
       "      <td>-2.0</td>\n",
       "      <td>0.509296</td>\n",
       "      <td>999</td>\n",
       "      <td>666</td>\n",
       "      <td>test</td>\n",
       "      <td>0.000509</td>\n",
       "      <td>-0.008372</td>\n",
       "      <td>...</td>\n",
       "      <td>-0.082713</td>\n",
       "      <td>-0.089753</td>\n",
       "      <td>-0.067684</td>\n",
       "      <td>-0.075347</td>\n",
       "      <td>-0.051587</td>\n",
       "      <td>-0.059753</td>\n",
       "      <td>-0.034677</td>\n",
       "      <td>-0.043217</td>\n",
       "      <td>-0.017220</td>\n",
       "      <td>-0.026000</td>\n",
       "    </tr>\n",
       "    <tr>\n",
       "      <th>5</th>\n",
       "      <td>0</td>\n",
       "      <td>H_-2_-2_0.509296.dat</td>\n",
       "      <td>-2.0</td>\n",
       "      <td>-2.0</td>\n",
       "      <td>0.509296</td>\n",
       "      <td>999</td>\n",
       "      <td>666</td>\n",
       "      <td>test</td>\n",
       "      <td>0.001204</td>\n",
       "      <td>-0.016530</td>\n",
       "      <td>...</td>\n",
       "      <td>-0.134123</td>\n",
       "      <td>-0.138686</td>\n",
       "      <td>-0.118757</td>\n",
       "      <td>-0.127445</td>\n",
       "      <td>-0.095929</td>\n",
       "      <td>-0.108196</td>\n",
       "      <td>-0.067073</td>\n",
       "      <td>-0.082149</td>\n",
       "      <td>-0.034003</td>\n",
       "      <td>-0.050940</td>\n",
       "    </tr>\n",
       "    <tr>\n",
       "      <th>6</th>\n",
       "      <td>0</td>\n",
       "      <td>H_-2_-2_0.509296.dat</td>\n",
       "      <td>-2.0</td>\n",
       "      <td>-2.0</td>\n",
       "      <td>0.509296</td>\n",
       "      <td>999</td>\n",
       "      <td>666</td>\n",
       "      <td>test</td>\n",
       "      <td>-0.141421</td>\n",
       "      <td>-0.138980</td>\n",
       "      <td>...</td>\n",
       "      <td>0.043375</td>\n",
       "      <td>0.067830</td>\n",
       "      <td>-0.009222</td>\n",
       "      <td>0.017385</td>\n",
       "      <td>-0.060524</td>\n",
       "      <td>-0.035502</td>\n",
       "      <td>-0.103326</td>\n",
       "      <td>-0.083403</td>\n",
       "      <td>-0.131616</td>\n",
       "      <td>-0.119589</td>\n",
       "    </tr>\n",
       "    <tr>\n",
       "      <th>7</th>\n",
       "      <td>0</td>\n",
       "      <td>H_-2_-2_0.509296.dat</td>\n",
       "      <td>-2.0</td>\n",
       "      <td>-2.0</td>\n",
       "      <td>0.509296</td>\n",
       "      <td>999</td>\n",
       "      <td>666</td>\n",
       "      <td>test</td>\n",
       "      <td>-0.000826</td>\n",
       "      <td>0.025688</td>\n",
       "      <td>...</td>\n",
       "      <td>0.134753</td>\n",
       "      <td>0.124324</td>\n",
       "      <td>0.141088</td>\n",
       "      <td>0.140407</td>\n",
       "      <td>0.127608</td>\n",
       "      <td>0.136771</td>\n",
       "      <td>0.096206</td>\n",
       "      <td>0.113925</td>\n",
       "      <td>0.051292</td>\n",
       "      <td>0.075079</td>\n",
       "    </tr>\n",
       "    <tr>\n",
       "      <th>8</th>\n",
       "      <td>0</td>\n",
       "      <td>H_-2_-2_0.509296.dat</td>\n",
       "      <td>-2.0</td>\n",
       "      <td>-2.0</td>\n",
       "      <td>0.509296</td>\n",
       "      <td>999</td>\n",
       "      <td>666</td>\n",
       "      <td>test</td>\n",
       "      <td>0.141417</td>\n",
       "      <td>0.136684</td>\n",
       "      <td>...</td>\n",
       "      <td>-0.115093</td>\n",
       "      <td>-0.131915</td>\n",
       "      <td>-0.061266</td>\n",
       "      <td>-0.091040</td>\n",
       "      <td>0.007717</td>\n",
       "      <td>-0.027643</td>\n",
       "      <td>0.074791</td>\n",
       "      <td>0.042592</td>\n",
       "      <td>0.123363</td>\n",
       "      <td>0.102291</td>\n",
       "    </tr>\n",
       "    <tr>\n",
       "      <th>9</th>\n",
       "      <td>0</td>\n",
       "      <td>H_-2_-2_0.509296.dat</td>\n",
       "      <td>-2.0</td>\n",
       "      <td>-2.0</td>\n",
       "      <td>0.509296</td>\n",
       "      <td>999</td>\n",
       "      <td>666</td>\n",
       "      <td>test</td>\n",
       "      <td>0.001302</td>\n",
       "      <td>0.036430</td>\n",
       "      <td>...</td>\n",
       "      <td>0.082068</td>\n",
       "      <td>0.050848</td>\n",
       "      <td>0.127402</td>\n",
       "      <td>0.108132</td>\n",
       "      <td>0.141218</td>\n",
       "      <td>0.138667</td>\n",
       "      <td>0.120099</td>\n",
       "      <td>0.134896</td>\n",
       "      <td>0.069268</td>\n",
       "      <td>0.097755</td>\n",
       "    </tr>\n",
       "  </tbody>\n",
       "</table>\n",
       "<p>10 rows × 108 columns</p>\n",
       "</div>"
      ],
      "text/plain": [
       "   id                  path   t1   t2   winding  phase  pred_phase type_of  \\\n",
       "0   0  H_-2_-2_0.509296.dat -2.0 -2.0  0.509296    999         666    test   \n",
       "1   0  H_-2_-2_0.509296.dat -2.0 -2.0  0.509296    999         666    test   \n",
       "2   0  H_-2_-2_0.509296.dat -2.0 -2.0  0.509296    999         666    test   \n",
       "3   0  H_-2_-2_0.509296.dat -2.0 -2.0  0.509296    999         666    test   \n",
       "4   0  H_-2_-2_0.509296.dat -2.0 -2.0  0.509296    999         666    test   \n",
       "5   0  H_-2_-2_0.509296.dat -2.0 -2.0  0.509296    999         666    test   \n",
       "6   0  H_-2_-2_0.509296.dat -2.0 -2.0  0.509296    999         666    test   \n",
       "7   0  H_-2_-2_0.509296.dat -2.0 -2.0  0.509296    999         666    test   \n",
       "8   0  H_-2_-2_0.509296.dat -2.0 -2.0  0.509296    999         666    test   \n",
       "9   0  H_-2_-2_0.509296.dat -2.0 -2.0  0.509296    999         666    test   \n",
       "\n",
       "      feat0     feat1  ...    feat90    feat91    feat92    feat93    feat94  \\\n",
       "0  0.100000  0.100000  ...  0.100000  0.100000  0.100000  0.100000  0.100000   \n",
       "1  0.141421  0.141142  ...  0.114412  0.108967  0.123928  0.119406  0.131490   \n",
       "2  0.141421  0.140306  ...  0.043702  0.026500  0.075777  0.060214  0.103092   \n",
       "3 -0.100000  0.100000  ... -0.100000  0.100000 -0.100000  0.100000 -0.100000   \n",
       "4  0.000509 -0.008372  ... -0.082713 -0.089753 -0.067684 -0.075347 -0.051587   \n",
       "5  0.001204 -0.016530  ... -0.134123 -0.138686 -0.118757 -0.127445 -0.095929   \n",
       "6 -0.141421 -0.138980  ...  0.043375  0.067830 -0.009222  0.017385 -0.060524   \n",
       "7 -0.000826  0.025688  ...  0.134753  0.124324  0.141088  0.140407  0.127608   \n",
       "8  0.141417  0.136684  ... -0.115093 -0.131915 -0.061266 -0.091040  0.007717   \n",
       "9  0.001302  0.036430  ...  0.082068  0.050848  0.127402  0.108132  0.141218   \n",
       "\n",
       "     feat95    feat96    feat97    feat98    feat99  \n",
       "0  0.100000  0.100000  0.100000  0.100000  0.100000  \n",
       "1  0.127962  0.136978  0.134500  0.140306  0.138916  \n",
       "2  0.090145  0.123928  0.114412  0.136978  0.131490  \n",
       "3  0.100000 -0.100000  0.100000 -0.100000  0.100000  \n",
       "4 -0.059753 -0.034677 -0.043217 -0.017220 -0.026000  \n",
       "5 -0.108196 -0.067073 -0.082149 -0.034003 -0.050940  \n",
       "6 -0.035502 -0.103326 -0.083403 -0.131616 -0.119589  \n",
       "7  0.136771  0.096206  0.113925  0.051292  0.075079  \n",
       "8 -0.027643  0.074791  0.042592  0.123363  0.102291  \n",
       "9  0.138667  0.120099  0.134896  0.069268  0.097755  \n",
       "\n",
       "[10 rows x 108 columns]"
      ]
     },
     "execution_count": 24,
     "metadata": {},
     "output_type": "execute_result"
    }
   ],
   "source": [
    "simulation.dataframe.head(10)"
   ]
  },
  {
   "cell_type": "markdown",
   "metadata": {
    "papermill": {
     "duration": 0.033701,
     "end_time": "2020-07-09T09:51:10.794263",
     "exception": false,
     "start_time": "2020-07-09T09:51:10.760562",
     "status": "completed"
    },
    "tags": []
   },
   "source": [
    "#### Viewing a random sample"
   ]
  },
  {
   "cell_type": "code",
   "execution_count": 25,
   "metadata": {
    "execution": {
     "iopub.execute_input": "2020-07-09T09:51:10.866747Z",
     "iopub.status.busy": "2020-07-09T09:51:10.866440Z",
     "iopub.status.idle": "2020-07-09T09:51:10.894737Z",
     "shell.execute_reply": "2020-07-09T09:51:10.894418Z"
    },
    "papermill": {
     "duration": 0.0661,
     "end_time": "2020-07-09T09:51:10.894788",
     "exception": false,
     "start_time": "2020-07-09T09:51:10.828688",
     "status": "completed"
    },
    "tags": []
   },
   "outputs": [
    {
     "name": "stdout",
     "output_type": "stream",
     "text": [
      "CPU times: user 18 ms, sys: 15 µs, total: 18 ms\n",
      "Wall time: 17.8 ms\n"
     ]
    }
   ],
   "source": [
    "%%time\n",
    "if simulation.fourier_mode is not None:\n",
    "    simulation.fourier_dataframe.sample(frac=0.1, replace=False)"
   ]
  },
  {
   "cell_type": "markdown",
   "metadata": {
    "papermill": {
     "duration": 0.036374,
     "end_time": "2020-07-09T09:51:10.966198",
     "exception": false,
     "start_time": "2020-07-09T09:51:10.929824",
     "status": "completed"
    },
    "tags": []
   },
   "source": [
    "#### Checking train/val/test splits again"
   ]
  },
  {
   "cell_type": "code",
   "execution_count": 26,
   "metadata": {
    "execution": {
     "iopub.execute_input": "2020-07-09T09:51:11.036040Z",
     "iopub.status.busy": "2020-07-09T09:51:11.035724Z",
     "iopub.status.idle": "2020-07-09T09:51:11.215334Z",
     "shell.execute_reply": "2020-07-09T09:51:11.215633Z"
    },
    "papermill": {
     "duration": 0.215578,
     "end_time": "2020-07-09T09:51:11.215698",
     "exception": false,
     "start_time": "2020-07-09T09:51:11.000120",
     "status": "completed"
    },
    "tags": []
   },
   "outputs": [
    {
     "name": "stdout",
     "output_type": "stream",
     "text": [
      "% train:  0.08474317939338516\n",
      "% val:  0.7620789513793629\n",
      "% test:  0.15317786922725193\n",
      "% train + val + test:  1.0\n",
      "\n",
      "\n",
      "number of train hamiltonians:  556\n",
      "number of val hamiltonians:  5000\n",
      "number of test hamiltonians:  1005\n",
      "total number of hamiltonians:  6561\n",
      "\n",
      "\n",
      "train ids:  [5025, 5848, 195, 3945, 6509, 5769, 3505, 2126, 5138, 5557, 4875, 1903, 2139, 4145, 4029, 4606, 301, 3544, 4196, 5884, 3199, 2577, 1893, 541, 3150, 4173, 2148, 5108, 2171, 429, 3221, 2071, 5020, 6251, 4422, 5154, 3588, 4717, 4683, 3791, 5225, 6297, 3826, 4833, 3413, 1331, 5516, 6286, 2177, 3925, 2865, 184, 4856, 4978, 2692, 5673, 1914, 4403, 1285, 1189, 1576, 2819, 1764, 3219, 3789, 1848, 5112, 4883, 2371, 6029, 855, 2141, 6245, 1345, 5053, 6212, 2579, 3250, 3083, 103, 6194, 1362, 32, 1875, 1626, 259, 514, 6252, 582, 6494, 271, 616, 4259, 1289, 6388, 297, 619, 5186, 4253, 3067, 6464, 2178, 4361, 2310, 1166, 5353, 6026, 5778, 5223, 2464, 1451, 5159, 3714, 5357, 156, 2391, 1483, 5458, 4330, 932, 2986, 6198, 3782, 523, 3750, 4424, 4039, 5224, 6017, 1297, 3324, 1464, 4192, 1674, 3744, 4915, 4331, 1663, 1461, 4662, 4420, 5873, 3504, 21, 5620, 2973, 3951, 2274, 2476, 380, 6211, 1772, 2322, 4792, 1211, 1922, 4325, 3467, 788, 1130, 3563, 1001, 1838, 3305, 1738, 2810, 6016, 2846, 2319, 6539, 4215, 6526, 3192, 5034, 5270, 4312, 5402, 292, 4357, 5126, 5346, 6335, 228, 1927, 4532, 1531, 851, 1244, 5019, 1457, 3681, 4463, 4484, 4739, 5612, 2872, 5596, 6354, 4818, 2766, 2062, 1898, 3460, 4604, 5132, 672, 2023, 4148, 3655, 637, 6113, 5422, 3064, 764, 4935, 4405, 4572, 6054, 4991, 1932, 1935, 2837, 258, 4858, 3770, 5238, 2567, 4305, 948, 4171, 1026, 4586, 1796, 5724, 6460, 1528, 459, 1729, 3303, 1239, 4534, 2633, 4647, 4613, 3899, 6093, 6037, 6384, 5289, 1825, 1268, 2359, 2351, 2768, 1700, 4129, 1421, 5766, 3976, 2915, 2759, 4648, 3209, 4904, 4544, 5057, 5539, 4096, 4581, 601, 4573, 804, 5445, 3556, 3535, 4247, 3809, 37, 4327, 3297, 2358, 2820, 1411, 378, 1179, 2022, 5054, 1448, 3246, 142, 6372, 1375, 444, 3894, 4434, 3267, 2922, 6165, 2831, 3112, 2772, 2794, 2917, 774, 4867, 5302, 3210, 2156, 5258, 4359, 3958, 2618, 4767, 3735, 2363, 5629, 3497, 5941, 3865, 2879, 3559, 2621, 2572, 555, 5092, 274, 4085, 5646, 3418, 3180, 3830, 5401, 950, 4973, 3828, 2423, 4456, 1726, 3621, 3704, 4418, 3821, 227, 4939, 756, 2537, 3215, 3635, 3038, 2248, 3331, 4381, 3357, 4734, 3990, 2350, 3869, 3359, 4458, 6444, 6120, 5754, 1011, 2748, 2926, 6533, 1572, 5551, 266, 591, 4243, 1197, 4980, 2644, 186, 1446, 2829, 4708, 4668, 2889, 4176, 4566, 4692, 4208, 1602, 3328, 1692, 448, 1571, 5677, 1945, 6365, 6301, 1957, 2089, 2481, 3000, 5721, 2652, 4646, 3620, 3560, 3562, 1890, 5078, 1833, 1137, 3236, 3543, 5160, 597, 4771, 6219, 2534, 6442, 4257, 4034, 1647, 5961, 4322, 3458, 4104, 3688, 4107, 4246, 5319, 1847, 2179, 5142, 1877, 3589, 3211, 6504, 4189, 2861, 5465, 5219, 1247, 5548, 2532, 1098, 1591, 6421, 696, 934, 683, 3859, 2585, 2369, 6304, 6056, 6498, 2432, 6529, 462, 3995, 3136, 4855, 4485, 453, 1874, 1905, 62, 5553, 5387, 873, 1296, 6505, 119, 5511, 1155, 4004, 2467, 2174, 5179, 1442, 840, 316, 3451, 6287, 525, 2304, 2838, 3373, 2118, 1667, 306, 3766, 757, 1427, 1656, 6092, 1666, 675, 4733, 592, 2264, 6361, 4571, 1828, 4609, 2658, 3302, 4074, 4410, 5631, 3808, 5118, 2196, 4122, 3420, 2698, 6115, 4882, 1661, 854, 3152, 1727, 3252, 3486, 4123, 5292, 3676, 4152, 6141, 2607, 4706, 5957, 3985, 3446, 6107, 4356, 436, 3710, 1532, 6202, 157, 3626, 884, 4738, 5713, 5641, 5072, 1180, 3194, 4053, 4938, 2715, 793, 2680, 2959, 5726, 581, 2120, 3591, 2978]\n",
      "val ids:  [5366, 5316, 19, 4168, 1929, 3813, 3466, 6076, 827, 4704, 4229, 6352, 4546, 4779, 4536, 3799, 1169, 5534, 226, 3922, 2385, 2290, 2068, 6408, 3395, 3838, 5708, 1485, 2526, 5863, 127, 1856, 1101, 1325, 2273, 511, 3452, 5877, 4529, 2471, 4119, 766, 1447, 2219, 727, 1608, 5296, 3374, 503, 5507, 1372, 3310, 3248, 6204, 2790, 5355, 3898, 3266, 3071, 2154, 3289, 4489, 5651, 1782, 3416, 199, 4777, 3433, 2620, 315, 4398, 10, 3137, 3884, 4982, 2182, 807, 2994, 25, 3311, 6378, 2767, 4028, 3614, 1526, 1162, 4972, 5076, 1548, 1832, 3078, 4829, 3151, 2249, 624, 5423, 3222, 2135, 1186, 4072, 5604, 913, 2515, 1568, 5926, 2269, 137, 2975, 4404, 136, 6289, 941, 1536, 4861, 3380, 4968, 2122, 2564, 2697, 4914, 4783, 2472, 2155, 3461, 5147, 5015, 995, 915, 2822, 3883, 3227, 1855, 4997, 3797, 154, 3837, 6403, 1846, 5317, 2494, 6548, 2627, 2687, 4013, 4415, 2552, 4151, 866, 202, 2305, 5522, 5100, 6184, 471, 4528, 5267, 2641, 3711, 3268, 296, 3415, 4022, 6190, 3686, 2036, 3143, 6333, 6004, 4817, 1539, 4117, 4005, 785, 3612, 4464, 2653, 4205, 5046, 3085, 5035, 6015, 4906, 4435, 1711, 3795, 3208, 6452, 628, 2097, 3739, 1283, 1894, 2827, 754, 6328, 4790, 972, 3080, 4989, 522, 5145, 6170, 5963, 1238, 204, 5866, 2207, 5515, 3944, 1926, 1770, 124, 5635, 5633, 4245, 4334, 6343, 4113, 147, 2069, 3063, 3519, 3536, 5213, 4408, 4221, 3700, 5811, 6510, 4820, 6355, 4517, 1113, 2164, 2807, 1422, 449, 5430, 4686, 3841, 971, 1090, 6188, 5962, 6334, 1685, 1500, 4249, 1320, 2347, 3528, 684, 4519, 5071, 2414, 2586, 2778, 2006, 6179, 3819, 2004, 4956, 3263, 4306, 5751, 2411, 769, 4127, 5564, 5592, 2206, 5971, 5977, 1086, 4598, 1763, 2892, 728, 5780, 2544, 3610, 5610, 3619, 885, 6465, 5343, 27, 1941, 4108, 3903, 6005, 5834, 5321, 1415, 5951, 5473, 1019, 5259, 6177, 4976, 2102, 1658, 2263, 990, 2677, 519, 130, 2981, 5795, 1564, 174, 2096, 4636, 5518, 618, 3977, 4073, 5622, 5484, 2272, 6387, 1892, 1517, 3546, 3942, 1698, 2478, 5959, 3044, 214, 1328, 5688, 31, 5846, 927, 2074, 5096, 1354, 2399, 5195, 1714, 189, 2119, 3476, 4274, 3670, 1687, 3886, 1780, 2140, 3213, 1318, 5299, 3307, 4845, 6181, 3190, 4533, 1259, 1341, 2722, 6264, 4726, 1654, 30, 1861, 6448, 2711, 4010, 4390, 2073, 1213, 4241, 6524, 4786, 1505, 2040, 1934, 1977, 3996, 3622, 2384, 6274, 4031, 6347, 443, 1899, 752, 3525, 4163, 3163, 4599, 2513, 3082, 1302, 1822, 4957, 2442, 3687, 4852, 1092, 872, 5443, 1980, 3674, 5623, 2413, 842, 4008, 6168, 4899, 2445, 2309, 3709, 5931, 6550, 2630, 5690, 2566, 49, 3698, 4131, 5850, 5697, 5114, 6429, 2729, 3997, 5593, 3019, 3901, 5917, 3708, 5560, 3516, 2841, 3407, 2746, 587, 140, 6035, 6218, 191, 6012, 5300, 1075, 3096, 5232, 4292, 4703, 4770, 4006, 1288, 1845, 888, 6039, 4725, 5437, 4912, 4633, 6345, 508, 6102, 524, 3843, 273, 261, 782, 5194, 48, 2991, 460, 4934, 2281, 3408, 1124, 747, 5293, 2169, 4821, 3043, 4933, 2855, 3763, 5043, 1563, 518, 3870, 3484, 451, 5597, 3829, 763, 3653, 4147, 3286, 2491, 1287, 211, 5153, 2146, 4659, 3697, 2234, 3811, 5967, 1443, 2735, 3877, 5202, 6522, 3521, 1073, 2737, 5426, 6129, 4630, 4682, 2696, 2944, 1051, 3382, 2082, 5222, 5354, 3934, 4483, 2220, 5630, 914, 1976, 3645, 713, 2863, 6327, 382, 2962, 2470, 784, 5184, 999, 33, 4324, 3753, 346, 2601, 2505, 4081, 5770, 850, 3135, 549, 3162, 3134, 2525, 5927, 5978, 3111, 1100, 1657, 620, 1783, 350, 2974, 4943, 5913, 2947, 1543, 3584, 970, 6439, 3881, 2283, 2665, 4070, 3195, 2971, 1020, 6257, 2060, 723, 6349, 4666, 5048, 6010, 4490, 6331, 3279, 5624, 3493, 2162, 3168, 5056, 929, 3718, 5613, 4548, 5133, 1570, 2792, 1029, 5448, 2044, 1184, 930, 1190, 2673, 3463, 5695, 41, 1987, 3491, 5144, 1940, 2289, 2020, 4342, 6182, 6500, 4551, 16, 1702, 2394, 2798, 6142, 5540, 6298, 223, 2744, 1294, 4825, 373, 477, 4366, 3897, 3762, 1734, 4474, 1429, 5187, 3530, 6248, 2489, 4313, 3260, 76, 4990, 5059, 2041, 1494, 6466, 3823, 4112, 685, 446, 2137, 886, 3122, 5527, 4114, 2019, 1655, 4136, 2085, 1089, 6201, 691, 4503, 877, 6167, 5438, 2987, 6183, 6363, 4091, 4791, 474, 3540, 1942, 5938, 6277, 3188, 2897, 5647, 4271, 3293, 5123, 1690, 4397, 860, 6285, 1507, 5055, 3426, 1852, 208, 506, 4237, 3272, 867, 1950, 3424, 1324, 3365, 2333, 2830, 5433, 4260, 2095, 3125, 3092, 3998, 3496, 1210, 5562, 1960, 5693, 2345, 4036, 4849, 2308, 5294, 6341, 4667, 3539, 1008, 2745, 3731, 883, 3825, 3011, 3699, 3915, 3833, 3447, 704, 2873, 2668, 5809, 4416, 5711, 2935, 3345, 1488, 2502, 4178, 197, 4473, 4329, 5764, 3983, 3913, 4465, 3892, 1676, 6369, 6105, 6495, 5880, 3529, 4071, 5239, 3354, 4275, 1083, 1250, 2430, 3532, 2005, 128, 1385, 3274, 6532, 1701, 5619, 6527, 2774, 4351, 3992, 6411, 5936, 4626, 1105, 1161, 1917, 3852, 2780, 3021, 1739, 1904, 702, 3692, 4619, 354, 3941, 357, 5022, 6469, 2775, 17, 1809, 891, 1486, 4445, 1497, 2091, 345, 4315, 673, 5151, 871, 4521, 5236, 6263, 3649, 4169, 3102, 794, 6417, 709, 353, 595, 4460, 381, 314, 2452, 1512, 4377, 6547, 2712, 4860, 2370, 2700, 2854, 5182, 3009, 2611, 213, 4238, 1998, 2832, 34, 5670, 3028, 1481, 42, 2360, 698, 236, 1514, 1463, 4538, 1122, 5970, 4853, 2108, 4063, 3478, 3863, 2736, 1159, 4142, 796, 3767, 183, 2551, 3577, 3428, 1973, 4665, 3984, 2383, 3552, 5044, 5157, 1192, 3177, 1436, 839, 2602, 6489, 5487, 5483, 4336, 4206, 832, 1015, 4252, 5537, 5715, 1612, 260, 5047, 507, 6268, 1708, 5242, 4454, 6371, 1292, 5843, 2329, 1118, 3312, 305, 4062, 6379, 323, 2514, 180, 4736, 925, 528, 4854, 4179, 3376, 3093, 3193, 2368, 565, 706, 2287, 1298, 5395, 294, 1452, 2545, 310, 1616, 234, 3646, 5861, 663, 6434, 1028, 3873, 1321, 2390, 5045, 5389, 1164, 388, 2913, 1928, 588, 1577, 1615, 3471, 2648, 837, 3005, 2659, 1249, 2116, 6175, 5932, 916, 2498, 1522, 2405, 2719, 1495, 4174, 3400, 6051, 1930, 5345, 1959, 2612, 5530, 2965, 3012, 6324, 1419, 3742, 4285, 2662, 2398, 3665, 6409, 1659, 856, 4975, 2299, 435, 3024, 1746, 2574, 2750, 952, 3037, 3733, 967, 141, 863, 2456, 4296, 6094, 4204, 3242, 5964, 3630, 795, 72, 1766, 5446, 152, 15, 3889, 1682, 4138, 1773, 1506, 4851, 5307, 1496, 6467, 2342, 2115, 545, 2598, 1323, 393, 2761, 2401, 4368, 6501, 3106, 5226, 1870, 2167, 1864, 692, 590, 4216, 1573, 3948, 1975, 4887, 2581, 527, 3457, 5388, 3582, 2198, 5508, 4162, 146, 4895, 2907, 6544, 5710, 5772, 1467, 2014, 4214, 2756, 1248, 118, 1762, 3624, 1208, 6237, 3205, 4239, 426, 2703, 1237, 5472, 5526, 4711, 4656, 6262, 3585, 5886, 1351, 3792, 4478, 805, 5029, 1038, 3295, 5994, 6284, 6119, 2741, 2190, 5937, 6488, 1815, 4307, 2524, 5702, 5541, 6454, 5506, 3340, 4318, 3306, 5594, 97, 3391, 5609, 1049, 4910, 2276, 5466, 2059, 6038, 3008, 1499, 1792, 4718, 997, 2306, 502, 2386, 3469, 2479, 2868, 96, 1924, 3355, 1595, 2523, 1468, 5950, 2647, 1127, 4942, 6323, 3128, 5691, 5208, 286, 5152, 4813, 3502, 3060, 3802, 3595, 2017, 2891, 4488, 1866, 762, 2284, 1508, 5432, 5066, 3468, 3066, 535, 230, 998, 2200, 5639, 631, 6106, 2245, 5129, 3638, 4442, 4438, 3973, 5117, 5895, 3586, 1541, 4994, 3879, 6030, 3919, 3726, 270, 2875, 1355, 6517, 6306, 5791, 5555, 2087, 681, 28, 6163, 6418, 3385, 3667, 5347, 4469, 4276, 3860, 1625, 3678, 4936, 5801, 4491, 2977, 4190, 2638, 5477, 2330, 2848, 679, 4149, 4303, 3960, 4698, 548, 6206, 3417, 3994, 2806, 5707, 2877, 6438, 6077, 268, 646, 4047, 1272, 2235, 6506, 4250, 3054, 5676, 5529, 2931, 2949, 2752, 2184, 5314, 1128, 4439, 1082, 77, 2805, 3186, 4766, 6199, 1487, 787, 5705, 4537, 445, 3814, 1007, 108, 3487, 2473, 3100, 513, 2111, 6221, 3656, 3104, 2842, 5935, 4251, 3421, 4242, 210, 149, 4308, 6483, 3185, 5531, 2740, 2751, 387, 2769, 3971, 4437, 6540, 1752, 5514, 4831, 2646, 5032, 2590, 11, 1055, 5283, 3154, 4907, 2474, 857, 3004, 3643, 6013, 5779, 198, 3341, 1160, 1458, 1938, 4946, 2090, 454, 440, 2727, 39, 3308, 6173, 4015, 4157, 6139, 4660, 5812, 5513, 1537, 349, 1628, 3218, 5480, 3488, 3247, 870, 3949, 3035, 700, 3287, 1214, 1339, 1787, 1191, 4371, 3513, 515, 4949, 6276, 4388, 937, 3498, 6486, 4631, 2920, 2764, 2055, 1255, 5953, 2015, 1530, 4944, 1744, 4644, 2477, 5482, 5265, 122, 187, 2508, 2266, 3675, 847, 759, 947, 2990, 2731, 4065, 4645, 779, 4143, 5342, 2288, 4896, 4621, 235, 6293, 3606, 2083, 4423, 529, 1686, 2678, 1358, 1542, 1163, 3326, 551, 1171, 389, 3537, 4387, 423, 1779, 5566, 5377, 1876, 1157, 593, 2039, 2203, 262, 4657, 5139, 2884, 1664, 5103, 6295, 2159, 4964, 889, 5237, 5628, 4211, 1050, 5785, 2592, 5532, 3381, 4417, 4146, 3804, 2650, 1688, 2392, 2280, 3768, 3229, 2268, 1897, 910, 3846, 2416, 4535, 2701, 3780, 5616, 3288, 5479, 4248, 3492, 6196, 463, 3059, 4026, 4282, 3707, 3816, 6461, 6100, 3410, 5065, 1450, 1401, 135, 36, 3489, 6413, 6281, 6118, 4746, 2713, 5207, 2348, 4412, 2723, 2262, 3723, 55, 3147, 1293, 5552, 5303, 1277, 278, 911, 3056, 3975, 6193, 680, 5855, 2349, 1598, 3988, 4784, 3756, 2487, 4217, 5794, 3956, 1017, 4710, 2469, 760, 4003, 5077, 4287, 2921, 5038, 2029, 65, 5805, 1094, 1035, 2065, 2504, 4333, 116, 3885, 4339, 4495, 4289, 5725, 6124, 6209, 6075, 6508, 6089, 3604, 2642, 222, 2224, 4652, 1607, 3587, 2243, 1546, 1172, 1276, 4632, 844, 604, 3916, 5763, 3350, 1580, 714, 5298, 2614, 1132, 1168, 501, 2503, 5692, 302, 2175, 2002, 2874, 3405, 1579, 4558, 4908, 2654, 5122, 1812, 918, 676, 2595, 4826, 2499, 6406, 237, 3330, 6091, 5191, 1408, 22, 4052, 2636, 3706, 6451, 4360, 201, 5814, 848, 3090, 1261, 1632, 4932, 4290, 4272, 3778, 6437, 2739, 2229, 4870, 6492, 100, 2691, 3018, 371, 4500, 2896, 221, 607, 3073, 3599, 5102, 2356, 5781, 1412, 3131, 1256, 589, 5505, 3831, 225, 4286, 1712, 1630, 1363, 3269, 2278, 181, 206, 4378, 5050, 4981, 1347, 6435, 6116, 220, 3474, 3436, 3757, 4024, 5064, 4685, 5883, 2426, 2557, 2527, 1406, 2404, 2185, 1778, 4653, 6358, 4126, 352, 4341, 5728, 5704, 954, 1810, 5837, 53, 3509, 1112, 1466, 3734, 5798, 4693, 6497, 5324, 3719, 285, 4486, 1045, 4025, 1154, 1871, 232, 1584, 2992, 2635, 5396, 2197, 3127, 4086, 4930, 5310, 3806, 4570, 6422, 1978, 6357, 4254, 3450, 5110, 1337, 3758, 5105, 6272, 2887, 66, 2725, 3278, 4399, 63, 5650, 6521, 1265, 4788, 3611, 6222, 3730, 1216, 3790, 1102, 5786, 3684, 172, 3032, 1012, 3342, 3783, 6024, 458, 384, 2779, 2520, 5973, 4638, 3980, 2152, 3300, 4064, 2450, 5535, 3966, 3117, 530, 4808, 4699, 4051, 3335, 1909, 3367, 3170, 5733, 1334, 3275, 4903, 5648, 1251, 2433, 4658, 2218, 2631, 5675, 2714, 4209, 2844, 3858, 3076, 2749, 4709, 6446, 1018, 3036, 644, 2145, 4076, 4986, 403, 300, 5671, 2205, 3736, 6023, 1843, 1356, 5893, 143, 1824, 3579, 4884, 2104, 3290, 5176, 2231, 1300, 544, 344, 3515, 6337, 3394, 3908, 5260, 3155, 4448, 5368, 1609, 3618, 4079, 5435, 1016, 105, 5590, 1835, 951, 4298, 2455, 3666, 4066, 1096, 3181, 5832, 4530, 3183, 3628, 1219, 3098, 1274, 2512, 5915, 5621, 5945, 2286, 3602, 2639, 5674, 2236, 424, 3160, 5010, 3254, 4228, 3057, 4092, 3233, 2600, 5729, 6036, 5094, 1754, 1193, 3946, 69, 3007, 5476, 6269, 4284, 3912, 4202, 3634, 385, 6426, 6131, 207, 4873, 2882, 2339, 4440, 295, 2183, 2934, 5290, 4622, 434, 1952, 4355, 2529, 3124, 370, 771, 2568, 2683, 4516, 464, 3304, 1791, 5924, 2632, 3398, 4539, 6485, 2742, 2237, 4850, 289, 131, 2241, 4453, 603, 457, 2851, 4007, 4603, 3316, 2100, 749, 5869, 2365, 4316, 3409, 2812, 106, 4077, 791, 3235, 1405, 2061, 2938, 75, 6101, 3366, 3631, 70, 992, 874, 4827, 2918, 5288, 1407, 3001, 3754, 1588, 687, 1646, 1789, 2946, 3743, 5193, 337, 2670, 2911, 5955, 1589, 3361, 3542, 2495, 510, 2912, 4797, 1365, 688, 4319, 1991, 3003, 362, 1202, 3142, 5305, 6133, 4384, 1278, 1173, 1669, 61, 3932, 2151, 2257, 177, 4578, 1085, 1445, 1002, 2969, 421, 1781, 2084, 26, 4078, 4301, 439, 6440, 3751, 2222, 4363, 4691, 4552, 47, 6003, 3453, 6507, 753, 3006, 682, 6049, 6431, 2867, 6283, 5192, 3338, 4450, 834, 6425, 1931, 6127, 1107, 6383, 2784, 2743, 4579, 4580, 4406, 2893, 2149, 3041, 1188, 3671, 3993, 4337, 1979, 5197, 5717, 4376, 4629, 3551, 3189, 1820, 3616, 2475, 598, 3368, 926, 2864, 3010, 2064, 1597, 4343, 5349, 775, 2338, 3255, 4035, 4796, 288, 2724, 4194, 6457, 4576, 3377, 5588, 277, 3575, 176, 2669, 1501, 1617, 6045, 939, 3878, 3943, 3827, 4441, 6296, 3153, 1490, 5405, 2244, 2686, 3548, 1954, 5136, 5356, 5897, 5150, 343, 3023, 4027, 5190, 4393, 5470, 1578, 4385, 2436, 3555, 4332, 4060, 2828, 1900, 5023, 3187, 1583, 2228, 5309, 2188, 2885, 4985, 6169, 3178, 1849, 455, 4615, 3251, 5799, 3113, 2547, 5996, 4520, 5930, 2252, 5127, 1594, 2018, 5776, 3677, 4165, 5890, 1862, 3284, 1194, 3314, 828, 5709, 6172, 6253, 1925, 5266, 6176, 1343, 3325, 5384, 5073, 708, 3264, 6208, 1794, 336, 1623, 4195, 5061, 422, 5210, 3807, 6374, 2440, 2905, 5341, 5874, 1590, 955, 365, 2795, 4449, 3442, 2031, 1046, 5627, 6300, 1869, 6330, 5400, 4188, 5871, 6462, 1566, 4369, 5363, 5450, 4863, 3130, 623, 6028, 3412, 5719, 456, 5714, 5872, 3683, 4068, 1853, 6084, 4504, 772, 396, 442, 1135, 4466, 5546, 3910, 308, 3462, 1424, 1043, 1533, 1750, 3159, 539, 5808, 2528, 4227, 24, 1014, 1535, 205, 3075, 2364, 5995, 667, 622, 5875, 1434, 1651, 132, 2021, 5853, 6052, 3402, 612, 2651, 1605, 1110, 1732, 5392, 155, 674, 6189, 2492, 6099, 3558, 5528, 185, 4970, 1257, 1099, 6108, 553, 1254, 3031, 5847, 6087, 3454, 5669, 5960, 1830, 4953, 3866, 2483, 3867, 5221, 2161, 1187, 1775, 2449, 922, 2878, 5196, 2150, 1381, 4663, 1985, 3404, 3564, 54, 2033, 3449, 3317, 4616, 1829, 6525, 6356, 2928, 5036, 1710, 5216, 5198, 4391, 4643, 3443, 4261, 4995, 3158, 73, 3914, 4470, 2688, 3788, 4701, 2679, 5845, 5789, 3848, 2075, 3940, 3876, 5700, 1816, 3729, 6217, 224, 6420, 2355, 957, 6086, 2253, 3593, 5790, 469, 3445, 865, 5687, 1730, 1652, 6535, 3339, 2955, 792, 5021, 1901, 789, 3490, 6545, 5753, 3282, 1740, 2702, 5858, 4689, 1795, 1240, 60, 5424, 3501, 29, 5111, 1091, 966, 2553, 5538, 94, 6325, 666, 6447, 3397, 2849, 194, 3423, 1437, 1042, 5079, 5787, 2037, 4945, 1817, 3148, 1048, 192, 1449, 6224, 1524, 636, 40, 2314, 5509, 6382, 6031, 3999, 5365, 3244, 438, 6513, 5012, 4291, 6359, 126, 6443, 5618, 1510, 3419, 4988, 6458, 1417, 2682, 3510, 4154, 3176, 18, 1895, 2147, 1218, 6095, 2013, 920, 5230, 5404, 4525, 864, 5768, 1024, 5559, 5774, 5140, 3110, 5042, 1416, 5095, 4542, 5946, 6050, 6364, 949, 2193, 4109, 1174, 1183, 4983, 1678, 2954, 2802, 4505, 633, 2717, 2325, 173, 107, 4723, 129, 4233, 5373, 6266, 3839, 797, 5625, 5143, 4795, 3226, 4623, 1581, 6255, 5318, 2420, 2437, 2716, 441, 2417, 6104, 4164, 3126, 2785, 4804, 6381, 95, 4402, 390, 144, 6244, 3728, 6512, 2927, 175, 3776, 2599, 4046, 3114, 2389, 2804, 1728, 3346, 196, 269, 2352, 3292, 1423, 5311, 6265, 3959, 264, 5444, 6543, 461, 4688, 3872, 3401, 3364, 4601, 6249, 1009, 3389, 67, 468, 4042, 5323, 5775, 2454, 4775, 5268, 2834, 377, 6096, 1703, 5425, 5611, 1005, 1916, 3972, 4774, 3904, 2606, 3911, 5617, 5966, 5549, 4811, 282, 3456, 2856, 512, 2628, 4562, 1353, 263, 4414, 4447, 3164, 677, 669, 4993, 942, 1518, 6041, 6351, 3240, 4279, 4977, 6404, 3512, 104, 3500, 2890, 3387, 4125, 2570, 3508, 6519, 2282, 5891, 5379, 4749, 4170, 3747, 3716, 1785, 1704, 5456, 5177, 3434, 1936, 5390, 5304, 4954, 5796, 3291, 3025, 2180, 778, 2904, 5949, 3590, 2900, 4144, 2758, 3950, 2979, 4055, 139, 2324, 218, 4200, 4550, 5626, 1695, 2279, 339, 1972, 973, 4498, 112, 5767, 4304, 4731, 4386, 4234, 3347, 1851, 4089, 35, 4037, 3875, 4617, 5813, 4967, 3081, 2168, 2657, 3573, 4588, 4374, 1834, 3201, 2655, 1204, 1303, 6097, 5141, 806, 2381, 716, 6339, 1482, 943, 3550, 2821, 117, 4255, 584, 6178, 6164, 3212, 1367, 1342, 1103, 6043, 1516, 6210, 12, 830, 4815, 2916, 4468, 4611, 5974, 770, 5297, 3650, 2058, 3928, 2409, 6250, 4712, 845, 4909, 6271, 6299, 4569, 2227, 2123, 2811, 267, 1603, 2961, 3926, 4235, 4781, 3259, 3214, 1996, 3957, 1369, 4011, 1525, 3343, 3906, 1691, 4382, 2172, 4159, 1660, 3642, 1335, 3557, 1115, 6114, 6385, 2538, 1699, 3761, 6055, 4740, 1693, 2781, 1290, 4963, 4859, 5049, 5972, 4780, 2238, 3245, 5459, 5550, 1047, 3141, 768, 4793, 2760, 3880, 2797, 3108, 4258, 542, 5397, 2453, 23, 6520, 615, 2695, 4499, 3139, 2361, 4224, 2664, 1177, 608, 4124, 1540, 3371, 4947, 4140, 2998, 694, 2989, 5544, 4979, 5130, 2561, 765, 2388, 5933, 2732, 3644, 1425, 3378, 3927, 2316, 6456, 473, 1125, 2675, 4848, 4789, 6117, 2689, 5605, 1245, 4931, 2733, 1402, 3179, 3991, 6279, 953, 2431, 6491, 803, 4607, 1797, 767, 777, 3392, 182, 516, 3349, 2408, 6453, 2078, 1498, 5543, 3262, 1673, 2824, 852, 5436, 1826, 1284, 1400, 1949, 2968, 2099, 2011, 2395, 2199, 1650, 2490, 46, 5468, 4455, 2858, 1080, 3046, 3107, 3334, 2771, 4582, 6376, 3237, 6302, 5591, 3294, 3578, 4395, 3074, 6493, 433, 2626, 2976, 1176, 6048, 2563, 3939, 5372, 1879, 1352, 3663, 1923, 2809, 5720, 3393, 4897, 2956, 5589, 3296, 3574, 1793, 2548, 2531, 3441, 1645, 5212, 3533, 375, 3285, 2967, 3109, 5394, 4898, 746, 748, 1618, 3172, 2239, 1749, 4413, 6514, 3204, 4890, 2025, 761, 1460, 2424, 3351, 5488, 1502, 4380, 4506, 1333, 3834, 846, 4803, 2493, 3721, 418, 1891, 3965, 6166, 2098, 1175, 3969, 5947, 4283, 4090, 2226, 6128, 2026, 203, 2847, 4389, 627, 3273, 3982, 2003, 3777, 1813, 2255, 4471, 4587, 4575, 3483, 550, 1946, 6220, 2313, 634, 5835, 751, 5209, 944, 3812, 6260, 3713, 3592, 44, 2443, 2337, 4451, 5271, 6273, 6346, 3048, 6185, 2791, 521, 4009, 4133, 6125, 3203, 5097, 2565, 1983, 4555, 3157, 5606, 3103, 5262, 2439, 4012, 3298, 6110, 2522, 5286, 4872, 447, 3581, 2776, 4050, 1106, 3794, 291, 836, 5101, 1649, 2166, 4787, 6282, 686, 1994, 5274, 52, 2839, 4354, 2012, 4722, 4962, 4574, 2233, 4457, 280, 6098, 3481, 1428, 5968, 1915, 5486, 5608, 5181, 3851, 4707, 5380, 2535, 4876, 2957, 74, 2291, 5615, 4496, 3800, 2328, 367, 311, 4625, 3390, 3332, 2694, 6367, 517, 1081, 5683, 2261, 120, 6463, 1939, 5547, 6373, 5278, 2672, 1868, 470, 1435, 2519, 6542, 2728, 2103, 2157, 4705, 4270, 2034, 5940, 6303, 4874, 4087, 4971, 4958, 6332, 2835, 1410, 6368, 2604, 4732, 2113, 3986, 2556, 466, 1263, 6523, 4743, 6207, 275, 609, 5027, 869, 5860, 3549, 876, 2597, 5969, 4894, 5851, 4974, 1705, 3388, 4014, 2403, 6436, 5976, 6122, 2667, 38, 4567, 6174, 6338, 355, 2354, 5011, 504, 2937, 2425, 3494, 1529, 4769, 2246, 2619, 5554, 5205, 5183, 2028, 5128, 557, 5306, 2057, 2833, 4798, 281, 2009, 3805, 3318, 2603, 3749, 4620, 3554, 3583, 5536, 4568, 838, 5756, 6057, 3479, 4294, 3095, 1023, 6419, 4785, 4041, 6156, 1631, 3299, 6414, 5115, 534, 4541, 4167, 626, 1567, 5545, 5429, 4940, 347, 5689, 4069, 1366, 1084, 1220, 868, 4987, 1944, 6370, 5524, 1755, 509, 2230, 2451, 5393, 4475, 1593, 2265, 1374, 6267, 3144, 6027, 5896, 2984, 3553, 3717, 1621, 3682, 2232, 3425, 3652, 2035, 4323, 875, 4364, 3327, 430, 5454, 783, 2676, 6109, 2251, 3429, 4383, 1134, 4547, 2852, 2225, 1747, 3712, 4093, 3547, 2077, 678, 1078, 1236, 5257, 3313, 2516, 4212, 309, 3475, 6536, 2923, 4857, 5723, 5867, 1317, 5563, 5457, 4501, 5452, 2582, 3084, 5716, 3146, 5358, 2813, 4900, 1906, 712, 2247, 5568, 4778, 3020, 4097, 6259, 1768, 1182, 3531, 4059, 3363, 2066, 4941, 5149, 4556, 887, 3755, 547, 6187, 2063, 2649, 6423, 379, 51, 2569, 5263, 2223, 5227, 4492, 366, 3480, 5058, 4172, 5792, 2303, 3961, 3607, 2718, 1000, 4728, 338, 2840, 996, 4032, 13, 1842, 3356, 3952, 6214, 3740, 693, 5449, 6449, 2101, 1854, 3257, 1933, 3810, 707, 4353, 3013, 5469, 6549, 4111, 6034, 841, 5642, 5712, 420, 1271, 4669, 4812, 6415, 2194, 4281, 3748, 6450, 4219, 1111, 5925, 2448, 1624, 3053, 2734, 3358, 5463, 6511, 5313, 2217, 5638, 531, 4220, 3027, 3647, 6006, 2948, 4362, 5344, 632, 6551, 4752, 2945, 3249, 5272, 5464, 4634, 3832, 4871, 3156, 299, 2327, 254, 2415, 1547, 4650, 3099, 1569, 5706, 2302, 5075, 4763, 2671, 3431, 5481, 3968, 2773, 2857, 5062, 1399, 1270, 1273, 1619, 4889, 4809, 2088, 1653, 1117, 5161, 5229, 6350, 6375, 4223, 4684, 14, 3732, 307, 6344, 1493, 5565, 4321, 484, 5512, 1077, 5453, 3640, 3220, 1850, 1054, 3963, 6243, 758, 121, 1138, 6135, 1336, 2818, 3567, 4058, 2441, 6157, 1984, 6445, 2509, 5965, 2393, 1036, 4218, 4056, 91, 4396, 1383, 4088, 3601, 3231, 6353, 556, 4807, 963, 2209, 2410, 6123, 2853, 945, 2484, 6060, 2738, 2506, 3406, 4207, 536, 4203, 3541, 2518, 4741, 6200, 2943, 1606, 3632, 4482, 2254, 1003, 6340, 2396, 404, 3517, 4600, 2985, 2941, 1409, 3465, 4730, 3217, 2605, 2690, 835, 1052, 5881, 6186, 3538, 1808, 3900, 1902, 1986, 3477, 537, 2373, 1340, 1758, 3017, 3705, 3051, 4105, 4411, 4462, 5030, 3929, 5804, 4030, 647, 1896, 2942, 1671, 1956, 2763, 705, 4419, 372, 5485, 4043, 928, 3369, 2755, 933, 1993, 134, 5295, 4277, 2898, 1319, 3759, 4110, 4358, 3917, 3239, 1511, 2204, 2685, 1665, 6275, 4862, 2357, 3627, 645, 359, 3654, 2323, 1379, 1907, 2845, 3062, 3565, 5570, 2801, 4805, 4627, 3603, 1350, 1031, 3207, 625, 4477, 6011, 5510, 1418, 1243, 397, 2258, 341, 6223, 3258, 3166, 5460, 5375, 2208, 2072, 4554, 293, 1185, 4193, 1420, 5614, 6342, 5603, 1206, 374, 2571, 5474, 2418, 4443, 1431, 3352, 4540, 3511, 4226, 3241, 4888, 3253, 5773, 2092, 2334, 4222, 4280, 2988, 6020, 1267, 4742, 1844, 921, 6083, 4094, 133, 102, 5923, 5637, 5158, 5856, 2382, 45, 92, 3737, 5434, 5188, 2661, 5376, 3765, 4314, 3836, 6329, 3701, 3625, 5104, 1689, 3694, 994, 1438, 2575, 750, 5645, 6213, 1033, 1503, 2501, 2042, 3234, 2500, 3658, 532, 3639, 4531, 304, 3974, 5180, 2656, 1587, 98, 4084, 2808, 6433, 2367, 5156, 178, 2007, 4309, 5367, 5282, 93, 1368, 5887, 1613, 1857, 1025, 4806, 1209, 2331, 5185, 3738, 5148, 5916, 391, 3803, 4765, 5701, 4865, 6380, 3414, 3902, 3386, 2940, 3623, 3857, 4700, 4802, 5124, 3817, 3576, 599, 5235, 1433, 432, 695, 5175, 5016, 1338, 4892, 287, 2814, 2173, 1462, 3089, 2930, 2109, 690, 3206, 3641, 6203, 6103, 1170, 5261, 3679, 1823, 2275, 3818, 1859, 5431, 968, 4137, 1364, 4150, 1010, 4340, 6019, 4834, 1751, 3507, 829, 4996, 3169, 2447, 5320, 475, 1136, 3720, 5807, 2815, 4106, 3727, 2027, 2995, 5569, 6407, 57, 1332, 1992, 2674, 4365, 4948, 4139, 2684, 3637, 3061, 1648, 395, 4545, 5929, 5731, 5558, 2533, 617, 1426, 2110, 5849, 5854, 4161, 3569, 3864, 3775, 6085, 2008, 1596, 2429, 6197, 4772, 2554, 831, 4001, 4095, 3283, 3167, 526, 4082, 4955, 4446, 3955, 1295, 5928, 5958, 1515, 1123, 3629, 1207, 3566, 125, 710, 1131, 808, 6305, 4467, 4379, 3088, 697, 59, 3319, 3002, 1299, 2485, 361, 233, 6090, 1814, 2362, 1167, 4822, 4902, 2242, 4394, 4696, 3372, 3849, 3981, 6294, 4913, 964, 4830, 3472, 5385, 1534, 1873, 3165, 3171, 4864, 5069, 5116, 5803, 1327, 5643, 4697, 5640, 1863, 3132, 4886, 2881, 5285, 2608, 1004, 138, 2753, 4745, 3473, 2997, 4335, 109, 3174, 4891, 5956, 701, 4782, 1670, 2699, 1253, 3514, 3787, 5234, 5391, 6025, 5649, 6288, 2932, 3228, 1246, 2914, 2138, 5810, 4452, 4714, 745, 630, 6014, 6140, 711, 5644, 5442, 2402, 6405, 1713, 1872, 4729, 4002, 2966, 3029, 1444, 6280, 2336, 6256, 3065, 1260, 1622, 4905, 5771, 5131, 1947, 2434, 5382, 358, 4083, 3874, 419, 110, 5134, 2032, 6205, 3962, 1371, 4049, 1252, 1109, 4966, 279, 2693, 5523, 2326, 2588, 5694, 3672, 4135, 520, 3661, 3432, 3042, 6537, 4487, 1129, 3039, 1021, 3522, 2613, 4236, 6412, 2765, 3202, 2919, 1269, 5727, 2983, 6516, 5018, 2953, 3129, 2660, 4952, 4713, 3321, 4937, 1056, 3322, 6261, 833, 369, 5836, 1748, 4256, 3979, 4687, 3931, 4367, 1867, 3315, 4810, 1683, 476, 2195, 5857, 2482, 859, 4577, 5269, 1291, 2850, 2936, 2876, 1604, 5782, 3847, 861, 2708, 1574, 4655, 1995, 313, 1165, 2860, 3329, 4670, 348, 5406, 3430, 5031, 1072, 5068, 2511, 5070, 1217, 5352, 6134, 5587, 4583, 919, 1344, 3523, 283, 5370, 4134, 1195, 1627, 6416, 1404, 5398, 2170, 2762, 2189, 3047, 2576, 2866, 1974, 4278, 5322, 1982, 6040, 4518, 2663, 1034, 114, 1378, 6032, 4610, 1032, 5399, 1821, 2964, 2596, 2317, 4392, 4191, 1322, 1097, 4628, 3862, 5369, 3842, 3572, 5243, 500, 5703, 4624, 4664, 923, 4187, 3545, 1668, 6018, 5276, 635, 1981, 5997, 1610, 1286, 781, 4702, 5636, 1677, 2259, 4969, 2629, 546, 20, 6410, 1373, 1743, 2578, 2421, 428, 212, 6258, 6531, 2609, 3673, 151, 3662, 153, 5206, 3070, 2158, 2980, 5686, 5752, 5113, 4118, 5894, 917, 2970, 1413, 3119, 5471, 6386, 2906, 5067, 3571, 1053, 2782, 993, 2925, 3149, 2817, 360, 5364, 5889, 3049, 3265, 1953, 1694, 5231, 554, 1370, 3145, 145, 6515, 1465, 2353, 2143, 3133, 4472, 3518, 4901, 3987, 4177, 209, 5556, 4965, 3435, 3495, 3230, 853, 5833, 3224, 3664, 583, 4716, 5788, 5014, 2038, 4824, 5876, 231, 3896, 1715, 1697, 2583, 4828, 564, 2372, 3882, 5218, 6216, 1453, 431, 4057, 4213, 2589, 2407, 4585, 6009, 2125, 1745, 3309, 6538, 2886, 2549, 1777, 437, 2823, 2335, 724, 4421, 1709, 5291, 4661, 5722, 5350, 664, 540, 425, 2340, 4694, 2024, 4156, 4116, 2793, 4523, 3596, 4823, 4651, 4175, 4497, 4750, 780, 2463, 6499, 3281, 3605, 2321, 6270, 6046, 5517, 2637, 1776, 4045, 3613, 2419, 5135, 2444, 5033, 3907, 2910, 2634, 4951, 2573, 1819, 2267, 4565, 3115, 6459, 3820, 1513, 2136, 3824, 3669, 298, 4911, 4584, 148, 4549, 2016, 809, 4326, 303, 1079, 3091, 6427, 256, 1205, 1675, 4493, 3182, 965, 1095, 1784, 2747, 5879, 4715, 1509, 1544, 3079, 4115, 1912, 2093, 1997, 3506, 2465, 6022, 1527, 600, 2094, 3438, 2559, 668, 4744, 2584, 58, 4928, 3348, 4866, 2643, 6021, 3470, 5934, 725, 3887, 4297, 1430, 5939, 4735, 5533, 1377, 4352, 1076, 5383, 2307, 4868, 3437, 843, 4061, 1672, 1550, 5730, 6490, 1357, 5607, 4553, 4564, 5892, 3383, 5264, 6518, 6047, 5793, 5137, 5037, 2521, 3086, 5815, 6033, 5146, 2271, 1741, 3967, 4300, 2843, 3964, 2770, 1990, 2315, 4311, 5765, 450, 3077, 773, 505, 6360, 552, 3741, 5467, 643, 5240, 3930, 5870, 1706, 3801, 1384, 1212, 3893, 4375, 3570, 1116, 5865, 4459, 6137, 2999, 3657, 2250, 1614, 1565, 340, 2344, 5340, 4155, 5428, 2285, 3138, 6215, 1037, 2517, 1585, 3953, 3845, 2899, 4748, 5063, 1756, 5284, 1262, 6132, 2895, 4612, 1282, 2346, 2902, 2799, 6247, 2555, 5178, 4407, 6487, 3094, 3693, 2894, 1196, 1215, 2202, 2466, 4048, 849, 2343, 689, 2908, 5888, 6053, 3333, 3173, 472, 317, 4075, 5475, 2121, 1455, 5783, 1582, 3030, 2721, 6058, 216, 5634, 1918, 3196, 5718, 2859, 6430, 5806, 3370, 2562, 931, 563, 5099, 5024, 272, 3101, 4642, 3781, 5051, 2260, 726, 2982, 1684, 9, 2929, 1774, 3895, 1346, 5797, 3798, 2796, 6192, 5859, 912, 3924, 3725, 5052, 4295, 3482, 4067, 5287, 5315, 5204, 2438, 2726, 1326, 394, 4023, 43, 6246, 5351, 3815, 2617, 4751, 4605, 1811, 3868, 2972, 1432, 4273, 5378, 356, 6530, 1735, 3918, 862, 670, 5777, 5943, 1087, 4773, 2587, 2142, 3087, 2191, 5451, 4727, 5852, 4637, 2468, 1382, 5632, 2397, 3336, 5362, 1241, 1330, 4992, 1403, 64, 257, 1910, 5220, 2709, 3651, 3871, 4563, 3184, 363, 585, 485, 1951, 1767, 1962, 1629, 1837, 2428, 4877, 2496, 2939, 3909, 2580, 2427, 2681, 6126, 2043, 1620, 5312, 2112, 1022, 5241, 2270, 4158, 4832, 703, 3702, 1258, 4231, 6484, 621, 1575, 2311, 2256, 3448, 1030, 2446, 276, 3779, 71, 5374, 1044, 6546, 3384, 3890, 5462, 3175, 2422, 6191, 4225, 3769, 113, 6008, 4166, 4038, 2754, 4654, 2312, 5525, 755, 6528, 5371, 4649, 4608, 3455, 3232, 566, 4130, 3320, 6044, 1349, 2825, 50, 1504, 2901, 5026, 3905, 611, 5696, 3191, 1074, 5885, 5013, 3411, 3353, 1878, 1753, 5979, 255, 4527, 6366, 3052, 3238, 1027, 1757, 2558, 2710, 3947, 5975, 5914, 1696, 2888, 2666, 190, 4016, 99, 4153, 1203, 3015, 3594, 6348, 4614, 938, 467, 2054, 2486, 150, 1865, 376, 3659, 1156, 4120, 1133, 179, 3485, 4269, 1943, 5028, 1114, 3118, 1266, 5381, 2645, 665, 1006, 6502, 3439, 4618, 4878, 2076, 193, 2201, 2056, 1181, 4846, 538, 5698, 4764, 6171, 3615, 5685, 606, 3745, 5203, 3140, 4747, 3271, 2510, 4681, 1771, 5864, 123, 364, 1742, 5214, 4198, 5275, 991, 2301, 6180, 3978, 217, 946, 4244, 3933, 5800, 4132, 909, 5109, 465, 1662, 5755, 4984, 5567, 1538, 2803, 2862, 4950, 5784, 2117, 1948, 1088, 5699, 4768, 3216, 4186, 386, 4543, 5561, 1459, 3045, 3161, 2341, 2144, 1790, 1242, 5386, 3105, 6336, 543, 2730, 4409, 3633, 2593, 2903, 3069, 1586, 1454, 602, 265, 1456, 3323, 3399, 188, 6503, 2067, 5862, 351, 483, 312, 2909, 2165, 4929, 1093, 2163, 5125, 5189, 5942, 5672, 3796, 1108, 3850, 2616, 219, 940, 3524, 392, 1989, 2615, 3696, 1988, 1769, 2435, 924, 1545, 3835, 586, 3123, 1831, 5308, 2277, 5732, 2530, 3685, 3068, 5478, 3888, 1786, 290, 6290, 1707, 3277, 452, 4141, 4690, 4776, 5215, 1329, 3270, 6254, 3055, 3225, 3534, 1827, 3764, 3121, 4210, 5461, 3784, 3921, 3197, 5273, 6377, 2412, 5277, 4302, 4524, 3598, 1380, 6278, 2591, 1611, 3648, 3580, 594, 3223, 2958, 229, 1491, 2318, 1858, 3861, 1788, 2924, 4288, 4869, 4425, 3026, 4230, 5155, 3375, 1264, 2332, 3724, 2883, 4476, 5060, 4794, 383, 68, 4299, 3752, 4373, 6088, 1489, 6007, 2507, 4436, 2186, 5348, 6042, 4293, 1104, 6059, 4128, 6468, 969, 3668, 935, 1911, 5074, 3243, 1737, 111, 3022, 1958, 4401, 2124, 1376, 3597, 5844, 2836, 3703, 2826, 5228, 6441, 6195, 3464, 3568, 4317, 4893, 342, 6455, 3561, 1275, 5542, 4557, 2546, 6428, 2114, 2086, 5684, 2387, 610, 3396, 2816, 2105, 3072, 4847, 5504, 936, 1818, 5447, 613, 629, 5106, 717, 2181, 4819, 4695, 2106, 3261, 5017, 3722, 5868, 3014, 6291, 3422, 699, 2070, 1733, 2783, 6130, 6292, 4502, 3891, 3954, 3695, 3844, 4724, 3660, 956, 4372, 4814, 4232, 533, 1731, 1414, 1860, 6496, 1301, 4602, 4737, 5301, 890, 284, 3617, 2153, 4370, 1765, 6111, 2300, 4328, 2488, 5211, 3016, 2030, 3822, 5954, 4885, 6362, 3256, 5944, 3970, 614, 605, 6326, 4033, 2107, 1126, 3301, 1908, 1158, 6138, 2366, 4201, 3793, 5882, 1592, 5093, 1836, 3097, 3379, 2221, 5455, 1484, 2777, 776, 5233, 3989, 6541, 5878, 2757, 2406, 2950, 1013, 1348, 3276, 4494, 5107, 2993, 200, 5427, 4522, 1913, 2536, 3503, 858, 3786, 5098, 1955, 1937, 2933, 1178, 4338, 1492, 1961, 3785, 3923, 4054, 5403, 6424, 1736, 2594, 3427, 101, 715, 786, 1549, 115, 2187, 3050, 4121, 2176, 2610, 4526, 4199, 5948, 6432, 1198, 2550, 790, 671, 2497, 368, 4310, 4816, 6112, 3746, 3403, 4044, 56, 6136, 4461, 4040, 4197, 3715, 5595, 3058, 215, 4635, 2963, 2996, 3499, 5217, 5952, 596, 427, 3459, 1523, 6121, 3636, 3337, 2374, 6534, 2010, 5757, 4444, 3344, 5802, 2192]\n",
      "test ids:  [0, 1, 2, 3, 4, 5, 6, 7, 8, 78, 79, 80, 81, 82, 83, 84, 85, 86, 87, 88, 89, 90, 158, 159, 160, 161, 162, 163, 164, 165, 166, 167, 168, 169, 170, 171, 238, 239, 240, 241, 242, 243, 244, 245, 246, 247, 248, 249, 250, 251, 252, 253, 318, 319, 320, 321, 322, 324, 325, 326, 327, 328, 329, 330, 331, 332, 333, 334, 335, 398, 399, 400, 401, 402, 405, 406, 407, 408, 409, 410, 411, 412, 413, 414, 415, 416, 417, 478, 479, 480, 481, 482, 486, 487, 488, 489, 490, 491, 492, 493, 494, 495, 496, 497, 498, 499, 558, 559, 560, 561, 562, 567, 568, 569, 570, 571, 572, 573, 574, 575, 576, 577, 578, 579, 580, 638, 639, 640, 641, 642, 648, 649, 650, 651, 652, 653, 654, 655, 656, 657, 658, 659, 660, 661, 662, 718, 719, 720, 721, 722, 729, 730, 731, 732, 733, 734, 735, 736, 737, 738, 739, 740, 741, 742, 743, 744, 798, 799, 800, 801, 802, 810, 811, 812, 813, 814, 815, 816, 817, 818, 819, 820, 821, 822, 823, 824, 825, 826, 878, 879, 880, 881, 882, 892, 893, 894, 895, 896, 897, 898, 899, 900, 901, 902, 903, 904, 905, 906, 907, 908, 958, 959, 960, 961, 962, 974, 975, 976, 977, 978, 979, 980, 981, 982, 983, 984, 985, 986, 987, 988, 989, 1039, 1040, 1041, 1057, 1058, 1059, 1060, 1061, 1062, 1063, 1064, 1065, 1066, 1067, 1068, 1069, 1070, 1071, 1119, 1120, 1121, 1139, 1140, 1141, 1142, 1143, 1144, 1145, 1146, 1147, 1148, 1149, 1150, 1151, 1152, 1153, 1199, 1200, 1201, 1221, 1222, 1223, 1224, 1225, 1226, 1227, 1228, 1229, 1230, 1231, 1232, 1233, 1234, 1235, 1279, 1280, 1281, 1304, 1305, 1306, 1307, 1308, 1309, 1310, 1311, 1312, 1313, 1314, 1315, 1316, 1359, 1360, 1361, 1386, 1387, 1388, 1389, 1390, 1391, 1392, 1393, 1394, 1395, 1396, 1397, 1398, 1439, 1440, 1441, 1469, 1470, 1471, 1472, 1473, 1474, 1475, 1476, 1477, 1478, 1479, 1480, 1519, 1520, 1521, 1551, 1552, 1553, 1554, 1555, 1556, 1557, 1558, 1559, 1560, 1561, 1562, 1599, 1600, 1601, 1633, 1634, 1635, 1636, 1637, 1638, 1639, 1640, 1641, 1642, 1643, 1644, 1679, 1680, 1681, 1716, 1717, 1718, 1719, 1720, 1721, 1722, 1723, 1724, 1725, 1759, 1760, 1761, 1798, 1799, 1800, 1801, 1802, 1803, 1804, 1805, 1806, 1807, 1839, 1840, 1841, 1880, 1881, 1882, 1883, 1884, 1885, 1886, 1887, 1888, 1889, 1919, 1920, 1921, 1963, 1964, 1965, 1966, 1967, 1968, 1969, 1970, 1971, 1999, 2000, 2001, 2045, 2046, 2047, 2048, 2049, 2050, 2051, 2052, 2053, 2079, 2080, 2081, 2127, 2128, 2129, 2130, 2131, 2132, 2133, 2134, 2160, 2210, 2211, 2212, 2213, 2214, 2215, 2216, 2240, 2292, 2293, 2294, 2295, 2296, 2297, 2298, 2320, 2375, 2376, 2377, 2378, 2379, 2380, 2400, 2457, 2458, 2459, 2460, 2461, 2462, 2480, 2539, 2540, 2541, 2542, 2543, 2560, 2622, 2623, 2624, 2625, 2640, 2704, 2705, 2706, 2707, 2720, 2786, 2787, 2788, 2789, 2800, 2869, 2870, 2871, 2880, 2951, 2952, 2960, 3033, 3034, 3040, 3116, 3120, 3198, 3200, 3280, 3360, 3362, 3440, 3444, 3520, 3526, 3527, 3600, 3608, 3609, 3680, 3689, 3690, 3691, 3760, 3771, 3772, 3773, 3774, 3840, 3853, 3854, 3855, 3856, 3920, 3935, 3936, 3937, 3938, 4000, 4017, 4018, 4019, 4020, 4021, 4080, 4098, 4099, 4100, 4101, 4102, 4103, 4160, 4180, 4181, 4182, 4183, 4184, 4185, 4240, 4262, 4263, 4264, 4265, 4266, 4267, 4268, 4320, 4344, 4345, 4346, 4347, 4348, 4349, 4350, 4400, 4426, 4427, 4428, 4429, 4430, 4431, 4432, 4433, 4479, 4480, 4481, 4507, 4508, 4509, 4510, 4511, 4512, 4513, 4514, 4515, 4559, 4560, 4561, 4589, 4590, 4591, 4592, 4593, 4594, 4595, 4596, 4597, 4639, 4640, 4641, 4671, 4672, 4673, 4674, 4675, 4676, 4677, 4678, 4679, 4680, 4719, 4720, 4721, 4753, 4754, 4755, 4756, 4757, 4758, 4759, 4760, 4761, 4762, 4799, 4800, 4801, 4835, 4836, 4837, 4838, 4839, 4840, 4841, 4842, 4843, 4844, 4879, 4880, 4881, 4916, 4917, 4918, 4919, 4920, 4921, 4922, 4923, 4924, 4925, 4926, 4927, 4959, 4960, 4961, 4998, 4999, 5000, 5001, 5002, 5003, 5004, 5005, 5006, 5007, 5008, 5009, 5039, 5040, 5041, 5080, 5081, 5082, 5083, 5084, 5085, 5086, 5087, 5088, 5089, 5090, 5091, 5119, 5120, 5121, 5162, 5163, 5164, 5165, 5166, 5167, 5168, 5169, 5170, 5171, 5172, 5173, 5174, 5199, 5200, 5201, 5244, 5245, 5246, 5247, 5248, 5249, 5250, 5251, 5252, 5253, 5254, 5255, 5256, 5279, 5280, 5281, 5325, 5326, 5327, 5328, 5329, 5330, 5331, 5332, 5333, 5334, 5335, 5336, 5337, 5338, 5339, 5359, 5360, 5361, 5407, 5408, 5409, 5410, 5411, 5412, 5413, 5414, 5415, 5416, 5417, 5418, 5419, 5420, 5421, 5439, 5440, 5441, 5489, 5490, 5491, 5492, 5493, 5494, 5495, 5496, 5497, 5498, 5499, 5500, 5501, 5502, 5503, 5519, 5520, 5521, 5571, 5572, 5573, 5574, 5575, 5576, 5577, 5578, 5579, 5580, 5581, 5582, 5583, 5584, 5585, 5586, 5598, 5599, 5600, 5601, 5602, 5652, 5653, 5654, 5655, 5656, 5657, 5658, 5659, 5660, 5661, 5662, 5663, 5664, 5665, 5666, 5667, 5668, 5678, 5679, 5680, 5681, 5682, 5734, 5735, 5736, 5737, 5738, 5739, 5740, 5741, 5742, 5743, 5744, 5745, 5746, 5747, 5748, 5749, 5750, 5758, 5759, 5760, 5761, 5762, 5816, 5817, 5818, 5819, 5820, 5821, 5822, 5823, 5824, 5825, 5826, 5827, 5828, 5829, 5830, 5831, 5838, 5839, 5840, 5841, 5842, 5898, 5899, 5900, 5901, 5902, 5903, 5904, 5905, 5906, 5907, 5908, 5909, 5910, 5911, 5912, 5918, 5919, 5920, 5921, 5922, 5980, 5981, 5982, 5983, 5984, 5985, 5986, 5987, 5988, 5989, 5990, 5991, 5992, 5993, 5998, 5999, 6000, 6001, 6002, 6061, 6062, 6063, 6064, 6065, 6066, 6067, 6068, 6069, 6070, 6071, 6072, 6073, 6074, 6078, 6079, 6080, 6081, 6082, 6143, 6144, 6145, 6146, 6147, 6148, 6149, 6150, 6151, 6152, 6153, 6154, 6155, 6158, 6159, 6160, 6161, 6162, 6225, 6226, 6227, 6228, 6229, 6230, 6231, 6232, 6233, 6234, 6235, 6236, 6238, 6239, 6240, 6241, 6242, 6307, 6308, 6309, 6310, 6311, 6312, 6313, 6314, 6315, 6316, 6317, 6318, 6319, 6320, 6321, 6322, 6389, 6390, 6391, 6392, 6393, 6394, 6395, 6396, 6397, 6398, 6399, 6400, 6401, 6402, 6470, 6471, 6472, 6473, 6474, 6475, 6476, 6477, 6478, 6479, 6480, 6481, 6482, 6552, 6553, 6554, 6555, 6556, 6557, 6558, 6559, 6560]\n",
      "CPU times: user 153 ms, sys: 16 ms, total: 169 ms\n",
      "Wall time: 169 ms\n"
     ]
    }
   ],
   "source": [
    "%%time\n",
    "n_total = len(simulation.dataframe)\n",
    "n_train = len(simulation.dataframe[simulation.dataframe.type_of == \"train\"])\n",
    "n_val = len(simulation.dataframe[simulation.dataframe.type_of == \"val\"])\n",
    "n_test = len(simulation.dataframe[simulation.dataframe.type_of == \"test\"])\n",
    "n_train_hamiltonians = len(simulation.train_ids)\n",
    "n_val_hamiltonians = len(simulation.val_ids)\n",
    "n_test_hamiltonians = len(simulation.test_ids)\n",
    "n_total_hamiltonians = n_train_hamiltonians + n_val_hamiltonians + n_test_hamiltonians\n",
    "\n",
    "print(\"% train: \", n_train/n_total)\n",
    "print(\"% val: \",  n_val/n_total)\n",
    "print(\"% test: \", n_test/n_total)\n",
    "print(\"% train + val + test: \", (n_train+n_val+n_test)/n_total)\n",
    "print(\"\\n\")\n",
    "print(\"number of train hamiltonians: \", n_train_hamiltonians)\n",
    "print(\"number of val hamiltonians: \", n_val_hamiltonians)\n",
    "print(\"number of test hamiltonians: \", n_test_hamiltonians)\n",
    "print(\"total number of hamiltonians: \", n_total_hamiltonians)\n",
    "print(\"\\n\")\n",
    "print(\"train ids: \", simulation.train_ids)\n",
    "print(\"val ids: \", simulation.val_ids)\n",
    "print(\"test ids: \", simulation.test_ids)"
   ]
  },
  {
   "cell_type": "markdown",
   "metadata": {
    "papermill": {
     "duration": 0.036718,
     "end_time": "2020-07-09T09:51:11.288109",
     "exception": false,
     "start_time": "2020-07-09T09:51:11.251391",
     "status": "completed"
    },
    "tags": []
   },
   "source": [
    "#### Checking summaries"
   ]
  },
  {
   "cell_type": "code",
   "execution_count": 27,
   "metadata": {
    "execution": {
     "iopub.execute_input": "2020-07-09T09:51:11.359035Z",
     "iopub.status.busy": "2020-07-09T09:51:11.358730Z",
     "iopub.status.idle": "2020-07-09T09:51:11.376955Z",
     "shell.execute_reply": "2020-07-09T09:51:11.377253Z"
    },
    "papermill": {
     "duration": 0.054795,
     "end_time": "2020-07-09T09:51:11.377316",
     "exception": false,
     "start_time": "2020-07-09T09:51:11.322521",
     "status": "completed"
    },
    "tags": []
   },
   "outputs": [
    {
     "name": "stdout",
     "output_type": "stream",
     "text": [
      "length of ham_summary:  6561\n",
      "CPU times: user 76 µs, sys: 0 ns, total: 76 µs\n",
      "Wall time: 52.9 µs\n"
     ]
    },
    {
     "data": {
      "text/html": [
       "<div>\n",
       "<style scoped>\n",
       "    .dataframe tbody tr th:only-of-type {\n",
       "        vertical-align: middle;\n",
       "    }\n",
       "\n",
       "    .dataframe tbody tr th {\n",
       "        vertical-align: top;\n",
       "    }\n",
       "\n",
       "    .dataframe thead th {\n",
       "        text-align: right;\n",
       "    }\n",
       "</style>\n",
       "<table border=\"1\" class=\"dataframe\">\n",
       "  <thead>\n",
       "    <tr style=\"text-align: right;\">\n",
       "      <th></th>\n",
       "      <th>t1</th>\n",
       "      <th>t2</th>\n",
       "      <th>type_of</th>\n",
       "      <th>0</th>\n",
       "      <th>1</th>\n",
       "      <th>phase</th>\n",
       "      <th>pred_phase</th>\n",
       "    </tr>\n",
       "    <tr>\n",
       "      <th>id</th>\n",
       "      <th></th>\n",
       "      <th></th>\n",
       "      <th></th>\n",
       "      <th></th>\n",
       "      <th></th>\n",
       "      <th></th>\n",
       "      <th></th>\n",
       "    </tr>\n",
       "  </thead>\n",
       "  <tbody>\n",
       "    <tr>\n",
       "      <th>0</th>\n",
       "      <td>-2.0</td>\n",
       "      <td>-2.00</td>\n",
       "      <td>test</td>\n",
       "      <td>0.56</td>\n",
       "      <td>0.44</td>\n",
       "      <td>999</td>\n",
       "      <td>0</td>\n",
       "    </tr>\n",
       "    <tr>\n",
       "      <th>1</th>\n",
       "      <td>-2.0</td>\n",
       "      <td>-1.95</td>\n",
       "      <td>test</td>\n",
       "      <td>0.59</td>\n",
       "      <td>0.41</td>\n",
       "      <td>0</td>\n",
       "      <td>0</td>\n",
       "    </tr>\n",
       "    <tr>\n",
       "      <th>2</th>\n",
       "      <td>-2.0</td>\n",
       "      <td>-1.90</td>\n",
       "      <td>test</td>\n",
       "      <td>0.55</td>\n",
       "      <td>0.45</td>\n",
       "      <td>0</td>\n",
       "      <td>0</td>\n",
       "    </tr>\n",
       "    <tr>\n",
       "      <th>3</th>\n",
       "      <td>-2.0</td>\n",
       "      <td>-1.85</td>\n",
       "      <td>test</td>\n",
       "      <td>0.59</td>\n",
       "      <td>0.41</td>\n",
       "      <td>0</td>\n",
       "      <td>0</td>\n",
       "    </tr>\n",
       "    <tr>\n",
       "      <th>4</th>\n",
       "      <td>-2.0</td>\n",
       "      <td>-1.80</td>\n",
       "      <td>test</td>\n",
       "      <td>0.57</td>\n",
       "      <td>0.43</td>\n",
       "      <td>0</td>\n",
       "      <td>0</td>\n",
       "    </tr>\n",
       "    <tr>\n",
       "      <th>...</th>\n",
       "      <td>...</td>\n",
       "      <td>...</td>\n",
       "      <td>...</td>\n",
       "      <td>...</td>\n",
       "      <td>...</td>\n",
       "      <td>...</td>\n",
       "      <td>...</td>\n",
       "    </tr>\n",
       "    <tr>\n",
       "      <th>6556</th>\n",
       "      <td>2.0</td>\n",
       "      <td>1.80</td>\n",
       "      <td>test</td>\n",
       "      <td>0.58</td>\n",
       "      <td>0.42</td>\n",
       "      <td>0</td>\n",
       "      <td>0</td>\n",
       "    </tr>\n",
       "    <tr>\n",
       "      <th>6557</th>\n",
       "      <td>2.0</td>\n",
       "      <td>1.85</td>\n",
       "      <td>test</td>\n",
       "      <td>0.60</td>\n",
       "      <td>0.40</td>\n",
       "      <td>0</td>\n",
       "      <td>0</td>\n",
       "    </tr>\n",
       "    <tr>\n",
       "      <th>6558</th>\n",
       "      <td>2.0</td>\n",
       "      <td>1.90</td>\n",
       "      <td>test</td>\n",
       "      <td>0.54</td>\n",
       "      <td>0.46</td>\n",
       "      <td>0</td>\n",
       "      <td>0</td>\n",
       "    </tr>\n",
       "    <tr>\n",
       "      <th>6559</th>\n",
       "      <td>2.0</td>\n",
       "      <td>1.95</td>\n",
       "      <td>test</td>\n",
       "      <td>0.55</td>\n",
       "      <td>0.45</td>\n",
       "      <td>0</td>\n",
       "      <td>0</td>\n",
       "    </tr>\n",
       "    <tr>\n",
       "      <th>6560</th>\n",
       "      <td>2.0</td>\n",
       "      <td>2.00</td>\n",
       "      <td>test</td>\n",
       "      <td>0.51</td>\n",
       "      <td>0.49</td>\n",
       "      <td>999</td>\n",
       "      <td>0</td>\n",
       "    </tr>\n",
       "  </tbody>\n",
       "</table>\n",
       "<p>6561 rows × 7 columns</p>\n",
       "</div>"
      ],
      "text/plain": [
       "       t1    t2 type_of     0     1  phase  pred_phase\n",
       "id                                                    \n",
       "0    -2.0 -2.00    test  0.56  0.44    999           0\n",
       "1    -2.0 -1.95    test  0.59  0.41      0           0\n",
       "2    -2.0 -1.90    test  0.55  0.45      0           0\n",
       "3    -2.0 -1.85    test  0.59  0.41      0           0\n",
       "4    -2.0 -1.80    test  0.57  0.43      0           0\n",
       "...   ...   ...     ...   ...   ...    ...         ...\n",
       "6556  2.0  1.80    test  0.58  0.42      0           0\n",
       "6557  2.0  1.85    test  0.60  0.40      0           0\n",
       "6558  2.0  1.90    test  0.54  0.46      0           0\n",
       "6559  2.0  1.95    test  0.55  0.45      0           0\n",
       "6560  2.0  2.00    test  0.51  0.49    999           0\n",
       "\n",
       "[6561 rows x 7 columns]"
      ]
     },
     "execution_count": 27,
     "metadata": {},
     "output_type": "execute_result"
    }
   ],
   "source": [
    "%%time\n",
    "ham_summary = simulation.hamiltonian_summary\n",
    "print(\"length of ham_summary: \", len(ham_summary))\n",
    "ham_summary"
   ]
  },
  {
   "cell_type": "code",
   "execution_count": 28,
   "metadata": {
    "execution": {
     "iopub.execute_input": "2020-07-09T09:51:11.452489Z",
     "iopub.status.busy": "2020-07-09T09:51:11.452172Z",
     "iopub.status.idle": "2020-07-09T09:51:11.479399Z",
     "shell.execute_reply": "2020-07-09T09:51:11.479082Z"
    },
    "papermill": {
     "duration": 0.066351,
     "end_time": "2020-07-09T09:51:11.479449",
     "exception": false,
     "start_time": "2020-07-09T09:51:11.413098",
     "status": "completed"
    },
    "tags": []
   },
   "outputs": [
    {
     "data": {
      "text/html": [
       "<div>\n",
       "<style scoped>\n",
       "    .dataframe tbody tr th:only-of-type {\n",
       "        vertical-align: middle;\n",
       "    }\n",
       "\n",
       "    .dataframe tbody tr th {\n",
       "        vertical-align: top;\n",
       "    }\n",
       "\n",
       "    .dataframe thead th {\n",
       "        text-align: right;\n",
       "    }\n",
       "</style>\n",
       "<table border=\"1\" class=\"dataframe\">\n",
       "  <thead>\n",
       "    <tr style=\"text-align: right;\">\n",
       "      <th></th>\n",
       "      <th>t1</th>\n",
       "      <th>t2</th>\n",
       "      <th>0</th>\n",
       "      <th>1</th>\n",
       "      <th>phase</th>\n",
       "      <th>pred_phase</th>\n",
       "    </tr>\n",
       "  </thead>\n",
       "  <tbody>\n",
       "    <tr>\n",
       "      <th>count</th>\n",
       "      <td>6561.000000</td>\n",
       "      <td>6.561000e+03</td>\n",
       "      <td>6561.000000</td>\n",
       "      <td>6561.000000</td>\n",
       "      <td>6561.000000</td>\n",
       "      <td>6561.000000</td>\n",
       "    </tr>\n",
       "    <tr>\n",
       "      <th>mean</th>\n",
       "      <td>0.000000</td>\n",
       "      <td>-4.331917e-18</td>\n",
       "      <td>0.530538</td>\n",
       "      <td>0.469462</td>\n",
       "      <td>25.002134</td>\n",
       "      <td>0.485597</td>\n",
       "    </tr>\n",
       "    <tr>\n",
       "      <th>std</th>\n",
       "      <td>1.169134</td>\n",
       "      <td>1.169134e+00</td>\n",
       "      <td>0.380984</td>\n",
       "      <td>0.380984</td>\n",
       "      <td>154.495657</td>\n",
       "      <td>0.499831</td>\n",
       "    </tr>\n",
       "    <tr>\n",
       "      <th>min</th>\n",
       "      <td>-2.000000</td>\n",
       "      <td>-2.000000e+00</td>\n",
       "      <td>0.030000</td>\n",
       "      <td>0.000000</td>\n",
       "      <td>0.000000</td>\n",
       "      <td>0.000000</td>\n",
       "    </tr>\n",
       "    <tr>\n",
       "      <th>25%</th>\n",
       "      <td>-1.000000</td>\n",
       "      <td>-1.000000e+00</td>\n",
       "      <td>0.120000</td>\n",
       "      <td>0.070000</td>\n",
       "      <td>0.000000</td>\n",
       "      <td>0.000000</td>\n",
       "    </tr>\n",
       "    <tr>\n",
       "      <th>50%</th>\n",
       "      <td>0.000000</td>\n",
       "      <td>0.000000e+00</td>\n",
       "      <td>0.540000</td>\n",
       "      <td>0.460000</td>\n",
       "      <td>1.000000</td>\n",
       "      <td>0.000000</td>\n",
       "    </tr>\n",
       "    <tr>\n",
       "      <th>75%</th>\n",
       "      <td>1.000000</td>\n",
       "      <td>1.000000e+00</td>\n",
       "      <td>0.930000</td>\n",
       "      <td>0.880000</td>\n",
       "      <td>1.000000</td>\n",
       "      <td>1.000000</td>\n",
       "    </tr>\n",
       "    <tr>\n",
       "      <th>max</th>\n",
       "      <td>2.000000</td>\n",
       "      <td>2.000000e+00</td>\n",
       "      <td>1.000000</td>\n",
       "      <td>0.970000</td>\n",
       "      <td>999.000000</td>\n",
       "      <td>1.000000</td>\n",
       "    </tr>\n",
       "  </tbody>\n",
       "</table>\n",
       "</div>"
      ],
      "text/plain": [
       "                t1            t2            0            1        phase  \\\n",
       "count  6561.000000  6.561000e+03  6561.000000  6561.000000  6561.000000   \n",
       "mean      0.000000 -4.331917e-18     0.530538     0.469462    25.002134   \n",
       "std       1.169134  1.169134e+00     0.380984     0.380984   154.495657   \n",
       "min      -2.000000 -2.000000e+00     0.030000     0.000000     0.000000   \n",
       "25%      -1.000000 -1.000000e+00     0.120000     0.070000     0.000000   \n",
       "50%       0.000000  0.000000e+00     0.540000     0.460000     1.000000   \n",
       "75%       1.000000  1.000000e+00     0.930000     0.880000     1.000000   \n",
       "max       2.000000  2.000000e+00     1.000000     0.970000   999.000000   \n",
       "\n",
       "        pred_phase  \n",
       "count  6561.000000  \n",
       "mean      0.485597  \n",
       "std       0.499831  \n",
       "min       0.000000  \n",
       "25%       0.000000  \n",
       "50%       0.000000  \n",
       "75%       1.000000  \n",
       "max       1.000000  "
      ]
     },
     "execution_count": 28,
     "metadata": {},
     "output_type": "execute_result"
    }
   ],
   "source": [
    "ham_summary.describe()"
   ]
  },
  {
   "cell_type": "code",
   "execution_count": 29,
   "metadata": {
    "execution": {
     "iopub.execute_input": "2020-07-09T09:51:11.555105Z",
     "iopub.status.busy": "2020-07-09T09:51:11.554798Z",
     "iopub.status.idle": "2020-07-09T09:51:11.569616Z",
     "shell.execute_reply": "2020-07-09T09:51:11.569297Z"
    },
    "papermill": {
     "duration": 0.05411,
     "end_time": "2020-07-09T09:51:11.569666",
     "exception": false,
     "start_time": "2020-07-09T09:51:11.515556",
     "status": "completed"
    },
    "tags": []
   },
   "outputs": [
    {
     "name": "stdout",
     "output_type": "stream",
     "text": [
      "length of ham_summary:  656100\n"
     ]
    },
    {
     "data": {
      "text/html": [
       "<div>\n",
       "<style scoped>\n",
       "    .dataframe tbody tr th:only-of-type {\n",
       "        vertical-align: middle;\n",
       "    }\n",
       "\n",
       "    .dataframe tbody tr th {\n",
       "        vertical-align: top;\n",
       "    }\n",
       "\n",
       "    .dataframe thead th {\n",
       "        text-align: right;\n",
       "    }\n",
       "</style>\n",
       "<table border=\"1\" class=\"dataframe\">\n",
       "  <thead>\n",
       "    <tr style=\"text-align: right;\">\n",
       "      <th></th>\n",
       "      <th>id</th>\n",
       "      <th>phase</th>\n",
       "      <th>pred_phase</th>\n",
       "      <th>type_of</th>\n",
       "    </tr>\n",
       "  </thead>\n",
       "  <tbody>\n",
       "    <tr>\n",
       "      <th>0</th>\n",
       "      <td>0</td>\n",
       "      <td>999</td>\n",
       "      <td>0</td>\n",
       "      <td>test</td>\n",
       "    </tr>\n",
       "    <tr>\n",
       "      <th>1</th>\n",
       "      <td>0</td>\n",
       "      <td>999</td>\n",
       "      <td>1</td>\n",
       "      <td>test</td>\n",
       "    </tr>\n",
       "    <tr>\n",
       "      <th>2</th>\n",
       "      <td>0</td>\n",
       "      <td>999</td>\n",
       "      <td>0</td>\n",
       "      <td>test</td>\n",
       "    </tr>\n",
       "    <tr>\n",
       "      <th>3</th>\n",
       "      <td>0</td>\n",
       "      <td>999</td>\n",
       "      <td>0</td>\n",
       "      <td>test</td>\n",
       "    </tr>\n",
       "    <tr>\n",
       "      <th>4</th>\n",
       "      <td>0</td>\n",
       "      <td>999</td>\n",
       "      <td>1</td>\n",
       "      <td>test</td>\n",
       "    </tr>\n",
       "    <tr>\n",
       "      <th>...</th>\n",
       "      <td>...</td>\n",
       "      <td>...</td>\n",
       "      <td>...</td>\n",
       "      <td>...</td>\n",
       "    </tr>\n",
       "    <tr>\n",
       "      <th>656095</th>\n",
       "      <td>6560</td>\n",
       "      <td>999</td>\n",
       "      <td>1</td>\n",
       "      <td>test</td>\n",
       "    </tr>\n",
       "    <tr>\n",
       "      <th>656096</th>\n",
       "      <td>6560</td>\n",
       "      <td>999</td>\n",
       "      <td>1</td>\n",
       "      <td>test</td>\n",
       "    </tr>\n",
       "    <tr>\n",
       "      <th>656097</th>\n",
       "      <td>6560</td>\n",
       "      <td>999</td>\n",
       "      <td>1</td>\n",
       "      <td>test</td>\n",
       "    </tr>\n",
       "    <tr>\n",
       "      <th>656098</th>\n",
       "      <td>6560</td>\n",
       "      <td>999</td>\n",
       "      <td>1</td>\n",
       "      <td>test</td>\n",
       "    </tr>\n",
       "    <tr>\n",
       "      <th>656099</th>\n",
       "      <td>6560</td>\n",
       "      <td>999</td>\n",
       "      <td>1</td>\n",
       "      <td>test</td>\n",
       "    </tr>\n",
       "  </tbody>\n",
       "</table>\n",
       "<p>656100 rows × 4 columns</p>\n",
       "</div>"
      ],
      "text/plain": [
       "          id  phase  pred_phase type_of\n",
       "0          0    999           0    test\n",
       "1          0    999           1    test\n",
       "2          0    999           0    test\n",
       "3          0    999           0    test\n",
       "4          0    999           1    test\n",
       "...      ...    ...         ...     ...\n",
       "656095  6560    999           1    test\n",
       "656096  6560    999           1    test\n",
       "656097  6560    999           1    test\n",
       "656098  6560    999           1    test\n",
       "656099  6560    999           1    test\n",
       "\n",
       "[656100 rows x 4 columns]"
      ]
     },
     "execution_count": 29,
     "metadata": {},
     "output_type": "execute_result"
    }
   ],
   "source": [
    "eigen_summary = simulation.eigenvector_summary\n",
    "print(\"length of ham_summary: \", len(eigen_summary))\n",
    "eigen_summary"
   ]
  },
  {
   "cell_type": "markdown",
   "metadata": {
    "papermill": {
     "duration": 0.035519,
     "end_time": "2020-07-09T09:51:11.640901",
     "exception": false,
     "start_time": "2020-07-09T09:51:11.605382",
     "status": "completed"
    },
    "tags": []
   },
   "source": [
    "#### Checking accuracies"
   ]
  },
  {
   "cell_type": "code",
   "execution_count": 30,
   "metadata": {
    "execution": {
     "iopub.execute_input": "2020-07-09T09:51:11.717245Z",
     "iopub.status.busy": "2020-07-09T09:51:11.716937Z",
     "iopub.status.idle": "2020-07-09T09:51:11.727893Z",
     "shell.execute_reply": "2020-07-09T09:51:11.727578Z"
    },
    "papermill": {
     "duration": 0.050635,
     "end_time": "2020-07-09T09:51:11.727944",
     "exception": false,
     "start_time": "2020-07-09T09:51:11.677309",
     "status": "completed"
    },
    "tags": []
   },
   "outputs": [
    {
     "data": {
      "text/plain": [
       "{'eigenvector_train': 0.967841726618705,\n",
       " 'eigenvector_val': 0.887598,\n",
       " 'eigenvector_test': 0.6190758293838863,\n",
       " 'hamiltonian_train': 0.9856115107913669,\n",
       " 'hamiltonian_val': 0.9856,\n",
       " 'hamiltonian_test': 0.9549763033175356}"
      ]
     },
     "execution_count": 30,
     "metadata": {},
     "output_type": "execute_result"
    }
   ],
   "source": [
    "simulation.accuracy"
   ]
  },
  {
   "cell_type": "markdown",
   "metadata": {
    "papermill": {
     "duration": 0.041662,
     "end_time": "2020-07-09T09:51:11.805802",
     "exception": false,
     "start_time": "2020-07-09T09:51:11.764140",
     "status": "completed"
    },
    "tags": []
   },
   "source": [
    "#### Checking data stored in  memory"
   ]
  },
  {
   "cell_type": "code",
   "execution_count": 31,
   "metadata": {
    "execution": {
     "iopub.execute_input": "2020-07-09T09:51:12.080458Z",
     "iopub.status.busy": "2020-07-09T09:51:12.078723Z",
     "iopub.status.idle": "2020-07-09T09:51:12.092611Z",
     "shell.execute_reply": "2020-07-09T09:51:12.092288Z"
    },
    "papermill": {
     "duration": 0.116442,
     "end_time": "2020-07-09T09:51:12.092662",
     "exception": false,
     "start_time": "2020-07-09T09:51:11.976220",
     "status": "completed"
    },
    "tags": []
   },
   "outputs": [
    {
     "data": {
      "text/plain": [
       "[]"
      ]
     },
     "execution_count": 31,
     "metadata": {},
     "output_type": "execute_result"
    }
   ],
   "source": [
    "ham_summary_list = simulation.hamiltonian_summary_list\n",
    "ham_summary_list"
   ]
  },
  {
   "cell_type": "code",
   "execution_count": 32,
   "metadata": {
    "execution": {
     "iopub.execute_input": "2020-07-09T09:51:12.168652Z",
     "iopub.status.busy": "2020-07-09T09:51:12.168302Z",
     "iopub.status.idle": "2020-07-09T09:51:12.178897Z",
     "shell.execute_reply": "2020-07-09T09:51:12.179199Z"
    },
    "papermill": {
     "duration": 0.049207,
     "end_time": "2020-07-09T09:51:12.179264",
     "exception": false,
     "start_time": "2020-07-09T09:51:12.130057",
     "status": "completed"
    },
    "tags": []
   },
   "outputs": [
    {
     "data": {
      "text/plain": [
       "[]"
      ]
     },
     "execution_count": 32,
     "metadata": {},
     "output_type": "execute_result"
    }
   ],
   "source": [
    "eigen_summary_list = simulation.eigenvector_summary_list\n",
    "eigen_summary_list"
   ]
  },
  {
   "cell_type": "code",
   "execution_count": 33,
   "metadata": {
    "execution": {
     "iopub.execute_input": "2020-07-09T09:51:12.253586Z",
     "iopub.status.busy": "2020-07-09T09:51:12.253282Z",
     "iopub.status.idle": "2020-07-09T09:51:12.264191Z",
     "shell.execute_reply": "2020-07-09T09:51:12.263874Z"
    },
    "papermill": {
     "duration": 0.04885,
     "end_time": "2020-07-09T09:51:12.264240",
     "exception": false,
     "start_time": "2020-07-09T09:51:12.215390",
     "status": "completed"
    },
    "tags": []
   },
   "outputs": [
    {
     "data": {
      "text/plain": [
       "{'eigenvector_train': [],\n",
       " 'eigenvector_val': [],\n",
       " 'eigenvector_test': [],\n",
       " 'hamiltonian_train': [],\n",
       " 'hamiltonian_val': [],\n",
       " 'hamiltonian_test': []}"
      ]
     },
     "execution_count": 33,
     "metadata": {},
     "output_type": "execute_result"
    }
   ],
   "source": [
    "accuracy_list = simulation.accuracy_list\n",
    "accuracy_list"
   ]
  },
  {
   "cell_type": "code",
   "execution_count": null,
   "metadata": {
    "papermill": {
     "duration": 0.036934,
     "end_time": "2020-07-09T09:51:12.338409",
     "exception": false,
     "start_time": "2020-07-09T09:51:12.301475",
     "status": "completed"
    },
    "tags": []
   },
   "outputs": [],
   "source": []
  },
  {
   "cell_type": "code",
   "execution_count": null,
   "metadata": {
    "papermill": {
     "duration": 0.036266,
     "end_time": "2020-07-09T09:51:12.410894",
     "exception": false,
     "start_time": "2020-07-09T09:51:12.374628",
     "status": "completed"
    },
    "tags": []
   },
   "outputs": [],
   "source": []
  },
  {
   "cell_type": "code",
   "execution_count": 34,
   "metadata": {
    "execution": {
     "iopub.execute_input": "2020-07-09T09:51:12.486941Z",
     "iopub.status.busy": "2020-07-09T09:51:12.486609Z",
     "iopub.status.idle": "2020-07-09T09:51:12.496311Z",
     "shell.execute_reply": "2020-07-09T09:51:12.495982Z"
    },
    "papermill": {
     "duration": 0.048346,
     "end_time": "2020-07-09T09:51:12.496364",
     "exception": false,
     "start_time": "2020-07-09T09:51:12.448018",
     "status": "completed"
    },
    "tags": []
   },
   "outputs": [],
   "source": [
    "#simulation.fourier_matrix"
   ]
  },
  {
   "cell_type": "code",
   "execution_count": 35,
   "metadata": {
    "execution": {
     "iopub.execute_input": "2020-07-09T09:51:12.570805Z",
     "iopub.status.busy": "2020-07-09T09:51:12.570486Z",
     "iopub.status.idle": "2020-07-09T09:51:12.580230Z",
     "shell.execute_reply": "2020-07-09T09:51:12.579904Z"
    },
    "papermill": {
     "duration": 0.047613,
     "end_time": "2020-07-09T09:51:12.580283",
     "exception": false,
     "start_time": "2020-07-09T09:51:12.532670",
     "status": "completed"
    },
    "tags": []
   },
   "outputs": [],
   "source": [
    "#simulation.fourier_matrix.shape"
   ]
  },
  {
   "cell_type": "code",
   "execution_count": 36,
   "metadata": {
    "execution": {
     "iopub.execute_input": "2020-07-09T09:51:12.658498Z",
     "iopub.status.busy": "2020-07-09T09:51:12.658191Z",
     "iopub.status.idle": "2020-07-09T09:51:12.667692Z",
     "shell.execute_reply": "2020-07-09T09:51:12.667370Z"
    },
    "papermill": {
     "duration": 0.050263,
     "end_time": "2020-07-09T09:51:12.667743",
     "exception": false,
     "start_time": "2020-07-09T09:51:12.617480",
     "status": "completed"
    },
    "tags": []
   },
   "outputs": [],
   "source": [
    "#simulation.fourier_matrix[:,0]"
   ]
  },
  {
   "cell_type": "code",
   "execution_count": 37,
   "metadata": {
    "execution": {
     "iopub.execute_input": "2020-07-09T09:51:12.742995Z",
     "iopub.status.busy": "2020-07-09T09:51:12.742682Z",
     "iopub.status.idle": "2020-07-09T09:51:12.752207Z",
     "shell.execute_reply": "2020-07-09T09:51:12.752476Z"
    },
    "papermill": {
     "duration": 0.048238,
     "end_time": "2020-07-09T09:51:12.752545",
     "exception": false,
     "start_time": "2020-07-09T09:51:12.704307",
     "status": "completed"
    },
    "tags": []
   },
   "outputs": [],
   "source": [
    "#simulation.fourier_matrix[:,1]"
   ]
  },
  {
   "cell_type": "code",
   "execution_count": 38,
   "metadata": {
    "execution": {
     "iopub.execute_input": "2020-07-09T09:51:12.830709Z",
     "iopub.status.busy": "2020-07-09T09:51:12.830396Z",
     "iopub.status.idle": "2020-07-09T09:51:12.839902Z",
     "shell.execute_reply": "2020-07-09T09:51:12.839622Z"
    },
    "papermill": {
     "duration": 0.050185,
     "end_time": "2020-07-09T09:51:12.839956",
     "exception": false,
     "start_time": "2020-07-09T09:51:12.789771",
     "status": "completed"
    },
    "tags": []
   },
   "outputs": [],
   "source": [
    "#np.exp(-1j*2*np.pi*3/100)"
   ]
  },
  {
   "cell_type": "code",
   "execution_count": 39,
   "metadata": {
    "execution": {
     "iopub.execute_input": "2020-07-09T09:51:12.915412Z",
     "iopub.status.busy": "2020-07-09T09:51:12.915102Z",
     "iopub.status.idle": "2020-07-09T09:51:12.924443Z",
     "shell.execute_reply": "2020-07-09T09:51:12.924697Z"
    },
    "papermill": {
     "duration": 0.047876,
     "end_time": "2020-07-09T09:51:12.924764",
     "exception": false,
     "start_time": "2020-07-09T09:51:12.876888",
     "status": "completed"
    },
    "tags": []
   },
   "outputs": [],
   "source": [
    "#for i in range(1,50):\n",
    "#    print(\"\\n\")\n",
    "#    print(i)\n",
    "#    print(np.sum((np.real(simulation.fourier_matrix[:,i]) - np.real(simulation.fourier_matrix[:,-i]))**2))\n",
    "#    print(np.sum((np.imag(simulation.fourier_matrix[:,i])+ np.imag(simulation.fourier_matrix[:,-i]))**2))"
   ]
  },
  {
   "cell_type": "code",
   "execution_count": 40,
   "metadata": {
    "execution": {
     "iopub.execute_input": "2020-07-09T09:51:13.005153Z",
     "iopub.status.busy": "2020-07-09T09:51:13.004845Z",
     "iopub.status.idle": "2020-07-09T09:51:13.014236Z",
     "shell.execute_reply": "2020-07-09T09:51:13.014490Z"
    },
    "papermill": {
     "duration": 0.051463,
     "end_time": "2020-07-09T09:51:13.014558",
     "exception": false,
     "start_time": "2020-07-09T09:51:12.963095",
     "status": "completed"
    },
    "tags": []
   },
   "outputs": [],
   "source": [
    "#print(simulation.fourier_matrix[:,0])"
   ]
  },
  {
   "cell_type": "code",
   "execution_count": 41,
   "metadata": {
    "execution": {
     "iopub.execute_input": "2020-07-09T09:51:13.090870Z",
     "iopub.status.busy": "2020-07-09T09:51:13.090565Z",
     "iopub.status.idle": "2020-07-09T09:51:13.137793Z",
     "shell.execute_reply": "2020-07-09T09:51:13.137470Z"
    },
    "papermill": {
     "duration": 0.086383,
     "end_time": "2020-07-09T09:51:13.137851",
     "exception": false,
     "start_time": "2020-07-09T09:51:13.051468",
     "status": "completed"
    },
    "tags": []
   },
   "outputs": [],
   "source": [
    "#print(simulation.fourier_matrix[:,50])"
   ]
  },
  {
   "cell_type": "code",
   "execution_count": null,
   "metadata": {
    "papermill": {
     "duration": 0.038938,
     "end_time": "2020-07-09T09:51:13.219740",
     "exception": false,
     "start_time": "2020-07-09T09:51:13.180802",
     "status": "completed"
    },
    "tags": []
   },
   "outputs": [],
   "source": []
  }
 ],
 "metadata": {
  "celltoolbar": "Tags",
  "kernelspec": {
   "display_name": "ml_top_phases",
   "language": "python",
   "name": "ml_top_phases"
  },
  "language_info": {
   "codemirror_mode": {
    "name": "ipython",
    "version": 3
   },
   "file_extension": ".py",
   "mimetype": "text/x-python",
   "name": "python",
   "nbconvert_exporter": "python",
   "pygments_lexer": "ipython3",
   "version": "3.6.10"
  },
  "papermill": {
   "duration": 213.201534,
   "end_time": "2020-07-09T09:51:13.367085",
   "environment_variables": {},
   "exception": null,
   "input_path": "0_simulation_template.ipynb",
   "output_path": "zzz_simulation_output_ssh1_9th_scenario_100_6561.ipynb",
   "parameters": {
    "allowed_windings": [
     0,
     1
    ],
    "csv_path": "/home/rio/ssh_csvs/ssh1/periodic_100_6561.csv",
    "features_to_use": [
     0,
     1,
     2,
     3,
     49,
     50
    ],
    "fillna": false,
    "fit_params": null,
    "fourier_features_to_use": [
     0,
     2,
     4,
     6,
     8,
     50
    ],
    "fourier_fillna": false,
    "fourier_mode": "dct",
    "fourier_normalize": false,
    "fourier_real": null,
    "model_kw": {
     "criterion": "entropy"
    },
    "model_name": "DecisionTreeClassifier",
    "n_experiments": 100,
    "normalize": false,
    "pred_params": null,
    "random_features": false,
    "random_state": 34896,
    "save_accuracy": true,
    "save_eigenvector": true,
    "save_hamiltonian": true,
    "save_models": true,
    "shuffle_features": false,
    "shuffle_rows": true,
    "simulation_dir": "/home/rio/ssh_simulations/ssh1/periodic_9th_scenario_100_6561",
    "start_n": 0,
    "store_in_lists": false,
    "val_split": 0.9
   },
   "start_time": "2020-07-09T09:47:40.165551",
   "version": "2.1.0"
  }
 },
 "nbformat": 4,
 "nbformat_minor": 2
}