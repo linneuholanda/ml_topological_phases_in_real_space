{
 "cells": [
  {
   "cell_type": "markdown",
   "metadata": {
    "papermill": {
     "duration": 0.02299,
     "end_time": "2020-07-18T21:06:24.942789",
     "exception": false,
     "start_time": "2020-07-18T21:06:24.919799",
     "status": "completed"
    },
    "tags": []
   },
   "source": [
    "# Results template\n",
    "\n",
    "In this notebook we get the results of simulations performed with the nearest neighbours (ssh1) and second neighbours (ssh2) systems."
   ]
  },
  {
   "cell_type": "code",
   "execution_count": 1,
   "metadata": {
    "execution": {
     "iopub.execute_input": "2020-07-18T21:06:24.986437Z",
     "iopub.status.busy": "2020-07-18T21:06:24.986101Z",
     "iopub.status.idle": "2020-07-18T21:06:25.513823Z",
     "shell.execute_reply": "2020-07-18T21:06:25.513450Z"
    },
    "papermill": {
     "duration": 0.550489,
     "end_time": "2020-07-18T21:06:25.513882",
     "exception": false,
     "start_time": "2020-07-18T21:06:24.963393",
     "status": "completed"
    },
    "tags": []
   },
   "outputs": [],
   "source": [
    "%load_ext autoreload\n",
    "%autoreload 2\n",
    "from simulation_results import *\n",
    "#import template_parameters"
   ]
  },
  {
   "cell_type": "markdown",
   "metadata": {
    "papermill": {
     "duration": 0.020434,
     "end_time": "2020-07-18T21:06:25.553699",
     "exception": false,
     "start_time": "2020-07-18T21:06:25.533265",
     "status": "completed"
    },
    "tags": []
   },
   "source": [
    "# Defining parameters"
   ]
  },
  {
   "cell_type": "code",
   "execution_count": 2,
   "metadata": {
    "execution": {
     "iopub.execute_input": "2020-07-18T21:06:25.594414Z",
     "iopub.status.busy": "2020-07-18T21:06:25.593986Z",
     "iopub.status.idle": "2020-07-18T21:06:25.609994Z",
     "shell.execute_reply": "2020-07-18T21:06:25.609720Z"
    },
    "papermill": {
     "duration": 0.037177,
     "end_time": "2020-07-18T21:06:25.610046",
     "exception": false,
     "start_time": "2020-07-18T21:06:25.572869",
     "status": "completed"
    },
    "tags": [
     "parameters"
    ]
   },
   "outputs": [
    {
     "name": "stdout",
     "output_type": "stream",
     "text": [
      "CPU times: user 304 µs, sys: 88 µs, total: 392 µs\n",
      "Wall time: 293 µs\n"
     ]
    }
   ],
   "source": [
    "%%time\n",
    "\n",
    "#########################################################################\n",
    "###################### Simulation and experiment ########################\n",
    "#########################################################################\n",
    "\n",
    "#figs_dir = \"/home/linneu/paper/ml_topological_phases_in_real_space/paper/ssh1/periodic_100_6561\"\n",
    "simulation_dir = SSH1_REAL_SPACE_ALL_SITES\n",
    "figures_dir = SSH1_REAL_SPACE_ALL_SITES_FIGURES \n",
    "experiment_name = \"0\"\n",
    "n_experiments = None\n",
    "load_hamiltonian_summary = False\n",
    "#winding_cmap_dict = {0: \"Reds\", 1:\"Blues\"}\n",
    "\n",
    "#########################################################################\n",
    "################### Results from a single experiment ####################\n",
    "#########################################################################\n",
    "\n",
    "### Visualizing train/val/test splits with scatter plot for a single experiment\n",
    "scatter_train_val_test_params = {\n",
    "\"fig_params\":{\"figsize\": (6,6)}, \n",
    "\"val_params\": {\"marker\": \"s\", \"s\": 64, \"alpha\": 0.2, \"color\": \"salmon\", \"label\": \"val\"},\n",
    "\"test_params\": {\"marker\": \"s\", \"s\": 64, \"alpha\": 0.5, \"color\": \"royalblue\", \"label\": \"test\"},\n",
    "\"train_params\": {\"marker\": \"o\", \"s\": 3, \"alpha\": 1, \"color\": \"green\", \"label\": \"train\"},\n",
    "\"legend_params\": {\"framealpha\": 0.8, \"loc\": \"upper right\", \"fontsize\": 16},\n",
    "\"xlabel_params\": {\"xlabel\": \"$t_2$\", \"fontsize\": 24},\n",
    "\"ylabel_params\": {\"ylabel\": \"$t_1$\", \"fontsize\": 24},\n",
    "\"title_params\": {},\n",
    "\"xlim_params\": {\"left\": -2, \"right\": 2},\n",
    "\"ylim_params\": {\"bottom\": -2, \"top\": 2},\n",
    "\"xticks_params\": {\"fontsize\": 14},\n",
    "\"yticks_params\": {\"fontsize\": 14},\n",
    "\"tight_params\": {},\n",
    "\"savefig_params\": {\"fname\": os.path.join(figures_dir,\"scatter_train_val_test_experiment_0.png\")},\n",
    "}\n",
    "\n",
    "### Plotting train winding labels with scatter plot for a single experiment\n",
    "scatter_winding_train_params = {\n",
    "\"fig_params\":{\"figsize\": (6,6)}, \n",
    "\"winding_params\": {0: {\"marker\": \"o\", \"s\": 10, \"color\": \"red\", \"label\": 0}, \\\n",
    "                   1: {\"marker\": \"o\", \"s\": 10, \"color\": \"blue\", \"label\": 1}, \\\n",
    "                                    },\n",
    "\"legend_params\": {\"framealpha\": 0.8, \"loc\": \"upper right\", \"fontsize\": 16},\n",
    "\"xlabel_params\": {\"xlabel\": \"$t_2$\", \"fontsize\": 24},\n",
    "\"ylabel_params\": {\"ylabel\": \"$t_1$\", \"fontsize\": 24},\n",
    "\"title_params\": {},\n",
    "\"xlim_params\": {\"left\": -2, \"right\": 2},\n",
    "\"ylim_params\": {\"bottom\": -2, \"top\": 2},\n",
    "\"xticks_params\": {\"fontsize\": 14},\n",
    "\"yticks_params\": {\"fontsize\": 14},\n",
    "\"tight_params\": {},\n",
    "#\"train_winding_path_to_save\": \"/home/linneu/ml_topological_phases_in_real_space/paper/ssh1/periodic_100_6561/train_winding_labels_experiment_0.png\",\n",
    "\"savefig_params\": {\"fname\": os.path.join(figures_dir,\"scatter_winding_train_experiment_0.png\")},\n",
    "}\n",
    "        \n",
    "### Plotting prediction grid with pcolormesh\n",
    "pcolormesh_prediction_grid_params = {\n",
    "\"fig_params\": {\"figsize\": (6,6)},\n",
    "\"winding_params\": {0: {\"marker\": \"o\", \"s\": 10, \"color\": \"red\", \"label\": 0}, \n",
    "                   1: {\"marker\": \"o\", \"s\": 10, \"color\": \"blue\", \"label\": 1}},\n",
    "#\"prediction_grid_pcolormesh_params\": {\"cmap\": ListedColormap([\"hotpink\", \"lightskyblue\"]), \"alpha\": 0.5},\n",
    "\"pcolormesh_params\": {\"cmap\": \"ssh1\", \"alpha\": 0.5},\n",
    "\"legend_params\": {\"framealpha\": 0.8, \"loc\": \"upper right\", \"fontsize\": 16},\n",
    "\"xlabel_params\": {\"xlabel\": \"$t_2$\", \"fontsize\": 24},\n",
    "\"ylabel_params\": {\"ylabel\": \"$t_1$\", \"fontsize\": 24},\n",
    "\"title_params\": {},\n",
    "\"xlim_params\": {\"left\": -2, \"right\": 2},\n",
    "\"ylim_params\": {\"bottom\": -2, \"top\": 2},\n",
    "\"xticks_params\": {\"fontsize\": 14},\n",
    "\"yticks_params\": {\"fontsize\": 14},\n",
    "\"tight_params\": {},\n",
    "\"savefig_params\": {\"fname\": os.path.join(figures_dir,\"pcolormesh_prediction_grid_experiment_0.png\")},\n",
    "}\n",
    "    \n",
    "### Plotting Winding Heatmaps for a single experiment\n",
    "winding_cmap_dict = {0: \"Reds\", 1:\"Blues\"}\n",
    "imshow_winding_grid_params = {\n",
    "\"winding\": 1,\n",
    "\"imshow_params\": {\"cmap\": \"bwr_r\", \"aspect\": \"equal\", \"alpha\": None, \"origin\": \"lower\", \"extent\": [-2,2,-2,2],\\\n",
    "                  \"vmin\": 0, \"vmax\":1},\n",
    "\"colorbar_params\": {\"mappable\": None, \"labelsize\": 24, \"ticks\": [0, 0.2, 0.4, 0.6, 0.8, 1.0], \"pad\": 0.1, \"shrink\": 0.8, \\\n",
    "                                           \"extend\": \"neither\"},\n",
    "#\"colorbar_params\": {0:{\"mappable\": None, \"labelsize\": 24, \"ticks\": [0, 0.2, 0.4, 0.6, 0.8, 1.0], \"pad\": 0.1, \"shrink\": 0.8, \\\n",
    "#                                           \"extend\": \"neither\"},\n",
    "#                    1: {\"mappable\": None, \"labelsize\": 24, \"ticks\": [0, 0.2, 0.4, 0.6, 0.8, 1.0], \"pad\": 0.1, \"shrink\": 0.8, \\\n",
    "#                                           \"extend\": \"neither\"}},\n",
    "\"fig_params\": {\"figsize\": (12,12)},\n",
    "\"xlabel_params\": {\"xlabel\": \"$t_2$\", \"fontsize\": 48},\n",
    "\"ylabel_params\": {\"ylabel\": \"$t_1$\", \"fontsize\": 48},\n",
    "\"title_params\": {},\n",
    "\"xlim_params\": {\"left\": -2, \"right\": 2},\n",
    "\"ylim_params\": {\"bottom\": -2, \"top\": 2},\n",
    "\"xticks_params\": {\"fontsize\": 24},\n",
    "\"yticks_params\": {\"fontsize\": 24},\n",
    "\"tight_params\": {},\n",
    "\"savefig_params\": {\"fname\": os.path.join(figures_dir,\"imshow_winding_grid_winding_{}_{}.png\")},\n",
    "} \n",
    "        \n",
    "##################################################################################\n",
    "################### Bootstrapped results from all experiments ####################\n",
    "##################################################################################\n",
    "    \n",
    "### Plotting simulation winding heatmaps\n",
    "merge_imshow_winding_grids_params = {\n",
    "\"winding_params\": {1: {\"cmap\": \"bwr_r\", \"aspect\": \"equal\", \"alpha\": None, \"origin\": \"lower\", \"extent\": [-2,2,-2,2], \\\n",
    "                  \"vmin\": 0, \"vmax\": 1}},\n",
    "#\"winding_params\": {0: {\"cmap\": \"Reds_alpha\", \"aspect\": \"equal\", \"alpha\": None, \"origin\": \"lower\", \"extent\": [-2,2,-2,2], \\\n",
    "#                                           \"vmin\": 0, \"vmax\": 1},\n",
    "#                       1: {\"cmap\": \"Blues_alpha\", \"aspect\": \"equal\", \"alpha\": None, \"origin\": \"lower\", \"extent\": [-2,2,-2,2], \\\n",
    "#                                           \"vmin\": 0, \"vmax\": 1}},\n",
    "\"colorbar_params\": {1: {\"mappable\": None, \"labelsize\": 24, \"ticks\": [0, 0.2, 0.4, 0.6, 0.8, 1.0], \"pad\": 0.1, \"shrink\": 0.8, \\\n",
    "                                           \"extend\": \"neither\"}},\n",
    "\"fig_params\": {\"figsize\": (12,12)},\n",
    "\"xlabel_params\": {\"xlabel\": \"$t_2$\", \"fontsize\": 48},\n",
    "\"ylabel_params\": {\"ylabel\": \"$t_1$\", \"fontsize\": 48},\n",
    "\"title_params\": {},\n",
    "\"xlim_params\": {\"left\": -2, \"right\": 2},\n",
    "\"ylim_params\": {\"bottom\": -2, \"top\": 2},\n",
    "\"xticks_params\": {\"fontsize\": 24},\n",
    "\"yticks_params\": {\"fontsize\": 24},\n",
    "\"tight_params\": {},\n",
    "#\"sim_winding_heatmap_path_to_save\": \"/home/linneu/ml_topological_phases_in_real_space/paper/ssh1/{}_{}_{}/simulation_merged_winding_grid.png\".format(ssh_type,chain_length,n_hamiltonians),\n",
    "\"savefig_params\": {\"fname\": os.path.join(figures_dir,\"merge_winding_grids_{}.png\")},\n",
    "}\n",
    "        \n",
    "### Plotting feature importances\n",
    "plot_feature_importances_params = {\n",
    "\"n_features\": None,\n",
    "\"plot\": \"bar\",\n",
    "\"plot_params\": {\"color\": \"indianred\", \"width\": 0.7},\n",
    "\"hist_precision\": 1000,\n",
    "\"fig_params\": {\"figsize\": (12,12)}, \n",
    "\"xlabel_params\": {\"xlabel\": \"lattice site\", \"fontsize\": 24},\n",
    "\"ylabel_params\": {\"ylabel\": \"reduction in information entropy (%)\", \"fontsize\": 24},\n",
    "\"title_params\": {\"label\": \"Information entropy signature - SSH 1\", \"fontsize\": 24},\n",
    "\"xlim_params\": {},\n",
    "\"ylim_params\": {},\n",
    "\"xticks_params\": {\"ticks\": [int(i) for i in np.linspace(0,99,10).astype(int)], \"fontsize\": 24},\n",
    "\"yticks_params\": {\"fontsize\": 24},\n",
    "\"tight_params\": {},\n",
    "#\"feature_importances_path_to_save\": \"/home/linneu/ml_topological_phases_in_real_space/paper/ssh1/{}_{}_{}/feature_importances.png\".format(ssh_type,chain_length,n_hamiltonians),\n",
    "\"savefig_params\": {\"fname\": os.path.join(figures_dir,\"plot_feature_importances.png\")},\n",
    "}\n",
    "\n",
    "### Plotting cumulative feature importances\n",
    "plot_cumulative_feature_importances_params = {\n",
    "\"n_features\": None,\n",
    "\"plot\": \"bar\",\n",
    "\"hist_precision\": 1000,\n",
    "\"plot_params\": {\"color\":\"indianred\", \"width\": 0.7},\n",
    "\"fig_params\": {\"figsize\": (12,12)},\n",
    "\"xlabel_params\": {\"xlabel\": \"lattice site\", \"fontsize\": 24},\n",
    "\"ylabel_params\": {\"ylabel\": \"cumulative reduction in information entropy (%)\", \"fontsize\": 24},\n",
    "\"title_params\": {\"label\": \"Cumulative information entropy signature - SSH 1\", \"fontsize\": 24},\n",
    "\"xlim_params\": {},\n",
    "\"ylim_params\": {},\n",
    "\"xticks_params\": {\"ticks\": [int(i) for i in np.linspace(0,99,10).astype(int)], \"fontsize\": 24},\n",
    "\"yticks_params\": {\"fontsize\": 24},\n",
    "\"tight_params\": {},\n",
    "#cumulative_features_path_to_save = \"/home/linneu/ml_topological_phases_in_real_space/paper/ssh1/periodic_100_6561/cumulative_feature_importances.png\"\n",
    "\"savefig_params\": {\"fname\": os.path.join(figures_dir,\"plot_cumulative_feature_importances.png\")},\n",
    "}\n",
    "\n",
    "### Plotting fourier feature importances\n",
    "plot_fourier_feature_importances_params = {\n",
    "\"n_features\": None,\n",
    "\"fourier\": True,\n",
    "\"plot\": \"bar\",\n",
    "\"plot_params\": {\"color\": \"palevioletred\", \"width\": 0.7},\n",
    "\"hist_precision\": 1000,\n",
    "\"fig_params\": {\"figsize\": (12,12)}, \n",
    "\"xlabel_params\": {\"xlabel\": \"reciprocal lattice site\", \"fontsize\": 24},\n",
    "\"ylabel_params\": {\"ylabel\": \"reduction in information entropy (%)\", \"fontsize\": 24},\n",
    "\"title_params\": {\"label\": \"Reciprocal lattice information entropy signature - SSH 1\", \"fontsize\": 24},\n",
    "\"xlim_params\": {},\n",
    "\"ylim_params\": {},\n",
    "\"xticks_params\": {\"ticks\": [int(i) for i in np.linspace(0,99,10).astype(int)], \"fontsize\": 24},\n",
    "\"yticks_params\": {\"fontsize\": 24},\n",
    "\"tight_params\": {},\n",
    "#\"feature_importances_path_to_save\": \"/home/linneu/ml_topological_phases_in_real_space/paper/ssh1/{}_{}_{}/feature_importances.png\".format(ssh_type,chain_length,n_hamiltonians),\n",
    "\"savefig_params\": {\"fname\": os.path.join(figures_dir,\"plot_feature_importances.png\")},\n",
    "}\n",
    "\n",
    "### Plotting cumulative fourier feature importances\n",
    "plot_cumulative_fourier_feature_importances_params = {\n",
    "\"n_features\": None,\n",
    "\"fourier\": True,\n",
    "\"plot\": \"bar\",\n",
    "\"hist_precision\": 1000,\n",
    "\"plot_params\": {\"color\":\"palevioletred\", \"width\": 0.7},\n",
    "\"fig_params\": {\"figsize\": (12,12)},\n",
    "\"xlabel_params\": {\"xlabel\": \"lattice site\", \"fontsize\": 24},\n",
    "\"ylabel_params\": {\"ylabel\": \"cumulative reduction in information entropy (%)\", \"fontsize\": 24},\n",
    "\"title_params\": {\"label\": \"Cumulative information entropy signature - SSH 1\", \"fontsize\": 24},\n",
    "\"xlim_params\": {},\n",
    "\"ylim_params\": {},\n",
    "\"xticks_params\": {\"ticks\": [int(i) for i in np.linspace(0,99,10).astype(int)], \"fontsize\": 24},\n",
    "\"yticks_params\": {\"fontsize\": 24},\n",
    "\"tight_params\": {},\n",
    "#cumulative_features_path_to_save = \"/home/linneu/ml_topological_phases_in_real_space/paper/ssh1/periodic_100_6561/cumulative_feature_importances.png\"\n",
    "\"savefig_params\": {\"fname\": os.path.join(figures_dir,\"plot_cumulative_feature_importances.png\")},\n",
    "}"
   ]
  },
  {
   "cell_type": "code",
   "execution_count": 3,
   "metadata": {
    "execution": {
     "iopub.execute_input": "2020-07-18T21:06:25.659186Z",
     "iopub.status.busy": "2020-07-18T21:06:25.658749Z",
     "iopub.status.idle": "2020-07-18T21:06:25.733388Z",
     "shell.execute_reply": "2020-07-18T21:06:25.733707Z"
    },
    "papermill": {
     "duration": 0.105015,
     "end_time": "2020-07-18T21:06:25.733776",
     "exception": false,
     "start_time": "2020-07-18T21:06:25.628761",
     "status": "completed"
    },
    "tags": [
     "injected-parameters"
    ]
   },
   "outputs": [],
   "source": [
    "# Parameters\n",
    "scatter_train_val_test_params = {\n",
    "    \"fig_params\": {\"figsize\": [6, 6]},\n",
    "    \"val_params\": {\n",
    "        \"marker\": \"s\",\n",
    "        \"s\": 64,\n",
    "        \"alpha\": 0.2,\n",
    "        \"color\": \"salmon\",\n",
    "        \"label\": \"val\",\n",
    "    },\n",
    "    \"test_params\": {\n",
    "        \"marker\": \"s\",\n",
    "        \"s\": 64,\n",
    "        \"alpha\": 0.5,\n",
    "        \"color\": \"royalblue\",\n",
    "        \"label\": \"test\",\n",
    "    },\n",
    "    \"train_params\": {\n",
    "        \"marker\": \"o\",\n",
    "        \"s\": 3,\n",
    "        \"alpha\": 1,\n",
    "        \"color\": \"green\",\n",
    "        \"label\": \"train\",\n",
    "    },\n",
    "    \"legend_params\": {\"framealpha\": 0.8, \"loc\": \"upper right\", \"fontsize\": 16},\n",
    "    \"xlabel_params\": {\"xlabel\": \"$t_2$\", \"fontsize\": 24},\n",
    "    \"ylabel_params\": {\"ylabel\": \"$t_1$\", \"fontsize\": 24},\n",
    "    \"title_params\": {},\n",
    "    \"xlim_params\": {\"left\": -2, \"right\": 2},\n",
    "    \"ylim_params\": {\"bottom\": -2, \"top\": 2},\n",
    "    \"xticks_params\": {\"fontsize\": 14},\n",
    "    \"yticks_params\": {\"fontsize\": 14},\n",
    "    \"tight_params\": {},\n",
    "    \"savefig_params\": {\n",
    "        \"fname\": \"/home/rio/ml_topological_phases_in_real_space/07_paper/ssh1/dct_best_04_wavevector_sites/scatter_train_val_test_experiment_0.png\"\n",
    "    },\n",
    "}\n",
    "scatter_winding_train_params = {\n",
    "    \"fig_params\": {\"figsize\": [6, 6]},\n",
    "    \"winding_params\": {\n",
    "        \"0\": {\"marker\": \"o\", \"s\": 10, \"color\": \"red\", \"label\": 0},\n",
    "        \"1\": {\"marker\": \"o\", \"s\": 10, \"color\": \"blue\", \"label\": 1},\n",
    "    },\n",
    "    \"legend_params\": {\"framealpha\": 0.8, \"loc\": \"upper right\", \"fontsize\": 16},\n",
    "    \"xlabel_params\": {\"xlabel\": \"$t_2$\", \"fontsize\": 24},\n",
    "    \"ylabel_params\": {\"ylabel\": \"$t_1$\", \"fontsize\": 24},\n",
    "    \"title_params\": {},\n",
    "    \"xlim_params\": {\"left\": -2, \"right\": 2},\n",
    "    \"ylim_params\": {\"bottom\": -2, \"top\": 2},\n",
    "    \"xticks_params\": {\"fontsize\": 14},\n",
    "    \"yticks_params\": {\"fontsize\": 14},\n",
    "    \"tight_params\": {},\n",
    "    \"savefig_params\": {\n",
    "        \"fname\": \"/home/rio/ml_topological_phases_in_real_space/07_paper/ssh1/dct_best_04_wavevector_sites/scatter_winding_train_experiment_0.png\"\n",
    "    },\n",
    "}\n",
    "pcolormesh_prediction_grid_params = {\n",
    "    \"fig_params\": {\"figsize\": [6, 6]},\n",
    "    \"winding_params\": {\n",
    "        \"0\": {\"marker\": \"o\", \"s\": 10, \"color\": \"red\", \"label\": 0},\n",
    "        \"1\": {\"marker\": \"o\", \"s\": 10, \"color\": \"blue\", \"label\": 1},\n",
    "    },\n",
    "    \"pcolormesh_params\": {\"cmap\": \"ssh1\", \"alpha\": 0.5},\n",
    "    \"legend_params\": {\"framealpha\": 0.8, \"loc\": \"upper right\", \"fontsize\": 16},\n",
    "    \"xlabel_params\": {\"xlabel\": \"$t_2$\", \"fontsize\": 24},\n",
    "    \"ylabel_params\": {\"ylabel\": \"$t_1$\", \"fontsize\": 24},\n",
    "    \"title_params\": {},\n",
    "    \"xlim_params\": {\"left\": -2, \"right\": 2},\n",
    "    \"ylim_params\": {\"bottom\": -2, \"top\": 2},\n",
    "    \"xticks_params\": {\"fontsize\": 14},\n",
    "    \"yticks_params\": {\"fontsize\": 14},\n",
    "    \"tight_params\": {},\n",
    "    \"savefig_params\": {\n",
    "        \"fname\": \"/home/rio/ml_topological_phases_in_real_space/07_paper/ssh1/dct_best_04_wavevector_sites/pcolormesh_prediction_grid_experiment_0.png\"\n",
    "    },\n",
    "}\n",
    "winding_cmap_dict = {\"0\": \"Reds\", \"1\": \"Blues\"}\n",
    "imshow_winding_grid_params = {\n",
    "    \"winding\": 1,\n",
    "    \"imshow_params\": {\n",
    "        \"cmap\": \"bwr_r\",\n",
    "        \"aspect\": \"equal\",\n",
    "        \"alpha\": None,\n",
    "        \"origin\": \"lower\",\n",
    "        \"extent\": [-2, 2, -2, 2],\n",
    "        \"vmin\": 0,\n",
    "        \"vmax\": 1,\n",
    "    },\n",
    "    \"colorbar_params\": {\n",
    "        \"mappable\": None,\n",
    "        \"labelsize\": 24,\n",
    "        \"ticks\": [0, 0.2, 0.4, 0.6, 0.8, 1.0],\n",
    "        \"pad\": 0.1,\n",
    "        \"shrink\": 0.8,\n",
    "        \"extend\": \"neither\",\n",
    "    },\n",
    "    \"fig_params\": {\"figsize\": [12, 12]},\n",
    "    \"xlabel_params\": {\"xlabel\": \"$t_2$\", \"fontsize\": 48},\n",
    "    \"ylabel_params\": {\"ylabel\": \"$t_1$\", \"fontsize\": 48},\n",
    "    \"title_params\": {},\n",
    "    \"xlim_params\": {\"left\": -2, \"right\": 2},\n",
    "    \"ylim_params\": {\"bottom\": -2, \"top\": 2},\n",
    "    \"xticks_params\": {\"fontsize\": 24},\n",
    "    \"yticks_params\": {\"fontsize\": 24},\n",
    "    \"tight_params\": {},\n",
    "    \"savefig_params\": {\n",
    "        \"fname\": \"/home/rio/ml_topological_phases_in_real_space/07_paper/ssh1/dct_best_04_wavevector_sites/imshow_winding_grid_winding_{}_{}.png\"\n",
    "    },\n",
    "}\n",
    "merge_imshow_winding_grids_params = {\n",
    "    \"winding_params\": {\n",
    "        \"0\": {\n",
    "            \"cmap\": \"Reds_alpha\",\n",
    "            \"aspect\": \"equal\",\n",
    "            \"alpha\": None,\n",
    "            \"origin\": \"lower\",\n",
    "            \"extent\": [-2, 2, -2, 2],\n",
    "            \"vmin\": 0,\n",
    "            \"vmax\": 1,\n",
    "        },\n",
    "        \"1\": {\n",
    "            \"cmap\": \"Blues_alpha\",\n",
    "            \"aspect\": \"equal\",\n",
    "            \"alpha\": None,\n",
    "            \"origin\": \"lower\",\n",
    "            \"extent\": [-2, 2, -2, 2],\n",
    "            \"vmin\": 0,\n",
    "            \"vmax\": 1,\n",
    "        },\n",
    "    },\n",
    "    \"colorbar_params\": {},\n",
    "    \"fig_params\": {\"figsize\": [12, 12]},\n",
    "    \"xlabel_params\": {\"xlabel\": \"$t_2$\", \"fontsize\": 48},\n",
    "    \"ylabel_params\": {\"ylabel\": \"$t_1$\", \"fontsize\": 48},\n",
    "    \"title_params\": {},\n",
    "    \"xlim_params\": {\"left\": -2, \"right\": 2},\n",
    "    \"ylim_params\": {\"bottom\": -2, \"top\": 2},\n",
    "    \"xticks_params\": {\"fontsize\": 24},\n",
    "    \"yticks_params\": {\"fontsize\": 24},\n",
    "    \"tight_params\": {},\n",
    "    \"savefig_params\": {\n",
    "        \"fname\": \"/home/rio/ml_topological_phases_in_real_space/07_paper/ssh1/dct_best_04_wavevector_sites/merge_imshow_winding_grids_second_{}.png\"\n",
    "    },\n",
    "}\n",
    "plot_feature_importances_params = {\n",
    "    \"n_features\": None,\n",
    "    \"plot\": \"bar\",\n",
    "    \"plot_params\": {\"color\": \"indianred\", \"width\": 0.7},\n",
    "    \"hist_precision\": 1000,\n",
    "    \"fig_params\": {\"figsize\": [12, 12]},\n",
    "    \"xlabel_params\": {\"xlabel\": \"lattice site\", \"fontsize\": 24},\n",
    "    \"ylabel_params\": {\"ylabel\": \"reduction in information entropy (%)\", \"fontsize\": 24},\n",
    "    \"title_params\": {\n",
    "        \"label\": \"Information entropy signature (real space) - SSH 1\",\n",
    "        \"fontsize\": 24,\n",
    "    },\n",
    "    \"xlim_params\": {},\n",
    "    \"ylim_params\": {},\n",
    "    \"xticks_params\": {\"ticks\": [0, 11, 22, 33, 44, 55, 66, 77, 88, 99], \"fontsize\": 24},\n",
    "    \"yticks_params\": {\"fontsize\": 24},\n",
    "    \"tight_params\": {},\n",
    "    \"savefig_params\": {\n",
    "        \"fname\": \"/home/rio/ml_topological_phases_in_real_space/07_paper/ssh1/dct_best_04_wavevector_sites/plot_feature_importances.png\"\n",
    "    },\n",
    "}\n",
    "plot_cumulative_feature_importances_params = {\n",
    "    \"n_features\": None,\n",
    "    \"plot\": \"bar\",\n",
    "    \"hist_precision\": 1000,\n",
    "    \"plot_params\": {\"color\": \"indianred\", \"width\": 0.7},\n",
    "    \"fig_params\": {\"figsize\": [12, 12]},\n",
    "    \"xlabel_params\": {\"xlabel\": \"lattice site\", \"fontsize\": 24},\n",
    "    \"ylabel_params\": {\n",
    "        \"ylabel\": \"cumulative reduction in information entropy (%)\",\n",
    "        \"fontsize\": 24,\n",
    "    },\n",
    "    \"title_params\": {\n",
    "        \"label\": \"Cumulative information entropy signature (real space) - SSH 1\",\n",
    "        \"fontsize\": 24,\n",
    "    },\n",
    "    \"xlim_params\": {},\n",
    "    \"ylim_params\": {},\n",
    "    \"xticks_params\": {\"ticks\": [0, 11, 22, 33, 44, 55, 66, 77, 88, 99], \"fontsize\": 24},\n",
    "    \"yticks_params\": {\"fontsize\": 24},\n",
    "    \"tight_params\": {},\n",
    "    \"savefig_params\": {\n",
    "        \"fname\": \"/home/rio/ml_topological_phases_in_real_space/07_paper/ssh1/dct_best_04_wavevector_sites/plot_cumulative_feature_importances.png\"\n",
    "    },\n",
    "}\n",
    "plot_fourier_feature_importances_params = {\n",
    "    \"n_features\": None,\n",
    "    \"fourier\": True,\n",
    "    \"plot\": \"bar\",\n",
    "    \"plot_params\": {\"color\": \"palevioletred\", \"width\": 0.7},\n",
    "    \"hist_precision\": 1000,\n",
    "    \"fig_params\": {\"figsize\": [12, 12]},\n",
    "    \"xlabel_params\": {\"xlabel\": \"reciprocal lattice site\", \"fontsize\": 24},\n",
    "    \"ylabel_params\": {\"ylabel\": \"reduction in information entropy (%)\", \"fontsize\": 24},\n",
    "    \"title_params\": {\n",
    "        \"label\": \"Information entropy signature (wavevector space) - SSH 1\",\n",
    "        \"fontsize\": 24,\n",
    "    },\n",
    "    \"xlim_params\": {},\n",
    "    \"ylim_params\": {},\n",
    "    \"xticks_params\": {\"ticks\": [0, 11, 22, 33, 44, 55, 66, 77, 88, 99], \"fontsize\": 24},\n",
    "    \"yticks_params\": {\"fontsize\": 24},\n",
    "    \"tight_params\": {},\n",
    "    \"savefig_params\": {\n",
    "        \"fname\": \"/home/rio/ml_topological_phases_in_real_space/07_paper/ssh1/dct_best_04_wavevector_sites/plot_fourier_feature_importances.png\"\n",
    "    },\n",
    "}\n",
    "plot_cumulative_fourier_feature_importances_params = {\n",
    "    \"n_features\": None,\n",
    "    \"fourier\": True,\n",
    "    \"plot\": \"bar\",\n",
    "    \"hist_precision\": 1000,\n",
    "    \"plot_params\": {\"color\": \"palevioletred\", \"width\": 0.7},\n",
    "    \"fig_params\": {\"figsize\": [12, 12]},\n",
    "    \"xlabel_params\": {\"xlabel\": \"reciprocal lattice site\", \"fontsize\": 24},\n",
    "    \"ylabel_params\": {\n",
    "        \"ylabel\": \"cumulative reduction in information entropy (%)\",\n",
    "        \"fontsize\": 24,\n",
    "    },\n",
    "    \"title_params\": {\n",
    "        \"label\": \"Cumulative information entropy signature (wavevector space) - SSH 1\",\n",
    "        \"fontsize\": 24,\n",
    "    },\n",
    "    \"xlim_params\": {},\n",
    "    \"ylim_params\": {},\n",
    "    \"xticks_params\": {\"ticks\": [0, 11, 22, 33, 44, 55, 66, 77, 88, 99], \"fontsize\": 24},\n",
    "    \"yticks_params\": {\"fontsize\": 24},\n",
    "    \"tight_params\": {},\n",
    "    \"savefig_params\": {\n",
    "        \"fname\": \"/home/rio/ml_topological_phases_in_real_space/07_paper/ssh1/dct_best_04_wavevector_sites/plot_cumulative_fourier_feature_importances.png\"\n",
    "    },\n",
    "}\n",
    "simulation_dir = (\n",
    "    \"/home/rio/ssh_simulations/ssh1/periodic_100_6561/dct_best_04_wavevector_sites\"\n",
    ")\n",
    "figures_dir = \"/home/rio/ml_topological_phases_in_real_space/07_paper/ssh1/dct_best_04_wavevector_sites\"\n",
    "experiment_name = \"0\"\n",
    "n_experiments = None\n",
    "load_hamiltonian_summary = False\n"
   ]
  },
  {
   "cell_type": "markdown",
   "metadata": {
    "papermill": {
     "duration": 0.021677,
     "end_time": "2020-07-18T21:06:25.777943",
     "exception": false,
     "start_time": "2020-07-18T21:06:25.756266",
     "status": "completed"
    },
    "tags": []
   },
   "source": [
    "## Results from a single experiment"
   ]
  },
  {
   "cell_type": "markdown",
   "metadata": {
    "papermill": {
     "duration": 0.036347,
     "end_time": "2020-07-18T21:06:25.835655",
     "exception": false,
     "start_time": "2020-07-18T21:06:25.799308",
     "status": "completed"
    },
    "tags": []
   },
   "source": [
    "#### Initializing Experiment instance"
   ]
  },
  {
   "cell_type": "code",
   "execution_count": 4,
   "metadata": {
    "execution": {
     "iopub.execute_input": "2020-07-18T21:06:25.882034Z",
     "iopub.status.busy": "2020-07-18T21:06:25.881693Z",
     "iopub.status.idle": "2020-07-18T21:06:26.296591Z",
     "shell.execute_reply": "2020-07-18T21:06:26.296228Z"
    },
    "papermill": {
     "duration": 0.437321,
     "end_time": "2020-07-18T21:06:26.296644",
     "exception": false,
     "start_time": "2020-07-18T21:06:25.859323",
     "status": "completed"
    },
    "tags": []
   },
   "outputs": [],
   "source": [
    "experiment = Experiment(simulation_dir, experiment_name)"
   ]
  },
  {
   "cell_type": "markdown",
   "metadata": {
    "papermill": {
     "duration": 0.019275,
     "end_time": "2020-07-18T21:06:26.336034",
     "exception": false,
     "start_time": "2020-07-18T21:06:26.316759",
     "status": "completed"
    },
    "tags": []
   },
   "source": [
    "#### Viewing Train/Val/Test split"
   ]
  },
  {
   "cell_type": "code",
   "execution_count": 5,
   "metadata": {
    "execution": {
     "iopub.execute_input": "2020-07-18T21:06:26.377595Z",
     "iopub.status.busy": "2020-07-18T21:06:26.377284Z",
     "iopub.status.idle": "2020-07-18T21:06:26.386388Z",
     "shell.execute_reply": "2020-07-18T21:06:26.386697Z"
    },
    "papermill": {
     "duration": 0.031203,
     "end_time": "2020-07-18T21:06:26.386769",
     "exception": false,
     "start_time": "2020-07-18T21:06:26.355566",
     "status": "completed"
    },
    "tags": []
   },
   "outputs": [
    {
     "name": "stdout",
     "output_type": "stream",
     "text": [
      "% train:  0.08474317939338516\n",
      "% val:  0.7620789513793629\n",
      "% test:  0.15317786922725193\n",
      "% train + val + test:  1.0\n",
      "\n",
      "\n",
      "number of train hamiltonians:  556\n",
      "number of val hamiltonians:  5000\n",
      "number of test hamiltonians:  1005\n",
      "total number of hamiltonians:  6561\n"
     ]
    }
   ],
   "source": [
    "experiment.print_train_val_test()"
   ]
  },
  {
   "cell_type": "markdown",
   "metadata": {
    "papermill": {
     "duration": 0.018885,
     "end_time": "2020-07-18T21:06:26.424938",
     "exception": false,
     "start_time": "2020-07-18T21:06:26.406053",
     "status": "completed"
    },
    "tags": []
   },
   "source": [
    "#### Viewing dataset summary"
   ]
  },
  {
   "cell_type": "code",
   "execution_count": 6,
   "metadata": {
    "execution": {
     "iopub.execute_input": "2020-07-18T21:06:26.466347Z",
     "iopub.status.busy": "2020-07-18T21:06:26.466034Z",
     "iopub.status.idle": "2020-07-18T21:06:26.506043Z",
     "shell.execute_reply": "2020-07-18T21:06:26.506345Z"
    },
    "papermill": {
     "duration": 0.061806,
     "end_time": "2020-07-18T21:06:26.506411",
     "exception": false,
     "start_time": "2020-07-18T21:06:26.444605",
     "status": "completed"
    },
    "tags": []
   },
   "outputs": [
    {
     "name": "stdout",
     "output_type": "stream",
     "text": [
      "Summary of train + val data\n",
      "\n",
      "% train/val phases: \n",
      "0    0.507919\n",
      "1    0.492081\n",
      "Name: phase, dtype: float64\n",
      "\n",
      "\n",
      "total train/val phases: \n",
      "0    2822\n",
      "1    2734\n",
      "Name: phase, dtype: int64\n",
      "\n",
      "\n",
      "Summary of test data\n",
      "\n",
      "% test phases: \n",
      "1    0.552133\n",
      "0    0.447867\n",
      "Name: phase, dtype: float64\n",
      "\n",
      "\n",
      "total test phases: \n",
      "1    466\n",
      "0    378\n",
      "Name: phase, dtype: int64\n",
      "\n",
      "\n",
      "Summary of train + val + test data\n",
      "\n",
      "% phases: \n",
      "1    0.5\n",
      "0    0.5\n",
      "Name: phase, dtype: float64\n",
      "\n",
      "\n",
      "total phases: \n",
      "1    3200\n",
      "0    3200\n",
      "Name: phase, dtype: int64\n"
     ]
    }
   ],
   "source": [
    "experiment.print_phases()"
   ]
  },
  {
   "cell_type": "markdown",
   "metadata": {
    "papermill": {
     "duration": 0.018866,
     "end_time": "2020-07-18T21:06:26.544391",
     "exception": false,
     "start_time": "2020-07-18T21:06:26.525525",
     "status": "completed"
    },
    "tags": []
   },
   "source": [
    "#### Viewing eigenvector summary"
   ]
  },
  {
   "cell_type": "code",
   "execution_count": 7,
   "metadata": {
    "execution": {
     "iopub.execute_input": "2020-07-18T21:06:26.586351Z",
     "iopub.status.busy": "2020-07-18T21:06:26.586044Z",
     "iopub.status.idle": "2020-07-18T21:06:26.618880Z",
     "shell.execute_reply": "2020-07-18T21:06:26.618558Z"
    },
    "papermill": {
     "duration": 0.054729,
     "end_time": "2020-07-18T21:06:26.618930",
     "exception": false,
     "start_time": "2020-07-18T21:06:26.564201",
     "status": "completed"
    },
    "tags": []
   },
   "outputs": [
    {
     "data": {
      "text/html": [
       "<div>\n",
       "<style scoped>\n",
       "    .dataframe tbody tr th:only-of-type {\n",
       "        vertical-align: middle;\n",
       "    }\n",
       "\n",
       "    .dataframe tbody tr th {\n",
       "        vertical-align: top;\n",
       "    }\n",
       "\n",
       "    .dataframe thead th {\n",
       "        text-align: right;\n",
       "    }\n",
       "</style>\n",
       "<table border=\"1\" class=\"dataframe\">\n",
       "  <thead>\n",
       "    <tr style=\"text-align: right;\">\n",
       "      <th></th>\n",
       "      <th>id</th>\n",
       "      <th>phase</th>\n",
       "      <th>pred_phase</th>\n",
       "      <th>type_of</th>\n",
       "    </tr>\n",
       "  </thead>\n",
       "  <tbody>\n",
       "    <tr>\n",
       "      <th>0</th>\n",
       "      <td>0</td>\n",
       "      <td>999</td>\n",
       "      <td>0</td>\n",
       "      <td>test</td>\n",
       "    </tr>\n",
       "    <tr>\n",
       "      <th>1</th>\n",
       "      <td>0</td>\n",
       "      <td>999</td>\n",
       "      <td>0</td>\n",
       "      <td>test</td>\n",
       "    </tr>\n",
       "    <tr>\n",
       "      <th>2</th>\n",
       "      <td>0</td>\n",
       "      <td>999</td>\n",
       "      <td>0</td>\n",
       "      <td>test</td>\n",
       "    </tr>\n",
       "    <tr>\n",
       "      <th>3</th>\n",
       "      <td>0</td>\n",
       "      <td>999</td>\n",
       "      <td>1</td>\n",
       "      <td>test</td>\n",
       "    </tr>\n",
       "    <tr>\n",
       "      <th>4</th>\n",
       "      <td>0</td>\n",
       "      <td>999</td>\n",
       "      <td>0</td>\n",
       "      <td>test</td>\n",
       "    </tr>\n",
       "  </tbody>\n",
       "</table>\n",
       "</div>"
      ],
      "text/plain": [
       "   id  phase  pred_phase type_of\n",
       "0   0    999           0    test\n",
       "1   0    999           0    test\n",
       "2   0    999           0    test\n",
       "3   0    999           1    test\n",
       "4   0    999           0    test"
      ]
     },
     "execution_count": 7,
     "metadata": {},
     "output_type": "execute_result"
    }
   ],
   "source": [
    "experiment.eigenvector_summary.head()"
   ]
  },
  {
   "cell_type": "markdown",
   "metadata": {
    "papermill": {
     "duration": 0.019188,
     "end_time": "2020-07-18T21:06:26.657546",
     "exception": false,
     "start_time": "2020-07-18T21:06:26.638358",
     "status": "completed"
    },
    "tags": []
   },
   "source": [
    "#### Vieweng Hamiltonian summary"
   ]
  },
  {
   "cell_type": "code",
   "execution_count": 8,
   "metadata": {
    "execution": {
     "iopub.execute_input": "2020-07-18T21:06:26.699502Z",
     "iopub.status.busy": "2020-07-18T21:06:26.699191Z",
     "iopub.status.idle": "2020-07-18T21:06:26.773823Z",
     "shell.execute_reply": "2020-07-18T21:06:26.774461Z"
    },
    "papermill": {
     "duration": 0.097002,
     "end_time": "2020-07-18T21:06:26.774586",
     "exception": false,
     "start_time": "2020-07-18T21:06:26.677584",
     "status": "completed"
    },
    "tags": []
   },
   "outputs": [
    {
     "data": {
      "text/html": [
       "<div>\n",
       "<style scoped>\n",
       "    .dataframe tbody tr th:only-of-type {\n",
       "        vertical-align: middle;\n",
       "    }\n",
       "\n",
       "    .dataframe tbody tr th {\n",
       "        vertical-align: top;\n",
       "    }\n",
       "\n",
       "    .dataframe thead th {\n",
       "        text-align: right;\n",
       "    }\n",
       "</style>\n",
       "<table border=\"1\" class=\"dataframe\">\n",
       "  <thead>\n",
       "    <tr style=\"text-align: right;\">\n",
       "      <th></th>\n",
       "      <th>t1</th>\n",
       "      <th>t2</th>\n",
       "      <th>type_of</th>\n",
       "      <th>0</th>\n",
       "      <th>1</th>\n",
       "      <th>phase</th>\n",
       "      <th>pred_phase</th>\n",
       "    </tr>\n",
       "    <tr>\n",
       "      <th>id</th>\n",
       "      <th></th>\n",
       "      <th></th>\n",
       "      <th></th>\n",
       "      <th></th>\n",
       "      <th></th>\n",
       "      <th></th>\n",
       "      <th></th>\n",
       "    </tr>\n",
       "  </thead>\n",
       "  <tbody>\n",
       "    <tr>\n",
       "      <th>0</th>\n",
       "      <td>-2.0</td>\n",
       "      <td>-2.00</td>\n",
       "      <td>test</td>\n",
       "      <td>0.43</td>\n",
       "      <td>0.57</td>\n",
       "      <td>999</td>\n",
       "      <td>1</td>\n",
       "    </tr>\n",
       "    <tr>\n",
       "      <th>1</th>\n",
       "      <td>-2.0</td>\n",
       "      <td>-1.95</td>\n",
       "      <td>test</td>\n",
       "      <td>0.46</td>\n",
       "      <td>0.54</td>\n",
       "      <td>0</td>\n",
       "      <td>1</td>\n",
       "    </tr>\n",
       "    <tr>\n",
       "      <th>2</th>\n",
       "      <td>-2.0</td>\n",
       "      <td>-1.90</td>\n",
       "      <td>test</td>\n",
       "      <td>0.50</td>\n",
       "      <td>0.50</td>\n",
       "      <td>0</td>\n",
       "      <td>0</td>\n",
       "    </tr>\n",
       "    <tr>\n",
       "      <th>3</th>\n",
       "      <td>-2.0</td>\n",
       "      <td>-1.85</td>\n",
       "      <td>test</td>\n",
       "      <td>0.53</td>\n",
       "      <td>0.47</td>\n",
       "      <td>0</td>\n",
       "      <td>0</td>\n",
       "    </tr>\n",
       "    <tr>\n",
       "      <th>4</th>\n",
       "      <td>-2.0</td>\n",
       "      <td>-1.80</td>\n",
       "      <td>test</td>\n",
       "      <td>0.55</td>\n",
       "      <td>0.45</td>\n",
       "      <td>0</td>\n",
       "      <td>0</td>\n",
       "    </tr>\n",
       "  </tbody>\n",
       "</table>\n",
       "</div>"
      ],
      "text/plain": [
       "     t1    t2 type_of     0     1  phase  pred_phase\n",
       "id                                                  \n",
       "0  -2.0 -2.00    test  0.43  0.57    999           1\n",
       "1  -2.0 -1.95    test  0.46  0.54      0           1\n",
       "2  -2.0 -1.90    test  0.50  0.50      0           0\n",
       "3  -2.0 -1.85    test  0.53  0.47      0           0\n",
       "4  -2.0 -1.80    test  0.55  0.45      0           0"
      ]
     },
     "execution_count": 8,
     "metadata": {},
     "output_type": "execute_result"
    }
   ],
   "source": [
    "experiment.hamiltonian_summary.head()"
   ]
  },
  {
   "cell_type": "markdown",
   "metadata": {
    "papermill": {
     "duration": 0.021986,
     "end_time": "2020-07-18T21:06:26.838136",
     "exception": false,
     "start_time": "2020-07-18T21:06:26.816150",
     "status": "completed"
    },
    "tags": []
   },
   "source": [
    "#### Viewing accuracy"
   ]
  },
  {
   "cell_type": "code",
   "execution_count": 9,
   "metadata": {
    "execution": {
     "iopub.execute_input": "2020-07-18T21:06:26.882540Z",
     "iopub.status.busy": "2020-07-18T21:06:26.881948Z",
     "iopub.status.idle": "2020-07-18T21:06:26.891188Z",
     "shell.execute_reply": "2020-07-18T21:06:26.890872Z"
    },
    "papermill": {
     "duration": 0.032762,
     "end_time": "2020-07-18T21:06:26.891237",
     "exception": false,
     "start_time": "2020-07-18T21:06:26.858475",
     "status": "completed"
    },
    "tags": []
   },
   "outputs": [
    {
     "data": {
      "text/plain": [
       "{'eigenvector_train': 0.9760251798561151,\n",
       " 'eigenvector_val': 0.829104,\n",
       " 'eigenvector_test': 0.6028791469194312,\n",
       " 'hamiltonian_train': 0.9928057553956835,\n",
       " 'hamiltonian_val': 0.9928,\n",
       " 'hamiltonian_test': 0.9028436018957346}"
      ]
     },
     "execution_count": 9,
     "metadata": {},
     "output_type": "execute_result"
    }
   ],
   "source": [
    "experiment.accuracy"
   ]
  },
  {
   "cell_type": "markdown",
   "metadata": {
    "papermill": {
     "duration": 0.019741,
     "end_time": "2020-07-18T21:06:26.930957",
     "exception": false,
     "start_time": "2020-07-18T21:06:26.911216",
     "status": "completed"
    },
    "tags": []
   },
   "source": [
    "#### Visualizing train/val/test splits with scatter plot for a single experiment"
   ]
  },
  {
   "cell_type": "code",
   "execution_count": 10,
   "metadata": {
    "execution": {
     "iopub.execute_input": "2020-07-18T21:06:26.972481Z",
     "iopub.status.busy": "2020-07-18T21:06:26.972162Z",
     "iopub.status.idle": "2020-07-18T21:06:27.361025Z",
     "shell.execute_reply": "2020-07-18T21:06:27.361330Z"
    },
    "papermill": {
     "duration": 0.410824,
     "end_time": "2020-07-18T21:06:27.361394",
     "exception": false,
     "start_time": "2020-07-18T21:06:26.950570",
     "status": "completed"
    },
    "tags": []
   },
   "outputs": [
    {
     "data": {
      "image/png": "[encoded data removed]",
      "text/plain": [
       "<Figure size 432x432 with 1 Axes>"
      ]
     },
     "metadata": {
      "needs_background": "light"
     },
     "output_type": "display_data"
    }
   ],
   "source": [
    "experiment.scatter_train_val_test(**scatter_train_val_test_params)\n"
   ]
  },
  {
   "cell_type": "markdown",
   "metadata": {
    "papermill": {
     "duration": 0.022893,
     "end_time": "2020-07-18T21:06:27.406491",
     "exception": false,
     "start_time": "2020-07-18T21:06:27.383598",
     "status": "completed"
    },
    "tags": []
   },
   "source": [
    "#### Plotting train winding labels with scatter plot for a single experiment"
   ]
  },
  {
   "cell_type": "code",
   "execution_count": 11,
   "metadata": {
    "execution": {
     "iopub.execute_input": "2020-07-18T21:06:27.451211Z",
     "iopub.status.busy": "2020-07-18T21:06:27.450898Z",
     "iopub.status.idle": "2020-07-18T21:06:27.662708Z",
     "shell.execute_reply": "2020-07-18T21:06:27.662387Z"
    },
    "papermill": {
     "duration": 0.234714,
     "end_time": "2020-07-18T21:06:27.662758",
     "exception": false,
     "start_time": "2020-07-18T21:06:27.428044",
     "status": "completed"
    },
    "tags": []
   },
   "outputs": [
    {
     "data": {
      "image/png": "[encoded data removed]",
      "text/plain": [
       "<Figure size 432x432 with 1 Axes>"
      ]
     },
     "metadata": {
      "needs_background": "light"
     },
     "output_type": "display_data"
    }
   ],
   "source": [
    "scatter_winding_train_params[\"winding_params\"] = {int(w): scatter_winding_train_params[\"winding_params\"][w] for w in \n",
    "                                                  scatter_winding_train_params[\"winding_params\"]}\n",
    "experiment.scatter_winding_train(**scatter_winding_train_params)\n"
   ]
  },
  {
   "cell_type": "markdown",
   "metadata": {
    "papermill": {
     "duration": 0.02174,
     "end_time": "2020-07-18T21:06:27.707107",
     "exception": false,
     "start_time": "2020-07-18T21:06:27.685367",
     "status": "completed"
    },
    "tags": []
   },
   "source": [
    "#### Plotting prediction grid with pcolormesh for a single experiment"
   ]
  },
  {
   "cell_type": "code",
   "execution_count": 12,
   "metadata": {
    "execution": {
     "iopub.execute_input": "2020-07-18T21:06:27.753939Z",
     "iopub.status.busy": "2020-07-18T21:06:27.753626Z",
     "iopub.status.idle": "2020-07-18T21:06:27.968700Z",
     "shell.execute_reply": "2020-07-18T21:06:27.968369Z"
    },
    "papermill": {
     "duration": 0.239472,
     "end_time": "2020-07-18T21:06:27.968749",
     "exception": false,
     "start_time": "2020-07-18T21:06:27.729277",
     "status": "completed"
    },
    "tags": []
   },
   "outputs": [
    {
     "data": {
      "image/png": "[encoded data removed]",
      "text/plain": [
       "<Figure size 432x432 with 1 Axes>"
      ]
     },
     "metadata": {
      "needs_background": "light"
     },
     "output_type": "display_data"
    }
   ],
   "source": [
    "pcolormesh_prediction_grid_params[\"winding_params\"] = {int(w): pcolormesh_prediction_grid_params[\"winding_params\"][w] for w in \n",
    "                                                  pcolormesh_prediction_grid_params[\"winding_params\"]}\n",
    "experiment.pcolormesh_prediction_grid(**pcolormesh_prediction_grid_params)\n"
   ]
  },
  {
   "cell_type": "markdown",
   "metadata": {
    "papermill": {
     "duration": 0.022234,
     "end_time": "2020-07-18T21:06:28.014117",
     "exception": false,
     "start_time": "2020-07-18T21:06:27.991883",
     "status": "completed"
    },
    "tags": []
   },
   "source": [
    "#### Plotting single Winding Heatmaps for a single experiment"
   ]
  },
  {
   "cell_type": "code",
   "execution_count": 13,
   "metadata": {
    "execution": {
     "iopub.execute_input": "2020-07-18T21:06:28.061536Z",
     "iopub.status.busy": "2020-07-18T21:06:28.061222Z",
     "iopub.status.idle": "2020-07-18T21:06:28.762126Z",
     "shell.execute_reply": "2020-07-18T21:06:28.761800Z"
    },
    "papermill": {
     "duration": 0.725531,
     "end_time": "2020-07-18T21:06:28.762176",
     "exception": false,
     "start_time": "2020-07-18T21:06:28.036645",
     "status": "completed"
    },
    "tags": []
   },
   "outputs": [
    {
     "data": {
      "image/png": "[encoded data removed]",
      "text/plain": [
       "<Figure size 864x864 with 2 Axes>"
      ]
     },
     "metadata": {
      "needs_background": "light"
     },
     "output_type": "display_data"
    },
    {
     "data": {
      "image/png": "[encoded data removed]",
      "text/plain": [
       "<Figure size 864x864 with 2 Axes>"
      ]
     },
     "metadata": {
      "needs_background": "light"
     },
     "output_type": "display_data"
    }
   ],
   "source": [
    "winding_cmap_dict = {int(w): winding_cmap_dict[w] for w in                                                   winding_cmap_dict}\n",
    "fname = imshow_winding_grid_params[\"savefig_params\"][\"fname\"]\n",
    "for w, c in winding_cmap_dict.items():\n",
    "    imshow_winding_grid_params[\"winding\"] = w\n",
    "    imshow_winding_grid_params[\"imshow_params\"][\"cmap\"] = c\n",
    "    imshow_winding_grid_params[\"savefig_params\"][\"fname\"] = fname.format(w,\"exp_\"+experiment_name)\n",
    "    experiment.imshow_winding_grid(**imshow_winding_grid_params)\n",
    "imshow_winding_grid_params[\"savefig_params\"][\"fname\"] = fname"
   ]
  },
  {
   "cell_type": "markdown",
   "metadata": {
    "papermill": {
     "duration": 0.024681,
     "end_time": "2020-07-18T21:06:28.812072",
     "exception": false,
     "start_time": "2020-07-18T21:06:28.787391",
     "status": "completed"
    },
    "tags": []
   },
   "source": [
    "#### Plotting Merged Winding Heatmaps for a single experiment"
   ]
  },
  {
   "cell_type": "code",
   "execution_count": 14,
   "metadata": {
    "execution": {
     "iopub.execute_input": "2020-07-18T21:06:28.864128Z",
     "iopub.status.busy": "2020-07-18T21:06:28.863808Z",
     "iopub.status.idle": "2020-07-18T21:06:29.305540Z",
     "shell.execute_reply": "2020-07-18T21:06:29.305840Z"
    },
    "papermill": {
     "duration": 0.468671,
     "end_time": "2020-07-18T21:06:29.305906",
     "exception": false,
     "start_time": "2020-07-18T21:06:28.837235",
     "status": "completed"
    },
    "tags": []
   },
   "outputs": [
    {
     "name": "stdout",
     "output_type": "stream",
     "text": [
      "Plotting winding 0\n",
      "Plotting winding 1\n"
     ]
    },
    {
     "data": {
      "image/png": "[encoded data removed]",
      "text/plain": [
       "<Figure size 864x864 with 1 Axes>"
      ]
     },
     "metadata": {
      "needs_background": "light"
     },
     "output_type": "display_data"
    }
   ],
   "source": [
    "merge_imshow_winding_grids_params[\"winding_params\"] = {int(w): merge_imshow_winding_grids_params[\"winding_params\"][w] for w in \n",
    "                                                  merge_imshow_winding_grids_params[\"winding_params\"]}\n",
    "merge_imshow_winding_grids_params[\"colorbar_params\"] = {int(w): merge_imshow_winding_grids_params[\"colorbar_params\"][w] for w in \n",
    "                                                  merge_imshow_winding_grids_params[\"colorbar_params\"]}\n",
    "fname = merge_imshow_winding_grids_params[\"savefig_params\"][\"fname\"]\n",
    "merge_imshow_winding_grids_params[\"savefig_params\"][\"fname\"] = fname.format(\"exp_\"+experiment_name)\n",
    "experiment.merge_imshow_winding_grids(**merge_imshow_winding_grids_params)\n",
    "merge_imshow_winding_grids_params[\"savefig_params\"][\"fname\"] = fname"
   ]
  },
  {
   "cell_type": "markdown",
   "metadata": {
    "papermill": {
     "duration": 0.026001,
     "end_time": "2020-07-18T21:06:29.358001",
     "exception": false,
     "start_time": "2020-07-18T21:06:29.332000",
     "status": "completed"
    },
    "tags": []
   },
   "source": [
    "## Results from all experiments "
   ]
  },
  {
   "cell_type": "markdown",
   "metadata": {
    "papermill": {
     "duration": 0.024961,
     "end_time": "2020-07-18T21:06:29.408294",
     "exception": false,
     "start_time": "2020-07-18T21:06:29.383333",
     "status": "completed"
    },
    "tags": []
   },
   "source": [
    "#### Initializing ExperimentEnsemble instance"
   ]
  },
  {
   "cell_type": "code",
   "execution_count": 15,
   "metadata": {
    "execution": {
     "iopub.execute_input": "2020-07-18T21:06:29.462894Z",
     "iopub.status.busy": "2020-07-18T21:06:29.462530Z",
     "iopub.status.idle": "2020-07-18T21:06:29.631098Z",
     "shell.execute_reply": "2020-07-18T21:06:29.630751Z"
    },
    "papermill": {
     "duration": 0.196568,
     "end_time": "2020-07-18T21:06:29.631152",
     "exception": false,
     "start_time": "2020-07-18T21:06:29.434584",
     "status": "completed"
    },
    "tags": []
   },
   "outputs": [],
   "source": [
    "simulation = ExperimentEnsemble(simulation_dir, n_experiments, load_hamiltonian_summary)"
   ]
  },
  {
   "cell_type": "markdown",
   "metadata": {
    "papermill": {
     "duration": 0.024903,
     "end_time": "2020-07-18T21:06:29.681425",
     "exception": false,
     "start_time": "2020-07-18T21:06:29.656522",
     "status": "completed"
    },
    "tags": []
   },
   "source": [
    "#### Computing Hamiltonian summary"
   ]
  },
  {
   "cell_type": "code",
   "execution_count": 16,
   "metadata": {
    "execution": {
     "iopub.execute_input": "2020-07-18T21:06:29.735606Z",
     "iopub.status.busy": "2020-07-18T21:06:29.735262Z",
     "iopub.status.idle": "2020-07-18T21:06:30.477602Z",
     "shell.execute_reply": "2020-07-18T21:06:30.477276Z"
    },
    "papermill": {
     "duration": 0.770245,
     "end_time": "2020-07-18T21:06:30.477673",
     "exception": false,
     "start_time": "2020-07-18T21:06:29.707428",
     "status": "completed"
    },
    "tags": []
   },
   "outputs": [
    {
     "name": "stderr",
     "output_type": "stream",
     "text": [
      "\r",
      "mean hamiltonian summary:   0%|          | 0/100 [00:00<?, ?it/s]"
     ]
    },
    {
     "name": "stderr",
     "output_type": "stream",
     "text": [
      "\r",
      "mean hamiltonian summary:  20%|██        | 20/100 [00:00<00:00, 194.13it/s]"
     ]
    },
    {
     "name": "stderr",
     "output_type": "stream",
     "text": [
      "\r",
      "mean hamiltonian summary:  42%|████▏     | 42/100 [00:00<00:00, 200.75it/s]"
     ]
    },
    {
     "name": "stderr",
     "output_type": "stream",
     "text": [
      "\r",
      "mean hamiltonian summary:  61%|██████    | 61/100 [00:00<00:00, 195.59it/s]"
     ]
    },
    {
     "name": "stderr",
     "output_type": "stream",
     "text": [
      "\r",
      "mean hamiltonian summary:  80%|████████  | 80/100 [00:00<00:00, 193.87it/s]"
     ]
    },
    {
     "name": "stderr",
     "output_type": "stream",
     "text": [
      "\r",
      "mean hamiltonian summary: 100%|██████████| 100/100 [00:00<00:00, 200.20it/s]"
     ]
    },
    {
     "name": "stderr",
     "output_type": "stream",
     "text": [
      "\n",
      "\r",
      "majority vote:   0%|          | 0/6561 [00:00<?, ?it/s]"
     ]
    },
    {
     "name": "stderr",
     "output_type": "stream",
     "text": [
      "\r",
      "majority vote: 100%|██████████| 6561/6561 [00:00<00:00, 84930.46it/s]"
     ]
    },
    {
     "name": "stderr",
     "output_type": "stream",
     "text": [
      "\n"
     ]
    }
   ],
   "source": [
    "simulation.compute_hamiltonian_summary()"
   ]
  },
  {
   "cell_type": "markdown",
   "metadata": {
    "papermill": {
     "duration": 0.027325,
     "end_time": "2020-07-18T21:06:30.533044",
     "exception": false,
     "start_time": "2020-07-18T21:06:30.505719",
     "status": "completed"
    },
    "tags": []
   },
   "source": [
    "#### Plotting single winding heatmaps for a simulation"
   ]
  },
  {
   "cell_type": "code",
   "execution_count": 17,
   "metadata": {
    "execution": {
     "iopub.execute_input": "2020-07-18T21:06:30.592923Z",
     "iopub.status.busy": "2020-07-18T21:06:30.592604Z",
     "iopub.status.idle": "2020-07-18T21:06:31.267100Z",
     "shell.execute_reply": "2020-07-18T21:06:31.267404Z"
    },
    "papermill": {
     "duration": 0.704575,
     "end_time": "2020-07-18T21:06:31.267470",
     "exception": false,
     "start_time": "2020-07-18T21:06:30.562895",
     "status": "completed"
    },
    "tags": []
   },
   "outputs": [
    {
     "data": {
      "image/png": "[encoded data removed]",
      "text/plain": [
       "<Figure size 864x864 with 2 Axes>"
      ]
     },
     "metadata": {
      "needs_background": "light"
     },
     "output_type": "display_data"
    },
    {
     "data": {
      "image/png": "[encoded data removed]",
      "text/plain": [
       "<Figure size 864x864 with 2 Axes>"
      ]
     },
     "metadata": {
      "needs_background": "light"
     },
     "output_type": "display_data"
    }
   ],
   "source": [
    "winding_cmap_dict = {int(w): winding_cmap_dict[w] for w in                                                   winding_cmap_dict}\n",
    "fname = imshow_winding_grid_params[\"savefig_params\"][\"fname\"]\n",
    "for w, c in winding_cmap_dict.items():\n",
    "    imshow_winding_grid_params[\"winding\"] = w\n",
    "    imshow_winding_grid_params[\"imshow_params\"][\"cmap\"] = c\n",
    "    imshow_winding_grid_params[\"savefig_params\"][\"fname\"] = fname.format(w,\"sim\")\n",
    "    simulation.imshow_winding_grid(**imshow_winding_grid_params)\n",
    "imshow_winding_grid_params[\"savefig_params\"][\"fname\"] = fname"
   ]
  },
  {
   "cell_type": "markdown",
   "metadata": {
    "papermill": {
     "duration": 0.029025,
     "end_time": "2020-07-18T21:06:31.326382",
     "exception": false,
     "start_time": "2020-07-18T21:06:31.297357",
     "status": "completed"
    },
    "tags": []
   },
   "source": [
    "#### Plotting merged simulation winding heatmaps"
   ]
  },
  {
   "cell_type": "code",
   "execution_count": 18,
   "metadata": {
    "execution": {
     "iopub.execute_input": "2020-07-18T21:06:31.388533Z",
     "iopub.status.busy": "2020-07-18T21:06:31.388188Z",
     "iopub.status.idle": "2020-07-18T21:06:31.827449Z",
     "shell.execute_reply": "2020-07-18T21:06:31.827127Z"
    },
    "papermill": {
     "duration": 0.472091,
     "end_time": "2020-07-18T21:06:31.827499",
     "exception": false,
     "start_time": "2020-07-18T21:06:31.355408",
     "status": "completed"
    },
    "tags": []
   },
   "outputs": [
    {
     "name": "stdout",
     "output_type": "stream",
     "text": [
      "Plotting winding 0\n",
      "Plotting winding 1\n"
     ]
    },
    {
     "data": {
      "image/png": "[encoded data removed]",
      "text/plain": [
       "<Figure size 864x864 with 1 Axes>"
      ]
     },
     "metadata": {
      "needs_background": "light"
     },
     "output_type": "display_data"
    }
   ],
   "source": [
    "merge_imshow_winding_grids_params[\"winding_params\"] = {int(w): merge_imshow_winding_grids_params[\"winding_params\"][w] for w in \n",
    "                                                  merge_imshow_winding_grids_params[\"winding_params\"]}\n",
    "merge_imshow_winding_grids_params[\"colorbar_params\"] = {int(w): merge_imshow_winding_grids_params[\"colorbar_params\"][w] for w in \n",
    "                                                  merge_imshow_winding_grids_params[\"colorbar_params\"]}\n",
    "fname = merge_imshow_winding_grids_params[\"savefig_params\"][\"fname\"]\n",
    "merge_imshow_winding_grids_params[\"savefig_params\"][\"fname\"] = fname.format(\"sim\")\n",
    "simulation.merge_imshow_winding_grids(**merge_imshow_winding_grids_params)\n",
    "merge_imshow_winding_grids_params[\"savefig_params\"][\"fname\"] = fname"
   ]
  },
  {
   "cell_type": "markdown",
   "metadata": {
    "papermill": {
     "duration": 0.03032,
     "end_time": "2020-07-18T21:06:31.891675",
     "exception": false,
     "start_time": "2020-07-18T21:06:31.861355",
     "status": "completed"
    },
    "tags": []
   },
   "source": [
    "#### Computing mean accuracies"
   ]
  },
  {
   "cell_type": "code",
   "execution_count": 19,
   "metadata": {
    "execution": {
     "iopub.execute_input": "2020-07-18T21:06:31.957363Z",
     "iopub.status.busy": "2020-07-18T21:06:31.957054Z",
     "iopub.status.idle": "2020-07-18T21:06:53.622040Z",
     "shell.execute_reply": "2020-07-18T21:06:53.622289Z"
    },
    "papermill": {
     "duration": 21.697518,
     "end_time": "2020-07-18T21:06:53.622357",
     "exception": false,
     "start_time": "2020-07-18T21:06:31.924839",
     "status": "completed"
    },
    "tags": []
   },
   "outputs": [
    {
     "name": "stderr",
     "output_type": "stream",
     "text": [
      "\r",
      "computing mean accuracies:   0%|          | 0/100 [00:00<?, ?it/s]"
     ]
    },
    {
     "name": "stderr",
     "output_type": "stream",
     "text": [
      "\r",
      "computing mean accuracies:   1%|          | 1/100 [00:00<00:14,  6.74it/s]"
     ]
    },
    {
     "name": "stderr",
     "output_type": "stream",
     "text": [
      "\r",
      "computing mean accuracies:   2%|▏         | 2/100 [00:00<00:28,  3.49it/s]"
     ]
    },
    {
     "name": "stderr",
     "output_type": "stream",
     "text": [
      "\r",
      "computing mean accuracies:   3%|▎         | 3/100 [00:00<00:24,  3.96it/s]"
     ]
    },
    {
     "name": "stderr",
     "output_type": "stream",
     "text": [
      "\r",
      "computing mean accuracies:   4%|▍         | 4/100 [00:01<00:23,  4.17it/s]"
     ]
    },
    {
     "name": "stderr",
     "output_type": "stream",
     "text": [
      "\r",
      "computing mean accuracies:   5%|▌         | 5/100 [00:01<00:21,  4.35it/s]"
     ]
    },
    {
     "name": "stderr",
     "output_type": "stream",
     "text": [
      "\r",
      "computing mean accuracies:   6%|▌         | 6/100 [00:01<00:20,  4.55it/s]"
     ]
    },
    {
     "name": "stderr",
     "output_type": "stream",
     "text": [
      "\r",
      "computing mean accuracies:   7%|▋         | 7/100 [00:01<00:19,  4.66it/s]"
     ]
    },
    {
     "name": "stderr",
     "output_type": "stream",
     "text": [
      "\r",
      "computing mean accuracies:   8%|▊         | 8/100 [00:01<00:19,  4.69it/s]"
     ]
    },
    {
     "name": "stderr",
     "output_type": "stream",
     "text": [
      "\r",
      "computing mean accuracies:   9%|▉         | 9/100 [00:02<00:19,  4.67it/s]"
     ]
    },
    {
     "name": "stderr",
     "output_type": "stream",
     "text": [
      "\r",
      "computing mean accuracies:  10%|█         | 10/100 [00:02<00:17,  5.02it/s]"
     ]
    },
    {
     "name": "stderr",
     "output_type": "stream",
     "text": [
      "\r",
      "computing mean accuracies:  11%|█         | 11/100 [00:02<00:18,  4.90it/s]"
     ]
    },
    {
     "name": "stderr",
     "output_type": "stream",
     "text": [
      "\r",
      "computing mean accuracies:  12%|█▏        | 12/100 [00:02<00:19,  4.55it/s]"
     ]
    },
    {
     "name": "stderr",
     "output_type": "stream",
     "text": [
      "\r",
      "computing mean accuracies:  13%|█▎        | 13/100 [00:03<00:19,  4.48it/s]"
     ]
    },
    {
     "name": "stderr",
     "output_type": "stream",
     "text": [
      "\r",
      "computing mean accuracies:  14%|█▍        | 14/100 [00:03<00:19,  4.50it/s]"
     ]
    },
    {
     "name": "stderr",
     "output_type": "stream",
     "text": [
      "\r",
      "computing mean accuracies:  15%|█▌        | 15/100 [00:03<00:17,  4.87it/s]"
     ]
    },
    {
     "name": "stderr",
     "output_type": "stream",
     "text": [
      "\r",
      "computing mean accuracies:  16%|█▌        | 16/100 [00:03<00:17,  4.89it/s]"
     ]
    },
    {
     "name": "stderr",
     "output_type": "stream",
     "text": [
      "\r",
      "computing mean accuracies:  17%|█▋        | 17/100 [00:03<00:15,  5.19it/s]"
     ]
    },
    {
     "name": "stderr",
     "output_type": "stream",
     "text": [
      "\r",
      "computing mean accuracies:  18%|█▊        | 18/100 [00:03<00:16,  5.12it/s]"
     ]
    },
    {
     "name": "stderr",
     "output_type": "stream",
     "text": [
      "\r",
      "computing mean accuracies:  19%|█▉        | 19/100 [00:04<00:16,  5.06it/s]"
     ]
    },
    {
     "name": "stderr",
     "output_type": "stream",
     "text": [
      "\r",
      "computing mean accuracies:  20%|██        | 20/100 [00:04<00:16,  5.00it/s]"
     ]
    },
    {
     "name": "stderr",
     "output_type": "stream",
     "text": [
      "\r",
      "computing mean accuracies:  21%|██        | 21/100 [00:04<00:15,  4.95it/s]"
     ]
    },
    {
     "name": "stderr",
     "output_type": "stream",
     "text": [
      "\r",
      "computing mean accuracies:  22%|██▏       | 22/100 [00:04<00:16,  4.62it/s]"
     ]
    },
    {
     "name": "stderr",
     "output_type": "stream",
     "text": [
      "\r",
      "computing mean accuracies:  23%|██▎       | 23/100 [00:05<00:16,  4.56it/s]"
     ]
    },
    {
     "name": "stderr",
     "output_type": "stream",
     "text": [
      "\r",
      "computing mean accuracies:  24%|██▍       | 24/100 [00:05<00:16,  4.53it/s]"
     ]
    },
    {
     "name": "stderr",
     "output_type": "stream",
     "text": [
      "\r",
      "computing mean accuracies:  25%|██▌       | 25/100 [00:05<00:15,  4.74it/s]"
     ]
    },
    {
     "name": "stderr",
     "output_type": "stream",
     "text": [
      "\r",
      "computing mean accuracies:  26%|██▌       | 26/100 [00:05<00:15,  4.75it/s]"
     ]
    },
    {
     "name": "stderr",
     "output_type": "stream",
     "text": [
      "\r",
      "computing mean accuracies:  27%|██▋       | 27/100 [00:05<00:14,  4.91it/s]"
     ]
    },
    {
     "name": "stderr",
     "output_type": "stream",
     "text": [
      "\r",
      "computing mean accuracies:  28%|██▊       | 28/100 [00:06<00:15,  4.77it/s]"
     ]
    },
    {
     "name": "stderr",
     "output_type": "stream",
     "text": [
      "\r",
      "computing mean accuracies:  29%|██▉       | 29/100 [00:06<00:14,  5.01it/s]"
     ]
    },
    {
     "name": "stderr",
     "output_type": "stream",
     "text": [
      "\r",
      "computing mean accuracies:  30%|███       | 30/100 [00:06<00:14,  4.93it/s]"
     ]
    },
    {
     "name": "stderr",
     "output_type": "stream",
     "text": [
      "\r",
      "computing mean accuracies:  31%|███       | 31/100 [00:06<00:15,  4.42it/s]"
     ]
    },
    {
     "name": "stderr",
     "output_type": "stream",
     "text": [
      "\r",
      "computing mean accuracies:  32%|███▏      | 32/100 [00:06<00:14,  4.69it/s]"
     ]
    },
    {
     "name": "stderr",
     "output_type": "stream",
     "text": [
      "\r",
      "computing mean accuracies:  33%|███▎      | 33/100 [00:07<00:13,  4.81it/s]"
     ]
    },
    {
     "name": "stderr",
     "output_type": "stream",
     "text": [
      "\r",
      "computing mean accuracies:  34%|███▍      | 34/100 [00:07<00:13,  5.00it/s]"
     ]
    },
    {
     "name": "stderr",
     "output_type": "stream",
     "text": [
      "\r",
      "computing mean accuracies:  35%|███▌      | 35/100 [00:07<00:12,  5.16it/s]"
     ]
    },
    {
     "name": "stderr",
     "output_type": "stream",
     "text": [
      "\r",
      "computing mean accuracies:  36%|███▌      | 36/100 [00:07<00:12,  5.09it/s]"
     ]
    },
    {
     "name": "stderr",
     "output_type": "stream",
     "text": [
      "\r",
      "computing mean accuracies:  37%|███▋      | 37/100 [00:07<00:13,  4.64it/s]"
     ]
    },
    {
     "name": "stderr",
     "output_type": "stream",
     "text": [
      "\r",
      "computing mean accuracies:  38%|███▊      | 38/100 [00:08<00:13,  4.61it/s]"
     ]
    },
    {
     "name": "stderr",
     "output_type": "stream",
     "text": [
      "\r",
      "computing mean accuracies:  39%|███▉      | 39/100 [00:08<00:13,  4.67it/s]"
     ]
    },
    {
     "name": "stderr",
     "output_type": "stream",
     "text": [
      "\r",
      "computing mean accuracies:  40%|████      | 40/100 [00:08<00:12,  4.79it/s]"
     ]
    },
    {
     "name": "stderr",
     "output_type": "stream",
     "text": [
      "\r",
      "computing mean accuracies:  41%|████      | 41/100 [00:08<00:12,  4.67it/s]"
     ]
    },
    {
     "name": "stderr",
     "output_type": "stream",
     "text": [
      "\r",
      "computing mean accuracies:  42%|████▏     | 42/100 [00:09<00:12,  4.70it/s]"
     ]
    },
    {
     "name": "stderr",
     "output_type": "stream",
     "text": [
      "\r",
      "computing mean accuracies:  43%|████▎     | 43/100 [00:09<00:12,  4.59it/s]"
     ]
    },
    {
     "name": "stderr",
     "output_type": "stream",
     "text": [
      "\r",
      "computing mean accuracies:  44%|████▍     | 44/100 [00:09<00:12,  4.54it/s]"
     ]
    },
    {
     "name": "stderr",
     "output_type": "stream",
     "text": [
      "\r",
      "computing mean accuracies:  45%|████▌     | 45/100 [00:09<00:11,  4.64it/s]"
     ]
    },
    {
     "name": "stderr",
     "output_type": "stream",
     "text": [
      "\r",
      "computing mean accuracies:  46%|████▌     | 46/100 [00:09<00:11,  4.51it/s]"
     ]
    },
    {
     "name": "stderr",
     "output_type": "stream",
     "text": [
      "\r",
      "computing mean accuracies:  47%|████▋     | 47/100 [00:10<00:11,  4.47it/s]"
     ]
    },
    {
     "name": "stderr",
     "output_type": "stream",
     "text": [
      "\r",
      "computing mean accuracies:  48%|████▊     | 48/100 [00:10<00:11,  4.37it/s]"
     ]
    },
    {
     "name": "stderr",
     "output_type": "stream",
     "text": [
      "\r",
      "computing mean accuracies:  49%|████▉     | 49/100 [00:10<00:11,  4.27it/s]"
     ]
    },
    {
     "name": "stderr",
     "output_type": "stream",
     "text": [
      "\r",
      "computing mean accuracies:  50%|█████     | 50/100 [00:10<00:12,  3.95it/s]"
     ]
    },
    {
     "name": "stderr",
     "output_type": "stream",
     "text": [
      "\r",
      "computing mean accuracies:  51%|█████     | 51/100 [00:11<00:11,  4.17it/s]"
     ]
    },
    {
     "name": "stderr",
     "output_type": "stream",
     "text": [
      "\r",
      "computing mean accuracies:  52%|█████▏    | 52/100 [00:11<00:11,  4.35it/s]"
     ]
    },
    {
     "name": "stderr",
     "output_type": "stream",
     "text": [
      "\r",
      "computing mean accuracies:  53%|█████▎    | 53/100 [00:11<00:10,  4.48it/s]"
     ]
    },
    {
     "name": "stderr",
     "output_type": "stream",
     "text": [
      "\r",
      "computing mean accuracies:  54%|█████▍    | 54/100 [00:11<00:10,  4.38it/s]"
     ]
    },
    {
     "name": "stderr",
     "output_type": "stream",
     "text": [
      "\r",
      "computing mean accuracies:  55%|█████▌    | 55/100 [00:12<00:09,  4.53it/s]"
     ]
    },
    {
     "name": "stderr",
     "output_type": "stream",
     "text": [
      "\r",
      "computing mean accuracies:  56%|█████▌    | 56/100 [00:12<00:09,  4.64it/s]"
     ]
    },
    {
     "name": "stderr",
     "output_type": "stream",
     "text": [
      "\r",
      "computing mean accuracies:  57%|█████▋    | 57/100 [00:12<00:08,  4.88it/s]"
     ]
    },
    {
     "name": "stderr",
     "output_type": "stream",
     "text": [
      "\r",
      "computing mean accuracies:  58%|█████▊    | 58/100 [00:12<00:08,  4.79it/s]"
     ]
    },
    {
     "name": "stderr",
     "output_type": "stream",
     "text": [
      "\r",
      "computing mean accuracies:  59%|█████▉    | 59/100 [00:12<00:08,  4.66it/s]"
     ]
    },
    {
     "name": "stderr",
     "output_type": "stream",
     "text": [
      "\r",
      "computing mean accuracies:  60%|██████    | 60/100 [00:13<00:08,  4.51it/s]"
     ]
    },
    {
     "name": "stderr",
     "output_type": "stream",
     "text": [
      "\r",
      "computing mean accuracies:  61%|██████    | 61/100 [00:13<00:08,  4.63it/s]"
     ]
    },
    {
     "name": "stderr",
     "output_type": "stream",
     "text": [
      "\r",
      "computing mean accuracies:  62%|██████▏   | 62/100 [00:13<00:08,  4.50it/s]"
     ]
    },
    {
     "name": "stderr",
     "output_type": "stream",
     "text": [
      "\r",
      "computing mean accuracies:  63%|██████▎   | 63/100 [00:13<00:08,  4.59it/s]"
     ]
    },
    {
     "name": "stderr",
     "output_type": "stream",
     "text": [
      "\r",
      "computing mean accuracies:  64%|██████▍   | 64/100 [00:13<00:07,  4.59it/s]"
     ]
    },
    {
     "name": "stderr",
     "output_type": "stream",
     "text": [
      "\r",
      "computing mean accuracies:  65%|██████▌   | 65/100 [00:14<00:07,  4.57it/s]"
     ]
    },
    {
     "name": "stderr",
     "output_type": "stream",
     "text": [
      "\r",
      "computing mean accuracies:  66%|██████▌   | 66/100 [00:14<00:07,  4.79it/s]"
     ]
    },
    {
     "name": "stderr",
     "output_type": "stream",
     "text": [
      "\r",
      "computing mean accuracies:  67%|██████▋   | 67/100 [00:14<00:06,  4.72it/s]"
     ]
    },
    {
     "name": "stderr",
     "output_type": "stream",
     "text": [
      "\r",
      "computing mean accuracies:  68%|██████▊   | 68/100 [00:14<00:06,  5.03it/s]"
     ]
    },
    {
     "name": "stderr",
     "output_type": "stream",
     "text": [
      "\r",
      "computing mean accuracies:  69%|██████▉   | 69/100 [00:14<00:06,  5.13it/s]"
     ]
    },
    {
     "name": "stderr",
     "output_type": "stream",
     "text": [
      "\r",
      "computing mean accuracies:  70%|███████   | 70/100 [00:15<00:05,  5.01it/s]"
     ]
    },
    {
     "name": "stderr",
     "output_type": "stream",
     "text": [
      "\r",
      "computing mean accuracies:  71%|███████   | 71/100 [00:15<00:05,  4.90it/s]"
     ]
    },
    {
     "name": "stderr",
     "output_type": "stream",
     "text": [
      "\r",
      "computing mean accuracies:  72%|███████▏  | 72/100 [00:15<00:06,  4.57it/s]"
     ]
    },
    {
     "name": "stderr",
     "output_type": "stream",
     "text": [
      "\r",
      "computing mean accuracies:  73%|███████▎  | 73/100 [00:15<00:05,  4.53it/s]"
     ]
    },
    {
     "name": "stderr",
     "output_type": "stream",
     "text": [
      "\r",
      "computing mean accuracies:  74%|███████▍  | 74/100 [00:16<00:05,  4.86it/s]"
     ]
    },
    {
     "name": "stderr",
     "output_type": "stream",
     "text": [
      "\r",
      "computing mean accuracies:  75%|███████▌  | 75/100 [00:16<00:05,  4.55it/s]"
     ]
    },
    {
     "name": "stderr",
     "output_type": "stream",
     "text": [
      "\r",
      "computing mean accuracies:  76%|███████▌  | 76/100 [00:16<00:05,  4.60it/s]"
     ]
    },
    {
     "name": "stderr",
     "output_type": "stream",
     "text": [
      "\r",
      "computing mean accuracies:  77%|███████▋  | 77/100 [00:16<00:04,  4.70it/s]"
     ]
    },
    {
     "name": "stderr",
     "output_type": "stream",
     "text": [
      "\r",
      "computing mean accuracies:  78%|███████▊  | 78/100 [00:16<00:04,  4.90it/s]"
     ]
    },
    {
     "name": "stderr",
     "output_type": "stream",
     "text": [
      "\r",
      "computing mean accuracies:  79%|███████▉  | 79/100 [00:17<00:04,  4.71it/s]"
     ]
    },
    {
     "name": "stderr",
     "output_type": "stream",
     "text": [
      "\r",
      "computing mean accuracies:  80%|████████  | 80/100 [00:17<00:04,  4.68it/s]"
     ]
    },
    {
     "name": "stderr",
     "output_type": "stream",
     "text": [
      "\r",
      "computing mean accuracies:  81%|████████  | 81/100 [00:17<00:04,  4.31it/s]"
     ]
    },
    {
     "name": "stderr",
     "output_type": "stream",
     "text": [
      "\r",
      "computing mean accuracies:  82%|████████▏ | 82/100 [00:17<00:04,  4.49it/s]"
     ]
    },
    {
     "name": "stderr",
     "output_type": "stream",
     "text": [
      "\r",
      "computing mean accuracies:  83%|████████▎ | 83/100 [00:18<00:03,  4.52it/s]"
     ]
    },
    {
     "name": "stderr",
     "output_type": "stream",
     "text": [
      "\r",
      "computing mean accuracies:  84%|████████▍ | 84/100 [00:18<00:03,  4.63it/s]"
     ]
    },
    {
     "name": "stderr",
     "output_type": "stream",
     "text": [
      "\r",
      "computing mean accuracies:  85%|████████▌ | 85/100 [00:18<00:03,  4.59it/s]"
     ]
    },
    {
     "name": "stderr",
     "output_type": "stream",
     "text": [
      "\r",
      "computing mean accuracies:  86%|████████▌ | 86/100 [00:18<00:03,  4.41it/s]"
     ]
    },
    {
     "name": "stderr",
     "output_type": "stream",
     "text": [
      "\r",
      "computing mean accuracies:  87%|████████▋ | 87/100 [00:18<00:03,  4.24it/s]"
     ]
    },
    {
     "name": "stderr",
     "output_type": "stream",
     "text": [
      "\r",
      "computing mean accuracies:  88%|████████▊ | 88/100 [00:19<00:02,  4.27it/s]"
     ]
    },
    {
     "name": "stderr",
     "output_type": "stream",
     "text": [
      "\r",
      "computing mean accuracies:  89%|████████▉ | 89/100 [00:19<00:02,  4.46it/s]"
     ]
    },
    {
     "name": "stderr",
     "output_type": "stream",
     "text": [
      "\r",
      "computing mean accuracies:  90%|█████████ | 90/100 [00:19<00:02,  4.38it/s]"
     ]
    },
    {
     "name": "stderr",
     "output_type": "stream",
     "text": [
      "\r",
      "computing mean accuracies:  91%|█████████ | 91/100 [00:19<00:01,  4.53it/s]"
     ]
    },
    {
     "name": "stderr",
     "output_type": "stream",
     "text": [
      "\r",
      "computing mean accuracies:  92%|█████████▏| 92/100 [00:20<00:01,  4.60it/s]"
     ]
    },
    {
     "name": "stderr",
     "output_type": "stream",
     "text": [
      "\r",
      "computing mean accuracies:  93%|█████████▎| 93/100 [00:20<00:01,  4.71it/s]"
     ]
    },
    {
     "name": "stderr",
     "output_type": "stream",
     "text": [
      "\r",
      "computing mean accuracies:  94%|█████████▍| 94/100 [00:20<00:01,  4.78it/s]"
     ]
    },
    {
     "name": "stderr",
     "output_type": "stream",
     "text": [
      "\r",
      "computing mean accuracies:  95%|█████████▌| 95/100 [00:20<00:01,  4.82it/s]"
     ]
    },
    {
     "name": "stderr",
     "output_type": "stream",
     "text": [
      "\r",
      "computing mean accuracies:  96%|█████████▌| 96/100 [00:20<00:00,  5.15it/s]"
     ]
    },
    {
     "name": "stderr",
     "output_type": "stream",
     "text": [
      "\r",
      "computing mean accuracies:  97%|█████████▋| 97/100 [00:21<00:00,  4.95it/s]"
     ]
    },
    {
     "name": "stderr",
     "output_type": "stream",
     "text": [
      "\r",
      "computing mean accuracies:  98%|█████████▊| 98/100 [00:21<00:00,  4.87it/s]"
     ]
    },
    {
     "name": "stderr",
     "output_type": "stream",
     "text": [
      "\r",
      "computing mean accuracies:  99%|█████████▉| 99/100 [00:21<00:00,  4.87it/s]"
     ]
    },
    {
     "name": "stderr",
     "output_type": "stream",
     "text": [
      "\r",
      "computing mean accuracies: 100%|██████████| 100/100 [00:21<00:00,  4.70it/s]"
     ]
    },
    {
     "name": "stderr",
     "output_type": "stream",
     "text": [
      "\r",
      "computing mean accuracies: 100%|██████████| 100/100 [00:21<00:00,  4.62it/s]"
     ]
    },
    {
     "name": "stderr",
     "output_type": "stream",
     "text": [
      "\n"
     ]
    },
    {
     "data": {
      "text/plain": [
       "{'eigenvector_train': 0.9755357913669066,\n",
       " 'eigenvector_val': 0.8280291200000001,\n",
       " 'eigenvector_test': 0.6066537914691943,\n",
       " 'hamiltonian_train': 0.998525179856115,\n",
       " 'hamiltonian_val': 0.997906,\n",
       " 'hamiltonian_test': 0.9190876777251185}"
      ]
     },
     "execution_count": 19,
     "metadata": {},
     "output_type": "execute_result"
    }
   ],
   "source": [
    "save_to_disk = False\n",
    "simulation.compute_mean_accuracy(save_to_disk=save_to_disk)\n",
    "simulation.mean_accuracy"
   ]
  },
  {
   "cell_type": "markdown",
   "metadata": {
    "papermill": {
     "duration": 0.048899,
     "end_time": "2020-07-18T21:06:53.719070",
     "exception": false,
     "start_time": "2020-07-18T21:06:53.670171",
     "status": "completed"
    },
    "tags": []
   },
   "source": [
    "#### Computing bootstrap accuracies"
   ]
  },
  {
   "cell_type": "code",
   "execution_count": 20,
   "metadata": {
    "execution": {
     "iopub.execute_input": "2020-07-18T21:06:53.816768Z",
     "iopub.status.busy": "2020-07-18T21:06:53.816453Z",
     "iopub.status.idle": "2020-07-18T21:06:53.829144Z",
     "shell.execute_reply": "2020-07-18T21:06:53.829445Z"
    },
    "papermill": {
     "duration": 0.063229,
     "end_time": "2020-07-18T21:06:53.829512",
     "exception": false,
     "start_time": "2020-07-18T21:06:53.766283",
     "status": "completed"
    },
    "tags": []
   },
   "outputs": [
    {
     "data": {
      "text/plain": [
       "{'hamiltonian_train': 1.0,\n",
       " 'hamiltonian_val': 1.0,\n",
       " 'hamiltonian_test': 0.9478672985781991}"
      ]
     },
     "execution_count": 20,
     "metadata": {},
     "output_type": "execute_result"
    }
   ],
   "source": [
    "save_to_disk = False\n",
    "simulation.compute_bootstrap_accuracy(save_to_disk=save_to_disk)\n",
    "simulation.bootstrap_accuracy"
   ]
  },
  {
   "cell_type": "markdown",
   "metadata": {
    "papermill": {
     "duration": 0.047215,
     "end_time": "2020-07-18T21:06:53.924683",
     "exception": false,
     "start_time": "2020-07-18T21:06:53.877468",
     "status": "completed"
    },
    "tags": []
   },
   "source": [
    "#### Computing mean feature importances"
   ]
  },
  {
   "cell_type": "code",
   "execution_count": 21,
   "metadata": {
    "execution": {
     "iopub.execute_input": "2020-07-18T21:06:54.021048Z",
     "iopub.status.busy": "2020-07-18T21:06:54.020729Z",
     "iopub.status.idle": "2020-07-18T21:06:54.113152Z",
     "shell.execute_reply": "2020-07-18T21:06:54.112833Z"
    },
    "papermill": {
     "duration": 0.141058,
     "end_time": "2020-07-18T21:06:54.113203",
     "exception": false,
     "start_time": "2020-07-18T21:06:53.972145",
     "status": "completed"
    },
    "tags": []
   },
   "outputs": [
    {
     "name": "stderr",
     "output_type": "stream",
     "text": [
      "\r",
      "mean feature importances:   0%|          | 0/100 [00:00<?, ?it/s]"
     ]
    },
    {
     "name": "stderr",
     "output_type": "stream",
     "text": [
      "\r",
      "mean feature importances: 100%|██████████| 100/100 [00:00<00:00, 1544.36it/s]"
     ]
    },
    {
     "name": "stdout",
     "output_type": "stream",
     "text": [
      "Sorted feature importances: \n",
      "\n",
      "\n",
      "[(2, 0.26220656529837366), (1, 0.24952118895756775), (0, 0.24694665805623875), (3, 0.24132558768781986)]\n"
     ]
    },
    {
     "name": "stderr",
     "output_type": "stream",
     "text": [
      "\n"
     ]
    }
   ],
   "source": [
    "import operator\n",
    "save_to_disk = True\n",
    "simulation.compute_mean_feature_importance(save_to_disk=save_to_disk)\n",
    "### Sorted feature importances from highest to lowest\n",
    "sorted_feature_importances = sorted(simulation.feature_importance.items(), key=operator.itemgetter(1),reverse=True)\n",
    "print(\"Sorted feature importances: \")\n",
    "print(\"\\n\")\n",
    "print(sorted_feature_importances)"
   ]
  },
  {
   "cell_type": "markdown",
   "metadata": {
    "papermill": {
     "duration": 0.048537,
     "end_time": "2020-07-18T21:06:54.209729",
     "exception": false,
     "start_time": "2020-07-18T21:06:54.161192",
     "status": "completed"
    },
    "tags": []
   },
   "source": [
    "#### Plotting feature importances"
   ]
  },
  {
   "cell_type": "code",
   "execution_count": 22,
   "metadata": {
    "execution": {
     "iopub.execute_input": "2020-07-18T21:06:54.307785Z",
     "iopub.status.busy": "2020-07-18T21:06:54.307473Z",
     "iopub.status.idle": "2020-07-18T21:06:54.553521Z",
     "shell.execute_reply": "2020-07-18T21:06:54.553200Z"
    },
    "papermill": {
     "duration": 0.295346,
     "end_time": "2020-07-18T21:06:54.553572",
     "exception": false,
     "start_time": "2020-07-18T21:06:54.258226",
     "status": "completed"
    },
    "tags": []
   },
   "outputs": [
    {
     "data": {
      "image/png": "[encoded data removed]",
      "text/plain": [
       "<Figure size 864x864 with 1 Axes>"
      ]
     },
     "metadata": {
      "needs_background": "light"
     },
     "output_type": "display_data"
    }
   ],
   "source": [
    "simulation.plot_feature_importances(**plot_feature_importances_params)"
   ]
  },
  {
   "cell_type": "markdown",
   "metadata": {
    "papermill": {
     "duration": 0.049873,
     "end_time": "2020-07-18T21:06:54.652143",
     "exception": false,
     "start_time": "2020-07-18T21:06:54.602270",
     "status": "completed"
    },
    "tags": []
   },
   "source": [
    "#### Plotting cumulative feature importances"
   ]
  },
  {
   "cell_type": "code",
   "execution_count": 23,
   "metadata": {
    "execution": {
     "iopub.execute_input": "2020-07-18T21:06:54.753628Z",
     "iopub.status.busy": "2020-07-18T21:06:54.753314Z",
     "iopub.status.idle": "2020-07-18T21:06:54.762138Z",
     "shell.execute_reply": "2020-07-18T21:06:54.761794Z"
    },
    "papermill": {
     "duration": 0.059344,
     "end_time": "2020-07-18T21:06:54.762189",
     "exception": false,
     "start_time": "2020-07-18T21:06:54.702845",
     "status": "completed"
    },
    "tags": []
   },
   "outputs": [],
   "source": [
    "#if simulation.fourier_mode is None:\n",
    "#    plot_cumulative_feature_importances_params"
   ]
  },
  {
   "cell_type": "code",
   "execution_count": 24,
   "metadata": {
    "execution": {
     "iopub.execute_input": "2020-07-18T21:06:54.863504Z",
     "iopub.status.busy": "2020-07-18T21:06:54.863191Z",
     "iopub.status.idle": "2020-07-18T21:06:55.148188Z",
     "shell.execute_reply": "2020-07-18T21:06:55.147860Z"
    },
    "papermill": {
     "duration": 0.335616,
     "end_time": "2020-07-18T21:06:55.148239",
     "exception": false,
     "start_time": "2020-07-18T21:06:54.812623",
     "status": "completed"
    },
    "tags": []
   },
   "outputs": [
    {
     "data": {
      "image/png": "[encoded data removed]",
      "text/plain": [
       "<Figure size 864x864 with 1 Axes>"
      ]
     },
     "metadata": {
      "needs_background": "light"
     },
     "output_type": "display_data"
    }
   ],
   "source": [
    "simulation.plot_cumulative_feature_importances(**plot_cumulative_feature_importances_params)\n"
   ]
  },
  {
   "cell_type": "markdown",
   "metadata": {
    "papermill": {
     "duration": 0.052551,
     "end_time": "2020-07-18T21:06:55.250500",
     "exception": false,
     "start_time": "2020-07-18T21:06:55.197949",
     "status": "completed"
    },
    "tags": []
   },
   "source": [
    "####  Fourier transform of feature importances"
   ]
  },
  {
   "cell_type": "code",
   "execution_count": 25,
   "metadata": {
    "execution": {
     "iopub.execute_input": "2020-07-18T21:06:55.353681Z",
     "iopub.status.busy": "2020-07-18T21:06:55.353369Z",
     "iopub.status.idle": "2020-07-18T21:06:55.361896Z",
     "shell.execute_reply": "2020-07-18T21:06:55.361566Z"
    },
    "papermill": {
     "duration": 0.061395,
     "end_time": "2020-07-18T21:06:55.361948",
     "exception": false,
     "start_time": "2020-07-18T21:06:55.300553",
     "status": "completed"
    },
    "tags": []
   },
   "outputs": [],
   "source": [
    "#%load_ext autoreload\n",
    "#%autoreload 2\n",
    "#from simulation_results import *\n",
    "#import template_parameters"
   ]
  },
  {
   "cell_type": "code",
   "execution_count": 26,
   "metadata": {
    "execution": {
     "iopub.execute_input": "2020-07-18T21:06:55.467404Z",
     "iopub.status.busy": "2020-07-18T21:06:55.467080Z",
     "iopub.status.idle": "2020-07-18T21:06:55.476447Z",
     "shell.execute_reply": "2020-07-18T21:06:55.476115Z"
    },
    "papermill": {
     "duration": 0.062378,
     "end_time": "2020-07-18T21:06:55.476497",
     "exception": false,
     "start_time": "2020-07-18T21:06:55.414119",
     "status": "completed"
    },
    "tags": []
   },
   "outputs": [
    {
     "name": "stdout",
     "output_type": "stream",
     "text": [
      "Sorted fourier feature importances: \n",
      "\n",
      "\n",
      "[(0, 0.9997683537859829), (2, 8.306869419652332e-05), (1, 7.428875991032685e-05), (3, 7.428875991032685e-05)]\n"
     ]
    }
   ],
   "source": [
    "import operator\n",
    "#fft_type=False\n",
    "save_to_disk = False\n",
    "simulation.compute_fourier_feature_importance( save_to_disk=False)\n",
    "### Sorted fourier feature importances from highest to lowest\n",
    "sorted_fourier_feature_importances = sorted(simulation.fourier_feature_importance.items(), key=operator.itemgetter(1),reverse=True)\n",
    "print(\"Sorted fourier feature importances: \")\n",
    "print(\"\\n\")\n",
    "print(sorted_fourier_feature_importances)"
   ]
  },
  {
   "cell_type": "code",
   "execution_count": 27,
   "metadata": {
    "execution": {
     "iopub.execute_input": "2020-07-18T21:06:55.582642Z",
     "iopub.status.busy": "2020-07-18T21:06:55.582192Z",
     "iopub.status.idle": "2020-07-18T21:06:55.591546Z",
     "shell.execute_reply": "2020-07-18T21:06:55.591798Z"
    },
    "papermill": {
     "duration": 0.063874,
     "end_time": "2020-07-18T21:06:55.591867",
     "exception": false,
     "start_time": "2020-07-18T21:06:55.527993",
     "status": "completed"
    },
    "tags": []
   },
   "outputs": [
    {
     "data": {
      "text/plain": [
       "1.0"
      ]
     },
     "execution_count": 27,
     "metadata": {},
     "output_type": "execute_result"
    }
   ],
   "source": [
    "np.sum(list(simulation.fourier_feature_importance.values()))"
   ]
  },
  {
   "cell_type": "code",
   "execution_count": 28,
   "metadata": {
    "execution": {
     "iopub.execute_input": "2020-07-18T21:06:55.694563Z",
     "iopub.status.busy": "2020-07-18T21:06:55.694250Z",
     "iopub.status.idle": "2020-07-18T21:06:55.704149Z",
     "shell.execute_reply": "2020-07-18T21:06:55.704453Z"
    },
    "papermill": {
     "duration": 0.062515,
     "end_time": "2020-07-18T21:06:55.704529",
     "exception": false,
     "start_time": "2020-07-18T21:06:55.642014",
     "status": "completed"
    },
    "tags": []
   },
   "outputs": [
    {
     "data": {
      "text/plain": [
       "4"
      ]
     },
     "execution_count": 28,
     "metadata": {},
     "output_type": "execute_result"
    }
   ],
   "source": [
    "len(simulation.fourier_feature_importance.values())"
   ]
  },
  {
   "cell_type": "markdown",
   "metadata": {
    "papermill": {
     "duration": 0.051277,
     "end_time": "2020-07-18T21:06:55.806522",
     "exception": false,
     "start_time": "2020-07-18T21:06:55.755245",
     "status": "completed"
    },
    "tags": []
   },
   "source": [
    "#### Plotting Fourier feature importance"
   ]
  },
  {
   "cell_type": "code",
   "execution_count": 29,
   "metadata": {
    "execution": {
     "iopub.execute_input": "2020-07-18T21:06:55.912550Z",
     "iopub.status.busy": "2020-07-18T21:06:55.912232Z",
     "iopub.status.idle": "2020-07-18T21:06:56.145896Z",
     "shell.execute_reply": "2020-07-18T21:06:56.145576Z"
    },
    "papermill": {
     "duration": 0.287311,
     "end_time": "2020-07-18T21:06:56.145945",
     "exception": false,
     "start_time": "2020-07-18T21:06:55.858634",
     "status": "completed"
    },
    "tags": []
   },
   "outputs": [
    {
     "data": {
      "image/png": "[encoded data removed]",
      "text/plain": [
       "<Figure size 864x864 with 1 Axes>"
      ]
     },
     "metadata": {
      "needs_background": "light"
     },
     "output_type": "display_data"
    }
   ],
   "source": [
    "simulation.plot_feature_importances(**plot_fourier_feature_importances_params)"
   ]
  },
  {
   "cell_type": "markdown",
   "metadata": {
    "papermill": {
     "duration": 0.051911,
     "end_time": "2020-07-18T21:06:56.248846",
     "exception": false,
     "start_time": "2020-07-18T21:06:56.196935",
     "status": "completed"
    },
    "tags": []
   },
   "source": [
    "#### Plotting cumulative Fourier feature importances"
   ]
  },
  {
   "cell_type": "code",
   "execution_count": 30,
   "metadata": {
    "execution": {
     "iopub.execute_input": "2020-07-18T21:06:56.353929Z",
     "iopub.status.busy": "2020-07-18T21:06:56.353610Z",
     "iopub.status.idle": "2020-07-18T21:06:56.601748Z",
     "shell.execute_reply": "2020-07-18T21:06:56.601427Z"
    },
    "papermill": {
     "duration": 0.301131,
     "end_time": "2020-07-18T21:06:56.601797",
     "exception": false,
     "start_time": "2020-07-18T21:06:56.300666",
     "status": "completed"
    },
    "tags": []
   },
   "outputs": [
    {
     "data": {
      "image/png": "[encoded data removed]",
      "text/plain": [
       "<Figure size 864x864 with 1 Axes>"
      ]
     },
     "metadata": {
      "needs_background": "light"
     },
     "output_type": "display_data"
    }
   ],
   "source": [
    "simulation.plot_cumulative_feature_importances(**plot_cumulative_fourier_feature_importances_params)"
   ]
  },
  {
   "cell_type": "markdown",
   "metadata": {
    "papermill": {
     "duration": 0.051627,
     "end_time": "2020-07-18T21:06:56.705489",
     "exception": false,
     "start_time": "2020-07-18T21:06:56.653862",
     "status": "completed"
    },
    "tags": []
   },
   "source": [
    "#### Computing lattice and reciprocal lattice statistics "
   ]
  },
  {
   "cell_type": "code",
   "execution_count": 31,
   "metadata": {
    "execution": {
     "iopub.execute_input": "2020-07-18T21:06:56.812203Z",
     "iopub.status.busy": "2020-07-18T21:06:56.811885Z",
     "iopub.status.idle": "2020-07-18T21:06:56.820859Z",
     "shell.execute_reply": "2020-07-18T21:06:56.821156Z"
    },
    "papermill": {
     "duration": 0.063023,
     "end_time": "2020-07-18T21:06:56.821220",
     "exception": false,
     "start_time": "2020-07-18T21:06:56.758197",
     "status": "completed"
    },
    "tags": []
   },
   "outputs": [
    {
     "name": "stdout",
     "output_type": "stream",
     "text": [
      "real lattice statistics: \n",
      "{'mean': 0.37447777065444365, 'var': 0.07665875799451796, 'std': 0.27687318034529446, 'shannon': 1.3858296524428613}\n",
      "reciprocal lattice statistics: \n",
      "{'mean': 0.0001158231070085885, 'var': 6.718423350096798e-05, 'std': 0.008196598898382668, 'shannon': 0.0024247280938192286}\n"
     ]
    }
   ],
   "source": [
    "save_to_disk = False\n",
    "simulation.compute_feature_importance_statistics(save_to_disk)\n",
    "print(\"real lattice statistics: \")\n",
    "print(simulation.feature_importance_statistics)\n",
    "print(\"reciprocal lattice statistics: \")\n",
    "print(simulation.fourier_feature_importance_statistics)"
   ]
  },
  {
   "cell_type": "code",
   "execution_count": 32,
   "metadata": {
    "execution": {
     "iopub.execute_input": "2020-07-18T21:06:56.931184Z",
     "iopub.status.busy": "2020-07-18T21:06:56.930874Z",
     "iopub.status.idle": "2020-07-18T21:06:56.940033Z",
     "shell.execute_reply": "2020-07-18T21:06:56.940418Z"
    },
    "papermill": {
     "duration": 0.065296,
     "end_time": "2020-07-18T21:06:56.940503",
     "exception": false,
     "start_time": "2020-07-18T21:06:56.875207",
     "status": "completed"
    },
    "tags": []
   },
   "outputs": [
    {
     "data": {
      "text/plain": [
       "0.30685281944005466"
      ]
     },
     "execution_count": 32,
     "metadata": {},
     "output_type": "execute_result"
    }
   ],
   "source": [
    "np.log(np.e/2)"
   ]
  },
  {
   "cell_type": "code",
   "execution_count": 33,
   "metadata": {
    "execution": {
     "iopub.execute_input": "2020-07-18T21:06:57.049443Z",
     "iopub.status.busy": "2020-07-18T21:06:57.049131Z",
     "iopub.status.idle": "2020-07-18T21:06:57.058994Z",
     "shell.execute_reply": "2020-07-18T21:06:57.058584Z"
    },
    "papermill": {
     "duration": 0.065239,
     "end_time": "2020-07-18T21:06:57.059065",
     "exception": false,
     "start_time": "2020-07-18T21:06:56.993826",
     "status": "completed"
    },
    "tags": []
   },
   "outputs": [
    {
     "data": {
      "text/plain": [
       "0.002269418405009946"
      ]
     },
     "execution_count": 33,
     "metadata": {},
     "output_type": "execute_result"
    }
   ],
   "source": [
    "simulation.feature_importance_statistics[\"std\"]*simulation.fourier_feature_importance_statistics[\"std\"]"
   ]
  },
  {
   "cell_type": "code",
   "execution_count": 34,
   "metadata": {
    "execution": {
     "iopub.execute_input": "2020-07-18T21:06:57.167476Z",
     "iopub.status.busy": "2020-07-18T21:06:57.166976Z",
     "iopub.status.idle": "2020-07-18T21:06:57.176882Z",
     "shell.execute_reply": "2020-07-18T21:06:57.176539Z"
    },
    "papermill": {
     "duration": 0.06459,
     "end_time": "2020-07-18T21:06:57.176936",
     "exception": false,
     "start_time": "2020-07-18T21:06:57.112346",
     "status": "completed"
    },
    "tags": []
   },
   "outputs": [
    {
     "data": {
      "text/plain": [
       "0.07957747154594767"
      ]
     },
     "execution_count": 34,
     "metadata": {},
     "output_type": "execute_result"
    }
   ],
   "source": [
    "1/(4*np.pi)"
   ]
  },
  {
   "cell_type": "code",
   "execution_count": null,
   "metadata": {
    "papermill": {
     "duration": 0.054035,
     "end_time": "2020-07-18T21:06:57.284203",
     "exception": false,
     "start_time": "2020-07-18T21:06:57.230168",
     "status": "completed"
    },
    "tags": []
   },
   "outputs": [],
   "source": []
  }
 ],
 "metadata": {
  "celltoolbar": "Tags",
  "kernelspec": {
   "display_name": "ml_top_phases",
   "language": "python",
   "name": "ml_top_phases"
  },
  "language_info": {
   "codemirror_mode": {
    "name": "ipython",
    "version": 3
   },
   "file_extension": ".py",
   "mimetype": "text/x-python",
   "name": "python",
   "nbconvert_exporter": "python",
   "pygments_lexer": "ipython3",
   "version": "3.6.10"
  },
  "papermill": {
   "duration": 34.078715,
   "end_time": "2020-07-18T21:06:58.389264",
   "environment_variables": {},
   "exception": null,
   "input_path": "0_results_template.ipynb",
   "output_path": "zzz_ssh1_dct_best_04_wavevector_sites_results_notebook.ipynb",
   "parameters": {
    "experiment_name": "0",
    "figures_dir": "/home/rio/ml_topological_phases_in_real_space/07_paper/ssh1/dct_best_04_wavevector_sites",
    "imshow_winding_grid_params": {
     "colorbar_params": {
      "extend": "neither",
      "labelsize": 24,
      "mappable": null,
      "pad": 0.1,
      "shrink": 0.8,
      "ticks": [
       0,
       0.2,
       0.4,
       0.6,
       0.8,
       1.0
      ]
     },
     "fig_params": {
      "figsize": [
       12,
       12
      ]
     },
     "imshow_params": {
      "alpha": null,
      "aspect": "equal",
      "cmap": "bwr_r",
      "extent": [
       -2,
       2,
       -2,
       2
      ],
      "origin": "lower",
      "vmax": 1,
      "vmin": 0
     },
     "savefig_params": {
      "fname": "/home/rio/ml_topological_phases_in_real_space/07_paper/ssh1/dct_best_04_wavevector_sites/imshow_winding_grid_winding_{}_{}.png"
     },
     "tight_params": {},
     "title_params": {},
     "winding": 1,
     "xlabel_params": {
      "fontsize": 48,
      "xlabel": "$t_2$"
     },
     "xlim_params": {
      "left": -2,
      "right": 2
     },
     "xticks_params": {
      "fontsize": 24
     },
     "ylabel_params": {
      "fontsize": 48,
      "ylabel": "$t_1$"
     },
     "ylim_params": {
      "bottom": -2,
      "top": 2
     },
     "yticks_params": {
      "fontsize": 24
     }
    },
    "load_hamiltonian_summary": false,
    "merge_imshow_winding_grids_params": {
     "colorbar_params": {},
     "fig_params": {
      "figsize": [
       12,
       12
      ]
     },
     "savefig_params": {
      "fname": "/home/rio/ml_topological_phases_in_real_space/07_paper/ssh1/dct_best_04_wavevector_sites/merge_imshow_winding_grids_second_{}.png"
     },
     "tight_params": {},
     "title_params": {},
     "winding_params": {
      "0": {
       "alpha": null,
       "aspect": "equal",
       "cmap": "Reds_alpha",
       "extent": [
        -2,
        2,
        -2,
        2
       ],
       "origin": "lower",
       "vmax": 1,
       "vmin": 0
      },
      "1": {
       "alpha": null,
       "aspect": "equal",
       "cmap": "Blues_alpha",
       "extent": [
        -2,
        2,
        -2,
        2
       ],
       "origin": "lower",
       "vmax": 1,
       "vmin": 0
      }
     },
     "xlabel_params": {
      "fontsize": 48,
      "xlabel": "$t_2$"
     },
     "xlim_params": {
      "left": -2,
      "right": 2
     },
     "xticks_params": {
      "fontsize": 24
     },
     "ylabel_params": {
      "fontsize": 48,
      "ylabel": "$t_1$"
     },
     "ylim_params": {
      "bottom": -2,
      "top": 2
     },
     "yticks_params": {
      "fontsize": 24
     }
    },
    "n_experiments": null,
    "pcolormesh_prediction_grid_params": {
     "fig_params": {
      "figsize": [
       6,
       6
      ]
     },
     "legend_params": {
      "fontsize": 16,
      "framealpha": 0.8,
      "loc": "upper right"
     },
     "pcolormesh_params": {
      "alpha": 0.5,
      "cmap": "ssh1"
     },
     "savefig_params": {
      "fname": "/home/rio/ml_topological_phases_in_real_space/07_paper/ssh1/dct_best_04_wavevector_sites/pcolormesh_prediction_grid_experiment_0.png"
     },
     "tight_params": {},
     "title_params": {},
     "winding_params": {
      "0": {
       "color": "red",
       "label": 0,
       "marker": "o",
       "s": 10
      },
      "1": {
       "color": "blue",
       "label": 1,
       "marker": "o",
       "s": 10
      }
     },
     "xlabel_params": {
      "fontsize": 24,
      "xlabel": "$t_2$"
     },
     "xlim_params": {
      "left": -2,
      "right": 2
     },
     "xticks_params": {
      "fontsize": 14
     },
     "ylabel_params": {
      "fontsize": 24,
      "ylabel": "$t_1$"
     },
     "ylim_params": {
      "bottom": -2,
      "top": 2
     },
     "yticks_params": {
      "fontsize": 14
     }
    },
    "plot_cumulative_feature_importances_params": {
     "fig_params": {
      "figsize": [
       12,
       12
      ]
     },
     "hist_precision": 1000,
     "n_features": null,
     "plot": "bar",
     "plot_params": {
      "color": "indianred",
      "width": 0.7
     },
     "savefig_params": {
      "fname": "/home/rio/ml_topological_phases_in_real_space/07_paper/ssh1/dct_best_04_wavevector_sites/plot_cumulative_feature_importances.png"
     },
     "tight_params": {},
     "title_params": {
      "fontsize": 24,
      "label": "Cumulative information entropy signature (real space) - SSH 1"
     },
     "xlabel_params": {
      "fontsize": 24,
      "xlabel": "lattice site"
     },
     "xlim_params": {},
     "xticks_params": {
      "fontsize": 24,
      "ticks": [
       0,
       11,
       22,
       33,
       44,
       55,
       66,
       77,
       88,
       99
      ]
     },
     "ylabel_params": {
      "fontsize": 24,
      "ylabel": "cumulative reduction in information entropy (%)"
     },
     "ylim_params": {},
     "yticks_params": {
      "fontsize": 24
     }
    },
    "plot_cumulative_fourier_feature_importances_params": {
     "fig_params": {
      "figsize": [
       12,
       12
      ]
     },
     "fourier": true,
     "hist_precision": 1000,
     "n_features": null,
     "plot": "bar",
     "plot_params": {
      "color": "palevioletred",
      "width": 0.7
     },
     "savefig_params": {
      "fname": "/home/rio/ml_topological_phases_in_real_space/07_paper/ssh1/dct_best_04_wavevector_sites/plot_cumulative_fourier_feature_importances.png"
     },
     "tight_params": {},
     "title_params": {
      "fontsize": 24,
      "label": "Cumulative information entropy signature (wavevector space) - SSH 1"
     },
     "xlabel_params": {
      "fontsize": 24,
      "xlabel": "reciprocal lattice site"
     },
     "xlim_params": {},
     "xticks_params": {
      "fontsize": 24,
      "ticks": [
       0,
       11,
       22,
       33,
       44,
       55,
       66,
       77,
       88,
       99
      ]
     },
     "ylabel_params": {
      "fontsize": 24,
      "ylabel": "cumulative reduction in information entropy (%)"
     },
     "ylim_params": {},
     "yticks_params": {
      "fontsize": 24
     }
    },
    "plot_feature_importances_params": {
     "fig_params": {
      "figsize": [
       12,
       12
      ]
     },
     "hist_precision": 1000,
     "n_features": null,
     "plot": "bar",
     "plot_params": {
      "color": "indianred",
      "width": 0.7
     },
     "savefig_params": {
      "fname": "/home/rio/ml_topological_phases_in_real_space/07_paper/ssh1/dct_best_04_wavevector_sites/plot_feature_importances.png"
     },
     "tight_params": {},
     "title_params": {
      "fontsize": 24,
      "label": "Information entropy signature (real space) - SSH 1"
     },
     "xlabel_params": {
      "fontsize": 24,
      "xlabel": "lattice site"
     },
     "xlim_params": {},
     "xticks_params": {
      "fontsize": 24,
      "ticks": [
       0,
       11,
       22,
       33,
       44,
       55,
       66,
       77,
       88,
       99
      ]
     },
     "ylabel_params": {
      "fontsize": 24,
      "ylabel": "reduction in information entropy (%)"
     },
     "ylim_params": {},
     "yticks_params": {
      "fontsize": 24
     }
    },
    "plot_fourier_feature_importances_params": {
     "fig_params": {
      "figsize": [
       12,
       12
      ]
     },
     "fourier": true,
     "hist_precision": 1000,
     "n_features": null,
     "plot": "bar",
     "plot_params": {
      "color": "palevioletred",
      "width": 0.7
     },
     "savefig_params": {
      "fname": "/home/rio/ml_topological_phases_in_real_space/07_paper/ssh1/dct_best_04_wavevector_sites/plot_fourier_feature_importances.png"
     },
     "tight_params": {},
     "title_params": {
      "fontsize": 24,
      "label": "Information entropy signature (wavevector space) - SSH 1"
     },
     "xlabel_params": {
      "fontsize": 24,
      "xlabel": "reciprocal lattice site"
     },
     "xlim_params": {},
     "xticks_params": {
      "fontsize": 24,
      "ticks": [
       0,
       11,
       22,
       33,
       44,
       55,
       66,
       77,
       88,
       99
      ]
     },
     "ylabel_params": {
      "fontsize": 24,
      "ylabel": "reduction in information entropy (%)"
     },
     "ylim_params": {},
     "yticks_params": {
      "fontsize": 24
     }
    },
    "scatter_train_val_test_params": {
     "fig_params": {
      "figsize": [
       6,
       6
      ]
     },
     "legend_params": {
      "fontsize": 16,
      "framealpha": 0.8,
      "loc": "upper right"
     },
     "savefig_params": {
      "fname": "/home/rio/ml_topological_phases_in_real_space/07_paper/ssh1/dct_best_04_wavevector_sites/scatter_train_val_test_experiment_0.png"
     },
     "test_params": {
      "alpha": 0.5,
      "color": "royalblue",
      "label": "test",
      "marker": "s",
      "s": 64
     },
     "tight_params": {},
     "title_params": {},
     "train_params": {
      "alpha": 1,
      "color": "green",
      "label": "train",
      "marker": "o",
      "s": 3
     },
     "val_params": {
      "alpha": 0.2,
      "color": "salmon",
      "label": "val",
      "marker": "s",
      "s": 64
     },
     "xlabel_params": {
      "fontsize": 24,
      "xlabel": "$t_2$"
     },
     "xlim_params": {
      "left": -2,
      "right": 2
     },
     "xticks_params": {
      "fontsize": 14
     },
     "ylabel_params": {
      "fontsize": 24,
      "ylabel": "$t_1$"
     },
     "ylim_params": {
      "bottom": -2,
      "top": 2
     },
     "yticks_params": {
      "fontsize": 14
     }
    },
    "scatter_winding_train_params": {
     "fig_params": {
      "figsize": [
       6,
       6
      ]
     },
     "legend_params": {
      "fontsize": 16,
      "framealpha": 0.8,
      "loc": "upper right"
     },
     "savefig_params": {
      "fname": "/home/rio/ml_topological_phases_in_real_space/07_paper/ssh1/dct_best_04_wavevector_sites/scatter_winding_train_experiment_0.png"
     },
     "tight_params": {},
     "title_params": {},
     "winding_params": {
      "0": {
       "color": "red",
       "label": 0,
       "marker": "o",
       "s": 10
      },
      "1": {
       "color": "blue",
       "label": 1,
       "marker": "o",
       "s": 10
      }
     },
     "xlabel_params": {
      "fontsize": 24,
      "xlabel": "$t_2$"
     },
     "xlim_params": {
      "left": -2,
      "right": 2
     },
     "xticks_params": {
      "fontsize": 14
     },
     "ylabel_params": {
      "fontsize": 24,
      "ylabel": "$t_1$"
     },
     "ylim_params": {
      "bottom": -2,
      "top": 2
     },
     "yticks_params": {
      "fontsize": 14
     }
    },
    "simulation_dir": "/home/rio/ssh_simulations/ssh1/periodic_100_6561/dct_best_04_wavevector_sites",
    "winding_cmap_dict": {
     "0": "Reds",
     "1": "Blues"
    }
   },
   "start_time": "2020-07-18T21:06:24.310549",
   "version": "2.1.0"
  }
 },
 "nbformat": 4,
 "nbformat_minor": 2
}