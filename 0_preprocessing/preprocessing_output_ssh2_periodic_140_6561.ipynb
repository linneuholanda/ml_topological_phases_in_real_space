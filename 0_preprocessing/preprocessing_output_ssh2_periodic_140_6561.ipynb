{
 "cells": [
  {
   "cell_type": "markdown",
   "metadata": {
    "papermill": {
     "duration": 0.034025,
     "end_time": "2020-04-06T15:24:45.579451",
     "exception": false,
     "start_time": "2020-04-06T15:24:45.545426",
     "status": "completed"
    },
    "tags": []
   },
   "source": [
    "# Generate csv files \n"
   ]
  },
  {
   "cell_type": "markdown",
   "metadata": {
    "papermill": {
     "duration": 0.009964,
     "end_time": "2020-04-06T15:24:45.606679",
     "exception": false,
     "start_time": "2020-04-06T15:24:45.596715",
     "status": "completed"
    },
    "tags": []
   },
   "source": [
    "This notebook generates .csv files from a directory containing .dat files with Hamiltonian data. Each .dat file is assumed to be named as `\"H_t1_t2_winding.dat\"`.  "
   ]
  },
  {
   "cell_type": "code",
   "execution_count": 1,
   "metadata": {
    "execution": {
     "iopub.execute_input": "2020-04-06T15:24:45.625454Z",
     "iopub.status.busy": "2020-04-06T15:24:45.625085Z",
     "iopub.status.idle": "2020-04-06T15:24:45.829086Z",
     "shell.execute_reply": "2020-04-06T15:24:45.829372Z"
    },
    "papermill": {
     "duration": 0.215061,
     "end_time": "2020-04-06T15:24:45.829451",
     "exception": false,
     "start_time": "2020-04-06T15:24:45.614390",
     "status": "completed"
    },
    "tags": []
   },
   "outputs": [],
   "source": [
    "#from IPython.core.display import HTML\n",
    "#HTML(\"<script>Jupyter.notebook.kernel.restart()</script>\")\n",
    "%load_ext autoreload\n",
    "%autoreload 2\n",
    "\n",
    "from preprocessing import *"
   ]
  },
  {
   "cell_type": "markdown",
   "metadata": {
    "papermill": {
     "duration": 0.005983,
     "end_time": "2020-04-06T15:24:45.842182",
     "exception": false,
     "start_time": "2020-04-06T15:24:45.836199",
     "status": "completed"
    },
    "tags": []
   },
   "source": [
    "### Set the parameters below carefully"
   ]
  },
  {
   "cell_type": "code",
   "execution_count": 2,
   "metadata": {
    "execution": {
     "iopub.execute_input": "2020-04-06T15:24:45.856381Z",
     "iopub.status.busy": "2020-04-06T15:24:45.856066Z",
     "iopub.status.idle": "2020-04-06T15:24:45.864314Z",
     "shell.execute_reply": "2020-04-06T15:24:45.863955Z"
    },
    "papermill": {
     "duration": 0.016034,
     "end_time": "2020-04-06T15:24:45.864374",
     "exception": false,
     "start_time": "2020-04-06T15:24:45.848340",
     "status": "completed"
    },
    "tags": [
     "parameters"
    ]
   },
   "outputs": [
    {
     "name": "stdout",
     "output_type": "stream",
     "text": [
      "CPU times: user 3 µs, sys: 1e+03 ns, total: 4 µs\n",
      "Wall time: 6.44 µs\n"
     ]
    }
   ],
   "source": [
    "%%time\n",
    "#grid_folder = \"/home/linneu/ssh_grids/ssh1/periodic_100_6561\"\n",
    "grid_folder = \"/home/rio/ssh_grids/ssh1/periodic_100_6561\"\n",
    "allowed_windings = [0,1]\n",
    "epsilon = 0.01\n",
    "#csv_name = \"/home/linneu/ssh_csvs/ssh1/periodic_100_6561.csv\"\n",
    "csv_dir = \"/home/rio/ssh_csvs/ssh1\"\n",
    "csv_name = \"periodic_100_6561\" \n"
   ]
  },
  {
   "cell_type": "code",
   "execution_count": 3,
   "metadata": {
    "execution": {
     "iopub.execute_input": "2020-04-06T15:24:45.889530Z",
     "iopub.status.busy": "2020-04-06T15:24:45.889194Z",
     "iopub.status.idle": "2020-04-06T15:24:45.955747Z",
     "shell.execute_reply": "2020-04-06T15:24:45.953994Z"
    },
    "papermill": {
     "duration": 0.077649,
     "end_time": "2020-04-06T15:24:45.956005",
     "exception": false,
     "start_time": "2020-04-06T15:24:45.878356",
     "status": "completed"
    },
    "tags": [
     "injected-parameters"
    ]
   },
   "outputs": [],
   "source": [
    "# Parameters\n",
    "allowed_windings = [-1, 0, 1, 2]\n",
    "epsilon = 0.01\n",
    "csv_dir = \"/home/rio/ssh_csvs/ssh2\"\n",
    "grid_folder = \"/home/rio/ssh_grids/ssh2/periodic_140_6561\"\n",
    "csv_name = \"periodic_140_6561.csv\"\n"
   ]
  },
  {
   "cell_type": "code",
   "execution_count": 4,
   "metadata": {
    "execution": {
     "iopub.execute_input": "2020-04-06T15:24:46.004591Z",
     "iopub.status.busy": "2020-04-06T15:24:46.004127Z",
     "iopub.status.idle": "2020-04-06T15:28:02.010295Z",
     "shell.execute_reply": "2020-04-06T15:28:02.010611Z"
    },
    "papermill": {
     "duration": 196.021986,
     "end_time": "2020-04-06T15:28:02.010678",
     "exception": false,
     "start_time": "2020-04-06T15:24:45.988692",
     "status": "completed"
    },
    "tags": []
   },
   "outputs": [
    {
     "name": "stderr",
     "output_type": "stream",
     "text": [
      "\r",
      "loading hamiltonians:   0%|          | 0/6561 [00:00<?, ?it/s]"
     ]
    },
    {
     "name": "stderr",
     "output_type": "stream",
     "text": [
      "\r",
      "loading hamiltonians:   0%|          | 4/6561 [00:00<03:10, 34.33it/s]"
     ]
    },
    {
     "name": "stderr",
     "output_type": "stream",
     "text": [
      "\r",
      "loading hamiltonians:   0%|          | 6/6561 [00:00<07:28, 14.61it/s]"
     ]
    },
    {
     "name": "stderr",
     "output_type": "stream",
     "text": [
      "\r",
      "loading hamiltonians:   0%|          | 13/6561 [00:00<05:43, 19.06it/s]"
     ]
    },
    {
     "name": "stderr",
     "output_type": "stream",
     "text": [
      "\r",
      "loading hamiltonians:   0%|          | 20/6561 [00:00<04:30, 24.16it/s]"
     ]
    },
    {
     "name": "stderr",
     "output_type": "stream",
     "text": [
      "\r",
      "loading hamiltonians:   0%|          | 28/6561 [00:00<03:37, 30.09it/s]"
     ]
    },
    {
     "name": "stderr",
     "output_type": "stream",
     "text": [
      "\r",
      "loading hamiltonians:   1%|          | 36/6561 [00:00<02:58, 36.61it/s]"
     ]
    },
    {
     "name": "stderr",
     "output_type": "stream",
     "text": [
      "\r",
      "loading hamiltonians:   1%|          | 45/6561 [00:00<02:28, 43.78it/s]"
     ]
    },
    {
     "name": "stderr",
     "output_type": "stream",
     "text": [
      "\r",
      "loading hamiltonians:   1%|          | 55/6561 [00:01<02:05, 51.97it/s]"
     ]
    },
    {
     "name": "stderr",
     "output_type": "stream",
     "text": [
      "\r",
      "loading hamiltonians:   1%|          | 63/6561 [00:01<01:57, 55.21it/s]"
     ]
    },
    {
     "name": "stderr",
     "output_type": "stream",
     "text": [
      "\r",
      "loading hamiltonians:   1%|          | 71/6561 [00:01<01:48, 59.58it/s]"
     ]
    },
    {
     "name": "stderr",
     "output_type": "stream",
     "text": [
      "\r",
      "loading hamiltonians:   1%|          | 79/6561 [00:01<01:46, 60.70it/s]"
     ]
    },
    {
     "name": "stderr",
     "output_type": "stream",
     "text": [
      "\r",
      "loading hamiltonians:   1%|▏         | 87/6561 [00:01<01:41, 64.06it/s]"
     ]
    },
    {
     "name": "stderr",
     "output_type": "stream",
     "text": [
      "\r",
      "loading hamiltonians:   1%|▏         | 95/6561 [00:01<01:36, 66.88it/s]"
     ]
    },
    {
     "name": "stderr",
     "output_type": "stream",
     "text": [
      "\r",
      "loading hamiltonians:   2%|▏         | 103/6561 [00:01<01:39, 65.05it/s]"
     ]
    },
    {
     "name": "stderr",
     "output_type": "stream",
     "text": [
      "\r",
      "loading hamiltonians:   2%|▏         | 110/6561 [00:01<01:37, 66.31it/s]"
     ]
    },
    {
     "name": "stderr",
     "output_type": "stream",
     "text": [
      "\r",
      "loading hamiltonians:   2%|▏         | 119/6561 [00:02<01:30, 70.91it/s]"
     ]
    },
    {
     "name": "stderr",
     "output_type": "stream",
     "text": [
      "\r",
      "loading hamiltonians:   2%|▏         | 127/6561 [00:02<01:28, 72.53it/s]"
     ]
    },
    {
     "name": "stderr",
     "output_type": "stream",
     "text": [
      "\r",
      "loading hamiltonians:   2%|▏         | 135/6561 [00:02<01:35, 67.29it/s]"
     ]
    },
    {
     "name": "stderr",
     "output_type": "stream",
     "text": [
      "\r",
      "loading hamiltonians:   2%|▏         | 147/6561 [00:02<01:22, 77.29it/s]"
     ]
    },
    {
     "name": "stderr",
     "output_type": "stream",
     "text": [
      "\r",
      "loading hamiltonians:   2%|▏         | 156/6561 [00:02<01:22, 77.80it/s]"
     ]
    },
    {
     "name": "stderr",
     "output_type": "stream",
     "text": [
      "\r",
      "loading hamiltonians:   3%|▎         | 168/6561 [00:02<01:13, 86.71it/s]"
     ]
    },
    {
     "name": "stderr",
     "output_type": "stream",
     "text": [
      "\r",
      "loading hamiltonians:   3%|▎         | 178/6561 [00:02<01:17, 82.15it/s]"
     ]
    },
    {
     "name": "stderr",
     "output_type": "stream",
     "text": [
      "\r",
      "loading hamiltonians:   3%|▎         | 187/6561 [00:02<01:16, 83.29it/s]"
     ]
    },
    {
     "name": "stderr",
     "output_type": "stream",
     "text": [
      "\r",
      "loading hamiltonians:   3%|▎         | 196/6561 [00:02<01:19, 80.31it/s]"
     ]
    },
    {
     "name": "stderr",
     "output_type": "stream",
     "text": [
      "\r",
      "loading hamiltonians:   3%|▎         | 206/6561 [00:03<01:16, 83.17it/s]"
     ]
    },
    {
     "name": "stderr",
     "output_type": "stream",
     "text": [
      "\r",
      "loading hamiltonians:   3%|▎         | 217/6561 [00:03<01:11, 89.32it/s]"
     ]
    },
    {
     "name": "stderr",
     "output_type": "stream",
     "text": [
      "\r",
      "loading hamiltonians:   3%|▎         | 227/6561 [00:03<01:14, 85.56it/s]"
     ]
    },
    {
     "name": "stderr",
     "output_type": "stream",
     "text": [
      "\r",
      "loading hamiltonians:   4%|▎         | 237/6561 [00:03<01:11, 88.80it/s]"
     ]
    },
    {
     "name": "stderr",
     "output_type": "stream",
     "text": [
      "\r",
      "loading hamiltonians:   4%|▍         | 247/6561 [00:03<01:14, 85.27it/s]"
     ]
    },
    {
     "name": "stderr",
     "output_type": "stream",
     "text": [
      "\r",
      "loading hamiltonians:   4%|▍         | 256/6561 [00:03<01:20, 78.81it/s]"
     ]
    },
    {
     "name": "stderr",
     "output_type": "stream",
     "text": [
      "\r",
      "loading hamiltonians:   4%|▍         | 268/6561 [00:03<01:12, 86.32it/s]"
     ]
    },
    {
     "name": "stderr",
     "output_type": "stream",
     "text": [
      "\r",
      "loading hamiltonians:   4%|▍         | 280/6561 [00:03<01:07, 92.71it/s]"
     ]
    },
    {
     "name": "stderr",
     "output_type": "stream",
     "text": [
      "\r",
      "loading hamiltonians:   4%|▍         | 290/6561 [00:03<01:07, 93.48it/s]"
     ]
    },
    {
     "name": "stderr",
     "output_type": "stream",
     "text": [
      "\r",
      "loading hamiltonians:   5%|▍         | 301/6561 [00:04<01:06, 94.10it/s]"
     ]
    },
    {
     "name": "stderr",
     "output_type": "stream",
     "text": [
      "\r",
      "loading hamiltonians:   5%|▍         | 311/6561 [00:04<01:13, 85.01it/s]"
     ]
    },
    {
     "name": "stderr",
     "output_type": "stream",
     "text": [
      "\r",
      "loading hamiltonians:   5%|▍         | 320/6561 [00:04<01:20, 77.40it/s]"
     ]
    },
    {
     "name": "stderr",
     "output_type": "stream",
     "text": [
      "\r",
      "loading hamiltonians:   5%|▌         | 329/6561 [00:04<01:18, 79.14it/s]"
     ]
    },
    {
     "name": "stderr",
     "output_type": "stream",
     "text": [
      "\r",
      "loading hamiltonians:   5%|▌         | 338/6561 [00:04<01:18, 79.33it/s]"
     ]
    },
    {
     "name": "stderr",
     "output_type": "stream",
     "text": [
      "\r",
      "loading hamiltonians:   5%|▌         | 347/6561 [00:04<01:18, 78.79it/s]"
     ]
    },
    {
     "name": "stderr",
     "output_type": "stream",
     "text": [
      "\r",
      "loading hamiltonians:   5%|▌         | 356/6561 [00:04<01:21, 75.72it/s]"
     ]
    },
    {
     "name": "stderr",
     "output_type": "stream",
     "text": [
      "\r",
      "loading hamiltonians:   6%|▌         | 364/6561 [00:04<01:23, 74.31it/s]"
     ]
    },
    {
     "name": "stderr",
     "output_type": "stream",
     "text": [
      "\r",
      "loading hamiltonians:   6%|▌         | 373/6561 [00:05<01:21, 76.32it/s]"
     ]
    },
    {
     "name": "stderr",
     "output_type": "stream",
     "text": [
      "\r",
      "loading hamiltonians:   6%|▌         | 381/6561 [00:05<01:21, 75.94it/s]"
     ]
    },
    {
     "name": "stderr",
     "output_type": "stream",
     "text": [
      "\r",
      "loading hamiltonians:   6%|▌         | 389/6561 [00:05<01:20, 77.06it/s]"
     ]
    },
    {
     "name": "stderr",
     "output_type": "stream",
     "text": [
      "\r",
      "loading hamiltonians:   6%|▌         | 397/6561 [00:05<01:23, 74.05it/s]"
     ]
    },
    {
     "name": "stderr",
     "output_type": "stream",
     "text": [
      "\r",
      "loading hamiltonians:   6%|▌         | 405/6561 [00:05<01:40, 61.40it/s]"
     ]
    },
    {
     "name": "stderr",
     "output_type": "stream",
     "text": [
      "\r",
      "loading hamiltonians:   6%|▋         | 413/6561 [00:05<01:33, 65.92it/s]"
     ]
    },
    {
     "name": "stderr",
     "output_type": "stream",
     "text": [
      "\r",
      "loading hamiltonians:   6%|▋         | 421/6561 [00:05<01:31, 67.31it/s]"
     ]
    },
    {
     "name": "stderr",
     "output_type": "stream",
     "text": [
      "\r",
      "loading hamiltonians:   7%|▋         | 428/6561 [00:05<01:32, 66.38it/s]"
     ]
    },
    {
     "name": "stderr",
     "output_type": "stream",
     "text": [
      "\r",
      "loading hamiltonians:   7%|▋         | 436/6561 [00:05<01:28, 69.11it/s]"
     ]
    },
    {
     "name": "stderr",
     "output_type": "stream",
     "text": [
      "\r",
      "loading hamiltonians:   7%|▋         | 448/6561 [00:06<01:17, 79.13it/s]"
     ]
    },
    {
     "name": "stderr",
     "output_type": "stream",
     "text": [
      "\r",
      "loading hamiltonians:   7%|▋         | 458/6561 [00:06<01:12, 84.27it/s]"
     ]
    },
    {
     "name": "stderr",
     "output_type": "stream",
     "text": [
      "\r",
      "loading hamiltonians:   7%|▋         | 468/6561 [00:06<01:10, 86.80it/s]"
     ]
    },
    {
     "name": "stderr",
     "output_type": "stream",
     "text": [
      "\r",
      "loading hamiltonians:   7%|▋         | 478/6561 [00:06<01:10, 85.95it/s]"
     ]
    },
    {
     "name": "stderr",
     "output_type": "stream",
     "text": [
      "\r",
      "loading hamiltonians:   7%|▋         | 487/6561 [00:06<01:10, 85.66it/s]"
     ]
    },
    {
     "name": "stderr",
     "output_type": "stream",
     "text": [
      "\r",
      "loading hamiltonians:   8%|▊         | 496/6561 [00:06<01:16, 79.03it/s]"
     ]
    },
    {
     "name": "stderr",
     "output_type": "stream",
     "text": [
      "\r",
      "loading hamiltonians:   8%|▊         | 505/6561 [00:06<01:20, 74.77it/s]"
     ]
    },
    {
     "name": "stderr",
     "output_type": "stream",
     "text": [
      "\r",
      "loading hamiltonians:   8%|▊         | 513/6561 [00:06<01:22, 72.98it/s]"
     ]
    },
    {
     "name": "stderr",
     "output_type": "stream",
     "text": [
      "\r",
      "loading hamiltonians:   8%|▊         | 524/6561 [00:07<01:15, 79.93it/s]"
     ]
    },
    {
     "name": "stderr",
     "output_type": "stream",
     "text": [
      "\r",
      "loading hamiltonians:   8%|▊         | 535/6561 [00:07<01:09, 86.43it/s]"
     ]
    },
    {
     "name": "stderr",
     "output_type": "stream",
     "text": [
      "\r",
      "loading hamiltonians:   8%|▊         | 545/6561 [00:07<01:06, 90.03it/s]"
     ]
    },
    {
     "name": "stderr",
     "output_type": "stream",
     "text": [
      "\r",
      "loading hamiltonians:   8%|▊         | 555/6561 [00:07<01:08, 87.20it/s]"
     ]
    },
    {
     "name": "stderr",
     "output_type": "stream",
     "text": [
      "\r",
      "loading hamiltonians:   9%|▊         | 564/6561 [00:07<01:41, 58.80it/s]"
     ]
    },
    {
     "name": "stderr",
     "output_type": "stream",
     "text": [
      "\r",
      "loading hamiltonians:   9%|▊         | 573/6561 [00:07<01:33, 64.10it/s]"
     ]
    },
    {
     "name": "stderr",
     "output_type": "stream",
     "text": [
      "\r",
      "loading hamiltonians:   9%|▉         | 583/6561 [00:07<01:24, 71.05it/s]"
     ]
    },
    {
     "name": "stderr",
     "output_type": "stream",
     "text": [
      "\r",
      "loading hamiltonians:   9%|▉         | 592/6561 [00:07<01:23, 71.72it/s]"
     ]
    },
    {
     "name": "stderr",
     "output_type": "stream",
     "text": [
      "\r",
      "loading hamiltonians:   9%|▉         | 602/6561 [00:08<01:17, 77.10it/s]"
     ]
    },
    {
     "name": "stderr",
     "output_type": "stream",
     "text": [
      "\r",
      "loading hamiltonians:   9%|▉         | 611/6561 [00:08<01:19, 75.26it/s]"
     ]
    },
    {
     "name": "stderr",
     "output_type": "stream",
     "text": [
      "\r",
      "loading hamiltonians:   9%|▉         | 620/6561 [00:08<01:21, 72.52it/s]"
     ]
    },
    {
     "name": "stderr",
     "output_type": "stream",
     "text": [
      "\r",
      "loading hamiltonians:  10%|▉         | 631/6561 [00:08<01:13, 80.49it/s]"
     ]
    },
    {
     "name": "stderr",
     "output_type": "stream",
     "text": [
      "\r",
      "loading hamiltonians:  10%|▉         | 640/6561 [00:08<01:16, 77.48it/s]"
     ]
    },
    {
     "name": "stderr",
     "output_type": "stream",
     "text": [
      "\r",
      "loading hamiltonians:  10%|▉         | 651/6561 [00:08<01:10, 84.21it/s]"
     ]
    },
    {
     "name": "stderr",
     "output_type": "stream",
     "text": [
      "\r",
      "loading hamiltonians:  10%|█         | 661/6561 [00:08<01:07, 87.52it/s]"
     ]
    },
    {
     "name": "stderr",
     "output_type": "stream",
     "text": [
      "\r",
      "loading hamiltonians:  10%|█         | 671/6561 [00:08<01:07, 86.67it/s]"
     ]
    },
    {
     "name": "stderr",
     "output_type": "stream",
     "text": [
      "\r",
      "loading hamiltonians:  10%|█         | 680/6561 [00:08<01:08, 85.46it/s]"
     ]
    },
    {
     "name": "stderr",
     "output_type": "stream",
     "text": [
      "\r",
      "loading hamiltonians:  11%|█         | 692/6561 [00:09<01:03, 91.75it/s]"
     ]
    },
    {
     "name": "stderr",
     "output_type": "stream",
     "text": [
      "\r",
      "loading hamiltonians:  11%|█         | 703/6561 [00:09<01:00, 96.19it/s]"
     ]
    },
    {
     "name": "stderr",
     "output_type": "stream",
     "text": [
      "\r",
      "loading hamiltonians:  11%|█         | 713/6561 [00:09<01:05, 89.82it/s]"
     ]
    },
    {
     "name": "stderr",
     "output_type": "stream",
     "text": [
      "\r",
      "loading hamiltonians:  11%|█         | 724/6561 [00:09<01:03, 91.74it/s]"
     ]
    },
    {
     "name": "stderr",
     "output_type": "stream",
     "text": [
      "\r",
      "loading hamiltonians:  11%|█         | 735/6561 [00:09<01:01, 94.40it/s]"
     ]
    },
    {
     "name": "stderr",
     "output_type": "stream",
     "text": [
      "\r",
      "loading hamiltonians:  11%|█▏        | 745/6561 [00:09<01:05, 88.36it/s]"
     ]
    },
    {
     "name": "stderr",
     "output_type": "stream",
     "text": [
      "\r",
      "loading hamiltonians:  12%|█▏        | 755/6561 [00:09<01:11, 81.70it/s]"
     ]
    },
    {
     "name": "stderr",
     "output_type": "stream",
     "text": [
      "\r",
      "loading hamiltonians:  12%|█▏        | 764/6561 [00:09<01:11, 80.61it/s]"
     ]
    },
    {
     "name": "stderr",
     "output_type": "stream",
     "text": [
      "\r",
      "loading hamiltonians:  12%|█▏        | 774/6561 [00:10<01:08, 85.05it/s]"
     ]
    },
    {
     "name": "stderr",
     "output_type": "stream",
     "text": [
      "\r",
      "loading hamiltonians:  12%|█▏        | 783/6561 [00:10<01:09, 82.94it/s]"
     ]
    },
    {
     "name": "stderr",
     "output_type": "stream",
     "text": [
      "\r",
      "loading hamiltonians:  12%|█▏        | 792/6561 [00:10<01:10, 81.49it/s]"
     ]
    },
    {
     "name": "stderr",
     "output_type": "stream",
     "text": [
      "\r",
      "loading hamiltonians:  12%|█▏        | 801/6561 [00:10<01:15, 76.30it/s]"
     ]
    },
    {
     "name": "stderr",
     "output_type": "stream",
     "text": [
      "\r",
      "loading hamiltonians:  12%|█▏        | 810/6561 [00:10<01:28, 65.07it/s]"
     ]
    },
    {
     "name": "stderr",
     "output_type": "stream",
     "text": [
      "\r",
      "loading hamiltonians:  12%|█▏        | 817/6561 [00:10<01:43, 55.74it/s]"
     ]
    },
    {
     "name": "stderr",
     "output_type": "stream",
     "text": [
      "\r",
      "loading hamiltonians:  13%|█▎        | 826/6561 [00:10<01:33, 61.10it/s]"
     ]
    },
    {
     "name": "stderr",
     "output_type": "stream",
     "text": [
      "\r",
      "loading hamiltonians:  13%|█▎        | 833/6561 [00:10<01:32, 62.06it/s]"
     ]
    },
    {
     "name": "stderr",
     "output_type": "stream",
     "text": [
      "\r",
      "loading hamiltonians:  13%|█▎        | 842/6561 [00:11<01:24, 67.58it/s]"
     ]
    },
    {
     "name": "stderr",
     "output_type": "stream",
     "text": [
      "\r",
      "loading hamiltonians:  13%|█▎        | 851/6561 [00:11<01:21, 70.30it/s]"
     ]
    },
    {
     "name": "stderr",
     "output_type": "stream",
     "text": [
      "\r",
      "loading hamiltonians:  13%|█▎        | 860/6561 [00:11<01:23, 68.44it/s]"
     ]
    },
    {
     "name": "stderr",
     "output_type": "stream",
     "text": [
      "\r",
      "loading hamiltonians:  13%|█▎        | 868/6561 [00:11<01:21, 69.54it/s]"
     ]
    },
    {
     "name": "stderr",
     "output_type": "stream",
     "text": [
      "\r",
      "loading hamiltonians:  13%|█▎        | 876/6561 [00:11<01:19, 71.58it/s]"
     ]
    },
    {
     "name": "stderr",
     "output_type": "stream",
     "text": [
      "\r",
      "loading hamiltonians:  13%|█▎        | 884/6561 [00:11<01:18, 71.89it/s]"
     ]
    },
    {
     "name": "stderr",
     "output_type": "stream",
     "text": [
      "\r",
      "loading hamiltonians:  14%|█▎        | 892/6561 [00:11<01:21, 69.50it/s]"
     ]
    },
    {
     "name": "stderr",
     "output_type": "stream",
     "text": [
      "\r",
      "loading hamiltonians:  14%|█▎        | 900/6561 [00:11<01:20, 70.70it/s]"
     ]
    },
    {
     "name": "stderr",
     "output_type": "stream",
     "text": [
      "\r",
      "loading hamiltonians:  14%|█▍        | 908/6561 [00:11<01:19, 71.00it/s]"
     ]
    },
    {
     "name": "stderr",
     "output_type": "stream",
     "text": [
      "\r",
      "loading hamiltonians:  14%|█▍        | 919/6561 [00:12<01:11, 79.32it/s]"
     ]
    },
    {
     "name": "stderr",
     "output_type": "stream",
     "text": [
      "\r",
      "loading hamiltonians:  14%|█▍        | 928/6561 [00:12<01:15, 74.87it/s]"
     ]
    },
    {
     "name": "stderr",
     "output_type": "stream",
     "text": [
      "\r",
      "loading hamiltonians:  14%|█▍        | 936/6561 [00:12<01:16, 73.81it/s]"
     ]
    },
    {
     "name": "stderr",
     "output_type": "stream",
     "text": [
      "\r",
      "loading hamiltonians:  14%|█▍        | 944/6561 [00:12<01:17, 72.31it/s]"
     ]
    },
    {
     "name": "stderr",
     "output_type": "stream",
     "text": [
      "\r",
      "loading hamiltonians:  15%|█▍        | 952/6561 [00:12<01:17, 72.45it/s]"
     ]
    },
    {
     "name": "stderr",
     "output_type": "stream",
     "text": [
      "\r",
      "loading hamiltonians:  15%|█▍        | 960/6561 [00:12<01:19, 70.38it/s]"
     ]
    },
    {
     "name": "stderr",
     "output_type": "stream",
     "text": [
      "\r",
      "loading hamiltonians:  15%|█▍        | 968/6561 [00:12<01:19, 70.19it/s]"
     ]
    },
    {
     "name": "stderr",
     "output_type": "stream",
     "text": [
      "\r",
      "loading hamiltonians:  15%|█▍        | 976/6561 [00:12<01:18, 70.82it/s]"
     ]
    },
    {
     "name": "stderr",
     "output_type": "stream",
     "text": [
      "\r",
      "loading hamiltonians:  15%|█▍        | 984/6561 [00:13<01:16, 72.68it/s]"
     ]
    },
    {
     "name": "stderr",
     "output_type": "stream",
     "text": [
      "\r",
      "loading hamiltonians:  15%|█▌        | 994/6561 [00:13<01:11, 77.97it/s]"
     ]
    },
    {
     "name": "stderr",
     "output_type": "stream",
     "text": [
      "\r",
      "loading hamiltonians:  15%|█▌        | 1002/6561 [00:13<01:15, 73.25it/s]"
     ]
    },
    {
     "name": "stderr",
     "output_type": "stream",
     "text": [
      "\r",
      "loading hamiltonians:  15%|█▌        | 1010/6561 [00:13<01:19, 69.54it/s]"
     ]
    },
    {
     "name": "stderr",
     "output_type": "stream",
     "text": [
      "\r",
      "loading hamiltonians:  16%|█▌        | 1019/6561 [00:13<01:15, 73.80it/s]"
     ]
    },
    {
     "name": "stderr",
     "output_type": "stream",
     "text": [
      "\r",
      "loading hamiltonians:  16%|█▌        | 1027/6561 [00:13<01:14, 73.87it/s]"
     ]
    },
    {
     "name": "stderr",
     "output_type": "stream",
     "text": [
      "\r",
      "loading hamiltonians:  16%|█▌        | 1035/6561 [00:13<01:17, 71.13it/s]"
     ]
    },
    {
     "name": "stderr",
     "output_type": "stream",
     "text": [
      "\r",
      "loading hamiltonians:  16%|█▌        | 1043/6561 [00:13<01:21, 67.56it/s]"
     ]
    },
    {
     "name": "stderr",
     "output_type": "stream",
     "text": [
      "\r",
      "loading hamiltonians:  16%|█▌        | 1052/6561 [00:13<01:17, 71.53it/s]"
     ]
    },
    {
     "name": "stderr",
     "output_type": "stream",
     "text": [
      "\r",
      "loading hamiltonians:  16%|█▌        | 1060/6561 [00:14<01:16, 71.86it/s]"
     ]
    },
    {
     "name": "stderr",
     "output_type": "stream",
     "text": [
      "\r",
      "loading hamiltonians:  16%|█▋        | 1068/6561 [00:14<01:15, 72.94it/s]"
     ]
    },
    {
     "name": "stderr",
     "output_type": "stream",
     "text": [
      "\r",
      "loading hamiltonians:  16%|█▋        | 1078/6561 [00:14<01:09, 79.10it/s]"
     ]
    },
    {
     "name": "stderr",
     "output_type": "stream",
     "text": [
      "\r",
      "loading hamiltonians:  17%|█▋        | 1087/6561 [00:14<01:09, 78.46it/s]"
     ]
    },
    {
     "name": "stderr",
     "output_type": "stream",
     "text": [
      "\r",
      "loading hamiltonians:  17%|█▋        | 1095/6561 [00:14<01:10, 77.79it/s]"
     ]
    },
    {
     "name": "stderr",
     "output_type": "stream",
     "text": [
      "\r",
      "loading hamiltonians:  17%|█▋        | 1103/6561 [00:14<01:15, 72.44it/s]"
     ]
    },
    {
     "name": "stderr",
     "output_type": "stream",
     "text": [
      "\r",
      "loading hamiltonians:  17%|█▋        | 1111/6561 [00:14<01:18, 69.55it/s]"
     ]
    },
    {
     "name": "stderr",
     "output_type": "stream",
     "text": [
      "\r",
      "loading hamiltonians:  17%|█▋        | 1119/6561 [00:14<01:18, 69.55it/s]"
     ]
    },
    {
     "name": "stderr",
     "output_type": "stream",
     "text": [
      "\r",
      "loading hamiltonians:  17%|█▋        | 1130/6561 [00:14<01:10, 77.41it/s]"
     ]
    },
    {
     "name": "stderr",
     "output_type": "stream",
     "text": [
      "\r",
      "loading hamiltonians:  17%|█▋        | 1142/6561 [00:15<01:03, 85.17it/s]"
     ]
    },
    {
     "name": "stderr",
     "output_type": "stream",
     "text": [
      "\r",
      "loading hamiltonians:  18%|█▊        | 1153/6561 [00:15<01:01, 88.23it/s]"
     ]
    },
    {
     "name": "stderr",
     "output_type": "stream",
     "text": [
      "\r",
      "loading hamiltonians:  18%|█▊        | 1163/6561 [00:15<01:11, 75.42it/s]"
     ]
    },
    {
     "name": "stderr",
     "output_type": "stream",
     "text": [
      "\r",
      "loading hamiltonians:  18%|█▊        | 1172/6561 [00:15<01:10, 76.14it/s]"
     ]
    },
    {
     "name": "stderr",
     "output_type": "stream",
     "text": [
      "\r",
      "loading hamiltonians:  18%|█▊        | 1181/6561 [00:15<01:43, 52.11it/s]"
     ]
    },
    {
     "name": "stderr",
     "output_type": "stream",
     "text": [
      "\r",
      "loading hamiltonians:  18%|█▊        | 1189/6561 [00:15<01:33, 57.64it/s]"
     ]
    },
    {
     "name": "stderr",
     "output_type": "stream",
     "text": [
      "\r",
      "loading hamiltonians:  18%|█▊        | 1197/6561 [00:15<01:27, 61.29it/s]"
     ]
    },
    {
     "name": "stderr",
     "output_type": "stream",
     "text": [
      "\r",
      "loading hamiltonians:  18%|█▊        | 1207/6561 [00:16<01:17, 69.18it/s]"
     ]
    },
    {
     "name": "stderr",
     "output_type": "stream",
     "text": [
      "\r",
      "loading hamiltonians:  19%|█▊        | 1215/6561 [00:16<01:15, 70.60it/s]"
     ]
    },
    {
     "name": "stderr",
     "output_type": "stream",
     "text": [
      "\r",
      "loading hamiltonians:  19%|█▊        | 1223/6561 [00:16<01:20, 66.45it/s]"
     ]
    },
    {
     "name": "stderr",
     "output_type": "stream",
     "text": [
      "\r",
      "loading hamiltonians:  19%|█▉        | 1231/6561 [00:16<02:20, 37.83it/s]"
     ]
    },
    {
     "name": "stderr",
     "output_type": "stream",
     "text": [
      "\r",
      "loading hamiltonians:  19%|█▉        | 1239/6561 [00:16<01:59, 44.40it/s]"
     ]
    },
    {
     "name": "stderr",
     "output_type": "stream",
     "text": [
      "\r",
      "loading hamiltonians:  19%|█▉        | 1249/6561 [00:16<01:41, 52.52it/s]"
     ]
    },
    {
     "name": "stderr",
     "output_type": "stream",
     "text": [
      "\r",
      "loading hamiltonians:  19%|█▉        | 1258/6561 [00:17<01:29, 59.46it/s]"
     ]
    },
    {
     "name": "stderr",
     "output_type": "stream",
     "text": [
      "\r",
      "loading hamiltonians:  19%|█▉        | 1267/6561 [00:17<01:22, 64.27it/s]"
     ]
    },
    {
     "name": "stderr",
     "output_type": "stream",
     "text": [
      "\r",
      "loading hamiltonians:  19%|█▉        | 1275/6561 [00:17<01:19, 66.59it/s]"
     ]
    },
    {
     "name": "stderr",
     "output_type": "stream",
     "text": [
      "\r",
      "loading hamiltonians:  20%|█▉        | 1285/6561 [00:17<01:14, 70.87it/s]"
     ]
    },
    {
     "name": "stderr",
     "output_type": "stream",
     "text": [
      "\r",
      "loading hamiltonians:  20%|█▉        | 1295/6561 [00:17<01:09, 75.99it/s]"
     ]
    },
    {
     "name": "stderr",
     "output_type": "stream",
     "text": [
      "\r",
      "loading hamiltonians:  20%|█▉        | 1304/6561 [00:17<01:11, 73.55it/s]"
     ]
    },
    {
     "name": "stderr",
     "output_type": "stream",
     "text": [
      "\r",
      "loading hamiltonians:  20%|██        | 1313/6561 [00:17<01:09, 74.99it/s]"
     ]
    },
    {
     "name": "stderr",
     "output_type": "stream",
     "text": [
      "\r",
      "loading hamiltonians:  20%|██        | 1321/6561 [00:17<01:10, 74.47it/s]"
     ]
    },
    {
     "name": "stderr",
     "output_type": "stream",
     "text": [
      "\r",
      "loading hamiltonians:  20%|██        | 1333/6561 [00:18<01:02, 83.30it/s]"
     ]
    },
    {
     "name": "stderr",
     "output_type": "stream",
     "text": [
      "\r",
      "loading hamiltonians:  20%|██        | 1345/6561 [00:18<01:00, 86.65it/s]"
     ]
    },
    {
     "name": "stderr",
     "output_type": "stream",
     "text": [
      "\r",
      "loading hamiltonians:  21%|██        | 1355/6561 [00:18<00:58, 89.66it/s]"
     ]
    },
    {
     "name": "stderr",
     "output_type": "stream",
     "text": [
      "\r",
      "loading hamiltonians:  21%|██        | 1365/6561 [00:18<00:59, 86.85it/s]"
     ]
    },
    {
     "name": "stderr",
     "output_type": "stream",
     "text": [
      "\r",
      "loading hamiltonians:  21%|██        | 1375/6561 [00:18<00:57, 90.20it/s]"
     ]
    },
    {
     "name": "stderr",
     "output_type": "stream",
     "text": [
      "\r",
      "loading hamiltonians:  21%|██        | 1385/6561 [00:18<00:56, 92.28it/s]"
     ]
    },
    {
     "name": "stderr",
     "output_type": "stream",
     "text": [
      "\r",
      "loading hamiltonians:  21%|██▏       | 1395/6561 [00:18<00:56, 90.79it/s]"
     ]
    },
    {
     "name": "stderr",
     "output_type": "stream",
     "text": [
      "\r",
      "loading hamiltonians:  21%|██▏       | 1405/6561 [00:18<00:59, 86.04it/s]"
     ]
    },
    {
     "name": "stderr",
     "output_type": "stream",
     "text": [
      "\r",
      "loading hamiltonians:  22%|██▏       | 1415/6561 [00:18<00:58, 88.44it/s]"
     ]
    },
    {
     "name": "stderr",
     "output_type": "stream",
     "text": [
      "\r",
      "loading hamiltonians:  22%|██▏       | 1424/6561 [00:19<00:59, 86.77it/s]"
     ]
    },
    {
     "name": "stderr",
     "output_type": "stream",
     "text": [
      "\r",
      "loading hamiltonians:  22%|██▏       | 1435/6561 [00:19<00:56, 90.30it/s]"
     ]
    },
    {
     "name": "stderr",
     "output_type": "stream",
     "text": [
      "\r",
      "loading hamiltonians:  22%|██▏       | 1445/6561 [00:19<00:57, 89.07it/s]"
     ]
    },
    {
     "name": "stderr",
     "output_type": "stream",
     "text": [
      "\r",
      "loading hamiltonians:  22%|██▏       | 1454/6561 [00:19<00:58, 87.40it/s]"
     ]
    },
    {
     "name": "stderr",
     "output_type": "stream",
     "text": [
      "\r",
      "loading hamiltonians:  22%|██▏       | 1463/6561 [00:19<00:57, 88.05it/s]"
     ]
    },
    {
     "name": "stderr",
     "output_type": "stream",
     "text": [
      "\r",
      "loading hamiltonians:  22%|██▏       | 1472/6561 [00:19<00:59, 85.00it/s]"
     ]
    },
    {
     "name": "stderr",
     "output_type": "stream",
     "text": [
      "\r",
      "loading hamiltonians:  23%|██▎       | 1481/6561 [00:19<00:59, 85.50it/s]"
     ]
    },
    {
     "name": "stderr",
     "output_type": "stream",
     "text": [
      "\r",
      "loading hamiltonians:  23%|██▎       | 1490/6561 [00:19<01:04, 79.23it/s]"
     ]
    },
    {
     "name": "stderr",
     "output_type": "stream",
     "text": [
      "\r",
      "loading hamiltonians:  23%|██▎       | 1499/6561 [00:19<01:05, 77.87it/s]"
     ]
    },
    {
     "name": "stderr",
     "output_type": "stream",
     "text": [
      "\r",
      "loading hamiltonians:  23%|██▎       | 1510/6561 [00:20<00:59, 84.98it/s]"
     ]
    },
    {
     "name": "stderr",
     "output_type": "stream",
     "text": [
      "\r",
      "loading hamiltonians:  23%|██▎       | 1521/6561 [00:20<00:56, 89.56it/s]"
     ]
    },
    {
     "name": "stderr",
     "output_type": "stream",
     "text": [
      "\r",
      "loading hamiltonians:  23%|██▎       | 1531/6561 [00:20<00:59, 84.66it/s]"
     ]
    },
    {
     "name": "stderr",
     "output_type": "stream",
     "text": [
      "\r",
      "loading hamiltonians:  23%|██▎       | 1541/6561 [00:20<00:57, 87.66it/s]"
     ]
    },
    {
     "name": "stderr",
     "output_type": "stream",
     "text": [
      "\r",
      "loading hamiltonians:  24%|██▎       | 1550/6561 [00:20<01:01, 81.25it/s]"
     ]
    },
    {
     "name": "stderr",
     "output_type": "stream",
     "text": [
      "\r",
      "loading hamiltonians:  24%|██▍       | 1559/6561 [00:20<01:01, 81.27it/s]"
     ]
    },
    {
     "name": "stderr",
     "output_type": "stream",
     "text": [
      "\r",
      "loading hamiltonians:  24%|██▍       | 1568/6561 [00:20<01:18, 63.35it/s]"
     ]
    },
    {
     "name": "stderr",
     "output_type": "stream",
     "text": [
      "\r",
      "loading hamiltonians:  24%|██▍       | 1576/6561 [00:20<01:16, 64.99it/s]"
     ]
    },
    {
     "name": "stderr",
     "output_type": "stream",
     "text": [
      "\r",
      "loading hamiltonians:  24%|██▍       | 1584/6561 [00:21<01:14, 67.20it/s]"
     ]
    },
    {
     "name": "stderr",
     "output_type": "stream",
     "text": [
      "\r",
      "loading hamiltonians:  24%|██▍       | 1593/6561 [00:21<01:08, 72.72it/s]"
     ]
    },
    {
     "name": "stderr",
     "output_type": "stream",
     "text": [
      "\r",
      "loading hamiltonians:  24%|██▍       | 1602/6561 [00:21<01:05, 75.59it/s]"
     ]
    },
    {
     "name": "stderr",
     "output_type": "stream",
     "text": [
      "\r",
      "loading hamiltonians:  25%|██▍       | 1610/6561 [00:21<01:06, 73.98it/s]"
     ]
    },
    {
     "name": "stderr",
     "output_type": "stream",
     "text": [
      "\r",
      "loading hamiltonians:  25%|██▍       | 1620/6561 [00:21<01:02, 79.48it/s]"
     ]
    },
    {
     "name": "stderr",
     "output_type": "stream",
     "text": [
      "\r",
      "loading hamiltonians:  25%|██▍       | 1629/6561 [00:21<01:00, 81.59it/s]"
     ]
    },
    {
     "name": "stderr",
     "output_type": "stream",
     "text": [
      "\r",
      "loading hamiltonians:  25%|██▍       | 1638/6561 [00:21<00:59, 82.96it/s]"
     ]
    },
    {
     "name": "stderr",
     "output_type": "stream",
     "text": [
      "\r",
      "loading hamiltonians:  25%|██▌       | 1647/6561 [00:21<01:06, 73.50it/s]"
     ]
    },
    {
     "name": "stderr",
     "output_type": "stream",
     "text": [
      "\r",
      "loading hamiltonians:  25%|██▌       | 1656/6561 [00:21<01:04, 76.34it/s]"
     ]
    },
    {
     "name": "stderr",
     "output_type": "stream",
     "text": [
      "\r",
      "loading hamiltonians:  25%|██▌       | 1664/6561 [00:22<01:04, 75.60it/s]"
     ]
    },
    {
     "name": "stderr",
     "output_type": "stream",
     "text": [
      "\r",
      "loading hamiltonians:  26%|██▌       | 1674/6561 [00:22<01:01, 79.62it/s]"
     ]
    },
    {
     "name": "stderr",
     "output_type": "stream",
     "text": [
      "\r",
      "loading hamiltonians:  26%|██▌       | 1683/6561 [00:22<01:00, 80.20it/s]"
     ]
    },
    {
     "name": "stderr",
     "output_type": "stream",
     "text": [
      "\r",
      "loading hamiltonians:  26%|██▌       | 1692/6561 [00:22<00:59, 81.31it/s]"
     ]
    },
    {
     "name": "stderr",
     "output_type": "stream",
     "text": [
      "\r",
      "loading hamiltonians:  26%|██▌       | 1701/6561 [00:22<01:00, 80.83it/s]"
     ]
    },
    {
     "name": "stderr",
     "output_type": "stream",
     "text": [
      "\r",
      "loading hamiltonians:  26%|██▌       | 1710/6561 [00:22<00:58, 83.05it/s]"
     ]
    },
    {
     "name": "stderr",
     "output_type": "stream",
     "text": [
      "\r",
      "loading hamiltonians:  26%|██▋       | 1723/6561 [00:22<00:52, 91.79it/s]"
     ]
    },
    {
     "name": "stderr",
     "output_type": "stream",
     "text": [
      "\r",
      "loading hamiltonians:  26%|██▋       | 1733/6561 [00:22<00:53, 90.87it/s]"
     ]
    },
    {
     "name": "stderr",
     "output_type": "stream",
     "text": [
      "\r",
      "loading hamiltonians:  27%|██▋       | 1743/6561 [00:22<00:55, 87.06it/s]"
     ]
    },
    {
     "name": "stderr",
     "output_type": "stream",
     "text": [
      "\r",
      "loading hamiltonians:  27%|██▋       | 1752/6561 [00:23<00:55, 87.37it/s]"
     ]
    },
    {
     "name": "stderr",
     "output_type": "stream",
     "text": [
      "\r",
      "loading hamiltonians:  27%|██▋       | 1761/6561 [00:23<00:54, 87.49it/s]"
     ]
    },
    {
     "name": "stderr",
     "output_type": "stream",
     "text": [
      "\r",
      "loading hamiltonians:  27%|██▋       | 1770/6561 [00:23<01:00, 79.49it/s]"
     ]
    },
    {
     "name": "stderr",
     "output_type": "stream",
     "text": [
      "\r",
      "loading hamiltonians:  27%|██▋       | 1779/6561 [00:23<00:59, 80.01it/s]"
     ]
    },
    {
     "name": "stderr",
     "output_type": "stream",
     "text": [
      "\r",
      "loading hamiltonians:  27%|██▋       | 1788/6561 [00:23<00:57, 82.46it/s]"
     ]
    },
    {
     "name": "stderr",
     "output_type": "stream",
     "text": [
      "\r",
      "loading hamiltonians:  27%|██▋       | 1797/6561 [00:23<00:58, 81.21it/s]"
     ]
    },
    {
     "name": "stderr",
     "output_type": "stream",
     "text": [
      "\r",
      "loading hamiltonians:  28%|██▊       | 1806/6561 [00:23<00:59, 80.34it/s]"
     ]
    },
    {
     "name": "stderr",
     "output_type": "stream",
     "text": [
      "\r",
      "loading hamiltonians:  28%|██▊       | 1815/6561 [00:23<00:58, 81.43it/s]"
     ]
    },
    {
     "name": "stderr",
     "output_type": "stream",
     "text": [
      "\r",
      "loading hamiltonians:  28%|██▊       | 1824/6561 [00:23<00:58, 81.45it/s]"
     ]
    },
    {
     "name": "stderr",
     "output_type": "stream",
     "text": [
      "\r",
      "loading hamiltonians:  28%|██▊       | 1833/6561 [00:24<00:57, 81.76it/s]"
     ]
    },
    {
     "name": "stderr",
     "output_type": "stream",
     "text": [
      "\r",
      "loading hamiltonians:  28%|██▊       | 1844/6561 [00:24<00:53, 88.12it/s]"
     ]
    },
    {
     "name": "stderr",
     "output_type": "stream",
     "text": [
      "\r",
      "loading hamiltonians:  28%|██▊       | 1854/6561 [00:24<00:53, 88.49it/s]"
     ]
    },
    {
     "name": "stderr",
     "output_type": "stream",
     "text": [
      "\r",
      "loading hamiltonians:  28%|██▊       | 1863/6561 [00:24<00:54, 85.88it/s]"
     ]
    },
    {
     "name": "stderr",
     "output_type": "stream",
     "text": [
      "\r",
      "loading hamiltonians:  29%|██▊       | 1872/6561 [00:24<00:54, 86.12it/s]"
     ]
    },
    {
     "name": "stderr",
     "output_type": "stream",
     "text": [
      "\r",
      "loading hamiltonians:  29%|██▊       | 1882/6561 [00:24<00:52, 89.63it/s]"
     ]
    },
    {
     "name": "stderr",
     "output_type": "stream",
     "text": [
      "\r",
      "loading hamiltonians:  29%|██▉       | 1892/6561 [00:25<02:04, 37.57it/s]"
     ]
    },
    {
     "name": "stderr",
     "output_type": "stream",
     "text": [
      "\r",
      "loading hamiltonians:  29%|██▉       | 1904/6561 [00:25<01:39, 46.81it/s]"
     ]
    },
    {
     "name": "stderr",
     "output_type": "stream",
     "text": [
      "\r",
      "loading hamiltonians:  29%|██▉       | 1915/6561 [00:25<01:23, 55.73it/s]"
     ]
    },
    {
     "name": "stderr",
     "output_type": "stream",
     "text": [
      "\r",
      "loading hamiltonians:  29%|██▉       | 1924/6561 [00:25<01:15, 61.66it/s]"
     ]
    },
    {
     "name": "stderr",
     "output_type": "stream",
     "text": [
      "\r",
      "loading hamiltonians:  29%|██▉       | 1934/6561 [00:25<01:08, 67.94it/s]"
     ]
    },
    {
     "name": "stderr",
     "output_type": "stream",
     "text": [
      "\r",
      "loading hamiltonians:  30%|██▉       | 1943/6561 [00:25<01:06, 69.82it/s]"
     ]
    },
    {
     "name": "stderr",
     "output_type": "stream",
     "text": [
      "\r",
      "loading hamiltonians:  30%|██▉       | 1952/6561 [00:25<01:21, 56.75it/s]"
     ]
    },
    {
     "name": "stderr",
     "output_type": "stream",
     "text": [
      "\r",
      "loading hamiltonians:  30%|██▉       | 1962/6561 [00:26<01:10, 64.85it/s]"
     ]
    },
    {
     "name": "stderr",
     "output_type": "stream",
     "text": [
      "\r",
      "loading hamiltonians:  30%|███       | 1970/6561 [00:26<01:08, 66.92it/s]"
     ]
    },
    {
     "name": "stderr",
     "output_type": "stream",
     "text": [
      "\r",
      "loading hamiltonians:  30%|███       | 1978/6561 [00:26<01:06, 69.02it/s]"
     ]
    },
    {
     "name": "stderr",
     "output_type": "stream",
     "text": [
      "\r",
      "loading hamiltonians:  30%|███       | 1986/6561 [00:26<01:05, 70.13it/s]"
     ]
    },
    {
     "name": "stderr",
     "output_type": "stream",
     "text": [
      "\r",
      "loading hamiltonians:  30%|███       | 1994/6561 [00:26<01:03, 72.41it/s]"
     ]
    },
    {
     "name": "stderr",
     "output_type": "stream",
     "text": [
      "\r",
      "loading hamiltonians:  31%|███       | 2002/6561 [00:26<01:02, 72.48it/s]"
     ]
    },
    {
     "name": "stderr",
     "output_type": "stream",
     "text": [
      "\r",
      "loading hamiltonians:  31%|███       | 2010/6561 [00:26<01:06, 68.42it/s]"
     ]
    },
    {
     "name": "stderr",
     "output_type": "stream",
     "text": [
      "\r",
      "loading hamiltonians:  31%|███       | 2021/6561 [00:26<00:59, 76.21it/s]"
     ]
    },
    {
     "name": "stderr",
     "output_type": "stream",
     "text": [
      "\r",
      "loading hamiltonians:  31%|███       | 2030/6561 [00:26<00:58, 77.61it/s]"
     ]
    },
    {
     "name": "stderr",
     "output_type": "stream",
     "text": [
      "\r",
      "loading hamiltonians:  31%|███       | 2040/6561 [00:27<00:55, 81.76it/s]"
     ]
    },
    {
     "name": "stderr",
     "output_type": "stream",
     "text": [
      "\r",
      "loading hamiltonians:  31%|███       | 2050/6561 [00:27<00:52, 85.22it/s]"
     ]
    },
    {
     "name": "stderr",
     "output_type": "stream",
     "text": [
      "\r",
      "loading hamiltonians:  31%|███▏      | 2059/6561 [00:27<00:55, 81.62it/s]"
     ]
    },
    {
     "name": "stderr",
     "output_type": "stream",
     "text": [
      "\r",
      "loading hamiltonians:  32%|███▏      | 2068/6561 [00:27<00:57, 77.50it/s]"
     ]
    },
    {
     "name": "stderr",
     "output_type": "stream",
     "text": [
      "\r",
      "loading hamiltonians:  32%|███▏      | 2076/6561 [00:27<01:02, 71.21it/s]"
     ]
    },
    {
     "name": "stderr",
     "output_type": "stream",
     "text": [
      "\r",
      "loading hamiltonians:  32%|███▏      | 2084/6561 [00:27<01:00, 73.46it/s]"
     ]
    },
    {
     "name": "stderr",
     "output_type": "stream",
     "text": [
      "\r",
      "loading hamiltonians:  32%|███▏      | 2092/6561 [00:27<00:59, 74.53it/s]"
     ]
    },
    {
     "name": "stderr",
     "output_type": "stream",
     "text": [
      "\r",
      "loading hamiltonians:  32%|███▏      | 2101/6561 [00:27<00:57, 77.48it/s]"
     ]
    },
    {
     "name": "stderr",
     "output_type": "stream",
     "text": [
      "\r",
      "loading hamiltonians:  32%|███▏      | 2110/6561 [00:28<00:56, 78.20it/s]"
     ]
    },
    {
     "name": "stderr",
     "output_type": "stream",
     "text": [
      "\r",
      "loading hamiltonians:  32%|███▏      | 2121/6561 [00:28<00:52, 83.82it/s]"
     ]
    },
    {
     "name": "stderr",
     "output_type": "stream",
     "text": [
      "\r",
      "loading hamiltonians:  32%|███▏      | 2130/6561 [00:28<01:00, 72.93it/s]"
     ]
    },
    {
     "name": "stderr",
     "output_type": "stream",
     "text": [
      "\r",
      "loading hamiltonians:  33%|███▎      | 2140/6561 [00:28<00:57, 77.44it/s]"
     ]
    },
    {
     "name": "stderr",
     "output_type": "stream",
     "text": [
      "\r",
      "loading hamiltonians:  33%|███▎      | 2149/6561 [00:28<00:55, 79.54it/s]"
     ]
    },
    {
     "name": "stderr",
     "output_type": "stream",
     "text": [
      "\r",
      "loading hamiltonians:  33%|███▎      | 2158/6561 [00:28<00:56, 78.12it/s]"
     ]
    },
    {
     "name": "stderr",
     "output_type": "stream",
     "text": [
      "\r",
      "loading hamiltonians:  33%|███▎      | 2166/6561 [00:28<00:55, 78.57it/s]"
     ]
    },
    {
     "name": "stderr",
     "output_type": "stream",
     "text": [
      "\r",
      "loading hamiltonians:  33%|███▎      | 2175/6561 [00:28<00:56, 77.89it/s]"
     ]
    },
    {
     "name": "stderr",
     "output_type": "stream",
     "text": [
      "\r",
      "loading hamiltonians:  33%|███▎      | 2183/6561 [00:28<00:57, 75.52it/s]"
     ]
    },
    {
     "name": "stderr",
     "output_type": "stream",
     "text": [
      "\r",
      "loading hamiltonians:  33%|███▎      | 2191/6561 [00:29<00:58, 74.17it/s]"
     ]
    },
    {
     "name": "stderr",
     "output_type": "stream",
     "text": [
      "\r",
      "loading hamiltonians:  34%|███▎      | 2201/6561 [00:29<00:55, 79.26it/s]"
     ]
    },
    {
     "name": "stderr",
     "output_type": "stream",
     "text": [
      "\r",
      "loading hamiltonians:  34%|███▎      | 2210/6561 [00:29<01:30, 48.31it/s]"
     ]
    },
    {
     "name": "stderr",
     "output_type": "stream",
     "text": [
      "\r",
      "loading hamiltonians:  34%|███▍      | 2218/6561 [00:29<01:20, 54.23it/s]"
     ]
    },
    {
     "name": "stderr",
     "output_type": "stream",
     "text": [
      "\r",
      "loading hamiltonians:  34%|███▍      | 2227/6561 [00:29<01:11, 60.35it/s]"
     ]
    },
    {
     "name": "stderr",
     "output_type": "stream",
     "text": [
      "\r",
      "loading hamiltonians:  34%|███▍      | 2236/6561 [00:29<01:05, 65.74it/s]"
     ]
    },
    {
     "name": "stderr",
     "output_type": "stream",
     "text": [
      "\r",
      "loading hamiltonians:  34%|███▍      | 2247/6561 [00:29<00:59, 72.84it/s]"
     ]
    },
    {
     "name": "stderr",
     "output_type": "stream",
     "text": [
      "\r",
      "loading hamiltonians:  34%|███▍      | 2256/6561 [00:30<00:58, 73.29it/s]"
     ]
    },
    {
     "name": "stderr",
     "output_type": "stream",
     "text": [
      "\r",
      "loading hamiltonians:  35%|███▍      | 2268/6561 [00:30<00:51, 82.75it/s]"
     ]
    },
    {
     "name": "stderr",
     "output_type": "stream",
     "text": [
      "\r",
      "loading hamiltonians:  35%|███▍      | 2278/6561 [00:30<00:54, 78.89it/s]"
     ]
    },
    {
     "name": "stderr",
     "output_type": "stream",
     "text": [
      "\r",
      "loading hamiltonians:  35%|███▍      | 2287/6561 [00:30<00:55, 76.40it/s]"
     ]
    },
    {
     "name": "stderr",
     "output_type": "stream",
     "text": [
      "\r",
      "loading hamiltonians:  35%|███▍      | 2296/6561 [00:30<00:55, 77.32it/s]"
     ]
    },
    {
     "name": "stderr",
     "output_type": "stream",
     "text": [
      "\r",
      "loading hamiltonians:  35%|███▌      | 2305/6561 [00:30<00:58, 73.18it/s]"
     ]
    },
    {
     "name": "stderr",
     "output_type": "stream",
     "text": [
      "\r",
      "loading hamiltonians:  35%|███▌      | 2314/6561 [00:30<00:56, 75.46it/s]"
     ]
    },
    {
     "name": "stderr",
     "output_type": "stream",
     "text": [
      "\r",
      "loading hamiltonians:  35%|███▌      | 2323/6561 [00:30<00:53, 79.00it/s]"
     ]
    },
    {
     "name": "stderr",
     "output_type": "stream",
     "text": [
      "\r",
      "loading hamiltonians:  36%|███▌      | 2332/6561 [00:31<00:54, 77.74it/s]"
     ]
    },
    {
     "name": "stderr",
     "output_type": "stream",
     "text": [
      "\r",
      "loading hamiltonians:  36%|███▌      | 2343/6561 [00:31<00:50, 83.83it/s]"
     ]
    },
    {
     "name": "stderr",
     "output_type": "stream",
     "text": [
      "\r",
      "loading hamiltonians:  36%|███▌      | 2352/6561 [00:31<00:50, 83.99it/s]"
     ]
    },
    {
     "name": "stderr",
     "output_type": "stream",
     "text": [
      "\r",
      "loading hamiltonians:  36%|███▌      | 2361/6561 [00:31<00:50, 83.59it/s]"
     ]
    },
    {
     "name": "stderr",
     "output_type": "stream",
     "text": [
      "\r",
      "loading hamiltonians:  36%|███▌      | 2370/6561 [00:31<00:54, 77.48it/s]"
     ]
    },
    {
     "name": "stderr",
     "output_type": "stream",
     "text": [
      "\r",
      "loading hamiltonians:  36%|███▌      | 2378/6561 [00:31<00:54, 76.38it/s]"
     ]
    },
    {
     "name": "stderr",
     "output_type": "stream",
     "text": [
      "\r",
      "loading hamiltonians:  36%|███▋      | 2386/6561 [00:31<00:55, 75.12it/s]"
     ]
    },
    {
     "name": "stderr",
     "output_type": "stream",
     "text": [
      "\r",
      "loading hamiltonians:  37%|███▋      | 2395/6561 [00:31<00:53, 77.41it/s]"
     ]
    },
    {
     "name": "stderr",
     "output_type": "stream",
     "text": [
      "\r",
      "loading hamiltonians:  37%|███▋      | 2405/6561 [00:31<00:51, 80.57it/s]"
     ]
    },
    {
     "name": "stderr",
     "output_type": "stream",
     "text": [
      "\r",
      "loading hamiltonians:  37%|███▋      | 2414/6561 [00:32<00:49, 83.03it/s]"
     ]
    },
    {
     "name": "stderr",
     "output_type": "stream",
     "text": [
      "\r",
      "loading hamiltonians:  37%|███▋      | 2423/6561 [00:32<00:52, 79.13it/s]"
     ]
    },
    {
     "name": "stderr",
     "output_type": "stream",
     "text": [
      "\r",
      "loading hamiltonians:  37%|███▋      | 2432/6561 [00:32<00:59, 69.94it/s]"
     ]
    },
    {
     "name": "stderr",
     "output_type": "stream",
     "text": [
      "\r",
      "loading hamiltonians:  37%|███▋      | 2441/6561 [00:32<00:55, 74.58it/s]"
     ]
    },
    {
     "name": "stderr",
     "output_type": "stream",
     "text": [
      "\r",
      "loading hamiltonians:  37%|███▋      | 2449/6561 [00:32<00:54, 75.85it/s]"
     ]
    },
    {
     "name": "stderr",
     "output_type": "stream",
     "text": [
      "\r",
      "loading hamiltonians:  37%|███▋      | 2457/6561 [00:32<00:53, 76.46it/s]"
     ]
    },
    {
     "name": "stderr",
     "output_type": "stream",
     "text": [
      "\r",
      "loading hamiltonians:  38%|███▊      | 2465/6561 [00:32<00:55, 74.06it/s]"
     ]
    },
    {
     "name": "stderr",
     "output_type": "stream",
     "text": [
      "\r",
      "loading hamiltonians:  38%|███▊      | 2473/6561 [00:32<00:54, 74.70it/s]"
     ]
    },
    {
     "name": "stderr",
     "output_type": "stream",
     "text": [
      "\r",
      "loading hamiltonians:  38%|███▊      | 2481/6561 [00:32<00:55, 73.05it/s]"
     ]
    },
    {
     "name": "stderr",
     "output_type": "stream",
     "text": [
      "\r",
      "loading hamiltonians:  38%|███▊      | 2491/6561 [00:33<00:51, 78.44it/s]"
     ]
    },
    {
     "name": "stderr",
     "output_type": "stream",
     "text": [
      "\r",
      "loading hamiltonians:  38%|███▊      | 2502/6561 [00:33<00:48, 84.22it/s]"
     ]
    },
    {
     "name": "stderr",
     "output_type": "stream",
     "text": [
      "\r",
      "loading hamiltonians:  38%|███▊      | 2512/6561 [00:33<00:46, 87.45it/s]"
     ]
    },
    {
     "name": "stderr",
     "output_type": "stream",
     "text": [
      "\r",
      "loading hamiltonians:  38%|███▊      | 2521/6561 [00:33<00:45, 87.93it/s]"
     ]
    },
    {
     "name": "stderr",
     "output_type": "stream",
     "text": [
      "\r",
      "loading hamiltonians:  39%|███▊      | 2530/6561 [00:33<00:48, 83.76it/s]"
     ]
    },
    {
     "name": "stderr",
     "output_type": "stream",
     "text": [
      "\r",
      "loading hamiltonians:  39%|███▊      | 2539/6561 [00:33<00:48, 83.07it/s]"
     ]
    },
    {
     "name": "stderr",
     "output_type": "stream",
     "text": [
      "\r",
      "loading hamiltonians:  39%|███▉      | 2548/6561 [00:33<00:48, 82.95it/s]"
     ]
    },
    {
     "name": "stderr",
     "output_type": "stream",
     "text": [
      "\r",
      "loading hamiltonians:  39%|███▉      | 2557/6561 [00:34<02:27, 27.23it/s]"
     ]
    },
    {
     "name": "stderr",
     "output_type": "stream",
     "text": [
      "\r",
      "loading hamiltonians:  39%|███▉      | 2565/6561 [00:34<01:58, 33.59it/s]"
     ]
    },
    {
     "name": "stderr",
     "output_type": "stream",
     "text": [
      "\r",
      "loading hamiltonians:  39%|███▉      | 2575/6561 [00:34<01:35, 41.62it/s]"
     ]
    },
    {
     "name": "stderr",
     "output_type": "stream",
     "text": [
      "\r",
      "loading hamiltonians:  39%|███▉      | 2583/6561 [00:34<01:24, 47.18it/s]"
     ]
    },
    {
     "name": "stderr",
     "output_type": "stream",
     "text": [
      "\r",
      "loading hamiltonians:  39%|███▉      | 2591/6561 [00:35<01:15, 52.25it/s]"
     ]
    },
    {
     "name": "stderr",
     "output_type": "stream",
     "text": [
      "\r",
      "loading hamiltonians:  40%|███▉      | 2600/6561 [00:35<01:06, 59.72it/s]"
     ]
    },
    {
     "name": "stderr",
     "output_type": "stream",
     "text": [
      "\r",
      "loading hamiltonians:  40%|███▉      | 2610/6561 [00:35<00:58, 67.30it/s]"
     ]
    },
    {
     "name": "stderr",
     "output_type": "stream",
     "text": [
      "\r",
      "loading hamiltonians:  40%|███▉      | 2619/6561 [00:35<00:57, 68.75it/s]"
     ]
    },
    {
     "name": "stderr",
     "output_type": "stream",
     "text": [
      "\r",
      "loading hamiltonians:  40%|████      | 2627/6561 [00:35<00:56, 69.66it/s]"
     ]
    },
    {
     "name": "stderr",
     "output_type": "stream",
     "text": [
      "\r",
      "loading hamiltonians:  40%|████      | 2635/6561 [00:35<00:54, 71.48it/s]"
     ]
    },
    {
     "name": "stderr",
     "output_type": "stream",
     "text": [
      "\r",
      "loading hamiltonians:  40%|████      | 2644/6561 [00:35<00:52, 74.71it/s]"
     ]
    },
    {
     "name": "stderr",
     "output_type": "stream",
     "text": [
      "\r",
      "loading hamiltonians:  40%|████      | 2652/6561 [00:35<00:52, 74.40it/s]"
     ]
    },
    {
     "name": "stderr",
     "output_type": "stream",
     "text": [
      "\r",
      "loading hamiltonians:  41%|████      | 2660/6561 [00:35<00:51, 75.31it/s]"
     ]
    },
    {
     "name": "stderr",
     "output_type": "stream",
     "text": [
      "\r",
      "loading hamiltonians:  41%|████      | 2669/6561 [00:35<00:49, 77.89it/s]"
     ]
    },
    {
     "name": "stderr",
     "output_type": "stream",
     "text": [
      "\r",
      "loading hamiltonians:  41%|████      | 2678/6561 [00:36<00:49, 79.00it/s]"
     ]
    },
    {
     "name": "stderr",
     "output_type": "stream",
     "text": [
      "\r",
      "loading hamiltonians:  41%|████      | 2689/6561 [00:36<00:46, 84.11it/s]"
     ]
    },
    {
     "name": "stderr",
     "output_type": "stream",
     "text": [
      "\r",
      "loading hamiltonians:  41%|████      | 2698/6561 [00:36<00:49, 78.49it/s]"
     ]
    },
    {
     "name": "stderr",
     "output_type": "stream",
     "text": [
      "\r",
      "loading hamiltonians:  41%|████▏     | 2707/6561 [00:36<00:49, 78.10it/s]"
     ]
    },
    {
     "name": "stderr",
     "output_type": "stream",
     "text": [
      "\r",
      "loading hamiltonians:  41%|████▏     | 2715/6561 [00:36<00:51, 74.74it/s]"
     ]
    },
    {
     "name": "stderr",
     "output_type": "stream",
     "text": [
      "\r",
      "loading hamiltonians:  42%|████▏     | 2723/6561 [00:36<00:52, 73.00it/s]"
     ]
    },
    {
     "name": "stderr",
     "output_type": "stream",
     "text": [
      "\r",
      "loading hamiltonians:  42%|████▏     | 2731/6561 [00:36<00:55, 69.26it/s]"
     ]
    },
    {
     "name": "stderr",
     "output_type": "stream",
     "text": [
      "\r",
      "loading hamiltonians:  42%|████▏     | 2739/6561 [00:36<00:58, 65.45it/s]"
     ]
    },
    {
     "name": "stderr",
     "output_type": "stream",
     "text": [
      "\r",
      "loading hamiltonians:  42%|████▏     | 2746/6561 [00:37<00:57, 66.15it/s]"
     ]
    },
    {
     "name": "stderr",
     "output_type": "stream",
     "text": [
      "\r",
      "loading hamiltonians:  42%|████▏     | 2755/6561 [00:37<00:54, 69.34it/s]"
     ]
    },
    {
     "name": "stderr",
     "output_type": "stream",
     "text": [
      "\r",
      "loading hamiltonians:  42%|████▏     | 2765/6561 [00:37<00:51, 73.99it/s]"
     ]
    },
    {
     "name": "stderr",
     "output_type": "stream",
     "text": [
      "\r",
      "loading hamiltonians:  42%|████▏     | 2775/6561 [00:37<00:48, 77.83it/s]"
     ]
    },
    {
     "name": "stderr",
     "output_type": "stream",
     "text": [
      "\r",
      "loading hamiltonians:  42%|████▏     | 2784/6561 [00:37<00:46, 81.05it/s]"
     ]
    },
    {
     "name": "stderr",
     "output_type": "stream",
     "text": [
      "\r",
      "loading hamiltonians:  43%|████▎     | 2793/6561 [00:37<00:46, 81.43it/s]"
     ]
    },
    {
     "name": "stderr",
     "output_type": "stream",
     "text": [
      "\r",
      "loading hamiltonians:  43%|████▎     | 2802/6561 [00:37<00:51, 72.33it/s]"
     ]
    },
    {
     "name": "stderr",
     "output_type": "stream",
     "text": [
      "\r",
      "loading hamiltonians:  43%|████▎     | 2810/6561 [00:37<00:52, 72.02it/s]"
     ]
    },
    {
     "name": "stderr",
     "output_type": "stream",
     "text": [
      "\r",
      "loading hamiltonians:  43%|████▎     | 2819/6561 [00:37<00:49, 76.08it/s]"
     ]
    },
    {
     "name": "stderr",
     "output_type": "stream",
     "text": [
      "\r",
      "loading hamiltonians:  43%|████▎     | 2828/6561 [00:38<00:48, 76.87it/s]"
     ]
    },
    {
     "name": "stderr",
     "output_type": "stream",
     "text": [
      "\r",
      "loading hamiltonians:  43%|████▎     | 2837/6561 [00:38<00:46, 80.04it/s]"
     ]
    },
    {
     "name": "stderr",
     "output_type": "stream",
     "text": [
      "\r",
      "loading hamiltonians:  43%|████▎     | 2846/6561 [00:38<00:46, 80.62it/s]"
     ]
    },
    {
     "name": "stderr",
     "output_type": "stream",
     "text": [
      "\r",
      "loading hamiltonians:  44%|████▎     | 2855/6561 [00:38<00:46, 79.30it/s]"
     ]
    },
    {
     "name": "stderr",
     "output_type": "stream",
     "text": [
      "\r",
      "loading hamiltonians:  44%|████▎     | 2866/6561 [00:38<00:43, 84.89it/s]"
     ]
    },
    {
     "name": "stderr",
     "output_type": "stream",
     "text": [
      "\r",
      "loading hamiltonians:  44%|████▍     | 2875/6561 [00:38<00:44, 83.66it/s]"
     ]
    },
    {
     "name": "stderr",
     "output_type": "stream",
     "text": [
      "\r",
      "loading hamiltonians:  44%|████▍     | 2884/6561 [00:38<00:44, 83.56it/s]"
     ]
    },
    {
     "name": "stderr",
     "output_type": "stream",
     "text": [
      "\r",
      "loading hamiltonians:  44%|████▍     | 2893/6561 [00:38<00:45, 81.18it/s]"
     ]
    },
    {
     "name": "stderr",
     "output_type": "stream",
     "text": [
      "\r",
      "loading hamiltonians:  44%|████▍     | 2902/6561 [00:38<00:45, 79.86it/s]"
     ]
    },
    {
     "name": "stderr",
     "output_type": "stream",
     "text": [
      "\r",
      "loading hamiltonians:  44%|████▍     | 2915/6561 [00:39<00:42, 86.09it/s]"
     ]
    },
    {
     "name": "stderr",
     "output_type": "stream",
     "text": [
      "\r",
      "loading hamiltonians:  45%|████▍     | 2924/6561 [00:39<00:41, 87.05it/s]"
     ]
    },
    {
     "name": "stderr",
     "output_type": "stream",
     "text": [
      "\r",
      "loading hamiltonians:  45%|████▍     | 2933/6561 [00:39<00:42, 85.86it/s]"
     ]
    },
    {
     "name": "stderr",
     "output_type": "stream",
     "text": [
      "\r",
      "loading hamiltonians:  45%|████▍     | 2942/6561 [00:39<00:42, 85.10it/s]"
     ]
    },
    {
     "name": "stderr",
     "output_type": "stream",
     "text": [
      "\r",
      "loading hamiltonians:  45%|████▍     | 2951/6561 [00:39<00:53, 67.64it/s]"
     ]
    },
    {
     "name": "stderr",
     "output_type": "stream",
     "text": [
      "\r",
      "loading hamiltonians:  45%|████▌     | 2960/6561 [00:39<00:49, 73.05it/s]"
     ]
    },
    {
     "name": "stderr",
     "output_type": "stream",
     "text": [
      "\r",
      "loading hamiltonians:  45%|████▌     | 2968/6561 [00:39<00:50, 70.56it/s]"
     ]
    },
    {
     "name": "stderr",
     "output_type": "stream",
     "text": [
      "\r",
      "loading hamiltonians:  45%|████▌     | 2976/6561 [00:39<00:50, 71.08it/s]"
     ]
    },
    {
     "name": "stderr",
     "output_type": "stream",
     "text": [
      "\r",
      "loading hamiltonians:  45%|████▌     | 2984/6561 [00:40<00:49, 72.32it/s]"
     ]
    },
    {
     "name": "stderr",
     "output_type": "stream",
     "text": [
      "\r",
      "loading hamiltonians:  46%|████▌     | 2992/6561 [00:40<00:50, 71.14it/s]"
     ]
    },
    {
     "name": "stderr",
     "output_type": "stream",
     "text": [
      "\r",
      "loading hamiltonians:  46%|████▌     | 3000/6561 [00:40<00:50, 71.03it/s]"
     ]
    },
    {
     "name": "stderr",
     "output_type": "stream",
     "text": [
      "\r",
      "loading hamiltonians:  46%|████▌     | 3008/6561 [00:40<00:50, 69.81it/s]"
     ]
    },
    {
     "name": "stderr",
     "output_type": "stream",
     "text": [
      "\r",
      "loading hamiltonians:  46%|████▌     | 3017/6561 [00:40<00:47, 73.90it/s]"
     ]
    },
    {
     "name": "stderr",
     "output_type": "stream",
     "text": [
      "\r",
      "loading hamiltonians:  46%|████▌     | 3026/6561 [00:40<00:45, 77.12it/s]"
     ]
    },
    {
     "name": "stderr",
     "output_type": "stream",
     "text": [
      "\r",
      "loading hamiltonians:  46%|████▌     | 3034/6561 [00:40<00:46, 75.72it/s]"
     ]
    },
    {
     "name": "stderr",
     "output_type": "stream",
     "text": [
      "\r",
      "loading hamiltonians:  46%|████▋     | 3042/6561 [00:40<00:46, 75.82it/s]"
     ]
    },
    {
     "name": "stderr",
     "output_type": "stream",
     "text": [
      "\r",
      "loading hamiltonians:  46%|████▋     | 3050/6561 [00:41<00:54, 64.39it/s]"
     ]
    },
    {
     "name": "stderr",
     "output_type": "stream",
     "text": [
      "\r",
      "loading hamiltonians:  47%|████▋     | 3060/6561 [00:41<00:48, 71.52it/s]"
     ]
    },
    {
     "name": "stderr",
     "output_type": "stream",
     "text": [
      "\r",
      "loading hamiltonians:  47%|████▋     | 3068/6561 [00:41<00:48, 71.44it/s]"
     ]
    },
    {
     "name": "stderr",
     "output_type": "stream",
     "text": [
      "\r",
      "loading hamiltonians:  47%|████▋     | 3076/6561 [00:41<00:48, 71.59it/s]"
     ]
    },
    {
     "name": "stderr",
     "output_type": "stream",
     "text": [
      "\r",
      "loading hamiltonians:  47%|████▋     | 3084/6561 [00:41<00:47, 73.22it/s]"
     ]
    },
    {
     "name": "stderr",
     "output_type": "stream",
     "text": [
      "\r",
      "loading hamiltonians:  47%|████▋     | 3092/6561 [00:41<00:46, 74.30it/s]"
     ]
    },
    {
     "name": "stderr",
     "output_type": "stream",
     "text": [
      "\r",
      "loading hamiltonians:  47%|████▋     | 3100/6561 [00:41<00:46, 74.88it/s]"
     ]
    },
    {
     "name": "stderr",
     "output_type": "stream",
     "text": [
      "\r",
      "loading hamiltonians:  47%|████▋     | 3108/6561 [00:41<00:45, 75.87it/s]"
     ]
    },
    {
     "name": "stderr",
     "output_type": "stream",
     "text": [
      "\r",
      "loading hamiltonians:  47%|████▋     | 3116/6561 [00:41<00:47, 72.60it/s]"
     ]
    },
    {
     "name": "stderr",
     "output_type": "stream",
     "text": [
      "\r",
      "loading hamiltonians:  48%|████▊     | 3124/6561 [00:41<00:49, 69.90it/s]"
     ]
    },
    {
     "name": "stderr",
     "output_type": "stream",
     "text": [
      "\r",
      "loading hamiltonians:  48%|████▊     | 3135/6561 [00:42<00:43, 78.16it/s]"
     ]
    },
    {
     "name": "stderr",
     "output_type": "stream",
     "text": [
      "\r",
      "loading hamiltonians:  48%|████▊     | 3144/6561 [00:42<00:43, 79.00it/s]"
     ]
    },
    {
     "name": "stderr",
     "output_type": "stream",
     "text": [
      "\r",
      "loading hamiltonians:  48%|████▊     | 3153/6561 [00:42<00:46, 74.06it/s]"
     ]
    },
    {
     "name": "stderr",
     "output_type": "stream",
     "text": [
      "\r",
      "loading hamiltonians:  48%|████▊     | 3161/6561 [00:42<00:50, 67.64it/s]"
     ]
    },
    {
     "name": "stderr",
     "output_type": "stream",
     "text": [
      "\r",
      "loading hamiltonians:  48%|████▊     | 3169/6561 [00:42<00:48, 69.53it/s]"
     ]
    },
    {
     "name": "stderr",
     "output_type": "stream",
     "text": [
      "\r",
      "loading hamiltonians:  48%|████▊     | 3177/6561 [00:42<00:48, 69.51it/s]"
     ]
    },
    {
     "name": "stderr",
     "output_type": "stream",
     "text": [
      "\r",
      "loading hamiltonians:  49%|████▊     | 3185/6561 [00:42<00:48, 69.88it/s]"
     ]
    },
    {
     "name": "stderr",
     "output_type": "stream",
     "text": [
      "\r",
      "loading hamiltonians:  49%|████▊     | 3193/6561 [00:42<00:50, 66.65it/s]"
     ]
    },
    {
     "name": "stderr",
     "output_type": "stream",
     "text": [
      "\r",
      "loading hamiltonians:  49%|████▉     | 3201/6561 [00:43<00:48, 68.69it/s]"
     ]
    },
    {
     "name": "stderr",
     "output_type": "stream",
     "text": [
      "\r",
      "loading hamiltonians:  49%|████▉     | 3210/6561 [00:43<00:45, 73.75it/s]"
     ]
    },
    {
     "name": "stderr",
     "output_type": "stream",
     "text": [
      "\r",
      "loading hamiltonians:  49%|████▉     | 3218/6561 [00:43<00:48, 68.64it/s]"
     ]
    },
    {
     "name": "stderr",
     "output_type": "stream",
     "text": [
      "\r",
      "loading hamiltonians:  49%|████▉     | 3228/6561 [00:43<00:45, 73.92it/s]"
     ]
    },
    {
     "name": "stderr",
     "output_type": "stream",
     "text": [
      "\r",
      "loading hamiltonians:  49%|████▉     | 3236/6561 [00:43<00:46, 71.56it/s]"
     ]
    },
    {
     "name": "stderr",
     "output_type": "stream",
     "text": [
      "\r",
      "loading hamiltonians:  49%|████▉     | 3244/6561 [00:43<00:46, 70.79it/s]"
     ]
    },
    {
     "name": "stderr",
     "output_type": "stream",
     "text": [
      "\r",
      "loading hamiltonians:  50%|████▉     | 3252/6561 [00:43<00:45, 72.49it/s]"
     ]
    },
    {
     "name": "stderr",
     "output_type": "stream",
     "text": [
      "\r",
      "loading hamiltonians:  50%|████▉     | 3261/6561 [00:43<00:43, 76.07it/s]"
     ]
    },
    {
     "name": "stderr",
     "output_type": "stream",
     "text": [
      "\r",
      "loading hamiltonians:  50%|████▉     | 3269/6561 [00:43<00:42, 77.07it/s]"
     ]
    },
    {
     "name": "stderr",
     "output_type": "stream",
     "text": [
      "\r",
      "loading hamiltonians:  50%|████▉     | 3277/6561 [00:44<00:43, 75.18it/s]"
     ]
    },
    {
     "name": "stderr",
     "output_type": "stream",
     "text": [
      "\r",
      "loading hamiltonians:  50%|█████     | 3285/6561 [00:44<00:44, 74.35it/s]"
     ]
    },
    {
     "name": "stderr",
     "output_type": "stream",
     "text": [
      "\r",
      "loading hamiltonians:  50%|█████     | 3293/6561 [00:44<00:44, 72.93it/s]"
     ]
    },
    {
     "name": "stderr",
     "output_type": "stream",
     "text": [
      "\r",
      "loading hamiltonians:  50%|█████     | 3301/6561 [00:44<00:45, 72.32it/s]"
     ]
    },
    {
     "name": "stderr",
     "output_type": "stream",
     "text": [
      "\r",
      "loading hamiltonians:  50%|█████     | 3309/6561 [00:44<00:45, 71.98it/s]"
     ]
    },
    {
     "name": "stderr",
     "output_type": "stream",
     "text": [
      "\r",
      "loading hamiltonians:  51%|█████     | 3317/6561 [00:44<00:47, 68.17it/s]"
     ]
    },
    {
     "name": "stderr",
     "output_type": "stream",
     "text": [
      "\r",
      "loading hamiltonians:  51%|█████     | 3325/6561 [00:44<00:46, 69.79it/s]"
     ]
    },
    {
     "name": "stderr",
     "output_type": "stream",
     "text": [
      "\r",
      "loading hamiltonians:  51%|█████     | 3333/6561 [00:44<00:46, 69.76it/s]"
     ]
    },
    {
     "name": "stderr",
     "output_type": "stream",
     "text": [
      "\r",
      "loading hamiltonians:  51%|█████     | 3341/6561 [00:44<00:44, 71.73it/s]"
     ]
    },
    {
     "name": "stderr",
     "output_type": "stream",
     "text": [
      "\r",
      "loading hamiltonians:  51%|█████     | 3350/6561 [00:45<00:42, 75.62it/s]"
     ]
    },
    {
     "name": "stderr",
     "output_type": "stream",
     "text": [
      "\r",
      "loading hamiltonians:  51%|█████     | 3361/6561 [00:45<00:38, 82.52it/s]"
     ]
    },
    {
     "name": "stderr",
     "output_type": "stream",
     "text": [
      "\r",
      "loading hamiltonians:  51%|█████▏    | 3370/6561 [00:45<00:38, 83.87it/s]"
     ]
    },
    {
     "name": "stderr",
     "output_type": "stream",
     "text": [
      "\r",
      "loading hamiltonians:  52%|█████▏    | 3379/6561 [00:45<00:39, 80.97it/s]"
     ]
    },
    {
     "name": "stderr",
     "output_type": "stream",
     "text": [
      "\r",
      "loading hamiltonians:  52%|█████▏    | 3388/6561 [00:45<00:39, 80.49it/s]"
     ]
    },
    {
     "name": "stderr",
     "output_type": "stream",
     "text": [
      "\r",
      "loading hamiltonians:  52%|█████▏    | 3397/6561 [00:45<00:41, 75.87it/s]"
     ]
    },
    {
     "name": "stderr",
     "output_type": "stream",
     "text": [
      "\r",
      "loading hamiltonians:  52%|█████▏    | 3405/6561 [00:46<02:23, 21.92it/s]"
     ]
    },
    {
     "name": "stderr",
     "output_type": "stream",
     "text": [
      "\r",
      "loading hamiltonians:  52%|█████▏    | 3414/6561 [00:46<01:52, 28.09it/s]"
     ]
    },
    {
     "name": "stderr",
     "output_type": "stream",
     "text": [
      "\r",
      "loading hamiltonians:  52%|█████▏    | 3422/6561 [00:46<01:31, 34.44it/s]"
     ]
    },
    {
     "name": "stderr",
     "output_type": "stream",
     "text": [
      "\r",
      "loading hamiltonians:  52%|█████▏    | 3430/6561 [00:46<01:15, 41.30it/s]"
     ]
    },
    {
     "name": "stderr",
     "output_type": "stream",
     "text": [
      "\r",
      "loading hamiltonians:  52%|█████▏    | 3440/6561 [00:47<01:03, 49.41it/s]"
     ]
    },
    {
     "name": "stderr",
     "output_type": "stream",
     "text": [
      "\r",
      "loading hamiltonians:  53%|█████▎    | 3449/6561 [00:47<00:55, 56.44it/s]"
     ]
    },
    {
     "name": "stderr",
     "output_type": "stream",
     "text": [
      "\r",
      "loading hamiltonians:  53%|█████▎    | 3458/6561 [00:47<00:49, 62.86it/s]"
     ]
    },
    {
     "name": "stderr",
     "output_type": "stream",
     "text": [
      "\r",
      "loading hamiltonians:  53%|█████▎    | 3467/6561 [00:47<00:51, 59.75it/s]"
     ]
    },
    {
     "name": "stderr",
     "output_type": "stream",
     "text": [
      "\r",
      "loading hamiltonians:  53%|█████▎    | 3475/6561 [00:47<00:48, 63.16it/s]"
     ]
    },
    {
     "name": "stderr",
     "output_type": "stream",
     "text": [
      "\r",
      "loading hamiltonians:  53%|█████▎    | 3485/6561 [00:47<00:44, 68.61it/s]"
     ]
    },
    {
     "name": "stderr",
     "output_type": "stream",
     "text": [
      "\r",
      "loading hamiltonians:  53%|█████▎    | 3493/6561 [00:47<00:45, 67.96it/s]"
     ]
    },
    {
     "name": "stderr",
     "output_type": "stream",
     "text": [
      "\r",
      "loading hamiltonians:  53%|█████▎    | 3501/6561 [00:47<00:44, 68.13it/s]"
     ]
    },
    {
     "name": "stderr",
     "output_type": "stream",
     "text": [
      "\r",
      "loading hamiltonians:  53%|█████▎    | 3509/6561 [00:48<00:44, 69.22it/s]"
     ]
    },
    {
     "name": "stderr",
     "output_type": "stream",
     "text": [
      "\r",
      "loading hamiltonians:  54%|█████▎    | 3519/6561 [00:48<00:40, 76.03it/s]"
     ]
    },
    {
     "name": "stderr",
     "output_type": "stream",
     "text": [
      "\r",
      "loading hamiltonians:  54%|█████▍    | 3528/6561 [00:48<00:39, 76.75it/s]"
     ]
    },
    {
     "name": "stderr",
     "output_type": "stream",
     "text": [
      "\r",
      "loading hamiltonians:  54%|█████▍    | 3536/6561 [00:48<00:41, 72.49it/s]"
     ]
    },
    {
     "name": "stderr",
     "output_type": "stream",
     "text": [
      "\r",
      "loading hamiltonians:  54%|█████▍    | 3544/6561 [00:48<00:42, 71.45it/s]"
     ]
    },
    {
     "name": "stderr",
     "output_type": "stream",
     "text": [
      "\r",
      "loading hamiltonians:  54%|█████▍    | 3552/6561 [00:48<00:42, 71.58it/s]"
     ]
    },
    {
     "name": "stderr",
     "output_type": "stream",
     "text": [
      "\r",
      "loading hamiltonians:  54%|█████▍    | 3560/6561 [00:48<00:40, 73.89it/s]"
     ]
    },
    {
     "name": "stderr",
     "output_type": "stream",
     "text": [
      "\r",
      "loading hamiltonians:  54%|█████▍    | 3569/6561 [00:48<00:39, 76.67it/s]"
     ]
    },
    {
     "name": "stderr",
     "output_type": "stream",
     "text": [
      "\r",
      "loading hamiltonians:  55%|█████▍    | 3577/6561 [00:48<00:39, 75.04it/s]"
     ]
    },
    {
     "name": "stderr",
     "output_type": "stream",
     "text": [
      "\r",
      "loading hamiltonians:  55%|█████▍    | 3585/6561 [00:49<00:40, 73.66it/s]"
     ]
    },
    {
     "name": "stderr",
     "output_type": "stream",
     "text": [
      "\r",
      "loading hamiltonians:  55%|█████▍    | 3595/6561 [00:49<00:37, 78.85it/s]"
     ]
    },
    {
     "name": "stderr",
     "output_type": "stream",
     "text": [
      "\r",
      "loading hamiltonians:  55%|█████▍    | 3604/6561 [00:49<00:37, 78.08it/s]"
     ]
    },
    {
     "name": "stderr",
     "output_type": "stream",
     "text": [
      "\r",
      "loading hamiltonians:  55%|█████▌    | 3612/6561 [00:49<00:38, 76.55it/s]"
     ]
    },
    {
     "name": "stderr",
     "output_type": "stream",
     "text": [
      "\r",
      "loading hamiltonians:  55%|█████▌    | 3621/6561 [00:49<00:37, 77.95it/s]"
     ]
    },
    {
     "name": "stderr",
     "output_type": "stream",
     "text": [
      "\r",
      "loading hamiltonians:  55%|█████▌    | 3629/6561 [00:49<00:37, 77.17it/s]"
     ]
    },
    {
     "name": "stderr",
     "output_type": "stream",
     "text": [
      "\r",
      "loading hamiltonians:  55%|█████▌    | 3638/6561 [00:49<00:36, 80.29it/s]"
     ]
    },
    {
     "name": "stderr",
     "output_type": "stream",
     "text": [
      "\r",
      "loading hamiltonians:  56%|█████▌    | 3647/6561 [00:49<00:39, 74.23it/s]"
     ]
    },
    {
     "name": "stderr",
     "output_type": "stream",
     "text": [
      "\r",
      "loading hamiltonians:  56%|█████▌    | 3655/6561 [00:49<00:39, 74.28it/s]"
     ]
    },
    {
     "name": "stderr",
     "output_type": "stream",
     "text": [
      "\r",
      "loading hamiltonians:  56%|█████▌    | 3663/6561 [00:50<00:39, 72.76it/s]"
     ]
    },
    {
     "name": "stderr",
     "output_type": "stream",
     "text": [
      "\r",
      "loading hamiltonians:  56%|█████▌    | 3673/6561 [00:50<00:36, 78.93it/s]"
     ]
    },
    {
     "name": "stderr",
     "output_type": "stream",
     "text": [
      "\r",
      "loading hamiltonians:  56%|█████▌    | 3682/6561 [00:50<00:37, 75.94it/s]"
     ]
    },
    {
     "name": "stderr",
     "output_type": "stream",
     "text": [
      "\r",
      "loading hamiltonians:  56%|█████▌    | 3690/6561 [00:50<00:37, 76.88it/s]"
     ]
    },
    {
     "name": "stderr",
     "output_type": "stream",
     "text": [
      "\r",
      "loading hamiltonians:  56%|█████▋    | 3698/6561 [00:50<00:38, 74.89it/s]"
     ]
    },
    {
     "name": "stderr",
     "output_type": "stream",
     "text": [
      "\r",
      "loading hamiltonians:  56%|█████▋    | 3706/6561 [00:50<00:42, 67.11it/s]"
     ]
    },
    {
     "name": "stderr",
     "output_type": "stream",
     "text": [
      "\r",
      "loading hamiltonians:  57%|█████▋    | 3714/6561 [00:50<00:40, 69.72it/s]"
     ]
    },
    {
     "name": "stderr",
     "output_type": "stream",
     "text": [
      "\r",
      "loading hamiltonians:  57%|█████▋    | 3724/6561 [00:50<00:37, 76.24it/s]"
     ]
    },
    {
     "name": "stderr",
     "output_type": "stream",
     "text": [
      "\r",
      "loading hamiltonians:  57%|█████▋    | 3733/6561 [00:50<00:35, 78.91it/s]"
     ]
    },
    {
     "name": "stderr",
     "output_type": "stream",
     "text": [
      "\r",
      "loading hamiltonians:  57%|█████▋    | 3742/6561 [00:51<00:37, 74.31it/s]"
     ]
    },
    {
     "name": "stderr",
     "output_type": "stream",
     "text": [
      "\r",
      "loading hamiltonians:  57%|█████▋    | 3755/6561 [00:51<00:33, 83.44it/s]"
     ]
    },
    {
     "name": "stderr",
     "output_type": "stream",
     "text": [
      "\r",
      "loading hamiltonians:  57%|█████▋    | 3764/6561 [00:51<00:34, 82.10it/s]"
     ]
    },
    {
     "name": "stderr",
     "output_type": "stream",
     "text": [
      "\r",
      "loading hamiltonians:  58%|█████▊    | 3773/6561 [00:51<00:35, 78.25it/s]"
     ]
    },
    {
     "name": "stderr",
     "output_type": "stream",
     "text": [
      "\r",
      "loading hamiltonians:  58%|█████▊    | 3782/6561 [00:51<00:37, 73.64it/s]"
     ]
    },
    {
     "name": "stderr",
     "output_type": "stream",
     "text": [
      "\r",
      "loading hamiltonians:  58%|█████▊    | 3791/6561 [00:51<00:45, 61.48it/s]"
     ]
    },
    {
     "name": "stderr",
     "output_type": "stream",
     "text": [
      "\r",
      "loading hamiltonians:  58%|█████▊    | 3800/6561 [00:51<00:41, 65.94it/s]"
     ]
    },
    {
     "name": "stderr",
     "output_type": "stream",
     "text": [
      "\r",
      "loading hamiltonians:  58%|█████▊    | 3810/6561 [00:51<00:37, 72.92it/s]"
     ]
    },
    {
     "name": "stderr",
     "output_type": "stream",
     "text": [
      "\r",
      "loading hamiltonians:  58%|█████▊    | 3819/6561 [00:52<00:35, 76.79it/s]"
     ]
    },
    {
     "name": "stderr",
     "output_type": "stream",
     "text": [
      "\r",
      "loading hamiltonians:  58%|█████▊    | 3828/6561 [00:52<00:35, 76.69it/s]"
     ]
    },
    {
     "name": "stderr",
     "output_type": "stream",
     "text": [
      "\r",
      "loading hamiltonians:  58%|█████▊    | 3836/6561 [00:52<00:36, 75.39it/s]"
     ]
    },
    {
     "name": "stderr",
     "output_type": "stream",
     "text": [
      "\r",
      "loading hamiltonians:  59%|█████▊    | 3844/6561 [00:52<00:36, 75.01it/s]"
     ]
    },
    {
     "name": "stderr",
     "output_type": "stream",
     "text": [
      "\r",
      "loading hamiltonians:  59%|█████▉    | 3855/6561 [00:52<00:33, 80.27it/s]"
     ]
    },
    {
     "name": "stderr",
     "output_type": "stream",
     "text": [
      "\r",
      "loading hamiltonians:  59%|█████▉    | 3864/6561 [00:52<00:33, 80.61it/s]"
     ]
    },
    {
     "name": "stderr",
     "output_type": "stream",
     "text": [
      "\r",
      "loading hamiltonians:  59%|█████▉    | 3873/6561 [00:52<00:34, 77.36it/s]"
     ]
    },
    {
     "name": "stderr",
     "output_type": "stream",
     "text": [
      "\r",
      "loading hamiltonians:  59%|█████▉    | 3881/6561 [00:52<00:37, 70.91it/s]"
     ]
    },
    {
     "name": "stderr",
     "output_type": "stream",
     "text": [
      "\r",
      "loading hamiltonians:  59%|█████▉    | 3890/6561 [00:53<00:36, 73.79it/s]"
     ]
    },
    {
     "name": "stderr",
     "output_type": "stream",
     "text": [
      "\r",
      "loading hamiltonians:  59%|█████▉    | 3900/6561 [00:53<00:33, 79.99it/s]"
     ]
    },
    {
     "name": "stderr",
     "output_type": "stream",
     "text": [
      "\r",
      "loading hamiltonians:  60%|█████▉    | 3909/6561 [00:53<00:34, 76.44it/s]"
     ]
    },
    {
     "name": "stderr",
     "output_type": "stream",
     "text": [
      "\r",
      "loading hamiltonians:  60%|█████▉    | 3917/6561 [00:53<00:36, 72.86it/s]"
     ]
    },
    {
     "name": "stderr",
     "output_type": "stream",
     "text": [
      "\r",
      "loading hamiltonians:  60%|█████▉    | 3925/6561 [00:53<00:37, 70.48it/s]"
     ]
    },
    {
     "name": "stderr",
     "output_type": "stream",
     "text": [
      "\r",
      "loading hamiltonians:  60%|█████▉    | 3933/6561 [00:53<00:37, 69.35it/s]"
     ]
    },
    {
     "name": "stderr",
     "output_type": "stream",
     "text": [
      "\r",
      "loading hamiltonians:  60%|██████    | 3941/6561 [00:53<00:39, 66.59it/s]"
     ]
    },
    {
     "name": "stderr",
     "output_type": "stream",
     "text": [
      "\r",
      "loading hamiltonians:  60%|██████    | 3952/6561 [00:53<00:35, 73.96it/s]"
     ]
    },
    {
     "name": "stderr",
     "output_type": "stream",
     "text": [
      "\r",
      "loading hamiltonians:  60%|██████    | 3960/6561 [00:53<00:34, 74.70it/s]"
     ]
    },
    {
     "name": "stderr",
     "output_type": "stream",
     "text": [
      "\r",
      "loading hamiltonians:  61%|██████    | 3971/6561 [00:54<00:31, 81.09it/s]"
     ]
    },
    {
     "name": "stderr",
     "output_type": "stream",
     "text": [
      "\r",
      "loading hamiltonians:  61%|██████    | 3983/6561 [00:54<00:29, 87.30it/s]"
     ]
    },
    {
     "name": "stderr",
     "output_type": "stream",
     "text": [
      "\r",
      "loading hamiltonians:  61%|██████    | 3993/6561 [00:54<00:31, 80.52it/s]"
     ]
    },
    {
     "name": "stderr",
     "output_type": "stream",
     "text": [
      "\r",
      "loading hamiltonians:  61%|██████    | 4002/6561 [00:54<00:33, 77.23it/s]"
     ]
    },
    {
     "name": "stderr",
     "output_type": "stream",
     "text": [
      "\r",
      "loading hamiltonians:  61%|██████    | 4011/6561 [00:54<00:33, 76.16it/s]"
     ]
    },
    {
     "name": "stderr",
     "output_type": "stream",
     "text": [
      "\r",
      "loading hamiltonians:  61%|██████▏   | 4019/6561 [00:54<00:33, 76.36it/s]"
     ]
    },
    {
     "name": "stderr",
     "output_type": "stream",
     "text": [
      "\r",
      "loading hamiltonians:  61%|██████▏   | 4027/6561 [00:54<00:32, 77.19it/s]"
     ]
    },
    {
     "name": "stderr",
     "output_type": "stream",
     "text": [
      "\r",
      "loading hamiltonians:  62%|██████▏   | 4036/6561 [00:54<00:31, 78.95it/s]"
     ]
    },
    {
     "name": "stderr",
     "output_type": "stream",
     "text": [
      "\r",
      "loading hamiltonians:  62%|██████▏   | 4044/6561 [00:54<00:31, 78.99it/s]"
     ]
    },
    {
     "name": "stderr",
     "output_type": "stream",
     "text": [
      "\r",
      "loading hamiltonians:  62%|██████▏   | 4054/6561 [00:55<00:30, 83.21it/s]"
     ]
    },
    {
     "name": "stderr",
     "output_type": "stream",
     "text": [
      "\r",
      "loading hamiltonians:  62%|██████▏   | 4063/6561 [00:55<00:32, 76.55it/s]"
     ]
    },
    {
     "name": "stderr",
     "output_type": "stream",
     "text": [
      "\r",
      "loading hamiltonians:  62%|██████▏   | 4072/6561 [00:55<00:31, 78.85it/s]"
     ]
    },
    {
     "name": "stderr",
     "output_type": "stream",
     "text": [
      "\r",
      "loading hamiltonians:  62%|██████▏   | 4081/6561 [00:55<00:30, 81.01it/s]"
     ]
    },
    {
     "name": "stderr",
     "output_type": "stream",
     "text": [
      "\r",
      "loading hamiltonians:  62%|██████▏   | 4090/6561 [00:55<00:31, 78.77it/s]"
     ]
    },
    {
     "name": "stderr",
     "output_type": "stream",
     "text": [
      "\r",
      "loading hamiltonians:  62%|██████▏   | 4098/6561 [00:55<00:32, 75.55it/s]"
     ]
    },
    {
     "name": "stderr",
     "output_type": "stream",
     "text": [
      "\r",
      "loading hamiltonians:  63%|██████▎   | 4106/6561 [00:55<00:33, 74.26it/s]"
     ]
    },
    {
     "name": "stderr",
     "output_type": "stream",
     "text": [
      "\r",
      "loading hamiltonians:  63%|██████▎   | 4115/6561 [00:55<00:31, 77.61it/s]"
     ]
    },
    {
     "name": "stderr",
     "output_type": "stream",
     "text": [
      "\r",
      "loading hamiltonians:  63%|██████▎   | 4123/6561 [00:56<00:32, 74.59it/s]"
     ]
    },
    {
     "name": "stderr",
     "output_type": "stream",
     "text": [
      "\r",
      "loading hamiltonians:  63%|██████▎   | 4131/6561 [00:56<00:32, 75.53it/s]"
     ]
    },
    {
     "name": "stderr",
     "output_type": "stream",
     "text": [
      "\r",
      "loading hamiltonians:  63%|██████▎   | 4140/6561 [00:56<00:31, 77.33it/s]"
     ]
    },
    {
     "name": "stderr",
     "output_type": "stream",
     "text": [
      "\r",
      "loading hamiltonians:  63%|██████▎   | 4148/6561 [00:56<00:30, 78.11it/s]"
     ]
    },
    {
     "name": "stderr",
     "output_type": "stream",
     "text": [
      "\r",
      "loading hamiltonians:  63%|██████▎   | 4157/6561 [00:56<00:29, 81.01it/s]"
     ]
    },
    {
     "name": "stderr",
     "output_type": "stream",
     "text": [
      "\r",
      "loading hamiltonians:  64%|██████▎   | 4167/6561 [00:56<00:28, 84.02it/s]"
     ]
    },
    {
     "name": "stderr",
     "output_type": "stream",
     "text": [
      "\r",
      "loading hamiltonians:  64%|██████▎   | 4176/6561 [00:56<00:35, 66.60it/s]"
     ]
    },
    {
     "name": "stderr",
     "output_type": "stream",
     "text": [
      "\r",
      "loading hamiltonians:  64%|██████▍   | 4184/6561 [00:56<00:37, 63.11it/s]"
     ]
    },
    {
     "name": "stderr",
     "output_type": "stream",
     "text": [
      "\r",
      "loading hamiltonians:  64%|██████▍   | 4191/6561 [00:56<00:36, 64.31it/s]"
     ]
    },
    {
     "name": "stderr",
     "output_type": "stream",
     "text": [
      "\r",
      "loading hamiltonians:  64%|██████▍   | 4200/6561 [00:57<00:33, 70.18it/s]"
     ]
    },
    {
     "name": "stderr",
     "output_type": "stream",
     "text": [
      "\r",
      "loading hamiltonians:  64%|██████▍   | 4211/6561 [00:57<00:30, 77.43it/s]"
     ]
    },
    {
     "name": "stderr",
     "output_type": "stream",
     "text": [
      "\r",
      "loading hamiltonians:  64%|██████▍   | 4220/6561 [00:57<00:30, 76.48it/s]"
     ]
    },
    {
     "name": "stderr",
     "output_type": "stream",
     "text": [
      "\r",
      "loading hamiltonians:  64%|██████▍   | 4229/6561 [00:57<00:32, 72.85it/s]"
     ]
    },
    {
     "name": "stderr",
     "output_type": "stream",
     "text": [
      "\r",
      "loading hamiltonians:  65%|██████▍   | 4237/6561 [00:57<00:31, 73.49it/s]"
     ]
    },
    {
     "name": "stderr",
     "output_type": "stream",
     "text": [
      "\r",
      "loading hamiltonians:  65%|██████▍   | 4246/6561 [00:57<00:29, 77.75it/s]"
     ]
    },
    {
     "name": "stderr",
     "output_type": "stream",
     "text": [
      "\r",
      "loading hamiltonians:  65%|██████▍   | 4257/6561 [00:57<00:27, 82.79it/s]"
     ]
    },
    {
     "name": "stderr",
     "output_type": "stream",
     "text": [
      "\r",
      "loading hamiltonians:  65%|██████▌   | 4266/6561 [00:57<00:28, 81.43it/s]"
     ]
    },
    {
     "name": "stderr",
     "output_type": "stream",
     "text": [
      "\r",
      "loading hamiltonians:  65%|██████▌   | 4277/6561 [00:58<00:26, 85.49it/s]"
     ]
    },
    {
     "name": "stderr",
     "output_type": "stream",
     "text": [
      "\r",
      "loading hamiltonians:  65%|██████▌   | 4287/6561 [00:58<00:26, 86.99it/s]"
     ]
    },
    {
     "name": "stderr",
     "output_type": "stream",
     "text": [
      "\r",
      "loading hamiltonians:  65%|██████▌   | 4296/6561 [00:58<00:26, 86.98it/s]"
     ]
    },
    {
     "name": "stderr",
     "output_type": "stream",
     "text": [
      "\r",
      "loading hamiltonians:  66%|██████▌   | 4305/6561 [00:58<00:26, 83.75it/s]"
     ]
    },
    {
     "name": "stderr",
     "output_type": "stream",
     "text": [
      "\r",
      "loading hamiltonians:  66%|██████▌   | 4314/6561 [00:58<00:27, 83.05it/s]"
     ]
    },
    {
     "name": "stderr",
     "output_type": "stream",
     "text": [
      "\r",
      "loading hamiltonians:  66%|██████▌   | 4323/6561 [00:58<00:26, 83.69it/s]"
     ]
    },
    {
     "name": "stderr",
     "output_type": "stream",
     "text": [
      "\r",
      "loading hamiltonians:  66%|██████▌   | 4332/6561 [00:58<00:27, 81.28it/s]"
     ]
    },
    {
     "name": "stderr",
     "output_type": "stream",
     "text": [
      "\r",
      "loading hamiltonians:  66%|██████▌   | 4341/6561 [00:58<00:26, 82.39it/s]"
     ]
    },
    {
     "name": "stderr",
     "output_type": "stream",
     "text": [
      "\r",
      "loading hamiltonians:  66%|██████▋   | 4350/6561 [00:58<00:28, 77.10it/s]"
     ]
    },
    {
     "name": "stderr",
     "output_type": "stream",
     "text": [
      "\r",
      "loading hamiltonians:  66%|██████▋   | 4359/6561 [00:59<00:27, 79.74it/s]"
     ]
    },
    {
     "name": "stderr",
     "output_type": "stream",
     "text": [
      "\r",
      "loading hamiltonians:  67%|██████▋   | 4368/6561 [00:59<00:27, 80.91it/s]"
     ]
    },
    {
     "name": "stderr",
     "output_type": "stream",
     "text": [
      "\r",
      "loading hamiltonians:  67%|██████▋   | 4377/6561 [00:59<00:28, 77.30it/s]"
     ]
    },
    {
     "name": "stderr",
     "output_type": "stream",
     "text": [
      "\r",
      "loading hamiltonians:  67%|██████▋   | 4385/6561 [00:59<00:28, 75.77it/s]"
     ]
    },
    {
     "name": "stderr",
     "output_type": "stream",
     "text": [
      "\r",
      "loading hamiltonians:  67%|██████▋   | 4393/6561 [00:59<00:28, 76.40it/s]"
     ]
    },
    {
     "name": "stderr",
     "output_type": "stream",
     "text": [
      "\r",
      "loading hamiltonians:  67%|██████▋   | 4401/6561 [00:59<00:27, 77.29it/s]"
     ]
    },
    {
     "name": "stderr",
     "output_type": "stream",
     "text": [
      "\r",
      "loading hamiltonians:  67%|██████▋   | 4409/6561 [00:59<00:27, 78.02it/s]"
     ]
    },
    {
     "name": "stderr",
     "output_type": "stream",
     "text": [
      "\r",
      "loading hamiltonians:  67%|██████▋   | 4418/6561 [00:59<00:27, 79.13it/s]"
     ]
    },
    {
     "name": "stderr",
     "output_type": "stream",
     "text": [
      "\r",
      "loading hamiltonians:  67%|██████▋   | 4426/6561 [01:01<01:57, 18.13it/s]"
     ]
    },
    {
     "name": "stderr",
     "output_type": "stream",
     "text": [
      "\r",
      "loading hamiltonians:  68%|██████▊   | 4438/6561 [01:01<01:27, 24.25it/s]"
     ]
    },
    {
     "name": "stderr",
     "output_type": "stream",
     "text": [
      "\r",
      "loading hamiltonians:  68%|██████▊   | 4447/6561 [01:01<01:08, 30.98it/s]"
     ]
    },
    {
     "name": "stderr",
     "output_type": "stream",
     "text": [
      "\r",
      "loading hamiltonians:  68%|██████▊   | 4455/6561 [01:01<00:56, 37.10it/s]"
     ]
    },
    {
     "name": "stderr",
     "output_type": "stream",
     "text": [
      "\r",
      "loading hamiltonians:  68%|██████▊   | 4463/6561 [01:01<00:47, 43.90it/s]"
     ]
    },
    {
     "name": "stderr",
     "output_type": "stream",
     "text": [
      "\r",
      "loading hamiltonians:  68%|██████▊   | 4471/6561 [01:01<00:41, 49.86it/s]"
     ]
    },
    {
     "name": "stderr",
     "output_type": "stream",
     "text": [
      "\r",
      "loading hamiltonians:  68%|██████▊   | 4479/6561 [01:01<00:38, 54.63it/s]"
     ]
    },
    {
     "name": "stderr",
     "output_type": "stream",
     "text": [
      "\r",
      "loading hamiltonians:  68%|██████▊   | 4487/6561 [01:01<00:44, 46.70it/s]"
     ]
    },
    {
     "name": "stderr",
     "output_type": "stream",
     "text": [
      "\r",
      "loading hamiltonians:  69%|██████▊   | 4495/6561 [01:01<00:38, 53.30it/s]"
     ]
    },
    {
     "name": "stderr",
     "output_type": "stream",
     "text": [
      "\r",
      "loading hamiltonians:  69%|██████▊   | 4504/6561 [01:02<00:34, 60.39it/s]"
     ]
    },
    {
     "name": "stderr",
     "output_type": "stream",
     "text": [
      "\r",
      "loading hamiltonians:  69%|██████▉   | 4513/6561 [01:02<00:31, 66.02it/s]"
     ]
    },
    {
     "name": "stderr",
     "output_type": "stream",
     "text": [
      "\r",
      "loading hamiltonians:  69%|██████▉   | 4521/6561 [01:02<00:29, 68.21it/s]"
     ]
    },
    {
     "name": "stderr",
     "output_type": "stream",
     "text": [
      "\r",
      "loading hamiltonians:  69%|██████▉   | 4530/6561 [01:02<00:27, 73.04it/s]"
     ]
    },
    {
     "name": "stderr",
     "output_type": "stream",
     "text": [
      "\r",
      "loading hamiltonians:  69%|██████▉   | 4538/6561 [01:02<00:27, 72.71it/s]"
     ]
    },
    {
     "name": "stderr",
     "output_type": "stream",
     "text": [
      "\r",
      "loading hamiltonians:  69%|██████▉   | 4546/6561 [01:02<00:28, 70.09it/s]"
     ]
    },
    {
     "name": "stderr",
     "output_type": "stream",
     "text": [
      "\r",
      "loading hamiltonians:  69%|██████▉   | 4556/6561 [01:02<00:26, 75.46it/s]"
     ]
    },
    {
     "name": "stderr",
     "output_type": "stream",
     "text": [
      "\r",
      "loading hamiltonians:  70%|██████▉   | 4564/6561 [01:02<00:27, 73.96it/s]"
     ]
    },
    {
     "name": "stderr",
     "output_type": "stream",
     "text": [
      "\r",
      "loading hamiltonians:  70%|██████▉   | 4573/6561 [01:02<00:25, 76.50it/s]"
     ]
    },
    {
     "name": "stderr",
     "output_type": "stream",
     "text": [
      "\r",
      "loading hamiltonians:  70%|██████▉   | 4584/6561 [01:03<00:23, 82.76it/s]"
     ]
    },
    {
     "name": "stderr",
     "output_type": "stream",
     "text": [
      "\r",
      "loading hamiltonians:  70%|███████   | 4596/6561 [01:03<00:21, 91.20it/s]"
     ]
    },
    {
     "name": "stderr",
     "output_type": "stream",
     "text": [
      "\r",
      "loading hamiltonians:  70%|███████   | 4606/6561 [01:03<00:22, 85.10it/s]"
     ]
    },
    {
     "name": "stderr",
     "output_type": "stream",
     "text": [
      "\r",
      "loading hamiltonians:  70%|███████   | 4615/6561 [01:03<00:22, 85.56it/s]"
     ]
    },
    {
     "name": "stderr",
     "output_type": "stream",
     "text": [
      "\r",
      "loading hamiltonians:  70%|███████   | 4624/6561 [01:03<00:23, 83.49it/s]"
     ]
    },
    {
     "name": "stderr",
     "output_type": "stream",
     "text": [
      "\r",
      "loading hamiltonians:  71%|███████   | 4633/6561 [01:03<00:23, 81.85it/s]"
     ]
    },
    {
     "name": "stderr",
     "output_type": "stream",
     "text": [
      "\r",
      "loading hamiltonians:  71%|███████   | 4643/6561 [01:03<00:22, 85.64it/s]"
     ]
    },
    {
     "name": "stderr",
     "output_type": "stream",
     "text": [
      "\r",
      "loading hamiltonians:  71%|███████   | 4653/6561 [01:03<00:21, 87.49it/s]"
     ]
    },
    {
     "name": "stderr",
     "output_type": "stream",
     "text": [
      "\r",
      "loading hamiltonians:  71%|███████   | 4662/6561 [01:04<00:23, 80.00it/s]"
     ]
    },
    {
     "name": "stderr",
     "output_type": "stream",
     "text": [
      "\r",
      "loading hamiltonians:  71%|███████   | 4671/6561 [01:04<00:24, 76.70it/s]"
     ]
    },
    {
     "name": "stderr",
     "output_type": "stream",
     "text": [
      "\r",
      "loading hamiltonians:  71%|███████▏  | 4680/6561 [01:04<00:23, 78.39it/s]"
     ]
    },
    {
     "name": "stderr",
     "output_type": "stream",
     "text": [
      "\r",
      "loading hamiltonians:  71%|███████▏  | 4690/6561 [01:04<00:22, 83.63it/s]"
     ]
    },
    {
     "name": "stderr",
     "output_type": "stream",
     "text": [
      "\r",
      "loading hamiltonians:  72%|███████▏  | 4699/6561 [01:04<00:22, 84.15it/s]"
     ]
    },
    {
     "name": "stderr",
     "output_type": "stream",
     "text": [
      "\r",
      "loading hamiltonians:  72%|███████▏  | 4708/6561 [01:04<00:22, 82.87it/s]"
     ]
    },
    {
     "name": "stderr",
     "output_type": "stream",
     "text": [
      "\r",
      "loading hamiltonians:  72%|███████▏  | 4717/6561 [01:04<00:22, 82.88it/s]"
     ]
    },
    {
     "name": "stderr",
     "output_type": "stream",
     "text": [
      "\r",
      "loading hamiltonians:  72%|███████▏  | 4726/6561 [01:04<00:25, 73.07it/s]"
     ]
    },
    {
     "name": "stderr",
     "output_type": "stream",
     "text": [
      "\r",
      "loading hamiltonians:  72%|███████▏  | 4735/6561 [01:04<00:24, 75.68it/s]"
     ]
    },
    {
     "name": "stderr",
     "output_type": "stream",
     "text": [
      "\r",
      "loading hamiltonians:  72%|███████▏  | 4743/6561 [01:05<00:24, 75.61it/s]"
     ]
    },
    {
     "name": "stderr",
     "output_type": "stream",
     "text": [
      "\r",
      "loading hamiltonians:  72%|███████▏  | 4751/6561 [01:05<00:24, 74.56it/s]"
     ]
    },
    {
     "name": "stderr",
     "output_type": "stream",
     "text": [
      "\r",
      "loading hamiltonians:  73%|███████▎  | 4759/6561 [01:05<00:24, 72.80it/s]"
     ]
    },
    {
     "name": "stderr",
     "output_type": "stream",
     "text": [
      "\r",
      "loading hamiltonians:  73%|███████▎  | 4767/6561 [01:05<00:24, 72.12it/s]"
     ]
    },
    {
     "name": "stderr",
     "output_type": "stream",
     "text": [
      "\r",
      "loading hamiltonians:  73%|███████▎  | 4775/6561 [01:05<00:24, 71.49it/s]"
     ]
    },
    {
     "name": "stderr",
     "output_type": "stream",
     "text": [
      "\r",
      "loading hamiltonians:  73%|███████▎  | 4783/6561 [01:05<00:24, 73.49it/s]"
     ]
    },
    {
     "name": "stderr",
     "output_type": "stream",
     "text": [
      "\r",
      "loading hamiltonians:  73%|███████▎  | 4791/6561 [01:05<00:24, 71.02it/s]"
     ]
    },
    {
     "name": "stderr",
     "output_type": "stream",
     "text": [
      "\r",
      "loading hamiltonians:  73%|███████▎  | 4799/6561 [01:05<00:24, 73.06it/s]"
     ]
    },
    {
     "name": "stderr",
     "output_type": "stream",
     "text": [
      "\r",
      "loading hamiltonians:  73%|███████▎  | 4808/6561 [01:05<00:22, 76.25it/s]"
     ]
    },
    {
     "name": "stderr",
     "output_type": "stream",
     "text": [
      "\r",
      "loading hamiltonians:  73%|███████▎  | 4816/6561 [01:06<00:23, 75.21it/s]"
     ]
    },
    {
     "name": "stderr",
     "output_type": "stream",
     "text": [
      "\r",
      "loading hamiltonians:  74%|███████▎  | 4826/6561 [01:06<00:21, 80.53it/s]"
     ]
    },
    {
     "name": "stderr",
     "output_type": "stream",
     "text": [
      "\r",
      "loading hamiltonians:  74%|███████▎  | 4838/6561 [01:06<00:19, 87.54it/s]"
     ]
    },
    {
     "name": "stderr",
     "output_type": "stream",
     "text": [
      "\r",
      "loading hamiltonians:  74%|███████▍  | 4848/6561 [01:06<00:21, 78.74it/s]"
     ]
    },
    {
     "name": "stderr",
     "output_type": "stream",
     "text": [
      "\r",
      "loading hamiltonians:  74%|███████▍  | 4857/6561 [01:06<00:21, 78.66it/s]"
     ]
    },
    {
     "name": "stderr",
     "output_type": "stream",
     "text": [
      "\r",
      "loading hamiltonians:  74%|███████▍  | 4866/6561 [01:06<00:22, 76.57it/s]"
     ]
    },
    {
     "name": "stderr",
     "output_type": "stream",
     "text": [
      "\r",
      "loading hamiltonians:  74%|███████▍  | 4874/6561 [01:06<00:22, 74.39it/s]"
     ]
    },
    {
     "name": "stderr",
     "output_type": "stream",
     "text": [
      "\r",
      "loading hamiltonians:  74%|███████▍  | 4882/6561 [01:06<00:28, 59.39it/s]"
     ]
    },
    {
     "name": "stderr",
     "output_type": "stream",
     "text": [
      "\r",
      "loading hamiltonians:  75%|███████▍  | 4889/6561 [01:07<00:26, 62.08it/s]"
     ]
    },
    {
     "name": "stderr",
     "output_type": "stream",
     "text": [
      "\r",
      "loading hamiltonians:  75%|███████▍  | 4897/6561 [01:07<00:25, 65.30it/s]"
     ]
    },
    {
     "name": "stderr",
     "output_type": "stream",
     "text": [
      "\r",
      "loading hamiltonians:  75%|███████▍  | 4904/6561 [01:07<00:25, 65.86it/s]"
     ]
    },
    {
     "name": "stderr",
     "output_type": "stream",
     "text": [
      "\r",
      "loading hamiltonians:  75%|███████▍  | 4911/6561 [01:07<00:26, 61.85it/s]"
     ]
    },
    {
     "name": "stderr",
     "output_type": "stream",
     "text": [
      "\r",
      "loading hamiltonians:  75%|███████▍  | 4919/6561 [01:07<00:25, 64.45it/s]"
     ]
    },
    {
     "name": "stderr",
     "output_type": "stream",
     "text": [
      "\r",
      "loading hamiltonians:  75%|███████▌  | 4926/6561 [01:07<00:24, 65.78it/s]"
     ]
    },
    {
     "name": "stderr",
     "output_type": "stream",
     "text": [
      "\r",
      "loading hamiltonians:  75%|███████▌  | 4934/6561 [01:07<00:24, 66.75it/s]"
     ]
    },
    {
     "name": "stderr",
     "output_type": "stream",
     "text": [
      "\r",
      "loading hamiltonians:  75%|███████▌  | 4942/6561 [01:07<00:23, 69.43it/s]"
     ]
    },
    {
     "name": "stderr",
     "output_type": "stream",
     "text": [
      "\r",
      "loading hamiltonians:  75%|███████▌  | 4950/6561 [01:07<00:23, 68.97it/s]"
     ]
    },
    {
     "name": "stderr",
     "output_type": "stream",
     "text": [
      "\r",
      "loading hamiltonians:  76%|███████▌  | 4958/6561 [01:08<00:22, 71.70it/s]"
     ]
    },
    {
     "name": "stderr",
     "output_type": "stream",
     "text": [
      "\r",
      "loading hamiltonians:  76%|███████▌  | 4966/6561 [01:08<00:21, 73.74it/s]"
     ]
    },
    {
     "name": "stderr",
     "output_type": "stream",
     "text": [
      "\r",
      "loading hamiltonians:  76%|███████▌  | 4975/6561 [01:08<00:21, 74.61it/s]"
     ]
    },
    {
     "name": "stderr",
     "output_type": "stream",
     "text": [
      "\r",
      "loading hamiltonians:  76%|███████▌  | 4983/6561 [01:08<00:21, 74.56it/s]"
     ]
    },
    {
     "name": "stderr",
     "output_type": "stream",
     "text": [
      "\r",
      "loading hamiltonians:  76%|███████▌  | 4991/6561 [01:08<00:21, 72.74it/s]"
     ]
    },
    {
     "name": "stderr",
     "output_type": "stream",
     "text": [
      "\r",
      "loading hamiltonians:  76%|███████▌  | 4999/6561 [01:08<00:22, 69.07it/s]"
     ]
    },
    {
     "name": "stderr",
     "output_type": "stream",
     "text": [
      "\r",
      "loading hamiltonians:  76%|███████▋  | 5007/6561 [01:08<00:21, 71.47it/s]"
     ]
    },
    {
     "name": "stderr",
     "output_type": "stream",
     "text": [
      "\r",
      "loading hamiltonians:  76%|███████▋  | 5015/6561 [01:08<00:21, 73.30it/s]"
     ]
    },
    {
     "name": "stderr",
     "output_type": "stream",
     "text": [
      "\r",
      "loading hamiltonians:  77%|███████▋  | 5023/6561 [01:08<00:20, 75.10it/s]"
     ]
    },
    {
     "name": "stderr",
     "output_type": "stream",
     "text": [
      "\r",
      "loading hamiltonians:  77%|███████▋  | 5031/6561 [01:09<00:21, 71.38it/s]"
     ]
    },
    {
     "name": "stderr",
     "output_type": "stream",
     "text": [
      "\r",
      "loading hamiltonians:  77%|███████▋  | 5044/6561 [01:09<00:18, 82.42it/s]"
     ]
    },
    {
     "name": "stderr",
     "output_type": "stream",
     "text": [
      "\r",
      "loading hamiltonians:  77%|███████▋  | 5054/6561 [01:09<00:17, 85.82it/s]"
     ]
    },
    {
     "name": "stderr",
     "output_type": "stream",
     "text": [
      "\r",
      "loading hamiltonians:  77%|███████▋  | 5064/6561 [01:09<00:18, 79.41it/s]"
     ]
    },
    {
     "name": "stderr",
     "output_type": "stream",
     "text": [
      "\r",
      "loading hamiltonians:  77%|███████▋  | 5073/6561 [01:09<00:19, 77.29it/s]"
     ]
    },
    {
     "name": "stderr",
     "output_type": "stream",
     "text": [
      "\r",
      "loading hamiltonians:  77%|███████▋  | 5082/6561 [01:09<00:19, 75.38it/s]"
     ]
    },
    {
     "name": "stderr",
     "output_type": "stream",
     "text": [
      "\r",
      "loading hamiltonians:  78%|███████▊  | 5090/6561 [01:09<00:20, 70.14it/s]"
     ]
    },
    {
     "name": "stderr",
     "output_type": "stream",
     "text": [
      "\r",
      "loading hamiltonians:  78%|███████▊  | 5100/6561 [01:09<00:19, 76.15it/s]"
     ]
    },
    {
     "name": "stderr",
     "output_type": "stream",
     "text": [
      "\r",
      "loading hamiltonians:  78%|███████▊  | 5108/6561 [01:09<00:18, 77.22it/s]"
     ]
    },
    {
     "name": "stderr",
     "output_type": "stream",
     "text": [
      "\r",
      "loading hamiltonians:  78%|███████▊  | 5118/6561 [01:10<00:17, 81.06it/s]"
     ]
    },
    {
     "name": "stderr",
     "output_type": "stream",
     "text": [
      "\r",
      "loading hamiltonians:  78%|███████▊  | 5127/6561 [01:10<00:17, 81.73it/s]"
     ]
    },
    {
     "name": "stderr",
     "output_type": "stream",
     "text": [
      "\r",
      "loading hamiltonians:  78%|███████▊  | 5136/6561 [01:10<00:18, 75.70it/s]"
     ]
    },
    {
     "name": "stderr",
     "output_type": "stream",
     "text": [
      "\r",
      "loading hamiltonians:  78%|███████▊  | 5144/6561 [01:10<00:18, 75.54it/s]"
     ]
    },
    {
     "name": "stderr",
     "output_type": "stream",
     "text": [
      "\r",
      "loading hamiltonians:  79%|███████▊  | 5152/6561 [01:10<00:20, 69.63it/s]"
     ]
    },
    {
     "name": "stderr",
     "output_type": "stream",
     "text": [
      "\r",
      "loading hamiltonians:  79%|███████▊  | 5161/6561 [01:10<00:19, 72.44it/s]"
     ]
    },
    {
     "name": "stderr",
     "output_type": "stream",
     "text": [
      "\r",
      "loading hamiltonians:  79%|███████▉  | 5169/6561 [01:10<00:19, 72.07it/s]"
     ]
    },
    {
     "name": "stderr",
     "output_type": "stream",
     "text": [
      "\r",
      "loading hamiltonians:  79%|███████▉  | 5179/6561 [01:10<00:18, 76.18it/s]"
     ]
    },
    {
     "name": "stderr",
     "output_type": "stream",
     "text": [
      "\r",
      "loading hamiltonians:  79%|███████▉  | 5187/6561 [01:11<00:18, 72.86it/s]"
     ]
    },
    {
     "name": "stderr",
     "output_type": "stream",
     "text": [
      "\r",
      "loading hamiltonians:  79%|███████▉  | 5198/6561 [01:11<00:17, 79.46it/s]"
     ]
    },
    {
     "name": "stderr",
     "output_type": "stream",
     "text": [
      "\r",
      "loading hamiltonians:  79%|███████▉  | 5207/6561 [01:11<00:17, 77.26it/s]"
     ]
    },
    {
     "name": "stderr",
     "output_type": "stream",
     "text": [
      "\r",
      "loading hamiltonians:  79%|███████▉  | 5215/6561 [01:11<00:17, 77.27it/s]"
     ]
    },
    {
     "name": "stderr",
     "output_type": "stream",
     "text": [
      "\r",
      "loading hamiltonians:  80%|███████▉  | 5223/6561 [01:11<00:17, 75.60it/s]"
     ]
    },
    {
     "name": "stderr",
     "output_type": "stream",
     "text": [
      "\r",
      "loading hamiltonians:  80%|███████▉  | 5232/6561 [01:11<00:17, 77.82it/s]"
     ]
    },
    {
     "name": "stderr",
     "output_type": "stream",
     "text": [
      "\r",
      "loading hamiltonians:  80%|███████▉  | 5240/6561 [01:11<00:17, 76.86it/s]"
     ]
    },
    {
     "name": "stderr",
     "output_type": "stream",
     "text": [
      "\r",
      "loading hamiltonians:  80%|███████▉  | 5248/6561 [01:11<00:17, 74.87it/s]"
     ]
    },
    {
     "name": "stderr",
     "output_type": "stream",
     "text": [
      "\r",
      "loading hamiltonians:  80%|████████  | 5256/6561 [01:12<00:22, 59.05it/s]"
     ]
    },
    {
     "name": "stderr",
     "output_type": "stream",
     "text": [
      "\r",
      "loading hamiltonians:  80%|████████  | 5267/6561 [01:12<00:19, 67.25it/s]"
     ]
    },
    {
     "name": "stderr",
     "output_type": "stream",
     "text": [
      "\r",
      "loading hamiltonians:  80%|████████  | 5277/6561 [01:12<00:17, 74.08it/s]"
     ]
    },
    {
     "name": "stderr",
     "output_type": "stream",
     "text": [
      "\r",
      "loading hamiltonians:  81%|████████  | 5286/6561 [01:12<00:17, 74.90it/s]"
     ]
    },
    {
     "name": "stderr",
     "output_type": "stream",
     "text": [
      "\r",
      "loading hamiltonians:  81%|████████  | 5295/6561 [01:12<00:17, 73.68it/s]"
     ]
    },
    {
     "name": "stderr",
     "output_type": "stream",
     "text": [
      "\r",
      "loading hamiltonians:  81%|████████  | 5303/6561 [01:12<00:17, 73.47it/s]"
     ]
    },
    {
     "name": "stderr",
     "output_type": "stream",
     "text": [
      "\r",
      "loading hamiltonians:  81%|████████  | 5311/6561 [01:12<00:17, 71.72it/s]"
     ]
    },
    {
     "name": "stderr",
     "output_type": "stream",
     "text": [
      "\r",
      "loading hamiltonians:  81%|████████  | 5319/6561 [01:12<00:16, 73.46it/s]"
     ]
    },
    {
     "name": "stderr",
     "output_type": "stream",
     "text": [
      "\r",
      "loading hamiltonians:  81%|████████  | 5327/6561 [01:12<00:17, 71.60it/s]"
     ]
    },
    {
     "name": "stderr",
     "output_type": "stream",
     "text": [
      "\r",
      "loading hamiltonians:  81%|████████▏ | 5336/6561 [01:13<00:16, 73.17it/s]"
     ]
    },
    {
     "name": "stderr",
     "output_type": "stream",
     "text": [
      "\r",
      "loading hamiltonians:  82%|████████▏ | 5349/6561 [01:13<00:14, 82.81it/s]"
     ]
    },
    {
     "name": "stderr",
     "output_type": "stream",
     "text": [
      "\r",
      "loading hamiltonians:  82%|████████▏ | 5358/6561 [01:13<00:15, 80.11it/s]"
     ]
    },
    {
     "name": "stderr",
     "output_type": "stream",
     "text": [
      "\r",
      "loading hamiltonians:  82%|████████▏ | 5367/6561 [01:13<00:14, 80.50it/s]"
     ]
    },
    {
     "name": "stderr",
     "output_type": "stream",
     "text": [
      "\r",
      "loading hamiltonians:  82%|████████▏ | 5377/6561 [01:13<00:14, 83.00it/s]"
     ]
    },
    {
     "name": "stderr",
     "output_type": "stream",
     "text": [
      "\r",
      "loading hamiltonians:  82%|████████▏ | 5386/6561 [01:13<00:15, 73.58it/s]"
     ]
    },
    {
     "name": "stderr",
     "output_type": "stream",
     "text": [
      "\r",
      "loading hamiltonians:  82%|████████▏ | 5396/6561 [01:13<00:14, 78.84it/s]"
     ]
    },
    {
     "name": "stderr",
     "output_type": "stream",
     "text": [
      "\r",
      "loading hamiltonians:  82%|████████▏ | 5405/6561 [01:13<00:15, 73.45it/s]"
     ]
    },
    {
     "name": "stderr",
     "output_type": "stream",
     "text": [
      "\r",
      "loading hamiltonians:  83%|████████▎ | 5413/6561 [01:14<00:16, 71.37it/s]"
     ]
    },
    {
     "name": "stderr",
     "output_type": "stream",
     "text": [
      "\r",
      "loading hamiltonians:  83%|████████▎ | 5424/6561 [01:14<00:14, 77.81it/s]"
     ]
    },
    {
     "name": "stderr",
     "output_type": "stream",
     "text": [
      "\r",
      "loading hamiltonians:  83%|████████▎ | 5433/6561 [01:14<00:15, 72.41it/s]"
     ]
    },
    {
     "name": "stderr",
     "output_type": "stream",
     "text": [
      "\r",
      "loading hamiltonians:  83%|████████▎ | 5441/6561 [01:14<00:15, 71.63it/s]"
     ]
    },
    {
     "name": "stderr",
     "output_type": "stream",
     "text": [
      "\r",
      "loading hamiltonians:  83%|████████▎ | 5449/6561 [01:14<00:15, 73.36it/s]"
     ]
    },
    {
     "name": "stderr",
     "output_type": "stream",
     "text": [
      "\r",
      "loading hamiltonians:  83%|████████▎ | 5457/6561 [01:14<00:14, 73.90it/s]"
     ]
    },
    {
     "name": "stderr",
     "output_type": "stream",
     "text": [
      "\r",
      "loading hamiltonians:  83%|████████▎ | 5466/6561 [01:14<00:14, 77.40it/s]"
     ]
    },
    {
     "name": "stderr",
     "output_type": "stream",
     "text": [
      "\r",
      "loading hamiltonians:  83%|████████▎ | 5475/6561 [01:14<00:13, 78.73it/s]"
     ]
    },
    {
     "name": "stderr",
     "output_type": "stream",
     "text": [
      "\r",
      "loading hamiltonians:  84%|████████▎ | 5483/6561 [01:14<00:13, 77.83it/s]"
     ]
    },
    {
     "name": "stderr",
     "output_type": "stream",
     "text": [
      "\r",
      "loading hamiltonians:  84%|████████▎ | 5491/6561 [01:15<00:14, 74.88it/s]"
     ]
    },
    {
     "name": "stderr",
     "output_type": "stream",
     "text": [
      "\r",
      "loading hamiltonians:  84%|████████▍ | 5500/6561 [01:15<00:13, 76.94it/s]"
     ]
    },
    {
     "name": "stderr",
     "output_type": "stream",
     "text": [
      "\r",
      "loading hamiltonians:  84%|████████▍ | 5510/6561 [01:15<00:13, 79.60it/s]"
     ]
    },
    {
     "name": "stderr",
     "output_type": "stream",
     "text": [
      "\r",
      "loading hamiltonians:  84%|████████▍ | 5519/6561 [01:15<00:13, 76.69it/s]"
     ]
    },
    {
     "name": "stderr",
     "output_type": "stream",
     "text": [
      "\r",
      "loading hamiltonians:  84%|████████▍ | 5527/6561 [01:15<00:14, 72.93it/s]"
     ]
    },
    {
     "name": "stderr",
     "output_type": "stream",
     "text": [
      "\r",
      "loading hamiltonians:  84%|████████▍ | 5535/6561 [01:15<00:14, 72.32it/s]"
     ]
    },
    {
     "name": "stderr",
     "output_type": "stream",
     "text": [
      "\r",
      "loading hamiltonians:  84%|████████▍ | 5543/6561 [01:15<00:14, 71.23it/s]"
     ]
    },
    {
     "name": "stderr",
     "output_type": "stream",
     "text": [
      "\r",
      "loading hamiltonians:  85%|████████▍ | 5551/6561 [01:15<00:13, 72.81it/s]"
     ]
    },
    {
     "name": "stderr",
     "output_type": "stream",
     "text": [
      "\r",
      "loading hamiltonians:  85%|████████▍ | 5560/6561 [01:15<00:13, 74.39it/s]"
     ]
    },
    {
     "name": "stderr",
     "output_type": "stream",
     "text": [
      "\r",
      "loading hamiltonians:  85%|████████▍ | 5568/6561 [01:16<00:14, 67.68it/s]"
     ]
    },
    {
     "name": "stderr",
     "output_type": "stream",
     "text": [
      "\r",
      "loading hamiltonians:  85%|████████▍ | 5576/6561 [01:16<00:14, 69.91it/s]"
     ]
    },
    {
     "name": "stderr",
     "output_type": "stream",
     "text": [
      "\r",
      "loading hamiltonians:  85%|████████▌ | 5584/6561 [01:16<00:13, 72.12it/s]"
     ]
    },
    {
     "name": "stderr",
     "output_type": "stream",
     "text": [
      "\r",
      "loading hamiltonians:  85%|████████▌ | 5592/6561 [01:16<00:13, 73.27it/s]"
     ]
    },
    {
     "name": "stderr",
     "output_type": "stream",
     "text": [
      "\r",
      "loading hamiltonians:  85%|████████▌ | 5600/6561 [01:16<00:12, 74.34it/s]"
     ]
    },
    {
     "name": "stderr",
     "output_type": "stream",
     "text": [
      "\r",
      "loading hamiltonians:  85%|████████▌ | 5608/6561 [01:16<00:13, 72.72it/s]"
     ]
    },
    {
     "name": "stderr",
     "output_type": "stream",
     "text": [
      "\r",
      "loading hamiltonians:  86%|████████▌ | 5616/6561 [01:16<00:13, 68.46it/s]"
     ]
    },
    {
     "name": "stderr",
     "output_type": "stream",
     "text": [
      "\r",
      "loading hamiltonians:  86%|████████▌ | 5624/6561 [01:16<00:13, 69.34it/s]"
     ]
    },
    {
     "name": "stderr",
     "output_type": "stream",
     "text": [
      "\r",
      "loading hamiltonians:  86%|████████▌ | 5631/6561 [01:17<00:16, 57.20it/s]"
     ]
    },
    {
     "name": "stderr",
     "output_type": "stream",
     "text": [
      "\r",
      "loading hamiltonians:  86%|████████▌ | 5640/6561 [01:17<00:14, 63.33it/s]"
     ]
    },
    {
     "name": "stderr",
     "output_type": "stream",
     "text": [
      "\r",
      "loading hamiltonians:  86%|████████▌ | 5648/6561 [01:17<00:13, 65.40it/s]"
     ]
    },
    {
     "name": "stderr",
     "output_type": "stream",
     "text": [
      "\r",
      "loading hamiltonians:  86%|████████▌ | 5655/6561 [01:17<00:14, 63.72it/s]"
     ]
    },
    {
     "name": "stderr",
     "output_type": "stream",
     "text": [
      "\r",
      "loading hamiltonians:  86%|████████▋ | 5662/6561 [01:17<00:13, 64.79it/s]"
     ]
    },
    {
     "name": "stderr",
     "output_type": "stream",
     "text": [
      "\r",
      "loading hamiltonians:  86%|████████▋ | 5669/6561 [01:17<00:13, 65.86it/s]"
     ]
    },
    {
     "name": "stderr",
     "output_type": "stream",
     "text": [
      "\r",
      "loading hamiltonians:  87%|████████▋ | 5676/6561 [01:17<00:13, 66.29it/s]"
     ]
    },
    {
     "name": "stderr",
     "output_type": "stream",
     "text": [
      "\r",
      "loading hamiltonians:  87%|████████▋ | 5683/6561 [01:17<00:13, 67.26it/s]"
     ]
    },
    {
     "name": "stderr",
     "output_type": "stream",
     "text": [
      "\r",
      "loading hamiltonians:  87%|████████▋ | 5690/6561 [01:17<00:14, 61.85it/s]"
     ]
    },
    {
     "name": "stderr",
     "output_type": "stream",
     "text": [
      "\r",
      "loading hamiltonians:  87%|████████▋ | 5698/6561 [01:18<00:13, 65.31it/s]"
     ]
    },
    {
     "name": "stderr",
     "output_type": "stream",
     "text": [
      "\r",
      "loading hamiltonians:  87%|████████▋ | 5710/6561 [01:18<00:11, 74.35it/s]"
     ]
    },
    {
     "name": "stderr",
     "output_type": "stream",
     "text": [
      "\r",
      "loading hamiltonians:  87%|████████▋ | 5721/6561 [01:18<00:10, 80.62it/s]"
     ]
    },
    {
     "name": "stderr",
     "output_type": "stream",
     "text": [
      "\r",
      "loading hamiltonians:  87%|████████▋ | 5730/6561 [01:18<00:10, 82.88it/s]"
     ]
    },
    {
     "name": "stderr",
     "output_type": "stream",
     "text": [
      "\r",
      "loading hamiltonians:  87%|████████▋ | 5740/6561 [01:18<00:09, 85.77it/s]"
     ]
    },
    {
     "name": "stderr",
     "output_type": "stream",
     "text": [
      "\r",
      "loading hamiltonians:  88%|████████▊ | 5749/6561 [01:18<00:10, 79.82it/s]"
     ]
    },
    {
     "name": "stderr",
     "output_type": "stream",
     "text": [
      "\r",
      "loading hamiltonians:  88%|████████▊ | 5758/6561 [01:20<00:49, 16.37it/s]"
     ]
    },
    {
     "name": "stderr",
     "output_type": "stream",
     "text": [
      "\r",
      "loading hamiltonians:  88%|████████▊ | 5765/6561 [01:20<00:37, 21.08it/s]"
     ]
    },
    {
     "name": "stderr",
     "output_type": "stream",
     "text": [
      "\r",
      "loading hamiltonians:  88%|████████▊ | 5772/6561 [01:20<00:29, 26.52it/s]"
     ]
    },
    {
     "name": "stderr",
     "output_type": "stream",
     "text": [
      "\r",
      "loading hamiltonians:  88%|████████▊ | 5780/6561 [01:20<00:23, 33.05it/s]"
     ]
    },
    {
     "name": "stderr",
     "output_type": "stream",
     "text": [
      "\r",
      "loading hamiltonians:  88%|████████▊ | 5789/6561 [01:20<00:18, 40.68it/s]"
     ]
    },
    {
     "name": "stderr",
     "output_type": "stream",
     "text": [
      "\r",
      "loading hamiltonians:  88%|████████▊ | 5797/6561 [01:20<00:16, 46.61it/s]"
     ]
    },
    {
     "name": "stderr",
     "output_type": "stream",
     "text": [
      "\r",
      "loading hamiltonians:  88%|████████▊ | 5806/6561 [01:20<00:13, 53.94it/s]"
     ]
    },
    {
     "name": "stderr",
     "output_type": "stream",
     "text": [
      "\r",
      "loading hamiltonians:  89%|████████▊ | 5814/6561 [01:20<00:12, 58.24it/s]"
     ]
    },
    {
     "name": "stderr",
     "output_type": "stream",
     "text": [
      "\r",
      "loading hamiltonians:  89%|████████▉ | 5823/6561 [01:21<00:11, 63.57it/s]"
     ]
    },
    {
     "name": "stderr",
     "output_type": "stream",
     "text": [
      "\r",
      "loading hamiltonians:  89%|████████▉ | 5833/6561 [01:21<00:10, 70.99it/s]"
     ]
    },
    {
     "name": "stderr",
     "output_type": "stream",
     "text": [
      "\r",
      "loading hamiltonians:  89%|████████▉ | 5843/6561 [01:21<00:09, 77.29it/s]"
     ]
    },
    {
     "name": "stderr",
     "output_type": "stream",
     "text": [
      "\r",
      "loading hamiltonians:  89%|████████▉ | 5852/6561 [01:21<00:09, 77.36it/s]"
     ]
    },
    {
     "name": "stderr",
     "output_type": "stream",
     "text": [
      "\r",
      "loading hamiltonians:  89%|████████▉ | 5861/6561 [01:21<00:08, 78.98it/s]"
     ]
    },
    {
     "name": "stderr",
     "output_type": "stream",
     "text": [
      "\r",
      "loading hamiltonians:  89%|████████▉ | 5870/6561 [01:21<00:09, 72.91it/s]"
     ]
    },
    {
     "name": "stderr",
     "output_type": "stream",
     "text": [
      "\r",
      "loading hamiltonians:  90%|████████▉ | 5880/6561 [01:21<00:08, 77.20it/s]"
     ]
    },
    {
     "name": "stderr",
     "output_type": "stream",
     "text": [
      "\r",
      "loading hamiltonians:  90%|████████▉ | 5889/6561 [01:21<00:08, 75.09it/s]"
     ]
    },
    {
     "name": "stderr",
     "output_type": "stream",
     "text": [
      "\r",
      "loading hamiltonians:  90%|████████▉ | 5897/6561 [01:22<00:11, 59.76it/s]"
     ]
    },
    {
     "name": "stderr",
     "output_type": "stream",
     "text": [
      "\r",
      "loading hamiltonians:  90%|█████████ | 5907/6561 [01:22<00:09, 66.71it/s]"
     ]
    },
    {
     "name": "stderr",
     "output_type": "stream",
     "text": [
      "\r",
      "loading hamiltonians:  90%|█████████ | 5915/6561 [01:22<00:09, 68.82it/s]"
     ]
    },
    {
     "name": "stderr",
     "output_type": "stream",
     "text": [
      "\r",
      "loading hamiltonians:  90%|█████████ | 5923/6561 [01:22<00:09, 70.34it/s]"
     ]
    },
    {
     "name": "stderr",
     "output_type": "stream",
     "text": [
      "\r",
      "loading hamiltonians:  90%|█████████ | 5931/6561 [01:22<00:09, 64.28it/s]"
     ]
    },
    {
     "name": "stderr",
     "output_type": "stream",
     "text": [
      "\r",
      "loading hamiltonians:  91%|█████████ | 5939/6561 [01:22<00:09, 67.36it/s]"
     ]
    },
    {
     "name": "stderr",
     "output_type": "stream",
     "text": [
      "\r",
      "loading hamiltonians:  91%|█████████ | 5947/6561 [01:22<00:08, 69.15it/s]"
     ]
    },
    {
     "name": "stderr",
     "output_type": "stream",
     "text": [
      "\r",
      "loading hamiltonians:  91%|█████████ | 5955/6561 [01:22<00:08, 68.89it/s]"
     ]
    },
    {
     "name": "stderr",
     "output_type": "stream",
     "text": [
      "\r",
      "loading hamiltonians:  91%|█████████ | 5963/6561 [01:22<00:08, 71.50it/s]"
     ]
    },
    {
     "name": "stderr",
     "output_type": "stream",
     "text": [
      "\r",
      "loading hamiltonians:  91%|█████████ | 5971/6561 [01:23<00:08, 72.99it/s]"
     ]
    },
    {
     "name": "stderr",
     "output_type": "stream",
     "text": [
      "\r",
      "loading hamiltonians:  91%|█████████ | 5979/6561 [01:23<00:07, 73.22it/s]"
     ]
    },
    {
     "name": "stderr",
     "output_type": "stream",
     "text": [
      "\r",
      "loading hamiltonians:  91%|█████████▏| 5988/6561 [01:23<00:07, 75.12it/s]"
     ]
    },
    {
     "name": "stderr",
     "output_type": "stream",
     "text": [
      "\r",
      "loading hamiltonians:  91%|█████████▏| 5996/6561 [01:23<00:07, 70.98it/s]"
     ]
    },
    {
     "name": "stderr",
     "output_type": "stream",
     "text": [
      "\r",
      "loading hamiltonians:  92%|█████████▏| 6004/6561 [01:23<00:07, 73.32it/s]"
     ]
    },
    {
     "name": "stderr",
     "output_type": "stream",
     "text": [
      "\r",
      "loading hamiltonians:  92%|█████████▏| 6012/6561 [01:23<00:07, 72.50it/s]"
     ]
    },
    {
     "name": "stderr",
     "output_type": "stream",
     "text": [
      "\r",
      "loading hamiltonians:  92%|█████████▏| 6020/6561 [01:23<00:07, 71.14it/s]"
     ]
    },
    {
     "name": "stderr",
     "output_type": "stream",
     "text": [
      "\r",
      "loading hamiltonians:  92%|█████████▏| 6028/6561 [01:23<00:07, 70.30it/s]"
     ]
    },
    {
     "name": "stderr",
     "output_type": "stream",
     "text": [
      "\r",
      "loading hamiltonians:  92%|█████████▏| 6036/6561 [01:23<00:07, 72.82it/s]"
     ]
    },
    {
     "name": "stderr",
     "output_type": "stream",
     "text": [
      "\r",
      "loading hamiltonians:  92%|█████████▏| 6044/6561 [01:24<00:07, 71.78it/s]"
     ]
    },
    {
     "name": "stderr",
     "output_type": "stream",
     "text": [
      "\r",
      "loading hamiltonians:  92%|█████████▏| 6053/6561 [01:24<00:06, 76.07it/s]"
     ]
    },
    {
     "name": "stderr",
     "output_type": "stream",
     "text": [
      "\r",
      "loading hamiltonians:  92%|█████████▏| 6063/6561 [01:24<00:06, 81.16it/s]"
     ]
    },
    {
     "name": "stderr",
     "output_type": "stream",
     "text": [
      "\r",
      "loading hamiltonians:  93%|█████████▎| 6072/6561 [01:24<00:06, 81.37it/s]"
     ]
    },
    {
     "name": "stderr",
     "output_type": "stream",
     "text": [
      "\r",
      "loading hamiltonians:  93%|█████████▎| 6081/6561 [01:24<00:05, 80.45it/s]"
     ]
    },
    {
     "name": "stderr",
     "output_type": "stream",
     "text": [
      "\r",
      "loading hamiltonians:  93%|█████████▎| 6090/6561 [01:24<00:06, 76.86it/s]"
     ]
    },
    {
     "name": "stderr",
     "output_type": "stream",
     "text": [
      "\r",
      "loading hamiltonians:  93%|█████████▎| 6098/6561 [01:24<00:06, 71.84it/s]"
     ]
    },
    {
     "name": "stderr",
     "output_type": "stream",
     "text": [
      "\r",
      "loading hamiltonians:  93%|█████████▎| 6106/6561 [01:24<00:06, 73.87it/s]"
     ]
    },
    {
     "name": "stderr",
     "output_type": "stream",
     "text": [
      "\r",
      "loading hamiltonians:  93%|█████████▎| 6114/6561 [01:25<00:06, 65.45it/s]"
     ]
    },
    {
     "name": "stderr",
     "output_type": "stream",
     "text": [
      "\r",
      "loading hamiltonians:  93%|█████████▎| 6122/6561 [01:25<00:06, 67.21it/s]"
     ]
    },
    {
     "name": "stderr",
     "output_type": "stream",
     "text": [
      "\r",
      "loading hamiltonians:  93%|█████████▎| 6130/6561 [01:25<00:06, 70.31it/s]"
     ]
    },
    {
     "name": "stderr",
     "output_type": "stream",
     "text": [
      "\r",
      "loading hamiltonians:  94%|█████████▎| 6139/6561 [01:25<00:05, 73.44it/s]"
     ]
    },
    {
     "name": "stderr",
     "output_type": "stream",
     "text": [
      "\r",
      "loading hamiltonians:  94%|█████████▎| 6148/6561 [01:25<00:05, 76.93it/s]"
     ]
    },
    {
     "name": "stderr",
     "output_type": "stream",
     "text": [
      "\r",
      "loading hamiltonians:  94%|█████████▍| 6156/6561 [01:25<00:05, 73.38it/s]"
     ]
    },
    {
     "name": "stderr",
     "output_type": "stream",
     "text": [
      "\r",
      "loading hamiltonians:  94%|█████████▍| 6164/6561 [01:25<00:05, 72.15it/s]"
     ]
    },
    {
     "name": "stderr",
     "output_type": "stream",
     "text": [
      "\r",
      "loading hamiltonians:  94%|█████████▍| 6172/6561 [01:25<00:05, 66.27it/s]"
     ]
    },
    {
     "name": "stderr",
     "output_type": "stream",
     "text": [
      "\r",
      "loading hamiltonians:  94%|█████████▍| 6184/6561 [01:25<00:05, 75.07it/s]"
     ]
    },
    {
     "name": "stderr",
     "output_type": "stream",
     "text": [
      "\r",
      "loading hamiltonians:  94%|█████████▍| 6193/6561 [01:26<00:04, 78.50it/s]"
     ]
    },
    {
     "name": "stderr",
     "output_type": "stream",
     "text": [
      "\r",
      "loading hamiltonians:  95%|█████████▍| 6204/6561 [01:26<00:04, 83.49it/s]"
     ]
    },
    {
     "name": "stderr",
     "output_type": "stream",
     "text": [
      "\r",
      "loading hamiltonians:  95%|█████████▍| 6213/6561 [01:26<00:04, 83.32it/s]"
     ]
    },
    {
     "name": "stderr",
     "output_type": "stream",
     "text": [
      "\r",
      "loading hamiltonians:  95%|█████████▍| 6222/6561 [01:26<00:04, 75.06it/s]"
     ]
    },
    {
     "name": "stderr",
     "output_type": "stream",
     "text": [
      "\r",
      "loading hamiltonians:  95%|█████████▍| 6230/6561 [01:26<00:04, 71.97it/s]"
     ]
    },
    {
     "name": "stderr",
     "output_type": "stream",
     "text": [
      "\r",
      "loading hamiltonians:  95%|█████████▌| 6238/6561 [01:26<00:04, 74.03it/s]"
     ]
    },
    {
     "name": "stderr",
     "output_type": "stream",
     "text": [
      "\r",
      "loading hamiltonians:  95%|█████████▌| 6246/6561 [01:26<00:04, 72.05it/s]"
     ]
    },
    {
     "name": "stderr",
     "output_type": "stream",
     "text": [
      "\r",
      "loading hamiltonians:  95%|█████████▌| 6254/6561 [01:26<00:04, 71.27it/s]"
     ]
    },
    {
     "name": "stderr",
     "output_type": "stream",
     "text": [
      "\r",
      "loading hamiltonians:  95%|█████████▌| 6262/6561 [01:26<00:04, 69.38it/s]"
     ]
    },
    {
     "name": "stderr",
     "output_type": "stream",
     "text": [
      "\r",
      "loading hamiltonians:  96%|█████████▌| 6270/6561 [01:27<00:05, 52.76it/s]"
     ]
    },
    {
     "name": "stderr",
     "output_type": "stream",
     "text": [
      "\r",
      "loading hamiltonians:  96%|█████████▌| 6281/6561 [01:27<00:04, 61.65it/s]"
     ]
    },
    {
     "name": "stderr",
     "output_type": "stream",
     "text": [
      "\r",
      "loading hamiltonians:  96%|█████████▌| 6289/6561 [01:27<00:04, 63.95it/s]"
     ]
    },
    {
     "name": "stderr",
     "output_type": "stream",
     "text": [
      "\r",
      "loading hamiltonians:  96%|█████████▌| 6297/6561 [01:27<00:04, 64.53it/s]"
     ]
    },
    {
     "name": "stderr",
     "output_type": "stream",
     "text": [
      "\r",
      "loading hamiltonians:  96%|█████████▌| 6304/6561 [01:27<00:03, 65.42it/s]"
     ]
    },
    {
     "name": "stderr",
     "output_type": "stream",
     "text": [
      "\r",
      "loading hamiltonians:  96%|█████████▌| 6313/6561 [01:27<00:03, 70.45it/s]"
     ]
    },
    {
     "name": "stderr",
     "output_type": "stream",
     "text": [
      "\r",
      "loading hamiltonians:  96%|█████████▋| 6321/6561 [01:27<00:03, 70.88it/s]"
     ]
    },
    {
     "name": "stderr",
     "output_type": "stream",
     "text": [
      "\r",
      "loading hamiltonians:  96%|█████████▋| 6329/6561 [01:27<00:03, 72.58it/s]"
     ]
    },
    {
     "name": "stderr",
     "output_type": "stream",
     "text": [
      "\r",
      "loading hamiltonians:  97%|█████████▋| 6337/6561 [01:28<00:03, 72.75it/s]"
     ]
    },
    {
     "name": "stderr",
     "output_type": "stream",
     "text": [
      "\r",
      "loading hamiltonians:  97%|█████████▋| 6346/6561 [01:28<00:02, 75.91it/s]"
     ]
    },
    {
     "name": "stderr",
     "output_type": "stream",
     "text": [
      "\r",
      "loading hamiltonians:  97%|█████████▋| 6354/6561 [01:28<00:02, 72.37it/s]"
     ]
    },
    {
     "name": "stderr",
     "output_type": "stream",
     "text": [
      "\r",
      "loading hamiltonians:  97%|█████████▋| 6362/6561 [01:28<00:02, 71.30it/s]"
     ]
    },
    {
     "name": "stderr",
     "output_type": "stream",
     "text": [
      "\r",
      "loading hamiltonians:  97%|█████████▋| 6370/6561 [01:28<00:02, 72.21it/s]"
     ]
    },
    {
     "name": "stderr",
     "output_type": "stream",
     "text": [
      "\r",
      "loading hamiltonians:  97%|█████████▋| 6378/6561 [01:28<00:02, 73.01it/s]"
     ]
    },
    {
     "name": "stderr",
     "output_type": "stream",
     "text": [
      "\r",
      "loading hamiltonians:  97%|█████████▋| 6387/6561 [01:28<00:02, 76.10it/s]"
     ]
    },
    {
     "name": "stderr",
     "output_type": "stream",
     "text": [
      "\r",
      "loading hamiltonians:  98%|█████████▊| 6399/6561 [01:28<00:01, 83.18it/s]"
     ]
    },
    {
     "name": "stderr",
     "output_type": "stream",
     "text": [
      "\r",
      "loading hamiltonians:  98%|█████████▊| 6408/6561 [01:28<00:01, 81.56it/s]"
     ]
    },
    {
     "name": "stderr",
     "output_type": "stream",
     "text": [
      "\r",
      "loading hamiltonians:  98%|█████████▊| 6417/6561 [01:29<00:01, 79.36it/s]"
     ]
    },
    {
     "name": "stderr",
     "output_type": "stream",
     "text": [
      "\r",
      "loading hamiltonians:  98%|█████████▊| 6426/6561 [01:29<00:01, 80.00it/s]"
     ]
    },
    {
     "name": "stderr",
     "output_type": "stream",
     "text": [
      "\r",
      "loading hamiltonians:  98%|█████████▊| 6435/6561 [01:29<00:01, 79.68it/s]"
     ]
    },
    {
     "name": "stderr",
     "output_type": "stream",
     "text": [
      "\r",
      "loading hamiltonians:  98%|█████████▊| 6444/6561 [01:29<00:01, 81.95it/s]"
     ]
    },
    {
     "name": "stderr",
     "output_type": "stream",
     "text": [
      "\r",
      "loading hamiltonians:  98%|█████████▊| 6453/6561 [01:29<00:01, 80.23it/s]"
     ]
    },
    {
     "name": "stderr",
     "output_type": "stream",
     "text": [
      "\r",
      "loading hamiltonians:  98%|█████████▊| 6462/6561 [01:29<00:01, 75.38it/s]"
     ]
    },
    {
     "name": "stderr",
     "output_type": "stream",
     "text": [
      "\r",
      "loading hamiltonians:  99%|█████████▊| 6470/6561 [01:29<00:01, 74.67it/s]"
     ]
    },
    {
     "name": "stderr",
     "output_type": "stream",
     "text": [
      "\r",
      "loading hamiltonians:  99%|█████████▉| 6479/6561 [01:29<00:01, 76.35it/s]"
     ]
    },
    {
     "name": "stderr",
     "output_type": "stream",
     "text": [
      "\r",
      "loading hamiltonians:  99%|█████████▉| 6488/6561 [01:30<00:00, 78.83it/s]"
     ]
    },
    {
     "name": "stderr",
     "output_type": "stream",
     "text": [
      "\r",
      "loading hamiltonians:  99%|█████████▉| 6496/6561 [01:30<00:00, 78.51it/s]"
     ]
    },
    {
     "name": "stderr",
     "output_type": "stream",
     "text": [
      "\r",
      "loading hamiltonians:  99%|█████████▉| 6507/6561 [01:30<00:00, 73.90it/s]"
     ]
    },
    {
     "name": "stderr",
     "output_type": "stream",
     "text": [
      "\r",
      "loading hamiltonians:  99%|█████████▉| 6515/6561 [01:30<00:00, 51.56it/s]"
     ]
    },
    {
     "name": "stderr",
     "output_type": "stream",
     "text": [
      "\r",
      "loading hamiltonians:  99%|█████████▉| 6523/6561 [01:30<00:00, 56.70it/s]"
     ]
    },
    {
     "name": "stderr",
     "output_type": "stream",
     "text": [
      "\r",
      "loading hamiltonians: 100%|█████████▉| 6530/6561 [01:30<00:00, 57.49it/s]"
     ]
    },
    {
     "name": "stderr",
     "output_type": "stream",
     "text": [
      "\r",
      "loading hamiltonians: 100%|█████████▉| 6541/6561 [01:30<00:00, 66.33it/s]"
     ]
    },
    {
     "name": "stderr",
     "output_type": "stream",
     "text": [
      "\r",
      "loading hamiltonians: 100%|█████████▉| 6549/6561 [01:30<00:00, 68.27it/s]"
     ]
    },
    {
     "name": "stderr",
     "output_type": "stream",
     "text": [
      "\r",
      "loading hamiltonians: 100%|█████████▉| 6557/6561 [01:31<00:00, 70.66it/s]"
     ]
    },
    {
     "name": "stderr",
     "output_type": "stream",
     "text": [
      "\r",
      "loading hamiltonians: 100%|██████████| 6561/6561 [01:31<00:00, 71.99it/s]"
     ]
    },
    {
     "name": "stderr",
     "output_type": "stream",
     "text": [
      "\n"
     ]
    },
    {
     "name": "stdout",
     "output_type": "stream",
     "text": [
      "shape of raw_data:  (918540, 144)\n",
      "len list_of_hamiltonians:  6561\n"
     ]
    },
    {
     "name": "stdout",
     "output_type": "stream",
     "text": [
      "CPU times: user 2min 12s, sys: 16.3 s, total: 2min 28s\n",
      "Wall time: 3min 15s\n"
     ]
    }
   ],
   "source": [
    "%%time\n",
    "list_of_hamiltonians, raw_data = load_hamiltonians(grid_folder)\n",
    "print(\"shape of raw_data: \", raw_data.shape)\n",
    "print(\"len list_of_hamiltonians: \", len(list_of_hamiltonians))\n",
    "\n",
    "dataframe = make_dataframe(raw_data, list_of_hamiltonians, allowed_windings = allowed_windings, epsilon = epsilon, \\\n",
    "                           csv_dir=csv_dir, csv_name = csv_name)"
   ]
  },
  {
   "cell_type": "code",
   "execution_count": 5,
   "metadata": {
    "execution": {
     "iopub.execute_input": "2020-04-06T15:28:02.268756Z",
     "iopub.status.busy": "2020-04-06T15:28:02.268447Z",
     "iopub.status.idle": "2020-04-06T15:28:02.300521Z",
     "shell.execute_reply": "2020-04-06T15:28:02.300771Z"
    },
    "papermill": {
     "duration": 0.165296,
     "end_time": "2020-04-06T15:28:02.300839",
     "exception": false,
     "start_time": "2020-04-06T15:28:02.135543",
     "status": "completed"
    },
    "tags": []
   },
   "outputs": [
    {
     "name": "stdout",
     "output_type": "stream",
     "text": [
      "<class 'pandas.core.frame.DataFrame'>\n",
      "RangeIndex: 918540 entries, 0 to 918539\n",
      "Columns: 148 entries, id to feat139\n",
      "dtypes: float64(3), int32(1), int64(2), object(142)\n",
      "memory usage: 1.0+ GB\n"
     ]
    },
    {
     "data": {
      "text/html": [
       "<div>\n",
       "<style scoped>\n",
       "    .dataframe tbody tr th:only-of-type {\n",
       "        vertical-align: middle;\n",
       "    }\n",
       "\n",
       "    .dataframe tbody tr th {\n",
       "        vertical-align: top;\n",
       "    }\n",
       "\n",
       "    .dataframe thead th {\n",
       "        text-align: right;\n",
       "    }\n",
       "</style>\n",
       "<table border=\"1\" class=\"dataframe\">\n",
       "  <thead>\n",
       "    <tr style=\"text-align: right;\">\n",
       "      <th></th>\n",
       "      <th>id</th>\n",
       "      <th>path</th>\n",
       "      <th>t1</th>\n",
       "      <th>t2</th>\n",
       "      <th>winding</th>\n",
       "      <th>phase</th>\n",
       "      <th>pred_phase</th>\n",
       "      <th>type_of</th>\n",
       "      <th>feat0</th>\n",
       "      <th>feat1</th>\n",
       "      <th>...</th>\n",
       "      <th>feat130</th>\n",
       "      <th>feat131</th>\n",
       "      <th>feat132</th>\n",
       "      <th>feat133</th>\n",
       "      <th>feat134</th>\n",
       "      <th>feat135</th>\n",
       "      <th>feat136</th>\n",
       "      <th>feat137</th>\n",
       "      <th>feat138</th>\n",
       "      <th>feat139</th>\n",
       "    </tr>\n",
       "  </thead>\n",
       "  <tbody>\n",
       "    <tr>\n",
       "      <th>0</th>\n",
       "      <td>0</td>\n",
       "      <td>H_-2_-2_0.501338.dat</td>\n",
       "      <td>-2.0</td>\n",
       "      <td>-2.0</td>\n",
       "      <td>0.501338</td>\n",
       "      <td>999</td>\n",
       "      <td>666</td>\n",
       "      <td>test</td>\n",
       "      <td>-0.130839</td>\n",
       "      <td>-0.300829</td>\n",
       "      <td>...</td>\n",
       "      <td>-0.080270</td>\n",
       "      <td>0.115548</td>\n",
       "      <td>-0.174799</td>\n",
       "      <td>-0.244861</td>\n",
       "      <td>0.319462</td>\n",
       "      <td>0.059061</td>\n",
       "      <td>-0.000568</td>\n",
       "      <td>0.244879</td>\n",
       "      <td>-0.300829</td>\n",
       "      <td>-0.130839</td>\n",
       "    </tr>\n",
       "    <tr>\n",
       "      <th>1</th>\n",
       "      <td>0</td>\n",
       "      <td>H_-2_-2_0.501338.dat</td>\n",
       "      <td>-2.0</td>\n",
       "      <td>-2.0</td>\n",
       "      <td>0.501338</td>\n",
       "      <td>999</td>\n",
       "      <td>666</td>\n",
       "      <td>test</td>\n",
       "      <td>0.130839</td>\n",
       "      <td>-0.300829</td>\n",
       "      <td>...</td>\n",
       "      <td>0.080270</td>\n",
       "      <td>0.115548</td>\n",
       "      <td>0.174799</td>\n",
       "      <td>-0.244861</td>\n",
       "      <td>-0.319462</td>\n",
       "      <td>0.059061</td>\n",
       "      <td>0.000568</td>\n",
       "      <td>0.244879</td>\n",
       "      <td>0.300829</td>\n",
       "      <td>-0.130839</td>\n",
       "    </tr>\n",
       "    <tr>\n",
       "      <th>2</th>\n",
       "      <td>0</td>\n",
       "      <td>H_-2_-2_0.501338.dat</td>\n",
       "      <td>-2.0</td>\n",
       "      <td>-2.0</td>\n",
       "      <td>0.501338</td>\n",
       "      <td>999</td>\n",
       "      <td>666</td>\n",
       "      <td>test</td>\n",
       "      <td>-0.136032</td>\n",
       "      <td>0.040156</td>\n",
       "      <td>...</td>\n",
       "      <td>0.174723</td>\n",
       "      <td>0.086763</td>\n",
       "      <td>-0.070199</td>\n",
       "      <td>0.105493</td>\n",
       "      <td>-0.137161</td>\n",
       "      <td>-0.181862</td>\n",
       "      <td>0.180933</td>\n",
       "      <td>0.052357</td>\n",
       "      <td>-0.040156</td>\n",
       "      <td>0.136032</td>\n",
       "    </tr>\n",
       "    <tr>\n",
       "      <th>3</th>\n",
       "      <td>0</td>\n",
       "      <td>H_-2_-2_0.501338.dat</td>\n",
       "      <td>-2.0</td>\n",
       "      <td>-2.0</td>\n",
       "      <td>0.501338</td>\n",
       "      <td>999</td>\n",
       "      <td>666</td>\n",
       "      <td>test</td>\n",
       "      <td>0.016772</td>\n",
       "      <td>0.038115</td>\n",
       "      <td>...</td>\n",
       "      <td>0.011447</td>\n",
       "      <td>-0.002690</td>\n",
       "      <td>0.015595</td>\n",
       "      <td>0.024714</td>\n",
       "      <td>-0.039364</td>\n",
       "      <td>-0.009687</td>\n",
       "      <td>0.001017</td>\n",
       "      <td>-0.028996</td>\n",
       "      <td>0.038115</td>\n",
       "      <td>0.016772</td>\n",
       "    </tr>\n",
       "    <tr>\n",
       "      <th>4</th>\n",
       "      <td>0</td>\n",
       "      <td>H_-2_-2_0.501338.dat</td>\n",
       "      <td>-2.0</td>\n",
       "      <td>-2.0</td>\n",
       "      <td>0.501338</td>\n",
       "      <td>999</td>\n",
       "      <td>666</td>\n",
       "      <td>test</td>\n",
       "      <td>-0.096087</td>\n",
       "      <td>0.024817</td>\n",
       "      <td>...</td>\n",
       "      <td>0.105770</td>\n",
       "      <td>0.025590</td>\n",
       "      <td>-0.024172</td>\n",
       "      <td>0.086413</td>\n",
       "      <td>-0.100604</td>\n",
       "      <td>-0.112297</td>\n",
       "      <td>0.113588</td>\n",
       "      <td>0.022113</td>\n",
       "      <td>-0.024817</td>\n",
       "      <td>0.096087</td>\n",
       "    </tr>\n",
       "  </tbody>\n",
       "</table>\n",
       "<p>5 rows × 148 columns</p>\n",
       "</div>"
      ],
      "text/plain": [
       "   id                  path   t1   t2   winding  phase  pred_phase type_of  \\\n",
       "0   0  H_-2_-2_0.501338.dat -2.0 -2.0  0.501338    999         666    test   \n",
       "1   0  H_-2_-2_0.501338.dat -2.0 -2.0  0.501338    999         666    test   \n",
       "2   0  H_-2_-2_0.501338.dat -2.0 -2.0  0.501338    999         666    test   \n",
       "3   0  H_-2_-2_0.501338.dat -2.0 -2.0  0.501338    999         666    test   \n",
       "4   0  H_-2_-2_0.501338.dat -2.0 -2.0  0.501338    999         666    test   \n",
       "\n",
       "       feat0      feat1  ...    feat130    feat131    feat132    feat133  \\\n",
       "0  -0.130839  -0.300829  ...  -0.080270   0.115548  -0.174799  -0.244861   \n",
       "1   0.130839  -0.300829  ...   0.080270   0.115548   0.174799  -0.244861   \n",
       "2  -0.136032   0.040156  ...   0.174723   0.086763  -0.070199   0.105493   \n",
       "3   0.016772   0.038115  ...   0.011447  -0.002690   0.015595   0.024714   \n",
       "4  -0.096087   0.024817  ...   0.105770   0.025590  -0.024172   0.086413   \n",
       "\n",
       "     feat134    feat135    feat136    feat137    feat138    feat139  \n",
       "0   0.319462   0.059061  -0.000568   0.244879  -0.300829  -0.130839  \n",
       "1  -0.319462   0.059061   0.000568   0.244879   0.300829  -0.130839  \n",
       "2  -0.137161  -0.181862   0.180933   0.052357  -0.040156   0.136032  \n",
       "3  -0.039364  -0.009687   0.001017  -0.028996   0.038115   0.016772  \n",
       "4  -0.100604  -0.112297   0.113588   0.022113  -0.024817   0.096087  \n",
       "\n",
       "[5 rows x 148 columns]"
      ]
     },
     "execution_count": 5,
     "metadata": {},
     "output_type": "execute_result"
    }
   ],
   "source": [
    "dataframe.info()\n",
    "dataframe.head()\n",
    "#dataframe.tail()"
   ]
  },
  {
   "cell_type": "markdown",
   "metadata": {
    "papermill": {
     "duration": 0.12898,
     "end_time": "2020-04-06T15:28:02.554356",
     "exception": false,
     "start_time": "2020-04-06T15:28:02.425376",
     "status": "completed"
    },
    "tags": []
   },
   "source": [
    "#### Train/test "
   ]
  },
  {
   "cell_type": "code",
   "execution_count": 6,
   "metadata": {
    "execution": {
     "iopub.execute_input": "2020-04-06T15:28:02.809370Z",
     "iopub.status.busy": "2020-04-06T15:28:02.809030Z",
     "iopub.status.idle": "2020-04-06T15:28:08.158066Z",
     "shell.execute_reply": "2020-04-06T15:28:08.157796Z"
    },
    "papermill": {
     "duration": 5.47896,
     "end_time": "2020-04-06T15:28:08.158120",
     "exception": false,
     "start_time": "2020-04-06T15:28:02.679160",
     "status": "completed"
    },
    "tags": []
   },
   "outputs": [
    {
     "name": "stdout",
     "output_type": "stream",
     "text": [
      "% train:  0.8414875781130925\n",
      "% test:  0.15851242188690748\n",
      "% train + test:  1.0\n"
     ]
    }
   ],
   "source": [
    "n_total = len(dataframe)\n",
    "n_train = len(dataframe[dataframe.type_of == \"train\"])\n",
    "n_test = len(dataframe[dataframe.type_of == \"test\"])\n",
    "print(\"% train: \", n_train/n_total)\n",
    "print(\"% test: \", n_test/n_total)\n",
    "print(\"% train + test: \", (n_train+n_test)/n_total)"
   ]
  },
  {
   "cell_type": "markdown",
   "metadata": {
    "papermill": {
     "duration": 0.655753,
     "end_time": "2020-04-06T15:28:09.149965",
     "exception": false,
     "start_time": "2020-04-06T15:28:08.494212",
     "status": "completed"
    },
    "tags": []
   },
   "source": [
    "#### Unique winding values"
   ]
  },
  {
   "cell_type": "code",
   "execution_count": 7,
   "metadata": {
    "execution": {
     "iopub.execute_input": "2020-04-06T15:28:10.312472Z",
     "iopub.status.busy": "2020-04-06T15:28:10.312159Z",
     "iopub.status.idle": "2020-04-06T15:28:10.326573Z",
     "shell.execute_reply": "2020-04-06T15:28:10.326282Z"
    },
    "papermill": {
     "duration": 0.596519,
     "end_time": "2020-04-06T15:28:10.326630",
     "exception": false,
     "start_time": "2020-04-06T15:28:09.730111",
     "status": "completed"
    },
    "tags": []
   },
   "outputs": [
    {
     "data": {
      "text/plain": [
       "array([ -1,   0,   1,   2, 999], dtype=int32)"
      ]
     },
     "execution_count": 7,
     "metadata": {},
     "output_type": "execute_result"
    }
   ],
   "source": [
    "np.unique(dataframe.phase.values)"
   ]
  },
  {
   "cell_type": "markdown",
   "metadata": {
    "papermill": {
     "duration": 0.6063,
     "end_time": "2020-04-06T15:28:11.722345",
     "exception": false,
     "start_time": "2020-04-06T15:28:11.116045",
     "status": "completed"
    },
    "tags": []
   },
   "source": [
    "#### Checking t values are row-major sorted"
   ]
  },
  {
   "cell_type": "code",
   "execution_count": 8,
   "metadata": {
    "execution": {
     "iopub.execute_input": "2020-04-06T15:28:13.163989Z",
     "iopub.status.busy": "2020-04-06T15:28:13.162277Z",
     "iopub.status.idle": "2020-04-06T15:28:13.642921Z",
     "shell.execute_reply": "2020-04-06T15:28:13.641091Z"
    },
    "papermill": {
     "duration": 1.177376,
     "end_time": "2020-04-06T15:28:13.643261",
     "exception": false,
     "start_time": "2020-04-06T15:28:12.465885",
     "status": "completed"
    },
    "tags": []
   },
   "outputs": [],
   "source": [
    "#np.set_printoptions(threshold=np.inf)\n",
    "#t_array = dataframe[[\"t1\", \"t2\"]].values\n",
    "#print(\"t_array:\\n\", t_array)\n",
    "#np.set_printoptions()"
   ]
  },
  {
   "cell_type": "markdown",
   "metadata": {
    "papermill": {
     "duration": 0.604525,
     "end_time": "2020-04-06T15:28:14.676878",
     "exception": false,
     "start_time": "2020-04-06T15:28:14.072353",
     "status": "completed"
    },
    "tags": []
   },
   "source": [
    "#### Making a grid"
   ]
  },
  {
   "cell_type": "code",
   "execution_count": 9,
   "metadata": {
    "execution": {
     "iopub.execute_input": "2020-04-06T15:28:16.376262Z",
     "iopub.status.busy": "2020-04-06T15:28:16.374568Z",
     "iopub.status.idle": "2020-04-06T15:28:16.442621Z",
     "shell.execute_reply": "2020-04-06T15:28:16.442252Z"
    },
    "papermill": {
     "duration": 0.9527,
     "end_time": "2020-04-06T15:28:16.442682",
     "exception": false,
     "start_time": "2020-04-06T15:28:15.489982",
     "status": "completed"
    },
    "tags": []
   },
   "outputs": [],
   "source": [
    "#xx = dataframe.t2.values\n",
    "#yy = dataframe.t1.values\n",
    "#print(\"xx: \\n\", xx)\n",
    "#print(\"yy: \\n\", yy)"
   ]
  },
  {
   "cell_type": "code",
   "execution_count": 10,
   "metadata": {
    "execution": {
     "iopub.execute_input": "2020-04-06T15:28:17.691009Z",
     "iopub.status.busy": "2020-04-06T15:28:17.690699Z",
     "iopub.status.idle": "2020-04-06T15:28:20.875843Z",
     "shell.execute_reply": "2020-04-06T15:28:20.875520Z"
    },
    "papermill": {
     "duration": 3.333263,
     "end_time": "2020-04-06T15:28:20.875895",
     "exception": false,
     "start_time": "2020-04-06T15:28:17.542632",
     "status": "completed"
    },
    "tags": []
   },
   "outputs": [
    {
     "data": {
      "text/html": [
       "<div>\n",
       "<style scoped>\n",
       "    .dataframe tbody tr th:only-of-type {\n",
       "        vertical-align: middle;\n",
       "    }\n",
       "\n",
       "    .dataframe tbody tr th {\n",
       "        vertical-align: top;\n",
       "    }\n",
       "\n",
       "    .dataframe thead th {\n",
       "        text-align: right;\n",
       "    }\n",
       "</style>\n",
       "<table border=\"1\" class=\"dataframe\">\n",
       "  <thead>\n",
       "    <tr style=\"text-align: right;\">\n",
       "      <th></th>\n",
       "      <th>id</th>\n",
       "      <th>path</th>\n",
       "      <th>t1</th>\n",
       "      <th>t2</th>\n",
       "      <th>winding</th>\n",
       "      <th>phase</th>\n",
       "      <th>pred_phase</th>\n",
       "      <th>type_of</th>\n",
       "      <th>feat0</th>\n",
       "      <th>feat1</th>\n",
       "      <th>...</th>\n",
       "      <th>feat130</th>\n",
       "      <th>feat131</th>\n",
       "      <th>feat132</th>\n",
       "      <th>feat133</th>\n",
       "      <th>feat134</th>\n",
       "      <th>feat135</th>\n",
       "      <th>feat136</th>\n",
       "      <th>feat137</th>\n",
       "      <th>feat138</th>\n",
       "      <th>feat139</th>\n",
       "    </tr>\n",
       "  </thead>\n",
       "  <tbody>\n",
       "    <tr>\n",
       "      <th>1820</th>\n",
       "      <td>13</td>\n",
       "      <td>H_-2_-1.35_-1.00951.dat</td>\n",
       "      <td>-2.0</td>\n",
       "      <td>-1.35</td>\n",
       "      <td>-1.009513</td>\n",
       "      <td>-1</td>\n",
       "      <td>666</td>\n",
       "      <td>train</td>\n",
       "      <td>-0.103652</td>\n",
       "      <td>-0.284244</td>\n",
       "      <td>...</td>\n",
       "      <td>-0.085630</td>\n",
       "      <td>0.120406</td>\n",
       "      <td>-0.171538</td>\n",
       "      <td>-0.245973</td>\n",
       "      <td>0.292482</td>\n",
       "      <td>0.049515</td>\n",
       "      <td>0.007336</td>\n",
       "      <td>0.245460</td>\n",
       "      <td>-0.284244</td>\n",
       "      <td>-0.103652</td>\n",
       "    </tr>\n",
       "    <tr>\n",
       "      <th>1821</th>\n",
       "      <td>13</td>\n",
       "      <td>H_-2_-1.35_-1.00951.dat</td>\n",
       "      <td>-2.0</td>\n",
       "      <td>-1.35</td>\n",
       "      <td>-1.009513</td>\n",
       "      <td>-1</td>\n",
       "      <td>666</td>\n",
       "      <td>train</td>\n",
       "      <td>0.108462</td>\n",
       "      <td>-0.018513</td>\n",
       "      <td>...</td>\n",
       "      <td>-0.143150</td>\n",
       "      <td>-0.074785</td>\n",
       "      <td>0.059149</td>\n",
       "      <td>-0.082631</td>\n",
       "      <td>0.101274</td>\n",
       "      <td>0.145005</td>\n",
       "      <td>-0.142316</td>\n",
       "      <td>-0.035875</td>\n",
       "      <td>0.018513</td>\n",
       "      <td>-0.108462</td>\n",
       "    </tr>\n",
       "    <tr>\n",
       "      <th>1822</th>\n",
       "      <td>13</td>\n",
       "      <td>H_-2_-1.35_-1.00951.dat</td>\n",
       "      <td>-2.0</td>\n",
       "      <td>-1.35</td>\n",
       "      <td>-1.009513</td>\n",
       "      <td>-1</td>\n",
       "      <td>666</td>\n",
       "      <td>train</td>\n",
       "      <td>-0.012914</td>\n",
       "      <td>-0.030343</td>\n",
       "      <td>...</td>\n",
       "      <td>-0.030121</td>\n",
       "      <td>-0.012640</td>\n",
       "      <td>-0.002714</td>\n",
       "      <td>-0.027166</td>\n",
       "      <td>0.034869</td>\n",
       "      <td>0.018913</td>\n",
       "      <td>-0.005105</td>\n",
       "      <td>0.021438</td>\n",
       "      <td>-0.030343</td>\n",
       "      <td>-0.012914</td>\n",
       "    </tr>\n",
       "    <tr>\n",
       "      <th>1823</th>\n",
       "      <td>13</td>\n",
       "      <td>H_-2_-1.35_-1.00951.dat</td>\n",
       "      <td>-2.0</td>\n",
       "      <td>-1.35</td>\n",
       "      <td>-1.009513</td>\n",
       "      <td>-1</td>\n",
       "      <td>666</td>\n",
       "      <td>train</td>\n",
       "      <td>-0.083018</td>\n",
       "      <td>0.018256</td>\n",
       "      <td>...</td>\n",
       "      <td>0.113795</td>\n",
       "      <td>0.094766</td>\n",
       "      <td>-0.076837</td>\n",
       "      <td>0.039087</td>\n",
       "      <td>-0.067312</td>\n",
       "      <td>-0.125038</td>\n",
       "      <td>0.124883</td>\n",
       "      <td>0.045173</td>\n",
       "      <td>-0.018256</td>\n",
       "      <td>0.083018</td>\n",
       "    </tr>\n",
       "    <tr>\n",
       "      <th>1824</th>\n",
       "      <td>13</td>\n",
       "      <td>H_-2_-1.35_-1.00951.dat</td>\n",
       "      <td>-2.0</td>\n",
       "      <td>-1.35</td>\n",
       "      <td>-1.009513</td>\n",
       "      <td>-1</td>\n",
       "      <td>666</td>\n",
       "      <td>train</td>\n",
       "      <td>0.089740</td>\n",
       "      <td>-0.008622</td>\n",
       "      <td>...</td>\n",
       "      <td>-0.094605</td>\n",
       "      <td>-0.001100</td>\n",
       "      <td>0.002127</td>\n",
       "      <td>-0.093511</td>\n",
       "      <td>0.093866</td>\n",
       "      <td>0.094343</td>\n",
       "      <td>-0.093948</td>\n",
       "      <td>-0.004630</td>\n",
       "      <td>0.008622</td>\n",
       "      <td>-0.089740</td>\n",
       "    </tr>\n",
       "    <tr>\n",
       "      <th>...</th>\n",
       "      <td>...</td>\n",
       "      <td>...</td>\n",
       "      <td>...</td>\n",
       "      <td>...</td>\n",
       "      <td>...</td>\n",
       "      <td>...</td>\n",
       "      <td>...</td>\n",
       "      <td>...</td>\n",
       "      <td>...</td>\n",
       "      <td>...</td>\n",
       "      <td>...</td>\n",
       "      <td>...</td>\n",
       "      <td>...</td>\n",
       "      <td>...</td>\n",
       "      <td>...</td>\n",
       "      <td>...</td>\n",
       "      <td>...</td>\n",
       "      <td>...</td>\n",
       "      <td>...</td>\n",
       "      <td>...</td>\n",
       "      <td>...</td>\n",
       "    </tr>\n",
       "    <tr>\n",
       "      <th>2815</th>\n",
       "      <td>20</td>\n",
       "      <td>H_-2_-1_-1.00542.dat</td>\n",
       "      <td>-2.0</td>\n",
       "      <td>-1.00</td>\n",
       "      <td>-1.005423</td>\n",
       "      <td>-1</td>\n",
       "      <td>666</td>\n",
       "      <td>train</td>\n",
       "      <td>0.020530</td>\n",
       "      <td>-0.011779</td>\n",
       "      <td>...</td>\n",
       "      <td>0.147208</td>\n",
       "      <td>-0.135886</td>\n",
       "      <td>-0.096845</td>\n",
       "      <td>-0.037326</td>\n",
       "      <td>-0.052041</td>\n",
       "      <td>0.107992</td>\n",
       "      <td>0.054100</td>\n",
       "      <td>-0.020126</td>\n",
       "      <td>0.011779</td>\n",
       "      <td>-0.020530</td>\n",
       "    </tr>\n",
       "    <tr>\n",
       "      <th>2816</th>\n",
       "      <td>20</td>\n",
       "      <td>H_-2_-1_-1.00542.dat</td>\n",
       "      <td>-2.0</td>\n",
       "      <td>-1.00</td>\n",
       "      <td>-1.005423</td>\n",
       "      <td>-1</td>\n",
       "      <td>666</td>\n",
       "      <td>train</td>\n",
       "      <td>0.139024</td>\n",
       "      <td>-0.030723</td>\n",
       "      <td>...</td>\n",
       "      <td>0.001239</td>\n",
       "      <td>-0.110186</td>\n",
       "      <td>-0.103122</td>\n",
       "      <td>0.123716</td>\n",
       "      <td>0.128904</td>\n",
       "      <td>-0.040312</td>\n",
       "      <td>-0.059862</td>\n",
       "      <td>-0.065276</td>\n",
       "      <td>-0.030723</td>\n",
       "      <td>0.139024</td>\n",
       "    </tr>\n",
       "    <tr>\n",
       "      <th>2817</th>\n",
       "      <td>20</td>\n",
       "      <td>H_-2_-1_-1.00542.dat</td>\n",
       "      <td>-2.0</td>\n",
       "      <td>-1.00</td>\n",
       "      <td>-1.005423</td>\n",
       "      <td>-1</td>\n",
       "      <td>666</td>\n",
       "      <td>train</td>\n",
       "      <td>0.039437</td>\n",
       "      <td>-0.122439</td>\n",
       "      <td>...</td>\n",
       "      <td>0.010935</td>\n",
       "      <td>-0.059090</td>\n",
       "      <td>-0.011280</td>\n",
       "      <td>-0.021964</td>\n",
       "      <td>-0.092937</td>\n",
       "      <td>0.034545</td>\n",
       "      <td>0.003932</td>\n",
       "      <td>0.090595</td>\n",
       "      <td>0.122439</td>\n",
       "      <td>-0.039437</td>\n",
       "    </tr>\n",
       "    <tr>\n",
       "      <th>2818</th>\n",
       "      <td>20</td>\n",
       "      <td>H_-2_-1_-1.00542.dat</td>\n",
       "      <td>-2.0</td>\n",
       "      <td>-1.00</td>\n",
       "      <td>-1.005423</td>\n",
       "      <td>-1</td>\n",
       "      <td>666</td>\n",
       "      <td>train</td>\n",
       "      <td>-0.067667</td>\n",
       "      <td>-0.019252</td>\n",
       "      <td>...</td>\n",
       "      <td>-0.026798</td>\n",
       "      <td>-0.065329</td>\n",
       "      <td>-0.109004</td>\n",
       "      <td>0.073458</td>\n",
       "      <td>0.013448</td>\n",
       "      <td>0.096682</td>\n",
       "      <td>0.136351</td>\n",
       "      <td>-0.084181</td>\n",
       "      <td>-0.019252</td>\n",
       "      <td>-0.067667</td>\n",
       "    </tr>\n",
       "    <tr>\n",
       "      <th>2819</th>\n",
       "      <td>20</td>\n",
       "      <td>H_-2_-1_-1.00542.dat</td>\n",
       "      <td>-2.0</td>\n",
       "      <td>-1.00</td>\n",
       "      <td>-1.005423</td>\n",
       "      <td>-1</td>\n",
       "      <td>666</td>\n",
       "      <td>train</td>\n",
       "      <td>-0.012791</td>\n",
       "      <td>-0.032038</td>\n",
       "      <td>...</td>\n",
       "      <td>-0.155014</td>\n",
       "      <td>0.129172</td>\n",
       "      <td>0.116850</td>\n",
       "      <td>0.032729</td>\n",
       "      <td>0.030919</td>\n",
       "      <td>-0.126044</td>\n",
       "      <td>-0.072052</td>\n",
       "      <td>0.062632</td>\n",
       "      <td>0.032038</td>\n",
       "      <td>0.012791</td>\n",
       "    </tr>\n",
       "  </tbody>\n",
       "</table>\n",
       "<p>1000 rows × 148 columns</p>\n",
       "</div>"
      ],
      "text/plain": [
       "      id                     path   t1    t2   winding  phase  pred_phase  \\\n",
       "1820  13  H_-2_-1.35_-1.00951.dat -2.0 -1.35 -1.009513     -1         666   \n",
       "1821  13  H_-2_-1.35_-1.00951.dat -2.0 -1.35 -1.009513     -1         666   \n",
       "1822  13  H_-2_-1.35_-1.00951.dat -2.0 -1.35 -1.009513     -1         666   \n",
       "1823  13  H_-2_-1.35_-1.00951.dat -2.0 -1.35 -1.009513     -1         666   \n",
       "1824  13  H_-2_-1.35_-1.00951.dat -2.0 -1.35 -1.009513     -1         666   \n",
       "...   ..                      ...  ...   ...       ...    ...         ...   \n",
       "2815  20     H_-2_-1_-1.00542.dat -2.0 -1.00 -1.005423     -1         666   \n",
       "2816  20     H_-2_-1_-1.00542.dat -2.0 -1.00 -1.005423     -1         666   \n",
       "2817  20     H_-2_-1_-1.00542.dat -2.0 -1.00 -1.005423     -1         666   \n",
       "2818  20     H_-2_-1_-1.00542.dat -2.0 -1.00 -1.005423     -1         666   \n",
       "2819  20     H_-2_-1_-1.00542.dat -2.0 -1.00 -1.005423     -1         666   \n",
       "\n",
       "     type_of      feat0      feat1  ...    feat130    feat131    feat132  \\\n",
       "1820   train  -0.103652  -0.284244  ...  -0.085630   0.120406  -0.171538   \n",
       "1821   train   0.108462  -0.018513  ...  -0.143150  -0.074785   0.059149   \n",
       "1822   train  -0.012914  -0.030343  ...  -0.030121  -0.012640  -0.002714   \n",
       "1823   train  -0.083018   0.018256  ...   0.113795   0.094766  -0.076837   \n",
       "1824   train   0.089740  -0.008622  ...  -0.094605  -0.001100   0.002127   \n",
       "...      ...        ...        ...  ...        ...        ...        ...   \n",
       "2815   train   0.020530  -0.011779  ...   0.147208  -0.135886  -0.096845   \n",
       "2816   train   0.139024  -0.030723  ...   0.001239  -0.110186  -0.103122   \n",
       "2817   train   0.039437  -0.122439  ...   0.010935  -0.059090  -0.011280   \n",
       "2818   train  -0.067667  -0.019252  ...  -0.026798  -0.065329  -0.109004   \n",
       "2819   train  -0.012791  -0.032038  ...  -0.155014   0.129172   0.116850   \n",
       "\n",
       "        feat133    feat134    feat135    feat136    feat137    feat138  \\\n",
       "1820  -0.245973   0.292482   0.049515   0.007336   0.245460  -0.284244   \n",
       "1821  -0.082631   0.101274   0.145005  -0.142316  -0.035875   0.018513   \n",
       "1822  -0.027166   0.034869   0.018913  -0.005105   0.021438  -0.030343   \n",
       "1823   0.039087  -0.067312  -0.125038   0.124883   0.045173  -0.018256   \n",
       "1824  -0.093511   0.093866   0.094343  -0.093948  -0.004630   0.008622   \n",
       "...         ...        ...        ...        ...        ...        ...   \n",
       "2815  -0.037326  -0.052041   0.107992   0.054100  -0.020126   0.011779   \n",
       "2816   0.123716   0.128904  -0.040312  -0.059862  -0.065276  -0.030723   \n",
       "2817  -0.021964  -0.092937   0.034545   0.003932   0.090595   0.122439   \n",
       "2818   0.073458   0.013448   0.096682   0.136351  -0.084181  -0.019252   \n",
       "2819   0.032729   0.030919  -0.126044  -0.072052   0.062632   0.032038   \n",
       "\n",
       "        feat139  \n",
       "1820  -0.103652  \n",
       "1821  -0.108462  \n",
       "1822  -0.012914  \n",
       "1823   0.083018  \n",
       "1824  -0.089740  \n",
       "...         ...  \n",
       "2815  -0.020530  \n",
       "2816   0.139024  \n",
       "2817  -0.039437  \n",
       "2818  -0.067667  \n",
       "2819   0.012791  \n",
       "\n",
       "[1000 rows x 148 columns]"
      ]
     },
     "execution_count": 10,
     "metadata": {},
     "output_type": "execute_result"
    }
   ],
   "source": [
    "# A view of train data\n",
    "dataframe[dataframe.type_of == \"train\"].head(1000)"
   ]
  },
  {
   "cell_type": "code",
   "execution_count": 11,
   "metadata": {
    "execution": {
     "iopub.execute_input": "2020-04-06T15:28:21.128118Z",
     "iopub.status.busy": "2020-04-06T15:28:21.127809Z",
     "iopub.status.idle": "2020-04-06T15:28:21.133754Z",
     "shell.execute_reply": "2020-04-06T15:28:21.134057Z"
    },
    "papermill": {
     "duration": 0.133967,
     "end_time": "2020-04-06T15:28:21.134124",
     "exception": false,
     "start_time": "2020-04-06T15:28:21.000157",
     "status": "completed"
    },
    "tags": []
   },
   "outputs": [],
   "source": [
    "# A view of test data\n",
    "#dataframe[dataframe.type_of == \"test\"].head(1000)"
   ]
  },
  {
   "cell_type": "markdown",
   "metadata": {
    "papermill": {
     "duration": 0.131641,
     "end_time": "2020-04-06T15:28:21.390381",
     "exception": false,
     "start_time": "2020-04-06T15:28:21.258740",
     "status": "completed"
    },
    "tags": []
   },
   "source": [
    "#### clearing variables"
   ]
  },
  {
   "cell_type": "code",
   "execution_count": 12,
   "metadata": {
    "execution": {
     "iopub.execute_input": "2020-04-06T15:28:21.649131Z",
     "iopub.status.busy": "2020-04-06T15:28:21.648823Z",
     "iopub.status.idle": "2020-04-06T15:28:21.655305Z",
     "shell.execute_reply": "2020-04-06T15:28:21.654983Z"
    },
    "papermill": {
     "duration": 0.13688,
     "end_time": "2020-04-06T15:28:21.655358",
     "exception": false,
     "start_time": "2020-04-06T15:28:21.518478",
     "status": "completed"
    },
    "tags": []
   },
   "outputs": [],
   "source": [
    "#del list_of_hamiltonians\n",
    "#del raw_data\n",
    "#del dataframe"
   ]
  },
  {
   "cell_type": "code",
   "execution_count": null,
   "metadata": {
    "papermill": {
     "duration": 0.128257,
     "end_time": "2020-04-06T15:28:21.908732",
     "exception": false,
     "start_time": "2020-04-06T15:28:21.780475",
     "status": "completed"
    },
    "tags": []
   },
   "outputs": [],
   "source": []
  }
 ],
 "metadata": {
  "celltoolbar": "Tags",
  "kernelspec": {
   "display_name": "ml_top_phases",
   "language": "python",
   "name": "ml_top_phases"
  },
  "language_info": {
   "codemirror_mode": {
    "name": "ipython",
    "version": 3
   },
   "file_extension": ".py",
   "mimetype": "text/x-python",
   "name": "python",
   "nbconvert_exporter": "python",
   "pygments_lexer": "ipython3",
   "version": "3.6.10"
  },
  "papermill": {
   "duration": 217.568633,
   "end_time": "2020-04-06T15:28:22.439740",
   "environment_variables": {},
   "exception": null,
   "input_path": "preprocessing_template.ipynb",
   "output_path": "preprocessing_output_ssh2_periodic_140_6561.ipynb",
   "parameters": {
    "allowed_windings": [
     -1,
     0,
     1,
     2
    ],
    "csv_dir": "/home/rio/ssh_csvs/ssh2",
    "csv_name": "periodic_140_6561.csv",
    "epsilon": 0.01,
    "grid_folder": "/home/rio/ssh_grids/ssh2/periodic_140_6561"
   },
   "start_time": "2020-04-06T15:24:44.871107",
   "version": "2.1.0"
  }
 },
 "nbformat": 4,
 "nbformat_minor": 2
}