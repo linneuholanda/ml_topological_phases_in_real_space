{
 "cells": [
  {
   "cell_type": "markdown",
   "metadata": {
    "papermill": {
     "duration": 0.025596,
     "end_time": "2020-07-09T17:15:18.035109",
     "exception": false,
     "start_time": "2020-07-09T17:15:18.009513",
     "status": "completed"
    },
    "tags": []
   },
   "source": [
    "# Simulation template \n",
    "\n",
    "In this notebook we run the machine learning analysis of topological phase transitions occurring  in both nearest-neighbours SSH models (ssh1) and second neighbours models (ssh2) as decribed in the paper [Machine learning topological phases in real space](https://arxiv.org/abs/1901.01963). Here the simulation is run with features generated from fourier components in the first scenario. This scenario is characterized by using only the EVEN wavevector space eigenmodes, computed from ALL real space components."
   ]
  },
  {
   "cell_type": "markdown",
   "metadata": {
    "papermill": {
     "duration": 0.015912,
     "end_time": "2020-07-09T17:15:18.071635",
     "exception": false,
     "start_time": "2020-07-09T17:15:18.055723",
     "status": "completed"
    },
    "tags": []
   },
   "source": [
    "## Defining parameters"
   ]
  },
  {
   "cell_type": "code",
   "execution_count": 1,
   "metadata": {
    "execution": {
     "iopub.execute_input": "2020-07-09T17:15:18.113776Z",
     "iopub.status.busy": "2020-07-09T17:15:18.113443Z",
     "iopub.status.idle": "2020-07-09T17:15:18.724650Z",
     "shell.execute_reply": "2020-07-09T17:15:18.724955Z"
    },
    "papermill": {
     "duration": 0.631533,
     "end_time": "2020-07-09T17:15:18.725024",
     "exception": false,
     "start_time": "2020-07-09T17:15:18.093491",
     "status": "completed"
    },
    "tags": []
   },
   "outputs": [
    {
     "name": "stdout",
     "output_type": "stream",
     "text": [
      "CPU times: user 750 ms, sys: 284 ms, total: 1.03 s\n",
      "Wall time: 605 ms\n"
     ]
    }
   ],
   "source": [
    "%%time\n",
    "%load_ext autoreload\n",
    "%autoreload 2\n",
    "from simulation import *"
   ]
  },
  {
   "cell_type": "code",
   "execution_count": 2,
   "metadata": {
    "execution": {
     "iopub.execute_input": "2020-07-09T17:15:18.760218Z",
     "iopub.status.busy": "2020-07-09T17:15:18.759852Z",
     "iopub.status.idle": "2020-07-09T17:15:18.772866Z",
     "shell.execute_reply": "2020-07-09T17:15:18.772429Z"
    },
    "papermill": {
     "duration": 0.03193,
     "end_time": "2020-07-09T17:15:18.772977",
     "exception": false,
     "start_time": "2020-07-09T17:15:18.741047",
     "status": "completed"
    },
    "tags": [
     "parameters"
    ]
   },
   "outputs": [
    {
     "name": "stdout",
     "output_type": "stream",
     "text": [
      "CPU times: user 4 µs, sys: 0 ns, total: 4 µs\n",
      "Wall time: 6.2 µs\n"
     ]
    }
   ],
   "source": [
    "%%time\n",
    "### Dataset and simulation parameters\n",
    "#csv_path = SSH2_PERIODIC_100_6561_CSV \n",
    "csv_path = SSH1_PERIODIC_100_6561_CSV \n",
    "model_name = \"DecisionTreeClassifier\"\n",
    "model_kw = {\"criterion\":\"entropy\"}\n",
    "allowed_windings = [0,1]\n",
    "#allowed_windings = [-1,0,1,2]\n",
    "simulation_dir = SSH1_PERIODIC_1ST_SCENARIO_100_6561_SIMULATION_DIR\n",
    "#simulation_dir = SSH2_PERIODIC_ENGINEERED_100_6561_SIMULATION_DIR\n",
    "val_split = 0.9  \n",
    "features_to_use = None\n",
    "shuffle_features = False\n",
    "random_state = 763\n",
    "\n",
    "### Fourier features\n",
    "fourier_mode = \"dft\"\n",
    "fourier_features_to_use = None\n",
    "fourier_real = \"real\"\n",
    "fourier_normalize = True\n",
    "fourier_fillna = False\n",
    "\n",
    "### Running a simulation\n",
    "n_experiments = 5\n",
    "start_n = 0\n",
    "fit_params = None\n",
    "#mode=mode\n",
    "shuffle_rows = True\n",
    "pred_params = None\n",
    "random_features = False\n",
    "######### DON'T SET THIS TO TRUE UNLESS YOUR DATASET IS SMALL!! WILL FLOOD YOUR MEMORY!!!\n",
    "store_in_lists = False   \n",
    "########## BELOW ARE THE PARAMETERS THAT CONTROL WHAT WILL BE SAVED\n",
    "save_eigenvector=True\n",
    "save_hamiltonian=True \n",
    "save_accuracy=True \n",
    "save_models=True"
   ]
  },
  {
   "cell_type": "code",
   "execution_count": 3,
   "metadata": {
    "execution": {
     "iopub.execute_input": "2020-07-09T17:15:18.811379Z",
     "iopub.status.busy": "2020-07-09T17:15:18.811040Z",
     "iopub.status.idle": "2020-07-09T17:15:18.898203Z",
     "shell.execute_reply": "2020-07-09T17:15:18.898834Z"
    },
    "papermill": {
     "duration": 0.108433,
     "end_time": "2020-07-09T17:15:18.898977",
     "exception": false,
     "start_time": "2020-07-09T17:15:18.790544",
     "status": "completed"
    },
    "tags": [
     "injected-parameters"
    ]
   },
   "outputs": [],
   "source": [
    "# Parameters\n",
    "model_kw = {\"criterion\": \"entropy\"}\n",
    "allowed_windings = [0, 1]\n",
    "val_split = 0.9\n",
    "features_to_use = [0, 1, 2, 3, 5, 7, 19, 35, 45, 48, 49, 50]\n",
    "shuffle_features = False\n",
    "n_experiments = 100\n",
    "start_n = 0\n",
    "fit_params = None\n",
    "shuffle_rows = True\n",
    "pred_params = None\n",
    "random_features = False\n",
    "store_in_lists = False\n",
    "save_eigenvector = True\n",
    "save_hamiltonian = True\n",
    "save_accuracy = True\n",
    "save_models = True\n",
    "csv_path = \"/home/rio/ssh_csvs/ssh1/periodic_100_6561.csv\"\n",
    "model_name = \"DecisionTreeClassifier\"\n",
    "simulation_dir = \"/home/rio/ssh_simulations/ssh1/periodic_1st_scenario_100_6561\"\n",
    "random_state = 244854\n",
    "fourier_features_to_use = None\n",
    "fourier_mode = None\n",
    "fourier_real = None\n",
    "fourier_normalize = None\n",
    "fourier_fillna = None\n"
   ]
  },
  {
   "cell_type": "code",
   "execution_count": 4,
   "metadata": {
    "execution": {
     "iopub.execute_input": "2020-07-09T17:15:18.958552Z",
     "iopub.status.busy": "2020-07-09T17:15:18.958187Z",
     "iopub.status.idle": "2020-07-09T17:15:24.959848Z",
     "shell.execute_reply": "2020-07-09T17:15:24.960321Z"
    },
    "papermill": {
     "duration": 6.024926,
     "end_time": "2020-07-09T17:15:24.960430",
     "exception": false,
     "start_time": "2020-07-09T17:15:18.935504",
     "status": "completed"
    },
    "tags": []
   },
   "outputs": [
    {
     "name": "stdout",
     "output_type": "stream",
     "text": [
      "Info on all data: \n",
      "\n",
      "<class 'pandas.core.frame.DataFrame'>\n",
      "Int64Index: 656100 entries, 0 to 656099\n",
      "Columns: 108 entries, id to feat99\n",
      "dtypes: float64(103), int32(3), object(2)\n",
      "memory usage: 538.1+ MB\n",
      "CPU times: user 5.7 s, sys: 280 ms, total: 5.98 s\n",
      "Wall time: 5.98 s\n"
     ]
    },
    {
     "data": {
      "text/html": [
       "<div>\n",
       "<style scoped>\n",
       "    .dataframe tbody tr th:only-of-type {\n",
       "        vertical-align: middle;\n",
       "    }\n",
       "\n",
       "    .dataframe tbody tr th {\n",
       "        vertical-align: top;\n",
       "    }\n",
       "\n",
       "    .dataframe thead th {\n",
       "        text-align: right;\n",
       "    }\n",
       "</style>\n",
       "<table border=\"1\" class=\"dataframe\">\n",
       "  <thead>\n",
       "    <tr style=\"text-align: right;\">\n",
       "      <th></th>\n",
       "      <th>id</th>\n",
       "      <th>path</th>\n",
       "      <th>t1</th>\n",
       "      <th>t2</th>\n",
       "      <th>winding</th>\n",
       "      <th>phase</th>\n",
       "      <th>pred_phase</th>\n",
       "      <th>type_of</th>\n",
       "      <th>feat0</th>\n",
       "      <th>feat1</th>\n",
       "      <th>...</th>\n",
       "      <th>feat90</th>\n",
       "      <th>feat91</th>\n",
       "      <th>feat92</th>\n",
       "      <th>feat93</th>\n",
       "      <th>feat94</th>\n",
       "      <th>feat95</th>\n",
       "      <th>feat96</th>\n",
       "      <th>feat97</th>\n",
       "      <th>feat98</th>\n",
       "      <th>feat99</th>\n",
       "    </tr>\n",
       "  </thead>\n",
       "  <tbody>\n",
       "    <tr>\n",
       "      <th>0</th>\n",
       "      <td>0</td>\n",
       "      <td>H_-2_-2_0.509296.dat</td>\n",
       "      <td>-2.0</td>\n",
       "      <td>-2.0</td>\n",
       "      <td>0.509296</td>\n",
       "      <td>999</td>\n",
       "      <td>666</td>\n",
       "      <td>test</td>\n",
       "      <td>0.100000</td>\n",
       "      <td>0.100000</td>\n",
       "      <td>...</td>\n",
       "      <td>0.100000</td>\n",
       "      <td>0.100000</td>\n",
       "      <td>0.100000</td>\n",
       "      <td>0.100000</td>\n",
       "      <td>0.100000</td>\n",
       "      <td>0.100000</td>\n",
       "      <td>0.100000</td>\n",
       "      <td>0.100000</td>\n",
       "      <td>0.100000</td>\n",
       "      <td>0.100000</td>\n",
       "    </tr>\n",
       "    <tr>\n",
       "      <th>1</th>\n",
       "      <td>0</td>\n",
       "      <td>H_-2_-2_0.509296.dat</td>\n",
       "      <td>-2.0</td>\n",
       "      <td>-2.0</td>\n",
       "      <td>0.509296</td>\n",
       "      <td>999</td>\n",
       "      <td>666</td>\n",
       "      <td>test</td>\n",
       "      <td>0.141421</td>\n",
       "      <td>0.141142</td>\n",
       "      <td>...</td>\n",
       "      <td>0.114412</td>\n",
       "      <td>0.108967</td>\n",
       "      <td>0.123928</td>\n",
       "      <td>0.119406</td>\n",
       "      <td>0.131490</td>\n",
       "      <td>0.127962</td>\n",
       "      <td>0.136978</td>\n",
       "      <td>0.134500</td>\n",
       "      <td>0.140306</td>\n",
       "      <td>0.138916</td>\n",
       "    </tr>\n",
       "    <tr>\n",
       "      <th>2</th>\n",
       "      <td>0</td>\n",
       "      <td>H_-2_-2_0.509296.dat</td>\n",
       "      <td>-2.0</td>\n",
       "      <td>-2.0</td>\n",
       "      <td>0.509296</td>\n",
       "      <td>999</td>\n",
       "      <td>666</td>\n",
       "      <td>test</td>\n",
       "      <td>0.141421</td>\n",
       "      <td>0.140306</td>\n",
       "      <td>...</td>\n",
       "      <td>0.043702</td>\n",
       "      <td>0.026500</td>\n",
       "      <td>0.075777</td>\n",
       "      <td>0.060214</td>\n",
       "      <td>0.103092</td>\n",
       "      <td>0.090145</td>\n",
       "      <td>0.123928</td>\n",
       "      <td>0.114412</td>\n",
       "      <td>0.136978</td>\n",
       "      <td>0.131490</td>\n",
       "    </tr>\n",
       "    <tr>\n",
       "      <th>3</th>\n",
       "      <td>0</td>\n",
       "      <td>H_-2_-2_0.509296.dat</td>\n",
       "      <td>-2.0</td>\n",
       "      <td>-2.0</td>\n",
       "      <td>0.509296</td>\n",
       "      <td>999</td>\n",
       "      <td>666</td>\n",
       "      <td>test</td>\n",
       "      <td>-0.100000</td>\n",
       "      <td>0.100000</td>\n",
       "      <td>...</td>\n",
       "      <td>-0.100000</td>\n",
       "      <td>0.100000</td>\n",
       "      <td>-0.100000</td>\n",
       "      <td>0.100000</td>\n",
       "      <td>-0.100000</td>\n",
       "      <td>0.100000</td>\n",
       "      <td>-0.100000</td>\n",
       "      <td>0.100000</td>\n",
       "      <td>-0.100000</td>\n",
       "      <td>0.100000</td>\n",
       "    </tr>\n",
       "    <tr>\n",
       "      <th>4</th>\n",
       "      <td>0</td>\n",
       "      <td>H_-2_-2_0.509296.dat</td>\n",
       "      <td>-2.0</td>\n",
       "      <td>-2.0</td>\n",
       "      <td>0.509296</td>\n",
       "      <td>999</td>\n",
       "      <td>666</td>\n",
       "      <td>test</td>\n",
       "      <td>0.000509</td>\n",
       "      <td>-0.008372</td>\n",
       "      <td>...</td>\n",
       "      <td>-0.082713</td>\n",
       "      <td>-0.089753</td>\n",
       "      <td>-0.067684</td>\n",
       "      <td>-0.075347</td>\n",
       "      <td>-0.051587</td>\n",
       "      <td>-0.059753</td>\n",
       "      <td>-0.034677</td>\n",
       "      <td>-0.043217</td>\n",
       "      <td>-0.017220</td>\n",
       "      <td>-0.026000</td>\n",
       "    </tr>\n",
       "  </tbody>\n",
       "</table>\n",
       "<p>5 rows × 108 columns</p>\n",
       "</div>"
      ],
      "text/plain": [
       "   id                  path   t1   t2   winding  phase  pred_phase type_of  \\\n",
       "0   0  H_-2_-2_0.509296.dat -2.0 -2.0  0.509296    999         666    test   \n",
       "1   0  H_-2_-2_0.509296.dat -2.0 -2.0  0.509296    999         666    test   \n",
       "2   0  H_-2_-2_0.509296.dat -2.0 -2.0  0.509296    999         666    test   \n",
       "3   0  H_-2_-2_0.509296.dat -2.0 -2.0  0.509296    999         666    test   \n",
       "4   0  H_-2_-2_0.509296.dat -2.0 -2.0  0.509296    999         666    test   \n",
       "\n",
       "      feat0     feat1  ...    feat90    feat91    feat92    feat93    feat94  \\\n",
       "0  0.100000  0.100000  ...  0.100000  0.100000  0.100000  0.100000  0.100000   \n",
       "1  0.141421  0.141142  ...  0.114412  0.108967  0.123928  0.119406  0.131490   \n",
       "2  0.141421  0.140306  ...  0.043702  0.026500  0.075777  0.060214  0.103092   \n",
       "3 -0.100000  0.100000  ... -0.100000  0.100000 -0.100000  0.100000 -0.100000   \n",
       "4  0.000509 -0.008372  ... -0.082713 -0.089753 -0.067684 -0.075347 -0.051587   \n",
       "\n",
       "     feat95    feat96    feat97    feat98    feat99  \n",
       "0  0.100000  0.100000  0.100000  0.100000  0.100000  \n",
       "1  0.127962  0.136978  0.134500  0.140306  0.138916  \n",
       "2  0.090145  0.123928  0.114412  0.136978  0.131490  \n",
       "3  0.100000 -0.100000  0.100000 -0.100000  0.100000  \n",
       "4 -0.059753 -0.034677 -0.043217 -0.017220 -0.026000  \n",
       "\n",
       "[5 rows x 108 columns]"
      ]
     },
     "execution_count": 4,
     "metadata": {},
     "output_type": "execute_result"
    }
   ],
   "source": [
    "%%time\n",
    "#Starting an instance of Simulation with a decision tree\n",
    "model = DecisionTreeClassifier(criterion=\"entropy\")\n",
    "#dict_args = {\"csv_path\":csv_path, \"model\":model, \"allowed_windings\":allowed_windings,\\\n",
    "#             \"simulation_dir\":simulation_dir, \"val_split\":val_split, \"features_to_use\":features_to_use,\\\n",
    "#            \"shuffle_features\":shuffle_features, \"random_state\":random_state}\n",
    "simulation = Simulation(csv_path,model_name,model_kw,allowed_windings,simulation_dir,val_split,features_to_use,\\\n",
    "                       shuffle_features,fourier_mode,fourier_features_to_use,fourier_real,\\\n",
    "                       fourier_normalize, fourier_fillna , random_state)\n",
    "#simulation = Simulation(**dict_args)\n",
    "\n",
    "\n",
    "#(self, csv_path, model_name, model_kw, allowed_windings, simulation_dir = None, val_split = 0, \n",
    "# features_to_use = None, shuffle_features = False, fourier_mode=None, fourier_features_to_use=None,\n",
    "# fourier_real = False, fourier_normalize = False, Fourier_fillna=False, random_state = None):\n",
    "\n",
    "\n",
    "\n",
    "print(\"Info on all data: \\n\")\n",
    "simulation.dataframe.info()\n",
    "simulation.dataframe.head()"
   ]
  },
  {
   "cell_type": "markdown",
   "metadata": {
    "papermill": {
     "duration": 0.016511,
     "end_time": "2020-07-09T17:15:24.994409",
     "exception": false,
     "start_time": "2020-07-09T17:15:24.977898",
     "status": "completed"
    },
    "tags": []
   },
   "source": [
    "####  Fourier features"
   ]
  },
  {
   "cell_type": "code",
   "execution_count": 5,
   "metadata": {
    "execution": {
     "iopub.execute_input": "2020-07-09T17:15:25.029800Z",
     "iopub.status.busy": "2020-07-09T17:15:25.029479Z",
     "iopub.status.idle": "2020-07-09T17:15:25.039699Z",
     "shell.execute_reply": "2020-07-09T17:15:25.039386Z"
    },
    "papermill": {
     "duration": 0.028667,
     "end_time": "2020-07-09T17:15:25.039750",
     "exception": false,
     "start_time": "2020-07-09T17:15:25.011083",
     "status": "completed"
    },
    "tags": []
   },
   "outputs": [
    {
     "name": "stdout",
     "output_type": "stream",
     "text": [
      "CPU times: user 2 µs, sys: 0 ns, total: 2 µs\n",
      "Wall time: 3.81 µs\n"
     ]
    }
   ],
   "source": [
    "%%time\n",
    "#simulation.generate_fourier_df()\n",
    "if simulation.fourier_mode is not None:\n",
    "    simulation.fourier_dataframe.info() \n",
    "    simulation.fourier_dataframe.sample(15)\n"
   ]
  },
  {
   "cell_type": "code",
   "execution_count": 6,
   "metadata": {
    "execution": {
     "iopub.execute_input": "2020-07-09T17:15:25.075934Z",
     "iopub.status.busy": "2020-07-09T17:15:25.075619Z",
     "iopub.status.idle": "2020-07-09T17:15:25.148281Z",
     "shell.execute_reply": "2020-07-09T17:15:25.144957Z"
    },
    "papermill": {
     "duration": 0.091986,
     "end_time": "2020-07-09T17:15:25.148611",
     "exception": false,
     "start_time": "2020-07-09T17:15:25.056625",
     "status": "completed"
    },
    "tags": []
   },
   "outputs": [
    {
     "name": "stdout",
     "output_type": "stream",
     "text": [
      "features_to_use: \n",
      "\n",
      "\n",
      "[0, 1, 2, 3, 5, 7, 19, 35, 45, 48, 49, 50]\n",
      "Number of real space features:\n",
      "\n",
      "\n",
      "12\n",
      "\n",
      "\n",
      "fourier_features: \n",
      "\n",
      "\n",
      "None\n",
      "\n",
      "\n"
     ]
    }
   ],
   "source": [
    "print(\"features_to_use: \")\n",
    "print(\"\\n\")\n",
    "print(simulation.features_to_use)\n",
    "if simulation.features_to_use is not None:\n",
    "    print(\"Number of real space features:\")\n",
    "    print(\"\\n\")\n",
    "    print(len(simulation.features_to_use))\n",
    "print(\"\\n\")\n",
    "print(\"fourier_features: \")\n",
    "print(\"\\n\")\n",
    "print(simulation.fourier_features)\n",
    "print(\"\\n\")\n",
    "if simulation.fourier_features is not None:\n",
    "    print(\"Number of Fourier features: \")\n",
    "    print(\"\\n\")\n",
    "    print(len(simulation.fourier_features))"
   ]
  },
  {
   "cell_type": "code",
   "execution_count": 7,
   "metadata": {
    "execution": {
     "iopub.execute_input": "2020-07-09T17:15:25.218093Z",
     "iopub.status.busy": "2020-07-09T17:15:25.217785Z",
     "iopub.status.idle": "2020-07-09T17:15:25.227757Z",
     "shell.execute_reply": "2020-07-09T17:15:25.227469Z"
    },
    "papermill": {
     "duration": 0.030129,
     "end_time": "2020-07-09T17:15:25.227812",
     "exception": false,
     "start_time": "2020-07-09T17:15:25.197683",
     "status": "completed"
    },
    "tags": []
   },
   "outputs": [],
   "source": [
    "#simulation.dataframe.iloc[331456,:]"
   ]
  },
  {
   "cell_type": "code",
   "execution_count": 8,
   "metadata": {
    "execution": {
     "iopub.execute_input": "2020-07-09T17:15:25.262557Z",
     "iopub.status.busy": "2020-07-09T17:15:25.262241Z",
     "iopub.status.idle": "2020-07-09T17:15:25.313679Z",
     "shell.execute_reply": "2020-07-09T17:15:25.315446Z"
    },
    "papermill": {
     "duration": 0.071432,
     "end_time": "2020-07-09T17:15:25.315749",
     "exception": false,
     "start_time": "2020-07-09T17:15:25.244317",
     "status": "completed"
    },
    "tags": []
   },
   "outputs": [],
   "source": [
    "#for ix, obj in enumerate(simulation.dataframe.iloc[331456,:].values):\n",
    "#    print(ix,obj)"
   ]
  },
  {
   "cell_type": "code",
   "execution_count": 9,
   "metadata": {
    "execution": {
     "iopub.execute_input": "2020-07-09T17:15:25.387712Z",
     "iopub.status.busy": "2020-07-09T17:15:25.387187Z",
     "iopub.status.idle": "2020-07-09T17:15:25.397894Z",
     "shell.execute_reply": "2020-07-09T17:15:25.397549Z"
    },
    "papermill": {
     "duration": 0.031186,
     "end_time": "2020-07-09T17:15:25.397946",
     "exception": false,
     "start_time": "2020-07-09T17:15:25.366760",
     "status": "completed"
    },
    "tags": []
   },
   "outputs": [],
   "source": [
    "#simulation.fourier_engineered_dataframe.dct_feat0"
   ]
  },
  {
   "cell_type": "code",
   "execution_count": 10,
   "metadata": {
    "execution": {
     "iopub.execute_input": "2020-07-09T17:15:25.432928Z",
     "iopub.status.busy": "2020-07-09T17:15:25.432429Z",
     "iopub.status.idle": "2020-07-09T17:15:25.490657Z",
     "shell.execute_reply": "2020-07-09T17:15:25.490234Z"
    },
    "papermill": {
     "duration": 0.076239,
     "end_time": "2020-07-09T17:15:25.490722",
     "exception": false,
     "start_time": "2020-07-09T17:15:25.414483",
     "status": "completed"
    },
    "tags": []
   },
   "outputs": [],
   "source": [
    "#simulation.features"
   ]
  },
  {
   "cell_type": "code",
   "execution_count": 11,
   "metadata": {
    "execution": {
     "iopub.execute_input": "2020-07-09T17:15:25.535287Z",
     "iopub.status.busy": "2020-07-09T17:15:25.534739Z",
     "iopub.status.idle": "2020-07-09T17:15:25.573027Z",
     "shell.execute_reply": "2020-07-09T17:15:25.573344Z"
    },
    "papermill": {
     "duration": 0.059843,
     "end_time": "2020-07-09T17:15:25.573412",
     "exception": false,
     "start_time": "2020-07-09T17:15:25.513569",
     "status": "completed"
    },
    "tags": []
   },
   "outputs": [],
   "source": [
    "#simulation.fourier_matrix"
   ]
  },
  {
   "cell_type": "code",
   "execution_count": 12,
   "metadata": {
    "execution": {
     "iopub.execute_input": "2020-07-09T17:15:25.609468Z",
     "iopub.status.busy": "2020-07-09T17:15:25.608915Z",
     "iopub.status.idle": "2020-07-09T17:15:25.685792Z",
     "shell.execute_reply": "2020-07-09T17:15:25.686543Z"
    },
    "papermill": {
     "duration": 0.096387,
     "end_time": "2020-07-09T17:15:25.686687",
     "exception": false,
     "start_time": "2020-07-09T17:15:25.590300",
     "status": "completed"
    },
    "tags": []
   },
   "outputs": [],
   "source": [
    "#1/simulation.n_features*simulation.dataframe.loc[:,simulation.features].sum(axis=1)"
   ]
  },
  {
   "cell_type": "code",
   "execution_count": 13,
   "metadata": {
    "execution": {
     "iopub.execute_input": "2020-07-09T17:15:25.734826Z",
     "iopub.status.busy": "2020-07-09T17:15:25.734458Z",
     "iopub.status.idle": "2020-07-09T17:15:25.744754Z",
     "shell.execute_reply": "2020-07-09T17:15:25.744396Z"
    },
    "papermill": {
     "duration": 0.03074,
     "end_time": "2020-07-09T17:15:25.744807",
     "exception": false,
     "start_time": "2020-07-09T17:15:25.714067",
     "status": "completed"
    },
    "tags": []
   },
   "outputs": [],
   "source": [
    "#df_2 = simulation.fourier_engineered_dataframe[simulation.fourier_engineered_dataframe.phase==2]\n",
    "#df_2.describe()"
   ]
  },
  {
   "cell_type": "code",
   "execution_count": 14,
   "metadata": {
    "execution": {
     "iopub.execute_input": "2020-07-09T17:15:25.784426Z",
     "iopub.status.busy": "2020-07-09T17:15:25.784108Z",
     "iopub.status.idle": "2020-07-09T17:15:25.841604Z",
     "shell.execute_reply": "2020-07-09T17:15:25.840675Z"
    },
    "papermill": {
     "duration": 0.078215,
     "end_time": "2020-07-09T17:15:25.841735",
     "exception": false,
     "start_time": "2020-07-09T17:15:25.763520",
     "status": "completed"
    },
    "tags": []
   },
   "outputs": [],
   "source": [
    "#df_1 = simulation.fourier_engineered_dataframe[simulation.fourier_engineered_dataframe.phase==1]\n",
    "#df_1.describe()"
   ]
  },
  {
   "cell_type": "code",
   "execution_count": 15,
   "metadata": {
    "execution": {
     "iopub.execute_input": "2020-07-09T17:15:25.900558Z",
     "iopub.status.busy": "2020-07-09T17:15:25.900195Z",
     "iopub.status.idle": "2020-07-09T17:15:25.910629Z",
     "shell.execute_reply": "2020-07-09T17:15:25.910946Z"
    },
    "papermill": {
     "duration": 0.03049,
     "end_time": "2020-07-09T17:15:25.911019",
     "exception": false,
     "start_time": "2020-07-09T17:15:25.880529",
     "status": "completed"
    },
    "tags": []
   },
   "outputs": [],
   "source": [
    "#df_0 = simulation.fourier_engineered_dataframe[simulation.fourier_engineered_dataframe.phase==0]\n",
    "#df_0.describe()"
   ]
  },
  {
   "cell_type": "code",
   "execution_count": 16,
   "metadata": {
    "execution": {
     "iopub.execute_input": "2020-07-09T17:15:25.946137Z",
     "iopub.status.busy": "2020-07-09T17:15:25.945823Z",
     "iopub.status.idle": "2020-07-09T17:15:26.024183Z",
     "shell.execute_reply": "2020-07-09T17:15:26.021581Z"
    },
    "papermill": {
     "duration": 0.097104,
     "end_time": "2020-07-09T17:15:26.024564",
     "exception": false,
     "start_time": "2020-07-09T17:15:25.927460",
     "status": "completed"
    },
    "tags": []
   },
   "outputs": [],
   "source": [
    "#plt.figure(figsize=(10,10))\n",
    "#plt.scatter(df_1.fourier_feat0,df_1.fourier_feat2)\n",
    "#plt.scatter(df_0.fourier_feat0,df_0.fourier_feat2,alpha=0.4)"
   ]
  },
  {
   "cell_type": "code",
   "execution_count": 17,
   "metadata": {
    "execution": {
     "iopub.execute_input": "2020-07-09T17:15:26.089762Z",
     "iopub.status.busy": "2020-07-09T17:15:26.089004Z",
     "iopub.status.idle": "2020-07-09T17:15:26.104569Z",
     "shell.execute_reply": "2020-07-09T17:15:26.104059Z"
    },
    "papermill": {
     "duration": 0.03687,
     "end_time": "2020-07-09T17:15:26.104647",
     "exception": false,
     "start_time": "2020-07-09T17:15:26.067777",
     "status": "completed"
    },
    "tags": []
   },
   "outputs": [],
   "source": [
    "#plt.scatter(df_0.fourier_feat0,df_0.fourier_feat2,alpha=0.4)"
   ]
  },
  {
   "cell_type": "code",
   "execution_count": 18,
   "metadata": {
    "execution": {
     "iopub.execute_input": "2020-07-09T17:15:26.141410Z",
     "iopub.status.busy": "2020-07-09T17:15:26.141092Z",
     "iopub.status.idle": "2020-07-09T17:15:26.182578Z",
     "shell.execute_reply": "2020-07-09T17:15:26.182224Z"
    },
    "papermill": {
     "duration": 0.060772,
     "end_time": "2020-07-09T17:15:26.182633",
     "exception": false,
     "start_time": "2020-07-09T17:15:26.121861",
     "status": "completed"
    },
    "tags": []
   },
   "outputs": [],
   "source": [
    "#plt.scatter(df_2.fourier_feat0,df_2.fourier_feat2)"
   ]
  },
  {
   "cell_type": "code",
   "execution_count": 19,
   "metadata": {
    "execution": {
     "iopub.execute_input": "2020-07-09T17:15:26.222543Z",
     "iopub.status.busy": "2020-07-09T17:15:26.222119Z",
     "iopub.status.idle": "2020-07-09T17:15:26.291051Z",
     "shell.execute_reply": "2020-07-09T17:15:26.288985Z"
    },
    "papermill": {
     "duration": 0.088849,
     "end_time": "2020-07-09T17:15:26.291349",
     "exception": false,
     "start_time": "2020-07-09T17:15:26.202500",
     "status": "completed"
    },
    "tags": []
   },
   "outputs": [],
   "source": [
    "#df_1.hist(figsize=(15,15))"
   ]
  },
  {
   "cell_type": "code",
   "execution_count": 20,
   "metadata": {
    "execution": {
     "iopub.execute_input": "2020-07-09T17:15:26.341630Z",
     "iopub.status.busy": "2020-07-09T17:15:26.341323Z",
     "iopub.status.idle": "2020-07-09T17:15:26.351607Z",
     "shell.execute_reply": "2020-07-09T17:15:26.351266Z"
    },
    "papermill": {
     "duration": 0.029741,
     "end_time": "2020-07-09T17:15:26.351660",
     "exception": false,
     "start_time": "2020-07-09T17:15:26.321919",
     "status": "completed"
    },
    "tags": []
   },
   "outputs": [],
   "source": [
    "#df_0.hist(figsize=(15,15))"
   ]
  },
  {
   "cell_type": "markdown",
   "metadata": {
    "papermill": {
     "duration": 0.018168,
     "end_time": "2020-07-09T17:15:26.387439",
     "exception": false,
     "start_time": "2020-07-09T17:15:26.369271",
     "status": "completed"
    },
    "tags": []
   },
   "source": [
    "#### Checking initialization"
   ]
  },
  {
   "cell_type": "code",
   "execution_count": 21,
   "metadata": {
    "execution": {
     "iopub.execute_input": "2020-07-09T17:15:26.425777Z",
     "iopub.status.busy": "2020-07-09T17:15:26.425463Z",
     "iopub.status.idle": "2020-07-09T17:15:26.450161Z",
     "shell.execute_reply": "2020-07-09T17:15:26.450535Z"
    },
    "papermill": {
     "duration": 0.044931,
     "end_time": "2020-07-09T17:15:26.450621",
     "exception": false,
     "start_time": "2020-07-09T17:15:26.405690",
     "status": "completed"
    },
    "tags": []
   },
   "outputs": [
    {
     "name": "stdout",
     "output_type": "stream",
     "text": [
      "n_features:  100\n",
      "n_hamiltonians:  6561\n",
      "n_ts:  2\n",
      "CPU times: user 183 µs, sys: 17 µs, total: 200 µs\n",
      "Wall time: 118 µs\n"
     ]
    }
   ],
   "source": [
    "%%time\n",
    "n_features = simulation.n_features\n",
    "n_hamiltonians = simulation.n_hamiltonians\n",
    "n_ts = simulation.n_ts\n",
    "\n",
    "print(\"n_features: \", n_features)\n",
    "print(\"n_hamiltonians: \", n_hamiltonians)\n",
    "print(\"n_ts: \", n_ts)"
   ]
  },
  {
   "cell_type": "code",
   "execution_count": 22,
   "metadata": {
    "execution": {
     "iopub.execute_input": "2020-07-09T17:15:26.490719Z",
     "iopub.status.busy": "2020-07-09T17:15:26.490357Z",
     "iopub.status.idle": "2020-07-09T17:15:26.785597Z",
     "shell.execute_reply": "2020-07-09T17:15:26.785268Z"
    },
    "papermill": {
     "duration": 0.315859,
     "end_time": "2020-07-09T17:15:26.785648",
     "exception": false,
     "start_time": "2020-07-09T17:15:26.469789",
     "status": "completed"
    },
    "tags": []
   },
   "outputs": [
    {
     "name": "stdout",
     "output_type": "stream",
     "text": [
      "% train:  0.846822130772748\n",
      "% val:  0.0\n",
      "% test:  0.15317786922725193\n",
      "% train + val + test:  1.0\n",
      "\n",
      "\n",
      "number of train hamiltonians:  5556\n",
      "number of val hamiltonians:  0\n",
      "number of test hamiltonians:  1005\n",
      "total number of hamiltonians:  6561\n",
      "\n",
      "\n",
      "train ids:  [9, 10, 11, 12, 13, 14, 15, 16, 17, 18, 19, 20, 21, 22, 23, 24, 25, 26, 27, 28, 29, 30, 31, 32, 33, 34, 35, 36, 37, 38, 39, 40, 41, 42, 43, 44, 45, 46, 47, 48, 49, 50, 51, 52, 53, 54, 55, 56, 57, 58, 59, 60, 61, 62, 63, 64, 65, 66, 67, 68, 69, 70, 71, 72, 73, 74, 75, 76, 77, 91, 92, 93, 94, 95, 96, 97, 98, 99, 100, 101, 102, 103, 104, 105, 106, 107, 108, 109, 110, 111, 112, 113, 114, 115, 116, 117, 118, 119, 120, 121, 122, 123, 124, 125, 126, 127, 128, 129, 130, 131, 132, 133, 134, 135, 136, 137, 138, 139, 140, 141, 142, 143, 144, 145, 146, 147, 148, 149, 150, 151, 152, 153, 154, 155, 156, 157, 172, 173, 174, 175, 176, 177, 178, 179, 180, 181, 182, 183, 184, 185, 186, 187, 188, 189, 190, 191, 192, 193, 194, 195, 196, 197, 198, 199, 200, 201, 202, 203, 204, 205, 206, 207, 208, 209, 210, 211, 212, 213, 214, 215, 216, 217, 218, 219, 220, 221, 222, 223, 224, 225, 226, 227, 228, 229, 230, 231, 232, 233, 234, 235, 236, 237, 254, 255, 256, 257, 258, 259, 260, 261, 262, 263, 264, 265, 266, 267, 268, 269, 270, 271, 272, 273, 274, 275, 276, 277, 278, 279, 280, 281, 282, 283, 284, 285, 286, 287, 288, 289, 290, 291, 292, 293, 294, 295, 296, 297, 298, 299, 300, 301, 302, 303, 304, 305, 306, 307, 308, 309, 310, 311, 312, 313, 314, 315, 316, 317, 323, 336, 337, 338, 339, 340, 341, 342, 343, 344, 345, 346, 347, 348, 349, 350, 351, 352, 353, 354, 355, 356, 357, 358, 359, 360, 361, 362, 363, 364, 365, 366, 367, 368, 369, 370, 371, 372, 373, 374, 375, 376, 377, 378, 379, 380, 381, 382, 383, 384, 385, 386, 387, 388, 389, 390, 391, 392, 393, 394, 395, 396, 397, 403, 404, 418, 419, 420, 421, 422, 423, 424, 425, 426, 427, 428, 429, 430, 431, 432, 433, 434, 435, 436, 437, 438, 439, 440, 441, 442, 443, 444, 445, 446, 447, 448, 449, 450, 451, 452, 453, 454, 455, 456, 457, 458, 459, 460, 461, 462, 463, 464, 465, 466, 467, 468, 469, 470, 471, 472, 473, 474, 475, 476, 477, 483, 484, 485, 500, 501, 502, 503, 504, 505, 506, 507, 508, 509, 510, 511, 512, 513, 514, 515, 516, 517, 518, 519, 520, 521, 522, 523, 524, 525, 526, 527, 528, 529, 530, 531, 532, 533, 534, 535, 536, 537, 538, 539, 540, 541, 542, 543, 544, 545, 546, 547, 548, 549, 550, 551, 552, 553, 554, 555, 556, 557, 563, 564, 565, 566, 581, 582, 583, 584, 585, 586, 587, 588, 589, 590, 591, 592, 593, 594, 595, 596, 597, 598, 599, 600, 601, 602, 603, 604, 605, 606, 607, 608, 609, 610, 611, 612, 613, 614, 615, 616, 617, 618, 619, 620, 621, 622, 623, 624, 625, 626, 627, 628, 629, 630, 631, 632, 633, 634, 635, 636, 637, 643, 644, 645, 646, 647, 663, 664, 665, 666, 667, 668, 669, 670, 671, 672, 673, 674, 675, 676, 677, 678, 679, 680, 681, 682, 683, 684, 685, 686, 687, 688, 689, 690, 691, 692, 693, 694, 695, 696, 697, 698, 699, 700, 701, 702, 703, 704, 705, 706, 707, 708, 709, 710, 711, 712, 713, 714, 715, 716, 717, 723, 724, 725, 726, 727, 728, 745, 746, 747, 748, 749, 750, 751, 752, 753, 754, 755, 756, 757, 758, 759, 760, 761, 762, 763, 764, 765, 766, 767, 768, 769, 770, 771, 772, 773, 774, 775, 776, 777, 778, 779, 780, 781, 782, 783, 784, 785, 786, 787, 788, 789, 790, 791, 792, 793, 794, 795, 796, 797, 803, 804, 805, 806, 807, 808, 809, 827, 828, 829, 830, 831, 832, 833, 834, 835, 836, 837, 838, 839, 840, 841, 842, 843, 844, 845, 846, 847, 848, 849, 850, 851, 852, 853, 854, 855, 856, 857, 858, 859, 860, 861, 862, 863, 864, 865, 866, 867, 868, 869, 870, 871, 872, 873, 874, 875, 876, 877, 883, 884, 885, 886, 887, 888, 889, 890, 891, 909, 910, 911, 912, 913, 914, 915, 916, 917, 918, 919, 920, 921, 922, 923, 924, 925, 926, 927, 928, 929, 930, 931, 932, 933, 934, 935, 936, 937, 938, 939, 940, 941, 942, 943, 944, 945, 946, 947, 948, 949, 950, 951, 952, 953, 954, 955, 956, 957, 963, 964, 965, 966, 967, 968, 969, 970, 971, 972, 973, 990, 991, 992, 993, 994, 995, 996, 997, 998, 999, 1000, 1001, 1002, 1003, 1004, 1005, 1006, 1007, 1008, 1009, 1010, 1011, 1012, 1013, 1014, 1015, 1016, 1017, 1018, 1019, 1020, 1021, 1022, 1023, 1024, 1025, 1026, 1027, 1028, 1029, 1030, 1031, 1032, 1033, 1034, 1035, 1036, 1037, 1038, 1042, 1043, 1044, 1045, 1046, 1047, 1048, 1049, 1050, 1051, 1052, 1053, 1054, 1055, 1056, 1072, 1073, 1074, 1075, 1076, 1077, 1078, 1079, 1080, 1081, 1082, 1083, 1084, 1085, 1086, 1087, 1088, 1089, 1090, 1091, 1092, 1093, 1094, 1095, 1096, 1097, 1098, 1099, 1100, 1101, 1102, 1103, 1104, 1105, 1106, 1107, 1108, 1109, 1110, 1111, 1112, 1113, 1114, 1115, 1116, 1117, 1118, 1122, 1123, 1124, 1125, 1126, 1127, 1128, 1129, 1130, 1131, 1132, 1133, 1134, 1135, 1136, 1137, 1138, 1154, 1155, 1156, 1157, 1158, 1159, 1160, 1161, 1162, 1163, 1164, 1165, 1166, 1167, 1168, 1169, 1170, 1171, 1172, 1173, 1174, 1175, 1176, 1177, 1178, 1179, 1180, 1181, 1182, 1183, 1184, 1185, 1186, 1187, 1188, 1189, 1190, 1191, 1192, 1193, 1194, 1195, 1196, 1197, 1198, 1202, 1203, 1204, 1205, 1206, 1207, 1208, 1209, 1210, 1211, 1212, 1213, 1214, 1215, 1216, 1217, 1218, 1219, 1220, 1236, 1237, 1238, 1239, 1240, 1241, 1242, 1243, 1244, 1245, 1246, 1247, 1248, 1249, 1250, 1251, 1252, 1253, 1254, 1255, 1256, 1257, 1258, 1259, 1260, 1261, 1262, 1263, 1264, 1265, 1266, 1267, 1268, 1269, 1270, 1271, 1272, 1273, 1274, 1275, 1276, 1277, 1278, 1282, 1283, 1284, 1285, 1286, 1287, 1288, 1289, 1290, 1291, 1292, 1293, 1294, 1295, 1296, 1297, 1298, 1299, 1300, 1301, 1302, 1303, 1317, 1318, 1319, 1320, 1321, 1322, 1323, 1324, 1325, 1326, 1327, 1328, 1329, 1330, 1331, 1332, 1333, 1334, 1335, 1336, 1337, 1338, 1339, 1340, 1341, 1342, 1343, 1344, 1345, 1346, 1347, 1348, 1349, 1350, 1351, 1352, 1353, 1354, 1355, 1356, 1357, 1358, 1362, 1363, 1364, 1365, 1366, 1367, 1368, 1369, 1370, 1371, 1372, 1373, 1374, 1375, 1376, 1377, 1378, 1379, 1380, 1381, 1382, 1383, 1384, 1385, 1399, 1400, 1401, 1402, 1403, 1404, 1405, 1406, 1407, 1408, 1409, 1410, 1411, 1412, 1413, 1414, 1415, 1416, 1417, 1418, 1419, 1420, 1421, 1422, 1423, 1424, 1425, 1426, 1427, 1428, 1429, 1430, 1431, 1432, 1433, 1434, 1435, 1436, 1437, 1438, 1442, 1443, 1444, 1445, 1446, 1447, 1448, 1449, 1450, 1451, 1452, 1453, 1454, 1455, 1456, 1457, 1458, 1459, 1460, 1461, 1462, 1463, 1464, 1465, 1466, 1467, 1468, 1481, 1482, 1483, 1484, 1485, 1486, 1487, 1488, 1489, 1490, 1491, 1492, 1493, 1494, 1495, 1496, 1497, 1498, 1499, 1500, 1501, 1502, 1503, 1504, 1505, 1506, 1507, 1508, 1509, 1510, 1511, 1512, 1513, 1514, 1515, 1516, 1517, 1518, 1522, 1523, 1524, 1525, 1526, 1527, 1528, 1529, 1530, 1531, 1532, 1533, 1534, 1535, 1536, 1537, 1538, 1539, 1540, 1541, 1542, 1543, 1544, 1545, 1546, 1547, 1548, 1549, 1550, 1563, 1564, 1565, 1566, 1567, 1568, 1569, 1570, 1571, 1572, 1573, 1574, 1575, 1576, 1577, 1578, 1579, 1580, 1581, 1582, 1583, 1584, 1585, 1586, 1587, 1588, 1589, 1590, 1591, 1592, 1593, 1594, 1595, 1596, 1597, 1598, 1602, 1603, 1604, 1605, 1606, 1607, 1608, 1609, 1610, 1611, 1612, 1613, 1614, 1615, 1616, 1617, 1618, 1619, 1620, 1621, 1622, 1623, 1624, 1625, 1626, 1627, 1628, 1629, 1630, 1631, 1632, 1645, 1646, 1647, 1648, 1649, 1650, 1651, 1652, 1653, 1654, 1655, 1656, 1657, 1658, 1659, 1660, 1661, 1662, 1663, 1664, 1665, 1666, 1667, 1668, 1669, 1670, 1671, 1672, 1673, 1674, 1675, 1676, 1677, 1678, 1682, 1683, 1684, 1685, 1686, 1687, 1688, 1689, 1690, 1691, 1692, 1693, 1694, 1695, 1696, 1697, 1698, 1699, 1700, 1701, 1702, 1703, 1704, 1705, 1706, 1707, 1708, 1709, 1710, 1711, 1712, 1713, 1714, 1715, 1726, 1727, 1728, 1729, 1730, 1731, 1732, 1733, 1734, 1735, 1736, 1737, 1738, 1739, 1740, 1741, 1742, 1743, 1744, 1745, 1746, 1747, 1748, 1749, 1750, 1751, 1752, 1753, 1754, 1755, 1756, 1757, 1758, 1762, 1763, 1764, 1765, 1766, 1767, 1768, 1769, 1770, 1771, 1772, 1773, 1774, 1775, 1776, 1777, 1778, 1779, 1780, 1781, 1782, 1783, 1784, 1785, 1786, 1787, 1788, 1789, 1790, 1791, 1792, 1793, 1794, 1795, 1796, 1797, 1808, 1809, 1810, 1811, 1812, 1813, 1814, 1815, 1816, 1817, 1818, 1819, 1820, 1821, 1822, 1823, 1824, 1825, 1826, 1827, 1828, 1829, 1830, 1831, 1832, 1833, 1834, 1835, 1836, 1837, 1838, 1842, 1843, 1844, 1845, 1846, 1847, 1848, 1849, 1850, 1851, 1852, 1853, 1854, 1855, 1856, 1857, 1858, 1859, 1860, 1861, 1862, 1863, 1864, 1865, 1866, 1867, 1868, 1869, 1870, 1871, 1872, 1873, 1874, 1875, 1876, 1877, 1878, 1879, 1890, 1891, 1892, 1893, 1894, 1895, 1896, 1897, 1898, 1899, 1900, 1901, 1902, 1903, 1904, 1905, 1906, 1907, 1908, 1909, 1910, 1911, 1912, 1913, 1914, 1915, 1916, 1917, 1918, 1922, 1923, 1924, 1925, 1926, 1927, 1928, 1929, 1930, 1931, 1932, 1933, 1934, 1935, 1936, 1937, 1938, 1939, 1940, 1941, 1942, 1943, 1944, 1945, 1946, 1947, 1948, 1949, 1950, 1951, 1952, 1953, 1954, 1955, 1956, 1957, 1958, 1959, 1960, 1961, 1962, 1972, 1973, 1974, 1975, 1976, 1977, 1978, 1979, 1980, 1981, 1982, 1983, 1984, 1985, 1986, 1987, 1988, 1989, 1990, 1991, 1992, 1993, 1994, 1995, 1996, 1997, 1998, 2002, 2003, 2004, 2005, 2006, 2007, 2008, 2009, 2010, 2011, 2012, 2013, 2014, 2015, 2016, 2017, 2018, 2019, 2020, 2021, 2022, 2023, 2024, 2025, 2026, 2027, 2028, 2029, 2030, 2031, 2032, 2033, 2034, 2035, 2036, 2037, 2038, 2039, 2040, 2041, 2042, 2043, 2044, 2054, 2055, 2056, 2057, 2058, 2059, 2060, 2061, 2062, 2063, 2064, 2065, 2066, 2067, 2068, 2069, 2070, 2071, 2072, 2073, 2074, 2075, 2076, 2077, 2078, 2082, 2083, 2084, 2085, 2086, 2087, 2088, 2089, 2090, 2091, 2092, 2093, 2094, 2095, 2096, 2097, 2098, 2099, 2100, 2101, 2102, 2103, 2104, 2105, 2106, 2107, 2108, 2109, 2110, 2111, 2112, 2113, 2114, 2115, 2116, 2117, 2118, 2119, 2120, 2121, 2122, 2123, 2124, 2125, 2126, 2135, 2136, 2137, 2138, 2139, 2140, 2141, 2142, 2143, 2144, 2145, 2146, 2147, 2148, 2149, 2150, 2151, 2152, 2153, 2154, 2155, 2156, 2157, 2158, 2159, 2161, 2162, 2163, 2164, 2165, 2166, 2167, 2168, 2169, 2170, 2171, 2172, 2173, 2174, 2175, 2176, 2177, 2178, 2179, 2180, 2181, 2182, 2183, 2184, 2185, 2186, 2187, 2188, 2189, 2190, 2191, 2192, 2193, 2194, 2195, 2196, 2197, 2198, 2199, 2200, 2201, 2202, 2203, 2204, 2205, 2206, 2207, 2208, 2209, 2217, 2218, 2219, 2220, 2221, 2222, 2223, 2224, 2225, 2226, 2227, 2228, 2229, 2230, 2231, 2232, 2233, 2234, 2235, 2236, 2237, 2238, 2239, 2241, 2242, 2243, 2244, 2245, 2246, 2247, 2248, 2249, 2250, 2251, 2252, 2253, 2254, 2255, 2256, 2257, 2258, 2259, 2260, 2261, 2262, 2263, 2264, 2265, 2266, 2267, 2268, 2269, 2270, 2271, 2272, 2273, 2274, 2275, 2276, 2277, 2278, 2279, 2280, 2281, 2282, 2283, 2284, 2285, 2286, 2287, 2288, 2289, 2290, 2291, 2299, 2300, 2301, 2302, 2303, 2304, 2305, 2306, 2307, 2308, 2309, 2310, 2311, 2312, 2313, 2314, 2315, 2316, 2317, 2318, 2319, 2321, 2322, 2323, 2324, 2325, 2326, 2327, 2328, 2329, 2330, 2331, 2332, 2333, 2334, 2335, 2336, 2337, 2338, 2339, 2340, 2341, 2342, 2343, 2344, 2345, 2346, 2347, 2348, 2349, 2350, 2351, 2352, 2353, 2354, 2355, 2356, 2357, 2358, 2359, 2360, 2361, 2362, 2363, 2364, 2365, 2366, 2367, 2368, 2369, 2370, 2371, 2372, 2373, 2374, 2381, 2382, 2383, 2384, 2385, 2386, 2387, 2388, 2389, 2390, 2391, 2392, 2393, 2394, 2395, 2396, 2397, 2398, 2399, 2401, 2402, 2403, 2404, 2405, 2406, 2407, 2408, 2409, 2410, 2411, 2412, 2413, 2414, 2415, 2416, 2417, 2418, 2419, 2420, 2421, 2422, 2423, 2424, 2425, 2426, 2427, 2428, 2429, 2430, 2431, 2432, 2433, 2434, 2435, 2436, 2437, 2438, 2439, 2440, 2441, 2442, 2443, 2444, 2445, 2446, 2447, 2448, 2449, 2450, 2451, 2452, 2453, 2454, 2455, 2456, 2463, 2464, 2465, 2466, 2467, 2468, 2469, 2470, 2471, 2472, 2473, 2474, 2475, 2476, 2477, 2478, 2479, 2481, 2482, 2483, 2484, 2485, 2486, 2487, 2488, 2489, 2490, 2491, 2492, 2493, 2494, 2495, 2496, 2497, 2498, 2499, 2500, 2501, 2502, 2503, 2504, 2505, 2506, 2507, 2508, 2509, 2510, 2511, 2512, 2513, 2514, 2515, 2516, 2517, 2518, 2519, 2520, 2521, 2522, 2523, 2524, 2525, 2526, 2527, 2528, 2529, 2530, 2531, 2532, 2533, 2534, 2535, 2536, 2537, 2538, 2544, 2545, 2546, 2547, 2548, 2549, 2550, 2551, 2552, 2553, 2554, 2555, 2556, 2557, 2558, 2559, 2561, 2562, 2563, 2564, 2565, 2566, 2567, 2568, 2569, 2570, 2571, 2572, 2573, 2574, 2575, 2576, 2577, 2578, 2579, 2580, 2581, 2582, 2583, 2584, 2585, 2586, 2587, 2588, 2589, 2590, 2591, 2592, 2593, 2594, 2595, 2596, 2597, 2598, 2599, 2600, 2601, 2602, 2603, 2604, 2605, 2606, 2607, 2608, 2609, 2610, 2611, 2612, 2613, 2614, 2615, 2616, 2617, 2618, 2619, 2620, 2621, 2626, 2627, 2628, 2629, 2630, 2631, 2632, 2633, 2634, 2635, 2636, 2637, 2638, 2639, 2641, 2642, 2643, 2644, 2645, 2646, 2647, 2648, 2649, 2650, 2651, 2652, 2653, 2654, 2655, 2656, 2657, 2658, 2659, 2660, 2661, 2662, 2663, 2664, 2665, 2666, 2667, 2668, 2669, 2670, 2671, 2672, 2673, 2674, 2675, 2676, 2677, 2678, 2679, 2680, 2681, 2682, 2683, 2684, 2685, 2686, 2687, 2688, 2689, 2690, 2691, 2692, 2693, 2694, 2695, 2696, 2697, 2698, 2699, 2700, 2701, 2702, 2703, 2708, 2709, 2710, 2711, 2712, 2713, 2714, 2715, 2716, 2717, 2718, 2719, 2721, 2722, 2723, 2724, 2725, 2726, 2727, 2728, 2729, 2730, 2731, 2732, 2733, 2734, 2735, 2736, 2737, 2738, 2739, 2740, 2741, 2742, 2743, 2744, 2745, 2746, 2747, 2748, 2749, 2750, 2751, 2752, 2753, 2754, 2755, 2756, 2757, 2758, 2759, 2760, 2761, 2762, 2763, 2764, 2765, 2766, 2767, 2768, 2769, 2770, 2771, 2772, 2773, 2774, 2775, 2776, 2777, 2778, 2779, 2780, 2781, 2782, 2783, 2784, 2785, 2790, 2791, 2792, 2793, 2794, 2795, 2796, 2797, 2798, 2799, 2801, 2802, 2803, 2804, 2805, 2806, 2807, 2808, 2809, 2810, 2811, 2812, 2813, 2814, 2815, 2816, 2817, 2818, 2819, 2820, 2821, 2822, 2823, 2824, 2825, 2826, 2827, 2828, 2829, 2830, 2831, 2832, 2833, 2834, 2835, 2836, 2837, 2838, 2839, 2840, 2841, 2842, 2843, 2844, 2845, 2846, 2847, 2848, 2849, 2850, 2851, 2852, 2853, 2854, 2855, 2856, 2857, 2858, 2859, 2860, 2861, 2862, 2863, 2864, 2865, 2866, 2867, 2868, 2872, 2873, 2874, 2875, 2876, 2877, 2878, 2879, 2881, 2882, 2883, 2884, 2885, 2886, 2887, 2888, 2889, 2890, 2891, 2892, 2893, 2894, 2895, 2896, 2897, 2898, 2899, 2900, 2901, 2902, 2903, 2904, 2905, 2906, 2907, 2908, 2909, 2910, 2911, 2912, 2913, 2914, 2915, 2916, 2917, 2918, 2919, 2920, 2921, 2922, 2923, 2924, 2925, 2926, 2927, 2928, 2929, 2930, 2931, 2932, 2933, 2934, 2935, 2936, 2937, 2938, 2939, 2940, 2941, 2942, 2943, 2944, 2945, 2946, 2947, 2948, 2949, 2950, 2953, 2954, 2955, 2956, 2957, 2958, 2959, 2961, 2962, 2963, 2964, 2965, 2966, 2967, 2968, 2969, 2970, 2971, 2972, 2973, 2974, 2975, 2976, 2977, 2978, 2979, 2980, 2981, 2982, 2983, 2984, 2985, 2986, 2987, 2988, 2989, 2990, 2991, 2992, 2993, 2994, 2995, 2996, 2997, 2998, 2999, 3000, 3001, 3002, 3003, 3004, 3005, 3006, 3007, 3008, 3009, 3010, 3011, 3012, 3013, 3014, 3015, 3016, 3017, 3018, 3019, 3020, 3021, 3022, 3023, 3024, 3025, 3026, 3027, 3028, 3029, 3030, 3031, 3032, 3035, 3036, 3037, 3038, 3039, 3041, 3042, 3043, 3044, 3045, 3046, 3047, 3048, 3049, 3050, 3051, 3052, 3053, 3054, 3055, 3056, 3057, 3058, 3059, 3060, 3061, 3062, 3063, 3064, 3065, 3066, 3067, 3068, 3069, 3070, 3071, 3072, 3073, 3074, 3075, 3076, 3077, 3078, 3079, 3080, 3081, 3082, 3083, 3084, 3085, 3086, 3087, 3088, 3089, 3090, 3091, 3092, 3093, 3094, 3095, 3096, 3097, 3098, 3099, 3100, 3101, 3102, 3103, 3104, 3105, 3106, 3107, 3108, 3109, 3110, 3111, 3112, 3113, 3114, 3115, 3117, 3118, 3119, 3121, 3122, 3123, 3124, 3125, 3126, 3127, 3128, 3129, 3130, 3131, 3132, 3133, 3134, 3135, 3136, 3137, 3138, 3139, 3140, 3141, 3142, 3143, 3144, 3145, 3146, 3147, 3148, 3149, 3150, 3151, 3152, 3153, 3154, 3155, 3156, 3157, 3158, 3159, 3160, 3161, 3162, 3163, 3164, 3165, 3166, 3167, 3168, 3169, 3170, 3171, 3172, 3173, 3174, 3175, 3176, 3177, 3178, 3179, 3180, 3181, 3182, 3183, 3184, 3185, 3186, 3187, 3188, 3189, 3190, 3191, 3192, 3193, 3194, 3195, 3196, 3197, 3199, 3201, 3202, 3203, 3204, 3205, 3206, 3207, 3208, 3209, 3210, 3211, 3212, 3213, 3214, 3215, 3216, 3217, 3218, 3219, 3220, 3221, 3222, 3223, 3224, 3225, 3226, 3227, 3228, 3229, 3230, 3231, 3232, 3233, 3234, 3235, 3236, 3237, 3238, 3239, 3240, 3241, 3242, 3243, 3244, 3245, 3246, 3247, 3248, 3249, 3250, 3251, 3252, 3253, 3254, 3255, 3256, 3257, 3258, 3259, 3260, 3261, 3262, 3263, 3264, 3265, 3266, 3267, 3268, 3269, 3270, 3271, 3272, 3273, 3274, 3275, 3276, 3277, 3278, 3279, 3281, 3282, 3283, 3284, 3285, 3286, 3287, 3288, 3289, 3290, 3291, 3292, 3293, 3294, 3295, 3296, 3297, 3298, 3299, 3300, 3301, 3302, 3303, 3304, 3305, 3306, 3307, 3308, 3309, 3310, 3311, 3312, 3313, 3314, 3315, 3316, 3317, 3318, 3319, 3320, 3321, 3322, 3323, 3324, 3325, 3326, 3327, 3328, 3329, 3330, 3331, 3332, 3333, 3334, 3335, 3336, 3337, 3338, 3339, 3340, 3341, 3342, 3343, 3344, 3345, 3346, 3347, 3348, 3349, 3350, 3351, 3352, 3353, 3354, 3355, 3356, 3357, 3358, 3359, 3361, 3363, 3364, 3365, 3366, 3367, 3368, 3369, 3370, 3371, 3372, 3373, 3374, 3375, 3376, 3377, 3378, 3379, 3380, 3381, 3382, 3383, 3384, 3385, 3386, 3387, 3388, 3389, 3390, 3391, 3392, 3393, 3394, 3395, 3396, 3397, 3398, 3399, 3400, 3401, 3402, 3403, 3404, 3405, 3406, 3407, 3408, 3409, 3410, 3411, 3412, 3413, 3414, 3415, 3416, 3417, 3418, 3419, 3420, 3421, 3422, 3423, 3424, 3425, 3426, 3427, 3428, 3429, 3430, 3431, 3432, 3433, 3434, 3435, 3436, 3437, 3438, 3439, 3441, 3442, 3443, 3445, 3446, 3447, 3448, 3449, 3450, 3451, 3452, 3453, 3454, 3455, 3456, 3457, 3458, 3459, 3460, 3461, 3462, 3463, 3464, 3465, 3466, 3467, 3468, 3469, 3470, 3471, 3472, 3473, 3474, 3475, 3476, 3477, 3478, 3479, 3480, 3481, 3482, 3483, 3484, 3485, 3486, 3487, 3488, 3489, 3490, 3491, 3492, 3493, 3494, 3495, 3496, 3497, 3498, 3499, 3500, 3501, 3502, 3503, 3504, 3505, 3506, 3507, 3508, 3509, 3510, 3511, 3512, 3513, 3514, 3515, 3516, 3517, 3518, 3519, 3521, 3522, 3523, 3524, 3525, 3528, 3529, 3530, 3531, 3532, 3533, 3534, 3535, 3536, 3537, 3538, 3539, 3540, 3541, 3542, 3543, 3544, 3545, 3546, 3547, 3548, 3549, 3550, 3551, 3552, 3553, 3554, 3555, 3556, 3557, 3558, 3559, 3560, 3561, 3562, 3563, 3564, 3565, 3566, 3567, 3568, 3569, 3570, 3571, 3572, 3573, 3574, 3575, 3576, 3577, 3578, 3579, 3580, 3581, 3582, 3583, 3584, 3585, 3586, 3587, 3588, 3589, 3590, 3591, 3592, 3593, 3594, 3595, 3596, 3597, 3598, 3599, 3601, 3602, 3603, 3604, 3605, 3606, 3607, 3610, 3611, 3612, 3613, 3614, 3615, 3616, 3617, 3618, 3619, 3620, 3621, 3622, 3623, 3624, 3625, 3626, 3627, 3628, 3629, 3630, 3631, 3632, 3633, 3634, 3635, 3636, 3637, 3638, 3639, 3640, 3641, 3642, 3643, 3644, 3645, 3646, 3647, 3648, 3649, 3650, 3651, 3652, 3653, 3654, 3655, 3656, 3657, 3658, 3659, 3660, 3661, 3662, 3663, 3664, 3665, 3666, 3667, 3668, 3669, 3670, 3671, 3672, 3673, 3674, 3675, 3676, 3677, 3678, 3679, 3681, 3682, 3683, 3684, 3685, 3686, 3687, 3688, 3692, 3693, 3694, 3695, 3696, 3697, 3698, 3699, 3700, 3701, 3702, 3703, 3704, 3705, 3706, 3707, 3708, 3709, 3710, 3711, 3712, 3713, 3714, 3715, 3716, 3717, 3718, 3719, 3720, 3721, 3722, 3723, 3724, 3725, 3726, 3727, 3728, 3729, 3730, 3731, 3732, 3733, 3734, 3735, 3736, 3737, 3738, 3739, 3740, 3741, 3742, 3743, 3744, 3745, 3746, 3747, 3748, 3749, 3750, 3751, 3752, 3753, 3754, 3755, 3756, 3757, 3758, 3759, 3761, 3762, 3763, 3764, 3765, 3766, 3767, 3768, 3769, 3770, 3775, 3776, 3777, 3778, 3779, 3780, 3781, 3782, 3783, 3784, 3785, 3786, 3787, 3788, 3789, 3790, 3791, 3792, 3793, 3794, 3795, 3796, 3797, 3798, 3799, 3800, 3801, 3802, 3803, 3804, 3805, 3806, 3807, 3808, 3809, 3810, 3811, 3812, 3813, 3814, 3815, 3816, 3817, 3818, 3819, 3820, 3821, 3822, 3823, 3824, 3825, 3826, 3827, 3828, 3829, 3830, 3831, 3832, 3833, 3834, 3835, 3836, 3837, 3838, 3839, 3841, 3842, 3843, 3844, 3845, 3846, 3847, 3848, 3849, 3850, 3851, 3852, 3857, 3858, 3859, 3860, 3861, 3862, 3863, 3864, 3865, 3866, 3867, 3868, 3869, 3870, 3871, 3872, 3873, 3874, 3875, 3876, 3877, 3878, 3879, 3880, 3881, 3882, 3883, 3884, 3885, 3886, 3887, 3888, 3889, 3890, 3891, 3892, 3893, 3894, 3895, 3896, 3897, 3898, 3899, 3900, 3901, 3902, 3903, 3904, 3905, 3906, 3907, 3908, 3909, 3910, 3911, 3912, 3913, 3914, 3915, 3916, 3917, 3918, 3919, 3921, 3922, 3923, 3924, 3925, 3926, 3927, 3928, 3929, 3930, 3931, 3932, 3933, 3934, 3939, 3940, 3941, 3942, 3943, 3944, 3945, 3946, 3947, 3948, 3949, 3950, 3951, 3952, 3953, 3954, 3955, 3956, 3957, 3958, 3959, 3960, 3961, 3962, 3963, 3964, 3965, 3966, 3967, 3968, 3969, 3970, 3971, 3972, 3973, 3974, 3975, 3976, 3977, 3978, 3979, 3980, 3981, 3982, 3983, 3984, 3985, 3986, 3987, 3988, 3989, 3990, 3991, 3992, 3993, 3994, 3995, 3996, 3997, 3998, 3999, 4001, 4002, 4003, 4004, 4005, 4006, 4007, 4008, 4009, 4010, 4011, 4012, 4013, 4014, 4015, 4016, 4022, 4023, 4024, 4025, 4026, 4027, 4028, 4029, 4030, 4031, 4032, 4033, 4034, 4035, 4036, 4037, 4038, 4039, 4040, 4041, 4042, 4043, 4044, 4045, 4046, 4047, 4048, 4049, 4050, 4051, 4052, 4053, 4054, 4055, 4056, 4057, 4058, 4059, 4060, 4061, 4062, 4063, 4064, 4065, 4066, 4067, 4068, 4069, 4070, 4071, 4072, 4073, 4074, 4075, 4076, 4077, 4078, 4079, 4081, 4082, 4083, 4084, 4085, 4086, 4087, 4088, 4089, 4090, 4091, 4092, 4093, 4094, 4095, 4096, 4097, 4104, 4105, 4106, 4107, 4108, 4109, 4110, 4111, 4112, 4113, 4114, 4115, 4116, 4117, 4118, 4119, 4120, 4121, 4122, 4123, 4124, 4125, 4126, 4127, 4128, 4129, 4130, 4131, 4132, 4133, 4134, 4135, 4136, 4137, 4138, 4139, 4140, 4141, 4142, 4143, 4144, 4145, 4146, 4147, 4148, 4149, 4150, 4151, 4152, 4153, 4154, 4155, 4156, 4157, 4158, 4159, 4161, 4162, 4163, 4164, 4165, 4166, 4167, 4168, 4169, 4170, 4171, 4172, 4173, 4174, 4175, 4176, 4177, 4178, 4179, 4186, 4187, 4188, 4189, 4190, 4191, 4192, 4193, 4194, 4195, 4196, 4197, 4198, 4199, 4200, 4201, 4202, 4203, 4204, 4205, 4206, 4207, 4208, 4209, 4210, 4211, 4212, 4213, 4214, 4215, 4216, 4217, 4218, 4219, 4220, 4221, 4222, 4223, 4224, 4225, 4226, 4227, 4228, 4229, 4230, 4231, 4232, 4233, 4234, 4235, 4236, 4237, 4238, 4239, 4241, 4242, 4243, 4244, 4245, 4246, 4247, 4248, 4249, 4250, 4251, 4252, 4253, 4254, 4255, 4256, 4257, 4258, 4259, 4260, 4261, 4269, 4270, 4271, 4272, 4273, 4274, 4275, 4276, 4277, 4278, 4279, 4280, 4281, 4282, 4283, 4284, 4285, 4286, 4287, 4288, 4289, 4290, 4291, 4292, 4293, 4294, 4295, 4296, 4297, 4298, 4299, 4300, 4301, 4302, 4303, 4304, 4305, 4306, 4307, 4308, 4309, 4310, 4311, 4312, 4313, 4314, 4315, 4316, 4317, 4318, 4319, 4321, 4322, 4323, 4324, 4325, 4326, 4327, 4328, 4329, 4330, 4331, 4332, 4333, 4334, 4335, 4336, 4337, 4338, 4339, 4340, 4341, 4342, 4343, 4351, 4352, 4353, 4354, 4355, 4356, 4357, 4358, 4359, 4360, 4361, 4362, 4363, 4364, 4365, 4366, 4367, 4368, 4369, 4370, 4371, 4372, 4373, 4374, 4375, 4376, 4377, 4378, 4379, 4380, 4381, 4382, 4383, 4384, 4385, 4386, 4387, 4388, 4389, 4390, 4391, 4392, 4393, 4394, 4395, 4396, 4397, 4398, 4399, 4401, 4402, 4403, 4404, 4405, 4406, 4407, 4408, 4409, 4410, 4411, 4412, 4413, 4414, 4415, 4416, 4417, 4418, 4419, 4420, 4421, 4422, 4423, 4424, 4425, 4434, 4435, 4436, 4437, 4438, 4439, 4440, 4441, 4442, 4443, 4444, 4445, 4446, 4447, 4448, 4449, 4450, 4451, 4452, 4453, 4454, 4455, 4456, 4457, 4458, 4459, 4460, 4461, 4462, 4463, 4464, 4465, 4466, 4467, 4468, 4469, 4470, 4471, 4472, 4473, 4474, 4475, 4476, 4477, 4478, 4482, 4483, 4484, 4485, 4486, 4487, 4488, 4489, 4490, 4491, 4492, 4493, 4494, 4495, 4496, 4497, 4498, 4499, 4500, 4501, 4502, 4503, 4504, 4505, 4506, 4516, 4517, 4518, 4519, 4520, 4521, 4522, 4523, 4524, 4525, 4526, 4527, 4528, 4529, 4530, 4531, 4532, 4533, 4534, 4535, 4536, 4537, 4538, 4539, 4540, 4541, 4542, 4543, 4544, 4545, 4546, 4547, 4548, 4549, 4550, 4551, 4552, 4553, 4554, 4555, 4556, 4557, 4558, 4562, 4563, 4564, 4565, 4566, 4567, 4568, 4569, 4570, 4571, 4572, 4573, 4574, 4575, 4576, 4577, 4578, 4579, 4580, 4581, 4582, 4583, 4584, 4585, 4586, 4587, 4588, 4598, 4599, 4600, 4601, 4602, 4603, 4604, 4605, 4606, 4607, 4608, 4609, 4610, 4611, 4612, 4613, 4614, 4615, 4616, 4617, 4618, 4619, 4620, 4621, 4622, 4623, 4624, 4625, 4626, 4627, 4628, 4629, 4630, 4631, 4632, 4633, 4634, 4635, 4636, 4637, 4638, 4642, 4643, 4644, 4645, 4646, 4647, 4648, 4649, 4650, 4651, 4652, 4653, 4654, 4655, 4656, 4657, 4658, 4659, 4660, 4661, 4662, 4663, 4664, 4665, 4666, 4667, 4668, 4669, 4670, 4681, 4682, 4683, 4684, 4685, 4686, 4687, 4688, 4689, 4690, 4691, 4692, 4693, 4694, 4695, 4696, 4697, 4698, 4699, 4700, 4701, 4702, 4703, 4704, 4705, 4706, 4707, 4708, 4709, 4710, 4711, 4712, 4713, 4714, 4715, 4716, 4717, 4718, 4722, 4723, 4724, 4725, 4726, 4727, 4728, 4729, 4730, 4731, 4732, 4733, 4734, 4735, 4736, 4737, 4738, 4739, 4740, 4741, 4742, 4743, 4744, 4745, 4746, 4747, 4748, 4749, 4750, 4751, 4752, 4763, 4764, 4765, 4766, 4767, 4768, 4769, 4770, 4771, 4772, 4773, 4774, 4775, 4776, 4777, 4778, 4779, 4780, 4781, 4782, 4783, 4784, 4785, 4786, 4787, 4788, 4789, 4790, 4791, 4792, 4793, 4794, 4795, 4796, 4797, 4798, 4802, 4803, 4804, 4805, 4806, 4807, 4808, 4809, 4810, 4811, 4812, 4813, 4814, 4815, 4816, 4817, 4818, 4819, 4820, 4821, 4822, 4823, 4824, 4825, 4826, 4827, 4828, 4829, 4830, 4831, 4832, 4833, 4834, 4845, 4846, 4847, 4848, 4849, 4850, 4851, 4852, 4853, 4854, 4855, 4856, 4857, 4858, 4859, 4860, 4861, 4862, 4863, 4864, 4865, 4866, 4867, 4868, 4869, 4870, 4871, 4872, 4873, 4874, 4875, 4876, 4877, 4878, 4882, 4883, 4884, 4885, 4886, 4887, 4888, 4889, 4890, 4891, 4892, 4893, 4894, 4895, 4896, 4897, 4898, 4899, 4900, 4901, 4902, 4903, 4904, 4905, 4906, 4907, 4908, 4909, 4910, 4911, 4912, 4913, 4914, 4915, 4928, 4929, 4930, 4931, 4932, 4933, 4934, 4935, 4936, 4937, 4938, 4939, 4940, 4941, 4942, 4943, 4944, 4945, 4946, 4947, 4948, 4949, 4950, 4951, 4952, 4953, 4954, 4955, 4956, 4957, 4958, 4962, 4963, 4964, 4965, 4966, 4967, 4968, 4969, 4970, 4971, 4972, 4973, 4974, 4975, 4976, 4977, 4978, 4979, 4980, 4981, 4982, 4983, 4984, 4985, 4986, 4987, 4988, 4989, 4990, 4991, 4992, 4993, 4994, 4995, 4996, 4997, 5010, 5011, 5012, 5013, 5014, 5015, 5016, 5017, 5018, 5019, 5020, 5021, 5022, 5023, 5024, 5025, 5026, 5027, 5028, 5029, 5030, 5031, 5032, 5033, 5034, 5035, 5036, 5037, 5038, 5042, 5043, 5044, 5045, 5046, 5047, 5048, 5049, 5050, 5051, 5052, 5053, 5054, 5055, 5056, 5057, 5058, 5059, 5060, 5061, 5062, 5063, 5064, 5065, 5066, 5067, 5068, 5069, 5070, 5071, 5072, 5073, 5074, 5075, 5076, 5077, 5078, 5079, 5092, 5093, 5094, 5095, 5096, 5097, 5098, 5099, 5100, 5101, 5102, 5103, 5104, 5105, 5106, 5107, 5108, 5109, 5110, 5111, 5112, 5113, 5114, 5115, 5116, 5117, 5118, 5122, 5123, 5124, 5125, 5126, 5127, 5128, 5129, 5130, 5131, 5132, 5133, 5134, 5135, 5136, 5137, 5138, 5139, 5140, 5141, 5142, 5143, 5144, 5145, 5146, 5147, 5148, 5149, 5150, 5151, 5152, 5153, 5154, 5155, 5156, 5157, 5158, 5159, 5160, 5161, 5175, 5176, 5177, 5178, 5179, 5180, 5181, 5182, 5183, 5184, 5185, 5186, 5187, 5188, 5189, 5190, 5191, 5192, 5193, 5194, 5195, 5196, 5197, 5198, 5202, 5203, 5204, 5205, 5206, 5207, 5208, 5209, 5210, 5211, 5212, 5213, 5214, 5215, 5216, 5217, 5218, 5219, 5220, 5221, 5222, 5223, 5224, 5225, 5226, 5227, 5228, 5229, 5230, 5231, 5232, 5233, 5234, 5235, 5236, 5237, 5238, 5239, 5240, 5241, 5242, 5243, 5257, 5258, 5259, 5260, 5261, 5262, 5263, 5264, 5265, 5266, 5267, 5268, 5269, 5270, 5271, 5272, 5273, 5274, 5275, 5276, 5277, 5278, 5282, 5283, 5284, 5285, 5286, 5287, 5288, 5289, 5290, 5291, 5292, 5293, 5294, 5295, 5296, 5297, 5298, 5299, 5300, 5301, 5302, 5303, 5304, 5305, 5306, 5307, 5308, 5309, 5310, 5311, 5312, 5313, 5314, 5315, 5316, 5317, 5318, 5319, 5320, 5321, 5322, 5323, 5324, 5340, 5341, 5342, 5343, 5344, 5345, 5346, 5347, 5348, 5349, 5350, 5351, 5352, 5353, 5354, 5355, 5356, 5357, 5358, 5362, 5363, 5364, 5365, 5366, 5367, 5368, 5369, 5370, 5371, 5372, 5373, 5374, 5375, 5376, 5377, 5378, 5379, 5380, 5381, 5382, 5383, 5384, 5385, 5386, 5387, 5388, 5389, 5390, 5391, 5392, 5393, 5394, 5395, 5396, 5397, 5398, 5399, 5400, 5401, 5402, 5403, 5404, 5405, 5406, 5422, 5423, 5424, 5425, 5426, 5427, 5428, 5429, 5430, 5431, 5432, 5433, 5434, 5435, 5436, 5437, 5438, 5442, 5443, 5444, 5445, 5446, 5447, 5448, 5449, 5450, 5451, 5452, 5453, 5454, 5455, 5456, 5457, 5458, 5459, 5460, 5461, 5462, 5463, 5464, 5465, 5466, 5467, 5468, 5469, 5470, 5471, 5472, 5473, 5474, 5475, 5476, 5477, 5478, 5479, 5480, 5481, 5482, 5483, 5484, 5485, 5486, 5487, 5488, 5504, 5505, 5506, 5507, 5508, 5509, 5510, 5511, 5512, 5513, 5514, 5515, 5516, 5517, 5518, 5522, 5523, 5524, 5525, 5526, 5527, 5528, 5529, 5530, 5531, 5532, 5533, 5534, 5535, 5536, 5537, 5538, 5539, 5540, 5541, 5542, 5543, 5544, 5545, 5546, 5547, 5548, 5549, 5550, 5551, 5552, 5553, 5554, 5555, 5556, 5557, 5558, 5559, 5560, 5561, 5562, 5563, 5564, 5565, 5566, 5567, 5568, 5569, 5570, 5587, 5588, 5589, 5590, 5591, 5592, 5593, 5594, 5595, 5596, 5597, 5603, 5604, 5605, 5606, 5607, 5608, 5609, 5610, 5611, 5612, 5613, 5614, 5615, 5616, 5617, 5618, 5619, 5620, 5621, 5622, 5623, 5624, 5625, 5626, 5627, 5628, 5629, 5630, 5631, 5632, 5633, 5634, 5635, 5636, 5637, 5638, 5639, 5640, 5641, 5642, 5643, 5644, 5645, 5646, 5647, 5648, 5649, 5650, 5651, 5669, 5670, 5671, 5672, 5673, 5674, 5675, 5676, 5677, 5683, 5684, 5685, 5686, 5687, 5688, 5689, 5690, 5691, 5692, 5693, 5694, 5695, 5696, 5697, 5698, 5699, 5700, 5701, 5702, 5703, 5704, 5705, 5706, 5707, 5708, 5709, 5710, 5711, 5712, 5713, 5714, 5715, 5716, 5717, 5718, 5719, 5720, 5721, 5722, 5723, 5724, 5725, 5726, 5727, 5728, 5729, 5730, 5731, 5732, 5733, 5751, 5752, 5753, 5754, 5755, 5756, 5757, 5763, 5764, 5765, 5766, 5767, 5768, 5769, 5770, 5771, 5772, 5773, 5774, 5775, 5776, 5777, 5778, 5779, 5780, 5781, 5782, 5783, 5784, 5785, 5786, 5787, 5788, 5789, 5790, 5791, 5792, 5793, 5794, 5795, 5796, 5797, 5798, 5799, 5800, 5801, 5802, 5803, 5804, 5805, 5806, 5807, 5808, 5809, 5810, 5811, 5812, 5813, 5814, 5815, 5832, 5833, 5834, 5835, 5836, 5837, 5843, 5844, 5845, 5846, 5847, 5848, 5849, 5850, 5851, 5852, 5853, 5854, 5855, 5856, 5857, 5858, 5859, 5860, 5861, 5862, 5863, 5864, 5865, 5866, 5867, 5868, 5869, 5870, 5871, 5872, 5873, 5874, 5875, 5876, 5877, 5878, 5879, 5880, 5881, 5882, 5883, 5884, 5885, 5886, 5887, 5888, 5889, 5890, 5891, 5892, 5893, 5894, 5895, 5896, 5897, 5913, 5914, 5915, 5916, 5917, 5923, 5924, 5925, 5926, 5927, 5928, 5929, 5930, 5931, 5932, 5933, 5934, 5935, 5936, 5937, 5938, 5939, 5940, 5941, 5942, 5943, 5944, 5945, 5946, 5947, 5948, 5949, 5950, 5951, 5952, 5953, 5954, 5955, 5956, 5957, 5958, 5959, 5960, 5961, 5962, 5963, 5964, 5965, 5966, 5967, 5968, 5969, 5970, 5971, 5972, 5973, 5974, 5975, 5976, 5977, 5978, 5979, 5994, 5995, 5996, 5997, 6003, 6004, 6005, 6006, 6007, 6008, 6009, 6010, 6011, 6012, 6013, 6014, 6015, 6016, 6017, 6018, 6019, 6020, 6021, 6022, 6023, 6024, 6025, 6026, 6027, 6028, 6029, 6030, 6031, 6032, 6033, 6034, 6035, 6036, 6037, 6038, 6039, 6040, 6041, 6042, 6043, 6044, 6045, 6046, 6047, 6048, 6049, 6050, 6051, 6052, 6053, 6054, 6055, 6056, 6057, 6058, 6059, 6060, 6075, 6076, 6077, 6083, 6084, 6085, 6086, 6087, 6088, 6089, 6090, 6091, 6092, 6093, 6094, 6095, 6096, 6097, 6098, 6099, 6100, 6101, 6102, 6103, 6104, 6105, 6106, 6107, 6108, 6109, 6110, 6111, 6112, 6113, 6114, 6115, 6116, 6117, 6118, 6119, 6120, 6121, 6122, 6123, 6124, 6125, 6126, 6127, 6128, 6129, 6130, 6131, 6132, 6133, 6134, 6135, 6136, 6137, 6138, 6139, 6140, 6141, 6142, 6156, 6157, 6163, 6164, 6165, 6166, 6167, 6168, 6169, 6170, 6171, 6172, 6173, 6174, 6175, 6176, 6177, 6178, 6179, 6180, 6181, 6182, 6183, 6184, 6185, 6186, 6187, 6188, 6189, 6190, 6191, 6192, 6193, 6194, 6195, 6196, 6197, 6198, 6199, 6200, 6201, 6202, 6203, 6204, 6205, 6206, 6207, 6208, 6209, 6210, 6211, 6212, 6213, 6214, 6215, 6216, 6217, 6218, 6219, 6220, 6221, 6222, 6223, 6224, 6237, 6243, 6244, 6245, 6246, 6247, 6248, 6249, 6250, 6251, 6252, 6253, 6254, 6255, 6256, 6257, 6258, 6259, 6260, 6261, 6262, 6263, 6264, 6265, 6266, 6267, 6268, 6269, 6270, 6271, 6272, 6273, 6274, 6275, 6276, 6277, 6278, 6279, 6280, 6281, 6282, 6283, 6284, 6285, 6286, 6287, 6288, 6289, 6290, 6291, 6292, 6293, 6294, 6295, 6296, 6297, 6298, 6299, 6300, 6301, 6302, 6303, 6304, 6305, 6306, 6323, 6324, 6325, 6326, 6327, 6328, 6329, 6330, 6331, 6332, 6333, 6334, 6335, 6336, 6337, 6338, 6339, 6340, 6341, 6342, 6343, 6344, 6345, 6346, 6347, 6348, 6349, 6350, 6351, 6352, 6353, 6354, 6355, 6356, 6357, 6358, 6359, 6360, 6361, 6362, 6363, 6364, 6365, 6366, 6367, 6368, 6369, 6370, 6371, 6372, 6373, 6374, 6375, 6376, 6377, 6378, 6379, 6380, 6381, 6382, 6383, 6384, 6385, 6386, 6387, 6388, 6403, 6404, 6405, 6406, 6407, 6408, 6409, 6410, 6411, 6412, 6413, 6414, 6415, 6416, 6417, 6418, 6419, 6420, 6421, 6422, 6423, 6424, 6425, 6426, 6427, 6428, 6429, 6430, 6431, 6432, 6433, 6434, 6435, 6436, 6437, 6438, 6439, 6440, 6441, 6442, 6443, 6444, 6445, 6446, 6447, 6448, 6449, 6450, 6451, 6452, 6453, 6454, 6455, 6456, 6457, 6458, 6459, 6460, 6461, 6462, 6463, 6464, 6465, 6466, 6467, 6468, 6469, 6483, 6484, 6485, 6486, 6487, 6488, 6489, 6490, 6491, 6492, 6493, 6494, 6495, 6496, 6497, 6498, 6499, 6500, 6501, 6502, 6503, 6504, 6505, 6506, 6507, 6508, 6509, 6510, 6511, 6512, 6513, 6514, 6515, 6516, 6517, 6518, 6519, 6520, 6521, 6522, 6523, 6524, 6525, 6526, 6527, 6528, 6529, 6530, 6531, 6532, 6533, 6534, 6535, 6536, 6537, 6538, 6539, 6540, 6541, 6542, 6543, 6544, 6545, 6546, 6547, 6548, 6549, 6550, 6551]\n",
      "val ids:  []\n",
      "test ids:  [0, 1, 2, 3, 4, 5, 6, 7, 8, 78, 79, 80, 81, 82, 83, 84, 85, 86, 87, 88, 89, 90, 158, 159, 160, 161, 162, 163, 164, 165, 166, 167, 168, 169, 170, 171, 238, 239, 240, 241, 242, 243, 244, 245, 246, 247, 248, 249, 250, 251, 252, 253, 318, 319, 320, 321, 322, 324, 325, 326, 327, 328, 329, 330, 331, 332, 333, 334, 335, 398, 399, 400, 401, 402, 405, 406, 407, 408, 409, 410, 411, 412, 413, 414, 415, 416, 417, 478, 479, 480, 481, 482, 486, 487, 488, 489, 490, 491, 492, 493, 494, 495, 496, 497, 498, 499, 558, 559, 560, 561, 562, 567, 568, 569, 570, 571, 572, 573, 574, 575, 576, 577, 578, 579, 580, 638, 639, 640, 641, 642, 648, 649, 650, 651, 652, 653, 654, 655, 656, 657, 658, 659, 660, 661, 662, 718, 719, 720, 721, 722, 729, 730, 731, 732, 733, 734, 735, 736, 737, 738, 739, 740, 741, 742, 743, 744, 798, 799, 800, 801, 802, 810, 811, 812, 813, 814, 815, 816, 817, 818, 819, 820, 821, 822, 823, 824, 825, 826, 878, 879, 880, 881, 882, 892, 893, 894, 895, 896, 897, 898, 899, 900, 901, 902, 903, 904, 905, 906, 907, 908, 958, 959, 960, 961, 962, 974, 975, 976, 977, 978, 979, 980, 981, 982, 983, 984, 985, 986, 987, 988, 989, 1039, 1040, 1041, 1057, 1058, 1059, 1060, 1061, 1062, 1063, 1064, 1065, 1066, 1067, 1068, 1069, 1070, 1071, 1119, 1120, 1121, 1139, 1140, 1141, 1142, 1143, 1144, 1145, 1146, 1147, 1148, 1149, 1150, 1151, 1152, 1153, 1199, 1200, 1201, 1221, 1222, 1223, 1224, 1225, 1226, 1227, 1228, 1229, 1230, 1231, 1232, 1233, 1234, 1235, 1279, 1280, 1281, 1304, 1305, 1306, 1307, 1308, 1309, 1310, 1311, 1312, 1313, 1314, 1315, 1316, 1359, 1360, 1361, 1386, 1387, 1388, 1389, 1390, 1391, 1392, 1393, 1394, 1395, 1396, 1397, 1398, 1439, 1440, 1441, 1469, 1470, 1471, 1472, 1473, 1474, 1475, 1476, 1477, 1478, 1479, 1480, 1519, 1520, 1521, 1551, 1552, 1553, 1554, 1555, 1556, 1557, 1558, 1559, 1560, 1561, 1562, 1599, 1600, 1601, 1633, 1634, 1635, 1636, 1637, 1638, 1639, 1640, 1641, 1642, 1643, 1644, 1679, 1680, 1681, 1716, 1717, 1718, 1719, 1720, 1721, 1722, 1723, 1724, 1725, 1759, 1760, 1761, 1798, 1799, 1800, 1801, 1802, 1803, 1804, 1805, 1806, 1807, 1839, 1840, 1841, 1880, 1881, 1882, 1883, 1884, 1885, 1886, 1887, 1888, 1889, 1919, 1920, 1921, 1963, 1964, 1965, 1966, 1967, 1968, 1969, 1970, 1971, 1999, 2000, 2001, 2045, 2046, 2047, 2048, 2049, 2050, 2051, 2052, 2053, 2079, 2080, 2081, 2127, 2128, 2129, 2130, 2131, 2132, 2133, 2134, 2160, 2210, 2211, 2212, 2213, 2214, 2215, 2216, 2240, 2292, 2293, 2294, 2295, 2296, 2297, 2298, 2320, 2375, 2376, 2377, 2378, 2379, 2380, 2400, 2457, 2458, 2459, 2460, 2461, 2462, 2480, 2539, 2540, 2541, 2542, 2543, 2560, 2622, 2623, 2624, 2625, 2640, 2704, 2705, 2706, 2707, 2720, 2786, 2787, 2788, 2789, 2800, 2869, 2870, 2871, 2880, 2951, 2952, 2960, 3033, 3034, 3040, 3116, 3120, 3198, 3200, 3280, 3360, 3362, 3440, 3444, 3520, 3526, 3527, 3600, 3608, 3609, 3680, 3689, 3690, 3691, 3760, 3771, 3772, 3773, 3774, 3840, 3853, 3854, 3855, 3856, 3920, 3935, 3936, 3937, 3938, 4000, 4017, 4018, 4019, 4020, 4021, 4080, 4098, 4099, 4100, 4101, 4102, 4103, 4160, 4180, 4181, 4182, 4183, 4184, 4185, 4240, 4262, 4263, 4264, 4265, 4266, 4267, 4268, 4320, 4344, 4345, 4346, 4347, 4348, 4349, 4350, 4400, 4426, 4427, 4428, 4429, 4430, 4431, 4432, 4433, 4479, 4480, 4481, 4507, 4508, 4509, 4510, 4511, 4512, 4513, 4514, 4515, 4559, 4560, 4561, 4589, 4590, 4591, 4592, 4593, 4594, 4595, 4596, 4597, 4639, 4640, 4641, 4671, 4672, 4673, 4674, 4675, 4676, 4677, 4678, 4679, 4680, 4719, 4720, 4721, 4753, 4754, 4755, 4756, 4757, 4758, 4759, 4760, 4761, 4762, 4799, 4800, 4801, 4835, 4836, 4837, 4838, 4839, 4840, 4841, 4842, 4843, 4844, 4879, 4880, 4881, 4916, 4917, 4918, 4919, 4920, 4921, 4922, 4923, 4924, 4925, 4926, 4927, 4959, 4960, 4961, 4998, 4999, 5000, 5001, 5002, 5003, 5004, 5005, 5006, 5007, 5008, 5009, 5039, 5040, 5041, 5080, 5081, 5082, 5083, 5084, 5085, 5086, 5087, 5088, 5089, 5090, 5091, 5119, 5120, 5121, 5162, 5163, 5164, 5165, 5166, 5167, 5168, 5169, 5170, 5171, 5172, 5173, 5174, 5199, 5200, 5201, 5244, 5245, 5246, 5247, 5248, 5249, 5250, 5251, 5252, 5253, 5254, 5255, 5256, 5279, 5280, 5281, 5325, 5326, 5327, 5328, 5329, 5330, 5331, 5332, 5333, 5334, 5335, 5336, 5337, 5338, 5339, 5359, 5360, 5361, 5407, 5408, 5409, 5410, 5411, 5412, 5413, 5414, 5415, 5416, 5417, 5418, 5419, 5420, 5421, 5439, 5440, 5441, 5489, 5490, 5491, 5492, 5493, 5494, 5495, 5496, 5497, 5498, 5499, 5500, 5501, 5502, 5503, 5519, 5520, 5521, 5571, 5572, 5573, 5574, 5575, 5576, 5577, 5578, 5579, 5580, 5581, 5582, 5583, 5584, 5585, 5586, 5598, 5599, 5600, 5601, 5602, 5652, 5653, 5654, 5655, 5656, 5657, 5658, 5659, 5660, 5661, 5662, 5663, 5664, 5665, 5666, 5667, 5668, 5678, 5679, 5680, 5681, 5682, 5734, 5735, 5736, 5737, 5738, 5739, 5740, 5741, 5742, 5743, 5744, 5745, 5746, 5747, 5748, 5749, 5750, 5758, 5759, 5760, 5761, 5762, 5816, 5817, 5818, 5819, 5820, 5821, 5822, 5823, 5824, 5825, 5826, 5827, 5828, 5829, 5830, 5831, 5838, 5839, 5840, 5841, 5842, 5898, 5899, 5900, 5901, 5902, 5903, 5904, 5905, 5906, 5907, 5908, 5909, 5910, 5911, 5912, 5918, 5919, 5920, 5921, 5922, 5980, 5981, 5982, 5983, 5984, 5985, 5986, 5987, 5988, 5989, 5990, 5991, 5992, 5993, 5998, 5999, 6000, 6001, 6002, 6061, 6062, 6063, 6064, 6065, 6066, 6067, 6068, 6069, 6070, 6071, 6072, 6073, 6074, 6078, 6079, 6080, 6081, 6082, 6143, 6144, 6145, 6146, 6147, 6148, 6149, 6150, 6151, 6152, 6153, 6154, 6155, 6158, 6159, 6160, 6161, 6162, 6225, 6226, 6227, 6228, 6229, 6230, 6231, 6232, 6233, 6234, 6235, 6236, 6238, 6239, 6240, 6241, 6242, 6307, 6308, 6309, 6310, 6311, 6312, 6313, 6314, 6315, 6316, 6317, 6318, 6319, 6320, 6321, 6322, 6389, 6390, 6391, 6392, 6393, 6394, 6395, 6396, 6397, 6398, 6399, 6400, 6401, 6402, 6470, 6471, 6472, 6473, 6474, 6475, 6476, 6477, 6478, 6479, 6480, 6481, 6482, 6552, 6553, 6554, 6555, 6556, 6557, 6558, 6559, 6560]\n",
      "CPU times: user 212 ms, sys: 15.8 ms, total: 228 ms\n",
      "Wall time: 229 ms\n"
     ]
    }
   ],
   "source": [
    "%%time\n",
    "n_total = len(simulation.dataframe)\n",
    "n_train = len(simulation.dataframe[simulation.dataframe.type_of == \"train\"])\n",
    "n_val = len(simulation.dataframe[simulation.dataframe.type_of == \"val\"])\n",
    "n_test = len(simulation.dataframe[simulation.dataframe.type_of == \"test\"])\n",
    "n_train_hamiltonians = len(simulation.train_ids)\n",
    "n_val_hamiltonians = len(simulation.val_ids)\n",
    "n_test_hamiltonians = len(simulation.test_ids)\n",
    "n_total_hamiltonians = n_train_hamiltonians + n_val_hamiltonians + n_test_hamiltonians\n",
    "\n",
    "print(\"% train: \", n_train/n_total)\n",
    "print(\"% val: \",  n_val/n_total)\n",
    "print(\"% test: \", n_test/n_total)\n",
    "print(\"% train + val + test: \", (n_train+n_val+n_test)/n_total)\n",
    "print(\"\\n\")\n",
    "print(\"number of train hamiltonians: \", n_train_hamiltonians)\n",
    "print(\"number of val hamiltonians: \", n_val_hamiltonians)\n",
    "print(\"number of test hamiltonians: \", n_test_hamiltonians)\n",
    "print(\"total number of hamiltonians: \", n_total_hamiltonians)\n",
    "print(\"\\n\")\n",
    "print(\"train ids: \", simulation.train_ids)\n",
    "print(\"val ids: \", simulation.val_ids)\n",
    "print(\"test ids: \", simulation.test_ids)"
   ]
  },
  {
   "cell_type": "markdown",
   "metadata": {
    "papermill": {
     "duration": 0.017138,
     "end_time": "2020-07-09T17:15:26.819966",
     "exception": false,
     "start_time": "2020-07-09T17:15:26.802828",
     "status": "completed"
    },
    "tags": []
   },
   "source": [
    "## Running a simulation"
   ]
  },
  {
   "cell_type": "code",
   "execution_count": 23,
   "metadata": {
    "execution": {
     "iopub.execute_input": "2020-07-09T17:15:26.859158Z",
     "iopub.status.busy": "2020-07-09T17:15:26.858643Z",
     "iopub.status.idle": "2020-07-09T17:19:01.527136Z",
     "shell.execute_reply": "2020-07-09T17:19:01.527438Z"
    },
    "papermill": {
     "duration": 214.689311,
     "end_time": "2020-07-09T17:19:01.527502",
     "exception": false,
     "start_time": "2020-07-09T17:15:26.838191",
     "status": "completed"
    },
    "tags": []
   },
   "outputs": [
    {
     "name": "stderr",
     "output_type": "stream",
     "text": [
      "\r",
      "running experiments:   0%|          | 0/100 [00:00<?, ?it/s]"
     ]
    },
    {
     "name": "stderr",
     "output_type": "stream",
     "text": [
      "\r",
      "running experiments:   1%|          | 1/100 [00:02<03:37,  2.20s/it]"
     ]
    },
    {
     "name": "stderr",
     "output_type": "stream",
     "text": [
      "\r",
      "running experiments:   2%|▏         | 2/100 [00:04<03:36,  2.21s/it]"
     ]
    },
    {
     "name": "stderr",
     "output_type": "stream",
     "text": [
      "\r",
      "running experiments:   3%|▎         | 3/100 [00:06<03:32,  2.19s/it]"
     ]
    },
    {
     "name": "stderr",
     "output_type": "stream",
     "text": [
      "\r",
      "running experiments:   4%|▍         | 4/100 [00:08<03:28,  2.17s/it]"
     ]
    },
    {
     "name": "stderr",
     "output_type": "stream",
     "text": [
      "\r",
      "running experiments:   5%|▌         | 5/100 [00:10<03:28,  2.19s/it]"
     ]
    },
    {
     "name": "stderr",
     "output_type": "stream",
     "text": [
      "\r",
      "running experiments:   6%|▌         | 6/100 [00:13<03:27,  2.21s/it]"
     ]
    },
    {
     "name": "stderr",
     "output_type": "stream",
     "text": [
      "\r",
      "running experiments:   7%|▋         | 7/100 [00:15<03:24,  2.20s/it]"
     ]
    },
    {
     "name": "stderr",
     "output_type": "stream",
     "text": [
      "\r",
      "running experiments:   8%|▊         | 8/100 [00:17<03:20,  2.18s/it]"
     ]
    },
    {
     "name": "stderr",
     "output_type": "stream",
     "text": [
      "\r",
      "running experiments:   9%|▉         | 9/100 [00:19<03:18,  2.18s/it]"
     ]
    },
    {
     "name": "stderr",
     "output_type": "stream",
     "text": [
      "\r",
      "running experiments:  10%|█         | 10/100 [00:21<03:13,  2.15s/it]"
     ]
    },
    {
     "name": "stderr",
     "output_type": "stream",
     "text": [
      "\r",
      "running experiments:  11%|█         | 11/100 [00:23<03:13,  2.17s/it]"
     ]
    },
    {
     "name": "stderr",
     "output_type": "stream",
     "text": [
      "\r",
      "running experiments:  12%|█▏        | 12/100 [00:26<03:12,  2.19s/it]"
     ]
    },
    {
     "name": "stderr",
     "output_type": "stream",
     "text": [
      "\r",
      "running experiments:  13%|█▎        | 13/100 [00:28<03:10,  2.19s/it]"
     ]
    },
    {
     "name": "stderr",
     "output_type": "stream",
     "text": [
      "\r",
      "running experiments:  14%|█▍        | 14/100 [00:30<03:10,  2.22s/it]"
     ]
    },
    {
     "name": "stderr",
     "output_type": "stream",
     "text": [
      "\r",
      "running experiments:  15%|█▌        | 15/100 [00:32<03:06,  2.20s/it]"
     ]
    },
    {
     "name": "stderr",
     "output_type": "stream",
     "text": [
      "\r",
      "running experiments:  16%|█▌        | 16/100 [00:35<03:08,  2.24s/it]"
     ]
    },
    {
     "name": "stderr",
     "output_type": "stream",
     "text": [
      "\r",
      "running experiments:  17%|█▋        | 17/100 [00:37<03:05,  2.24s/it]"
     ]
    },
    {
     "name": "stderr",
     "output_type": "stream",
     "text": [
      "\r",
      "running experiments:  18%|█▊        | 18/100 [00:39<03:00,  2.20s/it]"
     ]
    },
    {
     "name": "stderr",
     "output_type": "stream",
     "text": [
      "\r",
      "running experiments:  19%|█▉        | 19/100 [00:41<02:56,  2.18s/it]"
     ]
    },
    {
     "name": "stderr",
     "output_type": "stream",
     "text": [
      "\r",
      "running experiments:  20%|██        | 20/100 [00:43<02:52,  2.15s/it]"
     ]
    },
    {
     "name": "stderr",
     "output_type": "stream",
     "text": [
      "\r",
      "running experiments:  21%|██        | 21/100 [00:45<02:46,  2.11s/it]"
     ]
    },
    {
     "name": "stderr",
     "output_type": "stream",
     "text": [
      "\r",
      "running experiments:  22%|██▏       | 22/100 [00:47<02:45,  2.12s/it]"
     ]
    },
    {
     "name": "stderr",
     "output_type": "stream",
     "text": [
      "\r",
      "running experiments:  23%|██▎       | 23/100 [00:50<02:42,  2.11s/it]"
     ]
    },
    {
     "name": "stderr",
     "output_type": "stream",
     "text": [
      "\r",
      "running experiments:  24%|██▍       | 24/100 [00:52<02:42,  2.14s/it]"
     ]
    },
    {
     "name": "stderr",
     "output_type": "stream",
     "text": [
      "\r",
      "running experiments:  25%|██▌       | 25/100 [00:54<02:41,  2.15s/it]"
     ]
    },
    {
     "name": "stderr",
     "output_type": "stream",
     "text": [
      "\r",
      "running experiments:  26%|██▌       | 26/100 [00:56<02:38,  2.15s/it]"
     ]
    },
    {
     "name": "stderr",
     "output_type": "stream",
     "text": [
      "\r",
      "running experiments:  27%|██▋       | 27/100 [00:58<02:38,  2.17s/it]"
     ]
    },
    {
     "name": "stderr",
     "output_type": "stream",
     "text": [
      "\r",
      "running experiments:  28%|██▊       | 28/100 [01:00<02:36,  2.18s/it]"
     ]
    },
    {
     "name": "stderr",
     "output_type": "stream",
     "text": [
      "\r",
      "running experiments:  29%|██▉       | 29/100 [01:03<02:32,  2.15s/it]"
     ]
    },
    {
     "name": "stderr",
     "output_type": "stream",
     "text": [
      "\r",
      "running experiments:  30%|███       | 30/100 [01:05<02:31,  2.16s/it]"
     ]
    },
    {
     "name": "stderr",
     "output_type": "stream",
     "text": [
      "\r",
      "running experiments:  31%|███       | 31/100 [01:07<02:27,  2.14s/it]"
     ]
    },
    {
     "name": "stderr",
     "output_type": "stream",
     "text": [
      "\r",
      "running experiments:  32%|███▏      | 32/100 [01:09<02:26,  2.15s/it]"
     ]
    },
    {
     "name": "stderr",
     "output_type": "stream",
     "text": [
      "\r",
      "running experiments:  33%|███▎      | 33/100 [01:11<02:22,  2.13s/it]"
     ]
    },
    {
     "name": "stderr",
     "output_type": "stream",
     "text": [
      "\r",
      "running experiments:  34%|███▍      | 34/100 [01:13<02:19,  2.12s/it]"
     ]
    },
    {
     "name": "stderr",
     "output_type": "stream",
     "text": [
      "\r",
      "running experiments:  35%|███▌      | 35/100 [01:15<02:18,  2.14s/it]"
     ]
    },
    {
     "name": "stderr",
     "output_type": "stream",
     "text": [
      "\r",
      "running experiments:  36%|███▌      | 36/100 [01:18<02:17,  2.15s/it]"
     ]
    },
    {
     "name": "stderr",
     "output_type": "stream",
     "text": [
      "\r",
      "running experiments:  37%|███▋      | 37/100 [01:20<02:12,  2.11s/it]"
     ]
    },
    {
     "name": "stderr",
     "output_type": "stream",
     "text": [
      "\r",
      "running experiments:  38%|███▊      | 38/100 [01:22<02:13,  2.15s/it]"
     ]
    },
    {
     "name": "stderr",
     "output_type": "stream",
     "text": [
      "\r",
      "running experiments:  39%|███▉      | 39/100 [01:24<02:09,  2.12s/it]"
     ]
    },
    {
     "name": "stderr",
     "output_type": "stream",
     "text": [
      "\r",
      "running experiments:  40%|████      | 40/100 [01:26<02:07,  2.13s/it]"
     ]
    },
    {
     "name": "stderr",
     "output_type": "stream",
     "text": [
      "\r",
      "running experiments:  41%|████      | 41/100 [01:28<02:07,  2.15s/it]"
     ]
    },
    {
     "name": "stderr",
     "output_type": "stream",
     "text": [
      "\r",
      "running experiments:  42%|████▏     | 42/100 [01:30<02:03,  2.12s/it]"
     ]
    },
    {
     "name": "stderr",
     "output_type": "stream",
     "text": [
      "\r",
      "running experiments:  43%|████▎     | 43/100 [01:32<02:00,  2.12s/it]"
     ]
    },
    {
     "name": "stderr",
     "output_type": "stream",
     "text": [
      "\r",
      "running experiments:  44%|████▍     | 44/100 [01:35<01:59,  2.13s/it]"
     ]
    },
    {
     "name": "stderr",
     "output_type": "stream",
     "text": [
      "\r",
      "running experiments:  45%|████▌     | 45/100 [01:37<01:56,  2.13s/it]"
     ]
    },
    {
     "name": "stderr",
     "output_type": "stream",
     "text": [
      "\r",
      "running experiments:  46%|████▌     | 46/100 [01:39<01:55,  2.14s/it]"
     ]
    },
    {
     "name": "stderr",
     "output_type": "stream",
     "text": [
      "\r",
      "running experiments:  47%|████▋     | 47/100 [01:41<01:54,  2.17s/it]"
     ]
    },
    {
     "name": "stderr",
     "output_type": "stream",
     "text": [
      "\r",
      "running experiments:  48%|████▊     | 48/100 [01:43<01:50,  2.12s/it]"
     ]
    },
    {
     "name": "stderr",
     "output_type": "stream",
     "text": [
      "\r",
      "running experiments:  49%|████▉     | 49/100 [01:45<01:46,  2.09s/it]"
     ]
    },
    {
     "name": "stderr",
     "output_type": "stream",
     "text": [
      "\r",
      "running experiments:  50%|█████     | 50/100 [01:47<01:45,  2.10s/it]"
     ]
    },
    {
     "name": "stderr",
     "output_type": "stream",
     "text": [
      "\r",
      "running experiments:  51%|█████     | 51/100 [01:49<01:44,  2.13s/it]"
     ]
    },
    {
     "name": "stderr",
     "output_type": "stream",
     "text": [
      "\r",
      "running experiments:  52%|█████▏    | 52/100 [01:52<01:42,  2.14s/it]"
     ]
    },
    {
     "name": "stderr",
     "output_type": "stream",
     "text": [
      "\r",
      "running experiments:  53%|█████▎    | 53/100 [01:54<01:39,  2.11s/it]"
     ]
    },
    {
     "name": "stderr",
     "output_type": "stream",
     "text": [
      "\r",
      "running experiments:  54%|█████▍    | 54/100 [01:56<01:36,  2.10s/it]"
     ]
    },
    {
     "name": "stderr",
     "output_type": "stream",
     "text": [
      "\r",
      "running experiments:  55%|█████▌    | 55/100 [01:58<01:34,  2.09s/it]"
     ]
    },
    {
     "name": "stderr",
     "output_type": "stream",
     "text": [
      "\r",
      "running experiments:  56%|█████▌    | 56/100 [02:00<01:33,  2.13s/it]"
     ]
    },
    {
     "name": "stderr",
     "output_type": "stream",
     "text": [
      "\r",
      "running experiments:  57%|█████▋    | 57/100 [02:02<01:31,  2.13s/it]"
     ]
    },
    {
     "name": "stderr",
     "output_type": "stream",
     "text": [
      "\r",
      "running experiments:  58%|█████▊    | 58/100 [02:04<01:29,  2.14s/it]"
     ]
    },
    {
     "name": "stderr",
     "output_type": "stream",
     "text": [
      "\r",
      "running experiments:  59%|█████▉    | 59/100 [02:06<01:27,  2.13s/it]"
     ]
    },
    {
     "name": "stderr",
     "output_type": "stream",
     "text": [
      "\r",
      "running experiments:  60%|██████    | 60/100 [02:09<01:26,  2.16s/it]"
     ]
    },
    {
     "name": "stderr",
     "output_type": "stream",
     "text": [
      "\r",
      "running experiments:  61%|██████    | 61/100 [02:11<01:22,  2.11s/it]"
     ]
    },
    {
     "name": "stderr",
     "output_type": "stream",
     "text": [
      "\r",
      "running experiments:  62%|██████▏   | 62/100 [02:13<01:19,  2.10s/it]"
     ]
    },
    {
     "name": "stderr",
     "output_type": "stream",
     "text": [
      "\r",
      "running experiments:  63%|██████▎   | 63/100 [02:15<01:18,  2.12s/it]"
     ]
    },
    {
     "name": "stderr",
     "output_type": "stream",
     "text": [
      "\r",
      "running experiments:  64%|██████▍   | 64/100 [02:17<01:15,  2.09s/it]"
     ]
    },
    {
     "name": "stderr",
     "output_type": "stream",
     "text": [
      "\r",
      "running experiments:  65%|██████▌   | 65/100 [02:19<01:13,  2.09s/it]"
     ]
    },
    {
     "name": "stderr",
     "output_type": "stream",
     "text": [
      "\r",
      "running experiments:  66%|██████▌   | 66/100 [02:21<01:11,  2.10s/it]"
     ]
    },
    {
     "name": "stderr",
     "output_type": "stream",
     "text": [
      "\r",
      "running experiments:  67%|██████▋   | 67/100 [02:23<01:10,  2.15s/it]"
     ]
    },
    {
     "name": "stderr",
     "output_type": "stream",
     "text": [
      "\r",
      "running experiments:  68%|██████▊   | 68/100 [02:26<01:09,  2.17s/it]"
     ]
    },
    {
     "name": "stderr",
     "output_type": "stream",
     "text": [
      "\r",
      "running experiments:  69%|██████▉   | 69/100 [02:28<01:06,  2.14s/it]"
     ]
    },
    {
     "name": "stderr",
     "output_type": "stream",
     "text": [
      "\r",
      "running experiments:  70%|███████   | 70/100 [02:30<01:04,  2.16s/it]"
     ]
    },
    {
     "name": "stderr",
     "output_type": "stream",
     "text": [
      "\r",
      "running experiments:  71%|███████   | 71/100 [02:32<01:02,  2.16s/it]"
     ]
    },
    {
     "name": "stderr",
     "output_type": "stream",
     "text": [
      "\r",
      "running experiments:  72%|███████▏  | 72/100 [02:34<01:00,  2.16s/it]"
     ]
    },
    {
     "name": "stderr",
     "output_type": "stream",
     "text": [
      "\r",
      "running experiments:  73%|███████▎  | 73/100 [02:36<00:57,  2.14s/it]"
     ]
    },
    {
     "name": "stderr",
     "output_type": "stream",
     "text": [
      "\r",
      "running experiments:  74%|███████▍  | 74/100 [02:38<00:56,  2.16s/it]"
     ]
    },
    {
     "name": "stderr",
     "output_type": "stream",
     "text": [
      "\r",
      "running experiments:  75%|███████▌  | 75/100 [02:41<00:53,  2.16s/it]"
     ]
    },
    {
     "name": "stderr",
     "output_type": "stream",
     "text": [
      "\r",
      "running experiments:  76%|███████▌  | 76/100 [02:43<00:51,  2.16s/it]"
     ]
    },
    {
     "name": "stderr",
     "output_type": "stream",
     "text": [
      "\r",
      "running experiments:  77%|███████▋  | 77/100 [02:45<00:48,  2.13s/it]"
     ]
    },
    {
     "name": "stderr",
     "output_type": "stream",
     "text": [
      "\r",
      "running experiments:  78%|███████▊  | 78/100 [02:47<00:47,  2.14s/it]"
     ]
    },
    {
     "name": "stderr",
     "output_type": "stream",
     "text": [
      "\r",
      "running experiments:  79%|███████▉  | 79/100 [02:49<00:44,  2.13s/it]"
     ]
    },
    {
     "name": "stderr",
     "output_type": "stream",
     "text": [
      "\r",
      "running experiments:  80%|████████  | 80/100 [02:51<00:42,  2.14s/it]"
     ]
    },
    {
     "name": "stderr",
     "output_type": "stream",
     "text": [
      "\r",
      "running experiments:  81%|████████  | 81/100 [02:54<00:41,  2.18s/it]"
     ]
    },
    {
     "name": "stderr",
     "output_type": "stream",
     "text": [
      "\r",
      "running experiments:  82%|████████▏ | 82/100 [02:56<00:39,  2.20s/it]"
     ]
    },
    {
     "name": "stderr",
     "output_type": "stream",
     "text": [
      "\r",
      "running experiments:  83%|████████▎ | 83/100 [02:58<00:37,  2.19s/it]"
     ]
    },
    {
     "name": "stderr",
     "output_type": "stream",
     "text": [
      "\r",
      "running experiments:  84%|████████▍ | 84/100 [03:00<00:34,  2.17s/it]"
     ]
    },
    {
     "name": "stderr",
     "output_type": "stream",
     "text": [
      "\r",
      "running experiments:  85%|████████▌ | 85/100 [03:02<00:32,  2.17s/it]"
     ]
    },
    {
     "name": "stderr",
     "output_type": "stream",
     "text": [
      "\r",
      "running experiments:  86%|████████▌ | 86/100 [03:04<00:30,  2.18s/it]"
     ]
    },
    {
     "name": "stderr",
     "output_type": "stream",
     "text": [
      "\r",
      "running experiments:  87%|████████▋ | 87/100 [03:07<00:28,  2.16s/it]"
     ]
    },
    {
     "name": "stderr",
     "output_type": "stream",
     "text": [
      "\r",
      "running experiments:  88%|████████▊ | 88/100 [03:09<00:25,  2.16s/it]"
     ]
    },
    {
     "name": "stderr",
     "output_type": "stream",
     "text": [
      "\r",
      "running experiments:  89%|████████▉ | 89/100 [03:11<00:23,  2.15s/it]"
     ]
    },
    {
     "name": "stderr",
     "output_type": "stream",
     "text": [
      "\r",
      "running experiments:  90%|█████████ | 90/100 [03:13<00:21,  2.14s/it]"
     ]
    },
    {
     "name": "stderr",
     "output_type": "stream",
     "text": [
      "\r",
      "running experiments:  91%|█████████ | 91/100 [03:15<00:19,  2.15s/it]"
     ]
    },
    {
     "name": "stderr",
     "output_type": "stream",
     "text": [
      "\r",
      "running experiments:  92%|█████████▏| 92/100 [03:17<00:17,  2.16s/it]"
     ]
    },
    {
     "name": "stderr",
     "output_type": "stream",
     "text": [
      "\r",
      "running experiments:  93%|█████████▎| 93/100 [03:19<00:14,  2.12s/it]"
     ]
    },
    {
     "name": "stderr",
     "output_type": "stream",
     "text": [
      "\r",
      "running experiments:  94%|█████████▍| 94/100 [03:21<00:12,  2.12s/it]"
     ]
    },
    {
     "name": "stderr",
     "output_type": "stream",
     "text": [
      "\r",
      "running experiments:  95%|█████████▌| 95/100 [03:23<00:10,  2.08s/it]"
     ]
    },
    {
     "name": "stderr",
     "output_type": "stream",
     "text": [
      "\r",
      "running experiments:  96%|█████████▌| 96/100 [03:26<00:08,  2.09s/it]"
     ]
    },
    {
     "name": "stderr",
     "output_type": "stream",
     "text": [
      "\r",
      "running experiments:  97%|█████████▋| 97/100 [03:28<00:06,  2.12s/it]"
     ]
    },
    {
     "name": "stderr",
     "output_type": "stream",
     "text": [
      "\r",
      "running experiments:  98%|█████████▊| 98/100 [03:30<00:04,  2.12s/it]"
     ]
    },
    {
     "name": "stderr",
     "output_type": "stream",
     "text": [
      "\r",
      "running experiments:  99%|█████████▉| 99/100 [03:32<00:02,  2.12s/it]"
     ]
    },
    {
     "name": "stderr",
     "output_type": "stream",
     "text": [
      "\r",
      "running experiments: 100%|██████████| 100/100 [03:34<00:00,  2.13s/it]"
     ]
    },
    {
     "name": "stderr",
     "output_type": "stream",
     "text": [
      "\r",
      "running experiments: 100%|██████████| 100/100 [03:34<00:00,  2.15s/it]"
     ]
    },
    {
     "name": "stdout",
     "output_type": "stream",
     "text": [
      "CPU times: user 3min 32s, sys: 2.76 s, total: 3min 34s\n",
      "Wall time: 3min 34s\n"
     ]
    },
    {
     "name": "stderr",
     "output_type": "stream",
     "text": [
      "\n"
     ]
    }
   ],
   "source": [
    "%%time\n",
    "simulation.run_simulation(n_experiments, start_n, fit_params,shuffle_rows, pred_params, random_features, \\\n",
    "                          store_in_lists, save_eigenvector, save_hamiltonian, save_accuracy,\\\n",
    "                          save_models)\n",
    "if simulation.fourier_mode is not None:\n",
    "    simulation.fourier_dataframe.head(10)"
   ]
  },
  {
   "cell_type": "code",
   "execution_count": 24,
   "metadata": {
    "execution": {
     "iopub.execute_input": "2020-07-09T17:19:01.597581Z",
     "iopub.status.busy": "2020-07-09T17:19:01.597093Z",
     "iopub.status.idle": "2020-07-09T17:19:01.621718Z",
     "shell.execute_reply": "2020-07-09T17:19:01.621399Z"
    },
    "papermill": {
     "duration": 0.060097,
     "end_time": "2020-07-09T17:19:01.621769",
     "exception": false,
     "start_time": "2020-07-09T17:19:01.561672",
     "status": "completed"
    },
    "tags": []
   },
   "outputs": [
    {
     "data": {
      "text/html": [
       "<div>\n",
       "<style scoped>\n",
       "    .dataframe tbody tr th:only-of-type {\n",
       "        vertical-align: middle;\n",
       "    }\n",
       "\n",
       "    .dataframe tbody tr th {\n",
       "        vertical-align: top;\n",
       "    }\n",
       "\n",
       "    .dataframe thead th {\n",
       "        text-align: right;\n",
       "    }\n",
       "</style>\n",
       "<table border=\"1\" class=\"dataframe\">\n",
       "  <thead>\n",
       "    <tr style=\"text-align: right;\">\n",
       "      <th></th>\n",
       "      <th>id</th>\n",
       "      <th>path</th>\n",
       "      <th>t1</th>\n",
       "      <th>t2</th>\n",
       "      <th>winding</th>\n",
       "      <th>phase</th>\n",
       "      <th>pred_phase</th>\n",
       "      <th>type_of</th>\n",
       "      <th>feat0</th>\n",
       "      <th>feat1</th>\n",
       "      <th>...</th>\n",
       "      <th>feat90</th>\n",
       "      <th>feat91</th>\n",
       "      <th>feat92</th>\n",
       "      <th>feat93</th>\n",
       "      <th>feat94</th>\n",
       "      <th>feat95</th>\n",
       "      <th>feat96</th>\n",
       "      <th>feat97</th>\n",
       "      <th>feat98</th>\n",
       "      <th>feat99</th>\n",
       "    </tr>\n",
       "  </thead>\n",
       "  <tbody>\n",
       "    <tr>\n",
       "      <th>0</th>\n",
       "      <td>0</td>\n",
       "      <td>H_-2_-2_0.509296.dat</td>\n",
       "      <td>-2.0</td>\n",
       "      <td>-2.0</td>\n",
       "      <td>0.509296</td>\n",
       "      <td>999</td>\n",
       "      <td>0</td>\n",
       "      <td>test</td>\n",
       "      <td>0.100000</td>\n",
       "      <td>0.100000</td>\n",
       "      <td>...</td>\n",
       "      <td>0.100000</td>\n",
       "      <td>0.100000</td>\n",
       "      <td>0.100000</td>\n",
       "      <td>0.100000</td>\n",
       "      <td>0.100000</td>\n",
       "      <td>0.100000</td>\n",
       "      <td>0.100000</td>\n",
       "      <td>0.100000</td>\n",
       "      <td>0.100000</td>\n",
       "      <td>0.100000</td>\n",
       "    </tr>\n",
       "    <tr>\n",
       "      <th>1</th>\n",
       "      <td>0</td>\n",
       "      <td>H_-2_-2_0.509296.dat</td>\n",
       "      <td>-2.0</td>\n",
       "      <td>-2.0</td>\n",
       "      <td>0.509296</td>\n",
       "      <td>999</td>\n",
       "      <td>1</td>\n",
       "      <td>test</td>\n",
       "      <td>0.141421</td>\n",
       "      <td>0.141142</td>\n",
       "      <td>...</td>\n",
       "      <td>0.114412</td>\n",
       "      <td>0.108967</td>\n",
       "      <td>0.123928</td>\n",
       "      <td>0.119406</td>\n",
       "      <td>0.131490</td>\n",
       "      <td>0.127962</td>\n",
       "      <td>0.136978</td>\n",
       "      <td>0.134500</td>\n",
       "      <td>0.140306</td>\n",
       "      <td>0.138916</td>\n",
       "    </tr>\n",
       "    <tr>\n",
       "      <th>2</th>\n",
       "      <td>0</td>\n",
       "      <td>H_-2_-2_0.509296.dat</td>\n",
       "      <td>-2.0</td>\n",
       "      <td>-2.0</td>\n",
       "      <td>0.509296</td>\n",
       "      <td>999</td>\n",
       "      <td>1</td>\n",
       "      <td>test</td>\n",
       "      <td>0.141421</td>\n",
       "      <td>0.140306</td>\n",
       "      <td>...</td>\n",
       "      <td>0.043702</td>\n",
       "      <td>0.026500</td>\n",
       "      <td>0.075777</td>\n",
       "      <td>0.060214</td>\n",
       "      <td>0.103092</td>\n",
       "      <td>0.090145</td>\n",
       "      <td>0.123928</td>\n",
       "      <td>0.114412</td>\n",
       "      <td>0.136978</td>\n",
       "      <td>0.131490</td>\n",
       "    </tr>\n",
       "    <tr>\n",
       "      <th>3</th>\n",
       "      <td>0</td>\n",
       "      <td>H_-2_-2_0.509296.dat</td>\n",
       "      <td>-2.0</td>\n",
       "      <td>-2.0</td>\n",
       "      <td>0.509296</td>\n",
       "      <td>999</td>\n",
       "      <td>0</td>\n",
       "      <td>test</td>\n",
       "      <td>-0.100000</td>\n",
       "      <td>0.100000</td>\n",
       "      <td>...</td>\n",
       "      <td>-0.100000</td>\n",
       "      <td>0.100000</td>\n",
       "      <td>-0.100000</td>\n",
       "      <td>0.100000</td>\n",
       "      <td>-0.100000</td>\n",
       "      <td>0.100000</td>\n",
       "      <td>-0.100000</td>\n",
       "      <td>0.100000</td>\n",
       "      <td>-0.100000</td>\n",
       "      <td>0.100000</td>\n",
       "    </tr>\n",
       "    <tr>\n",
       "      <th>4</th>\n",
       "      <td>0</td>\n",
       "      <td>H_-2_-2_0.509296.dat</td>\n",
       "      <td>-2.0</td>\n",
       "      <td>-2.0</td>\n",
       "      <td>0.509296</td>\n",
       "      <td>999</td>\n",
       "      <td>0</td>\n",
       "      <td>test</td>\n",
       "      <td>0.000509</td>\n",
       "      <td>-0.008372</td>\n",
       "      <td>...</td>\n",
       "      <td>-0.082713</td>\n",
       "      <td>-0.089753</td>\n",
       "      <td>-0.067684</td>\n",
       "      <td>-0.075347</td>\n",
       "      <td>-0.051587</td>\n",
       "      <td>-0.059753</td>\n",
       "      <td>-0.034677</td>\n",
       "      <td>-0.043217</td>\n",
       "      <td>-0.017220</td>\n",
       "      <td>-0.026000</td>\n",
       "    </tr>\n",
       "    <tr>\n",
       "      <th>5</th>\n",
       "      <td>0</td>\n",
       "      <td>H_-2_-2_0.509296.dat</td>\n",
       "      <td>-2.0</td>\n",
       "      <td>-2.0</td>\n",
       "      <td>0.509296</td>\n",
       "      <td>999</td>\n",
       "      <td>0</td>\n",
       "      <td>test</td>\n",
       "      <td>0.001204</td>\n",
       "      <td>-0.016530</td>\n",
       "      <td>...</td>\n",
       "      <td>-0.134123</td>\n",
       "      <td>-0.138686</td>\n",
       "      <td>-0.118757</td>\n",
       "      <td>-0.127445</td>\n",
       "      <td>-0.095929</td>\n",
       "      <td>-0.108196</td>\n",
       "      <td>-0.067073</td>\n",
       "      <td>-0.082149</td>\n",
       "      <td>-0.034003</td>\n",
       "      <td>-0.050940</td>\n",
       "    </tr>\n",
       "    <tr>\n",
       "      <th>6</th>\n",
       "      <td>0</td>\n",
       "      <td>H_-2_-2_0.509296.dat</td>\n",
       "      <td>-2.0</td>\n",
       "      <td>-2.0</td>\n",
       "      <td>0.509296</td>\n",
       "      <td>999</td>\n",
       "      <td>0</td>\n",
       "      <td>test</td>\n",
       "      <td>-0.141421</td>\n",
       "      <td>-0.138980</td>\n",
       "      <td>...</td>\n",
       "      <td>0.043375</td>\n",
       "      <td>0.067830</td>\n",
       "      <td>-0.009222</td>\n",
       "      <td>0.017385</td>\n",
       "      <td>-0.060524</td>\n",
       "      <td>-0.035502</td>\n",
       "      <td>-0.103326</td>\n",
       "      <td>-0.083403</td>\n",
       "      <td>-0.131616</td>\n",
       "      <td>-0.119589</td>\n",
       "    </tr>\n",
       "    <tr>\n",
       "      <th>7</th>\n",
       "      <td>0</td>\n",
       "      <td>H_-2_-2_0.509296.dat</td>\n",
       "      <td>-2.0</td>\n",
       "      <td>-2.0</td>\n",
       "      <td>0.509296</td>\n",
       "      <td>999</td>\n",
       "      <td>1</td>\n",
       "      <td>test</td>\n",
       "      <td>-0.000826</td>\n",
       "      <td>0.025688</td>\n",
       "      <td>...</td>\n",
       "      <td>0.134753</td>\n",
       "      <td>0.124324</td>\n",
       "      <td>0.141088</td>\n",
       "      <td>0.140407</td>\n",
       "      <td>0.127608</td>\n",
       "      <td>0.136771</td>\n",
       "      <td>0.096206</td>\n",
       "      <td>0.113925</td>\n",
       "      <td>0.051292</td>\n",
       "      <td>0.075079</td>\n",
       "    </tr>\n",
       "    <tr>\n",
       "      <th>8</th>\n",
       "      <td>0</td>\n",
       "      <td>H_-2_-2_0.509296.dat</td>\n",
       "      <td>-2.0</td>\n",
       "      <td>-2.0</td>\n",
       "      <td>0.509296</td>\n",
       "      <td>999</td>\n",
       "      <td>0</td>\n",
       "      <td>test</td>\n",
       "      <td>0.141417</td>\n",
       "      <td>0.136684</td>\n",
       "      <td>...</td>\n",
       "      <td>-0.115093</td>\n",
       "      <td>-0.131915</td>\n",
       "      <td>-0.061266</td>\n",
       "      <td>-0.091040</td>\n",
       "      <td>0.007717</td>\n",
       "      <td>-0.027643</td>\n",
       "      <td>0.074791</td>\n",
       "      <td>0.042592</td>\n",
       "      <td>0.123363</td>\n",
       "      <td>0.102291</td>\n",
       "    </tr>\n",
       "    <tr>\n",
       "      <th>9</th>\n",
       "      <td>0</td>\n",
       "      <td>H_-2_-2_0.509296.dat</td>\n",
       "      <td>-2.0</td>\n",
       "      <td>-2.0</td>\n",
       "      <td>0.509296</td>\n",
       "      <td>999</td>\n",
       "      <td>1</td>\n",
       "      <td>test</td>\n",
       "      <td>0.001302</td>\n",
       "      <td>0.036430</td>\n",
       "      <td>...</td>\n",
       "      <td>0.082068</td>\n",
       "      <td>0.050848</td>\n",
       "      <td>0.127402</td>\n",
       "      <td>0.108132</td>\n",
       "      <td>0.141218</td>\n",
       "      <td>0.138667</td>\n",
       "      <td>0.120099</td>\n",
       "      <td>0.134896</td>\n",
       "      <td>0.069268</td>\n",
       "      <td>0.097755</td>\n",
       "    </tr>\n",
       "  </tbody>\n",
       "</table>\n",
       "<p>10 rows × 108 columns</p>\n",
       "</div>"
      ],
      "text/plain": [
       "   id                  path   t1   t2   winding  phase  pred_phase type_of  \\\n",
       "0   0  H_-2_-2_0.509296.dat -2.0 -2.0  0.509296    999           0    test   \n",
       "1   0  H_-2_-2_0.509296.dat -2.0 -2.0  0.509296    999           1    test   \n",
       "2   0  H_-2_-2_0.509296.dat -2.0 -2.0  0.509296    999           1    test   \n",
       "3   0  H_-2_-2_0.509296.dat -2.0 -2.0  0.509296    999           0    test   \n",
       "4   0  H_-2_-2_0.509296.dat -2.0 -2.0  0.509296    999           0    test   \n",
       "5   0  H_-2_-2_0.509296.dat -2.0 -2.0  0.509296    999           0    test   \n",
       "6   0  H_-2_-2_0.509296.dat -2.0 -2.0  0.509296    999           0    test   \n",
       "7   0  H_-2_-2_0.509296.dat -2.0 -2.0  0.509296    999           1    test   \n",
       "8   0  H_-2_-2_0.509296.dat -2.0 -2.0  0.509296    999           0    test   \n",
       "9   0  H_-2_-2_0.509296.dat -2.0 -2.0  0.509296    999           1    test   \n",
       "\n",
       "      feat0     feat1  ...    feat90    feat91    feat92    feat93    feat94  \\\n",
       "0  0.100000  0.100000  ...  0.100000  0.100000  0.100000  0.100000  0.100000   \n",
       "1  0.141421  0.141142  ...  0.114412  0.108967  0.123928  0.119406  0.131490   \n",
       "2  0.141421  0.140306  ...  0.043702  0.026500  0.075777  0.060214  0.103092   \n",
       "3 -0.100000  0.100000  ... -0.100000  0.100000 -0.100000  0.100000 -0.100000   \n",
       "4  0.000509 -0.008372  ... -0.082713 -0.089753 -0.067684 -0.075347 -0.051587   \n",
       "5  0.001204 -0.016530  ... -0.134123 -0.138686 -0.118757 -0.127445 -0.095929   \n",
       "6 -0.141421 -0.138980  ...  0.043375  0.067830 -0.009222  0.017385 -0.060524   \n",
       "7 -0.000826  0.025688  ...  0.134753  0.124324  0.141088  0.140407  0.127608   \n",
       "8  0.141417  0.136684  ... -0.115093 -0.131915 -0.061266 -0.091040  0.007717   \n",
       "9  0.001302  0.036430  ...  0.082068  0.050848  0.127402  0.108132  0.141218   \n",
       "\n",
       "     feat95    feat96    feat97    feat98    feat99  \n",
       "0  0.100000  0.100000  0.100000  0.100000  0.100000  \n",
       "1  0.127962  0.136978  0.134500  0.140306  0.138916  \n",
       "2  0.090145  0.123928  0.114412  0.136978  0.131490  \n",
       "3  0.100000 -0.100000  0.100000 -0.100000  0.100000  \n",
       "4 -0.059753 -0.034677 -0.043217 -0.017220 -0.026000  \n",
       "5 -0.108196 -0.067073 -0.082149 -0.034003 -0.050940  \n",
       "6 -0.035502 -0.103326 -0.083403 -0.131616 -0.119589  \n",
       "7  0.136771  0.096206  0.113925  0.051292  0.075079  \n",
       "8 -0.027643  0.074791  0.042592  0.123363  0.102291  \n",
       "9  0.138667  0.120099  0.134896  0.069268  0.097755  \n",
       "\n",
       "[10 rows x 108 columns]"
      ]
     },
     "execution_count": 24,
     "metadata": {},
     "output_type": "execute_result"
    }
   ],
   "source": [
    "simulation.dataframe.head(10)"
   ]
  },
  {
   "cell_type": "markdown",
   "metadata": {
    "papermill": {
     "duration": 0.033686,
     "end_time": "2020-07-09T17:19:01.689178",
     "exception": false,
     "start_time": "2020-07-09T17:19:01.655492",
     "status": "completed"
    },
    "tags": []
   },
   "source": [
    "#### Viewing a random sample"
   ]
  },
  {
   "cell_type": "code",
   "execution_count": 25,
   "metadata": {
    "execution": {
     "iopub.execute_input": "2020-07-09T17:19:01.760305Z",
     "iopub.status.busy": "2020-07-09T17:19:01.759814Z",
     "iopub.status.idle": "2020-07-09T17:19:01.770635Z",
     "shell.execute_reply": "2020-07-09T17:19:01.770321Z"
    },
    "papermill": {
     "duration": 0.046941,
     "end_time": "2020-07-09T17:19:01.770685",
     "exception": false,
     "start_time": "2020-07-09T17:19:01.723744",
     "status": "completed"
    },
    "tags": []
   },
   "outputs": [
    {
     "name": "stdout",
     "output_type": "stream",
     "text": [
      "CPU times: user 2 µs, sys: 0 ns, total: 2 µs\n",
      "Wall time: 4.53 µs\n"
     ]
    }
   ],
   "source": [
    "%%time\n",
    "if simulation.fourier_mode is not None:\n",
    "    simulation.fourier_dataframe.sample(frac=0.1, replace=False)"
   ]
  },
  {
   "cell_type": "markdown",
   "metadata": {
    "papermill": {
     "duration": 0.034493,
     "end_time": "2020-07-09T17:19:01.839557",
     "exception": false,
     "start_time": "2020-07-09T17:19:01.805064",
     "status": "completed"
    },
    "tags": []
   },
   "source": [
    "#### Checking train/val/test splits again"
   ]
  },
  {
   "cell_type": "code",
   "execution_count": 26,
   "metadata": {
    "execution": {
     "iopub.execute_input": "2020-07-09T17:19:01.911658Z",
     "iopub.status.busy": "2020-07-09T17:19:01.911327Z",
     "iopub.status.idle": "2020-07-09T17:19:02.093647Z",
     "shell.execute_reply": "2020-07-09T17:19:02.093324Z"
    },
    "papermill": {
     "duration": 0.219019,
     "end_time": "2020-07-09T17:19:02.093697",
     "exception": false,
     "start_time": "2020-07-09T17:19:01.874678",
     "status": "completed"
    },
    "tags": []
   },
   "outputs": [
    {
     "name": "stdout",
     "output_type": "stream",
     "text": [
      "% train:  0.08474317939338516\n",
      "% val:  0.7620789513793629\n",
      "% test:  0.15317786922725193\n",
      "% train + val + test:  1.0\n",
      "\n",
      "\n",
      "number of train hamiltonians:  556\n",
      "number of val hamiltonians:  5000\n",
      "number of test hamiltonians:  1005\n",
      "total number of hamiltonians:  6561\n",
      "\n",
      "\n",
      "train ids:  [1550, 3786, 4417, 2673, 4503, 4552, 2158, 341, 1484, 990, 3371, 3505, 4878, 1036, 1835, 5869, 2165, 4457, 2879, 72, 2395, 5342, 2072, 6102, 5022, 2169, 4395, 6494, 5237, 4584, 3876, 3354, 4274, 1429, 5228, 6168, 2917, 3927, 1838, 1162, 4065, 4767, 3666, 2881, 4558, 4730, 870, 5138, 1997, 4915, 5203, 1941, 3999, 5695, 4078, 1087, 5055, 677, 4724, 3328, 1675, 2721, 4653, 5754, 1843, 2513, 1192, 1576, 339, 3996, 6049, 5506, 971, 1878, 2223, 797, 1785, 4387, 3798, 4819, 5293, 3002, 4643, 5880, 1317, 2219, 1123, 4008, 2228, 2194, 2909, 2668, 3989, 1744, 2149, 3315, 4379, 750, 1548, 3746, 6386, 3169, 877, 3783, 2089, 6132, 4293, 5044, 1996, 3951, 4498, 6006, 1813, 28, 1690, 4716, 4865, 6535, 1894, 6528, 1897, 2658, 6339, 3861, 6096, 4083, 4468, 1094, 4539, 2691, 4027, 4187, 5390, 3180, 2409, 5702, 1185, 3090, 5518, 1683, 1959, 6110, 6345, 3821, 1114, 1534, 1078, 2386, 5287, 973, 3622, 2772, 6018, 1251, 2467, 2091, 517, 1513, 1116, 4174, 3522, 459, 2282, 4770, 1582, 3613, 4239, 3663, 5151, 175, 1112, 5302, 4256, 4649, 715, 1577, 394, 5542, 3462, 3032, 541, 5052, 4410, 3017, 4091, 1905, 3980, 2810, 393, 5346, 5453, 3620, 221, 5071, 4681, 1156, 6365, 2688, 5069, 940, 6529, 4549, 4275, 2653, 2324, 2685, 206, 515, 2367, 3329, 1837, 6294, 418, 6016, 4952, 6283, 5206, 1697, 255, 5131, 2312, 4128, 1351, 5669, 1578, 6367, 5604, 5937, 860, 2018, 3633, 4984, 2773, 6003, 1013, 6338, 4218, 151, 3055, 776, 1500, 5855, 5837, 2191, 782, 4981, 2997, 4369, 4195, 3242, 5973, 5647, 4298, 3220, 3102, 1602, 1453, 1190, 4411, 1113, 3914, 851, 2778, 2189, 4942, 354, 5698, 2012, 3377, 1811, 3770, 4982, 1250, 3470, 137, 3429, 3264, 4808, 3230, 3508, 2248, 1427, 6491, 2584, 614, 6215, 2446, 890, 2722, 5646, 3900, 2695, 3865, 5677, 5877, 1383, 2556, 118, 204, 2071, 3707, 2905, 4409, 6540, 3096, 592, 4738, 474, 5541, 4567, 4988, 2328, 2932, 6333, 6093, 6119, 2769, 5608, 365, 2493, 5967, 6548, 3812, 5549, 4790, 3042, 2644, 3536, 4061, 63, 5157, 3115, 4232, 2964, 6324, 555, 5639, 1030, 1154, 3945, 5456, 3931, 3906, 2363, 4686, 4490, 3728, 3477, 3886, 6363, 209, 4062, 2836, 2841, 1284, 665, 6415, 4016, 2004, 3158, 3283, 2664, 6347, 5122, 5925, 4545, 76, 566, 3651, 3089, 4909, 699, 2196, 2247, 3159, 258, 3144, 5191, 6381, 4045, 944, 2828, 449, 2840, 306, 2415, 3397, 3621, 1337, 4188, 1899, 3059, 872, 1023, 2478, 2708, 2553, 2597, 1219, 5343, 139, 2701, 2077, 6282, 2934, 6181, 2422, 4979, 3339, 4010, 3464, 4336, 4784, 4792, 2936, 1380, 1528, 5633, 5301, 2981, 5182, 3236, 2005, 5767, 3732, 4315, 6463, 4375, 3794, 1249, 5068, 1401, 2768, 3858, 4972, 616, 3930, 24, 458, 3227, 43, 3145, 452, 2857, 3632, 3286, 3289, 2020, 1353, 5712, 2864, 4951, 5386, 1372, 777, 2064, 177, 215, 6267, 1770, 3399, 4075, 2802, 2987, 126, 927, 4940, 1656, 796, 3431, 3004, 3273, 61, 5324, 4651, 3014, 1866, 5395, 5482, 447, 5563, 1494, 3031, 4331, 2037, 1670, 2111, 1917, 5959, 5211, 2636, 3498, 2681, 4368, 4659, 4165, 1608, 2712, 2417, 6099, 705, 1001, 4378, 3747, 2044, 1177, 3550, 2009, 1007, 6177, 1977, 2865, 1758, 5213, 2285, 3363, 5238, 6375, 5514, 4820, 2218, 3954, 2515, 2974, 2921, 2274, 3683, 2369, 1366, 1445, 5269, 3359, 4599, 2735, 5464, 876, 2575, 1706, 1580, 1105, 5779, 4631, 5221, 179, 4412, 3235, 5483, 5307, 518, 2781, 3478, 5450, 1751, 5568, 1432, 1856]\n",
      "val ids:  [3643, 3925, 3416, 1995, 5769, 779, 5768, 3181, 3809, 2858, 1125, 1426, 4495, 2305, 2015, 4907, 4574, 1980, 2101, 793, 1451, 3465, 2655, 2578, 4727, 2746, 6454, 3803, 1482, 3099, 1034, 189, 5543, 4032, 829, 786, 2456, 4616, 4818, 5243, 748, 211, 2524, 3590, 1132, 2473, 1207, 5015, 4467, 272, 5945, 785, 1214, 3066, 3458, 5595, 293, 1796, 4227, 1178, 3768, 6171, 3254, 5849, 132, 1850, 3459, 3598, 2885, 3552, 2889, 5294, 4299, 6278, 5780, 5234, 3312, 4693, 5611, 4883, 3433, 1102, 2942, 2365, 3249, 3533, 4877, 1169, 950, 697, 3617, 1962, 5099, 3253, 4470, 6052, 4568, 207, 2036, 457, 2136, 2100, 3113, 2066, 1434, 5956, 778, 3047, 5021, 3037, 355, 3634, 2908, 2548, 1657, 1769, 957, 2425, 1245, 3107, 3623, 3483, 2732, 2875, 1900, 952, 1110, 5066, 5875, 914, 4445, 4064, 970, 2126, 5525, 5423, 1762, 1037, 4367, 787, 5060, 147, 4683, 589, 5627, 3615, 3559, 1499, 5473, 4608, 5198, 619, 196, 2180, 2629, 5706, 4717, 6200, 3994, 1902, 789, 3356, 1983, 3815, 397, 3439, 1797, 4709, 5764, 512, 1913, 5806, 5529, 1604, 2536, 5642, 1289, 2148, 4216, 5349, 3970, 683, 5733, 992, 5947, 5158, 467, 56, 5848, 4394, 1350, 1907, 2439, 4781, 4598, 951, 5011, 3083, 5447, 6411, 4053, 5770, 3373, 3106, 553, 3005, 2748, 1766, 2643, 1739, 4437, 4763, 3967, 2397, 2966, 5159, 5406, 4415, 2154, 6084, 4203, 5368, 4249, 3755, 3975, 2387, 5594, 3446, 680, 2244, 5394, 3150, 886, 6140, 3252, 3586, 2360, 2956, 1026, 1597, 5872, 5725, 3155, 3023, 4333, 2104, 3426, 5634, 108, 4578, 3276, 5025, 119, 26, 1808, 1752, 2186, 292, 4276, 594, 219, 4491, 5103, 909, 1579, 924, 5264, 5534, 1615, 5619, 4152, 216, 1282, 1033, 5871, 955, 844, 4932, 6511, 1468, 5852, 513, 3324, 4447, 6435, 4069, 1277, 4775, 2370, 2355, 1269, 3259, 234, 4251, 5795, 6420, 3484, 752, 4446, 5449, 1672, 3018, 4133, 6518, 3614, 357, 4357, 2199, 3009, 3137, 1688, 4529, 2533, 3679, 3109, 4914, 1490, 462, 4725, 3528, 4401, 3068, 4617, 1649, 5978, 3859, 5433, 3094, 2692, 4054, 4311, 5776, 3580, 4291, 4248, 5607, 2192, 4989, 768, 6460, 1335, 5895, 6517, 4528, 6183, 3644, 4618, 2693, 606, 33, 6262, 5374, 6266, 1002, 3295, 1043, 5673, 6407, 5042, 2280, 4891, 2499, 4585, 4939, 3801, 4791, 4644, 468, 1743, 943, 2057, 3738, 2912, 6203, 2178, 4493, 2580, 4484, 1793, 4624, 2492, 5790, 1073, 5476, 3593, 5178, 112, 5187, 3406, 21, 834, 5960, 931, 2821, 3250, 1926, 5569, 5926, 1715, 4975, 2767, 2775, 4527, 1417, 345, 4217, 2465, 289, 60, 1262, 5515, 5399, 1118, 217, 5593, 5511, 3022, 1631, 6364, 1452, 4007, 3310, 6216, 4930, 5111, 5916, 3287, 3136, 3545, 3370, 5354, 885, 5457, 6522, 5127, 3587, 5487, 2242, 1875, 4208, 3581, 6054, 2595, 369, 2815, 212, 5185, 3262, 95, 2496, 875, 6331, 4474, 1778, 2973, 556, 6288, 6027, 3331, 4667, 1709, 3191, 111, 2500, 2121, 3913, 3308, 1929, 101, 1138, 3652, 4807, 6195, 254, 6405, 1216, 2730, 6326, 5932, 6499, 6523, 3592, 2307, 5306, 4049, 4708, 3143, 1171, 6342, 5630, 6167, 3595, 2278, 3942, 1049, 1079, 6433, 4048, 2567, 1273, 70, 6413, 2671, 5924, 46, 5811, 403, 2448, 5323, 1570, 3311, 3597, 6189, 390, 532, 6048, 2914, 3966, 1271, 2326, 2323, 4896, 3612, 6058, 4765, 3814, 753, 2470, 6180, 1367, 5554, 5096, 1585, 3270, 1790, 5232, 3969, 67, 3015, 2078, 3912, 698, 5026, 2176, 1165, 2672, 3864, 1236, 4040, 2834, 1669, 3514, 4127, 766, 5227, 4143, 1876, 2817, 1362, 4826, 4471, 3098, 4355, 508, 2042, 456, 5267, 2032, 4022, 707, 4377, 4733, 3915, 3487, 3078, 5373, 585, 1450, 888, 3674, 4334, 3827, 3343, 5792, 5028, 3604, 2069, 6346, 2631, 1842, 2670, 3908, 5588, 4566, 5671, 4963, 857, 437, 4751, 5057, 6541, 376, 4613, 2816, 2402, 5672, 3892, 1545, 441, 1135, 1701, 629, 4028, 4059, 3036, 1569, 3638, 4573, 5466, 1532, 4009, 315, 5316, 2971, 529, 2719, 3822, 5391, 3456, 1212, 770, 5259, 3147, 5209, 4453, 4572, 4706, 4177, 1827, 1097, 2922, 3781, 2450, 3539, 2322, 5726, 4536, 551, 5045, 3052, 49, 4739, 2110, 2404, 4750, 3744, 5047, 5153, 5432, 4583, 152, 836, 3583, 1000, 1859, 2679, 2229, 5285, 3352, 4934, 288, 1017, 522, 1021, 2878, 353, 3245, 3722, 2357, 1498, 4705, 5943, 4123, 4636, 543, 6187, 1655, 4815, 4969, 4900, 1931, 2073, 4633, 3926, 2683, 1048, 2083, 3238, 5953, 2299, 3442, 438, 4694, 1377, 2667, 4707, 3317, 2700, 4384, 6249, 4684, 5773, 5239, 6019, 260, 996, 3450, 4132, 4604, 3720, 2142, 963, 5730, 1993, 3792, 17, 3424, 2991, 6124, 2525, 3997, 4136, 1991, 2237, 2304, 2150, 2353, 2245, 3830, 5048, 4486, 4420, 4858, 5470, 3447, 4533, 2650, 4210, 5798, 2410, 5058, 6356, 2098, 2801, 2967, 1517, 3924, 2823, 1518, 431, 3510, 3340, 2897, 6122, 4270, 2481, 4710, 5379, 4323, 1014, 115, 5896, 595, 4439, 4524, 6489, 2782, 133, 3740, 5561, 6142, 5384, 3805, 3782, 5562, 3243, 6256, 5995, 6279, 3021, 6156, 2680, 5265, 5402, 1925, 3889, 1075, 5019, 2557, 2504, 625, 356, 3065, 1703, 6286, 1267, 3974, 6050, 505, 2006, 268, 5766, 4155, 2993, 2611, 5631, 5077, 3802, 1052, 362, 2696, 5567, 379, 1409, 1054, 3425, 5862, 1622, 2904, 5941, 3695, 4211, 2592, 2359, 2469, 1896, 5459, 3234, 4354, 5231, 2774, 6009, 3266, 1892, 1765, 694, 2520, 1368, 5180, 4728, 5892, 4494, 3199, 1325, 2613, 5190, 2316, 760, 1005, 2867, 3187, 308, 828, 1328, 1466, 3902, 5123, 4296, 5873, 5882, 2820, 2243, 4931, 704, 674, 202, 3672, 4894, 5856, 2931, 2792, 1527, 4026, 3214, 1738, 4993, 3896, 5891, 3564, 3405, 636, 946, 6057, 3572, 6378, 3836, 5961, 549, 4464, 3629, 1032, 5716, 4332, 3734, 2319, 1784, 675, 3288, 2899, 1091, 3392, 3492, 4964, 3054, 6436, 3341, 4289, 6531, 4635, 1430, 2054, 4039, 4773, 3825, 3142, 5775, 1617, 2028, 923, 1614, 2241, 1940, 3247, 6418, 6107, 3577, 1044, 5651, 4685, 5938, 2989, 2552, 5350, 1714, 1402, 3811, 4990, 4834, 3024, 3907, 2677, 281, 2990, 39, 2555, 4779, 5147, 4011, 1650, 3796, 4778, 1647, 4406, 2955, 1344, 2403, 2755, 617, 845, 1464, 1922, 3215, 2138, 1193, 611, 1155, 4116, 3448, 1674, 1708, 1101, 4718, 620, 6086, 2886, 3411, 3358, 2348, 3176, 3534, 3104, 6114, 1987, 5632, 6376, 11, 6408, 1405, 5946, 4687, 1354, 1652, 5859, 191, 1168, 2501, 3731, 5965, 1909, 6005, 404, 3752, 2486, 4084, 433, 5547, 3874, 3244, 935, 4734, 2759, 3654, 6059, 2638, 2334, 3471, 4205, 378, 3193, 302, 4983, 1448, 4771, 4141, 4164, 4682, 6457, 5106, 14, 1093, 3226, 5676, 6128, 3125, 2844, 2630, 5110, 423, 375, 3298, 6243, 5719, 5218, 848, 2002, 526, 4145, 4986, 5181, 3384, 1543, 263, 5133, 564, 432, 1182, 136, 5429, 3056, 603, 6492, 3070, 516, 3745, 1381, 3407, 265, 701, 667, 4029, 1090, 282, 5638, 2795, 6138, 554, 1349, 1433, 6046, 2490, 4657, 1085, 941, 3806, 3395, 4870, 702, 3164, 3780, 5635, 3400, 4861, 3842, 3394, 1411, 4955, 4122, 2362, 2745, 3730, 4610, 5363, 4962, 1442, 2479, 3318, 5625, 4978, 4764, 2634, 6276, 3293, 3274, 4252, 538, 2030, 6039, 5139, 3322, 520, 1504, 2835, 2358, 2639, 3658, 3190, 1458, 424, 5884, 3841, 5997, 5649, 4852, 2749, 3589, 1950, 4272, 3353, 3984, 4092, 4460, 3016, 5645, 2302, 361, 2399, 2953, 2147, 1687, 23, 1736, 4173, 4025, 1661, 223, 6359, 6056, 871, 1700, 5814, 5536, 4279, 1869, 2741, 2170, 933, 218, 3839, 2528, 2392, 1329, 690, 1537, 2146, 4482, 5030, 1668, 847, 2424, 4928, 4492, 3240, 524, 712, 2978, 4634, 3557, 4994, 3570, 4271, 2874, 3922, 463, 2596, 3701, 745, 2239, 953, 681, 4992, 4421, 2019, 3427, 2038, 1008, 3079, 466, 1523, 3178, 1467, 2088, 5894, 3749, 771, 3883, 3476, 3038, 3345, 2273, 2476, 5291, 724, 2173, 3029, 2063, 4001, 5318, 455, 3192, 2435, 3474, 2437, 3726, 1862, 3756, 157, 6254, 3664, 3475, 3463, 2356, 758, 4423, 5309, 1421, 1080, 2963, 3503, 3529, 997, 2605, 2565, 2187, 2822, 3558, 3516, 6184, 190, 4044, 3237, 5888, 1755, 2453, 277, 1849, 5108, 5955, 4534, 2124, 2321, 100, 3387, 3228, 4714, 2008, 4012, 3594, 1384, 4806, 6287, 2526, 5286, 2779, 3591, 4283, 991, 5317, 4772, 5587, 6028, 4903, 5935, 3776, 2249, 1416, 5556, 3222, 1509, 4402, 3365, 1077, 37, 2152, 3043, 1336, 1264, 3323, 6329, 4851, 180, 1788, 5273, 1975, 6361, 3184, 2859, 5320, 4199, 2318, 3408, 4094, 2261, 4068, 4193, 2412, 4151, 273, 5018, 4885, 1710, 5718, 5222, 5207, 5785, 5112, 5290, 5705, 3430, 4876, 2202, 937, 3555, 1890, 1565, 36, 5149, 5216, 593, 713, 4111, 1879, 536, 3847, 2331, 5448, 3669, 6033, 4502, 1108, 2938, 2850, 4516, 31, 1612, 2825, 2153, 4343, 2852, 5833, 1908, 6252, 201, 5628, 3711, 5046, 3857, 1288, 545, 6451, 2206, 6111, 4748, 6487, 1436, 5944, 5053, 280, 1742, 2838, 1272, 6538, 3211, 3221, 3787, 6261, 2179, 2561, 1161, 6296, 2910, 1530, 2598, 3139, 6508, 6447, 5297, 507, 3714, 4646, 700, 3251, 6157, 4176, 1771, 2315, 4746, 371, 4222, 1698, 3718, 6136, 5964, 476, 4441, 1732, 2687, 5933, 2227, 2709, 4013, 377, 2516, 4888, 3685, 16, 1749, 5881, 868, 5954, 4741, 1424, 4310, 3763, 5552, 4795, 1334, 3271, 2205, 2031, 2690, 2784, 6306, 2699, 5095, 1646, 309, 1174, 2736, 5846, 2090, 3028, 5116, 5931, 618, 364, 3205, 3260, 184, 2627, 1774, 6121, 3979, 3852, 1265, 1824, 5442, 30, 2431, 858, 6299, 956, 4046, 3727, 68, 3687, 2224, 5380, 6387, 2551, 2665, 4273, 4356, 2222, 4788, 998, 3461, 5845, 1756, 3850, 1782, 2396, 3157, 183, 3992, 4556, 4654, 809, 839, 1363, 2906, 4212, 3366, 2231, 6406, 3337, 1237, 4875, 669, 5789, 135, 5370, 3742, 1845, 4588, 4086, 370, 4197, 4856, 182, 363, 1050, 235, 1285, 420, 5049, 4582, 2930, 4104, 3848, 2449, 2059, 2429, 3675, 3990, 2344, 1911, 4475, 3681, 4690, 34, 2283, 6103, 5266, 3257, 5699, 1256, 916, 1443, 1932, 5640, 1864, 3334, 709, 3995, 2740, 2368, 2648, 2766, 4966, 5753, 5799, 141, 1571, 6458, 2311, 6182, 1575, 5564, 6036, 5092, 4303, 1371, 3952, 4531, 5313, 2082, 5189, 2164, 4696, 2861, 1196, 6164, 6504, 5890, 442, 4147, 3987, 4089, 2226, 5504, 3872, 1258, 228, 2517, 6302, 4362, 4476, 6464, 3093, 2715, 2744, 1567, 3540, 3436, 388, 5731, 2408, 4575, 1370, 5808, 3146, 2276, 5952, 4555, 5590, 4130, 6412, 4449, 2976, 1435, 2724, 4135, 6173, 3523, 3232, 6539, 2814, 131, 1194, 3521, 5102, 1812, 3741, 610, 1628, 1711, 3347, 3650, 6264, 1702, 2812, 2750, 4945, 5220, 4620, 6105, 1948, 4157, 5454, 4611, 1786, 1737, 1130, 350, 5303, 1915, 1775, 728, 4668, 1791, 1103, 3673, 6259, 1978, 74, 185, 4405, 4797, 3943, 602, 6417, 3335, 3917, 348, 4112, 3282, 2888, 5755, 6459, 3991, 5697, 3438, 3045, 6275, 2977, 4579, 1686, 4899, 3255, 2208, 6516, 3069, 2352, 1867, 6490, 2826, 4452, 2572, 1425, 3174, 4742, 1117, 4971, 2010, 5481, 2999, 1176, 3517, 1659, 5424, 3890, 3203, 3834, 2445, 2530, 1954, 4735, 2172, 2747, 203, 2619, 5152, 2151, 2758, 352, 107, 2678, 3091, 5029, 4774, 4749, 1092, 3878, 6253, 695, 1508, 2099, 5261, 2916, 3051, 3619, 1748, 1630, 2594, 852, 4014, 3482, 2094, 4339, 922, 5137, 2569, 5557, 1787, 5670, 6060, 3398, 910, 1300, 3504, 2620, 1463, 4316, 1626, 5241, 5691, 4318, 874, 5193, 965, 2233, 5016, 3153, 1693, 3138, 5843, 1953, 5276, 5722, 6042, 4050, 1946, 1404, 3013, 4214, 9, 4723, 1605, 4461, 1625, 48, 2833, 5701, 3189, 2626, 4465, 3453, 5555, 1422, 346, 4973, 4352, 1893, 3976, 6133, 3779, 2896, 1015, 1493, 6087, 591, 1984, 1727, 259, 4612, 6277, 1099, 2351, 4229, 2599, 2890, 2593, 4933, 5101, 2474, 1815, 4700, 483, 1566, 2350, 2872, 5948, 1134, 4451, 1012, 4905, 2497, 5175, 3351, 3977, 2649, 5371, 1648, 3910, 3934, 3723, 419, 756, 3702, 3111, 4576, 2254, 2502, 2903, 5355, 757, 6055, 1904, 2764, 6211, 51, 3007, 4106, 3971, 1747, 1330, 4366, 1590, 1331, 4729, 3719, 5996, 2272, 380, 831, 3639, 3434, 2349, 1345, 3314, 1487, 3844, 4889, 3172, 5378, 4117, 1563, 1283, 6450, 4698, 1692, 2433, 5156, 673, 601, 1673, 5033, 2381, 192, 6360, 181, 6263, 3684, 6534, 3186, 4603, 1414, 5229, 5205, 2483, 552, 1348, 1206, 5389, 2286, 150, 2531, 5479, 859, 4309, 4991, 5765, 582, 444, 3993, 4163, 716, 3423, 3670, 349, 3959, 5835, 6244, 1167, 999, 4701, 684, 1851, 4688, 4855, 2197, 2776, 3758, 1339, 2325, 1834, 4118, 2854, 3743, 1240, 1531, 2887, 4638, 5834, 5778, 6373, 4341, 850, 3275, 4954, 6484, 637, 4766, 1055, 3006, 338, 2728, 2994, 2813, 384, 6289, 3121, 4622, 1822, 1163, 544, 3640, 503, 359, 3901, 471, 142, 2617, 1832, 1035, 1276, 5036, 6448, 506, 623, 6506, 4628, 2035, 3412, 3212, 4970, 3428, 3524, 6097, 4342, 342, 678, 2589, 2157, 4108, 6077, 3097, 2472, 73, 2998, 6271, 5437, 4664, 62, 3885, 1865, 1757, 3026, 920, 3611, 3025, 5532, 256, 1538, 197, 2021, 3899, 5289, 2628, 6100, 3788, 2863, 3660, 6353, 3379, 3923, 3491, 631, 1857, 3071, 954, 1095, 6374, 3972, 2612, 3248, 581, 3168, 3188, 5208, 6037, 6129, 1495, 514, 1038, 5485, 3880, 784, 3117, 6537, 2959, 2957, 1011, 1606, 3879, 808, 2818, 3419, 4037, 4499, 4035, 5043, 2950, 5613, 6385, 3301, 3537, 1298, 3457, 5422, 2609, 113, 969, 1076, 945, 3008, 3647, 6341, 832, 5300, 2107, 1658, 125, 1529, 6422, 3891, 5141, 4886, 4156, 1589, 2123, 4172, 1374, 3396, 1678, 2258, 2287, 3480, 156, 2013, 5443, 2514, 2954, 4247, 2411, 2573, 104, 2419, 1627, 2805, 1170, 5236, 6126, 6414, 2615, 3122, 5510, 5878, 4473, 6273, 4817, 928, 2452, 2119, 3101, 2713, 1846, 4231, 2877, 3415, 47, 1412, 6330, 4929, 6174, 2168, 3507, 5027, 5480, 501, 2182, 3085, 6210, 5885, 4223, 6113, 647, 2614, 4107, 2174, 2809, 3307, 1665, 6017, 2503, 3988, 4109, 2832, 2532, 4642, 1018, 3087, 3957, 2105, 528, 833, 310, 6224, 1031, 5463, 4904, 3869, 5970, 460, 6488, 1740, 4067, 323, 4497, 1046, 2545, 3166, 5430, 3208, 4957, 55, 2860, 1794, 1933, 4822, 3219, 2109, 1252, 237, 4072, 4518, 6544, 5183, 5512, 4365, 1629, 4882, 6188, 1253, 4783, 936, 5791, 4385, 1825, 1814, 3110, 6178, 781, 4652, 1535, 2413, 3389, 2793, 2579, 6023, 5475, 1410, 5951, 5548, 3518, 4487, 66, 1746, 5148, 3795, 3321, 2642, 3049, 3490, 5860, 2608, 2339, 2177, 4621, 4215, 5684, 4005, 6303, 6442, 1588, 4580, 2175, 2060, 236, 3588, 5240, 2122, 3432, 472, 6514, 5715, 3692, 3511, 6118, 436, 233, 6008, 1699, 3649, 2406, 2184, 4823, 994, 2332, 4600, 1960, 3956, 2394, 6334, 5533, 3578, 6284, 929, 4313, 2803, 3704, 2185, 4520, 5728, 453, 5836, 3556, 2443, 2983, 6120, 1632, 1462, 4911, 5375, 3748, 1127, 6455, 5940, 1369, 3297, 4609, 1333, 4121, 2853, 3837, 3313, 3417, 3108, 6513, 534, 2851, 1985, 2571, 3668, 2336, 3816, 3519, 4660, 1620, 1525, 6428, 300, 3403, 1506, 854, 6370, 3561, 2335, 1546, 3661, 3983, 3380, 387, 5258, 3284, 5637, 4120, 5277, 3618, 3941, 2806, 5050, 4434, 5372, 4397, 1587, 1848, 1645, 4557, 1423, 2070, 5523, 2937, 2547, 763, 3041, 5274, 1172, 5196, 6280, 4956, 3479, 3736, 1989, 4859, 4505, 94, 1428, 4850, 3152, 4864, 2633, 2753, 3140, 4250, 932, 1927, 1053, 5783, 6010, 2898, 4477, 4936, 4632, 1088, 99, 6507, 5851, 4245, 65, 2751, 1779, 3860, 1898, 646, 4967, 2985, 2125, 4846, 2703, 5689, 1863, 846, 6038, 3653, 1684, 2992, 2144, 102, 278, 1810, 2300, 5618, 1180, 4158, 1358, 4371, 2023, 3195, 2291, 3171, 4146, 6053, 1598, 3391, 4030, 6424, 2155, 2161, 3838, 1705, 500, 3223, 4167, 3735, 2491, 6452, 5134, 3291, 6013, 1872, 966, 2405, 3625, 4047, 1540, 3000, 2309, 6525, 4526, 59, 4034, 1072, 3151, 5204, 286, 3845, 3808, 2203, 4023, 3506, 5977, 2717, 3677, 3831, 5865, 2373, 6441, 5488, 2512, 714, 6502, 3105, 1912, 3737, 3368, 6437, 3304, 6091, 4255, 4282, 4221, 1735, 1776, 3981, 4809, 1541, 381, 2414, 97, 1341, 2451, 2022, 41, 3046, 6416, 3875, 5516, 3316, 4782, 3201, 5558, 1831, 1173, 2986, 4322, 5468, 4980, 3355, 4236, 4910, 5076, 6305, 1677, 4648, 769, 5723, 4114, 3897, 4361, 1016, 3751, 1795, 3182, 3435, 1731, 3697, 3386, 6372, 2181, 4655, 1415, 2945, 54, 4438, 1027, 1045, 604, 4974, 5867, 5570, 2582, 5650, 1320, 2510, 3441, 6343, 2559, 2259, 3948, 3767, 42, 1928, 2837, 1489, 3167, 312, 6022, 6137, 2756, 4381, 861, 6357, 3761, 5010, 4544, 4306, 3494, 5866, 5051, 3645, 366, 5195, 830, 5874, 2489, 5477, 2586, 4780, 5714, 3224, 6222, 1943, 3712, 6218, 1903, 5915, 3797, 3088, 3489, 919, 3217, 1663, 3764, 4550, 3605, 4374, 1891, 3374, 5703, 270, 1829, 873, 4607, 663, 3721, 178, 609, 3584, 1733, 2843, 6493, 1573, 2220, 1958, 4606, 3575, 6500, 1870, 2731, 1572, 6456, 3893, 2275, 188, 2014, 4285, 15, 2055, 5478, 1465, 4454, 4418, 3357, 6291, 3500, 2862, 1205, 2948, 5161, 632, 5972, 624, 887, 4913, 4052, 3513, 4170, 2253, 3887, 5079, 3342, 1481, 5292, 4814, 5445, 5793, 285, 422, 6040, 6290, 3785, 3402, 2204, 612, 668, 6034, 2946, 4196, 2347, 2919, 2040, 5484, 5713, 3112, 3381, 4209, 3635, 2924, 5272, 5605, 6257, 4637, 968, 4448, 1247, 4292, 2506, 5727, 926, 4523, 4737, 5184, 3968, 2017, 3939, 1089, 3202, 525, 6449, 4985, 6388, 4006, 1204, 261, 368, 367, 5362, 4003, 2016, 540, 5035, 5721, 3563, 5870, 5696, 3183, 2065, 2804, 3344, 4234, 186, 672, 2117, 3884, 187, 5710, 5729, 5396, 145, 827, 2824, 6106, 3135, 6139, 5073, 5115, 3708, 5145, 4312, 2418, 2734, 3385, 6083, 5109, 3241, 3095, 4577, 1218, 3057, 2330, 3790, 2383, 2407, 2269, 6509, 3239, 6209, 1115, 4260, 1187, 4976, 3469, 4647, 3010, 2232, 106, 1461, 6207, 806, 6011, 3263, 5950, 1209, 3898, 3671, 2303, 2440, 2796, 2279, 633, 5366, 1594, 5546, 2737, 3361, 1447, 1584, 1215, 2390, 205, 4166, 93, 2949, 4587, 4115, 1457, 1299, 6445, 5804, 6440, 2250, 2284, 2893, 2234, 98, 3148, 1454, 3648, 2074, 303, 2033, 6123, 1081, 3119, 3292, 3849, 5140, 425, 264, 5344, 6032, 4281, 1248, 6293, 1486, 5054, 1082, 3081, 3950, 2711, 5644, 2115, 671, 6498, 1191, 6483, 6551, 3705, 5383, 598, 2754, 3867, 5913, 173, 2494, 5305, 4113, 3895, 3601, 686, 5708, 2271, 2195, 4328, 2577, 1332, 3777, 5186, 1124, 3817, 2883, 4337, 294, 6269, 4246, 1488, 1713, 1611, 1217, 938, 3194, 5314, 4947, 421, 1944, 287, 5974, 307, 5132, 5963, 1592, 3131, 4284, 3030, 2544, 4230, 2338, 6101, 2979, 4389, 3035, 5801, 3554, 2114, 1591, 5288, 3569, 993, 3019, 4704, 6434, 2007, 1877, 1100, 3567, 2529, 3278, 6043, 1924, 1126, 5358, 3596, 1952, 2096, 5847, 225, 4943, 542, 176, 6191, 6104, 5897, 232, 3955, 6015, 2901, 4530, 4871, 2856, 1051, 2266, 2454, 5930, 1707, 3114, 2657, 6355, 296, 4097, 6438, 2915, 5427, 6358, 2913, 4002, 6250, 1375, 3544, 6090, 6368, 1935, 1947, 4535, 2430, 6337, 759, 4295, 3319, 1022, 2527, 3348, 5832, 484, 4665, 3077, 3631, 795, 2980, 3932, 5215, 1972, 2694, 428, 4171, 3667, 1485, 5460, 2968, 5114, 2729, 5023, 1544, 1323, 3868, 5527, 4399, 5893, 3982, 6348, 4134, 3258, 3717, 6204, 3393, 3818, 4224, 122, 2441, 2723, 6465, 1399, 4747, 103, 5436, 2797, 2145, 1266, 4950, 3421, 6467, 5270, 3300, 2511, 5784, 1820, 5979, 3064, 5648, 6024, 3871, 5032, 5777, 2108, 4996, 4235, 3129, 3582, 2601, 4382, 2581, 891, 3124, 5700, 2085, 5620, 2920, 6047, 4125, 4140, 6545, 3562, 4571, 5517, 6439, 5923, 1503, 4802, 4854, 275, 92, 2444, 3963, 3420, 746, 3130, 2427, 4692, 445, 451, 3626, 4308, 3778, 4257, 129, 2535, 2607, 3075, 1086, 3376, 4776, 3128, 6350, 344, 4887, 1923, 3832, 4340, 5850, 5886, 4935, 2590, 921, 2087, 2538, 6425, 2190, 464, 2927, 5853, 5629, 1549, 2113, 2868, 3960, 3551, 4220, 124, 5914, 942, 5388, 1764, 2725, 336, 2343, 2763, 4525, 2765, 3367, 4190, 3372, 4601, 1511, 2941, 645, 5812, 3062, 4269, 3100, 3063, 4663, 2025, 1505, 1918, 3382, 6426, 1160, 4442, 5550, 3574, 5636, 5641, 383, 1741, 1239, 1420, 6419, 4363, 3904, 535, 5352, 3573, 6369, 3863, 5446, 2139, 2385, 4031, 5531, 3067, 2771, 2268, 533, 5772, 5615, 3909, 3862, 6255, 5381, 2645, 1301, 5278, 4812, 3299, 343, 2984, 2554, 5936, 4699, 4569, 621, 4051, 6192, 19, 1979, 429, 6172, 6021, 3916, 635, 301, 2447, 3657, 4148, 5854, 2420, 4873, 1516, 6524, 2329, 615, 4225, 3538, 4867, 148, 1356, 6515, 5364, 6352, 1326, 25, 6497, 4892, 5404, 4056, 6485, 5031, 4153, 2928, 360, 3269, 6198, 772, 3296, 3170, 3750, 3309, 4286, 1319, 2217, 4241, 4626, 5365, 3185, 1413, 3261, 863, 3819, 2855, 2374, 4804, 5298, 1107, 53, 1136, 2660, 783, 1188, 4658, 630, 2171, 2926, 4440, 4485, 3877, 5097, 964, 5224, 1667, 3655, 3216, 5124, 710, 2523, 866, 691, 2676, 274, 2246, 2264, 2891, 1338, 5861, 5539, 3485, 2384, 4744, 3918, 208, 105, 4627, 5397, 4261, 5347, 4906, 6512, 5142, 5787, 1378, 1616, 4662, 4066, 389, 4206, 6116, 3724, 2487, 2263, 1287, 5393, 2675, 6170, 1492, 6031, 586, 1821, 1974, 5074, 6383, 4422, 4614, 548, 4338, 6547, 4816, 1990, 3947, 3281, 4351, 4138, 6026, 4301, 2762, 351, 2570, 1042, 4416, 4629, 644, 1853, 6025, 6427, 1704, 3829, 3256, 3940, 2982, 4325, 3542, 4436, 5062, 5711, 749, 1595, 626, 1122, 2188, 3547, 6193, 10, 4895, 5690, 5751, 3944, 1202, 5486, 1763, 6384, 755, 5104, 4897, 5958, 1914, 6461, 2923, 3509, 3132, 3326, 2662, 1083, 5295, 537, 727, 2519, 3531, 4353, 864, 3616, 2183, 2958, 1244, 2621, 3686, 6423, 530, 6549, 1408, 5675, 3560, 4912, 1895, 2092, 4259, 4811, 6281, 4243, 5125, 386, 5100, 470, 2434, 3546, 1860, 199, 607, 5942, 3233, 5522, 2468, 1858, 773, 3074, 2382, 5844, 1446, 6190, 546, 5451, 6245, 3919, 2043, 4137, 2635, 3209, 3048, 50, 2866, 2112, 5284, 2972, 117, 913, 1294, 947, 5179, 5694, 2026, 3327, 1268, 2255, 4326, 1901, 4228, 210, 6127, 5471, 4459, 5013, 2193, 2391, 5452, 3290, 2666, 6076, 5704, 3662, 1653, 5064, 1623, 4024, 4586, 1109, 1189, 5070, 6109, 4958, 2067, 6503, 4124, 3958, 3769, 6510, 1056, 1379, 6125, 5781, 1111, 509, 2256, 5107, 1133, 4126, 1106, 774, 6202, 2574, 5202, 5037, 5098, 213, 6285, 3197, 1459, 1257, 4042, 972, 1574, 5403, 146, 1660, 2221, 5431, 109, 3549, 4043, 1510, 2141, 2558, 679, 6213, 1455, 1942, 1664, 4388, 20, 4625, 4458, 6532, 2116, 222, 5551, 1255, 4553, 4726, 1166, 18, 3044, 2563, 843, 5889, 1696, 2940, 6527, 4456, 2455, 1586, 3149, 2509, 430, 5717, 3020, 3866, 6268, 1854, 4085, 4715, 4832, 1318, 5105, 2471, 5067, 2062, 2508, 2317, 3851, 4372, 4081, 6007, 2003, 4669, 3175, 2616, 3548, 4564, 6301, 4501, 6403, 3364, 5392, 5553, 392, 3933, 3303, 6212, 3452, 666, 6051, 930, 5732, 155, 5299, 3949, 1689, 4619, 4192, 477, 4057, 1593, 6371, 4853, 3824, 5263, 5367, 4898, 5863, 3793, 889, 6443, 5756, 6335, 5271, 3985, 3082, 4847, 6323, 5192, 2120, 5312, 1024, 689, 2811, 4321, 6496, 4139, 6085, 3279, 4605, 3196, 600, 5591, 3451, 4938, 262, 3606, 3126, 5544, 1128, 3823, 3541, 1009, 583, 6094, 1906, 1238, 4833, 4869, 4204, 5065, 597, 4798, 5434, 3050, 6292, 1961, 3828, 5800, 6246, 6536, 2265, 227, 869, 3610, 1855, 3870, 5426, 5078, 1181, 3636, 3973, 4219, 2388, 4404, 2944, 3873, 1828, 4087, 4015, 4813, 279, 664, 5939, 3501, 6169, 2739, 2606, 807, 3414, 2652, 2442, 3497, 4162, 2689, 1296, 4551, 340, 283, 3060, 6304, 2790, 6505, 313, 3496, 2310, 396, 967, 4828, 1621, 1609, 1651, 2466, 3011, 838, 5094, 4506, 696, 347, 1376, 3715, 3285, 1685, 725, 2027, 2537, 3700, 6117, 4489, 4462, 4060, 3846, 547, 1385, 4179, 1691, 13, 5461, 4661, 1533, 6366, 2505, 2965, 5757, 4383, 2068, 465, 2252, 1767, 4711, 521, 5348, 925, 5592, 5797, 6530, 4186, 6223, 3602, 1198, 4469, 4666, 2656, 2308, 6217, 1522, 6219, 1184, 2301, 1324, 2682, 5643, 6179, 6543, 1179, 230, 5257, 3493, 4070, 2438, 4769, 3003, 5929, 3627, 2585, 4004, 1321, 4198, 5524, 4096, 4463, 2819, 5020, 5155, 5805, 6041, 2426, 2058, 3512, 837, 4090, 5455, 2995, 1437, 1343, 4280, 3965, 2095, 6199, 5117, 1373, 4868, 4901, 3911, 2521, 1789, 1496, 4200, 5509, 3576, 5596, 3332, 1270, 5129, 4071, 1792, 2475, 6469, 1861, 5118, 6410, 4944, 4821, 1483, 5135, 5268, 6088, 3127, 1137, 4697, 1210, 1104, 435, 5794, 3739, 3813, 4327, 747, 6430, 6462, 3791, 4602, 4540, 4554, 5560, 5535, 6327, 2200, 439, 3160, 2260, 911, 2484, 6176, 3946, 6344, 2289, 2799, 3642, 917, 1365, 4119, 5150, 2785, 3766, 446, 5771, 3888, 1783, 1823, 3566, 3637, 3810, 511, 5341, 4997, 2641, 4150, 1246, 2718, 2686, 4645, 5219, 6432, 3375, 6404, 502, 5144, 4563, 2757, 4305, 2364, 38, 2849, 1939, 4862, 1777, 1666, 269, 6014, 6108, 1754, 4294, 6349, 5038, 295, 4373, 4695, 5462, 5624, 6533, 3820, 2873, 2143, 4287, 3162, 2267, 1654, 3696, 1852, 5458, 2140, 5321, 3306, 3568, 1618, 4884, 4169, 5377, 3725, 4335, 2970, 3320, 316, 5214, 1340, 4796, 3607, 6270, 4307, 75, 2743, 2587, 2522, 266, 290, 374, 4358, 2061, 1491, 5623, 5194, 4562, 1847, 271, 4496, 1419, 3713, 5322, 2738, 949, 2742, 6468, 1547, 4722, 138, 2566, 6208, 4455, 3553, 5435, 1364, 3369, 4777, 5130, 948, 6075, 2340, 995, 2156, 685, 3302, 3716, 3053, 754, 5815, 2714, 3177, 2281, 4154, 5061, 4689, 6265, 4063, 2929, 2346, 590, 5017, 3218, 2780, 3268, 2727, 3699, 2588, 5614, 849, 297, 5774, 3729, 6186, 3468, 1290, 6429, 1753, 6205, 5802, 3338, 5369, 5621, 3294, 284, 3039, 4941, 4189, 1726, 4848, 1346, 6134, 2637, 427, 1830, 5319, 4041, 1945, 2943, 1292, 5136, 3961, 4581, 1098, 2918, 1836, 4793, 2464, 1241, 5126, 473, 4359, 1934, 4805, 5782, 5296, 3460, 6300, 4317, 3929, 3012, 391, 2663, 2933, 2846, 884, 1382, 35, 1868, 5056, 450, 692, 780, 5283, 1536, 5934, 4987, 276, 3272, 2084, 3418, 4522, 1203, 1662, 1197, 2029, 130, 2333, 4872, 1263, 45, 3585, 842, 2697, 2421, 5540, 4376, 853, 123, 5528, 1352, 5876, 6112, 6201, 804, 6453, 1817, 2225, 6237, 2884, 1916, 1211, 3962, 1278, 6542, 153, 5526, 4194, 918, 3603, 2847, 5223, 4517, 4391, 2702, 3706, 2372, 6130, 5345, 2808, 1291, 6012, 3964, 6197, 1729, 803, 3473, 4483, 4736, 3133, 1342, 1956, 531, 4088, 6446, 6431, 3515, 6260, 5012, 4082, 1186, 5720, 3118, 3134, 3210, 2962, 5976, 1694, 4237, 3703, 140, 291, 1286, 299, 3826, 2610, 52, 29, 2436, 6409, 628, 4244, 4202, 3204, 1973, 5887, 6185, 1619, 3579, 2361, 6298, 1514, 4548, 1564, 3346, 5340, 5210, 1539, 2842, 726, 3404, 337, 6332, 382, 194, 3165, 267, 1955, 6354, 1930, 454, 3762, 6214, 2041, 1431, 4093, 2103, 4055, 1768, 5467, 3084, 3454, 1507, 4948, 6141, 1029, 1260, 4207, 2669, 5353, 5212, 765, 2752, 4407, 862, 5444, 1010, 6520, 1712, 6098, 4142, 5398, 1158, 3530, 4543, 3599, 5994, 3624, 2056, 1157, 1728, 1524, 1006, 305, 71, 1937, 4785, 6045, 1750, 2076, 4478, 5063, 4702, 3141, 1243, 5275, 32, 3086, 2327, 4743, 4570, 4079, 4178, 4076, 4949, 58, 1874, 2550, 5308, 5226, 143, 1976, 2604, 4290, 5674, 1195, 2230, 6020, 2661, 4830, 6163, 2900, 1164, 1025, 2602, 5538, 298, 4890, 2463, 372, 2783, 5400, 5626, 2831, 588, 6444, 317, 6495, 2238, 2798, 4159, 1603, 4794, 2603, 2498, 6251, 4691, 767, 3073, 1254, 4703, 3628, 6272, 2075, 4226, 4538, 6258, 448, 5177, 3267, 4789, 3905, 4425, 856, 3080, 1819, 4038, 40, 5428, 5566, 5024, 2996, 4953, 723, 4191, 1938, 6486, 5282, 5113, 4129, 5809, 4712, 3449, 5796, 4175, 4095, 4965, 3072, 172, 4866, 687, 840, 5559, 4752, 3173, 4408, 5387, 2251, 3688, 1781, 4450, 1293, 4413, 4213, 1213, 3978, 114, 3179, 791, 4849, 2647, 2576, 5472, 1242, 4630, 3486, 4435, 751, 195, 5217, 711, 1512, 3502, 3833, 6295, 5597, 6382, 3325, 3759, 4542, 3277, 3799, 5143, 1745, 5072, 1444, 44, 4254, 6325, 4829, 5617, 3646, 1183, 2568, 5763, 4077, 5606, 4565, 4803, 3058, 485, 1302, 5304, 3571, 2086, 6165, 4768, 1568, 2710, 3659, 5507, 2257, 2770, 1438, 3894, 3499, 706, 3843, 4168, 5709, 634, 1951, 2988, 1403, 6004, 6095, 2935, 2961, 5687, 5883, 835, 550, 762, 1497, 2892, 2674, 1773, 1274, 510, 6519, 3001, 2097, 3472, 4390, 6166, 4036, 4444, 2288, 5225, 2591, 4131, 4288, 2947, 5438, 1992, 643, 5351, 1676, 3882, 4314, 2167, 4386, 2651, 5545, 6035, 2549, 1129, 1074, 794, 469, 5616, 5235, 805, 2777, 5692, 6131, 4547, 4656, 2760, 676, 3437, 1613, 3694, 2314, 2839, 2791, 3229, 4902, 3207, 5609, 2106, 883, 5858, 4786, 4392, 4977, 3076, 1607, 2034, 434, 4745, 4810, 2969, 599, 1208, 3807, 3466, 5154, 91, 6044, 4258, 4370, 3656, 5879, 5957, 1004, 3231, 2876, 2306, 5382, 6221, 2371, 4105, 2829, 2416, 385, 2632, 3678, 5724, 4521, 1295, 1910, 3213, 3154, 4623, 1460, 2341, 3709, 6194, 1818, 5310, 2807, 2393, 3682, 3998, 3481, 5966, 1456, 1994, 1407, 1988, 5685, 3775, 2011, 2401, 3765, 3535, 257, 1833, 4968, 4364, 3092, 5810, 5311, 3693, 1449, 3161, 841, 4863, 6351, 3383, 4398, 231, 1084, 5622, 4300, 5385, 96, 4393, 5693, 5612, 3800, 4532, 4329, 2162, 2716, 2618, 4302, 605, 527, 6206, 5014, 12, 519, 4403, 6196, 2118, 5260, 3789, 865, 2389, 5688, 4110, 2894, 2166, 22, 6526, 792, 1671, 1986, 4650, 2354, 4500, 2345, 4740, 3388, 5197, 867, 5176, 4161, 1400, 77, 627, 3390, 3835, 1957, 4845, 4893, 2646, 5230, 1347, 2102, 3225, 4541, 1998, 2902, 3333, 2337, 3953, 5927, 608, 4732, 4277, 2654, 764, 2482, 2518, 4824, 6466, 120, 5075, 4731, 2163, 3336, 4278, 2207, 3543, 200, 855, 1327, 6030, 5928, 6089, 5864, 2423, 6220, 1175, 2733, 2794, 3455, 5975, 4424, 6501, 3422, 2845, 5786, 1515, 193, 144, 5971, 6550, 596, 5788, 5160, 4946, 2564, 3330, 2024, 2830, 198, 4443, 3928, 2546, 4537, 3378, 395, 3753, 4033, 5376, 6247, 4615, 1355, 1581, 1159, 4074, 557, 3495, 3401, 4860, 912, 4233, 1047, 3804, 3445, 4330, 64, 1096, 2495, 3757, 5969, 1406, 3467, 3710, 2485, 1322, 229, 5465, 3246, 1003, 1303, 5405, 2313, 3921, 3532, 2209, 5707, 1844, 3027, 2659, 3565, 6274, 5128, 2895, 2600, 3881, 214, 443, 1418, 5603, 1871, 2137, 220, 69, 314, 1019, 5513, 2198, 4149, 2925, 116, 4825, 1730, 5093, 5508, 6421, 2726, 4857, 2698, 127, 584, 2135, 461, 2848, 2477, 1826, 4304, 504, 1502, 523, 5686, 703, 4238, 4831, 134, 2939, 5505, 2159, 1357, 5242, 5949, 1624, 5803, 2236, 27, 1949, 3698, 5857, 934, 5315, 682, 939, 5357, 3630, 761, 693, 6175, 4414, 5530, 3903, 57, 3206, 5752, 5917, 565, 1596, 6377, 6379, 4360, 915, 2290, 1583, 1780, 1526, 2534, 1028, 2428, 1682, 3409, 6380, 2761, 1501, 670, 4242, 224, 4419, 3265, 563, 5469, 539, 2684, 3676, 1873, 4787, 2262, 4058, 4713, 1542, 2432, 5968, 5034, 6029, 5807, 1020, 5868, 6297, 2398, 2562, 5813, 5962, 1936, 4466, 3123, 1259, 4144, 121, 717, 2827, 2270, 5146, 2488, 3103, 6340, 788, 3410, 1695, 154, 4827, 1297, 3350, 6115, 6546, 2507, 3754, 426, 2039, 5233, 4874, 4908, 1275, 1772, 6248, 3163, 6521, 2277, 4253, 4937, 6336, 304, 3525, 2342, 2583, 226, 3413, 5356, 5474, 5262, 149, 775, 1261, 4201, 1610, 440, 4504, 1816, 3665, 5683, 1734, 311, 1981, 4324, 110, 613, 3641, 4396, 688, 3784, 587, 2366, 4546, 2911, 4670, 4995, 2201, 4297, 5565, 5425, 790, 6135, 1809, 4319, 1982, 1131, 4519, 6092, 3061, 3733, 2907, 4073, 4380, 3488, 3305, 5537, 3986, 2235, 1220, 6362, 5188, 2882, 128, 5059, 708, 3349, 5589, 622, 373, 3443, 358, 2093, 5401, 4472, 4488, 5610, 2975, 3156, 475, 6328, 174]\n",
      "test ids:  [0, 1, 2, 3, 4, 5, 6, 7, 8, 78, 79, 80, 81, 82, 83, 84, 85, 86, 87, 88, 89, 90, 158, 159, 160, 161, 162, 163, 164, 165, 166, 167, 168, 169, 170, 171, 238, 239, 240, 241, 242, 243, 244, 245, 246, 247, 248, 249, 250, 251, 252, 253, 318, 319, 320, 321, 322, 324, 325, 326, 327, 328, 329, 330, 331, 332, 333, 334, 335, 398, 399, 400, 401, 402, 405, 406, 407, 408, 409, 410, 411, 412, 413, 414, 415, 416, 417, 478, 479, 480, 481, 482, 486, 487, 488, 489, 490, 491, 492, 493, 494, 495, 496, 497, 498, 499, 558, 559, 560, 561, 562, 567, 568, 569, 570, 571, 572, 573, 574, 575, 576, 577, 578, 579, 580, 638, 639, 640, 641, 642, 648, 649, 650, 651, 652, 653, 654, 655, 656, 657, 658, 659, 660, 661, 662, 718, 719, 720, 721, 722, 729, 730, 731, 732, 733, 734, 735, 736, 737, 738, 739, 740, 741, 742, 743, 744, 798, 799, 800, 801, 802, 810, 811, 812, 813, 814, 815, 816, 817, 818, 819, 820, 821, 822, 823, 824, 825, 826, 878, 879, 880, 881, 882, 892, 893, 894, 895, 896, 897, 898, 899, 900, 901, 902, 903, 904, 905, 906, 907, 908, 958, 959, 960, 961, 962, 974, 975, 976, 977, 978, 979, 980, 981, 982, 983, 984, 985, 986, 987, 988, 989, 1039, 1040, 1041, 1057, 1058, 1059, 1060, 1061, 1062, 1063, 1064, 1065, 1066, 1067, 1068, 1069, 1070, 1071, 1119, 1120, 1121, 1139, 1140, 1141, 1142, 1143, 1144, 1145, 1146, 1147, 1148, 1149, 1150, 1151, 1152, 1153, 1199, 1200, 1201, 1221, 1222, 1223, 1224, 1225, 1226, 1227, 1228, 1229, 1230, 1231, 1232, 1233, 1234, 1235, 1279, 1280, 1281, 1304, 1305, 1306, 1307, 1308, 1309, 1310, 1311, 1312, 1313, 1314, 1315, 1316, 1359, 1360, 1361, 1386, 1387, 1388, 1389, 1390, 1391, 1392, 1393, 1394, 1395, 1396, 1397, 1398, 1439, 1440, 1441, 1469, 1470, 1471, 1472, 1473, 1474, 1475, 1476, 1477, 1478, 1479, 1480, 1519, 1520, 1521, 1551, 1552, 1553, 1554, 1555, 1556, 1557, 1558, 1559, 1560, 1561, 1562, 1599, 1600, 1601, 1633, 1634, 1635, 1636, 1637, 1638, 1639, 1640, 1641, 1642, 1643, 1644, 1679, 1680, 1681, 1716, 1717, 1718, 1719, 1720, 1721, 1722, 1723, 1724, 1725, 1759, 1760, 1761, 1798, 1799, 1800, 1801, 1802, 1803, 1804, 1805, 1806, 1807, 1839, 1840, 1841, 1880, 1881, 1882, 1883, 1884, 1885, 1886, 1887, 1888, 1889, 1919, 1920, 1921, 1963, 1964, 1965, 1966, 1967, 1968, 1969, 1970, 1971, 1999, 2000, 2001, 2045, 2046, 2047, 2048, 2049, 2050, 2051, 2052, 2053, 2079, 2080, 2081, 2127, 2128, 2129, 2130, 2131, 2132, 2133, 2134, 2160, 2210, 2211, 2212, 2213, 2214, 2215, 2216, 2240, 2292, 2293, 2294, 2295, 2296, 2297, 2298, 2320, 2375, 2376, 2377, 2378, 2379, 2380, 2400, 2457, 2458, 2459, 2460, 2461, 2462, 2480, 2539, 2540, 2541, 2542, 2543, 2560, 2622, 2623, 2624, 2625, 2640, 2704, 2705, 2706, 2707, 2720, 2786, 2787, 2788, 2789, 2800, 2869, 2870, 2871, 2880, 2951, 2952, 2960, 3033, 3034, 3040, 3116, 3120, 3198, 3200, 3280, 3360, 3362, 3440, 3444, 3520, 3526, 3527, 3600, 3608, 3609, 3680, 3689, 3690, 3691, 3760, 3771, 3772, 3773, 3774, 3840, 3853, 3854, 3855, 3856, 3920, 3935, 3936, 3937, 3938, 4000, 4017, 4018, 4019, 4020, 4021, 4080, 4098, 4099, 4100, 4101, 4102, 4103, 4160, 4180, 4181, 4182, 4183, 4184, 4185, 4240, 4262, 4263, 4264, 4265, 4266, 4267, 4268, 4320, 4344, 4345, 4346, 4347, 4348, 4349, 4350, 4400, 4426, 4427, 4428, 4429, 4430, 4431, 4432, 4433, 4479, 4480, 4481, 4507, 4508, 4509, 4510, 4511, 4512, 4513, 4514, 4515, 4559, 4560, 4561, 4589, 4590, 4591, 4592, 4593, 4594, 4595, 4596, 4597, 4639, 4640, 4641, 4671, 4672, 4673, 4674, 4675, 4676, 4677, 4678, 4679, 4680, 4719, 4720, 4721, 4753, 4754, 4755, 4756, 4757, 4758, 4759, 4760, 4761, 4762, 4799, 4800, 4801, 4835, 4836, 4837, 4838, 4839, 4840, 4841, 4842, 4843, 4844, 4879, 4880, 4881, 4916, 4917, 4918, 4919, 4920, 4921, 4922, 4923, 4924, 4925, 4926, 4927, 4959, 4960, 4961, 4998, 4999, 5000, 5001, 5002, 5003, 5004, 5005, 5006, 5007, 5008, 5009, 5039, 5040, 5041, 5080, 5081, 5082, 5083, 5084, 5085, 5086, 5087, 5088, 5089, 5090, 5091, 5119, 5120, 5121, 5162, 5163, 5164, 5165, 5166, 5167, 5168, 5169, 5170, 5171, 5172, 5173, 5174, 5199, 5200, 5201, 5244, 5245, 5246, 5247, 5248, 5249, 5250, 5251, 5252, 5253, 5254, 5255, 5256, 5279, 5280, 5281, 5325, 5326, 5327, 5328, 5329, 5330, 5331, 5332, 5333, 5334, 5335, 5336, 5337, 5338, 5339, 5359, 5360, 5361, 5407, 5408, 5409, 5410, 5411, 5412, 5413, 5414, 5415, 5416, 5417, 5418, 5419, 5420, 5421, 5439, 5440, 5441, 5489, 5490, 5491, 5492, 5493, 5494, 5495, 5496, 5497, 5498, 5499, 5500, 5501, 5502, 5503, 5519, 5520, 5521, 5571, 5572, 5573, 5574, 5575, 5576, 5577, 5578, 5579, 5580, 5581, 5582, 5583, 5584, 5585, 5586, 5598, 5599, 5600, 5601, 5602, 5652, 5653, 5654, 5655, 5656, 5657, 5658, 5659, 5660, 5661, 5662, 5663, 5664, 5665, 5666, 5667, 5668, 5678, 5679, 5680, 5681, 5682, 5734, 5735, 5736, 5737, 5738, 5739, 5740, 5741, 5742, 5743, 5744, 5745, 5746, 5747, 5748, 5749, 5750, 5758, 5759, 5760, 5761, 5762, 5816, 5817, 5818, 5819, 5820, 5821, 5822, 5823, 5824, 5825, 5826, 5827, 5828, 5829, 5830, 5831, 5838, 5839, 5840, 5841, 5842, 5898, 5899, 5900, 5901, 5902, 5903, 5904, 5905, 5906, 5907, 5908, 5909, 5910, 5911, 5912, 5918, 5919, 5920, 5921, 5922, 5980, 5981, 5982, 5983, 5984, 5985, 5986, 5987, 5988, 5989, 5990, 5991, 5992, 5993, 5998, 5999, 6000, 6001, 6002, 6061, 6062, 6063, 6064, 6065, 6066, 6067, 6068, 6069, 6070, 6071, 6072, 6073, 6074, 6078, 6079, 6080, 6081, 6082, 6143, 6144, 6145, 6146, 6147, 6148, 6149, 6150, 6151, 6152, 6153, 6154, 6155, 6158, 6159, 6160, 6161, 6162, 6225, 6226, 6227, 6228, 6229, 6230, 6231, 6232, 6233, 6234, 6235, 6236, 6238, 6239, 6240, 6241, 6242, 6307, 6308, 6309, 6310, 6311, 6312, 6313, 6314, 6315, 6316, 6317, 6318, 6319, 6320, 6321, 6322, 6389, 6390, 6391, 6392, 6393, 6394, 6395, 6396, 6397, 6398, 6399, 6400, 6401, 6402, 6470, 6471, 6472, 6473, 6474, 6475, 6476, 6477, 6478, 6479, 6480, 6481, 6482, 6552, 6553, 6554, 6555, 6556, 6557, 6558, 6559, 6560]\n",
      "CPU times: user 142 ms, sys: 28 ms, total: 170 ms\n",
      "Wall time: 169 ms\n"
     ]
    }
   ],
   "source": [
    "%%time\n",
    "n_total = len(simulation.dataframe)\n",
    "n_train = len(simulation.dataframe[simulation.dataframe.type_of == \"train\"])\n",
    "n_val = len(simulation.dataframe[simulation.dataframe.type_of == \"val\"])\n",
    "n_test = len(simulation.dataframe[simulation.dataframe.type_of == \"test\"])\n",
    "n_train_hamiltonians = len(simulation.train_ids)\n",
    "n_val_hamiltonians = len(simulation.val_ids)\n",
    "n_test_hamiltonians = len(simulation.test_ids)\n",
    "n_total_hamiltonians = n_train_hamiltonians + n_val_hamiltonians + n_test_hamiltonians\n",
    "\n",
    "print(\"% train: \", n_train/n_total)\n",
    "print(\"% val: \",  n_val/n_total)\n",
    "print(\"% test: \", n_test/n_total)\n",
    "print(\"% train + val + test: \", (n_train+n_val+n_test)/n_total)\n",
    "print(\"\\n\")\n",
    "print(\"number of train hamiltonians: \", n_train_hamiltonians)\n",
    "print(\"number of val hamiltonians: \", n_val_hamiltonians)\n",
    "print(\"number of test hamiltonians: \", n_test_hamiltonians)\n",
    "print(\"total number of hamiltonians: \", n_total_hamiltonians)\n",
    "print(\"\\n\")\n",
    "print(\"train ids: \", simulation.train_ids)\n",
    "print(\"val ids: \", simulation.val_ids)\n",
    "print(\"test ids: \", simulation.test_ids)"
   ]
  },
  {
   "cell_type": "markdown",
   "metadata": {
    "papermill": {
     "duration": 0.035484,
     "end_time": "2020-07-09T17:19:02.165057",
     "exception": false,
     "start_time": "2020-07-09T17:19:02.129573",
     "status": "completed"
    },
    "tags": []
   },
   "source": [
    "#### Checking summaries"
   ]
  },
  {
   "cell_type": "code",
   "execution_count": 27,
   "metadata": {
    "execution": {
     "iopub.execute_input": "2020-07-09T17:19:02.237242Z",
     "iopub.status.busy": "2020-07-09T17:19:02.236931Z",
     "iopub.status.idle": "2020-07-09T17:19:02.255488Z",
     "shell.execute_reply": "2020-07-09T17:19:02.255173Z"
    },
    "papermill": {
     "duration": 0.0555,
     "end_time": "2020-07-09T17:19:02.255537",
     "exception": false,
     "start_time": "2020-07-09T17:19:02.200037",
     "status": "completed"
    },
    "tags": []
   },
   "outputs": [
    {
     "name": "stdout",
     "output_type": "stream",
     "text": [
      "length of ham_summary:  6561\n",
      "CPU times: user 367 µs, sys: 0 ns, total: 367 µs\n",
      "Wall time: 194 µs\n"
     ]
    },
    {
     "data": {
      "text/html": [
       "<div>\n",
       "<style scoped>\n",
       "    .dataframe tbody tr th:only-of-type {\n",
       "        vertical-align: middle;\n",
       "    }\n",
       "\n",
       "    .dataframe tbody tr th {\n",
       "        vertical-align: top;\n",
       "    }\n",
       "\n",
       "    .dataframe thead th {\n",
       "        text-align: right;\n",
       "    }\n",
       "</style>\n",
       "<table border=\"1\" class=\"dataframe\">\n",
       "  <thead>\n",
       "    <tr style=\"text-align: right;\">\n",
       "      <th></th>\n",
       "      <th>t1</th>\n",
       "      <th>t2</th>\n",
       "      <th>type_of</th>\n",
       "      <th>0</th>\n",
       "      <th>1</th>\n",
       "      <th>phase</th>\n",
       "      <th>pred_phase</th>\n",
       "    </tr>\n",
       "    <tr>\n",
       "      <th>id</th>\n",
       "      <th></th>\n",
       "      <th></th>\n",
       "      <th></th>\n",
       "      <th></th>\n",
       "      <th></th>\n",
       "      <th></th>\n",
       "      <th></th>\n",
       "    </tr>\n",
       "  </thead>\n",
       "  <tbody>\n",
       "    <tr>\n",
       "      <th>0</th>\n",
       "      <td>-2.0</td>\n",
       "      <td>-2.00</td>\n",
       "      <td>test</td>\n",
       "      <td>0.46</td>\n",
       "      <td>0.54</td>\n",
       "      <td>999</td>\n",
       "      <td>1</td>\n",
       "    </tr>\n",
       "    <tr>\n",
       "      <th>1</th>\n",
       "      <td>-2.0</td>\n",
       "      <td>-1.95</td>\n",
       "      <td>test</td>\n",
       "      <td>0.54</td>\n",
       "      <td>0.46</td>\n",
       "      <td>0</td>\n",
       "      <td>0</td>\n",
       "    </tr>\n",
       "    <tr>\n",
       "      <th>2</th>\n",
       "      <td>-2.0</td>\n",
       "      <td>-1.90</td>\n",
       "      <td>test</td>\n",
       "      <td>0.62</td>\n",
       "      <td>0.38</td>\n",
       "      <td>0</td>\n",
       "      <td>0</td>\n",
       "    </tr>\n",
       "    <tr>\n",
       "      <th>3</th>\n",
       "      <td>-2.0</td>\n",
       "      <td>-1.85</td>\n",
       "      <td>test</td>\n",
       "      <td>0.65</td>\n",
       "      <td>0.35</td>\n",
       "      <td>0</td>\n",
       "      <td>0</td>\n",
       "    </tr>\n",
       "    <tr>\n",
       "      <th>4</th>\n",
       "      <td>-2.0</td>\n",
       "      <td>-1.80</td>\n",
       "      <td>test</td>\n",
       "      <td>0.75</td>\n",
       "      <td>0.25</td>\n",
       "      <td>0</td>\n",
       "      <td>0</td>\n",
       "    </tr>\n",
       "    <tr>\n",
       "      <th>...</th>\n",
       "      <td>...</td>\n",
       "      <td>...</td>\n",
       "      <td>...</td>\n",
       "      <td>...</td>\n",
       "      <td>...</td>\n",
       "      <td>...</td>\n",
       "      <td>...</td>\n",
       "    </tr>\n",
       "    <tr>\n",
       "      <th>6556</th>\n",
       "      <td>2.0</td>\n",
       "      <td>1.80</td>\n",
       "      <td>test</td>\n",
       "      <td>0.80</td>\n",
       "      <td>0.20</td>\n",
       "      <td>0</td>\n",
       "      <td>0</td>\n",
       "    </tr>\n",
       "    <tr>\n",
       "      <th>6557</th>\n",
       "      <td>2.0</td>\n",
       "      <td>1.85</td>\n",
       "      <td>test</td>\n",
       "      <td>0.65</td>\n",
       "      <td>0.35</td>\n",
       "      <td>0</td>\n",
       "      <td>0</td>\n",
       "    </tr>\n",
       "    <tr>\n",
       "      <th>6558</th>\n",
       "      <td>2.0</td>\n",
       "      <td>1.90</td>\n",
       "      <td>test</td>\n",
       "      <td>0.63</td>\n",
       "      <td>0.37</td>\n",
       "      <td>0</td>\n",
       "      <td>0</td>\n",
       "    </tr>\n",
       "    <tr>\n",
       "      <th>6559</th>\n",
       "      <td>2.0</td>\n",
       "      <td>1.95</td>\n",
       "      <td>test</td>\n",
       "      <td>0.55</td>\n",
       "      <td>0.45</td>\n",
       "      <td>0</td>\n",
       "      <td>0</td>\n",
       "    </tr>\n",
       "    <tr>\n",
       "      <th>6560</th>\n",
       "      <td>2.0</td>\n",
       "      <td>2.00</td>\n",
       "      <td>test</td>\n",
       "      <td>0.54</td>\n",
       "      <td>0.46</td>\n",
       "      <td>999</td>\n",
       "      <td>0</td>\n",
       "    </tr>\n",
       "  </tbody>\n",
       "</table>\n",
       "<p>6561 rows × 7 columns</p>\n",
       "</div>"
      ],
      "text/plain": [
       "       t1    t2 type_of     0     1  phase  pred_phase\n",
       "id                                                    \n",
       "0    -2.0 -2.00    test  0.46  0.54    999           1\n",
       "1    -2.0 -1.95    test  0.54  0.46      0           0\n",
       "2    -2.0 -1.90    test  0.62  0.38      0           0\n",
       "3    -2.0 -1.85    test  0.65  0.35      0           0\n",
       "4    -2.0 -1.80    test  0.75  0.25      0           0\n",
       "...   ...   ...     ...   ...   ...    ...         ...\n",
       "6556  2.0  1.80    test  0.80  0.20      0           0\n",
       "6557  2.0  1.85    test  0.65  0.35      0           0\n",
       "6558  2.0  1.90    test  0.63  0.37      0           0\n",
       "6559  2.0  1.95    test  0.55  0.45      0           0\n",
       "6560  2.0  2.00    test  0.54  0.46    999           0\n",
       "\n",
       "[6561 rows x 7 columns]"
      ]
     },
     "execution_count": 27,
     "metadata": {},
     "output_type": "execute_result"
    }
   ],
   "source": [
    "%%time\n",
    "ham_summary = simulation.hamiltonian_summary\n",
    "print(\"length of ham_summary: \", len(ham_summary))\n",
    "ham_summary"
   ]
  },
  {
   "cell_type": "code",
   "execution_count": 28,
   "metadata": {
    "execution": {
     "iopub.execute_input": "2020-07-09T17:19:02.330157Z",
     "iopub.status.busy": "2020-07-09T17:19:02.329854Z",
     "iopub.status.idle": "2020-07-09T17:19:02.356681Z",
     "shell.execute_reply": "2020-07-09T17:19:02.356983Z"
    },
    "papermill": {
     "duration": 0.065055,
     "end_time": "2020-07-09T17:19:02.357048",
     "exception": false,
     "start_time": "2020-07-09T17:19:02.291993",
     "status": "completed"
    },
    "tags": []
   },
   "outputs": [
    {
     "data": {
      "text/html": [
       "<div>\n",
       "<style scoped>\n",
       "    .dataframe tbody tr th:only-of-type {\n",
       "        vertical-align: middle;\n",
       "    }\n",
       "\n",
       "    .dataframe tbody tr th {\n",
       "        vertical-align: top;\n",
       "    }\n",
       "\n",
       "    .dataframe thead th {\n",
       "        text-align: right;\n",
       "    }\n",
       "</style>\n",
       "<table border=\"1\" class=\"dataframe\">\n",
       "  <thead>\n",
       "    <tr style=\"text-align: right;\">\n",
       "      <th></th>\n",
       "      <th>t1</th>\n",
       "      <th>t2</th>\n",
       "      <th>0</th>\n",
       "      <th>1</th>\n",
       "      <th>phase</th>\n",
       "      <th>pred_phase</th>\n",
       "    </tr>\n",
       "  </thead>\n",
       "  <tbody>\n",
       "    <tr>\n",
       "      <th>count</th>\n",
       "      <td>6561.000000</td>\n",
       "      <td>6.561000e+03</td>\n",
       "      <td>6561.000000</td>\n",
       "      <td>6561.000000</td>\n",
       "      <td>6561.000000</td>\n",
       "      <td>6561.000000</td>\n",
       "    </tr>\n",
       "    <tr>\n",
       "      <th>mean</th>\n",
       "      <td>0.000000</td>\n",
       "      <td>-4.331917e-18</td>\n",
       "      <td>0.507548</td>\n",
       "      <td>0.492452</td>\n",
       "      <td>25.002134</td>\n",
       "      <td>0.516232</td>\n",
       "    </tr>\n",
       "    <tr>\n",
       "      <th>std</th>\n",
       "      <td>1.169134</td>\n",
       "      <td>1.169134e+00</td>\n",
       "      <td>0.441170</td>\n",
       "      <td>0.441170</td>\n",
       "      <td>154.495657</td>\n",
       "      <td>0.499775</td>\n",
       "    </tr>\n",
       "    <tr>\n",
       "      <th>min</th>\n",
       "      <td>-2.000000</td>\n",
       "      <td>-2.000000e+00</td>\n",
       "      <td>0.000000</td>\n",
       "      <td>0.000000</td>\n",
       "      <td>0.000000</td>\n",
       "      <td>0.000000</td>\n",
       "    </tr>\n",
       "    <tr>\n",
       "      <th>25%</th>\n",
       "      <td>-1.000000</td>\n",
       "      <td>-1.000000e+00</td>\n",
       "      <td>0.050000</td>\n",
       "      <td>0.010000</td>\n",
       "      <td>0.000000</td>\n",
       "      <td>0.000000</td>\n",
       "    </tr>\n",
       "    <tr>\n",
       "      <th>50%</th>\n",
       "      <td>0.000000</td>\n",
       "      <td>0.000000e+00</td>\n",
       "      <td>0.420000</td>\n",
       "      <td>0.580000</td>\n",
       "      <td>1.000000</td>\n",
       "      <td>1.000000</td>\n",
       "    </tr>\n",
       "    <tr>\n",
       "      <th>75%</th>\n",
       "      <td>1.000000</td>\n",
       "      <td>1.000000e+00</td>\n",
       "      <td>0.990000</td>\n",
       "      <td>0.950000</td>\n",
       "      <td>1.000000</td>\n",
       "      <td>1.000000</td>\n",
       "    </tr>\n",
       "    <tr>\n",
       "      <th>max</th>\n",
       "      <td>2.000000</td>\n",
       "      <td>2.000000e+00</td>\n",
       "      <td>1.000000</td>\n",
       "      <td>1.000000</td>\n",
       "      <td>999.000000</td>\n",
       "      <td>1.000000</td>\n",
       "    </tr>\n",
       "  </tbody>\n",
       "</table>\n",
       "</div>"
      ],
      "text/plain": [
       "                t1            t2            0            1        phase  \\\n",
       "count  6561.000000  6.561000e+03  6561.000000  6561.000000  6561.000000   \n",
       "mean      0.000000 -4.331917e-18     0.507548     0.492452    25.002134   \n",
       "std       1.169134  1.169134e+00     0.441170     0.441170   154.495657   \n",
       "min      -2.000000 -2.000000e+00     0.000000     0.000000     0.000000   \n",
       "25%      -1.000000 -1.000000e+00     0.050000     0.010000     0.000000   \n",
       "50%       0.000000  0.000000e+00     0.420000     0.580000     1.000000   \n",
       "75%       1.000000  1.000000e+00     0.990000     0.950000     1.000000   \n",
       "max       2.000000  2.000000e+00     1.000000     1.000000   999.000000   \n",
       "\n",
       "        pred_phase  \n",
       "count  6561.000000  \n",
       "mean      0.516232  \n",
       "std       0.499775  \n",
       "min       0.000000  \n",
       "25%       0.000000  \n",
       "50%       1.000000  \n",
       "75%       1.000000  \n",
       "max       1.000000  "
      ]
     },
     "execution_count": 28,
     "metadata": {},
     "output_type": "execute_result"
    }
   ],
   "source": [
    "ham_summary.describe()"
   ]
  },
  {
   "cell_type": "code",
   "execution_count": 29,
   "metadata": {
    "execution": {
     "iopub.execute_input": "2020-07-09T17:19:02.432550Z",
     "iopub.status.busy": "2020-07-09T17:19:02.432234Z",
     "iopub.status.idle": "2020-07-09T17:19:02.447120Z",
     "shell.execute_reply": "2020-07-09T17:19:02.446808Z"
    },
    "papermill": {
     "duration": 0.053308,
     "end_time": "2020-07-09T17:19:02.447170",
     "exception": false,
     "start_time": "2020-07-09T17:19:02.393862",
     "status": "completed"
    },
    "tags": []
   },
   "outputs": [
    {
     "name": "stdout",
     "output_type": "stream",
     "text": [
      "length of ham_summary:  656100\n"
     ]
    },
    {
     "data": {
      "text/html": [
       "<div>\n",
       "<style scoped>\n",
       "    .dataframe tbody tr th:only-of-type {\n",
       "        vertical-align: middle;\n",
       "    }\n",
       "\n",
       "    .dataframe tbody tr th {\n",
       "        vertical-align: top;\n",
       "    }\n",
       "\n",
       "    .dataframe thead th {\n",
       "        text-align: right;\n",
       "    }\n",
       "</style>\n",
       "<table border=\"1\" class=\"dataframe\">\n",
       "  <thead>\n",
       "    <tr style=\"text-align: right;\">\n",
       "      <th></th>\n",
       "      <th>id</th>\n",
       "      <th>phase</th>\n",
       "      <th>pred_phase</th>\n",
       "      <th>type_of</th>\n",
       "    </tr>\n",
       "  </thead>\n",
       "  <tbody>\n",
       "    <tr>\n",
       "      <th>0</th>\n",
       "      <td>0</td>\n",
       "      <td>999</td>\n",
       "      <td>0</td>\n",
       "      <td>test</td>\n",
       "    </tr>\n",
       "    <tr>\n",
       "      <th>1</th>\n",
       "      <td>0</td>\n",
       "      <td>999</td>\n",
       "      <td>1</td>\n",
       "      <td>test</td>\n",
       "    </tr>\n",
       "    <tr>\n",
       "      <th>2</th>\n",
       "      <td>0</td>\n",
       "      <td>999</td>\n",
       "      <td>1</td>\n",
       "      <td>test</td>\n",
       "    </tr>\n",
       "    <tr>\n",
       "      <th>3</th>\n",
       "      <td>0</td>\n",
       "      <td>999</td>\n",
       "      <td>0</td>\n",
       "      <td>test</td>\n",
       "    </tr>\n",
       "    <tr>\n",
       "      <th>4</th>\n",
       "      <td>0</td>\n",
       "      <td>999</td>\n",
       "      <td>0</td>\n",
       "      <td>test</td>\n",
       "    </tr>\n",
       "    <tr>\n",
       "      <th>...</th>\n",
       "      <td>...</td>\n",
       "      <td>...</td>\n",
       "      <td>...</td>\n",
       "      <td>...</td>\n",
       "    </tr>\n",
       "    <tr>\n",
       "      <th>656095</th>\n",
       "      <td>6560</td>\n",
       "      <td>999</td>\n",
       "      <td>0</td>\n",
       "      <td>test</td>\n",
       "    </tr>\n",
       "    <tr>\n",
       "      <th>656096</th>\n",
       "      <td>6560</td>\n",
       "      <td>999</td>\n",
       "      <td>1</td>\n",
       "      <td>test</td>\n",
       "    </tr>\n",
       "    <tr>\n",
       "      <th>656097</th>\n",
       "      <td>6560</td>\n",
       "      <td>999</td>\n",
       "      <td>1</td>\n",
       "      <td>test</td>\n",
       "    </tr>\n",
       "    <tr>\n",
       "      <th>656098</th>\n",
       "      <td>6560</td>\n",
       "      <td>999</td>\n",
       "      <td>0</td>\n",
       "      <td>test</td>\n",
       "    </tr>\n",
       "    <tr>\n",
       "      <th>656099</th>\n",
       "      <td>6560</td>\n",
       "      <td>999</td>\n",
       "      <td>0</td>\n",
       "      <td>test</td>\n",
       "    </tr>\n",
       "  </tbody>\n",
       "</table>\n",
       "<p>656100 rows × 4 columns</p>\n",
       "</div>"
      ],
      "text/plain": [
       "          id  phase  pred_phase type_of\n",
       "0          0    999           0    test\n",
       "1          0    999           1    test\n",
       "2          0    999           1    test\n",
       "3          0    999           0    test\n",
       "4          0    999           0    test\n",
       "...      ...    ...         ...     ...\n",
       "656095  6560    999           0    test\n",
       "656096  6560    999           1    test\n",
       "656097  6560    999           1    test\n",
       "656098  6560    999           0    test\n",
       "656099  6560    999           0    test\n",
       "\n",
       "[656100 rows x 4 columns]"
      ]
     },
     "execution_count": 29,
     "metadata": {},
     "output_type": "execute_result"
    }
   ],
   "source": [
    "eigen_summary = simulation.eigenvector_summary\n",
    "print(\"length of ham_summary: \", len(eigen_summary))\n",
    "eigen_summary"
   ]
  },
  {
   "cell_type": "markdown",
   "metadata": {
    "papermill": {
     "duration": 0.035898,
     "end_time": "2020-07-09T17:19:02.519345",
     "exception": false,
     "start_time": "2020-07-09T17:19:02.483447",
     "status": "completed"
    },
    "tags": []
   },
   "source": [
    "#### Checking accuracies"
   ]
  },
  {
   "cell_type": "code",
   "execution_count": 30,
   "metadata": {
    "execution": {
     "iopub.execute_input": "2020-07-09T17:19:02.594540Z",
     "iopub.status.busy": "2020-07-09T17:19:02.594233Z",
     "iopub.status.idle": "2020-07-09T17:19:02.605727Z",
     "shell.execute_reply": "2020-07-09T17:19:02.605410Z"
    },
    "papermill": {
     "duration": 0.049791,
     "end_time": "2020-07-09T17:19:02.605778",
     "exception": false,
     "start_time": "2020-07-09T17:19:02.555987",
     "status": "completed"
    },
    "tags": []
   },
   "outputs": [
    {
     "data": {
      "text/plain": [
       "{'eigenvector_train': 0.9748920863309353,\n",
       " 'eigenvector_val': 0.950286,\n",
       " 'eigenvector_test': 0.7676540284360189,\n",
       " 'hamiltonian_train': 0.9928057553956835,\n",
       " 'hamiltonian_val': 0.9848,\n",
       " 'hamiltonian_test': 0.9976303317535545}"
      ]
     },
     "execution_count": 30,
     "metadata": {},
     "output_type": "execute_result"
    }
   ],
   "source": [
    "simulation.accuracy"
   ]
  },
  {
   "cell_type": "markdown",
   "metadata": {
    "papermill": {
     "duration": 0.036336,
     "end_time": "2020-07-09T17:19:02.678435",
     "exception": false,
     "start_time": "2020-07-09T17:19:02.642099",
     "status": "completed"
    },
    "tags": []
   },
   "source": [
    "#### Checking data stored in  memory"
   ]
  },
  {
   "cell_type": "code",
   "execution_count": 31,
   "metadata": {
    "execution": {
     "iopub.execute_input": "2020-07-09T17:19:02.754278Z",
     "iopub.status.busy": "2020-07-09T17:19:02.753965Z",
     "iopub.status.idle": "2020-07-09T17:19:02.764345Z",
     "shell.execute_reply": "2020-07-09T17:19:02.764029Z"
    },
    "papermill": {
     "duration": 0.048967,
     "end_time": "2020-07-09T17:19:02.764402",
     "exception": false,
     "start_time": "2020-07-09T17:19:02.715435",
     "status": "completed"
    },
    "tags": []
   },
   "outputs": [
    {
     "data": {
      "text/plain": [
       "[]"
      ]
     },
     "execution_count": 31,
     "metadata": {},
     "output_type": "execute_result"
    }
   ],
   "source": [
    "ham_summary_list = simulation.hamiltonian_summary_list\n",
    "ham_summary_list"
   ]
  },
  {
   "cell_type": "code",
   "execution_count": 32,
   "metadata": {
    "execution": {
     "iopub.execute_input": "2020-07-09T17:19:02.838909Z",
     "iopub.status.busy": "2020-07-09T17:19:02.838603Z",
     "iopub.status.idle": "2020-07-09T17:19:02.848885Z",
     "shell.execute_reply": "2020-07-09T17:19:02.848574Z"
    },
    "papermill": {
     "duration": 0.048355,
     "end_time": "2020-07-09T17:19:02.848935",
     "exception": false,
     "start_time": "2020-07-09T17:19:02.800580",
     "status": "completed"
    },
    "tags": []
   },
   "outputs": [
    {
     "data": {
      "text/plain": [
       "[]"
      ]
     },
     "execution_count": 32,
     "metadata": {},
     "output_type": "execute_result"
    }
   ],
   "source": [
    "eigen_summary_list = simulation.eigenvector_summary_list\n",
    "eigen_summary_list"
   ]
  },
  {
   "cell_type": "code",
   "execution_count": 33,
   "metadata": {
    "execution": {
     "iopub.execute_input": "2020-07-09T17:19:02.925459Z",
     "iopub.status.busy": "2020-07-09T17:19:02.925153Z",
     "iopub.status.idle": "2020-07-09T17:19:02.936005Z",
     "shell.execute_reply": "2020-07-09T17:19:02.935668Z"
    },
    "papermill": {
     "duration": 0.049878,
     "end_time": "2020-07-09T17:19:02.936057",
     "exception": false,
     "start_time": "2020-07-09T17:19:02.886179",
     "status": "completed"
    },
    "tags": []
   },
   "outputs": [
    {
     "data": {
      "text/plain": [
       "{'eigenvector_train': [],\n",
       " 'eigenvector_val': [],\n",
       " 'eigenvector_test': [],\n",
       " 'hamiltonian_train': [],\n",
       " 'hamiltonian_val': [],\n",
       " 'hamiltonian_test': []}"
      ]
     },
     "execution_count": 33,
     "metadata": {},
     "output_type": "execute_result"
    }
   ],
   "source": [
    "accuracy_list = simulation.accuracy_list\n",
    "accuracy_list"
   ]
  },
  {
   "cell_type": "code",
   "execution_count": null,
   "metadata": {
    "papermill": {
     "duration": 0.036641,
     "end_time": "2020-07-09T17:19:03.009196",
     "exception": false,
     "start_time": "2020-07-09T17:19:02.972555",
     "status": "completed"
    },
    "tags": []
   },
   "outputs": [],
   "source": []
  },
  {
   "cell_type": "code",
   "execution_count": null,
   "metadata": {
    "papermill": {
     "duration": 0.038665,
     "end_time": "2020-07-09T17:19:03.085391",
     "exception": false,
     "start_time": "2020-07-09T17:19:03.046726",
     "status": "completed"
    },
    "tags": []
   },
   "outputs": [],
   "source": []
  },
  {
   "cell_type": "code",
   "execution_count": 34,
   "metadata": {
    "execution": {
     "iopub.execute_input": "2020-07-09T17:19:03.161353Z",
     "iopub.status.busy": "2020-07-09T17:19:03.161045Z",
     "iopub.status.idle": "2020-07-09T17:19:03.171224Z",
     "shell.execute_reply": "2020-07-09T17:19:03.170883Z"
    },
    "papermill": {
     "duration": 0.049186,
     "end_time": "2020-07-09T17:19:03.171276",
     "exception": false,
     "start_time": "2020-07-09T17:19:03.122090",
     "status": "completed"
    },
    "tags": []
   },
   "outputs": [],
   "source": [
    "#simulation.fourier_matrix"
   ]
  },
  {
   "cell_type": "code",
   "execution_count": 35,
   "metadata": {
    "execution": {
     "iopub.execute_input": "2020-07-09T17:19:03.248710Z",
     "iopub.status.busy": "2020-07-09T17:19:03.248403Z",
     "iopub.status.idle": "2020-07-09T17:19:03.258499Z",
     "shell.execute_reply": "2020-07-09T17:19:03.258157Z"
    },
    "papermill": {
     "duration": 0.049344,
     "end_time": "2020-07-09T17:19:03.258552",
     "exception": false,
     "start_time": "2020-07-09T17:19:03.209208",
     "status": "completed"
    },
    "tags": []
   },
   "outputs": [],
   "source": [
    "#simulation.fourier_matrix.shape"
   ]
  },
  {
   "cell_type": "code",
   "execution_count": 36,
   "metadata": {
    "execution": {
     "iopub.execute_input": "2020-07-09T17:19:03.334349Z",
     "iopub.status.busy": "2020-07-09T17:19:03.334010Z",
     "iopub.status.idle": "2020-07-09T17:19:03.343609Z",
     "shell.execute_reply": "2020-07-09T17:19:03.343925Z"
    },
    "papermill": {
     "duration": 0.048452,
     "end_time": "2020-07-09T17:19:03.343991",
     "exception": false,
     "start_time": "2020-07-09T17:19:03.295539",
     "status": "completed"
    },
    "tags": []
   },
   "outputs": [],
   "source": [
    "#simulation.fourier_matrix[:,0]"
   ]
  },
  {
   "cell_type": "code",
   "execution_count": 37,
   "metadata": {
    "execution": {
     "iopub.execute_input": "2020-07-09T17:19:03.421779Z",
     "iopub.status.busy": "2020-07-09T17:19:03.421470Z",
     "iopub.status.idle": "2020-07-09T17:19:03.431314Z",
     "shell.execute_reply": "2020-07-09T17:19:03.430988Z"
    },
    "papermill": {
     "duration": 0.0494,
     "end_time": "2020-07-09T17:19:03.431366",
     "exception": false,
     "start_time": "2020-07-09T17:19:03.381966",
     "status": "completed"
    },
    "tags": []
   },
   "outputs": [],
   "source": [
    "#simulation.fourier_matrix[:,1]"
   ]
  },
  {
   "cell_type": "code",
   "execution_count": 38,
   "metadata": {
    "execution": {
     "iopub.execute_input": "2020-07-09T17:19:03.508294Z",
     "iopub.status.busy": "2020-07-09T17:19:03.507953Z",
     "iopub.status.idle": "2020-07-09T17:19:03.517577Z",
     "shell.execute_reply": "2020-07-09T17:19:03.517224Z"
    },
    "papermill": {
     "duration": 0.04897,
     "end_time": "2020-07-09T17:19:03.517631",
     "exception": false,
     "start_time": "2020-07-09T17:19:03.468661",
     "status": "completed"
    },
    "tags": []
   },
   "outputs": [],
   "source": [
    "#np.exp(-1j*2*np.pi*3/100)"
   ]
  },
  {
   "cell_type": "code",
   "execution_count": 39,
   "metadata": {
    "execution": {
     "iopub.execute_input": "2020-07-09T17:19:03.598084Z",
     "iopub.status.busy": "2020-07-09T17:19:03.597771Z",
     "iopub.status.idle": "2020-07-09T17:19:03.607878Z",
     "shell.execute_reply": "2020-07-09T17:19:03.607538Z"
    },
    "papermill": {
     "duration": 0.052147,
     "end_time": "2020-07-09T17:19:03.607931",
     "exception": false,
     "start_time": "2020-07-09T17:19:03.555784",
     "status": "completed"
    },
    "tags": []
   },
   "outputs": [],
   "source": [
    "#for i in range(1,50):\n",
    "#    print(\"\\n\")\n",
    "#    print(i)\n",
    "#    print(np.sum((np.real(simulation.fourier_matrix[:,i]) - np.real(simulation.fourier_matrix[:,-i]))**2))\n",
    "#    print(np.sum((np.imag(simulation.fourier_matrix[:,i])+ np.imag(simulation.fourier_matrix[:,-i]))**2))"
   ]
  },
  {
   "cell_type": "code",
   "execution_count": 40,
   "metadata": {
    "execution": {
     "iopub.execute_input": "2020-07-09T17:19:03.684562Z",
     "iopub.status.busy": "2020-07-09T17:19:03.684236Z",
     "iopub.status.idle": "2020-07-09T17:19:03.707904Z",
     "shell.execute_reply": "2020-07-09T17:19:03.708219Z"
    },
    "papermill": {
     "duration": 0.063157,
     "end_time": "2020-07-09T17:19:03.708285",
     "exception": false,
     "start_time": "2020-07-09T17:19:03.645128",
     "status": "completed"
    },
    "tags": []
   },
   "outputs": [],
   "source": [
    "#print(simulation.fourier_matrix[:,0])"
   ]
  },
  {
   "cell_type": "code",
   "execution_count": 41,
   "metadata": {
    "execution": {
     "iopub.execute_input": "2020-07-09T17:19:03.787133Z",
     "iopub.status.busy": "2020-07-09T17:19:03.786818Z",
     "iopub.status.idle": "2020-07-09T17:19:03.796557Z",
     "shell.execute_reply": "2020-07-09T17:19:03.796226Z"
    },
    "papermill": {
     "duration": 0.050575,
     "end_time": "2020-07-09T17:19:03.796608",
     "exception": false,
     "start_time": "2020-07-09T17:19:03.746033",
     "status": "completed"
    },
    "tags": []
   },
   "outputs": [],
   "source": [
    "#print(simulation.fourier_matrix[:,50])"
   ]
  },
  {
   "cell_type": "code",
   "execution_count": null,
   "metadata": {
    "papermill": {
     "duration": 0.036544,
     "end_time": "2020-07-09T17:19:03.869777",
     "exception": false,
     "start_time": "2020-07-09T17:19:03.833233",
     "status": "completed"
    },
    "tags": []
   },
   "outputs": [],
   "source": []
  }
 ],
 "metadata": {
  "celltoolbar": "Tags",
  "kernelspec": {
   "display_name": "ml_top_phases",
   "language": "python",
   "name": "ml_top_phases"
  },
  "language_info": {
   "codemirror_mode": {
    "name": "ipython",
    "version": 3
   },
   "file_extension": ".py",
   "mimetype": "text/x-python",
   "name": "python",
   "nbconvert_exporter": "python",
   "pygments_lexer": "ipython3",
   "version": "3.6.10"
  },
  "papermill": {
   "duration": 226.622724,
   "end_time": "2020-07-09T17:19:04.018038",
   "environment_variables": {},
   "exception": null,
   "input_path": "0_simulation_template.ipynb",
   "output_path": "zzz_simulation_output_ssh1_1st_scenario_100_6561.ipynb",
   "parameters": {
    "allowed_windings": [
     0,
     1
    ],
    "csv_path": "/home/rio/ssh_csvs/ssh1/periodic_100_6561.csv",
    "features_to_use": [
     0,
     1,
     2,
     3,
     5,
     7,
     19,
     35,
     45,
     48,
     49,
     50
    ],
    "fit_params": null,
    "fourier_features_to_use": null,
    "fourier_fillna": null,
    "fourier_mode": null,
    "fourier_normalize": null,
    "fourier_real": null,
    "model_kw": {
     "criterion": "entropy"
    },
    "model_name": "DecisionTreeClassifier",
    "n_experiments": 100,
    "pred_params": null,
    "random_features": false,
    "random_state": 244854,
    "save_accuracy": true,
    "save_eigenvector": true,
    "save_hamiltonian": true,
    "save_models": true,
    "shuffle_features": false,
    "shuffle_rows": true,
    "simulation_dir": "/home/rio/ssh_simulations/ssh1/periodic_1st_scenario_100_6561",
    "start_n": 0,
    "store_in_lists": false,
    "val_split": 0.9
   },
   "start_time": "2020-07-09T17:15:17.395314",
   "version": "2.1.0"
  }
 },
 "nbformat": 4,
 "nbformat_minor": 2
}