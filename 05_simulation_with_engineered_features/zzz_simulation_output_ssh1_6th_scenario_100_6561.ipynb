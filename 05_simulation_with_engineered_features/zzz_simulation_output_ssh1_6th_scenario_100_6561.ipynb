{
 "cells": [
  {
   "cell_type": "markdown",
   "metadata": {
    "papermill": {
     "duration": 0.020723,
     "end_time": "2020-07-16T01:11:17.279911",
     "exception": false,
     "start_time": "2020-07-16T01:11:17.259188",
     "status": "completed"
    },
    "tags": []
   },
   "source": [
    "# Simulation template \n",
    "\n",
    "In this notebook we run the machine learning analysis of topological phase transitions occurring  in both nearest-neighbours SSH models (ssh1) and second neighbours models (ssh2) as decribed in the paper [Machine learning topological phases in real space](https://arxiv.org/abs/1901.01963). Here the simulation is run with features generated from fourier components in the first scenario. This scenario is characterized by using only the EVEN wavevector space eigenmodes, computed from ALL real space components."
   ]
  },
  {
   "cell_type": "markdown",
   "metadata": {
    "papermill": {
     "duration": 0.016028,
     "end_time": "2020-07-16T01:11:17.312892",
     "exception": false,
     "start_time": "2020-07-16T01:11:17.296864",
     "status": "completed"
    },
    "tags": []
   },
   "source": [
    "## Defining parameters"
   ]
  },
  {
   "cell_type": "code",
   "execution_count": 1,
   "metadata": {
    "execution": {
     "iopub.execute_input": "2020-07-16T01:11:17.349933Z",
     "iopub.status.busy": "2020-07-16T01:11:17.349599Z",
     "iopub.status.idle": "2020-07-16T01:11:17.936837Z",
     "shell.execute_reply": "2020-07-16T01:11:17.937092Z"
    },
    "papermill": {
     "duration": 0.607484,
     "end_time": "2020-07-16T01:11:17.937167",
     "exception": false,
     "start_time": "2020-07-16T01:11:17.329683",
     "status": "completed"
    },
    "tags": []
   },
   "outputs": [
    {
     "name": "stdout",
     "output_type": "stream",
     "text": [
      "CPU times: user 734 ms, sys: 283 ms, total: 1.02 s\n",
      "Wall time: 581 ms\n"
     ]
    }
   ],
   "source": [
    "%%time\n",
    "%load_ext autoreload\n",
    "%autoreload 2\n",
    "from simulation import *"
   ]
  },
  {
   "cell_type": "code",
   "execution_count": 2,
   "metadata": {
    "execution": {
     "iopub.execute_input": "2020-07-16T01:11:17.973016Z",
     "iopub.status.busy": "2020-07-16T01:11:17.972409Z",
     "iopub.status.idle": "2020-07-16T01:11:17.983822Z",
     "shell.execute_reply": "2020-07-16T01:11:17.983550Z"
    },
    "papermill": {
     "duration": 0.029916,
     "end_time": "2020-07-16T01:11:17.983877",
     "exception": false,
     "start_time": "2020-07-16T01:11:17.953961",
     "status": "completed"
    },
    "tags": [
     "parameters"
    ]
   },
   "outputs": [
    {
     "name": "stdout",
     "output_type": "stream",
     "text": [
      "CPU times: user 2 µs, sys: 1 µs, total: 3 µs\n",
      "Wall time: 4.77 µs\n"
     ]
    }
   ],
   "source": [
    "%%time\n",
    "### Dataset and simulation parameters\n",
    "#csv_path = SSH2_PERIODIC_100_6561_CSV \n",
    "csv_path = SSH1_PERIODIC_100_6561_CSV \n",
    "model_name = \"DecisionTreeClassifier\"\n",
    "model_kw = {\"criterion\":\"entropy\"}\n",
    "allowed_windings = [0,1]\n",
    "#allowed_windings = [-1,0,1,2]\n",
    "simulation_dir = SSH1_PERIODIC_1ST_SCENARIO_100_6561_SIMULATION_DIR\n",
    "#simulation_dir = SSH2_PERIODIC_ENGINEERED_100_6561_SIMULATION_DIR\n",
    "val_split = 0.9  \n",
    "features_to_use = None\n",
    "shuffle_features = False\n",
    "random_state = 763\n",
    "\n",
    "### Fourier features\n",
    "fourier_mode = \"dst\"\n",
    "fourier_features_to_use = None\n",
    "fourier_real = \"imag\"\n",
    "fourier_normalize = False\n",
    "fourier_fillna = False\n",
    "\n",
    "### Running a simulation\n",
    "n_experiments = 5\n",
    "start_n = 0\n",
    "fit_params = None\n",
    "#mode=mode\n",
    "shuffle_rows = True\n",
    "pred_params = None\n",
    "random_features = False\n",
    "######### DON'T SET THIS TO TRUE UNLESS YOUR DATASET IS SMALL!! WILL FLOOD YOUR MEMORY!!!\n",
    "store_in_lists = False   \n",
    "########## BELOW ARE THE PARAMETERS THAT CONTROL WHAT WILL BE SAVED\n",
    "save_eigenvector=True\n",
    "save_hamiltonian=True \n",
    "save_accuracy=True \n",
    "save_models=True"
   ]
  },
  {
   "cell_type": "code",
   "execution_count": 3,
   "metadata": {
    "execution": {
     "iopub.execute_input": "2020-07-16T01:11:18.021358Z",
     "iopub.status.busy": "2020-07-16T01:11:18.021043Z",
     "iopub.status.idle": "2020-07-16T01:11:18.107051Z",
     "shell.execute_reply": "2020-07-16T01:11:18.105286Z"
    },
    "papermill": {
     "duration": 0.10577,
     "end_time": "2020-07-16T01:11:18.107306",
     "exception": false,
     "start_time": "2020-07-16T01:11:18.001536",
     "status": "completed"
    },
    "tags": [
     "injected-parameters"
    ]
   },
   "outputs": [],
   "source": [
    "# Parameters\n",
    "model_kw = {\"criterion\": \"entropy\"}\n",
    "allowed_windings = [0, 1]\n",
    "val_split = 0.9\n",
    "features_to_use = None\n",
    "shuffle_features = False\n",
    "n_experiments = 100\n",
    "start_n = 0\n",
    "fit_params = None\n",
    "shuffle_rows = True\n",
    "pred_params = None\n",
    "random_features = False\n",
    "store_in_lists = False\n",
    "save_eigenvector = True\n",
    "save_hamiltonian = True\n",
    "save_accuracy = True\n",
    "save_models = True\n",
    "csv_path = \"/home/rio/ssh_csvs/ssh1/periodic_100_6561.csv\"\n",
    "model_name = \"DecisionTreeClassifier\"\n",
    "simulation_dir = \"/home/rio/ssh_simulations/ssh1/periodic_6th_scenario_100_6561\"\n",
    "random_state = 324398476\n",
    "fourier_features_to_use = None\n",
    "fourier_mode = \"dst\"\n",
    "fourier_real = \"imag\"\n",
    "fourier_normalize = False\n",
    "fourier_fillna = False\n"
   ]
  },
  {
   "cell_type": "code",
   "execution_count": 4,
   "metadata": {
    "execution": {
     "iopub.execute_input": "2020-07-16T01:11:18.183934Z",
     "iopub.status.busy": "2020-07-16T01:11:18.183577Z",
     "iopub.status.idle": "2020-07-16T01:11:24.591789Z",
     "shell.execute_reply": "2020-07-16T01:11:24.591467Z"
    },
    "papermill": {
     "duration": 6.428247,
     "end_time": "2020-07-16T01:11:24.591842",
     "exception": false,
     "start_time": "2020-07-16T01:11:18.163595",
     "status": "completed"
    },
    "tags": []
   },
   "outputs": [
    {
     "name": "stdout",
     "output_type": "stream",
     "text": [
      "Info on all data: \n",
      "\n",
      "<class 'pandas.core.frame.DataFrame'>\n",
      "Int64Index: 656100 entries, 0 to 656099\n",
      "Columns: 108 entries, id to feat99\n",
      "dtypes: float64(103), int32(3), object(2)\n",
      "memory usage: 538.1+ MB\n",
      "CPU times: user 6.93 s, sys: 901 ms, total: 7.83 s\n",
      "Wall time: 6.38 s\n"
     ]
    },
    {
     "data": {
      "text/html": [
       "<div>\n",
       "<style scoped>\n",
       "    .dataframe tbody tr th:only-of-type {\n",
       "        vertical-align: middle;\n",
       "    }\n",
       "\n",
       "    .dataframe tbody tr th {\n",
       "        vertical-align: top;\n",
       "    }\n",
       "\n",
       "    .dataframe thead th {\n",
       "        text-align: right;\n",
       "    }\n",
       "</style>\n",
       "<table border=\"1\" class=\"dataframe\">\n",
       "  <thead>\n",
       "    <tr style=\"text-align: right;\">\n",
       "      <th></th>\n",
       "      <th>id</th>\n",
       "      <th>path</th>\n",
       "      <th>t1</th>\n",
       "      <th>t2</th>\n",
       "      <th>winding</th>\n",
       "      <th>phase</th>\n",
       "      <th>pred_phase</th>\n",
       "      <th>type_of</th>\n",
       "      <th>feat0</th>\n",
       "      <th>feat1</th>\n",
       "      <th>...</th>\n",
       "      <th>feat90</th>\n",
       "      <th>feat91</th>\n",
       "      <th>feat92</th>\n",
       "      <th>feat93</th>\n",
       "      <th>feat94</th>\n",
       "      <th>feat95</th>\n",
       "      <th>feat96</th>\n",
       "      <th>feat97</th>\n",
       "      <th>feat98</th>\n",
       "      <th>feat99</th>\n",
       "    </tr>\n",
       "  </thead>\n",
       "  <tbody>\n",
       "    <tr>\n",
       "      <th>0</th>\n",
       "      <td>0</td>\n",
       "      <td>H_-2_-2_0.509296.dat</td>\n",
       "      <td>-2.0</td>\n",
       "      <td>-2.0</td>\n",
       "      <td>0.509296</td>\n",
       "      <td>999</td>\n",
       "      <td>666</td>\n",
       "      <td>test</td>\n",
       "      <td>0.100000</td>\n",
       "      <td>0.100000</td>\n",
       "      <td>...</td>\n",
       "      <td>0.100000</td>\n",
       "      <td>0.100000</td>\n",
       "      <td>0.100000</td>\n",
       "      <td>0.100000</td>\n",
       "      <td>0.100000</td>\n",
       "      <td>0.100000</td>\n",
       "      <td>0.100000</td>\n",
       "      <td>0.100000</td>\n",
       "      <td>0.100000</td>\n",
       "      <td>0.100000</td>\n",
       "    </tr>\n",
       "    <tr>\n",
       "      <th>1</th>\n",
       "      <td>0</td>\n",
       "      <td>H_-2_-2_0.509296.dat</td>\n",
       "      <td>-2.0</td>\n",
       "      <td>-2.0</td>\n",
       "      <td>0.509296</td>\n",
       "      <td>999</td>\n",
       "      <td>666</td>\n",
       "      <td>test</td>\n",
       "      <td>0.141421</td>\n",
       "      <td>0.141142</td>\n",
       "      <td>...</td>\n",
       "      <td>0.114412</td>\n",
       "      <td>0.108967</td>\n",
       "      <td>0.123928</td>\n",
       "      <td>0.119406</td>\n",
       "      <td>0.131490</td>\n",
       "      <td>0.127962</td>\n",
       "      <td>0.136978</td>\n",
       "      <td>0.134500</td>\n",
       "      <td>0.140306</td>\n",
       "      <td>0.138916</td>\n",
       "    </tr>\n",
       "    <tr>\n",
       "      <th>2</th>\n",
       "      <td>0</td>\n",
       "      <td>H_-2_-2_0.509296.dat</td>\n",
       "      <td>-2.0</td>\n",
       "      <td>-2.0</td>\n",
       "      <td>0.509296</td>\n",
       "      <td>999</td>\n",
       "      <td>666</td>\n",
       "      <td>test</td>\n",
       "      <td>0.141421</td>\n",
       "      <td>0.140306</td>\n",
       "      <td>...</td>\n",
       "      <td>0.043702</td>\n",
       "      <td>0.026500</td>\n",
       "      <td>0.075777</td>\n",
       "      <td>0.060214</td>\n",
       "      <td>0.103092</td>\n",
       "      <td>0.090145</td>\n",
       "      <td>0.123928</td>\n",
       "      <td>0.114412</td>\n",
       "      <td>0.136978</td>\n",
       "      <td>0.131490</td>\n",
       "    </tr>\n",
       "    <tr>\n",
       "      <th>3</th>\n",
       "      <td>0</td>\n",
       "      <td>H_-2_-2_0.509296.dat</td>\n",
       "      <td>-2.0</td>\n",
       "      <td>-2.0</td>\n",
       "      <td>0.509296</td>\n",
       "      <td>999</td>\n",
       "      <td>666</td>\n",
       "      <td>test</td>\n",
       "      <td>-0.100000</td>\n",
       "      <td>0.100000</td>\n",
       "      <td>...</td>\n",
       "      <td>-0.100000</td>\n",
       "      <td>0.100000</td>\n",
       "      <td>-0.100000</td>\n",
       "      <td>0.100000</td>\n",
       "      <td>-0.100000</td>\n",
       "      <td>0.100000</td>\n",
       "      <td>-0.100000</td>\n",
       "      <td>0.100000</td>\n",
       "      <td>-0.100000</td>\n",
       "      <td>0.100000</td>\n",
       "    </tr>\n",
       "    <tr>\n",
       "      <th>4</th>\n",
       "      <td>0</td>\n",
       "      <td>H_-2_-2_0.509296.dat</td>\n",
       "      <td>-2.0</td>\n",
       "      <td>-2.0</td>\n",
       "      <td>0.509296</td>\n",
       "      <td>999</td>\n",
       "      <td>666</td>\n",
       "      <td>test</td>\n",
       "      <td>0.000509</td>\n",
       "      <td>-0.008372</td>\n",
       "      <td>...</td>\n",
       "      <td>-0.082713</td>\n",
       "      <td>-0.089753</td>\n",
       "      <td>-0.067684</td>\n",
       "      <td>-0.075347</td>\n",
       "      <td>-0.051587</td>\n",
       "      <td>-0.059753</td>\n",
       "      <td>-0.034677</td>\n",
       "      <td>-0.043217</td>\n",
       "      <td>-0.017220</td>\n",
       "      <td>-0.026000</td>\n",
       "    </tr>\n",
       "  </tbody>\n",
       "</table>\n",
       "<p>5 rows × 108 columns</p>\n",
       "</div>"
      ],
      "text/plain": [
       "   id                  path   t1   t2   winding  phase  pred_phase type_of  \\\n",
       "0   0  H_-2_-2_0.509296.dat -2.0 -2.0  0.509296    999         666    test   \n",
       "1   0  H_-2_-2_0.509296.dat -2.0 -2.0  0.509296    999         666    test   \n",
       "2   0  H_-2_-2_0.509296.dat -2.0 -2.0  0.509296    999         666    test   \n",
       "3   0  H_-2_-2_0.509296.dat -2.0 -2.0  0.509296    999         666    test   \n",
       "4   0  H_-2_-2_0.509296.dat -2.0 -2.0  0.509296    999         666    test   \n",
       "\n",
       "      feat0     feat1  ...    feat90    feat91    feat92    feat93    feat94  \\\n",
       "0  0.100000  0.100000  ...  0.100000  0.100000  0.100000  0.100000  0.100000   \n",
       "1  0.141421  0.141142  ...  0.114412  0.108967  0.123928  0.119406  0.131490   \n",
       "2  0.141421  0.140306  ...  0.043702  0.026500  0.075777  0.060214  0.103092   \n",
       "3 -0.100000  0.100000  ... -0.100000  0.100000 -0.100000  0.100000 -0.100000   \n",
       "4  0.000509 -0.008372  ... -0.082713 -0.089753 -0.067684 -0.075347 -0.051587   \n",
       "\n",
       "     feat95    feat96    feat97    feat98    feat99  \n",
       "0  0.100000  0.100000  0.100000  0.100000  0.100000  \n",
       "1  0.127962  0.136978  0.134500  0.140306  0.138916  \n",
       "2  0.090145  0.123928  0.114412  0.136978  0.131490  \n",
       "3  0.100000 -0.100000  0.100000 -0.100000  0.100000  \n",
       "4 -0.059753 -0.034677 -0.043217 -0.017220 -0.026000  \n",
       "\n",
       "[5 rows x 108 columns]"
      ]
     },
     "execution_count": 4,
     "metadata": {},
     "output_type": "execute_result"
    }
   ],
   "source": [
    "%%time\n",
    "#Starting an instance of Simulation with a decision tree\n",
    "model = DecisionTreeClassifier(criterion=\"entropy\")\n",
    "#dict_args = {\"csv_path\":csv_path, \"model\":model, \"allowed_windings\":allowed_windings,\\\n",
    "#             \"simulation_dir\":simulation_dir, \"val_split\":val_split, \"features_to_use\":features_to_use,\\\n",
    "#            \"shuffle_features\":shuffle_features, \"random_state\":random_state}\n",
    "simulation = Simulation(csv_path,model_name,model_kw,allowed_windings,simulation_dir,val_split,features_to_use,\\\n",
    "                       shuffle_features,fourier_mode,fourier_features_to_use,fourier_real,\\\n",
    "                       fourier_normalize, fourier_fillna , random_state)\n",
    "#simulation = Simulation(**dict_args)\n",
    "\n",
    "\n",
    "#(self, csv_path, model_name, model_kw, allowed_windings, simulation_dir = None, val_split = 0, \n",
    "# features_to_use = None, shuffle_features = False, fourier_mode=None, fourier_features_to_use=None,\n",
    "# fourier_real = False, fourier_normalize = False, Fourier_fillna=False, random_state = None):\n",
    "\n",
    "\n",
    "\n",
    "print(\"Info on all data: \\n\")\n",
    "simulation.dataframe.info()\n",
    "simulation.dataframe.head()"
   ]
  },
  {
   "cell_type": "markdown",
   "metadata": {
    "papermill": {
     "duration": 0.017338,
     "end_time": "2020-07-16T01:11:24.626745",
     "exception": false,
     "start_time": "2020-07-16T01:11:24.609407",
     "status": "completed"
    },
    "tags": []
   },
   "source": [
    "####  Fourier features"
   ]
  },
  {
   "cell_type": "code",
   "execution_count": 5,
   "metadata": {
    "execution": {
     "iopub.execute_input": "2020-07-16T01:11:24.662160Z",
     "iopub.status.busy": "2020-07-16T01:11:24.661849Z",
     "iopub.status.idle": "2020-07-16T01:11:24.855474Z",
     "shell.execute_reply": "2020-07-16T01:11:24.855153Z"
    },
    "papermill": {
     "duration": 0.212095,
     "end_time": "2020-07-16T01:11:24.855526",
     "exception": false,
     "start_time": "2020-07-16T01:11:24.643431",
     "status": "completed"
    },
    "tags": []
   },
   "outputs": [
    {
     "name": "stdout",
     "output_type": "stream",
     "text": [
      "<class 'pandas.core.frame.DataFrame'>\n",
      "Int64Index: 656100 entries, 0 to 656099\n",
      "Data columns (total 57 columns):\n",
      " #   Column      Non-Null Count   Dtype  \n",
      "---  ------      --------------   -----  \n",
      " 0   id          656100 non-null  int32  \n",
      " 1   path        656100 non-null  object \n",
      " 2   t1          656100 non-null  float64\n",
      " 3   t2          656100 non-null  float64\n",
      " 4   winding     656100 non-null  float64\n",
      " 5   phase       656100 non-null  int32  \n",
      " 6   pred_phase  656100 non-null  int32  \n",
      " 7   type_of     656100 non-null  object \n",
      " 8   dst_feat0   656100 non-null  float64\n",
      " 9   dst_feat1   656100 non-null  float64\n",
      " 10  dst_feat2   656100 non-null  float64\n",
      " 11  dst_feat3   656100 non-null  float64\n",
      " 12  dst_feat4   656100 non-null  float64\n",
      " 13  dst_feat5   656100 non-null  float64\n",
      " 14  dst_feat6   656100 non-null  float64\n",
      " 15  dst_feat7   656100 non-null  float64\n",
      " 16  dst_feat8   656100 non-null  float64\n",
      " 17  dst_feat9   656100 non-null  float64\n",
      " 18  dst_feat10  656100 non-null  float64\n",
      " 19  dst_feat11  656100 non-null  float64\n",
      " 20  dst_feat12  656100 non-null  float64\n",
      " 21  dst_feat13  656100 non-null  float64\n",
      " 22  dst_feat14  656100 non-null  float64\n",
      " 23  dst_feat15  656100 non-null  float64\n",
      " 24  dst_feat16  656100 non-null  float64\n",
      " 25  dst_feat17  656100 non-null  float64\n",
      " 26  dst_feat18  656100 non-null  float64\n",
      " 27  dst_feat19  656100 non-null  float64\n",
      " 28  dst_feat20  656100 non-null  float64\n",
      " 29  dst_feat21  656100 non-null  float64\n",
      " 30  dst_feat22  656100 non-null  float64\n",
      " 31  dst_feat23  656100 non-null  float64\n",
      " 32  dst_feat24  656100 non-null  float64\n",
      " 33  dst_feat25  656100 non-null  float64\n",
      " 34  dst_feat26  656100 non-null  float64\n",
      " 35  dst_feat27  656100 non-null  float64\n",
      " 36  dst_feat28  656100 non-null  float64\n",
      " 37  dst_feat29  656100 non-null  float64\n",
      " 38  dst_feat30  656100 non-null  float64\n",
      " 39  dst_feat31  656100 non-null  float64\n",
      " 40  dst_feat32  656100 non-null  float64\n",
      " 41  dst_feat33  656100 non-null  float64\n",
      " 42  dst_feat34  656100 non-null  float64\n",
      " 43  dst_feat35  656100 non-null  float64\n",
      " 44  dst_feat36  656100 non-null  float64\n",
      " 45  dst_feat37  656100 non-null  float64\n",
      " 46  dst_feat38  656100 non-null  float64\n",
      " 47  dst_feat39  656100 non-null  float64\n",
      " 48  dst_feat40  656100 non-null  float64\n",
      " 49  dst_feat41  656100 non-null  float64\n",
      " 50  dst_feat42  656100 non-null  float64\n",
      " 51  dst_feat43  656100 non-null  float64\n",
      " 52  dst_feat44  656100 non-null  float64\n",
      " 53  dst_feat45  656100 non-null  float64\n",
      " 54  dst_feat46  656100 non-null  float64\n",
      " 55  dst_feat47  656100 non-null  float64\n",
      " 56  dst_feat48  656100 non-null  float64\n",
      "dtypes: float64(52), int32(3), object(2)\n",
      "memory usage: 282.8+ MB\n",
      "CPU times: user 156 ms, sys: 28 ms, total: 184 ms\n",
      "Wall time: 183 ms\n"
     ]
    }
   ],
   "source": [
    "%%time\n",
    "#simulation.generate_fourier_df()\n",
    "if simulation.fourier_mode is not None:\n",
    "    simulation.fourier_dataframe.info() \n",
    "    simulation.fourier_dataframe.sample(15)\n"
   ]
  },
  {
   "cell_type": "code",
   "execution_count": 6,
   "metadata": {
    "execution": {
     "iopub.execute_input": "2020-07-16T01:11:24.894042Z",
     "iopub.status.busy": "2020-07-16T01:11:24.893722Z",
     "iopub.status.idle": "2020-07-16T01:11:24.905674Z",
     "shell.execute_reply": "2020-07-16T01:11:24.905400Z"
    },
    "papermill": {
     "duration": 0.032331,
     "end_time": "2020-07-16T01:11:24.905728",
     "exception": false,
     "start_time": "2020-07-16T01:11:24.873397",
     "status": "completed"
    },
    "tags": []
   },
   "outputs": [
    {
     "name": "stdout",
     "output_type": "stream",
     "text": [
      "features_to_use: \n",
      "\n",
      "\n",
      "None\n",
      "\n",
      "\n",
      "fourier_features: \n",
      "\n",
      "\n",
      "['dst_feat0', 'dst_feat1', 'dst_feat2', 'dst_feat3', 'dst_feat4', 'dst_feat5', 'dst_feat6', 'dst_feat7', 'dst_feat8', 'dst_feat9', 'dst_feat10', 'dst_feat11', 'dst_feat12', 'dst_feat13', 'dst_feat14', 'dst_feat15', 'dst_feat16', 'dst_feat17', 'dst_feat18', 'dst_feat19', 'dst_feat20', 'dst_feat21', 'dst_feat22', 'dst_feat23', 'dst_feat24', 'dst_feat25', 'dst_feat26', 'dst_feat27', 'dst_feat28', 'dst_feat29', 'dst_feat30', 'dst_feat31', 'dst_feat32', 'dst_feat33', 'dst_feat34', 'dst_feat35', 'dst_feat36', 'dst_feat37', 'dst_feat38', 'dst_feat39', 'dst_feat40', 'dst_feat41', 'dst_feat42', 'dst_feat43', 'dst_feat44', 'dst_feat45', 'dst_feat46', 'dst_feat47', 'dst_feat48']\n",
      "\n",
      "\n",
      "Number of Fourier features: \n",
      "\n",
      "\n",
      "49\n",
      "\n",
      "\n",
      "Fourier operator: \n",
      "[[ 0.+0.12558104j  0.+0.25066647j  0.+0.37476263j ...  0.+0.37476263j\n",
      "   0.+0.25066647j  0.+0.12558104j]\n",
      " [ 0.+0.25066647j  0.+0.49737977j  0.+0.73624911j ... -0.-0.73624911j\n",
      "  -0.-0.49737977j -0.-0.25066647j]\n",
      " [ 0.+0.37476263j  0.+0.73624911j  0.+1.07165359j ...  0.+1.07165359j\n",
      "   0.+0.73624911j  0.+0.37476263j]\n",
      " ...\n",
      " [ 0.+0.37476263j -0.-0.73624911j  0.+1.07165359j ...  0.+1.07165359j\n",
      "  -0.-0.73624911j  0.+0.37476263j]\n",
      " [ 0.+0.25066647j -0.-0.49737977j  0.+0.73624911j ... -0.-0.73624911j\n",
      "   0.+0.49737977j -0.-0.25066647j]\n",
      " [ 0.+0.12558104j -0.-0.25066647j  0.+0.37476263j ...  0.+0.37476263j\n",
      "  -0.-0.25066647j  0.+0.12558104j]]\n",
      "\n",
      "\n",
      "Shape of Fourier operator: \n",
      "(49, 49)\n"
     ]
    }
   ],
   "source": [
    "print(\"features_to_use: \")\n",
    "print(\"\\n\")\n",
    "print(simulation.features_to_use)\n",
    "if simulation.features_to_use is not None:\n",
    "    print(\"Number of real space features:\")\n",
    "    print(\"\\n\")\n",
    "    print(len(simulation.features_to_use))\n",
    "print(\"\\n\")\n",
    "print(\"fourier_features: \")\n",
    "print(\"\\n\")\n",
    "print(simulation.fourier_features)\n",
    "print(\"\\n\")\n",
    "if simulation.fourier_features is not None:\n",
    "    print(\"Number of Fourier features: \")\n",
    "    print(\"\\n\")\n",
    "    print(len(simulation.fourier_features))\n",
    "print(\"\\n\")\n",
    "print(\"Fourier operator: \")\n",
    "print(simulation.fourier_operator)\n",
    "print(\"\\n\")\n",
    "if simulation.fourier_operator is not None:\n",
    "    print(\"Shape of Fourier operator: \")\n",
    "    print(simulation.fourier_operator.shape)"
   ]
  },
  {
   "cell_type": "code",
   "execution_count": 7,
   "metadata": {
    "execution": {
     "iopub.execute_input": "2020-07-16T01:11:24.941352Z",
     "iopub.status.busy": "2020-07-16T01:11:24.941045Z",
     "iopub.status.idle": "2020-07-16T01:11:25.012884Z",
     "shell.execute_reply": "2020-07-16T01:11:25.012069Z"
    },
    "papermill": {
     "duration": 0.090193,
     "end_time": "2020-07-16T01:11:25.013009",
     "exception": false,
     "start_time": "2020-07-16T01:11:24.922816",
     "status": "completed"
    },
    "tags": []
   },
   "outputs": [],
   "source": [
    "#a = np.array([1+1j,2+3j,4+8j])\n",
    "#np.imag(a)"
   ]
  },
  {
   "cell_type": "code",
   "execution_count": 8,
   "metadata": {
    "execution": {
     "iopub.execute_input": "2020-07-16T01:11:25.081410Z",
     "iopub.status.busy": "2020-07-16T01:11:25.081104Z",
     "iopub.status.idle": "2020-07-16T01:11:25.090590Z",
     "shell.execute_reply": "2020-07-16T01:11:25.090315Z"
    },
    "papermill": {
     "duration": 0.032555,
     "end_time": "2020-07-16T01:11:25.090645",
     "exception": false,
     "start_time": "2020-07-16T01:11:25.058090",
     "status": "completed"
    },
    "tags": []
   },
   "outputs": [],
   "source": [
    "#plt.plot(np.imag(simulation.fourier_operator[:,0]))"
   ]
  },
  {
   "cell_type": "code",
   "execution_count": 9,
   "metadata": {
    "execution": {
     "iopub.execute_input": "2020-07-16T01:11:25.126720Z",
     "iopub.status.busy": "2020-07-16T01:11:25.126415Z",
     "iopub.status.idle": "2020-07-16T01:11:25.178850Z",
     "shell.execute_reply": "2020-07-16T01:11:25.179238Z"
    },
    "papermill": {
     "duration": 0.071671,
     "end_time": "2020-07-16T01:11:25.179338",
     "exception": false,
     "start_time": "2020-07-16T01:11:25.107667",
     "status": "completed"
    },
    "tags": []
   },
   "outputs": [],
   "source": [
    "#np.sin(np.pi/(50))*2"
   ]
  },
  {
   "cell_type": "code",
   "execution_count": 10,
   "metadata": {
    "execution": {
     "iopub.execute_input": "2020-07-16T01:11:25.231945Z",
     "iopub.status.busy": "2020-07-16T01:11:25.231632Z",
     "iopub.status.idle": "2020-07-16T01:11:25.241360Z",
     "shell.execute_reply": "2020-07-16T01:11:25.241036Z"
    },
    "papermill": {
     "duration": 0.032257,
     "end_time": "2020-07-16T01:11:25.241413",
     "exception": false,
     "start_time": "2020-07-16T01:11:25.209156",
     "status": "completed"
    },
    "tags": []
   },
   "outputs": [],
   "source": [
    "#2*np.sin(np.pi/50*49)"
   ]
  },
  {
   "cell_type": "code",
   "execution_count": 11,
   "metadata": {
    "execution": {
     "iopub.execute_input": "2020-07-16T01:11:25.277629Z",
     "iopub.status.busy": "2020-07-16T01:11:25.277320Z",
     "iopub.status.idle": "2020-07-16T01:11:25.346451Z",
     "shell.execute_reply": "2020-07-16T01:11:25.345847Z"
    },
    "papermill": {
     "duration": 0.087837,
     "end_time": "2020-07-16T01:11:25.346543",
     "exception": false,
     "start_time": "2020-07-16T01:11:25.258706",
     "status": "completed"
    },
    "tags": []
   },
   "outputs": [],
   "source": [
    "#simulation.dataframe.iloc[331456,:]"
   ]
  },
  {
   "cell_type": "code",
   "execution_count": 12,
   "metadata": {
    "execution": {
     "iopub.execute_input": "2020-07-16T01:11:25.396016Z",
     "iopub.status.busy": "2020-07-16T01:11:25.395709Z",
     "iopub.status.idle": "2020-07-16T01:11:25.407344Z",
     "shell.execute_reply": "2020-07-16T01:11:25.407021Z"
    },
    "papermill": {
     "duration": 0.03111,
     "end_time": "2020-07-16T01:11:25.407398",
     "exception": false,
     "start_time": "2020-07-16T01:11:25.376288",
     "status": "completed"
    },
    "tags": []
   },
   "outputs": [],
   "source": [
    "#for ix, obj in enumerate(simulation.dataframe.iloc[331456,:].values):\n",
    "#    print(ix,obj)"
   ]
  },
  {
   "cell_type": "code",
   "execution_count": 13,
   "metadata": {
    "execution": {
     "iopub.execute_input": "2020-07-16T01:11:25.443709Z",
     "iopub.status.busy": "2020-07-16T01:11:25.443402Z",
     "iopub.status.idle": "2020-07-16T01:11:25.504380Z",
     "shell.execute_reply": "2020-07-16T01:11:25.503853Z"
    },
    "papermill": {
     "duration": 0.079755,
     "end_time": "2020-07-16T01:11:25.504471",
     "exception": false,
     "start_time": "2020-07-16T01:11:25.424716",
     "status": "completed"
    },
    "tags": []
   },
   "outputs": [],
   "source": [
    "#simulation.fourier_engineered_dataframe.dct_feat0"
   ]
  },
  {
   "cell_type": "code",
   "execution_count": 14,
   "metadata": {
    "execution": {
     "iopub.execute_input": "2020-07-16T01:11:25.565902Z",
     "iopub.status.busy": "2020-07-16T01:11:25.565548Z",
     "iopub.status.idle": "2020-07-16T01:11:25.574983Z",
     "shell.execute_reply": "2020-07-16T01:11:25.575241Z"
    },
    "papermill": {
     "duration": 0.033787,
     "end_time": "2020-07-16T01:11:25.575314",
     "exception": false,
     "start_time": "2020-07-16T01:11:25.541527",
     "status": "completed"
    },
    "tags": []
   },
   "outputs": [],
   "source": [
    "#simulation.features"
   ]
  },
  {
   "cell_type": "code",
   "execution_count": 15,
   "metadata": {
    "execution": {
     "iopub.execute_input": "2020-07-16T01:11:25.611565Z",
     "iopub.status.busy": "2020-07-16T01:11:25.611263Z",
     "iopub.status.idle": "2020-07-16T01:11:25.661872Z",
     "shell.execute_reply": "2020-07-16T01:11:25.662201Z"
    },
    "papermill": {
     "duration": 0.069653,
     "end_time": "2020-07-16T01:11:25.662288",
     "exception": false,
     "start_time": "2020-07-16T01:11:25.592635",
     "status": "completed"
    },
    "tags": []
   },
   "outputs": [],
   "source": [
    "#simulation.fourier_matrix"
   ]
  },
  {
   "cell_type": "code",
   "execution_count": 16,
   "metadata": {
    "execution": {
     "iopub.execute_input": "2020-07-16T01:11:25.708648Z",
     "iopub.status.busy": "2020-07-16T01:11:25.708306Z",
     "iopub.status.idle": "2020-07-16T01:11:25.718650Z",
     "shell.execute_reply": "2020-07-16T01:11:25.718325Z"
    },
    "papermill": {
     "duration": 0.030928,
     "end_time": "2020-07-16T01:11:25.718705",
     "exception": false,
     "start_time": "2020-07-16T01:11:25.687777",
     "status": "completed"
    },
    "tags": []
   },
   "outputs": [],
   "source": [
    "#1/simulation.n_features*simulation.dataframe.loc[:,simulation.features].sum(axis=1)"
   ]
  },
  {
   "cell_type": "code",
   "execution_count": 17,
   "metadata": {
    "execution": {
     "iopub.execute_input": "2020-07-16T01:11:25.755428Z",
     "iopub.status.busy": "2020-07-16T01:11:25.755099Z",
     "iopub.status.idle": "2020-07-16T01:11:25.821713Z",
     "shell.execute_reply": "2020-07-16T01:11:25.821116Z"
    },
    "papermill": {
     "duration": 0.085696,
     "end_time": "2020-07-16T01:11:25.821805",
     "exception": false,
     "start_time": "2020-07-16T01:11:25.736109",
     "status": "completed"
    },
    "tags": []
   },
   "outputs": [],
   "source": [
    "#df_2 = simulation.fourier_engineered_dataframe[simulation.fourier_engineered_dataframe.phase==2]\n",
    "#df_2.describe()"
   ]
  },
  {
   "cell_type": "code",
   "execution_count": 18,
   "metadata": {
    "execution": {
     "iopub.execute_input": "2020-07-16T01:11:25.886632Z",
     "iopub.status.busy": "2020-07-16T01:11:25.886124Z",
     "iopub.status.idle": "2020-07-16T01:11:25.895801Z",
     "shell.execute_reply": "2020-07-16T01:11:25.895522Z"
    },
    "papermill": {
     "duration": 0.032652,
     "end_time": "2020-07-16T01:11:25.895859",
     "exception": false,
     "start_time": "2020-07-16T01:11:25.863207",
     "status": "completed"
    },
    "tags": []
   },
   "outputs": [],
   "source": [
    "#df_1 = simulation.fourier_engineered_dataframe[simulation.fourier_engineered_dataframe.phase==1]\n",
    "#df_1.describe()"
   ]
  },
  {
   "cell_type": "code",
   "execution_count": 19,
   "metadata": {
    "execution": {
     "iopub.execute_input": "2020-07-16T01:11:25.932405Z",
     "iopub.status.busy": "2020-07-16T01:11:25.932091Z",
     "iopub.status.idle": "2020-07-16T01:11:25.988041Z",
     "shell.execute_reply": "2020-07-16T01:11:25.987441Z"
    },
    "papermill": {
     "duration": 0.074724,
     "end_time": "2020-07-16T01:11:25.988133",
     "exception": false,
     "start_time": "2020-07-16T01:11:25.913409",
     "status": "completed"
    },
    "tags": []
   },
   "outputs": [],
   "source": [
    "#df_0 = simulation.fourier_engineered_dataframe[simulation.fourier_engineered_dataframe.phase==0]\n",
    "#df_0.describe()"
   ]
  },
  {
   "cell_type": "code",
   "execution_count": 20,
   "metadata": {
    "execution": {
     "iopub.execute_input": "2020-07-16T01:11:26.028146Z",
     "iopub.status.busy": "2020-07-16T01:11:26.027837Z",
     "iopub.status.idle": "2020-07-16T01:11:26.040638Z",
     "shell.execute_reply": "2020-07-16T01:11:26.040303Z"
    },
    "papermill": {
     "duration": 0.032524,
     "end_time": "2020-07-16T01:11:26.040693",
     "exception": false,
     "start_time": "2020-07-16T01:11:26.008169",
     "status": "completed"
    },
    "tags": []
   },
   "outputs": [],
   "source": [
    "#plt.figure(figsize=(10,10))\n",
    "#plt.scatter(df_1.fourier_feat0,df_1.fourier_feat2)\n",
    "#plt.scatter(df_0.fourier_feat0,df_0.fourier_feat2,alpha=0.4)"
   ]
  },
  {
   "cell_type": "code",
   "execution_count": 21,
   "metadata": {
    "execution": {
     "iopub.execute_input": "2020-07-16T01:11:26.077311Z",
     "iopub.status.busy": "2020-07-16T01:11:26.077005Z",
     "iopub.status.idle": "2020-07-16T01:11:26.147132Z",
     "shell.execute_reply": "2020-07-16T01:11:26.146443Z"
    },
    "papermill": {
     "duration": 0.089129,
     "end_time": "2020-07-16T01:11:26.147259",
     "exception": false,
     "start_time": "2020-07-16T01:11:26.058130",
     "status": "completed"
    },
    "tags": []
   },
   "outputs": [],
   "source": [
    "#plt.scatter(df_0.fourier_feat0,df_0.fourier_feat2,alpha=0.4)"
   ]
  },
  {
   "cell_type": "code",
   "execution_count": 22,
   "metadata": {
    "execution": {
     "iopub.execute_input": "2020-07-16T01:11:26.216446Z",
     "iopub.status.busy": "2020-07-16T01:11:26.216124Z",
     "iopub.status.idle": "2020-07-16T01:11:26.225662Z",
     "shell.execute_reply": "2020-07-16T01:11:26.225966Z"
    },
    "papermill": {
     "duration": 0.033072,
     "end_time": "2020-07-16T01:11:26.226034",
     "exception": false,
     "start_time": "2020-07-16T01:11:26.192962",
     "status": "completed"
    },
    "tags": []
   },
   "outputs": [],
   "source": [
    "#plt.scatter(df_2.fourier_feat0,df_2.fourier_feat2)"
   ]
  },
  {
   "cell_type": "code",
   "execution_count": 23,
   "metadata": {
    "execution": {
     "iopub.execute_input": "2020-07-16T01:11:26.262685Z",
     "iopub.status.busy": "2020-07-16T01:11:26.262383Z",
     "iopub.status.idle": "2020-07-16T01:11:26.321623Z",
     "shell.execute_reply": "2020-07-16T01:11:26.321071Z"
    },
    "papermill": {
     "duration": 0.078133,
     "end_time": "2020-07-16T01:11:26.321709",
     "exception": false,
     "start_time": "2020-07-16T01:11:26.243576",
     "status": "completed"
    },
    "tags": []
   },
   "outputs": [],
   "source": [
    "#df_1.hist(figsize=(15,15))"
   ]
  },
  {
   "cell_type": "code",
   "execution_count": 24,
   "metadata": {
    "execution": {
     "iopub.execute_input": "2020-07-16T01:11:26.382722Z",
     "iopub.status.busy": "2020-07-16T01:11:26.382417Z",
     "iopub.status.idle": "2020-07-16T01:11:26.392078Z",
     "shell.execute_reply": "2020-07-16T01:11:26.391806Z"
    },
    "papermill": {
     "duration": 0.033392,
     "end_time": "2020-07-16T01:11:26.392132",
     "exception": false,
     "start_time": "2020-07-16T01:11:26.358740",
     "status": "completed"
    },
    "tags": []
   },
   "outputs": [],
   "source": [
    "#df_0.hist(figsize=(15,15))"
   ]
  },
  {
   "cell_type": "markdown",
   "metadata": {
    "papermill": {
     "duration": 0.01739,
     "end_time": "2020-07-16T01:11:26.426944",
     "exception": false,
     "start_time": "2020-07-16T01:11:26.409554",
     "status": "completed"
    },
    "tags": []
   },
   "source": [
    "#### Checking initialization"
   ]
  },
  {
   "cell_type": "code",
   "execution_count": 25,
   "metadata": {
    "execution": {
     "iopub.execute_input": "2020-07-16T01:11:26.463922Z",
     "iopub.status.busy": "2020-07-16T01:11:26.463614Z",
     "iopub.status.idle": "2020-07-16T01:11:26.491478Z",
     "shell.execute_reply": "2020-07-16T01:11:26.491164Z"
    },
    "papermill": {
     "duration": 0.047211,
     "end_time": "2020-07-16T01:11:26.491529",
     "exception": false,
     "start_time": "2020-07-16T01:11:26.444318",
     "status": "completed"
    },
    "tags": []
   },
   "outputs": [
    {
     "name": "stdout",
     "output_type": "stream",
     "text": [
      "n_features:  100\n",
      "n_hamiltonians:  6561\n",
      "n_ts:  2\n",
      "CPU times: user 109 µs, sys: 17 µs, total: 126 µs\n",
      "Wall time: 81.8 µs\n"
     ]
    }
   ],
   "source": [
    "%%time\n",
    "n_features = simulation.n_features\n",
    "n_hamiltonians = simulation.n_hamiltonians\n",
    "n_ts = simulation.n_ts\n",
    "\n",
    "print(\"n_features: \", n_features)\n",
    "print(\"n_hamiltonians: \", n_hamiltonians)\n",
    "print(\"n_ts: \", n_ts)"
   ]
  },
  {
   "cell_type": "code",
   "execution_count": 26,
   "metadata": {
    "execution": {
     "iopub.execute_input": "2020-07-16T01:11:26.530321Z",
     "iopub.status.busy": "2020-07-16T01:11:26.530001Z",
     "iopub.status.idle": "2020-07-16T01:11:26.804669Z",
     "shell.execute_reply": "2020-07-16T01:11:26.804346Z"
    },
    "papermill": {
     "duration": 0.294624,
     "end_time": "2020-07-16T01:11:26.804721",
     "exception": false,
     "start_time": "2020-07-16T01:11:26.510097",
     "status": "completed"
    },
    "tags": []
   },
   "outputs": [
    {
     "name": "stdout",
     "output_type": "stream",
     "text": [
      "% train:  0.846822130772748\n",
      "% val:  0.0\n",
      "% test:  0.15317786922725193\n",
      "% train + val + test:  1.0\n",
      "\n",
      "\n",
      "number of train hamiltonians:  5556\n",
      "number of val hamiltonians:  0\n",
      "number of test hamiltonians:  1005\n",
      "total number of hamiltonians:  6561\n",
      "\n",
      "\n",
      "train ids:  [9, 10, 11, 12, 13, 14, 15, 16, 17, 18, 19, 20, 21, 22, 23, 24, 25, 26, 27, 28, 29, 30, 31, 32, 33, 34, 35, 36, 37, 38, 39, 40, 41, 42, 43, 44, 45, 46, 47, 48, 49, 50, 51, 52, 53, 54, 55, 56, 57, 58, 59, 60, 61, 62, 63, 64, 65, 66, 67, 68, 69, 70, 71, 72, 73, 74, 75, 76, 77, 91, 92, 93, 94, 95, 96, 97, 98, 99, 100, 101, 102, 103, 104, 105, 106, 107, 108, 109, 110, 111, 112, 113, 114, 115, 116, 117, 118, 119, 120, 121, 122, 123, 124, 125, 126, 127, 128, 129, 130, 131, 132, 133, 134, 135, 136, 137, 138, 139, 140, 141, 142, 143, 144, 145, 146, 147, 148, 149, 150, 151, 152, 153, 154, 155, 156, 157, 172, 173, 174, 175, 176, 177, 178, 179, 180, 181, 182, 183, 184, 185, 186, 187, 188, 189, 190, 191, 192, 193, 194, 195, 196, 197, 198, 199, 200, 201, 202, 203, 204, 205, 206, 207, 208, 209, 210, 211, 212, 213, 214, 215, 216, 217, 218, 219, 220, 221, 222, 223, 224, 225, 226, 227, 228, 229, 230, 231, 232, 233, 234, 235, 236, 237, 254, 255, 256, 257, 258, 259, 260, 261, 262, 263, 264, 265, 266, 267, 268, 269, 270, 271, 272, 273, 274, 275, 276, 277, 278, 279, 280, 281, 282, 283, 284, 285, 286, 287, 288, 289, 290, 291, 292, 293, 294, 295, 296, 297, 298, 299, 300, 301, 302, 303, 304, 305, 306, 307, 308, 309, 310, 311, 312, 313, 314, 315, 316, 317, 323, 336, 337, 338, 339, 340, 341, 342, 343, 344, 345, 346, 347, 348, 349, 350, 351, 352, 353, 354, 355, 356, 357, 358, 359, 360, 361, 362, 363, 364, 365, 366, 367, 368, 369, 370, 371, 372, 373, 374, 375, 376, 377, 378, 379, 380, 381, 382, 383, 384, 385, 386, 387, 388, 389, 390, 391, 392, 393, 394, 395, 396, 397, 403, 404, 418, 419, 420, 421, 422, 423, 424, 425, 426, 427, 428, 429, 430, 431, 432, 433, 434, 435, 436, 437, 438, 439, 440, 441, 442, 443, 444, 445, 446, 447, 448, 449, 450, 451, 452, 453, 454, 455, 456, 457, 458, 459, 460, 461, 462, 463, 464, 465, 466, 467, 468, 469, 470, 471, 472, 473, 474, 475, 476, 477, 483, 484, 485, 500, 501, 502, 503, 504, 505, 506, 507, 508, 509, 510, 511, 512, 513, 514, 515, 516, 517, 518, 519, 520, 521, 522, 523, 524, 525, 526, 527, 528, 529, 530, 531, 532, 533, 534, 535, 536, 537, 538, 539, 540, 541, 542, 543, 544, 545, 546, 547, 548, 549, 550, 551, 552, 553, 554, 555, 556, 557, 563, 564, 565, 566, 581, 582, 583, 584, 585, 586, 587, 588, 589, 590, 591, 592, 593, 594, 595, 596, 597, 598, 599, 600, 601, 602, 603, 604, 605, 606, 607, 608, 609, 610, 611, 612, 613, 614, 615, 616, 617, 618, 619, 620, 621, 622, 623, 624, 625, 626, 627, 628, 629, 630, 631, 632, 633, 634, 635, 636, 637, 643, 644, 645, 646, 647, 663, 664, 665, 666, 667, 668, 669, 670, 671, 672, 673, 674, 675, 676, 677, 678, 679, 680, 681, 682, 683, 684, 685, 686, 687, 688, 689, 690, 691, 692, 693, 694, 695, 696, 697, 698, 699, 700, 701, 702, 703, 704, 705, 706, 707, 708, 709, 710, 711, 712, 713, 714, 715, 716, 717, 723, 724, 725, 726, 727, 728, 745, 746, 747, 748, 749, 750, 751, 752, 753, 754, 755, 756, 757, 758, 759, 760, 761, 762, 763, 764, 765, 766, 767, 768, 769, 770, 771, 772, 773, 774, 775, 776, 777, 778, 779, 780, 781, 782, 783, 784, 785, 786, 787, 788, 789, 790, 791, 792, 793, 794, 795, 796, 797, 803, 804, 805, 806, 807, 808, 809, 827, 828, 829, 830, 831, 832, 833, 834, 835, 836, 837, 838, 839, 840, 841, 842, 843, 844, 845, 846, 847, 848, 849, 850, 851, 852, 853, 854, 855, 856, 857, 858, 859, 860, 861, 862, 863, 864, 865, 866, 867, 868, 869, 870, 871, 872, 873, 874, 875, 876, 877, 883, 884, 885, 886, 887, 888, 889, 890, 891, 909, 910, 911, 912, 913, 914, 915, 916, 917, 918, 919, 920, 921, 922, 923, 924, 925, 926, 927, 928, 929, 930, 931, 932, 933, 934, 935, 936, 937, 938, 939, 940, 941, 942, 943, 944, 945, 946, 947, 948, 949, 950, 951, 952, 953, 954, 955, 956, 957, 963, 964, 965, 966, 967, 968, 969, 970, 971, 972, 973, 990, 991, 992, 993, 994, 995, 996, 997, 998, 999, 1000, 1001, 1002, 1003, 1004, 1005, 1006, 1007, 1008, 1009, 1010, 1011, 1012, 1013, 1014, 1015, 1016, 1017, 1018, 1019, 1020, 1021, 1022, 1023, 1024, 1025, 1026, 1027, 1028, 1029, 1030, 1031, 1032, 1033, 1034, 1035, 1036, 1037, 1038, 1042, 1043, 1044, 1045, 1046, 1047, 1048, 1049, 1050, 1051, 1052, 1053, 1054, 1055, 1056, 1072, 1073, 1074, 1075, 1076, 1077, 1078, 1079, 1080, 1081, 1082, 1083, 1084, 1085, 1086, 1087, 1088, 1089, 1090, 1091, 1092, 1093, 1094, 1095, 1096, 1097, 1098, 1099, 1100, 1101, 1102, 1103, 1104, 1105, 1106, 1107, 1108, 1109, 1110, 1111, 1112, 1113, 1114, 1115, 1116, 1117, 1118, 1122, 1123, 1124, 1125, 1126, 1127, 1128, 1129, 1130, 1131, 1132, 1133, 1134, 1135, 1136, 1137, 1138, 1154, 1155, 1156, 1157, 1158, 1159, 1160, 1161, 1162, 1163, 1164, 1165, 1166, 1167, 1168, 1169, 1170, 1171, 1172, 1173, 1174, 1175, 1176, 1177, 1178, 1179, 1180, 1181, 1182, 1183, 1184, 1185, 1186, 1187, 1188, 1189, 1190, 1191, 1192, 1193, 1194, 1195, 1196, 1197, 1198, 1202, 1203, 1204, 1205, 1206, 1207, 1208, 1209, 1210, 1211, 1212, 1213, 1214, 1215, 1216, 1217, 1218, 1219, 1220, 1236, 1237, 1238, 1239, 1240, 1241, 1242, 1243, 1244, 1245, 1246, 1247, 1248, 1249, 1250, 1251, 1252, 1253, 1254, 1255, 1256, 1257, 1258, 1259, 1260, 1261, 1262, 1263, 1264, 1265, 1266, 1267, 1268, 1269, 1270, 1271, 1272, 1273, 1274, 1275, 1276, 1277, 1278, 1282, 1283, 1284, 1285, 1286, 1287, 1288, 1289, 1290, 1291, 1292, 1293, 1294, 1295, 1296, 1297, 1298, 1299, 1300, 1301, 1302, 1303, 1317, 1318, 1319, 1320, 1321, 1322, 1323, 1324, 1325, 1326, 1327, 1328, 1329, 1330, 1331, 1332, 1333, 1334, 1335, 1336, 1337, 1338, 1339, 1340, 1341, 1342, 1343, 1344, 1345, 1346, 1347, 1348, 1349, 1350, 1351, 1352, 1353, 1354, 1355, 1356, 1357, 1358, 1362, 1363, 1364, 1365, 1366, 1367, 1368, 1369, 1370, 1371, 1372, 1373, 1374, 1375, 1376, 1377, 1378, 1379, 1380, 1381, 1382, 1383, 1384, 1385, 1399, 1400, 1401, 1402, 1403, 1404, 1405, 1406, 1407, 1408, 1409, 1410, 1411, 1412, 1413, 1414, 1415, 1416, 1417, 1418, 1419, 1420, 1421, 1422, 1423, 1424, 1425, 1426, 1427, 1428, 1429, 1430, 1431, 1432, 1433, 1434, 1435, 1436, 1437, 1438, 1442, 1443, 1444, 1445, 1446, 1447, 1448, 1449, 1450, 1451, 1452, 1453, 1454, 1455, 1456, 1457, 1458, 1459, 1460, 1461, 1462, 1463, 1464, 1465, 1466, 1467, 1468, 1481, 1482, 1483, 1484, 1485, 1486, 1487, 1488, 1489, 1490, 1491, 1492, 1493, 1494, 1495, 1496, 1497, 1498, 1499, 1500, 1501, 1502, 1503, 1504, 1505, 1506, 1507, 1508, 1509, 1510, 1511, 1512, 1513, 1514, 1515, 1516, 1517, 1518, 1522, 1523, 1524, 1525, 1526, 1527, 1528, 1529, 1530, 1531, 1532, 1533, 1534, 1535, 1536, 1537, 1538, 1539, 1540, 1541, 1542, 1543, 1544, 1545, 1546, 1547, 1548, 1549, 1550, 1563, 1564, 1565, 1566, 1567, 1568, 1569, 1570, 1571, 1572, 1573, 1574, 1575, 1576, 1577, 1578, 1579, 1580, 1581, 1582, 1583, 1584, 1585, 1586, 1587, 1588, 1589, 1590, 1591, 1592, 1593, 1594, 1595, 1596, 1597, 1598, 1602, 1603, 1604, 1605, 1606, 1607, 1608, 1609, 1610, 1611, 1612, 1613, 1614, 1615, 1616, 1617, 1618, 1619, 1620, 1621, 1622, 1623, 1624, 1625, 1626, 1627, 1628, 1629, 1630, 1631, 1632, 1645, 1646, 1647, 1648, 1649, 1650, 1651, 1652, 1653, 1654, 1655, 1656, 1657, 1658, 1659, 1660, 1661, 1662, 1663, 1664, 1665, 1666, 1667, 1668, 1669, 1670, 1671, 1672, 1673, 1674, 1675, 1676, 1677, 1678, 1682, 1683, 1684, 1685, 1686, 1687, 1688, 1689, 1690, 1691, 1692, 1693, 1694, 1695, 1696, 1697, 1698, 1699, 1700, 1701, 1702, 1703, 1704, 1705, 1706, 1707, 1708, 1709, 1710, 1711, 1712, 1713, 1714, 1715, 1726, 1727, 1728, 1729, 1730, 1731, 1732, 1733, 1734, 1735, 1736, 1737, 1738, 1739, 1740, 1741, 1742, 1743, 1744, 1745, 1746, 1747, 1748, 1749, 1750, 1751, 1752, 1753, 1754, 1755, 1756, 1757, 1758, 1762, 1763, 1764, 1765, 1766, 1767, 1768, 1769, 1770, 1771, 1772, 1773, 1774, 1775, 1776, 1777, 1778, 1779, 1780, 1781, 1782, 1783, 1784, 1785, 1786, 1787, 1788, 1789, 1790, 1791, 1792, 1793, 1794, 1795, 1796, 1797, 1808, 1809, 1810, 1811, 1812, 1813, 1814, 1815, 1816, 1817, 1818, 1819, 1820, 1821, 1822, 1823, 1824, 1825, 1826, 1827, 1828, 1829, 1830, 1831, 1832, 1833, 1834, 1835, 1836, 1837, 1838, 1842, 1843, 1844, 1845, 1846, 1847, 1848, 1849, 1850, 1851, 1852, 1853, 1854, 1855, 1856, 1857, 1858, 1859, 1860, 1861, 1862, 1863, 1864, 1865, 1866, 1867, 1868, 1869, 1870, 1871, 1872, 1873, 1874, 1875, 1876, 1877, 1878, 1879, 1890, 1891, 1892, 1893, 1894, 1895, 1896, 1897, 1898, 1899, 1900, 1901, 1902, 1903, 1904, 1905, 1906, 1907, 1908, 1909, 1910, 1911, 1912, 1913, 1914, 1915, 1916, 1917, 1918, 1922, 1923, 1924, 1925, 1926, 1927, 1928, 1929, 1930, 1931, 1932, 1933, 1934, 1935, 1936, 1937, 1938, 1939, 1940, 1941, 1942, 1943, 1944, 1945, 1946, 1947, 1948, 1949, 1950, 1951, 1952, 1953, 1954, 1955, 1956, 1957, 1958, 1959, 1960, 1961, 1962, 1972, 1973, 1974, 1975, 1976, 1977, 1978, 1979, 1980, 1981, 1982, 1983, 1984, 1985, 1986, 1987, 1988, 1989, 1990, 1991, 1992, 1993, 1994, 1995, 1996, 1997, 1998, 2002, 2003, 2004, 2005, 2006, 2007, 2008, 2009, 2010, 2011, 2012, 2013, 2014, 2015, 2016, 2017, 2018, 2019, 2020, 2021, 2022, 2023, 2024, 2025, 2026, 2027, 2028, 2029, 2030, 2031, 2032, 2033, 2034, 2035, 2036, 2037, 2038, 2039, 2040, 2041, 2042, 2043, 2044, 2054, 2055, 2056, 2057, 2058, 2059, 2060, 2061, 2062, 2063, 2064, 2065, 2066, 2067, 2068, 2069, 2070, 2071, 2072, 2073, 2074, 2075, 2076, 2077, 2078, 2082, 2083, 2084, 2085, 2086, 2087, 2088, 2089, 2090, 2091, 2092, 2093, 2094, 2095, 2096, 2097, 2098, 2099, 2100, 2101, 2102, 2103, 2104, 2105, 2106, 2107, 2108, 2109, 2110, 2111, 2112, 2113, 2114, 2115, 2116, 2117, 2118, 2119, 2120, 2121, 2122, 2123, 2124, 2125, 2126, 2135, 2136, 2137, 2138, 2139, 2140, 2141, 2142, 2143, 2144, 2145, 2146, 2147, 2148, 2149, 2150, 2151, 2152, 2153, 2154, 2155, 2156, 2157, 2158, 2159, 2161, 2162, 2163, 2164, 2165, 2166, 2167, 2168, 2169, 2170, 2171, 2172, 2173, 2174, 2175, 2176, 2177, 2178, 2179, 2180, 2181, 2182, 2183, 2184, 2185, 2186, 2187, 2188, 2189, 2190, 2191, 2192, 2193, 2194, 2195, 2196, 2197, 2198, 2199, 2200, 2201, 2202, 2203, 2204, 2205, 2206, 2207, 2208, 2209, 2217, 2218, 2219, 2220, 2221, 2222, 2223, 2224, 2225, 2226, 2227, 2228, 2229, 2230, 2231, 2232, 2233, 2234, 2235, 2236, 2237, 2238, 2239, 2241, 2242, 2243, 2244, 2245, 2246, 2247, 2248, 2249, 2250, 2251, 2252, 2253, 2254, 2255, 2256, 2257, 2258, 2259, 2260, 2261, 2262, 2263, 2264, 2265, 2266, 2267, 2268, 2269, 2270, 2271, 2272, 2273, 2274, 2275, 2276, 2277, 2278, 2279, 2280, 2281, 2282, 2283, 2284, 2285, 2286, 2287, 2288, 2289, 2290, 2291, 2299, 2300, 2301, 2302, 2303, 2304, 2305, 2306, 2307, 2308, 2309, 2310, 2311, 2312, 2313, 2314, 2315, 2316, 2317, 2318, 2319, 2321, 2322, 2323, 2324, 2325, 2326, 2327, 2328, 2329, 2330, 2331, 2332, 2333, 2334, 2335, 2336, 2337, 2338, 2339, 2340, 2341, 2342, 2343, 2344, 2345, 2346, 2347, 2348, 2349, 2350, 2351, 2352, 2353, 2354, 2355, 2356, 2357, 2358, 2359, 2360, 2361, 2362, 2363, 2364, 2365, 2366, 2367, 2368, 2369, 2370, 2371, 2372, 2373, 2374, 2381, 2382, 2383, 2384, 2385, 2386, 2387, 2388, 2389, 2390, 2391, 2392, 2393, 2394, 2395, 2396, 2397, 2398, 2399, 2401, 2402, 2403, 2404, 2405, 2406, 2407, 2408, 2409, 2410, 2411, 2412, 2413, 2414, 2415, 2416, 2417, 2418, 2419, 2420, 2421, 2422, 2423, 2424, 2425, 2426, 2427, 2428, 2429, 2430, 2431, 2432, 2433, 2434, 2435, 2436, 2437, 2438, 2439, 2440, 2441, 2442, 2443, 2444, 2445, 2446, 2447, 2448, 2449, 2450, 2451, 2452, 2453, 2454, 2455, 2456, 2463, 2464, 2465, 2466, 2467, 2468, 2469, 2470, 2471, 2472, 2473, 2474, 2475, 2476, 2477, 2478, 2479, 2481, 2482, 2483, 2484, 2485, 2486, 2487, 2488, 2489, 2490, 2491, 2492, 2493, 2494, 2495, 2496, 2497, 2498, 2499, 2500, 2501, 2502, 2503, 2504, 2505, 2506, 2507, 2508, 2509, 2510, 2511, 2512, 2513, 2514, 2515, 2516, 2517, 2518, 2519, 2520, 2521, 2522, 2523, 2524, 2525, 2526, 2527, 2528, 2529, 2530, 2531, 2532, 2533, 2534, 2535, 2536, 2537, 2538, 2544, 2545, 2546, 2547, 2548, 2549, 2550, 2551, 2552, 2553, 2554, 2555, 2556, 2557, 2558, 2559, 2561, 2562, 2563, 2564, 2565, 2566, 2567, 2568, 2569, 2570, 2571, 2572, 2573, 2574, 2575, 2576, 2577, 2578, 2579, 2580, 2581, 2582, 2583, 2584, 2585, 2586, 2587, 2588, 2589, 2590, 2591, 2592, 2593, 2594, 2595, 2596, 2597, 2598, 2599, 2600, 2601, 2602, 2603, 2604, 2605, 2606, 2607, 2608, 2609, 2610, 2611, 2612, 2613, 2614, 2615, 2616, 2617, 2618, 2619, 2620, 2621, 2626, 2627, 2628, 2629, 2630, 2631, 2632, 2633, 2634, 2635, 2636, 2637, 2638, 2639, 2641, 2642, 2643, 2644, 2645, 2646, 2647, 2648, 2649, 2650, 2651, 2652, 2653, 2654, 2655, 2656, 2657, 2658, 2659, 2660, 2661, 2662, 2663, 2664, 2665, 2666, 2667, 2668, 2669, 2670, 2671, 2672, 2673, 2674, 2675, 2676, 2677, 2678, 2679, 2680, 2681, 2682, 2683, 2684, 2685, 2686, 2687, 2688, 2689, 2690, 2691, 2692, 2693, 2694, 2695, 2696, 2697, 2698, 2699, 2700, 2701, 2702, 2703, 2708, 2709, 2710, 2711, 2712, 2713, 2714, 2715, 2716, 2717, 2718, 2719, 2721, 2722, 2723, 2724, 2725, 2726, 2727, 2728, 2729, 2730, 2731, 2732, 2733, 2734, 2735, 2736, 2737, 2738, 2739, 2740, 2741, 2742, 2743, 2744, 2745, 2746, 2747, 2748, 2749, 2750, 2751, 2752, 2753, 2754, 2755, 2756, 2757, 2758, 2759, 2760, 2761, 2762, 2763, 2764, 2765, 2766, 2767, 2768, 2769, 2770, 2771, 2772, 2773, 2774, 2775, 2776, 2777, 2778, 2779, 2780, 2781, 2782, 2783, 2784, 2785, 2790, 2791, 2792, 2793, 2794, 2795, 2796, 2797, 2798, 2799, 2801, 2802, 2803, 2804, 2805, 2806, 2807, 2808, 2809, 2810, 2811, 2812, 2813, 2814, 2815, 2816, 2817, 2818, 2819, 2820, 2821, 2822, 2823, 2824, 2825, 2826, 2827, 2828, 2829, 2830, 2831, 2832, 2833, 2834, 2835, 2836, 2837, 2838, 2839, 2840, 2841, 2842, 2843, 2844, 2845, 2846, 2847, 2848, 2849, 2850, 2851, 2852, 2853, 2854, 2855, 2856, 2857, 2858, 2859, 2860, 2861, 2862, 2863, 2864, 2865, 2866, 2867, 2868, 2872, 2873, 2874, 2875, 2876, 2877, 2878, 2879, 2881, 2882, 2883, 2884, 2885, 2886, 2887, 2888, 2889, 2890, 2891, 2892, 2893, 2894, 2895, 2896, 2897, 2898, 2899, 2900, 2901, 2902, 2903, 2904, 2905, 2906, 2907, 2908, 2909, 2910, 2911, 2912, 2913, 2914, 2915, 2916, 2917, 2918, 2919, 2920, 2921, 2922, 2923, 2924, 2925, 2926, 2927, 2928, 2929, 2930, 2931, 2932, 2933, 2934, 2935, 2936, 2937, 2938, 2939, 2940, 2941, 2942, 2943, 2944, 2945, 2946, 2947, 2948, 2949, 2950, 2953, 2954, 2955, 2956, 2957, 2958, 2959, 2961, 2962, 2963, 2964, 2965, 2966, 2967, 2968, 2969, 2970, 2971, 2972, 2973, 2974, 2975, 2976, 2977, 2978, 2979, 2980, 2981, 2982, 2983, 2984, 2985, 2986, 2987, 2988, 2989, 2990, 2991, 2992, 2993, 2994, 2995, 2996, 2997, 2998, 2999, 3000, 3001, 3002, 3003, 3004, 3005, 3006, 3007, 3008, 3009, 3010, 3011, 3012, 3013, 3014, 3015, 3016, 3017, 3018, 3019, 3020, 3021, 3022, 3023, 3024, 3025, 3026, 3027, 3028, 3029, 3030, 3031, 3032, 3035, 3036, 3037, 3038, 3039, 3041, 3042, 3043, 3044, 3045, 3046, 3047, 3048, 3049, 3050, 3051, 3052, 3053, 3054, 3055, 3056, 3057, 3058, 3059, 3060, 3061, 3062, 3063, 3064, 3065, 3066, 3067, 3068, 3069, 3070, 3071, 3072, 3073, 3074, 3075, 3076, 3077, 3078, 3079, 3080, 3081, 3082, 3083, 3084, 3085, 3086, 3087, 3088, 3089, 3090, 3091, 3092, 3093, 3094, 3095, 3096, 3097, 3098, 3099, 3100, 3101, 3102, 3103, 3104, 3105, 3106, 3107, 3108, 3109, 3110, 3111, 3112, 3113, 3114, 3115, 3117, 3118, 3119, 3121, 3122, 3123, 3124, 3125, 3126, 3127, 3128, 3129, 3130, 3131, 3132, 3133, 3134, 3135, 3136, 3137, 3138, 3139, 3140, 3141, 3142, 3143, 3144, 3145, 3146, 3147, 3148, 3149, 3150, 3151, 3152, 3153, 3154, 3155, 3156, 3157, 3158, 3159, 3160, 3161, 3162, 3163, 3164, 3165, 3166, 3167, 3168, 3169, 3170, 3171, 3172, 3173, 3174, 3175, 3176, 3177, 3178, 3179, 3180, 3181, 3182, 3183, 3184, 3185, 3186, 3187, 3188, 3189, 3190, 3191, 3192, 3193, 3194, 3195, 3196, 3197, 3199, 3201, 3202, 3203, 3204, 3205, 3206, 3207, 3208, 3209, 3210, 3211, 3212, 3213, 3214, 3215, 3216, 3217, 3218, 3219, 3220, 3221, 3222, 3223, 3224, 3225, 3226, 3227, 3228, 3229, 3230, 3231, 3232, 3233, 3234, 3235, 3236, 3237, 3238, 3239, 3240, 3241, 3242, 3243, 3244, 3245, 3246, 3247, 3248, 3249, 3250, 3251, 3252, 3253, 3254, 3255, 3256, 3257, 3258, 3259, 3260, 3261, 3262, 3263, 3264, 3265, 3266, 3267, 3268, 3269, 3270, 3271, 3272, 3273, 3274, 3275, 3276, 3277, 3278, 3279, 3281, 3282, 3283, 3284, 3285, 3286, 3287, 3288, 3289, 3290, 3291, 3292, 3293, 3294, 3295, 3296, 3297, 3298, 3299, 3300, 3301, 3302, 3303, 3304, 3305, 3306, 3307, 3308, 3309, 3310, 3311, 3312, 3313, 3314, 3315, 3316, 3317, 3318, 3319, 3320, 3321, 3322, 3323, 3324, 3325, 3326, 3327, 3328, 3329, 3330, 3331, 3332, 3333, 3334, 3335, 3336, 3337, 3338, 3339, 3340, 3341, 3342, 3343, 3344, 3345, 3346, 3347, 3348, 3349, 3350, 3351, 3352, 3353, 3354, 3355, 3356, 3357, 3358, 3359, 3361, 3363, 3364, 3365, 3366, 3367, 3368, 3369, 3370, 3371, 3372, 3373, 3374, 3375, 3376, 3377, 3378, 3379, 3380, 3381, 3382, 3383, 3384, 3385, 3386, 3387, 3388, 3389, 3390, 3391, 3392, 3393, 3394, 3395, 3396, 3397, 3398, 3399, 3400, 3401, 3402, 3403, 3404, 3405, 3406, 3407, 3408, 3409, 3410, 3411, 3412, 3413, 3414, 3415, 3416, 3417, 3418, 3419, 3420, 3421, 3422, 3423, 3424, 3425, 3426, 3427, 3428, 3429, 3430, 3431, 3432, 3433, 3434, 3435, 3436, 3437, 3438, 3439, 3441, 3442, 3443, 3445, 3446, 3447, 3448, 3449, 3450, 3451, 3452, 3453, 3454, 3455, 3456, 3457, 3458, 3459, 3460, 3461, 3462, 3463, 3464, 3465, 3466, 3467, 3468, 3469, 3470, 3471, 3472, 3473, 3474, 3475, 3476, 3477, 3478, 3479, 3480, 3481, 3482, 3483, 3484, 3485, 3486, 3487, 3488, 3489, 3490, 3491, 3492, 3493, 3494, 3495, 3496, 3497, 3498, 3499, 3500, 3501, 3502, 3503, 3504, 3505, 3506, 3507, 3508, 3509, 3510, 3511, 3512, 3513, 3514, 3515, 3516, 3517, 3518, 3519, 3521, 3522, 3523, 3524, 3525, 3528, 3529, 3530, 3531, 3532, 3533, 3534, 3535, 3536, 3537, 3538, 3539, 3540, 3541, 3542, 3543, 3544, 3545, 3546, 3547, 3548, 3549, 3550, 3551, 3552, 3553, 3554, 3555, 3556, 3557, 3558, 3559, 3560, 3561, 3562, 3563, 3564, 3565, 3566, 3567, 3568, 3569, 3570, 3571, 3572, 3573, 3574, 3575, 3576, 3577, 3578, 3579, 3580, 3581, 3582, 3583, 3584, 3585, 3586, 3587, 3588, 3589, 3590, 3591, 3592, 3593, 3594, 3595, 3596, 3597, 3598, 3599, 3601, 3602, 3603, 3604, 3605, 3606, 3607, 3610, 3611, 3612, 3613, 3614, 3615, 3616, 3617, 3618, 3619, 3620, 3621, 3622, 3623, 3624, 3625, 3626, 3627, 3628, 3629, 3630, 3631, 3632, 3633, 3634, 3635, 3636, 3637, 3638, 3639, 3640, 3641, 3642, 3643, 3644, 3645, 3646, 3647, 3648, 3649, 3650, 3651, 3652, 3653, 3654, 3655, 3656, 3657, 3658, 3659, 3660, 3661, 3662, 3663, 3664, 3665, 3666, 3667, 3668, 3669, 3670, 3671, 3672, 3673, 3674, 3675, 3676, 3677, 3678, 3679, 3681, 3682, 3683, 3684, 3685, 3686, 3687, 3688, 3692, 3693, 3694, 3695, 3696, 3697, 3698, 3699, 3700, 3701, 3702, 3703, 3704, 3705, 3706, 3707, 3708, 3709, 3710, 3711, 3712, 3713, 3714, 3715, 3716, 3717, 3718, 3719, 3720, 3721, 3722, 3723, 3724, 3725, 3726, 3727, 3728, 3729, 3730, 3731, 3732, 3733, 3734, 3735, 3736, 3737, 3738, 3739, 3740, 3741, 3742, 3743, 3744, 3745, 3746, 3747, 3748, 3749, 3750, 3751, 3752, 3753, 3754, 3755, 3756, 3757, 3758, 3759, 3761, 3762, 3763, 3764, 3765, 3766, 3767, 3768, 3769, 3770, 3775, 3776, 3777, 3778, 3779, 3780, 3781, 3782, 3783, 3784, 3785, 3786, 3787, 3788, 3789, 3790, 3791, 3792, 3793, 3794, 3795, 3796, 3797, 3798, 3799, 3800, 3801, 3802, 3803, 3804, 3805, 3806, 3807, 3808, 3809, 3810, 3811, 3812, 3813, 3814, 3815, 3816, 3817, 3818, 3819, 3820, 3821, 3822, 3823, 3824, 3825, 3826, 3827, 3828, 3829, 3830, 3831, 3832, 3833, 3834, 3835, 3836, 3837, 3838, 3839, 3841, 3842, 3843, 3844, 3845, 3846, 3847, 3848, 3849, 3850, 3851, 3852, 3857, 3858, 3859, 3860, 3861, 3862, 3863, 3864, 3865, 3866, 3867, 3868, 3869, 3870, 3871, 3872, 3873, 3874, 3875, 3876, 3877, 3878, 3879, 3880, 3881, 3882, 3883, 3884, 3885, 3886, 3887, 3888, 3889, 3890, 3891, 3892, 3893, 3894, 3895, 3896, 3897, 3898, 3899, 3900, 3901, 3902, 3903, 3904, 3905, 3906, 3907, 3908, 3909, 3910, 3911, 3912, 3913, 3914, 3915, 3916, 3917, 3918, 3919, 3921, 3922, 3923, 3924, 3925, 3926, 3927, 3928, 3929, 3930, 3931, 3932, 3933, 3934, 3939, 3940, 3941, 3942, 3943, 3944, 3945, 3946, 3947, 3948, 3949, 3950, 3951, 3952, 3953, 3954, 3955, 3956, 3957, 3958, 3959, 3960, 3961, 3962, 3963, 3964, 3965, 3966, 3967, 3968, 3969, 3970, 3971, 3972, 3973, 3974, 3975, 3976, 3977, 3978, 3979, 3980, 3981, 3982, 3983, 3984, 3985, 3986, 3987, 3988, 3989, 3990, 3991, 3992, 3993, 3994, 3995, 3996, 3997, 3998, 3999, 4001, 4002, 4003, 4004, 4005, 4006, 4007, 4008, 4009, 4010, 4011, 4012, 4013, 4014, 4015, 4016, 4022, 4023, 4024, 4025, 4026, 4027, 4028, 4029, 4030, 4031, 4032, 4033, 4034, 4035, 4036, 4037, 4038, 4039, 4040, 4041, 4042, 4043, 4044, 4045, 4046, 4047, 4048, 4049, 4050, 4051, 4052, 4053, 4054, 4055, 4056, 4057, 4058, 4059, 4060, 4061, 4062, 4063, 4064, 4065, 4066, 4067, 4068, 4069, 4070, 4071, 4072, 4073, 4074, 4075, 4076, 4077, 4078, 4079, 4081, 4082, 4083, 4084, 4085, 4086, 4087, 4088, 4089, 4090, 4091, 4092, 4093, 4094, 4095, 4096, 4097, 4104, 4105, 4106, 4107, 4108, 4109, 4110, 4111, 4112, 4113, 4114, 4115, 4116, 4117, 4118, 4119, 4120, 4121, 4122, 4123, 4124, 4125, 4126, 4127, 4128, 4129, 4130, 4131, 4132, 4133, 4134, 4135, 4136, 4137, 4138, 4139, 4140, 4141, 4142, 4143, 4144, 4145, 4146, 4147, 4148, 4149, 4150, 4151, 4152, 4153, 4154, 4155, 4156, 4157, 4158, 4159, 4161, 4162, 4163, 4164, 4165, 4166, 4167, 4168, 4169, 4170, 4171, 4172, 4173, 4174, 4175, 4176, 4177, 4178, 4179, 4186, 4187, 4188, 4189, 4190, 4191, 4192, 4193, 4194, 4195, 4196, 4197, 4198, 4199, 4200, 4201, 4202, 4203, 4204, 4205, 4206, 4207, 4208, 4209, 4210, 4211, 4212, 4213, 4214, 4215, 4216, 4217, 4218, 4219, 4220, 4221, 4222, 4223, 4224, 4225, 4226, 4227, 4228, 4229, 4230, 4231, 4232, 4233, 4234, 4235, 4236, 4237, 4238, 4239, 4241, 4242, 4243, 4244, 4245, 4246, 4247, 4248, 4249, 4250, 4251, 4252, 4253, 4254, 4255, 4256, 4257, 4258, 4259, 4260, 4261, 4269, 4270, 4271, 4272, 4273, 4274, 4275, 4276, 4277, 4278, 4279, 4280, 4281, 4282, 4283, 4284, 4285, 4286, 4287, 4288, 4289, 4290, 4291, 4292, 4293, 4294, 4295, 4296, 4297, 4298, 4299, 4300, 4301, 4302, 4303, 4304, 4305, 4306, 4307, 4308, 4309, 4310, 4311, 4312, 4313, 4314, 4315, 4316, 4317, 4318, 4319, 4321, 4322, 4323, 4324, 4325, 4326, 4327, 4328, 4329, 4330, 4331, 4332, 4333, 4334, 4335, 4336, 4337, 4338, 4339, 4340, 4341, 4342, 4343, 4351, 4352, 4353, 4354, 4355, 4356, 4357, 4358, 4359, 4360, 4361, 4362, 4363, 4364, 4365, 4366, 4367, 4368, 4369, 4370, 4371, 4372, 4373, 4374, 4375, 4376, 4377, 4378, 4379, 4380, 4381, 4382, 4383, 4384, 4385, 4386, 4387, 4388, 4389, 4390, 4391, 4392, 4393, 4394, 4395, 4396, 4397, 4398, 4399, 4401, 4402, 4403, 4404, 4405, 4406, 4407, 4408, 4409, 4410, 4411, 4412, 4413, 4414, 4415, 4416, 4417, 4418, 4419, 4420, 4421, 4422, 4423, 4424, 4425, 4434, 4435, 4436, 4437, 4438, 4439, 4440, 4441, 4442, 4443, 4444, 4445, 4446, 4447, 4448, 4449, 4450, 4451, 4452, 4453, 4454, 4455, 4456, 4457, 4458, 4459, 4460, 4461, 4462, 4463, 4464, 4465, 4466, 4467, 4468, 4469, 4470, 4471, 4472, 4473, 4474, 4475, 4476, 4477, 4478, 4482, 4483, 4484, 4485, 4486, 4487, 4488, 4489, 4490, 4491, 4492, 4493, 4494, 4495, 4496, 4497, 4498, 4499, 4500, 4501, 4502, 4503, 4504, 4505, 4506, 4516, 4517, 4518, 4519, 4520, 4521, 4522, 4523, 4524, 4525, 4526, 4527, 4528, 4529, 4530, 4531, 4532, 4533, 4534, 4535, 4536, 4537, 4538, 4539, 4540, 4541, 4542, 4543, 4544, 4545, 4546, 4547, 4548, 4549, 4550, 4551, 4552, 4553, 4554, 4555, 4556, 4557, 4558, 4562, 4563, 4564, 4565, 4566, 4567, 4568, 4569, 4570, 4571, 4572, 4573, 4574, 4575, 4576, 4577, 4578, 4579, 4580, 4581, 4582, 4583, 4584, 4585, 4586, 4587, 4588, 4598, 4599, 4600, 4601, 4602, 4603, 4604, 4605, 4606, 4607, 4608, 4609, 4610, 4611, 4612, 4613, 4614, 4615, 4616, 4617, 4618, 4619, 4620, 4621, 4622, 4623, 4624, 4625, 4626, 4627, 4628, 4629, 4630, 4631, 4632, 4633, 4634, 4635, 4636, 4637, 4638, 4642, 4643, 4644, 4645, 4646, 4647, 4648, 4649, 4650, 4651, 4652, 4653, 4654, 4655, 4656, 4657, 4658, 4659, 4660, 4661, 4662, 4663, 4664, 4665, 4666, 4667, 4668, 4669, 4670, 4681, 4682, 4683, 4684, 4685, 4686, 4687, 4688, 4689, 4690, 4691, 4692, 4693, 4694, 4695, 4696, 4697, 4698, 4699, 4700, 4701, 4702, 4703, 4704, 4705, 4706, 4707, 4708, 4709, 4710, 4711, 4712, 4713, 4714, 4715, 4716, 4717, 4718, 4722, 4723, 4724, 4725, 4726, 4727, 4728, 4729, 4730, 4731, 4732, 4733, 4734, 4735, 4736, 4737, 4738, 4739, 4740, 4741, 4742, 4743, 4744, 4745, 4746, 4747, 4748, 4749, 4750, 4751, 4752, 4763, 4764, 4765, 4766, 4767, 4768, 4769, 4770, 4771, 4772, 4773, 4774, 4775, 4776, 4777, 4778, 4779, 4780, 4781, 4782, 4783, 4784, 4785, 4786, 4787, 4788, 4789, 4790, 4791, 4792, 4793, 4794, 4795, 4796, 4797, 4798, 4802, 4803, 4804, 4805, 4806, 4807, 4808, 4809, 4810, 4811, 4812, 4813, 4814, 4815, 4816, 4817, 4818, 4819, 4820, 4821, 4822, 4823, 4824, 4825, 4826, 4827, 4828, 4829, 4830, 4831, 4832, 4833, 4834, 4845, 4846, 4847, 4848, 4849, 4850, 4851, 4852, 4853, 4854, 4855, 4856, 4857, 4858, 4859, 4860, 4861, 4862, 4863, 4864, 4865, 4866, 4867, 4868, 4869, 4870, 4871, 4872, 4873, 4874, 4875, 4876, 4877, 4878, 4882, 4883, 4884, 4885, 4886, 4887, 4888, 4889, 4890, 4891, 4892, 4893, 4894, 4895, 4896, 4897, 4898, 4899, 4900, 4901, 4902, 4903, 4904, 4905, 4906, 4907, 4908, 4909, 4910, 4911, 4912, 4913, 4914, 4915, 4928, 4929, 4930, 4931, 4932, 4933, 4934, 4935, 4936, 4937, 4938, 4939, 4940, 4941, 4942, 4943, 4944, 4945, 4946, 4947, 4948, 4949, 4950, 4951, 4952, 4953, 4954, 4955, 4956, 4957, 4958, 4962, 4963, 4964, 4965, 4966, 4967, 4968, 4969, 4970, 4971, 4972, 4973, 4974, 4975, 4976, 4977, 4978, 4979, 4980, 4981, 4982, 4983, 4984, 4985, 4986, 4987, 4988, 4989, 4990, 4991, 4992, 4993, 4994, 4995, 4996, 4997, 5010, 5011, 5012, 5013, 5014, 5015, 5016, 5017, 5018, 5019, 5020, 5021, 5022, 5023, 5024, 5025, 5026, 5027, 5028, 5029, 5030, 5031, 5032, 5033, 5034, 5035, 5036, 5037, 5038, 5042, 5043, 5044, 5045, 5046, 5047, 5048, 5049, 5050, 5051, 5052, 5053, 5054, 5055, 5056, 5057, 5058, 5059, 5060, 5061, 5062, 5063, 5064, 5065, 5066, 5067, 5068, 5069, 5070, 5071, 5072, 5073, 5074, 5075, 5076, 5077, 5078, 5079, 5092, 5093, 5094, 5095, 5096, 5097, 5098, 5099, 5100, 5101, 5102, 5103, 5104, 5105, 5106, 5107, 5108, 5109, 5110, 5111, 5112, 5113, 5114, 5115, 5116, 5117, 5118, 5122, 5123, 5124, 5125, 5126, 5127, 5128, 5129, 5130, 5131, 5132, 5133, 5134, 5135, 5136, 5137, 5138, 5139, 5140, 5141, 5142, 5143, 5144, 5145, 5146, 5147, 5148, 5149, 5150, 5151, 5152, 5153, 5154, 5155, 5156, 5157, 5158, 5159, 5160, 5161, 5175, 5176, 5177, 5178, 5179, 5180, 5181, 5182, 5183, 5184, 5185, 5186, 5187, 5188, 5189, 5190, 5191, 5192, 5193, 5194, 5195, 5196, 5197, 5198, 5202, 5203, 5204, 5205, 5206, 5207, 5208, 5209, 5210, 5211, 5212, 5213, 5214, 5215, 5216, 5217, 5218, 5219, 5220, 5221, 5222, 5223, 5224, 5225, 5226, 5227, 5228, 5229, 5230, 5231, 5232, 5233, 5234, 5235, 5236, 5237, 5238, 5239, 5240, 5241, 5242, 5243, 5257, 5258, 5259, 5260, 5261, 5262, 5263, 5264, 5265, 5266, 5267, 5268, 5269, 5270, 5271, 5272, 5273, 5274, 5275, 5276, 5277, 5278, 5282, 5283, 5284, 5285, 5286, 5287, 5288, 5289, 5290, 5291, 5292, 5293, 5294, 5295, 5296, 5297, 5298, 5299, 5300, 5301, 5302, 5303, 5304, 5305, 5306, 5307, 5308, 5309, 5310, 5311, 5312, 5313, 5314, 5315, 5316, 5317, 5318, 5319, 5320, 5321, 5322, 5323, 5324, 5340, 5341, 5342, 5343, 5344, 5345, 5346, 5347, 5348, 5349, 5350, 5351, 5352, 5353, 5354, 5355, 5356, 5357, 5358, 5362, 5363, 5364, 5365, 5366, 5367, 5368, 5369, 5370, 5371, 5372, 5373, 5374, 5375, 5376, 5377, 5378, 5379, 5380, 5381, 5382, 5383, 5384, 5385, 5386, 5387, 5388, 5389, 5390, 5391, 5392, 5393, 5394, 5395, 5396, 5397, 5398, 5399, 5400, 5401, 5402, 5403, 5404, 5405, 5406, 5422, 5423, 5424, 5425, 5426, 5427, 5428, 5429, 5430, 5431, 5432, 5433, 5434, 5435, 5436, 5437, 5438, 5442, 5443, 5444, 5445, 5446, 5447, 5448, 5449, 5450, 5451, 5452, 5453, 5454, 5455, 5456, 5457, 5458, 5459, 5460, 5461, 5462, 5463, 5464, 5465, 5466, 5467, 5468, 5469, 5470, 5471, 5472, 5473, 5474, 5475, 5476, 5477, 5478, 5479, 5480, 5481, 5482, 5483, 5484, 5485, 5486, 5487, 5488, 5504, 5505, 5506, 5507, 5508, 5509, 5510, 5511, 5512, 5513, 5514, 5515, 5516, 5517, 5518, 5522, 5523, 5524, 5525, 5526, 5527, 5528, 5529, 5530, 5531, 5532, 5533, 5534, 5535, 5536, 5537, 5538, 5539, 5540, 5541, 5542, 5543, 5544, 5545, 5546, 5547, 5548, 5549, 5550, 5551, 5552, 5553, 5554, 5555, 5556, 5557, 5558, 5559, 5560, 5561, 5562, 5563, 5564, 5565, 5566, 5567, 5568, 5569, 5570, 5587, 5588, 5589, 5590, 5591, 5592, 5593, 5594, 5595, 5596, 5597, 5603, 5604, 5605, 5606, 5607, 5608, 5609, 5610, 5611, 5612, 5613, 5614, 5615, 5616, 5617, 5618, 5619, 5620, 5621, 5622, 5623, 5624, 5625, 5626, 5627, 5628, 5629, 5630, 5631, 5632, 5633, 5634, 5635, 5636, 5637, 5638, 5639, 5640, 5641, 5642, 5643, 5644, 5645, 5646, 5647, 5648, 5649, 5650, 5651, 5669, 5670, 5671, 5672, 5673, 5674, 5675, 5676, 5677, 5683, 5684, 5685, 5686, 5687, 5688, 5689, 5690, 5691, 5692, 5693, 5694, 5695, 5696, 5697, 5698, 5699, 5700, 5701, 5702, 5703, 5704, 5705, 5706, 5707, 5708, 5709, 5710, 5711, 5712, 5713, 5714, 5715, 5716, 5717, 5718, 5719, 5720, 5721, 5722, 5723, 5724, 5725, 5726, 5727, 5728, 5729, 5730, 5731, 5732, 5733, 5751, 5752, 5753, 5754, 5755, 5756, 5757, 5763, 5764, 5765, 5766, 5767, 5768, 5769, 5770, 5771, 5772, 5773, 5774, 5775, 5776, 5777, 5778, 5779, 5780, 5781, 5782, 5783, 5784, 5785, 5786, 5787, 5788, 5789, 5790, 5791, 5792, 5793, 5794, 5795, 5796, 5797, 5798, 5799, 5800, 5801, 5802, 5803, 5804, 5805, 5806, 5807, 5808, 5809, 5810, 5811, 5812, 5813, 5814, 5815, 5832, 5833, 5834, 5835, 5836, 5837, 5843, 5844, 5845, 5846, 5847, 5848, 5849, 5850, 5851, 5852, 5853, 5854, 5855, 5856, 5857, 5858, 5859, 5860, 5861, 5862, 5863, 5864, 5865, 5866, 5867, 5868, 5869, 5870, 5871, 5872, 5873, 5874, 5875, 5876, 5877, 5878, 5879, 5880, 5881, 5882, 5883, 5884, 5885, 5886, 5887, 5888, 5889, 5890, 5891, 5892, 5893, 5894, 5895, 5896, 5897, 5913, 5914, 5915, 5916, 5917, 5923, 5924, 5925, 5926, 5927, 5928, 5929, 5930, 5931, 5932, 5933, 5934, 5935, 5936, 5937, 5938, 5939, 5940, 5941, 5942, 5943, 5944, 5945, 5946, 5947, 5948, 5949, 5950, 5951, 5952, 5953, 5954, 5955, 5956, 5957, 5958, 5959, 5960, 5961, 5962, 5963, 5964, 5965, 5966, 5967, 5968, 5969, 5970, 5971, 5972, 5973, 5974, 5975, 5976, 5977, 5978, 5979, 5994, 5995, 5996, 5997, 6003, 6004, 6005, 6006, 6007, 6008, 6009, 6010, 6011, 6012, 6013, 6014, 6015, 6016, 6017, 6018, 6019, 6020, 6021, 6022, 6023, 6024, 6025, 6026, 6027, 6028, 6029, 6030, 6031, 6032, 6033, 6034, 6035, 6036, 6037, 6038, 6039, 6040, 6041, 6042, 6043, 6044, 6045, 6046, 6047, 6048, 6049, 6050, 6051, 6052, 6053, 6054, 6055, 6056, 6057, 6058, 6059, 6060, 6075, 6076, 6077, 6083, 6084, 6085, 6086, 6087, 6088, 6089, 6090, 6091, 6092, 6093, 6094, 6095, 6096, 6097, 6098, 6099, 6100, 6101, 6102, 6103, 6104, 6105, 6106, 6107, 6108, 6109, 6110, 6111, 6112, 6113, 6114, 6115, 6116, 6117, 6118, 6119, 6120, 6121, 6122, 6123, 6124, 6125, 6126, 6127, 6128, 6129, 6130, 6131, 6132, 6133, 6134, 6135, 6136, 6137, 6138, 6139, 6140, 6141, 6142, 6156, 6157, 6163, 6164, 6165, 6166, 6167, 6168, 6169, 6170, 6171, 6172, 6173, 6174, 6175, 6176, 6177, 6178, 6179, 6180, 6181, 6182, 6183, 6184, 6185, 6186, 6187, 6188, 6189, 6190, 6191, 6192, 6193, 6194, 6195, 6196, 6197, 6198, 6199, 6200, 6201, 6202, 6203, 6204, 6205, 6206, 6207, 6208, 6209, 6210, 6211, 6212, 6213, 6214, 6215, 6216, 6217, 6218, 6219, 6220, 6221, 6222, 6223, 6224, 6237, 6243, 6244, 6245, 6246, 6247, 6248, 6249, 6250, 6251, 6252, 6253, 6254, 6255, 6256, 6257, 6258, 6259, 6260, 6261, 6262, 6263, 6264, 6265, 6266, 6267, 6268, 6269, 6270, 6271, 6272, 6273, 6274, 6275, 6276, 6277, 6278, 6279, 6280, 6281, 6282, 6283, 6284, 6285, 6286, 6287, 6288, 6289, 6290, 6291, 6292, 6293, 6294, 6295, 6296, 6297, 6298, 6299, 6300, 6301, 6302, 6303, 6304, 6305, 6306, 6323, 6324, 6325, 6326, 6327, 6328, 6329, 6330, 6331, 6332, 6333, 6334, 6335, 6336, 6337, 6338, 6339, 6340, 6341, 6342, 6343, 6344, 6345, 6346, 6347, 6348, 6349, 6350, 6351, 6352, 6353, 6354, 6355, 6356, 6357, 6358, 6359, 6360, 6361, 6362, 6363, 6364, 6365, 6366, 6367, 6368, 6369, 6370, 6371, 6372, 6373, 6374, 6375, 6376, 6377, 6378, 6379, 6380, 6381, 6382, 6383, 6384, 6385, 6386, 6387, 6388, 6403, 6404, 6405, 6406, 6407, 6408, 6409, 6410, 6411, 6412, 6413, 6414, 6415, 6416, 6417, 6418, 6419, 6420, 6421, 6422, 6423, 6424, 6425, 6426, 6427, 6428, 6429, 6430, 6431, 6432, 6433, 6434, 6435, 6436, 6437, 6438, 6439, 6440, 6441, 6442, 6443, 6444, 6445, 6446, 6447, 6448, 6449, 6450, 6451, 6452, 6453, 6454, 6455, 6456, 6457, 6458, 6459, 6460, 6461, 6462, 6463, 6464, 6465, 6466, 6467, 6468, 6469, 6483, 6484, 6485, 6486, 6487, 6488, 6489, 6490, 6491, 6492, 6493, 6494, 6495, 6496, 6497, 6498, 6499, 6500, 6501, 6502, 6503, 6504, 6505, 6506, 6507, 6508, 6509, 6510, 6511, 6512, 6513, 6514, 6515, 6516, 6517, 6518, 6519, 6520, 6521, 6522, 6523, 6524, 6525, 6526, 6527, 6528, 6529, 6530, 6531, 6532, 6533, 6534, 6535, 6536, 6537, 6538, 6539, 6540, 6541, 6542, 6543, 6544, 6545, 6546, 6547, 6548, 6549, 6550, 6551]\n",
      "val ids:  []\n",
      "test ids:  [0, 1, 2, 3, 4, 5, 6, 7, 8, 78, 79, 80, 81, 82, 83, 84, 85, 86, 87, 88, 89, 90, 158, 159, 160, 161, 162, 163, 164, 165, 166, 167, 168, 169, 170, 171, 238, 239, 240, 241, 242, 243, 244, 245, 246, 247, 248, 249, 250, 251, 252, 253, 318, 319, 320, 321, 322, 324, 325, 326, 327, 328, 329, 330, 331, 332, 333, 334, 335, 398, 399, 400, 401, 402, 405, 406, 407, 408, 409, 410, 411, 412, 413, 414, 415, 416, 417, 478, 479, 480, 481, 482, 486, 487, 488, 489, 490, 491, 492, 493, 494, 495, 496, 497, 498, 499, 558, 559, 560, 561, 562, 567, 568, 569, 570, 571, 572, 573, 574, 575, 576, 577, 578, 579, 580, 638, 639, 640, 641, 642, 648, 649, 650, 651, 652, 653, 654, 655, 656, 657, 658, 659, 660, 661, 662, 718, 719, 720, 721, 722, 729, 730, 731, 732, 733, 734, 735, 736, 737, 738, 739, 740, 741, 742, 743, 744, 798, 799, 800, 801, 802, 810, 811, 812, 813, 814, 815, 816, 817, 818, 819, 820, 821, 822, 823, 824, 825, 826, 878, 879, 880, 881, 882, 892, 893, 894, 895, 896, 897, 898, 899, 900, 901, 902, 903, 904, 905, 906, 907, 908, 958, 959, 960, 961, 962, 974, 975, 976, 977, 978, 979, 980, 981, 982, 983, 984, 985, 986, 987, 988, 989, 1039, 1040, 1041, 1057, 1058, 1059, 1060, 1061, 1062, 1063, 1064, 1065, 1066, 1067, 1068, 1069, 1070, 1071, 1119, 1120, 1121, 1139, 1140, 1141, 1142, 1143, 1144, 1145, 1146, 1147, 1148, 1149, 1150, 1151, 1152, 1153, 1199, 1200, 1201, 1221, 1222, 1223, 1224, 1225, 1226, 1227, 1228, 1229, 1230, 1231, 1232, 1233, 1234, 1235, 1279, 1280, 1281, 1304, 1305, 1306, 1307, 1308, 1309, 1310, 1311, 1312, 1313, 1314, 1315, 1316, 1359, 1360, 1361, 1386, 1387, 1388, 1389, 1390, 1391, 1392, 1393, 1394, 1395, 1396, 1397, 1398, 1439, 1440, 1441, 1469, 1470, 1471, 1472, 1473, 1474, 1475, 1476, 1477, 1478, 1479, 1480, 1519, 1520, 1521, 1551, 1552, 1553, 1554, 1555, 1556, 1557, 1558, 1559, 1560, 1561, 1562, 1599, 1600, 1601, 1633, 1634, 1635, 1636, 1637, 1638, 1639, 1640, 1641, 1642, 1643, 1644, 1679, 1680, 1681, 1716, 1717, 1718, 1719, 1720, 1721, 1722, 1723, 1724, 1725, 1759, 1760, 1761, 1798, 1799, 1800, 1801, 1802, 1803, 1804, 1805, 1806, 1807, 1839, 1840, 1841, 1880, 1881, 1882, 1883, 1884, 1885, 1886, 1887, 1888, 1889, 1919, 1920, 1921, 1963, 1964, 1965, 1966, 1967, 1968, 1969, 1970, 1971, 1999, 2000, 2001, 2045, 2046, 2047, 2048, 2049, 2050, 2051, 2052, 2053, 2079, 2080, 2081, 2127, 2128, 2129, 2130, 2131, 2132, 2133, 2134, 2160, 2210, 2211, 2212, 2213, 2214, 2215, 2216, 2240, 2292, 2293, 2294, 2295, 2296, 2297, 2298, 2320, 2375, 2376, 2377, 2378, 2379, 2380, 2400, 2457, 2458, 2459, 2460, 2461, 2462, 2480, 2539, 2540, 2541, 2542, 2543, 2560, 2622, 2623, 2624, 2625, 2640, 2704, 2705, 2706, 2707, 2720, 2786, 2787, 2788, 2789, 2800, 2869, 2870, 2871, 2880, 2951, 2952, 2960, 3033, 3034, 3040, 3116, 3120, 3198, 3200, 3280, 3360, 3362, 3440, 3444, 3520, 3526, 3527, 3600, 3608, 3609, 3680, 3689, 3690, 3691, 3760, 3771, 3772, 3773, 3774, 3840, 3853, 3854, 3855, 3856, 3920, 3935, 3936, 3937, 3938, 4000, 4017, 4018, 4019, 4020, 4021, 4080, 4098, 4099, 4100, 4101, 4102, 4103, 4160, 4180, 4181, 4182, 4183, 4184, 4185, 4240, 4262, 4263, 4264, 4265, 4266, 4267, 4268, 4320, 4344, 4345, 4346, 4347, 4348, 4349, 4350, 4400, 4426, 4427, 4428, 4429, 4430, 4431, 4432, 4433, 4479, 4480, 4481, 4507, 4508, 4509, 4510, 4511, 4512, 4513, 4514, 4515, 4559, 4560, 4561, 4589, 4590, 4591, 4592, 4593, 4594, 4595, 4596, 4597, 4639, 4640, 4641, 4671, 4672, 4673, 4674, 4675, 4676, 4677, 4678, 4679, 4680, 4719, 4720, 4721, 4753, 4754, 4755, 4756, 4757, 4758, 4759, 4760, 4761, 4762, 4799, 4800, 4801, 4835, 4836, 4837, 4838, 4839, 4840, 4841, 4842, 4843, 4844, 4879, 4880, 4881, 4916, 4917, 4918, 4919, 4920, 4921, 4922, 4923, 4924, 4925, 4926, 4927, 4959, 4960, 4961, 4998, 4999, 5000, 5001, 5002, 5003, 5004, 5005, 5006, 5007, 5008, 5009, 5039, 5040, 5041, 5080, 5081, 5082, 5083, 5084, 5085, 5086, 5087, 5088, 5089, 5090, 5091, 5119, 5120, 5121, 5162, 5163, 5164, 5165, 5166, 5167, 5168, 5169, 5170, 5171, 5172, 5173, 5174, 5199, 5200, 5201, 5244, 5245, 5246, 5247, 5248, 5249, 5250, 5251, 5252, 5253, 5254, 5255, 5256, 5279, 5280, 5281, 5325, 5326, 5327, 5328, 5329, 5330, 5331, 5332, 5333, 5334, 5335, 5336, 5337, 5338, 5339, 5359, 5360, 5361, 5407, 5408, 5409, 5410, 5411, 5412, 5413, 5414, 5415, 5416, 5417, 5418, 5419, 5420, 5421, 5439, 5440, 5441, 5489, 5490, 5491, 5492, 5493, 5494, 5495, 5496, 5497, 5498, 5499, 5500, 5501, 5502, 5503, 5519, 5520, 5521, 5571, 5572, 5573, 5574, 5575, 5576, 5577, 5578, 5579, 5580, 5581, 5582, 5583, 5584, 5585, 5586, 5598, 5599, 5600, 5601, 5602, 5652, 5653, 5654, 5655, 5656, 5657, 5658, 5659, 5660, 5661, 5662, 5663, 5664, 5665, 5666, 5667, 5668, 5678, 5679, 5680, 5681, 5682, 5734, 5735, 5736, 5737, 5738, 5739, 5740, 5741, 5742, 5743, 5744, 5745, 5746, 5747, 5748, 5749, 5750, 5758, 5759, 5760, 5761, 5762, 5816, 5817, 5818, 5819, 5820, 5821, 5822, 5823, 5824, 5825, 5826, 5827, 5828, 5829, 5830, 5831, 5838, 5839, 5840, 5841, 5842, 5898, 5899, 5900, 5901, 5902, 5903, 5904, 5905, 5906, 5907, 5908, 5909, 5910, 5911, 5912, 5918, 5919, 5920, 5921, 5922, 5980, 5981, 5982, 5983, 5984, 5985, 5986, 5987, 5988, 5989, 5990, 5991, 5992, 5993, 5998, 5999, 6000, 6001, 6002, 6061, 6062, 6063, 6064, 6065, 6066, 6067, 6068, 6069, 6070, 6071, 6072, 6073, 6074, 6078, 6079, 6080, 6081, 6082, 6143, 6144, 6145, 6146, 6147, 6148, 6149, 6150, 6151, 6152, 6153, 6154, 6155, 6158, 6159, 6160, 6161, 6162, 6225, 6226, 6227, 6228, 6229, 6230, 6231, 6232, 6233, 6234, 6235, 6236, 6238, 6239, 6240, 6241, 6242, 6307, 6308, 6309, 6310, 6311, 6312, 6313, 6314, 6315, 6316, 6317, 6318, 6319, 6320, 6321, 6322, 6389, 6390, 6391, 6392, 6393, 6394, 6395, 6396, 6397, 6398, 6399, 6400, 6401, 6402, 6470, 6471, 6472, 6473, 6474, 6475, 6476, 6477, 6478, 6479, 6480, 6481, 6482, 6552, 6553, 6554, 6555, 6556, 6557, 6558, 6559, 6560]\n",
      "CPU times: user 183 ms, sys: 15.8 ms, total: 199 ms\n",
      "Wall time: 198 ms\n"
     ]
    }
   ],
   "source": [
    "%%time\n",
    "n_total = len(simulation.dataframe)\n",
    "n_train = len(simulation.dataframe[simulation.dataframe.type_of == \"train\"])\n",
    "n_val = len(simulation.dataframe[simulation.dataframe.type_of == \"val\"])\n",
    "n_test = len(simulation.dataframe[simulation.dataframe.type_of == \"test\"])\n",
    "n_train_hamiltonians = len(simulation.train_ids)\n",
    "n_val_hamiltonians = len(simulation.val_ids)\n",
    "n_test_hamiltonians = len(simulation.test_ids)\n",
    "n_total_hamiltonians = n_train_hamiltonians + n_val_hamiltonians + n_test_hamiltonians\n",
    "\n",
    "print(\"% train: \", n_train/n_total)\n",
    "print(\"% val: \",  n_val/n_total)\n",
    "print(\"% test: \", n_test/n_total)\n",
    "print(\"% train + val + test: \", (n_train+n_val+n_test)/n_total)\n",
    "print(\"\\n\")\n",
    "print(\"number of train hamiltonians: \", n_train_hamiltonians)\n",
    "print(\"number of val hamiltonians: \", n_val_hamiltonians)\n",
    "print(\"number of test hamiltonians: \", n_test_hamiltonians)\n",
    "print(\"total number of hamiltonians: \", n_total_hamiltonians)\n",
    "print(\"\\n\")\n",
    "print(\"train ids: \", simulation.train_ids)\n",
    "print(\"val ids: \", simulation.val_ids)\n",
    "print(\"test ids: \", simulation.test_ids)"
   ]
  },
  {
   "cell_type": "markdown",
   "metadata": {
    "papermill": {
     "duration": 0.017872,
     "end_time": "2020-07-16T01:11:26.840814",
     "exception": false,
     "start_time": "2020-07-16T01:11:26.822942",
     "status": "completed"
    },
    "tags": []
   },
   "source": [
    "## Running a simulation"
   ]
  },
  {
   "cell_type": "code",
   "execution_count": 27,
   "metadata": {
    "execution": {
     "iopub.execute_input": "2020-07-16T01:11:26.880275Z",
     "iopub.status.busy": "2020-07-16T01:11:26.879967Z",
     "iopub.status.idle": "2020-07-16T01:35:52.564188Z",
     "shell.execute_reply": "2020-07-16T01:35:52.564498Z"
    },
    "papermill": {
     "duration": 1465.704995,
     "end_time": "2020-07-16T01:35:52.564564",
     "exception": false,
     "start_time": "2020-07-16T01:11:26.859569",
     "status": "completed"
    },
    "tags": []
   },
   "outputs": [
    {
     "name": "stderr",
     "output_type": "stream",
     "text": [
      "\r",
      "running experiments:   0%|          | 0/100 [00:00<?, ?it/s]"
     ]
    },
    {
     "name": "stdout",
     "output_type": "stream",
     "text": [
      "Simulation mode:  dst\n"
     ]
    },
    {
     "name": "stderr",
     "output_type": "stream",
     "text": [
      "\r",
      "running experiments:   1%|          | 1/100 [00:18<30:05, 18.23s/it]"
     ]
    },
    {
     "name": "stderr",
     "output_type": "stream",
     "text": [
      "\r",
      "running experiments:   2%|▏         | 2/100 [00:37<30:08, 18.45s/it]"
     ]
    },
    {
     "name": "stderr",
     "output_type": "stream",
     "text": [
      "\r",
      "running experiments:   3%|▎         | 3/100 [00:53<28:59, 17.93s/it]"
     ]
    },
    {
     "name": "stderr",
     "output_type": "stream",
     "text": [
      "\r",
      "running experiments:   4%|▍         | 4/100 [01:06<26:19, 16.46s/it]"
     ]
    },
    {
     "name": "stderr",
     "output_type": "stream",
     "text": [
      "\r",
      "running experiments:   5%|▌         | 5/100 [01:17<23:18, 14.72s/it]"
     ]
    },
    {
     "name": "stderr",
     "output_type": "stream",
     "text": [
      "\r",
      "running experiments:   6%|▌         | 6/100 [01:31<22:43, 14.50s/it]"
     ]
    },
    {
     "name": "stderr",
     "output_type": "stream",
     "text": [
      "\r",
      "running experiments:   7%|▋         | 7/100 [01:47<23:12, 14.98s/it]"
     ]
    },
    {
     "name": "stderr",
     "output_type": "stream",
     "text": [
      "\r",
      "running experiments:   8%|▊         | 8/100 [01:56<20:15, 13.21s/it]"
     ]
    },
    {
     "name": "stderr",
     "output_type": "stream",
     "text": [
      "\r",
      "running experiments:   9%|▉         | 9/100 [02:10<20:27, 13.48s/it]"
     ]
    },
    {
     "name": "stderr",
     "output_type": "stream",
     "text": [
      "\r",
      "running experiments:  10%|█         | 10/100 [02:29<22:45, 15.17s/it]"
     ]
    },
    {
     "name": "stderr",
     "output_type": "stream",
     "text": [
      "\r",
      "running experiments:  11%|█         | 11/100 [02:43<21:40, 14.61s/it]"
     ]
    },
    {
     "name": "stderr",
     "output_type": "stream",
     "text": [
      "\r",
      "running experiments:  12%|█▏        | 12/100 [02:53<19:41, 13.43s/it]"
     ]
    },
    {
     "name": "stderr",
     "output_type": "stream",
     "text": [
      "\r",
      "running experiments:  13%|█▎        | 13/100 [03:10<20:56, 14.44s/it]"
     ]
    },
    {
     "name": "stderr",
     "output_type": "stream",
     "text": [
      "\r",
      "running experiments:  14%|█▍        | 14/100 [03:28<22:15, 15.53s/it]"
     ]
    },
    {
     "name": "stderr",
     "output_type": "stream",
     "text": [
      "\r",
      "running experiments:  15%|█▌        | 15/100 [03:37<19:03, 13.45s/it]"
     ]
    },
    {
     "name": "stderr",
     "output_type": "stream",
     "text": [
      "\r",
      "running experiments:  16%|█▌        | 16/100 [03:49<18:08, 12.96s/it]"
     ]
    },
    {
     "name": "stderr",
     "output_type": "stream",
     "text": [
      "\r",
      "running experiments:  17%|█▋        | 17/100 [03:58<16:15, 11.76s/it]"
     ]
    },
    {
     "name": "stderr",
     "output_type": "stream",
     "text": [
      "\r",
      "running experiments:  18%|█▊        | 18/100 [04:13<17:31, 12.82s/it]"
     ]
    },
    {
     "name": "stderr",
     "output_type": "stream",
     "text": [
      "\r",
      "running experiments:  19%|█▉        | 19/100 [04:26<17:18, 12.82s/it]"
     ]
    },
    {
     "name": "stderr",
     "output_type": "stream",
     "text": [
      "\r",
      "running experiments:  20%|██        | 20/100 [04:40<17:40, 13.25s/it]"
     ]
    },
    {
     "name": "stderr",
     "output_type": "stream",
     "text": [
      "\r",
      "running experiments:  21%|██        | 21/100 [04:57<18:59, 14.42s/it]"
     ]
    },
    {
     "name": "stderr",
     "output_type": "stream",
     "text": [
      "\r",
      "running experiments:  22%|██▏       | 22/100 [05:09<17:53, 13.76s/it]"
     ]
    },
    {
     "name": "stderr",
     "output_type": "stream",
     "text": [
      "\r",
      "running experiments:  23%|██▎       | 23/100 [05:25<18:30, 14.43s/it]"
     ]
    },
    {
     "name": "stderr",
     "output_type": "stream",
     "text": [
      "\r",
      "running experiments:  24%|██▍       | 24/100 [05:43<19:22, 15.29s/it]"
     ]
    },
    {
     "name": "stderr",
     "output_type": "stream",
     "text": [
      "\r",
      "running experiments:  25%|██▌       | 25/100 [05:56<18:29, 14.79s/it]"
     ]
    },
    {
     "name": "stderr",
     "output_type": "stream",
     "text": [
      "\r",
      "running experiments:  26%|██▌       | 26/100 [06:09<17:28, 14.16s/it]"
     ]
    },
    {
     "name": "stderr",
     "output_type": "stream",
     "text": [
      "\r",
      "running experiments:  27%|██▋       | 27/100 [06:22<16:55, 13.92s/it]"
     ]
    },
    {
     "name": "stderr",
     "output_type": "stream",
     "text": [
      "\r",
      "running experiments:  28%|██▊       | 28/100 [06:33<15:23, 12.83s/it]"
     ]
    },
    {
     "name": "stderr",
     "output_type": "stream",
     "text": [
      "\r",
      "running experiments:  29%|██▉       | 29/100 [06:49<16:16, 13.76s/it]"
     ]
    },
    {
     "name": "stderr",
     "output_type": "stream",
     "text": [
      "\r",
      "running experiments:  30%|███       | 30/100 [07:03<16:14, 13.92s/it]"
     ]
    },
    {
     "name": "stderr",
     "output_type": "stream",
     "text": [
      "\r",
      "running experiments:  31%|███       | 31/100 [07:20<17:10, 14.93s/it]"
     ]
    },
    {
     "name": "stderr",
     "output_type": "stream",
     "text": [
      "\r",
      "running experiments:  32%|███▏      | 32/100 [07:37<17:29, 15.44s/it]"
     ]
    },
    {
     "name": "stderr",
     "output_type": "stream",
     "text": [
      "\r",
      "running experiments:  33%|███▎      | 33/100 [07:52<17:18, 15.51s/it]"
     ]
    },
    {
     "name": "stderr",
     "output_type": "stream",
     "text": [
      "\r",
      "running experiments:  34%|███▍      | 34/100 [08:10<17:41, 16.08s/it]"
     ]
    },
    {
     "name": "stderr",
     "output_type": "stream",
     "text": [
      "\r",
      "running experiments:  35%|███▌      | 35/100 [08:26<17:16, 15.94s/it]"
     ]
    },
    {
     "name": "stderr",
     "output_type": "stream",
     "text": [
      "\r",
      "running experiments:  36%|███▌      | 36/100 [08:41<16:46, 15.72s/it]"
     ]
    },
    {
     "name": "stderr",
     "output_type": "stream",
     "text": [
      "\r",
      "running experiments:  37%|███▋      | 37/100 [08:59<17:11, 16.37s/it]"
     ]
    },
    {
     "name": "stderr",
     "output_type": "stream",
     "text": [
      "\r",
      "running experiments:  38%|███▊      | 38/100 [09:18<17:48, 17.23s/it]"
     ]
    },
    {
     "name": "stderr",
     "output_type": "stream",
     "text": [
      "\r",
      "running experiments:  39%|███▉      | 39/100 [09:30<15:56, 15.67s/it]"
     ]
    },
    {
     "name": "stderr",
     "output_type": "stream",
     "text": [
      "\r",
      "running experiments:  40%|████      | 40/100 [09:43<14:51, 14.85s/it]"
     ]
    },
    {
     "name": "stderr",
     "output_type": "stream",
     "text": [
      "\r",
      "running experiments:  41%|████      | 41/100 [09:57<14:21, 14.60s/it]"
     ]
    },
    {
     "name": "stderr",
     "output_type": "stream",
     "text": [
      "\r",
      "running experiments:  42%|████▏     | 42/100 [10:13<14:32, 15.03s/it]"
     ]
    },
    {
     "name": "stderr",
     "output_type": "stream",
     "text": [
      "\r",
      "running experiments:  43%|████▎     | 43/100 [10:26<13:46, 14.50s/it]"
     ]
    },
    {
     "name": "stderr",
     "output_type": "stream",
     "text": [
      "\r",
      "running experiments:  44%|████▍     | 44/100 [10:38<12:48, 13.72s/it]"
     ]
    },
    {
     "name": "stderr",
     "output_type": "stream",
     "text": [
      "\r",
      "running experiments:  45%|████▌     | 45/100 [10:49<11:52, 12.95s/it]"
     ]
    },
    {
     "name": "stderr",
     "output_type": "stream",
     "text": [
      "\r",
      "running experiments:  46%|████▌     | 46/100 [11:01<11:21, 12.63s/it]"
     ]
    },
    {
     "name": "stderr",
     "output_type": "stream",
     "text": [
      "\r",
      "running experiments:  47%|████▋     | 47/100 [11:12<10:49, 12.25s/it]"
     ]
    },
    {
     "name": "stderr",
     "output_type": "stream",
     "text": [
      "\r",
      "running experiments:  48%|████▊     | 48/100 [11:27<11:14, 12.96s/it]"
     ]
    },
    {
     "name": "stderr",
     "output_type": "stream",
     "text": [
      "\r",
      "running experiments:  49%|████▉     | 49/100 [11:41<11:11, 13.17s/it]"
     ]
    },
    {
     "name": "stderr",
     "output_type": "stream",
     "text": [
      "\r",
      "running experiments:  50%|█████     | 50/100 [11:57<11:45, 14.11s/it]"
     ]
    },
    {
     "name": "stderr",
     "output_type": "stream",
     "text": [
      "\r",
      "running experiments:  51%|█████     | 51/100 [12:15<12:34, 15.39s/it]"
     ]
    },
    {
     "name": "stderr",
     "output_type": "stream",
     "text": [
      "\r",
      "running experiments:  52%|█████▏    | 52/100 [12:34<13:01, 16.29s/it]"
     ]
    },
    {
     "name": "stderr",
     "output_type": "stream",
     "text": [
      "\r",
      "running experiments:  53%|█████▎    | 53/100 [12:49<12:33, 16.04s/it]"
     ]
    },
    {
     "name": "stderr",
     "output_type": "stream",
     "text": [
      "\r",
      "running experiments:  54%|█████▍    | 54/100 [13:05<12:10, 15.87s/it]"
     ]
    },
    {
     "name": "stderr",
     "output_type": "stream",
     "text": [
      "\r",
      "running experiments:  55%|█████▌    | 55/100 [13:24<12:42, 16.94s/it]"
     ]
    },
    {
     "name": "stderr",
     "output_type": "stream",
     "text": [
      "\r",
      "running experiments:  56%|█████▌    | 56/100 [13:35<11:10, 15.23s/it]"
     ]
    },
    {
     "name": "stderr",
     "output_type": "stream",
     "text": [
      "\r",
      "running experiments:  57%|█████▋    | 57/100 [13:50<10:41, 14.92s/it]"
     ]
    },
    {
     "name": "stderr",
     "output_type": "stream",
     "text": [
      "\r",
      "running experiments:  58%|█████▊    | 58/100 [14:05<10:34, 15.11s/it]"
     ]
    },
    {
     "name": "stderr",
     "output_type": "stream",
     "text": [
      "\r",
      "running experiments:  59%|█████▉    | 59/100 [14:19<10:07, 14.82s/it]"
     ]
    },
    {
     "name": "stderr",
     "output_type": "stream",
     "text": [
      "\r",
      "running experiments:  60%|██████    | 60/100 [14:36<10:21, 15.53s/it]"
     ]
    },
    {
     "name": "stderr",
     "output_type": "stream",
     "text": [
      "\r",
      "running experiments:  61%|██████    | 61/100 [14:55<10:35, 16.29s/it]"
     ]
    },
    {
     "name": "stderr",
     "output_type": "stream",
     "text": [
      "\r",
      "running experiments:  62%|██████▏   | 62/100 [15:07<09:31, 15.04s/it]"
     ]
    },
    {
     "name": "stderr",
     "output_type": "stream",
     "text": [
      "\r",
      "running experiments:  63%|██████▎   | 63/100 [15:23<09:33, 15.51s/it]"
     ]
    },
    {
     "name": "stderr",
     "output_type": "stream",
     "text": [
      "\r",
      "running experiments:  64%|██████▍   | 64/100 [15:38<09:10, 15.28s/it]"
     ]
    },
    {
     "name": "stderr",
     "output_type": "stream",
     "text": [
      "\r",
      "running experiments:  65%|██████▌   | 65/100 [15:55<09:13, 15.83s/it]"
     ]
    },
    {
     "name": "stderr",
     "output_type": "stream",
     "text": [
      "\r",
      "running experiments:  66%|██████▌   | 66/100 [16:11<08:56, 15.78s/it]"
     ]
    },
    {
     "name": "stderr",
     "output_type": "stream",
     "text": [
      "\r",
      "running experiments:  67%|██████▋   | 67/100 [16:23<08:05, 14.70s/it]"
     ]
    },
    {
     "name": "stderr",
     "output_type": "stream",
     "text": [
      "\r",
      "running experiments:  68%|██████▊   | 68/100 [16:38<07:54, 14.83s/it]"
     ]
    },
    {
     "name": "stderr",
     "output_type": "stream",
     "text": [
      "\r",
      "running experiments:  69%|██████▉   | 69/100 [16:54<07:49, 15.16s/it]"
     ]
    },
    {
     "name": "stderr",
     "output_type": "stream",
     "text": [
      "\r",
      "running experiments:  70%|███████   | 70/100 [17:10<07:42, 15.43s/it]"
     ]
    },
    {
     "name": "stderr",
     "output_type": "stream",
     "text": [
      "\r",
      "running experiments:  71%|███████   | 71/100 [17:24<07:18, 15.13s/it]"
     ]
    },
    {
     "name": "stderr",
     "output_type": "stream",
     "text": [
      "\r",
      "running experiments:  72%|███████▏  | 72/100 [17:37<06:44, 14.45s/it]"
     ]
    },
    {
     "name": "stderr",
     "output_type": "stream",
     "text": [
      "\r",
      "running experiments:  73%|███████▎  | 73/100 [17:47<05:50, 12.96s/it]"
     ]
    },
    {
     "name": "stderr",
     "output_type": "stream",
     "text": [
      "\r",
      "running experiments:  74%|███████▍  | 74/100 [18:08<06:39, 15.37s/it]"
     ]
    },
    {
     "name": "stderr",
     "output_type": "stream",
     "text": [
      "\r",
      "running experiments:  75%|███████▌  | 75/100 [18:20<05:58, 14.35s/it]"
     ]
    },
    {
     "name": "stderr",
     "output_type": "stream",
     "text": [
      "\r",
      "running experiments:  76%|███████▌  | 76/100 [18:38<06:11, 15.49s/it]"
     ]
    },
    {
     "name": "stderr",
     "output_type": "stream",
     "text": [
      "\r",
      "running experiments:  77%|███████▋  | 77/100 [18:52<05:49, 15.18s/it]"
     ]
    },
    {
     "name": "stderr",
     "output_type": "stream",
     "text": [
      "\r",
      "running experiments:  78%|███████▊  | 78/100 [19:08<05:39, 15.43s/it]"
     ]
    },
    {
     "name": "stderr",
     "output_type": "stream",
     "text": [
      "\r",
      "running experiments:  79%|███████▉  | 79/100 [19:23<05:21, 15.30s/it]"
     ]
    },
    {
     "name": "stderr",
     "output_type": "stream",
     "text": [
      "\r",
      "running experiments:  80%|████████  | 80/100 [19:40<05:14, 15.74s/it]"
     ]
    },
    {
     "name": "stderr",
     "output_type": "stream",
     "text": [
      "\r",
      "running experiments:  81%|████████  | 81/100 [19:52<04:34, 14.42s/it]"
     ]
    },
    {
     "name": "stderr",
     "output_type": "stream",
     "text": [
      "\r",
      "running experiments:  82%|████████▏ | 82/100 [20:05<04:15, 14.17s/it]"
     ]
    },
    {
     "name": "stderr",
     "output_type": "stream",
     "text": [
      "\r",
      "running experiments:  83%|████████▎ | 83/100 [20:20<04:06, 14.49s/it]"
     ]
    },
    {
     "name": "stderr",
     "output_type": "stream",
     "text": [
      "\r",
      "running experiments:  84%|████████▍ | 84/100 [20:38<04:05, 15.34s/it]"
     ]
    },
    {
     "name": "stderr",
     "output_type": "stream",
     "text": [
      "\r",
      "running experiments:  85%|████████▌ | 85/100 [20:53<03:50, 15.36s/it]"
     ]
    },
    {
     "name": "stderr",
     "output_type": "stream",
     "text": [
      "\r",
      "running experiments:  86%|████████▌ | 86/100 [21:07<03:27, 14.81s/it]"
     ]
    },
    {
     "name": "stderr",
     "output_type": "stream",
     "text": [
      "\r",
      "running experiments:  87%|████████▋ | 87/100 [21:24<03:22, 15.61s/it]"
     ]
    },
    {
     "name": "stderr",
     "output_type": "stream",
     "text": [
      "\r",
      "running experiments:  88%|████████▊ | 88/100 [21:36<02:52, 14.40s/it]"
     ]
    },
    {
     "name": "stderr",
     "output_type": "stream",
     "text": [
      "\r",
      "running experiments:  89%|████████▉ | 89/100 [21:52<02:43, 14.89s/it]"
     ]
    },
    {
     "name": "stderr",
     "output_type": "stream",
     "text": [
      "\r",
      "running experiments:  90%|█████████ | 90/100 [22:05<02:23, 14.32s/it]"
     ]
    },
    {
     "name": "stderr",
     "output_type": "stream",
     "text": [
      "\r",
      "running experiments:  91%|█████████ | 91/100 [22:13<01:51, 12.40s/it]"
     ]
    },
    {
     "name": "stderr",
     "output_type": "stream",
     "text": [
      "\r",
      "running experiments:  92%|█████████▏| 92/100 [22:27<01:44, 13.09s/it]"
     ]
    },
    {
     "name": "stderr",
     "output_type": "stream",
     "text": [
      "\r",
      "running experiments:  93%|█████████▎| 93/100 [22:44<01:38, 14.09s/it]"
     ]
    },
    {
     "name": "stderr",
     "output_type": "stream",
     "text": [
      "\r",
      "running experiments:  94%|█████████▍| 94/100 [22:59<01:26, 14.49s/it]"
     ]
    },
    {
     "name": "stderr",
     "output_type": "stream",
     "text": [
      "\r",
      "running experiments:  95%|█████████▌| 95/100 [23:13<01:11, 14.25s/it]"
     ]
    },
    {
     "name": "stderr",
     "output_type": "stream",
     "text": [
      "\r",
      "running experiments:  96%|█████████▌| 96/100 [23:31<01:01, 15.49s/it]"
     ]
    },
    {
     "name": "stderr",
     "output_type": "stream",
     "text": [
      "\r",
      "running experiments:  97%|█████████▋| 97/100 [23:45<00:44, 14.98s/it]"
     ]
    },
    {
     "name": "stderr",
     "output_type": "stream",
     "text": [
      "\r",
      "running experiments:  98%|█████████▊| 98/100 [23:57<00:28, 14.15s/it]"
     ]
    },
    {
     "name": "stderr",
     "output_type": "stream",
     "text": [
      "\r",
      "running experiments:  99%|█████████▉| 99/100 [24:09<00:13, 13.35s/it]"
     ]
    },
    {
     "name": "stderr",
     "output_type": "stream",
     "text": [
      "\r",
      "running experiments: 100%|██████████| 100/100 [24:25<00:00, 14.27s/it]"
     ]
    },
    {
     "name": "stderr",
     "output_type": "stream",
     "text": [
      "\r",
      "running experiments: 100%|██████████| 100/100 [24:25<00:00, 14.66s/it]"
     ]
    },
    {
     "name": "stdout",
     "output_type": "stream",
     "text": [
      "CPU times: user 24min 24s, sys: 1.79 s, total: 24min 25s\n",
      "Wall time: 24min 25s\n"
     ]
    },
    {
     "name": "stderr",
     "output_type": "stream",
     "text": [
      "\n"
     ]
    }
   ],
   "source": [
    "\n",
    "%%time\n",
    "simulation.run_simulation(n_experiments, start_n, fit_params,shuffle_rows, pred_params, random_features, \\\n",
    "                          store_in_lists, save_eigenvector, save_hamiltonian, save_accuracy,\\\n",
    "                          save_models)\n",
    "if simulation.fourier_mode is not None:\n",
    "    simulation.fourier_dataframe.head(10)"
   ]
  },
  {
   "cell_type": "code",
   "execution_count": 28,
   "metadata": {
    "execution": {
     "iopub.execute_input": "2020-07-16T01:35:52.640754Z",
     "iopub.status.busy": "2020-07-16T01:35:52.640429Z",
     "iopub.status.idle": "2020-07-16T01:35:52.664654Z",
     "shell.execute_reply": "2020-07-16T01:35:52.664320Z"
    },
    "papermill": {
     "duration": 0.064038,
     "end_time": "2020-07-16T01:35:52.664706",
     "exception": false,
     "start_time": "2020-07-16T01:35:52.600668",
     "status": "completed"
    },
    "tags": []
   },
   "outputs": [
    {
     "data": {
      "text/html": [
       "<div>\n",
       "<style scoped>\n",
       "    .dataframe tbody tr th:only-of-type {\n",
       "        vertical-align: middle;\n",
       "    }\n",
       "\n",
       "    .dataframe tbody tr th {\n",
       "        vertical-align: top;\n",
       "    }\n",
       "\n",
       "    .dataframe thead th {\n",
       "        text-align: right;\n",
       "    }\n",
       "</style>\n",
       "<table border=\"1\" class=\"dataframe\">\n",
       "  <thead>\n",
       "    <tr style=\"text-align: right;\">\n",
       "      <th></th>\n",
       "      <th>id</th>\n",
       "      <th>path</th>\n",
       "      <th>t1</th>\n",
       "      <th>t2</th>\n",
       "      <th>winding</th>\n",
       "      <th>phase</th>\n",
       "      <th>pred_phase</th>\n",
       "      <th>type_of</th>\n",
       "      <th>feat0</th>\n",
       "      <th>feat1</th>\n",
       "      <th>...</th>\n",
       "      <th>feat90</th>\n",
       "      <th>feat91</th>\n",
       "      <th>feat92</th>\n",
       "      <th>feat93</th>\n",
       "      <th>feat94</th>\n",
       "      <th>feat95</th>\n",
       "      <th>feat96</th>\n",
       "      <th>feat97</th>\n",
       "      <th>feat98</th>\n",
       "      <th>feat99</th>\n",
       "    </tr>\n",
       "  </thead>\n",
       "  <tbody>\n",
       "    <tr>\n",
       "      <th>0</th>\n",
       "      <td>0</td>\n",
       "      <td>H_-2_-2_0.509296.dat</td>\n",
       "      <td>-2.0</td>\n",
       "      <td>-2.0</td>\n",
       "      <td>0.509296</td>\n",
       "      <td>999</td>\n",
       "      <td>666</td>\n",
       "      <td>test</td>\n",
       "      <td>0.100000</td>\n",
       "      <td>0.100000</td>\n",
       "      <td>...</td>\n",
       "      <td>0.100000</td>\n",
       "      <td>0.100000</td>\n",
       "      <td>0.100000</td>\n",
       "      <td>0.100000</td>\n",
       "      <td>0.100000</td>\n",
       "      <td>0.100000</td>\n",
       "      <td>0.100000</td>\n",
       "      <td>0.100000</td>\n",
       "      <td>0.100000</td>\n",
       "      <td>0.100000</td>\n",
       "    </tr>\n",
       "    <tr>\n",
       "      <th>1</th>\n",
       "      <td>0</td>\n",
       "      <td>H_-2_-2_0.509296.dat</td>\n",
       "      <td>-2.0</td>\n",
       "      <td>-2.0</td>\n",
       "      <td>0.509296</td>\n",
       "      <td>999</td>\n",
       "      <td>666</td>\n",
       "      <td>test</td>\n",
       "      <td>0.141421</td>\n",
       "      <td>0.141142</td>\n",
       "      <td>...</td>\n",
       "      <td>0.114412</td>\n",
       "      <td>0.108967</td>\n",
       "      <td>0.123928</td>\n",
       "      <td>0.119406</td>\n",
       "      <td>0.131490</td>\n",
       "      <td>0.127962</td>\n",
       "      <td>0.136978</td>\n",
       "      <td>0.134500</td>\n",
       "      <td>0.140306</td>\n",
       "      <td>0.138916</td>\n",
       "    </tr>\n",
       "    <tr>\n",
       "      <th>2</th>\n",
       "      <td>0</td>\n",
       "      <td>H_-2_-2_0.509296.dat</td>\n",
       "      <td>-2.0</td>\n",
       "      <td>-2.0</td>\n",
       "      <td>0.509296</td>\n",
       "      <td>999</td>\n",
       "      <td>666</td>\n",
       "      <td>test</td>\n",
       "      <td>0.141421</td>\n",
       "      <td>0.140306</td>\n",
       "      <td>...</td>\n",
       "      <td>0.043702</td>\n",
       "      <td>0.026500</td>\n",
       "      <td>0.075777</td>\n",
       "      <td>0.060214</td>\n",
       "      <td>0.103092</td>\n",
       "      <td>0.090145</td>\n",
       "      <td>0.123928</td>\n",
       "      <td>0.114412</td>\n",
       "      <td>0.136978</td>\n",
       "      <td>0.131490</td>\n",
       "    </tr>\n",
       "    <tr>\n",
       "      <th>3</th>\n",
       "      <td>0</td>\n",
       "      <td>H_-2_-2_0.509296.dat</td>\n",
       "      <td>-2.0</td>\n",
       "      <td>-2.0</td>\n",
       "      <td>0.509296</td>\n",
       "      <td>999</td>\n",
       "      <td>666</td>\n",
       "      <td>test</td>\n",
       "      <td>-0.100000</td>\n",
       "      <td>0.100000</td>\n",
       "      <td>...</td>\n",
       "      <td>-0.100000</td>\n",
       "      <td>0.100000</td>\n",
       "      <td>-0.100000</td>\n",
       "      <td>0.100000</td>\n",
       "      <td>-0.100000</td>\n",
       "      <td>0.100000</td>\n",
       "      <td>-0.100000</td>\n",
       "      <td>0.100000</td>\n",
       "      <td>-0.100000</td>\n",
       "      <td>0.100000</td>\n",
       "    </tr>\n",
       "    <tr>\n",
       "      <th>4</th>\n",
       "      <td>0</td>\n",
       "      <td>H_-2_-2_0.509296.dat</td>\n",
       "      <td>-2.0</td>\n",
       "      <td>-2.0</td>\n",
       "      <td>0.509296</td>\n",
       "      <td>999</td>\n",
       "      <td>666</td>\n",
       "      <td>test</td>\n",
       "      <td>0.000509</td>\n",
       "      <td>-0.008372</td>\n",
       "      <td>...</td>\n",
       "      <td>-0.082713</td>\n",
       "      <td>-0.089753</td>\n",
       "      <td>-0.067684</td>\n",
       "      <td>-0.075347</td>\n",
       "      <td>-0.051587</td>\n",
       "      <td>-0.059753</td>\n",
       "      <td>-0.034677</td>\n",
       "      <td>-0.043217</td>\n",
       "      <td>-0.017220</td>\n",
       "      <td>-0.026000</td>\n",
       "    </tr>\n",
       "    <tr>\n",
       "      <th>5</th>\n",
       "      <td>0</td>\n",
       "      <td>H_-2_-2_0.509296.dat</td>\n",
       "      <td>-2.0</td>\n",
       "      <td>-2.0</td>\n",
       "      <td>0.509296</td>\n",
       "      <td>999</td>\n",
       "      <td>666</td>\n",
       "      <td>test</td>\n",
       "      <td>0.001204</td>\n",
       "      <td>-0.016530</td>\n",
       "      <td>...</td>\n",
       "      <td>-0.134123</td>\n",
       "      <td>-0.138686</td>\n",
       "      <td>-0.118757</td>\n",
       "      <td>-0.127445</td>\n",
       "      <td>-0.095929</td>\n",
       "      <td>-0.108196</td>\n",
       "      <td>-0.067073</td>\n",
       "      <td>-0.082149</td>\n",
       "      <td>-0.034003</td>\n",
       "      <td>-0.050940</td>\n",
       "    </tr>\n",
       "    <tr>\n",
       "      <th>6</th>\n",
       "      <td>0</td>\n",
       "      <td>H_-2_-2_0.509296.dat</td>\n",
       "      <td>-2.0</td>\n",
       "      <td>-2.0</td>\n",
       "      <td>0.509296</td>\n",
       "      <td>999</td>\n",
       "      <td>666</td>\n",
       "      <td>test</td>\n",
       "      <td>-0.141421</td>\n",
       "      <td>-0.138980</td>\n",
       "      <td>...</td>\n",
       "      <td>0.043375</td>\n",
       "      <td>0.067830</td>\n",
       "      <td>-0.009222</td>\n",
       "      <td>0.017385</td>\n",
       "      <td>-0.060524</td>\n",
       "      <td>-0.035502</td>\n",
       "      <td>-0.103326</td>\n",
       "      <td>-0.083403</td>\n",
       "      <td>-0.131616</td>\n",
       "      <td>-0.119589</td>\n",
       "    </tr>\n",
       "    <tr>\n",
       "      <th>7</th>\n",
       "      <td>0</td>\n",
       "      <td>H_-2_-2_0.509296.dat</td>\n",
       "      <td>-2.0</td>\n",
       "      <td>-2.0</td>\n",
       "      <td>0.509296</td>\n",
       "      <td>999</td>\n",
       "      <td>666</td>\n",
       "      <td>test</td>\n",
       "      <td>-0.000826</td>\n",
       "      <td>0.025688</td>\n",
       "      <td>...</td>\n",
       "      <td>0.134753</td>\n",
       "      <td>0.124324</td>\n",
       "      <td>0.141088</td>\n",
       "      <td>0.140407</td>\n",
       "      <td>0.127608</td>\n",
       "      <td>0.136771</td>\n",
       "      <td>0.096206</td>\n",
       "      <td>0.113925</td>\n",
       "      <td>0.051292</td>\n",
       "      <td>0.075079</td>\n",
       "    </tr>\n",
       "    <tr>\n",
       "      <th>8</th>\n",
       "      <td>0</td>\n",
       "      <td>H_-2_-2_0.509296.dat</td>\n",
       "      <td>-2.0</td>\n",
       "      <td>-2.0</td>\n",
       "      <td>0.509296</td>\n",
       "      <td>999</td>\n",
       "      <td>666</td>\n",
       "      <td>test</td>\n",
       "      <td>0.141417</td>\n",
       "      <td>0.136684</td>\n",
       "      <td>...</td>\n",
       "      <td>-0.115093</td>\n",
       "      <td>-0.131915</td>\n",
       "      <td>-0.061266</td>\n",
       "      <td>-0.091040</td>\n",
       "      <td>0.007717</td>\n",
       "      <td>-0.027643</td>\n",
       "      <td>0.074791</td>\n",
       "      <td>0.042592</td>\n",
       "      <td>0.123363</td>\n",
       "      <td>0.102291</td>\n",
       "    </tr>\n",
       "    <tr>\n",
       "      <th>9</th>\n",
       "      <td>0</td>\n",
       "      <td>H_-2_-2_0.509296.dat</td>\n",
       "      <td>-2.0</td>\n",
       "      <td>-2.0</td>\n",
       "      <td>0.509296</td>\n",
       "      <td>999</td>\n",
       "      <td>666</td>\n",
       "      <td>test</td>\n",
       "      <td>0.001302</td>\n",
       "      <td>0.036430</td>\n",
       "      <td>...</td>\n",
       "      <td>0.082068</td>\n",
       "      <td>0.050848</td>\n",
       "      <td>0.127402</td>\n",
       "      <td>0.108132</td>\n",
       "      <td>0.141218</td>\n",
       "      <td>0.138667</td>\n",
       "      <td>0.120099</td>\n",
       "      <td>0.134896</td>\n",
       "      <td>0.069268</td>\n",
       "      <td>0.097755</td>\n",
       "    </tr>\n",
       "  </tbody>\n",
       "</table>\n",
       "<p>10 rows × 108 columns</p>\n",
       "</div>"
      ],
      "text/plain": [
       "   id                  path   t1   t2   winding  phase  pred_phase type_of  \\\n",
       "0   0  H_-2_-2_0.509296.dat -2.0 -2.0  0.509296    999         666    test   \n",
       "1   0  H_-2_-2_0.509296.dat -2.0 -2.0  0.509296    999         666    test   \n",
       "2   0  H_-2_-2_0.509296.dat -2.0 -2.0  0.509296    999         666    test   \n",
       "3   0  H_-2_-2_0.509296.dat -2.0 -2.0  0.509296    999         666    test   \n",
       "4   0  H_-2_-2_0.509296.dat -2.0 -2.0  0.509296    999         666    test   \n",
       "5   0  H_-2_-2_0.509296.dat -2.0 -2.0  0.509296    999         666    test   \n",
       "6   0  H_-2_-2_0.509296.dat -2.0 -2.0  0.509296    999         666    test   \n",
       "7   0  H_-2_-2_0.509296.dat -2.0 -2.0  0.509296    999         666    test   \n",
       "8   0  H_-2_-2_0.509296.dat -2.0 -2.0  0.509296    999         666    test   \n",
       "9   0  H_-2_-2_0.509296.dat -2.0 -2.0  0.509296    999         666    test   \n",
       "\n",
       "      feat0     feat1  ...    feat90    feat91    feat92    feat93    feat94  \\\n",
       "0  0.100000  0.100000  ...  0.100000  0.100000  0.100000  0.100000  0.100000   \n",
       "1  0.141421  0.141142  ...  0.114412  0.108967  0.123928  0.119406  0.131490   \n",
       "2  0.141421  0.140306  ...  0.043702  0.026500  0.075777  0.060214  0.103092   \n",
       "3 -0.100000  0.100000  ... -0.100000  0.100000 -0.100000  0.100000 -0.100000   \n",
       "4  0.000509 -0.008372  ... -0.082713 -0.089753 -0.067684 -0.075347 -0.051587   \n",
       "5  0.001204 -0.016530  ... -0.134123 -0.138686 -0.118757 -0.127445 -0.095929   \n",
       "6 -0.141421 -0.138980  ...  0.043375  0.067830 -0.009222  0.017385 -0.060524   \n",
       "7 -0.000826  0.025688  ...  0.134753  0.124324  0.141088  0.140407  0.127608   \n",
       "8  0.141417  0.136684  ... -0.115093 -0.131915 -0.061266 -0.091040  0.007717   \n",
       "9  0.001302  0.036430  ...  0.082068  0.050848  0.127402  0.108132  0.141218   \n",
       "\n",
       "     feat95    feat96    feat97    feat98    feat99  \n",
       "0  0.100000  0.100000  0.100000  0.100000  0.100000  \n",
       "1  0.127962  0.136978  0.134500  0.140306  0.138916  \n",
       "2  0.090145  0.123928  0.114412  0.136978  0.131490  \n",
       "3  0.100000 -0.100000  0.100000 -0.100000  0.100000  \n",
       "4 -0.059753 -0.034677 -0.043217 -0.017220 -0.026000  \n",
       "5 -0.108196 -0.067073 -0.082149 -0.034003 -0.050940  \n",
       "6 -0.035502 -0.103326 -0.083403 -0.131616 -0.119589  \n",
       "7  0.136771  0.096206  0.113925  0.051292  0.075079  \n",
       "8 -0.027643  0.074791  0.042592  0.123363  0.102291  \n",
       "9  0.138667  0.120099  0.134896  0.069268  0.097755  \n",
       "\n",
       "[10 rows x 108 columns]"
      ]
     },
     "execution_count": 28,
     "metadata": {},
     "output_type": "execute_result"
    }
   ],
   "source": [
    "simulation.dataframe.head(10)"
   ]
  },
  {
   "cell_type": "markdown",
   "metadata": {
    "papermill": {
     "duration": 0.036113,
     "end_time": "2020-07-16T01:35:52.740238",
     "exception": false,
     "start_time": "2020-07-16T01:35:52.704125",
     "status": "completed"
    },
    "tags": []
   },
   "source": [
    "#### Viewing a random sample"
   ]
  },
  {
   "cell_type": "code",
   "execution_count": 29,
   "metadata": {
    "execution": {
     "iopub.execute_input": "2020-07-16T01:35:52.816668Z",
     "iopub.status.busy": "2020-07-16T01:35:52.816343Z",
     "iopub.status.idle": "2020-07-16T01:35:52.861606Z",
     "shell.execute_reply": "2020-07-16T01:35:52.861284Z"
    },
    "papermill": {
     "duration": 0.082797,
     "end_time": "2020-07-16T01:35:52.861660",
     "exception": false,
     "start_time": "2020-07-16T01:35:52.778863",
     "status": "completed"
    },
    "tags": []
   },
   "outputs": [
    {
     "name": "stdout",
     "output_type": "stream",
     "text": [
      "CPU times: user 35.1 ms, sys: 0 ns, total: 35.1 ms\n",
      "Wall time: 34.8 ms\n"
     ]
    }
   ],
   "source": [
    "%%time\n",
    "if simulation.fourier_mode is not None:\n",
    "    simulation.fourier_dataframe.sample(frac=0.1, replace=False)"
   ]
  },
  {
   "cell_type": "markdown",
   "metadata": {
    "papermill": {
     "duration": 0.036143,
     "end_time": "2020-07-16T01:35:52.934545",
     "exception": false,
     "start_time": "2020-07-16T01:35:52.898402",
     "status": "completed"
    },
    "tags": []
   },
   "source": [
    "#### Checking train/val/test splits again"
   ]
  },
  {
   "cell_type": "code",
   "execution_count": 30,
   "metadata": {
    "execution": {
     "iopub.execute_input": "2020-07-16T01:35:53.011580Z",
     "iopub.status.busy": "2020-07-16T01:35:53.011259Z",
     "iopub.status.idle": "2020-07-16T01:35:53.194300Z",
     "shell.execute_reply": "2020-07-16T01:35:53.194552Z"
    },
    "papermill": {
     "duration": 0.220994,
     "end_time": "2020-07-16T01:35:53.194622",
     "exception": false,
     "start_time": "2020-07-16T01:35:52.973628",
     "status": "completed"
    },
    "tags": []
   },
   "outputs": [
    {
     "name": "stdout",
     "output_type": "stream",
     "text": [
      "% train:  0.08474317939338516\n",
      "% val:  0.7620789513793629\n",
      "% test:  0.15317786922725193\n",
      "% train + val + test:  1.0\n",
      "\n",
      "\n",
      "number of train hamiltonians:  556\n",
      "number of val hamiltonians:  5000\n",
      "number of test hamiltonians:  1005\n",
      "total number of hamiltonians:  6561\n",
      "\n",
      "\n",
      "train ids:  [3542, 4569, 4420, 3249, 5010, 3825, 3106, 337, 5751, 1300, 5794, 1834, 4013, 2101, 6527, 690, 3007, 3706, 4982, 3221, 2330, 4318, 1127, 3704, 4568, 2452, 1524, 554, 2994, 2332, 1205, 6356, 1705, 3311, 1489, 3180, 3437, 762, 5048, 1909, 5458, 4242, 2246, 6344, 4226, 3183, 6248, 1527, 1195, 6180, 4501, 1447, 3049, 3063, 6217, 4997, 3144, 4293, 1671, 2206, 5238, 4802, 3979, 4660, 3890, 1460, 3290, 5808, 5205, 775, 5723, 4854, 3201, 1683, 4703, 4700, 4686, 1010, 2903, 3567, 2650, 5056, 3832, 6328, 5994, 5350, 3580, 2587, 6012, 2637, 2804, 2312, 4701, 3516, 6388, 6049, 5368, 2553, 5965, 4045, 2849, 6172, 190, 584, 4174, 2970, 3911, 4454, 4741, 1208, 2602, 1404, 1849, 3951, 2322, 4709, 5803, 5370, 197, 1045, 5113, 2642, 54, 6468, 284, 4383, 173, 288, 2338, 4394, 3783, 5693, 5466, 2550, 6542, 6350, 832, 4314, 779, 100, 2303, 1613, 3370, 6329, 6497, 3828, 5373, 5881, 5030, 2725, 2603, 2998, 5190, 2108, 1754, 5027, 1351, 6340, 2008, 4220, 4716, 3620, 6109, 135, 5951, 5260, 4189, 2801, 6466, 2414, 365, 3654, 5533, 4543, 4377, 2267, 6300, 3839, 2031, 5971, 4726, 3445, 759, 5694, 4934, 3687, 4164, 2022, 1948, 5850, 1349, 6533, 4910, 1324, 1989, 3670, 1053, 5443, 3483, 5948, 2742, 1546, 601, 3243, 2798, 2252, 5239, 347, 4211, 5222, 5518, 4788, 3500, 4845, 4988, 542, 2166, 2803, 3066, 3193, 5649, 1426, 5399, 5964, 3170, 4155, 5282, 6293, 6532, 4607, 5684, 4705, 5568, 1941, 1113, 1076, 5155, 2351, 2030, 1616, 118, 1047, 2697, 4764, 2898, 4610, 2242, 3804, 314, 6166, 948, 2905, 3409, 1687, 5622, 291, 2639, 5296, 2451, 429, 3229, 3663, 3121, 5074, 910, 3413, 2856, 3329, 3365, 2892, 4895, 1579, 590, 597, 212, 505, 6331, 4496, 3097, 4663, 2838, 2783, 5995, 5187, 6052, 3168, 922, 2568, 6437, 6454, 6519, 5886, 1320, 1160, 295, 4074, 5717, 2446, 4733, 5228, 1204, 2973, 11, 3889, 3133, 4381, 2170, 6224, 3673, 4308, 1828, 5403, 5097, 1620, 2495, 23, 1729, 1179, 2162, 4864, 6174, 3143, 3934, 2409, 4004, 4236, 4828, 50, 371, 6530, 3321, 147, 5320, 3055, 2262, 2992, 5137, 6211, 3847, 4088, 966, 3815, 1453, 4782, 1787, 2976, 2954, 1903, 2395, 6539, 2666, 6418, 1155, 4996, 454, 3005, 5527, 3027, 3285, 3837, 4875, 4552, 3957, 3455, 4599, 3299, 530, 4833, 4863, 3944, 1018, 2455, 2552, 4329, 2181, 3223, 6342, 3739, 1583, 5344, 4780, 1531, 939, 1328, 2467, 4888, 106, 4493, 868, 6045, 5219, 1577, 6075, 4550, 3384, 3112, 4297, 3151, 6138, 2713, 4928, 4053, 6179, 540, 6220, 2862, 1027, 4336, 1028, 5885, 637, 3320, 3599, 2033, 462, 4418, 2425, 152, 4173, 2761, 393, 5459, 2979, 221, 3842, 3709, 2413, 1243, 1408, 5669, 3250, 4743, 1646, 3700, 203, 4166, 5950, 3634, 2385, 1910, 6038, 3110, 2227, 3076, 3932, 5562, 1653, 4245, 344, 4634, 3423, 1783, 5874, 534, 476, 1892, 4338, 4282, 2264, 3651, 4690, 2966, 2923, 4170, 1102, 2819, 6192, 1104, 5604, 274, 5485, 3273, 5321, 4177, 4929, 1154, 4849, 353, 1602, 3047, 419, 5157, 5073, 1594, 3254, 2571, 6549, 3185, 6523, 2018, 39, 4952, 5385, 3649, 2466, 464, 2175, 5650, 1905, 3166, 2854, 782, 4751, 441, 3510, 4527, 1384, 4234, 3416, 4947, 4807, 1203, 3331, 566, 1830, 4104, 5140, 1528, 1407, 2183, 359, 4889, 206, 4659, 4657, 1344, 1212, 3763, 4278, 4310, 3964, 396, 1949, 4967, 2756, 595, 4342, 5955, 3948, 4087, 1418, 2220, 73, 3540, 205, 3336, 1674, 2447, 4877, 1996, 6529, 1159, 6028, 3269, 76, 747]\n",
      "val ids:  [604, 4154, 1448, 3310, 4196, 4725, 5714, 4187, 6445, 5309, 6461, 770, 3777, 3355, 6360, 4779, 1245, 990, 3907, 2514, 5233, 4695, 3192, 3813, 4539, 5438, 1209, 6494, 4497, 4303, 3256, 6237, 358, 3859, 1193, 6261, 2911, 3003, 196, 4517, 3429, 5804, 1333, 2339, 4852, 6354, 6330, 3949, 5047, 1192, 1660, 2221, 4614, 3438, 4175, 2493, 1267, 1115, 4114, 1688, 5265, 6431, 1485, 5833, 1955, 4351, 2680, 6325, 2373, 6547, 177, 2356, 3451, 1157, 4407, 4216, 3762, 1499, 4190, 2769, 2365, 370, 3191, 2040, 226, 1670, 3950, 3380, 4357, 511, 6444, 1935, 426, 3790, 4638, 2188, 5270, 3381, 2402, 5023, 2082, 3904, 5014, 4553, 374, 1938, 3525, 3492, 564, 1781, 361, 856, 4781, 6246, 4931, 1822, 4076, 3159, 2344, 3338, 1181, 713, 6100, 3448, 450, 1411, 4521, 2601, 757, 1862, 1850, 1591, 4688, 6034, 2834, 760, 1793, 1817, 6273, 431, 3894, 3630, 956, 4693, 605, 1509, 2718, 5098, 5431, 3459, 635, 1158, 4423, 943, 5235, 2176, 805, 5805, 3572, 1796, 5391, 5285, 3939, 830, 6516, 664, 4557, 6029, 1423, 6005, 2644, 136, 916, 4323, 2326, 1003, 1854, 4482, 1588, 2638, 928, 2536, 4270, 4179, 6443, 3877, 4366, 3476, 1246, 1669, 4522, 3560, 3473, 2286, 2753, 1769, 2824, 2750, 1335, 5112, 19, 2510, 3189, 1085, 6096, 500, 851, 842, 3552, 4120, 6176, 1652, 1623, 5272, 2066, 5195, 3485, 93, 2285, 3966, 2634, 4940, 5949, 3195, 6126, 114, 2864, 2884, 4846, 6140, 1017, 3348, 5627, 2342, 2733, 1875, 2311, 3631, 945, 2684, 6423, 920, 834, 4795, 4630, 5206, 3194, 4444, 4698, 289, 589, 2599, 3503, 4489, 4485, 2604, 4237, 4146, 3398, 5194, 5836, 1432, 794, 853, 290, 1111, 2357, 4791, 4684, 6199, 3622, 4538, 3844, 2468, 5670, 1658, 715, 3590, 4330, 6141, 1339, 467, 6272, 6257, 6427, 4544, 587, 1961, 237, 1632, 3602, 5753, 1871, 1942, 4204, 214, 6362, 24, 533, 2758, 2464, 3471, 1758, 2393, 3717, 6522, 3715, 4227, 6135, 4848, 2703, 107, 6511, 1002, 2523, 4505, 546, 6271, 3043, 122, 2386, 5866, 5883, 4969, 4667, 2810, 2829, 964, 3928, 5704, 3155, 6385, 883, 2368, 891, 4028, 543, 2981, 5020, 4853, 6092, 4152, 4372, 4468, 2511, 5506, 2928, 373, 5777, 5835, 2805, 6403, 5770, 2087, 1403, 2362, 6156, 4728, 4032, 1923, 369, 541, 1868, 3810, 381, 912, 3356, 3315, 6432, 784, 3834, 5484, 5394, 5065, 35, 5464, 5959, 3188, 2241, 3163, 2075, 1848, 6193, 3083, 2424, 4536, 301, 4654, 4252, 1595, 1236, 2515, 6467, 4223, 2956, 3491, 1419, 3523, 66, 3128, 1615, 4410, 2417, 2669, 2916, 3798, 5033, 1084, 5258, 2391, 4683, 1352, 3359, 1331, 3997, 3886, 185, 1649, 6361, 2647, 4702, 4397, 4385, 1435, 510, 2140, 3466, 1287, 804, 6253, 3493, 4472, 5229, 1976, 367, 2336, 4089, 3124, 5976, 6410, 5075, 971, 422, 4382, 4635, 3014, 5790, 6136, 3897, 4742, 3212, 1175, 3059, 2074, 717, 1007, 4151, 3077, 2302, 5349, 3104, 1008, 5797, 525, 2113, 470, 4443, 4525, 4067, 5123, 75, 6537, 4503, 1381, 2197, 1265, 2282, 1409, 5712, 2900, 1170, 3740, 712, 2021, 522, 2538, 2585, 6191, 3418, 4163, 1564, 5708, 2665, 310, 4269, 267, 70, 790, 3538, 5454, 5727, 271, 889, 4356, 1510, 3088, 1180, 5188, 876, 44, 3172, 1545, 2120, 275, 4109, 1879, 2407, 2593, 2235, 4770, 4535, 3985, 5342, 4378, 4047, 647, 5894, 3749, 1036, 5534, 3896, 2751, 861, 43, 6083, 4542, 2695, 6491, 5634, 2790, 4973, 6504, 2370, 198, 3349, 2477, 3122, 5069, 6436, 4616, 3479, 1977, 5688, 841, 3095, 25, 4093, 6493, 6465, 6458, 4113, 1630, 3022, 2548, 5442, 3638, 1481, 3705, 3635, 3283, 5150, 4769, 4450, 4167, 6326, 5357, 4600, 5152, 4031, 6420, 287, 5192, 1035, 2528, 2004, 1512, 778, 1582, 6260, 3006, 5895, 4231, 2254, 4034, 2920, 447, 1385, 1259, 174, 2934, 5044, 4887, 5211, 6535, 5876, 2525, 4484, 1926, 4892, 6524, 1858, 2877, 4001, 2416, 6404, 1994, 1511, 2945, 5292, 433, 4317, 64, 3961, 1960, 6453, 2564, 348, 874, 5695, 1899, 4392, 1690, 674, 1072, 6157, 103, 4745, 4162, 3225, 3970, 4984, 1366, 634, 27, 5268, 5287, 5570, 1666, 448, 1647, 1215, 2937, 5470, 3764, 5685, 797, 1809, 3187, 2060, 3117, 4499, 1466, 4981, 5480, 5548, 5637, 5465, 4831, 526, 5936, 3395, 3671, 6134, 840, 3972, 2449, 4815, 751, 2918, 2579, 5106, 1242, 3004, 4793, 2494, 2251, 2068, 6302, 4054, 4516, 236, 4827, 3415, 2191, 1293, 4058, 693, 1514, 5814, 5022, 4205, 5542, 5726, 1934, 3519, 2239, 4857, 3606, 3495, 4565, 204, 2055, 12, 4850, 6184, 2768, 3517, 4965, 6373, 5209, 193, 3625, 1092, 5931, 4891, 3327, 4713, 2549, 6196, 3158, 6043, 3645, 4483, 257, 2109, 5437, 4399, 1493, 3669, 1626, 3779, 3304, 2259, 4738, 2404, 2257, 2692, 1239, 509, 5645, 3410, 5963, 3563, 1490, 278, 6168, 4950, 3830, 4847, 6112, 3752, 1295, 4321, 6095, 1566, 1533, 833, 3697, 3909, 5050, 2325, 6113, 2501, 1414, 947, 4609, 1765, 4899, 2576, 4822, 2893, 5029, 843, 2196, 4579, 4435, 4287, 6299, 2771, 4707, 3708, 2664, 4601, 2099, 6222, 3569, 154, 4409, 5116, 1629, 2656, 2092, 4956, 1118, 6169, 957, 397, 2608, 4968, 2279, 5702, 1284, 352, 4685, 4304, 667, 5718, 3394, 451, 3060, 3589, 3678, 1110, 3867, 4470, 4147, 2835, 420, 2609, 716, 2833, 2832, 5810, 6133, 2873, 3496, 4447, 442, 3887, 434, 3746, 2032, 4386, 5348, 4466, 1739, 3490, 4279, 5133, 4580, 675, 3908, 2997, 1138, 4235, 5266, 6219, 2858, 1894, 6520, 2734, 1184, 2777, 1410, 4224, 3257, 4722, 6543, 2207, 2405, 4425, 5724, 2931, 3219, 3291, 6492, 995, 2410, 5550, 3123, 4199, 2588, 4244, 4384, 3345, 3701, 2157, 6018, 270, 4289, 5878, 4816, 2677, 2683, 3374, 1004, 1046, 1048, 4611, 4736, 281, 3340, 1196, 2406, 5380, 5220, 2948, 4060, 21, 3073, 4821, 4233, 2762, 1126, 6440, 5179, 4681, 3367, 2766, 1986, 934, 2154, 5267, 377, 2636, 3000, 6383, 2073, 4789, 2889, 2328, 4068, 2606, 3775, 5524, 4974, 28, 5538, 4250, 4637, 4119, 2522, 5774, 691, 1260, 1427, 307, 3541, 4301, 5879, 1240, 502, 6044, 5752, 1124, 1980, 3433, 5161, 5802, 2645, 4752, 383, 2278, 1416, 2315, 68, 3082, 827, 2013, 4868, 3435, 2505, 4704, 3087, 4016, 503, 4094, 4413, 3010, 4893, 1778, 300, 3860, 1132, 1264, 3514, 4142, 4294, 3584, 5846, 3892, 2056, 3723, 3167, 4902, 528, 2287, 55, 6456, 5025, 5969, 6352, 4176, 4402, 3577, 1137, 1748, 2726, 5104, 6247, 5594, 4570, 4126, 4775, 1098, 3968, 6289, 1622, 4130, 125, 5149, 3836, 6105, 366, 149, 2830, 2427, 4708, 6221, 2475, 5054, 2919, 5214, 3278, 6496, 2419, 786, 3378, 3693, 1367, 1323, 1173, 2077, 4210, 4361, 5961, 2041, 6381, 3624, 5198, 1777, 4567, 4143, 859, 6036, 207, 3202, 4520, 5353, 6518, 2605, 483, 2200, 3176, 4624, 582, 4095, 6269, 3173, 45, 3916, 536, 3973, 4129, 2732, 4367, 2921, 4123, 302, 6131, 5892, 5644, 6424, 1289, 3046, 596, 4291, 148, 1988, 262, 5476, 2959, 5374, 3001, 3135, 4439, 709, 3554, 3846, 3079, 2112, 3866, 3114, 5141, 4562, 5227, 1728, 6252, 852, 613, 1054, 4465, 4452, 1734, 5541, 1890, 292, 5672, 5160, 2411, 4555, 4090, 1738, 3318, 2841, 6175, 3613, 3326, 6033, 4939, 6323, 1073, 42, 5286, 6512, 5530, 342, 3755, 3642, 5315, 3268, 4404, 2289, 1972, 5597, 4064, 1788, 3392, 2765, 2831, 3539, 108, 2961, 4661, 636, 2371, 5925, 3906, 230, 2470, 1704, 5358, 6290, 2408, 5034, 4257, 725, 2865, 5462, 2820, 3851, 3551, 3786, 2116, 3807, 2915, 4084, 3658, 404, 3341, 1269, 6040, 1052, 2846, 4909, 3238, 2261, 283, 1161, 5535, 99, 5710, 4518, 4133, 955, 2775, 4354, 5362, 1974, 6013, 5115, 2138, 2709, 5071, 2091, 5893, 6195, 6127, 139, 5547, 1673, 2863, 1282, 1278, 3722, 4127, 6417, 925, 3802, 140, 3656, 2686, 1772, 1086, 4254, 858, 3408, 418, 3246, 3032, 4416, 463, 1792, 4071, 5545, 2626, 2987, 4033, 1940, 2808, 4077, 1429, 5261, 697, 2369, 765, 5612, 761, 4644, 4201, 1612, 3899, 4249, 1981, 4241, 5455, 376, 4504, 3041, 3664, 4334, 5389, 3333, 788, 5970, 1598, 3629, 2104, 5785, 2904, 2596, 3309, 2319, 2570, 3488, 5870, 3505, 5843, 34, 323, 5063, 666, 6088, 5311, 6386, 6347, 932, 3150, 3703, 6106, 3888, 2308, 2660, 4729, 3334, 2767, 5301, 5768, 5728, 5754, 2354, 3550, 1413, 2489, 6287, 306, 792, 3695, 3721, 5630, 3521, 3361, 2872, 6415, 116, 1829, 2909, 2442, 3827, 3770, 4316, 2710, 192, 3080, 2502, 4935, 6204, 1459, 4115, 2583, 5605, 178, 1106, 4442, 5215, 6214, 1549, 795, 2347, 6416, 3917, 791, 5526, 2271, 2014, 4079, 256, 755, 3145, 6296, 692, 1895, 4605, 1296, 3131, 1741, 2035, 5451, 1703, 2430, 3661, 3585, 4368, 1383, 473, 5343, 3861, 346, 2752, 3354, 2567, 1755, 6502, 3012, 2607, 965, 5640, 4772, 5240, 3922, 3467, 1580, 3754, 2433, 3472, 5158, 5565, 3741, 1789, 2572, 5935, 4288, 2228, 102, 2100, 423, 3399, 6406, 4813, 3826, 5322, 4873, 620, 2561, 6286, 4563, 5766, 6015, 1083, 2348, 3558, 3665, 2247, 6268, 1609, 3287, 4901, 4986, 1565, 4451, 864, 2403, 3555, 2034, 3358, 360, 766, 1488, 3822, 2301, 931, 4628, 4617, 4379, 6540, 5436, 3301, 5114, 5257, 3637, 5351, 5307, 2167, 2236, 368, 3852, 4048, 5690, 3372, 5124, 4938, 2629, 2205, 860, 4464, 4551, 606, 1947, 5849, 3725, 1375, 4178, 4717, 5390, 1399, 4401, 3789, 2064, 1713, 194, 6006, 1495, 1162, 2121, 92, 3368, 2086, 3623, 2496, 2500, 3732, 387, 4583, 2517, 48, 1255, 1211, 3728, 6060, 6137, 5595, 5847, 2667, 5514, 225, 3679, 6301, 3182, 2141, 127, 4810, 5352, 4051, 1468, 3281, 3405, 1274, 6208, 3284, 3593, 5926, 2717, 2305, 838, 3045, 1866, 1135, 2675, 6528, 5512, 845, 3571, 4648, 2202, 6358, 4865, 1091, 2106, 4933, 1614, 2989, 5469, 4976, 5404, 1608, 3210, 6278, 1795, 4369, 1214, 484, 2635, 4665, 6285, 1698, 5537, 18, 1486, 2658, 2991, 22, 1621, 585, 1611, 6375, 6501, 2826, 260, 2453, 378, 3666, 3561, 6085, 4871, 91, 4585, 1736, 2821, 4890, 1292, 4208, 1164, 2147, 1353, 3048, 3977, 26, 3103, 865, 2859, 3731, 3902, 4296, 2423, 4771, 1358, 614, 2299, 2779, 2815, 4285, 552, 2530, 5037, 783, 3260, 268, 4052, 6509, 2654, 2947, 5230, 5851, 3610, 6245, 15, 4573, 1483, 3325, 1762, 5674, 2558, 5626, 4137, 3090, 1846, 611, 375, 2930, 3142, 1247, 1543, 6366, 2799, 4578, 4658, 714, 3518, 4963, 6011, 504, 1927, 380, 308, 6189, 6207, 2689, 2083, 1675, 2816, 996, 5618, 6353, 183, 3868, 5138, 5064, 4727, 4907, 2562, 553, 469, 2519, 30, 2366, 2185, 74, 4105, 186, 6025, 1177, 2694, 4495, 5028, 182, 1855, 5504, 1650, 390, 475, 3019, 917, 6446, 4112, 5809, 2498, 3069, 5234, 5021, 3017, 4942, 1852, 999, 2420, 4866, 1742, 1374, 6413, 452, 4861, 3942, 5696, 5799, 4374, 4776, 3702, 4474, 2071, 3925, 2314, 5776, 3084, 2759, 5388, 508, 5960, 5057, 1438, 866, 3726, 5560, 296, 3564, 5444, 1604, 1487, 774, 592, 2190, 1202, 3307, 4002, 3963, 2454, 2630, 5382, 72, 5103, 6536, 1380, 1021, 2556, 5274, 772, 5013, 2277, 2187, 4038, 4668, 2469, 5675, 1103, 4069, 4251, 3165, 5079, 3482, 593, 5130, 565, 1785, 3412, 6525, 6513, 4380, 3324, 1462, 4027, 1578, 5872, 1784, 2662, 458, 6032, 6455, 5587, 5191, 3587, 2744, 5757, 517, 389, 56, 1506, 844, 1034, 520, 2026, 293, 1428, 4326, 5305, 1625, 3730, 5468, 2968, 4408, 3220, 3586, 294, 5945, 3156, 5242, 4948, 3780, 5975, 5128, 157, 3105, 1768, 4723, 2265, 3102, 4149, 2507, 6275, 4913, 6048, 3878, 2036, 3808, 1330, 2837, 1417, 2444, 1645, 677, 1449, 4941, 2244, 3401, 4647, 1906, 2401, 3598, 2749, 5259, 4876, 4867, 3805, 3339, 2484, 6201, 1752, 6490, 946, 1011, 2646, 2117, 3282, 5611, 156, 1790, 6531, 5401, 364, 255, 2855, 4777, 2155, 6449, 69, 4406, 4905, 4459, 5815, 5509, 3265, 1518, 969, 745, 2186, 5889, 5511, 5647, 3302, 1405, 4629, 3305, 839, 5221, 3428, 2674, 5070, 4696, 2679, 2696, 201, 1691, 1605, 2201, 5873, 5772, 4022, 767, 4300, 3207, 5300, 2260, 4790, 4808, 2882, 5146, 2005, 609, 3627, 4731, 4687, 2559, 1377, 2535, 547, 4666, 3100, 2184, 1867, 6405, 2361, 1169, 5706, 6125, 1757, 1433, 1444, 6298, 2483, 1253, 3549, 501, 3035, 1182, 2822, 279, 3987, 6359, 2574, 3833, 5929, 146, 5967, 4036, 1656, 5865, 3738, 5384, 1117, 1823, 6463, 3029, 1771, 603, 850, 1467, 612, 4082, 1188, 4290, 4272, 3363, 4046, 4006, 2598, 5629, 4809, 2693, 3237, 67, 2866, 1345, 392, 4327, 5042, 4042, 5291, 5148, 5204, 5045, 3692, 109, 3757, 557, 3021, 5944, 14, 138, 1237, 3442, 2156, 5516, 2072, 2663, 4588, 2727, 2755, 1954, 5782, 5269, 2478, 3070, 6487, 4987, 3843, 1751, 963, 3898, 4337, 3737, 5035, 5345, 4915, 5938, 6198, 3061, 1624, 227, 2426, 315, 2895, 336, 2272, 3052, 5237, 4390, 3619, 1534, 4131, 40, 1326, 3057, 2028, 3532, 3912, 5887, 973, 3218, 623, 4370, 2957, 5178, 6262, 3733, 4818, 2584, 1689, 4195, 619, 4894, 5917, 3806, 223, 5448, 6122, 4706, 6382, 5108, 3231, 5210, 1530, 2685, 4546, 5066, 4964, 5135, 2672, 1257, 179, 2715, 4140, 382, 218, 5175, 706, 3215, 4412, 6498, 4169, 5789, 4584, 282, 3443, 4421, 6047, 3758, 1619, 3205, 1382, 1262, 1125, 544, 2042, 4500, 631, 5592, 4649, 2886, 599, 1845, 5036, 4191, 2150, 4139, 1077, 5725, 5134, 2722, 1702, 4107, 2152, 6306, 5290, 4645, 2825, 115, 472, 2990, 3918, 4023, 51, 2396, 970, 4341, 1020, 1006, 2741, 3570, 5610, 3501, 5646, 1025, 5515, 3263, 5058, 3452, 594, 3259, 2582, 3801, 3373, 2355, 1617, 113, 3484, 5546, 33, 5340, 228, 6283, 3974, 6484, 4286, 6004, 3776, 4091, 6428, 723, 3125, 4056, 3346, 4075, 6419, 2812, 1442, 1672, 5914, 5302, 2171, 2757, 6515, 62, 1982, 5127, 6183, 2017, 5621, 2770, 5226, 1958, 2977, 1050, 4110, 4455, 3698, 2096, 4526, 3742, 3848, 6173, 2024, 4219, 2545, 155, 551, 456, 3596, 1005, 3931, 5355, 5711, 1662, 3727, 4041, 884, 1317, 5952, 2097, 6279, 4832, 1216, 1318, 3969, 2327, 2232, 1400, 5236, 2281, 6218, 3530, 437, 5295, 4662, 4364, 2223, 5968, 3322, 4778, 273, 3657, 1298, 3594, 6338, 5467, 1503, 1998, 4085, 455, 3449, 4878, 3995, 176, 3981, 4202, 6216, 5356, 4353, 468, 3875, 2482, 5479, 2353, 1813, 4010, 3181, 6469, 942, 4360, 1241, 6024, 2628, 1685, 1093, 3297, 4699, 3050, 2902, 1860, 2012, 6499, 6185, 749, 2668, 5278, 4862, 3529, 234, 1261, 6333, 181, 1770, 3258, 4750, 1831, 5424, 4371, 1945, 445, 3716, 923, 2316, 2592, 3489, 5813, 4992, 5429, 94, 2094, 2655, 5277, 1355, 2020, 3965, 6372, 5596, 2059, 3929, 5996, 2089, 2145, 1930, 4651, 4664, 1733, 2307, 1251, 2817, 5156, 3768, 5478, 1876, 4618, 5372, 5848, 1730, 1569, 1291, 1946, 6102, 5310, 2875, 3132, 2358, 6042, 3504, 909, 1537, 1019, 1956, 5806, 2474, 4319, 3434, 3016, 1665, 4603, 5699, 753, 5317, 724, 1016, 2932, 2491, 3275, 1995, 3817, 5531, 3499, 1651, 1750, 1820, 4724, 1456, 1851, 4694, 2764, 1572, 6421, 4393, 875, 3857, 3417, 5689, 3824, 5638, 5536, 5767, 3954, 5532, 4124, 5793, 1263, 372, 5197, 2139, 4548, 2699, 4970, 2743, 2270, 3312, 5447, 3999, 1338, 6348, 2063, 4958, 3085, 4811, 1812, 1731, 4469, 5432, 3288, 4049, 1458, 6209, 915, 6026, 4014, 3943, 5615, 1984, 5941, 5651, 3940, 5288, 6407, 3211, 2288, 2676, 3675, 3426, 5671, 5231, 4403, 4936, 705, 2910, 5101, 793, 4062, 643, 681, 4460, 339, 4494, 2938, 3474, 627, 4246, 5786, 3819, 2690, 4805, 6379, 187, 2284, 4215, 3068, 6087, 1824, 3858, 4396, 5697, 224, 5853, 1465, 6077, 1109, 4063, 1767, 6355, 2231, 6030, 1421, 3450, 1794, 229, 2499, 5032, 6110, 622, 3175, 5784, 2334, 38, 1219, 4281, 991, 3126, 3136, 1749, 4896, 5026, 6291, 5324, 2736, 4633, 1029, 3975, 4007, 1821, 4462, 4313, 919, 6186, 4315, 2164, 1129, 2434, 5856, 3799, 5405, 1952, 3247, 2149, 2577, 4273, 3621, 5059, 3253, 6124, 1507, 4735, 184, 1864, 6142, 2208, 4011, 2263, 2306, 1420, 2867, 1693, 2350, 4712, 4747, 2340, 2229, 5474, 3655, 3556, 890, 2437, 3300, 1712, 6017, 2723, 2174, 1901, 4388, 5481, 688, 781, 3056, 1983, 338, 5012, 231, 2843, 4449, 2290, 3850, 829, 6057, 3927, 2857, 2317, 3831, 2233, 3197, 3751, 1542, 3465, 3611, 6053, 1544, 5283, 2003, 71, 1529, 3535, 5154, 4473, 4903, 4830, 5589, 485, 6364, 3067, 309, 2273, 6488, 2754, 2828, 363, 2313, 3404, 809, 3792, 927, 126, 5126, 6541, 6213, 5729, 4697, 4957, 105, 2776, 4198, 2988, 1156, 6408, 972, 5522, 2006, 3785, 6084, 610, 3058, 124, 5677, 5517, 2887, 3574, 6425, 6118, 6039, 3794, 6464, 144, 1354, 3347, 5559, 3430, 1697, 2533, 5705, 10, 548, 5183, 4238, 3713, 3053, 298, 3900, 2671, 3387, 5859, 3506, 1957, 1322, 4820, 1571, 1682, 5011, 4284, 5487, 4260, 3149, 2807, 5567, 5643, 5543, 2926, 6022, 31, 421, 2199, 2894, 2518, 4072, 2551, 512, 4995, 5460, 2110, 531, 5603, 2015, 2657, 2984, 4576, 3293, 3882, 5781, 6526, 1123, 2524, 728, 317, 5613, 953, 6130, 2557, 2300, 5122, 2428, 1878, 6139, 1171, 5486, 6274, 6448, 261, 5566, 5553, 6343, 134, 3913, 1498, 2595, 4405, 60, 6119, 3099, 2861, 4577, 5798, 5386, 3684, 2178, 4932, 2422, 474, 992, 5449, 5837, 6256, 2172, 2784, 4870, 5888, 1993, 3214, 2955, 4749, 3750, 3676, 5180, 3147, 6194, 1463, 3294, 259, 1014, 5275, 5552, 2039, 5243, 5832, 2659, 1737, 4150, 3903, 2443, 2526, 355, 5062, 4158, 5422, 4086, 2546, 4335, 3420, 47, 1603, 312, 3139, 6114, 4306, 4689, 854, 1933, 4523, 6249, 4040, 6258, 6190, 1210, 6451, 58, 2002, 3812, 3335, 4138, 2103, 4502, 3648, 1597, 5293, 1321, 77, 6181, 1078, 2555, 6215, 2118, 1539, 4419, 5096, 4953, 5363, 180, 354, 4415, 1928, 1167, 5482, 3203, 4834, 1248, 1133, 5289, 1535, 1290, 6514, 3729, 1294, 1445, 2124, 4467, 5557, 1425, 5997, 3464, 1100, 5505, 6093, 4387, 2782, 3199, 1861, 2885, 57, 4271, 952, 111, 3094, 4985, 5379, 1774, 3797, 280, 4389, 6411, 6170, 2844, 2986, 2399, 4322, 2497, 5031, 2471, 4141, 3364, 311, 3295, 3186, 1536, 5979, 1870, 4911, 4796, 1782, 626, 3816, 618, 3148, 1207, 3745, 1254, 1978, 2329, 3652, 3933, 5182, 1936, 5861, 5854, 3044, 1347, 4531, 2547, 3668, 3316, 1258, 1628, 1492, 4823, 4937, 2016, 1364, 4549, 993, 5875, 5483, 2847, 3644, 538, 4626, 5434, 1273, 2906, 1166, 1819, 1371, 1931, 5676, 951, 2620, 5297, 3303, 3024, 1365, 3377, 2569, 5703, 1699, 3323, 2372, 764, 133, 5852, 2397, 350, 4650, 5102, 4714, 3579, 6267, 4331, 5105, 2335, 1270, 1648, 4622, 3618, 3289, 4819, 2488, 4203, 3169, 3605, 2980, 1049, 61, 1218, 2381, 5446, 1424, 1586, 1055, 6435, 4096, 2563, 2465, 4253, 2972, 1244, 1735, 142, 4906, 2249, 4009, 2964, 5375, 2652, 6019, 1482, 6339, 3020, 2813, 3366, 6409, 3993, 3397, 3458, 1285, 1082, 3251, 5323, 1009, 5641, 4606, 6037, 1891, 1944, 6365, 954, 272, 3071, 428, 4212, 1606, 3267, 1786, 2054, 1369, 4295, 4851, 5698, 2217, 3835, 2238, 1827, 4765, 4128, 2513, 808, 3641, 1814, 3241, 4794, 5043, 1163, 5398, 3699, 5927, 6336, 5177, 1618, 4856, 3306, 2352, 5940, 5060, 5624, 3962, 4530, 3548, 6054, 2678, 2643, 2487, 5619, 3614, 1038, 1252, 4232, 2935, 4566, 3545, 1436, 6123, 6503, 1191, 2234, 5433, 143, 583, 2610, 2479, 4944, 4598, 5957, 4276, 3672, 1080, 1943, 395, 2899, 949, 3138, 4436, 5298, 2044, 2827, 4243, 457, 2125, 4554, 3712, 5722, 2600, 645, 3447, 4825, 1677, 5508, 3161, 1707, 3098, 2189, 6387, 3873, 3072, 117, 3427, 4646, 5687, 1097, 6282, 4375, 646, 6243, 588, 1406, 6007, 3838, 5869, 1714, 5561, 3137, 3157, 3272, 3864, 5271, 625, 2324, 217, 5633, 4949, 3576, 930, 5132, 3575, 787, 5216, 477, 6341, 5427, 2806, 403, 4039, 615, 6197, 1843, 6098, 2070, 1975, 1494, 3818, 5212, 5791, 3351, 3153, 2321, 1178, 676, 1107, 2173, 3292, 4574, 121, 1105, 3308, 2648, 6434, 304, 750, 5347, 1136, 5107, 4118, 5636, 4977, 4792, 3332, 6091, 3544, 4307, 5316, 1094, 846, 1283, 5016, 3588, 123, 5555, 4826, 699, 345, 2802, 4734, 6076, 2383, 5078, 394, 2711, 5593, 3660, 3421, 5635, 6010, 2529, 5731, 4057, 3820, 1853, 678, 3217, 3118, 2144, 5452, 5208, 5801, 4325, 3376, 1898, 130, 65, 4161, 3228, 2343, 2876, 5780, 6027, 1922, 2851, 2490, 1272, 513, 1701, 6374, 5862, 277, 3914, 1727, 4608, 1500, 2310, 2126, 3171, 1266, 2747, 3213, 2763, 4417, 1348, 2839, 3796, 5588, 3245, 1744, 2009, 5341, 2390, 3319, 1753, 6384, 4343, 379, 2554, 6441, 6104, 1835, 2965, 4477, 1220, 1811, 2949, 6284, 1584, 1667, 2791, 4026, 933, 5932, 1746, 4398, 2633, 5882, 4642, 700, 2978, 3955, 3578, 1238, 1913, 3240, 1081, 6089, 5068, 1592, 628, 6086, 2721, 1715, 3537, 3030, 188, 5523, 4339, 2367, 46, 4784, 1484, 3262, 3127, 3230, 1502, 2527, 3242, 1446, 5147, 4812, 5092, 129, 2142, 3252, 5939, 3581, 2276, 1217, 3829, 2941, 914, 4070, 6377, 2438, 4411, 4073, 461, 4564, 3078, 3403, 1337, 2331, 2969, 2374, 4168, 1937, 862, 6295, 2995, 2632, 3547, 2740, 5450, 5224, 6055, 3626, 386, 3111, 2907, 3011, 1491, 4083, 3998, 3469, 1763, 6495, 4015, 1112, 1780, 2065, 5095, 2027, 20, 4437, 3681, 3357, 3719, 195, 673, 5273, 4785, 6117, 4897, 5428, 769, 3930, 4059, 5397, 1900, 607, 4669, 2283, 4037, 2611, 4763, 1340, 1276, 831, 4292, 1550, 4860, 2823, 2148, 4229, 3279, 2258, 1775, 1455, 6327, 2516, 1213, 5510, 5796, 2291, 5607, 4951, 3298, 5196, 1992, 1522, 2940, 6132, 2913, 4954, 2384, 4556, 2617, 5354, 1505, 1678, 3470, 2025, 191, 2275, 1325, 4050, 439, 4602, 3515, 6046, 5453, 4787, 523, 2963, 5262, 3841, 1185, 4604, 1810, 1501, 5377, 1343, 3498, 5686, 2268, 3923, 550, 2621, 2589, 172, 1336, 527, 3568, 5954, 3507, 1183, 2456, 6281, 2274, 5733, 1378, 4486, 5765, 3031, 4718, 886, 3994, 1329, 2061, 276, 2581, 3553, 2936, 2891, 3092, 828, 3353, 4134, 2730, 1023, 5052, 5426, 4132, 4116, 2688, 5956, 6414, 6212, 6188, 175, 1056, 5858, 16, 3992, 4108, 3054, 6244, 6508, 848, 3791, 888, 4029, 5117, 2472, 5800, 581, 3486, 1915, 5549, 1847, 2521, 3463, 216, 2503, 556, 5202, 3074, 2883, 6008, 4803, 4373, 4256, 2735, 5721, 516, 2881, 6452, 153, 1745, 5897, 4627, 5623, 5811, 5364, 2939, 2746, 617, 1437, 4438, 4829, 97, 529, 5077, 3862, 444, 1939, 1872, 887, 1452, 5787, 6129, 2653, 1075, 2194, 5778, 4206, 4824, 5406, 586, 4653, 2010, 2165, 6551, 5974, 803, 3383, 2797, 3756, 3885, 1074, 3941, 2382, 5110, 1271, 5648, 2062, 1979, 3784, 3065, 1342, 4221, 5100, 6280, 3674, 1659, 1454, 1815, 3385, 220, 3881, 703, 101, 1101, 3782, 2177, 532, 3038, 3880, 446, 1451, 4491, 2917, 4457, 936, 3344, 5639, 3096, 4136, 1089, 3113, 6101, 3612, 2597, 2993, 5109, 5713, 2151, 6380, 6367, 1496, 2432, 5525, 3633, 3391, 232, 5616, 3406, 2168, 929, 3190, 5475, 131, 1001, 4106, 3531, 4692, 624, 1376, 202, 2122, 1299, 137, 4990, 771, 6544, 967, 2878, 5628, 4448, 5378, 6203, 1515, 4395, 2739, 2700, 2774, 5807, 3682, 3849, 3239, 6349, 5953, 2809, 1708, 4275, 2349, 4993, 5477, 36, 2780, 3107, 349, 2093, 3276, 1818, 6460, 2670, 6334, 4200, 4218, 3371, 3603, 758, 466, 4966, 4711, 3989, 5181, 5366, 1523, 3439, 4299, 2512, 632, 6187, 727, 316, 5312, 1874, 341, 1037, 6500, 2850, 2309, 6090, 5145, 1985, 3683, 5913, 2102, 2076, 2772, 630, 4192, 6429, 3422, 5701, 1924, 132, 3248, 5457, 2896, 5937, 3767, 6510, 6276, 1095, 1816, 521, 2341, 1497, 59, 110, 680, 5241, 263, 3562, 5642, 3424, 3039, 5923, 5371, 104, 5719, 2337, 5213, 5217, 5038, 3946, 1525, 6534, 5193, 3803, 3036, 424, 6363, 3534, 2781, 2573, 4157, 1857, 3967, 3204, 4858, 4537, 1172, 672, 5700, 4558, 3266, 2421, 5019, 5176, 4533, 4222, 2043, 6378, 4440, 3008, 3958, 3761, 440, 5544, 857, 1024, 1350, 2794, 2879, 5306, 6294, 3769, 1079, 2436, 2724, 2922, 150, 1914, 6368, 671, 2219, 2069, 3042, 4478, 6200, 3616, 918, 3178, 600, 6521, 682, 1791, 4456, 6094, 6182, 53, 98, 2255, 4632, 1250, 3814, 2702, 3119, 1370, 6450, 3528, 3037, 3342, 5720, 5387, 4572, 1189, 3921, 6035, 1206, 5692, 340, 2318, 6345, 3883, 6438, 6485, 4078, 3081, 994, 686, 2084, 6459, 2058, 2038, 518, 1575, 6376, 1108, 2345, 3597, 2590, 3895, 4623, 6223, 5143, 1655, 1756, 427, 1837, 1277, 3255, 4581, 3343, 6164, 2999, 2996, 5716, 5392, 2836, 2641, 5715, 3216, 4619, 756, 1929, 1918, 5159, 5225, 937, 3154, 4311, 5456, 2933, 1700, 3884, 2218, 5529, 4446, 1865, 2708, 5947, 3640, 2673, 5093, 5365, 2203, 1190, 2029, 2418, 3988, 4774, 5223, 4261, 777, 432, 4855, 6486, 5395, 1959, 5203, 796, 3876, 5319, 5857, 1593, 4092, 4490, 1773, 3232, 5614, 6177, 6111, 1574, 4324, 3793, 4008, 1991, 2953, 6206, 5472, 6346, 3734, 549, 1031, 1897, 4615, 3628, 2760, 3209, 3062, 3196, 6263, 4117, 2927, 52, 2256, 286, 3274, 3064, 3162, 4898, 1174, 539, 4621, 3512, 6357, 2439, 2661, 873, 3402, 2544, 3953, 6337, 95, 5369, 4492, 3477, 4362, 357, 2712, 6505, 4739, 629, 6439, 535, 4730, 4025, 2078, 5046, 524, 215, 6433, 1168, 4652, 4971, 2586, 4534, 1877, 5189, 3013, 5916, 748, 6016, 752, 3662, 683, 1012, 3959, 6255, 6426, 4732, 2392, 5625, 1526, 835, 1131, 1015, 2729, 2269, 1087, 2728, 4768, 3991, 1732, 5884, 4230, 1356, 5867, 4302, 4930, 4859, 3407, 3502, 3688, 3091, 6412, 3901, 1661, 6178, 5788, 5513, 2486, 5232, 3990, 6351, 2222, 3984, 665, 3546, 5131, 507, 1859, 5775, 5617, 644, 2682, 871, 685, 6163, 3134, 3414, 5632, 2748, 5554, 6259, 6462, 3419, 3735, 608, 3978, 4972, 4884, 4359, 689, 694, 6205, 1187, 4524, 5834, 2985, 1842, 3524, 1844, 3872, 4097, 5139, 2796, 2698, 2975, 3811, 2731, 2204, 5400, 2612, 3352, 2023, 5294, 1516, 4111, 5569, 2943, 3980, 119, 4912, 2333, 3235, 663, 5779, 3615, 3396, 6020, 4670, 3509, 2111, 2159, 3164, 2085, 208, 2908, 921, 1431, 3891, 5015, 3787, 5763, 5129, 3224, 5863, 5773, 668, 2179, 2778, 5346, 4612, 1368, 1710, 6121, 2974, 3714, 269, 3595, 3233, 200, 2485, 3432, 2520, 5218, 3244, 944, 1726, 3350, 4488, 3431, 3481, 3905, 3643, 41, 265, 2476, 3636, 616, 3234, 5024, 3206, 6171, 3386, 6120, 4817, 3028, 2389, 1176, 4305, 4487, 436, 351, 1797, 9, 598, 6324, 1517, 3222, 4869, 1430, 6442, 5314, 5707, 5978, 1902, 4135, 3261, 3174, 4159, 1590, 5942, 5461, 3475, 3686, 2067, 4207, 2853, 3393, 4424, 4545, 5507, 684, 285, 1297, 6517, 1869, 5855, 2868, 2565, 4352, 3647, 4767, 1541, 877, 2950, 3390, 5435, 460, 6099, 1033, 1951, 3513, 1415, 5144, 5795, 3330, 3446, 1134, 4806, 1907, 6332, 459, 1654, 5471, 2578, 935, 1836, 4519, 5376, 941, 4283, 465, 4280, 5367, 2537, 3093, 3592, 1099, 3759, 6335, 3441, 5304, 6370, 5558, 3375, 3591, 3425, 5445, 3002, 1302, 1373, 4030, 2088, 1332, 1457, 913, 128, 2253, 6304, 3227, 313, 3947, 5049, 471, 4258, 4872, 4188, 1114, 1953, 443, 3960, 6457, 4766, 5185, 4298, 3536, 1122, 1808, 1532, 4682, 2716, 6265, 430, 563, 385, 63, 1904, 3976, 3089, 2619, 4328, 2631, 5430, 219, 4883, 2363, 3141, 4587, 1766, 4532, 1165, 5111, 555, 4783, 3160, 1379, 3009, 2180, 2860, 5151, 1022, 1341, 5880, 5691, 3023, 5313, 2719, 2888, 3632, 3573, 5018, 6369, 5933, 4214, 2388, 5812, 3487, 3480, 1576, 1128, 1684, 1573, 5276, 1275, 5755, 5383, 210, 4740, 5590, 425, 3795, 1044, 4312, 4528, 3152, 5125, 4217, 1657, 4914, 5051, 1973, 3863, 2182, 702, 602, 4885, 2280, 2412, 6422, 1434, 2929, 5896, 1585, 1581, 3766, 2701, 233, 3015, 2795, 6009, 6115, 3736, 1319, 1663, 151, 695, 4125, 2359, 6059, 3328, 806, 3650, 5539, 687, 2852, 4012, 1334, 3871, 4571, 4414, 506, 384, 2967, 2840, 211, 5118, 5556, 4066, 1916, 4458, 2146, 4991, 4908, 5771, 5425, 2463, 438, 754, 199, 3494, 1696, 1764, 6051, 6128, 911, 1896, 4498, 940, 305, 773, 1856, 4946, 3718, 4631, 4547, 545, 3533, 6107, 4194, 2651, 5730, 3743, 6545, 6014, 3952, 3604, 3748, 4613, 1256, 4248, 5890, 6103, 1587, 3617, 5551, 2958, 863, 3559, 2114, 2874, 388, 141, 2982, 3983, 3945, 2737, 3823, 2924, 2143, 4945, 4715, 847, 4636, 6550, 4962, 2618, 5076, 1412, 2504, 1268, 3236, 4309, 4065, 4247, 3177, 2095, 3478, 1443, 2123, 4575, 514, 1873, 4228, 6041, 3461, 1026, 5142, 872, 4153, 1197, 2198, 726, 2944, 4340, 2098, 4043, 5153, 3747, 3744, 3583, 1833, 3317, 849, 4172, 2492, 1740, 2360, 5924, 2614, 1838, 4978, 1863, 254, 1925, 1695, 3109, 707, 3411, 1692, 5783, 3497, 1032, 4620, 3893, 785, 4710, 5528, 5930, 5094, 1540, 2649, 4453, 3865, 519, 4814, 3051, 3296, 5860, 4332, 2848, 5977, 6371, 96, 13, 449, 4773, 303, 6270, 5591, 3026, 2019, 4441, 4035, 1547, 5962, 3018, 867, 6507, 4983, 938, 6050, 3821, 1186, 1090, 2811, 264, 5864, 2481, 3711, 6210, 112, 3956, 746, 3765, 2773, 4197, 1962, 2193, 4044, 1422, 5764, 2224, 4586, 3129, 1997, 870, 4005, 1538, 3667, 2394, 2842, 2158, 3869, 6266, 4904, 1570, 5061, 6254, 5263, 3130, 4797, 2506, 222, 2681, 1249, 5184, 1563, 2119, 4655, 4148, 4255, 4804, 6292, 120, 3707, 1464, 3601, 3809, 3800, 4239, 3971, 2914, 3781, 968, 4471, 1043, 1779, 5844, 3101, 5303, 258, 2245, 3468, 3400, 4979, 6167, 6277, 2431, 6250, 17, 5620, 6021, 701, 3271, 696, 2792, 3226, 5877, 2897, 2818, 5067, 6165, 4365, 3557, 855, 2508, 5631, 3382, 1627, 2037, 2011, 2440, 5136, 2007, 4209, 591, 789, 4643, 1504, 6097, 2532, 453, 2566, 1567, 4748, 6447, 6548, 299, 2398, 5488, 780, 2250, 32, 1832, 3915, 3511, 2226, 2793, 998, 4529, 5186, 1676, 2105, 1686, 209, 2448, 1825, 1042, 2415, 1198, 3522, 3270, 5393, 3179, 1932, 1893, 5958, 2161, 1461, 1372, 1743, 5891, 4355, 6430, 5709, 2304, 3924, 3075, 4994, 4744, 5946, 3607, 435, 3369, 763, 2745, 3677, 2580, 1610, 1912, 2135, 5423, 3582, 3184, 3996, 5868, 5928, 37, 6251, 997, 2435, 4213, 4376, 711, 4171, 5463, 2057, 2845, 3685, 1917, 2473, 1589, 4186, 1706, 621, 1826, 1116, 4980, 3453, 5308, 362, 2509, 4277, 1096, 213, 145, 5756, 3146, 1286, 3436, 1607, 1950, 6538, 2971, 1346, 4582, 3653, 3874, 1000, 4886, 2450, 6288, 3646, 4874, 1987, 2090, 2942, 5915, 6023, 2594, 2323, 2591, 6058, 537, 1596, 3879, 4145, 29, 1327, 4358, 6003, 4786, 4989, 5966, 4081, 4463, 3696, 837, 807, 4900, 2137, 1548, 2209, 5673, 1357, 1664, 2169, 5871, 1363, 2192, 2230, 5099, 1990, 2195, 4391, 3508, 4363, 2962, 1911, 266, 3694, 4055, 698, 4475, 2616, 2429, 3982, 6108, 5973, 2387, 3788, 4144, 708, 2534, 2912, 5608, 2615, 3456, 3277, 2243, 4737, 515, 1130, 3457, 5972, 3314, 343, 1631, 2627, 2785, 1668, 4746, 1568, 6116, 3910, 5845, 4165, 4798, 6264, 3845, 2136, 6031, 1303, 6305, 5055, 1508, 4541, 2814, 5564, 3926, 4259, 5017, 950, 4333, 768, 5053, 1051, 4955, 2364, 4003, 3115, 3778, 3108, 3986, 3543, 5563, 3639, 2248, 5609, 3208, 5299, 3286, 3086, 6056, 5606, 869, 5540, 2983, 3379, 5207, 3140, 5934, 2266, 1288, 633, 4274, 1908, 3919, 6303, 6483, 3565, 4061, 1362, 4121, 2237, 2445, 926, 1711, 1030, 4434, 885, 5792, 1776, 2687, 4882, 5769, 776, 3388, 49, 679, 2115, 836, 1088, 3710, 3724, 4625, 5683, 391, 2107, 1694, 5732, 1709, 6297, 1301, 2613, 189, 2163, 1402, 669, 1747, 5072, 4422, 1401, 2946, 3264, 5381, 6202, 6506, 704, 3337, 2575, 3025, 3454, 3460, 356, 2225, 924, 2691, 5264, 297, 4943, 1013, 4540, 4156, 2531, 6489, 2714, 4476, 5473, 710, 4506, 235, 4461, 6546, 2153, 4024, 3313, 1513, 4225, 1194, 4691, 4193, 3659, 3720, 5318, 5402, 2925, 3753, 4975, 3870, 2346, 4122, 4445, 4656, 5943, 3389, 2738, 3566, 5284, 5396, 3462, 2890, 670, 1450, 2441, 2901]\n",
      "test ids:  [0, 1, 2, 3, 4, 5, 6, 7, 8, 78, 79, 80, 81, 82, 83, 84, 85, 86, 87, 88, 89, 90, 158, 159, 160, 161, 162, 163, 164, 165, 166, 167, 168, 169, 170, 171, 238, 239, 240, 241, 242, 243, 244, 245, 246, 247, 248, 249, 250, 251, 252, 253, 318, 319, 320, 321, 322, 324, 325, 326, 327, 328, 329, 330, 331, 332, 333, 334, 335, 398, 399, 400, 401, 402, 405, 406, 407, 408, 409, 410, 411, 412, 413, 414, 415, 416, 417, 478, 479, 480, 481, 482, 486, 487, 488, 489, 490, 491, 492, 493, 494, 495, 496, 497, 498, 499, 558, 559, 560, 561, 562, 567, 568, 569, 570, 571, 572, 573, 574, 575, 576, 577, 578, 579, 580, 638, 639, 640, 641, 642, 648, 649, 650, 651, 652, 653, 654, 655, 656, 657, 658, 659, 660, 661, 662, 718, 719, 720, 721, 722, 729, 730, 731, 732, 733, 734, 735, 736, 737, 738, 739, 740, 741, 742, 743, 744, 798, 799, 800, 801, 802, 810, 811, 812, 813, 814, 815, 816, 817, 818, 819, 820, 821, 822, 823, 824, 825, 826, 878, 879, 880, 881, 882, 892, 893, 894, 895, 896, 897, 898, 899, 900, 901, 902, 903, 904, 905, 906, 907, 908, 958, 959, 960, 961, 962, 974, 975, 976, 977, 978, 979, 980, 981, 982, 983, 984, 985, 986, 987, 988, 989, 1039, 1040, 1041, 1057, 1058, 1059, 1060, 1061, 1062, 1063, 1064, 1065, 1066, 1067, 1068, 1069, 1070, 1071, 1119, 1120, 1121, 1139, 1140, 1141, 1142, 1143, 1144, 1145, 1146, 1147, 1148, 1149, 1150, 1151, 1152, 1153, 1199, 1200, 1201, 1221, 1222, 1223, 1224, 1225, 1226, 1227, 1228, 1229, 1230, 1231, 1232, 1233, 1234, 1235, 1279, 1280, 1281, 1304, 1305, 1306, 1307, 1308, 1309, 1310, 1311, 1312, 1313, 1314, 1315, 1316, 1359, 1360, 1361, 1386, 1387, 1388, 1389, 1390, 1391, 1392, 1393, 1394, 1395, 1396, 1397, 1398, 1439, 1440, 1441, 1469, 1470, 1471, 1472, 1473, 1474, 1475, 1476, 1477, 1478, 1479, 1480, 1519, 1520, 1521, 1551, 1552, 1553, 1554, 1555, 1556, 1557, 1558, 1559, 1560, 1561, 1562, 1599, 1600, 1601, 1633, 1634, 1635, 1636, 1637, 1638, 1639, 1640, 1641, 1642, 1643, 1644, 1679, 1680, 1681, 1716, 1717, 1718, 1719, 1720, 1721, 1722, 1723, 1724, 1725, 1759, 1760, 1761, 1798, 1799, 1800, 1801, 1802, 1803, 1804, 1805, 1806, 1807, 1839, 1840, 1841, 1880, 1881, 1882, 1883, 1884, 1885, 1886, 1887, 1888, 1889, 1919, 1920, 1921, 1963, 1964, 1965, 1966, 1967, 1968, 1969, 1970, 1971, 1999, 2000, 2001, 2045, 2046, 2047, 2048, 2049, 2050, 2051, 2052, 2053, 2079, 2080, 2081, 2127, 2128, 2129, 2130, 2131, 2132, 2133, 2134, 2160, 2210, 2211, 2212, 2213, 2214, 2215, 2216, 2240, 2292, 2293, 2294, 2295, 2296, 2297, 2298, 2320, 2375, 2376, 2377, 2378, 2379, 2380, 2400, 2457, 2458, 2459, 2460, 2461, 2462, 2480, 2539, 2540, 2541, 2542, 2543, 2560, 2622, 2623, 2624, 2625, 2640, 2704, 2705, 2706, 2707, 2720, 2786, 2787, 2788, 2789, 2800, 2869, 2870, 2871, 2880, 2951, 2952, 2960, 3033, 3034, 3040, 3116, 3120, 3198, 3200, 3280, 3360, 3362, 3440, 3444, 3520, 3526, 3527, 3600, 3608, 3609, 3680, 3689, 3690, 3691, 3760, 3771, 3772, 3773, 3774, 3840, 3853, 3854, 3855, 3856, 3920, 3935, 3936, 3937, 3938, 4000, 4017, 4018, 4019, 4020, 4021, 4080, 4098, 4099, 4100, 4101, 4102, 4103, 4160, 4180, 4181, 4182, 4183, 4184, 4185, 4240, 4262, 4263, 4264, 4265, 4266, 4267, 4268, 4320, 4344, 4345, 4346, 4347, 4348, 4349, 4350, 4400, 4426, 4427, 4428, 4429, 4430, 4431, 4432, 4433, 4479, 4480, 4481, 4507, 4508, 4509, 4510, 4511, 4512, 4513, 4514, 4515, 4559, 4560, 4561, 4589, 4590, 4591, 4592, 4593, 4594, 4595, 4596, 4597, 4639, 4640, 4641, 4671, 4672, 4673, 4674, 4675, 4676, 4677, 4678, 4679, 4680, 4719, 4720, 4721, 4753, 4754, 4755, 4756, 4757, 4758, 4759, 4760, 4761, 4762, 4799, 4800, 4801, 4835, 4836, 4837, 4838, 4839, 4840, 4841, 4842, 4843, 4844, 4879, 4880, 4881, 4916, 4917, 4918, 4919, 4920, 4921, 4922, 4923, 4924, 4925, 4926, 4927, 4959, 4960, 4961, 4998, 4999, 5000, 5001, 5002, 5003, 5004, 5005, 5006, 5007, 5008, 5009, 5039, 5040, 5041, 5080, 5081, 5082, 5083, 5084, 5085, 5086, 5087, 5088, 5089, 5090, 5091, 5119, 5120, 5121, 5162, 5163, 5164, 5165, 5166, 5167, 5168, 5169, 5170, 5171, 5172, 5173, 5174, 5199, 5200, 5201, 5244, 5245, 5246, 5247, 5248, 5249, 5250, 5251, 5252, 5253, 5254, 5255, 5256, 5279, 5280, 5281, 5325, 5326, 5327, 5328, 5329, 5330, 5331, 5332, 5333, 5334, 5335, 5336, 5337, 5338, 5339, 5359, 5360, 5361, 5407, 5408, 5409, 5410, 5411, 5412, 5413, 5414, 5415, 5416, 5417, 5418, 5419, 5420, 5421, 5439, 5440, 5441, 5489, 5490, 5491, 5492, 5493, 5494, 5495, 5496, 5497, 5498, 5499, 5500, 5501, 5502, 5503, 5519, 5520, 5521, 5571, 5572, 5573, 5574, 5575, 5576, 5577, 5578, 5579, 5580, 5581, 5582, 5583, 5584, 5585, 5586, 5598, 5599, 5600, 5601, 5602, 5652, 5653, 5654, 5655, 5656, 5657, 5658, 5659, 5660, 5661, 5662, 5663, 5664, 5665, 5666, 5667, 5668, 5678, 5679, 5680, 5681, 5682, 5734, 5735, 5736, 5737, 5738, 5739, 5740, 5741, 5742, 5743, 5744, 5745, 5746, 5747, 5748, 5749, 5750, 5758, 5759, 5760, 5761, 5762, 5816, 5817, 5818, 5819, 5820, 5821, 5822, 5823, 5824, 5825, 5826, 5827, 5828, 5829, 5830, 5831, 5838, 5839, 5840, 5841, 5842, 5898, 5899, 5900, 5901, 5902, 5903, 5904, 5905, 5906, 5907, 5908, 5909, 5910, 5911, 5912, 5918, 5919, 5920, 5921, 5922, 5980, 5981, 5982, 5983, 5984, 5985, 5986, 5987, 5988, 5989, 5990, 5991, 5992, 5993, 5998, 5999, 6000, 6001, 6002, 6061, 6062, 6063, 6064, 6065, 6066, 6067, 6068, 6069, 6070, 6071, 6072, 6073, 6074, 6078, 6079, 6080, 6081, 6082, 6143, 6144, 6145, 6146, 6147, 6148, 6149, 6150, 6151, 6152, 6153, 6154, 6155, 6158, 6159, 6160, 6161, 6162, 6225, 6226, 6227, 6228, 6229, 6230, 6231, 6232, 6233, 6234, 6235, 6236, 6238, 6239, 6240, 6241, 6242, 6307, 6308, 6309, 6310, 6311, 6312, 6313, 6314, 6315, 6316, 6317, 6318, 6319, 6320, 6321, 6322, 6389, 6390, 6391, 6392, 6393, 6394, 6395, 6396, 6397, 6398, 6399, 6400, 6401, 6402, 6470, 6471, 6472, 6473, 6474, 6475, 6476, 6477, 6478, 6479, 6480, 6481, 6482, 6552, 6553, 6554, 6555, 6556, 6557, 6558, 6559, 6560]\n",
      "CPU times: user 160 ms, sys: 8 ms, total: 168 ms\n",
      "Wall time: 172 ms\n"
     ]
    }
   ],
   "source": [
    "%%time\n",
    "n_total = len(simulation.dataframe)\n",
    "n_train = len(simulation.dataframe[simulation.dataframe.type_of == \"train\"])\n",
    "n_val = len(simulation.dataframe[simulation.dataframe.type_of == \"val\"])\n",
    "n_test = len(simulation.dataframe[simulation.dataframe.type_of == \"test\"])\n",
    "n_train_hamiltonians = len(simulation.train_ids)\n",
    "n_val_hamiltonians = len(simulation.val_ids)\n",
    "n_test_hamiltonians = len(simulation.test_ids)\n",
    "n_total_hamiltonians = n_train_hamiltonians + n_val_hamiltonians + n_test_hamiltonians\n",
    "\n",
    "print(\"% train: \", n_train/n_total)\n",
    "print(\"% val: \",  n_val/n_total)\n",
    "print(\"% test: \", n_test/n_total)\n",
    "print(\"% train + val + test: \", (n_train+n_val+n_test)/n_total)\n",
    "print(\"\\n\")\n",
    "print(\"number of train hamiltonians: \", n_train_hamiltonians)\n",
    "print(\"number of val hamiltonians: \", n_val_hamiltonians)\n",
    "print(\"number of test hamiltonians: \", n_test_hamiltonians)\n",
    "print(\"total number of hamiltonians: \", n_total_hamiltonians)\n",
    "print(\"\\n\")\n",
    "print(\"train ids: \", simulation.train_ids)\n",
    "print(\"val ids: \", simulation.val_ids)\n",
    "print(\"test ids: \", simulation.test_ids)"
   ]
  },
  {
   "cell_type": "markdown",
   "metadata": {
    "papermill": {
     "duration": 0.040353,
     "end_time": "2020-07-16T01:35:53.272334",
     "exception": false,
     "start_time": "2020-07-16T01:35:53.231981",
     "status": "completed"
    },
    "tags": []
   },
   "source": [
    "#### Checking summaries"
   ]
  },
  {
   "cell_type": "code",
   "execution_count": 31,
   "metadata": {
    "execution": {
     "iopub.execute_input": "2020-07-16T01:35:53.348122Z",
     "iopub.status.busy": "2020-07-16T01:35:53.347627Z",
     "iopub.status.idle": "2020-07-16T01:35:53.366558Z",
     "shell.execute_reply": "2020-07-16T01:35:53.366242Z"
    },
    "papermill": {
     "duration": 0.057131,
     "end_time": "2020-07-16T01:35:53.366611",
     "exception": false,
     "start_time": "2020-07-16T01:35:53.309480",
     "status": "completed"
    },
    "tags": []
   },
   "outputs": [
    {
     "name": "stdout",
     "output_type": "stream",
     "text": [
      "length of ham_summary:  6561\n",
      "CPU times: user 79 µs, sys: 0 ns, total: 79 µs\n",
      "Wall time: 54.4 µs\n"
     ]
    },
    {
     "data": {
      "text/html": [
       "<div>\n",
       "<style scoped>\n",
       "    .dataframe tbody tr th:only-of-type {\n",
       "        vertical-align: middle;\n",
       "    }\n",
       "\n",
       "    .dataframe tbody tr th {\n",
       "        vertical-align: top;\n",
       "    }\n",
       "\n",
       "    .dataframe thead th {\n",
       "        text-align: right;\n",
       "    }\n",
       "</style>\n",
       "<table border=\"1\" class=\"dataframe\">\n",
       "  <thead>\n",
       "    <tr style=\"text-align: right;\">\n",
       "      <th></th>\n",
       "      <th>t1</th>\n",
       "      <th>t2</th>\n",
       "      <th>type_of</th>\n",
       "      <th>0</th>\n",
       "      <th>1</th>\n",
       "      <th>phase</th>\n",
       "      <th>pred_phase</th>\n",
       "    </tr>\n",
       "    <tr>\n",
       "      <th>id</th>\n",
       "      <th></th>\n",
       "      <th></th>\n",
       "      <th></th>\n",
       "      <th></th>\n",
       "      <th></th>\n",
       "      <th></th>\n",
       "      <th></th>\n",
       "    </tr>\n",
       "  </thead>\n",
       "  <tbody>\n",
       "    <tr>\n",
       "      <th>0</th>\n",
       "      <td>-2.0</td>\n",
       "      <td>-2.00</td>\n",
       "      <td>test</td>\n",
       "      <td>0.56</td>\n",
       "      <td>0.44</td>\n",
       "      <td>999</td>\n",
       "      <td>0</td>\n",
       "    </tr>\n",
       "    <tr>\n",
       "      <th>1</th>\n",
       "      <td>-2.0</td>\n",
       "      <td>-1.95</td>\n",
       "      <td>test</td>\n",
       "      <td>0.63</td>\n",
       "      <td>0.37</td>\n",
       "      <td>0</td>\n",
       "      <td>0</td>\n",
       "    </tr>\n",
       "    <tr>\n",
       "      <th>2</th>\n",
       "      <td>-2.0</td>\n",
       "      <td>-1.90</td>\n",
       "      <td>test</td>\n",
       "      <td>0.69</td>\n",
       "      <td>0.31</td>\n",
       "      <td>0</td>\n",
       "      <td>0</td>\n",
       "    </tr>\n",
       "    <tr>\n",
       "      <th>3</th>\n",
       "      <td>-2.0</td>\n",
       "      <td>-1.85</td>\n",
       "      <td>test</td>\n",
       "      <td>0.67</td>\n",
       "      <td>0.33</td>\n",
       "      <td>0</td>\n",
       "      <td>0</td>\n",
       "    </tr>\n",
       "    <tr>\n",
       "      <th>4</th>\n",
       "      <td>-2.0</td>\n",
       "      <td>-1.80</td>\n",
       "      <td>test</td>\n",
       "      <td>0.80</td>\n",
       "      <td>0.20</td>\n",
       "      <td>0</td>\n",
       "      <td>0</td>\n",
       "    </tr>\n",
       "    <tr>\n",
       "      <th>...</th>\n",
       "      <td>...</td>\n",
       "      <td>...</td>\n",
       "      <td>...</td>\n",
       "      <td>...</td>\n",
       "      <td>...</td>\n",
       "      <td>...</td>\n",
       "      <td>...</td>\n",
       "    </tr>\n",
       "    <tr>\n",
       "      <th>6556</th>\n",
       "      <td>2.0</td>\n",
       "      <td>1.80</td>\n",
       "      <td>test</td>\n",
       "      <td>0.75</td>\n",
       "      <td>0.25</td>\n",
       "      <td>0</td>\n",
       "      <td>0</td>\n",
       "    </tr>\n",
       "    <tr>\n",
       "      <th>6557</th>\n",
       "      <td>2.0</td>\n",
       "      <td>1.85</td>\n",
       "      <td>test</td>\n",
       "      <td>0.73</td>\n",
       "      <td>0.27</td>\n",
       "      <td>0</td>\n",
       "      <td>0</td>\n",
       "    </tr>\n",
       "    <tr>\n",
       "      <th>6558</th>\n",
       "      <td>2.0</td>\n",
       "      <td>1.90</td>\n",
       "      <td>test</td>\n",
       "      <td>0.69</td>\n",
       "      <td>0.31</td>\n",
       "      <td>0</td>\n",
       "      <td>0</td>\n",
       "    </tr>\n",
       "    <tr>\n",
       "      <th>6559</th>\n",
       "      <td>2.0</td>\n",
       "      <td>1.95</td>\n",
       "      <td>test</td>\n",
       "      <td>0.58</td>\n",
       "      <td>0.42</td>\n",
       "      <td>0</td>\n",
       "      <td>0</td>\n",
       "    </tr>\n",
       "    <tr>\n",
       "      <th>6560</th>\n",
       "      <td>2.0</td>\n",
       "      <td>2.00</td>\n",
       "      <td>test</td>\n",
       "      <td>0.57</td>\n",
       "      <td>0.43</td>\n",
       "      <td>999</td>\n",
       "      <td>0</td>\n",
       "    </tr>\n",
       "  </tbody>\n",
       "</table>\n",
       "<p>6561 rows × 7 columns</p>\n",
       "</div>"
      ],
      "text/plain": [
       "       t1    t2 type_of     0     1  phase  pred_phase\n",
       "id                                                    \n",
       "0    -2.0 -2.00    test  0.56  0.44    999           0\n",
       "1    -2.0 -1.95    test  0.63  0.37      0           0\n",
       "2    -2.0 -1.90    test  0.69  0.31      0           0\n",
       "3    -2.0 -1.85    test  0.67  0.33      0           0\n",
       "4    -2.0 -1.80    test  0.80  0.20      0           0\n",
       "...   ...   ...     ...   ...   ...    ...         ...\n",
       "6556  2.0  1.80    test  0.75  0.25      0           0\n",
       "6557  2.0  1.85    test  0.73  0.27      0           0\n",
       "6558  2.0  1.90    test  0.69  0.31      0           0\n",
       "6559  2.0  1.95    test  0.58  0.42      0           0\n",
       "6560  2.0  2.00    test  0.57  0.43    999           0\n",
       "\n",
       "[6561 rows x 7 columns]"
      ]
     },
     "execution_count": 31,
     "metadata": {},
     "output_type": "execute_result"
    }
   ],
   "source": [
    "%%time\n",
    "ham_summary = simulation.hamiltonian_summary\n",
    "print(\"length of ham_summary: \", len(ham_summary))\n",
    "ham_summary"
   ]
  },
  {
   "cell_type": "code",
   "execution_count": 32,
   "metadata": {
    "execution": {
     "iopub.execute_input": "2020-07-16T01:35:53.443682Z",
     "iopub.status.busy": "2020-07-16T01:35:53.443177Z",
     "iopub.status.idle": "2020-07-16T01:35:53.470526Z",
     "shell.execute_reply": "2020-07-16T01:35:53.470205Z"
    },
    "papermill": {
     "duration": 0.066404,
     "end_time": "2020-07-16T01:35:53.470579",
     "exception": false,
     "start_time": "2020-07-16T01:35:53.404175",
     "status": "completed"
    },
    "tags": []
   },
   "outputs": [
    {
     "data": {
      "text/html": [
       "<div>\n",
       "<style scoped>\n",
       "    .dataframe tbody tr th:only-of-type {\n",
       "        vertical-align: middle;\n",
       "    }\n",
       "\n",
       "    .dataframe tbody tr th {\n",
       "        vertical-align: top;\n",
       "    }\n",
       "\n",
       "    .dataframe thead th {\n",
       "        text-align: right;\n",
       "    }\n",
       "</style>\n",
       "<table border=\"1\" class=\"dataframe\">\n",
       "  <thead>\n",
       "    <tr style=\"text-align: right;\">\n",
       "      <th></th>\n",
       "      <th>t1</th>\n",
       "      <th>t2</th>\n",
       "      <th>0</th>\n",
       "      <th>1</th>\n",
       "      <th>phase</th>\n",
       "      <th>pred_phase</th>\n",
       "    </tr>\n",
       "  </thead>\n",
       "  <tbody>\n",
       "    <tr>\n",
       "      <th>count</th>\n",
       "      <td>6561.000000</td>\n",
       "      <td>6.561000e+03</td>\n",
       "      <td>6561.000000</td>\n",
       "      <td>6561.000000</td>\n",
       "      <td>6561.000000</td>\n",
       "      <td>6561.000000</td>\n",
       "    </tr>\n",
       "    <tr>\n",
       "      <th>mean</th>\n",
       "      <td>0.000000</td>\n",
       "      <td>-4.331917e-18</td>\n",
       "      <td>0.506310</td>\n",
       "      <td>0.493690</td>\n",
       "      <td>25.002134</td>\n",
       "      <td>0.510288</td>\n",
       "    </tr>\n",
       "    <tr>\n",
       "      <th>std</th>\n",
       "      <td>1.169134</td>\n",
       "      <td>1.169134e+00</td>\n",
       "      <td>0.434486</td>\n",
       "      <td>0.434486</td>\n",
       "      <td>154.495657</td>\n",
       "      <td>0.499932</td>\n",
       "    </tr>\n",
       "    <tr>\n",
       "      <th>min</th>\n",
       "      <td>-2.000000</td>\n",
       "      <td>-2.000000e+00</td>\n",
       "      <td>0.000000</td>\n",
       "      <td>0.000000</td>\n",
       "      <td>0.000000</td>\n",
       "      <td>0.000000</td>\n",
       "    </tr>\n",
       "    <tr>\n",
       "      <th>25%</th>\n",
       "      <td>-1.000000</td>\n",
       "      <td>-1.000000e+00</td>\n",
       "      <td>0.050000</td>\n",
       "      <td>0.020000</td>\n",
       "      <td>0.000000</td>\n",
       "      <td>0.000000</td>\n",
       "    </tr>\n",
       "    <tr>\n",
       "      <th>50%</th>\n",
       "      <td>0.000000</td>\n",
       "      <td>0.000000e+00</td>\n",
       "      <td>0.480000</td>\n",
       "      <td>0.520000</td>\n",
       "      <td>1.000000</td>\n",
       "      <td>1.000000</td>\n",
       "    </tr>\n",
       "    <tr>\n",
       "      <th>75%</th>\n",
       "      <td>1.000000</td>\n",
       "      <td>1.000000e+00</td>\n",
       "      <td>0.980000</td>\n",
       "      <td>0.950000</td>\n",
       "      <td>1.000000</td>\n",
       "      <td>1.000000</td>\n",
       "    </tr>\n",
       "    <tr>\n",
       "      <th>max</th>\n",
       "      <td>2.000000</td>\n",
       "      <td>2.000000e+00</td>\n",
       "      <td>1.000000</td>\n",
       "      <td>1.000000</td>\n",
       "      <td>999.000000</td>\n",
       "      <td>1.000000</td>\n",
       "    </tr>\n",
       "  </tbody>\n",
       "</table>\n",
       "</div>"
      ],
      "text/plain": [
       "                t1            t2            0            1        phase  \\\n",
       "count  6561.000000  6.561000e+03  6561.000000  6561.000000  6561.000000   \n",
       "mean      0.000000 -4.331917e-18     0.506310     0.493690    25.002134   \n",
       "std       1.169134  1.169134e+00     0.434486     0.434486   154.495657   \n",
       "min      -2.000000 -2.000000e+00     0.000000     0.000000     0.000000   \n",
       "25%      -1.000000 -1.000000e+00     0.050000     0.020000     0.000000   \n",
       "50%       0.000000  0.000000e+00     0.480000     0.520000     1.000000   \n",
       "75%       1.000000  1.000000e+00     0.980000     0.950000     1.000000   \n",
       "max       2.000000  2.000000e+00     1.000000     1.000000   999.000000   \n",
       "\n",
       "        pred_phase  \n",
       "count  6561.000000  \n",
       "mean      0.510288  \n",
       "std       0.499932  \n",
       "min       0.000000  \n",
       "25%       0.000000  \n",
       "50%       1.000000  \n",
       "75%       1.000000  \n",
       "max       1.000000  "
      ]
     },
     "execution_count": 32,
     "metadata": {},
     "output_type": "execute_result"
    }
   ],
   "source": [
    "ham_summary.describe()"
   ]
  },
  {
   "cell_type": "code",
   "execution_count": 33,
   "metadata": {
    "execution": {
     "iopub.execute_input": "2020-07-16T01:35:53.548883Z",
     "iopub.status.busy": "2020-07-16T01:35:53.548573Z",
     "iopub.status.idle": "2020-07-16T01:35:53.563277Z",
     "shell.execute_reply": "2020-07-16T01:35:53.562961Z"
    },
    "papermill": {
     "duration": 0.054484,
     "end_time": "2020-07-16T01:35:53.563328",
     "exception": false,
     "start_time": "2020-07-16T01:35:53.508844",
     "status": "completed"
    },
    "tags": []
   },
   "outputs": [
    {
     "name": "stdout",
     "output_type": "stream",
     "text": [
      "length of ham_summary:  656100\n"
     ]
    },
    {
     "data": {
      "text/html": [
       "<div>\n",
       "<style scoped>\n",
       "    .dataframe tbody tr th:only-of-type {\n",
       "        vertical-align: middle;\n",
       "    }\n",
       "\n",
       "    .dataframe tbody tr th {\n",
       "        vertical-align: top;\n",
       "    }\n",
       "\n",
       "    .dataframe thead th {\n",
       "        text-align: right;\n",
       "    }\n",
       "</style>\n",
       "<table border=\"1\" class=\"dataframe\">\n",
       "  <thead>\n",
       "    <tr style=\"text-align: right;\">\n",
       "      <th></th>\n",
       "      <th>id</th>\n",
       "      <th>phase</th>\n",
       "      <th>pred_phase</th>\n",
       "      <th>type_of</th>\n",
       "    </tr>\n",
       "  </thead>\n",
       "  <tbody>\n",
       "    <tr>\n",
       "      <th>0</th>\n",
       "      <td>0</td>\n",
       "      <td>999</td>\n",
       "      <td>0</td>\n",
       "      <td>test</td>\n",
       "    </tr>\n",
       "    <tr>\n",
       "      <th>1</th>\n",
       "      <td>0</td>\n",
       "      <td>999</td>\n",
       "      <td>0</td>\n",
       "      <td>test</td>\n",
       "    </tr>\n",
       "    <tr>\n",
       "      <th>2</th>\n",
       "      <td>0</td>\n",
       "      <td>999</td>\n",
       "      <td>1</td>\n",
       "      <td>test</td>\n",
       "    </tr>\n",
       "    <tr>\n",
       "      <th>3</th>\n",
       "      <td>0</td>\n",
       "      <td>999</td>\n",
       "      <td>1</td>\n",
       "      <td>test</td>\n",
       "    </tr>\n",
       "    <tr>\n",
       "      <th>4</th>\n",
       "      <td>0</td>\n",
       "      <td>999</td>\n",
       "      <td>0</td>\n",
       "      <td>test</td>\n",
       "    </tr>\n",
       "    <tr>\n",
       "      <th>...</th>\n",
       "      <td>...</td>\n",
       "      <td>...</td>\n",
       "      <td>...</td>\n",
       "      <td>...</td>\n",
       "    </tr>\n",
       "    <tr>\n",
       "      <th>656095</th>\n",
       "      <td>6560</td>\n",
       "      <td>999</td>\n",
       "      <td>1</td>\n",
       "      <td>test</td>\n",
       "    </tr>\n",
       "    <tr>\n",
       "      <th>656096</th>\n",
       "      <td>6560</td>\n",
       "      <td>999</td>\n",
       "      <td>0</td>\n",
       "      <td>test</td>\n",
       "    </tr>\n",
       "    <tr>\n",
       "      <th>656097</th>\n",
       "      <td>6560</td>\n",
       "      <td>999</td>\n",
       "      <td>0</td>\n",
       "      <td>test</td>\n",
       "    </tr>\n",
       "    <tr>\n",
       "      <th>656098</th>\n",
       "      <td>6560</td>\n",
       "      <td>999</td>\n",
       "      <td>1</td>\n",
       "      <td>test</td>\n",
       "    </tr>\n",
       "    <tr>\n",
       "      <th>656099</th>\n",
       "      <td>6560</td>\n",
       "      <td>999</td>\n",
       "      <td>1</td>\n",
       "      <td>test</td>\n",
       "    </tr>\n",
       "  </tbody>\n",
       "</table>\n",
       "<p>656100 rows × 4 columns</p>\n",
       "</div>"
      ],
      "text/plain": [
       "          id  phase  pred_phase type_of\n",
       "0          0    999           0    test\n",
       "1          0    999           0    test\n",
       "2          0    999           1    test\n",
       "3          0    999           1    test\n",
       "4          0    999           0    test\n",
       "...      ...    ...         ...     ...\n",
       "656095  6560    999           1    test\n",
       "656096  6560    999           0    test\n",
       "656097  6560    999           0    test\n",
       "656098  6560    999           1    test\n",
       "656099  6560    999           1    test\n",
       "\n",
       "[656100 rows x 4 columns]"
      ]
     },
     "execution_count": 33,
     "metadata": {},
     "output_type": "execute_result"
    }
   ],
   "source": [
    "eigen_summary = simulation.eigenvector_summary\n",
    "print(\"length of ham_summary: \", len(eigen_summary))\n",
    "eigen_summary"
   ]
  },
  {
   "cell_type": "markdown",
   "metadata": {
    "papermill": {
     "duration": 0.037257,
     "end_time": "2020-07-16T01:35:53.638174",
     "exception": false,
     "start_time": "2020-07-16T01:35:53.600917",
     "status": "completed"
    },
    "tags": []
   },
   "source": [
    "#### Checking accuracies"
   ]
  },
  {
   "cell_type": "code",
   "execution_count": 34,
   "metadata": {
    "execution": {
     "iopub.execute_input": "2020-07-16T01:35:53.716775Z",
     "iopub.status.busy": "2020-07-16T01:35:53.716468Z",
     "iopub.status.idle": "2020-07-16T01:35:53.726256Z",
     "shell.execute_reply": "2020-07-16T01:35:53.726557Z"
    },
    "papermill": {
     "duration": 0.050339,
     "end_time": "2020-07-16T01:35:53.726624",
     "exception": false,
     "start_time": "2020-07-16T01:35:53.676285",
     "status": "completed"
    },
    "tags": []
   },
   "outputs": [
    {
     "data": {
      "text/plain": [
       "{'eigenvector_train': 0.9758992805755395,\n",
       " 'eigenvector_val': 0.954602,\n",
       " 'eigenvector_test': 0.7355805687203791,\n",
       " 'hamiltonian_train': 0.9892086330935251,\n",
       " 'hamiltonian_val': 0.9852,\n",
       " 'hamiltonian_test': 0.9798578199052133}"
      ]
     },
     "execution_count": 34,
     "metadata": {},
     "output_type": "execute_result"
    }
   ],
   "source": [
    "simulation.accuracy"
   ]
  },
  {
   "cell_type": "markdown",
   "metadata": {
    "papermill": {
     "duration": 0.037405,
     "end_time": "2020-07-16T01:35:53.802518",
     "exception": false,
     "start_time": "2020-07-16T01:35:53.765113",
     "status": "completed"
    },
    "tags": []
   },
   "source": [
    "#### Checking data stored in  memory"
   ]
  },
  {
   "cell_type": "code",
   "execution_count": 35,
   "metadata": {
    "execution": {
     "iopub.execute_input": "2020-07-16T01:35:53.880958Z",
     "iopub.status.busy": "2020-07-16T01:35:53.880642Z",
     "iopub.status.idle": "2020-07-16T01:35:53.890810Z",
     "shell.execute_reply": "2020-07-16T01:35:53.890497Z"
    },
    "papermill": {
     "duration": 0.050264,
     "end_time": "2020-07-16T01:35:53.890863",
     "exception": false,
     "start_time": "2020-07-16T01:35:53.840599",
     "status": "completed"
    },
    "tags": []
   },
   "outputs": [
    {
     "data": {
      "text/plain": [
       "[]"
      ]
     },
     "execution_count": 35,
     "metadata": {},
     "output_type": "execute_result"
    }
   ],
   "source": [
    "ham_summary_list = simulation.hamiltonian_summary_list\n",
    "ham_summary_list"
   ]
  },
  {
   "cell_type": "code",
   "execution_count": 36,
   "metadata": {
    "execution": {
     "iopub.execute_input": "2020-07-16T01:35:53.970315Z",
     "iopub.status.busy": "2020-07-16T01:35:53.970006Z",
     "iopub.status.idle": "2020-07-16T01:35:53.980269Z",
     "shell.execute_reply": "2020-07-16T01:35:53.979955Z"
    },
    "papermill": {
     "duration": 0.049856,
     "end_time": "2020-07-16T01:35:53.980320",
     "exception": false,
     "start_time": "2020-07-16T01:35:53.930464",
     "status": "completed"
    },
    "tags": []
   },
   "outputs": [
    {
     "data": {
      "text/plain": [
       "[]"
      ]
     },
     "execution_count": 36,
     "metadata": {},
     "output_type": "execute_result"
    }
   ],
   "source": [
    "eigen_summary_list = simulation.eigenvector_summary_list\n",
    "eigen_summary_list"
   ]
  },
  {
   "cell_type": "code",
   "execution_count": 37,
   "metadata": {
    "execution": {
     "iopub.execute_input": "2020-07-16T01:35:54.059537Z",
     "iopub.status.busy": "2020-07-16T01:35:54.059227Z",
     "iopub.status.idle": "2020-07-16T01:35:54.069515Z",
     "shell.execute_reply": "2020-07-16T01:35:54.069816Z"
    },
    "papermill": {
     "duration": 0.050916,
     "end_time": "2020-07-16T01:35:54.069883",
     "exception": false,
     "start_time": "2020-07-16T01:35:54.018967",
     "status": "completed"
    },
    "tags": []
   },
   "outputs": [
    {
     "data": {
      "text/plain": [
       "{'eigenvector_train': [],\n",
       " 'eigenvector_val': [],\n",
       " 'eigenvector_test': [],\n",
       " 'hamiltonian_train': [],\n",
       " 'hamiltonian_val': [],\n",
       " 'hamiltonian_test': []}"
      ]
     },
     "execution_count": 37,
     "metadata": {},
     "output_type": "execute_result"
    }
   ],
   "source": [
    "accuracy_list = simulation.accuracy_list\n",
    "accuracy_list"
   ]
  },
  {
   "cell_type": "code",
   "execution_count": null,
   "metadata": {
    "papermill": {
     "duration": 0.038026,
     "end_time": "2020-07-16T01:35:54.147508",
     "exception": false,
     "start_time": "2020-07-16T01:35:54.109482",
     "status": "completed"
    },
    "tags": []
   },
   "outputs": [],
   "source": []
  },
  {
   "cell_type": "code",
   "execution_count": null,
   "metadata": {
    "papermill": {
     "duration": 0.039027,
     "end_time": "2020-07-16T01:35:54.225273",
     "exception": false,
     "start_time": "2020-07-16T01:35:54.186246",
     "status": "completed"
    },
    "tags": []
   },
   "outputs": [],
   "source": []
  },
  {
   "cell_type": "code",
   "execution_count": 38,
   "metadata": {
    "execution": {
     "iopub.execute_input": "2020-07-16T01:35:54.303885Z",
     "iopub.status.busy": "2020-07-16T01:35:54.303578Z",
     "iopub.status.idle": "2020-07-16T01:35:54.312895Z",
     "shell.execute_reply": "2020-07-16T01:35:54.313197Z"
    },
    "papermill": {
     "duration": 0.049571,
     "end_time": "2020-07-16T01:35:54.313263",
     "exception": false,
     "start_time": "2020-07-16T01:35:54.263692",
     "status": "completed"
    },
    "tags": []
   },
   "outputs": [],
   "source": [
    "#simulation.fourier_matrix"
   ]
  },
  {
   "cell_type": "code",
   "execution_count": 39,
   "metadata": {
    "execution": {
     "iopub.execute_input": "2020-07-16T01:35:54.393295Z",
     "iopub.status.busy": "2020-07-16T01:35:54.392982Z",
     "iopub.status.idle": "2020-07-16T01:35:54.403614Z",
     "shell.execute_reply": "2020-07-16T01:35:54.403252Z"
    },
    "papermill": {
     "duration": 0.051497,
     "end_time": "2020-07-16T01:35:54.403672",
     "exception": false,
     "start_time": "2020-07-16T01:35:54.352175",
     "status": "completed"
    },
    "tags": []
   },
   "outputs": [],
   "source": [
    "#simulation.fourier_matrix.shape"
   ]
  },
  {
   "cell_type": "code",
   "execution_count": 40,
   "metadata": {
    "execution": {
     "iopub.execute_input": "2020-07-16T01:35:54.483235Z",
     "iopub.status.busy": "2020-07-16T01:35:54.482928Z",
     "iopub.status.idle": "2020-07-16T01:35:54.492247Z",
     "shell.execute_reply": "2020-07-16T01:35:54.492509Z"
    },
    "papermill": {
     "duration": 0.049671,
     "end_time": "2020-07-16T01:35:54.492579",
     "exception": false,
     "start_time": "2020-07-16T01:35:54.442908",
     "status": "completed"
    },
    "tags": []
   },
   "outputs": [],
   "source": [
    "#simulation.fourier_matrix[:,0]"
   ]
  },
  {
   "cell_type": "code",
   "execution_count": 41,
   "metadata": {
    "execution": {
     "iopub.execute_input": "2020-07-16T01:35:54.572573Z",
     "iopub.status.busy": "2020-07-16T01:35:54.572247Z",
     "iopub.status.idle": "2020-07-16T01:35:54.629713Z",
     "shell.execute_reply": "2020-07-16T01:35:54.627773Z"
    },
    "papermill": {
     "duration": 0.098188,
     "end_time": "2020-07-16T01:35:54.629994",
     "exception": false,
     "start_time": "2020-07-16T01:35:54.531806",
     "status": "completed"
    },
    "tags": []
   },
   "outputs": [],
   "source": [
    "#simulation.fourier_matrix[:,1]"
   ]
  },
  {
   "cell_type": "code",
   "execution_count": 42,
   "metadata": {
    "execution": {
     "iopub.execute_input": "2020-07-16T01:35:54.747370Z",
     "iopub.status.busy": "2020-07-16T01:35:54.747062Z",
     "iopub.status.idle": "2020-07-16T01:35:54.756312Z",
     "shell.execute_reply": "2020-07-16T01:35:54.756573Z"
    },
    "papermill": {
     "duration": 0.049952,
     "end_time": "2020-07-16T01:35:54.756641",
     "exception": false,
     "start_time": "2020-07-16T01:35:54.706689",
     "status": "completed"
    },
    "tags": []
   },
   "outputs": [],
   "source": [
    "#np.exp(-1j*2*np.pi*3/100)"
   ]
  },
  {
   "cell_type": "code",
   "execution_count": 43,
   "metadata": {
    "execution": {
     "iopub.execute_input": "2020-07-16T01:35:54.839397Z",
     "iopub.status.busy": "2020-07-16T01:35:54.839074Z",
     "iopub.status.idle": "2020-07-16T01:35:54.848437Z",
     "shell.execute_reply": "2020-07-16T01:35:54.848692Z"
    },
    "papermill": {
     "duration": 0.05293,
     "end_time": "2020-07-16T01:35:54.848763",
     "exception": false,
     "start_time": "2020-07-16T01:35:54.795833",
     "status": "completed"
    },
    "tags": []
   },
   "outputs": [],
   "source": [
    "#for i in range(1,50):\n",
    "#    print(\"\\n\")\n",
    "#    print(i)\n",
    "#    print(np.sum((np.real(simulation.fourier_matrix[:,i]) - np.real(simulation.fourier_matrix[:,-i]))**2))\n",
    "#    print(np.sum((np.imag(simulation.fourier_matrix[:,i])+ np.imag(simulation.fourier_matrix[:,-i]))**2))"
   ]
  },
  {
   "cell_type": "code",
   "execution_count": 44,
   "metadata": {
    "execution": {
     "iopub.execute_input": "2020-07-16T01:35:54.929801Z",
     "iopub.status.busy": "2020-07-16T01:35:54.929495Z",
     "iopub.status.idle": "2020-07-16T01:35:54.948702Z",
     "shell.execute_reply": "2020-07-16T01:35:54.948370Z"
    },
    "papermill": {
     "duration": 0.061146,
     "end_time": "2020-07-16T01:35:54.948753",
     "exception": false,
     "start_time": "2020-07-16T01:35:54.887607",
     "status": "completed"
    },
    "tags": []
   },
   "outputs": [],
   "source": [
    "#print(simulation.fourier_matrix[:,0])"
   ]
  },
  {
   "cell_type": "code",
   "execution_count": 45,
   "metadata": {
    "execution": {
     "iopub.execute_input": "2020-07-16T01:35:55.029268Z",
     "iopub.status.busy": "2020-07-16T01:35:55.028963Z",
     "iopub.status.idle": "2020-07-16T01:35:55.038976Z",
     "shell.execute_reply": "2020-07-16T01:35:55.039292Z"
    },
    "papermill": {
     "duration": 0.051424,
     "end_time": "2020-07-16T01:35:55.039362",
     "exception": false,
     "start_time": "2020-07-16T01:35:54.987938",
     "status": "completed"
    },
    "tags": []
   },
   "outputs": [],
   "source": [
    "#print(simulation.fourier_matrix[:,50])"
   ]
  },
  {
   "cell_type": "code",
   "execution_count": null,
   "metadata": {
    "papermill": {
     "duration": 0.038345,
     "end_time": "2020-07-16T01:35:55.116146",
     "exception": false,
     "start_time": "2020-07-16T01:35:55.077801",
     "status": "completed"
    },
    "tags": []
   },
   "outputs": [],
   "source": []
  }
 ],
 "metadata": {
  "celltoolbar": "Tags",
  "kernelspec": {
   "display_name": "ml_top_phases",
   "language": "python",
   "name": "ml_top_phases"
  },
  "language_info": {
   "codemirror_mode": {
    "name": "ipython",
    "version": 3
   },
   "file_extension": ".py",
   "mimetype": "text/x-python",
   "name": "python",
   "nbconvert_exporter": "python",
   "pygments_lexer": "ipython3",
   "version": "3.6.10"
  },
  "papermill": {
   "duration": 1478.647272,
   "end_time": "2020-07-16T01:35:55.265116",
   "environment_variables": {},
   "exception": null,
   "input_path": "0_simulation_template.ipynb",
   "output_path": "zzz_simulation_output_ssh1_6th_scenario_100_6561.ipynb",
   "parameters": {
    "allowed_windings": [
     0,
     1
    ],
    "csv_path": "/home/rio/ssh_csvs/ssh1/periodic_100_6561.csv",
    "features_to_use": null,
    "fit_params": null,
    "fourier_features_to_use": null,
    "fourier_fillna": false,
    "fourier_mode": "dst",
    "fourier_normalize": false,
    "fourier_real": "imag",
    "model_kw": {
     "criterion": "entropy"
    },
    "model_name": "DecisionTreeClassifier",
    "n_experiments": 100,
    "pred_params": null,
    "random_features": false,
    "random_state": 324398476,
    "save_accuracy": true,
    "save_eigenvector": true,
    "save_hamiltonian": true,
    "save_models": true,
    "shuffle_features": false,
    "shuffle_rows": true,
    "simulation_dir": "/home/rio/ssh_simulations/ssh1/periodic_6th_scenario_100_6561",
    "start_n": 0,
    "store_in_lists": false,
    "val_split": 0.9
   },
   "start_time": "2020-07-16T01:11:16.617844",
   "version": "2.1.0"
  }
 },
 "nbformat": 4,
 "nbformat_minor": 2
}