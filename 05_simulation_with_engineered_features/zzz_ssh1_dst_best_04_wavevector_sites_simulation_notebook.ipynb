{
 "cells": [
  {
   "cell_type": "markdown",
   "metadata": {
    "papermill": {
     "duration": 0.056974,
     "end_time": "2020-07-18T06:08:36.186940",
     "exception": false,
     "start_time": "2020-07-18T06:08:36.129966",
     "status": "completed"
    },
    "tags": []
   },
   "source": [
    "# Simulation template \n",
    "\n",
    "In this notebook we run the machine learning analysis of topological phase transitions occurring  in both nearest-neighbours SSH models (ssh1) and second neighbours models (ssh2) as decribed in the paper [Machine learning topological phases in real space](https://arxiv.org/abs/1901.01963). Here the simulation is run with features generated from fourier components in the first scenario. This scenario is characterized by using only the EVEN wavevector space eigenmodes, computed from ALL real space components."
   ]
  },
  {
   "cell_type": "markdown",
   "metadata": {
    "papermill": {
     "duration": 0.016986,
     "end_time": "2020-07-18T06:08:36.224021",
     "exception": false,
     "start_time": "2020-07-18T06:08:36.207035",
     "status": "completed"
    },
    "tags": []
   },
   "source": [
    "## Defining parameters"
   ]
  },
  {
   "cell_type": "code",
   "execution_count": 1,
   "metadata": {
    "execution": {
     "iopub.execute_input": "2020-07-18T06:08:36.261660Z",
     "iopub.status.busy": "2020-07-18T06:08:36.260800Z",
     "iopub.status.idle": "2020-07-18T06:08:36.852011Z",
     "shell.execute_reply": "2020-07-18T06:08:36.851688Z"
    },
    "papermill": {
     "duration": 0.61053,
     "end_time": "2020-07-18T06:08:36.852066",
     "exception": false,
     "start_time": "2020-07-18T06:08:36.241536",
     "status": "completed"
    },
    "tags": []
   },
   "outputs": [
    {
     "name": "stdout",
     "output_type": "stream",
     "text": [
      "CPU times: user 754 ms, sys: 267 ms, total: 1.02 s\n",
      "Wall time: 584 ms\n"
     ]
    }
   ],
   "source": [
    "%%time\n",
    "%load_ext autoreload\n",
    "%autoreload 2\n",
    "from simulation import *"
   ]
  },
  {
   "cell_type": "code",
   "execution_count": 2,
   "metadata": {
    "execution": {
     "iopub.execute_input": "2020-07-18T06:08:36.888483Z",
     "iopub.status.busy": "2020-07-18T06:08:36.888085Z",
     "iopub.status.idle": "2020-07-18T06:08:36.900022Z",
     "shell.execute_reply": "2020-07-18T06:08:36.899697Z"
    },
    "papermill": {
     "duration": 0.030422,
     "end_time": "2020-07-18T06:08:36.900075",
     "exception": false,
     "start_time": "2020-07-18T06:08:36.869653",
     "status": "completed"
    },
    "tags": [
     "parameters"
    ]
   },
   "outputs": [
    {
     "name": "stdout",
     "output_type": "stream",
     "text": [
      "CPU times: user 3 µs, sys: 0 ns, total: 3 µs\n",
      "Wall time: 4.53 µs\n"
     ]
    }
   ],
   "source": [
    "%%time\n",
    "### Dataset and simulation parameters\n",
    "#csv_path = SSH2_PERIODIC_100_6561_CSV \n",
    "csv_path = SSH1_PERIODIC_100_6561_CSV \n",
    "model_name = \"DecisionTreeClassifier\"\n",
    "model_kw = {\"criterion\":\"entropy\"}\n",
    "allowed_windings = [0,1]\n",
    "#allowed_windings = [-1,0,1,2]\n",
    "simulation_dir = SSH1_REAL_SPACE_ALL_SITES\n",
    "#simulation_dir = SSH2_PERIODIC_ENGINEERED_100_6561_SIMULATION_DIR\n",
    "val_split = 0.9  \n",
    "features_to_use = None\n",
    "shuffle_features = False\n",
    "random_state = 763\n",
    "\n",
    "### Fourier features\n",
    "fourier_mode = \"dst\"\n",
    "fourier_features_to_use = None\n",
    "fourier_real = \"imag\"\n",
    "fourier_normalize = False\n",
    "fourier_fillna = False\n",
    "\n",
    "### Running a simulation\n",
    "n_experiments = 5\n",
    "start_n = 0\n",
    "fit_params = None\n",
    "#mode=mode\n",
    "shuffle_rows = True\n",
    "pred_params = None\n",
    "random_features = False\n",
    "######### DON'T SET THIS TO TRUE UNLESS YOUR DATASET IS SMALL!! WILL FLOOD YOUR MEMORY!!!\n",
    "store_in_lists = False   \n",
    "########## BELOW ARE THE PARAMETERS THAT CONTROL WHAT WILL BE SAVED\n",
    "save_eigenvector=True\n",
    "save_hamiltonian=True \n",
    "save_accuracy=True \n",
    "save_models=True"
   ]
  },
  {
   "cell_type": "code",
   "execution_count": 3,
   "metadata": {
    "execution": {
     "iopub.execute_input": "2020-07-18T06:08:36.938664Z",
     "iopub.status.busy": "2020-07-18T06:08:36.938334Z",
     "iopub.status.idle": "2020-07-18T06:08:37.029225Z",
     "shell.execute_reply": "2020-07-18T06:08:37.030627Z"
    },
    "papermill": {
     "duration": 0.11193,
     "end_time": "2020-07-18T06:08:37.030939",
     "exception": false,
     "start_time": "2020-07-18T06:08:36.919009",
     "status": "completed"
    },
    "tags": [
     "injected-parameters"
    ]
   },
   "outputs": [],
   "source": [
    "# Parameters\n",
    "model_kw = {\"criterion\": \"entropy\"}\n",
    "allowed_windings = [0, 1]\n",
    "val_split = 0.9\n",
    "features_to_use = None\n",
    "shuffle_features = False\n",
    "n_experiments = 100\n",
    "start_n = 0\n",
    "fit_params = None\n",
    "shuffle_rows = True\n",
    "pred_params = None\n",
    "random_features = False\n",
    "store_in_lists = False\n",
    "save_eigenvector = True\n",
    "save_hamiltonian = True\n",
    "save_accuracy = True\n",
    "save_models = True\n",
    "csv_path = \"/home/rio/ssh_csvs/ssh1/periodic_100_6561.csv\"\n",
    "model_name = \"DecisionTreeClassifier\"\n",
    "simulation_dir = (\n",
    "    \"/home/rio/ssh_simulations/ssh1/periodic_100_6561/dst_best_04_wavevector_sites\"\n",
    ")\n",
    "random_state = 1019\n",
    "fourier_features_to_use = [0, 18, 28, 30]\n",
    "fourier_mode = \"dst\"\n",
    "fourier_real = None\n",
    "fourier_normalize = False\n",
    "fourier_fillna = False\n"
   ]
  },
  {
   "cell_type": "code",
   "execution_count": 4,
   "metadata": {
    "execution": {
     "iopub.execute_input": "2020-07-18T06:08:37.106115Z",
     "iopub.status.busy": "2020-07-18T06:08:37.105759Z",
     "iopub.status.idle": "2020-07-18T06:08:43.039064Z",
     "shell.execute_reply": "2020-07-18T06:08:43.039367Z"
    },
    "papermill": {
     "duration": 5.955272,
     "end_time": "2020-07-18T06:08:43.039433",
     "exception": false,
     "start_time": "2020-07-18T06:08:37.084161",
     "status": "completed"
    },
    "tags": []
   },
   "outputs": [
    {
     "name": "stdout",
     "output_type": "stream",
     "text": [
      "Info on all data: \n",
      "\n",
      "<class 'pandas.core.frame.DataFrame'>\n",
      "Int64Index: 656100 entries, 0 to 656099\n",
      "Columns: 108 entries, id to feat99\n",
      "dtypes: float64(103), int32(3), object(2)\n",
      "memory usage: 538.1+ MB\n",
      "CPU times: user 5.91 s, sys: 600 ms, total: 6.51 s\n",
      "Wall time: 5.9 s\n"
     ]
    },
    {
     "data": {
      "text/html": [
       "<div>\n",
       "<style scoped>\n",
       "    .dataframe tbody tr th:only-of-type {\n",
       "        vertical-align: middle;\n",
       "    }\n",
       "\n",
       "    .dataframe tbody tr th {\n",
       "        vertical-align: top;\n",
       "    }\n",
       "\n",
       "    .dataframe thead th {\n",
       "        text-align: right;\n",
       "    }\n",
       "</style>\n",
       "<table border=\"1\" class=\"dataframe\">\n",
       "  <thead>\n",
       "    <tr style=\"text-align: right;\">\n",
       "      <th></th>\n",
       "      <th>id</th>\n",
       "      <th>path</th>\n",
       "      <th>t1</th>\n",
       "      <th>t2</th>\n",
       "      <th>winding</th>\n",
       "      <th>phase</th>\n",
       "      <th>pred_phase</th>\n",
       "      <th>type_of</th>\n",
       "      <th>feat0</th>\n",
       "      <th>feat1</th>\n",
       "      <th>...</th>\n",
       "      <th>feat90</th>\n",
       "      <th>feat91</th>\n",
       "      <th>feat92</th>\n",
       "      <th>feat93</th>\n",
       "      <th>feat94</th>\n",
       "      <th>feat95</th>\n",
       "      <th>feat96</th>\n",
       "      <th>feat97</th>\n",
       "      <th>feat98</th>\n",
       "      <th>feat99</th>\n",
       "    </tr>\n",
       "  </thead>\n",
       "  <tbody>\n",
       "    <tr>\n",
       "      <th>0</th>\n",
       "      <td>0</td>\n",
       "      <td>H_-2_-2_0.509296.dat</td>\n",
       "      <td>-2.0</td>\n",
       "      <td>-2.0</td>\n",
       "      <td>0.509296</td>\n",
       "      <td>999</td>\n",
       "      <td>666</td>\n",
       "      <td>test</td>\n",
       "      <td>0.100000</td>\n",
       "      <td>0.100000</td>\n",
       "      <td>...</td>\n",
       "      <td>0.100000</td>\n",
       "      <td>0.100000</td>\n",
       "      <td>0.100000</td>\n",
       "      <td>0.100000</td>\n",
       "      <td>0.100000</td>\n",
       "      <td>0.100000</td>\n",
       "      <td>0.100000</td>\n",
       "      <td>0.100000</td>\n",
       "      <td>0.100000</td>\n",
       "      <td>0.100000</td>\n",
       "    </tr>\n",
       "    <tr>\n",
       "      <th>1</th>\n",
       "      <td>0</td>\n",
       "      <td>H_-2_-2_0.509296.dat</td>\n",
       "      <td>-2.0</td>\n",
       "      <td>-2.0</td>\n",
       "      <td>0.509296</td>\n",
       "      <td>999</td>\n",
       "      <td>666</td>\n",
       "      <td>test</td>\n",
       "      <td>0.141421</td>\n",
       "      <td>0.141142</td>\n",
       "      <td>...</td>\n",
       "      <td>0.114412</td>\n",
       "      <td>0.108967</td>\n",
       "      <td>0.123928</td>\n",
       "      <td>0.119406</td>\n",
       "      <td>0.131490</td>\n",
       "      <td>0.127962</td>\n",
       "      <td>0.136978</td>\n",
       "      <td>0.134500</td>\n",
       "      <td>0.140306</td>\n",
       "      <td>0.138916</td>\n",
       "    </tr>\n",
       "    <tr>\n",
       "      <th>2</th>\n",
       "      <td>0</td>\n",
       "      <td>H_-2_-2_0.509296.dat</td>\n",
       "      <td>-2.0</td>\n",
       "      <td>-2.0</td>\n",
       "      <td>0.509296</td>\n",
       "      <td>999</td>\n",
       "      <td>666</td>\n",
       "      <td>test</td>\n",
       "      <td>0.141421</td>\n",
       "      <td>0.140306</td>\n",
       "      <td>...</td>\n",
       "      <td>0.043702</td>\n",
       "      <td>0.026500</td>\n",
       "      <td>0.075777</td>\n",
       "      <td>0.060214</td>\n",
       "      <td>0.103092</td>\n",
       "      <td>0.090145</td>\n",
       "      <td>0.123928</td>\n",
       "      <td>0.114412</td>\n",
       "      <td>0.136978</td>\n",
       "      <td>0.131490</td>\n",
       "    </tr>\n",
       "    <tr>\n",
       "      <th>3</th>\n",
       "      <td>0</td>\n",
       "      <td>H_-2_-2_0.509296.dat</td>\n",
       "      <td>-2.0</td>\n",
       "      <td>-2.0</td>\n",
       "      <td>0.509296</td>\n",
       "      <td>999</td>\n",
       "      <td>666</td>\n",
       "      <td>test</td>\n",
       "      <td>-0.100000</td>\n",
       "      <td>0.100000</td>\n",
       "      <td>...</td>\n",
       "      <td>-0.100000</td>\n",
       "      <td>0.100000</td>\n",
       "      <td>-0.100000</td>\n",
       "      <td>0.100000</td>\n",
       "      <td>-0.100000</td>\n",
       "      <td>0.100000</td>\n",
       "      <td>-0.100000</td>\n",
       "      <td>0.100000</td>\n",
       "      <td>-0.100000</td>\n",
       "      <td>0.100000</td>\n",
       "    </tr>\n",
       "    <tr>\n",
       "      <th>4</th>\n",
       "      <td>0</td>\n",
       "      <td>H_-2_-2_0.509296.dat</td>\n",
       "      <td>-2.0</td>\n",
       "      <td>-2.0</td>\n",
       "      <td>0.509296</td>\n",
       "      <td>999</td>\n",
       "      <td>666</td>\n",
       "      <td>test</td>\n",
       "      <td>0.000509</td>\n",
       "      <td>-0.008372</td>\n",
       "      <td>...</td>\n",
       "      <td>-0.082713</td>\n",
       "      <td>-0.089753</td>\n",
       "      <td>-0.067684</td>\n",
       "      <td>-0.075347</td>\n",
       "      <td>-0.051587</td>\n",
       "      <td>-0.059753</td>\n",
       "      <td>-0.034677</td>\n",
       "      <td>-0.043217</td>\n",
       "      <td>-0.017220</td>\n",
       "      <td>-0.026000</td>\n",
       "    </tr>\n",
       "  </tbody>\n",
       "</table>\n",
       "<p>5 rows × 108 columns</p>\n",
       "</div>"
      ],
      "text/plain": [
       "   id                  path   t1   t2   winding  phase  pred_phase type_of  \\\n",
       "0   0  H_-2_-2_0.509296.dat -2.0 -2.0  0.509296    999         666    test   \n",
       "1   0  H_-2_-2_0.509296.dat -2.0 -2.0  0.509296    999         666    test   \n",
       "2   0  H_-2_-2_0.509296.dat -2.0 -2.0  0.509296    999         666    test   \n",
       "3   0  H_-2_-2_0.509296.dat -2.0 -2.0  0.509296    999         666    test   \n",
       "4   0  H_-2_-2_0.509296.dat -2.0 -2.0  0.509296    999         666    test   \n",
       "\n",
       "      feat0     feat1  ...    feat90    feat91    feat92    feat93    feat94  \\\n",
       "0  0.100000  0.100000  ...  0.100000  0.100000  0.100000  0.100000  0.100000   \n",
       "1  0.141421  0.141142  ...  0.114412  0.108967  0.123928  0.119406  0.131490   \n",
       "2  0.141421  0.140306  ...  0.043702  0.026500  0.075777  0.060214  0.103092   \n",
       "3 -0.100000  0.100000  ... -0.100000  0.100000 -0.100000  0.100000 -0.100000   \n",
       "4  0.000509 -0.008372  ... -0.082713 -0.089753 -0.067684 -0.075347 -0.051587   \n",
       "\n",
       "     feat95    feat96    feat97    feat98    feat99  \n",
       "0  0.100000  0.100000  0.100000  0.100000  0.100000  \n",
       "1  0.127962  0.136978  0.134500  0.140306  0.138916  \n",
       "2  0.090145  0.123928  0.114412  0.136978  0.131490  \n",
       "3  0.100000 -0.100000  0.100000 -0.100000  0.100000  \n",
       "4 -0.059753 -0.034677 -0.043217 -0.017220 -0.026000  \n",
       "\n",
       "[5 rows x 108 columns]"
      ]
     },
     "execution_count": 4,
     "metadata": {},
     "output_type": "execute_result"
    }
   ],
   "source": [
    "%%time\n",
    "#Starting an instance of Simulation with a decision tree\n",
    "model = DecisionTreeClassifier(criterion=\"entropy\")\n",
    "#dict_args = {\"csv_path\":csv_path, \"model\":model, \"allowed_windings\":allowed_windings,\\\n",
    "#             \"simulation_dir\":simulation_dir, \"val_split\":val_split, \"features_to_use\":features_to_use,\\\n",
    "#            \"shuffle_features\":shuffle_features, \"random_state\":random_state}\n",
    "simulation = Simulation(csv_path,model_name,model_kw,allowed_windings,simulation_dir,val_split,features_to_use,\\\n",
    "                       shuffle_features,fourier_mode,fourier_features_to_use,fourier_real,\\\n",
    "                       fourier_normalize, fourier_fillna , random_state)\n",
    "#simulation = Simulation(**dict_args)\n",
    "\n",
    "\n",
    "#(self, csv_path, model_name, model_kw, allowed_windings, simulation_dir = None, val_split = 0, \n",
    "# features_to_use = None, shuffle_features = False, fourier_mode=None, fourier_features_to_use=None,\n",
    "# fourier_real = False, fourier_normalize = False, Fourier_fillna=False, random_state = None):\n",
    "\n",
    "\n",
    "\n",
    "print(\"Info on all data: \\n\")\n",
    "simulation.dataframe.info()\n",
    "simulation.dataframe.head()"
   ]
  },
  {
   "cell_type": "markdown",
   "metadata": {
    "papermill": {
     "duration": 0.017297,
     "end_time": "2020-07-18T06:08:43.074505",
     "exception": false,
     "start_time": "2020-07-18T06:08:43.057208",
     "status": "completed"
    },
    "tags": []
   },
   "source": [
    "####  Fourier features"
   ]
  },
  {
   "cell_type": "code",
   "execution_count": 5,
   "metadata": {
    "execution": {
     "iopub.execute_input": "2020-07-18T06:08:43.113986Z",
     "iopub.status.busy": "2020-07-18T06:08:43.113668Z",
     "iopub.status.idle": "2020-07-18T06:08:43.200552Z",
     "shell.execute_reply": "2020-07-18T06:08:43.200079Z"
    },
    "papermill": {
     "duration": 0.108169,
     "end_time": "2020-07-18T06:08:43.200641",
     "exception": false,
     "start_time": "2020-07-18T06:08:43.092472",
     "status": "completed"
    },
    "tags": []
   },
   "outputs": [
    {
     "name": "stdout",
     "output_type": "stream",
     "text": [
      "<class 'pandas.core.frame.DataFrame'>\n",
      "Int64Index: 656100 entries, 0 to 656099\n",
      "Data columns (total 12 columns):\n",
      " #   Column      Non-Null Count   Dtype  \n",
      "---  ------      --------------   -----  \n",
      " 0   id          656100 non-null  int32  \n",
      " 1   path        656100 non-null  object \n",
      " 2   t1          656100 non-null  float64\n",
      " 3   t2          656100 non-null  float64\n",
      " 4   winding     656100 non-null  float64\n",
      " 5   phase       656100 non-null  int32  \n",
      " 6   pred_phase  656100 non-null  int32  \n",
      " 7   type_of     656100 non-null  object \n",
      " 8   dst_feat0   656100 non-null  float64\n",
      " 9   dst_feat18  656100 non-null  float64\n",
      " 10  dst_feat28  656100 non-null  float64\n",
      " 11  dst_feat30  656100 non-null  float64\n",
      "dtypes: float64(7), int32(3), object(2)\n",
      "memory usage: 57.6+ MB\n",
      "CPU times: user 75.7 ms, sys: 0 ns, total: 75.7 ms\n",
      "Wall time: 75 ms\n"
     ]
    }
   ],
   "source": [
    "%%time\n",
    "#simulation.generate_fourier_df()\n",
    "if simulation.fourier_mode is not None:\n",
    "    simulation.fourier_dataframe.info() \n",
    "    simulation.fourier_dataframe.sample(15)\n"
   ]
  },
  {
   "cell_type": "code",
   "execution_count": 6,
   "metadata": {
    "execution": {
     "iopub.execute_input": "2020-07-18T06:08:43.243555Z",
     "iopub.status.busy": "2020-07-18T06:08:43.243215Z",
     "iopub.status.idle": "2020-07-18T06:08:43.260563Z",
     "shell.execute_reply": "2020-07-18T06:08:43.260147Z"
    },
    "papermill": {
     "duration": 0.04035,
     "end_time": "2020-07-18T06:08:43.260644",
     "exception": false,
     "start_time": "2020-07-18T06:08:43.220294",
     "status": "completed"
    },
    "tags": []
   },
   "outputs": [
    {
     "name": "stdout",
     "output_type": "stream",
     "text": [
      "features_to_use: \n",
      "\n",
      "\n",
      "None\n",
      "\n",
      "\n",
      "fourier_features: \n",
      "\n",
      "\n",
      "['dst_feat0', 'dst_feat18', 'dst_feat28', 'dst_feat30']\n",
      "\n",
      "\n",
      "Number of Fourier features: \n",
      "\n",
      "\n",
      "4\n",
      "\n",
      "\n",
      "Fourier operator: \n",
      "[[ 0.12558104  1.85955297  1.93716632  1.85955297]\n",
      " [ 0.25066647  1.36909421 -0.96350735 -1.36909421]\n",
      " [ 0.37476263 -0.85155858 -1.45793725 -0.85155858]\n",
      " [ 0.49737977 -1.99605346  1.68865585  1.99605346]\n",
      " [ 0.61803399 -0.61803399  0.61803399 -0.61803399]\n",
      " [ 0.73624911  1.54102649 -1.99605346 -1.54102649]\n",
      " [ 0.85155858  1.75261336  0.37476263  1.75261336]\n",
      " [ 0.96350735 -0.25066647  1.8096541   0.25066647]\n",
      " [ 1.07165359 -1.93716632 -1.27484798 -1.93716632]\n",
      " [ 1.1755705  -1.1755705  -1.1755705   1.1755705 ]\n",
      " [ 1.27484798  1.07165359  1.85955297  1.07165359]\n",
      " [ 1.36909421  1.9645745   0.25066647 -1.9645745 ]\n",
      " [ 1.45793725  0.37476263 -1.9842294   0.37476263]\n",
      " [ 1.54102649 -1.68865585  0.73624911  1.68865585]\n",
      " [ 1.61803399 -1.61803399  1.61803399 -1.61803399]\n",
      " [ 1.68865585  0.49737977 -1.54102649 -0.49737977]\n",
      " [ 1.75261336  1.9842294  -0.85155858  1.9842294 ]\n",
      " [ 1.8096541   0.96350735  1.9645745  -0.96350735]\n",
      " [ 1.85955297 -1.27484798 -0.12558104 -1.27484798]\n",
      " [ 1.90211303 -1.90211303 -1.90211303  1.90211303]\n",
      " [ 1.93716632 -0.12558104  1.07165359 -0.12558104]\n",
      " [ 1.9645745   1.8096541   1.36909421 -1.8096541 ]\n",
      " [ 1.9842294   1.45793725 -1.75261336  1.45793725]\n",
      " [ 1.99605346 -0.73624911 -0.49737977  0.73624911]\n",
      " [ 2.         -2.          2.         -2.        ]\n",
      " [ 1.99605346 -0.73624911 -0.49737977  0.73624911]\n",
      " [ 1.9842294   1.45793725 -1.75261336  1.45793725]\n",
      " [ 1.9645745   1.8096541   1.36909421 -1.8096541 ]\n",
      " [ 1.93716632 -0.12558104  1.07165359 -0.12558104]\n",
      " [ 1.90211303 -1.90211303 -1.90211303  1.90211303]\n",
      " [ 1.85955297 -1.27484798 -0.12558104 -1.27484798]\n",
      " [ 1.8096541   0.96350735  1.9645745  -0.96350735]\n",
      " [ 1.75261336  1.9842294  -0.85155858  1.9842294 ]\n",
      " [ 1.68865585  0.49737977 -1.54102649 -0.49737977]\n",
      " [ 1.61803399 -1.61803399  1.61803399 -1.61803399]\n",
      " [ 1.54102649 -1.68865585  0.73624911  1.68865585]\n",
      " [ 1.45793725  0.37476263 -1.9842294   0.37476263]\n",
      " [ 1.36909421  1.9645745   0.25066647 -1.9645745 ]\n",
      " [ 1.27484798  1.07165359  1.85955297  1.07165359]\n",
      " [ 1.1755705  -1.1755705  -1.1755705   1.1755705 ]\n",
      " [ 1.07165359 -1.93716632 -1.27484798 -1.93716632]\n",
      " [ 0.96350735 -0.25066647  1.8096541   0.25066647]\n",
      " [ 0.85155858  1.75261336  0.37476263  1.75261336]\n",
      " [ 0.73624911  1.54102649 -1.99605346 -1.54102649]\n",
      " [ 0.61803399 -0.61803399  0.61803399 -0.61803399]\n",
      " [ 0.49737977 -1.99605346  1.68865585  1.99605346]\n",
      " [ 0.37476263 -0.85155858 -1.45793725 -0.85155858]\n",
      " [ 0.25066647  1.36909421 -0.96350735 -1.36909421]\n",
      " [ 0.12558104  1.85955297  1.93716632  1.85955297]]\n",
      "\n",
      "\n",
      "Shape of Fourier operator: \n",
      "(49, 4)\n"
     ]
    }
   ],
   "source": [
    "print(\"features_to_use: \")\n",
    "print(\"\\n\")\n",
    "print(simulation.features_to_use)\n",
    "if simulation.features_to_use is not None:\n",
    "    print(\"Number of real space features:\")\n",
    "    print(\"\\n\")\n",
    "    print(len(simulation.features_to_use))\n",
    "print(\"\\n\")\n",
    "print(\"fourier_features: \")\n",
    "print(\"\\n\")\n",
    "print(simulation.fourier_features)\n",
    "print(\"\\n\")\n",
    "if simulation.fourier_features is not None:\n",
    "    print(\"Number of Fourier features: \")\n",
    "    print(\"\\n\")\n",
    "    print(len(simulation.fourier_features))\n",
    "print(\"\\n\")\n",
    "print(\"Fourier operator: \")\n",
    "print(simulation.fourier_operator)\n",
    "print(\"\\n\")\n",
    "if simulation.fourier_operator is not None:\n",
    "    print(\"Shape of Fourier operator: \")\n",
    "    print(simulation.fourier_operator.shape)"
   ]
  },
  {
   "cell_type": "code",
   "execution_count": 7,
   "metadata": {
    "execution": {
     "iopub.execute_input": "2020-07-18T06:08:43.299755Z",
     "iopub.status.busy": "2020-07-18T06:08:43.299437Z",
     "iopub.status.idle": "2020-07-18T06:08:43.365478Z",
     "shell.execute_reply": "2020-07-18T06:08:43.367713Z"
    },
    "papermill": {
     "duration": 0.088334,
     "end_time": "2020-07-18T06:08:43.368045",
     "exception": false,
     "start_time": "2020-07-18T06:08:43.279711",
     "status": "completed"
    },
    "tags": []
   },
   "outputs": [],
   "source": [
    "#a = np.array([1+1j,2+3j,4+8j])\n",
    "#np.imag(a)"
   ]
  },
  {
   "cell_type": "code",
   "execution_count": 8,
   "metadata": {
    "execution": {
     "iopub.execute_input": "2020-07-18T06:08:43.438260Z",
     "iopub.status.busy": "2020-07-18T06:08:43.437744Z",
     "iopub.status.idle": "2020-07-18T06:08:43.453434Z",
     "shell.execute_reply": "2020-07-18T06:08:43.453760Z"
    },
    "papermill": {
     "duration": 0.046053,
     "end_time": "2020-07-18T06:08:43.453860",
     "exception": false,
     "start_time": "2020-07-18T06:08:43.407807",
     "status": "completed"
    },
    "tags": []
   },
   "outputs": [],
   "source": [
    "#plt.plot(np.imag(simulation.fourier_operator[:,0]))"
   ]
  },
  {
   "cell_type": "code",
   "execution_count": 9,
   "metadata": {
    "execution": {
     "iopub.execute_input": "2020-07-18T06:08:43.494612Z",
     "iopub.status.busy": "2020-07-18T06:08:43.494103Z",
     "iopub.status.idle": "2020-07-18T06:08:43.559226Z",
     "shell.execute_reply": "2020-07-18T06:08:43.557430Z"
    },
    "papermill": {
     "duration": 0.085605,
     "end_time": "2020-07-18T06:08:43.559513",
     "exception": false,
     "start_time": "2020-07-18T06:08:43.473908",
     "status": "completed"
    },
    "tags": []
   },
   "outputs": [],
   "source": [
    "#np.sin(np.pi/(50))*2"
   ]
  },
  {
   "cell_type": "code",
   "execution_count": 10,
   "metadata": {
    "execution": {
     "iopub.execute_input": "2020-07-18T06:08:43.636278Z",
     "iopub.status.busy": "2020-07-18T06:08:43.635966Z",
     "iopub.status.idle": "2020-07-18T06:08:43.645357Z",
     "shell.execute_reply": "2020-07-18T06:08:43.645673Z"
    },
    "papermill": {
     "duration": 0.031504,
     "end_time": "2020-07-18T06:08:43.645743",
     "exception": false,
     "start_time": "2020-07-18T06:08:43.614239",
     "status": "completed"
    },
    "tags": []
   },
   "outputs": [],
   "source": [
    "#2*np.sin(np.pi/50*49)"
   ]
  },
  {
   "cell_type": "code",
   "execution_count": 11,
   "metadata": {
    "execution": {
     "iopub.execute_input": "2020-07-18T06:08:43.682867Z",
     "iopub.status.busy": "2020-07-18T06:08:43.682556Z",
     "iopub.status.idle": "2020-07-18T06:08:43.734928Z",
     "shell.execute_reply": "2020-07-18T06:08:43.734437Z"
    },
    "papermill": {
     "duration": 0.071554,
     "end_time": "2020-07-18T06:08:43.735002",
     "exception": false,
     "start_time": "2020-07-18T06:08:43.663448",
     "status": "completed"
    },
    "tags": []
   },
   "outputs": [],
   "source": [
    "#simulation.dataframe.iloc[331456,:]"
   ]
  },
  {
   "cell_type": "code",
   "execution_count": 12,
   "metadata": {
    "execution": {
     "iopub.execute_input": "2020-07-18T06:08:43.790665Z",
     "iopub.status.busy": "2020-07-18T06:08:43.790168Z",
     "iopub.status.idle": "2020-07-18T06:08:43.800879Z",
     "shell.execute_reply": "2020-07-18T06:08:43.800539Z"
    },
    "papermill": {
     "duration": 0.033061,
     "end_time": "2020-07-18T06:08:43.800934",
     "exception": false,
     "start_time": "2020-07-18T06:08:43.767873",
     "status": "completed"
    },
    "tags": []
   },
   "outputs": [],
   "source": [
    "#for ix, obj in enumerate(simulation.dataframe.iloc[331456,:].values):\n",
    "#    print(ix,obj)"
   ]
  },
  {
   "cell_type": "code",
   "execution_count": 13,
   "metadata": {
    "execution": {
     "iopub.execute_input": "2020-07-18T06:08:43.838496Z",
     "iopub.status.busy": "2020-07-18T06:08:43.838001Z",
     "iopub.status.idle": "2020-07-18T06:08:43.901710Z",
     "shell.execute_reply": "2020-07-18T06:08:43.901214Z"
    },
    "papermill": {
     "duration": 0.083099,
     "end_time": "2020-07-18T06:08:43.901785",
     "exception": false,
     "start_time": "2020-07-18T06:08:43.818686",
     "status": "completed"
    },
    "tags": []
   },
   "outputs": [],
   "source": [
    "#simulation.fourier_engineered_dataframe.dct_feat0"
   ]
  },
  {
   "cell_type": "code",
   "execution_count": 14,
   "metadata": {
    "execution": {
     "iopub.execute_input": "2020-07-18T06:08:43.951085Z",
     "iopub.status.busy": "2020-07-18T06:08:43.950590Z",
     "iopub.status.idle": "2020-07-18T06:08:44.001323Z",
     "shell.execute_reply": "2020-07-18T06:08:43.999526Z"
    },
    "papermill": {
     "duration": 0.072467,
     "end_time": "2020-07-18T06:08:44.001573",
     "exception": false,
     "start_time": "2020-07-18T06:08:43.929106",
     "status": "completed"
    },
    "tags": []
   },
   "outputs": [],
   "source": [
    "#simulation.features"
   ]
  },
  {
   "cell_type": "code",
   "execution_count": 15,
   "metadata": {
    "execution": {
     "iopub.execute_input": "2020-07-18T06:08:44.067299Z",
     "iopub.status.busy": "2020-07-18T06:08:44.066807Z",
     "iopub.status.idle": "2020-07-18T06:08:44.077047Z",
     "shell.execute_reply": "2020-07-18T06:08:44.076668Z"
    },
    "papermill": {
     "duration": 0.031055,
     "end_time": "2020-07-18T06:08:44.077103",
     "exception": false,
     "start_time": "2020-07-18T06:08:44.046048",
     "status": "completed"
    },
    "tags": []
   },
   "outputs": [],
   "source": [
    "#simulation.fourier_matrix"
   ]
  },
  {
   "cell_type": "code",
   "execution_count": 16,
   "metadata": {
    "execution": {
     "iopub.execute_input": "2020-07-18T06:08:44.119324Z",
     "iopub.status.busy": "2020-07-18T06:08:44.118998Z",
     "iopub.status.idle": "2020-07-18T06:08:44.175752Z",
     "shell.execute_reply": "2020-07-18T06:08:44.174004Z"
    },
    "papermill": {
     "duration": 0.080303,
     "end_time": "2020-07-18T06:08:44.176003",
     "exception": false,
     "start_time": "2020-07-18T06:08:44.095700",
     "status": "completed"
    },
    "tags": []
   },
   "outputs": [],
   "source": [
    "#1/simulation.n_features*simulation.dataframe.loc[:,simulation.features].sum(axis=1)"
   ]
  },
  {
   "cell_type": "code",
   "execution_count": 17,
   "metadata": {
    "execution": {
     "iopub.execute_input": "2020-07-18T06:08:44.214250Z",
     "iopub.status.busy": "2020-07-18T06:08:44.213940Z",
     "iopub.status.idle": "2020-07-18T06:08:44.233294Z",
     "shell.execute_reply": "2020-07-18T06:08:44.233017Z"
    },
    "papermill": {
     "duration": 0.038421,
     "end_time": "2020-07-18T06:08:44.233349",
     "exception": false,
     "start_time": "2020-07-18T06:08:44.194928",
     "status": "completed"
    },
    "tags": []
   },
   "outputs": [],
   "source": [
    "#df_2 = simulation.fourier_engineered_dataframe[simulation.fourier_engineered_dataframe.phase==2]\n",
    "#df_2.describe()"
   ]
  },
  {
   "cell_type": "code",
   "execution_count": 18,
   "metadata": {
    "execution": {
     "iopub.execute_input": "2020-07-18T06:08:44.273738Z",
     "iopub.status.busy": "2020-07-18T06:08:44.273401Z",
     "iopub.status.idle": "2020-07-18T06:08:44.326431Z",
     "shell.execute_reply": "2020-07-18T06:08:44.325976Z"
    },
    "papermill": {
     "duration": 0.074778,
     "end_time": "2020-07-18T06:08:44.326499",
     "exception": false,
     "start_time": "2020-07-18T06:08:44.251721",
     "status": "completed"
    },
    "tags": []
   },
   "outputs": [],
   "source": [
    "#df_1 = simulation.fourier_engineered_dataframe[simulation.fourier_engineered_dataframe.phase==1]\n",
    "#df_1.describe()"
   ]
  },
  {
   "cell_type": "code",
   "execution_count": 19,
   "metadata": {
    "execution": {
     "iopub.execute_input": "2020-07-18T06:08:44.375605Z",
     "iopub.status.busy": "2020-07-18T06:08:44.375294Z",
     "iopub.status.idle": "2020-07-18T06:08:44.384910Z",
     "shell.execute_reply": "2020-07-18T06:08:44.385198Z"
    },
    "papermill": {
     "duration": 0.032271,
     "end_time": "2020-07-18T06:08:44.385268",
     "exception": false,
     "start_time": "2020-07-18T06:08:44.352997",
     "status": "completed"
    },
    "tags": []
   },
   "outputs": [],
   "source": [
    "#df_0 = simulation.fourier_engineered_dataframe[simulation.fourier_engineered_dataframe.phase==0]\n",
    "#df_0.describe()"
   ]
  },
  {
   "cell_type": "code",
   "execution_count": 20,
   "metadata": {
    "execution": {
     "iopub.execute_input": "2020-07-18T06:08:44.424342Z",
     "iopub.status.busy": "2020-07-18T06:08:44.424013Z",
     "iopub.status.idle": "2020-07-18T06:08:44.493868Z",
     "shell.execute_reply": "2020-07-18T06:08:44.493253Z"
    },
    "papermill": {
     "duration": 0.090008,
     "end_time": "2020-07-18T06:08:44.493959",
     "exception": false,
     "start_time": "2020-07-18T06:08:44.403951",
     "status": "completed"
    },
    "tags": []
   },
   "outputs": [],
   "source": [
    "#plt.figure(figsize=(10,10))\n",
    "#plt.scatter(df_1.fourier_feat0,df_1.fourier_feat2)\n",
    "#plt.scatter(df_0.fourier_feat0,df_0.fourier_feat2,alpha=0.4)"
   ]
  },
  {
   "cell_type": "code",
   "execution_count": 21,
   "metadata": {
    "execution": {
     "iopub.execute_input": "2020-07-18T06:08:44.552742Z",
     "iopub.status.busy": "2020-07-18T06:08:44.552415Z",
     "iopub.status.idle": "2020-07-18T06:08:44.561647Z",
     "shell.execute_reply": "2020-07-18T06:08:44.561903Z"
    },
    "papermill": {
     "duration": 0.032009,
     "end_time": "2020-07-18T06:08:44.561970",
     "exception": false,
     "start_time": "2020-07-18T06:08:44.529961",
     "status": "completed"
    },
    "tags": []
   },
   "outputs": [],
   "source": [
    "#plt.scatter(df_0.fourier_feat0,df_0.fourier_feat2,alpha=0.4)"
   ]
  },
  {
   "cell_type": "code",
   "execution_count": 22,
   "metadata": {
    "execution": {
     "iopub.execute_input": "2020-07-18T06:08:44.601232Z",
     "iopub.status.busy": "2020-07-18T06:08:44.600853Z",
     "iopub.status.idle": "2020-07-18T06:08:44.668212Z",
     "shell.execute_reply": "2020-07-18T06:08:44.668738Z"
    },
    "papermill": {
     "duration": 0.08844,
     "end_time": "2020-07-18T06:08:44.668840",
     "exception": false,
     "start_time": "2020-07-18T06:08:44.580400",
     "status": "completed"
    },
    "tags": []
   },
   "outputs": [],
   "source": [
    "#plt.scatter(df_2.fourier_feat0,df_2.fourier_feat2)"
   ]
  },
  {
   "cell_type": "code",
   "execution_count": 23,
   "metadata": {
    "execution": {
     "iopub.execute_input": "2020-07-18T06:08:44.723975Z",
     "iopub.status.busy": "2020-07-18T06:08:44.723668Z",
     "iopub.status.idle": "2020-07-18T06:08:44.741655Z",
     "shell.execute_reply": "2020-07-18T06:08:44.741318Z"
    },
    "papermill": {
     "duration": 0.04038,
     "end_time": "2020-07-18T06:08:44.741710",
     "exception": false,
     "start_time": "2020-07-18T06:08:44.701330",
     "status": "completed"
    },
    "tags": []
   },
   "outputs": [],
   "source": [
    "#df_1.hist(figsize=(15,15))"
   ]
  },
  {
   "cell_type": "code",
   "execution_count": 24,
   "metadata": {
    "execution": {
     "iopub.execute_input": "2020-07-18T06:08:44.781177Z",
     "iopub.status.busy": "2020-07-18T06:08:44.780753Z",
     "iopub.status.idle": "2020-07-18T06:08:44.853273Z",
     "shell.execute_reply": "2020-07-18T06:08:44.852454Z"
    },
    "papermill": {
     "duration": 0.092546,
     "end_time": "2020-07-18T06:08:44.853396",
     "exception": false,
     "start_time": "2020-07-18T06:08:44.760850",
     "status": "completed"
    },
    "tags": []
   },
   "outputs": [],
   "source": [
    "#df_0.hist(figsize=(15,15))"
   ]
  },
  {
   "cell_type": "markdown",
   "metadata": {
    "papermill": {
     "duration": 0.020862,
     "end_time": "2020-07-18T06:08:44.918435",
     "exception": false,
     "start_time": "2020-07-18T06:08:44.897573",
     "status": "completed"
    },
    "tags": []
   },
   "source": [
    "#### Checking initialization"
   ]
  },
  {
   "cell_type": "code",
   "execution_count": 25,
   "metadata": {
    "execution": {
     "iopub.execute_input": "2020-07-18T06:08:44.959507Z",
     "iopub.status.busy": "2020-07-18T06:08:44.959192Z",
     "iopub.status.idle": "2020-07-18T06:08:44.971041Z",
     "shell.execute_reply": "2020-07-18T06:08:44.970721Z"
    },
    "papermill": {
     "duration": 0.033543,
     "end_time": "2020-07-18T06:08:44.971093",
     "exception": false,
     "start_time": "2020-07-18T06:08:44.937550",
     "status": "completed"
    },
    "tags": []
   },
   "outputs": [
    {
     "name": "stdout",
     "output_type": "stream",
     "text": [
      "n_features:  100\n",
      "n_hamiltonians:  6561\n",
      "n_ts:  2\n",
      "CPU times: user 153 µs, sys: 20 µs, total: 173 µs\n",
      "Wall time: 97 µs\n"
     ]
    }
   ],
   "source": [
    "%%time\n",
    "n_features = simulation.n_features\n",
    "n_hamiltonians = simulation.n_hamiltonians\n",
    "n_ts = simulation.n_ts\n",
    "\n",
    "print(\"n_features: \", n_features)\n",
    "print(\"n_hamiltonians: \", n_hamiltonians)\n",
    "print(\"n_ts: \", n_ts)"
   ]
  },
  {
   "cell_type": "code",
   "execution_count": 26,
   "metadata": {
    "execution": {
     "iopub.execute_input": "2020-07-18T06:08:45.014430Z",
     "iopub.status.busy": "2020-07-18T06:08:45.014062Z",
     "iopub.status.idle": "2020-07-18T06:08:45.299472Z",
     "shell.execute_reply": "2020-07-18T06:08:45.299782Z"
    },
    "papermill": {
     "duration": 0.307408,
     "end_time": "2020-07-18T06:08:45.299849",
     "exception": false,
     "start_time": "2020-07-18T06:08:44.992441",
     "status": "completed"
    },
    "tags": []
   },
   "outputs": [
    {
     "name": "stdout",
     "output_type": "stream",
     "text": [
      "% train:  0.846822130772748\n",
      "% val:  0.0\n",
      "% test:  0.15317786922725193\n",
      "% train + val + test:  1.0\n",
      "\n",
      "\n",
      "number of train hamiltonians:  5556\n",
      "number of val hamiltonians:  0\n",
      "number of test hamiltonians:  1005\n",
      "total number of hamiltonians:  6561\n",
      "\n",
      "\n",
      "train ids:  [9, 10, 11, 12, 13, 14, 15, 16, 17, 18, 19, 20, 21, 22, 23, 24, 25, 26, 27, 28, 29, 30, 31, 32, 33, 34, 35, 36, 37, 38, 39, 40, 41, 42, 43, 44, 45, 46, 47, 48, 49, 50, 51, 52, 53, 54, 55, 56, 57, 58, 59, 60, 61, 62, 63, 64, 65, 66, 67, 68, 69, 70, 71, 72, 73, 74, 75, 76, 77, 91, 92, 93, 94, 95, 96, 97, 98, 99, 100, 101, 102, 103, 104, 105, 106, 107, 108, 109, 110, 111, 112, 113, 114, 115, 116, 117, 118, 119, 120, 121, 122, 123, 124, 125, 126, 127, 128, 129, 130, 131, 132, 133, 134, 135, 136, 137, 138, 139, 140, 141, 142, 143, 144, 145, 146, 147, 148, 149, 150, 151, 152, 153, 154, 155, 156, 157, 172, 173, 174, 175, 176, 177, 178, 179, 180, 181, 182, 183, 184, 185, 186, 187, 188, 189, 190, 191, 192, 193, 194, 195, 196, 197, 198, 199, 200, 201, 202, 203, 204, 205, 206, 207, 208, 209, 210, 211, 212, 213, 214, 215, 216, 217, 218, 219, 220, 221, 222, 223, 224, 225, 226, 227, 228, 229, 230, 231, 232, 233, 234, 235, 236, 237, 254, 255, 256, 257, 258, 259, 260, 261, 262, 263, 264, 265, 266, 267, 268, 269, 270, 271, 272, 273, 274, 275, 276, 277, 278, 279, 280, 281, 282, 283, 284, 285, 286, 287, 288, 289, 290, 291, 292, 293, 294, 295, 296, 297, 298, 299, 300, 301, 302, 303, 304, 305, 306, 307, 308, 309, 310, 311, 312, 313, 314, 315, 316, 317, 323, 336, 337, 338, 339, 340, 341, 342, 343, 344, 345, 346, 347, 348, 349, 350, 351, 352, 353, 354, 355, 356, 357, 358, 359, 360, 361, 362, 363, 364, 365, 366, 367, 368, 369, 370, 371, 372, 373, 374, 375, 376, 377, 378, 379, 380, 381, 382, 383, 384, 385, 386, 387, 388, 389, 390, 391, 392, 393, 394, 395, 396, 397, 403, 404, 418, 419, 420, 421, 422, 423, 424, 425, 426, 427, 428, 429, 430, 431, 432, 433, 434, 435, 436, 437, 438, 439, 440, 441, 442, 443, 444, 445, 446, 447, 448, 449, 450, 451, 452, 453, 454, 455, 456, 457, 458, 459, 460, 461, 462, 463, 464, 465, 466, 467, 468, 469, 470, 471, 472, 473, 474, 475, 476, 477, 483, 484, 485, 500, 501, 502, 503, 504, 505, 506, 507, 508, 509, 510, 511, 512, 513, 514, 515, 516, 517, 518, 519, 520, 521, 522, 523, 524, 525, 526, 527, 528, 529, 530, 531, 532, 533, 534, 535, 536, 537, 538, 539, 540, 541, 542, 543, 544, 545, 546, 547, 548, 549, 550, 551, 552, 553, 554, 555, 556, 557, 563, 564, 565, 566, 581, 582, 583, 584, 585, 586, 587, 588, 589, 590, 591, 592, 593, 594, 595, 596, 597, 598, 599, 600, 601, 602, 603, 604, 605, 606, 607, 608, 609, 610, 611, 612, 613, 614, 615, 616, 617, 618, 619, 620, 621, 622, 623, 624, 625, 626, 627, 628, 629, 630, 631, 632, 633, 634, 635, 636, 637, 643, 644, 645, 646, 647, 663, 664, 665, 666, 667, 668, 669, 670, 671, 672, 673, 674, 675, 676, 677, 678, 679, 680, 681, 682, 683, 684, 685, 686, 687, 688, 689, 690, 691, 692, 693, 694, 695, 696, 697, 698, 699, 700, 701, 702, 703, 704, 705, 706, 707, 708, 709, 710, 711, 712, 713, 714, 715, 716, 717, 723, 724, 725, 726, 727, 728, 745, 746, 747, 748, 749, 750, 751, 752, 753, 754, 755, 756, 757, 758, 759, 760, 761, 762, 763, 764, 765, 766, 767, 768, 769, 770, 771, 772, 773, 774, 775, 776, 777, 778, 779, 780, 781, 782, 783, 784, 785, 786, 787, 788, 789, 790, 791, 792, 793, 794, 795, 796, 797, 803, 804, 805, 806, 807, 808, 809, 827, 828, 829, 830, 831, 832, 833, 834, 835, 836, 837, 838, 839, 840, 841, 842, 843, 844, 845, 846, 847, 848, 849, 850, 851, 852, 853, 854, 855, 856, 857, 858, 859, 860, 861, 862, 863, 864, 865, 866, 867, 868, 869, 870, 871, 872, 873, 874, 875, 876, 877, 883, 884, 885, 886, 887, 888, 889, 890, 891, 909, 910, 911, 912, 913, 914, 915, 916, 917, 918, 919, 920, 921, 922, 923, 924, 925, 926, 927, 928, 929, 930, 931, 932, 933, 934, 935, 936, 937, 938, 939, 940, 941, 942, 943, 944, 945, 946, 947, 948, 949, 950, 951, 952, 953, 954, 955, 956, 957, 963, 964, 965, 966, 967, 968, 969, 970, 971, 972, 973, 990, 991, 992, 993, 994, 995, 996, 997, 998, 999, 1000, 1001, 1002, 1003, 1004, 1005, 1006, 1007, 1008, 1009, 1010, 1011, 1012, 1013, 1014, 1015, 1016, 1017, 1018, 1019, 1020, 1021, 1022, 1023, 1024, 1025, 1026, 1027, 1028, 1029, 1030, 1031, 1032, 1033, 1034, 1035, 1036, 1037, 1038, 1042, 1043, 1044, 1045, 1046, 1047, 1048, 1049, 1050, 1051, 1052, 1053, 1054, 1055, 1056, 1072, 1073, 1074, 1075, 1076, 1077, 1078, 1079, 1080, 1081, 1082, 1083, 1084, 1085, 1086, 1087, 1088, 1089, 1090, 1091, 1092, 1093, 1094, 1095, 1096, 1097, 1098, 1099, 1100, 1101, 1102, 1103, 1104, 1105, 1106, 1107, 1108, 1109, 1110, 1111, 1112, 1113, 1114, 1115, 1116, 1117, 1118, 1122, 1123, 1124, 1125, 1126, 1127, 1128, 1129, 1130, 1131, 1132, 1133, 1134, 1135, 1136, 1137, 1138, 1154, 1155, 1156, 1157, 1158, 1159, 1160, 1161, 1162, 1163, 1164, 1165, 1166, 1167, 1168, 1169, 1170, 1171, 1172, 1173, 1174, 1175, 1176, 1177, 1178, 1179, 1180, 1181, 1182, 1183, 1184, 1185, 1186, 1187, 1188, 1189, 1190, 1191, 1192, 1193, 1194, 1195, 1196, 1197, 1198, 1202, 1203, 1204, 1205, 1206, 1207, 1208, 1209, 1210, 1211, 1212, 1213, 1214, 1215, 1216, 1217, 1218, 1219, 1220, 1236, 1237, 1238, 1239, 1240, 1241, 1242, 1243, 1244, 1245, 1246, 1247, 1248, 1249, 1250, 1251, 1252, 1253, 1254, 1255, 1256, 1257, 1258, 1259, 1260, 1261, 1262, 1263, 1264, 1265, 1266, 1267, 1268, 1269, 1270, 1271, 1272, 1273, 1274, 1275, 1276, 1277, 1278, 1282, 1283, 1284, 1285, 1286, 1287, 1288, 1289, 1290, 1291, 1292, 1293, 1294, 1295, 1296, 1297, 1298, 1299, 1300, 1301, 1302, 1303, 1317, 1318, 1319, 1320, 1321, 1322, 1323, 1324, 1325, 1326, 1327, 1328, 1329, 1330, 1331, 1332, 1333, 1334, 1335, 1336, 1337, 1338, 1339, 1340, 1341, 1342, 1343, 1344, 1345, 1346, 1347, 1348, 1349, 1350, 1351, 1352, 1353, 1354, 1355, 1356, 1357, 1358, 1362, 1363, 1364, 1365, 1366, 1367, 1368, 1369, 1370, 1371, 1372, 1373, 1374, 1375, 1376, 1377, 1378, 1379, 1380, 1381, 1382, 1383, 1384, 1385, 1399, 1400, 1401, 1402, 1403, 1404, 1405, 1406, 1407, 1408, 1409, 1410, 1411, 1412, 1413, 1414, 1415, 1416, 1417, 1418, 1419, 1420, 1421, 1422, 1423, 1424, 1425, 1426, 1427, 1428, 1429, 1430, 1431, 1432, 1433, 1434, 1435, 1436, 1437, 1438, 1442, 1443, 1444, 1445, 1446, 1447, 1448, 1449, 1450, 1451, 1452, 1453, 1454, 1455, 1456, 1457, 1458, 1459, 1460, 1461, 1462, 1463, 1464, 1465, 1466, 1467, 1468, 1481, 1482, 1483, 1484, 1485, 1486, 1487, 1488, 1489, 1490, 1491, 1492, 1493, 1494, 1495, 1496, 1497, 1498, 1499, 1500, 1501, 1502, 1503, 1504, 1505, 1506, 1507, 1508, 1509, 1510, 1511, 1512, 1513, 1514, 1515, 1516, 1517, 1518, 1522, 1523, 1524, 1525, 1526, 1527, 1528, 1529, 1530, 1531, 1532, 1533, 1534, 1535, 1536, 1537, 1538, 1539, 1540, 1541, 1542, 1543, 1544, 1545, 1546, 1547, 1548, 1549, 1550, 1563, 1564, 1565, 1566, 1567, 1568, 1569, 1570, 1571, 1572, 1573, 1574, 1575, 1576, 1577, 1578, 1579, 1580, 1581, 1582, 1583, 1584, 1585, 1586, 1587, 1588, 1589, 1590, 1591, 1592, 1593, 1594, 1595, 1596, 1597, 1598, 1602, 1603, 1604, 1605, 1606, 1607, 1608, 1609, 1610, 1611, 1612, 1613, 1614, 1615, 1616, 1617, 1618, 1619, 1620, 1621, 1622, 1623, 1624, 1625, 1626, 1627, 1628, 1629, 1630, 1631, 1632, 1645, 1646, 1647, 1648, 1649, 1650, 1651, 1652, 1653, 1654, 1655, 1656, 1657, 1658, 1659, 1660, 1661, 1662, 1663, 1664, 1665, 1666, 1667, 1668, 1669, 1670, 1671, 1672, 1673, 1674, 1675, 1676, 1677, 1678, 1682, 1683, 1684, 1685, 1686, 1687, 1688, 1689, 1690, 1691, 1692, 1693, 1694, 1695, 1696, 1697, 1698, 1699, 1700, 1701, 1702, 1703, 1704, 1705, 1706, 1707, 1708, 1709, 1710, 1711, 1712, 1713, 1714, 1715, 1726, 1727, 1728, 1729, 1730, 1731, 1732, 1733, 1734, 1735, 1736, 1737, 1738, 1739, 1740, 1741, 1742, 1743, 1744, 1745, 1746, 1747, 1748, 1749, 1750, 1751, 1752, 1753, 1754, 1755, 1756, 1757, 1758, 1762, 1763, 1764, 1765, 1766, 1767, 1768, 1769, 1770, 1771, 1772, 1773, 1774, 1775, 1776, 1777, 1778, 1779, 1780, 1781, 1782, 1783, 1784, 1785, 1786, 1787, 1788, 1789, 1790, 1791, 1792, 1793, 1794, 1795, 1796, 1797, 1808, 1809, 1810, 1811, 1812, 1813, 1814, 1815, 1816, 1817, 1818, 1819, 1820, 1821, 1822, 1823, 1824, 1825, 1826, 1827, 1828, 1829, 1830, 1831, 1832, 1833, 1834, 1835, 1836, 1837, 1838, 1842, 1843, 1844, 1845, 1846, 1847, 1848, 1849, 1850, 1851, 1852, 1853, 1854, 1855, 1856, 1857, 1858, 1859, 1860, 1861, 1862, 1863, 1864, 1865, 1866, 1867, 1868, 1869, 1870, 1871, 1872, 1873, 1874, 1875, 1876, 1877, 1878, 1879, 1890, 1891, 1892, 1893, 1894, 1895, 1896, 1897, 1898, 1899, 1900, 1901, 1902, 1903, 1904, 1905, 1906, 1907, 1908, 1909, 1910, 1911, 1912, 1913, 1914, 1915, 1916, 1917, 1918, 1922, 1923, 1924, 1925, 1926, 1927, 1928, 1929, 1930, 1931, 1932, 1933, 1934, 1935, 1936, 1937, 1938, 1939, 1940, 1941, 1942, 1943, 1944, 1945, 1946, 1947, 1948, 1949, 1950, 1951, 1952, 1953, 1954, 1955, 1956, 1957, 1958, 1959, 1960, 1961, 1962, 1972, 1973, 1974, 1975, 1976, 1977, 1978, 1979, 1980, 1981, 1982, 1983, 1984, 1985, 1986, 1987, 1988, 1989, 1990, 1991, 1992, 1993, 1994, 1995, 1996, 1997, 1998, 2002, 2003, 2004, 2005, 2006, 2007, 2008, 2009, 2010, 2011, 2012, 2013, 2014, 2015, 2016, 2017, 2018, 2019, 2020, 2021, 2022, 2023, 2024, 2025, 2026, 2027, 2028, 2029, 2030, 2031, 2032, 2033, 2034, 2035, 2036, 2037, 2038, 2039, 2040, 2041, 2042, 2043, 2044, 2054, 2055, 2056, 2057, 2058, 2059, 2060, 2061, 2062, 2063, 2064, 2065, 2066, 2067, 2068, 2069, 2070, 2071, 2072, 2073, 2074, 2075, 2076, 2077, 2078, 2082, 2083, 2084, 2085, 2086, 2087, 2088, 2089, 2090, 2091, 2092, 2093, 2094, 2095, 2096, 2097, 2098, 2099, 2100, 2101, 2102, 2103, 2104, 2105, 2106, 2107, 2108, 2109, 2110, 2111, 2112, 2113, 2114, 2115, 2116, 2117, 2118, 2119, 2120, 2121, 2122, 2123, 2124, 2125, 2126, 2135, 2136, 2137, 2138, 2139, 2140, 2141, 2142, 2143, 2144, 2145, 2146, 2147, 2148, 2149, 2150, 2151, 2152, 2153, 2154, 2155, 2156, 2157, 2158, 2159, 2161, 2162, 2163, 2164, 2165, 2166, 2167, 2168, 2169, 2170, 2171, 2172, 2173, 2174, 2175, 2176, 2177, 2178, 2179, 2180, 2181, 2182, 2183, 2184, 2185, 2186, 2187, 2188, 2189, 2190, 2191, 2192, 2193, 2194, 2195, 2196, 2197, 2198, 2199, 2200, 2201, 2202, 2203, 2204, 2205, 2206, 2207, 2208, 2209, 2217, 2218, 2219, 2220, 2221, 2222, 2223, 2224, 2225, 2226, 2227, 2228, 2229, 2230, 2231, 2232, 2233, 2234, 2235, 2236, 2237, 2238, 2239, 2241, 2242, 2243, 2244, 2245, 2246, 2247, 2248, 2249, 2250, 2251, 2252, 2253, 2254, 2255, 2256, 2257, 2258, 2259, 2260, 2261, 2262, 2263, 2264, 2265, 2266, 2267, 2268, 2269, 2270, 2271, 2272, 2273, 2274, 2275, 2276, 2277, 2278, 2279, 2280, 2281, 2282, 2283, 2284, 2285, 2286, 2287, 2288, 2289, 2290, 2291, 2299, 2300, 2301, 2302, 2303, 2304, 2305, 2306, 2307, 2308, 2309, 2310, 2311, 2312, 2313, 2314, 2315, 2316, 2317, 2318, 2319, 2321, 2322, 2323, 2324, 2325, 2326, 2327, 2328, 2329, 2330, 2331, 2332, 2333, 2334, 2335, 2336, 2337, 2338, 2339, 2340, 2341, 2342, 2343, 2344, 2345, 2346, 2347, 2348, 2349, 2350, 2351, 2352, 2353, 2354, 2355, 2356, 2357, 2358, 2359, 2360, 2361, 2362, 2363, 2364, 2365, 2366, 2367, 2368, 2369, 2370, 2371, 2372, 2373, 2374, 2381, 2382, 2383, 2384, 2385, 2386, 2387, 2388, 2389, 2390, 2391, 2392, 2393, 2394, 2395, 2396, 2397, 2398, 2399, 2401, 2402, 2403, 2404, 2405, 2406, 2407, 2408, 2409, 2410, 2411, 2412, 2413, 2414, 2415, 2416, 2417, 2418, 2419, 2420, 2421, 2422, 2423, 2424, 2425, 2426, 2427, 2428, 2429, 2430, 2431, 2432, 2433, 2434, 2435, 2436, 2437, 2438, 2439, 2440, 2441, 2442, 2443, 2444, 2445, 2446, 2447, 2448, 2449, 2450, 2451, 2452, 2453, 2454, 2455, 2456, 2463, 2464, 2465, 2466, 2467, 2468, 2469, 2470, 2471, 2472, 2473, 2474, 2475, 2476, 2477, 2478, 2479, 2481, 2482, 2483, 2484, 2485, 2486, 2487, 2488, 2489, 2490, 2491, 2492, 2493, 2494, 2495, 2496, 2497, 2498, 2499, 2500, 2501, 2502, 2503, 2504, 2505, 2506, 2507, 2508, 2509, 2510, 2511, 2512, 2513, 2514, 2515, 2516, 2517, 2518, 2519, 2520, 2521, 2522, 2523, 2524, 2525, 2526, 2527, 2528, 2529, 2530, 2531, 2532, 2533, 2534, 2535, 2536, 2537, 2538, 2544, 2545, 2546, 2547, 2548, 2549, 2550, 2551, 2552, 2553, 2554, 2555, 2556, 2557, 2558, 2559, 2561, 2562, 2563, 2564, 2565, 2566, 2567, 2568, 2569, 2570, 2571, 2572, 2573, 2574, 2575, 2576, 2577, 2578, 2579, 2580, 2581, 2582, 2583, 2584, 2585, 2586, 2587, 2588, 2589, 2590, 2591, 2592, 2593, 2594, 2595, 2596, 2597, 2598, 2599, 2600, 2601, 2602, 2603, 2604, 2605, 2606, 2607, 2608, 2609, 2610, 2611, 2612, 2613, 2614, 2615, 2616, 2617, 2618, 2619, 2620, 2621, 2626, 2627, 2628, 2629, 2630, 2631, 2632, 2633, 2634, 2635, 2636, 2637, 2638, 2639, 2641, 2642, 2643, 2644, 2645, 2646, 2647, 2648, 2649, 2650, 2651, 2652, 2653, 2654, 2655, 2656, 2657, 2658, 2659, 2660, 2661, 2662, 2663, 2664, 2665, 2666, 2667, 2668, 2669, 2670, 2671, 2672, 2673, 2674, 2675, 2676, 2677, 2678, 2679, 2680, 2681, 2682, 2683, 2684, 2685, 2686, 2687, 2688, 2689, 2690, 2691, 2692, 2693, 2694, 2695, 2696, 2697, 2698, 2699, 2700, 2701, 2702, 2703, 2708, 2709, 2710, 2711, 2712, 2713, 2714, 2715, 2716, 2717, 2718, 2719, 2721, 2722, 2723, 2724, 2725, 2726, 2727, 2728, 2729, 2730, 2731, 2732, 2733, 2734, 2735, 2736, 2737, 2738, 2739, 2740, 2741, 2742, 2743, 2744, 2745, 2746, 2747, 2748, 2749, 2750, 2751, 2752, 2753, 2754, 2755, 2756, 2757, 2758, 2759, 2760, 2761, 2762, 2763, 2764, 2765, 2766, 2767, 2768, 2769, 2770, 2771, 2772, 2773, 2774, 2775, 2776, 2777, 2778, 2779, 2780, 2781, 2782, 2783, 2784, 2785, 2790, 2791, 2792, 2793, 2794, 2795, 2796, 2797, 2798, 2799, 2801, 2802, 2803, 2804, 2805, 2806, 2807, 2808, 2809, 2810, 2811, 2812, 2813, 2814, 2815, 2816, 2817, 2818, 2819, 2820, 2821, 2822, 2823, 2824, 2825, 2826, 2827, 2828, 2829, 2830, 2831, 2832, 2833, 2834, 2835, 2836, 2837, 2838, 2839, 2840, 2841, 2842, 2843, 2844, 2845, 2846, 2847, 2848, 2849, 2850, 2851, 2852, 2853, 2854, 2855, 2856, 2857, 2858, 2859, 2860, 2861, 2862, 2863, 2864, 2865, 2866, 2867, 2868, 2872, 2873, 2874, 2875, 2876, 2877, 2878, 2879, 2881, 2882, 2883, 2884, 2885, 2886, 2887, 2888, 2889, 2890, 2891, 2892, 2893, 2894, 2895, 2896, 2897, 2898, 2899, 2900, 2901, 2902, 2903, 2904, 2905, 2906, 2907, 2908, 2909, 2910, 2911, 2912, 2913, 2914, 2915, 2916, 2917, 2918, 2919, 2920, 2921, 2922, 2923, 2924, 2925, 2926, 2927, 2928, 2929, 2930, 2931, 2932, 2933, 2934, 2935, 2936, 2937, 2938, 2939, 2940, 2941, 2942, 2943, 2944, 2945, 2946, 2947, 2948, 2949, 2950, 2953, 2954, 2955, 2956, 2957, 2958, 2959, 2961, 2962, 2963, 2964, 2965, 2966, 2967, 2968, 2969, 2970, 2971, 2972, 2973, 2974, 2975, 2976, 2977, 2978, 2979, 2980, 2981, 2982, 2983, 2984, 2985, 2986, 2987, 2988, 2989, 2990, 2991, 2992, 2993, 2994, 2995, 2996, 2997, 2998, 2999, 3000, 3001, 3002, 3003, 3004, 3005, 3006, 3007, 3008, 3009, 3010, 3011, 3012, 3013, 3014, 3015, 3016, 3017, 3018, 3019, 3020, 3021, 3022, 3023, 3024, 3025, 3026, 3027, 3028, 3029, 3030, 3031, 3032, 3035, 3036, 3037, 3038, 3039, 3041, 3042, 3043, 3044, 3045, 3046, 3047, 3048, 3049, 3050, 3051, 3052, 3053, 3054, 3055, 3056, 3057, 3058, 3059, 3060, 3061, 3062, 3063, 3064, 3065, 3066, 3067, 3068, 3069, 3070, 3071, 3072, 3073, 3074, 3075, 3076, 3077, 3078, 3079, 3080, 3081, 3082, 3083, 3084, 3085, 3086, 3087, 3088, 3089, 3090, 3091, 3092, 3093, 3094, 3095, 3096, 3097, 3098, 3099, 3100, 3101, 3102, 3103, 3104, 3105, 3106, 3107, 3108, 3109, 3110, 3111, 3112, 3113, 3114, 3115, 3117, 3118, 3119, 3121, 3122, 3123, 3124, 3125, 3126, 3127, 3128, 3129, 3130, 3131, 3132, 3133, 3134, 3135, 3136, 3137, 3138, 3139, 3140, 3141, 3142, 3143, 3144, 3145, 3146, 3147, 3148, 3149, 3150, 3151, 3152, 3153, 3154, 3155, 3156, 3157, 3158, 3159, 3160, 3161, 3162, 3163, 3164, 3165, 3166, 3167, 3168, 3169, 3170, 3171, 3172, 3173, 3174, 3175, 3176, 3177, 3178, 3179, 3180, 3181, 3182, 3183, 3184, 3185, 3186, 3187, 3188, 3189, 3190, 3191, 3192, 3193, 3194, 3195, 3196, 3197, 3199, 3201, 3202, 3203, 3204, 3205, 3206, 3207, 3208, 3209, 3210, 3211, 3212, 3213, 3214, 3215, 3216, 3217, 3218, 3219, 3220, 3221, 3222, 3223, 3224, 3225, 3226, 3227, 3228, 3229, 3230, 3231, 3232, 3233, 3234, 3235, 3236, 3237, 3238, 3239, 3240, 3241, 3242, 3243, 3244, 3245, 3246, 3247, 3248, 3249, 3250, 3251, 3252, 3253, 3254, 3255, 3256, 3257, 3258, 3259, 3260, 3261, 3262, 3263, 3264, 3265, 3266, 3267, 3268, 3269, 3270, 3271, 3272, 3273, 3274, 3275, 3276, 3277, 3278, 3279, 3281, 3282, 3283, 3284, 3285, 3286, 3287, 3288, 3289, 3290, 3291, 3292, 3293, 3294, 3295, 3296, 3297, 3298, 3299, 3300, 3301, 3302, 3303, 3304, 3305, 3306, 3307, 3308, 3309, 3310, 3311, 3312, 3313, 3314, 3315, 3316, 3317, 3318, 3319, 3320, 3321, 3322, 3323, 3324, 3325, 3326, 3327, 3328, 3329, 3330, 3331, 3332, 3333, 3334, 3335, 3336, 3337, 3338, 3339, 3340, 3341, 3342, 3343, 3344, 3345, 3346, 3347, 3348, 3349, 3350, 3351, 3352, 3353, 3354, 3355, 3356, 3357, 3358, 3359, 3361, 3363, 3364, 3365, 3366, 3367, 3368, 3369, 3370, 3371, 3372, 3373, 3374, 3375, 3376, 3377, 3378, 3379, 3380, 3381, 3382, 3383, 3384, 3385, 3386, 3387, 3388, 3389, 3390, 3391, 3392, 3393, 3394, 3395, 3396, 3397, 3398, 3399, 3400, 3401, 3402, 3403, 3404, 3405, 3406, 3407, 3408, 3409, 3410, 3411, 3412, 3413, 3414, 3415, 3416, 3417, 3418, 3419, 3420, 3421, 3422, 3423, 3424, 3425, 3426, 3427, 3428, 3429, 3430, 3431, 3432, 3433, 3434, 3435, 3436, 3437, 3438, 3439, 3441, 3442, 3443, 3445, 3446, 3447, 3448, 3449, 3450, 3451, 3452, 3453, 3454, 3455, 3456, 3457, 3458, 3459, 3460, 3461, 3462, 3463, 3464, 3465, 3466, 3467, 3468, 3469, 3470, 3471, 3472, 3473, 3474, 3475, 3476, 3477, 3478, 3479, 3480, 3481, 3482, 3483, 3484, 3485, 3486, 3487, 3488, 3489, 3490, 3491, 3492, 3493, 3494, 3495, 3496, 3497, 3498, 3499, 3500, 3501, 3502, 3503, 3504, 3505, 3506, 3507, 3508, 3509, 3510, 3511, 3512, 3513, 3514, 3515, 3516, 3517, 3518, 3519, 3521, 3522, 3523, 3524, 3525, 3528, 3529, 3530, 3531, 3532, 3533, 3534, 3535, 3536, 3537, 3538, 3539, 3540, 3541, 3542, 3543, 3544, 3545, 3546, 3547, 3548, 3549, 3550, 3551, 3552, 3553, 3554, 3555, 3556, 3557, 3558, 3559, 3560, 3561, 3562, 3563, 3564, 3565, 3566, 3567, 3568, 3569, 3570, 3571, 3572, 3573, 3574, 3575, 3576, 3577, 3578, 3579, 3580, 3581, 3582, 3583, 3584, 3585, 3586, 3587, 3588, 3589, 3590, 3591, 3592, 3593, 3594, 3595, 3596, 3597, 3598, 3599, 3601, 3602, 3603, 3604, 3605, 3606, 3607, 3610, 3611, 3612, 3613, 3614, 3615, 3616, 3617, 3618, 3619, 3620, 3621, 3622, 3623, 3624, 3625, 3626, 3627, 3628, 3629, 3630, 3631, 3632, 3633, 3634, 3635, 3636, 3637, 3638, 3639, 3640, 3641, 3642, 3643, 3644, 3645, 3646, 3647, 3648, 3649, 3650, 3651, 3652, 3653, 3654, 3655, 3656, 3657, 3658, 3659, 3660, 3661, 3662, 3663, 3664, 3665, 3666, 3667, 3668, 3669, 3670, 3671, 3672, 3673, 3674, 3675, 3676, 3677, 3678, 3679, 3681, 3682, 3683, 3684, 3685, 3686, 3687, 3688, 3692, 3693, 3694, 3695, 3696, 3697, 3698, 3699, 3700, 3701, 3702, 3703, 3704, 3705, 3706, 3707, 3708, 3709, 3710, 3711, 3712, 3713, 3714, 3715, 3716, 3717, 3718, 3719, 3720, 3721, 3722, 3723, 3724, 3725, 3726, 3727, 3728, 3729, 3730, 3731, 3732, 3733, 3734, 3735, 3736, 3737, 3738, 3739, 3740, 3741, 3742, 3743, 3744, 3745, 3746, 3747, 3748, 3749, 3750, 3751, 3752, 3753, 3754, 3755, 3756, 3757, 3758, 3759, 3761, 3762, 3763, 3764, 3765, 3766, 3767, 3768, 3769, 3770, 3775, 3776, 3777, 3778, 3779, 3780, 3781, 3782, 3783, 3784, 3785, 3786, 3787, 3788, 3789, 3790, 3791, 3792, 3793, 3794, 3795, 3796, 3797, 3798, 3799, 3800, 3801, 3802, 3803, 3804, 3805, 3806, 3807, 3808, 3809, 3810, 3811, 3812, 3813, 3814, 3815, 3816, 3817, 3818, 3819, 3820, 3821, 3822, 3823, 3824, 3825, 3826, 3827, 3828, 3829, 3830, 3831, 3832, 3833, 3834, 3835, 3836, 3837, 3838, 3839, 3841, 3842, 3843, 3844, 3845, 3846, 3847, 3848, 3849, 3850, 3851, 3852, 3857, 3858, 3859, 3860, 3861, 3862, 3863, 3864, 3865, 3866, 3867, 3868, 3869, 3870, 3871, 3872, 3873, 3874, 3875, 3876, 3877, 3878, 3879, 3880, 3881, 3882, 3883, 3884, 3885, 3886, 3887, 3888, 3889, 3890, 3891, 3892, 3893, 3894, 3895, 3896, 3897, 3898, 3899, 3900, 3901, 3902, 3903, 3904, 3905, 3906, 3907, 3908, 3909, 3910, 3911, 3912, 3913, 3914, 3915, 3916, 3917, 3918, 3919, 3921, 3922, 3923, 3924, 3925, 3926, 3927, 3928, 3929, 3930, 3931, 3932, 3933, 3934, 3939, 3940, 3941, 3942, 3943, 3944, 3945, 3946, 3947, 3948, 3949, 3950, 3951, 3952, 3953, 3954, 3955, 3956, 3957, 3958, 3959, 3960, 3961, 3962, 3963, 3964, 3965, 3966, 3967, 3968, 3969, 3970, 3971, 3972, 3973, 3974, 3975, 3976, 3977, 3978, 3979, 3980, 3981, 3982, 3983, 3984, 3985, 3986, 3987, 3988, 3989, 3990, 3991, 3992, 3993, 3994, 3995, 3996, 3997, 3998, 3999, 4001, 4002, 4003, 4004, 4005, 4006, 4007, 4008, 4009, 4010, 4011, 4012, 4013, 4014, 4015, 4016, 4022, 4023, 4024, 4025, 4026, 4027, 4028, 4029, 4030, 4031, 4032, 4033, 4034, 4035, 4036, 4037, 4038, 4039, 4040, 4041, 4042, 4043, 4044, 4045, 4046, 4047, 4048, 4049, 4050, 4051, 4052, 4053, 4054, 4055, 4056, 4057, 4058, 4059, 4060, 4061, 4062, 4063, 4064, 4065, 4066, 4067, 4068, 4069, 4070, 4071, 4072, 4073, 4074, 4075, 4076, 4077, 4078, 4079, 4081, 4082, 4083, 4084, 4085, 4086, 4087, 4088, 4089, 4090, 4091, 4092, 4093, 4094, 4095, 4096, 4097, 4104, 4105, 4106, 4107, 4108, 4109, 4110, 4111, 4112, 4113, 4114, 4115, 4116, 4117, 4118, 4119, 4120, 4121, 4122, 4123, 4124, 4125, 4126, 4127, 4128, 4129, 4130, 4131, 4132, 4133, 4134, 4135, 4136, 4137, 4138, 4139, 4140, 4141, 4142, 4143, 4144, 4145, 4146, 4147, 4148, 4149, 4150, 4151, 4152, 4153, 4154, 4155, 4156, 4157, 4158, 4159, 4161, 4162, 4163, 4164, 4165, 4166, 4167, 4168, 4169, 4170, 4171, 4172, 4173, 4174, 4175, 4176, 4177, 4178, 4179, 4186, 4187, 4188, 4189, 4190, 4191, 4192, 4193, 4194, 4195, 4196, 4197, 4198, 4199, 4200, 4201, 4202, 4203, 4204, 4205, 4206, 4207, 4208, 4209, 4210, 4211, 4212, 4213, 4214, 4215, 4216, 4217, 4218, 4219, 4220, 4221, 4222, 4223, 4224, 4225, 4226, 4227, 4228, 4229, 4230, 4231, 4232, 4233, 4234, 4235, 4236, 4237, 4238, 4239, 4241, 4242, 4243, 4244, 4245, 4246, 4247, 4248, 4249, 4250, 4251, 4252, 4253, 4254, 4255, 4256, 4257, 4258, 4259, 4260, 4261, 4269, 4270, 4271, 4272, 4273, 4274, 4275, 4276, 4277, 4278, 4279, 4280, 4281, 4282, 4283, 4284, 4285, 4286, 4287, 4288, 4289, 4290, 4291, 4292, 4293, 4294, 4295, 4296, 4297, 4298, 4299, 4300, 4301, 4302, 4303, 4304, 4305, 4306, 4307, 4308, 4309, 4310, 4311, 4312, 4313, 4314, 4315, 4316, 4317, 4318, 4319, 4321, 4322, 4323, 4324, 4325, 4326, 4327, 4328, 4329, 4330, 4331, 4332, 4333, 4334, 4335, 4336, 4337, 4338, 4339, 4340, 4341, 4342, 4343, 4351, 4352, 4353, 4354, 4355, 4356, 4357, 4358, 4359, 4360, 4361, 4362, 4363, 4364, 4365, 4366, 4367, 4368, 4369, 4370, 4371, 4372, 4373, 4374, 4375, 4376, 4377, 4378, 4379, 4380, 4381, 4382, 4383, 4384, 4385, 4386, 4387, 4388, 4389, 4390, 4391, 4392, 4393, 4394, 4395, 4396, 4397, 4398, 4399, 4401, 4402, 4403, 4404, 4405, 4406, 4407, 4408, 4409, 4410, 4411, 4412, 4413, 4414, 4415, 4416, 4417, 4418, 4419, 4420, 4421, 4422, 4423, 4424, 4425, 4434, 4435, 4436, 4437, 4438, 4439, 4440, 4441, 4442, 4443, 4444, 4445, 4446, 4447, 4448, 4449, 4450, 4451, 4452, 4453, 4454, 4455, 4456, 4457, 4458, 4459, 4460, 4461, 4462, 4463, 4464, 4465, 4466, 4467, 4468, 4469, 4470, 4471, 4472, 4473, 4474, 4475, 4476, 4477, 4478, 4482, 4483, 4484, 4485, 4486, 4487, 4488, 4489, 4490, 4491, 4492, 4493, 4494, 4495, 4496, 4497, 4498, 4499, 4500, 4501, 4502, 4503, 4504, 4505, 4506, 4516, 4517, 4518, 4519, 4520, 4521, 4522, 4523, 4524, 4525, 4526, 4527, 4528, 4529, 4530, 4531, 4532, 4533, 4534, 4535, 4536, 4537, 4538, 4539, 4540, 4541, 4542, 4543, 4544, 4545, 4546, 4547, 4548, 4549, 4550, 4551, 4552, 4553, 4554, 4555, 4556, 4557, 4558, 4562, 4563, 4564, 4565, 4566, 4567, 4568, 4569, 4570, 4571, 4572, 4573, 4574, 4575, 4576, 4577, 4578, 4579, 4580, 4581, 4582, 4583, 4584, 4585, 4586, 4587, 4588, 4598, 4599, 4600, 4601, 4602, 4603, 4604, 4605, 4606, 4607, 4608, 4609, 4610, 4611, 4612, 4613, 4614, 4615, 4616, 4617, 4618, 4619, 4620, 4621, 4622, 4623, 4624, 4625, 4626, 4627, 4628, 4629, 4630, 4631, 4632, 4633, 4634, 4635, 4636, 4637, 4638, 4642, 4643, 4644, 4645, 4646, 4647, 4648, 4649, 4650, 4651, 4652, 4653, 4654, 4655, 4656, 4657, 4658, 4659, 4660, 4661, 4662, 4663, 4664, 4665, 4666, 4667, 4668, 4669, 4670, 4681, 4682, 4683, 4684, 4685, 4686, 4687, 4688, 4689, 4690, 4691, 4692, 4693, 4694, 4695, 4696, 4697, 4698, 4699, 4700, 4701, 4702, 4703, 4704, 4705, 4706, 4707, 4708, 4709, 4710, 4711, 4712, 4713, 4714, 4715, 4716, 4717, 4718, 4722, 4723, 4724, 4725, 4726, 4727, 4728, 4729, 4730, 4731, 4732, 4733, 4734, 4735, 4736, 4737, 4738, 4739, 4740, 4741, 4742, 4743, 4744, 4745, 4746, 4747, 4748, 4749, 4750, 4751, 4752, 4763, 4764, 4765, 4766, 4767, 4768, 4769, 4770, 4771, 4772, 4773, 4774, 4775, 4776, 4777, 4778, 4779, 4780, 4781, 4782, 4783, 4784, 4785, 4786, 4787, 4788, 4789, 4790, 4791, 4792, 4793, 4794, 4795, 4796, 4797, 4798, 4802, 4803, 4804, 4805, 4806, 4807, 4808, 4809, 4810, 4811, 4812, 4813, 4814, 4815, 4816, 4817, 4818, 4819, 4820, 4821, 4822, 4823, 4824, 4825, 4826, 4827, 4828, 4829, 4830, 4831, 4832, 4833, 4834, 4845, 4846, 4847, 4848, 4849, 4850, 4851, 4852, 4853, 4854, 4855, 4856, 4857, 4858, 4859, 4860, 4861, 4862, 4863, 4864, 4865, 4866, 4867, 4868, 4869, 4870, 4871, 4872, 4873, 4874, 4875, 4876, 4877, 4878, 4882, 4883, 4884, 4885, 4886, 4887, 4888, 4889, 4890, 4891, 4892, 4893, 4894, 4895, 4896, 4897, 4898, 4899, 4900, 4901, 4902, 4903, 4904, 4905, 4906, 4907, 4908, 4909, 4910, 4911, 4912, 4913, 4914, 4915, 4928, 4929, 4930, 4931, 4932, 4933, 4934, 4935, 4936, 4937, 4938, 4939, 4940, 4941, 4942, 4943, 4944, 4945, 4946, 4947, 4948, 4949, 4950, 4951, 4952, 4953, 4954, 4955, 4956, 4957, 4958, 4962, 4963, 4964, 4965, 4966, 4967, 4968, 4969, 4970, 4971, 4972, 4973, 4974, 4975, 4976, 4977, 4978, 4979, 4980, 4981, 4982, 4983, 4984, 4985, 4986, 4987, 4988, 4989, 4990, 4991, 4992, 4993, 4994, 4995, 4996, 4997, 5010, 5011, 5012, 5013, 5014, 5015, 5016, 5017, 5018, 5019, 5020, 5021, 5022, 5023, 5024, 5025, 5026, 5027, 5028, 5029, 5030, 5031, 5032, 5033, 5034, 5035, 5036, 5037, 5038, 5042, 5043, 5044, 5045, 5046, 5047, 5048, 5049, 5050, 5051, 5052, 5053, 5054, 5055, 5056, 5057, 5058, 5059, 5060, 5061, 5062, 5063, 5064, 5065, 5066, 5067, 5068, 5069, 5070, 5071, 5072, 5073, 5074, 5075, 5076, 5077, 5078, 5079, 5092, 5093, 5094, 5095, 5096, 5097, 5098, 5099, 5100, 5101, 5102, 5103, 5104, 5105, 5106, 5107, 5108, 5109, 5110, 5111, 5112, 5113, 5114, 5115, 5116, 5117, 5118, 5122, 5123, 5124, 5125, 5126, 5127, 5128, 5129, 5130, 5131, 5132, 5133, 5134, 5135, 5136, 5137, 5138, 5139, 5140, 5141, 5142, 5143, 5144, 5145, 5146, 5147, 5148, 5149, 5150, 5151, 5152, 5153, 5154, 5155, 5156, 5157, 5158, 5159, 5160, 5161, 5175, 5176, 5177, 5178, 5179, 5180, 5181, 5182, 5183, 5184, 5185, 5186, 5187, 5188, 5189, 5190, 5191, 5192, 5193, 5194, 5195, 5196, 5197, 5198, 5202, 5203, 5204, 5205, 5206, 5207, 5208, 5209, 5210, 5211, 5212, 5213, 5214, 5215, 5216, 5217, 5218, 5219, 5220, 5221, 5222, 5223, 5224, 5225, 5226, 5227, 5228, 5229, 5230, 5231, 5232, 5233, 5234, 5235, 5236, 5237, 5238, 5239, 5240, 5241, 5242, 5243, 5257, 5258, 5259, 5260, 5261, 5262, 5263, 5264, 5265, 5266, 5267, 5268, 5269, 5270, 5271, 5272, 5273, 5274, 5275, 5276, 5277, 5278, 5282, 5283, 5284, 5285, 5286, 5287, 5288, 5289, 5290, 5291, 5292, 5293, 5294, 5295, 5296, 5297, 5298, 5299, 5300, 5301, 5302, 5303, 5304, 5305, 5306, 5307, 5308, 5309, 5310, 5311, 5312, 5313, 5314, 5315, 5316, 5317, 5318, 5319, 5320, 5321, 5322, 5323, 5324, 5340, 5341, 5342, 5343, 5344, 5345, 5346, 5347, 5348, 5349, 5350, 5351, 5352, 5353, 5354, 5355, 5356, 5357, 5358, 5362, 5363, 5364, 5365, 5366, 5367, 5368, 5369, 5370, 5371, 5372, 5373, 5374, 5375, 5376, 5377, 5378, 5379, 5380, 5381, 5382, 5383, 5384, 5385, 5386, 5387, 5388, 5389, 5390, 5391, 5392, 5393, 5394, 5395, 5396, 5397, 5398, 5399, 5400, 5401, 5402, 5403, 5404, 5405, 5406, 5422, 5423, 5424, 5425, 5426, 5427, 5428, 5429, 5430, 5431, 5432, 5433, 5434, 5435, 5436, 5437, 5438, 5442, 5443, 5444, 5445, 5446, 5447, 5448, 5449, 5450, 5451, 5452, 5453, 5454, 5455, 5456, 5457, 5458, 5459, 5460, 5461, 5462, 5463, 5464, 5465, 5466, 5467, 5468, 5469, 5470, 5471, 5472, 5473, 5474, 5475, 5476, 5477, 5478, 5479, 5480, 5481, 5482, 5483, 5484, 5485, 5486, 5487, 5488, 5504, 5505, 5506, 5507, 5508, 5509, 5510, 5511, 5512, 5513, 5514, 5515, 5516, 5517, 5518, 5522, 5523, 5524, 5525, 5526, 5527, 5528, 5529, 5530, 5531, 5532, 5533, 5534, 5535, 5536, 5537, 5538, 5539, 5540, 5541, 5542, 5543, 5544, 5545, 5546, 5547, 5548, 5549, 5550, 5551, 5552, 5553, 5554, 5555, 5556, 5557, 5558, 5559, 5560, 5561, 5562, 5563, 5564, 5565, 5566, 5567, 5568, 5569, 5570, 5587, 5588, 5589, 5590, 5591, 5592, 5593, 5594, 5595, 5596, 5597, 5603, 5604, 5605, 5606, 5607, 5608, 5609, 5610, 5611, 5612, 5613, 5614, 5615, 5616, 5617, 5618, 5619, 5620, 5621, 5622, 5623, 5624, 5625, 5626, 5627, 5628, 5629, 5630, 5631, 5632, 5633, 5634, 5635, 5636, 5637, 5638, 5639, 5640, 5641, 5642, 5643, 5644, 5645, 5646, 5647, 5648, 5649, 5650, 5651, 5669, 5670, 5671, 5672, 5673, 5674, 5675, 5676, 5677, 5683, 5684, 5685, 5686, 5687, 5688, 5689, 5690, 5691, 5692, 5693, 5694, 5695, 5696, 5697, 5698, 5699, 5700, 5701, 5702, 5703, 5704, 5705, 5706, 5707, 5708, 5709, 5710, 5711, 5712, 5713, 5714, 5715, 5716, 5717, 5718, 5719, 5720, 5721, 5722, 5723, 5724, 5725, 5726, 5727, 5728, 5729, 5730, 5731, 5732, 5733, 5751, 5752, 5753, 5754, 5755, 5756, 5757, 5763, 5764, 5765, 5766, 5767, 5768, 5769, 5770, 5771, 5772, 5773, 5774, 5775, 5776, 5777, 5778, 5779, 5780, 5781, 5782, 5783, 5784, 5785, 5786, 5787, 5788, 5789, 5790, 5791, 5792, 5793, 5794, 5795, 5796, 5797, 5798, 5799, 5800, 5801, 5802, 5803, 5804, 5805, 5806, 5807, 5808, 5809, 5810, 5811, 5812, 5813, 5814, 5815, 5832, 5833, 5834, 5835, 5836, 5837, 5843, 5844, 5845, 5846, 5847, 5848, 5849, 5850, 5851, 5852, 5853, 5854, 5855, 5856, 5857, 5858, 5859, 5860, 5861, 5862, 5863, 5864, 5865, 5866, 5867, 5868, 5869, 5870, 5871, 5872, 5873, 5874, 5875, 5876, 5877, 5878, 5879, 5880, 5881, 5882, 5883, 5884, 5885, 5886, 5887, 5888, 5889, 5890, 5891, 5892, 5893, 5894, 5895, 5896, 5897, 5913, 5914, 5915, 5916, 5917, 5923, 5924, 5925, 5926, 5927, 5928, 5929, 5930, 5931, 5932, 5933, 5934, 5935, 5936, 5937, 5938, 5939, 5940, 5941, 5942, 5943, 5944, 5945, 5946, 5947, 5948, 5949, 5950, 5951, 5952, 5953, 5954, 5955, 5956, 5957, 5958, 5959, 5960, 5961, 5962, 5963, 5964, 5965, 5966, 5967, 5968, 5969, 5970, 5971, 5972, 5973, 5974, 5975, 5976, 5977, 5978, 5979, 5994, 5995, 5996, 5997, 6003, 6004, 6005, 6006, 6007, 6008, 6009, 6010, 6011, 6012, 6013, 6014, 6015, 6016, 6017, 6018, 6019, 6020, 6021, 6022, 6023, 6024, 6025, 6026, 6027, 6028, 6029, 6030, 6031, 6032, 6033, 6034, 6035, 6036, 6037, 6038, 6039, 6040, 6041, 6042, 6043, 6044, 6045, 6046, 6047, 6048, 6049, 6050, 6051, 6052, 6053, 6054, 6055, 6056, 6057, 6058, 6059, 6060, 6075, 6076, 6077, 6083, 6084, 6085, 6086, 6087, 6088, 6089, 6090, 6091, 6092, 6093, 6094, 6095, 6096, 6097, 6098, 6099, 6100, 6101, 6102, 6103, 6104, 6105, 6106, 6107, 6108, 6109, 6110, 6111, 6112, 6113, 6114, 6115, 6116, 6117, 6118, 6119, 6120, 6121, 6122, 6123, 6124, 6125, 6126, 6127, 6128, 6129, 6130, 6131, 6132, 6133, 6134, 6135, 6136, 6137, 6138, 6139, 6140, 6141, 6142, 6156, 6157, 6163, 6164, 6165, 6166, 6167, 6168, 6169, 6170, 6171, 6172, 6173, 6174, 6175, 6176, 6177, 6178, 6179, 6180, 6181, 6182, 6183, 6184, 6185, 6186, 6187, 6188, 6189, 6190, 6191, 6192, 6193, 6194, 6195, 6196, 6197, 6198, 6199, 6200, 6201, 6202, 6203, 6204, 6205, 6206, 6207, 6208, 6209, 6210, 6211, 6212, 6213, 6214, 6215, 6216, 6217, 6218, 6219, 6220, 6221, 6222, 6223, 6224, 6237, 6243, 6244, 6245, 6246, 6247, 6248, 6249, 6250, 6251, 6252, 6253, 6254, 6255, 6256, 6257, 6258, 6259, 6260, 6261, 6262, 6263, 6264, 6265, 6266, 6267, 6268, 6269, 6270, 6271, 6272, 6273, 6274, 6275, 6276, 6277, 6278, 6279, 6280, 6281, 6282, 6283, 6284, 6285, 6286, 6287, 6288, 6289, 6290, 6291, 6292, 6293, 6294, 6295, 6296, 6297, 6298, 6299, 6300, 6301, 6302, 6303, 6304, 6305, 6306, 6323, 6324, 6325, 6326, 6327, 6328, 6329, 6330, 6331, 6332, 6333, 6334, 6335, 6336, 6337, 6338, 6339, 6340, 6341, 6342, 6343, 6344, 6345, 6346, 6347, 6348, 6349, 6350, 6351, 6352, 6353, 6354, 6355, 6356, 6357, 6358, 6359, 6360, 6361, 6362, 6363, 6364, 6365, 6366, 6367, 6368, 6369, 6370, 6371, 6372, 6373, 6374, 6375, 6376, 6377, 6378, 6379, 6380, 6381, 6382, 6383, 6384, 6385, 6386, 6387, 6388, 6403, 6404, 6405, 6406, 6407, 6408, 6409, 6410, 6411, 6412, 6413, 6414, 6415, 6416, 6417, 6418, 6419, 6420, 6421, 6422, 6423, 6424, 6425, 6426, 6427, 6428, 6429, 6430, 6431, 6432, 6433, 6434, 6435, 6436, 6437, 6438, 6439, 6440, 6441, 6442, 6443, 6444, 6445, 6446, 6447, 6448, 6449, 6450, 6451, 6452, 6453, 6454, 6455, 6456, 6457, 6458, 6459, 6460, 6461, 6462, 6463, 6464, 6465, 6466, 6467, 6468, 6469, 6483, 6484, 6485, 6486, 6487, 6488, 6489, 6490, 6491, 6492, 6493, 6494, 6495, 6496, 6497, 6498, 6499, 6500, 6501, 6502, 6503, 6504, 6505, 6506, 6507, 6508, 6509, 6510, 6511, 6512, 6513, 6514, 6515, 6516, 6517, 6518, 6519, 6520, 6521, 6522, 6523, 6524, 6525, 6526, 6527, 6528, 6529, 6530, 6531, 6532, 6533, 6534, 6535, 6536, 6537, 6538, 6539, 6540, 6541, 6542, 6543, 6544, 6545, 6546, 6547, 6548, 6549, 6550, 6551]\n",
      "val ids:  []\n",
      "test ids:  [0, 1, 2, 3, 4, 5, 6, 7, 8, 78, 79, 80, 81, 82, 83, 84, 85, 86, 87, 88, 89, 90, 158, 159, 160, 161, 162, 163, 164, 165, 166, 167, 168, 169, 170, 171, 238, 239, 240, 241, 242, 243, 244, 245, 246, 247, 248, 249, 250, 251, 252, 253, 318, 319, 320, 321, 322, 324, 325, 326, 327, 328, 329, 330, 331, 332, 333, 334, 335, 398, 399, 400, 401, 402, 405, 406, 407, 408, 409, 410, 411, 412, 413, 414, 415, 416, 417, 478, 479, 480, 481, 482, 486, 487, 488, 489, 490, 491, 492, 493, 494, 495, 496, 497, 498, 499, 558, 559, 560, 561, 562, 567, 568, 569, 570, 571, 572, 573, 574, 575, 576, 577, 578, 579, 580, 638, 639, 640, 641, 642, 648, 649, 650, 651, 652, 653, 654, 655, 656, 657, 658, 659, 660, 661, 662, 718, 719, 720, 721, 722, 729, 730, 731, 732, 733, 734, 735, 736, 737, 738, 739, 740, 741, 742, 743, 744, 798, 799, 800, 801, 802, 810, 811, 812, 813, 814, 815, 816, 817, 818, 819, 820, 821, 822, 823, 824, 825, 826, 878, 879, 880, 881, 882, 892, 893, 894, 895, 896, 897, 898, 899, 900, 901, 902, 903, 904, 905, 906, 907, 908, 958, 959, 960, 961, 962, 974, 975, 976, 977, 978, 979, 980, 981, 982, 983, 984, 985, 986, 987, 988, 989, 1039, 1040, 1041, 1057, 1058, 1059, 1060, 1061, 1062, 1063, 1064, 1065, 1066, 1067, 1068, 1069, 1070, 1071, 1119, 1120, 1121, 1139, 1140, 1141, 1142, 1143, 1144, 1145, 1146, 1147, 1148, 1149, 1150, 1151, 1152, 1153, 1199, 1200, 1201, 1221, 1222, 1223, 1224, 1225, 1226, 1227, 1228, 1229, 1230, 1231, 1232, 1233, 1234, 1235, 1279, 1280, 1281, 1304, 1305, 1306, 1307, 1308, 1309, 1310, 1311, 1312, 1313, 1314, 1315, 1316, 1359, 1360, 1361, 1386, 1387, 1388, 1389, 1390, 1391, 1392, 1393, 1394, 1395, 1396, 1397, 1398, 1439, 1440, 1441, 1469, 1470, 1471, 1472, 1473, 1474, 1475, 1476, 1477, 1478, 1479, 1480, 1519, 1520, 1521, 1551, 1552, 1553, 1554, 1555, 1556, 1557, 1558, 1559, 1560, 1561, 1562, 1599, 1600, 1601, 1633, 1634, 1635, 1636, 1637, 1638, 1639, 1640, 1641, 1642, 1643, 1644, 1679, 1680, 1681, 1716, 1717, 1718, 1719, 1720, 1721, 1722, 1723, 1724, 1725, 1759, 1760, 1761, 1798, 1799, 1800, 1801, 1802, 1803, 1804, 1805, 1806, 1807, 1839, 1840, 1841, 1880, 1881, 1882, 1883, 1884, 1885, 1886, 1887, 1888, 1889, 1919, 1920, 1921, 1963, 1964, 1965, 1966, 1967, 1968, 1969, 1970, 1971, 1999, 2000, 2001, 2045, 2046, 2047, 2048, 2049, 2050, 2051, 2052, 2053, 2079, 2080, 2081, 2127, 2128, 2129, 2130, 2131, 2132, 2133, 2134, 2160, 2210, 2211, 2212, 2213, 2214, 2215, 2216, 2240, 2292, 2293, 2294, 2295, 2296, 2297, 2298, 2320, 2375, 2376, 2377, 2378, 2379, 2380, 2400, 2457, 2458, 2459, 2460, 2461, 2462, 2480, 2539, 2540, 2541, 2542, 2543, 2560, 2622, 2623, 2624, 2625, 2640, 2704, 2705, 2706, 2707, 2720, 2786, 2787, 2788, 2789, 2800, 2869, 2870, 2871, 2880, 2951, 2952, 2960, 3033, 3034, 3040, 3116, 3120, 3198, 3200, 3280, 3360, 3362, 3440, 3444, 3520, 3526, 3527, 3600, 3608, 3609, 3680, 3689, 3690, 3691, 3760, 3771, 3772, 3773, 3774, 3840, 3853, 3854, 3855, 3856, 3920, 3935, 3936, 3937, 3938, 4000, 4017, 4018, 4019, 4020, 4021, 4080, 4098, 4099, 4100, 4101, 4102, 4103, 4160, 4180, 4181, 4182, 4183, 4184, 4185, 4240, 4262, 4263, 4264, 4265, 4266, 4267, 4268, 4320, 4344, 4345, 4346, 4347, 4348, 4349, 4350, 4400, 4426, 4427, 4428, 4429, 4430, 4431, 4432, 4433, 4479, 4480, 4481, 4507, 4508, 4509, 4510, 4511, 4512, 4513, 4514, 4515, 4559, 4560, 4561, 4589, 4590, 4591, 4592, 4593, 4594, 4595, 4596, 4597, 4639, 4640, 4641, 4671, 4672, 4673, 4674, 4675, 4676, 4677, 4678, 4679, 4680, 4719, 4720, 4721, 4753, 4754, 4755, 4756, 4757, 4758, 4759, 4760, 4761, 4762, 4799, 4800, 4801, 4835, 4836, 4837, 4838, 4839, 4840, 4841, 4842, 4843, 4844, 4879, 4880, 4881, 4916, 4917, 4918, 4919, 4920, 4921, 4922, 4923, 4924, 4925, 4926, 4927, 4959, 4960, 4961, 4998, 4999, 5000, 5001, 5002, 5003, 5004, 5005, 5006, 5007, 5008, 5009, 5039, 5040, 5041, 5080, 5081, 5082, 5083, 5084, 5085, 5086, 5087, 5088, 5089, 5090, 5091, 5119, 5120, 5121, 5162, 5163, 5164, 5165, 5166, 5167, 5168, 5169, 5170, 5171, 5172, 5173, 5174, 5199, 5200, 5201, 5244, 5245, 5246, 5247, 5248, 5249, 5250, 5251, 5252, 5253, 5254, 5255, 5256, 5279, 5280, 5281, 5325, 5326, 5327, 5328, 5329, 5330, 5331, 5332, 5333, 5334, 5335, 5336, 5337, 5338, 5339, 5359, 5360, 5361, 5407, 5408, 5409, 5410, 5411, 5412, 5413, 5414, 5415, 5416, 5417, 5418, 5419, 5420, 5421, 5439, 5440, 5441, 5489, 5490, 5491, 5492, 5493, 5494, 5495, 5496, 5497, 5498, 5499, 5500, 5501, 5502, 5503, 5519, 5520, 5521, 5571, 5572, 5573, 5574, 5575, 5576, 5577, 5578, 5579, 5580, 5581, 5582, 5583, 5584, 5585, 5586, 5598, 5599, 5600, 5601, 5602, 5652, 5653, 5654, 5655, 5656, 5657, 5658, 5659, 5660, 5661, 5662, 5663, 5664, 5665, 5666, 5667, 5668, 5678, 5679, 5680, 5681, 5682, 5734, 5735, 5736, 5737, 5738, 5739, 5740, 5741, 5742, 5743, 5744, 5745, 5746, 5747, 5748, 5749, 5750, 5758, 5759, 5760, 5761, 5762, 5816, 5817, 5818, 5819, 5820, 5821, 5822, 5823, 5824, 5825, 5826, 5827, 5828, 5829, 5830, 5831, 5838, 5839, 5840, 5841, 5842, 5898, 5899, 5900, 5901, 5902, 5903, 5904, 5905, 5906, 5907, 5908, 5909, 5910, 5911, 5912, 5918, 5919, 5920, 5921, 5922, 5980, 5981, 5982, 5983, 5984, 5985, 5986, 5987, 5988, 5989, 5990, 5991, 5992, 5993, 5998, 5999, 6000, 6001, 6002, 6061, 6062, 6063, 6064, 6065, 6066, 6067, 6068, 6069, 6070, 6071, 6072, 6073, 6074, 6078, 6079, 6080, 6081, 6082, 6143, 6144, 6145, 6146, 6147, 6148, 6149, 6150, 6151, 6152, 6153, 6154, 6155, 6158, 6159, 6160, 6161, 6162, 6225, 6226, 6227, 6228, 6229, 6230, 6231, 6232, 6233, 6234, 6235, 6236, 6238, 6239, 6240, 6241, 6242, 6307, 6308, 6309, 6310, 6311, 6312, 6313, 6314, 6315, 6316, 6317, 6318, 6319, 6320, 6321, 6322, 6389, 6390, 6391, 6392, 6393, 6394, 6395, 6396, 6397, 6398, 6399, 6400, 6401, 6402, 6470, 6471, 6472, 6473, 6474, 6475, 6476, 6477, 6478, 6479, 6480, 6481, 6482, 6552, 6553, 6554, 6555, 6556, 6557, 6558, 6559, 6560]\n",
      "CPU times: user 215 ms, sys: 19.4 ms, total: 235 ms\n",
      "Wall time: 234 ms\n"
     ]
    }
   ],
   "source": [
    "%%time\n",
    "n_total = len(simulation.dataframe)\n",
    "n_train = len(simulation.dataframe[simulation.dataframe.type_of == \"train\"])\n",
    "n_val = len(simulation.dataframe[simulation.dataframe.type_of == \"val\"])\n",
    "n_test = len(simulation.dataframe[simulation.dataframe.type_of == \"test\"])\n",
    "n_train_hamiltonians = len(simulation.train_ids)\n",
    "n_val_hamiltonians = len(simulation.val_ids)\n",
    "n_test_hamiltonians = len(simulation.test_ids)\n",
    "n_total_hamiltonians = n_train_hamiltonians + n_val_hamiltonians + n_test_hamiltonians\n",
    "\n",
    "print(\"% train: \", n_train/n_total)\n",
    "print(\"% val: \",  n_val/n_total)\n",
    "print(\"% test: \", n_test/n_total)\n",
    "print(\"% train + val + test: \", (n_train+n_val+n_test)/n_total)\n",
    "print(\"\\n\")\n",
    "print(\"number of train hamiltonians: \", n_train_hamiltonians)\n",
    "print(\"number of val hamiltonians: \", n_val_hamiltonians)\n",
    "print(\"number of test hamiltonians: \", n_test_hamiltonians)\n",
    "print(\"total number of hamiltonians: \", n_total_hamiltonians)\n",
    "print(\"\\n\")\n",
    "print(\"train ids: \", simulation.train_ids)\n",
    "print(\"val ids: \", simulation.val_ids)\n",
    "print(\"test ids: \", simulation.test_ids)"
   ]
  },
  {
   "cell_type": "markdown",
   "metadata": {
    "papermill": {
     "duration": 0.021081,
     "end_time": "2020-07-18T06:08:45.342130",
     "exception": false,
     "start_time": "2020-07-18T06:08:45.321049",
     "status": "completed"
    },
    "tags": []
   },
   "source": [
    "## Running a simulation"
   ]
  },
  {
   "cell_type": "code",
   "execution_count": 27,
   "metadata": {
    "execution": {
     "iopub.execute_input": "2020-07-18T06:08:45.387990Z",
     "iopub.status.busy": "2020-07-18T06:08:45.387663Z",
     "iopub.status.idle": "2020-07-18T06:11:47.612557Z",
     "shell.execute_reply": "2020-07-18T06:11:47.612228Z"
    },
    "papermill": {
     "duration": 182.248106,
     "end_time": "2020-07-18T06:11:47.612609",
     "exception": false,
     "start_time": "2020-07-18T06:08:45.364503",
     "status": "completed"
    },
    "tags": []
   },
   "outputs": [
    {
     "name": "stderr",
     "output_type": "stream",
     "text": [
      "\r",
      "running experiments:   0%|          | 0/100 [00:00<?, ?it/s]"
     ]
    },
    {
     "name": "stdout",
     "output_type": "stream",
     "text": [
      "Simulation mode:  dst\n"
     ]
    },
    {
     "name": "stderr",
     "output_type": "stream",
     "text": [
      "\r",
      "running experiments:   1%|          | 1/100 [00:01<02:55,  1.77s/it]"
     ]
    },
    {
     "name": "stderr",
     "output_type": "stream",
     "text": [
      "\r",
      "running experiments:   2%|▏         | 2/100 [00:03<02:55,  1.79s/it]"
     ]
    },
    {
     "name": "stderr",
     "output_type": "stream",
     "text": [
      "\r",
      "running experiments:   3%|▎         | 3/100 [00:05<02:54,  1.80s/it]"
     ]
    },
    {
     "name": "stderr",
     "output_type": "stream",
     "text": [
      "\r",
      "running experiments:   4%|▍         | 4/100 [00:07<02:52,  1.79s/it]"
     ]
    },
    {
     "name": "stderr",
     "output_type": "stream",
     "text": [
      "\r",
      "running experiments:   5%|▌         | 5/100 [00:08<02:49,  1.78s/it]"
     ]
    },
    {
     "name": "stderr",
     "output_type": "stream",
     "text": [
      "\r",
      "running experiments:   6%|▌         | 6/100 [00:10<02:51,  1.82s/it]"
     ]
    },
    {
     "name": "stderr",
     "output_type": "stream",
     "text": [
      "\r",
      "running experiments:   7%|▋         | 7/100 [00:12<02:48,  1.81s/it]"
     ]
    },
    {
     "name": "stderr",
     "output_type": "stream",
     "text": [
      "\r",
      "running experiments:   8%|▊         | 8/100 [00:14<02:51,  1.86s/it]"
     ]
    },
    {
     "name": "stderr",
     "output_type": "stream",
     "text": [
      "\r",
      "running experiments:   9%|▉         | 9/100 [00:16<02:49,  1.86s/it]"
     ]
    },
    {
     "name": "stderr",
     "output_type": "stream",
     "text": [
      "\r",
      "running experiments:  10%|█         | 10/100 [00:18<02:48,  1.87s/it]"
     ]
    },
    {
     "name": "stderr",
     "output_type": "stream",
     "text": [
      "\r",
      "running experiments:  11%|█         | 11/100 [00:20<02:48,  1.90s/it]"
     ]
    },
    {
     "name": "stderr",
     "output_type": "stream",
     "text": [
      "\r",
      "running experiments:  12%|█▏        | 12/100 [00:22<02:47,  1.90s/it]"
     ]
    },
    {
     "name": "stderr",
     "output_type": "stream",
     "text": [
      "\r",
      "running experiments:  13%|█▎        | 13/100 [00:24<02:45,  1.90s/it]"
     ]
    },
    {
     "name": "stderr",
     "output_type": "stream",
     "text": [
      "\r",
      "running experiments:  14%|█▍        | 14/100 [00:25<02:41,  1.87s/it]"
     ]
    },
    {
     "name": "stderr",
     "output_type": "stream",
     "text": [
      "\r",
      "running experiments:  15%|█▌        | 15/100 [00:27<02:40,  1.89s/it]"
     ]
    },
    {
     "name": "stderr",
     "output_type": "stream",
     "text": [
      "\r",
      "running experiments:  16%|█▌        | 16/100 [00:29<02:34,  1.84s/it]"
     ]
    },
    {
     "name": "stderr",
     "output_type": "stream",
     "text": [
      "\r",
      "running experiments:  17%|█▋        | 17/100 [00:31<02:30,  1.81s/it]"
     ]
    },
    {
     "name": "stderr",
     "output_type": "stream",
     "text": [
      "\r",
      "running experiments:  18%|█▊        | 18/100 [00:33<02:26,  1.79s/it]"
     ]
    },
    {
     "name": "stderr",
     "output_type": "stream",
     "text": [
      "\r",
      "running experiments:  19%|█▉        | 19/100 [00:34<02:26,  1.81s/it]"
     ]
    },
    {
     "name": "stderr",
     "output_type": "stream",
     "text": [
      "\r",
      "running experiments:  20%|██        | 20/100 [00:36<02:24,  1.80s/it]"
     ]
    },
    {
     "name": "stderr",
     "output_type": "stream",
     "text": [
      "\r",
      "running experiments:  21%|██        | 21/100 [00:38<02:25,  1.84s/it]"
     ]
    },
    {
     "name": "stderr",
     "output_type": "stream",
     "text": [
      "\r",
      "running experiments:  22%|██▏       | 22/100 [00:40<02:23,  1.84s/it]"
     ]
    },
    {
     "name": "stderr",
     "output_type": "stream",
     "text": [
      "\r",
      "running experiments:  23%|██▎       | 23/100 [00:42<02:20,  1.82s/it]"
     ]
    },
    {
     "name": "stderr",
     "output_type": "stream",
     "text": [
      "\r",
      "running experiments:  24%|██▍       | 24/100 [00:44<02:18,  1.82s/it]"
     ]
    },
    {
     "name": "stderr",
     "output_type": "stream",
     "text": [
      "\r",
      "running experiments:  25%|██▌       | 25/100 [00:45<02:15,  1.81s/it]"
     ]
    },
    {
     "name": "stderr",
     "output_type": "stream",
     "text": [
      "\r",
      "running experiments:  26%|██▌       | 26/100 [00:47<02:13,  1.81s/it]"
     ]
    },
    {
     "name": "stderr",
     "output_type": "stream",
     "text": [
      "\r",
      "running experiments:  27%|██▋       | 27/100 [00:49<02:11,  1.81s/it]"
     ]
    },
    {
     "name": "stderr",
     "output_type": "stream",
     "text": [
      "\r",
      "running experiments:  28%|██▊       | 28/100 [00:51<02:09,  1.80s/it]"
     ]
    },
    {
     "name": "stderr",
     "output_type": "stream",
     "text": [
      "\r",
      "running experiments:  29%|██▉       | 29/100 [00:53<02:06,  1.78s/it]"
     ]
    },
    {
     "name": "stderr",
     "output_type": "stream",
     "text": [
      "\r",
      "running experiments:  30%|███       | 30/100 [00:54<02:06,  1.81s/it]"
     ]
    },
    {
     "name": "stderr",
     "output_type": "stream",
     "text": [
      "\r",
      "running experiments:  31%|███       | 31/100 [00:56<02:04,  1.81s/it]"
     ]
    },
    {
     "name": "stderr",
     "output_type": "stream",
     "text": [
      "\r",
      "running experiments:  32%|███▏      | 32/100 [00:58<02:02,  1.80s/it]"
     ]
    },
    {
     "name": "stderr",
     "output_type": "stream",
     "text": [
      "\r",
      "running experiments:  33%|███▎      | 33/100 [01:00<02:02,  1.83s/it]"
     ]
    },
    {
     "name": "stderr",
     "output_type": "stream",
     "text": [
      "\r",
      "running experiments:  34%|███▍      | 34/100 [01:02<02:02,  1.85s/it]"
     ]
    },
    {
     "name": "stderr",
     "output_type": "stream",
     "text": [
      "\r",
      "running experiments:  35%|███▌      | 35/100 [01:04<02:00,  1.85s/it]"
     ]
    },
    {
     "name": "stderr",
     "output_type": "stream",
     "text": [
      "\r",
      "running experiments:  36%|███▌      | 36/100 [01:05<01:57,  1.84s/it]"
     ]
    },
    {
     "name": "stderr",
     "output_type": "stream",
     "text": [
      "\r",
      "running experiments:  37%|███▋      | 37/100 [01:07<01:54,  1.82s/it]"
     ]
    },
    {
     "name": "stderr",
     "output_type": "stream",
     "text": [
      "\r",
      "running experiments:  38%|███▊      | 38/100 [01:09<01:52,  1.82s/it]"
     ]
    },
    {
     "name": "stderr",
     "output_type": "stream",
     "text": [
      "\r",
      "running experiments:  39%|███▉      | 39/100 [01:11<01:49,  1.80s/it]"
     ]
    },
    {
     "name": "stderr",
     "output_type": "stream",
     "text": [
      "\r",
      "running experiments:  40%|████      | 40/100 [01:13<01:48,  1.81s/it]"
     ]
    },
    {
     "name": "stderr",
     "output_type": "stream",
     "text": [
      "\r",
      "running experiments:  41%|████      | 41/100 [01:14<01:47,  1.82s/it]"
     ]
    },
    {
     "name": "stderr",
     "output_type": "stream",
     "text": [
      "\r",
      "running experiments:  42%|████▏     | 42/100 [01:16<01:44,  1.81s/it]"
     ]
    },
    {
     "name": "stderr",
     "output_type": "stream",
     "text": [
      "\r",
      "running experiments:  43%|████▎     | 43/100 [01:18<01:43,  1.82s/it]"
     ]
    },
    {
     "name": "stderr",
     "output_type": "stream",
     "text": [
      "\r",
      "running experiments:  44%|████▍     | 44/100 [01:20<01:41,  1.81s/it]"
     ]
    },
    {
     "name": "stderr",
     "output_type": "stream",
     "text": [
      "\r",
      "running experiments:  45%|████▌     | 45/100 [01:22<01:43,  1.87s/it]"
     ]
    },
    {
     "name": "stderr",
     "output_type": "stream",
     "text": [
      "\r",
      "running experiments:  46%|████▌     | 46/100 [01:24<01:39,  1.84s/it]"
     ]
    },
    {
     "name": "stderr",
     "output_type": "stream",
     "text": [
      "\r",
      "running experiments:  47%|████▋     | 47/100 [01:26<01:37,  1.84s/it]"
     ]
    },
    {
     "name": "stderr",
     "output_type": "stream",
     "text": [
      "\r",
      "running experiments:  48%|████▊     | 48/100 [01:27<01:35,  1.83s/it]"
     ]
    },
    {
     "name": "stderr",
     "output_type": "stream",
     "text": [
      "\r",
      "running experiments:  49%|████▉     | 49/100 [01:29<01:31,  1.80s/it]"
     ]
    },
    {
     "name": "stderr",
     "output_type": "stream",
     "text": [
      "\r",
      "running experiments:  50%|█████     | 50/100 [01:31<01:29,  1.79s/it]"
     ]
    },
    {
     "name": "stderr",
     "output_type": "stream",
     "text": [
      "\r",
      "running experiments:  51%|█████     | 51/100 [01:33<01:28,  1.80s/it]"
     ]
    },
    {
     "name": "stderr",
     "output_type": "stream",
     "text": [
      "\r",
      "running experiments:  52%|█████▏    | 52/100 [01:34<01:26,  1.80s/it]"
     ]
    },
    {
     "name": "stderr",
     "output_type": "stream",
     "text": [
      "\r",
      "running experiments:  53%|█████▎    | 53/100 [01:36<01:24,  1.79s/it]"
     ]
    },
    {
     "name": "stderr",
     "output_type": "stream",
     "text": [
      "\r",
      "running experiments:  54%|█████▍    | 54/100 [01:38<01:24,  1.84s/it]"
     ]
    },
    {
     "name": "stderr",
     "output_type": "stream",
     "text": [
      "\r",
      "running experiments:  55%|█████▌    | 55/100 [01:40<01:23,  1.86s/it]"
     ]
    },
    {
     "name": "stderr",
     "output_type": "stream",
     "text": [
      "\r",
      "running experiments:  56%|█████▌    | 56/100 [01:42<01:21,  1.85s/it]"
     ]
    },
    {
     "name": "stderr",
     "output_type": "stream",
     "text": [
      "\r",
      "running experiments:  57%|█████▋    | 57/100 [01:44<01:19,  1.85s/it]"
     ]
    },
    {
     "name": "stderr",
     "output_type": "stream",
     "text": [
      "\r",
      "running experiments:  58%|█████▊    | 58/100 [01:46<01:16,  1.83s/it]"
     ]
    },
    {
     "name": "stderr",
     "output_type": "stream",
     "text": [
      "\r",
      "running experiments:  59%|█████▉    | 59/100 [01:47<01:14,  1.81s/it]"
     ]
    },
    {
     "name": "stderr",
     "output_type": "stream",
     "text": [
      "\r",
      "running experiments:  60%|██████    | 60/100 [01:49<01:12,  1.80s/it]"
     ]
    },
    {
     "name": "stderr",
     "output_type": "stream",
     "text": [
      "\r",
      "running experiments:  61%|██████    | 61/100 [01:51<01:11,  1.83s/it]"
     ]
    },
    {
     "name": "stderr",
     "output_type": "stream",
     "text": [
      "\r",
      "running experiments:  62%|██████▏   | 62/100 [01:53<01:09,  1.82s/it]"
     ]
    },
    {
     "name": "stderr",
     "output_type": "stream",
     "text": [
      "\r",
      "running experiments:  63%|██████▎   | 63/100 [01:55<01:06,  1.81s/it]"
     ]
    },
    {
     "name": "stderr",
     "output_type": "stream",
     "text": [
      "\r",
      "running experiments:  64%|██████▍   | 64/100 [01:56<01:05,  1.83s/it]"
     ]
    },
    {
     "name": "stderr",
     "output_type": "stream",
     "text": [
      "\r",
      "running experiments:  65%|██████▌   | 65/100 [01:58<01:04,  1.83s/it]"
     ]
    },
    {
     "name": "stderr",
     "output_type": "stream",
     "text": [
      "\r",
      "running experiments:  66%|██████▌   | 66/100 [02:00<01:02,  1.83s/it]"
     ]
    },
    {
     "name": "stderr",
     "output_type": "stream",
     "text": [
      "\r",
      "running experiments:  67%|██████▋   | 67/100 [02:02<01:01,  1.85s/it]"
     ]
    },
    {
     "name": "stderr",
     "output_type": "stream",
     "text": [
      "\r",
      "running experiments:  68%|██████▊   | 68/100 [02:04<00:59,  1.87s/it]"
     ]
    },
    {
     "name": "stderr",
     "output_type": "stream",
     "text": [
      "\r",
      "running experiments:  69%|██████▉   | 69/100 [02:06<00:56,  1.83s/it]"
     ]
    },
    {
     "name": "stderr",
     "output_type": "stream",
     "text": [
      "\r",
      "running experiments:  70%|███████   | 70/100 [02:07<00:54,  1.82s/it]"
     ]
    },
    {
     "name": "stderr",
     "output_type": "stream",
     "text": [
      "\r",
      "running experiments:  71%|███████   | 71/100 [02:09<00:52,  1.81s/it]"
     ]
    },
    {
     "name": "stderr",
     "output_type": "stream",
     "text": [
      "\r",
      "running experiments:  72%|███████▏  | 72/100 [02:11<00:50,  1.80s/it]"
     ]
    },
    {
     "name": "stderr",
     "output_type": "stream",
     "text": [
      "\r",
      "running experiments:  73%|███████▎  | 73/100 [02:13<00:48,  1.81s/it]"
     ]
    },
    {
     "name": "stderr",
     "output_type": "stream",
     "text": [
      "\r",
      "running experiments:  74%|███████▍  | 74/100 [02:15<00:46,  1.79s/it]"
     ]
    },
    {
     "name": "stderr",
     "output_type": "stream",
     "text": [
      "\r",
      "running experiments:  75%|███████▌  | 75/100 [02:16<00:45,  1.81s/it]"
     ]
    },
    {
     "name": "stderr",
     "output_type": "stream",
     "text": [
      "\r",
      "running experiments:  76%|███████▌  | 76/100 [02:18<00:43,  1.81s/it]"
     ]
    },
    {
     "name": "stderr",
     "output_type": "stream",
     "text": [
      "\r",
      "running experiments:  77%|███████▋  | 77/100 [02:20<00:41,  1.83s/it]"
     ]
    },
    {
     "name": "stderr",
     "output_type": "stream",
     "text": [
      "\r",
      "running experiments:  78%|███████▊  | 78/100 [02:22<00:40,  1.84s/it]"
     ]
    },
    {
     "name": "stderr",
     "output_type": "stream",
     "text": [
      "\r",
      "running experiments:  79%|███████▉  | 79/100 [02:24<00:38,  1.83s/it]"
     ]
    },
    {
     "name": "stderr",
     "output_type": "stream",
     "text": [
      "\r",
      "running experiments:  80%|████████  | 80/100 [02:26<00:36,  1.83s/it]"
     ]
    },
    {
     "name": "stderr",
     "output_type": "stream",
     "text": [
      "\r",
      "running experiments:  81%|████████  | 81/100 [02:27<00:34,  1.79s/it]"
     ]
    },
    {
     "name": "stderr",
     "output_type": "stream",
     "text": [
      "\r",
      "running experiments:  82%|████████▏ | 82/100 [02:29<00:32,  1.80s/it]"
     ]
    },
    {
     "name": "stderr",
     "output_type": "stream",
     "text": [
      "\r",
      "running experiments:  83%|████████▎ | 83/100 [02:31<00:30,  1.80s/it]"
     ]
    },
    {
     "name": "stderr",
     "output_type": "stream",
     "text": [
      "\r",
      "running experiments:  84%|████████▍ | 84/100 [02:33<00:28,  1.77s/it]"
     ]
    },
    {
     "name": "stderr",
     "output_type": "stream",
     "text": [
      "\r",
      "running experiments:  85%|████████▌ | 85/100 [02:35<00:26,  1.80s/it]"
     ]
    },
    {
     "name": "stderr",
     "output_type": "stream",
     "text": [
      "\r",
      "running experiments:  86%|████████▌ | 86/100 [02:36<00:24,  1.78s/it]"
     ]
    },
    {
     "name": "stderr",
     "output_type": "stream",
     "text": [
      "\r",
      "running experiments:  87%|████████▋ | 87/100 [02:38<00:23,  1.79s/it]"
     ]
    },
    {
     "name": "stderr",
     "output_type": "stream",
     "text": [
      "\r",
      "running experiments:  88%|████████▊ | 88/100 [02:40<00:21,  1.76s/it]"
     ]
    },
    {
     "name": "stderr",
     "output_type": "stream",
     "text": [
      "\r",
      "running experiments:  89%|████████▉ | 89/100 [02:42<00:19,  1.78s/it]"
     ]
    },
    {
     "name": "stderr",
     "output_type": "stream",
     "text": [
      "\r",
      "running experiments:  90%|█████████ | 90/100 [02:43<00:18,  1.81s/it]"
     ]
    },
    {
     "name": "stderr",
     "output_type": "stream",
     "text": [
      "\r",
      "running experiments:  91%|█████████ | 91/100 [02:45<00:16,  1.85s/it]"
     ]
    },
    {
     "name": "stderr",
     "output_type": "stream",
     "text": [
      "\r",
      "running experiments:  92%|█████████▏| 92/100 [02:47<00:14,  1.82s/it]"
     ]
    },
    {
     "name": "stderr",
     "output_type": "stream",
     "text": [
      "\r",
      "running experiments:  93%|█████████▎| 93/100 [02:49<00:12,  1.84s/it]"
     ]
    },
    {
     "name": "stderr",
     "output_type": "stream",
     "text": [
      "\r",
      "running experiments:  94%|█████████▍| 94/100 [02:51<00:10,  1.82s/it]"
     ]
    },
    {
     "name": "stderr",
     "output_type": "stream",
     "text": [
      "\r",
      "running experiments:  95%|█████████▌| 95/100 [02:53<00:08,  1.80s/it]"
     ]
    },
    {
     "name": "stderr",
     "output_type": "stream",
     "text": [
      "\r",
      "running experiments:  96%|█████████▌| 96/100 [02:54<00:07,  1.82s/it]"
     ]
    },
    {
     "name": "stderr",
     "output_type": "stream",
     "text": [
      "\r",
      "running experiments:  97%|█████████▋| 97/100 [02:56<00:05,  1.84s/it]"
     ]
    },
    {
     "name": "stderr",
     "output_type": "stream",
     "text": [
      "\r",
      "running experiments:  98%|█████████▊| 98/100 [02:58<00:03,  1.82s/it]"
     ]
    },
    {
     "name": "stderr",
     "output_type": "stream",
     "text": [
      "\r",
      "running experiments:  99%|█████████▉| 99/100 [03:00<00:01,  1.79s/it]"
     ]
    },
    {
     "name": "stderr",
     "output_type": "stream",
     "text": [
      "\r",
      "running experiments: 100%|██████████| 100/100 [03:02<00:00,  1.83s/it]"
     ]
    },
    {
     "name": "stderr",
     "output_type": "stream",
     "text": [
      "\r",
      "running experiments: 100%|██████████| 100/100 [03:02<00:00,  1.82s/it]"
     ]
    },
    {
     "name": "stdout",
     "output_type": "stream",
     "text": [
      "CPU times: user 3min 1s, sys: 676 ms, total: 3min 2s\n",
      "Wall time: 3min 2s\n"
     ]
    },
    {
     "name": "stderr",
     "output_type": "stream",
     "text": [
      "\n"
     ]
    }
   ],
   "source": [
    "\n",
    "%%time\n",
    "simulation.run_simulation(n_experiments, start_n, fit_params,shuffle_rows, pred_params, random_features, \\\n",
    "                          store_in_lists, save_eigenvector, save_hamiltonian, save_accuracy,\\\n",
    "                          save_models)\n",
    "if simulation.fourier_mode is not None:\n",
    "    simulation.fourier_dataframe.head(10)"
   ]
  },
  {
   "cell_type": "code",
   "execution_count": 28,
   "metadata": {
    "execution": {
     "iopub.execute_input": "2020-07-18T06:11:47.688803Z",
     "iopub.status.busy": "2020-07-18T06:11:47.688488Z",
     "iopub.status.idle": "2020-07-18T06:11:47.713478Z",
     "shell.execute_reply": "2020-07-18T06:11:47.713805Z"
    },
    "papermill": {
     "duration": 0.0652,
     "end_time": "2020-07-18T06:11:47.713873",
     "exception": false,
     "start_time": "2020-07-18T06:11:47.648673",
     "status": "completed"
    },
    "tags": []
   },
   "outputs": [
    {
     "data": {
      "text/html": [
       "<div>\n",
       "<style scoped>\n",
       "    .dataframe tbody tr th:only-of-type {\n",
       "        vertical-align: middle;\n",
       "    }\n",
       "\n",
       "    .dataframe tbody tr th {\n",
       "        vertical-align: top;\n",
       "    }\n",
       "\n",
       "    .dataframe thead th {\n",
       "        text-align: right;\n",
       "    }\n",
       "</style>\n",
       "<table border=\"1\" class=\"dataframe\">\n",
       "  <thead>\n",
       "    <tr style=\"text-align: right;\">\n",
       "      <th></th>\n",
       "      <th>id</th>\n",
       "      <th>path</th>\n",
       "      <th>t1</th>\n",
       "      <th>t2</th>\n",
       "      <th>winding</th>\n",
       "      <th>phase</th>\n",
       "      <th>pred_phase</th>\n",
       "      <th>type_of</th>\n",
       "      <th>feat0</th>\n",
       "      <th>feat1</th>\n",
       "      <th>...</th>\n",
       "      <th>feat90</th>\n",
       "      <th>feat91</th>\n",
       "      <th>feat92</th>\n",
       "      <th>feat93</th>\n",
       "      <th>feat94</th>\n",
       "      <th>feat95</th>\n",
       "      <th>feat96</th>\n",
       "      <th>feat97</th>\n",
       "      <th>feat98</th>\n",
       "      <th>feat99</th>\n",
       "    </tr>\n",
       "  </thead>\n",
       "  <tbody>\n",
       "    <tr>\n",
       "      <th>0</th>\n",
       "      <td>0</td>\n",
       "      <td>H_-2_-2_0.509296.dat</td>\n",
       "      <td>-2.0</td>\n",
       "      <td>-2.0</td>\n",
       "      <td>0.509296</td>\n",
       "      <td>999</td>\n",
       "      <td>666</td>\n",
       "      <td>test</td>\n",
       "      <td>0.100000</td>\n",
       "      <td>0.100000</td>\n",
       "      <td>...</td>\n",
       "      <td>0.100000</td>\n",
       "      <td>0.100000</td>\n",
       "      <td>0.100000</td>\n",
       "      <td>0.100000</td>\n",
       "      <td>0.100000</td>\n",
       "      <td>0.100000</td>\n",
       "      <td>0.100000</td>\n",
       "      <td>0.100000</td>\n",
       "      <td>0.100000</td>\n",
       "      <td>0.100000</td>\n",
       "    </tr>\n",
       "    <tr>\n",
       "      <th>1</th>\n",
       "      <td>0</td>\n",
       "      <td>H_-2_-2_0.509296.dat</td>\n",
       "      <td>-2.0</td>\n",
       "      <td>-2.0</td>\n",
       "      <td>0.509296</td>\n",
       "      <td>999</td>\n",
       "      <td>666</td>\n",
       "      <td>test</td>\n",
       "      <td>0.141421</td>\n",
       "      <td>0.141142</td>\n",
       "      <td>...</td>\n",
       "      <td>0.114412</td>\n",
       "      <td>0.108967</td>\n",
       "      <td>0.123928</td>\n",
       "      <td>0.119406</td>\n",
       "      <td>0.131490</td>\n",
       "      <td>0.127962</td>\n",
       "      <td>0.136978</td>\n",
       "      <td>0.134500</td>\n",
       "      <td>0.140306</td>\n",
       "      <td>0.138916</td>\n",
       "    </tr>\n",
       "    <tr>\n",
       "      <th>2</th>\n",
       "      <td>0</td>\n",
       "      <td>H_-2_-2_0.509296.dat</td>\n",
       "      <td>-2.0</td>\n",
       "      <td>-2.0</td>\n",
       "      <td>0.509296</td>\n",
       "      <td>999</td>\n",
       "      <td>666</td>\n",
       "      <td>test</td>\n",
       "      <td>0.141421</td>\n",
       "      <td>0.140306</td>\n",
       "      <td>...</td>\n",
       "      <td>0.043702</td>\n",
       "      <td>0.026500</td>\n",
       "      <td>0.075777</td>\n",
       "      <td>0.060214</td>\n",
       "      <td>0.103092</td>\n",
       "      <td>0.090145</td>\n",
       "      <td>0.123928</td>\n",
       "      <td>0.114412</td>\n",
       "      <td>0.136978</td>\n",
       "      <td>0.131490</td>\n",
       "    </tr>\n",
       "    <tr>\n",
       "      <th>3</th>\n",
       "      <td>0</td>\n",
       "      <td>H_-2_-2_0.509296.dat</td>\n",
       "      <td>-2.0</td>\n",
       "      <td>-2.0</td>\n",
       "      <td>0.509296</td>\n",
       "      <td>999</td>\n",
       "      <td>666</td>\n",
       "      <td>test</td>\n",
       "      <td>-0.100000</td>\n",
       "      <td>0.100000</td>\n",
       "      <td>...</td>\n",
       "      <td>-0.100000</td>\n",
       "      <td>0.100000</td>\n",
       "      <td>-0.100000</td>\n",
       "      <td>0.100000</td>\n",
       "      <td>-0.100000</td>\n",
       "      <td>0.100000</td>\n",
       "      <td>-0.100000</td>\n",
       "      <td>0.100000</td>\n",
       "      <td>-0.100000</td>\n",
       "      <td>0.100000</td>\n",
       "    </tr>\n",
       "    <tr>\n",
       "      <th>4</th>\n",
       "      <td>0</td>\n",
       "      <td>H_-2_-2_0.509296.dat</td>\n",
       "      <td>-2.0</td>\n",
       "      <td>-2.0</td>\n",
       "      <td>0.509296</td>\n",
       "      <td>999</td>\n",
       "      <td>666</td>\n",
       "      <td>test</td>\n",
       "      <td>0.000509</td>\n",
       "      <td>-0.008372</td>\n",
       "      <td>...</td>\n",
       "      <td>-0.082713</td>\n",
       "      <td>-0.089753</td>\n",
       "      <td>-0.067684</td>\n",
       "      <td>-0.075347</td>\n",
       "      <td>-0.051587</td>\n",
       "      <td>-0.059753</td>\n",
       "      <td>-0.034677</td>\n",
       "      <td>-0.043217</td>\n",
       "      <td>-0.017220</td>\n",
       "      <td>-0.026000</td>\n",
       "    </tr>\n",
       "    <tr>\n",
       "      <th>5</th>\n",
       "      <td>0</td>\n",
       "      <td>H_-2_-2_0.509296.dat</td>\n",
       "      <td>-2.0</td>\n",
       "      <td>-2.0</td>\n",
       "      <td>0.509296</td>\n",
       "      <td>999</td>\n",
       "      <td>666</td>\n",
       "      <td>test</td>\n",
       "      <td>0.001204</td>\n",
       "      <td>-0.016530</td>\n",
       "      <td>...</td>\n",
       "      <td>-0.134123</td>\n",
       "      <td>-0.138686</td>\n",
       "      <td>-0.118757</td>\n",
       "      <td>-0.127445</td>\n",
       "      <td>-0.095929</td>\n",
       "      <td>-0.108196</td>\n",
       "      <td>-0.067073</td>\n",
       "      <td>-0.082149</td>\n",
       "      <td>-0.034003</td>\n",
       "      <td>-0.050940</td>\n",
       "    </tr>\n",
       "    <tr>\n",
       "      <th>6</th>\n",
       "      <td>0</td>\n",
       "      <td>H_-2_-2_0.509296.dat</td>\n",
       "      <td>-2.0</td>\n",
       "      <td>-2.0</td>\n",
       "      <td>0.509296</td>\n",
       "      <td>999</td>\n",
       "      <td>666</td>\n",
       "      <td>test</td>\n",
       "      <td>-0.141421</td>\n",
       "      <td>-0.138980</td>\n",
       "      <td>...</td>\n",
       "      <td>0.043375</td>\n",
       "      <td>0.067830</td>\n",
       "      <td>-0.009222</td>\n",
       "      <td>0.017385</td>\n",
       "      <td>-0.060524</td>\n",
       "      <td>-0.035502</td>\n",
       "      <td>-0.103326</td>\n",
       "      <td>-0.083403</td>\n",
       "      <td>-0.131616</td>\n",
       "      <td>-0.119589</td>\n",
       "    </tr>\n",
       "    <tr>\n",
       "      <th>7</th>\n",
       "      <td>0</td>\n",
       "      <td>H_-2_-2_0.509296.dat</td>\n",
       "      <td>-2.0</td>\n",
       "      <td>-2.0</td>\n",
       "      <td>0.509296</td>\n",
       "      <td>999</td>\n",
       "      <td>666</td>\n",
       "      <td>test</td>\n",
       "      <td>-0.000826</td>\n",
       "      <td>0.025688</td>\n",
       "      <td>...</td>\n",
       "      <td>0.134753</td>\n",
       "      <td>0.124324</td>\n",
       "      <td>0.141088</td>\n",
       "      <td>0.140407</td>\n",
       "      <td>0.127608</td>\n",
       "      <td>0.136771</td>\n",
       "      <td>0.096206</td>\n",
       "      <td>0.113925</td>\n",
       "      <td>0.051292</td>\n",
       "      <td>0.075079</td>\n",
       "    </tr>\n",
       "    <tr>\n",
       "      <th>8</th>\n",
       "      <td>0</td>\n",
       "      <td>H_-2_-2_0.509296.dat</td>\n",
       "      <td>-2.0</td>\n",
       "      <td>-2.0</td>\n",
       "      <td>0.509296</td>\n",
       "      <td>999</td>\n",
       "      <td>666</td>\n",
       "      <td>test</td>\n",
       "      <td>0.141417</td>\n",
       "      <td>0.136684</td>\n",
       "      <td>...</td>\n",
       "      <td>-0.115093</td>\n",
       "      <td>-0.131915</td>\n",
       "      <td>-0.061266</td>\n",
       "      <td>-0.091040</td>\n",
       "      <td>0.007717</td>\n",
       "      <td>-0.027643</td>\n",
       "      <td>0.074791</td>\n",
       "      <td>0.042592</td>\n",
       "      <td>0.123363</td>\n",
       "      <td>0.102291</td>\n",
       "    </tr>\n",
       "    <tr>\n",
       "      <th>9</th>\n",
       "      <td>0</td>\n",
       "      <td>H_-2_-2_0.509296.dat</td>\n",
       "      <td>-2.0</td>\n",
       "      <td>-2.0</td>\n",
       "      <td>0.509296</td>\n",
       "      <td>999</td>\n",
       "      <td>666</td>\n",
       "      <td>test</td>\n",
       "      <td>0.001302</td>\n",
       "      <td>0.036430</td>\n",
       "      <td>...</td>\n",
       "      <td>0.082068</td>\n",
       "      <td>0.050848</td>\n",
       "      <td>0.127402</td>\n",
       "      <td>0.108132</td>\n",
       "      <td>0.141218</td>\n",
       "      <td>0.138667</td>\n",
       "      <td>0.120099</td>\n",
       "      <td>0.134896</td>\n",
       "      <td>0.069268</td>\n",
       "      <td>0.097755</td>\n",
       "    </tr>\n",
       "  </tbody>\n",
       "</table>\n",
       "<p>10 rows × 108 columns</p>\n",
       "</div>"
      ],
      "text/plain": [
       "   id                  path   t1   t2   winding  phase  pred_phase type_of  \\\n",
       "0   0  H_-2_-2_0.509296.dat -2.0 -2.0  0.509296    999         666    test   \n",
       "1   0  H_-2_-2_0.509296.dat -2.0 -2.0  0.509296    999         666    test   \n",
       "2   0  H_-2_-2_0.509296.dat -2.0 -2.0  0.509296    999         666    test   \n",
       "3   0  H_-2_-2_0.509296.dat -2.0 -2.0  0.509296    999         666    test   \n",
       "4   0  H_-2_-2_0.509296.dat -2.0 -2.0  0.509296    999         666    test   \n",
       "5   0  H_-2_-2_0.509296.dat -2.0 -2.0  0.509296    999         666    test   \n",
       "6   0  H_-2_-2_0.509296.dat -2.0 -2.0  0.509296    999         666    test   \n",
       "7   0  H_-2_-2_0.509296.dat -2.0 -2.0  0.509296    999         666    test   \n",
       "8   0  H_-2_-2_0.509296.dat -2.0 -2.0  0.509296    999         666    test   \n",
       "9   0  H_-2_-2_0.509296.dat -2.0 -2.0  0.509296    999         666    test   \n",
       "\n",
       "      feat0     feat1  ...    feat90    feat91    feat92    feat93    feat94  \\\n",
       "0  0.100000  0.100000  ...  0.100000  0.100000  0.100000  0.100000  0.100000   \n",
       "1  0.141421  0.141142  ...  0.114412  0.108967  0.123928  0.119406  0.131490   \n",
       "2  0.141421  0.140306  ...  0.043702  0.026500  0.075777  0.060214  0.103092   \n",
       "3 -0.100000  0.100000  ... -0.100000  0.100000 -0.100000  0.100000 -0.100000   \n",
       "4  0.000509 -0.008372  ... -0.082713 -0.089753 -0.067684 -0.075347 -0.051587   \n",
       "5  0.001204 -0.016530  ... -0.134123 -0.138686 -0.118757 -0.127445 -0.095929   \n",
       "6 -0.141421 -0.138980  ...  0.043375  0.067830 -0.009222  0.017385 -0.060524   \n",
       "7 -0.000826  0.025688  ...  0.134753  0.124324  0.141088  0.140407  0.127608   \n",
       "8  0.141417  0.136684  ... -0.115093 -0.131915 -0.061266 -0.091040  0.007717   \n",
       "9  0.001302  0.036430  ...  0.082068  0.050848  0.127402  0.108132  0.141218   \n",
       "\n",
       "     feat95    feat96    feat97    feat98    feat99  \n",
       "0  0.100000  0.100000  0.100000  0.100000  0.100000  \n",
       "1  0.127962  0.136978  0.134500  0.140306  0.138916  \n",
       "2  0.090145  0.123928  0.114412  0.136978  0.131490  \n",
       "3  0.100000 -0.100000  0.100000 -0.100000  0.100000  \n",
       "4 -0.059753 -0.034677 -0.043217 -0.017220 -0.026000  \n",
       "5 -0.108196 -0.067073 -0.082149 -0.034003 -0.050940  \n",
       "6 -0.035502 -0.103326 -0.083403 -0.131616 -0.119589  \n",
       "7  0.136771  0.096206  0.113925  0.051292  0.075079  \n",
       "8 -0.027643  0.074791  0.042592  0.123363  0.102291  \n",
       "9  0.138667  0.120099  0.134896  0.069268  0.097755  \n",
       "\n",
       "[10 rows x 108 columns]"
      ]
     },
     "execution_count": 28,
     "metadata": {},
     "output_type": "execute_result"
    }
   ],
   "source": [
    "simulation.dataframe.head(10)"
   ]
  },
  {
   "cell_type": "markdown",
   "metadata": {
    "papermill": {
     "duration": 0.037688,
     "end_time": "2020-07-18T06:11:47.789464",
     "exception": false,
     "start_time": "2020-07-18T06:11:47.751776",
     "status": "completed"
    },
    "tags": []
   },
   "source": [
    "#### Viewing a random sample"
   ]
  },
  {
   "cell_type": "code",
   "execution_count": 29,
   "metadata": {
    "execution": {
     "iopub.execute_input": "2020-07-18T06:11:47.864288Z",
     "iopub.status.busy": "2020-07-18T06:11:47.863791Z",
     "iopub.status.idle": "2020-07-18T06:11:47.891395Z",
     "shell.execute_reply": "2020-07-18T06:11:47.891075Z"
    },
    "papermill": {
     "duration": 0.065375,
     "end_time": "2020-07-18T06:11:47.891446",
     "exception": false,
     "start_time": "2020-07-18T06:11:47.826071",
     "status": "completed"
    },
    "tags": []
   },
   "outputs": [
    {
     "name": "stdout",
     "output_type": "stream",
     "text": [
      "CPU times: user 17.2 ms, sys: 0 ns, total: 17.2 ms\n",
      "Wall time: 17 ms\n"
     ]
    }
   ],
   "source": [
    "%%time\n",
    "if simulation.fourier_mode is not None:\n",
    "    simulation.fourier_dataframe.sample(frac=0.1, replace=False)"
   ]
  },
  {
   "cell_type": "markdown",
   "metadata": {
    "papermill": {
     "duration": 0.036541,
     "end_time": "2020-07-18T06:11:47.964189",
     "exception": false,
     "start_time": "2020-07-18T06:11:47.927648",
     "status": "completed"
    },
    "tags": []
   },
   "source": [
    "#### Checking train/val/test splits again"
   ]
  },
  {
   "cell_type": "code",
   "execution_count": 30,
   "metadata": {
    "execution": {
     "iopub.execute_input": "2020-07-18T06:11:48.041328Z",
     "iopub.status.busy": "2020-07-18T06:11:48.040816Z",
     "iopub.status.idle": "2020-07-18T06:11:48.218980Z",
     "shell.execute_reply": "2020-07-18T06:11:48.219282Z"
    },
    "papermill": {
     "duration": 0.216279,
     "end_time": "2020-07-18T06:11:48.219347",
     "exception": false,
     "start_time": "2020-07-18T06:11:48.003068",
     "status": "completed"
    },
    "tags": []
   },
   "outputs": [
    {
     "name": "stdout",
     "output_type": "stream",
     "text": [
      "% train:  0.08474317939338516\n",
      "% val:  0.7620789513793629\n",
      "% test:  0.15317786922725193\n",
      "% train + val + test:  1.0\n",
      "\n",
      "\n",
      "number of train hamiltonians:  556\n",
      "number of val hamiltonians:  5000\n",
      "number of test hamiltonians:  1005\n",
      "total number of hamiltonians:  6561\n",
      "\n",
      "\n",
      "train ids:  [4402, 1513, 3136, 1910, 5224, 3876, 2678, 1339, 2660, 5114, 1381, 3482, 3448, 3387, 4600, 1122, 1817, 1676, 3743, 152, 3589, 3598, 3857, 1673, 4550, 6543, 4984, 3239, 3415, 5754, 3365, 3015, 3106, 5211, 3594, 2414, 1652, 6017, 2468, 4218, 5011, 56, 4355, 4696, 4908, 4404, 1465, 101, 3011, 3611, 1830, 2517, 5934, 1445, 1629, 2381, 5621, 2487, 2382, 1352, 2348, 1995, 4131, 5204, 2201, 3754, 5066, 1074, 1732, 2655, 5456, 355, 3001, 5438, 2785, 6365, 4422, 4988, 3013, 1285, 3434, 30, 4003, 6031, 5271, 5525, 1540, 2885, 3306, 1443, 2636, 4492, 937, 4224, 5038, 2337, 2986, 1376, 3016, 556, 5558, 3457, 2576, 6004, 5873, 6034, 4454, 3621, 3476, 3996, 1632, 4108, 2735, 2526, 109, 2180, 5212, 2508, 2505, 4646, 4859, 362, 1851, 2569, 834, 2763, 3258, 914, 1546, 1979, 6137, 374, 5859, 1377, 1014, 3513, 1076, 2092, 6386, 6036, 5458, 3047, 126, 2388, 2139, 351, 919, 6251, 4948, 4864, 702, 6156, 3002, 5042, 6047, 106, 3650, 5950, 2316, 6171, 3121, 1947, 3290, 3590, 449, 3787, 933, 4982, 75, 5618, 4652, 5673, 3098, 4379, 71, 3703, 2421, 1385, 5324, 4434, 3126, 993, 2838, 3194, 5535, 1832, 2060, 3202, 2667, 4768, 49, 6123, 3747, 6457, 5396, 2484, 6382, 4290, 1283, 752, 767, 582, 1318, 4992, 2371, 6177, 1695, 852, 185, 4941, 2563, 3632, 5443, 4396, 4407, 5267, 716, 2828, 1658, 6086, 2023, 6501, 3776, 2304, 2974, 207, 443, 3235, 5868, 2724, 1890, 4722, 114, 5397, 5025, 4191, 3607, 2396, 4567, 4582, 6059, 3725, 1453, 5615, 2367, 6324, 4498, 5468, 2908, 1466, 4261, 2168, 5765, 5629, 6523, 1617, 5061, 2575, 1463, 2795, 3830, 4638, 4475, 4643, 6042, 6368, 1111, 875, 2767, 1209, 1464, 5511, 6029, 4436, 1873, 6075, 592, 1168, 3566, 1104, 2485, 5299, 3748, 2064, 1268, 2314, 2350, 5218, 436, 3007, 1327, 3422, 3723, 838, 4617, 3965, 3931, 1586, 2464, 5050, 2970, 4934, 4584, 4013, 3961, 3199, 4179, 3838, 5611, 312, 4771, 6221, 1166, 5345, 271, 1509, 2412, 6200, 3966, 5429, 1005, 1647, 5714, 137, 1370, 1590, 6550, 715, 5556, 4975, 5631, 4936, 3667, 4451, 6186, 3998, 4444, 3618, 745, 6219, 5696, 2752, 1763, 285, 3539, 2657, 4256, 1595, 3643, 6103, 4655, 2979, 1578, 1986, 4438, 2061, 1494, 5853, 2068, 4241, 128, 4823, 5564, 3354, 2515, 952, 3841, 5783, 1409, 5591, 3802, 108, 2832, 4034, 2919, 884, 2856, 5159, 5209, 1822, 6099, 3887, 2716, 5687, 3062, 3638, 376, 29, 2556, 4471, 613, 4167, 2208, 1686, 635, 5236, 1342, 2538, 6021, 6114, 3811, 2002, 665, 2911, 3553, 6011, 2344, 6191, 105, 6261, 5442, 531, 4568, 6443, 2096, 6359, 3560, 3209, 3737, 5812, 2137, 6178, 1092, 6285, 2178, 5234, 3443, 3939, 476, 4200, 6045, 3964, 6267, 4464, 4828, 1113, 6052, 698, 4732, 3497, 121, 2784, 928, 387, 5522, 3930, 4633, 353, 4106, 2606, 1075, 4713, 835, 2359, 173, 1107, 3479, 1587, 4308, 2525, 6495, 5686, 5774, 5289, 6526, 5024, 3610, 1792, 5957, 5553, 2332, 4418, 586, 2842, 2075, 3571, 717, 4411, 4910, 2713, 2419, 3584, 3834, 3694, 3049, 6259, 2217, 1687, 5022, 1404, 3458, 3734, 4449, 3238, 4578, 2119, 2039, 4161, 4397, 2358, 5923, 1929, 6222, 6124, 5952, 3096, 867, 5189, 608, 5806, 4803, 1670, 5403, 2305, 1765, 2104, 2944, 4902, 1402, 3777, 1000, 2814, 4053, 5435, 4114, 3976, 2403, 5540, 136, 377, 1978, 1662, 2106, 6293, 6494, 122, 1100, 5196, 4611, 5559, 3919, 1736, 5764, 4070, 5717, 5314, 843, 4059, 4288, 4033, 3222, 6358, 6214, 3311, 4495, 6125]\n",
      "val ids:  [3089, 5807, 871, 2256, 3658, 2424, 4459, 1813, 3798, 2730, 808, 2222, 5375, 2156, 6447, 1517, 1508, 1571, 1259, 2712, 1132, 3304, 5404, 2629, 5144, 2690, 1739, 454, 1183, 1452, 6273, 2334, 74, 1492, 4862, 2455, 4613, 5449, 5077, 3423, 2614, 1705, 5305, 6518, 1046, 805, 3951, 502, 6338, 4731, 6294, 4193, 372, 2497, 3893, 3146, 4723, 380, 4767, 3722, 1762, 6503, 1537, 5780, 1917, 666, 1860, 365, 756, 4557, 2923, 3576, 1241, 6263, 4419, 6407, 4291, 5620, 2306, 3024, 5137, 3447, 4363, 565, 5596, 6257, 5651, 1932, 5372, 2478, 5724, 5075, 4993, 1908, 590, 2757, 3021, 6128, 3340, 669, 4132, 2831, 4527, 3103, 766, 3921, 41, 3775, 1488, 6044, 6173, 2111, 5942, 5139, 4115, 2091, 5617, 3626, 4093, 6452, 4298, 4583, 5815, 500, 773, 5515, 516, 272, 4954, 2568, 2439, 6548, 692, 3405, 4915, 705, 3890, 350, 5644, 628, 5513, 4949, 796, 508, 2363, 280, 3163, 5432, 1460, 5544, 1204, 1277, 129, 2347, 5846, 1502, 3624, 5278, 4658, 5964, 3663, 4744, 6449, 6384, 4875, 4130, 5221, 3067, 4168, 3217, 923, 5177, 3368, 6361, 1625, 1916, 5647, 2585, 4323, 3395, 3506, 840, 3656, 2632, 797, 1170, 5975, 303, 848, 154, 3137, 2672, 5526, 3762, 1021, 2968, 2620, 1187, 4455, 4340, 5343, 3459, 3380, 512, 6371, 4083, 2658, 2198, 5347, 1254, 1754, 5308, 4933, 5622, 1438, 5843, 3236, 5978, 1043, 3085, 2444, 5283, 5447, 2937, 264, 5240, 3078, 397, 2683, 291, 5889, 4556, 2579, 3370, 2865, 3839, 5300, 4336, 4377, 1781, 6347, 284, 4154, 1495, 4783, 2148, 4244, 2733, 2153, 1651, 3246, 750, 2346, 5015, 6105, 2581, 4190, 3997, 2479, 1702, 2264, 2488, 3868, 4461, 2407, 5552, 5848, 6535, 674, 4815, 513, 4710, 19, 4898, 4230, 4814, 427, 704, 935, 3736, 851, 2082, 2550, 2089, 4980, 3969, 783, 774, 2203, 5423, 2965, 1343, 587, 4749, 4820, 474, 1073, 6305, 2963, 59, 3079, 4971, 3978, 2613, 6090, 93, 2003, 922, 4649, 5626, 4122, 701, 3882, 6427, 2611, 270, 3461, 1247, 4118, 3358, 4032, 2830, 2141, 5276, 2815, 3959, 1347, 1941, 5672, 2648, 3138, 4773, 4664, 1188, 6023, 4212, 3337, 97, 3614, 5879, 4420, 545, 775, 2847, 1190, 5930, 455, 1455, 4554, 5197, 6119, 511, 5537, 4884, 1448, 4036, 5776, 3441, 6110, 5784, 199, 1672, 3396, 4929, 3865, 4343, 3451, 6499, 6006, 5019, 2436, 1660, 6454, 2972, 4046, 6515, 776, 4303, 2155, 1321, 3849, 5194, 4147, 4082, 4403, 4900, 2924, 475, 4316, 4062, 5514, 2645, 3525, 1905, 3112, 5563, 4995, 4410, 1675, 2994, 3261, 3127, 3789, 5636, 6516, 5704, 3480, 5476, 5017, 5885, 5448, 3268, 275, 1430, 183, 5894, 3517, 2074, 6057, 4660, 3635, 3231, 3260, 67, 2552, 1406, 1037, 5109, 4627, 266, 2453, 5346, 3909, 2531, 3408, 4606, 471, 2112, 1458, 1245, 3574, 4535, 1341, 3833, 4569, 5789, 2416, 5639, 1220, 6406, 6097, 1261, 2715, 779, 2696, 4802, 2863, 5752, 4158, 3812, 6295, 5913, 1907, 6461, 1827, 2452, 1499, 5718, 3534, 1914, 3430, 3660, 2888, 4635, 4544, 4295, 3739, 2489, 5504, 2472, 2149, 4750, 2266, 5108, 2886, 6297, 3215, 2945, 3564, 5915, 3925, 392, 2280, 1938, 6189, 4198, 3421, 999, 3565, 6342, 3385, 842, 1176, 4145, 3418, 5732, 673, 2708, 3797, 2680, 3796, 3653, 833, 360, 1157, 506, 2775, 4793, 3267, 6337, 5198, 5215, 3474, 36, 4491, 2769, 1550, 4978, 3733, 2644, 3582, 3347, 2990, 1380, 2700, 1006, 3720, 5104, 2006, 2710, 2291, 1697, 5129, 193, 6286, 1025, 2938, 1016, 540, 3044, 5568, 1894, 2558, 3462, 5475, 4537, 5127, 5510, 2530, 5487, 1649, 4733, 1619, 1012, 5539, 4452, 5755, 5147, 1450, 123, 3255, 4275, 2761, 1346, 6415, 539, 4963, 2435, 6375, 3721, 763, 4863, 2820, 3413, 1348, 2512, 189, 354, 2276, 2020, 389, 4601, 4962, 5928, 4955, 546, 1544, 2032, 72, 305, 1336, 3751, 2272, 426, 3829, 6142, 5720, 5726, 6412, 1591, 3485, 1263, 1714, 4616, 5699, 2199, 1783, 5364, 3869, 6360, 2884, 2299, 358, 2250, 3450, 255, 3273, 5111, 457, 4259, 4533, 1782, 76, 6343, 1936, 4853, 5547, 4468, 3933, 4210, 4097, 2179, 3537, 1616, 1415, 4010, 2717, 2738, 4699, 5191, 23, 6077, 5541, 3914, 4555, 2790, 5340, 2917, 140, 786, 6328, 1879, 6132, 4928, 3464, 1421, 6139, 4547, 6049, 5781, 3950, 5242, 4447, 2200, 2113, 3698, 3785, 3152, 4942, 103, 314, 1422, 2592, 5062, 5367, 3262, 2586, 5381, 32, 40, 5444, 1605, 4008, 2415, 341, 2967, 5374, 4746, 5470, 3489, 4177, 3118, 1275, 1175, 4494, 4294, 3662, 2290, 3453, 3541, 1215, 3060, 1993, 3573, 5094, 2988, 2511, 3302, 6344, 5353, 3061, 1164, 5851, 529, 5317, 15, 3823, 2355, 1035, 5891, 3597, 5733, 5356, 1052, 3125, 2916, 3888, 445, 4398, 4399, 4372, 202, 5614, 857, 6430, 3289, 120, 463, 5192, 1365, 1293, 3429, 2246, 115, 3530, 2026, 4043, 769, 2802, 2393, 2190, 178, 3303, 2853, 6007, 3286, 1159, 3491, 663, 939, 5797, 3228, 5029, 1497, 5642, 1847, 2999, 1810, 4667, 6545, 3986, 6107, 1088, 4712, 6376, 2254, 3114, 4503, 4205, 4060, 2570, 2398, 459, 554, 4031, 3353, 2804, 3835, 5130, 1775, 52, 2864, 3349, 610, 912, 131, 1486, 1485, 3249, 1411, 4499, 3032, 5344, 5179, 5036, 2016, 5034, 2235, 6089, 2189, 2900, 435, 2483, 6468, 5940, 4796, 1610, 4572, 16, 1913, 3651, 5239, 3168, 4208, 4469, 2021, 2445, 4236, 2467, 4169, 4504, 2255, 4630, 227, 2649, 2261, 3615, 2877, 3699, 5757, 394, 3110, 2577, 5529, 5097, 1131, 5850, 3627, 5485, 2500, 3619, 3124, 4830, 855, 533, 865, 6332, 964, 806, 4497, 6208, 5505, 2998, 6529, 4387, 1548, 6136, 2891, 3988, 1573, 4140, 5883, 3284, 525, 6488, 3532, 2688, 6216, 926, 4001, 6440, 2154, 444, 5633, 2258, 1998, 94, 2446, 948, 421, 710, 997, 3374, 2309, 1594, 3400, 728, 5562, 886, 4381, 918, 2223, 1861, 5362, 6367, 921, 5366, 5208, 4319, 869, 3375, 2777, 4186, 5154, 4280, 2907, 4781, 304, 3442, 5321, 3800, 2593, 3050, 2431, 4890, 388, 4042, 2093, 965, 5296, 134, 2740, 4016, 2269, 366, 780, 1771, 3048, 5605, 5876, 4284, 1287, 4684, 4868, 5286, 3424, 206, 3546, 1846, 2470, 2537, 4786, 442, 3640, 6363, 4488, 4313, 3352, 4887, 209, 6113, 697, 1819, 3406, 1797, 515, 5588, 31, 1047, 299, 256, 1780, 2175, 4553, 3190, 4629, 3367, 3678, 1669, 3232, 5462, 5079, 6130, 298, 5457, 3781, 4276, 2896, 2594, 2267, 618, 2228, 4666, 3741, 432, 3206, 4653, 4854, 5641, 3165, 5914, 4312, 5478, 3916, 2221, 1525, 1923, 915, 2033, 2751, 1367, 547, 2103, 1893, 686, 3471, 1738, 3995, 2287, 4203, 5063, 5184, 4878, 48, 2915, 1083, 1729, 1155, 4117, 5369, 4490, 2312, 4215, 1034, 829, 3399, 3864, 4520, 5258, 3388, 4366, 3683, 5697, 4989, 5941, 4986, 5688, 1013, 2527, 2165, 5078, 3132, 3647, 205, 3346, 2554, 603, 2385, 5674, 5379, 3706, 3500, 2844, 5033, 6183, 4127, 6165, 4141, 2181, 5428, 4683, 6283, 4662, 1320, 4563, 2583, 532, 747, 5013, 2827, 2881, 2406, 3982, 6451, 6033, 6387, 3009, 1693, 1899, 6109, 664, 711, 5230, 4038, 3758, 5610, 196, 5105, 5044, 177, 3279, 3404, 1326, 5648, 2584, 3693, 2012, 553, 5925, 2876, 5142, 2812, 749, 2110, 3153, 691, 4281, 620, 1412, 3192, 1741, 1260, 3555, 4648, 1112, 2858, 3832, 3392, 224, 3445, 4024, 3401, 3470, 4144, 1872, 3145, 1125, 2069, 3922, 5181, 3244, 2768, 941, 5465, 2036, 3068, 1210, 2197, 3122, 2232, 4227, 2695, 4138, 5860, 5756, 3577, 1172, 4014, 3842, 5722, 536, 3740, 4903, 2041, 3282, 3596, 4725, 2872, 990, 1692, 514, 4005, 5965, 4251, 6533, 2882, 5542, 530, 5047, 4274, 3027, 5187, 2553, 5604, 423, 3732, 2086, 3322, 3671, 2429, 98, 47, 1745, 3850, 5951, 4687, 6170, 2234, 2774, 6327, 637, 2303, 1169, 5153, 3793, 6442, 6012, 885, 5566, 359, 4413, 4440, 5101, 5863, 942, 2547, 2207, 4990, 1934, 3551, 4392, 2206, 3414, 4443, 24, 509, 2387, 1606, 5136, 3188, 5938, 1329, 680, 3817, 2501, 3207, 4086, 5060, 1456, 96, 5138, 65, 3791, 42, 2338, 2383, 795, 2630, 2756, 6018, 3005, 4693, 3519, 4439, 5561, 5849, 6356, 2418, 4619, 3003, 1757, 3612, 3283, 943, 2861, 428, 263, 3022, 2252, 5880, 1302, 4707, 4135, 2333, 2628, 785, 3330, 2147, 3623, 3179, 1809, 5287, 1027, 6116, 3499, 289, 186, 5523, 3665, 404, 1744, 2456, 230, 3851, 5315, 3799, 6537, 5835, 3294, 4957, 4861, 4704, 792, 687, 3256, 2249, 5924, 6030, 4718, 1850, 2423, 5896, 3954, 2353, 2336, 6108, 3581, 1622, 1374, 2122, 4055, 4356, 4694, 3494, 5466, 1657, 6164, 1082, 5609, 4784, 4292, 946, 5855, 4416, 2031, 6438, 3630, 3220, 2326, 4473, 1219, 261, 3845, 947, 874, 1727, 5058, 367, 5445, 4588, 633, 1384, 2040, 5937, 1654, 458, 3661, 4049, 3892, 3929, 4310, 6429, 5802, 6265, 3616, 6278, 1163, 1286, 2626, 4909, 4417, 1603, 5229, 5188, 4846, 3820, 2637, 4394, 1435, 2361, 1946, 1534, 5368, 1577, 1330, 2989, 5589, 1179, 622, 4766, 956, 5508, 2890, 5777, 4424, 6091, 6274, 770, 1444, 1363, 2939, 3782, 4307, 6416, 5711, 6163, 3981, 3877, 4293, 2140, 4739, 287, 1685, 1650, 4950, 3592, 2410, 1547, 4219, 5778, 2327, 2440, 6019, 524, 6198, 3794, 3053, 5995, 1072, 3989, 6413, 4985, 1927, 477, 5065, 5954, 6291, 2428, 3724, 2237, 3844, 4309, 2848, 6051, 1017, 2793, 5862, 104, 1747, 1538, 3999, 5076, 4521, 4973, 3522, 441, 3682, 521, 6339, 1022, 2959, 4706, 6101, 4342, 11, 1712, 3100, 3393, 6417, 5837, 6040, 2773, 2054, 5228, 5074, 1366, 5100, 4618, 339, 6364, 2867, 3958, 4930, 2947, 4711, 1295, 1414, 4818, 4213, 2956, 4940, 4625, 1796, 3818, 4811, 5794, 130, 3729, 3990, 557, 1895, 1161, 5705, 596, 4333, 3300, 2836, 5782, 3767, 1129, 3090, 3815, 501, 1794, 945, 6403, 2482, 3701, 4371, 2471, 1055, 6428, 5836, 4945, 4409, 2413, 5351, 2025, 781, 3081, 2859, 3431, 4669, 3674, 1299, 5014, 3247, 3143, 1746, 4586, 3057, 4851, 5401, 4517, 2275, 3681, 2115, 5309, 3210, 4888, 6446, 627, 5546, 4304, 2776, 4279, 4272, 1973, 6333, 4110, 3259, 4724, 4386, 3378, 3254, 6296, 4305, 2976, 850, 2310, 3962, 1709, 5810, 2898, 1109, 2833, 4142, 1909, 5102, 277, 5725, 4373, 2230, 3332, 3875, 6531, 4352, 936, 1992, 3808, 3420, 3394, 1943, 6433, 3397, 3709, 4025, 6532, 2933, 5310, 2722, 771, 472, 4437, 784, 3187, 2930, 1615, 6303, 1935, 4047, 384, 3649, 5845, 2878, 6489, 4315, 3625, 2978, 2587, 591, 53, 5455, 5056, 2685, 1512, 605, 4826, 4088, 181, 3437, 4383, 2822, 4717, 3177, 3516, 2243, 2307, 629, 676, 3070, 258, 4039, 1077, 1096, 2011, 2973, 2469, 1154, 3101, 6486, 832, 456, 4257, 4634, 2102, 2170, 1668, 2914, 460, 5623, 3687, 3402, 5352, 2925, 5093, 1108, 1405, 3895, 2323, 3407, 2005, 2689, 2821, 3881, 2085, 615, 1267, 5284, 542, 5979, 3778, 2028, 3545, 6379, 46, 369, 2759, 3711, 2427, 2723, 1592, 1770, 2535, 1101, 4362, 1953, 954, 4692, 3810, 4028, 288, 4072, 192, 2964, 1915, 5297, 888, 1602, 5886, 5958, 1904, 3454, 1296, 3585, 5452, 1856, 3511, 2167, 4225, 4685, 913, 2177, 1335, 5045, 3174, 2532, 6409, 5067, 2883, 2955, 2609, 1007, 2935, 2598, 195, 2229, 5376, 872, 1134, 39, 1585, 1977, 859, 6038, 5373, 3063, 4604, 1930, 3369, 44, 5627, 1976, 2806, 235, 5833, 3186, 200, 6298, 6271, 3051, 3253, 4967, 3715, 2536, 6094, 4987, 2187, 4357, 5195, 3111, 3745, 5946, 5342, 526, 4779, 5151, 4647, 6325, 3744, 4543, 4269, 3783, 2772, 4368, 1251, 3419, 465, 3672, 3790, 5518, 4532, 2529, 1764, 804, 4872, 6437, 4536, 1271, 338, 4810, 1371, 433, 6357, 2465, 1543, 6245, 102, 6527, 5012, 4806, 2849, 361, 6432, 1951, 5530, 828, 1026, 2004, 6341, 3297, 2674, 231, 4077, 1876, 5712, 3066, 54, 5306, 4166, 5857, 3432, 4542, 4084, 4577, 1959, 6193, 3411, 112, 1029, 2549, 5698, 3593, 4832, 4376, 4250, 3889, 6028, 3425, 3288, 681, 6269, 4057, 3309, 2191, 4286, 2574, 220, 6262, 5303, 4339, 563, 6050, 5378, 73, 2349, 3903, 194, 4374, 3183, 3250, 5637, 6456, 3185, 1292, 2639, 5386, 2826, 2087, 4657, 439, 3994, 992, 2108, 1984, 2692, 3344, 604, 1237, 3714, 1656, 4453, 373, 4807, 2098, 522, 4558, 1468, 4196, 4530, 3390, 3586, 4981, 3695, 3287, 2548, 3140, 4566, 2879, 4283, 1369, 51, 4937, 2034, 2420, 3218, 2589, 4056, 1545, 2918, 21, 3172, 1503, 2351, 124, 2433, 4935, 4322, 1269, 2321, 1824, 2503, 1825, 1957, 929, 5384, 6300, 3043, 3705, 3211, 969, 2818, 386, 6022, 6043, 5969, 844, 3156, 2282, 2843, 2090, 4414, 293, 5956, 276, 2315, 3486, 1191, 4389, 5027, 6166, 3968, 4943, 5262, 4026, 1843, 5721, 4401, 1297, 6504, 5944, 758, 2664, 3738, 4113, 5302, 5433, 343, 5385, 3726, 2697, 3826, 4216, 1527, 3949, 4770, 6423, 1928, 5098, 3512, 2018, 3225, 2135, 1518, 62, 6254, 4534, 3181, 418, 830, 1243, 3182, 1044, 4628, 4467, 831, 1835, 3924, 5790, 2596, 5512, 1922, 583, 467, 1332, 693, 5881, 77, 4109, 4253, 3086, 3697, 2977, 4867, 4258, 3319, 2370, 1821, 2958, 5158, 555, 1790, 671, 6279, 1462, 6014, 2783, 5635, 2408, 1481, 5223, 4716, 2289, 2562, 4966, 4472, 1620, 2271, 4249, 2473, 4423, 6054, 4656, 5146, 1704, 4539, 4730, 4178, 4277, 3628, 5018, 6126, 4148, 2726, 6122, 2308, 1246, 3827, 2545, 4650, 4460, 1974, 6434, 1211, 6349, 3763, 3328, 3329, 5804, 5531, 5926, 2839, 3523, 2394, 6500, 683, 5587, 1356, 70, 3896, 2668, 6513, 2158, 6351, 2302, 2263, 3097, 4686, 2866, 1442, 1425, 3191, 99, 4825, 2369, 5473, 647, 1413, 2850, 95, 6467, 2022, 5394, 390, 2694, 3991, 2612, 3240, 2161, 1582, 2627, 1424, 504, 2913, 5226, 4789, 135, 3659, 4234, 4226, 2643, 5323, 3092, 5971, 1045, 2852, 5597, 675, 4069, 2426, 6135, 925, 5967, 2855, 2875, 3848, 2897, 3317, 5054, 1206, 5311, 4245, 6013, 3673, 138, 3642, 3963, 2300, 2513, 3334, 2432, 920, 1863, 5785, 5133, 6207, 4358, 6496, 4939, 3753, 1362, 4360, 1711, 1989, 1614, 4091, 746, 2368, 3082, 1184, 2007, 3325, 6521, 5869, 3320, 6179, 1357, 1501, 2663, 422, 1118, 3563, 5685, 4831, 4873, 5917, 2194, 5425, 3142, 1844, 5365, 5792, 3170, 2259, 2921, 2750, 678, 4239, 4979, 6419, 4076, 5694, 1795, 5128, 1865, 1239, 5182, 507, 2737, 5070, 2681, 2605, 2841, 950, 3477, 3084, 2714, 5380, 2354, 3631, 292, 6329, 957, 5554, 1566, 6026, 6195, 2143, 5273, 6460, 2514, 2893, 3531, 6181, 1653, 5709, 3064, 755, 1854, 20, 1205, 2993, 934, 1372, 2739, 1333, 3196, 2409, 4752, 5053, 1788, 4965, 505, 4944, 6414, 4644, 6127, 2285, 4904, 3578, 14, 5933, 4301, 1583, 836, 1432, 6378, 5186, 2829, 157, 403, 4090, 269, 4271, 6534, 4222, 6268, 1036, 281, 357, 1491, 3356, 5260, 3339, 2677, 6465, 1826, 2753, 5700, 1282, 1127, 191, 6024, 4780, 5454, 5997, 924, 944, 4681, 5771, 6326, 3547, 381, 6256, 3046, 2072, 2698, 4207, 5241, 347, 2171, 1011, 2940, 6355, 5472, 694, 3248, 864, 1408, 3863, 3270, 6201, 2120, 1837, 3911, 3548, 6053, 6549, 3379, 3144, 420, 3549, 5847, 4886, 378, 6003, 4351, 2224, 807, 5406, 5134, 1684, 5477, 3301, 237, 6383, 2608, 5488, 6411, 4615, 279, 4570, 765, 5871, 3688, 4715, 3020, 4067, 1382, 3252, 58, 1778, 182, 1892, 190, 3251, 609, 3750, 3752, 236, 5939, 4030, 383, 6141, 5509, 4388, 4273, 994, 1735, 1565, 2008, 5795, 1808, 5231, 2476, 257, 127, 5160, 1982, 4341, 549, 4045, 768, 684, 1213, 2573, 1427, 4541, 2991, 4175, 523, 2502, 1289, 2651, 3151, 1593, 4306, 6331, 3148, 2236, 614, 3469, 1349, 4229, 3149, 5214, 1117, 6258, 2691, 1138, 528, 1918, 1197, 1522, 2572, 5624, 1252, 4769, 4405, 2066, 1449, 6509, 1769, 2824, 5319, 1678, 5391, 5268, 2357, 4004, 5032, 3533, 3305, 2941, 3901, 3664, 3947, 3928, 295, 1032, 6205, 2035, 1419, 5874, 6250, 6060, 5671, 3509, 1493, 1124, 5803, 4134, 4493, 1368, 2711, 3934, 1051, 3983, 3055, 2044, 1158, 4549, 6260, 5405, 4087, 3905, 2808, 6340, 2975, 1608, 3333, 1171, 1627, 2522, 4231, 1874, 2498, 6420, 2544, 2666, 6425, 2742, 6133, 909, 4776, 1162, 3604, 12, 2335, 759, 1506, 1177, 5176, 316, 827, 4187, 4573, 4501, 3265, 3572, 5772, 5048, 2600, 3843, 6138, 4476, 5595, 3154, 2107, 2124, 2384, 1818, 1135, 5117, 6453, 3173, 6502, 3554, 777, 4579, 2227, 6306, 2055, 6281, 2798, 4406, 700, 972, 2451, 3508, 4065, 1564, 4329, 4075, 6492, 2927, 1018, 3351, 2392, 425, 4172, 2817, 6096, 4763, 3468, 462, 1878, 3465, 4206, 1085, 5463, 1323, 3052, 4456, 1115, 5383, 1862, 3071, 841, 5507, 1496, 211, 172, 1056, 1490, 951, 4050, 5322, 3932, 4390, 4123, 4214, 6083, 5805, 6175, 150, 1379, 3074, 616, 379, 6184, 5431, 2126, 213, 809, 4199, 5313, 4695, 5486, 5670, 315, 6027, 2887, 4970, 5865, 5071, 5606, 703, 3768, 1446, 1852, 2277, 4700, 1291, 600, 1090, 3898, 2029, 2196, 3266, 5148, 3870, 6542, 3466, 37, 5557, 3749, 3059, 3906, 4023, 5619, 5973, 4931, 4415, 1987, 4139, 1696, 1811, 3824, 3169, 1962, 5471, 3629, 967, 6015, 4321, 2807, 4787, 3668, 2145, 5161, 2754, 1248, 5145, 2957, 4827, 2494, 3271, 2557, 1791, 5059, 3224, 3428, 3518, 3984, 2247, 1024, 2670, 5377, 849, 4809, 2889, 4095, 2437, 4691, 2233, 1563, 4516, 3449, 3133, 4857, 2546, 155, 110, 188, 63, 3223, 6243, 626, 3583, 3902, 1958, 5796, 2642, 2184, 1688, 3164, 2220, 5055, 853, 1009, 2270, 3807, 3866, 5943, 6508, 4247, 3321, 5143, 5643, 1785, 2778, 4071, 611, 3105, 3285, 1319, 5640, 930, 1855, 5632, 541, 3552, 5854, 5560, 4328, 2238, 1952, 4317, 4956, 2059, 1008, 2507, 1383, 2650, 6213, 6350, 3973, 6102, 4334, 5675, 632, 2301, 2727, 2702, 5157, 932, 2835, 1507, 38, 3884, 4751, 6209, 727, 5613, 4121, 4893, 4354, 5220, 6196, 5123, 4068, 3456, 4195, 6104, 3742, 1926, 1864, 996, 3293, 2185, 2313, 5963, 5118, 1459, 6117, 6524, 6169, 3503, 4054, 5893, 631, 6520, 1028, 310, 2151, 3472, 1258, 4211, 201, 645, 4701, 2555, 606, 5064, 2874, 2703, 6301, 1328, 4105, 2699, 2679, 839, 3558, 2183, 4645, 6540, 5753, 3780, 3335, 309, 3076, 35, 180, 3019, 1249, 3852, 4668, 148, 3234, 45, 385, 5427, 6510, 6284, 5265, 3208, 484, 5719, 4044, 2244, 1202, 3416, 1178, 3755, 4580, 4296, 3315, 2997, 2946, 3917, 695, 2942, 6373, 1350, 1975, 1539, 2595, 5929, 290, 3746, 2604, 3389, 5312, 2341, 4858, 3677, 3073, 5393, 3008, 3026, 3883, 4899, 6076, 623, 3433, 1317, 4232, 2114, 5814, 6498, 2561, 1793, 6547, 1255, 3708, 5607, 4833, 3230, 2971, 3561, 3544, 1901, 2116, 470, 1708, 4164, 6112, 2792, 601, 1597, 5112, 1457, 2868, 3072, 4063, 6546, 1086, 4477, 3985, 4682, 5809, 4775, 5263, 4174, 1933, 685, 3166, 3245, 447, 4737, 1576, 3569, 468, 3979, 3037, 4085, 3436, 2992, 636, 5190, 3495, 3376, 1048, 5864, 5237, 1262, 3481, 6182, 3275, 4462, 2417, 4104, 5706, 3483, 3805, 3570, 3473, 4332, 3568, 2037, 2078, 5567, 1737, 5775, 3109, 6459, 2949, 748, 5213, 1434, 1859, 2912, 4092, 940, 4126, 1340, 6458, 1789, 451, 2687, 5708, 1568, 337, 713, 1265, 1180, 144, 13, 3488, 4285, 4871, 1581, 5481, 4066, 3861, 3907, 998, 1375, 3203, 4607, 6404, 5072, 4522, 4048, 10, 363, 3417, 4688, 174, 858, 6106, 754, 3873, 1834, 2901, 3617, 1098, 2954, 4869, 4485, 1707, 5266, 3336, 5348, 1728, 4714, 5895, 3093, 5970, 3054, 2188, 371, 5590, 668, 3872, 2136, 2466, 4856, 4327, 2516, 26, 5149, 1845, 1193, 4850, 6020, 5788, 3058, 5460, 5291, 1094, 2273, 5399, 4778, 1324, 1253, 1489, 5051, 6276, 5023, 4009, 2686, 4137, 3498, 5301, 3386, 6292, 757, 4697, 6246, 6035, 2825, 5453, 1950, 5811, 6445, 1528, 4738, 4260, 5031, 113, 1498, 2340, 543, 4876, 4822, 286, 4912, 3879, 3587, 4905, 5625, 5548, 3292, 3205, 714, 2401, 2749, 4747, 4064, 2851, 4670, 2729, 764, 1165, 4894, 5594, 340, 2490, 910, 204, 33, 2647, 2391, 1337, 396, 5285, 3606, 1924, 3543, 273, 3819, 1303, 4074, 2163, 5931, 6280, 1181, 3160, 5927, 4326, 1689, 6215, 4997, 3219, 4847, 1713, 2755, 5884, 4575, 2903, 2801, 6444, 4804, 617, 1133, 6388, 5966, 1103, 4651, 268, 5953, 2399, 4808, 2345, 548, 4728, 3923, 2744, 4458, 5888, 4623, 1106, 4952, 2495, 1828, 5206, 345, 3955, 3524, 4914, 2169, 4155, 3641, 751, 2331, 2782, 4146, 4096, 6272, 1777, 4011, 5536, 3377, 5349, 1752, 4813, 861, 5645, 2746, 5474, 175, 4745, 3765, 1436, 1378, 342, 4736, 2846, 308, 2447, 349, 6202, 1612, 3409, 6187, 5976, 4540, 3155, 1373, 5193, 147, 5021, 3108, 1955, 2728, 3150, 5320, 4845, 4632, 1866, 6199, 1609, 955, 5543, 1089, 5728, 2533, 551, 1270, 483, 4395, 6115, 6511, 5216, 1733, 1784, 1773, 1214, 1344, 4278, 212, 2617, 1167, 630, 4324, 6483, 5270, 5049, 544, 5768, 2450, 4994, 5932, 4938, 4610, 6424, 221, 2248, 1774, 1031, 1663, 6506, 3940, 3926, 2071, 3669, 4642, 142, 6277, 446, 6093, 2983, 356, 2118, 1858, 4120, 6121, 2635, 6168, 117, 589, 4243, 6100, 1666, 5524, 6525, 2813, 1816, 1944, 1410, 3475, 4636, 5799, 4506, 5649, 4463, 5569, 3867, 4741, 6450, 1433, 6431, 5350, 1523, 1081, 6536, 5010, 3897, 3308, 5028, 6118, 6247, 4189, 429, 2634, 1212, 1671, 2909, 3115, 1203, 2182, 1345, 3221, 3029, 3478, 5288, 854, 3880, 6212, 3502, 4977, 4153, 4805, 2496, 5115, 5701, 6435, 4525, 5882, 2395, 1541, 5532, 6237, 28, 5235, 5402, 4197, 6039, 970, 518, 5948, 2518, 69, 311, 2441, 2322, 323, 2389, 4022, 5113, 4621, 1114, 4834, 3130, 4913, 2317, 6497, 3712, 3538, 382, 1569, 2631, 3948, 1194, 5538, 1740, 4081, 5892, 1730, 5798, 4690, 3075, 2123, 5210, 762, 790, 4794, 3910, 5534, 5298, 260, 3403, 3510, 5274, 1487, 1334, 726, 6408, 6377, 5483, 1331, 2661, 2262, 125, 1726, 517, 6176, 1126, 3599, 5949, 3613, 916, 296, 3927, 2204, 4907, 5388, 2528, 5936, 4380, 2193, 646, 3316, 2422, 3634, 5808, 2934, 1274, 5689, 5947, 1960, 3493, 4035, 2094, 1198, 3542, 6005, 6016, 145, 3871, 3899, 1087, 68, 184, 2083, 846, 4996, 6088, 5872, 6336, 6463, 4896, 5482, 5716, 3847, 4163, 3727, 3197, 3952, 3348, 5961, 911, 5392, 1160, 1766, 3735, 4897, 3885, 887, 1655, 5751, 1900, 3025, 5026, 3575, 6211, 4331, 6519, 2328, 2076, 5550, 4483, 4037, 3435, 6369, 1116, 4248, 3529, 5446, 5398, 5217, 3307, 2159, 2142, 5389, 1038, 4223, 1857, 672, 2932, 4125, 3184, 4151, 2588, 4726, 6210, 3487, 593, 4073, 1516, 1010, 3312, 1706, 4382, 294, 4663, 5730, 4705, 4446, 4457, 218, 2797, 5135, 3237, 3809, 6505, 2009, 4335, 5233, 2671, 4765, 5977, 5955, 723, 6288, 949, 2566, 3014, 4465, 4795, 2747, 612, 203, 336, 3764, 1631, 278, 3463, 3831, 1945, 2961, 4817, 5290, 2279, 391, 119, 132, 4330, 866, 4788, 5875, 5155, 2492, 2084, 619, 2659, 2837, 4487, 1579, 6289, 3761, 5107, 6448, 4442, 2311, 6157, 6087, 2510, 2364, 4614, 1173, 625, 4325, 6185, 1325, 3759, 3804, 4552, 4740, 6220, 2117, 527, 1994, 3700, 3862, 450, 4958, 2218, 3175, 100, 1990, 5095, 3801, 1322, 5690, 1940, 217, 3123, 34, 2174, 452, 1174, 1925, 3913, 3878, 760, 5691, 1683, 5710, 2411, 5612, 5767, 1189, 5516, 1939, 2656, 5786, 4300, 4474, 2477, 2056, 1400, 3080, 4505, 4311, 4729, 6374, 3666, 3355, 6025, 3107, 3326, 2157, 364, 598, 3410, 222, 216, 634, 2619, 4204, 4735, 1467, 4112, 4486, 5282, 1049, 6095, 1482, 3455, 4051, 5180, 2803, 4058, 1019, 2373, 3298, 3281, 3141, 2186, 868, 2164, 3521, 6084, 4703, 4661, 352, 991, 837, 6134, 1820, 3372, 4848, 4094, 3278, 5341, 2024, 3945, 267, 5110, 2260, 4874, 4605, 2943, 233, 2633, 4602, 6206, 440, 2251, 5634, 6140, 3010, 2731, 1954, 348, 3602, 1659, 1749, 5043, 143, 4742, 2162, 4824, 5203, 1937, 1787, 6275, 4338, 3716, 3769, 1981, 1988, 1137, 2356, 891, 3135, 3264, 2519, 3971, 3825, 4906, 3757, 4734, 6485, 4393, 1829, 5695, 4378, 2794, 2910, 2283, 3645, 2274, 6541, 91, 3633, 1399, 3000, 3242, 2638, 2969, 4384, 306, 753, 5354, 375, 1242, 1891, 6370, 4626, 5096, 3654, 4111, 1515, 5225, 1897, 3310, 4524, 1710, 6270, 2253, 1772, 4782, 1250, 4375, 3263, 4029, 4450, 3792, 5243, 5205, 4052, 4221, 2902, 1572, 5479, 6441, 3131, 1755, 6041, 1186, 5132, 3702, 3117, 3295, 5469, 4659, 6224, 5693, 3091, 4217, 283, 3412, 25, 3324, 4254, 667, 6352, 5436, 2701, 6335, 2928, 3460, 5974, 3556, 594, 3912, 621, 2448, 346, 3343, 3860, 4953, 856, 9, 566, 2781, 5770, 4585, 5887, 4015, 2268, 1911, 6372, 6217, 1156, 1574, 3139, 5897, 1991, 3828, 6190, 4470, 5555, 3241, 2474, 5363, 43, 2621, 3226, 419, 1645, 4946, 624, 3816, 3944, 5592, 2899, 4238, 1588, 3557, 1110, 4772, 4889, 2771, 1677, 3274, 297, 5318, 2779, 1715, 4484, 2319, 2892, 6330, 1240, 2425, 6218, 1734, 643, 6422, 1848, 1997, 3918, 3313, 2192, 4587, 1618, 3501, 3601, 5131, 3104, 5870, 1284, 682, 3696, 2019, 2641, 4816, 3391, 3915, 5484, 503, 282, 595, 3227, 2905, 2438, 3675, 4237, 3398, 3908, 1054, 6544, 2929, 6484, 538, 5994, 2209, 3679, 585, 2475, 1768, 1216, 1542, 788, 6469, 2442, 225, 2719, 307, 1674, 2014, 2799, 2953, 2571, 2509, 761, 4852, 1996, 448, 3686, 847, 2743, 2245, 1776, 3041, 5715, 3803, 5684, 1535, 4489, 4107, 5207, 5852, 3350, 1364, 5141, 3591, 5395, 5916, 973, 3201, 6466, 3176, 2325, 2284, 3157, 5959, 1264, 6174, 3257, 3646, 3710, 3012, 5370, 133, 3069, 2146, 2286, 5316, 6252, 3087, 6334, 883, 317, 2042, 6172, 6512, 3960, 2030, 3980, 5030, 5723, 4743, 4194, 4297, 3784, 60, 597, 3813, 1831, 2895, 5016, 5603, 6244, 5545, 3371, 537, 5227, 1099, 3941, 1961, 3318, 2342, 2764, 1428, 1451, 4565, 3779, 3359, 3363, 3327, 259, 4365, 4702, 4972, 1743, 5791, 1596, 1948, 2603, 1694, 1300, 2520, 153, 1613, 1195, 1053, 4289, 2597, 6490, 789, 1531, 2150, 6345, 5766, 4412, 876, 2564, 1278, 3065, 2329, 2239, 6129, 2607, 3622, 2602, 1355, 1505, 2762, 2434, 3692, 1102, 3900, 1526, 3648, 2591, 3341, 4654, 3504, 2324, 889, 1823, 2922, 1354, 1407, 2043, 3713, 2088, 1030, 3382, 1624, 2257, 1906, 5387, 5793, 4581, 4448, 4576, 2449, 5434, 6037, 2372, 370, 1870, 3972, 3639, 2676, 3858, 5692, 2682, 3195, 3102, 772, 2926, 3099, 4496, 17, 5269, 5183, 510, 430, 1699, 2906, 4608, 3886, 5292, 1208, 1484, 4797, 931, 3045, 2288, 1570, 1416, 5069, 473, 3018, 1902, 1838, 5422, 6287, 3128, 5400, 2736, 5304, 4012, 581, 670, 2205, 1078, 4078, 4529, 2721, 2343, 57, 1417, 3728, 4270, 1217, 5727, 3323, 300, 3814, 1084, 4866, 2646, 1403, 520, 6348, 3345, 4136, 4302, 3006, 3956, 1972, 4785, 5052, 1896, 3331, 6188, 1611, 4882, 3505, 3605, 2565, 265, 2070, 3028, 1836, 2100, 953, 111, 2454, 5219, 5390, 274, 2173, 2493, 917, 2506, 5890, 6385, 5277, 3943, 3514, 1079, 3035, 6538, 1665, 4478, 6514, 3515, 3567, 3269, 2582, 3806, 1682, 2590, 4932, 5464, 1136, 1301, 1207, 1290, 4133, 1575, 1454, 2225, 4002, 2397, 3276, 3859, 4192, 1418, 6204, 1549, 4599, 3277, 2095, 2405, 5878, 3229, 5549, 6522, 1530, 1276, 4435, 6462, 3490, 5731, 5528, 1504, 4143, 4337, 2894, 4551, 699, 6346, 5122, 3119, 2058, 1429, 5506, 55, 215, 1050, 469, 2819, 4159, 2121, 4228, 4006, 4287, 6249, 1123, 1604, 1630, 6530, 5630, 6436, 107, 1431, 1779, 5459, 2097, 2734, 2745, 4777, 6255, 3204, 938, 794, 1753, 2481, 2709, 6223, 5293, 3717, 5261, 5451, 4353, 2504, 607, 3719, 3967, 1529, 151, 3655, 5703, 966, 725, 2499, 2063, 2241, 4891, 5238, 4425, 3977, 2987, 1912, 4895, 434, 6491, 2854, 5960, 5608, 2402, 2599, 2816, 3946, 688, 116, 4314, 877, 4598, 708, 6056, 4609, 971, 5877, 5057, 229, 599, 706, 6421, 6180, 5099, 2810, 2948, 139, 4156, 5272, 3603, 431, 4129, 3685, 4170, 3180, 1949, 2996, 4574, 4165, 1358, 3216, 4791, 3004, 3426, 927, 2038, 2616, 4007, 602, 176, 4892, 2601, 4819, 3171, 5832, 4792, 3031, 3272, 1015, 3496, 4545, 1420, 968, 5307, 4968, 5355, 4369, 3383, 66, 2673, 4124, 3147, 5371, 4911, 3637, 3159, 3837, 5232, 27, 2027, 6405, 6248, 2684, 313, 4969, 1815, 5646, 149, 4089, 690, 550, 6539, 5834, 3314, 1256, 6366, 5962, 3023, 2748, 4531, 2675, 2766, 22, 791, 3361, 5650, 3507, 1524, 3942, 5275, 6299, 2823, 5156, 3975, 5533, 3718, 6304, 588, 2015, 2765, 3874, 3536, 6517, 1842, 2653, 64, 6418, 2219, 2840, 1514, 2662, 464, 6203, 1437, 1742, 3213, 1500, 2195, 5713, 2463, 1338, 862, 4220, 1001, 6464, 156, 4318, 4564, 4860, 3113, 2125, 712, 4821, 1093, 5068, 4612, 4128, 368, 5638, 2860, 3342, 5222, 118, 1833, 262, 1701, 4359, 3970, 6085, 3446, 2551, 6266, 6439, 6055, 1814, 5669, 5593, 3039, 5565, 4364, 724, 3636, 584, 2242, 6410, 1294, 2652, 4727, 2580, 2904, 1236, 2443, 6323, 4149, 232, 1626, 1580, 1091, 1748, 5430, 5773, 1105, 2231, 2486, 5856, 4964, 5106, 2791, 6507, 2811, 4855, 234, 4188, 4391, 3766, 3770, 4526, 1648, 6282, 2077, 3731, 4523, 3338, 845, 5152, 4441, 226, 3492, 3357, 1931, 1750, 395, 5037, 5382, 873, 2010, 2330, 6253, 6046, 4622, 2226, 679, 3017, 6381, 5257, 2339, 1661, 1020, 1589, 4849, 4865, 1703, 2374, 1510, 5461, 3974, 4445, 5945, 4637, 1767, 2770, 4748, 2202, 4242, 5126, 3167, 2962, 4408, 5116, 1447, 3129, 3056, 4040, 424, 3038, 5035, 2017, 6009, 1621, 1867, 2610, 141, 3384, 3756, 4209, 4620, 3821, 4502, 5570, 1956, 18, 4885, 2741, 6111, 1042, 453, 4152, 3644, 344, 5480, 5861, 2491, 1567, 1869, 644, 2857, 5844, 3670, 1130, 2618, 6192, 4233, 4764, 3562, 6493, 3707, 995, 5800, 5968, 564, 254, 3162, 5628, 4991, 2809, 2062, 1483, 963, 2780, 3427, 1023, 6032, 4116, 4689, 4255, 4079, 1849, 219, 5551, 2758, 2386, 5124, 5295, 2318, 2578, 6194, 3580, 4518, 4282, 1623, 4235, 4631, 1942, 4252, 1877, 6167, 3088, 4548, 4883, 1095, 2805, 2654, 1182, 1598, 5707, 4546, 3291, 3540, 1628, 1983, 4201, 1698, 1511, 146, 3438, 5616, 2936, 4829, 3595, 3993, 4519, 5125, 2718, 1238, 2101, 4603, 5020, 3484, 782, 6264, 1298, 3364, 2362, 787, 5092, 2065, 4624, 5858, 2796, 393, 1853, 3439, 4061, 4027, 5140, 1461, 3077, 3094, 2278, 2265, 3134, 2950, 1903, 4299, 3036, 3189, 3788, 3214, 793, 3373, 2615, 3987, 535, 3535, 2404, 1607, 4951, 1128, 223, 3243, 863, 4173, 1786, 5867, 61, 2982, 1731, 707, 3953, 519, 4947, 1700, 1273, 438, 6551, 4246, 534, 4665, 2430, 3992, 2138, 302, 3652, 4157, 3891, 210, 5996, 1536, 6092, 5426, 5202, 5294, 677, 1871, 3233, 2931, 3467, 2669, 3846, 1257, 3299, 179, 3904, 5178, 2067, 6528, 5437, 4983, 4798, 5424, 5175, 1875, 1426, 6008, 709, 2725, 187, 3786, 2360, 1401, 6197, 2920, 2057, 461, 3704, 4562, 197, 5185, 4482, 3684, 1288, 3550, 1002, 4790, 5763, 4698, 6362, 1196, 5103, 1664, 3528, 2099, 2981, 5264, 4528, 2521, 2390, 2665, 1185, 2559, 778, 6426, 4500, 485, 1033, 3452, 1756, 3795, 5787, 4466, 552, 3836, 50, 3822, 2966, 4171, 2732, 1423, 5046, 5677, 2567, 4202, 2523, 2352, 1758, 1584, 3366, 4870, 2152, 1272, 6353, 2760, 4367, 2995, 5073, 2172, 2109, 2834, 5450, 1192, 3083, 6455, 6487, 2693, 4708, 3158, 2073, 437, 4812, 1218, 5769, 2281, 3588, 5779, 4709, 1980, 5972, 870, 3957, 1532, 1812, 1080, 3178, 301, 1751, 1266, 3730, 2144, 860, 6302, 3579, 4774, 6098, 2524, 2873, 5357, 198, 5866, 5259, 5683, 208, 2366, 4421, 6010, 92, 4176, 1646, 3657, 2845, 466, 5813, 5150, 5729, 4150, 689, 5935, 214, 3296, 4041, 1868, 3559, 1003, 2862, 6354, 3095, 2534, 6048, 4976, 1667, 1691, 2985, 2365, 2013, 6120, 6058, 2105, 4901, 890, 5702, 803, 1004, 1898, 4571, 1985, 4877, 2980, 1690, 4385, 2984, 2166, 1244, 3193, 4162, 228, 3042, 3894, 6380, 6131, 1353, 5676, 1533, 4370, 3161, 3381, 4119, 5517, 3676, 5358, 4974, 696, 2176, 1097, 5467, 5801, 5527, 4538, 1351, 3212, 3030, 6290, 3620, 4361]\n",
      "test ids:  [0, 1, 2, 3, 4, 5, 6, 7, 8, 78, 79, 80, 81, 82, 83, 84, 85, 86, 87, 88, 89, 90, 158, 159, 160, 161, 162, 163, 164, 165, 166, 167, 168, 169, 170, 171, 238, 239, 240, 241, 242, 243, 244, 245, 246, 247, 248, 249, 250, 251, 252, 253, 318, 319, 320, 321, 322, 324, 325, 326, 327, 328, 329, 330, 331, 332, 333, 334, 335, 398, 399, 400, 401, 402, 405, 406, 407, 408, 409, 410, 411, 412, 413, 414, 415, 416, 417, 478, 479, 480, 481, 482, 486, 487, 488, 489, 490, 491, 492, 493, 494, 495, 496, 497, 498, 499, 558, 559, 560, 561, 562, 567, 568, 569, 570, 571, 572, 573, 574, 575, 576, 577, 578, 579, 580, 638, 639, 640, 641, 642, 648, 649, 650, 651, 652, 653, 654, 655, 656, 657, 658, 659, 660, 661, 662, 718, 719, 720, 721, 722, 729, 730, 731, 732, 733, 734, 735, 736, 737, 738, 739, 740, 741, 742, 743, 744, 798, 799, 800, 801, 802, 810, 811, 812, 813, 814, 815, 816, 817, 818, 819, 820, 821, 822, 823, 824, 825, 826, 878, 879, 880, 881, 882, 892, 893, 894, 895, 896, 897, 898, 899, 900, 901, 902, 903, 904, 905, 906, 907, 908, 958, 959, 960, 961, 962, 974, 975, 976, 977, 978, 979, 980, 981, 982, 983, 984, 985, 986, 987, 988, 989, 1039, 1040, 1041, 1057, 1058, 1059, 1060, 1061, 1062, 1063, 1064, 1065, 1066, 1067, 1068, 1069, 1070, 1071, 1119, 1120, 1121, 1139, 1140, 1141, 1142, 1143, 1144, 1145, 1146, 1147, 1148, 1149, 1150, 1151, 1152, 1153, 1199, 1200, 1201, 1221, 1222, 1223, 1224, 1225, 1226, 1227, 1228, 1229, 1230, 1231, 1232, 1233, 1234, 1235, 1279, 1280, 1281, 1304, 1305, 1306, 1307, 1308, 1309, 1310, 1311, 1312, 1313, 1314, 1315, 1316, 1359, 1360, 1361, 1386, 1387, 1388, 1389, 1390, 1391, 1392, 1393, 1394, 1395, 1396, 1397, 1398, 1439, 1440, 1441, 1469, 1470, 1471, 1472, 1473, 1474, 1475, 1476, 1477, 1478, 1479, 1480, 1519, 1520, 1521, 1551, 1552, 1553, 1554, 1555, 1556, 1557, 1558, 1559, 1560, 1561, 1562, 1599, 1600, 1601, 1633, 1634, 1635, 1636, 1637, 1638, 1639, 1640, 1641, 1642, 1643, 1644, 1679, 1680, 1681, 1716, 1717, 1718, 1719, 1720, 1721, 1722, 1723, 1724, 1725, 1759, 1760, 1761, 1798, 1799, 1800, 1801, 1802, 1803, 1804, 1805, 1806, 1807, 1839, 1840, 1841, 1880, 1881, 1882, 1883, 1884, 1885, 1886, 1887, 1888, 1889, 1919, 1920, 1921, 1963, 1964, 1965, 1966, 1967, 1968, 1969, 1970, 1971, 1999, 2000, 2001, 2045, 2046, 2047, 2048, 2049, 2050, 2051, 2052, 2053, 2079, 2080, 2081, 2127, 2128, 2129, 2130, 2131, 2132, 2133, 2134, 2160, 2210, 2211, 2212, 2213, 2214, 2215, 2216, 2240, 2292, 2293, 2294, 2295, 2296, 2297, 2298, 2320, 2375, 2376, 2377, 2378, 2379, 2380, 2400, 2457, 2458, 2459, 2460, 2461, 2462, 2480, 2539, 2540, 2541, 2542, 2543, 2560, 2622, 2623, 2624, 2625, 2640, 2704, 2705, 2706, 2707, 2720, 2786, 2787, 2788, 2789, 2800, 2869, 2870, 2871, 2880, 2951, 2952, 2960, 3033, 3034, 3040, 3116, 3120, 3198, 3200, 3280, 3360, 3362, 3440, 3444, 3520, 3526, 3527, 3600, 3608, 3609, 3680, 3689, 3690, 3691, 3760, 3771, 3772, 3773, 3774, 3840, 3853, 3854, 3855, 3856, 3920, 3935, 3936, 3937, 3938, 4000, 4017, 4018, 4019, 4020, 4021, 4080, 4098, 4099, 4100, 4101, 4102, 4103, 4160, 4180, 4181, 4182, 4183, 4184, 4185, 4240, 4262, 4263, 4264, 4265, 4266, 4267, 4268, 4320, 4344, 4345, 4346, 4347, 4348, 4349, 4350, 4400, 4426, 4427, 4428, 4429, 4430, 4431, 4432, 4433, 4479, 4480, 4481, 4507, 4508, 4509, 4510, 4511, 4512, 4513, 4514, 4515, 4559, 4560, 4561, 4589, 4590, 4591, 4592, 4593, 4594, 4595, 4596, 4597, 4639, 4640, 4641, 4671, 4672, 4673, 4674, 4675, 4676, 4677, 4678, 4679, 4680, 4719, 4720, 4721, 4753, 4754, 4755, 4756, 4757, 4758, 4759, 4760, 4761, 4762, 4799, 4800, 4801, 4835, 4836, 4837, 4838, 4839, 4840, 4841, 4842, 4843, 4844, 4879, 4880, 4881, 4916, 4917, 4918, 4919, 4920, 4921, 4922, 4923, 4924, 4925, 4926, 4927, 4959, 4960, 4961, 4998, 4999, 5000, 5001, 5002, 5003, 5004, 5005, 5006, 5007, 5008, 5009, 5039, 5040, 5041, 5080, 5081, 5082, 5083, 5084, 5085, 5086, 5087, 5088, 5089, 5090, 5091, 5119, 5120, 5121, 5162, 5163, 5164, 5165, 5166, 5167, 5168, 5169, 5170, 5171, 5172, 5173, 5174, 5199, 5200, 5201, 5244, 5245, 5246, 5247, 5248, 5249, 5250, 5251, 5252, 5253, 5254, 5255, 5256, 5279, 5280, 5281, 5325, 5326, 5327, 5328, 5329, 5330, 5331, 5332, 5333, 5334, 5335, 5336, 5337, 5338, 5339, 5359, 5360, 5361, 5407, 5408, 5409, 5410, 5411, 5412, 5413, 5414, 5415, 5416, 5417, 5418, 5419, 5420, 5421, 5439, 5440, 5441, 5489, 5490, 5491, 5492, 5493, 5494, 5495, 5496, 5497, 5498, 5499, 5500, 5501, 5502, 5503, 5519, 5520, 5521, 5571, 5572, 5573, 5574, 5575, 5576, 5577, 5578, 5579, 5580, 5581, 5582, 5583, 5584, 5585, 5586, 5598, 5599, 5600, 5601, 5602, 5652, 5653, 5654, 5655, 5656, 5657, 5658, 5659, 5660, 5661, 5662, 5663, 5664, 5665, 5666, 5667, 5668, 5678, 5679, 5680, 5681, 5682, 5734, 5735, 5736, 5737, 5738, 5739, 5740, 5741, 5742, 5743, 5744, 5745, 5746, 5747, 5748, 5749, 5750, 5758, 5759, 5760, 5761, 5762, 5816, 5817, 5818, 5819, 5820, 5821, 5822, 5823, 5824, 5825, 5826, 5827, 5828, 5829, 5830, 5831, 5838, 5839, 5840, 5841, 5842, 5898, 5899, 5900, 5901, 5902, 5903, 5904, 5905, 5906, 5907, 5908, 5909, 5910, 5911, 5912, 5918, 5919, 5920, 5921, 5922, 5980, 5981, 5982, 5983, 5984, 5985, 5986, 5987, 5988, 5989, 5990, 5991, 5992, 5993, 5998, 5999, 6000, 6001, 6002, 6061, 6062, 6063, 6064, 6065, 6066, 6067, 6068, 6069, 6070, 6071, 6072, 6073, 6074, 6078, 6079, 6080, 6081, 6082, 6143, 6144, 6145, 6146, 6147, 6148, 6149, 6150, 6151, 6152, 6153, 6154, 6155, 6158, 6159, 6160, 6161, 6162, 6225, 6226, 6227, 6228, 6229, 6230, 6231, 6232, 6233, 6234, 6235, 6236, 6238, 6239, 6240, 6241, 6242, 6307, 6308, 6309, 6310, 6311, 6312, 6313, 6314, 6315, 6316, 6317, 6318, 6319, 6320, 6321, 6322, 6389, 6390, 6391, 6392, 6393, 6394, 6395, 6396, 6397, 6398, 6399, 6400, 6401, 6402, 6470, 6471, 6472, 6473, 6474, 6475, 6476, 6477, 6478, 6479, 6480, 6481, 6482, 6552, 6553, 6554, 6555, 6556, 6557, 6558, 6559, 6560]\n",
      "CPU times: user 163 ms, sys: 4.03 ms, total: 167 ms\n",
      "Wall time: 166 ms\n"
     ]
    }
   ],
   "source": [
    "%%time\n",
    "n_total = len(simulation.dataframe)\n",
    "n_train = len(simulation.dataframe[simulation.dataframe.type_of == \"train\"])\n",
    "n_val = len(simulation.dataframe[simulation.dataframe.type_of == \"val\"])\n",
    "n_test = len(simulation.dataframe[simulation.dataframe.type_of == \"test\"])\n",
    "n_train_hamiltonians = len(simulation.train_ids)\n",
    "n_val_hamiltonians = len(simulation.val_ids)\n",
    "n_test_hamiltonians = len(simulation.test_ids)\n",
    "n_total_hamiltonians = n_train_hamiltonians + n_val_hamiltonians + n_test_hamiltonians\n",
    "\n",
    "print(\"% train: \", n_train/n_total)\n",
    "print(\"% val: \",  n_val/n_total)\n",
    "print(\"% test: \", n_test/n_total)\n",
    "print(\"% train + val + test: \", (n_train+n_val+n_test)/n_total)\n",
    "print(\"\\n\")\n",
    "print(\"number of train hamiltonians: \", n_train_hamiltonians)\n",
    "print(\"number of val hamiltonians: \", n_val_hamiltonians)\n",
    "print(\"number of test hamiltonians: \", n_test_hamiltonians)\n",
    "print(\"total number of hamiltonians: \", n_total_hamiltonians)\n",
    "print(\"\\n\")\n",
    "print(\"train ids: \", simulation.train_ids)\n",
    "print(\"val ids: \", simulation.val_ids)\n",
    "print(\"test ids: \", simulation.test_ids)"
   ]
  },
  {
   "cell_type": "markdown",
   "metadata": {
    "papermill": {
     "duration": 0.036051,
     "end_time": "2020-07-18T06:11:48.292172",
     "exception": false,
     "start_time": "2020-07-18T06:11:48.256121",
     "status": "completed"
    },
    "tags": []
   },
   "source": [
    "#### Checking summaries"
   ]
  },
  {
   "cell_type": "code",
   "execution_count": 31,
   "metadata": {
    "execution": {
     "iopub.execute_input": "2020-07-18T06:11:48.368284Z",
     "iopub.status.busy": "2020-07-18T06:11:48.367790Z",
     "iopub.status.idle": "2020-07-18T06:11:48.386553Z",
     "shell.execute_reply": "2020-07-18T06:11:48.386236Z"
    },
    "papermill": {
     "duration": 0.057217,
     "end_time": "2020-07-18T06:11:48.386603",
     "exception": false,
     "start_time": "2020-07-18T06:11:48.329386",
     "status": "completed"
    },
    "tags": []
   },
   "outputs": [
    {
     "name": "stdout",
     "output_type": "stream",
     "text": [
      "length of ham_summary:  6561\n",
      "CPU times: user 52 µs, sys: 1 µs, total: 53 µs\n",
      "Wall time: 54.6 µs\n"
     ]
    },
    {
     "data": {
      "text/html": [
       "<div>\n",
       "<style scoped>\n",
       "    .dataframe tbody tr th:only-of-type {\n",
       "        vertical-align: middle;\n",
       "    }\n",
       "\n",
       "    .dataframe tbody tr th {\n",
       "        vertical-align: top;\n",
       "    }\n",
       "\n",
       "    .dataframe thead th {\n",
       "        text-align: right;\n",
       "    }\n",
       "</style>\n",
       "<table border=\"1\" class=\"dataframe\">\n",
       "  <thead>\n",
       "    <tr style=\"text-align: right;\">\n",
       "      <th></th>\n",
       "      <th>t1</th>\n",
       "      <th>t2</th>\n",
       "      <th>type_of</th>\n",
       "      <th>0</th>\n",
       "      <th>1</th>\n",
       "      <th>phase</th>\n",
       "      <th>pred_phase</th>\n",
       "    </tr>\n",
       "    <tr>\n",
       "      <th>id</th>\n",
       "      <th></th>\n",
       "      <th></th>\n",
       "      <th></th>\n",
       "      <th></th>\n",
       "      <th></th>\n",
       "      <th></th>\n",
       "      <th></th>\n",
       "    </tr>\n",
       "  </thead>\n",
       "  <tbody>\n",
       "    <tr>\n",
       "      <th>0</th>\n",
       "      <td>-2.0</td>\n",
       "      <td>-2.00</td>\n",
       "      <td>test</td>\n",
       "      <td>0.73</td>\n",
       "      <td>0.27</td>\n",
       "      <td>999</td>\n",
       "      <td>0</td>\n",
       "    </tr>\n",
       "    <tr>\n",
       "      <th>1</th>\n",
       "      <td>-2.0</td>\n",
       "      <td>-1.95</td>\n",
       "      <td>test</td>\n",
       "      <td>0.73</td>\n",
       "      <td>0.27</td>\n",
       "      <td>0</td>\n",
       "      <td>0</td>\n",
       "    </tr>\n",
       "    <tr>\n",
       "      <th>2</th>\n",
       "      <td>-2.0</td>\n",
       "      <td>-1.90</td>\n",
       "      <td>test</td>\n",
       "      <td>0.70</td>\n",
       "      <td>0.30</td>\n",
       "      <td>0</td>\n",
       "      <td>0</td>\n",
       "    </tr>\n",
       "    <tr>\n",
       "      <th>3</th>\n",
       "      <td>-2.0</td>\n",
       "      <td>-1.85</td>\n",
       "      <td>test</td>\n",
       "      <td>0.78</td>\n",
       "      <td>0.22</td>\n",
       "      <td>0</td>\n",
       "      <td>0</td>\n",
       "    </tr>\n",
       "    <tr>\n",
       "      <th>4</th>\n",
       "      <td>-2.0</td>\n",
       "      <td>-1.80</td>\n",
       "      <td>test</td>\n",
       "      <td>0.74</td>\n",
       "      <td>0.26</td>\n",
       "      <td>0</td>\n",
       "      <td>0</td>\n",
       "    </tr>\n",
       "    <tr>\n",
       "      <th>...</th>\n",
       "      <td>...</td>\n",
       "      <td>...</td>\n",
       "      <td>...</td>\n",
       "      <td>...</td>\n",
       "      <td>...</td>\n",
       "      <td>...</td>\n",
       "      <td>...</td>\n",
       "    </tr>\n",
       "    <tr>\n",
       "      <th>6556</th>\n",
       "      <td>2.0</td>\n",
       "      <td>1.80</td>\n",
       "      <td>test</td>\n",
       "      <td>0.72</td>\n",
       "      <td>0.28</td>\n",
       "      <td>0</td>\n",
       "      <td>0</td>\n",
       "    </tr>\n",
       "    <tr>\n",
       "      <th>6557</th>\n",
       "      <td>2.0</td>\n",
       "      <td>1.85</td>\n",
       "      <td>test</td>\n",
       "      <td>0.76</td>\n",
       "      <td>0.24</td>\n",
       "      <td>0</td>\n",
       "      <td>0</td>\n",
       "    </tr>\n",
       "    <tr>\n",
       "      <th>6558</th>\n",
       "      <td>2.0</td>\n",
       "      <td>1.90</td>\n",
       "      <td>test</td>\n",
       "      <td>0.75</td>\n",
       "      <td>0.25</td>\n",
       "      <td>0</td>\n",
       "      <td>0</td>\n",
       "    </tr>\n",
       "    <tr>\n",
       "      <th>6559</th>\n",
       "      <td>2.0</td>\n",
       "      <td>1.95</td>\n",
       "      <td>test</td>\n",
       "      <td>0.73</td>\n",
       "      <td>0.27</td>\n",
       "      <td>0</td>\n",
       "      <td>0</td>\n",
       "    </tr>\n",
       "    <tr>\n",
       "      <th>6560</th>\n",
       "      <td>2.0</td>\n",
       "      <td>2.00</td>\n",
       "      <td>test</td>\n",
       "      <td>0.69</td>\n",
       "      <td>0.31</td>\n",
       "      <td>999</td>\n",
       "      <td>0</td>\n",
       "    </tr>\n",
       "  </tbody>\n",
       "</table>\n",
       "<p>6561 rows × 7 columns</p>\n",
       "</div>"
      ],
      "text/plain": [
       "       t1    t2 type_of     0     1  phase  pred_phase\n",
       "id                                                    \n",
       "0    -2.0 -2.00    test  0.73  0.27    999           0\n",
       "1    -2.0 -1.95    test  0.73  0.27      0           0\n",
       "2    -2.0 -1.90    test  0.70  0.30      0           0\n",
       "3    -2.0 -1.85    test  0.78  0.22      0           0\n",
       "4    -2.0 -1.80    test  0.74  0.26      0           0\n",
       "...   ...   ...     ...   ...   ...    ...         ...\n",
       "6556  2.0  1.80    test  0.72  0.28      0           0\n",
       "6557  2.0  1.85    test  0.76  0.24      0           0\n",
       "6558  2.0  1.90    test  0.75  0.25      0           0\n",
       "6559  2.0  1.95    test  0.73  0.27      0           0\n",
       "6560  2.0  2.00    test  0.69  0.31    999           0\n",
       "\n",
       "[6561 rows x 7 columns]"
      ]
     },
     "execution_count": 31,
     "metadata": {},
     "output_type": "execute_result"
    }
   ],
   "source": [
    "%%time\n",
    "ham_summary = simulation.hamiltonian_summary\n",
    "print(\"length of ham_summary: \", len(ham_summary))\n",
    "ham_summary"
   ]
  },
  {
   "cell_type": "code",
   "execution_count": 32,
   "metadata": {
    "execution": {
     "iopub.execute_input": "2020-07-18T06:11:48.463317Z",
     "iopub.status.busy": "2020-07-18T06:11:48.462969Z",
     "iopub.status.idle": "2020-07-18T06:11:48.490275Z",
     "shell.execute_reply": "2020-07-18T06:11:48.489998Z"
    },
    "papermill": {
     "duration": 0.066438,
     "end_time": "2020-07-18T06:11:48.490328",
     "exception": false,
     "start_time": "2020-07-18T06:11:48.423890",
     "status": "completed"
    },
    "tags": []
   },
   "outputs": [
    {
     "data": {
      "text/html": [
       "<div>\n",
       "<style scoped>\n",
       "    .dataframe tbody tr th:only-of-type {\n",
       "        vertical-align: middle;\n",
       "    }\n",
       "\n",
       "    .dataframe tbody tr th {\n",
       "        vertical-align: top;\n",
       "    }\n",
       "\n",
       "    .dataframe thead th {\n",
       "        text-align: right;\n",
       "    }\n",
       "</style>\n",
       "<table border=\"1\" class=\"dataframe\">\n",
       "  <thead>\n",
       "    <tr style=\"text-align: right;\">\n",
       "      <th></th>\n",
       "      <th>t1</th>\n",
       "      <th>t2</th>\n",
       "      <th>0</th>\n",
       "      <th>1</th>\n",
       "      <th>phase</th>\n",
       "      <th>pred_phase</th>\n",
       "    </tr>\n",
       "  </thead>\n",
       "  <tbody>\n",
       "    <tr>\n",
       "      <th>count</th>\n",
       "      <td>6561.000000</td>\n",
       "      <td>6.561000e+03</td>\n",
       "      <td>6561.000000</td>\n",
       "      <td>6561.000000</td>\n",
       "      <td>6561.000000</td>\n",
       "      <td>6561.000000</td>\n",
       "    </tr>\n",
       "    <tr>\n",
       "      <th>mean</th>\n",
       "      <td>0.000000</td>\n",
       "      <td>-4.331917e-18</td>\n",
       "      <td>0.707564</td>\n",
       "      <td>0.292436</td>\n",
       "      <td>25.002134</td>\n",
       "      <td>0.164457</td>\n",
       "    </tr>\n",
       "    <tr>\n",
       "      <th>std</th>\n",
       "      <td>1.169134</td>\n",
       "      <td>1.169134e+00</td>\n",
       "      <td>0.195065</td>\n",
       "      <td>0.195065</td>\n",
       "      <td>154.495657</td>\n",
       "      <td>0.370718</td>\n",
       "    </tr>\n",
       "    <tr>\n",
       "      <th>min</th>\n",
       "      <td>-2.000000</td>\n",
       "      <td>-2.000000e+00</td>\n",
       "      <td>0.370000</td>\n",
       "      <td>0.000000</td>\n",
       "      <td>0.000000</td>\n",
       "      <td>0.000000</td>\n",
       "    </tr>\n",
       "    <tr>\n",
       "      <th>25%</th>\n",
       "      <td>-1.000000</td>\n",
       "      <td>-1.000000e+00</td>\n",
       "      <td>0.520000</td>\n",
       "      <td>0.100000</td>\n",
       "      <td>0.000000</td>\n",
       "      <td>0.000000</td>\n",
       "    </tr>\n",
       "    <tr>\n",
       "      <th>50%</th>\n",
       "      <td>0.000000</td>\n",
       "      <td>0.000000e+00</td>\n",
       "      <td>0.700000</td>\n",
       "      <td>0.300000</td>\n",
       "      <td>1.000000</td>\n",
       "      <td>0.000000</td>\n",
       "    </tr>\n",
       "    <tr>\n",
       "      <th>75%</th>\n",
       "      <td>1.000000</td>\n",
       "      <td>1.000000e+00</td>\n",
       "      <td>0.900000</td>\n",
       "      <td>0.480000</td>\n",
       "      <td>1.000000</td>\n",
       "      <td>0.000000</td>\n",
       "    </tr>\n",
       "    <tr>\n",
       "      <th>max</th>\n",
       "      <td>2.000000</td>\n",
       "      <td>2.000000e+00</td>\n",
       "      <td>1.000000</td>\n",
       "      <td>0.630000</td>\n",
       "      <td>999.000000</td>\n",
       "      <td>1.000000</td>\n",
       "    </tr>\n",
       "  </tbody>\n",
       "</table>\n",
       "</div>"
      ],
      "text/plain": [
       "                t1            t2            0            1        phase  \\\n",
       "count  6561.000000  6.561000e+03  6561.000000  6561.000000  6561.000000   \n",
       "mean      0.000000 -4.331917e-18     0.707564     0.292436    25.002134   \n",
       "std       1.169134  1.169134e+00     0.195065     0.195065   154.495657   \n",
       "min      -2.000000 -2.000000e+00     0.370000     0.000000     0.000000   \n",
       "25%      -1.000000 -1.000000e+00     0.520000     0.100000     0.000000   \n",
       "50%       0.000000  0.000000e+00     0.700000     0.300000     1.000000   \n",
       "75%       1.000000  1.000000e+00     0.900000     0.480000     1.000000   \n",
       "max       2.000000  2.000000e+00     1.000000     0.630000   999.000000   \n",
       "\n",
       "        pred_phase  \n",
       "count  6561.000000  \n",
       "mean      0.164457  \n",
       "std       0.370718  \n",
       "min       0.000000  \n",
       "25%       0.000000  \n",
       "50%       0.000000  \n",
       "75%       0.000000  \n",
       "max       1.000000  "
      ]
     },
     "execution_count": 32,
     "metadata": {},
     "output_type": "execute_result"
    }
   ],
   "source": [
    "ham_summary.describe()"
   ]
  },
  {
   "cell_type": "code",
   "execution_count": 33,
   "metadata": {
    "execution": {
     "iopub.execute_input": "2020-07-18T06:11:48.571203Z",
     "iopub.status.busy": "2020-07-18T06:11:48.570888Z",
     "iopub.status.idle": "2020-07-18T06:11:48.585297Z",
     "shell.execute_reply": "2020-07-18T06:11:48.585605Z"
    },
    "papermill": {
     "duration": 0.057508,
     "end_time": "2020-07-18T06:11:48.585673",
     "exception": false,
     "start_time": "2020-07-18T06:11:48.528165",
     "status": "completed"
    },
    "tags": []
   },
   "outputs": [
    {
     "name": "stdout",
     "output_type": "stream",
     "text": [
      "length of ham_summary:  656100\n"
     ]
    },
    {
     "data": {
      "text/html": [
       "<div>\n",
       "<style scoped>\n",
       "    .dataframe tbody tr th:only-of-type {\n",
       "        vertical-align: middle;\n",
       "    }\n",
       "\n",
       "    .dataframe tbody tr th {\n",
       "        vertical-align: top;\n",
       "    }\n",
       "\n",
       "    .dataframe thead th {\n",
       "        text-align: right;\n",
       "    }\n",
       "</style>\n",
       "<table border=\"1\" class=\"dataframe\">\n",
       "  <thead>\n",
       "    <tr style=\"text-align: right;\">\n",
       "      <th></th>\n",
       "      <th>id</th>\n",
       "      <th>phase</th>\n",
       "      <th>pred_phase</th>\n",
       "      <th>type_of</th>\n",
       "    </tr>\n",
       "  </thead>\n",
       "  <tbody>\n",
       "    <tr>\n",
       "      <th>0</th>\n",
       "      <td>0</td>\n",
       "      <td>999</td>\n",
       "      <td>0</td>\n",
       "      <td>test</td>\n",
       "    </tr>\n",
       "    <tr>\n",
       "      <th>1</th>\n",
       "      <td>0</td>\n",
       "      <td>999</td>\n",
       "      <td>0</td>\n",
       "      <td>test</td>\n",
       "    </tr>\n",
       "    <tr>\n",
       "      <th>2</th>\n",
       "      <td>0</td>\n",
       "      <td>999</td>\n",
       "      <td>0</td>\n",
       "      <td>test</td>\n",
       "    </tr>\n",
       "    <tr>\n",
       "      <th>3</th>\n",
       "      <td>0</td>\n",
       "      <td>999</td>\n",
       "      <td>0</td>\n",
       "      <td>test</td>\n",
       "    </tr>\n",
       "    <tr>\n",
       "      <th>4</th>\n",
       "      <td>0</td>\n",
       "      <td>999</td>\n",
       "      <td>0</td>\n",
       "      <td>test</td>\n",
       "    </tr>\n",
       "    <tr>\n",
       "      <th>...</th>\n",
       "      <td>...</td>\n",
       "      <td>...</td>\n",
       "      <td>...</td>\n",
       "      <td>...</td>\n",
       "    </tr>\n",
       "    <tr>\n",
       "      <th>656095</th>\n",
       "      <td>6560</td>\n",
       "      <td>999</td>\n",
       "      <td>1</td>\n",
       "      <td>test</td>\n",
       "    </tr>\n",
       "    <tr>\n",
       "      <th>656096</th>\n",
       "      <td>6560</td>\n",
       "      <td>999</td>\n",
       "      <td>0</td>\n",
       "      <td>test</td>\n",
       "    </tr>\n",
       "    <tr>\n",
       "      <th>656097</th>\n",
       "      <td>6560</td>\n",
       "      <td>999</td>\n",
       "      <td>0</td>\n",
       "      <td>test</td>\n",
       "    </tr>\n",
       "    <tr>\n",
       "      <th>656098</th>\n",
       "      <td>6560</td>\n",
       "      <td>999</td>\n",
       "      <td>1</td>\n",
       "      <td>test</td>\n",
       "    </tr>\n",
       "    <tr>\n",
       "      <th>656099</th>\n",
       "      <td>6560</td>\n",
       "      <td>999</td>\n",
       "      <td>1</td>\n",
       "      <td>test</td>\n",
       "    </tr>\n",
       "  </tbody>\n",
       "</table>\n",
       "<p>656100 rows × 4 columns</p>\n",
       "</div>"
      ],
      "text/plain": [
       "          id  phase  pred_phase type_of\n",
       "0          0    999           0    test\n",
       "1          0    999           0    test\n",
       "2          0    999           0    test\n",
       "3          0    999           0    test\n",
       "4          0    999           0    test\n",
       "...      ...    ...         ...     ...\n",
       "656095  6560    999           1    test\n",
       "656096  6560    999           0    test\n",
       "656097  6560    999           0    test\n",
       "656098  6560    999           1    test\n",
       "656099  6560    999           1    test\n",
       "\n",
       "[656100 rows x 4 columns]"
      ]
     },
     "execution_count": 33,
     "metadata": {},
     "output_type": "execute_result"
    }
   ],
   "source": [
    "eigen_summary = simulation.eigenvector_summary\n",
    "print(\"length of ham_summary: \", len(eigen_summary))\n",
    "eigen_summary"
   ]
  },
  {
   "cell_type": "markdown",
   "metadata": {
    "papermill": {
     "duration": 0.037615,
     "end_time": "2020-07-18T06:11:48.661255",
     "exception": false,
     "start_time": "2020-07-18T06:11:48.623640",
     "status": "completed"
    },
    "tags": []
   },
   "source": [
    "#### Checking accuracies"
   ]
  },
  {
   "cell_type": "code",
   "execution_count": 34,
   "metadata": {
    "execution": {
     "iopub.execute_input": "2020-07-18T06:11:48.744271Z",
     "iopub.status.busy": "2020-07-18T06:11:48.743946Z",
     "iopub.status.idle": "2020-07-18T06:11:48.754663Z",
     "shell.execute_reply": "2020-07-18T06:11:48.755057Z"
    },
    "papermill": {
     "duration": 0.055668,
     "end_time": "2020-07-18T06:11:48.755134",
     "exception": false,
     "start_time": "2020-07-18T06:11:48.699466",
     "status": "completed"
    },
    "tags": []
   },
   "outputs": [
    {
     "data": {
      "text/plain": [
       "{'eigenvector_train': 0.8157374100719424,\n",
       " 'eigenvector_val': 0.695974,\n",
       " 'eigenvector_test': 0.5307938388625593,\n",
       " 'hamiltonian_train': 0.9928057553956835,\n",
       " 'hamiltonian_val': 0.6698,\n",
       " 'hamiltonian_test': 0.44786729857819907}"
      ]
     },
     "execution_count": 34,
     "metadata": {},
     "output_type": "execute_result"
    }
   ],
   "source": [
    "simulation.accuracy"
   ]
  },
  {
   "cell_type": "markdown",
   "metadata": {
    "papermill": {
     "duration": 0.037673,
     "end_time": "2020-07-18T06:11:48.832126",
     "exception": false,
     "start_time": "2020-07-18T06:11:48.794453",
     "status": "completed"
    },
    "tags": []
   },
   "source": [
    "#### Checking data stored in  memory"
   ]
  },
  {
   "cell_type": "code",
   "execution_count": 35,
   "metadata": {
    "execution": {
     "iopub.execute_input": "2020-07-18T06:11:48.910982Z",
     "iopub.status.busy": "2020-07-18T06:11:48.910665Z",
     "iopub.status.idle": "2020-07-18T06:11:48.920852Z",
     "shell.execute_reply": "2020-07-18T06:11:48.921153Z"
    },
    "papermill": {
     "duration": 0.050743,
     "end_time": "2020-07-18T06:11:48.921220",
     "exception": false,
     "start_time": "2020-07-18T06:11:48.870477",
     "status": "completed"
    },
    "tags": []
   },
   "outputs": [
    {
     "data": {
      "text/plain": [
       "[]"
      ]
     },
     "execution_count": 35,
     "metadata": {},
     "output_type": "execute_result"
    }
   ],
   "source": [
    "ham_summary_list = simulation.hamiltonian_summary_list\n",
    "ham_summary_list"
   ]
  },
  {
   "cell_type": "code",
   "execution_count": 36,
   "metadata": {
    "execution": {
     "iopub.execute_input": "2020-07-18T06:11:48.999053Z",
     "iopub.status.busy": "2020-07-18T06:11:48.998742Z",
     "iopub.status.idle": "2020-07-18T06:11:49.009164Z",
     "shell.execute_reply": "2020-07-18T06:11:49.008843Z"
    },
    "papermill": {
     "duration": 0.049964,
     "end_time": "2020-07-18T06:11:49.009215",
     "exception": false,
     "start_time": "2020-07-18T06:11:48.959251",
     "status": "completed"
    },
    "tags": []
   },
   "outputs": [
    {
     "data": {
      "text/plain": [
       "[]"
      ]
     },
     "execution_count": 36,
     "metadata": {},
     "output_type": "execute_result"
    }
   ],
   "source": [
    "eigen_summary_list = simulation.eigenvector_summary_list\n",
    "eigen_summary_list"
   ]
  },
  {
   "cell_type": "code",
   "execution_count": 37,
   "metadata": {
    "execution": {
     "iopub.execute_input": "2020-07-18T06:11:49.089055Z",
     "iopub.status.busy": "2020-07-18T06:11:49.088730Z",
     "iopub.status.idle": "2020-07-18T06:11:49.098929Z",
     "shell.execute_reply": "2020-07-18T06:11:49.099232Z"
    },
    "papermill": {
     "duration": 0.051188,
     "end_time": "2020-07-18T06:11:49.099298",
     "exception": false,
     "start_time": "2020-07-18T06:11:49.048110",
     "status": "completed"
    },
    "tags": []
   },
   "outputs": [
    {
     "data": {
      "text/plain": [
       "{'eigenvector_train': [],\n",
       " 'eigenvector_val': [],\n",
       " 'eigenvector_test': [],\n",
       " 'hamiltonian_train': [],\n",
       " 'hamiltonian_val': [],\n",
       " 'hamiltonian_test': []}"
      ]
     },
     "execution_count": 37,
     "metadata": {},
     "output_type": "execute_result"
    }
   ],
   "source": [
    "accuracy_list = simulation.accuracy_list\n",
    "accuracy_list"
   ]
  },
  {
   "cell_type": "code",
   "execution_count": null,
   "metadata": {
    "papermill": {
     "duration": 0.038422,
     "end_time": "2020-07-18T06:11:49.177239",
     "exception": false,
     "start_time": "2020-07-18T06:11:49.138817",
     "status": "completed"
    },
    "tags": []
   },
   "outputs": [],
   "source": []
  },
  {
   "cell_type": "code",
   "execution_count": null,
   "metadata": {
    "papermill": {
     "duration": 0.039653,
     "end_time": "2020-07-18T06:11:49.255965",
     "exception": false,
     "start_time": "2020-07-18T06:11:49.216312",
     "status": "completed"
    },
    "tags": []
   },
   "outputs": [],
   "source": []
  },
  {
   "cell_type": "code",
   "execution_count": 38,
   "metadata": {
    "execution": {
     "iopub.execute_input": "2020-07-18T06:11:49.335832Z",
     "iopub.status.busy": "2020-07-18T06:11:49.335521Z",
     "iopub.status.idle": "2020-07-18T06:11:49.344884Z",
     "shell.execute_reply": "2020-07-18T06:11:49.345192Z"
    },
    "papermill": {
     "duration": 0.050106,
     "end_time": "2020-07-18T06:11:49.345260",
     "exception": false,
     "start_time": "2020-07-18T06:11:49.295154",
     "status": "completed"
    },
    "tags": []
   },
   "outputs": [],
   "source": [
    "#simulation.fourier_matrix"
   ]
  },
  {
   "cell_type": "code",
   "execution_count": 39,
   "metadata": {
    "execution": {
     "iopub.execute_input": "2020-07-18T06:11:49.426423Z",
     "iopub.status.busy": "2020-07-18T06:11:49.426098Z",
     "iopub.status.idle": "2020-07-18T06:11:49.436332Z",
     "shell.execute_reply": "2020-07-18T06:11:49.435938Z"
    },
    "papermill": {
     "duration": 0.052044,
     "end_time": "2020-07-18T06:11:49.436420",
     "exception": false,
     "start_time": "2020-07-18T06:11:49.384376",
     "status": "completed"
    },
    "tags": []
   },
   "outputs": [],
   "source": [
    "#simulation.fourier_matrix.shape"
   ]
  },
  {
   "cell_type": "code",
   "execution_count": 40,
   "metadata": {
    "execution": {
     "iopub.execute_input": "2020-07-18T06:11:49.515753Z",
     "iopub.status.busy": "2020-07-18T06:11:49.515259Z",
     "iopub.status.idle": "2020-07-18T06:11:49.525376Z",
     "shell.execute_reply": "2020-07-18T06:11:49.525050Z"
    },
    "papermill": {
     "duration": 0.050266,
     "end_time": "2020-07-18T06:11:49.525428",
     "exception": false,
     "start_time": "2020-07-18T06:11:49.475162",
     "status": "completed"
    },
    "tags": []
   },
   "outputs": [],
   "source": [
    "#simulation.fourier_matrix[:,0]"
   ]
  },
  {
   "cell_type": "code",
   "execution_count": 41,
   "metadata": {
    "execution": {
     "iopub.execute_input": "2020-07-18T06:11:49.760908Z",
     "iopub.status.busy": "2020-07-18T06:11:49.758971Z",
     "iopub.status.idle": "2020-07-18T06:11:49.938672Z",
     "shell.execute_reply": "2020-07-18T06:11:49.940374Z"
    },
    "papermill": {
     "duration": 0.376094,
     "end_time": "2020-07-18T06:11:49.940713",
     "exception": false,
     "start_time": "2020-07-18T06:11:49.564619",
     "status": "completed"
    },
    "tags": []
   },
   "outputs": [],
   "source": [
    "#simulation.fourier_matrix[:,1]"
   ]
  },
  {
   "cell_type": "code",
   "execution_count": 42,
   "metadata": {
    "execution": {
     "iopub.execute_input": "2020-07-18T06:11:50.056437Z",
     "iopub.status.busy": "2020-07-18T06:11:50.056120Z",
     "iopub.status.idle": "2020-07-18T06:11:50.065949Z",
     "shell.execute_reply": "2020-07-18T06:11:50.065618Z"
    },
    "papermill": {
     "duration": 0.049937,
     "end_time": "2020-07-18T06:11:50.066001",
     "exception": false,
     "start_time": "2020-07-18T06:11:50.016064",
     "status": "completed"
    },
    "tags": []
   },
   "outputs": [],
   "source": [
    "#np.exp(-1j*2*np.pi*3/100)"
   ]
  },
  {
   "cell_type": "code",
   "execution_count": 43,
   "metadata": {
    "execution": {
     "iopub.execute_input": "2020-07-18T06:11:50.148381Z",
     "iopub.status.busy": "2020-07-18T06:11:50.148025Z",
     "iopub.status.idle": "2020-07-18T06:11:50.157532Z",
     "shell.execute_reply": "2020-07-18T06:11:50.157789Z"
    },
    "papermill": {
     "duration": 0.052517,
     "end_time": "2020-07-18T06:11:50.157861",
     "exception": false,
     "start_time": "2020-07-18T06:11:50.105344",
     "status": "completed"
    },
    "tags": []
   },
   "outputs": [],
   "source": [
    "#for i in range(1,50):\n",
    "#    print(\"\\n\")\n",
    "#    print(i)\n",
    "#    print(np.sum((np.real(simulation.fourier_matrix[:,i]) - np.real(simulation.fourier_matrix[:,-i]))**2))\n",
    "#    print(np.sum((np.imag(simulation.fourier_matrix[:,i])+ np.imag(simulation.fourier_matrix[:,-i]))**2))"
   ]
  },
  {
   "cell_type": "code",
   "execution_count": 44,
   "metadata": {
    "execution": {
     "iopub.execute_input": "2020-07-18T06:11:50.238226Z",
     "iopub.status.busy": "2020-07-18T06:11:50.237918Z",
     "iopub.status.idle": "2020-07-18T06:11:50.258107Z",
     "shell.execute_reply": "2020-07-18T06:11:50.257772Z"
    },
    "papermill": {
     "duration": 0.061653,
     "end_time": "2020-07-18T06:11:50.258159",
     "exception": false,
     "start_time": "2020-07-18T06:11:50.196506",
     "status": "completed"
    },
    "tags": []
   },
   "outputs": [],
   "source": [
    "#print(simulation.fourier_matrix[:,0])"
   ]
  },
  {
   "cell_type": "code",
   "execution_count": 45,
   "metadata": {
    "execution": {
     "iopub.execute_input": "2020-07-18T06:11:50.338549Z",
     "iopub.status.busy": "2020-07-18T06:11:50.338227Z",
     "iopub.status.idle": "2020-07-18T06:11:50.348558Z",
     "shell.execute_reply": "2020-07-18T06:11:50.348247Z"
    },
    "papermill": {
     "duration": 0.051159,
     "end_time": "2020-07-18T06:11:50.348616",
     "exception": false,
     "start_time": "2020-07-18T06:11:50.297457",
     "status": "completed"
    },
    "tags": []
   },
   "outputs": [],
   "source": [
    "#print(simulation.fourier_matrix[:,50])"
   ]
  },
  {
   "cell_type": "code",
   "execution_count": null,
   "metadata": {
    "papermill": {
     "duration": 0.03848,
     "end_time": "2020-07-18T06:11:50.429097",
     "exception": false,
     "start_time": "2020-07-18T06:11:50.390617",
     "status": "completed"
    },
    "tags": []
   },
   "outputs": [],
   "source": []
  }
 ],
 "metadata": {
  "celltoolbar": "Tags",
  "kernelspec": {
   "display_name": "ml_top_phases",
   "language": "python",
   "name": "ml_top_phases"
  },
  "language_info": {
   "codemirror_mode": {
    "name": "ipython",
    "version": 3
   },
   "file_extension": ".py",
   "mimetype": "text/x-python",
   "name": "python",
   "nbconvert_exporter": "python",
   "pygments_lexer": "ipython3",
   "version": "3.6.10"
  },
  "papermill": {
   "duration": 195.083115,
   "end_time": "2020-07-18T06:11:50.578493",
   "environment_variables": {},
   "exception": null,
   "input_path": "0_simulation_template.ipynb",
   "output_path": "zzz_ssh1_dst_best_04_wavevector_sites_simulation_notebook.ipynb",
   "parameters": {
    "allowed_windings": [
     0,
     1
    ],
    "csv_path": "/home/rio/ssh_csvs/ssh1/periodic_100_6561.csv",
    "features_to_use": null,
    "fit_params": null,
    "fourier_features_to_use": [
     0,
     18,
     28,
     30
    ],
    "fourier_fillna": false,
    "fourier_mode": "dst",
    "fourier_normalize": false,
    "fourier_real": null,
    "model_kw": {
     "criterion": "entropy"
    },
    "model_name": "DecisionTreeClassifier",
    "n_experiments": 100,
    "pred_params": null,
    "random_features": false,
    "random_state": 1019,
    "save_accuracy": true,
    "save_eigenvector": true,
    "save_hamiltonian": true,
    "save_models": true,
    "shuffle_features": false,
    "shuffle_rows": true,
    "simulation_dir": "/home/rio/ssh_simulations/ssh1/periodic_100_6561/dst_best_04_wavevector_sites",
    "start_n": 0,
    "store_in_lists": false,
    "val_split": 0.9
   },
   "start_time": "2020-07-18T06:08:35.495378",
   "version": "2.1.0"
  }
 },
 "nbformat": 4,
 "nbformat_minor": 2
}