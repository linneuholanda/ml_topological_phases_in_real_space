{
 "cells": [
  {
   "cell_type": "markdown",
   "metadata": {
    "papermill": {
     "duration": 0.056567,
     "end_time": "2020-07-16T01:39:48.896370",
     "exception": false,
     "start_time": "2020-07-16T01:39:48.839803",
     "status": "completed"
    },
    "tags": []
   },
   "source": [
    "# Simulation template \n",
    "\n",
    "In this notebook we run the machine learning analysis of topological phase transitions occurring  in both nearest-neighbours SSH models (ssh1) and second neighbours models (ssh2) as decribed in the paper [Machine learning topological phases in real space](https://arxiv.org/abs/1901.01963). Here the simulation is run with features generated from fourier components in the first scenario. This scenario is characterized by using only the EVEN wavevector space eigenmodes, computed from ALL real space components."
   ]
  },
  {
   "cell_type": "markdown",
   "metadata": {
    "papermill": {
     "duration": 0.016419,
     "end_time": "2020-07-16T01:39:48.932659",
     "exception": false,
     "start_time": "2020-07-16T01:39:48.916240",
     "status": "completed"
    },
    "tags": []
   },
   "source": [
    "## Defining parameters"
   ]
  },
  {
   "cell_type": "code",
   "execution_count": 1,
   "metadata": {
    "execution": {
     "iopub.execute_input": "2020-07-16T01:39:48.969234Z",
     "iopub.status.busy": "2020-07-16T01:39:48.968718Z",
     "iopub.status.idle": "2020-07-16T01:39:49.552172Z",
     "shell.execute_reply": "2020-07-16T01:39:49.551851Z"
    },
    "papermill": {
     "duration": 0.603237,
     "end_time": "2020-07-16T01:39:49.552231",
     "exception": false,
     "start_time": "2020-07-16T01:39:48.948994",
     "status": "completed"
    },
    "tags": []
   },
   "outputs": [
    {
     "name": "stdout",
     "output_type": "stream",
     "text": [
      "CPU times: user 738 ms, sys: 277 ms, total: 1.02 s\n",
      "Wall time: 578 ms\n"
     ]
    }
   ],
   "source": [
    "%%time\n",
    "%load_ext autoreload\n",
    "%autoreload 2\n",
    "from simulation import *"
   ]
  },
  {
   "cell_type": "code",
   "execution_count": 2,
   "metadata": {
    "execution": {
     "iopub.execute_input": "2020-07-16T01:39:49.588046Z",
     "iopub.status.busy": "2020-07-16T01:39:49.587493Z",
     "iopub.status.idle": "2020-07-16T01:39:49.599366Z",
     "shell.execute_reply": "2020-07-16T01:39:49.599044Z"
    },
    "papermill": {
     "duration": 0.03026,
     "end_time": "2020-07-16T01:39:49.599419",
     "exception": false,
     "start_time": "2020-07-16T01:39:49.569159",
     "status": "completed"
    },
    "tags": [
     "parameters"
    ]
   },
   "outputs": [
    {
     "name": "stdout",
     "output_type": "stream",
     "text": [
      "CPU times: user 2 µs, sys: 1 µs, total: 3 µs\n",
      "Wall time: 4.29 µs\n"
     ]
    }
   ],
   "source": [
    "%%time\n",
    "### Dataset and simulation parameters\n",
    "#csv_path = SSH2_PERIODIC_100_6561_CSV \n",
    "csv_path = SSH1_PERIODIC_100_6561_CSV \n",
    "model_name = \"DecisionTreeClassifier\"\n",
    "model_kw = {\"criterion\":\"entropy\"}\n",
    "allowed_windings = [0,1]\n",
    "#allowed_windings = [-1,0,1,2]\n",
    "simulation_dir = SSH1_PERIODIC_1ST_SCENARIO_100_6561_SIMULATION_DIR\n",
    "#simulation_dir = SSH2_PERIODIC_ENGINEERED_100_6561_SIMULATION_DIR\n",
    "val_split = 0.9  \n",
    "features_to_use = None\n",
    "shuffle_features = False\n",
    "random_state = 763\n",
    "\n",
    "### Fourier features\n",
    "fourier_mode = \"dst\"\n",
    "fourier_features_to_use = None\n",
    "fourier_real = \"imag\"\n",
    "fourier_normalize = False\n",
    "fourier_fillna = False\n",
    "\n",
    "### Running a simulation\n",
    "n_experiments = 5\n",
    "start_n = 0\n",
    "fit_params = None\n",
    "#mode=mode\n",
    "shuffle_rows = True\n",
    "pred_params = None\n",
    "random_features = False\n",
    "######### DON'T SET THIS TO TRUE UNLESS YOUR DATASET IS SMALL!! WILL FLOOD YOUR MEMORY!!!\n",
    "store_in_lists = False   \n",
    "########## BELOW ARE THE PARAMETERS THAT CONTROL WHAT WILL BE SAVED\n",
    "save_eigenvector=True\n",
    "save_hamiltonian=True \n",
    "save_accuracy=True \n",
    "save_models=True"
   ]
  },
  {
   "cell_type": "code",
   "execution_count": 3,
   "metadata": {
    "execution": {
     "iopub.execute_input": "2020-07-16T01:39:49.636405Z",
     "iopub.status.busy": "2020-07-16T01:39:49.635925Z",
     "iopub.status.idle": "2020-07-16T01:39:49.726465Z",
     "shell.execute_reply": "2020-07-16T01:39:49.726779Z"
    },
    "papermill": {
     "duration": 0.110388,
     "end_time": "2020-07-16T01:39:49.726849",
     "exception": false,
     "start_time": "2020-07-16T01:39:49.616461",
     "status": "completed"
    },
    "tags": [
     "injected-parameters"
    ]
   },
   "outputs": [],
   "source": [
    "# Parameters\n",
    "model_kw = {\"criterion\": \"entropy\"}\n",
    "allowed_windings = [0, 1]\n",
    "val_split = 0.9\n",
    "features_to_use = [0, 1, 2, 3, 49, 50]\n",
    "shuffle_features = False\n",
    "n_experiments = 100\n",
    "start_n = 0\n",
    "fit_params = None\n",
    "shuffle_rows = True\n",
    "pred_params = None\n",
    "random_features = False\n",
    "store_in_lists = False\n",
    "save_eigenvector = True\n",
    "save_hamiltonian = True\n",
    "save_accuracy = True\n",
    "save_models = True\n",
    "csv_path = \"/home/rio/ssh_csvs/ssh1/periodic_100_6561.csv\"\n",
    "model_name = \"DecisionTreeClassifier\"\n",
    "simulation_dir = \"/home/rio/ssh_simulations/ssh1/periodic_1st_scenario_100_6561\"\n",
    "random_state = 9427454\n",
    "fourier_features_to_use = None\n",
    "fourier_mode = None\n",
    "fourier_real = None\n",
    "fourier_normalize = None\n",
    "fourier_fillna = None\n"
   ]
  },
  {
   "cell_type": "code",
   "execution_count": 4,
   "metadata": {
    "execution": {
     "iopub.execute_input": "2020-07-16T01:39:49.765930Z",
     "iopub.status.busy": "2020-07-16T01:39:49.765285Z",
     "iopub.status.idle": "2020-07-16T01:39:55.312381Z",
     "shell.execute_reply": "2020-07-16T01:39:55.312053Z"
    },
    "papermill": {
     "duration": 5.567388,
     "end_time": "2020-07-16T01:39:55.312451",
     "exception": false,
     "start_time": "2020-07-16T01:39:49.745063",
     "status": "completed"
    },
    "tags": []
   },
   "outputs": [
    {
     "name": "stdout",
     "output_type": "stream",
     "text": [
      "Info on all data: \n",
      "\n",
      "<class 'pandas.core.frame.DataFrame'>\n",
      "Int64Index: 656100 entries, 0 to 656099\n",
      "Columns: 108 entries, id to feat99\n",
      "dtypes: float64(103), int32(3), object(2)\n",
      "memory usage: 538.1+ MB\n",
      "CPU times: user 5.16 s, sys: 263 ms, total: 5.42 s\n",
      "Wall time: 5.42 s\n"
     ]
    },
    {
     "data": {
      "text/html": [
       "<div>\n",
       "<style scoped>\n",
       "    .dataframe tbody tr th:only-of-type {\n",
       "        vertical-align: middle;\n",
       "    }\n",
       "\n",
       "    .dataframe tbody tr th {\n",
       "        vertical-align: top;\n",
       "    }\n",
       "\n",
       "    .dataframe thead th {\n",
       "        text-align: right;\n",
       "    }\n",
       "</style>\n",
       "<table border=\"1\" class=\"dataframe\">\n",
       "  <thead>\n",
       "    <tr style=\"text-align: right;\">\n",
       "      <th></th>\n",
       "      <th>id</th>\n",
       "      <th>path</th>\n",
       "      <th>t1</th>\n",
       "      <th>t2</th>\n",
       "      <th>winding</th>\n",
       "      <th>phase</th>\n",
       "      <th>pred_phase</th>\n",
       "      <th>type_of</th>\n",
       "      <th>feat0</th>\n",
       "      <th>feat1</th>\n",
       "      <th>...</th>\n",
       "      <th>feat90</th>\n",
       "      <th>feat91</th>\n",
       "      <th>feat92</th>\n",
       "      <th>feat93</th>\n",
       "      <th>feat94</th>\n",
       "      <th>feat95</th>\n",
       "      <th>feat96</th>\n",
       "      <th>feat97</th>\n",
       "      <th>feat98</th>\n",
       "      <th>feat99</th>\n",
       "    </tr>\n",
       "  </thead>\n",
       "  <tbody>\n",
       "    <tr>\n",
       "      <th>0</th>\n",
       "      <td>0</td>\n",
       "      <td>H_-2_-2_0.509296.dat</td>\n",
       "      <td>-2.0</td>\n",
       "      <td>-2.0</td>\n",
       "      <td>0.509296</td>\n",
       "      <td>999</td>\n",
       "      <td>666</td>\n",
       "      <td>test</td>\n",
       "      <td>0.100000</td>\n",
       "      <td>0.100000</td>\n",
       "      <td>...</td>\n",
       "      <td>0.100000</td>\n",
       "      <td>0.100000</td>\n",
       "      <td>0.100000</td>\n",
       "      <td>0.100000</td>\n",
       "      <td>0.100000</td>\n",
       "      <td>0.100000</td>\n",
       "      <td>0.100000</td>\n",
       "      <td>0.100000</td>\n",
       "      <td>0.100000</td>\n",
       "      <td>0.100000</td>\n",
       "    </tr>\n",
       "    <tr>\n",
       "      <th>1</th>\n",
       "      <td>0</td>\n",
       "      <td>H_-2_-2_0.509296.dat</td>\n",
       "      <td>-2.0</td>\n",
       "      <td>-2.0</td>\n",
       "      <td>0.509296</td>\n",
       "      <td>999</td>\n",
       "      <td>666</td>\n",
       "      <td>test</td>\n",
       "      <td>0.141421</td>\n",
       "      <td>0.141142</td>\n",
       "      <td>...</td>\n",
       "      <td>0.114412</td>\n",
       "      <td>0.108967</td>\n",
       "      <td>0.123928</td>\n",
       "      <td>0.119406</td>\n",
       "      <td>0.131490</td>\n",
       "      <td>0.127962</td>\n",
       "      <td>0.136978</td>\n",
       "      <td>0.134500</td>\n",
       "      <td>0.140306</td>\n",
       "      <td>0.138916</td>\n",
       "    </tr>\n",
       "    <tr>\n",
       "      <th>2</th>\n",
       "      <td>0</td>\n",
       "      <td>H_-2_-2_0.509296.dat</td>\n",
       "      <td>-2.0</td>\n",
       "      <td>-2.0</td>\n",
       "      <td>0.509296</td>\n",
       "      <td>999</td>\n",
       "      <td>666</td>\n",
       "      <td>test</td>\n",
       "      <td>0.141421</td>\n",
       "      <td>0.140306</td>\n",
       "      <td>...</td>\n",
       "      <td>0.043702</td>\n",
       "      <td>0.026500</td>\n",
       "      <td>0.075777</td>\n",
       "      <td>0.060214</td>\n",
       "      <td>0.103092</td>\n",
       "      <td>0.090145</td>\n",
       "      <td>0.123928</td>\n",
       "      <td>0.114412</td>\n",
       "      <td>0.136978</td>\n",
       "      <td>0.131490</td>\n",
       "    </tr>\n",
       "    <tr>\n",
       "      <th>3</th>\n",
       "      <td>0</td>\n",
       "      <td>H_-2_-2_0.509296.dat</td>\n",
       "      <td>-2.0</td>\n",
       "      <td>-2.0</td>\n",
       "      <td>0.509296</td>\n",
       "      <td>999</td>\n",
       "      <td>666</td>\n",
       "      <td>test</td>\n",
       "      <td>-0.100000</td>\n",
       "      <td>0.100000</td>\n",
       "      <td>...</td>\n",
       "      <td>-0.100000</td>\n",
       "      <td>0.100000</td>\n",
       "      <td>-0.100000</td>\n",
       "      <td>0.100000</td>\n",
       "      <td>-0.100000</td>\n",
       "      <td>0.100000</td>\n",
       "      <td>-0.100000</td>\n",
       "      <td>0.100000</td>\n",
       "      <td>-0.100000</td>\n",
       "      <td>0.100000</td>\n",
       "    </tr>\n",
       "    <tr>\n",
       "      <th>4</th>\n",
       "      <td>0</td>\n",
       "      <td>H_-2_-2_0.509296.dat</td>\n",
       "      <td>-2.0</td>\n",
       "      <td>-2.0</td>\n",
       "      <td>0.509296</td>\n",
       "      <td>999</td>\n",
       "      <td>666</td>\n",
       "      <td>test</td>\n",
       "      <td>0.000509</td>\n",
       "      <td>-0.008372</td>\n",
       "      <td>...</td>\n",
       "      <td>-0.082713</td>\n",
       "      <td>-0.089753</td>\n",
       "      <td>-0.067684</td>\n",
       "      <td>-0.075347</td>\n",
       "      <td>-0.051587</td>\n",
       "      <td>-0.059753</td>\n",
       "      <td>-0.034677</td>\n",
       "      <td>-0.043217</td>\n",
       "      <td>-0.017220</td>\n",
       "      <td>-0.026000</td>\n",
       "    </tr>\n",
       "  </tbody>\n",
       "</table>\n",
       "<p>5 rows × 108 columns</p>\n",
       "</div>"
      ],
      "text/plain": [
       "   id                  path   t1   t2   winding  phase  pred_phase type_of  \\\n",
       "0   0  H_-2_-2_0.509296.dat -2.0 -2.0  0.509296    999         666    test   \n",
       "1   0  H_-2_-2_0.509296.dat -2.0 -2.0  0.509296    999         666    test   \n",
       "2   0  H_-2_-2_0.509296.dat -2.0 -2.0  0.509296    999         666    test   \n",
       "3   0  H_-2_-2_0.509296.dat -2.0 -2.0  0.509296    999         666    test   \n",
       "4   0  H_-2_-2_0.509296.dat -2.0 -2.0  0.509296    999         666    test   \n",
       "\n",
       "      feat0     feat1  ...    feat90    feat91    feat92    feat93    feat94  \\\n",
       "0  0.100000  0.100000  ...  0.100000  0.100000  0.100000  0.100000  0.100000   \n",
       "1  0.141421  0.141142  ...  0.114412  0.108967  0.123928  0.119406  0.131490   \n",
       "2  0.141421  0.140306  ...  0.043702  0.026500  0.075777  0.060214  0.103092   \n",
       "3 -0.100000  0.100000  ... -0.100000  0.100000 -0.100000  0.100000 -0.100000   \n",
       "4  0.000509 -0.008372  ... -0.082713 -0.089753 -0.067684 -0.075347 -0.051587   \n",
       "\n",
       "     feat95    feat96    feat97    feat98    feat99  \n",
       "0  0.100000  0.100000  0.100000  0.100000  0.100000  \n",
       "1  0.127962  0.136978  0.134500  0.140306  0.138916  \n",
       "2  0.090145  0.123928  0.114412  0.136978  0.131490  \n",
       "3  0.100000 -0.100000  0.100000 -0.100000  0.100000  \n",
       "4 -0.059753 -0.034677 -0.043217 -0.017220 -0.026000  \n",
       "\n",
       "[5 rows x 108 columns]"
      ]
     },
     "execution_count": 4,
     "metadata": {},
     "output_type": "execute_result"
    }
   ],
   "source": [
    "%%time\n",
    "#Starting an instance of Simulation with a decision tree\n",
    "model = DecisionTreeClassifier(criterion=\"entropy\")\n",
    "#dict_args = {\"csv_path\":csv_path, \"model\":model, \"allowed_windings\":allowed_windings,\\\n",
    "#             \"simulation_dir\":simulation_dir, \"val_split\":val_split, \"features_to_use\":features_to_use,\\\n",
    "#            \"shuffle_features\":shuffle_features, \"random_state\":random_state}\n",
    "simulation = Simulation(csv_path,model_name,model_kw,allowed_windings,simulation_dir,val_split,features_to_use,\\\n",
    "                       shuffle_features,fourier_mode,fourier_features_to_use,fourier_real,\\\n",
    "                       fourier_normalize, fourier_fillna , random_state)\n",
    "#simulation = Simulation(**dict_args)\n",
    "\n",
    "\n",
    "#(self, csv_path, model_name, model_kw, allowed_windings, simulation_dir = None, val_split = 0, \n",
    "# features_to_use = None, shuffle_features = False, fourier_mode=None, fourier_features_to_use=None,\n",
    "# fourier_real = False, fourier_normalize = False, Fourier_fillna=False, random_state = None):\n",
    "\n",
    "\n",
    "\n",
    "print(\"Info on all data: \\n\")\n",
    "simulation.dataframe.info()\n",
    "simulation.dataframe.head()"
   ]
  },
  {
   "cell_type": "markdown",
   "metadata": {
    "papermill": {
     "duration": 0.01856,
     "end_time": "2020-07-16T01:39:55.349632",
     "exception": false,
     "start_time": "2020-07-16T01:39:55.331072",
     "status": "completed"
    },
    "tags": []
   },
   "source": [
    "####  Fourier features"
   ]
  },
  {
   "cell_type": "code",
   "execution_count": 5,
   "metadata": {
    "execution": {
     "iopub.execute_input": "2020-07-16T01:39:55.389898Z",
     "iopub.status.busy": "2020-07-16T01:39:55.389586Z",
     "iopub.status.idle": "2020-07-16T01:39:55.401208Z",
     "shell.execute_reply": "2020-07-16T01:39:55.400881Z"
    },
    "papermill": {
     "duration": 0.032103,
     "end_time": "2020-07-16T01:39:55.401263",
     "exception": false,
     "start_time": "2020-07-16T01:39:55.369160",
     "status": "completed"
    },
    "tags": []
   },
   "outputs": [
    {
     "name": "stdout",
     "output_type": "stream",
     "text": [
      "CPU times: user 2 µs, sys: 0 ns, total: 2 µs\n",
      "Wall time: 4.29 µs\n"
     ]
    }
   ],
   "source": [
    "%%time\n",
    "#simulation.generate_fourier_df()\n",
    "if simulation.fourier_mode is not None:\n",
    "    simulation.fourier_dataframe.info() \n",
    "    simulation.fourier_dataframe.sample(15)\n"
   ]
  },
  {
   "cell_type": "code",
   "execution_count": 6,
   "metadata": {
    "execution": {
     "iopub.execute_input": "2020-07-16T01:39:55.441926Z",
     "iopub.status.busy": "2020-07-16T01:39:55.441490Z",
     "iopub.status.idle": "2020-07-16T01:39:55.491785Z",
     "shell.execute_reply": "2020-07-16T01:39:55.491464Z"
    },
    "papermill": {
     "duration": 0.072859,
     "end_time": "2020-07-16T01:39:55.491837",
     "exception": false,
     "start_time": "2020-07-16T01:39:55.418978",
     "status": "completed"
    },
    "tags": []
   },
   "outputs": [
    {
     "name": "stdout",
     "output_type": "stream",
     "text": [
      "features_to_use: \n",
      "\n",
      "\n",
      "[0, 1, 2, 3, 49, 50]\n",
      "Number of real space features:\n",
      "\n",
      "\n",
      "6\n",
      "\n",
      "\n",
      "fourier_features: \n",
      "\n",
      "\n",
      "None\n",
      "\n",
      "\n",
      "\n",
      "\n",
      "Fourier operator: \n",
      "None\n",
      "\n",
      "\n"
     ]
    }
   ],
   "source": [
    "print(\"features_to_use: \")\n",
    "print(\"\\n\")\n",
    "print(simulation.features_to_use)\n",
    "if simulation.features_to_use is not None:\n",
    "    print(\"Number of real space features:\")\n",
    "    print(\"\\n\")\n",
    "    print(len(simulation.features_to_use))\n",
    "print(\"\\n\")\n",
    "print(\"fourier_features: \")\n",
    "print(\"\\n\")\n",
    "print(simulation.fourier_features)\n",
    "print(\"\\n\")\n",
    "if simulation.fourier_features is not None:\n",
    "    print(\"Number of Fourier features: \")\n",
    "    print(\"\\n\")\n",
    "    print(len(simulation.fourier_features))\n",
    "print(\"\\n\")\n",
    "print(\"Fourier operator: \")\n",
    "print(simulation.fourier_operator)\n",
    "print(\"\\n\")\n",
    "if simulation.fourier_operator is not None:\n",
    "    print(\"Shape of Fourier operator: \")\n",
    "    print(simulation.fourier_operator.shape)"
   ]
  },
  {
   "cell_type": "code",
   "execution_count": 7,
   "metadata": {
    "execution": {
     "iopub.execute_input": "2020-07-16T01:39:55.536613Z",
     "iopub.status.busy": "2020-07-16T01:39:55.536076Z",
     "iopub.status.idle": "2020-07-16T01:39:55.599295Z",
     "shell.execute_reply": "2020-07-16T01:39:55.599665Z"
    },
    "papermill": {
     "duration": 0.086646,
     "end_time": "2020-07-16T01:39:55.599746",
     "exception": false,
     "start_time": "2020-07-16T01:39:55.513100",
     "status": "completed"
    },
    "tags": []
   },
   "outputs": [],
   "source": [
    "#a = np.array([1+1j,2+3j,4+8j])\n",
    "#np.imag(a)"
   ]
  },
  {
   "cell_type": "code",
   "execution_count": 8,
   "metadata": {
    "execution": {
     "iopub.execute_input": "2020-07-16T01:39:55.640744Z",
     "iopub.status.busy": "2020-07-16T01:39:55.640436Z",
     "iopub.status.idle": "2020-07-16T01:39:55.725593Z",
     "shell.execute_reply": "2020-07-16T01:39:55.723800Z"
    },
    "papermill": {
     "duration": 0.105958,
     "end_time": "2020-07-16T01:39:55.725849",
     "exception": false,
     "start_time": "2020-07-16T01:39:55.619891",
     "status": "completed"
    },
    "tags": []
   },
   "outputs": [],
   "source": [
    "#plt.plot(np.imag(simulation.fourier_operator[:,0]))"
   ]
  },
  {
   "cell_type": "code",
   "execution_count": 9,
   "metadata": {
    "execution": {
     "iopub.execute_input": "2020-07-16T01:39:55.789900Z",
     "iopub.status.busy": "2020-07-16T01:39:55.789596Z",
     "iopub.status.idle": "2020-07-16T01:39:55.803842Z",
     "shell.execute_reply": "2020-07-16T01:39:55.803503Z"
    },
    "papermill": {
     "duration": 0.034963,
     "end_time": "2020-07-16T01:39:55.803898",
     "exception": false,
     "start_time": "2020-07-16T01:39:55.768935",
     "status": "completed"
    },
    "tags": []
   },
   "outputs": [],
   "source": [
    "#np.sin(np.pi/(50))*2"
   ]
  },
  {
   "cell_type": "code",
   "execution_count": 10,
   "metadata": {
    "execution": {
     "iopub.execute_input": "2020-07-16T01:39:55.842018Z",
     "iopub.status.busy": "2020-07-16T01:39:55.841713Z",
     "iopub.status.idle": "2020-07-16T01:39:55.905381Z",
     "shell.execute_reply": "2020-07-16T01:39:55.907093Z"
    },
    "papermill": {
     "duration": 0.085714,
     "end_time": "2020-07-16T01:39:55.907397",
     "exception": false,
     "start_time": "2020-07-16T01:39:55.821683",
     "status": "completed"
    },
    "tags": []
   },
   "outputs": [],
   "source": [
    "#2*np.sin(np.pi/50*49)"
   ]
  },
  {
   "cell_type": "code",
   "execution_count": 11,
   "metadata": {
    "execution": {
     "iopub.execute_input": "2020-07-16T01:39:55.982355Z",
     "iopub.status.busy": "2020-07-16T01:39:55.982022Z",
     "iopub.status.idle": "2020-07-16T01:39:55.991799Z",
     "shell.execute_reply": "2020-07-16T01:39:55.991516Z"
    },
    "papermill": {
     "duration": 0.031266,
     "end_time": "2020-07-16T01:39:55.991855",
     "exception": false,
     "start_time": "2020-07-16T01:39:55.960589",
     "status": "completed"
    },
    "tags": []
   },
   "outputs": [],
   "source": [
    "#simulation.dataframe.iloc[331456,:]"
   ]
  },
  {
   "cell_type": "code",
   "execution_count": 12,
   "metadata": {
    "execution": {
     "iopub.execute_input": "2020-07-16T01:39:56.029280Z",
     "iopub.status.busy": "2020-07-16T01:39:56.028885Z",
     "iopub.status.idle": "2020-07-16T01:39:56.088231Z",
     "shell.execute_reply": "2020-07-16T01:39:56.087256Z"
    },
    "papermill": {
     "duration": 0.078562,
     "end_time": "2020-07-16T01:39:56.088379",
     "exception": false,
     "start_time": "2020-07-16T01:39:56.009817",
     "status": "completed"
    },
    "tags": []
   },
   "outputs": [],
   "source": [
    "#for ix, obj in enumerate(simulation.dataframe.iloc[331456,:].values):\n",
    "#    print(ix,obj)"
   ]
  },
  {
   "cell_type": "code",
   "execution_count": 13,
   "metadata": {
    "execution": {
     "iopub.execute_input": "2020-07-16T01:39:56.142503Z",
     "iopub.status.busy": "2020-07-16T01:39:56.142194Z",
     "iopub.status.idle": "2020-07-16T01:39:56.153079Z",
     "shell.execute_reply": "2020-07-16T01:39:56.153374Z"
    },
    "papermill": {
     "duration": 0.032411,
     "end_time": "2020-07-16T01:39:56.153463",
     "exception": false,
     "start_time": "2020-07-16T01:39:56.121052",
     "status": "completed"
    },
    "tags": []
   },
   "outputs": [],
   "source": [
    "#simulation.fourier_engineered_dataframe.dct_feat0"
   ]
  },
  {
   "cell_type": "code",
   "execution_count": 14,
   "metadata": {
    "execution": {
     "iopub.execute_input": "2020-07-16T01:39:56.191659Z",
     "iopub.status.busy": "2020-07-16T01:39:56.191348Z",
     "iopub.status.idle": "2020-07-16T01:39:56.237152Z",
     "shell.execute_reply": "2020-07-16T01:39:56.236802Z"
    },
    "papermill": {
     "duration": 0.065691,
     "end_time": "2020-07-16T01:39:56.237207",
     "exception": false,
     "start_time": "2020-07-16T01:39:56.171516",
     "status": "completed"
    },
    "tags": []
   },
   "outputs": [],
   "source": [
    "#simulation.features"
   ]
  },
  {
   "cell_type": "code",
   "execution_count": 15,
   "metadata": {
    "execution": {
     "iopub.execute_input": "2020-07-16T01:39:56.279440Z",
     "iopub.status.busy": "2020-07-16T01:39:56.279074Z",
     "iopub.status.idle": "2020-07-16T01:39:56.340907Z",
     "shell.execute_reply": "2020-07-16T01:39:56.341371Z"
    },
    "papermill": {
     "duration": 0.082422,
     "end_time": "2020-07-16T01:39:56.341465",
     "exception": false,
     "start_time": "2020-07-16T01:39:56.259043",
     "status": "completed"
    },
    "tags": []
   },
   "outputs": [],
   "source": [
    "#simulation.fourier_matrix"
   ]
  },
  {
   "cell_type": "code",
   "execution_count": 16,
   "metadata": {
    "execution": {
     "iopub.execute_input": "2020-07-16T01:39:56.390718Z",
     "iopub.status.busy": "2020-07-16T01:39:56.390411Z",
     "iopub.status.idle": "2020-07-16T01:39:56.400091Z",
     "shell.execute_reply": "2020-07-16T01:39:56.399767Z"
    },
    "papermill": {
     "duration": 0.030209,
     "end_time": "2020-07-16T01:39:56.400150",
     "exception": false,
     "start_time": "2020-07-16T01:39:56.369941",
     "status": "completed"
    },
    "tags": []
   },
   "outputs": [],
   "source": [
    "#1/simulation.n_features*simulation.dataframe.loc[:,simulation.features].sum(axis=1)"
   ]
  },
  {
   "cell_type": "code",
   "execution_count": 17,
   "metadata": {
    "execution": {
     "iopub.execute_input": "2020-07-16T01:39:56.438516Z",
     "iopub.status.busy": "2020-07-16T01:39:56.438002Z",
     "iopub.status.idle": "2020-07-16T01:39:56.508529Z",
     "shell.execute_reply": "2020-07-16T01:39:56.509201Z"
    },
    "papermill": {
     "duration": 0.090813,
     "end_time": "2020-07-16T01:39:56.509332",
     "exception": false,
     "start_time": "2020-07-16T01:39:56.418519",
     "status": "completed"
    },
    "tags": []
   },
   "outputs": [],
   "source": [
    "#df_2 = simulation.fourier_engineered_dataframe[simulation.fourier_engineered_dataframe.phase==2]\n",
    "#df_2.describe()"
   ]
  },
  {
   "cell_type": "code",
   "execution_count": 18,
   "metadata": {
    "execution": {
     "iopub.execute_input": "2020-07-16T01:39:56.571580Z",
     "iopub.status.busy": "2020-07-16T01:39:56.571087Z",
     "iopub.status.idle": "2020-07-16T01:39:56.580879Z",
     "shell.execute_reply": "2020-07-16T01:39:56.581184Z"
    },
    "papermill": {
     "duration": 0.032797,
     "end_time": "2020-07-16T01:39:56.581251",
     "exception": false,
     "start_time": "2020-07-16T01:39:56.548454",
     "status": "completed"
    },
    "tags": []
   },
   "outputs": [],
   "source": [
    "#df_1 = simulation.fourier_engineered_dataframe[simulation.fourier_engineered_dataframe.phase==1]\n",
    "#df_1.describe()"
   ]
  },
  {
   "cell_type": "code",
   "execution_count": 19,
   "metadata": {
    "execution": {
     "iopub.execute_input": "2020-07-16T01:39:56.620254Z",
     "iopub.status.busy": "2020-07-16T01:39:56.619763Z",
     "iopub.status.idle": "2020-07-16T01:39:56.693764Z",
     "shell.execute_reply": "2020-07-16T01:39:56.695467Z"
    },
    "papermill": {
     "duration": 0.096124,
     "end_time": "2020-07-16T01:39:56.695775",
     "exception": false,
     "start_time": "2020-07-16T01:39:56.599651",
     "status": "completed"
    },
    "tags": []
   },
   "outputs": [],
   "source": [
    "#df_0 = simulation.fourier_engineered_dataframe[simulation.fourier_engineered_dataframe.phase==0]\n",
    "#df_0.describe()"
   ]
  },
  {
   "cell_type": "code",
   "execution_count": 20,
   "metadata": {
    "execution": {
     "iopub.execute_input": "2020-07-16T01:39:56.763279Z",
     "iopub.status.busy": "2020-07-16T01:39:56.762783Z",
     "iopub.status.idle": "2020-07-16T01:39:56.772742Z",
     "shell.execute_reply": "2020-07-16T01:39:56.772403Z"
    },
    "papermill": {
     "duration": 0.030865,
     "end_time": "2020-07-16T01:39:56.772795",
     "exception": false,
     "start_time": "2020-07-16T01:39:56.741930",
     "status": "completed"
    },
    "tags": []
   },
   "outputs": [],
   "source": [
    "#plt.figure(figsize=(10,10))\n",
    "#plt.scatter(df_1.fourier_feat0,df_1.fourier_feat2)\n",
    "#plt.scatter(df_0.fourier_feat0,df_0.fourier_feat2,alpha=0.4)"
   ]
  },
  {
   "cell_type": "code",
   "execution_count": 21,
   "metadata": {
    "execution": {
     "iopub.execute_input": "2020-07-16T01:39:56.810890Z",
     "iopub.status.busy": "2020-07-16T01:39:56.810554Z",
     "iopub.status.idle": "2020-07-16T01:39:56.828763Z",
     "shell.execute_reply": "2020-07-16T01:39:56.828345Z"
    },
    "papermill": {
     "duration": 0.037531,
     "end_time": "2020-07-16T01:39:56.828824",
     "exception": false,
     "start_time": "2020-07-16T01:39:56.791293",
     "status": "completed"
    },
    "tags": []
   },
   "outputs": [],
   "source": [
    "#plt.scatter(df_0.fourier_feat0,df_0.fourier_feat2,alpha=0.4)"
   ]
  },
  {
   "cell_type": "code",
   "execution_count": 22,
   "metadata": {
    "execution": {
     "iopub.execute_input": "2020-07-16T01:39:56.867060Z",
     "iopub.status.busy": "2020-07-16T01:39:56.866750Z",
     "iopub.status.idle": "2020-07-16T01:39:56.932968Z",
     "shell.execute_reply": "2020-07-16T01:39:56.933452Z"
    },
    "papermill": {
     "duration": 0.086122,
     "end_time": "2020-07-16T01:39:56.933574",
     "exception": false,
     "start_time": "2020-07-16T01:39:56.847452",
     "status": "completed"
    },
    "tags": []
   },
   "outputs": [],
   "source": [
    "#plt.scatter(df_2.fourier_feat0,df_2.fourier_feat2)"
   ]
  },
  {
   "cell_type": "code",
   "execution_count": 23,
   "metadata": {
    "execution": {
     "iopub.execute_input": "2020-07-16T01:39:56.993965Z",
     "iopub.status.busy": "2020-07-16T01:39:56.993657Z",
     "iopub.status.idle": "2020-07-16T01:39:57.004821Z",
     "shell.execute_reply": "2020-07-16T01:39:57.004526Z"
    },
    "papermill": {
     "duration": 0.033795,
     "end_time": "2020-07-16T01:39:57.004878",
     "exception": false,
     "start_time": "2020-07-16T01:39:56.971083",
     "status": "completed"
    },
    "tags": []
   },
   "outputs": [],
   "source": [
    "#df_1.hist(figsize=(15,15))"
   ]
  },
  {
   "cell_type": "code",
   "execution_count": 24,
   "metadata": {
    "execution": {
     "iopub.execute_input": "2020-07-16T01:39:57.042789Z",
     "iopub.status.busy": "2020-07-16T01:39:57.042482Z",
     "iopub.status.idle": "2020-07-16T01:39:57.061172Z",
     "shell.execute_reply": "2020-07-16T01:39:57.061427Z"
    },
    "papermill": {
     "duration": 0.038882,
     "end_time": "2020-07-16T01:39:57.061497",
     "exception": false,
     "start_time": "2020-07-16T01:39:57.022615",
     "status": "completed"
    },
    "tags": []
   },
   "outputs": [],
   "source": [
    "#df_0.hist(figsize=(15,15))"
   ]
  },
  {
   "cell_type": "markdown",
   "metadata": {
    "papermill": {
     "duration": 0.018169,
     "end_time": "2020-07-16T01:39:57.098160",
     "exception": false,
     "start_time": "2020-07-16T01:39:57.079991",
     "status": "completed"
    },
    "tags": []
   },
   "source": [
    "#### Checking initialization"
   ]
  },
  {
   "cell_type": "code",
   "execution_count": 25,
   "metadata": {
    "execution": {
     "iopub.execute_input": "2020-07-16T01:39:57.136817Z",
     "iopub.status.busy": "2020-07-16T01:39:57.136497Z",
     "iopub.status.idle": "2020-07-16T01:39:57.166092Z",
     "shell.execute_reply": "2020-07-16T01:39:57.166347Z"
    },
    "papermill": {
     "duration": 0.05031,
     "end_time": "2020-07-16T01:39:57.166418",
     "exception": false,
     "start_time": "2020-07-16T01:39:57.116108",
     "status": "completed"
    },
    "tags": []
   },
   "outputs": [
    {
     "name": "stdout",
     "output_type": "stream",
     "text": [
      "n_features:  100\n",
      "n_hamiltonians:  6561\n",
      "n_ts:  2\n",
      "CPU times: user 458 µs, sys: 45 µs, total: 503 µs\n",
      "Wall time: 320 µs\n"
     ]
    }
   ],
   "source": [
    "%%time\n",
    "n_features = simulation.n_features\n",
    "n_hamiltonians = simulation.n_hamiltonians\n",
    "n_ts = simulation.n_ts\n",
    "\n",
    "print(\"n_features: \", n_features)\n",
    "print(\"n_hamiltonians: \", n_hamiltonians)\n",
    "print(\"n_ts: \", n_ts)"
   ]
  },
  {
   "cell_type": "code",
   "execution_count": 26,
   "metadata": {
    "execution": {
     "iopub.execute_input": "2020-07-16T01:39:57.206480Z",
     "iopub.status.busy": "2020-07-16T01:39:57.206144Z",
     "iopub.status.idle": "2020-07-16T01:39:57.429707Z",
     "shell.execute_reply": "2020-07-16T01:39:57.430009Z"
    },
    "papermill": {
     "duration": 0.24468,
     "end_time": "2020-07-16T01:39:57.430075",
     "exception": false,
     "start_time": "2020-07-16T01:39:57.185395",
     "status": "completed"
    },
    "tags": []
   },
   "outputs": [
    {
     "name": "stdout",
     "output_type": "stream",
     "text": [
      "% train:  0.846822130772748\n",
      "% val:  0.0\n",
      "% test:  0.15317786922725193\n",
      "% train + val + test:  1.0\n",
      "\n",
      "\n",
      "number of train hamiltonians:  5556\n",
      "number of val hamiltonians:  0\n",
      "number of test hamiltonians:  1005\n",
      "total number of hamiltonians:  6561\n",
      "\n",
      "\n",
      "train ids:  [9, 10, 11, 12, 13, 14, 15, 16, 17, 18, 19, 20, 21, 22, 23, 24, 25, 26, 27, 28, 29, 30, 31, 32, 33, 34, 35, 36, 37, 38, 39, 40, 41, 42, 43, 44, 45, 46, 47, 48, 49, 50, 51, 52, 53, 54, 55, 56, 57, 58, 59, 60, 61, 62, 63, 64, 65, 66, 67, 68, 69, 70, 71, 72, 73, 74, 75, 76, 77, 91, 92, 93, 94, 95, 96, 97, 98, 99, 100, 101, 102, 103, 104, 105, 106, 107, 108, 109, 110, 111, 112, 113, 114, 115, 116, 117, 118, 119, 120, 121, 122, 123, 124, 125, 126, 127, 128, 129, 130, 131, 132, 133, 134, 135, 136, 137, 138, 139, 140, 141, 142, 143, 144, 145, 146, 147, 148, 149, 150, 151, 152, 153, 154, 155, 156, 157, 172, 173, 174, 175, 176, 177, 178, 179, 180, 181, 182, 183, 184, 185, 186, 187, 188, 189, 190, 191, 192, 193, 194, 195, 196, 197, 198, 199, 200, 201, 202, 203, 204, 205, 206, 207, 208, 209, 210, 211, 212, 213, 214, 215, 216, 217, 218, 219, 220, 221, 222, 223, 224, 225, 226, 227, 228, 229, 230, 231, 232, 233, 234, 235, 236, 237, 254, 255, 256, 257, 258, 259, 260, 261, 262, 263, 264, 265, 266, 267, 268, 269, 270, 271, 272, 273, 274, 275, 276, 277, 278, 279, 280, 281, 282, 283, 284, 285, 286, 287, 288, 289, 290, 291, 292, 293, 294, 295, 296, 297, 298, 299, 300, 301, 302, 303, 304, 305, 306, 307, 308, 309, 310, 311, 312, 313, 314, 315, 316, 317, 323, 336, 337, 338, 339, 340, 341, 342, 343, 344, 345, 346, 347, 348, 349, 350, 351, 352, 353, 354, 355, 356, 357, 358, 359, 360, 361, 362, 363, 364, 365, 366, 367, 368, 369, 370, 371, 372, 373, 374, 375, 376, 377, 378, 379, 380, 381, 382, 383, 384, 385, 386, 387, 388, 389, 390, 391, 392, 393, 394, 395, 396, 397, 403, 404, 418, 419, 420, 421, 422, 423, 424, 425, 426, 427, 428, 429, 430, 431, 432, 433, 434, 435, 436, 437, 438, 439, 440, 441, 442, 443, 444, 445, 446, 447, 448, 449, 450, 451, 452, 453, 454, 455, 456, 457, 458, 459, 460, 461, 462, 463, 464, 465, 466, 467, 468, 469, 470, 471, 472, 473, 474, 475, 476, 477, 483, 484, 485, 500, 501, 502, 503, 504, 505, 506, 507, 508, 509, 510, 511, 512, 513, 514, 515, 516, 517, 518, 519, 520, 521, 522, 523, 524, 525, 526, 527, 528, 529, 530, 531, 532, 533, 534, 535, 536, 537, 538, 539, 540, 541, 542, 543, 544, 545, 546, 547, 548, 549, 550, 551, 552, 553, 554, 555, 556, 557, 563, 564, 565, 566, 581, 582, 583, 584, 585, 586, 587, 588, 589, 590, 591, 592, 593, 594, 595, 596, 597, 598, 599, 600, 601, 602, 603, 604, 605, 606, 607, 608, 609, 610, 611, 612, 613, 614, 615, 616, 617, 618, 619, 620, 621, 622, 623, 624, 625, 626, 627, 628, 629, 630, 631, 632, 633, 634, 635, 636, 637, 643, 644, 645, 646, 647, 663, 664, 665, 666, 667, 668, 669, 670, 671, 672, 673, 674, 675, 676, 677, 678, 679, 680, 681, 682, 683, 684, 685, 686, 687, 688, 689, 690, 691, 692, 693, 694, 695, 696, 697, 698, 699, 700, 701, 702, 703, 704, 705, 706, 707, 708, 709, 710, 711, 712, 713, 714, 715, 716, 717, 723, 724, 725, 726, 727, 728, 745, 746, 747, 748, 749, 750, 751, 752, 753, 754, 755, 756, 757, 758, 759, 760, 761, 762, 763, 764, 765, 766, 767, 768, 769, 770, 771, 772, 773, 774, 775, 776, 777, 778, 779, 780, 781, 782, 783, 784, 785, 786, 787, 788, 789, 790, 791, 792, 793, 794, 795, 796, 797, 803, 804, 805, 806, 807, 808, 809, 827, 828, 829, 830, 831, 832, 833, 834, 835, 836, 837, 838, 839, 840, 841, 842, 843, 844, 845, 846, 847, 848, 849, 850, 851, 852, 853, 854, 855, 856, 857, 858, 859, 860, 861, 862, 863, 864, 865, 866, 867, 868, 869, 870, 871, 872, 873, 874, 875, 876, 877, 883, 884, 885, 886, 887, 888, 889, 890, 891, 909, 910, 911, 912, 913, 914, 915, 916, 917, 918, 919, 920, 921, 922, 923, 924, 925, 926, 927, 928, 929, 930, 931, 932, 933, 934, 935, 936, 937, 938, 939, 940, 941, 942, 943, 944, 945, 946, 947, 948, 949, 950, 951, 952, 953, 954, 955, 956, 957, 963, 964, 965, 966, 967, 968, 969, 970, 971, 972, 973, 990, 991, 992, 993, 994, 995, 996, 997, 998, 999, 1000, 1001, 1002, 1003, 1004, 1005, 1006, 1007, 1008, 1009, 1010, 1011, 1012, 1013, 1014, 1015, 1016, 1017, 1018, 1019, 1020, 1021, 1022, 1023, 1024, 1025, 1026, 1027, 1028, 1029, 1030, 1031, 1032, 1033, 1034, 1035, 1036, 1037, 1038, 1042, 1043, 1044, 1045, 1046, 1047, 1048, 1049, 1050, 1051, 1052, 1053, 1054, 1055, 1056, 1072, 1073, 1074, 1075, 1076, 1077, 1078, 1079, 1080, 1081, 1082, 1083, 1084, 1085, 1086, 1087, 1088, 1089, 1090, 1091, 1092, 1093, 1094, 1095, 1096, 1097, 1098, 1099, 1100, 1101, 1102, 1103, 1104, 1105, 1106, 1107, 1108, 1109, 1110, 1111, 1112, 1113, 1114, 1115, 1116, 1117, 1118, 1122, 1123, 1124, 1125, 1126, 1127, 1128, 1129, 1130, 1131, 1132, 1133, 1134, 1135, 1136, 1137, 1138, 1154, 1155, 1156, 1157, 1158, 1159, 1160, 1161, 1162, 1163, 1164, 1165, 1166, 1167, 1168, 1169, 1170, 1171, 1172, 1173, 1174, 1175, 1176, 1177, 1178, 1179, 1180, 1181, 1182, 1183, 1184, 1185, 1186, 1187, 1188, 1189, 1190, 1191, 1192, 1193, 1194, 1195, 1196, 1197, 1198, 1202, 1203, 1204, 1205, 1206, 1207, 1208, 1209, 1210, 1211, 1212, 1213, 1214, 1215, 1216, 1217, 1218, 1219, 1220, 1236, 1237, 1238, 1239, 1240, 1241, 1242, 1243, 1244, 1245, 1246, 1247, 1248, 1249, 1250, 1251, 1252, 1253, 1254, 1255, 1256, 1257, 1258, 1259, 1260, 1261, 1262, 1263, 1264, 1265, 1266, 1267, 1268, 1269, 1270, 1271, 1272, 1273, 1274, 1275, 1276, 1277, 1278, 1282, 1283, 1284, 1285, 1286, 1287, 1288, 1289, 1290, 1291, 1292, 1293, 1294, 1295, 1296, 1297, 1298, 1299, 1300, 1301, 1302, 1303, 1317, 1318, 1319, 1320, 1321, 1322, 1323, 1324, 1325, 1326, 1327, 1328, 1329, 1330, 1331, 1332, 1333, 1334, 1335, 1336, 1337, 1338, 1339, 1340, 1341, 1342, 1343, 1344, 1345, 1346, 1347, 1348, 1349, 1350, 1351, 1352, 1353, 1354, 1355, 1356, 1357, 1358, 1362, 1363, 1364, 1365, 1366, 1367, 1368, 1369, 1370, 1371, 1372, 1373, 1374, 1375, 1376, 1377, 1378, 1379, 1380, 1381, 1382, 1383, 1384, 1385, 1399, 1400, 1401, 1402, 1403, 1404, 1405, 1406, 1407, 1408, 1409, 1410, 1411, 1412, 1413, 1414, 1415, 1416, 1417, 1418, 1419, 1420, 1421, 1422, 1423, 1424, 1425, 1426, 1427, 1428, 1429, 1430, 1431, 1432, 1433, 1434, 1435, 1436, 1437, 1438, 1442, 1443, 1444, 1445, 1446, 1447, 1448, 1449, 1450, 1451, 1452, 1453, 1454, 1455, 1456, 1457, 1458, 1459, 1460, 1461, 1462, 1463, 1464, 1465, 1466, 1467, 1468, 1481, 1482, 1483, 1484, 1485, 1486, 1487, 1488, 1489, 1490, 1491, 1492, 1493, 1494, 1495, 1496, 1497, 1498, 1499, 1500, 1501, 1502, 1503, 1504, 1505, 1506, 1507, 1508, 1509, 1510, 1511, 1512, 1513, 1514, 1515, 1516, 1517, 1518, 1522, 1523, 1524, 1525, 1526, 1527, 1528, 1529, 1530, 1531, 1532, 1533, 1534, 1535, 1536, 1537, 1538, 1539, 1540, 1541, 1542, 1543, 1544, 1545, 1546, 1547, 1548, 1549, 1550, 1563, 1564, 1565, 1566, 1567, 1568, 1569, 1570, 1571, 1572, 1573, 1574, 1575, 1576, 1577, 1578, 1579, 1580, 1581, 1582, 1583, 1584, 1585, 1586, 1587, 1588, 1589, 1590, 1591, 1592, 1593, 1594, 1595, 1596, 1597, 1598, 1602, 1603, 1604, 1605, 1606, 1607, 1608, 1609, 1610, 1611, 1612, 1613, 1614, 1615, 1616, 1617, 1618, 1619, 1620, 1621, 1622, 1623, 1624, 1625, 1626, 1627, 1628, 1629, 1630, 1631, 1632, 1645, 1646, 1647, 1648, 1649, 1650, 1651, 1652, 1653, 1654, 1655, 1656, 1657, 1658, 1659, 1660, 1661, 1662, 1663, 1664, 1665, 1666, 1667, 1668, 1669, 1670, 1671, 1672, 1673, 1674, 1675, 1676, 1677, 1678, 1682, 1683, 1684, 1685, 1686, 1687, 1688, 1689, 1690, 1691, 1692, 1693, 1694, 1695, 1696, 1697, 1698, 1699, 1700, 1701, 1702, 1703, 1704, 1705, 1706, 1707, 1708, 1709, 1710, 1711, 1712, 1713, 1714, 1715, 1726, 1727, 1728, 1729, 1730, 1731, 1732, 1733, 1734, 1735, 1736, 1737, 1738, 1739, 1740, 1741, 1742, 1743, 1744, 1745, 1746, 1747, 1748, 1749, 1750, 1751, 1752, 1753, 1754, 1755, 1756, 1757, 1758, 1762, 1763, 1764, 1765, 1766, 1767, 1768, 1769, 1770, 1771, 1772, 1773, 1774, 1775, 1776, 1777, 1778, 1779, 1780, 1781, 1782, 1783, 1784, 1785, 1786, 1787, 1788, 1789, 1790, 1791, 1792, 1793, 1794, 1795, 1796, 1797, 1808, 1809, 1810, 1811, 1812, 1813, 1814, 1815, 1816, 1817, 1818, 1819, 1820, 1821, 1822, 1823, 1824, 1825, 1826, 1827, 1828, 1829, 1830, 1831, 1832, 1833, 1834, 1835, 1836, 1837, 1838, 1842, 1843, 1844, 1845, 1846, 1847, 1848, 1849, 1850, 1851, 1852, 1853, 1854, 1855, 1856, 1857, 1858, 1859, 1860, 1861, 1862, 1863, 1864, 1865, 1866, 1867, 1868, 1869, 1870, 1871, 1872, 1873, 1874, 1875, 1876, 1877, 1878, 1879, 1890, 1891, 1892, 1893, 1894, 1895, 1896, 1897, 1898, 1899, 1900, 1901, 1902, 1903, 1904, 1905, 1906, 1907, 1908, 1909, 1910, 1911, 1912, 1913, 1914, 1915, 1916, 1917, 1918, 1922, 1923, 1924, 1925, 1926, 1927, 1928, 1929, 1930, 1931, 1932, 1933, 1934, 1935, 1936, 1937, 1938, 1939, 1940, 1941, 1942, 1943, 1944, 1945, 1946, 1947, 1948, 1949, 1950, 1951, 1952, 1953, 1954, 1955, 1956, 1957, 1958, 1959, 1960, 1961, 1962, 1972, 1973, 1974, 1975, 1976, 1977, 1978, 1979, 1980, 1981, 1982, 1983, 1984, 1985, 1986, 1987, 1988, 1989, 1990, 1991, 1992, 1993, 1994, 1995, 1996, 1997, 1998, 2002, 2003, 2004, 2005, 2006, 2007, 2008, 2009, 2010, 2011, 2012, 2013, 2014, 2015, 2016, 2017, 2018, 2019, 2020, 2021, 2022, 2023, 2024, 2025, 2026, 2027, 2028, 2029, 2030, 2031, 2032, 2033, 2034, 2035, 2036, 2037, 2038, 2039, 2040, 2041, 2042, 2043, 2044, 2054, 2055, 2056, 2057, 2058, 2059, 2060, 2061, 2062, 2063, 2064, 2065, 2066, 2067, 2068, 2069, 2070, 2071, 2072, 2073, 2074, 2075, 2076, 2077, 2078, 2082, 2083, 2084, 2085, 2086, 2087, 2088, 2089, 2090, 2091, 2092, 2093, 2094, 2095, 2096, 2097, 2098, 2099, 2100, 2101, 2102, 2103, 2104, 2105, 2106, 2107, 2108, 2109, 2110, 2111, 2112, 2113, 2114, 2115, 2116, 2117, 2118, 2119, 2120, 2121, 2122, 2123, 2124, 2125, 2126, 2135, 2136, 2137, 2138, 2139, 2140, 2141, 2142, 2143, 2144, 2145, 2146, 2147, 2148, 2149, 2150, 2151, 2152, 2153, 2154, 2155, 2156, 2157, 2158, 2159, 2161, 2162, 2163, 2164, 2165, 2166, 2167, 2168, 2169, 2170, 2171, 2172, 2173, 2174, 2175, 2176, 2177, 2178, 2179, 2180, 2181, 2182, 2183, 2184, 2185, 2186, 2187, 2188, 2189, 2190, 2191, 2192, 2193, 2194, 2195, 2196, 2197, 2198, 2199, 2200, 2201, 2202, 2203, 2204, 2205, 2206, 2207, 2208, 2209, 2217, 2218, 2219, 2220, 2221, 2222, 2223, 2224, 2225, 2226, 2227, 2228, 2229, 2230, 2231, 2232, 2233, 2234, 2235, 2236, 2237, 2238, 2239, 2241, 2242, 2243, 2244, 2245, 2246, 2247, 2248, 2249, 2250, 2251, 2252, 2253, 2254, 2255, 2256, 2257, 2258, 2259, 2260, 2261, 2262, 2263, 2264, 2265, 2266, 2267, 2268, 2269, 2270, 2271, 2272, 2273, 2274, 2275, 2276, 2277, 2278, 2279, 2280, 2281, 2282, 2283, 2284, 2285, 2286, 2287, 2288, 2289, 2290, 2291, 2299, 2300, 2301, 2302, 2303, 2304, 2305, 2306, 2307, 2308, 2309, 2310, 2311, 2312, 2313, 2314, 2315, 2316, 2317, 2318, 2319, 2321, 2322, 2323, 2324, 2325, 2326, 2327, 2328, 2329, 2330, 2331, 2332, 2333, 2334, 2335, 2336, 2337, 2338, 2339, 2340, 2341, 2342, 2343, 2344, 2345, 2346, 2347, 2348, 2349, 2350, 2351, 2352, 2353, 2354, 2355, 2356, 2357, 2358, 2359, 2360, 2361, 2362, 2363, 2364, 2365, 2366, 2367, 2368, 2369, 2370, 2371, 2372, 2373, 2374, 2381, 2382, 2383, 2384, 2385, 2386, 2387, 2388, 2389, 2390, 2391, 2392, 2393, 2394, 2395, 2396, 2397, 2398, 2399, 2401, 2402, 2403, 2404, 2405, 2406, 2407, 2408, 2409, 2410, 2411, 2412, 2413, 2414, 2415, 2416, 2417, 2418, 2419, 2420, 2421, 2422, 2423, 2424, 2425, 2426, 2427, 2428, 2429, 2430, 2431, 2432, 2433, 2434, 2435, 2436, 2437, 2438, 2439, 2440, 2441, 2442, 2443, 2444, 2445, 2446, 2447, 2448, 2449, 2450, 2451, 2452, 2453, 2454, 2455, 2456, 2463, 2464, 2465, 2466, 2467, 2468, 2469, 2470, 2471, 2472, 2473, 2474, 2475, 2476, 2477, 2478, 2479, 2481, 2482, 2483, 2484, 2485, 2486, 2487, 2488, 2489, 2490, 2491, 2492, 2493, 2494, 2495, 2496, 2497, 2498, 2499, 2500, 2501, 2502, 2503, 2504, 2505, 2506, 2507, 2508, 2509, 2510, 2511, 2512, 2513, 2514, 2515, 2516, 2517, 2518, 2519, 2520, 2521, 2522, 2523, 2524, 2525, 2526, 2527, 2528, 2529, 2530, 2531, 2532, 2533, 2534, 2535, 2536, 2537, 2538, 2544, 2545, 2546, 2547, 2548, 2549, 2550, 2551, 2552, 2553, 2554, 2555, 2556, 2557, 2558, 2559, 2561, 2562, 2563, 2564, 2565, 2566, 2567, 2568, 2569, 2570, 2571, 2572, 2573, 2574, 2575, 2576, 2577, 2578, 2579, 2580, 2581, 2582, 2583, 2584, 2585, 2586, 2587, 2588, 2589, 2590, 2591, 2592, 2593, 2594, 2595, 2596, 2597, 2598, 2599, 2600, 2601, 2602, 2603, 2604, 2605, 2606, 2607, 2608, 2609, 2610, 2611, 2612, 2613, 2614, 2615, 2616, 2617, 2618, 2619, 2620, 2621, 2626, 2627, 2628, 2629, 2630, 2631, 2632, 2633, 2634, 2635, 2636, 2637, 2638, 2639, 2641, 2642, 2643, 2644, 2645, 2646, 2647, 2648, 2649, 2650, 2651, 2652, 2653, 2654, 2655, 2656, 2657, 2658, 2659, 2660, 2661, 2662, 2663, 2664, 2665, 2666, 2667, 2668, 2669, 2670, 2671, 2672, 2673, 2674, 2675, 2676, 2677, 2678, 2679, 2680, 2681, 2682, 2683, 2684, 2685, 2686, 2687, 2688, 2689, 2690, 2691, 2692, 2693, 2694, 2695, 2696, 2697, 2698, 2699, 2700, 2701, 2702, 2703, 2708, 2709, 2710, 2711, 2712, 2713, 2714, 2715, 2716, 2717, 2718, 2719, 2721, 2722, 2723, 2724, 2725, 2726, 2727, 2728, 2729, 2730, 2731, 2732, 2733, 2734, 2735, 2736, 2737, 2738, 2739, 2740, 2741, 2742, 2743, 2744, 2745, 2746, 2747, 2748, 2749, 2750, 2751, 2752, 2753, 2754, 2755, 2756, 2757, 2758, 2759, 2760, 2761, 2762, 2763, 2764, 2765, 2766, 2767, 2768, 2769, 2770, 2771, 2772, 2773, 2774, 2775, 2776, 2777, 2778, 2779, 2780, 2781, 2782, 2783, 2784, 2785, 2790, 2791, 2792, 2793, 2794, 2795, 2796, 2797, 2798, 2799, 2801, 2802, 2803, 2804, 2805, 2806, 2807, 2808, 2809, 2810, 2811, 2812, 2813, 2814, 2815, 2816, 2817, 2818, 2819, 2820, 2821, 2822, 2823, 2824, 2825, 2826, 2827, 2828, 2829, 2830, 2831, 2832, 2833, 2834, 2835, 2836, 2837, 2838, 2839, 2840, 2841, 2842, 2843, 2844, 2845, 2846, 2847, 2848, 2849, 2850, 2851, 2852, 2853, 2854, 2855, 2856, 2857, 2858, 2859, 2860, 2861, 2862, 2863, 2864, 2865, 2866, 2867, 2868, 2872, 2873, 2874, 2875, 2876, 2877, 2878, 2879, 2881, 2882, 2883, 2884, 2885, 2886, 2887, 2888, 2889, 2890, 2891, 2892, 2893, 2894, 2895, 2896, 2897, 2898, 2899, 2900, 2901, 2902, 2903, 2904, 2905, 2906, 2907, 2908, 2909, 2910, 2911, 2912, 2913, 2914, 2915, 2916, 2917, 2918, 2919, 2920, 2921, 2922, 2923, 2924, 2925, 2926, 2927, 2928, 2929, 2930, 2931, 2932, 2933, 2934, 2935, 2936, 2937, 2938, 2939, 2940, 2941, 2942, 2943, 2944, 2945, 2946, 2947, 2948, 2949, 2950, 2953, 2954, 2955, 2956, 2957, 2958, 2959, 2961, 2962, 2963, 2964, 2965, 2966, 2967, 2968, 2969, 2970, 2971, 2972, 2973, 2974, 2975, 2976, 2977, 2978, 2979, 2980, 2981, 2982, 2983, 2984, 2985, 2986, 2987, 2988, 2989, 2990, 2991, 2992, 2993, 2994, 2995, 2996, 2997, 2998, 2999, 3000, 3001, 3002, 3003, 3004, 3005, 3006, 3007, 3008, 3009, 3010, 3011, 3012, 3013, 3014, 3015, 3016, 3017, 3018, 3019, 3020, 3021, 3022, 3023, 3024, 3025, 3026, 3027, 3028, 3029, 3030, 3031, 3032, 3035, 3036, 3037, 3038, 3039, 3041, 3042, 3043, 3044, 3045, 3046, 3047, 3048, 3049, 3050, 3051, 3052, 3053, 3054, 3055, 3056, 3057, 3058, 3059, 3060, 3061, 3062, 3063, 3064, 3065, 3066, 3067, 3068, 3069, 3070, 3071, 3072, 3073, 3074, 3075, 3076, 3077, 3078, 3079, 3080, 3081, 3082, 3083, 3084, 3085, 3086, 3087, 3088, 3089, 3090, 3091, 3092, 3093, 3094, 3095, 3096, 3097, 3098, 3099, 3100, 3101, 3102, 3103, 3104, 3105, 3106, 3107, 3108, 3109, 3110, 3111, 3112, 3113, 3114, 3115, 3117, 3118, 3119, 3121, 3122, 3123, 3124, 3125, 3126, 3127, 3128, 3129, 3130, 3131, 3132, 3133, 3134, 3135, 3136, 3137, 3138, 3139, 3140, 3141, 3142, 3143, 3144, 3145, 3146, 3147, 3148, 3149, 3150, 3151, 3152, 3153, 3154, 3155, 3156, 3157, 3158, 3159, 3160, 3161, 3162, 3163, 3164, 3165, 3166, 3167, 3168, 3169, 3170, 3171, 3172, 3173, 3174, 3175, 3176, 3177, 3178, 3179, 3180, 3181, 3182, 3183, 3184, 3185, 3186, 3187, 3188, 3189, 3190, 3191, 3192, 3193, 3194, 3195, 3196, 3197, 3199, 3201, 3202, 3203, 3204, 3205, 3206, 3207, 3208, 3209, 3210, 3211, 3212, 3213, 3214, 3215, 3216, 3217, 3218, 3219, 3220, 3221, 3222, 3223, 3224, 3225, 3226, 3227, 3228, 3229, 3230, 3231, 3232, 3233, 3234, 3235, 3236, 3237, 3238, 3239, 3240, 3241, 3242, 3243, 3244, 3245, 3246, 3247, 3248, 3249, 3250, 3251, 3252, 3253, 3254, 3255, 3256, 3257, 3258, 3259, 3260, 3261, 3262, 3263, 3264, 3265, 3266, 3267, 3268, 3269, 3270, 3271, 3272, 3273, 3274, 3275, 3276, 3277, 3278, 3279, 3281, 3282, 3283, 3284, 3285, 3286, 3287, 3288, 3289, 3290, 3291, 3292, 3293, 3294, 3295, 3296, 3297, 3298, 3299, 3300, 3301, 3302, 3303, 3304, 3305, 3306, 3307, 3308, 3309, 3310, 3311, 3312, 3313, 3314, 3315, 3316, 3317, 3318, 3319, 3320, 3321, 3322, 3323, 3324, 3325, 3326, 3327, 3328, 3329, 3330, 3331, 3332, 3333, 3334, 3335, 3336, 3337, 3338, 3339, 3340, 3341, 3342, 3343, 3344, 3345, 3346, 3347, 3348, 3349, 3350, 3351, 3352, 3353, 3354, 3355, 3356, 3357, 3358, 3359, 3361, 3363, 3364, 3365, 3366, 3367, 3368, 3369, 3370, 3371, 3372, 3373, 3374, 3375, 3376, 3377, 3378, 3379, 3380, 3381, 3382, 3383, 3384, 3385, 3386, 3387, 3388, 3389, 3390, 3391, 3392, 3393, 3394, 3395, 3396, 3397, 3398, 3399, 3400, 3401, 3402, 3403, 3404, 3405, 3406, 3407, 3408, 3409, 3410, 3411, 3412, 3413, 3414, 3415, 3416, 3417, 3418, 3419, 3420, 3421, 3422, 3423, 3424, 3425, 3426, 3427, 3428, 3429, 3430, 3431, 3432, 3433, 3434, 3435, 3436, 3437, 3438, 3439, 3441, 3442, 3443, 3445, 3446, 3447, 3448, 3449, 3450, 3451, 3452, 3453, 3454, 3455, 3456, 3457, 3458, 3459, 3460, 3461, 3462, 3463, 3464, 3465, 3466, 3467, 3468, 3469, 3470, 3471, 3472, 3473, 3474, 3475, 3476, 3477, 3478, 3479, 3480, 3481, 3482, 3483, 3484, 3485, 3486, 3487, 3488, 3489, 3490, 3491, 3492, 3493, 3494, 3495, 3496, 3497, 3498, 3499, 3500, 3501, 3502, 3503, 3504, 3505, 3506, 3507, 3508, 3509, 3510, 3511, 3512, 3513, 3514, 3515, 3516, 3517, 3518, 3519, 3521, 3522, 3523, 3524, 3525, 3528, 3529, 3530, 3531, 3532, 3533, 3534, 3535, 3536, 3537, 3538, 3539, 3540, 3541, 3542, 3543, 3544, 3545, 3546, 3547, 3548, 3549, 3550, 3551, 3552, 3553, 3554, 3555, 3556, 3557, 3558, 3559, 3560, 3561, 3562, 3563, 3564, 3565, 3566, 3567, 3568, 3569, 3570, 3571, 3572, 3573, 3574, 3575, 3576, 3577, 3578, 3579, 3580, 3581, 3582, 3583, 3584, 3585, 3586, 3587, 3588, 3589, 3590, 3591, 3592, 3593, 3594, 3595, 3596, 3597, 3598, 3599, 3601, 3602, 3603, 3604, 3605, 3606, 3607, 3610, 3611, 3612, 3613, 3614, 3615, 3616, 3617, 3618, 3619, 3620, 3621, 3622, 3623, 3624, 3625, 3626, 3627, 3628, 3629, 3630, 3631, 3632, 3633, 3634, 3635, 3636, 3637, 3638, 3639, 3640, 3641, 3642, 3643, 3644, 3645, 3646, 3647, 3648, 3649, 3650, 3651, 3652, 3653, 3654, 3655, 3656, 3657, 3658, 3659, 3660, 3661, 3662, 3663, 3664, 3665, 3666, 3667, 3668, 3669, 3670, 3671, 3672, 3673, 3674, 3675, 3676, 3677, 3678, 3679, 3681, 3682, 3683, 3684, 3685, 3686, 3687, 3688, 3692, 3693, 3694, 3695, 3696, 3697, 3698, 3699, 3700, 3701, 3702, 3703, 3704, 3705, 3706, 3707, 3708, 3709, 3710, 3711, 3712, 3713, 3714, 3715, 3716, 3717, 3718, 3719, 3720, 3721, 3722, 3723, 3724, 3725, 3726, 3727, 3728, 3729, 3730, 3731, 3732, 3733, 3734, 3735, 3736, 3737, 3738, 3739, 3740, 3741, 3742, 3743, 3744, 3745, 3746, 3747, 3748, 3749, 3750, 3751, 3752, 3753, 3754, 3755, 3756, 3757, 3758, 3759, 3761, 3762, 3763, 3764, 3765, 3766, 3767, 3768, 3769, 3770, 3775, 3776, 3777, 3778, 3779, 3780, 3781, 3782, 3783, 3784, 3785, 3786, 3787, 3788, 3789, 3790, 3791, 3792, 3793, 3794, 3795, 3796, 3797, 3798, 3799, 3800, 3801, 3802, 3803, 3804, 3805, 3806, 3807, 3808, 3809, 3810, 3811, 3812, 3813, 3814, 3815, 3816, 3817, 3818, 3819, 3820, 3821, 3822, 3823, 3824, 3825, 3826, 3827, 3828, 3829, 3830, 3831, 3832, 3833, 3834, 3835, 3836, 3837, 3838, 3839, 3841, 3842, 3843, 3844, 3845, 3846, 3847, 3848, 3849, 3850, 3851, 3852, 3857, 3858, 3859, 3860, 3861, 3862, 3863, 3864, 3865, 3866, 3867, 3868, 3869, 3870, 3871, 3872, 3873, 3874, 3875, 3876, 3877, 3878, 3879, 3880, 3881, 3882, 3883, 3884, 3885, 3886, 3887, 3888, 3889, 3890, 3891, 3892, 3893, 3894, 3895, 3896, 3897, 3898, 3899, 3900, 3901, 3902, 3903, 3904, 3905, 3906, 3907, 3908, 3909, 3910, 3911, 3912, 3913, 3914, 3915, 3916, 3917, 3918, 3919, 3921, 3922, 3923, 3924, 3925, 3926, 3927, 3928, 3929, 3930, 3931, 3932, 3933, 3934, 3939, 3940, 3941, 3942, 3943, 3944, 3945, 3946, 3947, 3948, 3949, 3950, 3951, 3952, 3953, 3954, 3955, 3956, 3957, 3958, 3959, 3960, 3961, 3962, 3963, 3964, 3965, 3966, 3967, 3968, 3969, 3970, 3971, 3972, 3973, 3974, 3975, 3976, 3977, 3978, 3979, 3980, 3981, 3982, 3983, 3984, 3985, 3986, 3987, 3988, 3989, 3990, 3991, 3992, 3993, 3994, 3995, 3996, 3997, 3998, 3999, 4001, 4002, 4003, 4004, 4005, 4006, 4007, 4008, 4009, 4010, 4011, 4012, 4013, 4014, 4015, 4016, 4022, 4023, 4024, 4025, 4026, 4027, 4028, 4029, 4030, 4031, 4032, 4033, 4034, 4035, 4036, 4037, 4038, 4039, 4040, 4041, 4042, 4043, 4044, 4045, 4046, 4047, 4048, 4049, 4050, 4051, 4052, 4053, 4054, 4055, 4056, 4057, 4058, 4059, 4060, 4061, 4062, 4063, 4064, 4065, 4066, 4067, 4068, 4069, 4070, 4071, 4072, 4073, 4074, 4075, 4076, 4077, 4078, 4079, 4081, 4082, 4083, 4084, 4085, 4086, 4087, 4088, 4089, 4090, 4091, 4092, 4093, 4094, 4095, 4096, 4097, 4104, 4105, 4106, 4107, 4108, 4109, 4110, 4111, 4112, 4113, 4114, 4115, 4116, 4117, 4118, 4119, 4120, 4121, 4122, 4123, 4124, 4125, 4126, 4127, 4128, 4129, 4130, 4131, 4132, 4133, 4134, 4135, 4136, 4137, 4138, 4139, 4140, 4141, 4142, 4143, 4144, 4145, 4146, 4147, 4148, 4149, 4150, 4151, 4152, 4153, 4154, 4155, 4156, 4157, 4158, 4159, 4161, 4162, 4163, 4164, 4165, 4166, 4167, 4168, 4169, 4170, 4171, 4172, 4173, 4174, 4175, 4176, 4177, 4178, 4179, 4186, 4187, 4188, 4189, 4190, 4191, 4192, 4193, 4194, 4195, 4196, 4197, 4198, 4199, 4200, 4201, 4202, 4203, 4204, 4205, 4206, 4207, 4208, 4209, 4210, 4211, 4212, 4213, 4214, 4215, 4216, 4217, 4218, 4219, 4220, 4221, 4222, 4223, 4224, 4225, 4226, 4227, 4228, 4229, 4230, 4231, 4232, 4233, 4234, 4235, 4236, 4237, 4238, 4239, 4241, 4242, 4243, 4244, 4245, 4246, 4247, 4248, 4249, 4250, 4251, 4252, 4253, 4254, 4255, 4256, 4257, 4258, 4259, 4260, 4261, 4269, 4270, 4271, 4272, 4273, 4274, 4275, 4276, 4277, 4278, 4279, 4280, 4281, 4282, 4283, 4284, 4285, 4286, 4287, 4288, 4289, 4290, 4291, 4292, 4293, 4294, 4295, 4296, 4297, 4298, 4299, 4300, 4301, 4302, 4303, 4304, 4305, 4306, 4307, 4308, 4309, 4310, 4311, 4312, 4313, 4314, 4315, 4316, 4317, 4318, 4319, 4321, 4322, 4323, 4324, 4325, 4326, 4327, 4328, 4329, 4330, 4331, 4332, 4333, 4334, 4335, 4336, 4337, 4338, 4339, 4340, 4341, 4342, 4343, 4351, 4352, 4353, 4354, 4355, 4356, 4357, 4358, 4359, 4360, 4361, 4362, 4363, 4364, 4365, 4366, 4367, 4368, 4369, 4370, 4371, 4372, 4373, 4374, 4375, 4376, 4377, 4378, 4379, 4380, 4381, 4382, 4383, 4384, 4385, 4386, 4387, 4388, 4389, 4390, 4391, 4392, 4393, 4394, 4395, 4396, 4397, 4398, 4399, 4401, 4402, 4403, 4404, 4405, 4406, 4407, 4408, 4409, 4410, 4411, 4412, 4413, 4414, 4415, 4416, 4417, 4418, 4419, 4420, 4421, 4422, 4423, 4424, 4425, 4434, 4435, 4436, 4437, 4438, 4439, 4440, 4441, 4442, 4443, 4444, 4445, 4446, 4447, 4448, 4449, 4450, 4451, 4452, 4453, 4454, 4455, 4456, 4457, 4458, 4459, 4460, 4461, 4462, 4463, 4464, 4465, 4466, 4467, 4468, 4469, 4470, 4471, 4472, 4473, 4474, 4475, 4476, 4477, 4478, 4482, 4483, 4484, 4485, 4486, 4487, 4488, 4489, 4490, 4491, 4492, 4493, 4494, 4495, 4496, 4497, 4498, 4499, 4500, 4501, 4502, 4503, 4504, 4505, 4506, 4516, 4517, 4518, 4519, 4520, 4521, 4522, 4523, 4524, 4525, 4526, 4527, 4528, 4529, 4530, 4531, 4532, 4533, 4534, 4535, 4536, 4537, 4538, 4539, 4540, 4541, 4542, 4543, 4544, 4545, 4546, 4547, 4548, 4549, 4550, 4551, 4552, 4553, 4554, 4555, 4556, 4557, 4558, 4562, 4563, 4564, 4565, 4566, 4567, 4568, 4569, 4570, 4571, 4572, 4573, 4574, 4575, 4576, 4577, 4578, 4579, 4580, 4581, 4582, 4583, 4584, 4585, 4586, 4587, 4588, 4598, 4599, 4600, 4601, 4602, 4603, 4604, 4605, 4606, 4607, 4608, 4609, 4610, 4611, 4612, 4613, 4614, 4615, 4616, 4617, 4618, 4619, 4620, 4621, 4622, 4623, 4624, 4625, 4626, 4627, 4628, 4629, 4630, 4631, 4632, 4633, 4634, 4635, 4636, 4637, 4638, 4642, 4643, 4644, 4645, 4646, 4647, 4648, 4649, 4650, 4651, 4652, 4653, 4654, 4655, 4656, 4657, 4658, 4659, 4660, 4661, 4662, 4663, 4664, 4665, 4666, 4667, 4668, 4669, 4670, 4681, 4682, 4683, 4684, 4685, 4686, 4687, 4688, 4689, 4690, 4691, 4692, 4693, 4694, 4695, 4696, 4697, 4698, 4699, 4700, 4701, 4702, 4703, 4704, 4705, 4706, 4707, 4708, 4709, 4710, 4711, 4712, 4713, 4714, 4715, 4716, 4717, 4718, 4722, 4723, 4724, 4725, 4726, 4727, 4728, 4729, 4730, 4731, 4732, 4733, 4734, 4735, 4736, 4737, 4738, 4739, 4740, 4741, 4742, 4743, 4744, 4745, 4746, 4747, 4748, 4749, 4750, 4751, 4752, 4763, 4764, 4765, 4766, 4767, 4768, 4769, 4770, 4771, 4772, 4773, 4774, 4775, 4776, 4777, 4778, 4779, 4780, 4781, 4782, 4783, 4784, 4785, 4786, 4787, 4788, 4789, 4790, 4791, 4792, 4793, 4794, 4795, 4796, 4797, 4798, 4802, 4803, 4804, 4805, 4806, 4807, 4808, 4809, 4810, 4811, 4812, 4813, 4814, 4815, 4816, 4817, 4818, 4819, 4820, 4821, 4822, 4823, 4824, 4825, 4826, 4827, 4828, 4829, 4830, 4831, 4832, 4833, 4834, 4845, 4846, 4847, 4848, 4849, 4850, 4851, 4852, 4853, 4854, 4855, 4856, 4857, 4858, 4859, 4860, 4861, 4862, 4863, 4864, 4865, 4866, 4867, 4868, 4869, 4870, 4871, 4872, 4873, 4874, 4875, 4876, 4877, 4878, 4882, 4883, 4884, 4885, 4886, 4887, 4888, 4889, 4890, 4891, 4892, 4893, 4894, 4895, 4896, 4897, 4898, 4899, 4900, 4901, 4902, 4903, 4904, 4905, 4906, 4907, 4908, 4909, 4910, 4911, 4912, 4913, 4914, 4915, 4928, 4929, 4930, 4931, 4932, 4933, 4934, 4935, 4936, 4937, 4938, 4939, 4940, 4941, 4942, 4943, 4944, 4945, 4946, 4947, 4948, 4949, 4950, 4951, 4952, 4953, 4954, 4955, 4956, 4957, 4958, 4962, 4963, 4964, 4965, 4966, 4967, 4968, 4969, 4970, 4971, 4972, 4973, 4974, 4975, 4976, 4977, 4978, 4979, 4980, 4981, 4982, 4983, 4984, 4985, 4986, 4987, 4988, 4989, 4990, 4991, 4992, 4993, 4994, 4995, 4996, 4997, 5010, 5011, 5012, 5013, 5014, 5015, 5016, 5017, 5018, 5019, 5020, 5021, 5022, 5023, 5024, 5025, 5026, 5027, 5028, 5029, 5030, 5031, 5032, 5033, 5034, 5035, 5036, 5037, 5038, 5042, 5043, 5044, 5045, 5046, 5047, 5048, 5049, 5050, 5051, 5052, 5053, 5054, 5055, 5056, 5057, 5058, 5059, 5060, 5061, 5062, 5063, 5064, 5065, 5066, 5067, 5068, 5069, 5070, 5071, 5072, 5073, 5074, 5075, 5076, 5077, 5078, 5079, 5092, 5093, 5094, 5095, 5096, 5097, 5098, 5099, 5100, 5101, 5102, 5103, 5104, 5105, 5106, 5107, 5108, 5109, 5110, 5111, 5112, 5113, 5114, 5115, 5116, 5117, 5118, 5122, 5123, 5124, 5125, 5126, 5127, 5128, 5129, 5130, 5131, 5132, 5133, 5134, 5135, 5136, 5137, 5138, 5139, 5140, 5141, 5142, 5143, 5144, 5145, 5146, 5147, 5148, 5149, 5150, 5151, 5152, 5153, 5154, 5155, 5156, 5157, 5158, 5159, 5160, 5161, 5175, 5176, 5177, 5178, 5179, 5180, 5181, 5182, 5183, 5184, 5185, 5186, 5187, 5188, 5189, 5190, 5191, 5192, 5193, 5194, 5195, 5196, 5197, 5198, 5202, 5203, 5204, 5205, 5206, 5207, 5208, 5209, 5210, 5211, 5212, 5213, 5214, 5215, 5216, 5217, 5218, 5219, 5220, 5221, 5222, 5223, 5224, 5225, 5226, 5227, 5228, 5229, 5230, 5231, 5232, 5233, 5234, 5235, 5236, 5237, 5238, 5239, 5240, 5241, 5242, 5243, 5257, 5258, 5259, 5260, 5261, 5262, 5263, 5264, 5265, 5266, 5267, 5268, 5269, 5270, 5271, 5272, 5273, 5274, 5275, 5276, 5277, 5278, 5282, 5283, 5284, 5285, 5286, 5287, 5288, 5289, 5290, 5291, 5292, 5293, 5294, 5295, 5296, 5297, 5298, 5299, 5300, 5301, 5302, 5303, 5304, 5305, 5306, 5307, 5308, 5309, 5310, 5311, 5312, 5313, 5314, 5315, 5316, 5317, 5318, 5319, 5320, 5321, 5322, 5323, 5324, 5340, 5341, 5342, 5343, 5344, 5345, 5346, 5347, 5348, 5349, 5350, 5351, 5352, 5353, 5354, 5355, 5356, 5357, 5358, 5362, 5363, 5364, 5365, 5366, 5367, 5368, 5369, 5370, 5371, 5372, 5373, 5374, 5375, 5376, 5377, 5378, 5379, 5380, 5381, 5382, 5383, 5384, 5385, 5386, 5387, 5388, 5389, 5390, 5391, 5392, 5393, 5394, 5395, 5396, 5397, 5398, 5399, 5400, 5401, 5402, 5403, 5404, 5405, 5406, 5422, 5423, 5424, 5425, 5426, 5427, 5428, 5429, 5430, 5431, 5432, 5433, 5434, 5435, 5436, 5437, 5438, 5442, 5443, 5444, 5445, 5446, 5447, 5448, 5449, 5450, 5451, 5452, 5453, 5454, 5455, 5456, 5457, 5458, 5459, 5460, 5461, 5462, 5463, 5464, 5465, 5466, 5467, 5468, 5469, 5470, 5471, 5472, 5473, 5474, 5475, 5476, 5477, 5478, 5479, 5480, 5481, 5482, 5483, 5484, 5485, 5486, 5487, 5488, 5504, 5505, 5506, 5507, 5508, 5509, 5510, 5511, 5512, 5513, 5514, 5515, 5516, 5517, 5518, 5522, 5523, 5524, 5525, 5526, 5527, 5528, 5529, 5530, 5531, 5532, 5533, 5534, 5535, 5536, 5537, 5538, 5539, 5540, 5541, 5542, 5543, 5544, 5545, 5546, 5547, 5548, 5549, 5550, 5551, 5552, 5553, 5554, 5555, 5556, 5557, 5558, 5559, 5560, 5561, 5562, 5563, 5564, 5565, 5566, 5567, 5568, 5569, 5570, 5587, 5588, 5589, 5590, 5591, 5592, 5593, 5594, 5595, 5596, 5597, 5603, 5604, 5605, 5606, 5607, 5608, 5609, 5610, 5611, 5612, 5613, 5614, 5615, 5616, 5617, 5618, 5619, 5620, 5621, 5622, 5623, 5624, 5625, 5626, 5627, 5628, 5629, 5630, 5631, 5632, 5633, 5634, 5635, 5636, 5637, 5638, 5639, 5640, 5641, 5642, 5643, 5644, 5645, 5646, 5647, 5648, 5649, 5650, 5651, 5669, 5670, 5671, 5672, 5673, 5674, 5675, 5676, 5677, 5683, 5684, 5685, 5686, 5687, 5688, 5689, 5690, 5691, 5692, 5693, 5694, 5695, 5696, 5697, 5698, 5699, 5700, 5701, 5702, 5703, 5704, 5705, 5706, 5707, 5708, 5709, 5710, 5711, 5712, 5713, 5714, 5715, 5716, 5717, 5718, 5719, 5720, 5721, 5722, 5723, 5724, 5725, 5726, 5727, 5728, 5729, 5730, 5731, 5732, 5733, 5751, 5752, 5753, 5754, 5755, 5756, 5757, 5763, 5764, 5765, 5766, 5767, 5768, 5769, 5770, 5771, 5772, 5773, 5774, 5775, 5776, 5777, 5778, 5779, 5780, 5781, 5782, 5783, 5784, 5785, 5786, 5787, 5788, 5789, 5790, 5791, 5792, 5793, 5794, 5795, 5796, 5797, 5798, 5799, 5800, 5801, 5802, 5803, 5804, 5805, 5806, 5807, 5808, 5809, 5810, 5811, 5812, 5813, 5814, 5815, 5832, 5833, 5834, 5835, 5836, 5837, 5843, 5844, 5845, 5846, 5847, 5848, 5849, 5850, 5851, 5852, 5853, 5854, 5855, 5856, 5857, 5858, 5859, 5860, 5861, 5862, 5863, 5864, 5865, 5866, 5867, 5868, 5869, 5870, 5871, 5872, 5873, 5874, 5875, 5876, 5877, 5878, 5879, 5880, 5881, 5882, 5883, 5884, 5885, 5886, 5887, 5888, 5889, 5890, 5891, 5892, 5893, 5894, 5895, 5896, 5897, 5913, 5914, 5915, 5916, 5917, 5923, 5924, 5925, 5926, 5927, 5928, 5929, 5930, 5931, 5932, 5933, 5934, 5935, 5936, 5937, 5938, 5939, 5940, 5941, 5942, 5943, 5944, 5945, 5946, 5947, 5948, 5949, 5950, 5951, 5952, 5953, 5954, 5955, 5956, 5957, 5958, 5959, 5960, 5961, 5962, 5963, 5964, 5965, 5966, 5967, 5968, 5969, 5970, 5971, 5972, 5973, 5974, 5975, 5976, 5977, 5978, 5979, 5994, 5995, 5996, 5997, 6003, 6004, 6005, 6006, 6007, 6008, 6009, 6010, 6011, 6012, 6013, 6014, 6015, 6016, 6017, 6018, 6019, 6020, 6021, 6022, 6023, 6024, 6025, 6026, 6027, 6028, 6029, 6030, 6031, 6032, 6033, 6034, 6035, 6036, 6037, 6038, 6039, 6040, 6041, 6042, 6043, 6044, 6045, 6046, 6047, 6048, 6049, 6050, 6051, 6052, 6053, 6054, 6055, 6056, 6057, 6058, 6059, 6060, 6075, 6076, 6077, 6083, 6084, 6085, 6086, 6087, 6088, 6089, 6090, 6091, 6092, 6093, 6094, 6095, 6096, 6097, 6098, 6099, 6100, 6101, 6102, 6103, 6104, 6105, 6106, 6107, 6108, 6109, 6110, 6111, 6112, 6113, 6114, 6115, 6116, 6117, 6118, 6119, 6120, 6121, 6122, 6123, 6124, 6125, 6126, 6127, 6128, 6129, 6130, 6131, 6132, 6133, 6134, 6135, 6136, 6137, 6138, 6139, 6140, 6141, 6142, 6156, 6157, 6163, 6164, 6165, 6166, 6167, 6168, 6169, 6170, 6171, 6172, 6173, 6174, 6175, 6176, 6177, 6178, 6179, 6180, 6181, 6182, 6183, 6184, 6185, 6186, 6187, 6188, 6189, 6190, 6191, 6192, 6193, 6194, 6195, 6196, 6197, 6198, 6199, 6200, 6201, 6202, 6203, 6204, 6205, 6206, 6207, 6208, 6209, 6210, 6211, 6212, 6213, 6214, 6215, 6216, 6217, 6218, 6219, 6220, 6221, 6222, 6223, 6224, 6237, 6243, 6244, 6245, 6246, 6247, 6248, 6249, 6250, 6251, 6252, 6253, 6254, 6255, 6256, 6257, 6258, 6259, 6260, 6261, 6262, 6263, 6264, 6265, 6266, 6267, 6268, 6269, 6270, 6271, 6272, 6273, 6274, 6275, 6276, 6277, 6278, 6279, 6280, 6281, 6282, 6283, 6284, 6285, 6286, 6287, 6288, 6289, 6290, 6291, 6292, 6293, 6294, 6295, 6296, 6297, 6298, 6299, 6300, 6301, 6302, 6303, 6304, 6305, 6306, 6323, 6324, 6325, 6326, 6327, 6328, 6329, 6330, 6331, 6332, 6333, 6334, 6335, 6336, 6337, 6338, 6339, 6340, 6341, 6342, 6343, 6344, 6345, 6346, 6347, 6348, 6349, 6350, 6351, 6352, 6353, 6354, 6355, 6356, 6357, 6358, 6359, 6360, 6361, 6362, 6363, 6364, 6365, 6366, 6367, 6368, 6369, 6370, 6371, 6372, 6373, 6374, 6375, 6376, 6377, 6378, 6379, 6380, 6381, 6382, 6383, 6384, 6385, 6386, 6387, 6388, 6403, 6404, 6405, 6406, 6407, 6408, 6409, 6410, 6411, 6412, 6413, 6414, 6415, 6416, 6417, 6418, 6419, 6420, 6421, 6422, 6423, 6424, 6425, 6426, 6427, 6428, 6429, 6430, 6431, 6432, 6433, 6434, 6435, 6436, 6437, 6438, 6439, 6440, 6441, 6442, 6443, 6444, 6445, 6446, 6447, 6448, 6449, 6450, 6451, 6452, 6453, 6454, 6455, 6456, 6457, 6458, 6459, 6460, 6461, 6462, 6463, 6464, 6465, 6466, 6467, 6468, 6469, 6483, 6484, 6485, 6486, 6487, 6488, 6489, 6490, 6491, 6492, 6493, 6494, 6495, 6496, 6497, 6498, 6499, 6500, 6501, 6502, 6503, 6504, 6505, 6506, 6507, 6508, 6509, 6510, 6511, 6512, 6513, 6514, 6515, 6516, 6517, 6518, 6519, 6520, 6521, 6522, 6523, 6524, 6525, 6526, 6527, 6528, 6529, 6530, 6531, 6532, 6533, 6534, 6535, 6536, 6537, 6538, 6539, 6540, 6541, 6542, 6543, 6544, 6545, 6546, 6547, 6548, 6549, 6550, 6551]\n",
      "val ids:  []\n",
      "test ids:  [0, 1, 2, 3, 4, 5, 6, 7, 8, 78, 79, 80, 81, 82, 83, 84, 85, 86, 87, 88, 89, 90, 158, 159, 160, 161, 162, 163, 164, 165, 166, 167, 168, 169, 170, 171, 238, 239, 240, 241, 242, 243, 244, 245, 246, 247, 248, 249, 250, 251, 252, 253, 318, 319, 320, 321, 322, 324, 325, 326, 327, 328, 329, 330, 331, 332, 333, 334, 335, 398, 399, 400, 401, 402, 405, 406, 407, 408, 409, 410, 411, 412, 413, 414, 415, 416, 417, 478, 479, 480, 481, 482, 486, 487, 488, 489, 490, 491, 492, 493, 494, 495, 496, 497, 498, 499, 558, 559, 560, 561, 562, 567, 568, 569, 570, 571, 572, 573, 574, 575, 576, 577, 578, 579, 580, 638, 639, 640, 641, 642, 648, 649, 650, 651, 652, 653, 654, 655, 656, 657, 658, 659, 660, 661, 662, 718, 719, 720, 721, 722, 729, 730, 731, 732, 733, 734, 735, 736, 737, 738, 739, 740, 741, 742, 743, 744, 798, 799, 800, 801, 802, 810, 811, 812, 813, 814, 815, 816, 817, 818, 819, 820, 821, 822, 823, 824, 825, 826, 878, 879, 880, 881, 882, 892, 893, 894, 895, 896, 897, 898, 899, 900, 901, 902, 903, 904, 905, 906, 907, 908, 958, 959, 960, 961, 962, 974, 975, 976, 977, 978, 979, 980, 981, 982, 983, 984, 985, 986, 987, 988, 989, 1039, 1040, 1041, 1057, 1058, 1059, 1060, 1061, 1062, 1063, 1064, 1065, 1066, 1067, 1068, 1069, 1070, 1071, 1119, 1120, 1121, 1139, 1140, 1141, 1142, 1143, 1144, 1145, 1146, 1147, 1148, 1149, 1150, 1151, 1152, 1153, 1199, 1200, 1201, 1221, 1222, 1223, 1224, 1225, 1226, 1227, 1228, 1229, 1230, 1231, 1232, 1233, 1234, 1235, 1279, 1280, 1281, 1304, 1305, 1306, 1307, 1308, 1309, 1310, 1311, 1312, 1313, 1314, 1315, 1316, 1359, 1360, 1361, 1386, 1387, 1388, 1389, 1390, 1391, 1392, 1393, 1394, 1395, 1396, 1397, 1398, 1439, 1440, 1441, 1469, 1470, 1471, 1472, 1473, 1474, 1475, 1476, 1477, 1478, 1479, 1480, 1519, 1520, 1521, 1551, 1552, 1553, 1554, 1555, 1556, 1557, 1558, 1559, 1560, 1561, 1562, 1599, 1600, 1601, 1633, 1634, 1635, 1636, 1637, 1638, 1639, 1640, 1641, 1642, 1643, 1644, 1679, 1680, 1681, 1716, 1717, 1718, 1719, 1720, 1721, 1722, 1723, 1724, 1725, 1759, 1760, 1761, 1798, 1799, 1800, 1801, 1802, 1803, 1804, 1805, 1806, 1807, 1839, 1840, 1841, 1880, 1881, 1882, 1883, 1884, 1885, 1886, 1887, 1888, 1889, 1919, 1920, 1921, 1963, 1964, 1965, 1966, 1967, 1968, 1969, 1970, 1971, 1999, 2000, 2001, 2045, 2046, 2047, 2048, 2049, 2050, 2051, 2052, 2053, 2079, 2080, 2081, 2127, 2128, 2129, 2130, 2131, 2132, 2133, 2134, 2160, 2210, 2211, 2212, 2213, 2214, 2215, 2216, 2240, 2292, 2293, 2294, 2295, 2296, 2297, 2298, 2320, 2375, 2376, 2377, 2378, 2379, 2380, 2400, 2457, 2458, 2459, 2460, 2461, 2462, 2480, 2539, 2540, 2541, 2542, 2543, 2560, 2622, 2623, 2624, 2625, 2640, 2704, 2705, 2706, 2707, 2720, 2786, 2787, 2788, 2789, 2800, 2869, 2870, 2871, 2880, 2951, 2952, 2960, 3033, 3034, 3040, 3116, 3120, 3198, 3200, 3280, 3360, 3362, 3440, 3444, 3520, 3526, 3527, 3600, 3608, 3609, 3680, 3689, 3690, 3691, 3760, 3771, 3772, 3773, 3774, 3840, 3853, 3854, 3855, 3856, 3920, 3935, 3936, 3937, 3938, 4000, 4017, 4018, 4019, 4020, 4021, 4080, 4098, 4099, 4100, 4101, 4102, 4103, 4160, 4180, 4181, 4182, 4183, 4184, 4185, 4240, 4262, 4263, 4264, 4265, 4266, 4267, 4268, 4320, 4344, 4345, 4346, 4347, 4348, 4349, 4350, 4400, 4426, 4427, 4428, 4429, 4430, 4431, 4432, 4433, 4479, 4480, 4481, 4507, 4508, 4509, 4510, 4511, 4512, 4513, 4514, 4515, 4559, 4560, 4561, 4589, 4590, 4591, 4592, 4593, 4594, 4595, 4596, 4597, 4639, 4640, 4641, 4671, 4672, 4673, 4674, 4675, 4676, 4677, 4678, 4679, 4680, 4719, 4720, 4721, 4753, 4754, 4755, 4756, 4757, 4758, 4759, 4760, 4761, 4762, 4799, 4800, 4801, 4835, 4836, 4837, 4838, 4839, 4840, 4841, 4842, 4843, 4844, 4879, 4880, 4881, 4916, 4917, 4918, 4919, 4920, 4921, 4922, 4923, 4924, 4925, 4926, 4927, 4959, 4960, 4961, 4998, 4999, 5000, 5001, 5002, 5003, 5004, 5005, 5006, 5007, 5008, 5009, 5039, 5040, 5041, 5080, 5081, 5082, 5083, 5084, 5085, 5086, 5087, 5088, 5089, 5090, 5091, 5119, 5120, 5121, 5162, 5163, 5164, 5165, 5166, 5167, 5168, 5169, 5170, 5171, 5172, 5173, 5174, 5199, 5200, 5201, 5244, 5245, 5246, 5247, 5248, 5249, 5250, 5251, 5252, 5253, 5254, 5255, 5256, 5279, 5280, 5281, 5325, 5326, 5327, 5328, 5329, 5330, 5331, 5332, 5333, 5334, 5335, 5336, 5337, 5338, 5339, 5359, 5360, 5361, 5407, 5408, 5409, 5410, 5411, 5412, 5413, 5414, 5415, 5416, 5417, 5418, 5419, 5420, 5421, 5439, 5440, 5441, 5489, 5490, 5491, 5492, 5493, 5494, 5495, 5496, 5497, 5498, 5499, 5500, 5501, 5502, 5503, 5519, 5520, 5521, 5571, 5572, 5573, 5574, 5575, 5576, 5577, 5578, 5579, 5580, 5581, 5582, 5583, 5584, 5585, 5586, 5598, 5599, 5600, 5601, 5602, 5652, 5653, 5654, 5655, 5656, 5657, 5658, 5659, 5660, 5661, 5662, 5663, 5664, 5665, 5666, 5667, 5668, 5678, 5679, 5680, 5681, 5682, 5734, 5735, 5736, 5737, 5738, 5739, 5740, 5741, 5742, 5743, 5744, 5745, 5746, 5747, 5748, 5749, 5750, 5758, 5759, 5760, 5761, 5762, 5816, 5817, 5818, 5819, 5820, 5821, 5822, 5823, 5824, 5825, 5826, 5827, 5828, 5829, 5830, 5831, 5838, 5839, 5840, 5841, 5842, 5898, 5899, 5900, 5901, 5902, 5903, 5904, 5905, 5906, 5907, 5908, 5909, 5910, 5911, 5912, 5918, 5919, 5920, 5921, 5922, 5980, 5981, 5982, 5983, 5984, 5985, 5986, 5987, 5988, 5989, 5990, 5991, 5992, 5993, 5998, 5999, 6000, 6001, 6002, 6061, 6062, 6063, 6064, 6065, 6066, 6067, 6068, 6069, 6070, 6071, 6072, 6073, 6074, 6078, 6079, 6080, 6081, 6082, 6143, 6144, 6145, 6146, 6147, 6148, 6149, 6150, 6151, 6152, 6153, 6154, 6155, 6158, 6159, 6160, 6161, 6162, 6225, 6226, 6227, 6228, 6229, 6230, 6231, 6232, 6233, 6234, 6235, 6236, 6238, 6239, 6240, 6241, 6242, 6307, 6308, 6309, 6310, 6311, 6312, 6313, 6314, 6315, 6316, 6317, 6318, 6319, 6320, 6321, 6322, 6389, 6390, 6391, 6392, 6393, 6394, 6395, 6396, 6397, 6398, 6399, 6400, 6401, 6402, 6470, 6471, 6472, 6473, 6474, 6475, 6476, 6477, 6478, 6479, 6480, 6481, 6482, 6552, 6553, 6554, 6555, 6556, 6557, 6558, 6559, 6560]\n",
      "CPU times: user 160 ms, sys: 12 ms, total: 172 ms\n",
      "Wall time: 171 ms\n"
     ]
    }
   ],
   "source": [
    "%%time\n",
    "n_total = len(simulation.dataframe)\n",
    "n_train = len(simulation.dataframe[simulation.dataframe.type_of == \"train\"])\n",
    "n_val = len(simulation.dataframe[simulation.dataframe.type_of == \"val\"])\n",
    "n_test = len(simulation.dataframe[simulation.dataframe.type_of == \"test\"])\n",
    "n_train_hamiltonians = len(simulation.train_ids)\n",
    "n_val_hamiltonians = len(simulation.val_ids)\n",
    "n_test_hamiltonians = len(simulation.test_ids)\n",
    "n_total_hamiltonians = n_train_hamiltonians + n_val_hamiltonians + n_test_hamiltonians\n",
    "\n",
    "print(\"% train: \", n_train/n_total)\n",
    "print(\"% val: \",  n_val/n_total)\n",
    "print(\"% test: \", n_test/n_total)\n",
    "print(\"% train + val + test: \", (n_train+n_val+n_test)/n_total)\n",
    "print(\"\\n\")\n",
    "print(\"number of train hamiltonians: \", n_train_hamiltonians)\n",
    "print(\"number of val hamiltonians: \", n_val_hamiltonians)\n",
    "print(\"number of test hamiltonians: \", n_test_hamiltonians)\n",
    "print(\"total number of hamiltonians: \", n_total_hamiltonians)\n",
    "print(\"\\n\")\n",
    "print(\"train ids: \", simulation.train_ids)\n",
    "print(\"val ids: \", simulation.val_ids)\n",
    "print(\"test ids: \", simulation.test_ids)"
   ]
  },
  {
   "cell_type": "markdown",
   "metadata": {
    "papermill": {
     "duration": 0.018313,
     "end_time": "2020-07-16T01:39:57.466621",
     "exception": false,
     "start_time": "2020-07-16T01:39:57.448308",
     "status": "completed"
    },
    "tags": []
   },
   "source": [
    "## Running a simulation"
   ]
  },
  {
   "cell_type": "code",
   "execution_count": 27,
   "metadata": {
    "execution": {
     "iopub.execute_input": "2020-07-16T01:39:57.506672Z",
     "iopub.status.busy": "2020-07-16T01:39:57.506336Z",
     "iopub.status.idle": "2020-07-16T01:42:39.238326Z",
     "shell.execute_reply": "2020-07-16T01:42:39.238061Z"
    },
    "papermill": {
     "duration": 161.752622,
     "end_time": "2020-07-16T01:42:39.238379",
     "exception": false,
     "start_time": "2020-07-16T01:39:57.485757",
     "status": "completed"
    },
    "tags": []
   },
   "outputs": [
    {
     "name": "stderr",
     "output_type": "stream",
     "text": [
      "\r",
      "running experiments:   0%|          | 0/100 [00:00<?, ?it/s]"
     ]
    },
    {
     "name": "stdout",
     "output_type": "stream",
     "text": [
      "Simulation mode:  None\n"
     ]
    },
    {
     "name": "stderr",
     "output_type": "stream",
     "text": [
      "\r",
      "running experiments:   1%|          | 1/100 [00:01<02:42,  1.64s/it]"
     ]
    },
    {
     "name": "stderr",
     "output_type": "stream",
     "text": [
      "\r",
      "running experiments:   2%|▏         | 2/100 [00:03<02:39,  1.63s/it]"
     ]
    },
    {
     "name": "stderr",
     "output_type": "stream",
     "text": [
      "\r",
      "running experiments:   3%|▎         | 3/100 [00:04<02:37,  1.62s/it]"
     ]
    },
    {
     "name": "stderr",
     "output_type": "stream",
     "text": [
      "\r",
      "running experiments:   4%|▍         | 4/100 [00:06<02:35,  1.62s/it]"
     ]
    },
    {
     "name": "stderr",
     "output_type": "stream",
     "text": [
      "\r",
      "running experiments:   5%|▌         | 5/100 [00:08<02:34,  1.62s/it]"
     ]
    },
    {
     "name": "stderr",
     "output_type": "stream",
     "text": [
      "\r",
      "running experiments:   6%|▌         | 6/100 [00:09<02:32,  1.62s/it]"
     ]
    },
    {
     "name": "stderr",
     "output_type": "stream",
     "text": [
      "\r",
      "running experiments:   7%|▋         | 7/100 [00:11<02:30,  1.61s/it]"
     ]
    },
    {
     "name": "stderr",
     "output_type": "stream",
     "text": [
      "\r",
      "running experiments:   8%|▊         | 8/100 [00:12<02:29,  1.62s/it]"
     ]
    },
    {
     "name": "stderr",
     "output_type": "stream",
     "text": [
      "\r",
      "running experiments:   9%|▉         | 9/100 [00:14<02:28,  1.64s/it]"
     ]
    },
    {
     "name": "stderr",
     "output_type": "stream",
     "text": [
      "\r",
      "running experiments:  10%|█         | 10/100 [00:16<02:28,  1.65s/it]"
     ]
    },
    {
     "name": "stderr",
     "output_type": "stream",
     "text": [
      "\r",
      "running experiments:  11%|█         | 11/100 [00:17<02:26,  1.64s/it]"
     ]
    },
    {
     "name": "stderr",
     "output_type": "stream",
     "text": [
      "\r",
      "running experiments:  12%|█▏        | 12/100 [00:19<02:24,  1.65s/it]"
     ]
    },
    {
     "name": "stderr",
     "output_type": "stream",
     "text": [
      "\r",
      "running experiments:  13%|█▎        | 13/100 [00:21<02:24,  1.66s/it]"
     ]
    },
    {
     "name": "stderr",
     "output_type": "stream",
     "text": [
      "\r",
      "running experiments:  14%|█▍        | 14/100 [00:22<02:21,  1.65s/it]"
     ]
    },
    {
     "name": "stderr",
     "output_type": "stream",
     "text": [
      "\r",
      "running experiments:  15%|█▌        | 15/100 [00:24<02:19,  1.64s/it]"
     ]
    },
    {
     "name": "stderr",
     "output_type": "stream",
     "text": [
      "\r",
      "running experiments:  16%|█▌        | 16/100 [00:26<02:18,  1.65s/it]"
     ]
    },
    {
     "name": "stderr",
     "output_type": "stream",
     "text": [
      "\r",
      "running experiments:  17%|█▋        | 17/100 [00:27<02:16,  1.64s/it]"
     ]
    },
    {
     "name": "stderr",
     "output_type": "stream",
     "text": [
      "\r",
      "running experiments:  18%|█▊        | 18/100 [00:29<02:13,  1.63s/it]"
     ]
    },
    {
     "name": "stderr",
     "output_type": "stream",
     "text": [
      "\r",
      "running experiments:  19%|█▉        | 19/100 [00:31<02:10,  1.62s/it]"
     ]
    },
    {
     "name": "stderr",
     "output_type": "stream",
     "text": [
      "\r",
      "running experiments:  20%|██        | 20/100 [00:32<02:07,  1.60s/it]"
     ]
    },
    {
     "name": "stderr",
     "output_type": "stream",
     "text": [
      "\r",
      "running experiments:  21%|██        | 21/100 [00:34<02:06,  1.60s/it]"
     ]
    },
    {
     "name": "stderr",
     "output_type": "stream",
     "text": [
      "\r",
      "running experiments:  22%|██▏       | 22/100 [00:35<02:04,  1.60s/it]"
     ]
    },
    {
     "name": "stderr",
     "output_type": "stream",
     "text": [
      "\r",
      "running experiments:  23%|██▎       | 23/100 [00:37<02:02,  1.59s/it]"
     ]
    },
    {
     "name": "stderr",
     "output_type": "stream",
     "text": [
      "\r",
      "running experiments:  24%|██▍       | 24/100 [00:38<02:01,  1.59s/it]"
     ]
    },
    {
     "name": "stderr",
     "output_type": "stream",
     "text": [
      "\r",
      "running experiments:  25%|██▌       | 25/100 [00:40<01:59,  1.60s/it]"
     ]
    },
    {
     "name": "stderr",
     "output_type": "stream",
     "text": [
      "\r",
      "running experiments:  26%|██▌       | 26/100 [00:42<01:58,  1.60s/it]"
     ]
    },
    {
     "name": "stderr",
     "output_type": "stream",
     "text": [
      "\r",
      "running experiments:  27%|██▋       | 27/100 [00:43<01:57,  1.61s/it]"
     ]
    },
    {
     "name": "stderr",
     "output_type": "stream",
     "text": [
      "\r",
      "running experiments:  28%|██▊       | 28/100 [00:45<01:56,  1.62s/it]"
     ]
    },
    {
     "name": "stderr",
     "output_type": "stream",
     "text": [
      "\r",
      "running experiments:  29%|██▉       | 29/100 [00:47<01:55,  1.62s/it]"
     ]
    },
    {
     "name": "stderr",
     "output_type": "stream",
     "text": [
      "\r",
      "running experiments:  30%|███       | 30/100 [00:48<01:53,  1.62s/it]"
     ]
    },
    {
     "name": "stderr",
     "output_type": "stream",
     "text": [
      "\r",
      "running experiments:  31%|███       | 31/100 [00:50<01:51,  1.62s/it]"
     ]
    },
    {
     "name": "stderr",
     "output_type": "stream",
     "text": [
      "\r",
      "running experiments:  32%|███▏      | 32/100 [00:51<01:49,  1.61s/it]"
     ]
    },
    {
     "name": "stderr",
     "output_type": "stream",
     "text": [
      "\r",
      "running experiments:  33%|███▎      | 33/100 [00:53<01:47,  1.60s/it]"
     ]
    },
    {
     "name": "stderr",
     "output_type": "stream",
     "text": [
      "\r",
      "running experiments:  34%|███▍      | 34/100 [00:55<01:46,  1.61s/it]"
     ]
    },
    {
     "name": "stderr",
     "output_type": "stream",
     "text": [
      "\r",
      "running experiments:  35%|███▌      | 35/100 [00:56<01:43,  1.59s/it]"
     ]
    },
    {
     "name": "stderr",
     "output_type": "stream",
     "text": [
      "\r",
      "running experiments:  36%|███▌      | 36/100 [00:58<01:44,  1.63s/it]"
     ]
    },
    {
     "name": "stderr",
     "output_type": "stream",
     "text": [
      "\r",
      "running experiments:  37%|███▋      | 37/100 [00:59<01:42,  1.63s/it]"
     ]
    },
    {
     "name": "stderr",
     "output_type": "stream",
     "text": [
      "\r",
      "running experiments:  38%|███▊      | 38/100 [01:01<01:41,  1.63s/it]"
     ]
    },
    {
     "name": "stderr",
     "output_type": "stream",
     "text": [
      "\r",
      "running experiments:  39%|███▉      | 39/100 [01:03<01:39,  1.63s/it]"
     ]
    },
    {
     "name": "stderr",
     "output_type": "stream",
     "text": [
      "\r",
      "running experiments:  40%|████      | 40/100 [01:04<01:37,  1.62s/it]"
     ]
    },
    {
     "name": "stderr",
     "output_type": "stream",
     "text": [
      "\r",
      "running experiments:  41%|████      | 41/100 [01:06<01:35,  1.62s/it]"
     ]
    },
    {
     "name": "stderr",
     "output_type": "stream",
     "text": [
      "\r",
      "running experiments:  42%|████▏     | 42/100 [01:08<01:34,  1.62s/it]"
     ]
    },
    {
     "name": "stderr",
     "output_type": "stream",
     "text": [
      "\r",
      "running experiments:  43%|████▎     | 43/100 [01:09<01:32,  1.62s/it]"
     ]
    },
    {
     "name": "stderr",
     "output_type": "stream",
     "text": [
      "\r",
      "running experiments:  44%|████▍     | 44/100 [01:11<01:29,  1.60s/it]"
     ]
    },
    {
     "name": "stderr",
     "output_type": "stream",
     "text": [
      "\r",
      "running experiments:  45%|████▌     | 45/100 [01:12<01:28,  1.60s/it]"
     ]
    },
    {
     "name": "stderr",
     "output_type": "stream",
     "text": [
      "\r",
      "running experiments:  46%|████▌     | 46/100 [01:14<01:27,  1.61s/it]"
     ]
    },
    {
     "name": "stderr",
     "output_type": "stream",
     "text": [
      "\r",
      "running experiments:  47%|████▋     | 47/100 [01:16<01:25,  1.61s/it]"
     ]
    },
    {
     "name": "stderr",
     "output_type": "stream",
     "text": [
      "\r",
      "running experiments:  48%|████▊     | 48/100 [01:17<01:24,  1.63s/it]"
     ]
    },
    {
     "name": "stderr",
     "output_type": "stream",
     "text": [
      "\r",
      "running experiments:  49%|████▉     | 49/100 [01:19<01:22,  1.62s/it]"
     ]
    },
    {
     "name": "stderr",
     "output_type": "stream",
     "text": [
      "\r",
      "running experiments:  50%|█████     | 50/100 [01:20<01:20,  1.62s/it]"
     ]
    },
    {
     "name": "stderr",
     "output_type": "stream",
     "text": [
      "\r",
      "running experiments:  51%|█████     | 51/100 [01:22<01:20,  1.64s/it]"
     ]
    },
    {
     "name": "stderr",
     "output_type": "stream",
     "text": [
      "\r",
      "running experiments:  52%|█████▏    | 52/100 [01:24<01:19,  1.65s/it]"
     ]
    },
    {
     "name": "stderr",
     "output_type": "stream",
     "text": [
      "\r",
      "running experiments:  53%|█████▎    | 53/100 [01:26<01:18,  1.66s/it]"
     ]
    },
    {
     "name": "stderr",
     "output_type": "stream",
     "text": [
      "\r",
      "running experiments:  54%|█████▍    | 54/100 [01:27<01:16,  1.66s/it]"
     ]
    },
    {
     "name": "stderr",
     "output_type": "stream",
     "text": [
      "\r",
      "running experiments:  55%|█████▌    | 55/100 [01:29<01:14,  1.67s/it]"
     ]
    },
    {
     "name": "stderr",
     "output_type": "stream",
     "text": [
      "\r",
      "running experiments:  56%|█████▌    | 56/100 [01:31<01:13,  1.66s/it]"
     ]
    },
    {
     "name": "stderr",
     "output_type": "stream",
     "text": [
      "\r",
      "running experiments:  57%|█████▋    | 57/100 [01:32<01:11,  1.66s/it]"
     ]
    },
    {
     "name": "stderr",
     "output_type": "stream",
     "text": [
      "\r",
      "running experiments:  58%|█████▊    | 58/100 [01:34<01:08,  1.64s/it]"
     ]
    },
    {
     "name": "stderr",
     "output_type": "stream",
     "text": [
      "\r",
      "running experiments:  59%|█████▉    | 59/100 [01:35<01:06,  1.63s/it]"
     ]
    },
    {
     "name": "stderr",
     "output_type": "stream",
     "text": [
      "\r",
      "running experiments:  60%|██████    | 60/100 [01:37<01:04,  1.62s/it]"
     ]
    },
    {
     "name": "stderr",
     "output_type": "stream",
     "text": [
      "\r",
      "running experiments:  61%|██████    | 61/100 [01:39<01:02,  1.61s/it]"
     ]
    },
    {
     "name": "stderr",
     "output_type": "stream",
     "text": [
      "\r",
      "running experiments:  62%|██████▏   | 62/100 [01:40<01:00,  1.60s/it]"
     ]
    },
    {
     "name": "stderr",
     "output_type": "stream",
     "text": [
      "\r",
      "running experiments:  63%|██████▎   | 63/100 [01:42<00:58,  1.59s/it]"
     ]
    },
    {
     "name": "stderr",
     "output_type": "stream",
     "text": [
      "\r",
      "running experiments:  64%|██████▍   | 64/100 [01:43<00:57,  1.60s/it]"
     ]
    },
    {
     "name": "stderr",
     "output_type": "stream",
     "text": [
      "\r",
      "running experiments:  65%|██████▌   | 65/100 [01:45<00:56,  1.60s/it]"
     ]
    },
    {
     "name": "stderr",
     "output_type": "stream",
     "text": [
      "\r",
      "running experiments:  66%|██████▌   | 66/100 [01:47<00:55,  1.62s/it]"
     ]
    },
    {
     "name": "stderr",
     "output_type": "stream",
     "text": [
      "\r",
      "running experiments:  67%|██████▋   | 67/100 [01:48<00:52,  1.60s/it]"
     ]
    },
    {
     "name": "stderr",
     "output_type": "stream",
     "text": [
      "\r",
      "running experiments:  68%|██████▊   | 68/100 [01:50<00:51,  1.60s/it]"
     ]
    },
    {
     "name": "stderr",
     "output_type": "stream",
     "text": [
      "\r",
      "running experiments:  69%|██████▉   | 69/100 [01:51<00:50,  1.62s/it]"
     ]
    },
    {
     "name": "stderr",
     "output_type": "stream",
     "text": [
      "\r",
      "running experiments:  70%|███████   | 70/100 [01:53<00:48,  1.63s/it]"
     ]
    },
    {
     "name": "stderr",
     "output_type": "stream",
     "text": [
      "\r",
      "running experiments:  71%|███████   | 71/100 [01:55<00:47,  1.62s/it]"
     ]
    },
    {
     "name": "stderr",
     "output_type": "stream",
     "text": [
      "\r",
      "running experiments:  72%|███████▏  | 72/100 [01:56<00:45,  1.62s/it]"
     ]
    },
    {
     "name": "stderr",
     "output_type": "stream",
     "text": [
      "\r",
      "running experiments:  73%|███████▎  | 73/100 [01:58<00:44,  1.63s/it]"
     ]
    },
    {
     "name": "stderr",
     "output_type": "stream",
     "text": [
      "\r",
      "running experiments:  74%|███████▍  | 74/100 [02:00<00:42,  1.62s/it]"
     ]
    },
    {
     "name": "stderr",
     "output_type": "stream",
     "text": [
      "\r",
      "running experiments:  75%|███████▌  | 75/100 [02:01<00:40,  1.61s/it]"
     ]
    },
    {
     "name": "stderr",
     "output_type": "stream",
     "text": [
      "\r",
      "running experiments:  76%|███████▌  | 76/100 [02:03<00:38,  1.60s/it]"
     ]
    },
    {
     "name": "stderr",
     "output_type": "stream",
     "text": [
      "\r",
      "running experiments:  77%|███████▋  | 77/100 [02:04<00:36,  1.60s/it]"
     ]
    },
    {
     "name": "stderr",
     "output_type": "stream",
     "text": [
      "\r",
      "running experiments:  78%|███████▊  | 78/100 [02:06<00:35,  1.59s/it]"
     ]
    },
    {
     "name": "stderr",
     "output_type": "stream",
     "text": [
      "\r",
      "running experiments:  79%|███████▉  | 79/100 [02:08<00:33,  1.60s/it]"
     ]
    },
    {
     "name": "stderr",
     "output_type": "stream",
     "text": [
      "\r",
      "running experiments:  80%|████████  | 80/100 [02:09<00:32,  1.60s/it]"
     ]
    },
    {
     "name": "stderr",
     "output_type": "stream",
     "text": [
      "\r",
      "running experiments:  81%|████████  | 81/100 [02:11<00:30,  1.60s/it]"
     ]
    },
    {
     "name": "stderr",
     "output_type": "stream",
     "text": [
      "\r",
      "running experiments:  82%|████████▏ | 82/100 [02:12<00:28,  1.60s/it]"
     ]
    },
    {
     "name": "stderr",
     "output_type": "stream",
     "text": [
      "\r",
      "running experiments:  83%|████████▎ | 83/100 [02:14<00:27,  1.61s/it]"
     ]
    },
    {
     "name": "stderr",
     "output_type": "stream",
     "text": [
      "\r",
      "running experiments:  84%|████████▍ | 84/100 [02:16<00:25,  1.61s/it]"
     ]
    },
    {
     "name": "stderr",
     "output_type": "stream",
     "text": [
      "\r",
      "running experiments:  85%|████████▌ | 85/100 [02:17<00:24,  1.61s/it]"
     ]
    },
    {
     "name": "stderr",
     "output_type": "stream",
     "text": [
      "\r",
      "running experiments:  86%|████████▌ | 86/100 [02:19<00:22,  1.61s/it]"
     ]
    },
    {
     "name": "stderr",
     "output_type": "stream",
     "text": [
      "\r",
      "running experiments:  87%|████████▋ | 87/100 [02:20<00:20,  1.61s/it]"
     ]
    },
    {
     "name": "stderr",
     "output_type": "stream",
     "text": [
      "\r",
      "running experiments:  88%|████████▊ | 88/100 [02:22<00:19,  1.61s/it]"
     ]
    },
    {
     "name": "stderr",
     "output_type": "stream",
     "text": [
      "\r",
      "running experiments:  89%|████████▉ | 89/100 [02:24<00:17,  1.60s/it]"
     ]
    },
    {
     "name": "stderr",
     "output_type": "stream",
     "text": [
      "\r",
      "running experiments:  90%|█████████ | 90/100 [02:25<00:15,  1.59s/it]"
     ]
    },
    {
     "name": "stderr",
     "output_type": "stream",
     "text": [
      "\r",
      "running experiments:  91%|█████████ | 91/100 [02:27<00:14,  1.59s/it]"
     ]
    },
    {
     "name": "stderr",
     "output_type": "stream",
     "text": [
      "\r",
      "running experiments:  92%|█████████▏| 92/100 [02:28<00:12,  1.59s/it]"
     ]
    },
    {
     "name": "stderr",
     "output_type": "stream",
     "text": [
      "\r",
      "running experiments:  93%|█████████▎| 93/100 [02:30<00:11,  1.60s/it]"
     ]
    },
    {
     "name": "stderr",
     "output_type": "stream",
     "text": [
      "\r",
      "running experiments:  94%|█████████▍| 94/100 [02:32<00:09,  1.60s/it]"
     ]
    },
    {
     "name": "stderr",
     "output_type": "stream",
     "text": [
      "\r",
      "running experiments:  95%|█████████▌| 95/100 [02:33<00:08,  1.62s/it]"
     ]
    },
    {
     "name": "stderr",
     "output_type": "stream",
     "text": [
      "\r",
      "running experiments:  96%|█████████▌| 96/100 [02:35<00:06,  1.61s/it]"
     ]
    },
    {
     "name": "stderr",
     "output_type": "stream",
     "text": [
      "\r",
      "running experiments:  97%|█████████▋| 97/100 [02:36<00:04,  1.60s/it]"
     ]
    },
    {
     "name": "stderr",
     "output_type": "stream",
     "text": [
      "\r",
      "running experiments:  98%|█████████▊| 98/100 [02:38<00:03,  1.61s/it]"
     ]
    },
    {
     "name": "stderr",
     "output_type": "stream",
     "text": [
      "\r",
      "running experiments:  99%|█████████▉| 99/100 [02:40<00:01,  1.61s/it]"
     ]
    },
    {
     "name": "stderr",
     "output_type": "stream",
     "text": [
      "\r",
      "running experiments: 100%|██████████| 100/100 [02:41<00:00,  1.59s/it]"
     ]
    },
    {
     "name": "stderr",
     "output_type": "stream",
     "text": [
      "\r",
      "running experiments: 100%|██████████| 100/100 [02:41<00:00,  1.62s/it]"
     ]
    },
    {
     "name": "stdout",
     "output_type": "stream",
     "text": [
      "CPU times: user 2min 39s, sys: 2.72 s, total: 2min 41s\n",
      "Wall time: 2min 41s\n"
     ]
    },
    {
     "name": "stderr",
     "output_type": "stream",
     "text": [
      "\n"
     ]
    }
   ],
   "source": [
    "\n",
    "%%time\n",
    "simulation.run_simulation(n_experiments, start_n, fit_params,shuffle_rows, pred_params, random_features, \\\n",
    "                          store_in_lists, save_eigenvector, save_hamiltonian, save_accuracy,\\\n",
    "                          save_models)\n",
    "if simulation.fourier_mode is not None:\n",
    "    simulation.fourier_dataframe.head(10)"
   ]
  },
  {
   "cell_type": "code",
   "execution_count": 28,
   "metadata": {
    "execution": {
     "iopub.execute_input": "2020-07-16T01:42:39.313360Z",
     "iopub.status.busy": "2020-07-16T01:42:39.313049Z",
     "iopub.status.idle": "2020-07-16T01:42:39.338374Z",
     "shell.execute_reply": "2020-07-16T01:42:39.338052Z"
    },
    "papermill": {
     "duration": 0.064436,
     "end_time": "2020-07-16T01:42:39.338426",
     "exception": false,
     "start_time": "2020-07-16T01:42:39.273990",
     "status": "completed"
    },
    "tags": []
   },
   "outputs": [
    {
     "data": {
      "text/html": [
       "<div>\n",
       "<style scoped>\n",
       "    .dataframe tbody tr th:only-of-type {\n",
       "        vertical-align: middle;\n",
       "    }\n",
       "\n",
       "    .dataframe tbody tr th {\n",
       "        vertical-align: top;\n",
       "    }\n",
       "\n",
       "    .dataframe thead th {\n",
       "        text-align: right;\n",
       "    }\n",
       "</style>\n",
       "<table border=\"1\" class=\"dataframe\">\n",
       "  <thead>\n",
       "    <tr style=\"text-align: right;\">\n",
       "      <th></th>\n",
       "      <th>id</th>\n",
       "      <th>path</th>\n",
       "      <th>t1</th>\n",
       "      <th>t2</th>\n",
       "      <th>winding</th>\n",
       "      <th>phase</th>\n",
       "      <th>pred_phase</th>\n",
       "      <th>type_of</th>\n",
       "      <th>feat0</th>\n",
       "      <th>feat1</th>\n",
       "      <th>...</th>\n",
       "      <th>feat90</th>\n",
       "      <th>feat91</th>\n",
       "      <th>feat92</th>\n",
       "      <th>feat93</th>\n",
       "      <th>feat94</th>\n",
       "      <th>feat95</th>\n",
       "      <th>feat96</th>\n",
       "      <th>feat97</th>\n",
       "      <th>feat98</th>\n",
       "      <th>feat99</th>\n",
       "    </tr>\n",
       "  </thead>\n",
       "  <tbody>\n",
       "    <tr>\n",
       "      <th>0</th>\n",
       "      <td>0</td>\n",
       "      <td>H_-2_-2_0.509296.dat</td>\n",
       "      <td>-2.0</td>\n",
       "      <td>-2.0</td>\n",
       "      <td>0.509296</td>\n",
       "      <td>999</td>\n",
       "      <td>1</td>\n",
       "      <td>test</td>\n",
       "      <td>0.100000</td>\n",
       "      <td>0.100000</td>\n",
       "      <td>...</td>\n",
       "      <td>0.100000</td>\n",
       "      <td>0.100000</td>\n",
       "      <td>0.100000</td>\n",
       "      <td>0.100000</td>\n",
       "      <td>0.100000</td>\n",
       "      <td>0.100000</td>\n",
       "      <td>0.100000</td>\n",
       "      <td>0.100000</td>\n",
       "      <td>0.100000</td>\n",
       "      <td>0.100000</td>\n",
       "    </tr>\n",
       "    <tr>\n",
       "      <th>1</th>\n",
       "      <td>0</td>\n",
       "      <td>H_-2_-2_0.509296.dat</td>\n",
       "      <td>-2.0</td>\n",
       "      <td>-2.0</td>\n",
       "      <td>0.509296</td>\n",
       "      <td>999</td>\n",
       "      <td>0</td>\n",
       "      <td>test</td>\n",
       "      <td>0.141421</td>\n",
       "      <td>0.141142</td>\n",
       "      <td>...</td>\n",
       "      <td>0.114412</td>\n",
       "      <td>0.108967</td>\n",
       "      <td>0.123928</td>\n",
       "      <td>0.119406</td>\n",
       "      <td>0.131490</td>\n",
       "      <td>0.127962</td>\n",
       "      <td>0.136978</td>\n",
       "      <td>0.134500</td>\n",
       "      <td>0.140306</td>\n",
       "      <td>0.138916</td>\n",
       "    </tr>\n",
       "    <tr>\n",
       "      <th>2</th>\n",
       "      <td>0</td>\n",
       "      <td>H_-2_-2_0.509296.dat</td>\n",
       "      <td>-2.0</td>\n",
       "      <td>-2.0</td>\n",
       "      <td>0.509296</td>\n",
       "      <td>999</td>\n",
       "      <td>0</td>\n",
       "      <td>test</td>\n",
       "      <td>0.141421</td>\n",
       "      <td>0.140306</td>\n",
       "      <td>...</td>\n",
       "      <td>0.043702</td>\n",
       "      <td>0.026500</td>\n",
       "      <td>0.075777</td>\n",
       "      <td>0.060214</td>\n",
       "      <td>0.103092</td>\n",
       "      <td>0.090145</td>\n",
       "      <td>0.123928</td>\n",
       "      <td>0.114412</td>\n",
       "      <td>0.136978</td>\n",
       "      <td>0.131490</td>\n",
       "    </tr>\n",
       "    <tr>\n",
       "      <th>3</th>\n",
       "      <td>0</td>\n",
       "      <td>H_-2_-2_0.509296.dat</td>\n",
       "      <td>-2.0</td>\n",
       "      <td>-2.0</td>\n",
       "      <td>0.509296</td>\n",
       "      <td>999</td>\n",
       "      <td>1</td>\n",
       "      <td>test</td>\n",
       "      <td>-0.100000</td>\n",
       "      <td>0.100000</td>\n",
       "      <td>...</td>\n",
       "      <td>-0.100000</td>\n",
       "      <td>0.100000</td>\n",
       "      <td>-0.100000</td>\n",
       "      <td>0.100000</td>\n",
       "      <td>-0.100000</td>\n",
       "      <td>0.100000</td>\n",
       "      <td>-0.100000</td>\n",
       "      <td>0.100000</td>\n",
       "      <td>-0.100000</td>\n",
       "      <td>0.100000</td>\n",
       "    </tr>\n",
       "    <tr>\n",
       "      <th>4</th>\n",
       "      <td>0</td>\n",
       "      <td>H_-2_-2_0.509296.dat</td>\n",
       "      <td>-2.0</td>\n",
       "      <td>-2.0</td>\n",
       "      <td>0.509296</td>\n",
       "      <td>999</td>\n",
       "      <td>1</td>\n",
       "      <td>test</td>\n",
       "      <td>0.000509</td>\n",
       "      <td>-0.008372</td>\n",
       "      <td>...</td>\n",
       "      <td>-0.082713</td>\n",
       "      <td>-0.089753</td>\n",
       "      <td>-0.067684</td>\n",
       "      <td>-0.075347</td>\n",
       "      <td>-0.051587</td>\n",
       "      <td>-0.059753</td>\n",
       "      <td>-0.034677</td>\n",
       "      <td>-0.043217</td>\n",
       "      <td>-0.017220</td>\n",
       "      <td>-0.026000</td>\n",
       "    </tr>\n",
       "    <tr>\n",
       "      <th>5</th>\n",
       "      <td>0</td>\n",
       "      <td>H_-2_-2_0.509296.dat</td>\n",
       "      <td>-2.0</td>\n",
       "      <td>-2.0</td>\n",
       "      <td>0.509296</td>\n",
       "      <td>999</td>\n",
       "      <td>0</td>\n",
       "      <td>test</td>\n",
       "      <td>0.001204</td>\n",
       "      <td>-0.016530</td>\n",
       "      <td>...</td>\n",
       "      <td>-0.134123</td>\n",
       "      <td>-0.138686</td>\n",
       "      <td>-0.118757</td>\n",
       "      <td>-0.127445</td>\n",
       "      <td>-0.095929</td>\n",
       "      <td>-0.108196</td>\n",
       "      <td>-0.067073</td>\n",
       "      <td>-0.082149</td>\n",
       "      <td>-0.034003</td>\n",
       "      <td>-0.050940</td>\n",
       "    </tr>\n",
       "    <tr>\n",
       "      <th>6</th>\n",
       "      <td>0</td>\n",
       "      <td>H_-2_-2_0.509296.dat</td>\n",
       "      <td>-2.0</td>\n",
       "      <td>-2.0</td>\n",
       "      <td>0.509296</td>\n",
       "      <td>999</td>\n",
       "      <td>0</td>\n",
       "      <td>test</td>\n",
       "      <td>-0.141421</td>\n",
       "      <td>-0.138980</td>\n",
       "      <td>...</td>\n",
       "      <td>0.043375</td>\n",
       "      <td>0.067830</td>\n",
       "      <td>-0.009222</td>\n",
       "      <td>0.017385</td>\n",
       "      <td>-0.060524</td>\n",
       "      <td>-0.035502</td>\n",
       "      <td>-0.103326</td>\n",
       "      <td>-0.083403</td>\n",
       "      <td>-0.131616</td>\n",
       "      <td>-0.119589</td>\n",
       "    </tr>\n",
       "    <tr>\n",
       "      <th>7</th>\n",
       "      <td>0</td>\n",
       "      <td>H_-2_-2_0.509296.dat</td>\n",
       "      <td>-2.0</td>\n",
       "      <td>-2.0</td>\n",
       "      <td>0.509296</td>\n",
       "      <td>999</td>\n",
       "      <td>0</td>\n",
       "      <td>test</td>\n",
       "      <td>-0.000826</td>\n",
       "      <td>0.025688</td>\n",
       "      <td>...</td>\n",
       "      <td>0.134753</td>\n",
       "      <td>0.124324</td>\n",
       "      <td>0.141088</td>\n",
       "      <td>0.140407</td>\n",
       "      <td>0.127608</td>\n",
       "      <td>0.136771</td>\n",
       "      <td>0.096206</td>\n",
       "      <td>0.113925</td>\n",
       "      <td>0.051292</td>\n",
       "      <td>0.075079</td>\n",
       "    </tr>\n",
       "    <tr>\n",
       "      <th>8</th>\n",
       "      <td>0</td>\n",
       "      <td>H_-2_-2_0.509296.dat</td>\n",
       "      <td>-2.0</td>\n",
       "      <td>-2.0</td>\n",
       "      <td>0.509296</td>\n",
       "      <td>999</td>\n",
       "      <td>0</td>\n",
       "      <td>test</td>\n",
       "      <td>0.141417</td>\n",
       "      <td>0.136684</td>\n",
       "      <td>...</td>\n",
       "      <td>-0.115093</td>\n",
       "      <td>-0.131915</td>\n",
       "      <td>-0.061266</td>\n",
       "      <td>-0.091040</td>\n",
       "      <td>0.007717</td>\n",
       "      <td>-0.027643</td>\n",
       "      <td>0.074791</td>\n",
       "      <td>0.042592</td>\n",
       "      <td>0.123363</td>\n",
       "      <td>0.102291</td>\n",
       "    </tr>\n",
       "    <tr>\n",
       "      <th>9</th>\n",
       "      <td>0</td>\n",
       "      <td>H_-2_-2_0.509296.dat</td>\n",
       "      <td>-2.0</td>\n",
       "      <td>-2.0</td>\n",
       "      <td>0.509296</td>\n",
       "      <td>999</td>\n",
       "      <td>1</td>\n",
       "      <td>test</td>\n",
       "      <td>0.001302</td>\n",
       "      <td>0.036430</td>\n",
       "      <td>...</td>\n",
       "      <td>0.082068</td>\n",
       "      <td>0.050848</td>\n",
       "      <td>0.127402</td>\n",
       "      <td>0.108132</td>\n",
       "      <td>0.141218</td>\n",
       "      <td>0.138667</td>\n",
       "      <td>0.120099</td>\n",
       "      <td>0.134896</td>\n",
       "      <td>0.069268</td>\n",
       "      <td>0.097755</td>\n",
       "    </tr>\n",
       "  </tbody>\n",
       "</table>\n",
       "<p>10 rows × 108 columns</p>\n",
       "</div>"
      ],
      "text/plain": [
       "   id                  path   t1   t2   winding  phase  pred_phase type_of  \\\n",
       "0   0  H_-2_-2_0.509296.dat -2.0 -2.0  0.509296    999           1    test   \n",
       "1   0  H_-2_-2_0.509296.dat -2.0 -2.0  0.509296    999           0    test   \n",
       "2   0  H_-2_-2_0.509296.dat -2.0 -2.0  0.509296    999           0    test   \n",
       "3   0  H_-2_-2_0.509296.dat -2.0 -2.0  0.509296    999           1    test   \n",
       "4   0  H_-2_-2_0.509296.dat -2.0 -2.0  0.509296    999           1    test   \n",
       "5   0  H_-2_-2_0.509296.dat -2.0 -2.0  0.509296    999           0    test   \n",
       "6   0  H_-2_-2_0.509296.dat -2.0 -2.0  0.509296    999           0    test   \n",
       "7   0  H_-2_-2_0.509296.dat -2.0 -2.0  0.509296    999           0    test   \n",
       "8   0  H_-2_-2_0.509296.dat -2.0 -2.0  0.509296    999           0    test   \n",
       "9   0  H_-2_-2_0.509296.dat -2.0 -2.0  0.509296    999           1    test   \n",
       "\n",
       "      feat0     feat1  ...    feat90    feat91    feat92    feat93    feat94  \\\n",
       "0  0.100000  0.100000  ...  0.100000  0.100000  0.100000  0.100000  0.100000   \n",
       "1  0.141421  0.141142  ...  0.114412  0.108967  0.123928  0.119406  0.131490   \n",
       "2  0.141421  0.140306  ...  0.043702  0.026500  0.075777  0.060214  0.103092   \n",
       "3 -0.100000  0.100000  ... -0.100000  0.100000 -0.100000  0.100000 -0.100000   \n",
       "4  0.000509 -0.008372  ... -0.082713 -0.089753 -0.067684 -0.075347 -0.051587   \n",
       "5  0.001204 -0.016530  ... -0.134123 -0.138686 -0.118757 -0.127445 -0.095929   \n",
       "6 -0.141421 -0.138980  ...  0.043375  0.067830 -0.009222  0.017385 -0.060524   \n",
       "7 -0.000826  0.025688  ...  0.134753  0.124324  0.141088  0.140407  0.127608   \n",
       "8  0.141417  0.136684  ... -0.115093 -0.131915 -0.061266 -0.091040  0.007717   \n",
       "9  0.001302  0.036430  ...  0.082068  0.050848  0.127402  0.108132  0.141218   \n",
       "\n",
       "     feat95    feat96    feat97    feat98    feat99  \n",
       "0  0.100000  0.100000  0.100000  0.100000  0.100000  \n",
       "1  0.127962  0.136978  0.134500  0.140306  0.138916  \n",
       "2  0.090145  0.123928  0.114412  0.136978  0.131490  \n",
       "3  0.100000 -0.100000  0.100000 -0.100000  0.100000  \n",
       "4 -0.059753 -0.034677 -0.043217 -0.017220 -0.026000  \n",
       "5 -0.108196 -0.067073 -0.082149 -0.034003 -0.050940  \n",
       "6 -0.035502 -0.103326 -0.083403 -0.131616 -0.119589  \n",
       "7  0.136771  0.096206  0.113925  0.051292  0.075079  \n",
       "8 -0.027643  0.074791  0.042592  0.123363  0.102291  \n",
       "9  0.138667  0.120099  0.134896  0.069268  0.097755  \n",
       "\n",
       "[10 rows x 108 columns]"
      ]
     },
     "execution_count": 28,
     "metadata": {},
     "output_type": "execute_result"
    }
   ],
   "source": [
    "simulation.dataframe.head(10)"
   ]
  },
  {
   "cell_type": "markdown",
   "metadata": {
    "papermill": {
     "duration": 0.035835,
     "end_time": "2020-07-16T01:42:39.413360",
     "exception": false,
     "start_time": "2020-07-16T01:42:39.377525",
     "status": "completed"
    },
    "tags": []
   },
   "source": [
    "#### Viewing a random sample"
   ]
  },
  {
   "cell_type": "code",
   "execution_count": 29,
   "metadata": {
    "execution": {
     "iopub.execute_input": "2020-07-16T01:42:39.490055Z",
     "iopub.status.busy": "2020-07-16T01:42:39.489560Z",
     "iopub.status.idle": "2020-07-16T01:42:39.499986Z",
     "shell.execute_reply": "2020-07-16T01:42:39.499671Z"
    },
    "papermill": {
     "duration": 0.050255,
     "end_time": "2020-07-16T01:42:39.500039",
     "exception": false,
     "start_time": "2020-07-16T01:42:39.449784",
     "status": "completed"
    },
    "tags": []
   },
   "outputs": [
    {
     "name": "stdout",
     "output_type": "stream",
     "text": [
      "CPU times: user 2 µs, sys: 0 ns, total: 2 µs\n",
      "Wall time: 3.81 µs\n"
     ]
    }
   ],
   "source": [
    "%%time\n",
    "if simulation.fourier_mode is not None:\n",
    "    simulation.fourier_dataframe.sample(frac=0.1, replace=False)"
   ]
  },
  {
   "cell_type": "markdown",
   "metadata": {
    "papermill": {
     "duration": 0.035435,
     "end_time": "2020-07-16T01:42:39.573170",
     "exception": false,
     "start_time": "2020-07-16T01:42:39.537735",
     "status": "completed"
    },
    "tags": []
   },
   "source": [
    "#### Checking train/val/test splits again"
   ]
  },
  {
   "cell_type": "code",
   "execution_count": 30,
   "metadata": {
    "execution": {
     "iopub.execute_input": "2020-07-16T01:42:39.653017Z",
     "iopub.status.busy": "2020-07-16T01:42:39.652692Z",
     "iopub.status.idle": "2020-07-16T01:42:39.832940Z",
     "shell.execute_reply": "2020-07-16T01:42:39.832623Z"
    },
    "papermill": {
     "duration": 0.220644,
     "end_time": "2020-07-16T01:42:39.832991",
     "exception": false,
     "start_time": "2020-07-16T01:42:39.612347",
     "status": "completed"
    },
    "tags": []
   },
   "outputs": [
    {
     "name": "stdout",
     "output_type": "stream",
     "text": [
      "% train:  0.08474317939338516\n",
      "% val:  0.7620789513793629\n",
      "% test:  0.15317786922725193\n",
      "% train + val + test:  1.0\n",
      "\n",
      "\n",
      "number of train hamiltonians:  556\n",
      "number of val hamiltonians:  5000\n",
      "number of test hamiltonians:  1005\n",
      "total number of hamiltonians:  6561\n",
      "\n",
      "\n",
      "train ids:  [2103, 5833, 5872, 5590, 5205, 5710, 1708, 696, 2369, 4438, 1240, 4580, 2311, 1988, 5777, 1088, 1384, 2204, 1205, 1863, 2815, 3892, 4600, 4311, 3231, 4389, 4072, 5264, 3912, 2846, 3802, 4192, 5212, 3707, 6452, 6117, 3636, 2174, 18, 2396, 5754, 4205, 4090, 4477, 1733, 4132, 4547, 873, 380, 5184, 6501, 1089, 3020, 4453, 6528, 1952, 5108, 760, 2097, 5871, 2806, 403, 4078, 4518, 2126, 360, 3071, 5608, 1583, 181, 69, 2548, 1574, 2398, 1630, 3620, 2331, 3318, 5052, 6460, 2512, 2305, 3245, 2094, 2752, 369, 685, 6283, 4234, 1751, 3703, 876, 5377, 3899, 2229, 1114, 2828, 2200, 4584, 3074, 1251, 3506, 5813, 6255, 5767, 3540, 2667, 611, 3522, 2999, 2886, 2916, 2502, 5706, 5807, 5513, 4948, 434, 4048, 675, 3347, 4022, 5071, 1821, 3483, 2915, 5563, 3887, 778, 1666, 394, 787, 690, 5148, 5285, 1459, 840, 1507, 4111, 2908, 2841, 3109, 3124, 6451, 973, 3919, 4201, 2332, 3592, 5796, 3724, 2032, 4550, 3102, 3216, 1446, 3100, 4704, 2968, 2902, 5958, 4110, 2236, 5895, 2125, 4104, 424, 2015, 3399, 4709, 5385, 4406, 2692, 5612, 351, 2830, 4410, 5178, 175, 3292, 6507, 947, 440, 4558, 4155, 6046, 1944, 117, 5633, 1526, 1427, 6422, 3345, 6206, 1285, 6355, 4724, 598, 4857, 1546, 4777, 2218, 2558, 4749, 1177, 5979, 6179, 2854, 3669, 5704, 723, 1130, 1656, 4907, 3117, 5118, 5043, 4475, 3797, 2750, 6040, 3599, 966, 4833, 5787, 3004, 1857, 2660, 28, 923, 2285, 1788, 3371, 5611, 3539, 3890, 4162, 1206, 2711, 506, 3694, 1694, 5764, 235, 2724, 3591, 6281, 5298, 5926, 1858, 2163, 1934, 338, 4521, 2362, 6252, 3104, 2552, 4691, 2535, 4831, 5617, 1018, 6531, 1522, 3404, 3143, 2776, 5561, 3614, 2352, 3923, 3968, 227, 4462, 1031, 1838, 3966, 5092, 1700, 1219, 3682, 4390, 1179, 2768, 6448, 2550, 2273, 3952, 4848, 24, 4806, 4302, 4372, 2334, 299, 2028, 3140, 309, 5396, 3094, 4442, 548, 2618, 460, 4882, 3220, 3725, 5543, 3957, 849, 2866, 534, 550, 3454, 462, 1017, 4874, 3236, 6506, 5888, 6224, 5065, 300, 1653, 70, 2997, 2082, 5142, 3288, 5269, 2260, 3337, 3214, 1661, 3484, 1899, 4221, 4196, 2683, 681, 3579, 5643, 6172, 3865, 3085, 4384, 2150, 3013, 1269, 3909, 6122, 6290, 4626, 4690, 4138, 2005, 3411, 1294, 1255, 3553, 2422, 317, 1785, 3008, 39, 2496, 3664, 705, 4609, 115, 3276, 1624, 5198, 2115, 5763, 2583, 4570, 4412, 4568, 5304, 4544, 3998, 3027, 2834, 4226, 1691, 621, 1618, 2823, 3317, 6219, 2754, 1622, 2428, 5432, 232, 2944, 1908, 3863, 1000, 2519, 3422, 4216, 5314, 5394, 5422, 4238, 5964, 3790, 4439, 781, 4991, 5638, 3284, 1741, 5353, 1595, 5399, 1134, 6210, 3834, 5102, 3229, 5294, 6527, 5815, 3446, 3916, 5517, 2306, 697, 4278, 2224, 2303, 2827, 1045, 4228, 2506, 3490, 4393, 2092, 4371, 6367, 392, 2357, 2889, 5863, 3799, 3277, 2384, 2280, 2726, 3301, 634, 4153, 3377, 955, 2179, 5266, 3101, 4612, 441, 6042, 2455, 4957, 700, 6363, 4971, 2365, 4377, 6323, 2941, 2990, 2772, 6416, 6419, 2634, 1051, 2614, 475, 210, 6374, 135, 1466, 753, 6380, 3336, 4326, 4624, 3740, 372, 3108, 1053, 2955, 6369, 262, 6347, 5390, 6520, 5028, 6449, 102, 4789, 4750, 3616, 64, 687, 780, 1525, 220, 3847, 4628, 1825, 6116, 2024, 3625, 5780, 2414, 3958, 1402, 4810, 4670, 1157, 6300, 4615, 6019, 1182, 5924, 4551, 5778, 4304, 3429, 4974, 56, 1341, 2637, 4298, 5070, 3961, 384, 3655, 5230, 3309, 5766, 5157, 3559, 2394, 867, 342, 1079, 4578, 450, 4790, 924, 3351]\n",
      "val ids:  [750, 2804, 5834, 3430, 3314, 178, 1545, 3859, 1750, 3130, 4173, 4097, 6513, 2165, 6508, 3622, 5870, 2783, 5804, 5955, 5675, 6084, 2531, 6336, 2062, 5685, 5952, 5340, 1712, 6247, 383, 4303, 5258, 4255, 4739, 5128, 1578, 4698, 5073, 1808, 189, 237, 2069, 3860, 2323, 3312, 3407, 3885, 3642, 2228, 909, 1176, 4225, 1411, 1073, 3598, 3541, 1266, 2824, 2088, 1844, 6131, 5553, 4786, 4317, 5346, 2595, 2136, 1955, 1830, 3722, 185, 3258, 1236, 6535, 2011, 5772, 4054, 4703, 2995, 1284, 2477, 5450, 1345, 3155, 4648, 4764, 1579, 1982, 1369, 2913, 3297, 6209, 6060, 1932, 891, 4712, 515, 1373, 926, 3570, 5110, 949, 3990, 2759, 126, 4503, 1032, 3953, 1348, 2686, 2842, 2741, 2442, 4699, 5945, 3386, 6286, 2170, 2744, 964, 3726, 2901, 3016, 5161, 67, 4307, 1264, 3841, 4869, 2397, 1099, 192, 2584, 5779, 4828, 6485, 2746, 3836, 1155, 2701, 3269, 1207, 1736, 50, 1615, 5699, 1542, 5733, 4089, 1632, 6444, 616, 5636, 5016, 752, 1809, 1211, 5351, 1616, 3478, 2893, 2470, 1979, 2803, 4332, 2308, 4858, 4519, 5434, 4504, 4940, 5645, 4168, 4120, 5114, 4169, 4714, 2863, 1915, 452, 1014, 2358, 2059, 5315, 485, 4206, 5725, 422, 425, 5069, 3326, 1517, 3993, 6214, 6548, 1747, 791, 6301, 3150, 1930, 1938, 4582, 1592, 3329, 4253, 4818, 3619, 6048, 3672, 1853, 2654, 2616, 5781, 790, 5558, 3641, 6181, 5642, 2826, 3439, 4832, 2226, 1376, 6332, 3370, 3344, 2183, 2784, 4454, 748, 4243, 5879, 4463, 5475, 3131, 5876, 1772, 2675, 4088, 2555, 3354, 4912, 5195, 1217, 1260, 4202, 2740, 5605, 1354, 3991, 4471, 4198, 6488, 1727, 1957, 4055, 4636, 5033, 2272, 1215, 2006, 264, 6111, 5291, 3232, 5485, 2579, 5375, 2029, 3017, 3671, 6541, 4419, 3420, 276, 767, 5210, 714, 3262, 5072, 3964, 420, 586, 373, 4708, 2630, 4933, 6329, 2592, 4312, 2120, 1914, 2718, 1675, 2795, 4567, 6279, 4497, 1257, 6036, 2304, 6341, 3105, 1734, 2546, 5425, 260, 1210, 1367, 5299, 1220, 382, 5564, 3182, 5810, 2917, 1754, 5937, 856, 1342, 2633, 3705, 4645, 3711, 226, 2466, 2958, 5539, 5094, 4583, 2181, 3884, 3820, 2973, 2283, 1293, 3510, 6140, 1302, 347, 5376, 691, 2328, 4239, 2986, 2662, 4230, 4524, 5867, 3699, 6388, 4954, 3931, 585, 5049, 3667, 6197, 4380, 265, 6003, 1399, 6050, 2009, 2227, 4394, 2966, 5476, 6436, 5216, 1898, 5055, 4953, 4935, 3322, 1248, 4910, 4425, 619, 3610, 2383, 3943, 2626, 302, 45, 3500, 3738, 2335, 3254, 1249, 3634, 2144, 3029, 4464, 5603, 5960, 4598, 3423, 2868, 3828, 5300, 6034, 1572, 5303, 3333, 5207, 3482, 682, 2205, 5843, 2672, 2449, 282, 3230, 5971, 4165, 5482, 4581, 2856, 5686, 686, 2898, 2274, 606, 1250, 6385, 4751, 3398, 677, 2173, 2524, 3926, 3575, 3902, 777, 2487, 352, 4052, 4988, 2606, 3170, 5469, 2424, 4128, 3704, 4629, 3239, 1937, 3059, 794, 5132, 2364, 2268, 3507, 3607, 1960, 3763, 3870, 6551, 3759, 1486, 3741, 5036, 1613, 2807, 1003, 2656, 1655, 913, 5837, 703, 932, 4573, 1188, 1056, 4944, 3710, 5756, 3325, 2730, 4082, 3633, 627, 4575, 3721, 3225, 1828, 4740, 6403, 10, 3296, 5942, 5545, 3188, 4252, 3375, 6043, 1742, 3623, 3668, 3405, 230, 1024, 6055, 6516, 2516, 6006, 1247, 6251, 4864, 3542, 3469, 307, 5504, 3895, 530, 957, 1762, 6539, 3831, 914, 793, 257, 4855, 5343, 2780, 4123, 4898, 3106, 3455, 2758, 4199, 4214, 5530, 5104, 2143, 1106, 3733, 1866, 3078, 4522, 370, 4336, 1443, 4261, 2302, 5621, 5859, 2938, 5625, 3521, 6168, 157, 2436, 119, 4207, 4115, 1774, 2102, 5100, 3731, 5806, 3557, 1026, 5947, 3000, 5356, 5125, 1319, 2977, 3566, 2175, 1918, 2851, 2571, 5026, 3132, 5293, 2785, 854, 2246, 1667, 4395, 2556, 1432, 4156, 3648, 1352, 763, 1371, 3606, 4362, 5405, 3956, 269, 4289, 4050, 4952, 4306, 4075, 2699, 6411, 927, 5318, 2635, 3287, 4242, 2171, 5896, 314, 4499, 1112, 2767, 6015, 1793, 850, 1490, 5569, 797, 5095, 2714, 2781, 3426, 5020, 2709, 2568, 3087, 6305, 4167, 1975, 631, 4651, 4914, 1911, 3693, 531, 1008, 438, 123, 5054, 3281, 1463, 2816, 1272, 2722, 1678, 3472, 4743, 1187, 463, 5782, 3516, 2564, 293, 4486, 6284, 1283, 1380, 5996, 2599, 4735, 3967, 6011, 5889, 2666, 674, 1538, 5691, 143, 2106, 2247, 3519, 4280, 5365, 304, 762, 3846, 4886, 3390, 2894, 465, 1729, 2735, 3532, 5624, 3224, 4622, 5445, 5637, 4845, 5451, 6437, 4484, 5916, 2994, 3686, 1400, 34, 2469, 2234, 2203, 3080, 1890, 716, 6378, 2575, 3264, 3036, 5547, 3365, 1259, 4187, 1033, 3194, 1994, 5226, 3786, 1333, 323, 3353, 4363, 451, 500, 602, 1989, 605, 4300, 5593, 6534, 281, 6291, 4204, 3460, 3172, 6038, 3257, 3321, 4237, 557, 4637, 6455, 5730, 3827, 4222, 27, 1949, 5116, 2645, 3431, 111, 4145, 1859, 3584, 3572, 1331, 5570, 5349, 6469, 3629, 283, 2312, 2819, 1753, 2940, 145, 357, 783, 5881, 4150, 5844, 5310, 1794, 2798, 4643, 620, 1590, 4114, 6408, 4977, 3330, 5447, 4606, 4915, 4314, 2673, 5588, 1861, 710, 1779, 1317, 6009, 4036, 4659, 6173, 1196, 2258, 4802, 4707, 147, 6212, 5873, 32, 2439, 2057, 6249, 6207, 4585, 3174, 948, 3637, 2943, 3987, 2363, 1424, 517, 698, 4931, 6120, 1623, 1530, 3702, 6196, 42, 5307, 6517, 2209, 3618, 6261, 3001, 2098, 2963, 5179, 4460, 5181, 5959, 6192, 5057, 1628, 1896, 1449, 4602, 2696, 3204, 1523, 3692, 2646, 2538, 1924, 6132, 4899, 617, 1786, 2775, 4987, 3246, 127, 2337, 5510, 3270, 3886, 5262, 4572, 3442, 3028, 1580, 5566, 3383, 1576, 3118, 4930, 138, 2801, 2594, 2278, 234, 6012, 2602, 2064, 2671, 3646, 2162, 2840, 922, 3562, 1993, 3278, 2811, 2920, 694, 5159, 2848, 187, 2188, 2316, 726, 1197, 3657, 3511, 3011, 4543, 5934, 3208, 5808, 4357, 2275, 1464, 1945, 4807, 2864, 3718, 6304, 218, 470, 359, 4186, 3361, 1715, 647, 3222, 4731, 1870, 4794, 2253, 4319, 4984, 3191, 4656, 4939, 1356, 4649, 2769, 6183, 2895, 6542, 6346, 4616, 3433, 4032, 5151, 6141, 5389, 4695, 2992, 3984, 1784, 6007, 3493, 3294, 6049, 3626, 665, 3049, 5404, 6512, 4787, 5236, 3019, 1090, 2663, 5626, 4932, 2021, 3876, 2410, 3350, 305, 2881, 4824, 1909, 5631, 5283, 4586, 2733, 3709, 5292, 4579, 3947, 3302, 6421, 4443, 2035, 6123, 2355, 197, 3930, 646, 2736, 2545, 3677, 177, 930, 3219, 2565, 587, 4733, 4423, 6059, 3379, 59, 336, 5442, 4318, 667, 4929, 3753, 5925, 3757, 2084, 3062, 4223, 4741, 832, 6544, 5176, 4546, 1419, 3171, 3647, 4154, 3627, 848, 2223, 4950, 3436, 5887, 2777, 2096, 397, 5237, 4530, 1795, 5106, 4683, 3869, 2503, 2404, 3596, 1607, 2942, 1936, 446, 5284, 3589, 4846, 5185, 1327, 3203, 5109, 2399, 2738, 4817, 4416, 1566, 4623, 1702, 1668, 1242, 5153, 4084, 3751, 5403, 692, 6089, 2435, 6056, 4483, 1769, 6351, 5568, 3110, 871, 6126, 669, 3518, 2169, 3067, 3388, 2139, 6383, 3449, 5455, 1922, 3030, 5141, 2873, 1167, 469, 1791, 1836, 5474, 3005, 3835, 1262, 3974, 6337, 110, 764, 1173, 6530, 6135, 4990, 5930, 3880, 36, 5773, 5355, 4254, 2859, 5533, 2875, 528, 4611, 289, 4434, 5395, 853, 3788, 5350, 1301, 3025, 3555, 2222, 1339, 543, 193, 3900, 6177, 2596, 4603, 5542, 3300, 184, 807, 1946, 1298, 1752, 4552, 877, 2225, 1046, 6139, 591, 1019, 1787, 3975, 2507, 6102, 375, 3228, 670, 5707, 4029, 3798, 5923, 4968, 1699, 3684, 3233, 3808, 504, 4375, 1022, 1433, 666, 3848, 2060, 2612, 5975, 4407, 3305, 3697, 2465, 3456, 3009, 1418, 3076, 76, 3551, 3651, 2243, 2063, 1436, 3934, 596, 4386, 6334, 1649, 5868, 4566, 607, 3217, 1923, 2843, 608, 4715, 6487, 5978, 3883, 2808, 4482, 271, 3378, 5683, 396, 1740, 2890, 1164, 2883, 6359, 77, 6373, 1565, 4329, 198, 3060, 1833, 5452, 1366, 4661, 2833, 1295, 5155, 3662, 2501, 708, 255, 2832, 4079, 108, 755, 5302, 4275, 3586, 3615, 2821, 140, 3782, 6382, 3645, 1874, 6414, 55, 1602, 2110, 2111, 2446, 216, 6115, 1300, 5077, 861, 3310, 180, 2892, 5728, 3139, 3821, 5858, 5135, 3066, 3547, 3161, 4534, 2979, 5030, 2691, 595, 5994, 2196, 1627, 3881, 4077, 1021, 5220, 1013, 4826, 2155, 225, 5138, 5261, 2107, 1028, 2723, 2488, 3122, 4969, 4353, 3313, 6443, 291, 4440, 1076, 6463, 3868, 457, 1935, 5431, 3088, 4822, 426, 2517, 4878, 3391, 4285, 2504, 2818, 461, 3331, 6381, 5714, 1905, 2563, 3791, 4335, 2390, 3795, 3480, 1956, 4378, 6156, 2474, 508, 5529, 5193, 2959, 4644, 2649, 5803, 136, 5719, 6106, 1811, 2891, 5933, 348, 5393, 6368, 3489, 1933, 421, 5995, 4330, 1303, 3632, 2610, 2066, 3047, 4994, 4195, 4804, 5801, 5473, 6357, 4073, 1739, 1322, 2054, 436, 5075, 350, 5079, 2135, 6058, 2760, 4805, 6277, 1374, 4287, 1605, 2885, 2146, 5015, 1123, 4334, 4247, 970, 3381, 1974, 4689, 3809, 2093, 1916, 41, 1195, 2852, 5551, 5708, 4107, 712, 1658, 3394, 1824, 4780, 1939, 3334, 4064, 6112, 552, 938, 6424, 3723, 3758, 4451, 4506, 3079, 3178, 3685, 4452, 1162, 5277, 5435, 3810, 4476, 295, 1767, 4269, 385, 2291, 13, 2925, 2353, 3982, 525, 769, 4012, 6338, 5022, 5225, 4505, 2693, 3452, 2083, 2318, 6257, 4396, 153, 2191, 4341, 3590, 476, 6280, 2075, 3735, 4272, 4809, 5222, 3548, 4710, 3983, 3531, 3340, 221, 2456, 3536, 5705, 5565, 5297, 4236, 5186, 2847, 4470, 6018, 341, 3408, 4212, 3186, 3658, 6194, 4420, 3503, 3524, 433, 1652, 2989, 5270, 2805, 2123, 5702, 6529, 3037, 2309, 2159, 6245, 5308, 258, 3640, 6052, 4662, 2945, 2013, 4621, 1660, 3372, 4520, 5812, 118, 3457, 770, 845, 1218, 66, 2140, 4062, 4449, 510, 4541, 2703, 3045, 6331, 1567, 3166, 4190, 3806, 5232, 1178, 3359, 2751, 1985, 5721, 2147, 4956, 3168, 3112, 3012, 1050, 1212, 839, 1277, 5235, 4338, 1854, 5786, 1575, 3267, 5180, 4627, 68, 4562, 4795, 1261, 3743, 509, 447, 3488, 4625, 1500, 1404, 3499, 3858, 2387, 4274, 4391, 4140, 4401, 6262, 761, 2345, 3770, 5381, 581, 4360, 4331, 915, 1258, 2112, 363, 5693, 1102, 4697, 2300, 4564, 3665, 2766, 2655, 3571, 5228, 195, 869, 5096, 6430, 1158, 6428, 53, 2099, 6093, 1696, 6017, 2888, 1597, 4249, 4744, 5528, 5849, 113, 1815, 1650, 2838, 788, 1239, 4717, 4494, 3356, 5692, 259, 5607, 1482, 2242, 2250, 5931, 2679, 5023, 5126, 5312, 4413, 2865, 5669, 3992, 3162, 1959, 5383, 3069, 105, 4354, 6297, 2329, 2381, 6379, 4328, 4491, 1983, 3010, 2988, 2450, 378, 2587, 5890, 6250, 5548, 5290, 3463, 4523, 4664, 4277, 1573, 4382, 1780, 4937, 2608, 725, 1027, 467, 1512, 1778, 2950, 4147, 4414, 3416, 1172, 2348, 3159, 2405, 1927, 3445, 155, 114, 4652, 4946, 5886, 3794, 751, 2056, 1686, 1996, 5596, 4455, 2220, 3196, 4502, 3128, 5457, 2371, 1462, 5892, 713, 6023, 5295, 5234, 5977, 5131, 4415, 804, 3496, 4618, 104, 3807, 2676, 782, 3871, 890, 6041, 6522, 5556, 290, 2426, 5032, 6404, 6200, 6218, 5731, 3142, 5470, 1159, 6051, 855, 3862, 199, 5726, 4031, 916, 3673, 835, 2058, 2562, 5044, 5027, 3307, 4033, 3888, 544, 1692, 25, 3026, 2570, 4913, 5505, 2276, 4297, 4548, 3593, 4646, 6500, 1138, 4803, 3363, 5722, 4231, 3785, 3578, 645, 792, 1669, 1940, 993, 1524, 4815, 5800, 4752, 6272, 2418, 6086, 4981, 3687, 1654, 1292, 6032, 390, 3244, 5035, 1484, 1156, 5243, 4337, 5267, 1671, 3844, 4069, 1685, 971, 3719, 2932, 1499, 448, 4117, 888, 5724, 6096, 3184, 4457, 4218, 3867, 3716, 4011, 2389, 4466, 3081, 872, 4290, 3316, 3136, 6409, 3833, 5117, 1296, 3485, 2019, 2717, 2577, 1448, 2233, 2238, 711, 613, 1829, 3530, 3839, 2037, 827, 583, 4942, 6039, 4574, 5486, 4535, 4129, 4227, 5546, 2077, 2043, 3913, 5196, 2208, 4702, 1243, 2657, 709, 3823, 2905, 4131, 5025, 2415, 5454, 706, 2338, 1847, 1091, 3432, 3574, 6327, 5459, 3873, 556, 3504, 2074, 3769, 1501, 6137, 671, 1533, 1730, 1453, 3367, 2621, 1672, 3784, 5769, 511, 5268, 3295, 4867, 5814, 275, 1256, 4007, 1782, 3494, 5696, 3364, 1912, 4569, 5797, 4381, 112, 1184, 261, 6203, 4537, 6483, 3158, 5287, 6170, 953, 846, 428, 4868, 749, 3427, 5729, 5866, 2534, 5535, 2109, 2237, 3897, 5472, 2194, 132, 1237, 1781, 5140, 2829, 5017, 4040, 151, 54, 6340, 5101, 3830, 6464, 484, 3768, 1410, 5357, 4700, 5316, 3529, 5105, 98, 3509, 3042, 1171, 1962, 5488, 1837, 263, 2903, 5554, 4820, 5046, 5969, 3533, 1498, 3962, 3223, 5175, 4126, 2976, 4647, 5597, 2061, 3414, 3538, 1136, 1192, 1783, 1735, 3065, 5974, 16, 5864, 286, 4859, 379, 4042, 2014, 630, 3955, 6053, 3994, 5144, 1670, 1357, 3487, 3796, 6136, 4424, 209, 1510, 2749, 1421, 941, 2514, 4045, 4061, 2392, 1541, 311, 1189, 851, 5401, 1609, 5783, 599, 5845, 537, 5917, 4660, 4403, 2716, 6490, 795, 4938, 2742, 4973, 991, 4884, 2770, 2339, 1585, 3988, 3781, 5406, 1198, 5428, 1744, 1337, 1043, 1461, 4003, 208, 4441, 4049, 553, 3545, 4135, 3761, 5650, 4943, 1831, 73, 4063, 1875, 2451, 4316, 3443, 6014, 5203, 2121, 205, 6133, 2073, 6005, 833, 5124, 1029, 4851, 4273, 3253, 4730, 1850, 1326, 2284, 3861, 2182, 1693, 65, 3779, 217, 2411, 1987, 5791, 2668, 5271, 6270, 474, 1180, 6292, 4516, 3206, 4146, 2020, 3583, 1582, 4896, 4812, 4630, 2793, 5438, 5641, 2632, 2790, 4779, 5948, 3397, 125, 6246, 5078, 3997, 2494, 4081, 1052, 204, 3747, 2967, 1997, 154, 1122, 1100, 2581, 5241, 2620, 6376, 4087, 1493, 4144, 4283, 2961, 6371, 1743, 5369, 3681, 6184, 4995, 3368, 6174, 5961, 3777, 2585, 1690, 3915, 2641, 5191, 5774, 5644, 2193, 2490, 1409, 5732, 4650, 3502, 3766, 2537, 4620, 765, 3146, 2310, 4685, 1648, 507, 2030, 1080, 4976, 3121, 3039, 6467, 5537, 612, 3183, 4194, 5957, 865, 4986, 3523, 466, 3843, 5276, 1763, 2484, 4718, 4860, 5768, 5370, 1181, 2505, 4767, 2743, 6253, 950, 2116, 6533, 5219, 3050, 2862, 3202, 3517, 3070, 695, 4854, 6108, 756, 374, 3556, 6450, 3181, 1862, 2412, 52, 1568, 3260, 31, 4392, 5206, 2835, 2425, 1704, 1984, 3663, 2349, 2360, 3661, 1534, 4171, 1186, 3712, 6525, 6547, 3417, 2700, 3403, 4565, 3866, 186, 4409, 5430, 6434, 1163, 503, 2319, 419, 533, 3265, 2287, 4370, 3476, 1036, 4259, 4765, 5443, 1571, 1581, 3298, 5560, 3850, 5671, 2367, 4137, 4402, 4309, 1467, 3119, 5446, 6345, 46, 2402, 6187, 4634, 6356, 5152, 4043, 6130, 3917, 4106, 358, 524, 133, 3845, 1414, 3137, 3090, 6186, 4951, 1764, 935, 3402, 4397, 1846, 623, 1710, 589, 689, 4684, 5010, 4136, 3289, 1647, 1584, 4093, 5275, 3973, 2440, 1823, 6524, 4605, 5371, 3932, 1111, 3577, 5639, 2245, 146, 4696, 2861, 5242, 6362, 3464, 2561, 3501, 4291, 5609, 5538, 1104, 5021, 337, 2317, 6384, 4770, 6142, 2406, 3594, 747, 4435, 2739, 2031, 4525, 1698, 4339, 4487, 3086, 4599, 6466, 2576, 5616, 3283, 5014, 5112, 1676, 1412, 1075, 5042, 2557, 6024, 2445, 2589, 3587, 1777, 1894, 100, 564, 4133, 1267, 2447, 4213, 149, 2872, 1129, 2566, 6497, 5479, 5154, 367, 1083, 4911, 5793, 1856, 213, 4847, 3199, 6514, 2138, 1381, 4517, 5324, 3736, 2219, 2601, 5802, 6504, 4025, 806, 4445, 2327, 4056, 2423, 1706, 5204, 2695, 194, 2475, 2949, 6540, 6299, 63, 1547, 990, 2993, 4299, 789, 404, 5852, 4366, 1413, 2157, 3073, 5589, 4448, 939, 4941, 863, 4373, 2954, 4121, 3275, 4478, 2374, 4343, 4766, 393, 1684, 2721, 3401, 2644, 6427, 280, 5238, 5137, 1379, 3382, 6372, 1549, 4587, 1086, 5398, 3946, 2391, 121, 6254, 5066, 1271, 1430, 1444, 5514, 1213, 3384, 6499, 144, 4619, 2025, 4891, 1819, 2904, 3176, 3891, 5352, 5348, 44, 1377, 6198, 5712, 1403, 5623, 3190, 391, 3153, 2569, 2510, 1539, 6029, 361, 4985, 4655, 5197, 2698, 4176, 2956, 4538, 1674, 3942, 3732, 5968, 2810, 5649, 1328, 256, 2101, 1732, 2192, 4658, 471, 5511, 4734, 3514, 365, 173, 107, 1001, 3252, 1961, 1299, 6418, 2674, 4356, 6344, 2899, 1814, 1598, 5534, 4248, 2970, 6457, 3189, 6456, 3649, 1423, 4527, 4161, 4139, 273, 3624, 3395, 5613, 1537, 5847, 2836, 5854, 5672, 3240, 3103, 148, 946, 3311, 2987, 2429, 5183, 5688, 6459, 3783, 3095, 1006, 1282, 4200, 868, 5366, 3481, 3491, 3949, 590, 2974, 5187, 5047, 1748, 5274, 1893, 4387, 910, 680, 387, 6273, 2937, 1422, 3676, 5263, 5189, 4067, 5557, 6523, 5272, 5788, 3167, 6278, 3396, 2791, 124, 1705, 6264, 535, 858, 316, 71, 4631, 4834, 141, 3089, 3611, 3421, 122, 3515, 4498, 1270, 3729, 5068, 2044, 1072, 1170, 2688, 1621, 2068, 6465, 21, 4112, 6510, 2321, 1417, 2636, 6503, 4444, 1431, 5620, 3259, 3285, 2522, 887, 3339, 5878, 4657, 5541, 2072, 4436, 2454, 529, 2290, 5240, 5160, 134, 6330, 6157, 3513, 1078, 2991, 6498, 6191, 3979, 805, 6350, 1458, 6432, 5478, 2468, 3737, 5056, 5544, 4468, 1871, 296, 4736, 222, 4686, 3910, 4687, 3389, 4571, 5423, 3021, 4885, 1135, 5427, 1203, 1109, 4039, 6458, 2184, 4791, 2982, 934, 5591, 3251, 3585, 699, 3272, 4224, 1626, 6259, 4778, 1926, 2627, 4295, 5939, 3212, 889, 2409, 6285, 4539, 4747, 1127, 830, 3266, 1082, 1044, 5856, 6216, 453, 1020, 3425, 4030, 2164, 1487, 2850, 4729, 6377, 6295, 483, 3534, 3550, 3701, 1291, 5147, 2299, 6515, 5757, 2734, 2794, 2799, 1842, 2002, 3335, 1169, 1468, 4465, 6166, 1097, 4849, 2642, 2403, 5309, 5466, 1977, 610, 3730, 2244, 592, 1981, 1868, 2588, 5687, 3091, 454, 5622, 4041, 1454, 1548, 3133, 5536, 3018, 3441, 6204, 3816, 3035, 1497, 4653, 5289, 1664, 5941, 6287, 156, 1687, 4897, 1445, 6343, 3114, 4490, 6538, 2771, 270, 228, 2432, 4359, 5426, 4315, 6243, 5358, 2427, 3082, 4365, 1738, 48, 4229, 4501, 6486, 597, 5836, 3475, 2067, 565, 3164, 931, 1594, 5321, 1005, 2105, 4038, 3348, 2342, 26, 4305, 4489, 5973, 4495, 3023, 3373, 3644, 5233, 4095, 2509, 771, 2574, 2221, 5397, 2628, 6022, 1577, 3650, 1770, 5567, 4002, 2333, 2007, 3985, 526, 1042, 2578, 4241, 5471, 3977, 2197, 1614, 676, 2547, 886, 6035, 911, 5965, 4853, 2145, 3921, 92, 4065, 5877, 4157, 1789, 2042, 1118, 1852, 644, 2580, 4872, 2481, 3971, 3569, 928, 2712, 444, 4027, 4814, 2921, 4469, 2172, 2076, 254, 2499, 3195, 5480, 1194, 176, 182, 6016, 1606, 2485, 969, 3393, 3837, 5715, 3822, 6420, 4823, 1372, 6453, 5133, 5509, 1876, 5364, 1160, 1183, 6496, 4321, 5202, 3024, 6433, 673, 5865, 472, 809, 6217, 1438, 1976, 3996, 954, 4310, 3052, 4324, 3468, 1695, 6083, 3044, 2605, 3635, 3007, 3193, 5122, 5136, 2495, 3675, 2681, 1683, 5103, 6107, 4086, 2261, 6328, 4692, 3933, 4472, 4682, 4260, 2100, 5011, 3742, 6190, 2168, 4763, 6020, 4188, 4119, 965, 4775, 207, 3046, 1096, 3147, 1625, 1323, 4437, 4711, 4966, 4713, 4458, 1336, 838, 1330, 1087, 1604, 2957, 3098, 1869, 3508, 6495, 6185, 5723, 2483, 796, 1335, 2763, 2419, 4738, 5527, 6021, 5970, 532, 5951, 1274, 2282, 75, 455, 430, 5935, 4456, 3324, 635, 2737, 4037, 1038, 14, 4333, 2473, 1612, 803, 4528, 3358, 4701, 4887, 4665, 6211, 2980, 6335, 3911, 6124, 6296, 4013, 600, 3374, 2026, 2814, 684, 4964, 5053, 3327, 3630, 30, 2923, 1701, 4819, 6491, 139, 2922, 5765, 1941, 3656, 5347, 2909, 3343, 6077, 3654, 754, 4286, 5962, 1677, 4830, 4892, 3211, 6269, 3787, 339, 3064, 2356, 3247, 6113, 137, 5562, 1338, 2467, 4705, 2710, 5098, 2521, 1529, 6180, 9, 6075, 2817, 4108, 4577, 6195, 4614, 429, 5670, 874, 2071, 3528, 2914, 3056, 49, 1253, 2270, 2971, 520, 5674, 1745, 5051, 549, 4555, 1570, 3437, 5156, 6366, 1116, 3471, 2277, 6099, 3666, 2792, 693, 5223, 33, 2186, 2040, 4474, 3084, 3341, 1460, 501, 2177, 5882, 219, 5914, 1364, 1378, 5342, 287, 2206, 5604, 6275, 5278, 3652, 4215, 2753, 3342, 51, 6546, 3561, 2386, 3696, 3793, 4127, 1826, 5013, 5894, 2896, 6298, 3053, 4542, 1012, 3392, 4706, 3537, 1659, 1286, 4163, 3744, 3576, 5632, 4972, 4092, 2613, 6358, 1843, 3925, 4105, 2185, 4825, 6208, 2401, 3872, 2251, 829, 3512, 2508, 622, 1363, 937, 3800, 5320, 1238, 2152, 3674, 2731, 1596, 3315, 5522, 6248, 2802, 5286, 4142, 285, 1416, 664, 5525, 2336, 884, 2372, 3125, 831, 527, 2104, 3165, 5531, 343, 301, 1943, 1103, 4723, 3041, 3497, 4792, 1125, 1900, 1107, 2231, 6118, 1132, 3169, 633, 2366, 5615, 196, 1401, 2437, 389, 1126, 6127, 2259, 5853, 2351, 859, 1897, 3293, 5619, 6222, 776, 5875, 19, 715, 2586, 4447, 1776, 918, 4270, 4151, 5060, 4732, 4875, 2532, 1755, 6100, 5317, 5635, 5130, 956, 4178, 4746, 3683, 4992, 834, 3894, 74, 3543, 3380, 4211, 1023, 5515, 5518, 1518, 4663, 3163, 4015, 1931, 6387, 6410, 2694, 2232, 3077, 5932, 5950, 5966, 3792, 1320, 2607, 5217, 5190, 1673, 1324, 728, 582, 4928, 109, 1978, 2867, 4934, 6176, 2929, 1591, 6407, 3941, 3832, 4251, 5319, 2010, 688, 2486, 2262, 5024, 2611, 3479, 4983, 5074, 5592, 3083, 4536, 4883, 62, 1917, 4604, 3413, 3803, 679, 933, 2004, 2782, 2884, 521, 4796, 1972, 4422, 1910, 1817, 4473, 1483, 875, 4361, 1165, 3467, 3907, 5378, 2639, 2796, 860, 2271, 727, 5700, 1456, 2350, 1405, 2912, 1037, 3156, 5627, 200, 6406, 951, 2764, 418, 2249, 4549, 3157, 4947, 1617, 4993, 4785, 3972, 1435, 3192, 288, 1049, 5698, 5107, 1810, 3058, 3976, 1426, 5694, 3319, 3999, 4978, 3242, 12, 5213, 4404, 5928, 2195, 2407, 6439, 3145, 6282, 1851, 541, 5192, 5940, 3749, 445, 3151, 1329, 3227, 6537, 2315, 4816, 206, 2017, 6092, 1827, 6169, 4813, 4563, 278, 785, 4895, 6128, 3057, 6025, 3963, 5313, 554, 538, 3752, 3605, 779, 2748, 4001, 5388, 2874, 3474, 4122, 4863, 2347, 2340, 2526, 5540, 6293, 4383, 6447, 1848, 2167, 3291, 852, 2573, 636, 5506, 3415, 2947, 2523, 3022, 3804, 2727, 1244, 3282, 3451, 6188, 1131, 6445, 866, 3659, 3447, 3097, 5915, 2124, 1822, 6468, 4852, 1275, 458, 3061, 57, 2887, 3250, 2256, 1368, 3032, 5448, 2065, 1878, 5629, 6441, 6119, 6325, 626, 2919, 1516, 5727, 4327, 3038, 2370, 759, 857, 277, 4769, 6431, 4850, 4244, 3824, 3818, 2198, 784, 3989, 4827, 2417, 5402, 2928, 4902, 1902, 2761, 2978, 2286, 757, 5884, 4871, 1004, 5716, 3965, 3435, 2812, 2876, 191, 5227, 3901, 214, 1340, 4276, 5893, 2906, 6104, 298, 1343, 5463, 6121, 6010, 3580, 3954, 2137, 2648, 6370, 5880, 464, 3904, 1214, 2180, 2708, 5382, 3409, 3149, 3418, 3678, 1746, 3268, 364, 6306, 6342, 315, 2525, 2910, 468, 3706, 4784, 1891, 2086, 2113, 376, 844, 6519, 5139, 4638, 5379, 2239, 236, 130, 1707, 885, 944, 5487, 294, 3878, 5194, 1351, 4725, 5221, 2149, 702, 6103, 2953, 5260, 2199, 5689, 4355, 4982, 746, 3249, 1007, 3144, 4405, 2027, 1290, 1385, 60, 2217, 5460, 5150, 3248, 5188, 1816, 72, 2551, 4325, 1737, 6171, 609, 5640, 3713, 2341, 5559, 267, 5215, 1098, 3819, 2018, 4060, 5018, 5648, 2255, 4398, 3092, 2070, 5869, 1995, 2187, 545, 4773, 1877, 229, 2933, 2939, 1928, 5341, 2664, 2430, 4726, 2530, 2368, 435, 3458, 6167, 1771, 6276, 1437, 6164, 717, 1415, 5790, 1276, 131, 3558, 212, 1174, 4829, 2161, 505, 2326, 1792, 6417, 1543, 5034, 3495, 2433, 3187, 1034, 1544, 4164, 5835, 3978, 4965, 4313, 2241, 5753, 2934, 3063, 1265, 1124, 4172, 1154, 3918, 268, 2444, 2330, 4979, 2153, 4197, 5433, 2257, 3748, 2513, 4553, 3554, 1110, 1349, 4323, 2669, 942, 1115, 701, 6549, 6087, 2844, 1514, 2849, 3477, 5224, 3160, 6205, 3552, 5936, 4737, 4694, 678, 443, 266, 2930, 306, 3750, 917, 3434, 3567, 4294, 3727, 2647, 584, 1495, 4209, 3960, 2267, 5097, 4681, 1204, 5703, 5323, 2845, 1166, 2643, 5690, 1447, 4996, 1765, 3951, 1662, 536, 1711, 5037, 2765, 3369, 6494, 997, 1958, 6165, 3864, 4588, 2931, 2554, 3756, 5067, 920, 2142, 2572, 5832, 2839, 2269, 3621, 3780, 4411, 3754, 5392, 5949, 2729, 6302, 5214, 3814, 6260, 5464, 354, 2964, 274, 5751, 4742, 2983, 2593, 2343, 3135, 2281, 6037, 2393, 4408, 2680, 1016, 4124, 6521, 2617, 1055, 1925, 4446, 6442, 6221, 95, 5257, 5449, 6223, 6364, 5799, 4364, 3714, 5938, 5458, 5062, 3560, 1193, 5093, 1867, 870, 3812, 5784, 3054, 2254, 502, 2658, 4219, 1651, 1998, 4632, 4004, 4493, 2023, 995, 2493, 3306, 3462, 5134, 2685, 1532, 4962, 473, 2201, 1813, 3243, 5453, 233, 1496, 6101, 4059, 624, 3826, 4109, 5143, 6268, 2559, 4617, 864, 1726, 3670, 4053, 4955, 1588, 1901, 3299, 1665, 2263, 3273, 1030, 3286, 2678, 4903, 3717, 2598, 1992, 3653, 2090, 4028, 3352, 1025, 3127, 601, 2659, 3698, 3908, 61, 4296, 996, 3805, 6375, 4776, 5963, 4166, 5587, 4461, 3320, 5720, 368, 2089, 5512, 388, 4246, 1452, 2314, 5045, 5956, 3546, 1505, 5646, 2476, 2985, 5610, 1569, 2853, 4210, 1191, 2288, 4385, 1010, 2969, 1731, 1980, 5019, 3970, 625, 6502, 6134, 202, 211, 4877, 1835, 837, 1428, 1855, 3813, 6098, 5461, 6361, 4866, 925, 4035, 29, 3825, 6047, 1252, 5058, 1563, 6175, 836, 6076, 5944, 5115, 5776, 4890, 5211, 3829, 310, 1773, 6054, 1768, 5523, 513, 5373, 2946, 99, 6349, 4642, 4051, 2471, 4034, 6110, 3279, 3581, 4997, 6492, 1047, 1611, 2527, 615, 2325, 847, 4633, 297, 6178, 2189, 4533, 5362, 1903, 912, 5113, 3129, 6267, 356, 3498, 5516, 6213, 6215, 1425, 4421, 6129, 1709, 1370, 4488, 6326, 2033, 6008, 2382, 3154, 1713, 6426, 5697, 4158, 2822, 116, 2809, 4936, 618, 4545, 5594, 542, 5129, 2178, 1355, 936, 2689, 5677, 5146, 4256, 6425, 4358, 2567, 3857, 724, 3746, 6423, 2732, 1325, 2998, 1646, 5628, 47, 1406, 6511, 3492, 4900, 4821, 4170, 1864, 2016, 2831, 1832, 4091, 2078, 672, 539, 1631, 3762, 459, 5711, 1054, 2778, 2529, 603, 5953, 6091, 2497, 201, 2289, 3924, 3922, 2515, 3612, 2631, 3207, 4556, 2677, 4141, 2996, 1048, 2359, 2860, 1491, 4654, 2416, 555, 5231, 4379, 2597, 2151, 2479, 4174, 1287, 1990, 3906, 449, 808, 1502, 4975, 4485, 6303, 2230, 1346, 514, 101, 5526, 2346, 6386, 5883, 3986, 4693, 6412, 4635, 2544, 5752, 5437, 6365, 2670, 1879, 279, 4967, 5465, 1009, 3221, 5946, 96, 362, 284, 6030, 2713, 4876, 6354, 5701, 1077, 1216, 929, 1489, 6543, 2022, 5634, 1991, 4368, 4016, 3604, 842, 5031, 1775, 456, 3535, 5874, 5718, 994, 5444, 3638, 2158, 5770, 1540, 2897, 97, 3338, 5927, 2108, 1503, 2615, 6199, 4134, 5929, 172, 1929, 2148, 5424, 3213, 371, 1268, 4873, 6163, 150, 3695, 1175, 3290, 547, 11, 3424, 3400, 2650, 4945, 188, 2984, 5606, 3817, 3015, 5368, 3357, 4376, 3210, 4071, 2036, 439, 6274, 3980, 3905, 5288, 4058, 2373, 2779, 5651, 952, 2118, 1504, 5123, 2361, 3603, 3734, 5305, 1408, 6509, 3679, 3006, 3851, 1202, 1820, 4949, 2762, 2609, 3948, 5229, 1790, 2408, 546, 5218, 772, 2878, 5048, 4177, 6532, 4008, 3764, 1434, 5595, 3226, 4666, 6536, 6125, 5695, 3789, 1133, 3385, 5684, 2773, 5363, 4772, 1117, 2629, 1620, 5029, 5954, 4024, 2981, 2395, 632, 4076, 4399, 6545, 5468, 224, 5038, 2855, 1362, 2820, 663, 423, 4613, 5182, 1074, 3412, 1289, 4159, 2719, 4152, 2603, 3215, 3643, 6440, 1907, 2248, 3173, 4450, 5384, 6360, 5372, 355, 3323, 5775, 2190, 6484, 5785, 4540, 3564, 1485, 5127, 4148, 2041, 1812, 5050, 967, 1494, 128, 5851, 3582, 5861, 992, 3944, 3238, 4576, 6193, 5099, 2715, 1011, 4745, 1603, 179, 3969, 6097, 3096, 3597, 4980, 519, 6339, 3708, 2166, 4293, 2690, 6489, 5429, 2055, 1168, 6027, 3544, 3573, 6294, 2114, 1407, 5860, 1465, 5391, 6256, 3048, 2926, 1481, 1892, 5676, 2653, 4308, 4532, 4798, 1728, 4282, 862, 2877, 4009, 3051, 91, 4808, 4322, 2421, 3205, 5158, 5811, 4418, 3410, 594, 3945, 6333, 4908, 5709, 4970, 2482, 3815, 37, 2774, 272, 4189, 593, 5484, 2825, 3003, 522, 4279, 5386, 1321, 1948, 5862, 2500, 6237, 3715, 5508, 377, 3898, 4610, 6263, 2797, 4179, 668, 1508, 4388, 6094, 6004, 5456, 4901, 2619, 3241, 919, 1161, 1593, 2354, 4292, 6033, 4010, 3328, 94, 3428, 5239, 4768, 366, 3889, 3660, 3728, 1697, 2965, 758, 6138, 3879, 4006, 4217, 17, 4130, 1209, 231, 3072, 2682, 5306, 3138, 3940, 5322, 442, 4782, 3739, 963, 2511, 3811, 2452, 4340, 5481, 3688, 1610, 5145, 6105, 2313, 1860, 1953, 4288, 303, 2039, 4797, 1442, 1531, 3486, 1085, 2837, 6438, 6446, 4496, 4783, 2757, 20, 4793, 6265, 3448, 2661, 4958, 6324, 2600, 2725, 3852, 4667, 3075, 58, 4143, 4233, 3148, 1185, 3995, 106, 4728, 5296, 2464, 3303, 3613, 353, 3197, 4284, 4342, 588, 773, 312, 6405, 5891, 766, 6550, 1895, 5301, 1849, 6288, 5209, 5967, 1766, 2385, 4989, 3349, 1954, 3055, 1093, 3461, 4094, 6429, 5354, 6518, 3126, 5149, 344, 1756, 3549, 4074, 386, 2975, 183, 38, 2252, 215, 4893, 1749, 3776, 6435, 1550, 4374, 5997, 3376, 6462, 745, 843, 4417, 5798, 3234, 2413, 4963, 3601, 1947, 5436, 604, 775, 3387, 4870, 4865, 1511, 2207, 15, 4208, 3209, 4500, 1246, 5614, 1420, 5345, 1913, 683, 3838, 5380, 828, 3602, 6026, 4669, 5076, 2927, 2264, 614, 3896, 5771, 1834, 3406, 3927, 3459, 1536, 1845, 523, 6031, 3639, 4554, 6220, 4113, 2266, 3218, 5387, 5846, 3179, 2235, 3438, 5713, 4085, 381, 1645, 313, 2117, 1451, 5059, 2702, 6057, 3366, 1757, 921, 1382, 3453, 6271, 2755, 1288, 5532, 174, 4257, 3237, 972, 1350, 4861, 2528, 3043, 2591, 4351, 629, 3981, 4909, 3419, 2324, 1865, 23, 1245, 2492, 3152, 3274, 4023, 2420, 2697, 2434, 3959, 5400, 5012, 786, 512, 120, 431, 1906, 5972, 4771, 3505, 1951, 2520, 3099, 4149, 142, 4748, 3141, 6201, 5524, 998, 4083, 2553, 2687, 999, 4811, 308, 2091, 4193, 1629, 3134, 2279, 3588, 4774, 3745, 3111, 1973, 346, 1241, 2911, 2463, 3801, 4191, 2756, 1278, 1365, 704, 1375, 516, 1506, 1113, 1429, 3877, 2728, 2119, 3466, 3950, 5630, 4467, 3595, 1081, 5857, 551, 1334, 4607, 3332, 3628, 3765, 3893, 5794, 3882, 5673, 4459, 6090, 6202, 5550, 3875, 2498, 4722, 5507, 2858, 1564, 3175, 5555, 2745, 5344, 4888, 940, 5855, 2533, 5063, 2638, 1128, 4668, 1535, 3185, 3093, 2265, 5311, 3842, 707, 5805, 1586, 2924, 2747, 1758, 3308, 5552, 2154, 1383, 3565, 2431, 3849, 3123, 6109, 3631, 2301, 2085, 2972, 3914, 5618, 2549, 4057, 4352, 4906, 3346, 2478, 3263, 2438, 1942, 1450, 4235, 1818, 5943, 5064, 3255, 340, 3261, 4608, 1873, 5795, 4557, 1457, 1092, 5913, 4894, 5273, 1353, 4727, 4492, 2907, 152, 1332, 427, 3031, 1344, 6415, 4014, 5477, 768, 1208, 6348, 1513, 2582, 6045, 3563, 1657, 1796, 4281, 4531, 5976, 945, 3107, 6505, 6088, 3617, 1190, 2095, 3201, 4125, 4601, 477, 2962, 3874, 4203, 3700, 6244, 3939, 5374, 5850, 2012, 3113, 1619, 3775, 2176, 2604, 4232, 1105, 1263, 6266, 5265, 5885, 628, 3256, 2156, 6182, 432, 2879, 5282, 2441, 1904, 4271, 3767, 2652, 6461, 2141, 5717, 5208, 203, 5792, 2813, 1608, 4245, 6095, 518, 1035, 3271, 1714, 4044, 1254, 2900, 2948, 3180, 2491, 6526, 2008, 345, 6028, 6114, 2003, 4250, 774, 1095, 3115, 5111, 4905, 35, 6013, 4116, 3929, 2489, 4788, 2935, 4862, 1492, 637, 3568, 2322, 3470, 1509, 395, 540, 5549, 6258, 2087, 2344, 1297, 5647, 1872, 6454, 3928, 3903, 4220, 3002, 437, 2122, 93, 4889, 1101, 2590, 4026, 563, 3473, 5809, 2518, 3450, 5789, 5483, 4046, 5897, 6085, 1527, 1002, 3235, 5755, 292, 103, 4301, 2472, 6353, 2307, 3755, 4716, 5848, 1015, 6493, 2918, 129, 3720, 190, 4005, 5367, 4529, 1688, 40, 5462, 6189, 4688, 2651, 1273, 2536, 4856, 1589, 4367, 1682, 1108, 4258, 5177, 349, 2882, 5467, 1488, 3014, 4096, 643, 6413, 4904, 1084, 4526, 2453, 1347, 566, 22, 943, 4047, 4369, 1986, 1797, 2443, 841, 2448, 1358, 43, 1318, 1528, 6289, 1950, 2038, 3068, 2665, 1137, 3355, 5259, 223, 3525, 2034, 4068, 1515, 4175, 3304, 968, 6044, 2857, 1094, 2388, 3177, 2936, 6352, 883, 4781, 5061, 1663, 4070, 4066, 1703, 1689, 2202, 1455, 3778, 4118, 2684, 1587, 3465]\n",
      "test ids:  [0, 1, 2, 3, 4, 5, 6, 7, 8, 78, 79, 80, 81, 82, 83, 84, 85, 86, 87, 88, 89, 90, 158, 159, 160, 161, 162, 163, 164, 165, 166, 167, 168, 169, 170, 171, 238, 239, 240, 241, 242, 243, 244, 245, 246, 247, 248, 249, 250, 251, 252, 253, 318, 319, 320, 321, 322, 324, 325, 326, 327, 328, 329, 330, 331, 332, 333, 334, 335, 398, 399, 400, 401, 402, 405, 406, 407, 408, 409, 410, 411, 412, 413, 414, 415, 416, 417, 478, 479, 480, 481, 482, 486, 487, 488, 489, 490, 491, 492, 493, 494, 495, 496, 497, 498, 499, 558, 559, 560, 561, 562, 567, 568, 569, 570, 571, 572, 573, 574, 575, 576, 577, 578, 579, 580, 638, 639, 640, 641, 642, 648, 649, 650, 651, 652, 653, 654, 655, 656, 657, 658, 659, 660, 661, 662, 718, 719, 720, 721, 722, 729, 730, 731, 732, 733, 734, 735, 736, 737, 738, 739, 740, 741, 742, 743, 744, 798, 799, 800, 801, 802, 810, 811, 812, 813, 814, 815, 816, 817, 818, 819, 820, 821, 822, 823, 824, 825, 826, 878, 879, 880, 881, 882, 892, 893, 894, 895, 896, 897, 898, 899, 900, 901, 902, 903, 904, 905, 906, 907, 908, 958, 959, 960, 961, 962, 974, 975, 976, 977, 978, 979, 980, 981, 982, 983, 984, 985, 986, 987, 988, 989, 1039, 1040, 1041, 1057, 1058, 1059, 1060, 1061, 1062, 1063, 1064, 1065, 1066, 1067, 1068, 1069, 1070, 1071, 1119, 1120, 1121, 1139, 1140, 1141, 1142, 1143, 1144, 1145, 1146, 1147, 1148, 1149, 1150, 1151, 1152, 1153, 1199, 1200, 1201, 1221, 1222, 1223, 1224, 1225, 1226, 1227, 1228, 1229, 1230, 1231, 1232, 1233, 1234, 1235, 1279, 1280, 1281, 1304, 1305, 1306, 1307, 1308, 1309, 1310, 1311, 1312, 1313, 1314, 1315, 1316, 1359, 1360, 1361, 1386, 1387, 1388, 1389, 1390, 1391, 1392, 1393, 1394, 1395, 1396, 1397, 1398, 1439, 1440, 1441, 1469, 1470, 1471, 1472, 1473, 1474, 1475, 1476, 1477, 1478, 1479, 1480, 1519, 1520, 1521, 1551, 1552, 1553, 1554, 1555, 1556, 1557, 1558, 1559, 1560, 1561, 1562, 1599, 1600, 1601, 1633, 1634, 1635, 1636, 1637, 1638, 1639, 1640, 1641, 1642, 1643, 1644, 1679, 1680, 1681, 1716, 1717, 1718, 1719, 1720, 1721, 1722, 1723, 1724, 1725, 1759, 1760, 1761, 1798, 1799, 1800, 1801, 1802, 1803, 1804, 1805, 1806, 1807, 1839, 1840, 1841, 1880, 1881, 1882, 1883, 1884, 1885, 1886, 1887, 1888, 1889, 1919, 1920, 1921, 1963, 1964, 1965, 1966, 1967, 1968, 1969, 1970, 1971, 1999, 2000, 2001, 2045, 2046, 2047, 2048, 2049, 2050, 2051, 2052, 2053, 2079, 2080, 2081, 2127, 2128, 2129, 2130, 2131, 2132, 2133, 2134, 2160, 2210, 2211, 2212, 2213, 2214, 2215, 2216, 2240, 2292, 2293, 2294, 2295, 2296, 2297, 2298, 2320, 2375, 2376, 2377, 2378, 2379, 2380, 2400, 2457, 2458, 2459, 2460, 2461, 2462, 2480, 2539, 2540, 2541, 2542, 2543, 2560, 2622, 2623, 2624, 2625, 2640, 2704, 2705, 2706, 2707, 2720, 2786, 2787, 2788, 2789, 2800, 2869, 2870, 2871, 2880, 2951, 2952, 2960, 3033, 3034, 3040, 3116, 3120, 3198, 3200, 3280, 3360, 3362, 3440, 3444, 3520, 3526, 3527, 3600, 3608, 3609, 3680, 3689, 3690, 3691, 3760, 3771, 3772, 3773, 3774, 3840, 3853, 3854, 3855, 3856, 3920, 3935, 3936, 3937, 3938, 4000, 4017, 4018, 4019, 4020, 4021, 4080, 4098, 4099, 4100, 4101, 4102, 4103, 4160, 4180, 4181, 4182, 4183, 4184, 4185, 4240, 4262, 4263, 4264, 4265, 4266, 4267, 4268, 4320, 4344, 4345, 4346, 4347, 4348, 4349, 4350, 4400, 4426, 4427, 4428, 4429, 4430, 4431, 4432, 4433, 4479, 4480, 4481, 4507, 4508, 4509, 4510, 4511, 4512, 4513, 4514, 4515, 4559, 4560, 4561, 4589, 4590, 4591, 4592, 4593, 4594, 4595, 4596, 4597, 4639, 4640, 4641, 4671, 4672, 4673, 4674, 4675, 4676, 4677, 4678, 4679, 4680, 4719, 4720, 4721, 4753, 4754, 4755, 4756, 4757, 4758, 4759, 4760, 4761, 4762, 4799, 4800, 4801, 4835, 4836, 4837, 4838, 4839, 4840, 4841, 4842, 4843, 4844, 4879, 4880, 4881, 4916, 4917, 4918, 4919, 4920, 4921, 4922, 4923, 4924, 4925, 4926, 4927, 4959, 4960, 4961, 4998, 4999, 5000, 5001, 5002, 5003, 5004, 5005, 5006, 5007, 5008, 5009, 5039, 5040, 5041, 5080, 5081, 5082, 5083, 5084, 5085, 5086, 5087, 5088, 5089, 5090, 5091, 5119, 5120, 5121, 5162, 5163, 5164, 5165, 5166, 5167, 5168, 5169, 5170, 5171, 5172, 5173, 5174, 5199, 5200, 5201, 5244, 5245, 5246, 5247, 5248, 5249, 5250, 5251, 5252, 5253, 5254, 5255, 5256, 5279, 5280, 5281, 5325, 5326, 5327, 5328, 5329, 5330, 5331, 5332, 5333, 5334, 5335, 5336, 5337, 5338, 5339, 5359, 5360, 5361, 5407, 5408, 5409, 5410, 5411, 5412, 5413, 5414, 5415, 5416, 5417, 5418, 5419, 5420, 5421, 5439, 5440, 5441, 5489, 5490, 5491, 5492, 5493, 5494, 5495, 5496, 5497, 5498, 5499, 5500, 5501, 5502, 5503, 5519, 5520, 5521, 5571, 5572, 5573, 5574, 5575, 5576, 5577, 5578, 5579, 5580, 5581, 5582, 5583, 5584, 5585, 5586, 5598, 5599, 5600, 5601, 5602, 5652, 5653, 5654, 5655, 5656, 5657, 5658, 5659, 5660, 5661, 5662, 5663, 5664, 5665, 5666, 5667, 5668, 5678, 5679, 5680, 5681, 5682, 5734, 5735, 5736, 5737, 5738, 5739, 5740, 5741, 5742, 5743, 5744, 5745, 5746, 5747, 5748, 5749, 5750, 5758, 5759, 5760, 5761, 5762, 5816, 5817, 5818, 5819, 5820, 5821, 5822, 5823, 5824, 5825, 5826, 5827, 5828, 5829, 5830, 5831, 5838, 5839, 5840, 5841, 5842, 5898, 5899, 5900, 5901, 5902, 5903, 5904, 5905, 5906, 5907, 5908, 5909, 5910, 5911, 5912, 5918, 5919, 5920, 5921, 5922, 5980, 5981, 5982, 5983, 5984, 5985, 5986, 5987, 5988, 5989, 5990, 5991, 5992, 5993, 5998, 5999, 6000, 6001, 6002, 6061, 6062, 6063, 6064, 6065, 6066, 6067, 6068, 6069, 6070, 6071, 6072, 6073, 6074, 6078, 6079, 6080, 6081, 6082, 6143, 6144, 6145, 6146, 6147, 6148, 6149, 6150, 6151, 6152, 6153, 6154, 6155, 6158, 6159, 6160, 6161, 6162, 6225, 6226, 6227, 6228, 6229, 6230, 6231, 6232, 6233, 6234, 6235, 6236, 6238, 6239, 6240, 6241, 6242, 6307, 6308, 6309, 6310, 6311, 6312, 6313, 6314, 6315, 6316, 6317, 6318, 6319, 6320, 6321, 6322, 6389, 6390, 6391, 6392, 6393, 6394, 6395, 6396, 6397, 6398, 6399, 6400, 6401, 6402, 6470, 6471, 6472, 6473, 6474, 6475, 6476, 6477, 6478, 6479, 6480, 6481, 6482, 6552, 6553, 6554, 6555, 6556, 6557, 6558, 6559, 6560]\n",
      "CPU times: user 156 ms, sys: 11.9 ms, total: 168 ms\n",
      "Wall time: 167 ms\n"
     ]
    }
   ],
   "source": [
    "%%time\n",
    "n_total = len(simulation.dataframe)\n",
    "n_train = len(simulation.dataframe[simulation.dataframe.type_of == \"train\"])\n",
    "n_val = len(simulation.dataframe[simulation.dataframe.type_of == \"val\"])\n",
    "n_test = len(simulation.dataframe[simulation.dataframe.type_of == \"test\"])\n",
    "n_train_hamiltonians = len(simulation.train_ids)\n",
    "n_val_hamiltonians = len(simulation.val_ids)\n",
    "n_test_hamiltonians = len(simulation.test_ids)\n",
    "n_total_hamiltonians = n_train_hamiltonians + n_val_hamiltonians + n_test_hamiltonians\n",
    "\n",
    "print(\"% train: \", n_train/n_total)\n",
    "print(\"% val: \",  n_val/n_total)\n",
    "print(\"% test: \", n_test/n_total)\n",
    "print(\"% train + val + test: \", (n_train+n_val+n_test)/n_total)\n",
    "print(\"\\n\")\n",
    "print(\"number of train hamiltonians: \", n_train_hamiltonians)\n",
    "print(\"number of val hamiltonians: \", n_val_hamiltonians)\n",
    "print(\"number of test hamiltonians: \", n_test_hamiltonians)\n",
    "print(\"total number of hamiltonians: \", n_total_hamiltonians)\n",
    "print(\"\\n\")\n",
    "print(\"train ids: \", simulation.train_ids)\n",
    "print(\"val ids: \", simulation.val_ids)\n",
    "print(\"test ids: \", simulation.test_ids)"
   ]
  },
  {
   "cell_type": "markdown",
   "metadata": {
    "papermill": {
     "duration": 0.041403,
     "end_time": "2020-07-16T01:42:39.911309",
     "exception": false,
     "start_time": "2020-07-16T01:42:39.869906",
     "status": "completed"
    },
    "tags": []
   },
   "source": [
    "#### Checking summaries"
   ]
  },
  {
   "cell_type": "code",
   "execution_count": 31,
   "metadata": {
    "execution": {
     "iopub.execute_input": "2020-07-16T01:42:39.988117Z",
     "iopub.status.busy": "2020-07-16T01:42:39.987805Z",
     "iopub.status.idle": "2020-07-16T01:42:40.006045Z",
     "shell.execute_reply": "2020-07-16T01:42:40.005729Z"
    },
    "papermill": {
     "duration": 0.056302,
     "end_time": "2020-07-16T01:42:40.006097",
     "exception": false,
     "start_time": "2020-07-16T01:42:39.949795",
     "status": "completed"
    },
    "tags": []
   },
   "outputs": [
    {
     "name": "stdout",
     "output_type": "stream",
     "text": [
      "length of ham_summary:  6561\n",
      "CPU times: user 248 µs, sys: 5 µs, total: 253 µs\n",
      "Wall time: 192 µs\n"
     ]
    },
    {
     "data": {
      "text/html": [
       "<div>\n",
       "<style scoped>\n",
       "    .dataframe tbody tr th:only-of-type {\n",
       "        vertical-align: middle;\n",
       "    }\n",
       "\n",
       "    .dataframe tbody tr th {\n",
       "        vertical-align: top;\n",
       "    }\n",
       "\n",
       "    .dataframe thead th {\n",
       "        text-align: right;\n",
       "    }\n",
       "</style>\n",
       "<table border=\"1\" class=\"dataframe\">\n",
       "  <thead>\n",
       "    <tr style=\"text-align: right;\">\n",
       "      <th></th>\n",
       "      <th>t1</th>\n",
       "      <th>t2</th>\n",
       "      <th>type_of</th>\n",
       "      <th>0</th>\n",
       "      <th>1</th>\n",
       "      <th>phase</th>\n",
       "      <th>pred_phase</th>\n",
       "    </tr>\n",
       "    <tr>\n",
       "      <th>id</th>\n",
       "      <th></th>\n",
       "      <th></th>\n",
       "      <th></th>\n",
       "      <th></th>\n",
       "      <th></th>\n",
       "      <th></th>\n",
       "      <th></th>\n",
       "    </tr>\n",
       "  </thead>\n",
       "  <tbody>\n",
       "    <tr>\n",
       "      <th>0</th>\n",
       "      <td>-2.0</td>\n",
       "      <td>-2.00</td>\n",
       "      <td>test</td>\n",
       "      <td>0.44</td>\n",
       "      <td>0.56</td>\n",
       "      <td>999</td>\n",
       "      <td>1</td>\n",
       "    </tr>\n",
       "    <tr>\n",
       "      <th>1</th>\n",
       "      <td>-2.0</td>\n",
       "      <td>-1.95</td>\n",
       "      <td>test</td>\n",
       "      <td>0.61</td>\n",
       "      <td>0.39</td>\n",
       "      <td>0</td>\n",
       "      <td>0</td>\n",
       "    </tr>\n",
       "    <tr>\n",
       "      <th>2</th>\n",
       "      <td>-2.0</td>\n",
       "      <td>-1.90</td>\n",
       "      <td>test</td>\n",
       "      <td>0.61</td>\n",
       "      <td>0.39</td>\n",
       "      <td>0</td>\n",
       "      <td>0</td>\n",
       "    </tr>\n",
       "    <tr>\n",
       "      <th>3</th>\n",
       "      <td>-2.0</td>\n",
       "      <td>-1.85</td>\n",
       "      <td>test</td>\n",
       "      <td>0.71</td>\n",
       "      <td>0.29</td>\n",
       "      <td>0</td>\n",
       "      <td>0</td>\n",
       "    </tr>\n",
       "    <tr>\n",
       "      <th>4</th>\n",
       "      <td>-2.0</td>\n",
       "      <td>-1.80</td>\n",
       "      <td>test</td>\n",
       "      <td>0.75</td>\n",
       "      <td>0.25</td>\n",
       "      <td>0</td>\n",
       "      <td>0</td>\n",
       "    </tr>\n",
       "    <tr>\n",
       "      <th>...</th>\n",
       "      <td>...</td>\n",
       "      <td>...</td>\n",
       "      <td>...</td>\n",
       "      <td>...</td>\n",
       "      <td>...</td>\n",
       "      <td>...</td>\n",
       "      <td>...</td>\n",
       "    </tr>\n",
       "    <tr>\n",
       "      <th>6556</th>\n",
       "      <td>2.0</td>\n",
       "      <td>1.80</td>\n",
       "      <td>test</td>\n",
       "      <td>0.79</td>\n",
       "      <td>0.21</td>\n",
       "      <td>0</td>\n",
       "      <td>0</td>\n",
       "    </tr>\n",
       "    <tr>\n",
       "      <th>6557</th>\n",
       "      <td>2.0</td>\n",
       "      <td>1.85</td>\n",
       "      <td>test</td>\n",
       "      <td>0.66</td>\n",
       "      <td>0.34</td>\n",
       "      <td>0</td>\n",
       "      <td>0</td>\n",
       "    </tr>\n",
       "    <tr>\n",
       "      <th>6558</th>\n",
       "      <td>2.0</td>\n",
       "      <td>1.90</td>\n",
       "      <td>test</td>\n",
       "      <td>0.59</td>\n",
       "      <td>0.41</td>\n",
       "      <td>0</td>\n",
       "      <td>0</td>\n",
       "    </tr>\n",
       "    <tr>\n",
       "      <th>6559</th>\n",
       "      <td>2.0</td>\n",
       "      <td>1.95</td>\n",
       "      <td>test</td>\n",
       "      <td>0.58</td>\n",
       "      <td>0.42</td>\n",
       "      <td>0</td>\n",
       "      <td>0</td>\n",
       "    </tr>\n",
       "    <tr>\n",
       "      <th>6560</th>\n",
       "      <td>2.0</td>\n",
       "      <td>2.00</td>\n",
       "      <td>test</td>\n",
       "      <td>0.40</td>\n",
       "      <td>0.60</td>\n",
       "      <td>999</td>\n",
       "      <td>1</td>\n",
       "    </tr>\n",
       "  </tbody>\n",
       "</table>\n",
       "<p>6561 rows × 7 columns</p>\n",
       "</div>"
      ],
      "text/plain": [
       "       t1    t2 type_of     0     1  phase  pred_phase\n",
       "id                                                    \n",
       "0    -2.0 -2.00    test  0.44  0.56    999           1\n",
       "1    -2.0 -1.95    test  0.61  0.39      0           0\n",
       "2    -2.0 -1.90    test  0.61  0.39      0           0\n",
       "3    -2.0 -1.85    test  0.71  0.29      0           0\n",
       "4    -2.0 -1.80    test  0.75  0.25      0           0\n",
       "...   ...   ...     ...   ...   ...    ...         ...\n",
       "6556  2.0  1.80    test  0.79  0.21      0           0\n",
       "6557  2.0  1.85    test  0.66  0.34      0           0\n",
       "6558  2.0  1.90    test  0.59  0.41      0           0\n",
       "6559  2.0  1.95    test  0.58  0.42      0           0\n",
       "6560  2.0  2.00    test  0.40  0.60    999           1\n",
       "\n",
       "[6561 rows x 7 columns]"
      ]
     },
     "execution_count": 31,
     "metadata": {},
     "output_type": "execute_result"
    }
   ],
   "source": [
    "%%time\n",
    "ham_summary = simulation.hamiltonian_summary\n",
    "print(\"length of ham_summary: \", len(ham_summary))\n",
    "ham_summary"
   ]
  },
  {
   "cell_type": "code",
   "execution_count": 32,
   "metadata": {
    "execution": {
     "iopub.execute_input": "2020-07-16T01:42:40.365392Z",
     "iopub.status.busy": "2020-07-16T01:42:40.363666Z",
     "iopub.status.idle": "2020-07-16T01:42:40.566081Z",
     "shell.execute_reply": "2020-07-16T01:42:40.565637Z"
    },
    "papermill": {
     "duration": 0.522076,
     "end_time": "2020-07-16T01:42:40.566152",
     "exception": false,
     "start_time": "2020-07-16T01:42:40.044076",
     "status": "completed"
    },
    "tags": []
   },
   "outputs": [
    {
     "data": {
      "text/html": [
       "<div>\n",
       "<style scoped>\n",
       "    .dataframe tbody tr th:only-of-type {\n",
       "        vertical-align: middle;\n",
       "    }\n",
       "\n",
       "    .dataframe tbody tr th {\n",
       "        vertical-align: top;\n",
       "    }\n",
       "\n",
       "    .dataframe thead th {\n",
       "        text-align: right;\n",
       "    }\n",
       "</style>\n",
       "<table border=\"1\" class=\"dataframe\">\n",
       "  <thead>\n",
       "    <tr style=\"text-align: right;\">\n",
       "      <th></th>\n",
       "      <th>t1</th>\n",
       "      <th>t2</th>\n",
       "      <th>0</th>\n",
       "      <th>1</th>\n",
       "      <th>phase</th>\n",
       "      <th>pred_phase</th>\n",
       "    </tr>\n",
       "  </thead>\n",
       "  <tbody>\n",
       "    <tr>\n",
       "      <th>count</th>\n",
       "      <td>6561.000000</td>\n",
       "      <td>6.561000e+03</td>\n",
       "      <td>6561.000000</td>\n",
       "      <td>6561.000000</td>\n",
       "      <td>6561.000000</td>\n",
       "      <td>6561.000000</td>\n",
       "    </tr>\n",
       "    <tr>\n",
       "      <th>mean</th>\n",
       "      <td>0.000000</td>\n",
       "      <td>-4.331917e-18</td>\n",
       "      <td>0.462158</td>\n",
       "      <td>0.537842</td>\n",
       "      <td>25.002134</td>\n",
       "      <td>0.527663</td>\n",
       "    </tr>\n",
       "    <tr>\n",
       "      <th>std</th>\n",
       "      <td>1.169134</td>\n",
       "      <td>1.169134e+00</td>\n",
       "      <td>0.441166</td>\n",
       "      <td>0.441166</td>\n",
       "      <td>154.495657</td>\n",
       "      <td>0.499272</td>\n",
       "    </tr>\n",
       "    <tr>\n",
       "      <th>min</th>\n",
       "      <td>-2.000000</td>\n",
       "      <td>-2.000000e+00</td>\n",
       "      <td>0.000000</td>\n",
       "      <td>0.040000</td>\n",
       "      <td>0.000000</td>\n",
       "      <td>0.000000</td>\n",
       "    </tr>\n",
       "    <tr>\n",
       "      <th>25%</th>\n",
       "      <td>-1.000000</td>\n",
       "      <td>-1.000000e+00</td>\n",
       "      <td>0.010000</td>\n",
       "      <td>0.050000</td>\n",
       "      <td>0.000000</td>\n",
       "      <td>0.000000</td>\n",
       "    </tr>\n",
       "    <tr>\n",
       "      <th>50%</th>\n",
       "      <td>0.000000</td>\n",
       "      <td>0.000000e+00</td>\n",
       "      <td>0.330000</td>\n",
       "      <td>0.670000</td>\n",
       "      <td>1.000000</td>\n",
       "      <td>1.000000</td>\n",
       "    </tr>\n",
       "    <tr>\n",
       "      <th>75%</th>\n",
       "      <td>1.000000</td>\n",
       "      <td>1.000000e+00</td>\n",
       "      <td>0.950000</td>\n",
       "      <td>0.990000</td>\n",
       "      <td>1.000000</td>\n",
       "      <td>1.000000</td>\n",
       "    </tr>\n",
       "    <tr>\n",
       "      <th>max</th>\n",
       "      <td>2.000000</td>\n",
       "      <td>2.000000e+00</td>\n",
       "      <td>0.960000</td>\n",
       "      <td>1.000000</td>\n",
       "      <td>999.000000</td>\n",
       "      <td>1.000000</td>\n",
       "    </tr>\n",
       "  </tbody>\n",
       "</table>\n",
       "</div>"
      ],
      "text/plain": [
       "                t1            t2            0            1        phase  \\\n",
       "count  6561.000000  6.561000e+03  6561.000000  6561.000000  6561.000000   \n",
       "mean      0.000000 -4.331917e-18     0.462158     0.537842    25.002134   \n",
       "std       1.169134  1.169134e+00     0.441166     0.441166   154.495657   \n",
       "min      -2.000000 -2.000000e+00     0.000000     0.040000     0.000000   \n",
       "25%      -1.000000 -1.000000e+00     0.010000     0.050000     0.000000   \n",
       "50%       0.000000  0.000000e+00     0.330000     0.670000     1.000000   \n",
       "75%       1.000000  1.000000e+00     0.950000     0.990000     1.000000   \n",
       "max       2.000000  2.000000e+00     0.960000     1.000000   999.000000   \n",
       "\n",
       "        pred_phase  \n",
       "count  6561.000000  \n",
       "mean      0.527663  \n",
       "std       0.499272  \n",
       "min       0.000000  \n",
       "25%       0.000000  \n",
       "50%       1.000000  \n",
       "75%       1.000000  \n",
       "max       1.000000  "
      ]
     },
     "execution_count": 32,
     "metadata": {},
     "output_type": "execute_result"
    }
   ],
   "source": [
    "ham_summary.describe()"
   ]
  },
  {
   "cell_type": "code",
   "execution_count": 33,
   "metadata": {
    "execution": {
     "iopub.execute_input": "2020-07-16T01:42:40.650925Z",
     "iopub.status.busy": "2020-07-16T01:42:40.650580Z",
     "iopub.status.idle": "2020-07-16T01:42:40.665957Z",
     "shell.execute_reply": "2020-07-16T01:42:40.665641Z"
    },
    "papermill": {
     "duration": 0.05531,
     "end_time": "2020-07-16T01:42:40.666009",
     "exception": false,
     "start_time": "2020-07-16T01:42:40.610699",
     "status": "completed"
    },
    "tags": []
   },
   "outputs": [
    {
     "name": "stdout",
     "output_type": "stream",
     "text": [
      "length of ham_summary:  656100\n"
     ]
    },
    {
     "data": {
      "text/html": [
       "<div>\n",
       "<style scoped>\n",
       "    .dataframe tbody tr th:only-of-type {\n",
       "        vertical-align: middle;\n",
       "    }\n",
       "\n",
       "    .dataframe tbody tr th {\n",
       "        vertical-align: top;\n",
       "    }\n",
       "\n",
       "    .dataframe thead th {\n",
       "        text-align: right;\n",
       "    }\n",
       "</style>\n",
       "<table border=\"1\" class=\"dataframe\">\n",
       "  <thead>\n",
       "    <tr style=\"text-align: right;\">\n",
       "      <th></th>\n",
       "      <th>id</th>\n",
       "      <th>phase</th>\n",
       "      <th>pred_phase</th>\n",
       "      <th>type_of</th>\n",
       "    </tr>\n",
       "  </thead>\n",
       "  <tbody>\n",
       "    <tr>\n",
       "      <th>0</th>\n",
       "      <td>0</td>\n",
       "      <td>999</td>\n",
       "      <td>1</td>\n",
       "      <td>test</td>\n",
       "    </tr>\n",
       "    <tr>\n",
       "      <th>1</th>\n",
       "      <td>0</td>\n",
       "      <td>999</td>\n",
       "      <td>0</td>\n",
       "      <td>test</td>\n",
       "    </tr>\n",
       "    <tr>\n",
       "      <th>2</th>\n",
       "      <td>0</td>\n",
       "      <td>999</td>\n",
       "      <td>0</td>\n",
       "      <td>test</td>\n",
       "    </tr>\n",
       "    <tr>\n",
       "      <th>3</th>\n",
       "      <td>0</td>\n",
       "      <td>999</td>\n",
       "      <td>1</td>\n",
       "      <td>test</td>\n",
       "    </tr>\n",
       "    <tr>\n",
       "      <th>4</th>\n",
       "      <td>0</td>\n",
       "      <td>999</td>\n",
       "      <td>1</td>\n",
       "      <td>test</td>\n",
       "    </tr>\n",
       "    <tr>\n",
       "      <th>...</th>\n",
       "      <td>...</td>\n",
       "      <td>...</td>\n",
       "      <td>...</td>\n",
       "      <td>...</td>\n",
       "    </tr>\n",
       "    <tr>\n",
       "      <th>656095</th>\n",
       "      <td>6560</td>\n",
       "      <td>999</td>\n",
       "      <td>1</td>\n",
       "      <td>test</td>\n",
       "    </tr>\n",
       "    <tr>\n",
       "      <th>656096</th>\n",
       "      <td>6560</td>\n",
       "      <td>999</td>\n",
       "      <td>1</td>\n",
       "      <td>test</td>\n",
       "    </tr>\n",
       "    <tr>\n",
       "      <th>656097</th>\n",
       "      <td>6560</td>\n",
       "      <td>999</td>\n",
       "      <td>1</td>\n",
       "      <td>test</td>\n",
       "    </tr>\n",
       "    <tr>\n",
       "      <th>656098</th>\n",
       "      <td>6560</td>\n",
       "      <td>999</td>\n",
       "      <td>1</td>\n",
       "      <td>test</td>\n",
       "    </tr>\n",
       "    <tr>\n",
       "      <th>656099</th>\n",
       "      <td>6560</td>\n",
       "      <td>999</td>\n",
       "      <td>0</td>\n",
       "      <td>test</td>\n",
       "    </tr>\n",
       "  </tbody>\n",
       "</table>\n",
       "<p>656100 rows × 4 columns</p>\n",
       "</div>"
      ],
      "text/plain": [
       "          id  phase  pred_phase type_of\n",
       "0          0    999           1    test\n",
       "1          0    999           0    test\n",
       "2          0    999           0    test\n",
       "3          0    999           1    test\n",
       "4          0    999           1    test\n",
       "...      ...    ...         ...     ...\n",
       "656095  6560    999           1    test\n",
       "656096  6560    999           1    test\n",
       "656097  6560    999           1    test\n",
       "656098  6560    999           1    test\n",
       "656099  6560    999           0    test\n",
       "\n",
       "[656100 rows x 4 columns]"
      ]
     },
     "execution_count": 33,
     "metadata": {},
     "output_type": "execute_result"
    }
   ],
   "source": [
    "eigen_summary = simulation.eigenvector_summary\n",
    "print(\"length of ham_summary: \", len(eigen_summary))\n",
    "eigen_summary"
   ]
  },
  {
   "cell_type": "markdown",
   "metadata": {
    "papermill": {
     "duration": 0.037038,
     "end_time": "2020-07-16T01:42:40.740864",
     "exception": false,
     "start_time": "2020-07-16T01:42:40.703826",
     "status": "completed"
    },
    "tags": []
   },
   "source": [
    "#### Checking accuracies"
   ]
  },
  {
   "cell_type": "code",
   "execution_count": 34,
   "metadata": {
    "execution": {
     "iopub.execute_input": "2020-07-16T01:42:40.819126Z",
     "iopub.status.busy": "2020-07-16T01:42:40.818742Z",
     "iopub.status.idle": "2020-07-16T01:42:40.829759Z",
     "shell.execute_reply": "2020-07-16T01:42:40.829440Z"
    },
    "papermill": {
     "duration": 0.050698,
     "end_time": "2020-07-16T01:42:40.829812",
     "exception": false,
     "start_time": "2020-07-16T01:42:40.779114",
     "status": "completed"
    },
    "tags": []
   },
   "outputs": [
    {
     "data": {
      "text/plain": [
       "{'eigenvector_train': 0.9697841726618706,\n",
       " 'eigenvector_val': 0.94875,\n",
       " 'eigenvector_test': 0.782345971563981,\n",
       " 'hamiltonian_train': 0.987410071942446,\n",
       " 'hamiltonian_val': 0.9854,\n",
       " 'hamiltonian_test': 0.9703791469194313}"
      ]
     },
     "execution_count": 34,
     "metadata": {},
     "output_type": "execute_result"
    }
   ],
   "source": [
    "simulation.accuracy"
   ]
  },
  {
   "cell_type": "markdown",
   "metadata": {
    "papermill": {
     "duration": 0.038534,
     "end_time": "2020-07-16T01:42:40.906743",
     "exception": false,
     "start_time": "2020-07-16T01:42:40.868209",
     "status": "completed"
    },
    "tags": []
   },
   "source": [
    "#### Checking data stored in  memory"
   ]
  },
  {
   "cell_type": "code",
   "execution_count": 35,
   "metadata": {
    "execution": {
     "iopub.execute_input": "2020-07-16T01:42:40.986304Z",
     "iopub.status.busy": "2020-07-16T01:42:40.985973Z",
     "iopub.status.idle": "2020-07-16T01:42:40.996286Z",
     "shell.execute_reply": "2020-07-16T01:42:40.995966Z"
    },
    "papermill": {
     "duration": 0.050557,
     "end_time": "2020-07-16T01:42:40.996339",
     "exception": false,
     "start_time": "2020-07-16T01:42:40.945782",
     "status": "completed"
    },
    "tags": []
   },
   "outputs": [
    {
     "data": {
      "text/plain": [
       "[]"
      ]
     },
     "execution_count": 35,
     "metadata": {},
     "output_type": "execute_result"
    }
   ],
   "source": [
    "ham_summary_list = simulation.hamiltonian_summary_list\n",
    "ham_summary_list"
   ]
  },
  {
   "cell_type": "code",
   "execution_count": 36,
   "metadata": {
    "execution": {
     "iopub.execute_input": "2020-07-16T01:42:41.074124Z",
     "iopub.status.busy": "2020-07-16T01:42:41.073815Z",
     "iopub.status.idle": "2020-07-16T01:42:41.084072Z",
     "shell.execute_reply": "2020-07-16T01:42:41.083751Z"
    },
    "papermill": {
     "duration": 0.049713,
     "end_time": "2020-07-16T01:42:41.084124",
     "exception": false,
     "start_time": "2020-07-16T01:42:41.034411",
     "status": "completed"
    },
    "tags": []
   },
   "outputs": [
    {
     "data": {
      "text/plain": [
       "[]"
      ]
     },
     "execution_count": 36,
     "metadata": {},
     "output_type": "execute_result"
    }
   ],
   "source": [
    "eigen_summary_list = simulation.eigenvector_summary_list\n",
    "eigen_summary_list"
   ]
  },
  {
   "cell_type": "code",
   "execution_count": 37,
   "metadata": {
    "execution": {
     "iopub.execute_input": "2020-07-16T01:42:41.163506Z",
     "iopub.status.busy": "2020-07-16T01:42:41.163197Z",
     "iopub.status.idle": "2020-07-16T01:42:41.173984Z",
     "shell.execute_reply": "2020-07-16T01:42:41.174287Z"
    },
    "papermill": {
     "duration": 0.05197,
     "end_time": "2020-07-16T01:42:41.174354",
     "exception": false,
     "start_time": "2020-07-16T01:42:41.122384",
     "status": "completed"
    },
    "tags": []
   },
   "outputs": [
    {
     "data": {
      "text/plain": [
       "{'eigenvector_train': [],\n",
       " 'eigenvector_val': [],\n",
       " 'eigenvector_test': [],\n",
       " 'hamiltonian_train': [],\n",
       " 'hamiltonian_val': [],\n",
       " 'hamiltonian_test': []}"
      ]
     },
     "execution_count": 37,
     "metadata": {},
     "output_type": "execute_result"
    }
   ],
   "source": [
    "accuracy_list = simulation.accuracy_list\n",
    "accuracy_list"
   ]
  },
  {
   "cell_type": "code",
   "execution_count": null,
   "metadata": {
    "papermill": {
     "duration": 0.037803,
     "end_time": "2020-07-16T01:42:41.250207",
     "exception": false,
     "start_time": "2020-07-16T01:42:41.212404",
     "status": "completed"
    },
    "tags": []
   },
   "outputs": [],
   "source": []
  },
  {
   "cell_type": "code",
   "execution_count": null,
   "metadata": {
    "papermill": {
     "duration": 0.039435,
     "end_time": "2020-07-16T01:42:41.328420",
     "exception": false,
     "start_time": "2020-07-16T01:42:41.288985",
     "status": "completed"
    },
    "tags": []
   },
   "outputs": [],
   "source": []
  },
  {
   "cell_type": "code",
   "execution_count": 38,
   "metadata": {
    "execution": {
     "iopub.execute_input": "2020-07-16T01:42:41.407772Z",
     "iopub.status.busy": "2020-07-16T01:42:41.407464Z",
     "iopub.status.idle": "2020-07-16T01:42:41.416858Z",
     "shell.execute_reply": "2020-07-16T01:42:41.417111Z"
    },
    "papermill": {
     "duration": 0.04945,
     "end_time": "2020-07-16T01:42:41.417177",
     "exception": false,
     "start_time": "2020-07-16T01:42:41.367727",
     "status": "completed"
    },
    "tags": []
   },
   "outputs": [],
   "source": [
    "#simulation.fourier_matrix"
   ]
  },
  {
   "cell_type": "code",
   "execution_count": 39,
   "metadata": {
    "execution": {
     "iopub.execute_input": "2020-07-16T01:42:41.497252Z",
     "iopub.status.busy": "2020-07-16T01:42:41.496928Z",
     "iopub.status.idle": "2020-07-16T01:42:41.507662Z",
     "shell.execute_reply": "2020-07-16T01:42:41.507984Z"
    },
    "papermill": {
     "duration": 0.051995,
     "end_time": "2020-07-16T01:42:41.508052",
     "exception": false,
     "start_time": "2020-07-16T01:42:41.456057",
     "status": "completed"
    },
    "tags": []
   },
   "outputs": [],
   "source": [
    "#simulation.fourier_matrix.shape"
   ]
  },
  {
   "cell_type": "code",
   "execution_count": 40,
   "metadata": {
    "execution": {
     "iopub.execute_input": "2020-07-16T01:42:41.586465Z",
     "iopub.status.busy": "2020-07-16T01:42:41.586156Z",
     "iopub.status.idle": "2020-07-16T01:42:41.595721Z",
     "shell.execute_reply": "2020-07-16T01:42:41.595398Z"
    },
    "papermill": {
     "duration": 0.049311,
     "end_time": "2020-07-16T01:42:41.595774",
     "exception": false,
     "start_time": "2020-07-16T01:42:41.546463",
     "status": "completed"
    },
    "tags": []
   },
   "outputs": [],
   "source": [
    "#simulation.fourier_matrix[:,0]"
   ]
  },
  {
   "cell_type": "code",
   "execution_count": 41,
   "metadata": {
    "execution": {
     "iopub.execute_input": "2020-07-16T01:42:41.675966Z",
     "iopub.status.busy": "2020-07-16T01:42:41.675657Z",
     "iopub.status.idle": "2020-07-16T01:42:41.686023Z",
     "shell.execute_reply": "2020-07-16T01:42:41.686368Z"
    },
    "papermill": {
     "duration": 0.05155,
     "end_time": "2020-07-16T01:42:41.686439",
     "exception": false,
     "start_time": "2020-07-16T01:42:41.634889",
     "status": "completed"
    },
    "tags": []
   },
   "outputs": [],
   "source": [
    "#simulation.fourier_matrix[:,1]"
   ]
  },
  {
   "cell_type": "code",
   "execution_count": 42,
   "metadata": {
    "execution": {
     "iopub.execute_input": "2020-07-16T01:42:41.767139Z",
     "iopub.status.busy": "2020-07-16T01:42:41.766832Z",
     "iopub.status.idle": "2020-07-16T01:42:41.776097Z",
     "shell.execute_reply": "2020-07-16T01:42:41.776406Z"
    },
    "papermill": {
     "duration": 0.049787,
     "end_time": "2020-07-16T01:42:41.776473",
     "exception": false,
     "start_time": "2020-07-16T01:42:41.726686",
     "status": "completed"
    },
    "tags": []
   },
   "outputs": [],
   "source": [
    "#np.exp(-1j*2*np.pi*3/100)"
   ]
  },
  {
   "cell_type": "code",
   "execution_count": 43,
   "metadata": {
    "execution": {
     "iopub.execute_input": "2020-07-16T01:42:41.856527Z",
     "iopub.status.busy": "2020-07-16T01:42:41.856202Z",
     "iopub.status.idle": "2020-07-16T01:42:41.865416Z",
     "shell.execute_reply": "2020-07-16T01:42:41.865720Z"
    },
    "papermill": {
     "duration": 0.050302,
     "end_time": "2020-07-16T01:42:41.865788",
     "exception": false,
     "start_time": "2020-07-16T01:42:41.815486",
     "status": "completed"
    },
    "tags": []
   },
   "outputs": [],
   "source": [
    "#for i in range(1,50):\n",
    "#    print(\"\\n\")\n",
    "#    print(i)\n",
    "#    print(np.sum((np.real(simulation.fourier_matrix[:,i]) - np.real(simulation.fourier_matrix[:,-i]))**2))\n",
    "#    print(np.sum((np.imag(simulation.fourier_matrix[:,i])+ np.imag(simulation.fourier_matrix[:,-i]))**2))"
   ]
  },
  {
   "cell_type": "code",
   "execution_count": 44,
   "metadata": {
    "execution": {
     "iopub.execute_input": "2020-07-16T01:42:41.944978Z",
     "iopub.status.busy": "2020-07-16T01:42:41.944670Z",
     "iopub.status.idle": "2020-07-16T01:42:41.974557Z",
     "shell.execute_reply": "2020-07-16T01:42:41.974233Z"
    },
    "papermill": {
     "duration": 0.069692,
     "end_time": "2020-07-16T01:42:41.974610",
     "exception": false,
     "start_time": "2020-07-16T01:42:41.904918",
     "status": "completed"
    },
    "tags": []
   },
   "outputs": [],
   "source": [
    "#print(simulation.fourier_matrix[:,0])"
   ]
  },
  {
   "cell_type": "code",
   "execution_count": 45,
   "metadata": {
    "execution": {
     "iopub.execute_input": "2020-07-16T01:42:42.055375Z",
     "iopub.status.busy": "2020-07-16T01:42:42.055066Z",
     "iopub.status.idle": "2020-07-16T01:42:42.064787Z",
     "shell.execute_reply": "2020-07-16T01:42:42.065093Z"
    },
    "papermill": {
     "duration": 0.051489,
     "end_time": "2020-07-16T01:42:42.065159",
     "exception": false,
     "start_time": "2020-07-16T01:42:42.013670",
     "status": "completed"
    },
    "tags": []
   },
   "outputs": [],
   "source": [
    "#print(simulation.fourier_matrix[:,50])"
   ]
  },
  {
   "cell_type": "code",
   "execution_count": null,
   "metadata": {
    "papermill": {
     "duration": 0.037991,
     "end_time": "2020-07-16T01:42:42.142212",
     "exception": false,
     "start_time": "2020-07-16T01:42:42.104221",
     "status": "completed"
    },
    "tags": []
   },
   "outputs": [],
   "source": []
  }
 ],
 "metadata": {
  "celltoolbar": "Tags",
  "kernelspec": {
   "display_name": "ml_top_phases",
   "language": "python",
   "name": "ml_top_phases"
  },
  "language_info": {
   "codemirror_mode": {
    "name": "ipython",
    "version": 3
   },
   "file_extension": ".py",
   "mimetype": "text/x-python",
   "name": "python",
   "nbconvert_exporter": "python",
   "pygments_lexer": "ipython3",
   "version": "3.6.10"
  },
  "papermill": {
   "duration": 174.03491,
   "end_time": "2020-07-16T01:42:42.291618",
   "environment_variables": {},
   "exception": null,
   "input_path": "0_simulation_template.ipynb",
   "output_path": "zzz_simulation_output_ssh1_1st_scenario_100_6561.ipynb",
   "parameters": {
    "allowed_windings": [
     0,
     1
    ],
    "csv_path": "/home/rio/ssh_csvs/ssh1/periodic_100_6561.csv",
    "features_to_use": [
     0,
     1,
     2,
     3,
     49,
     50
    ],
    "fit_params": null,
    "fourier_features_to_use": null,
    "fourier_fillna": null,
    "fourier_mode": null,
    "fourier_normalize": null,
    "fourier_real": null,
    "model_kw": {
     "criterion": "entropy"
    },
    "model_name": "DecisionTreeClassifier",
    "n_experiments": 100,
    "pred_params": null,
    "random_features": false,
    "random_state": 9427454,
    "save_accuracy": true,
    "save_eigenvector": true,
    "save_hamiltonian": true,
    "save_models": true,
    "shuffle_features": false,
    "shuffle_rows": true,
    "simulation_dir": "/home/rio/ssh_simulations/ssh1/periodic_1st_scenario_100_6561",
    "start_n": 0,
    "store_in_lists": false,
    "val_split": 0.9
   },
   "start_time": "2020-07-16T01:39:48.256708",
   "version": "2.1.0"
  }
 },
 "nbformat": 4,
 "nbformat_minor": 2
}