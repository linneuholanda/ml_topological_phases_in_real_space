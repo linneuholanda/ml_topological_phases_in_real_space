{
 "cells": [
  {
   "cell_type": "markdown",
   "metadata": {
    "papermill": {
     "duration": 0.053276,
     "end_time": "2020-07-09T17:19:04.932468",
     "exception": false,
     "start_time": "2020-07-09T17:19:04.879192",
     "status": "completed"
    },
    "tags": []
   },
   "source": [
    "# Simulation template \n",
    "\n",
    "In this notebook we run the machine learning analysis of topological phase transitions occurring  in both nearest-neighbours SSH models (ssh1) and second neighbours models (ssh2) as decribed in the paper [Machine learning topological phases in real space](https://arxiv.org/abs/1901.01963). Here the simulation is run with features generated from fourier components in the first scenario. This scenario is characterized by using only the EVEN wavevector space eigenmodes, computed from ALL real space components."
   ]
  },
  {
   "cell_type": "markdown",
   "metadata": {
    "papermill": {
     "duration": 0.014967,
     "end_time": "2020-07-09T17:19:04.967040",
     "exception": false,
     "start_time": "2020-07-09T17:19:04.952073",
     "status": "completed"
    },
    "tags": []
   },
   "source": [
    "## Defining parameters"
   ]
  },
  {
   "cell_type": "code",
   "execution_count": 1,
   "metadata": {
    "execution": {
     "iopub.execute_input": "2020-07-09T17:19:05.001797Z",
     "iopub.status.busy": "2020-07-09T17:19:05.001276Z",
     "iopub.status.idle": "2020-07-09T17:19:05.589626Z",
     "shell.execute_reply": "2020-07-09T17:19:05.589306Z"
    },
    "papermill": {
     "duration": 0.606972,
     "end_time": "2020-07-09T17:19:05.589681",
     "exception": false,
     "start_time": "2020-07-09T17:19:04.982709",
     "status": "completed"
    },
    "tags": []
   },
   "outputs": [
    {
     "name": "stdout",
     "output_type": "stream",
     "text": [
      "CPU times: user 751 ms, sys: 267 ms, total: 1.02 s\n",
      "Wall time: 581 ms\n"
     ]
    }
   ],
   "source": [
    "%%time\n",
    "%load_ext autoreload\n",
    "%autoreload 2\n",
    "from simulation import *"
   ]
  },
  {
   "cell_type": "code",
   "execution_count": 2,
   "metadata": {
    "execution": {
     "iopub.execute_input": "2020-07-09T17:19:05.623564Z",
     "iopub.status.busy": "2020-07-09T17:19:05.623054Z",
     "iopub.status.idle": "2020-07-09T17:19:05.634205Z",
     "shell.execute_reply": "2020-07-09T17:19:05.634518Z"
    },
    "papermill": {
     "duration": 0.029064,
     "end_time": "2020-07-09T17:19:05.634587",
     "exception": false,
     "start_time": "2020-07-09T17:19:05.605523",
     "status": "completed"
    },
    "tags": [
     "parameters"
    ]
   },
   "outputs": [
    {
     "name": "stdout",
     "output_type": "stream",
     "text": [
      "CPU times: user 2 µs, sys: 1 µs, total: 3 µs\n",
      "Wall time: 5.01 µs\n"
     ]
    }
   ],
   "source": [
    "%%time\n",
    "### Dataset and simulation parameters\n",
    "#csv_path = SSH2_PERIODIC_100_6561_CSV \n",
    "csv_path = SSH1_PERIODIC_100_6561_CSV \n",
    "model_name = \"DecisionTreeClassifier\"\n",
    "model_kw = {\"criterion\":\"entropy\"}\n",
    "allowed_windings = [0,1]\n",
    "#allowed_windings = [-1,0,1,2]\n",
    "simulation_dir = SSH1_PERIODIC_1ST_SCENARIO_100_6561_SIMULATION_DIR\n",
    "#simulation_dir = SSH2_PERIODIC_ENGINEERED_100_6561_SIMULATION_DIR\n",
    "val_split = 0.9  \n",
    "features_to_use = None\n",
    "shuffle_features = False\n",
    "random_state = 763\n",
    "\n",
    "### Fourier features\n",
    "fourier_mode = \"dft\"\n",
    "fourier_features_to_use = None\n",
    "fourier_real = \"real\"\n",
    "fourier_normalize = True\n",
    "fourier_fillna = False\n",
    "\n",
    "### Running a simulation\n",
    "n_experiments = 5\n",
    "start_n = 0\n",
    "fit_params = None\n",
    "#mode=mode\n",
    "shuffle_rows = True\n",
    "pred_params = None\n",
    "random_features = False\n",
    "######### DON'T SET THIS TO TRUE UNLESS YOUR DATASET IS SMALL!! WILL FLOOD YOUR MEMORY!!!\n",
    "store_in_lists = False   \n",
    "########## BELOW ARE THE PARAMETERS THAT CONTROL WHAT WILL BE SAVED\n",
    "save_eigenvector=True\n",
    "save_hamiltonian=True \n",
    "save_accuracy=True \n",
    "save_models=True"
   ]
  },
  {
   "cell_type": "code",
   "execution_count": 3,
   "metadata": {
    "execution": {
     "iopub.execute_input": "2020-07-09T17:19:05.871409Z",
     "iopub.status.busy": "2020-07-09T17:19:05.869677Z",
     "iopub.status.idle": "2020-07-09T17:19:06.105635Z",
     "shell.execute_reply": "2020-07-09T17:19:06.103696Z"
    },
    "papermill": {
     "duration": 0.456023,
     "end_time": "2020-07-09T17:19:06.105889",
     "exception": false,
     "start_time": "2020-07-09T17:19:05.649866",
     "status": "completed"
    },
    "tags": [
     "injected-parameters"
    ]
   },
   "outputs": [],
   "source": [
    "# Parameters\n",
    "model_kw = {\"criterion\": \"entropy\"}\n",
    "allowed_windings = [0, 1]\n",
    "val_split = 0.9\n",
    "features_to_use = [0, 1, 2, 3, 49, 50]\n",
    "shuffle_features = False\n",
    "n_experiments = 100\n",
    "start_n = 0\n",
    "fit_params = None\n",
    "shuffle_rows = True\n",
    "pred_params = None\n",
    "random_features = False\n",
    "store_in_lists = False\n",
    "save_eigenvector = True\n",
    "save_hamiltonian = True\n",
    "save_accuracy = True\n",
    "save_models = True\n",
    "csv_path = \"/home/rio/ssh_csvs/ssh1/periodic_100_6561.csv\"\n",
    "model_name = \"DecisionTreeClassifier\"\n",
    "simulation_dir = \"/home/rio/ssh_simulations/ssh1/periodic_2nd_scenario_100_6561\"\n",
    "random_state = 93474\n",
    "fourier_features_to_use = None\n",
    "fourier_mode = None\n",
    "fourier_real = None\n",
    "fourier_normalize = None\n",
    "fourier_fillna = None\n"
   ]
  },
  {
   "cell_type": "code",
   "execution_count": 4,
   "metadata": {
    "execution": {
     "iopub.execute_input": "2020-07-09T17:19:06.177932Z",
     "iopub.status.busy": "2020-07-09T17:19:06.177605Z",
     "iopub.status.idle": "2020-07-09T17:19:11.593271Z",
     "shell.execute_reply": "2020-07-09T17:19:11.592948Z"
    },
    "papermill": {
     "duration": 5.436425,
     "end_time": "2020-07-09T17:19:11.593323",
     "exception": false,
     "start_time": "2020-07-09T17:19:06.156898",
     "status": "completed"
    },
    "tags": []
   },
   "outputs": [
    {
     "name": "stdout",
     "output_type": "stream",
     "text": [
      "Info on all data: \n",
      "\n",
      "<class 'pandas.core.frame.DataFrame'>\n",
      "Int64Index: 656100 entries, 0 to 656099\n",
      "Columns: 108 entries, id to feat99\n",
      "dtypes: float64(103), int32(3), object(2)\n",
      "memory usage: 538.1+ MB\n",
      "CPU times: user 5.12 s, sys: 265 ms, total: 5.39 s\n",
      "Wall time: 5.39 s\n"
     ]
    },
    {
     "data": {
      "text/html": [
       "<div>\n",
       "<style scoped>\n",
       "    .dataframe tbody tr th:only-of-type {\n",
       "        vertical-align: middle;\n",
       "    }\n",
       "\n",
       "    .dataframe tbody tr th {\n",
       "        vertical-align: top;\n",
       "    }\n",
       "\n",
       "    .dataframe thead th {\n",
       "        text-align: right;\n",
       "    }\n",
       "</style>\n",
       "<table border=\"1\" class=\"dataframe\">\n",
       "  <thead>\n",
       "    <tr style=\"text-align: right;\">\n",
       "      <th></th>\n",
       "      <th>id</th>\n",
       "      <th>path</th>\n",
       "      <th>t1</th>\n",
       "      <th>t2</th>\n",
       "      <th>winding</th>\n",
       "      <th>phase</th>\n",
       "      <th>pred_phase</th>\n",
       "      <th>type_of</th>\n",
       "      <th>feat0</th>\n",
       "      <th>feat1</th>\n",
       "      <th>...</th>\n",
       "      <th>feat90</th>\n",
       "      <th>feat91</th>\n",
       "      <th>feat92</th>\n",
       "      <th>feat93</th>\n",
       "      <th>feat94</th>\n",
       "      <th>feat95</th>\n",
       "      <th>feat96</th>\n",
       "      <th>feat97</th>\n",
       "      <th>feat98</th>\n",
       "      <th>feat99</th>\n",
       "    </tr>\n",
       "  </thead>\n",
       "  <tbody>\n",
       "    <tr>\n",
       "      <th>0</th>\n",
       "      <td>0</td>\n",
       "      <td>H_-2_-2_0.509296.dat</td>\n",
       "      <td>-2.0</td>\n",
       "      <td>-2.0</td>\n",
       "      <td>0.509296</td>\n",
       "      <td>999</td>\n",
       "      <td>666</td>\n",
       "      <td>test</td>\n",
       "      <td>0.100000</td>\n",
       "      <td>0.100000</td>\n",
       "      <td>...</td>\n",
       "      <td>0.100000</td>\n",
       "      <td>0.100000</td>\n",
       "      <td>0.100000</td>\n",
       "      <td>0.100000</td>\n",
       "      <td>0.100000</td>\n",
       "      <td>0.100000</td>\n",
       "      <td>0.100000</td>\n",
       "      <td>0.100000</td>\n",
       "      <td>0.100000</td>\n",
       "      <td>0.100000</td>\n",
       "    </tr>\n",
       "    <tr>\n",
       "      <th>1</th>\n",
       "      <td>0</td>\n",
       "      <td>H_-2_-2_0.509296.dat</td>\n",
       "      <td>-2.0</td>\n",
       "      <td>-2.0</td>\n",
       "      <td>0.509296</td>\n",
       "      <td>999</td>\n",
       "      <td>666</td>\n",
       "      <td>test</td>\n",
       "      <td>0.141421</td>\n",
       "      <td>0.141142</td>\n",
       "      <td>...</td>\n",
       "      <td>0.114412</td>\n",
       "      <td>0.108967</td>\n",
       "      <td>0.123928</td>\n",
       "      <td>0.119406</td>\n",
       "      <td>0.131490</td>\n",
       "      <td>0.127962</td>\n",
       "      <td>0.136978</td>\n",
       "      <td>0.134500</td>\n",
       "      <td>0.140306</td>\n",
       "      <td>0.138916</td>\n",
       "    </tr>\n",
       "    <tr>\n",
       "      <th>2</th>\n",
       "      <td>0</td>\n",
       "      <td>H_-2_-2_0.509296.dat</td>\n",
       "      <td>-2.0</td>\n",
       "      <td>-2.0</td>\n",
       "      <td>0.509296</td>\n",
       "      <td>999</td>\n",
       "      <td>666</td>\n",
       "      <td>test</td>\n",
       "      <td>0.141421</td>\n",
       "      <td>0.140306</td>\n",
       "      <td>...</td>\n",
       "      <td>0.043702</td>\n",
       "      <td>0.026500</td>\n",
       "      <td>0.075777</td>\n",
       "      <td>0.060214</td>\n",
       "      <td>0.103092</td>\n",
       "      <td>0.090145</td>\n",
       "      <td>0.123928</td>\n",
       "      <td>0.114412</td>\n",
       "      <td>0.136978</td>\n",
       "      <td>0.131490</td>\n",
       "    </tr>\n",
       "    <tr>\n",
       "      <th>3</th>\n",
       "      <td>0</td>\n",
       "      <td>H_-2_-2_0.509296.dat</td>\n",
       "      <td>-2.0</td>\n",
       "      <td>-2.0</td>\n",
       "      <td>0.509296</td>\n",
       "      <td>999</td>\n",
       "      <td>666</td>\n",
       "      <td>test</td>\n",
       "      <td>-0.100000</td>\n",
       "      <td>0.100000</td>\n",
       "      <td>...</td>\n",
       "      <td>-0.100000</td>\n",
       "      <td>0.100000</td>\n",
       "      <td>-0.100000</td>\n",
       "      <td>0.100000</td>\n",
       "      <td>-0.100000</td>\n",
       "      <td>0.100000</td>\n",
       "      <td>-0.100000</td>\n",
       "      <td>0.100000</td>\n",
       "      <td>-0.100000</td>\n",
       "      <td>0.100000</td>\n",
       "    </tr>\n",
       "    <tr>\n",
       "      <th>4</th>\n",
       "      <td>0</td>\n",
       "      <td>H_-2_-2_0.509296.dat</td>\n",
       "      <td>-2.0</td>\n",
       "      <td>-2.0</td>\n",
       "      <td>0.509296</td>\n",
       "      <td>999</td>\n",
       "      <td>666</td>\n",
       "      <td>test</td>\n",
       "      <td>0.000509</td>\n",
       "      <td>-0.008372</td>\n",
       "      <td>...</td>\n",
       "      <td>-0.082713</td>\n",
       "      <td>-0.089753</td>\n",
       "      <td>-0.067684</td>\n",
       "      <td>-0.075347</td>\n",
       "      <td>-0.051587</td>\n",
       "      <td>-0.059753</td>\n",
       "      <td>-0.034677</td>\n",
       "      <td>-0.043217</td>\n",
       "      <td>-0.017220</td>\n",
       "      <td>-0.026000</td>\n",
       "    </tr>\n",
       "  </tbody>\n",
       "</table>\n",
       "<p>5 rows × 108 columns</p>\n",
       "</div>"
      ],
      "text/plain": [
       "   id                  path   t1   t2   winding  phase  pred_phase type_of  \\\n",
       "0   0  H_-2_-2_0.509296.dat -2.0 -2.0  0.509296    999         666    test   \n",
       "1   0  H_-2_-2_0.509296.dat -2.0 -2.0  0.509296    999         666    test   \n",
       "2   0  H_-2_-2_0.509296.dat -2.0 -2.0  0.509296    999         666    test   \n",
       "3   0  H_-2_-2_0.509296.dat -2.0 -2.0  0.509296    999         666    test   \n",
       "4   0  H_-2_-2_0.509296.dat -2.0 -2.0  0.509296    999         666    test   \n",
       "\n",
       "      feat0     feat1  ...    feat90    feat91    feat92    feat93    feat94  \\\n",
       "0  0.100000  0.100000  ...  0.100000  0.100000  0.100000  0.100000  0.100000   \n",
       "1  0.141421  0.141142  ...  0.114412  0.108967  0.123928  0.119406  0.131490   \n",
       "2  0.141421  0.140306  ...  0.043702  0.026500  0.075777  0.060214  0.103092   \n",
       "3 -0.100000  0.100000  ... -0.100000  0.100000 -0.100000  0.100000 -0.100000   \n",
       "4  0.000509 -0.008372  ... -0.082713 -0.089753 -0.067684 -0.075347 -0.051587   \n",
       "\n",
       "     feat95    feat96    feat97    feat98    feat99  \n",
       "0  0.100000  0.100000  0.100000  0.100000  0.100000  \n",
       "1  0.127962  0.136978  0.134500  0.140306  0.138916  \n",
       "2  0.090145  0.123928  0.114412  0.136978  0.131490  \n",
       "3  0.100000 -0.100000  0.100000 -0.100000  0.100000  \n",
       "4 -0.059753 -0.034677 -0.043217 -0.017220 -0.026000  \n",
       "\n",
       "[5 rows x 108 columns]"
      ]
     },
     "execution_count": 4,
     "metadata": {},
     "output_type": "execute_result"
    }
   ],
   "source": [
    "%%time\n",
    "#Starting an instance of Simulation with a decision tree\n",
    "model = DecisionTreeClassifier(criterion=\"entropy\")\n",
    "#dict_args = {\"csv_path\":csv_path, \"model\":model, \"allowed_windings\":allowed_windings,\\\n",
    "#             \"simulation_dir\":simulation_dir, \"val_split\":val_split, \"features_to_use\":features_to_use,\\\n",
    "#            \"shuffle_features\":shuffle_features, \"random_state\":random_state}\n",
    "simulation = Simulation(csv_path,model_name,model_kw,allowed_windings,simulation_dir,val_split,features_to_use,\\\n",
    "                       shuffle_features,fourier_mode,fourier_features_to_use,fourier_real,\\\n",
    "                       fourier_normalize, fourier_fillna , random_state)\n",
    "#simulation = Simulation(**dict_args)\n",
    "\n",
    "\n",
    "#(self, csv_path, model_name, model_kw, allowed_windings, simulation_dir = None, val_split = 0, \n",
    "# features_to_use = None, shuffle_features = False, fourier_mode=None, fourier_features_to_use=None,\n",
    "# fourier_real = False, fourier_normalize = False, Fourier_fillna=False, random_state = None):\n",
    "\n",
    "\n",
    "\n",
    "print(\"Info on all data: \\n\")\n",
    "simulation.dataframe.info()\n",
    "simulation.dataframe.head()"
   ]
  },
  {
   "cell_type": "markdown",
   "metadata": {
    "papermill": {
     "duration": 0.016515,
     "end_time": "2020-07-09T17:19:11.626537",
     "exception": false,
     "start_time": "2020-07-09T17:19:11.610022",
     "status": "completed"
    },
    "tags": []
   },
   "source": [
    "####  Fourier features"
   ]
  },
  {
   "cell_type": "code",
   "execution_count": 5,
   "metadata": {
    "execution": {
     "iopub.execute_input": "2020-07-09T17:19:11.664630Z",
     "iopub.status.busy": "2020-07-09T17:19:11.664304Z",
     "iopub.status.idle": "2020-07-09T17:19:11.674615Z",
     "shell.execute_reply": "2020-07-09T17:19:11.674922Z"
    },
    "papermill": {
     "duration": 0.029745,
     "end_time": "2020-07-09T17:19:11.674987",
     "exception": false,
     "start_time": "2020-07-09T17:19:11.645242",
     "status": "completed"
    },
    "tags": []
   },
   "outputs": [
    {
     "name": "stdout",
     "output_type": "stream",
     "text": [
      "CPU times: user 3 µs, sys: 0 ns, total: 3 µs\n",
      "Wall time: 4.29 µs\n"
     ]
    }
   ],
   "source": [
    "%%time\n",
    "#simulation.generate_fourier_df()\n",
    "if simulation.fourier_mode is not None:\n",
    "    simulation.fourier_dataframe.info() \n",
    "    simulation.fourier_dataframe.sample(15)\n"
   ]
  },
  {
   "cell_type": "code",
   "execution_count": 6,
   "metadata": {
    "execution": {
     "iopub.execute_input": "2020-07-09T17:19:11.710047Z",
     "iopub.status.busy": "2020-07-09T17:19:11.709549Z",
     "iopub.status.idle": "2020-07-09T17:19:11.778846Z",
     "shell.execute_reply": "2020-07-09T17:19:11.779491Z"
    },
    "papermill": {
     "duration": 0.088612,
     "end_time": "2020-07-09T17:19:11.779613",
     "exception": false,
     "start_time": "2020-07-09T17:19:11.691001",
     "status": "completed"
    },
    "tags": []
   },
   "outputs": [
    {
     "name": "stdout",
     "output_type": "stream",
     "text": [
      "features_to_use: \n",
      "\n",
      "\n",
      "[0, 1, 2, 3, 49, 50]\n",
      "Number of real space features:\n",
      "\n",
      "\n",
      "6\n",
      "\n",
      "\n",
      "fourier_features: \n",
      "\n",
      "\n",
      "None\n",
      "\n",
      "\n"
     ]
    }
   ],
   "source": [
    "print(\"features_to_use: \")\n",
    "print(\"\\n\")\n",
    "print(simulation.features_to_use)\n",
    "if simulation.features_to_use is not None:\n",
    "    print(\"Number of real space features:\")\n",
    "    print(\"\\n\")\n",
    "    print(len(simulation.features_to_use))\n",
    "print(\"\\n\")\n",
    "print(\"fourier_features: \")\n",
    "print(\"\\n\")\n",
    "print(simulation.fourier_features)\n",
    "print(\"\\n\")\n",
    "if simulation.fourier_features is not None:\n",
    "    print(\"Number of Fourier features: \")\n",
    "    print(\"\\n\")\n",
    "    print(len(simulation.fourier_features))"
   ]
  },
  {
   "cell_type": "code",
   "execution_count": 7,
   "metadata": {
    "execution": {
     "iopub.execute_input": "2020-07-09T17:19:11.842128Z",
     "iopub.status.busy": "2020-07-09T17:19:11.841795Z",
     "iopub.status.idle": "2020-07-09T17:19:11.851467Z",
     "shell.execute_reply": "2020-07-09T17:19:11.851160Z"
    },
    "papermill": {
     "duration": 0.033537,
     "end_time": "2020-07-09T17:19:11.851527",
     "exception": false,
     "start_time": "2020-07-09T17:19:11.817990",
     "status": "completed"
    },
    "tags": []
   },
   "outputs": [],
   "source": [
    "#simulation.dataframe.iloc[331456,:]"
   ]
  },
  {
   "cell_type": "code",
   "execution_count": 8,
   "metadata": {
    "execution": {
     "iopub.execute_input": "2020-07-09T17:19:11.887081Z",
     "iopub.status.busy": "2020-07-09T17:19:11.886771Z",
     "iopub.status.idle": "2020-07-09T17:19:11.950560Z",
     "shell.execute_reply": "2020-07-09T17:19:11.948774Z"
    },
    "papermill": {
     "duration": 0.082013,
     "end_time": "2020-07-09T17:19:11.950808",
     "exception": false,
     "start_time": "2020-07-09T17:19:11.868795",
     "status": "completed"
    },
    "tags": []
   },
   "outputs": [],
   "source": [
    "#for ix, obj in enumerate(simulation.dataframe.iloc[331456,:].values):\n",
    "#    print(ix,obj)"
   ]
  },
  {
   "cell_type": "code",
   "execution_count": 9,
   "metadata": {
    "execution": {
     "iopub.execute_input": "2020-07-09T17:19:12.024960Z",
     "iopub.status.busy": "2020-07-09T17:19:12.024655Z",
     "iopub.status.idle": "2020-07-09T17:19:12.034400Z",
     "shell.execute_reply": "2020-07-09T17:19:12.034104Z"
    },
    "papermill": {
     "duration": 0.031048,
     "end_time": "2020-07-09T17:19:12.034456",
     "exception": false,
     "start_time": "2020-07-09T17:19:12.003408",
     "status": "completed"
    },
    "tags": []
   },
   "outputs": [],
   "source": [
    "#simulation.fourier_engineered_dataframe.dct_feat0"
   ]
  },
  {
   "cell_type": "code",
   "execution_count": 10,
   "metadata": {
    "execution": {
     "iopub.execute_input": "2020-07-09T17:19:12.069384Z",
     "iopub.status.busy": "2020-07-09T17:19:12.069061Z",
     "iopub.status.idle": "2020-07-09T17:19:12.142287Z",
     "shell.execute_reply": "2020-07-09T17:19:12.140502Z"
    },
    "papermill": {
     "duration": 0.091606,
     "end_time": "2020-07-09T17:19:12.142531",
     "exception": false,
     "start_time": "2020-07-09T17:19:12.050925",
     "status": "completed"
    },
    "tags": []
   },
   "outputs": [],
   "source": [
    "#simulation.features"
   ]
  },
  {
   "cell_type": "code",
   "execution_count": 11,
   "metadata": {
    "execution": {
     "iopub.execute_input": "2020-07-09T17:19:12.215088Z",
     "iopub.status.busy": "2020-07-09T17:19:12.214666Z",
     "iopub.status.idle": "2020-07-09T17:19:12.224616Z",
     "shell.execute_reply": "2020-07-09T17:19:12.224251Z"
    },
    "papermill": {
     "duration": 0.031009,
     "end_time": "2020-07-09T17:19:12.224668",
     "exception": false,
     "start_time": "2020-07-09T17:19:12.193659",
     "status": "completed"
    },
    "tags": []
   },
   "outputs": [],
   "source": [
    "#simulation.fourier_matrix"
   ]
  },
  {
   "cell_type": "code",
   "execution_count": 12,
   "metadata": {
    "execution": {
     "iopub.execute_input": "2020-07-09T17:19:12.259505Z",
     "iopub.status.busy": "2020-07-09T17:19:12.259199Z",
     "iopub.status.idle": "2020-07-09T17:19:12.348918Z",
     "shell.execute_reply": "2020-07-09T17:19:12.347147Z"
    },
    "papermill": {
     "duration": 0.108018,
     "end_time": "2020-07-09T17:19:12.349164",
     "exception": false,
     "start_time": "2020-07-09T17:19:12.241146",
     "status": "completed"
    },
    "tags": []
   },
   "outputs": [],
   "source": [
    "#1/simulation.n_features*simulation.dataframe.loc[:,simulation.features].sum(axis=1)"
   ]
  },
  {
   "cell_type": "code",
   "execution_count": 13,
   "metadata": {
    "execution": {
     "iopub.execute_input": "2020-07-09T17:19:12.424330Z",
     "iopub.status.busy": "2020-07-09T17:19:12.424022Z",
     "iopub.status.idle": "2020-07-09T17:19:12.434037Z",
     "shell.execute_reply": "2020-07-09T17:19:12.433692Z"
    },
    "papermill": {
     "duration": 0.031032,
     "end_time": "2020-07-09T17:19:12.434091",
     "exception": false,
     "start_time": "2020-07-09T17:19:12.403059",
     "status": "completed"
    },
    "tags": []
   },
   "outputs": [],
   "source": [
    "#df_2 = simulation.fourier_engineered_dataframe[simulation.fourier_engineered_dataframe.phase==2]\n",
    "#df_2.describe()"
   ]
  },
  {
   "cell_type": "code",
   "execution_count": 14,
   "metadata": {
    "execution": {
     "iopub.execute_input": "2020-07-09T17:19:12.469039Z",
     "iopub.status.busy": "2020-07-09T17:19:12.468715Z",
     "iopub.status.idle": "2020-07-09T17:19:12.525782Z",
     "shell.execute_reply": "2020-07-09T17:19:12.526216Z"
    },
    "papermill": {
     "duration": 0.075752,
     "end_time": "2020-07-09T17:19:12.526322",
     "exception": false,
     "start_time": "2020-07-09T17:19:12.450570",
     "status": "completed"
    },
    "tags": []
   },
   "outputs": [],
   "source": [
    "#df_1 = simulation.fourier_engineered_dataframe[simulation.fourier_engineered_dataframe.phase==1]\n",
    "#df_1.describe()"
   ]
  },
  {
   "cell_type": "code",
   "execution_count": 15,
   "metadata": {
    "execution": {
     "iopub.execute_input": "2020-07-09T17:19:12.583255Z",
     "iopub.status.busy": "2020-07-09T17:19:12.582946Z",
     "iopub.status.idle": "2020-07-09T17:19:12.592789Z",
     "shell.execute_reply": "2020-07-09T17:19:12.593110Z"
    },
    "papermill": {
     "duration": 0.035037,
     "end_time": "2020-07-09T17:19:12.593178",
     "exception": false,
     "start_time": "2020-07-09T17:19:12.558141",
     "status": "completed"
    },
    "tags": []
   },
   "outputs": [],
   "source": [
    "#df_0 = simulation.fourier_engineered_dataframe[simulation.fourier_engineered_dataframe.phase==0]\n",
    "#df_0.describe()"
   ]
  },
  {
   "cell_type": "code",
   "execution_count": 16,
   "metadata": {
    "execution": {
     "iopub.execute_input": "2020-07-09T17:19:12.628179Z",
     "iopub.status.busy": "2020-07-09T17:19:12.627873Z",
     "iopub.status.idle": "2020-07-09T17:19:12.684055Z",
     "shell.execute_reply": "2020-07-09T17:19:12.684472Z"
    },
    "papermill": {
     "duration": 0.074832,
     "end_time": "2020-07-09T17:19:12.684570",
     "exception": false,
     "start_time": "2020-07-09T17:19:12.609738",
     "status": "completed"
    },
    "tags": []
   },
   "outputs": [],
   "source": [
    "#plt.figure(figsize=(10,10))\n",
    "#plt.scatter(df_1.fourier_feat0,df_1.fourier_feat2)\n",
    "#plt.scatter(df_0.fourier_feat0,df_0.fourier_feat2,alpha=0.4)"
   ]
  },
  {
   "cell_type": "code",
   "execution_count": 17,
   "metadata": {
    "execution": {
     "iopub.execute_input": "2020-07-09T17:19:12.735551Z",
     "iopub.status.busy": "2020-07-09T17:19:12.735219Z",
     "iopub.status.idle": "2020-07-09T17:19:12.745302Z",
     "shell.execute_reply": "2020-07-09T17:19:12.745616Z"
    },
    "papermill": {
     "duration": 0.032207,
     "end_time": "2020-07-09T17:19:12.745684",
     "exception": false,
     "start_time": "2020-07-09T17:19:12.713477",
     "status": "completed"
    },
    "tags": []
   },
   "outputs": [],
   "source": [
    "#plt.scatter(df_0.fourier_feat0,df_0.fourier_feat2,alpha=0.4)"
   ]
  },
  {
   "cell_type": "code",
   "execution_count": 18,
   "metadata": {
    "execution": {
     "iopub.execute_input": "2020-07-09T17:19:12.782533Z",
     "iopub.status.busy": "2020-07-09T17:19:12.782227Z",
     "iopub.status.idle": "2020-07-09T17:19:12.841997Z",
     "shell.execute_reply": "2020-07-09T17:19:12.840196Z"
    },
    "papermill": {
     "duration": 0.079086,
     "end_time": "2020-07-09T17:19:12.842243",
     "exception": false,
     "start_time": "2020-07-09T17:19:12.763157",
     "status": "completed"
    },
    "tags": []
   },
   "outputs": [],
   "source": [
    "#plt.scatter(df_2.fourier_feat0,df_2.fourier_feat2)"
   ]
  },
  {
   "cell_type": "code",
   "execution_count": 19,
   "metadata": {
    "execution": {
     "iopub.execute_input": "2020-07-09T17:19:12.916633Z",
     "iopub.status.busy": "2020-07-09T17:19:12.916309Z",
     "iopub.status.idle": "2020-07-09T17:19:12.927093Z",
     "shell.execute_reply": "2020-07-09T17:19:12.926742Z"
    },
    "papermill": {
     "duration": 0.033132,
     "end_time": "2020-07-09T17:19:12.927169",
     "exception": false,
     "start_time": "2020-07-09T17:19:12.894037",
     "status": "completed"
    },
    "tags": []
   },
   "outputs": [],
   "source": [
    "#df_1.hist(figsize=(15,15))"
   ]
  },
  {
   "cell_type": "code",
   "execution_count": 20,
   "metadata": {
    "execution": {
     "iopub.execute_input": "2020-07-09T17:19:12.963077Z",
     "iopub.status.busy": "2020-07-09T17:19:12.962769Z",
     "iopub.status.idle": "2020-07-09T17:19:13.017352Z",
     "shell.execute_reply": "2020-07-09T17:19:13.017825Z"
    },
    "papermill": {
     "duration": 0.073485,
     "end_time": "2020-07-09T17:19:13.017919",
     "exception": false,
     "start_time": "2020-07-09T17:19:12.944434",
     "status": "completed"
    },
    "tags": []
   },
   "outputs": [],
   "source": [
    "#df_0.hist(figsize=(15,15))"
   ]
  },
  {
   "cell_type": "markdown",
   "metadata": {
    "papermill": {
     "duration": 0.022577,
     "end_time": "2020-07-09T17:19:13.069005",
     "exception": false,
     "start_time": "2020-07-09T17:19:13.046428",
     "status": "completed"
    },
    "tags": []
   },
   "source": [
    "#### Checking initialization"
   ]
  },
  {
   "cell_type": "code",
   "execution_count": 21,
   "metadata": {
    "execution": {
     "iopub.execute_input": "2020-07-09T17:19:13.105226Z",
     "iopub.status.busy": "2020-07-09T17:19:13.104914Z",
     "iopub.status.idle": "2020-07-09T17:19:13.115428Z",
     "shell.execute_reply": "2020-07-09T17:19:13.115108Z"
    },
    "papermill": {
     "duration": 0.0291,
     "end_time": "2020-07-09T17:19:13.115478",
     "exception": false,
     "start_time": "2020-07-09T17:19:13.086378",
     "status": "completed"
    },
    "tags": []
   },
   "outputs": [
    {
     "name": "stdout",
     "output_type": "stream",
     "text": [
      "n_features:  100\n",
      "n_hamiltonians:  6561\n",
      "n_ts:  2\n",
      "CPU times: user 173 µs, sys: 16 µs, total: 189 µs\n",
      "Wall time: 108 µs\n"
     ]
    }
   ],
   "source": [
    "%%time\n",
    "n_features = simulation.n_features\n",
    "n_hamiltonians = simulation.n_hamiltonians\n",
    "n_ts = simulation.n_ts\n",
    "\n",
    "print(\"n_features: \", n_features)\n",
    "print(\"n_hamiltonians: \", n_hamiltonians)\n",
    "print(\"n_ts: \", n_ts)"
   ]
  },
  {
   "cell_type": "code",
   "execution_count": 22,
   "metadata": {
    "execution": {
     "iopub.execute_input": "2020-07-09T17:19:13.151512Z",
     "iopub.status.busy": "2020-07-09T17:19:13.150974Z",
     "iopub.status.idle": "2020-07-09T17:19:13.393168Z",
     "shell.execute_reply": "2020-07-09T17:19:13.393477Z"
    },
    "papermill": {
     "duration": 0.261308,
     "end_time": "2020-07-09T17:19:13.393540",
     "exception": false,
     "start_time": "2020-07-09T17:19:13.132232",
     "status": "completed"
    },
    "tags": []
   },
   "outputs": [
    {
     "name": "stdout",
     "output_type": "stream",
     "text": [
      "% train:  0.846822130772748\n",
      "% val:  0.0\n",
      "% test:  0.15317786922725193\n",
      "% train + val + test:  1.0\n",
      "\n",
      "\n",
      "number of train hamiltonians:  5556\n",
      "number of val hamiltonians:  0\n",
      "number of test hamiltonians:  1005\n",
      "total number of hamiltonians:  6561\n",
      "\n",
      "\n",
      "train ids:  [9, 10, 11, 12, 13, 14, 15, 16, 17, 18, 19, 20, 21, 22, 23, 24, 25, 26, 27, 28, 29, 30, 31, 32, 33, 34, 35, 36, 37, 38, 39, 40, 41, 42, 43, 44, 45, 46, 47, 48, 49, 50, 51, 52, 53, 54, 55, 56, 57, 58, 59, 60, 61, 62, 63, 64, 65, 66, 67, 68, 69, 70, 71, 72, 73, 74, 75, 76, 77, 91, 92, 93, 94, 95, 96, 97, 98, 99, 100, 101, 102, 103, 104, 105, 106, 107, 108, 109, 110, 111, 112, 113, 114, 115, 116, 117, 118, 119, 120, 121, 122, 123, 124, 125, 126, 127, 128, 129, 130, 131, 132, 133, 134, 135, 136, 137, 138, 139, 140, 141, 142, 143, 144, 145, 146, 147, 148, 149, 150, 151, 152, 153, 154, 155, 156, 157, 172, 173, 174, 175, 176, 177, 178, 179, 180, 181, 182, 183, 184, 185, 186, 187, 188, 189, 190, 191, 192, 193, 194, 195, 196, 197, 198, 199, 200, 201, 202, 203, 204, 205, 206, 207, 208, 209, 210, 211, 212, 213, 214, 215, 216, 217, 218, 219, 220, 221, 222, 223, 224, 225, 226, 227, 228, 229, 230, 231, 232, 233, 234, 235, 236, 237, 254, 255, 256, 257, 258, 259, 260, 261, 262, 263, 264, 265, 266, 267, 268, 269, 270, 271, 272, 273, 274, 275, 276, 277, 278, 279, 280, 281, 282, 283, 284, 285, 286, 287, 288, 289, 290, 291, 292, 293, 294, 295, 296, 297, 298, 299, 300, 301, 302, 303, 304, 305, 306, 307, 308, 309, 310, 311, 312, 313, 314, 315, 316, 317, 323, 336, 337, 338, 339, 340, 341, 342, 343, 344, 345, 346, 347, 348, 349, 350, 351, 352, 353, 354, 355, 356, 357, 358, 359, 360, 361, 362, 363, 364, 365, 366, 367, 368, 369, 370, 371, 372, 373, 374, 375, 376, 377, 378, 379, 380, 381, 382, 383, 384, 385, 386, 387, 388, 389, 390, 391, 392, 393, 394, 395, 396, 397, 403, 404, 418, 419, 420, 421, 422, 423, 424, 425, 426, 427, 428, 429, 430, 431, 432, 433, 434, 435, 436, 437, 438, 439, 440, 441, 442, 443, 444, 445, 446, 447, 448, 449, 450, 451, 452, 453, 454, 455, 456, 457, 458, 459, 460, 461, 462, 463, 464, 465, 466, 467, 468, 469, 470, 471, 472, 473, 474, 475, 476, 477, 483, 484, 485, 500, 501, 502, 503, 504, 505, 506, 507, 508, 509, 510, 511, 512, 513, 514, 515, 516, 517, 518, 519, 520, 521, 522, 523, 524, 525, 526, 527, 528, 529, 530, 531, 532, 533, 534, 535, 536, 537, 538, 539, 540, 541, 542, 543, 544, 545, 546, 547, 548, 549, 550, 551, 552, 553, 554, 555, 556, 557, 563, 564, 565, 566, 581, 582, 583, 584, 585, 586, 587, 588, 589, 590, 591, 592, 593, 594, 595, 596, 597, 598, 599, 600, 601, 602, 603, 604, 605, 606, 607, 608, 609, 610, 611, 612, 613, 614, 615, 616, 617, 618, 619, 620, 621, 622, 623, 624, 625, 626, 627, 628, 629, 630, 631, 632, 633, 634, 635, 636, 637, 643, 644, 645, 646, 647, 663, 664, 665, 666, 667, 668, 669, 670, 671, 672, 673, 674, 675, 676, 677, 678, 679, 680, 681, 682, 683, 684, 685, 686, 687, 688, 689, 690, 691, 692, 693, 694, 695, 696, 697, 698, 699, 700, 701, 702, 703, 704, 705, 706, 707, 708, 709, 710, 711, 712, 713, 714, 715, 716, 717, 723, 724, 725, 726, 727, 728, 745, 746, 747, 748, 749, 750, 751, 752, 753, 754, 755, 756, 757, 758, 759, 760, 761, 762, 763, 764, 765, 766, 767, 768, 769, 770, 771, 772, 773, 774, 775, 776, 777, 778, 779, 780, 781, 782, 783, 784, 785, 786, 787, 788, 789, 790, 791, 792, 793, 794, 795, 796, 797, 803, 804, 805, 806, 807, 808, 809, 827, 828, 829, 830, 831, 832, 833, 834, 835, 836, 837, 838, 839, 840, 841, 842, 843, 844, 845, 846, 847, 848, 849, 850, 851, 852, 853, 854, 855, 856, 857, 858, 859, 860, 861, 862, 863, 864, 865, 866, 867, 868, 869, 870, 871, 872, 873, 874, 875, 876, 877, 883, 884, 885, 886, 887, 888, 889, 890, 891, 909, 910, 911, 912, 913, 914, 915, 916, 917, 918, 919, 920, 921, 922, 923, 924, 925, 926, 927, 928, 929, 930, 931, 932, 933, 934, 935, 936, 937, 938, 939, 940, 941, 942, 943, 944, 945, 946, 947, 948, 949, 950, 951, 952, 953, 954, 955, 956, 957, 963, 964, 965, 966, 967, 968, 969, 970, 971, 972, 973, 990, 991, 992, 993, 994, 995, 996, 997, 998, 999, 1000, 1001, 1002, 1003, 1004, 1005, 1006, 1007, 1008, 1009, 1010, 1011, 1012, 1013, 1014, 1015, 1016, 1017, 1018, 1019, 1020, 1021, 1022, 1023, 1024, 1025, 1026, 1027, 1028, 1029, 1030, 1031, 1032, 1033, 1034, 1035, 1036, 1037, 1038, 1042, 1043, 1044, 1045, 1046, 1047, 1048, 1049, 1050, 1051, 1052, 1053, 1054, 1055, 1056, 1072, 1073, 1074, 1075, 1076, 1077, 1078, 1079, 1080, 1081, 1082, 1083, 1084, 1085, 1086, 1087, 1088, 1089, 1090, 1091, 1092, 1093, 1094, 1095, 1096, 1097, 1098, 1099, 1100, 1101, 1102, 1103, 1104, 1105, 1106, 1107, 1108, 1109, 1110, 1111, 1112, 1113, 1114, 1115, 1116, 1117, 1118, 1122, 1123, 1124, 1125, 1126, 1127, 1128, 1129, 1130, 1131, 1132, 1133, 1134, 1135, 1136, 1137, 1138, 1154, 1155, 1156, 1157, 1158, 1159, 1160, 1161, 1162, 1163, 1164, 1165, 1166, 1167, 1168, 1169, 1170, 1171, 1172, 1173, 1174, 1175, 1176, 1177, 1178, 1179, 1180, 1181, 1182, 1183, 1184, 1185, 1186, 1187, 1188, 1189, 1190, 1191, 1192, 1193, 1194, 1195, 1196, 1197, 1198, 1202, 1203, 1204, 1205, 1206, 1207, 1208, 1209, 1210, 1211, 1212, 1213, 1214, 1215, 1216, 1217, 1218, 1219, 1220, 1236, 1237, 1238, 1239, 1240, 1241, 1242, 1243, 1244, 1245, 1246, 1247, 1248, 1249, 1250, 1251, 1252, 1253, 1254, 1255, 1256, 1257, 1258, 1259, 1260, 1261, 1262, 1263, 1264, 1265, 1266, 1267, 1268, 1269, 1270, 1271, 1272, 1273, 1274, 1275, 1276, 1277, 1278, 1282, 1283, 1284, 1285, 1286, 1287, 1288, 1289, 1290, 1291, 1292, 1293, 1294, 1295, 1296, 1297, 1298, 1299, 1300, 1301, 1302, 1303, 1317, 1318, 1319, 1320, 1321, 1322, 1323, 1324, 1325, 1326, 1327, 1328, 1329, 1330, 1331, 1332, 1333, 1334, 1335, 1336, 1337, 1338, 1339, 1340, 1341, 1342, 1343, 1344, 1345, 1346, 1347, 1348, 1349, 1350, 1351, 1352, 1353, 1354, 1355, 1356, 1357, 1358, 1362, 1363, 1364, 1365, 1366, 1367, 1368, 1369, 1370, 1371, 1372, 1373, 1374, 1375, 1376, 1377, 1378, 1379, 1380, 1381, 1382, 1383, 1384, 1385, 1399, 1400, 1401, 1402, 1403, 1404, 1405, 1406, 1407, 1408, 1409, 1410, 1411, 1412, 1413, 1414, 1415, 1416, 1417, 1418, 1419, 1420, 1421, 1422, 1423, 1424, 1425, 1426, 1427, 1428, 1429, 1430, 1431, 1432, 1433, 1434, 1435, 1436, 1437, 1438, 1442, 1443, 1444, 1445, 1446, 1447, 1448, 1449, 1450, 1451, 1452, 1453, 1454, 1455, 1456, 1457, 1458, 1459, 1460, 1461, 1462, 1463, 1464, 1465, 1466, 1467, 1468, 1481, 1482, 1483, 1484, 1485, 1486, 1487, 1488, 1489, 1490, 1491, 1492, 1493, 1494, 1495, 1496, 1497, 1498, 1499, 1500, 1501, 1502, 1503, 1504, 1505, 1506, 1507, 1508, 1509, 1510, 1511, 1512, 1513, 1514, 1515, 1516, 1517, 1518, 1522, 1523, 1524, 1525, 1526, 1527, 1528, 1529, 1530, 1531, 1532, 1533, 1534, 1535, 1536, 1537, 1538, 1539, 1540, 1541, 1542, 1543, 1544, 1545, 1546, 1547, 1548, 1549, 1550, 1563, 1564, 1565, 1566, 1567, 1568, 1569, 1570, 1571, 1572, 1573, 1574, 1575, 1576, 1577, 1578, 1579, 1580, 1581, 1582, 1583, 1584, 1585, 1586, 1587, 1588, 1589, 1590, 1591, 1592, 1593, 1594, 1595, 1596, 1597, 1598, 1602, 1603, 1604, 1605, 1606, 1607, 1608, 1609, 1610, 1611, 1612, 1613, 1614, 1615, 1616, 1617, 1618, 1619, 1620, 1621, 1622, 1623, 1624, 1625, 1626, 1627, 1628, 1629, 1630, 1631, 1632, 1645, 1646, 1647, 1648, 1649, 1650, 1651, 1652, 1653, 1654, 1655, 1656, 1657, 1658, 1659, 1660, 1661, 1662, 1663, 1664, 1665, 1666, 1667, 1668, 1669, 1670, 1671, 1672, 1673, 1674, 1675, 1676, 1677, 1678, 1682, 1683, 1684, 1685, 1686, 1687, 1688, 1689, 1690, 1691, 1692, 1693, 1694, 1695, 1696, 1697, 1698, 1699, 1700, 1701, 1702, 1703, 1704, 1705, 1706, 1707, 1708, 1709, 1710, 1711, 1712, 1713, 1714, 1715, 1726, 1727, 1728, 1729, 1730, 1731, 1732, 1733, 1734, 1735, 1736, 1737, 1738, 1739, 1740, 1741, 1742, 1743, 1744, 1745, 1746, 1747, 1748, 1749, 1750, 1751, 1752, 1753, 1754, 1755, 1756, 1757, 1758, 1762, 1763, 1764, 1765, 1766, 1767, 1768, 1769, 1770, 1771, 1772, 1773, 1774, 1775, 1776, 1777, 1778, 1779, 1780, 1781, 1782, 1783, 1784, 1785, 1786, 1787, 1788, 1789, 1790, 1791, 1792, 1793, 1794, 1795, 1796, 1797, 1808, 1809, 1810, 1811, 1812, 1813, 1814, 1815, 1816, 1817, 1818, 1819, 1820, 1821, 1822, 1823, 1824, 1825, 1826, 1827, 1828, 1829, 1830, 1831, 1832, 1833, 1834, 1835, 1836, 1837, 1838, 1842, 1843, 1844, 1845, 1846, 1847, 1848, 1849, 1850, 1851, 1852, 1853, 1854, 1855, 1856, 1857, 1858, 1859, 1860, 1861, 1862, 1863, 1864, 1865, 1866, 1867, 1868, 1869, 1870, 1871, 1872, 1873, 1874, 1875, 1876, 1877, 1878, 1879, 1890, 1891, 1892, 1893, 1894, 1895, 1896, 1897, 1898, 1899, 1900, 1901, 1902, 1903, 1904, 1905, 1906, 1907, 1908, 1909, 1910, 1911, 1912, 1913, 1914, 1915, 1916, 1917, 1918, 1922, 1923, 1924, 1925, 1926, 1927, 1928, 1929, 1930, 1931, 1932, 1933, 1934, 1935, 1936, 1937, 1938, 1939, 1940, 1941, 1942, 1943, 1944, 1945, 1946, 1947, 1948, 1949, 1950, 1951, 1952, 1953, 1954, 1955, 1956, 1957, 1958, 1959, 1960, 1961, 1962, 1972, 1973, 1974, 1975, 1976, 1977, 1978, 1979, 1980, 1981, 1982, 1983, 1984, 1985, 1986, 1987, 1988, 1989, 1990, 1991, 1992, 1993, 1994, 1995, 1996, 1997, 1998, 2002, 2003, 2004, 2005, 2006, 2007, 2008, 2009, 2010, 2011, 2012, 2013, 2014, 2015, 2016, 2017, 2018, 2019, 2020, 2021, 2022, 2023, 2024, 2025, 2026, 2027, 2028, 2029, 2030, 2031, 2032, 2033, 2034, 2035, 2036, 2037, 2038, 2039, 2040, 2041, 2042, 2043, 2044, 2054, 2055, 2056, 2057, 2058, 2059, 2060, 2061, 2062, 2063, 2064, 2065, 2066, 2067, 2068, 2069, 2070, 2071, 2072, 2073, 2074, 2075, 2076, 2077, 2078, 2082, 2083, 2084, 2085, 2086, 2087, 2088, 2089, 2090, 2091, 2092, 2093, 2094, 2095, 2096, 2097, 2098, 2099, 2100, 2101, 2102, 2103, 2104, 2105, 2106, 2107, 2108, 2109, 2110, 2111, 2112, 2113, 2114, 2115, 2116, 2117, 2118, 2119, 2120, 2121, 2122, 2123, 2124, 2125, 2126, 2135, 2136, 2137, 2138, 2139, 2140, 2141, 2142, 2143, 2144, 2145, 2146, 2147, 2148, 2149, 2150, 2151, 2152, 2153, 2154, 2155, 2156, 2157, 2158, 2159, 2161, 2162, 2163, 2164, 2165, 2166, 2167, 2168, 2169, 2170, 2171, 2172, 2173, 2174, 2175, 2176, 2177, 2178, 2179, 2180, 2181, 2182, 2183, 2184, 2185, 2186, 2187, 2188, 2189, 2190, 2191, 2192, 2193, 2194, 2195, 2196, 2197, 2198, 2199, 2200, 2201, 2202, 2203, 2204, 2205, 2206, 2207, 2208, 2209, 2217, 2218, 2219, 2220, 2221, 2222, 2223, 2224, 2225, 2226, 2227, 2228, 2229, 2230, 2231, 2232, 2233, 2234, 2235, 2236, 2237, 2238, 2239, 2241, 2242, 2243, 2244, 2245, 2246, 2247, 2248, 2249, 2250, 2251, 2252, 2253, 2254, 2255, 2256, 2257, 2258, 2259, 2260, 2261, 2262, 2263, 2264, 2265, 2266, 2267, 2268, 2269, 2270, 2271, 2272, 2273, 2274, 2275, 2276, 2277, 2278, 2279, 2280, 2281, 2282, 2283, 2284, 2285, 2286, 2287, 2288, 2289, 2290, 2291, 2299, 2300, 2301, 2302, 2303, 2304, 2305, 2306, 2307, 2308, 2309, 2310, 2311, 2312, 2313, 2314, 2315, 2316, 2317, 2318, 2319, 2321, 2322, 2323, 2324, 2325, 2326, 2327, 2328, 2329, 2330, 2331, 2332, 2333, 2334, 2335, 2336, 2337, 2338, 2339, 2340, 2341, 2342, 2343, 2344, 2345, 2346, 2347, 2348, 2349, 2350, 2351, 2352, 2353, 2354, 2355, 2356, 2357, 2358, 2359, 2360, 2361, 2362, 2363, 2364, 2365, 2366, 2367, 2368, 2369, 2370, 2371, 2372, 2373, 2374, 2381, 2382, 2383, 2384, 2385, 2386, 2387, 2388, 2389, 2390, 2391, 2392, 2393, 2394, 2395, 2396, 2397, 2398, 2399, 2401, 2402, 2403, 2404, 2405, 2406, 2407, 2408, 2409, 2410, 2411, 2412, 2413, 2414, 2415, 2416, 2417, 2418, 2419, 2420, 2421, 2422, 2423, 2424, 2425, 2426, 2427, 2428, 2429, 2430, 2431, 2432, 2433, 2434, 2435, 2436, 2437, 2438, 2439, 2440, 2441, 2442, 2443, 2444, 2445, 2446, 2447, 2448, 2449, 2450, 2451, 2452, 2453, 2454, 2455, 2456, 2463, 2464, 2465, 2466, 2467, 2468, 2469, 2470, 2471, 2472, 2473, 2474, 2475, 2476, 2477, 2478, 2479, 2481, 2482, 2483, 2484, 2485, 2486, 2487, 2488, 2489, 2490, 2491, 2492, 2493, 2494, 2495, 2496, 2497, 2498, 2499, 2500, 2501, 2502, 2503, 2504, 2505, 2506, 2507, 2508, 2509, 2510, 2511, 2512, 2513, 2514, 2515, 2516, 2517, 2518, 2519, 2520, 2521, 2522, 2523, 2524, 2525, 2526, 2527, 2528, 2529, 2530, 2531, 2532, 2533, 2534, 2535, 2536, 2537, 2538, 2544, 2545, 2546, 2547, 2548, 2549, 2550, 2551, 2552, 2553, 2554, 2555, 2556, 2557, 2558, 2559, 2561, 2562, 2563, 2564, 2565, 2566, 2567, 2568, 2569, 2570, 2571, 2572, 2573, 2574, 2575, 2576, 2577, 2578, 2579, 2580, 2581, 2582, 2583, 2584, 2585, 2586, 2587, 2588, 2589, 2590, 2591, 2592, 2593, 2594, 2595, 2596, 2597, 2598, 2599, 2600, 2601, 2602, 2603, 2604, 2605, 2606, 2607, 2608, 2609, 2610, 2611, 2612, 2613, 2614, 2615, 2616, 2617, 2618, 2619, 2620, 2621, 2626, 2627, 2628, 2629, 2630, 2631, 2632, 2633, 2634, 2635, 2636, 2637, 2638, 2639, 2641, 2642, 2643, 2644, 2645, 2646, 2647, 2648, 2649, 2650, 2651, 2652, 2653, 2654, 2655, 2656, 2657, 2658, 2659, 2660, 2661, 2662, 2663, 2664, 2665, 2666, 2667, 2668, 2669, 2670, 2671, 2672, 2673, 2674, 2675, 2676, 2677, 2678, 2679, 2680, 2681, 2682, 2683, 2684, 2685, 2686, 2687, 2688, 2689, 2690, 2691, 2692, 2693, 2694, 2695, 2696, 2697, 2698, 2699, 2700, 2701, 2702, 2703, 2708, 2709, 2710, 2711, 2712, 2713, 2714, 2715, 2716, 2717, 2718, 2719, 2721, 2722, 2723, 2724, 2725, 2726, 2727, 2728, 2729, 2730, 2731, 2732, 2733, 2734, 2735, 2736, 2737, 2738, 2739, 2740, 2741, 2742, 2743, 2744, 2745, 2746, 2747, 2748, 2749, 2750, 2751, 2752, 2753, 2754, 2755, 2756, 2757, 2758, 2759, 2760, 2761, 2762, 2763, 2764, 2765, 2766, 2767, 2768, 2769, 2770, 2771, 2772, 2773, 2774, 2775, 2776, 2777, 2778, 2779, 2780, 2781, 2782, 2783, 2784, 2785, 2790, 2791, 2792, 2793, 2794, 2795, 2796, 2797, 2798, 2799, 2801, 2802, 2803, 2804, 2805, 2806, 2807, 2808, 2809, 2810, 2811, 2812, 2813, 2814, 2815, 2816, 2817, 2818, 2819, 2820, 2821, 2822, 2823, 2824, 2825, 2826, 2827, 2828, 2829, 2830, 2831, 2832, 2833, 2834, 2835, 2836, 2837, 2838, 2839, 2840, 2841, 2842, 2843, 2844, 2845, 2846, 2847, 2848, 2849, 2850, 2851, 2852, 2853, 2854, 2855, 2856, 2857, 2858, 2859, 2860, 2861, 2862, 2863, 2864, 2865, 2866, 2867, 2868, 2872, 2873, 2874, 2875, 2876, 2877, 2878, 2879, 2881, 2882, 2883, 2884, 2885, 2886, 2887, 2888, 2889, 2890, 2891, 2892, 2893, 2894, 2895, 2896, 2897, 2898, 2899, 2900, 2901, 2902, 2903, 2904, 2905, 2906, 2907, 2908, 2909, 2910, 2911, 2912, 2913, 2914, 2915, 2916, 2917, 2918, 2919, 2920, 2921, 2922, 2923, 2924, 2925, 2926, 2927, 2928, 2929, 2930, 2931, 2932, 2933, 2934, 2935, 2936, 2937, 2938, 2939, 2940, 2941, 2942, 2943, 2944, 2945, 2946, 2947, 2948, 2949, 2950, 2953, 2954, 2955, 2956, 2957, 2958, 2959, 2961, 2962, 2963, 2964, 2965, 2966, 2967, 2968, 2969, 2970, 2971, 2972, 2973, 2974, 2975, 2976, 2977, 2978, 2979, 2980, 2981, 2982, 2983, 2984, 2985, 2986, 2987, 2988, 2989, 2990, 2991, 2992, 2993, 2994, 2995, 2996, 2997, 2998, 2999, 3000, 3001, 3002, 3003, 3004, 3005, 3006, 3007, 3008, 3009, 3010, 3011, 3012, 3013, 3014, 3015, 3016, 3017, 3018, 3019, 3020, 3021, 3022, 3023, 3024, 3025, 3026, 3027, 3028, 3029, 3030, 3031, 3032, 3035, 3036, 3037, 3038, 3039, 3041, 3042, 3043, 3044, 3045, 3046, 3047, 3048, 3049, 3050, 3051, 3052, 3053, 3054, 3055, 3056, 3057, 3058, 3059, 3060, 3061, 3062, 3063, 3064, 3065, 3066, 3067, 3068, 3069, 3070, 3071, 3072, 3073, 3074, 3075, 3076, 3077, 3078, 3079, 3080, 3081, 3082, 3083, 3084, 3085, 3086, 3087, 3088, 3089, 3090, 3091, 3092, 3093, 3094, 3095, 3096, 3097, 3098, 3099, 3100, 3101, 3102, 3103, 3104, 3105, 3106, 3107, 3108, 3109, 3110, 3111, 3112, 3113, 3114, 3115, 3117, 3118, 3119, 3121, 3122, 3123, 3124, 3125, 3126, 3127, 3128, 3129, 3130, 3131, 3132, 3133, 3134, 3135, 3136, 3137, 3138, 3139, 3140, 3141, 3142, 3143, 3144, 3145, 3146, 3147, 3148, 3149, 3150, 3151, 3152, 3153, 3154, 3155, 3156, 3157, 3158, 3159, 3160, 3161, 3162, 3163, 3164, 3165, 3166, 3167, 3168, 3169, 3170, 3171, 3172, 3173, 3174, 3175, 3176, 3177, 3178, 3179, 3180, 3181, 3182, 3183, 3184, 3185, 3186, 3187, 3188, 3189, 3190, 3191, 3192, 3193, 3194, 3195, 3196, 3197, 3199, 3201, 3202, 3203, 3204, 3205, 3206, 3207, 3208, 3209, 3210, 3211, 3212, 3213, 3214, 3215, 3216, 3217, 3218, 3219, 3220, 3221, 3222, 3223, 3224, 3225, 3226, 3227, 3228, 3229, 3230, 3231, 3232, 3233, 3234, 3235, 3236, 3237, 3238, 3239, 3240, 3241, 3242, 3243, 3244, 3245, 3246, 3247, 3248, 3249, 3250, 3251, 3252, 3253, 3254, 3255, 3256, 3257, 3258, 3259, 3260, 3261, 3262, 3263, 3264, 3265, 3266, 3267, 3268, 3269, 3270, 3271, 3272, 3273, 3274, 3275, 3276, 3277, 3278, 3279, 3281, 3282, 3283, 3284, 3285, 3286, 3287, 3288, 3289, 3290, 3291, 3292, 3293, 3294, 3295, 3296, 3297, 3298, 3299, 3300, 3301, 3302, 3303, 3304, 3305, 3306, 3307, 3308, 3309, 3310, 3311, 3312, 3313, 3314, 3315, 3316, 3317, 3318, 3319, 3320, 3321, 3322, 3323, 3324, 3325, 3326, 3327, 3328, 3329, 3330, 3331, 3332, 3333, 3334, 3335, 3336, 3337, 3338, 3339, 3340, 3341, 3342, 3343, 3344, 3345, 3346, 3347, 3348, 3349, 3350, 3351, 3352, 3353, 3354, 3355, 3356, 3357, 3358, 3359, 3361, 3363, 3364, 3365, 3366, 3367, 3368, 3369, 3370, 3371, 3372, 3373, 3374, 3375, 3376, 3377, 3378, 3379, 3380, 3381, 3382, 3383, 3384, 3385, 3386, 3387, 3388, 3389, 3390, 3391, 3392, 3393, 3394, 3395, 3396, 3397, 3398, 3399, 3400, 3401, 3402, 3403, 3404, 3405, 3406, 3407, 3408, 3409, 3410, 3411, 3412, 3413, 3414, 3415, 3416, 3417, 3418, 3419, 3420, 3421, 3422, 3423, 3424, 3425, 3426, 3427, 3428, 3429, 3430, 3431, 3432, 3433, 3434, 3435, 3436, 3437, 3438, 3439, 3441, 3442, 3443, 3445, 3446, 3447, 3448, 3449, 3450, 3451, 3452, 3453, 3454, 3455, 3456, 3457, 3458, 3459, 3460, 3461, 3462, 3463, 3464, 3465, 3466, 3467, 3468, 3469, 3470, 3471, 3472, 3473, 3474, 3475, 3476, 3477, 3478, 3479, 3480, 3481, 3482, 3483, 3484, 3485, 3486, 3487, 3488, 3489, 3490, 3491, 3492, 3493, 3494, 3495, 3496, 3497, 3498, 3499, 3500, 3501, 3502, 3503, 3504, 3505, 3506, 3507, 3508, 3509, 3510, 3511, 3512, 3513, 3514, 3515, 3516, 3517, 3518, 3519, 3521, 3522, 3523, 3524, 3525, 3528, 3529, 3530, 3531, 3532, 3533, 3534, 3535, 3536, 3537, 3538, 3539, 3540, 3541, 3542, 3543, 3544, 3545, 3546, 3547, 3548, 3549, 3550, 3551, 3552, 3553, 3554, 3555, 3556, 3557, 3558, 3559, 3560, 3561, 3562, 3563, 3564, 3565, 3566, 3567, 3568, 3569, 3570, 3571, 3572, 3573, 3574, 3575, 3576, 3577, 3578, 3579, 3580, 3581, 3582, 3583, 3584, 3585, 3586, 3587, 3588, 3589, 3590, 3591, 3592, 3593, 3594, 3595, 3596, 3597, 3598, 3599, 3601, 3602, 3603, 3604, 3605, 3606, 3607, 3610, 3611, 3612, 3613, 3614, 3615, 3616, 3617, 3618, 3619, 3620, 3621, 3622, 3623, 3624, 3625, 3626, 3627, 3628, 3629, 3630, 3631, 3632, 3633, 3634, 3635, 3636, 3637, 3638, 3639, 3640, 3641, 3642, 3643, 3644, 3645, 3646, 3647, 3648, 3649, 3650, 3651, 3652, 3653, 3654, 3655, 3656, 3657, 3658, 3659, 3660, 3661, 3662, 3663, 3664, 3665, 3666, 3667, 3668, 3669, 3670, 3671, 3672, 3673, 3674, 3675, 3676, 3677, 3678, 3679, 3681, 3682, 3683, 3684, 3685, 3686, 3687, 3688, 3692, 3693, 3694, 3695, 3696, 3697, 3698, 3699, 3700, 3701, 3702, 3703, 3704, 3705, 3706, 3707, 3708, 3709, 3710, 3711, 3712, 3713, 3714, 3715, 3716, 3717, 3718, 3719, 3720, 3721, 3722, 3723, 3724, 3725, 3726, 3727, 3728, 3729, 3730, 3731, 3732, 3733, 3734, 3735, 3736, 3737, 3738, 3739, 3740, 3741, 3742, 3743, 3744, 3745, 3746, 3747, 3748, 3749, 3750, 3751, 3752, 3753, 3754, 3755, 3756, 3757, 3758, 3759, 3761, 3762, 3763, 3764, 3765, 3766, 3767, 3768, 3769, 3770, 3775, 3776, 3777, 3778, 3779, 3780, 3781, 3782, 3783, 3784, 3785, 3786, 3787, 3788, 3789, 3790, 3791, 3792, 3793, 3794, 3795, 3796, 3797, 3798, 3799, 3800, 3801, 3802, 3803, 3804, 3805, 3806, 3807, 3808, 3809, 3810, 3811, 3812, 3813, 3814, 3815, 3816, 3817, 3818, 3819, 3820, 3821, 3822, 3823, 3824, 3825, 3826, 3827, 3828, 3829, 3830, 3831, 3832, 3833, 3834, 3835, 3836, 3837, 3838, 3839, 3841, 3842, 3843, 3844, 3845, 3846, 3847, 3848, 3849, 3850, 3851, 3852, 3857, 3858, 3859, 3860, 3861, 3862, 3863, 3864, 3865, 3866, 3867, 3868, 3869, 3870, 3871, 3872, 3873, 3874, 3875, 3876, 3877, 3878, 3879, 3880, 3881, 3882, 3883, 3884, 3885, 3886, 3887, 3888, 3889, 3890, 3891, 3892, 3893, 3894, 3895, 3896, 3897, 3898, 3899, 3900, 3901, 3902, 3903, 3904, 3905, 3906, 3907, 3908, 3909, 3910, 3911, 3912, 3913, 3914, 3915, 3916, 3917, 3918, 3919, 3921, 3922, 3923, 3924, 3925, 3926, 3927, 3928, 3929, 3930, 3931, 3932, 3933, 3934, 3939, 3940, 3941, 3942, 3943, 3944, 3945, 3946, 3947, 3948, 3949, 3950, 3951, 3952, 3953, 3954, 3955, 3956, 3957, 3958, 3959, 3960, 3961, 3962, 3963, 3964, 3965, 3966, 3967, 3968, 3969, 3970, 3971, 3972, 3973, 3974, 3975, 3976, 3977, 3978, 3979, 3980, 3981, 3982, 3983, 3984, 3985, 3986, 3987, 3988, 3989, 3990, 3991, 3992, 3993, 3994, 3995, 3996, 3997, 3998, 3999, 4001, 4002, 4003, 4004, 4005, 4006, 4007, 4008, 4009, 4010, 4011, 4012, 4013, 4014, 4015, 4016, 4022, 4023, 4024, 4025, 4026, 4027, 4028, 4029, 4030, 4031, 4032, 4033, 4034, 4035, 4036, 4037, 4038, 4039, 4040, 4041, 4042, 4043, 4044, 4045, 4046, 4047, 4048, 4049, 4050, 4051, 4052, 4053, 4054, 4055, 4056, 4057, 4058, 4059, 4060, 4061, 4062, 4063, 4064, 4065, 4066, 4067, 4068, 4069, 4070, 4071, 4072, 4073, 4074, 4075, 4076, 4077, 4078, 4079, 4081, 4082, 4083, 4084, 4085, 4086, 4087, 4088, 4089, 4090, 4091, 4092, 4093, 4094, 4095, 4096, 4097, 4104, 4105, 4106, 4107, 4108, 4109, 4110, 4111, 4112, 4113, 4114, 4115, 4116, 4117, 4118, 4119, 4120, 4121, 4122, 4123, 4124, 4125, 4126, 4127, 4128, 4129, 4130, 4131, 4132, 4133, 4134, 4135, 4136, 4137, 4138, 4139, 4140, 4141, 4142, 4143, 4144, 4145, 4146, 4147, 4148, 4149, 4150, 4151, 4152, 4153, 4154, 4155, 4156, 4157, 4158, 4159, 4161, 4162, 4163, 4164, 4165, 4166, 4167, 4168, 4169, 4170, 4171, 4172, 4173, 4174, 4175, 4176, 4177, 4178, 4179, 4186, 4187, 4188, 4189, 4190, 4191, 4192, 4193, 4194, 4195, 4196, 4197, 4198, 4199, 4200, 4201, 4202, 4203, 4204, 4205, 4206, 4207, 4208, 4209, 4210, 4211, 4212, 4213, 4214, 4215, 4216, 4217, 4218, 4219, 4220, 4221, 4222, 4223, 4224, 4225, 4226, 4227, 4228, 4229, 4230, 4231, 4232, 4233, 4234, 4235, 4236, 4237, 4238, 4239, 4241, 4242, 4243, 4244, 4245, 4246, 4247, 4248, 4249, 4250, 4251, 4252, 4253, 4254, 4255, 4256, 4257, 4258, 4259, 4260, 4261, 4269, 4270, 4271, 4272, 4273, 4274, 4275, 4276, 4277, 4278, 4279, 4280, 4281, 4282, 4283, 4284, 4285, 4286, 4287, 4288, 4289, 4290, 4291, 4292, 4293, 4294, 4295, 4296, 4297, 4298, 4299, 4300, 4301, 4302, 4303, 4304, 4305, 4306, 4307, 4308, 4309, 4310, 4311, 4312, 4313, 4314, 4315, 4316, 4317, 4318, 4319, 4321, 4322, 4323, 4324, 4325, 4326, 4327, 4328, 4329, 4330, 4331, 4332, 4333, 4334, 4335, 4336, 4337, 4338, 4339, 4340, 4341, 4342, 4343, 4351, 4352, 4353, 4354, 4355, 4356, 4357, 4358, 4359, 4360, 4361, 4362, 4363, 4364, 4365, 4366, 4367, 4368, 4369, 4370, 4371, 4372, 4373, 4374, 4375, 4376, 4377, 4378, 4379, 4380, 4381, 4382, 4383, 4384, 4385, 4386, 4387, 4388, 4389, 4390, 4391, 4392, 4393, 4394, 4395, 4396, 4397, 4398, 4399, 4401, 4402, 4403, 4404, 4405, 4406, 4407, 4408, 4409, 4410, 4411, 4412, 4413, 4414, 4415, 4416, 4417, 4418, 4419, 4420, 4421, 4422, 4423, 4424, 4425, 4434, 4435, 4436, 4437, 4438, 4439, 4440, 4441, 4442, 4443, 4444, 4445, 4446, 4447, 4448, 4449, 4450, 4451, 4452, 4453, 4454, 4455, 4456, 4457, 4458, 4459, 4460, 4461, 4462, 4463, 4464, 4465, 4466, 4467, 4468, 4469, 4470, 4471, 4472, 4473, 4474, 4475, 4476, 4477, 4478, 4482, 4483, 4484, 4485, 4486, 4487, 4488, 4489, 4490, 4491, 4492, 4493, 4494, 4495, 4496, 4497, 4498, 4499, 4500, 4501, 4502, 4503, 4504, 4505, 4506, 4516, 4517, 4518, 4519, 4520, 4521, 4522, 4523, 4524, 4525, 4526, 4527, 4528, 4529, 4530, 4531, 4532, 4533, 4534, 4535, 4536, 4537, 4538, 4539, 4540, 4541, 4542, 4543, 4544, 4545, 4546, 4547, 4548, 4549, 4550, 4551, 4552, 4553, 4554, 4555, 4556, 4557, 4558, 4562, 4563, 4564, 4565, 4566, 4567, 4568, 4569, 4570, 4571, 4572, 4573, 4574, 4575, 4576, 4577, 4578, 4579, 4580, 4581, 4582, 4583, 4584, 4585, 4586, 4587, 4588, 4598, 4599, 4600, 4601, 4602, 4603, 4604, 4605, 4606, 4607, 4608, 4609, 4610, 4611, 4612, 4613, 4614, 4615, 4616, 4617, 4618, 4619, 4620, 4621, 4622, 4623, 4624, 4625, 4626, 4627, 4628, 4629, 4630, 4631, 4632, 4633, 4634, 4635, 4636, 4637, 4638, 4642, 4643, 4644, 4645, 4646, 4647, 4648, 4649, 4650, 4651, 4652, 4653, 4654, 4655, 4656, 4657, 4658, 4659, 4660, 4661, 4662, 4663, 4664, 4665, 4666, 4667, 4668, 4669, 4670, 4681, 4682, 4683, 4684, 4685, 4686, 4687, 4688, 4689, 4690, 4691, 4692, 4693, 4694, 4695, 4696, 4697, 4698, 4699, 4700, 4701, 4702, 4703, 4704, 4705, 4706, 4707, 4708, 4709, 4710, 4711, 4712, 4713, 4714, 4715, 4716, 4717, 4718, 4722, 4723, 4724, 4725, 4726, 4727, 4728, 4729, 4730, 4731, 4732, 4733, 4734, 4735, 4736, 4737, 4738, 4739, 4740, 4741, 4742, 4743, 4744, 4745, 4746, 4747, 4748, 4749, 4750, 4751, 4752, 4763, 4764, 4765, 4766, 4767, 4768, 4769, 4770, 4771, 4772, 4773, 4774, 4775, 4776, 4777, 4778, 4779, 4780, 4781, 4782, 4783, 4784, 4785, 4786, 4787, 4788, 4789, 4790, 4791, 4792, 4793, 4794, 4795, 4796, 4797, 4798, 4802, 4803, 4804, 4805, 4806, 4807, 4808, 4809, 4810, 4811, 4812, 4813, 4814, 4815, 4816, 4817, 4818, 4819, 4820, 4821, 4822, 4823, 4824, 4825, 4826, 4827, 4828, 4829, 4830, 4831, 4832, 4833, 4834, 4845, 4846, 4847, 4848, 4849, 4850, 4851, 4852, 4853, 4854, 4855, 4856, 4857, 4858, 4859, 4860, 4861, 4862, 4863, 4864, 4865, 4866, 4867, 4868, 4869, 4870, 4871, 4872, 4873, 4874, 4875, 4876, 4877, 4878, 4882, 4883, 4884, 4885, 4886, 4887, 4888, 4889, 4890, 4891, 4892, 4893, 4894, 4895, 4896, 4897, 4898, 4899, 4900, 4901, 4902, 4903, 4904, 4905, 4906, 4907, 4908, 4909, 4910, 4911, 4912, 4913, 4914, 4915, 4928, 4929, 4930, 4931, 4932, 4933, 4934, 4935, 4936, 4937, 4938, 4939, 4940, 4941, 4942, 4943, 4944, 4945, 4946, 4947, 4948, 4949, 4950, 4951, 4952, 4953, 4954, 4955, 4956, 4957, 4958, 4962, 4963, 4964, 4965, 4966, 4967, 4968, 4969, 4970, 4971, 4972, 4973, 4974, 4975, 4976, 4977, 4978, 4979, 4980, 4981, 4982, 4983, 4984, 4985, 4986, 4987, 4988, 4989, 4990, 4991, 4992, 4993, 4994, 4995, 4996, 4997, 5010, 5011, 5012, 5013, 5014, 5015, 5016, 5017, 5018, 5019, 5020, 5021, 5022, 5023, 5024, 5025, 5026, 5027, 5028, 5029, 5030, 5031, 5032, 5033, 5034, 5035, 5036, 5037, 5038, 5042, 5043, 5044, 5045, 5046, 5047, 5048, 5049, 5050, 5051, 5052, 5053, 5054, 5055, 5056, 5057, 5058, 5059, 5060, 5061, 5062, 5063, 5064, 5065, 5066, 5067, 5068, 5069, 5070, 5071, 5072, 5073, 5074, 5075, 5076, 5077, 5078, 5079, 5092, 5093, 5094, 5095, 5096, 5097, 5098, 5099, 5100, 5101, 5102, 5103, 5104, 5105, 5106, 5107, 5108, 5109, 5110, 5111, 5112, 5113, 5114, 5115, 5116, 5117, 5118, 5122, 5123, 5124, 5125, 5126, 5127, 5128, 5129, 5130, 5131, 5132, 5133, 5134, 5135, 5136, 5137, 5138, 5139, 5140, 5141, 5142, 5143, 5144, 5145, 5146, 5147, 5148, 5149, 5150, 5151, 5152, 5153, 5154, 5155, 5156, 5157, 5158, 5159, 5160, 5161, 5175, 5176, 5177, 5178, 5179, 5180, 5181, 5182, 5183, 5184, 5185, 5186, 5187, 5188, 5189, 5190, 5191, 5192, 5193, 5194, 5195, 5196, 5197, 5198, 5202, 5203, 5204, 5205, 5206, 5207, 5208, 5209, 5210, 5211, 5212, 5213, 5214, 5215, 5216, 5217, 5218, 5219, 5220, 5221, 5222, 5223, 5224, 5225, 5226, 5227, 5228, 5229, 5230, 5231, 5232, 5233, 5234, 5235, 5236, 5237, 5238, 5239, 5240, 5241, 5242, 5243, 5257, 5258, 5259, 5260, 5261, 5262, 5263, 5264, 5265, 5266, 5267, 5268, 5269, 5270, 5271, 5272, 5273, 5274, 5275, 5276, 5277, 5278, 5282, 5283, 5284, 5285, 5286, 5287, 5288, 5289, 5290, 5291, 5292, 5293, 5294, 5295, 5296, 5297, 5298, 5299, 5300, 5301, 5302, 5303, 5304, 5305, 5306, 5307, 5308, 5309, 5310, 5311, 5312, 5313, 5314, 5315, 5316, 5317, 5318, 5319, 5320, 5321, 5322, 5323, 5324, 5340, 5341, 5342, 5343, 5344, 5345, 5346, 5347, 5348, 5349, 5350, 5351, 5352, 5353, 5354, 5355, 5356, 5357, 5358, 5362, 5363, 5364, 5365, 5366, 5367, 5368, 5369, 5370, 5371, 5372, 5373, 5374, 5375, 5376, 5377, 5378, 5379, 5380, 5381, 5382, 5383, 5384, 5385, 5386, 5387, 5388, 5389, 5390, 5391, 5392, 5393, 5394, 5395, 5396, 5397, 5398, 5399, 5400, 5401, 5402, 5403, 5404, 5405, 5406, 5422, 5423, 5424, 5425, 5426, 5427, 5428, 5429, 5430, 5431, 5432, 5433, 5434, 5435, 5436, 5437, 5438, 5442, 5443, 5444, 5445, 5446, 5447, 5448, 5449, 5450, 5451, 5452, 5453, 5454, 5455, 5456, 5457, 5458, 5459, 5460, 5461, 5462, 5463, 5464, 5465, 5466, 5467, 5468, 5469, 5470, 5471, 5472, 5473, 5474, 5475, 5476, 5477, 5478, 5479, 5480, 5481, 5482, 5483, 5484, 5485, 5486, 5487, 5488, 5504, 5505, 5506, 5507, 5508, 5509, 5510, 5511, 5512, 5513, 5514, 5515, 5516, 5517, 5518, 5522, 5523, 5524, 5525, 5526, 5527, 5528, 5529, 5530, 5531, 5532, 5533, 5534, 5535, 5536, 5537, 5538, 5539, 5540, 5541, 5542, 5543, 5544, 5545, 5546, 5547, 5548, 5549, 5550, 5551, 5552, 5553, 5554, 5555, 5556, 5557, 5558, 5559, 5560, 5561, 5562, 5563, 5564, 5565, 5566, 5567, 5568, 5569, 5570, 5587, 5588, 5589, 5590, 5591, 5592, 5593, 5594, 5595, 5596, 5597, 5603, 5604, 5605, 5606, 5607, 5608, 5609, 5610, 5611, 5612, 5613, 5614, 5615, 5616, 5617, 5618, 5619, 5620, 5621, 5622, 5623, 5624, 5625, 5626, 5627, 5628, 5629, 5630, 5631, 5632, 5633, 5634, 5635, 5636, 5637, 5638, 5639, 5640, 5641, 5642, 5643, 5644, 5645, 5646, 5647, 5648, 5649, 5650, 5651, 5669, 5670, 5671, 5672, 5673, 5674, 5675, 5676, 5677, 5683, 5684, 5685, 5686, 5687, 5688, 5689, 5690, 5691, 5692, 5693, 5694, 5695, 5696, 5697, 5698, 5699, 5700, 5701, 5702, 5703, 5704, 5705, 5706, 5707, 5708, 5709, 5710, 5711, 5712, 5713, 5714, 5715, 5716, 5717, 5718, 5719, 5720, 5721, 5722, 5723, 5724, 5725, 5726, 5727, 5728, 5729, 5730, 5731, 5732, 5733, 5751, 5752, 5753, 5754, 5755, 5756, 5757, 5763, 5764, 5765, 5766, 5767, 5768, 5769, 5770, 5771, 5772, 5773, 5774, 5775, 5776, 5777, 5778, 5779, 5780, 5781, 5782, 5783, 5784, 5785, 5786, 5787, 5788, 5789, 5790, 5791, 5792, 5793, 5794, 5795, 5796, 5797, 5798, 5799, 5800, 5801, 5802, 5803, 5804, 5805, 5806, 5807, 5808, 5809, 5810, 5811, 5812, 5813, 5814, 5815, 5832, 5833, 5834, 5835, 5836, 5837, 5843, 5844, 5845, 5846, 5847, 5848, 5849, 5850, 5851, 5852, 5853, 5854, 5855, 5856, 5857, 5858, 5859, 5860, 5861, 5862, 5863, 5864, 5865, 5866, 5867, 5868, 5869, 5870, 5871, 5872, 5873, 5874, 5875, 5876, 5877, 5878, 5879, 5880, 5881, 5882, 5883, 5884, 5885, 5886, 5887, 5888, 5889, 5890, 5891, 5892, 5893, 5894, 5895, 5896, 5897, 5913, 5914, 5915, 5916, 5917, 5923, 5924, 5925, 5926, 5927, 5928, 5929, 5930, 5931, 5932, 5933, 5934, 5935, 5936, 5937, 5938, 5939, 5940, 5941, 5942, 5943, 5944, 5945, 5946, 5947, 5948, 5949, 5950, 5951, 5952, 5953, 5954, 5955, 5956, 5957, 5958, 5959, 5960, 5961, 5962, 5963, 5964, 5965, 5966, 5967, 5968, 5969, 5970, 5971, 5972, 5973, 5974, 5975, 5976, 5977, 5978, 5979, 5994, 5995, 5996, 5997, 6003, 6004, 6005, 6006, 6007, 6008, 6009, 6010, 6011, 6012, 6013, 6014, 6015, 6016, 6017, 6018, 6019, 6020, 6021, 6022, 6023, 6024, 6025, 6026, 6027, 6028, 6029, 6030, 6031, 6032, 6033, 6034, 6035, 6036, 6037, 6038, 6039, 6040, 6041, 6042, 6043, 6044, 6045, 6046, 6047, 6048, 6049, 6050, 6051, 6052, 6053, 6054, 6055, 6056, 6057, 6058, 6059, 6060, 6075, 6076, 6077, 6083, 6084, 6085, 6086, 6087, 6088, 6089, 6090, 6091, 6092, 6093, 6094, 6095, 6096, 6097, 6098, 6099, 6100, 6101, 6102, 6103, 6104, 6105, 6106, 6107, 6108, 6109, 6110, 6111, 6112, 6113, 6114, 6115, 6116, 6117, 6118, 6119, 6120, 6121, 6122, 6123, 6124, 6125, 6126, 6127, 6128, 6129, 6130, 6131, 6132, 6133, 6134, 6135, 6136, 6137, 6138, 6139, 6140, 6141, 6142, 6156, 6157, 6163, 6164, 6165, 6166, 6167, 6168, 6169, 6170, 6171, 6172, 6173, 6174, 6175, 6176, 6177, 6178, 6179, 6180, 6181, 6182, 6183, 6184, 6185, 6186, 6187, 6188, 6189, 6190, 6191, 6192, 6193, 6194, 6195, 6196, 6197, 6198, 6199, 6200, 6201, 6202, 6203, 6204, 6205, 6206, 6207, 6208, 6209, 6210, 6211, 6212, 6213, 6214, 6215, 6216, 6217, 6218, 6219, 6220, 6221, 6222, 6223, 6224, 6237, 6243, 6244, 6245, 6246, 6247, 6248, 6249, 6250, 6251, 6252, 6253, 6254, 6255, 6256, 6257, 6258, 6259, 6260, 6261, 6262, 6263, 6264, 6265, 6266, 6267, 6268, 6269, 6270, 6271, 6272, 6273, 6274, 6275, 6276, 6277, 6278, 6279, 6280, 6281, 6282, 6283, 6284, 6285, 6286, 6287, 6288, 6289, 6290, 6291, 6292, 6293, 6294, 6295, 6296, 6297, 6298, 6299, 6300, 6301, 6302, 6303, 6304, 6305, 6306, 6323, 6324, 6325, 6326, 6327, 6328, 6329, 6330, 6331, 6332, 6333, 6334, 6335, 6336, 6337, 6338, 6339, 6340, 6341, 6342, 6343, 6344, 6345, 6346, 6347, 6348, 6349, 6350, 6351, 6352, 6353, 6354, 6355, 6356, 6357, 6358, 6359, 6360, 6361, 6362, 6363, 6364, 6365, 6366, 6367, 6368, 6369, 6370, 6371, 6372, 6373, 6374, 6375, 6376, 6377, 6378, 6379, 6380, 6381, 6382, 6383, 6384, 6385, 6386, 6387, 6388, 6403, 6404, 6405, 6406, 6407, 6408, 6409, 6410, 6411, 6412, 6413, 6414, 6415, 6416, 6417, 6418, 6419, 6420, 6421, 6422, 6423, 6424, 6425, 6426, 6427, 6428, 6429, 6430, 6431, 6432, 6433, 6434, 6435, 6436, 6437, 6438, 6439, 6440, 6441, 6442, 6443, 6444, 6445, 6446, 6447, 6448, 6449, 6450, 6451, 6452, 6453, 6454, 6455, 6456, 6457, 6458, 6459, 6460, 6461, 6462, 6463, 6464, 6465, 6466, 6467, 6468, 6469, 6483, 6484, 6485, 6486, 6487, 6488, 6489, 6490, 6491, 6492, 6493, 6494, 6495, 6496, 6497, 6498, 6499, 6500, 6501, 6502, 6503, 6504, 6505, 6506, 6507, 6508, 6509, 6510, 6511, 6512, 6513, 6514, 6515, 6516, 6517, 6518, 6519, 6520, 6521, 6522, 6523, 6524, 6525, 6526, 6527, 6528, 6529, 6530, 6531, 6532, 6533, 6534, 6535, 6536, 6537, 6538, 6539, 6540, 6541, 6542, 6543, 6544, 6545, 6546, 6547, 6548, 6549, 6550, 6551]\n",
      "val ids:  []\n",
      "test ids:  [0, 1, 2, 3, 4, 5, 6, 7, 8, 78, 79, 80, 81, 82, 83, 84, 85, 86, 87, 88, 89, 90, 158, 159, 160, 161, 162, 163, 164, 165, 166, 167, 168, 169, 170, 171, 238, 239, 240, 241, 242, 243, 244, 245, 246, 247, 248, 249, 250, 251, 252, 253, 318, 319, 320, 321, 322, 324, 325, 326, 327, 328, 329, 330, 331, 332, 333, 334, 335, 398, 399, 400, 401, 402, 405, 406, 407, 408, 409, 410, 411, 412, 413, 414, 415, 416, 417, 478, 479, 480, 481, 482, 486, 487, 488, 489, 490, 491, 492, 493, 494, 495, 496, 497, 498, 499, 558, 559, 560, 561, 562, 567, 568, 569, 570, 571, 572, 573, 574, 575, 576, 577, 578, 579, 580, 638, 639, 640, 641, 642, 648, 649, 650, 651, 652, 653, 654, 655, 656, 657, 658, 659, 660, 661, 662, 718, 719, 720, 721, 722, 729, 730, 731, 732, 733, 734, 735, 736, 737, 738, 739, 740, 741, 742, 743, 744, 798, 799, 800, 801, 802, 810, 811, 812, 813, 814, 815, 816, 817, 818, 819, 820, 821, 822, 823, 824, 825, 826, 878, 879, 880, 881, 882, 892, 893, 894, 895, 896, 897, 898, 899, 900, 901, 902, 903, 904, 905, 906, 907, 908, 958, 959, 960, 961, 962, 974, 975, 976, 977, 978, 979, 980, 981, 982, 983, 984, 985, 986, 987, 988, 989, 1039, 1040, 1041, 1057, 1058, 1059, 1060, 1061, 1062, 1063, 1064, 1065, 1066, 1067, 1068, 1069, 1070, 1071, 1119, 1120, 1121, 1139, 1140, 1141, 1142, 1143, 1144, 1145, 1146, 1147, 1148, 1149, 1150, 1151, 1152, 1153, 1199, 1200, 1201, 1221, 1222, 1223, 1224, 1225, 1226, 1227, 1228, 1229, 1230, 1231, 1232, 1233, 1234, 1235, 1279, 1280, 1281, 1304, 1305, 1306, 1307, 1308, 1309, 1310, 1311, 1312, 1313, 1314, 1315, 1316, 1359, 1360, 1361, 1386, 1387, 1388, 1389, 1390, 1391, 1392, 1393, 1394, 1395, 1396, 1397, 1398, 1439, 1440, 1441, 1469, 1470, 1471, 1472, 1473, 1474, 1475, 1476, 1477, 1478, 1479, 1480, 1519, 1520, 1521, 1551, 1552, 1553, 1554, 1555, 1556, 1557, 1558, 1559, 1560, 1561, 1562, 1599, 1600, 1601, 1633, 1634, 1635, 1636, 1637, 1638, 1639, 1640, 1641, 1642, 1643, 1644, 1679, 1680, 1681, 1716, 1717, 1718, 1719, 1720, 1721, 1722, 1723, 1724, 1725, 1759, 1760, 1761, 1798, 1799, 1800, 1801, 1802, 1803, 1804, 1805, 1806, 1807, 1839, 1840, 1841, 1880, 1881, 1882, 1883, 1884, 1885, 1886, 1887, 1888, 1889, 1919, 1920, 1921, 1963, 1964, 1965, 1966, 1967, 1968, 1969, 1970, 1971, 1999, 2000, 2001, 2045, 2046, 2047, 2048, 2049, 2050, 2051, 2052, 2053, 2079, 2080, 2081, 2127, 2128, 2129, 2130, 2131, 2132, 2133, 2134, 2160, 2210, 2211, 2212, 2213, 2214, 2215, 2216, 2240, 2292, 2293, 2294, 2295, 2296, 2297, 2298, 2320, 2375, 2376, 2377, 2378, 2379, 2380, 2400, 2457, 2458, 2459, 2460, 2461, 2462, 2480, 2539, 2540, 2541, 2542, 2543, 2560, 2622, 2623, 2624, 2625, 2640, 2704, 2705, 2706, 2707, 2720, 2786, 2787, 2788, 2789, 2800, 2869, 2870, 2871, 2880, 2951, 2952, 2960, 3033, 3034, 3040, 3116, 3120, 3198, 3200, 3280, 3360, 3362, 3440, 3444, 3520, 3526, 3527, 3600, 3608, 3609, 3680, 3689, 3690, 3691, 3760, 3771, 3772, 3773, 3774, 3840, 3853, 3854, 3855, 3856, 3920, 3935, 3936, 3937, 3938, 4000, 4017, 4018, 4019, 4020, 4021, 4080, 4098, 4099, 4100, 4101, 4102, 4103, 4160, 4180, 4181, 4182, 4183, 4184, 4185, 4240, 4262, 4263, 4264, 4265, 4266, 4267, 4268, 4320, 4344, 4345, 4346, 4347, 4348, 4349, 4350, 4400, 4426, 4427, 4428, 4429, 4430, 4431, 4432, 4433, 4479, 4480, 4481, 4507, 4508, 4509, 4510, 4511, 4512, 4513, 4514, 4515, 4559, 4560, 4561, 4589, 4590, 4591, 4592, 4593, 4594, 4595, 4596, 4597, 4639, 4640, 4641, 4671, 4672, 4673, 4674, 4675, 4676, 4677, 4678, 4679, 4680, 4719, 4720, 4721, 4753, 4754, 4755, 4756, 4757, 4758, 4759, 4760, 4761, 4762, 4799, 4800, 4801, 4835, 4836, 4837, 4838, 4839, 4840, 4841, 4842, 4843, 4844, 4879, 4880, 4881, 4916, 4917, 4918, 4919, 4920, 4921, 4922, 4923, 4924, 4925, 4926, 4927, 4959, 4960, 4961, 4998, 4999, 5000, 5001, 5002, 5003, 5004, 5005, 5006, 5007, 5008, 5009, 5039, 5040, 5041, 5080, 5081, 5082, 5083, 5084, 5085, 5086, 5087, 5088, 5089, 5090, 5091, 5119, 5120, 5121, 5162, 5163, 5164, 5165, 5166, 5167, 5168, 5169, 5170, 5171, 5172, 5173, 5174, 5199, 5200, 5201, 5244, 5245, 5246, 5247, 5248, 5249, 5250, 5251, 5252, 5253, 5254, 5255, 5256, 5279, 5280, 5281, 5325, 5326, 5327, 5328, 5329, 5330, 5331, 5332, 5333, 5334, 5335, 5336, 5337, 5338, 5339, 5359, 5360, 5361, 5407, 5408, 5409, 5410, 5411, 5412, 5413, 5414, 5415, 5416, 5417, 5418, 5419, 5420, 5421, 5439, 5440, 5441, 5489, 5490, 5491, 5492, 5493, 5494, 5495, 5496, 5497, 5498, 5499, 5500, 5501, 5502, 5503, 5519, 5520, 5521, 5571, 5572, 5573, 5574, 5575, 5576, 5577, 5578, 5579, 5580, 5581, 5582, 5583, 5584, 5585, 5586, 5598, 5599, 5600, 5601, 5602, 5652, 5653, 5654, 5655, 5656, 5657, 5658, 5659, 5660, 5661, 5662, 5663, 5664, 5665, 5666, 5667, 5668, 5678, 5679, 5680, 5681, 5682, 5734, 5735, 5736, 5737, 5738, 5739, 5740, 5741, 5742, 5743, 5744, 5745, 5746, 5747, 5748, 5749, 5750, 5758, 5759, 5760, 5761, 5762, 5816, 5817, 5818, 5819, 5820, 5821, 5822, 5823, 5824, 5825, 5826, 5827, 5828, 5829, 5830, 5831, 5838, 5839, 5840, 5841, 5842, 5898, 5899, 5900, 5901, 5902, 5903, 5904, 5905, 5906, 5907, 5908, 5909, 5910, 5911, 5912, 5918, 5919, 5920, 5921, 5922, 5980, 5981, 5982, 5983, 5984, 5985, 5986, 5987, 5988, 5989, 5990, 5991, 5992, 5993, 5998, 5999, 6000, 6001, 6002, 6061, 6062, 6063, 6064, 6065, 6066, 6067, 6068, 6069, 6070, 6071, 6072, 6073, 6074, 6078, 6079, 6080, 6081, 6082, 6143, 6144, 6145, 6146, 6147, 6148, 6149, 6150, 6151, 6152, 6153, 6154, 6155, 6158, 6159, 6160, 6161, 6162, 6225, 6226, 6227, 6228, 6229, 6230, 6231, 6232, 6233, 6234, 6235, 6236, 6238, 6239, 6240, 6241, 6242, 6307, 6308, 6309, 6310, 6311, 6312, 6313, 6314, 6315, 6316, 6317, 6318, 6319, 6320, 6321, 6322, 6389, 6390, 6391, 6392, 6393, 6394, 6395, 6396, 6397, 6398, 6399, 6400, 6401, 6402, 6470, 6471, 6472, 6473, 6474, 6475, 6476, 6477, 6478, 6479, 6480, 6481, 6482, 6552, 6553, 6554, 6555, 6556, 6557, 6558, 6559, 6560]\n",
      "CPU times: user 160 ms, sys: 24 ms, total: 184 ms\n",
      "Wall time: 183 ms\n"
     ]
    }
   ],
   "source": [
    "%%time\n",
    "n_total = len(simulation.dataframe)\n",
    "n_train = len(simulation.dataframe[simulation.dataframe.type_of == \"train\"])\n",
    "n_val = len(simulation.dataframe[simulation.dataframe.type_of == \"val\"])\n",
    "n_test = len(simulation.dataframe[simulation.dataframe.type_of == \"test\"])\n",
    "n_train_hamiltonians = len(simulation.train_ids)\n",
    "n_val_hamiltonians = len(simulation.val_ids)\n",
    "n_test_hamiltonians = len(simulation.test_ids)\n",
    "n_total_hamiltonians = n_train_hamiltonians + n_val_hamiltonians + n_test_hamiltonians\n",
    "\n",
    "print(\"% train: \", n_train/n_total)\n",
    "print(\"% val: \",  n_val/n_total)\n",
    "print(\"% test: \", n_test/n_total)\n",
    "print(\"% train + val + test: \", (n_train+n_val+n_test)/n_total)\n",
    "print(\"\\n\")\n",
    "print(\"number of train hamiltonians: \", n_train_hamiltonians)\n",
    "print(\"number of val hamiltonians: \", n_val_hamiltonians)\n",
    "print(\"number of test hamiltonians: \", n_test_hamiltonians)\n",
    "print(\"total number of hamiltonians: \", n_total_hamiltonians)\n",
    "print(\"\\n\")\n",
    "print(\"train ids: \", simulation.train_ids)\n",
    "print(\"val ids: \", simulation.val_ids)\n",
    "print(\"test ids: \", simulation.test_ids)"
   ]
  },
  {
   "cell_type": "markdown",
   "metadata": {
    "papermill": {
     "duration": 0.017314,
     "end_time": "2020-07-09T17:19:13.429082",
     "exception": false,
     "start_time": "2020-07-09T17:19:13.411768",
     "status": "completed"
    },
    "tags": []
   },
   "source": [
    "## Running a simulation"
   ]
  },
  {
   "cell_type": "code",
   "execution_count": 23,
   "metadata": {
    "execution": {
     "iopub.execute_input": "2020-07-09T17:19:13.466337Z",
     "iopub.status.busy": "2020-07-09T17:19:13.466005Z",
     "iopub.status.idle": "2020-07-09T17:21:56.986442Z",
     "shell.execute_reply": "2020-07-09T17:21:56.986747Z"
    },
    "papermill": {
     "duration": 163.540109,
     "end_time": "2020-07-09T17:21:56.986810",
     "exception": false,
     "start_time": "2020-07-09T17:19:13.446701",
     "status": "completed"
    },
    "tags": []
   },
   "outputs": [
    {
     "name": "stderr",
     "output_type": "stream",
     "text": [
      "\r",
      "running experiments:   0%|          | 0/100 [00:00<?, ?it/s]"
     ]
    },
    {
     "name": "stderr",
     "output_type": "stream",
     "text": [
      "\r",
      "running experiments:   1%|          | 1/100 [00:01<02:41,  1.63s/it]"
     ]
    },
    {
     "name": "stderr",
     "output_type": "stream",
     "text": [
      "\r",
      "running experiments:   2%|▏         | 2/100 [00:03<02:39,  1.63s/it]"
     ]
    },
    {
     "name": "stderr",
     "output_type": "stream",
     "text": [
      "\r",
      "running experiments:   3%|▎         | 3/100 [00:04<02:36,  1.61s/it]"
     ]
    },
    {
     "name": "stderr",
     "output_type": "stream",
     "text": [
      "\r",
      "running experiments:   4%|▍         | 4/100 [00:06<02:33,  1.60s/it]"
     ]
    },
    {
     "name": "stderr",
     "output_type": "stream",
     "text": [
      "\r",
      "running experiments:   5%|▌         | 5/100 [00:08<02:32,  1.61s/it]"
     ]
    },
    {
     "name": "stderr",
     "output_type": "stream",
     "text": [
      "\r",
      "running experiments:   6%|▌         | 6/100 [00:09<02:31,  1.61s/it]"
     ]
    },
    {
     "name": "stderr",
     "output_type": "stream",
     "text": [
      "\r",
      "running experiments:   7%|▋         | 7/100 [00:11<02:29,  1.61s/it]"
     ]
    },
    {
     "name": "stderr",
     "output_type": "stream",
     "text": [
      "\r",
      "running experiments:   8%|▊         | 8/100 [00:12<02:28,  1.61s/it]"
     ]
    },
    {
     "name": "stderr",
     "output_type": "stream",
     "text": [
      "\r",
      "running experiments:   9%|▉         | 9/100 [00:14<02:26,  1.61s/it]"
     ]
    },
    {
     "name": "stderr",
     "output_type": "stream",
     "text": [
      "\r",
      "running experiments:  10%|█         | 10/100 [00:16<02:27,  1.63s/it]"
     ]
    },
    {
     "name": "stderr",
     "output_type": "stream",
     "text": [
      "\r",
      "running experiments:  11%|█         | 11/100 [00:17<02:25,  1.63s/it]"
     ]
    },
    {
     "name": "stderr",
     "output_type": "stream",
     "text": [
      "\r",
      "running experiments:  12%|█▏        | 12/100 [00:19<02:22,  1.62s/it]"
     ]
    },
    {
     "name": "stderr",
     "output_type": "stream",
     "text": [
      "\r",
      "running experiments:  13%|█▎        | 13/100 [00:20<02:20,  1.62s/it]"
     ]
    },
    {
     "name": "stderr",
     "output_type": "stream",
     "text": [
      "\r",
      "running experiments:  14%|█▍        | 14/100 [00:22<02:18,  1.61s/it]"
     ]
    },
    {
     "name": "stderr",
     "output_type": "stream",
     "text": [
      "\r",
      "running experiments:  15%|█▌        | 15/100 [00:24<02:16,  1.61s/it]"
     ]
    },
    {
     "name": "stderr",
     "output_type": "stream",
     "text": [
      "\r",
      "running experiments:  16%|█▌        | 16/100 [00:25<02:15,  1.62s/it]"
     ]
    },
    {
     "name": "stderr",
     "output_type": "stream",
     "text": [
      "\r",
      "running experiments:  17%|█▋        | 17/100 [00:27<02:15,  1.63s/it]"
     ]
    },
    {
     "name": "stderr",
     "output_type": "stream",
     "text": [
      "\r",
      "running experiments:  18%|█▊        | 18/100 [00:29<02:13,  1.63s/it]"
     ]
    },
    {
     "name": "stderr",
     "output_type": "stream",
     "text": [
      "\r",
      "running experiments:  19%|█▉        | 19/100 [00:30<02:12,  1.64s/it]"
     ]
    },
    {
     "name": "stderr",
     "output_type": "stream",
     "text": [
      "\r",
      "running experiments:  20%|██        | 20/100 [00:32<02:11,  1.64s/it]"
     ]
    },
    {
     "name": "stderr",
     "output_type": "stream",
     "text": [
      "\r",
      "running experiments:  21%|██        | 21/100 [00:34<02:09,  1.64s/it]"
     ]
    },
    {
     "name": "stderr",
     "output_type": "stream",
     "text": [
      "\r",
      "running experiments:  22%|██▏       | 22/100 [00:35<02:07,  1.63s/it]"
     ]
    },
    {
     "name": "stderr",
     "output_type": "stream",
     "text": [
      "\r",
      "running experiments:  23%|██▎       | 23/100 [00:37<02:05,  1.63s/it]"
     ]
    },
    {
     "name": "stderr",
     "output_type": "stream",
     "text": [
      "\r",
      "running experiments:  24%|██▍       | 24/100 [00:38<02:03,  1.63s/it]"
     ]
    },
    {
     "name": "stderr",
     "output_type": "stream",
     "text": [
      "\r",
      "running experiments:  25%|██▌       | 25/100 [00:40<02:02,  1.63s/it]"
     ]
    },
    {
     "name": "stderr",
     "output_type": "stream",
     "text": [
      "\r",
      "running experiments:  26%|██▌       | 26/100 [00:42<02:00,  1.62s/it]"
     ]
    },
    {
     "name": "stderr",
     "output_type": "stream",
     "text": [
      "\r",
      "running experiments:  27%|██▋       | 27/100 [00:43<01:57,  1.62s/it]"
     ]
    },
    {
     "name": "stderr",
     "output_type": "stream",
     "text": [
      "\r",
      "running experiments:  28%|██▊       | 28/100 [00:45<01:56,  1.61s/it]"
     ]
    },
    {
     "name": "stderr",
     "output_type": "stream",
     "text": [
      "\r",
      "running experiments:  29%|██▉       | 29/100 [00:47<01:55,  1.63s/it]"
     ]
    },
    {
     "name": "stderr",
     "output_type": "stream",
     "text": [
      "\r",
      "running experiments:  30%|███       | 30/100 [00:48<01:53,  1.62s/it]"
     ]
    },
    {
     "name": "stderr",
     "output_type": "stream",
     "text": [
      "\r",
      "running experiments:  31%|███       | 31/100 [00:50<01:51,  1.62s/it]"
     ]
    },
    {
     "name": "stderr",
     "output_type": "stream",
     "text": [
      "\r",
      "running experiments:  32%|███▏      | 32/100 [00:51<01:50,  1.63s/it]"
     ]
    },
    {
     "name": "stderr",
     "output_type": "stream",
     "text": [
      "\r",
      "running experiments:  33%|███▎      | 33/100 [00:53<01:47,  1.61s/it]"
     ]
    },
    {
     "name": "stderr",
     "output_type": "stream",
     "text": [
      "\r",
      "running experiments:  34%|███▍      | 34/100 [00:55<01:46,  1.61s/it]"
     ]
    },
    {
     "name": "stderr",
     "output_type": "stream",
     "text": [
      "\r",
      "running experiments:  35%|███▌      | 35/100 [00:56<01:44,  1.61s/it]"
     ]
    },
    {
     "name": "stderr",
     "output_type": "stream",
     "text": [
      "\r",
      "running experiments:  36%|███▌      | 36/100 [00:58<01:42,  1.60s/it]"
     ]
    },
    {
     "name": "stderr",
     "output_type": "stream",
     "text": [
      "\r",
      "running experiments:  37%|███▋      | 37/100 [00:59<01:41,  1.61s/it]"
     ]
    },
    {
     "name": "stderr",
     "output_type": "stream",
     "text": [
      "\r",
      "running experiments:  38%|███▊      | 38/100 [01:01<01:39,  1.61s/it]"
     ]
    },
    {
     "name": "stderr",
     "output_type": "stream",
     "text": [
      "\r",
      "running experiments:  39%|███▉      | 39/100 [01:03<01:38,  1.61s/it]"
     ]
    },
    {
     "name": "stderr",
     "output_type": "stream",
     "text": [
      "\r",
      "running experiments:  40%|████      | 40/100 [01:04<01:37,  1.63s/it]"
     ]
    },
    {
     "name": "stderr",
     "output_type": "stream",
     "text": [
      "\r",
      "running experiments:  41%|████      | 41/100 [01:06<01:35,  1.62s/it]"
     ]
    },
    {
     "name": "stderr",
     "output_type": "stream",
     "text": [
      "\r",
      "running experiments:  42%|████▏     | 42/100 [01:07<01:33,  1.61s/it]"
     ]
    },
    {
     "name": "stderr",
     "output_type": "stream",
     "text": [
      "\r",
      "running experiments:  43%|████▎     | 43/100 [01:09<01:31,  1.61s/it]"
     ]
    },
    {
     "name": "stderr",
     "output_type": "stream",
     "text": [
      "\r",
      "running experiments:  44%|████▍     | 44/100 [01:11<01:30,  1.61s/it]"
     ]
    },
    {
     "name": "stderr",
     "output_type": "stream",
     "text": [
      "\r",
      "running experiments:  45%|████▌     | 45/100 [01:12<01:29,  1.62s/it]"
     ]
    },
    {
     "name": "stderr",
     "output_type": "stream",
     "text": [
      "\r",
      "running experiments:  46%|████▌     | 46/100 [01:14<01:27,  1.62s/it]"
     ]
    },
    {
     "name": "stderr",
     "output_type": "stream",
     "text": [
      "\r",
      "running experiments:  47%|████▋     | 47/100 [01:16<01:25,  1.62s/it]"
     ]
    },
    {
     "name": "stderr",
     "output_type": "stream",
     "text": [
      "\r",
      "running experiments:  48%|████▊     | 48/100 [01:17<01:24,  1.63s/it]"
     ]
    },
    {
     "name": "stderr",
     "output_type": "stream",
     "text": [
      "\r",
      "running experiments:  49%|████▉     | 49/100 [01:19<01:23,  1.63s/it]"
     ]
    },
    {
     "name": "stderr",
     "output_type": "stream",
     "text": [
      "\r",
      "running experiments:  50%|█████     | 50/100 [01:20<01:21,  1.62s/it]"
     ]
    },
    {
     "name": "stderr",
     "output_type": "stream",
     "text": [
      "\r",
      "running experiments:  51%|█████     | 51/100 [01:22<01:19,  1.62s/it]"
     ]
    },
    {
     "name": "stderr",
     "output_type": "stream",
     "text": [
      "\r",
      "running experiments:  52%|█████▏    | 52/100 [01:24<01:17,  1.62s/it]"
     ]
    },
    {
     "name": "stderr",
     "output_type": "stream",
     "text": [
      "\r",
      "running experiments:  53%|█████▎    | 53/100 [01:25<01:15,  1.60s/it]"
     ]
    },
    {
     "name": "stderr",
     "output_type": "stream",
     "text": [
      "\r",
      "running experiments:  54%|█████▍    | 54/100 [01:27<01:13,  1.61s/it]"
     ]
    },
    {
     "name": "stderr",
     "output_type": "stream",
     "text": [
      "\r",
      "running experiments:  55%|█████▌    | 55/100 [01:28<01:12,  1.62s/it]"
     ]
    },
    {
     "name": "stderr",
     "output_type": "stream",
     "text": [
      "\r",
      "running experiments:  56%|█████▌    | 56/100 [01:30<01:11,  1.62s/it]"
     ]
    },
    {
     "name": "stderr",
     "output_type": "stream",
     "text": [
      "\r",
      "running experiments:  57%|█████▋    | 57/100 [01:32<01:09,  1.62s/it]"
     ]
    },
    {
     "name": "stderr",
     "output_type": "stream",
     "text": [
      "\r",
      "running experiments:  58%|█████▊    | 58/100 [01:33<01:07,  1.61s/it]"
     ]
    },
    {
     "name": "stderr",
     "output_type": "stream",
     "text": [
      "\r",
      "running experiments:  59%|█████▉    | 59/100 [01:35<01:06,  1.61s/it]"
     ]
    },
    {
     "name": "stderr",
     "output_type": "stream",
     "text": [
      "\r",
      "running experiments:  60%|██████    | 60/100 [01:37<01:04,  1.61s/it]"
     ]
    },
    {
     "name": "stderr",
     "output_type": "stream",
     "text": [
      "\r",
      "running experiments:  61%|██████    | 61/100 [01:38<01:03,  1.62s/it]"
     ]
    },
    {
     "name": "stderr",
     "output_type": "stream",
     "text": [
      "\r",
      "running experiments:  62%|██████▏   | 62/100 [01:40<01:01,  1.62s/it]"
     ]
    },
    {
     "name": "stderr",
     "output_type": "stream",
     "text": [
      "\r",
      "running experiments:  63%|██████▎   | 63/100 [01:41<00:59,  1.60s/it]"
     ]
    },
    {
     "name": "stderr",
     "output_type": "stream",
     "text": [
      "\r",
      "running experiments:  64%|██████▍   | 64/100 [01:43<00:57,  1.61s/it]"
     ]
    },
    {
     "name": "stderr",
     "output_type": "stream",
     "text": [
      "\r",
      "running experiments:  65%|██████▌   | 65/100 [01:45<00:56,  1.62s/it]"
     ]
    },
    {
     "name": "stderr",
     "output_type": "stream",
     "text": [
      "\r",
      "running experiments:  66%|██████▌   | 66/100 [01:46<00:55,  1.63s/it]"
     ]
    },
    {
     "name": "stderr",
     "output_type": "stream",
     "text": [
      "\r",
      "running experiments:  67%|██████▋   | 67/100 [01:48<00:53,  1.62s/it]"
     ]
    },
    {
     "name": "stderr",
     "output_type": "stream",
     "text": [
      "\r",
      "running experiments:  68%|██████▊   | 68/100 [01:50<00:52,  1.63s/it]"
     ]
    },
    {
     "name": "stderr",
     "output_type": "stream",
     "text": [
      "\r",
      "running experiments:  69%|██████▉   | 69/100 [01:51<00:50,  1.61s/it]"
     ]
    },
    {
     "name": "stderr",
     "output_type": "stream",
     "text": [
      "\r",
      "running experiments:  70%|███████   | 70/100 [01:53<00:47,  1.60s/it]"
     ]
    },
    {
     "name": "stderr",
     "output_type": "stream",
     "text": [
      "\r",
      "running experiments:  71%|███████   | 71/100 [01:54<00:46,  1.61s/it]"
     ]
    },
    {
     "name": "stderr",
     "output_type": "stream",
     "text": [
      "\r",
      "running experiments:  72%|███████▏  | 72/100 [01:56<00:45,  1.62s/it]"
     ]
    },
    {
     "name": "stderr",
     "output_type": "stream",
     "text": [
      "\r",
      "running experiments:  73%|███████▎  | 73/100 [01:58<00:43,  1.61s/it]"
     ]
    },
    {
     "name": "stderr",
     "output_type": "stream",
     "text": [
      "\r",
      "running experiments:  74%|███████▍  | 74/100 [01:59<00:41,  1.61s/it]"
     ]
    },
    {
     "name": "stderr",
     "output_type": "stream",
     "text": [
      "\r",
      "running experiments:  75%|███████▌  | 75/100 [02:01<00:40,  1.63s/it]"
     ]
    },
    {
     "name": "stderr",
     "output_type": "stream",
     "text": [
      "\r",
      "running experiments:  76%|███████▌  | 76/100 [02:03<00:40,  1.70s/it]"
     ]
    },
    {
     "name": "stderr",
     "output_type": "stream",
     "text": [
      "\r",
      "running experiments:  77%|███████▋  | 77/100 [02:05<00:41,  1.80s/it]"
     ]
    },
    {
     "name": "stderr",
     "output_type": "stream",
     "text": [
      "\r",
      "running experiments:  78%|███████▊  | 78/100 [02:07<00:40,  1.83s/it]"
     ]
    },
    {
     "name": "stderr",
     "output_type": "stream",
     "text": [
      "\r",
      "running experiments:  79%|███████▉  | 79/100 [02:09<00:39,  1.86s/it]"
     ]
    },
    {
     "name": "stderr",
     "output_type": "stream",
     "text": [
      "\r",
      "running experiments:  80%|████████  | 80/100 [02:11<00:37,  1.89s/it]"
     ]
    },
    {
     "name": "stderr",
     "output_type": "stream",
     "text": [
      "\r",
      "running experiments:  81%|████████  | 81/100 [02:12<00:35,  1.86s/it]"
     ]
    },
    {
     "name": "stderr",
     "output_type": "stream",
     "text": [
      "\r",
      "running experiments:  82%|████████▏ | 82/100 [02:14<00:32,  1.81s/it]"
     ]
    },
    {
     "name": "stderr",
     "output_type": "stream",
     "text": [
      "\r",
      "running experiments:  83%|████████▎ | 83/100 [02:16<00:29,  1.75s/it]"
     ]
    },
    {
     "name": "stderr",
     "output_type": "stream",
     "text": [
      "\r",
      "running experiments:  84%|████████▍ | 84/100 [02:17<00:27,  1.70s/it]"
     ]
    },
    {
     "name": "stderr",
     "output_type": "stream",
     "text": [
      "\r",
      "running experiments:  85%|████████▌ | 85/100 [02:19<00:25,  1.69s/it]"
     ]
    },
    {
     "name": "stderr",
     "output_type": "stream",
     "text": [
      "\r",
      "running experiments:  86%|████████▌ | 86/100 [02:20<00:23,  1.67s/it]"
     ]
    },
    {
     "name": "stderr",
     "output_type": "stream",
     "text": [
      "\r",
      "running experiments:  87%|████████▋ | 87/100 [02:22<00:21,  1.66s/it]"
     ]
    },
    {
     "name": "stderr",
     "output_type": "stream",
     "text": [
      "\r",
      "running experiments:  88%|████████▊ | 88/100 [02:24<00:19,  1.64s/it]"
     ]
    },
    {
     "name": "stderr",
     "output_type": "stream",
     "text": [
      "\r",
      "running experiments:  89%|████████▉ | 89/100 [02:25<00:17,  1.63s/it]"
     ]
    },
    {
     "name": "stderr",
     "output_type": "stream",
     "text": [
      "\r",
      "running experiments:  90%|█████████ | 90/100 [02:27<00:16,  1.61s/it]"
     ]
    },
    {
     "name": "stderr",
     "output_type": "stream",
     "text": [
      "\r",
      "running experiments:  91%|█████████ | 91/100 [02:28<00:14,  1.61s/it]"
     ]
    },
    {
     "name": "stderr",
     "output_type": "stream",
     "text": [
      "\r",
      "running experiments:  92%|█████████▏| 92/100 [02:30<00:12,  1.61s/it]"
     ]
    },
    {
     "name": "stderr",
     "output_type": "stream",
     "text": [
      "\r",
      "running experiments:  93%|█████████▎| 93/100 [02:32<00:11,  1.60s/it]"
     ]
    },
    {
     "name": "stderr",
     "output_type": "stream",
     "text": [
      "\r",
      "running experiments:  94%|█████████▍| 94/100 [02:33<00:09,  1.60s/it]"
     ]
    },
    {
     "name": "stderr",
     "output_type": "stream",
     "text": [
      "\r",
      "running experiments:  95%|█████████▌| 95/100 [02:35<00:07,  1.59s/it]"
     ]
    },
    {
     "name": "stderr",
     "output_type": "stream",
     "text": [
      "\r",
      "running experiments:  96%|█████████▌| 96/100 [02:37<00:06,  1.61s/it]"
     ]
    },
    {
     "name": "stderr",
     "output_type": "stream",
     "text": [
      "\r",
      "running experiments:  97%|█████████▋| 97/100 [02:38<00:04,  1.62s/it]"
     ]
    },
    {
     "name": "stderr",
     "output_type": "stream",
     "text": [
      "\r",
      "running experiments:  98%|█████████▊| 98/100 [02:40<00:03,  1.63s/it]"
     ]
    },
    {
     "name": "stderr",
     "output_type": "stream",
     "text": [
      "\r",
      "running experiments:  99%|█████████▉| 99/100 [02:41<00:01,  1.63s/it]"
     ]
    },
    {
     "name": "stderr",
     "output_type": "stream",
     "text": [
      "\r",
      "running experiments: 100%|██████████| 100/100 [02:43<00:00,  1.62s/it]"
     ]
    },
    {
     "name": "stderr",
     "output_type": "stream",
     "text": [
      "\r",
      "running experiments: 100%|██████████| 100/100 [02:43<00:00,  1.64s/it]"
     ]
    },
    {
     "name": "stdout",
     "output_type": "stream",
     "text": [
      "CPU times: user 2min 40s, sys: 2.71 s, total: 2min 43s\n",
      "Wall time: 2min 43s\n"
     ]
    },
    {
     "name": "stderr",
     "output_type": "stream",
     "text": [
      "\n"
     ]
    }
   ],
   "source": [
    "%%time\n",
    "simulation.run_simulation(n_experiments, start_n, fit_params,shuffle_rows, pred_params, random_features, \\\n",
    "                          store_in_lists, save_eigenvector, save_hamiltonian, save_accuracy,\\\n",
    "                          save_models)\n",
    "if simulation.fourier_mode is not None:\n",
    "    simulation.fourier_dataframe.head(10)"
   ]
  },
  {
   "cell_type": "code",
   "execution_count": 24,
   "metadata": {
    "execution": {
     "iopub.execute_input": "2020-07-09T17:21:57.057826Z",
     "iopub.status.busy": "2020-07-09T17:21:57.057492Z",
     "iopub.status.idle": "2020-07-09T17:21:57.082704Z",
     "shell.execute_reply": "2020-07-09T17:21:57.082385Z"
    },
    "papermill": {
     "duration": 0.061427,
     "end_time": "2020-07-09T17:21:57.082755",
     "exception": false,
     "start_time": "2020-07-09T17:21:57.021328",
     "status": "completed"
    },
    "tags": []
   },
   "outputs": [
    {
     "data": {
      "text/html": [
       "<div>\n",
       "<style scoped>\n",
       "    .dataframe tbody tr th:only-of-type {\n",
       "        vertical-align: middle;\n",
       "    }\n",
       "\n",
       "    .dataframe tbody tr th {\n",
       "        vertical-align: top;\n",
       "    }\n",
       "\n",
       "    .dataframe thead th {\n",
       "        text-align: right;\n",
       "    }\n",
       "</style>\n",
       "<table border=\"1\" class=\"dataframe\">\n",
       "  <thead>\n",
       "    <tr style=\"text-align: right;\">\n",
       "      <th></th>\n",
       "      <th>id</th>\n",
       "      <th>path</th>\n",
       "      <th>t1</th>\n",
       "      <th>t2</th>\n",
       "      <th>winding</th>\n",
       "      <th>phase</th>\n",
       "      <th>pred_phase</th>\n",
       "      <th>type_of</th>\n",
       "      <th>feat0</th>\n",
       "      <th>feat1</th>\n",
       "      <th>...</th>\n",
       "      <th>feat90</th>\n",
       "      <th>feat91</th>\n",
       "      <th>feat92</th>\n",
       "      <th>feat93</th>\n",
       "      <th>feat94</th>\n",
       "      <th>feat95</th>\n",
       "      <th>feat96</th>\n",
       "      <th>feat97</th>\n",
       "      <th>feat98</th>\n",
       "      <th>feat99</th>\n",
       "    </tr>\n",
       "  </thead>\n",
       "  <tbody>\n",
       "    <tr>\n",
       "      <th>0</th>\n",
       "      <td>0</td>\n",
       "      <td>H_-2_-2_0.509296.dat</td>\n",
       "      <td>-2.0</td>\n",
       "      <td>-2.0</td>\n",
       "      <td>0.509296</td>\n",
       "      <td>999</td>\n",
       "      <td>0</td>\n",
       "      <td>test</td>\n",
       "      <td>0.100000</td>\n",
       "      <td>0.100000</td>\n",
       "      <td>...</td>\n",
       "      <td>0.100000</td>\n",
       "      <td>0.100000</td>\n",
       "      <td>0.100000</td>\n",
       "      <td>0.100000</td>\n",
       "      <td>0.100000</td>\n",
       "      <td>0.100000</td>\n",
       "      <td>0.100000</td>\n",
       "      <td>0.100000</td>\n",
       "      <td>0.100000</td>\n",
       "      <td>0.100000</td>\n",
       "    </tr>\n",
       "    <tr>\n",
       "      <th>1</th>\n",
       "      <td>0</td>\n",
       "      <td>H_-2_-2_0.509296.dat</td>\n",
       "      <td>-2.0</td>\n",
       "      <td>-2.0</td>\n",
       "      <td>0.509296</td>\n",
       "      <td>999</td>\n",
       "      <td>0</td>\n",
       "      <td>test</td>\n",
       "      <td>0.141421</td>\n",
       "      <td>0.141142</td>\n",
       "      <td>...</td>\n",
       "      <td>0.114412</td>\n",
       "      <td>0.108967</td>\n",
       "      <td>0.123928</td>\n",
       "      <td>0.119406</td>\n",
       "      <td>0.131490</td>\n",
       "      <td>0.127962</td>\n",
       "      <td>0.136978</td>\n",
       "      <td>0.134500</td>\n",
       "      <td>0.140306</td>\n",
       "      <td>0.138916</td>\n",
       "    </tr>\n",
       "    <tr>\n",
       "      <th>2</th>\n",
       "      <td>0</td>\n",
       "      <td>H_-2_-2_0.509296.dat</td>\n",
       "      <td>-2.0</td>\n",
       "      <td>-2.0</td>\n",
       "      <td>0.509296</td>\n",
       "      <td>999</td>\n",
       "      <td>1</td>\n",
       "      <td>test</td>\n",
       "      <td>0.141421</td>\n",
       "      <td>0.140306</td>\n",
       "      <td>...</td>\n",
       "      <td>0.043702</td>\n",
       "      <td>0.026500</td>\n",
       "      <td>0.075777</td>\n",
       "      <td>0.060214</td>\n",
       "      <td>0.103092</td>\n",
       "      <td>0.090145</td>\n",
       "      <td>0.123928</td>\n",
       "      <td>0.114412</td>\n",
       "      <td>0.136978</td>\n",
       "      <td>0.131490</td>\n",
       "    </tr>\n",
       "    <tr>\n",
       "      <th>3</th>\n",
       "      <td>0</td>\n",
       "      <td>H_-2_-2_0.509296.dat</td>\n",
       "      <td>-2.0</td>\n",
       "      <td>-2.0</td>\n",
       "      <td>0.509296</td>\n",
       "      <td>999</td>\n",
       "      <td>0</td>\n",
       "      <td>test</td>\n",
       "      <td>-0.100000</td>\n",
       "      <td>0.100000</td>\n",
       "      <td>...</td>\n",
       "      <td>-0.100000</td>\n",
       "      <td>0.100000</td>\n",
       "      <td>-0.100000</td>\n",
       "      <td>0.100000</td>\n",
       "      <td>-0.100000</td>\n",
       "      <td>0.100000</td>\n",
       "      <td>-0.100000</td>\n",
       "      <td>0.100000</td>\n",
       "      <td>-0.100000</td>\n",
       "      <td>0.100000</td>\n",
       "    </tr>\n",
       "    <tr>\n",
       "      <th>4</th>\n",
       "      <td>0</td>\n",
       "      <td>H_-2_-2_0.509296.dat</td>\n",
       "      <td>-2.0</td>\n",
       "      <td>-2.0</td>\n",
       "      <td>0.509296</td>\n",
       "      <td>999</td>\n",
       "      <td>1</td>\n",
       "      <td>test</td>\n",
       "      <td>0.000509</td>\n",
       "      <td>-0.008372</td>\n",
       "      <td>...</td>\n",
       "      <td>-0.082713</td>\n",
       "      <td>-0.089753</td>\n",
       "      <td>-0.067684</td>\n",
       "      <td>-0.075347</td>\n",
       "      <td>-0.051587</td>\n",
       "      <td>-0.059753</td>\n",
       "      <td>-0.034677</td>\n",
       "      <td>-0.043217</td>\n",
       "      <td>-0.017220</td>\n",
       "      <td>-0.026000</td>\n",
       "    </tr>\n",
       "    <tr>\n",
       "      <th>5</th>\n",
       "      <td>0</td>\n",
       "      <td>H_-2_-2_0.509296.dat</td>\n",
       "      <td>-2.0</td>\n",
       "      <td>-2.0</td>\n",
       "      <td>0.509296</td>\n",
       "      <td>999</td>\n",
       "      <td>0</td>\n",
       "      <td>test</td>\n",
       "      <td>0.001204</td>\n",
       "      <td>-0.016530</td>\n",
       "      <td>...</td>\n",
       "      <td>-0.134123</td>\n",
       "      <td>-0.138686</td>\n",
       "      <td>-0.118757</td>\n",
       "      <td>-0.127445</td>\n",
       "      <td>-0.095929</td>\n",
       "      <td>-0.108196</td>\n",
       "      <td>-0.067073</td>\n",
       "      <td>-0.082149</td>\n",
       "      <td>-0.034003</td>\n",
       "      <td>-0.050940</td>\n",
       "    </tr>\n",
       "    <tr>\n",
       "      <th>6</th>\n",
       "      <td>0</td>\n",
       "      <td>H_-2_-2_0.509296.dat</td>\n",
       "      <td>-2.0</td>\n",
       "      <td>-2.0</td>\n",
       "      <td>0.509296</td>\n",
       "      <td>999</td>\n",
       "      <td>0</td>\n",
       "      <td>test</td>\n",
       "      <td>-0.141421</td>\n",
       "      <td>-0.138980</td>\n",
       "      <td>...</td>\n",
       "      <td>0.043375</td>\n",
       "      <td>0.067830</td>\n",
       "      <td>-0.009222</td>\n",
       "      <td>0.017385</td>\n",
       "      <td>-0.060524</td>\n",
       "      <td>-0.035502</td>\n",
       "      <td>-0.103326</td>\n",
       "      <td>-0.083403</td>\n",
       "      <td>-0.131616</td>\n",
       "      <td>-0.119589</td>\n",
       "    </tr>\n",
       "    <tr>\n",
       "      <th>7</th>\n",
       "      <td>0</td>\n",
       "      <td>H_-2_-2_0.509296.dat</td>\n",
       "      <td>-2.0</td>\n",
       "      <td>-2.0</td>\n",
       "      <td>0.509296</td>\n",
       "      <td>999</td>\n",
       "      <td>0</td>\n",
       "      <td>test</td>\n",
       "      <td>-0.000826</td>\n",
       "      <td>0.025688</td>\n",
       "      <td>...</td>\n",
       "      <td>0.134753</td>\n",
       "      <td>0.124324</td>\n",
       "      <td>0.141088</td>\n",
       "      <td>0.140407</td>\n",
       "      <td>0.127608</td>\n",
       "      <td>0.136771</td>\n",
       "      <td>0.096206</td>\n",
       "      <td>0.113925</td>\n",
       "      <td>0.051292</td>\n",
       "      <td>0.075079</td>\n",
       "    </tr>\n",
       "    <tr>\n",
       "      <th>8</th>\n",
       "      <td>0</td>\n",
       "      <td>H_-2_-2_0.509296.dat</td>\n",
       "      <td>-2.0</td>\n",
       "      <td>-2.0</td>\n",
       "      <td>0.509296</td>\n",
       "      <td>999</td>\n",
       "      <td>1</td>\n",
       "      <td>test</td>\n",
       "      <td>0.141417</td>\n",
       "      <td>0.136684</td>\n",
       "      <td>...</td>\n",
       "      <td>-0.115093</td>\n",
       "      <td>-0.131915</td>\n",
       "      <td>-0.061266</td>\n",
       "      <td>-0.091040</td>\n",
       "      <td>0.007717</td>\n",
       "      <td>-0.027643</td>\n",
       "      <td>0.074791</td>\n",
       "      <td>0.042592</td>\n",
       "      <td>0.123363</td>\n",
       "      <td>0.102291</td>\n",
       "    </tr>\n",
       "    <tr>\n",
       "      <th>9</th>\n",
       "      <td>0</td>\n",
       "      <td>H_-2_-2_0.509296.dat</td>\n",
       "      <td>-2.0</td>\n",
       "      <td>-2.0</td>\n",
       "      <td>0.509296</td>\n",
       "      <td>999</td>\n",
       "      <td>1</td>\n",
       "      <td>test</td>\n",
       "      <td>0.001302</td>\n",
       "      <td>0.036430</td>\n",
       "      <td>...</td>\n",
       "      <td>0.082068</td>\n",
       "      <td>0.050848</td>\n",
       "      <td>0.127402</td>\n",
       "      <td>0.108132</td>\n",
       "      <td>0.141218</td>\n",
       "      <td>0.138667</td>\n",
       "      <td>0.120099</td>\n",
       "      <td>0.134896</td>\n",
       "      <td>0.069268</td>\n",
       "      <td>0.097755</td>\n",
       "    </tr>\n",
       "  </tbody>\n",
       "</table>\n",
       "<p>10 rows × 108 columns</p>\n",
       "</div>"
      ],
      "text/plain": [
       "   id                  path   t1   t2   winding  phase  pred_phase type_of  \\\n",
       "0   0  H_-2_-2_0.509296.dat -2.0 -2.0  0.509296    999           0    test   \n",
       "1   0  H_-2_-2_0.509296.dat -2.0 -2.0  0.509296    999           0    test   \n",
       "2   0  H_-2_-2_0.509296.dat -2.0 -2.0  0.509296    999           1    test   \n",
       "3   0  H_-2_-2_0.509296.dat -2.0 -2.0  0.509296    999           0    test   \n",
       "4   0  H_-2_-2_0.509296.dat -2.0 -2.0  0.509296    999           1    test   \n",
       "5   0  H_-2_-2_0.509296.dat -2.0 -2.0  0.509296    999           0    test   \n",
       "6   0  H_-2_-2_0.509296.dat -2.0 -2.0  0.509296    999           0    test   \n",
       "7   0  H_-2_-2_0.509296.dat -2.0 -2.0  0.509296    999           0    test   \n",
       "8   0  H_-2_-2_0.509296.dat -2.0 -2.0  0.509296    999           1    test   \n",
       "9   0  H_-2_-2_0.509296.dat -2.0 -2.0  0.509296    999           1    test   \n",
       "\n",
       "      feat0     feat1  ...    feat90    feat91    feat92    feat93    feat94  \\\n",
       "0  0.100000  0.100000  ...  0.100000  0.100000  0.100000  0.100000  0.100000   \n",
       "1  0.141421  0.141142  ...  0.114412  0.108967  0.123928  0.119406  0.131490   \n",
       "2  0.141421  0.140306  ...  0.043702  0.026500  0.075777  0.060214  0.103092   \n",
       "3 -0.100000  0.100000  ... -0.100000  0.100000 -0.100000  0.100000 -0.100000   \n",
       "4  0.000509 -0.008372  ... -0.082713 -0.089753 -0.067684 -0.075347 -0.051587   \n",
       "5  0.001204 -0.016530  ... -0.134123 -0.138686 -0.118757 -0.127445 -0.095929   \n",
       "6 -0.141421 -0.138980  ...  0.043375  0.067830 -0.009222  0.017385 -0.060524   \n",
       "7 -0.000826  0.025688  ...  0.134753  0.124324  0.141088  0.140407  0.127608   \n",
       "8  0.141417  0.136684  ... -0.115093 -0.131915 -0.061266 -0.091040  0.007717   \n",
       "9  0.001302  0.036430  ...  0.082068  0.050848  0.127402  0.108132  0.141218   \n",
       "\n",
       "     feat95    feat96    feat97    feat98    feat99  \n",
       "0  0.100000  0.100000  0.100000  0.100000  0.100000  \n",
       "1  0.127962  0.136978  0.134500  0.140306  0.138916  \n",
       "2  0.090145  0.123928  0.114412  0.136978  0.131490  \n",
       "3  0.100000 -0.100000  0.100000 -0.100000  0.100000  \n",
       "4 -0.059753 -0.034677 -0.043217 -0.017220 -0.026000  \n",
       "5 -0.108196 -0.067073 -0.082149 -0.034003 -0.050940  \n",
       "6 -0.035502 -0.103326 -0.083403 -0.131616 -0.119589  \n",
       "7  0.136771  0.096206  0.113925  0.051292  0.075079  \n",
       "8 -0.027643  0.074791  0.042592  0.123363  0.102291  \n",
       "9  0.138667  0.120099  0.134896  0.069268  0.097755  \n",
       "\n",
       "[10 rows x 108 columns]"
      ]
     },
     "execution_count": 24,
     "metadata": {},
     "output_type": "execute_result"
    }
   ],
   "source": [
    "simulation.dataframe.head(10)"
   ]
  },
  {
   "cell_type": "markdown",
   "metadata": {
    "papermill": {
     "duration": 0.033995,
     "end_time": "2020-07-09T17:21:57.150971",
     "exception": false,
     "start_time": "2020-07-09T17:21:57.116976",
     "status": "completed"
    },
    "tags": []
   },
   "source": [
    "#### Viewing a random sample"
   ]
  },
  {
   "cell_type": "code",
   "execution_count": 25,
   "metadata": {
    "execution": {
     "iopub.execute_input": "2020-07-09T17:21:57.223040Z",
     "iopub.status.busy": "2020-07-09T17:21:57.222695Z",
     "iopub.status.idle": "2020-07-09T17:21:57.233658Z",
     "shell.execute_reply": "2020-07-09T17:21:57.233962Z"
    },
    "papermill": {
     "duration": 0.048171,
     "end_time": "2020-07-09T17:21:57.234027",
     "exception": false,
     "start_time": "2020-07-09T17:21:57.185856",
     "status": "completed"
    },
    "tags": []
   },
   "outputs": [
    {
     "name": "stdout",
     "output_type": "stream",
     "text": [
      "CPU times: user 3 µs, sys: 0 ns, total: 3 µs\n",
      "Wall time: 4.05 µs\n"
     ]
    }
   ],
   "source": [
    "%%time\n",
    "if simulation.fourier_mode is not None:\n",
    "    simulation.fourier_dataframe.sample(frac=0.1, replace=False)"
   ]
  },
  {
   "cell_type": "markdown",
   "metadata": {
    "papermill": {
     "duration": 0.036106,
     "end_time": "2020-07-09T17:21:57.304438",
     "exception": false,
     "start_time": "2020-07-09T17:21:57.268332",
     "status": "completed"
    },
    "tags": []
   },
   "source": [
    "#### Checking train/val/test splits again"
   ]
  },
  {
   "cell_type": "code",
   "execution_count": 26,
   "metadata": {
    "execution": {
     "iopub.execute_input": "2020-07-09T17:21:57.378992Z",
     "iopub.status.busy": "2020-07-09T17:21:57.378635Z",
     "iopub.status.idle": "2020-07-09T17:21:57.561162Z",
     "shell.execute_reply": "2020-07-09T17:21:57.560831Z"
    },
    "papermill": {
     "duration": 0.219969,
     "end_time": "2020-07-09T17:21:57.561216",
     "exception": false,
     "start_time": "2020-07-09T17:21:57.341247",
     "status": "completed"
    },
    "tags": []
   },
   "outputs": [
    {
     "name": "stdout",
     "output_type": "stream",
     "text": [
      "% train:  0.08474317939338516\n",
      "% val:  0.7620789513793629\n",
      "% test:  0.15317786922725193\n",
      "% train + val + test:  1.0\n",
      "\n",
      "\n",
      "number of train hamiltonians:  556\n",
      "number of val hamiltonians:  5000\n",
      "number of test hamiltonians:  1005\n",
      "total number of hamiltonians:  6561\n",
      "\n",
      "\n",
      "train ids:  [1942, 3630, 3768, 4502, 6543, 467, 5396, 828, 4034, 2083, 9, 872, 190, 3320, 3559, 4402, 6189, 4976, 5214, 5954, 4831, 1659, 6263, 3015, 952, 3974, 2732, 133, 6428, 5306, 2478, 202, 4825, 6325, 5349, 6009, 4809, 934, 3084, 2114, 26, 5623, 2594, 255, 2913, 3924, 5625, 2884, 3207, 3940, 939, 3149, 5049, 5869, 5704, 3023, 184, 4032, 1735, 6512, 4370, 2442, 2368, 1750, 1515, 5134, 4204, 1543, 3892, 2569, 6059, 3720, 6194, 4995, 2938, 5347, 1510, 3645, 6370, 3201, 1676, 5028, 1180, 263, 4178, 6253, 395, 6013, 3209, 3665, 3889, 3706, 3231, 3278, 1250, 6422, 875, 6462, 1872, 5046, 3993, 2857, 3153, 349, 5791, 4744, 6284, 2190, 3789, 5382, 5595, 3445, 4660, 286, 2746, 465, 5769, 3607, 1351, 3635, 3542, 3830, 4468, 3458, 1099, 3595, 3042, 4351, 6111, 3883, 1726, 2489, 3585, 27, 2234, 1358, 2669, 4519, 1431, 2782, 2452, 6033, 1891, 2848, 3236, 3810, 6265, 973, 4904, 3162, 5319, 5926, 2958, 5638, 2742, 4769, 2834, 916, 1174, 1291, 6114, 5185, 3344, 1900, 4704, 3529, 2911, 3552, 5687, 4389, 4157, 3494, 276, 2888, 3543, 4061, 5363, 5535, 554, 1997, 2186, 1364, 1318, 2661, 5835, 4649, 5613, 1078, 4538, 5547, 34, 5934, 3737, 2610, 4339, 1858, 5115, 4498, 3107, 2407, 3644, 6004, 4585, 4395, 4580, 5863, 4342, 4715, 1182, 2423, 2701, 38, 2076, 3499, 3796, 4932, 4935, 134, 2124, 2138, 6302, 295, 4188, 2228, 2519, 5939, 2277, 2717, 2498, 5263, 1608, 1156, 996, 2900, 1982, 533, 3011, 6468, 3504, 4406, 24, 3302, 4622, 5155, 1851, 5189, 3666, 1447, 303, 1647, 1731, 461, 6190, 233, 703, 206, 5505, 6298, 1517, 5072, 4394, 1670, 2179, 375, 2956, 1765, 5696, 503, 6487, 1623, 5101, 5884, 11, 210, 2530, 5725, 1421, 3508, 1347, 2825, 1436, 3788, 4951, 6326, 3117, 598, 117, 5807, 2101, 2430, 4690, 4650, 6366, 610, 1375, 221, 4872, 1416, 6360, 4877, 1596, 2821, 2570, 6416, 5064, 4321, 5855, 1918, 1106, 3138, 3246, 4046, 2474, 4689, 4707, 2909, 6087, 2126, 5452, 780, 6028, 4937, 3812, 2538, 5370, 4610, 1809, 2835, 2384, 6285, 4085, 1450, 3223, 459, 3682, 5478, 3863, 600, 5475, 2282, 5693, 2690, 3369, 3247, 2057, 873, 2612, 3950, 1010, 3307, 3090, 5138, 2171, 5593, 1861, 1095, 1045, 1792, 2417, 5206, 1610, 176, 3222, 1986, 2954, 746, 1509, 2772, 3219, 5030, 1770, 4074, 5482, 6293, 2959, 5472, 421, 2261, 71, 4830, 5862, 2456, 2422, 2056, 4052, 6106, 1354, 2279, 667, 3258, 3981, 4911, 2842, 4283, 1910, 5890, 3146, 2109, 3752, 204, 6027, 3281, 3395, 1694, 5129, 3292, 5271, 540, 1376, 2436, 502, 3551, 2966, 3818, 5792, 3476, 5651, 3396, 3079, 347, 2759, 3290, 5305, 1115, 2856, 4870, 2725, 64, 56, 4505, 2031, 3646, 860, 198, 2196, 4011, 6244, 1576, 3946, 5951, 592, 1124, 2303, 301, 3347, 914, 1603, 4392, 1269, 620, 1960, 2307, 3560, 694, 3550, 2241, 1677, 1025, 2388, 5948, 5269, 1899, 186, 4895, 4233, 1597, 701, 1931, 2362, 5273, 1856, 146, 5217, 528, 4883, 75, 2328, 3271, 2680, 6116, 3125, 2737, 1497, 1401, 4401, 2024, 2831, 2601, 2983, 2119, 3492, 5670, 1220, 5345, 3202, 629, 138, 763, 5318, 1812, 1685, 462, 5195, 1621, 1917, 1897, 357, 1669, 4399, 6260, 6485, 1430, 4010, 3996, 3582, 5730, 5852, 5293, 4004, 4126, 1738, 1171, 3417, 3285, 95, 3503, 2315, 762, 3965, 3342, 4849, 4364, 2147, 2975, 5509, 259, 3337, 1547, 790, 2087, 3727, 1741, 4822, 6095, 1195, 2389, 5562, 6300, 2714, 5298, 4857, 5018, 1034, 2769, 4682, 1111]\n",
      "val ids:  [4260, 4706, 4338, 1277, 4308, 1444, 356, 4058, 3288, 5552, 4065, 1925, 2317, 1168, 4110, 927, 1606, 2513, 4171, 4166, 2522, 1732, 3254, 2162, 6549, 3719, 1829, 2526, 1714, 3140, 1527, 3470, 4215, 2575, 5972, 5778, 2373, 5388, 5242, 5297, 5157, 4261, 2724, 4063, 370, 4517, 3836, 4138, 4408, 1427, 2381, 2657, 2394, 2385, 3460, 3143, 3186, 5569, 4850, 345, 2383, 5865, 3130, 1788, 5786, 4169, 2925, 2621, 1656, 1992, 3102, 2611, 4329, 2061, 1276, 1088, 4952, 805, 2955, 307, 4636, 2227, 6342, 3581, 844, 2220, 5444, 1253, 1031, 2964, 4798, 6362, 5872, 1243, 2662, 4497, 2603, 2366, 3026, 4568, 2218, 1797, 5205, 5631, 5469, 2122, 3184, 92, 2862, 314, 361, 5202, 1922, 3183, 2805, 185, 1217, 6252, 2818, 4232, 5775, 5685, 1432, 4912, 3723, 617, 5767, 157, 3194, 4670, 1628, 1185, 3702, 4115, 2193, 1092, 3556, 296, 114, 3701, 2089, 2161, 586, 3518, 5789, 5808, 6363, 3632, 2390, 5812, 1385, 381, 426, 4865, 5722, 4097, 680, 3266, 633, 4306, 1604, 5795, 382, 5278, 1170, 2321, 4533, 5230, 3420, 2059, 1712, 1935, 1658, 5358, 3309, 5304, 2919, 1333, 2019, 5612, 129, 4766, 66, 2599, 3214, 2991, 5928, 5715, 4855, 3532, 217, 2097, 6535, 3176, 2204, 4238, 6282, 4375, 3947, 4748, 1054, 5390, 6493, 1303, 2863, 5857, 1055, 4460, 5436, 5950, 5702, 3813, 1511, 1218, 1116, 4607, 5885, 5690, 5234, 1165, 597, 3851, 2580, 4567, 2103, 3738, 2334, 1408, 5914, 323, 709, 5811, 297, 5152, 1774, 5565, 1189, 5846, 2020, 3049, 3284, 2567, 5341, 3063, 4093, 4438, 4635, 5311, 3626, 39, 5105, 3408, 4050, 6431, 3442, 4777, 3005, 2288, 1410, 2561, 2902, 2702, 3668, 2914, 1989, 6410, 4314, 2868, 3394, 3637, 5724, 504, 265, 2359, 616, 3722, 523, 529, 5035, 4300, 514, 6098, 2592, 1412, 768, 1074, 3833, 3429, 1162, 3537, 4191, 3519, 3698, 760, 4796, 2841, 2235, 5874, 4535, 891, 5541, 4686, 5570, 2408, 1701, 5161, 3446, 1579, 1863, 3558, 22, 2728, 910, 6343, 1203, 6259, 5103, 2332, 4566, 2238, 3525, 207, 645, 1169, 3647, 2963, 1208, 3676, 2595, 355, 4425, 1857, 4285, 3777, 4851, 5125, 5733, 4068, 368, 2247, 5097, 4082, 5712, 2588, 3621, 6036, 4296, 5882, 3962, 5147, 5291, 3664, 3586, 621, 2208, 588, 2144, 2879, 4476, 924, 2678, 2978, 4194, 4614, 2778, 2917, 5617, 2142, 2693, 4328, 5716, 1424, 5377, 5429, 367, 2853, 2932, 6187, 5607, 2875, 1109, 1237, 2343, 466, 6032, 2780, 5240, 5366, 1026, 6010, 5402, 1837, 863, 6195, 4382, 723, 626, 5142, 679, 5393, 4656, 954, 1344, 864, 2698, 1035, 2333, 1650, 6053, 2486, 6034, 1784, 2170, 5450, 2931, 5108, 668, 4397, 6167, 728, 758, 5776, 3187, 6524, 5542, 3602, 343, 1076, 453, 4537, 2392, 4991, 2549, 1331, 695, 1901, 1937, 5076, 688, 2434, 3728, 2711, 5512, 5112, 4797, 4252, 5473, 2878, 5971, 6213, 143, 5208, 2758, 3352, 2699, 5806, 4454, 1254, 2192, 1789, 3229, 4443, 853, 4275, 5110, 1987, 2676, 1506, 6141, 5941, 5717, 2855, 201, 120, 5997, 534, 797, 4112, 2252, 3181, 2935, 3124, 5526, 6110, 5238, 6427, 4583, 6255, 223, 4274, 917, 5194, 3004, 62, 2206, 3749, 3295, 5321, 3482, 154, 178, 5556, 3916, 1085, 4236, 3071, 2281, 3262, 1729, 672, 2688, 404, 2990, 1112, 2647, 6459, 4089, 555, 2827, 1775, 1983, 5286, 5317, 1598, 3467, 5611, 6466, 2274, 5316, 5892, 1044, 6168, 2504, 6184, 2062, 1096, 2617, 1591, 5485, 4599, 3421, 4216, 3384, 4859, 3435, 456, 5936, 4970, 3136, 4634, 669, 2988, 4783, 5403, 5124, 2341, 4526, 3166, 1974, 5858, 3443, 2439, 4167, 1550, 386, 6495, 1486, 4814, 708, 1048, 4788, 3966, 3038, 6430, 229, 6021, 6334, 1875, 4420, 3941, 285, 1365, 3767, 5514, 764, 352, 277, 306, 545, 3451, 2158, 3104, 2345, 3779, 2740, 3787, 5694, 5772, 2844, 1202, 3717, 3323, 3076, 5847, 3656, 6054, 4447, 3961, 1159, 4239, 4081, 5264, 2642, 3547, 1949, 1649, 6335, 1629, 4524, 6356, 4601, 5355, 4411, 5266, 1136, 3634, 1941, 2151, 5032, 5130, 1167, 1782, 2477, 298, 859, 5889, 5974, 5432, 5875, 2687, 6254, 4781, 4711, 3131, 4902, 5216, 4440, 4492, 3539, 4700, 5648, 1400, 1368, 2839, 1206, 4975, 1696, 1673, 4552, 3091, 5642, 5067, 609, 125, 5506, 5781, 5959, 2438, 3815, 1939, 5118, 3424, 3448, 3327, 342, 2639, 964, 3286, 1703, 3829, 6196, 4623, 2852, 336, 1164, 3948, 1219, 3849, 4009, 3432, 2356, 1730, 1056, 6525, 2507, 5815, 63, 965, 3584, 942, 2116, 6215, 6200, 3762, 5523, 14, 2889, 187, 3931, 3848, 2781, 5235, 3341, 3604, 936, 5966, 2934, 3486, 3677, 4064, 5212, 3469, 6352, 3132, 5637, 2084, 2761, 2393, 3013, 1516, 3861, 3997, 438, 3654, 943, 1537, 4853, 6411, 2628, 6177, 6006, 549, 6369, 93, 6113, 2937, 4862, 3828, 2802, 1586, 647, 3407, 6437, 5888, 5073, 4558, 1746, 3075, 4746, 3692, 5463, 2326, 2441, 5802, 4731, 3859, 5793, 2319, 603, 6500, 1584, 861, 1605, 5484, 5768, 3817, 5183, 2399, 4280, 2402, 3669, 1263, 2941, 6341, 2012, 476, 2427, 889, 4956, 931, 1763, 2197, 5371, 1534, 1415, 3613, 773, 4259, 2338, 2108, 2136, 5464, 3375, 1187, 5122, 1426, 4243, 4311, 4544, 2666, 5034, 4462, 4485, 3546, 272, 2547, 2753, 4137, 3315, 1975, 2364, 3963, 3778, 3596, 624, 4055, 2550, 2924, 3277, 6083, 299, 3097, 2253, 6515, 6542, 3008, 4277, 3793, 6209, 4421, 1692, 5924, 3906, 4642, 273, 5774, 1602, 2883, 6275, 2903, 429, 3055, 3234, 5343, 4692, 4445, 1425, 795, 3816, 5175, 2187, 1796, 2440, 3017, 3614, 5878, 5837, 5141, 3031, 269, 6014, 1211, 3080, 3869, 4547, 2518, 3597, 5956, 3545, 4297, 4457, 3388, 3944, 5229, 5232, 1972, 2574, 3633, 2510, 1420, 6268, 994, 4196, 5544, 3333, 2734, 2075, 2972, 1589, 589, 257, 957, 4084, 4534, 3801, 1496, 4727, 3528, 5970, 2774, 2074, 5025, 1614, 4310, 885, 2744, 2313, 6123, 6499, 1690, 2335, 2584, 6382, 3270, 2660, 2139, 1446, 3300, 1340, 3971, 144, 2092, 1373, 2287, 3035, 1815, 4135, 2351, 2180, 827, 2565, 2798, 803, 2597, 4302, 3769, 1493, 968, 2945, 6442, 4118, 1682, 1382, 5887, 2443, 32, 4703, 5117, 3313, 3875, 5537, 1548, 5551, 4776, 4201, 5159, 6364, 5546, 1372, 2464, 4144, 3368, 3850, 6540, 1573, 1467, 1094, 5353, 3531, 2014, 3696, 5671, 2004, 4724, 3334, 2058, 4013, 1011, 2017, 6386, 4062, 180, 109, 3942, 2525, 3888, 51, 526, 6289, 4124, 437, 4245, 3970, 1755, 3782, 4441, 1198, 6408, 1080, 6494, 3659, 6198, 3784, 4226, 553, 3087, 5292, 4654, 2444, 2953, 4079, 2299, 4807, 100, 3780, 2425, 6361, 2977, 3215, 1257, 1777, 1957, 5538, 582, 4878, 6440, 5996, 3220, 4257, 4897, 1367, 1590, 293, 5608, 2684, 3707, 2757, 5043, 1852, 5455, 587, 6170, 4532, 2997, 3500, 2650, 666, 4820, 473, 2775, 1027, 6163, 949, 543, 3754, 4209, 1618, 6503, 4523, 1783, 3243, 4293, 5456, 2604, 2167, 3700, 849, 1131, 4648, 5530, 1160, 2157, 5721, 6134, 2470, 6109, 806, 302, 2722, 3257, 441, 509, 6130, 1114, 4078, 6349, 2745, 4294, 2607, 4212, 4953, 4290, 3197, 1326, 6011, 3663, 3655, 1371, 4143, 2618, 5798, 2472, 4156, 787, 2445, 6272, 4446, 5589, 1819, 4943, 1008, 767, 3019, 2940, 5231, 4847, 3929, 4374, 3896, 3355, 1193, 4629, 2090, 3447, 5395, 3751, 5630, 3785, 2531, 5400, 5303, 4047, 224, 2002, 3349, 3419, 68, 3179, 2554, 4088, 4752, 2970, 2365, 5150, 1370, 4718, 3821, 3316, 2679, 3704, 6330, 712, 4202, 4693, 338, 3933, 3400, 4044, 2686, 1879, 3224, 5968, 5596, 5554, 5851, 1667, 47, 4899, 933, 2200, 2822, 3877, 4354, 2667, 3422, 1567, 344, 5354, 2431, 2506, 4070, 469, 5976, 5186, 3954, 6206, 1108, 2708, 4327, 1790, 6355, 5751, 3135, 4288, 1549, 1902, 2349, 3845, 1268, 3308, 3893, 4986, 4148, 2154, 6278, 1129, 4735, 1828, 4072, 1018, 944, 19, 4249, 271, 5385, 4573, 1950, 5894, 3862, 5805, 596, 6460, 3871, 3311, 2117, 3357, 3137, 212, 4971, 2502, 3056, 3831, 147, 4177, 1868, 4555, 756, 2713, 3786, 1877, 2916, 1032, 6305, 6304, 6199, 1194, 4944, 1976, 472, 4367, 1445, 1338, 6100, 2771, 2861, 280, 3193, 839, 5893, 2409, 714, 1435, 59, 2086, 5127, 275, 5483, 945, 6201, 4377, 2514, 4848, 2820, 4323, 1252, 911, 1811, 1768, 1772, 4974, 5532, 5074, 2322, 3571, 3070, 4343, 181, 2882, 5379, 2358, 1339, 1051, 422, 3487, 3007, 3710, 3253, 2865, 3325, 1904, 3885, 5265, 1212, 5620, 5438, 2432, 3502, 3959, 1270, 1049, 6133, 2971, 182, 1791, 2768, 2169, 1854, 137, 808, 3364, 750, 4605, 4452, 5766, 5386, 3563, 106, 4027, 1363, 1749, 5069, 5369, 5322, 3976, 2415, 4966, 2225, 4742, 1181, 3730, 3903, 3381, 5113, 4729, 749, 615, 3196, 2847, 3898, 4381, 6096, 3163, 4907, 5314, 4651, 2398, 2182, 1352, 538, 5695, 5187, 124, 5522, 5949, 4773, 3807, 4821, 4161, 4553, 4652, 3651, 4219, 6029, 685, 4453, 449, 3562, 2811, 5848, 778, 2552, 1093, 1490, 6357, 6218, 3192, 1104, 4038, 5149, 1808, 1275, 1256, 5933, 4901, 3014, 5096, 556, 5029, 96, 2627, 3631, 5387, 5946, 854, 563, 5277, 940, 1302, 4076, 5465, 4529, 5967, 4764, 5915, 2638, 5683, 757, 510, 1485, 99, 3770, 339, 2716, 2327, 175, 5362, 5092, 2038, 3189, 3028, 3799, 4147, 4066, 2760, 5510, 189, 5804, 4489, 5965, 1267, 2929, 2497, 29, 4024, 3248, 436, 1077, 3064, 6077, 3402, 1301, 4962, 3022, 1916, 5111, 3291, 2670, 1787, 2683, 870, 5131, 2371, 1413, 5567, 2175, 4246, 594, 4990, 442, 4516, 2828, 148, 1006, 5259, 2021, 4077, 5116, 5054, 1102, 25, 3943, 6306, 5616, 419, 1377, 4493, 3523, 4304, 3657, 5468, 2244, 2168, 2153, 6404, 2654, 258, 463, 612, 512, 1100, 5504, 2346, 5849, 2681, 2082, 1953, 5731, 518, 232, 1260, 6417, 1708, 6137, 6383, 5508, 3590, 5843, 3068, 2414, 418, 2629, 5031, 1698, 1748, 446, 5044, 2779, 3985, 2003, 4503, 2257, 4128, 3988, 3318, 6102, 1125, 155, 3483, 2815, 2533, 268, 6249, 1702, 3925, 5548, 3758, 5677, 1737, 2316, 2286, 3660, 1844, 2563, 6359, 5098, 2600, 1753, 6434, 692, 925, 1072, 1501, 1021, 17, 2454, 3148, 6085, 1378, 5931, 5587, 6435, 5372, 1428, 3872, 2055, 5431, 4318, 4882, 1532, 6086, 1197, 608, 460, 5691, 2568, 4581, 992, 67, 98, 3046, 430, 5425, 3873, 1507, 4378, 792, 5310, 717, 2685, 369, 2887, 2207, 990, 687, 111, 1251, 31, 1241, 1850, 448, 4545, 4336, 5364, 4373, 6372, 6443, 5518, 2404, 1261, 4141, 4142, 2435, 6467, 3147, 6274, 4281, 3312, 3956, 1403, 4190, 5228, 4659, 2995, 5213, 6012, 468, 920, 3304, 4819, 3980, 833, 5060, 5916, 390, 311, 2437, 4104, 1328, 2598, 2524, 3021, 3310, 6191, 970, 846, 433, 2243, 3461, 3121, 4691, 1830, 670, 745, 3155, 1191, 6545, 877, 3387, 4563, 5784, 2256, 6247, 5486, 5684, 4633, 5257, 5606, 2843, 6511, 2025, 6055, 1780, 1442, 6204, 2755, 388, 3398, 4894, 921, 5010, 2581, 1612, 4723, 3322, 851, 4864, 1664, 4279, 3512, 4531, 6250, 188, 3001, 2391, 4299, 785, 755, 2923, 130, 3404, 4333, 4665, 1927, 3377, 1878, 840, 3256, 2649, 366, 857, 3653, 3051, 4628, 6052, 310, 3675, 5867, 690, 3516, 5854, 3473, 6539, 2433, 4815, 1977, 116, 2223, 3583, 6023, 5445, 5797, 1646, 2727, 5299, 1278, 3824, 1651, 5896, 5397, 5711, 4005, 2496, 3839, 2291, 1075, 2682, 294, 6510, 3683, 705, 6248, 126, 5179, 4696, 304, 5645, 1751, 2694, 3781, 2591, 1711, 928, 5603, 6203, 5676, 1947, 551, 4159, 6426, 1488, 3989, 4600, 530, 2646, 4412, 3020, 262, 142, 2630, 5929, 4730, 2689, 439, 94, 6169, 3617, 724, 5380, 1666, 4423, 4866, 1943, 3167, 5796, 2810, 5196, 3610, 30, 4491, 634, 4106, 2494, 3599, 1213, 4071, 4125, 6387, 3152, 1423, 1955, 5644, 389, 183, 113, 5017, 3272, 1697, 3085, 946, 3577, 6051, 2479, 3405, 5133, 1246, 1563, 1736, 5100, 3714, 5480, 5876, 713, 591, 3890, 2093, 5367, 2942, 926, 4362, 341, 664, 5763, 103, 2361, 4368, 5610, 6458, 937, 1466, 4119, 4331, 4906, 2710, 3478, 1778, 5433, 3346, 3329, 2898, 2487, 3574, 4979, 3926, 5969, 3982, 1000, 91, 5727, 4393, 6502, 2367, 2511, 2961, 2645, 1675, 1948, 33, 3745, 5860, 5524, 777, 2668, 3052, 1089, 1709, 1539, 1827, 1019, 1271, 1814, 3010, 5597, 3658, 6018, 4048, 6005, 4477, 309, 1961, 4369, 218, 3748, 1624, 1259, 3399, 107, 1894, 197, 4205, 3616, 5609, 557, 5209, 2166, 6026, 5392, 372, 6135, 3515, 4646, 46, 2748, 1296, 5803, 260, 1824, 6186, 2723, 222, 3477, 4980, 1825, 2071, 696, 4554, 2323, 1958, 5938, 3294, 434, 2255, 2814, 6174, 972, 4025, 1319, 6165, 2901, 378, 3086, 2777, 2656, 524, 2559, 6221, 4618, 5870, 2044, 4876, 2251, 3589, 2659, 5068, 4198, 6217, 3081, 173, 841, 1157, 5308, 3093, 4109, 542, 6025, 3764, 220, 1113, 1020, 5139, 3838, 2933, 675, 1284, 371, 868, 1528, 5323, 139, 4029, 1097, 1406, 2337, 3082, 607, 2302, 4890, 2700, 5203, 3002, 3264, 2259, 5726, 6451, 6039, 4255, 6449, 2495, 1513, 1380, 3126, 5070, 2577, 2242, 1630, 5383, 3964, 3709, 5591, 6299, 4224, 2532, 2907, 1295, 3370, 5703, 4557, 104, 3820, 2776, 2300, 2183, 6164, 2830, 308, 631, 1773, 4484, 1684, 2355, 1454, 1906, 4662, 4487, 4683, 6142, 5145, 6533, 3975, 3053, 3009, 1323, 5351, 2896, 4309, 105, 536, 4898, 2564, 511, 5853, 2697, 3459, 5516, 1842, 1028, 3191, 1687, 6112, 1907, 1465, 2416, 5487, 2634, 3886, 1287, 6017, 5834, 3639, 5405, 1583, 2920, 759, 6483, 3374, 4884, 1255, 35, 6337, 6519, 1083, 289, 5227, 1130, 1836, 1929, 1437, 1033, 3538, 1356, 6105, 4664, 2586, 932, 5629, 6281, 4303, 3123, 4361, 4176, 5374, 3372, 1179, 3385, 4888, 1297, 2188, 1329, 3455, 693, 4049, 1706, 3703, 2118, 2350, 2633, 2987, 4576, 3498, 3045, 4791, 2022, 3624, 628, 3576, 50, 2939, 6060, 1707, 3472, 1545, 1909, 2410, 5288, 636, 6527, 3983, 5394, 256, 205, 3867, 5753, 3901, 3765, 3331, 4578, 4795, 3088, 3036, 5457, 2696, 6003, 3569, 843, 6447, 4617, 2054, 5140, 1081, 1660, 2406, 2232, 3686, 2731, 3865, 3887, 1216, 5207, 4717, 4577, 4684, 1190, 4988, 450, 2739, 3688, 5148, 3565, 6516, 4482, 5026, 4067, 4885, 2449, 1126, 387, 4250, 73, 727, 3210, 6521, 2891, 1668, 70, 1565, 4270, 3506, 6212, 2738, 4942, 3919, 4587, 3145, 3096, 4663, 3466, 4789, 365, 5780, 391, 3564, 2926, 5752, 4543, 3297, 2583, 1298, 5272, 2773, 3366, 5646, 4075, 112, 1384, 6214, 6513, 3587, 3319, 2872, 643, 5957, 614, 2205, 424, 2107, 6251, 3112, 3298, 6491, 4997, 4501, 5536, 6119, 788, 2762, 425, 3750, 3032, 5481, 4030, 5020, 6409, 3740, 4095, 1009, 474, 1381, 2890, 4874, 3141, 1002, 3296, 4028, 6107, 2767, 2743, 5779, 6043, 348, 1578, 3792, 1581, 4569, 1166, 2426, 3491, 4207, 174, 4307, 1098, 3058, 4023, 1043, 3106, 796, 6237, 3474, 5844, 4805, 2201, 316, 5381, 2141, 1617, 1822, 2859, 3835, 858, 6488, 3373, 2483, 3921, 4751, 6453, 200, 5627, 2401, 3425, 3913, 6508, 3434, 4387, 2348, 6373, 1587, 4608, 5300, 6375, 6020, 20, 3095, 3050, 663, 4770, 5979, 5883, 6509, 1996, 374, 3684, 4867, 28, 1418, 2985, 6544, 3110, 2403, 5470, 1831, 3522, 2873, 5923, 3949, 281, 581, 531, 3902, 3359, 5324, 4542, 4165, 3509, 3969, 1491, 3226, 2016, 706, 6035, 3960, 1210, 3847, 830, 2675, 1946, 3317, 4985, 4858, 5588, 1609, 4035, 5650, 2996, 5016, 5391, 5077, 4548, 1037, 1693, 1407, 5960, 3978, 1030, 4495, 1870, 1915, 5099, 1913, 1123, 613, 5198, 6015, 1300, 6276, 5449, 4192, 2189, 3024, 3464, 3809, 2347, 1348, 809, 4616, 2482, 2750, 2908, 4269, 2140, 1504, 2396, 2028, 2747, 2653, 2808, 6188, 791, 2463, 4230, 3623, 457, 5800, 1483, 3912, 1652, 4933, 3354, 5927, 2500, 2069, 284, 2537, 4340, 2073, 2159, 3269, 2528, 2178, 6138, 6099, 4775, 2163, 5151, 6385, 5426, 4793, 2664, 1374, 5788, 3029, 2164, 593, 5624, 5050, 4123, 3173, 1463, 2467, 1821, 4385, 2493, 5312, 1873, 4039, 2636, 4107, 5375, 435, 6246, 3018, 4631, 4330, 3952, 5719, 228, 1005, 4606, 1871, 5027, 5013, 2289, 4332, 6377, 678, 3915, 6288, 793, 5720, 836, 2765, 5446, 2671, 1087, 646, 3923, 3932, 5071, 3228, 2254, 4372, 3603, 2729, 5267, 119, 955, 3907, 6380, 1912, 784, 2812, 3409, 4763, 1330, 4779, 1893, 4271, 5285, 4612, 6339, 6031, 2339, 748, 3027, 3282, 5158, 1607, 950, 4322, 5755, 5649, 2517, 5647, 4033, 3636, 1242, 3627, 5218, 4130, 771, 1691, 1645, 1240, 2121, 4604, 1293, 3230, 3044, 4644, 4003, 6346, 6047, 3694, 3725, 766, 6489, 3735, 541, 1205, 4472, 4292, 4434, 1176, 997, 3330, 6331, 2957, 601, 5275, 535, 2275, 4164, 6450, 110, 6340, 102, 2930, 2312, 3321, 234, 3276, 834, 61, 5048, 4546, 4415, 5698, 6365, 5765, 354, 1118, 4981, 1512, 1337, 1461, 2897, 2096, 4114, 2796, 4632, 5066, 5215, 3791, 546, 393, 2943, 3439, 4056, 6084, 4015, 4540, 4725, 3471, 4170, 3177, 1979, 710, 4094, 156, 506, 458, 3641, 702, 5560, 517, 6208, 3382, 4667, 317, 6178, 196, 6454, 383, 6050, 3062, 604, 151, 4694, 3736, 4041, 922, 141, 427, 1207, 1186, 3216, 2185, 5474, 2331, 676, 5284, 2614, 5406, 6403, 4002, 1535, 5356, 3134, 6286, 6041, 5225, 753, 4574, 4949, 5873, 1128, 2471, 1262, 4915, 2060, 683, 5836, 5461, 2546, 4873, 1419, 1489, 1569, 4365, 3979, 5102, 2199, 1327, 704, 264, 2918, 2219, 2881, 855, 2397, 3006, 6048, 1334, 3642, 4386, 3843, 1575, 5204, 1434, 5019, 2819, 6140, 3353, 6329, 3513, 2018, 4541, 5428, 2578, 13, 1161, 4324, 2516, 4235, 2609, 6323, 485, 2784, 1661, 1482, 403, 5688, 1582, 3356, 2095, 6042, 3570, 1710, 632, 4630, 5348, 58, 5561, 451, 6121, 5344, 5437, 4598, 6117, 2386, 3718, 135, 6351, 5078, 2993, 6465, 475, 5177, 1695, 2354, 6277, 5710, 770, 2673, 3510, 644, 2886, 6529, 3640, 2876, 3430, 118, 2523, 6219, 3611, 2967, 2011, 2113, 1529, 4637, 3428, 2492, 214, 1459, 935, 5467, 1572, 677, 2505, 1592, 4939, 837, 1523, 1762, 5925, 3911, 4258, 3612, 3652, 1451, 3350, 1626, 4658, 4699, 1292, 266, 5943, 995, 4811, 2906, 3158, 1399, 4478, 5962, 5052, 1524, 1154, 5643, 671, 4609, 452, 1183, 3987, 5442, 2260, 3139, 5268, 1362, 4014, 4978, 5037, 775, 3661, 2174, 4120, 2944, 203, 6296, 4316, 5557, 2005, 1862, 3245, 4218, 3955, 6283, 4938, 3351, 2962, 3555, 4214, 3273, 6185, 1266, 5260, 2845, 2233, 1283, 283, 5533, 4059, 6504, 1458, 1585, 5963, 6267, 2342, 3763, 4588, 4738, 2726, 6030, 4875, 6094, 6008, 1248, 4994, 2043, 48, 6270, 565, 471, 4253, 3992, 2809, 674, 4861, 1853, 4808, 1091, 5094, 3814, 2637, 2306, 6258, 219, 3449, 3338, 963, 2803, 3811, 2266, 4358, 3776, 6407, 2249, 3232, 4931, 3437, 1619, 5850, 2395, 1846, 2927, 2176, 2066, 2968, 3427, 4371, 1930, 1500, 3794, 6486, 3648, 682, 1536, 1926, 5550, 5184, 2838, 1405, 3144, 3803, 2864, 2428, 689, 5525, 5639, 4958, 5634, 1785, 2764, 838, 1084, 4200, 4570, 4695, 3069, 3414, 6353, 6444, 4584, 3753, 2885, 3870, 4810, 3279, 3397, 4522, 3798, 97, 2936, 3074, 2115, 3293, 2329, 4782, 4016, 5095, 2041, 507, 6183, 2973, 1980, 3622, 2770, 5978, 1903, 237, 6103, 765, 5079, 2195, 627, 5123, 1786, 420, 4146, 4298, 2015, 1944, 6280, 3884, 6173, 4145, 5106, 779, 1985, 267, 3392, 4845, 1258, 6090, 4490, 4458, 3695, 60, 288, 4977, 630, 3047, 4518, 1013, 3119, 1456, 2102, 2272, 4409, 5718, 3115, 55, 2424, 3594, 5340, 3860, 1892, 2813, 6522, 938, 2236, 4657, 2718, 681, 781, 2453, 1438, 1411, 5534, 4418, 287, 2555, 1379, 2998, 2620, 6461, 4549, 4900, 385, 4467, 835, 4111, 4237, 4620, 2226, 2094, 4466, 1911, 2572, 6224, 4743, 4965, 1990, 887, 3711, 1818, 2854, 1342, 1429, 2110, 3000, 2269, 848, 3016, 4963, 3175, 2099, 3671, 5558, 3260, 5813, 115, 4168, 5023, 3747, 2551, 2763, 2756, 1453, 4625, 5243, 350, 4151, 2181, 359, 6207, 5309, 606, 4053, 1816, 2007, 3795, 3251, 254, 599, 3567, 3986, 5592, 5614, 2098, 2314, 6287, 5447, 2741, 4792, 5104, 6222, 2503, 3973, 5443, 6303, 3939, 3233, 4234, 3557, 6496, 829, 3376, 4722, 5430, 440, 2336, 3157, 4187, 4189, 2184, 3239, 6175, 477, 3629, 6463, 5937, 1715, 305, 3995, 3561, 12, 1956, 2965, 5728, 5527, 4714, 2324, 5454, 76, 5564, 1214, 4437, 6120, 5192, 602, 4886, 1923, 5568, 520, 3741, 3060, 4818, 2736, 6016, 774, 2899, 6415, 4834, 4565, 3255, 3283, 2363, 1672, 4734, 2905, 5708, 4225, 886, 6438, 3588, 1766, 5176, 1896, 4140, 5459, 2602, 6088, 4732, 5700, 5061, 2100, 3118, 3670, 4701, 761, 2448, 5529, 3841, 3674, 3208, 5701, 1015, 5294, 807, 1648, 2850, 5975, 4767, 1984, 6266, 2221, 2091, 2224, 3746, 2177, 2278, 3917, 211, 1542, 3218, 1357, 4199, 4733, 4602, 6038, 1546, 2280, 5861, 4461, 4379, 6156, 3756, 6108, 3593, 3041, 4954, 45, 1699, 1993, 4969, 5787, 3479, 4197, 1443, 1740, 4291, 4833, 2063, 4006, 4993, 3827, 2421, 4127, 1299, 4817, 2283, 3790, 2566, 2301, 2264, 5632, 4108, 5107, 1848, 4945, 5713, 4551, 2817, 454, 6406, 428, 1192, 519, 4506, 4405, 1004, 5618, 2792, 3092, 312, 1733, 5022, 6202, 122, 3249, 2947, 4863, 2488, 3957, 3328, 2824, 726, 3761, 751, 1654, 1325, 5222, 6127, 5290, 2904, 956, 5136, 6384, 783, 4158, 2310, 2948, 5833, 1867, 1073, 2730, 4091, 6115, 6089, 2562, 1613, 3834, 1487, 4229, 866, 2120, 5895, 1090, 2816, 4928, 2571, 2982, 5635, 3620, 5063, 5940, 5511, 1933, 1282, 3103, 915, 3054, 3061, 6530, 6414, 5453, 6295, 2877, 6367, 3819, 3881, 3804, 3433, 2039, 1574, 2248, 6007, 804, 4317, 149, 697, 4668, 3453, 1998, 5241, 2613, 2013, 4090, 4221, 1272, 5764, 3619, 623, 6547, 2579, 3489, 3568, 2451, 3972, 3415, 4666, 1995, 2921, 4419, 315, 4946, 4575, 2352, 5114, 3380, 40, 4626, 2374, 847, 3101, 4750, 2104, 4435, 3897, 6097, 3170, 5871, 236, 501, 4661, 6256, 3105, 786, 747, 5856, 3687, 5859, 290, 2148, 3263, 4747, 3299, 637, 6262, 2194, 4366, 1332, 5051, 3072, 2754, 2405, 3065, 1622, 6257, 123, 2801, 292, 789, 2305, 1934, 4539, 1163, 3164, 2072, 3673, 6345, 5302, 1134, 5261, 2455, 3894, 2123, 4045, 862, 4376, 1135, 867, 2867, 6531, 4802, 3832, 1936, 3129, 2892, 4121, 3876, 941, 3685, 5135, 967, 3697, 1625, 1204, 966, 6452, 5181, 6126, 6046, 3554, 4083, 947, 969, 2648, 1355, 4500, 4315, 1178, 953, 6182, 2608, 3480, 3880, 4828, 5197, 3301, 1734, 794, 2992, 2752, 1239, 4527, 611, 1674, 4488, 3303, 455, 1940, 6104, 1810, 4624, 5224, 2027, 3945, 5757, 353, 4910, 4060, 2791, 6101, 4619, 1794, 6292, 5236, 4244, 3533, 1264, 4254, 3951, 2499, 1795, 2209, 3823, 3672, 618, 3289, 5093, 4122, 4556, 1460, 6498, 37, 1817, 4713, 1742, 1023, 6532, 4465, 2040, 74, 2860, 1184, 1951, 6374, 4087, 3705, 57, 145, 6290, 5342, 2420, 3628, 3326, 3113, 5953, 6505, 5955, 2173, 21, 1414, 4442, 1525, 3864, 3204, 2534, 1343, 6301, 4936, 2833, 4217, 4550, 754, 5615, 4326, 5160, 4155, 4934, 3389, 5373, 4390, 6136, 4726, 2353, 6245, 6118, 6358, 2034, 2794, 364, 2984, 4203, 2273, 6179, 5423, 4398, 5669, 1518, 1704, 516, 1402, 4105, 2719, 3918, 3227, 2036, 3211, 3606, 1866, 6446, 194, 3715, 1042, 5832, 6537, 1631, 6291, 3438, 209, 3199, 1769, 4728, 4012, 6128, 3732, 3759, 4891, 548, 5476, 4685, 3806, 4284, 6490, 5287, 3165, 4816, 373, 2946, 4132, 3544, 1564, 4889, 3878, 2979, 3462, 6441, 522, 1847, 2643, 2112, 3174, 752, 6124, 909, 3724, 2418, 5622, 72, 4504, 5673, 4449, 3457, 2284, 1728, 2230, 2922, 5014, 5880, 6139, 2085, 3693, 2340, 23, 2691, 6192, 4456, 6541, 5056, 49, 2535, 6332, 2042, 3475, 1945, 3235, 1954, 340, 6045, 4069, 3488, 4813, 2469, 6379, 3837, 1860, 1047, 684, 4785, 2912, 5109, 4129, 4521, 622, 2797, 3713, 226, 4363, 3190, 3524, 5021, 6091, 1404, 3237, 4655, 3168, 3514, 918, 2309, 2826, 6413, 1832, 444, 4697, 5399, 5144, 1053, 6546, 4026, 1932, 2271, 4709, 4337, 4305, 5563, 3575, 4210, 3573, 2573, 5640, 3968, 4499, 5143, 4179, 2006, 6376, 4042, 3037, 5790, 2665, 2143, 2308, 3450, 3077, 52, 1978, 2198, 4486, 2473, 4741, 4903, 3390, 5783, 3238, 4983, 3314, 1383, 1588, 2419, 5773, 999, 6538, 4579, 6205, 1869, 5191, 10, 5699, 6381, 2894, 5770, 1409, 3484, 2582, 291, 5477, 6210, 1865, 3413, 2735, 3412, 5233, 53, 3336, 1369, 4930, 1110, 4335, 2576, 5886, 1464, 2544, 4471, 4356, 3721, 3142, 699, 377, 3339, 5756, 4116, 1294, 5930, 1743, 3012, 3418, 3536, 1653, 3127, 4892, 3073, 4295, 6424, 5553, 3766, 4739, 3161, 1016, 1247, 831, 3250, 6371, 3540, 3287, 3431, 4464, 2465, 1657, 2986, 2078, 1449, 4384, 5958, 132, 1826, 6518, 948, 2840, 2606, 464, 3252, 619, 5350, 5897, 227, 3221, 3497, 1914, 547, 3879, 423, 3386, 4794, 3802, 3098, 991, 4040, 1580, 193, 4957, 6132, 4778, 4008, 1834, 890, 2515, 2413, 1173, 6536, 2721, 6354, 2026, 2135, 4948, 5137, 6243, 5313, 5262, 5062, 5128, 3361, 6497, 923, 282, 2799, 2590, 4073, 1514, 131, 4914, 2605, 4647, 4823, 5460, 1739, 4057, 1571, 5507, 2674, 4973, 3452, 6075, 2806, 3874, 1455, 5239, 4771, 4220, 6507, 3156, 6338, 2783, 3953, 3406, 3734, 3213, 6056, 2382, 1274, 1533, 971, 776, 4736, 4248, 4186, 3066, 4355, 4989, 2372, 3742, 698, 2156, 4774, 2703, 4117, 711, 6093, 4422, 5539, 5619, 5891, 4439, 2677, 3426, 15, 3275, 4193, 6551, 3089, 5448, 6076, 1366, 1117, 2165, 5961, 2804, 1322, 5057, 1843, 5289, 1890, 6528, 2246, 4996, 1484, 6517, 3365, 2749, 3212, 4941, 3150, 1973, 4869, 274, 4528, 2035, 2481, 1273, 5559, 1236, 532, 5686, 1541, 2137, 5675, 376, 5153, 1494, 6057, 2217, 5357, 4172, 5692, 6172, 3757, 929, 6425, 2895, 3468, 4984, 1158, 394, 3436, 5528, 5636, 1448, 5471, 5913, 4643, 2631, 3643, 1502, 3662, 3650, 4940, 5672, 3371, 2587, 1492, 1353, 4031, 1196, 6405, 3481, 3679, 4572, 2949, 5296, 3411, 1595, 4195, 4357, 2270, 6261, 6181, 2030, 4241, 2484, 4740, 140, 1705, 4276, 1038, 1540, 150, 537, 1508, 3914, 3999, 4562, 3601, 3048, 850, 5732, 4494, 2155, 3343, 3059, 3775, 4414, 2733, 566, 3383, 177, 2411, 2715, 3495, 4228, 1745, 4688, 1757, 3501, 5190, 3994, 4790, 3991, 379, 3507, 2626, 1499, 4702, 2475, 2325, 1764, 1689, 4913, 1538, 4520, 3108, 1457, 380, 1024, 5434, 3905, 5590, 5378, 4638, 527, 1341, 4627, 2751, 65, 1924, 6448, 3267, 5723, 3401, 1133, 4972, 4786, 5697, 44, 1172, 5513, 6125, 2655, 2823, 3755, 665, 346, 1845, 913, 769, 270, 2893, 5219, 484, 3454, 6550, 5952, 3244, 2466, 3517, 2172, 6129, 300, 3111, 6439, 1683, 4749, 1433, 1678, 5877, 6388, 5011, 4313, 6122, 5126, 1349, 3274, 2239, 1462, 360, 2111, 5947, 1249, 583, 5977, 3928, 5995, 5604, 2150, 4687, 5866, 4150, 3358, 4341, 1289, 3618, 3910, 2766, 3485, 4564, 6264, 2146, 1744, 3822, 4712, 4037, 5307, 5545, 4424, 2593, 3178, 5276, 4227, 5211, 5881, 3521, 4416, 673, 2152, 4278, 4131, 6423, 2203, 4716, 3852, 4496, 3681, 5782, 3729, 505, 4787, 445, 4256, 2267, 6092, 4136, 108, 3490, 54, 213, 3904, 2065, 3367, 4334, 4133, 1285, 5210, 1813, 1335, 1700, 2258, 5809, 3391, 1665, 42, 2088, 4824, 3099, 4043, 3909, 1988, 715, 447, 1611, 313, 4051, 5566, 2615, 2692, 1959, 5994, 2429, 5055, 4582, 1823, 4852, 5935, 2589, 2658, 564, 3114, 876, 5065, 2512, 5785, 3977, 2980, 2387, 1781, 1838, 2520, 2651, 208, 4036, 3744, 1833, 4772, 3100, 3598, 3858, 443, 1544, 544, 5154, 6294, 6024, 4455, 5036, 4909, 3891, 1505, 4982, 6333, 3094, 1713, 4780, 2231, 2370, 3240, 4475, 2476, 590, 2009, 4352, 1503, 6457, 3067, 4388, 3739, 4273, 4832, 4223, 5047, 4846, 865, 3340, 3566, 3808, 1530, 5058, 1864, 4154, 3151, 2037, 1265, 77, 4353, 5944, 4710, 2412, 5466, 4247, 3578, 5045, 191, 2029, 5621, 3122, 2149, 2529, 1244, 6223, 4708, 5633, 5427, 1994, 1122, 4325, 2846, 842, 2369, 869, 550, 231, 2304, 6049, 1874, 4905, 3530, 5689, 4968, 4417, 1663, 1962, 4812, 2866, 5398, 1422, 3857, 3553, 4360, 4174, 5605, 3678, 432, 2010, 5531, 2490, 4896, 4947, 5879, 3465, 36, 5814, 2836, 2068, 4175, 4391, 2858, 1779, 3731, 2070, 2545, 3416, 1752, 513, 3899, 6157, 4139, 6506, 3868, 4213, 3057, 5384, 6336, 2285, 1324, 3800, 4745, 521, 3171, 18, 5015, 4413, 397, 5917, 3990, 1655, 2105, 772, 4459, 3378, 1820, 3335, 3541, 1137, 6412, 2237, 1001, 3169, 6269, 4001, 4469, 5771, 3030, 2318, 1754, 279, 4407, 2793, 1105, 1138, 6445, 4611, 4054, 5594, 4173, 4860, 5628, 2548, 2981, 6418, 3882, 1014, 4206, 4162, 3998, 3708, 1568, 1662, 6429, 6432, 5674, 5352, 1952, 6019, 5422, 2202, 5714, 2695, 2485, 4448, 4737, 1495, 3348, 5258, 584, 1003, 41, 5220, 884, 2928, 3423, 5729, 3185, 998, 363, 1350, 2874, 3592, 951, 4868, 3726, 1321, 6273, 1577, 3393, 6526, 3403, 2491, 3825, 1107, 1103, 3615, 5182, 3930, 5555, 1017, 5707, 2447, 6484, 6347, 5801, 635, 5193, 2446, 3826, 3180, 1905, 4444, 4113, 3188, 5404, 2268, 3160, 3195, 2849, 2501, 4653, 4153, 4856, 3133, 4451, 4211, 5626, 5479, 1290, 3345, 2558, 6044, 1627, 6548, 3463, 5376, 3242, 5868, 1686, 2067, 3591, 5794, 2330, 3083, 5964, 4705, 4208, 121, 153, 4149, 3379, 3984, 3259, 6324, 3842, 199, 1188, 6492, 4301, 1727, 2585, 6523, 4536, 5810, 5132, 539, 1758, 1007, 2557, 4603, 5012, 195, 4586, 1346, 6378, 4645, 3493, 3579, 2663, 172, 1531, 4380, 3625, 1991, 3638, 1050, 2652, 5864, 1522, 6220, 3261, 384, 5799, 4987, 2245, 1895, 5146, 1876, 3605, 919, 6166, 2008, 4383, 5641, 1052, 525, 1029, 2619, 6328, 4964, 5942, 2672, 1593, 4829, 3927, 5845, 1177, 1046, 4871, 4929, 4804, 6419, 4312, 5517, 3846, 3159, 5178, 6216, 1771, 3456, 4474, 4887, 2790, 1767, 5389, 1898, 4669, 2360, 4152, 5024, 3535, 3548, 4806, 5301, 912, 1776, 5188, 5945, 5451, 483, 2509, 3306, 278, 1288, 127, 5221, 3511, 2023, 1132, 4893, 6344, 6197, 3332, 6514, 4826, 128, 6501, 3363, 3900, 1616, 508, 4163, 6176, 5180, 2915, 4470, 2994, 4483, 6433, 470, 5709, 515, 1452, 2969, 5540, 1481, 1908, 2468, 2837, 4450, 3109, 101, 1594, 4615, 2851, 1615, 3934, 3712, 3043, 3922, 261, 3743, 4022, 3128, 6193, 2556, 2033, 852, 3967, 4134, 4403, 6436, 5365, 691, 5295, 6211, 856, 6180, 2290, 883, 2644, 5282, 1238, 358, 4286, 179, 1127, 2311, 2795, 3844, 2344, 3078, 1175, 5401, 3305, 362, 5458, 4086, 3025, 192, 2974, 6368, 6297, 1079, 874, 4967, 4803, 4319, 2191, 4768, 1245, 5705, 6037, 5754, 1835, 4251, 4396, 5515, 4287, 392, 1570, 6348, 6022, 3505, 3805, 3733, 6350, 1336, 2616, 4289, 5042, 725, 3205, 5488, 431, 3572, 6520, 2641, 585, 871, 230, 1566, 1101, 6455, 4621, 4007, 4854, 6271, 69, 6469, 4784, 4359, 6279, 2712, 1632, 3908, 6058, 1747, 3699, 1155, 1086, 4096, 3154, 2521, 1345, 2989, 1012, 235, 5274, 5237, 5435, 6456, 4404, 605, 6464, 2635, 4765, 2125, 2229, 2222, 4950, 3580, 5543, 4463, 351, 152, 2785, 4525, 2527, 2508, 4410, 3797, 993, 3441, 930, 1468, 1209, 136, 686, 4908, 5368, 1082, 6131, 832, 2910, 396, 5223, 4272, 4681, 5059, 6420, 3217, 5226, 1938, 3534, 2250, 700, 4955, 2077, 716, 1620, 3039, 5346, 5075, 888, 5932, 2976, 2596, 1320, 2553, 4092, 2064, 1981, 4698, 1498, 4571, 2032, 5156, 3324, 1855, 5462, 6421, 337, 5270, 2536, 2999, 4282, 1756, 6171, 552, 3265, 1417, 5315, 3268, 4992, 5320, 3716, 43, 6534, 1793, 3241, 4231, 3003, 625, 1286, 16, 1215, 3783, 707, 5424, 1688, 4613, 4530, 2829, 2276, 5973, 3895, 1859, 4436, 595, 2632, 5777, 3496, 1671, 500, 2145, 3225, 4242, 2450, 2950, 216, 1849, 1022, 5053, 1928, 3866, 1317, 2263, 3958, 1526, 2265, 3649, 215, 3172, 3410, 5549, 5283, 5038, 3206, 2832, 6327, 4473, 3203, 2807, 4827, 1036, 6040, 3549, 225, 3182, 845, 2357, 2106, 5033, 4222, 782, 3667, 2262, 5706, 2709]\n",
      "test ids:  [0, 1, 2, 3, 4, 5, 6, 7, 8, 78, 79, 80, 81, 82, 83, 84, 85, 86, 87, 88, 89, 90, 158, 159, 160, 161, 162, 163, 164, 165, 166, 167, 168, 169, 170, 171, 238, 239, 240, 241, 242, 243, 244, 245, 246, 247, 248, 249, 250, 251, 252, 253, 318, 319, 320, 321, 322, 324, 325, 326, 327, 328, 329, 330, 331, 332, 333, 334, 335, 398, 399, 400, 401, 402, 405, 406, 407, 408, 409, 410, 411, 412, 413, 414, 415, 416, 417, 478, 479, 480, 481, 482, 486, 487, 488, 489, 490, 491, 492, 493, 494, 495, 496, 497, 498, 499, 558, 559, 560, 561, 562, 567, 568, 569, 570, 571, 572, 573, 574, 575, 576, 577, 578, 579, 580, 638, 639, 640, 641, 642, 648, 649, 650, 651, 652, 653, 654, 655, 656, 657, 658, 659, 660, 661, 662, 718, 719, 720, 721, 722, 729, 730, 731, 732, 733, 734, 735, 736, 737, 738, 739, 740, 741, 742, 743, 744, 798, 799, 800, 801, 802, 810, 811, 812, 813, 814, 815, 816, 817, 818, 819, 820, 821, 822, 823, 824, 825, 826, 878, 879, 880, 881, 882, 892, 893, 894, 895, 896, 897, 898, 899, 900, 901, 902, 903, 904, 905, 906, 907, 908, 958, 959, 960, 961, 962, 974, 975, 976, 977, 978, 979, 980, 981, 982, 983, 984, 985, 986, 987, 988, 989, 1039, 1040, 1041, 1057, 1058, 1059, 1060, 1061, 1062, 1063, 1064, 1065, 1066, 1067, 1068, 1069, 1070, 1071, 1119, 1120, 1121, 1139, 1140, 1141, 1142, 1143, 1144, 1145, 1146, 1147, 1148, 1149, 1150, 1151, 1152, 1153, 1199, 1200, 1201, 1221, 1222, 1223, 1224, 1225, 1226, 1227, 1228, 1229, 1230, 1231, 1232, 1233, 1234, 1235, 1279, 1280, 1281, 1304, 1305, 1306, 1307, 1308, 1309, 1310, 1311, 1312, 1313, 1314, 1315, 1316, 1359, 1360, 1361, 1386, 1387, 1388, 1389, 1390, 1391, 1392, 1393, 1394, 1395, 1396, 1397, 1398, 1439, 1440, 1441, 1469, 1470, 1471, 1472, 1473, 1474, 1475, 1476, 1477, 1478, 1479, 1480, 1519, 1520, 1521, 1551, 1552, 1553, 1554, 1555, 1556, 1557, 1558, 1559, 1560, 1561, 1562, 1599, 1600, 1601, 1633, 1634, 1635, 1636, 1637, 1638, 1639, 1640, 1641, 1642, 1643, 1644, 1679, 1680, 1681, 1716, 1717, 1718, 1719, 1720, 1721, 1722, 1723, 1724, 1725, 1759, 1760, 1761, 1798, 1799, 1800, 1801, 1802, 1803, 1804, 1805, 1806, 1807, 1839, 1840, 1841, 1880, 1881, 1882, 1883, 1884, 1885, 1886, 1887, 1888, 1889, 1919, 1920, 1921, 1963, 1964, 1965, 1966, 1967, 1968, 1969, 1970, 1971, 1999, 2000, 2001, 2045, 2046, 2047, 2048, 2049, 2050, 2051, 2052, 2053, 2079, 2080, 2081, 2127, 2128, 2129, 2130, 2131, 2132, 2133, 2134, 2160, 2210, 2211, 2212, 2213, 2214, 2215, 2216, 2240, 2292, 2293, 2294, 2295, 2296, 2297, 2298, 2320, 2375, 2376, 2377, 2378, 2379, 2380, 2400, 2457, 2458, 2459, 2460, 2461, 2462, 2480, 2539, 2540, 2541, 2542, 2543, 2560, 2622, 2623, 2624, 2625, 2640, 2704, 2705, 2706, 2707, 2720, 2786, 2787, 2788, 2789, 2800, 2869, 2870, 2871, 2880, 2951, 2952, 2960, 3033, 3034, 3040, 3116, 3120, 3198, 3200, 3280, 3360, 3362, 3440, 3444, 3520, 3526, 3527, 3600, 3608, 3609, 3680, 3689, 3690, 3691, 3760, 3771, 3772, 3773, 3774, 3840, 3853, 3854, 3855, 3856, 3920, 3935, 3936, 3937, 3938, 4000, 4017, 4018, 4019, 4020, 4021, 4080, 4098, 4099, 4100, 4101, 4102, 4103, 4160, 4180, 4181, 4182, 4183, 4184, 4185, 4240, 4262, 4263, 4264, 4265, 4266, 4267, 4268, 4320, 4344, 4345, 4346, 4347, 4348, 4349, 4350, 4400, 4426, 4427, 4428, 4429, 4430, 4431, 4432, 4433, 4479, 4480, 4481, 4507, 4508, 4509, 4510, 4511, 4512, 4513, 4514, 4515, 4559, 4560, 4561, 4589, 4590, 4591, 4592, 4593, 4594, 4595, 4596, 4597, 4639, 4640, 4641, 4671, 4672, 4673, 4674, 4675, 4676, 4677, 4678, 4679, 4680, 4719, 4720, 4721, 4753, 4754, 4755, 4756, 4757, 4758, 4759, 4760, 4761, 4762, 4799, 4800, 4801, 4835, 4836, 4837, 4838, 4839, 4840, 4841, 4842, 4843, 4844, 4879, 4880, 4881, 4916, 4917, 4918, 4919, 4920, 4921, 4922, 4923, 4924, 4925, 4926, 4927, 4959, 4960, 4961, 4998, 4999, 5000, 5001, 5002, 5003, 5004, 5005, 5006, 5007, 5008, 5009, 5039, 5040, 5041, 5080, 5081, 5082, 5083, 5084, 5085, 5086, 5087, 5088, 5089, 5090, 5091, 5119, 5120, 5121, 5162, 5163, 5164, 5165, 5166, 5167, 5168, 5169, 5170, 5171, 5172, 5173, 5174, 5199, 5200, 5201, 5244, 5245, 5246, 5247, 5248, 5249, 5250, 5251, 5252, 5253, 5254, 5255, 5256, 5279, 5280, 5281, 5325, 5326, 5327, 5328, 5329, 5330, 5331, 5332, 5333, 5334, 5335, 5336, 5337, 5338, 5339, 5359, 5360, 5361, 5407, 5408, 5409, 5410, 5411, 5412, 5413, 5414, 5415, 5416, 5417, 5418, 5419, 5420, 5421, 5439, 5440, 5441, 5489, 5490, 5491, 5492, 5493, 5494, 5495, 5496, 5497, 5498, 5499, 5500, 5501, 5502, 5503, 5519, 5520, 5521, 5571, 5572, 5573, 5574, 5575, 5576, 5577, 5578, 5579, 5580, 5581, 5582, 5583, 5584, 5585, 5586, 5598, 5599, 5600, 5601, 5602, 5652, 5653, 5654, 5655, 5656, 5657, 5658, 5659, 5660, 5661, 5662, 5663, 5664, 5665, 5666, 5667, 5668, 5678, 5679, 5680, 5681, 5682, 5734, 5735, 5736, 5737, 5738, 5739, 5740, 5741, 5742, 5743, 5744, 5745, 5746, 5747, 5748, 5749, 5750, 5758, 5759, 5760, 5761, 5762, 5816, 5817, 5818, 5819, 5820, 5821, 5822, 5823, 5824, 5825, 5826, 5827, 5828, 5829, 5830, 5831, 5838, 5839, 5840, 5841, 5842, 5898, 5899, 5900, 5901, 5902, 5903, 5904, 5905, 5906, 5907, 5908, 5909, 5910, 5911, 5912, 5918, 5919, 5920, 5921, 5922, 5980, 5981, 5982, 5983, 5984, 5985, 5986, 5987, 5988, 5989, 5990, 5991, 5992, 5993, 5998, 5999, 6000, 6001, 6002, 6061, 6062, 6063, 6064, 6065, 6066, 6067, 6068, 6069, 6070, 6071, 6072, 6073, 6074, 6078, 6079, 6080, 6081, 6082, 6143, 6144, 6145, 6146, 6147, 6148, 6149, 6150, 6151, 6152, 6153, 6154, 6155, 6158, 6159, 6160, 6161, 6162, 6225, 6226, 6227, 6228, 6229, 6230, 6231, 6232, 6233, 6234, 6235, 6236, 6238, 6239, 6240, 6241, 6242, 6307, 6308, 6309, 6310, 6311, 6312, 6313, 6314, 6315, 6316, 6317, 6318, 6319, 6320, 6321, 6322, 6389, 6390, 6391, 6392, 6393, 6394, 6395, 6396, 6397, 6398, 6399, 6400, 6401, 6402, 6470, 6471, 6472, 6473, 6474, 6475, 6476, 6477, 6478, 6479, 6480, 6481, 6482, 6552, 6553, 6554, 6555, 6556, 6557, 6558, 6559, 6560]\n",
      "CPU times: user 159 ms, sys: 12 ms, total: 171 ms\n",
      "Wall time: 171 ms\n"
     ]
    }
   ],
   "source": [
    "%%time\n",
    "n_total = len(simulation.dataframe)\n",
    "n_train = len(simulation.dataframe[simulation.dataframe.type_of == \"train\"])\n",
    "n_val = len(simulation.dataframe[simulation.dataframe.type_of == \"val\"])\n",
    "n_test = len(simulation.dataframe[simulation.dataframe.type_of == \"test\"])\n",
    "n_train_hamiltonians = len(simulation.train_ids)\n",
    "n_val_hamiltonians = len(simulation.val_ids)\n",
    "n_test_hamiltonians = len(simulation.test_ids)\n",
    "n_total_hamiltonians = n_train_hamiltonians + n_val_hamiltonians + n_test_hamiltonians\n",
    "\n",
    "print(\"% train: \", n_train/n_total)\n",
    "print(\"% val: \",  n_val/n_total)\n",
    "print(\"% test: \", n_test/n_total)\n",
    "print(\"% train + val + test: \", (n_train+n_val+n_test)/n_total)\n",
    "print(\"\\n\")\n",
    "print(\"number of train hamiltonians: \", n_train_hamiltonians)\n",
    "print(\"number of val hamiltonians: \", n_val_hamiltonians)\n",
    "print(\"number of test hamiltonians: \", n_test_hamiltonians)\n",
    "print(\"total number of hamiltonians: \", n_total_hamiltonians)\n",
    "print(\"\\n\")\n",
    "print(\"train ids: \", simulation.train_ids)\n",
    "print(\"val ids: \", simulation.val_ids)\n",
    "print(\"test ids: \", simulation.test_ids)"
   ]
  },
  {
   "cell_type": "markdown",
   "metadata": {
    "papermill": {
     "duration": 0.035782,
     "end_time": "2020-07-09T17:21:57.633123",
     "exception": false,
     "start_time": "2020-07-09T17:21:57.597341",
     "status": "completed"
    },
    "tags": []
   },
   "source": [
    "#### Checking summaries"
   ]
  },
  {
   "cell_type": "code",
   "execution_count": 27,
   "metadata": {
    "execution": {
     "iopub.execute_input": "2020-07-09T17:21:57.706954Z",
     "iopub.status.busy": "2020-07-09T17:21:57.706438Z",
     "iopub.status.idle": "2020-07-09T17:21:57.725578Z",
     "shell.execute_reply": "2020-07-09T17:21:57.725882Z"
    },
    "papermill": {
     "duration": 0.057674,
     "end_time": "2020-07-09T17:21:57.725947",
     "exception": false,
     "start_time": "2020-07-09T17:21:57.668273",
     "status": "completed"
    },
    "tags": []
   },
   "outputs": [
    {
     "name": "stdout",
     "output_type": "stream",
     "text": [
      "length of ham_summary:  6561\n",
      "CPU times: user 103 µs, sys: 2 µs, total: 105 µs\n",
      "Wall time: 67.5 µs\n"
     ]
    },
    {
     "data": {
      "text/html": [
       "<div>\n",
       "<style scoped>\n",
       "    .dataframe tbody tr th:only-of-type {\n",
       "        vertical-align: middle;\n",
       "    }\n",
       "\n",
       "    .dataframe tbody tr th {\n",
       "        vertical-align: top;\n",
       "    }\n",
       "\n",
       "    .dataframe thead th {\n",
       "        text-align: right;\n",
       "    }\n",
       "</style>\n",
       "<table border=\"1\" class=\"dataframe\">\n",
       "  <thead>\n",
       "    <tr style=\"text-align: right;\">\n",
       "      <th></th>\n",
       "      <th>t1</th>\n",
       "      <th>t2</th>\n",
       "      <th>type_of</th>\n",
       "      <th>0</th>\n",
       "      <th>1</th>\n",
       "      <th>phase</th>\n",
       "      <th>pred_phase</th>\n",
       "    </tr>\n",
       "    <tr>\n",
       "      <th>id</th>\n",
       "      <th></th>\n",
       "      <th></th>\n",
       "      <th></th>\n",
       "      <th></th>\n",
       "      <th></th>\n",
       "      <th></th>\n",
       "      <th></th>\n",
       "    </tr>\n",
       "  </thead>\n",
       "  <tbody>\n",
       "    <tr>\n",
       "      <th>0</th>\n",
       "      <td>-2.0</td>\n",
       "      <td>-2.00</td>\n",
       "      <td>test</td>\n",
       "      <td>0.62</td>\n",
       "      <td>0.38</td>\n",
       "      <td>999</td>\n",
       "      <td>0</td>\n",
       "    </tr>\n",
       "    <tr>\n",
       "      <th>1</th>\n",
       "      <td>-2.0</td>\n",
       "      <td>-1.95</td>\n",
       "      <td>test</td>\n",
       "      <td>0.68</td>\n",
       "      <td>0.32</td>\n",
       "      <td>0</td>\n",
       "      <td>0</td>\n",
       "    </tr>\n",
       "    <tr>\n",
       "      <th>2</th>\n",
       "      <td>-2.0</td>\n",
       "      <td>-1.90</td>\n",
       "      <td>test</td>\n",
       "      <td>0.72</td>\n",
       "      <td>0.28</td>\n",
       "      <td>0</td>\n",
       "      <td>0</td>\n",
       "    </tr>\n",
       "    <tr>\n",
       "      <th>3</th>\n",
       "      <td>-2.0</td>\n",
       "      <td>-1.85</td>\n",
       "      <td>test</td>\n",
       "      <td>0.78</td>\n",
       "      <td>0.22</td>\n",
       "      <td>0</td>\n",
       "      <td>0</td>\n",
       "    </tr>\n",
       "    <tr>\n",
       "      <th>4</th>\n",
       "      <td>-2.0</td>\n",
       "      <td>-1.80</td>\n",
       "      <td>test</td>\n",
       "      <td>0.81</td>\n",
       "      <td>0.19</td>\n",
       "      <td>0</td>\n",
       "      <td>0</td>\n",
       "    </tr>\n",
       "    <tr>\n",
       "      <th>...</th>\n",
       "      <td>...</td>\n",
       "      <td>...</td>\n",
       "      <td>...</td>\n",
       "      <td>...</td>\n",
       "      <td>...</td>\n",
       "      <td>...</td>\n",
       "      <td>...</td>\n",
       "    </tr>\n",
       "    <tr>\n",
       "      <th>6556</th>\n",
       "      <td>2.0</td>\n",
       "      <td>1.80</td>\n",
       "      <td>test</td>\n",
       "      <td>0.90</td>\n",
       "      <td>0.10</td>\n",
       "      <td>0</td>\n",
       "      <td>0</td>\n",
       "    </tr>\n",
       "    <tr>\n",
       "      <th>6557</th>\n",
       "      <td>2.0</td>\n",
       "      <td>1.85</td>\n",
       "      <td>test</td>\n",
       "      <td>0.81</td>\n",
       "      <td>0.19</td>\n",
       "      <td>0</td>\n",
       "      <td>0</td>\n",
       "    </tr>\n",
       "    <tr>\n",
       "      <th>6558</th>\n",
       "      <td>2.0</td>\n",
       "      <td>1.90</td>\n",
       "      <td>test</td>\n",
       "      <td>0.74</td>\n",
       "      <td>0.26</td>\n",
       "      <td>0</td>\n",
       "      <td>0</td>\n",
       "    </tr>\n",
       "    <tr>\n",
       "      <th>6559</th>\n",
       "      <td>2.0</td>\n",
       "      <td>1.95</td>\n",
       "      <td>test</td>\n",
       "      <td>0.68</td>\n",
       "      <td>0.32</td>\n",
       "      <td>0</td>\n",
       "      <td>0</td>\n",
       "    </tr>\n",
       "    <tr>\n",
       "      <th>6560</th>\n",
       "      <td>2.0</td>\n",
       "      <td>2.00</td>\n",
       "      <td>test</td>\n",
       "      <td>0.66</td>\n",
       "      <td>0.34</td>\n",
       "      <td>999</td>\n",
       "      <td>0</td>\n",
       "    </tr>\n",
       "  </tbody>\n",
       "</table>\n",
       "<p>6561 rows × 7 columns</p>\n",
       "</div>"
      ],
      "text/plain": [
       "       t1    t2 type_of     0     1  phase  pred_phase\n",
       "id                                                    \n",
       "0    -2.0 -2.00    test  0.62  0.38    999           0\n",
       "1    -2.0 -1.95    test  0.68  0.32      0           0\n",
       "2    -2.0 -1.90    test  0.72  0.28      0           0\n",
       "3    -2.0 -1.85    test  0.78  0.22      0           0\n",
       "4    -2.0 -1.80    test  0.81  0.19      0           0\n",
       "...   ...   ...     ...   ...   ...    ...         ...\n",
       "6556  2.0  1.80    test  0.90  0.10      0           0\n",
       "6557  2.0  1.85    test  0.81  0.19      0           0\n",
       "6558  2.0  1.90    test  0.74  0.26      0           0\n",
       "6559  2.0  1.95    test  0.68  0.32      0           0\n",
       "6560  2.0  2.00    test  0.66  0.34    999           0\n",
       "\n",
       "[6561 rows x 7 columns]"
      ]
     },
     "execution_count": 27,
     "metadata": {},
     "output_type": "execute_result"
    }
   ],
   "source": [
    "%%time\n",
    "ham_summary = simulation.hamiltonian_summary\n",
    "print(\"length of ham_summary: \", len(ham_summary))\n",
    "ham_summary"
   ]
  },
  {
   "cell_type": "code",
   "execution_count": 28,
   "metadata": {
    "execution": {
     "iopub.execute_input": "2020-07-09T17:21:57.800160Z",
     "iopub.status.busy": "2020-07-09T17:21:57.799625Z",
     "iopub.status.idle": "2020-07-09T17:21:57.827805Z",
     "shell.execute_reply": "2020-07-09T17:21:57.827471Z"
    },
    "papermill": {
     "duration": 0.065749,
     "end_time": "2020-07-09T17:21:57.827858",
     "exception": false,
     "start_time": "2020-07-09T17:21:57.762109",
     "status": "completed"
    },
    "tags": []
   },
   "outputs": [
    {
     "data": {
      "text/html": [
       "<div>\n",
       "<style scoped>\n",
       "    .dataframe tbody tr th:only-of-type {\n",
       "        vertical-align: middle;\n",
       "    }\n",
       "\n",
       "    .dataframe tbody tr th {\n",
       "        vertical-align: top;\n",
       "    }\n",
       "\n",
       "    .dataframe thead th {\n",
       "        text-align: right;\n",
       "    }\n",
       "</style>\n",
       "<table border=\"1\" class=\"dataframe\">\n",
       "  <thead>\n",
       "    <tr style=\"text-align: right;\">\n",
       "      <th></th>\n",
       "      <th>t1</th>\n",
       "      <th>t2</th>\n",
       "      <th>0</th>\n",
       "      <th>1</th>\n",
       "      <th>phase</th>\n",
       "      <th>pred_phase</th>\n",
       "    </tr>\n",
       "  </thead>\n",
       "  <tbody>\n",
       "    <tr>\n",
       "      <th>count</th>\n",
       "      <td>6561.000000</td>\n",
       "      <td>6.561000e+03</td>\n",
       "      <td>6561.000000</td>\n",
       "      <td>6561.000000</td>\n",
       "      <td>6561.000000</td>\n",
       "      <td>6561.000000</td>\n",
       "    </tr>\n",
       "    <tr>\n",
       "      <th>mean</th>\n",
       "      <td>0.000000</td>\n",
       "      <td>-4.331917e-18</td>\n",
       "      <td>0.518700</td>\n",
       "      <td>0.481300</td>\n",
       "      <td>25.002134</td>\n",
       "      <td>0.494894</td>\n",
       "    </tr>\n",
       "    <tr>\n",
       "      <th>std</th>\n",
       "      <td>1.169134</td>\n",
       "      <td>1.169134e+00</td>\n",
       "      <td>0.440799</td>\n",
       "      <td>0.440799</td>\n",
       "      <td>154.495657</td>\n",
       "      <td>0.500012</td>\n",
       "    </tr>\n",
       "    <tr>\n",
       "      <th>min</th>\n",
       "      <td>-2.000000</td>\n",
       "      <td>-2.000000e+00</td>\n",
       "      <td>0.000000</td>\n",
       "      <td>0.000000</td>\n",
       "      <td>0.000000</td>\n",
       "      <td>0.000000</td>\n",
       "    </tr>\n",
       "    <tr>\n",
       "      <th>25%</th>\n",
       "      <td>-1.000000</td>\n",
       "      <td>-1.000000e+00</td>\n",
       "      <td>0.050000</td>\n",
       "      <td>0.010000</td>\n",
       "      <td>0.000000</td>\n",
       "      <td>0.000000</td>\n",
       "    </tr>\n",
       "    <tr>\n",
       "      <th>50%</th>\n",
       "      <td>0.000000</td>\n",
       "      <td>0.000000e+00</td>\n",
       "      <td>0.550000</td>\n",
       "      <td>0.450000</td>\n",
       "      <td>1.000000</td>\n",
       "      <td>0.000000</td>\n",
       "    </tr>\n",
       "    <tr>\n",
       "      <th>75%</th>\n",
       "      <td>1.000000</td>\n",
       "      <td>1.000000e+00</td>\n",
       "      <td>0.990000</td>\n",
       "      <td>0.950000</td>\n",
       "      <td>1.000000</td>\n",
       "      <td>1.000000</td>\n",
       "    </tr>\n",
       "    <tr>\n",
       "      <th>max</th>\n",
       "      <td>2.000000</td>\n",
       "      <td>2.000000e+00</td>\n",
       "      <td>1.000000</td>\n",
       "      <td>1.000000</td>\n",
       "      <td>999.000000</td>\n",
       "      <td>1.000000</td>\n",
       "    </tr>\n",
       "  </tbody>\n",
       "</table>\n",
       "</div>"
      ],
      "text/plain": [
       "                t1            t2            0            1        phase  \\\n",
       "count  6561.000000  6.561000e+03  6561.000000  6561.000000  6561.000000   \n",
       "mean      0.000000 -4.331917e-18     0.518700     0.481300    25.002134   \n",
       "std       1.169134  1.169134e+00     0.440799     0.440799   154.495657   \n",
       "min      -2.000000 -2.000000e+00     0.000000     0.000000     0.000000   \n",
       "25%      -1.000000 -1.000000e+00     0.050000     0.010000     0.000000   \n",
       "50%       0.000000  0.000000e+00     0.550000     0.450000     1.000000   \n",
       "75%       1.000000  1.000000e+00     0.990000     0.950000     1.000000   \n",
       "max       2.000000  2.000000e+00     1.000000     1.000000   999.000000   \n",
       "\n",
       "        pred_phase  \n",
       "count  6561.000000  \n",
       "mean      0.494894  \n",
       "std       0.500012  \n",
       "min       0.000000  \n",
       "25%       0.000000  \n",
       "50%       0.000000  \n",
       "75%       1.000000  \n",
       "max       1.000000  "
      ]
     },
     "execution_count": 28,
     "metadata": {},
     "output_type": "execute_result"
    }
   ],
   "source": [
    "ham_summary.describe()"
   ]
  },
  {
   "cell_type": "code",
   "execution_count": 29,
   "metadata": {
    "execution": {
     "iopub.execute_input": "2020-07-09T17:21:57.902415Z",
     "iopub.status.busy": "2020-07-09T17:21:57.901880Z",
     "iopub.status.idle": "2020-07-09T17:21:57.917189Z",
     "shell.execute_reply": "2020-07-09T17:21:57.916916Z"
    },
    "papermill": {
     "duration": 0.053146,
     "end_time": "2020-07-09T17:21:57.917243",
     "exception": false,
     "start_time": "2020-07-09T17:21:57.864097",
     "status": "completed"
    },
    "tags": []
   },
   "outputs": [
    {
     "name": "stdout",
     "output_type": "stream",
     "text": [
      "length of ham_summary:  656100\n"
     ]
    },
    {
     "data": {
      "text/html": [
       "<div>\n",
       "<style scoped>\n",
       "    .dataframe tbody tr th:only-of-type {\n",
       "        vertical-align: middle;\n",
       "    }\n",
       "\n",
       "    .dataframe tbody tr th {\n",
       "        vertical-align: top;\n",
       "    }\n",
       "\n",
       "    .dataframe thead th {\n",
       "        text-align: right;\n",
       "    }\n",
       "</style>\n",
       "<table border=\"1\" class=\"dataframe\">\n",
       "  <thead>\n",
       "    <tr style=\"text-align: right;\">\n",
       "      <th></th>\n",
       "      <th>id</th>\n",
       "      <th>phase</th>\n",
       "      <th>pred_phase</th>\n",
       "      <th>type_of</th>\n",
       "    </tr>\n",
       "  </thead>\n",
       "  <tbody>\n",
       "    <tr>\n",
       "      <th>0</th>\n",
       "      <td>0</td>\n",
       "      <td>999</td>\n",
       "      <td>0</td>\n",
       "      <td>test</td>\n",
       "    </tr>\n",
       "    <tr>\n",
       "      <th>1</th>\n",
       "      <td>0</td>\n",
       "      <td>999</td>\n",
       "      <td>0</td>\n",
       "      <td>test</td>\n",
       "    </tr>\n",
       "    <tr>\n",
       "      <th>2</th>\n",
       "      <td>0</td>\n",
       "      <td>999</td>\n",
       "      <td>1</td>\n",
       "      <td>test</td>\n",
       "    </tr>\n",
       "    <tr>\n",
       "      <th>3</th>\n",
       "      <td>0</td>\n",
       "      <td>999</td>\n",
       "      <td>0</td>\n",
       "      <td>test</td>\n",
       "    </tr>\n",
       "    <tr>\n",
       "      <th>4</th>\n",
       "      <td>0</td>\n",
       "      <td>999</td>\n",
       "      <td>1</td>\n",
       "      <td>test</td>\n",
       "    </tr>\n",
       "    <tr>\n",
       "      <th>...</th>\n",
       "      <td>...</td>\n",
       "      <td>...</td>\n",
       "      <td>...</td>\n",
       "      <td>...</td>\n",
       "    </tr>\n",
       "    <tr>\n",
       "      <th>656095</th>\n",
       "      <td>6560</td>\n",
       "      <td>999</td>\n",
       "      <td>0</td>\n",
       "      <td>test</td>\n",
       "    </tr>\n",
       "    <tr>\n",
       "      <th>656096</th>\n",
       "      <td>6560</td>\n",
       "      <td>999</td>\n",
       "      <td>0</td>\n",
       "      <td>test</td>\n",
       "    </tr>\n",
       "    <tr>\n",
       "      <th>656097</th>\n",
       "      <td>6560</td>\n",
       "      <td>999</td>\n",
       "      <td>0</td>\n",
       "      <td>test</td>\n",
       "    </tr>\n",
       "    <tr>\n",
       "      <th>656098</th>\n",
       "      <td>6560</td>\n",
       "      <td>999</td>\n",
       "      <td>0</td>\n",
       "      <td>test</td>\n",
       "    </tr>\n",
       "    <tr>\n",
       "      <th>656099</th>\n",
       "      <td>6560</td>\n",
       "      <td>999</td>\n",
       "      <td>0</td>\n",
       "      <td>test</td>\n",
       "    </tr>\n",
       "  </tbody>\n",
       "</table>\n",
       "<p>656100 rows × 4 columns</p>\n",
       "</div>"
      ],
      "text/plain": [
       "          id  phase  pred_phase type_of\n",
       "0          0    999           0    test\n",
       "1          0    999           0    test\n",
       "2          0    999           1    test\n",
       "3          0    999           0    test\n",
       "4          0    999           1    test\n",
       "...      ...    ...         ...     ...\n",
       "656095  6560    999           0    test\n",
       "656096  6560    999           0    test\n",
       "656097  6560    999           0    test\n",
       "656098  6560    999           0    test\n",
       "656099  6560    999           0    test\n",
       "\n",
       "[656100 rows x 4 columns]"
      ]
     },
     "execution_count": 29,
     "metadata": {},
     "output_type": "execute_result"
    }
   ],
   "source": [
    "eigen_summary = simulation.eigenvector_summary\n",
    "print(\"length of ham_summary: \", len(eigen_summary))\n",
    "eigen_summary"
   ]
  },
  {
   "cell_type": "markdown",
   "metadata": {
    "papermill": {
     "duration": 0.035662,
     "end_time": "2020-07-09T17:21:57.988598",
     "exception": false,
     "start_time": "2020-07-09T17:21:57.952936",
     "status": "completed"
    },
    "tags": []
   },
   "source": [
    "#### Checking accuracies"
   ]
  },
  {
   "cell_type": "code",
   "execution_count": 30,
   "metadata": {
    "execution": {
     "iopub.execute_input": "2020-07-09T17:21:58.064026Z",
     "iopub.status.busy": "2020-07-09T17:21:58.063717Z",
     "iopub.status.idle": "2020-07-09T17:21:58.073799Z",
     "shell.execute_reply": "2020-07-09T17:21:58.074102Z"
    },
    "papermill": {
     "duration": 0.048919,
     "end_time": "2020-07-09T17:21:58.074167",
     "exception": false,
     "start_time": "2020-07-09T17:21:58.025248",
     "status": "completed"
    },
    "tags": []
   },
   "outputs": [
    {
     "data": {
      "text/plain": [
       "{'eigenvector_train': 0.9699280575539568,\n",
       " 'eigenvector_val': 0.947368,\n",
       " 'eigenvector_test': 0.7713151658767773,\n",
       " 'hamiltonian_train': 0.987410071942446,\n",
       " 'hamiltonian_val': 0.9854,\n",
       " 'hamiltonian_test': 0.9561611374407583}"
      ]
     },
     "execution_count": 30,
     "metadata": {},
     "output_type": "execute_result"
    }
   ],
   "source": [
    "simulation.accuracy"
   ]
  },
  {
   "cell_type": "markdown",
   "metadata": {
    "papermill": {
     "duration": 0.036021,
     "end_time": "2020-07-09T17:21:58.146257",
     "exception": false,
     "start_time": "2020-07-09T17:21:58.110236",
     "status": "completed"
    },
    "tags": []
   },
   "source": [
    "#### Checking data stored in  memory"
   ]
  },
  {
   "cell_type": "code",
   "execution_count": 31,
   "metadata": {
    "execution": {
     "iopub.execute_input": "2020-07-09T17:21:58.221937Z",
     "iopub.status.busy": "2020-07-09T17:21:58.221627Z",
     "iopub.status.idle": "2020-07-09T17:21:58.232966Z",
     "shell.execute_reply": "2020-07-09T17:21:58.232644Z"
    },
    "papermill": {
     "duration": 0.049776,
     "end_time": "2020-07-09T17:21:58.233018",
     "exception": false,
     "start_time": "2020-07-09T17:21:58.183242",
     "status": "completed"
    },
    "tags": []
   },
   "outputs": [
    {
     "data": {
      "text/plain": [
       "[]"
      ]
     },
     "execution_count": 31,
     "metadata": {},
     "output_type": "execute_result"
    }
   ],
   "source": [
    "ham_summary_list = simulation.hamiltonian_summary_list\n",
    "ham_summary_list"
   ]
  },
  {
   "cell_type": "code",
   "execution_count": 32,
   "metadata": {
    "execution": {
     "iopub.execute_input": "2020-07-09T17:21:58.308459Z",
     "iopub.status.busy": "2020-07-09T17:21:58.308141Z",
     "iopub.status.idle": "2020-07-09T17:21:58.318505Z",
     "shell.execute_reply": "2020-07-09T17:21:58.318185Z"
    },
    "papermill": {
     "duration": 0.049094,
     "end_time": "2020-07-09T17:21:58.318555",
     "exception": false,
     "start_time": "2020-07-09T17:21:58.269461",
     "status": "completed"
    },
    "tags": []
   },
   "outputs": [
    {
     "data": {
      "text/plain": [
       "[]"
      ]
     },
     "execution_count": 32,
     "metadata": {},
     "output_type": "execute_result"
    }
   ],
   "source": [
    "eigen_summary_list = simulation.eigenvector_summary_list\n",
    "eigen_summary_list"
   ]
  },
  {
   "cell_type": "code",
   "execution_count": 33,
   "metadata": {
    "execution": {
     "iopub.execute_input": "2020-07-09T17:21:58.397649Z",
     "iopub.status.busy": "2020-07-09T17:21:58.397335Z",
     "iopub.status.idle": "2020-07-09T17:21:58.459402Z",
     "shell.execute_reply": "2020-07-09T17:21:58.459908Z"
    },
    "papermill": {
     "duration": 0.103956,
     "end_time": "2020-07-09T17:21:58.460007",
     "exception": false,
     "start_time": "2020-07-09T17:21:58.356051",
     "status": "completed"
    },
    "tags": []
   },
   "outputs": [
    {
     "data": {
      "text/plain": [
       "{'eigenvector_train': [],\n",
       " 'eigenvector_val': [],\n",
       " 'eigenvector_test': [],\n",
       " 'hamiltonian_train': [],\n",
       " 'hamiltonian_val': [],\n",
       " 'hamiltonian_test': []}"
      ]
     },
     "execution_count": 33,
     "metadata": {},
     "output_type": "execute_result"
    }
   ],
   "source": [
    "accuracy_list = simulation.accuracy_list\n",
    "accuracy_list"
   ]
  },
  {
   "cell_type": "code",
   "execution_count": null,
   "metadata": {
    "papermill": {
     "duration": 0.03725,
     "end_time": "2020-07-09T17:21:58.553494",
     "exception": false,
     "start_time": "2020-07-09T17:21:58.516244",
     "status": "completed"
    },
    "tags": []
   },
   "outputs": [],
   "source": []
  },
  {
   "cell_type": "code",
   "execution_count": null,
   "metadata": {
    "papermill": {
     "duration": 0.039986,
     "end_time": "2020-07-09T17:21:58.631201",
     "exception": false,
     "start_time": "2020-07-09T17:21:58.591215",
     "status": "completed"
    },
    "tags": []
   },
   "outputs": [],
   "source": []
  },
  {
   "cell_type": "code",
   "execution_count": 34,
   "metadata": {
    "execution": {
     "iopub.execute_input": "2020-07-09T17:21:58.706460Z",
     "iopub.status.busy": "2020-07-09T17:21:58.706150Z",
     "iopub.status.idle": "2020-07-09T17:21:58.716992Z",
     "shell.execute_reply": "2020-07-09T17:21:58.716646Z"
    },
    "papermill": {
     "duration": 0.048992,
     "end_time": "2020-07-09T17:21:58.717045",
     "exception": false,
     "start_time": "2020-07-09T17:21:58.668053",
     "status": "completed"
    },
    "tags": []
   },
   "outputs": [],
   "source": [
    "#simulation.fourier_matrix"
   ]
  },
  {
   "cell_type": "code",
   "execution_count": 35,
   "metadata": {
    "execution": {
     "iopub.execute_input": "2020-07-09T17:21:58.794233Z",
     "iopub.status.busy": "2020-07-09T17:21:58.793919Z",
     "iopub.status.idle": "2020-07-09T17:21:58.804038Z",
     "shell.execute_reply": "2020-07-09T17:21:58.803701Z"
    },
    "papermill": {
     "duration": 0.049438,
     "end_time": "2020-07-09T17:21:58.804090",
     "exception": false,
     "start_time": "2020-07-09T17:21:58.754652",
     "status": "completed"
    },
    "tags": []
   },
   "outputs": [],
   "source": [
    "#simulation.fourier_matrix.shape"
   ]
  },
  {
   "cell_type": "code",
   "execution_count": 36,
   "metadata": {
    "execution": {
     "iopub.execute_input": "2020-07-09T17:21:58.880020Z",
     "iopub.status.busy": "2020-07-09T17:21:58.879707Z",
     "iopub.status.idle": "2020-07-09T17:21:58.891009Z",
     "shell.execute_reply": "2020-07-09T17:21:58.890689Z"
    },
    "papermill": {
     "duration": 0.050034,
     "end_time": "2020-07-09T17:21:58.891061",
     "exception": false,
     "start_time": "2020-07-09T17:21:58.841027",
     "status": "completed"
    },
    "tags": []
   },
   "outputs": [],
   "source": [
    "#simulation.fourier_matrix[:,0]"
   ]
  },
  {
   "cell_type": "code",
   "execution_count": 37,
   "metadata": {
    "execution": {
     "iopub.execute_input": "2020-07-09T17:21:58.969911Z",
     "iopub.status.busy": "2020-07-09T17:21:58.969604Z",
     "iopub.status.idle": "2020-07-09T17:21:59.034196Z",
     "shell.execute_reply": "2020-07-09T17:21:59.033576Z"
    },
    "papermill": {
     "duration": 0.103673,
     "end_time": "2020-07-09T17:21:59.034287",
     "exception": false,
     "start_time": "2020-07-09T17:21:58.930614",
     "status": "completed"
    },
    "tags": []
   },
   "outputs": [],
   "source": [
    "#simulation.fourier_matrix[:,1]"
   ]
  },
  {
   "cell_type": "code",
   "execution_count": 38,
   "metadata": {
    "execution": {
     "iopub.execute_input": "2020-07-09T17:21:59.131594Z",
     "iopub.status.busy": "2020-07-09T17:21:59.131284Z",
     "iopub.status.idle": "2020-07-09T17:21:59.140728Z",
     "shell.execute_reply": "2020-07-09T17:21:59.140406Z"
    },
    "papermill": {
     "duration": 0.047855,
     "end_time": "2020-07-09T17:21:59.140779",
     "exception": false,
     "start_time": "2020-07-09T17:21:59.092924",
     "status": "completed"
    },
    "tags": []
   },
   "outputs": [],
   "source": [
    "#np.exp(-1j*2*np.pi*3/100)"
   ]
  },
  {
   "cell_type": "code",
   "execution_count": 39,
   "metadata": {
    "execution": {
     "iopub.execute_input": "2020-07-09T17:21:59.217846Z",
     "iopub.status.busy": "2020-07-09T17:21:59.217535Z",
     "iopub.status.idle": "2020-07-09T17:21:59.227306Z",
     "shell.execute_reply": "2020-07-09T17:21:59.227025Z"
    },
    "papermill": {
     "duration": 0.048989,
     "end_time": "2020-07-09T17:21:59.227362",
     "exception": false,
     "start_time": "2020-07-09T17:21:59.178373",
     "status": "completed"
    },
    "tags": []
   },
   "outputs": [],
   "source": [
    "#for i in range(1,50):\n",
    "#    print(\"\\n\")\n",
    "#    print(i)\n",
    "#    print(np.sum((np.real(simulation.fourier_matrix[:,i]) - np.real(simulation.fourier_matrix[:,-i]))**2))\n",
    "#    print(np.sum((np.imag(simulation.fourier_matrix[:,i])+ np.imag(simulation.fourier_matrix[:,-i]))**2))"
   ]
  },
  {
   "cell_type": "code",
   "execution_count": 40,
   "metadata": {
    "execution": {
     "iopub.execute_input": "2020-07-09T17:21:59.302639Z",
     "iopub.status.busy": "2020-07-09T17:21:59.302330Z",
     "iopub.status.idle": "2020-07-09T17:21:59.347215Z",
     "shell.execute_reply": "2020-07-09T17:21:59.345440Z"
    },
    "papermill": {
     "duration": 0.083378,
     "end_time": "2020-07-09T17:21:59.347469",
     "exception": false,
     "start_time": "2020-07-09T17:21:59.264091",
     "status": "completed"
    },
    "tags": []
   },
   "outputs": [],
   "source": [
    "#print(simulation.fourier_matrix[:,0])"
   ]
  },
  {
   "cell_type": "code",
   "execution_count": 41,
   "metadata": {
    "execution": {
     "iopub.execute_input": "2020-07-09T17:21:59.454736Z",
     "iopub.status.busy": "2020-07-09T17:21:59.454401Z",
     "iopub.status.idle": "2020-07-09T17:21:59.464592Z",
     "shell.execute_reply": "2020-07-09T17:21:59.464236Z"
    },
    "papermill": {
     "duration": 0.049284,
     "end_time": "2020-07-09T17:21:59.464645",
     "exception": false,
     "start_time": "2020-07-09T17:21:59.415361",
     "status": "completed"
    },
    "tags": []
   },
   "outputs": [],
   "source": [
    "#print(simulation.fourier_matrix[:,50])"
   ]
  },
  {
   "cell_type": "code",
   "execution_count": null,
   "metadata": {
    "papermill": {
     "duration": 0.03686,
     "end_time": "2020-07-09T17:21:59.538624",
     "exception": false,
     "start_time": "2020-07-09T17:21:59.501764",
     "status": "completed"
    },
    "tags": []
   },
   "outputs": [],
   "source": []
  }
 ],
 "metadata": {
  "celltoolbar": "Tags",
  "kernelspec": {
   "display_name": "ml_top_phases",
   "language": "python",
   "name": "ml_top_phases"
  },
  "language_info": {
   "codemirror_mode": {
    "name": "ipython",
    "version": 3
   },
   "file_extension": ".py",
   "mimetype": "text/x-python",
   "name": "python",
   "nbconvert_exporter": "python",
   "pygments_lexer": "ipython3",
   "version": "3.6.10"
  },
  "papermill": {
   "duration": 175.455274,
   "end_time": "2020-07-09T17:21:59.686475",
   "environment_variables": {},
   "exception": null,
   "input_path": "0_simulation_template.ipynb",
   "output_path": "zzz_simulation_output_ssh1_2nd_scenario_100_6561.ipynb",
   "parameters": {
    "allowed_windings": [
     0,
     1
    ],
    "csv_path": "/home/rio/ssh_csvs/ssh1/periodic_100_6561.csv",
    "features_to_use": [
     0,
     1,
     2,
     3,
     49,
     50
    ],
    "fit_params": null,
    "fourier_features_to_use": null,
    "fourier_fillna": null,
    "fourier_mode": null,
    "fourier_normalize": null,
    "fourier_real": null,
    "model_kw": {
     "criterion": "entropy"
    },
    "model_name": "DecisionTreeClassifier",
    "n_experiments": 100,
    "pred_params": null,
    "random_features": false,
    "random_state": 93474,
    "save_accuracy": true,
    "save_eigenvector": true,
    "save_hamiltonian": true,
    "save_models": true,
    "shuffle_features": false,
    "shuffle_rows": true,
    "simulation_dir": "/home/rio/ssh_simulations/ssh1/periodic_2nd_scenario_100_6561",
    "start_n": 0,
    "store_in_lists": false,
    "val_split": 0.9
   },
   "start_time": "2020-07-09T17:19:04.231201",
   "version": "2.1.0"
  }
 },
 "nbformat": 4,
 "nbformat_minor": 2
}