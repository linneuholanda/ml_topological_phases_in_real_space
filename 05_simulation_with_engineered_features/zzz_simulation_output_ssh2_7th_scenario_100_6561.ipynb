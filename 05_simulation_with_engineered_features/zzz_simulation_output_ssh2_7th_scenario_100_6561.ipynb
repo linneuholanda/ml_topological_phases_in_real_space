{
 "cells": [
  {
   "cell_type": "markdown",
   "metadata": {
    "papermill": {
     "duration": 0.019371,
     "end_time": "2020-07-09T23:11:02.202518",
     "exception": false,
     "start_time": "2020-07-09T23:11:02.183147",
     "status": "completed"
    },
    "tags": []
   },
   "source": [
    "# Simulation template \n",
    "\n",
    "In this notebook we run the machine learning analysis of topological phase transitions occurring  in both nearest-neighbours SSH models (ssh1) and second neighbours models (ssh2) as decribed in the paper [Machine learning topological phases in real space](https://arxiv.org/abs/1901.01963). Here the simulation is run with features generated from fourier components in the first scenario. This scenario is characterized by using only the EVEN wavevector space eigenmodes, computed from ALL real space components."
   ]
  },
  {
   "cell_type": "markdown",
   "metadata": {
    "papermill": {
     "duration": 0.160911,
     "end_time": "2020-07-09T23:11:03.149742",
     "exception": false,
     "start_time": "2020-07-09T23:11:02.988831",
     "status": "completed"
    },
    "tags": []
   },
   "source": [
    "## Defining parameters"
   ]
  },
  {
   "cell_type": "code",
   "execution_count": 1,
   "metadata": {
    "execution": {
     "iopub.execute_input": "2020-07-09T23:11:03.228482Z",
     "iopub.status.busy": "2020-07-09T23:11:03.228134Z",
     "iopub.status.idle": "2020-07-09T23:11:03.815873Z",
     "shell.execute_reply": "2020-07-09T23:11:03.816183Z"
    },
    "papermill": {
     "duration": 0.610502,
     "end_time": "2020-07-09T23:11:03.816251",
     "exception": false,
     "start_time": "2020-07-09T23:11:03.205749",
     "status": "completed"
    },
    "tags": []
   },
   "outputs": [
    {
     "name": "stdout",
     "output_type": "stream",
     "text": [
      "CPU times: user 749 ms, sys: 271 ms, total: 1.02 s\n",
      "Wall time: 581 ms\n"
     ]
    }
   ],
   "source": [
    "%%time\n",
    "%load_ext autoreload\n",
    "%autoreload 2\n",
    "from simulation import *"
   ]
  },
  {
   "cell_type": "code",
   "execution_count": 2,
   "metadata": {
    "execution": {
     "iopub.execute_input": "2020-07-09T23:11:03.851232Z",
     "iopub.status.busy": "2020-07-09T23:11:03.850883Z",
     "iopub.status.idle": "2020-07-09T23:11:03.861878Z",
     "shell.execute_reply": "2020-07-09T23:11:03.862182Z"
    },
    "papermill": {
     "duration": 0.029263,
     "end_time": "2020-07-09T23:11:03.862247",
     "exception": false,
     "start_time": "2020-07-09T23:11:03.832984",
     "status": "completed"
    },
    "tags": [
     "parameters"
    ]
   },
   "outputs": [
    {
     "name": "stdout",
     "output_type": "stream",
     "text": [
      "CPU times: user 3 µs, sys: 0 ns, total: 3 µs\n",
      "Wall time: 5.25 µs\n"
     ]
    }
   ],
   "source": [
    "%%time\n",
    "### Dataset and simulation parameters\n",
    "#csv_path = SSH2_PERIODIC_100_6561_CSV \n",
    "csv_path = SSH1_PERIODIC_100_6561_CSV \n",
    "model_name = \"DecisionTreeClassifier\"\n",
    "model_kw = {\"criterion\":\"entropy\"}\n",
    "allowed_windings = [0,1]\n",
    "#allowed_windings = [-1,0,1,2]\n",
    "simulation_dir = SSH1_PERIODIC_1ST_SCENARIO_100_6561_SIMULATION_DIR\n",
    "#simulation_dir = SSH2_PERIODIC_ENGINEERED_100_6561_SIMULATION_DIR\n",
    "val_split = 0.9  \n",
    "features_to_use = None\n",
    "shuffle_features = False\n",
    "random_state = 763\n",
    "\n",
    "### Fourier features\n",
    "fourier_mode = \"dft\"\n",
    "fourier_features_to_use = None\n",
    "fourier_real = \"real\"\n",
    "fourier_normalize = True\n",
    "fourier_fillna = False\n",
    "\n",
    "### Running a simulation\n",
    "n_experiments = 5\n",
    "start_n = 0\n",
    "fit_params = None\n",
    "#mode=mode\n",
    "shuffle_rows = True\n",
    "pred_params = None\n",
    "random_features = False\n",
    "######### DON'T SET THIS TO TRUE UNLESS YOUR DATASET IS SMALL!! WILL FLOOD YOUR MEMORY!!!\n",
    "store_in_lists = False   \n",
    "########## BELOW ARE THE PARAMETERS THAT CONTROL WHAT WILL BE SAVED\n",
    "save_eigenvector=True\n",
    "save_hamiltonian=True \n",
    "save_accuracy=True \n",
    "save_models=True"
   ]
  },
  {
   "cell_type": "code",
   "execution_count": 3,
   "metadata": {
    "execution": {
     "iopub.execute_input": "2020-07-09T23:11:03.924041Z",
     "iopub.status.busy": "2020-07-09T23:11:03.923445Z",
     "iopub.status.idle": "2020-07-09T23:11:04.024526Z",
     "shell.execute_reply": "2020-07-09T23:11:04.021934Z"
    },
    "papermill": {
     "duration": 0.146638,
     "end_time": "2020-07-09T23:11:04.024928",
     "exception": false,
     "start_time": "2020-07-09T23:11:03.878290",
     "status": "completed"
    },
    "tags": [
     "injected-parameters"
    ]
   },
   "outputs": [],
   "source": [
    "# Parameters\n",
    "model_kw = {\"criterion\": \"entropy\", \"n_estimators\": 25, \"n_jobs\": -1}\n",
    "allowed_windings = [-1, 0, 1, 2]\n",
    "val_split = 0.5\n",
    "features_to_use = None\n",
    "shuffle_features = False\n",
    "n_experiments = 100\n",
    "start_n = 0\n",
    "fit_params = None\n",
    "shuffle_rows = True\n",
    "pred_params = None\n",
    "random_features = False\n",
    "store_in_lists = False\n",
    "save_eigenvector = True\n",
    "save_hamiltonian = True\n",
    "save_accuracy = True\n",
    "save_models = True\n",
    "csv_path = \"/home/rio/ssh_csvs/ssh2/periodic_100_6561.csv\"\n",
    "model_name = \"RandomForestClassifier\"\n",
    "simulation_dir = \"/home/rio/ssh_simulations/ssh2/periodic_7th_scenario_100_6561\"\n",
    "random_state = 34896\n",
    "fourier_features_to_use = [0, 1, 2, 3, 4, 5, 6, 8, 42, 44, 46, 48]\n",
    "fourier_mode = \"dct\"\n",
    "fourier_real = None\n",
    "fourier_normalize = False\n",
    "fourier_fillna = False\n",
    "normalize = False\n",
    "fillna = False\n"
   ]
  },
  {
   "cell_type": "code",
   "execution_count": 4,
   "metadata": {
    "execution": {
     "iopub.execute_input": "2020-07-09T23:11:04.099435Z",
     "iopub.status.busy": "2020-07-09T23:11:04.099116Z",
     "iopub.status.idle": "2020-07-09T23:11:09.740697Z",
     "shell.execute_reply": "2020-07-09T23:11:09.740346Z"
    },
    "papermill": {
     "duration": 5.661994,
     "end_time": "2020-07-09T23:11:09.740750",
     "exception": false,
     "start_time": "2020-07-09T23:11:04.078756",
     "status": "completed"
    },
    "tags": []
   },
   "outputs": [
    {
     "name": "stdout",
     "output_type": "stream",
     "text": [
      "Info on all data: \n",
      "\n",
      "<class 'pandas.core.frame.DataFrame'>\n",
      "Int64Index: 656100 entries, 0 to 656099\n",
      "Columns: 108 entries, id to feat99\n",
      "dtypes: float64(103), int32(3), object(2)\n",
      "memory usage: 538.1+ MB\n",
      "CPU times: user 5.72 s, sys: 587 ms, total: 6.31 s\n",
      "Wall time: 5.62 s\n"
     ]
    },
    {
     "data": {
      "text/html": [
       "<div>\n",
       "<style scoped>\n",
       "    .dataframe tbody tr th:only-of-type {\n",
       "        vertical-align: middle;\n",
       "    }\n",
       "\n",
       "    .dataframe tbody tr th {\n",
       "        vertical-align: top;\n",
       "    }\n",
       "\n",
       "    .dataframe thead th {\n",
       "        text-align: right;\n",
       "    }\n",
       "</style>\n",
       "<table border=\"1\" class=\"dataframe\">\n",
       "  <thead>\n",
       "    <tr style=\"text-align: right;\">\n",
       "      <th></th>\n",
       "      <th>id</th>\n",
       "      <th>path</th>\n",
       "      <th>t1</th>\n",
       "      <th>t2</th>\n",
       "      <th>winding</th>\n",
       "      <th>phase</th>\n",
       "      <th>pred_phase</th>\n",
       "      <th>type_of</th>\n",
       "      <th>feat0</th>\n",
       "      <th>feat1</th>\n",
       "      <th>...</th>\n",
       "      <th>feat90</th>\n",
       "      <th>feat91</th>\n",
       "      <th>feat92</th>\n",
       "      <th>feat93</th>\n",
       "      <th>feat94</th>\n",
       "      <th>feat95</th>\n",
       "      <th>feat96</th>\n",
       "      <th>feat97</th>\n",
       "      <th>feat98</th>\n",
       "      <th>feat99</th>\n",
       "    </tr>\n",
       "  </thead>\n",
       "  <tbody>\n",
       "    <tr>\n",
       "      <th>0</th>\n",
       "      <td>0</td>\n",
       "      <td>H_-2_-2_0.501338.dat</td>\n",
       "      <td>-2.0</td>\n",
       "      <td>-2.0</td>\n",
       "      <td>0.501338</td>\n",
       "      <td>999</td>\n",
       "      <td>666</td>\n",
       "      <td>test</td>\n",
       "      <td>-0.130965</td>\n",
       "      <td>0.301130</td>\n",
       "      <td>...</td>\n",
       "      <td>-0.080279</td>\n",
       "      <td>-0.115687</td>\n",
       "      <td>-0.174988</td>\n",
       "      <td>0.245064</td>\n",
       "      <td>0.319763</td>\n",
       "      <td>-0.059082</td>\n",
       "      <td>-0.000556</td>\n",
       "      <td>-0.245133</td>\n",
       "      <td>-0.301130</td>\n",
       "      <td>0.130965</td>\n",
       "    </tr>\n",
       "    <tr>\n",
       "      <th>1</th>\n",
       "      <td>0</td>\n",
       "      <td>H_-2_-2_0.501338.dat</td>\n",
       "      <td>-2.0</td>\n",
       "      <td>-2.0</td>\n",
       "      <td>0.501338</td>\n",
       "      <td>999</td>\n",
       "      <td>666</td>\n",
       "      <td>test</td>\n",
       "      <td>-0.130965</td>\n",
       "      <td>-0.301130</td>\n",
       "      <td>...</td>\n",
       "      <td>-0.080279</td>\n",
       "      <td>0.115687</td>\n",
       "      <td>-0.174988</td>\n",
       "      <td>-0.245064</td>\n",
       "      <td>0.319763</td>\n",
       "      <td>0.059082</td>\n",
       "      <td>-0.000556</td>\n",
       "      <td>0.245133</td>\n",
       "      <td>-0.301130</td>\n",
       "      <td>-0.130965</td>\n",
       "    </tr>\n",
       "    <tr>\n",
       "      <th>2</th>\n",
       "      <td>0</td>\n",
       "      <td>H_-2_-2_0.501338.dat</td>\n",
       "      <td>-2.0</td>\n",
       "      <td>-2.0</td>\n",
       "      <td>0.501338</td>\n",
       "      <td>999</td>\n",
       "      <td>666</td>\n",
       "      <td>test</td>\n",
       "      <td>-0.148414</td>\n",
       "      <td>-0.042467</td>\n",
       "      <td>...</td>\n",
       "      <td>0.185442</td>\n",
       "      <td>-0.080620</td>\n",
       "      <td>-0.066211</td>\n",
       "      <td>-0.121339</td>\n",
       "      <td>-0.151700</td>\n",
       "      <td>0.192513</td>\n",
       "      <td>0.191642</td>\n",
       "      <td>-0.050956</td>\n",
       "      <td>-0.042467</td>\n",
       "      <td>-0.148414</td>\n",
       "    </tr>\n",
       "    <tr>\n",
       "      <th>3</th>\n",
       "      <td>0</td>\n",
       "      <td>H_-2_-2_0.501338.dat</td>\n",
       "      <td>-2.0</td>\n",
       "      <td>-2.0</td>\n",
       "      <td>0.501338</td>\n",
       "      <td>999</td>\n",
       "      <td>666</td>\n",
       "      <td>test</td>\n",
       "      <td>-0.069630</td>\n",
       "      <td>-0.026147</td>\n",
       "      <td>...</td>\n",
       "      <td>0.102009</td>\n",
       "      <td>-0.100671</td>\n",
       "      <td>-0.081002</td>\n",
       "      <td>-0.020715</td>\n",
       "      <td>-0.058717</td>\n",
       "      <td>0.115834</td>\n",
       "      <td>0.118274</td>\n",
       "      <td>-0.054666</td>\n",
       "      <td>-0.026147</td>\n",
       "      <td>-0.069630</td>\n",
       "    </tr>\n",
       "    <tr>\n",
       "      <th>4</th>\n",
       "      <td>0</td>\n",
       "      <td>H_-2_-2_0.501338.dat</td>\n",
       "      <td>-2.0</td>\n",
       "      <td>-2.0</td>\n",
       "      <td>0.501338</td>\n",
       "      <td>999</td>\n",
       "      <td>666</td>\n",
       "      <td>test</td>\n",
       "      <td>0.010206</td>\n",
       "      <td>-0.014625</td>\n",
       "      <td>...</td>\n",
       "      <td>0.047555</td>\n",
       "      <td>-0.041368</td>\n",
       "      <td>-0.018852</td>\n",
       "      <td>-0.017673</td>\n",
       "      <td>-0.023377</td>\n",
       "      <td>0.031447</td>\n",
       "      <td>0.010280</td>\n",
       "      <td>0.000925</td>\n",
       "      <td>0.014625</td>\n",
       "      <td>-0.010206</td>\n",
       "    </tr>\n",
       "  </tbody>\n",
       "</table>\n",
       "<p>5 rows × 108 columns</p>\n",
       "</div>"
      ],
      "text/plain": [
       "   id                  path   t1   t2   winding  phase  pred_phase type_of  \\\n",
       "0   0  H_-2_-2_0.501338.dat -2.0 -2.0  0.501338    999         666    test   \n",
       "1   0  H_-2_-2_0.501338.dat -2.0 -2.0  0.501338    999         666    test   \n",
       "2   0  H_-2_-2_0.501338.dat -2.0 -2.0  0.501338    999         666    test   \n",
       "3   0  H_-2_-2_0.501338.dat -2.0 -2.0  0.501338    999         666    test   \n",
       "4   0  H_-2_-2_0.501338.dat -2.0 -2.0  0.501338    999         666    test   \n",
       "\n",
       "      feat0     feat1  ...    feat90    feat91    feat92    feat93    feat94  \\\n",
       "0 -0.130965  0.301130  ... -0.080279 -0.115687 -0.174988  0.245064  0.319763   \n",
       "1 -0.130965 -0.301130  ... -0.080279  0.115687 -0.174988 -0.245064  0.319763   \n",
       "2 -0.148414 -0.042467  ...  0.185442 -0.080620 -0.066211 -0.121339 -0.151700   \n",
       "3 -0.069630 -0.026147  ...  0.102009 -0.100671 -0.081002 -0.020715 -0.058717   \n",
       "4  0.010206 -0.014625  ...  0.047555 -0.041368 -0.018852 -0.017673 -0.023377   \n",
       "\n",
       "     feat95    feat96    feat97    feat98    feat99  \n",
       "0 -0.059082 -0.000556 -0.245133 -0.301130  0.130965  \n",
       "1  0.059082 -0.000556  0.245133 -0.301130 -0.130965  \n",
       "2  0.192513  0.191642 -0.050956 -0.042467 -0.148414  \n",
       "3  0.115834  0.118274 -0.054666 -0.026147 -0.069630  \n",
       "4  0.031447  0.010280  0.000925  0.014625 -0.010206  \n",
       "\n",
       "[5 rows x 108 columns]"
      ]
     },
     "execution_count": 4,
     "metadata": {},
     "output_type": "execute_result"
    }
   ],
   "source": [
    "%%time\n",
    "#Starting an instance of Simulation with a decision tree\n",
    "model = DecisionTreeClassifier(criterion=\"entropy\")\n",
    "#dict_args = {\"csv_path\":csv_path, \"model\":model, \"allowed_windings\":allowed_windings,\\\n",
    "#             \"simulation_dir\":simulation_dir, \"val_split\":val_split, \"features_to_use\":features_to_use,\\\n",
    "#            \"shuffle_features\":shuffle_features, \"random_state\":random_state}\n",
    "simulation = Simulation(csv_path,model_name,model_kw,allowed_windings,simulation_dir,val_split,features_to_use,\\\n",
    "                       shuffle_features,fourier_mode,fourier_features_to_use,fourier_real,\\\n",
    "                       fourier_normalize, fourier_fillna , random_state)\n",
    "#simulation = Simulation(**dict_args)\n",
    "\n",
    "\n",
    "#(self, csv_path, model_name, model_kw, allowed_windings, simulation_dir = None, val_split = 0, \n",
    "# features_to_use = None, shuffle_features = False, fourier_mode=None, fourier_features_to_use=None,\n",
    "# fourier_real = False, fourier_normalize = False, Fourier_fillna=False, random_state = None):\n",
    "\n",
    "\n",
    "\n",
    "print(\"Info on all data: \\n\")\n",
    "simulation.dataframe.info()\n",
    "simulation.dataframe.head()"
   ]
  },
  {
   "cell_type": "markdown",
   "metadata": {
    "papermill": {
     "duration": 0.016901,
     "end_time": "2020-07-09T23:11:09.774410",
     "exception": false,
     "start_time": "2020-07-09T23:11:09.757509",
     "status": "completed"
    },
    "tags": []
   },
   "source": [
    "####  Fourier features"
   ]
  },
  {
   "cell_type": "code",
   "execution_count": 5,
   "metadata": {
    "execution": {
     "iopub.execute_input": "2020-07-09T23:11:09.808412Z",
     "iopub.status.busy": "2020-07-09T23:11:09.807890Z",
     "iopub.status.idle": "2020-07-09T23:11:09.912634Z",
     "shell.execute_reply": "2020-07-09T23:11:09.912300Z"
    },
    "papermill": {
     "duration": 0.122451,
     "end_time": "2020-07-09T23:11:09.912685",
     "exception": false,
     "start_time": "2020-07-09T23:11:09.790234",
     "status": "completed"
    },
    "tags": []
   },
   "outputs": [
    {
     "name": "stdout",
     "output_type": "stream",
     "text": [
      "<class 'pandas.core.frame.DataFrame'>\n",
      "Int64Index: 656100 entries, 0 to 656099\n",
      "Data columns (total 20 columns):\n",
      " #   Column      Non-Null Count   Dtype  \n",
      "---  ------      --------------   -----  \n",
      " 0   id          656100 non-null  int32  \n",
      " 1   path        656100 non-null  object \n",
      " 2   t1          656100 non-null  float64\n",
      " 3   t2          656100 non-null  float64\n",
      " 4   winding     656100 non-null  float64\n",
      " 5   phase       656100 non-null  int32  \n",
      " 6   pred_phase  656100 non-null  int32  \n",
      " 7   type_of     656100 non-null  object \n",
      " 8   dct_feat0   656100 non-null  float64\n",
      " 9   dct_feat1   656100 non-null  float64\n",
      " 10  dct_feat2   656100 non-null  float64\n",
      " 11  dct_feat3   656100 non-null  float64\n",
      " 12  dct_feat4   656100 non-null  float64\n",
      " 13  dct_feat5   656100 non-null  float64\n",
      " 14  dct_feat6   656100 non-null  float64\n",
      " 15  dct_feat8   656100 non-null  float64\n",
      " 16  dct_feat42  656100 non-null  float64\n",
      " 17  dct_feat44  656100 non-null  float64\n",
      " 18  dct_feat46  656100 non-null  float64\n",
      " 19  dct_feat48  656100 non-null  float64\n",
      "dtypes: float64(15), int32(3), object(2)\n",
      "memory usage: 97.6+ MB\n",
      "CPU times: user 75.1 ms, sys: 19.4 ms, total: 94.5 ms\n",
      "Wall time: 93.9 ms\n"
     ]
    }
   ],
   "source": [
    "%%time\n",
    "#simulation.generate_fourier_df()\n",
    "if simulation.fourier_mode is not None:\n",
    "    simulation.fourier_dataframe.info() \n",
    "    simulation.fourier_dataframe.sample(15)\n"
   ]
  },
  {
   "cell_type": "code",
   "execution_count": 6,
   "metadata": {
    "execution": {
     "iopub.execute_input": "2020-07-09T23:11:09.948615Z",
     "iopub.status.busy": "2020-07-09T23:11:09.948265Z",
     "iopub.status.idle": "2020-07-09T23:11:09.959609Z",
     "shell.execute_reply": "2020-07-09T23:11:09.959938Z"
    },
    "papermill": {
     "duration": 0.030413,
     "end_time": "2020-07-09T23:11:09.960005",
     "exception": false,
     "start_time": "2020-07-09T23:11:09.929592",
     "status": "completed"
    },
    "tags": []
   },
   "outputs": [
    {
     "name": "stdout",
     "output_type": "stream",
     "text": [
      "features_to_use: \n",
      "\n",
      "\n",
      "None\n",
      "\n",
      "\n",
      "fourier_features: \n",
      "\n",
      "\n",
      "['dct_feat0', 'dct_feat1', 'dct_feat2', 'dct_feat3', 'dct_feat4', 'dct_feat5', 'dct_feat6', 'dct_feat8', 'dct_feat42', 'dct_feat44', 'dct_feat46', 'dct_feat48']\n",
      "\n",
      "\n",
      "Number of Fourier features: \n",
      "\n",
      "\n",
      "12\n"
     ]
    }
   ],
   "source": [
    "print(\"features_to_use: \")\n",
    "print(\"\\n\")\n",
    "print(simulation.features_to_use)\n",
    "if simulation.features_to_use is not None:\n",
    "    print(\"Number of real space features:\")\n",
    "    print(\"\\n\")\n",
    "    print(len(simulation.features_to_use))\n",
    "print(\"\\n\")\n",
    "print(\"fourier_features: \")\n",
    "print(\"\\n\")\n",
    "print(simulation.fourier_features)\n",
    "print(\"\\n\")\n",
    "if simulation.fourier_features is not None:\n",
    "    print(\"Number of Fourier features: \")\n",
    "    print(\"\\n\")\n",
    "    print(len(simulation.fourier_features))"
   ]
  },
  {
   "cell_type": "code",
   "execution_count": 7,
   "metadata": {
    "execution": {
     "iopub.execute_input": "2020-07-09T23:11:09.994458Z",
     "iopub.status.busy": "2020-07-09T23:11:09.994148Z",
     "iopub.status.idle": "2020-07-09T23:11:10.055146Z",
     "shell.execute_reply": "2020-07-09T23:11:10.054587Z"
    },
    "papermill": {
     "duration": 0.078894,
     "end_time": "2020-07-09T23:11:10.055228",
     "exception": false,
     "start_time": "2020-07-09T23:11:09.976334",
     "status": "completed"
    },
    "tags": []
   },
   "outputs": [],
   "source": [
    "#simulation.dataframe.iloc[331456,:]"
   ]
  },
  {
   "cell_type": "code",
   "execution_count": 8,
   "metadata": {
    "execution": {
     "iopub.execute_input": "2020-07-09T23:11:10.108211Z",
     "iopub.status.busy": "2020-07-09T23:11:10.107879Z",
     "iopub.status.idle": "2020-07-09T23:11:10.118207Z",
     "shell.execute_reply": "2020-07-09T23:11:10.117913Z"
    },
    "papermill": {
     "duration": 0.032046,
     "end_time": "2020-07-09T23:11:10.118261",
     "exception": false,
     "start_time": "2020-07-09T23:11:10.086215",
     "status": "completed"
    },
    "tags": []
   },
   "outputs": [],
   "source": [
    "#for ix, obj in enumerate(simulation.dataframe.iloc[331456,:].values):\n",
    "#    print(ix,obj)"
   ]
  },
  {
   "cell_type": "code",
   "execution_count": 9,
   "metadata": {
    "execution": {
     "iopub.execute_input": "2020-07-09T23:11:10.152832Z",
     "iopub.status.busy": "2020-07-09T23:11:10.152527Z",
     "iopub.status.idle": "2020-07-09T23:11:10.237634Z",
     "shell.execute_reply": "2020-07-09T23:11:10.235842Z"
    },
    "papermill": {
     "duration": 0.103288,
     "end_time": "2020-07-09T23:11:10.237880",
     "exception": false,
     "start_time": "2020-07-09T23:11:10.134592",
     "status": "completed"
    },
    "tags": []
   },
   "outputs": [],
   "source": [
    "#simulation.fourier_engineered_dataframe.dct_feat0"
   ]
  },
  {
   "cell_type": "code",
   "execution_count": 10,
   "metadata": {
    "execution": {
     "iopub.execute_input": "2020-07-09T23:11:10.315615Z",
     "iopub.status.busy": "2020-07-09T23:11:10.315299Z",
     "iopub.status.idle": "2020-07-09T23:11:10.325611Z",
     "shell.execute_reply": "2020-07-09T23:11:10.325878Z"
    },
    "papermill": {
     "duration": 0.033031,
     "end_time": "2020-07-09T23:11:10.325951",
     "exception": false,
     "start_time": "2020-07-09T23:11:10.292920",
     "status": "completed"
    },
    "tags": []
   },
   "outputs": [],
   "source": [
    "#simulation.features"
   ]
  },
  {
   "cell_type": "code",
   "execution_count": 11,
   "metadata": {
    "execution": {
     "iopub.execute_input": "2020-07-09T23:11:10.361316Z",
     "iopub.status.busy": "2020-07-09T23:11:10.361009Z",
     "iopub.status.idle": "2020-07-09T23:11:10.429266Z",
     "shell.execute_reply": "2020-07-09T23:11:10.427434Z"
    },
    "papermill": {
     "duration": 0.087286,
     "end_time": "2020-07-09T23:11:10.429519",
     "exception": false,
     "start_time": "2020-07-09T23:11:10.342233",
     "status": "completed"
    },
    "tags": []
   },
   "outputs": [],
   "source": [
    "#simulation.fourier_matrix"
   ]
  },
  {
   "cell_type": "code",
   "execution_count": 12,
   "metadata": {
    "execution": {
     "iopub.execute_input": "2020-07-09T23:11:10.508154Z",
     "iopub.status.busy": "2020-07-09T23:11:10.507836Z",
     "iopub.status.idle": "2020-07-09T23:11:10.517786Z",
     "shell.execute_reply": "2020-07-09T23:11:10.517451Z"
    },
    "papermill": {
     "duration": 0.03468,
     "end_time": "2020-07-09T23:11:10.517838",
     "exception": false,
     "start_time": "2020-07-09T23:11:10.483158",
     "status": "completed"
    },
    "tags": []
   },
   "outputs": [],
   "source": [
    "#1/simulation.n_features*simulation.dataframe.loc[:,simulation.features].sum(axis=1)"
   ]
  },
  {
   "cell_type": "code",
   "execution_count": 13,
   "metadata": {
    "execution": {
     "iopub.execute_input": "2020-07-09T23:11:10.552189Z",
     "iopub.status.busy": "2020-07-09T23:11:10.551883Z",
     "iopub.status.idle": "2020-07-09T23:11:10.630922Z",
     "shell.execute_reply": "2020-07-09T23:11:10.631839Z"
    },
    "papermill": {
     "duration": 0.097908,
     "end_time": "2020-07-09T23:11:10.632011",
     "exception": false,
     "start_time": "2020-07-09T23:11:10.534103",
     "status": "completed"
    },
    "tags": []
   },
   "outputs": [],
   "source": [
    "#df_2 = simulation.fourier_engineered_dataframe[simulation.fourier_engineered_dataframe.phase==2]\n",
    "#df_2.describe()"
   ]
  },
  {
   "cell_type": "code",
   "execution_count": 14,
   "metadata": {
    "execution": {
     "iopub.execute_input": "2020-07-09T23:11:10.704161Z",
     "iopub.status.busy": "2020-07-09T23:11:10.703823Z",
     "iopub.status.idle": "2020-07-09T23:11:10.714614Z",
     "shell.execute_reply": "2020-07-09T23:11:10.714272Z"
    },
    "papermill": {
     "duration": 0.03412,
     "end_time": "2020-07-09T23:11:10.714667",
     "exception": false,
     "start_time": "2020-07-09T23:11:10.680547",
     "status": "completed"
    },
    "tags": []
   },
   "outputs": [],
   "source": [
    "#df_1 = simulation.fourier_engineered_dataframe[simulation.fourier_engineered_dataframe.phase==1]\n",
    "#df_1.describe()"
   ]
  },
  {
   "cell_type": "code",
   "execution_count": 15,
   "metadata": {
    "execution": {
     "iopub.execute_input": "2020-07-09T23:11:10.749552Z",
     "iopub.status.busy": "2020-07-09T23:11:10.749246Z",
     "iopub.status.idle": "2020-07-09T23:11:10.804770Z",
     "shell.execute_reply": "2020-07-09T23:11:10.804298Z"
    },
    "papermill": {
     "duration": 0.07362,
     "end_time": "2020-07-09T23:11:10.804839",
     "exception": false,
     "start_time": "2020-07-09T23:11:10.731219",
     "status": "completed"
    },
    "tags": []
   },
   "outputs": [],
   "source": [
    "#df_0 = simulation.fourier_engineered_dataframe[simulation.fourier_engineered_dataframe.phase==0]\n",
    "#df_0.describe()"
   ]
  },
  {
   "cell_type": "code",
   "execution_count": 16,
   "metadata": {
    "execution": {
     "iopub.execute_input": "2020-07-09T23:11:10.853889Z",
     "iopub.status.busy": "2020-07-09T23:11:10.853583Z",
     "iopub.status.idle": "2020-07-09T23:11:10.904021Z",
     "shell.execute_reply": "2020-07-09T23:11:10.902274Z"
    },
    "papermill": {
     "duration": 0.07348,
     "end_time": "2020-07-09T23:11:10.904272",
     "exception": false,
     "start_time": "2020-07-09T23:11:10.830792",
     "status": "completed"
    },
    "tags": []
   },
   "outputs": [],
   "source": [
    "#plt.figure(figsize=(10,10))\n",
    "#plt.scatter(df_1.fourier_feat0,df_1.fourier_feat2)\n",
    "#plt.scatter(df_0.fourier_feat0,df_0.fourier_feat2,alpha=0.4)"
   ]
  },
  {
   "cell_type": "code",
   "execution_count": 17,
   "metadata": {
    "execution": {
     "iopub.execute_input": "2020-07-09T23:11:10.978726Z",
     "iopub.status.busy": "2020-07-09T23:11:10.978388Z",
     "iopub.status.idle": "2020-07-09T23:11:10.987782Z",
     "shell.execute_reply": "2020-07-09T23:11:10.988085Z"
    },
    "papermill": {
     "duration": 0.030593,
     "end_time": "2020-07-09T23:11:10.988150",
     "exception": false,
     "start_time": "2020-07-09T23:11:10.957557",
     "status": "completed"
    },
    "tags": []
   },
   "outputs": [],
   "source": [
    "#plt.scatter(df_0.fourier_feat0,df_0.fourier_feat2,alpha=0.4)"
   ]
  },
  {
   "cell_type": "code",
   "execution_count": 18,
   "metadata": {
    "execution": {
     "iopub.execute_input": "2020-07-09T23:11:11.024712Z",
     "iopub.status.busy": "2020-07-09T23:11:11.024146Z",
     "iopub.status.idle": "2020-07-09T23:11:11.087450Z",
     "shell.execute_reply": "2020-07-09T23:11:11.085697Z"
    },
    "papermill": {
     "duration": 0.082188,
     "end_time": "2020-07-09T23:11:11.087694",
     "exception": false,
     "start_time": "2020-07-09T23:11:11.005506",
     "status": "completed"
    },
    "tags": []
   },
   "outputs": [],
   "source": [
    "#plt.scatter(df_2.fourier_feat0,df_2.fourier_feat2)"
   ]
  },
  {
   "cell_type": "code",
   "execution_count": 19,
   "metadata": {
    "execution": {
     "iopub.execute_input": "2020-07-09T23:11:11.159566Z",
     "iopub.status.busy": "2020-07-09T23:11:11.159074Z",
     "iopub.status.idle": "2020-07-09T23:11:11.169042Z",
     "shell.execute_reply": "2020-07-09T23:11:11.168721Z"
    },
    "papermill": {
     "duration": 0.031117,
     "end_time": "2020-07-09T23:11:11.169094",
     "exception": false,
     "start_time": "2020-07-09T23:11:11.137977",
     "status": "completed"
    },
    "tags": []
   },
   "outputs": [],
   "source": [
    "#df_1.hist(figsize=(15,15))"
   ]
  },
  {
   "cell_type": "code",
   "execution_count": 20,
   "metadata": {
    "execution": {
     "iopub.execute_input": "2020-07-09T23:11:11.205926Z",
     "iopub.status.busy": "2020-07-09T23:11:11.205375Z",
     "iopub.status.idle": "2020-07-09T23:11:11.226645Z",
     "shell.execute_reply": "2020-07-09T23:11:11.226301Z"
    },
    "papermill": {
     "duration": 0.040083,
     "end_time": "2020-07-09T23:11:11.226698",
     "exception": false,
     "start_time": "2020-07-09T23:11:11.186615",
     "status": "completed"
    },
    "tags": []
   },
   "outputs": [],
   "source": [
    "#df_0.hist(figsize=(15,15))"
   ]
  },
  {
   "cell_type": "markdown",
   "metadata": {
    "papermill": {
     "duration": 0.016516,
     "end_time": "2020-07-09T23:11:11.259827",
     "exception": false,
     "start_time": "2020-07-09T23:11:11.243311",
     "status": "completed"
    },
    "tags": []
   },
   "source": [
    "#### Checking initialization"
   ]
  },
  {
   "cell_type": "code",
   "execution_count": 21,
   "metadata": {
    "execution": {
     "iopub.execute_input": "2020-07-09T23:11:11.295095Z",
     "iopub.status.busy": "2020-07-09T23:11:11.294601Z",
     "iopub.status.idle": "2020-07-09T23:11:11.359072Z",
     "shell.execute_reply": "2020-07-09T23:11:11.357344Z"
    },
    "papermill": {
     "duration": 0.083087,
     "end_time": "2020-07-09T23:11:11.359321",
     "exception": false,
     "start_time": "2020-07-09T23:11:11.276234",
     "status": "completed"
    },
    "tags": []
   },
   "outputs": [
    {
     "name": "stdout",
     "output_type": "stream",
     "text": [
      "n_features:  100\n",
      "n_hamiltonians:  6561\n",
      "n_ts:  2\n",
      "CPU times: user 1.07 ms, sys: 141 µs, total: 1.21 ms\n",
      "Wall time: 654 µs\n"
     ]
    }
   ],
   "source": [
    "%%time\n",
    "n_features = simulation.n_features\n",
    "n_hamiltonians = simulation.n_hamiltonians\n",
    "n_ts = simulation.n_ts\n",
    "\n",
    "print(\"n_features: \", n_features)\n",
    "print(\"n_hamiltonians: \", n_hamiltonians)\n",
    "print(\"n_ts: \", n_ts)"
   ]
  },
  {
   "cell_type": "code",
   "execution_count": 22,
   "metadata": {
    "execution": {
     "iopub.execute_input": "2020-07-09T23:11:11.422796Z",
     "iopub.status.busy": "2020-07-09T23:11:11.422423Z",
     "iopub.status.idle": "2020-07-09T23:11:11.608176Z",
     "shell.execute_reply": "2020-07-09T23:11:11.607854Z"
    },
    "papermill": {
     "duration": 0.206122,
     "end_time": "2020-07-09T23:11:11.608226",
     "exception": false,
     "start_time": "2020-07-09T23:11:11.402104",
     "status": "completed"
    },
    "tags": []
   },
   "outputs": [
    {
     "name": "stdout",
     "output_type": "stream",
     "text": [
      "% train:  0.8414875781130925\n",
      "% val:  0.0\n",
      "% test:  0.15851242188690748\n",
      "% train + val + test:  1.0\n",
      "\n",
      "\n",
      "number of train hamiltonians:  5521\n",
      "number of val hamiltonians:  0\n",
      "number of test hamiltonians:  1040\n",
      "total number of hamiltonians:  6561\n",
      "\n",
      "\n",
      "train ids:  [13, 14, 15, 16, 17, 18, 19, 20, 21, 22, 23, 24, 25, 26, 27, 28, 29, 30, 31, 32, 33, 34, 35, 36, 37, 38, 39, 41, 42, 43, 44, 45, 46, 47, 48, 49, 50, 51, 52, 53, 54, 55, 56, 57, 58, 59, 60, 61, 62, 63, 64, 65, 66, 67, 68, 69, 70, 71, 72, 73, 74, 75, 76, 77, 78, 79, 80, 95, 96, 97, 98, 99, 100, 101, 102, 103, 104, 105, 106, 107, 108, 109, 110, 111, 112, 113, 114, 115, 116, 117, 118, 119, 121, 122, 123, 124, 125, 126, 127, 128, 129, 130, 131, 132, 133, 134, 135, 136, 137, 138, 139, 140, 141, 142, 143, 144, 145, 146, 147, 148, 149, 150, 151, 152, 153, 154, 155, 156, 157, 158, 159, 160, 161, 176, 177, 178, 179, 180, 181, 182, 183, 184, 185, 186, 187, 188, 189, 190, 191, 192, 193, 194, 195, 196, 197, 198, 199, 201, 202, 203, 204, 205, 206, 207, 208, 209, 210, 211, 212, 213, 214, 215, 216, 217, 218, 219, 220, 221, 222, 223, 224, 225, 226, 227, 228, 229, 230, 231, 232, 233, 234, 235, 236, 237, 238, 239, 240, 241, 242, 258, 259, 260, 261, 262, 263, 264, 265, 266, 267, 268, 269, 270, 271, 272, 273, 274, 275, 276, 277, 278, 279, 281, 282, 283, 284, 285, 286, 287, 288, 289, 290, 291, 292, 293, 294, 295, 296, 297, 298, 299, 300, 301, 302, 303, 304, 305, 306, 307, 308, 309, 310, 311, 312, 313, 314, 315, 316, 317, 318, 319, 320, 321, 322, 323, 340, 341, 342, 343, 344, 345, 346, 347, 348, 349, 350, 351, 352, 353, 354, 355, 356, 357, 358, 359, 361, 362, 363, 364, 365, 366, 367, 368, 369, 370, 371, 372, 373, 374, 375, 376, 377, 378, 379, 380, 381, 382, 383, 384, 385, 386, 387, 388, 389, 390, 391, 392, 393, 394, 395, 396, 397, 398, 399, 400, 401, 402, 403, 404, 422, 423, 424, 425, 426, 427, 428, 429, 430, 431, 432, 433, 434, 435, 436, 437, 438, 439, 441, 442, 443, 444, 445, 446, 447, 448, 449, 450, 451, 452, 453, 454, 455, 456, 457, 458, 459, 460, 461, 462, 463, 464, 465, 466, 467, 468, 469, 470, 471, 472, 473, 474, 475, 476, 477, 478, 479, 480, 481, 482, 483, 484, 485, 503, 504, 505, 506, 507, 508, 509, 510, 511, 512, 513, 514, 515, 516, 517, 518, 519, 521, 522, 523, 524, 525, 526, 527, 528, 529, 530, 531, 532, 533, 534, 535, 536, 537, 538, 539, 540, 541, 542, 543, 544, 545, 546, 547, 548, 549, 550, 551, 552, 553, 554, 555, 556, 557, 558, 559, 560, 561, 562, 563, 564, 565, 566, 585, 586, 587, 588, 589, 590, 591, 592, 593, 594, 595, 596, 597, 598, 599, 601, 602, 603, 604, 605, 606, 607, 608, 609, 610, 611, 612, 613, 614, 615, 616, 617, 618, 619, 620, 621, 622, 623, 624, 625, 626, 627, 628, 629, 630, 631, 632, 633, 634, 635, 636, 637, 638, 639, 640, 641, 642, 643, 644, 645, 646, 647, 667, 668, 669, 670, 671, 672, 673, 674, 675, 676, 677, 678, 679, 681, 682, 683, 684, 685, 686, 687, 688, 689, 690, 691, 692, 693, 694, 695, 696, 697, 698, 699, 700, 701, 702, 703, 704, 705, 706, 707, 708, 709, 710, 711, 712, 713, 714, 715, 716, 717, 718, 719, 720, 721, 722, 723, 724, 725, 726, 727, 728, 749, 750, 751, 752, 753, 754, 755, 756, 757, 758, 759, 761, 762, 763, 764, 765, 766, 767, 768, 769, 770, 771, 772, 773, 774, 775, 776, 777, 778, 779, 780, 781, 782, 783, 784, 785, 786, 787, 788, 789, 790, 791, 792, 793, 794, 795, 796, 797, 798, 799, 800, 801, 802, 803, 804, 805, 806, 807, 808, 809, 830, 831, 832, 833, 834, 835, 836, 837, 838, 839, 841, 842, 843, 844, 845, 846, 847, 848, 849, 850, 851, 852, 853, 854, 855, 856, 857, 858, 859, 860, 861, 862, 863, 864, 865, 866, 867, 868, 869, 870, 871, 872, 873, 874, 875, 876, 877, 878, 879, 880, 881, 882, 883, 884, 885, 886, 887, 888, 889, 890, 912, 913, 914, 915, 916, 917, 918, 919, 921, 922, 923, 924, 925, 926, 927, 928, 929, 930, 931, 932, 933, 934, 935, 936, 937, 938, 939, 940, 941, 942, 943, 944, 945, 946, 947, 948, 949, 950, 951, 952, 953, 954, 955, 956, 957, 958, 959, 960, 961, 962, 963, 964, 965, 966, 967, 968, 969, 970, 971, 994, 995, 996, 997, 998, 999, 1001, 1002, 1003, 1004, 1005, 1006, 1007, 1008, 1009, 1010, 1011, 1012, 1013, 1014, 1015, 1016, 1017, 1018, 1019, 1020, 1021, 1022, 1023, 1024, 1025, 1026, 1027, 1028, 1029, 1030, 1031, 1032, 1033, 1034, 1035, 1036, 1037, 1038, 1039, 1040, 1041, 1042, 1043, 1044, 1045, 1046, 1047, 1048, 1049, 1050, 1051, 1052, 1076, 1077, 1078, 1079, 1081, 1082, 1083, 1084, 1085, 1086, 1087, 1088, 1089, 1090, 1091, 1092, 1093, 1094, 1095, 1096, 1097, 1098, 1099, 1100, 1101, 1102, 1103, 1104, 1105, 1106, 1107, 1108, 1109, 1110, 1111, 1112, 1113, 1114, 1115, 1116, 1117, 1118, 1119, 1120, 1121, 1122, 1123, 1124, 1125, 1126, 1127, 1128, 1129, 1130, 1131, 1132, 1133, 1134, 1157, 1158, 1159, 1161, 1162, 1163, 1164, 1165, 1166, 1167, 1168, 1169, 1170, 1171, 1172, 1173, 1174, 1175, 1176, 1177, 1178, 1179, 1180, 1181, 1182, 1183, 1184, 1185, 1186, 1187, 1188, 1189, 1190, 1191, 1192, 1193, 1194, 1195, 1196, 1197, 1198, 1199, 1200, 1201, 1202, 1203, 1204, 1205, 1206, 1207, 1208, 1209, 1210, 1211, 1212, 1213, 1214, 1215, 1216, 1239, 1241, 1242, 1243, 1244, 1245, 1246, 1247, 1248, 1249, 1250, 1251, 1252, 1253, 1254, 1255, 1256, 1257, 1258, 1259, 1260, 1261, 1262, 1263, 1264, 1265, 1266, 1267, 1268, 1269, 1270, 1271, 1272, 1273, 1274, 1275, 1276, 1277, 1278, 1279, 1280, 1281, 1282, 1283, 1284, 1285, 1286, 1287, 1288, 1289, 1290, 1291, 1292, 1293, 1294, 1295, 1296, 1297, 1298, 1299, 1321, 1322, 1323, 1324, 1325, 1326, 1327, 1328, 1329, 1330, 1331, 1332, 1333, 1334, 1335, 1336, 1337, 1338, 1339, 1340, 1341, 1342, 1343, 1344, 1345, 1346, 1347, 1348, 1349, 1350, 1351, 1352, 1353, 1354, 1355, 1356, 1357, 1358, 1359, 1360, 1361, 1362, 1363, 1364, 1365, 1366, 1367, 1368, 1369, 1370, 1371, 1372, 1373, 1374, 1375, 1376, 1377, 1378, 1379, 1380, 1381, 1402, 1403, 1404, 1405, 1406, 1407, 1408, 1409, 1410, 1411, 1412, 1413, 1414, 1415, 1416, 1417, 1418, 1419, 1420, 1421, 1422, 1423, 1424, 1425, 1426, 1427, 1428, 1429, 1430, 1431, 1432, 1433, 1434, 1435, 1436, 1437, 1438, 1439, 1440, 1441, 1442, 1443, 1444, 1445, 1446, 1447, 1448, 1449, 1450, 1451, 1452, 1453, 1454, 1455, 1456, 1457, 1458, 1459, 1460, 1461, 1462, 1463, 1464, 1484, 1485, 1486, 1487, 1488, 1489, 1490, 1491, 1492, 1493, 1494, 1495, 1496, 1497, 1498, 1499, 1500, 1501, 1502, 1503, 1504, 1505, 1506, 1507, 1508, 1509, 1510, 1511, 1512, 1513, 1514, 1515, 1516, 1517, 1518, 1519, 1520, 1521, 1522, 1523, 1524, 1525, 1526, 1527, 1528, 1529, 1530, 1531, 1532, 1533, 1534, 1535, 1536, 1537, 1538, 1539, 1540, 1541, 1542, 1543, 1544, 1545, 1546, 1566, 1567, 1568, 1569, 1570, 1571, 1572, 1573, 1574, 1575, 1576, 1577, 1578, 1579, 1580, 1581, 1582, 1583, 1584, 1585, 1586, 1587, 1588, 1589, 1590, 1591, 1592, 1593, 1594, 1595, 1596, 1597, 1598, 1599, 1600, 1601, 1602, 1603, 1604, 1605, 1606, 1607, 1608, 1609, 1610, 1611, 1612, 1613, 1614, 1615, 1616, 1617, 1618, 1619, 1620, 1621, 1622, 1623, 1624, 1625, 1626, 1627, 1628, 1648, 1649, 1650, 1651, 1652, 1653, 1654, 1655, 1656, 1657, 1658, 1659, 1660, 1661, 1662, 1663, 1664, 1665, 1666, 1667, 1668, 1669, 1670, 1671, 1672, 1673, 1674, 1675, 1676, 1677, 1678, 1679, 1680, 1681, 1682, 1683, 1684, 1685, 1686, 1687, 1688, 1689, 1690, 1691, 1692, 1693, 1694, 1695, 1696, 1697, 1698, 1699, 1701, 1702, 1703, 1704, 1705, 1706, 1707, 1708, 1709, 1710, 1711, 1729, 1730, 1731, 1732, 1733, 1734, 1735, 1736, 1737, 1738, 1739, 1740, 1741, 1742, 1743, 1744, 1745, 1746, 1747, 1748, 1749, 1750, 1751, 1752, 1753, 1754, 1755, 1756, 1757, 1758, 1759, 1760, 1761, 1762, 1763, 1764, 1765, 1766, 1767, 1768, 1769, 1770, 1771, 1772, 1773, 1774, 1775, 1776, 1777, 1778, 1779, 1781, 1782, 1783, 1784, 1785, 1786, 1787, 1788, 1789, 1790, 1791, 1792, 1793, 1811, 1812, 1813, 1814, 1815, 1816, 1817, 1818, 1819, 1820, 1821, 1822, 1823, 1824, 1825, 1826, 1827, 1828, 1829, 1830, 1831, 1832, 1833, 1834, 1835, 1836, 1837, 1838, 1839, 1840, 1841, 1842, 1843, 1844, 1845, 1846, 1847, 1848, 1849, 1850, 1851, 1852, 1853, 1854, 1855, 1856, 1857, 1858, 1859, 1861, 1862, 1863, 1864, 1865, 1866, 1867, 1868, 1869, 1870, 1871, 1872, 1873, 1874, 1875, 1876, 1893, 1894, 1895, 1896, 1897, 1898, 1899, 1900, 1901, 1902, 1903, 1904, 1905, 1906, 1907, 1908, 1909, 1910, 1911, 1912, 1913, 1914, 1915, 1916, 1917, 1918, 1919, 1920, 1921, 1922, 1923, 1924, 1925, 1926, 1927, 1928, 1929, 1930, 1931, 1932, 1933, 1934, 1935, 1936, 1937, 1938, 1939, 1941, 1942, 1943, 1944, 1945, 1946, 1947, 1948, 1949, 1950, 1951, 1952, 1953, 1954, 1955, 1956, 1957, 1958, 1975, 1976, 1977, 1978, 1979, 1980, 1981, 1982, 1983, 1984, 1985, 1986, 1987, 1988, 1989, 1990, 1991, 1992, 1993, 1994, 1995, 1996, 1997, 1998, 1999, 2000, 2001, 2002, 2003, 2004, 2005, 2006, 2007, 2008, 2009, 2010, 2011, 2012, 2013, 2014, 2015, 2016, 2017, 2018, 2019, 2021, 2022, 2023, 2024, 2025, 2026, 2027, 2028, 2029, 2030, 2031, 2032, 2033, 2034, 2035, 2036, 2037, 2038, 2039, 2056, 2057, 2058, 2059, 2060, 2061, 2062, 2063, 2064, 2065, 2066, 2067, 2068, 2069, 2070, 2071, 2072, 2073, 2074, 2075, 2076, 2077, 2078, 2079, 2080, 2081, 2082, 2083, 2084, 2085, 2086, 2087, 2088, 2089, 2090, 2091, 2092, 2093, 2094, 2095, 2096, 2097, 2098, 2099, 2101, 2102, 2103, 2104, 2105, 2106, 2107, 2108, 2109, 2110, 2111, 2112, 2113, 2114, 2115, 2116, 2117, 2118, 2119, 2121, 2122, 2123, 2138, 2139, 2140, 2141, 2142, 2143, 2144, 2145, 2146, 2147, 2148, 2149, 2150, 2151, 2152, 2153, 2154, 2155, 2156, 2157, 2158, 2159, 2160, 2161, 2162, 2163, 2164, 2165, 2166, 2167, 2168, 2169, 2170, 2171, 2172, 2173, 2174, 2175, 2176, 2177, 2178, 2179, 2181, 2182, 2183, 2184, 2185, 2186, 2187, 2188, 2189, 2190, 2191, 2192, 2193, 2194, 2195, 2196, 2197, 2198, 2199, 2201, 2202, 2203, 2204, 2205, 2220, 2221, 2222, 2223, 2224, 2225, 2226, 2227, 2228, 2229, 2230, 2231, 2232, 2233, 2234, 2235, 2236, 2237, 2238, 2239, 2240, 2241, 2242, 2243, 2244, 2245, 2246, 2247, 2248, 2249, 2250, 2251, 2252, 2253, 2254, 2255, 2256, 2257, 2258, 2259, 2261, 2262, 2263, 2264, 2265, 2266, 2267, 2268, 2269, 2270, 2271, 2272, 2273, 2274, 2275, 2276, 2277, 2278, 2279, 2281, 2282, 2283, 2284, 2285, 2286, 2287, 2288, 2301, 2302, 2303, 2304, 2305, 2306, 2307, 2308, 2309, 2310, 2311, 2312, 2313, 2314, 2315, 2316, 2317, 2318, 2319, 2320, 2321, 2322, 2323, 2324, 2325, 2326, 2327, 2328, 2329, 2330, 2331, 2332, 2333, 2334, 2335, 2336, 2337, 2338, 2339, 2341, 2342, 2343, 2344, 2345, 2346, 2347, 2348, 2349, 2350, 2351, 2352, 2353, 2354, 2355, 2356, 2357, 2358, 2359, 2361, 2362, 2363, 2364, 2365, 2366, 2367, 2368, 2369, 2370, 2383, 2384, 2385, 2386, 2387, 2388, 2389, 2390, 2391, 2392, 2393, 2394, 2395, 2396, 2397, 2398, 2399, 2400, 2401, 2402, 2403, 2404, 2405, 2406, 2407, 2408, 2409, 2410, 2411, 2412, 2413, 2414, 2415, 2416, 2417, 2418, 2419, 2421, 2422, 2423, 2424, 2425, 2426, 2427, 2428, 2429, 2430, 2431, 2432, 2433, 2434, 2435, 2436, 2437, 2438, 2439, 2441, 2442, 2443, 2444, 2445, 2446, 2447, 2448, 2449, 2450, 2451, 2452, 2453, 2465, 2466, 2467, 2468, 2469, 2470, 2471, 2472, 2473, 2474, 2475, 2476, 2477, 2478, 2479, 2480, 2481, 2482, 2483, 2484, 2485, 2486, 2487, 2488, 2489, 2490, 2491, 2492, 2493, 2494, 2495, 2496, 2497, 2498, 2499, 2501, 2502, 2503, 2504, 2505, 2506, 2507, 2508, 2509, 2510, 2511, 2512, 2513, 2514, 2515, 2516, 2517, 2518, 2519, 2521, 2522, 2523, 2524, 2525, 2526, 2527, 2528, 2529, 2530, 2531, 2532, 2533, 2534, 2535, 2547, 2548, 2549, 2550, 2551, 2552, 2553, 2554, 2555, 2556, 2557, 2558, 2559, 2560, 2561, 2562, 2563, 2564, 2565, 2566, 2567, 2568, 2569, 2570, 2571, 2572, 2573, 2574, 2575, 2576, 2577, 2578, 2579, 2581, 2582, 2583, 2584, 2585, 2586, 2587, 2588, 2589, 2590, 2591, 2592, 2593, 2594, 2595, 2596, 2597, 2598, 2599, 2601, 2602, 2603, 2604, 2605, 2606, 2607, 2608, 2609, 2610, 2611, 2612, 2613, 2614, 2615, 2616, 2617, 2628, 2629, 2630, 2631, 2632, 2633, 2634, 2635, 2636, 2637, 2638, 2639, 2640, 2641, 2642, 2643, 2644, 2645, 2646, 2647, 2648, 2649, 2650, 2651, 2652, 2653, 2654, 2655, 2656, 2657, 2658, 2659, 2661, 2662, 2663, 2664, 2665, 2666, 2667, 2668, 2669, 2670, 2671, 2672, 2673, 2674, 2675, 2676, 2677, 2678, 2679, 2681, 2682, 2683, 2684, 2685, 2686, 2687, 2688, 2689, 2690, 2691, 2692, 2693, 2694, 2695, 2696, 2697, 2698, 2699, 2700, 2710, 2711, 2712, 2713, 2714, 2715, 2716, 2717, 2718, 2719, 2720, 2721, 2722, 2723, 2724, 2725, 2726, 2727, 2728, 2729, 2730, 2731, 2732, 2733, 2734, 2735, 2736, 2737, 2738, 2739, 2741, 2742, 2743, 2744, 2745, 2746, 2747, 2748, 2749, 2750, 2751, 2752, 2753, 2754, 2755, 2756, 2757, 2758, 2759, 2761, 2762, 2763, 2764, 2765, 2766, 2767, 2768, 2769, 2770, 2771, 2772, 2773, 2774, 2775, 2776, 2777, 2778, 2779, 2780, 2781, 2782, 2792, 2793, 2794, 2795, 2796, 2797, 2798, 2799, 2800, 2801, 2802, 2803, 2804, 2805, 2806, 2807, 2808, 2809, 2810, 2811, 2812, 2813, 2814, 2815, 2816, 2817, 2818, 2819, 2821, 2822, 2823, 2824, 2825, 2826, 2827, 2828, 2829, 2830, 2831, 2832, 2833, 2834, 2835, 2836, 2837, 2838, 2839, 2841, 2842, 2843, 2844, 2845, 2846, 2847, 2848, 2849, 2850, 2851, 2852, 2853, 2854, 2855, 2856, 2857, 2858, 2859, 2860, 2861, 2862, 2863, 2864, 2865, 2874, 2875, 2876, 2877, 2878, 2879, 2880, 2881, 2882, 2883, 2884, 2885, 2886, 2887, 2888, 2889, 2890, 2891, 2892, 2893, 2894, 2895, 2896, 2897, 2898, 2899, 2901, 2902, 2903, 2904, 2905, 2906, 2907, 2908, 2909, 2910, 2911, 2912, 2913, 2914, 2915, 2916, 2917, 2918, 2919, 2921, 2922, 2923, 2924, 2925, 2926, 2927, 2928, 2929, 2930, 2931, 2932, 2933, 2934, 2935, 2936, 2937, 2938, 2939, 2940, 2941, 2942, 2943, 2944, 2945, 2946, 2947, 2955, 2956, 2957, 2958, 2959, 2960, 2961, 2962, 2963, 2964, 2965, 2966, 2967, 2968, 2969, 2970, 2971, 2972, 2973, 2974, 2975, 2976, 2977, 2978, 2979, 2981, 2982, 2983, 2984, 2985, 2986, 2987, 2988, 2989, 2990, 2991, 2992, 2993, 2994, 2995, 2996, 2997, 2998, 2999, 3001, 3002, 3003, 3004, 3005, 3006, 3007, 3008, 3009, 3010, 3011, 3012, 3013, 3014, 3015, 3016, 3017, 3018, 3019, 3020, 3021, 3022, 3023, 3024, 3025, 3026, 3027, 3028, 3029, 3037, 3038, 3039, 3040, 3041, 3042, 3043, 3044, 3045, 3046, 3047, 3048, 3049, 3050, 3051, 3052, 3053, 3054, 3055, 3056, 3057, 3058, 3059, 3061, 3062, 3063, 3064, 3065, 3066, 3067, 3068, 3069, 3070, 3071, 3072, 3073, 3074, 3075, 3076, 3077, 3078, 3079, 3081, 3082, 3083, 3084, 3085, 3086, 3087, 3088, 3089, 3090, 3091, 3092, 3093, 3094, 3095, 3096, 3097, 3098, 3099, 3100, 3101, 3102, 3103, 3104, 3105, 3106, 3107, 3108, 3109, 3110, 3111, 3112, 3119, 3120, 3121, 3122, 3123, 3124, 3125, 3126, 3127, 3128, 3129, 3130, 3131, 3132, 3133, 3134, 3135, 3136, 3137, 3138, 3139, 3141, 3142, 3143, 3144, 3145, 3146, 3147, 3148, 3149, 3150, 3151, 3152, 3153, 3154, 3155, 3156, 3157, 3158, 3159, 3161, 3162, 3163, 3164, 3165, 3166, 3167, 3168, 3169, 3170, 3171, 3172, 3173, 3174, 3175, 3176, 3177, 3178, 3179, 3180, 3181, 3182, 3183, 3184, 3185, 3186, 3187, 3188, 3189, 3190, 3191, 3192, 3193, 3194, 3201, 3202, 3203, 3204, 3205, 3206, 3207, 3208, 3209, 3210, 3211, 3212, 3213, 3214, 3215, 3216, 3217, 3218, 3219, 3221, 3222, 3223, 3224, 3225, 3226, 3227, 3228, 3229, 3230, 3231, 3232, 3233, 3234, 3235, 3236, 3237, 3238, 3239, 3241, 3242, 3243, 3244, 3245, 3246, 3247, 3248, 3249, 3250, 3251, 3252, 3253, 3254, 3255, 3256, 3257, 3258, 3259, 3260, 3261, 3262, 3263, 3264, 3265, 3266, 3267, 3268, 3269, 3270, 3271, 3272, 3273, 3274, 3275, 3276, 3277, 3282, 3283, 3284, 3285, 3286, 3287, 3288, 3289, 3290, 3291, 3292, 3293, 3294, 3295, 3296, 3297, 3298, 3299, 3301, 3302, 3303, 3304, 3305, 3306, 3307, 3308, 3309, 3310, 3311, 3312, 3313, 3314, 3315, 3316, 3317, 3318, 3319, 3320, 3321, 3322, 3323, 3324, 3325, 3326, 3327, 3328, 3329, 3330, 3331, 3332, 3333, 3334, 3335, 3336, 3337, 3338, 3339, 3340, 3341, 3342, 3343, 3344, 3345, 3346, 3347, 3348, 3349, 3350, 3351, 3352, 3353, 3354, 3355, 3356, 3357, 3358, 3359, 3364, 3365, 3366, 3367, 3368, 3369, 3370, 3371, 3372, 3373, 3374, 3375, 3376, 3377, 3378, 3379, 3381, 3382, 3383, 3384, 3385, 3386, 3387, 3388, 3389, 3390, 3391, 3392, 3393, 3394, 3395, 3396, 3397, 3398, 3399, 3400, 3401, 3402, 3403, 3404, 3405, 3406, 3407, 3408, 3409, 3410, 3411, 3412, 3413, 3414, 3415, 3416, 3417, 3418, 3419, 3420, 3421, 3422, 3423, 3424, 3425, 3426, 3427, 3428, 3429, 3430, 3431, 3432, 3433, 3434, 3435, 3436, 3437, 3438, 3439, 3440, 3441, 3442, 3446, 3447, 3448, 3449, 3450, 3451, 3452, 3453, 3454, 3455, 3456, 3457, 3458, 3459, 3461, 3462, 3463, 3464, 3465, 3466, 3467, 3468, 3469, 3470, 3471, 3472, 3473, 3474, 3475, 3476, 3477, 3478, 3479, 3480, 3481, 3482, 3483, 3484, 3485, 3486, 3487, 3488, 3489, 3490, 3491, 3492, 3493, 3494, 3495, 3496, 3497, 3498, 3499, 3500, 3501, 3502, 3503, 3504, 3505, 3506, 3507, 3508, 3509, 3510, 3511, 3512, 3513, 3514, 3515, 3516, 3517, 3518, 3519, 3520, 3521, 3522, 3523, 3524, 3527, 3528, 3529, 3530, 3531, 3532, 3533, 3534, 3535, 3536, 3537, 3538, 3539, 3541, 3542, 3543, 3544, 3545, 3546, 3547, 3548, 3549, 3550, 3551, 3552, 3553, 3554, 3555, 3556, 3557, 3558, 3559, 3560, 3561, 3562, 3563, 3564, 3565, 3566, 3567, 3568, 3569, 3570, 3571, 3572, 3573, 3574, 3575, 3576, 3577, 3578, 3579, 3580, 3581, 3582, 3583, 3584, 3585, 3586, 3587, 3588, 3589, 3590, 3591, 3592, 3593, 3594, 3595, 3596, 3597, 3598, 3599, 3600, 3601, 3602, 3603, 3604, 3605, 3606, 3609, 3610, 3611, 3612, 3613, 3614, 3615, 3616, 3617, 3618, 3619, 3621, 3622, 3623, 3624, 3625, 3626, 3627, 3628, 3629, 3630, 3631, 3632, 3633, 3634, 3635, 3636, 3637, 3638, 3639, 3640, 3641, 3642, 3643, 3644, 3645, 3646, 3647, 3648, 3649, 3650, 3651, 3652, 3653, 3654, 3655, 3656, 3657, 3658, 3659, 3660, 3661, 3662, 3663, 3664, 3665, 3666, 3667, 3668, 3669, 3670, 3671, 3672, 3673, 3674, 3675, 3676, 3677, 3678, 3679, 3680, 3681, 3682, 3683, 3684, 3685, 3686, 3687, 3688, 3689, 3691, 3692, 3693, 3694, 3695, 3696, 3697, 3698, 3699, 3701, 3702, 3703, 3704, 3705, 3706, 3707, 3708, 3709, 3710, 3711, 3712, 3713, 3714, 3715, 3716, 3717, 3718, 3719, 3720, 3721, 3722, 3723, 3724, 3725, 3726, 3727, 3728, 3729, 3730, 3731, 3732, 3733, 3734, 3735, 3736, 3737, 3738, 3739, 3740, 3741, 3742, 3743, 3744, 3745, 3746, 3747, 3748, 3749, 3750, 3751, 3752, 3753, 3754, 3755, 3756, 3757, 3758, 3759, 3760, 3761, 3762, 3763, 3764, 3765, 3766, 3767, 3768, 3769, 3770, 3771, 3773, 3774, 3775, 3776, 3777, 3778, 3779, 3781, 3782, 3783, 3784, 3785, 3786, 3787, 3788, 3789, 3790, 3791, 3792, 3793, 3794, 3795, 3796, 3797, 3798, 3799, 3800, 3801, 3802, 3803, 3804, 3805, 3806, 3807, 3808, 3809, 3810, 3811, 3812, 3813, 3814, 3815, 3816, 3817, 3818, 3819, 3820, 3821, 3822, 3823, 3824, 3825, 3826, 3827, 3828, 3829, 3830, 3831, 3832, 3833, 3834, 3835, 3836, 3837, 3838, 3839, 3840, 3841, 3842, 3843, 3844, 3845, 3846, 3847, 3848, 3849, 3850, 3851, 3852, 3853, 3855, 3856, 3857, 3858, 3859, 3861, 3862, 3863, 3864, 3865, 3866, 3867, 3868, 3869, 3870, 3871, 3872, 3873, 3874, 3875, 3876, 3877, 3878, 3879, 3880, 3881, 3882, 3883, 3884, 3885, 3886, 3887, 3888, 3889, 3890, 3891, 3892, 3893, 3894, 3895, 3896, 3897, 3898, 3899, 3900, 3901, 3902, 3903, 3904, 3905, 3906, 3907, 3908, 3909, 3910, 3911, 3912, 3913, 3914, 3915, 3916, 3917, 3918, 3919, 3920, 3921, 3922, 3923, 3924, 3925, 3926, 3927, 3928, 3929, 3930, 3931, 3932, 3933, 3934, 3935, 3937, 3938, 3939, 3941, 3942, 3943, 3944, 3945, 3946, 3947, 3948, 3949, 3950, 3951, 3952, 3953, 3954, 3955, 3956, 3957, 3958, 3959, 3960, 3961, 3962, 3963, 3964, 3965, 3966, 3967, 3968, 3969, 3970, 3971, 3972, 3973, 3974, 3975, 3976, 3977, 3978, 3979, 3980, 3981, 3982, 3983, 3984, 3985, 3986, 3987, 3988, 3989, 3990, 3991, 3992, 3993, 3994, 3995, 3996, 3997, 3998, 3999, 4000, 4001, 4002, 4003, 4004, 4005, 4006, 4007, 4008, 4009, 4010, 4011, 4012, 4013, 4014, 4015, 4016, 4017, 4021, 4022, 4023, 4024, 4025, 4026, 4027, 4028, 4029, 4030, 4031, 4032, 4033, 4034, 4035, 4036, 4037, 4038, 4039, 4040, 4041, 4042, 4043, 4044, 4045, 4046, 4047, 4048, 4049, 4050, 4051, 4052, 4053, 4054, 4055, 4056, 4057, 4058, 4059, 4060, 4061, 4062, 4063, 4064, 4065, 4066, 4067, 4068, 4069, 4070, 4071, 4072, 4073, 4074, 4075, 4076, 4077, 4078, 4079, 4080, 4081, 4082, 4083, 4084, 4085, 4086, 4087, 4088, 4089, 4090, 4091, 4092, 4093, 4094, 4095, 4096, 4097, 4098, 4102, 4103, 4104, 4105, 4106, 4107, 4108, 4109, 4110, 4111, 4112, 4113, 4114, 4115, 4116, 4117, 4118, 4119, 4120, 4121, 4122, 4123, 4124, 4125, 4126, 4127, 4128, 4129, 4130, 4131, 4132, 4133, 4134, 4135, 4136, 4137, 4138, 4139, 4140, 4141, 4142, 4143, 4144, 4145, 4146, 4147, 4148, 4149, 4150, 4151, 4152, 4153, 4154, 4155, 4156, 4157, 4158, 4159, 4160, 4161, 4162, 4163, 4164, 4165, 4166, 4167, 4168, 4169, 4170, 4171, 4172, 4173, 4174, 4175, 4176, 4177, 4178, 4179, 4184, 4185, 4186, 4187, 4188, 4189, 4190, 4191, 4192, 4193, 4194, 4195, 4196, 4197, 4198, 4199, 4200, 4201, 4202, 4203, 4204, 4205, 4206, 4207, 4208, 4209, 4210, 4211, 4212, 4213, 4214, 4215, 4216, 4217, 4218, 4219, 4220, 4221, 4222, 4223, 4224, 4225, 4226, 4227, 4228, 4229, 4230, 4231, 4232, 4233, 4234, 4235, 4236, 4237, 4238, 4239, 4240, 4241, 4242, 4243, 4244, 4245, 4246, 4247, 4248, 4249, 4250, 4251, 4252, 4253, 4254, 4255, 4256, 4257, 4258, 4259, 4261, 4262, 4267, 4268, 4269, 4270, 4271, 4272, 4273, 4274, 4275, 4276, 4277, 4278, 4279, 4280, 4281, 4282, 4283, 4284, 4285, 4286, 4287, 4288, 4289, 4290, 4291, 4292, 4293, 4294, 4295, 4296, 4297, 4298, 4299, 4300, 4301, 4302, 4303, 4304, 4305, 4306, 4307, 4308, 4309, 4310, 4311, 4312, 4313, 4314, 4315, 4316, 4317, 4318, 4319, 4320, 4321, 4322, 4323, 4324, 4325, 4326, 4327, 4328, 4329, 4330, 4331, 4332, 4333, 4334, 4335, 4336, 4337, 4338, 4339, 4341, 4342, 4343, 4344, 4349, 4350, 4351, 4352, 4353, 4354, 4355, 4356, 4357, 4358, 4359, 4360, 4361, 4362, 4363, 4364, 4365, 4366, 4367, 4368, 4369, 4370, 4371, 4372, 4373, 4374, 4375, 4376, 4377, 4378, 4379, 4380, 4381, 4382, 4383, 4384, 4385, 4386, 4387, 4388, 4389, 4390, 4391, 4392, 4393, 4394, 4395, 4396, 4397, 4398, 4399, 4400, 4401, 4402, 4403, 4404, 4405, 4406, 4407, 4408, 4409, 4410, 4411, 4412, 4413, 4414, 4415, 4416, 4417, 4418, 4419, 4421, 4422, 4423, 4424, 4425, 4426, 4432, 4433, 4434, 4435, 4436, 4437, 4438, 4439, 4440, 4441, 4442, 4443, 4444, 4445, 4446, 4447, 4448, 4449, 4450, 4451, 4452, 4453, 4454, 4455, 4456, 4457, 4458, 4459, 4460, 4461, 4462, 4463, 4464, 4465, 4466, 4467, 4468, 4469, 4470, 4471, 4472, 4473, 4474, 4475, 4476, 4477, 4478, 4479, 4480, 4481, 4482, 4483, 4484, 4485, 4486, 4487, 4488, 4489, 4490, 4491, 4492, 4493, 4494, 4495, 4496, 4497, 4498, 4499, 4501, 4502, 4503, 4504, 4505, 4506, 4507, 4514, 4515, 4516, 4517, 4518, 4519, 4520, 4521, 4522, 4523, 4524, 4525, 4526, 4527, 4528, 4529, 4530, 4531, 4532, 4533, 4534, 4535, 4536, 4537, 4538, 4539, 4540, 4541, 4542, 4543, 4544, 4545, 4546, 4547, 4548, 4549, 4550, 4551, 4552, 4553, 4554, 4555, 4556, 4557, 4558, 4559, 4560, 4561, 4562, 4563, 4564, 4565, 4566, 4567, 4568, 4569, 4570, 4571, 4572, 4573, 4574, 4575, 4576, 4577, 4578, 4579, 4581, 4582, 4583, 4584, 4585, 4586, 4587, 4588, 4589, 4596, 4597, 4598, 4599, 4600, 4601, 4602, 4603, 4604, 4605, 4606, 4607, 4608, 4609, 4610, 4611, 4612, 4613, 4614, 4615, 4616, 4617, 4618, 4619, 4620, 4621, 4622, 4623, 4624, 4625, 4626, 4627, 4628, 4629, 4630, 4631, 4632, 4633, 4634, 4635, 4636, 4637, 4638, 4639, 4640, 4641, 4642, 4643, 4644, 4645, 4646, 4647, 4648, 4649, 4650, 4651, 4652, 4653, 4654, 4655, 4656, 4657, 4658, 4659, 4661, 4662, 4663, 4664, 4665, 4666, 4667, 4668, 4669, 4670, 4671, 4679, 4680, 4681, 4682, 4683, 4684, 4685, 4686, 4687, 4688, 4689, 4690, 4691, 4692, 4693, 4694, 4695, 4696, 4697, 4698, 4699, 4700, 4701, 4702, 4703, 4704, 4705, 4706, 4707, 4708, 4709, 4710, 4711, 4712, 4713, 4714, 4715, 4716, 4717, 4718, 4719, 4720, 4721, 4722, 4723, 4724, 4725, 4726, 4727, 4728, 4729, 4730, 4731, 4732, 4733, 4734, 4735, 4736, 4737, 4738, 4739, 4741, 4742, 4743, 4744, 4745, 4746, 4747, 4748, 4749, 4750, 4751, 4752, 4761, 4762, 4763, 4764, 4765, 4766, 4767, 4768, 4769, 4770, 4771, 4772, 4773, 4774, 4775, 4776, 4777, 4778, 4779, 4780, 4781, 4782, 4783, 4784, 4785, 4786, 4787, 4788, 4789, 4790, 4791, 4792, 4793, 4794, 4795, 4796, 4797, 4798, 4799, 4800, 4801, 4802, 4803, 4804, 4805, 4806, 4807, 4808, 4809, 4810, 4811, 4812, 4813, 4814, 4815, 4816, 4817, 4818, 4819, 4821, 4822, 4823, 4824, 4825, 4826, 4827, 4828, 4829, 4830, 4831, 4832, 4833, 4834, 4844, 4845, 4846, 4847, 4848, 4849, 4850, 4851, 4852, 4853, 4854, 4855, 4856, 4857, 4858, 4859, 4860, 4861, 4862, 4863, 4864, 4865, 4866, 4867, 4868, 4869, 4870, 4871, 4872, 4873, 4874, 4875, 4876, 4877, 4878, 4879, 4880, 4881, 4882, 4883, 4884, 4885, 4886, 4887, 4888, 4889, 4890, 4891, 4892, 4893, 4894, 4895, 4896, 4897, 4898, 4899, 4901, 4902, 4903, 4904, 4905, 4906, 4907, 4908, 4909, 4910, 4911, 4912, 4913, 4914, 4915, 4916, 4926, 4927, 4928, 4929, 4930, 4931, 4932, 4933, 4934, 4935, 4936, 4937, 4938, 4939, 4940, 4941, 4942, 4943, 4944, 4945, 4946, 4947, 4948, 4949, 4950, 4951, 4952, 4953, 4954, 4955, 4956, 4957, 4958, 4959, 4960, 4961, 4962, 4963, 4964, 4965, 4966, 4967, 4968, 4969, 4970, 4971, 4972, 4973, 4974, 4975, 4976, 4977, 4978, 4979, 4981, 4982, 4983, 4984, 4985, 4986, 4987, 4988, 4989, 4990, 4991, 4992, 4993, 4994, 4995, 4996, 4997, 4998, 5008, 5009, 5010, 5011, 5012, 5013, 5014, 5015, 5016, 5017, 5018, 5019, 5020, 5021, 5022, 5023, 5024, 5025, 5026, 5027, 5028, 5029, 5030, 5031, 5032, 5033, 5034, 5035, 5036, 5037, 5038, 5039, 5040, 5041, 5042, 5043, 5044, 5045, 5046, 5047, 5048, 5049, 5050, 5051, 5052, 5053, 5054, 5055, 5056, 5057, 5058, 5059, 5061, 5062, 5063, 5064, 5065, 5066, 5067, 5068, 5069, 5070, 5071, 5072, 5073, 5074, 5075, 5076, 5077, 5078, 5079, 5091, 5092, 5093, 5094, 5095, 5096, 5097, 5098, 5099, 5100, 5101, 5102, 5103, 5104, 5105, 5106, 5107, 5108, 5109, 5110, 5111, 5112, 5113, 5114, 5115, 5116, 5117, 5118, 5119, 5120, 5121, 5122, 5123, 5124, 5125, 5126, 5127, 5128, 5129, 5130, 5131, 5132, 5133, 5134, 5135, 5136, 5137, 5138, 5139, 5141, 5142, 5143, 5144, 5145, 5146, 5147, 5148, 5149, 5150, 5151, 5152, 5153, 5154, 5155, 5156, 5157, 5158, 5159, 5160, 5161, 5173, 5174, 5175, 5176, 5177, 5178, 5179, 5180, 5181, 5182, 5183, 5184, 5185, 5186, 5187, 5188, 5189, 5190, 5191, 5192, 5193, 5194, 5195, 5196, 5197, 5198, 5199, 5200, 5201, 5202, 5203, 5204, 5205, 5206, 5207, 5208, 5209, 5210, 5211, 5212, 5213, 5214, 5215, 5216, 5217, 5218, 5219, 5221, 5222, 5223, 5224, 5225, 5226, 5227, 5228, 5229, 5230, 5231, 5232, 5233, 5234, 5235, 5236, 5237, 5238, 5239, 5240, 5241, 5242, 5243, 5256, 5257, 5258, 5259, 5260, 5261, 5262, 5263, 5264, 5265, 5266, 5267, 5268, 5269, 5270, 5271, 5272, 5273, 5274, 5275, 5276, 5277, 5278, 5279, 5280, 5281, 5282, 5283, 5284, 5285, 5286, 5287, 5288, 5289, 5290, 5291, 5292, 5293, 5294, 5295, 5296, 5297, 5298, 5299, 5301, 5302, 5303, 5304, 5305, 5306, 5307, 5308, 5309, 5310, 5311, 5312, 5313, 5314, 5315, 5316, 5317, 5318, 5319, 5320, 5321, 5322, 5323, 5324, 5325, 5338, 5339, 5340, 5341, 5342, 5343, 5344, 5345, 5346, 5347, 5348, 5349, 5350, 5351, 5352, 5353, 5354, 5355, 5356, 5357, 5358, 5359, 5360, 5361, 5362, 5363, 5364, 5365, 5366, 5367, 5368, 5369, 5370, 5371, 5372, 5373, 5374, 5375, 5376, 5377, 5378, 5379, 5381, 5382, 5383, 5384, 5385, 5386, 5387, 5388, 5389, 5390, 5391, 5392, 5393, 5394, 5395, 5396, 5397, 5398, 5399, 5400, 5401, 5402, 5403, 5404, 5405, 5406, 5421, 5422, 5423, 5424, 5425, 5426, 5427, 5428, 5429, 5430, 5431, 5432, 5433, 5434, 5435, 5436, 5437, 5438, 5439, 5440, 5441, 5442, 5443, 5444, 5445, 5446, 5447, 5448, 5449, 5450, 5451, 5452, 5453, 5454, 5455, 5456, 5457, 5458, 5459, 5461, 5462, 5463, 5464, 5465, 5466, 5467, 5468, 5469, 5470, 5471, 5472, 5473, 5474, 5475, 5476, 5477, 5478, 5479, 5480, 5481, 5482, 5483, 5484, 5485, 5486, 5487, 5488, 5503, 5504, 5505, 5506, 5507, 5508, 5509, 5510, 5511, 5512, 5513, 5514, 5515, 5516, 5517, 5518, 5519, 5520, 5521, 5522, 5523, 5524, 5525, 5526, 5527, 5528, 5529, 5530, 5531, 5532, 5533, 5534, 5535, 5536, 5537, 5538, 5539, 5541, 5542, 5543, 5544, 5545, 5546, 5547, 5548, 5549, 5550, 5551, 5552, 5553, 5554, 5555, 5556, 5557, 5558, 5559, 5560, 5561, 5562, 5563, 5564, 5565, 5566, 5567, 5568, 5569, 5570, 5585, 5586, 5587, 5588, 5589, 5590, 5591, 5592, 5593, 5594, 5595, 5596, 5597, 5598, 5599, 5600, 5601, 5602, 5603, 5604, 5605, 5606, 5607, 5608, 5609, 5610, 5611, 5612, 5613, 5614, 5615, 5616, 5617, 5618, 5619, 5621, 5622, 5623, 5624, 5625, 5626, 5627, 5628, 5629, 5630, 5631, 5632, 5633, 5634, 5635, 5636, 5637, 5638, 5639, 5640, 5641, 5642, 5643, 5644, 5645, 5646, 5647, 5648, 5649, 5650, 5651, 5652, 5668, 5669, 5670, 5671, 5672, 5673, 5674, 5675, 5676, 5677, 5678, 5679, 5680, 5681, 5682, 5683, 5684, 5685, 5686, 5687, 5688, 5689, 5690, 5691, 5692, 5693, 5694, 5695, 5696, 5697, 5698, 5699, 5701, 5702, 5703, 5704, 5705, 5706, 5707, 5708, 5709, 5710, 5711, 5712, 5713, 5714, 5715, 5716, 5717, 5718, 5719, 5720, 5721, 5722, 5723, 5724, 5725, 5726, 5727, 5728, 5729, 5730, 5731, 5732, 5733, 5750, 5751, 5752, 5753, 5754, 5755, 5756, 5757, 5758, 5759, 5760, 5761, 5762, 5763, 5764, 5765, 5766, 5767, 5768, 5769, 5770, 5771, 5772, 5773, 5774, 5775, 5776, 5777, 5778, 5779, 5781, 5782, 5783, 5784, 5785, 5786, 5787, 5788, 5789, 5790, 5791, 5792, 5793, 5794, 5795, 5796, 5797, 5798, 5799, 5800, 5801, 5802, 5803, 5804, 5805, 5806, 5807, 5808, 5809, 5810, 5811, 5812, 5813, 5814, 5815, 5832, 5833, 5834, 5835, 5836, 5837, 5838, 5839, 5840, 5841, 5842, 5843, 5844, 5845, 5846, 5847, 5848, 5849, 5850, 5851, 5852, 5853, 5854, 5855, 5856, 5857, 5858, 5859, 5861, 5862, 5863, 5864, 5865, 5866, 5867, 5868, 5869, 5870, 5871, 5872, 5873, 5874, 5875, 5876, 5877, 5878, 5879, 5880, 5881, 5882, 5883, 5884, 5885, 5886, 5887, 5888, 5889, 5890, 5891, 5892, 5893, 5894, 5895, 5896, 5897, 5913, 5914, 5915, 5916, 5917, 5918, 5919, 5920, 5921, 5922, 5923, 5924, 5925, 5926, 5927, 5928, 5929, 5930, 5931, 5932, 5933, 5934, 5935, 5936, 5937, 5938, 5939, 5941, 5942, 5943, 5944, 5945, 5946, 5947, 5948, 5949, 5950, 5951, 5952, 5953, 5954, 5955, 5956, 5957, 5958, 5959, 5960, 5961, 5962, 5963, 5964, 5965, 5966, 5967, 5968, 5969, 5970, 5971, 5972, 5973, 5974, 5975, 5976, 5977, 5978, 5994, 5995, 5996, 5997, 5998, 5999, 6000, 6001, 6002, 6003, 6004, 6005, 6006, 6007, 6008, 6009, 6010, 6011, 6012, 6013, 6014, 6015, 6016, 6017, 6018, 6019, 6021, 6022, 6023, 6024, 6025, 6026, 6027, 6028, 6029, 6030, 6031, 6032, 6033, 6034, 6035, 6036, 6037, 6038, 6039, 6040, 6041, 6042, 6043, 6044, 6045, 6046, 6047, 6048, 6049, 6050, 6051, 6052, 6053, 6054, 6055, 6056, 6057, 6058, 6059, 6060, 6075, 6076, 6077, 6078, 6079, 6080, 6081, 6082, 6083, 6084, 6085, 6086, 6087, 6088, 6089, 6090, 6091, 6092, 6093, 6094, 6095, 6096, 6097, 6098, 6099, 6101, 6102, 6103, 6104, 6105, 6106, 6107, 6108, 6109, 6110, 6111, 6112, 6113, 6114, 6115, 6116, 6117, 6118, 6119, 6120, 6121, 6122, 6123, 6124, 6125, 6126, 6127, 6128, 6129, 6130, 6131, 6132, 6133, 6134, 6135, 6136, 6137, 6138, 6139, 6140, 6141, 6142, 6156, 6157, 6158, 6159, 6160, 6161, 6162, 6163, 6164, 6165, 6166, 6167, 6168, 6169, 6170, 6171, 6172, 6173, 6174, 6175, 6176, 6177, 6178, 6179, 6181, 6182, 6183, 6184, 6185, 6186, 6187, 6188, 6189, 6190, 6191, 6192, 6193, 6194, 6195, 6196, 6197, 6198, 6199, 6200, 6201, 6202, 6203, 6204, 6205, 6206, 6207, 6208, 6209, 6210, 6211, 6212, 6213, 6214, 6215, 6216, 6217, 6218, 6219, 6220, 6221, 6222, 6223, 6224, 6237, 6238, 6239, 6240, 6241, 6242, 6243, 6244, 6245, 6246, 6247, 6248, 6249, 6250, 6251, 6252, 6253, 6254, 6255, 6256, 6257, 6258, 6259, 6261, 6262, 6263, 6264, 6265, 6266, 6267, 6268, 6269, 6270, 6271, 6272, 6273, 6274, 6275, 6276, 6277, 6278, 6279, 6280, 6281, 6282, 6283, 6284, 6285, 6286, 6287, 6288, 6289, 6290, 6291, 6292, 6293, 6294, 6295, 6296, 6297, 6298, 6299, 6300, 6301, 6302, 6303, 6304, 6305, 6318, 6319, 6320, 6321, 6322, 6323, 6324, 6325, 6326, 6327, 6328, 6329, 6330, 6331, 6332, 6333, 6334, 6335, 6336, 6337, 6338, 6339, 6341, 6342, 6343, 6344, 6345, 6346, 6347, 6348, 6349, 6350, 6351, 6352, 6353, 6354, 6355, 6356, 6357, 6358, 6359, 6360, 6361, 6362, 6363, 6364, 6365, 6366, 6367, 6368, 6369, 6370, 6371, 6372, 6373, 6374, 6375, 6376, 6377, 6378, 6379, 6380, 6381, 6382, 6383, 6384, 6385, 6386, 6387, 6399, 6400, 6401, 6402, 6403, 6404, 6405, 6406, 6407, 6408, 6409, 6410, 6411, 6412, 6413, 6414, 6415, 6416, 6417, 6418, 6419, 6421, 6422, 6423, 6424, 6425, 6426, 6427, 6428, 6429, 6430, 6431, 6432, 6433, 6434, 6435, 6436, 6437, 6438, 6439, 6440, 6441, 6442, 6443, 6444, 6445, 6446, 6447, 6448, 6449, 6450, 6451, 6452, 6453, 6454, 6455, 6456, 6457, 6458, 6459, 6460, 6461, 6462, 6463, 6464, 6465, 6466, 6467, 6468, 6469, 6480, 6481, 6482, 6483, 6484, 6485, 6486, 6487, 6488, 6489, 6490, 6491, 6492, 6493, 6494, 6495, 6496, 6497, 6498, 6499, 6501, 6502, 6503, 6504, 6505, 6506, 6507, 6508, 6509, 6510, 6511, 6512, 6513, 6514, 6515, 6516, 6517, 6518, 6519, 6520, 6521, 6522, 6523, 6524, 6525, 6526, 6527, 6528, 6529, 6530, 6531, 6532, 6533, 6534, 6535, 6536, 6537, 6538, 6539, 6540, 6541, 6542, 6543, 6544, 6545, 6546, 6547, 6548, 6549, 6550, 6551]\n",
      "val ids:  []\n",
      "test ids:  [0, 1, 2, 3, 4, 5, 6, 7, 8, 9, 10, 11, 12, 40, 81, 82, 83, 84, 85, 86, 87, 88, 89, 90, 91, 92, 93, 94, 120, 162, 163, 164, 165, 166, 167, 168, 169, 170, 171, 172, 173, 174, 175, 200, 243, 244, 245, 246, 247, 248, 249, 250, 251, 252, 253, 254, 255, 256, 257, 280, 324, 325, 326, 327, 328, 329, 330, 331, 332, 333, 334, 335, 336, 337, 338, 339, 360, 405, 406, 407, 408, 409, 410, 411, 412, 413, 414, 415, 416, 417, 418, 419, 420, 421, 440, 486, 487, 488, 489, 490, 491, 492, 493, 494, 495, 496, 497, 498, 499, 500, 501, 502, 520, 567, 568, 569, 570, 571, 572, 573, 574, 575, 576, 577, 578, 579, 580, 581, 582, 583, 584, 600, 648, 649, 650, 651, 652, 653, 654, 655, 656, 657, 658, 659, 660, 661, 662, 663, 664, 665, 666, 680, 729, 730, 731, 732, 733, 734, 735, 736, 737, 738, 739, 740, 741, 742, 743, 744, 745, 746, 747, 748, 760, 810, 811, 812, 813, 814, 815, 816, 817, 818, 819, 820, 821, 822, 823, 824, 825, 826, 827, 828, 829, 840, 891, 892, 893, 894, 895, 896, 897, 898, 899, 900, 901, 902, 903, 904, 905, 906, 907, 908, 909, 910, 911, 920, 972, 973, 974, 975, 976, 977, 978, 979, 980, 981, 982, 983, 984, 985, 986, 987, 988, 989, 990, 991, 992, 993, 1000, 1053, 1054, 1055, 1056, 1057, 1058, 1059, 1060, 1061, 1062, 1063, 1064, 1065, 1066, 1067, 1068, 1069, 1070, 1071, 1072, 1073, 1074, 1075, 1080, 1135, 1136, 1137, 1138, 1139, 1140, 1141, 1142, 1143, 1144, 1145, 1146, 1147, 1148, 1149, 1150, 1151, 1152, 1153, 1154, 1155, 1156, 1160, 1217, 1218, 1219, 1220, 1221, 1222, 1223, 1224, 1225, 1226, 1227, 1228, 1229, 1230, 1231, 1232, 1233, 1234, 1235, 1236, 1237, 1238, 1240, 1300, 1301, 1302, 1303, 1304, 1305, 1306, 1307, 1308, 1309, 1310, 1311, 1312, 1313, 1314, 1315, 1316, 1317, 1318, 1319, 1320, 1382, 1383, 1384, 1385, 1386, 1387, 1388, 1389, 1390, 1391, 1392, 1393, 1394, 1395, 1396, 1397, 1398, 1399, 1400, 1401, 1465, 1466, 1467, 1468, 1469, 1470, 1471, 1472, 1473, 1474, 1475, 1476, 1477, 1478, 1479, 1480, 1481, 1482, 1483, 1547, 1548, 1549, 1550, 1551, 1552, 1553, 1554, 1555, 1556, 1557, 1558, 1559, 1560, 1561, 1562, 1563, 1564, 1565, 1629, 1630, 1631, 1632, 1633, 1634, 1635, 1636, 1637, 1638, 1639, 1640, 1641, 1642, 1643, 1644, 1645, 1646, 1647, 1700, 1712, 1713, 1714, 1715, 1716, 1717, 1718, 1719, 1720, 1721, 1722, 1723, 1724, 1725, 1726, 1727, 1728, 1780, 1794, 1795, 1796, 1797, 1798, 1799, 1800, 1801, 1802, 1803, 1804, 1805, 1806, 1807, 1808, 1809, 1810, 1860, 1877, 1878, 1879, 1880, 1881, 1882, 1883, 1884, 1885, 1886, 1887, 1888, 1889, 1890, 1891, 1892, 1940, 1959, 1960, 1961, 1962, 1963, 1964, 1965, 1966, 1967, 1968, 1969, 1970, 1971, 1972, 1973, 1974, 2020, 2040, 2041, 2042, 2043, 2044, 2045, 2046, 2047, 2048, 2049, 2050, 2051, 2052, 2053, 2054, 2055, 2100, 2120, 2124, 2125, 2126, 2127, 2128, 2129, 2130, 2131, 2132, 2133, 2134, 2135, 2136, 2137, 2180, 2200, 2206, 2207, 2208, 2209, 2210, 2211, 2212, 2213, 2214, 2215, 2216, 2217, 2218, 2219, 2260, 2280, 2289, 2290, 2291, 2292, 2293, 2294, 2295, 2296, 2297, 2298, 2299, 2300, 2340, 2360, 2371, 2372, 2373, 2374, 2375, 2376, 2377, 2378, 2379, 2380, 2381, 2382, 2420, 2440, 2454, 2455, 2456, 2457, 2458, 2459, 2460, 2461, 2462, 2463, 2464, 2500, 2520, 2536, 2537, 2538, 2539, 2540, 2541, 2542, 2543, 2544, 2545, 2546, 2580, 2600, 2618, 2619, 2620, 2621, 2622, 2623, 2624, 2625, 2626, 2627, 2660, 2680, 2701, 2702, 2703, 2704, 2705, 2706, 2707, 2708, 2709, 2740, 2760, 2783, 2784, 2785, 2786, 2787, 2788, 2789, 2790, 2791, 2820, 2840, 2866, 2867, 2868, 2869, 2870, 2871, 2872, 2873, 2900, 2920, 2948, 2949, 2950, 2951, 2952, 2953, 2954, 2980, 3000, 3030, 3031, 3032, 3033, 3034, 3035, 3036, 3060, 3080, 3113, 3114, 3115, 3116, 3117, 3118, 3140, 3160, 3195, 3196, 3197, 3198, 3199, 3200, 3220, 3240, 3278, 3279, 3280, 3281, 3300, 3360, 3361, 3362, 3363, 3380, 3443, 3444, 3445, 3460, 3525, 3526, 3540, 3607, 3608, 3620, 3690, 3700, 3772, 3780, 3854, 3860, 3936, 3940, 4018, 4019, 4020, 4099, 4100, 4101, 4180, 4181, 4182, 4183, 4260, 4263, 4264, 4265, 4266, 4340, 4345, 4346, 4347, 4348, 4420, 4427, 4428, 4429, 4430, 4431, 4500, 4508, 4509, 4510, 4511, 4512, 4513, 4580, 4590, 4591, 4592, 4593, 4594, 4595, 4660, 4672, 4673, 4674, 4675, 4676, 4677, 4678, 4740, 4753, 4754, 4755, 4756, 4757, 4758, 4759, 4760, 4820, 4835, 4836, 4837, 4838, 4839, 4840, 4841, 4842, 4843, 4900, 4917, 4918, 4919, 4920, 4921, 4922, 4923, 4924, 4925, 4980, 4999, 5000, 5001, 5002, 5003, 5004, 5005, 5006, 5007, 5060, 5080, 5081, 5082, 5083, 5084, 5085, 5086, 5087, 5088, 5089, 5090, 5140, 5162, 5163, 5164, 5165, 5166, 5167, 5168, 5169, 5170, 5171, 5172, 5220, 5244, 5245, 5246, 5247, 5248, 5249, 5250, 5251, 5252, 5253, 5254, 5255, 5300, 5326, 5327, 5328, 5329, 5330, 5331, 5332, 5333, 5334, 5335, 5336, 5337, 5380, 5407, 5408, 5409, 5410, 5411, 5412, 5413, 5414, 5415, 5416, 5417, 5418, 5419, 5420, 5460, 5489, 5490, 5491, 5492, 5493, 5494, 5495, 5496, 5497, 5498, 5499, 5500, 5501, 5502, 5540, 5571, 5572, 5573, 5574, 5575, 5576, 5577, 5578, 5579, 5580, 5581, 5582, 5583, 5584, 5620, 5653, 5654, 5655, 5656, 5657, 5658, 5659, 5660, 5661, 5662, 5663, 5664, 5665, 5666, 5667, 5700, 5734, 5735, 5736, 5737, 5738, 5739, 5740, 5741, 5742, 5743, 5744, 5745, 5746, 5747, 5748, 5749, 5780, 5816, 5817, 5818, 5819, 5820, 5821, 5822, 5823, 5824, 5825, 5826, 5827, 5828, 5829, 5830, 5831, 5860, 5898, 5899, 5900, 5901, 5902, 5903, 5904, 5905, 5906, 5907, 5908, 5909, 5910, 5911, 5912, 5940, 5979, 5980, 5981, 5982, 5983, 5984, 5985, 5986, 5987, 5988, 5989, 5990, 5991, 5992, 5993, 6020, 6061, 6062, 6063, 6064, 6065, 6066, 6067, 6068, 6069, 6070, 6071, 6072, 6073, 6074, 6100, 6143, 6144, 6145, 6146, 6147, 6148, 6149, 6150, 6151, 6152, 6153, 6154, 6155, 6180, 6225, 6226, 6227, 6228, 6229, 6230, 6231, 6232, 6233, 6234, 6235, 6236, 6260, 6306, 6307, 6308, 6309, 6310, 6311, 6312, 6313, 6314, 6315, 6316, 6317, 6340, 6388, 6389, 6390, 6391, 6392, 6393, 6394, 6395, 6396, 6397, 6398, 6420, 6470, 6471, 6472, 6473, 6474, 6475, 6476, 6477, 6478, 6479, 6500, 6552, 6553, 6554, 6555, 6556, 6557, 6558, 6559, 6560]\n",
      "CPU times: user 162 ms, sys: 11.7 ms, total: 174 ms\n",
      "Wall time: 173 ms\n"
     ]
    }
   ],
   "source": [
    "%%time\n",
    "n_total = len(simulation.dataframe)\n",
    "n_train = len(simulation.dataframe[simulation.dataframe.type_of == \"train\"])\n",
    "n_val = len(simulation.dataframe[simulation.dataframe.type_of == \"val\"])\n",
    "n_test = len(simulation.dataframe[simulation.dataframe.type_of == \"test\"])\n",
    "n_train_hamiltonians = len(simulation.train_ids)\n",
    "n_val_hamiltonians = len(simulation.val_ids)\n",
    "n_test_hamiltonians = len(simulation.test_ids)\n",
    "n_total_hamiltonians = n_train_hamiltonians + n_val_hamiltonians + n_test_hamiltonians\n",
    "\n",
    "print(\"% train: \", n_train/n_total)\n",
    "print(\"% val: \",  n_val/n_total)\n",
    "print(\"% test: \", n_test/n_total)\n",
    "print(\"% train + val + test: \", (n_train+n_val+n_test)/n_total)\n",
    "print(\"\\n\")\n",
    "print(\"number of train hamiltonians: \", n_train_hamiltonians)\n",
    "print(\"number of val hamiltonians: \", n_val_hamiltonians)\n",
    "print(\"number of test hamiltonians: \", n_test_hamiltonians)\n",
    "print(\"total number of hamiltonians: \", n_total_hamiltonians)\n",
    "print(\"\\n\")\n",
    "print(\"train ids: \", simulation.train_ids)\n",
    "print(\"val ids: \", simulation.val_ids)\n",
    "print(\"test ids: \", simulation.test_ids)"
   ]
  },
  {
   "cell_type": "markdown",
   "metadata": {
    "papermill": {
     "duration": 0.017213,
     "end_time": "2020-07-09T23:11:11.642742",
     "exception": false,
     "start_time": "2020-07-09T23:11:11.625529",
     "status": "completed"
    },
    "tags": []
   },
   "source": [
    "## Running a simulation"
   ]
  },
  {
   "cell_type": "code",
   "execution_count": 23,
   "metadata": {
    "execution": {
     "iopub.execute_input": "2020-07-09T23:11:11.680960Z",
     "iopub.status.busy": "2020-07-09T23:11:11.680646Z",
     "iopub.status.idle": "2020-07-09T23:45:25.288788Z",
     "shell.execute_reply": "2020-07-09T23:45:25.289102Z"
    },
    "papermill": {
     "duration": 2053.628312,
     "end_time": "2020-07-09T23:45:25.289167",
     "exception": false,
     "start_time": "2020-07-09T23:11:11.660855",
     "status": "completed"
    },
    "tags": []
   },
   "outputs": [
    {
     "name": "stderr",
     "output_type": "stream",
     "text": [
      "\r",
      "running experiments:   0%|          | 0/100 [00:00<?, ?it/s]"
     ]
    },
    {
     "name": "stderr",
     "output_type": "stream",
     "text": [
      "\r",
      "running experiments:   1%|          | 1/100 [00:20<33:40, 20.41s/it]"
     ]
    },
    {
     "name": "stderr",
     "output_type": "stream",
     "text": [
      "\r",
      "running experiments:   2%|▏         | 2/100 [00:41<33:38, 20.60s/it]"
     ]
    },
    {
     "name": "stderr",
     "output_type": "stream",
     "text": [
      "\r",
      "running experiments:   3%|▎         | 3/100 [01:01<33:10, 20.52s/it]"
     ]
    },
    {
     "name": "stderr",
     "output_type": "stream",
     "text": [
      "\r",
      "running experiments:   4%|▍         | 4/100 [01:22<32:47, 20.50s/it]"
     ]
    },
    {
     "name": "stderr",
     "output_type": "stream",
     "text": [
      "\r",
      "running experiments:   5%|▌         | 5/100 [01:43<32:45, 20.69s/it]"
     ]
    },
    {
     "name": "stderr",
     "output_type": "stream",
     "text": [
      "\r",
      "running experiments:   6%|▌         | 6/100 [02:04<32:32, 20.77s/it]"
     ]
    },
    {
     "name": "stderr",
     "output_type": "stream",
     "text": [
      "\r",
      "running experiments:   7%|▋         | 7/100 [02:25<32:09, 20.75s/it]"
     ]
    },
    {
     "name": "stderr",
     "output_type": "stream",
     "text": [
      "\r",
      "running experiments:   8%|▊         | 8/100 [02:44<31:14, 20.37s/it]"
     ]
    },
    {
     "name": "stderr",
     "output_type": "stream",
     "text": [
      "\r",
      "running experiments:   9%|▉         | 9/100 [03:05<31:18, 20.65s/it]"
     ]
    },
    {
     "name": "stderr",
     "output_type": "stream",
     "text": [
      "\r",
      "running experiments:  10%|█         | 10/100 [03:26<31:06, 20.74s/it]"
     ]
    },
    {
     "name": "stderr",
     "output_type": "stream",
     "text": [
      "\r",
      "running experiments:  11%|█         | 11/100 [03:47<30:40, 20.68s/it]"
     ]
    },
    {
     "name": "stderr",
     "output_type": "stream",
     "text": [
      "\r",
      "running experiments:  12%|█▏        | 12/100 [04:08<30:42, 20.94s/it]"
     ]
    },
    {
     "name": "stderr",
     "output_type": "stream",
     "text": [
      "\r",
      "running experiments:  13%|█▎        | 13/100 [04:28<29:48, 20.56s/it]"
     ]
    },
    {
     "name": "stderr",
     "output_type": "stream",
     "text": [
      "\r",
      "running experiments:  14%|█▍        | 14/100 [04:49<29:48, 20.80s/it]"
     ]
    },
    {
     "name": "stderr",
     "output_type": "stream",
     "text": [
      "\r",
      "running experiments:  15%|█▌        | 15/100 [05:11<29:42, 20.97s/it]"
     ]
    },
    {
     "name": "stderr",
     "output_type": "stream",
     "text": [
      "\r",
      "running experiments:  16%|█▌        | 16/100 [05:31<29:11, 20.85s/it]"
     ]
    },
    {
     "name": "stderr",
     "output_type": "stream",
     "text": [
      "\r",
      "running experiments:  17%|█▋        | 17/100 [05:53<28:59, 20.95s/it]"
     ]
    },
    {
     "name": "stderr",
     "output_type": "stream",
     "text": [
      "\r",
      "running experiments:  18%|█▊        | 18/100 [06:13<28:26, 20.81s/it]"
     ]
    },
    {
     "name": "stderr",
     "output_type": "stream",
     "text": [
      "\r",
      "running experiments:  19%|█▉        | 19/100 [06:34<27:59, 20.73s/it]"
     ]
    },
    {
     "name": "stderr",
     "output_type": "stream",
     "text": [
      "\r",
      "running experiments:  20%|██        | 20/100 [06:55<27:46, 20.83s/it]"
     ]
    },
    {
     "name": "stderr",
     "output_type": "stream",
     "text": [
      "\r",
      "running experiments:  21%|██        | 21/100 [07:15<27:12, 20.66s/it]"
     ]
    },
    {
     "name": "stderr",
     "output_type": "stream",
     "text": [
      "\r",
      "running experiments:  22%|██▏       | 22/100 [07:35<26:39, 20.51s/it]"
     ]
    },
    {
     "name": "stderr",
     "output_type": "stream",
     "text": [
      "\r",
      "running experiments:  23%|██▎       | 23/100 [07:56<26:34, 20.70s/it]"
     ]
    },
    {
     "name": "stderr",
     "output_type": "stream",
     "text": [
      "\r",
      "running experiments:  24%|██▍       | 24/100 [08:17<26:12, 20.69s/it]"
     ]
    },
    {
     "name": "stderr",
     "output_type": "stream",
     "text": [
      "\r",
      "running experiments:  25%|██▌       | 25/100 [08:36<25:26, 20.36s/it]"
     ]
    },
    {
     "name": "stderr",
     "output_type": "stream",
     "text": [
      "\r",
      "running experiments:  26%|██▌       | 26/100 [08:56<24:54, 20.19s/it]"
     ]
    },
    {
     "name": "stderr",
     "output_type": "stream",
     "text": [
      "\r",
      "running experiments:  27%|██▋       | 27/100 [09:17<24:48, 20.39s/it]"
     ]
    },
    {
     "name": "stderr",
     "output_type": "stream",
     "text": [
      "\r",
      "running experiments:  28%|██▊       | 28/100 [09:38<24:42, 20.60s/it]"
     ]
    },
    {
     "name": "stderr",
     "output_type": "stream",
     "text": [
      "\r",
      "running experiments:  29%|██▉       | 29/100 [10:00<24:40, 20.85s/it]"
     ]
    },
    {
     "name": "stderr",
     "output_type": "stream",
     "text": [
      "\r",
      "running experiments:  30%|███       | 30/100 [10:20<24:05, 20.65s/it]"
     ]
    },
    {
     "name": "stderr",
     "output_type": "stream",
     "text": [
      "\r",
      "running experiments:  31%|███       | 31/100 [10:41<23:48, 20.70s/it]"
     ]
    },
    {
     "name": "stderr",
     "output_type": "stream",
     "text": [
      "\r",
      "running experiments:  32%|███▏      | 32/100 [11:01<23:18, 20.57s/it]"
     ]
    },
    {
     "name": "stderr",
     "output_type": "stream",
     "text": [
      "\r",
      "running experiments:  33%|███▎      | 33/100 [11:21<22:49, 20.43s/it]"
     ]
    },
    {
     "name": "stderr",
     "output_type": "stream",
     "text": [
      "\r",
      "running experiments:  34%|███▍      | 34/100 [11:42<22:36, 20.56s/it]"
     ]
    },
    {
     "name": "stderr",
     "output_type": "stream",
     "text": [
      "\r",
      "running experiments:  35%|███▌      | 35/100 [12:03<22:20, 20.62s/it]"
     ]
    },
    {
     "name": "stderr",
     "output_type": "stream",
     "text": [
      "\r",
      "running experiments:  36%|███▌      | 36/100 [12:22<21:32, 20.19s/it]"
     ]
    },
    {
     "name": "stderr",
     "output_type": "stream",
     "text": [
      "\r",
      "running experiments:  37%|███▋      | 37/100 [12:42<21:03, 20.06s/it]"
     ]
    },
    {
     "name": "stderr",
     "output_type": "stream",
     "text": [
      "\r",
      "running experiments:  38%|███▊      | 38/100 [13:02<20:58, 20.29s/it]"
     ]
    },
    {
     "name": "stderr",
     "output_type": "stream",
     "text": [
      "\r",
      "running experiments:  39%|███▉      | 39/100 [13:23<20:46, 20.43s/it]"
     ]
    },
    {
     "name": "stderr",
     "output_type": "stream",
     "text": [
      "\r",
      "running experiments:  40%|████      | 40/100 [13:43<20:22, 20.38s/it]"
     ]
    },
    {
     "name": "stderr",
     "output_type": "stream",
     "text": [
      "\r",
      "running experiments:  41%|████      | 41/100 [14:05<20:16, 20.61s/it]"
     ]
    },
    {
     "name": "stderr",
     "output_type": "stream",
     "text": [
      "\r",
      "running experiments:  42%|████▏     | 42/100 [14:24<19:38, 20.32s/it]"
     ]
    },
    {
     "name": "stderr",
     "output_type": "stream",
     "text": [
      "\r",
      "running experiments:  43%|████▎     | 43/100 [14:45<19:34, 20.60s/it]"
     ]
    },
    {
     "name": "stderr",
     "output_type": "stream",
     "text": [
      "\r",
      "running experiments:  44%|████▍     | 44/100 [15:07<19:27, 20.85s/it]"
     ]
    },
    {
     "name": "stderr",
     "output_type": "stream",
     "text": [
      "\r",
      "running experiments:  45%|████▌     | 45/100 [15:27<18:48, 20.52s/it]"
     ]
    },
    {
     "name": "stderr",
     "output_type": "stream",
     "text": [
      "\r",
      "running experiments:  46%|████▌     | 46/100 [15:47<18:23, 20.44s/it]"
     ]
    },
    {
     "name": "stderr",
     "output_type": "stream",
     "text": [
      "\r",
      "running experiments:  47%|████▋     | 47/100 [16:08<18:21, 20.78s/it]"
     ]
    },
    {
     "name": "stderr",
     "output_type": "stream",
     "text": [
      "\r",
      "running experiments:  48%|████▊     | 48/100 [16:28<17:48, 20.54s/it]"
     ]
    },
    {
     "name": "stderr",
     "output_type": "stream",
     "text": [
      "\r",
      "running experiments:  49%|████▉     | 49/100 [16:49<17:27, 20.54s/it]"
     ]
    },
    {
     "name": "stderr",
     "output_type": "stream",
     "text": [
      "\r",
      "running experiments:  50%|█████     | 50/100 [17:09<17:05, 20.51s/it]"
     ]
    },
    {
     "name": "stderr",
     "output_type": "stream",
     "text": [
      "\r",
      "running experiments:  51%|█████     | 51/100 [17:29<16:32, 20.25s/it]"
     ]
    },
    {
     "name": "stderr",
     "output_type": "stream",
     "text": [
      "\r",
      "running experiments:  52%|█████▏    | 52/100 [17:49<16:10, 20.22s/it]"
     ]
    },
    {
     "name": "stderr",
     "output_type": "stream",
     "text": [
      "\r",
      "running experiments:  53%|█████▎    | 53/100 [18:09<15:48, 20.18s/it]"
     ]
    },
    {
     "name": "stderr",
     "output_type": "stream",
     "text": [
      "\r",
      "running experiments:  54%|█████▍    | 54/100 [18:28<15:13, 19.87s/it]"
     ]
    },
    {
     "name": "stderr",
     "output_type": "stream",
     "text": [
      "\r",
      "running experiments:  55%|█████▌    | 55/100 [18:49<15:07, 20.16s/it]"
     ]
    },
    {
     "name": "stderr",
     "output_type": "stream",
     "text": [
      "\r",
      "running experiments:  56%|█████▌    | 56/100 [19:09<14:46, 20.16s/it]"
     ]
    },
    {
     "name": "stderr",
     "output_type": "stream",
     "text": [
      "\r",
      "running experiments:  57%|█████▋    | 57/100 [19:30<14:26, 20.15s/it]"
     ]
    },
    {
     "name": "stderr",
     "output_type": "stream",
     "text": [
      "\r",
      "running experiments:  58%|█████▊    | 58/100 [19:51<14:19, 20.45s/it]"
     ]
    },
    {
     "name": "stderr",
     "output_type": "stream",
     "text": [
      "\r",
      "running experiments:  59%|█████▉    | 59/100 [20:11<13:57, 20.43s/it]"
     ]
    },
    {
     "name": "stderr",
     "output_type": "stream",
     "text": [
      "\r",
      "running experiments:  60%|██████    | 60/100 [20:31<13:29, 20.24s/it]"
     ]
    },
    {
     "name": "stderr",
     "output_type": "stream",
     "text": [
      "\r",
      "running experiments:  61%|██████    | 61/100 [20:51<13:07, 20.19s/it]"
     ]
    },
    {
     "name": "stderr",
     "output_type": "stream",
     "text": [
      "\r",
      "running experiments:  62%|██████▏   | 62/100 [21:11<12:50, 20.26s/it]"
     ]
    },
    {
     "name": "stderr",
     "output_type": "stream",
     "text": [
      "\r",
      "running experiments:  63%|██████▎   | 63/100 [21:32<12:29, 20.27s/it]"
     ]
    },
    {
     "name": "stderr",
     "output_type": "stream",
     "text": [
      "\r",
      "running experiments:  64%|██████▍   | 64/100 [21:53<12:23, 20.65s/it]"
     ]
    },
    {
     "name": "stderr",
     "output_type": "stream",
     "text": [
      "\r",
      "running experiments:  65%|██████▌   | 65/100 [22:14<12:00, 20.60s/it]"
     ]
    },
    {
     "name": "stderr",
     "output_type": "stream",
     "text": [
      "\r",
      "running experiments:  66%|██████▌   | 66/100 [22:34<11:38, 20.55s/it]"
     ]
    },
    {
     "name": "stderr",
     "output_type": "stream",
     "text": [
      "\r",
      "running experiments:  67%|██████▋   | 67/100 [22:54<11:15, 20.46s/it]"
     ]
    },
    {
     "name": "stderr",
     "output_type": "stream",
     "text": [
      "\r",
      "running experiments:  68%|██████▊   | 68/100 [23:15<10:51, 20.37s/it]"
     ]
    },
    {
     "name": "stderr",
     "output_type": "stream",
     "text": [
      "\r",
      "running experiments:  69%|██████▉   | 69/100 [23:35<10:30, 20.34s/it]"
     ]
    },
    {
     "name": "stderr",
     "output_type": "stream",
     "text": [
      "\r",
      "running experiments:  70%|███████   | 70/100 [23:56<10:17, 20.59s/it]"
     ]
    },
    {
     "name": "stderr",
     "output_type": "stream",
     "text": [
      "\r",
      "running experiments:  71%|███████   | 71/100 [24:17<09:57, 20.60s/it]"
     ]
    },
    {
     "name": "stderr",
     "output_type": "stream",
     "text": [
      "\r",
      "running experiments:  72%|███████▏  | 72/100 [24:37<09:34, 20.52s/it]"
     ]
    },
    {
     "name": "stderr",
     "output_type": "stream",
     "text": [
      "\r",
      "running experiments:  73%|███████▎  | 73/100 [24:57<09:14, 20.52s/it]"
     ]
    },
    {
     "name": "stderr",
     "output_type": "stream",
     "text": [
      "\r",
      "running experiments:  74%|███████▍  | 74/100 [25:17<08:49, 20.38s/it]"
     ]
    },
    {
     "name": "stderr",
     "output_type": "stream",
     "text": [
      "\r",
      "running experiments:  75%|███████▌  | 75/100 [25:38<08:29, 20.37s/it]"
     ]
    },
    {
     "name": "stderr",
     "output_type": "stream",
     "text": [
      "\r",
      "running experiments:  76%|███████▌  | 76/100 [25:58<08:09, 20.40s/it]"
     ]
    },
    {
     "name": "stderr",
     "output_type": "stream",
     "text": [
      "\r",
      "running experiments:  77%|███████▋  | 77/100 [26:19<07:50, 20.44s/it]"
     ]
    },
    {
     "name": "stderr",
     "output_type": "stream",
     "text": [
      "\r",
      "running experiments:  78%|███████▊  | 78/100 [26:40<07:35, 20.68s/it]"
     ]
    },
    {
     "name": "stderr",
     "output_type": "stream",
     "text": [
      "\r",
      "running experiments:  79%|███████▉  | 79/100 [27:01<07:16, 20.80s/it]"
     ]
    },
    {
     "name": "stderr",
     "output_type": "stream",
     "text": [
      "\r",
      "running experiments:  80%|████████  | 80/100 [27:21<06:51, 20.58s/it]"
     ]
    },
    {
     "name": "stderr",
     "output_type": "stream",
     "text": [
      "\r",
      "running experiments:  81%|████████  | 81/100 [27:41<06:29, 20.48s/it]"
     ]
    },
    {
     "name": "stderr",
     "output_type": "stream",
     "text": [
      "\r",
      "running experiments:  82%|████████▏ | 82/100 [28:03<06:11, 20.65s/it]"
     ]
    },
    {
     "name": "stderr",
     "output_type": "stream",
     "text": [
      "\r",
      "running experiments:  83%|████████▎ | 83/100 [28:24<05:55, 20.89s/it]"
     ]
    },
    {
     "name": "stderr",
     "output_type": "stream",
     "text": [
      "\r",
      "running experiments:  84%|████████▍ | 84/100 [28:44<05:31, 20.70s/it]"
     ]
    },
    {
     "name": "stderr",
     "output_type": "stream",
     "text": [
      "\r",
      "running experiments:  85%|████████▌ | 85/100 [29:04<05:07, 20.51s/it]"
     ]
    },
    {
     "name": "stderr",
     "output_type": "stream",
     "text": [
      "\r",
      "running experiments:  86%|████████▌ | 86/100 [29:25<04:47, 20.55s/it]"
     ]
    },
    {
     "name": "stderr",
     "output_type": "stream",
     "text": [
      "\r",
      "running experiments:  87%|████████▋ | 87/100 [29:46<04:27, 20.61s/it]"
     ]
    },
    {
     "name": "stderr",
     "output_type": "stream",
     "text": [
      "\r",
      "running experiments:  88%|████████▊ | 88/100 [30:06<04:05, 20.47s/it]"
     ]
    },
    {
     "name": "stderr",
     "output_type": "stream",
     "text": [
      "\r",
      "running experiments:  89%|████████▉ | 89/100 [30:27<03:47, 20.65s/it]"
     ]
    },
    {
     "name": "stderr",
     "output_type": "stream",
     "text": [
      "\r",
      "running experiments:  90%|█████████ | 90/100 [30:47<03:26, 20.61s/it]"
     ]
    },
    {
     "name": "stderr",
     "output_type": "stream",
     "text": [
      "\r",
      "running experiments:  91%|█████████ | 91/100 [31:08<03:04, 20.52s/it]"
     ]
    },
    {
     "name": "stderr",
     "output_type": "stream",
     "text": [
      "\r",
      "running experiments:  92%|█████████▏| 92/100 [31:28<02:43, 20.38s/it]"
     ]
    },
    {
     "name": "stderr",
     "output_type": "stream",
     "text": [
      "\r",
      "running experiments:  93%|█████████▎| 93/100 [31:49<02:23, 20.52s/it]"
     ]
    },
    {
     "name": "stderr",
     "output_type": "stream",
     "text": [
      "\r",
      "running experiments:  94%|█████████▍| 94/100 [32:09<02:02, 20.38s/it]"
     ]
    },
    {
     "name": "stderr",
     "output_type": "stream",
     "text": [
      "\r",
      "running experiments:  95%|█████████▌| 95/100 [32:29<01:42, 20.46s/it]"
     ]
    },
    {
     "name": "stderr",
     "output_type": "stream",
     "text": [
      "\r",
      "running experiments:  96%|█████████▌| 96/100 [32:50<01:22, 20.52s/it]"
     ]
    },
    {
     "name": "stderr",
     "output_type": "stream",
     "text": [
      "\r",
      "running experiments:  97%|█████████▋| 97/100 [33:10<01:00, 20.22s/it]"
     ]
    },
    {
     "name": "stderr",
     "output_type": "stream",
     "text": [
      "\r",
      "running experiments:  98%|█████████▊| 98/100 [33:31<00:41, 20.62s/it]"
     ]
    },
    {
     "name": "stderr",
     "output_type": "stream",
     "text": [
      "\r",
      "running experiments:  99%|█████████▉| 99/100 [33:52<00:20, 20.84s/it]"
     ]
    },
    {
     "name": "stderr",
     "output_type": "stream",
     "text": [
      "\r",
      "running experiments: 100%|██████████| 100/100 [34:13<00:00, 20.78s/it]"
     ]
    },
    {
     "name": "stderr",
     "output_type": "stream",
     "text": [
      "\r",
      "running experiments: 100%|██████████| 100/100 [34:13<00:00, 20.54s/it]"
     ]
    },
    {
     "name": "stdout",
     "output_type": "stream",
     "text": [
      "CPU times: user 3h 44min 2s, sys: 13.5 s, total: 3h 44min 15s\n",
      "Wall time: 34min 13s\n"
     ]
    },
    {
     "name": "stderr",
     "output_type": "stream",
     "text": [
      "\n"
     ]
    }
   ],
   "source": [
    "%%time\n",
    "simulation.run_simulation(n_experiments, start_n, fit_params,shuffle_rows, pred_params, random_features, \\\n",
    "                          store_in_lists, save_eigenvector, save_hamiltonian, save_accuracy,\\\n",
    "                          save_models)\n",
    "if simulation.fourier_mode is not None:\n",
    "    simulation.fourier_dataframe.head(10)"
   ]
  },
  {
   "cell_type": "code",
   "execution_count": 24,
   "metadata": {
    "execution": {
     "iopub.execute_input": "2020-07-09T23:45:25.359991Z",
     "iopub.status.busy": "2020-07-09T23:45:25.359678Z",
     "iopub.status.idle": "2020-07-09T23:45:25.384790Z",
     "shell.execute_reply": "2020-07-09T23:45:25.384470Z"
    },
    "papermill": {
     "duration": 0.061173,
     "end_time": "2020-07-09T23:45:25.384842",
     "exception": false,
     "start_time": "2020-07-09T23:45:25.323669",
     "status": "completed"
    },
    "tags": []
   },
   "outputs": [
    {
     "data": {
      "text/html": [
       "<div>\n",
       "<style scoped>\n",
       "    .dataframe tbody tr th:only-of-type {\n",
       "        vertical-align: middle;\n",
       "    }\n",
       "\n",
       "    .dataframe tbody tr th {\n",
       "        vertical-align: top;\n",
       "    }\n",
       "\n",
       "    .dataframe thead th {\n",
       "        text-align: right;\n",
       "    }\n",
       "</style>\n",
       "<table border=\"1\" class=\"dataframe\">\n",
       "  <thead>\n",
       "    <tr style=\"text-align: right;\">\n",
       "      <th></th>\n",
       "      <th>id</th>\n",
       "      <th>path</th>\n",
       "      <th>t1</th>\n",
       "      <th>t2</th>\n",
       "      <th>winding</th>\n",
       "      <th>phase</th>\n",
       "      <th>pred_phase</th>\n",
       "      <th>type_of</th>\n",
       "      <th>feat0</th>\n",
       "      <th>feat1</th>\n",
       "      <th>...</th>\n",
       "      <th>feat90</th>\n",
       "      <th>feat91</th>\n",
       "      <th>feat92</th>\n",
       "      <th>feat93</th>\n",
       "      <th>feat94</th>\n",
       "      <th>feat95</th>\n",
       "      <th>feat96</th>\n",
       "      <th>feat97</th>\n",
       "      <th>feat98</th>\n",
       "      <th>feat99</th>\n",
       "    </tr>\n",
       "  </thead>\n",
       "  <tbody>\n",
       "    <tr>\n",
       "      <th>0</th>\n",
       "      <td>0</td>\n",
       "      <td>H_-2_-2_0.501338.dat</td>\n",
       "      <td>-2.0</td>\n",
       "      <td>-2.0</td>\n",
       "      <td>0.501338</td>\n",
       "      <td>999</td>\n",
       "      <td>666</td>\n",
       "      <td>test</td>\n",
       "      <td>-0.130965</td>\n",
       "      <td>0.301130</td>\n",
       "      <td>...</td>\n",
       "      <td>-0.080279</td>\n",
       "      <td>-0.115687</td>\n",
       "      <td>-0.174988</td>\n",
       "      <td>0.245064</td>\n",
       "      <td>0.319763</td>\n",
       "      <td>-0.059082</td>\n",
       "      <td>-0.000556</td>\n",
       "      <td>-0.245133</td>\n",
       "      <td>-0.301130</td>\n",
       "      <td>0.130965</td>\n",
       "    </tr>\n",
       "    <tr>\n",
       "      <th>1</th>\n",
       "      <td>0</td>\n",
       "      <td>H_-2_-2_0.501338.dat</td>\n",
       "      <td>-2.0</td>\n",
       "      <td>-2.0</td>\n",
       "      <td>0.501338</td>\n",
       "      <td>999</td>\n",
       "      <td>666</td>\n",
       "      <td>test</td>\n",
       "      <td>-0.130965</td>\n",
       "      <td>-0.301130</td>\n",
       "      <td>...</td>\n",
       "      <td>-0.080279</td>\n",
       "      <td>0.115687</td>\n",
       "      <td>-0.174988</td>\n",
       "      <td>-0.245064</td>\n",
       "      <td>0.319763</td>\n",
       "      <td>0.059082</td>\n",
       "      <td>-0.000556</td>\n",
       "      <td>0.245133</td>\n",
       "      <td>-0.301130</td>\n",
       "      <td>-0.130965</td>\n",
       "    </tr>\n",
       "    <tr>\n",
       "      <th>2</th>\n",
       "      <td>0</td>\n",
       "      <td>H_-2_-2_0.501338.dat</td>\n",
       "      <td>-2.0</td>\n",
       "      <td>-2.0</td>\n",
       "      <td>0.501338</td>\n",
       "      <td>999</td>\n",
       "      <td>666</td>\n",
       "      <td>test</td>\n",
       "      <td>-0.148414</td>\n",
       "      <td>-0.042467</td>\n",
       "      <td>...</td>\n",
       "      <td>0.185442</td>\n",
       "      <td>-0.080620</td>\n",
       "      <td>-0.066211</td>\n",
       "      <td>-0.121339</td>\n",
       "      <td>-0.151700</td>\n",
       "      <td>0.192513</td>\n",
       "      <td>0.191642</td>\n",
       "      <td>-0.050956</td>\n",
       "      <td>-0.042467</td>\n",
       "      <td>-0.148414</td>\n",
       "    </tr>\n",
       "    <tr>\n",
       "      <th>3</th>\n",
       "      <td>0</td>\n",
       "      <td>H_-2_-2_0.501338.dat</td>\n",
       "      <td>-2.0</td>\n",
       "      <td>-2.0</td>\n",
       "      <td>0.501338</td>\n",
       "      <td>999</td>\n",
       "      <td>666</td>\n",
       "      <td>test</td>\n",
       "      <td>-0.069630</td>\n",
       "      <td>-0.026147</td>\n",
       "      <td>...</td>\n",
       "      <td>0.102009</td>\n",
       "      <td>-0.100671</td>\n",
       "      <td>-0.081002</td>\n",
       "      <td>-0.020715</td>\n",
       "      <td>-0.058717</td>\n",
       "      <td>0.115834</td>\n",
       "      <td>0.118274</td>\n",
       "      <td>-0.054666</td>\n",
       "      <td>-0.026147</td>\n",
       "      <td>-0.069630</td>\n",
       "    </tr>\n",
       "    <tr>\n",
       "      <th>4</th>\n",
       "      <td>0</td>\n",
       "      <td>H_-2_-2_0.501338.dat</td>\n",
       "      <td>-2.0</td>\n",
       "      <td>-2.0</td>\n",
       "      <td>0.501338</td>\n",
       "      <td>999</td>\n",
       "      <td>666</td>\n",
       "      <td>test</td>\n",
       "      <td>0.010206</td>\n",
       "      <td>-0.014625</td>\n",
       "      <td>...</td>\n",
       "      <td>0.047555</td>\n",
       "      <td>-0.041368</td>\n",
       "      <td>-0.018852</td>\n",
       "      <td>-0.017673</td>\n",
       "      <td>-0.023377</td>\n",
       "      <td>0.031447</td>\n",
       "      <td>0.010280</td>\n",
       "      <td>0.000925</td>\n",
       "      <td>0.014625</td>\n",
       "      <td>-0.010206</td>\n",
       "    </tr>\n",
       "    <tr>\n",
       "      <th>5</th>\n",
       "      <td>0</td>\n",
       "      <td>H_-2_-2_0.501338.dat</td>\n",
       "      <td>-2.0</td>\n",
       "      <td>-2.0</td>\n",
       "      <td>0.501338</td>\n",
       "      <td>999</td>\n",
       "      <td>666</td>\n",
       "      <td>test</td>\n",
       "      <td>0.116962</td>\n",
       "      <td>0.021475</td>\n",
       "      <td>...</td>\n",
       "      <td>-0.086901</td>\n",
       "      <td>-0.045676</td>\n",
       "      <td>-0.028034</td>\n",
       "      <td>0.129266</td>\n",
       "      <td>0.130083</td>\n",
       "      <td>-0.098190</td>\n",
       "      <td>-0.104188</td>\n",
       "      <td>-0.007911</td>\n",
       "      <td>0.021475</td>\n",
       "      <td>0.116962</td>\n",
       "    </tr>\n",
       "    <tr>\n",
       "      <th>6</th>\n",
       "      <td>0</td>\n",
       "      <td>H_-2_-2_0.501338.dat</td>\n",
       "      <td>-2.0</td>\n",
       "      <td>-2.0</td>\n",
       "      <td>0.501338</td>\n",
       "      <td>999</td>\n",
       "      <td>666</td>\n",
       "      <td>test</td>\n",
       "      <td>0.037175</td>\n",
       "      <td>-0.095882</td>\n",
       "      <td>...</td>\n",
       "      <td>-0.027490</td>\n",
       "      <td>0.046168</td>\n",
       "      <td>0.063419</td>\n",
       "      <td>-0.041630</td>\n",
       "      <td>-0.085769</td>\n",
       "      <td>-0.010604</td>\n",
       "      <td>-0.009822</td>\n",
       "      <td>0.084024</td>\n",
       "      <td>0.095882</td>\n",
       "      <td>-0.037175</td>\n",
       "    </tr>\n",
       "    <tr>\n",
       "      <th>7</th>\n",
       "      <td>0</td>\n",
       "      <td>H_-2_-2_0.501338.dat</td>\n",
       "      <td>-2.0</td>\n",
       "      <td>-2.0</td>\n",
       "      <td>0.501338</td>\n",
       "      <td>999</td>\n",
       "      <td>666</td>\n",
       "      <td>test</td>\n",
       "      <td>0.027709</td>\n",
       "      <td>-0.038180</td>\n",
       "      <td>...</td>\n",
       "      <td>0.123344</td>\n",
       "      <td>-0.114320</td>\n",
       "      <td>-0.057118</td>\n",
       "      <td>-0.040291</td>\n",
       "      <td>-0.061263</td>\n",
       "      <td>0.087153</td>\n",
       "      <td>0.029599</td>\n",
       "      <td>-0.001276</td>\n",
       "      <td>0.038180</td>\n",
       "      <td>-0.027709</td>\n",
       "    </tr>\n",
       "    <tr>\n",
       "      <th>8</th>\n",
       "      <td>0</td>\n",
       "      <td>H_-2_-2_0.501338.dat</td>\n",
       "      <td>-2.0</td>\n",
       "      <td>-2.0</td>\n",
       "      <td>0.501338</td>\n",
       "      <td>999</td>\n",
       "      <td>666</td>\n",
       "      <td>test</td>\n",
       "      <td>0.059795</td>\n",
       "      <td>0.030272</td>\n",
       "      <td>...</td>\n",
       "      <td>-0.082347</td>\n",
       "      <td>0.140996</td>\n",
       "      <td>0.128386</td>\n",
       "      <td>-0.036608</td>\n",
       "      <td>0.029628</td>\n",
       "      <td>-0.124877</td>\n",
       "      <td>-0.140478</td>\n",
       "      <td>0.088573</td>\n",
       "      <td>0.030272</td>\n",
       "      <td>0.059795</td>\n",
       "    </tr>\n",
       "    <tr>\n",
       "      <th>9</th>\n",
       "      <td>0</td>\n",
       "      <td>H_-2_-2_0.501338.dat</td>\n",
       "      <td>-2.0</td>\n",
       "      <td>-2.0</td>\n",
       "      <td>0.501338</td>\n",
       "      <td>999</td>\n",
       "      <td>666</td>\n",
       "      <td>test</td>\n",
       "      <td>0.141605</td>\n",
       "      <td>0.013497</td>\n",
       "      <td>...</td>\n",
       "      <td>-0.035718</td>\n",
       "      <td>-0.110014</td>\n",
       "      <td>-0.082452</td>\n",
       "      <td>0.146084</td>\n",
       "      <td>0.152588</td>\n",
       "      <td>-0.067575</td>\n",
       "      <td>-0.087187</td>\n",
       "      <td>-0.043484</td>\n",
       "      <td>0.013497</td>\n",
       "      <td>0.141605</td>\n",
       "    </tr>\n",
       "  </tbody>\n",
       "</table>\n",
       "<p>10 rows × 108 columns</p>\n",
       "</div>"
      ],
      "text/plain": [
       "   id                  path   t1   t2   winding  phase  pred_phase type_of  \\\n",
       "0   0  H_-2_-2_0.501338.dat -2.0 -2.0  0.501338    999         666    test   \n",
       "1   0  H_-2_-2_0.501338.dat -2.0 -2.0  0.501338    999         666    test   \n",
       "2   0  H_-2_-2_0.501338.dat -2.0 -2.0  0.501338    999         666    test   \n",
       "3   0  H_-2_-2_0.501338.dat -2.0 -2.0  0.501338    999         666    test   \n",
       "4   0  H_-2_-2_0.501338.dat -2.0 -2.0  0.501338    999         666    test   \n",
       "5   0  H_-2_-2_0.501338.dat -2.0 -2.0  0.501338    999         666    test   \n",
       "6   0  H_-2_-2_0.501338.dat -2.0 -2.0  0.501338    999         666    test   \n",
       "7   0  H_-2_-2_0.501338.dat -2.0 -2.0  0.501338    999         666    test   \n",
       "8   0  H_-2_-2_0.501338.dat -2.0 -2.0  0.501338    999         666    test   \n",
       "9   0  H_-2_-2_0.501338.dat -2.0 -2.0  0.501338    999         666    test   \n",
       "\n",
       "      feat0     feat1  ...    feat90    feat91    feat92    feat93    feat94  \\\n",
       "0 -0.130965  0.301130  ... -0.080279 -0.115687 -0.174988  0.245064  0.319763   \n",
       "1 -0.130965 -0.301130  ... -0.080279  0.115687 -0.174988 -0.245064  0.319763   \n",
       "2 -0.148414 -0.042467  ...  0.185442 -0.080620 -0.066211 -0.121339 -0.151700   \n",
       "3 -0.069630 -0.026147  ...  0.102009 -0.100671 -0.081002 -0.020715 -0.058717   \n",
       "4  0.010206 -0.014625  ...  0.047555 -0.041368 -0.018852 -0.017673 -0.023377   \n",
       "5  0.116962  0.021475  ... -0.086901 -0.045676 -0.028034  0.129266  0.130083   \n",
       "6  0.037175 -0.095882  ... -0.027490  0.046168  0.063419 -0.041630 -0.085769   \n",
       "7  0.027709 -0.038180  ...  0.123344 -0.114320 -0.057118 -0.040291 -0.061263   \n",
       "8  0.059795  0.030272  ... -0.082347  0.140996  0.128386 -0.036608  0.029628   \n",
       "9  0.141605  0.013497  ... -0.035718 -0.110014 -0.082452  0.146084  0.152588   \n",
       "\n",
       "     feat95    feat96    feat97    feat98    feat99  \n",
       "0 -0.059082 -0.000556 -0.245133 -0.301130  0.130965  \n",
       "1  0.059082 -0.000556  0.245133 -0.301130 -0.130965  \n",
       "2  0.192513  0.191642 -0.050956 -0.042467 -0.148414  \n",
       "3  0.115834  0.118274 -0.054666 -0.026147 -0.069630  \n",
       "4  0.031447  0.010280  0.000925  0.014625 -0.010206  \n",
       "5 -0.098190 -0.104188 -0.007911  0.021475  0.116962  \n",
       "6 -0.010604 -0.009822  0.084024  0.095882 -0.037175  \n",
       "7  0.087153  0.029599 -0.001276  0.038180 -0.027709  \n",
       "8 -0.124877 -0.140478  0.088573  0.030272  0.059795  \n",
       "9 -0.067575 -0.087187 -0.043484  0.013497  0.141605  \n",
       "\n",
       "[10 rows x 108 columns]"
      ]
     },
     "execution_count": 24,
     "metadata": {},
     "output_type": "execute_result"
    }
   ],
   "source": [
    "simulation.dataframe.head(10)"
   ]
  },
  {
   "cell_type": "markdown",
   "metadata": {
    "papermill": {
     "duration": 0.034069,
     "end_time": "2020-07-09T23:45:25.453061",
     "exception": false,
     "start_time": "2020-07-09T23:45:25.418992",
     "status": "completed"
    },
    "tags": []
   },
   "source": [
    "#### Viewing a random sample"
   ]
  },
  {
   "cell_type": "code",
   "execution_count": 25,
   "metadata": {
    "execution": {
     "iopub.execute_input": "2020-07-09T23:45:25.525389Z",
     "iopub.status.busy": "2020-07-09T23:45:25.525065Z",
     "iopub.status.idle": "2020-07-09T23:45:25.555007Z",
     "shell.execute_reply": "2020-07-09T23:45:25.554687Z"
    },
    "papermill": {
     "duration": 0.066917,
     "end_time": "2020-07-09T23:45:25.555059",
     "exception": false,
     "start_time": "2020-07-09T23:45:25.488142",
     "status": "completed"
    },
    "tags": []
   },
   "outputs": [
    {
     "name": "stdout",
     "output_type": "stream",
     "text": [
      "CPU times: user 19.6 ms, sys: 4 µs, total: 19.6 ms\n",
      "Wall time: 19.4 ms\n"
     ]
    }
   ],
   "source": [
    "%%time\n",
    "if simulation.fourier_mode is not None:\n",
    "    simulation.fourier_dataframe.sample(frac=0.1, replace=False)"
   ]
  },
  {
   "cell_type": "markdown",
   "metadata": {
    "papermill": {
     "duration": 0.037665,
     "end_time": "2020-07-09T23:45:25.628627",
     "exception": false,
     "start_time": "2020-07-09T23:45:25.590962",
     "status": "completed"
    },
    "tags": []
   },
   "source": [
    "#### Checking train/val/test splits again"
   ]
  },
  {
   "cell_type": "code",
   "execution_count": 26,
   "metadata": {
    "execution": {
     "iopub.execute_input": "2020-07-09T23:45:25.700683Z",
     "iopub.status.busy": "2020-07-09T23:45:25.700350Z",
     "iopub.status.idle": "2020-07-09T23:45:25.893072Z",
     "shell.execute_reply": "2020-07-09T23:45:25.892795Z"
    },
    "papermill": {
     "duration": 0.229988,
     "end_time": "2020-07-09T23:45:25.893125",
     "exception": false,
     "start_time": "2020-07-09T23:45:25.663137",
     "status": "completed"
    },
    "tags": []
   },
   "outputs": [
    {
     "name": "stdout",
     "output_type": "stream",
     "text": [
      "% train:  0.4208199969516842\n",
      "% val:  0.42066758116140834\n",
      "% test:  0.15851242188690748\n",
      "% train + val + test:  1.0\n",
      "\n",
      "\n",
      "number of train hamiltonians:  2761\n",
      "number of val hamiltonians:  2760\n",
      "number of test hamiltonians:  1040\n",
      "total number of hamiltonians:  6561\n",
      "\n",
      "\n",
      "train ids:  [876, 4272, 4244, 5852, 3491, 3179, 4443, 6466, 2391, 4517, 3667, 301, 2931, 3713, 5345, 6370, 6182, 4193, 5605, 5926, 5799, 2353, 216, 5505, 2237, 4546, 6416, 5309, 4472, 5188, 2925, 1169, 5185, 5233, 1747, 799, 1650, 4015, 3201, 3677, 5199, 3205, 4468, 17, 6168, 2978, 1581, 3029, 6464, 4225, 6000, 3093, 2734, 1711, 755, 2150, 3376, 4286, 2433, 1831, 3569, 2555, 3371, 6173, 794, 6402, 4096, 2102, 1458, 2085, 6259, 1658, 4320, 2301, 4775, 1848, 3816, 4854, 1084, 2407, 5955, 3985, 2761, 557, 4079, 6272, 1416, 2724, 6544, 1347, 3389, 1670, 4395, 2185, 5506, 1415, 437, 1949, 3623, 3465, 5470, 4119, 4716, 4163, 2235, 5628, 3207, 2092, 356, 5399, 5259, 2493, 1828, 1128, 2891, 3041, 5672, 5916, 705, 5366, 4581, 3023, 4634, 180, 2777, 3412, 5608, 4213, 6249, 5724, 1901, 3104, 6080, 5811, 4234, 2334, 4615, 5693, 2649, 345, 5897, 6032, 4132, 404, 2019, 2890, 6223, 5383, 3438, 4167, 2519, 4699, 6497, 3765, 6328, 6419, 4530, 266, 1627, 4960, 5360, 1259, 1867, 3574, 1170, 1345, 3386, 6123, 4703, 5325, 2616, 5459, 4436, 1899, 6296, 4458, 532, 1097, 5192, 294, 1412, 5621, 4228, 1709, 1898, 2714, 80, 6246, 781, 6281, 2802, 3274, 4362, 6469, 3649, 5812, 3585, 427, 3597, 2452, 2312, 4448, 2651, 1510, 3560, 5965, 4095, 3917, 5526, 3369, 2527, 1023, 2394, 5970, 2068, 3717, 5603, 4563, 3293, 1511, 2966, 5116, 5375, 5596, 6334, 2683, 1768, 118, 687, 306, 5291, 5202, 2837, 964, 2105, 2018, 6522, 3953, 2485, 6112, 342, 3149, 5533, 3155, 1503, 1095, 1175, 2589, 3972, 4883, 3868, 1774, 6323, 2720, 5779, 2509, 212, 3557, 3056, 3663, 4647, 948, 2365, 230, 4752, 3909, 4152, 3498, 4766, 3695, 2355, 1257, 608, 3515, 4737, 4351, 1421, 708, 431, 4774, 770, 2793, 2860, 2428, 5147, 2996, 4874, 3999, 6215, 6445, 2767, 2327, 6438, 3003, 6506, 4802, 1174, 5137, 4426, 1005, 4344, 1576, 233, 3617, 836, 2096, 4376, 1498, 3142, 624, 1753, 1490, 5210, 5872, 3931, 3494, 4252, 3803, 4112, 262, 3844, 640, 5440, 4329, 3345, 1693, 5394, 5918, 5303, 5776, 924, 4399, 2763, 3478, 3989, 2283, 1105, 455, 4914, 5423, 3532, 5059, 6220, 56, 1534, 4977, 482, 2642, 5355, 1864, 614, 5685, 3049, 4357, 4795, 3929, 3184, 465, 4944, 2395, 2352, 2205, 106, 264, 6303, 3436, 1826, 4895, 4714, 5642, 6261, 3926, 4275, 5468, 4251, 5104, 3619, 6134, 5370, 137, 1294, 2486, 2817, 4067, 450, 2252, 5196, 1990, 5449, 2263, 190, 2234, 6549, 5469, 4929, 4893, 1784, 2781, 4077, 2607, 1487, 310, 2250, 3879, 4206, 2148, 6002, 1817, 4649, 1692, 685, 5692, 4769, 3825, 4679, 1008, 5272, 237, 1825, 3916, 5386, 2834, 4189, 6432, 5813, 4038, 5770, 1208, 4887, 4603, 5046, 4926, 5789, 6301, 3449, 3132, 3832, 3811, 4064, 3139, 1594, 4402, 1846, 2694, 2553, 2601, 1495, 3471, 201, 46, 3419, 646, 3800, 5130, 6533, 2648, 6519, 5379, 1820, 558, 54, 5106, 6482, 1815, 4008, 2604, 4271, 3908, 6210, 4363, 3612, 41, 5518, 2163, 1662, 3456, 5524, 5546, 3992, 3111, 5570, 921, 2142, 2157, 4550, 5959, 533, 282, 2916, 3737, 5239, 751, 2022, 3352, 2640, 1649, 4418, 6102, 4859, 5314, 298, 5555, 3773, 3145, 2910, 2448, 1343, 5786, 3805, 548, 4949, 4984, 2659, 1524, 2242, 3435, 6131, 5874, 385, 6198, 3831, 1299, 2584, 1685, 5553, 4285, 6443, 2581, 761, 5352, 5096, 4177, 6342, 4902, 4267, 2750, 5064, 291, 1769, 265, 1896, 2736, 1020, 4933, 5484, 4161, 704, 3185, 2678, 5950, 1842, 3785, 4197, 3950, 2681, 939, 3346, 3742, 6184, 5346, 2608, 2893, 3563, 5858, 4813, 3852, 3388, 5061, 3906, 1279, 3068, 3513, 1938, 1082, 2181, 2844, 2907, 4622, 2993, 6027, 3553, 669, 2823, 5349, 33, 3095, 633, 2899, 2220, 4537, 98, 6502, 3732, 4862, 2245, 4457, 139, 5806, 6363, 5295, 3895, 4121, 4129, 5808, 5690, 1436, 148, 6532, 4386, 5960, 2349, 4208, 5363, 5566, 6291, 3354, 3622, 3101, 4986, 4868, 954, 2956, 1695, 1504, 6273, 3227, 1735, 2965, 4650, 3186, 5481, 1977, 445, 2508, 2674, 6045, 4171, 5304, 1566, 3128, 4667, 2005, 3285, 5949, 1032, 4830, 50, 1327, 6517, 4176, 4872, 6167, 5896, 4186, 2383, 4907, 2468, 6551, 3267, 1750, 3577, 3383, 4800, 3309, 3423, 4701, 2673, 3647, 5092, 1158, 678, 1325, 6030, 3976, 5942, 2579, 1619, 4184, 5176, 3789, 1705, 4229, 4937, 2169, 4060, 2611, 4833, 1245, 4308, 4503, 4685, 2103, 100, 3903, 3469, 2311, 5849, 5617, 5687, 3372, 5681, 424, 4712, 5886, 5624, 2362, 4425, 1115, 4350, 6362, 4738, 4768, 4479, 3408, 6410, 3536, 6411, 3253, 268, 6135, 4976, 4684, 4696, 4743, 4066, 4494, 5287, 2851, 1741, 6181, 4321, 3457, 4956, 3063, 483, 3719, 5390, 1729, 611, 874, 1239, 6163, 6122, 1111, 125, 3221, 930, 3666, 5893, 4222, 3645, 3615, 1276, 549, 3323, 5400, 1349, 5944, 3987, 3171, 436, 3005, 5153, 6161, 176, 3437, 5181, 3461, 6042, 849, 2224, 2746, 1194, 5684, 6110, 6099, 4248, 2661, 5650, 2422, 1764, 1827, 842, 5277, 3688, 5136, 1167, 3511, 4661, 2288, 3942, 2765, 4866, 1177, 1039, 6358, 449, 1007, 4006, 3287, 2359, 6255, 5686, 1420, 3729, 1951, 2114, 5731, 2655, 5732, 5997, 5278, 636, 6186, 4147, 3885, 4249, 5630, 1923, 1249, 3889, 6137, 782, 5807, 1334, 4413, 5648, 3723, 5487, 1356, 2999, 4178, 3213, 3078, 5520, 866, 1518, 539, 6426, 6339, 3212, 4220, 1731, 3339, 6380, 6108, 6035, 1675, 6194, 178, 6239, 1043, 4466, 401, 635, 3991, 3499, 3271, 384, 4983, 4702, 6329, 4856, 2388, 797, 4460, 6121, 5313, 2930, 543, 322, 2845, 875, 6208, 2343, 2079, 3580, 2560, 438, 4302, 5851, 3861, 1824, 3943, 3722, 1605, 468, 6489, 1336, 2852, 3004, 3969, 1861, 3182, 5434, 2183, 5274, 2713, 5281, 5157, 3980, 6095, 1868, 2801, 4997, 6462, 4190, 1273, 1022, 443, 5560, 3641, 1207, 4790, 3521, 3463, 4477, 6534, 2682, 5077, 348, 5367, 618, 5424, 4203, 4262, 3415, 2451, 4777, 4985, 1042, 2248, 5148, 6510, 958, 1958, 1117, 3894, 1836, 2558, 3505, 3847, 4719, 6320, 3559, 5720, 1872, 4372, 764, 161, 5365, 3232, 4633, 5677, 6413, 6547, 5668, 969, 6536, 2284, 2876, 3306, 679, 308, 2259, 5200, 4831, 1980, 3875, 3802, 5638, 6048, 3303, 2835, 3344, 3258, 3716, 1852, 4575, 5765, 864, 2501, 4909, 4084, 1850, 3012, 5938, 508, 6162, 5008, 111, 4495, 6240, 602, 2269, 5945, 1870, 3203, 1791, 5586, 6412, 4324, 5229, 6527, 1985, 3954, 3882, 1215, 3616, 6004, 6024, 5646, 6319, 1875, 309, 2271, 3492, 5957, 4556, 1180, 2696, 3851, 546, 5719, 4303, 1979, 5722, 936, 191, 5479, 3683, 5679, 2730, 3013, 6007, 3442, 2723, 2270, 4890, 5362, 2024, 1950, 3247, 5733, 3414, 2568, 1264, 3869, 6206, 2804, 5030, 4881, 1341, 3652, 5727, 4617, 1444, 1822, 3759, 3026, 4412, 1094, 1520, 3804, 6079, 2882, 634, 5480, 6524, 2241, 2402, 3696, 5433, 5951, 4901, 5645, 4853, 4877, 1212, 1530, 2902, 3347, 2368, 5117, 6003, 3970, 670, 3308, 3134, 3233, 6133, 1608, 2057, 2778, 1440, 1902, 5203, 3638, 3230, 2173, 2034, 32, 6172, 5971, 1329, 5049, 2354, 3157, 4544, 2715, 4848, 845, 3517, 6540, 202, 1108, 4801, 2738, 5348, 1816, 1689, 104, 6403, 3833, 1730, 2942, 1243, 2483, 1664, 3110, 4898, 595, 2848, 2587, 5922, 2437, 667, 6025, 2717, 832, 2324, 6429, 3059, 6499, 3769, 2166, 588, 6548, 2316, 1048, 4111, 3661, 4994, 3315, 1103, 6159, 4388, 4912, 5913, 2306, 953, 586, 5442, 429, 2832, 4788, 1514, 1201, 1489, 726, 5101, 3399, 4670, 4646, 321, 4115, 6456, 222, 4620, 4850, 5941, 1381, 5290, 258, 63, 20, 3901, 1772, 4748, 1432, 5024, 1282, 2305, 1946, 6287, 3216, 114, 2338, 133, 5179, 4277, 5522, 556, 5038, 3062, 3614, 44, 4897, 1274, 5175, 4559, 5260, 2968, 2941, 6383, 1859, 3014, 6384, 5883, 2892, 1006, 622, 550, 2833, 2026, 720, 3107, 2467, 2628, 2511, 6252, 927, 3348, 5131, 3153, 848, 198, 3878, 5111, 3316, 3938, 2010, 1578, 2695, 2199, 2257, 2821, 5772, 6052, 5125, 5476, 1113, 286, 442, 5052, 6040, 3915, 3951, 5359, 935, 4720, 2922, 632, 5876, 6053, 2923, 3571, 6321, 3629, 5773, 3159, 2650, 1188, 182, 3639, 1029, 2737, 4861, 4904, 6331, 809, 793, 3812, 374, 5539, 6023, 4011, 867, 3606, 3881, 4088, 238, 3720, 213, 1124, 1759, 2347, 5364, 630, 353, 1737, 1525, 6175, 4364, 613, 528, 2524, 5856, 5880, 74, 3477, 4717, 6486, 6017, 4000, 1497, 1379, 4224, 4390, 5510, 5019, 6531, 2282, 3865, 2089, 3603, 3781, 3310, 3887, 5273, 5036, 4624, 5120, 1419, 3349, 2404, 2419, 5436, 1595, 1016, 5448, 801, 2160, 1246, 1837, 3261, 2514, 2842, 802, 2025, 1501, 3094, 6378, 529, 5261, 5035, 4693, 4507, 1462, 3584, 3891, 6538, 2330, 4160, 753, 3121, 192, 3543, 1211, 1041, 3808, 2774, 70, 5198, 3836, 4322, 2829, 723, 3755, 5406, 6044, 3126, 5558, 5504, 1671, 6026, 3948, 3075, 758, 467, 4005, 642, 4815, 2434, 6165, 2895, 1453, 5534, 4226, 2469, 3566, 2547, 3219, 4136, 3743, 1773, 5010, 2198, 3873, 789, 2065, 601, 879, 2032, 4017, 1785, 2466, 6205, 6428, 469, 6120, 1701, 5632, 5431, 39, 37, 287, 2154, 2670, 4814, 3678, 1119, 3967, 373, 4709, 3590, 2178, 2233, 5451, 2721, 6156, 3671, 2830, 3757, 4354, 1904, 3791, 1209, 1584, 4063, 6076, 3417, 344, 2358, 2885, 6452, 5967, 1651, 3600, 3761, 1703, 4045, 3447, 4869, 4687, 1928, 2276, 199, 6481, 1184, 3630, 3662, 5837, 3299, 4085, 2344, 5760, 146, 2421, 6516, 2110, 242, 1975, 1290, 105, 5134, 5791, 4274, 1377, 846, 2427, 831, 4169, 4542, 5119, 4198, 4846, 5585, 2585, 2665, 2855, 4520, 5042, 885, 2247, 5142, 57, 3651, 765, 5793, 728, 5214, 3718, 4162, 5452, 1934, 6009, 1546, 792, 4727, 2145, 6179, 4289, 3037, 4332, 3673, 5028, 446, 3210, 5714, 1908, 769, 6375, 5800, 5262, 383, 6114, 3127, 1976, 1348, 3048, 3870, 4527, 4405, 6507, 2203, 2088, 772, 6193, 2766, 1507, 703, 1655, 4053, 5446, 5512, 4288, 3434, 620, 4648, 4216, 5764, 5234, 3503, 459, 399, 1586, 1413, 315, 1098, 2865, 59, 4824, 5774, 5855, 4092, 2000, 6530, 4489, 6295, 5531, 2689, 6098, 717, 4945, 6119, 1811, 4621, 2432, 5528, 4200, 5306, 839, 292, 4882, 69, 3064, 3902, 1454, 380, 4230, 6036, 5472, 786, 2741, 130, 6245, 5935, 6258, 3747, 2733, 877, 4209, 1698, 5625, 461, 1429, 6195, 3170, 4734, 313, 2141, 3826, 27, 1321, 2700, 4637, 1260, 4342, 1833, 4729, 5144, 6039, 5319, 5915, 5592, 2613, 5636, 1035, 887, 136, 928, 1214, 4955, 2813, 6096, 4606, 3684, 1268, 5514, 2732, 3551, 4572, 273, 1362, 3514, 5227, 3222, 2769, 5296, 4473, 4952, 2287, 2909, 6542, 544, 4090, 697, 3910, 5782, 3340, 4424, 2946, 3169, 1625, 317, 4212, 3739, 2191, 4723, 4979, 1121, 2116, 5929, 6324, 4295, 5878, 3177, 3706, 1823, 4707, 1451, 1523, 14, 1895, 4584, 5402, 107, 2806, 5832, 6512, 2007, 2596, 2531, 1025, 3217, 6090, 2662, 1202, 6082, 6005, 5854, 1623, 1350, 615, 2735, 141, 5044, 3941, 5118, 2983, 941, 919, 5066, 210, 6415, 2106, 3501, 2491, 3973, 240, 2530, 998, 2386, 4805, 5398, 3162, 4013, 36, 1190, 2012, 5626, 3314, 225, 1778, 2592, 2086, 2411, 6421, 3390, 1708, 3407, 2418, 1775, 3403, 3017, 3570, 18, 4870, 1189, 147, 2911, 3920, 6111, 463, 3050, 4535, 2836, 1033, 6142, 5324, 5486, 4408, 3481, 149, 340, 714, 3297, 6270, 2326, 2598, 4306, 1679, 3863, 5914, 3674, 3119, 2059, 1672, 5631, 3898, 1873, 3626, 3937, 4062, 4855, 878, 3429, 1418, 5093, 479, 5846, 4236, 6056, 3432, 1340, 4144, 1622, 3452, 5039, 2151, 3842, 716, 2506, 4396, 6275, 3091, 3610, 4573, 3604, 5633, 444, 1371, 6183, 3251, 2928, 4318, 3350, 4072, 1130, 6511, 4041, 2174, 2759, 5043, 263, 1463, 3528, 6371, 377, 3235, 5932, 3547, 5173, 4532, 6284, 511, 5354, 1781, 3589, 474, 5032, 4378, 1678, 5754, 475, 400, 2139, 4239, 2597, 3189, 870, 6041, 2063, 4128, 3653, 3697, 881, 5511, 6302, 3727, 4539, 6496, 6318, 2748, 3575, 3098, 5258, 1583, 1669, 1261, 3246, 1107, 402, 5702, 26, 458, 6434, 4315, 1376, 4392, 4493, 1034, 2711, 6535, 1374, 1838, 4516, 221, 2413, 127, 124, 155, 5775, 1434, 49, 767, 4055, 4010, 2423, 2078, 302, 5138, 3083, 5471, 1183, 2446, 2258, 207, 4094, 5190, 4164, 464, 1783, 3986, 2015, 3495, 3751, 4280, 1819, 4506, 2002, 5895, 2021, 6451, 3409, 2812, 5395, 1004, 2780, 2921, 5150, 3052, 6256, 4644, 4873, 433, 5294, 3154, 2629, 3418, 2875, 2262, 5604, 925, 3393, 5879, 1267, 4665, 2753, 1285, 5669, 6351, 966, 5286, 2521, 1297, 1087, 5454, 3215, 129, 5767, 6407, 2850, 4888, 1533, 2090, 3601, 3092, 4828, 3256, 2572, 6465, 1014, 5206, 1331, 5598, 4033, 6361, 4058, 4864, 5868, 4578, 58, 4387, 6430, 5718, 116, 3228, 314, 2798, 1572, 6170, 2325, 3392, 4663, 722, 2176, 5145, 2757, 2313, 4892, 5432, 3428, 1133, 5600, 478, 5503, 4946, 3329, 2957, 6219, 3143, 3236, 3681, 2098, 6437, 1792, 4992, 3724, 4533, 4899, 3507, 2889, 4439, 4779, 1099, 1983, 5474, 1841, 5836, 3984, 4694, 1682, 931, 2232, 4669, 1832, 1435, 2322, 6141, 1686, 2447, 4827, 3451, 2416, 507, 644, 4035, 1592, 5095, 4433, 2985, 675, 5974, 1272, 4205, 5439, 4328, 5523, 6047, 2144, 3229, 5100, 2494, 5513, 4445, 2797, 6521, 5048, 5240, 1915, 5191, 6113, 1324, 305, 768, 4434, 3849, 587, 4941, 6087, 2535, 5160, 542, 1410, 3325, 3806, 4681, 2609, 3708, 3242, 4118, 4553, 3830, 6525, 1293, 5934, 4091, 4531, 3679, 4154, 277, 5589, 5105, 1818, 4521, 962, 3010, 841, 2517, 1338, 4567, 5161, 4016, 790, 5549, 4786, 2341, 3855, 1696, 4422, 522, 4034, 1049, 2726, 3458, 5238, 1851, 5029, 5647, 2962, 4024, 1116, 621, 5070, 6139, 5839, 1459, 2424, 3657, 3709, 4040, 4043, 4632, 5956, 5141, 2254, 3381, 1010, 2221, 5937, 73, 4728, 387, 3039, 868, 5885, 5508, 3753, 3928, 5552, 1614, 3331, 4036, 447, 536, 1328, 3632, 3208, 5563, 4451, 6058, 5343, 1665, 3712, 5797, 2384, 683, 5730, 1540, 159, 3710, 5103, 5771, 3243, 2725, 3771, 1930, 5931, 1186, 5859, 2672, 2264, 3209, 2187, 4114, 3549, 5321, 134, 4106, 4586, 4529, 2646, 3748, 629, 299, 3857, 4310, 5548, 3958, 5353, 6203, 5368, 5011, 6250, 3766, 5637, 343, 2858, 3090, 363, 4867, 4440, 4565, 1790, 97, 5710, 6136, 1196, 1262, 2487, 6267, 6353, 3193, 4284, 3484, 4552, 6006, 6013, 6480, 1172, 3738, 430, 1185, 4607, 4817, 3327, 1947, 690, 67, 2563, 5559, 4616, 4993, 1296, 156, 279, 4773, 4692, 4056, 3981, 3670, 5705, 3888, 6498, 5450, 5441, 5127, 4577, 3859, 3581, 5297, 2074, 808, 4852, 3777, 2886, 5972, 6346, 1508, 4327, 1192, 3633, 2061, 2926, 1577, 5376, 2590, 3356, 2971, 4199, 1126, 4628, 4968, 6514, 4536, 702, 2688, 1028, 6487, 3533, 3076, 3305, 4110, 2586, 2894, 6333, 271, 2518, 454, 1628, 3223, 2577, 1078, 2309, 6457, 4502, 4978, 4680, 186, 3130, 5056, 1101, 4250, 3625, 4333, 3475, 754, 4268, 4885, 2426, 835, 3979, 382, 1905, 1869, 1355, 2918, 3774, 5465, 6537, 5280, 3337, 4488, 6386, 6237, 5065, 3141, 1250, 2414, 1127, 1529, 2863, 689, 2484, 4411, 3018, 4767, 4959, 5861, 6094, 2162, 5943, 4619, 3238, 6224, 3072, 5952, 5207, 376, 2825, 296, 4636, 916, 1609, 4227, 2408, 3817, 5611, 5862, 2031, 4908, 1447, 3466, 3161, 3404, 5709, 3433, 2285, 6458, 6014, 5762, 3593, 4081, 4304, 1568, 2056, 3395, 3579, 4498, 1460, 3378, 780, 4394, 4004, 1263, 1047, 4749, 2495, 6461, 865, 861, 2164, 3893, 5688, 2159, 4059, 3856, 2959, 3379, 2075, 1031, 5467, 381, 4804, 4771, 5805, 5640, 4281, 4194, 5838, 3472, 2645, 5635, 4276, 2831, 2937, 3778, 4745, 564, 3321, 763, 6178, 3152, 762, 3377, 2803, 4764, 4880, 3687, 5109, 1403, 515, 807, 1494, 3112, 2529, 5547, 2223, 6085, 4905, 1925, 3550, 4480, 4722, 2822, 1613, 4698, 1375, 623, 4770, 1491, 4151, 5627, 4282, 4478, 140, 1441, 1216, 1660, 4305, 950, 3043, 2984, 4718, 1096, 323, 4821, 2857, 6084, 3741, 2512, 2981, 1926, 3850, 1900, 2302, 4713, 5372, 545, 4245, 3934, 5919, 6459, 2722, 3510, 2304, 391, 6485, 3066, 48, 5954, 3191, 5310, 2653, 144, 6034, 5466, 1571, 4970, 6294, 3124, 5696, 1443, 4721, 1615, 303, 2177, 2161, 4113, 4579, 5968, 3322, 1945, 3239, 6304, 5978, 519, 4141, 4367, 422, 1253, 1598, 274, 2878, 3867, 4296, 5271, 5016, 6352, 959, 1086, 2244, 1278, 4969, 1500, 3998, 597, 143, 4374, 4444, 2583, 4453, 4142, 2182, 3167, 2188, 4464, 838, 6364, 2854, 35, 1844, 1357, 4938, 4809, 6286, 1981, 4170, 3592, 3797, 3007, 3921, 4806, 1574, 5315, 115, 2973, 4042, 5403, 2004, 5283, 6089, 3425, 5712, 5652, 513, 2504, 6277, 4155, 957, 2165, 2425, 4223, 3055, 524, 3659, 4165, 5312, 1953, 6444, 1602, 3015, 5094, 4243, 4798, 598, 4484, 3245, 5149, 3995, 4419, 4259, 756, 5067, 6539, 3900, 4726, 6218, 6529, 2691, 1749, 5387, 3254, 2747, 2888, 4076, 2109, 4656, 2170, 4156, 2122, 5711, 5643, 5121, 6262, 110, 5428, 844, 3932, 1326, 4410, 852, 3714, 2879, 4330, 2943, 5864, 1046, 4659, 5844, 1765, 4246, 3473, 3088, 4957, 1422, 4438, 3482, 4576, 5612, 3338, 5889, 3241, 6016, 1258, 2401, 3487, 194, 2639, 3283, 6097, 375, 4238, 4998, 2565, 4131, 2605, 2887, 2676, 1673, 25, 457, 5265, 2236, 3835, 3328, 4697, 774, 2503, 3183, 6448, 2496, 3680, 3534, 1736, 3424, 503, 3174, 2193, 4093, 6427, 3627, 351, 4253, 1589, 3332, 5054, 5977, 5699, 2082, 6116, 5920, 1918, 5917, 3822, 470, 4301, 1656, 2940, 5933, 3668, 5301, 4803, 5924, 2112, 4525, 119, 5344, 396, 3795, 6018, 4963, 2275, 1706, 1093, 2471, 3355, 1856, 4140]\n",
      "val ids:  [4626, 5691, 5221, 1906, 4554, 3548, 4474, 2591, 2861, 1052, 1897, 2453, 1993, 4958, 585, 1411, 2567, 3749, 2955, 5228, 4202, 1874, 281, 2029, 3342, 5567, 1957, 4102, 1437, 1687, 1745, 3462, 2251, 260, 5022, 968, 5976, 3069, 2308, 5023, 5975, 6493, 5587, 3904, 3394, 5020, 2615, 682, 2972, 2398, 2643, 4785, 4505, 6494, 484, 1244, 3490, 2792, 1920, 2438, 5435, 6423, 1452, 1995, 1991, 5275, 2710, 6356, 3919, 4218, 1373, 434, 3994, 31, 5529, 6325, 1697, 3516, 2934, 4232, 6166, 5614, 2476, 227, 3370, 1191, 2229, 5223, 940, 2913, 6408, 2474, 551, 2192, 552, 2745, 4051, 791, 3226, 882, 565, 4492, 1748, 3053, 4947, 2994, 1914, 5857, 4844, 3406, 676, 4073, 1461, 1488, 2489, 2350, 4341, 4028, 1756, 2666, 727, 5311, 4003, 3326, 4612, 2630, 3529, 5267, 1744, 6399, 833, 1835, 5276, 4459, 76, 617, 3440, 2963, 5139, 206, 4896, 3502, 6171, 3400, 6190, 1118, 4822, 3255, 2328, 5285, 3081, 6417, 61, 2731, 79, 3721, 2667, 2729, 609, 5369, 5694, 3402, 2320, 1168, 776, 2314, 5757, 1509, 2528, 1956, 6196, 766, 393, 3848, 350, 3275, 2267, 2099, 6285, 3829, 283, 1699, 4061, 5695, 5218, 3884, 1762, 2552, 1427, 2658, 2559, 441, 4736, 2641, 672, 2266, 4211, 5562, 1992, 2087, 6106, 60, 5154, 6253, 6374, 3809, 6264, 4519, 3180, 4157, 3838, 3426, 4454, 4522, 934, 1335, 6345, 725, 2838, 3595, 5792, 3099, 2991, 5151, 5542, 2017, 1176, 3609, 2117, 4421, 2974, 5026, 3248, 2278, 4939, 1165, 3853, 6288, 4645, 4283, 1691, 5606, 1430, 1173, 4290, 4878, 2351, 3176, 3561, 3922, 4356, 3074, 5266, 2286, 1131, 4940, 2815, 4371, 3837, 4337, 1916, 62, 6433, 4711, 1997, 506, 3375, 5535, 3672, 2119, 1680, 3391, 2532, 3165, 1203, 2578, 534, 923, 1358, 6057, 3578, 4442, 5964, 6289, 4596, 5339, 135, 4381, 132, 5396, 177, 312, 2599, 3703, 4613, 4373, 5892, 2826, 698, 518, 1666, 1091, 451, 592, 3801, 4471, 1298, 4974, 4021, 2479, 3385, 2997, 1760, 589, 1515, 2400, 4518, 6010, 6128, 6107, 2510, 5215, 3715, 2228, 394, 4951, 2507, 4052, 239, 3273, 4739, 6541, 5958, 2155, 1580, 5098, 2001, 3504, 3365, 4668, 2011, 4316, 1354, 2554, 4247, 3628, 914, 4995, 4007, 1456, 3298, 6447, 1830, 1513, 4562, 3073, 3899, 2435, 4145, 4123, 5421, 540, 3252, 2084, 4598, 3307, 4465, 2638, 4585, 2080, 1931, 637, 2315, 5795, 2664, 2768, 4089, 3935, 6431, 1045, 6355, 5282, 3691, 2239, 5881, 4287, 3949, 5264, 3137, 5680, 354, 4643, 4834, 3552, 2699, 5778, 4574, 5079, 4389, 5537, 2647, 3519, 3485, 2576, 3467, 4039, 4551, 5186, 1618, 6209, 6060, 121, 3175, 2914, 3792, 3862, 4382, 5225, 6248, 926, 4435, 1164, 3599, 6157, 347, 4075, 1663, 5516, 4772, 1754, 1254, 1030, 6269, 2077, 3730, 5835, 6187, 3762, 3319, 5230, 2903, 6050, 1941, 3470, 2442, 231, 2028, 715, 5430, 1871, 3486, 6347, 1284, 709, 3006, 4134, 4700, 4618, 4886, 1405, 3061, 1597, 2336, 5507, 2663, 2718, 318, 2549, 3002, 189, 1789, 2958, 2444, 5649, 297, 3192, 278, 4549, 3468, 1707, 2238, 4313, 5217, 3758, 4964, 1793, 1280, 1521, 854, 3531, 181, 2573, 30, 784, 1593, 4317, 4423, 5713, 1579, 3109, 695, 439, 691, 5155, 6029, 2755, 4906, 3546, 2566, 5323, 5569, 472, 466, 2644, 6011, 5697, 1937, 5102, 4027, 5939, 3675, 3295, 2147, 45, 3476, 276, 3237, 5014, 3545, 5536, 4166, 3364, 288, 2008, 5462, 304, 3779, 4695, 4538, 2525, 2905, 692, 2473, 2964, 1863, 3313, 211, 5204, 3602, 5322, 4135, 3450, 6031, 3983, 3401, 1414, 2881, 6126, 2656, 2321, 5097, 5750, 6492, 2796, 1426, 1088, 6242, 3096, 1668, 2502, 3021, 4172, 1782, 1596, 5930, 3150, 4927, 2140, 5483, 2992, 1776, 3318, 4012, 3567, 2069, 2862, 3405, 5521, 4456, 4932, 5758, 3964, 5216, 2686, 5040, 4715, 6520, 4903, 5018, 3028, 5226, 6054, 6043, 2654, 4638, 4744, 2430, 1449, 1569, 5768, 4555, 6366, 3736, 1499, 3268, 5707, 1366, 6418, 23, 719, 4735, 1903, 5447, 366, 2929, 4143, 4653, 2332, 1157, 4462, 4666, 912, 2104, 5133, 1984, 2811, 5182, 880, 6169, 3168, 6453, 1617, 1519, 3266, 2742, 3843, 4159, 4153, 2816, 229, 4336, 4191, 5034, 2222, 485, 1847, 3122, 1936, 2588, 5132, 3413, 4407, 5397, 1242, 3054, 2348, 2603, 5068, 4792, 563, 535, 2475, 4776, 71, 2429, 775, 3523, 4150, 718, 6188, 4319, 3464, 3686, 3353, 5538, 4279, 2617, 4988, 3398, 6381, 1740, 1283, 2877, 2515, 5708, 2038, 6211, 541, 631, 3131, 386, 5641, 2610, 3384, 4398, 184, 3634, 5180, 5069, 2799, 2880, 6243, 3699, 6222, 937, 349, 6290, 2874, 6204, 6468, 1865, 4541, 3648, 2805, 4369, 4375, 1922, 4884, 5091, 5110, 2652, 591, 4359, 1083, 5143, 3839, 6103, 3500, 1786, 6440, 5597, 724, 3807, 6015, 209, 4724, 553, 3257, 435, 3164, 4799, 1667, 3583, 2947, 2396, 4026, 859, 5623, 2226, 5532, 2091, 3611, 3874, 1291, 4255, 4928, 2146, 1281, 777, 1450, 220, 5123, 4943, 1742, 4811, 4103, 2013, 4469, 5551, 2807, 3944, 6508, 1021, 5076, 4257, 1369, 1178, 3416, 3731, 6241, 5159, 1855, 2108, 2569, 3289, 5561, 3206, 3946, 3676, 1359, 6176, 378, 3420, 1090, 677, 2824, 3459, 3923, 4953, 2764, 6238, 523, 2522, 370, 1599, 6216, 1402, 4583, 4797, 3924, 1287, 3872, 4125, 3558, 6495, 6442, 6379, 3966, 5307, 1455, 1588, 5318, 3520, 4504, 5429, 3794, 145, 4070, 4746, 6191, 1929, 3788, 357, 5947, 699, 1814, 4023, 1893, 4403, 423, 3963, 1448, 5320, 5152, 6344, 4705, 3027, 1496, 4540, 4571, 970, 19, 2987, 4851, 4221, 4098, 603, 5371, 510, 4022, 3982, 5726, 5027, 226, 2679, 1573, 2814, 1854, 1457, 2115, 5863, 2896, 4996, 5279, 4014, 1676, 2594, 5456, 2071, 2067, 1159, 5211, 1123, 693, 4793, 43, 3082, 701, 3813, 4404, 6279, 4819, 4149, 1743, 3194, 4109, 2498, 4082, 1265, 6455, 3358, 1277, 1161, 4273, 929, 5716, 1943, 3834, 5777, 4545, 290, 1425, 4916, 3410, 965, 1085, 2186, 1433, 6425, 2969, 307, 3044, 4300, 684, 368, 4450, 3535, 4452, 6365, 5194, 997, 2561, 2782, 4270, 3643, 4298, 5485, 3692, 64, 3269, 6526, 2671, 4496, 456, 2995, 696, 944, 341, 851, 5725, 3784, 4588, 5381, 5201, 2859, 1247, 3019, 5113, 4050, 4599, 2039, 1009, 1843, 1537, 2417, 943, 3974, 5316, 4215, 4671, 2697, 999, 5075, 788, 1018, 6483, 1866, 3698, 1439, 388, 5385, 428, 1659, 6174, 804, 1857, 590, 5193, 3914, 2366, 5041, 2076, 2582, 4911, 4515, 5012, 6125, 4825, 1734, 2273, 5058, 4534, 5515, 462, 183, 3828, 5208, 3783, 5568, 5530, 4566, 6001, 5298, 3382, 3129, 3665, 4483, 4314, 800, 4654, 1996, 3288, 185, 4810, 4117, 1012, 2846, 352, 4116, 1423, 5108, 217, 3294, 1788, 2035, 3760, 5928, 5404, 3635, 2281, 4587, 228, 2279, 3664, 3455, 6359, 1050, 1999, 5478, 453, 3100, 5357, 4231, 837, 1361, 996, 6509, 3939, 6505, 432, 2492, 2370, 4732, 21, 3798, 1122, 2083, 5888, 2636, 3790, 2003, 359, 5871, 3067, 1092, 6129, 4564, 1289, 2036, 6109, 1536, 1100, 616, 5015, 1187, 6033, 2441, 4349, 6424, 871, 4526, 2675, 103, 6377, 3689, 1342, 275, 2513, 4569, 6441, 5422, 3506, 5458, 4816, 3864, 1763, 6488, 5783, 188, 5477, 913, 24, 1853, 2612, 5444, 3965, 3265, 3084, 1112, 285, 3480, 3846, 13, 1982, 4733, 1163, 3591, 5463, 4269, 5317, 6450, 710, 4415, 5174, 4486, 2443, 95, 4025, 272, 2081, 4078, 2253, 933, 1198, 28, 873, 5675, 6343, 6105, 3556, 361, 6550, 1543, 1206, 2225, 4589, 236, 5209, 1330, 4966, 3430, 3993, 6217, 6247, 2062, 5865, 2094, 3387, 2751, 6337, 2687, 2481, 1102, 4127, 300, 113, 4625, 750, 4299, 3292, 1179, 5715, 830, 1894, 4691, 2772, 6257, 2153, 5342, 3333, 526, 2356, 4894, 3996, 3646, 1942, 4604, 1271, 5923, 3562, 5443, 5810, 5847, 872, 99, 1200, 2392, 6117, 1205, 1834, 4069, 4982, 5284, 2101, 3070, 3968, 938, 5884, 4137, 3598, 6518, 3637, 5405, 2550, 5794, 4370, 1322, 3880, 4297, 4377, 2570, 5055, 671, 3764, 2754, 512, 4791, 4401, 3518, 3214, 425, 3366, 6490, 365, 888, 2534, 4120, 5841, 2606, 1438, 6350, 1502, 2924, 516, 5453, 1424, 4832, 4658, 398, 4973, 4293, 960, 3871, 6075, 1286, 4046, 3669, 4482, 4608, 1269, 6484, 3977, 612, 4335, 5289, 3971, 3913, 1505, 117, 4640, 6372, 5222, 4148, 4074, 4610, 521, 1839, 4784, 6439, 1038, 2118, 215, 641, 5543, 6460, 6207, 3654, 4829, 5591, 5994, 235, 5373, 6368, 2839, 4195, 2265, 949, 5599, 3022, 5177, 38, 6376, 2070, 4355, 3911, 2318, 3768, 3454, 1917, 1517, 5804, 1275, 5062, 4742, 4942, 645, 771, 5114, 1611, 952, 4561, 3541, 2693, 6214, 3105, 5594, 3291, 538, 5706, 3431, 3488, 2357, 1604, 757, 3756, 480, 316, 3786, 2342, 219, 4083, 1544, 2526, 1367, 2363, 1408, 3038, 5047, 157, 3290, 77, 3542, 779, 3588, 6382, 3244, 5293, 6012, 4972, 1089, 3120, 2249, 3818, 547, 5682, 5401, 1758, 150, 6404, 2179, 5729, 5378, 75, 955, 158, 2303, 4417, 3158, 712, 2121, 5488, 4437, 2268, 2480, 4629, 593, 6212, 562, 2107, 1752, 1445, 5382, 4796, 5845, 5464, 890, 2397, 3453, 525, 5973, 3025, 2167, 1019, 6049, 1132, 3997, 2058, 6543, 5078, 5146, 2637, 3819, 2743, 4037, 4002, 4476, 4543, 4499, 2938, 389, 3234, 4601, 3912, 6300, 4991, 5683, 1363, 5803, 4139, 6357, 5554, 2415, 884, 2933, 5129, 5842, 4849, 1251, 128, 6369, 3945, 3925, 2574, 4725, 5891, 4931, 2477, 6335, 4950, 3097, 6192, 2773, 3312, 1582, 5834, 5674, 6283, 6164, 1771, 1621, 3955, 1978, 3605, 3483, 4485, 5761, 4641, 5017, 5338, 4312, 1541, 1079, 4124, 2819, 932, 2864, 3286, 3990, 78, 72, 509, 3957, 4032, 5045, 4683, 1829, 3530, 3284, 4071, 4602, 4188, 5509, 2970, 1616, 4823, 6271, 5723, 2595, 4338, 311, 963, 5629, 2346, 5676, 6293, 5759, 4730, 3009, 3961, 1702, 2668, 3001, 4054, 4688, 4309, 154, 3787, 4781, 5613, 5670, 2449, 2149, 3190, 5126, 1746, 711, 3270, 1677, 847, 967, 5565, 1081, 4173, 3594, 5590, 108, 6546, 2770, 5545, 6118, 4871, 3537, 688, 853, 5437, 3660, 6401, 6077, 1755, 783, 5073, 6406, 5622, 5999, 2066, 4631, 4470, 2307, 208, 4915, 6330, 1987, 721, 3744, 6449, 3918, 2227, 6132, 4049, 3512, 4384, 3704, 945, 3136, 2196, 3046, 1360, 5268, 5936, 2712, 2935, 2809, 5236, 3734, 4741, 5639, 1648, 1197, 796, 2364, 3694, 594, 4523, 355, 5455, 5205, 606, 6305, 713, 4689, 3166, 3057, 638, 1849, 6251, 3368, 1591, 4490, 6292, 6326, 566, 1528, 3947, 3959, 3827, 1532, 4323, 3277, 527, 610, 1013, 2982, 3845, 2406, 1344, 850, 917, 2204, 1812, 4763, 6513, 531, 3263, 2602, 4331, 862, 2095, 2367, 5525, 2009, 2998, 3148, 2986, 5241, 961, 5602, 3225, 668, 66, 834, 5212, 3211, 4326, 2093, 1015, 1907, 3102, 1653, 4217, 3728, 2272, 1770, 1590, 3334, 4416, 1624, 372, 4353, 2818, 1171, 6454, 5556, 2906, 5350, 2557, 1779, 1757, 4930, 6385, 4358, 3886, 241, 1252, 559, 2499, 1876, 2060, 6348, 3146, 5183, 4857, 5766, 5704, 3422, 2255, 195, 1932, 3324, 101, 2827, 5021, 3707, 3163, 2776, 5256, 2716, 3071, 5875, 3793, 3008, 5843, 1777, 3796, 1912, 647, 1690, 3877, 5257, 2412, 4204, 1761, 3079, 3975, 3840, 4948, 4047, 707, 3474, 1213, 2123, 1493, 6266, 2033, 1539, 5299, 3988, 3042, 5013, 2533, 3554, 3367, 2399, 5393, 706, 4168, 1380, 5237, 4913, 6091, 1333, 3065, 3810, 4001, 4130, 918, 2230, 3020, 2758, 319, 2756, 5384, 3735, 1241, 6545, 883, 346, 5213, 4294, 3823, 2960, 2915, 5814, 4237, 1840, 5961, 6274, 197, 5527, 5426, 3892, 5809, 2450, 4097, 3750, 4611, 2323, 5377, 16, 5270, 3508, 1522, 6037, 395, 2184, 4761, 2939, 4789, 5112, 6158, 4044, 1674, 6387, 3655, 4414, 1911, 160, 1442, 3282, 5340, 1182, 4261, 5601, 1256, 2027, 68, 2936, 3264, 2841, 4642, 2944, 3544, 4361, 3745, 1351, 34, 3702, 4989, 4108, 3522, 2113, 2497, 223, 1011, 3565, 4068, 2490, 858, 5438, 6078, 3172, 1210, 2744, 6298, 2810, 4967, 5925, 5962, 1657, 2111, 2064, 4201, 2975, 627, 6059, 843, 6265, 1516, 5564, 3726, 1129, 3962, 5873, 3103, 5269, 2800, 5927, 4391, 3123, 153, 1531, 2919, 1110, 2752, 2014, 1446, 6349, 5358, 6436, 1933, 5882, 5541, 605, 5224, 371, 1026, 3311, 3775, 604, 205, 51, 5634, 295, 2436, 4990, 5189, 5374, 6268, 2478, 3259, 2472, 3927, 4962, 4432, 773, 1620, 4219, 2632, 6280, 5361, 5678, 4652, 2168, 3351, 3301, 4547, 4875, 1506, 203, 942, 1040, 4690, 6405, 403, 293, 4379, 3815, 1694, 2389, 53, 4934, 52, 1766, 759, 261, 5790, 599, 4179, 6282, 694, 224, 4662, 1704, 2030, 3396, 5616, 1585, 1538, 6177, 1036, 5158, 5671, 2097, 187, 4981, 1527, 1337, 2771, 4762, 2339, 6297, 554, 1921, 3330, 6115, 639, 4863, 1661, 3711, 2037, 805, 15, 5341, 4987, 3147, 1114, 922, 471, 364, 3144, 5588, 2369, 1409, 267, 4497, 4138, 3746, 4657, 3564, 1270, 2156, 5308, 1681, 1323, 4031, 3956, 5618, 855, 2194, 4343, 289, 3276, 4048, 4651, 1684, 1346, 5072, 2158, 4614, 2990, 2195, 1166, 6092, 29, 4780, 3642, 4548, 5651, 4954, 994, 3343, 6138, 3439, 1526, 4122, 1332, 3040, 2405, 5427, 3658, 5232, 4385, 5948, 4936, 448, 2932, 4057, 4334, 1845, 4242, 3960, 1733, 2505, 3497, 259, 3125, 1292, 4441, 1989, 5833, 2669, 4366, 5850, 3047, 626, 2976, 4807, 2795, 3427, 3077, 530, 5242, 2912, 3799, 1486, 2261, 6185, 3296, 3231, 3493, 1654, 2979, 4609, 1195, 5796, 1406, 5801, 6213, 1821, 3650, 3621, 1181, 1339, 4655, 2331, 6327, 3045, 42, 1352, 6367, 3016, 1575, 4708, 2073, 6127, 5877, 5953, 2023, 2989, 1710, 4447, 4889, 1295, 2333, 4174, 3359, 4446, 22, 6414, 798, 3978, 2897, 4080, 2828, 3357, 5998, 4706, 3705, 204, 2631, 5037, 214, 1948, 6201, 1485, 673, 1370, 4751, 2439, 4747, 5752, 5544, 4455, 5099, 2175, 3883, 102, 4461, 5033, 971, 5517, 6504, 6055, 3821, 3272, 2277, 5187, 2779, 1739, 2551, 4210, 4325, 131, 3820, 3752, 5122, 4449, 6028, 1027, 889, 4383, 5197, 596, 643, 3089, 4009, 5115, 109, 6254, 5921, 2361, 517, 5995, 4256, 4582, 4192, 3051, 6278, 4029, 2152, 3952, 2901, 397, 5009, 4233, 4560, 5392, 1944, 3933, 5969, 860, 3106, 5763, 4207, 1512, 3776, 3135, 2794, 4400, 3568, 2898, 6409, 674, 390, 2319, 6373, 6046, 358, 2988, 123, 6503, 4682, 4393, 3841, 3596, 5135, 6038, 2445, 6244, 1266, 2488, 4397, 3866, 4030, 6501, 3733, 6422, 5178, 3138, 3011, 4787, 5703, 2431, 3618, 2072, 6400, 2977, 3187, 6093, 3262, 4292, 3188, 4311, 3555, 3320, 4175, 1106, 4158, 3538, 476, 3151, 4240, 561, 857, 1003, 6124, 2345, 4971, 1051, 2775, 4783, 5457, 3770, 4380, 4570, 5785, 1570, 5243, 4352, 4214, 2243, 619, 5840, 5053, 1535, 4664, 686, 3421, 112, 1428, 3373, 1955, 5802, 2337, 5755, 5231, 481, 47, 5753, 3539, 4254, 1924, 2843, 5473, 3204, 5853, 1492, 3446, 3814, 4778, 4339, 2849, 4368, 2690, 1858, 1288, 5305, 4731, 1199, 3824, 3224, 4865, 5302, 3573, 1109, 5235, 4365, 5124, 4196, 1001, 4406, 1732, 2904, 5051, 1204, 367, 2409, 65, 6130, 1988, 5425, 2967, 869, 5128, 1787, 2197, 4235, 5769, 504, 4558, 5074, 1939, 1935, 1353, 3341, 4635, 2685, 2847, 1248, 5347, 1364, 2657, 951, 5445, 1162, 5482, 2516, 2698, 2727, 3582, 126, 806, 5607, 477, 3896, 3260, 2884, 4858, 4597, 4146, 2633, 3085, 4704, 4627, 2240, 2562, 1952, 946, 6086, 1913, 4487, 3496, 2016, 956, 2256, 473, 2564, 142, 1919, 4600, 1813, 6491, 6008, 2853, 2138, 1037, 5717, 2719, 2556, 4891, 5288, 5389, 6019, 2883, 1378, 2945, 1044, 3656, 5781, 995, 1612, 6083, 4876, 218, 3613, 2908, 4605, 1431, 152, 6022, 3644, 4750, 3173, 3685, 5595, 4475, 392, 3682, 3636, 1626, 1002, 1994, 1606, 1120, 362, 2189, 6189, 2231, 5894, 1545, 947, 5050, 1862, 3740, 4524, 3524, 3336, 1417, 6322, 5689, 232, 2635, 4845, 700, 1484, 2961, 460, 4360, 5728, 4107, 1077, 803, 5887, 5195, 1404, 2202, 4087, 4185, 2728, 4258, 5946, 2246, 151, 1134, 1910, 3024, 3576, 2329, 1998, 1076, 55, 3572, 2917, 2390, 5292, 3178, 886, 1688, 2310, 4975, 5701, 96, 6360, 4241, 3905, 1927, 2571, 3527, 6276, 2677, 6199, 3317, 3767, 752, 5644, 1193, 3250, 5673, 379, 1652, 4557, 3897, 4782, 369, 4463, 1125, 5798, 4808, 1024, 2808, 2143, 5869, 1017, 6104, 6338, 1601, 3479, 138, 5156, 3876, 785, 2385, 4710, 6101, 4847, 5351, 681, 3782, 4481, 320, 778, 2470, 3725, 3335, 1600, 5788, 5966, 5461, 5031, 6263, 4961, 2387, 1986, 3586, 4307, 1738, 6332, 4528, 3086, 5071, 5870, 3133, 749, 1607, 4278, 3448, 5867, 4491, 2335, 1751, 4187, 2171, 3858, 6140, 787, 1610, 2482, 122, 5057, 4467, 4639, 5866, 1567, 4860, 2201, 3218, 5619, 3624, 5815, 6446, 6354, 4514, 3631, 3156, 555, 4910, 1954, 3202, 3509, 5721, 6435, 5610, 6336, 1683, 1767, 5063, 3304, 5890, 4065, 2190, 5963, 5615, 5025, 1407, 607, 4623, 4935, 5519, 6463, 5107, 3907, 2523, 3302, 1587, 426, 4818, 1372, 5219, 6515, 4812, 5698, 6299, 452, 1104, 2739, 1368, 5263, 6021, 2006, 1909, 179, 269, 6200, 3754, 5996, 2927, 3890, 5475, 2274, 1255, 4965, 514, 4133, 6528, 3763, 196, 3087, 5557, 3640, 863, 3058, 1542, 5787, 628, 4291, 4104, 4630, 3374, 795, 625, 4409, 2575, 915, 2410, 3930, 284, 4568, 3181, 4794, 6051, 3397, 3489, 2692, 4879, 2403, 6160, 4501, 4105, 5609, 2762, 2684, 4765, 6081, 2749, 2593, 2172, 4086, 6088, 2465, 2317, 5593, 5184, 3693, 193, 6523, 3701, 5550, 560, 5848, 270, 6467, 3108, 2856, 6341, 1365, 2393, 1464, 505, 2548, 1603, 5388, 3411, 856, 3441, 5756, 5751, 5784, 5356, 6221, 4126, 537, 3587, 6197, 2634, 4826, 234, 2614, 6202, 3249, 4686, 5391]\n",
      "test ids:  [0, 1, 2, 3, 4, 5, 6, 7, 8, 9, 10, 11, 12, 40, 81, 82, 83, 84, 85, 86, 87, 88, 89, 90, 91, 92, 93, 94, 120, 162, 163, 164, 165, 166, 167, 168, 169, 170, 171, 172, 173, 174, 175, 200, 243, 244, 245, 246, 247, 248, 249, 250, 251, 252, 253, 254, 255, 256, 257, 280, 324, 325, 326, 327, 328, 329, 330, 331, 332, 333, 334, 335, 336, 337, 338, 339, 360, 405, 406, 407, 408, 409, 410, 411, 412, 413, 414, 415, 416, 417, 418, 419, 420, 421, 440, 486, 487, 488, 489, 490, 491, 492, 493, 494, 495, 496, 497, 498, 499, 500, 501, 502, 520, 567, 568, 569, 570, 571, 572, 573, 574, 575, 576, 577, 578, 579, 580, 581, 582, 583, 584, 600, 648, 649, 650, 651, 652, 653, 654, 655, 656, 657, 658, 659, 660, 661, 662, 663, 664, 665, 666, 680, 729, 730, 731, 732, 733, 734, 735, 736, 737, 738, 739, 740, 741, 742, 743, 744, 745, 746, 747, 748, 760, 810, 811, 812, 813, 814, 815, 816, 817, 818, 819, 820, 821, 822, 823, 824, 825, 826, 827, 828, 829, 840, 891, 892, 893, 894, 895, 896, 897, 898, 899, 900, 901, 902, 903, 904, 905, 906, 907, 908, 909, 910, 911, 920, 972, 973, 974, 975, 976, 977, 978, 979, 980, 981, 982, 983, 984, 985, 986, 987, 988, 989, 990, 991, 992, 993, 1000, 1053, 1054, 1055, 1056, 1057, 1058, 1059, 1060, 1061, 1062, 1063, 1064, 1065, 1066, 1067, 1068, 1069, 1070, 1071, 1072, 1073, 1074, 1075, 1080, 1135, 1136, 1137, 1138, 1139, 1140, 1141, 1142, 1143, 1144, 1145, 1146, 1147, 1148, 1149, 1150, 1151, 1152, 1153, 1154, 1155, 1156, 1160, 1217, 1218, 1219, 1220, 1221, 1222, 1223, 1224, 1225, 1226, 1227, 1228, 1229, 1230, 1231, 1232, 1233, 1234, 1235, 1236, 1237, 1238, 1240, 1300, 1301, 1302, 1303, 1304, 1305, 1306, 1307, 1308, 1309, 1310, 1311, 1312, 1313, 1314, 1315, 1316, 1317, 1318, 1319, 1320, 1382, 1383, 1384, 1385, 1386, 1387, 1388, 1389, 1390, 1391, 1392, 1393, 1394, 1395, 1396, 1397, 1398, 1399, 1400, 1401, 1465, 1466, 1467, 1468, 1469, 1470, 1471, 1472, 1473, 1474, 1475, 1476, 1477, 1478, 1479, 1480, 1481, 1482, 1483, 1547, 1548, 1549, 1550, 1551, 1552, 1553, 1554, 1555, 1556, 1557, 1558, 1559, 1560, 1561, 1562, 1563, 1564, 1565, 1629, 1630, 1631, 1632, 1633, 1634, 1635, 1636, 1637, 1638, 1639, 1640, 1641, 1642, 1643, 1644, 1645, 1646, 1647, 1700, 1712, 1713, 1714, 1715, 1716, 1717, 1718, 1719, 1720, 1721, 1722, 1723, 1724, 1725, 1726, 1727, 1728, 1780, 1794, 1795, 1796, 1797, 1798, 1799, 1800, 1801, 1802, 1803, 1804, 1805, 1806, 1807, 1808, 1809, 1810, 1860, 1877, 1878, 1879, 1880, 1881, 1882, 1883, 1884, 1885, 1886, 1887, 1888, 1889, 1890, 1891, 1892, 1940, 1959, 1960, 1961, 1962, 1963, 1964, 1965, 1966, 1967, 1968, 1969, 1970, 1971, 1972, 1973, 1974, 2020, 2040, 2041, 2042, 2043, 2044, 2045, 2046, 2047, 2048, 2049, 2050, 2051, 2052, 2053, 2054, 2055, 2100, 2120, 2124, 2125, 2126, 2127, 2128, 2129, 2130, 2131, 2132, 2133, 2134, 2135, 2136, 2137, 2180, 2200, 2206, 2207, 2208, 2209, 2210, 2211, 2212, 2213, 2214, 2215, 2216, 2217, 2218, 2219, 2260, 2280, 2289, 2290, 2291, 2292, 2293, 2294, 2295, 2296, 2297, 2298, 2299, 2300, 2340, 2360, 2371, 2372, 2373, 2374, 2375, 2376, 2377, 2378, 2379, 2380, 2381, 2382, 2420, 2440, 2454, 2455, 2456, 2457, 2458, 2459, 2460, 2461, 2462, 2463, 2464, 2500, 2520, 2536, 2537, 2538, 2539, 2540, 2541, 2542, 2543, 2544, 2545, 2546, 2580, 2600, 2618, 2619, 2620, 2621, 2622, 2623, 2624, 2625, 2626, 2627, 2660, 2680, 2701, 2702, 2703, 2704, 2705, 2706, 2707, 2708, 2709, 2740, 2760, 2783, 2784, 2785, 2786, 2787, 2788, 2789, 2790, 2791, 2820, 2840, 2866, 2867, 2868, 2869, 2870, 2871, 2872, 2873, 2900, 2920, 2948, 2949, 2950, 2951, 2952, 2953, 2954, 2980, 3000, 3030, 3031, 3032, 3033, 3034, 3035, 3036, 3060, 3080, 3113, 3114, 3115, 3116, 3117, 3118, 3140, 3160, 3195, 3196, 3197, 3198, 3199, 3200, 3220, 3240, 3278, 3279, 3280, 3281, 3300, 3360, 3361, 3362, 3363, 3380, 3443, 3444, 3445, 3460, 3525, 3526, 3540, 3607, 3608, 3620, 3690, 3700, 3772, 3780, 3854, 3860, 3936, 3940, 4018, 4019, 4020, 4099, 4100, 4101, 4180, 4181, 4182, 4183, 4260, 4263, 4264, 4265, 4266, 4340, 4345, 4346, 4347, 4348, 4420, 4427, 4428, 4429, 4430, 4431, 4500, 4508, 4509, 4510, 4511, 4512, 4513, 4580, 4590, 4591, 4592, 4593, 4594, 4595, 4660, 4672, 4673, 4674, 4675, 4676, 4677, 4678, 4740, 4753, 4754, 4755, 4756, 4757, 4758, 4759, 4760, 4820, 4835, 4836, 4837, 4838, 4839, 4840, 4841, 4842, 4843, 4900, 4917, 4918, 4919, 4920, 4921, 4922, 4923, 4924, 4925, 4980, 4999, 5000, 5001, 5002, 5003, 5004, 5005, 5006, 5007, 5060, 5080, 5081, 5082, 5083, 5084, 5085, 5086, 5087, 5088, 5089, 5090, 5140, 5162, 5163, 5164, 5165, 5166, 5167, 5168, 5169, 5170, 5171, 5172, 5220, 5244, 5245, 5246, 5247, 5248, 5249, 5250, 5251, 5252, 5253, 5254, 5255, 5300, 5326, 5327, 5328, 5329, 5330, 5331, 5332, 5333, 5334, 5335, 5336, 5337, 5380, 5407, 5408, 5409, 5410, 5411, 5412, 5413, 5414, 5415, 5416, 5417, 5418, 5419, 5420, 5460, 5489, 5490, 5491, 5492, 5493, 5494, 5495, 5496, 5497, 5498, 5499, 5500, 5501, 5502, 5540, 5571, 5572, 5573, 5574, 5575, 5576, 5577, 5578, 5579, 5580, 5581, 5582, 5583, 5584, 5620, 5653, 5654, 5655, 5656, 5657, 5658, 5659, 5660, 5661, 5662, 5663, 5664, 5665, 5666, 5667, 5700, 5734, 5735, 5736, 5737, 5738, 5739, 5740, 5741, 5742, 5743, 5744, 5745, 5746, 5747, 5748, 5749, 5780, 5816, 5817, 5818, 5819, 5820, 5821, 5822, 5823, 5824, 5825, 5826, 5827, 5828, 5829, 5830, 5831, 5860, 5898, 5899, 5900, 5901, 5902, 5903, 5904, 5905, 5906, 5907, 5908, 5909, 5910, 5911, 5912, 5940, 5979, 5980, 5981, 5982, 5983, 5984, 5985, 5986, 5987, 5988, 5989, 5990, 5991, 5992, 5993, 6020, 6061, 6062, 6063, 6064, 6065, 6066, 6067, 6068, 6069, 6070, 6071, 6072, 6073, 6074, 6100, 6143, 6144, 6145, 6146, 6147, 6148, 6149, 6150, 6151, 6152, 6153, 6154, 6155, 6180, 6225, 6226, 6227, 6228, 6229, 6230, 6231, 6232, 6233, 6234, 6235, 6236, 6260, 6306, 6307, 6308, 6309, 6310, 6311, 6312, 6313, 6314, 6315, 6316, 6317, 6340, 6388, 6389, 6390, 6391, 6392, 6393, 6394, 6395, 6396, 6397, 6398, 6420, 6470, 6471, 6472, 6473, 6474, 6475, 6476, 6477, 6478, 6479, 6500, 6552, 6553, 6554, 6555, 6556, 6557, 6558, 6559, 6560]\n",
      "CPU times: user 170 ms, sys: 12 ms, total: 182 ms\n",
      "Wall time: 181 ms\n"
     ]
    }
   ],
   "source": [
    "%%time\n",
    "n_total = len(simulation.dataframe)\n",
    "n_train = len(simulation.dataframe[simulation.dataframe.type_of == \"train\"])\n",
    "n_val = len(simulation.dataframe[simulation.dataframe.type_of == \"val\"])\n",
    "n_test = len(simulation.dataframe[simulation.dataframe.type_of == \"test\"])\n",
    "n_train_hamiltonians = len(simulation.train_ids)\n",
    "n_val_hamiltonians = len(simulation.val_ids)\n",
    "n_test_hamiltonians = len(simulation.test_ids)\n",
    "n_total_hamiltonians = n_train_hamiltonians + n_val_hamiltonians + n_test_hamiltonians\n",
    "\n",
    "print(\"% train: \", n_train/n_total)\n",
    "print(\"% val: \",  n_val/n_total)\n",
    "print(\"% test: \", n_test/n_total)\n",
    "print(\"% train + val + test: \", (n_train+n_val+n_test)/n_total)\n",
    "print(\"\\n\")\n",
    "print(\"number of train hamiltonians: \", n_train_hamiltonians)\n",
    "print(\"number of val hamiltonians: \", n_val_hamiltonians)\n",
    "print(\"number of test hamiltonians: \", n_test_hamiltonians)\n",
    "print(\"total number of hamiltonians: \", n_total_hamiltonians)\n",
    "print(\"\\n\")\n",
    "print(\"train ids: \", simulation.train_ids)\n",
    "print(\"val ids: \", simulation.val_ids)\n",
    "print(\"test ids: \", simulation.test_ids)"
   ]
  },
  {
   "cell_type": "markdown",
   "metadata": {
    "papermill": {
     "duration": 0.037144,
     "end_time": "2020-07-09T23:45:25.967353",
     "exception": false,
     "start_time": "2020-07-09T23:45:25.930209",
     "status": "completed"
    },
    "tags": []
   },
   "source": [
    "#### Checking summaries"
   ]
  },
  {
   "cell_type": "code",
   "execution_count": 27,
   "metadata": {
    "execution": {
     "iopub.execute_input": "2020-07-09T23:45:26.042374Z",
     "iopub.status.busy": "2020-07-09T23:45:26.042045Z",
     "iopub.status.idle": "2020-07-09T23:45:26.061899Z",
     "shell.execute_reply": "2020-07-09T23:45:26.062202Z"
    },
    "papermill": {
     "duration": 0.058544,
     "end_time": "2020-07-09T23:45:26.062266",
     "exception": false,
     "start_time": "2020-07-09T23:45:26.003722",
     "status": "completed"
    },
    "tags": []
   },
   "outputs": [
    {
     "name": "stdout",
     "output_type": "stream",
     "text": [
      "length of ham_summary:  6561\n",
      "CPU times: user 100 µs, sys: 0 ns, total: 100 µs\n",
      "Wall time: 59.6 µs\n"
     ]
    },
    {
     "data": {
      "text/html": [
       "<div>\n",
       "<style scoped>\n",
       "    .dataframe tbody tr th:only-of-type {\n",
       "        vertical-align: middle;\n",
       "    }\n",
       "\n",
       "    .dataframe tbody tr th {\n",
       "        vertical-align: top;\n",
       "    }\n",
       "\n",
       "    .dataframe thead th {\n",
       "        text-align: right;\n",
       "    }\n",
       "</style>\n",
       "<table border=\"1\" class=\"dataframe\">\n",
       "  <thead>\n",
       "    <tr style=\"text-align: right;\">\n",
       "      <th></th>\n",
       "      <th>t1</th>\n",
       "      <th>t2</th>\n",
       "      <th>type_of</th>\n",
       "      <th>-1</th>\n",
       "      <th>0</th>\n",
       "      <th>1</th>\n",
       "      <th>2</th>\n",
       "      <th>phase</th>\n",
       "      <th>pred_phase</th>\n",
       "    </tr>\n",
       "    <tr>\n",
       "      <th>id</th>\n",
       "      <th></th>\n",
       "      <th></th>\n",
       "      <th></th>\n",
       "      <th></th>\n",
       "      <th></th>\n",
       "      <th></th>\n",
       "      <th></th>\n",
       "      <th></th>\n",
       "      <th></th>\n",
       "    </tr>\n",
       "  </thead>\n",
       "  <tbody>\n",
       "    <tr>\n",
       "      <th>0</th>\n",
       "      <td>-2.0</td>\n",
       "      <td>-2.00</td>\n",
       "      <td>test</td>\n",
       "      <td>0.08</td>\n",
       "      <td>0.44</td>\n",
       "      <td>0.21</td>\n",
       "      <td>0.27</td>\n",
       "      <td>999</td>\n",
       "      <td>0</td>\n",
       "    </tr>\n",
       "    <tr>\n",
       "      <th>1</th>\n",
       "      <td>-2.0</td>\n",
       "      <td>-1.95</td>\n",
       "      <td>test</td>\n",
       "      <td>0.13</td>\n",
       "      <td>0.44</td>\n",
       "      <td>0.18</td>\n",
       "      <td>0.25</td>\n",
       "      <td>-1</td>\n",
       "      <td>0</td>\n",
       "    </tr>\n",
       "    <tr>\n",
       "      <th>2</th>\n",
       "      <td>-2.0</td>\n",
       "      <td>-1.90</td>\n",
       "      <td>test</td>\n",
       "      <td>0.13</td>\n",
       "      <td>0.41</td>\n",
       "      <td>0.22</td>\n",
       "      <td>0.24</td>\n",
       "      <td>-1</td>\n",
       "      <td>0</td>\n",
       "    </tr>\n",
       "    <tr>\n",
       "      <th>3</th>\n",
       "      <td>-2.0</td>\n",
       "      <td>-1.85</td>\n",
       "      <td>test</td>\n",
       "      <td>0.14</td>\n",
       "      <td>0.38</td>\n",
       "      <td>0.23</td>\n",
       "      <td>0.25</td>\n",
       "      <td>-1</td>\n",
       "      <td>0</td>\n",
       "    </tr>\n",
       "    <tr>\n",
       "      <th>4</th>\n",
       "      <td>-2.0</td>\n",
       "      <td>-1.80</td>\n",
       "      <td>test</td>\n",
       "      <td>0.18</td>\n",
       "      <td>0.42</td>\n",
       "      <td>0.21</td>\n",
       "      <td>0.19</td>\n",
       "      <td>-1</td>\n",
       "      <td>0</td>\n",
       "    </tr>\n",
       "    <tr>\n",
       "      <th>...</th>\n",
       "      <td>...</td>\n",
       "      <td>...</td>\n",
       "      <td>...</td>\n",
       "      <td>...</td>\n",
       "      <td>...</td>\n",
       "      <td>...</td>\n",
       "      <td>...</td>\n",
       "      <td>...</td>\n",
       "      <td>...</td>\n",
       "    </tr>\n",
       "    <tr>\n",
       "      <th>6556</th>\n",
       "      <td>2.0</td>\n",
       "      <td>1.80</td>\n",
       "      <td>test</td>\n",
       "      <td>0.35</td>\n",
       "      <td>0.15</td>\n",
       "      <td>0.20</td>\n",
       "      <td>0.30</td>\n",
       "      <td>-1</td>\n",
       "      <td>-1</td>\n",
       "    </tr>\n",
       "    <tr>\n",
       "      <th>6557</th>\n",
       "      <td>2.0</td>\n",
       "      <td>1.85</td>\n",
       "      <td>test</td>\n",
       "      <td>0.31</td>\n",
       "      <td>0.15</td>\n",
       "      <td>0.22</td>\n",
       "      <td>0.32</td>\n",
       "      <td>-1</td>\n",
       "      <td>2</td>\n",
       "    </tr>\n",
       "    <tr>\n",
       "      <th>6558</th>\n",
       "      <td>2.0</td>\n",
       "      <td>1.90</td>\n",
       "      <td>test</td>\n",
       "      <td>0.26</td>\n",
       "      <td>0.21</td>\n",
       "      <td>0.20</td>\n",
       "      <td>0.33</td>\n",
       "      <td>-1</td>\n",
       "      <td>2</td>\n",
       "    </tr>\n",
       "    <tr>\n",
       "      <th>6559</th>\n",
       "      <td>2.0</td>\n",
       "      <td>1.95</td>\n",
       "      <td>test</td>\n",
       "      <td>0.24</td>\n",
       "      <td>0.23</td>\n",
       "      <td>0.16</td>\n",
       "      <td>0.37</td>\n",
       "      <td>-1</td>\n",
       "      <td>2</td>\n",
       "    </tr>\n",
       "    <tr>\n",
       "      <th>6560</th>\n",
       "      <td>2.0</td>\n",
       "      <td>2.00</td>\n",
       "      <td>test</td>\n",
       "      <td>0.17</td>\n",
       "      <td>0.22</td>\n",
       "      <td>0.27</td>\n",
       "      <td>0.34</td>\n",
       "      <td>999</td>\n",
       "      <td>2</td>\n",
       "    </tr>\n",
       "  </tbody>\n",
       "</table>\n",
       "<p>6561 rows × 9 columns</p>\n",
       "</div>"
      ],
      "text/plain": [
       "       t1    t2 type_of    -1     0     1     2  phase  pred_phase\n",
       "id                                                                \n",
       "0    -2.0 -2.00    test  0.08  0.44  0.21  0.27    999           0\n",
       "1    -2.0 -1.95    test  0.13  0.44  0.18  0.25     -1           0\n",
       "2    -2.0 -1.90    test  0.13  0.41  0.22  0.24     -1           0\n",
       "3    -2.0 -1.85    test  0.14  0.38  0.23  0.25     -1           0\n",
       "4    -2.0 -1.80    test  0.18  0.42  0.21  0.19     -1           0\n",
       "...   ...   ...     ...   ...   ...   ...   ...    ...         ...\n",
       "6556  2.0  1.80    test  0.35  0.15  0.20  0.30     -1          -1\n",
       "6557  2.0  1.85    test  0.31  0.15  0.22  0.32     -1           2\n",
       "6558  2.0  1.90    test  0.26  0.21  0.20  0.33     -1           2\n",
       "6559  2.0  1.95    test  0.24  0.23  0.16  0.37     -1           2\n",
       "6560  2.0  2.00    test  0.17  0.22  0.27  0.34    999           2\n",
       "\n",
       "[6561 rows x 9 columns]"
      ]
     },
     "execution_count": 27,
     "metadata": {},
     "output_type": "execute_result"
    }
   ],
   "source": [
    "%%time\n",
    "ham_summary = simulation.hamiltonian_summary\n",
    "print(\"length of ham_summary: \", len(ham_summary))\n",
    "ham_summary"
   ]
  },
  {
   "cell_type": "code",
   "execution_count": 28,
   "metadata": {
    "execution": {
     "iopub.execute_input": "2020-07-09T23:45:26.139398Z",
     "iopub.status.busy": "2020-07-09T23:45:26.139089Z",
     "iopub.status.idle": "2020-07-09T23:45:26.171633Z",
     "shell.execute_reply": "2020-07-09T23:45:26.171313Z"
    },
    "papermill": {
     "duration": 0.070922,
     "end_time": "2020-07-09T23:45:26.171685",
     "exception": false,
     "start_time": "2020-07-09T23:45:26.100763",
     "status": "completed"
    },
    "tags": []
   },
   "outputs": [
    {
     "data": {
      "text/html": [
       "<div>\n",
       "<style scoped>\n",
       "    .dataframe tbody tr th:only-of-type {\n",
       "        vertical-align: middle;\n",
       "    }\n",
       "\n",
       "    .dataframe tbody tr th {\n",
       "        vertical-align: top;\n",
       "    }\n",
       "\n",
       "    .dataframe thead th {\n",
       "        text-align: right;\n",
       "    }\n",
       "</style>\n",
       "<table border=\"1\" class=\"dataframe\">\n",
       "  <thead>\n",
       "    <tr style=\"text-align: right;\">\n",
       "      <th></th>\n",
       "      <th>t1</th>\n",
       "      <th>t2</th>\n",
       "      <th>-1</th>\n",
       "      <th>0</th>\n",
       "      <th>1</th>\n",
       "      <th>2</th>\n",
       "      <th>phase</th>\n",
       "      <th>pred_phase</th>\n",
       "    </tr>\n",
       "  </thead>\n",
       "  <tbody>\n",
       "    <tr>\n",
       "      <th>count</th>\n",
       "      <td>6561.000000</td>\n",
       "      <td>6.561000e+03</td>\n",
       "      <td>6561.000000</td>\n",
       "      <td>6561.000000</td>\n",
       "      <td>6561.000000</td>\n",
       "      <td>6561.000000</td>\n",
       "      <td>6561.000000</td>\n",
       "      <td>6561.000000</td>\n",
       "    </tr>\n",
       "    <tr>\n",
       "      <th>mean</th>\n",
       "      <td>0.000000</td>\n",
       "      <td>-4.331917e-18</td>\n",
       "      <td>0.189337</td>\n",
       "      <td>0.317452</td>\n",
       "      <td>0.312792</td>\n",
       "      <td>0.180419</td>\n",
       "      <td>28.045877</td>\n",
       "      <td>0.494742</td>\n",
       "    </tr>\n",
       "    <tr>\n",
       "      <th>std</th>\n",
       "      <td>1.169134</td>\n",
       "      <td>1.169134e+00</td>\n",
       "      <td>0.333405</td>\n",
       "      <td>0.413315</td>\n",
       "      <td>0.413859</td>\n",
       "      <td>0.326474</td>\n",
       "      <td>163.557011</td>\n",
       "      <td>1.003049</td>\n",
       "    </tr>\n",
       "    <tr>\n",
       "      <th>min</th>\n",
       "      <td>-2.000000</td>\n",
       "      <td>-2.000000e+00</td>\n",
       "      <td>0.000000</td>\n",
       "      <td>0.000000</td>\n",
       "      <td>0.000000</td>\n",
       "      <td>0.000000</td>\n",
       "      <td>-1.000000</td>\n",
       "      <td>-1.000000</td>\n",
       "    </tr>\n",
       "    <tr>\n",
       "      <th>25%</th>\n",
       "      <td>-1.000000</td>\n",
       "      <td>-1.000000e+00</td>\n",
       "      <td>0.000000</td>\n",
       "      <td>0.000000</td>\n",
       "      <td>0.000000</td>\n",
       "      <td>0.000000</td>\n",
       "      <td>0.000000</td>\n",
       "      <td>0.000000</td>\n",
       "    </tr>\n",
       "    <tr>\n",
       "      <th>50%</th>\n",
       "      <td>0.000000</td>\n",
       "      <td>0.000000e+00</td>\n",
       "      <td>0.010000</td>\n",
       "      <td>0.050000</td>\n",
       "      <td>0.060000</td>\n",
       "      <td>0.010000</td>\n",
       "      <td>1.000000</td>\n",
       "      <td>0.000000</td>\n",
       "    </tr>\n",
       "    <tr>\n",
       "      <th>75%</th>\n",
       "      <td>1.000000</td>\n",
       "      <td>1.000000e+00</td>\n",
       "      <td>0.150000</td>\n",
       "      <td>0.860000</td>\n",
       "      <td>0.860000</td>\n",
       "      <td>0.130000</td>\n",
       "      <td>1.000000</td>\n",
       "      <td>1.000000</td>\n",
       "    </tr>\n",
       "    <tr>\n",
       "      <th>max</th>\n",
       "      <td>2.000000</td>\n",
       "      <td>2.000000e+00</td>\n",
       "      <td>1.000000</td>\n",
       "      <td>1.000000</td>\n",
       "      <td>1.000000</td>\n",
       "      <td>1.000000</td>\n",
       "      <td>999.000000</td>\n",
       "      <td>2.000000</td>\n",
       "    </tr>\n",
       "  </tbody>\n",
       "</table>\n",
       "</div>"
      ],
      "text/plain": [
       "                t1            t2           -1            0            1  \\\n",
       "count  6561.000000  6.561000e+03  6561.000000  6561.000000  6561.000000   \n",
       "mean      0.000000 -4.331917e-18     0.189337     0.317452     0.312792   \n",
       "std       1.169134  1.169134e+00     0.333405     0.413315     0.413859   \n",
       "min      -2.000000 -2.000000e+00     0.000000     0.000000     0.000000   \n",
       "25%      -1.000000 -1.000000e+00     0.000000     0.000000     0.000000   \n",
       "50%       0.000000  0.000000e+00     0.010000     0.050000     0.060000   \n",
       "75%       1.000000  1.000000e+00     0.150000     0.860000     0.860000   \n",
       "max       2.000000  2.000000e+00     1.000000     1.000000     1.000000   \n",
       "\n",
       "                 2        phase   pred_phase  \n",
       "count  6561.000000  6561.000000  6561.000000  \n",
       "mean      0.180419    28.045877     0.494742  \n",
       "std       0.326474   163.557011     1.003049  \n",
       "min       0.000000    -1.000000    -1.000000  \n",
       "25%       0.000000     0.000000     0.000000  \n",
       "50%       0.010000     1.000000     0.000000  \n",
       "75%       0.130000     1.000000     1.000000  \n",
       "max       1.000000   999.000000     2.000000  "
      ]
     },
     "execution_count": 28,
     "metadata": {},
     "output_type": "execute_result"
    }
   ],
   "source": [
    "ham_summary.describe()"
   ]
  },
  {
   "cell_type": "code",
   "execution_count": 29,
   "metadata": {
    "execution": {
     "iopub.execute_input": "2020-07-09T23:45:26.246939Z",
     "iopub.status.busy": "2020-07-09T23:45:26.246608Z",
     "iopub.status.idle": "2020-07-09T23:45:26.261206Z",
     "shell.execute_reply": "2020-07-09T23:45:26.261459Z"
    },
    "papermill": {
     "duration": 0.053268,
     "end_time": "2020-07-09T23:45:26.261526",
     "exception": false,
     "start_time": "2020-07-09T23:45:26.208258",
     "status": "completed"
    },
    "tags": []
   },
   "outputs": [
    {
     "name": "stdout",
     "output_type": "stream",
     "text": [
      "length of ham_summary:  656100\n"
     ]
    },
    {
     "data": {
      "text/html": [
       "<div>\n",
       "<style scoped>\n",
       "    .dataframe tbody tr th:only-of-type {\n",
       "        vertical-align: middle;\n",
       "    }\n",
       "\n",
       "    .dataframe tbody tr th {\n",
       "        vertical-align: top;\n",
       "    }\n",
       "\n",
       "    .dataframe thead th {\n",
       "        text-align: right;\n",
       "    }\n",
       "</style>\n",
       "<table border=\"1\" class=\"dataframe\">\n",
       "  <thead>\n",
       "    <tr style=\"text-align: right;\">\n",
       "      <th></th>\n",
       "      <th>id</th>\n",
       "      <th>phase</th>\n",
       "      <th>pred_phase</th>\n",
       "      <th>type_of</th>\n",
       "    </tr>\n",
       "  </thead>\n",
       "  <tbody>\n",
       "    <tr>\n",
       "      <th>0</th>\n",
       "      <td>0</td>\n",
       "      <td>999</td>\n",
       "      <td>0</td>\n",
       "      <td>test</td>\n",
       "    </tr>\n",
       "    <tr>\n",
       "      <th>1</th>\n",
       "      <td>0</td>\n",
       "      <td>999</td>\n",
       "      <td>2</td>\n",
       "      <td>test</td>\n",
       "    </tr>\n",
       "    <tr>\n",
       "      <th>2</th>\n",
       "      <td>0</td>\n",
       "      <td>999</td>\n",
       "      <td>-1</td>\n",
       "      <td>test</td>\n",
       "    </tr>\n",
       "    <tr>\n",
       "      <th>3</th>\n",
       "      <td>0</td>\n",
       "      <td>999</td>\n",
       "      <td>1</td>\n",
       "      <td>test</td>\n",
       "    </tr>\n",
       "    <tr>\n",
       "      <th>4</th>\n",
       "      <td>0</td>\n",
       "      <td>999</td>\n",
       "      <td>-1</td>\n",
       "      <td>test</td>\n",
       "    </tr>\n",
       "    <tr>\n",
       "      <th>...</th>\n",
       "      <td>...</td>\n",
       "      <td>...</td>\n",
       "      <td>...</td>\n",
       "      <td>...</td>\n",
       "    </tr>\n",
       "    <tr>\n",
       "      <th>656095</th>\n",
       "      <td>6560</td>\n",
       "      <td>999</td>\n",
       "      <td>-1</td>\n",
       "      <td>test</td>\n",
       "    </tr>\n",
       "    <tr>\n",
       "      <th>656096</th>\n",
       "      <td>6560</td>\n",
       "      <td>999</td>\n",
       "      <td>-1</td>\n",
       "      <td>test</td>\n",
       "    </tr>\n",
       "    <tr>\n",
       "      <th>656097</th>\n",
       "      <td>6560</td>\n",
       "      <td>999</td>\n",
       "      <td>1</td>\n",
       "      <td>test</td>\n",
       "    </tr>\n",
       "    <tr>\n",
       "      <th>656098</th>\n",
       "      <td>6560</td>\n",
       "      <td>999</td>\n",
       "      <td>1</td>\n",
       "      <td>test</td>\n",
       "    </tr>\n",
       "    <tr>\n",
       "      <th>656099</th>\n",
       "      <td>6560</td>\n",
       "      <td>999</td>\n",
       "      <td>0</td>\n",
       "      <td>test</td>\n",
       "    </tr>\n",
       "  </tbody>\n",
       "</table>\n",
       "<p>656100 rows × 4 columns</p>\n",
       "</div>"
      ],
      "text/plain": [
       "          id  phase  pred_phase type_of\n",
       "0          0    999           0    test\n",
       "1          0    999           2    test\n",
       "2          0    999          -1    test\n",
       "3          0    999           1    test\n",
       "4          0    999          -1    test\n",
       "...      ...    ...         ...     ...\n",
       "656095  6560    999          -1    test\n",
       "656096  6560    999          -1    test\n",
       "656097  6560    999           1    test\n",
       "656098  6560    999           1    test\n",
       "656099  6560    999           0    test\n",
       "\n",
       "[656100 rows x 4 columns]"
      ]
     },
     "execution_count": 29,
     "metadata": {},
     "output_type": "execute_result"
    }
   ],
   "source": [
    "eigen_summary = simulation.eigenvector_summary\n",
    "print(\"length of ham_summary: \", len(eigen_summary))\n",
    "eigen_summary"
   ]
  },
  {
   "cell_type": "markdown",
   "metadata": {
    "papermill": {
     "duration": 0.035888,
     "end_time": "2020-07-09T23:45:26.333253",
     "exception": false,
     "start_time": "2020-07-09T23:45:26.297365",
     "status": "completed"
    },
    "tags": []
   },
   "source": [
    "#### Checking accuracies"
   ]
  },
  {
   "cell_type": "code",
   "execution_count": 30,
   "metadata": {
    "execution": {
     "iopub.execute_input": "2020-07-09T23:45:26.409269Z",
     "iopub.status.busy": "2020-07-09T23:45:26.408925Z",
     "iopub.status.idle": "2020-07-09T23:45:26.419193Z",
     "shell.execute_reply": "2020-07-09T23:45:26.418919Z"
    },
    "papermill": {
     "duration": 0.049242,
     "end_time": "2020-07-09T23:45:26.419246",
     "exception": false,
     "start_time": "2020-07-09T23:45:26.370004",
     "status": "completed"
    },
    "tags": []
   },
   "outputs": [
    {
     "data": {
      "text/plain": [
       "{'eigenvector_train': 0.9994313654473017,\n",
       " 'eigenvector_val': 0.8851847826086956,\n",
       " 'eigenvector_test': 0.5306752037252619,\n",
       " 'hamiltonian_train': 1.0,\n",
       " 'hamiltonian_val': 0.9960144927536232,\n",
       " 'hamiltonian_test': 0.7718277066356228}"
      ]
     },
     "execution_count": 30,
     "metadata": {},
     "output_type": "execute_result"
    }
   ],
   "source": [
    "simulation.accuracy"
   ]
  },
  {
   "cell_type": "markdown",
   "metadata": {
    "papermill": {
     "duration": 0.037049,
     "end_time": "2020-07-09T23:45:26.492539",
     "exception": false,
     "start_time": "2020-07-09T23:45:26.455490",
     "status": "completed"
    },
    "tags": []
   },
   "source": [
    "#### Checking data stored in  memory"
   ]
  },
  {
   "cell_type": "code",
   "execution_count": 31,
   "metadata": {
    "execution": {
     "iopub.execute_input": "2020-07-09T23:45:26.568932Z",
     "iopub.status.busy": "2020-07-09T23:45:26.568621Z",
     "iopub.status.idle": "2020-07-09T23:45:26.579186Z",
     "shell.execute_reply": "2020-07-09T23:45:26.579444Z"
    },
    "papermill": {
     "duration": 0.049733,
     "end_time": "2020-07-09T23:45:26.579512",
     "exception": false,
     "start_time": "2020-07-09T23:45:26.529779",
     "status": "completed"
    },
    "tags": []
   },
   "outputs": [
    {
     "data": {
      "text/plain": [
       "[]"
      ]
     },
     "execution_count": 31,
     "metadata": {},
     "output_type": "execute_result"
    }
   ],
   "source": [
    "ham_summary_list = simulation.hamiltonian_summary_list\n",
    "ham_summary_list"
   ]
  },
  {
   "cell_type": "code",
   "execution_count": 32,
   "metadata": {
    "execution": {
     "iopub.execute_input": "2020-07-09T23:45:26.654875Z",
     "iopub.status.busy": "2020-07-09T23:45:26.654569Z",
     "iopub.status.idle": "2020-07-09T23:45:26.664809Z",
     "shell.execute_reply": "2020-07-09T23:45:26.665063Z"
    },
    "papermill": {
     "duration": 0.048903,
     "end_time": "2020-07-09T23:45:26.665129",
     "exception": false,
     "start_time": "2020-07-09T23:45:26.616226",
     "status": "completed"
    },
    "tags": []
   },
   "outputs": [
    {
     "data": {
      "text/plain": [
       "[]"
      ]
     },
     "execution_count": 32,
     "metadata": {},
     "output_type": "execute_result"
    }
   ],
   "source": [
    "eigen_summary_list = simulation.eigenvector_summary_list\n",
    "eigen_summary_list"
   ]
  },
  {
   "cell_type": "code",
   "execution_count": 33,
   "metadata": {
    "execution": {
     "iopub.execute_input": "2020-07-09T23:45:26.742332Z",
     "iopub.status.busy": "2020-07-09T23:45:26.742010Z",
     "iopub.status.idle": "2020-07-09T23:45:26.752256Z",
     "shell.execute_reply": "2020-07-09T23:45:26.752523Z"
    },
    "papermill": {
     "duration": 0.049817,
     "end_time": "2020-07-09T23:45:26.752590",
     "exception": false,
     "start_time": "2020-07-09T23:45:26.702773",
     "status": "completed"
    },
    "tags": []
   },
   "outputs": [
    {
     "data": {
      "text/plain": [
       "{'eigenvector_train': [],\n",
       " 'eigenvector_val': [],\n",
       " 'eigenvector_test': [],\n",
       " 'hamiltonian_train': [],\n",
       " 'hamiltonian_val': [],\n",
       " 'hamiltonian_test': []}"
      ]
     },
     "execution_count": 33,
     "metadata": {},
     "output_type": "execute_result"
    }
   ],
   "source": [
    "accuracy_list = simulation.accuracy_list\n",
    "accuracy_list"
   ]
  },
  {
   "cell_type": "code",
   "execution_count": null,
   "metadata": {
    "papermill": {
     "duration": 0.036859,
     "end_time": "2020-07-09T23:45:26.826368",
     "exception": false,
     "start_time": "2020-07-09T23:45:26.789509",
     "status": "completed"
    },
    "tags": []
   },
   "outputs": [],
   "source": []
  },
  {
   "cell_type": "code",
   "execution_count": null,
   "metadata": {
    "papermill": {
     "duration": 0.039304,
     "end_time": "2020-07-09T23:45:26.903318",
     "exception": false,
     "start_time": "2020-07-09T23:45:26.864014",
     "status": "completed"
    },
    "tags": []
   },
   "outputs": [],
   "source": []
  },
  {
   "cell_type": "code",
   "execution_count": 34,
   "metadata": {
    "execution": {
     "iopub.execute_input": "2020-07-09T23:45:26.978682Z",
     "iopub.status.busy": "2020-07-09T23:45:26.978375Z",
     "iopub.status.idle": "2020-07-09T23:45:26.987831Z",
     "shell.execute_reply": "2020-07-09T23:45:26.988089Z"
    },
    "papermill": {
     "duration": 0.048283,
     "end_time": "2020-07-09T23:45:26.988155",
     "exception": false,
     "start_time": "2020-07-09T23:45:26.939872",
     "status": "completed"
    },
    "tags": []
   },
   "outputs": [],
   "source": [
    "#simulation.fourier_matrix"
   ]
  },
  {
   "cell_type": "code",
   "execution_count": 35,
   "metadata": {
    "execution": {
     "iopub.execute_input": "2020-07-09T23:45:27.066954Z",
     "iopub.status.busy": "2020-07-09T23:45:27.066641Z",
     "iopub.status.idle": "2020-07-09T23:45:27.076575Z",
     "shell.execute_reply": "2020-07-09T23:45:27.076226Z"
    },
    "papermill": {
     "duration": 0.050043,
     "end_time": "2020-07-09T23:45:27.076628",
     "exception": false,
     "start_time": "2020-07-09T23:45:27.026585",
     "status": "completed"
    },
    "tags": []
   },
   "outputs": [],
   "source": [
    "#simulation.fourier_matrix.shape"
   ]
  },
  {
   "cell_type": "code",
   "execution_count": 36,
   "metadata": {
    "execution": {
     "iopub.execute_input": "2020-07-09T23:45:27.153497Z",
     "iopub.status.busy": "2020-07-09T23:45:27.153188Z",
     "iopub.status.idle": "2020-07-09T23:45:27.163433Z",
     "shell.execute_reply": "2020-07-09T23:45:27.163095Z"
    },
    "papermill": {
     "duration": 0.049453,
     "end_time": "2020-07-09T23:45:27.163486",
     "exception": false,
     "start_time": "2020-07-09T23:45:27.114033",
     "status": "completed"
    },
    "tags": []
   },
   "outputs": [],
   "source": [
    "#simulation.fourier_matrix[:,0]"
   ]
  },
  {
   "cell_type": "code",
   "execution_count": 37,
   "metadata": {
    "execution": {
     "iopub.execute_input": "2020-07-09T23:45:27.241944Z",
     "iopub.status.busy": "2020-07-09T23:45:27.241561Z",
     "iopub.status.idle": "2020-07-09T23:45:27.251029Z",
     "shell.execute_reply": "2020-07-09T23:45:27.251338Z"
    },
    "papermill": {
     "duration": 0.049601,
     "end_time": "2020-07-09T23:45:27.251405",
     "exception": false,
     "start_time": "2020-07-09T23:45:27.201804",
     "status": "completed"
    },
    "tags": []
   },
   "outputs": [],
   "source": [
    "#simulation.fourier_matrix[:,1]"
   ]
  },
  {
   "cell_type": "code",
   "execution_count": 38,
   "metadata": {
    "execution": {
     "iopub.execute_input": "2020-07-09T23:45:27.331589Z",
     "iopub.status.busy": "2020-07-09T23:45:27.331278Z",
     "iopub.status.idle": "2020-07-09T23:45:27.341109Z",
     "shell.execute_reply": "2020-07-09T23:45:27.340748Z"
    },
    "papermill": {
     "duration": 0.050989,
     "end_time": "2020-07-09T23:45:27.341166",
     "exception": false,
     "start_time": "2020-07-09T23:45:27.290177",
     "status": "completed"
    },
    "tags": []
   },
   "outputs": [],
   "source": [
    "#np.exp(-1j*2*np.pi*3/100)"
   ]
  },
  {
   "cell_type": "code",
   "execution_count": 39,
   "metadata": {
    "execution": {
     "iopub.execute_input": "2020-07-09T23:45:27.422036Z",
     "iopub.status.busy": "2020-07-09T23:45:27.421703Z",
     "iopub.status.idle": "2020-07-09T23:45:27.432052Z",
     "shell.execute_reply": "2020-07-09T23:45:27.431744Z"
    },
    "papermill": {
     "duration": 0.049706,
     "end_time": "2020-07-09T23:45:27.432110",
     "exception": false,
     "start_time": "2020-07-09T23:45:27.382404",
     "status": "completed"
    },
    "tags": []
   },
   "outputs": [],
   "source": [
    "#for i in range(1,50):\n",
    "#    print(\"\\n\")\n",
    "#    print(i)\n",
    "#    print(np.sum((np.real(simulation.fourier_matrix[:,i]) - np.real(simulation.fourier_matrix[:,-i]))**2))\n",
    "#    print(np.sum((np.imag(simulation.fourier_matrix[:,i])+ np.imag(simulation.fourier_matrix[:,-i]))**2))"
   ]
  },
  {
   "cell_type": "code",
   "execution_count": 40,
   "metadata": {
    "execution": {
     "iopub.execute_input": "2020-07-09T23:45:27.509097Z",
     "iopub.status.busy": "2020-07-09T23:45:27.508781Z",
     "iopub.status.idle": "2020-07-09T23:45:27.544886Z",
     "shell.execute_reply": "2020-07-09T23:45:27.544522Z"
    },
    "papermill": {
     "duration": 0.07509,
     "end_time": "2020-07-09T23:45:27.544942",
     "exception": false,
     "start_time": "2020-07-09T23:45:27.469852",
     "status": "completed"
    },
    "tags": []
   },
   "outputs": [],
   "source": [
    "#print(simulation.fourier_matrix[:,0])"
   ]
  },
  {
   "cell_type": "code",
   "execution_count": 41,
   "metadata": {
    "execution": {
     "iopub.execute_input": "2020-07-09T23:45:27.624542Z",
     "iopub.status.busy": "2020-07-09T23:45:27.624170Z",
     "iopub.status.idle": "2020-07-09T23:45:27.634152Z",
     "shell.execute_reply": "2020-07-09T23:45:27.633868Z"
    },
    "papermill": {
     "duration": 0.049285,
     "end_time": "2020-07-09T23:45:27.634208",
     "exception": false,
     "start_time": "2020-07-09T23:45:27.584923",
     "status": "completed"
    },
    "tags": []
   },
   "outputs": [],
   "source": [
    "#print(simulation.fourier_matrix[:,50])"
   ]
  },
  {
   "cell_type": "code",
   "execution_count": null,
   "metadata": {
    "papermill": {
     "duration": 0.037431,
     "end_time": "2020-07-09T23:45:27.709888",
     "exception": false,
     "start_time": "2020-07-09T23:45:27.672457",
     "status": "completed"
    },
    "tags": []
   },
   "outputs": [],
   "source": []
  }
 ],
 "metadata": {
  "celltoolbar": "Tags",
  "kernelspec": {
   "display_name": "ml_top_phases",
   "language": "python",
   "name": "ml_top_phases"
  },
  "language_info": {
   "codemirror_mode": {
    "name": "ipython",
    "version": 3
   },
   "file_extension": ".py",
   "mimetype": "text/x-python",
   "name": "python",
   "nbconvert_exporter": "python",
   "pygments_lexer": "ipython3",
   "version": "3.6.10"
  },
  "papermill": {
   "duration": 2066.323947,
   "end_time": "2020-07-09T23:45:27.858115",
   "environment_variables": {},
   "exception": null,
   "input_path": "0_simulation_template.ipynb",
   "output_path": "zzz_simulation_output_ssh2_7th_scenario_100_6561.ipynb",
   "parameters": {
    "allowed_windings": [
     -1,
     0,
     1,
     2
    ],
    "csv_path": "/home/rio/ssh_csvs/ssh2/periodic_100_6561.csv",
    "features_to_use": null,
    "fillna": false,
    "fit_params": null,
    "fourier_features_to_use": [
     0,
     1,
     2,
     3,
     4,
     5,
     6,
     8,
     42,
     44,
     46,
     48
    ],
    "fourier_fillna": false,
    "fourier_mode": "dct",
    "fourier_normalize": false,
    "fourier_real": null,
    "model_kw": {
     "criterion": "entropy",
     "n_estimators": 25,
     "n_jobs": -1
    },
    "model_name": "RandomForestClassifier",
    "n_experiments": 100,
    "normalize": false,
    "pred_params": null,
    "random_features": false,
    "random_state": 34896,
    "save_accuracy": true,
    "save_eigenvector": true,
    "save_hamiltonian": true,
    "save_models": true,
    "shuffle_features": false,
    "shuffle_rows": true,
    "simulation_dir": "/home/rio/ssh_simulations/ssh2/periodic_7th_scenario_100_6561",
    "start_n": 0,
    "store_in_lists": false,
    "val_split": 0.5
   },
   "start_time": "2020-07-09T23:11:01.534168",
   "version": "2.1.0"
  }
 },
 "nbformat": 4,
 "nbformat_minor": 2
}