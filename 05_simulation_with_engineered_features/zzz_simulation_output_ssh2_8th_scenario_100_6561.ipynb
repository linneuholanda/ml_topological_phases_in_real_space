{
 "cells": [
  {
   "cell_type": "markdown",
   "metadata": {
    "papermill": {
     "duration": 0.054112,
     "end_time": "2020-07-09T23:45:28.773343",
     "exception": false,
     "start_time": "2020-07-09T23:45:28.719231",
     "status": "completed"
    },
    "tags": []
   },
   "source": [
    "# Simulation template \n",
    "\n",
    "In this notebook we run the machine learning analysis of topological phase transitions occurring  in both nearest-neighbours SSH models (ssh1) and second neighbours models (ssh2) as decribed in the paper [Machine learning topological phases in real space](https://arxiv.org/abs/1901.01963). Here the simulation is run with features generated from fourier components in the first scenario. This scenario is characterized by using only the EVEN wavevector space eigenmodes, computed from ALL real space components."
   ]
  },
  {
   "cell_type": "markdown",
   "metadata": {
    "papermill": {
     "duration": 0.015292,
     "end_time": "2020-07-09T23:45:28.808052",
     "exception": false,
     "start_time": "2020-07-09T23:45:28.792760",
     "status": "completed"
    },
    "tags": []
   },
   "source": [
    "## Defining parameters"
   ]
  },
  {
   "cell_type": "code",
   "execution_count": 1,
   "metadata": {
    "execution": {
     "iopub.execute_input": "2020-07-09T23:45:28.845154Z",
     "iopub.status.busy": "2020-07-09T23:45:28.844818Z",
     "iopub.status.idle": "2020-07-09T23:45:29.432646Z",
     "shell.execute_reply": "2020-07-09T23:45:29.432907Z"
    },
    "papermill": {
     "duration": 0.608428,
     "end_time": "2020-07-09T23:45:29.432977",
     "exception": false,
     "start_time": "2020-07-09T23:45:28.824549",
     "status": "completed"
    },
    "tags": []
   },
   "outputs": [
    {
     "name": "stdout",
     "output_type": "stream",
     "text": [
      "CPU times: user 749 ms, sys: 273 ms, total: 1.02 s\n",
      "Wall time: 582 ms\n"
     ]
    }
   ],
   "source": [
    "%%time\n",
    "%load_ext autoreload\n",
    "%autoreload 2\n",
    "from simulation import *"
   ]
  },
  {
   "cell_type": "code",
   "execution_count": 2,
   "metadata": {
    "execution": {
     "iopub.execute_input": "2020-07-09T23:45:29.467726Z",
     "iopub.status.busy": "2020-07-09T23:45:29.467389Z",
     "iopub.status.idle": "2020-07-09T23:45:29.478518Z",
     "shell.execute_reply": "2020-07-09T23:45:29.478199Z"
    },
    "papermill": {
     "duration": 0.029501,
     "end_time": "2020-07-09T23:45:29.478571",
     "exception": false,
     "start_time": "2020-07-09T23:45:29.449070",
     "status": "completed"
    },
    "tags": [
     "parameters"
    ]
   },
   "outputs": [
    {
     "name": "stdout",
     "output_type": "stream",
     "text": [
      "CPU times: user 3 µs, sys: 1e+03 ns, total: 4 µs\n",
      "Wall time: 4.77 µs\n"
     ]
    }
   ],
   "source": [
    "%%time\n",
    "### Dataset and simulation parameters\n",
    "#csv_path = SSH2_PERIODIC_100_6561_CSV \n",
    "csv_path = SSH1_PERIODIC_100_6561_CSV \n",
    "model_name = \"DecisionTreeClassifier\"\n",
    "model_kw = {\"criterion\":\"entropy\"}\n",
    "allowed_windings = [0,1]\n",
    "#allowed_windings = [-1,0,1,2]\n",
    "simulation_dir = SSH1_PERIODIC_1ST_SCENARIO_100_6561_SIMULATION_DIR\n",
    "#simulation_dir = SSH2_PERIODIC_ENGINEERED_100_6561_SIMULATION_DIR\n",
    "val_split = 0.9  \n",
    "features_to_use = None\n",
    "shuffle_features = False\n",
    "random_state = 763\n",
    "\n",
    "### Fourier features\n",
    "fourier_mode = \"dft\"\n",
    "fourier_features_to_use = None\n",
    "fourier_real = \"real\"\n",
    "fourier_normalize = True\n",
    "fourier_fillna = False\n",
    "\n",
    "### Running a simulation\n",
    "n_experiments = 5\n",
    "start_n = 0\n",
    "fit_params = None\n",
    "#mode=mode\n",
    "shuffle_rows = True\n",
    "pred_params = None\n",
    "random_features = False\n",
    "######### DON'T SET THIS TO TRUE UNLESS YOUR DATASET IS SMALL!! WILL FLOOD YOUR MEMORY!!!\n",
    "store_in_lists = False   \n",
    "########## BELOW ARE THE PARAMETERS THAT CONTROL WHAT WILL BE SAVED\n",
    "save_eigenvector=True\n",
    "save_hamiltonian=True \n",
    "save_accuracy=True \n",
    "save_models=True"
   ]
  },
  {
   "cell_type": "code",
   "execution_count": 3,
   "metadata": {
    "execution": {
     "iopub.execute_input": "2020-07-09T23:45:29.513238Z",
     "iopub.status.busy": "2020-07-09T23:45:29.512905Z",
     "iopub.status.idle": "2020-07-09T23:45:29.608796Z",
     "shell.execute_reply": "2020-07-09T23:45:29.606944Z"
    },
    "papermill": {
     "duration": 0.115023,
     "end_time": "2020-07-09T23:45:29.609052",
     "exception": false,
     "start_time": "2020-07-09T23:45:29.494029",
     "status": "completed"
    },
    "tags": [
     "injected-parameters"
    ]
   },
   "outputs": [],
   "source": [
    "# Parameters\n",
    "model_kw = {\"criterion\": \"entropy\", \"n_estimators\": 25, \"n_jobs\": -1}\n",
    "allowed_windings = [-1, 0, 1, 2]\n",
    "val_split = 0.5\n",
    "features_to_use = [\n",
    "    0,\n",
    "    1,\n",
    "    2,\n",
    "    3,\n",
    "    4,\n",
    "    5,\n",
    "    6,\n",
    "    7,\n",
    "    8,\n",
    "    9,\n",
    "    10,\n",
    "    11,\n",
    "    12,\n",
    "    13,\n",
    "    14,\n",
    "    40,\n",
    "    42,\n",
    "    43,\n",
    "    44,\n",
    "    45,\n",
    "    46,\n",
    "    47,\n",
    "    48,\n",
    "    49,\n",
    "    50,\n",
    "]\n",
    "shuffle_features = False\n",
    "n_experiments = 100\n",
    "start_n = 0\n",
    "fit_params = None\n",
    "shuffle_rows = True\n",
    "pred_params = None\n",
    "random_features = False\n",
    "store_in_lists = False\n",
    "save_eigenvector = True\n",
    "save_hamiltonian = True\n",
    "save_accuracy = True\n",
    "save_models = True\n",
    "csv_path = \"/home/rio/ssh_csvs/ssh2/periodic_100_6561.csv\"\n",
    "model_name = \"RandomForestClassifier\"\n",
    "simulation_dir = \"/home/rio/ssh_simulations/ssh2/periodic_8th_scenario_100_6561\"\n",
    "random_state = 34896\n",
    "fourier_features_to_use = [\n",
    "    0,\n",
    "    1,\n",
    "    2,\n",
    "    3,\n",
    "    4,\n",
    "    5,\n",
    "    6,\n",
    "    8,\n",
    "    10,\n",
    "    12,\n",
    "    16,\n",
    "    18,\n",
    "    26,\n",
    "    28,\n",
    "    30,\n",
    "    32,\n",
    "    34,\n",
    "    36,\n",
    "    38,\n",
    "    40,\n",
    "    42,\n",
    "    44,\n",
    "    46,\n",
    "    47,\n",
    "    48,\n",
    "]\n",
    "fourier_mode = \"dct\"\n",
    "fourier_real = None\n",
    "fourier_normalize = False\n",
    "fourier_fillna = False\n",
    "normalize = False\n",
    "fillna = False\n"
   ]
  },
  {
   "cell_type": "code",
   "execution_count": 4,
   "metadata": {
    "execution": {
     "iopub.execute_input": "2020-07-09T23:45:29.687344Z",
     "iopub.status.busy": "2020-07-09T23:45:29.687025Z",
     "iopub.status.idle": "2020-07-09T23:45:35.350001Z",
     "shell.execute_reply": "2020-07-09T23:45:35.350256Z"
    },
    "papermill": {
     "duration": 5.686002,
     "end_time": "2020-07-09T23:45:35.350324",
     "exception": false,
     "start_time": "2020-07-09T23:45:29.664322",
     "status": "completed"
    },
    "tags": []
   },
   "outputs": [
    {
     "name": "stdout",
     "output_type": "stream",
     "text": [
      "Info on all data: \n",
      "\n",
      "<class 'pandas.core.frame.DataFrame'>\n",
      "Int64Index: 656100 entries, 0 to 656099\n",
      "Columns: 108 entries, id to feat99\n",
      "dtypes: float64(103), int32(3), object(2)\n",
      "memory usage: 538.1+ MB\n",
      "CPU times: user 5.74 s, sys: 526 ms, total: 6.26 s\n",
      "Wall time: 5.64 s\n"
     ]
    },
    {
     "data": {
      "text/html": [
       "<div>\n",
       "<style scoped>\n",
       "    .dataframe tbody tr th:only-of-type {\n",
       "        vertical-align: middle;\n",
       "    }\n",
       "\n",
       "    .dataframe tbody tr th {\n",
       "        vertical-align: top;\n",
       "    }\n",
       "\n",
       "    .dataframe thead th {\n",
       "        text-align: right;\n",
       "    }\n",
       "</style>\n",
       "<table border=\"1\" class=\"dataframe\">\n",
       "  <thead>\n",
       "    <tr style=\"text-align: right;\">\n",
       "      <th></th>\n",
       "      <th>id</th>\n",
       "      <th>path</th>\n",
       "      <th>t1</th>\n",
       "      <th>t2</th>\n",
       "      <th>winding</th>\n",
       "      <th>phase</th>\n",
       "      <th>pred_phase</th>\n",
       "      <th>type_of</th>\n",
       "      <th>feat0</th>\n",
       "      <th>feat1</th>\n",
       "      <th>...</th>\n",
       "      <th>feat90</th>\n",
       "      <th>feat91</th>\n",
       "      <th>feat92</th>\n",
       "      <th>feat93</th>\n",
       "      <th>feat94</th>\n",
       "      <th>feat95</th>\n",
       "      <th>feat96</th>\n",
       "      <th>feat97</th>\n",
       "      <th>feat98</th>\n",
       "      <th>feat99</th>\n",
       "    </tr>\n",
       "  </thead>\n",
       "  <tbody>\n",
       "    <tr>\n",
       "      <th>0</th>\n",
       "      <td>0</td>\n",
       "      <td>H_-2_-2_0.501338.dat</td>\n",
       "      <td>-2.0</td>\n",
       "      <td>-2.0</td>\n",
       "      <td>0.501338</td>\n",
       "      <td>999</td>\n",
       "      <td>666</td>\n",
       "      <td>test</td>\n",
       "      <td>-0.130965</td>\n",
       "      <td>0.301130</td>\n",
       "      <td>...</td>\n",
       "      <td>-0.080279</td>\n",
       "      <td>-0.115687</td>\n",
       "      <td>-0.174988</td>\n",
       "      <td>0.245064</td>\n",
       "      <td>0.319763</td>\n",
       "      <td>-0.059082</td>\n",
       "      <td>-0.000556</td>\n",
       "      <td>-0.245133</td>\n",
       "      <td>-0.301130</td>\n",
       "      <td>0.130965</td>\n",
       "    </tr>\n",
       "    <tr>\n",
       "      <th>1</th>\n",
       "      <td>0</td>\n",
       "      <td>H_-2_-2_0.501338.dat</td>\n",
       "      <td>-2.0</td>\n",
       "      <td>-2.0</td>\n",
       "      <td>0.501338</td>\n",
       "      <td>999</td>\n",
       "      <td>666</td>\n",
       "      <td>test</td>\n",
       "      <td>-0.130965</td>\n",
       "      <td>-0.301130</td>\n",
       "      <td>...</td>\n",
       "      <td>-0.080279</td>\n",
       "      <td>0.115687</td>\n",
       "      <td>-0.174988</td>\n",
       "      <td>-0.245064</td>\n",
       "      <td>0.319763</td>\n",
       "      <td>0.059082</td>\n",
       "      <td>-0.000556</td>\n",
       "      <td>0.245133</td>\n",
       "      <td>-0.301130</td>\n",
       "      <td>-0.130965</td>\n",
       "    </tr>\n",
       "    <tr>\n",
       "      <th>2</th>\n",
       "      <td>0</td>\n",
       "      <td>H_-2_-2_0.501338.dat</td>\n",
       "      <td>-2.0</td>\n",
       "      <td>-2.0</td>\n",
       "      <td>0.501338</td>\n",
       "      <td>999</td>\n",
       "      <td>666</td>\n",
       "      <td>test</td>\n",
       "      <td>-0.148414</td>\n",
       "      <td>-0.042467</td>\n",
       "      <td>...</td>\n",
       "      <td>0.185442</td>\n",
       "      <td>-0.080620</td>\n",
       "      <td>-0.066211</td>\n",
       "      <td>-0.121339</td>\n",
       "      <td>-0.151700</td>\n",
       "      <td>0.192513</td>\n",
       "      <td>0.191642</td>\n",
       "      <td>-0.050956</td>\n",
       "      <td>-0.042467</td>\n",
       "      <td>-0.148414</td>\n",
       "    </tr>\n",
       "    <tr>\n",
       "      <th>3</th>\n",
       "      <td>0</td>\n",
       "      <td>H_-2_-2_0.501338.dat</td>\n",
       "      <td>-2.0</td>\n",
       "      <td>-2.0</td>\n",
       "      <td>0.501338</td>\n",
       "      <td>999</td>\n",
       "      <td>666</td>\n",
       "      <td>test</td>\n",
       "      <td>-0.069630</td>\n",
       "      <td>-0.026147</td>\n",
       "      <td>...</td>\n",
       "      <td>0.102009</td>\n",
       "      <td>-0.100671</td>\n",
       "      <td>-0.081002</td>\n",
       "      <td>-0.020715</td>\n",
       "      <td>-0.058717</td>\n",
       "      <td>0.115834</td>\n",
       "      <td>0.118274</td>\n",
       "      <td>-0.054666</td>\n",
       "      <td>-0.026147</td>\n",
       "      <td>-0.069630</td>\n",
       "    </tr>\n",
       "    <tr>\n",
       "      <th>4</th>\n",
       "      <td>0</td>\n",
       "      <td>H_-2_-2_0.501338.dat</td>\n",
       "      <td>-2.0</td>\n",
       "      <td>-2.0</td>\n",
       "      <td>0.501338</td>\n",
       "      <td>999</td>\n",
       "      <td>666</td>\n",
       "      <td>test</td>\n",
       "      <td>0.010206</td>\n",
       "      <td>-0.014625</td>\n",
       "      <td>...</td>\n",
       "      <td>0.047555</td>\n",
       "      <td>-0.041368</td>\n",
       "      <td>-0.018852</td>\n",
       "      <td>-0.017673</td>\n",
       "      <td>-0.023377</td>\n",
       "      <td>0.031447</td>\n",
       "      <td>0.010280</td>\n",
       "      <td>0.000925</td>\n",
       "      <td>0.014625</td>\n",
       "      <td>-0.010206</td>\n",
       "    </tr>\n",
       "  </tbody>\n",
       "</table>\n",
       "<p>5 rows × 108 columns</p>\n",
       "</div>"
      ],
      "text/plain": [
       "   id                  path   t1   t2   winding  phase  pred_phase type_of  \\\n",
       "0   0  H_-2_-2_0.501338.dat -2.0 -2.0  0.501338    999         666    test   \n",
       "1   0  H_-2_-2_0.501338.dat -2.0 -2.0  0.501338    999         666    test   \n",
       "2   0  H_-2_-2_0.501338.dat -2.0 -2.0  0.501338    999         666    test   \n",
       "3   0  H_-2_-2_0.501338.dat -2.0 -2.0  0.501338    999         666    test   \n",
       "4   0  H_-2_-2_0.501338.dat -2.0 -2.0  0.501338    999         666    test   \n",
       "\n",
       "      feat0     feat1  ...    feat90    feat91    feat92    feat93    feat94  \\\n",
       "0 -0.130965  0.301130  ... -0.080279 -0.115687 -0.174988  0.245064  0.319763   \n",
       "1 -0.130965 -0.301130  ... -0.080279  0.115687 -0.174988 -0.245064  0.319763   \n",
       "2 -0.148414 -0.042467  ...  0.185442 -0.080620 -0.066211 -0.121339 -0.151700   \n",
       "3 -0.069630 -0.026147  ...  0.102009 -0.100671 -0.081002 -0.020715 -0.058717   \n",
       "4  0.010206 -0.014625  ...  0.047555 -0.041368 -0.018852 -0.017673 -0.023377   \n",
       "\n",
       "     feat95    feat96    feat97    feat98    feat99  \n",
       "0 -0.059082 -0.000556 -0.245133 -0.301130  0.130965  \n",
       "1  0.059082 -0.000556  0.245133 -0.301130 -0.130965  \n",
       "2  0.192513  0.191642 -0.050956 -0.042467 -0.148414  \n",
       "3  0.115834  0.118274 -0.054666 -0.026147 -0.069630  \n",
       "4  0.031447  0.010280  0.000925  0.014625 -0.010206  \n",
       "\n",
       "[5 rows x 108 columns]"
      ]
     },
     "execution_count": 4,
     "metadata": {},
     "output_type": "execute_result"
    }
   ],
   "source": [
    "%%time\n",
    "#Starting an instance of Simulation with a decision tree\n",
    "model = DecisionTreeClassifier(criterion=\"entropy\")\n",
    "#dict_args = {\"csv_path\":csv_path, \"model\":model, \"allowed_windings\":allowed_windings,\\\n",
    "#             \"simulation_dir\":simulation_dir, \"val_split\":val_split, \"features_to_use\":features_to_use,\\\n",
    "#            \"shuffle_features\":shuffle_features, \"random_state\":random_state}\n",
    "simulation = Simulation(csv_path,model_name,model_kw,allowed_windings,simulation_dir,val_split,features_to_use,\\\n",
    "                       shuffle_features,fourier_mode,fourier_features_to_use,fourier_real,\\\n",
    "                       fourier_normalize, fourier_fillna , random_state)\n",
    "#simulation = Simulation(**dict_args)\n",
    "\n",
    "\n",
    "#(self, csv_path, model_name, model_kw, allowed_windings, simulation_dir = None, val_split = 0, \n",
    "# features_to_use = None, shuffle_features = False, fourier_mode=None, fourier_features_to_use=None,\n",
    "# fourier_real = False, fourier_normalize = False, Fourier_fillna=False, random_state = None):\n",
    "\n",
    "\n",
    "\n",
    "print(\"Info on all data: \\n\")\n",
    "simulation.dataframe.info()\n",
    "simulation.dataframe.head()"
   ]
  },
  {
   "cell_type": "markdown",
   "metadata": {
    "papermill": {
     "duration": 0.01639,
     "end_time": "2020-07-09T23:45:35.383491",
     "exception": false,
     "start_time": "2020-07-09T23:45:35.367101",
     "status": "completed"
    },
    "tags": []
   },
   "source": [
    "####  Fourier features"
   ]
  },
  {
   "cell_type": "code",
   "execution_count": 5,
   "metadata": {
    "execution": {
     "iopub.execute_input": "2020-07-09T23:45:36.589047Z",
     "iopub.status.busy": "2020-07-09T23:45:36.587290Z",
     "iopub.status.idle": "2020-07-09T23:45:36.754424Z",
     "shell.execute_reply": "2020-07-09T23:45:36.754681Z"
    },
    "papermill": {
     "duration": 0.480019,
     "end_time": "2020-07-09T23:45:36.754748",
     "exception": false,
     "start_time": "2020-07-09T23:45:36.274729",
     "status": "completed"
    },
    "tags": []
   },
   "outputs": [
    {
     "name": "stdout",
     "output_type": "stream",
     "text": [
      "<class 'pandas.core.frame.DataFrame'>\n",
      "Int64Index: 656100 entries, 0 to 656099\n",
      "Data columns (total 33 columns):\n",
      " #   Column      Non-Null Count   Dtype  \n",
      "---  ------      --------------   -----  \n",
      " 0   id          656100 non-null  int32  \n",
      " 1   path        656100 non-null  object \n",
      " 2   t1          656100 non-null  float64\n",
      " 3   t2          656100 non-null  float64\n",
      " 4   winding     656100 non-null  float64\n",
      " 5   phase       656100 non-null  int32  \n",
      " 6   pred_phase  656100 non-null  int32  \n",
      " 7   type_of     656100 non-null  object \n",
      " 8   dct_feat0   656100 non-null  float64\n",
      " 9   dct_feat1   656100 non-null  float64\n",
      " 10  dct_feat2   656100 non-null  float64\n",
      " 11  dct_feat3   656100 non-null  float64\n",
      " 12  dct_feat4   656100 non-null  float64\n",
      " 13  dct_feat5   656100 non-null  float64\n",
      " 14  dct_feat6   656100 non-null  float64\n",
      " 15  dct_feat8   656100 non-null  float64\n",
      " 16  dct_feat10  656100 non-null  float64\n",
      " 17  dct_feat12  656100 non-null  float64\n",
      " 18  dct_feat16  656100 non-null  float64\n",
      " 19  dct_feat18  656100 non-null  float64\n",
      " 20  dct_feat26  656100 non-null  float64\n",
      " 21  dct_feat28  656100 non-null  float64\n",
      " 22  dct_feat30  656100 non-null  float64\n",
      " 23  dct_feat32  656100 non-null  float64\n",
      " 24  dct_feat34  656100 non-null  float64\n",
      " 25  dct_feat36  656100 non-null  float64\n",
      " 26  dct_feat38  656100 non-null  float64\n",
      " 27  dct_feat40  656100 non-null  float64\n",
      " 28  dct_feat42  656100 non-null  float64\n",
      " 29  dct_feat44  656100 non-null  float64\n",
      " 30  dct_feat46  656100 non-null  float64\n",
      " 31  dct_feat47  656100 non-null  float64\n",
      " 32  dct_feat48  656100 non-null  float64\n",
      "dtypes: float64(28), int32(3), object(2)\n",
      "memory usage: 162.7+ MB\n",
      "CPU times: user 117 ms, sys: 16.2 ms, total: 134 ms\n",
      "Wall time: 133 ms\n"
     ]
    }
   ],
   "source": [
    "%%time\n",
    "#simulation.generate_fourier_df()\n",
    "if simulation.fourier_mode is not None:\n",
    "    simulation.fourier_dataframe.info() \n",
    "    simulation.fourier_dataframe.sample(15)\n"
   ]
  },
  {
   "cell_type": "code",
   "execution_count": 6,
   "metadata": {
    "execution": {
     "iopub.execute_input": "2020-07-09T23:45:36.791192Z",
     "iopub.status.busy": "2020-07-09T23:45:36.790823Z",
     "iopub.status.idle": "2020-07-09T23:45:36.802102Z",
     "shell.execute_reply": "2020-07-09T23:45:36.802362Z"
    },
    "papermill": {
     "duration": 0.030704,
     "end_time": "2020-07-09T23:45:36.802431",
     "exception": false,
     "start_time": "2020-07-09T23:45:36.771727",
     "status": "completed"
    },
    "tags": []
   },
   "outputs": [
    {
     "name": "stdout",
     "output_type": "stream",
     "text": [
      "features_to_use: \n",
      "\n",
      "\n",
      "[0, 1, 2, 3, 4, 5, 6, 7, 8, 9, 10, 11, 12, 13, 14, 40, 42, 43, 44, 45, 46, 47, 48, 49, 50]\n",
      "Number of real space features:\n",
      "\n",
      "\n",
      "25\n",
      "\n",
      "\n",
      "fourier_features: \n",
      "\n",
      "\n",
      "['dct_feat0', 'dct_feat1', 'dct_feat2', 'dct_feat3', 'dct_feat4', 'dct_feat5', 'dct_feat6', 'dct_feat8', 'dct_feat10', 'dct_feat12', 'dct_feat16', 'dct_feat18', 'dct_feat26', 'dct_feat28', 'dct_feat30', 'dct_feat32', 'dct_feat34', 'dct_feat36', 'dct_feat38', 'dct_feat40', 'dct_feat42', 'dct_feat44', 'dct_feat46', 'dct_feat47', 'dct_feat48']\n",
      "\n",
      "\n",
      "Number of Fourier features: \n",
      "\n",
      "\n",
      "25\n"
     ]
    }
   ],
   "source": [
    "print(\"features_to_use: \")\n",
    "print(\"\\n\")\n",
    "print(simulation.features_to_use)\n",
    "if simulation.features_to_use is not None:\n",
    "    print(\"Number of real space features:\")\n",
    "    print(\"\\n\")\n",
    "    print(len(simulation.features_to_use))\n",
    "print(\"\\n\")\n",
    "print(\"fourier_features: \")\n",
    "print(\"\\n\")\n",
    "print(simulation.fourier_features)\n",
    "print(\"\\n\")\n",
    "if simulation.fourier_features is not None:\n",
    "    print(\"Number of Fourier features: \")\n",
    "    print(\"\\n\")\n",
    "    print(len(simulation.fourier_features))"
   ]
  },
  {
   "cell_type": "code",
   "execution_count": 7,
   "metadata": {
    "execution": {
     "iopub.execute_input": "2020-07-09T23:45:36.837244Z",
     "iopub.status.busy": "2020-07-09T23:45:36.836934Z",
     "iopub.status.idle": "2020-07-09T23:45:36.907028Z",
     "shell.execute_reply": "2020-07-09T23:45:36.907851Z"
    },
    "papermill": {
     "duration": 0.089162,
     "end_time": "2020-07-09T23:45:36.908029",
     "exception": false,
     "start_time": "2020-07-09T23:45:36.818867",
     "status": "completed"
    },
    "tags": []
   },
   "outputs": [],
   "source": [
    "#simulation.dataframe.iloc[331456,:]"
   ]
  },
  {
   "cell_type": "code",
   "execution_count": 8,
   "metadata": {
    "execution": {
     "iopub.execute_input": "2020-07-09T23:45:36.973995Z",
     "iopub.status.busy": "2020-07-09T23:45:36.973636Z",
     "iopub.status.idle": "2020-07-09T23:45:36.983658Z",
     "shell.execute_reply": "2020-07-09T23:45:36.983370Z"
    },
    "papermill": {
     "duration": 0.031569,
     "end_time": "2020-07-09T23:45:36.983714",
     "exception": false,
     "start_time": "2020-07-09T23:45:36.952145",
     "status": "completed"
    },
    "tags": []
   },
   "outputs": [],
   "source": [
    "#for ix, obj in enumerate(simulation.dataframe.iloc[331456,:].values):\n",
    "#    print(ix,obj)"
   ]
  },
  {
   "cell_type": "code",
   "execution_count": 9,
   "metadata": {
    "execution": {
     "iopub.execute_input": "2020-07-09T23:45:37.018367Z",
     "iopub.status.busy": "2020-07-09T23:45:37.018062Z",
     "iopub.status.idle": "2020-07-09T23:45:37.101907Z",
     "shell.execute_reply": "2020-07-09T23:45:37.100136Z"
    },
    "papermill": {
     "duration": 0.101989,
     "end_time": "2020-07-09T23:45:37.102151",
     "exception": false,
     "start_time": "2020-07-09T23:45:37.000162",
     "status": "completed"
    },
    "tags": []
   },
   "outputs": [],
   "source": [
    "#simulation.fourier_engineered_dataframe.dct_feat0"
   ]
  },
  {
   "cell_type": "code",
   "execution_count": 10,
   "metadata": {
    "execution": {
     "iopub.execute_input": "2020-07-09T23:45:37.178562Z",
     "iopub.status.busy": "2020-07-09T23:45:37.178053Z",
     "iopub.status.idle": "2020-07-09T23:45:37.188309Z",
     "shell.execute_reply": "2020-07-09T23:45:37.187962Z"
    },
    "papermill": {
     "duration": 0.031396,
     "end_time": "2020-07-09T23:45:37.188363",
     "exception": false,
     "start_time": "2020-07-09T23:45:37.156967",
     "status": "completed"
    },
    "tags": []
   },
   "outputs": [],
   "source": [
    "#simulation.features"
   ]
  },
  {
   "cell_type": "code",
   "execution_count": 11,
   "metadata": {
    "execution": {
     "iopub.execute_input": "2020-07-09T23:45:37.223385Z",
     "iopub.status.busy": "2020-07-09T23:45:37.222895Z",
     "iopub.status.idle": "2020-07-09T23:45:37.287044Z",
     "shell.execute_reply": "2020-07-09T23:45:37.288760Z"
    },
    "papermill": {
     "duration": 0.084273,
     "end_time": "2020-07-09T23:45:37.289060",
     "exception": false,
     "start_time": "2020-07-09T23:45:37.204787",
     "status": "completed"
    },
    "tags": []
   },
   "outputs": [],
   "source": [
    "#simulation.fourier_matrix"
   ]
  },
  {
   "cell_type": "code",
   "execution_count": 12,
   "metadata": {
    "execution": {
     "iopub.execute_input": "2020-07-09T23:45:37.359016Z",
     "iopub.status.busy": "2020-07-09T23:45:37.358690Z",
     "iopub.status.idle": "2020-07-09T23:45:37.372942Z",
     "shell.execute_reply": "2020-07-09T23:45:37.373265Z"
    },
    "papermill": {
     "duration": 0.03543,
     "end_time": "2020-07-09T23:45:37.373337",
     "exception": false,
     "start_time": "2020-07-09T23:45:37.337907",
     "status": "completed"
    },
    "tags": []
   },
   "outputs": [],
   "source": [
    "#1/simulation.n_features*simulation.dataframe.loc[:,simulation.features].sum(axis=1)"
   ]
  },
  {
   "cell_type": "code",
   "execution_count": 13,
   "metadata": {
    "execution": {
     "iopub.execute_input": "2020-07-09T23:45:37.408203Z",
     "iopub.status.busy": "2020-07-09T23:45:37.407879Z",
     "iopub.status.idle": "2020-07-09T23:45:37.453954Z",
     "shell.execute_reply": "2020-07-09T23:45:37.453501Z"
    },
    "papermill": {
     "duration": 0.064234,
     "end_time": "2020-07-09T23:45:37.454022",
     "exception": false,
     "start_time": "2020-07-09T23:45:37.389788",
     "status": "completed"
    },
    "tags": []
   },
   "outputs": [],
   "source": [
    "#df_2 = simulation.fourier_engineered_dataframe[simulation.fourier_engineered_dataframe.phase==2]\n",
    "#df_2.describe()"
   ]
  },
  {
   "cell_type": "code",
   "execution_count": 14,
   "metadata": {
    "execution": {
     "iopub.execute_input": "2020-07-09T23:45:37.502114Z",
     "iopub.status.busy": "2020-07-09T23:45:37.501804Z",
     "iopub.status.idle": "2020-07-09T23:45:37.555287Z",
     "shell.execute_reply": "2020-07-09T23:45:37.553548Z"
    },
    "papermill": {
     "duration": 0.075527,
     "end_time": "2020-07-09T23:45:37.555534",
     "exception": false,
     "start_time": "2020-07-09T23:45:37.480007",
     "status": "completed"
    },
    "tags": []
   },
   "outputs": [],
   "source": [
    "#df_1 = simulation.fourier_engineered_dataframe[simulation.fourier_engineered_dataframe.phase==1]\n",
    "#df_1.describe()"
   ]
  },
  {
   "cell_type": "code",
   "execution_count": 15,
   "metadata": {
    "execution": {
     "iopub.execute_input": "2020-07-09T23:45:37.630390Z",
     "iopub.status.busy": "2020-07-09T23:45:37.629759Z",
     "iopub.status.idle": "2020-07-09T23:45:37.639804Z",
     "shell.execute_reply": "2020-07-09T23:45:37.639461Z"
    },
    "papermill": {
     "duration": 0.032267,
     "end_time": "2020-07-09T23:45:37.639858",
     "exception": false,
     "start_time": "2020-07-09T23:45:37.607591",
     "status": "completed"
    },
    "tags": []
   },
   "outputs": [],
   "source": [
    "#df_0 = simulation.fourier_engineered_dataframe[simulation.fourier_engineered_dataframe.phase==0]\n",
    "#df_0.describe()"
   ]
  },
  {
   "cell_type": "code",
   "execution_count": 16,
   "metadata": {
    "execution": {
     "iopub.execute_input": "2020-07-09T23:45:37.675215Z",
     "iopub.status.busy": "2020-07-09T23:45:37.674701Z",
     "iopub.status.idle": "2020-07-09T23:45:37.738864Z",
     "shell.execute_reply": "2020-07-09T23:45:37.737028Z"
    },
    "papermill": {
     "duration": 0.082655,
     "end_time": "2020-07-09T23:45:37.739116",
     "exception": false,
     "start_time": "2020-07-09T23:45:37.656461",
     "status": "completed"
    },
    "tags": []
   },
   "outputs": [],
   "source": [
    "#plt.figure(figsize=(10,10))\n",
    "#plt.scatter(df_1.fourier_feat0,df_1.fourier_feat2)\n",
    "#plt.scatter(df_0.fourier_feat0,df_0.fourier_feat2,alpha=0.4)"
   ]
  },
  {
   "cell_type": "code",
   "execution_count": 17,
   "metadata": {
    "execution": {
     "iopub.execute_input": "2020-07-09T23:45:37.814021Z",
     "iopub.status.busy": "2020-07-09T23:45:37.813709Z",
     "iopub.status.idle": "2020-07-09T23:45:37.823123Z",
     "shell.execute_reply": "2020-07-09T23:45:37.823385Z"
    },
    "papermill": {
     "duration": 0.03077,
     "end_time": "2020-07-09T23:45:37.823457",
     "exception": false,
     "start_time": "2020-07-09T23:45:37.792687",
     "status": "completed"
    },
    "tags": []
   },
   "outputs": [],
   "source": [
    "#plt.scatter(df_0.fourier_feat0,df_0.fourier_feat2,alpha=0.4)"
   ]
  },
  {
   "cell_type": "code",
   "execution_count": 18,
   "metadata": {
    "execution": {
     "iopub.execute_input": "2020-07-09T23:45:37.858760Z",
     "iopub.status.busy": "2020-07-09T23:45:37.858442Z",
     "iopub.status.idle": "2020-07-09T23:45:37.913946Z",
     "shell.execute_reply": "2020-07-09T23:45:37.914335Z"
    },
    "papermill": {
     "duration": 0.074385,
     "end_time": "2020-07-09T23:45:37.914431",
     "exception": false,
     "start_time": "2020-07-09T23:45:37.840046",
     "status": "completed"
    },
    "tags": []
   },
   "outputs": [],
   "source": [
    "#plt.scatter(df_2.fourier_feat0,df_2.fourier_feat2)"
   ]
  },
  {
   "cell_type": "code",
   "execution_count": 19,
   "metadata": {
    "execution": {
     "iopub.execute_input": "2020-07-09T23:45:37.969880Z",
     "iopub.status.busy": "2020-07-09T23:45:37.969573Z",
     "iopub.status.idle": "2020-07-09T23:45:37.979967Z",
     "shell.execute_reply": "2020-07-09T23:45:37.979622Z"
    },
    "papermill": {
     "duration": 0.033645,
     "end_time": "2020-07-09T23:45:37.980020",
     "exception": false,
     "start_time": "2020-07-09T23:45:37.946375",
     "status": "completed"
    },
    "tags": []
   },
   "outputs": [],
   "source": [
    "#df_1.hist(figsize=(15,15))"
   ]
  },
  {
   "cell_type": "code",
   "execution_count": 20,
   "metadata": {
    "execution": {
     "iopub.execute_input": "2020-07-09T23:45:38.015840Z",
     "iopub.status.busy": "2020-07-09T23:45:38.015535Z",
     "iopub.status.idle": "2020-07-09T23:45:38.097069Z",
     "shell.execute_reply": "2020-07-09T23:45:38.095263Z"
    },
    "papermill": {
     "duration": 0.099991,
     "end_time": "2020-07-09T23:45:38.097320",
     "exception": false,
     "start_time": "2020-07-09T23:45:37.997329",
     "status": "completed"
    },
    "tags": []
   },
   "outputs": [],
   "source": [
    "#df_0.hist(figsize=(15,15))"
   ]
  },
  {
   "cell_type": "markdown",
   "metadata": {
    "papermill": {
     "duration": 0.018982,
     "end_time": "2020-07-09T23:45:38.171179",
     "exception": false,
     "start_time": "2020-07-09T23:45:38.152197",
     "status": "completed"
    },
    "tags": []
   },
   "source": [
    "#### Checking initialization"
   ]
  },
  {
   "cell_type": "code",
   "execution_count": 21,
   "metadata": {
    "execution": {
     "iopub.execute_input": "2020-07-09T23:45:38.209912Z",
     "iopub.status.busy": "2020-07-09T23:45:38.209573Z",
     "iopub.status.idle": "2020-07-09T23:45:38.220190Z",
     "shell.execute_reply": "2020-07-09T23:45:38.219873Z"
    },
    "papermill": {
     "duration": 0.031216,
     "end_time": "2020-07-09T23:45:38.220241",
     "exception": false,
     "start_time": "2020-07-09T23:45:38.189025",
     "status": "completed"
    },
    "tags": []
   },
   "outputs": [
    {
     "name": "stdout",
     "output_type": "stream",
     "text": [
      "n_features:  100\n",
      "n_hamiltonians:  6561\n",
      "n_ts:  2\n",
      "CPU times: user 145 µs, sys: 18 µs, total: 163 µs\n",
      "Wall time: 88.9 µs\n"
     ]
    }
   ],
   "source": [
    "%%time\n",
    "n_features = simulation.n_features\n",
    "n_hamiltonians = simulation.n_hamiltonians\n",
    "n_ts = simulation.n_ts\n",
    "\n",
    "print(\"n_features: \", n_features)\n",
    "print(\"n_hamiltonians: \", n_hamiltonians)\n",
    "print(\"n_ts: \", n_ts)"
   ]
  },
  {
   "cell_type": "code",
   "execution_count": 22,
   "metadata": {
    "execution": {
     "iopub.execute_input": "2020-07-09T23:45:38.256836Z",
     "iopub.status.busy": "2020-07-09T23:45:38.256500Z",
     "iopub.status.idle": "2020-07-09T23:45:38.493292Z",
     "shell.execute_reply": "2020-07-09T23:45:38.492993Z"
    },
    "papermill": {
     "duration": 0.256073,
     "end_time": "2020-07-09T23:45:38.493347",
     "exception": false,
     "start_time": "2020-07-09T23:45:38.237274",
     "status": "completed"
    },
    "tags": []
   },
   "outputs": [
    {
     "name": "stdout",
     "output_type": "stream",
     "text": [
      "% train:  0.8414875781130925\n",
      "% val:  0.0\n",
      "% test:  0.15851242188690748\n",
      "% train + val + test:  1.0\n",
      "\n",
      "\n",
      "number of train hamiltonians:  5521\n",
      "number of val hamiltonians:  0\n",
      "number of test hamiltonians:  1040\n",
      "total number of hamiltonians:  6561\n",
      "\n",
      "\n",
      "train ids:  [13, 14, 15, 16, 17, 18, 19, 20, 21, 22, 23, 24, 25, 26, 27, 28, 29, 30, 31, 32, 33, 34, 35, 36, 37, 38, 39, 41, 42, 43, 44, 45, 46, 47, 48, 49, 50, 51, 52, 53, 54, 55, 56, 57, 58, 59, 60, 61, 62, 63, 64, 65, 66, 67, 68, 69, 70, 71, 72, 73, 74, 75, 76, 77, 78, 79, 80, 95, 96, 97, 98, 99, 100, 101, 102, 103, 104, 105, 106, 107, 108, 109, 110, 111, 112, 113, 114, 115, 116, 117, 118, 119, 121, 122, 123, 124, 125, 126, 127, 128, 129, 130, 131, 132, 133, 134, 135, 136, 137, 138, 139, 140, 141, 142, 143, 144, 145, 146, 147, 148, 149, 150, 151, 152, 153, 154, 155, 156, 157, 158, 159, 160, 161, 176, 177, 178, 179, 180, 181, 182, 183, 184, 185, 186, 187, 188, 189, 190, 191, 192, 193, 194, 195, 196, 197, 198, 199, 201, 202, 203, 204, 205, 206, 207, 208, 209, 210, 211, 212, 213, 214, 215, 216, 217, 218, 219, 220, 221, 222, 223, 224, 225, 226, 227, 228, 229, 230, 231, 232, 233, 234, 235, 236, 237, 238, 239, 240, 241, 242, 258, 259, 260, 261, 262, 263, 264, 265, 266, 267, 268, 269, 270, 271, 272, 273, 274, 275, 276, 277, 278, 279, 281, 282, 283, 284, 285, 286, 287, 288, 289, 290, 291, 292, 293, 294, 295, 296, 297, 298, 299, 300, 301, 302, 303, 304, 305, 306, 307, 308, 309, 310, 311, 312, 313, 314, 315, 316, 317, 318, 319, 320, 321, 322, 323, 340, 341, 342, 343, 344, 345, 346, 347, 348, 349, 350, 351, 352, 353, 354, 355, 356, 357, 358, 359, 361, 362, 363, 364, 365, 366, 367, 368, 369, 370, 371, 372, 373, 374, 375, 376, 377, 378, 379, 380, 381, 382, 383, 384, 385, 386, 387, 388, 389, 390, 391, 392, 393, 394, 395, 396, 397, 398, 399, 400, 401, 402, 403, 404, 422, 423, 424, 425, 426, 427, 428, 429, 430, 431, 432, 433, 434, 435, 436, 437, 438, 439, 441, 442, 443, 444, 445, 446, 447, 448, 449, 450, 451, 452, 453, 454, 455, 456, 457, 458, 459, 460, 461, 462, 463, 464, 465, 466, 467, 468, 469, 470, 471, 472, 473, 474, 475, 476, 477, 478, 479, 480, 481, 482, 483, 484, 485, 503, 504, 505, 506, 507, 508, 509, 510, 511, 512, 513, 514, 515, 516, 517, 518, 519, 521, 522, 523, 524, 525, 526, 527, 528, 529, 530, 531, 532, 533, 534, 535, 536, 537, 538, 539, 540, 541, 542, 543, 544, 545, 546, 547, 548, 549, 550, 551, 552, 553, 554, 555, 556, 557, 558, 559, 560, 561, 562, 563, 564, 565, 566, 585, 586, 587, 588, 589, 590, 591, 592, 593, 594, 595, 596, 597, 598, 599, 601, 602, 603, 604, 605, 606, 607, 608, 609, 610, 611, 612, 613, 614, 615, 616, 617, 618, 619, 620, 621, 622, 623, 624, 625, 626, 627, 628, 629, 630, 631, 632, 633, 634, 635, 636, 637, 638, 639, 640, 641, 642, 643, 644, 645, 646, 647, 667, 668, 669, 670, 671, 672, 673, 674, 675, 676, 677, 678, 679, 681, 682, 683, 684, 685, 686, 687, 688, 689, 690, 691, 692, 693, 694, 695, 696, 697, 698, 699, 700, 701, 702, 703, 704, 705, 706, 707, 708, 709, 710, 711, 712, 713, 714, 715, 716, 717, 718, 719, 720, 721, 722, 723, 724, 725, 726, 727, 728, 749, 750, 751, 752, 753, 754, 755, 756, 757, 758, 759, 761, 762, 763, 764, 765, 766, 767, 768, 769, 770, 771, 772, 773, 774, 775, 776, 777, 778, 779, 780, 781, 782, 783, 784, 785, 786, 787, 788, 789, 790, 791, 792, 793, 794, 795, 796, 797, 798, 799, 800, 801, 802, 803, 804, 805, 806, 807, 808, 809, 830, 831, 832, 833, 834, 835, 836, 837, 838, 839, 841, 842, 843, 844, 845, 846, 847, 848, 849, 850, 851, 852, 853, 854, 855, 856, 857, 858, 859, 860, 861, 862, 863, 864, 865, 866, 867, 868, 869, 870, 871, 872, 873, 874, 875, 876, 877, 878, 879, 880, 881, 882, 883, 884, 885, 886, 887, 888, 889, 890, 912, 913, 914, 915, 916, 917, 918, 919, 921, 922, 923, 924, 925, 926, 927, 928, 929, 930, 931, 932, 933, 934, 935, 936, 937, 938, 939, 940, 941, 942, 943, 944, 945, 946, 947, 948, 949, 950, 951, 952, 953, 954, 955, 956, 957, 958, 959, 960, 961, 962, 963, 964, 965, 966, 967, 968, 969, 970, 971, 994, 995, 996, 997, 998, 999, 1001, 1002, 1003, 1004, 1005, 1006, 1007, 1008, 1009, 1010, 1011, 1012, 1013, 1014, 1015, 1016, 1017, 1018, 1019, 1020, 1021, 1022, 1023, 1024, 1025, 1026, 1027, 1028, 1029, 1030, 1031, 1032, 1033, 1034, 1035, 1036, 1037, 1038, 1039, 1040, 1041, 1042, 1043, 1044, 1045, 1046, 1047, 1048, 1049, 1050, 1051, 1052, 1076, 1077, 1078, 1079, 1081, 1082, 1083, 1084, 1085, 1086, 1087, 1088, 1089, 1090, 1091, 1092, 1093, 1094, 1095, 1096, 1097, 1098, 1099, 1100, 1101, 1102, 1103, 1104, 1105, 1106, 1107, 1108, 1109, 1110, 1111, 1112, 1113, 1114, 1115, 1116, 1117, 1118, 1119, 1120, 1121, 1122, 1123, 1124, 1125, 1126, 1127, 1128, 1129, 1130, 1131, 1132, 1133, 1134, 1157, 1158, 1159, 1161, 1162, 1163, 1164, 1165, 1166, 1167, 1168, 1169, 1170, 1171, 1172, 1173, 1174, 1175, 1176, 1177, 1178, 1179, 1180, 1181, 1182, 1183, 1184, 1185, 1186, 1187, 1188, 1189, 1190, 1191, 1192, 1193, 1194, 1195, 1196, 1197, 1198, 1199, 1200, 1201, 1202, 1203, 1204, 1205, 1206, 1207, 1208, 1209, 1210, 1211, 1212, 1213, 1214, 1215, 1216, 1239, 1241, 1242, 1243, 1244, 1245, 1246, 1247, 1248, 1249, 1250, 1251, 1252, 1253, 1254, 1255, 1256, 1257, 1258, 1259, 1260, 1261, 1262, 1263, 1264, 1265, 1266, 1267, 1268, 1269, 1270, 1271, 1272, 1273, 1274, 1275, 1276, 1277, 1278, 1279, 1280, 1281, 1282, 1283, 1284, 1285, 1286, 1287, 1288, 1289, 1290, 1291, 1292, 1293, 1294, 1295, 1296, 1297, 1298, 1299, 1321, 1322, 1323, 1324, 1325, 1326, 1327, 1328, 1329, 1330, 1331, 1332, 1333, 1334, 1335, 1336, 1337, 1338, 1339, 1340, 1341, 1342, 1343, 1344, 1345, 1346, 1347, 1348, 1349, 1350, 1351, 1352, 1353, 1354, 1355, 1356, 1357, 1358, 1359, 1360, 1361, 1362, 1363, 1364, 1365, 1366, 1367, 1368, 1369, 1370, 1371, 1372, 1373, 1374, 1375, 1376, 1377, 1378, 1379, 1380, 1381, 1402, 1403, 1404, 1405, 1406, 1407, 1408, 1409, 1410, 1411, 1412, 1413, 1414, 1415, 1416, 1417, 1418, 1419, 1420, 1421, 1422, 1423, 1424, 1425, 1426, 1427, 1428, 1429, 1430, 1431, 1432, 1433, 1434, 1435, 1436, 1437, 1438, 1439, 1440, 1441, 1442, 1443, 1444, 1445, 1446, 1447, 1448, 1449, 1450, 1451, 1452, 1453, 1454, 1455, 1456, 1457, 1458, 1459, 1460, 1461, 1462, 1463, 1464, 1484, 1485, 1486, 1487, 1488, 1489, 1490, 1491, 1492, 1493, 1494, 1495, 1496, 1497, 1498, 1499, 1500, 1501, 1502, 1503, 1504, 1505, 1506, 1507, 1508, 1509, 1510, 1511, 1512, 1513, 1514, 1515, 1516, 1517, 1518, 1519, 1520, 1521, 1522, 1523, 1524, 1525, 1526, 1527, 1528, 1529, 1530, 1531, 1532, 1533, 1534, 1535, 1536, 1537, 1538, 1539, 1540, 1541, 1542, 1543, 1544, 1545, 1546, 1566, 1567, 1568, 1569, 1570, 1571, 1572, 1573, 1574, 1575, 1576, 1577, 1578, 1579, 1580, 1581, 1582, 1583, 1584, 1585, 1586, 1587, 1588, 1589, 1590, 1591, 1592, 1593, 1594, 1595, 1596, 1597, 1598, 1599, 1600, 1601, 1602, 1603, 1604, 1605, 1606, 1607, 1608, 1609, 1610, 1611, 1612, 1613, 1614, 1615, 1616, 1617, 1618, 1619, 1620, 1621, 1622, 1623, 1624, 1625, 1626, 1627, 1628, 1648, 1649, 1650, 1651, 1652, 1653, 1654, 1655, 1656, 1657, 1658, 1659, 1660, 1661, 1662, 1663, 1664, 1665, 1666, 1667, 1668, 1669, 1670, 1671, 1672, 1673, 1674, 1675, 1676, 1677, 1678, 1679, 1680, 1681, 1682, 1683, 1684, 1685, 1686, 1687, 1688, 1689, 1690, 1691, 1692, 1693, 1694, 1695, 1696, 1697, 1698, 1699, 1701, 1702, 1703, 1704, 1705, 1706, 1707, 1708, 1709, 1710, 1711, 1729, 1730, 1731, 1732, 1733, 1734, 1735, 1736, 1737, 1738, 1739, 1740, 1741, 1742, 1743, 1744, 1745, 1746, 1747, 1748, 1749, 1750, 1751, 1752, 1753, 1754, 1755, 1756, 1757, 1758, 1759, 1760, 1761, 1762, 1763, 1764, 1765, 1766, 1767, 1768, 1769, 1770, 1771, 1772, 1773, 1774, 1775, 1776, 1777, 1778, 1779, 1781, 1782, 1783, 1784, 1785, 1786, 1787, 1788, 1789, 1790, 1791, 1792, 1793, 1811, 1812, 1813, 1814, 1815, 1816, 1817, 1818, 1819, 1820, 1821, 1822, 1823, 1824, 1825, 1826, 1827, 1828, 1829, 1830, 1831, 1832, 1833, 1834, 1835, 1836, 1837, 1838, 1839, 1840, 1841, 1842, 1843, 1844, 1845, 1846, 1847, 1848, 1849, 1850, 1851, 1852, 1853, 1854, 1855, 1856, 1857, 1858, 1859, 1861, 1862, 1863, 1864, 1865, 1866, 1867, 1868, 1869, 1870, 1871, 1872, 1873, 1874, 1875, 1876, 1893, 1894, 1895, 1896, 1897, 1898, 1899, 1900, 1901, 1902, 1903, 1904, 1905, 1906, 1907, 1908, 1909, 1910, 1911, 1912, 1913, 1914, 1915, 1916, 1917, 1918, 1919, 1920, 1921, 1922, 1923, 1924, 1925, 1926, 1927, 1928, 1929, 1930, 1931, 1932, 1933, 1934, 1935, 1936, 1937, 1938, 1939, 1941, 1942, 1943, 1944, 1945, 1946, 1947, 1948, 1949, 1950, 1951, 1952, 1953, 1954, 1955, 1956, 1957, 1958, 1975, 1976, 1977, 1978, 1979, 1980, 1981, 1982, 1983, 1984, 1985, 1986, 1987, 1988, 1989, 1990, 1991, 1992, 1993, 1994, 1995, 1996, 1997, 1998, 1999, 2000, 2001, 2002, 2003, 2004, 2005, 2006, 2007, 2008, 2009, 2010, 2011, 2012, 2013, 2014, 2015, 2016, 2017, 2018, 2019, 2021, 2022, 2023, 2024, 2025, 2026, 2027, 2028, 2029, 2030, 2031, 2032, 2033, 2034, 2035, 2036, 2037, 2038, 2039, 2056, 2057, 2058, 2059, 2060, 2061, 2062, 2063, 2064, 2065, 2066, 2067, 2068, 2069, 2070, 2071, 2072, 2073, 2074, 2075, 2076, 2077, 2078, 2079, 2080, 2081, 2082, 2083, 2084, 2085, 2086, 2087, 2088, 2089, 2090, 2091, 2092, 2093, 2094, 2095, 2096, 2097, 2098, 2099, 2101, 2102, 2103, 2104, 2105, 2106, 2107, 2108, 2109, 2110, 2111, 2112, 2113, 2114, 2115, 2116, 2117, 2118, 2119, 2121, 2122, 2123, 2138, 2139, 2140, 2141, 2142, 2143, 2144, 2145, 2146, 2147, 2148, 2149, 2150, 2151, 2152, 2153, 2154, 2155, 2156, 2157, 2158, 2159, 2160, 2161, 2162, 2163, 2164, 2165, 2166, 2167, 2168, 2169, 2170, 2171, 2172, 2173, 2174, 2175, 2176, 2177, 2178, 2179, 2181, 2182, 2183, 2184, 2185, 2186, 2187, 2188, 2189, 2190, 2191, 2192, 2193, 2194, 2195, 2196, 2197, 2198, 2199, 2201, 2202, 2203, 2204, 2205, 2220, 2221, 2222, 2223, 2224, 2225, 2226, 2227, 2228, 2229, 2230, 2231, 2232, 2233, 2234, 2235, 2236, 2237, 2238, 2239, 2240, 2241, 2242, 2243, 2244, 2245, 2246, 2247, 2248, 2249, 2250, 2251, 2252, 2253, 2254, 2255, 2256, 2257, 2258, 2259, 2261, 2262, 2263, 2264, 2265, 2266, 2267, 2268, 2269, 2270, 2271, 2272, 2273, 2274, 2275, 2276, 2277, 2278, 2279, 2281, 2282, 2283, 2284, 2285, 2286, 2287, 2288, 2301, 2302, 2303, 2304, 2305, 2306, 2307, 2308, 2309, 2310, 2311, 2312, 2313, 2314, 2315, 2316, 2317, 2318, 2319, 2320, 2321, 2322, 2323, 2324, 2325, 2326, 2327, 2328, 2329, 2330, 2331, 2332, 2333, 2334, 2335, 2336, 2337, 2338, 2339, 2341, 2342, 2343, 2344, 2345, 2346, 2347, 2348, 2349, 2350, 2351, 2352, 2353, 2354, 2355, 2356, 2357, 2358, 2359, 2361, 2362, 2363, 2364, 2365, 2366, 2367, 2368, 2369, 2370, 2383, 2384, 2385, 2386, 2387, 2388, 2389, 2390, 2391, 2392, 2393, 2394, 2395, 2396, 2397, 2398, 2399, 2400, 2401, 2402, 2403, 2404, 2405, 2406, 2407, 2408, 2409, 2410, 2411, 2412, 2413, 2414, 2415, 2416, 2417, 2418, 2419, 2421, 2422, 2423, 2424, 2425, 2426, 2427, 2428, 2429, 2430, 2431, 2432, 2433, 2434, 2435, 2436, 2437, 2438, 2439, 2441, 2442, 2443, 2444, 2445, 2446, 2447, 2448, 2449, 2450, 2451, 2452, 2453, 2465, 2466, 2467, 2468, 2469, 2470, 2471, 2472, 2473, 2474, 2475, 2476, 2477, 2478, 2479, 2480, 2481, 2482, 2483, 2484, 2485, 2486, 2487, 2488, 2489, 2490, 2491, 2492, 2493, 2494, 2495, 2496, 2497, 2498, 2499, 2501, 2502, 2503, 2504, 2505, 2506, 2507, 2508, 2509, 2510, 2511, 2512, 2513, 2514, 2515, 2516, 2517, 2518, 2519, 2521, 2522, 2523, 2524, 2525, 2526, 2527, 2528, 2529, 2530, 2531, 2532, 2533, 2534, 2535, 2547, 2548, 2549, 2550, 2551, 2552, 2553, 2554, 2555, 2556, 2557, 2558, 2559, 2560, 2561, 2562, 2563, 2564, 2565, 2566, 2567, 2568, 2569, 2570, 2571, 2572, 2573, 2574, 2575, 2576, 2577, 2578, 2579, 2581, 2582, 2583, 2584, 2585, 2586, 2587, 2588, 2589, 2590, 2591, 2592, 2593, 2594, 2595, 2596, 2597, 2598, 2599, 2601, 2602, 2603, 2604, 2605, 2606, 2607, 2608, 2609, 2610, 2611, 2612, 2613, 2614, 2615, 2616, 2617, 2628, 2629, 2630, 2631, 2632, 2633, 2634, 2635, 2636, 2637, 2638, 2639, 2640, 2641, 2642, 2643, 2644, 2645, 2646, 2647, 2648, 2649, 2650, 2651, 2652, 2653, 2654, 2655, 2656, 2657, 2658, 2659, 2661, 2662, 2663, 2664, 2665, 2666, 2667, 2668, 2669, 2670, 2671, 2672, 2673, 2674, 2675, 2676, 2677, 2678, 2679, 2681, 2682, 2683, 2684, 2685, 2686, 2687, 2688, 2689, 2690, 2691, 2692, 2693, 2694, 2695, 2696, 2697, 2698, 2699, 2700, 2710, 2711, 2712, 2713, 2714, 2715, 2716, 2717, 2718, 2719, 2720, 2721, 2722, 2723, 2724, 2725, 2726, 2727, 2728, 2729, 2730, 2731, 2732, 2733, 2734, 2735, 2736, 2737, 2738, 2739, 2741, 2742, 2743, 2744, 2745, 2746, 2747, 2748, 2749, 2750, 2751, 2752, 2753, 2754, 2755, 2756, 2757, 2758, 2759, 2761, 2762, 2763, 2764, 2765, 2766, 2767, 2768, 2769, 2770, 2771, 2772, 2773, 2774, 2775, 2776, 2777, 2778, 2779, 2780, 2781, 2782, 2792, 2793, 2794, 2795, 2796, 2797, 2798, 2799, 2800, 2801, 2802, 2803, 2804, 2805, 2806, 2807, 2808, 2809, 2810, 2811, 2812, 2813, 2814, 2815, 2816, 2817, 2818, 2819, 2821, 2822, 2823, 2824, 2825, 2826, 2827, 2828, 2829, 2830, 2831, 2832, 2833, 2834, 2835, 2836, 2837, 2838, 2839, 2841, 2842, 2843, 2844, 2845, 2846, 2847, 2848, 2849, 2850, 2851, 2852, 2853, 2854, 2855, 2856, 2857, 2858, 2859, 2860, 2861, 2862, 2863, 2864, 2865, 2874, 2875, 2876, 2877, 2878, 2879, 2880, 2881, 2882, 2883, 2884, 2885, 2886, 2887, 2888, 2889, 2890, 2891, 2892, 2893, 2894, 2895, 2896, 2897, 2898, 2899, 2901, 2902, 2903, 2904, 2905, 2906, 2907, 2908, 2909, 2910, 2911, 2912, 2913, 2914, 2915, 2916, 2917, 2918, 2919, 2921, 2922, 2923, 2924, 2925, 2926, 2927, 2928, 2929, 2930, 2931, 2932, 2933, 2934, 2935, 2936, 2937, 2938, 2939, 2940, 2941, 2942, 2943, 2944, 2945, 2946, 2947, 2955, 2956, 2957, 2958, 2959, 2960, 2961, 2962, 2963, 2964, 2965, 2966, 2967, 2968, 2969, 2970, 2971, 2972, 2973, 2974, 2975, 2976, 2977, 2978, 2979, 2981, 2982, 2983, 2984, 2985, 2986, 2987, 2988, 2989, 2990, 2991, 2992, 2993, 2994, 2995, 2996, 2997, 2998, 2999, 3001, 3002, 3003, 3004, 3005, 3006, 3007, 3008, 3009, 3010, 3011, 3012, 3013, 3014, 3015, 3016, 3017, 3018, 3019, 3020, 3021, 3022, 3023, 3024, 3025, 3026, 3027, 3028, 3029, 3037, 3038, 3039, 3040, 3041, 3042, 3043, 3044, 3045, 3046, 3047, 3048, 3049, 3050, 3051, 3052, 3053, 3054, 3055, 3056, 3057, 3058, 3059, 3061, 3062, 3063, 3064, 3065, 3066, 3067, 3068, 3069, 3070, 3071, 3072, 3073, 3074, 3075, 3076, 3077, 3078, 3079, 3081, 3082, 3083, 3084, 3085, 3086, 3087, 3088, 3089, 3090, 3091, 3092, 3093, 3094, 3095, 3096, 3097, 3098, 3099, 3100, 3101, 3102, 3103, 3104, 3105, 3106, 3107, 3108, 3109, 3110, 3111, 3112, 3119, 3120, 3121, 3122, 3123, 3124, 3125, 3126, 3127, 3128, 3129, 3130, 3131, 3132, 3133, 3134, 3135, 3136, 3137, 3138, 3139, 3141, 3142, 3143, 3144, 3145, 3146, 3147, 3148, 3149, 3150, 3151, 3152, 3153, 3154, 3155, 3156, 3157, 3158, 3159, 3161, 3162, 3163, 3164, 3165, 3166, 3167, 3168, 3169, 3170, 3171, 3172, 3173, 3174, 3175, 3176, 3177, 3178, 3179, 3180, 3181, 3182, 3183, 3184, 3185, 3186, 3187, 3188, 3189, 3190, 3191, 3192, 3193, 3194, 3201, 3202, 3203, 3204, 3205, 3206, 3207, 3208, 3209, 3210, 3211, 3212, 3213, 3214, 3215, 3216, 3217, 3218, 3219, 3221, 3222, 3223, 3224, 3225, 3226, 3227, 3228, 3229, 3230, 3231, 3232, 3233, 3234, 3235, 3236, 3237, 3238, 3239, 3241, 3242, 3243, 3244, 3245, 3246, 3247, 3248, 3249, 3250, 3251, 3252, 3253, 3254, 3255, 3256, 3257, 3258, 3259, 3260, 3261, 3262, 3263, 3264, 3265, 3266, 3267, 3268, 3269, 3270, 3271, 3272, 3273, 3274, 3275, 3276, 3277, 3282, 3283, 3284, 3285, 3286, 3287, 3288, 3289, 3290, 3291, 3292, 3293, 3294, 3295, 3296, 3297, 3298, 3299, 3301, 3302, 3303, 3304, 3305, 3306, 3307, 3308, 3309, 3310, 3311, 3312, 3313, 3314, 3315, 3316, 3317, 3318, 3319, 3320, 3321, 3322, 3323, 3324, 3325, 3326, 3327, 3328, 3329, 3330, 3331, 3332, 3333, 3334, 3335, 3336, 3337, 3338, 3339, 3340, 3341, 3342, 3343, 3344, 3345, 3346, 3347, 3348, 3349, 3350, 3351, 3352, 3353, 3354, 3355, 3356, 3357, 3358, 3359, 3364, 3365, 3366, 3367, 3368, 3369, 3370, 3371, 3372, 3373, 3374, 3375, 3376, 3377, 3378, 3379, 3381, 3382, 3383, 3384, 3385, 3386, 3387, 3388, 3389, 3390, 3391, 3392, 3393, 3394, 3395, 3396, 3397, 3398, 3399, 3400, 3401, 3402, 3403, 3404, 3405, 3406, 3407, 3408, 3409, 3410, 3411, 3412, 3413, 3414, 3415, 3416, 3417, 3418, 3419, 3420, 3421, 3422, 3423, 3424, 3425, 3426, 3427, 3428, 3429, 3430, 3431, 3432, 3433, 3434, 3435, 3436, 3437, 3438, 3439, 3440, 3441, 3442, 3446, 3447, 3448, 3449, 3450, 3451, 3452, 3453, 3454, 3455, 3456, 3457, 3458, 3459, 3461, 3462, 3463, 3464, 3465, 3466, 3467, 3468, 3469, 3470, 3471, 3472, 3473, 3474, 3475, 3476, 3477, 3478, 3479, 3480, 3481, 3482, 3483, 3484, 3485, 3486, 3487, 3488, 3489, 3490, 3491, 3492, 3493, 3494, 3495, 3496, 3497, 3498, 3499, 3500, 3501, 3502, 3503, 3504, 3505, 3506, 3507, 3508, 3509, 3510, 3511, 3512, 3513, 3514, 3515, 3516, 3517, 3518, 3519, 3520, 3521, 3522, 3523, 3524, 3527, 3528, 3529, 3530, 3531, 3532, 3533, 3534, 3535, 3536, 3537, 3538, 3539, 3541, 3542, 3543, 3544, 3545, 3546, 3547, 3548, 3549, 3550, 3551, 3552, 3553, 3554, 3555, 3556, 3557, 3558, 3559, 3560, 3561, 3562, 3563, 3564, 3565, 3566, 3567, 3568, 3569, 3570, 3571, 3572, 3573, 3574, 3575, 3576, 3577, 3578, 3579, 3580, 3581, 3582, 3583, 3584, 3585, 3586, 3587, 3588, 3589, 3590, 3591, 3592, 3593, 3594, 3595, 3596, 3597, 3598, 3599, 3600, 3601, 3602, 3603, 3604, 3605, 3606, 3609, 3610, 3611, 3612, 3613, 3614, 3615, 3616, 3617, 3618, 3619, 3621, 3622, 3623, 3624, 3625, 3626, 3627, 3628, 3629, 3630, 3631, 3632, 3633, 3634, 3635, 3636, 3637, 3638, 3639, 3640, 3641, 3642, 3643, 3644, 3645, 3646, 3647, 3648, 3649, 3650, 3651, 3652, 3653, 3654, 3655, 3656, 3657, 3658, 3659, 3660, 3661, 3662, 3663, 3664, 3665, 3666, 3667, 3668, 3669, 3670, 3671, 3672, 3673, 3674, 3675, 3676, 3677, 3678, 3679, 3680, 3681, 3682, 3683, 3684, 3685, 3686, 3687, 3688, 3689, 3691, 3692, 3693, 3694, 3695, 3696, 3697, 3698, 3699, 3701, 3702, 3703, 3704, 3705, 3706, 3707, 3708, 3709, 3710, 3711, 3712, 3713, 3714, 3715, 3716, 3717, 3718, 3719, 3720, 3721, 3722, 3723, 3724, 3725, 3726, 3727, 3728, 3729, 3730, 3731, 3732, 3733, 3734, 3735, 3736, 3737, 3738, 3739, 3740, 3741, 3742, 3743, 3744, 3745, 3746, 3747, 3748, 3749, 3750, 3751, 3752, 3753, 3754, 3755, 3756, 3757, 3758, 3759, 3760, 3761, 3762, 3763, 3764, 3765, 3766, 3767, 3768, 3769, 3770, 3771, 3773, 3774, 3775, 3776, 3777, 3778, 3779, 3781, 3782, 3783, 3784, 3785, 3786, 3787, 3788, 3789, 3790, 3791, 3792, 3793, 3794, 3795, 3796, 3797, 3798, 3799, 3800, 3801, 3802, 3803, 3804, 3805, 3806, 3807, 3808, 3809, 3810, 3811, 3812, 3813, 3814, 3815, 3816, 3817, 3818, 3819, 3820, 3821, 3822, 3823, 3824, 3825, 3826, 3827, 3828, 3829, 3830, 3831, 3832, 3833, 3834, 3835, 3836, 3837, 3838, 3839, 3840, 3841, 3842, 3843, 3844, 3845, 3846, 3847, 3848, 3849, 3850, 3851, 3852, 3853, 3855, 3856, 3857, 3858, 3859, 3861, 3862, 3863, 3864, 3865, 3866, 3867, 3868, 3869, 3870, 3871, 3872, 3873, 3874, 3875, 3876, 3877, 3878, 3879, 3880, 3881, 3882, 3883, 3884, 3885, 3886, 3887, 3888, 3889, 3890, 3891, 3892, 3893, 3894, 3895, 3896, 3897, 3898, 3899, 3900, 3901, 3902, 3903, 3904, 3905, 3906, 3907, 3908, 3909, 3910, 3911, 3912, 3913, 3914, 3915, 3916, 3917, 3918, 3919, 3920, 3921, 3922, 3923, 3924, 3925, 3926, 3927, 3928, 3929, 3930, 3931, 3932, 3933, 3934, 3935, 3937, 3938, 3939, 3941, 3942, 3943, 3944, 3945, 3946, 3947, 3948, 3949, 3950, 3951, 3952, 3953, 3954, 3955, 3956, 3957, 3958, 3959, 3960, 3961, 3962, 3963, 3964, 3965, 3966, 3967, 3968, 3969, 3970, 3971, 3972, 3973, 3974, 3975, 3976, 3977, 3978, 3979, 3980, 3981, 3982, 3983, 3984, 3985, 3986, 3987, 3988, 3989, 3990, 3991, 3992, 3993, 3994, 3995, 3996, 3997, 3998, 3999, 4000, 4001, 4002, 4003, 4004, 4005, 4006, 4007, 4008, 4009, 4010, 4011, 4012, 4013, 4014, 4015, 4016, 4017, 4021, 4022, 4023, 4024, 4025, 4026, 4027, 4028, 4029, 4030, 4031, 4032, 4033, 4034, 4035, 4036, 4037, 4038, 4039, 4040, 4041, 4042, 4043, 4044, 4045, 4046, 4047, 4048, 4049, 4050, 4051, 4052, 4053, 4054, 4055, 4056, 4057, 4058, 4059, 4060, 4061, 4062, 4063, 4064, 4065, 4066, 4067, 4068, 4069, 4070, 4071, 4072, 4073, 4074, 4075, 4076, 4077, 4078, 4079, 4080, 4081, 4082, 4083, 4084, 4085, 4086, 4087, 4088, 4089, 4090, 4091, 4092, 4093, 4094, 4095, 4096, 4097, 4098, 4102, 4103, 4104, 4105, 4106, 4107, 4108, 4109, 4110, 4111, 4112, 4113, 4114, 4115, 4116, 4117, 4118, 4119, 4120, 4121, 4122, 4123, 4124, 4125, 4126, 4127, 4128, 4129, 4130, 4131, 4132, 4133, 4134, 4135, 4136, 4137, 4138, 4139, 4140, 4141, 4142, 4143, 4144, 4145, 4146, 4147, 4148, 4149, 4150, 4151, 4152, 4153, 4154, 4155, 4156, 4157, 4158, 4159, 4160, 4161, 4162, 4163, 4164, 4165, 4166, 4167, 4168, 4169, 4170, 4171, 4172, 4173, 4174, 4175, 4176, 4177, 4178, 4179, 4184, 4185, 4186, 4187, 4188, 4189, 4190, 4191, 4192, 4193, 4194, 4195, 4196, 4197, 4198, 4199, 4200, 4201, 4202, 4203, 4204, 4205, 4206, 4207, 4208, 4209, 4210, 4211, 4212, 4213, 4214, 4215, 4216, 4217, 4218, 4219, 4220, 4221, 4222, 4223, 4224, 4225, 4226, 4227, 4228, 4229, 4230, 4231, 4232, 4233, 4234, 4235, 4236, 4237, 4238, 4239, 4240, 4241, 4242, 4243, 4244, 4245, 4246, 4247, 4248, 4249, 4250, 4251, 4252, 4253, 4254, 4255, 4256, 4257, 4258, 4259, 4261, 4262, 4267, 4268, 4269, 4270, 4271, 4272, 4273, 4274, 4275, 4276, 4277, 4278, 4279, 4280, 4281, 4282, 4283, 4284, 4285, 4286, 4287, 4288, 4289, 4290, 4291, 4292, 4293, 4294, 4295, 4296, 4297, 4298, 4299, 4300, 4301, 4302, 4303, 4304, 4305, 4306, 4307, 4308, 4309, 4310, 4311, 4312, 4313, 4314, 4315, 4316, 4317, 4318, 4319, 4320, 4321, 4322, 4323, 4324, 4325, 4326, 4327, 4328, 4329, 4330, 4331, 4332, 4333, 4334, 4335, 4336, 4337, 4338, 4339, 4341, 4342, 4343, 4344, 4349, 4350, 4351, 4352, 4353, 4354, 4355, 4356, 4357, 4358, 4359, 4360, 4361, 4362, 4363, 4364, 4365, 4366, 4367, 4368, 4369, 4370, 4371, 4372, 4373, 4374, 4375, 4376, 4377, 4378, 4379, 4380, 4381, 4382, 4383, 4384, 4385, 4386, 4387, 4388, 4389, 4390, 4391, 4392, 4393, 4394, 4395, 4396, 4397, 4398, 4399, 4400, 4401, 4402, 4403, 4404, 4405, 4406, 4407, 4408, 4409, 4410, 4411, 4412, 4413, 4414, 4415, 4416, 4417, 4418, 4419, 4421, 4422, 4423, 4424, 4425, 4426, 4432, 4433, 4434, 4435, 4436, 4437, 4438, 4439, 4440, 4441, 4442, 4443, 4444, 4445, 4446, 4447, 4448, 4449, 4450, 4451, 4452, 4453, 4454, 4455, 4456, 4457, 4458, 4459, 4460, 4461, 4462, 4463, 4464, 4465, 4466, 4467, 4468, 4469, 4470, 4471, 4472, 4473, 4474, 4475, 4476, 4477, 4478, 4479, 4480, 4481, 4482, 4483, 4484, 4485, 4486, 4487, 4488, 4489, 4490, 4491, 4492, 4493, 4494, 4495, 4496, 4497, 4498, 4499, 4501, 4502, 4503, 4504, 4505, 4506, 4507, 4514, 4515, 4516, 4517, 4518, 4519, 4520, 4521, 4522, 4523, 4524, 4525, 4526, 4527, 4528, 4529, 4530, 4531, 4532, 4533, 4534, 4535, 4536, 4537, 4538, 4539, 4540, 4541, 4542, 4543, 4544, 4545, 4546, 4547, 4548, 4549, 4550, 4551, 4552, 4553, 4554, 4555, 4556, 4557, 4558, 4559, 4560, 4561, 4562, 4563, 4564, 4565, 4566, 4567, 4568, 4569, 4570, 4571, 4572, 4573, 4574, 4575, 4576, 4577, 4578, 4579, 4581, 4582, 4583, 4584, 4585, 4586, 4587, 4588, 4589, 4596, 4597, 4598, 4599, 4600, 4601, 4602, 4603, 4604, 4605, 4606, 4607, 4608, 4609, 4610, 4611, 4612, 4613, 4614, 4615, 4616, 4617, 4618, 4619, 4620, 4621, 4622, 4623, 4624, 4625, 4626, 4627, 4628, 4629, 4630, 4631, 4632, 4633, 4634, 4635, 4636, 4637, 4638, 4639, 4640, 4641, 4642, 4643, 4644, 4645, 4646, 4647, 4648, 4649, 4650, 4651, 4652, 4653, 4654, 4655, 4656, 4657, 4658, 4659, 4661, 4662, 4663, 4664, 4665, 4666, 4667, 4668, 4669, 4670, 4671, 4679, 4680, 4681, 4682, 4683, 4684, 4685, 4686, 4687, 4688, 4689, 4690, 4691, 4692, 4693, 4694, 4695, 4696, 4697, 4698, 4699, 4700, 4701, 4702, 4703, 4704, 4705, 4706, 4707, 4708, 4709, 4710, 4711, 4712, 4713, 4714, 4715, 4716, 4717, 4718, 4719, 4720, 4721, 4722, 4723, 4724, 4725, 4726, 4727, 4728, 4729, 4730, 4731, 4732, 4733, 4734, 4735, 4736, 4737, 4738, 4739, 4741, 4742, 4743, 4744, 4745, 4746, 4747, 4748, 4749, 4750, 4751, 4752, 4761, 4762, 4763, 4764, 4765, 4766, 4767, 4768, 4769, 4770, 4771, 4772, 4773, 4774, 4775, 4776, 4777, 4778, 4779, 4780, 4781, 4782, 4783, 4784, 4785, 4786, 4787, 4788, 4789, 4790, 4791, 4792, 4793, 4794, 4795, 4796, 4797, 4798, 4799, 4800, 4801, 4802, 4803, 4804, 4805, 4806, 4807, 4808, 4809, 4810, 4811, 4812, 4813, 4814, 4815, 4816, 4817, 4818, 4819, 4821, 4822, 4823, 4824, 4825, 4826, 4827, 4828, 4829, 4830, 4831, 4832, 4833, 4834, 4844, 4845, 4846, 4847, 4848, 4849, 4850, 4851, 4852, 4853, 4854, 4855, 4856, 4857, 4858, 4859, 4860, 4861, 4862, 4863, 4864, 4865, 4866, 4867, 4868, 4869, 4870, 4871, 4872, 4873, 4874, 4875, 4876, 4877, 4878, 4879, 4880, 4881, 4882, 4883, 4884, 4885, 4886, 4887, 4888, 4889, 4890, 4891, 4892, 4893, 4894, 4895, 4896, 4897, 4898, 4899, 4901, 4902, 4903, 4904, 4905, 4906, 4907, 4908, 4909, 4910, 4911, 4912, 4913, 4914, 4915, 4916, 4926, 4927, 4928, 4929, 4930, 4931, 4932, 4933, 4934, 4935, 4936, 4937, 4938, 4939, 4940, 4941, 4942, 4943, 4944, 4945, 4946, 4947, 4948, 4949, 4950, 4951, 4952, 4953, 4954, 4955, 4956, 4957, 4958, 4959, 4960, 4961, 4962, 4963, 4964, 4965, 4966, 4967, 4968, 4969, 4970, 4971, 4972, 4973, 4974, 4975, 4976, 4977, 4978, 4979, 4981, 4982, 4983, 4984, 4985, 4986, 4987, 4988, 4989, 4990, 4991, 4992, 4993, 4994, 4995, 4996, 4997, 4998, 5008, 5009, 5010, 5011, 5012, 5013, 5014, 5015, 5016, 5017, 5018, 5019, 5020, 5021, 5022, 5023, 5024, 5025, 5026, 5027, 5028, 5029, 5030, 5031, 5032, 5033, 5034, 5035, 5036, 5037, 5038, 5039, 5040, 5041, 5042, 5043, 5044, 5045, 5046, 5047, 5048, 5049, 5050, 5051, 5052, 5053, 5054, 5055, 5056, 5057, 5058, 5059, 5061, 5062, 5063, 5064, 5065, 5066, 5067, 5068, 5069, 5070, 5071, 5072, 5073, 5074, 5075, 5076, 5077, 5078, 5079, 5091, 5092, 5093, 5094, 5095, 5096, 5097, 5098, 5099, 5100, 5101, 5102, 5103, 5104, 5105, 5106, 5107, 5108, 5109, 5110, 5111, 5112, 5113, 5114, 5115, 5116, 5117, 5118, 5119, 5120, 5121, 5122, 5123, 5124, 5125, 5126, 5127, 5128, 5129, 5130, 5131, 5132, 5133, 5134, 5135, 5136, 5137, 5138, 5139, 5141, 5142, 5143, 5144, 5145, 5146, 5147, 5148, 5149, 5150, 5151, 5152, 5153, 5154, 5155, 5156, 5157, 5158, 5159, 5160, 5161, 5173, 5174, 5175, 5176, 5177, 5178, 5179, 5180, 5181, 5182, 5183, 5184, 5185, 5186, 5187, 5188, 5189, 5190, 5191, 5192, 5193, 5194, 5195, 5196, 5197, 5198, 5199, 5200, 5201, 5202, 5203, 5204, 5205, 5206, 5207, 5208, 5209, 5210, 5211, 5212, 5213, 5214, 5215, 5216, 5217, 5218, 5219, 5221, 5222, 5223, 5224, 5225, 5226, 5227, 5228, 5229, 5230, 5231, 5232, 5233, 5234, 5235, 5236, 5237, 5238, 5239, 5240, 5241, 5242, 5243, 5256, 5257, 5258, 5259, 5260, 5261, 5262, 5263, 5264, 5265, 5266, 5267, 5268, 5269, 5270, 5271, 5272, 5273, 5274, 5275, 5276, 5277, 5278, 5279, 5280, 5281, 5282, 5283, 5284, 5285, 5286, 5287, 5288, 5289, 5290, 5291, 5292, 5293, 5294, 5295, 5296, 5297, 5298, 5299, 5301, 5302, 5303, 5304, 5305, 5306, 5307, 5308, 5309, 5310, 5311, 5312, 5313, 5314, 5315, 5316, 5317, 5318, 5319, 5320, 5321, 5322, 5323, 5324, 5325, 5338, 5339, 5340, 5341, 5342, 5343, 5344, 5345, 5346, 5347, 5348, 5349, 5350, 5351, 5352, 5353, 5354, 5355, 5356, 5357, 5358, 5359, 5360, 5361, 5362, 5363, 5364, 5365, 5366, 5367, 5368, 5369, 5370, 5371, 5372, 5373, 5374, 5375, 5376, 5377, 5378, 5379, 5381, 5382, 5383, 5384, 5385, 5386, 5387, 5388, 5389, 5390, 5391, 5392, 5393, 5394, 5395, 5396, 5397, 5398, 5399, 5400, 5401, 5402, 5403, 5404, 5405, 5406, 5421, 5422, 5423, 5424, 5425, 5426, 5427, 5428, 5429, 5430, 5431, 5432, 5433, 5434, 5435, 5436, 5437, 5438, 5439, 5440, 5441, 5442, 5443, 5444, 5445, 5446, 5447, 5448, 5449, 5450, 5451, 5452, 5453, 5454, 5455, 5456, 5457, 5458, 5459, 5461, 5462, 5463, 5464, 5465, 5466, 5467, 5468, 5469, 5470, 5471, 5472, 5473, 5474, 5475, 5476, 5477, 5478, 5479, 5480, 5481, 5482, 5483, 5484, 5485, 5486, 5487, 5488, 5503, 5504, 5505, 5506, 5507, 5508, 5509, 5510, 5511, 5512, 5513, 5514, 5515, 5516, 5517, 5518, 5519, 5520, 5521, 5522, 5523, 5524, 5525, 5526, 5527, 5528, 5529, 5530, 5531, 5532, 5533, 5534, 5535, 5536, 5537, 5538, 5539, 5541, 5542, 5543, 5544, 5545, 5546, 5547, 5548, 5549, 5550, 5551, 5552, 5553, 5554, 5555, 5556, 5557, 5558, 5559, 5560, 5561, 5562, 5563, 5564, 5565, 5566, 5567, 5568, 5569, 5570, 5585, 5586, 5587, 5588, 5589, 5590, 5591, 5592, 5593, 5594, 5595, 5596, 5597, 5598, 5599, 5600, 5601, 5602, 5603, 5604, 5605, 5606, 5607, 5608, 5609, 5610, 5611, 5612, 5613, 5614, 5615, 5616, 5617, 5618, 5619, 5621, 5622, 5623, 5624, 5625, 5626, 5627, 5628, 5629, 5630, 5631, 5632, 5633, 5634, 5635, 5636, 5637, 5638, 5639, 5640, 5641, 5642, 5643, 5644, 5645, 5646, 5647, 5648, 5649, 5650, 5651, 5652, 5668, 5669, 5670, 5671, 5672, 5673, 5674, 5675, 5676, 5677, 5678, 5679, 5680, 5681, 5682, 5683, 5684, 5685, 5686, 5687, 5688, 5689, 5690, 5691, 5692, 5693, 5694, 5695, 5696, 5697, 5698, 5699, 5701, 5702, 5703, 5704, 5705, 5706, 5707, 5708, 5709, 5710, 5711, 5712, 5713, 5714, 5715, 5716, 5717, 5718, 5719, 5720, 5721, 5722, 5723, 5724, 5725, 5726, 5727, 5728, 5729, 5730, 5731, 5732, 5733, 5750, 5751, 5752, 5753, 5754, 5755, 5756, 5757, 5758, 5759, 5760, 5761, 5762, 5763, 5764, 5765, 5766, 5767, 5768, 5769, 5770, 5771, 5772, 5773, 5774, 5775, 5776, 5777, 5778, 5779, 5781, 5782, 5783, 5784, 5785, 5786, 5787, 5788, 5789, 5790, 5791, 5792, 5793, 5794, 5795, 5796, 5797, 5798, 5799, 5800, 5801, 5802, 5803, 5804, 5805, 5806, 5807, 5808, 5809, 5810, 5811, 5812, 5813, 5814, 5815, 5832, 5833, 5834, 5835, 5836, 5837, 5838, 5839, 5840, 5841, 5842, 5843, 5844, 5845, 5846, 5847, 5848, 5849, 5850, 5851, 5852, 5853, 5854, 5855, 5856, 5857, 5858, 5859, 5861, 5862, 5863, 5864, 5865, 5866, 5867, 5868, 5869, 5870, 5871, 5872, 5873, 5874, 5875, 5876, 5877, 5878, 5879, 5880, 5881, 5882, 5883, 5884, 5885, 5886, 5887, 5888, 5889, 5890, 5891, 5892, 5893, 5894, 5895, 5896, 5897, 5913, 5914, 5915, 5916, 5917, 5918, 5919, 5920, 5921, 5922, 5923, 5924, 5925, 5926, 5927, 5928, 5929, 5930, 5931, 5932, 5933, 5934, 5935, 5936, 5937, 5938, 5939, 5941, 5942, 5943, 5944, 5945, 5946, 5947, 5948, 5949, 5950, 5951, 5952, 5953, 5954, 5955, 5956, 5957, 5958, 5959, 5960, 5961, 5962, 5963, 5964, 5965, 5966, 5967, 5968, 5969, 5970, 5971, 5972, 5973, 5974, 5975, 5976, 5977, 5978, 5994, 5995, 5996, 5997, 5998, 5999, 6000, 6001, 6002, 6003, 6004, 6005, 6006, 6007, 6008, 6009, 6010, 6011, 6012, 6013, 6014, 6015, 6016, 6017, 6018, 6019, 6021, 6022, 6023, 6024, 6025, 6026, 6027, 6028, 6029, 6030, 6031, 6032, 6033, 6034, 6035, 6036, 6037, 6038, 6039, 6040, 6041, 6042, 6043, 6044, 6045, 6046, 6047, 6048, 6049, 6050, 6051, 6052, 6053, 6054, 6055, 6056, 6057, 6058, 6059, 6060, 6075, 6076, 6077, 6078, 6079, 6080, 6081, 6082, 6083, 6084, 6085, 6086, 6087, 6088, 6089, 6090, 6091, 6092, 6093, 6094, 6095, 6096, 6097, 6098, 6099, 6101, 6102, 6103, 6104, 6105, 6106, 6107, 6108, 6109, 6110, 6111, 6112, 6113, 6114, 6115, 6116, 6117, 6118, 6119, 6120, 6121, 6122, 6123, 6124, 6125, 6126, 6127, 6128, 6129, 6130, 6131, 6132, 6133, 6134, 6135, 6136, 6137, 6138, 6139, 6140, 6141, 6142, 6156, 6157, 6158, 6159, 6160, 6161, 6162, 6163, 6164, 6165, 6166, 6167, 6168, 6169, 6170, 6171, 6172, 6173, 6174, 6175, 6176, 6177, 6178, 6179, 6181, 6182, 6183, 6184, 6185, 6186, 6187, 6188, 6189, 6190, 6191, 6192, 6193, 6194, 6195, 6196, 6197, 6198, 6199, 6200, 6201, 6202, 6203, 6204, 6205, 6206, 6207, 6208, 6209, 6210, 6211, 6212, 6213, 6214, 6215, 6216, 6217, 6218, 6219, 6220, 6221, 6222, 6223, 6224, 6237, 6238, 6239, 6240, 6241, 6242, 6243, 6244, 6245, 6246, 6247, 6248, 6249, 6250, 6251, 6252, 6253, 6254, 6255, 6256, 6257, 6258, 6259, 6261, 6262, 6263, 6264, 6265, 6266, 6267, 6268, 6269, 6270, 6271, 6272, 6273, 6274, 6275, 6276, 6277, 6278, 6279, 6280, 6281, 6282, 6283, 6284, 6285, 6286, 6287, 6288, 6289, 6290, 6291, 6292, 6293, 6294, 6295, 6296, 6297, 6298, 6299, 6300, 6301, 6302, 6303, 6304, 6305, 6318, 6319, 6320, 6321, 6322, 6323, 6324, 6325, 6326, 6327, 6328, 6329, 6330, 6331, 6332, 6333, 6334, 6335, 6336, 6337, 6338, 6339, 6341, 6342, 6343, 6344, 6345, 6346, 6347, 6348, 6349, 6350, 6351, 6352, 6353, 6354, 6355, 6356, 6357, 6358, 6359, 6360, 6361, 6362, 6363, 6364, 6365, 6366, 6367, 6368, 6369, 6370, 6371, 6372, 6373, 6374, 6375, 6376, 6377, 6378, 6379, 6380, 6381, 6382, 6383, 6384, 6385, 6386, 6387, 6399, 6400, 6401, 6402, 6403, 6404, 6405, 6406, 6407, 6408, 6409, 6410, 6411, 6412, 6413, 6414, 6415, 6416, 6417, 6418, 6419, 6421, 6422, 6423, 6424, 6425, 6426, 6427, 6428, 6429, 6430, 6431, 6432, 6433, 6434, 6435, 6436, 6437, 6438, 6439, 6440, 6441, 6442, 6443, 6444, 6445, 6446, 6447, 6448, 6449, 6450, 6451, 6452, 6453, 6454, 6455, 6456, 6457, 6458, 6459, 6460, 6461, 6462, 6463, 6464, 6465, 6466, 6467, 6468, 6469, 6480, 6481, 6482, 6483, 6484, 6485, 6486, 6487, 6488, 6489, 6490, 6491, 6492, 6493, 6494, 6495, 6496, 6497, 6498, 6499, 6501, 6502, 6503, 6504, 6505, 6506, 6507, 6508, 6509, 6510, 6511, 6512, 6513, 6514, 6515, 6516, 6517, 6518, 6519, 6520, 6521, 6522, 6523, 6524, 6525, 6526, 6527, 6528, 6529, 6530, 6531, 6532, 6533, 6534, 6535, 6536, 6537, 6538, 6539, 6540, 6541, 6542, 6543, 6544, 6545, 6546, 6547, 6548, 6549, 6550, 6551]\n",
      "val ids:  []\n",
      "test ids:  [0, 1, 2, 3, 4, 5, 6, 7, 8, 9, 10, 11, 12, 40, 81, 82, 83, 84, 85, 86, 87, 88, 89, 90, 91, 92, 93, 94, 120, 162, 163, 164, 165, 166, 167, 168, 169, 170, 171, 172, 173, 174, 175, 200, 243, 244, 245, 246, 247, 248, 249, 250, 251, 252, 253, 254, 255, 256, 257, 280, 324, 325, 326, 327, 328, 329, 330, 331, 332, 333, 334, 335, 336, 337, 338, 339, 360, 405, 406, 407, 408, 409, 410, 411, 412, 413, 414, 415, 416, 417, 418, 419, 420, 421, 440, 486, 487, 488, 489, 490, 491, 492, 493, 494, 495, 496, 497, 498, 499, 500, 501, 502, 520, 567, 568, 569, 570, 571, 572, 573, 574, 575, 576, 577, 578, 579, 580, 581, 582, 583, 584, 600, 648, 649, 650, 651, 652, 653, 654, 655, 656, 657, 658, 659, 660, 661, 662, 663, 664, 665, 666, 680, 729, 730, 731, 732, 733, 734, 735, 736, 737, 738, 739, 740, 741, 742, 743, 744, 745, 746, 747, 748, 760, 810, 811, 812, 813, 814, 815, 816, 817, 818, 819, 820, 821, 822, 823, 824, 825, 826, 827, 828, 829, 840, 891, 892, 893, 894, 895, 896, 897, 898, 899, 900, 901, 902, 903, 904, 905, 906, 907, 908, 909, 910, 911, 920, 972, 973, 974, 975, 976, 977, 978, 979, 980, 981, 982, 983, 984, 985, 986, 987, 988, 989, 990, 991, 992, 993, 1000, 1053, 1054, 1055, 1056, 1057, 1058, 1059, 1060, 1061, 1062, 1063, 1064, 1065, 1066, 1067, 1068, 1069, 1070, 1071, 1072, 1073, 1074, 1075, 1080, 1135, 1136, 1137, 1138, 1139, 1140, 1141, 1142, 1143, 1144, 1145, 1146, 1147, 1148, 1149, 1150, 1151, 1152, 1153, 1154, 1155, 1156, 1160, 1217, 1218, 1219, 1220, 1221, 1222, 1223, 1224, 1225, 1226, 1227, 1228, 1229, 1230, 1231, 1232, 1233, 1234, 1235, 1236, 1237, 1238, 1240, 1300, 1301, 1302, 1303, 1304, 1305, 1306, 1307, 1308, 1309, 1310, 1311, 1312, 1313, 1314, 1315, 1316, 1317, 1318, 1319, 1320, 1382, 1383, 1384, 1385, 1386, 1387, 1388, 1389, 1390, 1391, 1392, 1393, 1394, 1395, 1396, 1397, 1398, 1399, 1400, 1401, 1465, 1466, 1467, 1468, 1469, 1470, 1471, 1472, 1473, 1474, 1475, 1476, 1477, 1478, 1479, 1480, 1481, 1482, 1483, 1547, 1548, 1549, 1550, 1551, 1552, 1553, 1554, 1555, 1556, 1557, 1558, 1559, 1560, 1561, 1562, 1563, 1564, 1565, 1629, 1630, 1631, 1632, 1633, 1634, 1635, 1636, 1637, 1638, 1639, 1640, 1641, 1642, 1643, 1644, 1645, 1646, 1647, 1700, 1712, 1713, 1714, 1715, 1716, 1717, 1718, 1719, 1720, 1721, 1722, 1723, 1724, 1725, 1726, 1727, 1728, 1780, 1794, 1795, 1796, 1797, 1798, 1799, 1800, 1801, 1802, 1803, 1804, 1805, 1806, 1807, 1808, 1809, 1810, 1860, 1877, 1878, 1879, 1880, 1881, 1882, 1883, 1884, 1885, 1886, 1887, 1888, 1889, 1890, 1891, 1892, 1940, 1959, 1960, 1961, 1962, 1963, 1964, 1965, 1966, 1967, 1968, 1969, 1970, 1971, 1972, 1973, 1974, 2020, 2040, 2041, 2042, 2043, 2044, 2045, 2046, 2047, 2048, 2049, 2050, 2051, 2052, 2053, 2054, 2055, 2100, 2120, 2124, 2125, 2126, 2127, 2128, 2129, 2130, 2131, 2132, 2133, 2134, 2135, 2136, 2137, 2180, 2200, 2206, 2207, 2208, 2209, 2210, 2211, 2212, 2213, 2214, 2215, 2216, 2217, 2218, 2219, 2260, 2280, 2289, 2290, 2291, 2292, 2293, 2294, 2295, 2296, 2297, 2298, 2299, 2300, 2340, 2360, 2371, 2372, 2373, 2374, 2375, 2376, 2377, 2378, 2379, 2380, 2381, 2382, 2420, 2440, 2454, 2455, 2456, 2457, 2458, 2459, 2460, 2461, 2462, 2463, 2464, 2500, 2520, 2536, 2537, 2538, 2539, 2540, 2541, 2542, 2543, 2544, 2545, 2546, 2580, 2600, 2618, 2619, 2620, 2621, 2622, 2623, 2624, 2625, 2626, 2627, 2660, 2680, 2701, 2702, 2703, 2704, 2705, 2706, 2707, 2708, 2709, 2740, 2760, 2783, 2784, 2785, 2786, 2787, 2788, 2789, 2790, 2791, 2820, 2840, 2866, 2867, 2868, 2869, 2870, 2871, 2872, 2873, 2900, 2920, 2948, 2949, 2950, 2951, 2952, 2953, 2954, 2980, 3000, 3030, 3031, 3032, 3033, 3034, 3035, 3036, 3060, 3080, 3113, 3114, 3115, 3116, 3117, 3118, 3140, 3160, 3195, 3196, 3197, 3198, 3199, 3200, 3220, 3240, 3278, 3279, 3280, 3281, 3300, 3360, 3361, 3362, 3363, 3380, 3443, 3444, 3445, 3460, 3525, 3526, 3540, 3607, 3608, 3620, 3690, 3700, 3772, 3780, 3854, 3860, 3936, 3940, 4018, 4019, 4020, 4099, 4100, 4101, 4180, 4181, 4182, 4183, 4260, 4263, 4264, 4265, 4266, 4340, 4345, 4346, 4347, 4348, 4420, 4427, 4428, 4429, 4430, 4431, 4500, 4508, 4509, 4510, 4511, 4512, 4513, 4580, 4590, 4591, 4592, 4593, 4594, 4595, 4660, 4672, 4673, 4674, 4675, 4676, 4677, 4678, 4740, 4753, 4754, 4755, 4756, 4757, 4758, 4759, 4760, 4820, 4835, 4836, 4837, 4838, 4839, 4840, 4841, 4842, 4843, 4900, 4917, 4918, 4919, 4920, 4921, 4922, 4923, 4924, 4925, 4980, 4999, 5000, 5001, 5002, 5003, 5004, 5005, 5006, 5007, 5060, 5080, 5081, 5082, 5083, 5084, 5085, 5086, 5087, 5088, 5089, 5090, 5140, 5162, 5163, 5164, 5165, 5166, 5167, 5168, 5169, 5170, 5171, 5172, 5220, 5244, 5245, 5246, 5247, 5248, 5249, 5250, 5251, 5252, 5253, 5254, 5255, 5300, 5326, 5327, 5328, 5329, 5330, 5331, 5332, 5333, 5334, 5335, 5336, 5337, 5380, 5407, 5408, 5409, 5410, 5411, 5412, 5413, 5414, 5415, 5416, 5417, 5418, 5419, 5420, 5460, 5489, 5490, 5491, 5492, 5493, 5494, 5495, 5496, 5497, 5498, 5499, 5500, 5501, 5502, 5540, 5571, 5572, 5573, 5574, 5575, 5576, 5577, 5578, 5579, 5580, 5581, 5582, 5583, 5584, 5620, 5653, 5654, 5655, 5656, 5657, 5658, 5659, 5660, 5661, 5662, 5663, 5664, 5665, 5666, 5667, 5700, 5734, 5735, 5736, 5737, 5738, 5739, 5740, 5741, 5742, 5743, 5744, 5745, 5746, 5747, 5748, 5749, 5780, 5816, 5817, 5818, 5819, 5820, 5821, 5822, 5823, 5824, 5825, 5826, 5827, 5828, 5829, 5830, 5831, 5860, 5898, 5899, 5900, 5901, 5902, 5903, 5904, 5905, 5906, 5907, 5908, 5909, 5910, 5911, 5912, 5940, 5979, 5980, 5981, 5982, 5983, 5984, 5985, 5986, 5987, 5988, 5989, 5990, 5991, 5992, 5993, 6020, 6061, 6062, 6063, 6064, 6065, 6066, 6067, 6068, 6069, 6070, 6071, 6072, 6073, 6074, 6100, 6143, 6144, 6145, 6146, 6147, 6148, 6149, 6150, 6151, 6152, 6153, 6154, 6155, 6180, 6225, 6226, 6227, 6228, 6229, 6230, 6231, 6232, 6233, 6234, 6235, 6236, 6260, 6306, 6307, 6308, 6309, 6310, 6311, 6312, 6313, 6314, 6315, 6316, 6317, 6340, 6388, 6389, 6390, 6391, 6392, 6393, 6394, 6395, 6396, 6397, 6398, 6420, 6470, 6471, 6472, 6473, 6474, 6475, 6476, 6477, 6478, 6479, 6500, 6552, 6553, 6554, 6555, 6556, 6557, 6558, 6559, 6560]\n",
      "CPU times: user 155 ms, sys: 31.9 ms, total: 186 ms\n",
      "Wall time: 185 ms\n"
     ]
    }
   ],
   "source": [
    "%%time\n",
    "n_total = len(simulation.dataframe)\n",
    "n_train = len(simulation.dataframe[simulation.dataframe.type_of == \"train\"])\n",
    "n_val = len(simulation.dataframe[simulation.dataframe.type_of == \"val\"])\n",
    "n_test = len(simulation.dataframe[simulation.dataframe.type_of == \"test\"])\n",
    "n_train_hamiltonians = len(simulation.train_ids)\n",
    "n_val_hamiltonians = len(simulation.val_ids)\n",
    "n_test_hamiltonians = len(simulation.test_ids)\n",
    "n_total_hamiltonians = n_train_hamiltonians + n_val_hamiltonians + n_test_hamiltonians\n",
    "\n",
    "print(\"% train: \", n_train/n_total)\n",
    "print(\"% val: \",  n_val/n_total)\n",
    "print(\"% test: \", n_test/n_total)\n",
    "print(\"% train + val + test: \", (n_train+n_val+n_test)/n_total)\n",
    "print(\"\\n\")\n",
    "print(\"number of train hamiltonians: \", n_train_hamiltonians)\n",
    "print(\"number of val hamiltonians: \", n_val_hamiltonians)\n",
    "print(\"number of test hamiltonians: \", n_test_hamiltonians)\n",
    "print(\"total number of hamiltonians: \", n_total_hamiltonians)\n",
    "print(\"\\n\")\n",
    "print(\"train ids: \", simulation.train_ids)\n",
    "print(\"val ids: \", simulation.val_ids)\n",
    "print(\"test ids: \", simulation.test_ids)"
   ]
  },
  {
   "cell_type": "markdown",
   "metadata": {
    "papermill": {
     "duration": 0.018027,
     "end_time": "2020-07-09T23:45:38.530232",
     "exception": false,
     "start_time": "2020-07-09T23:45:38.512205",
     "status": "completed"
    },
    "tags": []
   },
   "source": [
    "## Running a simulation"
   ]
  },
  {
   "cell_type": "code",
   "execution_count": 23,
   "metadata": {
    "execution": {
     "iopub.execute_input": "2020-07-09T23:45:38.567492Z",
     "iopub.status.busy": "2020-07-09T23:45:38.567176Z",
     "iopub.status.idle": "2020-07-10T00:35:29.570533Z",
     "shell.execute_reply": "2020-07-10T00:35:29.570849Z"
    },
    "papermill": {
     "duration": 2991.022908,
     "end_time": "2020-07-10T00:35:29.570915",
     "exception": false,
     "start_time": "2020-07-09T23:45:38.548007",
     "status": "completed"
    },
    "tags": []
   },
   "outputs": [
    {
     "name": "stderr",
     "output_type": "stream",
     "text": [
      "\r",
      "running experiments:   0%|          | 0/100 [00:00<?, ?it/s]"
     ]
    },
    {
     "name": "stderr",
     "output_type": "stream",
     "text": [
      "\r",
      "running experiments:   1%|          | 1/100 [00:30<49:45, 30.16s/it]"
     ]
    },
    {
     "name": "stderr",
     "output_type": "stream",
     "text": [
      "\r",
      "running experiments:   2%|▏         | 2/100 [01:01<49:42, 30.44s/it]"
     ]
    },
    {
     "name": "stderr",
     "output_type": "stream",
     "text": [
      "\r",
      "running experiments:   3%|▎         | 3/100 [01:31<48:54, 30.25s/it]"
     ]
    },
    {
     "name": "stderr",
     "output_type": "stream",
     "text": [
      "\r",
      "running experiments:   4%|▍         | 4/100 [01:59<47:44, 29.84s/it]"
     ]
    },
    {
     "name": "stderr",
     "output_type": "stream",
     "text": [
      "\r",
      "running experiments:   5%|▌         | 5/100 [02:29<47:08, 29.78s/it]"
     ]
    },
    {
     "name": "stderr",
     "output_type": "stream",
     "text": [
      "\r",
      "running experiments:   6%|▌         | 6/100 [02:58<46:26, 29.64s/it]"
     ]
    },
    {
     "name": "stderr",
     "output_type": "stream",
     "text": [
      "\r",
      "running experiments:   7%|▋         | 7/100 [03:28<45:48, 29.55s/it]"
     ]
    },
    {
     "name": "stderr",
     "output_type": "stream",
     "text": [
      "\r",
      "running experiments:   8%|▊         | 8/100 [03:57<44:59, 29.34s/it]"
     ]
    },
    {
     "name": "stderr",
     "output_type": "stream",
     "text": [
      "\r",
      "running experiments:   9%|▉         | 9/100 [04:26<44:20, 29.23s/it]"
     ]
    },
    {
     "name": "stderr",
     "output_type": "stream",
     "text": [
      "\r",
      "running experiments:  10%|█         | 10/100 [04:56<44:28, 29.65s/it]"
     ]
    },
    {
     "name": "stderr",
     "output_type": "stream",
     "text": [
      "\r",
      "running experiments:  11%|█         | 11/100 [05:27<44:16, 29.85s/it]"
     ]
    },
    {
     "name": "stderr",
     "output_type": "stream",
     "text": [
      "\r",
      "running experiments:  12%|█▏        | 12/100 [05:57<44:10, 30.12s/it]"
     ]
    },
    {
     "name": "stderr",
     "output_type": "stream",
     "text": [
      "\r",
      "running experiments:  13%|█▎        | 13/100 [06:28<43:45, 30.18s/it]"
     ]
    },
    {
     "name": "stderr",
     "output_type": "stream",
     "text": [
      "\r",
      "running experiments:  14%|█▍        | 14/100 [06:57<42:58, 29.99s/it]"
     ]
    },
    {
     "name": "stderr",
     "output_type": "stream",
     "text": [
      "\r",
      "running experiments:  15%|█▌        | 15/100 [07:27<42:27, 29.97s/it]"
     ]
    },
    {
     "name": "stderr",
     "output_type": "stream",
     "text": [
      "\r",
      "running experiments:  16%|█▌        | 16/100 [07:58<42:34, 30.41s/it]"
     ]
    },
    {
     "name": "stderr",
     "output_type": "stream",
     "text": [
      "\r",
      "running experiments:  17%|█▋        | 17/100 [08:29<42:12, 30.52s/it]"
     ]
    },
    {
     "name": "stderr",
     "output_type": "stream",
     "text": [
      "\r",
      "running experiments:  18%|█▊        | 18/100 [08:59<41:21, 30.26s/it]"
     ]
    },
    {
     "name": "stderr",
     "output_type": "stream",
     "text": [
      "\r",
      "running experiments:  19%|█▉        | 19/100 [09:30<41:07, 30.46s/it]"
     ]
    },
    {
     "name": "stderr",
     "output_type": "stream",
     "text": [
      "\r",
      "running experiments:  20%|██        | 20/100 [10:00<40:23, 30.29s/it]"
     ]
    },
    {
     "name": "stderr",
     "output_type": "stream",
     "text": [
      "\r",
      "running experiments:  21%|██        | 21/100 [10:29<39:32, 30.03s/it]"
     ]
    },
    {
     "name": "stderr",
     "output_type": "stream",
     "text": [
      "\r",
      "running experiments:  22%|██▏       | 22/100 [10:59<39:05, 30.08s/it]"
     ]
    },
    {
     "name": "stderr",
     "output_type": "stream",
     "text": [
      "\r",
      "running experiments:  23%|██▎       | 23/100 [11:30<38:49, 30.26s/it]"
     ]
    },
    {
     "name": "stderr",
     "output_type": "stream",
     "text": [
      "\r",
      "running experiments:  24%|██▍       | 24/100 [12:01<38:30, 30.40s/it]"
     ]
    },
    {
     "name": "stderr",
     "output_type": "stream",
     "text": [
      "\r",
      "running experiments:  25%|██▌       | 25/100 [12:30<37:28, 29.98s/it]"
     ]
    },
    {
     "name": "stderr",
     "output_type": "stream",
     "text": [
      "\r",
      "running experiments:  26%|██▌       | 26/100 [12:59<36:52, 29.89s/it]"
     ]
    },
    {
     "name": "stderr",
     "output_type": "stream",
     "text": [
      "\r",
      "running experiments:  27%|██▋       | 27/100 [13:29<36:21, 29.88s/it]"
     ]
    },
    {
     "name": "stderr",
     "output_type": "stream",
     "text": [
      "\r",
      "running experiments:  28%|██▊       | 28/100 [13:59<35:44, 29.78s/it]"
     ]
    },
    {
     "name": "stderr",
     "output_type": "stream",
     "text": [
      "\r",
      "running experiments:  29%|██▉       | 29/100 [14:28<35:10, 29.73s/it]"
     ]
    },
    {
     "name": "stderr",
     "output_type": "stream",
     "text": [
      "\r",
      "running experiments:  30%|███       | 30/100 [14:59<34:59, 29.99s/it]"
     ]
    },
    {
     "name": "stderr",
     "output_type": "stream",
     "text": [
      "\r",
      "running experiments:  31%|███       | 31/100 [15:27<33:54, 29.48s/it]"
     ]
    },
    {
     "name": "stderr",
     "output_type": "stream",
     "text": [
      "\r",
      "running experiments:  32%|███▏      | 32/100 [15:57<33:32, 29.59s/it]"
     ]
    },
    {
     "name": "stderr",
     "output_type": "stream",
     "text": [
      "\r",
      "running experiments:  33%|███▎      | 33/100 [16:27<33:08, 29.68s/it]"
     ]
    },
    {
     "name": "stderr",
     "output_type": "stream",
     "text": [
      "\r",
      "running experiments:  34%|███▍      | 34/100 [16:57<32:45, 29.78s/it]"
     ]
    },
    {
     "name": "stderr",
     "output_type": "stream",
     "text": [
      "\r",
      "running experiments:  35%|███▌      | 35/100 [17:27<32:21, 29.87s/it]"
     ]
    },
    {
     "name": "stderr",
     "output_type": "stream",
     "text": [
      "\r",
      "running experiments:  36%|███▌      | 36/100 [17:57<31:57, 29.95s/it]"
     ]
    },
    {
     "name": "stderr",
     "output_type": "stream",
     "text": [
      "\r",
      "running experiments:  37%|███▋      | 37/100 [18:26<31:00, 29.53s/it]"
     ]
    },
    {
     "name": "stderr",
     "output_type": "stream",
     "text": [
      "\r",
      "running experiments:  38%|███▊      | 38/100 [18:56<30:44, 29.76s/it]"
     ]
    },
    {
     "name": "stderr",
     "output_type": "stream",
     "text": [
      "\r",
      "running experiments:  39%|███▉      | 39/100 [19:27<30:30, 30.00s/it]"
     ]
    },
    {
     "name": "stderr",
     "output_type": "stream",
     "text": [
      "\r",
      "running experiments:  40%|████      | 40/100 [19:56<29:53, 29.89s/it]"
     ]
    },
    {
     "name": "stderr",
     "output_type": "stream",
     "text": [
      "\r",
      "running experiments:  41%|████      | 41/100 [20:27<29:30, 30.00s/it]"
     ]
    },
    {
     "name": "stderr",
     "output_type": "stream",
     "text": [
      "\r",
      "running experiments:  42%|████▏     | 42/100 [20:58<29:23, 30.40s/it]"
     ]
    },
    {
     "name": "stderr",
     "output_type": "stream",
     "text": [
      "\r",
      "running experiments:  43%|████▎     | 43/100 [21:28<28:45, 30.27s/it]"
     ]
    },
    {
     "name": "stderr",
     "output_type": "stream",
     "text": [
      "\r",
      "running experiments:  44%|████▍     | 44/100 [21:58<28:18, 30.33s/it]"
     ]
    },
    {
     "name": "stderr",
     "output_type": "stream",
     "text": [
      "\r",
      "running experiments:  45%|████▌     | 45/100 [22:27<27:14, 29.72s/it]"
     ]
    },
    {
     "name": "stderr",
     "output_type": "stream",
     "text": [
      "\r",
      "running experiments:  46%|████▌     | 46/100 [22:56<26:37, 29.58s/it]"
     ]
    },
    {
     "name": "stderr",
     "output_type": "stream",
     "text": [
      "\r",
      "running experiments:  47%|████▋     | 47/100 [23:27<26:34, 30.09s/it]"
     ]
    },
    {
     "name": "stderr",
     "output_type": "stream",
     "text": [
      "\r",
      "running experiments:  48%|████▊     | 48/100 [23:56<25:37, 29.58s/it]"
     ]
    },
    {
     "name": "stderr",
     "output_type": "stream",
     "text": [
      "\r",
      "running experiments:  49%|████▉     | 49/100 [24:26<25:19, 29.80s/it]"
     ]
    },
    {
     "name": "stderr",
     "output_type": "stream",
     "text": [
      "\r",
      "running experiments:  50%|█████     | 50/100 [24:56<24:46, 29.74s/it]"
     ]
    },
    {
     "name": "stderr",
     "output_type": "stream",
     "text": [
      "\r",
      "running experiments:  51%|█████     | 51/100 [25:25<24:18, 29.77s/it]"
     ]
    },
    {
     "name": "stderr",
     "output_type": "stream",
     "text": [
      "\r",
      "running experiments:  52%|█████▏    | 52/100 [25:56<23:56, 29.92s/it]"
     ]
    },
    {
     "name": "stderr",
     "output_type": "stream",
     "text": [
      "\r",
      "running experiments:  53%|█████▎    | 53/100 [26:26<23:33, 30.07s/it]"
     ]
    },
    {
     "name": "stderr",
     "output_type": "stream",
     "text": [
      "\r",
      "running experiments:  54%|█████▍    | 54/100 [26:57<23:10, 30.23s/it]"
     ]
    },
    {
     "name": "stderr",
     "output_type": "stream",
     "text": [
      "\r",
      "running experiments:  55%|█████▌    | 55/100 [27:27<22:47, 30.39s/it]"
     ]
    },
    {
     "name": "stderr",
     "output_type": "stream",
     "text": [
      "\r",
      "running experiments:  56%|█████▌    | 56/100 [27:57<22:02, 30.07s/it]"
     ]
    },
    {
     "name": "stderr",
     "output_type": "stream",
     "text": [
      "\r",
      "running experiments:  57%|█████▋    | 57/100 [28:27<21:41, 30.27s/it]"
     ]
    },
    {
     "name": "stderr",
     "output_type": "stream",
     "text": [
      "\r",
      "running experiments:  58%|█████▊    | 58/100 [28:57<20:59, 29.99s/it]"
     ]
    },
    {
     "name": "stderr",
     "output_type": "stream",
     "text": [
      "\r",
      "running experiments:  59%|█████▉    | 59/100 [29:26<20:18, 29.72s/it]"
     ]
    },
    {
     "name": "stderr",
     "output_type": "stream",
     "text": [
      "\r",
      "running experiments:  60%|██████    | 60/100 [29:56<19:51, 29.80s/it]"
     ]
    },
    {
     "name": "stderr",
     "output_type": "stream",
     "text": [
      "\r",
      "running experiments:  61%|██████    | 61/100 [30:25<19:15, 29.62s/it]"
     ]
    },
    {
     "name": "stderr",
     "output_type": "stream",
     "text": [
      "\r",
      "running experiments:  62%|██████▏   | 62/100 [30:55<18:48, 29.70s/it]"
     ]
    },
    {
     "name": "stderr",
     "output_type": "stream",
     "text": [
      "\r",
      "running experiments:  63%|██████▎   | 63/100 [31:25<18:17, 29.66s/it]"
     ]
    },
    {
     "name": "stderr",
     "output_type": "stream",
     "text": [
      "\r",
      "running experiments:  64%|██████▍   | 64/100 [31:55<18:00, 30.01s/it]"
     ]
    },
    {
     "name": "stderr",
     "output_type": "stream",
     "text": [
      "\r",
      "running experiments:  65%|██████▌   | 65/100 [32:26<17:36, 30.18s/it]"
     ]
    },
    {
     "name": "stderr",
     "output_type": "stream",
     "text": [
      "\r",
      "running experiments:  66%|██████▌   | 66/100 [32:55<16:58, 29.94s/it]"
     ]
    },
    {
     "name": "stderr",
     "output_type": "stream",
     "text": [
      "\r",
      "running experiments:  67%|██████▋   | 67/100 [33:25<16:24, 29.84s/it]"
     ]
    },
    {
     "name": "stderr",
     "output_type": "stream",
     "text": [
      "\r",
      "running experiments:  68%|██████▊   | 68/100 [33:54<15:46, 29.58s/it]"
     ]
    },
    {
     "name": "stderr",
     "output_type": "stream",
     "text": [
      "\r",
      "running experiments:  69%|██████▉   | 69/100 [34:24<15:19, 29.65s/it]"
     ]
    },
    {
     "name": "stderr",
     "output_type": "stream",
     "text": [
      "\r",
      "running experiments:  70%|███████   | 70/100 [34:53<14:46, 29.55s/it]"
     ]
    },
    {
     "name": "stderr",
     "output_type": "stream",
     "text": [
      "\r",
      "running experiments:  71%|███████   | 71/100 [35:23<14:19, 29.65s/it]"
     ]
    },
    {
     "name": "stderr",
     "output_type": "stream",
     "text": [
      "\r",
      "running experiments:  72%|███████▏  | 72/100 [35:52<13:46, 29.52s/it]"
     ]
    },
    {
     "name": "stderr",
     "output_type": "stream",
     "text": [
      "\r",
      "running experiments:  73%|███████▎  | 73/100 [36:21<13:13, 29.39s/it]"
     ]
    },
    {
     "name": "stderr",
     "output_type": "stream",
     "text": [
      "\r",
      "running experiments:  74%|███████▍  | 74/100 [36:52<12:52, 29.72s/it]"
     ]
    },
    {
     "name": "stderr",
     "output_type": "stream",
     "text": [
      "\r",
      "running experiments:  75%|███████▌  | 75/100 [37:22<12:27, 29.89s/it]"
     ]
    },
    {
     "name": "stderr",
     "output_type": "stream",
     "text": [
      "\r",
      "running experiments:  76%|███████▌  | 76/100 [37:52<12:01, 30.08s/it]"
     ]
    },
    {
     "name": "stderr",
     "output_type": "stream",
     "text": [
      "\r",
      "running experiments:  77%|███████▋  | 77/100 [38:22<11:26, 29.84s/it]"
     ]
    },
    {
     "name": "stderr",
     "output_type": "stream",
     "text": [
      "\r",
      "running experiments:  78%|███████▊  | 78/100 [38:53<11:03, 30.15s/it]"
     ]
    },
    {
     "name": "stderr",
     "output_type": "stream",
     "text": [
      "\r",
      "running experiments:  79%|███████▉  | 79/100 [39:23<10:32, 30.14s/it]"
     ]
    },
    {
     "name": "stderr",
     "output_type": "stream",
     "text": [
      "\r",
      "running experiments:  80%|████████  | 80/100 [39:53<10:05, 30.28s/it]"
     ]
    },
    {
     "name": "stderr",
     "output_type": "stream",
     "text": [
      "\r",
      "running experiments:  81%|████████  | 81/100 [40:22<09:23, 29.65s/it]"
     ]
    },
    {
     "name": "stderr",
     "output_type": "stream",
     "text": [
      "\r",
      "running experiments:  82%|████████▏ | 82/100 [40:51<08:53, 29.65s/it]"
     ]
    },
    {
     "name": "stderr",
     "output_type": "stream",
     "text": [
      "\r",
      "running experiments:  83%|████████▎ | 83/100 [41:21<08:25, 29.76s/it]"
     ]
    },
    {
     "name": "stderr",
     "output_type": "stream",
     "text": [
      "\r",
      "running experiments:  84%|████████▍ | 84/100 [41:50<07:53, 29.61s/it]"
     ]
    },
    {
     "name": "stderr",
     "output_type": "stream",
     "text": [
      "\r",
      "running experiments:  85%|████████▌ | 85/100 [42:20<07:25, 29.67s/it]"
     ]
    },
    {
     "name": "stderr",
     "output_type": "stream",
     "text": [
      "\r",
      "running experiments:  86%|████████▌ | 86/100 [42:50<06:55, 29.70s/it]"
     ]
    },
    {
     "name": "stderr",
     "output_type": "stream",
     "text": [
      "\r",
      "running experiments:  87%|████████▋ | 87/100 [43:20<06:26, 29.74s/it]"
     ]
    },
    {
     "name": "stderr",
     "output_type": "stream",
     "text": [
      "\r",
      "running experiments:  88%|████████▊ | 88/100 [43:51<06:01, 30.16s/it]"
     ]
    },
    {
     "name": "stderr",
     "output_type": "stream",
     "text": [
      "\r",
      "running experiments:  89%|████████▉ | 89/100 [44:22<05:34, 30.40s/it]"
     ]
    },
    {
     "name": "stderr",
     "output_type": "stream",
     "text": [
      "\r",
      "running experiments:  90%|█████████ | 90/100 [44:53<05:04, 30.44s/it]"
     ]
    },
    {
     "name": "stderr",
     "output_type": "stream",
     "text": [
      "\r",
      "running experiments:  91%|█████████ | 91/100 [45:22<04:30, 30.04s/it]"
     ]
    },
    {
     "name": "stderr",
     "output_type": "stream",
     "text": [
      "\r",
      "running experiments:  92%|█████████▏| 92/100 [45:52<04:01, 30.19s/it]"
     ]
    },
    {
     "name": "stderr",
     "output_type": "stream",
     "text": [
      "\r",
      "running experiments:  93%|█████████▎| 93/100 [46:22<03:31, 30.15s/it]"
     ]
    },
    {
     "name": "stderr",
     "output_type": "stream",
     "text": [
      "\r",
      "running experiments:  94%|█████████▍| 94/100 [46:53<03:01, 30.19s/it]"
     ]
    },
    {
     "name": "stderr",
     "output_type": "stream",
     "text": [
      "\r",
      "running experiments:  95%|█████████▌| 95/100 [47:22<02:30, 30.01s/it]"
     ]
    },
    {
     "name": "stderr",
     "output_type": "stream",
     "text": [
      "\r",
      "running experiments:  96%|█████████▌| 96/100 [47:51<01:59, 29.79s/it]"
     ]
    },
    {
     "name": "stderr",
     "output_type": "stream",
     "text": [
      "\r",
      "running experiments:  97%|█████████▋| 97/100 [48:21<01:29, 29.81s/it]"
     ]
    },
    {
     "name": "stderr",
     "output_type": "stream",
     "text": [
      "\r",
      "running experiments:  98%|█████████▊| 98/100 [48:49<00:58, 29.32s/it]"
     ]
    },
    {
     "name": "stderr",
     "output_type": "stream",
     "text": [
      "\r",
      "running experiments:  99%|█████████▉| 99/100 [49:20<00:29, 29.74s/it]"
     ]
    },
    {
     "name": "stderr",
     "output_type": "stream",
     "text": [
      "\r",
      "running experiments: 100%|██████████| 100/100 [49:50<00:00, 29.91s/it]"
     ]
    },
    {
     "name": "stderr",
     "output_type": "stream",
     "text": [
      "\r",
      "running experiments: 100%|██████████| 100/100 [49:50<00:00, 29.91s/it]"
     ]
    },
    {
     "name": "stdout",
     "output_type": "stream",
     "text": [
      "CPU times: user 5h 33min 11s, sys: 14.2 s, total: 5h 33min 25s\n",
      "Wall time: 49min 50s\n"
     ]
    },
    {
     "name": "stderr",
     "output_type": "stream",
     "text": [
      "\n"
     ]
    }
   ],
   "source": [
    "%%time\n",
    "simulation.run_simulation(n_experiments, start_n, fit_params,shuffle_rows, pred_params, random_features, \\\n",
    "                          store_in_lists, save_eigenvector, save_hamiltonian, save_accuracy,\\\n",
    "                          save_models)\n",
    "if simulation.fourier_mode is not None:\n",
    "    simulation.fourier_dataframe.head(10)"
   ]
  },
  {
   "cell_type": "code",
   "execution_count": 24,
   "metadata": {
    "execution": {
     "iopub.execute_input": "2020-07-10T00:35:29.643494Z",
     "iopub.status.busy": "2020-07-10T00:35:29.643186Z",
     "iopub.status.idle": "2020-07-10T00:35:29.667741Z",
     "shell.execute_reply": "2020-07-10T00:35:29.667421Z"
    },
    "papermill": {
     "duration": 0.062361,
     "end_time": "2020-07-10T00:35:29.667793",
     "exception": false,
     "start_time": "2020-07-10T00:35:29.605432",
     "status": "completed"
    },
    "tags": []
   },
   "outputs": [
    {
     "data": {
      "text/html": [
       "<div>\n",
       "<style scoped>\n",
       "    .dataframe tbody tr th:only-of-type {\n",
       "        vertical-align: middle;\n",
       "    }\n",
       "\n",
       "    .dataframe tbody tr th {\n",
       "        vertical-align: top;\n",
       "    }\n",
       "\n",
       "    .dataframe thead th {\n",
       "        text-align: right;\n",
       "    }\n",
       "</style>\n",
       "<table border=\"1\" class=\"dataframe\">\n",
       "  <thead>\n",
       "    <tr style=\"text-align: right;\">\n",
       "      <th></th>\n",
       "      <th>id</th>\n",
       "      <th>path</th>\n",
       "      <th>t1</th>\n",
       "      <th>t2</th>\n",
       "      <th>winding</th>\n",
       "      <th>phase</th>\n",
       "      <th>pred_phase</th>\n",
       "      <th>type_of</th>\n",
       "      <th>feat0</th>\n",
       "      <th>feat1</th>\n",
       "      <th>...</th>\n",
       "      <th>feat90</th>\n",
       "      <th>feat91</th>\n",
       "      <th>feat92</th>\n",
       "      <th>feat93</th>\n",
       "      <th>feat94</th>\n",
       "      <th>feat95</th>\n",
       "      <th>feat96</th>\n",
       "      <th>feat97</th>\n",
       "      <th>feat98</th>\n",
       "      <th>feat99</th>\n",
       "    </tr>\n",
       "  </thead>\n",
       "  <tbody>\n",
       "    <tr>\n",
       "      <th>0</th>\n",
       "      <td>0</td>\n",
       "      <td>H_-2_-2_0.501338.dat</td>\n",
       "      <td>-2.0</td>\n",
       "      <td>-2.0</td>\n",
       "      <td>0.501338</td>\n",
       "      <td>999</td>\n",
       "      <td>666</td>\n",
       "      <td>test</td>\n",
       "      <td>-0.130965</td>\n",
       "      <td>0.301130</td>\n",
       "      <td>...</td>\n",
       "      <td>-0.080279</td>\n",
       "      <td>-0.115687</td>\n",
       "      <td>-0.174988</td>\n",
       "      <td>0.245064</td>\n",
       "      <td>0.319763</td>\n",
       "      <td>-0.059082</td>\n",
       "      <td>-0.000556</td>\n",
       "      <td>-0.245133</td>\n",
       "      <td>-0.301130</td>\n",
       "      <td>0.130965</td>\n",
       "    </tr>\n",
       "    <tr>\n",
       "      <th>1</th>\n",
       "      <td>0</td>\n",
       "      <td>H_-2_-2_0.501338.dat</td>\n",
       "      <td>-2.0</td>\n",
       "      <td>-2.0</td>\n",
       "      <td>0.501338</td>\n",
       "      <td>999</td>\n",
       "      <td>666</td>\n",
       "      <td>test</td>\n",
       "      <td>-0.130965</td>\n",
       "      <td>-0.301130</td>\n",
       "      <td>...</td>\n",
       "      <td>-0.080279</td>\n",
       "      <td>0.115687</td>\n",
       "      <td>-0.174988</td>\n",
       "      <td>-0.245064</td>\n",
       "      <td>0.319763</td>\n",
       "      <td>0.059082</td>\n",
       "      <td>-0.000556</td>\n",
       "      <td>0.245133</td>\n",
       "      <td>-0.301130</td>\n",
       "      <td>-0.130965</td>\n",
       "    </tr>\n",
       "    <tr>\n",
       "      <th>2</th>\n",
       "      <td>0</td>\n",
       "      <td>H_-2_-2_0.501338.dat</td>\n",
       "      <td>-2.0</td>\n",
       "      <td>-2.0</td>\n",
       "      <td>0.501338</td>\n",
       "      <td>999</td>\n",
       "      <td>666</td>\n",
       "      <td>test</td>\n",
       "      <td>-0.148414</td>\n",
       "      <td>-0.042467</td>\n",
       "      <td>...</td>\n",
       "      <td>0.185442</td>\n",
       "      <td>-0.080620</td>\n",
       "      <td>-0.066211</td>\n",
       "      <td>-0.121339</td>\n",
       "      <td>-0.151700</td>\n",
       "      <td>0.192513</td>\n",
       "      <td>0.191642</td>\n",
       "      <td>-0.050956</td>\n",
       "      <td>-0.042467</td>\n",
       "      <td>-0.148414</td>\n",
       "    </tr>\n",
       "    <tr>\n",
       "      <th>3</th>\n",
       "      <td>0</td>\n",
       "      <td>H_-2_-2_0.501338.dat</td>\n",
       "      <td>-2.0</td>\n",
       "      <td>-2.0</td>\n",
       "      <td>0.501338</td>\n",
       "      <td>999</td>\n",
       "      <td>666</td>\n",
       "      <td>test</td>\n",
       "      <td>-0.069630</td>\n",
       "      <td>-0.026147</td>\n",
       "      <td>...</td>\n",
       "      <td>0.102009</td>\n",
       "      <td>-0.100671</td>\n",
       "      <td>-0.081002</td>\n",
       "      <td>-0.020715</td>\n",
       "      <td>-0.058717</td>\n",
       "      <td>0.115834</td>\n",
       "      <td>0.118274</td>\n",
       "      <td>-0.054666</td>\n",
       "      <td>-0.026147</td>\n",
       "      <td>-0.069630</td>\n",
       "    </tr>\n",
       "    <tr>\n",
       "      <th>4</th>\n",
       "      <td>0</td>\n",
       "      <td>H_-2_-2_0.501338.dat</td>\n",
       "      <td>-2.0</td>\n",
       "      <td>-2.0</td>\n",
       "      <td>0.501338</td>\n",
       "      <td>999</td>\n",
       "      <td>666</td>\n",
       "      <td>test</td>\n",
       "      <td>0.010206</td>\n",
       "      <td>-0.014625</td>\n",
       "      <td>...</td>\n",
       "      <td>0.047555</td>\n",
       "      <td>-0.041368</td>\n",
       "      <td>-0.018852</td>\n",
       "      <td>-0.017673</td>\n",
       "      <td>-0.023377</td>\n",
       "      <td>0.031447</td>\n",
       "      <td>0.010280</td>\n",
       "      <td>0.000925</td>\n",
       "      <td>0.014625</td>\n",
       "      <td>-0.010206</td>\n",
       "    </tr>\n",
       "    <tr>\n",
       "      <th>5</th>\n",
       "      <td>0</td>\n",
       "      <td>H_-2_-2_0.501338.dat</td>\n",
       "      <td>-2.0</td>\n",
       "      <td>-2.0</td>\n",
       "      <td>0.501338</td>\n",
       "      <td>999</td>\n",
       "      <td>666</td>\n",
       "      <td>test</td>\n",
       "      <td>0.116962</td>\n",
       "      <td>0.021475</td>\n",
       "      <td>...</td>\n",
       "      <td>-0.086901</td>\n",
       "      <td>-0.045676</td>\n",
       "      <td>-0.028034</td>\n",
       "      <td>0.129266</td>\n",
       "      <td>0.130083</td>\n",
       "      <td>-0.098190</td>\n",
       "      <td>-0.104188</td>\n",
       "      <td>-0.007911</td>\n",
       "      <td>0.021475</td>\n",
       "      <td>0.116962</td>\n",
       "    </tr>\n",
       "    <tr>\n",
       "      <th>6</th>\n",
       "      <td>0</td>\n",
       "      <td>H_-2_-2_0.501338.dat</td>\n",
       "      <td>-2.0</td>\n",
       "      <td>-2.0</td>\n",
       "      <td>0.501338</td>\n",
       "      <td>999</td>\n",
       "      <td>666</td>\n",
       "      <td>test</td>\n",
       "      <td>0.037175</td>\n",
       "      <td>-0.095882</td>\n",
       "      <td>...</td>\n",
       "      <td>-0.027490</td>\n",
       "      <td>0.046168</td>\n",
       "      <td>0.063419</td>\n",
       "      <td>-0.041630</td>\n",
       "      <td>-0.085769</td>\n",
       "      <td>-0.010604</td>\n",
       "      <td>-0.009822</td>\n",
       "      <td>0.084024</td>\n",
       "      <td>0.095882</td>\n",
       "      <td>-0.037175</td>\n",
       "    </tr>\n",
       "    <tr>\n",
       "      <th>7</th>\n",
       "      <td>0</td>\n",
       "      <td>H_-2_-2_0.501338.dat</td>\n",
       "      <td>-2.0</td>\n",
       "      <td>-2.0</td>\n",
       "      <td>0.501338</td>\n",
       "      <td>999</td>\n",
       "      <td>666</td>\n",
       "      <td>test</td>\n",
       "      <td>0.027709</td>\n",
       "      <td>-0.038180</td>\n",
       "      <td>...</td>\n",
       "      <td>0.123344</td>\n",
       "      <td>-0.114320</td>\n",
       "      <td>-0.057118</td>\n",
       "      <td>-0.040291</td>\n",
       "      <td>-0.061263</td>\n",
       "      <td>0.087153</td>\n",
       "      <td>0.029599</td>\n",
       "      <td>-0.001276</td>\n",
       "      <td>0.038180</td>\n",
       "      <td>-0.027709</td>\n",
       "    </tr>\n",
       "    <tr>\n",
       "      <th>8</th>\n",
       "      <td>0</td>\n",
       "      <td>H_-2_-2_0.501338.dat</td>\n",
       "      <td>-2.0</td>\n",
       "      <td>-2.0</td>\n",
       "      <td>0.501338</td>\n",
       "      <td>999</td>\n",
       "      <td>666</td>\n",
       "      <td>test</td>\n",
       "      <td>0.059795</td>\n",
       "      <td>0.030272</td>\n",
       "      <td>...</td>\n",
       "      <td>-0.082347</td>\n",
       "      <td>0.140996</td>\n",
       "      <td>0.128386</td>\n",
       "      <td>-0.036608</td>\n",
       "      <td>0.029628</td>\n",
       "      <td>-0.124877</td>\n",
       "      <td>-0.140478</td>\n",
       "      <td>0.088573</td>\n",
       "      <td>0.030272</td>\n",
       "      <td>0.059795</td>\n",
       "    </tr>\n",
       "    <tr>\n",
       "      <th>9</th>\n",
       "      <td>0</td>\n",
       "      <td>H_-2_-2_0.501338.dat</td>\n",
       "      <td>-2.0</td>\n",
       "      <td>-2.0</td>\n",
       "      <td>0.501338</td>\n",
       "      <td>999</td>\n",
       "      <td>666</td>\n",
       "      <td>test</td>\n",
       "      <td>0.141605</td>\n",
       "      <td>0.013497</td>\n",
       "      <td>...</td>\n",
       "      <td>-0.035718</td>\n",
       "      <td>-0.110014</td>\n",
       "      <td>-0.082452</td>\n",
       "      <td>0.146084</td>\n",
       "      <td>0.152588</td>\n",
       "      <td>-0.067575</td>\n",
       "      <td>-0.087187</td>\n",
       "      <td>-0.043484</td>\n",
       "      <td>0.013497</td>\n",
       "      <td>0.141605</td>\n",
       "    </tr>\n",
       "  </tbody>\n",
       "</table>\n",
       "<p>10 rows × 108 columns</p>\n",
       "</div>"
      ],
      "text/plain": [
       "   id                  path   t1   t2   winding  phase  pred_phase type_of  \\\n",
       "0   0  H_-2_-2_0.501338.dat -2.0 -2.0  0.501338    999         666    test   \n",
       "1   0  H_-2_-2_0.501338.dat -2.0 -2.0  0.501338    999         666    test   \n",
       "2   0  H_-2_-2_0.501338.dat -2.0 -2.0  0.501338    999         666    test   \n",
       "3   0  H_-2_-2_0.501338.dat -2.0 -2.0  0.501338    999         666    test   \n",
       "4   0  H_-2_-2_0.501338.dat -2.0 -2.0  0.501338    999         666    test   \n",
       "5   0  H_-2_-2_0.501338.dat -2.0 -2.0  0.501338    999         666    test   \n",
       "6   0  H_-2_-2_0.501338.dat -2.0 -2.0  0.501338    999         666    test   \n",
       "7   0  H_-2_-2_0.501338.dat -2.0 -2.0  0.501338    999         666    test   \n",
       "8   0  H_-2_-2_0.501338.dat -2.0 -2.0  0.501338    999         666    test   \n",
       "9   0  H_-2_-2_0.501338.dat -2.0 -2.0  0.501338    999         666    test   \n",
       "\n",
       "      feat0     feat1  ...    feat90    feat91    feat92    feat93    feat94  \\\n",
       "0 -0.130965  0.301130  ... -0.080279 -0.115687 -0.174988  0.245064  0.319763   \n",
       "1 -0.130965 -0.301130  ... -0.080279  0.115687 -0.174988 -0.245064  0.319763   \n",
       "2 -0.148414 -0.042467  ...  0.185442 -0.080620 -0.066211 -0.121339 -0.151700   \n",
       "3 -0.069630 -0.026147  ...  0.102009 -0.100671 -0.081002 -0.020715 -0.058717   \n",
       "4  0.010206 -0.014625  ...  0.047555 -0.041368 -0.018852 -0.017673 -0.023377   \n",
       "5  0.116962  0.021475  ... -0.086901 -0.045676 -0.028034  0.129266  0.130083   \n",
       "6  0.037175 -0.095882  ... -0.027490  0.046168  0.063419 -0.041630 -0.085769   \n",
       "7  0.027709 -0.038180  ...  0.123344 -0.114320 -0.057118 -0.040291 -0.061263   \n",
       "8  0.059795  0.030272  ... -0.082347  0.140996  0.128386 -0.036608  0.029628   \n",
       "9  0.141605  0.013497  ... -0.035718 -0.110014 -0.082452  0.146084  0.152588   \n",
       "\n",
       "     feat95    feat96    feat97    feat98    feat99  \n",
       "0 -0.059082 -0.000556 -0.245133 -0.301130  0.130965  \n",
       "1  0.059082 -0.000556  0.245133 -0.301130 -0.130965  \n",
       "2  0.192513  0.191642 -0.050956 -0.042467 -0.148414  \n",
       "3  0.115834  0.118274 -0.054666 -0.026147 -0.069630  \n",
       "4  0.031447  0.010280  0.000925  0.014625 -0.010206  \n",
       "5 -0.098190 -0.104188 -0.007911  0.021475  0.116962  \n",
       "6 -0.010604 -0.009822  0.084024  0.095882 -0.037175  \n",
       "7  0.087153  0.029599 -0.001276  0.038180 -0.027709  \n",
       "8 -0.124877 -0.140478  0.088573  0.030272  0.059795  \n",
       "9 -0.067575 -0.087187 -0.043484  0.013497  0.141605  \n",
       "\n",
       "[10 rows x 108 columns]"
      ]
     },
     "execution_count": 24,
     "metadata": {},
     "output_type": "execute_result"
    }
   ],
   "source": [
    "simulation.dataframe.head(10)"
   ]
  },
  {
   "cell_type": "markdown",
   "metadata": {
    "papermill": {
     "duration": 0.034173,
     "end_time": "2020-07-10T00:35:29.736004",
     "exception": false,
     "start_time": "2020-07-10T00:35:29.701831",
     "status": "completed"
    },
    "tags": []
   },
   "source": [
    "#### Viewing a random sample"
   ]
  },
  {
   "cell_type": "code",
   "execution_count": 25,
   "metadata": {
    "execution": {
     "iopub.execute_input": "2020-07-10T00:35:29.808511Z",
     "iopub.status.busy": "2020-07-10T00:35:29.808156Z",
     "iopub.status.idle": "2020-07-10T00:35:29.843939Z",
     "shell.execute_reply": "2020-07-10T00:35:29.843620Z"
    },
    "papermill": {
     "duration": 0.073092,
     "end_time": "2020-07-10T00:35:29.843991",
     "exception": false,
     "start_time": "2020-07-10T00:35:29.770899",
     "status": "completed"
    },
    "tags": []
   },
   "outputs": [
    {
     "name": "stdout",
     "output_type": "stream",
     "text": [
      "CPU times: user 25.4 ms, sys: 0 ns, total: 25.4 ms\n",
      "Wall time: 25.2 ms\n"
     ]
    }
   ],
   "source": [
    "%%time\n",
    "if simulation.fourier_mode is not None:\n",
    "    simulation.fourier_dataframe.sample(frac=0.1, replace=False)"
   ]
  },
  {
   "cell_type": "markdown",
   "metadata": {
    "papermill": {
     "duration": 0.036541,
     "end_time": "2020-07-10T00:35:29.915725",
     "exception": false,
     "start_time": "2020-07-10T00:35:29.879184",
     "status": "completed"
    },
    "tags": []
   },
   "source": [
    "#### Checking train/val/test splits again"
   ]
  },
  {
   "cell_type": "code",
   "execution_count": 26,
   "metadata": {
    "execution": {
     "iopub.execute_input": "2020-07-10T00:35:29.986340Z",
     "iopub.status.busy": "2020-07-10T00:35:29.986019Z",
     "iopub.status.idle": "2020-07-10T00:35:30.178599Z",
     "shell.execute_reply": "2020-07-10T00:35:30.178855Z"
    },
    "papermill": {
     "duration": 0.229024,
     "end_time": "2020-07-10T00:35:30.178921",
     "exception": false,
     "start_time": "2020-07-10T00:35:29.949897",
     "status": "completed"
    },
    "tags": []
   },
   "outputs": [
    {
     "name": "stdout",
     "output_type": "stream",
     "text": [
      "% train:  0.4208199969516842\n",
      "% val:  0.42066758116140834\n",
      "% test:  0.15851242188690748\n",
      "% train + val + test:  1.0\n",
      "\n",
      "\n",
      "number of train hamiltonians:  2761\n",
      "number of val hamiltonians:  2760\n",
      "number of test hamiltonians:  1040\n",
      "total number of hamiltonians:  6561\n",
      "\n",
      "\n",
      "train ids:  [4066, 6359, 711, 3840, 5924, 2256, 5386, 3745, 2019, 5193, 6243, 4498, 2239, 6085, 3547, 3058, 1762, 1127, 2995, 2510, 4144, 1350, 708, 5619, 4895, 1371, 4234, 4791, 3930, 6409, 3003, 2525, 1043, 122, 1346, 5778, 3237, 5286, 5594, 5178, 6195, 3498, 6258, 6110, 4368, 1862, 5767, 4884, 1767, 3740, 2642, 5848, 2026, 558, 6284, 5228, 512, 3344, 3432, 5188, 5769, 4825, 3071, 1955, 6138, 5773, 34, 3134, 6464, 4639, 5305, 3675, 2355, 5878, 2350, 3275, 239, 1270, 5043, 780, 3210, 3851, 4822, 2115, 752, 221, 5794, 4232, 4384, 1927, 2028, 4787, 4299, 5630, 3129, 1541, 5095, 4526, 3509, 4972, 3302, 1158, 768, 4694, 2955, 2062, 3353, 478, 2845, 5850, 886, 33, 2509, 1656, 1935, 3533, 3308, 645, 1452, 4262, 5684, 679, 5871, 2253, 1910, 2466, 3988, 2484, 6194, 688, 69, 1204, 2385, 2016, 2565, 219, 3053, 285, 5470, 5516, 1855, 1488, 3587, 1283, 5279, 2384, 6176, 4778, 2224, 1544, 5324, 5779, 6095, 2975, 803, 1343, 6037, 6219, 5886, 2281, 1027, 4978, 3665, 2606, 3413, 4442, 4061, 5215, 2314, 1536, 3419, 3084, 5528, 5936, 5440, 3687, 5530, 4666, 6186, 5040, 4483, 3350, 3812, 785, 4940, 2353, 3339, 4063, 508, 3014, 1420, 2245, 1264, 15, 1333, 644, 3852, 5441, 2085, 123, 4458, 684, 362, 3698, 764, 5034, 3661, 5506, 4277, 2893, 4554, 438, 4419, 67, 4119, 6520, 4730, 4622, 3668, 4618, 4543, 2118, 5960, 5589, 5682, 77, 4281, 4276, 4948, 2535, 3617, 1983, 2423, 3714, 6457, 5596, 4493, 1413, 5308, 6426, 4289, 6200, 2750, 308, 2359, 1768, 2518, 1576, 2723, 1649, 802, 2551, 5544, 188, 5339, 2639, 2010, 3853, 1293, 5481, 4688, 1759, 6097, 1034, 6321, 6076, 511, 3251, 480, 132, 2093, 6348, 3891, 1925, 2060, 124, 4354, 1982, 1324, 2309, 3719, 3667, 4982, 344, 3701, 5050, 5010, 6329, 3488, 5852, 1166, 3781, 2322, 771, 3294, 1984, 857, 5269, 4351, 4282, 2149, 6354, 5844, 2409, 4589, 2574, 4692, 4619, 5021, 3857, 5790, 4298, 3186, 1761, 4371, 2363, 3181, 859, 6185, 4220, 6447, 2319, 2161, 4241, 6530, 2527, 1134, 3255, 544, 1770, 1501, 2176, 4410, 5933, 4203, 4460, 5023, 4991, 2696, 4387, 3272, 4519, 4380, 5273, 4564, 2195, 5204, 3396, 3387, 6031, 6362, 4629, 5781, 105, 2715, 3448, 2743, 5624, 4196, 5234, 528, 4845, 3022, 4623, 310, 788, 5230, 2663, 5362, 3149, 1407, 798, 2416, 4329, 4335, 5051, 4317, 4522, 4604, 3204, 5650, 765, 4257, 2595, 6287, 4915, 5562, 3382, 4040, 6408, 5012, 2917, 1044, 368, 5560, 1578, 5322, 3922, 1133, 3112, 3744, 4905, 148, 3167, 432, 854, 6425, 1946, 5519, 5108, 4030, 1206, 1118, 6160, 4337, 3108, 4386, 1773, 2155, 1817, 6245, 384, 4139, 2235, 3051, 4350, 1178, 587, 5237, 2923, 3348, 3354, 6132, 3680, 4248, 4495, 3762, 5679, 273, 2436, 1003, 2601, 3040, 6184, 3154, 1533, 2002, 2303, 2613, 4285, 4251, 3142, 6410, 1614, 6303, 6089, 3654, 1838, 2107, 2915, 5358, 5476, 395, 5793, 5257, 2689, 4958, 2511, 6237, 4424, 2973, 3829, 5889, 4551, 4218, 4250, 3164, 1522, 4686, 3769, 3746, 4931, 3476, 6413, 2247, 1430, 5849, 5718, 1524, 5968, 1495, 695, 4367, 195, 6384, 475, 3839, 1704, 4042, 4073, 6323, 6455, 4732, 2571, 3736, 207, 966, 5209, 845, 3179, 3125, 2246, 3456, 234, 5625, 16, 702, 2802, 6526, 6130, 1591, 4378, 6344, 5963, 158, 4338, 1664, 5461, 3861, 2259, 1518, 5614, 6166, 4647, 4318, 5390, 613, 1047, 4898, 6402, 756, 3224, 5513, 3676, 4567, 4683, 5121, 2333, 5488, 72, 4502, 6056, 3421, 3074, 1653, 2383, 6444, 2763, 3642, 5645, 5201, 5128, 284, 4996, 4492, 203, 4799, 1977, 3184, 2771, 926, 62, 3004, 2647, 4004, 1850, 3371, 623, 3864, 5192, 6453, 3650, 3293, 4341, 5880, 6292, 3649, 3390, 5649, 3221, 2688, 3916, 867, 6490, 6141, 5698, 3568, 5854, 4089, 6040, 6249, 3637, 138, 1754, 1453, 6452, 1490, 3106, 2971, 4286, 322, 3048, 6499, 6513, 5119, 3405, 5134, 4405, 2470, 2672, 1372, 3623, 2924, 1766, 4954, 2087, 2609, 3306, 4943, 5024, 2650, 4353, 4024, 2386, 4297, 2929, 4438, 5833, 3862, 3757, 5723, 4153, 1172, 434, 3558, 1499, 3455, 4210, 3804, 3364, 3574, 4772, 4190, 66, 3388, 220, 3311, 5238, 2430, 2323, 6414, 3710, 3213, 5222, 2471, 6129, 5567, 3457, 4322, 2181, 2477, 5797, 1706, 1828, 1124, 614, 5512, 3262, 5271, 3341, 2674, 4735, 3920, 3012, 2908, 3928, 3067, 5447, 3683, 3317, 1620, 945, 2877, 3315, 6112, 5724, 563, 4092, 856, 1567, 6261, 5975, 4608, 6328, 3597, 4795, 2109, 2231, 2813, 1098, 3955, 1242, 3625, 107, 5092, 2895, 391, 4998, 1339, 2942, 5133, 3290, 4750, 3454, 4786, 956, 2249, 2747, 1681, 3464, 1032, 5065, 3085, 2617, 1829, 2713, 5997, 5265, 4563, 1498, 6342, 2067, 4784, 670, 3009, 2841, 4638, 6445, 2795, 1996, 4636, 6427, 561, 2021, 4969, 2332, 3704, 3105, 5670, 6529, 3229, 1131, 5186, 4377, 5158, 444, 871, 1811, 2997, 3722, 1876, 2603, 6334, 3406, 3342, 3508, 3537, 5606, 4010, 3402, 640, 3193, 293, 5436, 4810, 1162, 2577, 621, 5521, 3893, 841, 6497, 5892, 4366, 5840, 4065, 5535, 1981, 3007, 5712, 2629, 3945, 3848, 5182, 2864, 2083, 5459, 5525, 691, 1575, 689, 1209, 2255, 3136, 5157, 4952, 4226, 6034, 1989, 4094, 1294, 5225, 3731, 4779, 3589, 3252, 1438, 4385, 4014, 5235, 5264, 2428, 3894, 5048, 4612, 2081, 2664, 5841, 916, 1357, 5276, 3273, 3594, 5018, 2090, 6405, 5671, 933, 925, 5354, 4293, 1790, 5633, 4259, 1671, 2941, 4172, 1029, 6250, 5595, 3472, 1101, 382, 1929, 2414, 1274, 1765, 1267, 296, 458, 3347, 1914, 5888, 2958, 1448, 4316, 5629, 4072, 1612, 1514, 3493, 3018, 779, 3980, 2003, 4283, 1825, 1626, 4396, 5928, 6502, 5569, 76, 242, 4562, 6093, 3863, 6300, 5383, 2351, 4981, 4394, 6421, 753, 2285, 2490, 2861, 3001, 5262, 2202, 349, 4879, 2286, 5872, 642, 4041, 96, 1285, 6216, 4624, 2145, 5726, 1741, 378, 4245, 2516, 2275, 1571, 4727, 2756, 106, 4310, 2263, 1624, 3404, 2258, 5537, 5966, 2814, 687, 6485, 5696, 5292, 3666, 4130, 226, 1912, 847, 1117, 258, 3487, 5435, 160, 675, 1359, 6125, 451, 3564, 510, 259, 397, 1775, 5280, 1210, 754, 6519, 2896, 2809, 922, 381, 5176, 1791, 6174, 6027, 2468, 2073, 5465, 4449, 2946, 503, 4621, 1258, 4605, 1361, 3006, 3539, 4812, 4768, 4893, 5287, 6387, 1260, 1280, 585, 6322, 4485, 2979, 5934, 3143, 358, 1016, 6523, 5949, 4114, 3340, 4616, 4141, 6537, 1249, 1018, 2842, 2699, 4051, 5343, 4207, 2038, 3282, 1582, 4506, 5757, 3705, 1197, 3083, 4538, 5641, 6098, 3099, 3579, 144, 639, 212, 3453, 6244, 6187, 1743, 1447, 3998, 4979, 3987, 2844, 4465, 5137, 459, 4068, 2925, 4195, 4861, 5224, 1097, 2636, 1788, 4788, 4295, 6044, 3291, 5751, 6332, 2144, 155, 3824, 2029, 4985, 3194, 4643, 5311, 3049, 1503, 3238, 1735, 5768, 3605, 5118, 620, 3760, 4798, 1192, 2197, 1525, 1950, 1843, 3692, 6318, 2568, 2143, 2142, 610, 3634, 5694, 1424, 2992, 5315, 1087, 1778, 4575, 3337, 1931, 4501, 1100, 4603, 4955, 3636, 944, 2734, 1675, 507, 5923, 208, 3610, 5385, 1837, 2733, 4503, 4423, 5035, 1011, 5676, 117, 2147, 3730, 1902, 1332, 2860, 3960, 5945, 3919, 3934, 1403, 2185, 5702, 3841, 5639, 3563, 6121, 725, 619, 48, 6123, 4204, 527, 5307, 1781, 3309, 4932, 6026, 4588, 4631, 1353, 2882, 3082, 4488, 189, 4680, 4044, 1427, 3933, 1583, 919, 4656, 4868, 6282, 4813, 882, 4976, 2077, 5730, 3054, 379, 119, 2829, 1021, 6380, 4878, 4602, 2438, 2266, 970, 28, 6203, 4687, 6365, 1090, 2799, 5403, 3693, 5136, 3880, 4725, 3807, 302, 6124, 4134, 633, 3527, 3915, 3588, 698, 2758, 3209, 593, 1272, 5729, 3556, 1110, 3027, 5669, 41, 1569, 1416, 112, 3992, 2033, 4882, 78, 5191, 4585, 4305, 6042, 187, 3593, 2321, 4475, 5454, 1404, 3103, 3776, 5719, 2578, 2167, 4811, 4883, 3174, 5102, 2187, 3121, 4744, 833, 292, 4479, 6115, 750, 5485, 6106, 1872, 1535, 5400, 3468, 5638, 3391, 804, 3385, 3008, 4054, 3263, 3450, 939, 5312, 1405, 808, 4202, 5814, 2465, 2892, 1904, 2367, 1052, 3057, 5377, 1730, 5428, 4083, 1975, 4311, 5480, 1091, 556, 5304, 781, 2104, 5711, 3357, 5206, 846, 4625, 4609, 2279, 948, 3648, 940, 1534, 3555, 6283, 2532, 5346, 1033, 6170, 468, 5919, 390, 2810, 266, 2346, 888, 4539, 2728, 5093, 6140, 1462, 6281, 807, 3798, 2357, 716, 5352, 914, 2817, 6104, 2342, 1243, 3286, 6047, 3756, 1906, 71, 701, 2429, 954, 4489, 3492, 6378, 1586, 4663, 1893, 4411, 5180, 1493, 6221, 5196, 5486, 36, 5527, 3874, 4578, 1979, 4642, 3702, 671, 2027, 1755, 2163, 5652, 4721, 1922, 6335, 5971, 2793, 3462, 4989, 369, 2985, 373, 5771, 4029, 830, 1789, 1093, 2655, 1200, 4634, 3265, 5918, 5688, 1038, 56, 913, 3392, 6546, 2984, 5538, 19, 6366, 3216, 3123, 5295, 5125, 672, 5770, 268, 3188, 4869, 1464, 399, 263, 1513, 4739, 130, 3895, 6296, 844, 6417, 1568, 4000, 5686, 1530, 3375, 1933, 549, 6412, 6508, 43, 5019, 3711, 5965, 1915, 3514, 3679, 6081, 5053, 4773, 5275, 1997, 5550, 596, 1050, 6545, 6033, 4167, 4170, 4128, 564, 2478, 4270, 477, 2972, 6521, 3813, 2594, 291, 228, 4075, 4349, 2755, 231, 4550, 1628, 4598, 2575, 4790, 213, 3652, 1851, 5604, 1248, 1455, 5921, 5879, 5758, 6206, 2798, 5885, 5443, 4892, 348, 5259, 4370, 2368, 2944, 4742, 4113, 2883, 6273, 5680, 4097, 2037, 3513, 4722, 1604, 1355, 6263, 3433, 6518, 5786, 6240, 31, 4859, 3055, 3102, 2726, 3292, 2563, 5149, 1944, 6032, 5401, 141, 2947, 4765, 3646, 5804, 3093, 2966, 2962, 1683, 2487, 2697, 2921, 5802, 2564, 3351, 6280, 1020, 852, 3100, 1812, 2530, 769, 2228, 5457, 6295, 5387, 1161, 2638, 2098, 4557, 2503, 2370, 422, 17, 4150, 4131, 5756, 5704, 870, 1509, 1748, 4048, 6188, 1747, 1254, 889, 565, 2236, 1113, 109, 5155, 2687, 2476, 3206, 372, 5534, 237, 6017, 3383, 3384, 5612, 4156, 958, 2501, 4832, 4587, 5293, 3420, 2271, 121, 1792, 3901, 4561, 5195, 866, 4953, 1930, 3226, 3333, 4867, 4733, 3541, 1323, 5617, 1203, 1905, 2057, 5203, 6259, 2473, 1207, 6459, 2514, 1610, 3139, 4296, 1729, 5175, 3867, 4328, 4823, 3312, 4135, 6208, 3474, 1539, 5179, 1995, 2338, 6275, 3954, 4239, 363, 3765, 5592, 5117, 4808, 928, 2996, 6404, 1820, 3331, 3599, 4826, 3785, 2201, 4046, 4060, 2398, 2780, 2335, 4162, 3643, 4247, 1660, 2287, 1592, 1449, 2397, 1177, 4067, 2934, 2141, 3349, 685, 1587, 6372, 1585, 515, 1701, 3081, 1078, 4406, 305, 5683, 4171, 538, 4070, 1745, 4523, 2221, 3858, 25, 5099, 3330, 4137, 361, 5810, 1445, 2796, 509, 4780, 5642, 3590, 5431, 4806, 6343, 5141, 4819, 2766, 1710, 4654, 2075, 883, 3633, 4057, 1354, 667, 4439, 3759, 22, 1603, 1953, 3232, 35, 2069, 887, 6083, 2066, 842, 6514, 4278, 2324, 668, 4907, 638, 5243, 5929, 1288, 2933, 6004, 1703, 4011, 609, 529, 5278, 2533, 4178, 872, 1085, 4148, 1836, 1875, 2694, 967, 340, 4881, 4216, 3670, 932, 3077, 2572, 2858, 4161, 1663, 474, 1847, 4888, 1874, 3907, 1502, 2058, 836, 6137, 637, 351, 3751, 2349, 4662, 4352, 5151, 3738, 5107, 4464, 790, 995, 3729, 3016, 4574, 1937, 2567, 6350, 6253, 4926, 4886, 6167, 3956, 4818, 4331, 1275, 1425, 6257, 783, 3828, 3507, 3811, 4038, 3997, 6091, 5394, 5687, 4166, 3452, 5529, 3870, 2657, 4253, 5122, 1833, 2345, 626, 5750, 5752, 1497, 6325, 2024, 2497, 4782, 2445, 3694, 3990, 5240, 6010, 3664, 1511, 3506, 4325, 6379, 4763, 232, 5316, 4471, 2884, 4792, 1115, 885, 1444, 4077, 3231, 2800, 4151, 6415, 3754, 4037, 1198, 2302, 5812, 115, 5405, 3425, 4684, 2692, 2722, 3791, 998, 5389, 103, 6486, 5611, 1017, 591, 636, 4986, 2012, 61, 2348, 5039, 2976, 271, 674, 2427, 1175, 1697, 4544, 4950, 3917, 2695, 1679, 4107, 6060, 3170, 1662, 2157, 6006, 306, 5036, 44, 3968, 4033, 5477, 6049, 205, 2061, 2559, 6128, 1515, 4747, 6158, 3647, 4796, 3816, 4577, 3428, 74, 6169, 6039, 3528, 3749, 3985, 4309, 4235, 2806, 1999, 3110, 3475, 1924, 2086, 2172, 2234, 1521, 2306, 2986, 4149, 5732, 5063, 2797, 3962, 1347, 455, 5515, 5765, 5621, 1048, 2472, 1173, 3577, 4082, 294, 1900, 2628, 5651, 398, 5846, 2014, 5556, 4824, 4201, 6191, 3061, 2874, 5845, 5893, 773, 4689, 2969, 4737, 3583, 45, 2583, 2079, 2270, 1978, 4961, 4233, 5367, 6202, 5838, 3830, 606, 5104, 3111, 6114, 4401, 918, 5995, 6517, 1441, 5857, 1266, 4992, 4963, 270, 3132, 5914, 229, 2671, 1813, 3845, 3580, 3483, 5360, 2408, 3833, 1002, 2938, 4705, 4789, 1894, 632, 969, 3518, 1760, 3726, 1406, 839, 2940, 5714, 4362, 927, 3157, 3002, 1504, 218, 6375, 3717, 5351, 5785, 3630, 551, 6023, 3989, 315, 690, 3171, 2065, 3628, 6025, 1648, 1191, 5270, 3582, 4736, 5096, 471, 5198, 2193, 1426, 5950, 5211, 1132, 2602, 376, 3779, 2499, 3926, 5353, 3657, 2276, 930, 323, 2223, 29, 1049, 1022, 4646, 1262, 4584, 5123, 2641, 2171, 2156, 794, 4375, 3355, 5847, 4558, 1958, 6046, 2961, 2030, 5531, 3214, 108, 832, 4743, 3742, 2288, 5487, 3584, 2684, 4897, 4586, 1081, 3050, 3429, 5374, 2505, 4330, 156, 6197, 4706, 6503, 3615, 630, 5554, 5011, 3092, 3397, 5110, 1250, 2552, 3682, 5369, 3938, 4535, 2778, 1460, 1956, 2894, 6339, 1844, 6274, 6266, 6515, 3892, 214, 2937, 4085, 1362, 4222, 718, 5542, 851, 1329, 5148, 2761, 934, 3967, 724, 1409, 5062, 2496, 2488, 6468, 2576, 79, 485, 3900, 5111, 2177, 4997, 869, 2449, 522, 2764, 1247, 3078, 865, 1208, 3079, 5026, 32, 472, 2581, 6214, 1338, 4626, 6496, 4902, 1867, 1901, 4916, 2769, 5347, 3324, 2521, 1669, 4012, 6043, 6333, 1897, 6002, 4026, 1297, 5763, 3352, 751, 964, 3417, 6021, 2192, 5808, 313, 179, 1356, 3343, 4707, 6498, 1039, 5202, 4071, 5776, 2311, 1785, 2023, 5673, 6463, 4164, 4446, 1545, 3543, 5863, 5479, 350, 3218, 1856, 5507, 4704, 4957, 4145, 4889, 1666, 3902, 5842, 1257, 962, 4157, 5069, 3522, 5709, 5072, 1676, 21, 3172, 5958, 1193, 3552, 3767, 5318, 6374, 4336, 2485, 289, 2792, 707, 550, 3208, 2991, 1273, 4731, 3202, 5282, 401, 3515, 5014, 4973, 5926, 4308, 1947, 1213, 4252, 5340, 3266, 5112, 1433, 5451, 4445, 1006, 6030, 3268, 2123, 1183, 5078, 4962, 3037, 5378, 4261, 5371, 1774, 953, 1871, 6018, 2964, 2146, 6016, 3379, 5399, 863, 312, 4762, 4005, 3706, 38, 2990, 3887, 3689, 2685, 5154, 3072, 5710, 3285, 4909, 4738, 704, 2981, 2522, 2116, 627, 2735, 5952, 4096, 1868, 806, 317, 3449, 5478, 2352, 2776, 6131, 5774, 3942, 4949, 2316, 4221, 1251, 466, 4984, 4751, 4127, 479, 5027, 6370, 838, 1566, 6024, 2399, 2904, 4124, 3374, 64, 184, 3087, 4968, 3469, 204, 6531, 1658, 5539, 5568, 4752, 4805, 2400, 524, 1340, 5098, 4649, 6369, 5218, 5147, 1459, 2251, 4507, 3932, 5722, 5114, 2365, 2267, 50, 2926, 531, 1954, 2897, 2561, 3969, 2579, 2593, 5450, 2179, 2777, 4697, 3305, 6084, 298, 6539, 30, 5263, 4433, 4655, 4191, 3434, 590, 4873, 3047, 3028, 1271, 588, 2448, 3958, 3904, 47, 6255, 3606, 2753, 2035, 526, 3146, 5446, 275, 140, 3025, 5807, 5598, 2339, 5458, 4462, 4693, 3888, 5469, 2910, 5392, 3699, 1816, 4163, 1015, 5557, 5948, 6087, 4470, 4169, 5533, 2194, 2529, 1921, 5484, 2305, 6411, 3489, 4713, 4455, 2782, 2730, 868, 6053, 2261, 4486, 3409, 5508, 3470, 3044, 5689, 3600, 1414, 2548, 1932, 6286, 304, 346, 4457, 2013, 5699, 3906, 436, 2774, 6386, 950, 628, 1613, 4720, 1363, 6271, 1543, 5618, 4399, 1594, 3250, 4761, 4102, 1443, 1928, 2158, 2091, 6183, 5037, 3656, 4801, 5184, 4887, 6248, 1190, 193, 3546, 3612, 722, 6364, 1690, 5342, 3411, 809, 5372, 2493, 1376, 2838, 3688, 3500, 3899, 4928, 4632, 5289, 4007, 4987, 6241, 4815, 6168, 4369, 3070, 6289, 5357, 435, 5563, 4849, 2248, 2084, 2752, 3135, 6051, 5425, 4209, 1431, 959, 6013, 3133, 153, 5690, 4988, 552, 3440, 4935, 6028, 4359, 5231, 6504, 4205, 1004, 6038, 4729, 3855, 4284, 1596, 6159, 4794, 5681, 1440, 4766, 5672, 3505, 5635, 396, 4579, 514, 1261, 1358, 4723, 1908, 3277, 5869, 150, 5467, 197, 5761, 1457, 6467, 5518, 3613, 1861, 4142, 5261, 2512, 5029, 555, 4872, 1331, 2744, 5788, 3156, 196, 1291, 1045, 3477, 5931, 4255, 4681, 4938, 4833, 2902, 923, 1116, 287, 4105, 5402, 5866, 2393, 5801, 2570, 6522, 1454, 5079, 5272, 5294, 1408, 4793, 3235, 4776, 467, 3127, 1089, 1913, 2550, 356, 3943, 1580, 2741, 3005, 1422, 101, 3356, 1334, 3021, 222, 6134, 536, 6001, 3313, 6007, 5338, 2669, 2402, 4211, 403, 5350, 3947, 1170, 3724, 5861, 2483, 3674, 3473, 2584, 1818, 5424, 6484, 5296, 1945, 2417, 5144, 6368, 3064, 3211, 2284, 5549, 2105, 1181, 2859, 1461, 4540, 2424, 2643, 3212, 431, 1492, 1988, 178, 3089, 4977, 4847, 2885, 3389, 224, 3796, 2658, 3681, 3986, 3284, 965, 4908, 1031, 3641, 3609, 4651, 37, 6080, 5398, 4230, 4911, 4912, 1903, 6109, 2262, 1364, 5978, 425, 3458, 354, 5054, 3011, 3877, 3890, 159, 3517, 4192, 615, 5284, 3847, 5341, 2651, 5565, 6434, 4098, 843, 625, 3227, 3572, 2558, 791, 3713, 2899, 114, 6527, 3662, 2773, 1463, 3182, 2608, 2821, 4712, 6360, 5159, 2569, 4875, 198, 1919, 4307, 6533, 2724, 5105, 3598, 3496, 2557, 4301, 1335, 4288, 5627, 4372, 912, 1259, 1763, 3684, 2729, 5547, 5309, 5646, 884, 3497, 3619, 2337, 4807, 1432, 1095, 1325, 2074, 4165, 2698, 4850, 1412, 994, 3826, 3334, 4576, 2719, 1094, 4013, 5837, 936, 100, 6511, 1696, 2227, 3614, 3800, 3571, 3691, 3365, 4154, 2818, 3276, 1949, 3023, 5364, 2361]\n",
      "val ids:  [5559, 2720, 23, 1415, 5232, 535, 4556, 534, 1344, 6487, 2268, 1845, 209, 530, 4456, 1269, 4901, 4797, 1757, 2447, 3842, 2987, 462, 1411, 705, 5267, 2504, 279, 4476, 6096, 1005, 1934, 183, 4039, 6341, 2754, 4816, 2140, 5432, 3973, 4173, 3249, 4313, 4426, 6139, 5044, 3741, 3166, 129, 4714, 957, 6419, 5591, 6542, 1109, 1114, 2847, 6035, 4802, 4123, 2808, 5423, 3979, 560, 483, 3441, 682, 6337, 5045, 4669, 5456, 801, 4319, 5561, 3549, 3335, 4306, 3629, 1299, 4186, 3545, 4236, 6492, 2102, 5452, 4698, 5616, 4628, 3935, 2443, 1830, 3153, 3013, 6101, 5648, 5514, 4710, 1252, 2612, 6108, 3065, 2515, 4606, 4199, 6433, 2388, 4480, 3017, 2531, 3076, 5813, 6298, 2405, 3068, 5803, 3602, 4914, 4408, 2922, 1668, 5930, 5862, 2183, 1026, 5145, 5603, 5074, 126, 2690, 5064, 3886, 5558, 5199, 1122, 6163, 6363, 2678, 6239, 2528, 3097, 3553, 643, 4324, 3578, 5291, 1244, 3499, 437, 1437, 2122, 2994, 128, 5782, 1167, 6077, 4184, 1943, 4219, 1625, 5609, 539, 4175, 3734, 4095, 4993, 1284, 6423, 6276, 4294, 6022, 1608, 5600, 2906, 6119, 4724, 673, 5397, 4125, 542, 3878, 1277, 2494, 2254, 4809, 2151, 566, 1028, 6330, 2099, 2928, 4518, 3961, 4374, 5135, 4323, 6352, 3398, 442, 6465, 4600, 145, 4229, 1756, 634, 5853, 6212, 2334, 2762, 1106, 2875, 4407, 2389, 1834, 4422, 2082, 4279, 728, 2015, 2822, 3965, 4023, 5631, 3728, 6418, 4865, 1574, 5120, 5299, 5219, 4941, 235, 5471, 4852, 776, 4074, 1214, 2411, 723, 1184, 757, 3794, 3403, 2233, 5097, 5564, 2396, 2911, 142, 261, 5320, 3929, 2232, 2070, 4463, 5999, 4635, 5116, 4983, 5922, 2945, 3304, 4769, 4443, 878, 4521, 5455, 53, 4913, 2426, 2196, 1852, 5348, 3604, 2590, 2562, 4525, 4032, 1923, 2220, 2737, 6262, 1374, 6272, 3144, 2394, 3865, 6338, 1786, 547, 1169, 3395, 1369, 799, 5510, 6211, 1378, 2225, 1159, 2739, 3159, 3716, 592, 6173, 5954, 5877, 1602, 2088, 5094, 6327, 1985, 797, 1119, 5208, 1290, 3173, 2304, 394, 4242, 3307, 6178, 1286, 1352, 374, 2189, 1848, 5720, 1707, 5422, 3752, 4258, 3645, 383, 4474, 217, 5434, 3787, 4440, 404, 1866, 3503, 2000, 185, 4542, 3883, 423, 5404, 5546, 24, 4254, 3215, 5703, 3098, 5551, 5759, 3660, 2486, 4970, 4212, 1869, 2824, 3183, 2199, 6462, 1253, 1606, 4573, 353, 3786, 1744, 4671, 6082, 4237, 3059, 3207, 6356, 4946, 1092, 3346, 2644, 5025, 68, 2160, 1112, 3784, 454, 5640, 559, 2957, 6050, 457, 641, 2502, 1241, 880, 5789, 2068, 5076, 2252, 1577, 6171, 3124, 1899, 5185, 1365, 3963, 59, 2452, 2775, 1682, 1107, 2659, 215, 4118, 1496, 3761, 6041, 6120, 2446, 4927, 608, 1659, 2356, 5370, 6198, 1731, 282, 135, 2063, 274, 4658, 1126, 4491, 272, 6544, 1370, 726, 4711, 5212, 4703, 924, 5277, 5772, 3766, 6000, 4021, 139, 430, 3177, 1268, 971, 4767, 6277, 2274, 5319, 2480, 98, 6551, 1832, 1423, 2526, 2865, 3601, 2640, 3024, 5882, 3819, 5643, 3815, 2005, 3438, 1529, 3504, 364, 3596, 5962, 1046, 2434, 5777, 5213, 749, 1976, 6246, 4545, 720, 5047, 697, 4482, 201, 211, 4240, 2395, 1185, 1581, 5597, 2032, 3910, 5152, 2597, 6092, 3869, 5634, 3095, 1484, 3120, 1752, 2675, 5274, 5972, 5685, 1651, 6361, 4364, 1442, 5586, 1349, 4504, 2901, 770, 388, 3631, 2442, 709, 1527, 4064, 3407, 301, 5503, 4312, 1084, 3875, 1165, 1831, 4764, 921, 3104, 6345, 3739, 4303, 3326, 2732, 2999, 192, 2616, 3161, 2111, 2967, 75, 2677, 5996, 2421, 3831, 4133, 598, 2312, 3581, 3301, 2343, 1987, 5207, 5462, 997, 4208, 3709, 2072, 5536, 1753, 4848, 1823, 4496, 6454, 6196, 5015, 2439, 3424, 4269, 1709, 3465, 3820, 131, 6268, 5101, 4599, 5142, 2250, 1749, 5944, 2912, 3169, 3264, 3799, 864, 4874, 1742, 3201, 6331, 3303, 5668, 3320, 5483, 6516, 3369, 5472, 3394, 2746, 3949, 3478, 1673, 2001, 4381, 2103, 2667, 3908, 4444, 3530, 4571, 4894, 6288, 1381, 3576, 4357, 3797, 3233, 710, 1758, 6107, 2481, 5920, 3876, 1506, 6403, 4152, 3977, 1255, 4530, 177, 3295, 3261, 5042, 2804, 2585, 5943, 6407, 1246, 6009, 1611, 5325, 1336, 2094, 1327, 1618, 873, 2851, 95, 3205, 5705, 604, 5223, 3269, 2654, 5221, 5541, 3299, 5884, 5755, 546, 4903, 5283, 4050, 3236, 2406, 3466, 6373, 5197, 1782, 2096, 1041, 6381, 1764, 6133, 1532, 3837, 5068, 3735, 3323, 2310, 2745, 1163, 2191, 6210, 4468, 2727, 400, 5067, 1621, 3697, 4650, 4084, 6357, 3178, 6460, 2849, 97, 4534, 1287, 3825, 4300, 4804, 1680, 6220, 506, 4682, 2993, 4268, 3805, 4053, 3075, 3651, 1489, 2835, 290, 782, 1859, 1486, 4143, 3052, 1282, 6156, 2811, 6003, 4601, 616, 5636, 4529, 3338, 5226, 4709, 4862, 6400, 6439, 202, 4741, 6451, 1410, 6371, 181, 586, 4971, 281, 1010, 5701, 5444, 4560, 1023, 3408, 3327, 2805, 594, 1863, 2071, 4363, 941, 3677, 2828, 3627, 1907, 629, 669, 4851, 968, 2507, 4121, 2121, 5303, 3283, 5190, 1351, 6264, 5216, 4536, 3535, 3042, 2347, 2159, 850, 3242, 3479, 5623, 4402, 4533, 5883, 4728, 5555, 1678, 3889, 3192, 318, 4238, 4090, 2605, 3868, 4454, 4701, 4670, 3373, 5552, 3359, 763, 678, 4271, 5317, 276, 3461, 5365, 3378, 4515, 1864, 4572, 6424, 4960, 6528, 1196, 693, 4045, 3426, 554, 6175, 2549, 3879, 2230, 4964, 2018, 3314, 4373, 1736, 2965, 3020, 5796, 1951, 2153, 2731, 4582, 2656, 152, 2582, 2956, 2794, 2717, 55, 4885, 562, 5290, 1216, 3591, 5870, 4343, 774, 3957, 1873, 3288, 6422, 3274, 1157, 5678, 4215, 5867, 3685, 1926, 4830, 4864, 3451, 1182, 3773, 5851, 5994, 278, 786, 4287, 2450, 4437, 3358, 2419, 834, 831, 3748, 6199, 3258, 2165, 4140, 3770, 6351, 137, 3400, 5935, 647, 2998, 5323, 3896, 6111, 5697, 3747, 3045, 3471, 3721, 5784, 311, 4613, 4398, 2888, 589, 2710, 796, 1211, 427, 314, 6319, 3491, 3152, 2607, 504, 5760, 3931, 1691, 4717, 2634, 4855, 3254, 5915, 4160, 1428, 4227, 6436, 2839, 4610, 5438, 5753, 1693, 1328, 6326, 3817, 4829, 3015, 3696, 3898, 1990, 365, 143, 5301, 5013, 4477, 1998, 6437, 1380, 5691, 3222, 6488, 3026, 3150, 881, 6382, 2843, 5727, 5161, 2823, 3743, 4614, 1692, 5214, 2863, 380, 4109, 4853, 519, 1531, 4527, 6304, 461, 2637, 3190, 6090, 3512, 6466, 5071, 5806, 706, 2101, 2939, 6534, 3131, 5384, 2903, 5545, 238, 6376, 4200, 2437, 1130, 5236, 5130, 2467, 3859, 5622, 1179, 3234, 952, 260, 6302, 5445, 1189, 2666, 540, 2679, 1321, 6005, 2190, 861, 1202, 3550, 3911, 4499, 5032, 1916, 5894, 343, 4302, 5504, 3603, 5138, 3119, 1579, 3223, 784, 3818, 4043, 721, 5713, 5715, 2064, 277, 283, 6094, 1588, 99, 3673, 5607, 6099, 2469, 127, 3569, 4158, 5976, 3953, 20, 433, 4966, 6441, 2164, 2855, 947, 3459, 3788, 190, 3918, 4059, 1042, 4481, 848, 5970, 938, 4214, 5692, 1776, 484, 2169, 3257, 3399, 6012, 5109, 2801, 1546, 3175, 715, 4774, 2615, 1103, 2978, 4069, 2034, 1609, 2407, 3029, 2757, 3418, 4880, 4665, 1702, 387, 286, 151, 4360, 6209, 6162, 2242, 453, 2358, 4860, 1991, 6458, 6385, 2854, 3909, 2711, 618, 134, 6222, 345, 3924, 5260, 1036, 2586, 6251, 6449, 1771, 5008, 1672, 5482, 4546, 6290, 4910, 2174, 319, 4702, 3328, 5344, 5009, 5942, 4690, 5783, 4052, 3163, 5146, 2573, 6524, 5524, 1008, 1295, 5859, 297, 1129, 2827, 778, 6336, 2712, 1622, 3086, 4058, 452, 2508, 4022, 352, 4388, 727, 2403, 6213, 2524, 3959, 1377, 4339, 1265, 4956, 4062, 5532, 1435, 837, 6265, 1205, 1281, 553, 6435, 5590, 6127, 557, 2935, 805, 3655, 513, 6126, 1769, 4447, 2413, 5017, 111, 6054, 3727, 6324, 6541, 5028, 3758, 4436, 6182, 6480, 3289, 2611, 6450, 2150, 3570, 367, 6461, 2721, 1348, 6105, 3376, 5285, 2451, 2652, 1446, 3806, 2596, 5453, 4126, 876, 3332, 6549, 2547, 1846, 612, 3567, 2977, 2633, 4274, 4691, 4817, 4461, 3821, 6347, 3592, 182, 5964, 1194, 2243, 2832, 6538, 3256, 1936, 5762, 1379, 1342, 154, 1298, 147, 4936, 4877, 4193, 4597, 2751, 787, 4280, 6269, 6305, 180, 3096, 6320, 307, 1952, 4472, 2665, 532, 2635, 2852, 46, 6383, 288, 6075, 777, 4365, 4719, 2918, 4967, 1619, 6406, 2765, 5181, 1434, 2039, 3925, 2076, 4275, 2983, 5946, 5127, 6525, 426, 999, 125, 1341, 4246, 3982, 5716, 1099, 5473, 6136, 3246, 1822, 110, 601, 3999, 3393, 2444, 4017, 4132, 5717, 931, 2905, 4520, 6179, 377, 6118, 4146, 6353, 2748, 3913, 4078, 1607, 3771, 3810, 5588, 5143, 1528, 321, 392, 5038, 470, 1019, 2491, 4583, 230, 5388, 3436, 2670, 5566, 3137, 1657, 320, 2767, 3437, 3534, 1957, 2930, 5217, 2401, 5644, 686, 4469, 5957, 4745, 6428, 4225, 5601, 104, 3575, 1595, 4116, 5430, 4432, 3480, 2857, 4390, 371, 1345, 3653, 5721, 4055, 102, 4505, 4871, 4699, 4695, 5160, 1870, 1920, 5321, 1256, 4528, 5932, 2681, 4734, 5100, 2718, 3088, 4081, 5020, 5875, 1895, 5836, 1661, 4641, 4028, 6535, 1826, 6456, 116, 5706, 3778, 3366, 3885, 1772, 3808, 13, 5030, 2610, 4451, 6157, 2175, 4596, 6247, 2553, 4459, 6181, 2162, 622, 5177, 4640, 683, 4831, 4531, 2387, 4514, 4775, 5998, 6135, 4110, 1751, 1746, 2119, 4435, 1699, 6036, 1104, 719, 1740, 5728, 1854, 264, 2182, 767, 1500, 5876, 2475, 4934, 2479, 4174, 3585, 5959, 3994, 6192, 4994, 761, 4708, 5298, 855, 2328, 5442, 1605, 2974, 5366, 4231, 862, 385, 1239, 6045, 3792, 3737, 6172, 890, 1815, 1366, 5187, 963, 4487, 241, 366, 3217, 2725, 2716, 2498, 1615, 4696, 3586, 4490, 3298, 4088, 2560, 3010, 73, 1012, 3621, 3287, 5266, 5463, 6299, 386, 357, 5345, 835, 1051, 2661, 3162, 3151, 5675, 3732, 1993, 2078, 2362, 6242, 2006, 5022, 3145, 2781, 5288, 5835, 3073, 5725, 4770, 4434, 5937, 4129, 5677, 5033, 3043, 4448, 955, 5421, 5811, 5448, 1686, 631, 5381, 4452, 1584, 4951, 3416, 2277, 6507, 1512, 3882, 1168, 3502, 4358, 1418, 6355, 996, 5798, 3560, 3803, 1689, 4441, 2588, 2982, 2506, 4008, 6164, 4292, 3782, 4267, 4332, 54, 2772, 3467, 5613, 1360, 2631, 225, 3180, 3856, 3686, 3126, 3975, 2927, 5189, 2283, 1164, 1617, 2683, 3372, 42, 2649, 4091, 5599, 6267, 4566, 456, 3038, 3423, 2114, 5585, 3297, 445, 4391, 5073, 4108, 6008, 2523, 1375, 4344, 3516, 5974, 5605, 1517, 611, 4272, 2819, 2691, 4076, 63, 694, 3671, 6482, 4876, 5520, 3427, 3983, 3529, 2117, 39, 3063, 2599, 1779, 6448, 681, 3849, 4537, 5468, 2825, 3414, 3832, 2489, 2879, 3101, 6501, 1108, 1572, 3795, 4891, 3381, 1677, 60, 4159, 1835, 4112, 1939, 6279, 3835, 2331, 5526, 1507, 2326, 2749, 5075, 541, 602, 5427, 2898, 1827, 1083, 2418, 4896, 3329, 3669, 233, 1082, 3239, 605, 3191, 5016, 6201, 355, 2566, 3970, 2366, 4975, 537, 5173, 879, 2556, 2836, 206, 2846, 3644, 5674, 2676, 2988, 4382, 1948, 4001, 1079, 5637, 4389, 5174, 3622, 2097, 1001, 2878, 4189, 1076, 4103, 3422, 4930, 3562, 5927, 4990, 2282, 1783, 1737, 2110, 4771, 4937, 2315, 5695, 3090, 5258, 1738, 5129, 3062, 4400, 4484, 2433, 1188, 2318, 3176, 5925, 523, 4206, 2238, 676, 6223, 424, 2435, 5464, 1674, 1330, 1542, 3937, 3187, 3707, 2700, 4379, 3321, 3718, 3524, 2148, 3966, 18, 4115, 4906, 4002, 937, 4333, 6440, 6165, 4417, 4106, 949, 359, 482, 3259, 4548, 4122, 692, 1670, 2759, 136, 5150, 5941, 1986, 3996, 5647, 5523, 4668, 6550, 4473, 2968, 858, 1180, 3046, 4890, 3019, 6193, 6103, 3974, 6512, 3720, 4547, 2589, 1368, 4397, 5809, 4321, 1793, 3595, 1698, 428, 646, 3903, 3039, 6204, 4942, 1096, 3801, 2008, 1123, 1597, 2887, 4959, 4746, 4256, 1540, 2009, 439, 5229, 1322, 3981, 3663, 2492, 2431, 2686, 4570, 3544, 2807, 3446, 860, 3147, 52, 199, 2768, 347, 4615, 3991, 1711, 4856, 2779, 5593, 4844, 1025, 6416, 5395, 3703, 762, 3678, 2229, 2025, 3993, 2092, 543, 4027, 3189, 2876, 3138, 265, 146, 5764, 1491, 4726, 1652, 3041, 3952, 521, 370, 4581, 1994, 3708, 4467, 4177, 3838, 4304, 2943, 874, 4516, 3921, 5570, 2630, 3846, 6543, 3995, 5858, 3768, 3367, 3764, 1734, 1841, 4334, 4111, 5363, 2815, 5548, 4965, 2931, 1739, 6358, 4228, 1402, 915, 4016, 1819, 4342, 4858, 2186, 935, 2519, 2307, 3271, 6086, 3948, 4414, 5843, 5373, 3253, 1537, 3984, 6052, 3435, 2916, 1821, 2598, 1777, 2432, 2880, 1013, 677, 6377, 700, 5938, 4657, 2889, 6536, 3069, 4929, 4273, 3415, 617, 3884, 3873, 1865, 943, 6256, 5132, 6483, 4814, 2422, 6399, 1732, 5302, 4034, 1898, 6207, 4854, 4630, 194, 1857, 2188, 1667, 597, 3638, 6019, 5832, 3871, 3247, 1120, 4198, 3520, 5969, 4748, 2273, 775, 6494, 5795, 3219, 6116, 2341, 5205, 6285, 1853, 5977, 3130, 4086, 3946, 1992, 2833, 703, 4104, 4995, 389, 5628, 6057, 4403, 186, 3639, 3267, 3672, 1980, 4187, 1598, 3618, 3659, 2178, 5799, 1279, 3881, 6442, 3624, 223, 5055, 4652, 4290, 1088, 4541, 5891, 3091, 4800, 5426, 5754, 3566, 517, 375, 341, 4176, 3554, 4031, 2138, 6510, 755, 2907, 476, 4314, 3521, 2614, 849, 469, 4645, 2011, 877, 5474, 1787, 4607, 463, 1688, 3322, 4395, 6446, 1839, 4453, 5368, 3822, 1030, 1694, 793, 2244, 6142, 1212, 6048, 3951, 5517, 2265, 5873, 1419, 4939, 4857, 5855, 3485, 3241, 2673, 3270, 4087, 2264, 2770, 5349, 4197, 1077, 5856, 5896, 2320, 4243, 3531, 717, 2648, 1451, 4466, 2173, 2022, 5059, 1824, 5268, 2959, 1601, 6215, 1337, 460, 4685, 5066, 1367, 4376, 2604, 3939, 3827, 5057, 4120, 1494, 1849, 4179, 216, 2391, 3296, 316, 6270, 3538, 1171, 5106, 5439, 6367, 3386, 3557, 2278, 3484, 4355, 5939, 603, 1600, 1245, 5881, 5139, 2831, 157, 712, 6218, 4079, 5361, 5522, 5693, 2909, 5967, 3486, 262, 1215, 3774, 4933, 4393, 6547, 2850, 3325, 4168, 5297, 2453, 789, 1276, 191, 2914, 4828, 3843, 4661, 4644, 525, 533, 5731, 4421, 5626, 875, 4056, 5766, 6540, 3972, 1278, 6055, 5956, 3548, 1570, 6291, 4383, 942, 6346, 4223, 4749, 5961, 2108, 4188, 3128, 1024, 5890, 3565, 4416, 3783, 6489, 2592, 4569, 2816, 5052, 1436, 6505, 5707, 5887, 2313, 3834, 300, 1505, 3185, 240, 2936, 4392, 2474, 4093, 2308, 4117, 2240, 3310, 1685, 1373, 5865, 4217, 5775, 5153, 2886, 5359, 5256, 6029, 5632, 5475, 4049, 1858, 2198, 3866, 3905, 2881, 1589, 6078, 5124, 448, 429, 5156, 2404, 2963, 1263, 3244, 5815, 3463, 5897, 1201, 6429, 2204, 1687, 5049, 3944, 6224, 4870, 1111, 6509, 3611, 70, 5868, 4047, 3439, 4803, 2007, 1195, 473, 1458, 4418, 6431, 2970, 2222, 4679, 303, 3494, 929, 6493, 3941, 1456, 5070, 1750, 3976, 342, 4138, 5437, 4025, 2412, 5615, 713, 699, 1599, 2106, 2205, 5113, 1519, 113, 3777, 3790, 5511, 299, 5917, 853, 5396, 2257, 5955, 4185, 1421, 1086, 3410, 2441, 2364, 1911, 4715, 4653, 3542, 5543, 6177, 2410, 6432, 5379, 6495, 2390, 3635, 4147, 2693, 5077, 4549, 2317, 960, 516, 3814, 5553, 1840, 5091, 5791, 3632, 3695, 5210, 6301, 5951, 2653, 3316, 3978, 1627, 4846, 6014, 3616, 1842, 2668, 696, 4003, 1705, 3511, 3158, 5241, 4821, 635, 3430, 5046, 5058, 3056, 795, 4035, 2862, 3809, 6506, 1174, 4361, 2890, 5313, 6252, 759, 4015, 4155, 1289, 961, 6438, 3725, 27, 393, 1326, 2168, 2336, 1784, 1695, 5239, 599, 6349, 5805, 4080, 465, 758, 3155, 4425, 2919, 2344, 1186, 4611, 2392, 3923, 1105, 6238, 3066, 295, 133, 149, 2646, 5391, 3431, 2269, 5041, 1814, 4716, 4633, 5509, 3750, 4494, 951, 3165, 6011, 5310, 1896, 3225, 3203, 3715, 2226, 4320, 4667, 6297, 4291, 4249, 5834, 772, 3626, 2112, 446, 5227, 2004, 80, 607, 2113, 5281, 1187, 2853, 5792, 3345, 4827, 548, 3109, 4945, 5973, 5131, 1508, 2682, 3523, 4224, 267, 4450, 5449, 2932, 3336, 3763, 3481, 51, 4904, 2495, 4555, 5382, 4659, 2738, 3912, 2913, 3141, 1121, 2170, 2554, 3850, 3640, 4834, 402, 5356, 6548, 1650, 5306, 6278, 3260, 1684, 5406, 6401, 1520, 4700, 6189, 2826, 3844, 2848, 4213, 1009, 5505, 2834, 2587, 5733, 5433, 6102, 2812, 2830, 5610, 1523, 1708, 3723, 14, 1623, 4327, 176, 3519, 5194, 3532, 518, 1035, 1941, 2742, 2856, 3482, 1128, 481, 4244, 1487, 4863, 6254, 4517, 4315, 2837, 4568, 4136, 3927, 1938, 2891, 2272, 1573, 4899, 236, 4478, 5314, 6190, 792, 1538, 2327, 2031, 5608, 5355, 443, 5233, 5916, 309, 1014, 6469, 3447, 4532, 1040, 5466, 1037, 3442, 4415, 210, 917, 5913, 449, 5787, 3789, 2555, 5056, 5947, 4559, 1125, 441, 3733, 269, 65, 2517, 3230, 2036, 3401, 1296, 3897, 5393, 3836, 1917, 4627, 1918, 1733, 1450, 2237, 3536, 4620, 5839, 49, 4783, 3802, 1176, 3950, 3368, 6205, 5800, 5242, 3318, 3501, 3775, 6059, 6443, 766, 3510, 3412, 2425, 118, 58, 2301, 1516, 4009, 6430, 4781, 624, 545, 2736, 3559, 4524, 1909, 447, 5874, 2534, 6079, 3094, 2166, 3495, 4413, 2513, 6058, 1526, 4565, 4648, 2415, 3243, 4974, 1593, 3377, 3971, 5375, 5708, 5587, 3148, 2241, 2056, 714, 3122, 1007, 4356, 227, 1417, 1439, 2139, 2354, 3793, 3245, 6015, 1665, 2089, 4412, 4006, 4552, 4664, 1429, 6491, 3168, 1654, 3490, 3753, 6113, 5602, 2662, 2329, 1655, 3561, 4326, 6532, 2152, 1616, 2632, 2369, 4944, 3228, 2203, 3914, 4777, 946, 3319, 5183, 800, 2803, 2059, 3370, 3964, 4404, 4718, 5061, 6293, 4036, 5031, 2080, 2095, 3823, 3248, 6088, 5864, 2591, 2325, 2184, 4553, 1590, 1485, 4637, 6217, 2960, 3573, 5103, 4785, 3872, 3107, 1942, 2989, 450, 4947, 6122, 6161, 5200, 5953, 595, 2154, 2330, 1292, 4497, 5376, 4617, 505, 5126, 4409, 161, 4194, 3712, 464, 3755, 2482, 6117, 2645, 5895, 57, 1102, 5115, 1199, 6481, 5429, 26, 6294, 2714, 1510, 4866, 2017, 3658, 3551]\n",
      "test ids:  [0, 1, 2, 3, 4, 5, 6, 7, 8, 9, 10, 11, 12, 40, 81, 82, 83, 84, 85, 86, 87, 88, 89, 90, 91, 92, 93, 94, 120, 162, 163, 164, 165, 166, 167, 168, 169, 170, 171, 172, 173, 174, 175, 200, 243, 244, 245, 246, 247, 248, 249, 250, 251, 252, 253, 254, 255, 256, 257, 280, 324, 325, 326, 327, 328, 329, 330, 331, 332, 333, 334, 335, 336, 337, 338, 339, 360, 405, 406, 407, 408, 409, 410, 411, 412, 413, 414, 415, 416, 417, 418, 419, 420, 421, 440, 486, 487, 488, 489, 490, 491, 492, 493, 494, 495, 496, 497, 498, 499, 500, 501, 502, 520, 567, 568, 569, 570, 571, 572, 573, 574, 575, 576, 577, 578, 579, 580, 581, 582, 583, 584, 600, 648, 649, 650, 651, 652, 653, 654, 655, 656, 657, 658, 659, 660, 661, 662, 663, 664, 665, 666, 680, 729, 730, 731, 732, 733, 734, 735, 736, 737, 738, 739, 740, 741, 742, 743, 744, 745, 746, 747, 748, 760, 810, 811, 812, 813, 814, 815, 816, 817, 818, 819, 820, 821, 822, 823, 824, 825, 826, 827, 828, 829, 840, 891, 892, 893, 894, 895, 896, 897, 898, 899, 900, 901, 902, 903, 904, 905, 906, 907, 908, 909, 910, 911, 920, 972, 973, 974, 975, 976, 977, 978, 979, 980, 981, 982, 983, 984, 985, 986, 987, 988, 989, 990, 991, 992, 993, 1000, 1053, 1054, 1055, 1056, 1057, 1058, 1059, 1060, 1061, 1062, 1063, 1064, 1065, 1066, 1067, 1068, 1069, 1070, 1071, 1072, 1073, 1074, 1075, 1080, 1135, 1136, 1137, 1138, 1139, 1140, 1141, 1142, 1143, 1144, 1145, 1146, 1147, 1148, 1149, 1150, 1151, 1152, 1153, 1154, 1155, 1156, 1160, 1217, 1218, 1219, 1220, 1221, 1222, 1223, 1224, 1225, 1226, 1227, 1228, 1229, 1230, 1231, 1232, 1233, 1234, 1235, 1236, 1237, 1238, 1240, 1300, 1301, 1302, 1303, 1304, 1305, 1306, 1307, 1308, 1309, 1310, 1311, 1312, 1313, 1314, 1315, 1316, 1317, 1318, 1319, 1320, 1382, 1383, 1384, 1385, 1386, 1387, 1388, 1389, 1390, 1391, 1392, 1393, 1394, 1395, 1396, 1397, 1398, 1399, 1400, 1401, 1465, 1466, 1467, 1468, 1469, 1470, 1471, 1472, 1473, 1474, 1475, 1476, 1477, 1478, 1479, 1480, 1481, 1482, 1483, 1547, 1548, 1549, 1550, 1551, 1552, 1553, 1554, 1555, 1556, 1557, 1558, 1559, 1560, 1561, 1562, 1563, 1564, 1565, 1629, 1630, 1631, 1632, 1633, 1634, 1635, 1636, 1637, 1638, 1639, 1640, 1641, 1642, 1643, 1644, 1645, 1646, 1647, 1700, 1712, 1713, 1714, 1715, 1716, 1717, 1718, 1719, 1720, 1721, 1722, 1723, 1724, 1725, 1726, 1727, 1728, 1780, 1794, 1795, 1796, 1797, 1798, 1799, 1800, 1801, 1802, 1803, 1804, 1805, 1806, 1807, 1808, 1809, 1810, 1860, 1877, 1878, 1879, 1880, 1881, 1882, 1883, 1884, 1885, 1886, 1887, 1888, 1889, 1890, 1891, 1892, 1940, 1959, 1960, 1961, 1962, 1963, 1964, 1965, 1966, 1967, 1968, 1969, 1970, 1971, 1972, 1973, 1974, 2020, 2040, 2041, 2042, 2043, 2044, 2045, 2046, 2047, 2048, 2049, 2050, 2051, 2052, 2053, 2054, 2055, 2100, 2120, 2124, 2125, 2126, 2127, 2128, 2129, 2130, 2131, 2132, 2133, 2134, 2135, 2136, 2137, 2180, 2200, 2206, 2207, 2208, 2209, 2210, 2211, 2212, 2213, 2214, 2215, 2216, 2217, 2218, 2219, 2260, 2280, 2289, 2290, 2291, 2292, 2293, 2294, 2295, 2296, 2297, 2298, 2299, 2300, 2340, 2360, 2371, 2372, 2373, 2374, 2375, 2376, 2377, 2378, 2379, 2380, 2381, 2382, 2420, 2440, 2454, 2455, 2456, 2457, 2458, 2459, 2460, 2461, 2462, 2463, 2464, 2500, 2520, 2536, 2537, 2538, 2539, 2540, 2541, 2542, 2543, 2544, 2545, 2546, 2580, 2600, 2618, 2619, 2620, 2621, 2622, 2623, 2624, 2625, 2626, 2627, 2660, 2680, 2701, 2702, 2703, 2704, 2705, 2706, 2707, 2708, 2709, 2740, 2760, 2783, 2784, 2785, 2786, 2787, 2788, 2789, 2790, 2791, 2820, 2840, 2866, 2867, 2868, 2869, 2870, 2871, 2872, 2873, 2900, 2920, 2948, 2949, 2950, 2951, 2952, 2953, 2954, 2980, 3000, 3030, 3031, 3032, 3033, 3034, 3035, 3036, 3060, 3080, 3113, 3114, 3115, 3116, 3117, 3118, 3140, 3160, 3195, 3196, 3197, 3198, 3199, 3200, 3220, 3240, 3278, 3279, 3280, 3281, 3300, 3360, 3361, 3362, 3363, 3380, 3443, 3444, 3445, 3460, 3525, 3526, 3540, 3607, 3608, 3620, 3690, 3700, 3772, 3780, 3854, 3860, 3936, 3940, 4018, 4019, 4020, 4099, 4100, 4101, 4180, 4181, 4182, 4183, 4260, 4263, 4264, 4265, 4266, 4340, 4345, 4346, 4347, 4348, 4420, 4427, 4428, 4429, 4430, 4431, 4500, 4508, 4509, 4510, 4511, 4512, 4513, 4580, 4590, 4591, 4592, 4593, 4594, 4595, 4660, 4672, 4673, 4674, 4675, 4676, 4677, 4678, 4740, 4753, 4754, 4755, 4756, 4757, 4758, 4759, 4760, 4820, 4835, 4836, 4837, 4838, 4839, 4840, 4841, 4842, 4843, 4900, 4917, 4918, 4919, 4920, 4921, 4922, 4923, 4924, 4925, 4980, 4999, 5000, 5001, 5002, 5003, 5004, 5005, 5006, 5007, 5060, 5080, 5081, 5082, 5083, 5084, 5085, 5086, 5087, 5088, 5089, 5090, 5140, 5162, 5163, 5164, 5165, 5166, 5167, 5168, 5169, 5170, 5171, 5172, 5220, 5244, 5245, 5246, 5247, 5248, 5249, 5250, 5251, 5252, 5253, 5254, 5255, 5300, 5326, 5327, 5328, 5329, 5330, 5331, 5332, 5333, 5334, 5335, 5336, 5337, 5380, 5407, 5408, 5409, 5410, 5411, 5412, 5413, 5414, 5415, 5416, 5417, 5418, 5419, 5420, 5460, 5489, 5490, 5491, 5492, 5493, 5494, 5495, 5496, 5497, 5498, 5499, 5500, 5501, 5502, 5540, 5571, 5572, 5573, 5574, 5575, 5576, 5577, 5578, 5579, 5580, 5581, 5582, 5583, 5584, 5620, 5653, 5654, 5655, 5656, 5657, 5658, 5659, 5660, 5661, 5662, 5663, 5664, 5665, 5666, 5667, 5700, 5734, 5735, 5736, 5737, 5738, 5739, 5740, 5741, 5742, 5743, 5744, 5745, 5746, 5747, 5748, 5749, 5780, 5816, 5817, 5818, 5819, 5820, 5821, 5822, 5823, 5824, 5825, 5826, 5827, 5828, 5829, 5830, 5831, 5860, 5898, 5899, 5900, 5901, 5902, 5903, 5904, 5905, 5906, 5907, 5908, 5909, 5910, 5911, 5912, 5940, 5979, 5980, 5981, 5982, 5983, 5984, 5985, 5986, 5987, 5988, 5989, 5990, 5991, 5992, 5993, 6020, 6061, 6062, 6063, 6064, 6065, 6066, 6067, 6068, 6069, 6070, 6071, 6072, 6073, 6074, 6100, 6143, 6144, 6145, 6146, 6147, 6148, 6149, 6150, 6151, 6152, 6153, 6154, 6155, 6180, 6225, 6226, 6227, 6228, 6229, 6230, 6231, 6232, 6233, 6234, 6235, 6236, 6260, 6306, 6307, 6308, 6309, 6310, 6311, 6312, 6313, 6314, 6315, 6316, 6317, 6340, 6388, 6389, 6390, 6391, 6392, 6393, 6394, 6395, 6396, 6397, 6398, 6420, 6470, 6471, 6472, 6473, 6474, 6475, 6476, 6477, 6478, 6479, 6500, 6552, 6553, 6554, 6555, 6556, 6557, 6558, 6559, 6560]\n",
      "CPU times: user 158 ms, sys: 24 ms, total: 182 ms\n",
      "Wall time: 181 ms\n"
     ]
    }
   ],
   "source": [
    "%%time\n",
    "n_total = len(simulation.dataframe)\n",
    "n_train = len(simulation.dataframe[simulation.dataframe.type_of == \"train\"])\n",
    "n_val = len(simulation.dataframe[simulation.dataframe.type_of == \"val\"])\n",
    "n_test = len(simulation.dataframe[simulation.dataframe.type_of == \"test\"])\n",
    "n_train_hamiltonians = len(simulation.train_ids)\n",
    "n_val_hamiltonians = len(simulation.val_ids)\n",
    "n_test_hamiltonians = len(simulation.test_ids)\n",
    "n_total_hamiltonians = n_train_hamiltonians + n_val_hamiltonians + n_test_hamiltonians\n",
    "\n",
    "print(\"% train: \", n_train/n_total)\n",
    "print(\"% val: \",  n_val/n_total)\n",
    "print(\"% test: \", n_test/n_total)\n",
    "print(\"% train + val + test: \", (n_train+n_val+n_test)/n_total)\n",
    "print(\"\\n\")\n",
    "print(\"number of train hamiltonians: \", n_train_hamiltonians)\n",
    "print(\"number of val hamiltonians: \", n_val_hamiltonians)\n",
    "print(\"number of test hamiltonians: \", n_test_hamiltonians)\n",
    "print(\"total number of hamiltonians: \", n_total_hamiltonians)\n",
    "print(\"\\n\")\n",
    "print(\"train ids: \", simulation.train_ids)\n",
    "print(\"val ids: \", simulation.val_ids)\n",
    "print(\"test ids: \", simulation.test_ids)"
   ]
  },
  {
   "cell_type": "markdown",
   "metadata": {
    "papermill": {
     "duration": 0.037271,
     "end_time": "2020-07-10T00:35:30.251965",
     "exception": false,
     "start_time": "2020-07-10T00:35:30.214694",
     "status": "completed"
    },
    "tags": []
   },
   "source": [
    "#### Checking summaries"
   ]
  },
  {
   "cell_type": "code",
   "execution_count": 27,
   "metadata": {
    "execution": {
     "iopub.execute_input": "2020-07-10T00:35:30.323955Z",
     "iopub.status.busy": "2020-07-10T00:35:30.323645Z",
     "iopub.status.idle": "2020-07-10T00:35:30.343700Z",
     "shell.execute_reply": "2020-07-10T00:35:30.343381Z"
    },
    "papermill": {
     "duration": 0.056829,
     "end_time": "2020-07-10T00:35:30.343751",
     "exception": false,
     "start_time": "2020-07-10T00:35:30.286922",
     "status": "completed"
    },
    "tags": []
   },
   "outputs": [
    {
     "name": "stdout",
     "output_type": "stream",
     "text": [
      "length of ham_summary:  6561\n",
      "CPU times: user 106 µs, sys: 0 ns, total: 106 µs\n",
      "Wall time: 62.7 µs\n"
     ]
    },
    {
     "data": {
      "text/html": [
       "<div>\n",
       "<style scoped>\n",
       "    .dataframe tbody tr th:only-of-type {\n",
       "        vertical-align: middle;\n",
       "    }\n",
       "\n",
       "    .dataframe tbody tr th {\n",
       "        vertical-align: top;\n",
       "    }\n",
       "\n",
       "    .dataframe thead th {\n",
       "        text-align: right;\n",
       "    }\n",
       "</style>\n",
       "<table border=\"1\" class=\"dataframe\">\n",
       "  <thead>\n",
       "    <tr style=\"text-align: right;\">\n",
       "      <th></th>\n",
       "      <th>t1</th>\n",
       "      <th>t2</th>\n",
       "      <th>type_of</th>\n",
       "      <th>-1</th>\n",
       "      <th>0</th>\n",
       "      <th>1</th>\n",
       "      <th>2</th>\n",
       "      <th>phase</th>\n",
       "      <th>pred_phase</th>\n",
       "    </tr>\n",
       "    <tr>\n",
       "      <th>id</th>\n",
       "      <th></th>\n",
       "      <th></th>\n",
       "      <th></th>\n",
       "      <th></th>\n",
       "      <th></th>\n",
       "      <th></th>\n",
       "      <th></th>\n",
       "      <th></th>\n",
       "      <th></th>\n",
       "    </tr>\n",
       "  </thead>\n",
       "  <tbody>\n",
       "    <tr>\n",
       "      <th>0</th>\n",
       "      <td>-2.0</td>\n",
       "      <td>-2.00</td>\n",
       "      <td>test</td>\n",
       "      <td>0.13</td>\n",
       "      <td>0.49</td>\n",
       "      <td>0.23</td>\n",
       "      <td>0.15</td>\n",
       "      <td>999</td>\n",
       "      <td>0</td>\n",
       "    </tr>\n",
       "    <tr>\n",
       "      <th>1</th>\n",
       "      <td>-2.0</td>\n",
       "      <td>-1.95</td>\n",
       "      <td>test</td>\n",
       "      <td>0.12</td>\n",
       "      <td>0.51</td>\n",
       "      <td>0.24</td>\n",
       "      <td>0.13</td>\n",
       "      <td>-1</td>\n",
       "      <td>0</td>\n",
       "    </tr>\n",
       "    <tr>\n",
       "      <th>2</th>\n",
       "      <td>-2.0</td>\n",
       "      <td>-1.90</td>\n",
       "      <td>test</td>\n",
       "      <td>0.11</td>\n",
       "      <td>0.48</td>\n",
       "      <td>0.26</td>\n",
       "      <td>0.15</td>\n",
       "      <td>-1</td>\n",
       "      <td>0</td>\n",
       "    </tr>\n",
       "    <tr>\n",
       "      <th>3</th>\n",
       "      <td>-2.0</td>\n",
       "      <td>-1.85</td>\n",
       "      <td>test</td>\n",
       "      <td>0.13</td>\n",
       "      <td>0.52</td>\n",
       "      <td>0.24</td>\n",
       "      <td>0.11</td>\n",
       "      <td>-1</td>\n",
       "      <td>0</td>\n",
       "    </tr>\n",
       "    <tr>\n",
       "      <th>4</th>\n",
       "      <td>-2.0</td>\n",
       "      <td>-1.80</td>\n",
       "      <td>test</td>\n",
       "      <td>0.17</td>\n",
       "      <td>0.47</td>\n",
       "      <td>0.25</td>\n",
       "      <td>0.11</td>\n",
       "      <td>-1</td>\n",
       "      <td>0</td>\n",
       "    </tr>\n",
       "    <tr>\n",
       "      <th>...</th>\n",
       "      <td>...</td>\n",
       "      <td>...</td>\n",
       "      <td>...</td>\n",
       "      <td>...</td>\n",
       "      <td>...</td>\n",
       "      <td>...</td>\n",
       "      <td>...</td>\n",
       "      <td>...</td>\n",
       "      <td>...</td>\n",
       "    </tr>\n",
       "    <tr>\n",
       "      <th>6556</th>\n",
       "      <td>2.0</td>\n",
       "      <td>1.80</td>\n",
       "      <td>test</td>\n",
       "      <td>0.21</td>\n",
       "      <td>0.27</td>\n",
       "      <td>0.21</td>\n",
       "      <td>0.31</td>\n",
       "      <td>-1</td>\n",
       "      <td>2</td>\n",
       "    </tr>\n",
       "    <tr>\n",
       "      <th>6557</th>\n",
       "      <td>2.0</td>\n",
       "      <td>1.85</td>\n",
       "      <td>test</td>\n",
       "      <td>0.29</td>\n",
       "      <td>0.18</td>\n",
       "      <td>0.19</td>\n",
       "      <td>0.34</td>\n",
       "      <td>-1</td>\n",
       "      <td>2</td>\n",
       "    </tr>\n",
       "    <tr>\n",
       "      <th>6558</th>\n",
       "      <td>2.0</td>\n",
       "      <td>1.90</td>\n",
       "      <td>test</td>\n",
       "      <td>0.26</td>\n",
       "      <td>0.23</td>\n",
       "      <td>0.22</td>\n",
       "      <td>0.29</td>\n",
       "      <td>-1</td>\n",
       "      <td>2</td>\n",
       "    </tr>\n",
       "    <tr>\n",
       "      <th>6559</th>\n",
       "      <td>2.0</td>\n",
       "      <td>1.95</td>\n",
       "      <td>test</td>\n",
       "      <td>0.20</td>\n",
       "      <td>0.28</td>\n",
       "      <td>0.16</td>\n",
       "      <td>0.36</td>\n",
       "      <td>-1</td>\n",
       "      <td>2</td>\n",
       "    </tr>\n",
       "    <tr>\n",
       "      <th>6560</th>\n",
       "      <td>2.0</td>\n",
       "      <td>2.00</td>\n",
       "      <td>test</td>\n",
       "      <td>0.17</td>\n",
       "      <td>0.24</td>\n",
       "      <td>0.20</td>\n",
       "      <td>0.39</td>\n",
       "      <td>999</td>\n",
       "      <td>2</td>\n",
       "    </tr>\n",
       "  </tbody>\n",
       "</table>\n",
       "<p>6561 rows × 9 columns</p>\n",
       "</div>"
      ],
      "text/plain": [
       "       t1    t2 type_of    -1     0     1     2  phase  pred_phase\n",
       "id                                                                \n",
       "0    -2.0 -2.00    test  0.13  0.49  0.23  0.15    999           0\n",
       "1    -2.0 -1.95    test  0.12  0.51  0.24  0.13     -1           0\n",
       "2    -2.0 -1.90    test  0.11  0.48  0.26  0.15     -1           0\n",
       "3    -2.0 -1.85    test  0.13  0.52  0.24  0.11     -1           0\n",
       "4    -2.0 -1.80    test  0.17  0.47  0.25  0.11     -1           0\n",
       "...   ...   ...     ...   ...   ...   ...   ...    ...         ...\n",
       "6556  2.0  1.80    test  0.21  0.27  0.21  0.31     -1           2\n",
       "6557  2.0  1.85    test  0.29  0.18  0.19  0.34     -1           2\n",
       "6558  2.0  1.90    test  0.26  0.23  0.22  0.29     -1           2\n",
       "6559  2.0  1.95    test  0.20  0.28  0.16  0.36     -1           2\n",
       "6560  2.0  2.00    test  0.17  0.24  0.20  0.39    999           2\n",
       "\n",
       "[6561 rows x 9 columns]"
      ]
     },
     "execution_count": 27,
     "metadata": {},
     "output_type": "execute_result"
    }
   ],
   "source": [
    "%%time\n",
    "ham_summary = simulation.hamiltonian_summary\n",
    "print(\"length of ham_summary: \", len(ham_summary))\n",
    "ham_summary"
   ]
  },
  {
   "cell_type": "code",
   "execution_count": 28,
   "metadata": {
    "execution": {
     "iopub.execute_input": "2020-07-10T00:35:30.421014Z",
     "iopub.status.busy": "2020-07-10T00:35:30.420671Z",
     "iopub.status.idle": "2020-07-10T00:35:30.452368Z",
     "shell.execute_reply": "2020-07-10T00:35:30.452681Z"
    },
    "papermill": {
     "duration": 0.072372,
     "end_time": "2020-07-10T00:35:30.452745",
     "exception": false,
     "start_time": "2020-07-10T00:35:30.380373",
     "status": "completed"
    },
    "tags": []
   },
   "outputs": [
    {
     "data": {
      "text/html": [
       "<div>\n",
       "<style scoped>\n",
       "    .dataframe tbody tr th:only-of-type {\n",
       "        vertical-align: middle;\n",
       "    }\n",
       "\n",
       "    .dataframe tbody tr th {\n",
       "        vertical-align: top;\n",
       "    }\n",
       "\n",
       "    .dataframe thead th {\n",
       "        text-align: right;\n",
       "    }\n",
       "</style>\n",
       "<table border=\"1\" class=\"dataframe\">\n",
       "  <thead>\n",
       "    <tr style=\"text-align: right;\">\n",
       "      <th></th>\n",
       "      <th>t1</th>\n",
       "      <th>t2</th>\n",
       "      <th>-1</th>\n",
       "      <th>0</th>\n",
       "      <th>1</th>\n",
       "      <th>2</th>\n",
       "      <th>phase</th>\n",
       "      <th>pred_phase</th>\n",
       "    </tr>\n",
       "  </thead>\n",
       "  <tbody>\n",
       "    <tr>\n",
       "      <th>count</th>\n",
       "      <td>6561.000000</td>\n",
       "      <td>6.561000e+03</td>\n",
       "      <td>6561.000000</td>\n",
       "      <td>6561.000000</td>\n",
       "      <td>6561.000000</td>\n",
       "      <td>6561.000000</td>\n",
       "      <td>6561.000000</td>\n",
       "      <td>6561.000000</td>\n",
       "    </tr>\n",
       "    <tr>\n",
       "      <th>mean</th>\n",
       "      <td>0.000000</td>\n",
       "      <td>-4.331917e-18</td>\n",
       "      <td>0.191474</td>\n",
       "      <td>0.317720</td>\n",
       "      <td>0.310168</td>\n",
       "      <td>0.180639</td>\n",
       "      <td>28.045877</td>\n",
       "      <td>0.487273</td>\n",
       "    </tr>\n",
       "    <tr>\n",
       "      <th>std</th>\n",
       "      <td>1.169134</td>\n",
       "      <td>1.169134e+00</td>\n",
       "      <td>0.360425</td>\n",
       "      <td>0.433803</td>\n",
       "      <td>0.436047</td>\n",
       "      <td>0.351626</td>\n",
       "      <td>163.557011</td>\n",
       "      <td>1.015068</td>\n",
       "    </tr>\n",
       "    <tr>\n",
       "      <th>min</th>\n",
       "      <td>-2.000000</td>\n",
       "      <td>-2.000000e+00</td>\n",
       "      <td>0.000000</td>\n",
       "      <td>0.000000</td>\n",
       "      <td>0.000000</td>\n",
       "      <td>0.000000</td>\n",
       "      <td>-1.000000</td>\n",
       "      <td>-1.000000</td>\n",
       "    </tr>\n",
       "    <tr>\n",
       "      <th>25%</th>\n",
       "      <td>-1.000000</td>\n",
       "      <td>-1.000000e+00</td>\n",
       "      <td>0.000000</td>\n",
       "      <td>0.000000</td>\n",
       "      <td>0.000000</td>\n",
       "      <td>0.000000</td>\n",
       "      <td>0.000000</td>\n",
       "      <td>0.000000</td>\n",
       "    </tr>\n",
       "    <tr>\n",
       "      <th>50%</th>\n",
       "      <td>0.000000</td>\n",
       "      <td>0.000000e+00</td>\n",
       "      <td>0.000000</td>\n",
       "      <td>0.020000</td>\n",
       "      <td>0.010000</td>\n",
       "      <td>0.000000</td>\n",
       "      <td>1.000000</td>\n",
       "      <td>0.000000</td>\n",
       "    </tr>\n",
       "    <tr>\n",
       "      <th>75%</th>\n",
       "      <td>1.000000</td>\n",
       "      <td>1.000000e+00</td>\n",
       "      <td>0.110000</td>\n",
       "      <td>0.970000</td>\n",
       "      <td>0.980000</td>\n",
       "      <td>0.060000</td>\n",
       "      <td>1.000000</td>\n",
       "      <td>1.000000</td>\n",
       "    </tr>\n",
       "    <tr>\n",
       "      <th>max</th>\n",
       "      <td>2.000000</td>\n",
       "      <td>2.000000e+00</td>\n",
       "      <td>1.000000</td>\n",
       "      <td>1.000000</td>\n",
       "      <td>1.000000</td>\n",
       "      <td>1.000000</td>\n",
       "      <td>999.000000</td>\n",
       "      <td>2.000000</td>\n",
       "    </tr>\n",
       "  </tbody>\n",
       "</table>\n",
       "</div>"
      ],
      "text/plain": [
       "                t1            t2           -1            0            1  \\\n",
       "count  6561.000000  6.561000e+03  6561.000000  6561.000000  6561.000000   \n",
       "mean      0.000000 -4.331917e-18     0.191474     0.317720     0.310168   \n",
       "std       1.169134  1.169134e+00     0.360425     0.433803     0.436047   \n",
       "min      -2.000000 -2.000000e+00     0.000000     0.000000     0.000000   \n",
       "25%      -1.000000 -1.000000e+00     0.000000     0.000000     0.000000   \n",
       "50%       0.000000  0.000000e+00     0.000000     0.020000     0.010000   \n",
       "75%       1.000000  1.000000e+00     0.110000     0.970000     0.980000   \n",
       "max       2.000000  2.000000e+00     1.000000     1.000000     1.000000   \n",
       "\n",
       "                 2        phase   pred_phase  \n",
       "count  6561.000000  6561.000000  6561.000000  \n",
       "mean      0.180639    28.045877     0.487273  \n",
       "std       0.351626   163.557011     1.015068  \n",
       "min       0.000000    -1.000000    -1.000000  \n",
       "25%       0.000000     0.000000     0.000000  \n",
       "50%       0.000000     1.000000     0.000000  \n",
       "75%       0.060000     1.000000     1.000000  \n",
       "max       1.000000   999.000000     2.000000  "
      ]
     },
     "execution_count": 28,
     "metadata": {},
     "output_type": "execute_result"
    }
   ],
   "source": [
    "ham_summary.describe()"
   ]
  },
  {
   "cell_type": "code",
   "execution_count": 29,
   "metadata": {
    "execution": {
     "iopub.execute_input": "2020-07-10T00:35:30.528095Z",
     "iopub.status.busy": "2020-07-10T00:35:30.527786Z",
     "iopub.status.idle": "2020-07-10T00:35:30.542590Z",
     "shell.execute_reply": "2020-07-10T00:35:30.542892Z"
    },
    "papermill": {
     "duration": 0.053433,
     "end_time": "2020-07-10T00:35:30.542956",
     "exception": false,
     "start_time": "2020-07-10T00:35:30.489523",
     "status": "completed"
    },
    "tags": []
   },
   "outputs": [
    {
     "name": "stdout",
     "output_type": "stream",
     "text": [
      "length of ham_summary:  656100\n"
     ]
    },
    {
     "data": {
      "text/html": [
       "<div>\n",
       "<style scoped>\n",
       "    .dataframe tbody tr th:only-of-type {\n",
       "        vertical-align: middle;\n",
       "    }\n",
       "\n",
       "    .dataframe tbody tr th {\n",
       "        vertical-align: top;\n",
       "    }\n",
       "\n",
       "    .dataframe thead th {\n",
       "        text-align: right;\n",
       "    }\n",
       "</style>\n",
       "<table border=\"1\" class=\"dataframe\">\n",
       "  <thead>\n",
       "    <tr style=\"text-align: right;\">\n",
       "      <th></th>\n",
       "      <th>id</th>\n",
       "      <th>phase</th>\n",
       "      <th>pred_phase</th>\n",
       "      <th>type_of</th>\n",
       "    </tr>\n",
       "  </thead>\n",
       "  <tbody>\n",
       "    <tr>\n",
       "      <th>0</th>\n",
       "      <td>0</td>\n",
       "      <td>999</td>\n",
       "      <td>0</td>\n",
       "      <td>test</td>\n",
       "    </tr>\n",
       "    <tr>\n",
       "      <th>1</th>\n",
       "      <td>0</td>\n",
       "      <td>999</td>\n",
       "      <td>-1</td>\n",
       "      <td>test</td>\n",
       "    </tr>\n",
       "    <tr>\n",
       "      <th>2</th>\n",
       "      <td>0</td>\n",
       "      <td>999</td>\n",
       "      <td>1</td>\n",
       "      <td>test</td>\n",
       "    </tr>\n",
       "    <tr>\n",
       "      <th>3</th>\n",
       "      <td>0</td>\n",
       "      <td>999</td>\n",
       "      <td>1</td>\n",
       "      <td>test</td>\n",
       "    </tr>\n",
       "    <tr>\n",
       "      <th>4</th>\n",
       "      <td>0</td>\n",
       "      <td>999</td>\n",
       "      <td>2</td>\n",
       "      <td>test</td>\n",
       "    </tr>\n",
       "    <tr>\n",
       "      <th>...</th>\n",
       "      <td>...</td>\n",
       "      <td>...</td>\n",
       "      <td>...</td>\n",
       "      <td>...</td>\n",
       "    </tr>\n",
       "    <tr>\n",
       "      <th>656095</th>\n",
       "      <td>6560</td>\n",
       "      <td>999</td>\n",
       "      <td>0</td>\n",
       "      <td>test</td>\n",
       "    </tr>\n",
       "    <tr>\n",
       "      <th>656096</th>\n",
       "      <td>6560</td>\n",
       "      <td>999</td>\n",
       "      <td>-1</td>\n",
       "      <td>test</td>\n",
       "    </tr>\n",
       "    <tr>\n",
       "      <th>656097</th>\n",
       "      <td>6560</td>\n",
       "      <td>999</td>\n",
       "      <td>2</td>\n",
       "      <td>test</td>\n",
       "    </tr>\n",
       "    <tr>\n",
       "      <th>656098</th>\n",
       "      <td>6560</td>\n",
       "      <td>999</td>\n",
       "      <td>1</td>\n",
       "      <td>test</td>\n",
       "    </tr>\n",
       "    <tr>\n",
       "      <th>656099</th>\n",
       "      <td>6560</td>\n",
       "      <td>999</td>\n",
       "      <td>1</td>\n",
       "      <td>test</td>\n",
       "    </tr>\n",
       "  </tbody>\n",
       "</table>\n",
       "<p>656100 rows × 4 columns</p>\n",
       "</div>"
      ],
      "text/plain": [
       "          id  phase  pred_phase type_of\n",
       "0          0    999           0    test\n",
       "1          0    999          -1    test\n",
       "2          0    999           1    test\n",
       "3          0    999           1    test\n",
       "4          0    999           2    test\n",
       "...      ...    ...         ...     ...\n",
       "656095  6560    999           0    test\n",
       "656096  6560    999          -1    test\n",
       "656097  6560    999           2    test\n",
       "656098  6560    999           1    test\n",
       "656099  6560    999           1    test\n",
       "\n",
       "[656100 rows x 4 columns]"
      ]
     },
     "execution_count": 29,
     "metadata": {},
     "output_type": "execute_result"
    }
   ],
   "source": [
    "eigen_summary = simulation.eigenvector_summary\n",
    "print(\"length of ham_summary: \", len(eigen_summary))\n",
    "eigen_summary"
   ]
  },
  {
   "cell_type": "markdown",
   "metadata": {
    "papermill": {
     "duration": 0.035814,
     "end_time": "2020-07-10T00:35:30.614881",
     "exception": false,
     "start_time": "2020-07-10T00:35:30.579067",
     "status": "completed"
    },
    "tags": []
   },
   "source": [
    "#### Checking accuracies"
   ]
  },
  {
   "cell_type": "code",
   "execution_count": 30,
   "metadata": {
    "execution": {
     "iopub.execute_input": "2020-07-10T00:35:30.691064Z",
     "iopub.status.busy": "2020-07-10T00:35:30.690750Z",
     "iopub.status.idle": "2020-07-10T00:35:30.700913Z",
     "shell.execute_reply": "2020-07-10T00:35:30.700591Z"
    },
    "papermill": {
     "duration": 0.049048,
     "end_time": "2020-07-10T00:35:30.700963",
     "exception": false,
     "start_time": "2020-07-10T00:35:30.651915",
     "status": "completed"
    },
    "tags": []
   },
   "outputs": [
    {
     "data": {
      "text/plain": [
       "{'eigenvector_train': 0.9996378123868164,\n",
       " 'eigenvector_val': 0.9615434782608696,\n",
       " 'eigenvector_test': 0.6324097788125728,\n",
       " 'hamiltonian_train': 1.0,\n",
       " 'hamiltonian_val': 0.9960144927536232,\n",
       " 'hamiltonian_test': 0.8544819557625145}"
      ]
     },
     "execution_count": 30,
     "metadata": {},
     "output_type": "execute_result"
    }
   ],
   "source": [
    "simulation.accuracy"
   ]
  },
  {
   "cell_type": "markdown",
   "metadata": {
    "papermill": {
     "duration": 0.03632,
     "end_time": "2020-07-10T00:35:30.773657",
     "exception": false,
     "start_time": "2020-07-10T00:35:30.737337",
     "status": "completed"
    },
    "tags": []
   },
   "source": [
    "#### Checking data stored in  memory"
   ]
  },
  {
   "cell_type": "code",
   "execution_count": 31,
   "metadata": {
    "execution": {
     "iopub.execute_input": "2020-07-10T00:35:30.850460Z",
     "iopub.status.busy": "2020-07-10T00:35:30.850152Z",
     "iopub.status.idle": "2020-07-10T00:35:30.860576Z",
     "shell.execute_reply": "2020-07-10T00:35:30.860880Z"
    },
    "papermill": {
     "duration": 0.05026,
     "end_time": "2020-07-10T00:35:30.860943",
     "exception": false,
     "start_time": "2020-07-10T00:35:30.810683",
     "status": "completed"
    },
    "tags": []
   },
   "outputs": [
    {
     "data": {
      "text/plain": [
       "[]"
      ]
     },
     "execution_count": 31,
     "metadata": {},
     "output_type": "execute_result"
    }
   ],
   "source": [
    "ham_summary_list = simulation.hamiltonian_summary_list\n",
    "ham_summary_list"
   ]
  },
  {
   "cell_type": "code",
   "execution_count": 32,
   "metadata": {
    "execution": {
     "iopub.execute_input": "2020-07-10T00:35:30.935838Z",
     "iopub.status.busy": "2020-07-10T00:35:30.935530Z",
     "iopub.status.idle": "2020-07-10T00:35:30.946218Z",
     "shell.execute_reply": "2020-07-10T00:35:30.945894Z"
    },
    "papermill": {
     "duration": 0.048908,
     "end_time": "2020-07-10T00:35:30.946267",
     "exception": false,
     "start_time": "2020-07-10T00:35:30.897359",
     "status": "completed"
    },
    "tags": []
   },
   "outputs": [
    {
     "data": {
      "text/plain": [
       "[]"
      ]
     },
     "execution_count": 32,
     "metadata": {},
     "output_type": "execute_result"
    }
   ],
   "source": [
    "eigen_summary_list = simulation.eigenvector_summary_list\n",
    "eigen_summary_list"
   ]
  },
  {
   "cell_type": "code",
   "execution_count": 33,
   "metadata": {
    "execution": {
     "iopub.execute_input": "2020-07-10T00:35:31.024631Z",
     "iopub.status.busy": "2020-07-10T00:35:31.024305Z",
     "iopub.status.idle": "2020-07-10T00:35:31.034712Z",
     "shell.execute_reply": "2020-07-10T00:35:31.034396Z"
    },
    "papermill": {
     "duration": 0.051124,
     "end_time": "2020-07-10T00:35:31.034763",
     "exception": false,
     "start_time": "2020-07-10T00:35:30.983639",
     "status": "completed"
    },
    "tags": []
   },
   "outputs": [
    {
     "data": {
      "text/plain": [
       "{'eigenvector_train': [],\n",
       " 'eigenvector_val': [],\n",
       " 'eigenvector_test': [],\n",
       " 'hamiltonian_train': [],\n",
       " 'hamiltonian_val': [],\n",
       " 'hamiltonian_test': []}"
      ]
     },
     "execution_count": 33,
     "metadata": {},
     "output_type": "execute_result"
    }
   ],
   "source": [
    "accuracy_list = simulation.accuracy_list\n",
    "accuracy_list"
   ]
  },
  {
   "cell_type": "code",
   "execution_count": null,
   "metadata": {
    "papermill": {
     "duration": 0.036552,
     "end_time": "2020-07-10T00:35:31.108378",
     "exception": false,
     "start_time": "2020-07-10T00:35:31.071826",
     "status": "completed"
    },
    "tags": []
   },
   "outputs": [],
   "source": []
  },
  {
   "cell_type": "code",
   "execution_count": null,
   "metadata": {
    "papermill": {
     "duration": 0.037282,
     "end_time": "2020-07-10T00:35:31.183280",
     "exception": false,
     "start_time": "2020-07-10T00:35:31.145998",
     "status": "completed"
    },
    "tags": []
   },
   "outputs": [],
   "source": []
  },
  {
   "cell_type": "code",
   "execution_count": 34,
   "metadata": {
    "execution": {
     "iopub.execute_input": "2020-07-10T00:35:31.261661Z",
     "iopub.status.busy": "2020-07-10T00:35:31.261353Z",
     "iopub.status.idle": "2020-07-10T00:35:31.271642Z",
     "shell.execute_reply": "2020-07-10T00:35:31.271964Z"
    },
    "papermill": {
     "duration": 0.049214,
     "end_time": "2020-07-10T00:35:31.272031",
     "exception": false,
     "start_time": "2020-07-10T00:35:31.222817",
     "status": "completed"
    },
    "tags": []
   },
   "outputs": [],
   "source": [
    "#simulation.fourier_matrix"
   ]
  },
  {
   "cell_type": "code",
   "execution_count": 35,
   "metadata": {
    "execution": {
     "iopub.execute_input": "2020-07-10T00:35:31.349551Z",
     "iopub.status.busy": "2020-07-10T00:35:31.349060Z",
     "iopub.status.idle": "2020-07-10T00:35:31.358853Z",
     "shell.execute_reply": "2020-07-10T00:35:31.359172Z"
    },
    "papermill": {
     "duration": 0.049625,
     "end_time": "2020-07-10T00:35:31.359239",
     "exception": false,
     "start_time": "2020-07-10T00:35:31.309614",
     "status": "completed"
    },
    "tags": []
   },
   "outputs": [],
   "source": [
    "#simulation.fourier_matrix.shape"
   ]
  },
  {
   "cell_type": "code",
   "execution_count": 36,
   "metadata": {
    "execution": {
     "iopub.execute_input": "2020-07-10T00:35:31.435298Z",
     "iopub.status.busy": "2020-07-10T00:35:31.434804Z",
     "iopub.status.idle": "2020-07-10T00:35:31.445013Z",
     "shell.execute_reply": "2020-07-10T00:35:31.444651Z"
    },
    "papermill": {
     "duration": 0.049066,
     "end_time": "2020-07-10T00:35:31.445069",
     "exception": false,
     "start_time": "2020-07-10T00:35:31.396003",
     "status": "completed"
    },
    "tags": []
   },
   "outputs": [],
   "source": [
    "#simulation.fourier_matrix[:,0]"
   ]
  },
  {
   "cell_type": "code",
   "execution_count": 37,
   "metadata": {
    "execution": {
     "iopub.execute_input": "2020-07-10T00:35:31.523566Z",
     "iopub.status.busy": "2020-07-10T00:35:31.523228Z",
     "iopub.status.idle": "2020-07-10T00:35:31.536432Z",
     "shell.execute_reply": "2020-07-10T00:35:31.536773Z"
    },
    "papermill": {
     "duration": 0.052497,
     "end_time": "2020-07-10T00:35:31.536845",
     "exception": false,
     "start_time": "2020-07-10T00:35:31.484348",
     "status": "completed"
    },
    "tags": []
   },
   "outputs": [],
   "source": [
    "#simulation.fourier_matrix[:,1]"
   ]
  },
  {
   "cell_type": "code",
   "execution_count": 38,
   "metadata": {
    "execution": {
     "iopub.execute_input": "2020-07-10T00:35:31.613594Z",
     "iopub.status.busy": "2020-07-10T00:35:31.613284Z",
     "iopub.status.idle": "2020-07-10T00:35:31.666942Z",
     "shell.execute_reply": "2020-07-10T00:35:31.668377Z"
    },
    "papermill": {
     "duration": 0.094471,
     "end_time": "2020-07-10T00:35:31.668715",
     "exception": false,
     "start_time": "2020-07-10T00:35:31.574244",
     "status": "completed"
    },
    "tags": []
   },
   "outputs": [],
   "source": [
    "#np.exp(-1j*2*np.pi*3/100)"
   ]
  },
  {
   "cell_type": "code",
   "execution_count": 39,
   "metadata": {
    "execution": {
     "iopub.execute_input": "2020-07-10T00:35:31.748461Z",
     "iopub.status.busy": "2020-07-10T00:35:31.748140Z",
     "iopub.status.idle": "2020-07-10T00:35:31.758232Z",
     "shell.execute_reply": "2020-07-10T00:35:31.757891Z"
    },
    "papermill": {
     "duration": 0.050097,
     "end_time": "2020-07-10T00:35:31.758286",
     "exception": false,
     "start_time": "2020-07-10T00:35:31.708189",
     "status": "completed"
    },
    "tags": []
   },
   "outputs": [],
   "source": [
    "#for i in range(1,50):\n",
    "#    print(\"\\n\")\n",
    "#    print(i)\n",
    "#    print(np.sum((np.real(simulation.fourier_matrix[:,i]) - np.real(simulation.fourier_matrix[:,-i]))**2))\n",
    "#    print(np.sum((np.imag(simulation.fourier_matrix[:,i])+ np.imag(simulation.fourier_matrix[:,-i]))**2))"
   ]
  },
  {
   "cell_type": "code",
   "execution_count": 40,
   "metadata": {
    "execution": {
     "iopub.execute_input": "2020-07-10T00:35:31.836000Z",
     "iopub.status.busy": "2020-07-10T00:35:31.835696Z",
     "iopub.status.idle": "2020-07-10T00:35:31.850865Z",
     "shell.execute_reply": "2020-07-10T00:35:31.850526Z"
    },
    "papermill": {
     "duration": 0.054462,
     "end_time": "2020-07-10T00:35:31.850917",
     "exception": false,
     "start_time": "2020-07-10T00:35:31.796455",
     "status": "completed"
    },
    "tags": []
   },
   "outputs": [],
   "source": [
    "#print(simulation.fourier_matrix[:,0])"
   ]
  },
  {
   "cell_type": "code",
   "execution_count": 41,
   "metadata": {
    "execution": {
     "iopub.execute_input": "2020-07-10T00:35:31.929700Z",
     "iopub.status.busy": "2020-07-10T00:35:31.929389Z",
     "iopub.status.idle": "2020-07-10T00:35:31.993221Z",
     "shell.execute_reply": "2020-07-10T00:35:31.994936Z"
    },
    "papermill": {
     "duration": 0.105487,
     "end_time": "2020-07-10T00:35:31.995246",
     "exception": false,
     "start_time": "2020-07-10T00:35:31.889759",
     "status": "completed"
    },
    "tags": []
   },
   "outputs": [],
   "source": [
    "#print(simulation.fourier_matrix[:,50])"
   ]
  },
  {
   "cell_type": "code",
   "execution_count": null,
   "metadata": {
    "papermill": {
     "duration": 0.039612,
     "end_time": "2020-07-10T00:35:32.107758",
     "exception": false,
     "start_time": "2020-07-10T00:35:32.068146",
     "status": "completed"
    },
    "tags": []
   },
   "outputs": [],
   "source": []
  }
 ],
 "metadata": {
  "celltoolbar": "Tags",
  "kernelspec": {
   "display_name": "ml_top_phases",
   "language": "python",
   "name": "ml_top_phases"
  },
  "language_info": {
   "codemirror_mode": {
    "name": "ipython",
    "version": 3
   },
   "file_extension": ".py",
   "mimetype": "text/x-python",
   "name": "python",
   "nbconvert_exporter": "python",
   "pygments_lexer": "ipython3",
   "version": "3.6.10"
  },
  "papermill": {
   "duration": 3004.166229,
   "end_time": "2020-07-10T00:35:32.257414",
   "environment_variables": {},
   "exception": null,
   "input_path": "0_simulation_template.ipynb",
   "output_path": "zzz_simulation_output_ssh2_8th_scenario_100_6561.ipynb",
   "parameters": {
    "allowed_windings": [
     -1,
     0,
     1,
     2
    ],
    "csv_path": "/home/rio/ssh_csvs/ssh2/periodic_100_6561.csv",
    "features_to_use": [
     0,
     1,
     2,
     3,
     4,
     5,
     6,
     7,
     8,
     9,
     10,
     11,
     12,
     13,
     14,
     40,
     42,
     43,
     44,
     45,
     46,
     47,
     48,
     49,
     50
    ],
    "fillna": false,
    "fit_params": null,
    "fourier_features_to_use": [
     0,
     1,
     2,
     3,
     4,
     5,
     6,
     8,
     10,
     12,
     16,
     18,
     26,
     28,
     30,
     32,
     34,
     36,
     38,
     40,
     42,
     44,
     46,
     47,
     48
    ],
    "fourier_fillna": false,
    "fourier_mode": "dct",
    "fourier_normalize": false,
    "fourier_real": null,
    "model_kw": {
     "criterion": "entropy",
     "n_estimators": 25,
     "n_jobs": -1
    },
    "model_name": "RandomForestClassifier",
    "n_experiments": 100,
    "normalize": false,
    "pred_params": null,
    "random_features": false,
    "random_state": 34896,
    "save_accuracy": true,
    "save_eigenvector": true,
    "save_hamiltonian": true,
    "save_models": true,
    "shuffle_features": false,
    "shuffle_rows": true,
    "simulation_dir": "/home/rio/ssh_simulations/ssh2/periodic_8th_scenario_100_6561",
    "start_n": 0,
    "store_in_lists": false,
    "val_split": 0.5
   },
   "start_time": "2020-07-09T23:45:28.091185",
   "version": "2.1.0"
  }
 },
 "nbformat": 4,
 "nbformat_minor": 2
}