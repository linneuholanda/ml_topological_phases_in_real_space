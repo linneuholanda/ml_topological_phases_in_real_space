{
 "cells": [
  {
   "cell_type": "markdown",
   "metadata": {
    "papermill": {
     "duration": 0.017211,
     "end_time": "2020-07-18T05:42:56.390954",
     "exception": false,
     "start_time": "2020-07-18T05:42:56.373743",
     "status": "completed"
    },
    "tags": []
   },
   "source": [
    "# Simulation template \n",
    "\n",
    "In this notebook we run the machine learning analysis of topological phase transitions occurring  in both nearest-neighbours SSH models (ssh1) and second neighbours models (ssh2) as decribed in the paper [Machine learning topological phases in real space](https://arxiv.org/abs/1901.01963). Here the simulation is run with features generated from fourier components in the first scenario. This scenario is characterized by using only the EVEN wavevector space eigenmodes, computed from ALL real space components."
   ]
  },
  {
   "cell_type": "markdown",
   "metadata": {
    "papermill": {
     "duration": 0.016387,
     "end_time": "2020-07-18T05:42:56.439907",
     "exception": false,
     "start_time": "2020-07-18T05:42:56.423520",
     "status": "completed"
    },
    "tags": []
   },
   "source": [
    "## Defining parameters"
   ]
  },
  {
   "cell_type": "code",
   "execution_count": 1,
   "metadata": {
    "execution": {
     "iopub.execute_input": "2020-07-18T05:42:56.478087Z",
     "iopub.status.busy": "2020-07-18T05:42:56.477741Z",
     "iopub.status.idle": "2020-07-18T05:42:57.083531Z",
     "shell.execute_reply": "2020-07-18T05:42:57.083201Z"
    },
    "papermill": {
     "duration": 0.626705,
     "end_time": "2020-07-18T05:42:57.083588",
     "exception": false,
     "start_time": "2020-07-18T05:42:56.456883",
     "status": "completed"
    },
    "tags": []
   },
   "outputs": [
    {
     "name": "stdout",
     "output_type": "stream",
     "text": [
      "CPU times: user 730 ms, sys: 272 ms, total: 1 s\n",
      "Wall time: 599 ms\n"
     ]
    }
   ],
   "source": [
    "%%time\n",
    "%load_ext autoreload\n",
    "%autoreload 2\n",
    "from simulation import *"
   ]
  },
  {
   "cell_type": "code",
   "execution_count": 2,
   "metadata": {
    "execution": {
     "iopub.execute_input": "2020-07-18T05:42:57.120046Z",
     "iopub.status.busy": "2020-07-18T05:42:57.119725Z",
     "iopub.status.idle": "2020-07-18T05:42:57.131450Z",
     "shell.execute_reply": "2020-07-18T05:42:57.131750Z"
    },
    "papermill": {
     "duration": 0.03104,
     "end_time": "2020-07-18T05:42:57.131816",
     "exception": false,
     "start_time": "2020-07-18T05:42:57.100776",
     "status": "completed"
    },
    "tags": [
     "parameters"
    ]
   },
   "outputs": [
    {
     "name": "stdout",
     "output_type": "stream",
     "text": [
      "CPU times: user 3 µs, sys: 0 ns, total: 3 µs\n",
      "Wall time: 4.77 µs\n"
     ]
    }
   ],
   "source": [
    "%%time\n",
    "### Dataset and simulation parameters\n",
    "#csv_path = SSH2_PERIODIC_100_6561_CSV \n",
    "csv_path = SSH1_PERIODIC_100_6561_CSV \n",
    "model_name = \"DecisionTreeClassifier\"\n",
    "model_kw = {\"criterion\":\"entropy\"}\n",
    "allowed_windings = [0,1]\n",
    "#allowed_windings = [-1,0,1,2]\n",
    "simulation_dir = SSH1_REAL_SPACE_ALL_SITES\n",
    "#simulation_dir = SSH2_PERIODIC_ENGINEERED_100_6561_SIMULATION_DIR\n",
    "val_split = 0.9  \n",
    "features_to_use = None\n",
    "shuffle_features = False\n",
    "random_state = 763\n",
    "\n",
    "### Fourier features\n",
    "fourier_mode = \"dst\"\n",
    "fourier_features_to_use = None\n",
    "fourier_real = \"imag\"\n",
    "fourier_normalize = False\n",
    "fourier_fillna = False\n",
    "\n",
    "### Running a simulation\n",
    "n_experiments = 5\n",
    "start_n = 0\n",
    "fit_params = None\n",
    "#mode=mode\n",
    "shuffle_rows = True\n",
    "pred_params = None\n",
    "random_features = False\n",
    "######### DON'T SET THIS TO TRUE UNLESS YOUR DATASET IS SMALL!! WILL FLOOD YOUR MEMORY!!!\n",
    "store_in_lists = False   \n",
    "########## BELOW ARE THE PARAMETERS THAT CONTROL WHAT WILL BE SAVED\n",
    "save_eigenvector=True\n",
    "save_hamiltonian=True \n",
    "save_accuracy=True \n",
    "save_models=True"
   ]
  },
  {
   "cell_type": "code",
   "execution_count": 3,
   "metadata": {
    "execution": {
     "iopub.execute_input": "2020-07-18T05:42:57.169131Z",
     "iopub.status.busy": "2020-07-18T05:42:57.168814Z",
     "iopub.status.idle": "2020-07-18T05:42:57.267940Z",
     "shell.execute_reply": "2020-07-18T05:42:57.266177Z"
    },
    "papermill": {
     "duration": 0.119723,
     "end_time": "2020-07-18T05:42:57.268187",
     "exception": false,
     "start_time": "2020-07-18T05:42:57.148464",
     "status": "completed"
    },
    "tags": [
     "injected-parameters"
    ]
   },
   "outputs": [],
   "source": [
    "# Parameters\n",
    "model_kw = {\"criterion\": \"entropy\"}\n",
    "allowed_windings = [0, 1]\n",
    "val_split = 0.9\n",
    "features_to_use = None\n",
    "shuffle_features = False\n",
    "n_experiments = 100\n",
    "start_n = 0\n",
    "fit_params = None\n",
    "shuffle_rows = True\n",
    "pred_params = None\n",
    "random_features = False\n",
    "store_in_lists = False\n",
    "save_eigenvector = True\n",
    "save_hamiltonian = True\n",
    "save_accuracy = True\n",
    "save_models = True\n",
    "csv_path = \"/home/rio/ssh_csvs/ssh1/periodic_100_6561.csv\"\n",
    "model_name = \"DecisionTreeClassifier\"\n",
    "simulation_dir = (\n",
    "    \"/home/rio/ssh_simulations/ssh1/periodic_100_6561/dst_all_wavevector_sites\"\n",
    ")\n",
    "random_state = 1018\n",
    "fourier_features_to_use = None\n",
    "fourier_mode = \"dst\"\n",
    "fourier_real = None\n",
    "fourier_normalize = False\n",
    "fourier_fillna = False\n"
   ]
  },
  {
   "cell_type": "code",
   "execution_count": 4,
   "metadata": {
    "execution": {
     "iopub.execute_input": "2020-07-18T05:42:57.307113Z",
     "iopub.status.busy": "2020-07-18T05:42:57.306789Z",
     "iopub.status.idle": "2020-07-18T05:43:03.118349Z",
     "shell.execute_reply": "2020-07-18T05:43:03.118032Z"
    },
    "papermill": {
     "duration": 5.831996,
     "end_time": "2020-07-18T05:43:03.118401",
     "exception": false,
     "start_time": "2020-07-18T05:42:57.286405",
     "status": "completed"
    },
    "tags": []
   },
   "outputs": [
    {
     "name": "stdout",
     "output_type": "stream",
     "text": [
      "Info on all data: \n",
      "\n",
      "<class 'pandas.core.frame.DataFrame'>\n",
      "Int64Index: 656100 entries, 0 to 656099\n",
      "Columns: 108 entries, id to feat99\n",
      "dtypes: float64(103), int32(3), object(2)\n",
      "memory usage: 538.1+ MB\n",
      "CPU times: user 5.95 s, sys: 617 ms, total: 6.56 s\n",
      "Wall time: 5.74 s\n"
     ]
    },
    {
     "data": {
      "text/html": [
       "<div>\n",
       "<style scoped>\n",
       "    .dataframe tbody tr th:only-of-type {\n",
       "        vertical-align: middle;\n",
       "    }\n",
       "\n",
       "    .dataframe tbody tr th {\n",
       "        vertical-align: top;\n",
       "    }\n",
       "\n",
       "    .dataframe thead th {\n",
       "        text-align: right;\n",
       "    }\n",
       "</style>\n",
       "<table border=\"1\" class=\"dataframe\">\n",
       "  <thead>\n",
       "    <tr style=\"text-align: right;\">\n",
       "      <th></th>\n",
       "      <th>id</th>\n",
       "      <th>path</th>\n",
       "      <th>t1</th>\n",
       "      <th>t2</th>\n",
       "      <th>winding</th>\n",
       "      <th>phase</th>\n",
       "      <th>pred_phase</th>\n",
       "      <th>type_of</th>\n",
       "      <th>feat0</th>\n",
       "      <th>feat1</th>\n",
       "      <th>...</th>\n",
       "      <th>feat90</th>\n",
       "      <th>feat91</th>\n",
       "      <th>feat92</th>\n",
       "      <th>feat93</th>\n",
       "      <th>feat94</th>\n",
       "      <th>feat95</th>\n",
       "      <th>feat96</th>\n",
       "      <th>feat97</th>\n",
       "      <th>feat98</th>\n",
       "      <th>feat99</th>\n",
       "    </tr>\n",
       "  </thead>\n",
       "  <tbody>\n",
       "    <tr>\n",
       "      <th>0</th>\n",
       "      <td>0</td>\n",
       "      <td>H_-2_-2_0.509296.dat</td>\n",
       "      <td>-2.0</td>\n",
       "      <td>-2.0</td>\n",
       "      <td>0.509296</td>\n",
       "      <td>999</td>\n",
       "      <td>666</td>\n",
       "      <td>test</td>\n",
       "      <td>0.100000</td>\n",
       "      <td>0.100000</td>\n",
       "      <td>...</td>\n",
       "      <td>0.100000</td>\n",
       "      <td>0.100000</td>\n",
       "      <td>0.100000</td>\n",
       "      <td>0.100000</td>\n",
       "      <td>0.100000</td>\n",
       "      <td>0.100000</td>\n",
       "      <td>0.100000</td>\n",
       "      <td>0.100000</td>\n",
       "      <td>0.100000</td>\n",
       "      <td>0.100000</td>\n",
       "    </tr>\n",
       "    <tr>\n",
       "      <th>1</th>\n",
       "      <td>0</td>\n",
       "      <td>H_-2_-2_0.509296.dat</td>\n",
       "      <td>-2.0</td>\n",
       "      <td>-2.0</td>\n",
       "      <td>0.509296</td>\n",
       "      <td>999</td>\n",
       "      <td>666</td>\n",
       "      <td>test</td>\n",
       "      <td>0.141421</td>\n",
       "      <td>0.141142</td>\n",
       "      <td>...</td>\n",
       "      <td>0.114412</td>\n",
       "      <td>0.108967</td>\n",
       "      <td>0.123928</td>\n",
       "      <td>0.119406</td>\n",
       "      <td>0.131490</td>\n",
       "      <td>0.127962</td>\n",
       "      <td>0.136978</td>\n",
       "      <td>0.134500</td>\n",
       "      <td>0.140306</td>\n",
       "      <td>0.138916</td>\n",
       "    </tr>\n",
       "    <tr>\n",
       "      <th>2</th>\n",
       "      <td>0</td>\n",
       "      <td>H_-2_-2_0.509296.dat</td>\n",
       "      <td>-2.0</td>\n",
       "      <td>-2.0</td>\n",
       "      <td>0.509296</td>\n",
       "      <td>999</td>\n",
       "      <td>666</td>\n",
       "      <td>test</td>\n",
       "      <td>0.141421</td>\n",
       "      <td>0.140306</td>\n",
       "      <td>...</td>\n",
       "      <td>0.043702</td>\n",
       "      <td>0.026500</td>\n",
       "      <td>0.075777</td>\n",
       "      <td>0.060214</td>\n",
       "      <td>0.103092</td>\n",
       "      <td>0.090145</td>\n",
       "      <td>0.123928</td>\n",
       "      <td>0.114412</td>\n",
       "      <td>0.136978</td>\n",
       "      <td>0.131490</td>\n",
       "    </tr>\n",
       "    <tr>\n",
       "      <th>3</th>\n",
       "      <td>0</td>\n",
       "      <td>H_-2_-2_0.509296.dat</td>\n",
       "      <td>-2.0</td>\n",
       "      <td>-2.0</td>\n",
       "      <td>0.509296</td>\n",
       "      <td>999</td>\n",
       "      <td>666</td>\n",
       "      <td>test</td>\n",
       "      <td>-0.100000</td>\n",
       "      <td>0.100000</td>\n",
       "      <td>...</td>\n",
       "      <td>-0.100000</td>\n",
       "      <td>0.100000</td>\n",
       "      <td>-0.100000</td>\n",
       "      <td>0.100000</td>\n",
       "      <td>-0.100000</td>\n",
       "      <td>0.100000</td>\n",
       "      <td>-0.100000</td>\n",
       "      <td>0.100000</td>\n",
       "      <td>-0.100000</td>\n",
       "      <td>0.100000</td>\n",
       "    </tr>\n",
       "    <tr>\n",
       "      <th>4</th>\n",
       "      <td>0</td>\n",
       "      <td>H_-2_-2_0.509296.dat</td>\n",
       "      <td>-2.0</td>\n",
       "      <td>-2.0</td>\n",
       "      <td>0.509296</td>\n",
       "      <td>999</td>\n",
       "      <td>666</td>\n",
       "      <td>test</td>\n",
       "      <td>0.000509</td>\n",
       "      <td>-0.008372</td>\n",
       "      <td>...</td>\n",
       "      <td>-0.082713</td>\n",
       "      <td>-0.089753</td>\n",
       "      <td>-0.067684</td>\n",
       "      <td>-0.075347</td>\n",
       "      <td>-0.051587</td>\n",
       "      <td>-0.059753</td>\n",
       "      <td>-0.034677</td>\n",
       "      <td>-0.043217</td>\n",
       "      <td>-0.017220</td>\n",
       "      <td>-0.026000</td>\n",
       "    </tr>\n",
       "  </tbody>\n",
       "</table>\n",
       "<p>5 rows × 108 columns</p>\n",
       "</div>"
      ],
      "text/plain": [
       "   id                  path   t1   t2   winding  phase  pred_phase type_of  \\\n",
       "0   0  H_-2_-2_0.509296.dat -2.0 -2.0  0.509296    999         666    test   \n",
       "1   0  H_-2_-2_0.509296.dat -2.0 -2.0  0.509296    999         666    test   \n",
       "2   0  H_-2_-2_0.509296.dat -2.0 -2.0  0.509296    999         666    test   \n",
       "3   0  H_-2_-2_0.509296.dat -2.0 -2.0  0.509296    999         666    test   \n",
       "4   0  H_-2_-2_0.509296.dat -2.0 -2.0  0.509296    999         666    test   \n",
       "\n",
       "      feat0     feat1  ...    feat90    feat91    feat92    feat93    feat94  \\\n",
       "0  0.100000  0.100000  ...  0.100000  0.100000  0.100000  0.100000  0.100000   \n",
       "1  0.141421  0.141142  ...  0.114412  0.108967  0.123928  0.119406  0.131490   \n",
       "2  0.141421  0.140306  ...  0.043702  0.026500  0.075777  0.060214  0.103092   \n",
       "3 -0.100000  0.100000  ... -0.100000  0.100000 -0.100000  0.100000 -0.100000   \n",
       "4  0.000509 -0.008372  ... -0.082713 -0.089753 -0.067684 -0.075347 -0.051587   \n",
       "\n",
       "     feat95    feat96    feat97    feat98    feat99  \n",
       "0  0.100000  0.100000  0.100000  0.100000  0.100000  \n",
       "1  0.127962  0.136978  0.134500  0.140306  0.138916  \n",
       "2  0.090145  0.123928  0.114412  0.136978  0.131490  \n",
       "3  0.100000 -0.100000  0.100000 -0.100000  0.100000  \n",
       "4 -0.059753 -0.034677 -0.043217 -0.017220 -0.026000  \n",
       "\n",
       "[5 rows x 108 columns]"
      ]
     },
     "execution_count": 4,
     "metadata": {},
     "output_type": "execute_result"
    }
   ],
   "source": [
    "%%time\n",
    "#Starting an instance of Simulation with a decision tree\n",
    "model = DecisionTreeClassifier(criterion=\"entropy\")\n",
    "#dict_args = {\"csv_path\":csv_path, \"model\":model, \"allowed_windings\":allowed_windings,\\\n",
    "#             \"simulation_dir\":simulation_dir, \"val_split\":val_split, \"features_to_use\":features_to_use,\\\n",
    "#            \"shuffle_features\":shuffle_features, \"random_state\":random_state}\n",
    "simulation = Simulation(csv_path,model_name,model_kw,allowed_windings,simulation_dir,val_split,features_to_use,\\\n",
    "                       shuffle_features,fourier_mode,fourier_features_to_use,fourier_real,\\\n",
    "                       fourier_normalize, fourier_fillna , random_state)\n",
    "#simulation = Simulation(**dict_args)\n",
    "\n",
    "\n",
    "#(self, csv_path, model_name, model_kw, allowed_windings, simulation_dir = None, val_split = 0, \n",
    "# features_to_use = None, shuffle_features = False, fourier_mode=None, fourier_features_to_use=None,\n",
    "# fourier_real = False, fourier_normalize = False, Fourier_fillna=False, random_state = None):\n",
    "\n",
    "\n",
    "\n",
    "print(\"Info on all data: \\n\")\n",
    "simulation.dataframe.info()\n",
    "simulation.dataframe.head()"
   ]
  },
  {
   "cell_type": "markdown",
   "metadata": {
    "papermill": {
     "duration": 0.022782,
     "end_time": "2020-07-18T05:43:03.158838",
     "exception": false,
     "start_time": "2020-07-18T05:43:03.136056",
     "status": "completed"
    },
    "tags": []
   },
   "source": [
    "####  Fourier features"
   ]
  },
  {
   "cell_type": "code",
   "execution_count": 5,
   "metadata": {
    "execution": {
     "iopub.execute_input": "2020-07-18T05:43:03.197147Z",
     "iopub.status.busy": "2020-07-18T05:43:03.196829Z",
     "iopub.status.idle": "2020-07-18T05:43:03.392090Z",
     "shell.execute_reply": "2020-07-18T05:43:03.391771Z"
    },
    "papermill": {
     "duration": 0.214618,
     "end_time": "2020-07-18T05:43:03.392141",
     "exception": false,
     "start_time": "2020-07-18T05:43:03.177523",
     "status": "completed"
    },
    "tags": []
   },
   "outputs": [
    {
     "name": "stdout",
     "output_type": "stream",
     "text": [
      "<class 'pandas.core.frame.DataFrame'>\n",
      "Int64Index: 656100 entries, 0 to 656099\n",
      "Data columns (total 57 columns):\n",
      " #   Column      Non-Null Count   Dtype  \n",
      "---  ------      --------------   -----  \n",
      " 0   id          656100 non-null  int32  \n",
      " 1   path        656100 non-null  object \n",
      " 2   t1          656100 non-null  float64\n",
      " 3   t2          656100 non-null  float64\n",
      " 4   winding     656100 non-null  float64\n",
      " 5   phase       656100 non-null  int32  \n",
      " 6   pred_phase  656100 non-null  int32  \n",
      " 7   type_of     656100 non-null  object \n",
      " 8   dst_feat0   656100 non-null  float64\n",
      " 9   dst_feat1   656100 non-null  float64\n",
      " 10  dst_feat2   656100 non-null  float64\n",
      " 11  dst_feat3   656100 non-null  float64\n",
      " 12  dst_feat4   656100 non-null  float64\n",
      " 13  dst_feat5   656100 non-null  float64\n",
      " 14  dst_feat6   656100 non-null  float64\n",
      " 15  dst_feat7   656100 non-null  float64\n",
      " 16  dst_feat8   656100 non-null  float64\n",
      " 17  dst_feat9   656100 non-null  float64\n",
      " 18  dst_feat10  656100 non-null  float64\n",
      " 19  dst_feat11  656100 non-null  float64\n",
      " 20  dst_feat12  656100 non-null  float64\n",
      " 21  dst_feat13  656100 non-null  float64\n",
      " 22  dst_feat14  656100 non-null  float64\n",
      " 23  dst_feat15  656100 non-null  float64\n",
      " 24  dst_feat16  656100 non-null  float64\n",
      " 25  dst_feat17  656100 non-null  float64\n",
      " 26  dst_feat18  656100 non-null  float64\n",
      " 27  dst_feat19  656100 non-null  float64\n",
      " 28  dst_feat20  656100 non-null  float64\n",
      " 29  dst_feat21  656100 non-null  float64\n",
      " 30  dst_feat22  656100 non-null  float64\n",
      " 31  dst_feat23  656100 non-null  float64\n",
      " 32  dst_feat24  656100 non-null  float64\n",
      " 33  dst_feat25  656100 non-null  float64\n",
      " 34  dst_feat26  656100 non-null  float64\n",
      " 35  dst_feat27  656100 non-null  float64\n",
      " 36  dst_feat28  656100 non-null  float64\n",
      " 37  dst_feat29  656100 non-null  float64\n",
      " 38  dst_feat30  656100 non-null  float64\n",
      " 39  dst_feat31  656100 non-null  float64\n",
      " 40  dst_feat32  656100 non-null  float64\n",
      " 41  dst_feat33  656100 non-null  float64\n",
      " 42  dst_feat34  656100 non-null  float64\n",
      " 43  dst_feat35  656100 non-null  float64\n",
      " 44  dst_feat36  656100 non-null  float64\n",
      " 45  dst_feat37  656100 non-null  float64\n",
      " 46  dst_feat38  656100 non-null  float64\n",
      " 47  dst_feat39  656100 non-null  float64\n",
      " 48  dst_feat40  656100 non-null  float64\n",
      " 49  dst_feat41  656100 non-null  float64\n",
      " 50  dst_feat42  656100 non-null  float64\n",
      " 51  dst_feat43  656100 non-null  float64\n",
      " 52  dst_feat44  656100 non-null  float64\n",
      " 53  dst_feat45  656100 non-null  float64\n",
      " 54  dst_feat46  656100 non-null  float64\n",
      " 55  dst_feat47  656100 non-null  float64\n",
      " 56  dst_feat48  656100 non-null  float64\n",
      "dtypes: float64(52), int32(3), object(2)\n",
      "memory usage: 282.8+ MB\n",
      "CPU times: user 165 ms, sys: 20.2 ms, total: 185 ms\n",
      "Wall time: 185 ms\n"
     ]
    }
   ],
   "source": [
    "%%time\n",
    "#simulation.generate_fourier_df()\n",
    "if simulation.fourier_mode is not None:\n",
    "    simulation.fourier_dataframe.info() \n",
    "    simulation.fourier_dataframe.sample(15)\n"
   ]
  },
  {
   "cell_type": "code",
   "execution_count": 6,
   "metadata": {
    "execution": {
     "iopub.execute_input": "2020-07-18T05:43:03.433476Z",
     "iopub.status.busy": "2020-07-18T05:43:03.433134Z",
     "iopub.status.idle": "2020-07-18T05:43:03.445938Z",
     "shell.execute_reply": "2020-07-18T05:43:03.446190Z"
    },
    "papermill": {
     "duration": 0.035965,
     "end_time": "2020-07-18T05:43:03.446255",
     "exception": false,
     "start_time": "2020-07-18T05:43:03.410290",
     "status": "completed"
    },
    "tags": []
   },
   "outputs": [
    {
     "name": "stdout",
     "output_type": "stream",
     "text": [
      "features_to_use: \n",
      "\n",
      "\n",
      "None\n",
      "\n",
      "\n",
      "fourier_features: \n",
      "\n",
      "\n",
      "['dst_feat0', 'dst_feat1', 'dst_feat2', 'dst_feat3', 'dst_feat4', 'dst_feat5', 'dst_feat6', 'dst_feat7', 'dst_feat8', 'dst_feat9', 'dst_feat10', 'dst_feat11', 'dst_feat12', 'dst_feat13', 'dst_feat14', 'dst_feat15', 'dst_feat16', 'dst_feat17', 'dst_feat18', 'dst_feat19', 'dst_feat20', 'dst_feat21', 'dst_feat22', 'dst_feat23', 'dst_feat24', 'dst_feat25', 'dst_feat26', 'dst_feat27', 'dst_feat28', 'dst_feat29', 'dst_feat30', 'dst_feat31', 'dst_feat32', 'dst_feat33', 'dst_feat34', 'dst_feat35', 'dst_feat36', 'dst_feat37', 'dst_feat38', 'dst_feat39', 'dst_feat40', 'dst_feat41', 'dst_feat42', 'dst_feat43', 'dst_feat44', 'dst_feat45', 'dst_feat46', 'dst_feat47', 'dst_feat48']\n",
      "\n",
      "\n",
      "Number of Fourier features: \n",
      "\n",
      "\n",
      "49\n",
      "\n",
      "\n",
      "Fourier operator: \n",
      "[[ 0.12558104  0.25066647  0.37476263 ...  0.37476263  0.25066647\n",
      "   0.12558104]\n",
      " [ 0.25066647  0.49737977  0.73624911 ... -0.73624911 -0.49737977\n",
      "  -0.25066647]\n",
      " [ 0.37476263  0.73624911  1.07165359 ...  1.07165359  0.73624911\n",
      "   0.37476263]\n",
      " ...\n",
      " [ 0.37476263 -0.73624911  1.07165359 ...  1.07165359 -0.73624911\n",
      "   0.37476263]\n",
      " [ 0.25066647 -0.49737977  0.73624911 ... -0.73624911  0.49737977\n",
      "  -0.25066647]\n",
      " [ 0.12558104 -0.25066647  0.37476263 ...  0.37476263 -0.25066647\n",
      "   0.12558104]]\n",
      "\n",
      "\n",
      "Shape of Fourier operator: \n",
      "(49, 49)\n"
     ]
    }
   ],
   "source": [
    "print(\"features_to_use: \")\n",
    "print(\"\\n\")\n",
    "print(simulation.features_to_use)\n",
    "if simulation.features_to_use is not None:\n",
    "    print(\"Number of real space features:\")\n",
    "    print(\"\\n\")\n",
    "    print(len(simulation.features_to_use))\n",
    "print(\"\\n\")\n",
    "print(\"fourier_features: \")\n",
    "print(\"\\n\")\n",
    "print(simulation.fourier_features)\n",
    "print(\"\\n\")\n",
    "if simulation.fourier_features is not None:\n",
    "    print(\"Number of Fourier features: \")\n",
    "    print(\"\\n\")\n",
    "    print(len(simulation.fourier_features))\n",
    "print(\"\\n\")\n",
    "print(\"Fourier operator: \")\n",
    "print(simulation.fourier_operator)\n",
    "print(\"\\n\")\n",
    "if simulation.fourier_operator is not None:\n",
    "    print(\"Shape of Fourier operator: \")\n",
    "    print(simulation.fourier_operator.shape)"
   ]
  },
  {
   "cell_type": "code",
   "execution_count": 7,
   "metadata": {
    "execution": {
     "iopub.execute_input": "2020-07-18T05:43:03.497395Z",
     "iopub.status.busy": "2020-07-18T05:43:03.497088Z",
     "iopub.status.idle": "2020-07-18T05:43:03.575089Z",
     "shell.execute_reply": "2020-07-18T05:43:03.576120Z"
    },
    "papermill": {
     "duration": 0.112442,
     "end_time": "2020-07-18T05:43:03.576436",
     "exception": false,
     "start_time": "2020-07-18T05:43:03.463994",
     "status": "completed"
    },
    "tags": []
   },
   "outputs": [],
   "source": [
    "#a = np.array([1+1j,2+3j,4+8j])\n",
    "#np.imag(a)"
   ]
  },
  {
   "cell_type": "code",
   "execution_count": 8,
   "metadata": {
    "execution": {
     "iopub.execute_input": "2020-07-18T05:43:03.663074Z",
     "iopub.status.busy": "2020-07-18T05:43:03.662764Z",
     "iopub.status.idle": "2020-07-18T05:43:03.677003Z",
     "shell.execute_reply": "2020-07-18T05:43:03.676661Z"
    },
    "papermill": {
     "duration": 0.042634,
     "end_time": "2020-07-18T05:43:03.677056",
     "exception": false,
     "start_time": "2020-07-18T05:43:03.634422",
     "status": "completed"
    },
    "tags": []
   },
   "outputs": [],
   "source": [
    "#plt.plot(np.imag(simulation.fourier_operator[:,0]))"
   ]
  },
  {
   "cell_type": "code",
   "execution_count": 9,
   "metadata": {
    "execution": {
     "iopub.execute_input": "2020-07-18T05:43:03.714825Z",
     "iopub.status.busy": "2020-07-18T05:43:03.714403Z",
     "iopub.status.idle": "2020-07-18T05:43:03.771583Z",
     "shell.execute_reply": "2020-07-18T05:43:03.769812Z"
    },
    "papermill": {
     "duration": 0.077084,
     "end_time": "2020-07-18T05:43:03.771830",
     "exception": false,
     "start_time": "2020-07-18T05:43:03.694746",
     "status": "completed"
    },
    "tags": []
   },
   "outputs": [],
   "source": [
    "#np.sin(np.pi/(50))*2"
   ]
  },
  {
   "cell_type": "code",
   "execution_count": 10,
   "metadata": {
    "execution": {
     "iopub.execute_input": "2020-07-18T05:43:03.843781Z",
     "iopub.status.busy": "2020-07-18T05:43:03.843449Z",
     "iopub.status.idle": "2020-07-18T05:43:03.854901Z",
     "shell.execute_reply": "2020-07-18T05:43:03.854549Z"
    },
    "papermill": {
     "duration": 0.033145,
     "end_time": "2020-07-18T05:43:03.854956",
     "exception": false,
     "start_time": "2020-07-18T05:43:03.821811",
     "status": "completed"
    },
    "tags": []
   },
   "outputs": [],
   "source": [
    "#2*np.sin(np.pi/50*49)"
   ]
  },
  {
   "cell_type": "code",
   "execution_count": 11,
   "metadata": {
    "execution": {
     "iopub.execute_input": "2020-07-18T05:43:03.893561Z",
     "iopub.status.busy": "2020-07-18T05:43:03.893179Z",
     "iopub.status.idle": "2020-07-18T05:43:03.946970Z",
     "shell.execute_reply": "2020-07-18T05:43:03.945234Z"
    },
    "papermill": {
     "duration": 0.074163,
     "end_time": "2020-07-18T05:43:03.947219",
     "exception": false,
     "start_time": "2020-07-18T05:43:03.873056",
     "status": "completed"
    },
    "tags": []
   },
   "outputs": [],
   "source": [
    "#simulation.dataframe.iloc[331456,:]"
   ]
  },
  {
   "cell_type": "code",
   "execution_count": 12,
   "metadata": {
    "execution": {
     "iopub.execute_input": "2020-07-18T05:43:03.986973Z",
     "iopub.status.busy": "2020-07-18T05:43:03.986659Z",
     "iopub.status.idle": "2020-07-18T05:43:03.996338Z",
     "shell.execute_reply": "2020-07-18T05:43:03.996062Z"
    },
    "papermill": {
     "duration": 0.029375,
     "end_time": "2020-07-18T05:43:03.996400",
     "exception": false,
     "start_time": "2020-07-18T05:43:03.967025",
     "status": "completed"
    },
    "tags": []
   },
   "outputs": [],
   "source": [
    "#for ix, obj in enumerate(simulation.dataframe.iloc[331456,:].values):\n",
    "#    print(ix,obj)"
   ]
  },
  {
   "cell_type": "code",
   "execution_count": 13,
   "metadata": {
    "execution": {
     "iopub.execute_input": "2020-07-18T05:43:04.034429Z",
     "iopub.status.busy": "2020-07-18T05:43:04.034121Z",
     "iopub.status.idle": "2020-07-18T05:43:04.096691Z",
     "shell.execute_reply": "2020-07-18T05:43:04.094903Z"
    },
    "papermill": {
     "duration": 0.082649,
     "end_time": "2020-07-18T05:43:04.096939",
     "exception": false,
     "start_time": "2020-07-18T05:43:04.014290",
     "status": "completed"
    },
    "tags": []
   },
   "outputs": [],
   "source": [
    "#simulation.fourier_engineered_dataframe.dct_feat0"
   ]
  },
  {
   "cell_type": "code",
   "execution_count": 14,
   "metadata": {
    "execution": {
     "iopub.execute_input": "2020-07-18T05:43:04.173089Z",
     "iopub.status.busy": "2020-07-18T05:43:04.172780Z",
     "iopub.status.idle": "2020-07-18T05:43:04.182487Z",
     "shell.execute_reply": "2020-07-18T05:43:04.182162Z"
    },
    "papermill": {
     "duration": 0.031492,
     "end_time": "2020-07-18T05:43:04.182539",
     "exception": false,
     "start_time": "2020-07-18T05:43:04.151047",
     "status": "completed"
    },
    "tags": []
   },
   "outputs": [],
   "source": [
    "#simulation.features"
   ]
  },
  {
   "cell_type": "code",
   "execution_count": 15,
   "metadata": {
    "execution": {
     "iopub.execute_input": "2020-07-18T05:43:04.221370Z",
     "iopub.status.busy": "2020-07-18T05:43:04.221062Z",
     "iopub.status.idle": "2020-07-18T05:43:04.272177Z",
     "shell.execute_reply": "2020-07-18T05:43:04.271723Z"
    },
    "papermill": {
     "duration": 0.071866,
     "end_time": "2020-07-18T05:43:04.272246",
     "exception": false,
     "start_time": "2020-07-18T05:43:04.200380",
     "status": "completed"
    },
    "tags": []
   },
   "outputs": [],
   "source": [
    "#simulation.fourier_matrix"
   ]
  },
  {
   "cell_type": "code",
   "execution_count": 16,
   "metadata": {
    "execution": {
     "iopub.execute_input": "2020-07-18T05:43:04.318449Z",
     "iopub.status.busy": "2020-07-18T05:43:04.317943Z",
     "iopub.status.idle": "2020-07-18T05:43:04.336936Z",
     "shell.execute_reply": "2020-07-18T05:43:04.337205Z"
    },
    "papermill": {
     "duration": 0.040097,
     "end_time": "2020-07-18T05:43:04.337278",
     "exception": false,
     "start_time": "2020-07-18T05:43:04.297181",
     "status": "completed"
    },
    "tags": []
   },
   "outputs": [],
   "source": [
    "#1/simulation.n_features*simulation.dataframe.loc[:,simulation.features].sum(axis=1)"
   ]
  },
  {
   "cell_type": "code",
   "execution_count": 17,
   "metadata": {
    "execution": {
     "iopub.execute_input": "2020-07-18T05:43:04.376343Z",
     "iopub.status.busy": "2020-07-18T05:43:04.375963Z",
     "iopub.status.idle": "2020-07-18T05:43:04.430862Z",
     "shell.execute_reply": "2020-07-18T05:43:04.430333Z"
    },
    "papermill": {
     "duration": 0.075745,
     "end_time": "2020-07-18T05:43:04.430939",
     "exception": false,
     "start_time": "2020-07-18T05:43:04.355194",
     "status": "completed"
    },
    "tags": []
   },
   "outputs": [],
   "source": [
    "#df_2 = simulation.fourier_engineered_dataframe[simulation.fourier_engineered_dataframe.phase==2]\n",
    "#df_2.describe()"
   ]
  },
  {
   "cell_type": "code",
   "execution_count": 18,
   "metadata": {
    "execution": {
     "iopub.execute_input": "2020-07-18T05:43:04.490492Z",
     "iopub.status.busy": "2020-07-18T05:43:04.490178Z",
     "iopub.status.idle": "2020-07-18T05:43:04.499734Z",
     "shell.execute_reply": "2020-07-18T05:43:04.499456Z"
    },
    "papermill": {
     "duration": 0.034726,
     "end_time": "2020-07-18T05:43:04.499790",
     "exception": false,
     "start_time": "2020-07-18T05:43:04.465064",
     "status": "completed"
    },
    "tags": []
   },
   "outputs": [],
   "source": [
    "#df_1 = simulation.fourier_engineered_dataframe[simulation.fourier_engineered_dataframe.phase==1]\n",
    "#df_1.describe()"
   ]
  },
  {
   "cell_type": "code",
   "execution_count": 19,
   "metadata": {
    "execution": {
     "iopub.execute_input": "2020-07-18T05:43:04.538212Z",
     "iopub.status.busy": "2020-07-18T05:43:04.537900Z",
     "iopub.status.idle": "2020-07-18T05:43:04.597406Z",
     "shell.execute_reply": "2020-07-18T05:43:04.596853Z"
    },
    "papermill": {
     "duration": 0.079236,
     "end_time": "2020-07-18T05:43:04.597489",
     "exception": false,
     "start_time": "2020-07-18T05:43:04.518253",
     "status": "completed"
    },
    "tags": []
   },
   "outputs": [],
   "source": [
    "#df_0 = simulation.fourier_engineered_dataframe[simulation.fourier_engineered_dataframe.phase==0]\n",
    "#df_0.describe()"
   ]
  },
  {
   "cell_type": "code",
   "execution_count": 20,
   "metadata": {
    "execution": {
     "iopub.execute_input": "2020-07-18T05:43:04.656147Z",
     "iopub.status.busy": "2020-07-18T05:43:04.655833Z",
     "iopub.status.idle": "2020-07-18T05:43:04.665533Z",
     "shell.execute_reply": "2020-07-18T05:43:04.665207Z"
    },
    "papermill": {
     "duration": 0.034586,
     "end_time": "2020-07-18T05:43:04.665585",
     "exception": false,
     "start_time": "2020-07-18T05:43:04.630999",
     "status": "completed"
    },
    "tags": []
   },
   "outputs": [],
   "source": [
    "#plt.figure(figsize=(10,10))\n",
    "#plt.scatter(df_1.fourier_feat0,df_1.fourier_feat2)\n",
    "#plt.scatter(df_0.fourier_feat0,df_0.fourier_feat2,alpha=0.4)"
   ]
  },
  {
   "cell_type": "code",
   "execution_count": 21,
   "metadata": {
    "execution": {
     "iopub.execute_input": "2020-07-18T05:43:04.704454Z",
     "iopub.status.busy": "2020-07-18T05:43:04.704138Z",
     "iopub.status.idle": "2020-07-18T05:43:04.771445Z",
     "shell.execute_reply": "2020-07-18T05:43:04.769676Z"
    },
    "papermill": {
     "duration": 0.087518,
     "end_time": "2020-07-18T05:43:04.771696",
     "exception": false,
     "start_time": "2020-07-18T05:43:04.684178",
     "status": "completed"
    },
    "tags": []
   },
   "outputs": [],
   "source": [
    "#plt.scatter(df_0.fourier_feat0,df_0.fourier_feat2,alpha=0.4)"
   ]
  },
  {
   "cell_type": "code",
   "execution_count": 22,
   "metadata": {
    "execution": {
     "iopub.execute_input": "2020-07-18T05:43:04.849705Z",
     "iopub.status.busy": "2020-07-18T05:43:04.849377Z",
     "iopub.status.idle": "2020-07-18T05:43:04.859476Z",
     "shell.execute_reply": "2020-07-18T05:43:04.859133Z"
    },
    "papermill": {
     "duration": 0.033194,
     "end_time": "2020-07-18T05:43:04.859530",
     "exception": false,
     "start_time": "2020-07-18T05:43:04.826336",
     "status": "completed"
    },
    "tags": []
   },
   "outputs": [],
   "source": [
    "#plt.scatter(df_2.fourier_feat0,df_2.fourier_feat2)"
   ]
  },
  {
   "cell_type": "code",
   "execution_count": 23,
   "metadata": {
    "execution": {
     "iopub.execute_input": "2020-07-18T05:43:04.898928Z",
     "iopub.status.busy": "2020-07-18T05:43:04.898619Z",
     "iopub.status.idle": "2020-07-18T05:43:04.919917Z",
     "shell.execute_reply": "2020-07-18T05:43:04.919589Z"
    },
    "papermill": {
     "duration": 0.041237,
     "end_time": "2020-07-18T05:43:04.919970",
     "exception": false,
     "start_time": "2020-07-18T05:43:04.878733",
     "status": "completed"
    },
    "tags": []
   },
   "outputs": [],
   "source": [
    "#df_1.hist(figsize=(15,15))"
   ]
  },
  {
   "cell_type": "code",
   "execution_count": 24,
   "metadata": {
    "execution": {
     "iopub.execute_input": "2020-07-18T05:43:04.959367Z",
     "iopub.status.busy": "2020-07-18T05:43:04.959058Z",
     "iopub.status.idle": "2020-07-18T05:43:05.038040Z",
     "shell.execute_reply": "2020-07-18T05:43:05.036239Z"
    },
    "papermill": {
     "duration": 0.099421,
     "end_time": "2020-07-18T05:43:05.038294",
     "exception": false,
     "start_time": "2020-07-18T05:43:04.938873",
     "status": "completed"
    },
    "tags": []
   },
   "outputs": [],
   "source": [
    "#df_0.hist(figsize=(15,15))"
   ]
  },
  {
   "cell_type": "markdown",
   "metadata": {
    "papermill": {
     "duration": 0.019644,
     "end_time": "2020-07-18T05:43:05.110017",
     "exception": false,
     "start_time": "2020-07-18T05:43:05.090373",
     "status": "completed"
    },
    "tags": []
   },
   "source": [
    "#### Checking initialization"
   ]
  },
  {
   "cell_type": "code",
   "execution_count": 25,
   "metadata": {
    "execution": {
     "iopub.execute_input": "2020-07-18T05:43:05.149305Z",
     "iopub.status.busy": "2020-07-18T05:43:05.148990Z",
     "iopub.status.idle": "2020-07-18T05:43:05.159672Z",
     "shell.execute_reply": "2020-07-18T05:43:05.159400Z"
    },
    "papermill": {
     "duration": 0.031034,
     "end_time": "2020-07-18T05:43:05.159726",
     "exception": false,
     "start_time": "2020-07-18T05:43:05.128692",
     "status": "completed"
    },
    "tags": []
   },
   "outputs": [
    {
     "name": "stdout",
     "output_type": "stream",
     "text": [
      "n_features:  100\n",
      "n_hamiltonians:  6561\n",
      "n_ts:  2\n",
      "CPU times: user 455 µs, sys: 63 µs, total: 518 µs\n",
      "Wall time: 324 µs\n"
     ]
    }
   ],
   "source": [
    "%%time\n",
    "n_features = simulation.n_features\n",
    "n_hamiltonians = simulation.n_hamiltonians\n",
    "n_ts = simulation.n_ts\n",
    "\n",
    "print(\"n_features: \", n_features)\n",
    "print(\"n_hamiltonians: \", n_hamiltonians)\n",
    "print(\"n_ts: \", n_ts)"
   ]
  },
  {
   "cell_type": "code",
   "execution_count": 26,
   "metadata": {
    "execution": {
     "iopub.execute_input": "2020-07-18T05:43:05.199419Z",
     "iopub.status.busy": "2020-07-18T05:43:05.199092Z",
     "iopub.status.idle": "2020-07-18T05:43:05.382340Z",
     "shell.execute_reply": "2020-07-18T05:43:05.382641Z"
    },
    "papermill": {
     "duration": 0.204262,
     "end_time": "2020-07-18T05:43:05.382705",
     "exception": false,
     "start_time": "2020-07-18T05:43:05.178443",
     "status": "completed"
    },
    "tags": []
   },
   "outputs": [
    {
     "name": "stdout",
     "output_type": "stream",
     "text": [
      "% train:  0.846822130772748\n",
      "% val:  0.0\n",
      "% test:  0.15317786922725193\n",
      "% train + val + test:  1.0\n",
      "\n",
      "\n",
      "number of train hamiltonians:  5556\n",
      "number of val hamiltonians:  0\n",
      "number of test hamiltonians:  1005\n",
      "total number of hamiltonians:  6561\n",
      "\n",
      "\n",
      "train ids:  [9, 10, 11, 12, 13, 14, 15, 16, 17, 18, 19, 20, 21, 22, 23, 24, 25, 26, 27, 28, 29, 30, 31, 32, 33, 34, 35, 36, 37, 38, 39, 40, 41, 42, 43, 44, 45, 46, 47, 48, 49, 50, 51, 52, 53, 54, 55, 56, 57, 58, 59, 60, 61, 62, 63, 64, 65, 66, 67, 68, 69, 70, 71, 72, 73, 74, 75, 76, 77, 91, 92, 93, 94, 95, 96, 97, 98, 99, 100, 101, 102, 103, 104, 105, 106, 107, 108, 109, 110, 111, 112, 113, 114, 115, 116, 117, 118, 119, 120, 121, 122, 123, 124, 125, 126, 127, 128, 129, 130, 131, 132, 133, 134, 135, 136, 137, 138, 139, 140, 141, 142, 143, 144, 145, 146, 147, 148, 149, 150, 151, 152, 153, 154, 155, 156, 157, 172, 173, 174, 175, 176, 177, 178, 179, 180, 181, 182, 183, 184, 185, 186, 187, 188, 189, 190, 191, 192, 193, 194, 195, 196, 197, 198, 199, 200, 201, 202, 203, 204, 205, 206, 207, 208, 209, 210, 211, 212, 213, 214, 215, 216, 217, 218, 219, 220, 221, 222, 223, 224, 225, 226, 227, 228, 229, 230, 231, 232, 233, 234, 235, 236, 237, 254, 255, 256, 257, 258, 259, 260, 261, 262, 263, 264, 265, 266, 267, 268, 269, 270, 271, 272, 273, 274, 275, 276, 277, 278, 279, 280, 281, 282, 283, 284, 285, 286, 287, 288, 289, 290, 291, 292, 293, 294, 295, 296, 297, 298, 299, 300, 301, 302, 303, 304, 305, 306, 307, 308, 309, 310, 311, 312, 313, 314, 315, 316, 317, 323, 336, 337, 338, 339, 340, 341, 342, 343, 344, 345, 346, 347, 348, 349, 350, 351, 352, 353, 354, 355, 356, 357, 358, 359, 360, 361, 362, 363, 364, 365, 366, 367, 368, 369, 370, 371, 372, 373, 374, 375, 376, 377, 378, 379, 380, 381, 382, 383, 384, 385, 386, 387, 388, 389, 390, 391, 392, 393, 394, 395, 396, 397, 403, 404, 418, 419, 420, 421, 422, 423, 424, 425, 426, 427, 428, 429, 430, 431, 432, 433, 434, 435, 436, 437, 438, 439, 440, 441, 442, 443, 444, 445, 446, 447, 448, 449, 450, 451, 452, 453, 454, 455, 456, 457, 458, 459, 460, 461, 462, 463, 464, 465, 466, 467, 468, 469, 470, 471, 472, 473, 474, 475, 476, 477, 483, 484, 485, 500, 501, 502, 503, 504, 505, 506, 507, 508, 509, 510, 511, 512, 513, 514, 515, 516, 517, 518, 519, 520, 521, 522, 523, 524, 525, 526, 527, 528, 529, 530, 531, 532, 533, 534, 535, 536, 537, 538, 539, 540, 541, 542, 543, 544, 545, 546, 547, 548, 549, 550, 551, 552, 553, 554, 555, 556, 557, 563, 564, 565, 566, 581, 582, 583, 584, 585, 586, 587, 588, 589, 590, 591, 592, 593, 594, 595, 596, 597, 598, 599, 600, 601, 602, 603, 604, 605, 606, 607, 608, 609, 610, 611, 612, 613, 614, 615, 616, 617, 618, 619, 620, 621, 622, 623, 624, 625, 626, 627, 628, 629, 630, 631, 632, 633, 634, 635, 636, 637, 643, 644, 645, 646, 647, 663, 664, 665, 666, 667, 668, 669, 670, 671, 672, 673, 674, 675, 676, 677, 678, 679, 680, 681, 682, 683, 684, 685, 686, 687, 688, 689, 690, 691, 692, 693, 694, 695, 696, 697, 698, 699, 700, 701, 702, 703, 704, 705, 706, 707, 708, 709, 710, 711, 712, 713, 714, 715, 716, 717, 723, 724, 725, 726, 727, 728, 745, 746, 747, 748, 749, 750, 751, 752, 753, 754, 755, 756, 757, 758, 759, 760, 761, 762, 763, 764, 765, 766, 767, 768, 769, 770, 771, 772, 773, 774, 775, 776, 777, 778, 779, 780, 781, 782, 783, 784, 785, 786, 787, 788, 789, 790, 791, 792, 793, 794, 795, 796, 797, 803, 804, 805, 806, 807, 808, 809, 827, 828, 829, 830, 831, 832, 833, 834, 835, 836, 837, 838, 839, 840, 841, 842, 843, 844, 845, 846, 847, 848, 849, 850, 851, 852, 853, 854, 855, 856, 857, 858, 859, 860, 861, 862, 863, 864, 865, 866, 867, 868, 869, 870, 871, 872, 873, 874, 875, 876, 877, 883, 884, 885, 886, 887, 888, 889, 890, 891, 909, 910, 911, 912, 913, 914, 915, 916, 917, 918, 919, 920, 921, 922, 923, 924, 925, 926, 927, 928, 929, 930, 931, 932, 933, 934, 935, 936, 937, 938, 939, 940, 941, 942, 943, 944, 945, 946, 947, 948, 949, 950, 951, 952, 953, 954, 955, 956, 957, 963, 964, 965, 966, 967, 968, 969, 970, 971, 972, 973, 990, 991, 992, 993, 994, 995, 996, 997, 998, 999, 1000, 1001, 1002, 1003, 1004, 1005, 1006, 1007, 1008, 1009, 1010, 1011, 1012, 1013, 1014, 1015, 1016, 1017, 1018, 1019, 1020, 1021, 1022, 1023, 1024, 1025, 1026, 1027, 1028, 1029, 1030, 1031, 1032, 1033, 1034, 1035, 1036, 1037, 1038, 1042, 1043, 1044, 1045, 1046, 1047, 1048, 1049, 1050, 1051, 1052, 1053, 1054, 1055, 1056, 1072, 1073, 1074, 1075, 1076, 1077, 1078, 1079, 1080, 1081, 1082, 1083, 1084, 1085, 1086, 1087, 1088, 1089, 1090, 1091, 1092, 1093, 1094, 1095, 1096, 1097, 1098, 1099, 1100, 1101, 1102, 1103, 1104, 1105, 1106, 1107, 1108, 1109, 1110, 1111, 1112, 1113, 1114, 1115, 1116, 1117, 1118, 1122, 1123, 1124, 1125, 1126, 1127, 1128, 1129, 1130, 1131, 1132, 1133, 1134, 1135, 1136, 1137, 1138, 1154, 1155, 1156, 1157, 1158, 1159, 1160, 1161, 1162, 1163, 1164, 1165, 1166, 1167, 1168, 1169, 1170, 1171, 1172, 1173, 1174, 1175, 1176, 1177, 1178, 1179, 1180, 1181, 1182, 1183, 1184, 1185, 1186, 1187, 1188, 1189, 1190, 1191, 1192, 1193, 1194, 1195, 1196, 1197, 1198, 1202, 1203, 1204, 1205, 1206, 1207, 1208, 1209, 1210, 1211, 1212, 1213, 1214, 1215, 1216, 1217, 1218, 1219, 1220, 1236, 1237, 1238, 1239, 1240, 1241, 1242, 1243, 1244, 1245, 1246, 1247, 1248, 1249, 1250, 1251, 1252, 1253, 1254, 1255, 1256, 1257, 1258, 1259, 1260, 1261, 1262, 1263, 1264, 1265, 1266, 1267, 1268, 1269, 1270, 1271, 1272, 1273, 1274, 1275, 1276, 1277, 1278, 1282, 1283, 1284, 1285, 1286, 1287, 1288, 1289, 1290, 1291, 1292, 1293, 1294, 1295, 1296, 1297, 1298, 1299, 1300, 1301, 1302, 1303, 1317, 1318, 1319, 1320, 1321, 1322, 1323, 1324, 1325, 1326, 1327, 1328, 1329, 1330, 1331, 1332, 1333, 1334, 1335, 1336, 1337, 1338, 1339, 1340, 1341, 1342, 1343, 1344, 1345, 1346, 1347, 1348, 1349, 1350, 1351, 1352, 1353, 1354, 1355, 1356, 1357, 1358, 1362, 1363, 1364, 1365, 1366, 1367, 1368, 1369, 1370, 1371, 1372, 1373, 1374, 1375, 1376, 1377, 1378, 1379, 1380, 1381, 1382, 1383, 1384, 1385, 1399, 1400, 1401, 1402, 1403, 1404, 1405, 1406, 1407, 1408, 1409, 1410, 1411, 1412, 1413, 1414, 1415, 1416, 1417, 1418, 1419, 1420, 1421, 1422, 1423, 1424, 1425, 1426, 1427, 1428, 1429, 1430, 1431, 1432, 1433, 1434, 1435, 1436, 1437, 1438, 1442, 1443, 1444, 1445, 1446, 1447, 1448, 1449, 1450, 1451, 1452, 1453, 1454, 1455, 1456, 1457, 1458, 1459, 1460, 1461, 1462, 1463, 1464, 1465, 1466, 1467, 1468, 1481, 1482, 1483, 1484, 1485, 1486, 1487, 1488, 1489, 1490, 1491, 1492, 1493, 1494, 1495, 1496, 1497, 1498, 1499, 1500, 1501, 1502, 1503, 1504, 1505, 1506, 1507, 1508, 1509, 1510, 1511, 1512, 1513, 1514, 1515, 1516, 1517, 1518, 1522, 1523, 1524, 1525, 1526, 1527, 1528, 1529, 1530, 1531, 1532, 1533, 1534, 1535, 1536, 1537, 1538, 1539, 1540, 1541, 1542, 1543, 1544, 1545, 1546, 1547, 1548, 1549, 1550, 1563, 1564, 1565, 1566, 1567, 1568, 1569, 1570, 1571, 1572, 1573, 1574, 1575, 1576, 1577, 1578, 1579, 1580, 1581, 1582, 1583, 1584, 1585, 1586, 1587, 1588, 1589, 1590, 1591, 1592, 1593, 1594, 1595, 1596, 1597, 1598, 1602, 1603, 1604, 1605, 1606, 1607, 1608, 1609, 1610, 1611, 1612, 1613, 1614, 1615, 1616, 1617, 1618, 1619, 1620, 1621, 1622, 1623, 1624, 1625, 1626, 1627, 1628, 1629, 1630, 1631, 1632, 1645, 1646, 1647, 1648, 1649, 1650, 1651, 1652, 1653, 1654, 1655, 1656, 1657, 1658, 1659, 1660, 1661, 1662, 1663, 1664, 1665, 1666, 1667, 1668, 1669, 1670, 1671, 1672, 1673, 1674, 1675, 1676, 1677, 1678, 1682, 1683, 1684, 1685, 1686, 1687, 1688, 1689, 1690, 1691, 1692, 1693, 1694, 1695, 1696, 1697, 1698, 1699, 1700, 1701, 1702, 1703, 1704, 1705, 1706, 1707, 1708, 1709, 1710, 1711, 1712, 1713, 1714, 1715, 1726, 1727, 1728, 1729, 1730, 1731, 1732, 1733, 1734, 1735, 1736, 1737, 1738, 1739, 1740, 1741, 1742, 1743, 1744, 1745, 1746, 1747, 1748, 1749, 1750, 1751, 1752, 1753, 1754, 1755, 1756, 1757, 1758, 1762, 1763, 1764, 1765, 1766, 1767, 1768, 1769, 1770, 1771, 1772, 1773, 1774, 1775, 1776, 1777, 1778, 1779, 1780, 1781, 1782, 1783, 1784, 1785, 1786, 1787, 1788, 1789, 1790, 1791, 1792, 1793, 1794, 1795, 1796, 1797, 1808, 1809, 1810, 1811, 1812, 1813, 1814, 1815, 1816, 1817, 1818, 1819, 1820, 1821, 1822, 1823, 1824, 1825, 1826, 1827, 1828, 1829, 1830, 1831, 1832, 1833, 1834, 1835, 1836, 1837, 1838, 1842, 1843, 1844, 1845, 1846, 1847, 1848, 1849, 1850, 1851, 1852, 1853, 1854, 1855, 1856, 1857, 1858, 1859, 1860, 1861, 1862, 1863, 1864, 1865, 1866, 1867, 1868, 1869, 1870, 1871, 1872, 1873, 1874, 1875, 1876, 1877, 1878, 1879, 1890, 1891, 1892, 1893, 1894, 1895, 1896, 1897, 1898, 1899, 1900, 1901, 1902, 1903, 1904, 1905, 1906, 1907, 1908, 1909, 1910, 1911, 1912, 1913, 1914, 1915, 1916, 1917, 1918, 1922, 1923, 1924, 1925, 1926, 1927, 1928, 1929, 1930, 1931, 1932, 1933, 1934, 1935, 1936, 1937, 1938, 1939, 1940, 1941, 1942, 1943, 1944, 1945, 1946, 1947, 1948, 1949, 1950, 1951, 1952, 1953, 1954, 1955, 1956, 1957, 1958, 1959, 1960, 1961, 1962, 1972, 1973, 1974, 1975, 1976, 1977, 1978, 1979, 1980, 1981, 1982, 1983, 1984, 1985, 1986, 1987, 1988, 1989, 1990, 1991, 1992, 1993, 1994, 1995, 1996, 1997, 1998, 2002, 2003, 2004, 2005, 2006, 2007, 2008, 2009, 2010, 2011, 2012, 2013, 2014, 2015, 2016, 2017, 2018, 2019, 2020, 2021, 2022, 2023, 2024, 2025, 2026, 2027, 2028, 2029, 2030, 2031, 2032, 2033, 2034, 2035, 2036, 2037, 2038, 2039, 2040, 2041, 2042, 2043, 2044, 2054, 2055, 2056, 2057, 2058, 2059, 2060, 2061, 2062, 2063, 2064, 2065, 2066, 2067, 2068, 2069, 2070, 2071, 2072, 2073, 2074, 2075, 2076, 2077, 2078, 2082, 2083, 2084, 2085, 2086, 2087, 2088, 2089, 2090, 2091, 2092, 2093, 2094, 2095, 2096, 2097, 2098, 2099, 2100, 2101, 2102, 2103, 2104, 2105, 2106, 2107, 2108, 2109, 2110, 2111, 2112, 2113, 2114, 2115, 2116, 2117, 2118, 2119, 2120, 2121, 2122, 2123, 2124, 2125, 2126, 2135, 2136, 2137, 2138, 2139, 2140, 2141, 2142, 2143, 2144, 2145, 2146, 2147, 2148, 2149, 2150, 2151, 2152, 2153, 2154, 2155, 2156, 2157, 2158, 2159, 2161, 2162, 2163, 2164, 2165, 2166, 2167, 2168, 2169, 2170, 2171, 2172, 2173, 2174, 2175, 2176, 2177, 2178, 2179, 2180, 2181, 2182, 2183, 2184, 2185, 2186, 2187, 2188, 2189, 2190, 2191, 2192, 2193, 2194, 2195, 2196, 2197, 2198, 2199, 2200, 2201, 2202, 2203, 2204, 2205, 2206, 2207, 2208, 2209, 2217, 2218, 2219, 2220, 2221, 2222, 2223, 2224, 2225, 2226, 2227, 2228, 2229, 2230, 2231, 2232, 2233, 2234, 2235, 2236, 2237, 2238, 2239, 2241, 2242, 2243, 2244, 2245, 2246, 2247, 2248, 2249, 2250, 2251, 2252, 2253, 2254, 2255, 2256, 2257, 2258, 2259, 2260, 2261, 2262, 2263, 2264, 2265, 2266, 2267, 2268, 2269, 2270, 2271, 2272, 2273, 2274, 2275, 2276, 2277, 2278, 2279, 2280, 2281, 2282, 2283, 2284, 2285, 2286, 2287, 2288, 2289, 2290, 2291, 2299, 2300, 2301, 2302, 2303, 2304, 2305, 2306, 2307, 2308, 2309, 2310, 2311, 2312, 2313, 2314, 2315, 2316, 2317, 2318, 2319, 2321, 2322, 2323, 2324, 2325, 2326, 2327, 2328, 2329, 2330, 2331, 2332, 2333, 2334, 2335, 2336, 2337, 2338, 2339, 2340, 2341, 2342, 2343, 2344, 2345, 2346, 2347, 2348, 2349, 2350, 2351, 2352, 2353, 2354, 2355, 2356, 2357, 2358, 2359, 2360, 2361, 2362, 2363, 2364, 2365, 2366, 2367, 2368, 2369, 2370, 2371, 2372, 2373, 2374, 2381, 2382, 2383, 2384, 2385, 2386, 2387, 2388, 2389, 2390, 2391, 2392, 2393, 2394, 2395, 2396, 2397, 2398, 2399, 2401, 2402, 2403, 2404, 2405, 2406, 2407, 2408, 2409, 2410, 2411, 2412, 2413, 2414, 2415, 2416, 2417, 2418, 2419, 2420, 2421, 2422, 2423, 2424, 2425, 2426, 2427, 2428, 2429, 2430, 2431, 2432, 2433, 2434, 2435, 2436, 2437, 2438, 2439, 2440, 2441, 2442, 2443, 2444, 2445, 2446, 2447, 2448, 2449, 2450, 2451, 2452, 2453, 2454, 2455, 2456, 2463, 2464, 2465, 2466, 2467, 2468, 2469, 2470, 2471, 2472, 2473, 2474, 2475, 2476, 2477, 2478, 2479, 2481, 2482, 2483, 2484, 2485, 2486, 2487, 2488, 2489, 2490, 2491, 2492, 2493, 2494, 2495, 2496, 2497, 2498, 2499, 2500, 2501, 2502, 2503, 2504, 2505, 2506, 2507, 2508, 2509, 2510, 2511, 2512, 2513, 2514, 2515, 2516, 2517, 2518, 2519, 2520, 2521, 2522, 2523, 2524, 2525, 2526, 2527, 2528, 2529, 2530, 2531, 2532, 2533, 2534, 2535, 2536, 2537, 2538, 2544, 2545, 2546, 2547, 2548, 2549, 2550, 2551, 2552, 2553, 2554, 2555, 2556, 2557, 2558, 2559, 2561, 2562, 2563, 2564, 2565, 2566, 2567, 2568, 2569, 2570, 2571, 2572, 2573, 2574, 2575, 2576, 2577, 2578, 2579, 2580, 2581, 2582, 2583, 2584, 2585, 2586, 2587, 2588, 2589, 2590, 2591, 2592, 2593, 2594, 2595, 2596, 2597, 2598, 2599, 2600, 2601, 2602, 2603, 2604, 2605, 2606, 2607, 2608, 2609, 2610, 2611, 2612, 2613, 2614, 2615, 2616, 2617, 2618, 2619, 2620, 2621, 2626, 2627, 2628, 2629, 2630, 2631, 2632, 2633, 2634, 2635, 2636, 2637, 2638, 2639, 2641, 2642, 2643, 2644, 2645, 2646, 2647, 2648, 2649, 2650, 2651, 2652, 2653, 2654, 2655, 2656, 2657, 2658, 2659, 2660, 2661, 2662, 2663, 2664, 2665, 2666, 2667, 2668, 2669, 2670, 2671, 2672, 2673, 2674, 2675, 2676, 2677, 2678, 2679, 2680, 2681, 2682, 2683, 2684, 2685, 2686, 2687, 2688, 2689, 2690, 2691, 2692, 2693, 2694, 2695, 2696, 2697, 2698, 2699, 2700, 2701, 2702, 2703, 2708, 2709, 2710, 2711, 2712, 2713, 2714, 2715, 2716, 2717, 2718, 2719, 2721, 2722, 2723, 2724, 2725, 2726, 2727, 2728, 2729, 2730, 2731, 2732, 2733, 2734, 2735, 2736, 2737, 2738, 2739, 2740, 2741, 2742, 2743, 2744, 2745, 2746, 2747, 2748, 2749, 2750, 2751, 2752, 2753, 2754, 2755, 2756, 2757, 2758, 2759, 2760, 2761, 2762, 2763, 2764, 2765, 2766, 2767, 2768, 2769, 2770, 2771, 2772, 2773, 2774, 2775, 2776, 2777, 2778, 2779, 2780, 2781, 2782, 2783, 2784, 2785, 2790, 2791, 2792, 2793, 2794, 2795, 2796, 2797, 2798, 2799, 2801, 2802, 2803, 2804, 2805, 2806, 2807, 2808, 2809, 2810, 2811, 2812, 2813, 2814, 2815, 2816, 2817, 2818, 2819, 2820, 2821, 2822, 2823, 2824, 2825, 2826, 2827, 2828, 2829, 2830, 2831, 2832, 2833, 2834, 2835, 2836, 2837, 2838, 2839, 2840, 2841, 2842, 2843, 2844, 2845, 2846, 2847, 2848, 2849, 2850, 2851, 2852, 2853, 2854, 2855, 2856, 2857, 2858, 2859, 2860, 2861, 2862, 2863, 2864, 2865, 2866, 2867, 2868, 2872, 2873, 2874, 2875, 2876, 2877, 2878, 2879, 2881, 2882, 2883, 2884, 2885, 2886, 2887, 2888, 2889, 2890, 2891, 2892, 2893, 2894, 2895, 2896, 2897, 2898, 2899, 2900, 2901, 2902, 2903, 2904, 2905, 2906, 2907, 2908, 2909, 2910, 2911, 2912, 2913, 2914, 2915, 2916, 2917, 2918, 2919, 2920, 2921, 2922, 2923, 2924, 2925, 2926, 2927, 2928, 2929, 2930, 2931, 2932, 2933, 2934, 2935, 2936, 2937, 2938, 2939, 2940, 2941, 2942, 2943, 2944, 2945, 2946, 2947, 2948, 2949, 2950, 2953, 2954, 2955, 2956, 2957, 2958, 2959, 2961, 2962, 2963, 2964, 2965, 2966, 2967, 2968, 2969, 2970, 2971, 2972, 2973, 2974, 2975, 2976, 2977, 2978, 2979, 2980, 2981, 2982, 2983, 2984, 2985, 2986, 2987, 2988, 2989, 2990, 2991, 2992, 2993, 2994, 2995, 2996, 2997, 2998, 2999, 3000, 3001, 3002, 3003, 3004, 3005, 3006, 3007, 3008, 3009, 3010, 3011, 3012, 3013, 3014, 3015, 3016, 3017, 3018, 3019, 3020, 3021, 3022, 3023, 3024, 3025, 3026, 3027, 3028, 3029, 3030, 3031, 3032, 3035, 3036, 3037, 3038, 3039, 3041, 3042, 3043, 3044, 3045, 3046, 3047, 3048, 3049, 3050, 3051, 3052, 3053, 3054, 3055, 3056, 3057, 3058, 3059, 3060, 3061, 3062, 3063, 3064, 3065, 3066, 3067, 3068, 3069, 3070, 3071, 3072, 3073, 3074, 3075, 3076, 3077, 3078, 3079, 3080, 3081, 3082, 3083, 3084, 3085, 3086, 3087, 3088, 3089, 3090, 3091, 3092, 3093, 3094, 3095, 3096, 3097, 3098, 3099, 3100, 3101, 3102, 3103, 3104, 3105, 3106, 3107, 3108, 3109, 3110, 3111, 3112, 3113, 3114, 3115, 3117, 3118, 3119, 3121, 3122, 3123, 3124, 3125, 3126, 3127, 3128, 3129, 3130, 3131, 3132, 3133, 3134, 3135, 3136, 3137, 3138, 3139, 3140, 3141, 3142, 3143, 3144, 3145, 3146, 3147, 3148, 3149, 3150, 3151, 3152, 3153, 3154, 3155, 3156, 3157, 3158, 3159, 3160, 3161, 3162, 3163, 3164, 3165, 3166, 3167, 3168, 3169, 3170, 3171, 3172, 3173, 3174, 3175, 3176, 3177, 3178, 3179, 3180, 3181, 3182, 3183, 3184, 3185, 3186, 3187, 3188, 3189, 3190, 3191, 3192, 3193, 3194, 3195, 3196, 3197, 3199, 3201, 3202, 3203, 3204, 3205, 3206, 3207, 3208, 3209, 3210, 3211, 3212, 3213, 3214, 3215, 3216, 3217, 3218, 3219, 3220, 3221, 3222, 3223, 3224, 3225, 3226, 3227, 3228, 3229, 3230, 3231, 3232, 3233, 3234, 3235, 3236, 3237, 3238, 3239, 3240, 3241, 3242, 3243, 3244, 3245, 3246, 3247, 3248, 3249, 3250, 3251, 3252, 3253, 3254, 3255, 3256, 3257, 3258, 3259, 3260, 3261, 3262, 3263, 3264, 3265, 3266, 3267, 3268, 3269, 3270, 3271, 3272, 3273, 3274, 3275, 3276, 3277, 3278, 3279, 3281, 3282, 3283, 3284, 3285, 3286, 3287, 3288, 3289, 3290, 3291, 3292, 3293, 3294, 3295, 3296, 3297, 3298, 3299, 3300, 3301, 3302, 3303, 3304, 3305, 3306, 3307, 3308, 3309, 3310, 3311, 3312, 3313, 3314, 3315, 3316, 3317, 3318, 3319, 3320, 3321, 3322, 3323, 3324, 3325, 3326, 3327, 3328, 3329, 3330, 3331, 3332, 3333, 3334, 3335, 3336, 3337, 3338, 3339, 3340, 3341, 3342, 3343, 3344, 3345, 3346, 3347, 3348, 3349, 3350, 3351, 3352, 3353, 3354, 3355, 3356, 3357, 3358, 3359, 3361, 3363, 3364, 3365, 3366, 3367, 3368, 3369, 3370, 3371, 3372, 3373, 3374, 3375, 3376, 3377, 3378, 3379, 3380, 3381, 3382, 3383, 3384, 3385, 3386, 3387, 3388, 3389, 3390, 3391, 3392, 3393, 3394, 3395, 3396, 3397, 3398, 3399, 3400, 3401, 3402, 3403, 3404, 3405, 3406, 3407, 3408, 3409, 3410, 3411, 3412, 3413, 3414, 3415, 3416, 3417, 3418, 3419, 3420, 3421, 3422, 3423, 3424, 3425, 3426, 3427, 3428, 3429, 3430, 3431, 3432, 3433, 3434, 3435, 3436, 3437, 3438, 3439, 3441, 3442, 3443, 3445, 3446, 3447, 3448, 3449, 3450, 3451, 3452, 3453, 3454, 3455, 3456, 3457, 3458, 3459, 3460, 3461, 3462, 3463, 3464, 3465, 3466, 3467, 3468, 3469, 3470, 3471, 3472, 3473, 3474, 3475, 3476, 3477, 3478, 3479, 3480, 3481, 3482, 3483, 3484, 3485, 3486, 3487, 3488, 3489, 3490, 3491, 3492, 3493, 3494, 3495, 3496, 3497, 3498, 3499, 3500, 3501, 3502, 3503, 3504, 3505, 3506, 3507, 3508, 3509, 3510, 3511, 3512, 3513, 3514, 3515, 3516, 3517, 3518, 3519, 3521, 3522, 3523, 3524, 3525, 3528, 3529, 3530, 3531, 3532, 3533, 3534, 3535, 3536, 3537, 3538, 3539, 3540, 3541, 3542, 3543, 3544, 3545, 3546, 3547, 3548, 3549, 3550, 3551, 3552, 3553, 3554, 3555, 3556, 3557, 3558, 3559, 3560, 3561, 3562, 3563, 3564, 3565, 3566, 3567, 3568, 3569, 3570, 3571, 3572, 3573, 3574, 3575, 3576, 3577, 3578, 3579, 3580, 3581, 3582, 3583, 3584, 3585, 3586, 3587, 3588, 3589, 3590, 3591, 3592, 3593, 3594, 3595, 3596, 3597, 3598, 3599, 3601, 3602, 3603, 3604, 3605, 3606, 3607, 3610, 3611, 3612, 3613, 3614, 3615, 3616, 3617, 3618, 3619, 3620, 3621, 3622, 3623, 3624, 3625, 3626, 3627, 3628, 3629, 3630, 3631, 3632, 3633, 3634, 3635, 3636, 3637, 3638, 3639, 3640, 3641, 3642, 3643, 3644, 3645, 3646, 3647, 3648, 3649, 3650, 3651, 3652, 3653, 3654, 3655, 3656, 3657, 3658, 3659, 3660, 3661, 3662, 3663, 3664, 3665, 3666, 3667, 3668, 3669, 3670, 3671, 3672, 3673, 3674, 3675, 3676, 3677, 3678, 3679, 3681, 3682, 3683, 3684, 3685, 3686, 3687, 3688, 3692, 3693, 3694, 3695, 3696, 3697, 3698, 3699, 3700, 3701, 3702, 3703, 3704, 3705, 3706, 3707, 3708, 3709, 3710, 3711, 3712, 3713, 3714, 3715, 3716, 3717, 3718, 3719, 3720, 3721, 3722, 3723, 3724, 3725, 3726, 3727, 3728, 3729, 3730, 3731, 3732, 3733, 3734, 3735, 3736, 3737, 3738, 3739, 3740, 3741, 3742, 3743, 3744, 3745, 3746, 3747, 3748, 3749, 3750, 3751, 3752, 3753, 3754, 3755, 3756, 3757, 3758, 3759, 3761, 3762, 3763, 3764, 3765, 3766, 3767, 3768, 3769, 3770, 3775, 3776, 3777, 3778, 3779, 3780, 3781, 3782, 3783, 3784, 3785, 3786, 3787, 3788, 3789, 3790, 3791, 3792, 3793, 3794, 3795, 3796, 3797, 3798, 3799, 3800, 3801, 3802, 3803, 3804, 3805, 3806, 3807, 3808, 3809, 3810, 3811, 3812, 3813, 3814, 3815, 3816, 3817, 3818, 3819, 3820, 3821, 3822, 3823, 3824, 3825, 3826, 3827, 3828, 3829, 3830, 3831, 3832, 3833, 3834, 3835, 3836, 3837, 3838, 3839, 3841, 3842, 3843, 3844, 3845, 3846, 3847, 3848, 3849, 3850, 3851, 3852, 3857, 3858, 3859, 3860, 3861, 3862, 3863, 3864, 3865, 3866, 3867, 3868, 3869, 3870, 3871, 3872, 3873, 3874, 3875, 3876, 3877, 3878, 3879, 3880, 3881, 3882, 3883, 3884, 3885, 3886, 3887, 3888, 3889, 3890, 3891, 3892, 3893, 3894, 3895, 3896, 3897, 3898, 3899, 3900, 3901, 3902, 3903, 3904, 3905, 3906, 3907, 3908, 3909, 3910, 3911, 3912, 3913, 3914, 3915, 3916, 3917, 3918, 3919, 3921, 3922, 3923, 3924, 3925, 3926, 3927, 3928, 3929, 3930, 3931, 3932, 3933, 3934, 3939, 3940, 3941, 3942, 3943, 3944, 3945, 3946, 3947, 3948, 3949, 3950, 3951, 3952, 3953, 3954, 3955, 3956, 3957, 3958, 3959, 3960, 3961, 3962, 3963, 3964, 3965, 3966, 3967, 3968, 3969, 3970, 3971, 3972, 3973, 3974, 3975, 3976, 3977, 3978, 3979, 3980, 3981, 3982, 3983, 3984, 3985, 3986, 3987, 3988, 3989, 3990, 3991, 3992, 3993, 3994, 3995, 3996, 3997, 3998, 3999, 4001, 4002, 4003, 4004, 4005, 4006, 4007, 4008, 4009, 4010, 4011, 4012, 4013, 4014, 4015, 4016, 4022, 4023, 4024, 4025, 4026, 4027, 4028, 4029, 4030, 4031, 4032, 4033, 4034, 4035, 4036, 4037, 4038, 4039, 4040, 4041, 4042, 4043, 4044, 4045, 4046, 4047, 4048, 4049, 4050, 4051, 4052, 4053, 4054, 4055, 4056, 4057, 4058, 4059, 4060, 4061, 4062, 4063, 4064, 4065, 4066, 4067, 4068, 4069, 4070, 4071, 4072, 4073, 4074, 4075, 4076, 4077, 4078, 4079, 4081, 4082, 4083, 4084, 4085, 4086, 4087, 4088, 4089, 4090, 4091, 4092, 4093, 4094, 4095, 4096, 4097, 4104, 4105, 4106, 4107, 4108, 4109, 4110, 4111, 4112, 4113, 4114, 4115, 4116, 4117, 4118, 4119, 4120, 4121, 4122, 4123, 4124, 4125, 4126, 4127, 4128, 4129, 4130, 4131, 4132, 4133, 4134, 4135, 4136, 4137, 4138, 4139, 4140, 4141, 4142, 4143, 4144, 4145, 4146, 4147, 4148, 4149, 4150, 4151, 4152, 4153, 4154, 4155, 4156, 4157, 4158, 4159, 4161, 4162, 4163, 4164, 4165, 4166, 4167, 4168, 4169, 4170, 4171, 4172, 4173, 4174, 4175, 4176, 4177, 4178, 4179, 4186, 4187, 4188, 4189, 4190, 4191, 4192, 4193, 4194, 4195, 4196, 4197, 4198, 4199, 4200, 4201, 4202, 4203, 4204, 4205, 4206, 4207, 4208, 4209, 4210, 4211, 4212, 4213, 4214, 4215, 4216, 4217, 4218, 4219, 4220, 4221, 4222, 4223, 4224, 4225, 4226, 4227, 4228, 4229, 4230, 4231, 4232, 4233, 4234, 4235, 4236, 4237, 4238, 4239, 4241, 4242, 4243, 4244, 4245, 4246, 4247, 4248, 4249, 4250, 4251, 4252, 4253, 4254, 4255, 4256, 4257, 4258, 4259, 4260, 4261, 4269, 4270, 4271, 4272, 4273, 4274, 4275, 4276, 4277, 4278, 4279, 4280, 4281, 4282, 4283, 4284, 4285, 4286, 4287, 4288, 4289, 4290, 4291, 4292, 4293, 4294, 4295, 4296, 4297, 4298, 4299, 4300, 4301, 4302, 4303, 4304, 4305, 4306, 4307, 4308, 4309, 4310, 4311, 4312, 4313, 4314, 4315, 4316, 4317, 4318, 4319, 4321, 4322, 4323, 4324, 4325, 4326, 4327, 4328, 4329, 4330, 4331, 4332, 4333, 4334, 4335, 4336, 4337, 4338, 4339, 4340, 4341, 4342, 4343, 4351, 4352, 4353, 4354, 4355, 4356, 4357, 4358, 4359, 4360, 4361, 4362, 4363, 4364, 4365, 4366, 4367, 4368, 4369, 4370, 4371, 4372, 4373, 4374, 4375, 4376, 4377, 4378, 4379, 4380, 4381, 4382, 4383, 4384, 4385, 4386, 4387, 4388, 4389, 4390, 4391, 4392, 4393, 4394, 4395, 4396, 4397, 4398, 4399, 4401, 4402, 4403, 4404, 4405, 4406, 4407, 4408, 4409, 4410, 4411, 4412, 4413, 4414, 4415, 4416, 4417, 4418, 4419, 4420, 4421, 4422, 4423, 4424, 4425, 4434, 4435, 4436, 4437, 4438, 4439, 4440, 4441, 4442, 4443, 4444, 4445, 4446, 4447, 4448, 4449, 4450, 4451, 4452, 4453, 4454, 4455, 4456, 4457, 4458, 4459, 4460, 4461, 4462, 4463, 4464, 4465, 4466, 4467, 4468, 4469, 4470, 4471, 4472, 4473, 4474, 4475, 4476, 4477, 4478, 4482, 4483, 4484, 4485, 4486, 4487, 4488, 4489, 4490, 4491, 4492, 4493, 4494, 4495, 4496, 4497, 4498, 4499, 4500, 4501, 4502, 4503, 4504, 4505, 4506, 4516, 4517, 4518, 4519, 4520, 4521, 4522, 4523, 4524, 4525, 4526, 4527, 4528, 4529, 4530, 4531, 4532, 4533, 4534, 4535, 4536, 4537, 4538, 4539, 4540, 4541, 4542, 4543, 4544, 4545, 4546, 4547, 4548, 4549, 4550, 4551, 4552, 4553, 4554, 4555, 4556, 4557, 4558, 4562, 4563, 4564, 4565, 4566, 4567, 4568, 4569, 4570, 4571, 4572, 4573, 4574, 4575, 4576, 4577, 4578, 4579, 4580, 4581, 4582, 4583, 4584, 4585, 4586, 4587, 4588, 4598, 4599, 4600, 4601, 4602, 4603, 4604, 4605, 4606, 4607, 4608, 4609, 4610, 4611, 4612, 4613, 4614, 4615, 4616, 4617, 4618, 4619, 4620, 4621, 4622, 4623, 4624, 4625, 4626, 4627, 4628, 4629, 4630, 4631, 4632, 4633, 4634, 4635, 4636, 4637, 4638, 4642, 4643, 4644, 4645, 4646, 4647, 4648, 4649, 4650, 4651, 4652, 4653, 4654, 4655, 4656, 4657, 4658, 4659, 4660, 4661, 4662, 4663, 4664, 4665, 4666, 4667, 4668, 4669, 4670, 4681, 4682, 4683, 4684, 4685, 4686, 4687, 4688, 4689, 4690, 4691, 4692, 4693, 4694, 4695, 4696, 4697, 4698, 4699, 4700, 4701, 4702, 4703, 4704, 4705, 4706, 4707, 4708, 4709, 4710, 4711, 4712, 4713, 4714, 4715, 4716, 4717, 4718, 4722, 4723, 4724, 4725, 4726, 4727, 4728, 4729, 4730, 4731, 4732, 4733, 4734, 4735, 4736, 4737, 4738, 4739, 4740, 4741, 4742, 4743, 4744, 4745, 4746, 4747, 4748, 4749, 4750, 4751, 4752, 4763, 4764, 4765, 4766, 4767, 4768, 4769, 4770, 4771, 4772, 4773, 4774, 4775, 4776, 4777, 4778, 4779, 4780, 4781, 4782, 4783, 4784, 4785, 4786, 4787, 4788, 4789, 4790, 4791, 4792, 4793, 4794, 4795, 4796, 4797, 4798, 4802, 4803, 4804, 4805, 4806, 4807, 4808, 4809, 4810, 4811, 4812, 4813, 4814, 4815, 4816, 4817, 4818, 4819, 4820, 4821, 4822, 4823, 4824, 4825, 4826, 4827, 4828, 4829, 4830, 4831, 4832, 4833, 4834, 4845, 4846, 4847, 4848, 4849, 4850, 4851, 4852, 4853, 4854, 4855, 4856, 4857, 4858, 4859, 4860, 4861, 4862, 4863, 4864, 4865, 4866, 4867, 4868, 4869, 4870, 4871, 4872, 4873, 4874, 4875, 4876, 4877, 4878, 4882, 4883, 4884, 4885, 4886, 4887, 4888, 4889, 4890, 4891, 4892, 4893, 4894, 4895, 4896, 4897, 4898, 4899, 4900, 4901, 4902, 4903, 4904, 4905, 4906, 4907, 4908, 4909, 4910, 4911, 4912, 4913, 4914, 4915, 4928, 4929, 4930, 4931, 4932, 4933, 4934, 4935, 4936, 4937, 4938, 4939, 4940, 4941, 4942, 4943, 4944, 4945, 4946, 4947, 4948, 4949, 4950, 4951, 4952, 4953, 4954, 4955, 4956, 4957, 4958, 4962, 4963, 4964, 4965, 4966, 4967, 4968, 4969, 4970, 4971, 4972, 4973, 4974, 4975, 4976, 4977, 4978, 4979, 4980, 4981, 4982, 4983, 4984, 4985, 4986, 4987, 4988, 4989, 4990, 4991, 4992, 4993, 4994, 4995, 4996, 4997, 5010, 5011, 5012, 5013, 5014, 5015, 5016, 5017, 5018, 5019, 5020, 5021, 5022, 5023, 5024, 5025, 5026, 5027, 5028, 5029, 5030, 5031, 5032, 5033, 5034, 5035, 5036, 5037, 5038, 5042, 5043, 5044, 5045, 5046, 5047, 5048, 5049, 5050, 5051, 5052, 5053, 5054, 5055, 5056, 5057, 5058, 5059, 5060, 5061, 5062, 5063, 5064, 5065, 5066, 5067, 5068, 5069, 5070, 5071, 5072, 5073, 5074, 5075, 5076, 5077, 5078, 5079, 5092, 5093, 5094, 5095, 5096, 5097, 5098, 5099, 5100, 5101, 5102, 5103, 5104, 5105, 5106, 5107, 5108, 5109, 5110, 5111, 5112, 5113, 5114, 5115, 5116, 5117, 5118, 5122, 5123, 5124, 5125, 5126, 5127, 5128, 5129, 5130, 5131, 5132, 5133, 5134, 5135, 5136, 5137, 5138, 5139, 5140, 5141, 5142, 5143, 5144, 5145, 5146, 5147, 5148, 5149, 5150, 5151, 5152, 5153, 5154, 5155, 5156, 5157, 5158, 5159, 5160, 5161, 5175, 5176, 5177, 5178, 5179, 5180, 5181, 5182, 5183, 5184, 5185, 5186, 5187, 5188, 5189, 5190, 5191, 5192, 5193, 5194, 5195, 5196, 5197, 5198, 5202, 5203, 5204, 5205, 5206, 5207, 5208, 5209, 5210, 5211, 5212, 5213, 5214, 5215, 5216, 5217, 5218, 5219, 5220, 5221, 5222, 5223, 5224, 5225, 5226, 5227, 5228, 5229, 5230, 5231, 5232, 5233, 5234, 5235, 5236, 5237, 5238, 5239, 5240, 5241, 5242, 5243, 5257, 5258, 5259, 5260, 5261, 5262, 5263, 5264, 5265, 5266, 5267, 5268, 5269, 5270, 5271, 5272, 5273, 5274, 5275, 5276, 5277, 5278, 5282, 5283, 5284, 5285, 5286, 5287, 5288, 5289, 5290, 5291, 5292, 5293, 5294, 5295, 5296, 5297, 5298, 5299, 5300, 5301, 5302, 5303, 5304, 5305, 5306, 5307, 5308, 5309, 5310, 5311, 5312, 5313, 5314, 5315, 5316, 5317, 5318, 5319, 5320, 5321, 5322, 5323, 5324, 5340, 5341, 5342, 5343, 5344, 5345, 5346, 5347, 5348, 5349, 5350, 5351, 5352, 5353, 5354, 5355, 5356, 5357, 5358, 5362, 5363, 5364, 5365, 5366, 5367, 5368, 5369, 5370, 5371, 5372, 5373, 5374, 5375, 5376, 5377, 5378, 5379, 5380, 5381, 5382, 5383, 5384, 5385, 5386, 5387, 5388, 5389, 5390, 5391, 5392, 5393, 5394, 5395, 5396, 5397, 5398, 5399, 5400, 5401, 5402, 5403, 5404, 5405, 5406, 5422, 5423, 5424, 5425, 5426, 5427, 5428, 5429, 5430, 5431, 5432, 5433, 5434, 5435, 5436, 5437, 5438, 5442, 5443, 5444, 5445, 5446, 5447, 5448, 5449, 5450, 5451, 5452, 5453, 5454, 5455, 5456, 5457, 5458, 5459, 5460, 5461, 5462, 5463, 5464, 5465, 5466, 5467, 5468, 5469, 5470, 5471, 5472, 5473, 5474, 5475, 5476, 5477, 5478, 5479, 5480, 5481, 5482, 5483, 5484, 5485, 5486, 5487, 5488, 5504, 5505, 5506, 5507, 5508, 5509, 5510, 5511, 5512, 5513, 5514, 5515, 5516, 5517, 5518, 5522, 5523, 5524, 5525, 5526, 5527, 5528, 5529, 5530, 5531, 5532, 5533, 5534, 5535, 5536, 5537, 5538, 5539, 5540, 5541, 5542, 5543, 5544, 5545, 5546, 5547, 5548, 5549, 5550, 5551, 5552, 5553, 5554, 5555, 5556, 5557, 5558, 5559, 5560, 5561, 5562, 5563, 5564, 5565, 5566, 5567, 5568, 5569, 5570, 5587, 5588, 5589, 5590, 5591, 5592, 5593, 5594, 5595, 5596, 5597, 5603, 5604, 5605, 5606, 5607, 5608, 5609, 5610, 5611, 5612, 5613, 5614, 5615, 5616, 5617, 5618, 5619, 5620, 5621, 5622, 5623, 5624, 5625, 5626, 5627, 5628, 5629, 5630, 5631, 5632, 5633, 5634, 5635, 5636, 5637, 5638, 5639, 5640, 5641, 5642, 5643, 5644, 5645, 5646, 5647, 5648, 5649, 5650, 5651, 5669, 5670, 5671, 5672, 5673, 5674, 5675, 5676, 5677, 5683, 5684, 5685, 5686, 5687, 5688, 5689, 5690, 5691, 5692, 5693, 5694, 5695, 5696, 5697, 5698, 5699, 5700, 5701, 5702, 5703, 5704, 5705, 5706, 5707, 5708, 5709, 5710, 5711, 5712, 5713, 5714, 5715, 5716, 5717, 5718, 5719, 5720, 5721, 5722, 5723, 5724, 5725, 5726, 5727, 5728, 5729, 5730, 5731, 5732, 5733, 5751, 5752, 5753, 5754, 5755, 5756, 5757, 5763, 5764, 5765, 5766, 5767, 5768, 5769, 5770, 5771, 5772, 5773, 5774, 5775, 5776, 5777, 5778, 5779, 5780, 5781, 5782, 5783, 5784, 5785, 5786, 5787, 5788, 5789, 5790, 5791, 5792, 5793, 5794, 5795, 5796, 5797, 5798, 5799, 5800, 5801, 5802, 5803, 5804, 5805, 5806, 5807, 5808, 5809, 5810, 5811, 5812, 5813, 5814, 5815, 5832, 5833, 5834, 5835, 5836, 5837, 5843, 5844, 5845, 5846, 5847, 5848, 5849, 5850, 5851, 5852, 5853, 5854, 5855, 5856, 5857, 5858, 5859, 5860, 5861, 5862, 5863, 5864, 5865, 5866, 5867, 5868, 5869, 5870, 5871, 5872, 5873, 5874, 5875, 5876, 5877, 5878, 5879, 5880, 5881, 5882, 5883, 5884, 5885, 5886, 5887, 5888, 5889, 5890, 5891, 5892, 5893, 5894, 5895, 5896, 5897, 5913, 5914, 5915, 5916, 5917, 5923, 5924, 5925, 5926, 5927, 5928, 5929, 5930, 5931, 5932, 5933, 5934, 5935, 5936, 5937, 5938, 5939, 5940, 5941, 5942, 5943, 5944, 5945, 5946, 5947, 5948, 5949, 5950, 5951, 5952, 5953, 5954, 5955, 5956, 5957, 5958, 5959, 5960, 5961, 5962, 5963, 5964, 5965, 5966, 5967, 5968, 5969, 5970, 5971, 5972, 5973, 5974, 5975, 5976, 5977, 5978, 5979, 5994, 5995, 5996, 5997, 6003, 6004, 6005, 6006, 6007, 6008, 6009, 6010, 6011, 6012, 6013, 6014, 6015, 6016, 6017, 6018, 6019, 6020, 6021, 6022, 6023, 6024, 6025, 6026, 6027, 6028, 6029, 6030, 6031, 6032, 6033, 6034, 6035, 6036, 6037, 6038, 6039, 6040, 6041, 6042, 6043, 6044, 6045, 6046, 6047, 6048, 6049, 6050, 6051, 6052, 6053, 6054, 6055, 6056, 6057, 6058, 6059, 6060, 6075, 6076, 6077, 6083, 6084, 6085, 6086, 6087, 6088, 6089, 6090, 6091, 6092, 6093, 6094, 6095, 6096, 6097, 6098, 6099, 6100, 6101, 6102, 6103, 6104, 6105, 6106, 6107, 6108, 6109, 6110, 6111, 6112, 6113, 6114, 6115, 6116, 6117, 6118, 6119, 6120, 6121, 6122, 6123, 6124, 6125, 6126, 6127, 6128, 6129, 6130, 6131, 6132, 6133, 6134, 6135, 6136, 6137, 6138, 6139, 6140, 6141, 6142, 6156, 6157, 6163, 6164, 6165, 6166, 6167, 6168, 6169, 6170, 6171, 6172, 6173, 6174, 6175, 6176, 6177, 6178, 6179, 6180, 6181, 6182, 6183, 6184, 6185, 6186, 6187, 6188, 6189, 6190, 6191, 6192, 6193, 6194, 6195, 6196, 6197, 6198, 6199, 6200, 6201, 6202, 6203, 6204, 6205, 6206, 6207, 6208, 6209, 6210, 6211, 6212, 6213, 6214, 6215, 6216, 6217, 6218, 6219, 6220, 6221, 6222, 6223, 6224, 6237, 6243, 6244, 6245, 6246, 6247, 6248, 6249, 6250, 6251, 6252, 6253, 6254, 6255, 6256, 6257, 6258, 6259, 6260, 6261, 6262, 6263, 6264, 6265, 6266, 6267, 6268, 6269, 6270, 6271, 6272, 6273, 6274, 6275, 6276, 6277, 6278, 6279, 6280, 6281, 6282, 6283, 6284, 6285, 6286, 6287, 6288, 6289, 6290, 6291, 6292, 6293, 6294, 6295, 6296, 6297, 6298, 6299, 6300, 6301, 6302, 6303, 6304, 6305, 6306, 6323, 6324, 6325, 6326, 6327, 6328, 6329, 6330, 6331, 6332, 6333, 6334, 6335, 6336, 6337, 6338, 6339, 6340, 6341, 6342, 6343, 6344, 6345, 6346, 6347, 6348, 6349, 6350, 6351, 6352, 6353, 6354, 6355, 6356, 6357, 6358, 6359, 6360, 6361, 6362, 6363, 6364, 6365, 6366, 6367, 6368, 6369, 6370, 6371, 6372, 6373, 6374, 6375, 6376, 6377, 6378, 6379, 6380, 6381, 6382, 6383, 6384, 6385, 6386, 6387, 6388, 6403, 6404, 6405, 6406, 6407, 6408, 6409, 6410, 6411, 6412, 6413, 6414, 6415, 6416, 6417, 6418, 6419, 6420, 6421, 6422, 6423, 6424, 6425, 6426, 6427, 6428, 6429, 6430, 6431, 6432, 6433, 6434, 6435, 6436, 6437, 6438, 6439, 6440, 6441, 6442, 6443, 6444, 6445, 6446, 6447, 6448, 6449, 6450, 6451, 6452, 6453, 6454, 6455, 6456, 6457, 6458, 6459, 6460, 6461, 6462, 6463, 6464, 6465, 6466, 6467, 6468, 6469, 6483, 6484, 6485, 6486, 6487, 6488, 6489, 6490, 6491, 6492, 6493, 6494, 6495, 6496, 6497, 6498, 6499, 6500, 6501, 6502, 6503, 6504, 6505, 6506, 6507, 6508, 6509, 6510, 6511, 6512, 6513, 6514, 6515, 6516, 6517, 6518, 6519, 6520, 6521, 6522, 6523, 6524, 6525, 6526, 6527, 6528, 6529, 6530, 6531, 6532, 6533, 6534, 6535, 6536, 6537, 6538, 6539, 6540, 6541, 6542, 6543, 6544, 6545, 6546, 6547, 6548, 6549, 6550, 6551]\n",
      "val ids:  []\n",
      "test ids:  [0, 1, 2, 3, 4, 5, 6, 7, 8, 78, 79, 80, 81, 82, 83, 84, 85, 86, 87, 88, 89, 90, 158, 159, 160, 161, 162, 163, 164, 165, 166, 167, 168, 169, 170, 171, 238, 239, 240, 241, 242, 243, 244, 245, 246, 247, 248, 249, 250, 251, 252, 253, 318, 319, 320, 321, 322, 324, 325, 326, 327, 328, 329, 330, 331, 332, 333, 334, 335, 398, 399, 400, 401, 402, 405, 406, 407, 408, 409, 410, 411, 412, 413, 414, 415, 416, 417, 478, 479, 480, 481, 482, 486, 487, 488, 489, 490, 491, 492, 493, 494, 495, 496, 497, 498, 499, 558, 559, 560, 561, 562, 567, 568, 569, 570, 571, 572, 573, 574, 575, 576, 577, 578, 579, 580, 638, 639, 640, 641, 642, 648, 649, 650, 651, 652, 653, 654, 655, 656, 657, 658, 659, 660, 661, 662, 718, 719, 720, 721, 722, 729, 730, 731, 732, 733, 734, 735, 736, 737, 738, 739, 740, 741, 742, 743, 744, 798, 799, 800, 801, 802, 810, 811, 812, 813, 814, 815, 816, 817, 818, 819, 820, 821, 822, 823, 824, 825, 826, 878, 879, 880, 881, 882, 892, 893, 894, 895, 896, 897, 898, 899, 900, 901, 902, 903, 904, 905, 906, 907, 908, 958, 959, 960, 961, 962, 974, 975, 976, 977, 978, 979, 980, 981, 982, 983, 984, 985, 986, 987, 988, 989, 1039, 1040, 1041, 1057, 1058, 1059, 1060, 1061, 1062, 1063, 1064, 1065, 1066, 1067, 1068, 1069, 1070, 1071, 1119, 1120, 1121, 1139, 1140, 1141, 1142, 1143, 1144, 1145, 1146, 1147, 1148, 1149, 1150, 1151, 1152, 1153, 1199, 1200, 1201, 1221, 1222, 1223, 1224, 1225, 1226, 1227, 1228, 1229, 1230, 1231, 1232, 1233, 1234, 1235, 1279, 1280, 1281, 1304, 1305, 1306, 1307, 1308, 1309, 1310, 1311, 1312, 1313, 1314, 1315, 1316, 1359, 1360, 1361, 1386, 1387, 1388, 1389, 1390, 1391, 1392, 1393, 1394, 1395, 1396, 1397, 1398, 1439, 1440, 1441, 1469, 1470, 1471, 1472, 1473, 1474, 1475, 1476, 1477, 1478, 1479, 1480, 1519, 1520, 1521, 1551, 1552, 1553, 1554, 1555, 1556, 1557, 1558, 1559, 1560, 1561, 1562, 1599, 1600, 1601, 1633, 1634, 1635, 1636, 1637, 1638, 1639, 1640, 1641, 1642, 1643, 1644, 1679, 1680, 1681, 1716, 1717, 1718, 1719, 1720, 1721, 1722, 1723, 1724, 1725, 1759, 1760, 1761, 1798, 1799, 1800, 1801, 1802, 1803, 1804, 1805, 1806, 1807, 1839, 1840, 1841, 1880, 1881, 1882, 1883, 1884, 1885, 1886, 1887, 1888, 1889, 1919, 1920, 1921, 1963, 1964, 1965, 1966, 1967, 1968, 1969, 1970, 1971, 1999, 2000, 2001, 2045, 2046, 2047, 2048, 2049, 2050, 2051, 2052, 2053, 2079, 2080, 2081, 2127, 2128, 2129, 2130, 2131, 2132, 2133, 2134, 2160, 2210, 2211, 2212, 2213, 2214, 2215, 2216, 2240, 2292, 2293, 2294, 2295, 2296, 2297, 2298, 2320, 2375, 2376, 2377, 2378, 2379, 2380, 2400, 2457, 2458, 2459, 2460, 2461, 2462, 2480, 2539, 2540, 2541, 2542, 2543, 2560, 2622, 2623, 2624, 2625, 2640, 2704, 2705, 2706, 2707, 2720, 2786, 2787, 2788, 2789, 2800, 2869, 2870, 2871, 2880, 2951, 2952, 2960, 3033, 3034, 3040, 3116, 3120, 3198, 3200, 3280, 3360, 3362, 3440, 3444, 3520, 3526, 3527, 3600, 3608, 3609, 3680, 3689, 3690, 3691, 3760, 3771, 3772, 3773, 3774, 3840, 3853, 3854, 3855, 3856, 3920, 3935, 3936, 3937, 3938, 4000, 4017, 4018, 4019, 4020, 4021, 4080, 4098, 4099, 4100, 4101, 4102, 4103, 4160, 4180, 4181, 4182, 4183, 4184, 4185, 4240, 4262, 4263, 4264, 4265, 4266, 4267, 4268, 4320, 4344, 4345, 4346, 4347, 4348, 4349, 4350, 4400, 4426, 4427, 4428, 4429, 4430, 4431, 4432, 4433, 4479, 4480, 4481, 4507, 4508, 4509, 4510, 4511, 4512, 4513, 4514, 4515, 4559, 4560, 4561, 4589, 4590, 4591, 4592, 4593, 4594, 4595, 4596, 4597, 4639, 4640, 4641, 4671, 4672, 4673, 4674, 4675, 4676, 4677, 4678, 4679, 4680, 4719, 4720, 4721, 4753, 4754, 4755, 4756, 4757, 4758, 4759, 4760, 4761, 4762, 4799, 4800, 4801, 4835, 4836, 4837, 4838, 4839, 4840, 4841, 4842, 4843, 4844, 4879, 4880, 4881, 4916, 4917, 4918, 4919, 4920, 4921, 4922, 4923, 4924, 4925, 4926, 4927, 4959, 4960, 4961, 4998, 4999, 5000, 5001, 5002, 5003, 5004, 5005, 5006, 5007, 5008, 5009, 5039, 5040, 5041, 5080, 5081, 5082, 5083, 5084, 5085, 5086, 5087, 5088, 5089, 5090, 5091, 5119, 5120, 5121, 5162, 5163, 5164, 5165, 5166, 5167, 5168, 5169, 5170, 5171, 5172, 5173, 5174, 5199, 5200, 5201, 5244, 5245, 5246, 5247, 5248, 5249, 5250, 5251, 5252, 5253, 5254, 5255, 5256, 5279, 5280, 5281, 5325, 5326, 5327, 5328, 5329, 5330, 5331, 5332, 5333, 5334, 5335, 5336, 5337, 5338, 5339, 5359, 5360, 5361, 5407, 5408, 5409, 5410, 5411, 5412, 5413, 5414, 5415, 5416, 5417, 5418, 5419, 5420, 5421, 5439, 5440, 5441, 5489, 5490, 5491, 5492, 5493, 5494, 5495, 5496, 5497, 5498, 5499, 5500, 5501, 5502, 5503, 5519, 5520, 5521, 5571, 5572, 5573, 5574, 5575, 5576, 5577, 5578, 5579, 5580, 5581, 5582, 5583, 5584, 5585, 5586, 5598, 5599, 5600, 5601, 5602, 5652, 5653, 5654, 5655, 5656, 5657, 5658, 5659, 5660, 5661, 5662, 5663, 5664, 5665, 5666, 5667, 5668, 5678, 5679, 5680, 5681, 5682, 5734, 5735, 5736, 5737, 5738, 5739, 5740, 5741, 5742, 5743, 5744, 5745, 5746, 5747, 5748, 5749, 5750, 5758, 5759, 5760, 5761, 5762, 5816, 5817, 5818, 5819, 5820, 5821, 5822, 5823, 5824, 5825, 5826, 5827, 5828, 5829, 5830, 5831, 5838, 5839, 5840, 5841, 5842, 5898, 5899, 5900, 5901, 5902, 5903, 5904, 5905, 5906, 5907, 5908, 5909, 5910, 5911, 5912, 5918, 5919, 5920, 5921, 5922, 5980, 5981, 5982, 5983, 5984, 5985, 5986, 5987, 5988, 5989, 5990, 5991, 5992, 5993, 5998, 5999, 6000, 6001, 6002, 6061, 6062, 6063, 6064, 6065, 6066, 6067, 6068, 6069, 6070, 6071, 6072, 6073, 6074, 6078, 6079, 6080, 6081, 6082, 6143, 6144, 6145, 6146, 6147, 6148, 6149, 6150, 6151, 6152, 6153, 6154, 6155, 6158, 6159, 6160, 6161, 6162, 6225, 6226, 6227, 6228, 6229, 6230, 6231, 6232, 6233, 6234, 6235, 6236, 6238, 6239, 6240, 6241, 6242, 6307, 6308, 6309, 6310, 6311, 6312, 6313, 6314, 6315, 6316, 6317, 6318, 6319, 6320, 6321, 6322, 6389, 6390, 6391, 6392, 6393, 6394, 6395, 6396, 6397, 6398, 6399, 6400, 6401, 6402, 6470, 6471, 6472, 6473, 6474, 6475, 6476, 6477, 6478, 6479, 6480, 6481, 6482, 6552, 6553, 6554, 6555, 6556, 6557, 6558, 6559, 6560]\n",
      "CPU times: user 154 ms, sys: 16.3 ms, total: 171 ms\n",
      "Wall time: 170 ms\n"
     ]
    }
   ],
   "source": [
    "%%time\n",
    "n_total = len(simulation.dataframe)\n",
    "n_train = len(simulation.dataframe[simulation.dataframe.type_of == \"train\"])\n",
    "n_val = len(simulation.dataframe[simulation.dataframe.type_of == \"val\"])\n",
    "n_test = len(simulation.dataframe[simulation.dataframe.type_of == \"test\"])\n",
    "n_train_hamiltonians = len(simulation.train_ids)\n",
    "n_val_hamiltonians = len(simulation.val_ids)\n",
    "n_test_hamiltonians = len(simulation.test_ids)\n",
    "n_total_hamiltonians = n_train_hamiltonians + n_val_hamiltonians + n_test_hamiltonians\n",
    "\n",
    "print(\"% train: \", n_train/n_total)\n",
    "print(\"% val: \",  n_val/n_total)\n",
    "print(\"% test: \", n_test/n_total)\n",
    "print(\"% train + val + test: \", (n_train+n_val+n_test)/n_total)\n",
    "print(\"\\n\")\n",
    "print(\"number of train hamiltonians: \", n_train_hamiltonians)\n",
    "print(\"number of val hamiltonians: \", n_val_hamiltonians)\n",
    "print(\"number of test hamiltonians: \", n_test_hamiltonians)\n",
    "print(\"total number of hamiltonians: \", n_total_hamiltonians)\n",
    "print(\"\\n\")\n",
    "print(\"train ids: \", simulation.train_ids)\n",
    "print(\"val ids: \", simulation.val_ids)\n",
    "print(\"test ids: \", simulation.test_ids)"
   ]
  },
  {
   "cell_type": "markdown",
   "metadata": {
    "papermill": {
     "duration": 0.020183,
     "end_time": "2020-07-18T05:43:05.422526",
     "exception": false,
     "start_time": "2020-07-18T05:43:05.402343",
     "status": "completed"
    },
    "tags": []
   },
   "source": [
    "## Running a simulation"
   ]
  },
  {
   "cell_type": "code",
   "execution_count": 27,
   "metadata": {
    "execution": {
     "iopub.execute_input": "2020-07-18T05:43:05.462227Z",
     "iopub.status.busy": "2020-07-18T05:43:05.461894Z",
     "iopub.status.idle": "2020-07-18T06:07:00.926826Z",
     "shell.execute_reply": "2020-07-18T06:07:00.926511Z"
    },
    "papermill": {
     "duration": 1435.485602,
     "end_time": "2020-07-18T06:07:00.926877",
     "exception": false,
     "start_time": "2020-07-18T05:43:05.441275",
     "status": "completed"
    },
    "tags": []
   },
   "outputs": [
    {
     "name": "stderr",
     "output_type": "stream",
     "text": [
      "\r",
      "running experiments:   0%|          | 0/100 [00:00<?, ?it/s]"
     ]
    },
    {
     "name": "stdout",
     "output_type": "stream",
     "text": [
      "Simulation mode:  dst\n"
     ]
    },
    {
     "name": "stderr",
     "output_type": "stream",
     "text": [
      "\r",
      "running experiments:   1%|          | 1/100 [00:17<28:15, 17.13s/it]"
     ]
    },
    {
     "name": "stderr",
     "output_type": "stream",
     "text": [
      "\r",
      "running experiments:   2%|▏         | 2/100 [00:33<27:22, 16.76s/it]"
     ]
    },
    {
     "name": "stderr",
     "output_type": "stream",
     "text": [
      "\r",
      "running experiments:   3%|▎         | 3/100 [00:47<25:56, 16.05s/it]"
     ]
    },
    {
     "name": "stderr",
     "output_type": "stream",
     "text": [
      "\r",
      "running experiments:   4%|▍         | 4/100 [01:02<24:59, 15.62s/it]"
     ]
    },
    {
     "name": "stderr",
     "output_type": "stream",
     "text": [
      "\r",
      "running experiments:   5%|▌         | 5/100 [01:16<24:03, 15.20s/it]"
     ]
    },
    {
     "name": "stderr",
     "output_type": "stream",
     "text": [
      "\r",
      "running experiments:   6%|▌         | 6/100 [01:35<25:48, 16.47s/it]"
     ]
    },
    {
     "name": "stderr",
     "output_type": "stream",
     "text": [
      "\r",
      "running experiments:   7%|▋         | 7/100 [01:47<23:10, 14.95s/it]"
     ]
    },
    {
     "name": "stderr",
     "output_type": "stream",
     "text": [
      "\r",
      "running experiments:   8%|▊         | 8/100 [02:00<22:15, 14.52s/it]"
     ]
    },
    {
     "name": "stderr",
     "output_type": "stream",
     "text": [
      "\r",
      "running experiments:   9%|▉         | 9/100 [02:12<21:01, 13.86s/it]"
     ]
    },
    {
     "name": "stderr",
     "output_type": "stream",
     "text": [
      "\r",
      "running experiments:  10%|█         | 10/100 [02:29<21:53, 14.60s/it]"
     ]
    },
    {
     "name": "stderr",
     "output_type": "stream",
     "text": [
      "\r",
      "running experiments:  11%|█         | 11/100 [02:41<20:23, 13.75s/it]"
     ]
    },
    {
     "name": "stderr",
     "output_type": "stream",
     "text": [
      "\r",
      "running experiments:  12%|█▏        | 12/100 [02:52<19:10, 13.07s/it]"
     ]
    },
    {
     "name": "stderr",
     "output_type": "stream",
     "text": [
      "\r",
      "running experiments:  13%|█▎        | 13/100 [03:10<21:01, 14.50s/it]"
     ]
    },
    {
     "name": "stderr",
     "output_type": "stream",
     "text": [
      "\r",
      "running experiments:  14%|█▍        | 14/100 [03:28<22:17, 15.55s/it]"
     ]
    },
    {
     "name": "stderr",
     "output_type": "stream",
     "text": [
      "\r",
      "running experiments:  15%|█▌        | 15/100 [03:38<19:41, 13.90s/it]"
     ]
    },
    {
     "name": "stderr",
     "output_type": "stream",
     "text": [
      "\r",
      "running experiments:  16%|█▌        | 16/100 [03:51<19:15, 13.75s/it]"
     ]
    },
    {
     "name": "stderr",
     "output_type": "stream",
     "text": [
      "\r",
      "running experiments:  17%|█▋        | 17/100 [04:07<19:37, 14.19s/it]"
     ]
    },
    {
     "name": "stderr",
     "output_type": "stream",
     "text": [
      "\r",
      "running experiments:  18%|█▊        | 18/100 [04:19<18:52, 13.81s/it]"
     ]
    },
    {
     "name": "stderr",
     "output_type": "stream",
     "text": [
      "\r",
      "running experiments:  19%|█▉        | 19/100 [04:32<18:08, 13.44s/it]"
     ]
    },
    {
     "name": "stderr",
     "output_type": "stream",
     "text": [
      "\r",
      "running experiments:  20%|██        | 20/100 [04:44<17:25, 13.06s/it]"
     ]
    },
    {
     "name": "stderr",
     "output_type": "stream",
     "text": [
      "\r",
      "running experiments:  21%|██        | 21/100 [04:58<17:19, 13.15s/it]"
     ]
    },
    {
     "name": "stderr",
     "output_type": "stream",
     "text": [
      "\r",
      "running experiments:  22%|██▏       | 22/100 [05:12<17:35, 13.54s/it]"
     ]
    },
    {
     "name": "stderr",
     "output_type": "stream",
     "text": [
      "\r",
      "running experiments:  23%|██▎       | 23/100 [05:26<17:33, 13.68s/it]"
     ]
    },
    {
     "name": "stderr",
     "output_type": "stream",
     "text": [
      "\r",
      "running experiments:  24%|██▍       | 24/100 [05:39<16:52, 13.33s/it]"
     ]
    },
    {
     "name": "stderr",
     "output_type": "stream",
     "text": [
      "\r",
      "running experiments:  25%|██▌       | 25/100 [05:54<17:21, 13.88s/it]"
     ]
    },
    {
     "name": "stderr",
     "output_type": "stream",
     "text": [
      "\r",
      "running experiments:  26%|██▌       | 26/100 [06:08<17:10, 13.92s/it]"
     ]
    },
    {
     "name": "stderr",
     "output_type": "stream",
     "text": [
      "\r",
      "running experiments:  27%|██▋       | 27/100 [06:23<17:23, 14.30s/it]"
     ]
    },
    {
     "name": "stderr",
     "output_type": "stream",
     "text": [
      "\r",
      "running experiments:  28%|██▊       | 28/100 [06:34<16:08, 13.46s/it]"
     ]
    },
    {
     "name": "stderr",
     "output_type": "stream",
     "text": [
      "\r",
      "running experiments:  29%|██▉       | 29/100 [06:51<16:56, 14.32s/it]"
     ]
    },
    {
     "name": "stderr",
     "output_type": "stream",
     "text": [
      "\r",
      "running experiments:  30%|███       | 30/100 [07:05<16:49, 14.42s/it]"
     ]
    },
    {
     "name": "stderr",
     "output_type": "stream",
     "text": [
      "\r",
      "running experiments:  31%|███       | 31/100 [07:23<17:43, 15.42s/it]"
     ]
    },
    {
     "name": "stderr",
     "output_type": "stream",
     "text": [
      "\r",
      "running experiments:  32%|███▏      | 32/100 [07:37<16:59, 14.99s/it]"
     ]
    },
    {
     "name": "stderr",
     "output_type": "stream",
     "text": [
      "\r",
      "running experiments:  33%|███▎      | 33/100 [07:54<17:19, 15.52s/it]"
     ]
    },
    {
     "name": "stderr",
     "output_type": "stream",
     "text": [
      "\r",
      "running experiments:  34%|███▍      | 34/100 [08:09<17:01, 15.48s/it]"
     ]
    },
    {
     "name": "stderr",
     "output_type": "stream",
     "text": [
      "\r",
      "running experiments:  35%|███▌      | 35/100 [08:27<17:25, 16.08s/it]"
     ]
    },
    {
     "name": "stderr",
     "output_type": "stream",
     "text": [
      "\r",
      "running experiments:  36%|███▌      | 36/100 [08:40<16:11, 15.18s/it]"
     ]
    },
    {
     "name": "stderr",
     "output_type": "stream",
     "text": [
      "\r",
      "running experiments:  37%|███▋      | 37/100 [08:58<16:57, 16.16s/it]"
     ]
    },
    {
     "name": "stderr",
     "output_type": "stream",
     "text": [
      "\r",
      "running experiments:  38%|███▊      | 38/100 [09:15<17:02, 16.49s/it]"
     ]
    },
    {
     "name": "stderr",
     "output_type": "stream",
     "text": [
      "\r",
      "running experiments:  39%|███▉      | 39/100 [09:31<16:20, 16.07s/it]"
     ]
    },
    {
     "name": "stderr",
     "output_type": "stream",
     "text": [
      "\r",
      "running experiments:  40%|████      | 40/100 [09:43<15:01, 15.03s/it]"
     ]
    },
    {
     "name": "stderr",
     "output_type": "stream",
     "text": [
      "\r",
      "running experiments:  41%|████      | 41/100 [09:58<14:46, 15.03s/it]"
     ]
    },
    {
     "name": "stderr",
     "output_type": "stream",
     "text": [
      "\r",
      "running experiments:  42%|████▏     | 42/100 [10:13<14:33, 15.07s/it]"
     ]
    },
    {
     "name": "stderr",
     "output_type": "stream",
     "text": [
      "\r",
      "running experiments:  43%|████▎     | 43/100 [10:28<14:14, 14.99s/it]"
     ]
    },
    {
     "name": "stderr",
     "output_type": "stream",
     "text": [
      "\r",
      "running experiments:  44%|████▍     | 44/100 [10:44<14:18, 15.33s/it]"
     ]
    },
    {
     "name": "stderr",
     "output_type": "stream",
     "text": [
      "\r",
      "running experiments:  45%|████▌     | 45/100 [10:54<12:31, 13.66s/it]"
     ]
    },
    {
     "name": "stderr",
     "output_type": "stream",
     "text": [
      "\r",
      "running experiments:  46%|████▌     | 46/100 [11:09<12:34, 13.97s/it]"
     ]
    },
    {
     "name": "stderr",
     "output_type": "stream",
     "text": [
      "\r",
      "running experiments:  47%|████▋     | 47/100 [11:25<12:58, 14.70s/it]"
     ]
    },
    {
     "name": "stderr",
     "output_type": "stream",
     "text": [
      "\r",
      "running experiments:  48%|████▊     | 48/100 [11:37<12:01, 13.88s/it]"
     ]
    },
    {
     "name": "stderr",
     "output_type": "stream",
     "text": [
      "\r",
      "running experiments:  49%|████▉     | 49/100 [11:53<12:18, 14.49s/it]"
     ]
    },
    {
     "name": "stderr",
     "output_type": "stream",
     "text": [
      "\r",
      "running experiments:  50%|█████     | 50/100 [12:05<11:27, 13.75s/it]"
     ]
    },
    {
     "name": "stderr",
     "output_type": "stream",
     "text": [
      "\r",
      "running experiments:  51%|█████     | 51/100 [12:21<11:43, 14.35s/it]"
     ]
    },
    {
     "name": "stderr",
     "output_type": "stream",
     "text": [
      "\r",
      "running experiments:  52%|█████▏    | 52/100 [12:32<10:49, 13.52s/it]"
     ]
    },
    {
     "name": "stderr",
     "output_type": "stream",
     "text": [
      "\r",
      "running experiments:  53%|█████▎    | 53/100 [12:45<10:23, 13.28s/it]"
     ]
    },
    {
     "name": "stderr",
     "output_type": "stream",
     "text": [
      "\r",
      "running experiments:  54%|█████▍    | 54/100 [12:59<10:24, 13.58s/it]"
     ]
    },
    {
     "name": "stderr",
     "output_type": "stream",
     "text": [
      "\r",
      "running experiments:  55%|█████▌    | 55/100 [13:13<10:13, 13.64s/it]"
     ]
    },
    {
     "name": "stderr",
     "output_type": "stream",
     "text": [
      "\r",
      "running experiments:  56%|█████▌    | 56/100 [13:28<10:19, 14.07s/it]"
     ]
    },
    {
     "name": "stderr",
     "output_type": "stream",
     "text": [
      "\r",
      "running experiments:  57%|█████▋    | 57/100 [13:45<10:34, 14.76s/it]"
     ]
    },
    {
     "name": "stderr",
     "output_type": "stream",
     "text": [
      "\r",
      "running experiments:  58%|█████▊    | 58/100 [13:58<10:08, 14.48s/it]"
     ]
    },
    {
     "name": "stderr",
     "output_type": "stream",
     "text": [
      "\r",
      "running experiments:  59%|█████▉    | 59/100 [14:13<09:49, 14.39s/it]"
     ]
    },
    {
     "name": "stderr",
     "output_type": "stream",
     "text": [
      "\r",
      "running experiments:  60%|██████    | 60/100 [14:30<10:08, 15.22s/it]"
     ]
    },
    {
     "name": "stderr",
     "output_type": "stream",
     "text": [
      "\r",
      "running experiments:  61%|██████    | 61/100 [14:44<09:38, 14.82s/it]"
     ]
    },
    {
     "name": "stderr",
     "output_type": "stream",
     "text": [
      "\r",
      "running experiments:  62%|██████▏   | 62/100 [15:03<10:12, 16.13s/it]"
     ]
    },
    {
     "name": "stderr",
     "output_type": "stream",
     "text": [
      "\r",
      "running experiments:  63%|██████▎   | 63/100 [15:17<09:31, 15.44s/it]"
     ]
    },
    {
     "name": "stderr",
     "output_type": "stream",
     "text": [
      "\r",
      "running experiments:  64%|██████▍   | 64/100 [15:34<09:32, 15.90s/it]"
     ]
    },
    {
     "name": "stderr",
     "output_type": "stream",
     "text": [
      "\r",
      "running experiments:  65%|██████▌   | 65/100 [15:43<08:09, 13.99s/it]"
     ]
    },
    {
     "name": "stderr",
     "output_type": "stream",
     "text": [
      "\r",
      "running experiments:  66%|██████▌   | 66/100 [16:01<08:32, 15.07s/it]"
     ]
    },
    {
     "name": "stderr",
     "output_type": "stream",
     "text": [
      "\r",
      "running experiments:  67%|██████▋   | 67/100 [16:13<07:53, 14.34s/it]"
     ]
    },
    {
     "name": "stderr",
     "output_type": "stream",
     "text": [
      "\r",
      "running experiments:  68%|██████▊   | 68/100 [16:31<08:13, 15.42s/it]"
     ]
    },
    {
     "name": "stderr",
     "output_type": "stream",
     "text": [
      "\r",
      "running experiments:  69%|██████▉   | 69/100 [16:45<07:43, 14.96s/it]"
     ]
    },
    {
     "name": "stderr",
     "output_type": "stream",
     "text": [
      "\r",
      "running experiments:  70%|███████   | 70/100 [16:58<07:05, 14.20s/it]"
     ]
    },
    {
     "name": "stderr",
     "output_type": "stream",
     "text": [
      "\r",
      "running experiments:  71%|███████   | 71/100 [17:11<06:44, 13.96s/it]"
     ]
    },
    {
     "name": "stderr",
     "output_type": "stream",
     "text": [
      "\r",
      "running experiments:  72%|███████▏  | 72/100 [17:27<06:49, 14.62s/it]"
     ]
    },
    {
     "name": "stderr",
     "output_type": "stream",
     "text": [
      "\r",
      "running experiments:  73%|███████▎  | 73/100 [17:41<06:24, 14.24s/it]"
     ]
    },
    {
     "name": "stderr",
     "output_type": "stream",
     "text": [
      "\r",
      "running experiments:  74%|███████▍  | 74/100 [17:53<05:52, 13.55s/it]"
     ]
    },
    {
     "name": "stderr",
     "output_type": "stream",
     "text": [
      "\r",
      "running experiments:  75%|███████▌  | 75/100 [18:09<06:01, 14.47s/it]"
     ]
    },
    {
     "name": "stderr",
     "output_type": "stream",
     "text": [
      "\r",
      "running experiments:  76%|███████▌  | 76/100 [18:24<05:47, 14.47s/it]"
     ]
    },
    {
     "name": "stderr",
     "output_type": "stream",
     "text": [
      "\r",
      "running experiments:  77%|███████▋  | 77/100 [18:36<05:18, 13.83s/it]"
     ]
    },
    {
     "name": "stderr",
     "output_type": "stream",
     "text": [
      "\r",
      "running experiments:  78%|███████▊  | 78/100 [18:48<04:50, 13.21s/it]"
     ]
    },
    {
     "name": "stderr",
     "output_type": "stream",
     "text": [
      "\r",
      "running experiments:  79%|███████▉  | 79/100 [19:05<05:04, 14.51s/it]"
     ]
    },
    {
     "name": "stderr",
     "output_type": "stream",
     "text": [
      "\r",
      "running experiments:  80%|████████  | 80/100 [19:18<04:40, 14.01s/it]"
     ]
    },
    {
     "name": "stderr",
     "output_type": "stream",
     "text": [
      "\r",
      "running experiments:  81%|████████  | 81/100 [19:31<04:21, 13.77s/it]"
     ]
    },
    {
     "name": "stderr",
     "output_type": "stream",
     "text": [
      "\r",
      "running experiments:  82%|████████▏ | 82/100 [19:45<04:05, 13.62s/it]"
     ]
    },
    {
     "name": "stderr",
     "output_type": "stream",
     "text": [
      "\r",
      "running experiments:  83%|████████▎ | 83/100 [19:54<03:28, 12.28s/it]"
     ]
    },
    {
     "name": "stderr",
     "output_type": "stream",
     "text": [
      "\r",
      "running experiments:  84%|████████▍ | 84/100 [20:09<03:28, 13.04s/it]"
     ]
    },
    {
     "name": "stderr",
     "output_type": "stream",
     "text": [
      "\r",
      "running experiments:  85%|████████▌ | 85/100 [20:23<03:21, 13.41s/it]"
     ]
    },
    {
     "name": "stderr",
     "output_type": "stream",
     "text": [
      "\r",
      "running experiments:  86%|████████▌ | 86/100 [20:37<03:12, 13.78s/it]"
     ]
    },
    {
     "name": "stderr",
     "output_type": "stream",
     "text": [
      "\r",
      "running experiments:  87%|████████▋ | 87/100 [20:52<03:00, 13.88s/it]"
     ]
    },
    {
     "name": "stderr",
     "output_type": "stream",
     "text": [
      "\r",
      "running experiments:  88%|████████▊ | 88/100 [21:07<02:52, 14.37s/it]"
     ]
    },
    {
     "name": "stderr",
     "output_type": "stream",
     "text": [
      "\r",
      "running experiments:  89%|████████▉ | 89/100 [21:22<02:41, 14.65s/it]"
     ]
    },
    {
     "name": "stderr",
     "output_type": "stream",
     "text": [
      "\r",
      "running experiments:  90%|█████████ | 90/100 [21:32<02:12, 13.24s/it]"
     ]
    },
    {
     "name": "stderr",
     "output_type": "stream",
     "text": [
      "\r",
      "running experiments:  91%|█████████ | 91/100 [21:49<02:07, 14.19s/it]"
     ]
    },
    {
     "name": "stderr",
     "output_type": "stream",
     "text": [
      "\r",
      "running experiments:  92%|█████████▏| 92/100 [22:03<01:52, 14.06s/it]"
     ]
    },
    {
     "name": "stderr",
     "output_type": "stream",
     "text": [
      "\r",
      "running experiments:  93%|█████████▎| 93/100 [22:15<01:34, 13.57s/it]"
     ]
    },
    {
     "name": "stderr",
     "output_type": "stream",
     "text": [
      "\r",
      "running experiments:  94%|█████████▍| 94/100 [22:29<01:22, 13.80s/it]"
     ]
    },
    {
     "name": "stderr",
     "output_type": "stream",
     "text": [
      "\r",
      "running experiments:  95%|█████████▌| 95/100 [22:42<01:07, 13.55s/it]"
     ]
    },
    {
     "name": "stderr",
     "output_type": "stream",
     "text": [
      "\r",
      "running experiments:  96%|█████████▌| 96/100 [22:56<00:54, 13.51s/it]"
     ]
    },
    {
     "name": "stderr",
     "output_type": "stream",
     "text": [
      "\r",
      "running experiments:  97%|█████████▋| 97/100 [23:08<00:39, 13.22s/it]"
     ]
    },
    {
     "name": "stderr",
     "output_type": "stream",
     "text": [
      "\r",
      "running experiments:  98%|█████████▊| 98/100 [23:26<00:29, 14.67s/it]"
     ]
    },
    {
     "name": "stderr",
     "output_type": "stream",
     "text": [
      "\r",
      "running experiments:  99%|█████████▉| 99/100 [23:42<00:14, 14.95s/it]"
     ]
    },
    {
     "name": "stderr",
     "output_type": "stream",
     "text": [
      "\r",
      "running experiments: 100%|██████████| 100/100 [23:55<00:00, 14.39s/it]"
     ]
    },
    {
     "name": "stderr",
     "output_type": "stream",
     "text": [
      "\r",
      "running experiments: 100%|██████████| 100/100 [23:55<00:00, 14.35s/it]"
     ]
    },
    {
     "name": "stdout",
     "output_type": "stream",
     "text": [
      "CPU times: user 23min 53s, sys: 1.85 s, total: 23min 55s\n",
      "Wall time: 23min 55s\n"
     ]
    },
    {
     "name": "stderr",
     "output_type": "stream",
     "text": [
      "\n"
     ]
    }
   ],
   "source": [
    "\n",
    "%%time\n",
    "simulation.run_simulation(n_experiments, start_n, fit_params,shuffle_rows, pred_params, random_features, \\\n",
    "                          store_in_lists, save_eigenvector, save_hamiltonian, save_accuracy,\\\n",
    "                          save_models)\n",
    "if simulation.fourier_mode is not None:\n",
    "    simulation.fourier_dataframe.head(10)"
   ]
  },
  {
   "cell_type": "code",
   "execution_count": 28,
   "metadata": {
    "execution": {
     "iopub.execute_input": "2020-07-18T06:07:01.000862Z",
     "iopub.status.busy": "2020-07-18T06:07:01.000357Z",
     "iopub.status.idle": "2020-07-18T06:07:01.024764Z",
     "shell.execute_reply": "2020-07-18T06:07:01.025089Z"
    },
    "papermill": {
     "duration": 0.06257,
     "end_time": "2020-07-18T06:07:01.025158",
     "exception": false,
     "start_time": "2020-07-18T06:07:00.962588",
     "status": "completed"
    },
    "tags": []
   },
   "outputs": [
    {
     "data": {
      "text/html": [
       "<div>\n",
       "<style scoped>\n",
       "    .dataframe tbody tr th:only-of-type {\n",
       "        vertical-align: middle;\n",
       "    }\n",
       "\n",
       "    .dataframe tbody tr th {\n",
       "        vertical-align: top;\n",
       "    }\n",
       "\n",
       "    .dataframe thead th {\n",
       "        text-align: right;\n",
       "    }\n",
       "</style>\n",
       "<table border=\"1\" class=\"dataframe\">\n",
       "  <thead>\n",
       "    <tr style=\"text-align: right;\">\n",
       "      <th></th>\n",
       "      <th>id</th>\n",
       "      <th>path</th>\n",
       "      <th>t1</th>\n",
       "      <th>t2</th>\n",
       "      <th>winding</th>\n",
       "      <th>phase</th>\n",
       "      <th>pred_phase</th>\n",
       "      <th>type_of</th>\n",
       "      <th>feat0</th>\n",
       "      <th>feat1</th>\n",
       "      <th>...</th>\n",
       "      <th>feat90</th>\n",
       "      <th>feat91</th>\n",
       "      <th>feat92</th>\n",
       "      <th>feat93</th>\n",
       "      <th>feat94</th>\n",
       "      <th>feat95</th>\n",
       "      <th>feat96</th>\n",
       "      <th>feat97</th>\n",
       "      <th>feat98</th>\n",
       "      <th>feat99</th>\n",
       "    </tr>\n",
       "  </thead>\n",
       "  <tbody>\n",
       "    <tr>\n",
       "      <th>0</th>\n",
       "      <td>0</td>\n",
       "      <td>H_-2_-2_0.509296.dat</td>\n",
       "      <td>-2.0</td>\n",
       "      <td>-2.0</td>\n",
       "      <td>0.509296</td>\n",
       "      <td>999</td>\n",
       "      <td>666</td>\n",
       "      <td>test</td>\n",
       "      <td>0.100000</td>\n",
       "      <td>0.100000</td>\n",
       "      <td>...</td>\n",
       "      <td>0.100000</td>\n",
       "      <td>0.100000</td>\n",
       "      <td>0.100000</td>\n",
       "      <td>0.100000</td>\n",
       "      <td>0.100000</td>\n",
       "      <td>0.100000</td>\n",
       "      <td>0.100000</td>\n",
       "      <td>0.100000</td>\n",
       "      <td>0.100000</td>\n",
       "      <td>0.100000</td>\n",
       "    </tr>\n",
       "    <tr>\n",
       "      <th>1</th>\n",
       "      <td>0</td>\n",
       "      <td>H_-2_-2_0.509296.dat</td>\n",
       "      <td>-2.0</td>\n",
       "      <td>-2.0</td>\n",
       "      <td>0.509296</td>\n",
       "      <td>999</td>\n",
       "      <td>666</td>\n",
       "      <td>test</td>\n",
       "      <td>0.141421</td>\n",
       "      <td>0.141142</td>\n",
       "      <td>...</td>\n",
       "      <td>0.114412</td>\n",
       "      <td>0.108967</td>\n",
       "      <td>0.123928</td>\n",
       "      <td>0.119406</td>\n",
       "      <td>0.131490</td>\n",
       "      <td>0.127962</td>\n",
       "      <td>0.136978</td>\n",
       "      <td>0.134500</td>\n",
       "      <td>0.140306</td>\n",
       "      <td>0.138916</td>\n",
       "    </tr>\n",
       "    <tr>\n",
       "      <th>2</th>\n",
       "      <td>0</td>\n",
       "      <td>H_-2_-2_0.509296.dat</td>\n",
       "      <td>-2.0</td>\n",
       "      <td>-2.0</td>\n",
       "      <td>0.509296</td>\n",
       "      <td>999</td>\n",
       "      <td>666</td>\n",
       "      <td>test</td>\n",
       "      <td>0.141421</td>\n",
       "      <td>0.140306</td>\n",
       "      <td>...</td>\n",
       "      <td>0.043702</td>\n",
       "      <td>0.026500</td>\n",
       "      <td>0.075777</td>\n",
       "      <td>0.060214</td>\n",
       "      <td>0.103092</td>\n",
       "      <td>0.090145</td>\n",
       "      <td>0.123928</td>\n",
       "      <td>0.114412</td>\n",
       "      <td>0.136978</td>\n",
       "      <td>0.131490</td>\n",
       "    </tr>\n",
       "    <tr>\n",
       "      <th>3</th>\n",
       "      <td>0</td>\n",
       "      <td>H_-2_-2_0.509296.dat</td>\n",
       "      <td>-2.0</td>\n",
       "      <td>-2.0</td>\n",
       "      <td>0.509296</td>\n",
       "      <td>999</td>\n",
       "      <td>666</td>\n",
       "      <td>test</td>\n",
       "      <td>-0.100000</td>\n",
       "      <td>0.100000</td>\n",
       "      <td>...</td>\n",
       "      <td>-0.100000</td>\n",
       "      <td>0.100000</td>\n",
       "      <td>-0.100000</td>\n",
       "      <td>0.100000</td>\n",
       "      <td>-0.100000</td>\n",
       "      <td>0.100000</td>\n",
       "      <td>-0.100000</td>\n",
       "      <td>0.100000</td>\n",
       "      <td>-0.100000</td>\n",
       "      <td>0.100000</td>\n",
       "    </tr>\n",
       "    <tr>\n",
       "      <th>4</th>\n",
       "      <td>0</td>\n",
       "      <td>H_-2_-2_0.509296.dat</td>\n",
       "      <td>-2.0</td>\n",
       "      <td>-2.0</td>\n",
       "      <td>0.509296</td>\n",
       "      <td>999</td>\n",
       "      <td>666</td>\n",
       "      <td>test</td>\n",
       "      <td>0.000509</td>\n",
       "      <td>-0.008372</td>\n",
       "      <td>...</td>\n",
       "      <td>-0.082713</td>\n",
       "      <td>-0.089753</td>\n",
       "      <td>-0.067684</td>\n",
       "      <td>-0.075347</td>\n",
       "      <td>-0.051587</td>\n",
       "      <td>-0.059753</td>\n",
       "      <td>-0.034677</td>\n",
       "      <td>-0.043217</td>\n",
       "      <td>-0.017220</td>\n",
       "      <td>-0.026000</td>\n",
       "    </tr>\n",
       "    <tr>\n",
       "      <th>5</th>\n",
       "      <td>0</td>\n",
       "      <td>H_-2_-2_0.509296.dat</td>\n",
       "      <td>-2.0</td>\n",
       "      <td>-2.0</td>\n",
       "      <td>0.509296</td>\n",
       "      <td>999</td>\n",
       "      <td>666</td>\n",
       "      <td>test</td>\n",
       "      <td>0.001204</td>\n",
       "      <td>-0.016530</td>\n",
       "      <td>...</td>\n",
       "      <td>-0.134123</td>\n",
       "      <td>-0.138686</td>\n",
       "      <td>-0.118757</td>\n",
       "      <td>-0.127445</td>\n",
       "      <td>-0.095929</td>\n",
       "      <td>-0.108196</td>\n",
       "      <td>-0.067073</td>\n",
       "      <td>-0.082149</td>\n",
       "      <td>-0.034003</td>\n",
       "      <td>-0.050940</td>\n",
       "    </tr>\n",
       "    <tr>\n",
       "      <th>6</th>\n",
       "      <td>0</td>\n",
       "      <td>H_-2_-2_0.509296.dat</td>\n",
       "      <td>-2.0</td>\n",
       "      <td>-2.0</td>\n",
       "      <td>0.509296</td>\n",
       "      <td>999</td>\n",
       "      <td>666</td>\n",
       "      <td>test</td>\n",
       "      <td>-0.141421</td>\n",
       "      <td>-0.138980</td>\n",
       "      <td>...</td>\n",
       "      <td>0.043375</td>\n",
       "      <td>0.067830</td>\n",
       "      <td>-0.009222</td>\n",
       "      <td>0.017385</td>\n",
       "      <td>-0.060524</td>\n",
       "      <td>-0.035502</td>\n",
       "      <td>-0.103326</td>\n",
       "      <td>-0.083403</td>\n",
       "      <td>-0.131616</td>\n",
       "      <td>-0.119589</td>\n",
       "    </tr>\n",
       "    <tr>\n",
       "      <th>7</th>\n",
       "      <td>0</td>\n",
       "      <td>H_-2_-2_0.509296.dat</td>\n",
       "      <td>-2.0</td>\n",
       "      <td>-2.0</td>\n",
       "      <td>0.509296</td>\n",
       "      <td>999</td>\n",
       "      <td>666</td>\n",
       "      <td>test</td>\n",
       "      <td>-0.000826</td>\n",
       "      <td>0.025688</td>\n",
       "      <td>...</td>\n",
       "      <td>0.134753</td>\n",
       "      <td>0.124324</td>\n",
       "      <td>0.141088</td>\n",
       "      <td>0.140407</td>\n",
       "      <td>0.127608</td>\n",
       "      <td>0.136771</td>\n",
       "      <td>0.096206</td>\n",
       "      <td>0.113925</td>\n",
       "      <td>0.051292</td>\n",
       "      <td>0.075079</td>\n",
       "    </tr>\n",
       "    <tr>\n",
       "      <th>8</th>\n",
       "      <td>0</td>\n",
       "      <td>H_-2_-2_0.509296.dat</td>\n",
       "      <td>-2.0</td>\n",
       "      <td>-2.0</td>\n",
       "      <td>0.509296</td>\n",
       "      <td>999</td>\n",
       "      <td>666</td>\n",
       "      <td>test</td>\n",
       "      <td>0.141417</td>\n",
       "      <td>0.136684</td>\n",
       "      <td>...</td>\n",
       "      <td>-0.115093</td>\n",
       "      <td>-0.131915</td>\n",
       "      <td>-0.061266</td>\n",
       "      <td>-0.091040</td>\n",
       "      <td>0.007717</td>\n",
       "      <td>-0.027643</td>\n",
       "      <td>0.074791</td>\n",
       "      <td>0.042592</td>\n",
       "      <td>0.123363</td>\n",
       "      <td>0.102291</td>\n",
       "    </tr>\n",
       "    <tr>\n",
       "      <th>9</th>\n",
       "      <td>0</td>\n",
       "      <td>H_-2_-2_0.509296.dat</td>\n",
       "      <td>-2.0</td>\n",
       "      <td>-2.0</td>\n",
       "      <td>0.509296</td>\n",
       "      <td>999</td>\n",
       "      <td>666</td>\n",
       "      <td>test</td>\n",
       "      <td>0.001302</td>\n",
       "      <td>0.036430</td>\n",
       "      <td>...</td>\n",
       "      <td>0.082068</td>\n",
       "      <td>0.050848</td>\n",
       "      <td>0.127402</td>\n",
       "      <td>0.108132</td>\n",
       "      <td>0.141218</td>\n",
       "      <td>0.138667</td>\n",
       "      <td>0.120099</td>\n",
       "      <td>0.134896</td>\n",
       "      <td>0.069268</td>\n",
       "      <td>0.097755</td>\n",
       "    </tr>\n",
       "  </tbody>\n",
       "</table>\n",
       "<p>10 rows × 108 columns</p>\n",
       "</div>"
      ],
      "text/plain": [
       "   id                  path   t1   t2   winding  phase  pred_phase type_of  \\\n",
       "0   0  H_-2_-2_0.509296.dat -2.0 -2.0  0.509296    999         666    test   \n",
       "1   0  H_-2_-2_0.509296.dat -2.0 -2.0  0.509296    999         666    test   \n",
       "2   0  H_-2_-2_0.509296.dat -2.0 -2.0  0.509296    999         666    test   \n",
       "3   0  H_-2_-2_0.509296.dat -2.0 -2.0  0.509296    999         666    test   \n",
       "4   0  H_-2_-2_0.509296.dat -2.0 -2.0  0.509296    999         666    test   \n",
       "5   0  H_-2_-2_0.509296.dat -2.0 -2.0  0.509296    999         666    test   \n",
       "6   0  H_-2_-2_0.509296.dat -2.0 -2.0  0.509296    999         666    test   \n",
       "7   0  H_-2_-2_0.509296.dat -2.0 -2.0  0.509296    999         666    test   \n",
       "8   0  H_-2_-2_0.509296.dat -2.0 -2.0  0.509296    999         666    test   \n",
       "9   0  H_-2_-2_0.509296.dat -2.0 -2.0  0.509296    999         666    test   \n",
       "\n",
       "      feat0     feat1  ...    feat90    feat91    feat92    feat93    feat94  \\\n",
       "0  0.100000  0.100000  ...  0.100000  0.100000  0.100000  0.100000  0.100000   \n",
       "1  0.141421  0.141142  ...  0.114412  0.108967  0.123928  0.119406  0.131490   \n",
       "2  0.141421  0.140306  ...  0.043702  0.026500  0.075777  0.060214  0.103092   \n",
       "3 -0.100000  0.100000  ... -0.100000  0.100000 -0.100000  0.100000 -0.100000   \n",
       "4  0.000509 -0.008372  ... -0.082713 -0.089753 -0.067684 -0.075347 -0.051587   \n",
       "5  0.001204 -0.016530  ... -0.134123 -0.138686 -0.118757 -0.127445 -0.095929   \n",
       "6 -0.141421 -0.138980  ...  0.043375  0.067830 -0.009222  0.017385 -0.060524   \n",
       "7 -0.000826  0.025688  ...  0.134753  0.124324  0.141088  0.140407  0.127608   \n",
       "8  0.141417  0.136684  ... -0.115093 -0.131915 -0.061266 -0.091040  0.007717   \n",
       "9  0.001302  0.036430  ...  0.082068  0.050848  0.127402  0.108132  0.141218   \n",
       "\n",
       "     feat95    feat96    feat97    feat98    feat99  \n",
       "0  0.100000  0.100000  0.100000  0.100000  0.100000  \n",
       "1  0.127962  0.136978  0.134500  0.140306  0.138916  \n",
       "2  0.090145  0.123928  0.114412  0.136978  0.131490  \n",
       "3  0.100000 -0.100000  0.100000 -0.100000  0.100000  \n",
       "4 -0.059753 -0.034677 -0.043217 -0.017220 -0.026000  \n",
       "5 -0.108196 -0.067073 -0.082149 -0.034003 -0.050940  \n",
       "6 -0.035502 -0.103326 -0.083403 -0.131616 -0.119589  \n",
       "7  0.136771  0.096206  0.113925  0.051292  0.075079  \n",
       "8 -0.027643  0.074791  0.042592  0.123363  0.102291  \n",
       "9  0.138667  0.120099  0.134896  0.069268  0.097755  \n",
       "\n",
       "[10 rows x 108 columns]"
      ]
     },
     "execution_count": 28,
     "metadata": {},
     "output_type": "execute_result"
    }
   ],
   "source": [
    "simulation.dataframe.head(10)"
   ]
  },
  {
   "cell_type": "markdown",
   "metadata": {
    "papermill": {
     "duration": 0.040887,
     "end_time": "2020-07-18T06:07:01.105111",
     "exception": false,
     "start_time": "2020-07-18T06:07:01.064224",
     "status": "completed"
    },
    "tags": []
   },
   "source": [
    "#### Viewing a random sample"
   ]
  },
  {
   "cell_type": "code",
   "execution_count": 29,
   "metadata": {
    "execution": {
     "iopub.execute_input": "2020-07-18T06:07:01.180059Z",
     "iopub.status.busy": "2020-07-18T06:07:01.179564Z",
     "iopub.status.idle": "2020-07-18T06:07:01.224913Z",
     "shell.execute_reply": "2020-07-18T06:07:01.224595Z"
    },
    "papermill": {
     "duration": 0.082796,
     "end_time": "2020-07-18T06:07:01.224964",
     "exception": false,
     "start_time": "2020-07-18T06:07:01.142168",
     "status": "completed"
    },
    "tags": []
   },
   "outputs": [
    {
     "name": "stdout",
     "output_type": "stream",
     "text": [
      "CPU times: user 35 ms, sys: 0 ns, total: 35 ms\n",
      "Wall time: 34.8 ms\n"
     ]
    }
   ],
   "source": [
    "%%time\n",
    "if simulation.fourier_mode is not None:\n",
    "    simulation.fourier_dataframe.sample(frac=0.1, replace=False)"
   ]
  },
  {
   "cell_type": "markdown",
   "metadata": {
    "papermill": {
     "duration": 0.035454,
     "end_time": "2020-07-18T06:07:01.296675",
     "exception": false,
     "start_time": "2020-07-18T06:07:01.261221",
     "status": "completed"
    },
    "tags": []
   },
   "source": [
    "#### Checking train/val/test splits again"
   ]
  },
  {
   "cell_type": "code",
   "execution_count": 30,
   "metadata": {
    "execution": {
     "iopub.execute_input": "2020-07-18T06:07:01.370729Z",
     "iopub.status.busy": "2020-07-18T06:07:01.370217Z",
     "iopub.status.idle": "2020-07-18T06:07:01.548494Z",
     "shell.execute_reply": "2020-07-18T06:07:01.548161Z"
    },
    "papermill": {
     "duration": 0.215889,
     "end_time": "2020-07-18T06:07:01.548546",
     "exception": false,
     "start_time": "2020-07-18T06:07:01.332657",
     "status": "completed"
    },
    "tags": []
   },
   "outputs": [
    {
     "name": "stdout",
     "output_type": "stream",
     "text": [
      "% train:  0.08474317939338516\n",
      "% val:  0.7620789513793629\n",
      "% test:  0.15317786922725193\n",
      "% train + val + test:  1.0\n",
      "\n",
      "\n",
      "number of train hamiltonians:  556\n",
      "number of val hamiltonians:  5000\n",
      "number of test hamiltonians:  1005\n",
      "total number of hamiltonians:  6561\n",
      "\n",
      "\n",
      "train ids:  [5471, 941, 796, 3048, 189, 5432, 2739, 1021, 5832, 2949, 270, 203, 2907, 3172, 5643, 2501, 5474, 6513, 1461, 2834, 1929, 5772, 786, 6029, 6437, 5687, 2658, 353, 2088, 2890, 4573, 2382, 590, 5793, 1704, 3569, 2582, 2020, 5114, 4298, 4177, 5424, 5394, 1892, 5609, 5670, 4190, 5565, 3413, 6347, 4830, 5066, 2714, 3494, 3973, 157, 2477, 2029, 3635, 109, 3796, 280, 4041, 3909, 4051, 6268, 4715, 5026, 3732, 955, 6290, 3550, 1949, 550, 2447, 2616, 1583, 5286, 4795, 1861, 341, 40, 5538, 3667, 3551, 6493, 424, 998, 1649, 2072, 4643, 3838, 996, 1448, 5880, 4441, 4601, 2970, 448, 3701, 5212, 2032, 856, 4082, 6345, 6245, 2742, 1784, 1590, 6046, 3044, 381, 6354, 5450, 4682, 2818, 3985, 3257, 2773, 6272, 1379, 3994, 5288, 3744, 4369, 6383, 5077, 1019, 1733, 3217, 4546, 2112, 1452, 4054, 4337, 302, 1084, 6326, 4584, 213, 4077, 2872, 1571, 4730, 3908, 118, 3904, 1960, 747, 5259, 4586, 3101, 4809, 5294, 2489, 1209, 1451, 2701, 2420, 3282, 4870, 4986, 2665, 4667, 4945, 2793, 6137, 777, 311, 1468, 3276, 2777, 2652, 5835, 6035, 4447, 1275, 2281, 4785, 439, 3914, 3584, 62, 4439, 6207, 6352, 4527, 6360, 4659, 537, 693, 4533, 2417, 2922, 4412, 541, 586, 4697, 1177, 2860, 5139, 3644, 4311, 2084, 4370, 3986, 1346, 359, 3097, 1702, 4117, 5148, 2645, 3278, 6547, 5142, 2404, 2168, 4089, 4249, 5757, 3511, 1105, 6412, 2152, 619, 850, 5304, 133, 5967, 3167, 3178, 56, 1496, 5202, 3279, 3074, 4802, 5057, 5046, 63, 3664, 5710, 4661, 3125, 5968, 4094, 3187, 679, 4113, 2916, 678, 4488, 5939, 301, 2265, 5315, 1996, 370, 3027, 6353, 1699, 6244, 2407, 225, 6004, 4253, 1850, 4005, 4493, 2022, 2428, 1897, 5316, 511, 2011, 3071, 5885, 3165, 5533, 2034, 1686, 2755, 3047, 1050, 608, 3842, 1690, 5406, 1816, 4328, 2613, 5355, 4155, 696, 3075, 3259, 5713, 1338, 2425, 6105, 2913, 4712, 232, 5395, 436, 367, 1219, 1288, 1506, 1331, 174, 4517, 4635, 1877, 3055, 1020, 704, 4105, 5061, 4010, 2248, 2098, 4056, 123, 1581, 521, 1013, 4901, 949, 5469, 3038, 5544, 4691, 112, 4122, 2441, 3861, 2943, 5020, 757, 1443, 4686, 2525, 1979, 1194, 2756, 2317, 4788, 3640, 2728, 4296, 1659, 1434, 6327, 2999, 4315, 5978, 5561, 1568, 3672, 2896, 2517, 3455, 3531, 2661, 3895, 5957, 6097, 1788, 3313, 5608, 2829, 2102, 2632, 6114, 1713, 298, 1352, 1603, 2154, 2203, 4141, 2238, 2593, 3762, 3512, 2370, 1817, 13, 3258, 277, 4804, 2414, 2554, 1036, 3206, 4977, 3603, 117, 601, 6182, 2792, 6126, 6210, 1340, 1277, 990, 4609, 2931, 5211, 4552, 1418, 4763, 6179, 917, 6183, 1833, 4254, 6483, 6405, 841, 2730, 6435, 4252, 3747, 3476, 764, 3096, 3065, 3310, 5067, 360, 2100, 3902, 4353, 1741, 3311, 3959, 6173, 2363, 187, 3189, 1710, 4331, 5368, 1325, 2031, 664, 1918, 2175, 5779, 725, 2474, 4060, 3368, 2442, 473, 3835, 2968, 2341, 3863, 3458, 5222, 6055, 4746, 147, 3470, 551, 4484, 3051, 6014, 2520, 849, 1516, 5995, 770, 2023, 2694, 2993, 4275, 1296, 3711, 1179, 5754, 2561, 4940, 5717, 5116, 1953, 105, 5220, 5053, 3946, 1797, 6324, 377, 3099, 6096, 6548, 6121, 5097, 3873, 3682, 5405, 3037, 543, 4787, 3462, 1082, 3243, 6028, 2121, 1286, 2796, 2337, 2268, 4237, 3990, 2352, 6441, 5857, 5187, 4752, 185, 3879, 5774, 758, 1109, 1746, 3479, 1870, 198, 840, 2221, 3422, 4228, 1708, 761, 6246, 3809, 257, 4683, 1612, 4478, 5299, 2093, 6027, 2760, 3008, 1846, 4104, 3077, 5060, 1298, 797]\n",
      "val ids:  [3302, 2506, 1341, 1946, 2795, 1654, 391, 5771, 803, 643, 1079, 3886, 3945, 2092, 4261, 3622, 3092, 5698, 18, 2620, 4273, 4628, 3397, 2463, 4402, 474, 4223, 3375, 4055, 4854, 5853, 1878, 5235, 1794, 1317, 5269, 1596, 2383, 3712, 1912, 911, 131, 2015, 94, 3024, 310, 2915, 5221, 6140, 455, 2807, 2271, 6410, 969, 4446, 1127, 548, 3734, 458, 4984, 5311, 3374, 3651, 1297, 1712, 1513, 3913, 2989, 5863, 4532, 5175, 2607, 5401, 5191, 5963, 6448, 2008, 1242, 35, 2721, 2019, 1017, 5954, 4485, 5399, 2227, 3260, 3332, 1606, 5375, 4703, 208, 2958, 2930, 3999, 4859, 3254, 4330, 2975, 4687, 2450, 4124, 2507, 1085, 4823, 2163, 122, 6291, 3765, 1811, 4519, 290, 3319, 5944, 2285, 1986, 1997, 4403, 1236, 4286, 6489, 2767, 3933, 1189, 763, 5323, 6108, 4948, 6200, 4208, 5938, 5124, 283, 930, 5183, 4121, 4970, 6260, 2429, 4618, 6276, 4898, 3681, 3860, 4290, 1789, 3671, 206, 5615, 2926, 3181, 148, 5937, 2324, 6050, 2519, 4140, 4036, 2446, 5078, 5107, 2937, 172, 3265, 2366, 5691, 6032, 5616, 5389, 5196, 2678, 2360, 3239, 316, 4325, 2150, 5768, 2006, 6165, 523, 2124, 1330, 4935, 5695, 3211, 2587, 6306, 3514, 6331, 1808, 3598, 689, 259, 2672, 3725, 2059, 197, 5213, 3426, 2765, 3157, 837, 2205, 3785, 3244, 1076, 2690, 6012, 3731, 57, 5144, 3975, 2169, 3456, 2254, 4873, 5926, 5024, 5785, 5025, 1056, 2117, 6420, 5445, 4053, 3399, 5302, 4230, 6216, 3501, 872, 4323, 5997, 4434, 4739, 3814, 3944, 5536, 870, 2116, 2734, 1178, 1103, 3425, 5346, 922, 4657, 137, 1248, 188, 5131, 101, 279, 1729, 1135, 2266, 920, 5476, 3208, 4205, 4995, 5457, 4231, 5308, 4087, 4572, 3874, 6407, 216, 3447, 5137, 5038, 2743, 2902, 3212, 5111, 2654, 4200, 1924, 6099, 5720, 3721, 2912, 3639, 3923, 2991, 4696, 4886, 2249, 692, 754, 5443, 1218, 2584, 2816, 3521, 4867, 344, 2391, 1777, 685, 4270, 3496, 2170, 3073, 116, 1419, 4803, 3529, 5075, 2262, 3100, 3515, 5883, 2185, 2251, 2141, 3351, 2070, 1832, 1362, 3352, 4372, 2348, 6496, 524, 2959, 2207, 2418, 4045, 5927, 3272, 3154, 6382, 1503, 389, 4206, 3228, 4169, 554, 6178, 468, 2452, 1767, 3442, 4118, 1504, 5072, 2769, 6429, 317, 2335, 58, 2466, 2836, 2983, 1251, 605, 4989, 4070, 6007, 5146, 3113, 3815, 229, 14, 2453, 114, 3333, 2356, 275, 2005, 2929, 1563, 5227, 3046, 1262, 2671, 1827, 5970, 762, 3549, 4551, 3118, 1972, 1123, 4167, 6414, 3899, 2843, 462, 2659, 5273, 4305, 5895, 2338, 1507, 5692, 369, 5886, 5274, 3783, 6484, 1078, 382, 4043, 1677, 6464, 3193, 4009, 5996, 1410, 4582, 1857, 6516, 3675, 4576, 5198, 5685, 1322, 4281, 5262, 3284, 47, 4245, 6203, 5628, 3109, 184, 2426, 2899, 1122, 2863, 855, 4562, 6504, 5115, 6247, 4246, 3153, 6045, 3161, 4473, 6406, 3847, 1795, 3629, 127, 5547, 6187, 1022, 5459, 5367, 4612, 4887, 6188, 2353, 1528, 1650, 3956, 2355, 3045, 2856, 2125, 119, 5928, 1172, 4625, 4603, 6456, 4911, 2026, 5568, 2955, 4044, 1035, 4376, 4399, 2087, 3238, 910, 4389, 45, 3709, 2351, 3546, 866, 452, 6500, 211, 5511, 2680, 2897, 2327, 3088, 3728, 4150, 4302, 3767, 1682, 6301, 3702, 2076, 3881, 2521, 1102, 3307, 4216, 5947, 4814, 22, 5186, 2737, 2969, 3798, 3400, 4732, 4149, 2496, 6436, 6466, 4221, 176, 5803, 1195, 6174, 3679, 2984, 3318, 5815, 1906, 2782, 4226, 363, 714, 4037, 1669, 5029, 6432, 3274, 262, 5873, 287, 2405, 4872, 4486, 1385, 5178, 1216, 5479, 6075, 4424, 5965, 3571, 4941, 6428, 5630, 2875, 1871, 4904, 3613, 636, 3469, 2696, 2235, 3661, 5645, 2804, 3673, 1852, 6299, 3348, 4012, 5811, 49, 4808, 6186, 177, 1860, 483, 210, 950, 4452, 3499, 5044, 4462, 3346, 1988, 5504, 1257, 5550, 5056, 144, 5522, 4213, 54, 2920, 2946, 6293, 6237, 3967, 783, 3676, 1898, 1244, 4220, 1498, 3359, 3457, 4176, 1769, 1926, 1831, 672, 5434, 4907, 2302, 2997, 2945, 2569, 5239, 2731, 2371, 2369, 3992, 4059, 173, 1031, 2653, 2122, 4170, 3657, 1081, 1824, 5161, 303, 2595, 1943, 5795, 2811, 4179, 1255, 1529, 6077, 625, 6506, 1956, 3929, 1572, 4256, 2505, 3509, 677, 2847, 5722, 5192, 1038, 565, 5727, 827, 145, 2942, 3741, 4950, 5721, 212, 5071, 5805, 3478, 2597, 5265, 3557, 4239, 5891, 36, 3811, 3025, 2888, 3488, 6294, 1047, 3482, 3102, 1782, 4952, 4631, 4665, 869, 2448, 3623, 6518, 1533, 2837, 1985, 1938, 5913, 4197, 3663, 323, 2833, 1845, 6042, 2233, 5941, 2655, 1765, 4496, 156, 4435, 1424, 4624, 5701, 2808, 594, 224, 6132, 6422, 3818, 2657, 3646, 2966, 4502, 4035, 3371, 3417, 1162, 3749, 3203, 1272, 4422, 2964, 1726, 5241, 5936, 4006, 5301, 3547, 4578, 1743, 4013, 1587, 5373, 3054, 852, 1293, 966, 3231, 4694, 6120, 5943, 2563, 3331, 4860, 3581, 6270, 2310, 3770, 6020, 5780, 4028, 1044, 3576, 3063, 5552, 3338, 829, 1762, 2758, 4138, 4658, 1324, 151, 5690, 2906, 1405, 4225, 2057, 3023, 3599, 343, 3010, 2649, 6508, 6335, 1838, 2972, 909, 3686, 97, 431, 4876, 2191, 5478, 76, 6368, 2858, 668, 4766, 4186, 2553, 3917, 6487, 5453, 4653, 437, 769, 838, 4384, 3363, 5623, 4172, 6262, 6534, 5382, 3322, 691, 6098, 647, 992, 6370, 4727, 6088, 3291, 6030, 1856, 544, 3971, 2771, 6119, 2306, 5386, 5703, 6135, 1000, 3586, 3590, 4135, 1454, 5180, 3875, 5465, 346, 6333, 4615, 5566, 5778, 1183, 5594, 4583, 2839, 948, 1014, 861, 4965, 847, 4232, 4011, 5513, 3344, 4600, 5705, 3969, 5460, 2041, 4444, 5814, 3816, 2878, 5181, 2412, 6367, 6038, 624, 4218, 3638, 1957, 3768, 5113, 1445, 2956, 1829, 3926, 4482, 3878, 3143, 2575, 1327, 4662, 271, 3251, 710, 153, 5769, 5132, 3951, 1942, 1511, 6323, 3078, 2486, 1088, 2044, 61, 2225, 4451, 5206, 5866, 1758, 3246, 4748, 5442, 4972, 2892, 522, 1265, 5106, 1366, 4997, 2887, 1260, 1631, 4871, 4909, 1093, 5528, 434, 596, 5787, 1371, 6193, 5122, 3730, 1834, 2504, 392, 2280, 5548, 2708, 5109, 3141, 3434, 4698, 540, 4174, 6418, 4147, 4241, 1456, 4912, 3790, 1437, 854, 3883, 6026, 3516, 2522, 2715, 4538, 4120, 1369, 288, 2188, 4192, 4794, 115, 3144, 5699, 4520, 3035, 4455, 3067, 4770, 6528, 1591, 4321, 5447, 5370, 4539, 129, 3202, 1736, 1466, 6488, 6371, 69, 11, 1128, 3486, 5706, 5518, 1987, 2953, 2485, 143, 6249, 1685, 2083, 5278, 611, 912, 2139, 6156, 599, 5868, 2548, 945, 3201, 2729, 2588, 1891, 4861, 3650, 4156, 1167, 5755, 6426, 4201, 260, 2183, 26, 3334, 4936, 3510, 1905, 4151, 296, 3315, 6044, 2358, 828, 2469, 1648, 5529, 3129, 5128, 1813, 4209, 3795, 2921, 5404, 1433, 3427, 2438, 4617, 4504, 3114, 3485, 542, 547, 265, 2722, 98, 2992, 2199, 1527, 3656, 4132, 5158, 403, 2334, 4585, 1333, 4386, 2998, 4466, 1182, 4723, 6365, 1116, 2319, 4378, 155, 5590, 4364, 315, 2328, 4420, 4634, 973, 1998, 5297, 3123, 1165, 3391, 1284, 584, 4123, 4963, 5890, 3450, 1693, 4993, 1465, 674, 1197, 5624, 3233, 6359, 1565, 3611, 6086, 6485, 1399, 467, 4688, 774, 3552, 4416, 3841, 1907, 2973, 5669, 4277, 1862, 3637, 5781, 589, 4914, 6170, 1687, 3867, 1018, 2208, 2961, 426, 5677, 1211, 6169, 4985, 3124, 1509, 991, 4086, 3784, 4689, 3633, 6543, 3354, 1010, 4637, 2939, 2784, 5589, 588, 1409, 3754, 1355, 209, 616, 1042, 3981, 2813, 6452, 34, 60, 5638, 5179, 5956, 4093, 3972, 2636, 5014, 4071, 2318, 4690, 3017, 5136, 1212, 3191, 4405, 5626, 1052, 237, 4580, 1184, 142, 1073, 3006, 5973, 1991, 5788, 6533, 2180, 1835, 3241, 442, 3080, 4713, 358, 2264, 4549, 4391, 3808, 6531, 5094, 2763, 4850, 471, 395, 1113, 4536, 3706, 3583, 6381, 1823, 2681, 4196, 5397, 5073, 957, 5079, 3395, 5510, 1614, 5791, 1028, 699, 2941, 2416, 3654, 5351, 5671, 3389, 5177, 3283, 5393, 3087, 1756, 3894, 5728, 1003, 2670, 2889, 1129, 2312, 28, 2181, 1048, 4994, 1012, 3507, 4996, 6551, 634, 3106, 5962, 775, 4490, 3210, 4555, 4001, 342, 4081, 1818, 1002, 3849, 4110, 1566, 4663, 6542, 16, 2848, 3766, 2512, 3490, 2276, 3083, 4459, 3441, 2910, 1009, 5684, 3900, 3720, 4908, 3288, 2741, 3271, 4529, 2612, 6115, 6338, 6111, 2277, 3461, 1348, 4740, 3862, 6285, 5961, 2074, 5635, 2768, 3618, 1828, 4014, 2710, 5764, 2192, 3266, 1842, 3532, 501, 2619, 1684, 5230, 3416, 5807, 6540, 1098, 587, 4438, 2533, 4890, 1303, 1253, 2220, 1975, 4681, 4195, 4217, 804, 1137, 4930, 4613, 2331, 6258, 1598, 846, 4831, 1676, 6212, 2244, 2988, 4905, 4166, 5964, 4352, 5974, 1980, 5784, 6450, 5376, 2193, 4173, 3192, 6550, 2508, 3877, 1489, 2062, 2883, 3303, 3452, 5876, 3328, 4668, 1301, 5045, 2725, 1983, 1176, 864, 6034, 3588, 3330, 3632, 4976, 4002, 396, 1502, 2535, 2325, 519, 178, 1208, 865, 3240, 6266, 2490, 1530, 3355, 2028, 6136, 2322, 4242, 1287, 3152, 1873, 4363, 5194, 6442, 1438, 1757, 3466, 5930, 1104, 4154, 1358, 1377, 2881, 44, 507, 3151, 222, 5117, 2579, 4073, 5966, 936, 4745, 4007, 234, 223, 3446, 6192, 91, 4289, 2090, 2703, 6546, 5897, 5047, 2330, 1597, 1836, 4545, 1204, 1854, 1206, 6018, 3429, 868, 385, 2007, 1006, 3934, 4026, 5123, 4085, 3568, 5380, 348, 726, 2339, 4008, 3705, 520, 5238, 6376, 2073, 1011, 5637, 3002, 3242, 2857, 857, 6106, 4700, 6536, 5672, 6117, 5452, 2609, 3012, 1406, 529, 666, 3812, 2750, 339, 2798, 2284, 1403, 5633, 6181, 2388, 2531, 2815, 2718, 5268, 5526, 3163, 924, 3659, 6087, 2204, 1328, 5276, 5889, 1411, 1865, 954, 5487, 4361, 3988, 2891, 1652, 3844, 6185, 919, 1249, 4864, 2935, 5013, 4137, 1407, 4947, 2176, 3763, 3837, 5477, 3653, 2430, 1984, 6054, 5309, 600, 1508, 5437, 103, 4300, 5267, 4088, 1436, 4260, 3723, 792, 48, 2799, 5931, 2868, 140, 1695, 3459, 3061, 3057, 372, 5797, 1188, 1863, 2243, 751, 1748, 715, 3451, 807, 364, 2399, 514, 4769, 2851, 2830, 3305, 5321, 106, 4894, 4990, 3912, 3901, 1444, 1908, 591, 5557, 4215, 2439, 1488, 782, 1321, 4630, 3256, 2316, 2056, 4106, 3085, 3169, 2928, 5422, 2770, 5284, 2592, 1790, 1243, 4655, 449, 2819, 4818, 2389, 5642, 3858, 3880, 4419, 2201, 4877, 2229, 6342, 6010, 1780, 1962, 6341, 859, 4024, 5378, 4910, 4304, 3204, 6443, 2086, 3966, 3943, 2069, 5219, 307, 6277, 5867, 4475, 4351, 1944, 3320, 278, 3575, 6201, 4820, 3309, 6221, 5134, 1404, 2421, 2544, 3468, 6254, 1844, 5436, 4939, 5940, 5261, 5799, 6328, 6411, 5958, 2908, 5587, 3619, 1252, 750, 6013, 447, 5126, 200, 4396, 4716, 3166, 2711, 4310, 139, 3223, 2982, 4797, 3119, 6253, 2014, 1336, 2061, 4699, 3387, 953, 6222, 2529, 5052, 853, 4550, 3931, 6377, 1213, 1675, 2143, 297, 871, 3594, 53, 1866, 4656, 836, 4198, 4848, 2979, 3589, 2980, 5843, 1261, 3227, 1432, 5733, 1449, 1271, 3281, 3940, 3495, 6084, 2017, 1901, 2162, 1034, 2532, 2145, 261, 2933, 5260, 2311, 2900, 3345, 5292, 1776, 3764, 2329, 1922, 712, 5884, 2611, 1692, 2779, 451, 3128, 1542, 4744, 4530, 913, 2111, 5363, 27, 3630, 435, 6336, 3668, 1087, 673, 2987, 2234, 2780, 937, 4729, 6541, 5365, 3626, 1952, 3213, 2110, 1753, 1864, 4978, 5531, 4410, 3566, 686, 273, 1819, 3648, 2757, 4523, 292, 4406, 1413, 3493, 1754, 1353, 5030, 2656, 5673, 1858, 394, 890, 55, 5767, 3292, 3081, 1859, 5917, 1809, 765, 5092, 349, 5929, 6100, 2435, 3018, 1363, 4946, 3390, 429, 4274, 71, 5882, 4852, 4548, 2985, 790, 1202, 256, 2427, 6243, 3029, 2343, 5946, 2849, 2493, 2085, 4829, 4774, 3757, 306, 2618, 4031, 3337, 3801, 5277, 1481, 4388, 5433, 2218, 5979, 4229, 3491, 1159, 2497, 6141, 387, 2693, 4309, 2944, 5953, 4063, 4822, 4233, 3799, 2855, 1023, 2733, 3477, 4004, 5894, 1415, 5391, 3122, 630, 3965, 2831, 1423, 6386, 6024, 6325, 564, 1791, 3582, 5848, 1378, 1930, 2103, 3135, 3782, 3769, 1935, 5207, 2198, 3104, 4042, 6116, 2648, 4866, 2842, 6017, 1458, 2344, 2237, 4139, 4317, 2323, 6031, 124, 915, 1867, 607, 5641, 2954, 5591, 3779, 1240, 2817, 889, 1460, 676, 2698, 716, 2559, 3715, 3419, 3121, 5951, 4395, 3826, 5387, 146, 3145, 4210, 6109, 42, 2381, 6122, 1731, 4146, 1486, 5509, 2287, 3042, 1193, 3802, 456, 1663, 235, 4742, 2197, 3402, 4338, 5095, 3924, 5015, 1246, 5096, 1993, 3572, 3748, 717, 6366, 4942, 4906, 3685, 4885, 1131, 3953, 3684, 4547, 4343, 2510, 2753, 4114, 2911, 51, 3718, 6142, 1459, 1584, 1546, 504, 1793, 2684, 4191, 2194, 6005, 390, 4050, 4649, 1499, 3536, 6164, 4271, 2861, 4040, 5812, 965, 5454, 5715, 5464, 1158, 2488, 1621, 2626, 5555, 2002, 2676, 1752, 68, 4083, 5648, 2578, 644, 556, 4033, 5104, 3952, 5560, 6517, 4144, 3964, 4632, 2187, 877, 380, 773, 1210, 2547, 3998, 4518, 6413, 951, 4776, 4736, 1781, 794, 4285, 4126, 3421, 6041, 3150, 3314, 6424, 4222, 784, 6279, 1285, 3105, 4152, 6505, 10, 2821, 5887, 4250, 2498, 4157, 595, 4503, 1605, 1339, 2261, 3733, 6006, 5033, 5028, 1376, 2674, 2385, 6530, 1046, 5372, 460, 3396, 5283, 3916, 2527, 4616, 1382, 4979, 5806, 383, 1256, 2874, 4726, 687, 2805, 2373, 1086, 5074, 3939, 2272, 2346, 2603, 5448, 6220, 1083, 3930, 5022, 6486, 2291, 3872, 5428, 2278, 3321, 286, 3325, 5718, 3504, 1422, 5099, 1647, 2591, 867, 1674, 1534, 609, 6296, 5340, 4061, 3026, 5942, 6330, 4016, 3199, 4255, 1786, 1936, 3674, 604, 4393, 2570, 5275, 746, 2882, 2054, 5444, 4685, 2137, 2919, 844, 1245, 3892, 6520, 4953, 2424, 843, 3548, 637, 5048, 6337, 295, 6113, 5855, 4357, 5427, 3745, 1180, 3834, 5054, 3695, 581, 1916, 5719, 5523, 5388, 526, 2583, 5845, 1545, 1074, 5050, 5455, 5551, 4355, 337, 1796, 2957, 352, 2387, 4308, 3752, 4474, 3471, 1706, 6431, 46, 3587, 3226, 4084, 3498, 3304, 3467, 2667, 1737, 1570, 3195, 2354, 454, 1274, 3756, 755, 4119, 5035, 5426, 527, 5558, 3366, 3950, 5125, 199, 2689, 5851, 4571, 5379, 3255, 1112, 4638, 1608, 4491, 612, 2748, 5796, 6281, 5542, 1948, 3595, 2762, 1482, 1714, 4212, 120, 3617, 3662, 3147, 2305, 5545, 5034, 269, 3058, 3810, 5023, 2410, 6357, 4810, 1214, 927, 701, 5182, 1830, 1283, 6219, 1192, 1203, 1961, 6261, 3534, 3349, 4875, 3347, 613, 1350, 633, 304, 1514, 3890, 3160, 221, 888, 3977, 2605, 3541, 351, 6040, 2776, 384, 2745, 1055, 2947, 665, 3236, 2300, 4023, 3222, 6387, 2885, 538, 5649, 4235, 3736, 3117, 3268, 5849, 1698, 3180, 1697, 631, 1875, 3076, 582, 1345, 617, 2974, 5272, 5675, 5752, 4398, 933, 6388, 2699, 453, 5852, 6451, 1375, 5564, 3070, 4465, 6022, 4557, 2025, 6521, 4207, 1282, 5176, 3871, 3750, 1402, 4145, 1701, 3437, 2600, 1661, 312, 3295, 3997, 5792, 5133, 135, 2483, 4992, 5350, 397, 3820, 3316, 709, 6339, 4164, 6090, 1323, 3777, 3408, 2646, 204, 4669, 3300, 4292, 4276, 2179, 3604, 5312, 2313, 420, 3570, 3130, 1896, 5242, 236, 5449, 2564, 3555, 4107, 3031, 772, 4047, 2423, 5240, 2995, 4987, 2307, 300, 3386, 4853, 2451, 5425, 5298, 2669, 6538, 1632, 3285, 6023, 2809, 628, 5342, 6421, 4440, 690, 6292, 4962, 2905, 3738, 440, 1775, 5916, 5271, 1332, 4188, 1276, 671, 432, 3714, 6502, 4966, 4806, 999, 3606, 3127, 1911, 1742, 5195, 3230, 219, 4366, 3170, 4165, 2853, 5850, 583, 5264, 1054, 5402, 1372, 6362, 4767, 3827, 2226, 4934, 5189, 4003, 4895, 5813, 4789, 1994, 4492, 5010, 3232, 1837, 1292, 858, 2040, 3821, 1455, 4052, 1655, 2260, 354, 5570, 6213, 362, 1893, 4771, 4341, 851, 475, 1931, 2876, 4407, 5153, 5358, 2396, 2783, 2573, 1289, 4162, 3806, 5483, 6251, 2443, 3544, 4629, 2406, 5135, 465, 4791, 2367, 3364, 309, 4456, 3090, 4108, 2904, 5696, 2037, 3755, 5712, 1543, 3424, 4777, 2326, 615, 1822, 2491, 4975, 3980, 1586, 5864, 2759, 1667, 1658, 964, 752, 2867, 1462, 6138, 3797, 4112, 2744, 759, 5606, 1666, 1629, 5775, 3475, 4408, 1335, 2602, 5468, 2156, 3487, 6047, 3700, 484, 723, 4324, 834, 3373, 1373, 4423, 3624, 3062, 5152, 5059, 833, 530, 2464, 4705, 3906, 4397, 3968, 3252, 1032, 2060, 2556, 760, 3179, 5466, 6166, 3545, 2217, 5193, 1934, 5892, 3505, 217, 4647, 753, 5461, 703, 3021, 943, 3694, 4314, 3602, 2140, 4846, 4202, 2752, 1278, 5950, 4888, 6438, 3669, 1843, 2274, 4421, 2157, 2877, 545, 1108, 2166, 2013, 5353, 373, 4134, 365, 1735, 4969, 1810, 1989, 3870, 183, 780, 1365, 2641, 4899, 5688, 3050, 5462, 4219, 4541, 683, 421, 23, 2895, 6282, 6453, 2562, 6025, 6101, 3891, 2534, 3647, 3472, 4733, 1250, 1414, 2250, 5306, 2785, 5203, 4501, 3823, 5563, 3597, 1187, 4295, 274, 1645, 6510, 2104, 5836, 4015, 3537, 592, 2091, 3329, 3294, 1266, 931, 5352, 2845, 1344, 832, 4878, 2390, 2666, 848, 3353, 4457, 430, 1161, 1582, 5809, 2530, 201, 3053, 3593, 1747, 3139, 598, 3502, 5016, 1343, 4214, 2552, 1770, 1049, 4130, 5801, 5011, 963, 5709, 3746, 3665, 6139, 3453, 5226, 4704, 4319, 1091, 3019, 2126, 393, 2067, 2148, 3976, 29, 6008, 4497, 629, 1588, 776, 1812, 6385, 549, 4708, 5130, 6053, 4778, 19, 1267, 5475, 2850, 5229, 5446, 4826, 110, 3778, 4067, 3949, 314, 1707, 2135, 5507, 1739, 3086, 1613, 3103, 345, 1237, 5595, 1978, 2664, 1258, 1264, 469, 2224, 2236, 3293, 1485, 4780, 766, 2309, 789, 1668, 3489, 4383, 5632, 1408, 1492, 3518, 934, 3884, 1611, 3851, 1625, 30, 2662, 59, 6374, 2631, 6298, 3196, 152, 1734, 388, 6209, 4445, 1895, 1792, 3404, 5640, 3607, 3448, 3716, 4833, 516, 4893, 4734, 2627, 2772, 5390, 5320, 1914, 1773, 2766, 5783, 3001, 5711, 932, 3443, 2257, 3724, 1874, 3474, 2475, 2803, 2437, 2934, 6445, 6168, 5307, 6544, 4660, 2108, 4714, 2219, 1220, 3405, 5530, 2688, 4535, 5610, 2372, 771, 2411, 70, 3564, 1549, 2472, 3005, 6458, 2055, 3585, 6439, 3290, 5423, 4938, 3194, 3000, 5463, 1665, 1421, 4651, 4768, 2066, 4587, 778, 2259, 3084, 2273, 4367, 5100, 5878, 4022, 5243, 1678, 3928, 3383, 66, 4863, 707, 5470, 39, 4095, 532, 5127, 3229, 4933, 1694, 3978, 1497, 1125, 3666, 947, 4642, 6104, 5724, 4856, 3356, 5145, 6529, 3327, 6217, 2986, 5300, 3435, 4773, 5541, 4607, 4956, 6175, 5879, 4621, 3009, 231, 928, 994, 100, 1894, 2101, 6361, 186, 291, 4076, 4312, 37, 4339, 5925, 5093, 4526, 154, 2275, 5392, 620, 2347, 4882, 5773, 2545, 4892, 5644, 3523, 6363, 4569, 3579, 6163, 5588, 1577, 2663, 6524, 1951, 3562, 6380, 3788, 4143, 2683, 466, 3312, 3758, 4365, 1263, 1515, 2778, 285, 1525, 6033, 2368, 6095, 4964, 266, 1117, 1976, 1755, 1688, 4375, 6256, 126, 1329, 1299, 1745, 6340, 2075, 5556, 2146, 5693, 5603, 5209, 3030, 2177, 2614, 967, 2546, 6263, 99, 2628, 2123, 3845, 190, 6440, 25, 2716, 1160, 3273, 3336, 6124, 4394, 5218, 5364, 921, 6495, 2118, 4392, 2761, 457, 4654, 2596, 3339, 6180, 4834, 3775, 5549, 5959, 1111, 4404, 3670, 43, 2717, 4793, 1683, 2495, 3142, 4046, 2105, 4148, 6223, 5794, 5384, 5676, 4857, 5933, 5527, 1711, 1657, 4458, 5732, 4825, 150, 663, 1959, 3020, 4827, 2700, 606, 1705, 539, 3094, 705, 3465, 136, 2161, 4069, 4027, 1903, 4158, 5154, 5349, 2206, 5319, 3205, 3554, 2503, 347, 1239, 1190, 1215, 884, 5400, 4735, 6195, 3250, 5435, 1617, 2633, 6211, 2097, 4284, 255, 2642, 1623, 3800, 4855, 4049, 1495, 5314, 1170, 1118, 6334, 535, 4728, 2719, 1541, 1540, 3249, 795, 1349, 2590, 1186, 1945, 181, 5683, 3922, 3852, 6274, 6468, 1578, 5157, 5730, 839, 3296, 4307, 3524, 6134, 3876, 5569, 2822, 5540, 3372, 1181, 2791, 6415, 5429, 2321, 4786, 3961, 4500, 4380, 4248, 3108, 3140, 65, 3787, 515, 3819, 3960, 5012, 6492, 4203, 2189, 5215, 4554, 2637, 875, 6343, 1958, 3263, 2444, 461, 4897, 4236, 3436, 2245, 1732, 2350, 220, 4418, 2994, 2557, 5485, 3865, 510, 4072, 1483, 2063, 6332, 1347, 5707, 5833, 939, 6409, 1155, 1879, 2608, 3983, 1689, 3111, 5141, 5881, 4707, 4498, 3540, 2827, 2167, 3742, 1490, 2502, 227, 5646, 2712, 503, 3392, 2470, 2555, 3497, 6248, 4751, 4588, 2879, 1787, 4664, 6295, 5532, 1420, 1015, 6127, 6289, 2865, 258, 5620, 5042, 1381, 5296, 3148, 4096, 3974, 336, 1043, 2621, 2981, 4030, 6048, 21, 2173, 4819, 1709, 1749, 563, 6039, 566, 31, 5798, 428, 1727, 3324, 1691, 835, 4251, 2465, 5506, 3214, 1653, 946, 5310, 1217, 2859, 3156, 3403, 614, 3677, 5870, 2581, 3016, 4813, 4415, 3804, 1576, 4278, 4153, 938, 3197, 3567, 1564, 3253, 5019, 6019, 517, 1954, 5622, 1730, 1548, 2290, 5562, 602, 1096, 2854, 2342, 2082, 546, 3882, 2071, 885, 3703, 5770, 4116, 2077, 6447, 5725, 993, 3561, 2228, 2774, 2852, 1550, 4706, 5810, 531, 3367, 3015, 1487, 1537, 202, 6051, 4928, 6016, 6177, 3301, 6252, 5383, 3839, 2138, 4115, 4401, 1673, 3492, 791, 2144, 2286, 4670, 534, 195, 2864, 4211, 3406, 3688, 1939, 4540, 4902, 2691, 2357, 5508, 2364, 2528, 3932, 2574, 1923, 3919, 5808, 3052, 1100, 1080, 5369, 2660, 700, 3398, 4194, 4869, 6303, 6434, 5924, 3174, 5345, 5651, 191, 2120, 831, 476, 6021, 4944, 2200, 5147, 2362, 1662, 6218, 1005, 3481, 781, 2030, 1909, 6297, 5347, 130, 2114, 3517, 886, 5285, 5210, 3713, 1384, 1853, 5802, 2349, 4868, 4449, 6171, 3577, 2923, 5214, 1429, 2673, 2409, 4542, 72, 2289, 4750, 134, 1319, 355, 3245, 1728, 3381, 1291, 3533, 6507, 6085, 4437, 3247, 6384, 6522, 444, 4792, 6267, 5874, 5324, 3574, 3164, 4567, 3726, 4807, 2222, 4442, 1320, 2917, 2315, 2571, 3791, 3177, 450, 5516, 3538, 3525, 2599, 2918, 4287, 2408, 6491, 3740, 5893, 6255, 3275, 3727, 4109, 5266, 4862, 2524, 4313, 4971, 4981, 1977, 2403, 925, 4711, 3636, 5231, 4306, 1589, 5567, 179, 77, 5344, 2826, 2065, 2468, 1751, 4460, 944, 1400, 3660, 2790, 3326, 6202, 1175, 6300, 215, 3237, 3146, 1016, 3072, 3445, 2109, 4598, 627, 4506, 3805, 3605, 5438, 675, 5472, 6499, 2509, 3887, 2971, 2021, 2374, 745, 3708, 555, 6199, 3340, 4092, 4779, 64, 3317, 2518, 4884, 2884, 5149, 5118, 5322, 6215, 3698, 1505, 2924, 404, 2434, 4454, 1869, 6094, 1902, 805, 2697, 6052, 3370, 505, 4991, 1740, 4360, 5371, 6129, 5223, 4798, 6257, 1544, 1367, 6204, 862, 6408, 4522, 6497, 4074, 6128, 5027, 2099, 4974, 1435, 2651, 180, 3056, 6490, 422, 1950, 1207, 96, 809, 2242, 5257, 1500, 438, 4782, 2732, 4294, 2727, 1771, 3262, 433, 4091, 2838, 3631, 1004, 2454, 4259, 194, 2478, 3907, 1115, 1904, 2749, 4282, 1290, 4097, 5484, 4725, 5258, 2526, 1174, 4436, 371, 121, 4390, 3185, 706, 4227, 2024, 6304, 6519, 5204, 5291, 2182, 4238, 5888, 4258, 4828, 3209, 768, 6425, 6191, 6093, 1915, 6049, 3454, 4272, 6102, 6329, 1427, 1494, 1826, 2155, 4845, 3836, 6539, 5935, 4764, 1593, 6037, 5018, 3207, 1163, 4528, 4980, 419, 4381, 3428, 2473, 3822, 3357, 5875, 1173, 3846, 3592, 2252, 3432, 1523, 2536, 3558, 610, 92, 3612, 2445, 4575, 4243, 6427, 5535, 5473, 4333, 2027, 2107, 1030, 3699, 4133, 1738, 3013, 5208, 3889, 694, 3480, 4373, 3793, 4743, 3066, 1768, 4257, 5467, 463, 4316, 6459, 374, 2638, 6467, 2566, 1090, 6011, 1622, 3159, 5064, 5270, 1750, 3982, 4982, 1185, 128, 6205, 5694, 4749, 2738, 3132, 4695, 3693, 4038, 1876, 6058, 2283, 3955, 3289, 2359, 3794, 4816, 4648, 3743, 5431, 4409, 6444, 4564, 1518, 5763, 5287, 3859, 4204, 2723, 1510, 267, 1126, 6194, 876, 2033, 4544, 3378, 3927, 874, 1627, 2449, 4949, 623, 5700, 4414, 386, 2639, 4772, 3717, 4693, 4722, 4234, 3415, 2303, 2692, 5790, 2824, 6125, 6462, 2679, 6403, 506, 6423, 2643, 5515, 3753, 4568, 5782, 3028, 3915, 1053, 2586, 1169, 1628, 5525, 2171, 3560, 3190, 6369, 1783, 5923, 5629, 4565, 3543, 5234, 2630, 6176, 1531, 2467, 1364, 5190, 5155, 2735, 2258, 593, 4525, 6465, 4563, 5377, 4577, 5859, 4896, 4619, 4489, 3149, 2797, 3910, 5317, 4079, 3621, 5517, 4610, 1484, 5293, 1990, 3188, 3848, 6265, 6509, 1457, 4477, 4913, 4470, 1763, 2195, 2781, 3888, 6372, 2606, 6196, 4684, 418, 3601, 1106, 2230, 728, 2095, 485, 3473, 2009, 2255, 6454, 2820, 111, 4505, 357, 5948, 3857, 4614, 2965, 6455, 3182, 3011, 5627, 2585, 4824, 2572, 3361, 972, 1815, 4543, 6206, 2550, 970, 6305, 4968, 6056, 2841, 6189, 5282, 3696, 2500, 4065, 6118, 5150, 4327, 1442, 688, 6107, 5934, 5062, 4701, 3007, 2058, 2634, 727, 5621, 2253, 6417, 929, 4318, 935, 427, 1547, 4471, 5233, 2239, 2893, 4622, 3039, 3627, 3483, 914, 6286, 1259, 3186, 5539, 1594, 4626, 3176, 3091, 6379, 17, 3625, 6269, 711, 5597, 2873, 6076, 1037, 1651, 6501, 3059, 5356, 3409, 1656, 1620, 4293, 2775, 3925, 5714, 5846, 3218, 4161, 3996, 2976, 4322, 1136, 635, 2361, 4958, 5185, 3411, 446, 4066, 276, 1171, 5554, 4058, 5224, 4332, 3678, 4163, 2456, 6514, 4136, 379, 1205, 3658, 4812, 4605, 3897, 2903, 1538, 5482, 6348, 5861, 3991, 4666, 477, 1072, 2835, 4521, 6525, 6469, 4650, 6449, 5972, 1585, 1383, 1132, 3697, 4702, 2515, 3737, 6364, 4516, 1164, 528, 3591, 1517, 5103, 5403, 632, 2635, 5303, 3171, 2484, 6172, 5612, 1940, 4566, 1029, 3219, 3224, 626, 2419, 4988, 3173, 4737, 1604, 107, 3896, 1766, 6283, 1580, 2806, 2476, 2514, 4359, 3898, 2270, 1774, 3824, 361, 4075, 1524, 995, 2866, 3942, 1447, 5546, 3089, 5789, 3049, 1602, 4039, 192, 3987, 5614, 2610, 6015, 3060, 3134, 2511, 2304, 3112, 1342, 3596, 2794, 2914, 2549, 808, 1134, 3553, 6259, 2035, 4128, 5512, 873, 2402, 2043, 1156, 3559, 6197, 2978, 3903, 2647, 5837, 3220, 863, 1107, 4889, 2010, 4556, 3642, 4558, 3133, 1008, 4090, 4783, 1851, 6271, 5971, 6112, 702, 5343, 3175, 5348, 618, 4336, 3225, 4291, 5098, 196, 842, 5381, 2003, 3704, 4627, 1933, 104, 5697, 3850, 4817, 423, 4903, 2246, 1855, 2962, 1114, 9, 1075, 6457, 3615, 207, 3556, 3979, 2397, 1927, 926, 3885, 6523, 6373, 2724, 2247, 787, 308, 6092, 1501, 3962, 2702, 3513, 2801, 1026, 6433, 1247, 3082, 5765, 1425, 5716, 5232, 5184, 2413, 4411, 4301, 4025, 4747, 2687, 3948, 6198, 3022, 1198, 5021, 6208, 272, 3989, 3614, 2936, 2365, 1007, 268, 2580, 3216, 472, 3864, 2184, 2551, 3183, 6446, 1464, 4283, 4865, 3014, 125, 4874, 2482, 5844, 193, 4652, 282, 2938, 50, 1868, 4469, 2113, 1941, 33, 4781, 4068, 1133, 5101, 3628, 1356, 5032, 3264, 6527, 445, 1785, 470, 4553, 4973, 5865, 52, 1671, 5634, 2395, 695, 6512, 4608, 4604, 883, 4883, 1618, 378, 5129, 3335, 2927, 1431, 3098, 597, 1522, 4710, 5872, 6350, 1077, 1947, 3530, 4574, 5726, 2967, 5017, 2068, 2256, 5804, 2314, 3136, 1110, 3641, 2336, 2909, 1820, 2279, 1913, 2709, 1302, 708, 3155, 425, 2629, 3385, 4062, 4858, 1660, 713, 3789, 75, 2202, 4765, 5451, 1535, 2814, 5385, 1453, 646, 1821, 5945, 512, 4731, 3580, 3776, 3710, 3277, 1491, 5065, 4951, 5396, 254, 4425, 3573, 4472, 4931, 4247, 5650, 3829, 845, 779, 6526, 2950, 4644, 4340, 1168, 6060, 1974, 525, 2231, 4718, 4168, 6036, 3707, 1294, 4954, 108, 3299, 669, 2894, 1607, 3539, 4171, 1099, 3365, 667, 4450, 138, 182, 4034, 3401, 4724, 533, 3388, 3761, 2308, 6224, 1426, 5704, 1238, 4335, 4125, 2568, 6214, 5786, 4599, 2232, 2828, 4417, 4453, 1024, 4159, 4717, 2241, 1579, 518, 1539, 2078, 3620, 6463, 5702, 3003, 3484, 6349, 3308, 3162, 4032, 4636, 6059, 6130, 5049, 5914, 233, 294, 1932, 2594, 5617, 940, 4178, 4524, 3158, 3692, 5151, 205, 6346, 3807, 4299, 368, 5313, 956, 6535, 3869, 6461, 6358, 5639, 340, 264, 3817, 3438, 1616, 2012, 2802, 5366, 2764, 5063, 942, 2384, 3503, 3041, 1273, 5994, 2094, 4851, 6460, 502, 4900, 4929, 971, 968, 2172, 2038, 1467, 2164, 3792, 5430, 3168, 3298, 6123, 5341, 5593, 3306, 3843, 788, 2726, 5776, 1646, 2223, 1268, 5216, 5112, 3918, 4602, 3267, 3414, 2142, 684, 1318, 3463, 4741, 3649, 2494, 3137, 3722, 3235, 1025, 2301, 2754, 1703, 3868, 4570, 767, 4784, 3394, 5723, 3464, 2190, 1573, 289, 5102, 3563, 6302, 313, 1191, 3655, 464, 1526, 5960, 3683, 443, 338, 1033, 5488, 366, 2178, 2886, 3393, 3460, 622, 553, 2039, 1569, 500, 3995, 5618, 785, 2479, 3377, 3341, 2147, 5263, 5766, 4646, 2196, 793, 3215, 4537, 5290, 2963, 5756, 2840, 5949, 3431, 1910, 748, 4448, 756, 4891, 5976, 2288, 1101, 698, 4967, 1354, 5856, 5592, 1928, 2901, 6378, 2499, 1166, 4775, 3565, 6110, 4379, 4645, 3825, 6284, 5869, 5105, 3286, 5596, 1574, 3735, 5537, 2042, 4932, 4187, 603, 95, 2149, 2832, 6009, 4329, 4821, 1995, 5955, 3993, 3739, 3064, 2598, 806, 5160, 3751, 293, 2898, 5915, 3234, 1592, 5969, 2675, 2736, 5729, 4387, 3407, 670, 1430, 2844, 4915, 6355, 3508, 4815, 1095, 6344, 5362, 5800, 6545, 3528, 2617, 557, 4805, 4127, 2862, 860, 3350, 1715, 3813, 1615, 2471, 6131, 3652, 4385, 2695, 1446, 376, 3418, 5295, 3095, 621, 2004, 3439, 5486, 1300, 4476, 2751, 2174, 513, 2436, 3687, 3323, 1351, 2440, 5458, 2492, 299, 1670, 3126, 2513, 1872, 6089, 3369, 1027, 2398, 5834, 1778, 4303, 3449, 6103, 6287, 3423, 2392, 1626, 5952, 5076, 3941, 5505, 5217, 1196, 1779, 2422, 5374, 5514, 2825, 4606, 830, 2064, 141, 6278, 1334, 2516, 1700, 2589, 6549, 2601, 3729, 3043, 5070, 2263, 3957, 2332, 4129, 3500, 2846, 916, 1982, 4377, 3069, 228, 1157, 3866, 724, 1357, 1001, 6288, 73, 1825, 4362, 3110, 5289, 697, 5647, 3115, 4413, 5977, 24, 4463, 5674, 6351, 5613, 1374, 2415, 1619, 2340, 4623, 509, 5975, 3963, 175, 441, 3643, 5607, 3970, 2487, 3079, 1241, 5143, 4280, 1992, 5188, 1744, 2650, 2677, 2119, 4957, 4297, 2812, 6532, 2431, 749, 2089, 1937, 4371, 1536, 6430, 4111, 6275, 6083, 4199, 2925, 4334, 3297, 3358, 5318, 2932, 1089, 5037, 4499, 3221, 4581, 645, 3287, 1764, 3984, 923, 4495, 4358, 2136, 4633, 4531, 6003, 1412, 1900, 3719, 3634, 5631, 3506, 1609, 887, 4983, 3138, 3911, 6167, 6404, 1295, 508, 2151, 1401, 3093, 1051, 6280, 5534, 4796, 459, 2810, 5689, 5871, 2209, 2644, 3382, 2996, 3261, 4579, 2686, 1270, 3780, 3184, 230, 2386, 1097, 952, 3068, 3036, 3410, 1094, 2558, 3519, 2345, 41, 3954, 3958, 680, 1630, 3343, 2948, 4193, 4464, 2036, 3803, 4288, 1624, 5559, 1337, 5228, 1899, 682, 32, 4790, 4620, 1664, 2433, 375, 5069, 4738, 4279, 4224, 5110, 226, 6356, 1154, 2537, 6375, 113, 2990, 5480, 4048, 1368, 3270, 3616, 3781, 6419, 74, 5481, 4078, 2394, 5877, 2615, 149, 2106, 2401, 5553, 2567, 1847, 2940, 2018, 536, 3759, 1130, 5858, 2115, 2977, 4142, 1326, 2713, 5159, 997, 5777, 2282, 3376, 38, 4849, 4175, 132, 1610, 3269, 2267, 2740, 1428, 67, 1849, 1380, 5625, 3830, 3905, 5605, 2668, 2299, 5357, 6515, 1890, 5237, 6184, 5611, 4487, 5205, 2455, 6157, 4943, 5751, 2393, 2016, 1417, 1045, 6537, 4443, 4131, 2685, 5524, 6494, 6043, 3342, 6250, 1925, 5140, 3433, 1138, 6273, 5236, 4692, 2159, 3032, 1595, 2577, 5753, 305, 4467, 4326, 1917, 356, 1955, 4057, 681, 4483, 281, 5456, 4847, 1696, 1416, 5708, 2576, 4356, 1254, 3831, 3380, 6498, 4832, 4534, 5854, 4269, 1973, 6190, 1814, 2432, 4374, 1848, 6511, 1512, 5636, 3921, 284, 4342, 3832, 4709, 3542, 4468, 2096, 6091, 6264, 4811, 5068, 5686, 6416, 2682, 3893, 2153, 1672, 2523, 5847, 2165, 3833, 3578, 4955, 4189, 2158, 214, 5108, 4244, 5197, 552, 3248, 20, 918, 5619, 5860, 6503, 5058, 12, 1370, 1532, 2333, 5051, 1567, 2604, 3131, 93, 1450, 2186, 1269, 5862, 4382, 4029, 5896, 5043, 3645, 2481, 5036, 3004, 585, 3786, 3420, 1124, 1575, 1493, 6057, 15, 5731, 3947, 1463, 4494, 5932, 5156, 4064, 3430, 1772, 5138, 3535, 102, 3379, 891, 218, 4461, 2823, 5055, 2747, 3107, 2746, 3828, 5604, 4368, 5398, 2538, 1092, 5354, 350, 5543, 1981, 6133, 3610, 4354, 4611, 5225, 5031, 2565, 5305, 4937, 3384, 2269, 263, 3522, 3412]\n",
      "test ids:  [0, 1, 2, 3, 4, 5, 6, 7, 8, 78, 79, 80, 81, 82, 83, 84, 85, 86, 87, 88, 89, 90, 158, 159, 160, 161, 162, 163, 164, 165, 166, 167, 168, 169, 170, 171, 238, 239, 240, 241, 242, 243, 244, 245, 246, 247, 248, 249, 250, 251, 252, 253, 318, 319, 320, 321, 322, 324, 325, 326, 327, 328, 329, 330, 331, 332, 333, 334, 335, 398, 399, 400, 401, 402, 405, 406, 407, 408, 409, 410, 411, 412, 413, 414, 415, 416, 417, 478, 479, 480, 481, 482, 486, 487, 488, 489, 490, 491, 492, 493, 494, 495, 496, 497, 498, 499, 558, 559, 560, 561, 562, 567, 568, 569, 570, 571, 572, 573, 574, 575, 576, 577, 578, 579, 580, 638, 639, 640, 641, 642, 648, 649, 650, 651, 652, 653, 654, 655, 656, 657, 658, 659, 660, 661, 662, 718, 719, 720, 721, 722, 729, 730, 731, 732, 733, 734, 735, 736, 737, 738, 739, 740, 741, 742, 743, 744, 798, 799, 800, 801, 802, 810, 811, 812, 813, 814, 815, 816, 817, 818, 819, 820, 821, 822, 823, 824, 825, 826, 878, 879, 880, 881, 882, 892, 893, 894, 895, 896, 897, 898, 899, 900, 901, 902, 903, 904, 905, 906, 907, 908, 958, 959, 960, 961, 962, 974, 975, 976, 977, 978, 979, 980, 981, 982, 983, 984, 985, 986, 987, 988, 989, 1039, 1040, 1041, 1057, 1058, 1059, 1060, 1061, 1062, 1063, 1064, 1065, 1066, 1067, 1068, 1069, 1070, 1071, 1119, 1120, 1121, 1139, 1140, 1141, 1142, 1143, 1144, 1145, 1146, 1147, 1148, 1149, 1150, 1151, 1152, 1153, 1199, 1200, 1201, 1221, 1222, 1223, 1224, 1225, 1226, 1227, 1228, 1229, 1230, 1231, 1232, 1233, 1234, 1235, 1279, 1280, 1281, 1304, 1305, 1306, 1307, 1308, 1309, 1310, 1311, 1312, 1313, 1314, 1315, 1316, 1359, 1360, 1361, 1386, 1387, 1388, 1389, 1390, 1391, 1392, 1393, 1394, 1395, 1396, 1397, 1398, 1439, 1440, 1441, 1469, 1470, 1471, 1472, 1473, 1474, 1475, 1476, 1477, 1478, 1479, 1480, 1519, 1520, 1521, 1551, 1552, 1553, 1554, 1555, 1556, 1557, 1558, 1559, 1560, 1561, 1562, 1599, 1600, 1601, 1633, 1634, 1635, 1636, 1637, 1638, 1639, 1640, 1641, 1642, 1643, 1644, 1679, 1680, 1681, 1716, 1717, 1718, 1719, 1720, 1721, 1722, 1723, 1724, 1725, 1759, 1760, 1761, 1798, 1799, 1800, 1801, 1802, 1803, 1804, 1805, 1806, 1807, 1839, 1840, 1841, 1880, 1881, 1882, 1883, 1884, 1885, 1886, 1887, 1888, 1889, 1919, 1920, 1921, 1963, 1964, 1965, 1966, 1967, 1968, 1969, 1970, 1971, 1999, 2000, 2001, 2045, 2046, 2047, 2048, 2049, 2050, 2051, 2052, 2053, 2079, 2080, 2081, 2127, 2128, 2129, 2130, 2131, 2132, 2133, 2134, 2160, 2210, 2211, 2212, 2213, 2214, 2215, 2216, 2240, 2292, 2293, 2294, 2295, 2296, 2297, 2298, 2320, 2375, 2376, 2377, 2378, 2379, 2380, 2400, 2457, 2458, 2459, 2460, 2461, 2462, 2480, 2539, 2540, 2541, 2542, 2543, 2560, 2622, 2623, 2624, 2625, 2640, 2704, 2705, 2706, 2707, 2720, 2786, 2787, 2788, 2789, 2800, 2869, 2870, 2871, 2880, 2951, 2952, 2960, 3033, 3034, 3040, 3116, 3120, 3198, 3200, 3280, 3360, 3362, 3440, 3444, 3520, 3526, 3527, 3600, 3608, 3609, 3680, 3689, 3690, 3691, 3760, 3771, 3772, 3773, 3774, 3840, 3853, 3854, 3855, 3856, 3920, 3935, 3936, 3937, 3938, 4000, 4017, 4018, 4019, 4020, 4021, 4080, 4098, 4099, 4100, 4101, 4102, 4103, 4160, 4180, 4181, 4182, 4183, 4184, 4185, 4240, 4262, 4263, 4264, 4265, 4266, 4267, 4268, 4320, 4344, 4345, 4346, 4347, 4348, 4349, 4350, 4400, 4426, 4427, 4428, 4429, 4430, 4431, 4432, 4433, 4479, 4480, 4481, 4507, 4508, 4509, 4510, 4511, 4512, 4513, 4514, 4515, 4559, 4560, 4561, 4589, 4590, 4591, 4592, 4593, 4594, 4595, 4596, 4597, 4639, 4640, 4641, 4671, 4672, 4673, 4674, 4675, 4676, 4677, 4678, 4679, 4680, 4719, 4720, 4721, 4753, 4754, 4755, 4756, 4757, 4758, 4759, 4760, 4761, 4762, 4799, 4800, 4801, 4835, 4836, 4837, 4838, 4839, 4840, 4841, 4842, 4843, 4844, 4879, 4880, 4881, 4916, 4917, 4918, 4919, 4920, 4921, 4922, 4923, 4924, 4925, 4926, 4927, 4959, 4960, 4961, 4998, 4999, 5000, 5001, 5002, 5003, 5004, 5005, 5006, 5007, 5008, 5009, 5039, 5040, 5041, 5080, 5081, 5082, 5083, 5084, 5085, 5086, 5087, 5088, 5089, 5090, 5091, 5119, 5120, 5121, 5162, 5163, 5164, 5165, 5166, 5167, 5168, 5169, 5170, 5171, 5172, 5173, 5174, 5199, 5200, 5201, 5244, 5245, 5246, 5247, 5248, 5249, 5250, 5251, 5252, 5253, 5254, 5255, 5256, 5279, 5280, 5281, 5325, 5326, 5327, 5328, 5329, 5330, 5331, 5332, 5333, 5334, 5335, 5336, 5337, 5338, 5339, 5359, 5360, 5361, 5407, 5408, 5409, 5410, 5411, 5412, 5413, 5414, 5415, 5416, 5417, 5418, 5419, 5420, 5421, 5439, 5440, 5441, 5489, 5490, 5491, 5492, 5493, 5494, 5495, 5496, 5497, 5498, 5499, 5500, 5501, 5502, 5503, 5519, 5520, 5521, 5571, 5572, 5573, 5574, 5575, 5576, 5577, 5578, 5579, 5580, 5581, 5582, 5583, 5584, 5585, 5586, 5598, 5599, 5600, 5601, 5602, 5652, 5653, 5654, 5655, 5656, 5657, 5658, 5659, 5660, 5661, 5662, 5663, 5664, 5665, 5666, 5667, 5668, 5678, 5679, 5680, 5681, 5682, 5734, 5735, 5736, 5737, 5738, 5739, 5740, 5741, 5742, 5743, 5744, 5745, 5746, 5747, 5748, 5749, 5750, 5758, 5759, 5760, 5761, 5762, 5816, 5817, 5818, 5819, 5820, 5821, 5822, 5823, 5824, 5825, 5826, 5827, 5828, 5829, 5830, 5831, 5838, 5839, 5840, 5841, 5842, 5898, 5899, 5900, 5901, 5902, 5903, 5904, 5905, 5906, 5907, 5908, 5909, 5910, 5911, 5912, 5918, 5919, 5920, 5921, 5922, 5980, 5981, 5982, 5983, 5984, 5985, 5986, 5987, 5988, 5989, 5990, 5991, 5992, 5993, 5998, 5999, 6000, 6001, 6002, 6061, 6062, 6063, 6064, 6065, 6066, 6067, 6068, 6069, 6070, 6071, 6072, 6073, 6074, 6078, 6079, 6080, 6081, 6082, 6143, 6144, 6145, 6146, 6147, 6148, 6149, 6150, 6151, 6152, 6153, 6154, 6155, 6158, 6159, 6160, 6161, 6162, 6225, 6226, 6227, 6228, 6229, 6230, 6231, 6232, 6233, 6234, 6235, 6236, 6238, 6239, 6240, 6241, 6242, 6307, 6308, 6309, 6310, 6311, 6312, 6313, 6314, 6315, 6316, 6317, 6318, 6319, 6320, 6321, 6322, 6389, 6390, 6391, 6392, 6393, 6394, 6395, 6396, 6397, 6398, 6399, 6400, 6401, 6402, 6470, 6471, 6472, 6473, 6474, 6475, 6476, 6477, 6478, 6479, 6480, 6481, 6482, 6552, 6553, 6554, 6555, 6556, 6557, 6558, 6559, 6560]\n",
      "CPU times: user 152 ms, sys: 16 ms, total: 168 ms\n",
      "Wall time: 167 ms\n"
     ]
    }
   ],
   "source": [
    "%%time\n",
    "n_total = len(simulation.dataframe)\n",
    "n_train = len(simulation.dataframe[simulation.dataframe.type_of == \"train\"])\n",
    "n_val = len(simulation.dataframe[simulation.dataframe.type_of == \"val\"])\n",
    "n_test = len(simulation.dataframe[simulation.dataframe.type_of == \"test\"])\n",
    "n_train_hamiltonians = len(simulation.train_ids)\n",
    "n_val_hamiltonians = len(simulation.val_ids)\n",
    "n_test_hamiltonians = len(simulation.test_ids)\n",
    "n_total_hamiltonians = n_train_hamiltonians + n_val_hamiltonians + n_test_hamiltonians\n",
    "\n",
    "print(\"% train: \", n_train/n_total)\n",
    "print(\"% val: \",  n_val/n_total)\n",
    "print(\"% test: \", n_test/n_total)\n",
    "print(\"% train + val + test: \", (n_train+n_val+n_test)/n_total)\n",
    "print(\"\\n\")\n",
    "print(\"number of train hamiltonians: \", n_train_hamiltonians)\n",
    "print(\"number of val hamiltonians: \", n_val_hamiltonians)\n",
    "print(\"number of test hamiltonians: \", n_test_hamiltonians)\n",
    "print(\"total number of hamiltonians: \", n_total_hamiltonians)\n",
    "print(\"\\n\")\n",
    "print(\"train ids: \", simulation.train_ids)\n",
    "print(\"val ids: \", simulation.val_ids)\n",
    "print(\"test ids: \", simulation.test_ids)"
   ]
  },
  {
   "cell_type": "markdown",
   "metadata": {
    "papermill": {
     "duration": 0.0358,
     "end_time": "2020-07-18T06:07:01.621203",
     "exception": false,
     "start_time": "2020-07-18T06:07:01.585403",
     "status": "completed"
    },
    "tags": []
   },
   "source": [
    "#### Checking summaries"
   ]
  },
  {
   "cell_type": "code",
   "execution_count": 31,
   "metadata": {
    "execution": {
     "iopub.execute_input": "2020-07-18T06:07:01.699770Z",
     "iopub.status.busy": "2020-07-18T06:07:01.699276Z",
     "iopub.status.idle": "2020-07-18T06:07:01.717932Z",
     "shell.execute_reply": "2020-07-18T06:07:01.717617Z"
    },
    "papermill": {
     "duration": 0.059948,
     "end_time": "2020-07-18T06:07:01.717984",
     "exception": false,
     "start_time": "2020-07-18T06:07:01.658036",
     "status": "completed"
    },
    "tags": []
   },
   "outputs": [
    {
     "name": "stdout",
     "output_type": "stream",
     "text": [
      "length of ham_summary:  6561\n",
      "CPU times: user 53 µs, sys: 0 ns, total: 53 µs\n",
      "Wall time: 54.8 µs\n"
     ]
    },
    {
     "data": {
      "text/html": [
       "<div>\n",
       "<style scoped>\n",
       "    .dataframe tbody tr th:only-of-type {\n",
       "        vertical-align: middle;\n",
       "    }\n",
       "\n",
       "    .dataframe tbody tr th {\n",
       "        vertical-align: top;\n",
       "    }\n",
       "\n",
       "    .dataframe thead th {\n",
       "        text-align: right;\n",
       "    }\n",
       "</style>\n",
       "<table border=\"1\" class=\"dataframe\">\n",
       "  <thead>\n",
       "    <tr style=\"text-align: right;\">\n",
       "      <th></th>\n",
       "      <th>t1</th>\n",
       "      <th>t2</th>\n",
       "      <th>type_of</th>\n",
       "      <th>0</th>\n",
       "      <th>1</th>\n",
       "      <th>phase</th>\n",
       "      <th>pred_phase</th>\n",
       "    </tr>\n",
       "    <tr>\n",
       "      <th>id</th>\n",
       "      <th></th>\n",
       "      <th></th>\n",
       "      <th></th>\n",
       "      <th></th>\n",
       "      <th></th>\n",
       "      <th></th>\n",
       "      <th></th>\n",
       "    </tr>\n",
       "  </thead>\n",
       "  <tbody>\n",
       "    <tr>\n",
       "      <th>0</th>\n",
       "      <td>-2.0</td>\n",
       "      <td>-2.00</td>\n",
       "      <td>test</td>\n",
       "      <td>0.56</td>\n",
       "      <td>0.44</td>\n",
       "      <td>999</td>\n",
       "      <td>0</td>\n",
       "    </tr>\n",
       "    <tr>\n",
       "      <th>1</th>\n",
       "      <td>-2.0</td>\n",
       "      <td>-1.95</td>\n",
       "      <td>test</td>\n",
       "      <td>0.64</td>\n",
       "      <td>0.36</td>\n",
       "      <td>0</td>\n",
       "      <td>0</td>\n",
       "    </tr>\n",
       "    <tr>\n",
       "      <th>2</th>\n",
       "      <td>-2.0</td>\n",
       "      <td>-1.90</td>\n",
       "      <td>test</td>\n",
       "      <td>0.72</td>\n",
       "      <td>0.28</td>\n",
       "      <td>0</td>\n",
       "      <td>0</td>\n",
       "    </tr>\n",
       "    <tr>\n",
       "      <th>3</th>\n",
       "      <td>-2.0</td>\n",
       "      <td>-1.85</td>\n",
       "      <td>test</td>\n",
       "      <td>0.67</td>\n",
       "      <td>0.33</td>\n",
       "      <td>0</td>\n",
       "      <td>0</td>\n",
       "    </tr>\n",
       "    <tr>\n",
       "      <th>4</th>\n",
       "      <td>-2.0</td>\n",
       "      <td>-1.80</td>\n",
       "      <td>test</td>\n",
       "      <td>0.75</td>\n",
       "      <td>0.25</td>\n",
       "      <td>0</td>\n",
       "      <td>0</td>\n",
       "    </tr>\n",
       "    <tr>\n",
       "      <th>...</th>\n",
       "      <td>...</td>\n",
       "      <td>...</td>\n",
       "      <td>...</td>\n",
       "      <td>...</td>\n",
       "      <td>...</td>\n",
       "      <td>...</td>\n",
       "      <td>...</td>\n",
       "    </tr>\n",
       "    <tr>\n",
       "      <th>6556</th>\n",
       "      <td>2.0</td>\n",
       "      <td>1.80</td>\n",
       "      <td>test</td>\n",
       "      <td>0.74</td>\n",
       "      <td>0.26</td>\n",
       "      <td>0</td>\n",
       "      <td>0</td>\n",
       "    </tr>\n",
       "    <tr>\n",
       "      <th>6557</th>\n",
       "      <td>2.0</td>\n",
       "      <td>1.85</td>\n",
       "      <td>test</td>\n",
       "      <td>0.72</td>\n",
       "      <td>0.28</td>\n",
       "      <td>0</td>\n",
       "      <td>0</td>\n",
       "    </tr>\n",
       "    <tr>\n",
       "      <th>6558</th>\n",
       "      <td>2.0</td>\n",
       "      <td>1.90</td>\n",
       "      <td>test</td>\n",
       "      <td>0.69</td>\n",
       "      <td>0.31</td>\n",
       "      <td>0</td>\n",
       "      <td>0</td>\n",
       "    </tr>\n",
       "    <tr>\n",
       "      <th>6559</th>\n",
       "      <td>2.0</td>\n",
       "      <td>1.95</td>\n",
       "      <td>test</td>\n",
       "      <td>0.63</td>\n",
       "      <td>0.37</td>\n",
       "      <td>0</td>\n",
       "      <td>0</td>\n",
       "    </tr>\n",
       "    <tr>\n",
       "      <th>6560</th>\n",
       "      <td>2.0</td>\n",
       "      <td>2.00</td>\n",
       "      <td>test</td>\n",
       "      <td>0.57</td>\n",
       "      <td>0.43</td>\n",
       "      <td>999</td>\n",
       "      <td>0</td>\n",
       "    </tr>\n",
       "  </tbody>\n",
       "</table>\n",
       "<p>6561 rows × 7 columns</p>\n",
       "</div>"
      ],
      "text/plain": [
       "       t1    t2 type_of     0     1  phase  pred_phase\n",
       "id                                                    \n",
       "0    -2.0 -2.00    test  0.56  0.44    999           0\n",
       "1    -2.0 -1.95    test  0.64  0.36      0           0\n",
       "2    -2.0 -1.90    test  0.72  0.28      0           0\n",
       "3    -2.0 -1.85    test  0.67  0.33      0           0\n",
       "4    -2.0 -1.80    test  0.75  0.25      0           0\n",
       "...   ...   ...     ...   ...   ...    ...         ...\n",
       "6556  2.0  1.80    test  0.74  0.26      0           0\n",
       "6557  2.0  1.85    test  0.72  0.28      0           0\n",
       "6558  2.0  1.90    test  0.69  0.31      0           0\n",
       "6559  2.0  1.95    test  0.63  0.37      0           0\n",
       "6560  2.0  2.00    test  0.57  0.43    999           0\n",
       "\n",
       "[6561 rows x 7 columns]"
      ]
     },
     "execution_count": 31,
     "metadata": {},
     "output_type": "execute_result"
    }
   ],
   "source": [
    "%%time\n",
    "ham_summary = simulation.hamiltonian_summary\n",
    "print(\"length of ham_summary: \", len(ham_summary))\n",
    "ham_summary"
   ]
  },
  {
   "cell_type": "code",
   "execution_count": 32,
   "metadata": {
    "execution": {
     "iopub.execute_input": "2020-07-18T06:07:01.794748Z",
     "iopub.status.busy": "2020-07-18T06:07:01.794240Z",
     "iopub.status.idle": "2020-07-18T06:07:01.821542Z",
     "shell.execute_reply": "2020-07-18T06:07:01.821203Z"
    },
    "papermill": {
     "duration": 0.066102,
     "end_time": "2020-07-18T06:07:01.821601",
     "exception": false,
     "start_time": "2020-07-18T06:07:01.755499",
     "status": "completed"
    },
    "tags": []
   },
   "outputs": [
    {
     "data": {
      "text/html": [
       "<div>\n",
       "<style scoped>\n",
       "    .dataframe tbody tr th:only-of-type {\n",
       "        vertical-align: middle;\n",
       "    }\n",
       "\n",
       "    .dataframe tbody tr th {\n",
       "        vertical-align: top;\n",
       "    }\n",
       "\n",
       "    .dataframe thead th {\n",
       "        text-align: right;\n",
       "    }\n",
       "</style>\n",
       "<table border=\"1\" class=\"dataframe\">\n",
       "  <thead>\n",
       "    <tr style=\"text-align: right;\">\n",
       "      <th></th>\n",
       "      <th>t1</th>\n",
       "      <th>t2</th>\n",
       "      <th>0</th>\n",
       "      <th>1</th>\n",
       "      <th>phase</th>\n",
       "      <th>pred_phase</th>\n",
       "    </tr>\n",
       "  </thead>\n",
       "  <tbody>\n",
       "    <tr>\n",
       "      <th>count</th>\n",
       "      <td>6561.000000</td>\n",
       "      <td>6.561000e+03</td>\n",
       "      <td>6561.000000</td>\n",
       "      <td>6561.000000</td>\n",
       "      <td>6561.000000</td>\n",
       "      <td>6561.000000</td>\n",
       "    </tr>\n",
       "    <tr>\n",
       "      <th>mean</th>\n",
       "      <td>0.000000</td>\n",
       "      <td>-4.331917e-18</td>\n",
       "      <td>0.514428</td>\n",
       "      <td>0.485572</td>\n",
       "      <td>25.002134</td>\n",
       "      <td>0.504954</td>\n",
       "    </tr>\n",
       "    <tr>\n",
       "      <th>std</th>\n",
       "      <td>1.169134</td>\n",
       "      <td>1.169134e+00</td>\n",
       "      <td>0.433717</td>\n",
       "      <td>0.433717</td>\n",
       "      <td>154.495657</td>\n",
       "      <td>0.500014</td>\n",
       "    </tr>\n",
       "    <tr>\n",
       "      <th>min</th>\n",
       "      <td>-2.000000</td>\n",
       "      <td>-2.000000e+00</td>\n",
       "      <td>0.000000</td>\n",
       "      <td>0.000000</td>\n",
       "      <td>0.000000</td>\n",
       "      <td>0.000000</td>\n",
       "    </tr>\n",
       "    <tr>\n",
       "      <th>25%</th>\n",
       "      <td>-1.000000</td>\n",
       "      <td>-1.000000e+00</td>\n",
       "      <td>0.050000</td>\n",
       "      <td>0.020000</td>\n",
       "      <td>0.000000</td>\n",
       "      <td>0.000000</td>\n",
       "    </tr>\n",
       "    <tr>\n",
       "      <th>50%</th>\n",
       "      <td>0.000000</td>\n",
       "      <td>0.000000e+00</td>\n",
       "      <td>0.480000</td>\n",
       "      <td>0.520000</td>\n",
       "      <td>1.000000</td>\n",
       "      <td>1.000000</td>\n",
       "    </tr>\n",
       "    <tr>\n",
       "      <th>75%</th>\n",
       "      <td>1.000000</td>\n",
       "      <td>1.000000e+00</td>\n",
       "      <td>0.980000</td>\n",
       "      <td>0.950000</td>\n",
       "      <td>1.000000</td>\n",
       "      <td>1.000000</td>\n",
       "    </tr>\n",
       "    <tr>\n",
       "      <th>max</th>\n",
       "      <td>2.000000</td>\n",
       "      <td>2.000000e+00</td>\n",
       "      <td>1.000000</td>\n",
       "      <td>1.000000</td>\n",
       "      <td>999.000000</td>\n",
       "      <td>1.000000</td>\n",
       "    </tr>\n",
       "  </tbody>\n",
       "</table>\n",
       "</div>"
      ],
      "text/plain": [
       "                t1            t2            0            1        phase  \\\n",
       "count  6561.000000  6.561000e+03  6561.000000  6561.000000  6561.000000   \n",
       "mean      0.000000 -4.331917e-18     0.514428     0.485572    25.002134   \n",
       "std       1.169134  1.169134e+00     0.433717     0.433717   154.495657   \n",
       "min      -2.000000 -2.000000e+00     0.000000     0.000000     0.000000   \n",
       "25%      -1.000000 -1.000000e+00     0.050000     0.020000     0.000000   \n",
       "50%       0.000000  0.000000e+00     0.480000     0.520000     1.000000   \n",
       "75%       1.000000  1.000000e+00     0.980000     0.950000     1.000000   \n",
       "max       2.000000  2.000000e+00     1.000000     1.000000   999.000000   \n",
       "\n",
       "        pred_phase  \n",
       "count  6561.000000  \n",
       "mean      0.504954  \n",
       "std       0.500014  \n",
       "min       0.000000  \n",
       "25%       0.000000  \n",
       "50%       1.000000  \n",
       "75%       1.000000  \n",
       "max       1.000000  "
      ]
     },
     "execution_count": 32,
     "metadata": {},
     "output_type": "execute_result"
    }
   ],
   "source": [
    "ham_summary.describe()"
   ]
  },
  {
   "cell_type": "code",
   "execution_count": 33,
   "metadata": {
    "execution": {
     "iopub.execute_input": "2020-07-18T06:07:01.899390Z",
     "iopub.status.busy": "2020-07-18T06:07:01.898900Z",
     "iopub.status.idle": "2020-07-18T06:07:01.914489Z",
     "shell.execute_reply": "2020-07-18T06:07:01.914172Z"
    },
    "papermill": {
     "duration": 0.054863,
     "end_time": "2020-07-18T06:07:01.914541",
     "exception": false,
     "start_time": "2020-07-18T06:07:01.859678",
     "status": "completed"
    },
    "tags": []
   },
   "outputs": [
    {
     "name": "stdout",
     "output_type": "stream",
     "text": [
      "length of ham_summary:  656100\n"
     ]
    },
    {
     "data": {
      "text/html": [
       "<div>\n",
       "<style scoped>\n",
       "    .dataframe tbody tr th:only-of-type {\n",
       "        vertical-align: middle;\n",
       "    }\n",
       "\n",
       "    .dataframe tbody tr th {\n",
       "        vertical-align: top;\n",
       "    }\n",
       "\n",
       "    .dataframe thead th {\n",
       "        text-align: right;\n",
       "    }\n",
       "</style>\n",
       "<table border=\"1\" class=\"dataframe\">\n",
       "  <thead>\n",
       "    <tr style=\"text-align: right;\">\n",
       "      <th></th>\n",
       "      <th>id</th>\n",
       "      <th>phase</th>\n",
       "      <th>pred_phase</th>\n",
       "      <th>type_of</th>\n",
       "    </tr>\n",
       "  </thead>\n",
       "  <tbody>\n",
       "    <tr>\n",
       "      <th>0</th>\n",
       "      <td>0</td>\n",
       "      <td>999</td>\n",
       "      <td>0</td>\n",
       "      <td>test</td>\n",
       "    </tr>\n",
       "    <tr>\n",
       "      <th>1</th>\n",
       "      <td>0</td>\n",
       "      <td>999</td>\n",
       "      <td>0</td>\n",
       "      <td>test</td>\n",
       "    </tr>\n",
       "    <tr>\n",
       "      <th>2</th>\n",
       "      <td>0</td>\n",
       "      <td>999</td>\n",
       "      <td>1</td>\n",
       "      <td>test</td>\n",
       "    </tr>\n",
       "    <tr>\n",
       "      <th>3</th>\n",
       "      <td>0</td>\n",
       "      <td>999</td>\n",
       "      <td>0</td>\n",
       "      <td>test</td>\n",
       "    </tr>\n",
       "    <tr>\n",
       "      <th>4</th>\n",
       "      <td>0</td>\n",
       "      <td>999</td>\n",
       "      <td>0</td>\n",
       "      <td>test</td>\n",
       "    </tr>\n",
       "    <tr>\n",
       "      <th>...</th>\n",
       "      <td>...</td>\n",
       "      <td>...</td>\n",
       "      <td>...</td>\n",
       "      <td>...</td>\n",
       "    </tr>\n",
       "    <tr>\n",
       "      <th>656095</th>\n",
       "      <td>6560</td>\n",
       "      <td>999</td>\n",
       "      <td>1</td>\n",
       "      <td>test</td>\n",
       "    </tr>\n",
       "    <tr>\n",
       "      <th>656096</th>\n",
       "      <td>6560</td>\n",
       "      <td>999</td>\n",
       "      <td>0</td>\n",
       "      <td>test</td>\n",
       "    </tr>\n",
       "    <tr>\n",
       "      <th>656097</th>\n",
       "      <td>6560</td>\n",
       "      <td>999</td>\n",
       "      <td>0</td>\n",
       "      <td>test</td>\n",
       "    </tr>\n",
       "    <tr>\n",
       "      <th>656098</th>\n",
       "      <td>6560</td>\n",
       "      <td>999</td>\n",
       "      <td>0</td>\n",
       "      <td>test</td>\n",
       "    </tr>\n",
       "    <tr>\n",
       "      <th>656099</th>\n",
       "      <td>6560</td>\n",
       "      <td>999</td>\n",
       "      <td>1</td>\n",
       "      <td>test</td>\n",
       "    </tr>\n",
       "  </tbody>\n",
       "</table>\n",
       "<p>656100 rows × 4 columns</p>\n",
       "</div>"
      ],
      "text/plain": [
       "          id  phase  pred_phase type_of\n",
       "0          0    999           0    test\n",
       "1          0    999           0    test\n",
       "2          0    999           1    test\n",
       "3          0    999           0    test\n",
       "4          0    999           0    test\n",
       "...      ...    ...         ...     ...\n",
       "656095  6560    999           1    test\n",
       "656096  6560    999           0    test\n",
       "656097  6560    999           0    test\n",
       "656098  6560    999           0    test\n",
       "656099  6560    999           1    test\n",
       "\n",
       "[656100 rows x 4 columns]"
      ]
     },
     "execution_count": 33,
     "metadata": {},
     "output_type": "execute_result"
    }
   ],
   "source": [
    "eigen_summary = simulation.eigenvector_summary\n",
    "print(\"length of ham_summary: \", len(eigen_summary))\n",
    "eigen_summary"
   ]
  },
  {
   "cell_type": "markdown",
   "metadata": {
    "papermill": {
     "duration": 0.037145,
     "end_time": "2020-07-18T06:07:01.989014",
     "exception": false,
     "start_time": "2020-07-18T06:07:01.951869",
     "status": "completed"
    },
    "tags": []
   },
   "source": [
    "#### Checking accuracies"
   ]
  },
  {
   "cell_type": "code",
   "execution_count": 34,
   "metadata": {
    "execution": {
     "iopub.execute_input": "2020-07-18T06:07:02.067119Z",
     "iopub.status.busy": "2020-07-18T06:07:02.066782Z",
     "iopub.status.idle": "2020-07-18T06:07:02.078046Z",
     "shell.execute_reply": "2020-07-18T06:07:02.078346Z"
    },
    "papermill": {
     "duration": 0.051577,
     "end_time": "2020-07-18T06:07:02.078411",
     "exception": false,
     "start_time": "2020-07-18T06:07:02.026834",
     "status": "completed"
    },
    "tags": []
   },
   "outputs": [
    {
     "data": {
      "text/plain": [
       "{'eigenvector_train': 0.9749640287769784,\n",
       " 'eigenvector_val': 0.954008,\n",
       " 'eigenvector_test': 0.7330924170616113,\n",
       " 'hamiltonian_train': 0.987410071942446,\n",
       " 'hamiltonian_val': 0.9854,\n",
       " 'hamiltonian_test': 0.9751184834123223}"
      ]
     },
     "execution_count": 34,
     "metadata": {},
     "output_type": "execute_result"
    }
   ],
   "source": [
    "simulation.accuracy"
   ]
  },
  {
   "cell_type": "markdown",
   "metadata": {
    "papermill": {
     "duration": 0.037092,
     "end_time": "2020-07-18T06:07:02.154642",
     "exception": false,
     "start_time": "2020-07-18T06:07:02.117550",
     "status": "completed"
    },
    "tags": []
   },
   "source": [
    "#### Checking data stored in  memory"
   ]
  },
  {
   "cell_type": "code",
   "execution_count": 35,
   "metadata": {
    "execution": {
     "iopub.execute_input": "2020-07-18T06:07:02.233080Z",
     "iopub.status.busy": "2020-07-18T06:07:02.232489Z",
     "iopub.status.idle": "2020-07-18T06:07:02.243395Z",
     "shell.execute_reply": "2020-07-18T06:07:02.243649Z"
    },
    "papermill": {
     "duration": 0.050979,
     "end_time": "2020-07-18T06:07:02.243718",
     "exception": false,
     "start_time": "2020-07-18T06:07:02.192739",
     "status": "completed"
    },
    "tags": []
   },
   "outputs": [
    {
     "data": {
      "text/plain": [
       "[]"
      ]
     },
     "execution_count": 35,
     "metadata": {},
     "output_type": "execute_result"
    }
   ],
   "source": [
    "ham_summary_list = simulation.hamiltonian_summary_list\n",
    "ham_summary_list"
   ]
  },
  {
   "cell_type": "code",
   "execution_count": 36,
   "metadata": {
    "execution": {
     "iopub.execute_input": "2020-07-18T06:07:02.321784Z",
     "iopub.status.busy": "2020-07-18T06:07:02.321475Z",
     "iopub.status.idle": "2020-07-18T06:07:02.446547Z",
     "shell.execute_reply": "2020-07-18T06:07:02.444820Z"
    },
    "papermill": {
     "duration": 0.165149,
     "end_time": "2020-07-18T06:07:02.446791",
     "exception": false,
     "start_time": "2020-07-18T06:07:02.281642",
     "status": "completed"
    },
    "tags": []
   },
   "outputs": [
    {
     "data": {
      "text/plain": [
       "[]"
      ]
     },
     "execution_count": 36,
     "metadata": {},
     "output_type": "execute_result"
    }
   ],
   "source": [
    "eigen_summary_list = simulation.eigenvector_summary_list\n",
    "eigen_summary_list"
   ]
  },
  {
   "cell_type": "code",
   "execution_count": 37,
   "metadata": {
    "execution": {
     "iopub.execute_input": "2020-07-18T06:07:02.568581Z",
     "iopub.status.busy": "2020-07-18T06:07:02.568255Z",
     "iopub.status.idle": "2020-07-18T06:07:02.657528Z",
     "shell.execute_reply": "2020-07-18T06:07:02.658933Z"
    },
    "papermill": {
     "duration": 0.134712,
     "end_time": "2020-07-18T06:07:02.659242",
     "exception": false,
     "start_time": "2020-07-18T06:07:02.524530",
     "status": "completed"
    },
    "tags": []
   },
   "outputs": [
    {
     "data": {
      "text/plain": [
       "{'eigenvector_train': [],\n",
       " 'eigenvector_val': [],\n",
       " 'eigenvector_test': [],\n",
       " 'hamiltonian_train': [],\n",
       " 'hamiltonian_val': [],\n",
       " 'hamiltonian_test': []}"
      ]
     },
     "execution_count": 37,
     "metadata": {},
     "output_type": "execute_result"
    }
   ],
   "source": [
    "accuracy_list = simulation.accuracy_list\n",
    "accuracy_list"
   ]
  },
  {
   "cell_type": "code",
   "execution_count": null,
   "metadata": {
    "papermill": {
     "duration": 0.040127,
     "end_time": "2020-07-18T06:07:02.775050",
     "exception": false,
     "start_time": "2020-07-18T06:07:02.734923",
     "status": "completed"
    },
    "tags": []
   },
   "outputs": [],
   "source": []
  },
  {
   "cell_type": "code",
   "execution_count": null,
   "metadata": {
    "papermill": {
     "duration": 0.038591,
     "end_time": "2020-07-18T06:07:02.852627",
     "exception": false,
     "start_time": "2020-07-18T06:07:02.814036",
     "status": "completed"
    },
    "tags": []
   },
   "outputs": [],
   "source": []
  },
  {
   "cell_type": "code",
   "execution_count": 38,
   "metadata": {
    "execution": {
     "iopub.execute_input": "2020-07-18T06:07:02.932218Z",
     "iopub.status.busy": "2020-07-18T06:07:02.931891Z",
     "iopub.status.idle": "2020-07-18T06:07:02.941901Z",
     "shell.execute_reply": "2020-07-18T06:07:02.941541Z"
    },
    "papermill": {
     "duration": 0.050307,
     "end_time": "2020-07-18T06:07:02.941958",
     "exception": false,
     "start_time": "2020-07-18T06:07:02.891651",
     "status": "completed"
    },
    "tags": []
   },
   "outputs": [],
   "source": [
    "#simulation.fourier_matrix"
   ]
  },
  {
   "cell_type": "code",
   "execution_count": 39,
   "metadata": {
    "execution": {
     "iopub.execute_input": "2020-07-18T06:07:03.022714Z",
     "iopub.status.busy": "2020-07-18T06:07:03.022403Z",
     "iopub.status.idle": "2020-07-18T06:07:03.031658Z",
     "shell.execute_reply": "2020-07-18T06:07:03.031913Z"
    },
    "papermill": {
     "duration": 0.049628,
     "end_time": "2020-07-18T06:07:03.031980",
     "exception": false,
     "start_time": "2020-07-18T06:07:02.982352",
     "status": "completed"
    },
    "tags": []
   },
   "outputs": [],
   "source": [
    "#simulation.fourier_matrix.shape"
   ]
  },
  {
   "cell_type": "code",
   "execution_count": 40,
   "metadata": {
    "execution": {
     "iopub.execute_input": "2020-07-18T06:07:03.111908Z",
     "iopub.status.busy": "2020-07-18T06:07:03.111585Z",
     "iopub.status.idle": "2020-07-18T06:07:03.121511Z",
     "shell.execute_reply": "2020-07-18T06:07:03.121217Z"
    },
    "papermill": {
     "duration": 0.050365,
     "end_time": "2020-07-18T06:07:03.121568",
     "exception": false,
     "start_time": "2020-07-18T06:07:03.071203",
     "status": "completed"
    },
    "tags": []
   },
   "outputs": [],
   "source": [
    "#simulation.fourier_matrix[:,0]"
   ]
  },
  {
   "cell_type": "code",
   "execution_count": 41,
   "metadata": {
    "execution": {
     "iopub.execute_input": "2020-07-18T06:07:03.200878Z",
     "iopub.status.busy": "2020-07-18T06:07:03.200566Z",
     "iopub.status.idle": "2020-07-18T06:07:03.209739Z",
     "shell.execute_reply": "2020-07-18T06:07:03.209993Z"
    },
    "papermill": {
     "duration": 0.049428,
     "end_time": "2020-07-18T06:07:03.210060",
     "exception": false,
     "start_time": "2020-07-18T06:07:03.160632",
     "status": "completed"
    },
    "tags": []
   },
   "outputs": [],
   "source": [
    "#simulation.fourier_matrix[:,1]"
   ]
  },
  {
   "cell_type": "code",
   "execution_count": 42,
   "metadata": {
    "execution": {
     "iopub.execute_input": "2020-07-18T06:07:03.291863Z",
     "iopub.status.busy": "2020-07-18T06:07:03.291549Z",
     "iopub.status.idle": "2020-07-18T06:07:03.300630Z",
     "shell.execute_reply": "2020-07-18T06:07:03.300886Z"
    },
    "papermill": {
     "duration": 0.05176,
     "end_time": "2020-07-18T06:07:03.300958",
     "exception": false,
     "start_time": "2020-07-18T06:07:03.249198",
     "status": "completed"
    },
    "tags": []
   },
   "outputs": [],
   "source": [
    "#np.exp(-1j*2*np.pi*3/100)"
   ]
  },
  {
   "cell_type": "code",
   "execution_count": 43,
   "metadata": {
    "execution": {
     "iopub.execute_input": "2020-07-18T06:07:03.379713Z",
     "iopub.status.busy": "2020-07-18T06:07:03.379399Z",
     "iopub.status.idle": "2020-07-18T06:07:03.388808Z",
     "shell.execute_reply": "2020-07-18T06:07:03.388533Z"
    },
    "papermill": {
     "duration": 0.0494,
     "end_time": "2020-07-18T06:07:03.388862",
     "exception": false,
     "start_time": "2020-07-18T06:07:03.339462",
     "status": "completed"
    },
    "tags": []
   },
   "outputs": [],
   "source": [
    "#for i in range(1,50):\n",
    "#    print(\"\\n\")\n",
    "#    print(i)\n",
    "#    print(np.sum((np.real(simulation.fourier_matrix[:,i]) - np.real(simulation.fourier_matrix[:,-i]))**2))\n",
    "#    print(np.sum((np.imag(simulation.fourier_matrix[:,i])+ np.imag(simulation.fourier_matrix[:,-i]))**2))"
   ]
  },
  {
   "cell_type": "code",
   "execution_count": 44,
   "metadata": {
    "execution": {
     "iopub.execute_input": "2020-07-18T06:07:03.473970Z",
     "iopub.status.busy": "2020-07-18T06:07:03.473638Z",
     "iopub.status.idle": "2020-07-18T06:07:03.493193Z",
     "shell.execute_reply": "2020-07-18T06:07:03.493530Z"
    },
    "papermill": {
     "duration": 0.065548,
     "end_time": "2020-07-18T06:07:03.493600",
     "exception": false,
     "start_time": "2020-07-18T06:07:03.428052",
     "status": "completed"
    },
    "tags": []
   },
   "outputs": [],
   "source": [
    "#print(simulation.fourier_matrix[:,0])"
   ]
  },
  {
   "cell_type": "code",
   "execution_count": 45,
   "metadata": {
    "execution": {
     "iopub.execute_input": "2020-07-18T06:07:03.572715Z",
     "iopub.status.busy": "2020-07-18T06:07:03.572402Z",
     "iopub.status.idle": "2020-07-18T06:07:03.582152Z",
     "shell.execute_reply": "2020-07-18T06:07:03.581830Z"
    },
    "papermill": {
     "duration": 0.049764,
     "end_time": "2020-07-18T06:07:03.582203",
     "exception": false,
     "start_time": "2020-07-18T06:07:03.532439",
     "status": "completed"
    },
    "tags": []
   },
   "outputs": [],
   "source": [
    "#print(simulation.fourier_matrix[:,50])"
   ]
  },
  {
   "cell_type": "code",
   "execution_count": null,
   "metadata": {
    "papermill": {
     "duration": 0.039701,
     "end_time": "2020-07-18T06:07:03.661239",
     "exception": false,
     "start_time": "2020-07-18T06:07:03.621538",
     "status": "completed"
    },
    "tags": []
   },
   "outputs": [],
   "source": []
  }
 ],
 "metadata": {
  "celltoolbar": "Tags",
  "kernelspec": {
   "display_name": "ml_top_phases",
   "language": "python",
   "name": "ml_top_phases"
  },
  "language_info": {
   "codemirror_mode": {
    "name": "ipython",
    "version": 3
   },
   "file_extension": ".py",
   "mimetype": "text/x-python",
   "name": "python",
   "nbconvert_exporter": "python",
   "pygments_lexer": "ipython3",
   "version": "3.6.10"
  },
  "papermill": {
   "duration": 1448.051816,
   "end_time": "2020-07-18T06:07:03.805800",
   "environment_variables": {},
   "exception": null,
   "input_path": "0_simulation_template.ipynb",
   "output_path": "zzz_ssh1_dst_all_wavevector_sites_simulation_notebook.ipynb",
   "parameters": {
    "allowed_windings": [
     0,
     1
    ],
    "csv_path": "/home/rio/ssh_csvs/ssh1/periodic_100_6561.csv",
    "features_to_use": null,
    "fit_params": null,
    "fourier_features_to_use": null,
    "fourier_fillna": false,
    "fourier_mode": "dst",
    "fourier_normalize": false,
    "fourier_real": null,
    "model_kw": {
     "criterion": "entropy"
    },
    "model_name": "DecisionTreeClassifier",
    "n_experiments": 100,
    "pred_params": null,
    "random_features": false,
    "random_state": 1018,
    "save_accuracy": true,
    "save_eigenvector": true,
    "save_hamiltonian": true,
    "save_models": true,
    "shuffle_features": false,
    "shuffle_rows": true,
    "simulation_dir": "/home/rio/ssh_simulations/ssh1/periodic_100_6561/dst_all_wavevector_sites",
    "start_n": 0,
    "store_in_lists": false,
    "val_split": 0.9
   },
   "start_time": "2020-07-18T05:42:55.753984",
   "version": "2.1.0"
  }
 },
 "nbformat": 4,
 "nbformat_minor": 2
}