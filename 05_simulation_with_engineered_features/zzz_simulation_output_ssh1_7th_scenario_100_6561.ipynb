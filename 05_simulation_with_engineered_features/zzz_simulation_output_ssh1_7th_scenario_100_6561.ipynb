{
 "cells": [
  {
   "cell_type": "markdown",
   "metadata": {
    "papermill": {
     "duration": 0.020089,
     "end_time": "2020-07-16T02:42:18.013454",
     "exception": false,
     "start_time": "2020-07-16T02:42:17.993365",
     "status": "completed"
    },
    "tags": []
   },
   "source": [
    "# Simulation template \n",
    "\n",
    "In this notebook we run the machine learning analysis of topological phase transitions occurring  in both nearest-neighbours SSH models (ssh1) and second neighbours models (ssh2) as decribed in the paper [Machine learning topological phases in real space](https://arxiv.org/abs/1901.01963). Here the simulation is run with features generated from fourier components in the first scenario. This scenario is characterized by using only the EVEN wavevector space eigenmodes, computed from ALL real space components."
   ]
  },
  {
   "cell_type": "markdown",
   "metadata": {
    "papermill": {
     "duration": 0.016428,
     "end_time": "2020-07-16T02:42:18.046705",
     "exception": false,
     "start_time": "2020-07-16T02:42:18.030277",
     "status": "completed"
    },
    "tags": []
   },
   "source": [
    "## Defining parameters"
   ]
  },
  {
   "cell_type": "code",
   "execution_count": 1,
   "metadata": {
    "execution": {
     "iopub.execute_input": "2020-07-16T02:42:18.085584Z",
     "iopub.status.busy": "2020-07-16T02:42:18.085204Z",
     "iopub.status.idle": "2020-07-16T02:42:18.681126Z",
     "shell.execute_reply": "2020-07-16T02:42:18.680797Z"
    },
    "papermill": {
     "duration": 0.617261,
     "end_time": "2020-07-16T02:42:18.681186",
     "exception": false,
     "start_time": "2020-07-16T02:42:18.063925",
     "status": "completed"
    },
    "tags": []
   },
   "outputs": [
    {
     "name": "stdout",
     "output_type": "stream",
     "text": [
      "CPU times: user 770 ms, sys: 219 ms, total: 989 ms\n",
      "Wall time: 590 ms\n"
     ]
    }
   ],
   "source": [
    "%%time\n",
    "%load_ext autoreload\n",
    "%autoreload 2\n",
    "from simulation import *"
   ]
  },
  {
   "cell_type": "code",
   "execution_count": 2,
   "metadata": {
    "execution": {
     "iopub.execute_input": "2020-07-16T02:42:18.718222Z",
     "iopub.status.busy": "2020-07-16T02:42:18.717899Z",
     "iopub.status.idle": "2020-07-16T02:42:18.728981Z",
     "shell.execute_reply": "2020-07-16T02:42:18.728659Z"
    },
    "papermill": {
     "duration": 0.030732,
     "end_time": "2020-07-16T02:42:18.729035",
     "exception": false,
     "start_time": "2020-07-16T02:42:18.698303",
     "status": "completed"
    },
    "tags": [
     "parameters"
    ]
   },
   "outputs": [
    {
     "name": "stdout",
     "output_type": "stream",
     "text": [
      "CPU times: user 3 µs, sys: 0 ns, total: 3 µs\n",
      "Wall time: 4.53 µs\n"
     ]
    }
   ],
   "source": [
    "%%time\n",
    "### Dataset and simulation parameters\n",
    "#csv_path = SSH2_PERIODIC_100_6561_CSV \n",
    "csv_path = SSH1_PERIODIC_100_6561_CSV \n",
    "model_name = \"DecisionTreeClassifier\"\n",
    "model_kw = {\"criterion\":\"entropy\"}\n",
    "allowed_windings = [0,1]\n",
    "#allowed_windings = [-1,0,1,2]\n",
    "simulation_dir = SSH1_PERIODIC_1ST_SCENARIO_100_6561_SIMULATION_DIR\n",
    "#simulation_dir = SSH2_PERIODIC_ENGINEERED_100_6561_SIMULATION_DIR\n",
    "val_split = 0.9  \n",
    "features_to_use = None\n",
    "shuffle_features = False\n",
    "random_state = 763\n",
    "\n",
    "### Fourier features\n",
    "fourier_mode = \"dst\"\n",
    "fourier_features_to_use = None\n",
    "fourier_real = \"imag\"\n",
    "fourier_normalize = False\n",
    "fourier_fillna = False\n",
    "\n",
    "### Running a simulation\n",
    "n_experiments = 5\n",
    "start_n = 0\n",
    "fit_params = None\n",
    "#mode=mode\n",
    "shuffle_rows = True\n",
    "pred_params = None\n",
    "random_features = False\n",
    "######### DON'T SET THIS TO TRUE UNLESS YOUR DATASET IS SMALL!! WILL FLOOD YOUR MEMORY!!!\n",
    "store_in_lists = False   \n",
    "########## BELOW ARE THE PARAMETERS THAT CONTROL WHAT WILL BE SAVED\n",
    "save_eigenvector=True\n",
    "save_hamiltonian=True \n",
    "save_accuracy=True \n",
    "save_models=True"
   ]
  },
  {
   "cell_type": "code",
   "execution_count": 3,
   "metadata": {
    "execution": {
     "iopub.execute_input": "2020-07-16T02:42:18.766596Z",
     "iopub.status.busy": "2020-07-16T02:42:18.766275Z",
     "iopub.status.idle": "2020-07-16T02:42:18.872709Z",
     "shell.execute_reply": "2020-07-16T02:42:18.874112Z"
    },
    "papermill": {
     "duration": 0.127732,
     "end_time": "2020-07-16T02:42:18.874431",
     "exception": false,
     "start_time": "2020-07-16T02:42:18.746699",
     "status": "completed"
    },
    "tags": [
     "injected-parameters"
    ]
   },
   "outputs": [],
   "source": [
    "# Parameters\n",
    "model_kw = {\"criterion\": \"entropy\"}\n",
    "allowed_windings = [0, 1]\n",
    "val_split = 0.9\n",
    "features_to_use = [0, 1, 2, 3, 49, 50]\n",
    "shuffle_features = False\n",
    "n_experiments = 100\n",
    "start_n = 0\n",
    "fit_params = None\n",
    "shuffle_rows = True\n",
    "pred_params = None\n",
    "random_features = False\n",
    "store_in_lists = False\n",
    "save_eigenvector = True\n",
    "save_hamiltonian = True\n",
    "save_accuracy = True\n",
    "save_models = True\n",
    "csv_path = \"/home/rio/ssh_csvs/ssh1/periodic_100_6561.csv\"\n",
    "model_name = \"DecisionTreeClassifier\"\n",
    "simulation_dir = \"/home/rio/ssh_simulations/ssh1/periodic_7th_scenario_100_6561\"\n",
    "random_state = 34896\n",
    "fourier_features_to_use = [15, 18, 19, 28, 30, 35]\n",
    "fourier_mode = \"dst\"\n",
    "fourier_real = \"imag\"\n",
    "fourier_normalize = False\n",
    "fourier_fillna = False\n"
   ]
  },
  {
   "cell_type": "code",
   "execution_count": 4,
   "metadata": {
    "execution": {
     "iopub.execute_input": "2020-07-16T02:42:18.956483Z",
     "iopub.status.busy": "2020-07-16T02:42:18.955850Z",
     "iopub.status.idle": "2020-07-16T02:42:24.591319Z",
     "shell.execute_reply": "2020-07-16T02:42:24.591003Z"
    },
    "papermill": {
     "duration": 5.660096,
     "end_time": "2020-07-16T02:42:24.591371",
     "exception": false,
     "start_time": "2020-07-16T02:42:18.931275",
     "status": "completed"
    },
    "tags": []
   },
   "outputs": [
    {
     "name": "stdout",
     "output_type": "stream",
     "text": [
      "Info on all data: \n",
      "\n",
      "<class 'pandas.core.frame.DataFrame'>\n",
      "Int64Index: 656100 entries, 0 to 656099\n",
      "Columns: 108 entries, id to feat99\n",
      "dtypes: float64(103), int32(3), object(2)\n",
      "memory usage: 538.1+ MB\n",
      "CPU times: user 5.57 s, sys: 515 ms, total: 6.08 s\n",
      "Wall time: 5.61 s\n"
     ]
    },
    {
     "data": {
      "text/html": [
       "<div>\n",
       "<style scoped>\n",
       "    .dataframe tbody tr th:only-of-type {\n",
       "        vertical-align: middle;\n",
       "    }\n",
       "\n",
       "    .dataframe tbody tr th {\n",
       "        vertical-align: top;\n",
       "    }\n",
       "\n",
       "    .dataframe thead th {\n",
       "        text-align: right;\n",
       "    }\n",
       "</style>\n",
       "<table border=\"1\" class=\"dataframe\">\n",
       "  <thead>\n",
       "    <tr style=\"text-align: right;\">\n",
       "      <th></th>\n",
       "      <th>id</th>\n",
       "      <th>path</th>\n",
       "      <th>t1</th>\n",
       "      <th>t2</th>\n",
       "      <th>winding</th>\n",
       "      <th>phase</th>\n",
       "      <th>pred_phase</th>\n",
       "      <th>type_of</th>\n",
       "      <th>feat0</th>\n",
       "      <th>feat1</th>\n",
       "      <th>...</th>\n",
       "      <th>feat90</th>\n",
       "      <th>feat91</th>\n",
       "      <th>feat92</th>\n",
       "      <th>feat93</th>\n",
       "      <th>feat94</th>\n",
       "      <th>feat95</th>\n",
       "      <th>feat96</th>\n",
       "      <th>feat97</th>\n",
       "      <th>feat98</th>\n",
       "      <th>feat99</th>\n",
       "    </tr>\n",
       "  </thead>\n",
       "  <tbody>\n",
       "    <tr>\n",
       "      <th>0</th>\n",
       "      <td>0</td>\n",
       "      <td>H_-2_-2_0.509296.dat</td>\n",
       "      <td>-2.0</td>\n",
       "      <td>-2.0</td>\n",
       "      <td>0.509296</td>\n",
       "      <td>999</td>\n",
       "      <td>666</td>\n",
       "      <td>test</td>\n",
       "      <td>0.100000</td>\n",
       "      <td>0.100000</td>\n",
       "      <td>...</td>\n",
       "      <td>0.100000</td>\n",
       "      <td>0.100000</td>\n",
       "      <td>0.100000</td>\n",
       "      <td>0.100000</td>\n",
       "      <td>0.100000</td>\n",
       "      <td>0.100000</td>\n",
       "      <td>0.100000</td>\n",
       "      <td>0.100000</td>\n",
       "      <td>0.100000</td>\n",
       "      <td>0.100000</td>\n",
       "    </tr>\n",
       "    <tr>\n",
       "      <th>1</th>\n",
       "      <td>0</td>\n",
       "      <td>H_-2_-2_0.509296.dat</td>\n",
       "      <td>-2.0</td>\n",
       "      <td>-2.0</td>\n",
       "      <td>0.509296</td>\n",
       "      <td>999</td>\n",
       "      <td>666</td>\n",
       "      <td>test</td>\n",
       "      <td>0.141421</td>\n",
       "      <td>0.141142</td>\n",
       "      <td>...</td>\n",
       "      <td>0.114412</td>\n",
       "      <td>0.108967</td>\n",
       "      <td>0.123928</td>\n",
       "      <td>0.119406</td>\n",
       "      <td>0.131490</td>\n",
       "      <td>0.127962</td>\n",
       "      <td>0.136978</td>\n",
       "      <td>0.134500</td>\n",
       "      <td>0.140306</td>\n",
       "      <td>0.138916</td>\n",
       "    </tr>\n",
       "    <tr>\n",
       "      <th>2</th>\n",
       "      <td>0</td>\n",
       "      <td>H_-2_-2_0.509296.dat</td>\n",
       "      <td>-2.0</td>\n",
       "      <td>-2.0</td>\n",
       "      <td>0.509296</td>\n",
       "      <td>999</td>\n",
       "      <td>666</td>\n",
       "      <td>test</td>\n",
       "      <td>0.141421</td>\n",
       "      <td>0.140306</td>\n",
       "      <td>...</td>\n",
       "      <td>0.043702</td>\n",
       "      <td>0.026500</td>\n",
       "      <td>0.075777</td>\n",
       "      <td>0.060214</td>\n",
       "      <td>0.103092</td>\n",
       "      <td>0.090145</td>\n",
       "      <td>0.123928</td>\n",
       "      <td>0.114412</td>\n",
       "      <td>0.136978</td>\n",
       "      <td>0.131490</td>\n",
       "    </tr>\n",
       "    <tr>\n",
       "      <th>3</th>\n",
       "      <td>0</td>\n",
       "      <td>H_-2_-2_0.509296.dat</td>\n",
       "      <td>-2.0</td>\n",
       "      <td>-2.0</td>\n",
       "      <td>0.509296</td>\n",
       "      <td>999</td>\n",
       "      <td>666</td>\n",
       "      <td>test</td>\n",
       "      <td>-0.100000</td>\n",
       "      <td>0.100000</td>\n",
       "      <td>...</td>\n",
       "      <td>-0.100000</td>\n",
       "      <td>0.100000</td>\n",
       "      <td>-0.100000</td>\n",
       "      <td>0.100000</td>\n",
       "      <td>-0.100000</td>\n",
       "      <td>0.100000</td>\n",
       "      <td>-0.100000</td>\n",
       "      <td>0.100000</td>\n",
       "      <td>-0.100000</td>\n",
       "      <td>0.100000</td>\n",
       "    </tr>\n",
       "    <tr>\n",
       "      <th>4</th>\n",
       "      <td>0</td>\n",
       "      <td>H_-2_-2_0.509296.dat</td>\n",
       "      <td>-2.0</td>\n",
       "      <td>-2.0</td>\n",
       "      <td>0.509296</td>\n",
       "      <td>999</td>\n",
       "      <td>666</td>\n",
       "      <td>test</td>\n",
       "      <td>0.000509</td>\n",
       "      <td>-0.008372</td>\n",
       "      <td>...</td>\n",
       "      <td>-0.082713</td>\n",
       "      <td>-0.089753</td>\n",
       "      <td>-0.067684</td>\n",
       "      <td>-0.075347</td>\n",
       "      <td>-0.051587</td>\n",
       "      <td>-0.059753</td>\n",
       "      <td>-0.034677</td>\n",
       "      <td>-0.043217</td>\n",
       "      <td>-0.017220</td>\n",
       "      <td>-0.026000</td>\n",
       "    </tr>\n",
       "  </tbody>\n",
       "</table>\n",
       "<p>5 rows × 108 columns</p>\n",
       "</div>"
      ],
      "text/plain": [
       "   id                  path   t1   t2   winding  phase  pred_phase type_of  \\\n",
       "0   0  H_-2_-2_0.509296.dat -2.0 -2.0  0.509296    999         666    test   \n",
       "1   0  H_-2_-2_0.509296.dat -2.0 -2.0  0.509296    999         666    test   \n",
       "2   0  H_-2_-2_0.509296.dat -2.0 -2.0  0.509296    999         666    test   \n",
       "3   0  H_-2_-2_0.509296.dat -2.0 -2.0  0.509296    999         666    test   \n",
       "4   0  H_-2_-2_0.509296.dat -2.0 -2.0  0.509296    999         666    test   \n",
       "\n",
       "      feat0     feat1  ...    feat90    feat91    feat92    feat93    feat94  \\\n",
       "0  0.100000  0.100000  ...  0.100000  0.100000  0.100000  0.100000  0.100000   \n",
       "1  0.141421  0.141142  ...  0.114412  0.108967  0.123928  0.119406  0.131490   \n",
       "2  0.141421  0.140306  ...  0.043702  0.026500  0.075777  0.060214  0.103092   \n",
       "3 -0.100000  0.100000  ... -0.100000  0.100000 -0.100000  0.100000 -0.100000   \n",
       "4  0.000509 -0.008372  ... -0.082713 -0.089753 -0.067684 -0.075347 -0.051587   \n",
       "\n",
       "     feat95    feat96    feat97    feat98    feat99  \n",
       "0  0.100000  0.100000  0.100000  0.100000  0.100000  \n",
       "1  0.127962  0.136978  0.134500  0.140306  0.138916  \n",
       "2  0.090145  0.123928  0.114412  0.136978  0.131490  \n",
       "3  0.100000 -0.100000  0.100000 -0.100000  0.100000  \n",
       "4 -0.059753 -0.034677 -0.043217 -0.017220 -0.026000  \n",
       "\n",
       "[5 rows x 108 columns]"
      ]
     },
     "execution_count": 4,
     "metadata": {},
     "output_type": "execute_result"
    }
   ],
   "source": [
    "%%time\n",
    "#Starting an instance of Simulation with a decision tree\n",
    "model = DecisionTreeClassifier(criterion=\"entropy\")\n",
    "#dict_args = {\"csv_path\":csv_path, \"model\":model, \"allowed_windings\":allowed_windings,\\\n",
    "#             \"simulation_dir\":simulation_dir, \"val_split\":val_split, \"features_to_use\":features_to_use,\\\n",
    "#            \"shuffle_features\":shuffle_features, \"random_state\":random_state}\n",
    "simulation = Simulation(csv_path,model_name,model_kw,allowed_windings,simulation_dir,val_split,features_to_use,\\\n",
    "                       shuffle_features,fourier_mode,fourier_features_to_use,fourier_real,\\\n",
    "                       fourier_normalize, fourier_fillna , random_state)\n",
    "#simulation = Simulation(**dict_args)\n",
    "\n",
    "\n",
    "#(self, csv_path, model_name, model_kw, allowed_windings, simulation_dir = None, val_split = 0, \n",
    "# features_to_use = None, shuffle_features = False, fourier_mode=None, fourier_features_to_use=None,\n",
    "# fourier_real = False, fourier_normalize = False, Fourier_fillna=False, random_state = None):\n",
    "\n",
    "\n",
    "\n",
    "print(\"Info on all data: \\n\")\n",
    "simulation.dataframe.info()\n",
    "simulation.dataframe.head()"
   ]
  },
  {
   "cell_type": "markdown",
   "metadata": {
    "papermill": {
     "duration": 0.019794,
     "end_time": "2020-07-16T02:42:24.630455",
     "exception": false,
     "start_time": "2020-07-16T02:42:24.610661",
     "status": "completed"
    },
    "tags": []
   },
   "source": [
    "####  Fourier features"
   ]
  },
  {
   "cell_type": "code",
   "execution_count": 5,
   "metadata": {
    "execution": {
     "iopub.execute_input": "2020-07-16T02:42:24.669087Z",
     "iopub.status.busy": "2020-07-16T02:42:24.668766Z",
     "iopub.status.idle": "2020-07-16T02:42:24.762556Z",
     "shell.execute_reply": "2020-07-16T02:42:24.762234Z"
    },
    "papermill": {
     "duration": 0.113961,
     "end_time": "2020-07-16T02:42:24.762609",
     "exception": false,
     "start_time": "2020-07-16T02:42:24.648648",
     "status": "completed"
    },
    "tags": []
   },
   "outputs": [
    {
     "name": "stdout",
     "output_type": "stream",
     "text": [
      "<class 'pandas.core.frame.DataFrame'>\n",
      "Int64Index: 656100 entries, 0 to 656099\n",
      "Data columns (total 14 columns):\n",
      " #   Column      Non-Null Count   Dtype  \n",
      "---  ------      --------------   -----  \n",
      " 0   id          656100 non-null  int32  \n",
      " 1   path        656100 non-null  object \n",
      " 2   t1          656100 non-null  float64\n",
      " 3   t2          656100 non-null  float64\n",
      " 4   winding     656100 non-null  float64\n",
      " 5   phase       656100 non-null  int32  \n",
      " 6   pred_phase  656100 non-null  int32  \n",
      " 7   type_of     656100 non-null  object \n",
      " 8   dst_feat15  656100 non-null  float64\n",
      " 9   dst_feat18  656100 non-null  float64\n",
      " 10  dst_feat19  656100 non-null  float64\n",
      " 11  dst_feat28  656100 non-null  float64\n",
      " 12  dst_feat30  656100 non-null  float64\n",
      " 13  dst_feat35  656100 non-null  float64\n",
      "dtypes: float64(9), int32(3), object(2)\n",
      "memory usage: 67.6+ MB\n",
      "CPU times: user 83 ms, sys: 353 µs, total: 83.3 ms\n",
      "Wall time: 82.6 ms\n"
     ]
    }
   ],
   "source": [
    "%%time\n",
    "#simulation.generate_fourier_df()\n",
    "if simulation.fourier_mode is not None:\n",
    "    simulation.fourier_dataframe.info() \n",
    "    simulation.fourier_dataframe.sample(15)\n"
   ]
  },
  {
   "cell_type": "code",
   "execution_count": 6,
   "metadata": {
    "execution": {
     "iopub.execute_input": "2020-07-16T02:42:24.806201Z",
     "iopub.status.busy": "2020-07-16T02:42:24.805881Z",
     "iopub.status.idle": "2020-07-16T02:42:24.817996Z",
     "shell.execute_reply": "2020-07-16T02:42:24.818307Z"
    },
    "papermill": {
     "duration": 0.034493,
     "end_time": "2020-07-16T02:42:24.818377",
     "exception": false,
     "start_time": "2020-07-16T02:42:24.783884",
     "status": "completed"
    },
    "tags": []
   },
   "outputs": [
    {
     "name": "stdout",
     "output_type": "stream",
     "text": [
      "features_to_use: \n",
      "\n",
      "\n",
      "[0, 1, 2, 3, 49, 50]\n",
      "Number of real space features:\n",
      "\n",
      "\n",
      "6\n",
      "\n",
      "\n",
      "fourier_features: \n",
      "\n",
      "\n",
      "['dst_feat15', 'dst_feat18', 'dst_feat19', 'dst_feat28', 'dst_feat30', 'dst_feat35']\n",
      "\n",
      "\n",
      "Number of Fourier features: \n",
      "\n",
      "\n",
      "6\n",
      "\n",
      "\n",
      "Fourier operator: \n",
      "[[ 0.+1.68865585j  0.+1.85955297j  0.+1.90211303j  0.+1.93716632j\n",
      "   0.+1.85955297j  0.+1.54102649j]\n",
      " [ 0.+1.8096541j   0.+1.36909421j  0.+1.1755705j  -0.-0.96350735j\n",
      "  -0.-1.36909421j -0.-1.9645745j ]\n",
      " [ 0.+0.25066647j -0.-0.85155858j -0.-1.1755705j  -0.-1.45793725j\n",
      "  -0.-0.85155858j  0.+0.96350735j]\n",
      " [-0.-1.54102649j -0.-1.99605346j -0.-1.90211303j  0.+1.68865585j\n",
      "   0.+1.99605346j  0.+0.73624911j]]\n",
      "\n",
      "\n",
      "Shape of Fourier operator: \n",
      "(4, 6)\n"
     ]
    }
   ],
   "source": [
    "print(\"features_to_use: \")\n",
    "print(\"\\n\")\n",
    "print(simulation.features_to_use)\n",
    "if simulation.features_to_use is not None:\n",
    "    print(\"Number of real space features:\")\n",
    "    print(\"\\n\")\n",
    "    print(len(simulation.features_to_use))\n",
    "print(\"\\n\")\n",
    "print(\"fourier_features: \")\n",
    "print(\"\\n\")\n",
    "print(simulation.fourier_features)\n",
    "print(\"\\n\")\n",
    "if simulation.fourier_features is not None:\n",
    "    print(\"Number of Fourier features: \")\n",
    "    print(\"\\n\")\n",
    "    print(len(simulation.fourier_features))\n",
    "print(\"\\n\")\n",
    "print(\"Fourier operator: \")\n",
    "print(simulation.fourier_operator)\n",
    "print(\"\\n\")\n",
    "if simulation.fourier_operator is not None:\n",
    "    print(\"Shape of Fourier operator: \")\n",
    "    print(simulation.fourier_operator.shape)"
   ]
  },
  {
   "cell_type": "code",
   "execution_count": 7,
   "metadata": {
    "execution": {
     "iopub.execute_input": "2020-07-16T02:42:24.856046Z",
     "iopub.status.busy": "2020-07-16T02:42:24.855645Z",
     "iopub.status.idle": "2020-07-16T02:42:24.921076Z",
     "shell.execute_reply": "2020-07-16T02:42:24.922735Z"
    },
    "papermill": {
     "duration": 0.087167,
     "end_time": "2020-07-16T02:42:24.923044",
     "exception": false,
     "start_time": "2020-07-16T02:42:24.835877",
     "status": "completed"
    },
    "tags": []
   },
   "outputs": [],
   "source": [
    "#a = np.array([1+1j,2+3j,4+8j])\n",
    "#np.imag(a)"
   ]
  },
  {
   "cell_type": "code",
   "execution_count": 8,
   "metadata": {
    "execution": {
     "iopub.execute_input": "2020-07-16T02:42:25.017960Z",
     "iopub.status.busy": "2020-07-16T02:42:25.017426Z",
     "iopub.status.idle": "2020-07-16T02:42:25.029060Z",
     "shell.execute_reply": "2020-07-16T02:42:25.029379Z"
    },
    "papermill": {
     "duration": 0.032872,
     "end_time": "2020-07-16T02:42:25.029450",
     "exception": false,
     "start_time": "2020-07-16T02:42:24.996578",
     "status": "completed"
    },
    "tags": []
   },
   "outputs": [],
   "source": [
    "#plt.plot(np.imag(simulation.fourier_operator[:,0]))"
   ]
  },
  {
   "cell_type": "code",
   "execution_count": 9,
   "metadata": {
    "execution": {
     "iopub.execute_input": "2020-07-16T02:42:25.069951Z",
     "iopub.status.busy": "2020-07-16T02:42:25.069625Z",
     "iopub.status.idle": "2020-07-16T02:42:25.141152Z",
     "shell.execute_reply": "2020-07-16T02:42:25.140371Z"
    },
    "papermill": {
     "duration": 0.09253,
     "end_time": "2020-07-16T02:42:25.141281",
     "exception": false,
     "start_time": "2020-07-16T02:42:25.048751",
     "status": "completed"
    },
    "tags": []
   },
   "outputs": [],
   "source": [
    "#np.sin(np.pi/(50))*2"
   ]
  },
  {
   "cell_type": "code",
   "execution_count": 10,
   "metadata": {
    "execution": {
     "iopub.execute_input": "2020-07-16T02:42:25.206503Z",
     "iopub.status.busy": "2020-07-16T02:42:25.206166Z",
     "iopub.status.idle": "2020-07-16T02:42:25.223034Z",
     "shell.execute_reply": "2020-07-16T02:42:25.222694Z"
    },
    "papermill": {
     "duration": 0.039463,
     "end_time": "2020-07-16T02:42:25.223090",
     "exception": false,
     "start_time": "2020-07-16T02:42:25.183627",
     "status": "completed"
    },
    "tags": []
   },
   "outputs": [],
   "source": [
    "#2*np.sin(np.pi/50*49)"
   ]
  },
  {
   "cell_type": "code",
   "execution_count": 11,
   "metadata": {
    "execution": {
     "iopub.execute_input": "2020-07-16T02:42:25.260532Z",
     "iopub.status.busy": "2020-07-16T02:42:25.260212Z",
     "iopub.status.idle": "2020-07-16T02:42:25.355507Z",
     "shell.execute_reply": "2020-07-16T02:42:25.353751Z"
    },
    "papermill": {
     "duration": 0.114985,
     "end_time": "2020-07-16T02:42:25.355762",
     "exception": false,
     "start_time": "2020-07-16T02:42:25.240777",
     "status": "completed"
    },
    "tags": []
   },
   "outputs": [],
   "source": [
    "#simulation.dataframe.iloc[331456,:]"
   ]
  },
  {
   "cell_type": "code",
   "execution_count": 12,
   "metadata": {
    "execution": {
     "iopub.execute_input": "2020-07-16T02:42:25.431890Z",
     "iopub.status.busy": "2020-07-16T02:42:25.431279Z",
     "iopub.status.idle": "2020-07-16T02:42:25.440818Z",
     "shell.execute_reply": "2020-07-16T02:42:25.441099Z"
    },
    "papermill": {
     "duration": 0.031221,
     "end_time": "2020-07-16T02:42:25.441174",
     "exception": false,
     "start_time": "2020-07-16T02:42:25.409953",
     "status": "completed"
    },
    "tags": []
   },
   "outputs": [],
   "source": [
    "#for ix, obj in enumerate(simulation.dataframe.iloc[331456,:].values):\n",
    "#    print(ix,obj)"
   ]
  },
  {
   "cell_type": "code",
   "execution_count": 13,
   "metadata": {
    "execution": {
     "iopub.execute_input": "2020-07-16T02:42:25.481165Z",
     "iopub.status.busy": "2020-07-16T02:42:25.480858Z",
     "iopub.status.idle": "2020-07-16T02:42:25.547493Z",
     "shell.execute_reply": "2020-07-16T02:42:25.545754Z"
    },
    "papermill": {
     "duration": 0.087473,
     "end_time": "2020-07-16T02:42:25.547753",
     "exception": false,
     "start_time": "2020-07-16T02:42:25.460280",
     "status": "completed"
    },
    "tags": []
   },
   "outputs": [],
   "source": [
    "#simulation.fourier_engineered_dataframe.dct_feat0"
   ]
  },
  {
   "cell_type": "code",
   "execution_count": 14,
   "metadata": {
    "execution": {
     "iopub.execute_input": "2020-07-16T02:42:25.629519Z",
     "iopub.status.busy": "2020-07-16T02:42:25.628961Z",
     "iopub.status.idle": "2020-07-16T02:42:25.639348Z",
     "shell.execute_reply": "2020-07-16T02:42:25.638996Z"
    },
    "papermill": {
     "duration": 0.033097,
     "end_time": "2020-07-16T02:42:25.639405",
     "exception": false,
     "start_time": "2020-07-16T02:42:25.606308",
     "status": "completed"
    },
    "tags": []
   },
   "outputs": [],
   "source": [
    "#simulation.features"
   ]
  },
  {
   "cell_type": "code",
   "execution_count": 15,
   "metadata": {
    "execution": {
     "iopub.execute_input": "2020-07-16T02:42:25.680747Z",
     "iopub.status.busy": "2020-07-16T02:42:25.680242Z",
     "iopub.status.idle": "2020-07-16T02:42:25.739714Z",
     "shell.execute_reply": "2020-07-16T02:42:25.739321Z"
    },
    "papermill": {
     "duration": 0.080555,
     "end_time": "2020-07-16T02:42:25.739776",
     "exception": false,
     "start_time": "2020-07-16T02:42:25.659221",
     "status": "completed"
    },
    "tags": []
   },
   "outputs": [],
   "source": [
    "#simulation.fourier_matrix"
   ]
  },
  {
   "cell_type": "code",
   "execution_count": 16,
   "metadata": {
    "execution": {
     "iopub.execute_input": "2020-07-16T02:42:25.783520Z",
     "iopub.status.busy": "2020-07-16T02:42:25.783181Z",
     "iopub.status.idle": "2020-07-16T02:42:25.849329Z",
     "shell.execute_reply": "2020-07-16T02:42:25.848696Z"
    },
    "papermill": {
     "duration": 0.087288,
     "end_time": "2020-07-16T02:42:25.849432",
     "exception": false,
     "start_time": "2020-07-16T02:42:25.762144",
     "status": "completed"
    },
    "tags": []
   },
   "outputs": [],
   "source": [
    "#1/simulation.n_features*simulation.dataframe.loc[:,simulation.features].sum(axis=1)"
   ]
  },
  {
   "cell_type": "code",
   "execution_count": 17,
   "metadata": {
    "execution": {
     "iopub.execute_input": "2020-07-16T02:42:25.912421Z",
     "iopub.status.busy": "2020-07-16T02:42:25.912071Z",
     "iopub.status.idle": "2020-07-16T02:42:25.924436Z",
     "shell.execute_reply": "2020-07-16T02:42:25.924758Z"
    },
    "papermill": {
     "duration": 0.03759,
     "end_time": "2020-07-16T02:42:25.924827",
     "exception": false,
     "start_time": "2020-07-16T02:42:25.887237",
     "status": "completed"
    },
    "tags": []
   },
   "outputs": [],
   "source": [
    "#df_2 = simulation.fourier_engineered_dataframe[simulation.fourier_engineered_dataframe.phase==2]\n",
    "#df_2.describe()"
   ]
  },
  {
   "cell_type": "code",
   "execution_count": 18,
   "metadata": {
    "execution": {
     "iopub.execute_input": "2020-07-16T02:42:25.962381Z",
     "iopub.status.busy": "2020-07-16T02:42:25.962072Z",
     "iopub.status.idle": "2020-07-16T02:42:26.014514Z",
     "shell.execute_reply": "2020-07-16T02:42:26.014939Z"
    },
    "papermill": {
     "duration": 0.071833,
     "end_time": "2020-07-16T02:42:26.015028",
     "exception": false,
     "start_time": "2020-07-16T02:42:25.943195",
     "status": "completed"
    },
    "tags": []
   },
   "outputs": [],
   "source": [
    "#df_1 = simulation.fourier_engineered_dataframe[simulation.fourier_engineered_dataframe.phase==1]\n",
    "#df_1.describe()"
   ]
  },
  {
   "cell_type": "code",
   "execution_count": 19,
   "metadata": {
    "execution": {
     "iopub.execute_input": "2020-07-16T02:42:26.066487Z",
     "iopub.status.busy": "2020-07-16T02:42:26.065906Z",
     "iopub.status.idle": "2020-07-16T02:42:26.114691Z",
     "shell.execute_reply": "2020-07-16T02:42:26.114355Z"
    },
    "papermill": {
     "duration": 0.072219,
     "end_time": "2020-07-16T02:42:26.114756",
     "exception": false,
     "start_time": "2020-07-16T02:42:26.042537",
     "status": "completed"
    },
    "tags": []
   },
   "outputs": [],
   "source": [
    "#df_0 = simulation.fourier_engineered_dataframe[simulation.fourier_engineered_dataframe.phase==0]\n",
    "#df_0.describe()"
   ]
  },
  {
   "cell_type": "code",
   "execution_count": 20,
   "metadata": {
    "execution": {
     "iopub.execute_input": "2020-07-16T02:42:26.157735Z",
     "iopub.status.busy": "2020-07-16T02:42:26.157425Z",
     "iopub.status.idle": "2020-07-16T02:42:26.223027Z",
     "shell.execute_reply": "2020-07-16T02:42:26.223589Z"
    },
    "papermill": {
     "duration": 0.086699,
     "end_time": "2020-07-16T02:42:26.223699",
     "exception": false,
     "start_time": "2020-07-16T02:42:26.137000",
     "status": "completed"
    },
    "tags": []
   },
   "outputs": [],
   "source": [
    "#plt.figure(figsize=(10,10))\n",
    "#plt.scatter(df_1.fourier_feat0,df_1.fourier_feat2)\n",
    "#plt.scatter(df_0.fourier_feat0,df_0.fourier_feat2,alpha=0.4)"
   ]
  },
  {
   "cell_type": "code",
   "execution_count": 21,
   "metadata": {
    "execution": {
     "iopub.execute_input": "2020-07-16T02:42:26.273213Z",
     "iopub.status.busy": "2020-07-16T02:42:26.272851Z",
     "iopub.status.idle": "2020-07-16T02:42:26.370725Z",
     "shell.execute_reply": "2020-07-16T02:42:26.369447Z"
    },
    "papermill": {
     "duration": 0.118203,
     "end_time": "2020-07-16T02:42:26.370962",
     "exception": false,
     "start_time": "2020-07-16T02:42:26.252759",
     "status": "completed"
    },
    "tags": []
   },
   "outputs": [],
   "source": [
    "#plt.scatter(df_0.fourier_feat0,df_0.fourier_feat2,alpha=0.4)"
   ]
  },
  {
   "cell_type": "code",
   "execution_count": 22,
   "metadata": {
    "execution": {
     "iopub.execute_input": "2020-07-16T02:42:26.450224Z",
     "iopub.status.busy": "2020-07-16T02:42:26.449917Z",
     "iopub.status.idle": "2020-07-16T02:42:26.459559Z",
     "shell.execute_reply": "2020-07-16T02:42:26.459231Z"
    },
    "papermill": {
     "duration": 0.03149,
     "end_time": "2020-07-16T02:42:26.459612",
     "exception": false,
     "start_time": "2020-07-16T02:42:26.428122",
     "status": "completed"
    },
    "tags": []
   },
   "outputs": [],
   "source": [
    "#plt.scatter(df_2.fourier_feat0,df_2.fourier_feat2)"
   ]
  },
  {
   "cell_type": "code",
   "execution_count": 23,
   "metadata": {
    "execution": {
     "iopub.execute_input": "2020-07-16T02:42:26.498432Z",
     "iopub.status.busy": "2020-07-16T02:42:26.498092Z",
     "iopub.status.idle": "2020-07-16T02:42:26.565433Z",
     "shell.execute_reply": "2020-07-16T02:42:26.564876Z"
    },
    "papermill": {
     "duration": 0.087158,
     "end_time": "2020-07-16T02:42:26.565518",
     "exception": false,
     "start_time": "2020-07-16T02:42:26.478360",
     "status": "completed"
    },
    "tags": []
   },
   "outputs": [],
   "source": [
    "#df_1.hist(figsize=(15,15))"
   ]
  },
  {
   "cell_type": "code",
   "execution_count": 24,
   "metadata": {
    "execution": {
     "iopub.execute_input": "2020-07-16T02:42:26.607079Z",
     "iopub.status.busy": "2020-07-16T02:42:26.606771Z",
     "iopub.status.idle": "2020-07-16T02:42:26.664977Z",
     "shell.execute_reply": "2020-07-16T02:42:26.665435Z"
    },
    "papermill": {
     "duration": 0.079034,
     "end_time": "2020-07-16T02:42:26.665546",
     "exception": false,
     "start_time": "2020-07-16T02:42:26.586512",
     "status": "completed"
    },
    "tags": []
   },
   "outputs": [],
   "source": [
    "#df_0.hist(figsize=(15,15))"
   ]
  },
  {
   "cell_type": "markdown",
   "metadata": {
    "papermill": {
     "duration": 0.021543,
     "end_time": "2020-07-16T02:42:26.725135",
     "exception": false,
     "start_time": "2020-07-16T02:42:26.703592",
     "status": "completed"
    },
    "tags": []
   },
   "source": [
    "#### Checking initialization"
   ]
  },
  {
   "cell_type": "code",
   "execution_count": 25,
   "metadata": {
    "execution": {
     "iopub.execute_input": "2020-07-16T02:42:26.763197Z",
     "iopub.status.busy": "2020-07-16T02:42:26.762885Z",
     "iopub.status.idle": "2020-07-16T02:42:26.773414Z",
     "shell.execute_reply": "2020-07-16T02:42:26.773665Z"
    },
    "papermill": {
     "duration": 0.030512,
     "end_time": "2020-07-16T02:42:26.773734",
     "exception": false,
     "start_time": "2020-07-16T02:42:26.743222",
     "status": "completed"
    },
    "tags": []
   },
   "outputs": [
    {
     "name": "stdout",
     "output_type": "stream",
     "text": [
      "n_features:  100\n",
      "n_hamiltonians:  6561\n",
      "n_ts:  2\n",
      "CPU times: user 740 µs, sys: 84 µs, total: 824 µs\n",
      "Wall time: 531 µs\n"
     ]
    }
   ],
   "source": [
    "%%time\n",
    "n_features = simulation.n_features\n",
    "n_hamiltonians = simulation.n_hamiltonians\n",
    "n_ts = simulation.n_ts\n",
    "\n",
    "print(\"n_features: \", n_features)\n",
    "print(\"n_hamiltonians: \", n_hamiltonians)\n",
    "print(\"n_ts: \", n_ts)"
   ]
  },
  {
   "cell_type": "code",
   "execution_count": 26,
   "metadata": {
    "execution": {
     "iopub.execute_input": "2020-07-16T02:42:26.811620Z",
     "iopub.status.busy": "2020-07-16T02:42:26.811300Z",
     "iopub.status.idle": "2020-07-16T02:42:27.062872Z",
     "shell.execute_reply": "2020-07-16T02:42:27.063130Z"
    },
    "papermill": {
     "duration": 0.271611,
     "end_time": "2020-07-16T02:42:27.063199",
     "exception": false,
     "start_time": "2020-07-16T02:42:26.791588",
     "status": "completed"
    },
    "tags": []
   },
   "outputs": [
    {
     "name": "stdout",
     "output_type": "stream",
     "text": [
      "% train:  0.846822130772748\n",
      "% val:  0.0\n",
      "% test:  0.15317786922725193\n",
      "% train + val + test:  1.0\n",
      "\n",
      "\n",
      "number of train hamiltonians:  5556\n",
      "number of val hamiltonians:  0\n",
      "number of test hamiltonians:  1005\n",
      "total number of hamiltonians:  6561\n",
      "\n",
      "\n",
      "train ids:  [9, 10, 11, 12, 13, 14, 15, 16, 17, 18, 19, 20, 21, 22, 23, 24, 25, 26, 27, 28, 29, 30, 31, 32, 33, 34, 35, 36, 37, 38, 39, 40, 41, 42, 43, 44, 45, 46, 47, 48, 49, 50, 51, 52, 53, 54, 55, 56, 57, 58, 59, 60, 61, 62, 63, 64, 65, 66, 67, 68, 69, 70, 71, 72, 73, 74, 75, 76, 77, 91, 92, 93, 94, 95, 96, 97, 98, 99, 100, 101, 102, 103, 104, 105, 106, 107, 108, 109, 110, 111, 112, 113, 114, 115, 116, 117, 118, 119, 120, 121, 122, 123, 124, 125, 126, 127, 128, 129, 130, 131, 132, 133, 134, 135, 136, 137, 138, 139, 140, 141, 142, 143, 144, 145, 146, 147, 148, 149, 150, 151, 152, 153, 154, 155, 156, 157, 172, 173, 174, 175, 176, 177, 178, 179, 180, 181, 182, 183, 184, 185, 186, 187, 188, 189, 190, 191, 192, 193, 194, 195, 196, 197, 198, 199, 200, 201, 202, 203, 204, 205, 206, 207, 208, 209, 210, 211, 212, 213, 214, 215, 216, 217, 218, 219, 220, 221, 222, 223, 224, 225, 226, 227, 228, 229, 230, 231, 232, 233, 234, 235, 236, 237, 254, 255, 256, 257, 258, 259, 260, 261, 262, 263, 264, 265, 266, 267, 268, 269, 270, 271, 272, 273, 274, 275, 276, 277, 278, 279, 280, 281, 282, 283, 284, 285, 286, 287, 288, 289, 290, 291, 292, 293, 294, 295, 296, 297, 298, 299, 300, 301, 302, 303, 304, 305, 306, 307, 308, 309, 310, 311, 312, 313, 314, 315, 316, 317, 323, 336, 337, 338, 339, 340, 341, 342, 343, 344, 345, 346, 347, 348, 349, 350, 351, 352, 353, 354, 355, 356, 357, 358, 359, 360, 361, 362, 363, 364, 365, 366, 367, 368, 369, 370, 371, 372, 373, 374, 375, 376, 377, 378, 379, 380, 381, 382, 383, 384, 385, 386, 387, 388, 389, 390, 391, 392, 393, 394, 395, 396, 397, 403, 404, 418, 419, 420, 421, 422, 423, 424, 425, 426, 427, 428, 429, 430, 431, 432, 433, 434, 435, 436, 437, 438, 439, 440, 441, 442, 443, 444, 445, 446, 447, 448, 449, 450, 451, 452, 453, 454, 455, 456, 457, 458, 459, 460, 461, 462, 463, 464, 465, 466, 467, 468, 469, 470, 471, 472, 473, 474, 475, 476, 477, 483, 484, 485, 500, 501, 502, 503, 504, 505, 506, 507, 508, 509, 510, 511, 512, 513, 514, 515, 516, 517, 518, 519, 520, 521, 522, 523, 524, 525, 526, 527, 528, 529, 530, 531, 532, 533, 534, 535, 536, 537, 538, 539, 540, 541, 542, 543, 544, 545, 546, 547, 548, 549, 550, 551, 552, 553, 554, 555, 556, 557, 563, 564, 565, 566, 581, 582, 583, 584, 585, 586, 587, 588, 589, 590, 591, 592, 593, 594, 595, 596, 597, 598, 599, 600, 601, 602, 603, 604, 605, 606, 607, 608, 609, 610, 611, 612, 613, 614, 615, 616, 617, 618, 619, 620, 621, 622, 623, 624, 625, 626, 627, 628, 629, 630, 631, 632, 633, 634, 635, 636, 637, 643, 644, 645, 646, 647, 663, 664, 665, 666, 667, 668, 669, 670, 671, 672, 673, 674, 675, 676, 677, 678, 679, 680, 681, 682, 683, 684, 685, 686, 687, 688, 689, 690, 691, 692, 693, 694, 695, 696, 697, 698, 699, 700, 701, 702, 703, 704, 705, 706, 707, 708, 709, 710, 711, 712, 713, 714, 715, 716, 717, 723, 724, 725, 726, 727, 728, 745, 746, 747, 748, 749, 750, 751, 752, 753, 754, 755, 756, 757, 758, 759, 760, 761, 762, 763, 764, 765, 766, 767, 768, 769, 770, 771, 772, 773, 774, 775, 776, 777, 778, 779, 780, 781, 782, 783, 784, 785, 786, 787, 788, 789, 790, 791, 792, 793, 794, 795, 796, 797, 803, 804, 805, 806, 807, 808, 809, 827, 828, 829, 830, 831, 832, 833, 834, 835, 836, 837, 838, 839, 840, 841, 842, 843, 844, 845, 846, 847, 848, 849, 850, 851, 852, 853, 854, 855, 856, 857, 858, 859, 860, 861, 862, 863, 864, 865, 866, 867, 868, 869, 870, 871, 872, 873, 874, 875, 876, 877, 883, 884, 885, 886, 887, 888, 889, 890, 891, 909, 910, 911, 912, 913, 914, 915, 916, 917, 918, 919, 920, 921, 922, 923, 924, 925, 926, 927, 928, 929, 930, 931, 932, 933, 934, 935, 936, 937, 938, 939, 940, 941, 942, 943, 944, 945, 946, 947, 948, 949, 950, 951, 952, 953, 954, 955, 956, 957, 963, 964, 965, 966, 967, 968, 969, 970, 971, 972, 973, 990, 991, 992, 993, 994, 995, 996, 997, 998, 999, 1000, 1001, 1002, 1003, 1004, 1005, 1006, 1007, 1008, 1009, 1010, 1011, 1012, 1013, 1014, 1015, 1016, 1017, 1018, 1019, 1020, 1021, 1022, 1023, 1024, 1025, 1026, 1027, 1028, 1029, 1030, 1031, 1032, 1033, 1034, 1035, 1036, 1037, 1038, 1042, 1043, 1044, 1045, 1046, 1047, 1048, 1049, 1050, 1051, 1052, 1053, 1054, 1055, 1056, 1072, 1073, 1074, 1075, 1076, 1077, 1078, 1079, 1080, 1081, 1082, 1083, 1084, 1085, 1086, 1087, 1088, 1089, 1090, 1091, 1092, 1093, 1094, 1095, 1096, 1097, 1098, 1099, 1100, 1101, 1102, 1103, 1104, 1105, 1106, 1107, 1108, 1109, 1110, 1111, 1112, 1113, 1114, 1115, 1116, 1117, 1118, 1122, 1123, 1124, 1125, 1126, 1127, 1128, 1129, 1130, 1131, 1132, 1133, 1134, 1135, 1136, 1137, 1138, 1154, 1155, 1156, 1157, 1158, 1159, 1160, 1161, 1162, 1163, 1164, 1165, 1166, 1167, 1168, 1169, 1170, 1171, 1172, 1173, 1174, 1175, 1176, 1177, 1178, 1179, 1180, 1181, 1182, 1183, 1184, 1185, 1186, 1187, 1188, 1189, 1190, 1191, 1192, 1193, 1194, 1195, 1196, 1197, 1198, 1202, 1203, 1204, 1205, 1206, 1207, 1208, 1209, 1210, 1211, 1212, 1213, 1214, 1215, 1216, 1217, 1218, 1219, 1220, 1236, 1237, 1238, 1239, 1240, 1241, 1242, 1243, 1244, 1245, 1246, 1247, 1248, 1249, 1250, 1251, 1252, 1253, 1254, 1255, 1256, 1257, 1258, 1259, 1260, 1261, 1262, 1263, 1264, 1265, 1266, 1267, 1268, 1269, 1270, 1271, 1272, 1273, 1274, 1275, 1276, 1277, 1278, 1282, 1283, 1284, 1285, 1286, 1287, 1288, 1289, 1290, 1291, 1292, 1293, 1294, 1295, 1296, 1297, 1298, 1299, 1300, 1301, 1302, 1303, 1317, 1318, 1319, 1320, 1321, 1322, 1323, 1324, 1325, 1326, 1327, 1328, 1329, 1330, 1331, 1332, 1333, 1334, 1335, 1336, 1337, 1338, 1339, 1340, 1341, 1342, 1343, 1344, 1345, 1346, 1347, 1348, 1349, 1350, 1351, 1352, 1353, 1354, 1355, 1356, 1357, 1358, 1362, 1363, 1364, 1365, 1366, 1367, 1368, 1369, 1370, 1371, 1372, 1373, 1374, 1375, 1376, 1377, 1378, 1379, 1380, 1381, 1382, 1383, 1384, 1385, 1399, 1400, 1401, 1402, 1403, 1404, 1405, 1406, 1407, 1408, 1409, 1410, 1411, 1412, 1413, 1414, 1415, 1416, 1417, 1418, 1419, 1420, 1421, 1422, 1423, 1424, 1425, 1426, 1427, 1428, 1429, 1430, 1431, 1432, 1433, 1434, 1435, 1436, 1437, 1438, 1442, 1443, 1444, 1445, 1446, 1447, 1448, 1449, 1450, 1451, 1452, 1453, 1454, 1455, 1456, 1457, 1458, 1459, 1460, 1461, 1462, 1463, 1464, 1465, 1466, 1467, 1468, 1481, 1482, 1483, 1484, 1485, 1486, 1487, 1488, 1489, 1490, 1491, 1492, 1493, 1494, 1495, 1496, 1497, 1498, 1499, 1500, 1501, 1502, 1503, 1504, 1505, 1506, 1507, 1508, 1509, 1510, 1511, 1512, 1513, 1514, 1515, 1516, 1517, 1518, 1522, 1523, 1524, 1525, 1526, 1527, 1528, 1529, 1530, 1531, 1532, 1533, 1534, 1535, 1536, 1537, 1538, 1539, 1540, 1541, 1542, 1543, 1544, 1545, 1546, 1547, 1548, 1549, 1550, 1563, 1564, 1565, 1566, 1567, 1568, 1569, 1570, 1571, 1572, 1573, 1574, 1575, 1576, 1577, 1578, 1579, 1580, 1581, 1582, 1583, 1584, 1585, 1586, 1587, 1588, 1589, 1590, 1591, 1592, 1593, 1594, 1595, 1596, 1597, 1598, 1602, 1603, 1604, 1605, 1606, 1607, 1608, 1609, 1610, 1611, 1612, 1613, 1614, 1615, 1616, 1617, 1618, 1619, 1620, 1621, 1622, 1623, 1624, 1625, 1626, 1627, 1628, 1629, 1630, 1631, 1632, 1645, 1646, 1647, 1648, 1649, 1650, 1651, 1652, 1653, 1654, 1655, 1656, 1657, 1658, 1659, 1660, 1661, 1662, 1663, 1664, 1665, 1666, 1667, 1668, 1669, 1670, 1671, 1672, 1673, 1674, 1675, 1676, 1677, 1678, 1682, 1683, 1684, 1685, 1686, 1687, 1688, 1689, 1690, 1691, 1692, 1693, 1694, 1695, 1696, 1697, 1698, 1699, 1700, 1701, 1702, 1703, 1704, 1705, 1706, 1707, 1708, 1709, 1710, 1711, 1712, 1713, 1714, 1715, 1726, 1727, 1728, 1729, 1730, 1731, 1732, 1733, 1734, 1735, 1736, 1737, 1738, 1739, 1740, 1741, 1742, 1743, 1744, 1745, 1746, 1747, 1748, 1749, 1750, 1751, 1752, 1753, 1754, 1755, 1756, 1757, 1758, 1762, 1763, 1764, 1765, 1766, 1767, 1768, 1769, 1770, 1771, 1772, 1773, 1774, 1775, 1776, 1777, 1778, 1779, 1780, 1781, 1782, 1783, 1784, 1785, 1786, 1787, 1788, 1789, 1790, 1791, 1792, 1793, 1794, 1795, 1796, 1797, 1808, 1809, 1810, 1811, 1812, 1813, 1814, 1815, 1816, 1817, 1818, 1819, 1820, 1821, 1822, 1823, 1824, 1825, 1826, 1827, 1828, 1829, 1830, 1831, 1832, 1833, 1834, 1835, 1836, 1837, 1838, 1842, 1843, 1844, 1845, 1846, 1847, 1848, 1849, 1850, 1851, 1852, 1853, 1854, 1855, 1856, 1857, 1858, 1859, 1860, 1861, 1862, 1863, 1864, 1865, 1866, 1867, 1868, 1869, 1870, 1871, 1872, 1873, 1874, 1875, 1876, 1877, 1878, 1879, 1890, 1891, 1892, 1893, 1894, 1895, 1896, 1897, 1898, 1899, 1900, 1901, 1902, 1903, 1904, 1905, 1906, 1907, 1908, 1909, 1910, 1911, 1912, 1913, 1914, 1915, 1916, 1917, 1918, 1922, 1923, 1924, 1925, 1926, 1927, 1928, 1929, 1930, 1931, 1932, 1933, 1934, 1935, 1936, 1937, 1938, 1939, 1940, 1941, 1942, 1943, 1944, 1945, 1946, 1947, 1948, 1949, 1950, 1951, 1952, 1953, 1954, 1955, 1956, 1957, 1958, 1959, 1960, 1961, 1962, 1972, 1973, 1974, 1975, 1976, 1977, 1978, 1979, 1980, 1981, 1982, 1983, 1984, 1985, 1986, 1987, 1988, 1989, 1990, 1991, 1992, 1993, 1994, 1995, 1996, 1997, 1998, 2002, 2003, 2004, 2005, 2006, 2007, 2008, 2009, 2010, 2011, 2012, 2013, 2014, 2015, 2016, 2017, 2018, 2019, 2020, 2021, 2022, 2023, 2024, 2025, 2026, 2027, 2028, 2029, 2030, 2031, 2032, 2033, 2034, 2035, 2036, 2037, 2038, 2039, 2040, 2041, 2042, 2043, 2044, 2054, 2055, 2056, 2057, 2058, 2059, 2060, 2061, 2062, 2063, 2064, 2065, 2066, 2067, 2068, 2069, 2070, 2071, 2072, 2073, 2074, 2075, 2076, 2077, 2078, 2082, 2083, 2084, 2085, 2086, 2087, 2088, 2089, 2090, 2091, 2092, 2093, 2094, 2095, 2096, 2097, 2098, 2099, 2100, 2101, 2102, 2103, 2104, 2105, 2106, 2107, 2108, 2109, 2110, 2111, 2112, 2113, 2114, 2115, 2116, 2117, 2118, 2119, 2120, 2121, 2122, 2123, 2124, 2125, 2126, 2135, 2136, 2137, 2138, 2139, 2140, 2141, 2142, 2143, 2144, 2145, 2146, 2147, 2148, 2149, 2150, 2151, 2152, 2153, 2154, 2155, 2156, 2157, 2158, 2159, 2161, 2162, 2163, 2164, 2165, 2166, 2167, 2168, 2169, 2170, 2171, 2172, 2173, 2174, 2175, 2176, 2177, 2178, 2179, 2180, 2181, 2182, 2183, 2184, 2185, 2186, 2187, 2188, 2189, 2190, 2191, 2192, 2193, 2194, 2195, 2196, 2197, 2198, 2199, 2200, 2201, 2202, 2203, 2204, 2205, 2206, 2207, 2208, 2209, 2217, 2218, 2219, 2220, 2221, 2222, 2223, 2224, 2225, 2226, 2227, 2228, 2229, 2230, 2231, 2232, 2233, 2234, 2235, 2236, 2237, 2238, 2239, 2241, 2242, 2243, 2244, 2245, 2246, 2247, 2248, 2249, 2250, 2251, 2252, 2253, 2254, 2255, 2256, 2257, 2258, 2259, 2260, 2261, 2262, 2263, 2264, 2265, 2266, 2267, 2268, 2269, 2270, 2271, 2272, 2273, 2274, 2275, 2276, 2277, 2278, 2279, 2280, 2281, 2282, 2283, 2284, 2285, 2286, 2287, 2288, 2289, 2290, 2291, 2299, 2300, 2301, 2302, 2303, 2304, 2305, 2306, 2307, 2308, 2309, 2310, 2311, 2312, 2313, 2314, 2315, 2316, 2317, 2318, 2319, 2321, 2322, 2323, 2324, 2325, 2326, 2327, 2328, 2329, 2330, 2331, 2332, 2333, 2334, 2335, 2336, 2337, 2338, 2339, 2340, 2341, 2342, 2343, 2344, 2345, 2346, 2347, 2348, 2349, 2350, 2351, 2352, 2353, 2354, 2355, 2356, 2357, 2358, 2359, 2360, 2361, 2362, 2363, 2364, 2365, 2366, 2367, 2368, 2369, 2370, 2371, 2372, 2373, 2374, 2381, 2382, 2383, 2384, 2385, 2386, 2387, 2388, 2389, 2390, 2391, 2392, 2393, 2394, 2395, 2396, 2397, 2398, 2399, 2401, 2402, 2403, 2404, 2405, 2406, 2407, 2408, 2409, 2410, 2411, 2412, 2413, 2414, 2415, 2416, 2417, 2418, 2419, 2420, 2421, 2422, 2423, 2424, 2425, 2426, 2427, 2428, 2429, 2430, 2431, 2432, 2433, 2434, 2435, 2436, 2437, 2438, 2439, 2440, 2441, 2442, 2443, 2444, 2445, 2446, 2447, 2448, 2449, 2450, 2451, 2452, 2453, 2454, 2455, 2456, 2463, 2464, 2465, 2466, 2467, 2468, 2469, 2470, 2471, 2472, 2473, 2474, 2475, 2476, 2477, 2478, 2479, 2481, 2482, 2483, 2484, 2485, 2486, 2487, 2488, 2489, 2490, 2491, 2492, 2493, 2494, 2495, 2496, 2497, 2498, 2499, 2500, 2501, 2502, 2503, 2504, 2505, 2506, 2507, 2508, 2509, 2510, 2511, 2512, 2513, 2514, 2515, 2516, 2517, 2518, 2519, 2520, 2521, 2522, 2523, 2524, 2525, 2526, 2527, 2528, 2529, 2530, 2531, 2532, 2533, 2534, 2535, 2536, 2537, 2538, 2544, 2545, 2546, 2547, 2548, 2549, 2550, 2551, 2552, 2553, 2554, 2555, 2556, 2557, 2558, 2559, 2561, 2562, 2563, 2564, 2565, 2566, 2567, 2568, 2569, 2570, 2571, 2572, 2573, 2574, 2575, 2576, 2577, 2578, 2579, 2580, 2581, 2582, 2583, 2584, 2585, 2586, 2587, 2588, 2589, 2590, 2591, 2592, 2593, 2594, 2595, 2596, 2597, 2598, 2599, 2600, 2601, 2602, 2603, 2604, 2605, 2606, 2607, 2608, 2609, 2610, 2611, 2612, 2613, 2614, 2615, 2616, 2617, 2618, 2619, 2620, 2621, 2626, 2627, 2628, 2629, 2630, 2631, 2632, 2633, 2634, 2635, 2636, 2637, 2638, 2639, 2641, 2642, 2643, 2644, 2645, 2646, 2647, 2648, 2649, 2650, 2651, 2652, 2653, 2654, 2655, 2656, 2657, 2658, 2659, 2660, 2661, 2662, 2663, 2664, 2665, 2666, 2667, 2668, 2669, 2670, 2671, 2672, 2673, 2674, 2675, 2676, 2677, 2678, 2679, 2680, 2681, 2682, 2683, 2684, 2685, 2686, 2687, 2688, 2689, 2690, 2691, 2692, 2693, 2694, 2695, 2696, 2697, 2698, 2699, 2700, 2701, 2702, 2703, 2708, 2709, 2710, 2711, 2712, 2713, 2714, 2715, 2716, 2717, 2718, 2719, 2721, 2722, 2723, 2724, 2725, 2726, 2727, 2728, 2729, 2730, 2731, 2732, 2733, 2734, 2735, 2736, 2737, 2738, 2739, 2740, 2741, 2742, 2743, 2744, 2745, 2746, 2747, 2748, 2749, 2750, 2751, 2752, 2753, 2754, 2755, 2756, 2757, 2758, 2759, 2760, 2761, 2762, 2763, 2764, 2765, 2766, 2767, 2768, 2769, 2770, 2771, 2772, 2773, 2774, 2775, 2776, 2777, 2778, 2779, 2780, 2781, 2782, 2783, 2784, 2785, 2790, 2791, 2792, 2793, 2794, 2795, 2796, 2797, 2798, 2799, 2801, 2802, 2803, 2804, 2805, 2806, 2807, 2808, 2809, 2810, 2811, 2812, 2813, 2814, 2815, 2816, 2817, 2818, 2819, 2820, 2821, 2822, 2823, 2824, 2825, 2826, 2827, 2828, 2829, 2830, 2831, 2832, 2833, 2834, 2835, 2836, 2837, 2838, 2839, 2840, 2841, 2842, 2843, 2844, 2845, 2846, 2847, 2848, 2849, 2850, 2851, 2852, 2853, 2854, 2855, 2856, 2857, 2858, 2859, 2860, 2861, 2862, 2863, 2864, 2865, 2866, 2867, 2868, 2872, 2873, 2874, 2875, 2876, 2877, 2878, 2879, 2881, 2882, 2883, 2884, 2885, 2886, 2887, 2888, 2889, 2890, 2891, 2892, 2893, 2894, 2895, 2896, 2897, 2898, 2899, 2900, 2901, 2902, 2903, 2904, 2905, 2906, 2907, 2908, 2909, 2910, 2911, 2912, 2913, 2914, 2915, 2916, 2917, 2918, 2919, 2920, 2921, 2922, 2923, 2924, 2925, 2926, 2927, 2928, 2929, 2930, 2931, 2932, 2933, 2934, 2935, 2936, 2937, 2938, 2939, 2940, 2941, 2942, 2943, 2944, 2945, 2946, 2947, 2948, 2949, 2950, 2953, 2954, 2955, 2956, 2957, 2958, 2959, 2961, 2962, 2963, 2964, 2965, 2966, 2967, 2968, 2969, 2970, 2971, 2972, 2973, 2974, 2975, 2976, 2977, 2978, 2979, 2980, 2981, 2982, 2983, 2984, 2985, 2986, 2987, 2988, 2989, 2990, 2991, 2992, 2993, 2994, 2995, 2996, 2997, 2998, 2999, 3000, 3001, 3002, 3003, 3004, 3005, 3006, 3007, 3008, 3009, 3010, 3011, 3012, 3013, 3014, 3015, 3016, 3017, 3018, 3019, 3020, 3021, 3022, 3023, 3024, 3025, 3026, 3027, 3028, 3029, 3030, 3031, 3032, 3035, 3036, 3037, 3038, 3039, 3041, 3042, 3043, 3044, 3045, 3046, 3047, 3048, 3049, 3050, 3051, 3052, 3053, 3054, 3055, 3056, 3057, 3058, 3059, 3060, 3061, 3062, 3063, 3064, 3065, 3066, 3067, 3068, 3069, 3070, 3071, 3072, 3073, 3074, 3075, 3076, 3077, 3078, 3079, 3080, 3081, 3082, 3083, 3084, 3085, 3086, 3087, 3088, 3089, 3090, 3091, 3092, 3093, 3094, 3095, 3096, 3097, 3098, 3099, 3100, 3101, 3102, 3103, 3104, 3105, 3106, 3107, 3108, 3109, 3110, 3111, 3112, 3113, 3114, 3115, 3117, 3118, 3119, 3121, 3122, 3123, 3124, 3125, 3126, 3127, 3128, 3129, 3130, 3131, 3132, 3133, 3134, 3135, 3136, 3137, 3138, 3139, 3140, 3141, 3142, 3143, 3144, 3145, 3146, 3147, 3148, 3149, 3150, 3151, 3152, 3153, 3154, 3155, 3156, 3157, 3158, 3159, 3160, 3161, 3162, 3163, 3164, 3165, 3166, 3167, 3168, 3169, 3170, 3171, 3172, 3173, 3174, 3175, 3176, 3177, 3178, 3179, 3180, 3181, 3182, 3183, 3184, 3185, 3186, 3187, 3188, 3189, 3190, 3191, 3192, 3193, 3194, 3195, 3196, 3197, 3199, 3201, 3202, 3203, 3204, 3205, 3206, 3207, 3208, 3209, 3210, 3211, 3212, 3213, 3214, 3215, 3216, 3217, 3218, 3219, 3220, 3221, 3222, 3223, 3224, 3225, 3226, 3227, 3228, 3229, 3230, 3231, 3232, 3233, 3234, 3235, 3236, 3237, 3238, 3239, 3240, 3241, 3242, 3243, 3244, 3245, 3246, 3247, 3248, 3249, 3250, 3251, 3252, 3253, 3254, 3255, 3256, 3257, 3258, 3259, 3260, 3261, 3262, 3263, 3264, 3265, 3266, 3267, 3268, 3269, 3270, 3271, 3272, 3273, 3274, 3275, 3276, 3277, 3278, 3279, 3281, 3282, 3283, 3284, 3285, 3286, 3287, 3288, 3289, 3290, 3291, 3292, 3293, 3294, 3295, 3296, 3297, 3298, 3299, 3300, 3301, 3302, 3303, 3304, 3305, 3306, 3307, 3308, 3309, 3310, 3311, 3312, 3313, 3314, 3315, 3316, 3317, 3318, 3319, 3320, 3321, 3322, 3323, 3324, 3325, 3326, 3327, 3328, 3329, 3330, 3331, 3332, 3333, 3334, 3335, 3336, 3337, 3338, 3339, 3340, 3341, 3342, 3343, 3344, 3345, 3346, 3347, 3348, 3349, 3350, 3351, 3352, 3353, 3354, 3355, 3356, 3357, 3358, 3359, 3361, 3363, 3364, 3365, 3366, 3367, 3368, 3369, 3370, 3371, 3372, 3373, 3374, 3375, 3376, 3377, 3378, 3379, 3380, 3381, 3382, 3383, 3384, 3385, 3386, 3387, 3388, 3389, 3390, 3391, 3392, 3393, 3394, 3395, 3396, 3397, 3398, 3399, 3400, 3401, 3402, 3403, 3404, 3405, 3406, 3407, 3408, 3409, 3410, 3411, 3412, 3413, 3414, 3415, 3416, 3417, 3418, 3419, 3420, 3421, 3422, 3423, 3424, 3425, 3426, 3427, 3428, 3429, 3430, 3431, 3432, 3433, 3434, 3435, 3436, 3437, 3438, 3439, 3441, 3442, 3443, 3445, 3446, 3447, 3448, 3449, 3450, 3451, 3452, 3453, 3454, 3455, 3456, 3457, 3458, 3459, 3460, 3461, 3462, 3463, 3464, 3465, 3466, 3467, 3468, 3469, 3470, 3471, 3472, 3473, 3474, 3475, 3476, 3477, 3478, 3479, 3480, 3481, 3482, 3483, 3484, 3485, 3486, 3487, 3488, 3489, 3490, 3491, 3492, 3493, 3494, 3495, 3496, 3497, 3498, 3499, 3500, 3501, 3502, 3503, 3504, 3505, 3506, 3507, 3508, 3509, 3510, 3511, 3512, 3513, 3514, 3515, 3516, 3517, 3518, 3519, 3521, 3522, 3523, 3524, 3525, 3528, 3529, 3530, 3531, 3532, 3533, 3534, 3535, 3536, 3537, 3538, 3539, 3540, 3541, 3542, 3543, 3544, 3545, 3546, 3547, 3548, 3549, 3550, 3551, 3552, 3553, 3554, 3555, 3556, 3557, 3558, 3559, 3560, 3561, 3562, 3563, 3564, 3565, 3566, 3567, 3568, 3569, 3570, 3571, 3572, 3573, 3574, 3575, 3576, 3577, 3578, 3579, 3580, 3581, 3582, 3583, 3584, 3585, 3586, 3587, 3588, 3589, 3590, 3591, 3592, 3593, 3594, 3595, 3596, 3597, 3598, 3599, 3601, 3602, 3603, 3604, 3605, 3606, 3607, 3610, 3611, 3612, 3613, 3614, 3615, 3616, 3617, 3618, 3619, 3620, 3621, 3622, 3623, 3624, 3625, 3626, 3627, 3628, 3629, 3630, 3631, 3632, 3633, 3634, 3635, 3636, 3637, 3638, 3639, 3640, 3641, 3642, 3643, 3644, 3645, 3646, 3647, 3648, 3649, 3650, 3651, 3652, 3653, 3654, 3655, 3656, 3657, 3658, 3659, 3660, 3661, 3662, 3663, 3664, 3665, 3666, 3667, 3668, 3669, 3670, 3671, 3672, 3673, 3674, 3675, 3676, 3677, 3678, 3679, 3681, 3682, 3683, 3684, 3685, 3686, 3687, 3688, 3692, 3693, 3694, 3695, 3696, 3697, 3698, 3699, 3700, 3701, 3702, 3703, 3704, 3705, 3706, 3707, 3708, 3709, 3710, 3711, 3712, 3713, 3714, 3715, 3716, 3717, 3718, 3719, 3720, 3721, 3722, 3723, 3724, 3725, 3726, 3727, 3728, 3729, 3730, 3731, 3732, 3733, 3734, 3735, 3736, 3737, 3738, 3739, 3740, 3741, 3742, 3743, 3744, 3745, 3746, 3747, 3748, 3749, 3750, 3751, 3752, 3753, 3754, 3755, 3756, 3757, 3758, 3759, 3761, 3762, 3763, 3764, 3765, 3766, 3767, 3768, 3769, 3770, 3775, 3776, 3777, 3778, 3779, 3780, 3781, 3782, 3783, 3784, 3785, 3786, 3787, 3788, 3789, 3790, 3791, 3792, 3793, 3794, 3795, 3796, 3797, 3798, 3799, 3800, 3801, 3802, 3803, 3804, 3805, 3806, 3807, 3808, 3809, 3810, 3811, 3812, 3813, 3814, 3815, 3816, 3817, 3818, 3819, 3820, 3821, 3822, 3823, 3824, 3825, 3826, 3827, 3828, 3829, 3830, 3831, 3832, 3833, 3834, 3835, 3836, 3837, 3838, 3839, 3841, 3842, 3843, 3844, 3845, 3846, 3847, 3848, 3849, 3850, 3851, 3852, 3857, 3858, 3859, 3860, 3861, 3862, 3863, 3864, 3865, 3866, 3867, 3868, 3869, 3870, 3871, 3872, 3873, 3874, 3875, 3876, 3877, 3878, 3879, 3880, 3881, 3882, 3883, 3884, 3885, 3886, 3887, 3888, 3889, 3890, 3891, 3892, 3893, 3894, 3895, 3896, 3897, 3898, 3899, 3900, 3901, 3902, 3903, 3904, 3905, 3906, 3907, 3908, 3909, 3910, 3911, 3912, 3913, 3914, 3915, 3916, 3917, 3918, 3919, 3921, 3922, 3923, 3924, 3925, 3926, 3927, 3928, 3929, 3930, 3931, 3932, 3933, 3934, 3939, 3940, 3941, 3942, 3943, 3944, 3945, 3946, 3947, 3948, 3949, 3950, 3951, 3952, 3953, 3954, 3955, 3956, 3957, 3958, 3959, 3960, 3961, 3962, 3963, 3964, 3965, 3966, 3967, 3968, 3969, 3970, 3971, 3972, 3973, 3974, 3975, 3976, 3977, 3978, 3979, 3980, 3981, 3982, 3983, 3984, 3985, 3986, 3987, 3988, 3989, 3990, 3991, 3992, 3993, 3994, 3995, 3996, 3997, 3998, 3999, 4001, 4002, 4003, 4004, 4005, 4006, 4007, 4008, 4009, 4010, 4011, 4012, 4013, 4014, 4015, 4016, 4022, 4023, 4024, 4025, 4026, 4027, 4028, 4029, 4030, 4031, 4032, 4033, 4034, 4035, 4036, 4037, 4038, 4039, 4040, 4041, 4042, 4043, 4044, 4045, 4046, 4047, 4048, 4049, 4050, 4051, 4052, 4053, 4054, 4055, 4056, 4057, 4058, 4059, 4060, 4061, 4062, 4063, 4064, 4065, 4066, 4067, 4068, 4069, 4070, 4071, 4072, 4073, 4074, 4075, 4076, 4077, 4078, 4079, 4081, 4082, 4083, 4084, 4085, 4086, 4087, 4088, 4089, 4090, 4091, 4092, 4093, 4094, 4095, 4096, 4097, 4104, 4105, 4106, 4107, 4108, 4109, 4110, 4111, 4112, 4113, 4114, 4115, 4116, 4117, 4118, 4119, 4120, 4121, 4122, 4123, 4124, 4125, 4126, 4127, 4128, 4129, 4130, 4131, 4132, 4133, 4134, 4135, 4136, 4137, 4138, 4139, 4140, 4141, 4142, 4143, 4144, 4145, 4146, 4147, 4148, 4149, 4150, 4151, 4152, 4153, 4154, 4155, 4156, 4157, 4158, 4159, 4161, 4162, 4163, 4164, 4165, 4166, 4167, 4168, 4169, 4170, 4171, 4172, 4173, 4174, 4175, 4176, 4177, 4178, 4179, 4186, 4187, 4188, 4189, 4190, 4191, 4192, 4193, 4194, 4195, 4196, 4197, 4198, 4199, 4200, 4201, 4202, 4203, 4204, 4205, 4206, 4207, 4208, 4209, 4210, 4211, 4212, 4213, 4214, 4215, 4216, 4217, 4218, 4219, 4220, 4221, 4222, 4223, 4224, 4225, 4226, 4227, 4228, 4229, 4230, 4231, 4232, 4233, 4234, 4235, 4236, 4237, 4238, 4239, 4241, 4242, 4243, 4244, 4245, 4246, 4247, 4248, 4249, 4250, 4251, 4252, 4253, 4254, 4255, 4256, 4257, 4258, 4259, 4260, 4261, 4269, 4270, 4271, 4272, 4273, 4274, 4275, 4276, 4277, 4278, 4279, 4280, 4281, 4282, 4283, 4284, 4285, 4286, 4287, 4288, 4289, 4290, 4291, 4292, 4293, 4294, 4295, 4296, 4297, 4298, 4299, 4300, 4301, 4302, 4303, 4304, 4305, 4306, 4307, 4308, 4309, 4310, 4311, 4312, 4313, 4314, 4315, 4316, 4317, 4318, 4319, 4321, 4322, 4323, 4324, 4325, 4326, 4327, 4328, 4329, 4330, 4331, 4332, 4333, 4334, 4335, 4336, 4337, 4338, 4339, 4340, 4341, 4342, 4343, 4351, 4352, 4353, 4354, 4355, 4356, 4357, 4358, 4359, 4360, 4361, 4362, 4363, 4364, 4365, 4366, 4367, 4368, 4369, 4370, 4371, 4372, 4373, 4374, 4375, 4376, 4377, 4378, 4379, 4380, 4381, 4382, 4383, 4384, 4385, 4386, 4387, 4388, 4389, 4390, 4391, 4392, 4393, 4394, 4395, 4396, 4397, 4398, 4399, 4401, 4402, 4403, 4404, 4405, 4406, 4407, 4408, 4409, 4410, 4411, 4412, 4413, 4414, 4415, 4416, 4417, 4418, 4419, 4420, 4421, 4422, 4423, 4424, 4425, 4434, 4435, 4436, 4437, 4438, 4439, 4440, 4441, 4442, 4443, 4444, 4445, 4446, 4447, 4448, 4449, 4450, 4451, 4452, 4453, 4454, 4455, 4456, 4457, 4458, 4459, 4460, 4461, 4462, 4463, 4464, 4465, 4466, 4467, 4468, 4469, 4470, 4471, 4472, 4473, 4474, 4475, 4476, 4477, 4478, 4482, 4483, 4484, 4485, 4486, 4487, 4488, 4489, 4490, 4491, 4492, 4493, 4494, 4495, 4496, 4497, 4498, 4499, 4500, 4501, 4502, 4503, 4504, 4505, 4506, 4516, 4517, 4518, 4519, 4520, 4521, 4522, 4523, 4524, 4525, 4526, 4527, 4528, 4529, 4530, 4531, 4532, 4533, 4534, 4535, 4536, 4537, 4538, 4539, 4540, 4541, 4542, 4543, 4544, 4545, 4546, 4547, 4548, 4549, 4550, 4551, 4552, 4553, 4554, 4555, 4556, 4557, 4558, 4562, 4563, 4564, 4565, 4566, 4567, 4568, 4569, 4570, 4571, 4572, 4573, 4574, 4575, 4576, 4577, 4578, 4579, 4580, 4581, 4582, 4583, 4584, 4585, 4586, 4587, 4588, 4598, 4599, 4600, 4601, 4602, 4603, 4604, 4605, 4606, 4607, 4608, 4609, 4610, 4611, 4612, 4613, 4614, 4615, 4616, 4617, 4618, 4619, 4620, 4621, 4622, 4623, 4624, 4625, 4626, 4627, 4628, 4629, 4630, 4631, 4632, 4633, 4634, 4635, 4636, 4637, 4638, 4642, 4643, 4644, 4645, 4646, 4647, 4648, 4649, 4650, 4651, 4652, 4653, 4654, 4655, 4656, 4657, 4658, 4659, 4660, 4661, 4662, 4663, 4664, 4665, 4666, 4667, 4668, 4669, 4670, 4681, 4682, 4683, 4684, 4685, 4686, 4687, 4688, 4689, 4690, 4691, 4692, 4693, 4694, 4695, 4696, 4697, 4698, 4699, 4700, 4701, 4702, 4703, 4704, 4705, 4706, 4707, 4708, 4709, 4710, 4711, 4712, 4713, 4714, 4715, 4716, 4717, 4718, 4722, 4723, 4724, 4725, 4726, 4727, 4728, 4729, 4730, 4731, 4732, 4733, 4734, 4735, 4736, 4737, 4738, 4739, 4740, 4741, 4742, 4743, 4744, 4745, 4746, 4747, 4748, 4749, 4750, 4751, 4752, 4763, 4764, 4765, 4766, 4767, 4768, 4769, 4770, 4771, 4772, 4773, 4774, 4775, 4776, 4777, 4778, 4779, 4780, 4781, 4782, 4783, 4784, 4785, 4786, 4787, 4788, 4789, 4790, 4791, 4792, 4793, 4794, 4795, 4796, 4797, 4798, 4802, 4803, 4804, 4805, 4806, 4807, 4808, 4809, 4810, 4811, 4812, 4813, 4814, 4815, 4816, 4817, 4818, 4819, 4820, 4821, 4822, 4823, 4824, 4825, 4826, 4827, 4828, 4829, 4830, 4831, 4832, 4833, 4834, 4845, 4846, 4847, 4848, 4849, 4850, 4851, 4852, 4853, 4854, 4855, 4856, 4857, 4858, 4859, 4860, 4861, 4862, 4863, 4864, 4865, 4866, 4867, 4868, 4869, 4870, 4871, 4872, 4873, 4874, 4875, 4876, 4877, 4878, 4882, 4883, 4884, 4885, 4886, 4887, 4888, 4889, 4890, 4891, 4892, 4893, 4894, 4895, 4896, 4897, 4898, 4899, 4900, 4901, 4902, 4903, 4904, 4905, 4906, 4907, 4908, 4909, 4910, 4911, 4912, 4913, 4914, 4915, 4928, 4929, 4930, 4931, 4932, 4933, 4934, 4935, 4936, 4937, 4938, 4939, 4940, 4941, 4942, 4943, 4944, 4945, 4946, 4947, 4948, 4949, 4950, 4951, 4952, 4953, 4954, 4955, 4956, 4957, 4958, 4962, 4963, 4964, 4965, 4966, 4967, 4968, 4969, 4970, 4971, 4972, 4973, 4974, 4975, 4976, 4977, 4978, 4979, 4980, 4981, 4982, 4983, 4984, 4985, 4986, 4987, 4988, 4989, 4990, 4991, 4992, 4993, 4994, 4995, 4996, 4997, 5010, 5011, 5012, 5013, 5014, 5015, 5016, 5017, 5018, 5019, 5020, 5021, 5022, 5023, 5024, 5025, 5026, 5027, 5028, 5029, 5030, 5031, 5032, 5033, 5034, 5035, 5036, 5037, 5038, 5042, 5043, 5044, 5045, 5046, 5047, 5048, 5049, 5050, 5051, 5052, 5053, 5054, 5055, 5056, 5057, 5058, 5059, 5060, 5061, 5062, 5063, 5064, 5065, 5066, 5067, 5068, 5069, 5070, 5071, 5072, 5073, 5074, 5075, 5076, 5077, 5078, 5079, 5092, 5093, 5094, 5095, 5096, 5097, 5098, 5099, 5100, 5101, 5102, 5103, 5104, 5105, 5106, 5107, 5108, 5109, 5110, 5111, 5112, 5113, 5114, 5115, 5116, 5117, 5118, 5122, 5123, 5124, 5125, 5126, 5127, 5128, 5129, 5130, 5131, 5132, 5133, 5134, 5135, 5136, 5137, 5138, 5139, 5140, 5141, 5142, 5143, 5144, 5145, 5146, 5147, 5148, 5149, 5150, 5151, 5152, 5153, 5154, 5155, 5156, 5157, 5158, 5159, 5160, 5161, 5175, 5176, 5177, 5178, 5179, 5180, 5181, 5182, 5183, 5184, 5185, 5186, 5187, 5188, 5189, 5190, 5191, 5192, 5193, 5194, 5195, 5196, 5197, 5198, 5202, 5203, 5204, 5205, 5206, 5207, 5208, 5209, 5210, 5211, 5212, 5213, 5214, 5215, 5216, 5217, 5218, 5219, 5220, 5221, 5222, 5223, 5224, 5225, 5226, 5227, 5228, 5229, 5230, 5231, 5232, 5233, 5234, 5235, 5236, 5237, 5238, 5239, 5240, 5241, 5242, 5243, 5257, 5258, 5259, 5260, 5261, 5262, 5263, 5264, 5265, 5266, 5267, 5268, 5269, 5270, 5271, 5272, 5273, 5274, 5275, 5276, 5277, 5278, 5282, 5283, 5284, 5285, 5286, 5287, 5288, 5289, 5290, 5291, 5292, 5293, 5294, 5295, 5296, 5297, 5298, 5299, 5300, 5301, 5302, 5303, 5304, 5305, 5306, 5307, 5308, 5309, 5310, 5311, 5312, 5313, 5314, 5315, 5316, 5317, 5318, 5319, 5320, 5321, 5322, 5323, 5324, 5340, 5341, 5342, 5343, 5344, 5345, 5346, 5347, 5348, 5349, 5350, 5351, 5352, 5353, 5354, 5355, 5356, 5357, 5358, 5362, 5363, 5364, 5365, 5366, 5367, 5368, 5369, 5370, 5371, 5372, 5373, 5374, 5375, 5376, 5377, 5378, 5379, 5380, 5381, 5382, 5383, 5384, 5385, 5386, 5387, 5388, 5389, 5390, 5391, 5392, 5393, 5394, 5395, 5396, 5397, 5398, 5399, 5400, 5401, 5402, 5403, 5404, 5405, 5406, 5422, 5423, 5424, 5425, 5426, 5427, 5428, 5429, 5430, 5431, 5432, 5433, 5434, 5435, 5436, 5437, 5438, 5442, 5443, 5444, 5445, 5446, 5447, 5448, 5449, 5450, 5451, 5452, 5453, 5454, 5455, 5456, 5457, 5458, 5459, 5460, 5461, 5462, 5463, 5464, 5465, 5466, 5467, 5468, 5469, 5470, 5471, 5472, 5473, 5474, 5475, 5476, 5477, 5478, 5479, 5480, 5481, 5482, 5483, 5484, 5485, 5486, 5487, 5488, 5504, 5505, 5506, 5507, 5508, 5509, 5510, 5511, 5512, 5513, 5514, 5515, 5516, 5517, 5518, 5522, 5523, 5524, 5525, 5526, 5527, 5528, 5529, 5530, 5531, 5532, 5533, 5534, 5535, 5536, 5537, 5538, 5539, 5540, 5541, 5542, 5543, 5544, 5545, 5546, 5547, 5548, 5549, 5550, 5551, 5552, 5553, 5554, 5555, 5556, 5557, 5558, 5559, 5560, 5561, 5562, 5563, 5564, 5565, 5566, 5567, 5568, 5569, 5570, 5587, 5588, 5589, 5590, 5591, 5592, 5593, 5594, 5595, 5596, 5597, 5603, 5604, 5605, 5606, 5607, 5608, 5609, 5610, 5611, 5612, 5613, 5614, 5615, 5616, 5617, 5618, 5619, 5620, 5621, 5622, 5623, 5624, 5625, 5626, 5627, 5628, 5629, 5630, 5631, 5632, 5633, 5634, 5635, 5636, 5637, 5638, 5639, 5640, 5641, 5642, 5643, 5644, 5645, 5646, 5647, 5648, 5649, 5650, 5651, 5669, 5670, 5671, 5672, 5673, 5674, 5675, 5676, 5677, 5683, 5684, 5685, 5686, 5687, 5688, 5689, 5690, 5691, 5692, 5693, 5694, 5695, 5696, 5697, 5698, 5699, 5700, 5701, 5702, 5703, 5704, 5705, 5706, 5707, 5708, 5709, 5710, 5711, 5712, 5713, 5714, 5715, 5716, 5717, 5718, 5719, 5720, 5721, 5722, 5723, 5724, 5725, 5726, 5727, 5728, 5729, 5730, 5731, 5732, 5733, 5751, 5752, 5753, 5754, 5755, 5756, 5757, 5763, 5764, 5765, 5766, 5767, 5768, 5769, 5770, 5771, 5772, 5773, 5774, 5775, 5776, 5777, 5778, 5779, 5780, 5781, 5782, 5783, 5784, 5785, 5786, 5787, 5788, 5789, 5790, 5791, 5792, 5793, 5794, 5795, 5796, 5797, 5798, 5799, 5800, 5801, 5802, 5803, 5804, 5805, 5806, 5807, 5808, 5809, 5810, 5811, 5812, 5813, 5814, 5815, 5832, 5833, 5834, 5835, 5836, 5837, 5843, 5844, 5845, 5846, 5847, 5848, 5849, 5850, 5851, 5852, 5853, 5854, 5855, 5856, 5857, 5858, 5859, 5860, 5861, 5862, 5863, 5864, 5865, 5866, 5867, 5868, 5869, 5870, 5871, 5872, 5873, 5874, 5875, 5876, 5877, 5878, 5879, 5880, 5881, 5882, 5883, 5884, 5885, 5886, 5887, 5888, 5889, 5890, 5891, 5892, 5893, 5894, 5895, 5896, 5897, 5913, 5914, 5915, 5916, 5917, 5923, 5924, 5925, 5926, 5927, 5928, 5929, 5930, 5931, 5932, 5933, 5934, 5935, 5936, 5937, 5938, 5939, 5940, 5941, 5942, 5943, 5944, 5945, 5946, 5947, 5948, 5949, 5950, 5951, 5952, 5953, 5954, 5955, 5956, 5957, 5958, 5959, 5960, 5961, 5962, 5963, 5964, 5965, 5966, 5967, 5968, 5969, 5970, 5971, 5972, 5973, 5974, 5975, 5976, 5977, 5978, 5979, 5994, 5995, 5996, 5997, 6003, 6004, 6005, 6006, 6007, 6008, 6009, 6010, 6011, 6012, 6013, 6014, 6015, 6016, 6017, 6018, 6019, 6020, 6021, 6022, 6023, 6024, 6025, 6026, 6027, 6028, 6029, 6030, 6031, 6032, 6033, 6034, 6035, 6036, 6037, 6038, 6039, 6040, 6041, 6042, 6043, 6044, 6045, 6046, 6047, 6048, 6049, 6050, 6051, 6052, 6053, 6054, 6055, 6056, 6057, 6058, 6059, 6060, 6075, 6076, 6077, 6083, 6084, 6085, 6086, 6087, 6088, 6089, 6090, 6091, 6092, 6093, 6094, 6095, 6096, 6097, 6098, 6099, 6100, 6101, 6102, 6103, 6104, 6105, 6106, 6107, 6108, 6109, 6110, 6111, 6112, 6113, 6114, 6115, 6116, 6117, 6118, 6119, 6120, 6121, 6122, 6123, 6124, 6125, 6126, 6127, 6128, 6129, 6130, 6131, 6132, 6133, 6134, 6135, 6136, 6137, 6138, 6139, 6140, 6141, 6142, 6156, 6157, 6163, 6164, 6165, 6166, 6167, 6168, 6169, 6170, 6171, 6172, 6173, 6174, 6175, 6176, 6177, 6178, 6179, 6180, 6181, 6182, 6183, 6184, 6185, 6186, 6187, 6188, 6189, 6190, 6191, 6192, 6193, 6194, 6195, 6196, 6197, 6198, 6199, 6200, 6201, 6202, 6203, 6204, 6205, 6206, 6207, 6208, 6209, 6210, 6211, 6212, 6213, 6214, 6215, 6216, 6217, 6218, 6219, 6220, 6221, 6222, 6223, 6224, 6237, 6243, 6244, 6245, 6246, 6247, 6248, 6249, 6250, 6251, 6252, 6253, 6254, 6255, 6256, 6257, 6258, 6259, 6260, 6261, 6262, 6263, 6264, 6265, 6266, 6267, 6268, 6269, 6270, 6271, 6272, 6273, 6274, 6275, 6276, 6277, 6278, 6279, 6280, 6281, 6282, 6283, 6284, 6285, 6286, 6287, 6288, 6289, 6290, 6291, 6292, 6293, 6294, 6295, 6296, 6297, 6298, 6299, 6300, 6301, 6302, 6303, 6304, 6305, 6306, 6323, 6324, 6325, 6326, 6327, 6328, 6329, 6330, 6331, 6332, 6333, 6334, 6335, 6336, 6337, 6338, 6339, 6340, 6341, 6342, 6343, 6344, 6345, 6346, 6347, 6348, 6349, 6350, 6351, 6352, 6353, 6354, 6355, 6356, 6357, 6358, 6359, 6360, 6361, 6362, 6363, 6364, 6365, 6366, 6367, 6368, 6369, 6370, 6371, 6372, 6373, 6374, 6375, 6376, 6377, 6378, 6379, 6380, 6381, 6382, 6383, 6384, 6385, 6386, 6387, 6388, 6403, 6404, 6405, 6406, 6407, 6408, 6409, 6410, 6411, 6412, 6413, 6414, 6415, 6416, 6417, 6418, 6419, 6420, 6421, 6422, 6423, 6424, 6425, 6426, 6427, 6428, 6429, 6430, 6431, 6432, 6433, 6434, 6435, 6436, 6437, 6438, 6439, 6440, 6441, 6442, 6443, 6444, 6445, 6446, 6447, 6448, 6449, 6450, 6451, 6452, 6453, 6454, 6455, 6456, 6457, 6458, 6459, 6460, 6461, 6462, 6463, 6464, 6465, 6466, 6467, 6468, 6469, 6483, 6484, 6485, 6486, 6487, 6488, 6489, 6490, 6491, 6492, 6493, 6494, 6495, 6496, 6497, 6498, 6499, 6500, 6501, 6502, 6503, 6504, 6505, 6506, 6507, 6508, 6509, 6510, 6511, 6512, 6513, 6514, 6515, 6516, 6517, 6518, 6519, 6520, 6521, 6522, 6523, 6524, 6525, 6526, 6527, 6528, 6529, 6530, 6531, 6532, 6533, 6534, 6535, 6536, 6537, 6538, 6539, 6540, 6541, 6542, 6543, 6544, 6545, 6546, 6547, 6548, 6549, 6550, 6551]\n",
      "val ids:  []\n",
      "test ids:  [0, 1, 2, 3, 4, 5, 6, 7, 8, 78, 79, 80, 81, 82, 83, 84, 85, 86, 87, 88, 89, 90, 158, 159, 160, 161, 162, 163, 164, 165, 166, 167, 168, 169, 170, 171, 238, 239, 240, 241, 242, 243, 244, 245, 246, 247, 248, 249, 250, 251, 252, 253, 318, 319, 320, 321, 322, 324, 325, 326, 327, 328, 329, 330, 331, 332, 333, 334, 335, 398, 399, 400, 401, 402, 405, 406, 407, 408, 409, 410, 411, 412, 413, 414, 415, 416, 417, 478, 479, 480, 481, 482, 486, 487, 488, 489, 490, 491, 492, 493, 494, 495, 496, 497, 498, 499, 558, 559, 560, 561, 562, 567, 568, 569, 570, 571, 572, 573, 574, 575, 576, 577, 578, 579, 580, 638, 639, 640, 641, 642, 648, 649, 650, 651, 652, 653, 654, 655, 656, 657, 658, 659, 660, 661, 662, 718, 719, 720, 721, 722, 729, 730, 731, 732, 733, 734, 735, 736, 737, 738, 739, 740, 741, 742, 743, 744, 798, 799, 800, 801, 802, 810, 811, 812, 813, 814, 815, 816, 817, 818, 819, 820, 821, 822, 823, 824, 825, 826, 878, 879, 880, 881, 882, 892, 893, 894, 895, 896, 897, 898, 899, 900, 901, 902, 903, 904, 905, 906, 907, 908, 958, 959, 960, 961, 962, 974, 975, 976, 977, 978, 979, 980, 981, 982, 983, 984, 985, 986, 987, 988, 989, 1039, 1040, 1041, 1057, 1058, 1059, 1060, 1061, 1062, 1063, 1064, 1065, 1066, 1067, 1068, 1069, 1070, 1071, 1119, 1120, 1121, 1139, 1140, 1141, 1142, 1143, 1144, 1145, 1146, 1147, 1148, 1149, 1150, 1151, 1152, 1153, 1199, 1200, 1201, 1221, 1222, 1223, 1224, 1225, 1226, 1227, 1228, 1229, 1230, 1231, 1232, 1233, 1234, 1235, 1279, 1280, 1281, 1304, 1305, 1306, 1307, 1308, 1309, 1310, 1311, 1312, 1313, 1314, 1315, 1316, 1359, 1360, 1361, 1386, 1387, 1388, 1389, 1390, 1391, 1392, 1393, 1394, 1395, 1396, 1397, 1398, 1439, 1440, 1441, 1469, 1470, 1471, 1472, 1473, 1474, 1475, 1476, 1477, 1478, 1479, 1480, 1519, 1520, 1521, 1551, 1552, 1553, 1554, 1555, 1556, 1557, 1558, 1559, 1560, 1561, 1562, 1599, 1600, 1601, 1633, 1634, 1635, 1636, 1637, 1638, 1639, 1640, 1641, 1642, 1643, 1644, 1679, 1680, 1681, 1716, 1717, 1718, 1719, 1720, 1721, 1722, 1723, 1724, 1725, 1759, 1760, 1761, 1798, 1799, 1800, 1801, 1802, 1803, 1804, 1805, 1806, 1807, 1839, 1840, 1841, 1880, 1881, 1882, 1883, 1884, 1885, 1886, 1887, 1888, 1889, 1919, 1920, 1921, 1963, 1964, 1965, 1966, 1967, 1968, 1969, 1970, 1971, 1999, 2000, 2001, 2045, 2046, 2047, 2048, 2049, 2050, 2051, 2052, 2053, 2079, 2080, 2081, 2127, 2128, 2129, 2130, 2131, 2132, 2133, 2134, 2160, 2210, 2211, 2212, 2213, 2214, 2215, 2216, 2240, 2292, 2293, 2294, 2295, 2296, 2297, 2298, 2320, 2375, 2376, 2377, 2378, 2379, 2380, 2400, 2457, 2458, 2459, 2460, 2461, 2462, 2480, 2539, 2540, 2541, 2542, 2543, 2560, 2622, 2623, 2624, 2625, 2640, 2704, 2705, 2706, 2707, 2720, 2786, 2787, 2788, 2789, 2800, 2869, 2870, 2871, 2880, 2951, 2952, 2960, 3033, 3034, 3040, 3116, 3120, 3198, 3200, 3280, 3360, 3362, 3440, 3444, 3520, 3526, 3527, 3600, 3608, 3609, 3680, 3689, 3690, 3691, 3760, 3771, 3772, 3773, 3774, 3840, 3853, 3854, 3855, 3856, 3920, 3935, 3936, 3937, 3938, 4000, 4017, 4018, 4019, 4020, 4021, 4080, 4098, 4099, 4100, 4101, 4102, 4103, 4160, 4180, 4181, 4182, 4183, 4184, 4185, 4240, 4262, 4263, 4264, 4265, 4266, 4267, 4268, 4320, 4344, 4345, 4346, 4347, 4348, 4349, 4350, 4400, 4426, 4427, 4428, 4429, 4430, 4431, 4432, 4433, 4479, 4480, 4481, 4507, 4508, 4509, 4510, 4511, 4512, 4513, 4514, 4515, 4559, 4560, 4561, 4589, 4590, 4591, 4592, 4593, 4594, 4595, 4596, 4597, 4639, 4640, 4641, 4671, 4672, 4673, 4674, 4675, 4676, 4677, 4678, 4679, 4680, 4719, 4720, 4721, 4753, 4754, 4755, 4756, 4757, 4758, 4759, 4760, 4761, 4762, 4799, 4800, 4801, 4835, 4836, 4837, 4838, 4839, 4840, 4841, 4842, 4843, 4844, 4879, 4880, 4881, 4916, 4917, 4918, 4919, 4920, 4921, 4922, 4923, 4924, 4925, 4926, 4927, 4959, 4960, 4961, 4998, 4999, 5000, 5001, 5002, 5003, 5004, 5005, 5006, 5007, 5008, 5009, 5039, 5040, 5041, 5080, 5081, 5082, 5083, 5084, 5085, 5086, 5087, 5088, 5089, 5090, 5091, 5119, 5120, 5121, 5162, 5163, 5164, 5165, 5166, 5167, 5168, 5169, 5170, 5171, 5172, 5173, 5174, 5199, 5200, 5201, 5244, 5245, 5246, 5247, 5248, 5249, 5250, 5251, 5252, 5253, 5254, 5255, 5256, 5279, 5280, 5281, 5325, 5326, 5327, 5328, 5329, 5330, 5331, 5332, 5333, 5334, 5335, 5336, 5337, 5338, 5339, 5359, 5360, 5361, 5407, 5408, 5409, 5410, 5411, 5412, 5413, 5414, 5415, 5416, 5417, 5418, 5419, 5420, 5421, 5439, 5440, 5441, 5489, 5490, 5491, 5492, 5493, 5494, 5495, 5496, 5497, 5498, 5499, 5500, 5501, 5502, 5503, 5519, 5520, 5521, 5571, 5572, 5573, 5574, 5575, 5576, 5577, 5578, 5579, 5580, 5581, 5582, 5583, 5584, 5585, 5586, 5598, 5599, 5600, 5601, 5602, 5652, 5653, 5654, 5655, 5656, 5657, 5658, 5659, 5660, 5661, 5662, 5663, 5664, 5665, 5666, 5667, 5668, 5678, 5679, 5680, 5681, 5682, 5734, 5735, 5736, 5737, 5738, 5739, 5740, 5741, 5742, 5743, 5744, 5745, 5746, 5747, 5748, 5749, 5750, 5758, 5759, 5760, 5761, 5762, 5816, 5817, 5818, 5819, 5820, 5821, 5822, 5823, 5824, 5825, 5826, 5827, 5828, 5829, 5830, 5831, 5838, 5839, 5840, 5841, 5842, 5898, 5899, 5900, 5901, 5902, 5903, 5904, 5905, 5906, 5907, 5908, 5909, 5910, 5911, 5912, 5918, 5919, 5920, 5921, 5922, 5980, 5981, 5982, 5983, 5984, 5985, 5986, 5987, 5988, 5989, 5990, 5991, 5992, 5993, 5998, 5999, 6000, 6001, 6002, 6061, 6062, 6063, 6064, 6065, 6066, 6067, 6068, 6069, 6070, 6071, 6072, 6073, 6074, 6078, 6079, 6080, 6081, 6082, 6143, 6144, 6145, 6146, 6147, 6148, 6149, 6150, 6151, 6152, 6153, 6154, 6155, 6158, 6159, 6160, 6161, 6162, 6225, 6226, 6227, 6228, 6229, 6230, 6231, 6232, 6233, 6234, 6235, 6236, 6238, 6239, 6240, 6241, 6242, 6307, 6308, 6309, 6310, 6311, 6312, 6313, 6314, 6315, 6316, 6317, 6318, 6319, 6320, 6321, 6322, 6389, 6390, 6391, 6392, 6393, 6394, 6395, 6396, 6397, 6398, 6399, 6400, 6401, 6402, 6470, 6471, 6472, 6473, 6474, 6475, 6476, 6477, 6478, 6479, 6480, 6481, 6482, 6552, 6553, 6554, 6555, 6556, 6557, 6558, 6559, 6560]\n",
      "CPU times: user 157 ms, sys: 32.1 ms, total: 190 ms\n",
      "Wall time: 189 ms\n"
     ]
    }
   ],
   "source": [
    "%%time\n",
    "n_total = len(simulation.dataframe)\n",
    "n_train = len(simulation.dataframe[simulation.dataframe.type_of == \"train\"])\n",
    "n_val = len(simulation.dataframe[simulation.dataframe.type_of == \"val\"])\n",
    "n_test = len(simulation.dataframe[simulation.dataframe.type_of == \"test\"])\n",
    "n_train_hamiltonians = len(simulation.train_ids)\n",
    "n_val_hamiltonians = len(simulation.val_ids)\n",
    "n_test_hamiltonians = len(simulation.test_ids)\n",
    "n_total_hamiltonians = n_train_hamiltonians + n_val_hamiltonians + n_test_hamiltonians\n",
    "\n",
    "print(\"% train: \", n_train/n_total)\n",
    "print(\"% val: \",  n_val/n_total)\n",
    "print(\"% test: \", n_test/n_total)\n",
    "print(\"% train + val + test: \", (n_train+n_val+n_test)/n_total)\n",
    "print(\"\\n\")\n",
    "print(\"number of train hamiltonians: \", n_train_hamiltonians)\n",
    "print(\"number of val hamiltonians: \", n_val_hamiltonians)\n",
    "print(\"number of test hamiltonians: \", n_test_hamiltonians)\n",
    "print(\"total number of hamiltonians: \", n_total_hamiltonians)\n",
    "print(\"\\n\")\n",
    "print(\"train ids: \", simulation.train_ids)\n",
    "print(\"val ids: \", simulation.val_ids)\n",
    "print(\"test ids: \", simulation.test_ids)"
   ]
  },
  {
   "cell_type": "markdown",
   "metadata": {
    "papermill": {
     "duration": 0.021691,
     "end_time": "2020-07-16T02:42:27.104166",
     "exception": false,
     "start_time": "2020-07-16T02:42:27.082475",
     "status": "completed"
    },
    "tags": []
   },
   "source": [
    "## Running a simulation"
   ]
  },
  {
   "cell_type": "code",
   "execution_count": 27,
   "metadata": {
    "execution": {
     "iopub.execute_input": "2020-07-16T02:42:27.143532Z",
     "iopub.status.busy": "2020-07-16T02:42:27.143217Z",
     "iopub.status.idle": "2020-07-16T02:45:15.954327Z",
     "shell.execute_reply": "2020-07-16T02:45:15.954582Z"
    },
    "papermill": {
     "duration": 168.831998,
     "end_time": "2020-07-16T02:45:15.954650",
     "exception": false,
     "start_time": "2020-07-16T02:42:27.122652",
     "status": "completed"
    },
    "tags": []
   },
   "outputs": [
    {
     "name": "stderr",
     "output_type": "stream",
     "text": [
      "\r",
      "running experiments:   0%|          | 0/100 [00:00<?, ?it/s]"
     ]
    },
    {
     "name": "stdout",
     "output_type": "stream",
     "text": [
      "Simulation mode:  dst\n"
     ]
    },
    {
     "name": "stderr",
     "output_type": "stream",
     "text": [
      "\r",
      "running experiments:   1%|          | 1/100 [00:01<02:54,  1.76s/it]"
     ]
    },
    {
     "name": "stderr",
     "output_type": "stream",
     "text": [
      "\r",
      "running experiments:   2%|▏         | 2/100 [00:03<02:52,  1.76s/it]"
     ]
    },
    {
     "name": "stderr",
     "output_type": "stream",
     "text": [
      "\r",
      "running experiments:   3%|▎         | 3/100 [00:05<02:53,  1.79s/it]"
     ]
    },
    {
     "name": "stderr",
     "output_type": "stream",
     "text": [
      "\r",
      "running experiments:   4%|▍         | 4/100 [00:07<02:48,  1.76s/it]"
     ]
    },
    {
     "name": "stderr",
     "output_type": "stream",
     "text": [
      "\r",
      "running experiments:   5%|▌         | 5/100 [00:08<02:46,  1.75s/it]"
     ]
    },
    {
     "name": "stderr",
     "output_type": "stream",
     "text": [
      "\r",
      "running experiments:   6%|▌         | 6/100 [00:10<02:43,  1.74s/it]"
     ]
    },
    {
     "name": "stderr",
     "output_type": "stream",
     "text": [
      "\r",
      "running experiments:   7%|▋         | 7/100 [00:12<02:40,  1.72s/it]"
     ]
    },
    {
     "name": "stderr",
     "output_type": "stream",
     "text": [
      "\r",
      "running experiments:   8%|▊         | 8/100 [00:13<02:37,  1.71s/it]"
     ]
    },
    {
     "name": "stderr",
     "output_type": "stream",
     "text": [
      "\r",
      "running experiments:   9%|▉         | 9/100 [00:15<02:36,  1.72s/it]"
     ]
    },
    {
     "name": "stderr",
     "output_type": "stream",
     "text": [
      "\r",
      "running experiments:  10%|█         | 10/100 [00:17<02:33,  1.71s/it]"
     ]
    },
    {
     "name": "stderr",
     "output_type": "stream",
     "text": [
      "\r",
      "running experiments:  11%|█         | 11/100 [00:18<02:31,  1.70s/it]"
     ]
    },
    {
     "name": "stderr",
     "output_type": "stream",
     "text": [
      "\r",
      "running experiments:  12%|█▏        | 12/100 [00:20<02:29,  1.70s/it]"
     ]
    },
    {
     "name": "stderr",
     "output_type": "stream",
     "text": [
      "\r",
      "running experiments:  13%|█▎        | 13/100 [00:22<02:26,  1.69s/it]"
     ]
    },
    {
     "name": "stderr",
     "output_type": "stream",
     "text": [
      "\r",
      "running experiments:  14%|█▍        | 14/100 [00:24<02:25,  1.69s/it]"
     ]
    },
    {
     "name": "stderr",
     "output_type": "stream",
     "text": [
      "\r",
      "running experiments:  15%|█▌        | 15/100 [00:25<02:25,  1.71s/it]"
     ]
    },
    {
     "name": "stderr",
     "output_type": "stream",
     "text": [
      "\r",
      "running experiments:  16%|█▌        | 16/100 [00:27<02:22,  1.70s/it]"
     ]
    },
    {
     "name": "stderr",
     "output_type": "stream",
     "text": [
      "\r",
      "running experiments:  17%|█▋        | 17/100 [00:29<02:21,  1.70s/it]"
     ]
    },
    {
     "name": "stderr",
     "output_type": "stream",
     "text": [
      "\r",
      "running experiments:  18%|█▊        | 18/100 [00:30<02:18,  1.68s/it]"
     ]
    },
    {
     "name": "stderr",
     "output_type": "stream",
     "text": [
      "\r",
      "running experiments:  19%|█▉        | 19/100 [00:32<02:15,  1.67s/it]"
     ]
    },
    {
     "name": "stderr",
     "output_type": "stream",
     "text": [
      "\r",
      "running experiments:  20%|██        | 20/100 [00:34<02:13,  1.67s/it]"
     ]
    },
    {
     "name": "stderr",
     "output_type": "stream",
     "text": [
      "\r",
      "running experiments:  21%|██        | 21/100 [00:35<02:11,  1.67s/it]"
     ]
    },
    {
     "name": "stderr",
     "output_type": "stream",
     "text": [
      "\r",
      "running experiments:  22%|██▏       | 22/100 [00:37<02:10,  1.67s/it]"
     ]
    },
    {
     "name": "stderr",
     "output_type": "stream",
     "text": [
      "\r",
      "running experiments:  23%|██▎       | 23/100 [00:39<02:08,  1.67s/it]"
     ]
    },
    {
     "name": "stderr",
     "output_type": "stream",
     "text": [
      "\r",
      "running experiments:  24%|██▍       | 24/100 [00:40<02:06,  1.67s/it]"
     ]
    },
    {
     "name": "stderr",
     "output_type": "stream",
     "text": [
      "\r",
      "running experiments:  25%|██▌       | 25/100 [00:42<02:05,  1.67s/it]"
     ]
    },
    {
     "name": "stderr",
     "output_type": "stream",
     "text": [
      "\r",
      "running experiments:  26%|██▌       | 26/100 [00:44<02:03,  1.67s/it]"
     ]
    },
    {
     "name": "stderr",
     "output_type": "stream",
     "text": [
      "\r",
      "running experiments:  27%|██▋       | 27/100 [00:45<02:01,  1.67s/it]"
     ]
    },
    {
     "name": "stderr",
     "output_type": "stream",
     "text": [
      "\r",
      "running experiments:  28%|██▊       | 28/100 [00:47<02:00,  1.67s/it]"
     ]
    },
    {
     "name": "stderr",
     "output_type": "stream",
     "text": [
      "\r",
      "running experiments:  29%|██▉       | 29/100 [00:49<01:58,  1.66s/it]"
     ]
    },
    {
     "name": "stderr",
     "output_type": "stream",
     "text": [
      "\r",
      "running experiments:  30%|███       | 30/100 [00:50<01:56,  1.67s/it]"
     ]
    },
    {
     "name": "stderr",
     "output_type": "stream",
     "text": [
      "\r",
      "running experiments:  31%|███       | 31/100 [00:52<01:56,  1.70s/it]"
     ]
    },
    {
     "name": "stderr",
     "output_type": "stream",
     "text": [
      "\r",
      "running experiments:  32%|███▏      | 32/100 [00:54<01:55,  1.70s/it]"
     ]
    },
    {
     "name": "stderr",
     "output_type": "stream",
     "text": [
      "\r",
      "running experiments:  33%|███▎      | 33/100 [00:55<01:53,  1.70s/it]"
     ]
    },
    {
     "name": "stderr",
     "output_type": "stream",
     "text": [
      "\r",
      "running experiments:  34%|███▍      | 34/100 [00:57<01:51,  1.69s/it]"
     ]
    },
    {
     "name": "stderr",
     "output_type": "stream",
     "text": [
      "\r",
      "running experiments:  35%|███▌      | 35/100 [00:59<01:49,  1.69s/it]"
     ]
    },
    {
     "name": "stderr",
     "output_type": "stream",
     "text": [
      "\r",
      "running experiments:  36%|███▌      | 36/100 [01:01<01:48,  1.69s/it]"
     ]
    },
    {
     "name": "stderr",
     "output_type": "stream",
     "text": [
      "\r",
      "running experiments:  37%|███▋      | 37/100 [01:02<01:46,  1.69s/it]"
     ]
    },
    {
     "name": "stderr",
     "output_type": "stream",
     "text": [
      "\r",
      "running experiments:  38%|███▊      | 38/100 [01:04<01:45,  1.70s/it]"
     ]
    },
    {
     "name": "stderr",
     "output_type": "stream",
     "text": [
      "\r",
      "running experiments:  39%|███▉      | 39/100 [01:06<01:43,  1.70s/it]"
     ]
    },
    {
     "name": "stderr",
     "output_type": "stream",
     "text": [
      "\r",
      "running experiments:  40%|████      | 40/100 [01:07<01:42,  1.72s/it]"
     ]
    },
    {
     "name": "stderr",
     "output_type": "stream",
     "text": [
      "\r",
      "running experiments:  41%|████      | 41/100 [01:09<01:40,  1.71s/it]"
     ]
    },
    {
     "name": "stderr",
     "output_type": "stream",
     "text": [
      "\r",
      "running experiments:  42%|████▏     | 42/100 [01:11<01:38,  1.70s/it]"
     ]
    },
    {
     "name": "stderr",
     "output_type": "stream",
     "text": [
      "\r",
      "running experiments:  43%|████▎     | 43/100 [01:12<01:36,  1.70s/it]"
     ]
    },
    {
     "name": "stderr",
     "output_type": "stream",
     "text": [
      "\r",
      "running experiments:  44%|████▍     | 44/100 [01:14<01:35,  1.70s/it]"
     ]
    },
    {
     "name": "stderr",
     "output_type": "stream",
     "text": [
      "\r",
      "running experiments:  45%|████▌     | 45/100 [01:16<01:32,  1.69s/it]"
     ]
    },
    {
     "name": "stderr",
     "output_type": "stream",
     "text": [
      "\r",
      "running experiments:  46%|████▌     | 46/100 [01:17<01:30,  1.68s/it]"
     ]
    },
    {
     "name": "stderr",
     "output_type": "stream",
     "text": [
      "\r",
      "running experiments:  47%|████▋     | 47/100 [01:19<01:28,  1.68s/it]"
     ]
    },
    {
     "name": "stderr",
     "output_type": "stream",
     "text": [
      "\r",
      "running experiments:  48%|████▊     | 48/100 [01:21<01:27,  1.68s/it]"
     ]
    },
    {
     "name": "stderr",
     "output_type": "stream",
     "text": [
      "\r",
      "running experiments:  49%|████▉     | 49/100 [01:23<01:26,  1.70s/it]"
     ]
    },
    {
     "name": "stderr",
     "output_type": "stream",
     "text": [
      "\r",
      "running experiments:  50%|█████     | 50/100 [01:24<01:24,  1.69s/it]"
     ]
    },
    {
     "name": "stderr",
     "output_type": "stream",
     "text": [
      "\r",
      "running experiments:  51%|█████     | 51/100 [01:26<01:23,  1.70s/it]"
     ]
    },
    {
     "name": "stderr",
     "output_type": "stream",
     "text": [
      "\r",
      "running experiments:  52%|█████▏    | 52/100 [01:28<01:21,  1.70s/it]"
     ]
    },
    {
     "name": "stderr",
     "output_type": "stream",
     "text": [
      "\r",
      "running experiments:  53%|█████▎    | 53/100 [01:29<01:19,  1.70s/it]"
     ]
    },
    {
     "name": "stderr",
     "output_type": "stream",
     "text": [
      "\r",
      "running experiments:  54%|█████▍    | 54/100 [01:31<01:17,  1.69s/it]"
     ]
    },
    {
     "name": "stderr",
     "output_type": "stream",
     "text": [
      "\r",
      "running experiments:  55%|█████▌    | 55/100 [01:33<01:16,  1.70s/it]"
     ]
    },
    {
     "name": "stderr",
     "output_type": "stream",
     "text": [
      "\r",
      "running experiments:  56%|█████▌    | 56/100 [01:34<01:14,  1.70s/it]"
     ]
    },
    {
     "name": "stderr",
     "output_type": "stream",
     "text": [
      "\r",
      "running experiments:  57%|█████▋    | 57/100 [01:36<01:12,  1.69s/it]"
     ]
    },
    {
     "name": "stderr",
     "output_type": "stream",
     "text": [
      "\r",
      "running experiments:  58%|█████▊    | 58/100 [01:38<01:10,  1.69s/it]"
     ]
    },
    {
     "name": "stderr",
     "output_type": "stream",
     "text": [
      "\r",
      "running experiments:  59%|█████▉    | 59/100 [01:39<01:09,  1.68s/it]"
     ]
    },
    {
     "name": "stderr",
     "output_type": "stream",
     "text": [
      "\r",
      "running experiments:  60%|██████    | 60/100 [01:41<01:07,  1.68s/it]"
     ]
    },
    {
     "name": "stderr",
     "output_type": "stream",
     "text": [
      "\r",
      "running experiments:  61%|██████    | 61/100 [01:43<01:05,  1.68s/it]"
     ]
    },
    {
     "name": "stderr",
     "output_type": "stream",
     "text": [
      "\r",
      "running experiments:  62%|██████▏   | 62/100 [01:45<01:03,  1.68s/it]"
     ]
    },
    {
     "name": "stderr",
     "output_type": "stream",
     "text": [
      "\r",
      "running experiments:  63%|██████▎   | 63/100 [01:46<01:02,  1.68s/it]"
     ]
    },
    {
     "name": "stderr",
     "output_type": "stream",
     "text": [
      "\r",
      "running experiments:  64%|██████▍   | 64/100 [01:48<01:00,  1.67s/it]"
     ]
    },
    {
     "name": "stderr",
     "output_type": "stream",
     "text": [
      "\r",
      "running experiments:  65%|██████▌   | 65/100 [01:50<00:58,  1.68s/it]"
     ]
    },
    {
     "name": "stderr",
     "output_type": "stream",
     "text": [
      "\r",
      "running experiments:  66%|██████▌   | 66/100 [01:51<00:56,  1.68s/it]"
     ]
    },
    {
     "name": "stderr",
     "output_type": "stream",
     "text": [
      "\r",
      "running experiments:  67%|██████▋   | 67/100 [01:53<00:54,  1.67s/it]"
     ]
    },
    {
     "name": "stderr",
     "output_type": "stream",
     "text": [
      "\r",
      "running experiments:  68%|██████▊   | 68/100 [01:55<00:53,  1.67s/it]"
     ]
    },
    {
     "name": "stderr",
     "output_type": "stream",
     "text": [
      "\r",
      "running experiments:  69%|██████▉   | 69/100 [01:56<00:51,  1.67s/it]"
     ]
    },
    {
     "name": "stderr",
     "output_type": "stream",
     "text": [
      "\r",
      "running experiments:  70%|███████   | 70/100 [01:58<00:50,  1.67s/it]"
     ]
    },
    {
     "name": "stderr",
     "output_type": "stream",
     "text": [
      "\r",
      "running experiments:  71%|███████   | 71/100 [02:00<00:48,  1.67s/it]"
     ]
    },
    {
     "name": "stderr",
     "output_type": "stream",
     "text": [
      "\r",
      "running experiments:  72%|███████▏  | 72/100 [02:01<00:46,  1.67s/it]"
     ]
    },
    {
     "name": "stderr",
     "output_type": "stream",
     "text": [
      "\r",
      "running experiments:  73%|███████▎  | 73/100 [02:03<00:44,  1.67s/it]"
     ]
    },
    {
     "name": "stderr",
     "output_type": "stream",
     "text": [
      "\r",
      "running experiments:  74%|███████▍  | 74/100 [02:05<00:43,  1.67s/it]"
     ]
    },
    {
     "name": "stderr",
     "output_type": "stream",
     "text": [
      "\r",
      "running experiments:  75%|███████▌  | 75/100 [02:06<00:41,  1.68s/it]"
     ]
    },
    {
     "name": "stderr",
     "output_type": "stream",
     "text": [
      "\r",
      "running experiments:  76%|███████▌  | 76/100 [02:08<00:40,  1.69s/it]"
     ]
    },
    {
     "name": "stderr",
     "output_type": "stream",
     "text": [
      "\r",
      "running experiments:  77%|███████▋  | 77/100 [02:10<00:38,  1.69s/it]"
     ]
    },
    {
     "name": "stderr",
     "output_type": "stream",
     "text": [
      "\r",
      "running experiments:  78%|███████▊  | 78/100 [02:11<00:37,  1.68s/it]"
     ]
    },
    {
     "name": "stderr",
     "output_type": "stream",
     "text": [
      "\r",
      "running experiments:  79%|███████▉  | 79/100 [02:13<00:35,  1.68s/it]"
     ]
    },
    {
     "name": "stderr",
     "output_type": "stream",
     "text": [
      "\r",
      "running experiments:  80%|████████  | 80/100 [02:15<00:33,  1.68s/it]"
     ]
    },
    {
     "name": "stderr",
     "output_type": "stream",
     "text": [
      "\r",
      "running experiments:  81%|████████  | 81/100 [02:16<00:31,  1.68s/it]"
     ]
    },
    {
     "name": "stderr",
     "output_type": "stream",
     "text": [
      "\r",
      "running experiments:  82%|████████▏ | 82/100 [02:18<00:30,  1.67s/it]"
     ]
    },
    {
     "name": "stderr",
     "output_type": "stream",
     "text": [
      "\r",
      "running experiments:  83%|████████▎ | 83/100 [02:20<00:28,  1.67s/it]"
     ]
    },
    {
     "name": "stderr",
     "output_type": "stream",
     "text": [
      "\r",
      "running experiments:  84%|████████▍ | 84/100 [02:21<00:26,  1.67s/it]"
     ]
    },
    {
     "name": "stderr",
     "output_type": "stream",
     "text": [
      "\r",
      "running experiments:  85%|████████▌ | 85/100 [02:23<00:25,  1.67s/it]"
     ]
    },
    {
     "name": "stderr",
     "output_type": "stream",
     "text": [
      "\r",
      "running experiments:  86%|████████▌ | 86/100 [02:25<00:23,  1.68s/it]"
     ]
    },
    {
     "name": "stderr",
     "output_type": "stream",
     "text": [
      "\r",
      "running experiments:  87%|████████▋ | 87/100 [02:26<00:21,  1.68s/it]"
     ]
    },
    {
     "name": "stderr",
     "output_type": "stream",
     "text": [
      "\r",
      "running experiments:  88%|████████▊ | 88/100 [02:28<00:20,  1.68s/it]"
     ]
    },
    {
     "name": "stderr",
     "output_type": "stream",
     "text": [
      "\r",
      "running experiments:  89%|████████▉ | 89/100 [02:30<00:18,  1.68s/it]"
     ]
    },
    {
     "name": "stderr",
     "output_type": "stream",
     "text": [
      "\r",
      "running experiments:  90%|█████████ | 90/100 [02:31<00:16,  1.68s/it]"
     ]
    },
    {
     "name": "stderr",
     "output_type": "stream",
     "text": [
      "\r",
      "running experiments:  91%|█████████ | 91/100 [02:33<00:15,  1.68s/it]"
     ]
    },
    {
     "name": "stderr",
     "output_type": "stream",
     "text": [
      "\r",
      "running experiments:  92%|█████████▏| 92/100 [02:35<00:13,  1.68s/it]"
     ]
    },
    {
     "name": "stderr",
     "output_type": "stream",
     "text": [
      "\r",
      "running experiments:  93%|█████████▎| 93/100 [02:36<00:11,  1.68s/it]"
     ]
    },
    {
     "name": "stderr",
     "output_type": "stream",
     "text": [
      "\r",
      "running experiments:  94%|█████████▍| 94/100 [02:38<00:10,  1.69s/it]"
     ]
    },
    {
     "name": "stderr",
     "output_type": "stream",
     "text": [
      "\r",
      "running experiments:  95%|█████████▌| 95/100 [02:40<00:08,  1.69s/it]"
     ]
    },
    {
     "name": "stderr",
     "output_type": "stream",
     "text": [
      "\r",
      "running experiments:  96%|█████████▌| 96/100 [02:42<00:06,  1.69s/it]"
     ]
    },
    {
     "name": "stderr",
     "output_type": "stream",
     "text": [
      "\r",
      "running experiments:  97%|█████████▋| 97/100 [02:43<00:05,  1.70s/it]"
     ]
    },
    {
     "name": "stderr",
     "output_type": "stream",
     "text": [
      "\r",
      "running experiments:  98%|█████████▊| 98/100 [02:45<00:03,  1.69s/it]"
     ]
    },
    {
     "name": "stderr",
     "output_type": "stream",
     "text": [
      "\r",
      "running experiments:  99%|█████████▉| 99/100 [02:47<00:01,  1.68s/it]"
     ]
    },
    {
     "name": "stderr",
     "output_type": "stream",
     "text": [
      "\r",
      "running experiments: 100%|██████████| 100/100 [02:48<00:00,  1.68s/it]"
     ]
    },
    {
     "name": "stderr",
     "output_type": "stream",
     "text": [
      "\r",
      "running experiments: 100%|██████████| 100/100 [02:48<00:00,  1.69s/it]"
     ]
    },
    {
     "name": "stdout",
     "output_type": "stream",
     "text": [
      "CPU times: user 2min 47s, sys: 983 ms, total: 2min 48s\n",
      "Wall time: 2min 48s\n"
     ]
    },
    {
     "name": "stderr",
     "output_type": "stream",
     "text": [
      "\n"
     ]
    }
   ],
   "source": [
    "\n",
    "%%time\n",
    "simulation.run_simulation(n_experiments, start_n, fit_params,shuffle_rows, pred_params, random_features, \\\n",
    "                          store_in_lists, save_eigenvector, save_hamiltonian, save_accuracy,\\\n",
    "                          save_models)\n",
    "if simulation.fourier_mode is not None:\n",
    "    simulation.fourier_dataframe.head(10)"
   ]
  },
  {
   "cell_type": "code",
   "execution_count": 28,
   "metadata": {
    "execution": {
     "iopub.execute_input": "2020-07-16T02:45:16.028576Z",
     "iopub.status.busy": "2020-07-16T02:45:16.028259Z",
     "iopub.status.idle": "2020-07-16T02:45:16.053462Z",
     "shell.execute_reply": "2020-07-16T02:45:16.053142Z"
    },
    "papermill": {
     "duration": 0.06305,
     "end_time": "2020-07-16T02:45:16.053516",
     "exception": false,
     "start_time": "2020-07-16T02:45:15.990466",
     "status": "completed"
    },
    "tags": []
   },
   "outputs": [
    {
     "data": {
      "text/html": [
       "<div>\n",
       "<style scoped>\n",
       "    .dataframe tbody tr th:only-of-type {\n",
       "        vertical-align: middle;\n",
       "    }\n",
       "\n",
       "    .dataframe tbody tr th {\n",
       "        vertical-align: top;\n",
       "    }\n",
       "\n",
       "    .dataframe thead th {\n",
       "        text-align: right;\n",
       "    }\n",
       "</style>\n",
       "<table border=\"1\" class=\"dataframe\">\n",
       "  <thead>\n",
       "    <tr style=\"text-align: right;\">\n",
       "      <th></th>\n",
       "      <th>id</th>\n",
       "      <th>path</th>\n",
       "      <th>t1</th>\n",
       "      <th>t2</th>\n",
       "      <th>winding</th>\n",
       "      <th>phase</th>\n",
       "      <th>pred_phase</th>\n",
       "      <th>type_of</th>\n",
       "      <th>feat0</th>\n",
       "      <th>feat1</th>\n",
       "      <th>...</th>\n",
       "      <th>feat90</th>\n",
       "      <th>feat91</th>\n",
       "      <th>feat92</th>\n",
       "      <th>feat93</th>\n",
       "      <th>feat94</th>\n",
       "      <th>feat95</th>\n",
       "      <th>feat96</th>\n",
       "      <th>feat97</th>\n",
       "      <th>feat98</th>\n",
       "      <th>feat99</th>\n",
       "    </tr>\n",
       "  </thead>\n",
       "  <tbody>\n",
       "    <tr>\n",
       "      <th>0</th>\n",
       "      <td>0</td>\n",
       "      <td>H_-2_-2_0.509296.dat</td>\n",
       "      <td>-2.0</td>\n",
       "      <td>-2.0</td>\n",
       "      <td>0.509296</td>\n",
       "      <td>999</td>\n",
       "      <td>666</td>\n",
       "      <td>test</td>\n",
       "      <td>0.100000</td>\n",
       "      <td>0.100000</td>\n",
       "      <td>...</td>\n",
       "      <td>0.100000</td>\n",
       "      <td>0.100000</td>\n",
       "      <td>0.100000</td>\n",
       "      <td>0.100000</td>\n",
       "      <td>0.100000</td>\n",
       "      <td>0.100000</td>\n",
       "      <td>0.100000</td>\n",
       "      <td>0.100000</td>\n",
       "      <td>0.100000</td>\n",
       "      <td>0.100000</td>\n",
       "    </tr>\n",
       "    <tr>\n",
       "      <th>1</th>\n",
       "      <td>0</td>\n",
       "      <td>H_-2_-2_0.509296.dat</td>\n",
       "      <td>-2.0</td>\n",
       "      <td>-2.0</td>\n",
       "      <td>0.509296</td>\n",
       "      <td>999</td>\n",
       "      <td>666</td>\n",
       "      <td>test</td>\n",
       "      <td>0.141421</td>\n",
       "      <td>0.141142</td>\n",
       "      <td>...</td>\n",
       "      <td>0.114412</td>\n",
       "      <td>0.108967</td>\n",
       "      <td>0.123928</td>\n",
       "      <td>0.119406</td>\n",
       "      <td>0.131490</td>\n",
       "      <td>0.127962</td>\n",
       "      <td>0.136978</td>\n",
       "      <td>0.134500</td>\n",
       "      <td>0.140306</td>\n",
       "      <td>0.138916</td>\n",
       "    </tr>\n",
       "    <tr>\n",
       "      <th>2</th>\n",
       "      <td>0</td>\n",
       "      <td>H_-2_-2_0.509296.dat</td>\n",
       "      <td>-2.0</td>\n",
       "      <td>-2.0</td>\n",
       "      <td>0.509296</td>\n",
       "      <td>999</td>\n",
       "      <td>666</td>\n",
       "      <td>test</td>\n",
       "      <td>0.141421</td>\n",
       "      <td>0.140306</td>\n",
       "      <td>...</td>\n",
       "      <td>0.043702</td>\n",
       "      <td>0.026500</td>\n",
       "      <td>0.075777</td>\n",
       "      <td>0.060214</td>\n",
       "      <td>0.103092</td>\n",
       "      <td>0.090145</td>\n",
       "      <td>0.123928</td>\n",
       "      <td>0.114412</td>\n",
       "      <td>0.136978</td>\n",
       "      <td>0.131490</td>\n",
       "    </tr>\n",
       "    <tr>\n",
       "      <th>3</th>\n",
       "      <td>0</td>\n",
       "      <td>H_-2_-2_0.509296.dat</td>\n",
       "      <td>-2.0</td>\n",
       "      <td>-2.0</td>\n",
       "      <td>0.509296</td>\n",
       "      <td>999</td>\n",
       "      <td>666</td>\n",
       "      <td>test</td>\n",
       "      <td>-0.100000</td>\n",
       "      <td>0.100000</td>\n",
       "      <td>...</td>\n",
       "      <td>-0.100000</td>\n",
       "      <td>0.100000</td>\n",
       "      <td>-0.100000</td>\n",
       "      <td>0.100000</td>\n",
       "      <td>-0.100000</td>\n",
       "      <td>0.100000</td>\n",
       "      <td>-0.100000</td>\n",
       "      <td>0.100000</td>\n",
       "      <td>-0.100000</td>\n",
       "      <td>0.100000</td>\n",
       "    </tr>\n",
       "    <tr>\n",
       "      <th>4</th>\n",
       "      <td>0</td>\n",
       "      <td>H_-2_-2_0.509296.dat</td>\n",
       "      <td>-2.0</td>\n",
       "      <td>-2.0</td>\n",
       "      <td>0.509296</td>\n",
       "      <td>999</td>\n",
       "      <td>666</td>\n",
       "      <td>test</td>\n",
       "      <td>0.000509</td>\n",
       "      <td>-0.008372</td>\n",
       "      <td>...</td>\n",
       "      <td>-0.082713</td>\n",
       "      <td>-0.089753</td>\n",
       "      <td>-0.067684</td>\n",
       "      <td>-0.075347</td>\n",
       "      <td>-0.051587</td>\n",
       "      <td>-0.059753</td>\n",
       "      <td>-0.034677</td>\n",
       "      <td>-0.043217</td>\n",
       "      <td>-0.017220</td>\n",
       "      <td>-0.026000</td>\n",
       "    </tr>\n",
       "    <tr>\n",
       "      <th>5</th>\n",
       "      <td>0</td>\n",
       "      <td>H_-2_-2_0.509296.dat</td>\n",
       "      <td>-2.0</td>\n",
       "      <td>-2.0</td>\n",
       "      <td>0.509296</td>\n",
       "      <td>999</td>\n",
       "      <td>666</td>\n",
       "      <td>test</td>\n",
       "      <td>0.001204</td>\n",
       "      <td>-0.016530</td>\n",
       "      <td>...</td>\n",
       "      <td>-0.134123</td>\n",
       "      <td>-0.138686</td>\n",
       "      <td>-0.118757</td>\n",
       "      <td>-0.127445</td>\n",
       "      <td>-0.095929</td>\n",
       "      <td>-0.108196</td>\n",
       "      <td>-0.067073</td>\n",
       "      <td>-0.082149</td>\n",
       "      <td>-0.034003</td>\n",
       "      <td>-0.050940</td>\n",
       "    </tr>\n",
       "    <tr>\n",
       "      <th>6</th>\n",
       "      <td>0</td>\n",
       "      <td>H_-2_-2_0.509296.dat</td>\n",
       "      <td>-2.0</td>\n",
       "      <td>-2.0</td>\n",
       "      <td>0.509296</td>\n",
       "      <td>999</td>\n",
       "      <td>666</td>\n",
       "      <td>test</td>\n",
       "      <td>-0.141421</td>\n",
       "      <td>-0.138980</td>\n",
       "      <td>...</td>\n",
       "      <td>0.043375</td>\n",
       "      <td>0.067830</td>\n",
       "      <td>-0.009222</td>\n",
       "      <td>0.017385</td>\n",
       "      <td>-0.060524</td>\n",
       "      <td>-0.035502</td>\n",
       "      <td>-0.103326</td>\n",
       "      <td>-0.083403</td>\n",
       "      <td>-0.131616</td>\n",
       "      <td>-0.119589</td>\n",
       "    </tr>\n",
       "    <tr>\n",
       "      <th>7</th>\n",
       "      <td>0</td>\n",
       "      <td>H_-2_-2_0.509296.dat</td>\n",
       "      <td>-2.0</td>\n",
       "      <td>-2.0</td>\n",
       "      <td>0.509296</td>\n",
       "      <td>999</td>\n",
       "      <td>666</td>\n",
       "      <td>test</td>\n",
       "      <td>-0.000826</td>\n",
       "      <td>0.025688</td>\n",
       "      <td>...</td>\n",
       "      <td>0.134753</td>\n",
       "      <td>0.124324</td>\n",
       "      <td>0.141088</td>\n",
       "      <td>0.140407</td>\n",
       "      <td>0.127608</td>\n",
       "      <td>0.136771</td>\n",
       "      <td>0.096206</td>\n",
       "      <td>0.113925</td>\n",
       "      <td>0.051292</td>\n",
       "      <td>0.075079</td>\n",
       "    </tr>\n",
       "    <tr>\n",
       "      <th>8</th>\n",
       "      <td>0</td>\n",
       "      <td>H_-2_-2_0.509296.dat</td>\n",
       "      <td>-2.0</td>\n",
       "      <td>-2.0</td>\n",
       "      <td>0.509296</td>\n",
       "      <td>999</td>\n",
       "      <td>666</td>\n",
       "      <td>test</td>\n",
       "      <td>0.141417</td>\n",
       "      <td>0.136684</td>\n",
       "      <td>...</td>\n",
       "      <td>-0.115093</td>\n",
       "      <td>-0.131915</td>\n",
       "      <td>-0.061266</td>\n",
       "      <td>-0.091040</td>\n",
       "      <td>0.007717</td>\n",
       "      <td>-0.027643</td>\n",
       "      <td>0.074791</td>\n",
       "      <td>0.042592</td>\n",
       "      <td>0.123363</td>\n",
       "      <td>0.102291</td>\n",
       "    </tr>\n",
       "    <tr>\n",
       "      <th>9</th>\n",
       "      <td>0</td>\n",
       "      <td>H_-2_-2_0.509296.dat</td>\n",
       "      <td>-2.0</td>\n",
       "      <td>-2.0</td>\n",
       "      <td>0.509296</td>\n",
       "      <td>999</td>\n",
       "      <td>666</td>\n",
       "      <td>test</td>\n",
       "      <td>0.001302</td>\n",
       "      <td>0.036430</td>\n",
       "      <td>...</td>\n",
       "      <td>0.082068</td>\n",
       "      <td>0.050848</td>\n",
       "      <td>0.127402</td>\n",
       "      <td>0.108132</td>\n",
       "      <td>0.141218</td>\n",
       "      <td>0.138667</td>\n",
       "      <td>0.120099</td>\n",
       "      <td>0.134896</td>\n",
       "      <td>0.069268</td>\n",
       "      <td>0.097755</td>\n",
       "    </tr>\n",
       "  </tbody>\n",
       "</table>\n",
       "<p>10 rows × 108 columns</p>\n",
       "</div>"
      ],
      "text/plain": [
       "   id                  path   t1   t2   winding  phase  pred_phase type_of  \\\n",
       "0   0  H_-2_-2_0.509296.dat -2.0 -2.0  0.509296    999         666    test   \n",
       "1   0  H_-2_-2_0.509296.dat -2.0 -2.0  0.509296    999         666    test   \n",
       "2   0  H_-2_-2_0.509296.dat -2.0 -2.0  0.509296    999         666    test   \n",
       "3   0  H_-2_-2_0.509296.dat -2.0 -2.0  0.509296    999         666    test   \n",
       "4   0  H_-2_-2_0.509296.dat -2.0 -2.0  0.509296    999         666    test   \n",
       "5   0  H_-2_-2_0.509296.dat -2.0 -2.0  0.509296    999         666    test   \n",
       "6   0  H_-2_-2_0.509296.dat -2.0 -2.0  0.509296    999         666    test   \n",
       "7   0  H_-2_-2_0.509296.dat -2.0 -2.0  0.509296    999         666    test   \n",
       "8   0  H_-2_-2_0.509296.dat -2.0 -2.0  0.509296    999         666    test   \n",
       "9   0  H_-2_-2_0.509296.dat -2.0 -2.0  0.509296    999         666    test   \n",
       "\n",
       "      feat0     feat1  ...    feat90    feat91    feat92    feat93    feat94  \\\n",
       "0  0.100000  0.100000  ...  0.100000  0.100000  0.100000  0.100000  0.100000   \n",
       "1  0.141421  0.141142  ...  0.114412  0.108967  0.123928  0.119406  0.131490   \n",
       "2  0.141421  0.140306  ...  0.043702  0.026500  0.075777  0.060214  0.103092   \n",
       "3 -0.100000  0.100000  ... -0.100000  0.100000 -0.100000  0.100000 -0.100000   \n",
       "4  0.000509 -0.008372  ... -0.082713 -0.089753 -0.067684 -0.075347 -0.051587   \n",
       "5  0.001204 -0.016530  ... -0.134123 -0.138686 -0.118757 -0.127445 -0.095929   \n",
       "6 -0.141421 -0.138980  ...  0.043375  0.067830 -0.009222  0.017385 -0.060524   \n",
       "7 -0.000826  0.025688  ...  0.134753  0.124324  0.141088  0.140407  0.127608   \n",
       "8  0.141417  0.136684  ... -0.115093 -0.131915 -0.061266 -0.091040  0.007717   \n",
       "9  0.001302  0.036430  ...  0.082068  0.050848  0.127402  0.108132  0.141218   \n",
       "\n",
       "     feat95    feat96    feat97    feat98    feat99  \n",
       "0  0.100000  0.100000  0.100000  0.100000  0.100000  \n",
       "1  0.127962  0.136978  0.134500  0.140306  0.138916  \n",
       "2  0.090145  0.123928  0.114412  0.136978  0.131490  \n",
       "3  0.100000 -0.100000  0.100000 -0.100000  0.100000  \n",
       "4 -0.059753 -0.034677 -0.043217 -0.017220 -0.026000  \n",
       "5 -0.108196 -0.067073 -0.082149 -0.034003 -0.050940  \n",
       "6 -0.035502 -0.103326 -0.083403 -0.131616 -0.119589  \n",
       "7  0.136771  0.096206  0.113925  0.051292  0.075079  \n",
       "8 -0.027643  0.074791  0.042592  0.123363  0.102291  \n",
       "9  0.138667  0.120099  0.134896  0.069268  0.097755  \n",
       "\n",
       "[10 rows x 108 columns]"
      ]
     },
     "execution_count": 28,
     "metadata": {},
     "output_type": "execute_result"
    }
   ],
   "source": [
    "simulation.dataframe.head(10)"
   ]
  },
  {
   "cell_type": "markdown",
   "metadata": {
    "papermill": {
     "duration": 0.03636,
     "end_time": "2020-07-16T02:45:16.127899",
     "exception": false,
     "start_time": "2020-07-16T02:45:16.091539",
     "status": "completed"
    },
    "tags": []
   },
   "source": [
    "#### Viewing a random sample"
   ]
  },
  {
   "cell_type": "code",
   "execution_count": 29,
   "metadata": {
    "execution": {
     "iopub.execute_input": "2020-07-16T02:45:16.202261Z",
     "iopub.status.busy": "2020-07-16T02:45:16.201945Z",
     "iopub.status.idle": "2020-07-16T02:45:16.230385Z",
     "shell.execute_reply": "2020-07-16T02:45:16.230064Z"
    },
    "papermill": {
     "duration": 0.065494,
     "end_time": "2020-07-16T02:45:16.230439",
     "exception": false,
     "start_time": "2020-07-16T02:45:16.164945",
     "status": "completed"
    },
    "tags": []
   },
   "outputs": [
    {
     "name": "stdout",
     "output_type": "stream",
     "text": [
      "CPU times: user 18 ms, sys: 15 µs, total: 18 ms\n",
      "Wall time: 17.8 ms\n"
     ]
    }
   ],
   "source": [
    "%%time\n",
    "if simulation.fourier_mode is not None:\n",
    "    simulation.fourier_dataframe.sample(frac=0.1, replace=False)"
   ]
  },
  {
   "cell_type": "markdown",
   "metadata": {
    "papermill": {
     "duration": 0.036262,
     "end_time": "2020-07-16T02:45:16.303286",
     "exception": false,
     "start_time": "2020-07-16T02:45:16.267024",
     "status": "completed"
    },
    "tags": []
   },
   "source": [
    "#### Checking train/val/test splits again"
   ]
  },
  {
   "cell_type": "code",
   "execution_count": 30,
   "metadata": {
    "execution": {
     "iopub.execute_input": "2020-07-16T02:45:16.378605Z",
     "iopub.status.busy": "2020-07-16T02:45:16.378285Z",
     "iopub.status.idle": "2020-07-16T02:45:16.557586Z",
     "shell.execute_reply": "2020-07-16T02:45:16.557312Z"
    },
    "papermill": {
     "duration": 0.216963,
     "end_time": "2020-07-16T02:45:16.557642",
     "exception": false,
     "start_time": "2020-07-16T02:45:16.340679",
     "status": "completed"
    },
    "tags": []
   },
   "outputs": [
    {
     "name": "stdout",
     "output_type": "stream",
     "text": [
      "% train:  0.08474317939338516\n",
      "% val:  0.7620789513793629\n",
      "% test:  0.15317786922725193\n",
      "% train + val + test:  1.0\n",
      "\n",
      "\n",
      "number of train hamiltonians:  556\n",
      "number of val hamiltonians:  5000\n",
      "number of test hamiltonians:  1005\n",
      "total number of hamiltonians:  6561\n",
      "\n",
      "\n",
      "train ids:  [3941, 2996, 2661, 4784, 2979, 3465, 4455, 5553, 1074, 3235, 2104, 1021, 3714, 3557, 832, 2354, 4740, 5869, 2037, 760, 3068, 6247, 5127, 1623, 2221, 2933, 1099, 57, 3390, 6096, 6405, 4313, 3085, 2782, 3867, 1809, 5480, 2814, 2227, 2736, 6291, 3807, 4116, 5508, 3206, 3812, 5096, 2619, 4964, 1016, 468, 1572, 236, 289, 6500, 5220, 592, 4451, 3628, 932, 4727, 3424, 3469, 4161, 6156, 3792, 1349, 1401, 2389, 536, 1950, 1330, 911, 5451, 2528, 2632, 1944, 544, 4363, 2276, 2838, 5212, 1327, 6433, 674, 5161, 3113, 4891, 591, 6135, 4275, 5764, 3833, 2054, 3161, 4335, 4422, 3448, 4078, 669, 1367, 4125, 4216, 5790, 3906, 2995, 3199, 2956, 3297, 3493, 265, 3047, 2303, 1159, 4355, 2895, 13, 4535, 397, 3016, 4542, 2845, 3474, 2893, 2545, 2896, 4436, 2937, 2639, 3388, 2384, 6084, 1258, 3724, 3103, 4816, 5932, 2019, 3343, 2810, 3632, 4846, 2116, 4950, 3194, 1028, 1947, 2758, 3291, 3435, 178, 1102, 5266, 2687, 3316, 4991, 4711, 3550, 588, 4131, 4658, 2340, 4077, 2734, 1859, 4170, 2329, 1674, 1837, 5301, 5939, 4309, 1522, 5158, 4392, 4888, 1688, 6220, 2023, 4007, 865, 222, 2014, 1465, 3698, 1645, 5019, 756, 4179, 2455, 6100, 5124, 2900, 6086, 388, 3537, 3432, 3188, 6093, 2185, 2105, 3894, 5948, 3903, 5109, 2726, 1204, 4027, 5363, 2414, 1318, 828, 5951, 2269, 5775, 6520, 187, 4314, 2161, 5287, 6466, 624, 6039, 2883, 2750, 915, 5994, 2112, 2799, 4052, 4200, 5929, 2586, 3566, 5403, 198, 2313, 3508, 5881, 5130, 4434, 4482, 74, 1463, 1754, 3996, 113, 1433, 6424, 1868, 804, 4569, 3368, 1959, 3167, 2616, 3421, 4689, 3793, 3933, 4058, 3519, 4710, 4616, 1445, 108, 3616, 1381, 3279, 514, 4494, 6443, 2576, 1437, 5963, 1748, 2086, 1977, 4803, 1823, 1449, 6250, 4178, 5471, 716, 1653, 1014, 3580, 5137, 370, 2258, 354, 3229, 3849, 5707, 1702, 3175, 3591, 4691, 5605, 3083, 4024, 6438, 685, 4241, 708, 3824, 4005, 3346, 3278, 427, 6343, 380, 228, 4157, 3272, 3026, 1901, 3449, 4697, 4464, 1342, 4478, 317, 1618, 363, 6131, 2697, 6206, 419, 264, 3528, 6525, 1877, 2813, 5461, 5198, 4712, 6491, 4990, 6044, 1587, 4562, 618, 3042, 1795, 2764, 5183, 1317, 5854, 1753, 5270, 1707, 5225, 3097, 5431, 1869, 3371, 3881, 5218, 1451, 1508, 395, 842, 1484, 3665, 2744, 422, 5204, 438, 375, 1651, 299, 3814, 5340, 1517, 864, 3516, 5289, 6285, 5724, 1730, 345, 1236, 1374, 3813, 5961, 2196, 6059, 2670, 2021, 4637, 953, 2515, 2847, 2061, 1487, 3980, 1952, 3266, 3406, 229, 4540, 3782, 5966, 4425, 3657, 3769, 3443, 3562, 1461, 5057, 4070, 348, 1872, 6055, 870, 3647, 387, 5189, 5113, 3879, 3768, 4410, 4949, 2434, 4109, 6347, 147, 5274, 5853, 5698, 4322, 5732, 1960, 3457, 2487, 374, 3101, 3694, 2902, 3830, 6508, 4899, 3602, 3415, 2683, 5400, 4090, 3240, 2282, 1546, 4928, 3736, 3090, 269, 5140, 1208, 5834, 3794, 4666, 3222, 1468, 2613, 1659, 1434, 4700, 3848, 1855, 1489, 1858, 4437, 64, 1369, 4525, 695, 2246, 6371, 3320, 4044, 339, 1910, 94, 1169, 4859, 5344, 3884, 6410, 3283, 4533, 5427, 3322, 6303, 6279, 1974, 5595, 5685, 2634, 3374, 2327, 4462, 2402, 2397, 1835, 2309, 5836, 3711, 6023, 2794, 751, 3533, 5371, 1976, 3104, 5031, 4186, 2927, 255, 1289, 1876, 1107, 3110, 3571, 6539, 6191, 1190, 2585, 6342, 5597, 5569, 4287, 3132, 5886, 4088, 1981, 2232, 4978, 1650, 2629, 3037, 3405, 4774, 6218, 104, 3413, 286, 710, 2948, 2310, 2876, 3263, 5047, 2365, 3956, 4149, 5354]\n",
      "val ids:  [1762, 5851, 3136, 996, 3542, 1826, 1244, 1127, 862, 2408, 6024, 796, 6053, 4613, 5012, 2833, 6280, 6524, 6421, 2523, 3451, 116, 6094, 2633, 4204, 1628, 4414, 4662, 4032, 4855, 2731, 4539, 3128, 6329, 1909, 4876, 4139, 2149, 5045, 3858, 4135, 3030, 298, 2428, 3943, 3916, 6253, 1756, 4521, 5243, 5065, 2958, 4574, 5507, 5878, 5997, 2753, 4188, 5230, 4896, 3688, 3832, 1736, 1101, 3704, 4187, 5452, 2504, 2174, 4770, 149, 5023, 4690, 5239, 3192, 5814, 1818, 1922, 4724, 2497, 3715, 4524, 4339, 542, 6372, 1515, 1290, 5781, 6246, 6323, 5118, 5633, 551, 5126, 3312, 5238, 1741, 2491, 3050, 994, 4517, 4743, 1509, 4424, 5548, 2416, 5528, 76, 1891, 5025, 2524, 5029, 4014, 4439, 176, 5135, 1814, 3578, 677, 2832, 3952, 5393, 2114, 3983, 1455, 3255, 4568, 5475, 5974, 4477, 3023, 748, 3299, 3640, 2507, 3046, 3652, 4987, 372, 1657, 510, 1126, 3355, 725, 3031, 4065, 5513, 5593, 5240, 172, 2710, 3216, 5288, 6111, 5755, 455, 6112, 6258, 3763, 3181, 3931, 2689, 47, 3603, 3939, 724, 4310, 3076, 3569, 4850, 6171, 4973, 2849, 6427, 5074, 601, 5957, 4001, 2855, 195, 6423, 342, 3716, 4785, 3868, 6260, 5147, 5042, 5650, 429, 382, 2875, 6530, 3764, 5540, 4167, 2888, 6404, 525, 2776, 553, 1503, 6489, 1037, 2290, 2392, 973, 940, 5533, 3327, 6281, 2561, 3122, 3827, 452, 316, 4934, 3999, 1832, 4706, 1607, 1248, 635, 4665, 5946, 2532, 1594, 6088, 4105, 4485, 440, 3532, 3735, 1365, 4956, 4438, 3498, 2076, 6301, 605, 4048, 6507, 2351, 4047, 4398, 3111, 2564, 2027, 2795, 5229, 1446, 5430, 3473, 3679, 11, 2151, 4983, 6409, 273, 4112, 1432, 5767, 2738, 1915, 211, 16, 3984, 3643, 666, 755, 3509, 2388, 457, 5751, 1404, 3475, 1917, 110, 4270, 5104, 644, 26, 2039, 3965, 2234, 197, 3089, 4150, 1696, 2550, 2851, 3359, 1457, 524, 4875, 5195, 589, 1918, 6192, 5374, 6368, 2170, 4089, 2042, 698, 5954, 4931, 6128, 1860, 3137, 888, 1694, 3027, 1042, 5187, 5485, 4573, 3913, 1540, 3988, 4145, 5314, 2436, 972, 2452, 4798, 4898, 5618, 2745, 65, 2751, 5194, 1273, 3718, 4189, 2872, 2723, 540, 872, 1690, 5302, 3702, 4543, 2778, 3669, 4729, 4645, 5880, 4129, 4201, 4746, 2126, 1293, 2803, 4619, 3775, 1566, 2322, 2555, 3618, 5856, 3948, 2963, 2784, 3157, 707, 2508, 2834, 46, 2368, 2954, 2746, 1156, 5523, 1263, 5632, 4966, 609, 5219, 1586, 4793, 2358, 3173, 1054, 769, 364, 2730, 555, 2106, 4744, 5122, 5139, 128, 5131, 4472, 1576, 4453, 3503, 3363, 4831, 4661, 3974, 4824, 1682, 4445, 1861, 4228, 5388, 2482, 3587, 2499, 5343, 2602, 279, 6521, 5146, 3459, 3905, 1372, 4748, 6244, 1625, 4409, 384, 4989, 5723, 5267, 1371, 5624, 2386, 351, 23, 3462, 2207, 4852, 3834, 971, 2699, 5424, 3795, 3060, 347, 1911, 2265, 4303, 5712, 5182, 3944, 1894, 3013, 4625, 456, 56, 949, 5808, 5622, 2391, 6243, 1096, 5771, 5024, 5433, 851, 3545, 3466, 4830, 77, 1278, 517, 6018, 2437, 4955, 3577, 3209, 873, 3361, 4474, 1617, 3430, 1499, 2344, 1828, 6327, 1773, 530, 6412, 3564, 3273, 2288, 6076, 1671, 3658, 926, 3783, 2536, 4848, 4243, 5763, 3501, 700, 2500, 3127, 1009, 6376, 3507, 4723, 3287, 6446, 2153, 1627, 3455, 2229, 3365, 6198, 946, 4459, 856, 1154, 2466, 3553, 1567, 5702, 5394, 586, 5179, 4278, 5060, 4622, 461, 5914, 1246, 4779, 72, 381, 2366, 2181, 4565, 1667, 293, 4476, 3592, 5587, 1932, 6058, 4364, 3798, 2306, 5304, 4396, 428, 1929, 1238, 1172, 2476, 1606, 2966, 3141, 1785, 2793, 4812, 4937, 2346, 3203, 615, 1501, 6214, 5370, 5728, 4971, 3816, 4872, 1897, 5317, 928, 3574, 6363, 5315, 3383, 4140, 48, 4361, 2249, 283, 3082, 4166, 1486, 6210, 5565, 1648, 3778, 2637, 515, 3020, 1852, 212, 2844, 6036, 5591, 1117, 2792, 3420, 1597, 5059, 4663, 611, 62, 2403, 3627, 3654, 5617, 3022, 5558, 5714, 49, 3646, 1188, 4298, 139, 193, 2605, 3888, 4969, 6245, 3423, 3626, 4383, 3852, 55, 5278, 1580, 2601, 3745, 1923, 3588, 2350, 367, 4504, 3902, 3918, 5021, 2192, 4996, 6194, 6542, 4465, 1584, 2932, 5035, 2551, 1510, 1500, 5132, 1450, 6221, 2831, 2735, 3870, 2028, 3739, 1467, 385, 2583, 3212, 1494, 1535, 2398, 5923, 1518, 359, 1271, 3052, 129, 3308, 3762, 3823, 6256, 306, 4443, 3957, 261, 3264, 5454, 3288, 2189, 5832, 4256, 4456, 5098, 45, 6487, 4771, 4194, 1091, 5926, 179, 6104, 5953, 1784, 2273, 2569, 2496, 4244, 117, 2614, 6351, 1767, 4707, 2315, 2022, 1023, 5242, 403, 3982, 2422, 4867, 1409, 546, 1615, 1466, 4289, 2642, 3567, 614, 5406, 3301, 2446, 1220, 5367, 3242, 3158, 1259, 5794, 1669, 2915, 749, 3995, 1443, 795, 4605, 1611, 997, 4527, 5945, 1743, 2239, 1356, 451, 5796, 1665, 3217, 848, 6273, 6377, 2518, 1946, 1622, 6274, 3091, 1527, 446, 2825, 1090, 2584, 5013, 6420, 5272, 1202, 1185, 1675, 6513, 2029, 673, 5352, 450, 5426, 3138, 1542, 5159, 439, 1793, 2108, 2278, 5894, 4699, 3258, 2716, 6432, 5207, 6332, 2193, 617, 3780, 554, 1137, 470, 1987, 4705, 5466, 5892, 5105, 1000, 859, 5563, 1961, 4191, 5324, 4365, 4111, 5197, 3293, 1664, 3318, 226, 3243, 5672, 2250, 2973, 3722, 6176, 1464, 3978, 5637, 1938, 6550, 218, 2821, 3914, 2946, 2798, 6204, 4993, 6120, 4442, 1738, 4447, 504, 2440, 4214, 1782, 2985, 4337, 6157, 5265, 5372, 3802, 3515, 3260, 2369, 5033, 4547, 5111, 6353, 5026, 4716, 205, 6436, 771, 4901, 3934, 2169, 20, 2371, 4621, 6490, 3213, 1083, 3940, 5037, 2362, 3742, 752, 2770, 1831, 3734, 2930, 4945, 3908, 4643, 5072, 1988, 5345, 6271, 3004, 4911, 3869, 4236, 6383, 2835, 3130, 691, 916, 2248, 4069, 3149, 1482, 3300, 361, 43, 831, 2988, 599, 4751, 1213, 4376, 4655, 4343, 1292, 192, 3818, 3257, 6338, 4739, 3511, 6305, 1766, 5102, 3781, 1012, 4986, 138, 2178, 4947, 3470, 2263, 803, 3907, 944, 5061, 1975, 280, 1979, 2567, 590, 4642, 4627, 4123, 1164, 931, 5788, 1108, 3378, 6547, 913, 177, 6049, 2188, 357, 2918, 6519, 6448, 2070, 3387, 2143, 3311, 6013, 4276, 6337, 1844, 4389, 6502, 4406, 344, 4685, 6445, 5404, 552, 2819, 2464, 4615, 1209, 5606, 2363, 2486, 5432, 5810, 3187, 3326, 6125, 4907, 3010, 2931, 1737, 1136, 966, 6121, 5034, 17, 3351, 3517, 1661, 2646, 1158, 4534, 4261, 5942, 2230, 343, 2970, 5054, 5543, 1685, 2222, 1048, 3843, 5043, 2505, 633, 2815, 4330, 3377, 1892, 6132, 2343, 4238, 3114, 5235, 1178, 6085, 3712, 6426, 1764, 827, 4258, 667, 5509, 2501, 5928, 4033, 1914, 1093, 909, 4043, 5648, 924, 3109, 5051, 3636, 2195, 2961, 315, 5505, 190, 2373, 4386, 2002, 436, 3989, 4604, 3981, 969, 4173, 3314, 3384, 3168, 631, 3733, 3876, 4557, 3919, 1765, 2472, 6257, 2733, 713, 1325, 4972, 5616, 2004, 6531, 3945, 5924, 4467, 188, 852, 5631, 5300, 4283, 5522, 1796, 346, 5630, 6516, 276, 1166, 5125, 362, 4735, 2581, 4704, 945, 1787, 2763, 3267, 2571, 3890, 6048, 4686, 3007, 155, 3706, 4136, 2971, 2335, 1997, 2594, 61, 533, 2575, 5791, 2836, 3087, 6212, 6169, 103, 3874, 6369, 4491, 5876, 5779, 2082, 2684, 2364, 6340, 106, 1377, 6103, 2152, 3686, 4630, 256, 1789, 4768, 2593, 5347, 1193, 2950, 522, 1525, 3598, 1192, 2121, 1986, 2381, 3637, 2301, 4293, 1683, 5551, 6465, 3650, 6211, 3697, 1454, 3612, 4039, 2617, 378, 3441, 4168, 2692, 2183, 1983, 3505, 2774, 5152, 2277, 2790, 3458, 2237, 4895, 1833, 3237, 4940, 843, 5607, 204, 437, 3590, 6431, 2439, 2158, 305, 295, 157, 2427, 5589, 4541, 2245, 4614, 2712, 3345, 3409, 2243, 1533, 774, 1336, 4505, 3105, 75, 2071, 1288, 1414, 5692, 3453, 5719, 3014, 4035, 4326, 1779, 4174, 4393, 181, 4657, 2137, 3426, 5753, 5726, 6283, 420, 3131, 4805, 2565, 5544, 3561, 4554, 2943, 1768, 4815, 4413, 2231, 3766, 3921, 4333, 5392, 5071, 957, 3306, 4828, 3635, 6455, 3959, 3923, 5799, 2013, 5812, 3224, 5846, 3872, 3270, 3754, 830, 3765, 5423, 4029, 941, 2342, 3737, 2468, 5859, 1937, 2702, 4299, 4062, 4233, 4292, 6450, 4555, 3563, 3045, 6381, 5237, 5180, 5768, 4736, 2238, 2533, 1488, 3917, 3394, 1734, 3543, 840, 6299, 4696, 501, 787, 2285, 3895, 1498, 3804, 6546, 2032, 1545, 606, 5960, 1703, 2492, 2372, 5014, 4865, 4722, 4164, 1418, 4227, 5101, 3352, 2478, 4498, 3088, 1379, 2087, 1538, 3400, 5976, 1088, 1002, 95, 1252, 1053, 4081, 6101, 5524, 6484, 5142, 3584, 1456, 4441, 254, 791, 6133, 1216, 5644, 3281, 783, 1660, 4036, 3683, 4463, 6306, 5077, 6387, 1865, 5858, 4693, 5107, 2336, 6292, 5285, 4942, 2260, 465, 1870, 2251, 3447, 3177, 5115, 4813, 1769, 5568, 1198, 764, 3372, 5316, 891, 4003, 529, 5223, 6099, 3285, 1672, 5784, 9, 5190, 6046, 6102, 2097, 500, 1481, 366, 2526, 2417, 6182, 2908, 3747, 6010, 272, 237, 5482, 3073, 4323, 3021, 4897, 453, 6366, 6422, 6107, 2191, 4648, 2938, 5017, 4079, 182, 2409, 4545, 6430, 1824, 3729, 4329, 3534, 311, 938, 3211, 6106, 3624, 3164, 3006, 1247, 3491, 6354, 1676, 1131, 2715, 3797, 847, 1032, 1343, 340, 2674, 5619, 2302, 2562, 5319, 2757, 3221, 310, 3664, 3428, 1408, 6535, 3695, 532, 5188, 2891, 2773, 6295, 42, 5590, 6008, 4788, 3723, 520, 680, 5346, 4982, 1513, 2737, 780, 101, 6358, 2853, 2769, 4334, 2407, 2522, 4158, 1693, 3399, 2653, 224, 4988, 3304, 1537, 2159, 3573, 3178, 134, 723, 4772, 2949, 1191, 3142, 1847, 1985, 2556, 2135, 394, 5694, 5193, 5192, 3348, 300, 2448, 3552, 6170, 5064, 1697, 4358, 3755, 5604, 964, 918, 6262, 3963, 3385, 5342, 4300, 4882, 1134, 2912, 1423, 4279, 114, 3410, 5103, 2924, 6032, 4209, 3767, 2978, 1219, 4580, 5323, 4749, 4092, 3398, 3289, 390, 2563, 4223, 1810, 2433, 3207, 3973, 3057, 596, 4311, 2760, 4128, 4796, 3789, 1417, 1211, 4340, 4324, 2650, 626, 4860, 1857, 1899, 3102, 6532, 773, 3752, 3753, 302, 6252, 3029, 4530, 5309, 4371, 3668, 3912, 1072, 4325, 1504, 2889, 4856, 4946, 6042, 4045, 3223, 5157, 6287, 3396, 4254, 1355, 2332, 6428, 2247, 2873, 1008, 2779, 2333, 3452, 145, 2807, 4582, 3342, 434, 2925, 4468, 5730, 3617, 1989, 4008, 5789, 5913, 5357, 1507, 2059, 2043, 1323, 684, 3850, 4367, 2905, 216, 629, 2275, 1715, 5643, 73, 4781, 4890, 4215, 1338, 2982, 1004, 3446, 2186, 1277, 4623, 1462, 4130, 3147, 3481, 1495, 778, 4501, 5365, 2558, 6460, 4420, 3238, 5868, 2100, 4601, 2396, 3990, 4733, 1044, 5459, 4874, 5271, 2208, 3220, 4415, 4315, 506, 2739, 1573, 995, 4503, 2092, 1237, 3806, 2312, 292, 4064, 512, 423, 1935, 5889, 5770, 4823, 3986, 3863, 3779, 4611, 6442, 5290, 146, 3248, 4419, 467, 53, 4006, 365, 3182, 4522, 3799, 4523, 2866, 1165, 2385, 4810, 3953, 1438, 5559, 845, 3310, 2359, 5450, 2922, 4237, 337, 2743, 1358, 1187, 4206, 6115, 4797, 6265, 5011, 3960, 876, 2944, 883, 5066, 1103, 3015, 4787, 2588, 40, 3262, 5044, 1420, 1195, 3002, 1995, 4887, 2659, 3495, 3661, 118, 678, 3324, 4357, 447, 2552, 1878, 6097, 942, 6269, 3972, 5718, 3176, 1745, 3008, 1253, 4469, 705, 604, 4375, 3055, 762, 4421, 1772, 2300, 4939, 2357, 5803, 1050, 152, 5787, 1578, 3225, 3456, 4938, 4380, 3873, 5938, 6207, 726, 2934, 3201, 6304, 6441, 754, 2993, 4049, 3269, 6263, 2166, 1180, 31, 3707, 1700, 3442, 4471, 1539, 4395, 4583, 4778, 5968, 968, 5022, 4319, 52, 6523, 3075, 5612, 2470, 2463, 5890, 3531, 2759, 2665, 4914, 4203, 6538, 304, 3048, 1652, 3202, 4646, 1024, 5027, 1078, 290, 2678, 98, 582, 925, 6183, 5862, 5184, 4851, 3450, 67, 5545, 5647, 5310, 3692, 1376, 2281, 3576, 2655, 2271, 2256, 3425, 3633, 3335, 5214, 5259, 4948, 1822, 3817, 6468, 93, 5216, 1357, 5397, 950, 459, 3236, 2202, 1094, 3431, 5305, 1577, 3463, 4694, 1575, 509, 6545, 5877, 4564, 6529, 3930, 4285, 619, 5349, 2599, 4764, 203, 5557, 5092, 5833, 3928, 1689, 5964, 5053, 3593, 4028, 2331, 278, 4963, 2570, 1168, 3731, 1052, 3677, 3979, 2796, 1770, 5241, 3682, 5947, 4251, 5972, 3777, 1820, 2636, 1324, 5855, 291, 3416, 6037, 6515, 2671, 3801, 3837, 3993, 6296, 5379, 1775, 3946, 1081, 5937, 581, 768, 4013, 2747, 3118, 6418, 2761, 6057, 4654, 5224, 223, 3009, 2420, 2969, 4933, 3433, 4970, 3634, 5296, 1579, 788, 1544, 3226, 4067, 4967, 5570, 1286, 6511, 4502, 5733, 2057, 1948, 1326, 2864, 2921, 4226, 3678, 1825, 1217, 5473, 1777, 3710, 671, 4015, 603, 4054, 5511, 2663, 4585, 1162, 5095, 5609, 1646, 1300, 1821, 5611, 109, 2780, 3743, 956, 3061, 6193, 6380, 6328, 4291, 4221, 781, 1019, 6270, 284, 5669, 6268, 6224, 2173, 1076, 679, 3667, 4022, 2994, 2078, 1563, 6549, 1268, 6348, 1496, 4450, 1321, 3253, 5979, 1506, 3429, 4618, 5815, 3313, 584, 2899, 5177, 3123, 2182, 3381, 3249, 3162, 2695, 2473, 4804, 3349, 2959, 5804, 5390, 1265, 3065, 3251, 2852, 2304, 389, 2572, 3623, 747, 3397, 2549, 2517, 4854, 6367, 6335, 3268, 5196, 125, 2791, 15, 6415, 3189, 3028, 4225, 2411, 3614, 174, 4417, 4288, 360, 2862, 477, 4974, 123, 5962, 728, 2867, 2621, 3966, 1400, 3728, 607, 3967, 5277, 602, 4886, 2635, 4146, 5232, 625, 2299, 2435, 5786, 5185, 1011, 5445, 6341, 4153, 2399, 392, 3369, 1608, 4356, 6334, 2323, 3330, 6277, 3589, 3319, 999, 5805, 4783, 6136, 3210, 1328, 1424, 5381, 3891, 1568, 421, 3927, 6092, 4809, 664, 4962, 6336, 2719, 5211, 3826, 1038, 194, 2477, 3284, 4094, 4435, 1104, 1783, 2901, 4714, 4935, 2762, 1926, 521, 3148, 2447, 3541, 2198, 4369, 4448, 4904, 1001, 2686, 3759, 6264, 3713, 4284, 4486, 4038, 2090, 6486, 3140, 2725, 1930, 806, 2947, 120, 3193, 2187, 4016, 3901, 3143, 2728, 214, 539, 4506, 632, 595, 4730, 5774, 4944, 5887, 2805, 6325, 2910, 1755, 124, 4387, 750, 6012, 5933, 1403, 2319, 3968, 1116, 2804, 5695, 1354, 3538, 4516, 1695, 2065, 396, 1175, 3438, 2667, 5896, 1373, 2038, 4155, 3233, 5294, 425, 2442, 6208, 1994, 5639, 6114, 5355, 5729, 4792, 4219, 2829, 206, 6294, 3825, 71, 6370, 2007, 5757, 3721, 3787, 670, 4981, 207, 4870, 3701, 4653, 2120, 1912, 2884, 2783, 1620, 5020, 1874, 6205, 313, 6007, 3741, 5731, 5865, 32, 6439, 623, 1927, 1590, 191, 547, 4260, 5078, 5801, 2885, 4588, 3393, 1334, 5687, 1851, 2748, 2044, 1631, 2775, 5895, 2574, 2255, 3749, 1034, 4827, 5683, 6028, 2451, 3166, 2060, 951, 5055, 3838, 2596, 1691, 4091, 3160, 4232, 4883, 1218, 6011, 3611, 2854, 5518, 1351, 5701, 303, 3472, 1128, 4110, 3247, 5154, 3758, 2965, 3615, 1282, 4252, 2999, 2291, 2945, 369, 2816, 4341, 746, 3950, 3555, 2578, 789, 3788, 4372, 27, 3684, 6452, 6060, 3017, 3575, 2679, 5032, 3344, 2865, 1595, 2284, 758, 3125, 5720, 3865, 6413, 5151, 274, 1452, 1856, 6050, 2474, 1735, 5018, 6493, 4196, 4318, 5380, 5262, 1962, 4095, 4912, 1077, 912, 2190, 565, 2020, 2483, 5010, 294, 5837, 4992, 2093, 3871, 2714, 2609, 6440, 4532, 3112, 3770, 1421, 5725, 4475, 1348, 6435, 4817, 1383, 4985, 1942, 4282, 2224, 5916, 4953, 4997, 5688, 2063, 4394, 282, 2802, 6041, 1333, 2644, 5261, 3005, 6119, 34, 5766, 3227, 4620, 5291, 518, 2615, 3619, 1763, 4176, 4703, 3803, 1276, 6014, 4452, 3051, 637, 5874, 4327, 268, 5341, 6116, 2356, 4084, 3041, 6202, 1299, 3719, 3208, 2095, 297, 5871, 4316, 4811, 3169, 3340, 1184, 4242, 41, 3070, 352, 5835, 5384, 2176, 1786, 3861, 4737, 3275, 1106, 2512, 2801, 2418, 449, 3570, 3506, 3898, 3949, 4602, 115, 24, 3524, 5807, 1018, 4741, 3829, 3038, 992, 107, 3171, 5208, 1320, 5785, 597, 156, 5863, 5015, 1020, 3077, 2626, 1588, 686, 4877, 1592, 2454, 2345, 5356, 1207, 5504, 2846, 5625, 4795, 5399, 846, 6267, 709, 5153, 5614, 5099, 5093, 4732, 1022, 786, 5800, 1214, 889, 3997, 5534, 2268, 1958, 6331, 5217, 3708, 3246, 1453, 2279, 991, 4246, 227, 1781, 1531, 4066, 150, 4124, 939, 4520, 5350, 3629, 1189, 2856, 4489, 3651, 6293, 2111, 5754, 4684, 5958, 6219, 3467, 4473, 2806, 3791, 1176, 3080, 528, 600, 1429, 4682, 1758, 608, 4286, 4368, 6200, 5806, 6499, 2874, 753, 6361, 4546, 6098, 6362, 4082, 4295, 4051, 6015, 5705, 5436, 3328, 4791, 4965, 3353, 4416, 1982, 12, 2267, 993, 393, 1849, 472, 3709, 1907, 4698, 867, 5484, 714, 1353, 6165, 175, 2688, 6251, 3150, 5795, 4995, 1275, 1598, 1287, 1033, 3392, 271, 5273, 622, 1757, 3558, 1621, 2818, 97, 2404, 2107, 782, 5752, 2123, 3910, 2936, 6356, 5537, 1167, 6534, 861, 5075, 766, 3259, 3106, 2664, 1532, 36, 6512, 4280, 5123, 4305, 2860, 6374, 2892, 6209, 3461, 5156, 464, 4500, 6077, 6129, 3947, 1713, 1605, 4199, 1602, 2031, 4495, 1255, 2841, 613, 2025, 5299, 541, 5629, 5588, 2109, 4483, 857, 471, 4408, 3970, 2755, 5536, 1493, 1206, 5429, 5778, 1980, 1816, 2772, 2075, 2341, 3955, 5848, 6137, 2010, 2201, 2573, 3059, 863, 3402, 3018, 2923, 1435, 5048, 1854, 4297, 2481, 5463, 5479, 4011, 2055, 563, 3809, 2252, 462, 3307, 5227, 6451, 6425, 2334, 4579, 1848, 5697, 443, 2066, 5689, 1511, 2485, 2590, 6164, 4670, 3069, 1332, 4351, 2041, 5776, 4885, 5638, 3594, 2839, 854, 4012, 5472, 2696, 5141, 6126, 2992, 2489, 1739, 6506, 4076, 3401, 6495, 2823, 154, 3011, 4083, 2438, 3012, 4905, 3302, 5462, 1903, 2242, 5975, 923, 3971, 4977, 1797, 935, 5792, 2579, 5049, 6355, 3159, 5897, 2718, 2830, 70, 5935, 2307, 4692, 5178, 3277, 3468, 4570, 1913, 1155, 4664, 2235, 6043, 4607, 2125, 4134, 4010, 809, 4528, 1991, 5150, 1297, 2516, 1794, 2348, 6030, 3842, 122, 6379, 3054, 5129, 6345, 6352, 4377, 4695, 5295, 4493, 1945, 5444, 309, 3878, 3554, 1118, 376, 4190, 1005, 4688, 1080, 2311, 5134, 5276, 1270, 4863, 838, 6517, 1157, 4397, 1079, 4632, 6178, 890, 1413, 2641, 3860, 3464, 6051, 5437, 1780, 5879, 2423, 3232, 5136, 4773, 4717, 5634, 3572, 6514, 4405, 5263, 6029, 4713, 270, 5891, 3380, 5284, 4122, 1241, 3231, 2338, 2339, 5116, 4353, 233, 4807, 1906, 308, 4142, 1836, 3347, 5684, 6248, 2421, 2577, 3471, 6333, 4060, 1692, 837, 534, 6172, 2559, 4331, 4151, 25, 2648, 2040, 6375, 2217, 1708, 1301, 3785, 2997, 4247, 6286, 3607, 469, 3476, 4599, 4892, 5297, 1666, 5215, 6045, 6127, 2618, 341, 386, 3479, 6360, 4609, 2490, 1171, 2205, 919, 2817, 1924, 5038, 426, 947, 4041, 5708, 3133, 4780, 66, 430, 5610, 6350, 1788, 6025, 2220, 5108, 2611, 3417, 3419, 5428, 121, 759, 3454, 1614, 3819, 2493, 1003, 1626, 4866, 516, 2401, 6026, 3585, 3845, 100, 5447, 2219, 3846, 3897, 2430, 3404, 5303, 4104, 3811, 2722, 5474, 4384, 2479, 1239, 1122, 2453, 776, 3655, 3821, 3521, 5307, 855, 4635, 105, 5615, 2257, 523, 1013, 1699, 1534, 4726, 5488, 4255, 29, 6199, 6497, 2530, 3339, 4853, 6124, 4566, 4470, 5455, 5529, 869, 3395, 1726, 2608, 508, 1543, 3386, 3334, 4212, 5852, 1662, 4175, 4900, 2654, 4871, 6021, 2395, 777, 3333, 3254, 676, 5809, 144, 785, 1337, 3808, 5028, 5046, 4412, 4306, 4281, 2828, 672, 933, 5773, 6447, 4379, 4440, 391, 779, 5875, 3862, 2939, 4499, 1996, 1817, 5674, 2033, 6109, 5387, 235, 5149, 715, 6276, 5934, 646, 199, 5236, 4193, 1866, 3539, 5456, 6185, 4598, 1714, 4908, 1729, 1941, 1160, 1427, 4638, 126, 3407, 4360, 2822, 2009, 2117, 4600, 4202, 4833, 2026, 2612, 2553, 6288, 5566, 2136, 6168, 5765, 2981, 3490, 6509, 3152, 6386, 5210, 4332, 2262, 3523, 234, 998, 3190, 3757, 2546, 3610, 2503, 5882, 96, 3987, 4631, 1774, 3810, 404, 866, 1830, 5128, 2318, 4031, 2903, 5470, 3896, 930, 180, 5713, 3796, 5110, 5056, 3214, 1541, 1530, 2145, 1331, 4057, 6461, 6326, 4765, 4814, 4195, 2337, 2445, 1742, 5016, 132, 4457, 4213, 2374, 3099, 3427, 2511, 4829, 1732, 4222, 5063, 1123, 5213, 6167, 4113, 1197, 5527, 6195, 19, 2465, 841, 4449, 545, 3699, 2003, 6408, 4378, 963, 3172, 4826, 4683, 3547, 1098, 1951, 3727, 5112, 914, 4257, 3053, 5457, 5561, 3271, 4725, 3489, 6419, 5866, 3274, 3309, 4117, 1654, 444, 527, 3445, 6527, 1212, 2443, 2228, 153, 2620, 2519, 4869, 2314, 4097, 1294, 2826, 2534, 683, 1183, 3367, 1380, 1956, 5308, 4818, 5434, 3298, 1345, 5861, 6457, 1295, 1363, 2668, 2180, 3976, 4126, 3746, 4586, 3672, 3256, 5936, 4702, 5844, 59, 690, 4709, 1410, 3234, 5567, 5405, 4652, 2942, 2604, 4068, 1459, 5395, 834, 2147, 6483, 6357, 797, 3003, 3063, 2353, 2703, 6384, 519, 2941, 6237, 5222, 4548, 288, 1778, 5978, 2204, 2103, 2008, 3851, 2598, 231, 4734, 33, 3185, 5058, 807, 5268, 219, 1382, 1483, 4628, 2425, 2124, 2809, 5780, 1744, 2347, 706, 50, 967, 373, 1177, 3969, 566, 6017, 2897, 4162, 5362, 2749, 2700, 2094, 5478, 3653, 3296, 1384, 3244, 4536, 1916, 4307, 3693, 2991, 790, 1385, 5286, 1284, 2894, 6388, 3748, 5721, 5870, 1405, 5677, 922, 4571, 35, 4338, 2419, 2253, 2163, 5699, 3510, 4929, 1834, 1813, 2652, 2587, 4636, 1663, 2138, 1574, 1829, 3357, 1412, 5368, 4496, 5628, 2974, 2597, 5391, 2857, 2928, 3496, 3252, 2907, 2987, 3460, 1791, 2547, 4984, 5068, 3597, 3725, 30, 2824, 2270, 6186, 5943, 1547, 2606, 4106, 4373, 1097, 1747, 4025, 2666, 1368, 1589, 1565, 5636, 5693, 3025, 4296, 2607, 38, 3886, 6467, 1075, 2917, 4171, 3043, 6141, 1447, 6140, 1624, 2089, 5353, 3705, 4121, 794, 4782, 4903, 3341, 5446, 3155, 5069, 3676, 2280, 2069, 4272, 3836, 2360, 1819, 3613, 6540, 5626, 1740, 1863, 1647, 688, 4163, 1174, 6403, 3183, 550, 6166, 3513, 3205, 232, 712, 5320, 1073, 1505, 3911, 1240, 2413, 4930, 6117, 4862, 377, 2690, 1771, 2998, 3740, 60, 3032, 2150, 2382, 2808, 119, 3606, 209, 3093, 1792, 3276, 3295, 2713, 1862, 4454, 4248, 5465, 2283, 4958, 141, 630, 4308, 5143, 2820, 2199, 3992, 189, 531, 6498, 1727, 1378, 51, 6349, 4224, 1428, 1993, 2206, 2877, 5883, 1129, 6035, 2980, 442, 3019, 2913, 3067, 6255, 4893, 2154, 4192, 2920, 3245, 3499, 4159, 1407, 266, 587, 4576, 44, 4553, 3408, 2767, 1425, 3660, 4336, 5181, 4411, 2717, 1163, 5782, 5292, 5973, 6284, 6275, 6300, 3942, 4819, 3883, 4777, 5257, 1658, 4234, 3887, 2649, 5398, 4402, 1843, 4177, 4728, 1550, 2167, 2881, 2424, 1245, 970, 6095, 3504, 6134, 2261, 1035, 829, 5283, 3484, 6434, 5802, 6187, 4218, 3241, 1746, 1347, 323, 2554, 433, 4936, 2566, 844, 2740, 2582, 3478, 3671, 2680, 140, 2756, 3502, 5620, 1649, 5690, 3375, 2259, 6551, 4822, 543, 4649, 4399, 2406, 2096, 6009, 5635, 5402, 1203, 2410, 3909, 5560, 54, 137, 4668, 6222, 5845, 2964, 431, 1350, 5873, 1045, 3145, 2387, 1283, 5532, 133, 4915, 4980, 5623, 5117, 2675, 2024, 2233, 1749, 1609, 711, 6417, 3358, 1905, 1827, 2721, 2957, 3751, 4767, 2157, 2673, 3079, 5293, 1113, 4290, 3146, 1502, 6469, 2203, 1261, 1549, 3786, 3681, 4042, 131, 2600, 4169, 2916, 196, 3535, 634, 3497, 1684, 2444, 458, 3086, 4231, 5468, 3750, 5673, 99, 549, 2527, 2729, 5442, 1984, 151, 4624, 4954, 1516, 2148, 4806, 668, 5401, 3844, 301, 6297, 5651, 3744, 3332, 5148, 4577, 682, 1875, 37, 6365, 4096, 3866, 3500, 3659, 2056, 2657, 5843, 4037, 2502, 1514, 435, 1895, 1419, 2426, 6414, 473, 1036, 693, 2067, 5710, 2184, 143, 4610, 2676, 1613, 2929, 5709, 5675, 1291, 1838, 1582, 1752, 4235, 4165, 3482, 5269, 4943, 3730, 3078, 5925, 4390, 3951, 3649, 1285, 3915, 2244, 5515, 4154, 4198, 5864, 2785, 2863, 4374, 2955, 4932, 4587, 5062, 2638, 2914, 2494, 4074, 2693, 910, 3685, 3197, 1047, 6373, 4120, 3599, 1972, 663, 767, 1049, 3648, 643, 2077, 2175, 2967, 1879, 4858, 3595, 3239, 4718, 2535, 2509, 2859, 5364, 2647, 699, 2812, 3784, 6437, 285, 2926, 5512, 4301, 5715, 526, 5186, 314, 1931, 3215, 2709, 2467, 2156, 850, 2200, 1274, 202, 763, 210, 5556, 4910, 3922, 5915, 6548, 185, 3391, 5541, 474, 805, 2450, 3115, 5641, 2983, 1366, 5443, 2194, 4484, 1092, 792, 5686, 3329, 990, 2011, 886, 4056, 448, 507, 920, 5483, 4312, 3156, 1808, 5885, 689, 2858, 2168, 4249, 6105, 1319, 2068, 1196, 4085, 1585, 5722, 4132, 6359, 3412, 3847, 1564, 5621, 5366, 3035, 2165, 424, 1243, 5133, 836, 3317, 6179, 259, 4902, 955, 2962, 5950, 6223, 186, 701, 3154, 3717, 3134, 2223, 3875, 1655, 1375, 2393, 6163, 1670, 5965, 4087, 3064, 5704, 3583, 6188, 4418, 2325, 3066, 2842, 148, 1444, 6217, 3074, 6282, 3954, 2122, 1322, 5155, 665, 929, 2589, 6503, 2977, 1893, 4034, 5969, 5539, 4107, 275, 808, 6458, 3560, 2887, 2797, 5797, 4861, 4789, 5547, 2036, 1811, 5535, 4492, 5160, 5649, 3644, 5383, 4575, 6261, 4563, 5526, 1085, 2708, 3540, 4401, 5640, 6020, 3790, 4063, 1015, 1112, 262, 6528, 3151, 548, 307, 358, 2984, 1815, 3001, 4776, 5453, 3622, 6180, 1173, 2286, 887, 3305, 3094, 3961, 5645, 4518, 2072, 1170, 184, 142, 3096, 4461, 1896, 4745, 1712, 3864, 874, 3323, 6181, 3512, 6272, 6544, 5940, 2882, 1687, 2968, 5234, 3900, 4072, 441, 3841, 4403, 432, 3485, 583, 1497, 208, 2110, 2953, 4820, 2544, 2456, 1619, 2781, 1125, 4271, 3822, 4864, 1704, 5036, 3958, 502, 1055, 1677, 538, 5449, 5608, 4328, 5995, 6453, 4133, 2415, 4537, 1346, 6022, 368, 5944, 260, 1998, 3000, 2289, 4750, 860, 6504, 91, 6130, 3483, 4466, 1957, 6344, 213, 5487, 2771, 1925, 1262, 2225, 2811, 3325, 4407, 5097, 2911, 4629, 2898, 1194, 2919, 2141, 4581, 4979, 4354, 5603, 3184, 1596, 3756, 5613, 1272, 3165, 2058, 2592, 4197, 3929, 3487, 3439, 3700, 3218, 1490, 1898, 4715, 5373, 2732, 4531, 3382, 2177, 4119, 3180, 4808, 4957, 5377, 1731, 5052, 4529, 3776, 4277, 2172, 263, 6324, 5671, 1302, 3514, 1442, 2935, 6177, 4578, 5191, 2073, 5510, 4147, 1845, 4708, 697, 2179, 4423, 936, 871, 1928, 3315, 6459, 2662, 2469, 6004, 3582, 28, 2088, 4651, 761, 3925, 1340, 3098, 6087, 727, 2691, 2264, 4086, 1790, 6110, 1110, 1491, 102, 3800, 4660, 1940, 3196, 4909, 4172, 1124, 6541, 2495, 505, 6378, 1933, 4802, 5209, 2514, 5930, 4269, 1616, 965, 4304, 4608, 835, 2383, 5530, 3163, 511, 1902, 5175, 4889, 2034, 2520, 4114, 2580, 1523, 5203, 3290, 1458, 4059, 1536, 3107, 2361, 2878, 3601, 5070, 5476, 350, 1701, 3899, 2355, 4118, 4975, 1954, 564, 2012, 5592, 5311, 22, 4137, 3720, 3670, 1182, 2525, 5977, 6518, 1242, 784, 3095, 4144, 2628, 6091, 2529, 1043, 765, 4210, 3551, 1603, 5458, 1269, 4497, 5144, 2837, 6449, 3294, 4093, 353, 5552, 6203, 2989, 3839, 2102, 2084, 1266, 356, 4794, 1873, 4634, 3336, 5275, 3373, 3389, 4752, 6118, 4359, 1406, 2431, 1339, 3488, 3529, 839, 2236, 2016, 6407, 2441, 610, 1949, 6298, 3414, 6266, 5176, 3857, 4321, 2742, 5716, 1026, 6456, 4108, 4388, 130, 2226, 6382, 4274, 884, 6290, 6406, 2538, 5481, 3621, 4873, 2412, 3139, 2768, 1205, 1249, 2115, 5385, 1303, 703, 2062, 647, 5783, 2850, 2321, 2840, 1604, 5313, 2603, 2005, 1030, 5469, 5094, 4217, 2432, 1460, 4302, 2274, 3228, 5550, 793, 4205, 3831, 2972, 593, 2085, 717, 6027, 1569, 943, 1436, 2701, 3331, 5073, 1257, 1812, 2118, 230, 3072, 1362, 3356, 6173, 3179, 5264, 4857, 3376, 2352, 4026, 6189, 3904, 1086, 3135, 2324, 63, 6526, 5691, 6215, 934, 6278, 6201, 1111, 3662, 476, 3403, 2521, 1528, 466, 312, 6289, 4490, 6485, 4004, 612, 4847, 2083, 1256, 3370, 1992, 5226, 4775, 2766, 1411, 1939, 3625, 3991, 3186, 3321, 5517, 5460, 3548, 6138, 4558, 68, 2568, 6056, 6302, 6249, 2976, 875, 6463, 5811, 5772, 5952, 557, 183, 5860, 2475, 4952, 3549, 475, 4391, 418, 3494, 3261, 5971, 4567, 1027, 5378, 338, 379, 1341, 6429, 2557, 2990, 5967, 5867, 745, 4253, 6040, 4976, 5769, 1335, 1990, 5941, 1673, 5549, 2155, 1678, 6031, 3354, 4647, 2724, 5646, 3411, 3204, 2698, 1943, 1267, 1133, 2272, 702, 6175, 757, 3620, 3726, 2827, 1978, 4207, 3815, 1260, 6411, 2940, 4544, 1593, 3486, 1934, 694, 136, 2317, 3859, 1114, 4444, 2643, 770, 5546, 3434, 620, 3191, 4941, 1399, 4766, 5206, 2645, 4127, 2765, 6083, 4446, 2017, 215, 2986, 3379, 6006, 1132, 2531, 4250, 3596, 2308, 5358, 5514, 5777, 6501, 221, 2316, 1130, 1668, 3605, 4366, 4626, 445, 1936, 2685, 4382, 1853, 4381, 2656, 4273, 1135, 1370, 4404, 5079, 1029, 3477, 4994, 2471, 1728, 535, 5386, 2015, 3885, 1105, 6496, 58, 2035, 4526, 4002, 5703, 1210, 636, 3121, 5949, 621, 2484, 3703, 3422, 1630, 2669, 2548, 6364, 3265, 1750, 1698, 5531, 598, 4731, 483, 3642, 1706, 6464, 3645, 2694, 1007, 5596, 2330, 772, 3732, 4738, 1082, 3994, 5233, 6543, 4370, 6213, 5642, 3286, 3926, 6462, 4552, 5996, 5756, 5231, 4884, 1415, 2610, 2591, 4612, 267, 4656, 2658, 4742, 4790, 4143, 6122, 3195, 4061, 1431, 3364, 1025, 4230, 2171, 3480, 5448, 6123, 6385, 937, 1298, 1186, 336, 4245, 5893, 3556, 296, 3892, 3998, 1524, 5382, 5318, 4073, 5542, 3366, 3656, 556, 585, 2119, 1842, 3761, 92, 1087, 4519, 921, 6052, 3024, 4040, 2843, 5258, 2074, 5100, 3835, 5525, 6139, 5676, 6016, 5145, 6033, 3568, 4053, 1161, 594, 2101, 6174, 6492, 4220, 2305, 2390, 2904, 6003, 1352, 2848, 4549, 3674, 5076, 4659, 2777, 1571, 5700, 2537, 135, 853, 917, 1776, 833, 4075, 692, 1955, 3230, 4913, 4769, 687, 877, 6505, 1656, 1296, 6537, 3124, 4294, 1448, 4894, 5847, 463, 3666, 3977, 2510, 1709, 4023, 5798, 645, 3673, 4868, 5298, 349, 4488, 849, 1422, 4667, 2660, 4617, 5711, 3882, 4342, 5376, 2975, 4556, 4458, 371, 6090, 200, 3337, 6075, 5857, 4825, 5348, 281, 1512, 2266, 277, 460, 1973, 5888, 5438, 2429, 1089, 1710, 5425, 3062, 1250, 3639, 628, 201, 3126, 775, 2326, 4650, 4156, 1846, 1006, 5727, 3586, 6190, 4845, 3170, 2711, 3174, 3559, 5627, 2394, 5422, 2727, 2886, 4763, 1581, 4681, 4550, 2349, 5260, 4239, 2449, 6047, 2741, 5884, 21, 4055, 2254, 6488, 1908, 6522, 948, 1138, 225, 5205, 6108, 1751, 1017, 2218, 5228, 5670, 3675, 2498, 3119, 3641, 112, 5050, 5369, 6034, 5114, 6416, 2241, 2677, 2006, 217, 3581, 4046, 1430, 3696, 3877, 858, 3828, 3036, 4644, 2506, 5555, 5516, 2861, 6113, 5717, 39, 3100, 5221, 4362, 4152, 5917, 3117, 1254, 1402, 2681, 3518, 3544, 3932, 4633, 2405, 4138, 4211, 69, 4317, 3638, 3924, 3525, 1046, 3631, 4259, 6019, 1492, 675, 3738, 3663, 484, 2631, 2595, 4701, 5389, 3687, 1426, 3579, 927, 3044, 5067, 2144, 5554, 14, 3039, 5486, 6038, 5030, 2630, 1686, 1031, 6054, 4821, 4551, 3049, 2879, 5375, 1632, 6254, 4606, 2209, 2367, 3058, 2370, 5696, 3964, 5306, 4834, 4786, 1526, 4050, 2868, 1733, 3219, 5202, 2197, 5282, 4208, 2754, 2627, 2651, 3350, 2146, 5506, 2513, 5872, 111, 5931, 6005, 503, 3282, 383, 173, 4687, 1610, 5927, 3084, 1850, 3129, 1583, 3492, 4584, 1084, 6196, 1890, 1612, 4487, 6216, 3565, 2488, 3250, 5467, 3962, 2287, 1548, 704, 3530, 6510, 18, 4115, 3630, 1953, 2906, 2752, 1109, 885, 5850, 4071, 6184, 5970, 1181, 4603, 258, 1570, 1705, 3975, 4538, 5138, 1010, 6339, 1364, 1711, 127, 3436, 454, 4141, 2682, 2064, 2162, 954, 4951, 627, 2099, 6259, 355, 2909, 4832, 616, 1095, 4747, 2140, 4460, 696, 5322, 1900, 4030, 1264, 3522, 3144, 1864, 2672, 5959, 5312, 3985, 2113, 3805, 6346, 5956, 2091, 1115, 5351, 1056, 3292, 3437, 513, 4968, 1051, 2890, 3604, 5594, 3893, 3108, 3303, 2030, 1485, 1904, 6533, 485, 6197, 3338, 3153, 4229, 5706, 3056, 5538, 5849, 5813, 681, 3071, 287, 6444, 1251, 1344, 6089, 4878, 5564, 5955, 6142, 3880, 5321, 1867, 5562, 5464, 5435, 3820, 2139, 868, 3536, 537, 1179, 4352, 6536, 4669, 6330, 5793, 5396, 4572, 4849, 4906, 6494, 4385, 5106, 1416, 952, 1215, 2164, 5477, 220, 3081, 1591, 4009, 257, 1529, 2018, 2328, 3889, 2142, 1100, 1329, 3092, 2098, 10, 1629, 4148, 3546, 1871, 6454, 3418]\n",
      "test ids:  [0, 1, 2, 3, 4, 5, 6, 7, 8, 78, 79, 80, 81, 82, 83, 84, 85, 86, 87, 88, 89, 90, 158, 159, 160, 161, 162, 163, 164, 165, 166, 167, 168, 169, 170, 171, 238, 239, 240, 241, 242, 243, 244, 245, 246, 247, 248, 249, 250, 251, 252, 253, 318, 319, 320, 321, 322, 324, 325, 326, 327, 328, 329, 330, 331, 332, 333, 334, 335, 398, 399, 400, 401, 402, 405, 406, 407, 408, 409, 410, 411, 412, 413, 414, 415, 416, 417, 478, 479, 480, 481, 482, 486, 487, 488, 489, 490, 491, 492, 493, 494, 495, 496, 497, 498, 499, 558, 559, 560, 561, 562, 567, 568, 569, 570, 571, 572, 573, 574, 575, 576, 577, 578, 579, 580, 638, 639, 640, 641, 642, 648, 649, 650, 651, 652, 653, 654, 655, 656, 657, 658, 659, 660, 661, 662, 718, 719, 720, 721, 722, 729, 730, 731, 732, 733, 734, 735, 736, 737, 738, 739, 740, 741, 742, 743, 744, 798, 799, 800, 801, 802, 810, 811, 812, 813, 814, 815, 816, 817, 818, 819, 820, 821, 822, 823, 824, 825, 826, 878, 879, 880, 881, 882, 892, 893, 894, 895, 896, 897, 898, 899, 900, 901, 902, 903, 904, 905, 906, 907, 908, 958, 959, 960, 961, 962, 974, 975, 976, 977, 978, 979, 980, 981, 982, 983, 984, 985, 986, 987, 988, 989, 1039, 1040, 1041, 1057, 1058, 1059, 1060, 1061, 1062, 1063, 1064, 1065, 1066, 1067, 1068, 1069, 1070, 1071, 1119, 1120, 1121, 1139, 1140, 1141, 1142, 1143, 1144, 1145, 1146, 1147, 1148, 1149, 1150, 1151, 1152, 1153, 1199, 1200, 1201, 1221, 1222, 1223, 1224, 1225, 1226, 1227, 1228, 1229, 1230, 1231, 1232, 1233, 1234, 1235, 1279, 1280, 1281, 1304, 1305, 1306, 1307, 1308, 1309, 1310, 1311, 1312, 1313, 1314, 1315, 1316, 1359, 1360, 1361, 1386, 1387, 1388, 1389, 1390, 1391, 1392, 1393, 1394, 1395, 1396, 1397, 1398, 1439, 1440, 1441, 1469, 1470, 1471, 1472, 1473, 1474, 1475, 1476, 1477, 1478, 1479, 1480, 1519, 1520, 1521, 1551, 1552, 1553, 1554, 1555, 1556, 1557, 1558, 1559, 1560, 1561, 1562, 1599, 1600, 1601, 1633, 1634, 1635, 1636, 1637, 1638, 1639, 1640, 1641, 1642, 1643, 1644, 1679, 1680, 1681, 1716, 1717, 1718, 1719, 1720, 1721, 1722, 1723, 1724, 1725, 1759, 1760, 1761, 1798, 1799, 1800, 1801, 1802, 1803, 1804, 1805, 1806, 1807, 1839, 1840, 1841, 1880, 1881, 1882, 1883, 1884, 1885, 1886, 1887, 1888, 1889, 1919, 1920, 1921, 1963, 1964, 1965, 1966, 1967, 1968, 1969, 1970, 1971, 1999, 2000, 2001, 2045, 2046, 2047, 2048, 2049, 2050, 2051, 2052, 2053, 2079, 2080, 2081, 2127, 2128, 2129, 2130, 2131, 2132, 2133, 2134, 2160, 2210, 2211, 2212, 2213, 2214, 2215, 2216, 2240, 2292, 2293, 2294, 2295, 2296, 2297, 2298, 2320, 2375, 2376, 2377, 2378, 2379, 2380, 2400, 2457, 2458, 2459, 2460, 2461, 2462, 2480, 2539, 2540, 2541, 2542, 2543, 2560, 2622, 2623, 2624, 2625, 2640, 2704, 2705, 2706, 2707, 2720, 2786, 2787, 2788, 2789, 2800, 2869, 2870, 2871, 2880, 2951, 2952, 2960, 3033, 3034, 3040, 3116, 3120, 3198, 3200, 3280, 3360, 3362, 3440, 3444, 3520, 3526, 3527, 3600, 3608, 3609, 3680, 3689, 3690, 3691, 3760, 3771, 3772, 3773, 3774, 3840, 3853, 3854, 3855, 3856, 3920, 3935, 3936, 3937, 3938, 4000, 4017, 4018, 4019, 4020, 4021, 4080, 4098, 4099, 4100, 4101, 4102, 4103, 4160, 4180, 4181, 4182, 4183, 4184, 4185, 4240, 4262, 4263, 4264, 4265, 4266, 4267, 4268, 4320, 4344, 4345, 4346, 4347, 4348, 4349, 4350, 4400, 4426, 4427, 4428, 4429, 4430, 4431, 4432, 4433, 4479, 4480, 4481, 4507, 4508, 4509, 4510, 4511, 4512, 4513, 4514, 4515, 4559, 4560, 4561, 4589, 4590, 4591, 4592, 4593, 4594, 4595, 4596, 4597, 4639, 4640, 4641, 4671, 4672, 4673, 4674, 4675, 4676, 4677, 4678, 4679, 4680, 4719, 4720, 4721, 4753, 4754, 4755, 4756, 4757, 4758, 4759, 4760, 4761, 4762, 4799, 4800, 4801, 4835, 4836, 4837, 4838, 4839, 4840, 4841, 4842, 4843, 4844, 4879, 4880, 4881, 4916, 4917, 4918, 4919, 4920, 4921, 4922, 4923, 4924, 4925, 4926, 4927, 4959, 4960, 4961, 4998, 4999, 5000, 5001, 5002, 5003, 5004, 5005, 5006, 5007, 5008, 5009, 5039, 5040, 5041, 5080, 5081, 5082, 5083, 5084, 5085, 5086, 5087, 5088, 5089, 5090, 5091, 5119, 5120, 5121, 5162, 5163, 5164, 5165, 5166, 5167, 5168, 5169, 5170, 5171, 5172, 5173, 5174, 5199, 5200, 5201, 5244, 5245, 5246, 5247, 5248, 5249, 5250, 5251, 5252, 5253, 5254, 5255, 5256, 5279, 5280, 5281, 5325, 5326, 5327, 5328, 5329, 5330, 5331, 5332, 5333, 5334, 5335, 5336, 5337, 5338, 5339, 5359, 5360, 5361, 5407, 5408, 5409, 5410, 5411, 5412, 5413, 5414, 5415, 5416, 5417, 5418, 5419, 5420, 5421, 5439, 5440, 5441, 5489, 5490, 5491, 5492, 5493, 5494, 5495, 5496, 5497, 5498, 5499, 5500, 5501, 5502, 5503, 5519, 5520, 5521, 5571, 5572, 5573, 5574, 5575, 5576, 5577, 5578, 5579, 5580, 5581, 5582, 5583, 5584, 5585, 5586, 5598, 5599, 5600, 5601, 5602, 5652, 5653, 5654, 5655, 5656, 5657, 5658, 5659, 5660, 5661, 5662, 5663, 5664, 5665, 5666, 5667, 5668, 5678, 5679, 5680, 5681, 5682, 5734, 5735, 5736, 5737, 5738, 5739, 5740, 5741, 5742, 5743, 5744, 5745, 5746, 5747, 5748, 5749, 5750, 5758, 5759, 5760, 5761, 5762, 5816, 5817, 5818, 5819, 5820, 5821, 5822, 5823, 5824, 5825, 5826, 5827, 5828, 5829, 5830, 5831, 5838, 5839, 5840, 5841, 5842, 5898, 5899, 5900, 5901, 5902, 5903, 5904, 5905, 5906, 5907, 5908, 5909, 5910, 5911, 5912, 5918, 5919, 5920, 5921, 5922, 5980, 5981, 5982, 5983, 5984, 5985, 5986, 5987, 5988, 5989, 5990, 5991, 5992, 5993, 5998, 5999, 6000, 6001, 6002, 6061, 6062, 6063, 6064, 6065, 6066, 6067, 6068, 6069, 6070, 6071, 6072, 6073, 6074, 6078, 6079, 6080, 6081, 6082, 6143, 6144, 6145, 6146, 6147, 6148, 6149, 6150, 6151, 6152, 6153, 6154, 6155, 6158, 6159, 6160, 6161, 6162, 6225, 6226, 6227, 6228, 6229, 6230, 6231, 6232, 6233, 6234, 6235, 6236, 6238, 6239, 6240, 6241, 6242, 6307, 6308, 6309, 6310, 6311, 6312, 6313, 6314, 6315, 6316, 6317, 6318, 6319, 6320, 6321, 6322, 6389, 6390, 6391, 6392, 6393, 6394, 6395, 6396, 6397, 6398, 6399, 6400, 6401, 6402, 6470, 6471, 6472, 6473, 6474, 6475, 6476, 6477, 6478, 6479, 6480, 6481, 6482, 6552, 6553, 6554, 6555, 6556, 6557, 6558, 6559, 6560]\n",
      "CPU times: user 156 ms, sys: 12 ms, total: 168 ms\n",
      "Wall time: 167 ms\n"
     ]
    }
   ],
   "source": [
    "%%time\n",
    "n_total = len(simulation.dataframe)\n",
    "n_train = len(simulation.dataframe[simulation.dataframe.type_of == \"train\"])\n",
    "n_val = len(simulation.dataframe[simulation.dataframe.type_of == \"val\"])\n",
    "n_test = len(simulation.dataframe[simulation.dataframe.type_of == \"test\"])\n",
    "n_train_hamiltonians = len(simulation.train_ids)\n",
    "n_val_hamiltonians = len(simulation.val_ids)\n",
    "n_test_hamiltonians = len(simulation.test_ids)\n",
    "n_total_hamiltonians = n_train_hamiltonians + n_val_hamiltonians + n_test_hamiltonians\n",
    "\n",
    "print(\"% train: \", n_train/n_total)\n",
    "print(\"% val: \",  n_val/n_total)\n",
    "print(\"% test: \", n_test/n_total)\n",
    "print(\"% train + val + test: \", (n_train+n_val+n_test)/n_total)\n",
    "print(\"\\n\")\n",
    "print(\"number of train hamiltonians: \", n_train_hamiltonians)\n",
    "print(\"number of val hamiltonians: \", n_val_hamiltonians)\n",
    "print(\"number of test hamiltonians: \", n_test_hamiltonians)\n",
    "print(\"total number of hamiltonians: \", n_total_hamiltonians)\n",
    "print(\"\\n\")\n",
    "print(\"train ids: \", simulation.train_ids)\n",
    "print(\"val ids: \", simulation.val_ids)\n",
    "print(\"test ids: \", simulation.test_ids)"
   ]
  },
  {
   "cell_type": "markdown",
   "metadata": {
    "papermill": {
     "duration": 0.039484,
     "end_time": "2020-07-16T02:45:16.634281",
     "exception": false,
     "start_time": "2020-07-16T02:45:16.594797",
     "status": "completed"
    },
    "tags": []
   },
   "source": [
    "#### Checking summaries"
   ]
  },
  {
   "cell_type": "code",
   "execution_count": 31,
   "metadata": {
    "execution": {
     "iopub.execute_input": "2020-07-16T02:45:16.710955Z",
     "iopub.status.busy": "2020-07-16T02:45:16.710644Z",
     "iopub.status.idle": "2020-07-16T02:45:16.729296Z",
     "shell.execute_reply": "2020-07-16T02:45:16.728976Z"
    },
    "papermill": {
     "duration": 0.057015,
     "end_time": "2020-07-16T02:45:16.729350",
     "exception": false,
     "start_time": "2020-07-16T02:45:16.672335",
     "status": "completed"
    },
    "tags": []
   },
   "outputs": [
    {
     "name": "stdout",
     "output_type": "stream",
     "text": [
      "length of ham_summary:  6561\n",
      "CPU times: user 85 µs, sys: 1e+03 ns, total: 86 µs\n",
      "Wall time: 56.5 µs\n"
     ]
    },
    {
     "data": {
      "text/html": [
       "<div>\n",
       "<style scoped>\n",
       "    .dataframe tbody tr th:only-of-type {\n",
       "        vertical-align: middle;\n",
       "    }\n",
       "\n",
       "    .dataframe tbody tr th {\n",
       "        vertical-align: top;\n",
       "    }\n",
       "\n",
       "    .dataframe thead th {\n",
       "        text-align: right;\n",
       "    }\n",
       "</style>\n",
       "<table border=\"1\" class=\"dataframe\">\n",
       "  <thead>\n",
       "    <tr style=\"text-align: right;\">\n",
       "      <th></th>\n",
       "      <th>t1</th>\n",
       "      <th>t2</th>\n",
       "      <th>type_of</th>\n",
       "      <th>0</th>\n",
       "      <th>1</th>\n",
       "      <th>phase</th>\n",
       "      <th>pred_phase</th>\n",
       "    </tr>\n",
       "    <tr>\n",
       "      <th>id</th>\n",
       "      <th></th>\n",
       "      <th></th>\n",
       "      <th></th>\n",
       "      <th></th>\n",
       "      <th></th>\n",
       "      <th></th>\n",
       "      <th></th>\n",
       "    </tr>\n",
       "  </thead>\n",
       "  <tbody>\n",
       "    <tr>\n",
       "      <th>0</th>\n",
       "      <td>-2.0</td>\n",
       "      <td>-2.00</td>\n",
       "      <td>test</td>\n",
       "      <td>0.40</td>\n",
       "      <td>0.60</td>\n",
       "      <td>999</td>\n",
       "      <td>1</td>\n",
       "    </tr>\n",
       "    <tr>\n",
       "      <th>1</th>\n",
       "      <td>-2.0</td>\n",
       "      <td>-1.95</td>\n",
       "      <td>test</td>\n",
       "      <td>0.47</td>\n",
       "      <td>0.53</td>\n",
       "      <td>0</td>\n",
       "      <td>1</td>\n",
       "    </tr>\n",
       "    <tr>\n",
       "      <th>2</th>\n",
       "      <td>-2.0</td>\n",
       "      <td>-1.90</td>\n",
       "      <td>test</td>\n",
       "      <td>0.60</td>\n",
       "      <td>0.40</td>\n",
       "      <td>0</td>\n",
       "      <td>0</td>\n",
       "    </tr>\n",
       "    <tr>\n",
       "      <th>3</th>\n",
       "      <td>-2.0</td>\n",
       "      <td>-1.85</td>\n",
       "      <td>test</td>\n",
       "      <td>0.56</td>\n",
       "      <td>0.44</td>\n",
       "      <td>0</td>\n",
       "      <td>0</td>\n",
       "    </tr>\n",
       "    <tr>\n",
       "      <th>4</th>\n",
       "      <td>-2.0</td>\n",
       "      <td>-1.80</td>\n",
       "      <td>test</td>\n",
       "      <td>0.57</td>\n",
       "      <td>0.43</td>\n",
       "      <td>0</td>\n",
       "      <td>0</td>\n",
       "    </tr>\n",
       "    <tr>\n",
       "      <th>...</th>\n",
       "      <td>...</td>\n",
       "      <td>...</td>\n",
       "      <td>...</td>\n",
       "      <td>...</td>\n",
       "      <td>...</td>\n",
       "      <td>...</td>\n",
       "      <td>...</td>\n",
       "    </tr>\n",
       "    <tr>\n",
       "      <th>6556</th>\n",
       "      <td>2.0</td>\n",
       "      <td>1.80</td>\n",
       "      <td>test</td>\n",
       "      <td>0.59</td>\n",
       "      <td>0.41</td>\n",
       "      <td>0</td>\n",
       "      <td>0</td>\n",
       "    </tr>\n",
       "    <tr>\n",
       "      <th>6557</th>\n",
       "      <td>2.0</td>\n",
       "      <td>1.85</td>\n",
       "      <td>test</td>\n",
       "      <td>0.55</td>\n",
       "      <td>0.45</td>\n",
       "      <td>0</td>\n",
       "      <td>0</td>\n",
       "    </tr>\n",
       "    <tr>\n",
       "      <th>6558</th>\n",
       "      <td>2.0</td>\n",
       "      <td>1.90</td>\n",
       "      <td>test</td>\n",
       "      <td>0.48</td>\n",
       "      <td>0.52</td>\n",
       "      <td>0</td>\n",
       "      <td>1</td>\n",
       "    </tr>\n",
       "    <tr>\n",
       "      <th>6559</th>\n",
       "      <td>2.0</td>\n",
       "      <td>1.95</td>\n",
       "      <td>test</td>\n",
       "      <td>0.52</td>\n",
       "      <td>0.48</td>\n",
       "      <td>0</td>\n",
       "      <td>0</td>\n",
       "    </tr>\n",
       "    <tr>\n",
       "      <th>6560</th>\n",
       "      <td>2.0</td>\n",
       "      <td>2.00</td>\n",
       "      <td>test</td>\n",
       "      <td>0.39</td>\n",
       "      <td>0.61</td>\n",
       "      <td>999</td>\n",
       "      <td>1</td>\n",
       "    </tr>\n",
       "  </tbody>\n",
       "</table>\n",
       "<p>6561 rows × 7 columns</p>\n",
       "</div>"
      ],
      "text/plain": [
       "       t1    t2 type_of     0     1  phase  pred_phase\n",
       "id                                                    \n",
       "0    -2.0 -2.00    test  0.40  0.60    999           1\n",
       "1    -2.0 -1.95    test  0.47  0.53      0           1\n",
       "2    -2.0 -1.90    test  0.60  0.40      0           0\n",
       "3    -2.0 -1.85    test  0.56  0.44      0           0\n",
       "4    -2.0 -1.80    test  0.57  0.43      0           0\n",
       "...   ...   ...     ...   ...   ...    ...         ...\n",
       "6556  2.0  1.80    test  0.59  0.41      0           0\n",
       "6557  2.0  1.85    test  0.55  0.45      0           0\n",
       "6558  2.0  1.90    test  0.48  0.52      0           1\n",
       "6559  2.0  1.95    test  0.52  0.48      0           0\n",
       "6560  2.0  2.00    test  0.39  0.61    999           1\n",
       "\n",
       "[6561 rows x 7 columns]"
      ]
     },
     "execution_count": 31,
     "metadata": {},
     "output_type": "execute_result"
    }
   ],
   "source": [
    "%%time\n",
    "ham_summary = simulation.hamiltonian_summary\n",
    "print(\"length of ham_summary: \", len(ham_summary))\n",
    "ham_summary"
   ]
  },
  {
   "cell_type": "code",
   "execution_count": 32,
   "metadata": {
    "execution": {
     "iopub.execute_input": "2020-07-16T02:45:16.806810Z",
     "iopub.status.busy": "2020-07-16T02:45:16.806494Z",
     "iopub.status.idle": "2020-07-16T02:45:16.834378Z",
     "shell.execute_reply": "2020-07-16T02:45:16.834685Z"
    },
    "papermill": {
     "duration": 0.067578,
     "end_time": "2020-07-16T02:45:16.834752",
     "exception": false,
     "start_time": "2020-07-16T02:45:16.767174",
     "status": "completed"
    },
    "tags": []
   },
   "outputs": [
    {
     "data": {
      "text/html": [
       "<div>\n",
       "<style scoped>\n",
       "    .dataframe tbody tr th:only-of-type {\n",
       "        vertical-align: middle;\n",
       "    }\n",
       "\n",
       "    .dataframe tbody tr th {\n",
       "        vertical-align: top;\n",
       "    }\n",
       "\n",
       "    .dataframe thead th {\n",
       "        text-align: right;\n",
       "    }\n",
       "</style>\n",
       "<table border=\"1\" class=\"dataframe\">\n",
       "  <thead>\n",
       "    <tr style=\"text-align: right;\">\n",
       "      <th></th>\n",
       "      <th>t1</th>\n",
       "      <th>t2</th>\n",
       "      <th>0</th>\n",
       "      <th>1</th>\n",
       "      <th>phase</th>\n",
       "      <th>pred_phase</th>\n",
       "    </tr>\n",
       "  </thead>\n",
       "  <tbody>\n",
       "    <tr>\n",
       "      <th>count</th>\n",
       "      <td>6561.000000</td>\n",
       "      <td>6.561000e+03</td>\n",
       "      <td>6561.000000</td>\n",
       "      <td>6561.000000</td>\n",
       "      <td>6561.000000</td>\n",
       "      <td>6561.000000</td>\n",
       "    </tr>\n",
       "    <tr>\n",
       "      <th>mean</th>\n",
       "      <td>0.000000</td>\n",
       "      <td>-4.331917e-18</td>\n",
       "      <td>0.467769</td>\n",
       "      <td>0.532231</td>\n",
       "      <td>25.002134</td>\n",
       "      <td>0.531017</td>\n",
       "    </tr>\n",
       "    <tr>\n",
       "      <th>std</th>\n",
       "      <td>1.169134</td>\n",
       "      <td>1.169134e+00</td>\n",
       "      <td>0.435275</td>\n",
       "      <td>0.435275</td>\n",
       "      <td>154.495657</td>\n",
       "      <td>0.499075</td>\n",
       "    </tr>\n",
       "    <tr>\n",
       "      <th>min</th>\n",
       "      <td>-2.000000</td>\n",
       "      <td>-2.000000e+00</td>\n",
       "      <td>0.000000</td>\n",
       "      <td>0.030000</td>\n",
       "      <td>0.000000</td>\n",
       "      <td>0.000000</td>\n",
       "    </tr>\n",
       "    <tr>\n",
       "      <th>25%</th>\n",
       "      <td>-1.000000</td>\n",
       "      <td>-1.000000e+00</td>\n",
       "      <td>0.020000</td>\n",
       "      <td>0.050000</td>\n",
       "      <td>0.000000</td>\n",
       "      <td>0.000000</td>\n",
       "    </tr>\n",
       "    <tr>\n",
       "      <th>50%</th>\n",
       "      <td>0.000000</td>\n",
       "      <td>0.000000e+00</td>\n",
       "      <td>0.370000</td>\n",
       "      <td>0.630000</td>\n",
       "      <td>1.000000</td>\n",
       "      <td>1.000000</td>\n",
       "    </tr>\n",
       "    <tr>\n",
       "      <th>75%</th>\n",
       "      <td>1.000000</td>\n",
       "      <td>1.000000e+00</td>\n",
       "      <td>0.950000</td>\n",
       "      <td>0.980000</td>\n",
       "      <td>1.000000</td>\n",
       "      <td>1.000000</td>\n",
       "    </tr>\n",
       "    <tr>\n",
       "      <th>max</th>\n",
       "      <td>2.000000</td>\n",
       "      <td>2.000000e+00</td>\n",
       "      <td>0.970000</td>\n",
       "      <td>1.000000</td>\n",
       "      <td>999.000000</td>\n",
       "      <td>1.000000</td>\n",
       "    </tr>\n",
       "  </tbody>\n",
       "</table>\n",
       "</div>"
      ],
      "text/plain": [
       "                t1            t2            0            1        phase  \\\n",
       "count  6561.000000  6.561000e+03  6561.000000  6561.000000  6561.000000   \n",
       "mean      0.000000 -4.331917e-18     0.467769     0.532231    25.002134   \n",
       "std       1.169134  1.169134e+00     0.435275     0.435275   154.495657   \n",
       "min      -2.000000 -2.000000e+00     0.000000     0.030000     0.000000   \n",
       "25%      -1.000000 -1.000000e+00     0.020000     0.050000     0.000000   \n",
       "50%       0.000000  0.000000e+00     0.370000     0.630000     1.000000   \n",
       "75%       1.000000  1.000000e+00     0.950000     0.980000     1.000000   \n",
       "max       2.000000  2.000000e+00     0.970000     1.000000   999.000000   \n",
       "\n",
       "        pred_phase  \n",
       "count  6561.000000  \n",
       "mean      0.531017  \n",
       "std       0.499075  \n",
       "min       0.000000  \n",
       "25%       0.000000  \n",
       "50%       1.000000  \n",
       "75%       1.000000  \n",
       "max       1.000000  "
      ]
     },
     "execution_count": 32,
     "metadata": {},
     "output_type": "execute_result"
    }
   ],
   "source": [
    "ham_summary.describe()"
   ]
  },
  {
   "cell_type": "code",
   "execution_count": 33,
   "metadata": {
    "execution": {
     "iopub.execute_input": "2020-07-16T02:45:16.917142Z",
     "iopub.status.busy": "2020-07-16T02:45:16.916829Z",
     "iopub.status.idle": "2020-07-16T02:45:16.976138Z",
     "shell.execute_reply": "2020-07-16T02:45:16.977028Z"
    },
    "papermill": {
     "duration": 0.104017,
     "end_time": "2020-07-16T02:45:16.977193",
     "exception": false,
     "start_time": "2020-07-16T02:45:16.873176",
     "status": "completed"
    },
    "tags": []
   },
   "outputs": [
    {
     "name": "stdout",
     "output_type": "stream",
     "text": [
      "length of ham_summary:  656100\n"
     ]
    },
    {
     "data": {
      "text/html": [
       "<div>\n",
       "<style scoped>\n",
       "    .dataframe tbody tr th:only-of-type {\n",
       "        vertical-align: middle;\n",
       "    }\n",
       "\n",
       "    .dataframe tbody tr th {\n",
       "        vertical-align: top;\n",
       "    }\n",
       "\n",
       "    .dataframe thead th {\n",
       "        text-align: right;\n",
       "    }\n",
       "</style>\n",
       "<table border=\"1\" class=\"dataframe\">\n",
       "  <thead>\n",
       "    <tr style=\"text-align: right;\">\n",
       "      <th></th>\n",
       "      <th>id</th>\n",
       "      <th>phase</th>\n",
       "      <th>pred_phase</th>\n",
       "      <th>type_of</th>\n",
       "    </tr>\n",
       "  </thead>\n",
       "  <tbody>\n",
       "    <tr>\n",
       "      <th>0</th>\n",
       "      <td>0</td>\n",
       "      <td>999</td>\n",
       "      <td>1</td>\n",
       "      <td>test</td>\n",
       "    </tr>\n",
       "    <tr>\n",
       "      <th>1</th>\n",
       "      <td>0</td>\n",
       "      <td>999</td>\n",
       "      <td>0</td>\n",
       "      <td>test</td>\n",
       "    </tr>\n",
       "    <tr>\n",
       "      <th>2</th>\n",
       "      <td>0</td>\n",
       "      <td>999</td>\n",
       "      <td>0</td>\n",
       "      <td>test</td>\n",
       "    </tr>\n",
       "    <tr>\n",
       "      <th>3</th>\n",
       "      <td>0</td>\n",
       "      <td>999</td>\n",
       "      <td>0</td>\n",
       "      <td>test</td>\n",
       "    </tr>\n",
       "    <tr>\n",
       "      <th>4</th>\n",
       "      <td>0</td>\n",
       "      <td>999</td>\n",
       "      <td>1</td>\n",
       "      <td>test</td>\n",
       "    </tr>\n",
       "    <tr>\n",
       "      <th>...</th>\n",
       "      <td>...</td>\n",
       "      <td>...</td>\n",
       "      <td>...</td>\n",
       "      <td>...</td>\n",
       "    </tr>\n",
       "    <tr>\n",
       "      <th>656095</th>\n",
       "      <td>6560</td>\n",
       "      <td>999</td>\n",
       "      <td>1</td>\n",
       "      <td>test</td>\n",
       "    </tr>\n",
       "    <tr>\n",
       "      <th>656096</th>\n",
       "      <td>6560</td>\n",
       "      <td>999</td>\n",
       "      <td>0</td>\n",
       "      <td>test</td>\n",
       "    </tr>\n",
       "    <tr>\n",
       "      <th>656097</th>\n",
       "      <td>6560</td>\n",
       "      <td>999</td>\n",
       "      <td>0</td>\n",
       "      <td>test</td>\n",
       "    </tr>\n",
       "    <tr>\n",
       "      <th>656098</th>\n",
       "      <td>6560</td>\n",
       "      <td>999</td>\n",
       "      <td>1</td>\n",
       "      <td>test</td>\n",
       "    </tr>\n",
       "    <tr>\n",
       "      <th>656099</th>\n",
       "      <td>6560</td>\n",
       "      <td>999</td>\n",
       "      <td>1</td>\n",
       "      <td>test</td>\n",
       "    </tr>\n",
       "  </tbody>\n",
       "</table>\n",
       "<p>656100 rows × 4 columns</p>\n",
       "</div>"
      ],
      "text/plain": [
       "          id  phase  pred_phase type_of\n",
       "0          0    999           1    test\n",
       "1          0    999           0    test\n",
       "2          0    999           0    test\n",
       "3          0    999           0    test\n",
       "4          0    999           1    test\n",
       "...      ...    ...         ...     ...\n",
       "656095  6560    999           1    test\n",
       "656096  6560    999           0    test\n",
       "656097  6560    999           0    test\n",
       "656098  6560    999           1    test\n",
       "656099  6560    999           1    test\n",
       "\n",
       "[656100 rows x 4 columns]"
      ]
     },
     "execution_count": 33,
     "metadata": {},
     "output_type": "execute_result"
    }
   ],
   "source": [
    "eigen_summary = simulation.eigenvector_summary\n",
    "print(\"length of ham_summary: \", len(eigen_summary))\n",
    "eigen_summary"
   ]
  },
  {
   "cell_type": "markdown",
   "metadata": {
    "papermill": {
     "duration": 0.042637,
     "end_time": "2020-07-16T02:45:17.069299",
     "exception": false,
     "start_time": "2020-07-16T02:45:17.026662",
     "status": "completed"
    },
    "tags": []
   },
   "source": [
    "#### Checking accuracies"
   ]
  },
  {
   "cell_type": "code",
   "execution_count": 34,
   "metadata": {
    "execution": {
     "iopub.execute_input": "2020-07-16T02:45:17.150923Z",
     "iopub.status.busy": "2020-07-16T02:45:17.150424Z",
     "iopub.status.idle": "2020-07-16T02:45:17.160907Z",
     "shell.execute_reply": "2020-07-16T02:45:17.160586Z"
    },
    "papermill": {
     "duration": 0.05077,
     "end_time": "2020-07-16T02:45:17.160959",
     "exception": false,
     "start_time": "2020-07-16T02:45:17.110189",
     "status": "completed"
    },
    "tags": []
   },
   "outputs": [
    {
     "data": {
      "text/plain": [
       "{'eigenvector_train': 0.9658453237410072,\n",
       " 'eigenvector_val': 0.949418,\n",
       " 'eigenvector_test': 0.7012203791469195,\n",
       " 'hamiltonian_train': 0.9838129496402878,\n",
       " 'hamiltonian_val': 0.9858,\n",
       " 'hamiltonian_test': 0.9490521327014217}"
      ]
     },
     "execution_count": 34,
     "metadata": {},
     "output_type": "execute_result"
    }
   ],
   "source": [
    "simulation.accuracy"
   ]
  },
  {
   "cell_type": "markdown",
   "metadata": {
    "papermill": {
     "duration": 0.040431,
     "end_time": "2020-07-16T02:45:17.240061",
     "exception": false,
     "start_time": "2020-07-16T02:45:17.199630",
     "status": "completed"
    },
    "tags": []
   },
   "source": [
    "#### Checking data stored in  memory"
   ]
  },
  {
   "cell_type": "code",
   "execution_count": 35,
   "metadata": {
    "execution": {
     "iopub.execute_input": "2020-07-16T02:45:17.319718Z",
     "iopub.status.busy": "2020-07-16T02:45:17.319223Z",
     "iopub.status.idle": "2020-07-16T02:45:17.329778Z",
     "shell.execute_reply": "2020-07-16T02:45:17.329462Z"
    },
    "papermill": {
     "duration": 0.050316,
     "end_time": "2020-07-16T02:45:17.329830",
     "exception": false,
     "start_time": "2020-07-16T02:45:17.279514",
     "status": "completed"
    },
    "tags": []
   },
   "outputs": [
    {
     "data": {
      "text/plain": [
       "[]"
      ]
     },
     "execution_count": 35,
     "metadata": {},
     "output_type": "execute_result"
    }
   ],
   "source": [
    "ham_summary_list = simulation.hamiltonian_summary_list\n",
    "ham_summary_list"
   ]
  },
  {
   "cell_type": "code",
   "execution_count": 36,
   "metadata": {
    "execution": {
     "iopub.execute_input": "2020-07-16T02:45:17.409489Z",
     "iopub.status.busy": "2020-07-16T02:45:17.409155Z",
     "iopub.status.idle": "2020-07-16T02:45:17.419043Z",
     "shell.execute_reply": "2020-07-16T02:45:17.419345Z"
    },
    "papermill": {
     "duration": 0.050963,
     "end_time": "2020-07-16T02:45:17.419413",
     "exception": false,
     "start_time": "2020-07-16T02:45:17.368450",
     "status": "completed"
    },
    "tags": []
   },
   "outputs": [
    {
     "data": {
      "text/plain": [
       "[]"
      ]
     },
     "execution_count": 36,
     "metadata": {},
     "output_type": "execute_result"
    }
   ],
   "source": [
    "eigen_summary_list = simulation.eigenvector_summary_list\n",
    "eigen_summary_list"
   ]
  },
  {
   "cell_type": "code",
   "execution_count": 37,
   "metadata": {
    "execution": {
     "iopub.execute_input": "2020-07-16T02:45:17.498801Z",
     "iopub.status.busy": "2020-07-16T02:45:17.498493Z",
     "iopub.status.idle": "2020-07-16T02:45:17.508422Z",
     "shell.execute_reply": "2020-07-16T02:45:17.508725Z"
    },
    "papermill": {
     "duration": 0.05019,
     "end_time": "2020-07-16T02:45:17.508790",
     "exception": false,
     "start_time": "2020-07-16T02:45:17.458600",
     "status": "completed"
    },
    "tags": []
   },
   "outputs": [
    {
     "data": {
      "text/plain": [
       "{'eigenvector_train': [],\n",
       " 'eigenvector_val': [],\n",
       " 'eigenvector_test': [],\n",
       " 'hamiltonian_train': [],\n",
       " 'hamiltonian_val': [],\n",
       " 'hamiltonian_test': []}"
      ]
     },
     "execution_count": 37,
     "metadata": {},
     "output_type": "execute_result"
    }
   ],
   "source": [
    "accuracy_list = simulation.accuracy_list\n",
    "accuracy_list"
   ]
  },
  {
   "cell_type": "code",
   "execution_count": null,
   "metadata": {
    "papermill": {
     "duration": 0.03904,
     "end_time": "2020-07-16T02:45:17.586834",
     "exception": false,
     "start_time": "2020-07-16T02:45:17.547794",
     "status": "completed"
    },
    "tags": []
   },
   "outputs": [],
   "source": []
  },
  {
   "cell_type": "code",
   "execution_count": null,
   "metadata": {
    "papermill": {
     "duration": 0.038906,
     "end_time": "2020-07-16T02:45:17.665193",
     "exception": false,
     "start_time": "2020-07-16T02:45:17.626287",
     "status": "completed"
    },
    "tags": []
   },
   "outputs": [],
   "source": []
  },
  {
   "cell_type": "code",
   "execution_count": 38,
   "metadata": {
    "execution": {
     "iopub.execute_input": "2020-07-16T02:45:17.744796Z",
     "iopub.status.busy": "2020-07-16T02:45:17.744466Z",
     "iopub.status.idle": "2020-07-16T02:45:17.754167Z",
     "shell.execute_reply": "2020-07-16T02:45:17.753835Z"
    },
    "papermill": {
     "duration": 0.050076,
     "end_time": "2020-07-16T02:45:17.754222",
     "exception": false,
     "start_time": "2020-07-16T02:45:17.704146",
     "status": "completed"
    },
    "tags": []
   },
   "outputs": [],
   "source": [
    "#simulation.fourier_matrix"
   ]
  },
  {
   "cell_type": "code",
   "execution_count": 39,
   "metadata": {
    "execution": {
     "iopub.execute_input": "2020-07-16T02:45:17.833475Z",
     "iopub.status.busy": "2020-07-16T02:45:17.833169Z",
     "iopub.status.idle": "2020-07-16T02:45:17.842478Z",
     "shell.execute_reply": "2020-07-16T02:45:17.842730Z"
    },
    "papermill": {
     "duration": 0.049903,
     "end_time": "2020-07-16T02:45:17.842799",
     "exception": false,
     "start_time": "2020-07-16T02:45:17.792896",
     "status": "completed"
    },
    "tags": []
   },
   "outputs": [],
   "source": [
    "#simulation.fourier_matrix.shape"
   ]
  },
  {
   "cell_type": "code",
   "execution_count": 40,
   "metadata": {
    "execution": {
     "iopub.execute_input": "2020-07-16T02:45:17.924331Z",
     "iopub.status.busy": "2020-07-16T02:45:17.924000Z",
     "iopub.status.idle": "2020-07-16T02:45:17.933534Z",
     "shell.execute_reply": "2020-07-16T02:45:17.933808Z"
    },
    "papermill": {
     "duration": 0.052001,
     "end_time": "2020-07-16T02:45:17.933882",
     "exception": false,
     "start_time": "2020-07-16T02:45:17.881881",
     "status": "completed"
    },
    "tags": []
   },
   "outputs": [],
   "source": [
    "#simulation.fourier_matrix[:,0]"
   ]
  },
  {
   "cell_type": "code",
   "execution_count": 41,
   "metadata": {
    "execution": {
     "iopub.execute_input": "2020-07-16T02:45:18.012691Z",
     "iopub.status.busy": "2020-07-16T02:45:18.012373Z",
     "iopub.status.idle": "2020-07-16T02:45:18.021849Z",
     "shell.execute_reply": "2020-07-16T02:45:18.021577Z"
    },
    "papermill": {
     "duration": 0.049496,
     "end_time": "2020-07-16T02:45:18.021903",
     "exception": false,
     "start_time": "2020-07-16T02:45:17.972407",
     "status": "completed"
    },
    "tags": []
   },
   "outputs": [],
   "source": [
    "#simulation.fourier_matrix[:,1]"
   ]
  },
  {
   "cell_type": "code",
   "execution_count": 42,
   "metadata": {
    "execution": {
     "iopub.execute_input": "2020-07-16T02:45:18.102487Z",
     "iopub.status.busy": "2020-07-16T02:45:18.102178Z",
     "iopub.status.idle": "2020-07-16T02:45:18.111831Z",
     "shell.execute_reply": "2020-07-16T02:45:18.111555Z"
    },
    "papermill": {
     "duration": 0.050834,
     "end_time": "2020-07-16T02:45:18.111888",
     "exception": false,
     "start_time": "2020-07-16T02:45:18.061054",
     "status": "completed"
    },
    "tags": []
   },
   "outputs": [],
   "source": [
    "#np.exp(-1j*2*np.pi*3/100)"
   ]
  },
  {
   "cell_type": "code",
   "execution_count": 43,
   "metadata": {
    "execution": {
     "iopub.execute_input": "2020-07-16T02:45:18.191496Z",
     "iopub.status.busy": "2020-07-16T02:45:18.191183Z",
     "iopub.status.idle": "2020-07-16T02:45:18.200708Z",
     "shell.execute_reply": "2020-07-16T02:45:18.200371Z"
    },
    "papermill": {
     "duration": 0.04938,
     "end_time": "2020-07-16T02:45:18.200762",
     "exception": false,
     "start_time": "2020-07-16T02:45:18.151382",
     "status": "completed"
    },
    "tags": []
   },
   "outputs": [],
   "source": [
    "#for i in range(1,50):\n",
    "#    print(\"\\n\")\n",
    "#    print(i)\n",
    "#    print(np.sum((np.real(simulation.fourier_matrix[:,i]) - np.real(simulation.fourier_matrix[:,-i]))**2))\n",
    "#    print(np.sum((np.imag(simulation.fourier_matrix[:,i])+ np.imag(simulation.fourier_matrix[:,-i]))**2))"
   ]
  },
  {
   "cell_type": "code",
   "execution_count": 44,
   "metadata": {
    "execution": {
     "iopub.execute_input": "2020-07-16T02:45:18.284774Z",
     "iopub.status.busy": "2020-07-16T02:45:18.284462Z",
     "iopub.status.idle": "2020-07-16T02:45:18.315903Z",
     "shell.execute_reply": "2020-07-16T02:45:18.314488Z"
    },
    "papermill": {
     "duration": 0.076126,
     "end_time": "2020-07-16T02:45:18.316106",
     "exception": false,
     "start_time": "2020-07-16T02:45:18.239980",
     "status": "completed"
    },
    "tags": []
   },
   "outputs": [],
   "source": [
    "#print(simulation.fourier_matrix[:,0])"
   ]
  },
  {
   "cell_type": "code",
   "execution_count": 45,
   "metadata": {
    "execution": {
     "iopub.execute_input": "2020-07-16T02:45:18.422837Z",
     "iopub.status.busy": "2020-07-16T02:45:18.422530Z",
     "iopub.status.idle": "2020-07-16T02:45:18.432904Z",
     "shell.execute_reply": "2020-07-16T02:45:18.432579Z"
    },
    "papermill": {
     "duration": 0.050273,
     "end_time": "2020-07-16T02:45:18.432959",
     "exception": false,
     "start_time": "2020-07-16T02:45:18.382686",
     "status": "completed"
    },
    "tags": []
   },
   "outputs": [],
   "source": [
    "#print(simulation.fourier_matrix[:,50])"
   ]
  },
  {
   "cell_type": "code",
   "execution_count": null,
   "metadata": {
    "papermill": {
     "duration": 0.038839,
     "end_time": "2020-07-16T02:45:18.511117",
     "exception": false,
     "start_time": "2020-07-16T02:45:18.472278",
     "status": "completed"
    },
    "tags": []
   },
   "outputs": [],
   "source": []
  }
 ],
 "metadata": {
  "celltoolbar": "Tags",
  "kernelspec": {
   "display_name": "ml_top_phases",
   "language": "python",
   "name": "ml_top_phases"
  },
  "language_info": {
   "codemirror_mode": {
    "name": "ipython",
    "version": 3
   },
   "file_extension": ".py",
   "mimetype": "text/x-python",
   "name": "python",
   "nbconvert_exporter": "python",
   "pygments_lexer": "ipython3",
   "version": "3.6.10"
  },
  "papermill": {
   "duration": 181.316493,
   "end_time": "2020-07-16T02:45:18.664892",
   "environment_variables": {},
   "exception": null,
   "input_path": "0_simulation_template.ipynb",
   "output_path": "zzz_simulation_output_ssh1_7th_scenario_100_6561.ipynb",
   "parameters": {
    "allowed_windings": [
     0,
     1
    ],
    "csv_path": "/home/rio/ssh_csvs/ssh1/periodic_100_6561.csv",
    "features_to_use": [
     0,
     1,
     2,
     3,
     49,
     50
    ],
    "fit_params": null,
    "fourier_features_to_use": [
     15,
     18,
     19,
     28,
     30,
     35
    ],
    "fourier_fillna": false,
    "fourier_mode": "dst",
    "fourier_normalize": false,
    "fourier_real": "imag",
    "model_kw": {
     "criterion": "entropy"
    },
    "model_name": "DecisionTreeClassifier",
    "n_experiments": 100,
    "pred_params": null,
    "random_features": false,
    "random_state": 34896,
    "save_accuracy": true,
    "save_eigenvector": true,
    "save_hamiltonian": true,
    "save_models": true,
    "shuffle_features": false,
    "shuffle_rows": true,
    "simulation_dir": "/home/rio/ssh_simulations/ssh1/periodic_7th_scenario_100_6561",
    "start_n": 0,
    "store_in_lists": false,
    "val_split": 0.9
   },
   "start_time": "2020-07-16T02:42:17.348399",
   "version": "2.1.0"
  }
 },
 "nbformat": 4,
 "nbformat_minor": 2
}