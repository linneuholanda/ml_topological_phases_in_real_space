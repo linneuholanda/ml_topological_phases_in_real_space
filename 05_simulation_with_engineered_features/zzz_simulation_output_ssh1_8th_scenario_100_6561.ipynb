{
 "cells": [
  {
   "cell_type": "markdown",
   "metadata": {
    "papermill": {
     "duration": 0.020344,
     "end_time": "2020-07-16T03:06:50.566515",
     "exception": false,
     "start_time": "2020-07-16T03:06:50.546171",
     "status": "completed"
    },
    "tags": []
   },
   "source": [
    "# Simulation template \n",
    "\n",
    "In this notebook we run the machine learning analysis of topological phase transitions occurring  in both nearest-neighbours SSH models (ssh1) and second neighbours models (ssh2) as decribed in the paper [Machine learning topological phases in real space](https://arxiv.org/abs/1901.01963). Here the simulation is run with features generated from fourier components in the first scenario. This scenario is characterized by using only the EVEN wavevector space eigenmodes, computed from ALL real space components."
   ]
  },
  {
   "cell_type": "markdown",
   "metadata": {
    "papermill": {
     "duration": 0.016039,
     "end_time": "2020-07-16T03:06:50.599340",
     "exception": false,
     "start_time": "2020-07-16T03:06:50.583301",
     "status": "completed"
    },
    "tags": []
   },
   "source": [
    "## Defining parameters"
   ]
  },
  {
   "cell_type": "code",
   "execution_count": 1,
   "metadata": {
    "execution": {
     "iopub.execute_input": "2020-07-16T03:06:50.636508Z",
     "iopub.status.busy": "2020-07-16T03:06:50.636127Z",
     "iopub.status.idle": "2020-07-16T03:06:51.219039Z",
     "shell.execute_reply": "2020-07-16T03:06:51.218719Z"
    },
    "papermill": {
     "duration": 0.603432,
     "end_time": "2020-07-16T03:06:51.219097",
     "exception": false,
     "start_time": "2020-07-16T03:06:50.615665",
     "status": "completed"
    },
    "tags": []
   },
   "outputs": [
    {
     "name": "stdout",
     "output_type": "stream",
     "text": [
      "CPU times: user 771 ms, sys: 245 ms, total: 1.02 s\n",
      "Wall time: 576 ms\n"
     ]
    }
   ],
   "source": [
    "%%time\n",
    "%load_ext autoreload\n",
    "%autoreload 2\n",
    "from simulation import *"
   ]
  },
  {
   "cell_type": "code",
   "execution_count": 2,
   "metadata": {
    "execution": {
     "iopub.execute_input": "2020-07-16T03:06:51.254751Z",
     "iopub.status.busy": "2020-07-16T03:06:51.254403Z",
     "iopub.status.idle": "2020-07-16T03:06:51.265295Z",
     "shell.execute_reply": "2020-07-16T03:06:51.264922Z"
    },
    "papermill": {
     "duration": 0.029302,
     "end_time": "2020-07-16T03:06:51.265366",
     "exception": false,
     "start_time": "2020-07-16T03:06:51.236064",
     "status": "completed"
    },
    "tags": [
     "parameters"
    ]
   },
   "outputs": [
    {
     "name": "stdout",
     "output_type": "stream",
     "text": [
      "CPU times: user 3 µs, sys: 0 ns, total: 3 µs\n",
      "Wall time: 5.01 µs\n"
     ]
    }
   ],
   "source": [
    "%%time\n",
    "### Dataset and simulation parameters\n",
    "#csv_path = SSH2_PERIODIC_100_6561_CSV \n",
    "csv_path = SSH1_PERIODIC_100_6561_CSV \n",
    "model_name = \"DecisionTreeClassifier\"\n",
    "model_kw = {\"criterion\":\"entropy\"}\n",
    "allowed_windings = [0,1]\n",
    "#allowed_windings = [-1,0,1,2]\n",
    "simulation_dir = SSH1_PERIODIC_1ST_SCENARIO_100_6561_SIMULATION_DIR\n",
    "#simulation_dir = SSH2_PERIODIC_ENGINEERED_100_6561_SIMULATION_DIR\n",
    "val_split = 0.9  \n",
    "features_to_use = None\n",
    "shuffle_features = False\n",
    "random_state = 763\n",
    "\n",
    "### Fourier features\n",
    "fourier_mode = \"dst\"\n",
    "fourier_features_to_use = None\n",
    "fourier_real = \"imag\"\n",
    "fourier_normalize = False\n",
    "fourier_fillna = False\n",
    "\n",
    "### Running a simulation\n",
    "n_experiments = 5\n",
    "start_n = 0\n",
    "fit_params = None\n",
    "#mode=mode\n",
    "shuffle_rows = True\n",
    "pred_params = None\n",
    "random_features = False\n",
    "######### DON'T SET THIS TO TRUE UNLESS YOUR DATASET IS SMALL!! WILL FLOOD YOUR MEMORY!!!\n",
    "store_in_lists = False   \n",
    "########## BELOW ARE THE PARAMETERS THAT CONTROL WHAT WILL BE SAVED\n",
    "save_eigenvector=True\n",
    "save_hamiltonian=True \n",
    "save_accuracy=True \n",
    "save_models=True"
   ]
  },
  {
   "cell_type": "code",
   "execution_count": 3,
   "metadata": {
    "execution": {
     "iopub.execute_input": "2020-07-16T03:06:51.302293Z",
     "iopub.status.busy": "2020-07-16T03:06:51.301975Z",
     "iopub.status.idle": "2020-07-16T03:06:51.396593Z",
     "shell.execute_reply": "2020-07-16T03:06:51.394811Z"
    },
    "papermill": {
     "duration": 0.114779,
     "end_time": "2020-07-16T03:06:51.396850",
     "exception": false,
     "start_time": "2020-07-16T03:06:51.282071",
     "status": "completed"
    },
    "tags": [
     "injected-parameters"
    ]
   },
   "outputs": [],
   "source": [
    "# Parameters\n",
    "model_kw = {\"criterion\": \"entropy\"}\n",
    "allowed_windings = [0, 1]\n",
    "val_split = 0.9\n",
    "features_to_use = [0, 1, 3, 50]\n",
    "shuffle_features = False\n",
    "n_experiments = 100\n",
    "start_n = 0\n",
    "fit_params = None\n",
    "shuffle_rows = True\n",
    "pred_params = None\n",
    "random_features = False\n",
    "store_in_lists = False\n",
    "save_eigenvector = True\n",
    "save_hamiltonian = True\n",
    "save_accuracy = True\n",
    "save_models = True\n",
    "csv_path = \"/home/rio/ssh_csvs/ssh1/periodic_100_6561.csv\"\n",
    "model_name = \"DecisionTreeClassifier\"\n",
    "simulation_dir = \"/home/rio/ssh_simulations/ssh1/periodic_8th_scenario_100_6561\"\n",
    "random_state = 4303546\n",
    "fourier_features_to_use = [15, 18, 28, 30]\n",
    "fourier_mode = \"dst\"\n",
    "fourier_real = \"imag\"\n",
    "fourier_normalize = False\n",
    "fourier_fillna = False\n"
   ]
  },
  {
   "cell_type": "code",
   "execution_count": 4,
   "metadata": {
    "execution": {
     "iopub.execute_input": "2020-07-16T03:06:51.470221Z",
     "iopub.status.busy": "2020-07-16T03:06:51.469675Z",
     "iopub.status.idle": "2020-07-16T03:06:56.849365Z",
     "shell.execute_reply": "2020-07-16T03:06:56.849045Z"
    },
    "papermill": {
     "duration": 5.40075,
     "end_time": "2020-07-16T03:06:56.849418",
     "exception": false,
     "start_time": "2020-07-16T03:06:51.448668",
     "status": "completed"
    },
    "tags": []
   },
   "outputs": [
    {
     "name": "stdout",
     "output_type": "stream",
     "text": [
      "Info on all data: \n",
      "\n",
      "<class 'pandas.core.frame.DataFrame'>\n",
      "Int64Index: 656100 entries, 0 to 656099\n",
      "Columns: 108 entries, id to feat99\n",
      "dtypes: float64(103), int32(3), object(2)\n",
      "memory usage: 538.1+ MB\n",
      "CPU times: user 5.33 s, sys: 492 ms, total: 5.82 s\n",
      "Wall time: 5.35 s\n"
     ]
    },
    {
     "data": {
      "text/html": [
       "<div>\n",
       "<style scoped>\n",
       "    .dataframe tbody tr th:only-of-type {\n",
       "        vertical-align: middle;\n",
       "    }\n",
       "\n",
       "    .dataframe tbody tr th {\n",
       "        vertical-align: top;\n",
       "    }\n",
       "\n",
       "    .dataframe thead th {\n",
       "        text-align: right;\n",
       "    }\n",
       "</style>\n",
       "<table border=\"1\" class=\"dataframe\">\n",
       "  <thead>\n",
       "    <tr style=\"text-align: right;\">\n",
       "      <th></th>\n",
       "      <th>id</th>\n",
       "      <th>path</th>\n",
       "      <th>t1</th>\n",
       "      <th>t2</th>\n",
       "      <th>winding</th>\n",
       "      <th>phase</th>\n",
       "      <th>pred_phase</th>\n",
       "      <th>type_of</th>\n",
       "      <th>feat0</th>\n",
       "      <th>feat1</th>\n",
       "      <th>...</th>\n",
       "      <th>feat90</th>\n",
       "      <th>feat91</th>\n",
       "      <th>feat92</th>\n",
       "      <th>feat93</th>\n",
       "      <th>feat94</th>\n",
       "      <th>feat95</th>\n",
       "      <th>feat96</th>\n",
       "      <th>feat97</th>\n",
       "      <th>feat98</th>\n",
       "      <th>feat99</th>\n",
       "    </tr>\n",
       "  </thead>\n",
       "  <tbody>\n",
       "    <tr>\n",
       "      <th>0</th>\n",
       "      <td>0</td>\n",
       "      <td>H_-2_-2_0.509296.dat</td>\n",
       "      <td>-2.0</td>\n",
       "      <td>-2.0</td>\n",
       "      <td>0.509296</td>\n",
       "      <td>999</td>\n",
       "      <td>666</td>\n",
       "      <td>test</td>\n",
       "      <td>0.100000</td>\n",
       "      <td>0.100000</td>\n",
       "      <td>...</td>\n",
       "      <td>0.100000</td>\n",
       "      <td>0.100000</td>\n",
       "      <td>0.100000</td>\n",
       "      <td>0.100000</td>\n",
       "      <td>0.100000</td>\n",
       "      <td>0.100000</td>\n",
       "      <td>0.100000</td>\n",
       "      <td>0.100000</td>\n",
       "      <td>0.100000</td>\n",
       "      <td>0.100000</td>\n",
       "    </tr>\n",
       "    <tr>\n",
       "      <th>1</th>\n",
       "      <td>0</td>\n",
       "      <td>H_-2_-2_0.509296.dat</td>\n",
       "      <td>-2.0</td>\n",
       "      <td>-2.0</td>\n",
       "      <td>0.509296</td>\n",
       "      <td>999</td>\n",
       "      <td>666</td>\n",
       "      <td>test</td>\n",
       "      <td>0.141421</td>\n",
       "      <td>0.141142</td>\n",
       "      <td>...</td>\n",
       "      <td>0.114412</td>\n",
       "      <td>0.108967</td>\n",
       "      <td>0.123928</td>\n",
       "      <td>0.119406</td>\n",
       "      <td>0.131490</td>\n",
       "      <td>0.127962</td>\n",
       "      <td>0.136978</td>\n",
       "      <td>0.134500</td>\n",
       "      <td>0.140306</td>\n",
       "      <td>0.138916</td>\n",
       "    </tr>\n",
       "    <tr>\n",
       "      <th>2</th>\n",
       "      <td>0</td>\n",
       "      <td>H_-2_-2_0.509296.dat</td>\n",
       "      <td>-2.0</td>\n",
       "      <td>-2.0</td>\n",
       "      <td>0.509296</td>\n",
       "      <td>999</td>\n",
       "      <td>666</td>\n",
       "      <td>test</td>\n",
       "      <td>0.141421</td>\n",
       "      <td>0.140306</td>\n",
       "      <td>...</td>\n",
       "      <td>0.043702</td>\n",
       "      <td>0.026500</td>\n",
       "      <td>0.075777</td>\n",
       "      <td>0.060214</td>\n",
       "      <td>0.103092</td>\n",
       "      <td>0.090145</td>\n",
       "      <td>0.123928</td>\n",
       "      <td>0.114412</td>\n",
       "      <td>0.136978</td>\n",
       "      <td>0.131490</td>\n",
       "    </tr>\n",
       "    <tr>\n",
       "      <th>3</th>\n",
       "      <td>0</td>\n",
       "      <td>H_-2_-2_0.509296.dat</td>\n",
       "      <td>-2.0</td>\n",
       "      <td>-2.0</td>\n",
       "      <td>0.509296</td>\n",
       "      <td>999</td>\n",
       "      <td>666</td>\n",
       "      <td>test</td>\n",
       "      <td>-0.100000</td>\n",
       "      <td>0.100000</td>\n",
       "      <td>...</td>\n",
       "      <td>-0.100000</td>\n",
       "      <td>0.100000</td>\n",
       "      <td>-0.100000</td>\n",
       "      <td>0.100000</td>\n",
       "      <td>-0.100000</td>\n",
       "      <td>0.100000</td>\n",
       "      <td>-0.100000</td>\n",
       "      <td>0.100000</td>\n",
       "      <td>-0.100000</td>\n",
       "      <td>0.100000</td>\n",
       "    </tr>\n",
       "    <tr>\n",
       "      <th>4</th>\n",
       "      <td>0</td>\n",
       "      <td>H_-2_-2_0.509296.dat</td>\n",
       "      <td>-2.0</td>\n",
       "      <td>-2.0</td>\n",
       "      <td>0.509296</td>\n",
       "      <td>999</td>\n",
       "      <td>666</td>\n",
       "      <td>test</td>\n",
       "      <td>0.000509</td>\n",
       "      <td>-0.008372</td>\n",
       "      <td>...</td>\n",
       "      <td>-0.082713</td>\n",
       "      <td>-0.089753</td>\n",
       "      <td>-0.067684</td>\n",
       "      <td>-0.075347</td>\n",
       "      <td>-0.051587</td>\n",
       "      <td>-0.059753</td>\n",
       "      <td>-0.034677</td>\n",
       "      <td>-0.043217</td>\n",
       "      <td>-0.017220</td>\n",
       "      <td>-0.026000</td>\n",
       "    </tr>\n",
       "  </tbody>\n",
       "</table>\n",
       "<p>5 rows × 108 columns</p>\n",
       "</div>"
      ],
      "text/plain": [
       "   id                  path   t1   t2   winding  phase  pred_phase type_of  \\\n",
       "0   0  H_-2_-2_0.509296.dat -2.0 -2.0  0.509296    999         666    test   \n",
       "1   0  H_-2_-2_0.509296.dat -2.0 -2.0  0.509296    999         666    test   \n",
       "2   0  H_-2_-2_0.509296.dat -2.0 -2.0  0.509296    999         666    test   \n",
       "3   0  H_-2_-2_0.509296.dat -2.0 -2.0  0.509296    999         666    test   \n",
       "4   0  H_-2_-2_0.509296.dat -2.0 -2.0  0.509296    999         666    test   \n",
       "\n",
       "      feat0     feat1  ...    feat90    feat91    feat92    feat93    feat94  \\\n",
       "0  0.100000  0.100000  ...  0.100000  0.100000  0.100000  0.100000  0.100000   \n",
       "1  0.141421  0.141142  ...  0.114412  0.108967  0.123928  0.119406  0.131490   \n",
       "2  0.141421  0.140306  ...  0.043702  0.026500  0.075777  0.060214  0.103092   \n",
       "3 -0.100000  0.100000  ... -0.100000  0.100000 -0.100000  0.100000 -0.100000   \n",
       "4  0.000509 -0.008372  ... -0.082713 -0.089753 -0.067684 -0.075347 -0.051587   \n",
       "\n",
       "     feat95    feat96    feat97    feat98    feat99  \n",
       "0  0.100000  0.100000  0.100000  0.100000  0.100000  \n",
       "1  0.127962  0.136978  0.134500  0.140306  0.138916  \n",
       "2  0.090145  0.123928  0.114412  0.136978  0.131490  \n",
       "3  0.100000 -0.100000  0.100000 -0.100000  0.100000  \n",
       "4 -0.059753 -0.034677 -0.043217 -0.017220 -0.026000  \n",
       "\n",
       "[5 rows x 108 columns]"
      ]
     },
     "execution_count": 4,
     "metadata": {},
     "output_type": "execute_result"
    }
   ],
   "source": [
    "%%time\n",
    "#Starting an instance of Simulation with a decision tree\n",
    "model = DecisionTreeClassifier(criterion=\"entropy\")\n",
    "#dict_args = {\"csv_path\":csv_path, \"model\":model, \"allowed_windings\":allowed_windings,\\\n",
    "#             \"simulation_dir\":simulation_dir, \"val_split\":val_split, \"features_to_use\":features_to_use,\\\n",
    "#            \"shuffle_features\":shuffle_features, \"random_state\":random_state}\n",
    "simulation = Simulation(csv_path,model_name,model_kw,allowed_windings,simulation_dir,val_split,features_to_use,\\\n",
    "                       shuffle_features,fourier_mode,fourier_features_to_use,fourier_real,\\\n",
    "                       fourier_normalize, fourier_fillna , random_state)\n",
    "#simulation = Simulation(**dict_args)\n",
    "\n",
    "\n",
    "#(self, csv_path, model_name, model_kw, allowed_windings, simulation_dir = None, val_split = 0, \n",
    "# features_to_use = None, shuffle_features = False, fourier_mode=None, fourier_features_to_use=None,\n",
    "# fourier_real = False, fourier_normalize = False, Fourier_fillna=False, random_state = None):\n",
    "\n",
    "\n",
    "\n",
    "print(\"Info on all data: \\n\")\n",
    "simulation.dataframe.info()\n",
    "simulation.dataframe.head()"
   ]
  },
  {
   "cell_type": "markdown",
   "metadata": {
    "papermill": {
     "duration": 0.018043,
     "end_time": "2020-07-16T03:06:56.885249",
     "exception": false,
     "start_time": "2020-07-16T03:06:56.867206",
     "status": "completed"
    },
    "tags": []
   },
   "source": [
    "####  Fourier features"
   ]
  },
  {
   "cell_type": "code",
   "execution_count": 5,
   "metadata": {
    "execution": {
     "iopub.execute_input": "2020-07-16T03:06:56.924509Z",
     "iopub.status.busy": "2020-07-16T03:06:56.924187Z",
     "iopub.status.idle": "2020-07-16T03:06:57.006577Z",
     "shell.execute_reply": "2020-07-16T03:06:57.006259Z"
    },
    "papermill": {
     "duration": 0.100943,
     "end_time": "2020-07-16T03:06:57.006630",
     "exception": false,
     "start_time": "2020-07-16T03:06:56.905687",
     "status": "completed"
    },
    "tags": []
   },
   "outputs": [
    {
     "name": "stdout",
     "output_type": "stream",
     "text": [
      "<class 'pandas.core.frame.DataFrame'>\n",
      "Int64Index: 656100 entries, 0 to 656099\n",
      "Data columns (total 12 columns):\n",
      " #   Column      Non-Null Count   Dtype  \n",
      "---  ------      --------------   -----  \n",
      " 0   id          656100 non-null  int32  \n",
      " 1   path        656100 non-null  object \n",
      " 2   t1          656100 non-null  float64\n",
      " 3   t2          656100 non-null  float64\n",
      " 4   winding     656100 non-null  float64\n",
      " 5   phase       656100 non-null  int32  \n",
      " 6   pred_phase  656100 non-null  int32  \n",
      " 7   type_of     656100 non-null  object \n",
      " 8   dst_feat15  656100 non-null  float64\n",
      " 9   dst_feat18  656100 non-null  float64\n",
      " 10  dst_feat28  656100 non-null  float64\n",
      " 11  dst_feat30  656100 non-null  float64\n",
      "dtypes: float64(7), int32(3), object(2)\n",
      "memory usage: 57.6+ MB\n",
      "CPU times: user 71.3 ms, sys: 383 µs, total: 71.7 ms\n",
      "Wall time: 71.1 ms\n"
     ]
    }
   ],
   "source": [
    "%%time\n",
    "#simulation.generate_fourier_df()\n",
    "if simulation.fourier_mode is not None:\n",
    "    simulation.fourier_dataframe.info() \n",
    "    simulation.fourier_dataframe.sample(15)\n"
   ]
  },
  {
   "cell_type": "code",
   "execution_count": 6,
   "metadata": {
    "execution": {
     "iopub.execute_input": "2020-07-16T03:06:57.046580Z",
     "iopub.status.busy": "2020-07-16T03:06:57.046125Z",
     "iopub.status.idle": "2020-07-16T03:06:57.058520Z",
     "shell.execute_reply": "2020-07-16T03:06:57.058205Z"
    },
    "papermill": {
     "duration": 0.034218,
     "end_time": "2020-07-16T03:06:57.058574",
     "exception": false,
     "start_time": "2020-07-16T03:06:57.024356",
     "status": "completed"
    },
    "tags": []
   },
   "outputs": [
    {
     "name": "stdout",
     "output_type": "stream",
     "text": [
      "features_to_use: \n",
      "\n",
      "\n",
      "[0, 1, 3, 50]\n",
      "Number of real space features:\n",
      "\n",
      "\n",
      "4\n",
      "\n",
      "\n",
      "fourier_features: \n",
      "\n",
      "\n",
      "['dst_feat15', 'dst_feat18', 'dst_feat28', 'dst_feat30']\n",
      "\n",
      "\n",
      "Number of Fourier features: \n",
      "\n",
      "\n",
      "4\n",
      "\n",
      "\n",
      "Fourier operator: \n",
      "[[ 0.+1.68865585j  0.+1.85955297j  0.+1.93716632j  0.+1.85955297j]\n",
      " [ 0.+1.8096541j   0.+1.36909421j -0.-0.96350735j -0.-1.36909421j]\n",
      " [-0.-1.54102649j -0.-1.99605346j  0.+1.68865585j  0.+1.99605346j]]\n",
      "\n",
      "\n",
      "Shape of Fourier operator: \n",
      "(3, 4)\n"
     ]
    }
   ],
   "source": [
    "print(\"features_to_use: \")\n",
    "print(\"\\n\")\n",
    "print(simulation.features_to_use)\n",
    "if simulation.features_to_use is not None:\n",
    "    print(\"Number of real space features:\")\n",
    "    print(\"\\n\")\n",
    "    print(len(simulation.features_to_use))\n",
    "print(\"\\n\")\n",
    "print(\"fourier_features: \")\n",
    "print(\"\\n\")\n",
    "print(simulation.fourier_features)\n",
    "print(\"\\n\")\n",
    "if simulation.fourier_features is not None:\n",
    "    print(\"Number of Fourier features: \")\n",
    "    print(\"\\n\")\n",
    "    print(len(simulation.fourier_features))\n",
    "print(\"\\n\")\n",
    "print(\"Fourier operator: \")\n",
    "print(simulation.fourier_operator)\n",
    "print(\"\\n\")\n",
    "if simulation.fourier_operator is not None:\n",
    "    print(\"Shape of Fourier operator: \")\n",
    "    print(simulation.fourier_operator.shape)"
   ]
  },
  {
   "cell_type": "code",
   "execution_count": 7,
   "metadata": {
    "execution": {
     "iopub.execute_input": "2020-07-16T03:06:57.096250Z",
     "iopub.status.busy": "2020-07-16T03:06:57.095941Z",
     "iopub.status.idle": "2020-07-16T03:06:57.156721Z",
     "shell.execute_reply": "2020-07-16T03:06:57.157209Z"
    },
    "papermill": {
     "duration": 0.081288,
     "end_time": "2020-07-16T03:06:57.157330",
     "exception": false,
     "start_time": "2020-07-16T03:06:57.076042",
     "status": "completed"
    },
    "tags": []
   },
   "outputs": [],
   "source": [
    "#a = np.array([1+1j,2+3j,4+8j])\n",
    "#np.imag(a)"
   ]
  },
  {
   "cell_type": "code",
   "execution_count": 8,
   "metadata": {
    "execution": {
     "iopub.execute_input": "2020-07-16T03:06:57.223536Z",
     "iopub.status.busy": "2020-07-16T03:06:57.223216Z",
     "iopub.status.idle": "2020-07-16T03:06:57.264491Z",
     "shell.execute_reply": "2020-07-16T03:06:57.264167Z"
    },
    "papermill": {
     "duration": 0.065922,
     "end_time": "2020-07-16T03:06:57.264553",
     "exception": false,
     "start_time": "2020-07-16T03:06:57.198631",
     "status": "completed"
    },
    "tags": []
   },
   "outputs": [],
   "source": [
    "#plt.plot(np.imag(simulation.fourier_operator[:,0]))"
   ]
  },
  {
   "cell_type": "code",
   "execution_count": 9,
   "metadata": {
    "execution": {
     "iopub.execute_input": "2020-07-16T03:06:57.303196Z",
     "iopub.status.busy": "2020-07-16T03:06:57.302890Z",
     "iopub.status.idle": "2020-07-16T03:06:57.363555Z",
     "shell.execute_reply": "2020-07-16T03:06:57.361729Z"
    },
    "papermill": {
     "duration": 0.081003,
     "end_time": "2020-07-16T03:06:57.363810",
     "exception": false,
     "start_time": "2020-07-16T03:06:57.282807",
     "status": "completed"
    },
    "tags": []
   },
   "outputs": [],
   "source": [
    "#np.sin(np.pi/(50))*2"
   ]
  },
  {
   "cell_type": "code",
   "execution_count": 10,
   "metadata": {
    "execution": {
     "iopub.execute_input": "2020-07-16T03:06:57.441510Z",
     "iopub.status.busy": "2020-07-16T03:06:57.440948Z",
     "iopub.status.idle": "2020-07-16T03:06:57.450494Z",
     "shell.execute_reply": "2020-07-16T03:06:57.450814Z"
    },
    "papermill": {
     "duration": 0.031373,
     "end_time": "2020-07-16T03:06:57.450884",
     "exception": false,
     "start_time": "2020-07-16T03:06:57.419511",
     "status": "completed"
    },
    "tags": []
   },
   "outputs": [],
   "source": [
    "#2*np.sin(np.pi/50*49)"
   ]
  },
  {
   "cell_type": "code",
   "execution_count": 11,
   "metadata": {
    "execution": {
     "iopub.execute_input": "2020-07-16T03:06:57.488182Z",
     "iopub.status.busy": "2020-07-16T03:06:57.487874Z",
     "iopub.status.idle": "2020-07-16T03:06:57.539420Z",
     "shell.execute_reply": "2020-07-16T03:06:57.539815Z"
    },
    "papermill": {
     "duration": 0.071595,
     "end_time": "2020-07-16T03:06:57.539897",
     "exception": false,
     "start_time": "2020-07-16T03:06:57.468302",
     "status": "completed"
    },
    "tags": []
   },
   "outputs": [],
   "source": [
    "#simulation.dataframe.iloc[331456,:]"
   ]
  },
  {
   "cell_type": "code",
   "execution_count": 12,
   "metadata": {
    "execution": {
     "iopub.execute_input": "2020-07-16T03:06:57.588279Z",
     "iopub.status.busy": "2020-07-16T03:06:57.587961Z",
     "iopub.status.idle": "2020-07-16T03:06:57.608733Z",
     "shell.execute_reply": "2020-07-16T03:06:57.609053Z"
    },
    "papermill": {
     "duration": 0.044131,
     "end_time": "2020-07-16T03:06:57.609123",
     "exception": false,
     "start_time": "2020-07-16T03:06:57.564992",
     "status": "completed"
    },
    "tags": []
   },
   "outputs": [],
   "source": [
    "#for ix, obj in enumerate(simulation.dataframe.iloc[331456,:].values):\n",
    "#    print(ix,obj)"
   ]
  },
  {
   "cell_type": "code",
   "execution_count": 13,
   "metadata": {
    "execution": {
     "iopub.execute_input": "2020-07-16T03:06:57.647157Z",
     "iopub.status.busy": "2020-07-16T03:06:57.646855Z",
     "iopub.status.idle": "2020-07-16T03:06:57.706544Z",
     "shell.execute_reply": "2020-07-16T03:06:57.706973Z"
    },
    "papermill": {
     "duration": 0.079687,
     "end_time": "2020-07-16T03:06:57.707081",
     "exception": false,
     "start_time": "2020-07-16T03:06:57.627394",
     "status": "completed"
    },
    "tags": []
   },
   "outputs": [],
   "source": [
    "#simulation.fourier_engineered_dataframe.dct_feat0"
   ]
  },
  {
   "cell_type": "code",
   "execution_count": 14,
   "metadata": {
    "execution": {
     "iopub.execute_input": "2020-07-16T03:06:57.765677Z",
     "iopub.status.busy": "2020-07-16T03:06:57.765291Z",
     "iopub.status.idle": "2020-07-16T03:06:57.774846Z",
     "shell.execute_reply": "2020-07-16T03:06:57.774521Z"
    },
    "papermill": {
     "duration": 0.034824,
     "end_time": "2020-07-16T03:06:57.774900",
     "exception": false,
     "start_time": "2020-07-16T03:06:57.740076",
     "status": "completed"
    },
    "tags": []
   },
   "outputs": [],
   "source": [
    "#simulation.features"
   ]
  },
  {
   "cell_type": "code",
   "execution_count": 15,
   "metadata": {
    "execution": {
     "iopub.execute_input": "2020-07-16T03:06:57.813420Z",
     "iopub.status.busy": "2020-07-16T03:06:57.813114Z",
     "iopub.status.idle": "2020-07-16T03:06:57.825657Z",
     "shell.execute_reply": "2020-07-16T03:06:57.825318Z"
    },
    "papermill": {
     "duration": 0.032003,
     "end_time": "2020-07-16T03:06:57.825712",
     "exception": false,
     "start_time": "2020-07-16T03:06:57.793709",
     "status": "completed"
    },
    "tags": []
   },
   "outputs": [],
   "source": [
    "#simulation.fourier_matrix"
   ]
  },
  {
   "cell_type": "code",
   "execution_count": 16,
   "metadata": {
    "execution": {
     "iopub.execute_input": "2020-07-16T03:06:57.865975Z",
     "iopub.status.busy": "2020-07-16T03:06:57.865661Z",
     "iopub.status.idle": "2020-07-16T03:06:57.923557Z",
     "shell.execute_reply": "2020-07-16T03:06:57.923058Z"
    },
    "papermill": {
     "duration": 0.079858,
     "end_time": "2020-07-16T03:06:57.923637",
     "exception": false,
     "start_time": "2020-07-16T03:06:57.843779",
     "status": "completed"
    },
    "tags": []
   },
   "outputs": [],
   "source": [
    "#1/simulation.n_features*simulation.dataframe.loc[:,simulation.features].sum(axis=1)"
   ]
  },
  {
   "cell_type": "code",
   "execution_count": 17,
   "metadata": {
    "execution": {
     "iopub.execute_input": "2020-07-16T03:06:57.962039Z",
     "iopub.status.busy": "2020-07-16T03:06:57.961729Z",
     "iopub.status.idle": "2020-07-16T03:06:57.975367Z",
     "shell.execute_reply": "2020-07-16T03:06:57.975040Z"
    },
    "papermill": {
     "duration": 0.032492,
     "end_time": "2020-07-16T03:06:57.975419",
     "exception": false,
     "start_time": "2020-07-16T03:06:57.942927",
     "status": "completed"
    },
    "tags": []
   },
   "outputs": [],
   "source": [
    "#df_2 = simulation.fourier_engineered_dataframe[simulation.fourier_engineered_dataframe.phase==2]\n",
    "#df_2.describe()"
   ]
  },
  {
   "cell_type": "code",
   "execution_count": 18,
   "metadata": {
    "execution": {
     "iopub.execute_input": "2020-07-16T03:06:58.015381Z",
     "iopub.status.busy": "2020-07-16T03:06:58.015072Z",
     "iopub.status.idle": "2020-07-16T03:06:58.089207Z",
     "shell.execute_reply": "2020-07-16T03:06:58.087411Z"
    },
    "papermill": {
     "duration": 0.095824,
     "end_time": "2020-07-16T03:06:58.089462",
     "exception": false,
     "start_time": "2020-07-16T03:06:57.993638",
     "status": "completed"
    },
    "tags": []
   },
   "outputs": [],
   "source": [
    "#df_1 = simulation.fourier_engineered_dataframe[simulation.fourier_engineered_dataframe.phase==1]\n",
    "#df_1.describe()"
   ]
  },
  {
   "cell_type": "code",
   "execution_count": 19,
   "metadata": {
    "execution": {
     "iopub.execute_input": "2020-07-16T03:06:58.166034Z",
     "iopub.status.busy": "2020-07-16T03:06:58.165728Z",
     "iopub.status.idle": "2020-07-16T03:06:58.175379Z",
     "shell.execute_reply": "2020-07-16T03:06:58.175108Z"
    },
    "papermill": {
     "duration": 0.031211,
     "end_time": "2020-07-16T03:06:58.175435",
     "exception": false,
     "start_time": "2020-07-16T03:06:58.144224",
     "status": "completed"
    },
    "tags": []
   },
   "outputs": [],
   "source": [
    "#df_0 = simulation.fourier_engineered_dataframe[simulation.fourier_engineered_dataframe.phase==0]\n",
    "#df_0.describe()"
   ]
  },
  {
   "cell_type": "code",
   "execution_count": 20,
   "metadata": {
    "execution": {
     "iopub.execute_input": "2020-07-16T03:06:58.214007Z",
     "iopub.status.busy": "2020-07-16T03:06:58.213687Z",
     "iopub.status.idle": "2020-07-16T03:06:58.233856Z",
     "shell.execute_reply": "2020-07-16T03:06:58.233566Z"
    },
    "papermill": {
     "duration": 0.040275,
     "end_time": "2020-07-16T03:06:58.233915",
     "exception": false,
     "start_time": "2020-07-16T03:06:58.193640",
     "status": "completed"
    },
    "tags": []
   },
   "outputs": [],
   "source": [
    "#plt.figure(figsize=(10,10))\n",
    "#plt.scatter(df_1.fourier_feat0,df_1.fourier_feat2)\n",
    "#plt.scatter(df_0.fourier_feat0,df_0.fourier_feat2,alpha=0.4)"
   ]
  },
  {
   "cell_type": "code",
   "execution_count": 21,
   "metadata": {
    "execution": {
     "iopub.execute_input": "2020-07-16T03:06:58.271255Z",
     "iopub.status.busy": "2020-07-16T03:06:58.270952Z",
     "iopub.status.idle": "2020-07-16T03:06:58.332075Z",
     "shell.execute_reply": "2020-07-16T03:06:58.331461Z"
    },
    "papermill": {
     "duration": 0.08084,
     "end_time": "2020-07-16T03:06:58.332169",
     "exception": false,
     "start_time": "2020-07-16T03:06:58.251329",
     "status": "completed"
    },
    "tags": []
   },
   "outputs": [],
   "source": [
    "#plt.scatter(df_0.fourier_feat0,df_0.fourier_feat2,alpha=0.4)"
   ]
  },
  {
   "cell_type": "code",
   "execution_count": 22,
   "metadata": {
    "execution": {
     "iopub.execute_input": "2020-07-16T03:06:58.392377Z",
     "iopub.status.busy": "2020-07-16T03:06:58.391852Z",
     "iopub.status.idle": "2020-07-16T03:06:58.401768Z",
     "shell.execute_reply": "2020-07-16T03:06:58.402083Z"
    },
    "papermill": {
     "duration": 0.033056,
     "end_time": "2020-07-16T03:06:58.402153",
     "exception": false,
     "start_time": "2020-07-16T03:06:58.369097",
     "status": "completed"
    },
    "tags": []
   },
   "outputs": [],
   "source": [
    "#plt.scatter(df_2.fourier_feat0,df_2.fourier_feat2)"
   ]
  },
  {
   "cell_type": "code",
   "execution_count": 23,
   "metadata": {
    "execution": {
     "iopub.execute_input": "2020-07-16T03:06:58.439388Z",
     "iopub.status.busy": "2020-07-16T03:06:58.438902Z",
     "iopub.status.idle": "2020-07-16T03:06:58.498165Z",
     "shell.execute_reply": "2020-07-16T03:06:58.497705Z"
    },
    "papermill": {
     "duration": 0.078483,
     "end_time": "2020-07-16T03:06:58.498235",
     "exception": false,
     "start_time": "2020-07-16T03:06:58.419752",
     "status": "completed"
    },
    "tags": []
   },
   "outputs": [],
   "source": [
    "#df_1.hist(figsize=(15,15))"
   ]
  },
  {
   "cell_type": "code",
   "execution_count": 24,
   "metadata": {
    "execution": {
     "iopub.execute_input": "2020-07-16T03:06:58.548063Z",
     "iopub.status.busy": "2020-07-16T03:06:58.547528Z",
     "iopub.status.idle": "2020-07-16T03:06:58.558147Z",
     "shell.execute_reply": "2020-07-16T03:06:58.558461Z"
    },
    "papermill": {
     "duration": 0.032864,
     "end_time": "2020-07-16T03:06:58.558529",
     "exception": false,
     "start_time": "2020-07-16T03:06:58.525665",
     "status": "completed"
    },
    "tags": []
   },
   "outputs": [],
   "source": [
    "#df_0.hist(figsize=(15,15))"
   ]
  },
  {
   "cell_type": "markdown",
   "metadata": {
    "papermill": {
     "duration": 0.01757,
     "end_time": "2020-07-16T03:06:58.593756",
     "exception": false,
     "start_time": "2020-07-16T03:06:58.576186",
     "status": "completed"
    },
    "tags": []
   },
   "source": [
    "#### Checking initialization"
   ]
  },
  {
   "cell_type": "code",
   "execution_count": 25,
   "metadata": {
    "execution": {
     "iopub.execute_input": "2020-07-16T03:06:58.802734Z",
     "iopub.status.busy": "2020-07-16T03:06:58.802275Z",
     "iopub.status.idle": "2020-07-16T03:06:58.866974Z",
     "shell.execute_reply": "2020-07-16T03:06:58.866353Z"
    },
    "papermill": {
     "duration": 0.122387,
     "end_time": "2020-07-16T03:06:58.867071",
     "exception": false,
     "start_time": "2020-07-16T03:06:58.744684",
     "status": "completed"
    },
    "tags": []
   },
   "outputs": [
    {
     "name": "stdout",
     "output_type": "stream",
     "text": [
      "n_features:  100\n",
      "n_hamiltonians:  6561\n",
      "n_ts:  2\n",
      "CPU times: user 613 µs, sys: 74 µs, total: 687 µs\n",
      "Wall time: 366 µs\n"
     ]
    }
   ],
   "source": [
    "%%time\n",
    "n_features = simulation.n_features\n",
    "n_hamiltonians = simulation.n_hamiltonians\n",
    "n_ts = simulation.n_ts\n",
    "\n",
    "print(\"n_features: \", n_features)\n",
    "print(\"n_hamiltonians: \", n_hamiltonians)\n",
    "print(\"n_ts: \", n_ts)"
   ]
  },
  {
   "cell_type": "code",
   "execution_count": 26,
   "metadata": {
    "execution": {
     "iopub.execute_input": "2020-07-16T03:06:58.944628Z",
     "iopub.status.busy": "2020-07-16T03:06:58.944301Z",
     "iopub.status.idle": "2020-07-16T03:06:59.235457Z",
     "shell.execute_reply": "2020-07-16T03:06:59.235189Z"
    },
    "papermill": {
     "duration": 0.335472,
     "end_time": "2020-07-16T03:06:59.235512",
     "exception": false,
     "start_time": "2020-07-16T03:06:58.900040",
     "status": "completed"
    },
    "tags": []
   },
   "outputs": [
    {
     "name": "stdout",
     "output_type": "stream",
     "text": [
      "% train:  0.846822130772748\n",
      "% val:  0.0\n",
      "% test:  0.15317786922725193\n",
      "% train + val + test:  1.0\n",
      "\n",
      "\n",
      "number of train hamiltonians:  5556\n",
      "number of val hamiltonians:  0\n",
      "number of test hamiltonians:  1005\n",
      "total number of hamiltonians:  6561\n",
      "\n",
      "\n",
      "train ids:  [9, 10, 11, 12, 13, 14, 15, 16, 17, 18, 19, 20, 21, 22, 23, 24, 25, 26, 27, 28, 29, 30, 31, 32, 33, 34, 35, 36, 37, 38, 39, 40, 41, 42, 43, 44, 45, 46, 47, 48, 49, 50, 51, 52, 53, 54, 55, 56, 57, 58, 59, 60, 61, 62, 63, 64, 65, 66, 67, 68, 69, 70, 71, 72, 73, 74, 75, 76, 77, 91, 92, 93, 94, 95, 96, 97, 98, 99, 100, 101, 102, 103, 104, 105, 106, 107, 108, 109, 110, 111, 112, 113, 114, 115, 116, 117, 118, 119, 120, 121, 122, 123, 124, 125, 126, 127, 128, 129, 130, 131, 132, 133, 134, 135, 136, 137, 138, 139, 140, 141, 142, 143, 144, 145, 146, 147, 148, 149, 150, 151, 152, 153, 154, 155, 156, 157, 172, 173, 174, 175, 176, 177, 178, 179, 180, 181, 182, 183, 184, 185, 186, 187, 188, 189, 190, 191, 192, 193, 194, 195, 196, 197, 198, 199, 200, 201, 202, 203, 204, 205, 206, 207, 208, 209, 210, 211, 212, 213, 214, 215, 216, 217, 218, 219, 220, 221, 222, 223, 224, 225, 226, 227, 228, 229, 230, 231, 232, 233, 234, 235, 236, 237, 254, 255, 256, 257, 258, 259, 260, 261, 262, 263, 264, 265, 266, 267, 268, 269, 270, 271, 272, 273, 274, 275, 276, 277, 278, 279, 280, 281, 282, 283, 284, 285, 286, 287, 288, 289, 290, 291, 292, 293, 294, 295, 296, 297, 298, 299, 300, 301, 302, 303, 304, 305, 306, 307, 308, 309, 310, 311, 312, 313, 314, 315, 316, 317, 323, 336, 337, 338, 339, 340, 341, 342, 343, 344, 345, 346, 347, 348, 349, 350, 351, 352, 353, 354, 355, 356, 357, 358, 359, 360, 361, 362, 363, 364, 365, 366, 367, 368, 369, 370, 371, 372, 373, 374, 375, 376, 377, 378, 379, 380, 381, 382, 383, 384, 385, 386, 387, 388, 389, 390, 391, 392, 393, 394, 395, 396, 397, 403, 404, 418, 419, 420, 421, 422, 423, 424, 425, 426, 427, 428, 429, 430, 431, 432, 433, 434, 435, 436, 437, 438, 439, 440, 441, 442, 443, 444, 445, 446, 447, 448, 449, 450, 451, 452, 453, 454, 455, 456, 457, 458, 459, 460, 461, 462, 463, 464, 465, 466, 467, 468, 469, 470, 471, 472, 473, 474, 475, 476, 477, 483, 484, 485, 500, 501, 502, 503, 504, 505, 506, 507, 508, 509, 510, 511, 512, 513, 514, 515, 516, 517, 518, 519, 520, 521, 522, 523, 524, 525, 526, 527, 528, 529, 530, 531, 532, 533, 534, 535, 536, 537, 538, 539, 540, 541, 542, 543, 544, 545, 546, 547, 548, 549, 550, 551, 552, 553, 554, 555, 556, 557, 563, 564, 565, 566, 581, 582, 583, 584, 585, 586, 587, 588, 589, 590, 591, 592, 593, 594, 595, 596, 597, 598, 599, 600, 601, 602, 603, 604, 605, 606, 607, 608, 609, 610, 611, 612, 613, 614, 615, 616, 617, 618, 619, 620, 621, 622, 623, 624, 625, 626, 627, 628, 629, 630, 631, 632, 633, 634, 635, 636, 637, 643, 644, 645, 646, 647, 663, 664, 665, 666, 667, 668, 669, 670, 671, 672, 673, 674, 675, 676, 677, 678, 679, 680, 681, 682, 683, 684, 685, 686, 687, 688, 689, 690, 691, 692, 693, 694, 695, 696, 697, 698, 699, 700, 701, 702, 703, 704, 705, 706, 707, 708, 709, 710, 711, 712, 713, 714, 715, 716, 717, 723, 724, 725, 726, 727, 728, 745, 746, 747, 748, 749, 750, 751, 752, 753, 754, 755, 756, 757, 758, 759, 760, 761, 762, 763, 764, 765, 766, 767, 768, 769, 770, 771, 772, 773, 774, 775, 776, 777, 778, 779, 780, 781, 782, 783, 784, 785, 786, 787, 788, 789, 790, 791, 792, 793, 794, 795, 796, 797, 803, 804, 805, 806, 807, 808, 809, 827, 828, 829, 830, 831, 832, 833, 834, 835, 836, 837, 838, 839, 840, 841, 842, 843, 844, 845, 846, 847, 848, 849, 850, 851, 852, 853, 854, 855, 856, 857, 858, 859, 860, 861, 862, 863, 864, 865, 866, 867, 868, 869, 870, 871, 872, 873, 874, 875, 876, 877, 883, 884, 885, 886, 887, 888, 889, 890, 891, 909, 910, 911, 912, 913, 914, 915, 916, 917, 918, 919, 920, 921, 922, 923, 924, 925, 926, 927, 928, 929, 930, 931, 932, 933, 934, 935, 936, 937, 938, 939, 940, 941, 942, 943, 944, 945, 946, 947, 948, 949, 950, 951, 952, 953, 954, 955, 956, 957, 963, 964, 965, 966, 967, 968, 969, 970, 971, 972, 973, 990, 991, 992, 993, 994, 995, 996, 997, 998, 999, 1000, 1001, 1002, 1003, 1004, 1005, 1006, 1007, 1008, 1009, 1010, 1011, 1012, 1013, 1014, 1015, 1016, 1017, 1018, 1019, 1020, 1021, 1022, 1023, 1024, 1025, 1026, 1027, 1028, 1029, 1030, 1031, 1032, 1033, 1034, 1035, 1036, 1037, 1038, 1042, 1043, 1044, 1045, 1046, 1047, 1048, 1049, 1050, 1051, 1052, 1053, 1054, 1055, 1056, 1072, 1073, 1074, 1075, 1076, 1077, 1078, 1079, 1080, 1081, 1082, 1083, 1084, 1085, 1086, 1087, 1088, 1089, 1090, 1091, 1092, 1093, 1094, 1095, 1096, 1097, 1098, 1099, 1100, 1101, 1102, 1103, 1104, 1105, 1106, 1107, 1108, 1109, 1110, 1111, 1112, 1113, 1114, 1115, 1116, 1117, 1118, 1122, 1123, 1124, 1125, 1126, 1127, 1128, 1129, 1130, 1131, 1132, 1133, 1134, 1135, 1136, 1137, 1138, 1154, 1155, 1156, 1157, 1158, 1159, 1160, 1161, 1162, 1163, 1164, 1165, 1166, 1167, 1168, 1169, 1170, 1171, 1172, 1173, 1174, 1175, 1176, 1177, 1178, 1179, 1180, 1181, 1182, 1183, 1184, 1185, 1186, 1187, 1188, 1189, 1190, 1191, 1192, 1193, 1194, 1195, 1196, 1197, 1198, 1202, 1203, 1204, 1205, 1206, 1207, 1208, 1209, 1210, 1211, 1212, 1213, 1214, 1215, 1216, 1217, 1218, 1219, 1220, 1236, 1237, 1238, 1239, 1240, 1241, 1242, 1243, 1244, 1245, 1246, 1247, 1248, 1249, 1250, 1251, 1252, 1253, 1254, 1255, 1256, 1257, 1258, 1259, 1260, 1261, 1262, 1263, 1264, 1265, 1266, 1267, 1268, 1269, 1270, 1271, 1272, 1273, 1274, 1275, 1276, 1277, 1278, 1282, 1283, 1284, 1285, 1286, 1287, 1288, 1289, 1290, 1291, 1292, 1293, 1294, 1295, 1296, 1297, 1298, 1299, 1300, 1301, 1302, 1303, 1317, 1318, 1319, 1320, 1321, 1322, 1323, 1324, 1325, 1326, 1327, 1328, 1329, 1330, 1331, 1332, 1333, 1334, 1335, 1336, 1337, 1338, 1339, 1340, 1341, 1342, 1343, 1344, 1345, 1346, 1347, 1348, 1349, 1350, 1351, 1352, 1353, 1354, 1355, 1356, 1357, 1358, 1362, 1363, 1364, 1365, 1366, 1367, 1368, 1369, 1370, 1371, 1372, 1373, 1374, 1375, 1376, 1377, 1378, 1379, 1380, 1381, 1382, 1383, 1384, 1385, 1399, 1400, 1401, 1402, 1403, 1404, 1405, 1406, 1407, 1408, 1409, 1410, 1411, 1412, 1413, 1414, 1415, 1416, 1417, 1418, 1419, 1420, 1421, 1422, 1423, 1424, 1425, 1426, 1427, 1428, 1429, 1430, 1431, 1432, 1433, 1434, 1435, 1436, 1437, 1438, 1442, 1443, 1444, 1445, 1446, 1447, 1448, 1449, 1450, 1451, 1452, 1453, 1454, 1455, 1456, 1457, 1458, 1459, 1460, 1461, 1462, 1463, 1464, 1465, 1466, 1467, 1468, 1481, 1482, 1483, 1484, 1485, 1486, 1487, 1488, 1489, 1490, 1491, 1492, 1493, 1494, 1495, 1496, 1497, 1498, 1499, 1500, 1501, 1502, 1503, 1504, 1505, 1506, 1507, 1508, 1509, 1510, 1511, 1512, 1513, 1514, 1515, 1516, 1517, 1518, 1522, 1523, 1524, 1525, 1526, 1527, 1528, 1529, 1530, 1531, 1532, 1533, 1534, 1535, 1536, 1537, 1538, 1539, 1540, 1541, 1542, 1543, 1544, 1545, 1546, 1547, 1548, 1549, 1550, 1563, 1564, 1565, 1566, 1567, 1568, 1569, 1570, 1571, 1572, 1573, 1574, 1575, 1576, 1577, 1578, 1579, 1580, 1581, 1582, 1583, 1584, 1585, 1586, 1587, 1588, 1589, 1590, 1591, 1592, 1593, 1594, 1595, 1596, 1597, 1598, 1602, 1603, 1604, 1605, 1606, 1607, 1608, 1609, 1610, 1611, 1612, 1613, 1614, 1615, 1616, 1617, 1618, 1619, 1620, 1621, 1622, 1623, 1624, 1625, 1626, 1627, 1628, 1629, 1630, 1631, 1632, 1645, 1646, 1647, 1648, 1649, 1650, 1651, 1652, 1653, 1654, 1655, 1656, 1657, 1658, 1659, 1660, 1661, 1662, 1663, 1664, 1665, 1666, 1667, 1668, 1669, 1670, 1671, 1672, 1673, 1674, 1675, 1676, 1677, 1678, 1682, 1683, 1684, 1685, 1686, 1687, 1688, 1689, 1690, 1691, 1692, 1693, 1694, 1695, 1696, 1697, 1698, 1699, 1700, 1701, 1702, 1703, 1704, 1705, 1706, 1707, 1708, 1709, 1710, 1711, 1712, 1713, 1714, 1715, 1726, 1727, 1728, 1729, 1730, 1731, 1732, 1733, 1734, 1735, 1736, 1737, 1738, 1739, 1740, 1741, 1742, 1743, 1744, 1745, 1746, 1747, 1748, 1749, 1750, 1751, 1752, 1753, 1754, 1755, 1756, 1757, 1758, 1762, 1763, 1764, 1765, 1766, 1767, 1768, 1769, 1770, 1771, 1772, 1773, 1774, 1775, 1776, 1777, 1778, 1779, 1780, 1781, 1782, 1783, 1784, 1785, 1786, 1787, 1788, 1789, 1790, 1791, 1792, 1793, 1794, 1795, 1796, 1797, 1808, 1809, 1810, 1811, 1812, 1813, 1814, 1815, 1816, 1817, 1818, 1819, 1820, 1821, 1822, 1823, 1824, 1825, 1826, 1827, 1828, 1829, 1830, 1831, 1832, 1833, 1834, 1835, 1836, 1837, 1838, 1842, 1843, 1844, 1845, 1846, 1847, 1848, 1849, 1850, 1851, 1852, 1853, 1854, 1855, 1856, 1857, 1858, 1859, 1860, 1861, 1862, 1863, 1864, 1865, 1866, 1867, 1868, 1869, 1870, 1871, 1872, 1873, 1874, 1875, 1876, 1877, 1878, 1879, 1890, 1891, 1892, 1893, 1894, 1895, 1896, 1897, 1898, 1899, 1900, 1901, 1902, 1903, 1904, 1905, 1906, 1907, 1908, 1909, 1910, 1911, 1912, 1913, 1914, 1915, 1916, 1917, 1918, 1922, 1923, 1924, 1925, 1926, 1927, 1928, 1929, 1930, 1931, 1932, 1933, 1934, 1935, 1936, 1937, 1938, 1939, 1940, 1941, 1942, 1943, 1944, 1945, 1946, 1947, 1948, 1949, 1950, 1951, 1952, 1953, 1954, 1955, 1956, 1957, 1958, 1959, 1960, 1961, 1962, 1972, 1973, 1974, 1975, 1976, 1977, 1978, 1979, 1980, 1981, 1982, 1983, 1984, 1985, 1986, 1987, 1988, 1989, 1990, 1991, 1992, 1993, 1994, 1995, 1996, 1997, 1998, 2002, 2003, 2004, 2005, 2006, 2007, 2008, 2009, 2010, 2011, 2012, 2013, 2014, 2015, 2016, 2017, 2018, 2019, 2020, 2021, 2022, 2023, 2024, 2025, 2026, 2027, 2028, 2029, 2030, 2031, 2032, 2033, 2034, 2035, 2036, 2037, 2038, 2039, 2040, 2041, 2042, 2043, 2044, 2054, 2055, 2056, 2057, 2058, 2059, 2060, 2061, 2062, 2063, 2064, 2065, 2066, 2067, 2068, 2069, 2070, 2071, 2072, 2073, 2074, 2075, 2076, 2077, 2078, 2082, 2083, 2084, 2085, 2086, 2087, 2088, 2089, 2090, 2091, 2092, 2093, 2094, 2095, 2096, 2097, 2098, 2099, 2100, 2101, 2102, 2103, 2104, 2105, 2106, 2107, 2108, 2109, 2110, 2111, 2112, 2113, 2114, 2115, 2116, 2117, 2118, 2119, 2120, 2121, 2122, 2123, 2124, 2125, 2126, 2135, 2136, 2137, 2138, 2139, 2140, 2141, 2142, 2143, 2144, 2145, 2146, 2147, 2148, 2149, 2150, 2151, 2152, 2153, 2154, 2155, 2156, 2157, 2158, 2159, 2161, 2162, 2163, 2164, 2165, 2166, 2167, 2168, 2169, 2170, 2171, 2172, 2173, 2174, 2175, 2176, 2177, 2178, 2179, 2180, 2181, 2182, 2183, 2184, 2185, 2186, 2187, 2188, 2189, 2190, 2191, 2192, 2193, 2194, 2195, 2196, 2197, 2198, 2199, 2200, 2201, 2202, 2203, 2204, 2205, 2206, 2207, 2208, 2209, 2217, 2218, 2219, 2220, 2221, 2222, 2223, 2224, 2225, 2226, 2227, 2228, 2229, 2230, 2231, 2232, 2233, 2234, 2235, 2236, 2237, 2238, 2239, 2241, 2242, 2243, 2244, 2245, 2246, 2247, 2248, 2249, 2250, 2251, 2252, 2253, 2254, 2255, 2256, 2257, 2258, 2259, 2260, 2261, 2262, 2263, 2264, 2265, 2266, 2267, 2268, 2269, 2270, 2271, 2272, 2273, 2274, 2275, 2276, 2277, 2278, 2279, 2280, 2281, 2282, 2283, 2284, 2285, 2286, 2287, 2288, 2289, 2290, 2291, 2299, 2300, 2301, 2302, 2303, 2304, 2305, 2306, 2307, 2308, 2309, 2310, 2311, 2312, 2313, 2314, 2315, 2316, 2317, 2318, 2319, 2321, 2322, 2323, 2324, 2325, 2326, 2327, 2328, 2329, 2330, 2331, 2332, 2333, 2334, 2335, 2336, 2337, 2338, 2339, 2340, 2341, 2342, 2343, 2344, 2345, 2346, 2347, 2348, 2349, 2350, 2351, 2352, 2353, 2354, 2355, 2356, 2357, 2358, 2359, 2360, 2361, 2362, 2363, 2364, 2365, 2366, 2367, 2368, 2369, 2370, 2371, 2372, 2373, 2374, 2381, 2382, 2383, 2384, 2385, 2386, 2387, 2388, 2389, 2390, 2391, 2392, 2393, 2394, 2395, 2396, 2397, 2398, 2399, 2401, 2402, 2403, 2404, 2405, 2406, 2407, 2408, 2409, 2410, 2411, 2412, 2413, 2414, 2415, 2416, 2417, 2418, 2419, 2420, 2421, 2422, 2423, 2424, 2425, 2426, 2427, 2428, 2429, 2430, 2431, 2432, 2433, 2434, 2435, 2436, 2437, 2438, 2439, 2440, 2441, 2442, 2443, 2444, 2445, 2446, 2447, 2448, 2449, 2450, 2451, 2452, 2453, 2454, 2455, 2456, 2463, 2464, 2465, 2466, 2467, 2468, 2469, 2470, 2471, 2472, 2473, 2474, 2475, 2476, 2477, 2478, 2479, 2481, 2482, 2483, 2484, 2485, 2486, 2487, 2488, 2489, 2490, 2491, 2492, 2493, 2494, 2495, 2496, 2497, 2498, 2499, 2500, 2501, 2502, 2503, 2504, 2505, 2506, 2507, 2508, 2509, 2510, 2511, 2512, 2513, 2514, 2515, 2516, 2517, 2518, 2519, 2520, 2521, 2522, 2523, 2524, 2525, 2526, 2527, 2528, 2529, 2530, 2531, 2532, 2533, 2534, 2535, 2536, 2537, 2538, 2544, 2545, 2546, 2547, 2548, 2549, 2550, 2551, 2552, 2553, 2554, 2555, 2556, 2557, 2558, 2559, 2561, 2562, 2563, 2564, 2565, 2566, 2567, 2568, 2569, 2570, 2571, 2572, 2573, 2574, 2575, 2576, 2577, 2578, 2579, 2580, 2581, 2582, 2583, 2584, 2585, 2586, 2587, 2588, 2589, 2590, 2591, 2592, 2593, 2594, 2595, 2596, 2597, 2598, 2599, 2600, 2601, 2602, 2603, 2604, 2605, 2606, 2607, 2608, 2609, 2610, 2611, 2612, 2613, 2614, 2615, 2616, 2617, 2618, 2619, 2620, 2621, 2626, 2627, 2628, 2629, 2630, 2631, 2632, 2633, 2634, 2635, 2636, 2637, 2638, 2639, 2641, 2642, 2643, 2644, 2645, 2646, 2647, 2648, 2649, 2650, 2651, 2652, 2653, 2654, 2655, 2656, 2657, 2658, 2659, 2660, 2661, 2662, 2663, 2664, 2665, 2666, 2667, 2668, 2669, 2670, 2671, 2672, 2673, 2674, 2675, 2676, 2677, 2678, 2679, 2680, 2681, 2682, 2683, 2684, 2685, 2686, 2687, 2688, 2689, 2690, 2691, 2692, 2693, 2694, 2695, 2696, 2697, 2698, 2699, 2700, 2701, 2702, 2703, 2708, 2709, 2710, 2711, 2712, 2713, 2714, 2715, 2716, 2717, 2718, 2719, 2721, 2722, 2723, 2724, 2725, 2726, 2727, 2728, 2729, 2730, 2731, 2732, 2733, 2734, 2735, 2736, 2737, 2738, 2739, 2740, 2741, 2742, 2743, 2744, 2745, 2746, 2747, 2748, 2749, 2750, 2751, 2752, 2753, 2754, 2755, 2756, 2757, 2758, 2759, 2760, 2761, 2762, 2763, 2764, 2765, 2766, 2767, 2768, 2769, 2770, 2771, 2772, 2773, 2774, 2775, 2776, 2777, 2778, 2779, 2780, 2781, 2782, 2783, 2784, 2785, 2790, 2791, 2792, 2793, 2794, 2795, 2796, 2797, 2798, 2799, 2801, 2802, 2803, 2804, 2805, 2806, 2807, 2808, 2809, 2810, 2811, 2812, 2813, 2814, 2815, 2816, 2817, 2818, 2819, 2820, 2821, 2822, 2823, 2824, 2825, 2826, 2827, 2828, 2829, 2830, 2831, 2832, 2833, 2834, 2835, 2836, 2837, 2838, 2839, 2840, 2841, 2842, 2843, 2844, 2845, 2846, 2847, 2848, 2849, 2850, 2851, 2852, 2853, 2854, 2855, 2856, 2857, 2858, 2859, 2860, 2861, 2862, 2863, 2864, 2865, 2866, 2867, 2868, 2872, 2873, 2874, 2875, 2876, 2877, 2878, 2879, 2881, 2882, 2883, 2884, 2885, 2886, 2887, 2888, 2889, 2890, 2891, 2892, 2893, 2894, 2895, 2896, 2897, 2898, 2899, 2900, 2901, 2902, 2903, 2904, 2905, 2906, 2907, 2908, 2909, 2910, 2911, 2912, 2913, 2914, 2915, 2916, 2917, 2918, 2919, 2920, 2921, 2922, 2923, 2924, 2925, 2926, 2927, 2928, 2929, 2930, 2931, 2932, 2933, 2934, 2935, 2936, 2937, 2938, 2939, 2940, 2941, 2942, 2943, 2944, 2945, 2946, 2947, 2948, 2949, 2950, 2953, 2954, 2955, 2956, 2957, 2958, 2959, 2961, 2962, 2963, 2964, 2965, 2966, 2967, 2968, 2969, 2970, 2971, 2972, 2973, 2974, 2975, 2976, 2977, 2978, 2979, 2980, 2981, 2982, 2983, 2984, 2985, 2986, 2987, 2988, 2989, 2990, 2991, 2992, 2993, 2994, 2995, 2996, 2997, 2998, 2999, 3000, 3001, 3002, 3003, 3004, 3005, 3006, 3007, 3008, 3009, 3010, 3011, 3012, 3013, 3014, 3015, 3016, 3017, 3018, 3019, 3020, 3021, 3022, 3023, 3024, 3025, 3026, 3027, 3028, 3029, 3030, 3031, 3032, 3035, 3036, 3037, 3038, 3039, 3041, 3042, 3043, 3044, 3045, 3046, 3047, 3048, 3049, 3050, 3051, 3052, 3053, 3054, 3055, 3056, 3057, 3058, 3059, 3060, 3061, 3062, 3063, 3064, 3065, 3066, 3067, 3068, 3069, 3070, 3071, 3072, 3073, 3074, 3075, 3076, 3077, 3078, 3079, 3080, 3081, 3082, 3083, 3084, 3085, 3086, 3087, 3088, 3089, 3090, 3091, 3092, 3093, 3094, 3095, 3096, 3097, 3098, 3099, 3100, 3101, 3102, 3103, 3104, 3105, 3106, 3107, 3108, 3109, 3110, 3111, 3112, 3113, 3114, 3115, 3117, 3118, 3119, 3121, 3122, 3123, 3124, 3125, 3126, 3127, 3128, 3129, 3130, 3131, 3132, 3133, 3134, 3135, 3136, 3137, 3138, 3139, 3140, 3141, 3142, 3143, 3144, 3145, 3146, 3147, 3148, 3149, 3150, 3151, 3152, 3153, 3154, 3155, 3156, 3157, 3158, 3159, 3160, 3161, 3162, 3163, 3164, 3165, 3166, 3167, 3168, 3169, 3170, 3171, 3172, 3173, 3174, 3175, 3176, 3177, 3178, 3179, 3180, 3181, 3182, 3183, 3184, 3185, 3186, 3187, 3188, 3189, 3190, 3191, 3192, 3193, 3194, 3195, 3196, 3197, 3199, 3201, 3202, 3203, 3204, 3205, 3206, 3207, 3208, 3209, 3210, 3211, 3212, 3213, 3214, 3215, 3216, 3217, 3218, 3219, 3220, 3221, 3222, 3223, 3224, 3225, 3226, 3227, 3228, 3229, 3230, 3231, 3232, 3233, 3234, 3235, 3236, 3237, 3238, 3239, 3240, 3241, 3242, 3243, 3244, 3245, 3246, 3247, 3248, 3249, 3250, 3251, 3252, 3253, 3254, 3255, 3256, 3257, 3258, 3259, 3260, 3261, 3262, 3263, 3264, 3265, 3266, 3267, 3268, 3269, 3270, 3271, 3272, 3273, 3274, 3275, 3276, 3277, 3278, 3279, 3281, 3282, 3283, 3284, 3285, 3286, 3287, 3288, 3289, 3290, 3291, 3292, 3293, 3294, 3295, 3296, 3297, 3298, 3299, 3300, 3301, 3302, 3303, 3304, 3305, 3306, 3307, 3308, 3309, 3310, 3311, 3312, 3313, 3314, 3315, 3316, 3317, 3318, 3319, 3320, 3321, 3322, 3323, 3324, 3325, 3326, 3327, 3328, 3329, 3330, 3331, 3332, 3333, 3334, 3335, 3336, 3337, 3338, 3339, 3340, 3341, 3342, 3343, 3344, 3345, 3346, 3347, 3348, 3349, 3350, 3351, 3352, 3353, 3354, 3355, 3356, 3357, 3358, 3359, 3361, 3363, 3364, 3365, 3366, 3367, 3368, 3369, 3370, 3371, 3372, 3373, 3374, 3375, 3376, 3377, 3378, 3379, 3380, 3381, 3382, 3383, 3384, 3385, 3386, 3387, 3388, 3389, 3390, 3391, 3392, 3393, 3394, 3395, 3396, 3397, 3398, 3399, 3400, 3401, 3402, 3403, 3404, 3405, 3406, 3407, 3408, 3409, 3410, 3411, 3412, 3413, 3414, 3415, 3416, 3417, 3418, 3419, 3420, 3421, 3422, 3423, 3424, 3425, 3426, 3427, 3428, 3429, 3430, 3431, 3432, 3433, 3434, 3435, 3436, 3437, 3438, 3439, 3441, 3442, 3443, 3445, 3446, 3447, 3448, 3449, 3450, 3451, 3452, 3453, 3454, 3455, 3456, 3457, 3458, 3459, 3460, 3461, 3462, 3463, 3464, 3465, 3466, 3467, 3468, 3469, 3470, 3471, 3472, 3473, 3474, 3475, 3476, 3477, 3478, 3479, 3480, 3481, 3482, 3483, 3484, 3485, 3486, 3487, 3488, 3489, 3490, 3491, 3492, 3493, 3494, 3495, 3496, 3497, 3498, 3499, 3500, 3501, 3502, 3503, 3504, 3505, 3506, 3507, 3508, 3509, 3510, 3511, 3512, 3513, 3514, 3515, 3516, 3517, 3518, 3519, 3521, 3522, 3523, 3524, 3525, 3528, 3529, 3530, 3531, 3532, 3533, 3534, 3535, 3536, 3537, 3538, 3539, 3540, 3541, 3542, 3543, 3544, 3545, 3546, 3547, 3548, 3549, 3550, 3551, 3552, 3553, 3554, 3555, 3556, 3557, 3558, 3559, 3560, 3561, 3562, 3563, 3564, 3565, 3566, 3567, 3568, 3569, 3570, 3571, 3572, 3573, 3574, 3575, 3576, 3577, 3578, 3579, 3580, 3581, 3582, 3583, 3584, 3585, 3586, 3587, 3588, 3589, 3590, 3591, 3592, 3593, 3594, 3595, 3596, 3597, 3598, 3599, 3601, 3602, 3603, 3604, 3605, 3606, 3607, 3610, 3611, 3612, 3613, 3614, 3615, 3616, 3617, 3618, 3619, 3620, 3621, 3622, 3623, 3624, 3625, 3626, 3627, 3628, 3629, 3630, 3631, 3632, 3633, 3634, 3635, 3636, 3637, 3638, 3639, 3640, 3641, 3642, 3643, 3644, 3645, 3646, 3647, 3648, 3649, 3650, 3651, 3652, 3653, 3654, 3655, 3656, 3657, 3658, 3659, 3660, 3661, 3662, 3663, 3664, 3665, 3666, 3667, 3668, 3669, 3670, 3671, 3672, 3673, 3674, 3675, 3676, 3677, 3678, 3679, 3681, 3682, 3683, 3684, 3685, 3686, 3687, 3688, 3692, 3693, 3694, 3695, 3696, 3697, 3698, 3699, 3700, 3701, 3702, 3703, 3704, 3705, 3706, 3707, 3708, 3709, 3710, 3711, 3712, 3713, 3714, 3715, 3716, 3717, 3718, 3719, 3720, 3721, 3722, 3723, 3724, 3725, 3726, 3727, 3728, 3729, 3730, 3731, 3732, 3733, 3734, 3735, 3736, 3737, 3738, 3739, 3740, 3741, 3742, 3743, 3744, 3745, 3746, 3747, 3748, 3749, 3750, 3751, 3752, 3753, 3754, 3755, 3756, 3757, 3758, 3759, 3761, 3762, 3763, 3764, 3765, 3766, 3767, 3768, 3769, 3770, 3775, 3776, 3777, 3778, 3779, 3780, 3781, 3782, 3783, 3784, 3785, 3786, 3787, 3788, 3789, 3790, 3791, 3792, 3793, 3794, 3795, 3796, 3797, 3798, 3799, 3800, 3801, 3802, 3803, 3804, 3805, 3806, 3807, 3808, 3809, 3810, 3811, 3812, 3813, 3814, 3815, 3816, 3817, 3818, 3819, 3820, 3821, 3822, 3823, 3824, 3825, 3826, 3827, 3828, 3829, 3830, 3831, 3832, 3833, 3834, 3835, 3836, 3837, 3838, 3839, 3841, 3842, 3843, 3844, 3845, 3846, 3847, 3848, 3849, 3850, 3851, 3852, 3857, 3858, 3859, 3860, 3861, 3862, 3863, 3864, 3865, 3866, 3867, 3868, 3869, 3870, 3871, 3872, 3873, 3874, 3875, 3876, 3877, 3878, 3879, 3880, 3881, 3882, 3883, 3884, 3885, 3886, 3887, 3888, 3889, 3890, 3891, 3892, 3893, 3894, 3895, 3896, 3897, 3898, 3899, 3900, 3901, 3902, 3903, 3904, 3905, 3906, 3907, 3908, 3909, 3910, 3911, 3912, 3913, 3914, 3915, 3916, 3917, 3918, 3919, 3921, 3922, 3923, 3924, 3925, 3926, 3927, 3928, 3929, 3930, 3931, 3932, 3933, 3934, 3939, 3940, 3941, 3942, 3943, 3944, 3945, 3946, 3947, 3948, 3949, 3950, 3951, 3952, 3953, 3954, 3955, 3956, 3957, 3958, 3959, 3960, 3961, 3962, 3963, 3964, 3965, 3966, 3967, 3968, 3969, 3970, 3971, 3972, 3973, 3974, 3975, 3976, 3977, 3978, 3979, 3980, 3981, 3982, 3983, 3984, 3985, 3986, 3987, 3988, 3989, 3990, 3991, 3992, 3993, 3994, 3995, 3996, 3997, 3998, 3999, 4001, 4002, 4003, 4004, 4005, 4006, 4007, 4008, 4009, 4010, 4011, 4012, 4013, 4014, 4015, 4016, 4022, 4023, 4024, 4025, 4026, 4027, 4028, 4029, 4030, 4031, 4032, 4033, 4034, 4035, 4036, 4037, 4038, 4039, 4040, 4041, 4042, 4043, 4044, 4045, 4046, 4047, 4048, 4049, 4050, 4051, 4052, 4053, 4054, 4055, 4056, 4057, 4058, 4059, 4060, 4061, 4062, 4063, 4064, 4065, 4066, 4067, 4068, 4069, 4070, 4071, 4072, 4073, 4074, 4075, 4076, 4077, 4078, 4079, 4081, 4082, 4083, 4084, 4085, 4086, 4087, 4088, 4089, 4090, 4091, 4092, 4093, 4094, 4095, 4096, 4097, 4104, 4105, 4106, 4107, 4108, 4109, 4110, 4111, 4112, 4113, 4114, 4115, 4116, 4117, 4118, 4119, 4120, 4121, 4122, 4123, 4124, 4125, 4126, 4127, 4128, 4129, 4130, 4131, 4132, 4133, 4134, 4135, 4136, 4137, 4138, 4139, 4140, 4141, 4142, 4143, 4144, 4145, 4146, 4147, 4148, 4149, 4150, 4151, 4152, 4153, 4154, 4155, 4156, 4157, 4158, 4159, 4161, 4162, 4163, 4164, 4165, 4166, 4167, 4168, 4169, 4170, 4171, 4172, 4173, 4174, 4175, 4176, 4177, 4178, 4179, 4186, 4187, 4188, 4189, 4190, 4191, 4192, 4193, 4194, 4195, 4196, 4197, 4198, 4199, 4200, 4201, 4202, 4203, 4204, 4205, 4206, 4207, 4208, 4209, 4210, 4211, 4212, 4213, 4214, 4215, 4216, 4217, 4218, 4219, 4220, 4221, 4222, 4223, 4224, 4225, 4226, 4227, 4228, 4229, 4230, 4231, 4232, 4233, 4234, 4235, 4236, 4237, 4238, 4239, 4241, 4242, 4243, 4244, 4245, 4246, 4247, 4248, 4249, 4250, 4251, 4252, 4253, 4254, 4255, 4256, 4257, 4258, 4259, 4260, 4261, 4269, 4270, 4271, 4272, 4273, 4274, 4275, 4276, 4277, 4278, 4279, 4280, 4281, 4282, 4283, 4284, 4285, 4286, 4287, 4288, 4289, 4290, 4291, 4292, 4293, 4294, 4295, 4296, 4297, 4298, 4299, 4300, 4301, 4302, 4303, 4304, 4305, 4306, 4307, 4308, 4309, 4310, 4311, 4312, 4313, 4314, 4315, 4316, 4317, 4318, 4319, 4321, 4322, 4323, 4324, 4325, 4326, 4327, 4328, 4329, 4330, 4331, 4332, 4333, 4334, 4335, 4336, 4337, 4338, 4339, 4340, 4341, 4342, 4343, 4351, 4352, 4353, 4354, 4355, 4356, 4357, 4358, 4359, 4360, 4361, 4362, 4363, 4364, 4365, 4366, 4367, 4368, 4369, 4370, 4371, 4372, 4373, 4374, 4375, 4376, 4377, 4378, 4379, 4380, 4381, 4382, 4383, 4384, 4385, 4386, 4387, 4388, 4389, 4390, 4391, 4392, 4393, 4394, 4395, 4396, 4397, 4398, 4399, 4401, 4402, 4403, 4404, 4405, 4406, 4407, 4408, 4409, 4410, 4411, 4412, 4413, 4414, 4415, 4416, 4417, 4418, 4419, 4420, 4421, 4422, 4423, 4424, 4425, 4434, 4435, 4436, 4437, 4438, 4439, 4440, 4441, 4442, 4443, 4444, 4445, 4446, 4447, 4448, 4449, 4450, 4451, 4452, 4453, 4454, 4455, 4456, 4457, 4458, 4459, 4460, 4461, 4462, 4463, 4464, 4465, 4466, 4467, 4468, 4469, 4470, 4471, 4472, 4473, 4474, 4475, 4476, 4477, 4478, 4482, 4483, 4484, 4485, 4486, 4487, 4488, 4489, 4490, 4491, 4492, 4493, 4494, 4495, 4496, 4497, 4498, 4499, 4500, 4501, 4502, 4503, 4504, 4505, 4506, 4516, 4517, 4518, 4519, 4520, 4521, 4522, 4523, 4524, 4525, 4526, 4527, 4528, 4529, 4530, 4531, 4532, 4533, 4534, 4535, 4536, 4537, 4538, 4539, 4540, 4541, 4542, 4543, 4544, 4545, 4546, 4547, 4548, 4549, 4550, 4551, 4552, 4553, 4554, 4555, 4556, 4557, 4558, 4562, 4563, 4564, 4565, 4566, 4567, 4568, 4569, 4570, 4571, 4572, 4573, 4574, 4575, 4576, 4577, 4578, 4579, 4580, 4581, 4582, 4583, 4584, 4585, 4586, 4587, 4588, 4598, 4599, 4600, 4601, 4602, 4603, 4604, 4605, 4606, 4607, 4608, 4609, 4610, 4611, 4612, 4613, 4614, 4615, 4616, 4617, 4618, 4619, 4620, 4621, 4622, 4623, 4624, 4625, 4626, 4627, 4628, 4629, 4630, 4631, 4632, 4633, 4634, 4635, 4636, 4637, 4638, 4642, 4643, 4644, 4645, 4646, 4647, 4648, 4649, 4650, 4651, 4652, 4653, 4654, 4655, 4656, 4657, 4658, 4659, 4660, 4661, 4662, 4663, 4664, 4665, 4666, 4667, 4668, 4669, 4670, 4681, 4682, 4683, 4684, 4685, 4686, 4687, 4688, 4689, 4690, 4691, 4692, 4693, 4694, 4695, 4696, 4697, 4698, 4699, 4700, 4701, 4702, 4703, 4704, 4705, 4706, 4707, 4708, 4709, 4710, 4711, 4712, 4713, 4714, 4715, 4716, 4717, 4718, 4722, 4723, 4724, 4725, 4726, 4727, 4728, 4729, 4730, 4731, 4732, 4733, 4734, 4735, 4736, 4737, 4738, 4739, 4740, 4741, 4742, 4743, 4744, 4745, 4746, 4747, 4748, 4749, 4750, 4751, 4752, 4763, 4764, 4765, 4766, 4767, 4768, 4769, 4770, 4771, 4772, 4773, 4774, 4775, 4776, 4777, 4778, 4779, 4780, 4781, 4782, 4783, 4784, 4785, 4786, 4787, 4788, 4789, 4790, 4791, 4792, 4793, 4794, 4795, 4796, 4797, 4798, 4802, 4803, 4804, 4805, 4806, 4807, 4808, 4809, 4810, 4811, 4812, 4813, 4814, 4815, 4816, 4817, 4818, 4819, 4820, 4821, 4822, 4823, 4824, 4825, 4826, 4827, 4828, 4829, 4830, 4831, 4832, 4833, 4834, 4845, 4846, 4847, 4848, 4849, 4850, 4851, 4852, 4853, 4854, 4855, 4856, 4857, 4858, 4859, 4860, 4861, 4862, 4863, 4864, 4865, 4866, 4867, 4868, 4869, 4870, 4871, 4872, 4873, 4874, 4875, 4876, 4877, 4878, 4882, 4883, 4884, 4885, 4886, 4887, 4888, 4889, 4890, 4891, 4892, 4893, 4894, 4895, 4896, 4897, 4898, 4899, 4900, 4901, 4902, 4903, 4904, 4905, 4906, 4907, 4908, 4909, 4910, 4911, 4912, 4913, 4914, 4915, 4928, 4929, 4930, 4931, 4932, 4933, 4934, 4935, 4936, 4937, 4938, 4939, 4940, 4941, 4942, 4943, 4944, 4945, 4946, 4947, 4948, 4949, 4950, 4951, 4952, 4953, 4954, 4955, 4956, 4957, 4958, 4962, 4963, 4964, 4965, 4966, 4967, 4968, 4969, 4970, 4971, 4972, 4973, 4974, 4975, 4976, 4977, 4978, 4979, 4980, 4981, 4982, 4983, 4984, 4985, 4986, 4987, 4988, 4989, 4990, 4991, 4992, 4993, 4994, 4995, 4996, 4997, 5010, 5011, 5012, 5013, 5014, 5015, 5016, 5017, 5018, 5019, 5020, 5021, 5022, 5023, 5024, 5025, 5026, 5027, 5028, 5029, 5030, 5031, 5032, 5033, 5034, 5035, 5036, 5037, 5038, 5042, 5043, 5044, 5045, 5046, 5047, 5048, 5049, 5050, 5051, 5052, 5053, 5054, 5055, 5056, 5057, 5058, 5059, 5060, 5061, 5062, 5063, 5064, 5065, 5066, 5067, 5068, 5069, 5070, 5071, 5072, 5073, 5074, 5075, 5076, 5077, 5078, 5079, 5092, 5093, 5094, 5095, 5096, 5097, 5098, 5099, 5100, 5101, 5102, 5103, 5104, 5105, 5106, 5107, 5108, 5109, 5110, 5111, 5112, 5113, 5114, 5115, 5116, 5117, 5118, 5122, 5123, 5124, 5125, 5126, 5127, 5128, 5129, 5130, 5131, 5132, 5133, 5134, 5135, 5136, 5137, 5138, 5139, 5140, 5141, 5142, 5143, 5144, 5145, 5146, 5147, 5148, 5149, 5150, 5151, 5152, 5153, 5154, 5155, 5156, 5157, 5158, 5159, 5160, 5161, 5175, 5176, 5177, 5178, 5179, 5180, 5181, 5182, 5183, 5184, 5185, 5186, 5187, 5188, 5189, 5190, 5191, 5192, 5193, 5194, 5195, 5196, 5197, 5198, 5202, 5203, 5204, 5205, 5206, 5207, 5208, 5209, 5210, 5211, 5212, 5213, 5214, 5215, 5216, 5217, 5218, 5219, 5220, 5221, 5222, 5223, 5224, 5225, 5226, 5227, 5228, 5229, 5230, 5231, 5232, 5233, 5234, 5235, 5236, 5237, 5238, 5239, 5240, 5241, 5242, 5243, 5257, 5258, 5259, 5260, 5261, 5262, 5263, 5264, 5265, 5266, 5267, 5268, 5269, 5270, 5271, 5272, 5273, 5274, 5275, 5276, 5277, 5278, 5282, 5283, 5284, 5285, 5286, 5287, 5288, 5289, 5290, 5291, 5292, 5293, 5294, 5295, 5296, 5297, 5298, 5299, 5300, 5301, 5302, 5303, 5304, 5305, 5306, 5307, 5308, 5309, 5310, 5311, 5312, 5313, 5314, 5315, 5316, 5317, 5318, 5319, 5320, 5321, 5322, 5323, 5324, 5340, 5341, 5342, 5343, 5344, 5345, 5346, 5347, 5348, 5349, 5350, 5351, 5352, 5353, 5354, 5355, 5356, 5357, 5358, 5362, 5363, 5364, 5365, 5366, 5367, 5368, 5369, 5370, 5371, 5372, 5373, 5374, 5375, 5376, 5377, 5378, 5379, 5380, 5381, 5382, 5383, 5384, 5385, 5386, 5387, 5388, 5389, 5390, 5391, 5392, 5393, 5394, 5395, 5396, 5397, 5398, 5399, 5400, 5401, 5402, 5403, 5404, 5405, 5406, 5422, 5423, 5424, 5425, 5426, 5427, 5428, 5429, 5430, 5431, 5432, 5433, 5434, 5435, 5436, 5437, 5438, 5442, 5443, 5444, 5445, 5446, 5447, 5448, 5449, 5450, 5451, 5452, 5453, 5454, 5455, 5456, 5457, 5458, 5459, 5460, 5461, 5462, 5463, 5464, 5465, 5466, 5467, 5468, 5469, 5470, 5471, 5472, 5473, 5474, 5475, 5476, 5477, 5478, 5479, 5480, 5481, 5482, 5483, 5484, 5485, 5486, 5487, 5488, 5504, 5505, 5506, 5507, 5508, 5509, 5510, 5511, 5512, 5513, 5514, 5515, 5516, 5517, 5518, 5522, 5523, 5524, 5525, 5526, 5527, 5528, 5529, 5530, 5531, 5532, 5533, 5534, 5535, 5536, 5537, 5538, 5539, 5540, 5541, 5542, 5543, 5544, 5545, 5546, 5547, 5548, 5549, 5550, 5551, 5552, 5553, 5554, 5555, 5556, 5557, 5558, 5559, 5560, 5561, 5562, 5563, 5564, 5565, 5566, 5567, 5568, 5569, 5570, 5587, 5588, 5589, 5590, 5591, 5592, 5593, 5594, 5595, 5596, 5597, 5603, 5604, 5605, 5606, 5607, 5608, 5609, 5610, 5611, 5612, 5613, 5614, 5615, 5616, 5617, 5618, 5619, 5620, 5621, 5622, 5623, 5624, 5625, 5626, 5627, 5628, 5629, 5630, 5631, 5632, 5633, 5634, 5635, 5636, 5637, 5638, 5639, 5640, 5641, 5642, 5643, 5644, 5645, 5646, 5647, 5648, 5649, 5650, 5651, 5669, 5670, 5671, 5672, 5673, 5674, 5675, 5676, 5677, 5683, 5684, 5685, 5686, 5687, 5688, 5689, 5690, 5691, 5692, 5693, 5694, 5695, 5696, 5697, 5698, 5699, 5700, 5701, 5702, 5703, 5704, 5705, 5706, 5707, 5708, 5709, 5710, 5711, 5712, 5713, 5714, 5715, 5716, 5717, 5718, 5719, 5720, 5721, 5722, 5723, 5724, 5725, 5726, 5727, 5728, 5729, 5730, 5731, 5732, 5733, 5751, 5752, 5753, 5754, 5755, 5756, 5757, 5763, 5764, 5765, 5766, 5767, 5768, 5769, 5770, 5771, 5772, 5773, 5774, 5775, 5776, 5777, 5778, 5779, 5780, 5781, 5782, 5783, 5784, 5785, 5786, 5787, 5788, 5789, 5790, 5791, 5792, 5793, 5794, 5795, 5796, 5797, 5798, 5799, 5800, 5801, 5802, 5803, 5804, 5805, 5806, 5807, 5808, 5809, 5810, 5811, 5812, 5813, 5814, 5815, 5832, 5833, 5834, 5835, 5836, 5837, 5843, 5844, 5845, 5846, 5847, 5848, 5849, 5850, 5851, 5852, 5853, 5854, 5855, 5856, 5857, 5858, 5859, 5860, 5861, 5862, 5863, 5864, 5865, 5866, 5867, 5868, 5869, 5870, 5871, 5872, 5873, 5874, 5875, 5876, 5877, 5878, 5879, 5880, 5881, 5882, 5883, 5884, 5885, 5886, 5887, 5888, 5889, 5890, 5891, 5892, 5893, 5894, 5895, 5896, 5897, 5913, 5914, 5915, 5916, 5917, 5923, 5924, 5925, 5926, 5927, 5928, 5929, 5930, 5931, 5932, 5933, 5934, 5935, 5936, 5937, 5938, 5939, 5940, 5941, 5942, 5943, 5944, 5945, 5946, 5947, 5948, 5949, 5950, 5951, 5952, 5953, 5954, 5955, 5956, 5957, 5958, 5959, 5960, 5961, 5962, 5963, 5964, 5965, 5966, 5967, 5968, 5969, 5970, 5971, 5972, 5973, 5974, 5975, 5976, 5977, 5978, 5979, 5994, 5995, 5996, 5997, 6003, 6004, 6005, 6006, 6007, 6008, 6009, 6010, 6011, 6012, 6013, 6014, 6015, 6016, 6017, 6018, 6019, 6020, 6021, 6022, 6023, 6024, 6025, 6026, 6027, 6028, 6029, 6030, 6031, 6032, 6033, 6034, 6035, 6036, 6037, 6038, 6039, 6040, 6041, 6042, 6043, 6044, 6045, 6046, 6047, 6048, 6049, 6050, 6051, 6052, 6053, 6054, 6055, 6056, 6057, 6058, 6059, 6060, 6075, 6076, 6077, 6083, 6084, 6085, 6086, 6087, 6088, 6089, 6090, 6091, 6092, 6093, 6094, 6095, 6096, 6097, 6098, 6099, 6100, 6101, 6102, 6103, 6104, 6105, 6106, 6107, 6108, 6109, 6110, 6111, 6112, 6113, 6114, 6115, 6116, 6117, 6118, 6119, 6120, 6121, 6122, 6123, 6124, 6125, 6126, 6127, 6128, 6129, 6130, 6131, 6132, 6133, 6134, 6135, 6136, 6137, 6138, 6139, 6140, 6141, 6142, 6156, 6157, 6163, 6164, 6165, 6166, 6167, 6168, 6169, 6170, 6171, 6172, 6173, 6174, 6175, 6176, 6177, 6178, 6179, 6180, 6181, 6182, 6183, 6184, 6185, 6186, 6187, 6188, 6189, 6190, 6191, 6192, 6193, 6194, 6195, 6196, 6197, 6198, 6199, 6200, 6201, 6202, 6203, 6204, 6205, 6206, 6207, 6208, 6209, 6210, 6211, 6212, 6213, 6214, 6215, 6216, 6217, 6218, 6219, 6220, 6221, 6222, 6223, 6224, 6237, 6243, 6244, 6245, 6246, 6247, 6248, 6249, 6250, 6251, 6252, 6253, 6254, 6255, 6256, 6257, 6258, 6259, 6260, 6261, 6262, 6263, 6264, 6265, 6266, 6267, 6268, 6269, 6270, 6271, 6272, 6273, 6274, 6275, 6276, 6277, 6278, 6279, 6280, 6281, 6282, 6283, 6284, 6285, 6286, 6287, 6288, 6289, 6290, 6291, 6292, 6293, 6294, 6295, 6296, 6297, 6298, 6299, 6300, 6301, 6302, 6303, 6304, 6305, 6306, 6323, 6324, 6325, 6326, 6327, 6328, 6329, 6330, 6331, 6332, 6333, 6334, 6335, 6336, 6337, 6338, 6339, 6340, 6341, 6342, 6343, 6344, 6345, 6346, 6347, 6348, 6349, 6350, 6351, 6352, 6353, 6354, 6355, 6356, 6357, 6358, 6359, 6360, 6361, 6362, 6363, 6364, 6365, 6366, 6367, 6368, 6369, 6370, 6371, 6372, 6373, 6374, 6375, 6376, 6377, 6378, 6379, 6380, 6381, 6382, 6383, 6384, 6385, 6386, 6387, 6388, 6403, 6404, 6405, 6406, 6407, 6408, 6409, 6410, 6411, 6412, 6413, 6414, 6415, 6416, 6417, 6418, 6419, 6420, 6421, 6422, 6423, 6424, 6425, 6426, 6427, 6428, 6429, 6430, 6431, 6432, 6433, 6434, 6435, 6436, 6437, 6438, 6439, 6440, 6441, 6442, 6443, 6444, 6445, 6446, 6447, 6448, 6449, 6450, 6451, 6452, 6453, 6454, 6455, 6456, 6457, 6458, 6459, 6460, 6461, 6462, 6463, 6464, 6465, 6466, 6467, 6468, 6469, 6483, 6484, 6485, 6486, 6487, 6488, 6489, 6490, 6491, 6492, 6493, 6494, 6495, 6496, 6497, 6498, 6499, 6500, 6501, 6502, 6503, 6504, 6505, 6506, 6507, 6508, 6509, 6510, 6511, 6512, 6513, 6514, 6515, 6516, 6517, 6518, 6519, 6520, 6521, 6522, 6523, 6524, 6525, 6526, 6527, 6528, 6529, 6530, 6531, 6532, 6533, 6534, 6535, 6536, 6537, 6538, 6539, 6540, 6541, 6542, 6543, 6544, 6545, 6546, 6547, 6548, 6549, 6550, 6551]\n",
      "val ids:  []\n",
      "test ids:  [0, 1, 2, 3, 4, 5, 6, 7, 8, 78, 79, 80, 81, 82, 83, 84, 85, 86, 87, 88, 89, 90, 158, 159, 160, 161, 162, 163, 164, 165, 166, 167, 168, 169, 170, 171, 238, 239, 240, 241, 242, 243, 244, 245, 246, 247, 248, 249, 250, 251, 252, 253, 318, 319, 320, 321, 322, 324, 325, 326, 327, 328, 329, 330, 331, 332, 333, 334, 335, 398, 399, 400, 401, 402, 405, 406, 407, 408, 409, 410, 411, 412, 413, 414, 415, 416, 417, 478, 479, 480, 481, 482, 486, 487, 488, 489, 490, 491, 492, 493, 494, 495, 496, 497, 498, 499, 558, 559, 560, 561, 562, 567, 568, 569, 570, 571, 572, 573, 574, 575, 576, 577, 578, 579, 580, 638, 639, 640, 641, 642, 648, 649, 650, 651, 652, 653, 654, 655, 656, 657, 658, 659, 660, 661, 662, 718, 719, 720, 721, 722, 729, 730, 731, 732, 733, 734, 735, 736, 737, 738, 739, 740, 741, 742, 743, 744, 798, 799, 800, 801, 802, 810, 811, 812, 813, 814, 815, 816, 817, 818, 819, 820, 821, 822, 823, 824, 825, 826, 878, 879, 880, 881, 882, 892, 893, 894, 895, 896, 897, 898, 899, 900, 901, 902, 903, 904, 905, 906, 907, 908, 958, 959, 960, 961, 962, 974, 975, 976, 977, 978, 979, 980, 981, 982, 983, 984, 985, 986, 987, 988, 989, 1039, 1040, 1041, 1057, 1058, 1059, 1060, 1061, 1062, 1063, 1064, 1065, 1066, 1067, 1068, 1069, 1070, 1071, 1119, 1120, 1121, 1139, 1140, 1141, 1142, 1143, 1144, 1145, 1146, 1147, 1148, 1149, 1150, 1151, 1152, 1153, 1199, 1200, 1201, 1221, 1222, 1223, 1224, 1225, 1226, 1227, 1228, 1229, 1230, 1231, 1232, 1233, 1234, 1235, 1279, 1280, 1281, 1304, 1305, 1306, 1307, 1308, 1309, 1310, 1311, 1312, 1313, 1314, 1315, 1316, 1359, 1360, 1361, 1386, 1387, 1388, 1389, 1390, 1391, 1392, 1393, 1394, 1395, 1396, 1397, 1398, 1439, 1440, 1441, 1469, 1470, 1471, 1472, 1473, 1474, 1475, 1476, 1477, 1478, 1479, 1480, 1519, 1520, 1521, 1551, 1552, 1553, 1554, 1555, 1556, 1557, 1558, 1559, 1560, 1561, 1562, 1599, 1600, 1601, 1633, 1634, 1635, 1636, 1637, 1638, 1639, 1640, 1641, 1642, 1643, 1644, 1679, 1680, 1681, 1716, 1717, 1718, 1719, 1720, 1721, 1722, 1723, 1724, 1725, 1759, 1760, 1761, 1798, 1799, 1800, 1801, 1802, 1803, 1804, 1805, 1806, 1807, 1839, 1840, 1841, 1880, 1881, 1882, 1883, 1884, 1885, 1886, 1887, 1888, 1889, 1919, 1920, 1921, 1963, 1964, 1965, 1966, 1967, 1968, 1969, 1970, 1971, 1999, 2000, 2001, 2045, 2046, 2047, 2048, 2049, 2050, 2051, 2052, 2053, 2079, 2080, 2081, 2127, 2128, 2129, 2130, 2131, 2132, 2133, 2134, 2160, 2210, 2211, 2212, 2213, 2214, 2215, 2216, 2240, 2292, 2293, 2294, 2295, 2296, 2297, 2298, 2320, 2375, 2376, 2377, 2378, 2379, 2380, 2400, 2457, 2458, 2459, 2460, 2461, 2462, 2480, 2539, 2540, 2541, 2542, 2543, 2560, 2622, 2623, 2624, 2625, 2640, 2704, 2705, 2706, 2707, 2720, 2786, 2787, 2788, 2789, 2800, 2869, 2870, 2871, 2880, 2951, 2952, 2960, 3033, 3034, 3040, 3116, 3120, 3198, 3200, 3280, 3360, 3362, 3440, 3444, 3520, 3526, 3527, 3600, 3608, 3609, 3680, 3689, 3690, 3691, 3760, 3771, 3772, 3773, 3774, 3840, 3853, 3854, 3855, 3856, 3920, 3935, 3936, 3937, 3938, 4000, 4017, 4018, 4019, 4020, 4021, 4080, 4098, 4099, 4100, 4101, 4102, 4103, 4160, 4180, 4181, 4182, 4183, 4184, 4185, 4240, 4262, 4263, 4264, 4265, 4266, 4267, 4268, 4320, 4344, 4345, 4346, 4347, 4348, 4349, 4350, 4400, 4426, 4427, 4428, 4429, 4430, 4431, 4432, 4433, 4479, 4480, 4481, 4507, 4508, 4509, 4510, 4511, 4512, 4513, 4514, 4515, 4559, 4560, 4561, 4589, 4590, 4591, 4592, 4593, 4594, 4595, 4596, 4597, 4639, 4640, 4641, 4671, 4672, 4673, 4674, 4675, 4676, 4677, 4678, 4679, 4680, 4719, 4720, 4721, 4753, 4754, 4755, 4756, 4757, 4758, 4759, 4760, 4761, 4762, 4799, 4800, 4801, 4835, 4836, 4837, 4838, 4839, 4840, 4841, 4842, 4843, 4844, 4879, 4880, 4881, 4916, 4917, 4918, 4919, 4920, 4921, 4922, 4923, 4924, 4925, 4926, 4927, 4959, 4960, 4961, 4998, 4999, 5000, 5001, 5002, 5003, 5004, 5005, 5006, 5007, 5008, 5009, 5039, 5040, 5041, 5080, 5081, 5082, 5083, 5084, 5085, 5086, 5087, 5088, 5089, 5090, 5091, 5119, 5120, 5121, 5162, 5163, 5164, 5165, 5166, 5167, 5168, 5169, 5170, 5171, 5172, 5173, 5174, 5199, 5200, 5201, 5244, 5245, 5246, 5247, 5248, 5249, 5250, 5251, 5252, 5253, 5254, 5255, 5256, 5279, 5280, 5281, 5325, 5326, 5327, 5328, 5329, 5330, 5331, 5332, 5333, 5334, 5335, 5336, 5337, 5338, 5339, 5359, 5360, 5361, 5407, 5408, 5409, 5410, 5411, 5412, 5413, 5414, 5415, 5416, 5417, 5418, 5419, 5420, 5421, 5439, 5440, 5441, 5489, 5490, 5491, 5492, 5493, 5494, 5495, 5496, 5497, 5498, 5499, 5500, 5501, 5502, 5503, 5519, 5520, 5521, 5571, 5572, 5573, 5574, 5575, 5576, 5577, 5578, 5579, 5580, 5581, 5582, 5583, 5584, 5585, 5586, 5598, 5599, 5600, 5601, 5602, 5652, 5653, 5654, 5655, 5656, 5657, 5658, 5659, 5660, 5661, 5662, 5663, 5664, 5665, 5666, 5667, 5668, 5678, 5679, 5680, 5681, 5682, 5734, 5735, 5736, 5737, 5738, 5739, 5740, 5741, 5742, 5743, 5744, 5745, 5746, 5747, 5748, 5749, 5750, 5758, 5759, 5760, 5761, 5762, 5816, 5817, 5818, 5819, 5820, 5821, 5822, 5823, 5824, 5825, 5826, 5827, 5828, 5829, 5830, 5831, 5838, 5839, 5840, 5841, 5842, 5898, 5899, 5900, 5901, 5902, 5903, 5904, 5905, 5906, 5907, 5908, 5909, 5910, 5911, 5912, 5918, 5919, 5920, 5921, 5922, 5980, 5981, 5982, 5983, 5984, 5985, 5986, 5987, 5988, 5989, 5990, 5991, 5992, 5993, 5998, 5999, 6000, 6001, 6002, 6061, 6062, 6063, 6064, 6065, 6066, 6067, 6068, 6069, 6070, 6071, 6072, 6073, 6074, 6078, 6079, 6080, 6081, 6082, 6143, 6144, 6145, 6146, 6147, 6148, 6149, 6150, 6151, 6152, 6153, 6154, 6155, 6158, 6159, 6160, 6161, 6162, 6225, 6226, 6227, 6228, 6229, 6230, 6231, 6232, 6233, 6234, 6235, 6236, 6238, 6239, 6240, 6241, 6242, 6307, 6308, 6309, 6310, 6311, 6312, 6313, 6314, 6315, 6316, 6317, 6318, 6319, 6320, 6321, 6322, 6389, 6390, 6391, 6392, 6393, 6394, 6395, 6396, 6397, 6398, 6399, 6400, 6401, 6402, 6470, 6471, 6472, 6473, 6474, 6475, 6476, 6477, 6478, 6479, 6480, 6481, 6482, 6552, 6553, 6554, 6555, 6556, 6557, 6558, 6559, 6560]\n",
      "CPU times: user 195 ms, sys: 12.3 ms, total: 207 ms\n",
      "Wall time: 206 ms\n"
     ]
    }
   ],
   "source": [
    "%%time\n",
    "n_total = len(simulation.dataframe)\n",
    "n_train = len(simulation.dataframe[simulation.dataframe.type_of == \"train\"])\n",
    "n_val = len(simulation.dataframe[simulation.dataframe.type_of == \"val\"])\n",
    "n_test = len(simulation.dataframe[simulation.dataframe.type_of == \"test\"])\n",
    "n_train_hamiltonians = len(simulation.train_ids)\n",
    "n_val_hamiltonians = len(simulation.val_ids)\n",
    "n_test_hamiltonians = len(simulation.test_ids)\n",
    "n_total_hamiltonians = n_train_hamiltonians + n_val_hamiltonians + n_test_hamiltonians\n",
    "\n",
    "print(\"% train: \", n_train/n_total)\n",
    "print(\"% val: \",  n_val/n_total)\n",
    "print(\"% test: \", n_test/n_total)\n",
    "print(\"% train + val + test: \", (n_train+n_val+n_test)/n_total)\n",
    "print(\"\\n\")\n",
    "print(\"number of train hamiltonians: \", n_train_hamiltonians)\n",
    "print(\"number of val hamiltonians: \", n_val_hamiltonians)\n",
    "print(\"number of test hamiltonians: \", n_test_hamiltonians)\n",
    "print(\"total number of hamiltonians: \", n_total_hamiltonians)\n",
    "print(\"\\n\")\n",
    "print(\"train ids: \", simulation.train_ids)\n",
    "print(\"val ids: \", simulation.val_ids)\n",
    "print(\"test ids: \", simulation.test_ids)"
   ]
  },
  {
   "cell_type": "markdown",
   "metadata": {
    "papermill": {
     "duration": 0.018744,
     "end_time": "2020-07-16T03:06:59.273806",
     "exception": false,
     "start_time": "2020-07-16T03:06:59.255062",
     "status": "completed"
    },
    "tags": []
   },
   "source": [
    "## Running a simulation"
   ]
  },
  {
   "cell_type": "code",
   "execution_count": 27,
   "metadata": {
    "execution": {
     "iopub.execute_input": "2020-07-16T03:06:59.314194Z",
     "iopub.status.busy": "2020-07-16T03:06:59.313881Z",
     "iopub.status.idle": "2020-07-16T03:09:24.471208Z",
     "shell.execute_reply": "2020-07-16T03:09:24.471474Z"
    },
    "papermill": {
     "duration": 145.178797,
     "end_time": "2020-07-16T03:09:24.471543",
     "exception": false,
     "start_time": "2020-07-16T03:06:59.292746",
     "status": "completed"
    },
    "tags": []
   },
   "outputs": [
    {
     "name": "stderr",
     "output_type": "stream",
     "text": [
      "\r",
      "running experiments:   0%|          | 0/100 [00:00<?, ?it/s]"
     ]
    },
    {
     "name": "stdout",
     "output_type": "stream",
     "text": [
      "Simulation mode:  dst\n"
     ]
    },
    {
     "name": "stderr",
     "output_type": "stream",
     "text": [
      "\r",
      "running experiments:   1%|          | 1/100 [00:01<02:20,  1.42s/it]"
     ]
    },
    {
     "name": "stderr",
     "output_type": "stream",
     "text": [
      "\r",
      "running experiments:   2%|▏         | 2/100 [00:02<02:19,  1.42s/it]"
     ]
    },
    {
     "name": "stderr",
     "output_type": "stream",
     "text": [
      "\r",
      "running experiments:   3%|▎         | 3/100 [00:04<02:18,  1.43s/it]"
     ]
    },
    {
     "name": "stderr",
     "output_type": "stream",
     "text": [
      "\r",
      "running experiments:   4%|▍         | 4/100 [00:05<02:17,  1.43s/it]"
     ]
    },
    {
     "name": "stderr",
     "output_type": "stream",
     "text": [
      "\r",
      "running experiments:   5%|▌         | 5/100 [00:07<02:17,  1.45s/it]"
     ]
    },
    {
     "name": "stderr",
     "output_type": "stream",
     "text": [
      "\r",
      "running experiments:   6%|▌         | 6/100 [00:08<02:16,  1.45s/it]"
     ]
    },
    {
     "name": "stderr",
     "output_type": "stream",
     "text": [
      "\r",
      "running experiments:   7%|▋         | 7/100 [00:10<02:14,  1.45s/it]"
     ]
    },
    {
     "name": "stderr",
     "output_type": "stream",
     "text": [
      "\r",
      "running experiments:   8%|▊         | 8/100 [00:11<02:12,  1.44s/it]"
     ]
    },
    {
     "name": "stderr",
     "output_type": "stream",
     "text": [
      "\r",
      "running experiments:   9%|▉         | 9/100 [00:13<02:11,  1.45s/it]"
     ]
    },
    {
     "name": "stderr",
     "output_type": "stream",
     "text": [
      "\r",
      "running experiments:  10%|█         | 10/100 [00:14<02:10,  1.45s/it]"
     ]
    },
    {
     "name": "stderr",
     "output_type": "stream",
     "text": [
      "\r",
      "running experiments:  11%|█         | 11/100 [00:15<02:09,  1.45s/it]"
     ]
    },
    {
     "name": "stderr",
     "output_type": "stream",
     "text": [
      "\r",
      "running experiments:  12%|█▏        | 12/100 [00:17<02:07,  1.45s/it]"
     ]
    },
    {
     "name": "stderr",
     "output_type": "stream",
     "text": [
      "\r",
      "running experiments:  13%|█▎        | 13/100 [00:18<02:06,  1.45s/it]"
     ]
    },
    {
     "name": "stderr",
     "output_type": "stream",
     "text": [
      "\r",
      "running experiments:  14%|█▍        | 14/100 [00:20<02:05,  1.46s/it]"
     ]
    },
    {
     "name": "stderr",
     "output_type": "stream",
     "text": [
      "\r",
      "running experiments:  15%|█▌        | 15/100 [00:21<02:03,  1.45s/it]"
     ]
    },
    {
     "name": "stderr",
     "output_type": "stream",
     "text": [
      "\r",
      "running experiments:  16%|█▌        | 16/100 [00:23<02:01,  1.45s/it]"
     ]
    },
    {
     "name": "stderr",
     "output_type": "stream",
     "text": [
      "\r",
      "running experiments:  17%|█▋        | 17/100 [00:24<01:59,  1.44s/it]"
     ]
    },
    {
     "name": "stderr",
     "output_type": "stream",
     "text": [
      "\r",
      "running experiments:  18%|█▊        | 18/100 [00:26<01:57,  1.44s/it]"
     ]
    },
    {
     "name": "stderr",
     "output_type": "stream",
     "text": [
      "\r",
      "running experiments:  19%|█▉        | 19/100 [00:27<01:55,  1.43s/it]"
     ]
    },
    {
     "name": "stderr",
     "output_type": "stream",
     "text": [
      "\r",
      "running experiments:  20%|██        | 20/100 [00:28<01:54,  1.43s/it]"
     ]
    },
    {
     "name": "stderr",
     "output_type": "stream",
     "text": [
      "\r",
      "running experiments:  21%|██        | 21/100 [00:30<01:52,  1.43s/it]"
     ]
    },
    {
     "name": "stderr",
     "output_type": "stream",
     "text": [
      "\r",
      "running experiments:  22%|██▏       | 22/100 [00:31<01:51,  1.43s/it]"
     ]
    },
    {
     "name": "stderr",
     "output_type": "stream",
     "text": [
      "\r",
      "running experiments:  23%|██▎       | 23/100 [00:33<01:49,  1.42s/it]"
     ]
    },
    {
     "name": "stderr",
     "output_type": "stream",
     "text": [
      "\r",
      "running experiments:  24%|██▍       | 24/100 [00:34<01:48,  1.42s/it]"
     ]
    },
    {
     "name": "stderr",
     "output_type": "stream",
     "text": [
      "\r",
      "running experiments:  25%|██▌       | 25/100 [00:35<01:46,  1.43s/it]"
     ]
    },
    {
     "name": "stderr",
     "output_type": "stream",
     "text": [
      "\r",
      "running experiments:  26%|██▌       | 26/100 [00:37<01:45,  1.43s/it]"
     ]
    },
    {
     "name": "stderr",
     "output_type": "stream",
     "text": [
      "\r",
      "running experiments:  27%|██▋       | 27/100 [00:38<01:44,  1.43s/it]"
     ]
    },
    {
     "name": "stderr",
     "output_type": "stream",
     "text": [
      "\r",
      "running experiments:  28%|██▊       | 28/100 [00:40<01:42,  1.42s/it]"
     ]
    },
    {
     "name": "stderr",
     "output_type": "stream",
     "text": [
      "\r",
      "running experiments:  29%|██▉       | 29/100 [00:41<01:41,  1.42s/it]"
     ]
    },
    {
     "name": "stderr",
     "output_type": "stream",
     "text": [
      "\r",
      "running experiments:  30%|███       | 30/100 [00:43<01:39,  1.43s/it]"
     ]
    },
    {
     "name": "stderr",
     "output_type": "stream",
     "text": [
      "\r",
      "running experiments:  31%|███       | 31/100 [00:44<01:39,  1.44s/it]"
     ]
    },
    {
     "name": "stderr",
     "output_type": "stream",
     "text": [
      "\r",
      "running experiments:  32%|███▏      | 32/100 [00:46<01:37,  1.44s/it]"
     ]
    },
    {
     "name": "stderr",
     "output_type": "stream",
     "text": [
      "\r",
      "running experiments:  33%|███▎      | 33/100 [00:47<01:37,  1.46s/it]"
     ]
    },
    {
     "name": "stderr",
     "output_type": "stream",
     "text": [
      "\r",
      "running experiments:  34%|███▍      | 34/100 [00:48<01:35,  1.45s/it]"
     ]
    },
    {
     "name": "stderr",
     "output_type": "stream",
     "text": [
      "\r",
      "running experiments:  35%|███▌      | 35/100 [00:50<01:34,  1.46s/it]"
     ]
    },
    {
     "name": "stderr",
     "output_type": "stream",
     "text": [
      "\r",
      "running experiments:  36%|███▌      | 36/100 [00:51<01:32,  1.45s/it]"
     ]
    },
    {
     "name": "stderr",
     "output_type": "stream",
     "text": [
      "\r",
      "running experiments:  37%|███▋      | 37/100 [00:53<01:30,  1.44s/it]"
     ]
    },
    {
     "name": "stderr",
     "output_type": "stream",
     "text": [
      "\r",
      "running experiments:  38%|███▊      | 38/100 [00:54<01:32,  1.49s/it]"
     ]
    },
    {
     "name": "stderr",
     "output_type": "stream",
     "text": [
      "\r",
      "running experiments:  39%|███▉      | 39/100 [00:56<01:30,  1.48s/it]"
     ]
    },
    {
     "name": "stderr",
     "output_type": "stream",
     "text": [
      "\r",
      "running experiments:  40%|████      | 40/100 [00:57<01:28,  1.48s/it]"
     ]
    },
    {
     "name": "stderr",
     "output_type": "stream",
     "text": [
      "\r",
      "running experiments:  41%|████      | 41/100 [00:59<01:26,  1.46s/it]"
     ]
    },
    {
     "name": "stderr",
     "output_type": "stream",
     "text": [
      "\r",
      "running experiments:  42%|████▏     | 42/100 [01:00<01:24,  1.46s/it]"
     ]
    },
    {
     "name": "stderr",
     "output_type": "stream",
     "text": [
      "\r",
      "running experiments:  43%|████▎     | 43/100 [01:02<01:23,  1.46s/it]"
     ]
    },
    {
     "name": "stderr",
     "output_type": "stream",
     "text": [
      "\r",
      "running experiments:  44%|████▍     | 44/100 [01:03<01:22,  1.47s/it]"
     ]
    },
    {
     "name": "stderr",
     "output_type": "stream",
     "text": [
      "\r",
      "running experiments:  45%|████▌     | 45/100 [01:05<01:20,  1.46s/it]"
     ]
    },
    {
     "name": "stderr",
     "output_type": "stream",
     "text": [
      "\r",
      "running experiments:  46%|████▌     | 46/100 [01:06<01:18,  1.45s/it]"
     ]
    },
    {
     "name": "stderr",
     "output_type": "stream",
     "text": [
      "\r",
      "running experiments:  47%|████▋     | 47/100 [01:07<01:16,  1.44s/it]"
     ]
    },
    {
     "name": "stderr",
     "output_type": "stream",
     "text": [
      "\r",
      "running experiments:  48%|████▊     | 48/100 [01:09<01:15,  1.44s/it]"
     ]
    },
    {
     "name": "stderr",
     "output_type": "stream",
     "text": [
      "\r",
      "running experiments:  49%|████▉     | 49/100 [01:10<01:13,  1.44s/it]"
     ]
    },
    {
     "name": "stderr",
     "output_type": "stream",
     "text": [
      "\r",
      "running experiments:  50%|█████     | 50/100 [01:12<01:11,  1.44s/it]"
     ]
    },
    {
     "name": "stderr",
     "output_type": "stream",
     "text": [
      "\r",
      "running experiments:  51%|█████     | 51/100 [01:13<01:10,  1.44s/it]"
     ]
    },
    {
     "name": "stderr",
     "output_type": "stream",
     "text": [
      "\r",
      "running experiments:  52%|█████▏    | 52/100 [01:15<01:08,  1.43s/it]"
     ]
    },
    {
     "name": "stderr",
     "output_type": "stream",
     "text": [
      "\r",
      "running experiments:  53%|█████▎    | 53/100 [01:16<01:07,  1.43s/it]"
     ]
    },
    {
     "name": "stderr",
     "output_type": "stream",
     "text": [
      "\r",
      "running experiments:  54%|█████▍    | 54/100 [01:17<01:05,  1.43s/it]"
     ]
    },
    {
     "name": "stderr",
     "output_type": "stream",
     "text": [
      "\r",
      "running experiments:  55%|█████▌    | 55/100 [01:19<01:04,  1.43s/it]"
     ]
    },
    {
     "name": "stderr",
     "output_type": "stream",
     "text": [
      "\r",
      "running experiments:  56%|█████▌    | 56/100 [01:20<01:03,  1.44s/it]"
     ]
    },
    {
     "name": "stderr",
     "output_type": "stream",
     "text": [
      "\r",
      "running experiments:  57%|█████▋    | 57/100 [01:22<01:02,  1.45s/it]"
     ]
    },
    {
     "name": "stderr",
     "output_type": "stream",
     "text": [
      "\r",
      "running experiments:  58%|█████▊    | 58/100 [01:23<01:00,  1.45s/it]"
     ]
    },
    {
     "name": "stderr",
     "output_type": "stream",
     "text": [
      "\r",
      "running experiments:  59%|█████▉    | 59/100 [01:25<00:59,  1.44s/it]"
     ]
    },
    {
     "name": "stderr",
     "output_type": "stream",
     "text": [
      "\r",
      "running experiments:  60%|██████    | 60/100 [01:26<00:58,  1.46s/it]"
     ]
    },
    {
     "name": "stderr",
     "output_type": "stream",
     "text": [
      "\r",
      "running experiments:  61%|██████    | 61/100 [01:28<00:56,  1.45s/it]"
     ]
    },
    {
     "name": "stderr",
     "output_type": "stream",
     "text": [
      "\r",
      "running experiments:  62%|██████▏   | 62/100 [01:29<00:55,  1.46s/it]"
     ]
    },
    {
     "name": "stderr",
     "output_type": "stream",
     "text": [
      "\r",
      "running experiments:  63%|██████▎   | 63/100 [01:31<00:55,  1.49s/it]"
     ]
    },
    {
     "name": "stderr",
     "output_type": "stream",
     "text": [
      "\r",
      "running experiments:  64%|██████▍   | 64/100 [01:32<00:53,  1.48s/it]"
     ]
    },
    {
     "name": "stderr",
     "output_type": "stream",
     "text": [
      "\r",
      "running experiments:  65%|██████▌   | 65/100 [01:34<00:51,  1.46s/it]"
     ]
    },
    {
     "name": "stderr",
     "output_type": "stream",
     "text": [
      "\r",
      "running experiments:  66%|██████▌   | 66/100 [01:35<00:50,  1.48s/it]"
     ]
    },
    {
     "name": "stderr",
     "output_type": "stream",
     "text": [
      "\r",
      "running experiments:  67%|██████▋   | 67/100 [01:37<00:49,  1.49s/it]"
     ]
    },
    {
     "name": "stderr",
     "output_type": "stream",
     "text": [
      "\r",
      "running experiments:  68%|██████▊   | 68/100 [01:38<00:47,  1.48s/it]"
     ]
    },
    {
     "name": "stderr",
     "output_type": "stream",
     "text": [
      "\r",
      "running experiments:  69%|██████▉   | 69/100 [01:39<00:45,  1.47s/it]"
     ]
    },
    {
     "name": "stderr",
     "output_type": "stream",
     "text": [
      "\r",
      "running experiments:  70%|███████   | 70/100 [01:41<00:44,  1.47s/it]"
     ]
    },
    {
     "name": "stderr",
     "output_type": "stream",
     "text": [
      "\r",
      "running experiments:  71%|███████   | 71/100 [01:42<00:42,  1.45s/it]"
     ]
    },
    {
     "name": "stderr",
     "output_type": "stream",
     "text": [
      "\r",
      "running experiments:  72%|███████▏  | 72/100 [01:44<00:40,  1.44s/it]"
     ]
    },
    {
     "name": "stderr",
     "output_type": "stream",
     "text": [
      "\r",
      "running experiments:  73%|███████▎  | 73/100 [01:45<00:38,  1.44s/it]"
     ]
    },
    {
     "name": "stderr",
     "output_type": "stream",
     "text": [
      "\r",
      "running experiments:  74%|███████▍  | 74/100 [01:47<00:37,  1.44s/it]"
     ]
    },
    {
     "name": "stderr",
     "output_type": "stream",
     "text": [
      "\r",
      "running experiments:  75%|███████▌  | 75/100 [01:48<00:36,  1.45s/it]"
     ]
    },
    {
     "name": "stderr",
     "output_type": "stream",
     "text": [
      "\r",
      "running experiments:  76%|███████▌  | 76/100 [01:50<00:34,  1.45s/it]"
     ]
    },
    {
     "name": "stderr",
     "output_type": "stream",
     "text": [
      "\r",
      "running experiments:  77%|███████▋  | 77/100 [01:51<00:33,  1.45s/it]"
     ]
    },
    {
     "name": "stderr",
     "output_type": "stream",
     "text": [
      "\r",
      "running experiments:  78%|███████▊  | 78/100 [01:52<00:31,  1.44s/it]"
     ]
    },
    {
     "name": "stderr",
     "output_type": "stream",
     "text": [
      "\r",
      "running experiments:  79%|███████▉  | 79/100 [01:54<00:30,  1.44s/it]"
     ]
    },
    {
     "name": "stderr",
     "output_type": "stream",
     "text": [
      "\r",
      "running experiments:  80%|████████  | 80/100 [01:55<00:28,  1.44s/it]"
     ]
    },
    {
     "name": "stderr",
     "output_type": "stream",
     "text": [
      "\r",
      "running experiments:  81%|████████  | 81/100 [01:57<00:27,  1.45s/it]"
     ]
    },
    {
     "name": "stderr",
     "output_type": "stream",
     "text": [
      "\r",
      "running experiments:  82%|████████▏ | 82/100 [01:58<00:26,  1.45s/it]"
     ]
    },
    {
     "name": "stderr",
     "output_type": "stream",
     "text": [
      "\r",
      "running experiments:  83%|████████▎ | 83/100 [02:00<00:24,  1.46s/it]"
     ]
    },
    {
     "name": "stderr",
     "output_type": "stream",
     "text": [
      "\r",
      "running experiments:  84%|████████▍ | 84/100 [02:01<00:23,  1.48s/it]"
     ]
    },
    {
     "name": "stderr",
     "output_type": "stream",
     "text": [
      "\r",
      "running experiments:  85%|████████▌ | 85/100 [02:03<00:22,  1.49s/it]"
     ]
    },
    {
     "name": "stderr",
     "output_type": "stream",
     "text": [
      "\r",
      "running experiments:  86%|████████▌ | 86/100 [02:04<00:20,  1.48s/it]"
     ]
    },
    {
     "name": "stderr",
     "output_type": "stream",
     "text": [
      "\r",
      "running experiments:  87%|████████▋ | 87/100 [02:06<00:19,  1.48s/it]"
     ]
    },
    {
     "name": "stderr",
     "output_type": "stream",
     "text": [
      "\r",
      "running experiments:  88%|████████▊ | 88/100 [02:07<00:17,  1.48s/it]"
     ]
    },
    {
     "name": "stderr",
     "output_type": "stream",
     "text": [
      "\r",
      "running experiments:  89%|████████▉ | 89/100 [02:09<00:16,  1.47s/it]"
     ]
    },
    {
     "name": "stderr",
     "output_type": "stream",
     "text": [
      "\r",
      "running experiments:  90%|█████████ | 90/100 [02:10<00:14,  1.47s/it]"
     ]
    },
    {
     "name": "stderr",
     "output_type": "stream",
     "text": [
      "\r",
      "running experiments:  91%|█████████ | 91/100 [02:12<00:13,  1.49s/it]"
     ]
    },
    {
     "name": "stderr",
     "output_type": "stream",
     "text": [
      "\r",
      "running experiments:  92%|█████████▏| 92/100 [02:13<00:11,  1.48s/it]"
     ]
    },
    {
     "name": "stderr",
     "output_type": "stream",
     "text": [
      "\r",
      "running experiments:  93%|█████████▎| 93/100 [02:15<00:10,  1.48s/it]"
     ]
    },
    {
     "name": "stderr",
     "output_type": "stream",
     "text": [
      "\r",
      "running experiments:  94%|█████████▍| 94/100 [02:16<00:08,  1.46s/it]"
     ]
    },
    {
     "name": "stderr",
     "output_type": "stream",
     "text": [
      "\r",
      "running experiments:  95%|█████████▌| 95/100 [02:17<00:07,  1.46s/it]"
     ]
    },
    {
     "name": "stderr",
     "output_type": "stream",
     "text": [
      "\r",
      "running experiments:  96%|█████████▌| 96/100 [02:19<00:05,  1.47s/it]"
     ]
    },
    {
     "name": "stderr",
     "output_type": "stream",
     "text": [
      "\r",
      "running experiments:  97%|█████████▋| 97/100 [02:20<00:04,  1.45s/it]"
     ]
    },
    {
     "name": "stderr",
     "output_type": "stream",
     "text": [
      "\r",
      "running experiments:  98%|█████████▊| 98/100 [02:22<00:02,  1.45s/it]"
     ]
    },
    {
     "name": "stderr",
     "output_type": "stream",
     "text": [
      "\r",
      "running experiments:  99%|█████████▉| 99/100 [02:23<00:01,  1.44s/it]"
     ]
    },
    {
     "name": "stderr",
     "output_type": "stream",
     "text": [
      "\r",
      "running experiments: 100%|██████████| 100/100 [02:25<00:00,  1.43s/it]"
     ]
    },
    {
     "name": "stderr",
     "output_type": "stream",
     "text": [
      "\r",
      "running experiments: 100%|██████████| 100/100 [02:25<00:00,  1.45s/it]"
     ]
    },
    {
     "name": "stdout",
     "output_type": "stream",
     "text": [
      "CPU times: user 2min 24s, sys: 933 ms, total: 2min 25s\n",
      "Wall time: 2min 25s\n"
     ]
    },
    {
     "name": "stderr",
     "output_type": "stream",
     "text": [
      "\n"
     ]
    }
   ],
   "source": [
    "\n",
    "%%time\n",
    "simulation.run_simulation(n_experiments, start_n, fit_params,shuffle_rows, pred_params, random_features, \\\n",
    "                          store_in_lists, save_eigenvector, save_hamiltonian, save_accuracy,\\\n",
    "                          save_models)\n",
    "if simulation.fourier_mode is not None:\n",
    "    simulation.fourier_dataframe.head(10)"
   ]
  },
  {
   "cell_type": "code",
   "execution_count": 28,
   "metadata": {
    "execution": {
     "iopub.execute_input": "2020-07-16T03:09:24.546356Z",
     "iopub.status.busy": "2020-07-16T03:09:24.546049Z",
     "iopub.status.idle": "2020-07-16T03:09:24.571181Z",
     "shell.execute_reply": "2020-07-16T03:09:24.570862Z"
    },
    "papermill": {
     "duration": 0.064133,
     "end_time": "2020-07-16T03:09:24.571232",
     "exception": false,
     "start_time": "2020-07-16T03:09:24.507099",
     "status": "completed"
    },
    "tags": []
   },
   "outputs": [
    {
     "data": {
      "text/html": [
       "<div>\n",
       "<style scoped>\n",
       "    .dataframe tbody tr th:only-of-type {\n",
       "        vertical-align: middle;\n",
       "    }\n",
       "\n",
       "    .dataframe tbody tr th {\n",
       "        vertical-align: top;\n",
       "    }\n",
       "\n",
       "    .dataframe thead th {\n",
       "        text-align: right;\n",
       "    }\n",
       "</style>\n",
       "<table border=\"1\" class=\"dataframe\">\n",
       "  <thead>\n",
       "    <tr style=\"text-align: right;\">\n",
       "      <th></th>\n",
       "      <th>id</th>\n",
       "      <th>path</th>\n",
       "      <th>t1</th>\n",
       "      <th>t2</th>\n",
       "      <th>winding</th>\n",
       "      <th>phase</th>\n",
       "      <th>pred_phase</th>\n",
       "      <th>type_of</th>\n",
       "      <th>feat0</th>\n",
       "      <th>feat1</th>\n",
       "      <th>...</th>\n",
       "      <th>feat90</th>\n",
       "      <th>feat91</th>\n",
       "      <th>feat92</th>\n",
       "      <th>feat93</th>\n",
       "      <th>feat94</th>\n",
       "      <th>feat95</th>\n",
       "      <th>feat96</th>\n",
       "      <th>feat97</th>\n",
       "      <th>feat98</th>\n",
       "      <th>feat99</th>\n",
       "    </tr>\n",
       "  </thead>\n",
       "  <tbody>\n",
       "    <tr>\n",
       "      <th>0</th>\n",
       "      <td>0</td>\n",
       "      <td>H_-2_-2_0.509296.dat</td>\n",
       "      <td>-2.0</td>\n",
       "      <td>-2.0</td>\n",
       "      <td>0.509296</td>\n",
       "      <td>999</td>\n",
       "      <td>666</td>\n",
       "      <td>test</td>\n",
       "      <td>0.100000</td>\n",
       "      <td>0.100000</td>\n",
       "      <td>...</td>\n",
       "      <td>0.100000</td>\n",
       "      <td>0.100000</td>\n",
       "      <td>0.100000</td>\n",
       "      <td>0.100000</td>\n",
       "      <td>0.100000</td>\n",
       "      <td>0.100000</td>\n",
       "      <td>0.100000</td>\n",
       "      <td>0.100000</td>\n",
       "      <td>0.100000</td>\n",
       "      <td>0.100000</td>\n",
       "    </tr>\n",
       "    <tr>\n",
       "      <th>1</th>\n",
       "      <td>0</td>\n",
       "      <td>H_-2_-2_0.509296.dat</td>\n",
       "      <td>-2.0</td>\n",
       "      <td>-2.0</td>\n",
       "      <td>0.509296</td>\n",
       "      <td>999</td>\n",
       "      <td>666</td>\n",
       "      <td>test</td>\n",
       "      <td>0.141421</td>\n",
       "      <td>0.141142</td>\n",
       "      <td>...</td>\n",
       "      <td>0.114412</td>\n",
       "      <td>0.108967</td>\n",
       "      <td>0.123928</td>\n",
       "      <td>0.119406</td>\n",
       "      <td>0.131490</td>\n",
       "      <td>0.127962</td>\n",
       "      <td>0.136978</td>\n",
       "      <td>0.134500</td>\n",
       "      <td>0.140306</td>\n",
       "      <td>0.138916</td>\n",
       "    </tr>\n",
       "    <tr>\n",
       "      <th>2</th>\n",
       "      <td>0</td>\n",
       "      <td>H_-2_-2_0.509296.dat</td>\n",
       "      <td>-2.0</td>\n",
       "      <td>-2.0</td>\n",
       "      <td>0.509296</td>\n",
       "      <td>999</td>\n",
       "      <td>666</td>\n",
       "      <td>test</td>\n",
       "      <td>0.141421</td>\n",
       "      <td>0.140306</td>\n",
       "      <td>...</td>\n",
       "      <td>0.043702</td>\n",
       "      <td>0.026500</td>\n",
       "      <td>0.075777</td>\n",
       "      <td>0.060214</td>\n",
       "      <td>0.103092</td>\n",
       "      <td>0.090145</td>\n",
       "      <td>0.123928</td>\n",
       "      <td>0.114412</td>\n",
       "      <td>0.136978</td>\n",
       "      <td>0.131490</td>\n",
       "    </tr>\n",
       "    <tr>\n",
       "      <th>3</th>\n",
       "      <td>0</td>\n",
       "      <td>H_-2_-2_0.509296.dat</td>\n",
       "      <td>-2.0</td>\n",
       "      <td>-2.0</td>\n",
       "      <td>0.509296</td>\n",
       "      <td>999</td>\n",
       "      <td>666</td>\n",
       "      <td>test</td>\n",
       "      <td>-0.100000</td>\n",
       "      <td>0.100000</td>\n",
       "      <td>...</td>\n",
       "      <td>-0.100000</td>\n",
       "      <td>0.100000</td>\n",
       "      <td>-0.100000</td>\n",
       "      <td>0.100000</td>\n",
       "      <td>-0.100000</td>\n",
       "      <td>0.100000</td>\n",
       "      <td>-0.100000</td>\n",
       "      <td>0.100000</td>\n",
       "      <td>-0.100000</td>\n",
       "      <td>0.100000</td>\n",
       "    </tr>\n",
       "    <tr>\n",
       "      <th>4</th>\n",
       "      <td>0</td>\n",
       "      <td>H_-2_-2_0.509296.dat</td>\n",
       "      <td>-2.0</td>\n",
       "      <td>-2.0</td>\n",
       "      <td>0.509296</td>\n",
       "      <td>999</td>\n",
       "      <td>666</td>\n",
       "      <td>test</td>\n",
       "      <td>0.000509</td>\n",
       "      <td>-0.008372</td>\n",
       "      <td>...</td>\n",
       "      <td>-0.082713</td>\n",
       "      <td>-0.089753</td>\n",
       "      <td>-0.067684</td>\n",
       "      <td>-0.075347</td>\n",
       "      <td>-0.051587</td>\n",
       "      <td>-0.059753</td>\n",
       "      <td>-0.034677</td>\n",
       "      <td>-0.043217</td>\n",
       "      <td>-0.017220</td>\n",
       "      <td>-0.026000</td>\n",
       "    </tr>\n",
       "    <tr>\n",
       "      <th>5</th>\n",
       "      <td>0</td>\n",
       "      <td>H_-2_-2_0.509296.dat</td>\n",
       "      <td>-2.0</td>\n",
       "      <td>-2.0</td>\n",
       "      <td>0.509296</td>\n",
       "      <td>999</td>\n",
       "      <td>666</td>\n",
       "      <td>test</td>\n",
       "      <td>0.001204</td>\n",
       "      <td>-0.016530</td>\n",
       "      <td>...</td>\n",
       "      <td>-0.134123</td>\n",
       "      <td>-0.138686</td>\n",
       "      <td>-0.118757</td>\n",
       "      <td>-0.127445</td>\n",
       "      <td>-0.095929</td>\n",
       "      <td>-0.108196</td>\n",
       "      <td>-0.067073</td>\n",
       "      <td>-0.082149</td>\n",
       "      <td>-0.034003</td>\n",
       "      <td>-0.050940</td>\n",
       "    </tr>\n",
       "    <tr>\n",
       "      <th>6</th>\n",
       "      <td>0</td>\n",
       "      <td>H_-2_-2_0.509296.dat</td>\n",
       "      <td>-2.0</td>\n",
       "      <td>-2.0</td>\n",
       "      <td>0.509296</td>\n",
       "      <td>999</td>\n",
       "      <td>666</td>\n",
       "      <td>test</td>\n",
       "      <td>-0.141421</td>\n",
       "      <td>-0.138980</td>\n",
       "      <td>...</td>\n",
       "      <td>0.043375</td>\n",
       "      <td>0.067830</td>\n",
       "      <td>-0.009222</td>\n",
       "      <td>0.017385</td>\n",
       "      <td>-0.060524</td>\n",
       "      <td>-0.035502</td>\n",
       "      <td>-0.103326</td>\n",
       "      <td>-0.083403</td>\n",
       "      <td>-0.131616</td>\n",
       "      <td>-0.119589</td>\n",
       "    </tr>\n",
       "    <tr>\n",
       "      <th>7</th>\n",
       "      <td>0</td>\n",
       "      <td>H_-2_-2_0.509296.dat</td>\n",
       "      <td>-2.0</td>\n",
       "      <td>-2.0</td>\n",
       "      <td>0.509296</td>\n",
       "      <td>999</td>\n",
       "      <td>666</td>\n",
       "      <td>test</td>\n",
       "      <td>-0.000826</td>\n",
       "      <td>0.025688</td>\n",
       "      <td>...</td>\n",
       "      <td>0.134753</td>\n",
       "      <td>0.124324</td>\n",
       "      <td>0.141088</td>\n",
       "      <td>0.140407</td>\n",
       "      <td>0.127608</td>\n",
       "      <td>0.136771</td>\n",
       "      <td>0.096206</td>\n",
       "      <td>0.113925</td>\n",
       "      <td>0.051292</td>\n",
       "      <td>0.075079</td>\n",
       "    </tr>\n",
       "    <tr>\n",
       "      <th>8</th>\n",
       "      <td>0</td>\n",
       "      <td>H_-2_-2_0.509296.dat</td>\n",
       "      <td>-2.0</td>\n",
       "      <td>-2.0</td>\n",
       "      <td>0.509296</td>\n",
       "      <td>999</td>\n",
       "      <td>666</td>\n",
       "      <td>test</td>\n",
       "      <td>0.141417</td>\n",
       "      <td>0.136684</td>\n",
       "      <td>...</td>\n",
       "      <td>-0.115093</td>\n",
       "      <td>-0.131915</td>\n",
       "      <td>-0.061266</td>\n",
       "      <td>-0.091040</td>\n",
       "      <td>0.007717</td>\n",
       "      <td>-0.027643</td>\n",
       "      <td>0.074791</td>\n",
       "      <td>0.042592</td>\n",
       "      <td>0.123363</td>\n",
       "      <td>0.102291</td>\n",
       "    </tr>\n",
       "    <tr>\n",
       "      <th>9</th>\n",
       "      <td>0</td>\n",
       "      <td>H_-2_-2_0.509296.dat</td>\n",
       "      <td>-2.0</td>\n",
       "      <td>-2.0</td>\n",
       "      <td>0.509296</td>\n",
       "      <td>999</td>\n",
       "      <td>666</td>\n",
       "      <td>test</td>\n",
       "      <td>0.001302</td>\n",
       "      <td>0.036430</td>\n",
       "      <td>...</td>\n",
       "      <td>0.082068</td>\n",
       "      <td>0.050848</td>\n",
       "      <td>0.127402</td>\n",
       "      <td>0.108132</td>\n",
       "      <td>0.141218</td>\n",
       "      <td>0.138667</td>\n",
       "      <td>0.120099</td>\n",
       "      <td>0.134896</td>\n",
       "      <td>0.069268</td>\n",
       "      <td>0.097755</td>\n",
       "    </tr>\n",
       "  </tbody>\n",
       "</table>\n",
       "<p>10 rows × 108 columns</p>\n",
       "</div>"
      ],
      "text/plain": [
       "   id                  path   t1   t2   winding  phase  pred_phase type_of  \\\n",
       "0   0  H_-2_-2_0.509296.dat -2.0 -2.0  0.509296    999         666    test   \n",
       "1   0  H_-2_-2_0.509296.dat -2.0 -2.0  0.509296    999         666    test   \n",
       "2   0  H_-2_-2_0.509296.dat -2.0 -2.0  0.509296    999         666    test   \n",
       "3   0  H_-2_-2_0.509296.dat -2.0 -2.0  0.509296    999         666    test   \n",
       "4   0  H_-2_-2_0.509296.dat -2.0 -2.0  0.509296    999         666    test   \n",
       "5   0  H_-2_-2_0.509296.dat -2.0 -2.0  0.509296    999         666    test   \n",
       "6   0  H_-2_-2_0.509296.dat -2.0 -2.0  0.509296    999         666    test   \n",
       "7   0  H_-2_-2_0.509296.dat -2.0 -2.0  0.509296    999         666    test   \n",
       "8   0  H_-2_-2_0.509296.dat -2.0 -2.0  0.509296    999         666    test   \n",
       "9   0  H_-2_-2_0.509296.dat -2.0 -2.0  0.509296    999         666    test   \n",
       "\n",
       "      feat0     feat1  ...    feat90    feat91    feat92    feat93    feat94  \\\n",
       "0  0.100000  0.100000  ...  0.100000  0.100000  0.100000  0.100000  0.100000   \n",
       "1  0.141421  0.141142  ...  0.114412  0.108967  0.123928  0.119406  0.131490   \n",
       "2  0.141421  0.140306  ...  0.043702  0.026500  0.075777  0.060214  0.103092   \n",
       "3 -0.100000  0.100000  ... -0.100000  0.100000 -0.100000  0.100000 -0.100000   \n",
       "4  0.000509 -0.008372  ... -0.082713 -0.089753 -0.067684 -0.075347 -0.051587   \n",
       "5  0.001204 -0.016530  ... -0.134123 -0.138686 -0.118757 -0.127445 -0.095929   \n",
       "6 -0.141421 -0.138980  ...  0.043375  0.067830 -0.009222  0.017385 -0.060524   \n",
       "7 -0.000826  0.025688  ...  0.134753  0.124324  0.141088  0.140407  0.127608   \n",
       "8  0.141417  0.136684  ... -0.115093 -0.131915 -0.061266 -0.091040  0.007717   \n",
       "9  0.001302  0.036430  ...  0.082068  0.050848  0.127402  0.108132  0.141218   \n",
       "\n",
       "     feat95    feat96    feat97    feat98    feat99  \n",
       "0  0.100000  0.100000  0.100000  0.100000  0.100000  \n",
       "1  0.127962  0.136978  0.134500  0.140306  0.138916  \n",
       "2  0.090145  0.123928  0.114412  0.136978  0.131490  \n",
       "3  0.100000 -0.100000  0.100000 -0.100000  0.100000  \n",
       "4 -0.059753 -0.034677 -0.043217 -0.017220 -0.026000  \n",
       "5 -0.108196 -0.067073 -0.082149 -0.034003 -0.050940  \n",
       "6 -0.035502 -0.103326 -0.083403 -0.131616 -0.119589  \n",
       "7  0.136771  0.096206  0.113925  0.051292  0.075079  \n",
       "8 -0.027643  0.074791  0.042592  0.123363  0.102291  \n",
       "9  0.138667  0.120099  0.134896  0.069268  0.097755  \n",
       "\n",
       "[10 rows x 108 columns]"
      ]
     },
     "execution_count": 28,
     "metadata": {},
     "output_type": "execute_result"
    }
   ],
   "source": [
    "simulation.dataframe.head(10)"
   ]
  },
  {
   "cell_type": "markdown",
   "metadata": {
    "papermill": {
     "duration": 0.037766,
     "end_time": "2020-07-16T03:09:24.645314",
     "exception": false,
     "start_time": "2020-07-16T03:09:24.607548",
     "status": "completed"
    },
    "tags": []
   },
   "source": [
    "#### Viewing a random sample"
   ]
  },
  {
   "cell_type": "code",
   "execution_count": 29,
   "metadata": {
    "execution": {
     "iopub.execute_input": "2020-07-16T03:09:24.719833Z",
     "iopub.status.busy": "2020-07-16T03:09:24.719523Z",
     "iopub.status.idle": "2020-07-16T03:09:24.746739Z",
     "shell.execute_reply": "2020-07-16T03:09:24.746995Z"
    },
    "papermill": {
     "duration": 0.064738,
     "end_time": "2020-07-16T03:09:24.747062",
     "exception": false,
     "start_time": "2020-07-16T03:09:24.682324",
     "status": "completed"
    },
    "tags": []
   },
   "outputs": [
    {
     "name": "stdout",
     "output_type": "stream",
     "text": [
      "CPU times: user 17.4 ms, sys: 16 µs, total: 17.4 ms\n",
      "Wall time: 17.2 ms\n"
     ]
    }
   ],
   "source": [
    "%%time\n",
    "if simulation.fourier_mode is not None:\n",
    "    simulation.fourier_dataframe.sample(frac=0.1, replace=False)"
   ]
  },
  {
   "cell_type": "markdown",
   "metadata": {
    "papermill": {
     "duration": 0.037488,
     "end_time": "2020-07-16T03:09:24.821166",
     "exception": false,
     "start_time": "2020-07-16T03:09:24.783678",
     "status": "completed"
    },
    "tags": []
   },
   "source": [
    "#### Checking train/val/test splits again"
   ]
  },
  {
   "cell_type": "code",
   "execution_count": 30,
   "metadata": {
    "execution": {
     "iopub.execute_input": "2020-07-16T03:09:24.895025Z",
     "iopub.status.busy": "2020-07-16T03:09:24.894705Z",
     "iopub.status.idle": "2020-07-16T03:09:25.073352Z",
     "shell.execute_reply": "2020-07-16T03:09:25.073604Z"
    },
    "papermill": {
     "duration": 0.216369,
     "end_time": "2020-07-16T03:09:25.073674",
     "exception": false,
     "start_time": "2020-07-16T03:09:24.857305",
     "status": "completed"
    },
    "tags": []
   },
   "outputs": [
    {
     "name": "stdout",
     "output_type": "stream",
     "text": [
      "% train:  0.08474317939338516\n",
      "% val:  0.7620789513793629\n",
      "% test:  0.15317786922725193\n",
      "% train + val + test:  1.0\n",
      "\n",
      "\n",
      "number of train hamiltonians:  556\n",
      "number of val hamiltonians:  5000\n",
      "number of test hamiltonians:  1005\n",
      "total number of hamiltonians:  6561\n",
      "\n",
      "\n",
      "train ids:  [4260, 5465, 3966, 5191, 5781, 2559, 1909, 3323, 5054, 3958, 607, 4219, 2911, 6545, 3621, 2187, 4285, 1685, 2087, 4900, 1425, 2735, 4564, 1851, 1113, 2365, 5241, 809, 867, 3037, 1770, 5512, 3876, 2362, 3748, 6111, 869, 3684, 2481, 3407, 6323, 5976, 5979, 5400, 4525, 5323, 5018, 2150, 685, 292, 6051, 5136, 5075, 5057, 2877, 6244, 4645, 3343, 2924, 2179, 5396, 1715, 1986, 3065, 3019, 1620, 2396, 3334, 5015, 6382, 4139, 3482, 2309, 3410, 5277, 691, 3908, 1895, 3178, 4995, 5936, 4197, 6059, 3459, 4713, 4377, 4899, 678, 4577, 4987, 2504, 6026, 2557, 5189, 2657, 36, 5322, 2406, 1177, 1748, 365, 6444, 4652, 445, 3510, 4108, 1457, 5551, 4569, 3162, 3479, 1238, 2191, 1747, 484, 446, 565, 5456, 6346, 3826, 367, 2551, 2235, 2836, 4362, 1564, 3884, 5399, 3357, 1948, 3097, 3331, 6349, 2041, 1488, 230, 748, 3998, 4709, 3700, 5945, 2398, 1645, 6463, 5453, 1567, 312, 6049, 3687, 2364, 2421, 2782, 2038, 3150, 3593, 2185, 4538, 4152, 3439, 4469, 122, 618, 5107, 538, 517, 3742, 2970, 3898, 5951, 5926, 1191, 474, 2436, 5023, 6443, 4092, 1053, 1646, 3500, 1617, 668, 4186, 617, 2271, 3653, 1278, 6039, 508, 3329, 2933, 4765, 5353, 4373, 4388, 2840, 5869, 2237, 3540, 1403, 5700, 3814, 4215, 3399, 3025, 846, 5855, 1136, 858, 3087, 5347, 3849, 3004, 6302, 1662, 588, 1290, 2405, 3696, 4638, 997, 539, 3625, 2173, 932, 1249, 1466, 2068, 2493, 1526, 2603, 5046, 5387, 386, 364, 3043, 4013, 4812, 5273, 1832, 3611, 765, 5607, 3432, 2062, 4944, 437, 1000, 4948, 3798, 3103, 4929, 928, 3210, 1997, 2965, 5056, 4110, 3133, 2153, 555, 5130, 5157, 2538, 1109, 1091, 220, 6048, 4527, 5642, 49, 3170, 1134, 2883, 4600, 4529, 3735, 5434, 2809, 1702, 4617, 2908, 6500, 5812, 5940, 3708, 845, 5225, 3039, 1621, 1417, 6328, 6185, 2616, 5025, 3389, 1671, 1911, 1020, 4699, 3395, 1584, 2172, 3832, 6377, 4764, 767, 3212, 5673, 2316, 3635, 3978, 4545, 3028, 1445, 3104, 2665, 95, 886, 3303, 4546, 4154, 2386, 3681, 1995, 6506, 1018, 3649, 680, 3810, 5238, 4190, 5545, 6403, 2846, 5789, 1544, 2456, 2499, 3939, 4871, 304, 3469, 4726, 3361, 2063, 5072, 1293, 2936, 231, 1695, 4910, 1408, 790, 3587, 6453, 1942, 1409, 2193, 2468, 2638, 4070, 125, 5597, 564, 5306, 4333, 4372, 1414, 1166, 3409, 1264, 3599, 3974, 3298, 5670, 675, 5556, 4656, 3897, 4436, 3701, 5312, 4534, 4487, 2492, 5702, 5257, 2681, 6100, 5389, 2613, 3328, 6023, 311, 554, 2709, 2701, 2519, 3297, 2151, 968, 3900, 3564, 3529, 1524, 3835, 2319, 2685, 3827, 5050, 3722, 1607, 5694, 1923, 6265, 3733, 4811, 1878, 5705, 3738, 2658, 3652, 3639, 2537, 4936, 2019, 5058, 548, 136, 3932, 2935, 2535, 2325, 5703, 4321, 6484, 3053, 352, 507, 5509, 855, 5511, 3253, 3648, 262, 3256, 4421, 2222, 6140, 2440, 3498, 3337, 5340, 3276, 2471, 297, 4983, 6550, 4915, 1648, 4109, 4306, 3775, 4451, 435, 2345, 6351, 5094, 3831, 12, 173, 3468, 104, 5858, 151, 4225, 3353, 2437, 2516, 4771, 4613, 2115, 4976, 5647, 6055, 6446, 6208, 506, 4256, 6468, 3953, 2667, 4802, 3306, 4326, 3820, 4220, 1833, 2808, 5810, 2996, 3887, 3745, 4145, 3519, 2017, 2824, 3310, 3723, 1167, 4797, 5059, 2104, 5123, 1496, 2579, 6523, 2018, 2799, 1994, 5719, 1996, 5195, 6119, 4153, 5716, 3372, 6016, 2268, 2832, 1342, 4667, 3141, 1773, 1110, 1038, 1922, 1837, 1436, 1990, 4701, 5766, 3390, 1689, 3904, 3377, 6094, 647, 2483, 4784, 4706, 5378, 2672, 1675, 4932, 1207]\n",
      "val ids:  [2224, 1270, 2487, 3830, 956, 4815, 1334, 4934, 3408, 3785, 3282, 1867, 5535, 4728, 2831, 4286, 1138, 395, 2411, 4272, 1768, 6503, 627, 4813, 1239, 2412, 6340, 2249, 1162, 2939, 2828, 3109, 805, 96, 4978, 5561, 2669, 2758, 3092, 9, 2577, 1023, 2282, 3084, 3364, 4579, 5215, 1430, 1369, 1654, 2007, 284, 2561, 3248, 3290, 2940, 2785, 3880, 3983, 1741, 918, 529, 4956, 5052, 6213, 5632, 4391, 3327, 4137, 701, 20, 3255, 5696, 526, 5452, 5880, 281, 3584, 4164, 3289, 2004, 5554, 5343, 1580, 3423, 50, 1384, 1712, 4387, 6348, 2864, 4803, 3734, 5188, 3400, 1338, 3079, 4789, 425, 4520, 5101, 3565, 5707, 4691, 1203, 3206, 3607, 712, 542, 5508, 5187, 615, 452, 6246, 177, 6551, 1610, 2196, 5294, 1513, 5297, 2552, 4135, 3347, 2088, 24, 856, 184, 4663, 4857, 6193, 4319, 5462, 2469, 2106, 2167, 3802, 3056, 4692, 6058, 5547, 3699, 2410, 5751, 4744, 6190, 3872, 5034, 1325, 5484, 1714, 3231, 6269, 5613, 172, 3801, 2265, 2600, 4361, 157, 6189, 850, 995, 2501, 6366, 2003, 2311, 4298, 4392, 728, 4794, 6353, 4250, 3038, 5957, 2306, 3238, 2147, 1852, 870, 4117, 3576, 4547, 4548, 38, 2687, 3121, 717, 5230, 789, 5791, 1158, 1202, 1574, 605, 3269, 2900, 931, 3954, 6458, 6433, 1250, 3503, 153, 3618, 4731, 5113, 2448, 5193, 2563, 376, 3655, 2686, 2718, 1449, 4779, 2882, 3729, 5027, 6177, 3743, 4989, 6528, 2021, 1665, 3944, 5728, 6511, 2606, 5132, 3258, 3145, 255, 5790, 2096, 3006, 3326, 272, 1666, 2567, 355, 2943, 2194, 132, 51, 154, 2779, 2609, 5376, 1698, 6168, 6499, 4620, 1609, 4793, 4746, 4598, 1796, 5203, 4877, 2089, 6423, 4166, 4127, 4199, 5095, 1275, 4792, 2850, 5997, 776, 4091, 4214, 6441, 2394, 1575, 2564, 4618, 6337, 911, 830, 4626, 5463, 2511, 4418, 3415, 636, 851, 1738, 469, 1045, 3068, 2654, 1569, 6439, 2639, 951, 5228, 2733, 3007, 2277, 5526, 4200, 3656, 2333, 3836, 3807, 4711, 1979, 3929, 5731, 4804, 5764, 2484, 392, 3719, 3534, 5231, 1372, 1085, 2273, 3867, 4540, 1247, 3351, 3597, 280, 4243, 234, 3628, 598, 3663, 266, 4009, 3976, 6285, 6180, 2813, 4165, 394, 3739, 3000, 1793, 6091, 502, 1737, 4133, 6013, 2859, 1006, 3397, 622, 4832, 3532, 4790, 3029, 726, 111, 6303, 5722, 60, 4847, 3601, 1165, 3950, 5596, 1077, 970, 2183, 1186, 1003, 6447, 2072, 3191, 2664, 348, 3658, 5874, 3788, 459, 4568, 4708, 4703, 2441, 2195, 1985, 5363, 2571, 5386, 3695, 4304, 3568, 2059, 1588, 3711, 2143, 6128, 2399, 3026, 4087, 1257, 368, 2125, 3003, 4138, 606, 1783, 2270, 2644, 4501, 596, 4897, 3763, 5615, 4750, 1605, 3057, 4317, 3242, 130, 316, 5029, 6046, 5097, 3581, 1259, 3751, 6198, 6541, 3960, 2121, 5793, 4696, 1253, 5890, 2692, 5161, 1823, 5369, 3882, 2604, 1095, 3537, 5537, 176, 3018, 2227, 1651, 1492, 5019, 757, 1573, 2994, 4336, 2408, 3427, 1537, 5299, 5938, 4747, 6408, 148, 5860, 6383, 2381, 141, 4621, 1450, 63, 1111, 6271, 2899, 1630, 1825, 5470, 4872, 5222, 3812, 2675, 2390, 6090, 6297, 950, 307, 3551, 3164, 4543, 4946, 4636, 2837, 1015, 4234, 3971, 59, 114, 3585, 6405, 954, 5430, 3205, 1953, 5713, 2445, 6438, 5643, 1908, 5398, 4862, 1050, 4567, 6363, 6174, 5852, 3841, 2184, 2385, 4440, 5319, 5220, 2109, 5870, 1876, 3082, 6417, 135, 1547, 3215, 6464, 5362, 5067, 1973, 2491, 3265, 3285, 5443, 1135, 1976, 4816, 2680, 4763, 3293, 4284, 4324, 4162, 2851, 996, 703, 1930, 4121, 1467, 3604, 1455, 1261, 2749, 6338, 2896, 1456, 4058, 3448, 947, 1991, 6339, 1611, 6334, 6188, 2587, 1326, 4178, 3177, 1875, 4395, 4122, 2091, 6360, 4276, 2155, 98, 5754, 6332, 3279, 3365, 2533, 715, 221, 4005, 5275, 2505, 3441, 1927, 3790, 4179, 4552, 6454, 6018, 6374, 3017, 3615, 5943, 544, 2303, 1406, 4830, 3402, 427, 3354, 1782, 5093, 5588, 2313, 4969, 3267, 3318, 4204, 4233, 2012, 1728, 3642, 1669, 6007, 4603, 4445, 1093, 3548, 4544, 4223, 1241, 4339, 2653, 433, 4244, 3536, 2597, 534, 4474, 6280, 140, 5608, 4516, 2569, 4707, 2238, 1696, 4864, 3924, 4604, 3754, 857, 4631, 3622, 6085, 4911, 5290, 3852, 1710, 207, 827, 6014, 108, 5122, 5832, 283, 3780, 5406, 3566, 6114, 725, 4136, 5913, 2515, 3842, 1444, 1958, 3015, 228, 6326, 299, 3640, 4478, 4331, 1624, 626, 4174, 6215, 4659, 4826, 2699, 237, 5646, 1198, 1117, 4114, 3421, 235, 5857, 298, 1214, 3249, 4814, 6113, 1661, 862, 2713, 2178, 4363, 4384, 6483, 844, 3393, 2888, 6047, 5477, 4943, 6281, 1755, 4014, 3045, 2784, 1765, 4693, 4423, 3965, 5843, 2431, 1713, 859, 667, 2337, 6404, 532, 2112, 2834, 5061, 1779, 6509, 2566, 423, 3549, 6517, 2761, 1918, 4643, 467, 998, 2671, 786, 4619, 613, 4732, 1629, 4865, 3061, 2397, 6384, 1291, 186, 714, 6421, 2416, 4313, 6019, 2574, 1659, 3559, 5205, 359, 6300, 1593, 5355, 2876, 889, 3504, 3330, 3546, 837, 2910, 2585, 1049, 5720, 4994, 5617, 2736, 1355, 5155, 1366, 540, 6204, 2907, 2841, 1502, 2734, 4269, 3509, 930, 1282, 2073, 1865, 4371, 5671, 4208, 4048, 1081, 586, 1010, 2283, 4015, 2998, 101, 693, 5637, 3236, 4310, 5425, 3490, 1405, 6440, 5542, 4505, 1706, 1514, 34, 6021, 5288, 4329, 3741, 2578, 6182, 4704, 198, 3634, 1262, 2027, 5730, 3893, 1460, 3144, 5382, 6324, 3163, 6259, 1046, 3654, 1988, 2912, 2717, 1576, 2281, 1699, 2350, 1216, 5466, 6442, 5792, 1692, 5563, 1331, 473, 4502, 4624, 1583, 5350, 269, 3461, 4892, 5965, 6305, 4170, 2503, 5488, 754, 690, 3888, 5672, 5782, 2702, 1004, 2349, 4202, 2945, 5699, 1591, 4861, 1808, 2930, 2990, 3523, 5808, 2819, 336, 2756, 1088, 5848, 6243, 3169, 1240, 3320, 5270, 1531, 874, 2958, 5688, 1631, 4273, 1180, 5623, 2120, 1489, 1245, 769, 5756, 1055, 4453, 3721, 1627, 1168, 611, 3030, 3749, 4412, 2729, 358, 193, 5243, 5558, 4637, 563, 1354, 6272, 4650, 4023, 4806, 5182, 432, 4342, 747, 4616, 4723, 2064, 2138, 4556, 17, 4823, 1343, 6452, 3114, 4955, 635, 3570, 4822, 3671, 5192, 1606, 4682, 5669, 5893, 1786, 362, 5458, 1632, 6521, 2253, 483, 2676, 2044, 4467, 5804, 4302, 4907, 3843, 57, 4050, 1785, 1030, 5038, 5690, 4446, 1836, 788, 6130, 2447, 131, 5030, 218, 2627, 3106, 391, 3472, 1333, 1687, 369, 2898, 4553, 2674, 13, 849, 4420, 6216, 5310, 4558, 5701, 5431, 1831, 6042, 5846, 6532, 2572, 955, 1898, 5311, 6025, 5559, 2700, 1734, 5695, 3577, 1657, 6461, 6301, 2829, 1709, 4791, 1002, 5303, 2335, 4143, 3811, 1357, 5916, 31, 5066, 1753, 925, 5795, 723, 4357, 4045, 5370, 5394, 5194, 4933, 6542, 5546, 2855, 6178, 6289, 5533, 1098, 6367, 4985, 4945, 279, 2810, 4913, 4022, 2776, 2280, 3264, 1541, 5872, 4051, 3984, 3193, 3641, 1500, 3514, 4573, 583, 752, 2165, 2682, 5259, 4060, 2969, 6485, 6411, 4042, 2695, 5391, 5614, 3124, 4255, 2723, 2502, 6355, 5956, 1974, 3957, 5928, 2679, 2928, 2199, 4493, 1035, 5233, 3317, 6372, 2413, 2189, 6275, 2739, 5978, 3717, 1982, 2510, 1901, 475, 5814, 1183, 1814, 4490, 3796, 461, 3396, 4210, 4571, 3485, 2454, 4064, 5380, 4587, 4533, 3930, 2065, 52, 4724, 5849, 5873, 4212, 2291, 5428, 727, 4562, 1269, 3313, 3412, 6118, 1925, 708, 1501, 4322, 1413, 3460, 3726, 2274, 4231, 2757, 4722, 2576, 3539, 5381, 5768, 5141, 2651, 6212, 5853, 1292, 524, 831, 3942, 3304, 2095, 4625, 187, 2913, 2887, 919, 5633, 6261, 3981, 4367, 5287, 3451, 2897, 4088, 4565, 5799, 530, 3010, 71, 6249, 1164, 1461, 110, 1265, 1565, 780, 5723, 1129, 4075, 1834, 2697, 4608, 2780, 3967, 150, 4751, 2209, 1266, 3896, 1345, 1993, 4489, 2508, 4646, 2926, 5752, 470, 2031, 4971, 3266, 852, 6522, 2997, 3226, 5433, 4523, 5148, 3638, 513, 2200, 2084, 803, 755, 5103, 1984, 965, 191, 1432, 3179, 6258, 5468, 3985, 4287, 271, 4531, 4232, 1956, 3207, 6496, 5269, 3676, 1463, 1383, 3129, 3274, 353, 1044, 5284, 1944, 1939, 1879, 4084, 1961, 5888, 3945, 6515, 1877, 6288, 3823, 2373, 6157, 2807, 2116, 4378, 4065, 4665, 5296, 340, 3899, 225, 4150, 4227, 704, 4332, 1176, 3171, 2663, 1494, 5755, 4193, 1016, 3014, 910, 3159, 133, 4683, 5785, 4939, 1042, 3602, 3660, 915, 3166, 3046, 4484, 1252, 1612, 2881, 3916, 602, 6278, 4697, 4908, 1781, 2387, 2726, 3322, 3948, 623, 6037, 2889, 1897, 468, 16, 67, 4912, 3230, 6126, 6136, 1219, 4635, 5032, 3016, 551, 1447, 1171, 5968, 3132, 5763, 4461, 4950, 2710, 521, 6357, 5216, 2545, 3379, 2429, 3384, 263, 6505, 6210, 672, 6038, 5565, 5606, 4163, 2152, 363, 4930, 5706, 1322, 5301, 1422, 1490, 3606, 5977, 3375, 6251, 6035, 702, 4962, 3047, 3101, 4172, 2906, 4148, 3731, 5198, 4831, 1462, 2920, 2693, 6450, 3428, 5935, 2806, 4025, 3614, 3005, 3702, 6088, 6256, 1358, 5859, 632, 4002, 4963, 37, 5867, 4541, 4606, 884, 3388, 3418, 3115, 4403, 1244, 4953, 4766, 3251, 5649, 1677, 924, 4438, 1705, 3573, 1054, 4224, 288, 5124, 5352, 5063, 2925, 2678, 2562, 3338, 5611, 2550, 3339, 2489, 2226, 4422, 841, 5240, 2117, 1181, 1613, 1097, 2610, 6455, 4695, 1448, 1752, 5541, 6430, 4149, 3588, 1297, 1926, 4783, 1427, 3095, 2118, 2927, 4876, 3090, 4977, 4740, 2002, 5236, 3709, 5212, 5710, 665, 149, 14, 4385, 3824, 4029, 2964, 5106, 3616, 4702, 1287, 5472, 3172, 1193, 3083, 5925, 2801, 2914, 3821, 709, 2035, 2057, 2770, 604, 6538, 5307, 2973, 3650, 4770, 2344, 3678, 4610, 4069, 2278, 4810, 4980, 5970, 5787, 2168, 3528, 634, 4365, 2341, 2645, 4291, 1399, 6195, 3917, 2721, 6469, 3229, 3466, 3838, 3919, 2382, 1423, 5457, 797, 3199, 3890, 6106, 868, 387, 3646, 1856, 1108, 2036, 4647, 1950, 3436, 5510, 2301, 6017, 6097, 5725, 6325, 2554, 3914, 6253, 1411, 625, 112, 4457, 4848, 4575, 5815, 3569, 6260, 2170, 1619, 2239, 3062, 1769, 3271, 2694, 2478, 3089, 3091, 1362, 6290, 5154, 3107, 1829, 2948, 460, 3190, 4769, 4979, 6451, 3632, 4475, 3302, 3804, 6164, 2820, 3544, 2955, 6549, 6096, 4716, 2126, 5450, 3414, 357, 2372, 3928, 6028, 5129, 3359, 5553, 3042, 441, 3147, 5927, 5474, 6508, 5624, 3247, 2075, 4146, 3805, 5941, 3130, 2558, 29, 4282, 2078, 682, 3693, 1827, 2759, 1523, 4846, 2772, 1540, 628, 1185, 2517, 4992, 1758, 44, 2006, 2527, 2986, 3158, 4957, 2164, 2008, 3012, 6350, 1321, 4833, 4151, 3683, 3496, 944, 2636, 3352, 6429, 3629, 5960, 2953, 366, 4795, 2272, 5473, 6295, 5944, 6299, 6530, 6274, 6142, 1707, 15, 5150, 990, 2509, 2477, 5952, 1914, 3862, 3077, 1184, 759, 3507, 1981, 2984, 795, 2725, 5619, 5714, 2957, 3027, 1260, 2931, 6121, 4739, 152, 4115, 3752, 1947, 1034, 3433, 5202, 66, 4607, 4891, 1762, 4778, 2536, 145, 1570, 4236, 5971, 1114, 5263, 1169, 1205, 768, 933, 2528, 6093, 4270, 3556, 1056, 4718, 4521, 5464, 5930, 500, 4725, 2339, 4563, 4095, 4602, 3847, 5037, 2401, 4450, 6284, 3557, 3993, 2683, 2727, 5271, 3931, 1663, 3136, 3947, 5879, 3512, 4710, 3363, 1036, 3344, 127, 5146, 3644, 6044, 5260, 3173, 3139, 3192, 2158, 536, 2433, 1511, 447, 6293, 4742, 1107, 6548, 3413, 2455, 2111, 2403, 389, 3878, 6431, 2751, 3682, 2156, 2343, 2764, 5324, 188, 6432, 5315, 2466, 314, 6084, 2977, 876, 6424, 6141, 3988, 2473, 2093, 2404, 4038, 3716, 2947, 2219, 1700, 5480, 3833, 5176, 6364, 1285, 1525, 1431, 4296, 1515, 6362, 3956, 374, 1764, 6387, 6214, 1273, 751, 1127, 4817, 2823, 1592, 5379, 3770, 3732, 5718, 1021, 3933, 53, 3196, 6129, 2769, 4235, 4056, 5373, 3168, 4468, 1485, 5776, 2338, 5028, 4004, 2161, 4413, 5948, 6543, 4729, 3645, 3997, 2423, 2324, 41, 3969, 6407, 1810, 5274, 3778, 2366, 3530, 840, 2804, 2647, 4893, 1482, 1011, 1320, 5946, 4698, 2103, 783, 5674, 3895, 94, 670, 1835, 6005, 342, 1824, 1329, 1192, 3341, 5517, 5877, 621, 6539, 3864, 4654, 6507, 4419, 2307, 2781, 3349, 6495, 2614, 3404, 65, 4196, 991, 2830, 3227, 865, 3860, 1678, 1980, 26, 2465, 1868, 5697, 1907, 5693, 1295, 46, 3694, 2149, 4717, 464, 3222, 5208, 93, 92, 4627, 4295, 3704, 3674, 5635, 966, 3246, 3386, 3675, 1421, 3926, 5232, 267, 5949, 1298, 953, 3385, 1845, 4730, 916, 3072, 2028, 2250, 194, 341, 2642, 3927, 3455, 2485, 3457, 940, 4128, 6422, 4931, 4733, 4518, 2322, 6266, 3345, 6381, 3435, 1491, 2005, 4834, 6191, 1821, 5724, 515, 3080, 1031, 4714, 3759, 4211, 2845, 2593, 1208, 4007, 1370, 2874, 5436, 3991, 4578, 6373, 2862, 3697, 2656, 5451, 2580, 5557, 4314, 155, 4491, 2752, 5213, 5589, 3903, 3501, 952, 1204, 6342, 595, 666, 1084, 4586, 5344, 3712, 2792, 4328, 2548, 1371, 134, 4615, 1101, 2938, 1242, 4351, 5177, 204, 3925, 5276, 1426, 891, 2223, 5801, 6029, 1446, 5610, 6218, 5016, 6486, 5348, 4343, 5397, 4404, 2816, 942, 3851, 4741, 6008, 3952, 5796, 4374, 4557, 5268, 1917, 1089, 1512, 6535, 1498, 2929, 3560, 4737, 219, 1688, 4052, 5515, 1602, 535, 1582, 4688, 1975, 6359, 291, 644, 5866, 4536, 3987, 472, 2197, 3740, 1495, 3214, 2731, 5595, 2069, 1874, 3563, 3127, 450, 1906, 6206, 5444, 6196, 3151, 6467, 2592, 2553, 5835, 3076, 449, 4195, 289, 3356, 144, 599, 3096, 212, 1352, 4909, 3883, 4068, 4738, 4083, 2218, 5894, 18, 1903, 70, 4425, 3590, 1076, 1697, 3296, 458, 847, 550, 5354, 4398, 2646, 1401, 2105, 683, 4745, 4580, 1438, 105, 5149, 4786, 4614, 54, 4470, 3278, 3406, 5884, 1962, 4053, 5265, 4648, 6108, 1899, 430, 476, 4776, 3803, 887, 2690, 5183, 1429, 3875, 1788, 4078, 2615, 4503, 5126, 3736, 4168, 4988, 3809, 5549, 4203, 5459, 1960, 2246, 792, 2660, 3135, 6207, 5650, 4411, 1703, 4555, 1103, 3572, 5531, 3148, 1094, 793, 3185, 1080, 3909, 2275, 4434, 1347, 4849, 2182, 5964, 3799, 4777, 5757, 5771, 345, 1686, 5454, 454, 6033, 385, 6494, 6329, 1255, 2389, 3643, 5070, 1404, 1402, 6024, 6217, 373, 4863, 5628, 5709, 6412, 3776, 2894, 3677, 3470, 3086, 4316, 4878, 4535, 4380, 5863, 451, 4827, 3524, 2299, 371, 2402, 420, 2586, 5372, 2186, 5214, 5896, 1047, 5375, 1813, 5221, 3319, 2922, 5043, 4456, 1653, 4494, 323, 3462, 3374, 4829, 1368, 4049, 2496, 5788, 4882, 310, 3118, 5267, 2395, 2171, 4752, 964, 5035, 2518, 3075, 6514, 1667, 4845, 1014, 278, 2263, 4566, 2287, 1822, 1124, 1428, 404, 6010, 5560, 5178, 2192, 4008, 2941, 676, 3437, 2583, 3156, 3430, 5442, 2234, 4096, 3044, 5024, 2637, 3250, 4890, 3324, 4067, 42, 6120, 6116, 5594, 2498, 5217, 119, 1625, 5620, 2326, 4599, 3201, 3002, 4097, 290, 782, 2056, 6197, 1161, 2330, 143, 4393, 5715, 4337, 3863, 6009, 2546, 6199, 2716, 3605, 557, 463, 2076, 264, 2444, 5784, 354, 2987, 1729, 4966, 457, 5021, 6354, 6053, 5356, 3378, 5882, 3241, 2232, 1869, 3881, 1902, 4207, 4612, 1415, 5065, 909, 3175, 1622, 4435, 4482, 2842, 2995, 804, 4735, 4496, 2932, 390, 1863, 677, 2288, 3666, 3153, 5116, 5292, 5366, 27, 3283, 1464, 794, 5972, 1324, 5639, 4782, 3949, 6409, 5704, 2174, 1258, 2494, 1418, 6109, 2797, 6516, 6462, 525, 1213, 5125, 3295, 3665, 6531, 2361, 1538, 1535, 116, 2039, 4788, 2304, 6169, 5302, 883, 3085, 5364, 3110, 1271, 1072, 3333, 3312, 2778, 1516, 3894, 1022, 4405, 1771, 6184, 4206, 351, 1487, 4259, 842, 4609, 1740, 2336, 6050, 5461, 2513, 183, 3589, 890, 62, 2314, 6518, 2608, 3213, 4459, 5593, 5939, 4965, 4670, 40, 2750, 1302, 5237, 1933, 4390, 5813, 2967, 971, 3561, 4875, 2439, 5887, 6245, 4500, 5522, 4715, 4383, 912, 4279, 2418, 5102, 6036, 477, 2976, 3792, 2648, 4964, 370, 3547, 2122, 6205, 6306, 2242, 4277, 124, 1955, 511, 6279, 5317, 2417, 3180, 4074, 1628, 760, 6330, 2988, 3311, 3750, 616, 4359, 3762, 838, 3431, 3892, 2803, 1296, 4949, 3165, 6534, 1033, 1957, 2814, 3538, 3113, 5777, 346, 512, 2162, 1174, 5779, 4027, 2861, 4132, 3184, 3815, 963, 3724, 4498, 2054, 3982, 5562, 2525, 4986, 1317, 1087, 1614, 1941, 5811, 6466, 174, 1777, 4851, 4858, 5769, 5469, 5159, 3381, 2641, 941, 3698, 379, 3744, 5423, 3710, 1795, 179, 2074, 3100, 1539, 5077, 3262, 5962, 1905, 4230, 1818, 2472, 552, 2030, 531, 4583, 2342, 6428, 286, 4394, 2346, 1754, 4549, 3488, 2495, 4253, 4809, 32, 4401, 2573, 2708, 2024, 2863, 681, 2742, 4032, 206, 4486, 758, 4376, 2267, 1828, 2058, 3157, 6365, 1848, 6257, 2451, 764, 5504, 5797, 356, 2744, 4358, 711, 4039, 2110, 2247, 466, 2016, 1217, 3228, 1504, 273, 946, 2715, 3859, 2868, 6220, 3661, 5204, 396, 4476, 5523, 3869, 2966, 3586, 1051, 2315, 4454, 3800, 5455, 1340, 3793, 1220, 2266, 1118, 2148, 4353, 3140, 261, 2666, 3134, 5641, 1690, 100, 3443, 3405, 3574, 3059, 3176, 4455, 434, 913, 5341, 5622, 5833, 56, 1323, 5404, 5437, 5481, 5365, 5994, 5536, 128, 1486, 501, 6086, 2348, 5895, 1589, 4975, 1596, 2858, 597, 2825, 6054, 1509, 3846, 5014, 222, 2204, 6501, 3291, 5591, 4311, 5954, 3603, 3307, 6336, 3959, 4462, 1757, 4315, 6076, 4113, 4582, 349, 4222, 1332, 1943, 2903, 6221, 6298, 1163, 4189, 2166, 3216, 5180, 1739, 1318, 3058, 2968, 3078, 4094, 4028, 3627, 4449, 3195, 5134, 6536, 808, 2384, 6456, 5570, 5209, 705, 3521, 4006, 4292, 3137, 2791, 2225, 917, 774, 3943, 3239, 770, 61, 5261, 4991, 2102, 4327, 2852, 1952, 3913, 1112, 594, 215, 3619, 3131, 4063, 1246, 5099, 969, 1660, 209, 5933, 3316, 2853, 1263, 3489, 3531, 1676, 1744, 2254, 5555, 115, 4248, 6436, 1100, 268, 5449, 2530, 3837, 694, 3725, 2507, 5285, 258, 1024, 1945, 4748, 287, 232, 3545, 2011, 6540, 1353, 3727, 3031, 5392, 3786, 3202, 6156, 1998, 674, 5772, 527, 1364, 3426, 1603, 2688, 3194, 5612, 6546, 1027, 698, 2180, 5845, 796, 192, 1029, 4441, 4026, 3877, 4071, 1356, 5969, 724, 3380, 403, 3858, 2453, 6415, 2097, 2944, 5774, 547, 4124, 5105, 216, 1032, 3050, 5683, 3765, 3294, 1756, 4820, 5184, 3706, 6425, 2419, 3483, 926, 1742, 6276, 5314, 1932, 6370, 5476, 1104, 5098, 519, 4147, 1365, 1303, 6418, 5371, 2252, 4686, 1846, 1007, 872, 6378, 1206, 4668, 1727, 4530, 3270, 397, 5603, 3679, 2190, 1083, 4081, 2633, 6492, 3747, 5448, 3791, 4294, 2524, 839, 4073, 1664, 6124, 6268, 4894, 2426, 2042, 4288, 3398, 1037, 3517, 6089, 2113, 6170, 3886, 785, 3088, 5351, 2383, 3309, 1912, 4171, 5115, 4119, 431, 1215, 1211, 3746, 5218, 2099, 5881, 6263, 5135, 2284, 3391, 1650, 2856, 6445, 2937, 1780, 3259, 3873, 2228, 5071, 2094, 3221, 1913, 3902, 180, 2245, 3252, 1530, 4173, 1792, 949, 4495, 4471, 2486, 5958, 673, 3167, 224, 4289, 761, 1005, 4093, 5973, 3720, 1743, 6352, 384, 2555, 4685, 1736, 5847, 679, 957, 1673, 3342, 3906, 5036, 1458, 2140, 4188, 4684, 6512, 922, 5224, 1286, 5264, 4142, 3910, 6459, 2805, 2261, 2470, 3620, 2812, 3596, 834, 5049, 2450, 2221, 4442, 1344, 1572, 4896, 1816, 1339, 587, 2826, 1078, 4293, 787, 6376, 2010, 5242, 2556, 5726, 201, 3146, 781, 1797, 6283, 5435, 2985, 620, 4305, 1615, 2629, 3464, 1175, 214, 1351, 2741, 1658, 4252, 1327, 1604, 236, 1568, 3284, 2077, 4439, 1870, 1542, 2022, 2915, 5538, 4460, 3182, 1420, 1787, 4466, 4773, 2668, 750, 2719, 2777, 4537, 139, 5854, 1375, 2902, 4458, 2773, 4958, 3518, 3126, 6134, 700, 5068, 1012, 934, 3972, 706, 3522, 545, 6386, 1073, 5648, 2605, 6335, 1543, 2634, 3233, 4177, 1694, 113, 5675, 5552, 4519, 5892, 2230, 593, 5638, 2827, 1826, 6487, 6163, 1896, 2203, 4086, 923, 45, 6003, 178, 5616, 4059, 3001, 1178, 2490, 1052, 4192, 4003, 3502, 2848, 5393, 4870, 3383, 5179, 5402, 200, 1102, 4201, 3450, 5096, 5885, 2092, 6083, 3758, 6135, 3260, 836, 1195, 3160, 3142, 5518, 4118, 3187, 2975, 6524, 229, 2754, 1283, 1497, 633, 2740, 4159, 4885, 4517, 5210, 4338, 2279, 6077, 4355, 3032, 4898, 1197, 5698, 1131, 2231, 1483, 306, 205, 1506, 3626, 5712, 2565, 99, 4690, 4888, 5625, 4325, 2066, 6173, 465, 3508, 1937, 4309, 784, 2258, 4694, 5875, 3244, 305, 4522, 3020, 6137, 3186, 6327, 6138, 175, 2866, 4399, 3052, 382, 4198, 3411, 4447, 3839, 23, 4526, 3921, 4818, 2142, 520, 4984, 2979, 1992, 2873, 456, 3659, 692, 1503, 3850, 553, 1437, 2635, 6087, 3261, 5110, 3819, 1585, 1790, 6264, 1749, 422, 2101, 2591, 453, 76, 1838, 6345, 4131, 5226, 1017, 2029, 914, 6252, 2452, 3688, 6034, 509, 3861, 589, 1028, 6011, 4629, 3471, 4251, 2286, 2698, 4090, 3703, 361, 6460, 4205, 55, 2236, 2662, 1212, 1122, 4906, 3789, 3064, 1844, 3996, 5012, 2033, 4246, 3403, 5266, 2098, 5144, 1745, 1172, 4077, 3467, 3340, 4780, 864, 2670, 6131, 2916, 3188, 277, 146, 1468, 4396, 2526, 1400, 1410, 2768, 5321, 3422, 3989, 2506, 3204, 2891, 1549, 4623, 5891, 967, 2568, 3533, 3715, 4044, 5729, 300, 5783, 418, 1188, 5139, 2867, 1533, 2207, 3808, 4576, 4483, 3300, 5851, 3009, 276, 3513, 147, 4237, 3535, 3505, 832, 4905, 4155, 4700, 4352, 2775, 749, 3494, 2086, 2765, 2582, 5626, 3664, 4072, 5438, 5145, 4364, 6255, 1548, 6537, 3314, 3555, 2599, 1218, 2796, 2860, 2737, 4981, 3617, 4605, 2310, 4012, 590, 4539, 2901, 4280, 1711, 2229, 5316, 3844, 5543, 3493, 5223, 3143, 1789, 1784, 1367, 5062, 5963, 4506, 2747, 1691, 2202, 1416, 5142, 2312, 5109, 3477, 1382, 1978, 873, 6294, 1013, 4229, 2217, 2746, 4033, 6410, 5805, 4774, 1443, 1772, 3756, 4651, 4283, 6292, 4993, 68, 3429, 835, 4035, 4485, 5055, 2611, 6101, 2549, 2432, 2795, 393, 3901, 5313, 426, 2811, 6380, 5320, 3848, 3636, 631, 2430, 2978, 4856, 3387, 3992, 3066, 4914, 5388, 4681, 1510, 1916, 3610, 2435, 5778, 6092, 5721, 1668, 3784, 1938, 2652, 3550, 5924, 2821, 3117, 442, 1581, 5844, 3275, 5505, 3305, 503, 1125, 4805, 5917, 2159, 4107, 4245, 4499, 208, 4308, 4477, 3070, 772, 4860, 5286, 4217, 4323, 5140, 3098, 5897, 2317, 5100, 1934, 1294, 2793, 5395, 4973, 646, 688, 4408, 1860, 1775, 4940, 3174, 2620, 1374, 2904, 5211, 713, 4134, 69, 190, 1272, 2514, 1809, 5711, 3224, 4409, 5422, 1776, 344, 5152, 75, 35, 3822, 4642, 3923, 4850, 4807, 3308, 1493, 935, 6457, 3718, 181, 2724, 614, 1507, 5358, 2643, 3979, 1481, 2014, 3209, 1079, 6194, 2300, 4209, 4444, 5112, 5151, 5383, 1454, 2655, 3149, 309, 3254, 6166, 1160, 3445, 3108, 5308, 3071, 3552, 4011, 2993, 612, 566, 3358, 1156, 5272, 2388, 6006, 5627, 2467, 5932, 3828, 5837, 875, 2427, 4472, 1008, 763, 73, 2163, 3263, 443, 4584, 3783, 2972, 4886, 3874, 6369, 2169, 4437, 4249, 2961, 2684, 1154, 2971, 1527, 1130, 3219, 2475, 5587, 4247, 5020, 1350, 6333, 2243, 5975, 4079, 2767, 313, 3492, 2872, 1891, 1866, 91, 3420, 2060, 6331, 3782, 5634, 6031, 3541, 3879, 1949, 2100, 5158, 5206, 829, 5871, 1626, 6123, 5289, 806, 5092, 4194, 6040, 1977, 6544, 3023, 4157, 3516, 1349, 2650, 6209, 6406, 6254, 4254, 1893, 48, 2446, 4140, 6449, 2771, 3161, 4884, 5298, 372, 2849, 777, 4126, 3225, 4213, 1529, 5590, 6427, 5460, 1043, 4354, 3067, 3580, 1598, 4736, 3515, 2833, 2154, 4768, 1751, 4551, 4290, 2921, 4379, 1300, 5794, 6187, 2070, 3055, 5118, 6358, 5487, 5432, 2982, 518, 317, 1508, 2722, 378, 6416, 2438, 47, 3657, 4947, 1701, 2255, 182, 1571, 4967, 5630, 2393, 2136, 3154, 1859, 4104, 1682, 1099, 1618, 4869, 4585, 4796, 3813, 3368, 6304, 2327, 5368, 5022, 2886, 6171, 1830, 5153, 2356, 5390, 4043, 4241, 833, 1434, 72, 109, 295, 3630, 5424, 4275, 1849, 4228, 260, 5689, 2581, 203, 992, 6437, 843, 1951, 5235, 3367, 920, 2329, 4630, 2802, 3335, 4997, 4340, 4772, 2544, 3825, 2124, 4660, 2529, 1894, 2071, 5856, 2974, 1106, 4473, 4970, 5181, 5527, 6133, 301, 5861, 1655, 696, 4662, 3583, 2257, 1179, 2220, 4903, 3705, 863, 2612, 2983, 3795, 766, 315, 3761, 3728, 2269, 6179, 637, 137, 6296, 3553, 3093, 2256, 6201, 6223, 5539, 30, 5937, 117, 1517, 4300, 4633, 948, 3041, 3865, 4055, 5566, 1348, 6491, 5548, 338, 4001, 2626, 4942, 4221, 5138, 1319, 3332, 343, 1550, 3911, 1484, 2956, 5447, 4375, 6277, 5540, 5479, 4112, 3456, 3970, 5078, 2302, 1862, 1730, 2188, 3579, 5732, 6519, 4628, 2251, 5384, 5346, 1871, 444, 4123, 2659, 3767, 4257, 4787, 28, 2034, 4581, 505, 5117, 1451, 2755, 2711, 3419, 6435, 5959, 2783, 1904, 5636, 1983, 6413, 3575, 3060, 5876, 4318, 2323, 1236, 1137, 3968, 5143, 2176, 4366, 5691, 3138, 2532, 2575, 1732, 1647, 5506, 2865, 1363, 1853, 5011, 4041, 2175, 6222, 3281, 3063, 3714, 3499, 689, 5010, 2026, 3446, 1693, 6203, 1074, 2352, 6347, 2370, 2107, 3035, 455, 3237, 2206, 4191, 1251, 2885, 3348, 2762, 4644, 2464, 2067, 3111, 2146, 1289, 129, 5644, 5550, 6104, 5076, 1778, 5374, 663, 2766, 546, 4982, 1731, 1746, 699, 4281, 424, 1946, 609, 2760, 2289, 2607, 2847, 4727, 3382, 3764, 5278, 274, 3181, 217, 5567, 591, 2422, 5889, 4657, 185, 4382, 123, 2919, 5974, 1128, 4111, 4130, 275, 4873, 2391, 1452, 6022, 1750, 4448, 1935, 436, 1157, 2181, 2905, 4369, 6368, 102, 4808, 1115, 4016, 64, 1843, 4972, 1855, 2570, 3562, 3376, 4407, 3417, 4874, 4036, 3438, 3834, 4299, 4010, 3637, 778, 877, 339, 3273, 3081, 2918, 3454, 5727, 3416, 2369, 1499, 6027, 1892, 4424, 543, 1237, 2991, 2428, 6414, 1735, 2992, 5045, 2015, 556, 6493, 3915, 3973, 1210, 5513, 3011, 1155, 3995, 5947, 6200, 3673, 2621, 807, 4312, 1791, 1811, 2353, 4743, 1940, 4952, 771, 791, 2476, 126, 4554, 5676, 5677, 4158, 697, 3797, 3183, 337, 1419, 5516, 5291, 5934, 429, 2137, 2619, 1959, 1123, 2838, 5137, 1763, 21, 380, 254, 3787, 5483, 2328, 3692, 1683, 2157, 3105, 1096, 5651, 2954, 2420, 4175, 6176, 3458, 4242, 2434, 421, 5345, 2463, 2601, 2205, 293, 3235, 4854, 1505, 2414, 3554, 2730, 5806, 2259, 686, 5385, 2628, 664, 3073, 294, 4057, 510, 3975, 5060, 2999, 3922, 1586, 2818, 196, 2139, 2474, 4452, 377, 4030, 1377, 1594, 4046, 4734, 4417, 514, 3424, 3794, 5227, 6020, 4798, 3299, 6547, 1173, 1190, 4937, 2351, 4381, 2043, 1929, 3713, 2547, 4415, 2595, 3197, 603, 3955, 388, 6052, 1407, 707, 3769, 121, 2963, 1159, 3102, 4402, 6103, 4054, 1075, 3021, 4037, 5114, 5995, 6490, 4524, 3871, 2714, 5300, 5862, 5914, 5929, 3857, 428, 1616, 756, 687, 1086, 1424, 929, 4497, 6132, 3346, 528, 4341, 3686, 3594, 6110, 3203, 5048, 5293, 2839, 3907, 3125, 4542, 3612, 2923, 439, 4904, 5733, 3277, 854, 3475, 2488, 3598, 5953, 6102, 4705, 360, 1534, 3506, 2145, 4859, 1196, 6219, 1954, 3994, 779, 3442, 2359, 993, 6250, 2835, 516, 4040, 4335, 2594, 3685, 2497, 302, 223, 6056, 4261, 5445, 1579, 282, 6115, 4488, 6502, 2264, 4572, 5367, 3112, 5283, 6273, 4120, 6356, 5604, 2123, 582, 5197, 1194, 3591, 1597, 3370, 3155, 695, 1672, 3220, 2025, 3128, 5309, 745, 608, 2617, 5966, 921, 1910, 1900, 3336, 5786, 3669, 5529, 2241, 2392, 3223, 296, 2260, 3054, 6224, 2108, 5485, 2732, 1670, 3866, 103, 2794, 5127, 3022, 999, 2334, 3525, 2950, 943, 2712, 2602, 2962, 5342, 6043, 6510, 4887, 1187, 3208, 3008, 25, 2090, 5108, 5031, 6448, 1587, 5915, 5079, 2879, 2424, 4855, 4105, 4085, 4061, 2233, 3287, 5239, 2305, 5640, 3781, 3651, 5156, 4370, 2632, 2590, 3245, 1987, 5186, 4852, 716, 5780, 1546, 3288, 2959, 3999, 4570, 6125, 1733, 4883, 5865, 2290, 4996, 4125, 5684, 1708, 3447, 3301, 3478, 610, 1578, 6060, 1972, 1254, 3889, 4938, 3211, 4825, 4187, 1465, 3465, 4781, 4749, 3394, 6419, 4866, 4386, 5258, 1924, 350, 4661, 3845, 5514, 440, 4528, 5631, 3449, 927, 4076, 1277, 4129, 2135, 1532, 3940, 3452, 3990, 6533, 3806, 1566, 4169, 3217, 2442, 5685, 1346, 3647, 259, 1820, 4687, 5834, 419, 6127, 2500, 1092, 4307, 4868, 5961, 1373, 3779, 5564, 4712, 3094, 1082, 1330, 5190, 3369, 3542, 1595, 6030, 3571, 5471, 3962, 6181, 4550, 1931, 2661, 522, 5017, 3595, 5196, 6117, 2753, 6361, 3401, 11, 6465, 2083, 6099, 5532, 2934, 3321, 2023, 3912, 3613, 1522, 5868, 4574, 2244, 1025, 2892, 5427, 2276, 4828, 2082, 861, 600, 6248, 1433, 5013, 5850, 189, 4463, 3373, 1268, 4464, 1545, 5942, 2318, 485, 3234, 1026, 866, 5446, 375, 5528, 2321, 3240, 1435, 5605, 1019, 5475, 6371, 1704, 592, 5185, 4144, 2696, 1861, 3371, 5133, 3777, 5051, 1817, 4588, 2875, 1518, 584, 1857, 5569, 43, 2691, 5809, 2980, 10, 3366, 3891, 3048, 1132, 1378, 4889, 2790, 6379, 6175, 6529, 549, 33, 972, 2308, 4611, 6262, 2363, 2743, 3753, 3558, 1453, 2895, 4106, 4141, 5295, 156, 5405, 6388, 5568, 4649, 6098, 4218, 1126, 211, 2248, 5765, 5886, 2738, 1256, 4274, 4968, 3123, 1815, 5128, 5692, 4532, 256, 885, 3986, 2989, 3286, 1854, 3051, 3755, 2745, 1380, 2822, 6095, 1812, 2355, 3951, 4632, 5708, 2893, 2884, 2354, 2512, 1341, 1608, 3592, 1623, 4824, 4928, 1189, 828, 4664, 4867, 5807, 5592, 3152, 4161, 2009, 994, 2618, 4238, 4297, 1301, 2331, 2479, 888, 6426, 1328, 537, 3474, 5525, 3668, 6105, 3497, 5401, 3453, 6489, 2798, 3024, 624, 227, 1674, 4902, 6497, 4089, 3885, 3049, 6015, 5621, 2588, 523, 5111, 4167, 6513, 1288, 671, 5033, 3480, 381, 2596, 3119, 4416, 6112, 2198, 3946, 1766, 1009, 1248, 2677, 1182, 6012, 6202, 4819, 6172, 5282, 6186, 5686, 3069, 5955, 471, 5219, 2032, 1090, 6045, 2425, 6267, 4821, 2119, 1590, 2020, 2815, 3567, 3707, 285, 4974, 630, 1267, 4941, 4062, 645, 6526, 4414, 5426, 3491, 3623, 3818, 6286, 1563, 2817, 2857, 3315, 4356, 5305, 5074, 2981, 3868, 3963, 3961, 1649, 4156, 4368, 210, 629, 197, 2521, 3272, 5042, 4689, 6341, 6167, 97, 6192, 1915, 202, 6287, 504, 3816, 541, 1989, 5775, 3737, 5053, 5931, 2201, 5064, 5530, 5717, 2589, 6057, 1381, 3243, 2040, 1536, 3631, 3667, 5753, 1528, 6211, 2061, 6520, 3633, 6270, 4465, 3977, 3392, 4655, 2368, 4176, 3980, 1170, 2584, 4301, 2482, 6420, 4278, 6107, 1105, 6344, 6247, 3325, 233, 3476, 2085, 2177, 5507, 4658, 6122, 5609, 4226, 3934, 1850, 860, 871, 4034, 2144, 383, 270, 3481, 4785, 5798, 6488, 303, 3122, 1299, 4653, 5069, 3473, 2843, 2409, 2374, 669, 6032, 2013, 3495, 4951, 5073, 775, 1656, 5864, 2534, 5349, 213, 5104, 347, 1794, 3768, 2673, 6527, 1276, 3463, 5207, 1274, 5160, 6385, 2854, 2946, 4216, 2415, 2443, 1001, 5377, 6525, 4047, 6434, 5883, 6291, 5486, 5836, 585, 2367, 19, 3905, 4601, 5482, 265, 5429, 1048, 5131, 6139, 762, 3484, 3582, 257, 308, 4954, 6343, 448, 1376, 2055, 138, 619, 4271, 2332, 1577, 22, 4634, 3099, 2844, 39, 3730, 684, 4258, 5773, 2371, 1819, 5803, 4895, 3487, 4901, 1385, 1684, 4935, 2358, 1726, 3268, 945, 2037, 533, 5923, 3817, 4082, 3829, 2262, 4622, 4389, 4303, 226, 2449, 773, 973, 5229, 710, 74, 2890, 5950, 4666, 2340, 5767, 5629, 2728, 2917, 1337, 601, 58, 1412, 746, 199, 5687, 5878, 2763, 2631, 2649, 5802, 4443, 5403, 1243, 5800, 3425, 6075, 6282, 2407, 1847, 3074, 5147, 4504, 2520, 5175, 4330, 937, 4990, 1873, 4853, 3257, 5967, 5645, 3662, 2703, 2285, 3543, 4116, 1936, 3013, 1842, 4360, 2774, 848, 5304, 2689, 2598, 3964, 5262, 6041, 2909, 1133, 1335, 77, 5318, 3355, 1767, 195, 3670, 6375, 5478, 1442, 3578, 6165, 2949, 6004, 1928, 2208, 5534, 5770, 2878, 1336, 1858, 4410, 4397, 1890, 4492, 2523, 4239, 2531, 3672, 2357, 4767, 3218, 2114, 3941, 6183, 1774, 2630, 142, 3766, 6237, 2942, 5544, 853, 3511, 6504, 2522, 936, 5524, 5234, 3757, 106, 1116, 4066, 3036, 120, 938, 2141, 1284, 4669, 3486, 1872, 118, 5357, 4775, 5467, 1652, 4031, 3434, 3189, 462, 107, 3918, 4024, 4406, 3870, 939, 1864, 5996, 6498, 2347, 5618, 5026, 643, 3292, 1209, 5047, 1379, 5044, 2360, 3232, 3624, 4334, 2748, 753, 1459, 438, 581, 3350]\n",
      "test ids:  [0, 1, 2, 3, 4, 5, 6, 7, 8, 78, 79, 80, 81, 82, 83, 84, 85, 86, 87, 88, 89, 90, 158, 159, 160, 161, 162, 163, 164, 165, 166, 167, 168, 169, 170, 171, 238, 239, 240, 241, 242, 243, 244, 245, 246, 247, 248, 249, 250, 251, 252, 253, 318, 319, 320, 321, 322, 324, 325, 326, 327, 328, 329, 330, 331, 332, 333, 334, 335, 398, 399, 400, 401, 402, 405, 406, 407, 408, 409, 410, 411, 412, 413, 414, 415, 416, 417, 478, 479, 480, 481, 482, 486, 487, 488, 489, 490, 491, 492, 493, 494, 495, 496, 497, 498, 499, 558, 559, 560, 561, 562, 567, 568, 569, 570, 571, 572, 573, 574, 575, 576, 577, 578, 579, 580, 638, 639, 640, 641, 642, 648, 649, 650, 651, 652, 653, 654, 655, 656, 657, 658, 659, 660, 661, 662, 718, 719, 720, 721, 722, 729, 730, 731, 732, 733, 734, 735, 736, 737, 738, 739, 740, 741, 742, 743, 744, 798, 799, 800, 801, 802, 810, 811, 812, 813, 814, 815, 816, 817, 818, 819, 820, 821, 822, 823, 824, 825, 826, 878, 879, 880, 881, 882, 892, 893, 894, 895, 896, 897, 898, 899, 900, 901, 902, 903, 904, 905, 906, 907, 908, 958, 959, 960, 961, 962, 974, 975, 976, 977, 978, 979, 980, 981, 982, 983, 984, 985, 986, 987, 988, 989, 1039, 1040, 1041, 1057, 1058, 1059, 1060, 1061, 1062, 1063, 1064, 1065, 1066, 1067, 1068, 1069, 1070, 1071, 1119, 1120, 1121, 1139, 1140, 1141, 1142, 1143, 1144, 1145, 1146, 1147, 1148, 1149, 1150, 1151, 1152, 1153, 1199, 1200, 1201, 1221, 1222, 1223, 1224, 1225, 1226, 1227, 1228, 1229, 1230, 1231, 1232, 1233, 1234, 1235, 1279, 1280, 1281, 1304, 1305, 1306, 1307, 1308, 1309, 1310, 1311, 1312, 1313, 1314, 1315, 1316, 1359, 1360, 1361, 1386, 1387, 1388, 1389, 1390, 1391, 1392, 1393, 1394, 1395, 1396, 1397, 1398, 1439, 1440, 1441, 1469, 1470, 1471, 1472, 1473, 1474, 1475, 1476, 1477, 1478, 1479, 1480, 1519, 1520, 1521, 1551, 1552, 1553, 1554, 1555, 1556, 1557, 1558, 1559, 1560, 1561, 1562, 1599, 1600, 1601, 1633, 1634, 1635, 1636, 1637, 1638, 1639, 1640, 1641, 1642, 1643, 1644, 1679, 1680, 1681, 1716, 1717, 1718, 1719, 1720, 1721, 1722, 1723, 1724, 1725, 1759, 1760, 1761, 1798, 1799, 1800, 1801, 1802, 1803, 1804, 1805, 1806, 1807, 1839, 1840, 1841, 1880, 1881, 1882, 1883, 1884, 1885, 1886, 1887, 1888, 1889, 1919, 1920, 1921, 1963, 1964, 1965, 1966, 1967, 1968, 1969, 1970, 1971, 1999, 2000, 2001, 2045, 2046, 2047, 2048, 2049, 2050, 2051, 2052, 2053, 2079, 2080, 2081, 2127, 2128, 2129, 2130, 2131, 2132, 2133, 2134, 2160, 2210, 2211, 2212, 2213, 2214, 2215, 2216, 2240, 2292, 2293, 2294, 2295, 2296, 2297, 2298, 2320, 2375, 2376, 2377, 2378, 2379, 2380, 2400, 2457, 2458, 2459, 2460, 2461, 2462, 2480, 2539, 2540, 2541, 2542, 2543, 2560, 2622, 2623, 2624, 2625, 2640, 2704, 2705, 2706, 2707, 2720, 2786, 2787, 2788, 2789, 2800, 2869, 2870, 2871, 2880, 2951, 2952, 2960, 3033, 3034, 3040, 3116, 3120, 3198, 3200, 3280, 3360, 3362, 3440, 3444, 3520, 3526, 3527, 3600, 3608, 3609, 3680, 3689, 3690, 3691, 3760, 3771, 3772, 3773, 3774, 3840, 3853, 3854, 3855, 3856, 3920, 3935, 3936, 3937, 3938, 4000, 4017, 4018, 4019, 4020, 4021, 4080, 4098, 4099, 4100, 4101, 4102, 4103, 4160, 4180, 4181, 4182, 4183, 4184, 4185, 4240, 4262, 4263, 4264, 4265, 4266, 4267, 4268, 4320, 4344, 4345, 4346, 4347, 4348, 4349, 4350, 4400, 4426, 4427, 4428, 4429, 4430, 4431, 4432, 4433, 4479, 4480, 4481, 4507, 4508, 4509, 4510, 4511, 4512, 4513, 4514, 4515, 4559, 4560, 4561, 4589, 4590, 4591, 4592, 4593, 4594, 4595, 4596, 4597, 4639, 4640, 4641, 4671, 4672, 4673, 4674, 4675, 4676, 4677, 4678, 4679, 4680, 4719, 4720, 4721, 4753, 4754, 4755, 4756, 4757, 4758, 4759, 4760, 4761, 4762, 4799, 4800, 4801, 4835, 4836, 4837, 4838, 4839, 4840, 4841, 4842, 4843, 4844, 4879, 4880, 4881, 4916, 4917, 4918, 4919, 4920, 4921, 4922, 4923, 4924, 4925, 4926, 4927, 4959, 4960, 4961, 4998, 4999, 5000, 5001, 5002, 5003, 5004, 5005, 5006, 5007, 5008, 5009, 5039, 5040, 5041, 5080, 5081, 5082, 5083, 5084, 5085, 5086, 5087, 5088, 5089, 5090, 5091, 5119, 5120, 5121, 5162, 5163, 5164, 5165, 5166, 5167, 5168, 5169, 5170, 5171, 5172, 5173, 5174, 5199, 5200, 5201, 5244, 5245, 5246, 5247, 5248, 5249, 5250, 5251, 5252, 5253, 5254, 5255, 5256, 5279, 5280, 5281, 5325, 5326, 5327, 5328, 5329, 5330, 5331, 5332, 5333, 5334, 5335, 5336, 5337, 5338, 5339, 5359, 5360, 5361, 5407, 5408, 5409, 5410, 5411, 5412, 5413, 5414, 5415, 5416, 5417, 5418, 5419, 5420, 5421, 5439, 5440, 5441, 5489, 5490, 5491, 5492, 5493, 5494, 5495, 5496, 5497, 5498, 5499, 5500, 5501, 5502, 5503, 5519, 5520, 5521, 5571, 5572, 5573, 5574, 5575, 5576, 5577, 5578, 5579, 5580, 5581, 5582, 5583, 5584, 5585, 5586, 5598, 5599, 5600, 5601, 5602, 5652, 5653, 5654, 5655, 5656, 5657, 5658, 5659, 5660, 5661, 5662, 5663, 5664, 5665, 5666, 5667, 5668, 5678, 5679, 5680, 5681, 5682, 5734, 5735, 5736, 5737, 5738, 5739, 5740, 5741, 5742, 5743, 5744, 5745, 5746, 5747, 5748, 5749, 5750, 5758, 5759, 5760, 5761, 5762, 5816, 5817, 5818, 5819, 5820, 5821, 5822, 5823, 5824, 5825, 5826, 5827, 5828, 5829, 5830, 5831, 5838, 5839, 5840, 5841, 5842, 5898, 5899, 5900, 5901, 5902, 5903, 5904, 5905, 5906, 5907, 5908, 5909, 5910, 5911, 5912, 5918, 5919, 5920, 5921, 5922, 5980, 5981, 5982, 5983, 5984, 5985, 5986, 5987, 5988, 5989, 5990, 5991, 5992, 5993, 5998, 5999, 6000, 6001, 6002, 6061, 6062, 6063, 6064, 6065, 6066, 6067, 6068, 6069, 6070, 6071, 6072, 6073, 6074, 6078, 6079, 6080, 6081, 6082, 6143, 6144, 6145, 6146, 6147, 6148, 6149, 6150, 6151, 6152, 6153, 6154, 6155, 6158, 6159, 6160, 6161, 6162, 6225, 6226, 6227, 6228, 6229, 6230, 6231, 6232, 6233, 6234, 6235, 6236, 6238, 6239, 6240, 6241, 6242, 6307, 6308, 6309, 6310, 6311, 6312, 6313, 6314, 6315, 6316, 6317, 6318, 6319, 6320, 6321, 6322, 6389, 6390, 6391, 6392, 6393, 6394, 6395, 6396, 6397, 6398, 6399, 6400, 6401, 6402, 6470, 6471, 6472, 6473, 6474, 6475, 6476, 6477, 6478, 6479, 6480, 6481, 6482, 6552, 6553, 6554, 6555, 6556, 6557, 6558, 6559, 6560]\n",
      "CPU times: user 149 ms, sys: 20 ms, total: 169 ms\n",
      "Wall time: 168 ms\n"
     ]
    }
   ],
   "source": [
    "%%time\n",
    "n_total = len(simulation.dataframe)\n",
    "n_train = len(simulation.dataframe[simulation.dataframe.type_of == \"train\"])\n",
    "n_val = len(simulation.dataframe[simulation.dataframe.type_of == \"val\"])\n",
    "n_test = len(simulation.dataframe[simulation.dataframe.type_of == \"test\"])\n",
    "n_train_hamiltonians = len(simulation.train_ids)\n",
    "n_val_hamiltonians = len(simulation.val_ids)\n",
    "n_test_hamiltonians = len(simulation.test_ids)\n",
    "n_total_hamiltonians = n_train_hamiltonians + n_val_hamiltonians + n_test_hamiltonians\n",
    "\n",
    "print(\"% train: \", n_train/n_total)\n",
    "print(\"% val: \",  n_val/n_total)\n",
    "print(\"% test: \", n_test/n_total)\n",
    "print(\"% train + val + test: \", (n_train+n_val+n_test)/n_total)\n",
    "print(\"\\n\")\n",
    "print(\"number of train hamiltonians: \", n_train_hamiltonians)\n",
    "print(\"number of val hamiltonians: \", n_val_hamiltonians)\n",
    "print(\"number of test hamiltonians: \", n_test_hamiltonians)\n",
    "print(\"total number of hamiltonians: \", n_total_hamiltonians)\n",
    "print(\"\\n\")\n",
    "print(\"train ids: \", simulation.train_ids)\n",
    "print(\"val ids: \", simulation.val_ids)\n",
    "print(\"test ids: \", simulation.test_ids)"
   ]
  },
  {
   "cell_type": "markdown",
   "metadata": {
    "papermill": {
     "duration": 0.038546,
     "end_time": "2020-07-16T03:09:25.149091",
     "exception": false,
     "start_time": "2020-07-16T03:09:25.110545",
     "status": "completed"
    },
    "tags": []
   },
   "source": [
    "#### Checking summaries"
   ]
  },
  {
   "cell_type": "code",
   "execution_count": 31,
   "metadata": {
    "execution": {
     "iopub.execute_input": "2020-07-16T03:09:25.223931Z",
     "iopub.status.busy": "2020-07-16T03:09:25.223622Z",
     "iopub.status.idle": "2020-07-16T03:09:25.242146Z",
     "shell.execute_reply": "2020-07-16T03:09:25.241830Z"
    },
    "papermill": {
     "duration": 0.056526,
     "end_time": "2020-07-16T03:09:25.242200",
     "exception": false,
     "start_time": "2020-07-16T03:09:25.185674",
     "status": "completed"
    },
    "tags": []
   },
   "outputs": [
    {
     "name": "stdout",
     "output_type": "stream",
     "text": [
      "length of ham_summary:  6561\n",
      "CPU times: user 78 µs, sys: 0 ns, total: 78 µs\n",
      "Wall time: 54.1 µs\n"
     ]
    },
    {
     "data": {
      "text/html": [
       "<div>\n",
       "<style scoped>\n",
       "    .dataframe tbody tr th:only-of-type {\n",
       "        vertical-align: middle;\n",
       "    }\n",
       "\n",
       "    .dataframe tbody tr th {\n",
       "        vertical-align: top;\n",
       "    }\n",
       "\n",
       "    .dataframe thead th {\n",
       "        text-align: right;\n",
       "    }\n",
       "</style>\n",
       "<table border=\"1\" class=\"dataframe\">\n",
       "  <thead>\n",
       "    <tr style=\"text-align: right;\">\n",
       "      <th></th>\n",
       "      <th>t1</th>\n",
       "      <th>t2</th>\n",
       "      <th>type_of</th>\n",
       "      <th>0</th>\n",
       "      <th>1</th>\n",
       "      <th>phase</th>\n",
       "      <th>pred_phase</th>\n",
       "    </tr>\n",
       "    <tr>\n",
       "      <th>id</th>\n",
       "      <th></th>\n",
       "      <th></th>\n",
       "      <th></th>\n",
       "      <th></th>\n",
       "      <th></th>\n",
       "      <th></th>\n",
       "      <th></th>\n",
       "    </tr>\n",
       "  </thead>\n",
       "  <tbody>\n",
       "    <tr>\n",
       "      <th>0</th>\n",
       "      <td>-2.0</td>\n",
       "      <td>-2.00</td>\n",
       "      <td>test</td>\n",
       "      <td>0.64</td>\n",
       "      <td>0.36</td>\n",
       "      <td>999</td>\n",
       "      <td>0</td>\n",
       "    </tr>\n",
       "    <tr>\n",
       "      <th>1</th>\n",
       "      <td>-2.0</td>\n",
       "      <td>-1.95</td>\n",
       "      <td>test</td>\n",
       "      <td>0.72</td>\n",
       "      <td>0.28</td>\n",
       "      <td>0</td>\n",
       "      <td>0</td>\n",
       "    </tr>\n",
       "    <tr>\n",
       "      <th>2</th>\n",
       "      <td>-2.0</td>\n",
       "      <td>-1.90</td>\n",
       "      <td>test</td>\n",
       "      <td>0.78</td>\n",
       "      <td>0.22</td>\n",
       "      <td>0</td>\n",
       "      <td>0</td>\n",
       "    </tr>\n",
       "    <tr>\n",
       "      <th>3</th>\n",
       "      <td>-2.0</td>\n",
       "      <td>-1.85</td>\n",
       "      <td>test</td>\n",
       "      <td>0.77</td>\n",
       "      <td>0.23</td>\n",
       "      <td>0</td>\n",
       "      <td>0</td>\n",
       "    </tr>\n",
       "    <tr>\n",
       "      <th>4</th>\n",
       "      <td>-2.0</td>\n",
       "      <td>-1.80</td>\n",
       "      <td>test</td>\n",
       "      <td>0.76</td>\n",
       "      <td>0.24</td>\n",
       "      <td>0</td>\n",
       "      <td>0</td>\n",
       "    </tr>\n",
       "    <tr>\n",
       "      <th>...</th>\n",
       "      <td>...</td>\n",
       "      <td>...</td>\n",
       "      <td>...</td>\n",
       "      <td>...</td>\n",
       "      <td>...</td>\n",
       "      <td>...</td>\n",
       "      <td>...</td>\n",
       "    </tr>\n",
       "    <tr>\n",
       "      <th>6556</th>\n",
       "      <td>2.0</td>\n",
       "      <td>1.80</td>\n",
       "      <td>test</td>\n",
       "      <td>0.81</td>\n",
       "      <td>0.19</td>\n",
       "      <td>0</td>\n",
       "      <td>0</td>\n",
       "    </tr>\n",
       "    <tr>\n",
       "      <th>6557</th>\n",
       "      <td>2.0</td>\n",
       "      <td>1.85</td>\n",
       "      <td>test</td>\n",
       "      <td>0.80</td>\n",
       "      <td>0.20</td>\n",
       "      <td>0</td>\n",
       "      <td>0</td>\n",
       "    </tr>\n",
       "    <tr>\n",
       "      <th>6558</th>\n",
       "      <td>2.0</td>\n",
       "      <td>1.90</td>\n",
       "      <td>test</td>\n",
       "      <td>0.77</td>\n",
       "      <td>0.23</td>\n",
       "      <td>0</td>\n",
       "      <td>0</td>\n",
       "    </tr>\n",
       "    <tr>\n",
       "      <th>6559</th>\n",
       "      <td>2.0</td>\n",
       "      <td>1.95</td>\n",
       "      <td>test</td>\n",
       "      <td>0.76</td>\n",
       "      <td>0.24</td>\n",
       "      <td>0</td>\n",
       "      <td>0</td>\n",
       "    </tr>\n",
       "    <tr>\n",
       "      <th>6560</th>\n",
       "      <td>2.0</td>\n",
       "      <td>2.00</td>\n",
       "      <td>test</td>\n",
       "      <td>0.62</td>\n",
       "      <td>0.38</td>\n",
       "      <td>999</td>\n",
       "      <td>0</td>\n",
       "    </tr>\n",
       "  </tbody>\n",
       "</table>\n",
       "<p>6561 rows × 7 columns</p>\n",
       "</div>"
      ],
      "text/plain": [
       "       t1    t2 type_of     0     1  phase  pred_phase\n",
       "id                                                    \n",
       "0    -2.0 -2.00    test  0.64  0.36    999           0\n",
       "1    -2.0 -1.95    test  0.72  0.28      0           0\n",
       "2    -2.0 -1.90    test  0.78  0.22      0           0\n",
       "3    -2.0 -1.85    test  0.77  0.23      0           0\n",
       "4    -2.0 -1.80    test  0.76  0.24      0           0\n",
       "...   ...   ...     ...   ...   ...    ...         ...\n",
       "6556  2.0  1.80    test  0.81  0.19      0           0\n",
       "6557  2.0  1.85    test  0.80  0.20      0           0\n",
       "6558  2.0  1.90    test  0.77  0.23      0           0\n",
       "6559  2.0  1.95    test  0.76  0.24      0           0\n",
       "6560  2.0  2.00    test  0.62  0.38    999           0\n",
       "\n",
       "[6561 rows x 7 columns]"
      ]
     },
     "execution_count": 31,
     "metadata": {},
     "output_type": "execute_result"
    }
   ],
   "source": [
    "%%time\n",
    "ham_summary = simulation.hamiltonian_summary\n",
    "print(\"length of ham_summary: \", len(ham_summary))\n",
    "ham_summary"
   ]
  },
  {
   "cell_type": "code",
   "execution_count": 32,
   "metadata": {
    "execution": {
     "iopub.execute_input": "2020-07-16T03:09:25.320565Z",
     "iopub.status.busy": "2020-07-16T03:09:25.320238Z",
     "iopub.status.idle": "2020-07-16T03:09:25.347767Z",
     "shell.execute_reply": "2020-07-16T03:09:25.347362Z"
    },
    "papermill": {
     "duration": 0.068159,
     "end_time": "2020-07-16T03:09:25.347827",
     "exception": false,
     "start_time": "2020-07-16T03:09:25.279668",
     "status": "completed"
    },
    "tags": []
   },
   "outputs": [
    {
     "data": {
      "text/html": [
       "<div>\n",
       "<style scoped>\n",
       "    .dataframe tbody tr th:only-of-type {\n",
       "        vertical-align: middle;\n",
       "    }\n",
       "\n",
       "    .dataframe tbody tr th {\n",
       "        vertical-align: top;\n",
       "    }\n",
       "\n",
       "    .dataframe thead th {\n",
       "        text-align: right;\n",
       "    }\n",
       "</style>\n",
       "<table border=\"1\" class=\"dataframe\">\n",
       "  <thead>\n",
       "    <tr style=\"text-align: right;\">\n",
       "      <th></th>\n",
       "      <th>t1</th>\n",
       "      <th>t2</th>\n",
       "      <th>0</th>\n",
       "      <th>1</th>\n",
       "      <th>phase</th>\n",
       "      <th>pred_phase</th>\n",
       "    </tr>\n",
       "  </thead>\n",
       "  <tbody>\n",
       "    <tr>\n",
       "      <th>count</th>\n",
       "      <td>6561.000000</td>\n",
       "      <td>6.561000e+03</td>\n",
       "      <td>6561.000000</td>\n",
       "      <td>6561.000000</td>\n",
       "      <td>6561.000000</td>\n",
       "      <td>6561.000000</td>\n",
       "    </tr>\n",
       "    <tr>\n",
       "      <th>mean</th>\n",
       "      <td>0.000000</td>\n",
       "      <td>-4.331917e-18</td>\n",
       "      <td>0.515075</td>\n",
       "      <td>0.484925</td>\n",
       "      <td>25.002134</td>\n",
       "      <td>0.464258</td>\n",
       "    </tr>\n",
       "    <tr>\n",
       "      <th>std</th>\n",
       "      <td>1.169134</td>\n",
       "      <td>1.169134e+00</td>\n",
       "      <td>0.433630</td>\n",
       "      <td>0.433630</td>\n",
       "      <td>154.495657</td>\n",
       "      <td>0.498759</td>\n",
       "    </tr>\n",
       "    <tr>\n",
       "      <th>min</th>\n",
       "      <td>-2.000000</td>\n",
       "      <td>-2.000000e+00</td>\n",
       "      <td>0.000000</td>\n",
       "      <td>0.000000</td>\n",
       "      <td>0.000000</td>\n",
       "      <td>0.000000</td>\n",
       "    </tr>\n",
       "    <tr>\n",
       "      <th>25%</th>\n",
       "      <td>-1.000000</td>\n",
       "      <td>-1.000000e+00</td>\n",
       "      <td>0.030000</td>\n",
       "      <td>0.050000</td>\n",
       "      <td>0.000000</td>\n",
       "      <td>0.000000</td>\n",
       "    </tr>\n",
       "    <tr>\n",
       "      <th>50%</th>\n",
       "      <td>0.000000</td>\n",
       "      <td>0.000000e+00</td>\n",
       "      <td>0.710000</td>\n",
       "      <td>0.290000</td>\n",
       "      <td>1.000000</td>\n",
       "      <td>0.000000</td>\n",
       "    </tr>\n",
       "    <tr>\n",
       "      <th>75%</th>\n",
       "      <td>1.000000</td>\n",
       "      <td>1.000000e+00</td>\n",
       "      <td>0.950000</td>\n",
       "      <td>0.970000</td>\n",
       "      <td>1.000000</td>\n",
       "      <td>1.000000</td>\n",
       "    </tr>\n",
       "    <tr>\n",
       "      <th>max</th>\n",
       "      <td>2.000000</td>\n",
       "      <td>2.000000e+00</td>\n",
       "      <td>1.000000</td>\n",
       "      <td>1.000000</td>\n",
       "      <td>999.000000</td>\n",
       "      <td>1.000000</td>\n",
       "    </tr>\n",
       "  </tbody>\n",
       "</table>\n",
       "</div>"
      ],
      "text/plain": [
       "                t1            t2            0            1        phase  \\\n",
       "count  6561.000000  6.561000e+03  6561.000000  6561.000000  6561.000000   \n",
       "mean      0.000000 -4.331917e-18     0.515075     0.484925    25.002134   \n",
       "std       1.169134  1.169134e+00     0.433630     0.433630   154.495657   \n",
       "min      -2.000000 -2.000000e+00     0.000000     0.000000     0.000000   \n",
       "25%      -1.000000 -1.000000e+00     0.030000     0.050000     0.000000   \n",
       "50%       0.000000  0.000000e+00     0.710000     0.290000     1.000000   \n",
       "75%       1.000000  1.000000e+00     0.950000     0.970000     1.000000   \n",
       "max       2.000000  2.000000e+00     1.000000     1.000000   999.000000   \n",
       "\n",
       "        pred_phase  \n",
       "count  6561.000000  \n",
       "mean      0.464258  \n",
       "std       0.498759  \n",
       "min       0.000000  \n",
       "25%       0.000000  \n",
       "50%       0.000000  \n",
       "75%       1.000000  \n",
       "max       1.000000  "
      ]
     },
     "execution_count": 32,
     "metadata": {},
     "output_type": "execute_result"
    }
   ],
   "source": [
    "ham_summary.describe()"
   ]
  },
  {
   "cell_type": "code",
   "execution_count": 33,
   "metadata": {
    "execution": {
     "iopub.execute_input": "2020-07-16T03:09:25.427401Z",
     "iopub.status.busy": "2020-07-16T03:09:25.427090Z",
     "iopub.status.idle": "2020-07-16T03:09:25.442185Z",
     "shell.execute_reply": "2020-07-16T03:09:25.442532Z"
    },
    "papermill": {
     "duration": 0.056708,
     "end_time": "2020-07-16T03:09:25.442599",
     "exception": false,
     "start_time": "2020-07-16T03:09:25.385891",
     "status": "completed"
    },
    "tags": []
   },
   "outputs": [
    {
     "name": "stdout",
     "output_type": "stream",
     "text": [
      "length of ham_summary:  656100\n"
     ]
    },
    {
     "data": {
      "text/html": [
       "<div>\n",
       "<style scoped>\n",
       "    .dataframe tbody tr th:only-of-type {\n",
       "        vertical-align: middle;\n",
       "    }\n",
       "\n",
       "    .dataframe tbody tr th {\n",
       "        vertical-align: top;\n",
       "    }\n",
       "\n",
       "    .dataframe thead th {\n",
       "        text-align: right;\n",
       "    }\n",
       "</style>\n",
       "<table border=\"1\" class=\"dataframe\">\n",
       "  <thead>\n",
       "    <tr style=\"text-align: right;\">\n",
       "      <th></th>\n",
       "      <th>id</th>\n",
       "      <th>phase</th>\n",
       "      <th>pred_phase</th>\n",
       "      <th>type_of</th>\n",
       "    </tr>\n",
       "  </thead>\n",
       "  <tbody>\n",
       "    <tr>\n",
       "      <th>0</th>\n",
       "      <td>0</td>\n",
       "      <td>999</td>\n",
       "      <td>1</td>\n",
       "      <td>test</td>\n",
       "    </tr>\n",
       "    <tr>\n",
       "      <th>1</th>\n",
       "      <td>0</td>\n",
       "      <td>999</td>\n",
       "      <td>0</td>\n",
       "      <td>test</td>\n",
       "    </tr>\n",
       "    <tr>\n",
       "      <th>2</th>\n",
       "      <td>0</td>\n",
       "      <td>999</td>\n",
       "      <td>0</td>\n",
       "      <td>test</td>\n",
       "    </tr>\n",
       "    <tr>\n",
       "      <th>3</th>\n",
       "      <td>0</td>\n",
       "      <td>999</td>\n",
       "      <td>1</td>\n",
       "      <td>test</td>\n",
       "    </tr>\n",
       "    <tr>\n",
       "      <th>4</th>\n",
       "      <td>0</td>\n",
       "      <td>999</td>\n",
       "      <td>0</td>\n",
       "      <td>test</td>\n",
       "    </tr>\n",
       "    <tr>\n",
       "      <th>...</th>\n",
       "      <td>...</td>\n",
       "      <td>...</td>\n",
       "      <td>...</td>\n",
       "      <td>...</td>\n",
       "    </tr>\n",
       "    <tr>\n",
       "      <th>656095</th>\n",
       "      <td>6560</td>\n",
       "      <td>999</td>\n",
       "      <td>0</td>\n",
       "      <td>test</td>\n",
       "    </tr>\n",
       "    <tr>\n",
       "      <th>656096</th>\n",
       "      <td>6560</td>\n",
       "      <td>999</td>\n",
       "      <td>1</td>\n",
       "      <td>test</td>\n",
       "    </tr>\n",
       "    <tr>\n",
       "      <th>656097</th>\n",
       "      <td>6560</td>\n",
       "      <td>999</td>\n",
       "      <td>1</td>\n",
       "      <td>test</td>\n",
       "    </tr>\n",
       "    <tr>\n",
       "      <th>656098</th>\n",
       "      <td>6560</td>\n",
       "      <td>999</td>\n",
       "      <td>0</td>\n",
       "      <td>test</td>\n",
       "    </tr>\n",
       "    <tr>\n",
       "      <th>656099</th>\n",
       "      <td>6560</td>\n",
       "      <td>999</td>\n",
       "      <td>0</td>\n",
       "      <td>test</td>\n",
       "    </tr>\n",
       "  </tbody>\n",
       "</table>\n",
       "<p>656100 rows × 4 columns</p>\n",
       "</div>"
      ],
      "text/plain": [
       "          id  phase  pred_phase type_of\n",
       "0          0    999           1    test\n",
       "1          0    999           0    test\n",
       "2          0    999           0    test\n",
       "3          0    999           1    test\n",
       "4          0    999           0    test\n",
       "...      ...    ...         ...     ...\n",
       "656095  6560    999           0    test\n",
       "656096  6560    999           1    test\n",
       "656097  6560    999           1    test\n",
       "656098  6560    999           0    test\n",
       "656099  6560    999           0    test\n",
       "\n",
       "[656100 rows x 4 columns]"
      ]
     },
     "execution_count": 33,
     "metadata": {},
     "output_type": "execute_result"
    }
   ],
   "source": [
    "eigen_summary = simulation.eigenvector_summary\n",
    "print(\"length of ham_summary: \", len(eigen_summary))\n",
    "eigen_summary"
   ]
  },
  {
   "cell_type": "markdown",
   "metadata": {
    "papermill": {
     "duration": 0.036973,
     "end_time": "2020-07-16T03:09:25.516614",
     "exception": false,
     "start_time": "2020-07-16T03:09:25.479641",
     "status": "completed"
    },
    "tags": []
   },
   "source": [
    "#### Checking accuracies"
   ]
  },
  {
   "cell_type": "code",
   "execution_count": 34,
   "metadata": {
    "execution": {
     "iopub.execute_input": "2020-07-16T03:09:25.595936Z",
     "iopub.status.busy": "2020-07-16T03:09:25.595628Z",
     "iopub.status.idle": "2020-07-16T03:09:25.606789Z",
     "shell.execute_reply": "2020-07-16T03:09:25.607091Z"
    },
    "papermill": {
     "duration": 0.052815,
     "end_time": "2020-07-16T03:09:25.607159",
     "exception": false,
     "start_time": "2020-07-16T03:09:25.554344",
     "status": "completed"
    },
    "tags": []
   },
   "outputs": [
    {
     "data": {
      "text/plain": [
       "{'eigenvector_train': 0.9678237410071943,\n",
       " 'eigenvector_val': 0.941236,\n",
       " 'eigenvector_test': 0.7428317535545024,\n",
       " 'hamiltonian_train': 0.9856115107913669,\n",
       " 'hamiltonian_val': 0.9856,\n",
       " 'hamiltonian_test': 0.9123222748815166}"
      ]
     },
     "execution_count": 34,
     "metadata": {},
     "output_type": "execute_result"
    }
   ],
   "source": [
    "simulation.accuracy"
   ]
  },
  {
   "cell_type": "markdown",
   "metadata": {
    "papermill": {
     "duration": 0.037369,
     "end_time": "2020-07-16T03:09:25.682140",
     "exception": false,
     "start_time": "2020-07-16T03:09:25.644771",
     "status": "completed"
    },
    "tags": []
   },
   "source": [
    "#### Checking data stored in  memory"
   ]
  },
  {
   "cell_type": "code",
   "execution_count": 35,
   "metadata": {
    "execution": {
     "iopub.execute_input": "2020-07-16T03:09:25.762048Z",
     "iopub.status.busy": "2020-07-16T03:09:25.761740Z",
     "iopub.status.idle": "2020-07-16T03:09:25.772927Z",
     "shell.execute_reply": "2020-07-16T03:09:25.772604Z"
    },
    "papermill": {
     "duration": 0.052689,
     "end_time": "2020-07-16T03:09:25.772982",
     "exception": false,
     "start_time": "2020-07-16T03:09:25.720293",
     "status": "completed"
    },
    "tags": []
   },
   "outputs": [
    {
     "data": {
      "text/plain": [
       "[]"
      ]
     },
     "execution_count": 35,
     "metadata": {},
     "output_type": "execute_result"
    }
   ],
   "source": [
    "ham_summary_list = simulation.hamiltonian_summary_list\n",
    "ham_summary_list"
   ]
  },
  {
   "cell_type": "code",
   "execution_count": 36,
   "metadata": {
    "execution": {
     "iopub.execute_input": "2020-07-16T03:09:25.850133Z",
     "iopub.status.busy": "2020-07-16T03:09:25.849824Z",
     "iopub.status.idle": "2020-07-16T03:09:25.859999Z",
     "shell.execute_reply": "2020-07-16T03:09:25.859680Z"
    },
    "papermill": {
     "duration": 0.049754,
     "end_time": "2020-07-16T03:09:25.860052",
     "exception": false,
     "start_time": "2020-07-16T03:09:25.810298",
     "status": "completed"
    },
    "tags": []
   },
   "outputs": [
    {
     "data": {
      "text/plain": [
       "[]"
      ]
     },
     "execution_count": 36,
     "metadata": {},
     "output_type": "execute_result"
    }
   ],
   "source": [
    "eigen_summary_list = simulation.eigenvector_summary_list\n",
    "eigen_summary_list"
   ]
  },
  {
   "cell_type": "code",
   "execution_count": 37,
   "metadata": {
    "execution": {
     "iopub.execute_input": "2020-07-16T03:09:25.940327Z",
     "iopub.status.busy": "2020-07-16T03:09:25.940013Z",
     "iopub.status.idle": "2020-07-16T03:09:25.949965Z",
     "shell.execute_reply": "2020-07-16T03:09:25.950268Z"
    },
    "papermill": {
     "duration": 0.051128,
     "end_time": "2020-07-16T03:09:25.950335",
     "exception": false,
     "start_time": "2020-07-16T03:09:25.899207",
     "status": "completed"
    },
    "tags": []
   },
   "outputs": [
    {
     "data": {
      "text/plain": [
       "{'eigenvector_train': [],\n",
       " 'eigenvector_val': [],\n",
       " 'eigenvector_test': [],\n",
       " 'hamiltonian_train': [],\n",
       " 'hamiltonian_val': [],\n",
       " 'hamiltonian_test': []}"
      ]
     },
     "execution_count": 37,
     "metadata": {},
     "output_type": "execute_result"
    }
   ],
   "source": [
    "accuracy_list = simulation.accuracy_list\n",
    "accuracy_list"
   ]
  },
  {
   "cell_type": "code",
   "execution_count": null,
   "metadata": {
    "papermill": {
     "duration": 0.038138,
     "end_time": "2020-07-16T03:09:26.027820",
     "exception": false,
     "start_time": "2020-07-16T03:09:25.989682",
     "status": "completed"
    },
    "tags": []
   },
   "outputs": [],
   "source": []
  },
  {
   "cell_type": "code",
   "execution_count": null,
   "metadata": {
    "papermill": {
     "duration": 0.038569,
     "end_time": "2020-07-16T03:09:26.105321",
     "exception": false,
     "start_time": "2020-07-16T03:09:26.066752",
     "status": "completed"
    },
    "tags": []
   },
   "outputs": [],
   "source": []
  },
  {
   "cell_type": "code",
   "execution_count": 38,
   "metadata": {
    "execution": {
     "iopub.execute_input": "2020-07-16T03:09:26.188888Z",
     "iopub.status.busy": "2020-07-16T03:09:26.188575Z",
     "iopub.status.idle": "2020-07-16T03:09:26.198164Z",
     "shell.execute_reply": "2020-07-16T03:09:26.197841Z"
    },
    "papermill": {
     "duration": 0.05297,
     "end_time": "2020-07-16T03:09:26.198219",
     "exception": false,
     "start_time": "2020-07-16T03:09:26.145249",
     "status": "completed"
    },
    "tags": []
   },
   "outputs": [],
   "source": [
    "#simulation.fourier_matrix"
   ]
  },
  {
   "cell_type": "code",
   "execution_count": 39,
   "metadata": {
    "execution": {
     "iopub.execute_input": "2020-07-16T03:09:26.281380Z",
     "iopub.status.busy": "2020-07-16T03:09:26.281070Z",
     "iopub.status.idle": "2020-07-16T03:09:26.291060Z",
     "shell.execute_reply": "2020-07-16T03:09:26.290768Z"
    },
    "papermill": {
     "duration": 0.053276,
     "end_time": "2020-07-16T03:09:26.291117",
     "exception": false,
     "start_time": "2020-07-16T03:09:26.237841",
     "status": "completed"
    },
    "tags": []
   },
   "outputs": [],
   "source": [
    "#simulation.fourier_matrix.shape"
   ]
  },
  {
   "cell_type": "code",
   "execution_count": 40,
   "metadata": {
    "execution": {
     "iopub.execute_input": "2020-07-16T03:09:26.372238Z",
     "iopub.status.busy": "2020-07-16T03:09:26.371930Z",
     "iopub.status.idle": "2020-07-16T03:09:26.381747Z",
     "shell.execute_reply": "2020-07-16T03:09:26.381411Z"
    },
    "papermill": {
     "duration": 0.049732,
     "end_time": "2020-07-16T03:09:26.381802",
     "exception": false,
     "start_time": "2020-07-16T03:09:26.332070",
     "status": "completed"
    },
    "tags": []
   },
   "outputs": [],
   "source": [
    "#simulation.fourier_matrix[:,0]"
   ]
  },
  {
   "cell_type": "code",
   "execution_count": 41,
   "metadata": {
    "execution": {
     "iopub.execute_input": "2020-07-16T03:09:26.462963Z",
     "iopub.status.busy": "2020-07-16T03:09:26.462649Z",
     "iopub.status.idle": "2020-07-16T03:09:26.472198Z",
     "shell.execute_reply": "2020-07-16T03:09:26.471872Z"
    },
    "papermill": {
     "duration": 0.051082,
     "end_time": "2020-07-16T03:09:26.472252",
     "exception": false,
     "start_time": "2020-07-16T03:09:26.421170",
     "status": "completed"
    },
    "tags": []
   },
   "outputs": [],
   "source": [
    "#simulation.fourier_matrix[:,1]"
   ]
  },
  {
   "cell_type": "code",
   "execution_count": 42,
   "metadata": {
    "execution": {
     "iopub.execute_input": "2020-07-16T03:09:26.553159Z",
     "iopub.status.busy": "2020-07-16T03:09:26.552849Z",
     "iopub.status.idle": "2020-07-16T03:09:26.561907Z",
     "shell.execute_reply": "2020-07-16T03:09:26.562210Z"
    },
    "papermill": {
     "duration": 0.050522,
     "end_time": "2020-07-16T03:09:26.562277",
     "exception": false,
     "start_time": "2020-07-16T03:09:26.511755",
     "status": "completed"
    },
    "tags": []
   },
   "outputs": [],
   "source": [
    "#np.exp(-1j*2*np.pi*3/100)"
   ]
  },
  {
   "cell_type": "code",
   "execution_count": 43,
   "metadata": {
    "execution": {
     "iopub.execute_input": "2020-07-16T03:09:26.642579Z",
     "iopub.status.busy": "2020-07-16T03:09:26.642266Z",
     "iopub.status.idle": "2020-07-16T03:09:26.651818Z",
     "shell.execute_reply": "2020-07-16T03:09:26.651488Z"
    },
    "papermill": {
     "duration": 0.050492,
     "end_time": "2020-07-16T03:09:26.651873",
     "exception": false,
     "start_time": "2020-07-16T03:09:26.601381",
     "status": "completed"
    },
    "tags": []
   },
   "outputs": [],
   "source": [
    "#for i in range(1,50):\n",
    "#    print(\"\\n\")\n",
    "#    print(i)\n",
    "#    print(np.sum((np.real(simulation.fourier_matrix[:,i]) - np.real(simulation.fourier_matrix[:,-i]))**2))\n",
    "#    print(np.sum((np.imag(simulation.fourier_matrix[:,i])+ np.imag(simulation.fourier_matrix[:,-i]))**2))"
   ]
  },
  {
   "cell_type": "code",
   "execution_count": 44,
   "metadata": {
    "execution": {
     "iopub.execute_input": "2020-07-16T03:09:26.731490Z",
     "iopub.status.busy": "2020-07-16T03:09:26.731173Z",
     "iopub.status.idle": "2020-07-16T03:09:26.748567Z",
     "shell.execute_reply": "2020-07-16T03:09:26.748196Z"
    },
    "papermill": {
     "duration": 0.057454,
     "end_time": "2020-07-16T03:09:26.748624",
     "exception": false,
     "start_time": "2020-07-16T03:09:26.691170",
     "status": "completed"
    },
    "tags": []
   },
   "outputs": [],
   "source": [
    "#print(simulation.fourier_matrix[:,0])"
   ]
  },
  {
   "cell_type": "code",
   "execution_count": 45,
   "metadata": {
    "execution": {
     "iopub.execute_input": "2020-07-16T03:09:26.833331Z",
     "iopub.status.busy": "2020-07-16T03:09:26.833000Z",
     "iopub.status.idle": "2020-07-16T03:09:26.843651Z",
     "shell.execute_reply": "2020-07-16T03:09:26.843302Z"
    },
    "papermill": {
     "duration": 0.051985,
     "end_time": "2020-07-16T03:09:26.843709",
     "exception": false,
     "start_time": "2020-07-16T03:09:26.791724",
     "status": "completed"
    },
    "tags": []
   },
   "outputs": [],
   "source": [
    "#print(simulation.fourier_matrix[:,50])"
   ]
  },
  {
   "cell_type": "code",
   "execution_count": null,
   "metadata": {
    "papermill": {
     "duration": 0.038179,
     "end_time": "2020-07-16T03:09:26.922592",
     "exception": false,
     "start_time": "2020-07-16T03:09:26.884413",
     "status": "completed"
    },
    "tags": []
   },
   "outputs": [],
   "source": []
  }
 ],
 "metadata": {
  "celltoolbar": "Tags",
  "kernelspec": {
   "display_name": "ml_top_phases",
   "language": "python",
   "name": "ml_top_phases"
  },
  "language_info": {
   "codemirror_mode": {
    "name": "ipython",
    "version": 3
   },
   "file_extension": ".py",
   "mimetype": "text/x-python",
   "name": "python",
   "nbconvert_exporter": "python",
   "pygments_lexer": "ipython3",
   "version": "3.6.10"
  },
  "papermill": {
   "duration": 158.081127,
   "end_time": "2020-07-16T03:09:27.974365",
   "environment_variables": {},
   "exception": null,
   "input_path": "0_simulation_template.ipynb",
   "output_path": "zzz_simulation_output_ssh1_8th_scenario_100_6561.ipynb",
   "parameters": {
    "allowed_windings": [
     0,
     1
    ],
    "csv_path": "/home/rio/ssh_csvs/ssh1/periodic_100_6561.csv",
    "features_to_use": [
     0,
     1,
     3,
     50
    ],
    "fit_params": null,
    "fourier_features_to_use": [
     15,
     18,
     28,
     30
    ],
    "fourier_fillna": false,
    "fourier_mode": "dst",
    "fourier_normalize": false,
    "fourier_real": "imag",
    "model_kw": {
     "criterion": "entropy"
    },
    "model_name": "DecisionTreeClassifier",
    "n_experiments": 100,
    "pred_params": null,
    "random_features": false,
    "random_state": 4303546,
    "save_accuracy": true,
    "save_eigenvector": true,
    "save_hamiltonian": true,
    "save_models": true,
    "shuffle_features": false,
    "shuffle_rows": true,
    "simulation_dir": "/home/rio/ssh_simulations/ssh1/periodic_8th_scenario_100_6561",
    "start_n": 0,
    "store_in_lists": false,
    "val_split": 0.9
   },
   "start_time": "2020-07-16T03:06:49.893238",
   "version": "2.1.0"
  }
 },
 "nbformat": 4,
 "nbformat_minor": 2
}