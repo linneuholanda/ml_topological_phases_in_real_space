{
 "cells": [
  {
   "cell_type": "markdown",
   "metadata": {
    "papermill": {
     "duration": 0.02062,
     "end_time": "2020-07-18T05:12:11.281462",
     "exception": false,
     "start_time": "2020-07-18T05:12:11.260842",
     "status": "completed"
    },
    "tags": []
   },
   "source": [
    "# Simulation template \n",
    "\n",
    "In this notebook we run the machine learning analysis of topological phase transitions occurring  in both nearest-neighbours SSH models (ssh1) and second neighbours models (ssh2) as decribed in the paper [Machine learning topological phases in real space](https://arxiv.org/abs/1901.01963). Here the simulation is run with features generated from fourier components in the first scenario. This scenario is characterized by using only the EVEN wavevector space eigenmodes, computed from ALL real space components."
   ]
  },
  {
   "cell_type": "markdown",
   "metadata": {
    "papermill": {
     "duration": 0.016826,
     "end_time": "2020-07-18T05:12:11.315240",
     "exception": false,
     "start_time": "2020-07-18T05:12:11.298414",
     "status": "completed"
    },
    "tags": []
   },
   "source": [
    "## Defining parameters"
   ]
  },
  {
   "cell_type": "code",
   "execution_count": 1,
   "metadata": {
    "execution": {
     "iopub.execute_input": "2020-07-18T05:12:11.352086Z",
     "iopub.status.busy": "2020-07-18T05:12:11.351758Z",
     "iopub.status.idle": "2020-07-18T05:12:11.929740Z",
     "shell.execute_reply": "2020-07-18T05:12:11.929414Z"
    },
    "papermill": {
     "duration": 0.597891,
     "end_time": "2020-07-18T05:12:11.929797",
     "exception": false,
     "start_time": "2020-07-18T05:12:11.331906",
     "status": "completed"
    },
    "tags": []
   },
   "outputs": [
    {
     "name": "stdout",
     "output_type": "stream",
     "text": [
      "CPU times: user 746 ms, sys: 271 ms, total: 1.02 s\n",
      "Wall time: 572 ms\n"
     ]
    }
   ],
   "source": [
    "%%time\n",
    "%load_ext autoreload\n",
    "%autoreload 2\n",
    "from simulation import *"
   ]
  },
  {
   "cell_type": "code",
   "execution_count": 2,
   "metadata": {
    "execution": {
     "iopub.execute_input": "2020-07-18T05:12:11.967993Z",
     "iopub.status.busy": "2020-07-18T05:12:11.967672Z",
     "iopub.status.idle": "2020-07-18T05:12:11.978457Z",
     "shell.execute_reply": "2020-07-18T05:12:11.978716Z"
    },
    "papermill": {
     "duration": 0.031749,
     "end_time": "2020-07-18T05:12:11.978784",
     "exception": false,
     "start_time": "2020-07-18T05:12:11.947035",
     "status": "completed"
    },
    "tags": [
     "parameters"
    ]
   },
   "outputs": [
    {
     "name": "stdout",
     "output_type": "stream",
     "text": [
      "CPU times: user 3 µs, sys: 1 µs, total: 4 µs\n",
      "Wall time: 4.53 µs\n"
     ]
    }
   ],
   "source": [
    "%%time\n",
    "### Dataset and simulation parameters\n",
    "#csv_path = SSH2_PERIODIC_100_6561_CSV \n",
    "csv_path = SSH1_PERIODIC_100_6561_CSV \n",
    "model_name = \"DecisionTreeClassifier\"\n",
    "model_kw = {\"criterion\":\"entropy\"}\n",
    "allowed_windings = [0,1]\n",
    "#allowed_windings = [-1,0,1,2]\n",
    "simulation_dir = SSH1_REAL_SPACE_ALL_SITES\n",
    "#simulation_dir = SSH2_PERIODIC_ENGINEERED_100_6561_SIMULATION_DIR\n",
    "val_split = 0.9  \n",
    "features_to_use = None\n",
    "shuffle_features = False\n",
    "random_state = 763\n",
    "\n",
    "### Fourier features\n",
    "fourier_mode = \"dst\"\n",
    "fourier_features_to_use = None\n",
    "fourier_real = \"imag\"\n",
    "fourier_normalize = False\n",
    "fourier_fillna = False\n",
    "\n",
    "### Running a simulation\n",
    "n_experiments = 5\n",
    "start_n = 0\n",
    "fit_params = None\n",
    "#mode=mode\n",
    "shuffle_rows = True\n",
    "pred_params = None\n",
    "random_features = False\n",
    "######### DON'T SET THIS TO TRUE UNLESS YOUR DATASET IS SMALL!! WILL FLOOD YOUR MEMORY!!!\n",
    "store_in_lists = False   \n",
    "########## BELOW ARE THE PARAMETERS THAT CONTROL WHAT WILL BE SAVED\n",
    "save_eigenvector=True\n",
    "save_hamiltonian=True \n",
    "save_accuracy=True \n",
    "save_models=True"
   ]
  },
  {
   "cell_type": "code",
   "execution_count": 3,
   "metadata": {
    "execution": {
     "iopub.execute_input": "2020-07-18T05:12:12.018873Z",
     "iopub.status.busy": "2020-07-18T05:12:12.018526Z",
     "iopub.status.idle": "2020-07-18T05:12:12.138315Z",
     "shell.execute_reply": "2020-07-18T05:12:12.139147Z"
    },
    "papermill": {
     "duration": 0.143771,
     "end_time": "2020-07-18T05:12:12.139309",
     "exception": false,
     "start_time": "2020-07-18T05:12:11.995538",
     "status": "completed"
    },
    "tags": [
     "injected-parameters"
    ]
   },
   "outputs": [],
   "source": [
    "# Parameters\n",
    "model_kw = {\"criterion\": \"entropy\"}\n",
    "allowed_windings = [0, 1]\n",
    "val_split = 0.9\n",
    "features_to_use = None\n",
    "shuffle_features = False\n",
    "n_experiments = 100\n",
    "start_n = 0\n",
    "fit_params = None\n",
    "shuffle_rows = True\n",
    "pred_params = None\n",
    "random_features = False\n",
    "store_in_lists = False\n",
    "save_eigenvector = True\n",
    "save_hamiltonian = True\n",
    "save_accuracy = True\n",
    "save_models = True\n",
    "csv_path = \"/home/rio/ssh_csvs/ssh1/periodic_100_6561.csv\"\n",
    "model_name = \"DecisionTreeClassifier\"\n",
    "simulation_dir = (\n",
    "    \"/home/rio/ssh_simulations/ssh1/periodic_100_6561/dct_all_wavevector_sites\"\n",
    ")\n",
    "random_state = 1015\n",
    "fourier_features_to_use = None\n",
    "fourier_mode = \"dct\"\n",
    "fourier_real = None\n",
    "fourier_normalize = False\n",
    "fourier_fillna = False\n"
   ]
  },
  {
   "cell_type": "code",
   "execution_count": 4,
   "metadata": {
    "execution": {
     "iopub.execute_input": "2020-07-18T05:12:12.199132Z",
     "iopub.status.busy": "2020-07-18T05:12:12.198772Z",
     "iopub.status.idle": "2020-07-18T05:12:18.225089Z",
     "shell.execute_reply": "2020-07-18T05:12:18.224816Z"
    },
    "papermill": {
     "duration": 6.052277,
     "end_time": "2020-07-18T05:12:18.225143",
     "exception": false,
     "start_time": "2020-07-18T05:12:12.172866",
     "status": "completed"
    },
    "tags": []
   },
   "outputs": [
    {
     "name": "stdout",
     "output_type": "stream",
     "text": [
      "Info on all data: \n",
      "\n",
      "<class 'pandas.core.frame.DataFrame'>\n",
      "Int64Index: 656100 entries, 0 to 656099\n",
      "Columns: 108 entries, id to feat99\n",
      "dtypes: float64(103), int32(3), object(2)\n",
      "memory usage: 538.1+ MB\n",
      "CPU times: user 6.19 s, sys: 642 ms, total: 6.83 s\n",
      "Wall time: 6 s\n"
     ]
    },
    {
     "data": {
      "text/html": [
       "<div>\n",
       "<style scoped>\n",
       "    .dataframe tbody tr th:only-of-type {\n",
       "        vertical-align: middle;\n",
       "    }\n",
       "\n",
       "    .dataframe tbody tr th {\n",
       "        vertical-align: top;\n",
       "    }\n",
       "\n",
       "    .dataframe thead th {\n",
       "        text-align: right;\n",
       "    }\n",
       "</style>\n",
       "<table border=\"1\" class=\"dataframe\">\n",
       "  <thead>\n",
       "    <tr style=\"text-align: right;\">\n",
       "      <th></th>\n",
       "      <th>id</th>\n",
       "      <th>path</th>\n",
       "      <th>t1</th>\n",
       "      <th>t2</th>\n",
       "      <th>winding</th>\n",
       "      <th>phase</th>\n",
       "      <th>pred_phase</th>\n",
       "      <th>type_of</th>\n",
       "      <th>feat0</th>\n",
       "      <th>feat1</th>\n",
       "      <th>...</th>\n",
       "      <th>feat90</th>\n",
       "      <th>feat91</th>\n",
       "      <th>feat92</th>\n",
       "      <th>feat93</th>\n",
       "      <th>feat94</th>\n",
       "      <th>feat95</th>\n",
       "      <th>feat96</th>\n",
       "      <th>feat97</th>\n",
       "      <th>feat98</th>\n",
       "      <th>feat99</th>\n",
       "    </tr>\n",
       "  </thead>\n",
       "  <tbody>\n",
       "    <tr>\n",
       "      <th>0</th>\n",
       "      <td>0</td>\n",
       "      <td>H_-2_-2_0.509296.dat</td>\n",
       "      <td>-2.0</td>\n",
       "      <td>-2.0</td>\n",
       "      <td>0.509296</td>\n",
       "      <td>999</td>\n",
       "      <td>666</td>\n",
       "      <td>test</td>\n",
       "      <td>0.100000</td>\n",
       "      <td>0.100000</td>\n",
       "      <td>...</td>\n",
       "      <td>0.100000</td>\n",
       "      <td>0.100000</td>\n",
       "      <td>0.100000</td>\n",
       "      <td>0.100000</td>\n",
       "      <td>0.100000</td>\n",
       "      <td>0.100000</td>\n",
       "      <td>0.100000</td>\n",
       "      <td>0.100000</td>\n",
       "      <td>0.100000</td>\n",
       "      <td>0.100000</td>\n",
       "    </tr>\n",
       "    <tr>\n",
       "      <th>1</th>\n",
       "      <td>0</td>\n",
       "      <td>H_-2_-2_0.509296.dat</td>\n",
       "      <td>-2.0</td>\n",
       "      <td>-2.0</td>\n",
       "      <td>0.509296</td>\n",
       "      <td>999</td>\n",
       "      <td>666</td>\n",
       "      <td>test</td>\n",
       "      <td>0.141421</td>\n",
       "      <td>0.141142</td>\n",
       "      <td>...</td>\n",
       "      <td>0.114412</td>\n",
       "      <td>0.108967</td>\n",
       "      <td>0.123928</td>\n",
       "      <td>0.119406</td>\n",
       "      <td>0.131490</td>\n",
       "      <td>0.127962</td>\n",
       "      <td>0.136978</td>\n",
       "      <td>0.134500</td>\n",
       "      <td>0.140306</td>\n",
       "      <td>0.138916</td>\n",
       "    </tr>\n",
       "    <tr>\n",
       "      <th>2</th>\n",
       "      <td>0</td>\n",
       "      <td>H_-2_-2_0.509296.dat</td>\n",
       "      <td>-2.0</td>\n",
       "      <td>-2.0</td>\n",
       "      <td>0.509296</td>\n",
       "      <td>999</td>\n",
       "      <td>666</td>\n",
       "      <td>test</td>\n",
       "      <td>0.141421</td>\n",
       "      <td>0.140306</td>\n",
       "      <td>...</td>\n",
       "      <td>0.043702</td>\n",
       "      <td>0.026500</td>\n",
       "      <td>0.075777</td>\n",
       "      <td>0.060214</td>\n",
       "      <td>0.103092</td>\n",
       "      <td>0.090145</td>\n",
       "      <td>0.123928</td>\n",
       "      <td>0.114412</td>\n",
       "      <td>0.136978</td>\n",
       "      <td>0.131490</td>\n",
       "    </tr>\n",
       "    <tr>\n",
       "      <th>3</th>\n",
       "      <td>0</td>\n",
       "      <td>H_-2_-2_0.509296.dat</td>\n",
       "      <td>-2.0</td>\n",
       "      <td>-2.0</td>\n",
       "      <td>0.509296</td>\n",
       "      <td>999</td>\n",
       "      <td>666</td>\n",
       "      <td>test</td>\n",
       "      <td>-0.100000</td>\n",
       "      <td>0.100000</td>\n",
       "      <td>...</td>\n",
       "      <td>-0.100000</td>\n",
       "      <td>0.100000</td>\n",
       "      <td>-0.100000</td>\n",
       "      <td>0.100000</td>\n",
       "      <td>-0.100000</td>\n",
       "      <td>0.100000</td>\n",
       "      <td>-0.100000</td>\n",
       "      <td>0.100000</td>\n",
       "      <td>-0.100000</td>\n",
       "      <td>0.100000</td>\n",
       "    </tr>\n",
       "    <tr>\n",
       "      <th>4</th>\n",
       "      <td>0</td>\n",
       "      <td>H_-2_-2_0.509296.dat</td>\n",
       "      <td>-2.0</td>\n",
       "      <td>-2.0</td>\n",
       "      <td>0.509296</td>\n",
       "      <td>999</td>\n",
       "      <td>666</td>\n",
       "      <td>test</td>\n",
       "      <td>0.000509</td>\n",
       "      <td>-0.008372</td>\n",
       "      <td>...</td>\n",
       "      <td>-0.082713</td>\n",
       "      <td>-0.089753</td>\n",
       "      <td>-0.067684</td>\n",
       "      <td>-0.075347</td>\n",
       "      <td>-0.051587</td>\n",
       "      <td>-0.059753</td>\n",
       "      <td>-0.034677</td>\n",
       "      <td>-0.043217</td>\n",
       "      <td>-0.017220</td>\n",
       "      <td>-0.026000</td>\n",
       "    </tr>\n",
       "  </tbody>\n",
       "</table>\n",
       "<p>5 rows × 108 columns</p>\n",
       "</div>"
      ],
      "text/plain": [
       "   id                  path   t1   t2   winding  phase  pred_phase type_of  \\\n",
       "0   0  H_-2_-2_0.509296.dat -2.0 -2.0  0.509296    999         666    test   \n",
       "1   0  H_-2_-2_0.509296.dat -2.0 -2.0  0.509296    999         666    test   \n",
       "2   0  H_-2_-2_0.509296.dat -2.0 -2.0  0.509296    999         666    test   \n",
       "3   0  H_-2_-2_0.509296.dat -2.0 -2.0  0.509296    999         666    test   \n",
       "4   0  H_-2_-2_0.509296.dat -2.0 -2.0  0.509296    999         666    test   \n",
       "\n",
       "      feat0     feat1  ...    feat90    feat91    feat92    feat93    feat94  \\\n",
       "0  0.100000  0.100000  ...  0.100000  0.100000  0.100000  0.100000  0.100000   \n",
       "1  0.141421  0.141142  ...  0.114412  0.108967  0.123928  0.119406  0.131490   \n",
       "2  0.141421  0.140306  ...  0.043702  0.026500  0.075777  0.060214  0.103092   \n",
       "3 -0.100000  0.100000  ... -0.100000  0.100000 -0.100000  0.100000 -0.100000   \n",
       "4  0.000509 -0.008372  ... -0.082713 -0.089753 -0.067684 -0.075347 -0.051587   \n",
       "\n",
       "     feat95    feat96    feat97    feat98    feat99  \n",
       "0  0.100000  0.100000  0.100000  0.100000  0.100000  \n",
       "1  0.127962  0.136978  0.134500  0.140306  0.138916  \n",
       "2  0.090145  0.123928  0.114412  0.136978  0.131490  \n",
       "3  0.100000 -0.100000  0.100000 -0.100000  0.100000  \n",
       "4 -0.059753 -0.034677 -0.043217 -0.017220 -0.026000  \n",
       "\n",
       "[5 rows x 108 columns]"
      ]
     },
     "execution_count": 4,
     "metadata": {},
     "output_type": "execute_result"
    }
   ],
   "source": [
    "%%time\n",
    "#Starting an instance of Simulation with a decision tree\n",
    "model = DecisionTreeClassifier(criterion=\"entropy\")\n",
    "#dict_args = {\"csv_path\":csv_path, \"model\":model, \"allowed_windings\":allowed_windings,\\\n",
    "#             \"simulation_dir\":simulation_dir, \"val_split\":val_split, \"features_to_use\":features_to_use,\\\n",
    "#            \"shuffle_features\":shuffle_features, \"random_state\":random_state}\n",
    "simulation = Simulation(csv_path,model_name,model_kw,allowed_windings,simulation_dir,val_split,features_to_use,\\\n",
    "                       shuffle_features,fourier_mode,fourier_features_to_use,fourier_real,\\\n",
    "                       fourier_normalize, fourier_fillna , random_state)\n",
    "#simulation = Simulation(**dict_args)\n",
    "\n",
    "\n",
    "#(self, csv_path, model_name, model_kw, allowed_windings, simulation_dir = None, val_split = 0, \n",
    "# features_to_use = None, shuffle_features = False, fourier_mode=None, fourier_features_to_use=None,\n",
    "# fourier_real = False, fourier_normalize = False, Fourier_fillna=False, random_state = None):\n",
    "\n",
    "\n",
    "\n",
    "print(\"Info on all data: \\n\")\n",
    "simulation.dataframe.info()\n",
    "simulation.dataframe.head()"
   ]
  },
  {
   "cell_type": "markdown",
   "metadata": {
    "papermill": {
     "duration": 0.0172,
     "end_time": "2020-07-18T05:12:18.260059",
     "exception": false,
     "start_time": "2020-07-18T05:12:18.242859",
     "status": "completed"
    },
    "tags": []
   },
   "source": [
    "####  Fourier features"
   ]
  },
  {
   "cell_type": "code",
   "execution_count": 5,
   "metadata": {
    "execution": {
     "iopub.execute_input": "2020-07-18T05:12:18.295491Z",
     "iopub.status.busy": "2020-07-18T05:12:18.295185Z",
     "iopub.status.idle": "2020-07-18T05:12:18.492027Z",
     "shell.execute_reply": "2020-07-18T05:12:18.491708Z"
    },
    "papermill": {
     "duration": 0.215238,
     "end_time": "2020-07-18T05:12:18.492080",
     "exception": false,
     "start_time": "2020-07-18T05:12:18.276842",
     "status": "completed"
    },
    "tags": []
   },
   "outputs": [
    {
     "name": "stdout",
     "output_type": "stream",
     "text": [
      "<class 'pandas.core.frame.DataFrame'>\n",
      "Int64Index: 656100 entries, 0 to 656099\n",
      "Data columns (total 59 columns):\n",
      " #   Column      Non-Null Count   Dtype  \n",
      "---  ------      --------------   -----  \n",
      " 0   id          656100 non-null  int32  \n",
      " 1   path        656100 non-null  object \n",
      " 2   t1          656100 non-null  float64\n",
      " 3   t2          656100 non-null  float64\n",
      " 4   winding     656100 non-null  float64\n",
      " 5   phase       656100 non-null  int32  \n",
      " 6   pred_phase  656100 non-null  int32  \n",
      " 7   type_of     656100 non-null  object \n",
      " 8   dct_feat0   656100 non-null  float64\n",
      " 9   dct_feat1   656100 non-null  float64\n",
      " 10  dct_feat2   656100 non-null  float64\n",
      " 11  dct_feat3   656100 non-null  float64\n",
      " 12  dct_feat4   656100 non-null  float64\n",
      " 13  dct_feat5   656100 non-null  float64\n",
      " 14  dct_feat6   656100 non-null  float64\n",
      " 15  dct_feat7   656100 non-null  float64\n",
      " 16  dct_feat8   656100 non-null  float64\n",
      " 17  dct_feat9   656100 non-null  float64\n",
      " 18  dct_feat10  656100 non-null  float64\n",
      " 19  dct_feat11  656100 non-null  float64\n",
      " 20  dct_feat12  656100 non-null  float64\n",
      " 21  dct_feat13  656100 non-null  float64\n",
      " 22  dct_feat14  656100 non-null  float64\n",
      " 23  dct_feat15  656100 non-null  float64\n",
      " 24  dct_feat16  656100 non-null  float64\n",
      " 25  dct_feat17  656100 non-null  float64\n",
      " 26  dct_feat18  656100 non-null  float64\n",
      " 27  dct_feat19  656100 non-null  float64\n",
      " 28  dct_feat20  656100 non-null  float64\n",
      " 29  dct_feat21  656100 non-null  float64\n",
      " 30  dct_feat22  656100 non-null  float64\n",
      " 31  dct_feat23  656100 non-null  float64\n",
      " 32  dct_feat24  656100 non-null  float64\n",
      " 33  dct_feat25  656100 non-null  float64\n",
      " 34  dct_feat26  656100 non-null  float64\n",
      " 35  dct_feat27  656100 non-null  float64\n",
      " 36  dct_feat28  656100 non-null  float64\n",
      " 37  dct_feat29  656100 non-null  float64\n",
      " 38  dct_feat30  656100 non-null  float64\n",
      " 39  dct_feat31  656100 non-null  float64\n",
      " 40  dct_feat32  656100 non-null  float64\n",
      " 41  dct_feat33  656100 non-null  float64\n",
      " 42  dct_feat34  656100 non-null  float64\n",
      " 43  dct_feat35  656100 non-null  float64\n",
      " 44  dct_feat36  656100 non-null  float64\n",
      " 45  dct_feat37  656100 non-null  float64\n",
      " 46  dct_feat38  656100 non-null  float64\n",
      " 47  dct_feat39  656100 non-null  float64\n",
      " 48  dct_feat40  656100 non-null  float64\n",
      " 49  dct_feat41  656100 non-null  float64\n",
      " 50  dct_feat42  656100 non-null  float64\n",
      " 51  dct_feat43  656100 non-null  float64\n",
      " 52  dct_feat44  656100 non-null  float64\n",
      " 53  dct_feat45  656100 non-null  float64\n",
      " 54  dct_feat46  656100 non-null  float64\n",
      " 55  dct_feat47  656100 non-null  float64\n",
      " 56  dct_feat48  656100 non-null  float64\n",
      " 57  dct_feat49  656100 non-null  float64\n",
      " 58  dct_feat50  656100 non-null  float64\n",
      "dtypes: float64(54), int32(3), object(2)\n",
      "memory usage: 292.8+ MB\n",
      "CPU times: user 167 ms, sys: 19.9 ms, total: 187 ms\n",
      "Wall time: 186 ms\n"
     ]
    }
   ],
   "source": [
    "%%time\n",
    "#simulation.generate_fourier_df()\n",
    "if simulation.fourier_mode is not None:\n",
    "    simulation.fourier_dataframe.info() \n",
    "    simulation.fourier_dataframe.sample(15)\n"
   ]
  },
  {
   "cell_type": "code",
   "execution_count": 6,
   "metadata": {
    "execution": {
     "iopub.execute_input": "2020-07-18T05:12:18.530187Z",
     "iopub.status.busy": "2020-07-18T05:12:18.529872Z",
     "iopub.status.idle": "2020-07-18T05:12:18.541701Z",
     "shell.execute_reply": "2020-07-18T05:12:18.541385Z"
    },
    "papermill": {
     "duration": 0.031952,
     "end_time": "2020-07-18T05:12:18.541753",
     "exception": false,
     "start_time": "2020-07-18T05:12:18.509801",
     "status": "completed"
    },
    "tags": []
   },
   "outputs": [
    {
     "name": "stdout",
     "output_type": "stream",
     "text": [
      "features_to_use: \n",
      "\n",
      "\n",
      "None\n",
      "\n",
      "\n",
      "fourier_features: \n",
      "\n",
      "\n",
      "['dct_feat0', 'dct_feat1', 'dct_feat2', 'dct_feat3', 'dct_feat4', 'dct_feat5', 'dct_feat6', 'dct_feat7', 'dct_feat8', 'dct_feat9', 'dct_feat10', 'dct_feat11', 'dct_feat12', 'dct_feat13', 'dct_feat14', 'dct_feat15', 'dct_feat16', 'dct_feat17', 'dct_feat18', 'dct_feat19', 'dct_feat20', 'dct_feat21', 'dct_feat22', 'dct_feat23', 'dct_feat24', 'dct_feat25', 'dct_feat26', 'dct_feat27', 'dct_feat28', 'dct_feat29', 'dct_feat30', 'dct_feat31', 'dct_feat32', 'dct_feat33', 'dct_feat34', 'dct_feat35', 'dct_feat36', 'dct_feat37', 'dct_feat38', 'dct_feat39', 'dct_feat40', 'dct_feat41', 'dct_feat42', 'dct_feat43', 'dct_feat44', 'dct_feat45', 'dct_feat46', 'dct_feat47', 'dct_feat48', 'dct_feat49', 'dct_feat50']\n",
      "\n",
      "\n",
      "Number of Fourier features: \n",
      "\n",
      "\n",
      "51\n",
      "\n",
      "\n",
      "Fourier operator: \n",
      "[[ 1.          2.          2.         ...  2.          2.\n",
      "   1.        ]\n",
      " [ 1.          1.99605346  1.9842294  ... -1.9842294  -1.99605346\n",
      "  -1.        ]\n",
      " [ 1.          1.9842294   1.93716632 ...  1.93716632  1.9842294\n",
      "   1.        ]\n",
      " ...\n",
      " [ 1.         -1.9842294   1.93716632 ...  1.93716632 -1.9842294\n",
      "   1.        ]\n",
      " [ 1.         -1.99605346  1.9842294  ... -1.9842294   1.99605346\n",
      "  -1.        ]\n",
      " [ 1.         -2.          2.         ...  2.         -2.\n",
      "   1.        ]]\n",
      "\n",
      "\n",
      "Shape of Fourier operator: \n",
      "(51, 51)\n"
     ]
    }
   ],
   "source": [
    "print(\"features_to_use: \")\n",
    "print(\"\\n\")\n",
    "print(simulation.features_to_use)\n",
    "if simulation.features_to_use is not None:\n",
    "    print(\"Number of real space features:\")\n",
    "    print(\"\\n\")\n",
    "    print(len(simulation.features_to_use))\n",
    "print(\"\\n\")\n",
    "print(\"fourier_features: \")\n",
    "print(\"\\n\")\n",
    "print(simulation.fourier_features)\n",
    "print(\"\\n\")\n",
    "if simulation.fourier_features is not None:\n",
    "    print(\"Number of Fourier features: \")\n",
    "    print(\"\\n\")\n",
    "    print(len(simulation.fourier_features))\n",
    "print(\"\\n\")\n",
    "print(\"Fourier operator: \")\n",
    "print(simulation.fourier_operator)\n",
    "print(\"\\n\")\n",
    "if simulation.fourier_operator is not None:\n",
    "    print(\"Shape of Fourier operator: \")\n",
    "    print(simulation.fourier_operator.shape)"
   ]
  },
  {
   "cell_type": "code",
   "execution_count": 7,
   "metadata": {
    "execution": {
     "iopub.execute_input": "2020-07-18T05:12:18.577700Z",
     "iopub.status.busy": "2020-07-18T05:12:18.577397Z",
     "iopub.status.idle": "2020-07-18T05:12:18.632012Z",
     "shell.execute_reply": "2020-07-18T05:12:18.632396Z"
    },
    "papermill": {
     "duration": 0.073509,
     "end_time": "2020-07-18T05:12:18.632487",
     "exception": false,
     "start_time": "2020-07-18T05:12:18.558978",
     "status": "completed"
    },
    "tags": []
   },
   "outputs": [],
   "source": [
    "#a = np.array([1+1j,2+3j,4+8j])\n",
    "#np.imag(a)"
   ]
  },
  {
   "cell_type": "code",
   "execution_count": 8,
   "metadata": {
    "execution": {
     "iopub.execute_input": "2020-07-18T05:12:18.689955Z",
     "iopub.status.busy": "2020-07-18T05:12:18.689635Z",
     "iopub.status.idle": "2020-07-18T05:12:18.738624Z",
     "shell.execute_reply": "2020-07-18T05:12:18.740499Z"
    },
    "papermill": {
     "duration": 0.074995,
     "end_time": "2020-07-18T05:12:18.740878",
     "exception": false,
     "start_time": "2020-07-18T05:12:18.665883",
     "status": "completed"
    },
    "tags": []
   },
   "outputs": [],
   "source": [
    "#plt.plot(np.imag(simulation.fourier_operator[:,0]))"
   ]
  },
  {
   "cell_type": "code",
   "execution_count": 9,
   "metadata": {
    "execution": {
     "iopub.execute_input": "2020-07-18T05:12:18.794715Z",
     "iopub.status.busy": "2020-07-18T05:12:18.793553Z",
     "iopub.status.idle": "2020-07-18T05:12:18.824280Z",
     "shell.execute_reply": "2020-07-18T05:12:18.824882Z"
    },
    "papermill": {
     "duration": 0.064438,
     "end_time": "2020-07-18T05:12:18.825019",
     "exception": false,
     "start_time": "2020-07-18T05:12:18.760581",
     "status": "completed"
    },
    "tags": []
   },
   "outputs": [],
   "source": [
    "#np.sin(np.pi/(50))*2"
   ]
  },
  {
   "cell_type": "code",
   "execution_count": 10,
   "metadata": {
    "execution": {
     "iopub.execute_input": "2020-07-18T05:12:18.885057Z",
     "iopub.status.busy": "2020-07-18T05:12:18.884752Z",
     "iopub.status.idle": "2020-07-18T05:12:18.894030Z",
     "shell.execute_reply": "2020-07-18T05:12:18.894284Z"
    },
    "papermill": {
     "duration": 0.031892,
     "end_time": "2020-07-18T05:12:18.894353",
     "exception": false,
     "start_time": "2020-07-18T05:12:18.862461",
     "status": "completed"
    },
    "tags": []
   },
   "outputs": [],
   "source": [
    "#2*np.sin(np.pi/50*49)"
   ]
  },
  {
   "cell_type": "code",
   "execution_count": 11,
   "metadata": {
    "execution": {
     "iopub.execute_input": "2020-07-18T05:12:18.931686Z",
     "iopub.status.busy": "2020-07-18T05:12:18.931351Z",
     "iopub.status.idle": "2020-07-18T05:12:18.991096Z",
     "shell.execute_reply": "2020-07-18T05:12:18.990567Z"
    },
    "papermill": {
     "duration": 0.079354,
     "end_time": "2020-07-18T05:12:18.991173",
     "exception": false,
     "start_time": "2020-07-18T05:12:18.911819",
     "status": "completed"
    },
    "tags": []
   },
   "outputs": [],
   "source": [
    "#simulation.dataframe.iloc[331456,:]"
   ]
  },
  {
   "cell_type": "code",
   "execution_count": 12,
   "metadata": {
    "execution": {
     "iopub.execute_input": "2020-07-18T05:12:19.049421Z",
     "iopub.status.busy": "2020-07-18T05:12:19.049104Z",
     "iopub.status.idle": "2020-07-18T05:12:19.058793Z",
     "shell.execute_reply": "2020-07-18T05:12:19.058468Z"
    },
    "papermill": {
     "duration": 0.033732,
     "end_time": "2020-07-18T05:12:19.058845",
     "exception": false,
     "start_time": "2020-07-18T05:12:19.025113",
     "status": "completed"
    },
    "tags": []
   },
   "outputs": [],
   "source": [
    "#for ix, obj in enumerate(simulation.dataframe.iloc[331456,:].values):\n",
    "#    print(ix,obj)"
   ]
  },
  {
   "cell_type": "code",
   "execution_count": 13,
   "metadata": {
    "execution": {
     "iopub.execute_input": "2020-07-18T05:12:19.095572Z",
     "iopub.status.busy": "2020-07-18T05:12:19.095264Z",
     "iopub.status.idle": "2020-07-18T05:12:19.167215Z",
     "shell.execute_reply": "2020-07-18T05:12:19.166508Z"
    },
    "papermill": {
     "duration": 0.090957,
     "end_time": "2020-07-18T05:12:19.167321",
     "exception": false,
     "start_time": "2020-07-18T05:12:19.076364",
     "status": "completed"
    },
    "tags": []
   },
   "outputs": [],
   "source": [
    "#simulation.fourier_engineered_dataframe.dct_feat0"
   ]
  },
  {
   "cell_type": "code",
   "execution_count": 14,
   "metadata": {
    "execution": {
     "iopub.execute_input": "2020-07-18T05:12:19.238173Z",
     "iopub.status.busy": "2020-07-18T05:12:19.237844Z",
     "iopub.status.idle": "2020-07-18T05:12:19.247790Z",
     "shell.execute_reply": "2020-07-18T05:12:19.248051Z"
    },
    "papermill": {
     "duration": 0.034732,
     "end_time": "2020-07-18T05:12:19.248124",
     "exception": false,
     "start_time": "2020-07-18T05:12:19.213392",
     "status": "completed"
    },
    "tags": []
   },
   "outputs": [],
   "source": [
    "#simulation.features"
   ]
  },
  {
   "cell_type": "code",
   "execution_count": 15,
   "metadata": {
    "execution": {
     "iopub.execute_input": "2020-07-18T05:12:19.285060Z",
     "iopub.status.busy": "2020-07-18T05:12:19.284753Z",
     "iopub.status.idle": "2020-07-18T05:12:19.359218Z",
     "shell.execute_reply": "2020-07-18T05:12:19.358401Z"
    },
    "papermill": {
     "duration": 0.093637,
     "end_time": "2020-07-18T05:12:19.359339",
     "exception": false,
     "start_time": "2020-07-18T05:12:19.265702",
     "status": "completed"
    },
    "tags": []
   },
   "outputs": [],
   "source": [
    "#simulation.fourier_matrix"
   ]
  },
  {
   "cell_type": "code",
   "execution_count": 16,
   "metadata": {
    "execution": {
     "iopub.execute_input": "2020-07-18T05:12:19.431818Z",
     "iopub.status.busy": "2020-07-18T05:12:19.431511Z",
     "iopub.status.idle": "2020-07-18T05:12:19.440874Z",
     "shell.execute_reply": "2020-07-18T05:12:19.441176Z"
    },
    "papermill": {
     "duration": 0.034406,
     "end_time": "2020-07-18T05:12:19.441243",
     "exception": false,
     "start_time": "2020-07-18T05:12:19.406837",
     "status": "completed"
    },
    "tags": []
   },
   "outputs": [],
   "source": [
    "#1/simulation.n_features*simulation.dataframe.loc[:,simulation.features].sum(axis=1)"
   ]
  },
  {
   "cell_type": "code",
   "execution_count": 17,
   "metadata": {
    "execution": {
     "iopub.execute_input": "2020-07-18T05:12:19.482279Z",
     "iopub.status.busy": "2020-07-18T05:12:19.481968Z",
     "iopub.status.idle": "2020-07-18T05:12:19.530739Z",
     "shell.execute_reply": "2020-07-18T05:12:19.532695Z"
    },
    "papermill": {
     "duration": 0.072142,
     "end_time": "2020-07-18T05:12:19.533031",
     "exception": false,
     "start_time": "2020-07-18T05:12:19.460889",
     "status": "completed"
    },
    "tags": []
   },
   "outputs": [],
   "source": [
    "#df_2 = simulation.fourier_engineered_dataframe[simulation.fourier_engineered_dataframe.phase==2]\n",
    "#df_2.describe()"
   ]
  },
  {
   "cell_type": "code",
   "execution_count": 18,
   "metadata": {
    "execution": {
     "iopub.execute_input": "2020-07-18T05:12:19.598654Z",
     "iopub.status.busy": "2020-07-18T05:12:19.598322Z",
     "iopub.status.idle": "2020-07-18T05:12:19.607741Z",
     "shell.execute_reply": "2020-07-18T05:12:19.608055Z"
    },
    "papermill": {
     "duration": 0.031986,
     "end_time": "2020-07-18T05:12:19.608132",
     "exception": false,
     "start_time": "2020-07-18T05:12:19.576146",
     "status": "completed"
    },
    "tags": []
   },
   "outputs": [],
   "source": [
    "#df_1 = simulation.fourier_engineered_dataframe[simulation.fourier_engineered_dataframe.phase==1]\n",
    "#df_1.describe()"
   ]
  },
  {
   "cell_type": "code",
   "execution_count": 19,
   "metadata": {
    "execution": {
     "iopub.execute_input": "2020-07-18T05:12:19.648230Z",
     "iopub.status.busy": "2020-07-18T05:12:19.647904Z",
     "iopub.status.idle": "2020-07-18T05:12:19.705174Z",
     "shell.execute_reply": "2020-07-18T05:12:19.706588Z"
    },
    "papermill": {
     "duration": 0.079756,
     "end_time": "2020-07-18T05:12:19.706931",
     "exception": false,
     "start_time": "2020-07-18T05:12:19.627175",
     "status": "completed"
    },
    "tags": []
   },
   "outputs": [],
   "source": [
    "#df_0 = simulation.fourier_engineered_dataframe[simulation.fourier_engineered_dataframe.phase==0]\n",
    "#df_0.describe()"
   ]
  },
  {
   "cell_type": "code",
   "execution_count": 20,
   "metadata": {
    "execution": {
     "iopub.execute_input": "2020-07-18T05:12:19.779722Z",
     "iopub.status.busy": "2020-07-18T05:12:19.779413Z",
     "iopub.status.idle": "2020-07-18T05:12:19.788628Z",
     "shell.execute_reply": "2020-07-18T05:12:19.788932Z"
    },
    "papermill": {
     "duration": 0.03075,
     "end_time": "2020-07-18T05:12:19.788997",
     "exception": false,
     "start_time": "2020-07-18T05:12:19.758247",
     "status": "completed"
    },
    "tags": []
   },
   "outputs": [],
   "source": [
    "#plt.figure(figsize=(10,10))\n",
    "#plt.scatter(df_1.fourier_feat0,df_1.fourier_feat2)\n",
    "#plt.scatter(df_0.fourier_feat0,df_0.fourier_feat2,alpha=0.4)"
   ]
  },
  {
   "cell_type": "code",
   "execution_count": 21,
   "metadata": {
    "execution": {
     "iopub.execute_input": "2020-07-18T05:12:19.826206Z",
     "iopub.status.busy": "2020-07-18T05:12:19.825901Z",
     "iopub.status.idle": "2020-07-18T05:12:19.878772Z",
     "shell.execute_reply": "2020-07-18T05:12:19.879237Z"
    },
    "papermill": {
     "duration": 0.072763,
     "end_time": "2020-07-18T05:12:19.879331",
     "exception": false,
     "start_time": "2020-07-18T05:12:19.806568",
     "status": "completed"
    },
    "tags": []
   },
   "outputs": [],
   "source": [
    "#plt.scatter(df_0.fourier_feat0,df_0.fourier_feat2,alpha=0.4)"
   ]
  },
  {
   "cell_type": "code",
   "execution_count": 22,
   "metadata": {
    "execution": {
     "iopub.execute_input": "2020-07-18T05:12:19.932184Z",
     "iopub.status.busy": "2020-07-18T05:12:19.931870Z",
     "iopub.status.idle": "2020-07-18T05:12:19.973848Z",
     "shell.execute_reply": "2020-07-18T05:12:19.973432Z"
    },
    "papermill": {
     "duration": 0.06472,
     "end_time": "2020-07-18T05:12:19.973914",
     "exception": false,
     "start_time": "2020-07-18T05:12:19.909194",
     "status": "completed"
    },
    "tags": []
   },
   "outputs": [],
   "source": [
    "#plt.scatter(df_2.fourier_feat0,df_2.fourier_feat2)"
   ]
  },
  {
   "cell_type": "code",
   "execution_count": 23,
   "metadata": {
    "execution": {
     "iopub.execute_input": "2020-07-18T05:12:20.017312Z",
     "iopub.status.busy": "2020-07-18T05:12:20.016801Z",
     "iopub.status.idle": "2020-07-18T05:12:20.036897Z",
     "shell.execute_reply": "2020-07-18T05:12:20.037208Z"
    },
    "papermill": {
     "duration": 0.043092,
     "end_time": "2020-07-18T05:12:20.037277",
     "exception": false,
     "start_time": "2020-07-18T05:12:19.994185",
     "status": "completed"
    },
    "tags": []
   },
   "outputs": [],
   "source": [
    "#df_1.hist(figsize=(15,15))"
   ]
  },
  {
   "cell_type": "code",
   "execution_count": 24,
   "metadata": {
    "execution": {
     "iopub.execute_input": "2020-07-18T05:12:20.079344Z",
     "iopub.status.busy": "2020-07-18T05:12:20.078692Z",
     "iopub.status.idle": "2020-07-18T05:12:20.142463Z",
     "shell.execute_reply": "2020-07-18T05:12:20.140357Z"
    },
    "papermill": {
     "duration": 0.085892,
     "end_time": "2020-07-18T05:12:20.142726",
     "exception": false,
     "start_time": "2020-07-18T05:12:20.056834",
     "status": "completed"
    },
    "tags": []
   },
   "outputs": [],
   "source": [
    "#df_0.hist(figsize=(15,15))"
   ]
  },
  {
   "cell_type": "markdown",
   "metadata": {
    "papermill": {
     "duration": 0.117802,
     "end_time": "2020-07-18T05:12:20.298261",
     "exception": false,
     "start_time": "2020-07-18T05:12:20.180459",
     "status": "completed"
    },
    "tags": []
   },
   "source": [
    "#### Checking initialization"
   ]
  },
  {
   "cell_type": "code",
   "execution_count": 25,
   "metadata": {
    "execution": {
     "iopub.execute_input": "2020-07-18T05:12:20.375888Z",
     "iopub.status.busy": "2020-07-18T05:12:20.375232Z",
     "iopub.status.idle": "2020-07-18T05:12:20.385932Z",
     "shell.execute_reply": "2020-07-18T05:12:20.386235Z"
    },
    "papermill": {
     "duration": 0.033677,
     "end_time": "2020-07-18T05:12:20.386300",
     "exception": false,
     "start_time": "2020-07-18T05:12:20.352623",
     "status": "completed"
    },
    "tags": []
   },
   "outputs": [
    {
     "name": "stdout",
     "output_type": "stream",
     "text": [
      "n_features:  100\n",
      "n_hamiltonians:  6561\n",
      "n_ts:  2\n",
      "CPU times: user 505 µs, sys: 70 µs, total: 575 µs\n",
      "Wall time: 394 µs\n"
     ]
    }
   ],
   "source": [
    "%%time\n",
    "n_features = simulation.n_features\n",
    "n_hamiltonians = simulation.n_hamiltonians\n",
    "n_ts = simulation.n_ts\n",
    "\n",
    "print(\"n_features: \", n_features)\n",
    "print(\"n_hamiltonians: \", n_hamiltonians)\n",
    "print(\"n_ts: \", n_ts)"
   ]
  },
  {
   "cell_type": "code",
   "execution_count": 26,
   "metadata": {
    "execution": {
     "iopub.execute_input": "2020-07-18T05:12:20.424760Z",
     "iopub.status.busy": "2020-07-18T05:12:20.424440Z",
     "iopub.status.idle": "2020-07-18T05:12:20.612916Z",
     "shell.execute_reply": "2020-07-18T05:12:20.612594Z"
    },
    "papermill": {
     "duration": 0.208551,
     "end_time": "2020-07-18T05:12:20.612968",
     "exception": false,
     "start_time": "2020-07-18T05:12:20.404417",
     "status": "completed"
    },
    "tags": []
   },
   "outputs": [
    {
     "name": "stdout",
     "output_type": "stream",
     "text": [
      "% train:  0.846822130772748\n",
      "% val:  0.0\n",
      "% test:  0.15317786922725193\n",
      "% train + val + test:  1.0\n",
      "\n",
      "\n",
      "number of train hamiltonians:  5556\n",
      "number of val hamiltonians:  0\n",
      "number of test hamiltonians:  1005\n",
      "total number of hamiltonians:  6561\n",
      "\n",
      "\n",
      "train ids:  [9, 10, 11, 12, 13, 14, 15, 16, 17, 18, 19, 20, 21, 22, 23, 24, 25, 26, 27, 28, 29, 30, 31, 32, 33, 34, 35, 36, 37, 38, 39, 40, 41, 42, 43, 44, 45, 46, 47, 48, 49, 50, 51, 52, 53, 54, 55, 56, 57, 58, 59, 60, 61, 62, 63, 64, 65, 66, 67, 68, 69, 70, 71, 72, 73, 74, 75, 76, 77, 91, 92, 93, 94, 95, 96, 97, 98, 99, 100, 101, 102, 103, 104, 105, 106, 107, 108, 109, 110, 111, 112, 113, 114, 115, 116, 117, 118, 119, 120, 121, 122, 123, 124, 125, 126, 127, 128, 129, 130, 131, 132, 133, 134, 135, 136, 137, 138, 139, 140, 141, 142, 143, 144, 145, 146, 147, 148, 149, 150, 151, 152, 153, 154, 155, 156, 157, 172, 173, 174, 175, 176, 177, 178, 179, 180, 181, 182, 183, 184, 185, 186, 187, 188, 189, 190, 191, 192, 193, 194, 195, 196, 197, 198, 199, 200, 201, 202, 203, 204, 205, 206, 207, 208, 209, 210, 211, 212, 213, 214, 215, 216, 217, 218, 219, 220, 221, 222, 223, 224, 225, 226, 227, 228, 229, 230, 231, 232, 233, 234, 235, 236, 237, 254, 255, 256, 257, 258, 259, 260, 261, 262, 263, 264, 265, 266, 267, 268, 269, 270, 271, 272, 273, 274, 275, 276, 277, 278, 279, 280, 281, 282, 283, 284, 285, 286, 287, 288, 289, 290, 291, 292, 293, 294, 295, 296, 297, 298, 299, 300, 301, 302, 303, 304, 305, 306, 307, 308, 309, 310, 311, 312, 313, 314, 315, 316, 317, 323, 336, 337, 338, 339, 340, 341, 342, 343, 344, 345, 346, 347, 348, 349, 350, 351, 352, 353, 354, 355, 356, 357, 358, 359, 360, 361, 362, 363, 364, 365, 366, 367, 368, 369, 370, 371, 372, 373, 374, 375, 376, 377, 378, 379, 380, 381, 382, 383, 384, 385, 386, 387, 388, 389, 390, 391, 392, 393, 394, 395, 396, 397, 403, 404, 418, 419, 420, 421, 422, 423, 424, 425, 426, 427, 428, 429, 430, 431, 432, 433, 434, 435, 436, 437, 438, 439, 440, 441, 442, 443, 444, 445, 446, 447, 448, 449, 450, 451, 452, 453, 454, 455, 456, 457, 458, 459, 460, 461, 462, 463, 464, 465, 466, 467, 468, 469, 470, 471, 472, 473, 474, 475, 476, 477, 483, 484, 485, 500, 501, 502, 503, 504, 505, 506, 507, 508, 509, 510, 511, 512, 513, 514, 515, 516, 517, 518, 519, 520, 521, 522, 523, 524, 525, 526, 527, 528, 529, 530, 531, 532, 533, 534, 535, 536, 537, 538, 539, 540, 541, 542, 543, 544, 545, 546, 547, 548, 549, 550, 551, 552, 553, 554, 555, 556, 557, 563, 564, 565, 566, 581, 582, 583, 584, 585, 586, 587, 588, 589, 590, 591, 592, 593, 594, 595, 596, 597, 598, 599, 600, 601, 602, 603, 604, 605, 606, 607, 608, 609, 610, 611, 612, 613, 614, 615, 616, 617, 618, 619, 620, 621, 622, 623, 624, 625, 626, 627, 628, 629, 630, 631, 632, 633, 634, 635, 636, 637, 643, 644, 645, 646, 647, 663, 664, 665, 666, 667, 668, 669, 670, 671, 672, 673, 674, 675, 676, 677, 678, 679, 680, 681, 682, 683, 684, 685, 686, 687, 688, 689, 690, 691, 692, 693, 694, 695, 696, 697, 698, 699, 700, 701, 702, 703, 704, 705, 706, 707, 708, 709, 710, 711, 712, 713, 714, 715, 716, 717, 723, 724, 725, 726, 727, 728, 745, 746, 747, 748, 749, 750, 751, 752, 753, 754, 755, 756, 757, 758, 759, 760, 761, 762, 763, 764, 765, 766, 767, 768, 769, 770, 771, 772, 773, 774, 775, 776, 777, 778, 779, 780, 781, 782, 783, 784, 785, 786, 787, 788, 789, 790, 791, 792, 793, 794, 795, 796, 797, 803, 804, 805, 806, 807, 808, 809, 827, 828, 829, 830, 831, 832, 833, 834, 835, 836, 837, 838, 839, 840, 841, 842, 843, 844, 845, 846, 847, 848, 849, 850, 851, 852, 853, 854, 855, 856, 857, 858, 859, 860, 861, 862, 863, 864, 865, 866, 867, 868, 869, 870, 871, 872, 873, 874, 875, 876, 877, 883, 884, 885, 886, 887, 888, 889, 890, 891, 909, 910, 911, 912, 913, 914, 915, 916, 917, 918, 919, 920, 921, 922, 923, 924, 925, 926, 927, 928, 929, 930, 931, 932, 933, 934, 935, 936, 937, 938, 939, 940, 941, 942, 943, 944, 945, 946, 947, 948, 949, 950, 951, 952, 953, 954, 955, 956, 957, 963, 964, 965, 966, 967, 968, 969, 970, 971, 972, 973, 990, 991, 992, 993, 994, 995, 996, 997, 998, 999, 1000, 1001, 1002, 1003, 1004, 1005, 1006, 1007, 1008, 1009, 1010, 1011, 1012, 1013, 1014, 1015, 1016, 1017, 1018, 1019, 1020, 1021, 1022, 1023, 1024, 1025, 1026, 1027, 1028, 1029, 1030, 1031, 1032, 1033, 1034, 1035, 1036, 1037, 1038, 1042, 1043, 1044, 1045, 1046, 1047, 1048, 1049, 1050, 1051, 1052, 1053, 1054, 1055, 1056, 1072, 1073, 1074, 1075, 1076, 1077, 1078, 1079, 1080, 1081, 1082, 1083, 1084, 1085, 1086, 1087, 1088, 1089, 1090, 1091, 1092, 1093, 1094, 1095, 1096, 1097, 1098, 1099, 1100, 1101, 1102, 1103, 1104, 1105, 1106, 1107, 1108, 1109, 1110, 1111, 1112, 1113, 1114, 1115, 1116, 1117, 1118, 1122, 1123, 1124, 1125, 1126, 1127, 1128, 1129, 1130, 1131, 1132, 1133, 1134, 1135, 1136, 1137, 1138, 1154, 1155, 1156, 1157, 1158, 1159, 1160, 1161, 1162, 1163, 1164, 1165, 1166, 1167, 1168, 1169, 1170, 1171, 1172, 1173, 1174, 1175, 1176, 1177, 1178, 1179, 1180, 1181, 1182, 1183, 1184, 1185, 1186, 1187, 1188, 1189, 1190, 1191, 1192, 1193, 1194, 1195, 1196, 1197, 1198, 1202, 1203, 1204, 1205, 1206, 1207, 1208, 1209, 1210, 1211, 1212, 1213, 1214, 1215, 1216, 1217, 1218, 1219, 1220, 1236, 1237, 1238, 1239, 1240, 1241, 1242, 1243, 1244, 1245, 1246, 1247, 1248, 1249, 1250, 1251, 1252, 1253, 1254, 1255, 1256, 1257, 1258, 1259, 1260, 1261, 1262, 1263, 1264, 1265, 1266, 1267, 1268, 1269, 1270, 1271, 1272, 1273, 1274, 1275, 1276, 1277, 1278, 1282, 1283, 1284, 1285, 1286, 1287, 1288, 1289, 1290, 1291, 1292, 1293, 1294, 1295, 1296, 1297, 1298, 1299, 1300, 1301, 1302, 1303, 1317, 1318, 1319, 1320, 1321, 1322, 1323, 1324, 1325, 1326, 1327, 1328, 1329, 1330, 1331, 1332, 1333, 1334, 1335, 1336, 1337, 1338, 1339, 1340, 1341, 1342, 1343, 1344, 1345, 1346, 1347, 1348, 1349, 1350, 1351, 1352, 1353, 1354, 1355, 1356, 1357, 1358, 1362, 1363, 1364, 1365, 1366, 1367, 1368, 1369, 1370, 1371, 1372, 1373, 1374, 1375, 1376, 1377, 1378, 1379, 1380, 1381, 1382, 1383, 1384, 1385, 1399, 1400, 1401, 1402, 1403, 1404, 1405, 1406, 1407, 1408, 1409, 1410, 1411, 1412, 1413, 1414, 1415, 1416, 1417, 1418, 1419, 1420, 1421, 1422, 1423, 1424, 1425, 1426, 1427, 1428, 1429, 1430, 1431, 1432, 1433, 1434, 1435, 1436, 1437, 1438, 1442, 1443, 1444, 1445, 1446, 1447, 1448, 1449, 1450, 1451, 1452, 1453, 1454, 1455, 1456, 1457, 1458, 1459, 1460, 1461, 1462, 1463, 1464, 1465, 1466, 1467, 1468, 1481, 1482, 1483, 1484, 1485, 1486, 1487, 1488, 1489, 1490, 1491, 1492, 1493, 1494, 1495, 1496, 1497, 1498, 1499, 1500, 1501, 1502, 1503, 1504, 1505, 1506, 1507, 1508, 1509, 1510, 1511, 1512, 1513, 1514, 1515, 1516, 1517, 1518, 1522, 1523, 1524, 1525, 1526, 1527, 1528, 1529, 1530, 1531, 1532, 1533, 1534, 1535, 1536, 1537, 1538, 1539, 1540, 1541, 1542, 1543, 1544, 1545, 1546, 1547, 1548, 1549, 1550, 1563, 1564, 1565, 1566, 1567, 1568, 1569, 1570, 1571, 1572, 1573, 1574, 1575, 1576, 1577, 1578, 1579, 1580, 1581, 1582, 1583, 1584, 1585, 1586, 1587, 1588, 1589, 1590, 1591, 1592, 1593, 1594, 1595, 1596, 1597, 1598, 1602, 1603, 1604, 1605, 1606, 1607, 1608, 1609, 1610, 1611, 1612, 1613, 1614, 1615, 1616, 1617, 1618, 1619, 1620, 1621, 1622, 1623, 1624, 1625, 1626, 1627, 1628, 1629, 1630, 1631, 1632, 1645, 1646, 1647, 1648, 1649, 1650, 1651, 1652, 1653, 1654, 1655, 1656, 1657, 1658, 1659, 1660, 1661, 1662, 1663, 1664, 1665, 1666, 1667, 1668, 1669, 1670, 1671, 1672, 1673, 1674, 1675, 1676, 1677, 1678, 1682, 1683, 1684, 1685, 1686, 1687, 1688, 1689, 1690, 1691, 1692, 1693, 1694, 1695, 1696, 1697, 1698, 1699, 1700, 1701, 1702, 1703, 1704, 1705, 1706, 1707, 1708, 1709, 1710, 1711, 1712, 1713, 1714, 1715, 1726, 1727, 1728, 1729, 1730, 1731, 1732, 1733, 1734, 1735, 1736, 1737, 1738, 1739, 1740, 1741, 1742, 1743, 1744, 1745, 1746, 1747, 1748, 1749, 1750, 1751, 1752, 1753, 1754, 1755, 1756, 1757, 1758, 1762, 1763, 1764, 1765, 1766, 1767, 1768, 1769, 1770, 1771, 1772, 1773, 1774, 1775, 1776, 1777, 1778, 1779, 1780, 1781, 1782, 1783, 1784, 1785, 1786, 1787, 1788, 1789, 1790, 1791, 1792, 1793, 1794, 1795, 1796, 1797, 1808, 1809, 1810, 1811, 1812, 1813, 1814, 1815, 1816, 1817, 1818, 1819, 1820, 1821, 1822, 1823, 1824, 1825, 1826, 1827, 1828, 1829, 1830, 1831, 1832, 1833, 1834, 1835, 1836, 1837, 1838, 1842, 1843, 1844, 1845, 1846, 1847, 1848, 1849, 1850, 1851, 1852, 1853, 1854, 1855, 1856, 1857, 1858, 1859, 1860, 1861, 1862, 1863, 1864, 1865, 1866, 1867, 1868, 1869, 1870, 1871, 1872, 1873, 1874, 1875, 1876, 1877, 1878, 1879, 1890, 1891, 1892, 1893, 1894, 1895, 1896, 1897, 1898, 1899, 1900, 1901, 1902, 1903, 1904, 1905, 1906, 1907, 1908, 1909, 1910, 1911, 1912, 1913, 1914, 1915, 1916, 1917, 1918, 1922, 1923, 1924, 1925, 1926, 1927, 1928, 1929, 1930, 1931, 1932, 1933, 1934, 1935, 1936, 1937, 1938, 1939, 1940, 1941, 1942, 1943, 1944, 1945, 1946, 1947, 1948, 1949, 1950, 1951, 1952, 1953, 1954, 1955, 1956, 1957, 1958, 1959, 1960, 1961, 1962, 1972, 1973, 1974, 1975, 1976, 1977, 1978, 1979, 1980, 1981, 1982, 1983, 1984, 1985, 1986, 1987, 1988, 1989, 1990, 1991, 1992, 1993, 1994, 1995, 1996, 1997, 1998, 2002, 2003, 2004, 2005, 2006, 2007, 2008, 2009, 2010, 2011, 2012, 2013, 2014, 2015, 2016, 2017, 2018, 2019, 2020, 2021, 2022, 2023, 2024, 2025, 2026, 2027, 2028, 2029, 2030, 2031, 2032, 2033, 2034, 2035, 2036, 2037, 2038, 2039, 2040, 2041, 2042, 2043, 2044, 2054, 2055, 2056, 2057, 2058, 2059, 2060, 2061, 2062, 2063, 2064, 2065, 2066, 2067, 2068, 2069, 2070, 2071, 2072, 2073, 2074, 2075, 2076, 2077, 2078, 2082, 2083, 2084, 2085, 2086, 2087, 2088, 2089, 2090, 2091, 2092, 2093, 2094, 2095, 2096, 2097, 2098, 2099, 2100, 2101, 2102, 2103, 2104, 2105, 2106, 2107, 2108, 2109, 2110, 2111, 2112, 2113, 2114, 2115, 2116, 2117, 2118, 2119, 2120, 2121, 2122, 2123, 2124, 2125, 2126, 2135, 2136, 2137, 2138, 2139, 2140, 2141, 2142, 2143, 2144, 2145, 2146, 2147, 2148, 2149, 2150, 2151, 2152, 2153, 2154, 2155, 2156, 2157, 2158, 2159, 2161, 2162, 2163, 2164, 2165, 2166, 2167, 2168, 2169, 2170, 2171, 2172, 2173, 2174, 2175, 2176, 2177, 2178, 2179, 2180, 2181, 2182, 2183, 2184, 2185, 2186, 2187, 2188, 2189, 2190, 2191, 2192, 2193, 2194, 2195, 2196, 2197, 2198, 2199, 2200, 2201, 2202, 2203, 2204, 2205, 2206, 2207, 2208, 2209, 2217, 2218, 2219, 2220, 2221, 2222, 2223, 2224, 2225, 2226, 2227, 2228, 2229, 2230, 2231, 2232, 2233, 2234, 2235, 2236, 2237, 2238, 2239, 2241, 2242, 2243, 2244, 2245, 2246, 2247, 2248, 2249, 2250, 2251, 2252, 2253, 2254, 2255, 2256, 2257, 2258, 2259, 2260, 2261, 2262, 2263, 2264, 2265, 2266, 2267, 2268, 2269, 2270, 2271, 2272, 2273, 2274, 2275, 2276, 2277, 2278, 2279, 2280, 2281, 2282, 2283, 2284, 2285, 2286, 2287, 2288, 2289, 2290, 2291, 2299, 2300, 2301, 2302, 2303, 2304, 2305, 2306, 2307, 2308, 2309, 2310, 2311, 2312, 2313, 2314, 2315, 2316, 2317, 2318, 2319, 2321, 2322, 2323, 2324, 2325, 2326, 2327, 2328, 2329, 2330, 2331, 2332, 2333, 2334, 2335, 2336, 2337, 2338, 2339, 2340, 2341, 2342, 2343, 2344, 2345, 2346, 2347, 2348, 2349, 2350, 2351, 2352, 2353, 2354, 2355, 2356, 2357, 2358, 2359, 2360, 2361, 2362, 2363, 2364, 2365, 2366, 2367, 2368, 2369, 2370, 2371, 2372, 2373, 2374, 2381, 2382, 2383, 2384, 2385, 2386, 2387, 2388, 2389, 2390, 2391, 2392, 2393, 2394, 2395, 2396, 2397, 2398, 2399, 2401, 2402, 2403, 2404, 2405, 2406, 2407, 2408, 2409, 2410, 2411, 2412, 2413, 2414, 2415, 2416, 2417, 2418, 2419, 2420, 2421, 2422, 2423, 2424, 2425, 2426, 2427, 2428, 2429, 2430, 2431, 2432, 2433, 2434, 2435, 2436, 2437, 2438, 2439, 2440, 2441, 2442, 2443, 2444, 2445, 2446, 2447, 2448, 2449, 2450, 2451, 2452, 2453, 2454, 2455, 2456, 2463, 2464, 2465, 2466, 2467, 2468, 2469, 2470, 2471, 2472, 2473, 2474, 2475, 2476, 2477, 2478, 2479, 2481, 2482, 2483, 2484, 2485, 2486, 2487, 2488, 2489, 2490, 2491, 2492, 2493, 2494, 2495, 2496, 2497, 2498, 2499, 2500, 2501, 2502, 2503, 2504, 2505, 2506, 2507, 2508, 2509, 2510, 2511, 2512, 2513, 2514, 2515, 2516, 2517, 2518, 2519, 2520, 2521, 2522, 2523, 2524, 2525, 2526, 2527, 2528, 2529, 2530, 2531, 2532, 2533, 2534, 2535, 2536, 2537, 2538, 2544, 2545, 2546, 2547, 2548, 2549, 2550, 2551, 2552, 2553, 2554, 2555, 2556, 2557, 2558, 2559, 2561, 2562, 2563, 2564, 2565, 2566, 2567, 2568, 2569, 2570, 2571, 2572, 2573, 2574, 2575, 2576, 2577, 2578, 2579, 2580, 2581, 2582, 2583, 2584, 2585, 2586, 2587, 2588, 2589, 2590, 2591, 2592, 2593, 2594, 2595, 2596, 2597, 2598, 2599, 2600, 2601, 2602, 2603, 2604, 2605, 2606, 2607, 2608, 2609, 2610, 2611, 2612, 2613, 2614, 2615, 2616, 2617, 2618, 2619, 2620, 2621, 2626, 2627, 2628, 2629, 2630, 2631, 2632, 2633, 2634, 2635, 2636, 2637, 2638, 2639, 2641, 2642, 2643, 2644, 2645, 2646, 2647, 2648, 2649, 2650, 2651, 2652, 2653, 2654, 2655, 2656, 2657, 2658, 2659, 2660, 2661, 2662, 2663, 2664, 2665, 2666, 2667, 2668, 2669, 2670, 2671, 2672, 2673, 2674, 2675, 2676, 2677, 2678, 2679, 2680, 2681, 2682, 2683, 2684, 2685, 2686, 2687, 2688, 2689, 2690, 2691, 2692, 2693, 2694, 2695, 2696, 2697, 2698, 2699, 2700, 2701, 2702, 2703, 2708, 2709, 2710, 2711, 2712, 2713, 2714, 2715, 2716, 2717, 2718, 2719, 2721, 2722, 2723, 2724, 2725, 2726, 2727, 2728, 2729, 2730, 2731, 2732, 2733, 2734, 2735, 2736, 2737, 2738, 2739, 2740, 2741, 2742, 2743, 2744, 2745, 2746, 2747, 2748, 2749, 2750, 2751, 2752, 2753, 2754, 2755, 2756, 2757, 2758, 2759, 2760, 2761, 2762, 2763, 2764, 2765, 2766, 2767, 2768, 2769, 2770, 2771, 2772, 2773, 2774, 2775, 2776, 2777, 2778, 2779, 2780, 2781, 2782, 2783, 2784, 2785, 2790, 2791, 2792, 2793, 2794, 2795, 2796, 2797, 2798, 2799, 2801, 2802, 2803, 2804, 2805, 2806, 2807, 2808, 2809, 2810, 2811, 2812, 2813, 2814, 2815, 2816, 2817, 2818, 2819, 2820, 2821, 2822, 2823, 2824, 2825, 2826, 2827, 2828, 2829, 2830, 2831, 2832, 2833, 2834, 2835, 2836, 2837, 2838, 2839, 2840, 2841, 2842, 2843, 2844, 2845, 2846, 2847, 2848, 2849, 2850, 2851, 2852, 2853, 2854, 2855, 2856, 2857, 2858, 2859, 2860, 2861, 2862, 2863, 2864, 2865, 2866, 2867, 2868, 2872, 2873, 2874, 2875, 2876, 2877, 2878, 2879, 2881, 2882, 2883, 2884, 2885, 2886, 2887, 2888, 2889, 2890, 2891, 2892, 2893, 2894, 2895, 2896, 2897, 2898, 2899, 2900, 2901, 2902, 2903, 2904, 2905, 2906, 2907, 2908, 2909, 2910, 2911, 2912, 2913, 2914, 2915, 2916, 2917, 2918, 2919, 2920, 2921, 2922, 2923, 2924, 2925, 2926, 2927, 2928, 2929, 2930, 2931, 2932, 2933, 2934, 2935, 2936, 2937, 2938, 2939, 2940, 2941, 2942, 2943, 2944, 2945, 2946, 2947, 2948, 2949, 2950, 2953, 2954, 2955, 2956, 2957, 2958, 2959, 2961, 2962, 2963, 2964, 2965, 2966, 2967, 2968, 2969, 2970, 2971, 2972, 2973, 2974, 2975, 2976, 2977, 2978, 2979, 2980, 2981, 2982, 2983, 2984, 2985, 2986, 2987, 2988, 2989, 2990, 2991, 2992, 2993, 2994, 2995, 2996, 2997, 2998, 2999, 3000, 3001, 3002, 3003, 3004, 3005, 3006, 3007, 3008, 3009, 3010, 3011, 3012, 3013, 3014, 3015, 3016, 3017, 3018, 3019, 3020, 3021, 3022, 3023, 3024, 3025, 3026, 3027, 3028, 3029, 3030, 3031, 3032, 3035, 3036, 3037, 3038, 3039, 3041, 3042, 3043, 3044, 3045, 3046, 3047, 3048, 3049, 3050, 3051, 3052, 3053, 3054, 3055, 3056, 3057, 3058, 3059, 3060, 3061, 3062, 3063, 3064, 3065, 3066, 3067, 3068, 3069, 3070, 3071, 3072, 3073, 3074, 3075, 3076, 3077, 3078, 3079, 3080, 3081, 3082, 3083, 3084, 3085, 3086, 3087, 3088, 3089, 3090, 3091, 3092, 3093, 3094, 3095, 3096, 3097, 3098, 3099, 3100, 3101, 3102, 3103, 3104, 3105, 3106, 3107, 3108, 3109, 3110, 3111, 3112, 3113, 3114, 3115, 3117, 3118, 3119, 3121, 3122, 3123, 3124, 3125, 3126, 3127, 3128, 3129, 3130, 3131, 3132, 3133, 3134, 3135, 3136, 3137, 3138, 3139, 3140, 3141, 3142, 3143, 3144, 3145, 3146, 3147, 3148, 3149, 3150, 3151, 3152, 3153, 3154, 3155, 3156, 3157, 3158, 3159, 3160, 3161, 3162, 3163, 3164, 3165, 3166, 3167, 3168, 3169, 3170, 3171, 3172, 3173, 3174, 3175, 3176, 3177, 3178, 3179, 3180, 3181, 3182, 3183, 3184, 3185, 3186, 3187, 3188, 3189, 3190, 3191, 3192, 3193, 3194, 3195, 3196, 3197, 3199, 3201, 3202, 3203, 3204, 3205, 3206, 3207, 3208, 3209, 3210, 3211, 3212, 3213, 3214, 3215, 3216, 3217, 3218, 3219, 3220, 3221, 3222, 3223, 3224, 3225, 3226, 3227, 3228, 3229, 3230, 3231, 3232, 3233, 3234, 3235, 3236, 3237, 3238, 3239, 3240, 3241, 3242, 3243, 3244, 3245, 3246, 3247, 3248, 3249, 3250, 3251, 3252, 3253, 3254, 3255, 3256, 3257, 3258, 3259, 3260, 3261, 3262, 3263, 3264, 3265, 3266, 3267, 3268, 3269, 3270, 3271, 3272, 3273, 3274, 3275, 3276, 3277, 3278, 3279, 3281, 3282, 3283, 3284, 3285, 3286, 3287, 3288, 3289, 3290, 3291, 3292, 3293, 3294, 3295, 3296, 3297, 3298, 3299, 3300, 3301, 3302, 3303, 3304, 3305, 3306, 3307, 3308, 3309, 3310, 3311, 3312, 3313, 3314, 3315, 3316, 3317, 3318, 3319, 3320, 3321, 3322, 3323, 3324, 3325, 3326, 3327, 3328, 3329, 3330, 3331, 3332, 3333, 3334, 3335, 3336, 3337, 3338, 3339, 3340, 3341, 3342, 3343, 3344, 3345, 3346, 3347, 3348, 3349, 3350, 3351, 3352, 3353, 3354, 3355, 3356, 3357, 3358, 3359, 3361, 3363, 3364, 3365, 3366, 3367, 3368, 3369, 3370, 3371, 3372, 3373, 3374, 3375, 3376, 3377, 3378, 3379, 3380, 3381, 3382, 3383, 3384, 3385, 3386, 3387, 3388, 3389, 3390, 3391, 3392, 3393, 3394, 3395, 3396, 3397, 3398, 3399, 3400, 3401, 3402, 3403, 3404, 3405, 3406, 3407, 3408, 3409, 3410, 3411, 3412, 3413, 3414, 3415, 3416, 3417, 3418, 3419, 3420, 3421, 3422, 3423, 3424, 3425, 3426, 3427, 3428, 3429, 3430, 3431, 3432, 3433, 3434, 3435, 3436, 3437, 3438, 3439, 3441, 3442, 3443, 3445, 3446, 3447, 3448, 3449, 3450, 3451, 3452, 3453, 3454, 3455, 3456, 3457, 3458, 3459, 3460, 3461, 3462, 3463, 3464, 3465, 3466, 3467, 3468, 3469, 3470, 3471, 3472, 3473, 3474, 3475, 3476, 3477, 3478, 3479, 3480, 3481, 3482, 3483, 3484, 3485, 3486, 3487, 3488, 3489, 3490, 3491, 3492, 3493, 3494, 3495, 3496, 3497, 3498, 3499, 3500, 3501, 3502, 3503, 3504, 3505, 3506, 3507, 3508, 3509, 3510, 3511, 3512, 3513, 3514, 3515, 3516, 3517, 3518, 3519, 3521, 3522, 3523, 3524, 3525, 3528, 3529, 3530, 3531, 3532, 3533, 3534, 3535, 3536, 3537, 3538, 3539, 3540, 3541, 3542, 3543, 3544, 3545, 3546, 3547, 3548, 3549, 3550, 3551, 3552, 3553, 3554, 3555, 3556, 3557, 3558, 3559, 3560, 3561, 3562, 3563, 3564, 3565, 3566, 3567, 3568, 3569, 3570, 3571, 3572, 3573, 3574, 3575, 3576, 3577, 3578, 3579, 3580, 3581, 3582, 3583, 3584, 3585, 3586, 3587, 3588, 3589, 3590, 3591, 3592, 3593, 3594, 3595, 3596, 3597, 3598, 3599, 3601, 3602, 3603, 3604, 3605, 3606, 3607, 3610, 3611, 3612, 3613, 3614, 3615, 3616, 3617, 3618, 3619, 3620, 3621, 3622, 3623, 3624, 3625, 3626, 3627, 3628, 3629, 3630, 3631, 3632, 3633, 3634, 3635, 3636, 3637, 3638, 3639, 3640, 3641, 3642, 3643, 3644, 3645, 3646, 3647, 3648, 3649, 3650, 3651, 3652, 3653, 3654, 3655, 3656, 3657, 3658, 3659, 3660, 3661, 3662, 3663, 3664, 3665, 3666, 3667, 3668, 3669, 3670, 3671, 3672, 3673, 3674, 3675, 3676, 3677, 3678, 3679, 3681, 3682, 3683, 3684, 3685, 3686, 3687, 3688, 3692, 3693, 3694, 3695, 3696, 3697, 3698, 3699, 3700, 3701, 3702, 3703, 3704, 3705, 3706, 3707, 3708, 3709, 3710, 3711, 3712, 3713, 3714, 3715, 3716, 3717, 3718, 3719, 3720, 3721, 3722, 3723, 3724, 3725, 3726, 3727, 3728, 3729, 3730, 3731, 3732, 3733, 3734, 3735, 3736, 3737, 3738, 3739, 3740, 3741, 3742, 3743, 3744, 3745, 3746, 3747, 3748, 3749, 3750, 3751, 3752, 3753, 3754, 3755, 3756, 3757, 3758, 3759, 3761, 3762, 3763, 3764, 3765, 3766, 3767, 3768, 3769, 3770, 3775, 3776, 3777, 3778, 3779, 3780, 3781, 3782, 3783, 3784, 3785, 3786, 3787, 3788, 3789, 3790, 3791, 3792, 3793, 3794, 3795, 3796, 3797, 3798, 3799, 3800, 3801, 3802, 3803, 3804, 3805, 3806, 3807, 3808, 3809, 3810, 3811, 3812, 3813, 3814, 3815, 3816, 3817, 3818, 3819, 3820, 3821, 3822, 3823, 3824, 3825, 3826, 3827, 3828, 3829, 3830, 3831, 3832, 3833, 3834, 3835, 3836, 3837, 3838, 3839, 3841, 3842, 3843, 3844, 3845, 3846, 3847, 3848, 3849, 3850, 3851, 3852, 3857, 3858, 3859, 3860, 3861, 3862, 3863, 3864, 3865, 3866, 3867, 3868, 3869, 3870, 3871, 3872, 3873, 3874, 3875, 3876, 3877, 3878, 3879, 3880, 3881, 3882, 3883, 3884, 3885, 3886, 3887, 3888, 3889, 3890, 3891, 3892, 3893, 3894, 3895, 3896, 3897, 3898, 3899, 3900, 3901, 3902, 3903, 3904, 3905, 3906, 3907, 3908, 3909, 3910, 3911, 3912, 3913, 3914, 3915, 3916, 3917, 3918, 3919, 3921, 3922, 3923, 3924, 3925, 3926, 3927, 3928, 3929, 3930, 3931, 3932, 3933, 3934, 3939, 3940, 3941, 3942, 3943, 3944, 3945, 3946, 3947, 3948, 3949, 3950, 3951, 3952, 3953, 3954, 3955, 3956, 3957, 3958, 3959, 3960, 3961, 3962, 3963, 3964, 3965, 3966, 3967, 3968, 3969, 3970, 3971, 3972, 3973, 3974, 3975, 3976, 3977, 3978, 3979, 3980, 3981, 3982, 3983, 3984, 3985, 3986, 3987, 3988, 3989, 3990, 3991, 3992, 3993, 3994, 3995, 3996, 3997, 3998, 3999, 4001, 4002, 4003, 4004, 4005, 4006, 4007, 4008, 4009, 4010, 4011, 4012, 4013, 4014, 4015, 4016, 4022, 4023, 4024, 4025, 4026, 4027, 4028, 4029, 4030, 4031, 4032, 4033, 4034, 4035, 4036, 4037, 4038, 4039, 4040, 4041, 4042, 4043, 4044, 4045, 4046, 4047, 4048, 4049, 4050, 4051, 4052, 4053, 4054, 4055, 4056, 4057, 4058, 4059, 4060, 4061, 4062, 4063, 4064, 4065, 4066, 4067, 4068, 4069, 4070, 4071, 4072, 4073, 4074, 4075, 4076, 4077, 4078, 4079, 4081, 4082, 4083, 4084, 4085, 4086, 4087, 4088, 4089, 4090, 4091, 4092, 4093, 4094, 4095, 4096, 4097, 4104, 4105, 4106, 4107, 4108, 4109, 4110, 4111, 4112, 4113, 4114, 4115, 4116, 4117, 4118, 4119, 4120, 4121, 4122, 4123, 4124, 4125, 4126, 4127, 4128, 4129, 4130, 4131, 4132, 4133, 4134, 4135, 4136, 4137, 4138, 4139, 4140, 4141, 4142, 4143, 4144, 4145, 4146, 4147, 4148, 4149, 4150, 4151, 4152, 4153, 4154, 4155, 4156, 4157, 4158, 4159, 4161, 4162, 4163, 4164, 4165, 4166, 4167, 4168, 4169, 4170, 4171, 4172, 4173, 4174, 4175, 4176, 4177, 4178, 4179, 4186, 4187, 4188, 4189, 4190, 4191, 4192, 4193, 4194, 4195, 4196, 4197, 4198, 4199, 4200, 4201, 4202, 4203, 4204, 4205, 4206, 4207, 4208, 4209, 4210, 4211, 4212, 4213, 4214, 4215, 4216, 4217, 4218, 4219, 4220, 4221, 4222, 4223, 4224, 4225, 4226, 4227, 4228, 4229, 4230, 4231, 4232, 4233, 4234, 4235, 4236, 4237, 4238, 4239, 4241, 4242, 4243, 4244, 4245, 4246, 4247, 4248, 4249, 4250, 4251, 4252, 4253, 4254, 4255, 4256, 4257, 4258, 4259, 4260, 4261, 4269, 4270, 4271, 4272, 4273, 4274, 4275, 4276, 4277, 4278, 4279, 4280, 4281, 4282, 4283, 4284, 4285, 4286, 4287, 4288, 4289, 4290, 4291, 4292, 4293, 4294, 4295, 4296, 4297, 4298, 4299, 4300, 4301, 4302, 4303, 4304, 4305, 4306, 4307, 4308, 4309, 4310, 4311, 4312, 4313, 4314, 4315, 4316, 4317, 4318, 4319, 4321, 4322, 4323, 4324, 4325, 4326, 4327, 4328, 4329, 4330, 4331, 4332, 4333, 4334, 4335, 4336, 4337, 4338, 4339, 4340, 4341, 4342, 4343, 4351, 4352, 4353, 4354, 4355, 4356, 4357, 4358, 4359, 4360, 4361, 4362, 4363, 4364, 4365, 4366, 4367, 4368, 4369, 4370, 4371, 4372, 4373, 4374, 4375, 4376, 4377, 4378, 4379, 4380, 4381, 4382, 4383, 4384, 4385, 4386, 4387, 4388, 4389, 4390, 4391, 4392, 4393, 4394, 4395, 4396, 4397, 4398, 4399, 4401, 4402, 4403, 4404, 4405, 4406, 4407, 4408, 4409, 4410, 4411, 4412, 4413, 4414, 4415, 4416, 4417, 4418, 4419, 4420, 4421, 4422, 4423, 4424, 4425, 4434, 4435, 4436, 4437, 4438, 4439, 4440, 4441, 4442, 4443, 4444, 4445, 4446, 4447, 4448, 4449, 4450, 4451, 4452, 4453, 4454, 4455, 4456, 4457, 4458, 4459, 4460, 4461, 4462, 4463, 4464, 4465, 4466, 4467, 4468, 4469, 4470, 4471, 4472, 4473, 4474, 4475, 4476, 4477, 4478, 4482, 4483, 4484, 4485, 4486, 4487, 4488, 4489, 4490, 4491, 4492, 4493, 4494, 4495, 4496, 4497, 4498, 4499, 4500, 4501, 4502, 4503, 4504, 4505, 4506, 4516, 4517, 4518, 4519, 4520, 4521, 4522, 4523, 4524, 4525, 4526, 4527, 4528, 4529, 4530, 4531, 4532, 4533, 4534, 4535, 4536, 4537, 4538, 4539, 4540, 4541, 4542, 4543, 4544, 4545, 4546, 4547, 4548, 4549, 4550, 4551, 4552, 4553, 4554, 4555, 4556, 4557, 4558, 4562, 4563, 4564, 4565, 4566, 4567, 4568, 4569, 4570, 4571, 4572, 4573, 4574, 4575, 4576, 4577, 4578, 4579, 4580, 4581, 4582, 4583, 4584, 4585, 4586, 4587, 4588, 4598, 4599, 4600, 4601, 4602, 4603, 4604, 4605, 4606, 4607, 4608, 4609, 4610, 4611, 4612, 4613, 4614, 4615, 4616, 4617, 4618, 4619, 4620, 4621, 4622, 4623, 4624, 4625, 4626, 4627, 4628, 4629, 4630, 4631, 4632, 4633, 4634, 4635, 4636, 4637, 4638, 4642, 4643, 4644, 4645, 4646, 4647, 4648, 4649, 4650, 4651, 4652, 4653, 4654, 4655, 4656, 4657, 4658, 4659, 4660, 4661, 4662, 4663, 4664, 4665, 4666, 4667, 4668, 4669, 4670, 4681, 4682, 4683, 4684, 4685, 4686, 4687, 4688, 4689, 4690, 4691, 4692, 4693, 4694, 4695, 4696, 4697, 4698, 4699, 4700, 4701, 4702, 4703, 4704, 4705, 4706, 4707, 4708, 4709, 4710, 4711, 4712, 4713, 4714, 4715, 4716, 4717, 4718, 4722, 4723, 4724, 4725, 4726, 4727, 4728, 4729, 4730, 4731, 4732, 4733, 4734, 4735, 4736, 4737, 4738, 4739, 4740, 4741, 4742, 4743, 4744, 4745, 4746, 4747, 4748, 4749, 4750, 4751, 4752, 4763, 4764, 4765, 4766, 4767, 4768, 4769, 4770, 4771, 4772, 4773, 4774, 4775, 4776, 4777, 4778, 4779, 4780, 4781, 4782, 4783, 4784, 4785, 4786, 4787, 4788, 4789, 4790, 4791, 4792, 4793, 4794, 4795, 4796, 4797, 4798, 4802, 4803, 4804, 4805, 4806, 4807, 4808, 4809, 4810, 4811, 4812, 4813, 4814, 4815, 4816, 4817, 4818, 4819, 4820, 4821, 4822, 4823, 4824, 4825, 4826, 4827, 4828, 4829, 4830, 4831, 4832, 4833, 4834, 4845, 4846, 4847, 4848, 4849, 4850, 4851, 4852, 4853, 4854, 4855, 4856, 4857, 4858, 4859, 4860, 4861, 4862, 4863, 4864, 4865, 4866, 4867, 4868, 4869, 4870, 4871, 4872, 4873, 4874, 4875, 4876, 4877, 4878, 4882, 4883, 4884, 4885, 4886, 4887, 4888, 4889, 4890, 4891, 4892, 4893, 4894, 4895, 4896, 4897, 4898, 4899, 4900, 4901, 4902, 4903, 4904, 4905, 4906, 4907, 4908, 4909, 4910, 4911, 4912, 4913, 4914, 4915, 4928, 4929, 4930, 4931, 4932, 4933, 4934, 4935, 4936, 4937, 4938, 4939, 4940, 4941, 4942, 4943, 4944, 4945, 4946, 4947, 4948, 4949, 4950, 4951, 4952, 4953, 4954, 4955, 4956, 4957, 4958, 4962, 4963, 4964, 4965, 4966, 4967, 4968, 4969, 4970, 4971, 4972, 4973, 4974, 4975, 4976, 4977, 4978, 4979, 4980, 4981, 4982, 4983, 4984, 4985, 4986, 4987, 4988, 4989, 4990, 4991, 4992, 4993, 4994, 4995, 4996, 4997, 5010, 5011, 5012, 5013, 5014, 5015, 5016, 5017, 5018, 5019, 5020, 5021, 5022, 5023, 5024, 5025, 5026, 5027, 5028, 5029, 5030, 5031, 5032, 5033, 5034, 5035, 5036, 5037, 5038, 5042, 5043, 5044, 5045, 5046, 5047, 5048, 5049, 5050, 5051, 5052, 5053, 5054, 5055, 5056, 5057, 5058, 5059, 5060, 5061, 5062, 5063, 5064, 5065, 5066, 5067, 5068, 5069, 5070, 5071, 5072, 5073, 5074, 5075, 5076, 5077, 5078, 5079, 5092, 5093, 5094, 5095, 5096, 5097, 5098, 5099, 5100, 5101, 5102, 5103, 5104, 5105, 5106, 5107, 5108, 5109, 5110, 5111, 5112, 5113, 5114, 5115, 5116, 5117, 5118, 5122, 5123, 5124, 5125, 5126, 5127, 5128, 5129, 5130, 5131, 5132, 5133, 5134, 5135, 5136, 5137, 5138, 5139, 5140, 5141, 5142, 5143, 5144, 5145, 5146, 5147, 5148, 5149, 5150, 5151, 5152, 5153, 5154, 5155, 5156, 5157, 5158, 5159, 5160, 5161, 5175, 5176, 5177, 5178, 5179, 5180, 5181, 5182, 5183, 5184, 5185, 5186, 5187, 5188, 5189, 5190, 5191, 5192, 5193, 5194, 5195, 5196, 5197, 5198, 5202, 5203, 5204, 5205, 5206, 5207, 5208, 5209, 5210, 5211, 5212, 5213, 5214, 5215, 5216, 5217, 5218, 5219, 5220, 5221, 5222, 5223, 5224, 5225, 5226, 5227, 5228, 5229, 5230, 5231, 5232, 5233, 5234, 5235, 5236, 5237, 5238, 5239, 5240, 5241, 5242, 5243, 5257, 5258, 5259, 5260, 5261, 5262, 5263, 5264, 5265, 5266, 5267, 5268, 5269, 5270, 5271, 5272, 5273, 5274, 5275, 5276, 5277, 5278, 5282, 5283, 5284, 5285, 5286, 5287, 5288, 5289, 5290, 5291, 5292, 5293, 5294, 5295, 5296, 5297, 5298, 5299, 5300, 5301, 5302, 5303, 5304, 5305, 5306, 5307, 5308, 5309, 5310, 5311, 5312, 5313, 5314, 5315, 5316, 5317, 5318, 5319, 5320, 5321, 5322, 5323, 5324, 5340, 5341, 5342, 5343, 5344, 5345, 5346, 5347, 5348, 5349, 5350, 5351, 5352, 5353, 5354, 5355, 5356, 5357, 5358, 5362, 5363, 5364, 5365, 5366, 5367, 5368, 5369, 5370, 5371, 5372, 5373, 5374, 5375, 5376, 5377, 5378, 5379, 5380, 5381, 5382, 5383, 5384, 5385, 5386, 5387, 5388, 5389, 5390, 5391, 5392, 5393, 5394, 5395, 5396, 5397, 5398, 5399, 5400, 5401, 5402, 5403, 5404, 5405, 5406, 5422, 5423, 5424, 5425, 5426, 5427, 5428, 5429, 5430, 5431, 5432, 5433, 5434, 5435, 5436, 5437, 5438, 5442, 5443, 5444, 5445, 5446, 5447, 5448, 5449, 5450, 5451, 5452, 5453, 5454, 5455, 5456, 5457, 5458, 5459, 5460, 5461, 5462, 5463, 5464, 5465, 5466, 5467, 5468, 5469, 5470, 5471, 5472, 5473, 5474, 5475, 5476, 5477, 5478, 5479, 5480, 5481, 5482, 5483, 5484, 5485, 5486, 5487, 5488, 5504, 5505, 5506, 5507, 5508, 5509, 5510, 5511, 5512, 5513, 5514, 5515, 5516, 5517, 5518, 5522, 5523, 5524, 5525, 5526, 5527, 5528, 5529, 5530, 5531, 5532, 5533, 5534, 5535, 5536, 5537, 5538, 5539, 5540, 5541, 5542, 5543, 5544, 5545, 5546, 5547, 5548, 5549, 5550, 5551, 5552, 5553, 5554, 5555, 5556, 5557, 5558, 5559, 5560, 5561, 5562, 5563, 5564, 5565, 5566, 5567, 5568, 5569, 5570, 5587, 5588, 5589, 5590, 5591, 5592, 5593, 5594, 5595, 5596, 5597, 5603, 5604, 5605, 5606, 5607, 5608, 5609, 5610, 5611, 5612, 5613, 5614, 5615, 5616, 5617, 5618, 5619, 5620, 5621, 5622, 5623, 5624, 5625, 5626, 5627, 5628, 5629, 5630, 5631, 5632, 5633, 5634, 5635, 5636, 5637, 5638, 5639, 5640, 5641, 5642, 5643, 5644, 5645, 5646, 5647, 5648, 5649, 5650, 5651, 5669, 5670, 5671, 5672, 5673, 5674, 5675, 5676, 5677, 5683, 5684, 5685, 5686, 5687, 5688, 5689, 5690, 5691, 5692, 5693, 5694, 5695, 5696, 5697, 5698, 5699, 5700, 5701, 5702, 5703, 5704, 5705, 5706, 5707, 5708, 5709, 5710, 5711, 5712, 5713, 5714, 5715, 5716, 5717, 5718, 5719, 5720, 5721, 5722, 5723, 5724, 5725, 5726, 5727, 5728, 5729, 5730, 5731, 5732, 5733, 5751, 5752, 5753, 5754, 5755, 5756, 5757, 5763, 5764, 5765, 5766, 5767, 5768, 5769, 5770, 5771, 5772, 5773, 5774, 5775, 5776, 5777, 5778, 5779, 5780, 5781, 5782, 5783, 5784, 5785, 5786, 5787, 5788, 5789, 5790, 5791, 5792, 5793, 5794, 5795, 5796, 5797, 5798, 5799, 5800, 5801, 5802, 5803, 5804, 5805, 5806, 5807, 5808, 5809, 5810, 5811, 5812, 5813, 5814, 5815, 5832, 5833, 5834, 5835, 5836, 5837, 5843, 5844, 5845, 5846, 5847, 5848, 5849, 5850, 5851, 5852, 5853, 5854, 5855, 5856, 5857, 5858, 5859, 5860, 5861, 5862, 5863, 5864, 5865, 5866, 5867, 5868, 5869, 5870, 5871, 5872, 5873, 5874, 5875, 5876, 5877, 5878, 5879, 5880, 5881, 5882, 5883, 5884, 5885, 5886, 5887, 5888, 5889, 5890, 5891, 5892, 5893, 5894, 5895, 5896, 5897, 5913, 5914, 5915, 5916, 5917, 5923, 5924, 5925, 5926, 5927, 5928, 5929, 5930, 5931, 5932, 5933, 5934, 5935, 5936, 5937, 5938, 5939, 5940, 5941, 5942, 5943, 5944, 5945, 5946, 5947, 5948, 5949, 5950, 5951, 5952, 5953, 5954, 5955, 5956, 5957, 5958, 5959, 5960, 5961, 5962, 5963, 5964, 5965, 5966, 5967, 5968, 5969, 5970, 5971, 5972, 5973, 5974, 5975, 5976, 5977, 5978, 5979, 5994, 5995, 5996, 5997, 6003, 6004, 6005, 6006, 6007, 6008, 6009, 6010, 6011, 6012, 6013, 6014, 6015, 6016, 6017, 6018, 6019, 6020, 6021, 6022, 6023, 6024, 6025, 6026, 6027, 6028, 6029, 6030, 6031, 6032, 6033, 6034, 6035, 6036, 6037, 6038, 6039, 6040, 6041, 6042, 6043, 6044, 6045, 6046, 6047, 6048, 6049, 6050, 6051, 6052, 6053, 6054, 6055, 6056, 6057, 6058, 6059, 6060, 6075, 6076, 6077, 6083, 6084, 6085, 6086, 6087, 6088, 6089, 6090, 6091, 6092, 6093, 6094, 6095, 6096, 6097, 6098, 6099, 6100, 6101, 6102, 6103, 6104, 6105, 6106, 6107, 6108, 6109, 6110, 6111, 6112, 6113, 6114, 6115, 6116, 6117, 6118, 6119, 6120, 6121, 6122, 6123, 6124, 6125, 6126, 6127, 6128, 6129, 6130, 6131, 6132, 6133, 6134, 6135, 6136, 6137, 6138, 6139, 6140, 6141, 6142, 6156, 6157, 6163, 6164, 6165, 6166, 6167, 6168, 6169, 6170, 6171, 6172, 6173, 6174, 6175, 6176, 6177, 6178, 6179, 6180, 6181, 6182, 6183, 6184, 6185, 6186, 6187, 6188, 6189, 6190, 6191, 6192, 6193, 6194, 6195, 6196, 6197, 6198, 6199, 6200, 6201, 6202, 6203, 6204, 6205, 6206, 6207, 6208, 6209, 6210, 6211, 6212, 6213, 6214, 6215, 6216, 6217, 6218, 6219, 6220, 6221, 6222, 6223, 6224, 6237, 6243, 6244, 6245, 6246, 6247, 6248, 6249, 6250, 6251, 6252, 6253, 6254, 6255, 6256, 6257, 6258, 6259, 6260, 6261, 6262, 6263, 6264, 6265, 6266, 6267, 6268, 6269, 6270, 6271, 6272, 6273, 6274, 6275, 6276, 6277, 6278, 6279, 6280, 6281, 6282, 6283, 6284, 6285, 6286, 6287, 6288, 6289, 6290, 6291, 6292, 6293, 6294, 6295, 6296, 6297, 6298, 6299, 6300, 6301, 6302, 6303, 6304, 6305, 6306, 6323, 6324, 6325, 6326, 6327, 6328, 6329, 6330, 6331, 6332, 6333, 6334, 6335, 6336, 6337, 6338, 6339, 6340, 6341, 6342, 6343, 6344, 6345, 6346, 6347, 6348, 6349, 6350, 6351, 6352, 6353, 6354, 6355, 6356, 6357, 6358, 6359, 6360, 6361, 6362, 6363, 6364, 6365, 6366, 6367, 6368, 6369, 6370, 6371, 6372, 6373, 6374, 6375, 6376, 6377, 6378, 6379, 6380, 6381, 6382, 6383, 6384, 6385, 6386, 6387, 6388, 6403, 6404, 6405, 6406, 6407, 6408, 6409, 6410, 6411, 6412, 6413, 6414, 6415, 6416, 6417, 6418, 6419, 6420, 6421, 6422, 6423, 6424, 6425, 6426, 6427, 6428, 6429, 6430, 6431, 6432, 6433, 6434, 6435, 6436, 6437, 6438, 6439, 6440, 6441, 6442, 6443, 6444, 6445, 6446, 6447, 6448, 6449, 6450, 6451, 6452, 6453, 6454, 6455, 6456, 6457, 6458, 6459, 6460, 6461, 6462, 6463, 6464, 6465, 6466, 6467, 6468, 6469, 6483, 6484, 6485, 6486, 6487, 6488, 6489, 6490, 6491, 6492, 6493, 6494, 6495, 6496, 6497, 6498, 6499, 6500, 6501, 6502, 6503, 6504, 6505, 6506, 6507, 6508, 6509, 6510, 6511, 6512, 6513, 6514, 6515, 6516, 6517, 6518, 6519, 6520, 6521, 6522, 6523, 6524, 6525, 6526, 6527, 6528, 6529, 6530, 6531, 6532, 6533, 6534, 6535, 6536, 6537, 6538, 6539, 6540, 6541, 6542, 6543, 6544, 6545, 6546, 6547, 6548, 6549, 6550, 6551]\n",
      "val ids:  []\n",
      "test ids:  [0, 1, 2, 3, 4, 5, 6, 7, 8, 78, 79, 80, 81, 82, 83, 84, 85, 86, 87, 88, 89, 90, 158, 159, 160, 161, 162, 163, 164, 165, 166, 167, 168, 169, 170, 171, 238, 239, 240, 241, 242, 243, 244, 245, 246, 247, 248, 249, 250, 251, 252, 253, 318, 319, 320, 321, 322, 324, 325, 326, 327, 328, 329, 330, 331, 332, 333, 334, 335, 398, 399, 400, 401, 402, 405, 406, 407, 408, 409, 410, 411, 412, 413, 414, 415, 416, 417, 478, 479, 480, 481, 482, 486, 487, 488, 489, 490, 491, 492, 493, 494, 495, 496, 497, 498, 499, 558, 559, 560, 561, 562, 567, 568, 569, 570, 571, 572, 573, 574, 575, 576, 577, 578, 579, 580, 638, 639, 640, 641, 642, 648, 649, 650, 651, 652, 653, 654, 655, 656, 657, 658, 659, 660, 661, 662, 718, 719, 720, 721, 722, 729, 730, 731, 732, 733, 734, 735, 736, 737, 738, 739, 740, 741, 742, 743, 744, 798, 799, 800, 801, 802, 810, 811, 812, 813, 814, 815, 816, 817, 818, 819, 820, 821, 822, 823, 824, 825, 826, 878, 879, 880, 881, 882, 892, 893, 894, 895, 896, 897, 898, 899, 900, 901, 902, 903, 904, 905, 906, 907, 908, 958, 959, 960, 961, 962, 974, 975, 976, 977, 978, 979, 980, 981, 982, 983, 984, 985, 986, 987, 988, 989, 1039, 1040, 1041, 1057, 1058, 1059, 1060, 1061, 1062, 1063, 1064, 1065, 1066, 1067, 1068, 1069, 1070, 1071, 1119, 1120, 1121, 1139, 1140, 1141, 1142, 1143, 1144, 1145, 1146, 1147, 1148, 1149, 1150, 1151, 1152, 1153, 1199, 1200, 1201, 1221, 1222, 1223, 1224, 1225, 1226, 1227, 1228, 1229, 1230, 1231, 1232, 1233, 1234, 1235, 1279, 1280, 1281, 1304, 1305, 1306, 1307, 1308, 1309, 1310, 1311, 1312, 1313, 1314, 1315, 1316, 1359, 1360, 1361, 1386, 1387, 1388, 1389, 1390, 1391, 1392, 1393, 1394, 1395, 1396, 1397, 1398, 1439, 1440, 1441, 1469, 1470, 1471, 1472, 1473, 1474, 1475, 1476, 1477, 1478, 1479, 1480, 1519, 1520, 1521, 1551, 1552, 1553, 1554, 1555, 1556, 1557, 1558, 1559, 1560, 1561, 1562, 1599, 1600, 1601, 1633, 1634, 1635, 1636, 1637, 1638, 1639, 1640, 1641, 1642, 1643, 1644, 1679, 1680, 1681, 1716, 1717, 1718, 1719, 1720, 1721, 1722, 1723, 1724, 1725, 1759, 1760, 1761, 1798, 1799, 1800, 1801, 1802, 1803, 1804, 1805, 1806, 1807, 1839, 1840, 1841, 1880, 1881, 1882, 1883, 1884, 1885, 1886, 1887, 1888, 1889, 1919, 1920, 1921, 1963, 1964, 1965, 1966, 1967, 1968, 1969, 1970, 1971, 1999, 2000, 2001, 2045, 2046, 2047, 2048, 2049, 2050, 2051, 2052, 2053, 2079, 2080, 2081, 2127, 2128, 2129, 2130, 2131, 2132, 2133, 2134, 2160, 2210, 2211, 2212, 2213, 2214, 2215, 2216, 2240, 2292, 2293, 2294, 2295, 2296, 2297, 2298, 2320, 2375, 2376, 2377, 2378, 2379, 2380, 2400, 2457, 2458, 2459, 2460, 2461, 2462, 2480, 2539, 2540, 2541, 2542, 2543, 2560, 2622, 2623, 2624, 2625, 2640, 2704, 2705, 2706, 2707, 2720, 2786, 2787, 2788, 2789, 2800, 2869, 2870, 2871, 2880, 2951, 2952, 2960, 3033, 3034, 3040, 3116, 3120, 3198, 3200, 3280, 3360, 3362, 3440, 3444, 3520, 3526, 3527, 3600, 3608, 3609, 3680, 3689, 3690, 3691, 3760, 3771, 3772, 3773, 3774, 3840, 3853, 3854, 3855, 3856, 3920, 3935, 3936, 3937, 3938, 4000, 4017, 4018, 4019, 4020, 4021, 4080, 4098, 4099, 4100, 4101, 4102, 4103, 4160, 4180, 4181, 4182, 4183, 4184, 4185, 4240, 4262, 4263, 4264, 4265, 4266, 4267, 4268, 4320, 4344, 4345, 4346, 4347, 4348, 4349, 4350, 4400, 4426, 4427, 4428, 4429, 4430, 4431, 4432, 4433, 4479, 4480, 4481, 4507, 4508, 4509, 4510, 4511, 4512, 4513, 4514, 4515, 4559, 4560, 4561, 4589, 4590, 4591, 4592, 4593, 4594, 4595, 4596, 4597, 4639, 4640, 4641, 4671, 4672, 4673, 4674, 4675, 4676, 4677, 4678, 4679, 4680, 4719, 4720, 4721, 4753, 4754, 4755, 4756, 4757, 4758, 4759, 4760, 4761, 4762, 4799, 4800, 4801, 4835, 4836, 4837, 4838, 4839, 4840, 4841, 4842, 4843, 4844, 4879, 4880, 4881, 4916, 4917, 4918, 4919, 4920, 4921, 4922, 4923, 4924, 4925, 4926, 4927, 4959, 4960, 4961, 4998, 4999, 5000, 5001, 5002, 5003, 5004, 5005, 5006, 5007, 5008, 5009, 5039, 5040, 5041, 5080, 5081, 5082, 5083, 5084, 5085, 5086, 5087, 5088, 5089, 5090, 5091, 5119, 5120, 5121, 5162, 5163, 5164, 5165, 5166, 5167, 5168, 5169, 5170, 5171, 5172, 5173, 5174, 5199, 5200, 5201, 5244, 5245, 5246, 5247, 5248, 5249, 5250, 5251, 5252, 5253, 5254, 5255, 5256, 5279, 5280, 5281, 5325, 5326, 5327, 5328, 5329, 5330, 5331, 5332, 5333, 5334, 5335, 5336, 5337, 5338, 5339, 5359, 5360, 5361, 5407, 5408, 5409, 5410, 5411, 5412, 5413, 5414, 5415, 5416, 5417, 5418, 5419, 5420, 5421, 5439, 5440, 5441, 5489, 5490, 5491, 5492, 5493, 5494, 5495, 5496, 5497, 5498, 5499, 5500, 5501, 5502, 5503, 5519, 5520, 5521, 5571, 5572, 5573, 5574, 5575, 5576, 5577, 5578, 5579, 5580, 5581, 5582, 5583, 5584, 5585, 5586, 5598, 5599, 5600, 5601, 5602, 5652, 5653, 5654, 5655, 5656, 5657, 5658, 5659, 5660, 5661, 5662, 5663, 5664, 5665, 5666, 5667, 5668, 5678, 5679, 5680, 5681, 5682, 5734, 5735, 5736, 5737, 5738, 5739, 5740, 5741, 5742, 5743, 5744, 5745, 5746, 5747, 5748, 5749, 5750, 5758, 5759, 5760, 5761, 5762, 5816, 5817, 5818, 5819, 5820, 5821, 5822, 5823, 5824, 5825, 5826, 5827, 5828, 5829, 5830, 5831, 5838, 5839, 5840, 5841, 5842, 5898, 5899, 5900, 5901, 5902, 5903, 5904, 5905, 5906, 5907, 5908, 5909, 5910, 5911, 5912, 5918, 5919, 5920, 5921, 5922, 5980, 5981, 5982, 5983, 5984, 5985, 5986, 5987, 5988, 5989, 5990, 5991, 5992, 5993, 5998, 5999, 6000, 6001, 6002, 6061, 6062, 6063, 6064, 6065, 6066, 6067, 6068, 6069, 6070, 6071, 6072, 6073, 6074, 6078, 6079, 6080, 6081, 6082, 6143, 6144, 6145, 6146, 6147, 6148, 6149, 6150, 6151, 6152, 6153, 6154, 6155, 6158, 6159, 6160, 6161, 6162, 6225, 6226, 6227, 6228, 6229, 6230, 6231, 6232, 6233, 6234, 6235, 6236, 6238, 6239, 6240, 6241, 6242, 6307, 6308, 6309, 6310, 6311, 6312, 6313, 6314, 6315, 6316, 6317, 6318, 6319, 6320, 6321, 6322, 6389, 6390, 6391, 6392, 6393, 6394, 6395, 6396, 6397, 6398, 6399, 6400, 6401, 6402, 6470, 6471, 6472, 6473, 6474, 6475, 6476, 6477, 6478, 6479, 6480, 6481, 6482, 6552, 6553, 6554, 6555, 6556, 6557, 6558, 6559, 6560]\n",
      "CPU times: user 155 ms, sys: 19.4 ms, total: 175 ms\n",
      "Wall time: 174 ms\n"
     ]
    }
   ],
   "source": [
    "%%time\n",
    "n_total = len(simulation.dataframe)\n",
    "n_train = len(simulation.dataframe[simulation.dataframe.type_of == \"train\"])\n",
    "n_val = len(simulation.dataframe[simulation.dataframe.type_of == \"val\"])\n",
    "n_test = len(simulation.dataframe[simulation.dataframe.type_of == \"test\"])\n",
    "n_train_hamiltonians = len(simulation.train_ids)\n",
    "n_val_hamiltonians = len(simulation.val_ids)\n",
    "n_test_hamiltonians = len(simulation.test_ids)\n",
    "n_total_hamiltonians = n_train_hamiltonians + n_val_hamiltonians + n_test_hamiltonians\n",
    "\n",
    "print(\"% train: \", n_train/n_total)\n",
    "print(\"% val: \",  n_val/n_total)\n",
    "print(\"% test: \", n_test/n_total)\n",
    "print(\"% train + val + test: \", (n_train+n_val+n_test)/n_total)\n",
    "print(\"\\n\")\n",
    "print(\"number of train hamiltonians: \", n_train_hamiltonians)\n",
    "print(\"number of val hamiltonians: \", n_val_hamiltonians)\n",
    "print(\"number of test hamiltonians: \", n_test_hamiltonians)\n",
    "print(\"total number of hamiltonians: \", n_total_hamiltonians)\n",
    "print(\"\\n\")\n",
    "print(\"train ids: \", simulation.train_ids)\n",
    "print(\"val ids: \", simulation.val_ids)\n",
    "print(\"test ids: \", simulation.test_ids)"
   ]
  },
  {
   "cell_type": "markdown",
   "metadata": {
    "papermill": {
     "duration": 0.019566,
     "end_time": "2020-07-18T05:12:20.653535",
     "exception": false,
     "start_time": "2020-07-18T05:12:20.633969",
     "status": "completed"
    },
    "tags": []
   },
   "source": [
    "## Running a simulation"
   ]
  },
  {
   "cell_type": "code",
   "execution_count": 27,
   "metadata": {
    "execution": {
     "iopub.execute_input": "2020-07-18T05:12:20.693488Z",
     "iopub.status.busy": "2020-07-18T05:12:20.693176Z",
     "iopub.status.idle": "2020-07-18T05:29:28.080933Z",
     "shell.execute_reply": "2020-07-18T05:29:28.081189Z"
    },
    "papermill": {
     "duration": 1027.408914,
     "end_time": "2020-07-18T05:29:28.081257",
     "exception": false,
     "start_time": "2020-07-18T05:12:20.672343",
     "status": "completed"
    },
    "tags": []
   },
   "outputs": [
    {
     "name": "stderr",
     "output_type": "stream",
     "text": [
      "\r",
      "running experiments:   0%|          | 0/100 [00:00<?, ?it/s]"
     ]
    },
    {
     "name": "stdout",
     "output_type": "stream",
     "text": [
      "Simulation mode:  dct\n"
     ]
    },
    {
     "name": "stderr",
     "output_type": "stream",
     "text": [
      "\r",
      "running experiments:   1%|          | 1/100 [00:09<16:29, 10.00s/it]"
     ]
    },
    {
     "name": "stderr",
     "output_type": "stream",
     "text": [
      "\r",
      "running experiments:   2%|▏         | 2/100 [00:24<18:36, 11.39s/it]"
     ]
    },
    {
     "name": "stderr",
     "output_type": "stream",
     "text": [
      "\r",
      "running experiments:   3%|▎         | 3/100 [00:36<18:24, 11.38s/it]"
     ]
    },
    {
     "name": "stderr",
     "output_type": "stream",
     "text": [
      "\r",
      "running experiments:   4%|▍         | 4/100 [00:46<17:41, 11.06s/it]"
     ]
    },
    {
     "name": "stderr",
     "output_type": "stream",
     "text": [
      "\r",
      "running experiments:   5%|▌         | 5/100 [00:55<16:29, 10.42s/it]"
     ]
    },
    {
     "name": "stderr",
     "output_type": "stream",
     "text": [
      "\r",
      "running experiments:   6%|▌         | 6/100 [01:08<17:46, 11.35s/it]"
     ]
    },
    {
     "name": "stderr",
     "output_type": "stream",
     "text": [
      "\r",
      "running experiments:   7%|▋         | 7/100 [01:19<17:16, 11.14s/it]"
     ]
    },
    {
     "name": "stderr",
     "output_type": "stream",
     "text": [
      "\r",
      "running experiments:   8%|▊         | 8/100 [01:28<16:01, 10.45s/it]"
     ]
    },
    {
     "name": "stderr",
     "output_type": "stream",
     "text": [
      "\r",
      "running experiments:   9%|▉         | 9/100 [01:38<15:44, 10.38s/it]"
     ]
    },
    {
     "name": "stderr",
     "output_type": "stream",
     "text": [
      "\r",
      "running experiments:  10%|█         | 10/100 [01:50<16:11, 10.79s/it]"
     ]
    },
    {
     "name": "stderr",
     "output_type": "stream",
     "text": [
      "\r",
      "running experiments:  11%|█         | 11/100 [01:59<15:13, 10.27s/it]"
     ]
    },
    {
     "name": "stderr",
     "output_type": "stream",
     "text": [
      "\r",
      "running experiments:  12%|█▏        | 12/100 [02:10<15:24, 10.51s/it]"
     ]
    },
    {
     "name": "stderr",
     "output_type": "stream",
     "text": [
      "\r",
      "running experiments:  13%|█▎        | 13/100 [02:25<17:23, 12.00s/it]"
     ]
    },
    {
     "name": "stderr",
     "output_type": "stream",
     "text": [
      "\r",
      "running experiments:  14%|█▍        | 14/100 [02:36<16:38, 11.61s/it]"
     ]
    },
    {
     "name": "stderr",
     "output_type": "stream",
     "text": [
      "\r",
      "running experiments:  15%|█▌        | 15/100 [02:47<16:19, 11.52s/it]"
     ]
    },
    {
     "name": "stderr",
     "output_type": "stream",
     "text": [
      "\r",
      "running experiments:  16%|█▌        | 16/100 [03:01<16:58, 12.13s/it]"
     ]
    },
    {
     "name": "stderr",
     "output_type": "stream",
     "text": [
      "\r",
      "running experiments:  17%|█▋        | 17/100 [03:11<16:08, 11.67s/it]"
     ]
    },
    {
     "name": "stderr",
     "output_type": "stream",
     "text": [
      "\r",
      "running experiments:  18%|█▊        | 18/100 [03:22<15:40, 11.47s/it]"
     ]
    },
    {
     "name": "stderr",
     "output_type": "stream",
     "text": [
      "\r",
      "running experiments:  19%|█▉        | 19/100 [03:33<15:01, 11.13s/it]"
     ]
    },
    {
     "name": "stderr",
     "output_type": "stream",
     "text": [
      "\r",
      "running experiments:  20%|██        | 20/100 [03:42<13:57, 10.47s/it]"
     ]
    },
    {
     "name": "stderr",
     "output_type": "stream",
     "text": [
      "\r",
      "running experiments:  21%|██        | 21/100 [03:51<13:08,  9.98s/it]"
     ]
    },
    {
     "name": "stderr",
     "output_type": "stream",
     "text": [
      "\r",
      "running experiments:  22%|██▏       | 22/100 [03:59<12:17,  9.45s/it]"
     ]
    },
    {
     "name": "stderr",
     "output_type": "stream",
     "text": [
      "\r",
      "running experiments:  23%|██▎       | 23/100 [04:09<12:22,  9.65s/it]"
     ]
    },
    {
     "name": "stderr",
     "output_type": "stream",
     "text": [
      "\r",
      "running experiments:  24%|██▍       | 24/100 [04:23<13:43, 10.84s/it]"
     ]
    },
    {
     "name": "stderr",
     "output_type": "stream",
     "text": [
      "\r",
      "running experiments:  25%|██▌       | 25/100 [04:31<12:47, 10.23s/it]"
     ]
    },
    {
     "name": "stderr",
     "output_type": "stream",
     "text": [
      "\r",
      "running experiments:  26%|██▌       | 26/100 [04:40<12:12,  9.89s/it]"
     ]
    },
    {
     "name": "stderr",
     "output_type": "stream",
     "text": [
      "\r",
      "running experiments:  27%|██▋       | 27/100 [04:48<11:10,  9.18s/it]"
     ]
    },
    {
     "name": "stderr",
     "output_type": "stream",
     "text": [
      "\r",
      "running experiments:  28%|██▊       | 28/100 [04:59<11:40,  9.73s/it]"
     ]
    },
    {
     "name": "stderr",
     "output_type": "stream",
     "text": [
      "\r",
      "running experiments:  29%|██▉       | 29/100 [05:08<11:13,  9.48s/it]"
     ]
    },
    {
     "name": "stderr",
     "output_type": "stream",
     "text": [
      "\r",
      "running experiments:  30%|███       | 30/100 [05:19<11:40, 10.00s/it]"
     ]
    },
    {
     "name": "stderr",
     "output_type": "stream",
     "text": [
      "\r",
      "running experiments:  31%|███       | 31/100 [05:30<11:48, 10.27s/it]"
     ]
    },
    {
     "name": "stderr",
     "output_type": "stream",
     "text": [
      "\r",
      "running experiments:  32%|███▏      | 32/100 [05:42<12:06, 10.68s/it]"
     ]
    },
    {
     "name": "stderr",
     "output_type": "stream",
     "text": [
      "\r",
      "running experiments:  33%|███▎      | 33/100 [05:50<11:07,  9.96s/it]"
     ]
    },
    {
     "name": "stderr",
     "output_type": "stream",
     "text": [
      "\r",
      "running experiments:  34%|███▍      | 34/100 [05:58<10:15,  9.32s/it]"
     ]
    },
    {
     "name": "stderr",
     "output_type": "stream",
     "text": [
      "\r",
      "running experiments:  35%|███▌      | 35/100 [06:06<09:44,  8.99s/it]"
     ]
    },
    {
     "name": "stderr",
     "output_type": "stream",
     "text": [
      "\r",
      "running experiments:  36%|███▌      | 36/100 [06:17<10:09,  9.52s/it]"
     ]
    },
    {
     "name": "stderr",
     "output_type": "stream",
     "text": [
      "\r",
      "running experiments:  37%|███▋      | 37/100 [06:26<09:57,  9.48s/it]"
     ]
    },
    {
     "name": "stderr",
     "output_type": "stream",
     "text": [
      "\r",
      "running experiments:  38%|███▊      | 38/100 [06:33<09:09,  8.86s/it]"
     ]
    },
    {
     "name": "stderr",
     "output_type": "stream",
     "text": [
      "\r",
      "running experiments:  39%|███▉      | 39/100 [06:42<09:01,  8.87s/it]"
     ]
    },
    {
     "name": "stderr",
     "output_type": "stream",
     "text": [
      "\r",
      "running experiments:  40%|████      | 40/100 [06:55<09:53,  9.89s/it]"
     ]
    },
    {
     "name": "stderr",
     "output_type": "stream",
     "text": [
      "\r",
      "running experiments:  41%|████      | 41/100 [07:03<09:11,  9.34s/it]"
     ]
    },
    {
     "name": "stderr",
     "output_type": "stream",
     "text": [
      "\r",
      "running experiments:  42%|████▏     | 42/100 [07:16<10:02, 10.39s/it]"
     ]
    },
    {
     "name": "stderr",
     "output_type": "stream",
     "text": [
      "\r",
      "running experiments:  43%|████▎     | 43/100 [07:25<09:34, 10.08s/it]"
     ]
    },
    {
     "name": "stderr",
     "output_type": "stream",
     "text": [
      "\r",
      "running experiments:  44%|████▍     | 44/100 [07:34<09:00,  9.65s/it]"
     ]
    },
    {
     "name": "stderr",
     "output_type": "stream",
     "text": [
      "\r",
      "running experiments:  45%|████▌     | 45/100 [07:47<09:58, 10.88s/it]"
     ]
    },
    {
     "name": "stderr",
     "output_type": "stream",
     "text": [
      "\r",
      "running experiments:  46%|████▌     | 46/100 [07:56<09:11, 10.21s/it]"
     ]
    },
    {
     "name": "stderr",
     "output_type": "stream",
     "text": [
      "\r",
      "running experiments:  47%|████▋     | 47/100 [08:04<08:29,  9.62s/it]"
     ]
    },
    {
     "name": "stderr",
     "output_type": "stream",
     "text": [
      "\r",
      "running experiments:  48%|████▊     | 48/100 [08:20<09:53, 11.42s/it]"
     ]
    },
    {
     "name": "stderr",
     "output_type": "stream",
     "text": [
      "\r",
      "running experiments:  49%|████▉     | 49/100 [08:31<09:35, 11.29s/it]"
     ]
    },
    {
     "name": "stderr",
     "output_type": "stream",
     "text": [
      "\r",
      "running experiments:  50%|█████     | 50/100 [08:39<08:43, 10.47s/it]"
     ]
    },
    {
     "name": "stderr",
     "output_type": "stream",
     "text": [
      "\r",
      "running experiments:  51%|█████     | 51/100 [08:49<08:14, 10.10s/it]"
     ]
    },
    {
     "name": "stderr",
     "output_type": "stream",
     "text": [
      "\r",
      "running experiments:  52%|█████▏    | 52/100 [08:59<08:02, 10.06s/it]"
     ]
    },
    {
     "name": "stderr",
     "output_type": "stream",
     "text": [
      "\r",
      "running experiments:  53%|█████▎    | 53/100 [09:12<08:43, 11.14s/it]"
     ]
    },
    {
     "name": "stderr",
     "output_type": "stream",
     "text": [
      "\r",
      "running experiments:  54%|█████▍    | 54/100 [09:20<07:40, 10.02s/it]"
     ]
    },
    {
     "name": "stderr",
     "output_type": "stream",
     "text": [
      "\r",
      "running experiments:  55%|█████▌    | 55/100 [09:29<07:16,  9.70s/it]"
     ]
    },
    {
     "name": "stderr",
     "output_type": "stream",
     "text": [
      "\r",
      "running experiments:  56%|█████▌    | 56/100 [09:41<07:48, 10.64s/it]"
     ]
    },
    {
     "name": "stderr",
     "output_type": "stream",
     "text": [
      "\r",
      "running experiments:  57%|█████▋    | 57/100 [09:52<07:42, 10.76s/it]"
     ]
    },
    {
     "name": "stderr",
     "output_type": "stream",
     "text": [
      "\r",
      "running experiments:  58%|█████▊    | 58/100 [10:04<07:46, 11.12s/it]"
     ]
    },
    {
     "name": "stderr",
     "output_type": "stream",
     "text": [
      "\r",
      "running experiments:  59%|█████▉    | 59/100 [10:14<07:21, 10.77s/it]"
     ]
    },
    {
     "name": "stderr",
     "output_type": "stream",
     "text": [
      "\r",
      "running experiments:  60%|██████    | 60/100 [10:26<07:16, 10.91s/it]"
     ]
    },
    {
     "name": "stderr",
     "output_type": "stream",
     "text": [
      "\r",
      "running experiments:  61%|██████    | 61/100 [10:35<06:49, 10.50s/it]"
     ]
    },
    {
     "name": "stderr",
     "output_type": "stream",
     "text": [
      "\r",
      "running experiments:  62%|██████▏   | 62/100 [10:50<07:31, 11.89s/it]"
     ]
    },
    {
     "name": "stderr",
     "output_type": "stream",
     "text": [
      "\r",
      "running experiments:  63%|██████▎   | 63/100 [11:03<07:31, 12.20s/it]"
     ]
    },
    {
     "name": "stderr",
     "output_type": "stream",
     "text": [
      "\r",
      "running experiments:  64%|██████▍   | 64/100 [11:14<07:02, 11.75s/it]"
     ]
    },
    {
     "name": "stderr",
     "output_type": "stream",
     "text": [
      "\r",
      "running experiments:  65%|██████▌   | 65/100 [11:25<06:46, 11.62s/it]"
     ]
    },
    {
     "name": "stderr",
     "output_type": "stream",
     "text": [
      "\r",
      "running experiments:  66%|██████▌   | 66/100 [11:34<06:08, 10.83s/it]"
     ]
    },
    {
     "name": "stderr",
     "output_type": "stream",
     "text": [
      "\r",
      "running experiments:  67%|██████▋   | 67/100 [11:42<05:29,  9.98s/it]"
     ]
    },
    {
     "name": "stderr",
     "output_type": "stream",
     "text": [
      "\r",
      "running experiments:  68%|██████▊   | 68/100 [11:53<05:27, 10.22s/it]"
     ]
    },
    {
     "name": "stderr",
     "output_type": "stream",
     "text": [
      "\r",
      "running experiments:  69%|██████▉   | 69/100 [12:01<05:00,  9.71s/it]"
     ]
    },
    {
     "name": "stderr",
     "output_type": "stream",
     "text": [
      "\r",
      "running experiments:  70%|███████   | 70/100 [12:10<04:41,  9.38s/it]"
     ]
    },
    {
     "name": "stderr",
     "output_type": "stream",
     "text": [
      "\r",
      "running experiments:  71%|███████   | 71/100 [12:19<04:23,  9.09s/it]"
     ]
    },
    {
     "name": "stderr",
     "output_type": "stream",
     "text": [
      "\r",
      "running experiments:  72%|███████▏  | 72/100 [12:28<04:16,  9.16s/it]"
     ]
    },
    {
     "name": "stderr",
     "output_type": "stream",
     "text": [
      "\r",
      "running experiments:  73%|███████▎  | 73/100 [12:36<03:56,  8.74s/it]"
     ]
    },
    {
     "name": "stderr",
     "output_type": "stream",
     "text": [
      "\r",
      "running experiments:  74%|███████▍  | 74/100 [12:47<04:08,  9.54s/it]"
     ]
    },
    {
     "name": "stderr",
     "output_type": "stream",
     "text": [
      "\r",
      "running experiments:  75%|███████▌  | 75/100 [12:58<04:08,  9.93s/it]"
     ]
    },
    {
     "name": "stderr",
     "output_type": "stream",
     "text": [
      "\r",
      "running experiments:  76%|███████▌  | 76/100 [13:08<03:57,  9.88s/it]"
     ]
    },
    {
     "name": "stderr",
     "output_type": "stream",
     "text": [
      "\r",
      "running experiments:  77%|███████▋  | 77/100 [13:16<03:33,  9.28s/it]"
     ]
    },
    {
     "name": "stderr",
     "output_type": "stream",
     "text": [
      "\r",
      "running experiments:  78%|███████▊  | 78/100 [13:25<03:24,  9.30s/it]"
     ]
    },
    {
     "name": "stderr",
     "output_type": "stream",
     "text": [
      "\r",
      "running experiments:  79%|███████▉  | 79/100 [13:37<03:33, 10.17s/it]"
     ]
    },
    {
     "name": "stderr",
     "output_type": "stream",
     "text": [
      "\r",
      "running experiments:  80%|████████  | 80/100 [13:45<03:10,  9.54s/it]"
     ]
    },
    {
     "name": "stderr",
     "output_type": "stream",
     "text": [
      "\r",
      "running experiments:  81%|████████  | 81/100 [13:57<03:13, 10.16s/it]"
     ]
    },
    {
     "name": "stderr",
     "output_type": "stream",
     "text": [
      "\r",
      "running experiments:  82%|████████▏ | 82/100 [14:08<03:08, 10.49s/it]"
     ]
    },
    {
     "name": "stderr",
     "output_type": "stream",
     "text": [
      "\r",
      "running experiments:  83%|████████▎ | 83/100 [14:18<02:53, 10.21s/it]"
     ]
    },
    {
     "name": "stderr",
     "output_type": "stream",
     "text": [
      "\r",
      "running experiments:  84%|████████▍ | 84/100 [14:29<02:48, 10.50s/it]"
     ]
    },
    {
     "name": "stderr",
     "output_type": "stream",
     "text": [
      "\r",
      "running experiments:  85%|████████▌ | 85/100 [14:41<02:47, 11.15s/it]"
     ]
    },
    {
     "name": "stderr",
     "output_type": "stream",
     "text": [
      "\r",
      "running experiments:  86%|████████▌ | 86/100 [14:50<02:26, 10.45s/it]"
     ]
    },
    {
     "name": "stderr",
     "output_type": "stream",
     "text": [
      "\r",
      "running experiments:  87%|████████▋ | 87/100 [14:59<02:07,  9.83s/it]"
     ]
    },
    {
     "name": "stderr",
     "output_type": "stream",
     "text": [
      "\r",
      "running experiments:  88%|████████▊ | 88/100 [15:09<02:00, 10.06s/it]"
     ]
    },
    {
     "name": "stderr",
     "output_type": "stream",
     "text": [
      "\r",
      "running experiments:  89%|████████▉ | 89/100 [15:19<01:51, 10.11s/it]"
     ]
    },
    {
     "name": "stderr",
     "output_type": "stream",
     "text": [
      "\r",
      "running experiments:  90%|█████████ | 90/100 [15:28<01:37,  9.72s/it]"
     ]
    },
    {
     "name": "stderr",
     "output_type": "stream",
     "text": [
      "\r",
      "running experiments:  91%|█████████ | 91/100 [15:39<01:29,  9.91s/it]"
     ]
    },
    {
     "name": "stderr",
     "output_type": "stream",
     "text": [
      "\r",
      "running experiments:  92%|█████████▏| 92/100 [15:49<01:21, 10.21s/it]"
     ]
    },
    {
     "name": "stderr",
     "output_type": "stream",
     "text": [
      "\r",
      "running experiments:  93%|█████████▎| 93/100 [15:57<01:05,  9.42s/it]"
     ]
    },
    {
     "name": "stderr",
     "output_type": "stream",
     "text": [
      "\r",
      "running experiments:  94%|█████████▍| 94/100 [16:06<00:55,  9.33s/it]"
     ]
    },
    {
     "name": "stderr",
     "output_type": "stream",
     "text": [
      "\r",
      "running experiments:  95%|█████████▌| 95/100 [16:15<00:45,  9.04s/it]"
     ]
    },
    {
     "name": "stderr",
     "output_type": "stream",
     "text": [
      "\r",
      "running experiments:  96%|█████████▌| 96/100 [16:24<00:36,  9.21s/it]"
     ]
    },
    {
     "name": "stderr",
     "output_type": "stream",
     "text": [
      "\r",
      "running experiments:  97%|█████████▋| 97/100 [16:38<00:31, 10.58s/it]"
     ]
    },
    {
     "name": "stderr",
     "output_type": "stream",
     "text": [
      "\r",
      "running experiments:  98%|█████████▊| 98/100 [16:48<00:21, 10.52s/it]"
     ]
    },
    {
     "name": "stderr",
     "output_type": "stream",
     "text": [
      "\r",
      "running experiments:  99%|█████████▉| 99/100 [16:57<00:10, 10.02s/it]"
     ]
    },
    {
     "name": "stderr",
     "output_type": "stream",
     "text": [
      "\r",
      "running experiments: 100%|██████████| 100/100 [17:07<00:00,  9.93s/it]"
     ]
    },
    {
     "name": "stderr",
     "output_type": "stream",
     "text": [
      "\r",
      "running experiments: 100%|██████████| 100/100 [17:07<00:00, 10.27s/it]"
     ]
    },
    {
     "name": "stdout",
     "output_type": "stream",
     "text": [
      "CPU times: user 17min 5s, sys: 1.96 s, total: 17min 7s\n",
      "Wall time: 17min 7s\n"
     ]
    },
    {
     "name": "stderr",
     "output_type": "stream",
     "text": [
      "\n"
     ]
    }
   ],
   "source": [
    "\n",
    "%%time\n",
    "simulation.run_simulation(n_experiments, start_n, fit_params,shuffle_rows, pred_params, random_features, \\\n",
    "                          store_in_lists, save_eigenvector, save_hamiltonian, save_accuracy,\\\n",
    "                          save_models)\n",
    "if simulation.fourier_mode is not None:\n",
    "    simulation.fourier_dataframe.head(10)"
   ]
  },
  {
   "cell_type": "code",
   "execution_count": 28,
   "metadata": {
    "execution": {
     "iopub.execute_input": "2020-07-18T05:29:28.155384Z",
     "iopub.status.busy": "2020-07-18T05:29:28.155079Z",
     "iopub.status.idle": "2020-07-18T05:29:28.179542Z",
     "shell.execute_reply": "2020-07-18T05:29:28.180023Z"
    },
    "papermill": {
     "duration": 0.062437,
     "end_time": "2020-07-18T05:29:28.180124",
     "exception": false,
     "start_time": "2020-07-18T05:29:28.117687",
     "status": "completed"
    },
    "tags": []
   },
   "outputs": [
    {
     "data": {
      "text/html": [
       "<div>\n",
       "<style scoped>\n",
       "    .dataframe tbody tr th:only-of-type {\n",
       "        vertical-align: middle;\n",
       "    }\n",
       "\n",
       "    .dataframe tbody tr th {\n",
       "        vertical-align: top;\n",
       "    }\n",
       "\n",
       "    .dataframe thead th {\n",
       "        text-align: right;\n",
       "    }\n",
       "</style>\n",
       "<table border=\"1\" class=\"dataframe\">\n",
       "  <thead>\n",
       "    <tr style=\"text-align: right;\">\n",
       "      <th></th>\n",
       "      <th>id</th>\n",
       "      <th>path</th>\n",
       "      <th>t1</th>\n",
       "      <th>t2</th>\n",
       "      <th>winding</th>\n",
       "      <th>phase</th>\n",
       "      <th>pred_phase</th>\n",
       "      <th>type_of</th>\n",
       "      <th>feat0</th>\n",
       "      <th>feat1</th>\n",
       "      <th>...</th>\n",
       "      <th>feat90</th>\n",
       "      <th>feat91</th>\n",
       "      <th>feat92</th>\n",
       "      <th>feat93</th>\n",
       "      <th>feat94</th>\n",
       "      <th>feat95</th>\n",
       "      <th>feat96</th>\n",
       "      <th>feat97</th>\n",
       "      <th>feat98</th>\n",
       "      <th>feat99</th>\n",
       "    </tr>\n",
       "  </thead>\n",
       "  <tbody>\n",
       "    <tr>\n",
       "      <th>0</th>\n",
       "      <td>0</td>\n",
       "      <td>H_-2_-2_0.509296.dat</td>\n",
       "      <td>-2.0</td>\n",
       "      <td>-2.0</td>\n",
       "      <td>0.509296</td>\n",
       "      <td>999</td>\n",
       "      <td>666</td>\n",
       "      <td>test</td>\n",
       "      <td>0.100000</td>\n",
       "      <td>0.100000</td>\n",
       "      <td>...</td>\n",
       "      <td>0.100000</td>\n",
       "      <td>0.100000</td>\n",
       "      <td>0.100000</td>\n",
       "      <td>0.100000</td>\n",
       "      <td>0.100000</td>\n",
       "      <td>0.100000</td>\n",
       "      <td>0.100000</td>\n",
       "      <td>0.100000</td>\n",
       "      <td>0.100000</td>\n",
       "      <td>0.100000</td>\n",
       "    </tr>\n",
       "    <tr>\n",
       "      <th>1</th>\n",
       "      <td>0</td>\n",
       "      <td>H_-2_-2_0.509296.dat</td>\n",
       "      <td>-2.0</td>\n",
       "      <td>-2.0</td>\n",
       "      <td>0.509296</td>\n",
       "      <td>999</td>\n",
       "      <td>666</td>\n",
       "      <td>test</td>\n",
       "      <td>0.141421</td>\n",
       "      <td>0.141142</td>\n",
       "      <td>...</td>\n",
       "      <td>0.114412</td>\n",
       "      <td>0.108967</td>\n",
       "      <td>0.123928</td>\n",
       "      <td>0.119406</td>\n",
       "      <td>0.131490</td>\n",
       "      <td>0.127962</td>\n",
       "      <td>0.136978</td>\n",
       "      <td>0.134500</td>\n",
       "      <td>0.140306</td>\n",
       "      <td>0.138916</td>\n",
       "    </tr>\n",
       "    <tr>\n",
       "      <th>2</th>\n",
       "      <td>0</td>\n",
       "      <td>H_-2_-2_0.509296.dat</td>\n",
       "      <td>-2.0</td>\n",
       "      <td>-2.0</td>\n",
       "      <td>0.509296</td>\n",
       "      <td>999</td>\n",
       "      <td>666</td>\n",
       "      <td>test</td>\n",
       "      <td>0.141421</td>\n",
       "      <td>0.140306</td>\n",
       "      <td>...</td>\n",
       "      <td>0.043702</td>\n",
       "      <td>0.026500</td>\n",
       "      <td>0.075777</td>\n",
       "      <td>0.060214</td>\n",
       "      <td>0.103092</td>\n",
       "      <td>0.090145</td>\n",
       "      <td>0.123928</td>\n",
       "      <td>0.114412</td>\n",
       "      <td>0.136978</td>\n",
       "      <td>0.131490</td>\n",
       "    </tr>\n",
       "    <tr>\n",
       "      <th>3</th>\n",
       "      <td>0</td>\n",
       "      <td>H_-2_-2_0.509296.dat</td>\n",
       "      <td>-2.0</td>\n",
       "      <td>-2.0</td>\n",
       "      <td>0.509296</td>\n",
       "      <td>999</td>\n",
       "      <td>666</td>\n",
       "      <td>test</td>\n",
       "      <td>-0.100000</td>\n",
       "      <td>0.100000</td>\n",
       "      <td>...</td>\n",
       "      <td>-0.100000</td>\n",
       "      <td>0.100000</td>\n",
       "      <td>-0.100000</td>\n",
       "      <td>0.100000</td>\n",
       "      <td>-0.100000</td>\n",
       "      <td>0.100000</td>\n",
       "      <td>-0.100000</td>\n",
       "      <td>0.100000</td>\n",
       "      <td>-0.100000</td>\n",
       "      <td>0.100000</td>\n",
       "    </tr>\n",
       "    <tr>\n",
       "      <th>4</th>\n",
       "      <td>0</td>\n",
       "      <td>H_-2_-2_0.509296.dat</td>\n",
       "      <td>-2.0</td>\n",
       "      <td>-2.0</td>\n",
       "      <td>0.509296</td>\n",
       "      <td>999</td>\n",
       "      <td>666</td>\n",
       "      <td>test</td>\n",
       "      <td>0.000509</td>\n",
       "      <td>-0.008372</td>\n",
       "      <td>...</td>\n",
       "      <td>-0.082713</td>\n",
       "      <td>-0.089753</td>\n",
       "      <td>-0.067684</td>\n",
       "      <td>-0.075347</td>\n",
       "      <td>-0.051587</td>\n",
       "      <td>-0.059753</td>\n",
       "      <td>-0.034677</td>\n",
       "      <td>-0.043217</td>\n",
       "      <td>-0.017220</td>\n",
       "      <td>-0.026000</td>\n",
       "    </tr>\n",
       "    <tr>\n",
       "      <th>5</th>\n",
       "      <td>0</td>\n",
       "      <td>H_-2_-2_0.509296.dat</td>\n",
       "      <td>-2.0</td>\n",
       "      <td>-2.0</td>\n",
       "      <td>0.509296</td>\n",
       "      <td>999</td>\n",
       "      <td>666</td>\n",
       "      <td>test</td>\n",
       "      <td>0.001204</td>\n",
       "      <td>-0.016530</td>\n",
       "      <td>...</td>\n",
       "      <td>-0.134123</td>\n",
       "      <td>-0.138686</td>\n",
       "      <td>-0.118757</td>\n",
       "      <td>-0.127445</td>\n",
       "      <td>-0.095929</td>\n",
       "      <td>-0.108196</td>\n",
       "      <td>-0.067073</td>\n",
       "      <td>-0.082149</td>\n",
       "      <td>-0.034003</td>\n",
       "      <td>-0.050940</td>\n",
       "    </tr>\n",
       "    <tr>\n",
       "      <th>6</th>\n",
       "      <td>0</td>\n",
       "      <td>H_-2_-2_0.509296.dat</td>\n",
       "      <td>-2.0</td>\n",
       "      <td>-2.0</td>\n",
       "      <td>0.509296</td>\n",
       "      <td>999</td>\n",
       "      <td>666</td>\n",
       "      <td>test</td>\n",
       "      <td>-0.141421</td>\n",
       "      <td>-0.138980</td>\n",
       "      <td>...</td>\n",
       "      <td>0.043375</td>\n",
       "      <td>0.067830</td>\n",
       "      <td>-0.009222</td>\n",
       "      <td>0.017385</td>\n",
       "      <td>-0.060524</td>\n",
       "      <td>-0.035502</td>\n",
       "      <td>-0.103326</td>\n",
       "      <td>-0.083403</td>\n",
       "      <td>-0.131616</td>\n",
       "      <td>-0.119589</td>\n",
       "    </tr>\n",
       "    <tr>\n",
       "      <th>7</th>\n",
       "      <td>0</td>\n",
       "      <td>H_-2_-2_0.509296.dat</td>\n",
       "      <td>-2.0</td>\n",
       "      <td>-2.0</td>\n",
       "      <td>0.509296</td>\n",
       "      <td>999</td>\n",
       "      <td>666</td>\n",
       "      <td>test</td>\n",
       "      <td>-0.000826</td>\n",
       "      <td>0.025688</td>\n",
       "      <td>...</td>\n",
       "      <td>0.134753</td>\n",
       "      <td>0.124324</td>\n",
       "      <td>0.141088</td>\n",
       "      <td>0.140407</td>\n",
       "      <td>0.127608</td>\n",
       "      <td>0.136771</td>\n",
       "      <td>0.096206</td>\n",
       "      <td>0.113925</td>\n",
       "      <td>0.051292</td>\n",
       "      <td>0.075079</td>\n",
       "    </tr>\n",
       "    <tr>\n",
       "      <th>8</th>\n",
       "      <td>0</td>\n",
       "      <td>H_-2_-2_0.509296.dat</td>\n",
       "      <td>-2.0</td>\n",
       "      <td>-2.0</td>\n",
       "      <td>0.509296</td>\n",
       "      <td>999</td>\n",
       "      <td>666</td>\n",
       "      <td>test</td>\n",
       "      <td>0.141417</td>\n",
       "      <td>0.136684</td>\n",
       "      <td>...</td>\n",
       "      <td>-0.115093</td>\n",
       "      <td>-0.131915</td>\n",
       "      <td>-0.061266</td>\n",
       "      <td>-0.091040</td>\n",
       "      <td>0.007717</td>\n",
       "      <td>-0.027643</td>\n",
       "      <td>0.074791</td>\n",
       "      <td>0.042592</td>\n",
       "      <td>0.123363</td>\n",
       "      <td>0.102291</td>\n",
       "    </tr>\n",
       "    <tr>\n",
       "      <th>9</th>\n",
       "      <td>0</td>\n",
       "      <td>H_-2_-2_0.509296.dat</td>\n",
       "      <td>-2.0</td>\n",
       "      <td>-2.0</td>\n",
       "      <td>0.509296</td>\n",
       "      <td>999</td>\n",
       "      <td>666</td>\n",
       "      <td>test</td>\n",
       "      <td>0.001302</td>\n",
       "      <td>0.036430</td>\n",
       "      <td>...</td>\n",
       "      <td>0.082068</td>\n",
       "      <td>0.050848</td>\n",
       "      <td>0.127402</td>\n",
       "      <td>0.108132</td>\n",
       "      <td>0.141218</td>\n",
       "      <td>0.138667</td>\n",
       "      <td>0.120099</td>\n",
       "      <td>0.134896</td>\n",
       "      <td>0.069268</td>\n",
       "      <td>0.097755</td>\n",
       "    </tr>\n",
       "  </tbody>\n",
       "</table>\n",
       "<p>10 rows × 108 columns</p>\n",
       "</div>"
      ],
      "text/plain": [
       "   id                  path   t1   t2   winding  phase  pred_phase type_of  \\\n",
       "0   0  H_-2_-2_0.509296.dat -2.0 -2.0  0.509296    999         666    test   \n",
       "1   0  H_-2_-2_0.509296.dat -2.0 -2.0  0.509296    999         666    test   \n",
       "2   0  H_-2_-2_0.509296.dat -2.0 -2.0  0.509296    999         666    test   \n",
       "3   0  H_-2_-2_0.509296.dat -2.0 -2.0  0.509296    999         666    test   \n",
       "4   0  H_-2_-2_0.509296.dat -2.0 -2.0  0.509296    999         666    test   \n",
       "5   0  H_-2_-2_0.509296.dat -2.0 -2.0  0.509296    999         666    test   \n",
       "6   0  H_-2_-2_0.509296.dat -2.0 -2.0  0.509296    999         666    test   \n",
       "7   0  H_-2_-2_0.509296.dat -2.0 -2.0  0.509296    999         666    test   \n",
       "8   0  H_-2_-2_0.509296.dat -2.0 -2.0  0.509296    999         666    test   \n",
       "9   0  H_-2_-2_0.509296.dat -2.0 -2.0  0.509296    999         666    test   \n",
       "\n",
       "      feat0     feat1  ...    feat90    feat91    feat92    feat93    feat94  \\\n",
       "0  0.100000  0.100000  ...  0.100000  0.100000  0.100000  0.100000  0.100000   \n",
       "1  0.141421  0.141142  ...  0.114412  0.108967  0.123928  0.119406  0.131490   \n",
       "2  0.141421  0.140306  ...  0.043702  0.026500  0.075777  0.060214  0.103092   \n",
       "3 -0.100000  0.100000  ... -0.100000  0.100000 -0.100000  0.100000 -0.100000   \n",
       "4  0.000509 -0.008372  ... -0.082713 -0.089753 -0.067684 -0.075347 -0.051587   \n",
       "5  0.001204 -0.016530  ... -0.134123 -0.138686 -0.118757 -0.127445 -0.095929   \n",
       "6 -0.141421 -0.138980  ...  0.043375  0.067830 -0.009222  0.017385 -0.060524   \n",
       "7 -0.000826  0.025688  ...  0.134753  0.124324  0.141088  0.140407  0.127608   \n",
       "8  0.141417  0.136684  ... -0.115093 -0.131915 -0.061266 -0.091040  0.007717   \n",
       "9  0.001302  0.036430  ...  0.082068  0.050848  0.127402  0.108132  0.141218   \n",
       "\n",
       "     feat95    feat96    feat97    feat98    feat99  \n",
       "0  0.100000  0.100000  0.100000  0.100000  0.100000  \n",
       "1  0.127962  0.136978  0.134500  0.140306  0.138916  \n",
       "2  0.090145  0.123928  0.114412  0.136978  0.131490  \n",
       "3  0.100000 -0.100000  0.100000 -0.100000  0.100000  \n",
       "4 -0.059753 -0.034677 -0.043217 -0.017220 -0.026000  \n",
       "5 -0.108196 -0.067073 -0.082149 -0.034003 -0.050940  \n",
       "6 -0.035502 -0.103326 -0.083403 -0.131616 -0.119589  \n",
       "7  0.136771  0.096206  0.113925  0.051292  0.075079  \n",
       "8 -0.027643  0.074791  0.042592  0.123363  0.102291  \n",
       "9  0.138667  0.120099  0.134896  0.069268  0.097755  \n",
       "\n",
       "[10 rows x 108 columns]"
      ]
     },
     "execution_count": 28,
     "metadata": {},
     "output_type": "execute_result"
    }
   ],
   "source": [
    "simulation.dataframe.head(10)"
   ]
  },
  {
   "cell_type": "markdown",
   "metadata": {
    "papermill": {
     "duration": 0.036353,
     "end_time": "2020-07-18T05:29:28.257184",
     "exception": false,
     "start_time": "2020-07-18T05:29:28.220831",
     "status": "completed"
    },
    "tags": []
   },
   "source": [
    "#### Viewing a random sample"
   ]
  },
  {
   "cell_type": "code",
   "execution_count": 29,
   "metadata": {
    "execution": {
     "iopub.execute_input": "2020-07-18T05:29:28.329328Z",
     "iopub.status.busy": "2020-07-18T05:29:28.329021Z",
     "iopub.status.idle": "2020-07-18T05:29:28.374196Z",
     "shell.execute_reply": "2020-07-18T05:29:28.373882Z"
    },
    "papermill": {
     "duration": 0.082023,
     "end_time": "2020-07-18T05:29:28.374248",
     "exception": false,
     "start_time": "2020-07-18T05:29:28.292225",
     "status": "completed"
    },
    "tags": []
   },
   "outputs": [
    {
     "name": "stdout",
     "output_type": "stream",
     "text": [
      "CPU times: user 34.9 ms, sys: 9 µs, total: 34.9 ms\n",
      "Wall time: 34.7 ms\n"
     ]
    }
   ],
   "source": [
    "%%time\n",
    "if simulation.fourier_mode is not None:\n",
    "    simulation.fourier_dataframe.sample(frac=0.1, replace=False)"
   ]
  },
  {
   "cell_type": "markdown",
   "metadata": {
    "papermill": {
     "duration": 0.035864,
     "end_time": "2020-07-18T05:29:28.446571",
     "exception": false,
     "start_time": "2020-07-18T05:29:28.410707",
     "status": "completed"
    },
    "tags": []
   },
   "source": [
    "#### Checking train/val/test splits again"
   ]
  },
  {
   "cell_type": "code",
   "execution_count": 30,
   "metadata": {
    "execution": {
     "iopub.execute_input": "2020-07-18T05:29:28.519870Z",
     "iopub.status.busy": "2020-07-18T05:29:28.519551Z",
     "iopub.status.idle": "2020-07-18T05:29:28.717994Z",
     "shell.execute_reply": "2020-07-18T05:29:28.717665Z"
    },
    "papermill": {
     "duration": 0.235944,
     "end_time": "2020-07-18T05:29:28.718072",
     "exception": false,
     "start_time": "2020-07-18T05:29:28.482128",
     "status": "completed"
    },
    "tags": []
   },
   "outputs": [
    {
     "name": "stdout",
     "output_type": "stream",
     "text": [
      "% train:  0.08474317939338516\n",
      "% val:  0.7620789513793629\n",
      "% test:  0.15317786922725193\n",
      "% train + val + test:  1.0\n",
      "\n",
      "\n",
      "number of train hamiltonians:  556\n",
      "number of val hamiltonians:  5000\n",
      "number of test hamiltonians:  1005\n",
      "total number of hamiltonians:  6561\n",
      "\n",
      "\n",
      "train ids:  [2487, 4366, 3472, 3349, 549, 1219, 1108, 3575, 2084, 5959, 2335, 2410, 6005, 3496, 5472, 6249, 179, 2601, 3398, 5369, 36, 5382, 675, 1303, 6427, 150, 4005, 5476, 2477, 1481, 2266, 438, 3770, 301, 1823, 4106, 5435, 3811, 667, 6530, 2979, 2062, 1373, 5111, 6535, 683, 1505, 5114, 5239, 5296, 1203, 626, 1959, 2782, 4307, 3995, 4631, 6371, 3528, 6119, 2195, 3428, 5424, 3546, 2259, 6301, 3815, 4174, 4893, 4026, 3557, 4227, 933, 3806, 2390, 5308, 6433, 2437, 3573, 2393, 6281, 2308, 5018, 679, 874, 6529, 5606, 4051, 4780, 4797, 2039, 2407, 3050, 2909, 5963, 6546, 3568, 4911, 4466, 3571, 4463, 4706, 2664, 3802, 2848, 689, 2576, 2370, 1332, 3801, 6373, 1354, 6450, 1044, 541, 5614, 2031, 3475, 5878, 4732, 5030, 3032, 5708, 1743, 2361, 4081, 12, 1995, 4381, 450, 5938, 2382, 3823, 4220, 4058, 5770, 2245, 3323, 4324, 1991, 3412, 3442, 4169, 2060, 1292, 421, 5297, 4175, 4489, 176, 1944, 6545, 6409, 581, 5866, 707, 4629, 3829, 4376, 4200, 3603, 4658, 937, 1036, 6485, 6035, 1005, 4847, 583, 5815, 1080, 6166, 4001, 949, 1340, 4070, 2740, 174, 3523, 5719, 2090, 3558, 6275, 4078, 4850, 3305, 1425, 116, 3912, 2272, 2135, 6253, 1092, 5860, 5508, 2808, 1187, 4015, 838, 3661, 6276, 1875, 3111, 5686, 3229, 614, 6210, 6187, 3969, 4460, 48, 193, 3245, 1664, 4943, 4369, 3471, 3945, 6488, 2829, 1788, 4737, 2866, 4459, 6413, 1982, 5893, 4783, 4478, 3431, 5015, 68, 1008, 5525, 2359, 503, 4694, 3643, 6491, 1438, 231, 2579, 1603, 3997, 1236, 939, 4434, 755, 3239, 2114, 3994, 3091, 2182, 622, 1186, 4293, 627, 4683, 6354, 3696, 3794, 914, 175, 4749, 122, 4475, 2273, 6174, 4360, 2950, 3797, 4416, 2065, 3762, 2025, 4887, 5924, 1616, 2650, 5594, 6356, 629, 3169, 1943, 4656, 284, 909, 192, 3828, 5834, 2219, 764, 4443, 5518, 6051, 3028, 2443, 3209, 4469, 5363, 4388, 5698, 3433, 4734, 4022, 2820, 4474, 4543, 4271, 183, 5340, 5467, 4415, 1832, 4062, 5926, 3106, 2431, 3897, 2315, 1464, 3497, 258, 5393, 863, 5208, 4785, 4865, 1594, 2070, 3112, 120, 3963, 3465, 3996, 198, 887, 3230, 3610, 6541, 4542, 4548, 6135, 4905, 4796, 5466, 125, 3289, 1185, 2187, 3512, 3778, 6223, 2959, 6045, 4565, 5307, 3027, 1378, 4365, 5181, 1771, 1164, 3931, 4690, 1923, 2891, 4298, 6504, 5889, 6176, 1249, 2687, 2106, 1267, 3644, 144, 4450, 3625, 2669, 6084, 1660, 2566, 2751, 5155, 6214, 4065, 378, 1183, 6216, 6407, 5516, 6538, 2943, 287, 5342, 2183, 22, 3611, 6038, 2158, 6375, 1612, 4968, 4636, 5882, 40, 536, 1084, 5146, 3270, 4395, 2328, 4464, 3533, 6108, 870, 3703, 4242, 4638, 6263, 5771, 3484, 6203, 5552, 1135, 2966, 4752, 2957, 2465, 3621, 355, 2977, 1918, 1925, 4500, 387, 344, 6075, 6359, 4709, 2185, 4454, 3776, 459, 4875, 6487, 3075, 18, 2253, 4711, 2865, 5140, 2507, 5196, 4665, 110, 3886, 1833, 3004, 916, 1652, 2449, 1382, 2563, 4505, 2372, 6028, 45, 1661, 1525, 1454, 3029, 888, 1809, 4157, 6285, 3870, 6347, 2675, 2791, 5773, 4854, 4664, 2434, 2422, 2975, 2862, 4745, 5873, 5767, 4331, 2476, 1698, 3500, 5301, 5016, 6509, 5425, 4445, 420, 323, 5867, 3455, 3530, 3292, 602, 4931, 207, 20, 3580, 1735, 2425, 5351, 5966, 4226, 3498, 3534, 4872, 4914, 5849, 3264, 930, 298, 1428, 3267, 1128, 3540, 3800, 4193, 6026, 1402, 1273, 5806, 2038, 4033, 521, 3676, 5976, 2102, 1583, 1288, 1196, 1048, 205, 2399, 522, 4585, 2697, 3248, 3470, 3748, 3584, 2577, 4333, 6422]\n",
      "val ids:  [759, 1852, 4217, 2122, 3092, 1252, 69, 3732, 3211, 5613, 2279, 2527, 3746, 6457, 2200, 1961, 3425, 6467, 5671, 4713, 201, 3694, 1014, 3333, 4260, 4277, 692, 999, 3805, 4327, 1905, 771, 5733, 1768, 1209, 5810, 5714, 6453, 188, 1758, 3071, 4987, 4075, 1929, 5300, 5150, 3810, 2715, 5951, 6029, 6200, 6190, 4048, 283, 2436, 5185, 4928, 3808, 1035, 3595, 2157, 6094, 1868, 2232, 4143, 3061, 5813, 4052, 196, 2700, 923, 4700, 2709, 1260, 32, 4191, 4024, 4546, 3103, 427, 4364, 5693, 4178, 5063, 4053, 2867, 5728, 5304, 5175, 691, 3458, 1870, 1572, 6126, 3618, 2686, 3237, 6083, 3976, 1818, 3789, 2933, 3055, 3513, 1867, 2014, 5156, 6428, 307, 6377, 2416, 3543, 157, 3832, 1411, 1897, 5212, 5399, 3704, 6244, 195, 4553, 5647, 1877, 382, 6302, 5097, 5595, 5075, 6418, 349, 6273, 3260, 4280, 5853, 5060, 5381, 5801, 789, 4716, 3604, 1163, 9, 2736, 5565, 4425, 5403, 535, 5094, 3655, 788, 5202, 2662, 1685, 4697, 1322, 4440, 6059, 4130, 3090, 2708, 3478, 6186, 2961, 5865, 2564, 2735, 1534, 2263, 3344, 3551, 3972, 2941, 4939, 4566, 2802, 3334, 3308, 279, 4623, 4086, 3337, 618, 2842, 1836, 3860, 3914, 2310, 126, 2163, 2221, 2116, 1457, 6501, 3594, 2609, 232, 6246, 119, 630, 3067, 4635, 2344, 2530, 3212, 4648, 6042, 5035, 4975, 6333, 3339, 4477, 2722, 1623, 5357, 678, 2442, 963, 3942, 1190, 5562, 2334, 2252, 4237, 1550, 5592, 5104, 2409, 1611, 4520, 3314, 4698, 1460, 4192, 2247, 4644, 5434, 4423, 29, 2257, 4273, 5551, 3971, 3521, 3051, 3718, 4334, 1258, 3849, 5460, 4215, 5710, 4863, 1375, 3885, 4259, 3018, 2729, 4583, 1351, 2931, 477, 2747, 1030, 4202, 2938, 2406, 4403, 1587, 3866, 1432, 3730, 2499, 4660, 3901, 3563, 1535, 4827, 3941, 3613, 950, 4792, 2009, 2191, 1860, 4779, 4611, 4703, 2954, 2890, 5309, 6265, 373, 5871, 2750, 4167, 6037, 4555, 2690, 317, 4290, 2398, 4972, 1567, 1789, 3549, 3615, 4910, 6444, 3514, 5863, 5074, 43, 4655, 2194, 3504, 2430, 3191, 5220, 5350, 784, 1132, 1947, 4621, 6461, 3887, 5689, 3351, 5026, 4534, 3785, 5846, 2691, 1952, 748, 6173, 1548, 2082, 1417, 1595, 1434, 4122, 3653, 4657, 1097, 5182, 6224, 3681, 1091, 2574, 215, 2818, 3320, 1790, 2274, 1515, 3960, 4159, 2987, 2261, 3261, 938, 5122, 6283, 4177, 5422, 4867, 598, 6184, 4139, 969, 1295, 1502, 2141, 2061, 2636, 931, 6346, 6106, 3397, 1598, 1793, 4877, 3394, 2719, 5560, 5203, 5559, 608, 3321, 2558, 6306, 2894, 3491, 2004, 5047, 586, 5674, 5095, 725, 2010, 6271, 3483, 1055, 5019, 6344, 4135, 6286, 1829, 6021, 99, 2855, 5052, 1159, 4172, 3269, 846, 3031, 1450, 1825, 1592, 2242, 3825, 2593, 6060, 3160, 624, 4909, 1927, 1353, 5916, 5885, 3473, 4118, 5429, 5780, 4186, 1792, 1456, 2629, 1162, 35, 3331, 5855, 1372, 6248, 262, 3113, 5769, 3434, 3413, 4128, 3030, 356, 4190, 4551, 4812, 137, 354, 5751, 869, 4328, 693, 4712, 1191, 2744, 383, 3355, 3637, 2689, 2316, 5131, 3058, 1844, 530, 2893, 2881, 3424, 5877, 3094, 2314, 221, 3841, 2825, 5198, 4270, 840, 4042, 206, 2819, 6270, 1293, 1257, 4782, 3654, 1330, 1879, 2301, 4628, 3553, 2614, 520, 49, 4906, 919, 6348, 1785, 4777, 4077, 3390, 858, 3410, 1729, 1169, 1377, 3983, 155, 1776, 2223, 4825, 1449, 5527, 2167, 4197, 212, 4161, 1980, 5549, 1420, 3099, 4195, 6289, 1524, 2230, 3489, 418, 953, 948, 3479, 924, 5303, 3148, 3387, 2044, 3919, 6121, 3020, 3788, 1329, 2644, 3254, 5136, 4225, 1628, 5880, 2404, 5705, 4545, 2983, 4531, 5242, 6117, 5234, 5802, 389, 1410, 1749, 2683, 2587, 3037, 2817, 1451, 4834, 3359, 584, 6426, 6493, 1188, 3865, 1424, 4411, 1029, 5454, 676, 2020, 4606, 553, 5723, 6338, 2011, 945, 1266, 3157, 4952, 5638, 552, 6011, 5887, 4699, 4944, 6025, 540, 2958, 1903, 1566, 1072, 2281, 4056, 2838, 917, 3957, 5102, 5270, 2595, 1298, 4413, 5046, 5696, 1625, 6514, 5216, 4368, 3348, 312, 1650, 643, 5432, 1011, 4093, 3287, 2803, 3023, 1015, 2490, 5930, 3136, 1812, 4886, 4292, 214, 2205, 3955, 6085, 4855, 6483, 1134, 972, 6142, 4027, 4898, 2892, 1276, 5291, 6089, 1013, 4941, 615, 5226, 4163, 1455, 1043, 2366, 1779, 4614, 6125, 780, 3142, 4251, 1335, 1165, 5851, 1853, 6439, 4010, 2208, 3837, 2875, 5384, 528, 4617, 5438, 346, 4501, 6350, 5588, 1123, 1740, 554, 5954, 4890, 4304, 4586, 3642, 1461, 5676, 2594, 5161, 2518, 704, 4113, 5944, 1713, 2419, 1573, 3537, 4809, 5941, 4087, 5347, 5159, 2072, 4171, 2237, 1838, 2260, 135, 5515, 1695, 3529, 5891, 316, 1738, 5282, 6009, 3747, 3812, 774, 4646, 6036, 2756, 4329, 6132, 3414, 4731, 1010, 4303, 2412, 2546, 4361, 5346, 3989, 2173, 564, 4300, 6352, 5791, 185, 5856, 4637, 440, 4746, 5563, 208, 4131, 3956, 3930, 6278, 6297, 5021, 3968, 2733, 4739, 5402, 5386, 5892, 2667, 197, 994, 2557, 855, 1409, 4371, 3363, 3122, 2475, 4216, 1588, 2086, 2913, 2839, 4223, 6139, 2936, 3894, 6466, 2368, 2757, 6048, 861, 5389, 4305, 2637, 261, 1653, 286, 47, 834, 1358, 1537, 2058, 3723, 5446, 3097, 5788, 3354, 270, 2573, 30, 4209, 6292, 1822, 4283, 1038, 4031, 754, 4742, 4882, 501, 6290, 4002, 4414, 3376, 5646, 3163, 3201, 1095, 3683, 1321, 5061, 4110, 4608, 3152, 2900, 6365, 5451, 3787, 4150, 57, 6505, 5043, 4187, 3522, 5542, 1136, 3166, 4399, 3751, 5109, 6383, 3221, 2634, 4153, 5724, 6122, 235, 422, 1630, 5875, 2066, 1817, 1780, 4330, 2702, 6410, 538, 3741, 1753, 4097, 3126, 2681, 674, 4164, 796, 3234, 5955, 1574, 1856, 4974, 5725, 4199, 6287, 3193, 2764, 3340, 3915, 21, 3132, 133, 5623, 3816, 3685, 1518, 3737, 2611, 504, 2555, 4239, 2341, 118, 5320, 5957, 4323, 628, 3547, 145, 890, 2535, 456, 6495, 3365, 1381, 5385, 4380, 2249, 3330, 4281, 3554, 2017, 3565, 2666, 4341, 6040, 884, 1367, 1951, 6469, 6526, 257, 5879, 2841, 1762, 3427, 2156, 3992, 5372, 5570, 4317, 3634, 5624, 6198, 5804, 3589, 4823, 2759, 2204, 509, 3430, 5058, 5778, 5395, 65, 4258, 6425, 2178, 2300, 5400, 4158, 4750, 867, 1325, 6116, 4243, 1247, 5805, 1433, 4601, 3819, 3953, 2055, 4091, 3203, 705, 3821, 2137, 3645, 3943, 6512, 1797, 5110, 3415, 3011, 2620, 3783, 6114, 430, 2969, 1289, 3147, 4291, 5219, 2618, 2391, 4813, 3276, 5611, 3734, 1975, 3967, 1581, 4602, 3570, 107, 5641, 5631, 5720, 5627, 5864, 5637, 5814, 3616, 2513, 6299, 1894, 3437, 3640, 2774, 1500, 4930, 5564, 148, 644, 670, 3695, 1871, 599, 4948, 4845, 1261, 2532, 1700, 1364, 3692, 1962, 1492, 515, 3766, 763, 5137, 2863, 4285, 726, 505, 5100, 2528, 6445, 5433, 6438, 4581, 3597, 1777, 5367, 4422, 777, 4095, 4162, 3063, 6262, 2965, 603, 4568, 146, 3702, 2426, 4496, 5793, 2198, 5509, 2613, 5635, 4523, 291, 6097, 1213, 3804, 4915, 6128, 3940, 4248, 6523, 5207, 2810, 848, 3277, 1081, 67, 3218, 1863, 3626, 4516, 2915, 3939, 3453, 3316, 3275, 1847, 4663, 891, 1264, 1326, 5152, 1931, 752, 4684, 5700, 5106, 2381, 5217, 6164, 2057, 1842, 3505, 694, 2478, 103, 3890, 358, 1539, 6023, 4044, 5186, 1810, 6279, 1195, 4453, 4891, 315, 3151, 1936, 681, 6181, 3161, 3443, 3799, 5057, 3404, 6129, 4612, 1892, 853, 2152, 4142, 2037, 3576, 6268, 2018, 4034, 6448, 5688, 2338, 842, 1763, 466, 132, 2453, 3851, 58, 616, 6366, 5859, 264, 3923, 4179, 5533, 2413, 371, 2835, 2241, 6163, 375, 263, 2524, 746, 2438, 4088, 4525, 5550, 3104, 4526, 4554, 3127, 3973, 2988, 1862, 2239, 5811, 6343, 3902, 3577, 13, 3777, 4497, 3977, 6543, 6171, 5546, 1564, 2144, 3374, 2768, 4990, 3617, 2385, 1622, 5621, 3352, 828, 5485, 5029, 1290, 5692, 4857, 6093, 357, 2142, 3535, 5649, 605, 5055, 1693, 224, 2497, 3041, 5049, 4535, 5405, 677, 5273, 2033, 5143, 2277, 2688, 4828, 2526, 3539, 5677, 3574, 593, 5633, 1569, 2847, 1181, 3627, 1715, 3045, 4995, 4769, 4114, 3921, 965, 6443, 6518, 713, 3494, 3288, 1506, 71, 4816, 992, 1412, 5617, 5622, 594, 3243, 3556, 5221, 5795, 2355, 2392, 130, 595, 1238, 1579, 2754, 6115, 4194, 1769, 1523, 5651, 970, 1728, 104, 4012, 1992, 5561, 3624, 6057, 429, 4808, 386, 1337, 5534, 1445, 5960, 1950, 6031, 5053, 6432, 3559, 690, 1504, 5691, 2383, 3409, 841, 5540, 3647, 3408, 4693, 236, 4866, 5886, 3313, 1859, 1485, 5675, 843, 1676, 1824, 1733, 3780, 4274, 2168, 4250, 1530, 3129, 2953, 3881, 1133, 3824, 3046, 1940, 2596, 3786, 3026, 1486, 4946, 2615, 288, 3740, 3450, 4768, 3385, 4564, 4738, 4622, 3742, 1138, 851, 6277, 52, 6006, 1821, 1783, 1669, 2506, 5258, 3917, 1527, 5833, 4727, 4576, 475, 6131, 1522, 4063, 4889, 2169, 940, 1319, 5222, 2019, 189, 3952, 6191, 3005, 1895, 5596, 4057, 3859, 5843, 2176, 1494, 767, 1021, 1747, 3834, 646, 6256, 4218, 2093, 5228, 2742, 4072, 5352, 1111, 5375, 1493, 294, 1384, 3844, 6532, 2926, 462, 2990, 3709, 3309, 6522, 850, 5177, 2251, 3961, 2783, 3301, 4066, 4092, 3714, 5648, 3506, 2649, 3652, 4532, 2042, 6218, 1376, 2225, 3109, 1054, 2621, 2339, 5729, 5459, 376, 280, 6446, 2505, 1748, 1239, 6499, 2631, 1006, 4418, 1205, 4126, 6452, 1744, 5529, 4284, 2255, 3975, 3467, 27, 4912, 2327, 728, 4211, 4772, 1462, 3607, 1930, 5685, 4869, 3168, 1998, 2032, 1161, 1179, 5037, 3070, 6127, 3222, 3240, 1212, 1189, 6420, 4168, 2481, 6254, 290, 4387, 2884, 2109, 2897, 1090, 5945, 2064, 832, 4089, 6460, 4790, 4763, 1178, 1911, 4950, 1216, 3721, 5179, 2885, 6014, 3377, 3664, 2659, 1437, 3242, 2312, 1427, 4188, 2770, 5964, 3192, 5184, 2330, 4306, 2673, 803, 3745, 4695, 2772, 1215, 2432, 1262, 5034, 2971, 3813, 6269, 5786, 1466, 4073, 1624, 1037, 1453, 5971, 2674, 526, 2357, 3561, 2544, 6046, 5612, 5556, 6024, 2411, 2692, 5474, 5481, 5672, 5423, 5477, 3364, 114, 1893, 2713, 1406, 770, 2104, 3606, 4318, 436, 3633, 121, 2859, 128, 1796, 5554, 1105, 664, 3144, 3775, 2028, 3905, 5118, 4499, 4733, 1926, 5996, 4036, 621, 2922, 2117, 6189, 1026, 6091, 968, 5644, 6536, 2972, 4811, 611, 3405, 2094, 2189, 2814, 268, 543, 4319, 3545, 5615, 5717, 5294, 544, 1988, 1541, 4286, 6202, 6010, 395, 1937, 3162, 4524, 2319, 4980, 1597, 6137, 1906, 2597, 97, 44, 2068, 6058, 4342, 2519, 645, 3990, 1563, 1891, 6030, 5427, 1954, 4353, 2098, 5070, 6167, 2286, 4598, 2386, 5099, 2369, 4282, 4984, 2489, 1374, 1155, 6376, 4473, 2562, 5632, 4145, 1899, 4050, 3722, 4117, 2435, 4632, 5803, 3605, 3088, 5278, 4316, 2013, 4970, 4003, 6124, 5629, 101, 4934, 5535, 1517, 1712, 3231, 2703, 3399, 1739, 3846, 3779, 50, 1211, 5975, 1935, 3482, 1419, 4530, 4482, 3236, 942, 2172, 1696, 532, 5232, 180, 1647, 2030, 3452, 3296, 2275, 2207, 3386, 3007, 1176, 5754, 6496, 5961, 6295, 3798, 4653, 4582, 3864, 2073, 5620, 1602, 4831, 433, 61, 6257, 1482, 2606, 4468, 5158, 2888, 3768, 153, 5504, 4410, 5315, 2374, 5116, 1170, 2265, 2118, 1845, 3877, 6007, 3384, 2654, 875, 2027, 3154, 3268, 3599, 426, 4196, 455, 5461, 6506, 3006, 5388, 5794, 1876, 2940, 2264, 2021, 2423, 5396, 5138, 5884, 5953, 702, 5148, 3578, 2805, 3835, 1861, 5022, 6284, 1404, 5033, 3174, 2775, 6264, 177, 1705, 277, 4456, 1350, 3492, 151, 2262, 3346, 5215, 3541, 3818, 5603, 2159, 1731, 4245, 4437, 3665, 747, 3445, 3679, 1934, 5684, 4938, 5847, 5376, 2069, 6370, 6520, 4981, 5458, 3729, 935, 218, 3137, 1077, 1977, 5192, 5809, 1487, 5605, 2041, 4766, 6455, 517, 5895, 6282, 4288, 926, 785, 5764, 4571, 3118, 98, 4820, 3461, 1575, 2792, 1220, 2982, 5465, 5013, 2533, 3102, 510, 4633, 5808, 4954, 2514, 6105, 3619, 4401, 3393, 2124, 1118, 226, 2854, 296, 3036, 5209, 885, 5404, 666, 4054, 17, 1408, 525, 1536, 1528, 4613, 3641, 109, 3131, 4686, 3085, 2003, 6517, 1349, 6434, 3767, 548, 4470, 3663, 1383, 4647, 3629, 1004, 5480, 5547, 4222, 4436, 4979, 3048, 3750, 3367, 2121, 1423, 115, 808, 5010, 2202, 6221, 4256, 3845, 4151, 1484, 2793, 5238, 1032, 2145, 4788, 3831, 700, 3057, 2918, 3950, 5312, 5311, 829, 4355, 2991, 5031, 5774, 6252, 5636, 4090, 1665, 3843, 3368, 5017, 2235, 5965, 4336, 3190, 3108, 3758, 3332, 6086, 237, 1914, 5229, 5436, 2517, 3993, 5478, 5781, 4476, 5532, 3817, 862, 62, 4124, 5967, 3350, 3715, 6274, 4967, 1993, 276, 3958, 5218, 751, 2699, 351, 2229, 849, 2545, 634, 1184, 6156, 2569, 3503, 2710, 1697, 5730, 396, 5176, 2077, 1826, 3216, 4751, 3486, 1327, 6041, 4852, 3947, 2968, 1730, 2925, 4899, 484, 2947, 2493, 2946, 423, 5448, 6405, 6090, 6454, 3278, 6092, 1933, 483, 3327, 523, 5894, 4385, 1056, 4011, 2834, 2665, 2887, 6440, 6540, 5358, 4467, 3660, 1104, 124, 3602, 6324, 3447, 3658, 6049, 1206, 3984, 2726, 2236, 308, 4203, 5139, 2826, 3581, 6340, 2967, 3883, 4458, 6056, 3074, 2322, 5699, 6498, 51, 3396, 2278, 687, 4490, 6050, 5069, 871, 6304, 5292, 3291, 2441, 2471, 556, 172, 2331, 2567, 3338, 1767, 3143, 5555, 6502, 3743, 1127, 2607, 6362, 265, 2455, 1912, 3659, 5517, 4276, 5783, 2306, 4533, 5348, 5947, 5526, 5505, 5469, 3612, 5857, 5669, 1042, 3173, 4947, 2325, 6212, 2254, 4933, 4244, 2508, 3719, 3948, 5639, 1656, 4107, 3022, 956, 4544, 2486, 2470, 448, 3286, 2879, 6327, 2317, 474, 3592, 5066, 2100, 2179, 1544, 2496, 26, 2721, 3646, 511, 6335, 3632, 66, 4848, 4121, 2896, 4529, 2766, 4604, 932, 4659, 1348, 3187, 4784, 41, 1956, 2483, 3184, 2779, 4829, 1794, 1490, 3550, 5062, 3083, 592, 786, 2473, 1986, 2980, 4728, 5915, 4287, 3123, 5943, 5837, 5514, 3459, 419, 1240, 4549, 518, 2600, 1250, 4134, 4008, 1130, 1047, 2916, 139, 1941, 2482, 606, 37, 5942, 6550, 604, 991, 3297, 2589, 6423, 4973, 1027, 4462, 4408, 765, 4232, 393, 3370, 2502, 1498, 4041, 3107, 3985, 1985, 2002, 4007, 2146, 2753, 4156, 3962, 4014, 2668, 3081, 3347, 2424, 278, 5079, 6329, 4579, 2154, 6534, 2304, 4417, 3706, 5713, 4969, 2628, 1254, 4519, 5302, 665, 4774, 845, 3285, 6406, 5482, 2581, 3982, 5832, 2798, 1125, 4743, 1174, 2672, 4119, 1756, 3241, 473, 4833, 3420, 4775, 6107, 3518, 910, 6053, 2074, 2326, 4255, 6168, 4503, 3878, 716, 2598, 3375, 5310, 106, 4929, 2561, 936, 597, 1025, 1194, 2725, 761, 1627, 1259, 2903, 3507, 706, 4461, 1180, 778, 6528, 1031, 3392, 3966, 3888, 1018, 1816, 5269, 833, 3508, 1580, 5890, 5259, 1173, 6088, 3014, 3949, 5940, 1345, 852, 4587, 3454, 4666, 2348, 1467, 56, 859, 3765, 4781, 925, 2749, 4421, 2495, 3322, 4335, 6300, 4294, 4625, 3979, 5932, 3145, 5590, 1166, 3357, 281, 3675, 4610, 1082, 4729, 2446, 3252, 1248, 2656, 1113, 3446, 1291, 4309, 3084, 684, 5541, 4506, 3868, 5365, 6533, 1928, 2617, 273, 5093, 4550, 1302, 1246, 2948, 1204, 442, 5286, 143, 1347, 1365, 1003, 1489, 5261, 1873, 5524, 688, 428, 439, 4815, 6220, 4173, 363, 4396, 3246, 1578, 3195, 4861, 2974, 3141, 2113, 4125, 3388, 3255, 5650, 256, 2305, 5210, 6130, 272, 717, 2166, 4609, 698, 5512, 2731, 2895, 3401, 5373, 5506, 6341, 2454, 4996, 3809, 5038, 4452, 4045, 5798, 3064, 2138, 4778, 4704, 6441, 2684, 773, 3214, 3295, 3356, 3850, 6096, 368, 2630, 469, 2071, 5726, 1815, 2472, 1245, 2171, 2120, 5344, 297, 4402, 5274, 1301, 3402, 131, 379, 5763, 5223, 1775, 5319, 6408, 1285, 3133, 3524, 5757, 5391, 1380, 3054, 1168, 531, 4493, 4770, 2701, 795, 1465, 3839, 6188, 1275, 1046, 1850, 1726, 3095, 2905, 3908, 2538, 6294, 3294, 1900, 4127, 2007, 5225, 3456, 3391, 1955, 5628, 6017, 5625, 6208, 2904, 6411, 3008, 4340, 2307, 4681, 4668, 5397, 374, 6492, 2354, 2927, 5874, 2677, 5528, 2849, 4736, 1996, 4741, 3510, 6336, 4148, 2186, 5799, 2302, 2258, 1837, 6503, 1835, 3251, 6055, 1663, 5796, 5974, 4236, 1990, 2556, 563, 437, 4444, 2554, 4618, 5634, 1495, 4822, 5609, 3228, 5969, 4231, 5936, 359, 3175, 222, 830, 390, 4085, 946, 2851, 3586, 4206, 4883, 712, 5765, 1078, 1019, 3189, 3511, 24, 4696, 3284, 4702, 4289, 2572, 152, 2949, 3587, 2658, 5732, 2886, 671, 2537, 5545, 3326, 3300, 147, 2685, 2270, 3318, 3110, 2164, 4858, 292, 2585, 3077, 514, 4940, 4888, 4247, 601, 2645, 710, 1732, 3566, 2647, 1137, 3262, 1218, 1102, 6429, 3639, 372, 2694, 1754, 1626, 1978, 2318, 1591, 60, 6098, 4572, 267, 1088, 4957, 136, 1604, 2401, 6465, 6243, 1122, 4228, 2937, 138, 1629, 2474, 1659, 1755, 3232, 4989, 783, 6033, 775, 5112, 2935, 781, 6261, 6140, 3098, 77, 2512, 3756, 1331, 4569, 5353, 4446, 2147, 3235, 33, 5213, 2718, 4986, 2110, 2580, 4261, 5593, 1503, 366, 4047, 5050, 5260, 1619, 3176, 2520, 2553, 3583, 4662, 1100, 877, 966, 5462, 3752, 3925, 3790, 1512, 5206, 4213, 997, 190, 3728, 3185, 5032, 1997, 6548, 2639, 4210, 3438, 4634, 5237, 5523, 1407, 3946, 228, 4495, 3588, 1902, 5673, 2976, 2363, 3257, 5401, 4818, 4269, 1609, 2923, 4314, 5243, 3383, 6516, 1727, 5394, 4071, 3464, 282, 3863, 4607, 4083, 4214, 6003, 2203, 4082, 6388, 3003, 5313, 4936, 4457, 5456, 3764, 529, 1023, 3532, 4061, 5640, 3021, 3861, 5127, 5716, 957, 1483, 3012, 695, 5937, 2648, 2655, 2876, 2588, 2510, 3869, 4895, 791, 2103, 471, 305, 4603, 762, 2914, 4942, 3932, 1210, 4976, 5123, 1022, 295, 1827, 5092, 2115, 6012, 1683, 3882, 1646, 2737, 2349, 4791, 3117, 3656, 6039, 872, 2994, 1131, 5645, 348, 2804, 943, 4337, 1338, 4367, 100, 6111, 6403, 3223, 3515, 1172, 3182, 5861, 1431, 5789, 2479, 623, 3666, 1265, 672, 6095, 886, 259, 3000, 397, 1241, 2192, 2360, 5927, 2696, 2498, 844, 4049, 1596, 6537, 6331, 1106, 1746, 587, 2828, 4013, 211, 6259, 749, 1418, 3180, 3542, 5285, 3927, 3153, 1545, 5777, 3731, 4326, 591, 3072, 6133, 2833, 2559, 1701, 1958, 5702, 3677, 4654, 944, 4527, 4992, 2934, 2199, 2012, 1540, 3757, 685, 5836, 2125, 485, 3215, 1012, 6113, 3172, 5706, 1093, 2745, 216, 6120, 2813, 6076, 4204, 1974, 1939, 2075, 4405, 6193, 5445, 2717, 342, 3716, 274, 1898, 1942, 3906, 4152, 6442, 1416, 3601, 204, 4600, 934, 1703, 1571, 4389, 3684, 2864, 2748, 5024, 2823, 5507, 3047, 860, 4132, 6374, 5067, 2755, 1866, 6018, 5068, 3181, 5854, 1156, 5752, 3564, 6361, 6170, 1819, 3224, 2427, 1251, 1463, 1547, 94, 3379, 1192, 3019, 6272, 3903, 6458, 1916, 6251, 2036, 3674, 2333, 3114, 1459, 5772, 2657, 6298, 682, 2746, 6303, 5020, 2504, 1666, 2850, 3207, 1662, 367, 3202, 1765, 6136, 1501, 3509, 1442, 123, 6205, 6456, 3701, 1369, 2358, 5036, 1764, 5852, 233, 3827, 1709, 186, 3981, 5589, 928, 2035, 74, 5463, 4504, 102, 5135, 2627, 6182, 835, 5543, 2821, 2389, 5566, 2605, 3918, 911, 3623, 1400, 6337, 4279, 4707, 3065, 3315, 2868, 4862, 3293, 6355, 350, 2878, 3638, 3124, 2143, 2763, 2525, 6551, 5604, 1745, 1948, 5271, 1193, 5240, 6267, 4966, 1320, 6368, 5471, 3552, 1714, 3170, 3038, 2180, 4552, 5539, 1687, 2217, 3417, 202, 2858, 6345, 3904, 1403, 4901, 3620, 3631, 2511, 5544, 1834, 5398, 2197, 3273, 5113, 6195, 5812, 3517, 3219, 2599, 5538, 3125, 5715, 1083, 4076, 5917, 3281, 4982, 5709, 5949, 1655, 1167, 6197, 3119, 1436, 5537, 2291, 5869, 1283, 5888, 6539, 6123, 447, 4643, 3389, 4868, 3089, 5343, 1615, 4536, 3226, 4302, 4310, 5868, 2026, 1488, 5128, 2776, 2287, 3016, 1117, 1846, 3249, 4315, 3622, 1073, 5775, 1253, 3980, 1673, 1243, 2112, 4599, 5449, 2085, 5134, 5377, 1443, 3959, 3569, 4362, 2190, 1532, 234, 3227, 6463, 588, 3238, 1096, 5704, 4384, 2097, 4765, 5484, 4006, 1110, 1175, 2602, 555, 1421, 2641, 680, 2732, 6519, 3130, 3078, 6102, 111, 6118, 1531, 3307, 4884, 4851, 2140, 3687, 2970, 6204, 4971, 3204, 1593, 4358, 2724, 3135, 2743, 1256, 6500, 93, 5487, 2353, 5096, 922, 149, 1075, 2231, 2734, 4420, 73, 2108, 1782, 1516, 857, 3649, 5958, 4390, 5616, 4588, 4295, 6451, 1076, 2857, 5690, 2861, 2484, 5387, 2016, 3519, 5390, 3053, 883, 4896, 3448, 4502, 6378, 1020, 5973, 4138, 2761, 2661, 1984, 4398, 2282, 539, 3150, 5511, 2920, 2638, 4958, 3451, 4826, 1908, 2877, 2222, 3916, 792, 5345, 3671, 4224, 2536, 4849, 5275, 2043, 5205, 3874, 1849, 6112, 805, 3965, 1960, 5233, 6054, 4146, 2998, 5370, 4717, 2652, 3343, 3049, 3673, 2919, 582, 4988, 1491, 3796, 3628, 3220, 4447, 187, 5191, 5071, 3328, 6291, 4964, 54, 3282, 5267, 4407, 619, 1752, 3791, 2056, 1989, 1896, 6462, 223, 990, 3371, 4198, 1284, 4705, 5929, 4951, 5694, 3298, 1197, 5473, 3378, 4953, 381, 2646, 4313, 1684, 2136, 476, 2151, 2139, 2584, 533, 5187, 2780, 868, 1543, 6416, 1704, 5180, 2807, 4615, 5683, 347, 3155, 1621, 2456, 2522, 2405, 5475, 6101, 2350, 3978, 5147, 971, 1430, 2889, 2794, 836, 5065, 4563, 2280, 2119, 1271, 314, 3590, 3096, 1678, 5557, 92, 4109, 635, 3784, 4219, 527, 3536, 4864, 856, 4074, 4472, 463, 3372, 1339, 1468, 3929, 1336, 4661, 5025, 2059, 203, 2978, 5014, 1546, 2148, 4108, 2670, 5224, 1024, 4441, 3525, 766, 1112, 613, 4805, 4856, 3139, 2995, 3759, 506, 3538, 5299, 2452, 6222, 6513, 2276, 5610, 4688, 6027, 1154, 129, 458, 5194, 3382, 1529, 3892, 3807, 4064, 441, 2781, 2054, 2150, 6280, 1949, 3342, 3066, 5293, 1533, 5956, 3814, 4814, 6515, 3713, 1526, 5591, 6175, 2695, 708, 127, 3062, 3488, 4642, 4325, 3407, 1617, 4449, 6213, 5129, 2015, 3667, 3435, 5442, 2384, 2365, 5133, 1114, 1778, 1278, 2267, 3259, 2313, 6215, 3093, 4806, 2429, 3271, 5316, 1207, 3253, 2388, 507, 313, 4129, 5962, 6494, 620, 3171, 1774, 5101, 3015, 6326, 1843, 113, 2571, 5753, 2346, 5064, 227, 5452, 3651, 1297, 1171, 154, 3303, 4484, 5132, 5779, 2078, 3069, 4487, 4871, 5362, 2284, 6247, 2824, 5197, 435, 1101, 4723, 3991, 596, 11, 3311, 1109, 5178, 6349, 6043, 2608, 3876, 2367, 5697, 6542, 5356, 1514, 5231, 3233, 4483, 2928, 1686, 2797, 3024, 1033, 3324, 269, 5059, 5568, 3009, 1007, 4105, 6380, 4645, 2439, 1405, 5870, 1711, 1415, 2981, 4419, 5431, 5355, 3836, 4870, 703, 4442, 6217, 5569, 1674, 1976, 5862, 6547, 3341, 2777, 1565, 3052, 3871, 4900, 1770, 6497, 4897, 3502, 723, 2531, 3725, 64, 3156, 1828, 2939, 790, 3188, 4485, 6412, 2844, 1426, 1115, 508, 229, 4965, 4084, 3366, 72, 4913, 5787, 889, 4767, 2822, 6008, 1363, 2290, 1429, 4230, 2234, 5289, 1098, 1448, 1270, 804, 2912, 709, 5193, 4803, 5144, 1973, 2570, 4234, 3256, 2337, 4935, 2765, 1938, 3073, 1446, 5378, 1000, 271, 5978, 6360, 636, 5755, 2603, 4301, 5437, 2509, 3736, 4383, 6194, 4573, 2852, 3487, 714, 609, 5447, 6379, 182, 2616, 2996, 5045, 3852, 3199, 2831, 996, 266, 951, 6549, 2942, 750, 2220, 607, 5776, 2332, 2985, 3544, 2447, 311, 797, 1452, 1632, 1757, 3481, 5848, 5130, 633, 4649, 2832, 5607, 5618, 3635, 5371, 3820, 1344, 3739, 4619, 4740, 3265, 209, 2898, 955, 6430, 3838, 2632, 434, 4133, 5262, 364, 3763, 4567, 1341, 3531, 2464, 5153, 2268, 3830, 3872, 6486, 360, 4356, 4651, 1263, 6219, 255, 4308, 2993, 4040, 1671, 1910, 425, 4351, 4956, 2352, 2758, 3560, 3056, 5457, 6032, 1324, 213, 142, 4807, 2088, 550, 1352, 5536, 3705, 6511, 5195, 1045, 377, 4795, 1786, 4141, 1857, 5379, 453, 4296, 3426, 1499, 2023, 4393, 4873, 2107, 3720, 6052, 1158, 4465, 5107, 2845, 5149, 2008, 1294, 1053, 3898, 5790, 5844, 610, 3035, 3395, 3441, 1355, 5701, 941, 2604, 2910, 2417, 3258, 3548, 1414, 2101, 2815, 5160, 3873, 4412, 3724, 2373, 3924, 4068, 4708, 2397, 4096, 782, 5265, 4878, 1610, 3421, 4060, 2930, 5687, 3711, 4985, 3910, 2853, 3670, 2244, 6325, 2679, 1694, 4170, 1422, 6047, 2651, 5850, 6260, 967, 2087, 70, 3964, 384, 3769, 6468, 3283, 1272, 4391, 4518, 4439, 3951, 3076, 2523, 2351, 5272, 794, 1399, 1878, 711, 2165, 1869, 6415, 2911, 5587, 927, 1542, 4562, 2123, 551, 4580, 5567, 4963, 1865, 1781, 3650, 2547, 3449, 19, 4692, 260, 3149, 631, 2784, 1242, 3423, 6015, 4689, 6459, 2816, 304, 4744, 2271, 1549, 2494, 5858, 6367, 4374, 3013, 4722, 6245, 5785, 4620, 3567, 793, 4819, 2678, 3911, 701, 2188, 6364, 809, 275, 91, 5931, 5597, 769, 6435, 1787, 2769, 1300, 1576, 4575, 1811, 467, 1458, 3361, 837, 3485, 3879, 4558, 4321, 2812, 4448, 2626, 6330, 1854, 4537, 2209, 1590, 6387, 3419, 2801, 2929, 1333, 1202, 6022, 3744, 673, 4494, 385, 1586, 404, 2785, 3059, 2418, 3699, 2421, 5968, 4937, 337, 4584, 2551, 2899, 3306, 4378, 565, 3429, 3299, 4821, 3987, 1447, 5364, 6382, 2224, 2901, 632, 451, 3697, 1904, 4730, 2420, 3495, 3926, 6386, 1702, 4724, 2463, 6201, 3862, 5317, 5479, 2356, 512, 6357, 3909, 39, 4605, 3907, 2550, 2206, 3086, 5897, 4691, 1124, 5051, 4028, 3630, 6508, 4165, 96, 2488, 2468, 1953, 2347, 5349, 5994, 6328, 3101, 5314, 537, 4406, 2285, 470, 1690, 5453, 3164, 5972, 3822, 4144, 3700, 1795, 293, 5190, 600, 4726, 4885, 4682, 2760, 5426, 5923, 2099, 3272, 4522, 2956, 6414, 23, 5230, 2619, 2501, 5553, 5946, 3833, 5305, 3499, 5835, 3782, 1286, 4715, 352, 4375, 2177, 1957, 2714, 1784, 4009, 4035, 3436, 4997, 3186, 3848, 2586, 1368, 5766, 2873, 998, 285, 2827, 3970, 4993, 1002, 5236, 1237, 4528, 4155, 6004, 4701, 5211, 2170, 5142, 4140, 210, 1708, 3913, 2846, 3319, 2663, 2184, 2999, 4577, 6447, 2444, 2371, 5076, 5707, 3593, 5711, 1370, 5430, 4205, 3312, 865, 254, 1589, 1318, 6510, 299, 3335, 502, 6419, 4991, 2408, 3826, 5935, 3668, 546, 5876, 452, 5188, 1017, 4212, 6165, 5530, 1692, 5928, 589, 4894, 1413, 3875, 6437, 1909, 4254, 472, 5264, 2006, 4667, 696, 1585, 5721, 1945, 4832, 964, 3944, 1366, 625, 1584, 2795, 4201, 4046, 5204, 4123, 6385, 5380, 199, 6266, 2111, 1620, 3493, 6353, 3880, 341, 3165, 6334, 6381, 2716, 309, 6192, 4252, 5054, 2610, 3896, 5997, 443, 913, 2311, 3928, 519, 1981, 3900, 5383, 5914, 6141, 1343, 2773, 787, 993, 4037, 6209, 6211, 1670, 3988, 3682, 5354, 2907, 1737, 2022, 3043, 5214, 6332, 5318, 6109, 6525, 336, 2908, 1675, 3263, 6077, 6100, 2711, 31, 2843, 1874, 6196, 1444, 4874, 4004, 3842, 1357, 2945, 4714, 4030, 4962, 454, 3562, 2342, 4272, 542, 3669, 1858, 2343, 1848, 1901, 178, 6013, 2986, 3636, 2642, 2289, 4357, 4687, 3572, 4299, 2233, 1932, 3001, 6404, 1672, 4343, 5948, 5979, 3954, 3010, 3708, 5157, 4154, 2076, 3474, 6369, 2485, 3087, 2809, 5368, 4404, 2590, 686, 5718, 5028, 2095, 954, 6138, 3178, 3698, 1511, 369, 2218, 1085, 2698, 806, 5970, 5933, 1323, 2193, 2283, 6019, 5042, 1913, 6258, 3183, 230, 219, 5126, 6172, 4392, 5782, 4257, 4748, 4830, 1808, 2303, 4624, 2583, 2175, 3672, 343, 1277, 4370, 1741, 5872, 6417, 1385, 2728, 2917, 1513, 2364, 63, 3582, 1129, 2174, 365, 6507, 4354, 2997, 4241, 1509, 2882, 3476, 2921, 2578, 340, 6177, 4789, 524, 4725, 3753, 1983, 2201, 4983, 2503, 1651, 191, 1214, 5263, 1994, 3555, 3194, 647, 4253, 6531, 1435, 4067, 1401, 5896, 5227, 2752, 6484, 2126, 3159, 3134, 5428, 4116, 5366, 3439, 5145, 3274, 4616, 3480, 1255, 3158, 1924, 2521, 3302, 2256, 4876, 1766, 973, 2836, 3060, 3933, 445, 3279, 5513, 3100, 2565, 1710, 2196, 3710, 5189, 1820, 4023, 4764, 1648, 4373, 3115, 2448, 1631, 1342, 2321, 500, 5341, 2727, 2799, 6424, 3167, 2771, 1009, 4297, 3847, 2440, 2414, 866, 6207, 3369, 6527, 4860, 4498, 3247, 3733, 2092, 105, 2248, 1001, 302, 200, 4207, 6384, 1946, 1362, 1282, 4859, 6421, 4189, 5510, 3468, 5468, 3591, 6185, 5077, 1334, 768, 2992, 4802, 6199, 4435, 1917, 34, 534, 4574, 457, 753, 2830, 3128, 1645, 1613, 2883, 4538, 2964, 4115, 4136, 2467, 1508, 4710, 5925, 361, 1987, 715, 5098, 3462, 839, 1094, 391, 2288, 1814, 4977, 873, 5883, 1217, 5727, 2840, 3250, 2739, 5881, 2680, 5406, 4382, 1688, 5183, 4570, 6178, 876, 5548, 1086, 585, 2653, 1691, 10, 4517, 6134, 4278, 6342, 1577, 3884, 392, 2575, 5792, 4794, 5290, 4137, 1658, 4994, 5078, 4718, 3138, 5048, 1654, 4798, 5287, 5151, 1907, 3244, 5321, 3317, 4903, 2767, 3422, 339, 1682, 2860, 6490, 1089, 380, 6524, 6179, 1855, 5323, 3490, 1667, 2643, 6034, 181, 557, 637, 2944, 5125, 2396, 5444, 2063, 53, 345, 5522, 4016, 2963, 3213, 2469, 847, 1972, 3403, 612, 5626, 1699, 1607, 3017, 4685, 2796, 394, 1379, 5324, 14, 1268, 3867, 929, 6099, 2591, 1074, 217, 5011, 468, 2445, 1851, 5012, 3477, 3197, 4339, 1791, 1582, 3712, 55, 59, 2083, 3416, 4892, 1872, 4626, 1034, 4409, 4229, 75, 1160, 5934, 1830, 5670, 2433, 4147, 3304, 42, 310, 460, 2450, 4394, 5731, 617, 4547, 1608, 2955, 4978, 5722, 4176, 1507, 5695, 1099, 3079, 6103, 5115, 6431, 2451, 4386, 2309, 5913, 3688, 1269, 2612, 4246, 3781, 2228, 4853, 4238, 362, 95, 2874, 1328, 3411, 5241, 2243, 776, 2730, 3210, 5977, 3934, 3206, 2299, 2415, 1287, 1371, 2403, 2492, 1831, 2548, 5488, 758, 669, 2402, 4149, 2592, 2089, 590, 4908, 5235, 3793, 2682, 3406, 2005, 6363, 1734, 4932, 3986, 3761, 289, 566, 1126, 5124, 4352, 1177, 3121, 184, 1922, 4557, 3717, 1274, 5756, 4379, 3662, 6464, 5470, 141, 6288, 3749, 4650, 5619, 2250, 4902, 1050, 1051, 6183, 995, 2067, 1346, 1182, 3795, 1087, 3999, 156, 3585, 449, 5768, 5558, 4786, 3068, 2362, 3891, 15, 6544, 6293, 513, 5642, 2962, 1614, 5277, 4069, 5392, 2806, 1198, 1244, 5117, 4249, 2984, 2633, 4652, 2238, 2428, 4455, 2323, 1497, 5284, 3726, 952, 6206, 3657, 4540, 2549, 2515, 220, 3516, 4955, 3466, 757, 1706, 5056, 4471, 4945, 947, 864, 1052, 4094, 1657, 2723, 3325, 4578, 3039, 5950, 1750, 4907, 3686, 5455, 5276, 2989, 3895, 1605, 3381, 1356, 1813, 6358, 3974, 2096, 5141, 5630, 5322, 5443, 6323, 4112, 3336, 2029, 6157, 4492, 6296, 28, 4079, 3579, 1103, 1208, 2932, 4817, 5531, 1116, 1538, 699, 2149, 5073, 4949, 4111, 3373, 1079, 6169, 353, 3179, 46, 2394, 1773, 4235, 2676, 4377, 807, 6016, 3217, 3082, 5374, 3358, 4670, 4776, 4025, 1568, 5845, 4233, 1107, 4039, 370, 1915, 5800, 2529, 6351, 6020, 25, 5283, 547, 760, 4488, 5268, 4541, 2534, 6372, 4038, 5797, 6110, 4669, 3803, 76, 4539, 5608, 2902, 3893, 5257, 2040, 3792, 5108, 3080, 3044, 1742, 3225, 4029, 4275, 2227, 306, 5044, 1864, 1028, 3463, 912, 3922, 2155, 5450, 4397, 5464, 2466, 4824, 2635, 3678, 6044, 3735, 663, 5306, 2336, 3648, 3353, 4630, 2693, 2246, 2790, 2162, 918, 3457, 2973, 3432, 2811, 3755, 5266, 6180, 2500, 4312, 2516, 1772, 1606, 4773, 4556, 1890, 772, 6339, 3266, 5072, 2340, 6237, 2924, 2387, 2741, 3693, 5952, 4735, 5483, 4055, 3025, 3345, 2345, 724, 4338, 1157, 4438, 921, 745, 134, 2034, 5023, 2778, 5295, 4904, 2660, 516, 915, 117, 300, 756, 779, 5939, 3738, 225, 545, 3418, 4059, 2105, 1016, 3205, 2872, 4043, 5784, 3596, 5103, 5486, 112, 6305, 2837, 1979, 38, 2712, 2161, 4451, 5105, 3598, 2671, 668, 5643, 4332, 3501, 3002, 5027, 4627, 4120, 2091, 1618, 3177, 444, 3400, 431, 4166, 3329, 388, 2491, 3614, 446, 6521, 2738, 4521, 461, 727, 3469, 5807, 4424, 2024, 4104, 1317, 403, 6250, 4372, 4804, 4486, 16, 2582, 3899, 194, 3727, 2856, 4771, 3140, 4359, 4311, 3310, 1570, 5712, 3380, 5298, 4032, 3707, 3105, 5288, 697, 3042, 1707, 4221, 854, 2181, 6436, 3754, 1296, 2906, 2552, 6255, 4787, 2395, 5703, 6104, 2153, 108, 3858, 140, 1689, 1496, 6449, 424, 2269, 4810, 464, 3146, 432, 827, 1677, 1049, 1668, 2568, 1510, 465, 2762, 3208, 5154, 3196, 4747, 4208, 2226, 3290, 303, 3857, 3889, 1649, 2329, 2324, 3460, 4322, 5995, 6489, 338, 4491, 920, 4846, 1736, 1299, 6087, 3998, 4793, 1751, 4363, 831, 173]\n",
      "test ids:  [0, 1, 2, 3, 4, 5, 6, 7, 8, 78, 79, 80, 81, 82, 83, 84, 85, 86, 87, 88, 89, 90, 158, 159, 160, 161, 162, 163, 164, 165, 166, 167, 168, 169, 170, 171, 238, 239, 240, 241, 242, 243, 244, 245, 246, 247, 248, 249, 250, 251, 252, 253, 318, 319, 320, 321, 322, 324, 325, 326, 327, 328, 329, 330, 331, 332, 333, 334, 335, 398, 399, 400, 401, 402, 405, 406, 407, 408, 409, 410, 411, 412, 413, 414, 415, 416, 417, 478, 479, 480, 481, 482, 486, 487, 488, 489, 490, 491, 492, 493, 494, 495, 496, 497, 498, 499, 558, 559, 560, 561, 562, 567, 568, 569, 570, 571, 572, 573, 574, 575, 576, 577, 578, 579, 580, 638, 639, 640, 641, 642, 648, 649, 650, 651, 652, 653, 654, 655, 656, 657, 658, 659, 660, 661, 662, 718, 719, 720, 721, 722, 729, 730, 731, 732, 733, 734, 735, 736, 737, 738, 739, 740, 741, 742, 743, 744, 798, 799, 800, 801, 802, 810, 811, 812, 813, 814, 815, 816, 817, 818, 819, 820, 821, 822, 823, 824, 825, 826, 878, 879, 880, 881, 882, 892, 893, 894, 895, 896, 897, 898, 899, 900, 901, 902, 903, 904, 905, 906, 907, 908, 958, 959, 960, 961, 962, 974, 975, 976, 977, 978, 979, 980, 981, 982, 983, 984, 985, 986, 987, 988, 989, 1039, 1040, 1041, 1057, 1058, 1059, 1060, 1061, 1062, 1063, 1064, 1065, 1066, 1067, 1068, 1069, 1070, 1071, 1119, 1120, 1121, 1139, 1140, 1141, 1142, 1143, 1144, 1145, 1146, 1147, 1148, 1149, 1150, 1151, 1152, 1153, 1199, 1200, 1201, 1221, 1222, 1223, 1224, 1225, 1226, 1227, 1228, 1229, 1230, 1231, 1232, 1233, 1234, 1235, 1279, 1280, 1281, 1304, 1305, 1306, 1307, 1308, 1309, 1310, 1311, 1312, 1313, 1314, 1315, 1316, 1359, 1360, 1361, 1386, 1387, 1388, 1389, 1390, 1391, 1392, 1393, 1394, 1395, 1396, 1397, 1398, 1439, 1440, 1441, 1469, 1470, 1471, 1472, 1473, 1474, 1475, 1476, 1477, 1478, 1479, 1480, 1519, 1520, 1521, 1551, 1552, 1553, 1554, 1555, 1556, 1557, 1558, 1559, 1560, 1561, 1562, 1599, 1600, 1601, 1633, 1634, 1635, 1636, 1637, 1638, 1639, 1640, 1641, 1642, 1643, 1644, 1679, 1680, 1681, 1716, 1717, 1718, 1719, 1720, 1721, 1722, 1723, 1724, 1725, 1759, 1760, 1761, 1798, 1799, 1800, 1801, 1802, 1803, 1804, 1805, 1806, 1807, 1839, 1840, 1841, 1880, 1881, 1882, 1883, 1884, 1885, 1886, 1887, 1888, 1889, 1919, 1920, 1921, 1963, 1964, 1965, 1966, 1967, 1968, 1969, 1970, 1971, 1999, 2000, 2001, 2045, 2046, 2047, 2048, 2049, 2050, 2051, 2052, 2053, 2079, 2080, 2081, 2127, 2128, 2129, 2130, 2131, 2132, 2133, 2134, 2160, 2210, 2211, 2212, 2213, 2214, 2215, 2216, 2240, 2292, 2293, 2294, 2295, 2296, 2297, 2298, 2320, 2375, 2376, 2377, 2378, 2379, 2380, 2400, 2457, 2458, 2459, 2460, 2461, 2462, 2480, 2539, 2540, 2541, 2542, 2543, 2560, 2622, 2623, 2624, 2625, 2640, 2704, 2705, 2706, 2707, 2720, 2786, 2787, 2788, 2789, 2800, 2869, 2870, 2871, 2880, 2951, 2952, 2960, 3033, 3034, 3040, 3116, 3120, 3198, 3200, 3280, 3360, 3362, 3440, 3444, 3520, 3526, 3527, 3600, 3608, 3609, 3680, 3689, 3690, 3691, 3760, 3771, 3772, 3773, 3774, 3840, 3853, 3854, 3855, 3856, 3920, 3935, 3936, 3937, 3938, 4000, 4017, 4018, 4019, 4020, 4021, 4080, 4098, 4099, 4100, 4101, 4102, 4103, 4160, 4180, 4181, 4182, 4183, 4184, 4185, 4240, 4262, 4263, 4264, 4265, 4266, 4267, 4268, 4320, 4344, 4345, 4346, 4347, 4348, 4349, 4350, 4400, 4426, 4427, 4428, 4429, 4430, 4431, 4432, 4433, 4479, 4480, 4481, 4507, 4508, 4509, 4510, 4511, 4512, 4513, 4514, 4515, 4559, 4560, 4561, 4589, 4590, 4591, 4592, 4593, 4594, 4595, 4596, 4597, 4639, 4640, 4641, 4671, 4672, 4673, 4674, 4675, 4676, 4677, 4678, 4679, 4680, 4719, 4720, 4721, 4753, 4754, 4755, 4756, 4757, 4758, 4759, 4760, 4761, 4762, 4799, 4800, 4801, 4835, 4836, 4837, 4838, 4839, 4840, 4841, 4842, 4843, 4844, 4879, 4880, 4881, 4916, 4917, 4918, 4919, 4920, 4921, 4922, 4923, 4924, 4925, 4926, 4927, 4959, 4960, 4961, 4998, 4999, 5000, 5001, 5002, 5003, 5004, 5005, 5006, 5007, 5008, 5009, 5039, 5040, 5041, 5080, 5081, 5082, 5083, 5084, 5085, 5086, 5087, 5088, 5089, 5090, 5091, 5119, 5120, 5121, 5162, 5163, 5164, 5165, 5166, 5167, 5168, 5169, 5170, 5171, 5172, 5173, 5174, 5199, 5200, 5201, 5244, 5245, 5246, 5247, 5248, 5249, 5250, 5251, 5252, 5253, 5254, 5255, 5256, 5279, 5280, 5281, 5325, 5326, 5327, 5328, 5329, 5330, 5331, 5332, 5333, 5334, 5335, 5336, 5337, 5338, 5339, 5359, 5360, 5361, 5407, 5408, 5409, 5410, 5411, 5412, 5413, 5414, 5415, 5416, 5417, 5418, 5419, 5420, 5421, 5439, 5440, 5441, 5489, 5490, 5491, 5492, 5493, 5494, 5495, 5496, 5497, 5498, 5499, 5500, 5501, 5502, 5503, 5519, 5520, 5521, 5571, 5572, 5573, 5574, 5575, 5576, 5577, 5578, 5579, 5580, 5581, 5582, 5583, 5584, 5585, 5586, 5598, 5599, 5600, 5601, 5602, 5652, 5653, 5654, 5655, 5656, 5657, 5658, 5659, 5660, 5661, 5662, 5663, 5664, 5665, 5666, 5667, 5668, 5678, 5679, 5680, 5681, 5682, 5734, 5735, 5736, 5737, 5738, 5739, 5740, 5741, 5742, 5743, 5744, 5745, 5746, 5747, 5748, 5749, 5750, 5758, 5759, 5760, 5761, 5762, 5816, 5817, 5818, 5819, 5820, 5821, 5822, 5823, 5824, 5825, 5826, 5827, 5828, 5829, 5830, 5831, 5838, 5839, 5840, 5841, 5842, 5898, 5899, 5900, 5901, 5902, 5903, 5904, 5905, 5906, 5907, 5908, 5909, 5910, 5911, 5912, 5918, 5919, 5920, 5921, 5922, 5980, 5981, 5982, 5983, 5984, 5985, 5986, 5987, 5988, 5989, 5990, 5991, 5992, 5993, 5998, 5999, 6000, 6001, 6002, 6061, 6062, 6063, 6064, 6065, 6066, 6067, 6068, 6069, 6070, 6071, 6072, 6073, 6074, 6078, 6079, 6080, 6081, 6082, 6143, 6144, 6145, 6146, 6147, 6148, 6149, 6150, 6151, 6152, 6153, 6154, 6155, 6158, 6159, 6160, 6161, 6162, 6225, 6226, 6227, 6228, 6229, 6230, 6231, 6232, 6233, 6234, 6235, 6236, 6238, 6239, 6240, 6241, 6242, 6307, 6308, 6309, 6310, 6311, 6312, 6313, 6314, 6315, 6316, 6317, 6318, 6319, 6320, 6321, 6322, 6389, 6390, 6391, 6392, 6393, 6394, 6395, 6396, 6397, 6398, 6399, 6400, 6401, 6402, 6470, 6471, 6472, 6473, 6474, 6475, 6476, 6477, 6478, 6479, 6480, 6481, 6482, 6552, 6553, 6554, 6555, 6556, 6557, 6558, 6559, 6560]\n",
      "CPU times: user 172 ms, sys: 16 ms, total: 188 ms\n",
      "Wall time: 187 ms\n"
     ]
    }
   ],
   "source": [
    "%%time\n",
    "n_total = len(simulation.dataframe)\n",
    "n_train = len(simulation.dataframe[simulation.dataframe.type_of == \"train\"])\n",
    "n_val = len(simulation.dataframe[simulation.dataframe.type_of == \"val\"])\n",
    "n_test = len(simulation.dataframe[simulation.dataframe.type_of == \"test\"])\n",
    "n_train_hamiltonians = len(simulation.train_ids)\n",
    "n_val_hamiltonians = len(simulation.val_ids)\n",
    "n_test_hamiltonians = len(simulation.test_ids)\n",
    "n_total_hamiltonians = n_train_hamiltonians + n_val_hamiltonians + n_test_hamiltonians\n",
    "\n",
    "print(\"% train: \", n_train/n_total)\n",
    "print(\"% val: \",  n_val/n_total)\n",
    "print(\"% test: \", n_test/n_total)\n",
    "print(\"% train + val + test: \", (n_train+n_val+n_test)/n_total)\n",
    "print(\"\\n\")\n",
    "print(\"number of train hamiltonians: \", n_train_hamiltonians)\n",
    "print(\"number of val hamiltonians: \", n_val_hamiltonians)\n",
    "print(\"number of test hamiltonians: \", n_test_hamiltonians)\n",
    "print(\"total number of hamiltonians: \", n_total_hamiltonians)\n",
    "print(\"\\n\")\n",
    "print(\"train ids: \", simulation.train_ids)\n",
    "print(\"val ids: \", simulation.val_ids)\n",
    "print(\"test ids: \", simulation.test_ids)"
   ]
  },
  {
   "cell_type": "markdown",
   "metadata": {
    "papermill": {
     "duration": 0.03784,
     "end_time": "2020-07-18T05:29:28.799230",
     "exception": false,
     "start_time": "2020-07-18T05:29:28.761390",
     "status": "completed"
    },
    "tags": []
   },
   "source": [
    "#### Checking summaries"
   ]
  },
  {
   "cell_type": "code",
   "execution_count": 31,
   "metadata": {
    "execution": {
     "iopub.execute_input": "2020-07-18T05:29:28.881976Z",
     "iopub.status.busy": "2020-07-18T05:29:28.881662Z",
     "iopub.status.idle": "2020-07-18T05:29:28.902563Z",
     "shell.execute_reply": "2020-07-18T05:29:28.902865Z"
    },
    "papermill": {
     "duration": 0.063424,
     "end_time": "2020-07-18T05:29:28.902929",
     "exception": false,
     "start_time": "2020-07-18T05:29:28.839505",
     "status": "completed"
    },
    "tags": []
   },
   "outputs": [
    {
     "name": "stdout",
     "output_type": "stream",
     "text": [
      "length of ham_summary:  6561\n",
      "CPU times: user 107 µs, sys: 0 ns, total: 107 µs\n",
      "Wall time: 70.1 µs\n"
     ]
    },
    {
     "data": {
      "text/html": [
       "<div>\n",
       "<style scoped>\n",
       "    .dataframe tbody tr th:only-of-type {\n",
       "        vertical-align: middle;\n",
       "    }\n",
       "\n",
       "    .dataframe tbody tr th {\n",
       "        vertical-align: top;\n",
       "    }\n",
       "\n",
       "    .dataframe thead th {\n",
       "        text-align: right;\n",
       "    }\n",
       "</style>\n",
       "<table border=\"1\" class=\"dataframe\">\n",
       "  <thead>\n",
       "    <tr style=\"text-align: right;\">\n",
       "      <th></th>\n",
       "      <th>t1</th>\n",
       "      <th>t2</th>\n",
       "      <th>type_of</th>\n",
       "      <th>0</th>\n",
       "      <th>1</th>\n",
       "      <th>phase</th>\n",
       "      <th>pred_phase</th>\n",
       "    </tr>\n",
       "    <tr>\n",
       "      <th>id</th>\n",
       "      <th></th>\n",
       "      <th></th>\n",
       "      <th></th>\n",
       "      <th></th>\n",
       "      <th></th>\n",
       "      <th></th>\n",
       "      <th></th>\n",
       "    </tr>\n",
       "  </thead>\n",
       "  <tbody>\n",
       "    <tr>\n",
       "      <th>0</th>\n",
       "      <td>-2.0</td>\n",
       "      <td>-2.00</td>\n",
       "      <td>test</td>\n",
       "      <td>0.54</td>\n",
       "      <td>0.46</td>\n",
       "      <td>999</td>\n",
       "      <td>0</td>\n",
       "    </tr>\n",
       "    <tr>\n",
       "      <th>1</th>\n",
       "      <td>-2.0</td>\n",
       "      <td>-1.95</td>\n",
       "      <td>test</td>\n",
       "      <td>0.59</td>\n",
       "      <td>0.41</td>\n",
       "      <td>0</td>\n",
       "      <td>0</td>\n",
       "    </tr>\n",
       "    <tr>\n",
       "      <th>2</th>\n",
       "      <td>-2.0</td>\n",
       "      <td>-1.90</td>\n",
       "      <td>test</td>\n",
       "      <td>0.64</td>\n",
       "      <td>0.36</td>\n",
       "      <td>0</td>\n",
       "      <td>0</td>\n",
       "    </tr>\n",
       "    <tr>\n",
       "      <th>3</th>\n",
       "      <td>-2.0</td>\n",
       "      <td>-1.85</td>\n",
       "      <td>test</td>\n",
       "      <td>0.70</td>\n",
       "      <td>0.30</td>\n",
       "      <td>0</td>\n",
       "      <td>0</td>\n",
       "    </tr>\n",
       "    <tr>\n",
       "      <th>4</th>\n",
       "      <td>-2.0</td>\n",
       "      <td>-1.80</td>\n",
       "      <td>test</td>\n",
       "      <td>0.72</td>\n",
       "      <td>0.28</td>\n",
       "      <td>0</td>\n",
       "      <td>0</td>\n",
       "    </tr>\n",
       "    <tr>\n",
       "      <th>...</th>\n",
       "      <td>...</td>\n",
       "      <td>...</td>\n",
       "      <td>...</td>\n",
       "      <td>...</td>\n",
       "      <td>...</td>\n",
       "      <td>...</td>\n",
       "      <td>...</td>\n",
       "    </tr>\n",
       "    <tr>\n",
       "      <th>6556</th>\n",
       "      <td>2.0</td>\n",
       "      <td>1.80</td>\n",
       "      <td>test</td>\n",
       "      <td>0.72</td>\n",
       "      <td>0.28</td>\n",
       "      <td>0</td>\n",
       "      <td>0</td>\n",
       "    </tr>\n",
       "    <tr>\n",
       "      <th>6557</th>\n",
       "      <td>2.0</td>\n",
       "      <td>1.85</td>\n",
       "      <td>test</td>\n",
       "      <td>0.70</td>\n",
       "      <td>0.30</td>\n",
       "      <td>0</td>\n",
       "      <td>0</td>\n",
       "    </tr>\n",
       "    <tr>\n",
       "      <th>6558</th>\n",
       "      <td>2.0</td>\n",
       "      <td>1.90</td>\n",
       "      <td>test</td>\n",
       "      <td>0.65</td>\n",
       "      <td>0.35</td>\n",
       "      <td>0</td>\n",
       "      <td>0</td>\n",
       "    </tr>\n",
       "    <tr>\n",
       "      <th>6559</th>\n",
       "      <td>2.0</td>\n",
       "      <td>1.95</td>\n",
       "      <td>test</td>\n",
       "      <td>0.63</td>\n",
       "      <td>0.37</td>\n",
       "      <td>0</td>\n",
       "      <td>0</td>\n",
       "    </tr>\n",
       "    <tr>\n",
       "      <th>6560</th>\n",
       "      <td>2.0</td>\n",
       "      <td>2.00</td>\n",
       "      <td>test</td>\n",
       "      <td>0.54</td>\n",
       "      <td>0.46</td>\n",
       "      <td>999</td>\n",
       "      <td>0</td>\n",
       "    </tr>\n",
       "  </tbody>\n",
       "</table>\n",
       "<p>6561 rows × 7 columns</p>\n",
       "</div>"
      ],
      "text/plain": [
       "       t1    t2 type_of     0     1  phase  pred_phase\n",
       "id                                                    \n",
       "0    -2.0 -2.00    test  0.54  0.46    999           0\n",
       "1    -2.0 -1.95    test  0.59  0.41      0           0\n",
       "2    -2.0 -1.90    test  0.64  0.36      0           0\n",
       "3    -2.0 -1.85    test  0.70  0.30      0           0\n",
       "4    -2.0 -1.80    test  0.72  0.28      0           0\n",
       "...   ...   ...     ...   ...   ...    ...         ...\n",
       "6556  2.0  1.80    test  0.72  0.28      0           0\n",
       "6557  2.0  1.85    test  0.70  0.30      0           0\n",
       "6558  2.0  1.90    test  0.65  0.35      0           0\n",
       "6559  2.0  1.95    test  0.63  0.37      0           0\n",
       "6560  2.0  2.00    test  0.54  0.46    999           0\n",
       "\n",
       "[6561 rows x 7 columns]"
      ]
     },
     "execution_count": 31,
     "metadata": {},
     "output_type": "execute_result"
    }
   ],
   "source": [
    "%%time\n",
    "ham_summary = simulation.hamiltonian_summary\n",
    "print(\"length of ham_summary: \", len(ham_summary))\n",
    "ham_summary"
   ]
  },
  {
   "cell_type": "code",
   "execution_count": 32,
   "metadata": {
    "execution": {
     "iopub.execute_input": "2020-07-18T05:29:28.982145Z",
     "iopub.status.busy": "2020-07-18T05:29:28.981791Z",
     "iopub.status.idle": "2020-07-18T05:29:29.011006Z",
     "shell.execute_reply": "2020-07-18T05:29:29.010686Z"
    },
    "papermill": {
     "duration": 0.069937,
     "end_time": "2020-07-18T05:29:29.011058",
     "exception": false,
     "start_time": "2020-07-18T05:29:28.941121",
     "status": "completed"
    },
    "tags": []
   },
   "outputs": [
    {
     "data": {
      "text/html": [
       "<div>\n",
       "<style scoped>\n",
       "    .dataframe tbody tr th:only-of-type {\n",
       "        vertical-align: middle;\n",
       "    }\n",
       "\n",
       "    .dataframe tbody tr th {\n",
       "        vertical-align: top;\n",
       "    }\n",
       "\n",
       "    .dataframe thead th {\n",
       "        text-align: right;\n",
       "    }\n",
       "</style>\n",
       "<table border=\"1\" class=\"dataframe\">\n",
       "  <thead>\n",
       "    <tr style=\"text-align: right;\">\n",
       "      <th></th>\n",
       "      <th>t1</th>\n",
       "      <th>t2</th>\n",
       "      <th>0</th>\n",
       "      <th>1</th>\n",
       "      <th>phase</th>\n",
       "      <th>pred_phase</th>\n",
       "    </tr>\n",
       "  </thead>\n",
       "  <tbody>\n",
       "    <tr>\n",
       "      <th>count</th>\n",
       "      <td>6561.000000</td>\n",
       "      <td>6.561000e+03</td>\n",
       "      <td>6561.000000</td>\n",
       "      <td>6561.000000</td>\n",
       "      <td>6561.000000</td>\n",
       "      <td>6561.000000</td>\n",
       "    </tr>\n",
       "    <tr>\n",
       "      <th>mean</th>\n",
       "      <td>0.000000</td>\n",
       "      <td>-4.331917e-18</td>\n",
       "      <td>0.512615</td>\n",
       "      <td>0.487385</td>\n",
       "      <td>25.002134</td>\n",
       "      <td>0.498704</td>\n",
       "    </tr>\n",
       "    <tr>\n",
       "      <th>std</th>\n",
       "      <td>1.169134</td>\n",
       "      <td>1.169134e+00</td>\n",
       "      <td>0.428481</td>\n",
       "      <td>0.428481</td>\n",
       "      <td>154.495657</td>\n",
       "      <td>0.500036</td>\n",
       "    </tr>\n",
       "    <tr>\n",
       "      <th>min</th>\n",
       "      <td>-2.000000</td>\n",
       "      <td>-2.000000e+00</td>\n",
       "      <td>0.010000</td>\n",
       "      <td>0.000000</td>\n",
       "      <td>0.000000</td>\n",
       "      <td>0.000000</td>\n",
       "    </tr>\n",
       "    <tr>\n",
       "      <th>25%</th>\n",
       "      <td>-1.000000</td>\n",
       "      <td>-1.000000e+00</td>\n",
       "      <td>0.050000</td>\n",
       "      <td>0.040000</td>\n",
       "      <td>0.000000</td>\n",
       "      <td>0.000000</td>\n",
       "    </tr>\n",
       "    <tr>\n",
       "      <th>50%</th>\n",
       "      <td>0.000000</td>\n",
       "      <td>0.000000e+00</td>\n",
       "      <td>0.510000</td>\n",
       "      <td>0.490000</td>\n",
       "      <td>1.000000</td>\n",
       "      <td>0.000000</td>\n",
       "    </tr>\n",
       "    <tr>\n",
       "      <th>75%</th>\n",
       "      <td>1.000000</td>\n",
       "      <td>1.000000e+00</td>\n",
       "      <td>0.960000</td>\n",
       "      <td>0.950000</td>\n",
       "      <td>1.000000</td>\n",
       "      <td>1.000000</td>\n",
       "    </tr>\n",
       "    <tr>\n",
       "      <th>max</th>\n",
       "      <td>2.000000</td>\n",
       "      <td>2.000000e+00</td>\n",
       "      <td>1.000000</td>\n",
       "      <td>0.990000</td>\n",
       "      <td>999.000000</td>\n",
       "      <td>1.000000</td>\n",
       "    </tr>\n",
       "  </tbody>\n",
       "</table>\n",
       "</div>"
      ],
      "text/plain": [
       "                t1            t2            0            1        phase  \\\n",
       "count  6561.000000  6.561000e+03  6561.000000  6561.000000  6561.000000   \n",
       "mean      0.000000 -4.331917e-18     0.512615     0.487385    25.002134   \n",
       "std       1.169134  1.169134e+00     0.428481     0.428481   154.495657   \n",
       "min      -2.000000 -2.000000e+00     0.010000     0.000000     0.000000   \n",
       "25%      -1.000000 -1.000000e+00     0.050000     0.040000     0.000000   \n",
       "50%       0.000000  0.000000e+00     0.510000     0.490000     1.000000   \n",
       "75%       1.000000  1.000000e+00     0.960000     0.950000     1.000000   \n",
       "max       2.000000  2.000000e+00     1.000000     0.990000   999.000000   \n",
       "\n",
       "        pred_phase  \n",
       "count  6561.000000  \n",
       "mean      0.498704  \n",
       "std       0.500036  \n",
       "min       0.000000  \n",
       "25%       0.000000  \n",
       "50%       0.000000  \n",
       "75%       1.000000  \n",
       "max       1.000000  "
      ]
     },
     "execution_count": 32,
     "metadata": {},
     "output_type": "execute_result"
    }
   ],
   "source": [
    "ham_summary.describe()"
   ]
  },
  {
   "cell_type": "code",
   "execution_count": 33,
   "metadata": {
    "execution": {
     "iopub.execute_input": "2020-07-18T05:29:29.090070Z",
     "iopub.status.busy": "2020-07-18T05:29:29.089759Z",
     "iopub.status.idle": "2020-07-18T05:29:29.104582Z",
     "shell.execute_reply": "2020-07-18T05:29:29.104260Z"
    },
    "papermill": {
     "duration": 0.054241,
     "end_time": "2020-07-18T05:29:29.104634",
     "exception": false,
     "start_time": "2020-07-18T05:29:29.050393",
     "status": "completed"
    },
    "tags": []
   },
   "outputs": [
    {
     "name": "stdout",
     "output_type": "stream",
     "text": [
      "length of ham_summary:  656100\n"
     ]
    },
    {
     "data": {
      "text/html": [
       "<div>\n",
       "<style scoped>\n",
       "    .dataframe tbody tr th:only-of-type {\n",
       "        vertical-align: middle;\n",
       "    }\n",
       "\n",
       "    .dataframe tbody tr th {\n",
       "        vertical-align: top;\n",
       "    }\n",
       "\n",
       "    .dataframe thead th {\n",
       "        text-align: right;\n",
       "    }\n",
       "</style>\n",
       "<table border=\"1\" class=\"dataframe\">\n",
       "  <thead>\n",
       "    <tr style=\"text-align: right;\">\n",
       "      <th></th>\n",
       "      <th>id</th>\n",
       "      <th>phase</th>\n",
       "      <th>pred_phase</th>\n",
       "      <th>type_of</th>\n",
       "    </tr>\n",
       "  </thead>\n",
       "  <tbody>\n",
       "    <tr>\n",
       "      <th>0</th>\n",
       "      <td>0</td>\n",
       "      <td>999</td>\n",
       "      <td>0</td>\n",
       "      <td>test</td>\n",
       "    </tr>\n",
       "    <tr>\n",
       "      <th>1</th>\n",
       "      <td>0</td>\n",
       "      <td>999</td>\n",
       "      <td>0</td>\n",
       "      <td>test</td>\n",
       "    </tr>\n",
       "    <tr>\n",
       "      <th>2</th>\n",
       "      <td>0</td>\n",
       "      <td>999</td>\n",
       "      <td>1</td>\n",
       "      <td>test</td>\n",
       "    </tr>\n",
       "    <tr>\n",
       "      <th>3</th>\n",
       "      <td>0</td>\n",
       "      <td>999</td>\n",
       "      <td>0</td>\n",
       "      <td>test</td>\n",
       "    </tr>\n",
       "    <tr>\n",
       "      <th>4</th>\n",
       "      <td>0</td>\n",
       "      <td>999</td>\n",
       "      <td>1</td>\n",
       "      <td>test</td>\n",
       "    </tr>\n",
       "    <tr>\n",
       "      <th>...</th>\n",
       "      <td>...</td>\n",
       "      <td>...</td>\n",
       "      <td>...</td>\n",
       "      <td>...</td>\n",
       "    </tr>\n",
       "    <tr>\n",
       "      <th>656095</th>\n",
       "      <td>6560</td>\n",
       "      <td>999</td>\n",
       "      <td>0</td>\n",
       "      <td>test</td>\n",
       "    </tr>\n",
       "    <tr>\n",
       "      <th>656096</th>\n",
       "      <td>6560</td>\n",
       "      <td>999</td>\n",
       "      <td>1</td>\n",
       "      <td>test</td>\n",
       "    </tr>\n",
       "    <tr>\n",
       "      <th>656097</th>\n",
       "      <td>6560</td>\n",
       "      <td>999</td>\n",
       "      <td>1</td>\n",
       "      <td>test</td>\n",
       "    </tr>\n",
       "    <tr>\n",
       "      <th>656098</th>\n",
       "      <td>6560</td>\n",
       "      <td>999</td>\n",
       "      <td>0</td>\n",
       "      <td>test</td>\n",
       "    </tr>\n",
       "    <tr>\n",
       "      <th>656099</th>\n",
       "      <td>6560</td>\n",
       "      <td>999</td>\n",
       "      <td>1</td>\n",
       "      <td>test</td>\n",
       "    </tr>\n",
       "  </tbody>\n",
       "</table>\n",
       "<p>656100 rows × 4 columns</p>\n",
       "</div>"
      ],
      "text/plain": [
       "          id  phase  pred_phase type_of\n",
       "0          0    999           0    test\n",
       "1          0    999           0    test\n",
       "2          0    999           1    test\n",
       "3          0    999           0    test\n",
       "4          0    999           1    test\n",
       "...      ...    ...         ...     ...\n",
       "656095  6560    999           0    test\n",
       "656096  6560    999           1    test\n",
       "656097  6560    999           1    test\n",
       "656098  6560    999           0    test\n",
       "656099  6560    999           1    test\n",
       "\n",
       "[656100 rows x 4 columns]"
      ]
     },
     "execution_count": 33,
     "metadata": {},
     "output_type": "execute_result"
    }
   ],
   "source": [
    "eigen_summary = simulation.eigenvector_summary\n",
    "print(\"length of ham_summary: \", len(eigen_summary))\n",
    "eigen_summary"
   ]
  },
  {
   "cell_type": "markdown",
   "metadata": {
    "papermill": {
     "duration": 0.038305,
     "end_time": "2020-07-18T05:29:29.180657",
     "exception": false,
     "start_time": "2020-07-18T05:29:29.142352",
     "status": "completed"
    },
    "tags": []
   },
   "source": [
    "#### Checking accuracies"
   ]
  },
  {
   "cell_type": "code",
   "execution_count": 34,
   "metadata": {
    "execution": {
     "iopub.execute_input": "2020-07-18T05:29:29.265363Z",
     "iopub.status.busy": "2020-07-18T05:29:29.265040Z",
     "iopub.status.idle": "2020-07-18T05:29:29.279711Z",
     "shell.execute_reply": "2020-07-18T05:29:29.279977Z"
    },
    "papermill": {
     "duration": 0.058888,
     "end_time": "2020-07-18T05:29:29.280068",
     "exception": false,
     "start_time": "2020-07-18T05:29:29.221180",
     "status": "completed"
    },
    "tags": []
   },
   "outputs": [
    {
     "data": {
      "text/plain": [
       "{'eigenvector_train': 0.974136690647482,\n",
       " 'eigenvector_val': 0.94876,\n",
       " 'eigenvector_test': 0.7347156398104265,\n",
       " 'hamiltonian_train': 1.0,\n",
       " 'hamiltonian_val': 1.0,\n",
       " 'hamiltonian_test': 0.9845971563981043}"
      ]
     },
     "execution_count": 34,
     "metadata": {},
     "output_type": "execute_result"
    }
   ],
   "source": [
    "simulation.accuracy"
   ]
  },
  {
   "cell_type": "markdown",
   "metadata": {
    "papermill": {
     "duration": 0.05486,
     "end_time": "2020-07-18T05:29:29.376881",
     "exception": false,
     "start_time": "2020-07-18T05:29:29.322021",
     "status": "completed"
    },
    "tags": []
   },
   "source": [
    "#### Checking data stored in  memory"
   ]
  },
  {
   "cell_type": "code",
   "execution_count": 35,
   "metadata": {
    "execution": {
     "iopub.execute_input": "2020-07-18T05:29:29.476481Z",
     "iopub.status.busy": "2020-07-18T05:29:29.475955Z",
     "iopub.status.idle": "2020-07-18T05:29:29.487513Z",
     "shell.execute_reply": "2020-07-18T05:29:29.487918Z"
    },
    "papermill": {
     "duration": 0.056341,
     "end_time": "2020-07-18T05:29:29.488015",
     "exception": false,
     "start_time": "2020-07-18T05:29:29.431674",
     "status": "completed"
    },
    "tags": []
   },
   "outputs": [
    {
     "data": {
      "text/plain": [
       "[]"
      ]
     },
     "execution_count": 35,
     "metadata": {},
     "output_type": "execute_result"
    }
   ],
   "source": [
    "ham_summary_list = simulation.hamiltonian_summary_list\n",
    "ham_summary_list"
   ]
  },
  {
   "cell_type": "code",
   "execution_count": 36,
   "metadata": {
    "execution": {
     "iopub.execute_input": "2020-07-18T05:29:29.570897Z",
     "iopub.status.busy": "2020-07-18T05:29:29.570381Z",
     "iopub.status.idle": "2020-07-18T05:29:29.581988Z",
     "shell.execute_reply": "2020-07-18T05:29:29.581583Z"
    },
    "papermill": {
     "duration": 0.054595,
     "end_time": "2020-07-18T05:29:29.582048",
     "exception": false,
     "start_time": "2020-07-18T05:29:29.527453",
     "status": "completed"
    },
    "tags": []
   },
   "outputs": [
    {
     "data": {
      "text/plain": [
       "[]"
      ]
     },
     "execution_count": 36,
     "metadata": {},
     "output_type": "execute_result"
    }
   ],
   "source": [
    "eigen_summary_list = simulation.eigenvector_summary_list\n",
    "eigen_summary_list"
   ]
  },
  {
   "cell_type": "code",
   "execution_count": 37,
   "metadata": {
    "execution": {
     "iopub.execute_input": "2020-07-18T05:29:29.665255Z",
     "iopub.status.busy": "2020-07-18T05:29:29.664750Z",
     "iopub.status.idle": "2020-07-18T05:29:29.675547Z",
     "shell.execute_reply": "2020-07-18T05:29:29.675223Z"
    },
    "papermill": {
     "duration": 0.053159,
     "end_time": "2020-07-18T05:29:29.675598",
     "exception": false,
     "start_time": "2020-07-18T05:29:29.622439",
     "status": "completed"
    },
    "tags": []
   },
   "outputs": [
    {
     "data": {
      "text/plain": [
       "{'eigenvector_train': [],\n",
       " 'eigenvector_val': [],\n",
       " 'eigenvector_test': [],\n",
       " 'hamiltonian_train': [],\n",
       " 'hamiltonian_val': [],\n",
       " 'hamiltonian_test': []}"
      ]
     },
     "execution_count": 37,
     "metadata": {},
     "output_type": "execute_result"
    }
   ],
   "source": [
    "accuracy_list = simulation.accuracy_list\n",
    "accuracy_list"
   ]
  },
  {
   "cell_type": "code",
   "execution_count": null,
   "metadata": {
    "papermill": {
     "duration": 0.038975,
     "end_time": "2020-07-18T05:29:29.754036",
     "exception": false,
     "start_time": "2020-07-18T05:29:29.715061",
     "status": "completed"
    },
    "tags": []
   },
   "outputs": [],
   "source": []
  },
  {
   "cell_type": "code",
   "execution_count": null,
   "metadata": {
    "papermill": {
     "duration": 0.040537,
     "end_time": "2020-07-18T05:29:29.833547",
     "exception": false,
     "start_time": "2020-07-18T05:29:29.793010",
     "status": "completed"
    },
    "tags": []
   },
   "outputs": [],
   "source": []
  },
  {
   "cell_type": "code",
   "execution_count": 38,
   "metadata": {
    "execution": {
     "iopub.execute_input": "2020-07-18T05:29:29.912138Z",
     "iopub.status.busy": "2020-07-18T05:29:29.911821Z",
     "iopub.status.idle": "2020-07-18T05:29:29.921243Z",
     "shell.execute_reply": "2020-07-18T05:29:29.920913Z"
    },
    "papermill": {
     "duration": 0.049324,
     "end_time": "2020-07-18T05:29:29.921296",
     "exception": false,
     "start_time": "2020-07-18T05:29:29.871972",
     "status": "completed"
    },
    "tags": []
   },
   "outputs": [],
   "source": [
    "#simulation.fourier_matrix"
   ]
  },
  {
   "cell_type": "code",
   "execution_count": 39,
   "metadata": {
    "execution": {
     "iopub.execute_input": "2020-07-18T05:29:30.001141Z",
     "iopub.status.busy": "2020-07-18T05:29:30.000833Z",
     "iopub.status.idle": "2020-07-18T05:29:30.010221Z",
     "shell.execute_reply": "2020-07-18T05:29:30.009897Z"
    },
    "papermill": {
     "duration": 0.049859,
     "end_time": "2020-07-18T05:29:30.010274",
     "exception": false,
     "start_time": "2020-07-18T05:29:29.960415",
     "status": "completed"
    },
    "tags": []
   },
   "outputs": [],
   "source": [
    "#simulation.fourier_matrix.shape"
   ]
  },
  {
   "cell_type": "code",
   "execution_count": 40,
   "metadata": {
    "execution": {
     "iopub.execute_input": "2020-07-18T05:29:30.089030Z",
     "iopub.status.busy": "2020-07-18T05:29:30.088719Z",
     "iopub.status.idle": "2020-07-18T05:29:30.097879Z",
     "shell.execute_reply": "2020-07-18T05:29:30.098186Z"
    },
    "papermill": {
     "duration": 0.049635,
     "end_time": "2020-07-18T05:29:30.098252",
     "exception": false,
     "start_time": "2020-07-18T05:29:30.048617",
     "status": "completed"
    },
    "tags": []
   },
   "outputs": [],
   "source": [
    "#simulation.fourier_matrix[:,0]"
   ]
  },
  {
   "cell_type": "code",
   "execution_count": 41,
   "metadata": {
    "execution": {
     "iopub.execute_input": "2020-07-18T05:29:30.178397Z",
     "iopub.status.busy": "2020-07-18T05:29:30.178084Z",
     "iopub.status.idle": "2020-07-18T05:29:30.187713Z",
     "shell.execute_reply": "2020-07-18T05:29:30.187387Z"
    },
    "papermill": {
     "duration": 0.050416,
     "end_time": "2020-07-18T05:29:30.187767",
     "exception": false,
     "start_time": "2020-07-18T05:29:30.137351",
     "status": "completed"
    },
    "tags": []
   },
   "outputs": [],
   "source": [
    "#simulation.fourier_matrix[:,1]"
   ]
  },
  {
   "cell_type": "code",
   "execution_count": 42,
   "metadata": {
    "execution": {
     "iopub.execute_input": "2020-07-18T05:29:30.267096Z",
     "iopub.status.busy": "2020-07-18T05:29:30.266785Z",
     "iopub.status.idle": "2020-07-18T05:29:30.276530Z",
     "shell.execute_reply": "2020-07-18T05:29:30.276197Z"
    },
    "papermill": {
     "duration": 0.050079,
     "end_time": "2020-07-18T05:29:30.276583",
     "exception": false,
     "start_time": "2020-07-18T05:29:30.226504",
     "status": "completed"
    },
    "tags": []
   },
   "outputs": [],
   "source": [
    "#np.exp(-1j*2*np.pi*3/100)"
   ]
  },
  {
   "cell_type": "code",
   "execution_count": 43,
   "metadata": {
    "execution": {
     "iopub.execute_input": "2020-07-18T05:29:30.357174Z",
     "iopub.status.busy": "2020-07-18T05:29:30.356853Z",
     "iopub.status.idle": "2020-07-18T05:29:30.367194Z",
     "shell.execute_reply": "2020-07-18T05:29:30.366855Z"
    },
    "papermill": {
     "duration": 0.051226,
     "end_time": "2020-07-18T05:29:30.367249",
     "exception": false,
     "start_time": "2020-07-18T05:29:30.316023",
     "status": "completed"
    },
    "tags": []
   },
   "outputs": [],
   "source": [
    "#for i in range(1,50):\n",
    "#    print(\"\\n\")\n",
    "#    print(i)\n",
    "#    print(np.sum((np.real(simulation.fourier_matrix[:,i]) - np.real(simulation.fourier_matrix[:,-i]))**2))\n",
    "#    print(np.sum((np.imag(simulation.fourier_matrix[:,i])+ np.imag(simulation.fourier_matrix[:,-i]))**2))"
   ]
  },
  {
   "cell_type": "code",
   "execution_count": 44,
   "metadata": {
    "execution": {
     "iopub.execute_input": "2020-07-18T05:29:30.450168Z",
     "iopub.status.busy": "2020-07-18T05:29:30.449861Z",
     "iopub.status.idle": "2020-07-18T05:29:30.473066Z",
     "shell.execute_reply": "2020-07-18T05:29:30.472734Z"
    },
    "papermill": {
     "duration": 0.066339,
     "end_time": "2020-07-18T05:29:30.473118",
     "exception": false,
     "start_time": "2020-07-18T05:29:30.406779",
     "status": "completed"
    },
    "tags": []
   },
   "outputs": [],
   "source": [
    "#print(simulation.fourier_matrix[:,0])"
   ]
  },
  {
   "cell_type": "code",
   "execution_count": 45,
   "metadata": {
    "execution": {
     "iopub.execute_input": "2020-07-18T05:29:30.553803Z",
     "iopub.status.busy": "2020-07-18T05:29:30.553497Z",
     "iopub.status.idle": "2020-07-18T05:29:30.562919Z",
     "shell.execute_reply": "2020-07-18T05:29:30.562597Z"
    },
    "papermill": {
     "duration": 0.050143,
     "end_time": "2020-07-18T05:29:30.562970",
     "exception": false,
     "start_time": "2020-07-18T05:29:30.512827",
     "status": "completed"
    },
    "tags": []
   },
   "outputs": [],
   "source": [
    "#print(simulation.fourier_matrix[:,50])"
   ]
  },
  {
   "cell_type": "code",
   "execution_count": null,
   "metadata": {
    "papermill": {
     "duration": 0.038151,
     "end_time": "2020-07-18T05:29:30.639618",
     "exception": false,
     "start_time": "2020-07-18T05:29:30.601467",
     "status": "completed"
    },
    "tags": []
   },
   "outputs": [],
   "source": []
  }
 ],
 "metadata": {
  "celltoolbar": "Tags",
  "kernelspec": {
   "display_name": "ml_top_phases",
   "language": "python",
   "name": "ml_top_phases"
  },
  "language_info": {
   "codemirror_mode": {
    "name": "ipython",
    "version": 3
   },
   "file_extension": ".py",
   "mimetype": "text/x-python",
   "name": "python",
   "nbconvert_exporter": "python",
   "pygments_lexer": "ipython3",
   "version": "3.6.10"
  },
  "papermill": {
   "duration": 1040.142948,
   "end_time": "2020-07-18T05:29:30.786955",
   "environment_variables": {},
   "exception": null,
   "input_path": "0_simulation_template.ipynb",
   "output_path": "zzz_ssh1_dct_all_wavevector_sites_simulation_notebook.ipynb",
   "parameters": {
    "allowed_windings": [
     0,
     1
    ],
    "csv_path": "/home/rio/ssh_csvs/ssh1/periodic_100_6561.csv",
    "features_to_use": null,
    "fit_params": null,
    "fourier_features_to_use": null,
    "fourier_fillna": false,
    "fourier_mode": "dct",
    "fourier_normalize": false,
    "fourier_real": null,
    "model_kw": {
     "criterion": "entropy"
    },
    "model_name": "DecisionTreeClassifier",
    "n_experiments": 100,
    "pred_params": null,
    "random_features": false,
    "random_state": 1015,
    "save_accuracy": true,
    "save_eigenvector": true,
    "save_hamiltonian": true,
    "save_models": true,
    "shuffle_features": false,
    "shuffle_rows": true,
    "simulation_dir": "/home/rio/ssh_simulations/ssh1/periodic_100_6561/dct_all_wavevector_sites",
    "start_n": 0,
    "store_in_lists": false,
    "val_split": 0.9
   },
   "start_time": "2020-07-18T05:12:10.644007",
   "version": "2.1.0"
  }
 },
 "nbformat": 4,
 "nbformat_minor": 2
}