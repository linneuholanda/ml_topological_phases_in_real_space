{
 "cells": [
  {
   "cell_type": "markdown",
   "metadata": {
    "papermill": {
     "duration": 0.02099,
     "end_time": "2020-07-18T05:31:02.385219",
     "exception": false,
     "start_time": "2020-07-18T05:31:02.364229",
     "status": "completed"
    },
    "tags": []
   },
   "source": [
    "# Simulation template \n",
    "\n",
    "In this notebook we run the machine learning analysis of topological phase transitions occurring  in both nearest-neighbours SSH models (ssh1) and second neighbours models (ssh2) as decribed in the paper [Machine learning topological phases in real space](https://arxiv.org/abs/1901.01963). Here the simulation is run with features generated from fourier components in the first scenario. This scenario is characterized by using only the EVEN wavevector space eigenmodes, computed from ALL real space components."
   ]
  },
  {
   "cell_type": "markdown",
   "metadata": {
    "papermill": {
     "duration": 0.017096,
     "end_time": "2020-07-18T05:31:02.419305",
     "exception": false,
     "start_time": "2020-07-18T05:31:02.402209",
     "status": "completed"
    },
    "tags": []
   },
   "source": [
    "## Defining parameters"
   ]
  },
  {
   "cell_type": "code",
   "execution_count": 1,
   "metadata": {
    "execution": {
     "iopub.execute_input": "2020-07-18T05:31:02.456069Z",
     "iopub.status.busy": "2020-07-18T05:31:02.455747Z",
     "iopub.status.idle": "2020-07-18T05:31:03.039099Z",
     "shell.execute_reply": "2020-07-18T05:31:03.039357Z"
    },
    "papermill": {
     "duration": 0.603826,
     "end_time": "2020-07-18T05:31:03.039431",
     "exception": false,
     "start_time": "2020-07-18T05:31:02.435605",
     "status": "completed"
    },
    "tags": []
   },
   "outputs": [
    {
     "name": "stdout",
     "output_type": "stream",
     "text": [
      "CPU times: user 757 ms, sys: 257 ms, total: 1.01 s\n",
      "Wall time: 577 ms\n"
     ]
    }
   ],
   "source": [
    "%%time\n",
    "%load_ext autoreload\n",
    "%autoreload 2\n",
    "from simulation import *"
   ]
  },
  {
   "cell_type": "code",
   "execution_count": 2,
   "metadata": {
    "execution": {
     "iopub.execute_input": "2020-07-18T05:31:03.076514Z",
     "iopub.status.busy": "2020-07-18T05:31:03.076176Z",
     "iopub.status.idle": "2020-07-18T05:31:03.087352Z",
     "shell.execute_reply": "2020-07-18T05:31:03.086824Z"
    },
    "papermill": {
     "duration": 0.031018,
     "end_time": "2020-07-18T05:31:03.087471",
     "exception": false,
     "start_time": "2020-07-18T05:31:03.056453",
     "status": "completed"
    },
    "tags": [
     "parameters"
    ]
   },
   "outputs": [
    {
     "name": "stdout",
     "output_type": "stream",
     "text": [
      "CPU times: user 3 µs, sys: 0 ns, total: 3 µs\n",
      "Wall time: 5.25 µs\n"
     ]
    }
   ],
   "source": [
    "%%time\n",
    "### Dataset and simulation parameters\n",
    "#csv_path = SSH2_PERIODIC_100_6561_CSV \n",
    "csv_path = SSH1_PERIODIC_100_6561_CSV \n",
    "model_name = \"DecisionTreeClassifier\"\n",
    "model_kw = {\"criterion\":\"entropy\"}\n",
    "allowed_windings = [0,1]\n",
    "#allowed_windings = [-1,0,1,2]\n",
    "simulation_dir = SSH1_REAL_SPACE_ALL_SITES\n",
    "#simulation_dir = SSH2_PERIODIC_ENGINEERED_100_6561_SIMULATION_DIR\n",
    "val_split = 0.9  \n",
    "features_to_use = None\n",
    "shuffle_features = False\n",
    "random_state = 763\n",
    "\n",
    "### Fourier features\n",
    "fourier_mode = \"dst\"\n",
    "fourier_features_to_use = None\n",
    "fourier_real = \"imag\"\n",
    "fourier_normalize = False\n",
    "fourier_fillna = False\n",
    "\n",
    "### Running a simulation\n",
    "n_experiments = 5\n",
    "start_n = 0\n",
    "fit_params = None\n",
    "#mode=mode\n",
    "shuffle_rows = True\n",
    "pred_params = None\n",
    "random_features = False\n",
    "######### DON'T SET THIS TO TRUE UNLESS YOUR DATASET IS SMALL!! WILL FLOOD YOUR MEMORY!!!\n",
    "store_in_lists = False   \n",
    "########## BELOW ARE THE PARAMETERS THAT CONTROL WHAT WILL BE SAVED\n",
    "save_eigenvector=True\n",
    "save_hamiltonian=True \n",
    "save_accuracy=True \n",
    "save_models=True"
   ]
  },
  {
   "cell_type": "code",
   "execution_count": 3,
   "metadata": {
    "execution": {
     "iopub.execute_input": "2020-07-18T05:31:03.124198Z",
     "iopub.status.busy": "2020-07-18T05:31:03.123880Z",
     "iopub.status.idle": "2020-07-18T05:31:03.206235Z",
     "shell.execute_reply": "2020-07-18T05:31:03.205399Z"
    },
    "papermill": {
     "duration": 0.102117,
     "end_time": "2020-07-18T05:31:03.206409",
     "exception": false,
     "start_time": "2020-07-18T05:31:03.104292",
     "status": "completed"
    },
    "tags": [
     "injected-parameters"
    ]
   },
   "outputs": [],
   "source": [
    "# Parameters\n",
    "model_kw = {\"criterion\": \"entropy\"}\n",
    "allowed_windings = [0, 1]\n",
    "val_split = 0.9\n",
    "features_to_use = None\n",
    "shuffle_features = False\n",
    "n_experiments = 100\n",
    "start_n = 0\n",
    "fit_params = None\n",
    "shuffle_rows = True\n",
    "pred_params = None\n",
    "random_features = False\n",
    "store_in_lists = False\n",
    "save_eigenvector = True\n",
    "save_hamiltonian = True\n",
    "save_accuracy = True\n",
    "save_models = True\n",
    "csv_path = \"/home/rio/ssh_csvs/ssh1/periodic_100_6561.csv\"\n",
    "model_name = \"DecisionTreeClassifier\"\n",
    "simulation_dir = (\n",
    "    \"/home/rio/ssh_simulations/ssh1/periodic_100_6561/dct_best_04_wavevector_sites\"\n",
    ")\n",
    "random_state = 1016\n",
    "fourier_features_to_use = [1, 2, 36, 49]\n",
    "fourier_mode = \"dct\"\n",
    "fourier_real = None\n",
    "fourier_normalize = False\n",
    "fourier_fillna = False\n"
   ]
  },
  {
   "cell_type": "code",
   "execution_count": 4,
   "metadata": {
    "execution": {
     "iopub.execute_input": "2020-07-18T05:31:03.283356Z",
     "iopub.status.busy": "2020-07-18T05:31:03.282828Z",
     "iopub.status.idle": "2020-07-18T05:31:08.747292Z",
     "shell.execute_reply": "2020-07-18T05:31:08.746973Z"
    },
    "papermill": {
     "duration": 5.486731,
     "end_time": "2020-07-18T05:31:08.747343",
     "exception": false,
     "start_time": "2020-07-18T05:31:03.260612",
     "status": "completed"
    },
    "tags": []
   },
   "outputs": [
    {
     "name": "stdout",
     "output_type": "stream",
     "text": [
      "Info on all data: \n",
      "\n",
      "<class 'pandas.core.frame.DataFrame'>\n",
      "Int64Index: 656100 entries, 0 to 656099\n",
      "Columns: 108 entries, id to feat99\n",
      "dtypes: float64(103), int32(3), object(2)\n",
      "memory usage: 538.1+ MB\n",
      "CPU times: user 5.45 s, sys: 586 ms, total: 6.03 s\n",
      "Wall time: 5.43 s\n"
     ]
    },
    {
     "data": {
      "text/html": [
       "<div>\n",
       "<style scoped>\n",
       "    .dataframe tbody tr th:only-of-type {\n",
       "        vertical-align: middle;\n",
       "    }\n",
       "\n",
       "    .dataframe tbody tr th {\n",
       "        vertical-align: top;\n",
       "    }\n",
       "\n",
       "    .dataframe thead th {\n",
       "        text-align: right;\n",
       "    }\n",
       "</style>\n",
       "<table border=\"1\" class=\"dataframe\">\n",
       "  <thead>\n",
       "    <tr style=\"text-align: right;\">\n",
       "      <th></th>\n",
       "      <th>id</th>\n",
       "      <th>path</th>\n",
       "      <th>t1</th>\n",
       "      <th>t2</th>\n",
       "      <th>winding</th>\n",
       "      <th>phase</th>\n",
       "      <th>pred_phase</th>\n",
       "      <th>type_of</th>\n",
       "      <th>feat0</th>\n",
       "      <th>feat1</th>\n",
       "      <th>...</th>\n",
       "      <th>feat90</th>\n",
       "      <th>feat91</th>\n",
       "      <th>feat92</th>\n",
       "      <th>feat93</th>\n",
       "      <th>feat94</th>\n",
       "      <th>feat95</th>\n",
       "      <th>feat96</th>\n",
       "      <th>feat97</th>\n",
       "      <th>feat98</th>\n",
       "      <th>feat99</th>\n",
       "    </tr>\n",
       "  </thead>\n",
       "  <tbody>\n",
       "    <tr>\n",
       "      <th>0</th>\n",
       "      <td>0</td>\n",
       "      <td>H_-2_-2_0.509296.dat</td>\n",
       "      <td>-2.0</td>\n",
       "      <td>-2.0</td>\n",
       "      <td>0.509296</td>\n",
       "      <td>999</td>\n",
       "      <td>666</td>\n",
       "      <td>test</td>\n",
       "      <td>0.100000</td>\n",
       "      <td>0.100000</td>\n",
       "      <td>...</td>\n",
       "      <td>0.100000</td>\n",
       "      <td>0.100000</td>\n",
       "      <td>0.100000</td>\n",
       "      <td>0.100000</td>\n",
       "      <td>0.100000</td>\n",
       "      <td>0.100000</td>\n",
       "      <td>0.100000</td>\n",
       "      <td>0.100000</td>\n",
       "      <td>0.100000</td>\n",
       "      <td>0.100000</td>\n",
       "    </tr>\n",
       "    <tr>\n",
       "      <th>1</th>\n",
       "      <td>0</td>\n",
       "      <td>H_-2_-2_0.509296.dat</td>\n",
       "      <td>-2.0</td>\n",
       "      <td>-2.0</td>\n",
       "      <td>0.509296</td>\n",
       "      <td>999</td>\n",
       "      <td>666</td>\n",
       "      <td>test</td>\n",
       "      <td>0.141421</td>\n",
       "      <td>0.141142</td>\n",
       "      <td>...</td>\n",
       "      <td>0.114412</td>\n",
       "      <td>0.108967</td>\n",
       "      <td>0.123928</td>\n",
       "      <td>0.119406</td>\n",
       "      <td>0.131490</td>\n",
       "      <td>0.127962</td>\n",
       "      <td>0.136978</td>\n",
       "      <td>0.134500</td>\n",
       "      <td>0.140306</td>\n",
       "      <td>0.138916</td>\n",
       "    </tr>\n",
       "    <tr>\n",
       "      <th>2</th>\n",
       "      <td>0</td>\n",
       "      <td>H_-2_-2_0.509296.dat</td>\n",
       "      <td>-2.0</td>\n",
       "      <td>-2.0</td>\n",
       "      <td>0.509296</td>\n",
       "      <td>999</td>\n",
       "      <td>666</td>\n",
       "      <td>test</td>\n",
       "      <td>0.141421</td>\n",
       "      <td>0.140306</td>\n",
       "      <td>...</td>\n",
       "      <td>0.043702</td>\n",
       "      <td>0.026500</td>\n",
       "      <td>0.075777</td>\n",
       "      <td>0.060214</td>\n",
       "      <td>0.103092</td>\n",
       "      <td>0.090145</td>\n",
       "      <td>0.123928</td>\n",
       "      <td>0.114412</td>\n",
       "      <td>0.136978</td>\n",
       "      <td>0.131490</td>\n",
       "    </tr>\n",
       "    <tr>\n",
       "      <th>3</th>\n",
       "      <td>0</td>\n",
       "      <td>H_-2_-2_0.509296.dat</td>\n",
       "      <td>-2.0</td>\n",
       "      <td>-2.0</td>\n",
       "      <td>0.509296</td>\n",
       "      <td>999</td>\n",
       "      <td>666</td>\n",
       "      <td>test</td>\n",
       "      <td>-0.100000</td>\n",
       "      <td>0.100000</td>\n",
       "      <td>...</td>\n",
       "      <td>-0.100000</td>\n",
       "      <td>0.100000</td>\n",
       "      <td>-0.100000</td>\n",
       "      <td>0.100000</td>\n",
       "      <td>-0.100000</td>\n",
       "      <td>0.100000</td>\n",
       "      <td>-0.100000</td>\n",
       "      <td>0.100000</td>\n",
       "      <td>-0.100000</td>\n",
       "      <td>0.100000</td>\n",
       "    </tr>\n",
       "    <tr>\n",
       "      <th>4</th>\n",
       "      <td>0</td>\n",
       "      <td>H_-2_-2_0.509296.dat</td>\n",
       "      <td>-2.0</td>\n",
       "      <td>-2.0</td>\n",
       "      <td>0.509296</td>\n",
       "      <td>999</td>\n",
       "      <td>666</td>\n",
       "      <td>test</td>\n",
       "      <td>0.000509</td>\n",
       "      <td>-0.008372</td>\n",
       "      <td>...</td>\n",
       "      <td>-0.082713</td>\n",
       "      <td>-0.089753</td>\n",
       "      <td>-0.067684</td>\n",
       "      <td>-0.075347</td>\n",
       "      <td>-0.051587</td>\n",
       "      <td>-0.059753</td>\n",
       "      <td>-0.034677</td>\n",
       "      <td>-0.043217</td>\n",
       "      <td>-0.017220</td>\n",
       "      <td>-0.026000</td>\n",
       "    </tr>\n",
       "  </tbody>\n",
       "</table>\n",
       "<p>5 rows × 108 columns</p>\n",
       "</div>"
      ],
      "text/plain": [
       "   id                  path   t1   t2   winding  phase  pred_phase type_of  \\\n",
       "0   0  H_-2_-2_0.509296.dat -2.0 -2.0  0.509296    999         666    test   \n",
       "1   0  H_-2_-2_0.509296.dat -2.0 -2.0  0.509296    999         666    test   \n",
       "2   0  H_-2_-2_0.509296.dat -2.0 -2.0  0.509296    999         666    test   \n",
       "3   0  H_-2_-2_0.509296.dat -2.0 -2.0  0.509296    999         666    test   \n",
       "4   0  H_-2_-2_0.509296.dat -2.0 -2.0  0.509296    999         666    test   \n",
       "\n",
       "      feat0     feat1  ...    feat90    feat91    feat92    feat93    feat94  \\\n",
       "0  0.100000  0.100000  ...  0.100000  0.100000  0.100000  0.100000  0.100000   \n",
       "1  0.141421  0.141142  ...  0.114412  0.108967  0.123928  0.119406  0.131490   \n",
       "2  0.141421  0.140306  ...  0.043702  0.026500  0.075777  0.060214  0.103092   \n",
       "3 -0.100000  0.100000  ... -0.100000  0.100000 -0.100000  0.100000 -0.100000   \n",
       "4  0.000509 -0.008372  ... -0.082713 -0.089753 -0.067684 -0.075347 -0.051587   \n",
       "\n",
       "     feat95    feat96    feat97    feat98    feat99  \n",
       "0  0.100000  0.100000  0.100000  0.100000  0.100000  \n",
       "1  0.127962  0.136978  0.134500  0.140306  0.138916  \n",
       "2  0.090145  0.123928  0.114412  0.136978  0.131490  \n",
       "3  0.100000 -0.100000  0.100000 -0.100000  0.100000  \n",
       "4 -0.059753 -0.034677 -0.043217 -0.017220 -0.026000  \n",
       "\n",
       "[5 rows x 108 columns]"
      ]
     },
     "execution_count": 4,
     "metadata": {},
     "output_type": "execute_result"
    }
   ],
   "source": [
    "%%time\n",
    "#Starting an instance of Simulation with a decision tree\n",
    "model = DecisionTreeClassifier(criterion=\"entropy\")\n",
    "#dict_args = {\"csv_path\":csv_path, \"model\":model, \"allowed_windings\":allowed_windings,\\\n",
    "#             \"simulation_dir\":simulation_dir, \"val_split\":val_split, \"features_to_use\":features_to_use,\\\n",
    "#            \"shuffle_features\":shuffle_features, \"random_state\":random_state}\n",
    "simulation = Simulation(csv_path,model_name,model_kw,allowed_windings,simulation_dir,val_split,features_to_use,\\\n",
    "                       shuffle_features,fourier_mode,fourier_features_to_use,fourier_real,\\\n",
    "                       fourier_normalize, fourier_fillna , random_state)\n",
    "#simulation = Simulation(**dict_args)\n",
    "\n",
    "\n",
    "#(self, csv_path, model_name, model_kw, allowed_windings, simulation_dir = None, val_split = 0, \n",
    "# features_to_use = None, shuffle_features = False, fourier_mode=None, fourier_features_to_use=None,\n",
    "# fourier_real = False, fourier_normalize = False, Fourier_fillna=False, random_state = None):\n",
    "\n",
    "\n",
    "\n",
    "print(\"Info on all data: \\n\")\n",
    "simulation.dataframe.info()\n",
    "simulation.dataframe.head()"
   ]
  },
  {
   "cell_type": "markdown",
   "metadata": {
    "papermill": {
     "duration": 0.01719,
     "end_time": "2020-07-18T05:31:08.825346",
     "exception": false,
     "start_time": "2020-07-18T05:31:08.808156",
     "status": "completed"
    },
    "tags": []
   },
   "source": [
    "####  Fourier features"
   ]
  },
  {
   "cell_type": "code",
   "execution_count": 5,
   "metadata": {
    "execution": {
     "iopub.execute_input": "2020-07-18T05:31:08.863449Z",
     "iopub.status.busy": "2020-07-18T05:31:08.862938Z",
     "iopub.status.idle": "2020-07-18T05:31:08.944791Z",
     "shell.execute_reply": "2020-07-18T05:31:08.944467Z"
    },
    "papermill": {
     "duration": 0.102228,
     "end_time": "2020-07-18T05:31:08.944844",
     "exception": false,
     "start_time": "2020-07-18T05:31:08.842616",
     "status": "completed"
    },
    "tags": []
   },
   "outputs": [
    {
     "name": "stdout",
     "output_type": "stream",
     "text": [
      "<class 'pandas.core.frame.DataFrame'>\n",
      "Int64Index: 656100 entries, 0 to 656099\n",
      "Data columns (total 12 columns):\n",
      " #   Column      Non-Null Count   Dtype  \n",
      "---  ------      --------------   -----  \n",
      " 0   id          656100 non-null  int32  \n",
      " 1   path        656100 non-null  object \n",
      " 2   t1          656100 non-null  float64\n",
      " 3   t2          656100 non-null  float64\n",
      " 4   winding     656100 non-null  float64\n",
      " 5   phase       656100 non-null  int32  \n",
      " 6   pred_phase  656100 non-null  int32  \n",
      " 7   type_of     656100 non-null  object \n",
      " 8   dct_feat1   656100 non-null  float64\n",
      " 9   dct_feat2   656100 non-null  float64\n",
      " 10  dct_feat36  656100 non-null  float64\n",
      " 11  dct_feat49  656100 non-null  float64\n",
      "dtypes: float64(7), int32(3), object(2)\n",
      "memory usage: 57.6+ MB\n",
      "CPU times: user 72 ms, sys: 11 µs, total: 72 ms\n",
      "Wall time: 71.4 ms\n"
     ]
    }
   ],
   "source": [
    "%%time\n",
    "#simulation.generate_fourier_df()\n",
    "if simulation.fourier_mode is not None:\n",
    "    simulation.fourier_dataframe.info() \n",
    "    simulation.fourier_dataframe.sample(15)\n"
   ]
  },
  {
   "cell_type": "code",
   "execution_count": 6,
   "metadata": {
    "execution": {
     "iopub.execute_input": "2020-07-18T05:31:08.984051Z",
     "iopub.status.busy": "2020-07-18T05:31:08.983721Z",
     "iopub.status.idle": "2020-07-18T05:31:08.996875Z",
     "shell.execute_reply": "2020-07-18T05:31:08.996556Z"
    },
    "papermill": {
     "duration": 0.034123,
     "end_time": "2020-07-18T05:31:08.996927",
     "exception": false,
     "start_time": "2020-07-18T05:31:08.962804",
     "status": "completed"
    },
    "tags": []
   },
   "outputs": [
    {
     "name": "stdout",
     "output_type": "stream",
     "text": [
      "features_to_use: \n",
      "\n",
      "\n",
      "None\n",
      "\n",
      "\n",
      "fourier_features: \n",
      "\n",
      "\n",
      "['dct_feat1', 'dct_feat2', 'dct_feat36', 'dct_feat49']\n",
      "\n",
      "\n",
      "Number of Fourier features: \n",
      "\n",
      "\n",
      "4\n",
      "\n",
      "\n",
      "Fourier operator: \n",
      "[[ 1.00000000e+00  2.00000000e+00  2.00000000e+00  1.00000000e+00]\n",
      " [ 9.98026728e-01  1.98422940e+00 -1.27484798e+00 -9.98026728e-01]\n",
      " [ 9.92114701e-01  1.93716632e+00 -3.74762629e-01  9.92114701e-01]\n",
      " [ 9.82287251e-01  1.85955297e+00  1.75261336e+00 -9.82287251e-01]\n",
      " [ 9.68583161e-01  1.75261336e+00 -1.85955297e+00  9.68583161e-01]\n",
      " [ 9.51056516e-01  1.61803399e+00  6.18033989e-01 -9.51056516e-01]\n",
      " [ 9.29776486e-01  1.45793725e+00  1.07165359e+00  9.29776486e-01]\n",
      " [ 9.04827052e-01  1.27484798e+00 -1.98422940e+00 -9.04827052e-01]\n",
      " [ 8.76306680e-01  1.07165359e+00  1.45793725e+00  8.76306680e-01]\n",
      " [ 8.44327926e-01  8.51558583e-01  1.25581039e-01 -8.44327926e-01]\n",
      " [ 8.09016994e-01  6.18033989e-01 -1.61803399e+00  8.09016994e-01]\n",
      " [ 7.70513243e-01  3.74762629e-01  1.93716632e+00 -7.70513243e-01]\n",
      " [ 7.28968627e-01  1.25581039e-01 -8.51558583e-01  7.28968627e-01]\n",
      " [ 6.84547106e-01 -1.25581039e-01 -8.51558583e-01 -6.84547106e-01]\n",
      " [ 6.37423990e-01 -3.74762629e-01  1.93716632e+00  6.37423990e-01]\n",
      " [ 5.87785252e-01 -6.18033989e-01 -1.61803399e+00 -5.87785252e-01]\n",
      " [ 5.35826795e-01 -8.51558583e-01  1.25581039e-01  5.35826795e-01]\n",
      " [ 4.81753674e-01 -1.07165359e+00  1.45793725e+00 -4.81753674e-01]\n",
      " [ 4.25779292e-01 -1.27484798e+00 -1.98422940e+00  4.25779292e-01]\n",
      " [ 3.68124553e-01 -1.45793725e+00  1.07165359e+00 -3.68124553e-01]\n",
      " [ 3.09016994e-01 -1.61803399e+00  6.18033989e-01  3.09016994e-01]\n",
      " [ 2.48689887e-01 -1.75261336e+00 -1.85955297e+00 -2.48689887e-01]\n",
      " [ 1.87381315e-01 -1.85955297e+00  1.75261336e+00  1.87381315e-01]\n",
      " [ 1.25333234e-01 -1.93716632e+00 -3.74762629e-01 -1.25333234e-01]\n",
      " [ 6.27905195e-02 -1.98422940e+00 -1.27484798e+00  6.27905195e-02]\n",
      " [-1.60812265e-16 -2.00000000e+00  2.00000000e+00 -5.88139954e-15]\n",
      " [-6.27905195e-02 -1.98422940e+00 -1.27484798e+00 -6.27905195e-02]\n",
      " [-1.25333234e-01 -1.93716632e+00 -3.74762629e-01  1.25333234e-01]\n",
      " [-1.87381315e-01 -1.85955297e+00  1.75261336e+00 -1.87381315e-01]\n",
      " [-2.48689887e-01 -1.75261336e+00 -1.85955297e+00  2.48689887e-01]\n",
      " [-3.09016994e-01 -1.61803399e+00  6.18033989e-01 -3.09016994e-01]\n",
      " [-3.68124553e-01 -1.45793725e+00  1.07165359e+00  3.68124553e-01]\n",
      " [-4.25779292e-01 -1.27484798e+00 -1.98422940e+00 -4.25779292e-01]\n",
      " [-4.81753674e-01 -1.07165359e+00  1.45793725e+00  4.81753674e-01]\n",
      " [-5.35826795e-01 -8.51558583e-01  1.25581039e-01 -5.35826795e-01]\n",
      " [-5.87785252e-01 -6.18033989e-01 -1.61803399e+00  5.87785252e-01]\n",
      " [-6.37423990e-01 -3.74762629e-01  1.93716632e+00 -6.37423990e-01]\n",
      " [-6.84547106e-01 -1.25581039e-01 -8.51558583e-01  6.84547106e-01]\n",
      " [-7.28968627e-01  1.25581039e-01 -8.51558583e-01 -7.28968627e-01]\n",
      " [-7.70513243e-01  3.74762629e-01  1.93716632e+00  7.70513243e-01]\n",
      " [-8.09016994e-01  6.18033989e-01 -1.61803399e+00 -8.09016994e-01]\n",
      " [-8.44327926e-01  8.51558583e-01  1.25581039e-01  8.44327926e-01]\n",
      " [-8.76306680e-01  1.07165359e+00  1.45793725e+00 -8.76306680e-01]\n",
      " [-9.04827052e-01  1.27484798e+00 -1.98422940e+00  9.04827052e-01]\n",
      " [-9.29776486e-01  1.45793725e+00  1.07165359e+00 -9.29776486e-01]\n",
      " [-9.51056516e-01  1.61803399e+00  6.18033989e-01  9.51056516e-01]\n",
      " [-9.68583161e-01  1.75261336e+00 -1.85955297e+00 -9.68583161e-01]\n",
      " [-9.82287251e-01  1.85955297e+00  1.75261336e+00  9.82287251e-01]\n",
      " [-9.92114701e-01  1.93716632e+00 -3.74762629e-01 -9.92114701e-01]\n",
      " [-9.98026728e-01  1.98422940e+00 -1.27484798e+00  9.98026728e-01]\n",
      " [-1.00000000e+00  2.00000000e+00  2.00000000e+00 -1.00000000e+00]]\n",
      "\n",
      "\n",
      "Shape of Fourier operator: \n",
      "(51, 4)\n"
     ]
    }
   ],
   "source": [
    "print(\"features_to_use: \")\n",
    "print(\"\\n\")\n",
    "print(simulation.features_to_use)\n",
    "if simulation.features_to_use is not None:\n",
    "    print(\"Number of real space features:\")\n",
    "    print(\"\\n\")\n",
    "    print(len(simulation.features_to_use))\n",
    "print(\"\\n\")\n",
    "print(\"fourier_features: \")\n",
    "print(\"\\n\")\n",
    "print(simulation.fourier_features)\n",
    "print(\"\\n\")\n",
    "if simulation.fourier_features is not None:\n",
    "    print(\"Number of Fourier features: \")\n",
    "    print(\"\\n\")\n",
    "    print(len(simulation.fourier_features))\n",
    "print(\"\\n\")\n",
    "print(\"Fourier operator: \")\n",
    "print(simulation.fourier_operator)\n",
    "print(\"\\n\")\n",
    "if simulation.fourier_operator is not None:\n",
    "    print(\"Shape of Fourier operator: \")\n",
    "    print(simulation.fourier_operator.shape)"
   ]
  },
  {
   "cell_type": "code",
   "execution_count": 7,
   "metadata": {
    "execution": {
     "iopub.execute_input": "2020-07-18T05:31:09.034142Z",
     "iopub.status.busy": "2020-07-18T05:31:09.033650Z",
     "iopub.status.idle": "2020-07-18T05:31:09.083400Z",
     "shell.execute_reply": "2020-07-18T05:31:09.083010Z"
    },
    "papermill": {
     "duration": 0.069149,
     "end_time": "2020-07-18T05:31:09.083465",
     "exception": false,
     "start_time": "2020-07-18T05:31:09.014316",
     "status": "completed"
    },
    "tags": []
   },
   "outputs": [],
   "source": [
    "#a = np.array([1+1j,2+3j,4+8j])\n",
    "#np.imag(a)"
   ]
  },
  {
   "cell_type": "code",
   "execution_count": 8,
   "metadata": {
    "execution": {
     "iopub.execute_input": "2020-07-18T05:31:09.125203Z",
     "iopub.status.busy": "2020-07-18T05:31:09.124713Z",
     "iopub.status.idle": "2020-07-18T05:31:09.213090Z",
     "shell.execute_reply": "2020-07-18T05:31:09.211157Z"
    },
    "papermill": {
     "duration": 0.108985,
     "end_time": "2020-07-18T05:31:09.213426",
     "exception": false,
     "start_time": "2020-07-18T05:31:09.104441",
     "status": "completed"
    },
    "tags": []
   },
   "outputs": [],
   "source": [
    "#plt.plot(np.imag(simulation.fourier_operator[:,0]))"
   ]
  },
  {
   "cell_type": "code",
   "execution_count": 9,
   "metadata": {
    "execution": {
     "iopub.execute_input": "2020-07-18T05:31:09.284180Z",
     "iopub.status.busy": "2020-07-18T05:31:09.283691Z",
     "iopub.status.idle": "2020-07-18T05:31:09.294394Z",
     "shell.execute_reply": "2020-07-18T05:31:09.294050Z"
    },
    "papermill": {
     "duration": 0.032143,
     "end_time": "2020-07-18T05:31:09.294448",
     "exception": false,
     "start_time": "2020-07-18T05:31:09.262305",
     "status": "completed"
    },
    "tags": []
   },
   "outputs": [],
   "source": [
    "#np.sin(np.pi/(50))*2"
   ]
  },
  {
   "cell_type": "code",
   "execution_count": 10,
   "metadata": {
    "execution": {
     "iopub.execute_input": "2020-07-18T05:31:09.332796Z",
     "iopub.status.busy": "2020-07-18T05:31:09.332290Z",
     "iopub.status.idle": "2020-07-18T05:31:09.386188Z",
     "shell.execute_reply": "2020-07-18T05:31:09.385805Z"
    },
    "papermill": {
     "duration": 0.073708,
     "end_time": "2020-07-18T05:31:09.386247",
     "exception": false,
     "start_time": "2020-07-18T05:31:09.312539",
     "status": "completed"
    },
    "tags": []
   },
   "outputs": [],
   "source": [
    "#2*np.sin(np.pi/50*49)"
   ]
  },
  {
   "cell_type": "code",
   "execution_count": 11,
   "metadata": {
    "execution": {
     "iopub.execute_input": "2020-07-18T05:31:09.430518Z",
     "iopub.status.busy": "2020-07-18T05:31:09.430191Z",
     "iopub.status.idle": "2020-07-18T05:31:09.441184Z",
     "shell.execute_reply": "2020-07-18T05:31:09.441467Z"
    },
    "papermill": {
     "duration": 0.032295,
     "end_time": "2020-07-18T05:31:09.441541",
     "exception": false,
     "start_time": "2020-07-18T05:31:09.409246",
     "status": "completed"
    },
    "tags": []
   },
   "outputs": [],
   "source": [
    "#simulation.dataframe.iloc[331456,:]"
   ]
  },
  {
   "cell_type": "code",
   "execution_count": 12,
   "metadata": {
    "execution": {
     "iopub.execute_input": "2020-07-18T05:31:09.480814Z",
     "iopub.status.busy": "2020-07-18T05:31:09.480500Z",
     "iopub.status.idle": "2020-07-18T05:31:09.525286Z",
     "shell.execute_reply": "2020-07-18T05:31:09.524928Z"
    },
    "papermill": {
     "duration": 0.065033,
     "end_time": "2020-07-18T05:31:09.525352",
     "exception": false,
     "start_time": "2020-07-18T05:31:09.460319",
     "status": "completed"
    },
    "tags": []
   },
   "outputs": [],
   "source": [
    "#for ix, obj in enumerate(simulation.dataframe.iloc[331456,:].values):\n",
    "#    print(ix,obj)"
   ]
  },
  {
   "cell_type": "code",
   "execution_count": 13,
   "metadata": {
    "execution": {
     "iopub.execute_input": "2020-07-18T05:31:09.574358Z",
     "iopub.status.busy": "2020-07-18T05:31:09.574036Z",
     "iopub.status.idle": "2020-07-18T05:31:09.623291Z",
     "shell.execute_reply": "2020-07-18T05:31:09.624993Z"
    },
    "papermill": {
     "duration": 0.074742,
     "end_time": "2020-07-18T05:31:09.625302",
     "exception": false,
     "start_time": "2020-07-18T05:31:09.550560",
     "status": "completed"
    },
    "tags": []
   },
   "outputs": [],
   "source": [
    "#simulation.fourier_engineered_dataframe.dct_feat0"
   ]
  },
  {
   "cell_type": "code",
   "execution_count": 14,
   "metadata": {
    "execution": {
     "iopub.execute_input": "2020-07-18T05:31:09.698166Z",
     "iopub.status.busy": "2020-07-18T05:31:09.697278Z",
     "iopub.status.idle": "2020-07-18T05:31:09.716088Z",
     "shell.execute_reply": "2020-07-18T05:31:09.715474Z"
    },
    "papermill": {
     "duration": 0.043969,
     "end_time": "2020-07-18T05:31:09.716179",
     "exception": false,
     "start_time": "2020-07-18T05:31:09.672210",
     "status": "completed"
    },
    "tags": []
   },
   "outputs": [],
   "source": [
    "#simulation.features"
   ]
  },
  {
   "cell_type": "code",
   "execution_count": 15,
   "metadata": {
    "execution": {
     "iopub.execute_input": "2020-07-18T05:31:09.765433Z",
     "iopub.status.busy": "2020-07-18T05:31:09.765104Z",
     "iopub.status.idle": "2020-07-18T05:31:09.775130Z",
     "shell.execute_reply": "2020-07-18T05:31:09.774784Z"
    },
    "papermill": {
     "duration": 0.030856,
     "end_time": "2020-07-18T05:31:09.775186",
     "exception": false,
     "start_time": "2020-07-18T05:31:09.744330",
     "status": "completed"
    },
    "tags": []
   },
   "outputs": [],
   "source": [
    "#simulation.fourier_matrix"
   ]
  },
  {
   "cell_type": "code",
   "execution_count": 16,
   "metadata": {
    "execution": {
     "iopub.execute_input": "2020-07-18T05:31:09.813710Z",
     "iopub.status.busy": "2020-07-18T05:31:09.813399Z",
     "iopub.status.idle": "2020-07-18T05:31:09.885094Z",
     "shell.execute_reply": "2020-07-18T05:31:09.884478Z"
    },
    "papermill": {
     "duration": 0.092047,
     "end_time": "2020-07-18T05:31:09.885202",
     "exception": false,
     "start_time": "2020-07-18T05:31:09.793155",
     "status": "completed"
    },
    "tags": []
   },
   "outputs": [],
   "source": [
    "#1/simulation.n_features*simulation.dataframe.loc[:,simulation.features].sum(axis=1)"
   ]
  },
  {
   "cell_type": "code",
   "execution_count": 17,
   "metadata": {
    "execution": {
     "iopub.execute_input": "2020-07-18T05:31:09.955530Z",
     "iopub.status.busy": "2020-07-18T05:31:09.955194Z",
     "iopub.status.idle": "2020-07-18T05:31:09.965036Z",
     "shell.execute_reply": "2020-07-18T05:31:09.965374Z"
    },
    "papermill": {
     "duration": 0.033414,
     "end_time": "2020-07-18T05:31:09.965449",
     "exception": false,
     "start_time": "2020-07-18T05:31:09.932035",
     "status": "completed"
    },
    "tags": []
   },
   "outputs": [],
   "source": [
    "#df_2 = simulation.fourier_engineered_dataframe[simulation.fourier_engineered_dataframe.phase==2]\n",
    "#df_2.describe()"
   ]
  },
  {
   "cell_type": "code",
   "execution_count": 18,
   "metadata": {
    "execution": {
     "iopub.execute_input": "2020-07-18T05:31:10.003753Z",
     "iopub.status.busy": "2020-07-18T05:31:10.003445Z",
     "iopub.status.idle": "2020-07-18T05:31:10.058886Z",
     "shell.execute_reply": "2020-07-18T05:31:10.058362Z"
    },
    "papermill": {
     "duration": 0.075758,
     "end_time": "2020-07-18T05:31:10.058961",
     "exception": false,
     "start_time": "2020-07-18T05:31:09.983203",
     "status": "completed"
    },
    "tags": []
   },
   "outputs": [],
   "source": [
    "#df_1 = simulation.fourier_engineered_dataframe[simulation.fourier_engineered_dataframe.phase==1]\n",
    "#df_1.describe()"
   ]
  },
  {
   "cell_type": "code",
   "execution_count": 19,
   "metadata": {
    "execution": {
     "iopub.execute_input": "2020-07-18T05:31:10.112518Z",
     "iopub.status.busy": "2020-07-18T05:31:10.112200Z",
     "iopub.status.idle": "2020-07-18T05:31:10.157975Z",
     "shell.execute_reply": "2020-07-18T05:31:10.158344Z"
    },
    "papermill": {
     "duration": 0.068939,
     "end_time": "2020-07-18T05:31:10.158421",
     "exception": false,
     "start_time": "2020-07-18T05:31:10.089482",
     "status": "completed"
    },
    "tags": []
   },
   "outputs": [],
   "source": [
    "#df_0 = simulation.fourier_engineered_dataframe[simulation.fourier_engineered_dataframe.phase==0]\n",
    "#df_0.describe()"
   ]
  },
  {
   "cell_type": "code",
   "execution_count": 20,
   "metadata": {
    "execution": {
     "iopub.execute_input": "2020-07-18T05:31:10.198813Z",
     "iopub.status.busy": "2020-07-18T05:31:10.198506Z",
     "iopub.status.idle": "2020-07-18T05:31:10.250393Z",
     "shell.execute_reply": "2020-07-18T05:31:10.249939Z"
    },
    "papermill": {
     "duration": 0.071767,
     "end_time": "2020-07-18T05:31:10.250463",
     "exception": false,
     "start_time": "2020-07-18T05:31:10.178696",
     "status": "completed"
    },
    "tags": []
   },
   "outputs": [],
   "source": [
    "#plt.figure(figsize=(10,10))\n",
    "#plt.scatter(df_1.fourier_feat0,df_1.fourier_feat2)\n",
    "#plt.scatter(df_0.fourier_feat0,df_0.fourier_feat2,alpha=0.4)"
   ]
  },
  {
   "cell_type": "code",
   "execution_count": 21,
   "metadata": {
    "execution": {
     "iopub.execute_input": "2020-07-18T05:31:10.300227Z",
     "iopub.status.busy": "2020-07-18T05:31:10.299920Z",
     "iopub.status.idle": "2020-07-18T05:31:10.310043Z",
     "shell.execute_reply": "2020-07-18T05:31:10.309748Z"
    },
    "papermill": {
     "duration": 0.031874,
     "end_time": "2020-07-18T05:31:10.310100",
     "exception": false,
     "start_time": "2020-07-18T05:31:10.278226",
     "status": "completed"
    },
    "tags": []
   },
   "outputs": [],
   "source": [
    "#plt.scatter(df_0.fourier_feat0,df_0.fourier_feat2,alpha=0.4)"
   ]
  },
  {
   "cell_type": "code",
   "execution_count": 22,
   "metadata": {
    "execution": {
     "iopub.execute_input": "2020-07-18T05:31:10.348539Z",
     "iopub.status.busy": "2020-07-18T05:31:10.348220Z",
     "iopub.status.idle": "2020-07-18T05:31:10.424595Z",
     "shell.execute_reply": "2020-07-18T05:31:10.422626Z"
    },
    "papermill": {
     "duration": 0.096943,
     "end_time": "2020-07-18T05:31:10.424845",
     "exception": false,
     "start_time": "2020-07-18T05:31:10.327902",
     "status": "completed"
    },
    "tags": []
   },
   "outputs": [],
   "source": [
    "#plt.scatter(df_2.fourier_feat0,df_2.fourier_feat2)"
   ]
  },
  {
   "cell_type": "code",
   "execution_count": 23,
   "metadata": {
    "execution": {
     "iopub.execute_input": "2020-07-18T05:31:10.503051Z",
     "iopub.status.busy": "2020-07-18T05:31:10.502729Z",
     "iopub.status.idle": "2020-07-18T05:31:10.516405Z",
     "shell.execute_reply": "2020-07-18T05:31:10.515089Z"
    },
    "papermill": {
     "duration": 0.035644,
     "end_time": "2020-07-18T05:31:10.516542",
     "exception": false,
     "start_time": "2020-07-18T05:31:10.480898",
     "status": "completed"
    },
    "tags": []
   },
   "outputs": [],
   "source": [
    "#df_1.hist(figsize=(15,15))"
   ]
  },
  {
   "cell_type": "code",
   "execution_count": 24,
   "metadata": {
    "execution": {
     "iopub.execute_input": "2020-07-18T05:31:10.568170Z",
     "iopub.status.busy": "2020-07-18T05:31:10.567864Z",
     "iopub.status.idle": "2020-07-18T05:31:10.577287Z",
     "shell.execute_reply": "2020-07-18T05:31:10.577542Z"
    },
    "papermill": {
     "duration": 0.02984,
     "end_time": "2020-07-18T05:31:10.577609",
     "exception": false,
     "start_time": "2020-07-18T05:31:10.547769",
     "status": "completed"
    },
    "tags": []
   },
   "outputs": [],
   "source": [
    "#df_0.hist(figsize=(15,15))"
   ]
  },
  {
   "cell_type": "markdown",
   "metadata": {
    "papermill": {
     "duration": 0.018468,
     "end_time": "2020-07-18T05:31:10.614671",
     "exception": false,
     "start_time": "2020-07-18T05:31:10.596203",
     "status": "completed"
    },
    "tags": []
   },
   "source": [
    "#### Checking initialization"
   ]
  },
  {
   "cell_type": "code",
   "execution_count": 25,
   "metadata": {
    "execution": {
     "iopub.execute_input": "2020-07-18T05:31:10.653803Z",
     "iopub.status.busy": "2020-07-18T05:31:10.653481Z",
     "iopub.status.idle": "2020-07-18T05:31:10.675466Z",
     "shell.execute_reply": "2020-07-18T05:31:10.675148Z"
    },
    "papermill": {
     "duration": 0.042854,
     "end_time": "2020-07-18T05:31:10.675517",
     "exception": false,
     "start_time": "2020-07-18T05:31:10.632663",
     "status": "completed"
    },
    "tags": []
   },
   "outputs": [
    {
     "name": "stdout",
     "output_type": "stream",
     "text": [
      "n_features:  100\n",
      "n_hamiltonians:  6561\n",
      "n_ts:  2\n",
      "CPU times: user 142 µs, sys: 20 µs, total: 162 µs\n",
      "Wall time: 85.4 µs\n"
     ]
    }
   ],
   "source": [
    "%%time\n",
    "n_features = simulation.n_features\n",
    "n_hamiltonians = simulation.n_hamiltonians\n",
    "n_ts = simulation.n_ts\n",
    "\n",
    "print(\"n_features: \", n_features)\n",
    "print(\"n_hamiltonians: \", n_hamiltonians)\n",
    "print(\"n_ts: \", n_ts)"
   ]
  },
  {
   "cell_type": "code",
   "execution_count": 26,
   "metadata": {
    "execution": {
     "iopub.execute_input": "2020-07-18T05:31:10.713521Z",
     "iopub.status.busy": "2020-07-18T05:31:10.713200Z",
     "iopub.status.idle": "2020-07-18T05:31:10.968961Z",
     "shell.execute_reply": "2020-07-18T05:31:10.968643Z"
    },
    "papermill": {
     "duration": 0.275475,
     "end_time": "2020-07-18T05:31:10.969013",
     "exception": false,
     "start_time": "2020-07-18T05:31:10.693538",
     "status": "completed"
    },
    "tags": []
   },
   "outputs": [
    {
     "name": "stdout",
     "output_type": "stream",
     "text": [
      "% train:  0.846822130772748\n",
      "% val:  0.0\n",
      "% test:  0.15317786922725193\n",
      "% train + val + test:  1.0\n",
      "\n",
      "\n",
      "number of train hamiltonians:  5556\n",
      "number of val hamiltonians:  0\n",
      "number of test hamiltonians:  1005\n",
      "total number of hamiltonians:  6561\n",
      "\n",
      "\n",
      "train ids:  [9, 10, 11, 12, 13, 14, 15, 16, 17, 18, 19, 20, 21, 22, 23, 24, 25, 26, 27, 28, 29, 30, 31, 32, 33, 34, 35, 36, 37, 38, 39, 40, 41, 42, 43, 44, 45, 46, 47, 48, 49, 50, 51, 52, 53, 54, 55, 56, 57, 58, 59, 60, 61, 62, 63, 64, 65, 66, 67, 68, 69, 70, 71, 72, 73, 74, 75, 76, 77, 91, 92, 93, 94, 95, 96, 97, 98, 99, 100, 101, 102, 103, 104, 105, 106, 107, 108, 109, 110, 111, 112, 113, 114, 115, 116, 117, 118, 119, 120, 121, 122, 123, 124, 125, 126, 127, 128, 129, 130, 131, 132, 133, 134, 135, 136, 137, 138, 139, 140, 141, 142, 143, 144, 145, 146, 147, 148, 149, 150, 151, 152, 153, 154, 155, 156, 157, 172, 173, 174, 175, 176, 177, 178, 179, 180, 181, 182, 183, 184, 185, 186, 187, 188, 189, 190, 191, 192, 193, 194, 195, 196, 197, 198, 199, 200, 201, 202, 203, 204, 205, 206, 207, 208, 209, 210, 211, 212, 213, 214, 215, 216, 217, 218, 219, 220, 221, 222, 223, 224, 225, 226, 227, 228, 229, 230, 231, 232, 233, 234, 235, 236, 237, 254, 255, 256, 257, 258, 259, 260, 261, 262, 263, 264, 265, 266, 267, 268, 269, 270, 271, 272, 273, 274, 275, 276, 277, 278, 279, 280, 281, 282, 283, 284, 285, 286, 287, 288, 289, 290, 291, 292, 293, 294, 295, 296, 297, 298, 299, 300, 301, 302, 303, 304, 305, 306, 307, 308, 309, 310, 311, 312, 313, 314, 315, 316, 317, 323, 336, 337, 338, 339, 340, 341, 342, 343, 344, 345, 346, 347, 348, 349, 350, 351, 352, 353, 354, 355, 356, 357, 358, 359, 360, 361, 362, 363, 364, 365, 366, 367, 368, 369, 370, 371, 372, 373, 374, 375, 376, 377, 378, 379, 380, 381, 382, 383, 384, 385, 386, 387, 388, 389, 390, 391, 392, 393, 394, 395, 396, 397, 403, 404, 418, 419, 420, 421, 422, 423, 424, 425, 426, 427, 428, 429, 430, 431, 432, 433, 434, 435, 436, 437, 438, 439, 440, 441, 442, 443, 444, 445, 446, 447, 448, 449, 450, 451, 452, 453, 454, 455, 456, 457, 458, 459, 460, 461, 462, 463, 464, 465, 466, 467, 468, 469, 470, 471, 472, 473, 474, 475, 476, 477, 483, 484, 485, 500, 501, 502, 503, 504, 505, 506, 507, 508, 509, 510, 511, 512, 513, 514, 515, 516, 517, 518, 519, 520, 521, 522, 523, 524, 525, 526, 527, 528, 529, 530, 531, 532, 533, 534, 535, 536, 537, 538, 539, 540, 541, 542, 543, 544, 545, 546, 547, 548, 549, 550, 551, 552, 553, 554, 555, 556, 557, 563, 564, 565, 566, 581, 582, 583, 584, 585, 586, 587, 588, 589, 590, 591, 592, 593, 594, 595, 596, 597, 598, 599, 600, 601, 602, 603, 604, 605, 606, 607, 608, 609, 610, 611, 612, 613, 614, 615, 616, 617, 618, 619, 620, 621, 622, 623, 624, 625, 626, 627, 628, 629, 630, 631, 632, 633, 634, 635, 636, 637, 643, 644, 645, 646, 647, 663, 664, 665, 666, 667, 668, 669, 670, 671, 672, 673, 674, 675, 676, 677, 678, 679, 680, 681, 682, 683, 684, 685, 686, 687, 688, 689, 690, 691, 692, 693, 694, 695, 696, 697, 698, 699, 700, 701, 702, 703, 704, 705, 706, 707, 708, 709, 710, 711, 712, 713, 714, 715, 716, 717, 723, 724, 725, 726, 727, 728, 745, 746, 747, 748, 749, 750, 751, 752, 753, 754, 755, 756, 757, 758, 759, 760, 761, 762, 763, 764, 765, 766, 767, 768, 769, 770, 771, 772, 773, 774, 775, 776, 777, 778, 779, 780, 781, 782, 783, 784, 785, 786, 787, 788, 789, 790, 791, 792, 793, 794, 795, 796, 797, 803, 804, 805, 806, 807, 808, 809, 827, 828, 829, 830, 831, 832, 833, 834, 835, 836, 837, 838, 839, 840, 841, 842, 843, 844, 845, 846, 847, 848, 849, 850, 851, 852, 853, 854, 855, 856, 857, 858, 859, 860, 861, 862, 863, 864, 865, 866, 867, 868, 869, 870, 871, 872, 873, 874, 875, 876, 877, 883, 884, 885, 886, 887, 888, 889, 890, 891, 909, 910, 911, 912, 913, 914, 915, 916, 917, 918, 919, 920, 921, 922, 923, 924, 925, 926, 927, 928, 929, 930, 931, 932, 933, 934, 935, 936, 937, 938, 939, 940, 941, 942, 943, 944, 945, 946, 947, 948, 949, 950, 951, 952, 953, 954, 955, 956, 957, 963, 964, 965, 966, 967, 968, 969, 970, 971, 972, 973, 990, 991, 992, 993, 994, 995, 996, 997, 998, 999, 1000, 1001, 1002, 1003, 1004, 1005, 1006, 1007, 1008, 1009, 1010, 1011, 1012, 1013, 1014, 1015, 1016, 1017, 1018, 1019, 1020, 1021, 1022, 1023, 1024, 1025, 1026, 1027, 1028, 1029, 1030, 1031, 1032, 1033, 1034, 1035, 1036, 1037, 1038, 1042, 1043, 1044, 1045, 1046, 1047, 1048, 1049, 1050, 1051, 1052, 1053, 1054, 1055, 1056, 1072, 1073, 1074, 1075, 1076, 1077, 1078, 1079, 1080, 1081, 1082, 1083, 1084, 1085, 1086, 1087, 1088, 1089, 1090, 1091, 1092, 1093, 1094, 1095, 1096, 1097, 1098, 1099, 1100, 1101, 1102, 1103, 1104, 1105, 1106, 1107, 1108, 1109, 1110, 1111, 1112, 1113, 1114, 1115, 1116, 1117, 1118, 1122, 1123, 1124, 1125, 1126, 1127, 1128, 1129, 1130, 1131, 1132, 1133, 1134, 1135, 1136, 1137, 1138, 1154, 1155, 1156, 1157, 1158, 1159, 1160, 1161, 1162, 1163, 1164, 1165, 1166, 1167, 1168, 1169, 1170, 1171, 1172, 1173, 1174, 1175, 1176, 1177, 1178, 1179, 1180, 1181, 1182, 1183, 1184, 1185, 1186, 1187, 1188, 1189, 1190, 1191, 1192, 1193, 1194, 1195, 1196, 1197, 1198, 1202, 1203, 1204, 1205, 1206, 1207, 1208, 1209, 1210, 1211, 1212, 1213, 1214, 1215, 1216, 1217, 1218, 1219, 1220, 1236, 1237, 1238, 1239, 1240, 1241, 1242, 1243, 1244, 1245, 1246, 1247, 1248, 1249, 1250, 1251, 1252, 1253, 1254, 1255, 1256, 1257, 1258, 1259, 1260, 1261, 1262, 1263, 1264, 1265, 1266, 1267, 1268, 1269, 1270, 1271, 1272, 1273, 1274, 1275, 1276, 1277, 1278, 1282, 1283, 1284, 1285, 1286, 1287, 1288, 1289, 1290, 1291, 1292, 1293, 1294, 1295, 1296, 1297, 1298, 1299, 1300, 1301, 1302, 1303, 1317, 1318, 1319, 1320, 1321, 1322, 1323, 1324, 1325, 1326, 1327, 1328, 1329, 1330, 1331, 1332, 1333, 1334, 1335, 1336, 1337, 1338, 1339, 1340, 1341, 1342, 1343, 1344, 1345, 1346, 1347, 1348, 1349, 1350, 1351, 1352, 1353, 1354, 1355, 1356, 1357, 1358, 1362, 1363, 1364, 1365, 1366, 1367, 1368, 1369, 1370, 1371, 1372, 1373, 1374, 1375, 1376, 1377, 1378, 1379, 1380, 1381, 1382, 1383, 1384, 1385, 1399, 1400, 1401, 1402, 1403, 1404, 1405, 1406, 1407, 1408, 1409, 1410, 1411, 1412, 1413, 1414, 1415, 1416, 1417, 1418, 1419, 1420, 1421, 1422, 1423, 1424, 1425, 1426, 1427, 1428, 1429, 1430, 1431, 1432, 1433, 1434, 1435, 1436, 1437, 1438, 1442, 1443, 1444, 1445, 1446, 1447, 1448, 1449, 1450, 1451, 1452, 1453, 1454, 1455, 1456, 1457, 1458, 1459, 1460, 1461, 1462, 1463, 1464, 1465, 1466, 1467, 1468, 1481, 1482, 1483, 1484, 1485, 1486, 1487, 1488, 1489, 1490, 1491, 1492, 1493, 1494, 1495, 1496, 1497, 1498, 1499, 1500, 1501, 1502, 1503, 1504, 1505, 1506, 1507, 1508, 1509, 1510, 1511, 1512, 1513, 1514, 1515, 1516, 1517, 1518, 1522, 1523, 1524, 1525, 1526, 1527, 1528, 1529, 1530, 1531, 1532, 1533, 1534, 1535, 1536, 1537, 1538, 1539, 1540, 1541, 1542, 1543, 1544, 1545, 1546, 1547, 1548, 1549, 1550, 1563, 1564, 1565, 1566, 1567, 1568, 1569, 1570, 1571, 1572, 1573, 1574, 1575, 1576, 1577, 1578, 1579, 1580, 1581, 1582, 1583, 1584, 1585, 1586, 1587, 1588, 1589, 1590, 1591, 1592, 1593, 1594, 1595, 1596, 1597, 1598, 1602, 1603, 1604, 1605, 1606, 1607, 1608, 1609, 1610, 1611, 1612, 1613, 1614, 1615, 1616, 1617, 1618, 1619, 1620, 1621, 1622, 1623, 1624, 1625, 1626, 1627, 1628, 1629, 1630, 1631, 1632, 1645, 1646, 1647, 1648, 1649, 1650, 1651, 1652, 1653, 1654, 1655, 1656, 1657, 1658, 1659, 1660, 1661, 1662, 1663, 1664, 1665, 1666, 1667, 1668, 1669, 1670, 1671, 1672, 1673, 1674, 1675, 1676, 1677, 1678, 1682, 1683, 1684, 1685, 1686, 1687, 1688, 1689, 1690, 1691, 1692, 1693, 1694, 1695, 1696, 1697, 1698, 1699, 1700, 1701, 1702, 1703, 1704, 1705, 1706, 1707, 1708, 1709, 1710, 1711, 1712, 1713, 1714, 1715, 1726, 1727, 1728, 1729, 1730, 1731, 1732, 1733, 1734, 1735, 1736, 1737, 1738, 1739, 1740, 1741, 1742, 1743, 1744, 1745, 1746, 1747, 1748, 1749, 1750, 1751, 1752, 1753, 1754, 1755, 1756, 1757, 1758, 1762, 1763, 1764, 1765, 1766, 1767, 1768, 1769, 1770, 1771, 1772, 1773, 1774, 1775, 1776, 1777, 1778, 1779, 1780, 1781, 1782, 1783, 1784, 1785, 1786, 1787, 1788, 1789, 1790, 1791, 1792, 1793, 1794, 1795, 1796, 1797, 1808, 1809, 1810, 1811, 1812, 1813, 1814, 1815, 1816, 1817, 1818, 1819, 1820, 1821, 1822, 1823, 1824, 1825, 1826, 1827, 1828, 1829, 1830, 1831, 1832, 1833, 1834, 1835, 1836, 1837, 1838, 1842, 1843, 1844, 1845, 1846, 1847, 1848, 1849, 1850, 1851, 1852, 1853, 1854, 1855, 1856, 1857, 1858, 1859, 1860, 1861, 1862, 1863, 1864, 1865, 1866, 1867, 1868, 1869, 1870, 1871, 1872, 1873, 1874, 1875, 1876, 1877, 1878, 1879, 1890, 1891, 1892, 1893, 1894, 1895, 1896, 1897, 1898, 1899, 1900, 1901, 1902, 1903, 1904, 1905, 1906, 1907, 1908, 1909, 1910, 1911, 1912, 1913, 1914, 1915, 1916, 1917, 1918, 1922, 1923, 1924, 1925, 1926, 1927, 1928, 1929, 1930, 1931, 1932, 1933, 1934, 1935, 1936, 1937, 1938, 1939, 1940, 1941, 1942, 1943, 1944, 1945, 1946, 1947, 1948, 1949, 1950, 1951, 1952, 1953, 1954, 1955, 1956, 1957, 1958, 1959, 1960, 1961, 1962, 1972, 1973, 1974, 1975, 1976, 1977, 1978, 1979, 1980, 1981, 1982, 1983, 1984, 1985, 1986, 1987, 1988, 1989, 1990, 1991, 1992, 1993, 1994, 1995, 1996, 1997, 1998, 2002, 2003, 2004, 2005, 2006, 2007, 2008, 2009, 2010, 2011, 2012, 2013, 2014, 2015, 2016, 2017, 2018, 2019, 2020, 2021, 2022, 2023, 2024, 2025, 2026, 2027, 2028, 2029, 2030, 2031, 2032, 2033, 2034, 2035, 2036, 2037, 2038, 2039, 2040, 2041, 2042, 2043, 2044, 2054, 2055, 2056, 2057, 2058, 2059, 2060, 2061, 2062, 2063, 2064, 2065, 2066, 2067, 2068, 2069, 2070, 2071, 2072, 2073, 2074, 2075, 2076, 2077, 2078, 2082, 2083, 2084, 2085, 2086, 2087, 2088, 2089, 2090, 2091, 2092, 2093, 2094, 2095, 2096, 2097, 2098, 2099, 2100, 2101, 2102, 2103, 2104, 2105, 2106, 2107, 2108, 2109, 2110, 2111, 2112, 2113, 2114, 2115, 2116, 2117, 2118, 2119, 2120, 2121, 2122, 2123, 2124, 2125, 2126, 2135, 2136, 2137, 2138, 2139, 2140, 2141, 2142, 2143, 2144, 2145, 2146, 2147, 2148, 2149, 2150, 2151, 2152, 2153, 2154, 2155, 2156, 2157, 2158, 2159, 2161, 2162, 2163, 2164, 2165, 2166, 2167, 2168, 2169, 2170, 2171, 2172, 2173, 2174, 2175, 2176, 2177, 2178, 2179, 2180, 2181, 2182, 2183, 2184, 2185, 2186, 2187, 2188, 2189, 2190, 2191, 2192, 2193, 2194, 2195, 2196, 2197, 2198, 2199, 2200, 2201, 2202, 2203, 2204, 2205, 2206, 2207, 2208, 2209, 2217, 2218, 2219, 2220, 2221, 2222, 2223, 2224, 2225, 2226, 2227, 2228, 2229, 2230, 2231, 2232, 2233, 2234, 2235, 2236, 2237, 2238, 2239, 2241, 2242, 2243, 2244, 2245, 2246, 2247, 2248, 2249, 2250, 2251, 2252, 2253, 2254, 2255, 2256, 2257, 2258, 2259, 2260, 2261, 2262, 2263, 2264, 2265, 2266, 2267, 2268, 2269, 2270, 2271, 2272, 2273, 2274, 2275, 2276, 2277, 2278, 2279, 2280, 2281, 2282, 2283, 2284, 2285, 2286, 2287, 2288, 2289, 2290, 2291, 2299, 2300, 2301, 2302, 2303, 2304, 2305, 2306, 2307, 2308, 2309, 2310, 2311, 2312, 2313, 2314, 2315, 2316, 2317, 2318, 2319, 2321, 2322, 2323, 2324, 2325, 2326, 2327, 2328, 2329, 2330, 2331, 2332, 2333, 2334, 2335, 2336, 2337, 2338, 2339, 2340, 2341, 2342, 2343, 2344, 2345, 2346, 2347, 2348, 2349, 2350, 2351, 2352, 2353, 2354, 2355, 2356, 2357, 2358, 2359, 2360, 2361, 2362, 2363, 2364, 2365, 2366, 2367, 2368, 2369, 2370, 2371, 2372, 2373, 2374, 2381, 2382, 2383, 2384, 2385, 2386, 2387, 2388, 2389, 2390, 2391, 2392, 2393, 2394, 2395, 2396, 2397, 2398, 2399, 2401, 2402, 2403, 2404, 2405, 2406, 2407, 2408, 2409, 2410, 2411, 2412, 2413, 2414, 2415, 2416, 2417, 2418, 2419, 2420, 2421, 2422, 2423, 2424, 2425, 2426, 2427, 2428, 2429, 2430, 2431, 2432, 2433, 2434, 2435, 2436, 2437, 2438, 2439, 2440, 2441, 2442, 2443, 2444, 2445, 2446, 2447, 2448, 2449, 2450, 2451, 2452, 2453, 2454, 2455, 2456, 2463, 2464, 2465, 2466, 2467, 2468, 2469, 2470, 2471, 2472, 2473, 2474, 2475, 2476, 2477, 2478, 2479, 2481, 2482, 2483, 2484, 2485, 2486, 2487, 2488, 2489, 2490, 2491, 2492, 2493, 2494, 2495, 2496, 2497, 2498, 2499, 2500, 2501, 2502, 2503, 2504, 2505, 2506, 2507, 2508, 2509, 2510, 2511, 2512, 2513, 2514, 2515, 2516, 2517, 2518, 2519, 2520, 2521, 2522, 2523, 2524, 2525, 2526, 2527, 2528, 2529, 2530, 2531, 2532, 2533, 2534, 2535, 2536, 2537, 2538, 2544, 2545, 2546, 2547, 2548, 2549, 2550, 2551, 2552, 2553, 2554, 2555, 2556, 2557, 2558, 2559, 2561, 2562, 2563, 2564, 2565, 2566, 2567, 2568, 2569, 2570, 2571, 2572, 2573, 2574, 2575, 2576, 2577, 2578, 2579, 2580, 2581, 2582, 2583, 2584, 2585, 2586, 2587, 2588, 2589, 2590, 2591, 2592, 2593, 2594, 2595, 2596, 2597, 2598, 2599, 2600, 2601, 2602, 2603, 2604, 2605, 2606, 2607, 2608, 2609, 2610, 2611, 2612, 2613, 2614, 2615, 2616, 2617, 2618, 2619, 2620, 2621, 2626, 2627, 2628, 2629, 2630, 2631, 2632, 2633, 2634, 2635, 2636, 2637, 2638, 2639, 2641, 2642, 2643, 2644, 2645, 2646, 2647, 2648, 2649, 2650, 2651, 2652, 2653, 2654, 2655, 2656, 2657, 2658, 2659, 2660, 2661, 2662, 2663, 2664, 2665, 2666, 2667, 2668, 2669, 2670, 2671, 2672, 2673, 2674, 2675, 2676, 2677, 2678, 2679, 2680, 2681, 2682, 2683, 2684, 2685, 2686, 2687, 2688, 2689, 2690, 2691, 2692, 2693, 2694, 2695, 2696, 2697, 2698, 2699, 2700, 2701, 2702, 2703, 2708, 2709, 2710, 2711, 2712, 2713, 2714, 2715, 2716, 2717, 2718, 2719, 2721, 2722, 2723, 2724, 2725, 2726, 2727, 2728, 2729, 2730, 2731, 2732, 2733, 2734, 2735, 2736, 2737, 2738, 2739, 2740, 2741, 2742, 2743, 2744, 2745, 2746, 2747, 2748, 2749, 2750, 2751, 2752, 2753, 2754, 2755, 2756, 2757, 2758, 2759, 2760, 2761, 2762, 2763, 2764, 2765, 2766, 2767, 2768, 2769, 2770, 2771, 2772, 2773, 2774, 2775, 2776, 2777, 2778, 2779, 2780, 2781, 2782, 2783, 2784, 2785, 2790, 2791, 2792, 2793, 2794, 2795, 2796, 2797, 2798, 2799, 2801, 2802, 2803, 2804, 2805, 2806, 2807, 2808, 2809, 2810, 2811, 2812, 2813, 2814, 2815, 2816, 2817, 2818, 2819, 2820, 2821, 2822, 2823, 2824, 2825, 2826, 2827, 2828, 2829, 2830, 2831, 2832, 2833, 2834, 2835, 2836, 2837, 2838, 2839, 2840, 2841, 2842, 2843, 2844, 2845, 2846, 2847, 2848, 2849, 2850, 2851, 2852, 2853, 2854, 2855, 2856, 2857, 2858, 2859, 2860, 2861, 2862, 2863, 2864, 2865, 2866, 2867, 2868, 2872, 2873, 2874, 2875, 2876, 2877, 2878, 2879, 2881, 2882, 2883, 2884, 2885, 2886, 2887, 2888, 2889, 2890, 2891, 2892, 2893, 2894, 2895, 2896, 2897, 2898, 2899, 2900, 2901, 2902, 2903, 2904, 2905, 2906, 2907, 2908, 2909, 2910, 2911, 2912, 2913, 2914, 2915, 2916, 2917, 2918, 2919, 2920, 2921, 2922, 2923, 2924, 2925, 2926, 2927, 2928, 2929, 2930, 2931, 2932, 2933, 2934, 2935, 2936, 2937, 2938, 2939, 2940, 2941, 2942, 2943, 2944, 2945, 2946, 2947, 2948, 2949, 2950, 2953, 2954, 2955, 2956, 2957, 2958, 2959, 2961, 2962, 2963, 2964, 2965, 2966, 2967, 2968, 2969, 2970, 2971, 2972, 2973, 2974, 2975, 2976, 2977, 2978, 2979, 2980, 2981, 2982, 2983, 2984, 2985, 2986, 2987, 2988, 2989, 2990, 2991, 2992, 2993, 2994, 2995, 2996, 2997, 2998, 2999, 3000, 3001, 3002, 3003, 3004, 3005, 3006, 3007, 3008, 3009, 3010, 3011, 3012, 3013, 3014, 3015, 3016, 3017, 3018, 3019, 3020, 3021, 3022, 3023, 3024, 3025, 3026, 3027, 3028, 3029, 3030, 3031, 3032, 3035, 3036, 3037, 3038, 3039, 3041, 3042, 3043, 3044, 3045, 3046, 3047, 3048, 3049, 3050, 3051, 3052, 3053, 3054, 3055, 3056, 3057, 3058, 3059, 3060, 3061, 3062, 3063, 3064, 3065, 3066, 3067, 3068, 3069, 3070, 3071, 3072, 3073, 3074, 3075, 3076, 3077, 3078, 3079, 3080, 3081, 3082, 3083, 3084, 3085, 3086, 3087, 3088, 3089, 3090, 3091, 3092, 3093, 3094, 3095, 3096, 3097, 3098, 3099, 3100, 3101, 3102, 3103, 3104, 3105, 3106, 3107, 3108, 3109, 3110, 3111, 3112, 3113, 3114, 3115, 3117, 3118, 3119, 3121, 3122, 3123, 3124, 3125, 3126, 3127, 3128, 3129, 3130, 3131, 3132, 3133, 3134, 3135, 3136, 3137, 3138, 3139, 3140, 3141, 3142, 3143, 3144, 3145, 3146, 3147, 3148, 3149, 3150, 3151, 3152, 3153, 3154, 3155, 3156, 3157, 3158, 3159, 3160, 3161, 3162, 3163, 3164, 3165, 3166, 3167, 3168, 3169, 3170, 3171, 3172, 3173, 3174, 3175, 3176, 3177, 3178, 3179, 3180, 3181, 3182, 3183, 3184, 3185, 3186, 3187, 3188, 3189, 3190, 3191, 3192, 3193, 3194, 3195, 3196, 3197, 3199, 3201, 3202, 3203, 3204, 3205, 3206, 3207, 3208, 3209, 3210, 3211, 3212, 3213, 3214, 3215, 3216, 3217, 3218, 3219, 3220, 3221, 3222, 3223, 3224, 3225, 3226, 3227, 3228, 3229, 3230, 3231, 3232, 3233, 3234, 3235, 3236, 3237, 3238, 3239, 3240, 3241, 3242, 3243, 3244, 3245, 3246, 3247, 3248, 3249, 3250, 3251, 3252, 3253, 3254, 3255, 3256, 3257, 3258, 3259, 3260, 3261, 3262, 3263, 3264, 3265, 3266, 3267, 3268, 3269, 3270, 3271, 3272, 3273, 3274, 3275, 3276, 3277, 3278, 3279, 3281, 3282, 3283, 3284, 3285, 3286, 3287, 3288, 3289, 3290, 3291, 3292, 3293, 3294, 3295, 3296, 3297, 3298, 3299, 3300, 3301, 3302, 3303, 3304, 3305, 3306, 3307, 3308, 3309, 3310, 3311, 3312, 3313, 3314, 3315, 3316, 3317, 3318, 3319, 3320, 3321, 3322, 3323, 3324, 3325, 3326, 3327, 3328, 3329, 3330, 3331, 3332, 3333, 3334, 3335, 3336, 3337, 3338, 3339, 3340, 3341, 3342, 3343, 3344, 3345, 3346, 3347, 3348, 3349, 3350, 3351, 3352, 3353, 3354, 3355, 3356, 3357, 3358, 3359, 3361, 3363, 3364, 3365, 3366, 3367, 3368, 3369, 3370, 3371, 3372, 3373, 3374, 3375, 3376, 3377, 3378, 3379, 3380, 3381, 3382, 3383, 3384, 3385, 3386, 3387, 3388, 3389, 3390, 3391, 3392, 3393, 3394, 3395, 3396, 3397, 3398, 3399, 3400, 3401, 3402, 3403, 3404, 3405, 3406, 3407, 3408, 3409, 3410, 3411, 3412, 3413, 3414, 3415, 3416, 3417, 3418, 3419, 3420, 3421, 3422, 3423, 3424, 3425, 3426, 3427, 3428, 3429, 3430, 3431, 3432, 3433, 3434, 3435, 3436, 3437, 3438, 3439, 3441, 3442, 3443, 3445, 3446, 3447, 3448, 3449, 3450, 3451, 3452, 3453, 3454, 3455, 3456, 3457, 3458, 3459, 3460, 3461, 3462, 3463, 3464, 3465, 3466, 3467, 3468, 3469, 3470, 3471, 3472, 3473, 3474, 3475, 3476, 3477, 3478, 3479, 3480, 3481, 3482, 3483, 3484, 3485, 3486, 3487, 3488, 3489, 3490, 3491, 3492, 3493, 3494, 3495, 3496, 3497, 3498, 3499, 3500, 3501, 3502, 3503, 3504, 3505, 3506, 3507, 3508, 3509, 3510, 3511, 3512, 3513, 3514, 3515, 3516, 3517, 3518, 3519, 3521, 3522, 3523, 3524, 3525, 3528, 3529, 3530, 3531, 3532, 3533, 3534, 3535, 3536, 3537, 3538, 3539, 3540, 3541, 3542, 3543, 3544, 3545, 3546, 3547, 3548, 3549, 3550, 3551, 3552, 3553, 3554, 3555, 3556, 3557, 3558, 3559, 3560, 3561, 3562, 3563, 3564, 3565, 3566, 3567, 3568, 3569, 3570, 3571, 3572, 3573, 3574, 3575, 3576, 3577, 3578, 3579, 3580, 3581, 3582, 3583, 3584, 3585, 3586, 3587, 3588, 3589, 3590, 3591, 3592, 3593, 3594, 3595, 3596, 3597, 3598, 3599, 3601, 3602, 3603, 3604, 3605, 3606, 3607, 3610, 3611, 3612, 3613, 3614, 3615, 3616, 3617, 3618, 3619, 3620, 3621, 3622, 3623, 3624, 3625, 3626, 3627, 3628, 3629, 3630, 3631, 3632, 3633, 3634, 3635, 3636, 3637, 3638, 3639, 3640, 3641, 3642, 3643, 3644, 3645, 3646, 3647, 3648, 3649, 3650, 3651, 3652, 3653, 3654, 3655, 3656, 3657, 3658, 3659, 3660, 3661, 3662, 3663, 3664, 3665, 3666, 3667, 3668, 3669, 3670, 3671, 3672, 3673, 3674, 3675, 3676, 3677, 3678, 3679, 3681, 3682, 3683, 3684, 3685, 3686, 3687, 3688, 3692, 3693, 3694, 3695, 3696, 3697, 3698, 3699, 3700, 3701, 3702, 3703, 3704, 3705, 3706, 3707, 3708, 3709, 3710, 3711, 3712, 3713, 3714, 3715, 3716, 3717, 3718, 3719, 3720, 3721, 3722, 3723, 3724, 3725, 3726, 3727, 3728, 3729, 3730, 3731, 3732, 3733, 3734, 3735, 3736, 3737, 3738, 3739, 3740, 3741, 3742, 3743, 3744, 3745, 3746, 3747, 3748, 3749, 3750, 3751, 3752, 3753, 3754, 3755, 3756, 3757, 3758, 3759, 3761, 3762, 3763, 3764, 3765, 3766, 3767, 3768, 3769, 3770, 3775, 3776, 3777, 3778, 3779, 3780, 3781, 3782, 3783, 3784, 3785, 3786, 3787, 3788, 3789, 3790, 3791, 3792, 3793, 3794, 3795, 3796, 3797, 3798, 3799, 3800, 3801, 3802, 3803, 3804, 3805, 3806, 3807, 3808, 3809, 3810, 3811, 3812, 3813, 3814, 3815, 3816, 3817, 3818, 3819, 3820, 3821, 3822, 3823, 3824, 3825, 3826, 3827, 3828, 3829, 3830, 3831, 3832, 3833, 3834, 3835, 3836, 3837, 3838, 3839, 3841, 3842, 3843, 3844, 3845, 3846, 3847, 3848, 3849, 3850, 3851, 3852, 3857, 3858, 3859, 3860, 3861, 3862, 3863, 3864, 3865, 3866, 3867, 3868, 3869, 3870, 3871, 3872, 3873, 3874, 3875, 3876, 3877, 3878, 3879, 3880, 3881, 3882, 3883, 3884, 3885, 3886, 3887, 3888, 3889, 3890, 3891, 3892, 3893, 3894, 3895, 3896, 3897, 3898, 3899, 3900, 3901, 3902, 3903, 3904, 3905, 3906, 3907, 3908, 3909, 3910, 3911, 3912, 3913, 3914, 3915, 3916, 3917, 3918, 3919, 3921, 3922, 3923, 3924, 3925, 3926, 3927, 3928, 3929, 3930, 3931, 3932, 3933, 3934, 3939, 3940, 3941, 3942, 3943, 3944, 3945, 3946, 3947, 3948, 3949, 3950, 3951, 3952, 3953, 3954, 3955, 3956, 3957, 3958, 3959, 3960, 3961, 3962, 3963, 3964, 3965, 3966, 3967, 3968, 3969, 3970, 3971, 3972, 3973, 3974, 3975, 3976, 3977, 3978, 3979, 3980, 3981, 3982, 3983, 3984, 3985, 3986, 3987, 3988, 3989, 3990, 3991, 3992, 3993, 3994, 3995, 3996, 3997, 3998, 3999, 4001, 4002, 4003, 4004, 4005, 4006, 4007, 4008, 4009, 4010, 4011, 4012, 4013, 4014, 4015, 4016, 4022, 4023, 4024, 4025, 4026, 4027, 4028, 4029, 4030, 4031, 4032, 4033, 4034, 4035, 4036, 4037, 4038, 4039, 4040, 4041, 4042, 4043, 4044, 4045, 4046, 4047, 4048, 4049, 4050, 4051, 4052, 4053, 4054, 4055, 4056, 4057, 4058, 4059, 4060, 4061, 4062, 4063, 4064, 4065, 4066, 4067, 4068, 4069, 4070, 4071, 4072, 4073, 4074, 4075, 4076, 4077, 4078, 4079, 4081, 4082, 4083, 4084, 4085, 4086, 4087, 4088, 4089, 4090, 4091, 4092, 4093, 4094, 4095, 4096, 4097, 4104, 4105, 4106, 4107, 4108, 4109, 4110, 4111, 4112, 4113, 4114, 4115, 4116, 4117, 4118, 4119, 4120, 4121, 4122, 4123, 4124, 4125, 4126, 4127, 4128, 4129, 4130, 4131, 4132, 4133, 4134, 4135, 4136, 4137, 4138, 4139, 4140, 4141, 4142, 4143, 4144, 4145, 4146, 4147, 4148, 4149, 4150, 4151, 4152, 4153, 4154, 4155, 4156, 4157, 4158, 4159, 4161, 4162, 4163, 4164, 4165, 4166, 4167, 4168, 4169, 4170, 4171, 4172, 4173, 4174, 4175, 4176, 4177, 4178, 4179, 4186, 4187, 4188, 4189, 4190, 4191, 4192, 4193, 4194, 4195, 4196, 4197, 4198, 4199, 4200, 4201, 4202, 4203, 4204, 4205, 4206, 4207, 4208, 4209, 4210, 4211, 4212, 4213, 4214, 4215, 4216, 4217, 4218, 4219, 4220, 4221, 4222, 4223, 4224, 4225, 4226, 4227, 4228, 4229, 4230, 4231, 4232, 4233, 4234, 4235, 4236, 4237, 4238, 4239, 4241, 4242, 4243, 4244, 4245, 4246, 4247, 4248, 4249, 4250, 4251, 4252, 4253, 4254, 4255, 4256, 4257, 4258, 4259, 4260, 4261, 4269, 4270, 4271, 4272, 4273, 4274, 4275, 4276, 4277, 4278, 4279, 4280, 4281, 4282, 4283, 4284, 4285, 4286, 4287, 4288, 4289, 4290, 4291, 4292, 4293, 4294, 4295, 4296, 4297, 4298, 4299, 4300, 4301, 4302, 4303, 4304, 4305, 4306, 4307, 4308, 4309, 4310, 4311, 4312, 4313, 4314, 4315, 4316, 4317, 4318, 4319, 4321, 4322, 4323, 4324, 4325, 4326, 4327, 4328, 4329, 4330, 4331, 4332, 4333, 4334, 4335, 4336, 4337, 4338, 4339, 4340, 4341, 4342, 4343, 4351, 4352, 4353, 4354, 4355, 4356, 4357, 4358, 4359, 4360, 4361, 4362, 4363, 4364, 4365, 4366, 4367, 4368, 4369, 4370, 4371, 4372, 4373, 4374, 4375, 4376, 4377, 4378, 4379, 4380, 4381, 4382, 4383, 4384, 4385, 4386, 4387, 4388, 4389, 4390, 4391, 4392, 4393, 4394, 4395, 4396, 4397, 4398, 4399, 4401, 4402, 4403, 4404, 4405, 4406, 4407, 4408, 4409, 4410, 4411, 4412, 4413, 4414, 4415, 4416, 4417, 4418, 4419, 4420, 4421, 4422, 4423, 4424, 4425, 4434, 4435, 4436, 4437, 4438, 4439, 4440, 4441, 4442, 4443, 4444, 4445, 4446, 4447, 4448, 4449, 4450, 4451, 4452, 4453, 4454, 4455, 4456, 4457, 4458, 4459, 4460, 4461, 4462, 4463, 4464, 4465, 4466, 4467, 4468, 4469, 4470, 4471, 4472, 4473, 4474, 4475, 4476, 4477, 4478, 4482, 4483, 4484, 4485, 4486, 4487, 4488, 4489, 4490, 4491, 4492, 4493, 4494, 4495, 4496, 4497, 4498, 4499, 4500, 4501, 4502, 4503, 4504, 4505, 4506, 4516, 4517, 4518, 4519, 4520, 4521, 4522, 4523, 4524, 4525, 4526, 4527, 4528, 4529, 4530, 4531, 4532, 4533, 4534, 4535, 4536, 4537, 4538, 4539, 4540, 4541, 4542, 4543, 4544, 4545, 4546, 4547, 4548, 4549, 4550, 4551, 4552, 4553, 4554, 4555, 4556, 4557, 4558, 4562, 4563, 4564, 4565, 4566, 4567, 4568, 4569, 4570, 4571, 4572, 4573, 4574, 4575, 4576, 4577, 4578, 4579, 4580, 4581, 4582, 4583, 4584, 4585, 4586, 4587, 4588, 4598, 4599, 4600, 4601, 4602, 4603, 4604, 4605, 4606, 4607, 4608, 4609, 4610, 4611, 4612, 4613, 4614, 4615, 4616, 4617, 4618, 4619, 4620, 4621, 4622, 4623, 4624, 4625, 4626, 4627, 4628, 4629, 4630, 4631, 4632, 4633, 4634, 4635, 4636, 4637, 4638, 4642, 4643, 4644, 4645, 4646, 4647, 4648, 4649, 4650, 4651, 4652, 4653, 4654, 4655, 4656, 4657, 4658, 4659, 4660, 4661, 4662, 4663, 4664, 4665, 4666, 4667, 4668, 4669, 4670, 4681, 4682, 4683, 4684, 4685, 4686, 4687, 4688, 4689, 4690, 4691, 4692, 4693, 4694, 4695, 4696, 4697, 4698, 4699, 4700, 4701, 4702, 4703, 4704, 4705, 4706, 4707, 4708, 4709, 4710, 4711, 4712, 4713, 4714, 4715, 4716, 4717, 4718, 4722, 4723, 4724, 4725, 4726, 4727, 4728, 4729, 4730, 4731, 4732, 4733, 4734, 4735, 4736, 4737, 4738, 4739, 4740, 4741, 4742, 4743, 4744, 4745, 4746, 4747, 4748, 4749, 4750, 4751, 4752, 4763, 4764, 4765, 4766, 4767, 4768, 4769, 4770, 4771, 4772, 4773, 4774, 4775, 4776, 4777, 4778, 4779, 4780, 4781, 4782, 4783, 4784, 4785, 4786, 4787, 4788, 4789, 4790, 4791, 4792, 4793, 4794, 4795, 4796, 4797, 4798, 4802, 4803, 4804, 4805, 4806, 4807, 4808, 4809, 4810, 4811, 4812, 4813, 4814, 4815, 4816, 4817, 4818, 4819, 4820, 4821, 4822, 4823, 4824, 4825, 4826, 4827, 4828, 4829, 4830, 4831, 4832, 4833, 4834, 4845, 4846, 4847, 4848, 4849, 4850, 4851, 4852, 4853, 4854, 4855, 4856, 4857, 4858, 4859, 4860, 4861, 4862, 4863, 4864, 4865, 4866, 4867, 4868, 4869, 4870, 4871, 4872, 4873, 4874, 4875, 4876, 4877, 4878, 4882, 4883, 4884, 4885, 4886, 4887, 4888, 4889, 4890, 4891, 4892, 4893, 4894, 4895, 4896, 4897, 4898, 4899, 4900, 4901, 4902, 4903, 4904, 4905, 4906, 4907, 4908, 4909, 4910, 4911, 4912, 4913, 4914, 4915, 4928, 4929, 4930, 4931, 4932, 4933, 4934, 4935, 4936, 4937, 4938, 4939, 4940, 4941, 4942, 4943, 4944, 4945, 4946, 4947, 4948, 4949, 4950, 4951, 4952, 4953, 4954, 4955, 4956, 4957, 4958, 4962, 4963, 4964, 4965, 4966, 4967, 4968, 4969, 4970, 4971, 4972, 4973, 4974, 4975, 4976, 4977, 4978, 4979, 4980, 4981, 4982, 4983, 4984, 4985, 4986, 4987, 4988, 4989, 4990, 4991, 4992, 4993, 4994, 4995, 4996, 4997, 5010, 5011, 5012, 5013, 5014, 5015, 5016, 5017, 5018, 5019, 5020, 5021, 5022, 5023, 5024, 5025, 5026, 5027, 5028, 5029, 5030, 5031, 5032, 5033, 5034, 5035, 5036, 5037, 5038, 5042, 5043, 5044, 5045, 5046, 5047, 5048, 5049, 5050, 5051, 5052, 5053, 5054, 5055, 5056, 5057, 5058, 5059, 5060, 5061, 5062, 5063, 5064, 5065, 5066, 5067, 5068, 5069, 5070, 5071, 5072, 5073, 5074, 5075, 5076, 5077, 5078, 5079, 5092, 5093, 5094, 5095, 5096, 5097, 5098, 5099, 5100, 5101, 5102, 5103, 5104, 5105, 5106, 5107, 5108, 5109, 5110, 5111, 5112, 5113, 5114, 5115, 5116, 5117, 5118, 5122, 5123, 5124, 5125, 5126, 5127, 5128, 5129, 5130, 5131, 5132, 5133, 5134, 5135, 5136, 5137, 5138, 5139, 5140, 5141, 5142, 5143, 5144, 5145, 5146, 5147, 5148, 5149, 5150, 5151, 5152, 5153, 5154, 5155, 5156, 5157, 5158, 5159, 5160, 5161, 5175, 5176, 5177, 5178, 5179, 5180, 5181, 5182, 5183, 5184, 5185, 5186, 5187, 5188, 5189, 5190, 5191, 5192, 5193, 5194, 5195, 5196, 5197, 5198, 5202, 5203, 5204, 5205, 5206, 5207, 5208, 5209, 5210, 5211, 5212, 5213, 5214, 5215, 5216, 5217, 5218, 5219, 5220, 5221, 5222, 5223, 5224, 5225, 5226, 5227, 5228, 5229, 5230, 5231, 5232, 5233, 5234, 5235, 5236, 5237, 5238, 5239, 5240, 5241, 5242, 5243, 5257, 5258, 5259, 5260, 5261, 5262, 5263, 5264, 5265, 5266, 5267, 5268, 5269, 5270, 5271, 5272, 5273, 5274, 5275, 5276, 5277, 5278, 5282, 5283, 5284, 5285, 5286, 5287, 5288, 5289, 5290, 5291, 5292, 5293, 5294, 5295, 5296, 5297, 5298, 5299, 5300, 5301, 5302, 5303, 5304, 5305, 5306, 5307, 5308, 5309, 5310, 5311, 5312, 5313, 5314, 5315, 5316, 5317, 5318, 5319, 5320, 5321, 5322, 5323, 5324, 5340, 5341, 5342, 5343, 5344, 5345, 5346, 5347, 5348, 5349, 5350, 5351, 5352, 5353, 5354, 5355, 5356, 5357, 5358, 5362, 5363, 5364, 5365, 5366, 5367, 5368, 5369, 5370, 5371, 5372, 5373, 5374, 5375, 5376, 5377, 5378, 5379, 5380, 5381, 5382, 5383, 5384, 5385, 5386, 5387, 5388, 5389, 5390, 5391, 5392, 5393, 5394, 5395, 5396, 5397, 5398, 5399, 5400, 5401, 5402, 5403, 5404, 5405, 5406, 5422, 5423, 5424, 5425, 5426, 5427, 5428, 5429, 5430, 5431, 5432, 5433, 5434, 5435, 5436, 5437, 5438, 5442, 5443, 5444, 5445, 5446, 5447, 5448, 5449, 5450, 5451, 5452, 5453, 5454, 5455, 5456, 5457, 5458, 5459, 5460, 5461, 5462, 5463, 5464, 5465, 5466, 5467, 5468, 5469, 5470, 5471, 5472, 5473, 5474, 5475, 5476, 5477, 5478, 5479, 5480, 5481, 5482, 5483, 5484, 5485, 5486, 5487, 5488, 5504, 5505, 5506, 5507, 5508, 5509, 5510, 5511, 5512, 5513, 5514, 5515, 5516, 5517, 5518, 5522, 5523, 5524, 5525, 5526, 5527, 5528, 5529, 5530, 5531, 5532, 5533, 5534, 5535, 5536, 5537, 5538, 5539, 5540, 5541, 5542, 5543, 5544, 5545, 5546, 5547, 5548, 5549, 5550, 5551, 5552, 5553, 5554, 5555, 5556, 5557, 5558, 5559, 5560, 5561, 5562, 5563, 5564, 5565, 5566, 5567, 5568, 5569, 5570, 5587, 5588, 5589, 5590, 5591, 5592, 5593, 5594, 5595, 5596, 5597, 5603, 5604, 5605, 5606, 5607, 5608, 5609, 5610, 5611, 5612, 5613, 5614, 5615, 5616, 5617, 5618, 5619, 5620, 5621, 5622, 5623, 5624, 5625, 5626, 5627, 5628, 5629, 5630, 5631, 5632, 5633, 5634, 5635, 5636, 5637, 5638, 5639, 5640, 5641, 5642, 5643, 5644, 5645, 5646, 5647, 5648, 5649, 5650, 5651, 5669, 5670, 5671, 5672, 5673, 5674, 5675, 5676, 5677, 5683, 5684, 5685, 5686, 5687, 5688, 5689, 5690, 5691, 5692, 5693, 5694, 5695, 5696, 5697, 5698, 5699, 5700, 5701, 5702, 5703, 5704, 5705, 5706, 5707, 5708, 5709, 5710, 5711, 5712, 5713, 5714, 5715, 5716, 5717, 5718, 5719, 5720, 5721, 5722, 5723, 5724, 5725, 5726, 5727, 5728, 5729, 5730, 5731, 5732, 5733, 5751, 5752, 5753, 5754, 5755, 5756, 5757, 5763, 5764, 5765, 5766, 5767, 5768, 5769, 5770, 5771, 5772, 5773, 5774, 5775, 5776, 5777, 5778, 5779, 5780, 5781, 5782, 5783, 5784, 5785, 5786, 5787, 5788, 5789, 5790, 5791, 5792, 5793, 5794, 5795, 5796, 5797, 5798, 5799, 5800, 5801, 5802, 5803, 5804, 5805, 5806, 5807, 5808, 5809, 5810, 5811, 5812, 5813, 5814, 5815, 5832, 5833, 5834, 5835, 5836, 5837, 5843, 5844, 5845, 5846, 5847, 5848, 5849, 5850, 5851, 5852, 5853, 5854, 5855, 5856, 5857, 5858, 5859, 5860, 5861, 5862, 5863, 5864, 5865, 5866, 5867, 5868, 5869, 5870, 5871, 5872, 5873, 5874, 5875, 5876, 5877, 5878, 5879, 5880, 5881, 5882, 5883, 5884, 5885, 5886, 5887, 5888, 5889, 5890, 5891, 5892, 5893, 5894, 5895, 5896, 5897, 5913, 5914, 5915, 5916, 5917, 5923, 5924, 5925, 5926, 5927, 5928, 5929, 5930, 5931, 5932, 5933, 5934, 5935, 5936, 5937, 5938, 5939, 5940, 5941, 5942, 5943, 5944, 5945, 5946, 5947, 5948, 5949, 5950, 5951, 5952, 5953, 5954, 5955, 5956, 5957, 5958, 5959, 5960, 5961, 5962, 5963, 5964, 5965, 5966, 5967, 5968, 5969, 5970, 5971, 5972, 5973, 5974, 5975, 5976, 5977, 5978, 5979, 5994, 5995, 5996, 5997, 6003, 6004, 6005, 6006, 6007, 6008, 6009, 6010, 6011, 6012, 6013, 6014, 6015, 6016, 6017, 6018, 6019, 6020, 6021, 6022, 6023, 6024, 6025, 6026, 6027, 6028, 6029, 6030, 6031, 6032, 6033, 6034, 6035, 6036, 6037, 6038, 6039, 6040, 6041, 6042, 6043, 6044, 6045, 6046, 6047, 6048, 6049, 6050, 6051, 6052, 6053, 6054, 6055, 6056, 6057, 6058, 6059, 6060, 6075, 6076, 6077, 6083, 6084, 6085, 6086, 6087, 6088, 6089, 6090, 6091, 6092, 6093, 6094, 6095, 6096, 6097, 6098, 6099, 6100, 6101, 6102, 6103, 6104, 6105, 6106, 6107, 6108, 6109, 6110, 6111, 6112, 6113, 6114, 6115, 6116, 6117, 6118, 6119, 6120, 6121, 6122, 6123, 6124, 6125, 6126, 6127, 6128, 6129, 6130, 6131, 6132, 6133, 6134, 6135, 6136, 6137, 6138, 6139, 6140, 6141, 6142, 6156, 6157, 6163, 6164, 6165, 6166, 6167, 6168, 6169, 6170, 6171, 6172, 6173, 6174, 6175, 6176, 6177, 6178, 6179, 6180, 6181, 6182, 6183, 6184, 6185, 6186, 6187, 6188, 6189, 6190, 6191, 6192, 6193, 6194, 6195, 6196, 6197, 6198, 6199, 6200, 6201, 6202, 6203, 6204, 6205, 6206, 6207, 6208, 6209, 6210, 6211, 6212, 6213, 6214, 6215, 6216, 6217, 6218, 6219, 6220, 6221, 6222, 6223, 6224, 6237, 6243, 6244, 6245, 6246, 6247, 6248, 6249, 6250, 6251, 6252, 6253, 6254, 6255, 6256, 6257, 6258, 6259, 6260, 6261, 6262, 6263, 6264, 6265, 6266, 6267, 6268, 6269, 6270, 6271, 6272, 6273, 6274, 6275, 6276, 6277, 6278, 6279, 6280, 6281, 6282, 6283, 6284, 6285, 6286, 6287, 6288, 6289, 6290, 6291, 6292, 6293, 6294, 6295, 6296, 6297, 6298, 6299, 6300, 6301, 6302, 6303, 6304, 6305, 6306, 6323, 6324, 6325, 6326, 6327, 6328, 6329, 6330, 6331, 6332, 6333, 6334, 6335, 6336, 6337, 6338, 6339, 6340, 6341, 6342, 6343, 6344, 6345, 6346, 6347, 6348, 6349, 6350, 6351, 6352, 6353, 6354, 6355, 6356, 6357, 6358, 6359, 6360, 6361, 6362, 6363, 6364, 6365, 6366, 6367, 6368, 6369, 6370, 6371, 6372, 6373, 6374, 6375, 6376, 6377, 6378, 6379, 6380, 6381, 6382, 6383, 6384, 6385, 6386, 6387, 6388, 6403, 6404, 6405, 6406, 6407, 6408, 6409, 6410, 6411, 6412, 6413, 6414, 6415, 6416, 6417, 6418, 6419, 6420, 6421, 6422, 6423, 6424, 6425, 6426, 6427, 6428, 6429, 6430, 6431, 6432, 6433, 6434, 6435, 6436, 6437, 6438, 6439, 6440, 6441, 6442, 6443, 6444, 6445, 6446, 6447, 6448, 6449, 6450, 6451, 6452, 6453, 6454, 6455, 6456, 6457, 6458, 6459, 6460, 6461, 6462, 6463, 6464, 6465, 6466, 6467, 6468, 6469, 6483, 6484, 6485, 6486, 6487, 6488, 6489, 6490, 6491, 6492, 6493, 6494, 6495, 6496, 6497, 6498, 6499, 6500, 6501, 6502, 6503, 6504, 6505, 6506, 6507, 6508, 6509, 6510, 6511, 6512, 6513, 6514, 6515, 6516, 6517, 6518, 6519, 6520, 6521, 6522, 6523, 6524, 6525, 6526, 6527, 6528, 6529, 6530, 6531, 6532, 6533, 6534, 6535, 6536, 6537, 6538, 6539, 6540, 6541, 6542, 6543, 6544, 6545, 6546, 6547, 6548, 6549, 6550, 6551]\n",
      "val ids:  []\n",
      "test ids:  [0, 1, 2, 3, 4, 5, 6, 7, 8, 78, 79, 80, 81, 82, 83, 84, 85, 86, 87, 88, 89, 90, 158, 159, 160, 161, 162, 163, 164, 165, 166, 167, 168, 169, 170, 171, 238, 239, 240, 241, 242, 243, 244, 245, 246, 247, 248, 249, 250, 251, 252, 253, 318, 319, 320, 321, 322, 324, 325, 326, 327, 328, 329, 330, 331, 332, 333, 334, 335, 398, 399, 400, 401, 402, 405, 406, 407, 408, 409, 410, 411, 412, 413, 414, 415, 416, 417, 478, 479, 480, 481, 482, 486, 487, 488, 489, 490, 491, 492, 493, 494, 495, 496, 497, 498, 499, 558, 559, 560, 561, 562, 567, 568, 569, 570, 571, 572, 573, 574, 575, 576, 577, 578, 579, 580, 638, 639, 640, 641, 642, 648, 649, 650, 651, 652, 653, 654, 655, 656, 657, 658, 659, 660, 661, 662, 718, 719, 720, 721, 722, 729, 730, 731, 732, 733, 734, 735, 736, 737, 738, 739, 740, 741, 742, 743, 744, 798, 799, 800, 801, 802, 810, 811, 812, 813, 814, 815, 816, 817, 818, 819, 820, 821, 822, 823, 824, 825, 826, 878, 879, 880, 881, 882, 892, 893, 894, 895, 896, 897, 898, 899, 900, 901, 902, 903, 904, 905, 906, 907, 908, 958, 959, 960, 961, 962, 974, 975, 976, 977, 978, 979, 980, 981, 982, 983, 984, 985, 986, 987, 988, 989, 1039, 1040, 1041, 1057, 1058, 1059, 1060, 1061, 1062, 1063, 1064, 1065, 1066, 1067, 1068, 1069, 1070, 1071, 1119, 1120, 1121, 1139, 1140, 1141, 1142, 1143, 1144, 1145, 1146, 1147, 1148, 1149, 1150, 1151, 1152, 1153, 1199, 1200, 1201, 1221, 1222, 1223, 1224, 1225, 1226, 1227, 1228, 1229, 1230, 1231, 1232, 1233, 1234, 1235, 1279, 1280, 1281, 1304, 1305, 1306, 1307, 1308, 1309, 1310, 1311, 1312, 1313, 1314, 1315, 1316, 1359, 1360, 1361, 1386, 1387, 1388, 1389, 1390, 1391, 1392, 1393, 1394, 1395, 1396, 1397, 1398, 1439, 1440, 1441, 1469, 1470, 1471, 1472, 1473, 1474, 1475, 1476, 1477, 1478, 1479, 1480, 1519, 1520, 1521, 1551, 1552, 1553, 1554, 1555, 1556, 1557, 1558, 1559, 1560, 1561, 1562, 1599, 1600, 1601, 1633, 1634, 1635, 1636, 1637, 1638, 1639, 1640, 1641, 1642, 1643, 1644, 1679, 1680, 1681, 1716, 1717, 1718, 1719, 1720, 1721, 1722, 1723, 1724, 1725, 1759, 1760, 1761, 1798, 1799, 1800, 1801, 1802, 1803, 1804, 1805, 1806, 1807, 1839, 1840, 1841, 1880, 1881, 1882, 1883, 1884, 1885, 1886, 1887, 1888, 1889, 1919, 1920, 1921, 1963, 1964, 1965, 1966, 1967, 1968, 1969, 1970, 1971, 1999, 2000, 2001, 2045, 2046, 2047, 2048, 2049, 2050, 2051, 2052, 2053, 2079, 2080, 2081, 2127, 2128, 2129, 2130, 2131, 2132, 2133, 2134, 2160, 2210, 2211, 2212, 2213, 2214, 2215, 2216, 2240, 2292, 2293, 2294, 2295, 2296, 2297, 2298, 2320, 2375, 2376, 2377, 2378, 2379, 2380, 2400, 2457, 2458, 2459, 2460, 2461, 2462, 2480, 2539, 2540, 2541, 2542, 2543, 2560, 2622, 2623, 2624, 2625, 2640, 2704, 2705, 2706, 2707, 2720, 2786, 2787, 2788, 2789, 2800, 2869, 2870, 2871, 2880, 2951, 2952, 2960, 3033, 3034, 3040, 3116, 3120, 3198, 3200, 3280, 3360, 3362, 3440, 3444, 3520, 3526, 3527, 3600, 3608, 3609, 3680, 3689, 3690, 3691, 3760, 3771, 3772, 3773, 3774, 3840, 3853, 3854, 3855, 3856, 3920, 3935, 3936, 3937, 3938, 4000, 4017, 4018, 4019, 4020, 4021, 4080, 4098, 4099, 4100, 4101, 4102, 4103, 4160, 4180, 4181, 4182, 4183, 4184, 4185, 4240, 4262, 4263, 4264, 4265, 4266, 4267, 4268, 4320, 4344, 4345, 4346, 4347, 4348, 4349, 4350, 4400, 4426, 4427, 4428, 4429, 4430, 4431, 4432, 4433, 4479, 4480, 4481, 4507, 4508, 4509, 4510, 4511, 4512, 4513, 4514, 4515, 4559, 4560, 4561, 4589, 4590, 4591, 4592, 4593, 4594, 4595, 4596, 4597, 4639, 4640, 4641, 4671, 4672, 4673, 4674, 4675, 4676, 4677, 4678, 4679, 4680, 4719, 4720, 4721, 4753, 4754, 4755, 4756, 4757, 4758, 4759, 4760, 4761, 4762, 4799, 4800, 4801, 4835, 4836, 4837, 4838, 4839, 4840, 4841, 4842, 4843, 4844, 4879, 4880, 4881, 4916, 4917, 4918, 4919, 4920, 4921, 4922, 4923, 4924, 4925, 4926, 4927, 4959, 4960, 4961, 4998, 4999, 5000, 5001, 5002, 5003, 5004, 5005, 5006, 5007, 5008, 5009, 5039, 5040, 5041, 5080, 5081, 5082, 5083, 5084, 5085, 5086, 5087, 5088, 5089, 5090, 5091, 5119, 5120, 5121, 5162, 5163, 5164, 5165, 5166, 5167, 5168, 5169, 5170, 5171, 5172, 5173, 5174, 5199, 5200, 5201, 5244, 5245, 5246, 5247, 5248, 5249, 5250, 5251, 5252, 5253, 5254, 5255, 5256, 5279, 5280, 5281, 5325, 5326, 5327, 5328, 5329, 5330, 5331, 5332, 5333, 5334, 5335, 5336, 5337, 5338, 5339, 5359, 5360, 5361, 5407, 5408, 5409, 5410, 5411, 5412, 5413, 5414, 5415, 5416, 5417, 5418, 5419, 5420, 5421, 5439, 5440, 5441, 5489, 5490, 5491, 5492, 5493, 5494, 5495, 5496, 5497, 5498, 5499, 5500, 5501, 5502, 5503, 5519, 5520, 5521, 5571, 5572, 5573, 5574, 5575, 5576, 5577, 5578, 5579, 5580, 5581, 5582, 5583, 5584, 5585, 5586, 5598, 5599, 5600, 5601, 5602, 5652, 5653, 5654, 5655, 5656, 5657, 5658, 5659, 5660, 5661, 5662, 5663, 5664, 5665, 5666, 5667, 5668, 5678, 5679, 5680, 5681, 5682, 5734, 5735, 5736, 5737, 5738, 5739, 5740, 5741, 5742, 5743, 5744, 5745, 5746, 5747, 5748, 5749, 5750, 5758, 5759, 5760, 5761, 5762, 5816, 5817, 5818, 5819, 5820, 5821, 5822, 5823, 5824, 5825, 5826, 5827, 5828, 5829, 5830, 5831, 5838, 5839, 5840, 5841, 5842, 5898, 5899, 5900, 5901, 5902, 5903, 5904, 5905, 5906, 5907, 5908, 5909, 5910, 5911, 5912, 5918, 5919, 5920, 5921, 5922, 5980, 5981, 5982, 5983, 5984, 5985, 5986, 5987, 5988, 5989, 5990, 5991, 5992, 5993, 5998, 5999, 6000, 6001, 6002, 6061, 6062, 6063, 6064, 6065, 6066, 6067, 6068, 6069, 6070, 6071, 6072, 6073, 6074, 6078, 6079, 6080, 6081, 6082, 6143, 6144, 6145, 6146, 6147, 6148, 6149, 6150, 6151, 6152, 6153, 6154, 6155, 6158, 6159, 6160, 6161, 6162, 6225, 6226, 6227, 6228, 6229, 6230, 6231, 6232, 6233, 6234, 6235, 6236, 6238, 6239, 6240, 6241, 6242, 6307, 6308, 6309, 6310, 6311, 6312, 6313, 6314, 6315, 6316, 6317, 6318, 6319, 6320, 6321, 6322, 6389, 6390, 6391, 6392, 6393, 6394, 6395, 6396, 6397, 6398, 6399, 6400, 6401, 6402, 6470, 6471, 6472, 6473, 6474, 6475, 6476, 6477, 6478, 6479, 6480, 6481, 6482, 6552, 6553, 6554, 6555, 6556, 6557, 6558, 6559, 6560]\n",
      "CPU times: user 153 ms, sys: 39.9 ms, total: 193 ms\n",
      "Wall time: 192 ms\n"
     ]
    }
   ],
   "source": [
    "%%time\n",
    "n_total = len(simulation.dataframe)\n",
    "n_train = len(simulation.dataframe[simulation.dataframe.type_of == \"train\"])\n",
    "n_val = len(simulation.dataframe[simulation.dataframe.type_of == \"val\"])\n",
    "n_test = len(simulation.dataframe[simulation.dataframe.type_of == \"test\"])\n",
    "n_train_hamiltonians = len(simulation.train_ids)\n",
    "n_val_hamiltonians = len(simulation.val_ids)\n",
    "n_test_hamiltonians = len(simulation.test_ids)\n",
    "n_total_hamiltonians = n_train_hamiltonians + n_val_hamiltonians + n_test_hamiltonians\n",
    "\n",
    "print(\"% train: \", n_train/n_total)\n",
    "print(\"% val: \",  n_val/n_total)\n",
    "print(\"% test: \", n_test/n_total)\n",
    "print(\"% train + val + test: \", (n_train+n_val+n_test)/n_total)\n",
    "print(\"\\n\")\n",
    "print(\"number of train hamiltonians: \", n_train_hamiltonians)\n",
    "print(\"number of val hamiltonians: \", n_val_hamiltonians)\n",
    "print(\"number of test hamiltonians: \", n_test_hamiltonians)\n",
    "print(\"total number of hamiltonians: \", n_total_hamiltonians)\n",
    "print(\"\\n\")\n",
    "print(\"train ids: \", simulation.train_ids)\n",
    "print(\"val ids: \", simulation.val_ids)\n",
    "print(\"test ids: \", simulation.test_ids)"
   ]
  },
  {
   "cell_type": "markdown",
   "metadata": {
    "papermill": {
     "duration": 0.019233,
     "end_time": "2020-07-18T05:31:11.007438",
     "exception": false,
     "start_time": "2020-07-18T05:31:10.988205",
     "status": "completed"
    },
    "tags": []
   },
   "source": [
    "## Running a simulation"
   ]
  },
  {
   "cell_type": "code",
   "execution_count": 27,
   "metadata": {
    "execution": {
     "iopub.execute_input": "2020-07-18T05:31:11.048415Z",
     "iopub.status.busy": "2020-07-18T05:31:11.048091Z",
     "iopub.status.idle": "2020-07-18T05:33:54.031464Z",
     "shell.execute_reply": "2020-07-18T05:33:54.031719Z"
    },
    "papermill": {
     "duration": 163.005689,
     "end_time": "2020-07-18T05:33:54.031789",
     "exception": false,
     "start_time": "2020-07-18T05:31:11.026100",
     "status": "completed"
    },
    "tags": []
   },
   "outputs": [
    {
     "name": "stderr",
     "output_type": "stream",
     "text": [
      "\r",
      "running experiments:   0%|          | 0/100 [00:00<?, ?it/s]"
     ]
    },
    {
     "name": "stdout",
     "output_type": "stream",
     "text": [
      "Simulation mode:  dct\n"
     ]
    },
    {
     "name": "stderr",
     "output_type": "stream",
     "text": [
      "\r",
      "running experiments:   1%|          | 1/100 [00:01<02:40,  1.62s/it]"
     ]
    },
    {
     "name": "stderr",
     "output_type": "stream",
     "text": [
      "\r",
      "running experiments:   2%|▏         | 2/100 [00:03<02:38,  1.61s/it]"
     ]
    },
    {
     "name": "stderr",
     "output_type": "stream",
     "text": [
      "\r",
      "running experiments:   3%|▎         | 3/100 [00:04<02:39,  1.65s/it]"
     ]
    },
    {
     "name": "stderr",
     "output_type": "stream",
     "text": [
      "\r",
      "running experiments:   4%|▍         | 4/100 [00:06<02:36,  1.63s/it]"
     ]
    },
    {
     "name": "stderr",
     "output_type": "stream",
     "text": [
      "\r",
      "running experiments:   5%|▌         | 5/100 [00:08<02:35,  1.64s/it]"
     ]
    },
    {
     "name": "stderr",
     "output_type": "stream",
     "text": [
      "\r",
      "running experiments:   6%|▌         | 6/100 [00:09<02:33,  1.64s/it]"
     ]
    },
    {
     "name": "stderr",
     "output_type": "stream",
     "text": [
      "\r",
      "running experiments:   7%|▋         | 7/100 [00:11<02:31,  1.63s/it]"
     ]
    },
    {
     "name": "stderr",
     "output_type": "stream",
     "text": [
      "\r",
      "running experiments:   8%|▊         | 8/100 [00:13<02:29,  1.62s/it]"
     ]
    },
    {
     "name": "stderr",
     "output_type": "stream",
     "text": [
      "\r",
      "running experiments:   9%|▉         | 9/100 [00:14<02:29,  1.65s/it]"
     ]
    },
    {
     "name": "stderr",
     "output_type": "stream",
     "text": [
      "\r",
      "running experiments:  10%|█         | 10/100 [00:16<02:28,  1.65s/it]"
     ]
    },
    {
     "name": "stderr",
     "output_type": "stream",
     "text": [
      "\r",
      "running experiments:  11%|█         | 11/100 [00:18<02:26,  1.65s/it]"
     ]
    },
    {
     "name": "stderr",
     "output_type": "stream",
     "text": [
      "\r",
      "running experiments:  12%|█▏        | 12/100 [00:19<02:26,  1.66s/it]"
     ]
    },
    {
     "name": "stderr",
     "output_type": "stream",
     "text": [
      "\r",
      "running experiments:  13%|█▎        | 13/100 [00:21<02:23,  1.65s/it]"
     ]
    },
    {
     "name": "stderr",
     "output_type": "stream",
     "text": [
      "\r",
      "running experiments:  14%|█▍        | 14/100 [00:22<02:20,  1.64s/it]"
     ]
    },
    {
     "name": "stderr",
     "output_type": "stream",
     "text": [
      "\r",
      "running experiments:  15%|█▌        | 15/100 [00:24<02:18,  1.63s/it]"
     ]
    },
    {
     "name": "stderr",
     "output_type": "stream",
     "text": [
      "\r",
      "running experiments:  16%|█▌        | 16/100 [00:26<02:16,  1.63s/it]"
     ]
    },
    {
     "name": "stderr",
     "output_type": "stream",
     "text": [
      "\r",
      "running experiments:  17%|█▋        | 17/100 [00:27<02:14,  1.62s/it]"
     ]
    },
    {
     "name": "stderr",
     "output_type": "stream",
     "text": [
      "\r",
      "running experiments:  18%|█▊        | 18/100 [00:29<02:13,  1.63s/it]"
     ]
    },
    {
     "name": "stderr",
     "output_type": "stream",
     "text": [
      "\r",
      "running experiments:  19%|█▉        | 19/100 [00:31<02:12,  1.64s/it]"
     ]
    },
    {
     "name": "stderr",
     "output_type": "stream",
     "text": [
      "\r",
      "running experiments:  20%|██        | 20/100 [00:32<02:11,  1.65s/it]"
     ]
    },
    {
     "name": "stderr",
     "output_type": "stream",
     "text": [
      "\r",
      "running experiments:  21%|██        | 21/100 [00:34<02:09,  1.64s/it]"
     ]
    },
    {
     "name": "stderr",
     "output_type": "stream",
     "text": [
      "\r",
      "running experiments:  22%|██▏       | 22/100 [00:36<02:07,  1.64s/it]"
     ]
    },
    {
     "name": "stderr",
     "output_type": "stream",
     "text": [
      "\r",
      "running experiments:  23%|██▎       | 23/100 [00:37<02:05,  1.63s/it]"
     ]
    },
    {
     "name": "stderr",
     "output_type": "stream",
     "text": [
      "\r",
      "running experiments:  24%|██▍       | 24/100 [00:39<02:04,  1.63s/it]"
     ]
    },
    {
     "name": "stderr",
     "output_type": "stream",
     "text": [
      "\r",
      "running experiments:  25%|██▌       | 25/100 [00:40<02:01,  1.63s/it]"
     ]
    },
    {
     "name": "stderr",
     "output_type": "stream",
     "text": [
      "\r",
      "running experiments:  26%|██▌       | 26/100 [00:42<02:00,  1.63s/it]"
     ]
    },
    {
     "name": "stderr",
     "output_type": "stream",
     "text": [
      "\r",
      "running experiments:  27%|██▋       | 27/100 [00:44<01:59,  1.64s/it]"
     ]
    },
    {
     "name": "stderr",
     "output_type": "stream",
     "text": [
      "\r",
      "running experiments:  28%|██▊       | 28/100 [00:45<01:58,  1.64s/it]"
     ]
    },
    {
     "name": "stderr",
     "output_type": "stream",
     "text": [
      "\r",
      "running experiments:  29%|██▉       | 29/100 [00:47<01:56,  1.64s/it]"
     ]
    },
    {
     "name": "stderr",
     "output_type": "stream",
     "text": [
      "\r",
      "running experiments:  30%|███       | 30/100 [00:49<01:56,  1.67s/it]"
     ]
    },
    {
     "name": "stderr",
     "output_type": "stream",
     "text": [
      "\r",
      "running experiments:  31%|███       | 31/100 [00:50<01:54,  1.66s/it]"
     ]
    },
    {
     "name": "stderr",
     "output_type": "stream",
     "text": [
      "\r",
      "running experiments:  32%|███▏      | 32/100 [00:52<01:52,  1.65s/it]"
     ]
    },
    {
     "name": "stderr",
     "output_type": "stream",
     "text": [
      "\r",
      "running experiments:  33%|███▎      | 33/100 [00:54<01:50,  1.65s/it]"
     ]
    },
    {
     "name": "stderr",
     "output_type": "stream",
     "text": [
      "\r",
      "running experiments:  34%|███▍      | 34/100 [00:55<01:48,  1.64s/it]"
     ]
    },
    {
     "name": "stderr",
     "output_type": "stream",
     "text": [
      "\r",
      "running experiments:  35%|███▌      | 35/100 [00:57<01:46,  1.64s/it]"
     ]
    },
    {
     "name": "stderr",
     "output_type": "stream",
     "text": [
      "\r",
      "running experiments:  36%|███▌      | 36/100 [00:59<01:44,  1.63s/it]"
     ]
    },
    {
     "name": "stderr",
     "output_type": "stream",
     "text": [
      "\r",
      "running experiments:  37%|███▋      | 37/100 [01:00<01:42,  1.63s/it]"
     ]
    },
    {
     "name": "stderr",
     "output_type": "stream",
     "text": [
      "\r",
      "running experiments:  38%|███▊      | 38/100 [01:02<01:40,  1.62s/it]"
     ]
    },
    {
     "name": "stderr",
     "output_type": "stream",
     "text": [
      "\r",
      "running experiments:  39%|███▉      | 39/100 [01:03<01:38,  1.61s/it]"
     ]
    },
    {
     "name": "stderr",
     "output_type": "stream",
     "text": [
      "\r",
      "running experiments:  40%|████      | 40/100 [01:05<01:36,  1.61s/it]"
     ]
    },
    {
     "name": "stderr",
     "output_type": "stream",
     "text": [
      "\r",
      "running experiments:  41%|████      | 41/100 [01:07<01:35,  1.61s/it]"
     ]
    },
    {
     "name": "stderr",
     "output_type": "stream",
     "text": [
      "\r",
      "running experiments:  42%|████▏     | 42/100 [01:08<01:33,  1.61s/it]"
     ]
    },
    {
     "name": "stderr",
     "output_type": "stream",
     "text": [
      "\r",
      "running experiments:  43%|████▎     | 43/100 [01:10<01:31,  1.61s/it]"
     ]
    },
    {
     "name": "stderr",
     "output_type": "stream",
     "text": [
      "\r",
      "running experiments:  44%|████▍     | 44/100 [01:11<01:30,  1.61s/it]"
     ]
    },
    {
     "name": "stderr",
     "output_type": "stream",
     "text": [
      "\r",
      "running experiments:  45%|████▌     | 45/100 [01:13<01:28,  1.62s/it]"
     ]
    },
    {
     "name": "stderr",
     "output_type": "stream",
     "text": [
      "\r",
      "running experiments:  46%|████▌     | 46/100 [01:15<01:27,  1.62s/it]"
     ]
    },
    {
     "name": "stderr",
     "output_type": "stream",
     "text": [
      "\r",
      "running experiments:  47%|████▋     | 47/100 [01:16<01:25,  1.61s/it]"
     ]
    },
    {
     "name": "stderr",
     "output_type": "stream",
     "text": [
      "\r",
      "running experiments:  48%|████▊     | 48/100 [01:18<01:23,  1.61s/it]"
     ]
    },
    {
     "name": "stderr",
     "output_type": "stream",
     "text": [
      "\r",
      "running experiments:  49%|████▉     | 49/100 [01:20<01:23,  1.63s/it]"
     ]
    },
    {
     "name": "stderr",
     "output_type": "stream",
     "text": [
      "\r",
      "running experiments:  50%|█████     | 50/100 [01:21<01:21,  1.63s/it]"
     ]
    },
    {
     "name": "stderr",
     "output_type": "stream",
     "text": [
      "\r",
      "running experiments:  51%|█████     | 51/100 [01:23<01:19,  1.62s/it]"
     ]
    },
    {
     "name": "stderr",
     "output_type": "stream",
     "text": [
      "\r",
      "running experiments:  52%|█████▏    | 52/100 [01:24<01:17,  1.61s/it]"
     ]
    },
    {
     "name": "stderr",
     "output_type": "stream",
     "text": [
      "\r",
      "running experiments:  53%|█████▎    | 53/100 [01:26<01:15,  1.62s/it]"
     ]
    },
    {
     "name": "stderr",
     "output_type": "stream",
     "text": [
      "\r",
      "running experiments:  54%|█████▍    | 54/100 [01:28<01:14,  1.61s/it]"
     ]
    },
    {
     "name": "stderr",
     "output_type": "stream",
     "text": [
      "\r",
      "running experiments:  55%|█████▌    | 55/100 [01:29<01:12,  1.61s/it]"
     ]
    },
    {
     "name": "stderr",
     "output_type": "stream",
     "text": [
      "\r",
      "running experiments:  56%|█████▌    | 56/100 [01:31<01:11,  1.63s/it]"
     ]
    },
    {
     "name": "stderr",
     "output_type": "stream",
     "text": [
      "\r",
      "running experiments:  57%|█████▋    | 57/100 [01:32<01:09,  1.62s/it]"
     ]
    },
    {
     "name": "stderr",
     "output_type": "stream",
     "text": [
      "\r",
      "running experiments:  58%|█████▊    | 58/100 [01:34<01:07,  1.62s/it]"
     ]
    },
    {
     "name": "stderr",
     "output_type": "stream",
     "text": [
      "\r",
      "running experiments:  59%|█████▉    | 59/100 [01:36<01:06,  1.61s/it]"
     ]
    },
    {
     "name": "stderr",
     "output_type": "stream",
     "text": [
      "\r",
      "running experiments:  60%|██████    | 60/100 [01:37<01:04,  1.62s/it]"
     ]
    },
    {
     "name": "stderr",
     "output_type": "stream",
     "text": [
      "\r",
      "running experiments:  61%|██████    | 61/100 [01:39<01:03,  1.62s/it]"
     ]
    },
    {
     "name": "stderr",
     "output_type": "stream",
     "text": [
      "\r",
      "running experiments:  62%|██████▏   | 62/100 [01:41<01:01,  1.62s/it]"
     ]
    },
    {
     "name": "stderr",
     "output_type": "stream",
     "text": [
      "\r",
      "running experiments:  63%|██████▎   | 63/100 [01:42<00:59,  1.62s/it]"
     ]
    },
    {
     "name": "stderr",
     "output_type": "stream",
     "text": [
      "\r",
      "running experiments:  64%|██████▍   | 64/100 [01:44<00:58,  1.62s/it]"
     ]
    },
    {
     "name": "stderr",
     "output_type": "stream",
     "text": [
      "\r",
      "running experiments:  65%|██████▌   | 65/100 [01:45<00:57,  1.63s/it]"
     ]
    },
    {
     "name": "stderr",
     "output_type": "stream",
     "text": [
      "\r",
      "running experiments:  66%|██████▌   | 66/100 [01:47<00:55,  1.63s/it]"
     ]
    },
    {
     "name": "stderr",
     "output_type": "stream",
     "text": [
      "\r",
      "running experiments:  67%|██████▋   | 67/100 [01:49<00:53,  1.63s/it]"
     ]
    },
    {
     "name": "stderr",
     "output_type": "stream",
     "text": [
      "\r",
      "running experiments:  68%|██████▊   | 68/100 [01:50<00:52,  1.63s/it]"
     ]
    },
    {
     "name": "stderr",
     "output_type": "stream",
     "text": [
      "\r",
      "running experiments:  69%|██████▉   | 69/100 [01:52<00:50,  1.62s/it]"
     ]
    },
    {
     "name": "stderr",
     "output_type": "stream",
     "text": [
      "\r",
      "running experiments:  70%|███████   | 70/100 [01:54<00:48,  1.62s/it]"
     ]
    },
    {
     "name": "stderr",
     "output_type": "stream",
     "text": [
      "\r",
      "running experiments:  71%|███████   | 71/100 [01:55<00:46,  1.62s/it]"
     ]
    },
    {
     "name": "stderr",
     "output_type": "stream",
     "text": [
      "\r",
      "running experiments:  72%|███████▏  | 72/100 [01:57<00:45,  1.62s/it]"
     ]
    },
    {
     "name": "stderr",
     "output_type": "stream",
     "text": [
      "\r",
      "running experiments:  73%|███████▎  | 73/100 [01:58<00:43,  1.62s/it]"
     ]
    },
    {
     "name": "stderr",
     "output_type": "stream",
     "text": [
      "\r",
      "running experiments:  74%|███████▍  | 74/100 [02:00<00:41,  1.61s/it]"
     ]
    },
    {
     "name": "stderr",
     "output_type": "stream",
     "text": [
      "\r",
      "running experiments:  75%|███████▌  | 75/100 [02:02<00:40,  1.61s/it]"
     ]
    },
    {
     "name": "stderr",
     "output_type": "stream",
     "text": [
      "\r",
      "running experiments:  76%|███████▌  | 76/100 [02:03<00:38,  1.61s/it]"
     ]
    },
    {
     "name": "stderr",
     "output_type": "stream",
     "text": [
      "\r",
      "running experiments:  77%|███████▋  | 77/100 [02:05<00:37,  1.61s/it]"
     ]
    },
    {
     "name": "stderr",
     "output_type": "stream",
     "text": [
      "\r",
      "running experiments:  78%|███████▊  | 78/100 [02:06<00:35,  1.60s/it]"
     ]
    },
    {
     "name": "stderr",
     "output_type": "stream",
     "text": [
      "\r",
      "running experiments:  79%|███████▉  | 79/100 [02:08<00:33,  1.61s/it]"
     ]
    },
    {
     "name": "stderr",
     "output_type": "stream",
     "text": [
      "\r",
      "running experiments:  80%|████████  | 80/100 [02:10<00:32,  1.60s/it]"
     ]
    },
    {
     "name": "stderr",
     "output_type": "stream",
     "text": [
      "\r",
      "running experiments:  81%|████████  | 81/100 [02:11<00:30,  1.61s/it]"
     ]
    },
    {
     "name": "stderr",
     "output_type": "stream",
     "text": [
      "\r",
      "running experiments:  82%|████████▏ | 82/100 [02:13<00:29,  1.62s/it]"
     ]
    },
    {
     "name": "stderr",
     "output_type": "stream",
     "text": [
      "\r",
      "running experiments:  83%|████████▎ | 83/100 [02:14<00:27,  1.61s/it]"
     ]
    },
    {
     "name": "stderr",
     "output_type": "stream",
     "text": [
      "\r",
      "running experiments:  84%|████████▍ | 84/100 [02:16<00:25,  1.62s/it]"
     ]
    },
    {
     "name": "stderr",
     "output_type": "stream",
     "text": [
      "\r",
      "running experiments:  85%|████████▌ | 85/100 [02:18<00:24,  1.64s/it]"
     ]
    },
    {
     "name": "stderr",
     "output_type": "stream",
     "text": [
      "\r",
      "running experiments:  86%|████████▌ | 86/100 [02:19<00:23,  1.65s/it]"
     ]
    },
    {
     "name": "stderr",
     "output_type": "stream",
     "text": [
      "\r",
      "running experiments:  87%|████████▋ | 87/100 [02:21<00:21,  1.64s/it]"
     ]
    },
    {
     "name": "stderr",
     "output_type": "stream",
     "text": [
      "\r",
      "running experiments:  88%|████████▊ | 88/100 [02:23<00:19,  1.63s/it]"
     ]
    },
    {
     "name": "stderr",
     "output_type": "stream",
     "text": [
      "\r",
      "running experiments:  89%|████████▉ | 89/100 [02:24<00:17,  1.63s/it]"
     ]
    },
    {
     "name": "stderr",
     "output_type": "stream",
     "text": [
      "\r",
      "running experiments:  90%|█████████ | 90/100 [02:26<00:16,  1.63s/it]"
     ]
    },
    {
     "name": "stderr",
     "output_type": "stream",
     "text": [
      "\r",
      "running experiments:  91%|█████████ | 91/100 [02:28<00:14,  1.62s/it]"
     ]
    },
    {
     "name": "stderr",
     "output_type": "stream",
     "text": [
      "\r",
      "running experiments:  92%|█████████▏| 92/100 [02:29<00:12,  1.62s/it]"
     ]
    },
    {
     "name": "stderr",
     "output_type": "stream",
     "text": [
      "\r",
      "running experiments:  93%|█████████▎| 93/100 [02:31<00:11,  1.64s/it]"
     ]
    },
    {
     "name": "stderr",
     "output_type": "stream",
     "text": [
      "\r",
      "running experiments:  94%|█████████▍| 94/100 [02:32<00:09,  1.64s/it]"
     ]
    },
    {
     "name": "stderr",
     "output_type": "stream",
     "text": [
      "\r",
      "running experiments:  95%|█████████▌| 95/100 [02:34<00:08,  1.65s/it]"
     ]
    },
    {
     "name": "stderr",
     "output_type": "stream",
     "text": [
      "\r",
      "running experiments:  96%|█████████▌| 96/100 [02:36<00:06,  1.65s/it]"
     ]
    },
    {
     "name": "stderr",
     "output_type": "stream",
     "text": [
      "\r",
      "running experiments:  97%|█████████▋| 97/100 [02:37<00:04,  1.65s/it]"
     ]
    },
    {
     "name": "stderr",
     "output_type": "stream",
     "text": [
      "\r",
      "running experiments:  98%|█████████▊| 98/100 [02:39<00:03,  1.67s/it]"
     ]
    },
    {
     "name": "stderr",
     "output_type": "stream",
     "text": [
      "\r",
      "running experiments:  99%|█████████▉| 99/100 [02:41<00:01,  1.67s/it]"
     ]
    },
    {
     "name": "stderr",
     "output_type": "stream",
     "text": [
      "\r",
      "running experiments: 100%|██████████| 100/100 [02:42<00:00,  1.65s/it]"
     ]
    },
    {
     "name": "stderr",
     "output_type": "stream",
     "text": [
      "\r",
      "running experiments: 100%|██████████| 100/100 [02:42<00:00,  1.63s/it]"
     ]
    },
    {
     "name": "stdout",
     "output_type": "stream",
     "text": [
      "CPU times: user 2min 42s, sys: 769 ms, total: 2min 43s\n",
      "Wall time: 2min 42s\n"
     ]
    },
    {
     "name": "stderr",
     "output_type": "stream",
     "text": [
      "\n"
     ]
    }
   ],
   "source": [
    "\n",
    "%%time\n",
    "simulation.run_simulation(n_experiments, start_n, fit_params,shuffle_rows, pred_params, random_features, \\\n",
    "                          store_in_lists, save_eigenvector, save_hamiltonian, save_accuracy,\\\n",
    "                          save_models)\n",
    "if simulation.fourier_mode is not None:\n",
    "    simulation.fourier_dataframe.head(10)"
   ]
  },
  {
   "cell_type": "code",
   "execution_count": 28,
   "metadata": {
    "execution": {
     "iopub.execute_input": "2020-07-18T05:33:54.107561Z",
     "iopub.status.busy": "2020-07-18T05:33:54.107250Z",
     "iopub.status.idle": "2020-07-18T05:33:54.131811Z",
     "shell.execute_reply": "2020-07-18T05:33:54.132133Z"
    },
    "papermill": {
     "duration": 0.064366,
     "end_time": "2020-07-18T05:33:54.132202",
     "exception": false,
     "start_time": "2020-07-18T05:33:54.067836",
     "status": "completed"
    },
    "tags": []
   },
   "outputs": [
    {
     "data": {
      "text/html": [
       "<div>\n",
       "<style scoped>\n",
       "    .dataframe tbody tr th:only-of-type {\n",
       "        vertical-align: middle;\n",
       "    }\n",
       "\n",
       "    .dataframe tbody tr th {\n",
       "        vertical-align: top;\n",
       "    }\n",
       "\n",
       "    .dataframe thead th {\n",
       "        text-align: right;\n",
       "    }\n",
       "</style>\n",
       "<table border=\"1\" class=\"dataframe\">\n",
       "  <thead>\n",
       "    <tr style=\"text-align: right;\">\n",
       "      <th></th>\n",
       "      <th>id</th>\n",
       "      <th>path</th>\n",
       "      <th>t1</th>\n",
       "      <th>t2</th>\n",
       "      <th>winding</th>\n",
       "      <th>phase</th>\n",
       "      <th>pred_phase</th>\n",
       "      <th>type_of</th>\n",
       "      <th>feat0</th>\n",
       "      <th>feat1</th>\n",
       "      <th>...</th>\n",
       "      <th>feat90</th>\n",
       "      <th>feat91</th>\n",
       "      <th>feat92</th>\n",
       "      <th>feat93</th>\n",
       "      <th>feat94</th>\n",
       "      <th>feat95</th>\n",
       "      <th>feat96</th>\n",
       "      <th>feat97</th>\n",
       "      <th>feat98</th>\n",
       "      <th>feat99</th>\n",
       "    </tr>\n",
       "  </thead>\n",
       "  <tbody>\n",
       "    <tr>\n",
       "      <th>0</th>\n",
       "      <td>0</td>\n",
       "      <td>H_-2_-2_0.509296.dat</td>\n",
       "      <td>-2.0</td>\n",
       "      <td>-2.0</td>\n",
       "      <td>0.509296</td>\n",
       "      <td>999</td>\n",
       "      <td>666</td>\n",
       "      <td>test</td>\n",
       "      <td>0.100000</td>\n",
       "      <td>0.100000</td>\n",
       "      <td>...</td>\n",
       "      <td>0.100000</td>\n",
       "      <td>0.100000</td>\n",
       "      <td>0.100000</td>\n",
       "      <td>0.100000</td>\n",
       "      <td>0.100000</td>\n",
       "      <td>0.100000</td>\n",
       "      <td>0.100000</td>\n",
       "      <td>0.100000</td>\n",
       "      <td>0.100000</td>\n",
       "      <td>0.100000</td>\n",
       "    </tr>\n",
       "    <tr>\n",
       "      <th>1</th>\n",
       "      <td>0</td>\n",
       "      <td>H_-2_-2_0.509296.dat</td>\n",
       "      <td>-2.0</td>\n",
       "      <td>-2.0</td>\n",
       "      <td>0.509296</td>\n",
       "      <td>999</td>\n",
       "      <td>666</td>\n",
       "      <td>test</td>\n",
       "      <td>0.141421</td>\n",
       "      <td>0.141142</td>\n",
       "      <td>...</td>\n",
       "      <td>0.114412</td>\n",
       "      <td>0.108967</td>\n",
       "      <td>0.123928</td>\n",
       "      <td>0.119406</td>\n",
       "      <td>0.131490</td>\n",
       "      <td>0.127962</td>\n",
       "      <td>0.136978</td>\n",
       "      <td>0.134500</td>\n",
       "      <td>0.140306</td>\n",
       "      <td>0.138916</td>\n",
       "    </tr>\n",
       "    <tr>\n",
       "      <th>2</th>\n",
       "      <td>0</td>\n",
       "      <td>H_-2_-2_0.509296.dat</td>\n",
       "      <td>-2.0</td>\n",
       "      <td>-2.0</td>\n",
       "      <td>0.509296</td>\n",
       "      <td>999</td>\n",
       "      <td>666</td>\n",
       "      <td>test</td>\n",
       "      <td>0.141421</td>\n",
       "      <td>0.140306</td>\n",
       "      <td>...</td>\n",
       "      <td>0.043702</td>\n",
       "      <td>0.026500</td>\n",
       "      <td>0.075777</td>\n",
       "      <td>0.060214</td>\n",
       "      <td>0.103092</td>\n",
       "      <td>0.090145</td>\n",
       "      <td>0.123928</td>\n",
       "      <td>0.114412</td>\n",
       "      <td>0.136978</td>\n",
       "      <td>0.131490</td>\n",
       "    </tr>\n",
       "    <tr>\n",
       "      <th>3</th>\n",
       "      <td>0</td>\n",
       "      <td>H_-2_-2_0.509296.dat</td>\n",
       "      <td>-2.0</td>\n",
       "      <td>-2.0</td>\n",
       "      <td>0.509296</td>\n",
       "      <td>999</td>\n",
       "      <td>666</td>\n",
       "      <td>test</td>\n",
       "      <td>-0.100000</td>\n",
       "      <td>0.100000</td>\n",
       "      <td>...</td>\n",
       "      <td>-0.100000</td>\n",
       "      <td>0.100000</td>\n",
       "      <td>-0.100000</td>\n",
       "      <td>0.100000</td>\n",
       "      <td>-0.100000</td>\n",
       "      <td>0.100000</td>\n",
       "      <td>-0.100000</td>\n",
       "      <td>0.100000</td>\n",
       "      <td>-0.100000</td>\n",
       "      <td>0.100000</td>\n",
       "    </tr>\n",
       "    <tr>\n",
       "      <th>4</th>\n",
       "      <td>0</td>\n",
       "      <td>H_-2_-2_0.509296.dat</td>\n",
       "      <td>-2.0</td>\n",
       "      <td>-2.0</td>\n",
       "      <td>0.509296</td>\n",
       "      <td>999</td>\n",
       "      <td>666</td>\n",
       "      <td>test</td>\n",
       "      <td>0.000509</td>\n",
       "      <td>-0.008372</td>\n",
       "      <td>...</td>\n",
       "      <td>-0.082713</td>\n",
       "      <td>-0.089753</td>\n",
       "      <td>-0.067684</td>\n",
       "      <td>-0.075347</td>\n",
       "      <td>-0.051587</td>\n",
       "      <td>-0.059753</td>\n",
       "      <td>-0.034677</td>\n",
       "      <td>-0.043217</td>\n",
       "      <td>-0.017220</td>\n",
       "      <td>-0.026000</td>\n",
       "    </tr>\n",
       "    <tr>\n",
       "      <th>5</th>\n",
       "      <td>0</td>\n",
       "      <td>H_-2_-2_0.509296.dat</td>\n",
       "      <td>-2.0</td>\n",
       "      <td>-2.0</td>\n",
       "      <td>0.509296</td>\n",
       "      <td>999</td>\n",
       "      <td>666</td>\n",
       "      <td>test</td>\n",
       "      <td>0.001204</td>\n",
       "      <td>-0.016530</td>\n",
       "      <td>...</td>\n",
       "      <td>-0.134123</td>\n",
       "      <td>-0.138686</td>\n",
       "      <td>-0.118757</td>\n",
       "      <td>-0.127445</td>\n",
       "      <td>-0.095929</td>\n",
       "      <td>-0.108196</td>\n",
       "      <td>-0.067073</td>\n",
       "      <td>-0.082149</td>\n",
       "      <td>-0.034003</td>\n",
       "      <td>-0.050940</td>\n",
       "    </tr>\n",
       "    <tr>\n",
       "      <th>6</th>\n",
       "      <td>0</td>\n",
       "      <td>H_-2_-2_0.509296.dat</td>\n",
       "      <td>-2.0</td>\n",
       "      <td>-2.0</td>\n",
       "      <td>0.509296</td>\n",
       "      <td>999</td>\n",
       "      <td>666</td>\n",
       "      <td>test</td>\n",
       "      <td>-0.141421</td>\n",
       "      <td>-0.138980</td>\n",
       "      <td>...</td>\n",
       "      <td>0.043375</td>\n",
       "      <td>0.067830</td>\n",
       "      <td>-0.009222</td>\n",
       "      <td>0.017385</td>\n",
       "      <td>-0.060524</td>\n",
       "      <td>-0.035502</td>\n",
       "      <td>-0.103326</td>\n",
       "      <td>-0.083403</td>\n",
       "      <td>-0.131616</td>\n",
       "      <td>-0.119589</td>\n",
       "    </tr>\n",
       "    <tr>\n",
       "      <th>7</th>\n",
       "      <td>0</td>\n",
       "      <td>H_-2_-2_0.509296.dat</td>\n",
       "      <td>-2.0</td>\n",
       "      <td>-2.0</td>\n",
       "      <td>0.509296</td>\n",
       "      <td>999</td>\n",
       "      <td>666</td>\n",
       "      <td>test</td>\n",
       "      <td>-0.000826</td>\n",
       "      <td>0.025688</td>\n",
       "      <td>...</td>\n",
       "      <td>0.134753</td>\n",
       "      <td>0.124324</td>\n",
       "      <td>0.141088</td>\n",
       "      <td>0.140407</td>\n",
       "      <td>0.127608</td>\n",
       "      <td>0.136771</td>\n",
       "      <td>0.096206</td>\n",
       "      <td>0.113925</td>\n",
       "      <td>0.051292</td>\n",
       "      <td>0.075079</td>\n",
       "    </tr>\n",
       "    <tr>\n",
       "      <th>8</th>\n",
       "      <td>0</td>\n",
       "      <td>H_-2_-2_0.509296.dat</td>\n",
       "      <td>-2.0</td>\n",
       "      <td>-2.0</td>\n",
       "      <td>0.509296</td>\n",
       "      <td>999</td>\n",
       "      <td>666</td>\n",
       "      <td>test</td>\n",
       "      <td>0.141417</td>\n",
       "      <td>0.136684</td>\n",
       "      <td>...</td>\n",
       "      <td>-0.115093</td>\n",
       "      <td>-0.131915</td>\n",
       "      <td>-0.061266</td>\n",
       "      <td>-0.091040</td>\n",
       "      <td>0.007717</td>\n",
       "      <td>-0.027643</td>\n",
       "      <td>0.074791</td>\n",
       "      <td>0.042592</td>\n",
       "      <td>0.123363</td>\n",
       "      <td>0.102291</td>\n",
       "    </tr>\n",
       "    <tr>\n",
       "      <th>9</th>\n",
       "      <td>0</td>\n",
       "      <td>H_-2_-2_0.509296.dat</td>\n",
       "      <td>-2.0</td>\n",
       "      <td>-2.0</td>\n",
       "      <td>0.509296</td>\n",
       "      <td>999</td>\n",
       "      <td>666</td>\n",
       "      <td>test</td>\n",
       "      <td>0.001302</td>\n",
       "      <td>0.036430</td>\n",
       "      <td>...</td>\n",
       "      <td>0.082068</td>\n",
       "      <td>0.050848</td>\n",
       "      <td>0.127402</td>\n",
       "      <td>0.108132</td>\n",
       "      <td>0.141218</td>\n",
       "      <td>0.138667</td>\n",
       "      <td>0.120099</td>\n",
       "      <td>0.134896</td>\n",
       "      <td>0.069268</td>\n",
       "      <td>0.097755</td>\n",
       "    </tr>\n",
       "  </tbody>\n",
       "</table>\n",
       "<p>10 rows × 108 columns</p>\n",
       "</div>"
      ],
      "text/plain": [
       "   id                  path   t1   t2   winding  phase  pred_phase type_of  \\\n",
       "0   0  H_-2_-2_0.509296.dat -2.0 -2.0  0.509296    999         666    test   \n",
       "1   0  H_-2_-2_0.509296.dat -2.0 -2.0  0.509296    999         666    test   \n",
       "2   0  H_-2_-2_0.509296.dat -2.0 -2.0  0.509296    999         666    test   \n",
       "3   0  H_-2_-2_0.509296.dat -2.0 -2.0  0.509296    999         666    test   \n",
       "4   0  H_-2_-2_0.509296.dat -2.0 -2.0  0.509296    999         666    test   \n",
       "5   0  H_-2_-2_0.509296.dat -2.0 -2.0  0.509296    999         666    test   \n",
       "6   0  H_-2_-2_0.509296.dat -2.0 -2.0  0.509296    999         666    test   \n",
       "7   0  H_-2_-2_0.509296.dat -2.0 -2.0  0.509296    999         666    test   \n",
       "8   0  H_-2_-2_0.509296.dat -2.0 -2.0  0.509296    999         666    test   \n",
       "9   0  H_-2_-2_0.509296.dat -2.0 -2.0  0.509296    999         666    test   \n",
       "\n",
       "      feat0     feat1  ...    feat90    feat91    feat92    feat93    feat94  \\\n",
       "0  0.100000  0.100000  ...  0.100000  0.100000  0.100000  0.100000  0.100000   \n",
       "1  0.141421  0.141142  ...  0.114412  0.108967  0.123928  0.119406  0.131490   \n",
       "2  0.141421  0.140306  ...  0.043702  0.026500  0.075777  0.060214  0.103092   \n",
       "3 -0.100000  0.100000  ... -0.100000  0.100000 -0.100000  0.100000 -0.100000   \n",
       "4  0.000509 -0.008372  ... -0.082713 -0.089753 -0.067684 -0.075347 -0.051587   \n",
       "5  0.001204 -0.016530  ... -0.134123 -0.138686 -0.118757 -0.127445 -0.095929   \n",
       "6 -0.141421 -0.138980  ...  0.043375  0.067830 -0.009222  0.017385 -0.060524   \n",
       "7 -0.000826  0.025688  ...  0.134753  0.124324  0.141088  0.140407  0.127608   \n",
       "8  0.141417  0.136684  ... -0.115093 -0.131915 -0.061266 -0.091040  0.007717   \n",
       "9  0.001302  0.036430  ...  0.082068  0.050848  0.127402  0.108132  0.141218   \n",
       "\n",
       "     feat95    feat96    feat97    feat98    feat99  \n",
       "0  0.100000  0.100000  0.100000  0.100000  0.100000  \n",
       "1  0.127962  0.136978  0.134500  0.140306  0.138916  \n",
       "2  0.090145  0.123928  0.114412  0.136978  0.131490  \n",
       "3  0.100000 -0.100000  0.100000 -0.100000  0.100000  \n",
       "4 -0.059753 -0.034677 -0.043217 -0.017220 -0.026000  \n",
       "5 -0.108196 -0.067073 -0.082149 -0.034003 -0.050940  \n",
       "6 -0.035502 -0.103326 -0.083403 -0.131616 -0.119589  \n",
       "7  0.136771  0.096206  0.113925  0.051292  0.075079  \n",
       "8 -0.027643  0.074791  0.042592  0.123363  0.102291  \n",
       "9  0.138667  0.120099  0.134896  0.069268  0.097755  \n",
       "\n",
       "[10 rows x 108 columns]"
      ]
     },
     "execution_count": 28,
     "metadata": {},
     "output_type": "execute_result"
    }
   ],
   "source": [
    "simulation.dataframe.head(10)"
   ]
  },
  {
   "cell_type": "markdown",
   "metadata": {
    "papermill": {
     "duration": 0.03695,
     "end_time": "2020-07-18T05:33:54.216644",
     "exception": false,
     "start_time": "2020-07-18T05:33:54.179694",
     "status": "completed"
    },
    "tags": []
   },
   "source": [
    "#### Viewing a random sample"
   ]
  },
  {
   "cell_type": "code",
   "execution_count": 29,
   "metadata": {
    "execution": {
     "iopub.execute_input": "2020-07-18T05:33:54.290590Z",
     "iopub.status.busy": "2020-07-18T05:33:54.290281Z",
     "iopub.status.idle": "2020-07-18T05:33:54.317617Z",
     "shell.execute_reply": "2020-07-18T05:33:54.317870Z"
    },
    "papermill": {
     "duration": 0.065036,
     "end_time": "2020-07-18T05:33:54.317938",
     "exception": false,
     "start_time": "2020-07-18T05:33:54.252902",
     "status": "completed"
    },
    "tags": []
   },
   "outputs": [
    {
     "name": "stdout",
     "output_type": "stream",
     "text": [
      "CPU times: user 17.4 ms, sys: 15 µs, total: 17.4 ms\n",
      "Wall time: 17.2 ms\n"
     ]
    }
   ],
   "source": [
    "%%time\n",
    "if simulation.fourier_mode is not None:\n",
    "    simulation.fourier_dataframe.sample(frac=0.1, replace=False)"
   ]
  },
  {
   "cell_type": "markdown",
   "metadata": {
    "papermill": {
     "duration": 0.036445,
     "end_time": "2020-07-18T05:33:54.391223",
     "exception": false,
     "start_time": "2020-07-18T05:33:54.354778",
     "status": "completed"
    },
    "tags": []
   },
   "source": [
    "#### Checking train/val/test splits again"
   ]
  },
  {
   "cell_type": "code",
   "execution_count": 30,
   "metadata": {
    "execution": {
     "iopub.execute_input": "2020-07-18T05:33:54.465441Z",
     "iopub.status.busy": "2020-07-18T05:33:54.465119Z",
     "iopub.status.idle": "2020-07-18T05:33:54.645577Z",
     "shell.execute_reply": "2020-07-18T05:33:54.645253Z"
    },
    "papermill": {
     "duration": 0.217812,
     "end_time": "2020-07-18T05:33:54.645630",
     "exception": false,
     "start_time": "2020-07-18T05:33:54.427818",
     "status": "completed"
    },
    "tags": []
   },
   "outputs": [
    {
     "name": "stdout",
     "output_type": "stream",
     "text": [
      "% train:  0.08474317939338516\n",
      "% val:  0.7620789513793629\n",
      "% test:  0.15317786922725193\n",
      "% train + val + test:  1.0\n",
      "\n",
      "\n",
      "number of train hamiltonians:  556\n",
      "number of val hamiltonians:  5000\n",
      "number of test hamiltonians:  1005\n",
      "total number of hamiltonians:  6561\n",
      "\n",
      "\n",
      "train ids:  [2195, 618, 5560, 6039, 5963, 5554, 3135, 3522, 3737, 1177, 6486, 3836, 2532, 5641, 2439, 1863, 6108, 3512, 235, 2658, 1187, 4219, 3905, 2991, 694, 3395, 787, 4273, 374, 3067, 2119, 5225, 601, 6291, 924, 1842, 3334, 5025, 539, 5075, 4726, 4336, 2266, 2191, 2139, 1594, 2427, 3685, 4117, 378, 4815, 4088, 3495, 6276, 142, 5833, 344, 684, 2368, 850, 1049, 550, 1795, 1698, 2549, 3106, 775, 753, 3169, 5286, 205, 792, 3516, 1735, 152, 5109, 540, 5591, 4147, 6091, 24, 3800, 725, 4580, 3566, 1622, 4710, 3676, 2812, 2610, 5268, 4635, 5045, 3401, 2921, 1287, 255, 603, 4305, 5561, 1650, 4850, 5715, 3538, 2587, 3697, 4587, 4005, 6304, 5260, 2996, 2938, 3908, 3747, 3492, 2345, 616, 1779, 1538, 2077, 137, 3874, 1922, 4209, 2730, 1927, 6194, 6186, 5214, 6135, 4910, 3171, 2147, 6278, 1827, 2650, 6449, 4627, 5156, 2340, 6092, 674, 6448, 914, 4833, 3791, 6026, 4413, 3273, 4476, 233, 5450, 5930, 933, 19, 1129, 932, 5115, 1766, 4221, 1790, 1847, 467, 1167, 3567, 4412, 2161, 1263, 5060, 6420, 5288, 2496, 2110, 5853, 5145, 4448, 4157, 1416, 2072, 17, 2208, 5437, 6076, 4474, 4524, 4808, 6415, 5835, 2959, 3195, 2853, 6453, 5606, 3095, 1273, 2744, 2019, 3732, 2711, 2305, 4645, 4687, 1347, 5516, 5147, 3788, 6256, 3179, 4500, 1266, 3684, 4249, 4974, 2936, 2347, 6085, 1586, 2989, 5258, 5695, 2093, 2955, 4991, 1931, 3486, 5445, 2985, 5103, 425, 4145, 968, 1353, 1277, 843, 389, 4398, 3018, 4466, 3787, 1456, 1872, 5647, 5849, 4611, 3439, 1632, 1438, 2383, 1930, 173, 2595, 1858, 3731, 952, 6029, 1853, 3746, 3090, 4011, 4793, 3940, 4071, 2533, 5786, 4114, 2518, 6323, 3075, 46, 972, 431, 6273, 2501, 1350, 1950, 2779, 3533, 4966, 1708, 5964, 2801, 5752, 2556, 3110, 909, 6249, 3548, 6038, 3603, 2954, 2323, 2916, 5859, 234, 2664, 780, 4165, 1465, 3231, 2471, 1429, 717, 3832, 4685, 1871, 1002, 4125, 4578, 5458, 3696, 2182, 995, 3430, 93, 5452, 2085, 3335, 3061, 1372, 5651, 2742, 4644, 2565, 2035, 3881, 1691, 2244, 930, 5301, 185, 2968, 2067, 631, 300, 6521, 2058, 2218, 2321, 1259, 1299, 5430, 5861, 3421, 6254, 5850, 918, 1962, 6342, 3436, 748, 4567, 4119, 1454, 4178, 1346, 1284, 104, 5453, 391, 840, 3878, 2175, 4468, 4853, 2403, 1124, 2673, 4625, 1956, 2734, 3166, 312, 3519, 4130, 3515, 2120, 3014, 766, 1566, 2783, 3214, 5539, 3167, 4574, 1820, 202, 2981, 1942, 4360, 4652, 1987, 2751, 2569, 5753, 1352, 3146, 755, 258, 1078, 5405, 3094, 4215, 1340, 4232, 2399, 3628, 143, 5063, 4535, 2689, 354, 1589, 2977, 747, 3865, 3606, 6508, 5136, 4338, 2866, 5144, 463, 4767, 4599, 5350, 1961, 2289, 2836, 5732, 6214, 2868, 4618, 3866, 2011, 2675, 3653, 4234, 4776, 2222, 4164, 3051, 4437, 352, 2506, 6255, 2814, 3666, 2784, 637, 5878, 358, 4778, 3234, 1711, 4683, 6055, 1862, 3896, 3101, 4743, 2838, 5671, 2963, 1288, 2703, 4386, 3295, 2848, 4877, 5442, 1988, 5937, 2071, 4579, 3340, 5400, 4454, 1500, 4289, 1046, 105, 1497, 3004, 1855, 610, 4651, 2626, 1710, 5062, 6192, 4992, 4714, 1417, 1459, 1653, 5928, 4979, 6413, 5020, 2604, 3776, 279, 1810, 1136, 3657, 1351, 3213, 4892, 360, 1796, 1667, 6032, 5123, 5884, 598, 1651, 1211, 4406, 4628, 1789, 63, 3245, 5218, 6115, 1891, 485, 3393, 6327, 3099, 2280, 2397, 2679, 5947, 4443, 466, 3478, 5778, 2830, 4824, 3557, 4067, 3078, 5379, 4781, 5712, 2197, 6349, 990, 5974, 2107, 2531, 4993, 2773, 3728, 1669, 2230]\n",
      "val ids:  [6098, 6493, 6387, 2697, 5588, 6022, 4741, 3528, 511, 5931, 6033, 3124, 3007, 1846, 4865, 3890, 5510, 2676, 3969, 4554, 5669, 5540, 5688, 1958, 2207, 3590, 6359, 1013, 3068, 6379, 2419, 429, 3472, 2683, 1090, 3143, 6271, 441, 6519, 3531, 4789, 1172, 3429, 2373, 1544, 3323, 5209, 5072, 4257, 3988, 3415, 5016, 387, 2873, 1935, 3139, 2687, 206, 6412, 5429, 2982, 452, 6515, 4868, 4287, 2319, 643, 6275, 2314, 6432, 2179, 5026, 3864, 1437, 1595, 421, 1431, 3073, 5785, 2509, 887, 5844, 5708, 6213, 3750, 150, 4967, 3133, 3176, 3991, 4825, 4765, 5077, 2084, 468, 419, 62, 6174, 283, 3345, 174, 670, 1690, 591, 6024, 1611, 3249, 2747, 3480, 1375, 3277, 5064, 232, 4046, 5486, 2619, 5455, 3158, 61, 5056, 5570, 1270, 5629, 4352, 3260, 4439, 6113, 705, 3983, 2718, 6446, 3056, 1008, 2998, 2401, 3081, 4159, 3544, 6295, 4550, 2700, 6218, 604, 4472, 1540, 2508, 2260, 2728, 1535, 3416, 3046, 4308, 1830, 2015, 3197, 6468, 6193, 5940, 6286, 4489, 2217, 3350, 5385, 4025, 5952, 5892, 5978, 2942, 6386, 2637, 76, 6353, 3777, 5067, 5101, 3970, 3219, 1729, 2227, 2113, 2447, 6533, 710, 4584, 5970, 5698, 1861, 6111, 2155, 1762, 848, 4955, 6283, 1262, 5610, 767, 3438, 1738, 434, 6279, 2274, 6042, 2029, 1523, 5358, 2440, 5129, 3551, 5477, 3445, 6142, 2877, 1024, 844, 627, 4118, 1685, 4132, 3863, 5526, 5152, 221, 724, 225, 664, 4339, 1972, 2607, 1549, 3261, 1407, 4779, 1161, 2680, 3412, 4189, 2662, 3706, 11, 2571, 2094, 5966, 6116, 2564, 2861, 4935, 852, 3484, 861, 5175, 4533, 586, 1926, 5977, 2965, 2668, 4994, 1237, 832, 1404, 5480, 6010, 6215, 4621, 622, 5032, 2992, 5434, 3228, 517, 1091, 4031, 2939, 5202, 1568, 6450, 4558, 6459, 108, 5390, 3535, 426, 3783, 5622, 6406, 2390, 6522, 1661, 2188, 2997, 1138, 704, 714, 6166, 2358, 3207, 3971, 3880, 1870, 6168, 3739, 1482, 2574, 5198, 2567, 3232, 6544, 2678, 2307, 526, 5013, 803, 2557, 6543, 4576, 2166, 507, 1744, 2681, 1355, 6442, 5533, 4867, 6380, 1445, 870, 6090, 971, 3671, 4290, 6185, 3175, 6467, 868, 1414, 2099, 3964, 769, 2846, 2282, 4041, 5860, 3343, 965, 4869, 4834, 311, 6536, 4727, 4384, 5068, 4464, 708, 3346, 2563, 544, 2408, 5559, 5381, 35, 3547, 3859, 323, 5478, 5547, 1079, 1244, 3611, 3931, 2410, 4397, 2826, 1583, 2753, 1567, 2234, 834, 3303, 4804, 4356, 4890, 5363, 4391, 4694, 1196, 3686, 3152, 6096, 5810, 1328, 2484, 2027, 388, 3494, 3749, 1170, 4928, 6285, 4780, 3107, 5487, 1240, 1993, 3929, 6270, 4122, 6251, 2631, 4770, 6302, 1400, 476, 4106, 2200, 5079, 1619, 5879, 5426, 4375, 5384, 1878, 1980, 1272, 4401, 1243, 4341, 679, 2710, 3704, 702, 1749, 4281, 2928, 45, 3591, 2339, 2073, 6440, 2663, 4068, 5696, 3347, 1564, 1492, 4990, 3365, 6084, 6287, 2030, 2444, 3638, 4066, 3763, 548, 2481, 4531, 3038, 6189, 3652, 589, 6542, 1813, 532, 102, 4058, 5645, 5883, 620, 2324, 4206, 4105, 1945, 1274, 2360, 3951, 3923, 3229, 3192, 2919, 5528, 2715, 4313, 5967, 3308, 1664, 4188, 3797, 2510, 1671, 1339, 3634, 858, 5473, 3757, 3541, 4124, 4861, 5232, 3454, 5236, 6414, 4326, 1757, 3521, 2502, 5558, 2490, 5730, 3580, 1924, 385, 2271, 3031, 1672, 1014, 3389, 1917, 2343, 3499, 1453, 4742, 5644, 3326, 2974, 1076, 196, 4043, 774, 3037, 127, 5188, 1374, 1238, 2872, 48, 1189, 483, 1510, 947, 4231, 263, 5532, 2927, 4725, 3649, 1271, 3084, 5969, 18, 3975, 6356, 4792, 3650, 5259, 404, 4460, 2203, 2993, 4831, 5790, 2724, 1742, 3959, 1829, 1128, 4162, 3627, 4810, 5216, 1381, 5617, 5625, 1197, 3426, 72, 3058, 3782, 337, 5161, 1745, 3885, 564, 1854, 4053, 3930, 3950, 2785, 963, 57, 3310, 6103, 4279, 2902, 4199, 5757, 6131, 1864, 859, 668, 4315, 1042, 4499, 5949, 3044, 4692, 5914, 2590, 1756, 2983, 5099, 5428, 4238, 3802, 3459, 2701, 5593, 1584, 520, 5292, 1764, 2174, 3050, 2837, 3353, 2635, 3344, 891, 1670, 3217, 3202, 4985, 1260, 1209, 3534, 1012, 4978, 4870, 3507, 1176, 2060, 727, 1686, 726, 1278, 2272, 5716, 4447, 3028, 4818, 682, 1507, 6439, 2817, 3960, 4298, 3455, 709, 3443, 6538, 2452, 1044, 2144, 2268, 3715, 805, 2145, 2190, 3981, 596, 4411, 3941, 2264, 4704, 688, 3064, 6049, 5765, 4983, 4775, 1185, 3290, 3088, 4217, 4173, 4716, 1529, 1825, 4523, 3114, 4929, 2667, 1368, 5221, 6460, 3919, 606, 935, 2007, 1033, 2348, 396, 1342, 2906, 3778, 2325, 1301, 453, 315, 593, 911, 6274, 3569, 1695, 1543, 4083, 3656, 3165, 5273, 6495, 4937, 3564, 3982, 3168, 1411, 715, 5185, 4660, 3721, 3021, 5102, 5377, 6339, 1533, 2813, 5071, 4467, 3417, 4981, 44, 342, 5877, 689, 3924, 1997, 1758, 2469, 6330, 5596, 5799, 3698, 3532, 3637, 533, 3129, 6175, 4963, 2136, 3826, 1630, 4222, 3071, 1746, 5847, 94, 6464, 2984, 2600, 5206, 4303, 1984, 5797, 1772, 4908, 5208, 3424, 2579, 4980, 1910, 4369, 3211, 2468, 2929, 5462, 121, 6490, 4133, 68, 5393, 3818, 43, 3054, 3911, 6430, 1268, 3636, 1770, 587, 4548, 5389, 2528, 4517, 30, 949, 5564, 1163, 1405, 597, 2424, 4613, 2670, 136, 5014, 2226, 557, 1489, 4768, 2491, 443, 669, 4197, 6499, 2746, 3291, 2405, 3322, 3995, 839, 462, 1585, 954, 3869, 1732, 2432, 5800, 6222, 2990, 4030, 4208, 4949, 2028, 5803, 624, 6435, 3996, 2647, 433, 1080, 3062, 5215, 5509, 885, 4332, 3312, 2386, 5686, 390, 2752, 6015, 4690, 1662, 3017, 5703, 2884, 1017, 3255, 1631, 1419, 458, 2267, 2209, 2641, 3895, 3518, 1575, 955, 4968, 3437, 5276, 6132, 3238, 2643, 3053, 111, 350, 2499, 3912, 23, 2186, 145, 3222, 2620, 5472, 5107, 3976, 4851, 5935, 4143, 1249, 3949, 5207, 4709, 3181, 6089, 3811, 3714, 2648, 351, 3828, 4913, 3469, 228, 2795, 5113, 5604, 5467, 5683, 3894, 3927, 3607, 693, 2122, 5636, 1689, 3185, 3156, 2229, 278, 357, 15, 3138, 4172, 6021, 110, 3446, 2116, 673, 4316, 427, 3263, 4732, 6172, 226, 5159, 2172, 5618, 3985, 1415, 2756, 2630, 5311, 2388, 5196, 6200, 1506, 6130, 2829, 2286, 5808, 4377, 619, 5925, 484, 921, 4545, 2180, 1826, 927, 64, 6040, 5713, 502, 1728, 3400, 3907, 5955, 4394, 291, 1692, 6372, 286, 180, 1455, 186, 5275, 707, 699, 3838, 3552, 5271, 5994, 4420, 2653, 4642, 2889, 4318, 3215, 6012, 1295, 6216, 6447, 2245, 3122, 2907, 3707, 256, 3871, 3808, 4155, 2575, 5587, 1660, 4875, 2332, 21, 5855, 2020, 1791, 5806, 2288, 2633, 5535, 1286, 6526, 2433, 237, 1333, 5612, 5435, 1019, 2054, 777, 6551, 4451, 5722, 1179, 6210, 2737, 14, 3210, 6057, 4905, 2083, 1487, 175, 4688, 1089, 6195, 3201, 5776, 6489, 2585, 3683, 2824, 1508, 2451, 2366, 5074, 3246, 59, 272, 5529, 2364, 4769, 6266, 4986, 3672, 6007, 2507, 1786, 762, 4632, 5701, 5241, 4696, 2429, 5454, 2736, 5370, 5229, 3468, 556, 3539, 4746, 3199, 2827, 182, 6259, 836, 4630, 2892, 1797, 1180, 4203, 276, 2634, 3449, 1675, 1852, 4656, 5378, 5886, 456, 1102, 3241, 2248, 1345, 916, 3315, 2194, 3536, 5597, 4893, 5392, 5770, 2638, 5871, 3306, 5355, 3789, 5197, 6267, 547, 4200, 2371, 99, 5155, 5205, 3768, 5230, 1182, 1597, 5285, 3300, 1219, 5781, 2808, 4887, 4797, 2017, 5388, 6030, 6524, 3790, 3510, 3482, 4911, 5130, 5243, 594, 6436, 1192, 3487, 2732, 5116, 4216, 3821, 1016, 2749, 60, 5308, 2988, 3024, 2597, 403, 156, 1911, 1206, 340, 5318, 4820, 761, 644, 4214, 4421, 4171, 5926, 1285, 4482, 5312, 113, 758, 1293, 5376, 3170, 3733, 1410, 3379, 3027, 1532, 4374, 4954, 2780, 6041, 4848, 1481, 5972, 4376, 6053, 615, 1085, 2691, 5619, 2709, 50, 1904, 4845, 4546, 6296, 1365, 3189, 375, 5124, 3464, 4478, 2168, 6445, 5864, 5506, 1256, 5033, 3824, 368, 5527, 2805, 4193, 98, 4126, 3605, 690, 3123, 3779, 2256, 6437, 3643, 1433, 4943, 3418, 5010, 3319, 525, 4938, 1343, 3020, 3958, 5036, 841, 2381, 3385, 5957, 4202, 783, 6290, 4295, 2596, 2369, 5317, 2995, 3695, 2024, 4551, 4982, 2514, 6086, 3593, 4787, 3899, 4380, 4442, 749, 438, 585, 611, 3265, 298, 4942, 4626, 3015, 4912, 5796, 2126, 215, 3844, 3127, 1645, 2652, 1751, 5372, 207, 4456, 3358, 6539, 2651, 77, 4786, 2580, 3850, 1550, 1205, 3862, 126, 3111, 6277, 3092, 2283, 356, 1627, 432, 2313, 934, 2797, 3792, 1703, 3842, 4605, 6140, 2389, 760, 1242, 2849, 3623, 1004, 1783, 4764, 304, 5157, 439, 455, 4323, 4213, 5051, 5642, 5953, 1537, 1982, 4269, 5524, 3711, 359, 2478, 759, 3066, 5340, 2101, 2601, 3631, 2524, 5763, 1043, 1467, 1460, 1380, 5481, 4615, 6173, 1074, 3505, 440, 5324, 5398, 2739, 6434, 5303, 3892, 4946, 2613, 5035, 6303, 2930, 2249, 632, 676, 2722, 4328, 546, 3184, 2057, 6036, 2905, 5562, 3734, 4230, 5118, 213, 5697, 3422, 3584, 3377, 3823, 1425, 2818, 3203, 4933, 1116, 4195, 5784, 2761, 4115, 6054, 4074, 2176, 6288, 3849, 6545, 6094, 2336, 4470, 5365, 4665, 184, 1701, 5895, 3307, 599, 5078, 3399, 2482, 3833, 2969, 3540, 4663, 3553, 447, 3333, 1463, 1323, 1517, 193, 6433, 1327, 3841, 1913, 3848, 2978, 2903, 4898, 5319, 5104, 4619, 3352, 4502, 2063, 4337, 5769, 4109, 2671, 3770, 4065, 1025, 20, 5366, 1289, 6187, 4138, 4309, 269, 1673, 847, 2628, 4826, 6127, 5399, 1715, 316, 3705, 4372, 6289, 5022, 5098, 4050, 5347, 2862, 6500, 4373, 1525, 4536, 4661, 1706, 1658, 873, 4475, 5219, 5456, 5042, 3576, 2178, 2495, 5127, 5628, 4198, 4082, 3560, 1175, 2277, 3236, 691, 4330, 3875, 73, 338, 5536, 3805, 6384, 2757, 1135, 3571, 6407, 4521, 6134, 994, 3450, 2614, 4052, 4422, 1241, 2367, 2603, 5634, 1755, 590, 2270, 3457, 1399, 66, 3355, 5178, 5316, 3351, 1614, 2411, 472, 3359, 3745, 3361, 4385, 4735, 5050, 6336, 6059, 2529, 1954, 4436, 5362, 505, 1133, 51, 4733, 5869, 435, 828, 3262, 4777, 1035, 2235, 5956, 2037, 5158, 4829, 2108, 3678, 355, 1898, 4140, 6137, 3083, 6167, 47, 4076, 4699, 6224, 5891, 303, 6324, 365, 4914, 2592, 6549, 3759, 2863, 3077, 1056, 3072, 2428, 1895, 1104, 6171, 5220, 5943, 4310, 4629, 3922, 5534, 2558, 6212, 5915, 2727, 6112, 3939, 1977, 4487, 1860, 4608, 3804, 5563, 5783, 2591, 5631, 1207, 4988, 5323, 6139, 5650, 3738, 523, 1072, 913, 5880, 4151, 4418, 6177, 855, 788, 5183, 1436, 4915, 3414, 1095, 4396, 1657, 3141, 4650, 5189, 2059, 2729, 2224, 5616, 2615, 3934, 5228, 583, 6535, 1592, 1047, 2515, 3274, 346, 1105, 4562, 5975, 2156, 1776, 6354, 4194, 876, 1112, 2599, 5804, 4087, 1269, 5929, 4331, 6345, 3688, 3102, 3812, 2602, 4771, 1877, 1781, 1973, 2823, 4051, 1384, 2012, 2976, 6263, 4274, 3223, 1267, 2793, 2445, 3042, 2632, 2308, 2238, 3302, 2302, 2417, 5646, 4520, 2303, 2581, 5609, 1325, 3235, 552, 2972, 1461, 5438, 3220, 1055, 282, 3026, 2520, 2018, 521, 1010, 942, 1423, 695, 5461, 3845, 6016, 2010, 4941, 3761, 9, 779, 3435, 3752, 2966, 2357, 5066, 2088, 3180, 2031, 257, 2252, 5374, 3196, 2333, 711, 3397, 5751, 5483, 3398, 2759, 6244, 2221, 1836, 4503, 3961, 3173, 3282, 1939, 1195, 4042, 3837, 1426, 3451, 4175, 6027, 2825, 4085, 4936, 5996, 3973, 4226, 6047, 4495, 5373, 1166, 2087, 4854, 3320, 471, 4871, 1678, 3906, 6221, 230, 5897, 5514, 1334, 3498, 5482, 1707, 833, 3383, 2255, 119, 172, 1483, 4549, 4276, 675, 692, 529, 600, 3754, 4054, 2522, 4388, 2583, 2165, 2193, 2448, 1598, 2616, 6488, 1215, 6373, 5444, 2225, 4077, 2782, 2475, 2821, 3205, 2242, 3250, 2284, 2407, 3886, 629, 3297, 5676, 1815, 5186, 4107, 2855, 3646, 3744, 6404, 827, 5522, 6124, 1261, 5793, 2572, 5731, 4693, 512, 3137, 1190, 1294, 875, 4572, 1264, 2958, 2768, 4807, 4506, 6424, 6504, 5592, 5394, 4659, 5543, 1646, 1753, 5180, 264, 4110, 189, 6530, 383, 5946, 6035, 2912, 5780, 3266, 1687, 4555, 4784, 1613, 3550, 2316, 1213, 2124, 4951, 6199, 2594, 4362, 4575, 4177, 3086, 536, 5133, 3230, 4299, 3043, 4048, 6532, 1005, 5367, 4666, 1300, 3460, 1127, 2239, 5569, 5893, 3373, 348, 5227, 1793, 3209, 6547, 1117, 371, 1257, 6425, 804, 339, 2949, 3074, 2467, 364, 794, 3332, 2149, 3978, 6013, 1890, 1239, 1048, 4006, 4243, 4658, 2317, 4285, 4681, 2016, 745, 6514, 6423, 6262, 1357, 70, 2809, 4700, 1655, 937, 1097, 2413, 177, 4637, 2961, 3154, 5425, 3427, 970, 5475, 4932, 5714, 2434, 4828, 4129, 5021, 4116, 5523, 2738, 397, 2646, 6529, 2946, 1443, 3150, 1699, 3392, 920, 3292, 5391, 4564, 5386, 2164, 2699, 4962, 4212, 6077, 288, 6381, 4415, 1867, 1099, 3617, 3387, 3877, 3891, 5141, 5125, 2412, 2854, 1733, 831, 1449, 41, 5927, 5961, 71, 1784, 4092, 6169, 5674, 5567, 366, 1409, 837, 3016, 4684, 2771, 2326, 4288, 1704, 2162, 5811, 198, 919, 6441, 1649, 2767, 3604, 5346, 645, 1918, 5995, 3793, 3883, 6298, 3403, 2544, 2438, 5626, 6095, 3524, 4855, 3786, 4458, 1674, 3285, 4729, 3325, 3149, 2476, 4724, 3394, 56, 6280, 4529, 3921, 2986, 3517, 1901, 5858, 5344, 3781, 430, 2876, 3384, 2970, 4312, 5148, 1511, 5843, 3080, 6248, 4972, 3023, 5944, 751, 696, 5791, 5923, 5342, 5146, 542, 4803, 3549, 1490, 5566, 3743, 2639, 3602, 5725, 3674, 2875, 5028, 179, 1663, 3227, 1452, 2686, 3264, 2472, 5371, 5971, 912, 2395, 1023, 4094, 5395, 2882, 3556, 317, 4342, 5272, 26, 2561, 936, 5128, 1548, 6128, 2551, 5479, 2013, 5917, 1941, 3803, 384, 2090, 2546, 6456, 3425, 1774, 4023, 671, 4176, 4024, 943, 5299, 925, 4504, 3835, 3396, 2159, 545, 3371, 1321, 2948, 969, 3843, 2310, 4956, 5018, 3909, 5542, 4930, 3488, 5710, 1007, 2479, 5306, 135, 2404, 100, 877, 5812, 2562, 5309, 3642, 1541, 3992, 4366, 347, 915, 6176, 623, 442, 1034, 3287, 4128, 4607, 2578, 2474, 531, 677, 1892, 1994, 3404, 5265, 3972, 2835, 5261, 6452, 2909, 5594, 3914, 3047, 3413, 236, 1435, 1026, 229, 4577, 6531, 4958, 4393, 1518, 2423, 2097, 1191, 1705, 3879, 2766, 1995, 1512, 3712, 1003, 2331, 2100, 2669, 3822, 1183, 6326, 698, 5670, 5380, 565, 2953, 584, 2158, 4097, 6368, 1100, 2382, 4179, 3974, 3408, 1009, 2300, 382, 3581, 34, 2406, 2082, 1684, 5595, 4888, 6196, 349, 4353, 5733, 6444, 3174, 6031, 3573, 450, 6051, 2304, 5518, 1282, 3011, 4056, 5291, 4573, 460, 4253, 5048, 4622, 3356, 1524, 284, 5382, 1290, 3186, 4343, 1458, 1322, 2454, 4351, 2777, 2535, 4553, 3898, 2806, 4235, 6455, 4766, 5448, 1588, 3655, 2121, 3641, 6431, 4009, 1868, 3328, 5284, 4909, 957, 3070, 2044, 6408, 1665, 4108, 5114, 6269, 3327, 549, 2763, 4301, 666, 1943, 5754, 4368, 4379, 6050, 1629, 4453, 3740, 3962, 2975, 2309, 5154, 4169, 5857, 3272, 5177, 2897, 6421, 1857, 2770, 1298, 865, 1596, 2735, 1565, 3142, 1569, 3626, 681, 1983, 1848, 3253, 3902, 2456, 3589, 1430, 4749, 4819, 6335, 5635, 1934, 5160, 2850, 4090, 6537, 948, 2570, 3190, 1126, 763, 4378, 3537, 4646, 2519, 4156, 5973, 101, 5108, 1362, 3183, 940, 67, 846, 5137, 4037, 3409, 2796, 6458, 3032, 2115, 4541, 4822, 4544, 3283, 6334, 4617, 115, 219, 3212, 3378, 465, 1324, 473, 4537, 5184, 3233, 1427, 3644, 4783, 4146, 776, 1505, 5630, 2422, 4653, 3503, 773, 2261, 3402, 4701, 1088, 2021, 3709, 1955, 3193, 4858, 5304, 5151, 3851, 2852, 151, 663, 5881, 1027, 297, 941, 1727, 3100, 38, 872, 69, 4543, 3943, 1581, 2944, 2904, 2833, 4416, 1818, 4964, 2061, 2657, 2964, 1158, 2236, 106, 807, 2609, 204, 5872, 4715, 307, 997, 6294, 3481, 367, 380, 2798, 2605, 5887, 1612, 2962, 4847, 6043, 123, 464, 2183, 5397, 4823, 518, 2733, 2775, 4738, 5852, 3993, 1832, 4670, 1503, 5345, 97, 3428, 3380, 1875, 3610, 1296, 4774, 4282, 3599, 4945, 1603, 1617, 3060, 2337, 1451, 5057, 451, 1516, 3182, 1647, 5019, 5798, 613, 2483, 4280, 5873, 5210, 418, 4256, 6156, 6494, 3019, 3889, 6419, 4581, 5876, 1045, 4647, 4389, 301, 3801, 6457, 3601, 1936, 1696, 4944, 6409, 4785, 2237, 2306, 3667, 3928, 728, 1604, 3254, 3819, 370, 4662, 4093, 6197, 2112, 928, 6329, 5945, 5717, 4252, 1628, 514, 6540, 6511, 3321, 2559, 1536, 3882, 2791, 3830, 1572, 3966, 1363, 4620, 6179, 2196, 862, 3119, 3489, 1940, 120, 132, 4583, 6369, 1054, 1775, 716, 791, 2233, 1038, 5888, 4565, 5709, 2365, 3126, 2834, 3876, 1737, 2246, 2900, 6163, 4370, 3339, 1693, 2994, 3105, 2712, 1006, 923, 2096, 2725, 3448, 513, 5387, 2755, 1688, 1974, 4752, 5608, 1292, 5959, 5623, 1981, 3660, 214, 2243, 1902, 3798, 4149, 3076, 1894, 3810, 1022, 4891, 3338, 5396, 3493, 5568, 1743, 1787, 4817, 6403, 1623, 2241, 5181, 1114, 4284, 3918, 723, 522, 6367, 5053, 4497, 1377, 3341, 1819, 3237, 667, 309, 3944, 5965, 3441, 2470, 6348, 1052, 6237, 3926, 6104, 2545, 4556, 6355, 6438, 5633, 181, 3794, 3945, 1028, 5951, 2355, 3687, 4457, 2878, 2794, 4404, 3364, 6211, 1086, 2189, 3965, 595, 1450, 5815, 6119, 3286, 2915, 6025, 4827, 1808, 3104, 538, 5515, 5240, 3816, 5721, 4414, 1624, 3956, 2415, 5882, 2446, 5305, 6513, 2714, 2140, 5677, 436, 2956, 3809, 4168, 3827, 1837, 3796, 5553, 509, 5832, 790, 4225, 883, 2980, 4638, 713, 5723, 2879, 1903, 1401, 2034, 2125, 1329, 3545, 5431, 2698, 1593, 864, 3244, 1736, 2655, 308, 4873, 4070, 1087, 2350, 2361, 554, 6509, 2494, 5773, 6469, 1782, 5134, 4623, 5863, 3289, 967, 6208, 4452, 4003, 2123, 3665, 6427, 4782, 5511, 2913, 3317, 3594, 3764, 2764, 6362, 5034, 3587, 4153, 262, 128, 5544, 4044, 3177, 524, 4251, 1373, 4885, 2891, 2881, 5705, 4040, 4062, 1626, 2335, 6114, 5322, 3595, 2409, 3108, 2920, 2232, 6366, 4897, 1576, 4728, 3121, 3172, 6204, 6157, 6429, 5866, 6466, 4022, 4229, 5979, 2455, 3559, 3096, 4830, 869, 4204, 1096, 4163, 5851, 2525, 2573, 4196, 5672, 3679, 5451, 4525, 5226, 3668, 3447, 6223, 2582, 6332, 2523, 3585, 5782, 5507, 3681, 4995, 4016, 4698, 376, 1378, 260, 4534, 1442, 3048, 4604, 3496, 5724, 3349, 302, 5349, 946, 6182, 4965, 6191, 2804, 5711, 1131, 5692, 1335, 4405, 2384, 636, 6009, 5231, 786, 2672, 4609, 6034, 4311, 4314, 2111, 5094, 5357, 2177, 4035, 2279, 6247, 1496, 5687, 2023, 553, 1349, 3994, 3723, 3419, 5962, 1648, 3640, 2883, 2138, 1712, 888, 5341, 1366, 3612, 1900, 5476, 1485, 1700, 5460, 1907, 6510, 765, 4296, 3625, 5427, 926, 1428, 2513, 2656, 2500, 1001, 3475, 5706, 4329, 2908, 4120, 4695, 2950, 4026, 3583, 789, 1073, 6184, 4069, 3618, 3301, 5638, 3933, 1181, 3692, 6110, 4987, 2606, 2322, 5097, 4034, 2661, 772, 2394, 5894, 209, 5814, 3659, 3530, 6118, 5237, 6121, 2576, 6358, 6483, 4863, 6005, 5845, 2894, 1933, 3452, 4383, 6299, 1383, 5459, 1946, 845, 1928, 2584, 1468, 176, 1020, 6109, 2285, 3063, 1844, 5934, 4089, 3903, 3059, 6462, 2356, 2398, 2617, 454, 4218, 183, 74, 3470, 5693, 1752, 3304, 3645, 53, 6018, 190, 3663, 2135, 6496, 3904, 2353, 778, 1605, 4112, 1053, 3741, 4731, 797, 687, 6383, 3702, 1579, 4141, 92, 1448, 2486, 931, 3523, 1606, 5270, 4424, 2886, 2146, 4790, 5948, 4450, 2449, 2393, 3955, 5457, 469, 4796, 3963, 4538, 4883, 2341, 2918, 1542, 5449, 6165, 5257, 6206, 457, 2527, 3376, 4886, 1498, 3442, 3284, 2832, 5263, 4137, 4903, 149, 2170, 4713, 6363, 437, 1504, 2206, 2311, 3701, 5096, 4527, 5446, 793, 5505, 1602, 2922, 6498, 3986, 1155, 1258, 3163, 1015, 4463, 5508, 445, 2354, 2102, 2257, 6516, 1769, 4409, 222, 1767, 5639, 4900, 706, 2696, 5470, 973, 2526, 2612, 4186, 3554, 602, 1254, 1412, 2106, 3831, 2642, 2330, 2693, 3000, 2201, 4772, 530, 157, 3256, 2754, 5691, 3703, 3079, 5302, 4104, 2713, 4272, 4410, 2745, 5834, 1247, 2263, 1137, 3434, 5194, 3815, 3296, 4469, 2888, 5278, 4601, 5239, 4773, 6485, 4201, 2702, 1580, 2967, 5958, 3755, 938, 2979, 3577, 3467, 428, 2425, 2621, 3405, 2265, 2847, 5605, 281, 4286, 1332, 3588, 2026, 112, 1545, 2152, 459, 2151, 2841, 2568, 5463, 4227, 4434, 3089, 2118, 5779, 3276, 3128, 211, 2552, 621, 1122, 5307, 6260, 3979, 4516, 6056, 5043, 1251, 1823, 2039, 4455, 1204, 2716, 4849, 1682, 1618, 2874, 2973, 1697, 3615, 4483, 2103, 5916, 1302, 953, 5044, 3780, 701, 5356, 607, 1220, 6492, 6100, 2924, 4547, 2022, 3025, 5423, 5794, 1159, 4255, 3857, 6006, 4063, 107, 5950, 770, 3630, 3558, 2845, 5375, 4498, 2987, 2726, 2038, 1367, 1527, 2346, 4306, 261, 199, 6422, 5224, 6328, 3861, 1923, 5684, 3980, 2554, 5217, 6019, 1364, 392, 6265, 4271, 4948, 5135, 118, 614, 6060, 4737, 2931, 2421, 2150, 2148, 6122, 6120, 3006, 6087, 1833, 2778, 630, 4333, 178, 2258, 5061, 3716, 4012, 2185, 4228, 3799, 5047, 2068, 4748, 3765, 1037, 1731, 608, 3103, 2538, 4364, 2273, 5321, 1075, 2157, 4493, 4073, 2925, 1291, 563, 5836, 6454, 2463, 3085, 5233, 4568, 2864, 254, 3008, 528, 1160, 5191, 4894, 3718, 2999, 3257, 5150, 4703, 1248, 3508, 1130, 4223, 5049, 3386, 2281, 5343, 1851, 4144, 3363, 1162, 4634, 1654, 2521, 39, 4697, 3917, 5212, 4708, 1577, 1382, 1330, 6306, 4889, 1747, 5704, 4207, 5755, 3490, 1502, 1951, 5320, 2860, 6102, 3010, 3159, 5615, 2141, 227, 2828, 5874, 3466, 1960, 2887, 5789, 2329, 2750, 752, 2719, 1101, 3374, 3565, 628, 4465, 4953, 4241, 3997, 853, 2259, 259, 277, 4304, 3574, 1938, 5052, 4973, 1236, 3112, 1985, 1573, 5648, 3813, 6190, 2220, 2391, 5545, 139, 2822, 3633, 6517, 188, 2315, 1326, 5854, 1866, 1909, 1838, 1959, 2205, 2167, 2717, 1856, 5924, 1714, 2254, 4492, 6181, 117, 6405, 5433, 1320, 5289, 6378, 4664, 6261, 3471, 220, 1408, 4134, 2694, 5348, 3118, 3316, 6209, 5287, 4367, 5179, 6416, 4095, 835, 5046, 1255, 6253, 3003, 2627, 3473, 5537, 6344, 2089, 6351, 5997, 3293, 1534, 203, 3700, 3632, 4707, 1184, 2802, 4449, 1331, 191, 4552, 6365, 4278, 6528, 1574, 2253, 6014, 2231, 6282, 5675, 1115, 5235, 6338, 1168, 4057, 4812, 771, 5729, 5105, 5024, 582, 31, 2772, 6325, 5011, 394, 2202, 1777, 1835, 1113, 993, 5756, 6207, 4334, 806, 6343, 5406, 6088, 4446, 3035, 273, 5267, 712, 1865, 75, 5939, 2104, 4059, 3479, 4996, 4734, 4371, 6107, 4895, 1156, 386, 4327, 4969, 4355, 1609, 3281, 2493, 6350, 5095, 4363, 369, 461, 373, 5469, 3916, 3188, 2385, 362, 146, 306, 22, 5466, 2437, 5875, 2485, 4154, 2465, 2548, 25, 2740, 2441, 6129, 5266, 3368, 4078, 2342, 4142, 1422, 3420, 1420, 2171, 1809, 2721, 5436, 2844, 6505, 5848, 5531, 5012, 3948, 1082, 4084, 1092, 764, 1834, 4705, 2511, 2040, 1036, 4856, 1031, 6361, 5296, 4135, 4934, 5774, 6125, 477, 3742, 200, 4010, 422, 3259, 785, 2792, 5941, 1944, 5055, 2971, 6333, 4283, 5132, 5775, 2659, 6045, 3946, 2184, 5176, 2086, 5315, 1403, 5290, 4220, 5238, 1821, 1765, 3013, 1778, 6037, 5768, 6136, 3722, 3161, 1486, 1726, 5513, 5269, 1418, 2941, 2856, 3248, 2497, 3616, 4392, 129, 6003, 6101, 5110, 4382, 36, 6272, 4542, 1337, 1869, 4874, 4882, 5938, 998, 1218, 3873, 5030, 2453, 2142, 4161, 2005, 683, 3275, 1845, 6491, 5143, 922, 1616, 5368, 1132, 4244, 5689, 1501, 3888, 1083, 1908, 2431, 516, 3990, 5234, 4744, 5190, 3613, 5718, 2505, 3506, 3132, 4403, 361, 1098, 2695, 1402, 1788, 5932, 6052, 2708, 3730, 140, 154, 6044, 6525, 4300, 4501, 4435, 2250, 4526, 2312, 1424, 3432, 625, 1814, 4292, 4438, 2645, 3465, 6205, 3900, 1734, 6502, 2344, 991, 4682, 1817, 4425, 635, 4210, 2223, 379, 5023, 1385, 52, 5126, 6141, 3204, 6093, 3268, 2831, 336, 2328, 5017, 4408, 6428, 1531, 2372, 6417, 294, 2940, 2056, 5069, 3348, 4060, 147, 1822, 2859, 1953, 703, 1198, 2893, 4307, 4763, 3194, 148, 5353, 1173, 3206, 5403, 2498, 2154, 3144, 6374, 1093, 2898, 266, 1202, 4250, 363, 781, 5707, 5242, 4860, 950, 6008, 4813, 3354, 2287, 1812, 4029, 4947, 3431, 5298, 2901, 5552, 3932, 3485, 1029, 3817, 3953, 3513, 3708, 4606, 6331, 4795, 5100, 2114, 1949, 3029, 3546, 3491, 424, 5093, 756, 5837, 951, 4940, 5942, 2598, 2402, 474, 3561, 2555, 3477, 541, 3318, 201, 4260, 5187, 2731, 4462, 5294, 2932, 5504, 4736, 1780, 6357, 1447, 4952, 4294, 999, 2503, 6258, 2588, 1948, 4821, 4111, 2387, 2758, 2867, 1702, 4669, 6293, 501, 2896, 2649, 2530, 1768, 1528, 5607, 1914, 4038, 2512, 3022, 2885, 3225, 4906, 4505, 5471, 1932, 4036, 4878, 2611, 6297, 16, 4049, 5222, 4015, 3247, 1896, 2487, 3673, 857, 4846, 2790, 2187, 2251, 3329, 3846, 2553, 3619, 4136, 4361, 3624, 1000, 2935, 2945, 4152, 3502, 4079, 519, 3504, 5771, 3762, 4648, 6497, 3785, 4027, 871, 5640, 1118, 4407, 343, 3579, 5649, 1050, 5195, 4899, 1794, 3682, 5557, 2370, 1849, 617, 3278, 4390, 1947, 5673, 1620, 6346, 2811, 4211, 3820, 4616, 1032, 566, 3870, 4121, 3884, 588, 757, 4624, 1897, 4047, 6126, 1303, 2076, 2807, 4712, 555, 1905, 795, 4691, 1246, 1992, 5111, 6046, 4277, 2665, 2109, 295, 2550, 3369, 124, 4939, 2363, 6337, 4471, 2917, 515, 4739, 4081, 4866, 2677, 3596, 1677, 1522, 2169, 1171, 4490, 4751, 3012, 3999, 5153, 3057, 1370, 5142, 4586, 910, 2466, 1406, 2654, 65, 4832, 4247, 4461, 634, 3913, 1021, 1283, 3453, 4907, 2338, 4631, 3529, 3151, 4791, 2895, 3091, 3216, 5117, 3367, 3570, 4246, 1850, 6385, 2781, 1530, 4569, 1494, 6017, 2418, 4610, 395, 4187, 1123, 3795, 313, 4381, 5550, 3829, 4957, 305, 4686, 3298, 345, 2943, 6011, 5700, 1011, 6117, 2033, 5037, 55, 5637, 5192, 5787, 3887, 1754, 144, 2351, 1989, 3164, 1740, 1194, 6461, 2065, 2435, 2636, 4689, 1094, 267, 1683, 1457, 6243, 5954, 4033, 3713, 3872, 5029, 6250, 4239, 1018, 2173, 4354, 2392, 5525, 187, 5611, 6443, 2937, 1493, 6020, 1356, 49, 3410, 6284, 287, 3525, 4254, 1154, 6375, 4798, 3045, 5809, 534, 3342, 3942, 299, 3720, 1976, 3858, 1563, 5551, 4563, 3407, 4566, 40, 2450, 3093, 4072, 6506, 3957, 633, 3514, 5059, 3852, 6341, 1276, 5149, 275, 5262, 5643, 2009, 3756, 6028, 420, 28, 1499, 4166, 4931, 285, 3153, 4459, 3140, 4291, 1582, 274, 2858, 5464, 3597, 626, 3651, 680, 1109, 5432, 830, 672, 2815, 4522, 6411, 2547, 1491, 5624, 3463, 768, 5813, 537, 341, 2069, 3314, 1975, 4387, 4602, 3087, 33, 3967, 1750, 2464, 3635, 4989, 5283, 3357, 3240, 3952, 42, 746, 1125, 3562, 500, 3947, 5702, 945, 293, 4896, 270, 6268, 5549, 992, 4872, 4902, 5694, 4540, 2586, 5846, 3330, 4365, 3658, 444, 3620, 678, 2070, 5193, 510, 6340, 2032, 2923, 393, 4091, 372, 377, 3372, 4248, 3669, 2536, 6292, 889, 212, 5548, 5555, 5614, 4340, 4096, 231, 4007, 3509, 4293, 4205, 4167, 1694, 1792, 6347, 5690, 2914, 5726, 4322, 423, 2192, 2666, 95, 863, 4971, 2055, 3218, 3462, 4649, 2910, 4399, 4876, 2926, 3729, 2489, 3758, 2041, 6170, 1174, 2095, 2843, 5766, 508, 2488, 939, 1338, 3717, 2075, 851, 5314, 6058, 4423, 4667, 3305, 1713, 5313, 6004, 1107, 2396, 4976, 1773, 2442, 809, 3294, 5767, 527, 5140, 218, 4486, 1297, 665, 3474, 4862, 5802, 3097, 3710, 3586, 2618, 2723, 4002, 3267, 1952, 1344, 448, 4857, 3239, 3461, 5182, 2299, 4598, 3648, 2117, 5369, 944, 2137, 3977, 2014, 2934, 3915, 3629, 1253, 3987, 131, 884, 3336, 1106, 2219, 2064, 5264, 4302, 1513, 54, 5913, 4170, 5556, 4275, 4654, 1369, 609, 5447, 1413, 5541, 5310, 2025, 3002, 6252, 1081, 3661, 6183, 4395, 1811, 1739, 1610, 3511, 5885, 1929, 4473, 1876, 4816, 114, 1484, 4571, 3366, 3500, 2426, 4718, 5203, 5867, 2762, 3497, 3483, 4236, 647, 3052, 4600, 3839, 310, 1608, 3082, 3868, 470, 1998, 6548, 697, 1464, 3279, 4335, 6245, 3117, 686, 2819, 4224, 1371, 2105, 1873, 4008, 2436, 353, 2349, 2008, 1785, 838, 1526, 3411, 197, 2074, 195, 5976, 3252, 3654, 446, 2688, 6550, 141, 1164, 2276, 4984, 1906, 1444, 3568, 122, 3269, 4086, 6188, 6257, 4496, 854, 1169, 685, 2769, 1421, 1656, 153, 3592, 3251, 3036, 4150, 6463, 2327, 5364, 4419, 3622, 4358, 224, 1570, 2006, 3670, 5422, 292, 5070, 3814, 4123, 2269, 5772, 125, 5465, 5485, 4258, 1110, 1336, 5138, 271, 3388, 6410, 4032, 1319, 4657, 116, 1188, 4321, 6301, 5139, 3313, 3039, 2851, 5719, 4075, 4788, 133, 5293, 3582, 2504, 2810, 782, 3370, 155, 3191, 1245, 3769, 4528, 5223, 4612, 5788, 4004, 4730, 1354, 4655, 5613, 5512, 4039, 2078, 6465, 1874, 6370, 3030, 543, 4477, 3155, 280, 1275, 6377, 4977, 4233, 5058, 3998, 6418, 2957, 3501, 4740, 1843, 1676, 216, 5027, 1539, 2004, 2352, 2690, 1591, 6246, 3423, 13, 3719, 1899, 3178, 4045, 2820, 210, 1879, 3311, 3226, 3575, 4028, 381, 3390, 4001, 290, 5933, 2414, 6105, 29, 867, 996, 5297, 4852, 1157, 4633, 5862, 1317, 929, 6219, 4570, 4131, 5720, 4975, 4643, 3578, 2774, 2181, 1615, 1607, 1103, 2566, 5401, 3675, 5092, 5484, 5468, 5131, 3162, 3901, 5295, 4127, 4706, 5546, 5960, 3134, 1515, 5728, 6534, 2947, 2153, 1668, 3224, 1625, 5351, 1514, 3748, 3324, 1376, 3157, 2933, 2593, 5890, 37, 5685, 1925, 2204, 3968, 1216, 3784, 1763, 2865, 605, 917, 3476, 1212, 268, 6083, 3694, 4723, 6202, 4636, 3375, 2741, 2911, 6364, 4859, 5565, 6371, 2842, 3113, 3098, 6388, 4445, 1979, 3662, 2092, 4588, 3055, 1547, 6217, 5213, 2589, 2477, 5603, 5620, 5038, 1186, 2228, 1893, 4809, 6512, 1666, 4064, 1730, 3725, 3148, 1509, 5065, 4014, 1341, 4317, 3382, 4357, 6518, 842, 535, 3563, 3065, 3860, 5870, 6503, 5764, 2091, 4806, 194, 5054, 6501, 886, 5865, 4261, 5300, 4359, 3893, 3125, 2416, 4270, 5073, 5076, 2198, 3736, 1546, 6382, 4441, 966, 2899, 3208, 2748, 3614, 5792, 2430, 2318, 3989, 3727, 2516, 6451, 2684, 4518, 5031, 890, 5383, 4444, 2362, 784, 5889, 4745, 1203, 4802, 6426, 6048, 3381, 5968, 2674, 1208, 5856, 1652, 506, 1978, 4319, 5530, 2098, 2534, 4814, 2278, 3221, 1252, 3542, 3131, 5699, 1859, 3001, 3145, 1990, 849, 3271, 4259, 3456, 5443, 2301, 4485, 2473, 1111, 3115, 6106, 4750, 3751, 6075, 3391, 2765, 4722, 3735, 2537, 6360, 1348, 2290, 6164, 1771, 1495, 6376, 4970, 2492, 1077, 3130, 1030, 856, 6138, 1318, 58, 2199, 449, 2799, 503, 1957, 5211, 5204, 3288, 829, 1915, 6133, 3825, 1748, 5777, 4519, 2359, 1621, 4325, 1587, 3458, 4997, 2682, 3049, 2890, 1578, 4191, 3954, 1828, 6507, 3664, 96, 808, 2803, 1466, 1590, 5474, 6180, 2743, 4237, 1816, 3069, 4242, 12, 4417, 5590, 4139, 32, 3910, 1659, 5627, 4717, 1912, 2608, 796, 3834, 6264, 2036, 866, 1210, 1178, 2692, 3147, 2163, 5896, 3897, 2374, 2334, 4539, 2291, 2760, 3621, 4297, 4901, 3543, 2247, 4585, 4402, 5402, 4532, 1193, 3677, 592, 4904, 2644, 27, 4324, 3555, 4794, 1108, 6220, 3309, 3243, 4884, 2577, 1991, 1996, 4747, 91, 6201, 3767, 4603, 5727, 4530, 3984, 109, 646, 5015, 6523, 4055, 4192, 1741, 5805, 3572, 134, 2517, 3639, 6305, 2043, 2002, 6097, 4557, 5795, 3766, 4582, 4190, 1265, 5807, 6300, 4702, 10, 754, 4811, 2660, 4614, 504, 4061, 3726, 3187, 5404, 1937, 3433, 3406, 2685, 2003, 1214, 208, 5352, 5589, 6023, 4013, 3136, 4158, 217, 4864, 4148, 612, 1250, 6203, 5424, 5112, 5122, 265, 3270, 3009, 3041, 314, 138, 5282, 4440, 4494, 1432, 289, 3693, 223, 1831, 5801, 3847, 581, 3160, 1051, 3724, 6352, 964, 1709, 6484, 4174, 3806, 3775, 3258, 2275, 5936, 3699, 2066, 5274, 6178, 192, 2839, 5517, 6198, 4491, 3753, 1986, 2629, 2143, 5868, 3331, 475, 6281, 103, 2443, 1379, 6541, 1358, 2816, 6123, 3925, 5488, 3807, 1446, 4668, 3242, 6527, 1488, 2857, 296, 2262, 3299, 2776, 3867, 1165, 1217, 874, 5106, 5632, 750, 130, 2042, 4711, 860, 3647, 6546, 5354, 1571, 1134, 5621, 1084, 6520, 4805, 1434, 2420, 1916, 3005, 4113, 4484, 4950, 3109, 4488, 5277, 2062, 956, 3598, 551, 4245, 5538, 6099, 2840, 1824, 6487, 700, 3337, 1462]\n",
      "test ids:  [0, 1, 2, 3, 4, 5, 6, 7, 8, 78, 79, 80, 81, 82, 83, 84, 85, 86, 87, 88, 89, 90, 158, 159, 160, 161, 162, 163, 164, 165, 166, 167, 168, 169, 170, 171, 238, 239, 240, 241, 242, 243, 244, 245, 246, 247, 248, 249, 250, 251, 252, 253, 318, 319, 320, 321, 322, 324, 325, 326, 327, 328, 329, 330, 331, 332, 333, 334, 335, 398, 399, 400, 401, 402, 405, 406, 407, 408, 409, 410, 411, 412, 413, 414, 415, 416, 417, 478, 479, 480, 481, 482, 486, 487, 488, 489, 490, 491, 492, 493, 494, 495, 496, 497, 498, 499, 558, 559, 560, 561, 562, 567, 568, 569, 570, 571, 572, 573, 574, 575, 576, 577, 578, 579, 580, 638, 639, 640, 641, 642, 648, 649, 650, 651, 652, 653, 654, 655, 656, 657, 658, 659, 660, 661, 662, 718, 719, 720, 721, 722, 729, 730, 731, 732, 733, 734, 735, 736, 737, 738, 739, 740, 741, 742, 743, 744, 798, 799, 800, 801, 802, 810, 811, 812, 813, 814, 815, 816, 817, 818, 819, 820, 821, 822, 823, 824, 825, 826, 878, 879, 880, 881, 882, 892, 893, 894, 895, 896, 897, 898, 899, 900, 901, 902, 903, 904, 905, 906, 907, 908, 958, 959, 960, 961, 962, 974, 975, 976, 977, 978, 979, 980, 981, 982, 983, 984, 985, 986, 987, 988, 989, 1039, 1040, 1041, 1057, 1058, 1059, 1060, 1061, 1062, 1063, 1064, 1065, 1066, 1067, 1068, 1069, 1070, 1071, 1119, 1120, 1121, 1139, 1140, 1141, 1142, 1143, 1144, 1145, 1146, 1147, 1148, 1149, 1150, 1151, 1152, 1153, 1199, 1200, 1201, 1221, 1222, 1223, 1224, 1225, 1226, 1227, 1228, 1229, 1230, 1231, 1232, 1233, 1234, 1235, 1279, 1280, 1281, 1304, 1305, 1306, 1307, 1308, 1309, 1310, 1311, 1312, 1313, 1314, 1315, 1316, 1359, 1360, 1361, 1386, 1387, 1388, 1389, 1390, 1391, 1392, 1393, 1394, 1395, 1396, 1397, 1398, 1439, 1440, 1441, 1469, 1470, 1471, 1472, 1473, 1474, 1475, 1476, 1477, 1478, 1479, 1480, 1519, 1520, 1521, 1551, 1552, 1553, 1554, 1555, 1556, 1557, 1558, 1559, 1560, 1561, 1562, 1599, 1600, 1601, 1633, 1634, 1635, 1636, 1637, 1638, 1639, 1640, 1641, 1642, 1643, 1644, 1679, 1680, 1681, 1716, 1717, 1718, 1719, 1720, 1721, 1722, 1723, 1724, 1725, 1759, 1760, 1761, 1798, 1799, 1800, 1801, 1802, 1803, 1804, 1805, 1806, 1807, 1839, 1840, 1841, 1880, 1881, 1882, 1883, 1884, 1885, 1886, 1887, 1888, 1889, 1919, 1920, 1921, 1963, 1964, 1965, 1966, 1967, 1968, 1969, 1970, 1971, 1999, 2000, 2001, 2045, 2046, 2047, 2048, 2049, 2050, 2051, 2052, 2053, 2079, 2080, 2081, 2127, 2128, 2129, 2130, 2131, 2132, 2133, 2134, 2160, 2210, 2211, 2212, 2213, 2214, 2215, 2216, 2240, 2292, 2293, 2294, 2295, 2296, 2297, 2298, 2320, 2375, 2376, 2377, 2378, 2379, 2380, 2400, 2457, 2458, 2459, 2460, 2461, 2462, 2480, 2539, 2540, 2541, 2542, 2543, 2560, 2622, 2623, 2624, 2625, 2640, 2704, 2705, 2706, 2707, 2720, 2786, 2787, 2788, 2789, 2800, 2869, 2870, 2871, 2880, 2951, 2952, 2960, 3033, 3034, 3040, 3116, 3120, 3198, 3200, 3280, 3360, 3362, 3440, 3444, 3520, 3526, 3527, 3600, 3608, 3609, 3680, 3689, 3690, 3691, 3760, 3771, 3772, 3773, 3774, 3840, 3853, 3854, 3855, 3856, 3920, 3935, 3936, 3937, 3938, 4000, 4017, 4018, 4019, 4020, 4021, 4080, 4098, 4099, 4100, 4101, 4102, 4103, 4160, 4180, 4181, 4182, 4183, 4184, 4185, 4240, 4262, 4263, 4264, 4265, 4266, 4267, 4268, 4320, 4344, 4345, 4346, 4347, 4348, 4349, 4350, 4400, 4426, 4427, 4428, 4429, 4430, 4431, 4432, 4433, 4479, 4480, 4481, 4507, 4508, 4509, 4510, 4511, 4512, 4513, 4514, 4515, 4559, 4560, 4561, 4589, 4590, 4591, 4592, 4593, 4594, 4595, 4596, 4597, 4639, 4640, 4641, 4671, 4672, 4673, 4674, 4675, 4676, 4677, 4678, 4679, 4680, 4719, 4720, 4721, 4753, 4754, 4755, 4756, 4757, 4758, 4759, 4760, 4761, 4762, 4799, 4800, 4801, 4835, 4836, 4837, 4838, 4839, 4840, 4841, 4842, 4843, 4844, 4879, 4880, 4881, 4916, 4917, 4918, 4919, 4920, 4921, 4922, 4923, 4924, 4925, 4926, 4927, 4959, 4960, 4961, 4998, 4999, 5000, 5001, 5002, 5003, 5004, 5005, 5006, 5007, 5008, 5009, 5039, 5040, 5041, 5080, 5081, 5082, 5083, 5084, 5085, 5086, 5087, 5088, 5089, 5090, 5091, 5119, 5120, 5121, 5162, 5163, 5164, 5165, 5166, 5167, 5168, 5169, 5170, 5171, 5172, 5173, 5174, 5199, 5200, 5201, 5244, 5245, 5246, 5247, 5248, 5249, 5250, 5251, 5252, 5253, 5254, 5255, 5256, 5279, 5280, 5281, 5325, 5326, 5327, 5328, 5329, 5330, 5331, 5332, 5333, 5334, 5335, 5336, 5337, 5338, 5339, 5359, 5360, 5361, 5407, 5408, 5409, 5410, 5411, 5412, 5413, 5414, 5415, 5416, 5417, 5418, 5419, 5420, 5421, 5439, 5440, 5441, 5489, 5490, 5491, 5492, 5493, 5494, 5495, 5496, 5497, 5498, 5499, 5500, 5501, 5502, 5503, 5519, 5520, 5521, 5571, 5572, 5573, 5574, 5575, 5576, 5577, 5578, 5579, 5580, 5581, 5582, 5583, 5584, 5585, 5586, 5598, 5599, 5600, 5601, 5602, 5652, 5653, 5654, 5655, 5656, 5657, 5658, 5659, 5660, 5661, 5662, 5663, 5664, 5665, 5666, 5667, 5668, 5678, 5679, 5680, 5681, 5682, 5734, 5735, 5736, 5737, 5738, 5739, 5740, 5741, 5742, 5743, 5744, 5745, 5746, 5747, 5748, 5749, 5750, 5758, 5759, 5760, 5761, 5762, 5816, 5817, 5818, 5819, 5820, 5821, 5822, 5823, 5824, 5825, 5826, 5827, 5828, 5829, 5830, 5831, 5838, 5839, 5840, 5841, 5842, 5898, 5899, 5900, 5901, 5902, 5903, 5904, 5905, 5906, 5907, 5908, 5909, 5910, 5911, 5912, 5918, 5919, 5920, 5921, 5922, 5980, 5981, 5982, 5983, 5984, 5985, 5986, 5987, 5988, 5989, 5990, 5991, 5992, 5993, 5998, 5999, 6000, 6001, 6002, 6061, 6062, 6063, 6064, 6065, 6066, 6067, 6068, 6069, 6070, 6071, 6072, 6073, 6074, 6078, 6079, 6080, 6081, 6082, 6143, 6144, 6145, 6146, 6147, 6148, 6149, 6150, 6151, 6152, 6153, 6154, 6155, 6158, 6159, 6160, 6161, 6162, 6225, 6226, 6227, 6228, 6229, 6230, 6231, 6232, 6233, 6234, 6235, 6236, 6238, 6239, 6240, 6241, 6242, 6307, 6308, 6309, 6310, 6311, 6312, 6313, 6314, 6315, 6316, 6317, 6318, 6319, 6320, 6321, 6322, 6389, 6390, 6391, 6392, 6393, 6394, 6395, 6396, 6397, 6398, 6399, 6400, 6401, 6402, 6470, 6471, 6472, 6473, 6474, 6475, 6476, 6477, 6478, 6479, 6480, 6481, 6482, 6552, 6553, 6554, 6555, 6556, 6557, 6558, 6559, 6560]\n",
      "CPU times: user 150 ms, sys: 20 ms, total: 170 ms\n",
      "Wall time: 169 ms\n"
     ]
    }
   ],
   "source": [
    "%%time\n",
    "n_total = len(simulation.dataframe)\n",
    "n_train = len(simulation.dataframe[simulation.dataframe.type_of == \"train\"])\n",
    "n_val = len(simulation.dataframe[simulation.dataframe.type_of == \"val\"])\n",
    "n_test = len(simulation.dataframe[simulation.dataframe.type_of == \"test\"])\n",
    "n_train_hamiltonians = len(simulation.train_ids)\n",
    "n_val_hamiltonians = len(simulation.val_ids)\n",
    "n_test_hamiltonians = len(simulation.test_ids)\n",
    "n_total_hamiltonians = n_train_hamiltonians + n_val_hamiltonians + n_test_hamiltonians\n",
    "\n",
    "print(\"% train: \", n_train/n_total)\n",
    "print(\"% val: \",  n_val/n_total)\n",
    "print(\"% test: \", n_test/n_total)\n",
    "print(\"% train + val + test: \", (n_train+n_val+n_test)/n_total)\n",
    "print(\"\\n\")\n",
    "print(\"number of train hamiltonians: \", n_train_hamiltonians)\n",
    "print(\"number of val hamiltonians: \", n_val_hamiltonians)\n",
    "print(\"number of test hamiltonians: \", n_test_hamiltonians)\n",
    "print(\"total number of hamiltonians: \", n_total_hamiltonians)\n",
    "print(\"\\n\")\n",
    "print(\"train ids: \", simulation.train_ids)\n",
    "print(\"val ids: \", simulation.val_ids)\n",
    "print(\"test ids: \", simulation.test_ids)"
   ]
  },
  {
   "cell_type": "markdown",
   "metadata": {
    "papermill": {
     "duration": 0.038334,
     "end_time": "2020-07-18T05:33:54.721004",
     "exception": false,
     "start_time": "2020-07-18T05:33:54.682670",
     "status": "completed"
    },
    "tags": []
   },
   "source": [
    "#### Checking summaries"
   ]
  },
  {
   "cell_type": "code",
   "execution_count": 31,
   "metadata": {
    "execution": {
     "iopub.execute_input": "2020-07-18T05:33:54.796756Z",
     "iopub.status.busy": "2020-07-18T05:33:54.796424Z",
     "iopub.status.idle": "2020-07-18T05:33:54.814924Z",
     "shell.execute_reply": "2020-07-18T05:33:54.814653Z"
    },
    "papermill": {
     "duration": 0.056544,
     "end_time": "2020-07-18T05:33:54.814976",
     "exception": false,
     "start_time": "2020-07-18T05:33:54.758432",
     "status": "completed"
    },
    "tags": []
   },
   "outputs": [
    {
     "name": "stdout",
     "output_type": "stream",
     "text": [
      "length of ham_summary:  6561\n",
      "CPU times: user 57 µs, sys: 0 ns, total: 57 µs\n",
      "Wall time: 59.1 µs\n"
     ]
    },
    {
     "data": {
      "text/html": [
       "<div>\n",
       "<style scoped>\n",
       "    .dataframe tbody tr th:only-of-type {\n",
       "        vertical-align: middle;\n",
       "    }\n",
       "\n",
       "    .dataframe tbody tr th {\n",
       "        vertical-align: top;\n",
       "    }\n",
       "\n",
       "    .dataframe thead th {\n",
       "        text-align: right;\n",
       "    }\n",
       "</style>\n",
       "<table border=\"1\" class=\"dataframe\">\n",
       "  <thead>\n",
       "    <tr style=\"text-align: right;\">\n",
       "      <th></th>\n",
       "      <th>t1</th>\n",
       "      <th>t2</th>\n",
       "      <th>type_of</th>\n",
       "      <th>0</th>\n",
       "      <th>1</th>\n",
       "      <th>phase</th>\n",
       "      <th>pred_phase</th>\n",
       "    </tr>\n",
       "    <tr>\n",
       "      <th>id</th>\n",
       "      <th></th>\n",
       "      <th></th>\n",
       "      <th></th>\n",
       "      <th></th>\n",
       "      <th></th>\n",
       "      <th></th>\n",
       "      <th></th>\n",
       "    </tr>\n",
       "  </thead>\n",
       "  <tbody>\n",
       "    <tr>\n",
       "      <th>0</th>\n",
       "      <td>-2.0</td>\n",
       "      <td>-2.00</td>\n",
       "      <td>test</td>\n",
       "      <td>0.39</td>\n",
       "      <td>0.61</td>\n",
       "      <td>999</td>\n",
       "      <td>1</td>\n",
       "    </tr>\n",
       "    <tr>\n",
       "      <th>1</th>\n",
       "      <td>-2.0</td>\n",
       "      <td>-1.95</td>\n",
       "      <td>test</td>\n",
       "      <td>0.51</td>\n",
       "      <td>0.49</td>\n",
       "      <td>0</td>\n",
       "      <td>0</td>\n",
       "    </tr>\n",
       "    <tr>\n",
       "      <th>2</th>\n",
       "      <td>-2.0</td>\n",
       "      <td>-1.90</td>\n",
       "      <td>test</td>\n",
       "      <td>0.47</td>\n",
       "      <td>0.53</td>\n",
       "      <td>0</td>\n",
       "      <td>1</td>\n",
       "    </tr>\n",
       "    <tr>\n",
       "      <th>3</th>\n",
       "      <td>-2.0</td>\n",
       "      <td>-1.85</td>\n",
       "      <td>test</td>\n",
       "      <td>0.53</td>\n",
       "      <td>0.47</td>\n",
       "      <td>0</td>\n",
       "      <td>0</td>\n",
       "    </tr>\n",
       "    <tr>\n",
       "      <th>4</th>\n",
       "      <td>-2.0</td>\n",
       "      <td>-1.80</td>\n",
       "      <td>test</td>\n",
       "      <td>0.58</td>\n",
       "      <td>0.42</td>\n",
       "      <td>0</td>\n",
       "      <td>0</td>\n",
       "    </tr>\n",
       "    <tr>\n",
       "      <th>...</th>\n",
       "      <td>...</td>\n",
       "      <td>...</td>\n",
       "      <td>...</td>\n",
       "      <td>...</td>\n",
       "      <td>...</td>\n",
       "      <td>...</td>\n",
       "      <td>...</td>\n",
       "    </tr>\n",
       "    <tr>\n",
       "      <th>6556</th>\n",
       "      <td>2.0</td>\n",
       "      <td>1.80</td>\n",
       "      <td>test</td>\n",
       "      <td>0.52</td>\n",
       "      <td>0.48</td>\n",
       "      <td>0</td>\n",
       "      <td>0</td>\n",
       "    </tr>\n",
       "    <tr>\n",
       "      <th>6557</th>\n",
       "      <td>2.0</td>\n",
       "      <td>1.85</td>\n",
       "      <td>test</td>\n",
       "      <td>0.53</td>\n",
       "      <td>0.47</td>\n",
       "      <td>0</td>\n",
       "      <td>0</td>\n",
       "    </tr>\n",
       "    <tr>\n",
       "      <th>6558</th>\n",
       "      <td>2.0</td>\n",
       "      <td>1.90</td>\n",
       "      <td>test</td>\n",
       "      <td>0.49</td>\n",
       "      <td>0.51</td>\n",
       "      <td>0</td>\n",
       "      <td>1</td>\n",
       "    </tr>\n",
       "    <tr>\n",
       "      <th>6559</th>\n",
       "      <td>2.0</td>\n",
       "      <td>1.95</td>\n",
       "      <td>test</td>\n",
       "      <td>0.43</td>\n",
       "      <td>0.57</td>\n",
       "      <td>0</td>\n",
       "      <td>1</td>\n",
       "    </tr>\n",
       "    <tr>\n",
       "      <th>6560</th>\n",
       "      <td>2.0</td>\n",
       "      <td>2.00</td>\n",
       "      <td>test</td>\n",
       "      <td>0.38</td>\n",
       "      <td>0.62</td>\n",
       "      <td>999</td>\n",
       "      <td>1</td>\n",
       "    </tr>\n",
       "  </tbody>\n",
       "</table>\n",
       "<p>6561 rows × 7 columns</p>\n",
       "</div>"
      ],
      "text/plain": [
       "       t1    t2 type_of     0     1  phase  pred_phase\n",
       "id                                                    \n",
       "0    -2.0 -2.00    test  0.39  0.61    999           1\n",
       "1    -2.0 -1.95    test  0.51  0.49      0           0\n",
       "2    -2.0 -1.90    test  0.47  0.53      0           1\n",
       "3    -2.0 -1.85    test  0.53  0.47      0           0\n",
       "4    -2.0 -1.80    test  0.58  0.42      0           0\n",
       "...   ...   ...     ...   ...   ...    ...         ...\n",
       "6556  2.0  1.80    test  0.52  0.48      0           0\n",
       "6557  2.0  1.85    test  0.53  0.47      0           0\n",
       "6558  2.0  1.90    test  0.49  0.51      0           1\n",
       "6559  2.0  1.95    test  0.43  0.57      0           1\n",
       "6560  2.0  2.00    test  0.38  0.62    999           1\n",
       "\n",
       "[6561 rows x 7 columns]"
      ]
     },
     "execution_count": 31,
     "metadata": {},
     "output_type": "execute_result"
    }
   ],
   "source": [
    "%%time\n",
    "ham_summary = simulation.hamiltonian_summary\n",
    "print(\"length of ham_summary: \", len(ham_summary))\n",
    "ham_summary"
   ]
  },
  {
   "cell_type": "code",
   "execution_count": 32,
   "metadata": {
    "execution": {
     "iopub.execute_input": "2020-07-18T05:33:54.892642Z",
     "iopub.status.busy": "2020-07-18T05:33:54.892327Z",
     "iopub.status.idle": "2020-07-18T05:33:54.922595Z",
     "shell.execute_reply": "2020-07-18T05:33:54.922275Z"
    },
    "papermill": {
     "duration": 0.069864,
     "end_time": "2020-07-18T05:33:54.922648",
     "exception": false,
     "start_time": "2020-07-18T05:33:54.852784",
     "status": "completed"
    },
    "tags": []
   },
   "outputs": [
    {
     "data": {
      "text/html": [
       "<div>\n",
       "<style scoped>\n",
       "    .dataframe tbody tr th:only-of-type {\n",
       "        vertical-align: middle;\n",
       "    }\n",
       "\n",
       "    .dataframe tbody tr th {\n",
       "        vertical-align: top;\n",
       "    }\n",
       "\n",
       "    .dataframe thead th {\n",
       "        text-align: right;\n",
       "    }\n",
       "</style>\n",
       "<table border=\"1\" class=\"dataframe\">\n",
       "  <thead>\n",
       "    <tr style=\"text-align: right;\">\n",
       "      <th></th>\n",
       "      <th>t1</th>\n",
       "      <th>t2</th>\n",
       "      <th>0</th>\n",
       "      <th>1</th>\n",
       "      <th>phase</th>\n",
       "      <th>pred_phase</th>\n",
       "    </tr>\n",
       "  </thead>\n",
       "  <tbody>\n",
       "    <tr>\n",
       "      <th>count</th>\n",
       "      <td>6561.000000</td>\n",
       "      <td>6.561000e+03</td>\n",
       "      <td>6561.000000</td>\n",
       "      <td>6561.000000</td>\n",
       "      <td>6561.000000</td>\n",
       "      <td>6561.000000</td>\n",
       "    </tr>\n",
       "    <tr>\n",
       "      <th>mean</th>\n",
       "      <td>0.000000</td>\n",
       "      <td>-4.331917e-18</td>\n",
       "      <td>0.483088</td>\n",
       "      <td>0.516912</td>\n",
       "      <td>25.002134</td>\n",
       "      <td>0.522786</td>\n",
       "    </tr>\n",
       "    <tr>\n",
       "      <th>std</th>\n",
       "      <td>1.169134</td>\n",
       "      <td>1.169134e+00</td>\n",
       "      <td>0.328893</td>\n",
       "      <td>0.328893</td>\n",
       "      <td>154.495657</td>\n",
       "      <td>0.499519</td>\n",
       "    </tr>\n",
       "    <tr>\n",
       "      <th>min</th>\n",
       "      <td>-2.000000</td>\n",
       "      <td>-2.000000e+00</td>\n",
       "      <td>0.000000</td>\n",
       "      <td>0.000000</td>\n",
       "      <td>0.000000</td>\n",
       "      <td>0.000000</td>\n",
       "    </tr>\n",
       "    <tr>\n",
       "      <th>25%</th>\n",
       "      <td>-1.000000</td>\n",
       "      <td>-1.000000e+00</td>\n",
       "      <td>0.150000</td>\n",
       "      <td>0.180000</td>\n",
       "      <td>0.000000</td>\n",
       "      <td>0.000000</td>\n",
       "    </tr>\n",
       "    <tr>\n",
       "      <th>50%</th>\n",
       "      <td>0.000000</td>\n",
       "      <td>0.000000e+00</td>\n",
       "      <td>0.460000</td>\n",
       "      <td>0.540000</td>\n",
       "      <td>1.000000</td>\n",
       "      <td>1.000000</td>\n",
       "    </tr>\n",
       "    <tr>\n",
       "      <th>75%</th>\n",
       "      <td>1.000000</td>\n",
       "      <td>1.000000e+00</td>\n",
       "      <td>0.820000</td>\n",
       "      <td>0.850000</td>\n",
       "      <td>1.000000</td>\n",
       "      <td>1.000000</td>\n",
       "    </tr>\n",
       "    <tr>\n",
       "      <th>max</th>\n",
       "      <td>2.000000</td>\n",
       "      <td>2.000000e+00</td>\n",
       "      <td>1.000000</td>\n",
       "      <td>1.000000</td>\n",
       "      <td>999.000000</td>\n",
       "      <td>1.000000</td>\n",
       "    </tr>\n",
       "  </tbody>\n",
       "</table>\n",
       "</div>"
      ],
      "text/plain": [
       "                t1            t2            0            1        phase  \\\n",
       "count  6561.000000  6.561000e+03  6561.000000  6561.000000  6561.000000   \n",
       "mean      0.000000 -4.331917e-18     0.483088     0.516912    25.002134   \n",
       "std       1.169134  1.169134e+00     0.328893     0.328893   154.495657   \n",
       "min      -2.000000 -2.000000e+00     0.000000     0.000000     0.000000   \n",
       "25%      -1.000000 -1.000000e+00     0.150000     0.180000     0.000000   \n",
       "50%       0.000000  0.000000e+00     0.460000     0.540000     1.000000   \n",
       "75%       1.000000  1.000000e+00     0.820000     0.850000     1.000000   \n",
       "max       2.000000  2.000000e+00     1.000000     1.000000   999.000000   \n",
       "\n",
       "        pred_phase  \n",
       "count  6561.000000  \n",
       "mean      0.522786  \n",
       "std       0.499519  \n",
       "min       0.000000  \n",
       "25%       0.000000  \n",
       "50%       1.000000  \n",
       "75%       1.000000  \n",
       "max       1.000000  "
      ]
     },
     "execution_count": 32,
     "metadata": {},
     "output_type": "execute_result"
    }
   ],
   "source": [
    "ham_summary.describe()"
   ]
  },
  {
   "cell_type": "code",
   "execution_count": 33,
   "metadata": {
    "execution": {
     "iopub.execute_input": "2020-07-18T05:33:55.001337Z",
     "iopub.status.busy": "2020-07-18T05:33:55.001025Z",
     "iopub.status.idle": "2020-07-18T05:33:55.016528Z",
     "shell.execute_reply": "2020-07-18T05:33:55.016875Z"
    },
    "papermill": {
     "duration": 0.055661,
     "end_time": "2020-07-18T05:33:55.016963",
     "exception": false,
     "start_time": "2020-07-18T05:33:54.961302",
     "status": "completed"
    },
    "tags": []
   },
   "outputs": [
    {
     "name": "stdout",
     "output_type": "stream",
     "text": [
      "length of ham_summary:  656100\n"
     ]
    },
    {
     "data": {
      "text/html": [
       "<div>\n",
       "<style scoped>\n",
       "    .dataframe tbody tr th:only-of-type {\n",
       "        vertical-align: middle;\n",
       "    }\n",
       "\n",
       "    .dataframe tbody tr th {\n",
       "        vertical-align: top;\n",
       "    }\n",
       "\n",
       "    .dataframe thead th {\n",
       "        text-align: right;\n",
       "    }\n",
       "</style>\n",
       "<table border=\"1\" class=\"dataframe\">\n",
       "  <thead>\n",
       "    <tr style=\"text-align: right;\">\n",
       "      <th></th>\n",
       "      <th>id</th>\n",
       "      <th>phase</th>\n",
       "      <th>pred_phase</th>\n",
       "      <th>type_of</th>\n",
       "    </tr>\n",
       "  </thead>\n",
       "  <tbody>\n",
       "    <tr>\n",
       "      <th>0</th>\n",
       "      <td>0</td>\n",
       "      <td>999</td>\n",
       "      <td>1</td>\n",
       "      <td>test</td>\n",
       "    </tr>\n",
       "    <tr>\n",
       "      <th>1</th>\n",
       "      <td>0</td>\n",
       "      <td>999</td>\n",
       "      <td>0</td>\n",
       "      <td>test</td>\n",
       "    </tr>\n",
       "    <tr>\n",
       "      <th>2</th>\n",
       "      <td>0</td>\n",
       "      <td>999</td>\n",
       "      <td>0</td>\n",
       "      <td>test</td>\n",
       "    </tr>\n",
       "    <tr>\n",
       "      <th>3</th>\n",
       "      <td>0</td>\n",
       "      <td>999</td>\n",
       "      <td>1</td>\n",
       "      <td>test</td>\n",
       "    </tr>\n",
       "    <tr>\n",
       "      <th>4</th>\n",
       "      <td>0</td>\n",
       "      <td>999</td>\n",
       "      <td>0</td>\n",
       "      <td>test</td>\n",
       "    </tr>\n",
       "    <tr>\n",
       "      <th>...</th>\n",
       "      <td>...</td>\n",
       "      <td>...</td>\n",
       "      <td>...</td>\n",
       "      <td>...</td>\n",
       "    </tr>\n",
       "    <tr>\n",
       "      <th>656095</th>\n",
       "      <td>6560</td>\n",
       "      <td>999</td>\n",
       "      <td>1</td>\n",
       "      <td>test</td>\n",
       "    </tr>\n",
       "    <tr>\n",
       "      <th>656096</th>\n",
       "      <td>6560</td>\n",
       "      <td>999</td>\n",
       "      <td>1</td>\n",
       "      <td>test</td>\n",
       "    </tr>\n",
       "    <tr>\n",
       "      <th>656097</th>\n",
       "      <td>6560</td>\n",
       "      <td>999</td>\n",
       "      <td>1</td>\n",
       "      <td>test</td>\n",
       "    </tr>\n",
       "    <tr>\n",
       "      <th>656098</th>\n",
       "      <td>6560</td>\n",
       "      <td>999</td>\n",
       "      <td>1</td>\n",
       "      <td>test</td>\n",
       "    </tr>\n",
       "    <tr>\n",
       "      <th>656099</th>\n",
       "      <td>6560</td>\n",
       "      <td>999</td>\n",
       "      <td>1</td>\n",
       "      <td>test</td>\n",
       "    </tr>\n",
       "  </tbody>\n",
       "</table>\n",
       "<p>656100 rows × 4 columns</p>\n",
       "</div>"
      ],
      "text/plain": [
       "          id  phase  pred_phase type_of\n",
       "0          0    999           1    test\n",
       "1          0    999           0    test\n",
       "2          0    999           0    test\n",
       "3          0    999           1    test\n",
       "4          0    999           0    test\n",
       "...      ...    ...         ...     ...\n",
       "656095  6560    999           1    test\n",
       "656096  6560    999           1    test\n",
       "656097  6560    999           1    test\n",
       "656098  6560    999           1    test\n",
       "656099  6560    999           1    test\n",
       "\n",
       "[656100 rows x 4 columns]"
      ]
     },
     "execution_count": 33,
     "metadata": {},
     "output_type": "execute_result"
    }
   ],
   "source": [
    "eigen_summary = simulation.eigenvector_summary\n",
    "print(\"length of ham_summary: \", len(eigen_summary))\n",
    "eigen_summary"
   ]
  },
  {
   "cell_type": "markdown",
   "metadata": {
    "papermill": {
     "duration": 0.037322,
     "end_time": "2020-07-18T05:33:55.091968",
     "exception": false,
     "start_time": "2020-07-18T05:33:55.054646",
     "status": "completed"
    },
    "tags": []
   },
   "source": [
    "#### Checking accuracies"
   ]
  },
  {
   "cell_type": "code",
   "execution_count": 34,
   "metadata": {
    "execution": {
     "iopub.execute_input": "2020-07-18T05:33:55.170965Z",
     "iopub.status.busy": "2020-07-18T05:33:55.170653Z",
     "iopub.status.idle": "2020-07-18T05:33:55.182764Z",
     "shell.execute_reply": "2020-07-18T05:33:55.182425Z"
    },
    "papermill": {
     "duration": 0.052795,
     "end_time": "2020-07-18T05:33:55.182841",
     "exception": false,
     "start_time": "2020-07-18T05:33:55.130046",
     "status": "completed"
    },
    "tags": []
   },
   "outputs": [
    {
     "data": {
      "text/plain": [
       "{'eigenvector_train': 0.9784172661870504,\n",
       " 'eigenvector_val': 0.828162,\n",
       " 'eigenvector_test': 0.6150473933649289,\n",
       " 'hamiltonian_train': 1.0,\n",
       " 'hamiltonian_val': 0.994,\n",
       " 'hamiltonian_test': 0.8791469194312796}"
      ]
     },
     "execution_count": 34,
     "metadata": {},
     "output_type": "execute_result"
    }
   ],
   "source": [
    "simulation.accuracy"
   ]
  },
  {
   "cell_type": "markdown",
   "metadata": {
    "papermill": {
     "duration": 0.038049,
     "end_time": "2020-07-18T05:33:55.259199",
     "exception": false,
     "start_time": "2020-07-18T05:33:55.221150",
     "status": "completed"
    },
    "tags": []
   },
   "source": [
    "#### Checking data stored in  memory"
   ]
  },
  {
   "cell_type": "code",
   "execution_count": 35,
   "metadata": {
    "execution": {
     "iopub.execute_input": "2020-07-18T05:33:55.341017Z",
     "iopub.status.busy": "2020-07-18T05:33:55.340702Z",
     "iopub.status.idle": "2020-07-18T05:33:55.351797Z",
     "shell.execute_reply": "2020-07-18T05:33:55.352105Z"
    },
    "papermill": {
     "duration": 0.054319,
     "end_time": "2020-07-18T05:33:55.352171",
     "exception": false,
     "start_time": "2020-07-18T05:33:55.297852",
     "status": "completed"
    },
    "tags": []
   },
   "outputs": [
    {
     "data": {
      "text/plain": [
       "[]"
      ]
     },
     "execution_count": 35,
     "metadata": {},
     "output_type": "execute_result"
    }
   ],
   "source": [
    "ham_summary_list = simulation.hamiltonian_summary_list\n",
    "ham_summary_list"
   ]
  },
  {
   "cell_type": "code",
   "execution_count": 36,
   "metadata": {
    "execution": {
     "iopub.execute_input": "2020-07-18T05:33:55.433752Z",
     "iopub.status.busy": "2020-07-18T05:33:55.433438Z",
     "iopub.status.idle": "2020-07-18T05:33:55.443329Z",
     "shell.execute_reply": "2020-07-18T05:33:55.443583Z"
    },
    "papermill": {
     "duration": 0.050522,
     "end_time": "2020-07-18T05:33:55.443651",
     "exception": false,
     "start_time": "2020-07-18T05:33:55.393129",
     "status": "completed"
    },
    "tags": []
   },
   "outputs": [
    {
     "data": {
      "text/plain": [
       "[]"
      ]
     },
     "execution_count": 36,
     "metadata": {},
     "output_type": "execute_result"
    }
   ],
   "source": [
    "eigen_summary_list = simulation.eigenvector_summary_list\n",
    "eigen_summary_list"
   ]
  },
  {
   "cell_type": "code",
   "execution_count": 37,
   "metadata": {
    "execution": {
     "iopub.execute_input": "2020-07-18T05:33:55.696829Z",
     "iopub.status.busy": "2020-07-18T05:33:55.694726Z",
     "iopub.status.idle": "2020-07-18T05:33:56.051357Z",
     "shell.execute_reply": "2020-07-18T05:33:56.052813Z"
    },
    "papermill": {
     "duration": 0.563211,
     "end_time": "2020-07-18T05:33:56.053126",
     "exception": false,
     "start_time": "2020-07-18T05:33:55.489915",
     "status": "completed"
    },
    "tags": []
   },
   "outputs": [
    {
     "data": {
      "text/plain": [
       "{'eigenvector_train': [],\n",
       " 'eigenvector_val': [],\n",
       " 'eigenvector_test': [],\n",
       " 'hamiltonian_train': [],\n",
       " 'hamiltonian_val': [],\n",
       " 'hamiltonian_test': []}"
      ]
     },
     "execution_count": 37,
     "metadata": {},
     "output_type": "execute_result"
    }
   ],
   "source": [
    "accuracy_list = simulation.accuracy_list\n",
    "accuracy_list"
   ]
  },
  {
   "cell_type": "code",
   "execution_count": null,
   "metadata": {
    "papermill": {
     "duration": 0.040305,
     "end_time": "2020-07-18T05:33:56.194294",
     "exception": false,
     "start_time": "2020-07-18T05:33:56.153989",
     "status": "completed"
    },
    "tags": []
   },
   "outputs": [],
   "source": []
  },
  {
   "cell_type": "code",
   "execution_count": null,
   "metadata": {
    "papermill": {
     "duration": 0.040751,
     "end_time": "2020-07-18T05:33:56.291930",
     "exception": false,
     "start_time": "2020-07-18T05:33:56.251179",
     "status": "completed"
    },
    "tags": []
   },
   "outputs": [],
   "source": []
  },
  {
   "cell_type": "code",
   "execution_count": 38,
   "metadata": {
    "execution": {
     "iopub.execute_input": "2020-07-18T05:33:56.371055Z",
     "iopub.status.busy": "2020-07-18T05:33:56.370744Z",
     "iopub.status.idle": "2020-07-18T05:33:56.380025Z",
     "shell.execute_reply": "2020-07-18T05:33:56.380329Z"
    },
    "papermill": {
     "duration": 0.049493,
     "end_time": "2020-07-18T05:33:56.380402",
     "exception": false,
     "start_time": "2020-07-18T05:33:56.330909",
     "status": "completed"
    },
    "tags": []
   },
   "outputs": [],
   "source": [
    "#simulation.fourier_matrix"
   ]
  },
  {
   "cell_type": "code",
   "execution_count": 39,
   "metadata": {
    "execution": {
     "iopub.execute_input": "2020-07-18T05:33:56.462363Z",
     "iopub.status.busy": "2020-07-18T05:33:56.461973Z",
     "iopub.status.idle": "2020-07-18T05:33:56.471715Z",
     "shell.execute_reply": "2020-07-18T05:33:56.471976Z"
    },
    "papermill": {
     "duration": 0.05236,
     "end_time": "2020-07-18T05:33:56.472047",
     "exception": false,
     "start_time": "2020-07-18T05:33:56.419687",
     "status": "completed"
    },
    "tags": []
   },
   "outputs": [],
   "source": [
    "#simulation.fourier_matrix.shape"
   ]
  },
  {
   "cell_type": "code",
   "execution_count": 40,
   "metadata": {
    "execution": {
     "iopub.execute_input": "2020-07-18T05:33:56.551914Z",
     "iopub.status.busy": "2020-07-18T05:33:56.551605Z",
     "iopub.status.idle": "2020-07-18T05:33:56.561183Z",
     "shell.execute_reply": "2020-07-18T05:33:56.560907Z"
    },
    "papermill": {
     "duration": 0.049772,
     "end_time": "2020-07-18T05:33:56.561237",
     "exception": false,
     "start_time": "2020-07-18T05:33:56.511465",
     "status": "completed"
    },
    "tags": []
   },
   "outputs": [],
   "source": [
    "#simulation.fourier_matrix[:,0]"
   ]
  },
  {
   "cell_type": "code",
   "execution_count": 41,
   "metadata": {
    "execution": {
     "iopub.execute_input": "2020-07-18T05:33:56.643842Z",
     "iopub.status.busy": "2020-07-18T05:33:56.643533Z",
     "iopub.status.idle": "2020-07-18T05:33:56.653968Z",
     "shell.execute_reply": "2020-07-18T05:33:56.653676Z"
    },
    "papermill": {
     "duration": 0.053255,
     "end_time": "2020-07-18T05:33:56.654025",
     "exception": false,
     "start_time": "2020-07-18T05:33:56.600770",
     "status": "completed"
    },
    "tags": []
   },
   "outputs": [],
   "source": [
    "#simulation.fourier_matrix[:,1]"
   ]
  },
  {
   "cell_type": "code",
   "execution_count": 42,
   "metadata": {
    "execution": {
     "iopub.execute_input": "2020-07-18T05:33:56.733312Z",
     "iopub.status.busy": "2020-07-18T05:33:56.733003Z",
     "iopub.status.idle": "2020-07-18T05:33:56.742853Z",
     "shell.execute_reply": "2020-07-18T05:33:56.742463Z"
    },
    "papermill": {
     "duration": 0.050036,
     "end_time": "2020-07-18T05:33:56.742907",
     "exception": false,
     "start_time": "2020-07-18T05:33:56.692871",
     "status": "completed"
    },
    "tags": []
   },
   "outputs": [],
   "source": [
    "#np.exp(-1j*2*np.pi*3/100)"
   ]
  },
  {
   "cell_type": "code",
   "execution_count": 43,
   "metadata": {
    "execution": {
     "iopub.execute_input": "2020-07-18T05:33:56.823959Z",
     "iopub.status.busy": "2020-07-18T05:33:56.823629Z",
     "iopub.status.idle": "2020-07-18T05:33:56.833856Z",
     "shell.execute_reply": "2020-07-18T05:33:56.833502Z"
    },
    "papermill": {
     "duration": 0.051412,
     "end_time": "2020-07-18T05:33:56.833912",
     "exception": false,
     "start_time": "2020-07-18T05:33:56.782500",
     "status": "completed"
    },
    "tags": []
   },
   "outputs": [],
   "source": [
    "#for i in range(1,50):\n",
    "#    print(\"\\n\")\n",
    "#    print(i)\n",
    "#    print(np.sum((np.real(simulation.fourier_matrix[:,i]) - np.real(simulation.fourier_matrix[:,-i]))**2))\n",
    "#    print(np.sum((np.imag(simulation.fourier_matrix[:,i])+ np.imag(simulation.fourier_matrix[:,-i]))**2))"
   ]
  },
  {
   "cell_type": "code",
   "execution_count": 44,
   "metadata": {
    "execution": {
     "iopub.execute_input": "2020-07-18T05:33:56.920744Z",
     "iopub.status.busy": "2020-07-18T05:33:56.920429Z",
     "iopub.status.idle": "2020-07-18T05:33:56.939878Z",
     "shell.execute_reply": "2020-07-18T05:33:56.940189Z"
    },
    "papermill": {
     "duration": 0.065622,
     "end_time": "2020-07-18T05:33:56.940255",
     "exception": false,
     "start_time": "2020-07-18T05:33:56.874633",
     "status": "completed"
    },
    "tags": []
   },
   "outputs": [],
   "source": [
    "#print(simulation.fourier_matrix[:,0])"
   ]
  },
  {
   "cell_type": "code",
   "execution_count": 45,
   "metadata": {
    "execution": {
     "iopub.execute_input": "2020-07-18T05:33:57.021238Z",
     "iopub.status.busy": "2020-07-18T05:33:57.020911Z",
     "iopub.status.idle": "2020-07-18T05:33:57.031139Z",
     "shell.execute_reply": "2020-07-18T05:33:57.030844Z"
    },
    "papermill": {
     "duration": 0.05127,
     "end_time": "2020-07-18T05:33:57.031195",
     "exception": false,
     "start_time": "2020-07-18T05:33:56.979925",
     "status": "completed"
    },
    "tags": []
   },
   "outputs": [],
   "source": [
    "#print(simulation.fourier_matrix[:,50])"
   ]
  },
  {
   "cell_type": "code",
   "execution_count": null,
   "metadata": {
    "papermill": {
     "duration": 0.038551,
     "end_time": "2020-07-18T05:33:57.108827",
     "exception": false,
     "start_time": "2020-07-18T05:33:57.070276",
     "status": "completed"
    },
    "tags": []
   },
   "outputs": [],
   "source": []
  }
 ],
 "metadata": {
  "celltoolbar": "Tags",
  "kernelspec": {
   "display_name": "ml_top_phases",
   "language": "python",
   "name": "ml_top_phases"
  },
  "language_info": {
   "codemirror_mode": {
    "name": "ipython",
    "version": 3
   },
   "file_extension": ".py",
   "mimetype": "text/x-python",
   "name": "python",
   "nbconvert_exporter": "python",
   "pygments_lexer": "ipython3",
   "version": "3.6.10"
  },
  "papermill": {
   "duration": 175.512909,
   "end_time": "2020-07-18T05:33:57.257542",
   "environment_variables": {},
   "exception": null,
   "input_path": "0_simulation_template.ipynb",
   "output_path": "zzz_ssh1_dct_best_04_wavevector_sites_simulation_notebook.ipynb",
   "parameters": {
    "allowed_windings": [
     0,
     1
    ],
    "csv_path": "/home/rio/ssh_csvs/ssh1/periodic_100_6561.csv",
    "features_to_use": null,
    "fit_params": null,
    "fourier_features_to_use": [
     1,
     2,
     36,
     49
    ],
    "fourier_fillna": false,
    "fourier_mode": "dct",
    "fourier_normalize": false,
    "fourier_real": null,
    "model_kw": {
     "criterion": "entropy"
    },
    "model_name": "DecisionTreeClassifier",
    "n_experiments": 100,
    "pred_params": null,
    "random_features": false,
    "random_state": 1016,
    "save_accuracy": true,
    "save_eigenvector": true,
    "save_hamiltonian": true,
    "save_models": true,
    "shuffle_features": false,
    "shuffle_rows": true,
    "simulation_dir": "/home/rio/ssh_simulations/ssh1/periodic_100_6561/dct_best_04_wavevector_sites",
    "start_n": 0,
    "store_in_lists": false,
    "val_split": 0.9
   },
   "start_time": "2020-07-18T05:31:01.744633",
   "version": "2.1.0"
  }
 },
 "nbformat": 4,
 "nbformat_minor": 2
}