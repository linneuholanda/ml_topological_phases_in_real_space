{
 "cells": [
  {
   "cell_type": "markdown",
   "metadata": {
    "papermill": {
     "duration": 0.05602,
     "end_time": "2020-07-16T03:12:21.101958",
     "exception": false,
     "start_time": "2020-07-16T03:12:21.045938",
     "status": "completed"
    },
    "tags": []
   },
   "source": [
    "# Simulation template \n",
    "\n",
    "In this notebook we run the machine learning analysis of topological phase transitions occurring  in both nearest-neighbours SSH models (ssh1) and second neighbours models (ssh2) as decribed in the paper [Machine learning topological phases in real space](https://arxiv.org/abs/1901.01963). Here the simulation is run with features generated from fourier components in the first scenario. This scenario is characterized by using only the EVEN wavevector space eigenmodes, computed from ALL real space components."
   ]
  },
  {
   "cell_type": "markdown",
   "metadata": {
    "papermill": {
     "duration": 0.016019,
     "end_time": "2020-07-16T03:12:21.138079",
     "exception": false,
     "start_time": "2020-07-16T03:12:21.122060",
     "status": "completed"
    },
    "tags": []
   },
   "source": [
    "## Defining parameters"
   ]
  },
  {
   "cell_type": "code",
   "execution_count": 1,
   "metadata": {
    "execution": {
     "iopub.execute_input": "2020-07-16T03:12:21.175276Z",
     "iopub.status.busy": "2020-07-16T03:12:21.174938Z",
     "iopub.status.idle": "2020-07-16T03:12:21.756683Z",
     "shell.execute_reply": "2020-07-16T03:12:21.756349Z"
    },
    "papermill": {
     "duration": 0.60154,
     "end_time": "2020-07-16T03:12:21.756740",
     "exception": false,
     "start_time": "2020-07-16T03:12:21.155200",
     "status": "completed"
    },
    "tags": []
   },
   "outputs": [
    {
     "name": "stdout",
     "output_type": "stream",
     "text": [
      "CPU times: user 754 ms, sys: 254 ms, total: 1.01 s\n",
      "Wall time: 575 ms\n"
     ]
    }
   ],
   "source": [
    "%%time\n",
    "%load_ext autoreload\n",
    "%autoreload 2\n",
    "from simulation import *"
   ]
  },
  {
   "cell_type": "code",
   "execution_count": 2,
   "metadata": {
    "execution": {
     "iopub.execute_input": "2020-07-16T03:12:21.794493Z",
     "iopub.status.busy": "2020-07-16T03:12:21.794177Z",
     "iopub.status.idle": "2020-07-16T03:12:21.806462Z",
     "shell.execute_reply": "2020-07-16T03:12:21.806144Z"
    },
    "papermill": {
     "duration": 0.032757,
     "end_time": "2020-07-16T03:12:21.806515",
     "exception": false,
     "start_time": "2020-07-16T03:12:21.773758",
     "status": "completed"
    },
    "tags": [
     "parameters"
    ]
   },
   "outputs": [
    {
     "name": "stdout",
     "output_type": "stream",
     "text": [
      "CPU times: user 2 µs, sys: 1 µs, total: 3 µs\n",
      "Wall time: 4.77 µs\n"
     ]
    }
   ],
   "source": [
    "%%time\n",
    "### Dataset and simulation parameters\n",
    "#csv_path = SSH2_PERIODIC_100_6561_CSV \n",
    "csv_path = SSH1_PERIODIC_100_6561_CSV \n",
    "model_name = \"DecisionTreeClassifier\"\n",
    "model_kw = {\"criterion\":\"entropy\"}\n",
    "allowed_windings = [0,1]\n",
    "#allowed_windings = [-1,0,1,2]\n",
    "simulation_dir = SSH1_PERIODIC_1ST_SCENARIO_100_6561_SIMULATION_DIR\n",
    "#simulation_dir = SSH2_PERIODIC_ENGINEERED_100_6561_SIMULATION_DIR\n",
    "val_split = 0.9  \n",
    "features_to_use = None\n",
    "shuffle_features = False\n",
    "random_state = 763\n",
    "\n",
    "### Fourier features\n",
    "fourier_mode = \"dst\"\n",
    "fourier_features_to_use = None\n",
    "fourier_real = \"imag\"\n",
    "fourier_normalize = False\n",
    "fourier_fillna = False\n",
    "\n",
    "### Running a simulation\n",
    "n_experiments = 5\n",
    "start_n = 0\n",
    "fit_params = None\n",
    "#mode=mode\n",
    "shuffle_rows = True\n",
    "pred_params = None\n",
    "random_features = False\n",
    "######### DON'T SET THIS TO TRUE UNLESS YOUR DATASET IS SMALL!! WILL FLOOD YOUR MEMORY!!!\n",
    "store_in_lists = False   \n",
    "########## BELOW ARE THE PARAMETERS THAT CONTROL WHAT WILL BE SAVED\n",
    "save_eigenvector=True\n",
    "save_hamiltonian=True \n",
    "save_accuracy=True \n",
    "save_models=True"
   ]
  },
  {
   "cell_type": "code",
   "execution_count": 3,
   "metadata": {
    "execution": {
     "iopub.execute_input": "2020-07-16T03:12:21.842463Z",
     "iopub.status.busy": "2020-07-16T03:12:21.842138Z",
     "iopub.status.idle": "2020-07-16T03:12:21.951556Z",
     "shell.execute_reply": "2020-07-16T03:12:21.949709Z"
    },
    "papermill": {
     "duration": 0.12897,
     "end_time": "2020-07-16T03:12:21.951813",
     "exception": false,
     "start_time": "2020-07-16T03:12:21.822843",
     "status": "completed"
    },
    "tags": [
     "injected-parameters"
    ]
   },
   "outputs": [],
   "source": [
    "# Parameters\n",
    "model_kw = {\"criterion\": \"entropy\"}\n",
    "allowed_windings = [0, 1]\n",
    "val_split = 0.9\n",
    "features_to_use = [0, 1, 3, 50]\n",
    "shuffle_features = False\n",
    "n_experiments = 100\n",
    "start_n = 0\n",
    "fit_params = None\n",
    "shuffle_rows = True\n",
    "pred_params = None\n",
    "random_features = False\n",
    "store_in_lists = False\n",
    "save_eigenvector = True\n",
    "save_hamiltonian = True\n",
    "save_accuracy = True\n",
    "save_models = True\n",
    "csv_path = \"/home/rio/ssh_csvs/ssh1/periodic_100_6561.csv\"\n",
    "model_name = \"DecisionTreeClassifier\"\n",
    "simulation_dir = \"/home/rio/ssh_simulations/ssh1/periodic_5th_scenario_100_6561\"\n",
    "random_state = 1846483\n",
    "fourier_features_to_use = [15, 18, 28, 30]\n",
    "fourier_mode = \"dct\"\n",
    "fourier_real = None\n",
    "fourier_normalize = False\n",
    "fourier_fillna = False\n"
   ]
  },
  {
   "cell_type": "code",
   "execution_count": 4,
   "metadata": {
    "execution": {
     "iopub.execute_input": "2020-07-16T03:12:22.027140Z",
     "iopub.status.busy": "2020-07-16T03:12:22.026485Z",
     "iopub.status.idle": "2020-07-16T03:12:27.388545Z",
     "shell.execute_reply": "2020-07-16T03:12:27.388217Z"
    },
    "papermill": {
     "duration": 5.383094,
     "end_time": "2020-07-16T03:12:27.388597",
     "exception": false,
     "start_time": "2020-07-16T03:12:22.005503",
     "status": "completed"
    },
    "tags": []
   },
   "outputs": [
    {
     "name": "stdout",
     "output_type": "stream",
     "text": [
      "Info on all data: \n",
      "\n",
      "<class 'pandas.core.frame.DataFrame'>\n",
      "Int64Index: 656100 entries, 0 to 656099\n",
      "Columns: 108 entries, id to feat99\n",
      "dtypes: float64(103), int32(3), object(2)\n",
      "memory usage: 538.1+ MB\n",
      "CPU times: user 5.3 s, sys: 442 ms, total: 5.74 s\n",
      "Wall time: 5.33 s\n"
     ]
    },
    {
     "data": {
      "text/html": [
       "<div>\n",
       "<style scoped>\n",
       "    .dataframe tbody tr th:only-of-type {\n",
       "        vertical-align: middle;\n",
       "    }\n",
       "\n",
       "    .dataframe tbody tr th {\n",
       "        vertical-align: top;\n",
       "    }\n",
       "\n",
       "    .dataframe thead th {\n",
       "        text-align: right;\n",
       "    }\n",
       "</style>\n",
       "<table border=\"1\" class=\"dataframe\">\n",
       "  <thead>\n",
       "    <tr style=\"text-align: right;\">\n",
       "      <th></th>\n",
       "      <th>id</th>\n",
       "      <th>path</th>\n",
       "      <th>t1</th>\n",
       "      <th>t2</th>\n",
       "      <th>winding</th>\n",
       "      <th>phase</th>\n",
       "      <th>pred_phase</th>\n",
       "      <th>type_of</th>\n",
       "      <th>feat0</th>\n",
       "      <th>feat1</th>\n",
       "      <th>...</th>\n",
       "      <th>feat90</th>\n",
       "      <th>feat91</th>\n",
       "      <th>feat92</th>\n",
       "      <th>feat93</th>\n",
       "      <th>feat94</th>\n",
       "      <th>feat95</th>\n",
       "      <th>feat96</th>\n",
       "      <th>feat97</th>\n",
       "      <th>feat98</th>\n",
       "      <th>feat99</th>\n",
       "    </tr>\n",
       "  </thead>\n",
       "  <tbody>\n",
       "    <tr>\n",
       "      <th>0</th>\n",
       "      <td>0</td>\n",
       "      <td>H_-2_-2_0.509296.dat</td>\n",
       "      <td>-2.0</td>\n",
       "      <td>-2.0</td>\n",
       "      <td>0.509296</td>\n",
       "      <td>999</td>\n",
       "      <td>666</td>\n",
       "      <td>test</td>\n",
       "      <td>0.100000</td>\n",
       "      <td>0.100000</td>\n",
       "      <td>...</td>\n",
       "      <td>0.100000</td>\n",
       "      <td>0.100000</td>\n",
       "      <td>0.100000</td>\n",
       "      <td>0.100000</td>\n",
       "      <td>0.100000</td>\n",
       "      <td>0.100000</td>\n",
       "      <td>0.100000</td>\n",
       "      <td>0.100000</td>\n",
       "      <td>0.100000</td>\n",
       "      <td>0.100000</td>\n",
       "    </tr>\n",
       "    <tr>\n",
       "      <th>1</th>\n",
       "      <td>0</td>\n",
       "      <td>H_-2_-2_0.509296.dat</td>\n",
       "      <td>-2.0</td>\n",
       "      <td>-2.0</td>\n",
       "      <td>0.509296</td>\n",
       "      <td>999</td>\n",
       "      <td>666</td>\n",
       "      <td>test</td>\n",
       "      <td>0.141421</td>\n",
       "      <td>0.141142</td>\n",
       "      <td>...</td>\n",
       "      <td>0.114412</td>\n",
       "      <td>0.108967</td>\n",
       "      <td>0.123928</td>\n",
       "      <td>0.119406</td>\n",
       "      <td>0.131490</td>\n",
       "      <td>0.127962</td>\n",
       "      <td>0.136978</td>\n",
       "      <td>0.134500</td>\n",
       "      <td>0.140306</td>\n",
       "      <td>0.138916</td>\n",
       "    </tr>\n",
       "    <tr>\n",
       "      <th>2</th>\n",
       "      <td>0</td>\n",
       "      <td>H_-2_-2_0.509296.dat</td>\n",
       "      <td>-2.0</td>\n",
       "      <td>-2.0</td>\n",
       "      <td>0.509296</td>\n",
       "      <td>999</td>\n",
       "      <td>666</td>\n",
       "      <td>test</td>\n",
       "      <td>0.141421</td>\n",
       "      <td>0.140306</td>\n",
       "      <td>...</td>\n",
       "      <td>0.043702</td>\n",
       "      <td>0.026500</td>\n",
       "      <td>0.075777</td>\n",
       "      <td>0.060214</td>\n",
       "      <td>0.103092</td>\n",
       "      <td>0.090145</td>\n",
       "      <td>0.123928</td>\n",
       "      <td>0.114412</td>\n",
       "      <td>0.136978</td>\n",
       "      <td>0.131490</td>\n",
       "    </tr>\n",
       "    <tr>\n",
       "      <th>3</th>\n",
       "      <td>0</td>\n",
       "      <td>H_-2_-2_0.509296.dat</td>\n",
       "      <td>-2.0</td>\n",
       "      <td>-2.0</td>\n",
       "      <td>0.509296</td>\n",
       "      <td>999</td>\n",
       "      <td>666</td>\n",
       "      <td>test</td>\n",
       "      <td>-0.100000</td>\n",
       "      <td>0.100000</td>\n",
       "      <td>...</td>\n",
       "      <td>-0.100000</td>\n",
       "      <td>0.100000</td>\n",
       "      <td>-0.100000</td>\n",
       "      <td>0.100000</td>\n",
       "      <td>-0.100000</td>\n",
       "      <td>0.100000</td>\n",
       "      <td>-0.100000</td>\n",
       "      <td>0.100000</td>\n",
       "      <td>-0.100000</td>\n",
       "      <td>0.100000</td>\n",
       "    </tr>\n",
       "    <tr>\n",
       "      <th>4</th>\n",
       "      <td>0</td>\n",
       "      <td>H_-2_-2_0.509296.dat</td>\n",
       "      <td>-2.0</td>\n",
       "      <td>-2.0</td>\n",
       "      <td>0.509296</td>\n",
       "      <td>999</td>\n",
       "      <td>666</td>\n",
       "      <td>test</td>\n",
       "      <td>0.000509</td>\n",
       "      <td>-0.008372</td>\n",
       "      <td>...</td>\n",
       "      <td>-0.082713</td>\n",
       "      <td>-0.089753</td>\n",
       "      <td>-0.067684</td>\n",
       "      <td>-0.075347</td>\n",
       "      <td>-0.051587</td>\n",
       "      <td>-0.059753</td>\n",
       "      <td>-0.034677</td>\n",
       "      <td>-0.043217</td>\n",
       "      <td>-0.017220</td>\n",
       "      <td>-0.026000</td>\n",
       "    </tr>\n",
       "  </tbody>\n",
       "</table>\n",
       "<p>5 rows × 108 columns</p>\n",
       "</div>"
      ],
      "text/plain": [
       "   id                  path   t1   t2   winding  phase  pred_phase type_of  \\\n",
       "0   0  H_-2_-2_0.509296.dat -2.0 -2.0  0.509296    999         666    test   \n",
       "1   0  H_-2_-2_0.509296.dat -2.0 -2.0  0.509296    999         666    test   \n",
       "2   0  H_-2_-2_0.509296.dat -2.0 -2.0  0.509296    999         666    test   \n",
       "3   0  H_-2_-2_0.509296.dat -2.0 -2.0  0.509296    999         666    test   \n",
       "4   0  H_-2_-2_0.509296.dat -2.0 -2.0  0.509296    999         666    test   \n",
       "\n",
       "      feat0     feat1  ...    feat90    feat91    feat92    feat93    feat94  \\\n",
       "0  0.100000  0.100000  ...  0.100000  0.100000  0.100000  0.100000  0.100000   \n",
       "1  0.141421  0.141142  ...  0.114412  0.108967  0.123928  0.119406  0.131490   \n",
       "2  0.141421  0.140306  ...  0.043702  0.026500  0.075777  0.060214  0.103092   \n",
       "3 -0.100000  0.100000  ... -0.100000  0.100000 -0.100000  0.100000 -0.100000   \n",
       "4  0.000509 -0.008372  ... -0.082713 -0.089753 -0.067684 -0.075347 -0.051587   \n",
       "\n",
       "     feat95    feat96    feat97    feat98    feat99  \n",
       "0  0.100000  0.100000  0.100000  0.100000  0.100000  \n",
       "1  0.127962  0.136978  0.134500  0.140306  0.138916  \n",
       "2  0.090145  0.123928  0.114412  0.136978  0.131490  \n",
       "3  0.100000 -0.100000  0.100000 -0.100000  0.100000  \n",
       "4 -0.059753 -0.034677 -0.043217 -0.017220 -0.026000  \n",
       "\n",
       "[5 rows x 108 columns]"
      ]
     },
     "execution_count": 4,
     "metadata": {},
     "output_type": "execute_result"
    }
   ],
   "source": [
    "%%time\n",
    "#Starting an instance of Simulation with a decision tree\n",
    "model = DecisionTreeClassifier(criterion=\"entropy\")\n",
    "#dict_args = {\"csv_path\":csv_path, \"model\":model, \"allowed_windings\":allowed_windings,\\\n",
    "#             \"simulation_dir\":simulation_dir, \"val_split\":val_split, \"features_to_use\":features_to_use,\\\n",
    "#            \"shuffle_features\":shuffle_features, \"random_state\":random_state}\n",
    "simulation = Simulation(csv_path,model_name,model_kw,allowed_windings,simulation_dir,val_split,features_to_use,\\\n",
    "                       shuffle_features,fourier_mode,fourier_features_to_use,fourier_real,\\\n",
    "                       fourier_normalize, fourier_fillna , random_state)\n",
    "#simulation = Simulation(**dict_args)\n",
    "\n",
    "\n",
    "#(self, csv_path, model_name, model_kw, allowed_windings, simulation_dir = None, val_split = 0, \n",
    "# features_to_use = None, shuffle_features = False, fourier_mode=None, fourier_features_to_use=None,\n",
    "# fourier_real = False, fourier_normalize = False, Fourier_fillna=False, random_state = None):\n",
    "\n",
    "\n",
    "\n",
    "print(\"Info on all data: \\n\")\n",
    "simulation.dataframe.info()\n",
    "simulation.dataframe.head()"
   ]
  },
  {
   "cell_type": "markdown",
   "metadata": {
    "papermill": {
     "duration": 0.089223,
     "end_time": "2020-07-16T03:12:27.495414",
     "exception": false,
     "start_time": "2020-07-16T03:12:27.406191",
     "status": "completed"
    },
    "tags": []
   },
   "source": [
    "####  Fourier features"
   ]
  },
  {
   "cell_type": "code",
   "execution_count": 5,
   "metadata": {
    "execution": {
     "iopub.execute_input": "2020-07-16T03:12:27.572220Z",
     "iopub.status.busy": "2020-07-16T03:12:27.571870Z",
     "iopub.status.idle": "2020-07-16T03:12:27.653039Z",
     "shell.execute_reply": "2020-07-16T03:12:27.652767Z"
    },
    "papermill": {
     "duration": 0.10283,
     "end_time": "2020-07-16T03:12:27.653093",
     "exception": false,
     "start_time": "2020-07-16T03:12:27.550263",
     "status": "completed"
    },
    "tags": []
   },
   "outputs": [
    {
     "name": "stdout",
     "output_type": "stream",
     "text": [
      "<class 'pandas.core.frame.DataFrame'>\n",
      "Int64Index: 656100 entries, 0 to 656099\n",
      "Data columns (total 12 columns):\n",
      " #   Column      Non-Null Count   Dtype  \n",
      "---  ------      --------------   -----  \n",
      " 0   id          656100 non-null  int32  \n",
      " 1   path        656100 non-null  object \n",
      " 2   t1          656100 non-null  float64\n",
      " 3   t2          656100 non-null  float64\n",
      " 4   winding     656100 non-null  float64\n",
      " 5   phase       656100 non-null  int32  \n",
      " 6   pred_phase  656100 non-null  int32  \n",
      " 7   type_of     656100 non-null  object \n",
      " 8   dct_feat15  656100 non-null  float64\n",
      " 9   dct_feat18  656100 non-null  float64\n",
      " 10  dct_feat28  656100 non-null  float64\n",
      " 11  dct_feat30  656100 non-null  float64\n",
      "dtypes: float64(7), int32(3), object(2)\n",
      "memory usage: 57.6+ MB\n",
      "CPU times: user 71 ms, sys: 0 ns, total: 71 ms\n",
      "Wall time: 70.3 ms\n"
     ]
    }
   ],
   "source": [
    "%%time\n",
    "#simulation.generate_fourier_df()\n",
    "if simulation.fourier_mode is not None:\n",
    "    simulation.fourier_dataframe.info() \n",
    "    simulation.fourier_dataframe.sample(15)\n"
   ]
  },
  {
   "cell_type": "code",
   "execution_count": 6,
   "metadata": {
    "execution": {
     "iopub.execute_input": "2020-07-16T03:12:27.691906Z",
     "iopub.status.busy": "2020-07-16T03:12:27.691373Z",
     "iopub.status.idle": "2020-07-16T03:12:27.703664Z",
     "shell.execute_reply": "2020-07-16T03:12:27.703344Z"
    },
    "papermill": {
     "duration": 0.03271,
     "end_time": "2020-07-16T03:12:27.703715",
     "exception": false,
     "start_time": "2020-07-16T03:12:27.671005",
     "status": "completed"
    },
    "tags": []
   },
   "outputs": [
    {
     "name": "stdout",
     "output_type": "stream",
     "text": [
      "features_to_use: \n",
      "\n",
      "\n",
      "[0, 1, 3, 50]\n",
      "Number of real space features:\n",
      "\n",
      "\n",
      "4\n",
      "\n",
      "\n",
      "fourier_features: \n",
      "\n",
      "\n",
      "['dct_feat15', 'dct_feat18', 'dct_feat28', 'dct_feat30']\n",
      "\n",
      "\n",
      "Number of Fourier features: \n",
      "\n",
      "\n",
      "4\n",
      "\n",
      "\n",
      "Fourier operator: \n",
      "[[ 1.          2.          2.          1.        ]\n",
      " [ 0.58778525  0.85155858 -0.37476263 -0.30901699]\n",
      " [-0.95105652 -1.93716632  1.07165359  0.80901699]\n",
      " [-1.          2.          2.          1.        ]]\n",
      "\n",
      "\n",
      "Shape of Fourier operator: \n",
      "(4, 4)\n"
     ]
    }
   ],
   "source": [
    "print(\"features_to_use: \")\n",
    "print(\"\\n\")\n",
    "print(simulation.features_to_use)\n",
    "if simulation.features_to_use is not None:\n",
    "    print(\"Number of real space features:\")\n",
    "    print(\"\\n\")\n",
    "    print(len(simulation.features_to_use))\n",
    "print(\"\\n\")\n",
    "print(\"fourier_features: \")\n",
    "print(\"\\n\")\n",
    "print(simulation.fourier_features)\n",
    "print(\"\\n\")\n",
    "if simulation.fourier_features is not None:\n",
    "    print(\"Number of Fourier features: \")\n",
    "    print(\"\\n\")\n",
    "    print(len(simulation.fourier_features))\n",
    "print(\"\\n\")\n",
    "print(\"Fourier operator: \")\n",
    "print(simulation.fourier_operator)\n",
    "print(\"\\n\")\n",
    "if simulation.fourier_operator is not None:\n",
    "    print(\"Shape of Fourier operator: \")\n",
    "    print(simulation.fourier_operator.shape)"
   ]
  },
  {
   "cell_type": "code",
   "execution_count": 7,
   "metadata": {
    "execution": {
     "iopub.execute_input": "2020-07-16T03:12:27.741294Z",
     "iopub.status.busy": "2020-07-16T03:12:27.740892Z",
     "iopub.status.idle": "2020-07-16T03:12:27.787262Z",
     "shell.execute_reply": "2020-07-16T03:12:27.787584Z"
    },
    "papermill": {
     "duration": 0.066098,
     "end_time": "2020-07-16T03:12:27.787673",
     "exception": false,
     "start_time": "2020-07-16T03:12:27.721575",
     "status": "completed"
    },
    "tags": []
   },
   "outputs": [],
   "source": [
    "#a = np.array([1+1j,2+3j,4+8j])\n",
    "#np.imag(a)"
   ]
  },
  {
   "cell_type": "code",
   "execution_count": 8,
   "metadata": {
    "execution": {
     "iopub.execute_input": "2020-07-16T03:12:27.831205Z",
     "iopub.status.busy": "2020-07-16T03:12:27.830889Z",
     "iopub.status.idle": "2020-07-16T03:12:27.875615Z",
     "shell.execute_reply": "2020-07-16T03:12:27.875191Z"
    },
    "papermill": {
     "duration": 0.065583,
     "end_time": "2020-07-16T03:12:27.875681",
     "exception": false,
     "start_time": "2020-07-16T03:12:27.810098",
     "status": "completed"
    },
    "tags": []
   },
   "outputs": [],
   "source": [
    "#plt.plot(np.imag(simulation.fourier_operator[:,0]))"
   ]
  },
  {
   "cell_type": "code",
   "execution_count": 9,
   "metadata": {
    "execution": {
     "iopub.execute_input": "2020-07-16T03:12:27.920646Z",
     "iopub.status.busy": "2020-07-16T03:12:27.920328Z",
     "iopub.status.idle": "2020-07-16T03:12:27.940664Z",
     "shell.execute_reply": "2020-07-16T03:12:27.940317Z"
    },
    "papermill": {
     "duration": 0.04152,
     "end_time": "2020-07-16T03:12:27.940719",
     "exception": false,
     "start_time": "2020-07-16T03:12:27.899199",
     "status": "completed"
    },
    "tags": []
   },
   "outputs": [],
   "source": [
    "#np.sin(np.pi/(50))*2"
   ]
  },
  {
   "cell_type": "code",
   "execution_count": 10,
   "metadata": {
    "execution": {
     "iopub.execute_input": "2020-07-16T03:12:27.978607Z",
     "iopub.status.busy": "2020-07-16T03:12:27.978302Z",
     "iopub.status.idle": "2020-07-16T03:12:28.038828Z",
     "shell.execute_reply": "2020-07-16T03:12:28.038204Z"
    },
    "papermill": {
     "duration": 0.080056,
     "end_time": "2020-07-16T03:12:28.038924",
     "exception": false,
     "start_time": "2020-07-16T03:12:27.958868",
     "status": "completed"
    },
    "tags": []
   },
   "outputs": [],
   "source": [
    "#2*np.sin(np.pi/50*49)"
   ]
  },
  {
   "cell_type": "code",
   "execution_count": 11,
   "metadata": {
    "execution": {
     "iopub.execute_input": "2020-07-16T03:12:28.098860Z",
     "iopub.status.busy": "2020-07-16T03:12:28.098547Z",
     "iopub.status.idle": "2020-07-16T03:12:28.108017Z",
     "shell.execute_reply": "2020-07-16T03:12:28.108343Z"
    },
    "papermill": {
     "duration": 0.032984,
     "end_time": "2020-07-16T03:12:28.108430",
     "exception": false,
     "start_time": "2020-07-16T03:12:28.075446",
     "status": "completed"
    },
    "tags": []
   },
   "outputs": [],
   "source": [
    "#simulation.dataframe.iloc[331456,:]"
   ]
  },
  {
   "cell_type": "code",
   "execution_count": 12,
   "metadata": {
    "execution": {
     "iopub.execute_input": "2020-07-16T03:12:28.145648Z",
     "iopub.status.busy": "2020-07-16T03:12:28.145341Z",
     "iopub.status.idle": "2020-07-16T03:12:28.165584Z",
     "shell.execute_reply": "2020-07-16T03:12:28.165851Z"
    },
    "papermill": {
     "duration": 0.039858,
     "end_time": "2020-07-16T03:12:28.165924",
     "exception": false,
     "start_time": "2020-07-16T03:12:28.126066",
     "status": "completed"
    },
    "tags": []
   },
   "outputs": [],
   "source": [
    "#for ix, obj in enumerate(simulation.dataframe.iloc[331456,:].values):\n",
    "#    print(ix,obj)"
   ]
  },
  {
   "cell_type": "code",
   "execution_count": 13,
   "metadata": {
    "execution": {
     "iopub.execute_input": "2020-07-16T03:12:28.203753Z",
     "iopub.status.busy": "2020-07-16T03:12:28.203417Z",
     "iopub.status.idle": "2020-07-16T03:12:28.279026Z",
     "shell.execute_reply": "2020-07-16T03:12:28.277282Z"
    },
    "papermill": {
     "duration": 0.095316,
     "end_time": "2020-07-16T03:12:28.279280",
     "exception": false,
     "start_time": "2020-07-16T03:12:28.183964",
     "status": "completed"
    },
    "tags": []
   },
   "outputs": [],
   "source": [
    "#simulation.fourier_engineered_dataframe.dct_feat0"
   ]
  },
  {
   "cell_type": "code",
   "execution_count": 14,
   "metadata": {
    "execution": {
     "iopub.execute_input": "2020-07-16T03:12:28.352141Z",
     "iopub.status.busy": "2020-07-16T03:12:28.351837Z",
     "iopub.status.idle": "2020-07-16T03:12:28.361058Z",
     "shell.execute_reply": "2020-07-16T03:12:28.361360Z"
    },
    "papermill": {
     "duration": 0.030751,
     "end_time": "2020-07-16T03:12:28.361428",
     "exception": false,
     "start_time": "2020-07-16T03:12:28.330677",
     "status": "completed"
    },
    "tags": []
   },
   "outputs": [],
   "source": [
    "#simulation.features"
   ]
  },
  {
   "cell_type": "code",
   "execution_count": 15,
   "metadata": {
    "execution": {
     "iopub.execute_input": "2020-07-16T03:12:28.399283Z",
     "iopub.status.busy": "2020-07-16T03:12:28.398978Z",
     "iopub.status.idle": "2020-07-16T03:12:28.462301Z",
     "shell.execute_reply": "2020-07-16T03:12:28.460529Z"
    },
    "papermill": {
     "duration": 0.083025,
     "end_time": "2020-07-16T03:12:28.462560",
     "exception": false,
     "start_time": "2020-07-16T03:12:28.379535",
     "status": "completed"
    },
    "tags": []
   },
   "outputs": [],
   "source": [
    "#simulation.fourier_matrix"
   ]
  },
  {
   "cell_type": "code",
   "execution_count": 16,
   "metadata": {
    "execution": {
     "iopub.execute_input": "2020-07-16T03:12:28.533204Z",
     "iopub.status.busy": "2020-07-16T03:12:28.532895Z",
     "iopub.status.idle": "2020-07-16T03:12:28.542462Z",
     "shell.execute_reply": "2020-07-16T03:12:28.542139Z"
    },
    "papermill": {
     "duration": 0.03068,
     "end_time": "2020-07-16T03:12:28.542515",
     "exception": false,
     "start_time": "2020-07-16T03:12:28.511835",
     "status": "completed"
    },
    "tags": []
   },
   "outputs": [],
   "source": [
    "#1/simulation.n_features*simulation.dataframe.loc[:,simulation.features].sum(axis=1)"
   ]
  },
  {
   "cell_type": "code",
   "execution_count": 17,
   "metadata": {
    "execution": {
     "iopub.execute_input": "2020-07-16T03:12:28.580657Z",
     "iopub.status.busy": "2020-07-16T03:12:28.580336Z",
     "iopub.status.idle": "2020-07-16T03:12:28.637297Z",
     "shell.execute_reply": "2020-07-16T03:12:28.635434Z"
    },
    "papermill": {
     "duration": 0.076721,
     "end_time": "2020-07-16T03:12:28.637556",
     "exception": false,
     "start_time": "2020-07-16T03:12:28.560835",
     "status": "completed"
    },
    "tags": []
   },
   "outputs": [],
   "source": [
    "#df_2 = simulation.fourier_engineered_dataframe[simulation.fourier_engineered_dataframe.phase==2]\n",
    "#df_2.describe()"
   ]
  },
  {
   "cell_type": "code",
   "execution_count": 18,
   "metadata": {
    "execution": {
     "iopub.execute_input": "2020-07-16T03:12:28.708272Z",
     "iopub.status.busy": "2020-07-16T03:12:28.707962Z",
     "iopub.status.idle": "2020-07-16T03:12:28.717226Z",
     "shell.execute_reply": "2020-07-16T03:12:28.717483Z"
    },
    "papermill": {
     "duration": 0.030699,
     "end_time": "2020-07-16T03:12:28.717553",
     "exception": false,
     "start_time": "2020-07-16T03:12:28.686854",
     "status": "completed"
    },
    "tags": []
   },
   "outputs": [],
   "source": [
    "#df_1 = simulation.fourier_engineered_dataframe[simulation.fourier_engineered_dataframe.phase==1]\n",
    "#df_1.describe()"
   ]
  },
  {
   "cell_type": "code",
   "execution_count": 19,
   "metadata": {
    "execution": {
     "iopub.execute_input": "2020-07-16T03:12:28.756018Z",
     "iopub.status.busy": "2020-07-16T03:12:28.755704Z",
     "iopub.status.idle": "2020-07-16T03:12:28.818878Z",
     "shell.execute_reply": "2020-07-16T03:12:28.820279Z"
    },
    "papermill": {
     "duration": 0.084755,
     "end_time": "2020-07-16T03:12:28.820633",
     "exception": false,
     "start_time": "2020-07-16T03:12:28.735878",
     "status": "completed"
    },
    "tags": []
   },
   "outputs": [],
   "source": [
    "#df_0 = simulation.fourier_engineered_dataframe[simulation.fourier_engineered_dataframe.phase==0]\n",
    "#df_0.describe()"
   ]
  },
  {
   "cell_type": "code",
   "execution_count": 20,
   "metadata": {
    "execution": {
     "iopub.execute_input": "2020-07-16T03:12:28.896976Z",
     "iopub.status.busy": "2020-07-16T03:12:28.896662Z",
     "iopub.status.idle": "2020-07-16T03:12:28.905885Z",
     "shell.execute_reply": "2020-07-16T03:12:28.906142Z"
    },
    "papermill": {
     "duration": 0.031169,
     "end_time": "2020-07-16T03:12:28.906212",
     "exception": false,
     "start_time": "2020-07-16T03:12:28.875043",
     "status": "completed"
    },
    "tags": []
   },
   "outputs": [],
   "source": [
    "#plt.figure(figsize=(10,10))\n",
    "#plt.scatter(df_1.fourier_feat0,df_1.fourier_feat2)\n",
    "#plt.scatter(df_0.fourier_feat0,df_0.fourier_feat2,alpha=0.4)"
   ]
  },
  {
   "cell_type": "code",
   "execution_count": 21,
   "metadata": {
    "execution": {
     "iopub.execute_input": "2020-07-16T03:12:28.946699Z",
     "iopub.status.busy": "2020-07-16T03:12:28.946392Z",
     "iopub.status.idle": "2020-07-16T03:12:29.004584Z",
     "shell.execute_reply": "2020-07-16T03:12:29.002805Z"
    },
    "papermill": {
     "duration": 0.078271,
     "end_time": "2020-07-16T03:12:29.004841",
     "exception": false,
     "start_time": "2020-07-16T03:12:28.926570",
     "status": "completed"
    },
    "tags": []
   },
   "outputs": [],
   "source": [
    "#plt.scatter(df_0.fourier_feat0,df_0.fourier_feat2,alpha=0.4)"
   ]
  },
  {
   "cell_type": "code",
   "execution_count": 22,
   "metadata": {
    "execution": {
     "iopub.execute_input": "2020-07-16T03:12:29.078030Z",
     "iopub.status.busy": "2020-07-16T03:12:29.077722Z",
     "iopub.status.idle": "2020-07-16T03:12:29.086874Z",
     "shell.execute_reply": "2020-07-16T03:12:29.087178Z"
    },
    "papermill": {
     "duration": 0.030896,
     "end_time": "2020-07-16T03:12:29.087243",
     "exception": false,
     "start_time": "2020-07-16T03:12:29.056347",
     "status": "completed"
    },
    "tags": []
   },
   "outputs": [],
   "source": [
    "#plt.scatter(df_2.fourier_feat0,df_2.fourier_feat2)"
   ]
  },
  {
   "cell_type": "code",
   "execution_count": 23,
   "metadata": {
    "execution": {
     "iopub.execute_input": "2020-07-16T03:12:29.126173Z",
     "iopub.status.busy": "2020-07-16T03:12:29.125849Z",
     "iopub.status.idle": "2020-07-16T03:12:29.179787Z",
     "shell.execute_reply": "2020-07-16T03:12:29.179288Z"
    },
    "papermill": {
     "duration": 0.074159,
     "end_time": "2020-07-16T03:12:29.179865",
     "exception": false,
     "start_time": "2020-07-16T03:12:29.105706",
     "status": "completed"
    },
    "tags": []
   },
   "outputs": [],
   "source": [
    "#df_1.hist(figsize=(15,15))"
   ]
  },
  {
   "cell_type": "code",
   "execution_count": 24,
   "metadata": {
    "execution": {
     "iopub.execute_input": "2020-07-16T03:12:29.218950Z",
     "iopub.status.busy": "2020-07-16T03:12:29.218641Z",
     "iopub.status.idle": "2020-07-16T03:12:29.278717Z",
     "shell.execute_reply": "2020-07-16T03:12:29.276963Z"
    },
    "papermill": {
     "duration": 0.079733,
     "end_time": "2020-07-16T03:12:29.278975",
     "exception": false,
     "start_time": "2020-07-16T03:12:29.199242",
     "status": "completed"
    },
    "tags": []
   },
   "outputs": [],
   "source": [
    "#df_0.hist(figsize=(15,15))"
   ]
  },
  {
   "cell_type": "markdown",
   "metadata": {
    "papermill": {
     "duration": 0.020573,
     "end_time": "2020-07-16T03:12:29.352887",
     "exception": false,
     "start_time": "2020-07-16T03:12:29.332314",
     "status": "completed"
    },
    "tags": []
   },
   "source": [
    "#### Checking initialization"
   ]
  },
  {
   "cell_type": "code",
   "execution_count": 25,
   "metadata": {
    "execution": {
     "iopub.execute_input": "2020-07-16T03:12:29.391562Z",
     "iopub.status.busy": "2020-07-16T03:12:29.391246Z",
     "iopub.status.idle": "2020-07-16T03:12:29.401063Z",
     "shell.execute_reply": "2020-07-16T03:12:29.401364Z"
    },
    "papermill": {
     "duration": 0.029923,
     "end_time": "2020-07-16T03:12:29.401428",
     "exception": false,
     "start_time": "2020-07-16T03:12:29.371505",
     "status": "completed"
    },
    "tags": []
   },
   "outputs": [
    {
     "name": "stdout",
     "output_type": "stream",
     "text": [
      "n_features:  100\n",
      "n_hamiltonians:  6561\n",
      "n_ts:  2\n",
      "CPU times: user 144 µs, sys: 17 µs, total: 161 µs\n",
      "Wall time: 111 µs\n"
     ]
    }
   ],
   "source": [
    "%%time\n",
    "n_features = simulation.n_features\n",
    "n_hamiltonians = simulation.n_hamiltonians\n",
    "n_ts = simulation.n_ts\n",
    "\n",
    "print(\"n_features: \", n_features)\n",
    "print(\"n_hamiltonians: \", n_hamiltonians)\n",
    "print(\"n_ts: \", n_ts)"
   ]
  },
  {
   "cell_type": "code",
   "execution_count": 26,
   "metadata": {
    "execution": {
     "iopub.execute_input": "2020-07-16T03:12:29.440508Z",
     "iopub.status.busy": "2020-07-16T03:12:29.440177Z",
     "iopub.status.idle": "2020-07-16T03:12:29.707783Z",
     "shell.execute_reply": "2020-07-16T03:12:29.707511Z"
    },
    "papermill": {
     "duration": 0.287353,
     "end_time": "2020-07-16T03:12:29.707837",
     "exception": false,
     "start_time": "2020-07-16T03:12:29.420484",
     "status": "completed"
    },
    "tags": []
   },
   "outputs": [
    {
     "name": "stdout",
     "output_type": "stream",
     "text": [
      "% train:  0.846822130772748\n",
      "% val:  0.0\n",
      "% test:  0.15317786922725193\n",
      "% train + val + test:  1.0\n",
      "\n",
      "\n",
      "number of train hamiltonians:  5556\n",
      "number of val hamiltonians:  0\n",
      "number of test hamiltonians:  1005\n",
      "total number of hamiltonians:  6561\n",
      "\n",
      "\n",
      "train ids:  [9, 10, 11, 12, 13, 14, 15, 16, 17, 18, 19, 20, 21, 22, 23, 24, 25, 26, 27, 28, 29, 30, 31, 32, 33, 34, 35, 36, 37, 38, 39, 40, 41, 42, 43, 44, 45, 46, 47, 48, 49, 50, 51, 52, 53, 54, 55, 56, 57, 58, 59, 60, 61, 62, 63, 64, 65, 66, 67, 68, 69, 70, 71, 72, 73, 74, 75, 76, 77, 91, 92, 93, 94, 95, 96, 97, 98, 99, 100, 101, 102, 103, 104, 105, 106, 107, 108, 109, 110, 111, 112, 113, 114, 115, 116, 117, 118, 119, 120, 121, 122, 123, 124, 125, 126, 127, 128, 129, 130, 131, 132, 133, 134, 135, 136, 137, 138, 139, 140, 141, 142, 143, 144, 145, 146, 147, 148, 149, 150, 151, 152, 153, 154, 155, 156, 157, 172, 173, 174, 175, 176, 177, 178, 179, 180, 181, 182, 183, 184, 185, 186, 187, 188, 189, 190, 191, 192, 193, 194, 195, 196, 197, 198, 199, 200, 201, 202, 203, 204, 205, 206, 207, 208, 209, 210, 211, 212, 213, 214, 215, 216, 217, 218, 219, 220, 221, 222, 223, 224, 225, 226, 227, 228, 229, 230, 231, 232, 233, 234, 235, 236, 237, 254, 255, 256, 257, 258, 259, 260, 261, 262, 263, 264, 265, 266, 267, 268, 269, 270, 271, 272, 273, 274, 275, 276, 277, 278, 279, 280, 281, 282, 283, 284, 285, 286, 287, 288, 289, 290, 291, 292, 293, 294, 295, 296, 297, 298, 299, 300, 301, 302, 303, 304, 305, 306, 307, 308, 309, 310, 311, 312, 313, 314, 315, 316, 317, 323, 336, 337, 338, 339, 340, 341, 342, 343, 344, 345, 346, 347, 348, 349, 350, 351, 352, 353, 354, 355, 356, 357, 358, 359, 360, 361, 362, 363, 364, 365, 366, 367, 368, 369, 370, 371, 372, 373, 374, 375, 376, 377, 378, 379, 380, 381, 382, 383, 384, 385, 386, 387, 388, 389, 390, 391, 392, 393, 394, 395, 396, 397, 403, 404, 418, 419, 420, 421, 422, 423, 424, 425, 426, 427, 428, 429, 430, 431, 432, 433, 434, 435, 436, 437, 438, 439, 440, 441, 442, 443, 444, 445, 446, 447, 448, 449, 450, 451, 452, 453, 454, 455, 456, 457, 458, 459, 460, 461, 462, 463, 464, 465, 466, 467, 468, 469, 470, 471, 472, 473, 474, 475, 476, 477, 483, 484, 485, 500, 501, 502, 503, 504, 505, 506, 507, 508, 509, 510, 511, 512, 513, 514, 515, 516, 517, 518, 519, 520, 521, 522, 523, 524, 525, 526, 527, 528, 529, 530, 531, 532, 533, 534, 535, 536, 537, 538, 539, 540, 541, 542, 543, 544, 545, 546, 547, 548, 549, 550, 551, 552, 553, 554, 555, 556, 557, 563, 564, 565, 566, 581, 582, 583, 584, 585, 586, 587, 588, 589, 590, 591, 592, 593, 594, 595, 596, 597, 598, 599, 600, 601, 602, 603, 604, 605, 606, 607, 608, 609, 610, 611, 612, 613, 614, 615, 616, 617, 618, 619, 620, 621, 622, 623, 624, 625, 626, 627, 628, 629, 630, 631, 632, 633, 634, 635, 636, 637, 643, 644, 645, 646, 647, 663, 664, 665, 666, 667, 668, 669, 670, 671, 672, 673, 674, 675, 676, 677, 678, 679, 680, 681, 682, 683, 684, 685, 686, 687, 688, 689, 690, 691, 692, 693, 694, 695, 696, 697, 698, 699, 700, 701, 702, 703, 704, 705, 706, 707, 708, 709, 710, 711, 712, 713, 714, 715, 716, 717, 723, 724, 725, 726, 727, 728, 745, 746, 747, 748, 749, 750, 751, 752, 753, 754, 755, 756, 757, 758, 759, 760, 761, 762, 763, 764, 765, 766, 767, 768, 769, 770, 771, 772, 773, 774, 775, 776, 777, 778, 779, 780, 781, 782, 783, 784, 785, 786, 787, 788, 789, 790, 791, 792, 793, 794, 795, 796, 797, 803, 804, 805, 806, 807, 808, 809, 827, 828, 829, 830, 831, 832, 833, 834, 835, 836, 837, 838, 839, 840, 841, 842, 843, 844, 845, 846, 847, 848, 849, 850, 851, 852, 853, 854, 855, 856, 857, 858, 859, 860, 861, 862, 863, 864, 865, 866, 867, 868, 869, 870, 871, 872, 873, 874, 875, 876, 877, 883, 884, 885, 886, 887, 888, 889, 890, 891, 909, 910, 911, 912, 913, 914, 915, 916, 917, 918, 919, 920, 921, 922, 923, 924, 925, 926, 927, 928, 929, 930, 931, 932, 933, 934, 935, 936, 937, 938, 939, 940, 941, 942, 943, 944, 945, 946, 947, 948, 949, 950, 951, 952, 953, 954, 955, 956, 957, 963, 964, 965, 966, 967, 968, 969, 970, 971, 972, 973, 990, 991, 992, 993, 994, 995, 996, 997, 998, 999, 1000, 1001, 1002, 1003, 1004, 1005, 1006, 1007, 1008, 1009, 1010, 1011, 1012, 1013, 1014, 1015, 1016, 1017, 1018, 1019, 1020, 1021, 1022, 1023, 1024, 1025, 1026, 1027, 1028, 1029, 1030, 1031, 1032, 1033, 1034, 1035, 1036, 1037, 1038, 1042, 1043, 1044, 1045, 1046, 1047, 1048, 1049, 1050, 1051, 1052, 1053, 1054, 1055, 1056, 1072, 1073, 1074, 1075, 1076, 1077, 1078, 1079, 1080, 1081, 1082, 1083, 1084, 1085, 1086, 1087, 1088, 1089, 1090, 1091, 1092, 1093, 1094, 1095, 1096, 1097, 1098, 1099, 1100, 1101, 1102, 1103, 1104, 1105, 1106, 1107, 1108, 1109, 1110, 1111, 1112, 1113, 1114, 1115, 1116, 1117, 1118, 1122, 1123, 1124, 1125, 1126, 1127, 1128, 1129, 1130, 1131, 1132, 1133, 1134, 1135, 1136, 1137, 1138, 1154, 1155, 1156, 1157, 1158, 1159, 1160, 1161, 1162, 1163, 1164, 1165, 1166, 1167, 1168, 1169, 1170, 1171, 1172, 1173, 1174, 1175, 1176, 1177, 1178, 1179, 1180, 1181, 1182, 1183, 1184, 1185, 1186, 1187, 1188, 1189, 1190, 1191, 1192, 1193, 1194, 1195, 1196, 1197, 1198, 1202, 1203, 1204, 1205, 1206, 1207, 1208, 1209, 1210, 1211, 1212, 1213, 1214, 1215, 1216, 1217, 1218, 1219, 1220, 1236, 1237, 1238, 1239, 1240, 1241, 1242, 1243, 1244, 1245, 1246, 1247, 1248, 1249, 1250, 1251, 1252, 1253, 1254, 1255, 1256, 1257, 1258, 1259, 1260, 1261, 1262, 1263, 1264, 1265, 1266, 1267, 1268, 1269, 1270, 1271, 1272, 1273, 1274, 1275, 1276, 1277, 1278, 1282, 1283, 1284, 1285, 1286, 1287, 1288, 1289, 1290, 1291, 1292, 1293, 1294, 1295, 1296, 1297, 1298, 1299, 1300, 1301, 1302, 1303, 1317, 1318, 1319, 1320, 1321, 1322, 1323, 1324, 1325, 1326, 1327, 1328, 1329, 1330, 1331, 1332, 1333, 1334, 1335, 1336, 1337, 1338, 1339, 1340, 1341, 1342, 1343, 1344, 1345, 1346, 1347, 1348, 1349, 1350, 1351, 1352, 1353, 1354, 1355, 1356, 1357, 1358, 1362, 1363, 1364, 1365, 1366, 1367, 1368, 1369, 1370, 1371, 1372, 1373, 1374, 1375, 1376, 1377, 1378, 1379, 1380, 1381, 1382, 1383, 1384, 1385, 1399, 1400, 1401, 1402, 1403, 1404, 1405, 1406, 1407, 1408, 1409, 1410, 1411, 1412, 1413, 1414, 1415, 1416, 1417, 1418, 1419, 1420, 1421, 1422, 1423, 1424, 1425, 1426, 1427, 1428, 1429, 1430, 1431, 1432, 1433, 1434, 1435, 1436, 1437, 1438, 1442, 1443, 1444, 1445, 1446, 1447, 1448, 1449, 1450, 1451, 1452, 1453, 1454, 1455, 1456, 1457, 1458, 1459, 1460, 1461, 1462, 1463, 1464, 1465, 1466, 1467, 1468, 1481, 1482, 1483, 1484, 1485, 1486, 1487, 1488, 1489, 1490, 1491, 1492, 1493, 1494, 1495, 1496, 1497, 1498, 1499, 1500, 1501, 1502, 1503, 1504, 1505, 1506, 1507, 1508, 1509, 1510, 1511, 1512, 1513, 1514, 1515, 1516, 1517, 1518, 1522, 1523, 1524, 1525, 1526, 1527, 1528, 1529, 1530, 1531, 1532, 1533, 1534, 1535, 1536, 1537, 1538, 1539, 1540, 1541, 1542, 1543, 1544, 1545, 1546, 1547, 1548, 1549, 1550, 1563, 1564, 1565, 1566, 1567, 1568, 1569, 1570, 1571, 1572, 1573, 1574, 1575, 1576, 1577, 1578, 1579, 1580, 1581, 1582, 1583, 1584, 1585, 1586, 1587, 1588, 1589, 1590, 1591, 1592, 1593, 1594, 1595, 1596, 1597, 1598, 1602, 1603, 1604, 1605, 1606, 1607, 1608, 1609, 1610, 1611, 1612, 1613, 1614, 1615, 1616, 1617, 1618, 1619, 1620, 1621, 1622, 1623, 1624, 1625, 1626, 1627, 1628, 1629, 1630, 1631, 1632, 1645, 1646, 1647, 1648, 1649, 1650, 1651, 1652, 1653, 1654, 1655, 1656, 1657, 1658, 1659, 1660, 1661, 1662, 1663, 1664, 1665, 1666, 1667, 1668, 1669, 1670, 1671, 1672, 1673, 1674, 1675, 1676, 1677, 1678, 1682, 1683, 1684, 1685, 1686, 1687, 1688, 1689, 1690, 1691, 1692, 1693, 1694, 1695, 1696, 1697, 1698, 1699, 1700, 1701, 1702, 1703, 1704, 1705, 1706, 1707, 1708, 1709, 1710, 1711, 1712, 1713, 1714, 1715, 1726, 1727, 1728, 1729, 1730, 1731, 1732, 1733, 1734, 1735, 1736, 1737, 1738, 1739, 1740, 1741, 1742, 1743, 1744, 1745, 1746, 1747, 1748, 1749, 1750, 1751, 1752, 1753, 1754, 1755, 1756, 1757, 1758, 1762, 1763, 1764, 1765, 1766, 1767, 1768, 1769, 1770, 1771, 1772, 1773, 1774, 1775, 1776, 1777, 1778, 1779, 1780, 1781, 1782, 1783, 1784, 1785, 1786, 1787, 1788, 1789, 1790, 1791, 1792, 1793, 1794, 1795, 1796, 1797, 1808, 1809, 1810, 1811, 1812, 1813, 1814, 1815, 1816, 1817, 1818, 1819, 1820, 1821, 1822, 1823, 1824, 1825, 1826, 1827, 1828, 1829, 1830, 1831, 1832, 1833, 1834, 1835, 1836, 1837, 1838, 1842, 1843, 1844, 1845, 1846, 1847, 1848, 1849, 1850, 1851, 1852, 1853, 1854, 1855, 1856, 1857, 1858, 1859, 1860, 1861, 1862, 1863, 1864, 1865, 1866, 1867, 1868, 1869, 1870, 1871, 1872, 1873, 1874, 1875, 1876, 1877, 1878, 1879, 1890, 1891, 1892, 1893, 1894, 1895, 1896, 1897, 1898, 1899, 1900, 1901, 1902, 1903, 1904, 1905, 1906, 1907, 1908, 1909, 1910, 1911, 1912, 1913, 1914, 1915, 1916, 1917, 1918, 1922, 1923, 1924, 1925, 1926, 1927, 1928, 1929, 1930, 1931, 1932, 1933, 1934, 1935, 1936, 1937, 1938, 1939, 1940, 1941, 1942, 1943, 1944, 1945, 1946, 1947, 1948, 1949, 1950, 1951, 1952, 1953, 1954, 1955, 1956, 1957, 1958, 1959, 1960, 1961, 1962, 1972, 1973, 1974, 1975, 1976, 1977, 1978, 1979, 1980, 1981, 1982, 1983, 1984, 1985, 1986, 1987, 1988, 1989, 1990, 1991, 1992, 1993, 1994, 1995, 1996, 1997, 1998, 2002, 2003, 2004, 2005, 2006, 2007, 2008, 2009, 2010, 2011, 2012, 2013, 2014, 2015, 2016, 2017, 2018, 2019, 2020, 2021, 2022, 2023, 2024, 2025, 2026, 2027, 2028, 2029, 2030, 2031, 2032, 2033, 2034, 2035, 2036, 2037, 2038, 2039, 2040, 2041, 2042, 2043, 2044, 2054, 2055, 2056, 2057, 2058, 2059, 2060, 2061, 2062, 2063, 2064, 2065, 2066, 2067, 2068, 2069, 2070, 2071, 2072, 2073, 2074, 2075, 2076, 2077, 2078, 2082, 2083, 2084, 2085, 2086, 2087, 2088, 2089, 2090, 2091, 2092, 2093, 2094, 2095, 2096, 2097, 2098, 2099, 2100, 2101, 2102, 2103, 2104, 2105, 2106, 2107, 2108, 2109, 2110, 2111, 2112, 2113, 2114, 2115, 2116, 2117, 2118, 2119, 2120, 2121, 2122, 2123, 2124, 2125, 2126, 2135, 2136, 2137, 2138, 2139, 2140, 2141, 2142, 2143, 2144, 2145, 2146, 2147, 2148, 2149, 2150, 2151, 2152, 2153, 2154, 2155, 2156, 2157, 2158, 2159, 2161, 2162, 2163, 2164, 2165, 2166, 2167, 2168, 2169, 2170, 2171, 2172, 2173, 2174, 2175, 2176, 2177, 2178, 2179, 2180, 2181, 2182, 2183, 2184, 2185, 2186, 2187, 2188, 2189, 2190, 2191, 2192, 2193, 2194, 2195, 2196, 2197, 2198, 2199, 2200, 2201, 2202, 2203, 2204, 2205, 2206, 2207, 2208, 2209, 2217, 2218, 2219, 2220, 2221, 2222, 2223, 2224, 2225, 2226, 2227, 2228, 2229, 2230, 2231, 2232, 2233, 2234, 2235, 2236, 2237, 2238, 2239, 2241, 2242, 2243, 2244, 2245, 2246, 2247, 2248, 2249, 2250, 2251, 2252, 2253, 2254, 2255, 2256, 2257, 2258, 2259, 2260, 2261, 2262, 2263, 2264, 2265, 2266, 2267, 2268, 2269, 2270, 2271, 2272, 2273, 2274, 2275, 2276, 2277, 2278, 2279, 2280, 2281, 2282, 2283, 2284, 2285, 2286, 2287, 2288, 2289, 2290, 2291, 2299, 2300, 2301, 2302, 2303, 2304, 2305, 2306, 2307, 2308, 2309, 2310, 2311, 2312, 2313, 2314, 2315, 2316, 2317, 2318, 2319, 2321, 2322, 2323, 2324, 2325, 2326, 2327, 2328, 2329, 2330, 2331, 2332, 2333, 2334, 2335, 2336, 2337, 2338, 2339, 2340, 2341, 2342, 2343, 2344, 2345, 2346, 2347, 2348, 2349, 2350, 2351, 2352, 2353, 2354, 2355, 2356, 2357, 2358, 2359, 2360, 2361, 2362, 2363, 2364, 2365, 2366, 2367, 2368, 2369, 2370, 2371, 2372, 2373, 2374, 2381, 2382, 2383, 2384, 2385, 2386, 2387, 2388, 2389, 2390, 2391, 2392, 2393, 2394, 2395, 2396, 2397, 2398, 2399, 2401, 2402, 2403, 2404, 2405, 2406, 2407, 2408, 2409, 2410, 2411, 2412, 2413, 2414, 2415, 2416, 2417, 2418, 2419, 2420, 2421, 2422, 2423, 2424, 2425, 2426, 2427, 2428, 2429, 2430, 2431, 2432, 2433, 2434, 2435, 2436, 2437, 2438, 2439, 2440, 2441, 2442, 2443, 2444, 2445, 2446, 2447, 2448, 2449, 2450, 2451, 2452, 2453, 2454, 2455, 2456, 2463, 2464, 2465, 2466, 2467, 2468, 2469, 2470, 2471, 2472, 2473, 2474, 2475, 2476, 2477, 2478, 2479, 2481, 2482, 2483, 2484, 2485, 2486, 2487, 2488, 2489, 2490, 2491, 2492, 2493, 2494, 2495, 2496, 2497, 2498, 2499, 2500, 2501, 2502, 2503, 2504, 2505, 2506, 2507, 2508, 2509, 2510, 2511, 2512, 2513, 2514, 2515, 2516, 2517, 2518, 2519, 2520, 2521, 2522, 2523, 2524, 2525, 2526, 2527, 2528, 2529, 2530, 2531, 2532, 2533, 2534, 2535, 2536, 2537, 2538, 2544, 2545, 2546, 2547, 2548, 2549, 2550, 2551, 2552, 2553, 2554, 2555, 2556, 2557, 2558, 2559, 2561, 2562, 2563, 2564, 2565, 2566, 2567, 2568, 2569, 2570, 2571, 2572, 2573, 2574, 2575, 2576, 2577, 2578, 2579, 2580, 2581, 2582, 2583, 2584, 2585, 2586, 2587, 2588, 2589, 2590, 2591, 2592, 2593, 2594, 2595, 2596, 2597, 2598, 2599, 2600, 2601, 2602, 2603, 2604, 2605, 2606, 2607, 2608, 2609, 2610, 2611, 2612, 2613, 2614, 2615, 2616, 2617, 2618, 2619, 2620, 2621, 2626, 2627, 2628, 2629, 2630, 2631, 2632, 2633, 2634, 2635, 2636, 2637, 2638, 2639, 2641, 2642, 2643, 2644, 2645, 2646, 2647, 2648, 2649, 2650, 2651, 2652, 2653, 2654, 2655, 2656, 2657, 2658, 2659, 2660, 2661, 2662, 2663, 2664, 2665, 2666, 2667, 2668, 2669, 2670, 2671, 2672, 2673, 2674, 2675, 2676, 2677, 2678, 2679, 2680, 2681, 2682, 2683, 2684, 2685, 2686, 2687, 2688, 2689, 2690, 2691, 2692, 2693, 2694, 2695, 2696, 2697, 2698, 2699, 2700, 2701, 2702, 2703, 2708, 2709, 2710, 2711, 2712, 2713, 2714, 2715, 2716, 2717, 2718, 2719, 2721, 2722, 2723, 2724, 2725, 2726, 2727, 2728, 2729, 2730, 2731, 2732, 2733, 2734, 2735, 2736, 2737, 2738, 2739, 2740, 2741, 2742, 2743, 2744, 2745, 2746, 2747, 2748, 2749, 2750, 2751, 2752, 2753, 2754, 2755, 2756, 2757, 2758, 2759, 2760, 2761, 2762, 2763, 2764, 2765, 2766, 2767, 2768, 2769, 2770, 2771, 2772, 2773, 2774, 2775, 2776, 2777, 2778, 2779, 2780, 2781, 2782, 2783, 2784, 2785, 2790, 2791, 2792, 2793, 2794, 2795, 2796, 2797, 2798, 2799, 2801, 2802, 2803, 2804, 2805, 2806, 2807, 2808, 2809, 2810, 2811, 2812, 2813, 2814, 2815, 2816, 2817, 2818, 2819, 2820, 2821, 2822, 2823, 2824, 2825, 2826, 2827, 2828, 2829, 2830, 2831, 2832, 2833, 2834, 2835, 2836, 2837, 2838, 2839, 2840, 2841, 2842, 2843, 2844, 2845, 2846, 2847, 2848, 2849, 2850, 2851, 2852, 2853, 2854, 2855, 2856, 2857, 2858, 2859, 2860, 2861, 2862, 2863, 2864, 2865, 2866, 2867, 2868, 2872, 2873, 2874, 2875, 2876, 2877, 2878, 2879, 2881, 2882, 2883, 2884, 2885, 2886, 2887, 2888, 2889, 2890, 2891, 2892, 2893, 2894, 2895, 2896, 2897, 2898, 2899, 2900, 2901, 2902, 2903, 2904, 2905, 2906, 2907, 2908, 2909, 2910, 2911, 2912, 2913, 2914, 2915, 2916, 2917, 2918, 2919, 2920, 2921, 2922, 2923, 2924, 2925, 2926, 2927, 2928, 2929, 2930, 2931, 2932, 2933, 2934, 2935, 2936, 2937, 2938, 2939, 2940, 2941, 2942, 2943, 2944, 2945, 2946, 2947, 2948, 2949, 2950, 2953, 2954, 2955, 2956, 2957, 2958, 2959, 2961, 2962, 2963, 2964, 2965, 2966, 2967, 2968, 2969, 2970, 2971, 2972, 2973, 2974, 2975, 2976, 2977, 2978, 2979, 2980, 2981, 2982, 2983, 2984, 2985, 2986, 2987, 2988, 2989, 2990, 2991, 2992, 2993, 2994, 2995, 2996, 2997, 2998, 2999, 3000, 3001, 3002, 3003, 3004, 3005, 3006, 3007, 3008, 3009, 3010, 3011, 3012, 3013, 3014, 3015, 3016, 3017, 3018, 3019, 3020, 3021, 3022, 3023, 3024, 3025, 3026, 3027, 3028, 3029, 3030, 3031, 3032, 3035, 3036, 3037, 3038, 3039, 3041, 3042, 3043, 3044, 3045, 3046, 3047, 3048, 3049, 3050, 3051, 3052, 3053, 3054, 3055, 3056, 3057, 3058, 3059, 3060, 3061, 3062, 3063, 3064, 3065, 3066, 3067, 3068, 3069, 3070, 3071, 3072, 3073, 3074, 3075, 3076, 3077, 3078, 3079, 3080, 3081, 3082, 3083, 3084, 3085, 3086, 3087, 3088, 3089, 3090, 3091, 3092, 3093, 3094, 3095, 3096, 3097, 3098, 3099, 3100, 3101, 3102, 3103, 3104, 3105, 3106, 3107, 3108, 3109, 3110, 3111, 3112, 3113, 3114, 3115, 3117, 3118, 3119, 3121, 3122, 3123, 3124, 3125, 3126, 3127, 3128, 3129, 3130, 3131, 3132, 3133, 3134, 3135, 3136, 3137, 3138, 3139, 3140, 3141, 3142, 3143, 3144, 3145, 3146, 3147, 3148, 3149, 3150, 3151, 3152, 3153, 3154, 3155, 3156, 3157, 3158, 3159, 3160, 3161, 3162, 3163, 3164, 3165, 3166, 3167, 3168, 3169, 3170, 3171, 3172, 3173, 3174, 3175, 3176, 3177, 3178, 3179, 3180, 3181, 3182, 3183, 3184, 3185, 3186, 3187, 3188, 3189, 3190, 3191, 3192, 3193, 3194, 3195, 3196, 3197, 3199, 3201, 3202, 3203, 3204, 3205, 3206, 3207, 3208, 3209, 3210, 3211, 3212, 3213, 3214, 3215, 3216, 3217, 3218, 3219, 3220, 3221, 3222, 3223, 3224, 3225, 3226, 3227, 3228, 3229, 3230, 3231, 3232, 3233, 3234, 3235, 3236, 3237, 3238, 3239, 3240, 3241, 3242, 3243, 3244, 3245, 3246, 3247, 3248, 3249, 3250, 3251, 3252, 3253, 3254, 3255, 3256, 3257, 3258, 3259, 3260, 3261, 3262, 3263, 3264, 3265, 3266, 3267, 3268, 3269, 3270, 3271, 3272, 3273, 3274, 3275, 3276, 3277, 3278, 3279, 3281, 3282, 3283, 3284, 3285, 3286, 3287, 3288, 3289, 3290, 3291, 3292, 3293, 3294, 3295, 3296, 3297, 3298, 3299, 3300, 3301, 3302, 3303, 3304, 3305, 3306, 3307, 3308, 3309, 3310, 3311, 3312, 3313, 3314, 3315, 3316, 3317, 3318, 3319, 3320, 3321, 3322, 3323, 3324, 3325, 3326, 3327, 3328, 3329, 3330, 3331, 3332, 3333, 3334, 3335, 3336, 3337, 3338, 3339, 3340, 3341, 3342, 3343, 3344, 3345, 3346, 3347, 3348, 3349, 3350, 3351, 3352, 3353, 3354, 3355, 3356, 3357, 3358, 3359, 3361, 3363, 3364, 3365, 3366, 3367, 3368, 3369, 3370, 3371, 3372, 3373, 3374, 3375, 3376, 3377, 3378, 3379, 3380, 3381, 3382, 3383, 3384, 3385, 3386, 3387, 3388, 3389, 3390, 3391, 3392, 3393, 3394, 3395, 3396, 3397, 3398, 3399, 3400, 3401, 3402, 3403, 3404, 3405, 3406, 3407, 3408, 3409, 3410, 3411, 3412, 3413, 3414, 3415, 3416, 3417, 3418, 3419, 3420, 3421, 3422, 3423, 3424, 3425, 3426, 3427, 3428, 3429, 3430, 3431, 3432, 3433, 3434, 3435, 3436, 3437, 3438, 3439, 3441, 3442, 3443, 3445, 3446, 3447, 3448, 3449, 3450, 3451, 3452, 3453, 3454, 3455, 3456, 3457, 3458, 3459, 3460, 3461, 3462, 3463, 3464, 3465, 3466, 3467, 3468, 3469, 3470, 3471, 3472, 3473, 3474, 3475, 3476, 3477, 3478, 3479, 3480, 3481, 3482, 3483, 3484, 3485, 3486, 3487, 3488, 3489, 3490, 3491, 3492, 3493, 3494, 3495, 3496, 3497, 3498, 3499, 3500, 3501, 3502, 3503, 3504, 3505, 3506, 3507, 3508, 3509, 3510, 3511, 3512, 3513, 3514, 3515, 3516, 3517, 3518, 3519, 3521, 3522, 3523, 3524, 3525, 3528, 3529, 3530, 3531, 3532, 3533, 3534, 3535, 3536, 3537, 3538, 3539, 3540, 3541, 3542, 3543, 3544, 3545, 3546, 3547, 3548, 3549, 3550, 3551, 3552, 3553, 3554, 3555, 3556, 3557, 3558, 3559, 3560, 3561, 3562, 3563, 3564, 3565, 3566, 3567, 3568, 3569, 3570, 3571, 3572, 3573, 3574, 3575, 3576, 3577, 3578, 3579, 3580, 3581, 3582, 3583, 3584, 3585, 3586, 3587, 3588, 3589, 3590, 3591, 3592, 3593, 3594, 3595, 3596, 3597, 3598, 3599, 3601, 3602, 3603, 3604, 3605, 3606, 3607, 3610, 3611, 3612, 3613, 3614, 3615, 3616, 3617, 3618, 3619, 3620, 3621, 3622, 3623, 3624, 3625, 3626, 3627, 3628, 3629, 3630, 3631, 3632, 3633, 3634, 3635, 3636, 3637, 3638, 3639, 3640, 3641, 3642, 3643, 3644, 3645, 3646, 3647, 3648, 3649, 3650, 3651, 3652, 3653, 3654, 3655, 3656, 3657, 3658, 3659, 3660, 3661, 3662, 3663, 3664, 3665, 3666, 3667, 3668, 3669, 3670, 3671, 3672, 3673, 3674, 3675, 3676, 3677, 3678, 3679, 3681, 3682, 3683, 3684, 3685, 3686, 3687, 3688, 3692, 3693, 3694, 3695, 3696, 3697, 3698, 3699, 3700, 3701, 3702, 3703, 3704, 3705, 3706, 3707, 3708, 3709, 3710, 3711, 3712, 3713, 3714, 3715, 3716, 3717, 3718, 3719, 3720, 3721, 3722, 3723, 3724, 3725, 3726, 3727, 3728, 3729, 3730, 3731, 3732, 3733, 3734, 3735, 3736, 3737, 3738, 3739, 3740, 3741, 3742, 3743, 3744, 3745, 3746, 3747, 3748, 3749, 3750, 3751, 3752, 3753, 3754, 3755, 3756, 3757, 3758, 3759, 3761, 3762, 3763, 3764, 3765, 3766, 3767, 3768, 3769, 3770, 3775, 3776, 3777, 3778, 3779, 3780, 3781, 3782, 3783, 3784, 3785, 3786, 3787, 3788, 3789, 3790, 3791, 3792, 3793, 3794, 3795, 3796, 3797, 3798, 3799, 3800, 3801, 3802, 3803, 3804, 3805, 3806, 3807, 3808, 3809, 3810, 3811, 3812, 3813, 3814, 3815, 3816, 3817, 3818, 3819, 3820, 3821, 3822, 3823, 3824, 3825, 3826, 3827, 3828, 3829, 3830, 3831, 3832, 3833, 3834, 3835, 3836, 3837, 3838, 3839, 3841, 3842, 3843, 3844, 3845, 3846, 3847, 3848, 3849, 3850, 3851, 3852, 3857, 3858, 3859, 3860, 3861, 3862, 3863, 3864, 3865, 3866, 3867, 3868, 3869, 3870, 3871, 3872, 3873, 3874, 3875, 3876, 3877, 3878, 3879, 3880, 3881, 3882, 3883, 3884, 3885, 3886, 3887, 3888, 3889, 3890, 3891, 3892, 3893, 3894, 3895, 3896, 3897, 3898, 3899, 3900, 3901, 3902, 3903, 3904, 3905, 3906, 3907, 3908, 3909, 3910, 3911, 3912, 3913, 3914, 3915, 3916, 3917, 3918, 3919, 3921, 3922, 3923, 3924, 3925, 3926, 3927, 3928, 3929, 3930, 3931, 3932, 3933, 3934, 3939, 3940, 3941, 3942, 3943, 3944, 3945, 3946, 3947, 3948, 3949, 3950, 3951, 3952, 3953, 3954, 3955, 3956, 3957, 3958, 3959, 3960, 3961, 3962, 3963, 3964, 3965, 3966, 3967, 3968, 3969, 3970, 3971, 3972, 3973, 3974, 3975, 3976, 3977, 3978, 3979, 3980, 3981, 3982, 3983, 3984, 3985, 3986, 3987, 3988, 3989, 3990, 3991, 3992, 3993, 3994, 3995, 3996, 3997, 3998, 3999, 4001, 4002, 4003, 4004, 4005, 4006, 4007, 4008, 4009, 4010, 4011, 4012, 4013, 4014, 4015, 4016, 4022, 4023, 4024, 4025, 4026, 4027, 4028, 4029, 4030, 4031, 4032, 4033, 4034, 4035, 4036, 4037, 4038, 4039, 4040, 4041, 4042, 4043, 4044, 4045, 4046, 4047, 4048, 4049, 4050, 4051, 4052, 4053, 4054, 4055, 4056, 4057, 4058, 4059, 4060, 4061, 4062, 4063, 4064, 4065, 4066, 4067, 4068, 4069, 4070, 4071, 4072, 4073, 4074, 4075, 4076, 4077, 4078, 4079, 4081, 4082, 4083, 4084, 4085, 4086, 4087, 4088, 4089, 4090, 4091, 4092, 4093, 4094, 4095, 4096, 4097, 4104, 4105, 4106, 4107, 4108, 4109, 4110, 4111, 4112, 4113, 4114, 4115, 4116, 4117, 4118, 4119, 4120, 4121, 4122, 4123, 4124, 4125, 4126, 4127, 4128, 4129, 4130, 4131, 4132, 4133, 4134, 4135, 4136, 4137, 4138, 4139, 4140, 4141, 4142, 4143, 4144, 4145, 4146, 4147, 4148, 4149, 4150, 4151, 4152, 4153, 4154, 4155, 4156, 4157, 4158, 4159, 4161, 4162, 4163, 4164, 4165, 4166, 4167, 4168, 4169, 4170, 4171, 4172, 4173, 4174, 4175, 4176, 4177, 4178, 4179, 4186, 4187, 4188, 4189, 4190, 4191, 4192, 4193, 4194, 4195, 4196, 4197, 4198, 4199, 4200, 4201, 4202, 4203, 4204, 4205, 4206, 4207, 4208, 4209, 4210, 4211, 4212, 4213, 4214, 4215, 4216, 4217, 4218, 4219, 4220, 4221, 4222, 4223, 4224, 4225, 4226, 4227, 4228, 4229, 4230, 4231, 4232, 4233, 4234, 4235, 4236, 4237, 4238, 4239, 4241, 4242, 4243, 4244, 4245, 4246, 4247, 4248, 4249, 4250, 4251, 4252, 4253, 4254, 4255, 4256, 4257, 4258, 4259, 4260, 4261, 4269, 4270, 4271, 4272, 4273, 4274, 4275, 4276, 4277, 4278, 4279, 4280, 4281, 4282, 4283, 4284, 4285, 4286, 4287, 4288, 4289, 4290, 4291, 4292, 4293, 4294, 4295, 4296, 4297, 4298, 4299, 4300, 4301, 4302, 4303, 4304, 4305, 4306, 4307, 4308, 4309, 4310, 4311, 4312, 4313, 4314, 4315, 4316, 4317, 4318, 4319, 4321, 4322, 4323, 4324, 4325, 4326, 4327, 4328, 4329, 4330, 4331, 4332, 4333, 4334, 4335, 4336, 4337, 4338, 4339, 4340, 4341, 4342, 4343, 4351, 4352, 4353, 4354, 4355, 4356, 4357, 4358, 4359, 4360, 4361, 4362, 4363, 4364, 4365, 4366, 4367, 4368, 4369, 4370, 4371, 4372, 4373, 4374, 4375, 4376, 4377, 4378, 4379, 4380, 4381, 4382, 4383, 4384, 4385, 4386, 4387, 4388, 4389, 4390, 4391, 4392, 4393, 4394, 4395, 4396, 4397, 4398, 4399, 4401, 4402, 4403, 4404, 4405, 4406, 4407, 4408, 4409, 4410, 4411, 4412, 4413, 4414, 4415, 4416, 4417, 4418, 4419, 4420, 4421, 4422, 4423, 4424, 4425, 4434, 4435, 4436, 4437, 4438, 4439, 4440, 4441, 4442, 4443, 4444, 4445, 4446, 4447, 4448, 4449, 4450, 4451, 4452, 4453, 4454, 4455, 4456, 4457, 4458, 4459, 4460, 4461, 4462, 4463, 4464, 4465, 4466, 4467, 4468, 4469, 4470, 4471, 4472, 4473, 4474, 4475, 4476, 4477, 4478, 4482, 4483, 4484, 4485, 4486, 4487, 4488, 4489, 4490, 4491, 4492, 4493, 4494, 4495, 4496, 4497, 4498, 4499, 4500, 4501, 4502, 4503, 4504, 4505, 4506, 4516, 4517, 4518, 4519, 4520, 4521, 4522, 4523, 4524, 4525, 4526, 4527, 4528, 4529, 4530, 4531, 4532, 4533, 4534, 4535, 4536, 4537, 4538, 4539, 4540, 4541, 4542, 4543, 4544, 4545, 4546, 4547, 4548, 4549, 4550, 4551, 4552, 4553, 4554, 4555, 4556, 4557, 4558, 4562, 4563, 4564, 4565, 4566, 4567, 4568, 4569, 4570, 4571, 4572, 4573, 4574, 4575, 4576, 4577, 4578, 4579, 4580, 4581, 4582, 4583, 4584, 4585, 4586, 4587, 4588, 4598, 4599, 4600, 4601, 4602, 4603, 4604, 4605, 4606, 4607, 4608, 4609, 4610, 4611, 4612, 4613, 4614, 4615, 4616, 4617, 4618, 4619, 4620, 4621, 4622, 4623, 4624, 4625, 4626, 4627, 4628, 4629, 4630, 4631, 4632, 4633, 4634, 4635, 4636, 4637, 4638, 4642, 4643, 4644, 4645, 4646, 4647, 4648, 4649, 4650, 4651, 4652, 4653, 4654, 4655, 4656, 4657, 4658, 4659, 4660, 4661, 4662, 4663, 4664, 4665, 4666, 4667, 4668, 4669, 4670, 4681, 4682, 4683, 4684, 4685, 4686, 4687, 4688, 4689, 4690, 4691, 4692, 4693, 4694, 4695, 4696, 4697, 4698, 4699, 4700, 4701, 4702, 4703, 4704, 4705, 4706, 4707, 4708, 4709, 4710, 4711, 4712, 4713, 4714, 4715, 4716, 4717, 4718, 4722, 4723, 4724, 4725, 4726, 4727, 4728, 4729, 4730, 4731, 4732, 4733, 4734, 4735, 4736, 4737, 4738, 4739, 4740, 4741, 4742, 4743, 4744, 4745, 4746, 4747, 4748, 4749, 4750, 4751, 4752, 4763, 4764, 4765, 4766, 4767, 4768, 4769, 4770, 4771, 4772, 4773, 4774, 4775, 4776, 4777, 4778, 4779, 4780, 4781, 4782, 4783, 4784, 4785, 4786, 4787, 4788, 4789, 4790, 4791, 4792, 4793, 4794, 4795, 4796, 4797, 4798, 4802, 4803, 4804, 4805, 4806, 4807, 4808, 4809, 4810, 4811, 4812, 4813, 4814, 4815, 4816, 4817, 4818, 4819, 4820, 4821, 4822, 4823, 4824, 4825, 4826, 4827, 4828, 4829, 4830, 4831, 4832, 4833, 4834, 4845, 4846, 4847, 4848, 4849, 4850, 4851, 4852, 4853, 4854, 4855, 4856, 4857, 4858, 4859, 4860, 4861, 4862, 4863, 4864, 4865, 4866, 4867, 4868, 4869, 4870, 4871, 4872, 4873, 4874, 4875, 4876, 4877, 4878, 4882, 4883, 4884, 4885, 4886, 4887, 4888, 4889, 4890, 4891, 4892, 4893, 4894, 4895, 4896, 4897, 4898, 4899, 4900, 4901, 4902, 4903, 4904, 4905, 4906, 4907, 4908, 4909, 4910, 4911, 4912, 4913, 4914, 4915, 4928, 4929, 4930, 4931, 4932, 4933, 4934, 4935, 4936, 4937, 4938, 4939, 4940, 4941, 4942, 4943, 4944, 4945, 4946, 4947, 4948, 4949, 4950, 4951, 4952, 4953, 4954, 4955, 4956, 4957, 4958, 4962, 4963, 4964, 4965, 4966, 4967, 4968, 4969, 4970, 4971, 4972, 4973, 4974, 4975, 4976, 4977, 4978, 4979, 4980, 4981, 4982, 4983, 4984, 4985, 4986, 4987, 4988, 4989, 4990, 4991, 4992, 4993, 4994, 4995, 4996, 4997, 5010, 5011, 5012, 5013, 5014, 5015, 5016, 5017, 5018, 5019, 5020, 5021, 5022, 5023, 5024, 5025, 5026, 5027, 5028, 5029, 5030, 5031, 5032, 5033, 5034, 5035, 5036, 5037, 5038, 5042, 5043, 5044, 5045, 5046, 5047, 5048, 5049, 5050, 5051, 5052, 5053, 5054, 5055, 5056, 5057, 5058, 5059, 5060, 5061, 5062, 5063, 5064, 5065, 5066, 5067, 5068, 5069, 5070, 5071, 5072, 5073, 5074, 5075, 5076, 5077, 5078, 5079, 5092, 5093, 5094, 5095, 5096, 5097, 5098, 5099, 5100, 5101, 5102, 5103, 5104, 5105, 5106, 5107, 5108, 5109, 5110, 5111, 5112, 5113, 5114, 5115, 5116, 5117, 5118, 5122, 5123, 5124, 5125, 5126, 5127, 5128, 5129, 5130, 5131, 5132, 5133, 5134, 5135, 5136, 5137, 5138, 5139, 5140, 5141, 5142, 5143, 5144, 5145, 5146, 5147, 5148, 5149, 5150, 5151, 5152, 5153, 5154, 5155, 5156, 5157, 5158, 5159, 5160, 5161, 5175, 5176, 5177, 5178, 5179, 5180, 5181, 5182, 5183, 5184, 5185, 5186, 5187, 5188, 5189, 5190, 5191, 5192, 5193, 5194, 5195, 5196, 5197, 5198, 5202, 5203, 5204, 5205, 5206, 5207, 5208, 5209, 5210, 5211, 5212, 5213, 5214, 5215, 5216, 5217, 5218, 5219, 5220, 5221, 5222, 5223, 5224, 5225, 5226, 5227, 5228, 5229, 5230, 5231, 5232, 5233, 5234, 5235, 5236, 5237, 5238, 5239, 5240, 5241, 5242, 5243, 5257, 5258, 5259, 5260, 5261, 5262, 5263, 5264, 5265, 5266, 5267, 5268, 5269, 5270, 5271, 5272, 5273, 5274, 5275, 5276, 5277, 5278, 5282, 5283, 5284, 5285, 5286, 5287, 5288, 5289, 5290, 5291, 5292, 5293, 5294, 5295, 5296, 5297, 5298, 5299, 5300, 5301, 5302, 5303, 5304, 5305, 5306, 5307, 5308, 5309, 5310, 5311, 5312, 5313, 5314, 5315, 5316, 5317, 5318, 5319, 5320, 5321, 5322, 5323, 5324, 5340, 5341, 5342, 5343, 5344, 5345, 5346, 5347, 5348, 5349, 5350, 5351, 5352, 5353, 5354, 5355, 5356, 5357, 5358, 5362, 5363, 5364, 5365, 5366, 5367, 5368, 5369, 5370, 5371, 5372, 5373, 5374, 5375, 5376, 5377, 5378, 5379, 5380, 5381, 5382, 5383, 5384, 5385, 5386, 5387, 5388, 5389, 5390, 5391, 5392, 5393, 5394, 5395, 5396, 5397, 5398, 5399, 5400, 5401, 5402, 5403, 5404, 5405, 5406, 5422, 5423, 5424, 5425, 5426, 5427, 5428, 5429, 5430, 5431, 5432, 5433, 5434, 5435, 5436, 5437, 5438, 5442, 5443, 5444, 5445, 5446, 5447, 5448, 5449, 5450, 5451, 5452, 5453, 5454, 5455, 5456, 5457, 5458, 5459, 5460, 5461, 5462, 5463, 5464, 5465, 5466, 5467, 5468, 5469, 5470, 5471, 5472, 5473, 5474, 5475, 5476, 5477, 5478, 5479, 5480, 5481, 5482, 5483, 5484, 5485, 5486, 5487, 5488, 5504, 5505, 5506, 5507, 5508, 5509, 5510, 5511, 5512, 5513, 5514, 5515, 5516, 5517, 5518, 5522, 5523, 5524, 5525, 5526, 5527, 5528, 5529, 5530, 5531, 5532, 5533, 5534, 5535, 5536, 5537, 5538, 5539, 5540, 5541, 5542, 5543, 5544, 5545, 5546, 5547, 5548, 5549, 5550, 5551, 5552, 5553, 5554, 5555, 5556, 5557, 5558, 5559, 5560, 5561, 5562, 5563, 5564, 5565, 5566, 5567, 5568, 5569, 5570, 5587, 5588, 5589, 5590, 5591, 5592, 5593, 5594, 5595, 5596, 5597, 5603, 5604, 5605, 5606, 5607, 5608, 5609, 5610, 5611, 5612, 5613, 5614, 5615, 5616, 5617, 5618, 5619, 5620, 5621, 5622, 5623, 5624, 5625, 5626, 5627, 5628, 5629, 5630, 5631, 5632, 5633, 5634, 5635, 5636, 5637, 5638, 5639, 5640, 5641, 5642, 5643, 5644, 5645, 5646, 5647, 5648, 5649, 5650, 5651, 5669, 5670, 5671, 5672, 5673, 5674, 5675, 5676, 5677, 5683, 5684, 5685, 5686, 5687, 5688, 5689, 5690, 5691, 5692, 5693, 5694, 5695, 5696, 5697, 5698, 5699, 5700, 5701, 5702, 5703, 5704, 5705, 5706, 5707, 5708, 5709, 5710, 5711, 5712, 5713, 5714, 5715, 5716, 5717, 5718, 5719, 5720, 5721, 5722, 5723, 5724, 5725, 5726, 5727, 5728, 5729, 5730, 5731, 5732, 5733, 5751, 5752, 5753, 5754, 5755, 5756, 5757, 5763, 5764, 5765, 5766, 5767, 5768, 5769, 5770, 5771, 5772, 5773, 5774, 5775, 5776, 5777, 5778, 5779, 5780, 5781, 5782, 5783, 5784, 5785, 5786, 5787, 5788, 5789, 5790, 5791, 5792, 5793, 5794, 5795, 5796, 5797, 5798, 5799, 5800, 5801, 5802, 5803, 5804, 5805, 5806, 5807, 5808, 5809, 5810, 5811, 5812, 5813, 5814, 5815, 5832, 5833, 5834, 5835, 5836, 5837, 5843, 5844, 5845, 5846, 5847, 5848, 5849, 5850, 5851, 5852, 5853, 5854, 5855, 5856, 5857, 5858, 5859, 5860, 5861, 5862, 5863, 5864, 5865, 5866, 5867, 5868, 5869, 5870, 5871, 5872, 5873, 5874, 5875, 5876, 5877, 5878, 5879, 5880, 5881, 5882, 5883, 5884, 5885, 5886, 5887, 5888, 5889, 5890, 5891, 5892, 5893, 5894, 5895, 5896, 5897, 5913, 5914, 5915, 5916, 5917, 5923, 5924, 5925, 5926, 5927, 5928, 5929, 5930, 5931, 5932, 5933, 5934, 5935, 5936, 5937, 5938, 5939, 5940, 5941, 5942, 5943, 5944, 5945, 5946, 5947, 5948, 5949, 5950, 5951, 5952, 5953, 5954, 5955, 5956, 5957, 5958, 5959, 5960, 5961, 5962, 5963, 5964, 5965, 5966, 5967, 5968, 5969, 5970, 5971, 5972, 5973, 5974, 5975, 5976, 5977, 5978, 5979, 5994, 5995, 5996, 5997, 6003, 6004, 6005, 6006, 6007, 6008, 6009, 6010, 6011, 6012, 6013, 6014, 6015, 6016, 6017, 6018, 6019, 6020, 6021, 6022, 6023, 6024, 6025, 6026, 6027, 6028, 6029, 6030, 6031, 6032, 6033, 6034, 6035, 6036, 6037, 6038, 6039, 6040, 6041, 6042, 6043, 6044, 6045, 6046, 6047, 6048, 6049, 6050, 6051, 6052, 6053, 6054, 6055, 6056, 6057, 6058, 6059, 6060, 6075, 6076, 6077, 6083, 6084, 6085, 6086, 6087, 6088, 6089, 6090, 6091, 6092, 6093, 6094, 6095, 6096, 6097, 6098, 6099, 6100, 6101, 6102, 6103, 6104, 6105, 6106, 6107, 6108, 6109, 6110, 6111, 6112, 6113, 6114, 6115, 6116, 6117, 6118, 6119, 6120, 6121, 6122, 6123, 6124, 6125, 6126, 6127, 6128, 6129, 6130, 6131, 6132, 6133, 6134, 6135, 6136, 6137, 6138, 6139, 6140, 6141, 6142, 6156, 6157, 6163, 6164, 6165, 6166, 6167, 6168, 6169, 6170, 6171, 6172, 6173, 6174, 6175, 6176, 6177, 6178, 6179, 6180, 6181, 6182, 6183, 6184, 6185, 6186, 6187, 6188, 6189, 6190, 6191, 6192, 6193, 6194, 6195, 6196, 6197, 6198, 6199, 6200, 6201, 6202, 6203, 6204, 6205, 6206, 6207, 6208, 6209, 6210, 6211, 6212, 6213, 6214, 6215, 6216, 6217, 6218, 6219, 6220, 6221, 6222, 6223, 6224, 6237, 6243, 6244, 6245, 6246, 6247, 6248, 6249, 6250, 6251, 6252, 6253, 6254, 6255, 6256, 6257, 6258, 6259, 6260, 6261, 6262, 6263, 6264, 6265, 6266, 6267, 6268, 6269, 6270, 6271, 6272, 6273, 6274, 6275, 6276, 6277, 6278, 6279, 6280, 6281, 6282, 6283, 6284, 6285, 6286, 6287, 6288, 6289, 6290, 6291, 6292, 6293, 6294, 6295, 6296, 6297, 6298, 6299, 6300, 6301, 6302, 6303, 6304, 6305, 6306, 6323, 6324, 6325, 6326, 6327, 6328, 6329, 6330, 6331, 6332, 6333, 6334, 6335, 6336, 6337, 6338, 6339, 6340, 6341, 6342, 6343, 6344, 6345, 6346, 6347, 6348, 6349, 6350, 6351, 6352, 6353, 6354, 6355, 6356, 6357, 6358, 6359, 6360, 6361, 6362, 6363, 6364, 6365, 6366, 6367, 6368, 6369, 6370, 6371, 6372, 6373, 6374, 6375, 6376, 6377, 6378, 6379, 6380, 6381, 6382, 6383, 6384, 6385, 6386, 6387, 6388, 6403, 6404, 6405, 6406, 6407, 6408, 6409, 6410, 6411, 6412, 6413, 6414, 6415, 6416, 6417, 6418, 6419, 6420, 6421, 6422, 6423, 6424, 6425, 6426, 6427, 6428, 6429, 6430, 6431, 6432, 6433, 6434, 6435, 6436, 6437, 6438, 6439, 6440, 6441, 6442, 6443, 6444, 6445, 6446, 6447, 6448, 6449, 6450, 6451, 6452, 6453, 6454, 6455, 6456, 6457, 6458, 6459, 6460, 6461, 6462, 6463, 6464, 6465, 6466, 6467, 6468, 6469, 6483, 6484, 6485, 6486, 6487, 6488, 6489, 6490, 6491, 6492, 6493, 6494, 6495, 6496, 6497, 6498, 6499, 6500, 6501, 6502, 6503, 6504, 6505, 6506, 6507, 6508, 6509, 6510, 6511, 6512, 6513, 6514, 6515, 6516, 6517, 6518, 6519, 6520, 6521, 6522, 6523, 6524, 6525, 6526, 6527, 6528, 6529, 6530, 6531, 6532, 6533, 6534, 6535, 6536, 6537, 6538, 6539, 6540, 6541, 6542, 6543, 6544, 6545, 6546, 6547, 6548, 6549, 6550, 6551]\n",
      "val ids:  []\n",
      "test ids:  [0, 1, 2, 3, 4, 5, 6, 7, 8, 78, 79, 80, 81, 82, 83, 84, 85, 86, 87, 88, 89, 90, 158, 159, 160, 161, 162, 163, 164, 165, 166, 167, 168, 169, 170, 171, 238, 239, 240, 241, 242, 243, 244, 245, 246, 247, 248, 249, 250, 251, 252, 253, 318, 319, 320, 321, 322, 324, 325, 326, 327, 328, 329, 330, 331, 332, 333, 334, 335, 398, 399, 400, 401, 402, 405, 406, 407, 408, 409, 410, 411, 412, 413, 414, 415, 416, 417, 478, 479, 480, 481, 482, 486, 487, 488, 489, 490, 491, 492, 493, 494, 495, 496, 497, 498, 499, 558, 559, 560, 561, 562, 567, 568, 569, 570, 571, 572, 573, 574, 575, 576, 577, 578, 579, 580, 638, 639, 640, 641, 642, 648, 649, 650, 651, 652, 653, 654, 655, 656, 657, 658, 659, 660, 661, 662, 718, 719, 720, 721, 722, 729, 730, 731, 732, 733, 734, 735, 736, 737, 738, 739, 740, 741, 742, 743, 744, 798, 799, 800, 801, 802, 810, 811, 812, 813, 814, 815, 816, 817, 818, 819, 820, 821, 822, 823, 824, 825, 826, 878, 879, 880, 881, 882, 892, 893, 894, 895, 896, 897, 898, 899, 900, 901, 902, 903, 904, 905, 906, 907, 908, 958, 959, 960, 961, 962, 974, 975, 976, 977, 978, 979, 980, 981, 982, 983, 984, 985, 986, 987, 988, 989, 1039, 1040, 1041, 1057, 1058, 1059, 1060, 1061, 1062, 1063, 1064, 1065, 1066, 1067, 1068, 1069, 1070, 1071, 1119, 1120, 1121, 1139, 1140, 1141, 1142, 1143, 1144, 1145, 1146, 1147, 1148, 1149, 1150, 1151, 1152, 1153, 1199, 1200, 1201, 1221, 1222, 1223, 1224, 1225, 1226, 1227, 1228, 1229, 1230, 1231, 1232, 1233, 1234, 1235, 1279, 1280, 1281, 1304, 1305, 1306, 1307, 1308, 1309, 1310, 1311, 1312, 1313, 1314, 1315, 1316, 1359, 1360, 1361, 1386, 1387, 1388, 1389, 1390, 1391, 1392, 1393, 1394, 1395, 1396, 1397, 1398, 1439, 1440, 1441, 1469, 1470, 1471, 1472, 1473, 1474, 1475, 1476, 1477, 1478, 1479, 1480, 1519, 1520, 1521, 1551, 1552, 1553, 1554, 1555, 1556, 1557, 1558, 1559, 1560, 1561, 1562, 1599, 1600, 1601, 1633, 1634, 1635, 1636, 1637, 1638, 1639, 1640, 1641, 1642, 1643, 1644, 1679, 1680, 1681, 1716, 1717, 1718, 1719, 1720, 1721, 1722, 1723, 1724, 1725, 1759, 1760, 1761, 1798, 1799, 1800, 1801, 1802, 1803, 1804, 1805, 1806, 1807, 1839, 1840, 1841, 1880, 1881, 1882, 1883, 1884, 1885, 1886, 1887, 1888, 1889, 1919, 1920, 1921, 1963, 1964, 1965, 1966, 1967, 1968, 1969, 1970, 1971, 1999, 2000, 2001, 2045, 2046, 2047, 2048, 2049, 2050, 2051, 2052, 2053, 2079, 2080, 2081, 2127, 2128, 2129, 2130, 2131, 2132, 2133, 2134, 2160, 2210, 2211, 2212, 2213, 2214, 2215, 2216, 2240, 2292, 2293, 2294, 2295, 2296, 2297, 2298, 2320, 2375, 2376, 2377, 2378, 2379, 2380, 2400, 2457, 2458, 2459, 2460, 2461, 2462, 2480, 2539, 2540, 2541, 2542, 2543, 2560, 2622, 2623, 2624, 2625, 2640, 2704, 2705, 2706, 2707, 2720, 2786, 2787, 2788, 2789, 2800, 2869, 2870, 2871, 2880, 2951, 2952, 2960, 3033, 3034, 3040, 3116, 3120, 3198, 3200, 3280, 3360, 3362, 3440, 3444, 3520, 3526, 3527, 3600, 3608, 3609, 3680, 3689, 3690, 3691, 3760, 3771, 3772, 3773, 3774, 3840, 3853, 3854, 3855, 3856, 3920, 3935, 3936, 3937, 3938, 4000, 4017, 4018, 4019, 4020, 4021, 4080, 4098, 4099, 4100, 4101, 4102, 4103, 4160, 4180, 4181, 4182, 4183, 4184, 4185, 4240, 4262, 4263, 4264, 4265, 4266, 4267, 4268, 4320, 4344, 4345, 4346, 4347, 4348, 4349, 4350, 4400, 4426, 4427, 4428, 4429, 4430, 4431, 4432, 4433, 4479, 4480, 4481, 4507, 4508, 4509, 4510, 4511, 4512, 4513, 4514, 4515, 4559, 4560, 4561, 4589, 4590, 4591, 4592, 4593, 4594, 4595, 4596, 4597, 4639, 4640, 4641, 4671, 4672, 4673, 4674, 4675, 4676, 4677, 4678, 4679, 4680, 4719, 4720, 4721, 4753, 4754, 4755, 4756, 4757, 4758, 4759, 4760, 4761, 4762, 4799, 4800, 4801, 4835, 4836, 4837, 4838, 4839, 4840, 4841, 4842, 4843, 4844, 4879, 4880, 4881, 4916, 4917, 4918, 4919, 4920, 4921, 4922, 4923, 4924, 4925, 4926, 4927, 4959, 4960, 4961, 4998, 4999, 5000, 5001, 5002, 5003, 5004, 5005, 5006, 5007, 5008, 5009, 5039, 5040, 5041, 5080, 5081, 5082, 5083, 5084, 5085, 5086, 5087, 5088, 5089, 5090, 5091, 5119, 5120, 5121, 5162, 5163, 5164, 5165, 5166, 5167, 5168, 5169, 5170, 5171, 5172, 5173, 5174, 5199, 5200, 5201, 5244, 5245, 5246, 5247, 5248, 5249, 5250, 5251, 5252, 5253, 5254, 5255, 5256, 5279, 5280, 5281, 5325, 5326, 5327, 5328, 5329, 5330, 5331, 5332, 5333, 5334, 5335, 5336, 5337, 5338, 5339, 5359, 5360, 5361, 5407, 5408, 5409, 5410, 5411, 5412, 5413, 5414, 5415, 5416, 5417, 5418, 5419, 5420, 5421, 5439, 5440, 5441, 5489, 5490, 5491, 5492, 5493, 5494, 5495, 5496, 5497, 5498, 5499, 5500, 5501, 5502, 5503, 5519, 5520, 5521, 5571, 5572, 5573, 5574, 5575, 5576, 5577, 5578, 5579, 5580, 5581, 5582, 5583, 5584, 5585, 5586, 5598, 5599, 5600, 5601, 5602, 5652, 5653, 5654, 5655, 5656, 5657, 5658, 5659, 5660, 5661, 5662, 5663, 5664, 5665, 5666, 5667, 5668, 5678, 5679, 5680, 5681, 5682, 5734, 5735, 5736, 5737, 5738, 5739, 5740, 5741, 5742, 5743, 5744, 5745, 5746, 5747, 5748, 5749, 5750, 5758, 5759, 5760, 5761, 5762, 5816, 5817, 5818, 5819, 5820, 5821, 5822, 5823, 5824, 5825, 5826, 5827, 5828, 5829, 5830, 5831, 5838, 5839, 5840, 5841, 5842, 5898, 5899, 5900, 5901, 5902, 5903, 5904, 5905, 5906, 5907, 5908, 5909, 5910, 5911, 5912, 5918, 5919, 5920, 5921, 5922, 5980, 5981, 5982, 5983, 5984, 5985, 5986, 5987, 5988, 5989, 5990, 5991, 5992, 5993, 5998, 5999, 6000, 6001, 6002, 6061, 6062, 6063, 6064, 6065, 6066, 6067, 6068, 6069, 6070, 6071, 6072, 6073, 6074, 6078, 6079, 6080, 6081, 6082, 6143, 6144, 6145, 6146, 6147, 6148, 6149, 6150, 6151, 6152, 6153, 6154, 6155, 6158, 6159, 6160, 6161, 6162, 6225, 6226, 6227, 6228, 6229, 6230, 6231, 6232, 6233, 6234, 6235, 6236, 6238, 6239, 6240, 6241, 6242, 6307, 6308, 6309, 6310, 6311, 6312, 6313, 6314, 6315, 6316, 6317, 6318, 6319, 6320, 6321, 6322, 6389, 6390, 6391, 6392, 6393, 6394, 6395, 6396, 6397, 6398, 6399, 6400, 6401, 6402, 6470, 6471, 6472, 6473, 6474, 6475, 6476, 6477, 6478, 6479, 6480, 6481, 6482, 6552, 6553, 6554, 6555, 6556, 6557, 6558, 6559, 6560]\n",
      "CPU times: user 188 ms, sys: 19.5 ms, total: 207 ms\n",
      "Wall time: 205 ms\n"
     ]
    }
   ],
   "source": [
    "%%time\n",
    "n_total = len(simulation.dataframe)\n",
    "n_train = len(simulation.dataframe[simulation.dataframe.type_of == \"train\"])\n",
    "n_val = len(simulation.dataframe[simulation.dataframe.type_of == \"val\"])\n",
    "n_test = len(simulation.dataframe[simulation.dataframe.type_of == \"test\"])\n",
    "n_train_hamiltonians = len(simulation.train_ids)\n",
    "n_val_hamiltonians = len(simulation.val_ids)\n",
    "n_test_hamiltonians = len(simulation.test_ids)\n",
    "n_total_hamiltonians = n_train_hamiltonians + n_val_hamiltonians + n_test_hamiltonians\n",
    "\n",
    "print(\"% train: \", n_train/n_total)\n",
    "print(\"% val: \",  n_val/n_total)\n",
    "print(\"% test: \", n_test/n_total)\n",
    "print(\"% train + val + test: \", (n_train+n_val+n_test)/n_total)\n",
    "print(\"\\n\")\n",
    "print(\"number of train hamiltonians: \", n_train_hamiltonians)\n",
    "print(\"number of val hamiltonians: \", n_val_hamiltonians)\n",
    "print(\"number of test hamiltonians: \", n_test_hamiltonians)\n",
    "print(\"total number of hamiltonians: \", n_total_hamiltonians)\n",
    "print(\"\\n\")\n",
    "print(\"train ids: \", simulation.train_ids)\n",
    "print(\"val ids: \", simulation.val_ids)\n",
    "print(\"test ids: \", simulation.test_ids)"
   ]
  },
  {
   "cell_type": "markdown",
   "metadata": {
    "papermill": {
     "duration": 0.019301,
     "end_time": "2020-07-16T03:12:29.746496",
     "exception": false,
     "start_time": "2020-07-16T03:12:29.727195",
     "status": "completed"
    },
    "tags": []
   },
   "source": [
    "## Running a simulation"
   ]
  },
  {
   "cell_type": "code",
   "execution_count": 27,
   "metadata": {
    "execution": {
     "iopub.execute_input": "2020-07-16T03:12:29.786791Z",
     "iopub.status.busy": "2020-07-16T03:12:29.786476Z",
     "iopub.status.idle": "2020-07-16T03:15:07.040736Z",
     "shell.execute_reply": "2020-07-16T03:15:07.041038Z"
    },
    "papermill": {
     "duration": 157.275977,
     "end_time": "2020-07-16T03:15:07.041105",
     "exception": false,
     "start_time": "2020-07-16T03:12:29.765128",
     "status": "completed"
    },
    "tags": []
   },
   "outputs": [
    {
     "name": "stderr",
     "output_type": "stream",
     "text": [
      "\r",
      "running experiments:   0%|          | 0/100 [00:00<?, ?it/s]"
     ]
    },
    {
     "name": "stdout",
     "output_type": "stream",
     "text": [
      "Simulation mode:  dct\n"
     ]
    },
    {
     "name": "stderr",
     "output_type": "stream",
     "text": [
      "\r",
      "running experiments:   1%|          | 1/100 [00:01<02:33,  1.55s/it]"
     ]
    },
    {
     "name": "stderr",
     "output_type": "stream",
     "text": [
      "\r",
      "running experiments:   2%|▏         | 2/100 [00:03<02:32,  1.56s/it]"
     ]
    },
    {
     "name": "stderr",
     "output_type": "stream",
     "text": [
      "\r",
      "running experiments:   3%|▎         | 3/100 [00:04<02:31,  1.56s/it]"
     ]
    },
    {
     "name": "stderr",
     "output_type": "stream",
     "text": [
      "\r",
      "running experiments:   4%|▍         | 4/100 [00:06<02:31,  1.58s/it]"
     ]
    },
    {
     "name": "stderr",
     "output_type": "stream",
     "text": [
      "\r",
      "running experiments:   5%|▌         | 5/100 [00:07<02:29,  1.57s/it]"
     ]
    },
    {
     "name": "stderr",
     "output_type": "stream",
     "text": [
      "\r",
      "running experiments:   6%|▌         | 6/100 [00:09<02:27,  1.57s/it]"
     ]
    },
    {
     "name": "stderr",
     "output_type": "stream",
     "text": [
      "\r",
      "running experiments:   7%|▋         | 7/100 [00:11<02:26,  1.57s/it]"
     ]
    },
    {
     "name": "stderr",
     "output_type": "stream",
     "text": [
      "\r",
      "running experiments:   8%|▊         | 8/100 [00:12<02:24,  1.57s/it]"
     ]
    },
    {
     "name": "stderr",
     "output_type": "stream",
     "text": [
      "\r",
      "running experiments:   9%|▉         | 9/100 [00:14<02:22,  1.56s/it]"
     ]
    },
    {
     "name": "stderr",
     "output_type": "stream",
     "text": [
      "\r",
      "running experiments:  10%|█         | 10/100 [00:15<02:21,  1.58s/it]"
     ]
    },
    {
     "name": "stderr",
     "output_type": "stream",
     "text": [
      "\r",
      "running experiments:  11%|█         | 11/100 [00:17<02:19,  1.57s/it]"
     ]
    },
    {
     "name": "stderr",
     "output_type": "stream",
     "text": [
      "\r",
      "running experiments:  12%|█▏        | 12/100 [00:18<02:17,  1.57s/it]"
     ]
    },
    {
     "name": "stderr",
     "output_type": "stream",
     "text": [
      "\r",
      "running experiments:  13%|█▎        | 13/100 [00:20<02:15,  1.56s/it]"
     ]
    },
    {
     "name": "stderr",
     "output_type": "stream",
     "text": [
      "\r",
      "running experiments:  14%|█▍        | 14/100 [00:21<02:14,  1.56s/it]"
     ]
    },
    {
     "name": "stderr",
     "output_type": "stream",
     "text": [
      "\r",
      "running experiments:  15%|█▌        | 15/100 [00:23<02:12,  1.56s/it]"
     ]
    },
    {
     "name": "stderr",
     "output_type": "stream",
     "text": [
      "\r",
      "running experiments:  16%|█▌        | 16/100 [00:25<02:11,  1.56s/it]"
     ]
    },
    {
     "name": "stderr",
     "output_type": "stream",
     "text": [
      "\r",
      "running experiments:  17%|█▋        | 17/100 [00:26<02:10,  1.57s/it]"
     ]
    },
    {
     "name": "stderr",
     "output_type": "stream",
     "text": [
      "\r",
      "running experiments:  18%|█▊        | 18/100 [00:28<02:08,  1.56s/it]"
     ]
    },
    {
     "name": "stderr",
     "output_type": "stream",
     "text": [
      "\r",
      "running experiments:  19%|█▉        | 19/100 [00:29<02:07,  1.57s/it]"
     ]
    },
    {
     "name": "stderr",
     "output_type": "stream",
     "text": [
      "\r",
      "running experiments:  20%|██        | 20/100 [00:31<02:06,  1.58s/it]"
     ]
    },
    {
     "name": "stderr",
     "output_type": "stream",
     "text": [
      "\r",
      "running experiments:  21%|██        | 21/100 [00:32<02:04,  1.57s/it]"
     ]
    },
    {
     "name": "stderr",
     "output_type": "stream",
     "text": [
      "\r",
      "running experiments:  22%|██▏       | 22/100 [00:34<02:02,  1.58s/it]"
     ]
    },
    {
     "name": "stderr",
     "output_type": "stream",
     "text": [
      "\r",
      "running experiments:  23%|██▎       | 23/100 [00:36<02:01,  1.58s/it]"
     ]
    },
    {
     "name": "stderr",
     "output_type": "stream",
     "text": [
      "\r",
      "running experiments:  24%|██▍       | 24/100 [00:37<01:59,  1.57s/it]"
     ]
    },
    {
     "name": "stderr",
     "output_type": "stream",
     "text": [
      "\r",
      "running experiments:  25%|██▌       | 25/100 [00:39<01:57,  1.57s/it]"
     ]
    },
    {
     "name": "stderr",
     "output_type": "stream",
     "text": [
      "\r",
      "running experiments:  26%|██▌       | 26/100 [00:40<01:55,  1.57s/it]"
     ]
    },
    {
     "name": "stderr",
     "output_type": "stream",
     "text": [
      "\r",
      "running experiments:  27%|██▋       | 27/100 [00:42<01:54,  1.57s/it]"
     ]
    },
    {
     "name": "stderr",
     "output_type": "stream",
     "text": [
      "\r",
      "running experiments:  28%|██▊       | 28/100 [00:43<01:53,  1.58s/it]"
     ]
    },
    {
     "name": "stderr",
     "output_type": "stream",
     "text": [
      "\r",
      "running experiments:  29%|██▉       | 29/100 [00:45<01:51,  1.58s/it]"
     ]
    },
    {
     "name": "stderr",
     "output_type": "stream",
     "text": [
      "\r",
      "running experiments:  30%|███       | 30/100 [00:47<01:50,  1.58s/it]"
     ]
    },
    {
     "name": "stderr",
     "output_type": "stream",
     "text": [
      "\r",
      "running experiments:  31%|███       | 31/100 [00:48<01:49,  1.59s/it]"
     ]
    },
    {
     "name": "stderr",
     "output_type": "stream",
     "text": [
      "\r",
      "running experiments:  32%|███▏      | 32/100 [00:50<01:47,  1.58s/it]"
     ]
    },
    {
     "name": "stderr",
     "output_type": "stream",
     "text": [
      "\r",
      "running experiments:  33%|███▎      | 33/100 [00:51<01:45,  1.57s/it]"
     ]
    },
    {
     "name": "stderr",
     "output_type": "stream",
     "text": [
      "\r",
      "running experiments:  34%|███▍      | 34/100 [00:53<01:44,  1.58s/it]"
     ]
    },
    {
     "name": "stderr",
     "output_type": "stream",
     "text": [
      "\r",
      "running experiments:  35%|███▌      | 35/100 [00:54<01:42,  1.57s/it]"
     ]
    },
    {
     "name": "stderr",
     "output_type": "stream",
     "text": [
      "\r",
      "running experiments:  36%|███▌      | 36/100 [00:56<01:40,  1.57s/it]"
     ]
    },
    {
     "name": "stderr",
     "output_type": "stream",
     "text": [
      "\r",
      "running experiments:  37%|███▋      | 37/100 [00:58<01:38,  1.56s/it]"
     ]
    },
    {
     "name": "stderr",
     "output_type": "stream",
     "text": [
      "\r",
      "running experiments:  38%|███▊      | 38/100 [00:59<01:36,  1.56s/it]"
     ]
    },
    {
     "name": "stderr",
     "output_type": "stream",
     "text": [
      "\r",
      "running experiments:  39%|███▉      | 39/100 [01:01<01:35,  1.56s/it]"
     ]
    },
    {
     "name": "stderr",
     "output_type": "stream",
     "text": [
      "\r",
      "running experiments:  40%|████      | 40/100 [01:02<01:34,  1.58s/it]"
     ]
    },
    {
     "name": "stderr",
     "output_type": "stream",
     "text": [
      "\r",
      "running experiments:  41%|████      | 41/100 [01:04<01:33,  1.58s/it]"
     ]
    },
    {
     "name": "stderr",
     "output_type": "stream",
     "text": [
      "\r",
      "running experiments:  42%|████▏     | 42/100 [01:05<01:31,  1.57s/it]"
     ]
    },
    {
     "name": "stderr",
     "output_type": "stream",
     "text": [
      "\r",
      "running experiments:  43%|████▎     | 43/100 [01:07<01:29,  1.57s/it]"
     ]
    },
    {
     "name": "stderr",
     "output_type": "stream",
     "text": [
      "\r",
      "running experiments:  44%|████▍     | 44/100 [01:09<01:27,  1.56s/it]"
     ]
    },
    {
     "name": "stderr",
     "output_type": "stream",
     "text": [
      "\r",
      "running experiments:  45%|████▌     | 45/100 [01:10<01:25,  1.55s/it]"
     ]
    },
    {
     "name": "stderr",
     "output_type": "stream",
     "text": [
      "\r",
      "running experiments:  46%|████▌     | 46/100 [01:12<01:24,  1.56s/it]"
     ]
    },
    {
     "name": "stderr",
     "output_type": "stream",
     "text": [
      "\r",
      "running experiments:  47%|████▋     | 47/100 [01:13<01:22,  1.55s/it]"
     ]
    },
    {
     "name": "stderr",
     "output_type": "stream",
     "text": [
      "\r",
      "running experiments:  48%|████▊     | 48/100 [01:15<01:20,  1.55s/it]"
     ]
    },
    {
     "name": "stderr",
     "output_type": "stream",
     "text": [
      "\r",
      "running experiments:  49%|████▉     | 49/100 [01:16<01:19,  1.55s/it]"
     ]
    },
    {
     "name": "stderr",
     "output_type": "stream",
     "text": [
      "\r",
      "running experiments:  50%|█████     | 50/100 [01:18<01:18,  1.57s/it]"
     ]
    },
    {
     "name": "stderr",
     "output_type": "stream",
     "text": [
      "\r",
      "running experiments:  51%|█████     | 51/100 [01:20<01:17,  1.59s/it]"
     ]
    },
    {
     "name": "stderr",
     "output_type": "stream",
     "text": [
      "\r",
      "running experiments:  52%|█████▏    | 52/100 [01:21<01:16,  1.59s/it]"
     ]
    },
    {
     "name": "stderr",
     "output_type": "stream",
     "text": [
      "\r",
      "running experiments:  53%|█████▎    | 53/100 [01:23<01:14,  1.59s/it]"
     ]
    },
    {
     "name": "stderr",
     "output_type": "stream",
     "text": [
      "\r",
      "running experiments:  54%|█████▍    | 54/100 [01:24<01:12,  1.58s/it]"
     ]
    },
    {
     "name": "stderr",
     "output_type": "stream",
     "text": [
      "\r",
      "running experiments:  55%|█████▌    | 55/100 [01:26<01:10,  1.57s/it]"
     ]
    },
    {
     "name": "stderr",
     "output_type": "stream",
     "text": [
      "\r",
      "running experiments:  56%|█████▌    | 56/100 [01:27<01:08,  1.57s/it]"
     ]
    },
    {
     "name": "stderr",
     "output_type": "stream",
     "text": [
      "\r",
      "running experiments:  57%|█████▋    | 57/100 [01:29<01:07,  1.57s/it]"
     ]
    },
    {
     "name": "stderr",
     "output_type": "stream",
     "text": [
      "\r",
      "running experiments:  58%|█████▊    | 58/100 [01:31<01:05,  1.56s/it]"
     ]
    },
    {
     "name": "stderr",
     "output_type": "stream",
     "text": [
      "\r",
      "running experiments:  59%|█████▉    | 59/100 [01:32<01:04,  1.58s/it]"
     ]
    },
    {
     "name": "stderr",
     "output_type": "stream",
     "text": [
      "\r",
      "running experiments:  60%|██████    | 60/100 [01:34<01:02,  1.57s/it]"
     ]
    },
    {
     "name": "stderr",
     "output_type": "stream",
     "text": [
      "\r",
      "running experiments:  61%|██████    | 61/100 [01:35<01:00,  1.56s/it]"
     ]
    },
    {
     "name": "stderr",
     "output_type": "stream",
     "text": [
      "\r",
      "running experiments:  62%|██████▏   | 62/100 [01:37<00:59,  1.56s/it]"
     ]
    },
    {
     "name": "stderr",
     "output_type": "stream",
     "text": [
      "\r",
      "running experiments:  63%|██████▎   | 63/100 [01:38<00:58,  1.57s/it]"
     ]
    },
    {
     "name": "stderr",
     "output_type": "stream",
     "text": [
      "\r",
      "running experiments:  64%|██████▍   | 64/100 [01:40<00:56,  1.58s/it]"
     ]
    },
    {
     "name": "stderr",
     "output_type": "stream",
     "text": [
      "\r",
      "running experiments:  65%|██████▌   | 65/100 [01:42<00:55,  1.57s/it]"
     ]
    },
    {
     "name": "stderr",
     "output_type": "stream",
     "text": [
      "\r",
      "running experiments:  66%|██████▌   | 66/100 [01:43<00:53,  1.57s/it]"
     ]
    },
    {
     "name": "stderr",
     "output_type": "stream",
     "text": [
      "\r",
      "running experiments:  67%|██████▋   | 67/100 [01:45<00:51,  1.58s/it]"
     ]
    },
    {
     "name": "stderr",
     "output_type": "stream",
     "text": [
      "\r",
      "running experiments:  68%|██████▊   | 68/100 [01:46<00:50,  1.59s/it]"
     ]
    },
    {
     "name": "stderr",
     "output_type": "stream",
     "text": [
      "\r",
      "running experiments:  69%|██████▉   | 69/100 [01:48<00:49,  1.60s/it]"
     ]
    },
    {
     "name": "stderr",
     "output_type": "stream",
     "text": [
      "\r",
      "running experiments:  70%|███████   | 70/100 [01:50<00:47,  1.59s/it]"
     ]
    },
    {
     "name": "stderr",
     "output_type": "stream",
     "text": [
      "\r",
      "running experiments:  71%|███████   | 71/100 [01:51<00:45,  1.58s/it]"
     ]
    },
    {
     "name": "stderr",
     "output_type": "stream",
     "text": [
      "\r",
      "running experiments:  72%|███████▏  | 72/100 [01:53<00:44,  1.58s/it]"
     ]
    },
    {
     "name": "stderr",
     "output_type": "stream",
     "text": [
      "\r",
      "running experiments:  73%|███████▎  | 73/100 [01:54<00:42,  1.57s/it]"
     ]
    },
    {
     "name": "stderr",
     "output_type": "stream",
     "text": [
      "\r",
      "running experiments:  74%|███████▍  | 74/100 [01:56<00:40,  1.56s/it]"
     ]
    },
    {
     "name": "stderr",
     "output_type": "stream",
     "text": [
      "\r",
      "running experiments:  75%|███████▌  | 75/100 [01:57<00:38,  1.56s/it]"
     ]
    },
    {
     "name": "stderr",
     "output_type": "stream",
     "text": [
      "\r",
      "running experiments:  76%|███████▌  | 76/100 [01:59<00:37,  1.55s/it]"
     ]
    },
    {
     "name": "stderr",
     "output_type": "stream",
     "text": [
      "\r",
      "running experiments:  77%|███████▋  | 77/100 [02:00<00:35,  1.54s/it]"
     ]
    },
    {
     "name": "stderr",
     "output_type": "stream",
     "text": [
      "\r",
      "running experiments:  78%|███████▊  | 78/100 [02:02<00:33,  1.54s/it]"
     ]
    },
    {
     "name": "stderr",
     "output_type": "stream",
     "text": [
      "\r",
      "running experiments:  79%|███████▉  | 79/100 [02:03<00:32,  1.55s/it]"
     ]
    },
    {
     "name": "stderr",
     "output_type": "stream",
     "text": [
      "\r",
      "running experiments:  80%|████████  | 80/100 [02:05<00:30,  1.55s/it]"
     ]
    },
    {
     "name": "stderr",
     "output_type": "stream",
     "text": [
      "\r",
      "running experiments:  81%|████████  | 81/100 [02:07<00:29,  1.56s/it]"
     ]
    },
    {
     "name": "stderr",
     "output_type": "stream",
     "text": [
      "\r",
      "running experiments:  82%|████████▏ | 82/100 [02:08<00:28,  1.57s/it]"
     ]
    },
    {
     "name": "stderr",
     "output_type": "stream",
     "text": [
      "\r",
      "running experiments:  83%|████████▎ | 83/100 [02:10<00:26,  1.58s/it]"
     ]
    },
    {
     "name": "stderr",
     "output_type": "stream",
     "text": [
      "\r",
      "running experiments:  84%|████████▍ | 84/100 [02:11<00:25,  1.58s/it]"
     ]
    },
    {
     "name": "stderr",
     "output_type": "stream",
     "text": [
      "\r",
      "running experiments:  85%|████████▌ | 85/100 [02:13<00:23,  1.59s/it]"
     ]
    },
    {
     "name": "stderr",
     "output_type": "stream",
     "text": [
      "\r",
      "running experiments:  86%|████████▌ | 86/100 [02:15<00:22,  1.60s/it]"
     ]
    },
    {
     "name": "stderr",
     "output_type": "stream",
     "text": [
      "\r",
      "running experiments:  87%|████████▋ | 87/100 [02:16<00:20,  1.61s/it]"
     ]
    },
    {
     "name": "stderr",
     "output_type": "stream",
     "text": [
      "\r",
      "running experiments:  88%|████████▊ | 88/100 [02:18<00:19,  1.59s/it]"
     ]
    },
    {
     "name": "stderr",
     "output_type": "stream",
     "text": [
      "\r",
      "running experiments:  89%|████████▉ | 89/100 [02:19<00:17,  1.58s/it]"
     ]
    },
    {
     "name": "stderr",
     "output_type": "stream",
     "text": [
      "\r",
      "running experiments:  90%|█████████ | 90/100 [02:21<00:15,  1.57s/it]"
     ]
    },
    {
     "name": "stderr",
     "output_type": "stream",
     "text": [
      "\r",
      "running experiments:  91%|█████████ | 91/100 [02:22<00:14,  1.56s/it]"
     ]
    },
    {
     "name": "stderr",
     "output_type": "stream",
     "text": [
      "\r",
      "running experiments:  92%|█████████▏| 92/100 [02:24<00:12,  1.56s/it]"
     ]
    },
    {
     "name": "stderr",
     "output_type": "stream",
     "text": [
      "\r",
      "running experiments:  93%|█████████▎| 93/100 [02:26<00:10,  1.56s/it]"
     ]
    },
    {
     "name": "stderr",
     "output_type": "stream",
     "text": [
      "\r",
      "running experiments:  94%|█████████▍| 94/100 [02:27<00:09,  1.58s/it]"
     ]
    },
    {
     "name": "stderr",
     "output_type": "stream",
     "text": [
      "\r",
      "running experiments:  95%|█████████▌| 95/100 [02:29<00:07,  1.60s/it]"
     ]
    },
    {
     "name": "stderr",
     "output_type": "stream",
     "text": [
      "\r",
      "running experiments:  96%|█████████▌| 96/100 [02:30<00:06,  1.62s/it]"
     ]
    },
    {
     "name": "stderr",
     "output_type": "stream",
     "text": [
      "\r",
      "running experiments:  97%|█████████▋| 97/100 [02:32<00:04,  1.61s/it]"
     ]
    },
    {
     "name": "stderr",
     "output_type": "stream",
     "text": [
      "\r",
      "running experiments:  98%|█████████▊| 98/100 [02:34<00:03,  1.60s/it]"
     ]
    },
    {
     "name": "stderr",
     "output_type": "stream",
     "text": [
      "\r",
      "running experiments:  99%|█████████▉| 99/100 [02:35<00:01,  1.59s/it]"
     ]
    },
    {
     "name": "stderr",
     "output_type": "stream",
     "text": [
      "\r",
      "running experiments: 100%|██████████| 100/100 [02:37<00:00,  1.57s/it]"
     ]
    },
    {
     "name": "stderr",
     "output_type": "stream",
     "text": [
      "\r",
      "running experiments: 100%|██████████| 100/100 [02:37<00:00,  1.57s/it]"
     ]
    },
    {
     "name": "stdout",
     "output_type": "stream",
     "text": [
      "CPU times: user 2min 36s, sys: 937 ms, total: 2min 37s\n",
      "Wall time: 2min 37s\n"
     ]
    },
    {
     "name": "stderr",
     "output_type": "stream",
     "text": [
      "\n"
     ]
    }
   ],
   "source": [
    "\n",
    "%%time\n",
    "simulation.run_simulation(n_experiments, start_n, fit_params,shuffle_rows, pred_params, random_features, \\\n",
    "                          store_in_lists, save_eigenvector, save_hamiltonian, save_accuracy,\\\n",
    "                          save_models)\n",
    "if simulation.fourier_mode is not None:\n",
    "    simulation.fourier_dataframe.head(10)"
   ]
  },
  {
   "cell_type": "code",
   "execution_count": 28,
   "metadata": {
    "execution": {
     "iopub.execute_input": "2020-07-16T03:15:07.113469Z",
     "iopub.status.busy": "2020-07-16T03:15:07.113150Z",
     "iopub.status.idle": "2020-07-16T03:15:07.136990Z",
     "shell.execute_reply": "2020-07-16T03:15:07.136673Z"
    },
    "papermill": {
     "duration": 0.060359,
     "end_time": "2020-07-16T03:15:07.137043",
     "exception": false,
     "start_time": "2020-07-16T03:15:07.076684",
     "status": "completed"
    },
    "tags": []
   },
   "outputs": [
    {
     "data": {
      "text/html": [
       "<div>\n",
       "<style scoped>\n",
       "    .dataframe tbody tr th:only-of-type {\n",
       "        vertical-align: middle;\n",
       "    }\n",
       "\n",
       "    .dataframe tbody tr th {\n",
       "        vertical-align: top;\n",
       "    }\n",
       "\n",
       "    .dataframe thead th {\n",
       "        text-align: right;\n",
       "    }\n",
       "</style>\n",
       "<table border=\"1\" class=\"dataframe\">\n",
       "  <thead>\n",
       "    <tr style=\"text-align: right;\">\n",
       "      <th></th>\n",
       "      <th>id</th>\n",
       "      <th>path</th>\n",
       "      <th>t1</th>\n",
       "      <th>t2</th>\n",
       "      <th>winding</th>\n",
       "      <th>phase</th>\n",
       "      <th>pred_phase</th>\n",
       "      <th>type_of</th>\n",
       "      <th>feat0</th>\n",
       "      <th>feat1</th>\n",
       "      <th>...</th>\n",
       "      <th>feat90</th>\n",
       "      <th>feat91</th>\n",
       "      <th>feat92</th>\n",
       "      <th>feat93</th>\n",
       "      <th>feat94</th>\n",
       "      <th>feat95</th>\n",
       "      <th>feat96</th>\n",
       "      <th>feat97</th>\n",
       "      <th>feat98</th>\n",
       "      <th>feat99</th>\n",
       "    </tr>\n",
       "  </thead>\n",
       "  <tbody>\n",
       "    <tr>\n",
       "      <th>0</th>\n",
       "      <td>0</td>\n",
       "      <td>H_-2_-2_0.509296.dat</td>\n",
       "      <td>-2.0</td>\n",
       "      <td>-2.0</td>\n",
       "      <td>0.509296</td>\n",
       "      <td>999</td>\n",
       "      <td>666</td>\n",
       "      <td>test</td>\n",
       "      <td>0.100000</td>\n",
       "      <td>0.100000</td>\n",
       "      <td>...</td>\n",
       "      <td>0.100000</td>\n",
       "      <td>0.100000</td>\n",
       "      <td>0.100000</td>\n",
       "      <td>0.100000</td>\n",
       "      <td>0.100000</td>\n",
       "      <td>0.100000</td>\n",
       "      <td>0.100000</td>\n",
       "      <td>0.100000</td>\n",
       "      <td>0.100000</td>\n",
       "      <td>0.100000</td>\n",
       "    </tr>\n",
       "    <tr>\n",
       "      <th>1</th>\n",
       "      <td>0</td>\n",
       "      <td>H_-2_-2_0.509296.dat</td>\n",
       "      <td>-2.0</td>\n",
       "      <td>-2.0</td>\n",
       "      <td>0.509296</td>\n",
       "      <td>999</td>\n",
       "      <td>666</td>\n",
       "      <td>test</td>\n",
       "      <td>0.141421</td>\n",
       "      <td>0.141142</td>\n",
       "      <td>...</td>\n",
       "      <td>0.114412</td>\n",
       "      <td>0.108967</td>\n",
       "      <td>0.123928</td>\n",
       "      <td>0.119406</td>\n",
       "      <td>0.131490</td>\n",
       "      <td>0.127962</td>\n",
       "      <td>0.136978</td>\n",
       "      <td>0.134500</td>\n",
       "      <td>0.140306</td>\n",
       "      <td>0.138916</td>\n",
       "    </tr>\n",
       "    <tr>\n",
       "      <th>2</th>\n",
       "      <td>0</td>\n",
       "      <td>H_-2_-2_0.509296.dat</td>\n",
       "      <td>-2.0</td>\n",
       "      <td>-2.0</td>\n",
       "      <td>0.509296</td>\n",
       "      <td>999</td>\n",
       "      <td>666</td>\n",
       "      <td>test</td>\n",
       "      <td>0.141421</td>\n",
       "      <td>0.140306</td>\n",
       "      <td>...</td>\n",
       "      <td>0.043702</td>\n",
       "      <td>0.026500</td>\n",
       "      <td>0.075777</td>\n",
       "      <td>0.060214</td>\n",
       "      <td>0.103092</td>\n",
       "      <td>0.090145</td>\n",
       "      <td>0.123928</td>\n",
       "      <td>0.114412</td>\n",
       "      <td>0.136978</td>\n",
       "      <td>0.131490</td>\n",
       "    </tr>\n",
       "    <tr>\n",
       "      <th>3</th>\n",
       "      <td>0</td>\n",
       "      <td>H_-2_-2_0.509296.dat</td>\n",
       "      <td>-2.0</td>\n",
       "      <td>-2.0</td>\n",
       "      <td>0.509296</td>\n",
       "      <td>999</td>\n",
       "      <td>666</td>\n",
       "      <td>test</td>\n",
       "      <td>-0.100000</td>\n",
       "      <td>0.100000</td>\n",
       "      <td>...</td>\n",
       "      <td>-0.100000</td>\n",
       "      <td>0.100000</td>\n",
       "      <td>-0.100000</td>\n",
       "      <td>0.100000</td>\n",
       "      <td>-0.100000</td>\n",
       "      <td>0.100000</td>\n",
       "      <td>-0.100000</td>\n",
       "      <td>0.100000</td>\n",
       "      <td>-0.100000</td>\n",
       "      <td>0.100000</td>\n",
       "    </tr>\n",
       "    <tr>\n",
       "      <th>4</th>\n",
       "      <td>0</td>\n",
       "      <td>H_-2_-2_0.509296.dat</td>\n",
       "      <td>-2.0</td>\n",
       "      <td>-2.0</td>\n",
       "      <td>0.509296</td>\n",
       "      <td>999</td>\n",
       "      <td>666</td>\n",
       "      <td>test</td>\n",
       "      <td>0.000509</td>\n",
       "      <td>-0.008372</td>\n",
       "      <td>...</td>\n",
       "      <td>-0.082713</td>\n",
       "      <td>-0.089753</td>\n",
       "      <td>-0.067684</td>\n",
       "      <td>-0.075347</td>\n",
       "      <td>-0.051587</td>\n",
       "      <td>-0.059753</td>\n",
       "      <td>-0.034677</td>\n",
       "      <td>-0.043217</td>\n",
       "      <td>-0.017220</td>\n",
       "      <td>-0.026000</td>\n",
       "    </tr>\n",
       "    <tr>\n",
       "      <th>5</th>\n",
       "      <td>0</td>\n",
       "      <td>H_-2_-2_0.509296.dat</td>\n",
       "      <td>-2.0</td>\n",
       "      <td>-2.0</td>\n",
       "      <td>0.509296</td>\n",
       "      <td>999</td>\n",
       "      <td>666</td>\n",
       "      <td>test</td>\n",
       "      <td>0.001204</td>\n",
       "      <td>-0.016530</td>\n",
       "      <td>...</td>\n",
       "      <td>-0.134123</td>\n",
       "      <td>-0.138686</td>\n",
       "      <td>-0.118757</td>\n",
       "      <td>-0.127445</td>\n",
       "      <td>-0.095929</td>\n",
       "      <td>-0.108196</td>\n",
       "      <td>-0.067073</td>\n",
       "      <td>-0.082149</td>\n",
       "      <td>-0.034003</td>\n",
       "      <td>-0.050940</td>\n",
       "    </tr>\n",
       "    <tr>\n",
       "      <th>6</th>\n",
       "      <td>0</td>\n",
       "      <td>H_-2_-2_0.509296.dat</td>\n",
       "      <td>-2.0</td>\n",
       "      <td>-2.0</td>\n",
       "      <td>0.509296</td>\n",
       "      <td>999</td>\n",
       "      <td>666</td>\n",
       "      <td>test</td>\n",
       "      <td>-0.141421</td>\n",
       "      <td>-0.138980</td>\n",
       "      <td>...</td>\n",
       "      <td>0.043375</td>\n",
       "      <td>0.067830</td>\n",
       "      <td>-0.009222</td>\n",
       "      <td>0.017385</td>\n",
       "      <td>-0.060524</td>\n",
       "      <td>-0.035502</td>\n",
       "      <td>-0.103326</td>\n",
       "      <td>-0.083403</td>\n",
       "      <td>-0.131616</td>\n",
       "      <td>-0.119589</td>\n",
       "    </tr>\n",
       "    <tr>\n",
       "      <th>7</th>\n",
       "      <td>0</td>\n",
       "      <td>H_-2_-2_0.509296.dat</td>\n",
       "      <td>-2.0</td>\n",
       "      <td>-2.0</td>\n",
       "      <td>0.509296</td>\n",
       "      <td>999</td>\n",
       "      <td>666</td>\n",
       "      <td>test</td>\n",
       "      <td>-0.000826</td>\n",
       "      <td>0.025688</td>\n",
       "      <td>...</td>\n",
       "      <td>0.134753</td>\n",
       "      <td>0.124324</td>\n",
       "      <td>0.141088</td>\n",
       "      <td>0.140407</td>\n",
       "      <td>0.127608</td>\n",
       "      <td>0.136771</td>\n",
       "      <td>0.096206</td>\n",
       "      <td>0.113925</td>\n",
       "      <td>0.051292</td>\n",
       "      <td>0.075079</td>\n",
       "    </tr>\n",
       "    <tr>\n",
       "      <th>8</th>\n",
       "      <td>0</td>\n",
       "      <td>H_-2_-2_0.509296.dat</td>\n",
       "      <td>-2.0</td>\n",
       "      <td>-2.0</td>\n",
       "      <td>0.509296</td>\n",
       "      <td>999</td>\n",
       "      <td>666</td>\n",
       "      <td>test</td>\n",
       "      <td>0.141417</td>\n",
       "      <td>0.136684</td>\n",
       "      <td>...</td>\n",
       "      <td>-0.115093</td>\n",
       "      <td>-0.131915</td>\n",
       "      <td>-0.061266</td>\n",
       "      <td>-0.091040</td>\n",
       "      <td>0.007717</td>\n",
       "      <td>-0.027643</td>\n",
       "      <td>0.074791</td>\n",
       "      <td>0.042592</td>\n",
       "      <td>0.123363</td>\n",
       "      <td>0.102291</td>\n",
       "    </tr>\n",
       "    <tr>\n",
       "      <th>9</th>\n",
       "      <td>0</td>\n",
       "      <td>H_-2_-2_0.509296.dat</td>\n",
       "      <td>-2.0</td>\n",
       "      <td>-2.0</td>\n",
       "      <td>0.509296</td>\n",
       "      <td>999</td>\n",
       "      <td>666</td>\n",
       "      <td>test</td>\n",
       "      <td>0.001302</td>\n",
       "      <td>0.036430</td>\n",
       "      <td>...</td>\n",
       "      <td>0.082068</td>\n",
       "      <td>0.050848</td>\n",
       "      <td>0.127402</td>\n",
       "      <td>0.108132</td>\n",
       "      <td>0.141218</td>\n",
       "      <td>0.138667</td>\n",
       "      <td>0.120099</td>\n",
       "      <td>0.134896</td>\n",
       "      <td>0.069268</td>\n",
       "      <td>0.097755</td>\n",
       "    </tr>\n",
       "  </tbody>\n",
       "</table>\n",
       "<p>10 rows × 108 columns</p>\n",
       "</div>"
      ],
      "text/plain": [
       "   id                  path   t1   t2   winding  phase  pred_phase type_of  \\\n",
       "0   0  H_-2_-2_0.509296.dat -2.0 -2.0  0.509296    999         666    test   \n",
       "1   0  H_-2_-2_0.509296.dat -2.0 -2.0  0.509296    999         666    test   \n",
       "2   0  H_-2_-2_0.509296.dat -2.0 -2.0  0.509296    999         666    test   \n",
       "3   0  H_-2_-2_0.509296.dat -2.0 -2.0  0.509296    999         666    test   \n",
       "4   0  H_-2_-2_0.509296.dat -2.0 -2.0  0.509296    999         666    test   \n",
       "5   0  H_-2_-2_0.509296.dat -2.0 -2.0  0.509296    999         666    test   \n",
       "6   0  H_-2_-2_0.509296.dat -2.0 -2.0  0.509296    999         666    test   \n",
       "7   0  H_-2_-2_0.509296.dat -2.0 -2.0  0.509296    999         666    test   \n",
       "8   0  H_-2_-2_0.509296.dat -2.0 -2.0  0.509296    999         666    test   \n",
       "9   0  H_-2_-2_0.509296.dat -2.0 -2.0  0.509296    999         666    test   \n",
       "\n",
       "      feat0     feat1  ...    feat90    feat91    feat92    feat93    feat94  \\\n",
       "0  0.100000  0.100000  ...  0.100000  0.100000  0.100000  0.100000  0.100000   \n",
       "1  0.141421  0.141142  ...  0.114412  0.108967  0.123928  0.119406  0.131490   \n",
       "2  0.141421  0.140306  ...  0.043702  0.026500  0.075777  0.060214  0.103092   \n",
       "3 -0.100000  0.100000  ... -0.100000  0.100000 -0.100000  0.100000 -0.100000   \n",
       "4  0.000509 -0.008372  ... -0.082713 -0.089753 -0.067684 -0.075347 -0.051587   \n",
       "5  0.001204 -0.016530  ... -0.134123 -0.138686 -0.118757 -0.127445 -0.095929   \n",
       "6 -0.141421 -0.138980  ...  0.043375  0.067830 -0.009222  0.017385 -0.060524   \n",
       "7 -0.000826  0.025688  ...  0.134753  0.124324  0.141088  0.140407  0.127608   \n",
       "8  0.141417  0.136684  ... -0.115093 -0.131915 -0.061266 -0.091040  0.007717   \n",
       "9  0.001302  0.036430  ...  0.082068  0.050848  0.127402  0.108132  0.141218   \n",
       "\n",
       "     feat95    feat96    feat97    feat98    feat99  \n",
       "0  0.100000  0.100000  0.100000  0.100000  0.100000  \n",
       "1  0.127962  0.136978  0.134500  0.140306  0.138916  \n",
       "2  0.090145  0.123928  0.114412  0.136978  0.131490  \n",
       "3  0.100000 -0.100000  0.100000 -0.100000  0.100000  \n",
       "4 -0.059753 -0.034677 -0.043217 -0.017220 -0.026000  \n",
       "5 -0.108196 -0.067073 -0.082149 -0.034003 -0.050940  \n",
       "6 -0.035502 -0.103326 -0.083403 -0.131616 -0.119589  \n",
       "7  0.136771  0.096206  0.113925  0.051292  0.075079  \n",
       "8 -0.027643  0.074791  0.042592  0.123363  0.102291  \n",
       "9  0.138667  0.120099  0.134896  0.069268  0.097755  \n",
       "\n",
       "[10 rows x 108 columns]"
      ]
     },
     "execution_count": 28,
     "metadata": {},
     "output_type": "execute_result"
    }
   ],
   "source": [
    "simulation.dataframe.head(10)"
   ]
  },
  {
   "cell_type": "markdown",
   "metadata": {
    "papermill": {
     "duration": 0.036233,
     "end_time": "2020-07-16T03:15:07.209662",
     "exception": false,
     "start_time": "2020-07-16T03:15:07.173429",
     "status": "completed"
    },
    "tags": []
   },
   "source": [
    "#### Viewing a random sample"
   ]
  },
  {
   "cell_type": "code",
   "execution_count": 29,
   "metadata": {
    "execution": {
     "iopub.execute_input": "2020-07-16T03:15:07.285058Z",
     "iopub.status.busy": "2020-07-16T03:15:07.284706Z",
     "iopub.status.idle": "2020-07-16T03:15:07.311456Z",
     "shell.execute_reply": "2020-07-16T03:15:07.311133Z"
    },
    "papermill": {
     "duration": 0.064326,
     "end_time": "2020-07-16T03:15:07.311510",
     "exception": false,
     "start_time": "2020-07-16T03:15:07.247184",
     "status": "completed"
    },
    "tags": []
   },
   "outputs": [
    {
     "name": "stdout",
     "output_type": "stream",
     "text": [
      "CPU times: user 16.6 ms, sys: 0 ns, total: 16.6 ms\n",
      "Wall time: 16.4 ms\n"
     ]
    }
   ],
   "source": [
    "%%time\n",
    "if simulation.fourier_mode is not None:\n",
    "    simulation.fourier_dataframe.sample(frac=0.1, replace=False)"
   ]
  },
  {
   "cell_type": "markdown",
   "metadata": {
    "papermill": {
     "duration": 0.037786,
     "end_time": "2020-07-16T03:15:07.385624",
     "exception": false,
     "start_time": "2020-07-16T03:15:07.347838",
     "status": "completed"
    },
    "tags": []
   },
   "source": [
    "#### Checking train/val/test splits again"
   ]
  },
  {
   "cell_type": "code",
   "execution_count": 30,
   "metadata": {
    "execution": {
     "iopub.execute_input": "2020-07-16T03:15:07.458973Z",
     "iopub.status.busy": "2020-07-16T03:15:07.458650Z",
     "iopub.status.idle": "2020-07-16T03:15:07.636388Z",
     "shell.execute_reply": "2020-07-16T03:15:07.636107Z"
    },
    "papermill": {
     "duration": 0.215402,
     "end_time": "2020-07-16T03:15:07.636444",
     "exception": false,
     "start_time": "2020-07-16T03:15:07.421042",
     "status": "completed"
    },
    "tags": []
   },
   "outputs": [
    {
     "name": "stdout",
     "output_type": "stream",
     "text": [
      "% train:  0.08474317939338516\n",
      "% val:  0.7620789513793629\n",
      "% test:  0.15317786922725193\n",
      "% train + val + test:  1.0\n",
      "\n",
      "\n",
      "number of train hamiltonians:  556\n",
      "number of val hamiltonians:  5000\n",
      "number of test hamiltonians:  1005\n",
      "total number of hamiltonians:  6561\n",
      "\n",
      "\n",
      "train ids:  [5867, 1879, 503, 3569, 1126, 1029, 214, 4789, 5891, 5350, 4745, 2382, 5075, 3585, 47, 1937, 3487, 3430, 2552, 1136, 2089, 3292, 2367, 3211, 374, 4964, 2170, 6117, 233, 2697, 1874, 3930, 4915, 6109, 4496, 5727, 460, 2389, 3185, 2944, 2998, 1774, 4778, 519, 5094, 370, 4503, 1256, 6051, 2770, 1704, 3889, 3577, 1411, 265, 6262, 4152, 4024, 2996, 4700, 1758, 6204, 5267, 6246, 887, 215, 6208, 3699, 5879, 925, 862, 4452, 4308, 6282, 3044, 5487, 3157, 3888, 3830, 6264, 1257, 5314, 4121, 3944, 3821, 3275, 2446, 625, 5793, 52, 2905, 2947, 129, 4630, 147, 111, 379, 2095, 2495, 38, 343, 2117, 2456, 1905, 4809, 697, 4706, 3389, 6101, 3479, 2930, 1849, 5192, 4743, 4796, 2327, 2617, 3826, 3643, 1340, 2096, 175, 4976, 2520, 5389, 4983, 2953, 1345, 2489, 4600, 344, 4483, 4895, 3623, 4414, 6529, 3543, 3142, 6237, 1047, 6182, 2472, 3456, 5808, 3370, 5677, 2766, 3829, 4774, 2309, 1184, 4666, 2851, 5130, 2478, 4491, 3269, 5444, 4847, 5686, 283, 6219, 6267, 3952, 4274, 1663, 1260, 451, 148, 3335, 3312, 3495, 2976, 6550, 857, 5645, 1605, 5812, 1318, 1489, 2847, 1795, 1211, 2899, 1812, 4684, 6268, 1861, 2918, 4832, 3887, 1336, 1935, 4878, 3858, 1750, 3745, 389, 5133, 5195, 4278, 5695, 3110, 121, 295, 3541, 1910, 4794, 1483, 1645, 108, 4246, 4748, 4325, 3763, 4546, 2907, 4357, 3351, 2473, 5716, 3024, 3727, 1240, 3587, 5442, 337, 3209, 2730, 2934, 6281, 3824, 3933, 5844, 1608, 5153, 1757, 2826, 3611, 3605, 378, 5208, 1983, 2236, 1106, 6430, 4732, 4341, 5617, 3397, 4943, 2501, 3121, 217, 96, 6015, 1820, 4833, 1988, 3896, 2713, 3363, 3701, 2700, 156, 1377, 4621, 2798, 3580, 3462, 3228, 4580, 2723, 454, 2656, 2432, 2734, 441, 13, 3079, 2430, 3353, 5895, 2574, 5781, 2497, 832, 2744, 2819, 3644, 3291, 1418, 5159, 3170, 3892, 2781, 1777, 1072, 6180, 4786, 6172, 1626, 5257, 3659, 2403, 1828, 4574, 2901, 2007, 1455, 1516, 3051, 2678, 4499, 1433, 695, 4373, 2572, 5141, 940, 1745, 3750, 2893, 4777, 755, 2019, 2911, 6209, 5455, 935, 3274, 4287, 6106, 99, 449, 687, 3436, 1134, 2193, 1363, 1857, 5723, 1535, 6167, 5597, 4293, 6165, 2098, 2347, 852, 5291, 4494, 5278, 933, 447, 3343, 5297, 3963, 683, 3377, 2062, 5596, 3323, 3088, 2814, 6380, 4420, 865, 543, 3804, 205, 2585, 3097, 3173, 3789, 2771, 4940, 5452, 1726, 5292, 1699, 172, 3159, 3550, 3661, 6486, 2177, 5627, 4467, 2425, 1500, 4904, 445, 2694, 420, 3873, 4120, 5466, 4990, 3486, 230, 6306, 5016, 2005, 3488, 3715, 510, 1563, 291, 3315, 364, 951, 5266, 4323, 5876, 673, 5707, 5753, 2488, 4688, 3216, 2202, 6536, 1549, 2190, 1546, 3037, 4276, 5693, 6436, 4277, 1207, 119, 4343, 4004, 3089, 5318, 3060, 6301, 550, 4445, 1115, 2313, 4697, 3277, 302, 2438, 6348, 6207, 2535, 394, 4294, 3679, 25, 1902, 4238, 2385, 2078, 4312, 1911, 4162, 5651, 1332, 5510, 4360, 1423, 1275, 5930, 3737, 6114, 926, 1463, 2388, 2836, 5383, 3162, 945, 2970, 2335, 4556, 889, 157, 2233, 5388, 5265, 3225, 3724, 1786, 1945, 2557, 3314, 3126, 5176, 5022, 5290, 4611, 5637, 256, 4145, 5626, 6372, 4437, 3494, 1550, 1160, 3374, 20, 2108, 2708, 4623, 2559, 3070, 4463, 3603, 2842, 3677, 4257, 373, 3114, 6503, 5777, 2663, 382, 434, 1987, 1906, 6108, 1243, 5061, 5384, 2310, 4487, 3988, 5302, 2702, 5230, 2343, 3557, 3400, 3704, 2773, 2961, 4824, 4557, 2229, 181, 2993, 178, 4410, 2362, 6041, 2072, 5710, 6384, 3709, 63]\n",
      "val ids:  [500, 2087, 1486, 4730, 512, 5689, 5782, 859, 2114, 3347, 3146, 1873, 1210, 74, 845, 5132, 2371, 5534, 5966, 725, 50, 3147, 6249, 1367, 2733, 5516, 1776, 3733, 5404, 4434, 4944, 4421, 3265, 1365, 914, 2824, 5522, 4783, 6203, 5979, 1278, 4443, 1981, 3386, 5067, 3869, 771, 2828, 4032, 5473, 4650, 6218, 527, 349, 597, 1083, 2829, 6429, 1687, 2799, 5699, 3207, 2387, 2620, 3652, 67, 3371, 2021, 4416, 122, 2726, 1049, 2156, 3576, 582, 5756, 6090, 5270, 5110, 4228, 877, 4218, 1632, 1036, 2590, 1925, 2485, 3206, 1698, 3497, 385, 1682, 5512, 467, 1016, 4579, 3954, 1851, 3144, 4681, 1272, 3429, 4606, 1408, 4399, 5529, 4962, 4092, 6169, 4933, 1575, 458, 3350, 2328, 849, 4747, 3375, 3544, 2326, 4118, 6166, 670, 5276, 3648, 756, 4531, 617, 1204, 5641, 5780, 2437, 1654, 4108, 5770, 4474, 3194, 2867, 1688, 3174, 2778, 506, 3355, 4164, 2491, 347, 1407, 5622, 999, 544, 2192, 276, 3985, 4413, 1414, 2406, 1087, 1785, 589, 3653, 2774, 4767, 555, 6446, 1513, 183, 1167, 3395, 6409, 2498, 6111, 4176, 77, 4351, 5214, 3020, 679, 2175, 5813, 5368, 6485, 2312, 3667, 144, 3083, 4992, 4882, 5232, 915, 5277, 1501, 5917, 2808, 6448, 6424, 4622, 6252, 2444, 3095, 6494, 4064, 3880, 2426, 1976, 6351, 3630, 3681, 583, 2341, 5776, 3989, 5646, 846, 4716, 268, 6341, 4286, 953, 891, 839, 1691, 2353, 6060, 3398, 2615, 2122, 4143, 2747, 1523, 149, 700, 4254, 2137, 293, 782, 5024, 2521, 294, 1695, 1090, 2059, 4166, 2169, 6178, 5690, 2714, 1797, 3929, 6431, 2173, 4298, 28, 5038, 5565, 3287, 6525, 3825, 2083, 1564, 5017, 4127, 5126, 2935, 2669, 5915, 760, 3615, 1541, 3132, 1748, 5587, 1495, 6283, 3626, 5428, 701, 3439, 5936, 5888, 5449, 5349, 2434, 3642, 2547, 3864, 3575, 355, 6266, 5804, 3725, 1330, 2852, 1713, 2441, 5123, 6057, 4438, 2554, 4123, 3687, 1649, 4984, 715, 6375, 3540, 2146, 3130, 3022, 728, 3302, 950, 6539, 3105, 6493, 2391, 2904, 6359, 584, 2442, 6255, 1014, 4280, 3607, 21, 5095, 103, 5834, 2063, 4822, 1176, 51, 2018, 2892, 4260, 4726, 1773, 3666, 2806, 4458, 1939, 5463, 2299, 3278, 2218, 1021, 1427, 186, 6053, 2317, 1497, 1943, 6377, 5886, 6039, 3965, 994, 866, 5434, 5541, 396, 1239, 2424, 2274, 4446, 6210, 502, 3778, 3178, 5443, 1810, 3662, 1416, 6546, 3425, 3069, 4867, 5198, 6432, 5353, 4067, 6287, 616, 1248, 2634, 5137, 1099, 4068, 6413, 2801, 6188, 2104, 5207, 2897, 6043, 5258, 3118, 4776, 1081, 1650, 1206, 509, 2165, 890, 1566, 6260, 5795, 1250, 5011, 3076, 4829, 4247, 2102, 3990, 4046, 3457, 4016, 1732, 4806, 4462, 58, 3383, 2429, 1853, 2793, 2737, 6364, 4661, 5026, 2679, 6408, 621, 2917, 2304, 1708, 1341, 1054, 1612, 2082, 2878, 3096, 6357, 2610, 106, 1128, 3086, 1484, 5706, 3859, 1955, 2276, 5321, 40, 227, 4544, 5972, 3865, 4540, 4581, 5638, 2676, 1259, 521, 5807, 3469, 3504, 2463, 3336, 1629, 5931, 6187, 54, 1524, 3850, 3897, 917, 1972, 6415, 2103, 1254, 1027, 5932, 3561, 29, 4663, 4532, 2504, 5233, 5032, 3547, 2506, 520, 3731, 4071, 3915, 1012, 3322, 4873, 1111, 1954, 2090, 4457, 4014, 3844, 706, 5772, 2383, 5149, 274, 1295, 1382, 2285, 6141, 1648, 4250, 1844, 2673, 4327, 5539, 5322, 3317, 3970, 3472, 2221, 6247, 4425, 2710, 6221, 6353, 3368, 1194, 2602, 363, 6495, 5561, 2780, 3062, 307, 3785, 4735, 4691, 5068, 1255, 1091, 1793, 1373, 57, 5890, 5950, 226, 2982, 3682, 504, 3571, 1161, 4746, 5042, 3594, 5957, 591, 1932, 4653, 5295, 427, 4538, 3017, 4907, 5670, 4151, 1753, 4659, 3522, 2549, 2034, 2886, 1356, 4283, 348, 1331, 4074, 1170, 3309, 2537, 6085, 2596, 3822, 92, 2767, 948, 2958, 4206, 484, 5071, 6427, 17, 2167, 3098, 1517, 130, 2200, 5236, 3939, 152, 3524, 2943, 4109, 863, 1154, 5720, 1737, 421, 2027, 4787, 4482, 997, 1362, 5065, 702, 1073, 3202, 1894, 6276, 1664, 2254, 2181, 4859, 4912, 6526, 6014, 4568, 5754, 2300, 3453, 182, 1379, 1942, 391, 703, 5698, 3231, 440, 765, 885, 864, 4159, 4072, 5935, 2568, 3094, 4909, 3992, 6202, 4525, 644, 6031, 2445, 5483, 3006, 3674, 2176, 827, 5953, 5612, 2746, 2399, 2302, 3485, 6410, 3437, 746, 4708, 919, 5312, 124, 3591, 2802, 5098, 3503, 1900, 2244, 3741, 4288, 3664, 5129, 308, 1603, 6103, 6181, 1796, 23, 4270, 3465, 5351, 3909, 3756, 678, 716, 1727, 4629, 5154, 6376, 5856, 944, 6024, 1432, 4212, 4136, 5436, 2843, 3111, 6084, 5569, 843, 3957, 5628, 6500, 266, 6156, 346, 4682, 909, 836, 1842, 2687, 4570, 3461, 145, 6349, 5218, 4711, 4497, 352, 1098, 1959, 3549, 1102, 5369, 5694, 36, 1705, 5301, 4550, 4402, 1013, 4149, 2186, 422, 5355, 2779, 6197, 2140, 3084, 5043, 3761, 2949, 5377, 5259, 2699, 4087, 4078, 5481, 2682, 3196, 3484, 507, 2701, 3940, 1288, 309, 1548, 6462, 1269, 1775, 4190, 2020, 1198, 5139, 1655, 3782, 3010, 5382, 2582, 3823, 5474, 42, 3300, 5202, 1195, 2355, 1438, 3877, 4993, 3399, 1237, 5649, 3882, 4034, 2325, 5550, 117, 5309, 1591, 4223, 3380, 3244, 1004, 3452, 5724, 1933, 2064, 4385, 4872, 1035, 3676, 4328, 3474, 3282, 566, 5461, 6327, 5488, 2729, 938, 4723, 5212, 5227, 4853, 6157, 1615, 1338, 264, 1133, 6421, 4365, 6194, 2945, 5379, 1542, 3131, 5705, 3454, 3579, 1618, 5063, 4039, 2837, 1400, 4139, 3477, 4520, 4790, 2741, 4110, 5226, 1913, 4619, 2748, 6302, 2894, 2306, 3523, 3860, 2760, 4052, 3232, 3926, 4687, 3184, 4285, 3729, 3493, 34, 4144, 6199, 6055, 3000, 2448, 2401, 1665, 1271, 2866, 5099, 4660, 1354, 4941, 380, 6254, 2088, 2825, 1627, 2500, 3694, 1714, 3028, 4731, 4632, 1992, 593, 2816, 6335, 6176, 6261, 2888, 3566, 6289, 1974, 3857, 5204, 1352, 5340, 2509, 2290, 6212, 1007, 1370, 3906, 931, 5871, 1366, 3797, 6118, 4090, 2514, 1766, 4361, 4132, 2715, 3119, 5526, 372, 3934, 5142, 1499, 3692, 1752, 5222, 3799, 5555, 1428, 3742, 114, 5788, 2516, 2262, 5307, 5467, 3217, 4901, 3306, 4256, 5104, 2969, 4713, 1859, 1263, 5948, 1673, 2144, 2260, 2235, 2112, 1103, 3559, 2845, 2874, 5809, 4490, 6023, 6275, 2863, 438, 4389, 2632, 4061, 3260, 4702, 3166, 993, 1895, 1374, 6170, 4231, 2281, 4464, 4536, 5925, 3047, 3296, 618, 4670, 3245, 552, 1212, 4356, 6496, 1751, 1509, 5635, 1487, 1783, 2404, 2413, 6324, 2604, 3513, 4517, 2975, 6137, 1430, 306, 435, 312, 3651, 3813, 6083, 1860, 1929, 3447, 2329, 232, 3406, 2683, 2164, 2936, 758, 3790, 4220, 766, 1791, 4602, 5298, 1924, 6205, 4742, 3997, 1594, 2909, 4935, 4975, 362, 1728, 6250, 1369, 6011, 4261, 4567, 2838, 2101, 5375, 3391, 1048, 541, 4609, 5356, 2538, 1630, 1827, 228, 2392, 3273, 1661, 1907, 4177, 5284, 4460, 6489, 2135, 5479, 3881, 5238, 1301, 3665, 2912, 4773, 2043, 4251, 2677, 5376, 5268, 5845, 1335, 4454, 2942, 45, 3365, 2243, 2071, 3295, 5796, 2660, 2278, 3012, 3735, 2840, 6386, 2256, 354, 4082, 5262, 5843, 5401, 5362, 3015, 1825, 2529, 2241, 1426, 2266, 3905, 4469, 1436, 5941, 2763, 4505, 601, 2973, 423, 2057, 5478, 2693, 5343, 138, 3138, 5799, 5156, 1005, 4106, 1684, 3878, 2119, 1741, 3412, 5273, 104, 1096, 807, 2028, 4929, 1185, 947, 4477, 563, 6445, 5832, 3862, 5763, 3723, 297, 477, 2058, 3511, 4724, 5073, 1715, 587, 1893, 4495, 3135, 4704, 3781, 4932, 5507, 2195, 1581, 2685, 5263, 2832, 4363, 3489, 3045, 6017, 1764, 2280, 1006, 5324, 1178, 4655, 5752, 691, 1110, 5484, 910, 1762, 2056, 5144, 2999, 4689, 6105, 3169, 804, 3258, 2740, 4852, 3441, 5019, 4524, 6505, 1863, 3757, 4646, 916, 2803, 792, 4167, 2797, 6509, 4300, 4805, 5896, 4094, 1994, 4209, 4583, 5504, 2666, 6463, 19, 3432, 213, 6414, 2412, 4248, 2815, 2209, 6502, 3801, 5438, 2359, 2668, 4304, 4739, 5543, 4816, 2545, 643, 4698, 4534, 3912, 5506, 221, 3052, 4378, 3249, 3163, 4887, 4249, 5614, 3394, 5779, 773, 4736, 1667, 2646, 3619, 2688, 2605, 6460, 4564, 1586, 524, 5188, 939, 6206, 4647, 3345, 5802, 767, 665, 2172, 5851, 1909, 761, 5708, 694, 2423, 3367, 3969, 5310, 6467, 4846, 5054, 155, 6370, 1580, 3115, 6274, 619, 1756, 3019, 1105, 747, 2686, 3514, 3139, 1425, 1413, 5027, 4654, 2231, 1446, 5559, 3979, 3340, 4868, 1458, 3916, 4255, 5221, 5196, 216, 2879, 4336, 1544, 4636, 2929, 5187, 762, 3617, 4965, 2762, 6244, 3738, 3876, 2410, 2405, 2261, 6056, 4242, 5969, 3016, 1261, 4552, 3625, 2784, 698, 4175, 5275, 4573, 600, 1155, 1321, 2138, 604, 2107, 5102, 3871, 5015, 2250, 5865, 3433, 3616, 749, 1375, 4369, 3348, 4233, 1625, 2711, 6272, 118, 4970, 4203, 1252, 3366, 6010, 4048, 3140, 4049, 6124, 2258, 1171, 4856, 1903, 4037, 3063, 1706, 206, 3671, 5557, 2264, 526, 1922, 3710, 4645, 5897, 4259, 3023, 2481, 4703, 5631, 3248, 6259, 6361, 4586, 3009, 6491, 5205, 4119, 2015, 2609, 4519, 1571, 5509, 1833, 5940, 4527, 2279, 4694, 3870, 2561, 3519, 5861, 2149, 955, 4239, 2855, 1485, 6126, 4112, 4548, 200, 2821, 5402, 1977, 1482, 1986, 549, 6367, 6119, 3152, 6125, 6468, 3427, 2600, 3820, 1245, 3310, 4782, 426, 3779, 6515, 3991, 4208, 4230, 132, 674, 6007, 2031, 1578, 3903, 4804, 1262, 1174, 5811, 2811, 3364, 1565, 4566, 6293, 5184, 3446, 1780, 4825, 66, 4610, 2565, 269, 3973, 4869, 4191, 2992, 5235, 5790, 1611, 4380, 2464, 4966, 1941, 1653, 6123, 2782, 4634, 5700, 6522, 5424, 1821, 6405, 3420, 4130, 2033, 4823, 1834, 2386, 3442, 2653, 4125, 6107, 2395, 4297, 6025, 1348, 5373, 3059, 4104, 1415, 2619, 4817, 3638, 3212, 1180, 1193, 3431, 5059, 6354, 49, 1847, 2440, 4282, 2671, 2073, 514, 4010, 3087, 1628, 5854, 2621, 3582, 3239, 1320, 3261, 301, 3381, 6385, 2594, 2566, 4896, 1701, 3061, 3284, 4204, 395, 870, 3392, 1137, 3684, 4374, 4189, 6215, 4563, 4749, 3811, 952, 5960, 5786, 4780, 1138, 3971, 2263, 287, 2550, 4042, 5101, 4685, 622, 1868, 5875, 6298, 3500, 4077, 6177, 6122, 787, 6046, 5029, 5889, 2641, 2109, 1277, 1109, 1410, 2091, 3220, 2827, 5482, 3501, 4059, 1915, 1510, 1794, 387, 4893, 70, 1923, 615, 2060, 2345, 4727, 3490, 5352, 3610, 5239, 3035, 2948, 356, 2681, 2974, 5629, 2637, 5717, 2986, 2039, 393, 4504, 4408, 995, 606, 3409, 4227, 2946, 5193, 3668, 6291, 1854, 6163, 1168, 5647, 386, 1709, 425, 5316, 5092, 3777, 2223, 677, 3636, 4930, 883, 5778, 1220, 5469, 3987, 284, 4411, 2718, 3361, 1595, 4272, 3812, 1092, 4656, 5794, 3837, 4472, 5669, 3241, 305, 5767, 3475, 6520, 4707, 2124, 1631, 4173, 3154, 3219, 6168, 141, 94, 1505, 2076, 1710, 1107, 868, 4461, 2938, 472, 2578, 6029, 2725, 1814, 5023, 5766, 3759, 1420, 3073, 4493, 1097, 185, 2796, 1998, 5108, 3818, 888, 599, 3808, 776, 5970, 2813, 2719, 588, 4913, 2735, 3339, 6019, 774, 5789, 775, 2418, 41, 5913, 1949, 5348, 456, 1947, 1372, 5186, 1855, 788, 4877, 3072, 2968, 2833, 6521, 5261, 4075, 1052, 5157, 1598, 5946, 5642, 3655, 623, 3657, 1468, 2203, 3137, 300, 375, 4478, 4576, 3256, 3620, 3151, 4628, 1135, 6113, 259, 2153, 4709, 5311, 1862, 2097, 853, 4945, 4329, 442, 2158, 4290, 4224, 3712, 143, 3417, 4543, 5058, 6383, 5882, 1850, 4236, 1826, 2724, 6211, 6164, 4214, 2553, 3743, 3572, 2635, 1898, 4122, 5847, 5177, 3894, 1177, 4765, 1897, 116, 2147, 5358, 2757, 5454, 3836, 5117, 3192, 271, 4372, 3373, 3165, 5548, 5241, 61, 1028, 3201, 4936, 4908, 2841, 4006, 5963, 1326, 1585, 5240, 5797, 2709, 4914, 4905, 4874, 2527, 786, 418, 1358, 6088, 5427, 5805, 3172, 55, 2439, 4030, 1865, 2332, 1730, 3793, 3281, 3702, 1131, 5606, 2157, 934, 278, 2749, 2468, 365, 2895, 123, 4952, 2532, 1666, 2555, 6548, 2589, 4608, 3408, 2338, 220, 3943, 255, 1993, 5453, 2061, 4772, 4186, 6135, 4392, 2849, 3247, 1848, 4766, 2981, 2928, 2765, 1936, 3578, 4148, 2630, 5701, 5978, 26, 2222, 6013, 3516, 529, 4617, 174, 3602, 2311, 3885, 1771, 3346, 3106, 5973, 726, 4382, 115, 5605, 3376, 4252, 3927, 3744, 288, 4888, 709, 4958, 930, 6269, 6116, 1208, 2510, 1024, 3133, 3720, 3478, 1672, 3589, 3191, 5224, 3851, 3700, 5465, 3470, 2736, 377, 5178, 3872, 713, 6490, 627, 5874, 2275, 6518, 1901, 128, 461, 22, 3413, 1191, 920, 1216, 4305, 1325, 2684, 6021, 2422, 2477, 5536, 3768, 109, 1327, 1606, 3533, 2507, 4076, 2196, 6374, 1738, 453, 1832, 2184, 4821, 1790, 403, 2336, 2972, 3341, 1337, 3331, 229, 5803, 3385, 5914, 131, 5036, 2990, 4040, 254, 3835, 4967, 1023, 2593, 5775, 6533, 3240, 3696, 4047, 3596, 2168, 4518, 777, 911, 1182, 2862, 2569, 5944, 180, 4165, 2226, 515, 2919, 6140, 4884, 783, 1899, 4845, 4492, 3703, 2728, 3187, 693, 708, 5927, 2528, 620, 4858, 3443, 4244, 9, 5446, 1938, 595, 3960, 6535, 3352, 3795, 2983, 5511, 714, 1512, 3879, 5769, 2696, 633, 666, 6511, 4396, 763, 2636, 452, 4295, 5549, 5103, 5264, 1080, 2374, 6280, 3913, 3186, 912, 4729, 6009, 6008, 626, 6507, 598, 3902, 1989, 304, 3521, 1032, 4662, 5916, 368, 2756, 2366, 1186, 4980, 3327, 1285, 5060, 789, 102, 6185, 2835, 770, 4060, 4803, 5947, 6174, 1328, 2753, 263, 5213, 922, 3056, 6420, 3270, 5850, 5400, 592, 5423, 2812, 1689, 873, 2365, 5527, 3783, 4526, 3633, 3719, 6222, 2525, 3883, 2321, 533, 3780, 4982, 1101, 3387, 2342, 850, 3507, 6332, 1034, 2932, 3509, 1928, 367, 1287, 6404, 5048, 3673, 4972, 1878, 3463, 5066, 3597, 2283, 6346, 3947, 614, 4199, 3150, 554, 5835, 4168, 4795, 5615, 1846, 5837, 1731, 4284, 2301, 3428, 1169, 3941, 120, 2804, 5050, 5556, 6328, 1461, 2818, 2152, 5151, 4129, 5128, 1454, 3505, 2963, 2249, 4812, 518, 3128, 5731, 383, 1343, 6532, 5074, 2333, 236, 4008, 474, 3573, 6290, 3498, 4551, 4569, 3214, 483, 4241, 5505, 392, 1038, 6484, 212, 809, 602, 1334, 759, 358, 3868, 2331, 3205, 2937, 4506, 1241, 4539, 2881, 2180, 3078, 3123, 1249, 3961, 3898, 282, 2238, 684, 525, 686, 3512, 1867, 6516, 4897, 1617, 3612, 3113, 3558, 6465, 5566, 2494, 1403, 419, 3320, 4861, 14, 2994, 696, 5148, 1117, 5062, 921, 2493, 5180, 4196, 3197, 4050, 4599, 4468, 2204, 4093, 3931, 1289, 2859, 3966, 6360, 3866, 4997, 805, 2093, 95, 3293, 3675, 2563, 1659, 2185, 5997, 6034, 5396, 3707, 2077, 4386, 5448, 3276, 5313, 5939, 6004, 4377, 4026, 1124, 3861, 4419, 46, 71, 2322, 6286, 5702, 6294, 341, 6142, 1299, 3639, 2023, 3624, 4971, 3975, 2524, 1449, 5035, 4898, 1183, 3393, 1127, 2722, 2675, 3922, 292, 3670, 6273, 4005, 2518, 1694, 4974, 6544, 4598, 6198, 5288, 11, 2508, 133, 2188, 631, 4553, 5713, 2858, 1010, 3401, 2831, 1769, 2419, 5211, 3834, 3279, 2962, 2032, 5632, 5508, 2642, 4692, 2883, 2738, 4156, 5010, 1733, 4471, 4079, 3156, 2182, 3029, 5064, 4651, 3660, 3328, 4447, 5234, 3319, 3221, 2150, 875, 2099, 2239, 5105, 5691, 4355, 3021, 2475, 5051, 3945, 1217, 4210, 5056, 2544, 4906, 705, 1492, 4311, 2075, 3535, 956, 3531, 1568, 545, 2613, 4712, 6184, 2307, 4791, 1402, 1537, 2991, 5532, 3031, 6506, 5650, 1205, 6517, 5926, 3145, 5470, 2305, 3839, 2267, 1973, 2055, 2189, 1607, 5197, 2174, 1830, 1339, 1813, 3711, 3414, 3238, 4269, 1008, 5346, 3011, 4390, 4131, 1050, 4353, 4900, 1172, 5718, 463, 2850, 2505, 2925, 6131, 6362, 2040, 3964, 3980, 5676, 4734, 1290, 3890, 3923, 1282, 5320, 10, 4404, 3705, 1700, 3706, 3570, 2350, 3263, 323, 635, 2411, 4947, 64, 3637, 3747, 1956, 135, 5562, 3754, 2161, 4237, 2351, 4198, 2337, 710, 676, 1494, 3658, 1944, 6345, 2649, 4631, 3722, 5774, 630, 3288, 3593, 3972, 998, 4788, 2950, 4717, 5431, 338, 4027, 4045, 1809, 4002, 2626, 65, 2479, 3004, 6514, 1215, 564, 4169, 5996, 5554, 4448, 5943, 5480, 1536, 943, 388, 2530, 2665, 884, 1930, 3404, 768, 3770, 4023, 6200, 5405, 4603, 2846, 5798, 4808, 5057, 3948, 33, 1037, 3539, 754, 1298, 5528, 2014, 3588, 1871, 3838, 5546, 1093, 1658, 3843, 3845, 225, 2469, 260, 780, 5426, 2024, 1084, 6292, 4601, 4215, 6483, 6097, 1218, 6519, 1196, 2115, 4401, 1042, 4533, 3956, 1434, 4368, 190, 207, 2872, 2732, 4500, 4827, 2142, 2807, 2834, 3946, 2531, 3337, 1056, 3266, 2265, 1508, 4007, 3891, 5458, 4865, 4885, 1026, 188, 3631, 469, 5078, 6542, 682, 1697, 5037, 2465, 3784, 18, 5451, 5815, 4453, 4939, 2194, 4588, 3809, 2822, 277, 2029, 3732, 5848, 209, 5964, 4892, 3798, 6428, 6127, 1845, 2727, 1175, 4303, 1518, 4222, 1300, 6444, 536, 6303, 5715, 3502, 2916, 2242, 3467, 3534, 5341, 6537, 4903, 1297, 1693, 3003, 3628, 1533, 4834, 2360, 1755, 1022, 2467, 5949, 2603, 5111, 1452, 969, 448, 5435, 5697, 5191, 4338, 5873, 1284, 273, 446, 2490, 3748, 6527, 4367, 6464, 5728, 4572, 5567, 5306, 4744, 2030, 173, 2966, 2857, 5472, 2482, 609, 6040, 3828, 4991, 3746, 513, 5374, 1357, 6190, 1346, 1685, 707, 4466, 3552, 1344, 6251, 6048, 4063, 3199, 2409, 2287, 1504, 2856, 1917, 2025, 1001, 2965, 2954, 471, 4710, 3257, 1696, 612, 1130, 585, 5283, 5079, 1265, 2476, 110, 2703, 3054, 2717, 4891, 876, 4830, 5269, 779, 48, 5390, 3030, 4473, 3981, 6338, 4934, 538, 5545, 340, 4994, 4029, 1856, 1545, 4643, 3158, 834, 5868, 5179, 5047, 6459, 5570, 4137, 1030, 2136, 1380, 4851, 2987, 5955, 2900, 5634, 5894, 790, 3124, 113, 4442, 5514, 596, 4690, 4258, 2648, 5370, 257, 1173, 4954, 4171, 3613, 5046, 6531, 5282, 5942, 2995, 4376, 2920, 3993, 5127, 1876, 3001, 5031, 5476, 663, 1869, 3734, 1991, 838, 5884, 4818, 6100, 4587, 4225, 1622, 831, 2364, 5542, 753, 3268, 2372, 3325, 967, 3085, 4307, 3476, 5869, 2639, 6271, 3622, 5134, 6098, 3041, 2848, 1442, 6433, 5721, 5765, 3640, 6120, 5260, 5182, 3143, 4699, 2217, 5544, 6488, 3895, 4977, 2792, 4403, 6257, 2608, 314, 361, 2923, 197, 3614, 1587, 2368, 4864, 2910, 1296, 5399, 3242, 2534, 6012, 6355, 1729, 3301, 2225, 2631, 105, 5564, 2927, 303, 628, 4062, 5391, 913, 4714, 2607, 6366, 5849, 1526, 5485, 797, 101, 3726, 1951, 5630, 5976, 100, 5552, 4652, 2805, 6323, 6443, 5118, 315, 1431, 4797, 1364, 3450, 3752, 4393, 5643, 2768, 3635, 1835, 4627, 6217, 1996, 6087, 1355, 4542, 2576, 3218, 3384, 5145, 5429, 4333, 2466, 6373, 927, 6336, 6102, 397, 1404, 139, 3451, 5959, 2546, 3848, 511, 4937, 1961, 2611, 3064, 5530, 1872, 204, 3816, 2924, 1647, 4486, 5644, 3654, 4667, 5185, 858, 3950, 6179, 3179, 2319, 4516, 5243, 5523, 5553, 4683, 2591, 2997, 2939, 345, 5893, 3852, 2860, 1376, 2486, 3649, 2443, 5858, 5124, 970, 6243, 3324, 4326, 803, 153, 1112, 4422, 1843, 692, 3714, 4855, 3342, 1657, 5393, 3181, 1113, 6121, 3753, 5518, 6284, 146, 4036, 5372, 1707, 3775, 4686, 4695, 5457, 5342, 1953, 1251, 290, 5773, 4314, 1481, 219, 3445, 4793, 1934, 3419, 2716, 3832, 4116, 6076, 1914, 6214, 847, 4577, 1451, 3036, 1020, 3766, 73, 3491, 1593, 459, 5394, 6042, 2246, 4153, 5422, 4207, 727, 2086, 2674, 3718, 3168, 5285, 2492, 4963, 2751, 16, 3082, 3995, 3177, 2533, 6388, 2570, 5100, 2416, 5862, 5220, 5146, 2191, 869, 2205, 605, 4057, 2902, 2315, 1276, 1926, 5013, 1319, 68, 5877, 2026, 4412, 1292, 2453, 4055, 2844, 3182, 2143, 3262, 6340, 1457, 3149, 4418, 1406, 6223, 4289, 1982, 4197, 3875, 2471, 5755, 2230, 444, 4535, 3884, 1609, 4615, 2820, 2567, 557, 4155, 4798, 5055, 3109, 1788, 1620, 3586, 5357, 5189, 2166, 6329, 2397, 6136, 1779, 854, 2068, 6337, 4715, 4988, 2809, 1770, 5625, 1342, 2580, 992, 5785, 4750, 711, 6186, 6352, 6092, 1502, 3233, 6457, 4555, 6077, 6425, 2712, 5722, 261, 4316, 2036, 235, 1604, 3769, 3107, 5880, 530, 485, 4331, 4547, 2417, 4313, 6220, 1045, 5860, 4013, 4910, 4202, 5952, 2764, 5994, 6089, 1460, 3215, 2654, 4899, 2980, 4221, 6510, 3448, 1662, 2839, 1156, 5069, 1094, 4397, 860, 5675, 4243, 685, 932, 5076, 1735, 3127, 280, 5077, 5305, 5296, 6466, 3473, 4163, 6305, 6450, 3344, 1570, 2253, 1852, 222, 610, 5135, 4315, 3974, 1539, 5764, 3815, 450, 3077, 1763, 2941, 6285, 1602, 2474, 4174, 4523, 669, 3171, 2971, 199, 3357, 3026, 2484, 581, 636, 1244, 5623, 5190, 3117, 432, 2178, 3299, 6104, 5225, 2070, 196, 5975, 1017, 1573, 1927, 4135, 1890, 12, 5286, 5272, 4097, 3338, 6330, 2094, 2010, 2148, 4158, 637, 2978, 5732, 4995, 2044, 1614, 1267, 2794, 3810, 2651, 4802, 2584, 4352, 3167, 3924, 1347, 1268, 6256, 3842, 3907, 6050, 4771, 3316, 4302, 262, 270, 107, 2513, 4107, 3693, 3099, 2854, 6224, 5951, 5155, 6038, 1053, 2314, 5551, 5072, 1904, 296, 5784, 2985, 2586, 5703, 3066, 2449, 2865, 4142, 539, 3460, 3827, 4435, 39, 5367, 3560, 3415, 534, 192, 1459, 5160, 1202, 316, 3305, 4200, 1962, 4281, 3208, 3650, 2926, 5203, 4737, 4554, 613, 3418, 2548, 6441, 4973, 924, 2628, 675, 3025, 3081, 2402, 6416, 5366, 429, 223, 2268, 3807, 2163, 1567, 3074, 5535, 4624, 1931, 3471, 2358, 5515, 211, 3721, 2054, 2691, 5958, 1858, 1444, 4387, 547, 4201, 1088, 5726, 6363, 2431, 6331, 2875, 4875, 6442, 4616, 5878, 5242, 3002, 3424, 2259, 546, 3318, 2125, 433, 4211, 5347, 6094, 3175, 3101, 3678, 632, 4911, 60, 5639, 1515, 4705, 867, 44, 3708, 4371, 5215, 748, 4751, 2356, 4575, 3195, 6356, 594, 4642, 5589, 5923, 4571, 871, 2414, 3164, 2303, 5364, 4637, 5018, 4395, 1401, 3530, 1529, 1159, 964, 2436, 946, 2171, 3590, 5219, 1079, 1531, 2334, 3819, 937, 1831, 996, 3563, 1590, 2643, 3161, 3253, 784, 4342, 5150, 2219, 5456, 4831, 5386, 3382, 4854, 5833, 4028, 3183, 1646, 3645, 2750, 2282, 198, 468, 3092, 53, 2690, 4111, 1683, 2447, 2286, 4871, 1946, 2573, 6418, 2126, 1018, 72, 195, 6003, 3730, 3176, 3955, 1792, 1089, 634, 4292, 2487, 3917, 4299, 5344, 97, 193, 3155, 1419, 4826, 3125, 2390, 187, 4664, 1333, 3188, 1950, 258, 2407, 1811, 966, 6036, 872, 6300, 3683, 2421, 357, 4318, 1651, 202, 3911, 443, 1772, 4785, 929, 27, 1424, 5183, 4722, 4440, 1197, 275, 336, 5380, 3329, 5636, 2777, 6022, 5633, 1082, 4095, 4951, 299, 6538, 2830, 1892, 2536, 3564, 6213, 4815, 4969, 3529, 6326, 6093, 517, 3252, 2106, 2105, 2415, 3411, 2433, 5537, 646, 37, 2017, 2577, 2876, 6343, 6263, 3313, 611, 4605, 2277, 1181, 6456, 5403, 3271, 3008, 2658, 5709, 2562, 4337, 723, 313, 3108, 1447, 3919, 6342, 2896, 5792, 4484, 4820, 6175, 154, 1877, 2558, 629, 6192, 2662, 1540, 4084, 140, 3129, 2889, 6044, 4792, 4033, 4147, 3908, 5433, 5432, 2197, 688, 680, 2006, 1979, 5445, 4134, 6195, 4141, 1116, 1488, 4366, 954, 4409, 3803, 4450, 6196, 4070, 1100, 5287, 3849, 4578, 949, 5883, 5995, 4085, 1660, 5719, 136, 4275, 3713, 3423, 1668, 4811, 4863, 3153, 886, 62, 3458, 942, 3817, 4234, 3599, 1742, 4949, 6047, 281, 5624, 3071, 2955, 2013, 3953, 1808, 5558, 289, 3075, 794, 1503, 1597, 2201, 4394, 3532, 6447, 5136, 791, 3230, 2614, 360, 1584, 4170, 3390, 3698, 1616, 4161, 2922, 3932, 1125, 4902, 1422, 3553, 3290, 6052, 4088, 6018, 4618, 5928, 1286, 5365, 6454, 3235, 5395, 3403, 3039, 3949, 4530, 1078, 1528, 3786, 2526, 6403, 3204, 3767, 3592, 1371, 5836, 466, 1164, 5938, 3421, 2247, 6469, 5138, 2289, 4335, 439, 590, 2664, 2655, 2556, 5294, 1818, 1490, 3234, 2065, 1108, 3632, 2066, 5711, 1677, 3736, 3466, 3758, 3574, 3796, 3285, 2956, 3716, 3134, 3537, 5363, 2232, 1870, 1188, 1253, 2011, 3618, 5116, 5974, 2964, 2470, 5210, 3102, 603, 2067, 5033, 4178, 2887, 1293, 3038, 3237, 3482, 4541, 3496, 624, 2113, 5531, 1421, 5929, 2979, 431, 5143, 5468, 4273, 5175, 928, 203, 1824, 3058, 2515, 5181, 5237, 5801, 3298, 2155, 6347, 645, 5538, 6325, 3999, 5025, 548, 6333, 3568, 2348, 5152, 4725, 1383, 1781, 4172, 3160, 5791, 4188, 2121, 3518, 2977, 4219, 5106, 267, 390, 516, 3918, 4011, 134, 6032, 537, 6005, 184, 4775, 1467, 5206, 3717, 3326, 1619, 4407, 6440, 3598, 218, 668, 1043, 874, 1960, 2680, 2785, 4253, 5475, 5613, 3962, 4133, 3755, 2627, 4066, 1368, 1734, 2618, 5319, 4451, 189, 3254, 769, 2198, 4779, 4091, 840, 4117, 1711, 5592, 5345, 528, 1749, 5621, 3728, 1405, 6138, 2885, 3847, 5231, 1322, 3846, 4886, 3841, 837, 4296, 3410, 3833, 6295, 4035, 991, 2384, 3080, 6423, 2339, 2759, 1985, 1995, 5810, 2159, 3998, 6492, 3584, 3104, 829, 6297, 2435, 6296, 5517, 689, 1378, 4114, 4476, 3480, 1767, 1768, 1000, 5216, 4194, 1703, 1409, 3791, 5965, 4138, 1466, 757, 1837, 2657, 1577, 176, 750, 4718, 5608, 3806, 3899, 2933, 2454, 286, 1940, 350, 2269, 3018, 6054, 4728, 4113, 1583, 2340, 2357, 6419, 4391, 2252, 3065, 2499, 5228, 4065, 1247, 3007, 1678, 2323, 5563, 4465, 1009, 5028, 56, 4340, 2817, 3581, 841, 6434, 151, 4379, 5846, 3506, 3359, 5107, 4638, 6461, 6523, 384, 1543, 455, 2755, 1997, 4657, 1507, 2361, 5477, 3604, 6049, 1990, 6139, 781, 4862, 2288, 4362, 457, 1836, 2959, 4291, 2154, 5430, 30, 3656, 5956, 556, 4857, 2670, 4931, 4733, 5684, 4383, 4051, 6439, 5125, 4358, 4334, 371, 4696, 3546, 2346, 4154, 3958, 5034, 2745, 1242, 3468, 6245, 664, 1189, 6277, 2731, 1166, 5131, 4115, 6487, 4140, 5112, 808, 6304, 6368, 2116, 4056, 6498, 4322, 4545, 699, 4860, 1782, 5274, 4582, 2598, 4669, 3272, 6512, 1891, 4968, 5021, 2227, 5725, 31, 724, 2644, 4996, 3103, 231, 4558, 4195, 672, 3688, 3483, 6075, 2647, 6037, 2940, 3055, 3251, 1002, 1829, 4038, 4455, 3321, 1613, 298, 4828, 1118, 3556, 2123, 2599, 551, 3180, 3027, 2162, 3190, 1498, 5872, 972, 2450, 5460, 5729, 6096, 936, 844, 3967, 317, 1819, 5387, 4693, 2853, 2606, 5611, 1353, 3517, 3334, 5588, 3528, 4073, 91, 3910, 6382, 1754, 6130, 4306, 2890, 1123, 1789, 3189, 4810, 5378, 5014, 3090, 5223, 2273, 3330, 2650, 4332, 5044, 4193, 1576, 3874, 4620, 1453, 4738, 6534, 126, 6086, 3739, 2151, 1122, 4235, 201, 1165, 3583, 5020, 3455, 1302, 4089, 2502, 2903, 3525, 4031, 2633, 2428, 6112, 5924, 2255, 2427, 531, 3100, 681, 2234, 1283, 751, 4406, 2316, 4279, 3886, 3224, 6358, 3213, 4740, 2271, 2396, 5406, 3193, 2381, 4375, 2882, 5607, 835, 1538, 1417, 5012, 4126, 4613, 1051, 1747, 3043, 5870, 2324, 3303, 5933, 5053, 5619, 3942, 6191, 4488, 1690, 1464, 1864, 6350, 3831, 2587, 470, 795, 5229, 3358, 436, 4849, 1532, 6026, 3372, 4635, 1209, 5513, 4633, 1784, 2592, 2004, 5593, 2187, 4271, 59, 4889, 4044, 1011, 4658, 5857, 3788, 764, 1547, 2758, 671, 4957, 4319, 3805, 6426, 75, 3049, 5590, 4424, 142, 4423, 6437, 3510, 6299, 5604, 2908, 4310, 1019, 3053, 2921, 2672, 2645, 2579, 4978, 1739, 1918, 542, 6020, 4489, 1675, 4665, 127, 2761, 3013, 369, 5300, 4009, 4769, 6379, 4612, 1385, 2791, 3685, 6265, 2009, 1822, 4987, 2914, 5425, 6030, 608, 2698, 342, 1114, 5070, 1610, 5863, 2041, 2208, 5113, 6133, 4359, 5093, 3449, 4441, 6497, 1582, 690, 2373, 5806, 4324, 2206, 3042, 4470, 6543, 2721, 2864, 5317, 3068, 5787, 5323, 4232, 1003, 4370, 1462, 2037, 3426, 4229, 2085, 1896, 3210, 1624, 3464, 6499, 5692, 5968, 6129, 4083, 5450, 4562, 1399, 4763, 1506, 6270, 5398, 4866, 5887, 4216, 2931, 4607, 4205, 2597, 4459, 3264, 1104, 2370, 3308, 1025, 4522, 5685, 1465, 1743, 4398, 3297, 3515, 4456, 6006, 5209, 6501, 778, 4928, 6216, 3311, 2016, 2984, 194, 2257, 5271, 191, 1129, 4364, 5299, 861, 5885, 2408, 3349, 1736, 2511, 1823, 2291, 5712, 1866, 2118, 2363, 5616, 6455, 553, 3332, 5814, 3093, 4415, 4146, 3663, 4381, 3914, 4384, 2111, 4819, 3762, 712, 6378, 1623, 2455, 3032, 2183, 5852, 1656, 6279, 2120, 3621, 4105, 3764, 2551, 3416, 2220, 6504, 833, 6173, 1574, 5853, 5620, 2110, 2906, 5881, 1815, 6334, 2868, 842, 5683, 4741, 1765, 717, 5459, 4475, 1213, 1192, 1163, 3548, 3802, 5977, 505, 2519, 177, 1264, 1948, 2743, 4981, 1158, 4848, 1349, 4986, 4388, 4528, 2035, 6058, 3050, 2564, 1596, 437, 1190, 1589, 6253, 4096, 4768, 2877, 4405, 5961, 5030, 6451, 2228, 6422, 4439, 1787, 796, 404, 4301, 2503, 4537, 5525, 1525, 1522, 1975, 2667, 1429, 3255, 785, 1496, 1214, 752, 3606, 3136, 6371, 2330, 1179, 2967, 2517, 137, 4870, 5696, 4781, 1588, 2199, 5687, 366, 4054, 6201, 1511, 2141, 76, 3792, 1236, 150, 1077, 5568, 6412, 2100, 351, 4784, 1258, 237, 2207, 973, 4001, 3057, 2349, 1238, 6547, 2084, 957, 2008, 3304, 6407, 5140, 5640, 848, 1324, 2251, 4485, 2512, 3333, 112, 1569, 69, 1294, 310, 4894, 4953, 3438, 6541, 2038, 2224, 2092, 1033, 2772, 3481, 3067, 6540, 5052, 1085, 5122, 3283, 2742, 1350, 2245, 4012, 2145, 6452, 1448, 4330, 6339, 2810, 6381, 963, 2989, 4989, 3977, 1162, 3014, 5115, 1046, 3925, 1266, 5783, 3499, 3982, 5937, 2739, 5954, 4179, 1291, 3434, 1592, 2915, 4226, 1270, 5594, 2523, 3551, 5486, 923, 1044, 6549, 5672, 4614, 5648, 6028, 4584, 2583, 6027, 3968, 2308, 3669, 1351, 428, 1015, 4985, 3141, 4498, 1273, 5304, 3787, 4041, 2661, 2237, 6128, 4883, 5967, 4449, 6099, 5096, 3751, 3627, 5114, 1744, 2022, 2601, 6115, 2652, 4529, 5097, 376, 5547, 3986, 2522, 4521, 607, 6435, 6132, 4807, 3740, 4245, 3697, 3259, 5595, 2783, 5673, 4668, 234, 1746, 4003, 2496, 1778, 3005, 3226, 6095, 3379, 2638, 5866, 1674, 2451, 4955, 5609, 462, 224, 4128, 3893, 3122, 6453, 3048, 501, 5381, 2344, 5945, 6171, 667, 2393, 1303, 4565, 5591, 4022, 2581, 4950, 851, 4217, 990, 2884, 6438, 5471, 3222, 4626, 4770, 5161, 2272, 6458, 830, 2483, 1317, 4644, 1055, 647, 2588, 1514, 2913, 2612, 1076, 2179, 5392, 5864, 1074, 2595, 522, 971, 5892, 3203, 3223, 6035, 35, 2270, 5533, 6406, 4053, 4187, 5524, 3904, 6189, 3646, 2776, 1527, 4604, 2074, 5730, 5397, 4444, 3800, 508, 4157, 2002, 2790, 3901, 2754, 2659, 5962, 4701, 2352, 3900, 424, 24, 6059, 745, 2861, 6016, 1670, 4549, 3148, 1450, 3765, 3542, 3555, 828, 2769, 1712, 3794, 5671, 5289, 5540, 3686, 5462, 210, 1219, 4850, 3236, 1456, 2873, 918, 5751, 6248, 4979, 4876, 1579, 1437, 3863, 5859, 6545, 3289, 2775, 4058, 4938, 5045, 5768, 1445, 2354, 3695, 6551, 3983, 2369, 3601, 32, 5971, 1132, 2575, 2616, 4150, 5733, 1692, 2042, 3396, 1095, 3508, 6513, 2891, 3976, 1740, 4502, 1187, 5757, 2012, 3405, 3250, 3492, 1203, 5800, 1978, 540, 1958, 6193, 15, 4192, 1916, 1984, 3402, 4043, 3227, 6387, 704, 476, 2003, 5714, 6528, 4436, 4649, 4354, 3749, 3641, 5308, 339, 3307, 473, 2898, 3356, 2752, 4764, 3435, 1530, 856, 279, 3112, 1957, 3595, 1493, 5109, 3545, 523, 6524, 3388, 1838, 6417, 1912, 3407, 93, 2452, 4213, 3634, 855, 6278, 4948, 2571, 1652, 5371, 586, 3294, 2957, 2139, 965, 5217, 285, 3565, 535, 3867, 2394, 2695, 272, 1980, 3994, 1952, 2398, 5354, 2689, 1534, 430, 806, 1323, 1086, 6530, 2284, 3243, 3369, 5934, 4317, 5049, 1816, 3647, 2988, 5603, 4081, 3928, 4752, 6344, 5303, 5771, 3286, 5855, 4321, 5447, 2795, 941, 3921, 5674, 1676, 5158, 1435, 3567, 1908, 3536, 353, 1274, 1875, 3246, 1686, 5688, 208, 6369, 4309, 4585, 3091, 5610, 6134, 4946, 1246, 3378, 6110, 4814, 1669, 359, 4086, 968, 3996, 465, 5704, 3814, 1075, 3776, 3538, 4501, 1157, 4417, 4648, 1817, 4069, 1031, 1572, 5194, 3459, 4890, 6365, 3046, 3562, 3984, 2420, 1412, 532, 3959, 1443, 4124, 3978, 6045, 5293, 6449, 6033, 5464, 381, 125, 4942, 3554, 1384, 475, 4015, 2069, 3951, 772, 5315, 3354, 98, 4025, 6288, 6183, 1381, 6508, 5147, 311, 5618, 793, 6258, 1702, 1621, 43, 2629, 4339, 3267, 2692, 5437, 6091, 2318, 1329, 565, 6411, 1491, 4625, 5385, 4813, 2248, 3422, 179, 1671, 4956, 3672, 3629, 5560, 464, 2823, 3229]\n",
      "test ids:  [0, 1, 2, 3, 4, 5, 6, 7, 8, 78, 79, 80, 81, 82, 83, 84, 85, 86, 87, 88, 89, 90, 158, 159, 160, 161, 162, 163, 164, 165, 166, 167, 168, 169, 170, 171, 238, 239, 240, 241, 242, 243, 244, 245, 246, 247, 248, 249, 250, 251, 252, 253, 318, 319, 320, 321, 322, 324, 325, 326, 327, 328, 329, 330, 331, 332, 333, 334, 335, 398, 399, 400, 401, 402, 405, 406, 407, 408, 409, 410, 411, 412, 413, 414, 415, 416, 417, 478, 479, 480, 481, 482, 486, 487, 488, 489, 490, 491, 492, 493, 494, 495, 496, 497, 498, 499, 558, 559, 560, 561, 562, 567, 568, 569, 570, 571, 572, 573, 574, 575, 576, 577, 578, 579, 580, 638, 639, 640, 641, 642, 648, 649, 650, 651, 652, 653, 654, 655, 656, 657, 658, 659, 660, 661, 662, 718, 719, 720, 721, 722, 729, 730, 731, 732, 733, 734, 735, 736, 737, 738, 739, 740, 741, 742, 743, 744, 798, 799, 800, 801, 802, 810, 811, 812, 813, 814, 815, 816, 817, 818, 819, 820, 821, 822, 823, 824, 825, 826, 878, 879, 880, 881, 882, 892, 893, 894, 895, 896, 897, 898, 899, 900, 901, 902, 903, 904, 905, 906, 907, 908, 958, 959, 960, 961, 962, 974, 975, 976, 977, 978, 979, 980, 981, 982, 983, 984, 985, 986, 987, 988, 989, 1039, 1040, 1041, 1057, 1058, 1059, 1060, 1061, 1062, 1063, 1064, 1065, 1066, 1067, 1068, 1069, 1070, 1071, 1119, 1120, 1121, 1139, 1140, 1141, 1142, 1143, 1144, 1145, 1146, 1147, 1148, 1149, 1150, 1151, 1152, 1153, 1199, 1200, 1201, 1221, 1222, 1223, 1224, 1225, 1226, 1227, 1228, 1229, 1230, 1231, 1232, 1233, 1234, 1235, 1279, 1280, 1281, 1304, 1305, 1306, 1307, 1308, 1309, 1310, 1311, 1312, 1313, 1314, 1315, 1316, 1359, 1360, 1361, 1386, 1387, 1388, 1389, 1390, 1391, 1392, 1393, 1394, 1395, 1396, 1397, 1398, 1439, 1440, 1441, 1469, 1470, 1471, 1472, 1473, 1474, 1475, 1476, 1477, 1478, 1479, 1480, 1519, 1520, 1521, 1551, 1552, 1553, 1554, 1555, 1556, 1557, 1558, 1559, 1560, 1561, 1562, 1599, 1600, 1601, 1633, 1634, 1635, 1636, 1637, 1638, 1639, 1640, 1641, 1642, 1643, 1644, 1679, 1680, 1681, 1716, 1717, 1718, 1719, 1720, 1721, 1722, 1723, 1724, 1725, 1759, 1760, 1761, 1798, 1799, 1800, 1801, 1802, 1803, 1804, 1805, 1806, 1807, 1839, 1840, 1841, 1880, 1881, 1882, 1883, 1884, 1885, 1886, 1887, 1888, 1889, 1919, 1920, 1921, 1963, 1964, 1965, 1966, 1967, 1968, 1969, 1970, 1971, 1999, 2000, 2001, 2045, 2046, 2047, 2048, 2049, 2050, 2051, 2052, 2053, 2079, 2080, 2081, 2127, 2128, 2129, 2130, 2131, 2132, 2133, 2134, 2160, 2210, 2211, 2212, 2213, 2214, 2215, 2216, 2240, 2292, 2293, 2294, 2295, 2296, 2297, 2298, 2320, 2375, 2376, 2377, 2378, 2379, 2380, 2400, 2457, 2458, 2459, 2460, 2461, 2462, 2480, 2539, 2540, 2541, 2542, 2543, 2560, 2622, 2623, 2624, 2625, 2640, 2704, 2705, 2706, 2707, 2720, 2786, 2787, 2788, 2789, 2800, 2869, 2870, 2871, 2880, 2951, 2952, 2960, 3033, 3034, 3040, 3116, 3120, 3198, 3200, 3280, 3360, 3362, 3440, 3444, 3520, 3526, 3527, 3600, 3608, 3609, 3680, 3689, 3690, 3691, 3760, 3771, 3772, 3773, 3774, 3840, 3853, 3854, 3855, 3856, 3920, 3935, 3936, 3937, 3938, 4000, 4017, 4018, 4019, 4020, 4021, 4080, 4098, 4099, 4100, 4101, 4102, 4103, 4160, 4180, 4181, 4182, 4183, 4184, 4185, 4240, 4262, 4263, 4264, 4265, 4266, 4267, 4268, 4320, 4344, 4345, 4346, 4347, 4348, 4349, 4350, 4400, 4426, 4427, 4428, 4429, 4430, 4431, 4432, 4433, 4479, 4480, 4481, 4507, 4508, 4509, 4510, 4511, 4512, 4513, 4514, 4515, 4559, 4560, 4561, 4589, 4590, 4591, 4592, 4593, 4594, 4595, 4596, 4597, 4639, 4640, 4641, 4671, 4672, 4673, 4674, 4675, 4676, 4677, 4678, 4679, 4680, 4719, 4720, 4721, 4753, 4754, 4755, 4756, 4757, 4758, 4759, 4760, 4761, 4762, 4799, 4800, 4801, 4835, 4836, 4837, 4838, 4839, 4840, 4841, 4842, 4843, 4844, 4879, 4880, 4881, 4916, 4917, 4918, 4919, 4920, 4921, 4922, 4923, 4924, 4925, 4926, 4927, 4959, 4960, 4961, 4998, 4999, 5000, 5001, 5002, 5003, 5004, 5005, 5006, 5007, 5008, 5009, 5039, 5040, 5041, 5080, 5081, 5082, 5083, 5084, 5085, 5086, 5087, 5088, 5089, 5090, 5091, 5119, 5120, 5121, 5162, 5163, 5164, 5165, 5166, 5167, 5168, 5169, 5170, 5171, 5172, 5173, 5174, 5199, 5200, 5201, 5244, 5245, 5246, 5247, 5248, 5249, 5250, 5251, 5252, 5253, 5254, 5255, 5256, 5279, 5280, 5281, 5325, 5326, 5327, 5328, 5329, 5330, 5331, 5332, 5333, 5334, 5335, 5336, 5337, 5338, 5339, 5359, 5360, 5361, 5407, 5408, 5409, 5410, 5411, 5412, 5413, 5414, 5415, 5416, 5417, 5418, 5419, 5420, 5421, 5439, 5440, 5441, 5489, 5490, 5491, 5492, 5493, 5494, 5495, 5496, 5497, 5498, 5499, 5500, 5501, 5502, 5503, 5519, 5520, 5521, 5571, 5572, 5573, 5574, 5575, 5576, 5577, 5578, 5579, 5580, 5581, 5582, 5583, 5584, 5585, 5586, 5598, 5599, 5600, 5601, 5602, 5652, 5653, 5654, 5655, 5656, 5657, 5658, 5659, 5660, 5661, 5662, 5663, 5664, 5665, 5666, 5667, 5668, 5678, 5679, 5680, 5681, 5682, 5734, 5735, 5736, 5737, 5738, 5739, 5740, 5741, 5742, 5743, 5744, 5745, 5746, 5747, 5748, 5749, 5750, 5758, 5759, 5760, 5761, 5762, 5816, 5817, 5818, 5819, 5820, 5821, 5822, 5823, 5824, 5825, 5826, 5827, 5828, 5829, 5830, 5831, 5838, 5839, 5840, 5841, 5842, 5898, 5899, 5900, 5901, 5902, 5903, 5904, 5905, 5906, 5907, 5908, 5909, 5910, 5911, 5912, 5918, 5919, 5920, 5921, 5922, 5980, 5981, 5982, 5983, 5984, 5985, 5986, 5987, 5988, 5989, 5990, 5991, 5992, 5993, 5998, 5999, 6000, 6001, 6002, 6061, 6062, 6063, 6064, 6065, 6066, 6067, 6068, 6069, 6070, 6071, 6072, 6073, 6074, 6078, 6079, 6080, 6081, 6082, 6143, 6144, 6145, 6146, 6147, 6148, 6149, 6150, 6151, 6152, 6153, 6154, 6155, 6158, 6159, 6160, 6161, 6162, 6225, 6226, 6227, 6228, 6229, 6230, 6231, 6232, 6233, 6234, 6235, 6236, 6238, 6239, 6240, 6241, 6242, 6307, 6308, 6309, 6310, 6311, 6312, 6313, 6314, 6315, 6316, 6317, 6318, 6319, 6320, 6321, 6322, 6389, 6390, 6391, 6392, 6393, 6394, 6395, 6396, 6397, 6398, 6399, 6400, 6401, 6402, 6470, 6471, 6472, 6473, 6474, 6475, 6476, 6477, 6478, 6479, 6480, 6481, 6482, 6552, 6553, 6554, 6555, 6556, 6557, 6558, 6559, 6560]\n",
      "CPU times: user 119 ms, sys: 48 ms, total: 167 ms\n",
      "Wall time: 166 ms\n"
     ]
    }
   ],
   "source": [
    "%%time\n",
    "n_total = len(simulation.dataframe)\n",
    "n_train = len(simulation.dataframe[simulation.dataframe.type_of == \"train\"])\n",
    "n_val = len(simulation.dataframe[simulation.dataframe.type_of == \"val\"])\n",
    "n_test = len(simulation.dataframe[simulation.dataframe.type_of == \"test\"])\n",
    "n_train_hamiltonians = len(simulation.train_ids)\n",
    "n_val_hamiltonians = len(simulation.val_ids)\n",
    "n_test_hamiltonians = len(simulation.test_ids)\n",
    "n_total_hamiltonians = n_train_hamiltonians + n_val_hamiltonians + n_test_hamiltonians\n",
    "\n",
    "print(\"% train: \", n_train/n_total)\n",
    "print(\"% val: \",  n_val/n_total)\n",
    "print(\"% test: \", n_test/n_total)\n",
    "print(\"% train + val + test: \", (n_train+n_val+n_test)/n_total)\n",
    "print(\"\\n\")\n",
    "print(\"number of train hamiltonians: \", n_train_hamiltonians)\n",
    "print(\"number of val hamiltonians: \", n_val_hamiltonians)\n",
    "print(\"number of test hamiltonians: \", n_test_hamiltonians)\n",
    "print(\"total number of hamiltonians: \", n_total_hamiltonians)\n",
    "print(\"\\n\")\n",
    "print(\"train ids: \", simulation.train_ids)\n",
    "print(\"val ids: \", simulation.val_ids)\n",
    "print(\"test ids: \", simulation.test_ids)"
   ]
  },
  {
   "cell_type": "markdown",
   "metadata": {
    "papermill": {
     "duration": 0.038244,
     "end_time": "2020-07-16T03:15:07.711839",
     "exception": false,
     "start_time": "2020-07-16T03:15:07.673595",
     "status": "completed"
    },
    "tags": []
   },
   "source": [
    "#### Checking summaries"
   ]
  },
  {
   "cell_type": "code",
   "execution_count": 31,
   "metadata": {
    "execution": {
     "iopub.execute_input": "2020-07-16T03:15:07.786711Z",
     "iopub.status.busy": "2020-07-16T03:15:07.786398Z",
     "iopub.status.idle": "2020-07-16T03:15:07.804741Z",
     "shell.execute_reply": "2020-07-16T03:15:07.804421Z"
    },
    "papermill": {
     "duration": 0.056338,
     "end_time": "2020-07-16T03:15:07.804795",
     "exception": false,
     "start_time": "2020-07-16T03:15:07.748457",
     "status": "completed"
    },
    "tags": []
   },
   "outputs": [
    {
     "name": "stdout",
     "output_type": "stream",
     "text": [
      "length of ham_summary:  6561\n",
      "CPU times: user 49 µs, sys: 1e+03 ns, total: 50 µs\n",
      "Wall time: 52.5 µs\n"
     ]
    },
    {
     "data": {
      "text/html": [
       "<div>\n",
       "<style scoped>\n",
       "    .dataframe tbody tr th:only-of-type {\n",
       "        vertical-align: middle;\n",
       "    }\n",
       "\n",
       "    .dataframe tbody tr th {\n",
       "        vertical-align: top;\n",
       "    }\n",
       "\n",
       "    .dataframe thead th {\n",
       "        text-align: right;\n",
       "    }\n",
       "</style>\n",
       "<table border=\"1\" class=\"dataframe\">\n",
       "  <thead>\n",
       "    <tr style=\"text-align: right;\">\n",
       "      <th></th>\n",
       "      <th>t1</th>\n",
       "      <th>t2</th>\n",
       "      <th>type_of</th>\n",
       "      <th>0</th>\n",
       "      <th>1</th>\n",
       "      <th>phase</th>\n",
       "      <th>pred_phase</th>\n",
       "    </tr>\n",
       "    <tr>\n",
       "      <th>id</th>\n",
       "      <th></th>\n",
       "      <th></th>\n",
       "      <th></th>\n",
       "      <th></th>\n",
       "      <th></th>\n",
       "      <th></th>\n",
       "      <th></th>\n",
       "    </tr>\n",
       "  </thead>\n",
       "  <tbody>\n",
       "    <tr>\n",
       "      <th>0</th>\n",
       "      <td>-2.0</td>\n",
       "      <td>-2.00</td>\n",
       "      <td>test</td>\n",
       "      <td>0.69</td>\n",
       "      <td>0.31</td>\n",
       "      <td>999</td>\n",
       "      <td>0</td>\n",
       "    </tr>\n",
       "    <tr>\n",
       "      <th>1</th>\n",
       "      <td>-2.0</td>\n",
       "      <td>-1.95</td>\n",
       "      <td>test</td>\n",
       "      <td>0.76</td>\n",
       "      <td>0.24</td>\n",
       "      <td>0</td>\n",
       "      <td>0</td>\n",
       "    </tr>\n",
       "    <tr>\n",
       "      <th>2</th>\n",
       "      <td>-2.0</td>\n",
       "      <td>-1.90</td>\n",
       "      <td>test</td>\n",
       "      <td>0.81</td>\n",
       "      <td>0.19</td>\n",
       "      <td>0</td>\n",
       "      <td>0</td>\n",
       "    </tr>\n",
       "    <tr>\n",
       "      <th>3</th>\n",
       "      <td>-2.0</td>\n",
       "      <td>-1.85</td>\n",
       "      <td>test</td>\n",
       "      <td>0.81</td>\n",
       "      <td>0.19</td>\n",
       "      <td>0</td>\n",
       "      <td>0</td>\n",
       "    </tr>\n",
       "    <tr>\n",
       "      <th>4</th>\n",
       "      <td>-2.0</td>\n",
       "      <td>-1.80</td>\n",
       "      <td>test</td>\n",
       "      <td>0.80</td>\n",
       "      <td>0.20</td>\n",
       "      <td>0</td>\n",
       "      <td>0</td>\n",
       "    </tr>\n",
       "    <tr>\n",
       "      <th>...</th>\n",
       "      <td>...</td>\n",
       "      <td>...</td>\n",
       "      <td>...</td>\n",
       "      <td>...</td>\n",
       "      <td>...</td>\n",
       "      <td>...</td>\n",
       "      <td>...</td>\n",
       "    </tr>\n",
       "    <tr>\n",
       "      <th>6556</th>\n",
       "      <td>2.0</td>\n",
       "      <td>1.80</td>\n",
       "      <td>test</td>\n",
       "      <td>0.83</td>\n",
       "      <td>0.17</td>\n",
       "      <td>0</td>\n",
       "      <td>0</td>\n",
       "    </tr>\n",
       "    <tr>\n",
       "      <th>6557</th>\n",
       "      <td>2.0</td>\n",
       "      <td>1.85</td>\n",
       "      <td>test</td>\n",
       "      <td>0.80</td>\n",
       "      <td>0.20</td>\n",
       "      <td>0</td>\n",
       "      <td>0</td>\n",
       "    </tr>\n",
       "    <tr>\n",
       "      <th>6558</th>\n",
       "      <td>2.0</td>\n",
       "      <td>1.90</td>\n",
       "      <td>test</td>\n",
       "      <td>0.74</td>\n",
       "      <td>0.26</td>\n",
       "      <td>0</td>\n",
       "      <td>0</td>\n",
       "    </tr>\n",
       "    <tr>\n",
       "      <th>6559</th>\n",
       "      <td>2.0</td>\n",
       "      <td>1.95</td>\n",
       "      <td>test</td>\n",
       "      <td>0.75</td>\n",
       "      <td>0.25</td>\n",
       "      <td>0</td>\n",
       "      <td>0</td>\n",
       "    </tr>\n",
       "    <tr>\n",
       "      <th>6560</th>\n",
       "      <td>2.0</td>\n",
       "      <td>2.00</td>\n",
       "      <td>test</td>\n",
       "      <td>0.77</td>\n",
       "      <td>0.23</td>\n",
       "      <td>999</td>\n",
       "      <td>0</td>\n",
       "    </tr>\n",
       "  </tbody>\n",
       "</table>\n",
       "<p>6561 rows × 7 columns</p>\n",
       "</div>"
      ],
      "text/plain": [
       "       t1    t2 type_of     0     1  phase  pred_phase\n",
       "id                                                    \n",
       "0    -2.0 -2.00    test  0.69  0.31    999           0\n",
       "1    -2.0 -1.95    test  0.76  0.24      0           0\n",
       "2    -2.0 -1.90    test  0.81  0.19      0           0\n",
       "3    -2.0 -1.85    test  0.81  0.19      0           0\n",
       "4    -2.0 -1.80    test  0.80  0.20      0           0\n",
       "...   ...   ...     ...   ...   ...    ...         ...\n",
       "6556  2.0  1.80    test  0.83  0.17      0           0\n",
       "6557  2.0  1.85    test  0.80  0.20      0           0\n",
       "6558  2.0  1.90    test  0.74  0.26      0           0\n",
       "6559  2.0  1.95    test  0.75  0.25      0           0\n",
       "6560  2.0  2.00    test  0.77  0.23    999           0\n",
       "\n",
       "[6561 rows x 7 columns]"
      ]
     },
     "execution_count": 31,
     "metadata": {},
     "output_type": "execute_result"
    }
   ],
   "source": [
    "%%time\n",
    "ham_summary = simulation.hamiltonian_summary\n",
    "print(\"length of ham_summary: \", len(ham_summary))\n",
    "ham_summary"
   ]
  },
  {
   "cell_type": "code",
   "execution_count": 32,
   "metadata": {
    "execution": {
     "iopub.execute_input": "2020-07-16T03:15:07.883051Z",
     "iopub.status.busy": "2020-07-16T03:15:07.882743Z",
     "iopub.status.idle": "2020-07-16T03:15:07.910103Z",
     "shell.execute_reply": "2020-07-16T03:15:07.909782Z"
    },
    "papermill": {
     "duration": 0.068084,
     "end_time": "2020-07-16T03:15:07.910157",
     "exception": false,
     "start_time": "2020-07-16T03:15:07.842073",
     "status": "completed"
    },
    "tags": []
   },
   "outputs": [
    {
     "data": {
      "text/html": [
       "<div>\n",
       "<style scoped>\n",
       "    .dataframe tbody tr th:only-of-type {\n",
       "        vertical-align: middle;\n",
       "    }\n",
       "\n",
       "    .dataframe tbody tr th {\n",
       "        vertical-align: top;\n",
       "    }\n",
       "\n",
       "    .dataframe thead th {\n",
       "        text-align: right;\n",
       "    }\n",
       "</style>\n",
       "<table border=\"1\" class=\"dataframe\">\n",
       "  <thead>\n",
       "    <tr style=\"text-align: right;\">\n",
       "      <th></th>\n",
       "      <th>t1</th>\n",
       "      <th>t2</th>\n",
       "      <th>0</th>\n",
       "      <th>1</th>\n",
       "      <th>phase</th>\n",
       "      <th>pred_phase</th>\n",
       "    </tr>\n",
       "  </thead>\n",
       "  <tbody>\n",
       "    <tr>\n",
       "      <th>count</th>\n",
       "      <td>6561.000000</td>\n",
       "      <td>6.561000e+03</td>\n",
       "      <td>6561.000000</td>\n",
       "      <td>6561.000000</td>\n",
       "      <td>6561.000000</td>\n",
       "      <td>6561.000000</td>\n",
       "    </tr>\n",
       "    <tr>\n",
       "      <th>mean</th>\n",
       "      <td>0.000000</td>\n",
       "      <td>-4.331917e-18</td>\n",
       "      <td>0.540489</td>\n",
       "      <td>0.459511</td>\n",
       "      <td>25.002134</td>\n",
       "      <td>0.454199</td>\n",
       "    </tr>\n",
       "    <tr>\n",
       "      <th>std</th>\n",
       "      <td>1.169134</td>\n",
       "      <td>1.169134e+00</td>\n",
       "      <td>0.407504</td>\n",
       "      <td>0.407504</td>\n",
       "      <td>154.495657</td>\n",
       "      <td>0.497936</td>\n",
       "    </tr>\n",
       "    <tr>\n",
       "      <th>min</th>\n",
       "      <td>-2.000000</td>\n",
       "      <td>-2.000000e+00</td>\n",
       "      <td>0.010000</td>\n",
       "      <td>0.000000</td>\n",
       "      <td>0.000000</td>\n",
       "      <td>0.000000</td>\n",
       "    </tr>\n",
       "    <tr>\n",
       "      <th>25%</th>\n",
       "      <td>-1.000000</td>\n",
       "      <td>-1.000000e+00</td>\n",
       "      <td>0.080000</td>\n",
       "      <td>0.060000</td>\n",
       "      <td>0.000000</td>\n",
       "      <td>0.000000</td>\n",
       "    </tr>\n",
       "    <tr>\n",
       "      <th>50%</th>\n",
       "      <td>0.000000</td>\n",
       "      <td>0.000000e+00</td>\n",
       "      <td>0.750000</td>\n",
       "      <td>0.250000</td>\n",
       "      <td>1.000000</td>\n",
       "      <td>0.000000</td>\n",
       "    </tr>\n",
       "    <tr>\n",
       "      <th>75%</th>\n",
       "      <td>1.000000</td>\n",
       "      <td>1.000000e+00</td>\n",
       "      <td>0.940000</td>\n",
       "      <td>0.920000</td>\n",
       "      <td>1.000000</td>\n",
       "      <td>1.000000</td>\n",
       "    </tr>\n",
       "    <tr>\n",
       "      <th>max</th>\n",
       "      <td>2.000000</td>\n",
       "      <td>2.000000e+00</td>\n",
       "      <td>1.000000</td>\n",
       "      <td>0.990000</td>\n",
       "      <td>999.000000</td>\n",
       "      <td>1.000000</td>\n",
       "    </tr>\n",
       "  </tbody>\n",
       "</table>\n",
       "</div>"
      ],
      "text/plain": [
       "                t1            t2            0            1        phase  \\\n",
       "count  6561.000000  6.561000e+03  6561.000000  6561.000000  6561.000000   \n",
       "mean      0.000000 -4.331917e-18     0.540489     0.459511    25.002134   \n",
       "std       1.169134  1.169134e+00     0.407504     0.407504   154.495657   \n",
       "min      -2.000000 -2.000000e+00     0.010000     0.000000     0.000000   \n",
       "25%      -1.000000 -1.000000e+00     0.080000     0.060000     0.000000   \n",
       "50%       0.000000  0.000000e+00     0.750000     0.250000     1.000000   \n",
       "75%       1.000000  1.000000e+00     0.940000     0.920000     1.000000   \n",
       "max       2.000000  2.000000e+00     1.000000     0.990000   999.000000   \n",
       "\n",
       "        pred_phase  \n",
       "count  6561.000000  \n",
       "mean      0.454199  \n",
       "std       0.497936  \n",
       "min       0.000000  \n",
       "25%       0.000000  \n",
       "50%       0.000000  \n",
       "75%       1.000000  \n",
       "max       1.000000  "
      ]
     },
     "execution_count": 32,
     "metadata": {},
     "output_type": "execute_result"
    }
   ],
   "source": [
    "ham_summary.describe()"
   ]
  },
  {
   "cell_type": "code",
   "execution_count": 33,
   "metadata": {
    "execution": {
     "iopub.execute_input": "2020-07-16T03:15:07.989069Z",
     "iopub.status.busy": "2020-07-16T03:15:07.988759Z",
     "iopub.status.idle": "2020-07-16T03:15:08.002817Z",
     "shell.execute_reply": "2020-07-16T03:15:08.003120Z"
    },
    "papermill": {
     "duration": 0.055408,
     "end_time": "2020-07-16T03:15:08.003186",
     "exception": false,
     "start_time": "2020-07-16T03:15:07.947778",
     "status": "completed"
    },
    "tags": []
   },
   "outputs": [
    {
     "name": "stdout",
     "output_type": "stream",
     "text": [
      "length of ham_summary:  656100\n"
     ]
    },
    {
     "data": {
      "text/html": [
       "<div>\n",
       "<style scoped>\n",
       "    .dataframe tbody tr th:only-of-type {\n",
       "        vertical-align: middle;\n",
       "    }\n",
       "\n",
       "    .dataframe tbody tr th {\n",
       "        vertical-align: top;\n",
       "    }\n",
       "\n",
       "    .dataframe thead th {\n",
       "        text-align: right;\n",
       "    }\n",
       "</style>\n",
       "<table border=\"1\" class=\"dataframe\">\n",
       "  <thead>\n",
       "    <tr style=\"text-align: right;\">\n",
       "      <th></th>\n",
       "      <th>id</th>\n",
       "      <th>phase</th>\n",
       "      <th>pred_phase</th>\n",
       "      <th>type_of</th>\n",
       "    </tr>\n",
       "  </thead>\n",
       "  <tbody>\n",
       "    <tr>\n",
       "      <th>0</th>\n",
       "      <td>0</td>\n",
       "      <td>999</td>\n",
       "      <td>0</td>\n",
       "      <td>test</td>\n",
       "    </tr>\n",
       "    <tr>\n",
       "      <th>1</th>\n",
       "      <td>0</td>\n",
       "      <td>999</td>\n",
       "      <td>0</td>\n",
       "      <td>test</td>\n",
       "    </tr>\n",
       "    <tr>\n",
       "      <th>2</th>\n",
       "      <td>0</td>\n",
       "      <td>999</td>\n",
       "      <td>1</td>\n",
       "      <td>test</td>\n",
       "    </tr>\n",
       "    <tr>\n",
       "      <th>3</th>\n",
       "      <td>0</td>\n",
       "      <td>999</td>\n",
       "      <td>0</td>\n",
       "      <td>test</td>\n",
       "    </tr>\n",
       "    <tr>\n",
       "      <th>4</th>\n",
       "      <td>0</td>\n",
       "      <td>999</td>\n",
       "      <td>0</td>\n",
       "      <td>test</td>\n",
       "    </tr>\n",
       "    <tr>\n",
       "      <th>...</th>\n",
       "      <td>...</td>\n",
       "      <td>...</td>\n",
       "      <td>...</td>\n",
       "      <td>...</td>\n",
       "    </tr>\n",
       "    <tr>\n",
       "      <th>656095</th>\n",
       "      <td>6560</td>\n",
       "      <td>999</td>\n",
       "      <td>0</td>\n",
       "      <td>test</td>\n",
       "    </tr>\n",
       "    <tr>\n",
       "      <th>656096</th>\n",
       "      <td>6560</td>\n",
       "      <td>999</td>\n",
       "      <td>0</td>\n",
       "      <td>test</td>\n",
       "    </tr>\n",
       "    <tr>\n",
       "      <th>656097</th>\n",
       "      <td>6560</td>\n",
       "      <td>999</td>\n",
       "      <td>0</td>\n",
       "      <td>test</td>\n",
       "    </tr>\n",
       "    <tr>\n",
       "      <th>656098</th>\n",
       "      <td>6560</td>\n",
       "      <td>999</td>\n",
       "      <td>0</td>\n",
       "      <td>test</td>\n",
       "    </tr>\n",
       "    <tr>\n",
       "      <th>656099</th>\n",
       "      <td>6560</td>\n",
       "      <td>999</td>\n",
       "      <td>0</td>\n",
       "      <td>test</td>\n",
       "    </tr>\n",
       "  </tbody>\n",
       "</table>\n",
       "<p>656100 rows × 4 columns</p>\n",
       "</div>"
      ],
      "text/plain": [
       "          id  phase  pred_phase type_of\n",
       "0          0    999           0    test\n",
       "1          0    999           0    test\n",
       "2          0    999           1    test\n",
       "3          0    999           0    test\n",
       "4          0    999           0    test\n",
       "...      ...    ...         ...     ...\n",
       "656095  6560    999           0    test\n",
       "656096  6560    999           0    test\n",
       "656097  6560    999           0    test\n",
       "656098  6560    999           0    test\n",
       "656099  6560    999           0    test\n",
       "\n",
       "[656100 rows x 4 columns]"
      ]
     },
     "execution_count": 33,
     "metadata": {},
     "output_type": "execute_result"
    }
   ],
   "source": [
    "eigen_summary = simulation.eigenvector_summary\n",
    "print(\"length of ham_summary: \", len(eigen_summary))\n",
    "eigen_summary"
   ]
  },
  {
   "cell_type": "markdown",
   "metadata": {
    "papermill": {
     "duration": 0.037239,
     "end_time": "2020-07-16T03:15:08.077962",
     "exception": false,
     "start_time": "2020-07-16T03:15:08.040723",
     "status": "completed"
    },
    "tags": []
   },
   "source": [
    "#### Checking accuracies"
   ]
  },
  {
   "cell_type": "code",
   "execution_count": 34,
   "metadata": {
    "execution": {
     "iopub.execute_input": "2020-07-16T03:15:08.157995Z",
     "iopub.status.busy": "2020-07-16T03:15:08.157683Z",
     "iopub.status.idle": "2020-07-16T03:15:08.167937Z",
     "shell.execute_reply": "2020-07-16T03:15:08.167616Z"
    },
    "papermill": {
     "duration": 0.051876,
     "end_time": "2020-07-16T03:15:08.167988",
     "exception": false,
     "start_time": "2020-07-16T03:15:08.116112",
     "status": "completed"
    },
    "tags": []
   },
   "outputs": [
    {
     "data": {
      "text/plain": [
       "{'eigenvector_train': 0.9656474820143884,\n",
       " 'eigenvector_val': 0.913104,\n",
       " 'eigenvector_test': 0.6720616113744076,\n",
       " 'hamiltonian_train': 0.9838129496402878,\n",
       " 'hamiltonian_val': 0.9858,\n",
       " 'hamiltonian_test': 0.8317535545023697}"
      ]
     },
     "execution_count": 34,
     "metadata": {},
     "output_type": "execute_result"
    }
   ],
   "source": [
    "simulation.accuracy"
   ]
  },
  {
   "cell_type": "markdown",
   "metadata": {
    "papermill": {
     "duration": 0.03728,
     "end_time": "2020-07-16T03:15:08.242902",
     "exception": false,
     "start_time": "2020-07-16T03:15:08.205622",
     "status": "completed"
    },
    "tags": []
   },
   "source": [
    "#### Checking data stored in  memory"
   ]
  },
  {
   "cell_type": "code",
   "execution_count": 35,
   "metadata": {
    "execution": {
     "iopub.execute_input": "2020-07-16T03:15:08.323361Z",
     "iopub.status.busy": "2020-07-16T03:15:08.323052Z",
     "iopub.status.idle": "2020-07-16T03:15:08.333468Z",
     "shell.execute_reply": "2020-07-16T03:15:08.333148Z"
    },
    "papermill": {
     "duration": 0.052076,
     "end_time": "2020-07-16T03:15:08.333520",
     "exception": false,
     "start_time": "2020-07-16T03:15:08.281444",
     "status": "completed"
    },
    "tags": []
   },
   "outputs": [
    {
     "data": {
      "text/plain": [
       "[]"
      ]
     },
     "execution_count": 35,
     "metadata": {},
     "output_type": "execute_result"
    }
   ],
   "source": [
    "ham_summary_list = simulation.hamiltonian_summary_list\n",
    "ham_summary_list"
   ]
  },
  {
   "cell_type": "code",
   "execution_count": 36,
   "metadata": {
    "execution": {
     "iopub.execute_input": "2020-07-16T03:15:08.411460Z",
     "iopub.status.busy": "2020-07-16T03:15:08.411148Z",
     "iopub.status.idle": "2020-07-16T03:15:08.421465Z",
     "shell.execute_reply": "2020-07-16T03:15:08.421145Z"
    },
    "papermill": {
     "duration": 0.049755,
     "end_time": "2020-07-16T03:15:08.421517",
     "exception": false,
     "start_time": "2020-07-16T03:15:08.371762",
     "status": "completed"
    },
    "tags": []
   },
   "outputs": [
    {
     "data": {
      "text/plain": [
       "[]"
      ]
     },
     "execution_count": 36,
     "metadata": {},
     "output_type": "execute_result"
    }
   ],
   "source": [
    "eigen_summary_list = simulation.eigenvector_summary_list\n",
    "eigen_summary_list"
   ]
  },
  {
   "cell_type": "code",
   "execution_count": 37,
   "metadata": {
    "execution": {
     "iopub.execute_input": "2020-07-16T03:15:08.502440Z",
     "iopub.status.busy": "2020-07-16T03:15:08.502133Z",
     "iopub.status.idle": "2020-07-16T03:15:08.512577Z",
     "shell.execute_reply": "2020-07-16T03:15:08.512247Z"
    },
    "papermill": {
     "duration": 0.052192,
     "end_time": "2020-07-16T03:15:08.512629",
     "exception": false,
     "start_time": "2020-07-16T03:15:08.460437",
     "status": "completed"
    },
    "tags": []
   },
   "outputs": [
    {
     "data": {
      "text/plain": [
       "{'eigenvector_train': [],\n",
       " 'eigenvector_val': [],\n",
       " 'eigenvector_test': [],\n",
       " 'hamiltonian_train': [],\n",
       " 'hamiltonian_val': [],\n",
       " 'hamiltonian_test': []}"
      ]
     },
     "execution_count": 37,
     "metadata": {},
     "output_type": "execute_result"
    }
   ],
   "source": [
    "accuracy_list = simulation.accuracy_list\n",
    "accuracy_list"
   ]
  },
  {
   "cell_type": "code",
   "execution_count": null,
   "metadata": {
    "papermill": {
     "duration": 0.037788,
     "end_time": "2020-07-16T03:15:08.588837",
     "exception": false,
     "start_time": "2020-07-16T03:15:08.551049",
     "status": "completed"
    },
    "tags": []
   },
   "outputs": [],
   "source": []
  },
  {
   "cell_type": "code",
   "execution_count": null,
   "metadata": {
    "papermill": {
     "duration": 0.040203,
     "end_time": "2020-07-16T03:15:08.667610",
     "exception": false,
     "start_time": "2020-07-16T03:15:08.627407",
     "status": "completed"
    },
    "tags": []
   },
   "outputs": [],
   "source": []
  },
  {
   "cell_type": "code",
   "execution_count": 38,
   "metadata": {
    "execution": {
     "iopub.execute_input": "2020-07-16T03:15:08.745616Z",
     "iopub.status.busy": "2020-07-16T03:15:08.745304Z",
     "iopub.status.idle": "2020-07-16T03:15:08.755094Z",
     "shell.execute_reply": "2020-07-16T03:15:08.754766Z"
    },
    "papermill": {
     "duration": 0.04975,
     "end_time": "2020-07-16T03:15:08.755147",
     "exception": false,
     "start_time": "2020-07-16T03:15:08.705397",
     "status": "completed"
    },
    "tags": []
   },
   "outputs": [],
   "source": [
    "#simulation.fourier_matrix"
   ]
  },
  {
   "cell_type": "code",
   "execution_count": 39,
   "metadata": {
    "execution": {
     "iopub.execute_input": "2020-07-16T03:15:08.836675Z",
     "iopub.status.busy": "2020-07-16T03:15:08.836320Z",
     "iopub.status.idle": "2020-07-16T03:15:08.845826Z",
     "shell.execute_reply": "2020-07-16T03:15:08.845494Z"
    },
    "papermill": {
     "duration": 0.051695,
     "end_time": "2020-07-16T03:15:08.845882",
     "exception": false,
     "start_time": "2020-07-16T03:15:08.794187",
     "status": "completed"
    },
    "tags": []
   },
   "outputs": [],
   "source": [
    "#simulation.fourier_matrix.shape"
   ]
  },
  {
   "cell_type": "code",
   "execution_count": 40,
   "metadata": {
    "execution": {
     "iopub.execute_input": "2020-07-16T03:15:08.923944Z",
     "iopub.status.busy": "2020-07-16T03:15:08.923635Z",
     "iopub.status.idle": "2020-07-16T03:15:08.932723Z",
     "shell.execute_reply": "2020-07-16T03:15:08.933028Z"
    },
    "papermill": {
     "duration": 0.048889,
     "end_time": "2020-07-16T03:15:08.933096",
     "exception": false,
     "start_time": "2020-07-16T03:15:08.884207",
     "status": "completed"
    },
    "tags": []
   },
   "outputs": [],
   "source": [
    "#simulation.fourier_matrix[:,0]"
   ]
  },
  {
   "cell_type": "code",
   "execution_count": 41,
   "metadata": {
    "execution": {
     "iopub.execute_input": "2020-07-16T03:15:09.012818Z",
     "iopub.status.busy": "2020-07-16T03:15:09.012508Z",
     "iopub.status.idle": "2020-07-16T03:15:09.021923Z",
     "shell.execute_reply": "2020-07-16T03:15:09.021641Z"
    },
    "papermill": {
     "duration": 0.049908,
     "end_time": "2020-07-16T03:15:09.021979",
     "exception": false,
     "start_time": "2020-07-16T03:15:08.972071",
     "status": "completed"
    },
    "tags": []
   },
   "outputs": [],
   "source": [
    "#simulation.fourier_matrix[:,1]"
   ]
  },
  {
   "cell_type": "code",
   "execution_count": 42,
   "metadata": {
    "execution": {
     "iopub.execute_input": "2020-07-16T03:15:09.101014Z",
     "iopub.status.busy": "2020-07-16T03:15:09.100707Z",
     "iopub.status.idle": "2020-07-16T03:15:09.109842Z",
     "shell.execute_reply": "2020-07-16T03:15:09.110093Z"
    },
    "papermill": {
     "duration": 0.049972,
     "end_time": "2020-07-16T03:15:09.110163",
     "exception": false,
     "start_time": "2020-07-16T03:15:09.060191",
     "status": "completed"
    },
    "tags": []
   },
   "outputs": [],
   "source": [
    "#np.exp(-1j*2*np.pi*3/100)"
   ]
  },
  {
   "cell_type": "code",
   "execution_count": 43,
   "metadata": {
    "execution": {
     "iopub.execute_input": "2020-07-16T03:15:09.190521Z",
     "iopub.status.busy": "2020-07-16T03:15:09.190208Z",
     "iopub.status.idle": "2020-07-16T03:15:09.199552Z",
     "shell.execute_reply": "2020-07-16T03:15:09.199281Z"
    },
    "papermill": {
     "duration": 0.050056,
     "end_time": "2020-07-16T03:15:09.199608",
     "exception": false,
     "start_time": "2020-07-16T03:15:09.149552",
     "status": "completed"
    },
    "tags": []
   },
   "outputs": [],
   "source": [
    "#for i in range(1,50):\n",
    "#    print(\"\\n\")\n",
    "#    print(i)\n",
    "#    print(np.sum((np.real(simulation.fourier_matrix[:,i]) - np.real(simulation.fourier_matrix[:,-i]))**2))\n",
    "#    print(np.sum((np.imag(simulation.fourier_matrix[:,i])+ np.imag(simulation.fourier_matrix[:,-i]))**2))"
   ]
  },
  {
   "cell_type": "code",
   "execution_count": 44,
   "metadata": {
    "execution": {
     "iopub.execute_input": "2020-07-16T03:15:09.277922Z",
     "iopub.status.busy": "2020-07-16T03:15:09.277615Z",
     "iopub.status.idle": "2020-07-16T03:15:09.308188Z",
     "shell.execute_reply": "2020-07-16T03:15:09.307864Z"
    },
    "papermill": {
     "duration": 0.07022,
     "end_time": "2020-07-16T03:15:09.308243",
     "exception": false,
     "start_time": "2020-07-16T03:15:09.238023",
     "status": "completed"
    },
    "tags": []
   },
   "outputs": [],
   "source": [
    "#print(simulation.fourier_matrix[:,0])"
   ]
  },
  {
   "cell_type": "code",
   "execution_count": 45,
   "metadata": {
    "execution": {
     "iopub.execute_input": "2020-07-16T03:15:09.388446Z",
     "iopub.status.busy": "2020-07-16T03:15:09.388117Z",
     "iopub.status.idle": "2020-07-16T03:15:09.397763Z",
     "shell.execute_reply": "2020-07-16T03:15:09.397433Z"
    },
    "papermill": {
     "duration": 0.050225,
     "end_time": "2020-07-16T03:15:09.397820",
     "exception": false,
     "start_time": "2020-07-16T03:15:09.347595",
     "status": "completed"
    },
    "tags": []
   },
   "outputs": [],
   "source": [
    "#print(simulation.fourier_matrix[:,50])"
   ]
  },
  {
   "cell_type": "code",
   "execution_count": null,
   "metadata": {
    "papermill": {
     "duration": 0.03796,
     "end_time": "2020-07-16T03:15:09.474130",
     "exception": false,
     "start_time": "2020-07-16T03:15:09.436170",
     "status": "completed"
    },
    "tags": []
   },
   "outputs": [],
   "source": []
  }
 ],
 "metadata": {
  "celltoolbar": "Tags",
  "kernelspec": {
   "display_name": "ml_top_phases",
   "language": "python",
   "name": "ml_top_phases"
  },
  "language_info": {
   "codemirror_mode": {
    "name": "ipython",
    "version": 3
   },
   "file_extension": ".py",
   "mimetype": "text/x-python",
   "name": "python",
   "nbconvert_exporter": "python",
   "pygments_lexer": "ipython3",
   "version": "3.6.10"
  },
  "papermill": {
   "duration": 170.089641,
   "end_time": "2020-07-16T03:15:10.552576",
   "environment_variables": {},
   "exception": null,
   "input_path": "0_simulation_template.ipynb",
   "output_path": "zzz_simulation_output_ssh1_5th_scenario_100_6561.ipynb",
   "parameters": {
    "allowed_windings": [
     0,
     1
    ],
    "csv_path": "/home/rio/ssh_csvs/ssh1/periodic_100_6561.csv",
    "features_to_use": [
     0,
     1,
     3,
     50
    ],
    "fit_params": null,
    "fourier_features_to_use": [
     15,
     18,
     28,
     30
    ],
    "fourier_fillna": false,
    "fourier_mode": "dct",
    "fourier_normalize": false,
    "fourier_real": null,
    "model_kw": {
     "criterion": "entropy"
    },
    "model_name": "DecisionTreeClassifier",
    "n_experiments": 100,
    "pred_params": null,
    "random_features": false,
    "random_state": 1846483,
    "save_accuracy": true,
    "save_eigenvector": true,
    "save_hamiltonian": true,
    "save_models": true,
    "shuffle_features": false,
    "shuffle_rows": true,
    "simulation_dir": "/home/rio/ssh_simulations/ssh1/periodic_5th_scenario_100_6561",
    "start_n": 0,
    "store_in_lists": false,
    "val_split": 0.9
   },
   "start_time": "2020-07-16T03:12:20.462935",
   "version": "2.1.0"
  }
 },
 "nbformat": 4,
 "nbformat_minor": 2
}