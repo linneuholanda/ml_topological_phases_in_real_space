{
 "cells": [
  {
   "cell_type": "markdown",
   "metadata": {
    "papermill": {
     "duration": 0.036273,
     "end_time": "2020-07-09T10:15:58.401552",
     "exception": false,
     "start_time": "2020-07-09T10:15:58.365279",
     "status": "completed"
    },
    "tags": []
   },
   "source": [
    "# Simulation template \n",
    "\n",
    "In this notebook we run the machine learning analysis of topological phase transitions occurring  in both nearest-neighbours SSH models (ssh1) and second neighbours models (ssh2) as decribed in the paper [Machine learning topological phases in real space](https://arxiv.org/abs/1901.01963). Here the simulation is run with features generated from fourier components in the first scenario. This scenario is characterized by using only the EVEN wavevector space eigenmodes, computed from ALL real space components."
   ]
  },
  {
   "cell_type": "markdown",
   "metadata": {
    "papermill": {
     "duration": 0.016279,
     "end_time": "2020-07-09T10:15:58.439864",
     "exception": false,
     "start_time": "2020-07-09T10:15:58.423585",
     "status": "completed"
    },
    "tags": []
   },
   "source": [
    "## Defining parameters"
   ]
  },
  {
   "cell_type": "code",
   "execution_count": 1,
   "metadata": {
    "execution": {
     "iopub.execute_input": "2020-07-09T10:15:58.474434Z",
     "iopub.status.busy": "2020-07-09T10:15:58.473913Z",
     "iopub.status.idle": "2020-07-09T10:15:59.050603Z",
     "shell.execute_reply": "2020-07-09T10:15:59.050279Z"
    },
    "papermill": {
     "duration": 0.595327,
     "end_time": "2020-07-09T10:15:59.050661",
     "exception": false,
     "start_time": "2020-07-09T10:15:58.455334",
     "status": "completed"
    },
    "tags": []
   },
   "outputs": [
    {
     "name": "stdout",
     "output_type": "stream",
     "text": [
      "CPU times: user 761 ms, sys: 257 ms, total: 1.02 s\n",
      "Wall time: 571 ms\n"
     ]
    }
   ],
   "source": [
    "%%time\n",
    "%load_ext autoreload\n",
    "%autoreload 2\n",
    "from simulation import *"
   ]
  },
  {
   "cell_type": "code",
   "execution_count": 2,
   "metadata": {
    "execution": {
     "iopub.execute_input": "2020-07-09T10:15:59.084769Z",
     "iopub.status.busy": "2020-07-09T10:15:59.084242Z",
     "iopub.status.idle": "2020-07-09T10:15:59.095203Z",
     "shell.execute_reply": "2020-07-09T10:15:59.094873Z"
    },
    "papermill": {
     "duration": 0.028563,
     "end_time": "2020-07-09T10:15:59.095260",
     "exception": false,
     "start_time": "2020-07-09T10:15:59.066697",
     "status": "completed"
    },
    "tags": [
     "parameters"
    ]
   },
   "outputs": [
    {
     "name": "stdout",
     "output_type": "stream",
     "text": [
      "CPU times: user 3 µs, sys: 0 ns, total: 3 µs\n",
      "Wall time: 4.53 µs\n"
     ]
    }
   ],
   "source": [
    "%%time\n",
    "### Dataset and simulation parameters\n",
    "#csv_path = SSH2_PERIODIC_100_6561_CSV \n",
    "csv_path = SSH1_PERIODIC_100_6561_CSV \n",
    "model_name = \"DecisionTreeClassifier\"\n",
    "model_kw = {\"criterion\":\"entropy\"}\n",
    "allowed_windings = [0,1]\n",
    "#allowed_windings = [-1,0,1,2]\n",
    "simulation_dir = SSH1_PERIODIC_1ST_SCENARIO_100_6561_SIMULATION_DIR\n",
    "#simulation_dir = SSH2_PERIODIC_ENGINEERED_100_6561_SIMULATION_DIR\n",
    "val_split = 0.9  \n",
    "features_to_use = None\n",
    "shuffle_features = False\n",
    "random_state = 763\n",
    "\n",
    "### Fourier features\n",
    "fourier_mode = \"dft\"\n",
    "fourier_features_to_use = None\n",
    "fourier_real = \"real\"\n",
    "fourier_normalize = True\n",
    "fourier_fillna = False\n",
    "\n",
    "### Running a simulation\n",
    "n_experiments = 5\n",
    "start_n = 0\n",
    "fit_params = None\n",
    "#mode=mode\n",
    "shuffle_rows = True\n",
    "pred_params = None\n",
    "random_features = False\n",
    "######### DON'T SET THIS TO TRUE UNLESS YOUR DATASET IS SMALL!! WILL FLOOD YOUR MEMORY!!!\n",
    "store_in_lists = False   \n",
    "########## BELOW ARE THE PARAMETERS THAT CONTROL WHAT WILL BE SAVED\n",
    "save_eigenvector=True\n",
    "save_hamiltonian=True \n",
    "save_accuracy=True \n",
    "save_models=True"
   ]
  },
  {
   "cell_type": "code",
   "execution_count": 3,
   "metadata": {
    "execution": {
     "iopub.execute_input": "2020-07-09T10:15:59.128587Z",
     "iopub.status.busy": "2020-07-09T10:15:59.128262Z",
     "iopub.status.idle": "2020-07-09T10:15:59.239916Z",
     "shell.execute_reply": "2020-07-09T10:15:59.238180Z"
    },
    "papermill": {
     "duration": 0.129532,
     "end_time": "2020-07-09T10:15:59.240162",
     "exception": false,
     "start_time": "2020-07-09T10:15:59.110630",
     "status": "completed"
    },
    "tags": [
     "injected-parameters"
    ]
   },
   "outputs": [],
   "source": [
    "# Parameters\n",
    "model_kw = {\"criterion\": \"entropy\", \"n_estimators\": 25, \"n_jobs\": -1}\n",
    "allowed_windings = [-1, 0, 1, 2]\n",
    "val_split = 0.5\n",
    "features_to_use = [0, 1, 2, 3, 4, 5]\n",
    "shuffle_features = False\n",
    "n_experiments = 100\n",
    "start_n = 0\n",
    "fit_params = None\n",
    "shuffle_rows = True\n",
    "pred_params = None\n",
    "random_features = False\n",
    "store_in_lists = False\n",
    "save_eigenvector = True\n",
    "save_hamiltonian = True\n",
    "save_accuracy = True\n",
    "save_models = True\n",
    "csv_path = \"/home/rio/ssh_csvs/ssh2/periodic_100_6561.csv\"\n",
    "model_name = \"RandomForestClassifier\"\n",
    "simulation_dir = \"/home/rio/ssh_simulations/ssh2/periodic_2nd_scenario_100_6561\"\n",
    "random_state = 93474\n",
    "fourier_features_to_use = None\n",
    "fourier_mode = None\n",
    "fourier_real = None\n",
    "fourier_normalize = None\n",
    "fourier_fillna = None\n"
   ]
  },
  {
   "cell_type": "code",
   "execution_count": 4,
   "metadata": {
    "execution": {
     "iopub.execute_input": "2020-07-09T10:15:59.315367Z",
     "iopub.status.busy": "2020-07-09T10:15:59.315037Z",
     "iopub.status.idle": "2020-07-09T10:16:04.563914Z",
     "shell.execute_reply": "2020-07-09T10:16:04.564165Z"
    },
    "papermill": {
     "duration": 5.271447,
     "end_time": "2020-07-09T10:16:04.564232",
     "exception": false,
     "start_time": "2020-07-09T10:15:59.292785",
     "status": "completed"
    },
    "tags": []
   },
   "outputs": [
    {
     "name": "stdout",
     "output_type": "stream",
     "text": [
      "Info on all data: \n",
      "\n",
      "<class 'pandas.core.frame.DataFrame'>\n",
      "Int64Index: 656100 entries, 0 to 656099\n",
      "Columns: 108 entries, id to feat99\n",
      "dtypes: float64(103), int32(3), object(2)\n",
      "memory usage: 538.1+ MB\n",
      "CPU times: user 4.91 s, sys: 315 ms, total: 5.22 s\n",
      "Wall time: 5.22 s\n"
     ]
    },
    {
     "data": {
      "text/html": [
       "<div>\n",
       "<style scoped>\n",
       "    .dataframe tbody tr th:only-of-type {\n",
       "        vertical-align: middle;\n",
       "    }\n",
       "\n",
       "    .dataframe tbody tr th {\n",
       "        vertical-align: top;\n",
       "    }\n",
       "\n",
       "    .dataframe thead th {\n",
       "        text-align: right;\n",
       "    }\n",
       "</style>\n",
       "<table border=\"1\" class=\"dataframe\">\n",
       "  <thead>\n",
       "    <tr style=\"text-align: right;\">\n",
       "      <th></th>\n",
       "      <th>id</th>\n",
       "      <th>path</th>\n",
       "      <th>t1</th>\n",
       "      <th>t2</th>\n",
       "      <th>winding</th>\n",
       "      <th>phase</th>\n",
       "      <th>pred_phase</th>\n",
       "      <th>type_of</th>\n",
       "      <th>feat0</th>\n",
       "      <th>feat1</th>\n",
       "      <th>...</th>\n",
       "      <th>feat90</th>\n",
       "      <th>feat91</th>\n",
       "      <th>feat92</th>\n",
       "      <th>feat93</th>\n",
       "      <th>feat94</th>\n",
       "      <th>feat95</th>\n",
       "      <th>feat96</th>\n",
       "      <th>feat97</th>\n",
       "      <th>feat98</th>\n",
       "      <th>feat99</th>\n",
       "    </tr>\n",
       "  </thead>\n",
       "  <tbody>\n",
       "    <tr>\n",
       "      <th>0</th>\n",
       "      <td>0</td>\n",
       "      <td>H_-2_-2_0.501338.dat</td>\n",
       "      <td>-2.0</td>\n",
       "      <td>-2.0</td>\n",
       "      <td>0.501338</td>\n",
       "      <td>999</td>\n",
       "      <td>666</td>\n",
       "      <td>test</td>\n",
       "      <td>-0.130965</td>\n",
       "      <td>0.301130</td>\n",
       "      <td>...</td>\n",
       "      <td>-0.080279</td>\n",
       "      <td>-0.115687</td>\n",
       "      <td>-0.174988</td>\n",
       "      <td>0.245064</td>\n",
       "      <td>0.319763</td>\n",
       "      <td>-0.059082</td>\n",
       "      <td>-0.000556</td>\n",
       "      <td>-0.245133</td>\n",
       "      <td>-0.301130</td>\n",
       "      <td>0.130965</td>\n",
       "    </tr>\n",
       "    <tr>\n",
       "      <th>1</th>\n",
       "      <td>0</td>\n",
       "      <td>H_-2_-2_0.501338.dat</td>\n",
       "      <td>-2.0</td>\n",
       "      <td>-2.0</td>\n",
       "      <td>0.501338</td>\n",
       "      <td>999</td>\n",
       "      <td>666</td>\n",
       "      <td>test</td>\n",
       "      <td>-0.130965</td>\n",
       "      <td>-0.301130</td>\n",
       "      <td>...</td>\n",
       "      <td>-0.080279</td>\n",
       "      <td>0.115687</td>\n",
       "      <td>-0.174988</td>\n",
       "      <td>-0.245064</td>\n",
       "      <td>0.319763</td>\n",
       "      <td>0.059082</td>\n",
       "      <td>-0.000556</td>\n",
       "      <td>0.245133</td>\n",
       "      <td>-0.301130</td>\n",
       "      <td>-0.130965</td>\n",
       "    </tr>\n",
       "    <tr>\n",
       "      <th>2</th>\n",
       "      <td>0</td>\n",
       "      <td>H_-2_-2_0.501338.dat</td>\n",
       "      <td>-2.0</td>\n",
       "      <td>-2.0</td>\n",
       "      <td>0.501338</td>\n",
       "      <td>999</td>\n",
       "      <td>666</td>\n",
       "      <td>test</td>\n",
       "      <td>-0.148414</td>\n",
       "      <td>-0.042467</td>\n",
       "      <td>...</td>\n",
       "      <td>0.185442</td>\n",
       "      <td>-0.080620</td>\n",
       "      <td>-0.066211</td>\n",
       "      <td>-0.121339</td>\n",
       "      <td>-0.151700</td>\n",
       "      <td>0.192513</td>\n",
       "      <td>0.191642</td>\n",
       "      <td>-0.050956</td>\n",
       "      <td>-0.042467</td>\n",
       "      <td>-0.148414</td>\n",
       "    </tr>\n",
       "    <tr>\n",
       "      <th>3</th>\n",
       "      <td>0</td>\n",
       "      <td>H_-2_-2_0.501338.dat</td>\n",
       "      <td>-2.0</td>\n",
       "      <td>-2.0</td>\n",
       "      <td>0.501338</td>\n",
       "      <td>999</td>\n",
       "      <td>666</td>\n",
       "      <td>test</td>\n",
       "      <td>-0.069630</td>\n",
       "      <td>-0.026147</td>\n",
       "      <td>...</td>\n",
       "      <td>0.102009</td>\n",
       "      <td>-0.100671</td>\n",
       "      <td>-0.081002</td>\n",
       "      <td>-0.020715</td>\n",
       "      <td>-0.058717</td>\n",
       "      <td>0.115834</td>\n",
       "      <td>0.118274</td>\n",
       "      <td>-0.054666</td>\n",
       "      <td>-0.026147</td>\n",
       "      <td>-0.069630</td>\n",
       "    </tr>\n",
       "    <tr>\n",
       "      <th>4</th>\n",
       "      <td>0</td>\n",
       "      <td>H_-2_-2_0.501338.dat</td>\n",
       "      <td>-2.0</td>\n",
       "      <td>-2.0</td>\n",
       "      <td>0.501338</td>\n",
       "      <td>999</td>\n",
       "      <td>666</td>\n",
       "      <td>test</td>\n",
       "      <td>0.010206</td>\n",
       "      <td>-0.014625</td>\n",
       "      <td>...</td>\n",
       "      <td>0.047555</td>\n",
       "      <td>-0.041368</td>\n",
       "      <td>-0.018852</td>\n",
       "      <td>-0.017673</td>\n",
       "      <td>-0.023377</td>\n",
       "      <td>0.031447</td>\n",
       "      <td>0.010280</td>\n",
       "      <td>0.000925</td>\n",
       "      <td>0.014625</td>\n",
       "      <td>-0.010206</td>\n",
       "    </tr>\n",
       "  </tbody>\n",
       "</table>\n",
       "<p>5 rows × 108 columns</p>\n",
       "</div>"
      ],
      "text/plain": [
       "   id                  path   t1   t2   winding  phase  pred_phase type_of  \\\n",
       "0   0  H_-2_-2_0.501338.dat -2.0 -2.0  0.501338    999         666    test   \n",
       "1   0  H_-2_-2_0.501338.dat -2.0 -2.0  0.501338    999         666    test   \n",
       "2   0  H_-2_-2_0.501338.dat -2.0 -2.0  0.501338    999         666    test   \n",
       "3   0  H_-2_-2_0.501338.dat -2.0 -2.0  0.501338    999         666    test   \n",
       "4   0  H_-2_-2_0.501338.dat -2.0 -2.0  0.501338    999         666    test   \n",
       "\n",
       "      feat0     feat1  ...    feat90    feat91    feat92    feat93    feat94  \\\n",
       "0 -0.130965  0.301130  ... -0.080279 -0.115687 -0.174988  0.245064  0.319763   \n",
       "1 -0.130965 -0.301130  ... -0.080279  0.115687 -0.174988 -0.245064  0.319763   \n",
       "2 -0.148414 -0.042467  ...  0.185442 -0.080620 -0.066211 -0.121339 -0.151700   \n",
       "3 -0.069630 -0.026147  ...  0.102009 -0.100671 -0.081002 -0.020715 -0.058717   \n",
       "4  0.010206 -0.014625  ...  0.047555 -0.041368 -0.018852 -0.017673 -0.023377   \n",
       "\n",
       "     feat95    feat96    feat97    feat98    feat99  \n",
       "0 -0.059082 -0.000556 -0.245133 -0.301130  0.130965  \n",
       "1  0.059082 -0.000556  0.245133 -0.301130 -0.130965  \n",
       "2  0.192513  0.191642 -0.050956 -0.042467 -0.148414  \n",
       "3  0.115834  0.118274 -0.054666 -0.026147 -0.069630  \n",
       "4  0.031447  0.010280  0.000925  0.014625 -0.010206  \n",
       "\n",
       "[5 rows x 108 columns]"
      ]
     },
     "execution_count": 4,
     "metadata": {},
     "output_type": "execute_result"
    }
   ],
   "source": [
    "%%time\n",
    "#Starting an instance of Simulation with a decision tree\n",
    "model = DecisionTreeClassifier(criterion=\"entropy\")\n",
    "#dict_args = {\"csv_path\":csv_path, \"model\":model, \"allowed_windings\":allowed_windings,\\\n",
    "#             \"simulation_dir\":simulation_dir, \"val_split\":val_split, \"features_to_use\":features_to_use,\\\n",
    "#            \"shuffle_features\":shuffle_features, \"random_state\":random_state}\n",
    "simulation = Simulation(csv_path,model_name,model_kw,allowed_windings,simulation_dir,val_split,features_to_use,\\\n",
    "                       shuffle_features,fourier_mode,fourier_features_to_use,fourier_real,\\\n",
    "                       fourier_normalize, fourier_fillna , random_state)\n",
    "#simulation = Simulation(**dict_args)\n",
    "\n",
    "\n",
    "#(self, csv_path, model_name, model_kw, allowed_windings, simulation_dir = None, val_split = 0, \n",
    "# features_to_use = None, shuffle_features = False, fourier_mode=None, fourier_features_to_use=None,\n",
    "# fourier_real = False, fourier_normalize = False, Fourier_fillna=False, random_state = None):\n",
    "\n",
    "\n",
    "\n",
    "print(\"Info on all data: \\n\")\n",
    "simulation.dataframe.info()\n",
    "simulation.dataframe.head()"
   ]
  },
  {
   "cell_type": "markdown",
   "metadata": {
    "papermill": {
     "duration": 0.017991,
     "end_time": "2020-07-09T10:16:04.598935",
     "exception": false,
     "start_time": "2020-07-09T10:16:04.580944",
     "status": "completed"
    },
    "tags": []
   },
   "source": [
    "####  Fourier features"
   ]
  },
  {
   "cell_type": "code",
   "execution_count": 5,
   "metadata": {
    "execution": {
     "iopub.execute_input": "2020-07-09T10:16:04.632525Z",
     "iopub.status.busy": "2020-07-09T10:16:04.632208Z",
     "iopub.status.idle": "2020-07-09T10:16:04.641947Z",
     "shell.execute_reply": "2020-07-09T10:16:04.642242Z"
    },
    "papermill": {
     "duration": 0.02752,
     "end_time": "2020-07-09T10:16:04.642307",
     "exception": false,
     "start_time": "2020-07-09T10:16:04.614787",
     "status": "completed"
    },
    "tags": []
   },
   "outputs": [
    {
     "name": "stdout",
     "output_type": "stream",
     "text": [
      "CPU times: user 3 µs, sys: 1 µs, total: 4 µs\n",
      "Wall time: 4.29 µs\n"
     ]
    }
   ],
   "source": [
    "%%time\n",
    "#simulation.generate_fourier_df()\n",
    "if simulation.fourier_mode is not None:\n",
    "    simulation.fourier_dataframe.info() \n",
    "    simulation.fourier_dataframe.sample(15)\n"
   ]
  },
  {
   "cell_type": "code",
   "execution_count": 6,
   "metadata": {
    "execution": {
     "iopub.execute_input": "2020-07-09T10:16:04.676524Z",
     "iopub.status.busy": "2020-07-09T10:16:04.676207Z",
     "iopub.status.idle": "2020-07-09T10:16:04.768740Z",
     "shell.execute_reply": "2020-07-09T10:16:04.770363Z"
    },
    "papermill": {
     "duration": 0.112497,
     "end_time": "2020-07-09T10:16:04.770657",
     "exception": false,
     "start_time": "2020-07-09T10:16:04.658160",
     "status": "completed"
    },
    "tags": []
   },
   "outputs": [
    {
     "name": "stdout",
     "output_type": "stream",
     "text": [
      "features_to_use: \n",
      "\n",
      "\n",
      "[0, 1, 2, 3, 4, 5]\n",
      "Number of real space features:\n",
      "\n",
      "\n",
      "6\n",
      "\n"
     ]
    },
    {
     "name": "stdout",
     "output_type": "stream",
     "text": [
      "\n",
      "fourier_features: \n",
      "\n",
      "\n",
      "None\n",
      "\n",
      "\n"
     ]
    }
   ],
   "source": [
    "print(\"features_to_use: \")\n",
    "print(\"\\n\")\n",
    "print(simulation.features_to_use)\n",
    "if simulation.features_to_use is not None:\n",
    "    print(\"Number of real space features:\")\n",
    "    print(\"\\n\")\n",
    "    print(len(simulation.features_to_use))\n",
    "print(\"\\n\")\n",
    "print(\"fourier_features: \")\n",
    "print(\"\\n\")\n",
    "print(simulation.fourier_features)\n",
    "print(\"\\n\")\n",
    "if simulation.fourier_features is not None:\n",
    "    print(\"Number of Fourier features: \")\n",
    "    print(\"\\n\")\n",
    "    print(len(simulation.fourier_features))"
   ]
  },
  {
   "cell_type": "code",
   "execution_count": 7,
   "metadata": {
    "execution": {
     "iopub.execute_input": "2020-07-09T10:16:04.839496Z",
     "iopub.status.busy": "2020-07-09T10:16:04.839191Z",
     "iopub.status.idle": "2020-07-09T10:16:04.849025Z",
     "shell.execute_reply": "2020-07-09T10:16:04.848743Z"
    },
    "papermill": {
     "duration": 0.032305,
     "end_time": "2020-07-09T10:16:04.849081",
     "exception": false,
     "start_time": "2020-07-09T10:16:04.816776",
     "status": "completed"
    },
    "tags": []
   },
   "outputs": [],
   "source": [
    "#simulation.dataframe.iloc[331456,:]"
   ]
  },
  {
   "cell_type": "code",
   "execution_count": 8,
   "metadata": {
    "execution": {
     "iopub.execute_input": "2020-07-09T10:16:04.883065Z",
     "iopub.status.busy": "2020-07-09T10:16:04.882761Z",
     "iopub.status.idle": "2020-07-09T10:16:04.969454Z",
     "shell.execute_reply": "2020-07-09T10:16:04.971124Z"
    },
    "papermill": {
     "duration": 0.106091,
     "end_time": "2020-07-09T10:16:04.971374",
     "exception": false,
     "start_time": "2020-07-09T10:16:04.865283",
     "status": "completed"
    },
    "tags": []
   },
   "outputs": [],
   "source": [
    "#for ix, obj in enumerate(simulation.dataframe.iloc[331456,:].values):\n",
    "#    print(ix,obj)"
   ]
  },
  {
   "cell_type": "code",
   "execution_count": 9,
   "metadata": {
    "execution": {
     "iopub.execute_input": "2020-07-09T10:16:05.008132Z",
     "iopub.status.busy": "2020-07-09T10:16:05.007609Z",
     "iopub.status.idle": "2020-07-09T10:16:05.073145Z",
     "shell.execute_reply": "2020-07-09T10:16:05.072444Z"
    },
    "papermill": {
     "duration": 0.083943,
     "end_time": "2020-07-09T10:16:05.073250",
     "exception": false,
     "start_time": "2020-07-09T10:16:04.989307",
     "status": "completed"
    },
    "tags": []
   },
   "outputs": [],
   "source": [
    "#simulation.fourier_engineered_dataframe.dct_feat0"
   ]
  },
  {
   "cell_type": "code",
   "execution_count": 10,
   "metadata": {
    "execution": {
     "iopub.execute_input": "2020-07-09T10:16:05.142788Z",
     "iopub.status.busy": "2020-07-09T10:16:05.142459Z",
     "iopub.status.idle": "2020-07-09T10:16:05.152754Z",
     "shell.execute_reply": "2020-07-09T10:16:05.152464Z"
    },
    "papermill": {
     "duration": 0.035144,
     "end_time": "2020-07-09T10:16:05.152809",
     "exception": false,
     "start_time": "2020-07-09T10:16:05.117665",
     "status": "completed"
    },
    "tags": []
   },
   "outputs": [],
   "source": [
    "#simulation.features"
   ]
  },
  {
   "cell_type": "code",
   "execution_count": 11,
   "metadata": {
    "execution": {
     "iopub.execute_input": "2020-07-09T10:16:05.187194Z",
     "iopub.status.busy": "2020-07-09T10:16:05.186888Z",
     "iopub.status.idle": "2020-07-09T10:16:05.284416Z",
     "shell.execute_reply": "2020-07-09T10:16:05.285800Z"
    },
    "papermill": {
     "duration": 0.117018,
     "end_time": "2020-07-09T10:16:05.286112",
     "exception": false,
     "start_time": "2020-07-09T10:16:05.169094",
     "status": "completed"
    },
    "tags": []
   },
   "outputs": [],
   "source": [
    "#simulation.fourier_matrix"
   ]
  },
  {
   "cell_type": "code",
   "execution_count": 12,
   "metadata": {
    "execution": {
     "iopub.execute_input": "2020-07-09T10:16:05.378633Z",
     "iopub.status.busy": "2020-07-09T10:16:05.378138Z",
     "iopub.status.idle": "2020-07-09T10:16:05.395799Z",
     "shell.execute_reply": "2020-07-09T10:16:05.395466Z"
    },
    "papermill": {
     "duration": 0.05275,
     "end_time": "2020-07-09T10:16:05.395851",
     "exception": false,
     "start_time": "2020-07-09T10:16:05.343101",
     "status": "completed"
    },
    "tags": []
   },
   "outputs": [],
   "source": [
    "#1/simulation.n_features*simulation.dataframe.loc[:,simulation.features].sum(axis=1)"
   ]
  },
  {
   "cell_type": "code",
   "execution_count": 13,
   "metadata": {
    "execution": {
     "iopub.execute_input": "2020-07-09T10:16:05.430711Z",
     "iopub.status.busy": "2020-07-09T10:16:05.430226Z",
     "iopub.status.idle": "2020-07-09T10:16:05.513829Z",
     "shell.execute_reply": "2020-07-09T10:16:05.514750Z"
    },
    "papermill": {
     "duration": 0.102677,
     "end_time": "2020-07-09T10:16:05.514922",
     "exception": false,
     "start_time": "2020-07-09T10:16:05.412245",
     "status": "completed"
    },
    "tags": []
   },
   "outputs": [],
   "source": [
    "#df_2 = simulation.fourier_engineered_dataframe[simulation.fourier_engineered_dataframe.phase==2]\n",
    "#df_2.describe()"
   ]
  },
  {
   "cell_type": "code",
   "execution_count": 14,
   "metadata": {
    "execution": {
     "iopub.execute_input": "2020-07-09T10:16:05.586769Z",
     "iopub.status.busy": "2020-07-09T10:16:05.586429Z",
     "iopub.status.idle": "2020-07-09T10:16:05.595871Z",
     "shell.execute_reply": "2020-07-09T10:16:05.595526Z"
    },
    "papermill": {
     "duration": 0.033163,
     "end_time": "2020-07-09T10:16:05.595925",
     "exception": false,
     "start_time": "2020-07-09T10:16:05.562762",
     "status": "completed"
    },
    "tags": []
   },
   "outputs": [],
   "source": [
    "#df_1 = simulation.fourier_engineered_dataframe[simulation.fourier_engineered_dataframe.phase==1]\n",
    "#df_1.describe()"
   ]
  },
  {
   "cell_type": "code",
   "execution_count": 15,
   "metadata": {
    "execution": {
     "iopub.execute_input": "2020-07-09T10:16:05.631161Z",
     "iopub.status.busy": "2020-07-09T10:16:05.630857Z",
     "iopub.status.idle": "2020-07-09T10:16:05.697859Z",
     "shell.execute_reply": "2020-07-09T10:16:05.698487Z"
    },
    "papermill": {
     "duration": 0.085654,
     "end_time": "2020-07-09T10:16:05.698637",
     "exception": false,
     "start_time": "2020-07-09T10:16:05.612983",
     "status": "completed"
    },
    "tags": []
   },
   "outputs": [],
   "source": [
    "#df_0 = simulation.fourier_engineered_dataframe[simulation.fourier_engineered_dataframe.phase==0]\n",
    "#df_0.describe()"
   ]
  },
  {
   "cell_type": "code",
   "execution_count": 16,
   "metadata": {
    "execution": {
     "iopub.execute_input": "2020-07-09T10:16:05.769869Z",
     "iopub.status.busy": "2020-07-09T10:16:05.769559Z",
     "iopub.status.idle": "2020-07-09T10:16:05.779092Z",
     "shell.execute_reply": "2020-07-09T10:16:05.778807Z"
    },
    "papermill": {
     "duration": 0.037153,
     "end_time": "2020-07-09T10:16:05.779146",
     "exception": false,
     "start_time": "2020-07-09T10:16:05.741993",
     "status": "completed"
    },
    "tags": []
   },
   "outputs": [],
   "source": [
    "#plt.figure(figsize=(10,10))\n",
    "#plt.scatter(df_1.fourier_feat0,df_1.fourier_feat2)\n",
    "#plt.scatter(df_0.fourier_feat0,df_0.fourier_feat2,alpha=0.4)"
   ]
  },
  {
   "cell_type": "code",
   "execution_count": 17,
   "metadata": {
    "execution": {
     "iopub.execute_input": "2020-07-09T10:16:05.813737Z",
     "iopub.status.busy": "2020-07-09T10:16:05.813436Z",
     "iopub.status.idle": "2020-07-09T10:16:05.898986Z",
     "shell.execute_reply": "2020-07-09T10:16:05.897776Z"
    },
    "papermill": {
     "duration": 0.103619,
     "end_time": "2020-07-09T10:16:05.899162",
     "exception": false,
     "start_time": "2020-07-09T10:16:05.795543",
     "status": "completed"
    },
    "tags": []
   },
   "outputs": [],
   "source": [
    "#plt.scatter(df_0.fourier_feat0,df_0.fourier_feat2,alpha=0.4)"
   ]
  },
  {
   "cell_type": "code",
   "execution_count": 18,
   "metadata": {
    "execution": {
     "iopub.execute_input": "2020-07-09T10:16:05.973842Z",
     "iopub.status.busy": "2020-07-09T10:16:05.973535Z",
     "iopub.status.idle": "2020-07-09T10:16:05.983332Z",
     "shell.execute_reply": "2020-07-09T10:16:05.983047Z"
    },
    "papermill": {
     "duration": 0.031037,
     "end_time": "2020-07-09T10:16:05.983387",
     "exception": false,
     "start_time": "2020-07-09T10:16:05.952350",
     "status": "completed"
    },
    "tags": []
   },
   "outputs": [],
   "source": [
    "#plt.scatter(df_2.fourier_feat0,df_2.fourier_feat2)"
   ]
  },
  {
   "cell_type": "code",
   "execution_count": 19,
   "metadata": {
    "execution": {
     "iopub.execute_input": "2020-07-09T10:16:06.018286Z",
     "iopub.status.busy": "2020-07-09T10:16:06.017982Z",
     "iopub.status.idle": "2020-07-09T10:16:06.088461Z",
     "shell.execute_reply": "2020-07-09T10:16:06.087755Z"
    },
    "papermill": {
     "duration": 0.088681,
     "end_time": "2020-07-09T10:16:06.088563",
     "exception": false,
     "start_time": "2020-07-09T10:16:05.999882",
     "status": "completed"
    },
    "tags": []
   },
   "outputs": [],
   "source": [
    "#df_1.hist(figsize=(15,15))"
   ]
  },
  {
   "cell_type": "code",
   "execution_count": 20,
   "metadata": {
    "execution": {
     "iopub.execute_input": "2020-07-09T10:16:06.152351Z",
     "iopub.status.busy": "2020-07-09T10:16:06.152048Z",
     "iopub.status.idle": "2020-07-09T10:16:06.163051Z",
     "shell.execute_reply": "2020-07-09T10:16:06.162712Z"
    },
    "papermill": {
     "duration": 0.035141,
     "end_time": "2020-07-09T10:16:06.163105",
     "exception": false,
     "start_time": "2020-07-09T10:16:06.127964",
     "status": "completed"
    },
    "tags": []
   },
   "outputs": [],
   "source": [
    "#df_0.hist(figsize=(15,15))"
   ]
  },
  {
   "cell_type": "markdown",
   "metadata": {
    "papermill": {
     "duration": 0.016476,
     "end_time": "2020-07-09T10:16:06.196069",
     "exception": false,
     "start_time": "2020-07-09T10:16:06.179593",
     "status": "completed"
    },
    "tags": []
   },
   "source": [
    "#### Checking initialization"
   ]
  },
  {
   "cell_type": "code",
   "execution_count": 21,
   "metadata": {
    "execution": {
     "iopub.execute_input": "2020-07-09T10:16:06.231137Z",
     "iopub.status.busy": "2020-07-09T10:16:06.230645Z",
     "iopub.status.idle": "2020-07-09T10:16:06.288845Z",
     "shell.execute_reply": "2020-07-09T10:16:06.288307Z"
    },
    "papermill": {
     "duration": 0.076509,
     "end_time": "2020-07-09T10:16:06.288924",
     "exception": false,
     "start_time": "2020-07-09T10:16:06.212415",
     "status": "completed"
    },
    "tags": []
   },
   "outputs": [
    {
     "name": "stdout",
     "output_type": "stream",
     "text": [
      "n_features:  100\n",
      "n_hamiltonians:  6561\n",
      "n_ts:  2\n",
      "CPU times: user 300 µs, sys: 31 µs, total: 331 µs\n",
      "Wall time: 200 µs\n"
     ]
    }
   ],
   "source": [
    "%%time\n",
    "n_features = simulation.n_features\n",
    "n_hamiltonians = simulation.n_hamiltonians\n",
    "n_ts = simulation.n_ts\n",
    "\n",
    "print(\"n_features: \", n_features)\n",
    "print(\"n_hamiltonians: \", n_hamiltonians)\n",
    "print(\"n_ts: \", n_ts)"
   ]
  },
  {
   "cell_type": "code",
   "execution_count": 22,
   "metadata": {
    "execution": {
     "iopub.execute_input": "2020-07-09T10:16:06.341443Z",
     "iopub.status.busy": "2020-07-09T10:16:06.341096Z",
     "iopub.status.idle": "2020-07-09T10:16:06.523850Z",
     "shell.execute_reply": "2020-07-09T10:16:06.524152Z"
    },
    "papermill": {
     "duration": 0.204341,
     "end_time": "2020-07-09T10:16:06.524217",
     "exception": false,
     "start_time": "2020-07-09T10:16:06.319876",
     "status": "completed"
    },
    "tags": []
   },
   "outputs": [
    {
     "name": "stdout",
     "output_type": "stream",
     "text": [
      "% train:  0.8414875781130925\n",
      "% val:  0.0\n",
      "% test:  0.15851242188690748\n",
      "% train + val + test:  1.0\n",
      "\n",
      "\n",
      "number of train hamiltonians:  5521\n",
      "number of val hamiltonians:  0\n",
      "number of test hamiltonians:  1040\n",
      "total number of hamiltonians:  6561\n",
      "\n",
      "\n",
      "train ids:  [13, 14, 15, 16, 17, 18, 19, 20, 21, 22, 23, 24, 25, 26, 27, 28, 29, 30, 31, 32, 33, 34, 35, 36, 37, 38, 39, 41, 42, 43, 44, 45, 46, 47, 48, 49, 50, 51, 52, 53, 54, 55, 56, 57, 58, 59, 60, 61, 62, 63, 64, 65, 66, 67, 68, 69, 70, 71, 72, 73, 74, 75, 76, 77, 78, 79, 80, 95, 96, 97, 98, 99, 100, 101, 102, 103, 104, 105, 106, 107, 108, 109, 110, 111, 112, 113, 114, 115, 116, 117, 118, 119, 121, 122, 123, 124, 125, 126, 127, 128, 129, 130, 131, 132, 133, 134, 135, 136, 137, 138, 139, 140, 141, 142, 143, 144, 145, 146, 147, 148, 149, 150, 151, 152, 153, 154, 155, 156, 157, 158, 159, 160, 161, 176, 177, 178, 179, 180, 181, 182, 183, 184, 185, 186, 187, 188, 189, 190, 191, 192, 193, 194, 195, 196, 197, 198, 199, 201, 202, 203, 204, 205, 206, 207, 208, 209, 210, 211, 212, 213, 214, 215, 216, 217, 218, 219, 220, 221, 222, 223, 224, 225, 226, 227, 228, 229, 230, 231, 232, 233, 234, 235, 236, 237, 238, 239, 240, 241, 242, 258, 259, 260, 261, 262, 263, 264, 265, 266, 267, 268, 269, 270, 271, 272, 273, 274, 275, 276, 277, 278, 279, 281, 282, 283, 284, 285, 286, 287, 288, 289, 290, 291, 292, 293, 294, 295, 296, 297, 298, 299, 300, 301, 302, 303, 304, 305, 306, 307, 308, 309, 310, 311, 312, 313, 314, 315, 316, 317, 318, 319, 320, 321, 322, 323, 340, 341, 342, 343, 344, 345, 346, 347, 348, 349, 350, 351, 352, 353, 354, 355, 356, 357, 358, 359, 361, 362, 363, 364, 365, 366, 367, 368, 369, 370, 371, 372, 373, 374, 375, 376, 377, 378, 379, 380, 381, 382, 383, 384, 385, 386, 387, 388, 389, 390, 391, 392, 393, 394, 395, 396, 397, 398, 399, 400, 401, 402, 403, 404, 422, 423, 424, 425, 426, 427, 428, 429, 430, 431, 432, 433, 434, 435, 436, 437, 438, 439, 441, 442, 443, 444, 445, 446, 447, 448, 449, 450, 451, 452, 453, 454, 455, 456, 457, 458, 459, 460, 461, 462, 463, 464, 465, 466, 467, 468, 469, 470, 471, 472, 473, 474, 475, 476, 477, 478, 479, 480, 481, 482, 483, 484, 485, 503, 504, 505, 506, 507, 508, 509, 510, 511, 512, 513, 514, 515, 516, 517, 518, 519, 521, 522, 523, 524, 525, 526, 527, 528, 529, 530, 531, 532, 533, 534, 535, 536, 537, 538, 539, 540, 541, 542, 543, 544, 545, 546, 547, 548, 549, 550, 551, 552, 553, 554, 555, 556, 557, 558, 559, 560, 561, 562, 563, 564, 565, 566, 585, 586, 587, 588, 589, 590, 591, 592, 593, 594, 595, 596, 597, 598, 599, 601, 602, 603, 604, 605, 606, 607, 608, 609, 610, 611, 612, 613, 614, 615, 616, 617, 618, 619, 620, 621, 622, 623, 624, 625, 626, 627, 628, 629, 630, 631, 632, 633, 634, 635, 636, 637, 638, 639, 640, 641, 642, 643, 644, 645, 646, 647, 667, 668, 669, 670, 671, 672, 673, 674, 675, 676, 677, 678, 679, 681, 682, 683, 684, 685, 686, 687, 688, 689, 690, 691, 692, 693, 694, 695, 696, 697, 698, 699, 700, 701, 702, 703, 704, 705, 706, 707, 708, 709, 710, 711, 712, 713, 714, 715, 716, 717, 718, 719, 720, 721, 722, 723, 724, 725, 726, 727, 728, 749, 750, 751, 752, 753, 754, 755, 756, 757, 758, 759, 761, 762, 763, 764, 765, 766, 767, 768, 769, 770, 771, 772, 773, 774, 775, 776, 777, 778, 779, 780, 781, 782, 783, 784, 785, 786, 787, 788, 789, 790, 791, 792, 793, 794, 795, 796, 797, 798, 799, 800, 801, 802, 803, 804, 805, 806, 807, 808, 809, 830, 831, 832, 833, 834, 835, 836, 837, 838, 839, 841, 842, 843, 844, 845, 846, 847, 848, 849, 850, 851, 852, 853, 854, 855, 856, 857, 858, 859, 860, 861, 862, 863, 864, 865, 866, 867, 868, 869, 870, 871, 872, 873, 874, 875, 876, 877, 878, 879, 880, 881, 882, 883, 884, 885, 886, 887, 888, 889, 890, 912, 913, 914, 915, 916, 917, 918, 919, 921, 922, 923, 924, 925, 926, 927, 928, 929, 930, 931, 932, 933, 934, 935, 936, 937, 938, 939, 940, 941, 942, 943, 944, 945, 946, 947, 948, 949, 950, 951, 952, 953, 954, 955, 956, 957, 958, 959, 960, 961, 962, 963, 964, 965, 966, 967, 968, 969, 970, 971, 994, 995, 996, 997, 998, 999, 1001, 1002, 1003, 1004, 1005, 1006, 1007, 1008, 1009, 1010, 1011, 1012, 1013, 1014, 1015, 1016, 1017, 1018, 1019, 1020, 1021, 1022, 1023, 1024, 1025, 1026, 1027, 1028, 1029, 1030, 1031, 1032, 1033, 1034, 1035, 1036, 1037, 1038, 1039, 1040, 1041, 1042, 1043, 1044, 1045, 1046, 1047, 1048, 1049, 1050, 1051, 1052, 1076, 1077, 1078, 1079, 1081, 1082, 1083, 1084, 1085, 1086, 1087, 1088, 1089, 1090, 1091, 1092, 1093, 1094, 1095, 1096, 1097, 1098, 1099, 1100, 1101, 1102, 1103, 1104, 1105, 1106, 1107, 1108, 1109, 1110, 1111, 1112, 1113, 1114, 1115, 1116, 1117, 1118, 1119, 1120, 1121, 1122, 1123, 1124, 1125, 1126, 1127, 1128, 1129, 1130, 1131, 1132, 1133, 1134, 1157, 1158, 1159, 1161, 1162, 1163, 1164, 1165, 1166, 1167, 1168, 1169, 1170, 1171, 1172, 1173, 1174, 1175, 1176, 1177, 1178, 1179, 1180, 1181, 1182, 1183, 1184, 1185, 1186, 1187, 1188, 1189, 1190, 1191, 1192, 1193, 1194, 1195, 1196, 1197, 1198, 1199, 1200, 1201, 1202, 1203, 1204, 1205, 1206, 1207, 1208, 1209, 1210, 1211, 1212, 1213, 1214, 1215, 1216, 1239, 1241, 1242, 1243, 1244, 1245, 1246, 1247, 1248, 1249, 1250, 1251, 1252, 1253, 1254, 1255, 1256, 1257, 1258, 1259, 1260, 1261, 1262, 1263, 1264, 1265, 1266, 1267, 1268, 1269, 1270, 1271, 1272, 1273, 1274, 1275, 1276, 1277, 1278, 1279, 1280, 1281, 1282, 1283, 1284, 1285, 1286, 1287, 1288, 1289, 1290, 1291, 1292, 1293, 1294, 1295, 1296, 1297, 1298, 1299, 1321, 1322, 1323, 1324, 1325, 1326, 1327, 1328, 1329, 1330, 1331, 1332, 1333, 1334, 1335, 1336, 1337, 1338, 1339, 1340, 1341, 1342, 1343, 1344, 1345, 1346, 1347, 1348, 1349, 1350, 1351, 1352, 1353, 1354, 1355, 1356, 1357, 1358, 1359, 1360, 1361, 1362, 1363, 1364, 1365, 1366, 1367, 1368, 1369, 1370, 1371, 1372, 1373, 1374, 1375, 1376, 1377, 1378, 1379, 1380, 1381, 1402, 1403, 1404, 1405, 1406, 1407, 1408, 1409, 1410, 1411, 1412, 1413, 1414, 1415, 1416, 1417, 1418, 1419, 1420, 1421, 1422, 1423, 1424, 1425, 1426, 1427, 1428, 1429, 1430, 1431, 1432, 1433, 1434, 1435, 1436, 1437, 1438, 1439, 1440, 1441, 1442, 1443, 1444, 1445, 1446, 1447, 1448, 1449, 1450, 1451, 1452, 1453, 1454, 1455, 1456, 1457, 1458, 1459, 1460, 1461, 1462, 1463, 1464, 1484, 1485, 1486, 1487, 1488, 1489, 1490, 1491, 1492, 1493, 1494, 1495, 1496, 1497, 1498, 1499, 1500, 1501, 1502, 1503, 1504, 1505, 1506, 1507, 1508, 1509, 1510, 1511, 1512, 1513, 1514, 1515, 1516, 1517, 1518, 1519, 1520, 1521, 1522, 1523, 1524, 1525, 1526, 1527, 1528, 1529, 1530, 1531, 1532, 1533, 1534, 1535, 1536, 1537, 1538, 1539, 1540, 1541, 1542, 1543, 1544, 1545, 1546, 1566, 1567, 1568, 1569, 1570, 1571, 1572, 1573, 1574, 1575, 1576, 1577, 1578, 1579, 1580, 1581, 1582, 1583, 1584, 1585, 1586, 1587, 1588, 1589, 1590, 1591, 1592, 1593, 1594, 1595, 1596, 1597, 1598, 1599, 1600, 1601, 1602, 1603, 1604, 1605, 1606, 1607, 1608, 1609, 1610, 1611, 1612, 1613, 1614, 1615, 1616, 1617, 1618, 1619, 1620, 1621, 1622, 1623, 1624, 1625, 1626, 1627, 1628, 1648, 1649, 1650, 1651, 1652, 1653, 1654, 1655, 1656, 1657, 1658, 1659, 1660, 1661, 1662, 1663, 1664, 1665, 1666, 1667, 1668, 1669, 1670, 1671, 1672, 1673, 1674, 1675, 1676, 1677, 1678, 1679, 1680, 1681, 1682, 1683, 1684, 1685, 1686, 1687, 1688, 1689, 1690, 1691, 1692, 1693, 1694, 1695, 1696, 1697, 1698, 1699, 1701, 1702, 1703, 1704, 1705, 1706, 1707, 1708, 1709, 1710, 1711, 1729, 1730, 1731, 1732, 1733, 1734, 1735, 1736, 1737, 1738, 1739, 1740, 1741, 1742, 1743, 1744, 1745, 1746, 1747, 1748, 1749, 1750, 1751, 1752, 1753, 1754, 1755, 1756, 1757, 1758, 1759, 1760, 1761, 1762, 1763, 1764, 1765, 1766, 1767, 1768, 1769, 1770, 1771, 1772, 1773, 1774, 1775, 1776, 1777, 1778, 1779, 1781, 1782, 1783, 1784, 1785, 1786, 1787, 1788, 1789, 1790, 1791, 1792, 1793, 1811, 1812, 1813, 1814, 1815, 1816, 1817, 1818, 1819, 1820, 1821, 1822, 1823, 1824, 1825, 1826, 1827, 1828, 1829, 1830, 1831, 1832, 1833, 1834, 1835, 1836, 1837, 1838, 1839, 1840, 1841, 1842, 1843, 1844, 1845, 1846, 1847, 1848, 1849, 1850, 1851, 1852, 1853, 1854, 1855, 1856, 1857, 1858, 1859, 1861, 1862, 1863, 1864, 1865, 1866, 1867, 1868, 1869, 1870, 1871, 1872, 1873, 1874, 1875, 1876, 1893, 1894, 1895, 1896, 1897, 1898, 1899, 1900, 1901, 1902, 1903, 1904, 1905, 1906, 1907, 1908, 1909, 1910, 1911, 1912, 1913, 1914, 1915, 1916, 1917, 1918, 1919, 1920, 1921, 1922, 1923, 1924, 1925, 1926, 1927, 1928, 1929, 1930, 1931, 1932, 1933, 1934, 1935, 1936, 1937, 1938, 1939, 1941, 1942, 1943, 1944, 1945, 1946, 1947, 1948, 1949, 1950, 1951, 1952, 1953, 1954, 1955, 1956, 1957, 1958, 1975, 1976, 1977, 1978, 1979, 1980, 1981, 1982, 1983, 1984, 1985, 1986, 1987, 1988, 1989, 1990, 1991, 1992, 1993, 1994, 1995, 1996, 1997, 1998, 1999, 2000, 2001, 2002, 2003, 2004, 2005, 2006, 2007, 2008, 2009, 2010, 2011, 2012, 2013, 2014, 2015, 2016, 2017, 2018, 2019, 2021, 2022, 2023, 2024, 2025, 2026, 2027, 2028, 2029, 2030, 2031, 2032, 2033, 2034, 2035, 2036, 2037, 2038, 2039, 2056, 2057, 2058, 2059, 2060, 2061, 2062, 2063, 2064, 2065, 2066, 2067, 2068, 2069, 2070, 2071, 2072, 2073, 2074, 2075, 2076, 2077, 2078, 2079, 2080, 2081, 2082, 2083, 2084, 2085, 2086, 2087, 2088, 2089, 2090, 2091, 2092, 2093, 2094, 2095, 2096, 2097, 2098, 2099, 2101, 2102, 2103, 2104, 2105, 2106, 2107, 2108, 2109, 2110, 2111, 2112, 2113, 2114, 2115, 2116, 2117, 2118, 2119, 2121, 2122, 2123, 2138, 2139, 2140, 2141, 2142, 2143, 2144, 2145, 2146, 2147, 2148, 2149, 2150, 2151, 2152, 2153, 2154, 2155, 2156, 2157, 2158, 2159, 2160, 2161, 2162, 2163, 2164, 2165, 2166, 2167, 2168, 2169, 2170, 2171, 2172, 2173, 2174, 2175, 2176, 2177, 2178, 2179, 2181, 2182, 2183, 2184, 2185, 2186, 2187, 2188, 2189, 2190, 2191, 2192, 2193, 2194, 2195, 2196, 2197, 2198, 2199, 2201, 2202, 2203, 2204, 2205, 2220, 2221, 2222, 2223, 2224, 2225, 2226, 2227, 2228, 2229, 2230, 2231, 2232, 2233, 2234, 2235, 2236, 2237, 2238, 2239, 2240, 2241, 2242, 2243, 2244, 2245, 2246, 2247, 2248, 2249, 2250, 2251, 2252, 2253, 2254, 2255, 2256, 2257, 2258, 2259, 2261, 2262, 2263, 2264, 2265, 2266, 2267, 2268, 2269, 2270, 2271, 2272, 2273, 2274, 2275, 2276, 2277, 2278, 2279, 2281, 2282, 2283, 2284, 2285, 2286, 2287, 2288, 2301, 2302, 2303, 2304, 2305, 2306, 2307, 2308, 2309, 2310, 2311, 2312, 2313, 2314, 2315, 2316, 2317, 2318, 2319, 2320, 2321, 2322, 2323, 2324, 2325, 2326, 2327, 2328, 2329, 2330, 2331, 2332, 2333, 2334, 2335, 2336, 2337, 2338, 2339, 2341, 2342, 2343, 2344, 2345, 2346, 2347, 2348, 2349, 2350, 2351, 2352, 2353, 2354, 2355, 2356, 2357, 2358, 2359, 2361, 2362, 2363, 2364, 2365, 2366, 2367, 2368, 2369, 2370, 2383, 2384, 2385, 2386, 2387, 2388, 2389, 2390, 2391, 2392, 2393, 2394, 2395, 2396, 2397, 2398, 2399, 2400, 2401, 2402, 2403, 2404, 2405, 2406, 2407, 2408, 2409, 2410, 2411, 2412, 2413, 2414, 2415, 2416, 2417, 2418, 2419, 2421, 2422, 2423, 2424, 2425, 2426, 2427, 2428, 2429, 2430, 2431, 2432, 2433, 2434, 2435, 2436, 2437, 2438, 2439, 2441, 2442, 2443, 2444, 2445, 2446, 2447, 2448, 2449, 2450, 2451, 2452, 2453, 2465, 2466, 2467, 2468, 2469, 2470, 2471, 2472, 2473, 2474, 2475, 2476, 2477, 2478, 2479, 2480, 2481, 2482, 2483, 2484, 2485, 2486, 2487, 2488, 2489, 2490, 2491, 2492, 2493, 2494, 2495, 2496, 2497, 2498, 2499, 2501, 2502, 2503, 2504, 2505, 2506, 2507, 2508, 2509, 2510, 2511, 2512, 2513, 2514, 2515, 2516, 2517, 2518, 2519, 2521, 2522, 2523, 2524, 2525, 2526, 2527, 2528, 2529, 2530, 2531, 2532, 2533, 2534, 2535, 2547, 2548, 2549, 2550, 2551, 2552, 2553, 2554, 2555, 2556, 2557, 2558, 2559, 2560, 2561, 2562, 2563, 2564, 2565, 2566, 2567, 2568, 2569, 2570, 2571, 2572, 2573, 2574, 2575, 2576, 2577, 2578, 2579, 2581, 2582, 2583, 2584, 2585, 2586, 2587, 2588, 2589, 2590, 2591, 2592, 2593, 2594, 2595, 2596, 2597, 2598, 2599, 2601, 2602, 2603, 2604, 2605, 2606, 2607, 2608, 2609, 2610, 2611, 2612, 2613, 2614, 2615, 2616, 2617, 2628, 2629, 2630, 2631, 2632, 2633, 2634, 2635, 2636, 2637, 2638, 2639, 2640, 2641, 2642, 2643, 2644, 2645, 2646, 2647, 2648, 2649, 2650, 2651, 2652, 2653, 2654, 2655, 2656, 2657, 2658, 2659, 2661, 2662, 2663, 2664, 2665, 2666, 2667, 2668, 2669, 2670, 2671, 2672, 2673, 2674, 2675, 2676, 2677, 2678, 2679, 2681, 2682, 2683, 2684, 2685, 2686, 2687, 2688, 2689, 2690, 2691, 2692, 2693, 2694, 2695, 2696, 2697, 2698, 2699, 2700, 2710, 2711, 2712, 2713, 2714, 2715, 2716, 2717, 2718, 2719, 2720, 2721, 2722, 2723, 2724, 2725, 2726, 2727, 2728, 2729, 2730, 2731, 2732, 2733, 2734, 2735, 2736, 2737, 2738, 2739, 2741, 2742, 2743, 2744, 2745, 2746, 2747, 2748, 2749, 2750, 2751, 2752, 2753, 2754, 2755, 2756, 2757, 2758, 2759, 2761, 2762, 2763, 2764, 2765, 2766, 2767, 2768, 2769, 2770, 2771, 2772, 2773, 2774, 2775, 2776, 2777, 2778, 2779, 2780, 2781, 2782, 2792, 2793, 2794, 2795, 2796, 2797, 2798, 2799, 2800, 2801, 2802, 2803, 2804, 2805, 2806, 2807, 2808, 2809, 2810, 2811, 2812, 2813, 2814, 2815, 2816, 2817, 2818, 2819, 2821, 2822, 2823, 2824, 2825, 2826, 2827, 2828, 2829, 2830, 2831, 2832, 2833, 2834, 2835, 2836, 2837, 2838, 2839, 2841, 2842, 2843, 2844, 2845, 2846, 2847, 2848, 2849, 2850, 2851, 2852, 2853, 2854, 2855, 2856, 2857, 2858, 2859, 2860, 2861, 2862, 2863, 2864, 2865, 2874, 2875, 2876, 2877, 2878, 2879, 2880, 2881, 2882, 2883, 2884, 2885, 2886, 2887, 2888, 2889, 2890, 2891, 2892, 2893, 2894, 2895, 2896, 2897, 2898, 2899, 2901, 2902, 2903, 2904, 2905, 2906, 2907, 2908, 2909, 2910, 2911, 2912, 2913, 2914, 2915, 2916, 2917, 2918, 2919, 2921, 2922, 2923, 2924, 2925, 2926, 2927, 2928, 2929, 2930, 2931, 2932, 2933, 2934, 2935, 2936, 2937, 2938, 2939, 2940, 2941, 2942, 2943, 2944, 2945, 2946, 2947, 2955, 2956, 2957, 2958, 2959, 2960, 2961, 2962, 2963, 2964, 2965, 2966, 2967, 2968, 2969, 2970, 2971, 2972, 2973, 2974, 2975, 2976, 2977, 2978, 2979, 2981, 2982, 2983, 2984, 2985, 2986, 2987, 2988, 2989, 2990, 2991, 2992, 2993, 2994, 2995, 2996, 2997, 2998, 2999, 3001, 3002, 3003, 3004, 3005, 3006, 3007, 3008, 3009, 3010, 3011, 3012, 3013, 3014, 3015, 3016, 3017, 3018, 3019, 3020, 3021, 3022, 3023, 3024, 3025, 3026, 3027, 3028, 3029, 3037, 3038, 3039, 3040, 3041, 3042, 3043, 3044, 3045, 3046, 3047, 3048, 3049, 3050, 3051, 3052, 3053, 3054, 3055, 3056, 3057, 3058, 3059, 3061, 3062, 3063, 3064, 3065, 3066, 3067, 3068, 3069, 3070, 3071, 3072, 3073, 3074, 3075, 3076, 3077, 3078, 3079, 3081, 3082, 3083, 3084, 3085, 3086, 3087, 3088, 3089, 3090, 3091, 3092, 3093, 3094, 3095, 3096, 3097, 3098, 3099, 3100, 3101, 3102, 3103, 3104, 3105, 3106, 3107, 3108, 3109, 3110, 3111, 3112, 3119, 3120, 3121, 3122, 3123, 3124, 3125, 3126, 3127, 3128, 3129, 3130, 3131, 3132, 3133, 3134, 3135, 3136, 3137, 3138, 3139, 3141, 3142, 3143, 3144, 3145, 3146, 3147, 3148, 3149, 3150, 3151, 3152, 3153, 3154, 3155, 3156, 3157, 3158, 3159, 3161, 3162, 3163, 3164, 3165, 3166, 3167, 3168, 3169, 3170, 3171, 3172, 3173, 3174, 3175, 3176, 3177, 3178, 3179, 3180, 3181, 3182, 3183, 3184, 3185, 3186, 3187, 3188, 3189, 3190, 3191, 3192, 3193, 3194, 3201, 3202, 3203, 3204, 3205, 3206, 3207, 3208, 3209, 3210, 3211, 3212, 3213, 3214, 3215, 3216, 3217, 3218, 3219, 3221, 3222, 3223, 3224, 3225, 3226, 3227, 3228, 3229, 3230, 3231, 3232, 3233, 3234, 3235, 3236, 3237, 3238, 3239, 3241, 3242, 3243, 3244, 3245, 3246, 3247, 3248, 3249, 3250, 3251, 3252, 3253, 3254, 3255, 3256, 3257, 3258, 3259, 3260, 3261, 3262, 3263, 3264, 3265, 3266, 3267, 3268, 3269, 3270, 3271, 3272, 3273, 3274, 3275, 3276, 3277, 3282, 3283, 3284, 3285, 3286, 3287, 3288, 3289, 3290, 3291, 3292, 3293, 3294, 3295, 3296, 3297, 3298, 3299, 3301, 3302, 3303, 3304, 3305, 3306, 3307, 3308, 3309, 3310, 3311, 3312, 3313, 3314, 3315, 3316, 3317, 3318, 3319, 3320, 3321, 3322, 3323, 3324, 3325, 3326, 3327, 3328, 3329, 3330, 3331, 3332, 3333, 3334, 3335, 3336, 3337, 3338, 3339, 3340, 3341, 3342, 3343, 3344, 3345, 3346, 3347, 3348, 3349, 3350, 3351, 3352, 3353, 3354, 3355, 3356, 3357, 3358, 3359, 3364, 3365, 3366, 3367, 3368, 3369, 3370, 3371, 3372, 3373, 3374, 3375, 3376, 3377, 3378, 3379, 3381, 3382, 3383, 3384, 3385, 3386, 3387, 3388, 3389, 3390, 3391, 3392, 3393, 3394, 3395, 3396, 3397, 3398, 3399, 3400, 3401, 3402, 3403, 3404, 3405, 3406, 3407, 3408, 3409, 3410, 3411, 3412, 3413, 3414, 3415, 3416, 3417, 3418, 3419, 3420, 3421, 3422, 3423, 3424, 3425, 3426, 3427, 3428, 3429, 3430, 3431, 3432, 3433, 3434, 3435, 3436, 3437, 3438, 3439, 3440, 3441, 3442, 3446, 3447, 3448, 3449, 3450, 3451, 3452, 3453, 3454, 3455, 3456, 3457, 3458, 3459, 3461, 3462, 3463, 3464, 3465, 3466, 3467, 3468, 3469, 3470, 3471, 3472, 3473, 3474, 3475, 3476, 3477, 3478, 3479, 3480, 3481, 3482, 3483, 3484, 3485, 3486, 3487, 3488, 3489, 3490, 3491, 3492, 3493, 3494, 3495, 3496, 3497, 3498, 3499, 3500, 3501, 3502, 3503, 3504, 3505, 3506, 3507, 3508, 3509, 3510, 3511, 3512, 3513, 3514, 3515, 3516, 3517, 3518, 3519, 3520, 3521, 3522, 3523, 3524, 3527, 3528, 3529, 3530, 3531, 3532, 3533, 3534, 3535, 3536, 3537, 3538, 3539, 3541, 3542, 3543, 3544, 3545, 3546, 3547, 3548, 3549, 3550, 3551, 3552, 3553, 3554, 3555, 3556, 3557, 3558, 3559, 3560, 3561, 3562, 3563, 3564, 3565, 3566, 3567, 3568, 3569, 3570, 3571, 3572, 3573, 3574, 3575, 3576, 3577, 3578, 3579, 3580, 3581, 3582, 3583, 3584, 3585, 3586, 3587, 3588, 3589, 3590, 3591, 3592, 3593, 3594, 3595, 3596, 3597, 3598, 3599, 3600, 3601, 3602, 3603, 3604, 3605, 3606, 3609, 3610, 3611, 3612, 3613, 3614, 3615, 3616, 3617, 3618, 3619, 3621, 3622, 3623, 3624, 3625, 3626, 3627, 3628, 3629, 3630, 3631, 3632, 3633, 3634, 3635, 3636, 3637, 3638, 3639, 3640, 3641, 3642, 3643, 3644, 3645, 3646, 3647, 3648, 3649, 3650, 3651, 3652, 3653, 3654, 3655, 3656, 3657, 3658, 3659, 3660, 3661, 3662, 3663, 3664, 3665, 3666, 3667, 3668, 3669, 3670, 3671, 3672, 3673, 3674, 3675, 3676, 3677, 3678, 3679, 3680, 3681, 3682, 3683, 3684, 3685, 3686, 3687, 3688, 3689, 3691, 3692, 3693, 3694, 3695, 3696, 3697, 3698, 3699, 3701, 3702, 3703, 3704, 3705, 3706, 3707, 3708, 3709, 3710, 3711, 3712, 3713, 3714, 3715, 3716, 3717, 3718, 3719, 3720, 3721, 3722, 3723, 3724, 3725, 3726, 3727, 3728, 3729, 3730, 3731, 3732, 3733, 3734, 3735, 3736, 3737, 3738, 3739, 3740, 3741, 3742, 3743, 3744, 3745, 3746, 3747, 3748, 3749, 3750, 3751, 3752, 3753, 3754, 3755, 3756, 3757, 3758, 3759, 3760, 3761, 3762, 3763, 3764, 3765, 3766, 3767, 3768, 3769, 3770, 3771, 3773, 3774, 3775, 3776, 3777, 3778, 3779, 3781, 3782, 3783, 3784, 3785, 3786, 3787, 3788, 3789, 3790, 3791, 3792, 3793, 3794, 3795, 3796, 3797, 3798, 3799, 3800, 3801, 3802, 3803, 3804, 3805, 3806, 3807, 3808, 3809, 3810, 3811, 3812, 3813, 3814, 3815, 3816, 3817, 3818, 3819, 3820, 3821, 3822, 3823, 3824, 3825, 3826, 3827, 3828, 3829, 3830, 3831, 3832, 3833, 3834, 3835, 3836, 3837, 3838, 3839, 3840, 3841, 3842, 3843, 3844, 3845, 3846, 3847, 3848, 3849, 3850, 3851, 3852, 3853, 3855, 3856, 3857, 3858, 3859, 3861, 3862, 3863, 3864, 3865, 3866, 3867, 3868, 3869, 3870, 3871, 3872, 3873, 3874, 3875, 3876, 3877, 3878, 3879, 3880, 3881, 3882, 3883, 3884, 3885, 3886, 3887, 3888, 3889, 3890, 3891, 3892, 3893, 3894, 3895, 3896, 3897, 3898, 3899, 3900, 3901, 3902, 3903, 3904, 3905, 3906, 3907, 3908, 3909, 3910, 3911, 3912, 3913, 3914, 3915, 3916, 3917, 3918, 3919, 3920, 3921, 3922, 3923, 3924, 3925, 3926, 3927, 3928, 3929, 3930, 3931, 3932, 3933, 3934, 3935, 3937, 3938, 3939, 3941, 3942, 3943, 3944, 3945, 3946, 3947, 3948, 3949, 3950, 3951, 3952, 3953, 3954, 3955, 3956, 3957, 3958, 3959, 3960, 3961, 3962, 3963, 3964, 3965, 3966, 3967, 3968, 3969, 3970, 3971, 3972, 3973, 3974, 3975, 3976, 3977, 3978, 3979, 3980, 3981, 3982, 3983, 3984, 3985, 3986, 3987, 3988, 3989, 3990, 3991, 3992, 3993, 3994, 3995, 3996, 3997, 3998, 3999, 4000, 4001, 4002, 4003, 4004, 4005, 4006, 4007, 4008, 4009, 4010, 4011, 4012, 4013, 4014, 4015, 4016, 4017, 4021, 4022, 4023, 4024, 4025, 4026, 4027, 4028, 4029, 4030, 4031, 4032, 4033, 4034, 4035, 4036, 4037, 4038, 4039, 4040, 4041, 4042, 4043, 4044, 4045, 4046, 4047, 4048, 4049, 4050, 4051, 4052, 4053, 4054, 4055, 4056, 4057, 4058, 4059, 4060, 4061, 4062, 4063, 4064, 4065, 4066, 4067, 4068, 4069, 4070, 4071, 4072, 4073, 4074, 4075, 4076, 4077, 4078, 4079, 4080, 4081, 4082, 4083, 4084, 4085, 4086, 4087, 4088, 4089, 4090, 4091, 4092, 4093, 4094, 4095, 4096, 4097, 4098, 4102, 4103, 4104, 4105, 4106, 4107, 4108, 4109, 4110, 4111, 4112, 4113, 4114, 4115, 4116, 4117, 4118, 4119, 4120, 4121, 4122, 4123, 4124, 4125, 4126, 4127, 4128, 4129, 4130, 4131, 4132, 4133, 4134, 4135, 4136, 4137, 4138, 4139, 4140, 4141, 4142, 4143, 4144, 4145, 4146, 4147, 4148, 4149, 4150, 4151, 4152, 4153, 4154, 4155, 4156, 4157, 4158, 4159, 4160, 4161, 4162, 4163, 4164, 4165, 4166, 4167, 4168, 4169, 4170, 4171, 4172, 4173, 4174, 4175, 4176, 4177, 4178, 4179, 4184, 4185, 4186, 4187, 4188, 4189, 4190, 4191, 4192, 4193, 4194, 4195, 4196, 4197, 4198, 4199, 4200, 4201, 4202, 4203, 4204, 4205, 4206, 4207, 4208, 4209, 4210, 4211, 4212, 4213, 4214, 4215, 4216, 4217, 4218, 4219, 4220, 4221, 4222, 4223, 4224, 4225, 4226, 4227, 4228, 4229, 4230, 4231, 4232, 4233, 4234, 4235, 4236, 4237, 4238, 4239, 4240, 4241, 4242, 4243, 4244, 4245, 4246, 4247, 4248, 4249, 4250, 4251, 4252, 4253, 4254, 4255, 4256, 4257, 4258, 4259, 4261, 4262, 4267, 4268, 4269, 4270, 4271, 4272, 4273, 4274, 4275, 4276, 4277, 4278, 4279, 4280, 4281, 4282, 4283, 4284, 4285, 4286, 4287, 4288, 4289, 4290, 4291, 4292, 4293, 4294, 4295, 4296, 4297, 4298, 4299, 4300, 4301, 4302, 4303, 4304, 4305, 4306, 4307, 4308, 4309, 4310, 4311, 4312, 4313, 4314, 4315, 4316, 4317, 4318, 4319, 4320, 4321, 4322, 4323, 4324, 4325, 4326, 4327, 4328, 4329, 4330, 4331, 4332, 4333, 4334, 4335, 4336, 4337, 4338, 4339, 4341, 4342, 4343, 4344, 4349, 4350, 4351, 4352, 4353, 4354, 4355, 4356, 4357, 4358, 4359, 4360, 4361, 4362, 4363, 4364, 4365, 4366, 4367, 4368, 4369, 4370, 4371, 4372, 4373, 4374, 4375, 4376, 4377, 4378, 4379, 4380, 4381, 4382, 4383, 4384, 4385, 4386, 4387, 4388, 4389, 4390, 4391, 4392, 4393, 4394, 4395, 4396, 4397, 4398, 4399, 4400, 4401, 4402, 4403, 4404, 4405, 4406, 4407, 4408, 4409, 4410, 4411, 4412, 4413, 4414, 4415, 4416, 4417, 4418, 4419, 4421, 4422, 4423, 4424, 4425, 4426, 4432, 4433, 4434, 4435, 4436, 4437, 4438, 4439, 4440, 4441, 4442, 4443, 4444, 4445, 4446, 4447, 4448, 4449, 4450, 4451, 4452, 4453, 4454, 4455, 4456, 4457, 4458, 4459, 4460, 4461, 4462, 4463, 4464, 4465, 4466, 4467, 4468, 4469, 4470, 4471, 4472, 4473, 4474, 4475, 4476, 4477, 4478, 4479, 4480, 4481, 4482, 4483, 4484, 4485, 4486, 4487, 4488, 4489, 4490, 4491, 4492, 4493, 4494, 4495, 4496, 4497, 4498, 4499, 4501, 4502, 4503, 4504, 4505, 4506, 4507, 4514, 4515, 4516, 4517, 4518, 4519, 4520, 4521, 4522, 4523, 4524, 4525, 4526, 4527, 4528, 4529, 4530, 4531, 4532, 4533, 4534, 4535, 4536, 4537, 4538, 4539, 4540, 4541, 4542, 4543, 4544, 4545, 4546, 4547, 4548, 4549, 4550, 4551, 4552, 4553, 4554, 4555, 4556, 4557, 4558, 4559, 4560, 4561, 4562, 4563, 4564, 4565, 4566, 4567, 4568, 4569, 4570, 4571, 4572, 4573, 4574, 4575, 4576, 4577, 4578, 4579, 4581, 4582, 4583, 4584, 4585, 4586, 4587, 4588, 4589, 4596, 4597, 4598, 4599, 4600, 4601, 4602, 4603, 4604, 4605, 4606, 4607, 4608, 4609, 4610, 4611, 4612, 4613, 4614, 4615, 4616, 4617, 4618, 4619, 4620, 4621, 4622, 4623, 4624, 4625, 4626, 4627, 4628, 4629, 4630, 4631, 4632, 4633, 4634, 4635, 4636, 4637, 4638, 4639, 4640, 4641, 4642, 4643, 4644, 4645, 4646, 4647, 4648, 4649, 4650, 4651, 4652, 4653, 4654, 4655, 4656, 4657, 4658, 4659, 4661, 4662, 4663, 4664, 4665, 4666, 4667, 4668, 4669, 4670, 4671, 4679, 4680, 4681, 4682, 4683, 4684, 4685, 4686, 4687, 4688, 4689, 4690, 4691, 4692, 4693, 4694, 4695, 4696, 4697, 4698, 4699, 4700, 4701, 4702, 4703, 4704, 4705, 4706, 4707, 4708, 4709, 4710, 4711, 4712, 4713, 4714, 4715, 4716, 4717, 4718, 4719, 4720, 4721, 4722, 4723, 4724, 4725, 4726, 4727, 4728, 4729, 4730, 4731, 4732, 4733, 4734, 4735, 4736, 4737, 4738, 4739, 4741, 4742, 4743, 4744, 4745, 4746, 4747, 4748, 4749, 4750, 4751, 4752, 4761, 4762, 4763, 4764, 4765, 4766, 4767, 4768, 4769, 4770, 4771, 4772, 4773, 4774, 4775, 4776, 4777, 4778, 4779, 4780, 4781, 4782, 4783, 4784, 4785, 4786, 4787, 4788, 4789, 4790, 4791, 4792, 4793, 4794, 4795, 4796, 4797, 4798, 4799, 4800, 4801, 4802, 4803, 4804, 4805, 4806, 4807, 4808, 4809, 4810, 4811, 4812, 4813, 4814, 4815, 4816, 4817, 4818, 4819, 4821, 4822, 4823, 4824, 4825, 4826, 4827, 4828, 4829, 4830, 4831, 4832, 4833, 4834, 4844, 4845, 4846, 4847, 4848, 4849, 4850, 4851, 4852, 4853, 4854, 4855, 4856, 4857, 4858, 4859, 4860, 4861, 4862, 4863, 4864, 4865, 4866, 4867, 4868, 4869, 4870, 4871, 4872, 4873, 4874, 4875, 4876, 4877, 4878, 4879, 4880, 4881, 4882, 4883, 4884, 4885, 4886, 4887, 4888, 4889, 4890, 4891, 4892, 4893, 4894, 4895, 4896, 4897, 4898, 4899, 4901, 4902, 4903, 4904, 4905, 4906, 4907, 4908, 4909, 4910, 4911, 4912, 4913, 4914, 4915, 4916, 4926, 4927, 4928, 4929, 4930, 4931, 4932, 4933, 4934, 4935, 4936, 4937, 4938, 4939, 4940, 4941, 4942, 4943, 4944, 4945, 4946, 4947, 4948, 4949, 4950, 4951, 4952, 4953, 4954, 4955, 4956, 4957, 4958, 4959, 4960, 4961, 4962, 4963, 4964, 4965, 4966, 4967, 4968, 4969, 4970, 4971, 4972, 4973, 4974, 4975, 4976, 4977, 4978, 4979, 4981, 4982, 4983, 4984, 4985, 4986, 4987, 4988, 4989, 4990, 4991, 4992, 4993, 4994, 4995, 4996, 4997, 4998, 5008, 5009, 5010, 5011, 5012, 5013, 5014, 5015, 5016, 5017, 5018, 5019, 5020, 5021, 5022, 5023, 5024, 5025, 5026, 5027, 5028, 5029, 5030, 5031, 5032, 5033, 5034, 5035, 5036, 5037, 5038, 5039, 5040, 5041, 5042, 5043, 5044, 5045, 5046, 5047, 5048, 5049, 5050, 5051, 5052, 5053, 5054, 5055, 5056, 5057, 5058, 5059, 5061, 5062, 5063, 5064, 5065, 5066, 5067, 5068, 5069, 5070, 5071, 5072, 5073, 5074, 5075, 5076, 5077, 5078, 5079, 5091, 5092, 5093, 5094, 5095, 5096, 5097, 5098, 5099, 5100, 5101, 5102, 5103, 5104, 5105, 5106, 5107, 5108, 5109, 5110, 5111, 5112, 5113, 5114, 5115, 5116, 5117, 5118, 5119, 5120, 5121, 5122, 5123, 5124, 5125, 5126, 5127, 5128, 5129, 5130, 5131, 5132, 5133, 5134, 5135, 5136, 5137, 5138, 5139, 5141, 5142, 5143, 5144, 5145, 5146, 5147, 5148, 5149, 5150, 5151, 5152, 5153, 5154, 5155, 5156, 5157, 5158, 5159, 5160, 5161, 5173, 5174, 5175, 5176, 5177, 5178, 5179, 5180, 5181, 5182, 5183, 5184, 5185, 5186, 5187, 5188, 5189, 5190, 5191, 5192, 5193, 5194, 5195, 5196, 5197, 5198, 5199, 5200, 5201, 5202, 5203, 5204, 5205, 5206, 5207, 5208, 5209, 5210, 5211, 5212, 5213, 5214, 5215, 5216, 5217, 5218, 5219, 5221, 5222, 5223, 5224, 5225, 5226, 5227, 5228, 5229, 5230, 5231, 5232, 5233, 5234, 5235, 5236, 5237, 5238, 5239, 5240, 5241, 5242, 5243, 5256, 5257, 5258, 5259, 5260, 5261, 5262, 5263, 5264, 5265, 5266, 5267, 5268, 5269, 5270, 5271, 5272, 5273, 5274, 5275, 5276, 5277, 5278, 5279, 5280, 5281, 5282, 5283, 5284, 5285, 5286, 5287, 5288, 5289, 5290, 5291, 5292, 5293, 5294, 5295, 5296, 5297, 5298, 5299, 5301, 5302, 5303, 5304, 5305, 5306, 5307, 5308, 5309, 5310, 5311, 5312, 5313, 5314, 5315, 5316, 5317, 5318, 5319, 5320, 5321, 5322, 5323, 5324, 5325, 5338, 5339, 5340, 5341, 5342, 5343, 5344, 5345, 5346, 5347, 5348, 5349, 5350, 5351, 5352, 5353, 5354, 5355, 5356, 5357, 5358, 5359, 5360, 5361, 5362, 5363, 5364, 5365, 5366, 5367, 5368, 5369, 5370, 5371, 5372, 5373, 5374, 5375, 5376, 5377, 5378, 5379, 5381, 5382, 5383, 5384, 5385, 5386, 5387, 5388, 5389, 5390, 5391, 5392, 5393, 5394, 5395, 5396, 5397, 5398, 5399, 5400, 5401, 5402, 5403, 5404, 5405, 5406, 5421, 5422, 5423, 5424, 5425, 5426, 5427, 5428, 5429, 5430, 5431, 5432, 5433, 5434, 5435, 5436, 5437, 5438, 5439, 5440, 5441, 5442, 5443, 5444, 5445, 5446, 5447, 5448, 5449, 5450, 5451, 5452, 5453, 5454, 5455, 5456, 5457, 5458, 5459, 5461, 5462, 5463, 5464, 5465, 5466, 5467, 5468, 5469, 5470, 5471, 5472, 5473, 5474, 5475, 5476, 5477, 5478, 5479, 5480, 5481, 5482, 5483, 5484, 5485, 5486, 5487, 5488, 5503, 5504, 5505, 5506, 5507, 5508, 5509, 5510, 5511, 5512, 5513, 5514, 5515, 5516, 5517, 5518, 5519, 5520, 5521, 5522, 5523, 5524, 5525, 5526, 5527, 5528, 5529, 5530, 5531, 5532, 5533, 5534, 5535, 5536, 5537, 5538, 5539, 5541, 5542, 5543, 5544, 5545, 5546, 5547, 5548, 5549, 5550, 5551, 5552, 5553, 5554, 5555, 5556, 5557, 5558, 5559, 5560, 5561, 5562, 5563, 5564, 5565, 5566, 5567, 5568, 5569, 5570, 5585, 5586, 5587, 5588, 5589, 5590, 5591, 5592, 5593, 5594, 5595, 5596, 5597, 5598, 5599, 5600, 5601, 5602, 5603, 5604, 5605, 5606, 5607, 5608, 5609, 5610, 5611, 5612, 5613, 5614, 5615, 5616, 5617, 5618, 5619, 5621, 5622, 5623, 5624, 5625, 5626, 5627, 5628, 5629, 5630, 5631, 5632, 5633, 5634, 5635, 5636, 5637, 5638, 5639, 5640, 5641, 5642, 5643, 5644, 5645, 5646, 5647, 5648, 5649, 5650, 5651, 5652, 5668, 5669, 5670, 5671, 5672, 5673, 5674, 5675, 5676, 5677, 5678, 5679, 5680, 5681, 5682, 5683, 5684, 5685, 5686, 5687, 5688, 5689, 5690, 5691, 5692, 5693, 5694, 5695, 5696, 5697, 5698, 5699, 5701, 5702, 5703, 5704, 5705, 5706, 5707, 5708, 5709, 5710, 5711, 5712, 5713, 5714, 5715, 5716, 5717, 5718, 5719, 5720, 5721, 5722, 5723, 5724, 5725, 5726, 5727, 5728, 5729, 5730, 5731, 5732, 5733, 5750, 5751, 5752, 5753, 5754, 5755, 5756, 5757, 5758, 5759, 5760, 5761, 5762, 5763, 5764, 5765, 5766, 5767, 5768, 5769, 5770, 5771, 5772, 5773, 5774, 5775, 5776, 5777, 5778, 5779, 5781, 5782, 5783, 5784, 5785, 5786, 5787, 5788, 5789, 5790, 5791, 5792, 5793, 5794, 5795, 5796, 5797, 5798, 5799, 5800, 5801, 5802, 5803, 5804, 5805, 5806, 5807, 5808, 5809, 5810, 5811, 5812, 5813, 5814, 5815, 5832, 5833, 5834, 5835, 5836, 5837, 5838, 5839, 5840, 5841, 5842, 5843, 5844, 5845, 5846, 5847, 5848, 5849, 5850, 5851, 5852, 5853, 5854, 5855, 5856, 5857, 5858, 5859, 5861, 5862, 5863, 5864, 5865, 5866, 5867, 5868, 5869, 5870, 5871, 5872, 5873, 5874, 5875, 5876, 5877, 5878, 5879, 5880, 5881, 5882, 5883, 5884, 5885, 5886, 5887, 5888, 5889, 5890, 5891, 5892, 5893, 5894, 5895, 5896, 5897, 5913, 5914, 5915, 5916, 5917, 5918, 5919, 5920, 5921, 5922, 5923, 5924, 5925, 5926, 5927, 5928, 5929, 5930, 5931, 5932, 5933, 5934, 5935, 5936, 5937, 5938, 5939, 5941, 5942, 5943, 5944, 5945, 5946, 5947, 5948, 5949, 5950, 5951, 5952, 5953, 5954, 5955, 5956, 5957, 5958, 5959, 5960, 5961, 5962, 5963, 5964, 5965, 5966, 5967, 5968, 5969, 5970, 5971, 5972, 5973, 5974, 5975, 5976, 5977, 5978, 5994, 5995, 5996, 5997, 5998, 5999, 6000, 6001, 6002, 6003, 6004, 6005, 6006, 6007, 6008, 6009, 6010, 6011, 6012, 6013, 6014, 6015, 6016, 6017, 6018, 6019, 6021, 6022, 6023, 6024, 6025, 6026, 6027, 6028, 6029, 6030, 6031, 6032, 6033, 6034, 6035, 6036, 6037, 6038, 6039, 6040, 6041, 6042, 6043, 6044, 6045, 6046, 6047, 6048, 6049, 6050, 6051, 6052, 6053, 6054, 6055, 6056, 6057, 6058, 6059, 6060, 6075, 6076, 6077, 6078, 6079, 6080, 6081, 6082, 6083, 6084, 6085, 6086, 6087, 6088, 6089, 6090, 6091, 6092, 6093, 6094, 6095, 6096, 6097, 6098, 6099, 6101, 6102, 6103, 6104, 6105, 6106, 6107, 6108, 6109, 6110, 6111, 6112, 6113, 6114, 6115, 6116, 6117, 6118, 6119, 6120, 6121, 6122, 6123, 6124, 6125, 6126, 6127, 6128, 6129, 6130, 6131, 6132, 6133, 6134, 6135, 6136, 6137, 6138, 6139, 6140, 6141, 6142, 6156, 6157, 6158, 6159, 6160, 6161, 6162, 6163, 6164, 6165, 6166, 6167, 6168, 6169, 6170, 6171, 6172, 6173, 6174, 6175, 6176, 6177, 6178, 6179, 6181, 6182, 6183, 6184, 6185, 6186, 6187, 6188, 6189, 6190, 6191, 6192, 6193, 6194, 6195, 6196, 6197, 6198, 6199, 6200, 6201, 6202, 6203, 6204, 6205, 6206, 6207, 6208, 6209, 6210, 6211, 6212, 6213, 6214, 6215, 6216, 6217, 6218, 6219, 6220, 6221, 6222, 6223, 6224, 6237, 6238, 6239, 6240, 6241, 6242, 6243, 6244, 6245, 6246, 6247, 6248, 6249, 6250, 6251, 6252, 6253, 6254, 6255, 6256, 6257, 6258, 6259, 6261, 6262, 6263, 6264, 6265, 6266, 6267, 6268, 6269, 6270, 6271, 6272, 6273, 6274, 6275, 6276, 6277, 6278, 6279, 6280, 6281, 6282, 6283, 6284, 6285, 6286, 6287, 6288, 6289, 6290, 6291, 6292, 6293, 6294, 6295, 6296, 6297, 6298, 6299, 6300, 6301, 6302, 6303, 6304, 6305, 6318, 6319, 6320, 6321, 6322, 6323, 6324, 6325, 6326, 6327, 6328, 6329, 6330, 6331, 6332, 6333, 6334, 6335, 6336, 6337, 6338, 6339, 6341, 6342, 6343, 6344, 6345, 6346, 6347, 6348, 6349, 6350, 6351, 6352, 6353, 6354, 6355, 6356, 6357, 6358, 6359, 6360, 6361, 6362, 6363, 6364, 6365, 6366, 6367, 6368, 6369, 6370, 6371, 6372, 6373, 6374, 6375, 6376, 6377, 6378, 6379, 6380, 6381, 6382, 6383, 6384, 6385, 6386, 6387, 6399, 6400, 6401, 6402, 6403, 6404, 6405, 6406, 6407, 6408, 6409, 6410, 6411, 6412, 6413, 6414, 6415, 6416, 6417, 6418, 6419, 6421, 6422, 6423, 6424, 6425, 6426, 6427, 6428, 6429, 6430, 6431, 6432, 6433, 6434, 6435, 6436, 6437, 6438, 6439, 6440, 6441, 6442, 6443, 6444, 6445, 6446, 6447, 6448, 6449, 6450, 6451, 6452, 6453, 6454, 6455, 6456, 6457, 6458, 6459, 6460, 6461, 6462, 6463, 6464, 6465, 6466, 6467, 6468, 6469, 6480, 6481, 6482, 6483, 6484, 6485, 6486, 6487, 6488, 6489, 6490, 6491, 6492, 6493, 6494, 6495, 6496, 6497, 6498, 6499, 6501, 6502, 6503, 6504, 6505, 6506, 6507, 6508, 6509, 6510, 6511, 6512, 6513, 6514, 6515, 6516, 6517, 6518, 6519, 6520, 6521, 6522, 6523, 6524, 6525, 6526, 6527, 6528, 6529, 6530, 6531, 6532, 6533, 6534, 6535, 6536, 6537, 6538, 6539, 6540, 6541, 6542, 6543, 6544, 6545, 6546, 6547, 6548, 6549, 6550, 6551]\n",
      "val ids:  []\n",
      "test ids:  [0, 1, 2, 3, 4, 5, 6, 7, 8, 9, 10, 11, 12, 40, 81, 82, 83, 84, 85, 86, 87, 88, 89, 90, 91, 92, 93, 94, 120, 162, 163, 164, 165, 166, 167, 168, 169, 170, 171, 172, 173, 174, 175, 200, 243, 244, 245, 246, 247, 248, 249, 250, 251, 252, 253, 254, 255, 256, 257, 280, 324, 325, 326, 327, 328, 329, 330, 331, 332, 333, 334, 335, 336, 337, 338, 339, 360, 405, 406, 407, 408, 409, 410, 411, 412, 413, 414, 415, 416, 417, 418, 419, 420, 421, 440, 486, 487, 488, 489, 490, 491, 492, 493, 494, 495, 496, 497, 498, 499, 500, 501, 502, 520, 567, 568, 569, 570, 571, 572, 573, 574, 575, 576, 577, 578, 579, 580, 581, 582, 583, 584, 600, 648, 649, 650, 651, 652, 653, 654, 655, 656, 657, 658, 659, 660, 661, 662, 663, 664, 665, 666, 680, 729, 730, 731, 732, 733, 734, 735, 736, 737, 738, 739, 740, 741, 742, 743, 744, 745, 746, 747, 748, 760, 810, 811, 812, 813, 814, 815, 816, 817, 818, 819, 820, 821, 822, 823, 824, 825, 826, 827, 828, 829, 840, 891, 892, 893, 894, 895, 896, 897, 898, 899, 900, 901, 902, 903, 904, 905, 906, 907, 908, 909, 910, 911, 920, 972, 973, 974, 975, 976, 977, 978, 979, 980, 981, 982, 983, 984, 985, 986, 987, 988, 989, 990, 991, 992, 993, 1000, 1053, 1054, 1055, 1056, 1057, 1058, 1059, 1060, 1061, 1062, 1063, 1064, 1065, 1066, 1067, 1068, 1069, 1070, 1071, 1072, 1073, 1074, 1075, 1080, 1135, 1136, 1137, 1138, 1139, 1140, 1141, 1142, 1143, 1144, 1145, 1146, 1147, 1148, 1149, 1150, 1151, 1152, 1153, 1154, 1155, 1156, 1160, 1217, 1218, 1219, 1220, 1221, 1222, 1223, 1224, 1225, 1226, 1227, 1228, 1229, 1230, 1231, 1232, 1233, 1234, 1235, 1236, 1237, 1238, 1240, 1300, 1301, 1302, 1303, 1304, 1305, 1306, 1307, 1308, 1309, 1310, 1311, 1312, 1313, 1314, 1315, 1316, 1317, 1318, 1319, 1320, 1382, 1383, 1384, 1385, 1386, 1387, 1388, 1389, 1390, 1391, 1392, 1393, 1394, 1395, 1396, 1397, 1398, 1399, 1400, 1401, 1465, 1466, 1467, 1468, 1469, 1470, 1471, 1472, 1473, 1474, 1475, 1476, 1477, 1478, 1479, 1480, 1481, 1482, 1483, 1547, 1548, 1549, 1550, 1551, 1552, 1553, 1554, 1555, 1556, 1557, 1558, 1559, 1560, 1561, 1562, 1563, 1564, 1565, 1629, 1630, 1631, 1632, 1633, 1634, 1635, 1636, 1637, 1638, 1639, 1640, 1641, 1642, 1643, 1644, 1645, 1646, 1647, 1700, 1712, 1713, 1714, 1715, 1716, 1717, 1718, 1719, 1720, 1721, 1722, 1723, 1724, 1725, 1726, 1727, 1728, 1780, 1794, 1795, 1796, 1797, 1798, 1799, 1800, 1801, 1802, 1803, 1804, 1805, 1806, 1807, 1808, 1809, 1810, 1860, 1877, 1878, 1879, 1880, 1881, 1882, 1883, 1884, 1885, 1886, 1887, 1888, 1889, 1890, 1891, 1892, 1940, 1959, 1960, 1961, 1962, 1963, 1964, 1965, 1966, 1967, 1968, 1969, 1970, 1971, 1972, 1973, 1974, 2020, 2040, 2041, 2042, 2043, 2044, 2045, 2046, 2047, 2048, 2049, 2050, 2051, 2052, 2053, 2054, 2055, 2100, 2120, 2124, 2125, 2126, 2127, 2128, 2129, 2130, 2131, 2132, 2133, 2134, 2135, 2136, 2137, 2180, 2200, 2206, 2207, 2208, 2209, 2210, 2211, 2212, 2213, 2214, 2215, 2216, 2217, 2218, 2219, 2260, 2280, 2289, 2290, 2291, 2292, 2293, 2294, 2295, 2296, 2297, 2298, 2299, 2300, 2340, 2360, 2371, 2372, 2373, 2374, 2375, 2376, 2377, 2378, 2379, 2380, 2381, 2382, 2420, 2440, 2454, 2455, 2456, 2457, 2458, 2459, 2460, 2461, 2462, 2463, 2464, 2500, 2520, 2536, 2537, 2538, 2539, 2540, 2541, 2542, 2543, 2544, 2545, 2546, 2580, 2600, 2618, 2619, 2620, 2621, 2622, 2623, 2624, 2625, 2626, 2627, 2660, 2680, 2701, 2702, 2703, 2704, 2705, 2706, 2707, 2708, 2709, 2740, 2760, 2783, 2784, 2785, 2786, 2787, 2788, 2789, 2790, 2791, 2820, 2840, 2866, 2867, 2868, 2869, 2870, 2871, 2872, 2873, 2900, 2920, 2948, 2949, 2950, 2951, 2952, 2953, 2954, 2980, 3000, 3030, 3031, 3032, 3033, 3034, 3035, 3036, 3060, 3080, 3113, 3114, 3115, 3116, 3117, 3118, 3140, 3160, 3195, 3196, 3197, 3198, 3199, 3200, 3220, 3240, 3278, 3279, 3280, 3281, 3300, 3360, 3361, 3362, 3363, 3380, 3443, 3444, 3445, 3460, 3525, 3526, 3540, 3607, 3608, 3620, 3690, 3700, 3772, 3780, 3854, 3860, 3936, 3940, 4018, 4019, 4020, 4099, 4100, 4101, 4180, 4181, 4182, 4183, 4260, 4263, 4264, 4265, 4266, 4340, 4345, 4346, 4347, 4348, 4420, 4427, 4428, 4429, 4430, 4431, 4500, 4508, 4509, 4510, 4511, 4512, 4513, 4580, 4590, 4591, 4592, 4593, 4594, 4595, 4660, 4672, 4673, 4674, 4675, 4676, 4677, 4678, 4740, 4753, 4754, 4755, 4756, 4757, 4758, 4759, 4760, 4820, 4835, 4836, 4837, 4838, 4839, 4840, 4841, 4842, 4843, 4900, 4917, 4918, 4919, 4920, 4921, 4922, 4923, 4924, 4925, 4980, 4999, 5000, 5001, 5002, 5003, 5004, 5005, 5006, 5007, 5060, 5080, 5081, 5082, 5083, 5084, 5085, 5086, 5087, 5088, 5089, 5090, 5140, 5162, 5163, 5164, 5165, 5166, 5167, 5168, 5169, 5170, 5171, 5172, 5220, 5244, 5245, 5246, 5247, 5248, 5249, 5250, 5251, 5252, 5253, 5254, 5255, 5300, 5326, 5327, 5328, 5329, 5330, 5331, 5332, 5333, 5334, 5335, 5336, 5337, 5380, 5407, 5408, 5409, 5410, 5411, 5412, 5413, 5414, 5415, 5416, 5417, 5418, 5419, 5420, 5460, 5489, 5490, 5491, 5492, 5493, 5494, 5495, 5496, 5497, 5498, 5499, 5500, 5501, 5502, 5540, 5571, 5572, 5573, 5574, 5575, 5576, 5577, 5578, 5579, 5580, 5581, 5582, 5583, 5584, 5620, 5653, 5654, 5655, 5656, 5657, 5658, 5659, 5660, 5661, 5662, 5663, 5664, 5665, 5666, 5667, 5700, 5734, 5735, 5736, 5737, 5738, 5739, 5740, 5741, 5742, 5743, 5744, 5745, 5746, 5747, 5748, 5749, 5780, 5816, 5817, 5818, 5819, 5820, 5821, 5822, 5823, 5824, 5825, 5826, 5827, 5828, 5829, 5830, 5831, 5860, 5898, 5899, 5900, 5901, 5902, 5903, 5904, 5905, 5906, 5907, 5908, 5909, 5910, 5911, 5912, 5940, 5979, 5980, 5981, 5982, 5983, 5984, 5985, 5986, 5987, 5988, 5989, 5990, 5991, 5992, 5993, 6020, 6061, 6062, 6063, 6064, 6065, 6066, 6067, 6068, 6069, 6070, 6071, 6072, 6073, 6074, 6100, 6143, 6144, 6145, 6146, 6147, 6148, 6149, 6150, 6151, 6152, 6153, 6154, 6155, 6180, 6225, 6226, 6227, 6228, 6229, 6230, 6231, 6232, 6233, 6234, 6235, 6236, 6260, 6306, 6307, 6308, 6309, 6310, 6311, 6312, 6313, 6314, 6315, 6316, 6317, 6340, 6388, 6389, 6390, 6391, 6392, 6393, 6394, 6395, 6396, 6397, 6398, 6420, 6470, 6471, 6472, 6473, 6474, 6475, 6476, 6477, 6478, 6479, 6500, 6552, 6553, 6554, 6555, 6556, 6557, 6558, 6559, 6560]\n",
      "CPU times: user 156 ms, sys: 12.4 ms, total: 169 ms\n",
      "Wall time: 168 ms\n"
     ]
    }
   ],
   "source": [
    "%%time\n",
    "n_total = len(simulation.dataframe)\n",
    "n_train = len(simulation.dataframe[simulation.dataframe.type_of == \"train\"])\n",
    "n_val = len(simulation.dataframe[simulation.dataframe.type_of == \"val\"])\n",
    "n_test = len(simulation.dataframe[simulation.dataframe.type_of == \"test\"])\n",
    "n_train_hamiltonians = len(simulation.train_ids)\n",
    "n_val_hamiltonians = len(simulation.val_ids)\n",
    "n_test_hamiltonians = len(simulation.test_ids)\n",
    "n_total_hamiltonians = n_train_hamiltonians + n_val_hamiltonians + n_test_hamiltonians\n",
    "\n",
    "print(\"% train: \", n_train/n_total)\n",
    "print(\"% val: \",  n_val/n_total)\n",
    "print(\"% test: \", n_test/n_total)\n",
    "print(\"% train + val + test: \", (n_train+n_val+n_test)/n_total)\n",
    "print(\"\\n\")\n",
    "print(\"number of train hamiltonians: \", n_train_hamiltonians)\n",
    "print(\"number of val hamiltonians: \", n_val_hamiltonians)\n",
    "print(\"number of test hamiltonians: \", n_test_hamiltonians)\n",
    "print(\"total number of hamiltonians: \", n_total_hamiltonians)\n",
    "print(\"\\n\")\n",
    "print(\"train ids: \", simulation.train_ids)\n",
    "print(\"val ids: \", simulation.val_ids)\n",
    "print(\"test ids: \", simulation.test_ids)"
   ]
  },
  {
   "cell_type": "markdown",
   "metadata": {
    "papermill": {
     "duration": 0.016986,
     "end_time": "2020-07-09T10:16:06.558567",
     "exception": false,
     "start_time": "2020-07-09T10:16:06.541581",
     "status": "completed"
    },
    "tags": []
   },
   "source": [
    "## Running a simulation"
   ]
  },
  {
   "cell_type": "code",
   "execution_count": 23,
   "metadata": {
    "execution": {
     "iopub.execute_input": "2020-07-09T10:16:06.596574Z",
     "iopub.status.busy": "2020-07-09T10:16:06.596251Z",
     "iopub.status.idle": "2020-07-09T10:33:55.074080Z",
     "shell.execute_reply": "2020-07-09T10:33:55.074381Z"
    },
    "papermill": {
     "duration": 1068.49793,
     "end_time": "2020-07-09T10:33:55.074447",
     "exception": false,
     "start_time": "2020-07-09T10:16:06.576517",
     "status": "completed"
    },
    "tags": []
   },
   "outputs": [
    {
     "name": "stderr",
     "output_type": "stream",
     "text": [
      "\r",
      "running experiments:   0%|          | 0/100 [00:00<?, ?it/s]"
     ]
    },
    {
     "name": "stderr",
     "output_type": "stream",
     "text": [
      "\r",
      "running experiments:   1%|          | 1/100 [00:10<17:37, 10.69s/it]"
     ]
    },
    {
     "name": "stderr",
     "output_type": "stream",
     "text": [
      "\r",
      "running experiments:   2%|▏         | 2/100 [00:21<17:28, 10.70s/it]"
     ]
    },
    {
     "name": "stderr",
     "output_type": "stream",
     "text": [
      "\r",
      "running experiments:   3%|▎         | 3/100 [00:31<17:14, 10.66s/it]"
     ]
    },
    {
     "name": "stderr",
     "output_type": "stream",
     "text": [
      "\r",
      "running experiments:   4%|▍         | 4/100 [00:42<17:04, 10.67s/it]"
     ]
    },
    {
     "name": "stderr",
     "output_type": "stream",
     "text": [
      "\r",
      "running experiments:   5%|▌         | 5/100 [00:53<16:57, 10.71s/it]"
     ]
    },
    {
     "name": "stderr",
     "output_type": "stream",
     "text": [
      "\r",
      "running experiments:   6%|▌         | 6/100 [01:04<16:43, 10.68s/it]"
     ]
    },
    {
     "name": "stderr",
     "output_type": "stream",
     "text": [
      "\r",
      "running experiments:   7%|▋         | 7/100 [01:14<16:28, 10.63s/it]"
     ]
    },
    {
     "name": "stderr",
     "output_type": "stream",
     "text": [
      "\r",
      "running experiments:   8%|▊         | 8/100 [01:25<16:19, 10.65s/it]"
     ]
    },
    {
     "name": "stderr",
     "output_type": "stream",
     "text": [
      "\r",
      "running experiments:   9%|▉         | 9/100 [01:36<16:16, 10.73s/it]"
     ]
    },
    {
     "name": "stderr",
     "output_type": "stream",
     "text": [
      "\r",
      "running experiments:  10%|█         | 10/100 [01:46<16:04, 10.72s/it]"
     ]
    },
    {
     "name": "stderr",
     "output_type": "stream",
     "text": [
      "\r",
      "running experiments:  11%|█         | 11/100 [01:57<15:50, 10.68s/it]"
     ]
    },
    {
     "name": "stderr",
     "output_type": "stream",
     "text": [
      "\r",
      "running experiments:  12%|█▏        | 12/100 [02:08<15:35, 10.63s/it]"
     ]
    },
    {
     "name": "stderr",
     "output_type": "stream",
     "text": [
      "\r",
      "running experiments:  13%|█▎        | 13/100 [02:18<15:27, 10.66s/it]"
     ]
    },
    {
     "name": "stderr",
     "output_type": "stream",
     "text": [
      "\r",
      "running experiments:  14%|█▍        | 14/100 [02:29<15:17, 10.66s/it]"
     ]
    },
    {
     "name": "stderr",
     "output_type": "stream",
     "text": [
      "\r",
      "running experiments:  15%|█▌        | 15/100 [02:40<15:07, 10.68s/it]"
     ]
    },
    {
     "name": "stderr",
     "output_type": "stream",
     "text": [
      "\r",
      "running experiments:  16%|█▌        | 16/100 [02:50<14:47, 10.56s/it]"
     ]
    },
    {
     "name": "stderr",
     "output_type": "stream",
     "text": [
      "\r",
      "running experiments:  17%|█▋        | 17/100 [03:01<14:41, 10.62s/it]"
     ]
    },
    {
     "name": "stderr",
     "output_type": "stream",
     "text": [
      "\r",
      "running experiments:  18%|█▊        | 18/100 [03:11<14:30, 10.61s/it]"
     ]
    },
    {
     "name": "stderr",
     "output_type": "stream",
     "text": [
      "\r",
      "running experiments:  19%|█▉        | 19/100 [03:22<14:20, 10.62s/it]"
     ]
    },
    {
     "name": "stderr",
     "output_type": "stream",
     "text": [
      "\r",
      "running experiments:  20%|██        | 20/100 [03:33<14:10, 10.63s/it]"
     ]
    },
    {
     "name": "stderr",
     "output_type": "stream",
     "text": [
      "\r",
      "running experiments:  21%|██        | 21/100 [03:43<14:01, 10.65s/it]"
     ]
    },
    {
     "name": "stderr",
     "output_type": "stream",
     "text": [
      "\r",
      "running experiments:  22%|██▏       | 22/100 [03:54<13:50, 10.64s/it]"
     ]
    },
    {
     "name": "stderr",
     "output_type": "stream",
     "text": [
      "\r",
      "running experiments:  23%|██▎       | 23/100 [04:05<13:40, 10.65s/it]"
     ]
    },
    {
     "name": "stderr",
     "output_type": "stream",
     "text": [
      "\r",
      "running experiments:  24%|██▍       | 24/100 [04:15<13:29, 10.66s/it]"
     ]
    },
    {
     "name": "stderr",
     "output_type": "stream",
     "text": [
      "\r",
      "running experiments:  25%|██▌       | 25/100 [04:26<13:17, 10.64s/it]"
     ]
    },
    {
     "name": "stderr",
     "output_type": "stream",
     "text": [
      "\r",
      "running experiments:  26%|██▌       | 26/100 [04:37<13:10, 10.69s/it]"
     ]
    },
    {
     "name": "stderr",
     "output_type": "stream",
     "text": [
      "\r",
      "running experiments:  27%|██▋       | 27/100 [04:47<12:56, 10.63s/it]"
     ]
    },
    {
     "name": "stderr",
     "output_type": "stream",
     "text": [
      "\r",
      "running experiments:  28%|██▊       | 28/100 [04:58<12:47, 10.66s/it]"
     ]
    },
    {
     "name": "stderr",
     "output_type": "stream",
     "text": [
      "\r",
      "running experiments:  29%|██▉       | 29/100 [05:09<12:40, 10.72s/it]"
     ]
    },
    {
     "name": "stderr",
     "output_type": "stream",
     "text": [
      "\r",
      "running experiments:  30%|███       | 30/100 [05:19<12:27, 10.68s/it]"
     ]
    },
    {
     "name": "stderr",
     "output_type": "stream",
     "text": [
      "\r",
      "running experiments:  31%|███       | 31/100 [05:30<12:17, 10.68s/it]"
     ]
    },
    {
     "name": "stderr",
     "output_type": "stream",
     "text": [
      "\r",
      "running experiments:  32%|███▏      | 32/100 [05:41<12:05, 10.67s/it]"
     ]
    },
    {
     "name": "stderr",
     "output_type": "stream",
     "text": [
      "\r",
      "running experiments:  33%|███▎      | 33/100 [05:51<11:55, 10.68s/it]"
     ]
    },
    {
     "name": "stderr",
     "output_type": "stream",
     "text": [
      "\r",
      "running experiments:  34%|███▍      | 34/100 [06:02<11:42, 10.64s/it]"
     ]
    },
    {
     "name": "stderr",
     "output_type": "stream",
     "text": [
      "\r",
      "running experiments:  35%|███▌      | 35/100 [06:13<11:33, 10.67s/it]"
     ]
    },
    {
     "name": "stderr",
     "output_type": "stream",
     "text": [
      "\r",
      "running experiments:  36%|███▌      | 36/100 [06:23<11:21, 10.65s/it]"
     ]
    },
    {
     "name": "stderr",
     "output_type": "stream",
     "text": [
      "\r",
      "running experiments:  37%|███▋      | 37/100 [06:34<11:07, 10.60s/it]"
     ]
    },
    {
     "name": "stderr",
     "output_type": "stream",
     "text": [
      "\r",
      "running experiments:  38%|███▊      | 38/100 [06:44<10:59, 10.64s/it]"
     ]
    },
    {
     "name": "stderr",
     "output_type": "stream",
     "text": [
      "\r",
      "running experiments:  39%|███▉      | 39/100 [06:55<10:50, 10.66s/it]"
     ]
    },
    {
     "name": "stderr",
     "output_type": "stream",
     "text": [
      "\r",
      "running experiments:  40%|████      | 40/100 [07:06<10:41, 10.69s/it]"
     ]
    },
    {
     "name": "stderr",
     "output_type": "stream",
     "text": [
      "\r",
      "running experiments:  41%|████      | 41/100 [07:17<10:29, 10.67s/it]"
     ]
    },
    {
     "name": "stderr",
     "output_type": "stream",
     "text": [
      "\r",
      "running experiments:  42%|████▏     | 42/100 [07:27<10:21, 10.72s/it]"
     ]
    },
    {
     "name": "stderr",
     "output_type": "stream",
     "text": [
      "\r",
      "running experiments:  43%|████▎     | 43/100 [07:38<10:07, 10.65s/it]"
     ]
    },
    {
     "name": "stderr",
     "output_type": "stream",
     "text": [
      "\r",
      "running experiments:  44%|████▍     | 44/100 [07:48<09:56, 10.65s/it]"
     ]
    },
    {
     "name": "stderr",
     "output_type": "stream",
     "text": [
      "\r",
      "running experiments:  45%|████▌     | 45/100 [08:00<09:59, 10.90s/it]"
     ]
    },
    {
     "name": "stderr",
     "output_type": "stream",
     "text": [
      "\r",
      "running experiments:  46%|████▌     | 46/100 [08:11<09:45, 10.84s/it]"
     ]
    },
    {
     "name": "stderr",
     "output_type": "stream",
     "text": [
      "\r",
      "running experiments:  47%|████▋     | 47/100 [08:21<09:30, 10.76s/it]"
     ]
    },
    {
     "name": "stderr",
     "output_type": "stream",
     "text": [
      "\r",
      "running experiments:  48%|████▊     | 48/100 [08:32<09:18, 10.74s/it]"
     ]
    },
    {
     "name": "stderr",
     "output_type": "stream",
     "text": [
      "\r",
      "running experiments:  49%|████▉     | 49/100 [08:43<09:06, 10.71s/it]"
     ]
    },
    {
     "name": "stderr",
     "output_type": "stream",
     "text": [
      "\r",
      "running experiments:  50%|█████     | 50/100 [08:53<08:54, 10.68s/it]"
     ]
    },
    {
     "name": "stderr",
     "output_type": "stream",
     "text": [
      "\r",
      "running experiments:  51%|█████     | 51/100 [09:04<08:45, 10.71s/it]"
     ]
    },
    {
     "name": "stderr",
     "output_type": "stream",
     "text": [
      "\r",
      "running experiments:  52%|█████▏    | 52/100 [09:14<08:31, 10.66s/it]"
     ]
    },
    {
     "name": "stderr",
     "output_type": "stream",
     "text": [
      "\r",
      "running experiments:  53%|█████▎    | 53/100 [09:25<08:21, 10.66s/it]"
     ]
    },
    {
     "name": "stderr",
     "output_type": "stream",
     "text": [
      "\r",
      "running experiments:  54%|█████▍    | 54/100 [09:36<08:13, 10.73s/it]"
     ]
    },
    {
     "name": "stderr",
     "output_type": "stream",
     "text": [
      "\r",
      "running experiments:  55%|█████▌    | 55/100 [09:47<08:01, 10.70s/it]"
     ]
    },
    {
     "name": "stderr",
     "output_type": "stream",
     "text": [
      "\r",
      "running experiments:  56%|█████▌    | 56/100 [09:57<07:50, 10.69s/it]"
     ]
    },
    {
     "name": "stderr",
     "output_type": "stream",
     "text": [
      "\r",
      "running experiments:  57%|█████▋    | 57/100 [10:08<07:40, 10.70s/it]"
     ]
    },
    {
     "name": "stderr",
     "output_type": "stream",
     "text": [
      "\r",
      "running experiments:  58%|█████▊    | 58/100 [10:19<07:28, 10.68s/it]"
     ]
    },
    {
     "name": "stderr",
     "output_type": "stream",
     "text": [
      "\r",
      "running experiments:  59%|█████▉    | 59/100 [10:30<07:20, 10.75s/it]"
     ]
    },
    {
     "name": "stderr",
     "output_type": "stream",
     "text": [
      "\r",
      "running experiments:  60%|██████    | 60/100 [10:40<07:09, 10.74s/it]"
     ]
    },
    {
     "name": "stderr",
     "output_type": "stream",
     "text": [
      "\r",
      "running experiments:  61%|██████    | 61/100 [10:51<06:57, 10.71s/it]"
     ]
    },
    {
     "name": "stderr",
     "output_type": "stream",
     "text": [
      "\r",
      "running experiments:  62%|██████▏   | 62/100 [11:02<06:46, 10.70s/it]"
     ]
    },
    {
     "name": "stderr",
     "output_type": "stream",
     "text": [
      "\r",
      "running experiments:  63%|██████▎   | 63/100 [11:12<06:36, 10.72s/it]"
     ]
    },
    {
     "name": "stderr",
     "output_type": "stream",
     "text": [
      "\r",
      "running experiments:  64%|██████▍   | 64/100 [11:23<06:26, 10.75s/it]"
     ]
    },
    {
     "name": "stderr",
     "output_type": "stream",
     "text": [
      "\r",
      "running experiments:  65%|██████▌   | 65/100 [11:34<06:16, 10.75s/it]"
     ]
    },
    {
     "name": "stderr",
     "output_type": "stream",
     "text": [
      "\r",
      "running experiments:  66%|██████▌   | 66/100 [11:45<06:05, 10.76s/it]"
     ]
    },
    {
     "name": "stderr",
     "output_type": "stream",
     "text": [
      "\r",
      "running experiments:  67%|██████▋   | 67/100 [11:56<05:56, 10.79s/it]"
     ]
    },
    {
     "name": "stderr",
     "output_type": "stream",
     "text": [
      "\r",
      "running experiments:  68%|██████▊   | 68/100 [12:06<05:44, 10.77s/it]"
     ]
    },
    {
     "name": "stderr",
     "output_type": "stream",
     "text": [
      "\r",
      "running experiments:  69%|██████▉   | 69/100 [12:17<05:32, 10.72s/it]"
     ]
    },
    {
     "name": "stderr",
     "output_type": "stream",
     "text": [
      "\r",
      "running experiments:  70%|███████   | 70/100 [12:28<05:20, 10.69s/it]"
     ]
    },
    {
     "name": "stderr",
     "output_type": "stream",
     "text": [
      "\r",
      "running experiments:  71%|███████   | 71/100 [12:38<05:09, 10.67s/it]"
     ]
    },
    {
     "name": "stderr",
     "output_type": "stream",
     "text": [
      "\r",
      "running experiments:  72%|███████▏  | 72/100 [12:49<04:58, 10.68s/it]"
     ]
    },
    {
     "name": "stderr",
     "output_type": "stream",
     "text": [
      "\r",
      "running experiments:  73%|███████▎  | 73/100 [13:00<04:48, 10.67s/it]"
     ]
    },
    {
     "name": "stderr",
     "output_type": "stream",
     "text": [
      "\r",
      "running experiments:  74%|███████▍  | 74/100 [13:10<04:38, 10.72s/it]"
     ]
    },
    {
     "name": "stderr",
     "output_type": "stream",
     "text": [
      "\r",
      "running experiments:  75%|███████▌  | 75/100 [13:21<04:28, 10.73s/it]"
     ]
    },
    {
     "name": "stderr",
     "output_type": "stream",
     "text": [
      "\r",
      "running experiments:  76%|███████▌  | 76/100 [13:32<04:16, 10.70s/it]"
     ]
    },
    {
     "name": "stderr",
     "output_type": "stream",
     "text": [
      "\r",
      "running experiments:  77%|███████▋  | 77/100 [13:42<04:05, 10.67s/it]"
     ]
    },
    {
     "name": "stderr",
     "output_type": "stream",
     "text": [
      "\r",
      "running experiments:  78%|███████▊  | 78/100 [13:53<03:54, 10.68s/it]"
     ]
    },
    {
     "name": "stderr",
     "output_type": "stream",
     "text": [
      "\r",
      "running experiments:  79%|███████▉  | 79/100 [14:04<03:43, 10.63s/it]"
     ]
    },
    {
     "name": "stderr",
     "output_type": "stream",
     "text": [
      "\r",
      "running experiments:  80%|████████  | 80/100 [14:14<03:32, 10.63s/it]"
     ]
    },
    {
     "name": "stderr",
     "output_type": "stream",
     "text": [
      "\r",
      "running experiments:  81%|████████  | 81/100 [14:25<03:21, 10.62s/it]"
     ]
    },
    {
     "name": "stderr",
     "output_type": "stream",
     "text": [
      "\r",
      "running experiments:  82%|████████▏ | 82/100 [14:35<03:11, 10.63s/it]"
     ]
    },
    {
     "name": "stderr",
     "output_type": "stream",
     "text": [
      "\r",
      "running experiments:  83%|████████▎ | 83/100 [14:46<03:00, 10.63s/it]"
     ]
    },
    {
     "name": "stderr",
     "output_type": "stream",
     "text": [
      "\r",
      "running experiments:  84%|████████▍ | 84/100 [14:57<02:50, 10.63s/it]"
     ]
    },
    {
     "name": "stderr",
     "output_type": "stream",
     "text": [
      "\r",
      "running experiments:  85%|████████▌ | 85/100 [15:07<02:39, 10.62s/it]"
     ]
    },
    {
     "name": "stderr",
     "output_type": "stream",
     "text": [
      "\r",
      "running experiments:  86%|████████▌ | 86/100 [15:18<02:28, 10.60s/it]"
     ]
    },
    {
     "name": "stderr",
     "output_type": "stream",
     "text": [
      "\r",
      "running experiments:  87%|████████▋ | 87/100 [15:29<02:18, 10.64s/it]"
     ]
    },
    {
     "name": "stderr",
     "output_type": "stream",
     "text": [
      "\r",
      "running experiments:  88%|████████▊ | 88/100 [15:39<02:07, 10.64s/it]"
     ]
    },
    {
     "name": "stderr",
     "output_type": "stream",
     "text": [
      "\r",
      "running experiments:  89%|████████▉ | 89/100 [15:50<01:56, 10.63s/it]"
     ]
    },
    {
     "name": "stderr",
     "output_type": "stream",
     "text": [
      "\r",
      "running experiments:  90%|█████████ | 90/100 [16:00<01:46, 10.60s/it]"
     ]
    },
    {
     "name": "stderr",
     "output_type": "stream",
     "text": [
      "\r",
      "running experiments:  91%|█████████ | 91/100 [16:11<01:35, 10.66s/it]"
     ]
    },
    {
     "name": "stderr",
     "output_type": "stream",
     "text": [
      "\r",
      "running experiments:  92%|█████████▏| 92/100 [16:22<01:25, 10.72s/it]"
     ]
    },
    {
     "name": "stderr",
     "output_type": "stream",
     "text": [
      "\r",
      "running experiments:  93%|█████████▎| 93/100 [16:33<01:15, 10.73s/it]"
     ]
    },
    {
     "name": "stderr",
     "output_type": "stream",
     "text": [
      "\r",
      "running experiments:  94%|█████████▍| 94/100 [16:44<01:04, 10.73s/it]"
     ]
    },
    {
     "name": "stderr",
     "output_type": "stream",
     "text": [
      "\r",
      "running experiments:  95%|█████████▌| 95/100 [16:55<00:54, 10.80s/it]"
     ]
    },
    {
     "name": "stderr",
     "output_type": "stream",
     "text": [
      "\r",
      "running experiments:  96%|█████████▌| 96/100 [17:05<00:42, 10.73s/it]"
     ]
    },
    {
     "name": "stderr",
     "output_type": "stream",
     "text": [
      "\r",
      "running experiments:  97%|█████████▋| 97/100 [17:16<00:32, 10.74s/it]"
     ]
    },
    {
     "name": "stderr",
     "output_type": "stream",
     "text": [
      "\r",
      "running experiments:  98%|█████████▊| 98/100 [17:26<00:21, 10.71s/it]"
     ]
    },
    {
     "name": "stderr",
     "output_type": "stream",
     "text": [
      "\r",
      "running experiments:  99%|█████████▉| 99/100 [17:37<00:10, 10.73s/it]"
     ]
    },
    {
     "name": "stderr",
     "output_type": "stream",
     "text": [
      "\r",
      "running experiments: 100%|██████████| 100/100 [17:48<00:00, 10.73s/it]"
     ]
    },
    {
     "name": "stderr",
     "output_type": "stream",
     "text": [
      "\r",
      "running experiments: 100%|██████████| 100/100 [17:48<00:00, 10.68s/it]"
     ]
    },
    {
     "name": "stdout",
     "output_type": "stream",
     "text": [
      "CPU times: user 1h 48min 35s, sys: 12.7 s, total: 1h 48min 47s\n",
      "Wall time: 17min 48s\n"
     ]
    },
    {
     "name": "stderr",
     "output_type": "stream",
     "text": [
      "\n"
     ]
    }
   ],
   "source": [
    "%%time\n",
    "simulation.run_simulation(n_experiments, start_n, fit_params,shuffle_rows, pred_params, random_features, \\\n",
    "                          store_in_lists, save_eigenvector, save_hamiltonian, save_accuracy,\\\n",
    "                          save_models)\n",
    "if simulation.fourier_mode is not None:\n",
    "    simulation.fourier_dataframe.head(10)"
   ]
  },
  {
   "cell_type": "code",
   "execution_count": 24,
   "metadata": {
    "execution": {
     "iopub.execute_input": "2020-07-09T10:33:55.144830Z",
     "iopub.status.busy": "2020-07-09T10:33:55.144522Z",
     "iopub.status.idle": "2020-07-09T10:33:55.168975Z",
     "shell.execute_reply": "2020-07-09T10:33:55.168656Z"
    },
    "papermill": {
     "duration": 0.059968,
     "end_time": "2020-07-09T10:33:55.169027",
     "exception": false,
     "start_time": "2020-07-09T10:33:55.109059",
     "status": "completed"
    },
    "tags": []
   },
   "outputs": [
    {
     "data": {
      "text/html": [
       "<div>\n",
       "<style scoped>\n",
       "    .dataframe tbody tr th:only-of-type {\n",
       "        vertical-align: middle;\n",
       "    }\n",
       "\n",
       "    .dataframe tbody tr th {\n",
       "        vertical-align: top;\n",
       "    }\n",
       "\n",
       "    .dataframe thead th {\n",
       "        text-align: right;\n",
       "    }\n",
       "</style>\n",
       "<table border=\"1\" class=\"dataframe\">\n",
       "  <thead>\n",
       "    <tr style=\"text-align: right;\">\n",
       "      <th></th>\n",
       "      <th>id</th>\n",
       "      <th>path</th>\n",
       "      <th>t1</th>\n",
       "      <th>t2</th>\n",
       "      <th>winding</th>\n",
       "      <th>phase</th>\n",
       "      <th>pred_phase</th>\n",
       "      <th>type_of</th>\n",
       "      <th>feat0</th>\n",
       "      <th>feat1</th>\n",
       "      <th>...</th>\n",
       "      <th>feat90</th>\n",
       "      <th>feat91</th>\n",
       "      <th>feat92</th>\n",
       "      <th>feat93</th>\n",
       "      <th>feat94</th>\n",
       "      <th>feat95</th>\n",
       "      <th>feat96</th>\n",
       "      <th>feat97</th>\n",
       "      <th>feat98</th>\n",
       "      <th>feat99</th>\n",
       "    </tr>\n",
       "  </thead>\n",
       "  <tbody>\n",
       "    <tr>\n",
       "      <th>0</th>\n",
       "      <td>0</td>\n",
       "      <td>H_-2_-2_0.501338.dat</td>\n",
       "      <td>-2.0</td>\n",
       "      <td>-2.0</td>\n",
       "      <td>0.501338</td>\n",
       "      <td>999</td>\n",
       "      <td>-1</td>\n",
       "      <td>test</td>\n",
       "      <td>-0.130965</td>\n",
       "      <td>0.301130</td>\n",
       "      <td>...</td>\n",
       "      <td>-0.080279</td>\n",
       "      <td>-0.115687</td>\n",
       "      <td>-0.174988</td>\n",
       "      <td>0.245064</td>\n",
       "      <td>0.319763</td>\n",
       "      <td>-0.059082</td>\n",
       "      <td>-0.000556</td>\n",
       "      <td>-0.245133</td>\n",
       "      <td>-0.301130</td>\n",
       "      <td>0.130965</td>\n",
       "    </tr>\n",
       "    <tr>\n",
       "      <th>1</th>\n",
       "      <td>0</td>\n",
       "      <td>H_-2_-2_0.501338.dat</td>\n",
       "      <td>-2.0</td>\n",
       "      <td>-2.0</td>\n",
       "      <td>0.501338</td>\n",
       "      <td>999</td>\n",
       "      <td>-1</td>\n",
       "      <td>test</td>\n",
       "      <td>-0.130965</td>\n",
       "      <td>-0.301130</td>\n",
       "      <td>...</td>\n",
       "      <td>-0.080279</td>\n",
       "      <td>0.115687</td>\n",
       "      <td>-0.174988</td>\n",
       "      <td>-0.245064</td>\n",
       "      <td>0.319763</td>\n",
       "      <td>0.059082</td>\n",
       "      <td>-0.000556</td>\n",
       "      <td>0.245133</td>\n",
       "      <td>-0.301130</td>\n",
       "      <td>-0.130965</td>\n",
       "    </tr>\n",
       "    <tr>\n",
       "      <th>2</th>\n",
       "      <td>0</td>\n",
       "      <td>H_-2_-2_0.501338.dat</td>\n",
       "      <td>-2.0</td>\n",
       "      <td>-2.0</td>\n",
       "      <td>0.501338</td>\n",
       "      <td>999</td>\n",
       "      <td>-1</td>\n",
       "      <td>test</td>\n",
       "      <td>-0.148414</td>\n",
       "      <td>-0.042467</td>\n",
       "      <td>...</td>\n",
       "      <td>0.185442</td>\n",
       "      <td>-0.080620</td>\n",
       "      <td>-0.066211</td>\n",
       "      <td>-0.121339</td>\n",
       "      <td>-0.151700</td>\n",
       "      <td>0.192513</td>\n",
       "      <td>0.191642</td>\n",
       "      <td>-0.050956</td>\n",
       "      <td>-0.042467</td>\n",
       "      <td>-0.148414</td>\n",
       "    </tr>\n",
       "    <tr>\n",
       "      <th>3</th>\n",
       "      <td>0</td>\n",
       "      <td>H_-2_-2_0.501338.dat</td>\n",
       "      <td>-2.0</td>\n",
       "      <td>-2.0</td>\n",
       "      <td>0.501338</td>\n",
       "      <td>999</td>\n",
       "      <td>2</td>\n",
       "      <td>test</td>\n",
       "      <td>-0.069630</td>\n",
       "      <td>-0.026147</td>\n",
       "      <td>...</td>\n",
       "      <td>0.102009</td>\n",
       "      <td>-0.100671</td>\n",
       "      <td>-0.081002</td>\n",
       "      <td>-0.020715</td>\n",
       "      <td>-0.058717</td>\n",
       "      <td>0.115834</td>\n",
       "      <td>0.118274</td>\n",
       "      <td>-0.054666</td>\n",
       "      <td>-0.026147</td>\n",
       "      <td>-0.069630</td>\n",
       "    </tr>\n",
       "    <tr>\n",
       "      <th>4</th>\n",
       "      <td>0</td>\n",
       "      <td>H_-2_-2_0.501338.dat</td>\n",
       "      <td>-2.0</td>\n",
       "      <td>-2.0</td>\n",
       "      <td>0.501338</td>\n",
       "      <td>999</td>\n",
       "      <td>0</td>\n",
       "      <td>test</td>\n",
       "      <td>0.010206</td>\n",
       "      <td>-0.014625</td>\n",
       "      <td>...</td>\n",
       "      <td>0.047555</td>\n",
       "      <td>-0.041368</td>\n",
       "      <td>-0.018852</td>\n",
       "      <td>-0.017673</td>\n",
       "      <td>-0.023377</td>\n",
       "      <td>0.031447</td>\n",
       "      <td>0.010280</td>\n",
       "      <td>0.000925</td>\n",
       "      <td>0.014625</td>\n",
       "      <td>-0.010206</td>\n",
       "    </tr>\n",
       "    <tr>\n",
       "      <th>5</th>\n",
       "      <td>0</td>\n",
       "      <td>H_-2_-2_0.501338.dat</td>\n",
       "      <td>-2.0</td>\n",
       "      <td>-2.0</td>\n",
       "      <td>0.501338</td>\n",
       "      <td>999</td>\n",
       "      <td>2</td>\n",
       "      <td>test</td>\n",
       "      <td>0.116962</td>\n",
       "      <td>0.021475</td>\n",
       "      <td>...</td>\n",
       "      <td>-0.086901</td>\n",
       "      <td>-0.045676</td>\n",
       "      <td>-0.028034</td>\n",
       "      <td>0.129266</td>\n",
       "      <td>0.130083</td>\n",
       "      <td>-0.098190</td>\n",
       "      <td>-0.104188</td>\n",
       "      <td>-0.007911</td>\n",
       "      <td>0.021475</td>\n",
       "      <td>0.116962</td>\n",
       "    </tr>\n",
       "    <tr>\n",
       "      <th>6</th>\n",
       "      <td>0</td>\n",
       "      <td>H_-2_-2_0.501338.dat</td>\n",
       "      <td>-2.0</td>\n",
       "      <td>-2.0</td>\n",
       "      <td>0.501338</td>\n",
       "      <td>999</td>\n",
       "      <td>-1</td>\n",
       "      <td>test</td>\n",
       "      <td>0.037175</td>\n",
       "      <td>-0.095882</td>\n",
       "      <td>...</td>\n",
       "      <td>-0.027490</td>\n",
       "      <td>0.046168</td>\n",
       "      <td>0.063419</td>\n",
       "      <td>-0.041630</td>\n",
       "      <td>-0.085769</td>\n",
       "      <td>-0.010604</td>\n",
       "      <td>-0.009822</td>\n",
       "      <td>0.084024</td>\n",
       "      <td>0.095882</td>\n",
       "      <td>-0.037175</td>\n",
       "    </tr>\n",
       "    <tr>\n",
       "      <th>7</th>\n",
       "      <td>0</td>\n",
       "      <td>H_-2_-2_0.501338.dat</td>\n",
       "      <td>-2.0</td>\n",
       "      <td>-2.0</td>\n",
       "      <td>0.501338</td>\n",
       "      <td>999</td>\n",
       "      <td>2</td>\n",
       "      <td>test</td>\n",
       "      <td>0.027709</td>\n",
       "      <td>-0.038180</td>\n",
       "      <td>...</td>\n",
       "      <td>0.123344</td>\n",
       "      <td>-0.114320</td>\n",
       "      <td>-0.057118</td>\n",
       "      <td>-0.040291</td>\n",
       "      <td>-0.061263</td>\n",
       "      <td>0.087153</td>\n",
       "      <td>0.029599</td>\n",
       "      <td>-0.001276</td>\n",
       "      <td>0.038180</td>\n",
       "      <td>-0.027709</td>\n",
       "    </tr>\n",
       "    <tr>\n",
       "      <th>8</th>\n",
       "      <td>0</td>\n",
       "      <td>H_-2_-2_0.501338.dat</td>\n",
       "      <td>-2.0</td>\n",
       "      <td>-2.0</td>\n",
       "      <td>0.501338</td>\n",
       "      <td>999</td>\n",
       "      <td>2</td>\n",
       "      <td>test</td>\n",
       "      <td>0.059795</td>\n",
       "      <td>0.030272</td>\n",
       "      <td>...</td>\n",
       "      <td>-0.082347</td>\n",
       "      <td>0.140996</td>\n",
       "      <td>0.128386</td>\n",
       "      <td>-0.036608</td>\n",
       "      <td>0.029628</td>\n",
       "      <td>-0.124877</td>\n",
       "      <td>-0.140478</td>\n",
       "      <td>0.088573</td>\n",
       "      <td>0.030272</td>\n",
       "      <td>0.059795</td>\n",
       "    </tr>\n",
       "    <tr>\n",
       "      <th>9</th>\n",
       "      <td>0</td>\n",
       "      <td>H_-2_-2_0.501338.dat</td>\n",
       "      <td>-2.0</td>\n",
       "      <td>-2.0</td>\n",
       "      <td>0.501338</td>\n",
       "      <td>999</td>\n",
       "      <td>2</td>\n",
       "      <td>test</td>\n",
       "      <td>0.141605</td>\n",
       "      <td>0.013497</td>\n",
       "      <td>...</td>\n",
       "      <td>-0.035718</td>\n",
       "      <td>-0.110014</td>\n",
       "      <td>-0.082452</td>\n",
       "      <td>0.146084</td>\n",
       "      <td>0.152588</td>\n",
       "      <td>-0.067575</td>\n",
       "      <td>-0.087187</td>\n",
       "      <td>-0.043484</td>\n",
       "      <td>0.013497</td>\n",
       "      <td>0.141605</td>\n",
       "    </tr>\n",
       "  </tbody>\n",
       "</table>\n",
       "<p>10 rows × 108 columns</p>\n",
       "</div>"
      ],
      "text/plain": [
       "   id                  path   t1   t2   winding  phase  pred_phase type_of  \\\n",
       "0   0  H_-2_-2_0.501338.dat -2.0 -2.0  0.501338    999          -1    test   \n",
       "1   0  H_-2_-2_0.501338.dat -2.0 -2.0  0.501338    999          -1    test   \n",
       "2   0  H_-2_-2_0.501338.dat -2.0 -2.0  0.501338    999          -1    test   \n",
       "3   0  H_-2_-2_0.501338.dat -2.0 -2.0  0.501338    999           2    test   \n",
       "4   0  H_-2_-2_0.501338.dat -2.0 -2.0  0.501338    999           0    test   \n",
       "5   0  H_-2_-2_0.501338.dat -2.0 -2.0  0.501338    999           2    test   \n",
       "6   0  H_-2_-2_0.501338.dat -2.0 -2.0  0.501338    999          -1    test   \n",
       "7   0  H_-2_-2_0.501338.dat -2.0 -2.0  0.501338    999           2    test   \n",
       "8   0  H_-2_-2_0.501338.dat -2.0 -2.0  0.501338    999           2    test   \n",
       "9   0  H_-2_-2_0.501338.dat -2.0 -2.0  0.501338    999           2    test   \n",
       "\n",
       "      feat0     feat1  ...    feat90    feat91    feat92    feat93    feat94  \\\n",
       "0 -0.130965  0.301130  ... -0.080279 -0.115687 -0.174988  0.245064  0.319763   \n",
       "1 -0.130965 -0.301130  ... -0.080279  0.115687 -0.174988 -0.245064  0.319763   \n",
       "2 -0.148414 -0.042467  ...  0.185442 -0.080620 -0.066211 -0.121339 -0.151700   \n",
       "3 -0.069630 -0.026147  ...  0.102009 -0.100671 -0.081002 -0.020715 -0.058717   \n",
       "4  0.010206 -0.014625  ...  0.047555 -0.041368 -0.018852 -0.017673 -0.023377   \n",
       "5  0.116962  0.021475  ... -0.086901 -0.045676 -0.028034  0.129266  0.130083   \n",
       "6  0.037175 -0.095882  ... -0.027490  0.046168  0.063419 -0.041630 -0.085769   \n",
       "7  0.027709 -0.038180  ...  0.123344 -0.114320 -0.057118 -0.040291 -0.061263   \n",
       "8  0.059795  0.030272  ... -0.082347  0.140996  0.128386 -0.036608  0.029628   \n",
       "9  0.141605  0.013497  ... -0.035718 -0.110014 -0.082452  0.146084  0.152588   \n",
       "\n",
       "     feat95    feat96    feat97    feat98    feat99  \n",
       "0 -0.059082 -0.000556 -0.245133 -0.301130  0.130965  \n",
       "1  0.059082 -0.000556  0.245133 -0.301130 -0.130965  \n",
       "2  0.192513  0.191642 -0.050956 -0.042467 -0.148414  \n",
       "3  0.115834  0.118274 -0.054666 -0.026147 -0.069630  \n",
       "4  0.031447  0.010280  0.000925  0.014625 -0.010206  \n",
       "5 -0.098190 -0.104188 -0.007911  0.021475  0.116962  \n",
       "6 -0.010604 -0.009822  0.084024  0.095882 -0.037175  \n",
       "7  0.087153  0.029599 -0.001276  0.038180 -0.027709  \n",
       "8 -0.124877 -0.140478  0.088573  0.030272  0.059795  \n",
       "9 -0.067575 -0.087187 -0.043484  0.013497  0.141605  \n",
       "\n",
       "[10 rows x 108 columns]"
      ]
     },
     "execution_count": 24,
     "metadata": {},
     "output_type": "execute_result"
    }
   ],
   "source": [
    "simulation.dataframe.head(10)"
   ]
  },
  {
   "cell_type": "markdown",
   "metadata": {
    "papermill": {
     "duration": 0.03398,
     "end_time": "2020-07-09T10:33:55.237128",
     "exception": false,
     "start_time": "2020-07-09T10:33:55.203148",
     "status": "completed"
    },
    "tags": []
   },
   "source": [
    "#### Viewing a random sample"
   ]
  },
  {
   "cell_type": "code",
   "execution_count": 25,
   "metadata": {
    "execution": {
     "iopub.execute_input": "2020-07-09T10:33:55.308289Z",
     "iopub.status.busy": "2020-07-09T10:33:55.307947Z",
     "iopub.status.idle": "2020-07-09T10:33:55.318179Z",
     "shell.execute_reply": "2020-07-09T10:33:55.318485Z"
    },
    "papermill": {
     "duration": 0.046544,
     "end_time": "2020-07-09T10:33:55.318551",
     "exception": false,
     "start_time": "2020-07-09T10:33:55.272007",
     "status": "completed"
    },
    "tags": []
   },
   "outputs": [
    {
     "name": "stdout",
     "output_type": "stream",
     "text": [
      "CPU times: user 2 µs, sys: 0 ns, total: 2 µs\n",
      "Wall time: 4.53 µs\n"
     ]
    }
   ],
   "source": [
    "%%time\n",
    "if simulation.fourier_mode is not None:\n",
    "    simulation.fourier_dataframe.sample(frac=0.1, replace=False)"
   ]
  },
  {
   "cell_type": "markdown",
   "metadata": {
    "papermill": {
     "duration": 0.0342,
     "end_time": "2020-07-09T10:33:55.387388",
     "exception": false,
     "start_time": "2020-07-09T10:33:55.353188",
     "status": "completed"
    },
    "tags": []
   },
   "source": [
    "#### Checking train/val/test splits again"
   ]
  },
  {
   "cell_type": "code",
   "execution_count": 26,
   "metadata": {
    "execution": {
     "iopub.execute_input": "2020-07-09T10:33:55.459847Z",
     "iopub.status.busy": "2020-07-09T10:33:55.459524Z",
     "iopub.status.idle": "2020-07-09T10:33:55.645354Z",
     "shell.execute_reply": "2020-07-09T10:33:55.645657Z"
    },
    "papermill": {
     "duration": 0.223236,
     "end_time": "2020-07-09T10:33:55.645723",
     "exception": false,
     "start_time": "2020-07-09T10:33:55.422487",
     "status": "completed"
    },
    "tags": []
   },
   "outputs": [
    {
     "name": "stdout",
     "output_type": "stream",
     "text": [
      "% train:  0.4208199969516842\n",
      "% val:  0.42066758116140834\n",
      "% test:  0.15851242188690748\n",
      "% train + val + test:  1.0\n",
      "\n",
      "\n",
      "number of train hamiltonians:  2761\n",
      "number of val hamiltonians:  2760\n",
      "number of test hamiltonians:  1040\n",
      "total number of hamiltonians:  6561\n",
      "\n",
      "\n",
      "train ids:  [39, 2924, 4558, 5684, 1840, 3480, 1193, 2369, 6057, 3795, 4360, 1705, 4643, 2341, 4959, 5623, 4649, 2498, 604, 716, 5640, 1207, 5865, 788, 121, 850, 4011, 5236, 6407, 41, 784, 5945, 2667, 2390, 1241, 6352, 3045, 4089, 3437, 4821, 2526, 1866, 3950, 4009, 6204, 2419, 708, 5959, 1462, 5956, 1199, 879, 1677, 6280, 5931, 3503, 2899, 5688, 4308, 138, 2974, 5793, 2596, 2842, 4219, 278, 948, 3741, 2736, 1335, 1125, 2972, 3918, 3058, 2590, 6447, 6336, 4671, 5424, 2638, 3524, 5788, 2673, 3095, 4768, 6455, 1592, 3393, 4761, 3568, 4682, 4791, 4488, 1752, 5375, 2311, 4016, 3194, 5355, 1729, 3434, 4342, 5079, 2855, 2337, 1495, 1818, 675, 5386, 5691, 1499, 5938, 3770, 4701, 1618, 1202, 4344, 4890, 937, 5074, 3636, 4536, 705, 4733, 4787, 6101, 519, 2617, 372, 4240, 218, 4306, 2339, 5770, 5259, 5969, 146, 3898, 698, 1157, 4314, 5712, 3510, 3614, 701, 2716, 3714, 6459, 483, 241, 4373, 4892, 6076, 3825, 778, 3523, 262, 5786, 2418, 2677, 2578, 3002, 3010, 3863, 5713, 676, 3615, 103, 4079, 3677, 2567, 2564, 281, 2488, 1461, 5856, 3093, 516, 5485, 647, 1298, 3689, 5067, 2415, 4661, 6046, 3463, 3775, 5123, 2417, 3531, 6274, 6019, 445, 764, 4561, 1958, 4318, 3464, 4601, 2738, 134, 1909, 1022, 2995, 3978, 4956, 2654, 4504, 806, 693, 3621, 4421, 4823, 3801, 884, 4514, 4403, 6188, 6243, 6493, 4423, 1997, 916, 5078, 3158, 6536, 3737, 4691, 5626, 4267, 113, 2327, 5227, 1897, 4983, 3477, 4389, 2813, 3774, 2192, 5233, 5195, 2745, 1410, 4132, 3371, 3976, 3865, 858, 1190, 4571, 4555, 137, 5457, 4106, 4719, 2428, 715, 2836, 3663, 3890, 2076, 455, 6387, 3026, 1544, 3328, 5189, 3496, 1445, 289, 5324, 5440, 2123, 4522, 3023, 930, 1652, 4439, 4224, 4992, 3758, 6174, 4239, 4008, 4588, 2089, 873, 4899, 3873, 4270, 887, 890, 6125, 1988, 770, 2999, 3756, 546, 707, 2174, 4157, 3086, 4374, 4800, 2690, 4602, 3426, 1426, 4764, 3164, 2426, 5599, 3192, 6251, 5008, 5777, 5268, 6013, 3911, 2409, 3809, 6080, 1273, 3773, 2902, 1913, 5062, 2859, 1354, 1774, 4245, 2937, 4070, 1296, 868, 4236, 2577, 2882, 6189, 4554, 2579, 4368, 3553, 4543, 5383, 5479, 6217, 959, 3131, 1441, 2746, 5862, 3543, 201, 3995, 552, 3355, 3128, 3149, 2470, 388, 3708, 5527, 3404, 2106, 1811, 5276, 3694, 6460, 214, 4780, 5465, 206, 5209, 6523, 3566, 1168, 2032, 643, 2881, 4995, 4689, 5098, 929, 3852, 4929, 3611, 5368, 1110, 6293, 1670, 6182, 264, 207, 1790, 4825, 160, 2557, 5685, 277, 2965, 3292, 5093, 3912, 4798, 4218, 3228, 3478, 6081, 1680, 1762, 2942, 4771, 4953, 4142, 4708, 6360, 2446, 3100, 5869, 5638, 4223, 4722, 6163, 4398, 3731, 775, 1049, 2006, 1924, 2361, 1120, 5215, 4727, 4936, 4957, 6056, 5720, 263, 228, 1812, 1115, 4703, 4092, 316, 3572, 4803, 2609, 3008, 1616, 3479, 5687, 4135, 5388, 2406, 2853, 5593, 671, 3229, 5796, 4419, 321, 109, 1568, 2405, 3398, 4231, 4250, 1453, 4812, 2781, 1738, 1429, 3126, 802, 5783, 3939, 4343, 6413, 3752, 1082, 4705, 5379, 4133, 5948, 597, 3169, 5437, 1610, 1838, 3660, 5148, 6126, 4830, 2092, 6320, 4974, 393, 2319, 1269, 2036, 6246, 2014, 3378, 3497, 1845, 4797, 1349, 2931, 6198, 1251, 3186, 4495, 6156, 1281, 1751, 1749, 4404, 1264, 4858, 5203, 2910, 4208, 4331, 5673, 1267, 5935, 888, 1287, 6220, 5436, 1368, 5025, 4799, 6254, 4473, 1162, 4916, 4470, 5972, 2158, 3294, 5467, 1486, 1457, 952, 5039, 6039, 3369, 2356, 4178, 4043, 2777, 1835, 3880, 2563, 1489, 3130, 291, 2766, 5389, 4806, 436, 3266, 3121, 876, 2865, 2608, 4811, 3751, 6333, 6498, 1132, 6115, 6031, 315, 4565, 3654, 2090, 3829, 5533, 3396, 1086, 2724, 6487, 5928, 4414, 484, 2807, 3366, 4542, 5438, 5866, 2357, 5031, 5651, 3258, 5339, 458, 1599, 6384, 1922, 4104, 562, 1744, 1321, 6131, 4994, 2114, 3766, 2659, 3346, 1416, 3455, 749, 526, 1186, 1099, 5596, 3098, 2649, 4300, 2085, 115, 5229, 2159, 318, 4930, 6443, 3735, 3123, 4896, 2062, 3981, 4982, 4884, 2442, 3883, 3575, 4831, 4166, 3846, 4173, 77, 2643, 1526, 3963, 1249, 102, 2169, 5848, 4261, 3077, 1194, 4966, 21, 283, 5210, 6023, 2438, 1051, 3948, 2256, 5365, 5240, 5384, 127, 3492, 615, 400, 6250, 5755, 1454, 122, 2228, 6173, 5318, 5320, 2854, 4067, 5256, 3264, 3848, 2852, 2559, 344, 2344, 5239, 727, 5930, 441, 2309, 2765, 151, 6025, 3802, 6268, 2367, 2321, 5426, 6526, 538, 3502, 2432, 6330, 5942, 5597, 6508, 4143, 1949, 763, 6201, 1014, 1369, 4968, 2116, 5238, 6502, 2027, 4225, 1353, 370, 1910, 1611, 3217, 4220, 6190, 754, 1113, 4369, 432, 4783, 2774, 4996, 4711, 136, 4412, 6458, 1104, 5038, 3433, 4482, 2504, 6422, 3399, 3545, 1737, 2805, 3834, 713, 3989, 5439, 6549, 3930, 1134, 1542, 1686, 3790, 224, 4663, 4852, 6535, 433, 1855, 1256, 2227, 6521, 1255, 4069, 5795, 1935, 1532, 5897, 3156, 6368, 2152, 2478, 1455, 375, 3386, 3006, 4233, 3845, 4869, 37, 2731, 559, 2313, 2528, 3003, 3255, 3979, 4188, 4406, 5432, 3592, 3218, 4668, 4148, 2416, 4551, 2505, 3577, 3699, 1179, 1853, 6091, 4254, 5812, 2302, 3547, 2718, 4168, 3171, 1343, 1244, 402, 5650, 1651, 4544, 2277, 2695, 3317, 238, 4629, 6461, 4732, 4160, 668, 2860, 4765, 3717, 30, 3980, 4297, 6285, 5281, 66, 3286, 3304, 4978, 3670, 2844, 2424, 5994, 63, 4110, 6124, 1414, 1172, 15, 4076, 4972, 5402, 4235, 2614, 513, 4822, 4539, 4014, 2112, 1834, 5847, 2768, 2759, 3249, 2647, 6202, 5366, 3681, 2940, 2345, 5951, 4517, 2581, 4905, 4402, 3711, 504, 6494, 2435, 460, 3909, 1545, 4485, 75, 1492, 2204, 380, 4304, 6275, 5766, 4915, 1906, 1033, 1257, 1517, 4519, 1173, 4867, 4098, 5919, 6454, 4117, 3260, 3206, 6356, 3137, 4357, 1090, 591, 6138, 791, 67, 4853, 5310, 1174, 541, 2946, 4669, 3639, 687, 3287, 1785, 6371, 2333, 4405, 5054, 2061, 4111, 599, 6383, 3992, 4527, 6086, 5298, 5634, 6187, 3680, 5055, 3853, 915, 3833, 5978, 2661, 5151, 4461, 2140, 34, 5152, 1169, 128, 3465, 3659, 5933, 3215, 3534, 133, 3720, 5510, 4055, 4090, 857, 6496, 1996, 4976, 457, 5767, 116, 6089, 6495, 1747, 4351, 3742, 1933, 3762, 5183, 3891, 2612, 2960, 213, 6416, 1511, 2035, 2095, 5950, 5022, 4171, 4483, 3799, 2270, 485, 5180, 5697, 33, 5049, 2572, 4170, 6334, 2448, 3962, 5377, 5028, 4739, 3808, 3643, 6357, 6414, 1239, 5722, 5358, 933, 4234, 3481, 4749, 4934, 1992, 1683, 5511, 6451, 4175, 5301, 1484, 3718, 5779, 4881, 4950, 6010, 3307, 5999, 3009, 5570, 5392, 2497, 4054, 4040, 3435, 3162, 2926, 4813, 5517, 5889, 2816, 5776, 6304, 353, 6178, 1079, 5750, 4615, 5838, 401, 3999, 1248, 4610, 928, 3935, 199, 2249, 1100, 1372, 1905, 4879, 5266, 194, 1741, 3134, 5021, 2007, 5475, 5805, 3441, 6077, 2402, 2002, 4819, 3332, 4448, 6133, 5394, 674, 3494, 2811, 3133, 4048, 2516, 1262, 2734, 38, 4127, 6541, 752, 4568, 2307, 3784, 3823, 5390, 47, 2104, 960, 2574, 302, 6514, 4310, 3442, 3202, 6437, 2408, 3882, 3336, 2188, 3683, 585, 3277, 2905, 5016, 4748, 4238, 1378, 4249, 5308, 2096, 2838, 3415, 5072, 431, 5880, 3340, 5340, 5875, 2599, 6129, 4532, 3486, 1095, 2509, 210, 5887, 4194, 5470, 1093, 1987, 1324, 5732, 4609, 5680, 4453, 4322, 5287, 3861, 1181, 5958, 5851, 2633, 2812, 4927, 551, 968, 429, 6090, 2182, 3242, 3760, 6439, 148, 3457, 5513, 3250, 1021, 5966, 2019, 2735, 2815, 2571, 6501, 5472, 2237, 6107, 4296, 632, 2063, 1874, 6092, 967, 1450, 3594, 1180, 1851, 4817, 3858, 5914, 1367, 3703, 6176, 4743, 233, 4832, 6327, 4185, 4385, 2186, 5598, 1109, 3297, 4197, 6239, 2024, 2139, 356, 6249, 3886, 3541, 2655, 5858, 3734, 1864, 5759, 3046, 4118, 2338, 297, 4607, 4388, 1209, 1739, 2241, 3308, 5282, 2549, 4933, 3565, 2808, 3101, 53, 2401, 1521, 479, 2990, 4028, 3233, 3757, 3219, 1912, 5561, 5881, 6466, 4497, 2721, 6278, 2845, 3374, 4529, 2189, 1941, 6480, 5228, 5473, 2693, 2551, 4251, 4444, 4951, 3855, 3698, 1848, 6032, 5633, 6166, 2391, 2916, 5044, 3697, 6079, 5206, 5705, 1285, 2779, 689, 589, 2662, 2897, 1539, 702, 2794, 4964, 2254, 3139, 4362, 2575, 635, 3142, 1934, 2475, 6374, 4781, 4718, 5023, 1693, 725, 5797, 1742, 4365, 587, 2712, 2029, 3919, 2834, 2070, 800, 4770, 5343, 4186, 4769, 322, 6181, 1770, 6142, 6262, 1901, 5297, 4646, 4134, 3272, 3536, 1706, 2351, 3251, 2717, 6542, 4163, 1658, 1978, 1991, 721, 50, 2728, 1982, 5421, 4750, 3189, 2472, 6168, 3011, 1097, 5763, 4559, 1984, 5790, 6372, 2486, 2383, 6441, 6256, 3395, 5808, 3924, 2639, 1870, 1348, 1200, 4082, 4061, 5837, 4949, 1185, 6008, 1288, 3148, 1124, 2670, 2658, 1625, 426, 2921, 114, 3062, 3840, 3403, 3284, 6428, 5237, 3344, 3632, 3806, 1278, 4415, 3042, 5602, 5064, 4437, 5551, 1509, 6219, 856, 3473, 5535, 2185, 557, 4815, 854, 3475, 14, 1112, 1406, 3804, 3276, 5877, 4901, 1165, 1661, 3257, 6054, 5929, 2756, 221, 1589, 3506, 157, 5849, 4066, 6481, 6097, 787, 3707, 3604, 6177, 2830, 4904, 2906, 3293, 220, 4352, 2278, 1602, 2833, 2672, 1417, 2848, 4212, 5609, 2466, 2179, 2493, 4252, 3166, 4204, 2691, 3927, 4987, 3263, 6380, 3037, 4216, 3960, 536, 3830, 5782, 4311, 2312, 685, 5536, 2586, 3603, 6402, 1418, 3063, 6486, 2068, 1755, 3466, 1456, 2700, 5806, 443, 1533, 5126, 6522, 2719, 3933, 4598, 78, 6224, 6033, 4737, 2510, 2193, 4326, 6412, 1580, 4114, 3990, 4046, 6263, 3932, 3904, 4877, 3986, 808, 5176, 4847, 3941, 1447, 135, 4226, 5348, 4452, 5647, 4206, 6337, 1534, 1356, 2195, 3538, 4154, 2685, 1570, 2099, 5627, 5354, 6014, 3213, 4330, 4627, 1459, 2091, 3424, 1847, 5406, 3713, 1163, 4027, 3205, 3204, 794, 5975, 5957, 5345, 1689, 2743, 3408, 6085, 1682, 4808, 2109, 4688, 2348, 5549, 4467, 5618, 4107, 2481, 1188, 6323, 966, 4305, 3908, 4058, 1044, 2968, 4807, 3372, 6015, 2425, 2064, 5400, 5362, 5550, 5564, 4928, 6049, 1164, 2238, 5670, 2252, 2943, 4911, 6093, 5709, 1926, 3356, 1284, 4393, 3947, 2431, 1519, 5883, 1013, 2155, 292, 4323, 5066, 624, 1161, 5590, 6078, 2084, 3602, 2652, 789, 6098, 6518, 6287, 3796, 1736, 4056, 1709, 100, 389, 4364, 3954, 6159, 4876, 3019, 691, 3754, 6026, 2519, 2165, 2850, 6410, 3814, 5050, 3309, 5120, 3945, 268, 267, 3379, 2602, 514, 2775, 2288, 3744, 1192, 2335, 5026, 1900, 3650, 396, 3106, 1205, 6170, 3926, 677, 3647, 6112, 2082, 6207, 3327, 613, 2026, 1024, 4271, 2240, 2515, 995, 1734, 3290, 1425, 1707, 3234, 3407, 6457, 453, 4606, 555, 6415, 2384, 288, 161, 226, 1839, 5508, 369, 863, 6208, 3043, 3084, 5307, 2121, 1366, 4849, 3431, 4057, 5157, 1460, 2877, 5641, 3688, 6109, 4772, 5882, 4735, 724, 4621, 2795, 3781, 6401, 3676, 4612, 32, 5695, 5704, 1214, 2275, 1496, 6197, 4888, 2038, 5524, 639, 4456, 6292, 602, 2674, 3259, 2410, 1297, 1294, 2388, 3512, 2343, 3692, 3141, 3591, 1530, 4309, 2751, 3038, 1697, 4424, 1464, 839, 865, 6528, 925, 1008, 3015, 3558, 2828, 4986, 2201, 229, 1843, 6104, 1583, 2523, 2858, 4846, 4700, 4870, 1657, 424, 2427, 4050, 4490, 5456, 4184, 2060, 5130, 5963, 1837, 1037, 5316, 1019, 2824, 1525, 312, 2748, 16, 2110, 2632, 2301, 5559, 1954, 6433, 1953, 1342, 2164, 2039, 2441, 3850, 5200, 3616, 1131, 1258, 3474, 4624, 6361, 1945, 3447, 1579, 6444, 5444, 5344, 6367, 2162, 5010, 2148, 1083, 3489, 2016, 2268, 6543, 19, 3163, 1648, 1813, 3500, 4209, 4131, 3956, 6000, 2492, 1280, 3624, 2616, 5791, 2119, 5469, 1994, 5222, 1704, 4302, 3039, 4024, 2011, 2245, 3237, 4724, 3349, 366, 4350, 2644, 4410, 2138, 2962, 4422, 2818, 1702, 5219, 6505, 1510, 294, 4335, 2056, 4039, 5682, 2443, 3064, 1078, 2892, 565, 1005, 939, 539, 2657, 4378, 1671, 223, 2631, 1336, 2113, 5221, 6036, 1817, 6532, 3459, 845, 795, 1346, 3252, 6185, 2552, 644, 1116, 5873, 4793, 3146, 5173, 4140, 6400, 2160, 1667, 5893, 667, 4993, 6375, 712, 365, 2329, 3180, 227, 761, 1020, 4587, 751, 5376, 2261, 3821, 2553, 1076, 124, 3598, 3755, 4017, 4025, 397, 3619, 5138, 5619, 5319, 5037, 6247, 6211, 5218, 6507, 298, 5476, 209, 3967, 2349, 2733, 4875, 5109, 2566, 3311, 3358, 464, 6435, 5997, 3112, 951, 5586, 2993, 521, 1814, 1585, 4713, 348, 97, 6445, 2243, 5199, 3998, 3394, 5518, 1543, 4651, 2629, 3389, 4156, 4003, 5834, 2474, 4814, 4312, 772, 435, 2893, 1182, 3800, 4967, 5775, 2103, 2471, 6515, 1452, 5053, 3559, 3511, 710, 3879, 4400, 782, 777, 5702, 5962, 4851, 6355, 382, 5325, 132, 5131, 2191, 3623, 1259, 1668, 3563, 6242, 6117, 2154, 1178, 5683, 5541, 5562, 914, 6491, 6016, 5601, 1039, 2797, 2494, 2713, 2726, 3310, 4262, 5629, 3429, 4035, 444, 5137, 4072, 3341, 5754, 783, 6005, 596, 560, 1948, 3461, 1286, 3501, 6266, 5669, 4370, 5973, 6024, 5230, 3425, 6028, 5810, 5835, 1980, 1030, 4975, 4948, 3365, 1858, 1597, 6158, 345, 3759, 1031, 1260, 2876, 234, 4864, 1846, 4097, 5636, 5110, 4083, 2236, 219, 535, 4433, 5977, 5970, 5771, 4752, 3753, 2793, 1735, 4710, 4810, 3859, 3517, 3210, 4766, 4658, 4695, 20, 4316, 5061, 4299, 2467, 3871, 4762, 616, 2394, 4202, 1245, 3622, 2981, 6221, 3570, 5397, 118, 6094, 1017, 6196, 2758, 3178, 2604, 285, 5603, 3828, 6096, 961, 4259, 949, 4002, 6335, 4449, 4211, 1977, 756, 1101, 2503, 1084, 835, 1338, 4599, 3549, 2570, 3812, 5350, 4741, 946, 3476, 5035, 2233, 2598, 5752, 159, 1329, 2582, 5885, 2888, 383, 1692, 5756, 4290, 509, 2477, 5964, 543, 4697, 4914, 3273, 4227, 3970, 3671, 2173, 953, 2202, 3314, 3400, 1119, 964, 450, 1412, 1403, 2970, 1275, 107, 1103, 3073, 1323, 4243, 2306, 4386, 195, 2825, 3610, 3313, 2316, 2801, 4614, 5092, 2688, 4866, 5567, 2770, 4729, 1512, 2588, 269, 1731, 917, 6041, 2973, 4013, 2449, 1975, 1894, 1760, 3609, 786, 3449, 4526, 3763, 943, 3832, 1340, 2839, 5529, 5594, 1341, 2253, 4786, 515, 5727, 1614, 563, 3951, 2331, 4640, 5105, 4575, 6018, 3001, 2814, 6273, 3248, 4196, 3423, 3629, 2895, 2273, 1012, 4824, 2031, 3973, 2823, 5177, 2514, 709, 6193, 5293, 3329, 510, 2098, 833, 3428, 4628, 1497, 4471, 4785, 874, 5772, 3881, 4037, 2387, 1786, 6021, 6452, 2222, 384, 439, 1334, 4578, 6255, 2453, 5205, 2573, 2955, 2857, 6259, 6305, 5100, 2034, 1930, 4464, 4608, 5271, 2436, 932, 59, 6132, 3383, 6550, 3764, 4619, 306, 2507, 5302, 45, 774, 4679, 4372, 4909, 5876, 3789, 4725, 2330, 2694, 4454, 3467, 2400, 522, 3574, 1002, 6114, 3679, 6002, 1865, 3508, 4359, 1087, 4416, 1111, 2175, 3333, 508, 3552, 5504, 3532, 3646, 769, 4717, 3109, 203, 6431, 1326, 2525, 6527, 1339, 4534, 6503, 4279, 3827, 2603, 5954, 4744, 4751, 2635, 4690, 5995, 6338, 2832, 5429, 395, 4353, 4706, 626, 3244, 3675, 4639, 3020, 354, 6106, 438, 1373, 4883, 3645, 5646, 6369, 189, 6328, 1761, 2263, 3391, 5212, 6519, 4524, 6172, 2284, 1250, 3551, 2272, 2105, 1649, 3914, 4152, 5141, 4715, 4112, 2778, 4172, 3822, 4341, 2650, 79, 6082, 3537, 5555, 5710, 5649, 4804, 6438, 971, 1571, 1931, 5133, 638, 4130, 1732, 1773, 3221, 803, 198, 1819, 6294, 1939, 5433, 5269, 482, 2271, 3413, 2548, 768, 4763, 5103, 4176, 3187, 1627, 5696, 636, 4303, 3937, 558, 4158, 5841, 4818, 1606, 3869, 3357, 1730, 1875, 5175, 4145, 590, 4647, 3518, 3913, 1363, 178, 1593, 1603, 3049, 2932, 26, 6468, 531, 2229, 4476, 5711, 4075, 258, 3993, 2320, 4149, 3984, 1821, 1242, 3047, 468, 6099, 6386, 355, 392, 49, 1815, 618, 2829, 5693, 6405, 3896, 2171, 3110, 4946, 1077, 1405, 193, 4897, 4246, 6381, 5718, 2710, 3427, 4409, 2769, 6012, 862, 5799, 4088, 3453, 1028, 5020, 1404, 4123, 3028, 2326, 6297, 5382, 4141, 6406, 1776, 1765, 4192, 4036, 197, 3943, 3899, 3776, 6539, 2903, 1434, 6164, 2167, 4068, 2522, 1408, 6464, 809, 3299, 2911, 1048, 3053, 3765, 367, 6379, 5097, 1915, 2008, 1402, 5932, 454, 4655, 1507, 4845, 6053, 1127, 6141, 23, 2097, 1857, 5483, 4857, 4146, 5714, 2851, 4790, 3562, 719, 5111, 2803, 469, 4642, 5191, 279, 2001, 3922, 3696, 1428, 5553, 3254, 853, 6534, 2144, 2000, 6017, 6467, 3326, 6436, 2203, 208, 3652, 878, 682, 5723, 5506, 4776, 5587, 5051, 1381, 313, 275, 4694, 1050, 4376, 6540, 6423, 3183, 123, 2153, 2925, 2234, 3958, 2757, 4280, 3421, 3050, 4274, 1656, 6484, 1107, 1816, 1999, 4289, 1540, 2404, 3667, 5112, 1659, 1872, 4680, 2469, 4455, 2593, 634, 73, 1440, 3320, 3191, 5814, 4113, 4794, 456, 2353, 3167, 1032, 4834, 3347, 1015, 1089, 6349, 4714, 3359, 2963, 5468, 5349, 4827, 1283, 5616, 4228, 4997, 3469, 5381, 2640, 4395, 5631, 1832, 4977, 4721, 6513, 1699, 108, 6205, 3634, 2547, 3884, 403, 2246, 6130, 4383, 4586, 5042, 2597, 3997, 970, 2922, 2762, 4015, 5520, 4773, 290, 4355, 1841, 4985, 842, 3209, 2994, 5557, 1443, 6376, 3016, 6332, 4712, 5844, 452, 1598, 4692, 2607, 5201, 3265, 3813, 3269, 2433, 4087, 2741, 669, 5159, 5204, 5925, 4709, 3785, 3323, 60, 5811, 3588, 553, 293, 276, 1045, 3022, 2226, 5015, 4213, 4494, 4085, 1023, 5374, 3749, 4394, 4538, 3521, 2898, 3887, 1590, 5091, 5955, 1376, 373, 1743, 919, 2190, 3318, 5435, 4375, 2325, 759, 2178, 2956, 3527, 5283, 5145, 5455, 3331, 935, 3682, 4063, 1371, 6548, 3586, 5836, 4502, 4367, 1436, 36, 1767, 3691, 4566, 1350, 1576, 4597, 3657, 2267, 4222, 6135, 3155, 2403, 4392, 3456, 6048, 3498, 4707]\n",
      "val ids:  [442, 459, 5538, 5556, 704, 3618, 1899, 1594, 5528, 6052, 434, 5124, 185, 3826, 232, 3874, 4723, 867, 1038, 2676, 4095, 5286, 5719, 2176, 3957, 4942, 1431, 1105, 1566, 5612, 4187, 2562, 5225, 104, 1575, 2517, 5113, 5751, 309, 2699, 4381, 1653, 841, 13, 2646, 2938, 4445, 5477, 3450, 3870, 1010, 4277, 1347, 1733, 527, 3561, 2913, 6119, 51, 6137, 5264, 381, 1018, 4150, 805, 4525, 3325, 3076, 430, 5211, 2986, 1675, 1617, 2262, 4269, 5128, 2971, 954, 2887, 1784, 3642, 5464, 3270, 2398, 3071, 4637, 2675, 5065, 6136, 2511, 5717, 5369, 5728, 640, 5703, 843, 6295, 1527, 1595, 1591, 3546, 2161, 807, 6291, 2232, 71, 4162, 5075, 6042, 4971, 5521, 4557, 3040, 4746, 3761, 4045, 3296, 5568, 4332, 5428, 3291, 1628, 4356, 362, 6214, 2958, 6510, 5395, 1026, 6485, 1936, 158, 1586, 6490, 451, 2917, 1703, 5949, 3515, 5789, 2641, 1052, 1665, 6302, 1423, 314, 4366, 2976, 4518, 4363, 4774, 1676, 1849, 4943, 463, 5614, 2220, 5214, 5303, 5193, 5385, 762, 4782, 1515, 2561, 3824, 4844, 2761, 5372, 6087, 1380, 2890, 4596, 5917, 6269, 5454, 4256, 1121, 70, 3376, 1047, 5405, 5154, 5174, 923, 311, 3554, 5311, 5891, 2346, 6456, 2592, 5431, 4443, 1184, 5449, 5943, 3581, 156, 3056, 5516, 4029, 4932, 5632, 3241, 4387, 4418, 628, 776, 3811, 609, 5147, 781, 1951, 3482, 3416, 304, 5458, 1660, 3170, 2987, 5446, 5272, 4137, 3983, 4459, 1957, 5677, 6448, 3664, 307, 5312, 5857, 1655, 2665, 2947, 2754, 4988, 5565, 4286, 6350, 5815, 3052, 6342, 3013, 5615, 4913, 5305, 5356, 2753, 3088, 5161, 2555, 5463, 2919, 3387, 956, 5613, 963, 883, 4329, 1754, 187, 4073, 5425, 2484, 2678, 3168, 5488, 1983, 1567, 886, 2696, 1485, 2959, 627, 1001, 3295, 3727, 2251, 1246, 2115, 1029, 5234, 196, 5679, 5018, 358, 3722, 3542, 5144, 3836, 2323, 2628, 633, 4169, 3661, 2817, 5896, 3185, 5208, 4654, 4436, 4317, 4545, 5451, 5181, 4908, 566, 2396, 3411, 5116, 4242, 4276, 2451, 6222, 1681, 4889, 2637, 5546, 2118, 3972, 6267, 994, 3225, 1825, 3555, 5396, 4320, 2698, 1740, 6284, 2989, 4447, 5260, 517, 3740, 3901, 1772, 3239, 3810, 1757, 2434, 2003, 1006, 2142, 3674, 4562, 6110, 2611, 2073, 637, 1506, 3367, 5600, 6200, 6343, 2568, 3097, 364, 5032, 237, 3721, 511, 4005, 4450, 6546, 119, 4384, 2880, 2480, 936, 3856, 1204, 3637, 1189, 1596, 1508, 4411, 3499, 5188, 5554, 3448, 3375, 1928, 4492, 239, 2749, 2482, 6199, 5689, 2257, 3864, 1351, 3483, 3875, 474, 55, 4998, 5231, 1826, 4702, 5403, 145, 5127, 2479, 3509, 1011, 837, 4931, 4199, 3495, 1701, 5262, 4064, 3243, 1444, 6347, 126, 728, 5371, 5543, 4912, 2030, 1862, 4012, 447, 1040, 3316, 2067, 3587, 191, 5523, 3024, 5706, 2407, 1763, 1420, 1175, 3715, 5605, 2884, 3514, 940, 2107, 965, 1620, 4325, 44, 2358, 29, 6511, 4696, 2529, 5132, 2576, 3041, 2668, 999, 6544, 68, 1907, 5675, 4636, 3613, 1513, 3439, 533, 184, 3658, 5884, 2679, 4307, 242, 6095, 595, 2697, 4007, 5855, 5526, 5190, 4659, 3303, 5279, 4291, 425, 2059, 5610, 3599, 6009, 3275, 2199, 6276, 2727, 4288, 2452, 3798, 1622, 282, 2591, 697, 4632, 3091, 3605, 2711, 2730, 4792, 2287, 2550, 1947, 4486, 394, 4457, 6427, 4062, 4273, 3712, 462, 969, 35, 4390, 2149, 6111, 1908, 3440, 5441, 5512, 4201, 5277, 5378, 5194, 1587, 5934, 5674, 4503, 3631, 3946, 6516, 437, 5359, 4217, 5452, 3964, 4826, 3684, 1504, 5774, 4139, 4855, 6001, 3377, 1748, 1820, 941, 6509, 449, 4730, 5052, 4244, 3065, 1370, 1607, 3223, 1361, 5367, 753, 1536, 4736, 3144, 1514, 475, 1170, 1893, 2359, 4894, 5785, 5864, 5792, 6206, 3350, 46, 678, 2879, 1374, 4902, 2255, 4653, 3436, 5158, 852, 4174, 4301, 1604, 43, 5853, 5202, 1771, 4053, 3302, 4094, 1927, 5257, 5941, 139, 913, 5235, 5443, 4282, 4047, 4898, 3014, 934, 5784, 2015, 2849, 72, 714, 5102, 3090, 4617, 2530, 2065, 6264, 3695, 6139, 3726, 153, 5207, 5672, 4641, 3723, 4080, 6300, 1577, 3585, 4613, 5870, 5291, 6530, 3738, 3917, 3027, 5927, 1411, 1362, 295, 4528, 3745, 2368, 472, 2729, 4662, 1793, 2605, 3418, 503, 1828, 2022, 1261, 1437, 1822, 3584, 1034, 3321, 4645, 1623, 529, 54, 5482, 1208, 4521, 2982, 2483, 6351, 3173, 2304, 4891, 1211, 5886, 4507, 3305, 6258, 3262, 1903, 1516, 5952, 4105, 4034, 3590, 1528, 4391, 4970, 4650, 4979, 4284, 3452, 3055, 6289, 3104, 3018, 4214, 4965, 5009, 2714, 922, 1098, 4589, 3069, 3866, 1046, 155, 3736, 5059, 5317, 4961, 5323, 141, 3458, 2615, 5117, 5715, 3687, 140, 5448, 3288, 2496, 5729, 1917, 4241, 4796, 3838, 6194, 3719, 2183, 1920, 5447, 525, 4496, 6378, 386, 2810, 3136, 4860, 1921, 2569, 2318, 4962, 152, 5070, 5920, 1600, 3312, 4549, 204, 4560, 700, 6419, 1108, 1535, 6345, 4863, 5347, 2021, 1268, 2274, 2143, 3152, 6426, 623, 2648, 4215, 1842, 3557, 3788, 2198, 4354, 4533, 4523, 6169, 6281, 2392, 1035, 3792, 1043, 2075, 2656, 5265, 2518, 3885, 6240, 1171, 872, 1613, 448, 5288, 801, 851, 629, 3319, 1985, 2247, 4484, 6529, 5765, 2755, 2150, 722, 6195, 211, 5753, 2259, 2983, 1711, 5106, 5635, 2985, 5118, 3087, 179, 880, 6103, 6050, 231, 5531, 5442, 3633, 3283, 2266, 6165, 3544, 6465, 4059, 3364, 56, 2904, 3893, 5480, 1538, 18, 5063, 6324, 4687, 3640, 4984, 4315, 129, 2889, 3905, 5698, 1094, 5558, 5393, 3769, 3709, 4742, 779, 3226, 996, 4434, 3653, 3739, 27, 871, 4441, 1529, 3007, 5341, 1491, 2531, 4600, 3298, 1955, 473, 1158, 4506, 5863, 5387, 130, 1792, 5606, 6432, 3051, 64, 2752, 6462, 3124, 5160, 24, 797, 1929, 3733, 1759, 6463, 1524, 4144, 5859, 5471, 5916, 6122, 4257, 3597, 5764, 3245, 2923, 4625, 5014, 4616, 5198, 2935, 4221, 4435, 3767, 6134, 5716, 6353, 750, 271, 3710, 2147, 6538, 1950, 4685, 3096, 3354, 361, 5185, 3519, 2689, 998, 4873, 593, 3256, 3092, 588, 5346, 6030, 2524, 4051, 997, 938, 5996, 1337, 6373, 6418, 5242, 1650, 1574, 4938, 4633, 2944, 5643, 6162, 1263, 1925, 5921, 5398, 5217, 3339, 537, 4573, 2265, 5961, 317, 3528, 1289, 3343, 2352, 379, 3061, 532, 1830, 1783, 4681, 1167, 2411, 1327, 3716, 3207, 4720, 670, 31, 1282, 3820, 1990, 347, 4989, 5563, 5306, 6385, 5423, 1582, 3334, 4379, 6326, 6499, 150, 2399, 5422, 1976, 3111, 4339, 1695, 5534, 1612, 1213, 2847, 3176, 1993, 48, 2957, 4337, 1377, 3143, 1355, 2945, 2560, 3067, 5915, 5261, 4052, 1769, 1364, 4313, 757, 287, 368, 3414, 4805, 1856, 5692, 80, 5895, 5027, 25, 1981, 4990, 4203, 4865, 1605, 1096, 3928, 3235, 3969, 5285, 3953, 1203, 270, 4126, 3057, 3748, 461, 6140, 1201, 4572, 1619, 4125, 2101, 773, 3406, 542, 6446, 2354, 4779, 2037, 2556, 4071, 621, 3805, 6203, 6483, 3589, 3651, 6404, 1946, 3906, 6537, 4728, 877, 6286, 5936, 6318, 5146, 1694, 2991, 3952, 2239, 5801, 1588, 5639, 2221, 4745, 3472, 3706, 2831, 2187, 5108, 4466, 4210, 6533, 3074, 4910, 4960, 3227, 5069, 1684, 4667, 5361, 3188, 2681, 889, 2687, 3655, 4801, 5182, 3385, 3628, 1687, 5671, 550, 4516, 5539, 885, 5134, 5813, 4731, 630, 5758, 470, 2722, 1691, 4161, 4829, 2978, 4408, 5607, 6265, 4937, 6341, 1183, 5153, 4164, 4030, 834, 6421, 6364, 5275, 1778, 5045, 74, 5450, 1608, 4138, 5946, 2912, 6210, 6059, 5760, 2792, 5077, 2796, 1923, 1867, 2072, 5033, 2827, 1895, 106, 3150, 2682, 4859, 1537, 2023, 5514, 3505, 5595, 3849, 4747, 2512, 1601, 5840, 2997, 1122, 2535, 5894, 4670, 6102, 2664, 4579, 4153, 3955, 3925, 2447, 771, 619, 2111, 2364, 861, 1274, 2988, 387, 3105, 6121, 6363, 5944, 5401, 2393, 3025, 3662, 3530, 860, 2279, 3994, 1678, 1518, 1654, 3996, 2013, 2594, 3127, 3430, 6051, 1427, 3747, 2613, 110, 1196, 6482, 4693, 4283, 147, 2395, 1344, 875, 2837, 4778, 105, 5522, 5258, 5119, 4531, 5803, 6325, 4078, 235, 6430, 4981, 4644, 931, 6354, 4474, 1952, 5338, 3352, 5040, 205, 98, 6408, 3368, 225, 2584, 296, 1914, 6040, 4656, 2996, 5096, 5399, 4006, 5591, 4553, 3211, 642, 554, 5589, 6237, 3029, 422, 2720, 6215, 6171, 4885, 5721, 3724, 4116, 6083, 2513, 2610, 2666, 6365, 5434, 3236, 2901, 3787, 2891, 3405, 5068, 4886, 4626, 5648, 2108, 5798, 5843, 240, 4460, 1944, 3147, 65, 6506, 672, 548, 274, 4417, 3837, 2445, 4010, 1898, 3174, 5622, 2969, 4479, 2508, 592, 2822, 2686, 5179, 1998, 3179, 4442, 4550, 1522, 5625, 723, 4380, 1863, 798, 3224, 6127, 427, 694, 3409, 4880, 3181, 3807, 5048, 3165, 1216, 2885, 3184, 5701, 4294, 4604, 5223, 4620, 5652, 2918, 5922, 3129, 28, 4809, 2146, 3583, 3601, 3985, 3895, 6128, 404, 2527, 603, 4081, 2878, 3915, 2826, 5474, 912, 3702, 1365, 5136, 154, 523, 1573, 5800, 2532, 3306, 2739, 2276, 2506, 112, 5761, 6411, 5787, 5370, 594, 5315, 4552, 3159, 4530, 3484, 1766, 3571, 1253, 1876, 601, 3337, 2303, 303, 1042, 2177, 2170, 1861, 2750, 216, 3831, 5017, 2028, 22, 6223, 617, 3844, 101, 5532, 284, 1270, 3373, 2489, 260, 1781, 2896, 3635, 950, 4032, 1007, 6358, 2723, 3122, 5678, 5295, 2841, 5357, 2366, 5509, 2194, 1448, 6282, 390, 924, 3190, 3182, 2875, 3569, 378, 5099, 6179, 4440, 4816, 2269, 3094, 2732, 5299, 4102, 1442, 5852, 5537, 4784, 5056, 3564, 1106, 849, 2961, 4570, 2692, 1375, 606, 3977, 1333, 4438, 1626, 4546, 1674, 5547, 5487, 3261, 3851, 1871, 5842, 5373, 869, 1500, 1036, 4458, 6299, 2081, 2017, 2328, 2264, 2389, 5773, 5708, 1932, 690, 3815, 2314, 5294, 2558, 5290, 4623, 5024, 1902, 5947, 3593, 1829, 149, 2663, 3907, 4136, 2308, 5459, 3274, 4952, 3410, 1016, 2521, 3253, 3987, 3381, 614, 1569, 4498, 1177, 5404, 6283, 6245, 2317, 5041, 3468, 4605, 4630, 6440, 1615, 5296, 4128, 1126, 5604, 286, 1868, 5588, 3938, 2683, 1004, 350, 2310, 5628, 6512, 6161, 5566, 5888, 4293, 3392, 3641, 3665, 3522, 99, 6060, 4648, 6058, 5642, 5030, 2671, 5960, 4583, 1673, 3729, 2984, 1133, 625, 5313, 645, 143, 4868, 2231, 844, 3282, 5585, 4535, 799, 1276, 765, 5807, 3107, 2764, 398, 1345, 2224, 793, 927, 4287, 1768, 830, 4882, 3803, 2223, 1191, 3078, 3535, 2979, 718, 6261, 2490, 1247, 673, 3208, 6047, 785, 4334, 1989, 2776, 2780, 3644, 4193, 5542, 4328, 5707, 4698, 1995, 6366, 3322, 5998, 465, 6547, 3910, 3743, 5976, 622, 215, 5890, 1789, 2715, 1415, 4167, 2413, 3070, 6105, 2565, 3959, 4478, 758, 4574, 4581, 5878, 142, 1688, 2286, 3783, 2465, 5867, 6377, 780, 3625, 2122, 944, 3693, 2914, 3529, 1756, 3021, 3705, 478, 5391, 962, 3085, 58, 183, 1027, 1698, 4278, 5668, 4848, 5095, 391, 5129, 4413, 918, 2324, 4871, 646, 3988, 4041, 1435, 4541, 1918, 2966, 4935, 2342, 3231, 6525, 1357, 5778, 4795, 2071, 3942, 3485, 561, 6116, 6409, 2334, 4954, 2163, 5304, 711, 3054, 96, 376, 5274, 4129, 547, 4582, 3462, 2684, 3125, 5363, 1919, 2485, 2079, 5263, 4189, 1666, 2763, 3576, 1206, 3975, 5868, 374, 6545, 6489, 1091, 3876, 4906, 5114, 2005, 3894, 3872, 586, 5486, 6450, 272, 4963, 3451, 3048, 6003, 3923, 1710, 4120, 5019, 5104, 399, 62, 1128, 2800, 720, 5592, 4874, 3965, 3857, 6492, 3516, 631, 544, 6118, 1572, 5270, 2798, 5871, 5676, 2856, 4275, 1123, 6027, 695, 4321, 3120, 2861, 4361, 2601, 4540, 726, 1873, 4940, 4205, 6329, 1854, 5461, 3580, 5690, 4230, 3777, 2058, 3268, 2080, 3044, 2998, 2835, 4477, 3177, 5196, 5430, 767, 4004, 4907, 2385, 4767, 2930, 323, 3974, 5804, 1758, 512, 684, 4465, 1584, 3791, 958, 1663, 942, 4031, 2473, 3578, 308, 5861, 2355, 3422, 6184, 3175, 1463, 4973, 3704, 6213, 4577, 2430, 6346, 4298, 4515, 3151, 4475, 1782, 4652, 607, 300, 351, 3401, 6006, 1696, 52, 3289, 69, 3841, 301, 3271, 5445, 1325, 371, 3238, 349, 4664, 4327, 6252, 6037, 686, 4833, 4850, 5058, 2883, 4505, 2094, 1292, 1117, 4955, 3843, 836, 4049, 3649, 3267, 5122, 1911, 5839, 4548, 608, 131, 3247, 2630, 3920, 3520, 3579, 1130, 3432, 2250, 4074, 4584, 4253, 5187, 1788, 4159, 921, 2009, 3916, 6277, 5278, 947, 6303, 5794, 1979, 1708, 4000, 2933, 6004, 688, 4426, 2336, 2363, 428, 4397, 1679, 125, 1791, 3627, 1451, 3630, 4622, 4190, 4268, 1937, 3847, 683, 6449, 5351, 5342, 1322, 477, 1494, 3816, 4969, 4665, 1102, 4001, 4893, 1129, 3005, 5224, 3900, 2936, 6257, 4939, 3491, 3138, 5352, 1458, 2181, 3648, 3730, 1359, 3966, 2057, 5267, 4042, 2197, 5466, 3504, 3835, 4033, 5292, 4861, 181, 2606, 3862, 1212, 4446, 4462, 5150, 2864, 6045, 4657, 5872, 2282, 5121, 5076, 6370, 4472, 6424, 4021, 4903, 6359, 340, 3725, 4686, 5226, 4958, 3889, 5213, 2078, 3949, 4854, 3108, 2977, 3216, 2225, 1746, 2362, 5101, 3072, 4333, 4493, 4026, 363, 61, 5850, 6244, 2909, 6157, 3145, 1621, 790, 2025, 1413, 703, 2874, 5845, 4285, 4564, 5854, 5314, 176, 3961, 4775, 2421, 423, 2012, 5184, 1118, 2804, 5686, 5149, 5186, 2086, 505, 3797, 5142, 1986, 2166, 2102, 5071, 1197, 1210, 6290, 6319, 6075, 1690, 2004, 1291, 4165, 1293, 1432, 4281, 4463, 3556, 2151, 3246, 4941, 2168, 1003, 1279, 3285, 466, 4399, 3004, 6288, 1779, 926, 3384, 2534, 3600, 3686, 5757, 3397, 5505, 4547, 2975, 864, 3897, 506, 186, 3778, 4699, 1290, 1487, 4862, 5644, 4122, 2964, 3548, 6399, 2799, 3083, 3157, 2350, 2744, 2907, 5241, 5548, 5924, 6022, 5937, 5637, 5781, 4038, 6186, 4635, 3315, 881, 2772, 111, 2412, 6011, 1159, 4177, 3903, 1439, 3203, 1938, 1114, 1252, 1419, 4093, 6192, 6241, 1187, 2501, 1831, 5762, 144, 1523, 4631, 2499, 866, 217, 2281, 3968, 3573, 180, 1672, 6270, 549, 3868, 5484, 832, 3560, 1827, 5322, 5724, 2397, 2069, 6322, 5645, 4828, 3193, 3728, 3017, 1085, 5125, 3390, 2285, 2077, 3931, 1685, 3089, 3446, 598, 3818, 5197, 6191, 5321, 611, 5953, 2157, 4603, 4044, 5273, 6296, 4567, 1520, 4683, 2929, 3971, 3201, 4115, 2018, 1438, 2283, 4084, 2235, 2386, 2642, 641, 3617, 3068, 1422, 4576, 3877, 4777, 1243, 3135, 792, 3082, 2773, 471, 6238, 3902, 5094, 3668, 3471, 1505, 5073, 2908, 3507, 6301, 1407, 5178, 4537, 1904, 481, 1609, 177, 1859, 1777, 2487, 5057, 2595, 6339, 3678, 4684, 1750, 717, 1379, 1449, 6218, 4207, 1503, 1493, 2653, 3081, 1299, 3672, 5617, 5525, 17, 2156, 4292, 5284, 6272, 1490, 4179, 2088, 534, 6348, 2583, 4926, 2554, 1433, 2737, 524, 4468, 3842, 3746, 3490, 1009, 2066, 6520, 2725, 2315, 1424, 3324, 4520, 3786, 2141, 299, 2244, 2495, 2332, 5833, 2939, 3533, 3782, 188, 3342, 5733, 4585, 3685, 1446, 1360, 681, 3513, 117, 3771, 5874, 4103, 3102, 4569, 261, 6344, 6279, 222, 6044, 696, 5918, 1266, 1409, 507, 2444, 5107, 1669, 6403, 5699, 305, 5560, 4945, 6007, 3867, 3419, 4258, 5036, 3402, 4119, 266, 6084, 2636, 6531, 385, 6088, 847, 4382, 5892, 3493, 320, 5809, 3345, 3750, 3172, 3819, 6120, 3768, 2886, 2370, 1896, 5481, 2533, 6108, 4237, 2846, 5155, 957, 2802, 182, 190, 3839, 6453, 5364, 5611, 2634, 1430, 528, 5731, 3161, 236, 2423, 4563, 2747, 6517, 4396, 1745, 1943, 6442, 2992, 5135, 5730, 4432, 352, 2437, 3388, 2083, 4425, 2347, 5139, 6298, 4634, 3539, 6425, 342, 2894, 4147, 855, 1546, 377, 1844, 1488, 6035, 1271, 2941, 5462, 5768, 3596, 4618, 870, 692, 3638, 1824, 6216, 1352, 2915, 2476, 2821, 2172, 202, 3417, 5974, 5192, 4195, 2422, 3119, 1088, 2585, 1498, 1295, 1358, 4077, 4666, 2927, 5621, 1578, 5681, 265, 1331, 1195, 4856, 4065, 5846, 4716, 6382, 5926, 2117, 1823, 5427, 4248, 5569, 5156, 4060, 5012, 6248, 3012, 4198, 4229, 6524, 1176, 2010, 545, 2429, 706, 610, 3612, 1869, 5047, 4487, 1916, 4023, 2033, 2771, 5243, 3301, 57, 359, 4191, 4788, 3488, 2305, 6417, 2742, 5968, 5478, 2819, 2184, 6160, 4499, 2645, 6043, 2093, 6034, 3656, 4200, 3438, 766, 4947, 3066, 3154, 5769, 6038, 848, 3550, 5515, 5143, 4638, 4489, 2651, 4295, 6167, 3794, 4232, 4124, 5289, 6055, 530, 2322, 4091, 2502, 1501, 3793, 5967, 2967, 5280, 212, 1942, 4469, 3059, 2928, 6175, 4480, 4895, 5530, 4704, 4377, 6123, 846, 5879, 4944, 2587, 1254, 4878, 5913, 2145, 1581, 2669, 6029, 341, 556, 1332, 4734, 3817, 2934, 6331, 1852, 4121, 1764, 1215, 1265, 3335, 2491, 5503, 6253, 4109, 1956, 1092, 1850, 2782, 5624, 2468, 2365, 5115, 5216, 446, 273, 1081, 6362, 3888, 6209, 5309, 4247, 5965, 3487, 1502, 1421, 5453, 4501, 3382, 2248, 3626, 3214, 3420, 192, 5544, 4481, 476, 6469, 6429, 76, 2450, 620, 3230, 699, 4451, 3454, 1541, 564, 882, 2439, 2862, 2806, 5971, 4789, 2767, 859, 3353, 5232, 3470, 3132, 540, 259, 5353, 755, 5519, 42, 5360, 4407, 1025, 1753, 4096, 3338, 5939, 319, 1277, 4319, 3982, 4151, 3079, 2087, 804, 4108, 3944, 3099, 3370, 4155, 1198, 4611, 95, 5923, 6212, 6551, 4556, 4324, 2414, 1272, 4726, 1664, 518, 3348, 2242, 2196, 6434, 6113, 4491, 679, 2258, 3779, 2809, 3606, 5608, 1041, 5013, 5802, 1624, 3330, 838, 4872, 796, 955, 480, 3232, 4371, 5043, 4338, 6504, 2230, 3222, 4401, 3412, 2589, 5694, 3103, 5726, 4991, 6183, 2205, 3673, 4738, 945, 5011, 4022, 3991, 343, 3669, 5832, 3075, 1775, 1787, 4802, 3212, 1328, 3666, 3892, 1166, 3582, 357, 1833, 5029, 4336, 6321, 2863, 1531, 346, 4358, 6271, 2074, 5725, 4887, 3921, 230, 2843, 3351, 5046, 612, 3929, 3701, 4272, 1662, 3567, 3153, 3934, 3732, 6488, 6497, 3878, 5545, 831, 467, 1330, 5507, 4349, 5552, 5630, 4255, 605, 3595, 310, 5034, 1836, 4086]\n",
      "test ids:  [0, 1, 2, 3, 4, 5, 6, 7, 8, 9, 10, 11, 12, 40, 81, 82, 83, 84, 85, 86, 87, 88, 89, 90, 91, 92, 93, 94, 120, 162, 163, 164, 165, 166, 167, 168, 169, 170, 171, 172, 173, 174, 175, 200, 243, 244, 245, 246, 247, 248, 249, 250, 251, 252, 253, 254, 255, 256, 257, 280, 324, 325, 326, 327, 328, 329, 330, 331, 332, 333, 334, 335, 336, 337, 338, 339, 360, 405, 406, 407, 408, 409, 410, 411, 412, 413, 414, 415, 416, 417, 418, 419, 420, 421, 440, 486, 487, 488, 489, 490, 491, 492, 493, 494, 495, 496, 497, 498, 499, 500, 501, 502, 520, 567, 568, 569, 570, 571, 572, 573, 574, 575, 576, 577, 578, 579, 580, 581, 582, 583, 584, 600, 648, 649, 650, 651, 652, 653, 654, 655, 656, 657, 658, 659, 660, 661, 662, 663, 664, 665, 666, 680, 729, 730, 731, 732, 733, 734, 735, 736, 737, 738, 739, 740, 741, 742, 743, 744, 745, 746, 747, 748, 760, 810, 811, 812, 813, 814, 815, 816, 817, 818, 819, 820, 821, 822, 823, 824, 825, 826, 827, 828, 829, 840, 891, 892, 893, 894, 895, 896, 897, 898, 899, 900, 901, 902, 903, 904, 905, 906, 907, 908, 909, 910, 911, 920, 972, 973, 974, 975, 976, 977, 978, 979, 980, 981, 982, 983, 984, 985, 986, 987, 988, 989, 990, 991, 992, 993, 1000, 1053, 1054, 1055, 1056, 1057, 1058, 1059, 1060, 1061, 1062, 1063, 1064, 1065, 1066, 1067, 1068, 1069, 1070, 1071, 1072, 1073, 1074, 1075, 1080, 1135, 1136, 1137, 1138, 1139, 1140, 1141, 1142, 1143, 1144, 1145, 1146, 1147, 1148, 1149, 1150, 1151, 1152, 1153, 1154, 1155, 1156, 1160, 1217, 1218, 1219, 1220, 1221, 1222, 1223, 1224, 1225, 1226, 1227, 1228, 1229, 1230, 1231, 1232, 1233, 1234, 1235, 1236, 1237, 1238, 1240, 1300, 1301, 1302, 1303, 1304, 1305, 1306, 1307, 1308, 1309, 1310, 1311, 1312, 1313, 1314, 1315, 1316, 1317, 1318, 1319, 1320, 1382, 1383, 1384, 1385, 1386, 1387, 1388, 1389, 1390, 1391, 1392, 1393, 1394, 1395, 1396, 1397, 1398, 1399, 1400, 1401, 1465, 1466, 1467, 1468, 1469, 1470, 1471, 1472, 1473, 1474, 1475, 1476, 1477, 1478, 1479, 1480, 1481, 1482, 1483, 1547, 1548, 1549, 1550, 1551, 1552, 1553, 1554, 1555, 1556, 1557, 1558, 1559, 1560, 1561, 1562, 1563, 1564, 1565, 1629, 1630, 1631, 1632, 1633, 1634, 1635, 1636, 1637, 1638, 1639, 1640, 1641, 1642, 1643, 1644, 1645, 1646, 1647, 1700, 1712, 1713, 1714, 1715, 1716, 1717, 1718, 1719, 1720, 1721, 1722, 1723, 1724, 1725, 1726, 1727, 1728, 1780, 1794, 1795, 1796, 1797, 1798, 1799, 1800, 1801, 1802, 1803, 1804, 1805, 1806, 1807, 1808, 1809, 1810, 1860, 1877, 1878, 1879, 1880, 1881, 1882, 1883, 1884, 1885, 1886, 1887, 1888, 1889, 1890, 1891, 1892, 1940, 1959, 1960, 1961, 1962, 1963, 1964, 1965, 1966, 1967, 1968, 1969, 1970, 1971, 1972, 1973, 1974, 2020, 2040, 2041, 2042, 2043, 2044, 2045, 2046, 2047, 2048, 2049, 2050, 2051, 2052, 2053, 2054, 2055, 2100, 2120, 2124, 2125, 2126, 2127, 2128, 2129, 2130, 2131, 2132, 2133, 2134, 2135, 2136, 2137, 2180, 2200, 2206, 2207, 2208, 2209, 2210, 2211, 2212, 2213, 2214, 2215, 2216, 2217, 2218, 2219, 2260, 2280, 2289, 2290, 2291, 2292, 2293, 2294, 2295, 2296, 2297, 2298, 2299, 2300, 2340, 2360, 2371, 2372, 2373, 2374, 2375, 2376, 2377, 2378, 2379, 2380, 2381, 2382, 2420, 2440, 2454, 2455, 2456, 2457, 2458, 2459, 2460, 2461, 2462, 2463, 2464, 2500, 2520, 2536, 2537, 2538, 2539, 2540, 2541, 2542, 2543, 2544, 2545, 2546, 2580, 2600, 2618, 2619, 2620, 2621, 2622, 2623, 2624, 2625, 2626, 2627, 2660, 2680, 2701, 2702, 2703, 2704, 2705, 2706, 2707, 2708, 2709, 2740, 2760, 2783, 2784, 2785, 2786, 2787, 2788, 2789, 2790, 2791, 2820, 2840, 2866, 2867, 2868, 2869, 2870, 2871, 2872, 2873, 2900, 2920, 2948, 2949, 2950, 2951, 2952, 2953, 2954, 2980, 3000, 3030, 3031, 3032, 3033, 3034, 3035, 3036, 3060, 3080, 3113, 3114, 3115, 3116, 3117, 3118, 3140, 3160, 3195, 3196, 3197, 3198, 3199, 3200, 3220, 3240, 3278, 3279, 3280, 3281, 3300, 3360, 3361, 3362, 3363, 3380, 3443, 3444, 3445, 3460, 3525, 3526, 3540, 3607, 3608, 3620, 3690, 3700, 3772, 3780, 3854, 3860, 3936, 3940, 4018, 4019, 4020, 4099, 4100, 4101, 4180, 4181, 4182, 4183, 4260, 4263, 4264, 4265, 4266, 4340, 4345, 4346, 4347, 4348, 4420, 4427, 4428, 4429, 4430, 4431, 4500, 4508, 4509, 4510, 4511, 4512, 4513, 4580, 4590, 4591, 4592, 4593, 4594, 4595, 4660, 4672, 4673, 4674, 4675, 4676, 4677, 4678, 4740, 4753, 4754, 4755, 4756, 4757, 4758, 4759, 4760, 4820, 4835, 4836, 4837, 4838, 4839, 4840, 4841, 4842, 4843, 4900, 4917, 4918, 4919, 4920, 4921, 4922, 4923, 4924, 4925, 4980, 4999, 5000, 5001, 5002, 5003, 5004, 5005, 5006, 5007, 5060, 5080, 5081, 5082, 5083, 5084, 5085, 5086, 5087, 5088, 5089, 5090, 5140, 5162, 5163, 5164, 5165, 5166, 5167, 5168, 5169, 5170, 5171, 5172, 5220, 5244, 5245, 5246, 5247, 5248, 5249, 5250, 5251, 5252, 5253, 5254, 5255, 5300, 5326, 5327, 5328, 5329, 5330, 5331, 5332, 5333, 5334, 5335, 5336, 5337, 5380, 5407, 5408, 5409, 5410, 5411, 5412, 5413, 5414, 5415, 5416, 5417, 5418, 5419, 5420, 5460, 5489, 5490, 5491, 5492, 5493, 5494, 5495, 5496, 5497, 5498, 5499, 5500, 5501, 5502, 5540, 5571, 5572, 5573, 5574, 5575, 5576, 5577, 5578, 5579, 5580, 5581, 5582, 5583, 5584, 5620, 5653, 5654, 5655, 5656, 5657, 5658, 5659, 5660, 5661, 5662, 5663, 5664, 5665, 5666, 5667, 5700, 5734, 5735, 5736, 5737, 5738, 5739, 5740, 5741, 5742, 5743, 5744, 5745, 5746, 5747, 5748, 5749, 5780, 5816, 5817, 5818, 5819, 5820, 5821, 5822, 5823, 5824, 5825, 5826, 5827, 5828, 5829, 5830, 5831, 5860, 5898, 5899, 5900, 5901, 5902, 5903, 5904, 5905, 5906, 5907, 5908, 5909, 5910, 5911, 5912, 5940, 5979, 5980, 5981, 5982, 5983, 5984, 5985, 5986, 5987, 5988, 5989, 5990, 5991, 5992, 5993, 6020, 6061, 6062, 6063, 6064, 6065, 6066, 6067, 6068, 6069, 6070, 6071, 6072, 6073, 6074, 6100, 6143, 6144, 6145, 6146, 6147, 6148, 6149, 6150, 6151, 6152, 6153, 6154, 6155, 6180, 6225, 6226, 6227, 6228, 6229, 6230, 6231, 6232, 6233, 6234, 6235, 6236, 6260, 6306, 6307, 6308, 6309, 6310, 6311, 6312, 6313, 6314, 6315, 6316, 6317, 6340, 6388, 6389, 6390, 6391, 6392, 6393, 6394, 6395, 6396, 6397, 6398, 6420, 6470, 6471, 6472, 6473, 6474, 6475, 6476, 6477, 6478, 6479, 6500, 6552, 6553, 6554, 6555, 6556, 6557, 6558, 6559, 6560]\n",
      "CPU times: user 152 ms, sys: 24 ms, total: 176 ms\n",
      "Wall time: 175 ms\n"
     ]
    }
   ],
   "source": [
    "%%time\n",
    "n_total = len(simulation.dataframe)\n",
    "n_train = len(simulation.dataframe[simulation.dataframe.type_of == \"train\"])\n",
    "n_val = len(simulation.dataframe[simulation.dataframe.type_of == \"val\"])\n",
    "n_test = len(simulation.dataframe[simulation.dataframe.type_of == \"test\"])\n",
    "n_train_hamiltonians = len(simulation.train_ids)\n",
    "n_val_hamiltonians = len(simulation.val_ids)\n",
    "n_test_hamiltonians = len(simulation.test_ids)\n",
    "n_total_hamiltonians = n_train_hamiltonians + n_val_hamiltonians + n_test_hamiltonians\n",
    "\n",
    "print(\"% train: \", n_train/n_total)\n",
    "print(\"% val: \",  n_val/n_total)\n",
    "print(\"% test: \", n_test/n_total)\n",
    "print(\"% train + val + test: \", (n_train+n_val+n_test)/n_total)\n",
    "print(\"\\n\")\n",
    "print(\"number of train hamiltonians: \", n_train_hamiltonians)\n",
    "print(\"number of val hamiltonians: \", n_val_hamiltonians)\n",
    "print(\"number of test hamiltonians: \", n_test_hamiltonians)\n",
    "print(\"total number of hamiltonians: \", n_total_hamiltonians)\n",
    "print(\"\\n\")\n",
    "print(\"train ids: \", simulation.train_ids)\n",
    "print(\"val ids: \", simulation.val_ids)\n",
    "print(\"test ids: \", simulation.test_ids)"
   ]
  },
  {
   "cell_type": "markdown",
   "metadata": {
    "papermill": {
     "duration": 0.034997,
     "end_time": "2020-07-09T10:33:55.716488",
     "exception": false,
     "start_time": "2020-07-09T10:33:55.681491",
     "status": "completed"
    },
    "tags": []
   },
   "source": [
    "#### Checking summaries"
   ]
  },
  {
   "cell_type": "code",
   "execution_count": 27,
   "metadata": {
    "execution": {
     "iopub.execute_input": "2020-07-09T10:33:55.788917Z",
     "iopub.status.busy": "2020-07-09T10:33:55.788602Z",
     "iopub.status.idle": "2020-07-09T10:33:55.808395Z",
     "shell.execute_reply": "2020-07-09T10:33:55.807931Z"
    },
    "papermill": {
     "duration": 0.056743,
     "end_time": "2020-07-09T10:33:55.808465",
     "exception": false,
     "start_time": "2020-07-09T10:33:55.751722",
     "status": "completed"
    },
    "tags": []
   },
   "outputs": [
    {
     "name": "stdout",
     "output_type": "stream",
     "text": [
      "length of ham_summary:  6561\n",
      "CPU times: user 100 µs, sys: 0 ns, total: 100 µs\n",
      "Wall time: 57 µs\n"
     ]
    },
    {
     "data": {
      "text/html": [
       "<div>\n",
       "<style scoped>\n",
       "    .dataframe tbody tr th:only-of-type {\n",
       "        vertical-align: middle;\n",
       "    }\n",
       "\n",
       "    .dataframe tbody tr th {\n",
       "        vertical-align: top;\n",
       "    }\n",
       "\n",
       "    .dataframe thead th {\n",
       "        text-align: right;\n",
       "    }\n",
       "</style>\n",
       "<table border=\"1\" class=\"dataframe\">\n",
       "  <thead>\n",
       "    <tr style=\"text-align: right;\">\n",
       "      <th></th>\n",
       "      <th>t1</th>\n",
       "      <th>t2</th>\n",
       "      <th>type_of</th>\n",
       "      <th>-1</th>\n",
       "      <th>0</th>\n",
       "      <th>1</th>\n",
       "      <th>2</th>\n",
       "      <th>phase</th>\n",
       "      <th>pred_phase</th>\n",
       "    </tr>\n",
       "    <tr>\n",
       "      <th>id</th>\n",
       "      <th></th>\n",
       "      <th></th>\n",
       "      <th></th>\n",
       "      <th></th>\n",
       "      <th></th>\n",
       "      <th></th>\n",
       "      <th></th>\n",
       "      <th></th>\n",
       "      <th></th>\n",
       "    </tr>\n",
       "  </thead>\n",
       "  <tbody>\n",
       "    <tr>\n",
       "      <th>0</th>\n",
       "      <td>-2.0</td>\n",
       "      <td>-2.00</td>\n",
       "      <td>test</td>\n",
       "      <td>0.24</td>\n",
       "      <td>0.41</td>\n",
       "      <td>0.13</td>\n",
       "      <td>0.22</td>\n",
       "      <td>999</td>\n",
       "      <td>0</td>\n",
       "    </tr>\n",
       "    <tr>\n",
       "      <th>1</th>\n",
       "      <td>-2.0</td>\n",
       "      <td>-1.95</td>\n",
       "      <td>test</td>\n",
       "      <td>0.25</td>\n",
       "      <td>0.43</td>\n",
       "      <td>0.09</td>\n",
       "      <td>0.23</td>\n",
       "      <td>-1</td>\n",
       "      <td>0</td>\n",
       "    </tr>\n",
       "    <tr>\n",
       "      <th>2</th>\n",
       "      <td>-2.0</td>\n",
       "      <td>-1.90</td>\n",
       "      <td>test</td>\n",
       "      <td>0.22</td>\n",
       "      <td>0.42</td>\n",
       "      <td>0.10</td>\n",
       "      <td>0.26</td>\n",
       "      <td>-1</td>\n",
       "      <td>0</td>\n",
       "    </tr>\n",
       "    <tr>\n",
       "      <th>3</th>\n",
       "      <td>-2.0</td>\n",
       "      <td>-1.85</td>\n",
       "      <td>test</td>\n",
       "      <td>0.26</td>\n",
       "      <td>0.40</td>\n",
       "      <td>0.13</td>\n",
       "      <td>0.21</td>\n",
       "      <td>-1</td>\n",
       "      <td>0</td>\n",
       "    </tr>\n",
       "    <tr>\n",
       "      <th>4</th>\n",
       "      <td>-2.0</td>\n",
       "      <td>-1.80</td>\n",
       "      <td>test</td>\n",
       "      <td>0.28</td>\n",
       "      <td>0.32</td>\n",
       "      <td>0.22</td>\n",
       "      <td>0.18</td>\n",
       "      <td>-1</td>\n",
       "      <td>0</td>\n",
       "    </tr>\n",
       "    <tr>\n",
       "      <th>...</th>\n",
       "      <td>...</td>\n",
       "      <td>...</td>\n",
       "      <td>...</td>\n",
       "      <td>...</td>\n",
       "      <td>...</td>\n",
       "      <td>...</td>\n",
       "      <td>...</td>\n",
       "      <td>...</td>\n",
       "      <td>...</td>\n",
       "    </tr>\n",
       "    <tr>\n",
       "      <th>6556</th>\n",
       "      <td>2.0</td>\n",
       "      <td>1.80</td>\n",
       "      <td>test</td>\n",
       "      <td>0.49</td>\n",
       "      <td>0.17</td>\n",
       "      <td>0.03</td>\n",
       "      <td>0.31</td>\n",
       "      <td>-1</td>\n",
       "      <td>-1</td>\n",
       "    </tr>\n",
       "    <tr>\n",
       "      <th>6557</th>\n",
       "      <td>2.0</td>\n",
       "      <td>1.85</td>\n",
       "      <td>test</td>\n",
       "      <td>0.49</td>\n",
       "      <td>0.17</td>\n",
       "      <td>0.05</td>\n",
       "      <td>0.29</td>\n",
       "      <td>-1</td>\n",
       "      <td>-1</td>\n",
       "    </tr>\n",
       "    <tr>\n",
       "      <th>6558</th>\n",
       "      <td>2.0</td>\n",
       "      <td>1.90</td>\n",
       "      <td>test</td>\n",
       "      <td>0.48</td>\n",
       "      <td>0.15</td>\n",
       "      <td>0.03</td>\n",
       "      <td>0.34</td>\n",
       "      <td>-1</td>\n",
       "      <td>-1</td>\n",
       "    </tr>\n",
       "    <tr>\n",
       "      <th>6559</th>\n",
       "      <td>2.0</td>\n",
       "      <td>1.95</td>\n",
       "      <td>test</td>\n",
       "      <td>0.45</td>\n",
       "      <td>0.15</td>\n",
       "      <td>0.07</td>\n",
       "      <td>0.33</td>\n",
       "      <td>-1</td>\n",
       "      <td>-1</td>\n",
       "    </tr>\n",
       "    <tr>\n",
       "      <th>6560</th>\n",
       "      <td>2.0</td>\n",
       "      <td>2.00</td>\n",
       "      <td>test</td>\n",
       "      <td>0.41</td>\n",
       "      <td>0.19</td>\n",
       "      <td>0.05</td>\n",
       "      <td>0.35</td>\n",
       "      <td>999</td>\n",
       "      <td>-1</td>\n",
       "    </tr>\n",
       "  </tbody>\n",
       "</table>\n",
       "<p>6561 rows × 9 columns</p>\n",
       "</div>"
      ],
      "text/plain": [
       "       t1    t2 type_of    -1     0     1     2  phase  pred_phase\n",
       "id                                                                \n",
       "0    -2.0 -2.00    test  0.24  0.41  0.13  0.22    999           0\n",
       "1    -2.0 -1.95    test  0.25  0.43  0.09  0.23     -1           0\n",
       "2    -2.0 -1.90    test  0.22  0.42  0.10  0.26     -1           0\n",
       "3    -2.0 -1.85    test  0.26  0.40  0.13  0.21     -1           0\n",
       "4    -2.0 -1.80    test  0.28  0.32  0.22  0.18     -1           0\n",
       "...   ...   ...     ...   ...   ...   ...   ...    ...         ...\n",
       "6556  2.0  1.80    test  0.49  0.17  0.03  0.31     -1          -1\n",
       "6557  2.0  1.85    test  0.49  0.17  0.05  0.29     -1          -1\n",
       "6558  2.0  1.90    test  0.48  0.15  0.03  0.34     -1          -1\n",
       "6559  2.0  1.95    test  0.45  0.15  0.07  0.33     -1          -1\n",
       "6560  2.0  2.00    test  0.41  0.19  0.05  0.35    999          -1\n",
       "\n",
       "[6561 rows x 9 columns]"
      ]
     },
     "execution_count": 27,
     "metadata": {},
     "output_type": "execute_result"
    }
   ],
   "source": [
    "%%time\n",
    "ham_summary = simulation.hamiltonian_summary\n",
    "print(\"length of ham_summary: \", len(ham_summary))\n",
    "ham_summary"
   ]
  },
  {
   "cell_type": "code",
   "execution_count": 28,
   "metadata": {
    "execution": {
     "iopub.execute_input": "2020-07-09T10:33:55.882253Z",
     "iopub.status.busy": "2020-07-09T10:33:55.881887Z",
     "iopub.status.idle": "2020-07-09T10:33:55.914011Z",
     "shell.execute_reply": "2020-07-09T10:33:55.913687Z"
    },
    "papermill": {
     "duration": 0.069141,
     "end_time": "2020-07-09T10:33:55.914062",
     "exception": false,
     "start_time": "2020-07-09T10:33:55.844921",
     "status": "completed"
    },
    "tags": []
   },
   "outputs": [
    {
     "data": {
      "text/html": [
       "<div>\n",
       "<style scoped>\n",
       "    .dataframe tbody tr th:only-of-type {\n",
       "        vertical-align: middle;\n",
       "    }\n",
       "\n",
       "    .dataframe tbody tr th {\n",
       "        vertical-align: top;\n",
       "    }\n",
       "\n",
       "    .dataframe thead th {\n",
       "        text-align: right;\n",
       "    }\n",
       "</style>\n",
       "<table border=\"1\" class=\"dataframe\">\n",
       "  <thead>\n",
       "    <tr style=\"text-align: right;\">\n",
       "      <th></th>\n",
       "      <th>t1</th>\n",
       "      <th>t2</th>\n",
       "      <th>-1</th>\n",
       "      <th>0</th>\n",
       "      <th>1</th>\n",
       "      <th>2</th>\n",
       "      <th>phase</th>\n",
       "      <th>pred_phase</th>\n",
       "    </tr>\n",
       "  </thead>\n",
       "  <tbody>\n",
       "    <tr>\n",
       "      <th>count</th>\n",
       "      <td>6561.000000</td>\n",
       "      <td>6.561000e+03</td>\n",
       "      <td>6561.000000</td>\n",
       "      <td>6561.000000</td>\n",
       "      <td>6561.000000</td>\n",
       "      <td>6561.000000</td>\n",
       "      <td>6561.000000</td>\n",
       "      <td>6561.000000</td>\n",
       "    </tr>\n",
       "    <tr>\n",
       "      <th>mean</th>\n",
       "      <td>0.000000</td>\n",
       "      <td>-4.331917e-18</td>\n",
       "      <td>0.186603</td>\n",
       "      <td>0.323166</td>\n",
       "      <td>0.311425</td>\n",
       "      <td>0.178807</td>\n",
       "      <td>28.045877</td>\n",
       "      <td>0.475995</td>\n",
       "    </tr>\n",
       "    <tr>\n",
       "      <th>std</th>\n",
       "      <td>1.169134</td>\n",
       "      <td>1.169134e+00</td>\n",
       "      <td>0.338772</td>\n",
       "      <td>0.422682</td>\n",
       "      <td>0.423584</td>\n",
       "      <td>0.336807</td>\n",
       "      <td>163.557011</td>\n",
       "      <td>1.009593</td>\n",
       "    </tr>\n",
       "    <tr>\n",
       "      <th>min</th>\n",
       "      <td>-2.000000</td>\n",
       "      <td>-2.000000e+00</td>\n",
       "      <td>0.000000</td>\n",
       "      <td>0.000000</td>\n",
       "      <td>0.000000</td>\n",
       "      <td>0.000000</td>\n",
       "      <td>-1.000000</td>\n",
       "      <td>-1.000000</td>\n",
       "    </tr>\n",
       "    <tr>\n",
       "      <th>25%</th>\n",
       "      <td>-1.000000</td>\n",
       "      <td>-1.000000e+00</td>\n",
       "      <td>0.000000</td>\n",
       "      <td>0.000000</td>\n",
       "      <td>0.000000</td>\n",
       "      <td>0.000000</td>\n",
       "      <td>0.000000</td>\n",
       "      <td>0.000000</td>\n",
       "    </tr>\n",
       "    <tr>\n",
       "      <th>50%</th>\n",
       "      <td>0.000000</td>\n",
       "      <td>0.000000e+00</td>\n",
       "      <td>0.000000</td>\n",
       "      <td>0.050000</td>\n",
       "      <td>0.040000</td>\n",
       "      <td>0.000000</td>\n",
       "      <td>1.000000</td>\n",
       "      <td>0.000000</td>\n",
       "    </tr>\n",
       "    <tr>\n",
       "      <th>75%</th>\n",
       "      <td>1.000000</td>\n",
       "      <td>1.000000e+00</td>\n",
       "      <td>0.150000</td>\n",
       "      <td>0.940000</td>\n",
       "      <td>0.920000</td>\n",
       "      <td>0.110000</td>\n",
       "      <td>1.000000</td>\n",
       "      <td>1.000000</td>\n",
       "    </tr>\n",
       "    <tr>\n",
       "      <th>max</th>\n",
       "      <td>2.000000</td>\n",
       "      <td>2.000000e+00</td>\n",
       "      <td>1.000000</td>\n",
       "      <td>1.000000</td>\n",
       "      <td>1.000000</td>\n",
       "      <td>1.000000</td>\n",
       "      <td>999.000000</td>\n",
       "      <td>2.000000</td>\n",
       "    </tr>\n",
       "  </tbody>\n",
       "</table>\n",
       "</div>"
      ],
      "text/plain": [
       "                t1            t2           -1            0            1  \\\n",
       "count  6561.000000  6.561000e+03  6561.000000  6561.000000  6561.000000   \n",
       "mean      0.000000 -4.331917e-18     0.186603     0.323166     0.311425   \n",
       "std       1.169134  1.169134e+00     0.338772     0.422682     0.423584   \n",
       "min      -2.000000 -2.000000e+00     0.000000     0.000000     0.000000   \n",
       "25%      -1.000000 -1.000000e+00     0.000000     0.000000     0.000000   \n",
       "50%       0.000000  0.000000e+00     0.000000     0.050000     0.040000   \n",
       "75%       1.000000  1.000000e+00     0.150000     0.940000     0.920000   \n",
       "max       2.000000  2.000000e+00     1.000000     1.000000     1.000000   \n",
       "\n",
       "                 2        phase   pred_phase  \n",
       "count  6561.000000  6561.000000  6561.000000  \n",
       "mean      0.178807    28.045877     0.475995  \n",
       "std       0.336807   163.557011     1.009593  \n",
       "min       0.000000    -1.000000    -1.000000  \n",
       "25%       0.000000     0.000000     0.000000  \n",
       "50%       0.000000     1.000000     0.000000  \n",
       "75%       0.110000     1.000000     1.000000  \n",
       "max       1.000000   999.000000     2.000000  "
      ]
     },
     "execution_count": 28,
     "metadata": {},
     "output_type": "execute_result"
    }
   ],
   "source": [
    "ham_summary.describe()"
   ]
  },
  {
   "cell_type": "code",
   "execution_count": 29,
   "metadata": {
    "execution": {
     "iopub.execute_input": "2020-07-09T10:33:55.993204Z",
     "iopub.status.busy": "2020-07-09T10:33:55.992877Z",
     "iopub.status.idle": "2020-07-09T10:33:56.007493Z",
     "shell.execute_reply": "2020-07-09T10:33:56.007176Z"
    },
    "papermill": {
     "duration": 0.056348,
     "end_time": "2020-07-09T10:33:56.007545",
     "exception": false,
     "start_time": "2020-07-09T10:33:55.951197",
     "status": "completed"
    },
    "tags": []
   },
   "outputs": [
    {
     "name": "stdout",
     "output_type": "stream",
     "text": [
      "length of ham_summary:  656100\n"
     ]
    },
    {
     "data": {
      "text/html": [
       "<div>\n",
       "<style scoped>\n",
       "    .dataframe tbody tr th:only-of-type {\n",
       "        vertical-align: middle;\n",
       "    }\n",
       "\n",
       "    .dataframe tbody tr th {\n",
       "        vertical-align: top;\n",
       "    }\n",
       "\n",
       "    .dataframe thead th {\n",
       "        text-align: right;\n",
       "    }\n",
       "</style>\n",
       "<table border=\"1\" class=\"dataframe\">\n",
       "  <thead>\n",
       "    <tr style=\"text-align: right;\">\n",
       "      <th></th>\n",
       "      <th>id</th>\n",
       "      <th>phase</th>\n",
       "      <th>pred_phase</th>\n",
       "      <th>type_of</th>\n",
       "    </tr>\n",
       "  </thead>\n",
       "  <tbody>\n",
       "    <tr>\n",
       "      <th>0</th>\n",
       "      <td>0</td>\n",
       "      <td>999</td>\n",
       "      <td>-1</td>\n",
       "      <td>test</td>\n",
       "    </tr>\n",
       "    <tr>\n",
       "      <th>1</th>\n",
       "      <td>0</td>\n",
       "      <td>999</td>\n",
       "      <td>-1</td>\n",
       "      <td>test</td>\n",
       "    </tr>\n",
       "    <tr>\n",
       "      <th>2</th>\n",
       "      <td>0</td>\n",
       "      <td>999</td>\n",
       "      <td>-1</td>\n",
       "      <td>test</td>\n",
       "    </tr>\n",
       "    <tr>\n",
       "      <th>3</th>\n",
       "      <td>0</td>\n",
       "      <td>999</td>\n",
       "      <td>2</td>\n",
       "      <td>test</td>\n",
       "    </tr>\n",
       "    <tr>\n",
       "      <th>4</th>\n",
       "      <td>0</td>\n",
       "      <td>999</td>\n",
       "      <td>0</td>\n",
       "      <td>test</td>\n",
       "    </tr>\n",
       "    <tr>\n",
       "      <th>...</th>\n",
       "      <td>...</td>\n",
       "      <td>...</td>\n",
       "      <td>...</td>\n",
       "      <td>...</td>\n",
       "    </tr>\n",
       "    <tr>\n",
       "      <th>656095</th>\n",
       "      <td>6560</td>\n",
       "      <td>999</td>\n",
       "      <td>2</td>\n",
       "      <td>test</td>\n",
       "    </tr>\n",
       "    <tr>\n",
       "      <th>656096</th>\n",
       "      <td>6560</td>\n",
       "      <td>999</td>\n",
       "      <td>-1</td>\n",
       "      <td>test</td>\n",
       "    </tr>\n",
       "    <tr>\n",
       "      <th>656097</th>\n",
       "      <td>6560</td>\n",
       "      <td>999</td>\n",
       "      <td>-1</td>\n",
       "      <td>test</td>\n",
       "    </tr>\n",
       "    <tr>\n",
       "      <th>656098</th>\n",
       "      <td>6560</td>\n",
       "      <td>999</td>\n",
       "      <td>1</td>\n",
       "      <td>test</td>\n",
       "    </tr>\n",
       "    <tr>\n",
       "      <th>656099</th>\n",
       "      <td>6560</td>\n",
       "      <td>999</td>\n",
       "      <td>1</td>\n",
       "      <td>test</td>\n",
       "    </tr>\n",
       "  </tbody>\n",
       "</table>\n",
       "<p>656100 rows × 4 columns</p>\n",
       "</div>"
      ],
      "text/plain": [
       "          id  phase  pred_phase type_of\n",
       "0          0    999          -1    test\n",
       "1          0    999          -1    test\n",
       "2          0    999          -1    test\n",
       "3          0    999           2    test\n",
       "4          0    999           0    test\n",
       "...      ...    ...         ...     ...\n",
       "656095  6560    999           2    test\n",
       "656096  6560    999          -1    test\n",
       "656097  6560    999          -1    test\n",
       "656098  6560    999           1    test\n",
       "656099  6560    999           1    test\n",
       "\n",
       "[656100 rows x 4 columns]"
      ]
     },
     "execution_count": 29,
     "metadata": {},
     "output_type": "execute_result"
    }
   ],
   "source": [
    "eigen_summary = simulation.eigenvector_summary\n",
    "print(\"length of ham_summary: \", len(eigen_summary))\n",
    "eigen_summary"
   ]
  },
  {
   "cell_type": "markdown",
   "metadata": {
    "papermill": {
     "duration": 0.036252,
     "end_time": "2020-07-09T10:33:56.080151",
     "exception": false,
     "start_time": "2020-07-09T10:33:56.043899",
     "status": "completed"
    },
    "tags": []
   },
   "source": [
    "#### Checking accuracies"
   ]
  },
  {
   "cell_type": "code",
   "execution_count": 30,
   "metadata": {
    "execution": {
     "iopub.execute_input": "2020-07-09T10:33:56.156029Z",
     "iopub.status.busy": "2020-07-09T10:33:56.155447Z",
     "iopub.status.idle": "2020-07-09T10:33:56.165935Z",
     "shell.execute_reply": "2020-07-09T10:33:56.165611Z"
    },
    "papermill": {
     "duration": 0.048925,
     "end_time": "2020-07-09T10:33:56.165987",
     "exception": false,
     "start_time": "2020-07-09T10:33:56.117062",
     "status": "completed"
    },
    "tags": []
   },
   "outputs": [
    {
     "data": {
      "text/plain": [
       "{'eigenvector_train': 0.9994349873234335,\n",
       " 'eigenvector_val': 0.9205471014492753,\n",
       " 'eigenvector_test': 0.539348079161816,\n",
       " 'hamiltonian_train': 1.0,\n",
       " 'hamiltonian_val': 0.9931159420289855,\n",
       " 'hamiltonian_test': 0.8463329452852154}"
      ]
     },
     "execution_count": 30,
     "metadata": {},
     "output_type": "execute_result"
    }
   ],
   "source": [
    "simulation.accuracy"
   ]
  },
  {
   "cell_type": "markdown",
   "metadata": {
    "papermill": {
     "duration": 0.036223,
     "end_time": "2020-07-09T10:33:56.239443",
     "exception": false,
     "start_time": "2020-07-09T10:33:56.203220",
     "status": "completed"
    },
    "tags": []
   },
   "source": [
    "#### Checking data stored in  memory"
   ]
  },
  {
   "cell_type": "code",
   "execution_count": 31,
   "metadata": {
    "execution": {
     "iopub.execute_input": "2020-07-09T10:33:56.317588Z",
     "iopub.status.busy": "2020-07-09T10:33:56.317279Z",
     "iopub.status.idle": "2020-07-09T10:33:56.327570Z",
     "shell.execute_reply": "2020-07-09T10:33:56.327255Z"
    },
    "papermill": {
     "duration": 0.050894,
     "end_time": "2020-07-09T10:33:56.327621",
     "exception": false,
     "start_time": "2020-07-09T10:33:56.276727",
     "status": "completed"
    },
    "tags": []
   },
   "outputs": [
    {
     "data": {
      "text/plain": [
       "[]"
      ]
     },
     "execution_count": 31,
     "metadata": {},
     "output_type": "execute_result"
    }
   ],
   "source": [
    "ham_summary_list = simulation.hamiltonian_summary_list\n",
    "ham_summary_list"
   ]
  },
  {
   "cell_type": "code",
   "execution_count": 32,
   "metadata": {
    "execution": {
     "iopub.execute_input": "2020-07-09T10:33:56.402104Z",
     "iopub.status.busy": "2020-07-09T10:33:56.401797Z",
     "iopub.status.idle": "2020-07-09T10:33:56.411658Z",
     "shell.execute_reply": "2020-07-09T10:33:56.411909Z"
    },
    "papermill": {
     "duration": 0.048412,
     "end_time": "2020-07-09T10:33:56.411975",
     "exception": false,
     "start_time": "2020-07-09T10:33:56.363563",
     "status": "completed"
    },
    "tags": []
   },
   "outputs": [
    {
     "data": {
      "text/plain": [
       "[]"
      ]
     },
     "execution_count": 32,
     "metadata": {},
     "output_type": "execute_result"
    }
   ],
   "source": [
    "eigen_summary_list = simulation.eigenvector_summary_list\n",
    "eigen_summary_list"
   ]
  },
  {
   "cell_type": "code",
   "execution_count": 33,
   "metadata": {
    "execution": {
     "iopub.execute_input": "2020-07-09T10:33:56.490898Z",
     "iopub.status.busy": "2020-07-09T10:33:56.490587Z",
     "iopub.status.idle": "2020-07-09T10:33:56.500867Z",
     "shell.execute_reply": "2020-07-09T10:33:56.500598Z"
    },
    "papermill": {
     "duration": 0.051449,
     "end_time": "2020-07-09T10:33:56.500919",
     "exception": false,
     "start_time": "2020-07-09T10:33:56.449470",
     "status": "completed"
    },
    "tags": []
   },
   "outputs": [
    {
     "data": {
      "text/plain": [
       "{'eigenvector_train': [],\n",
       " 'eigenvector_val': [],\n",
       " 'eigenvector_test': [],\n",
       " 'hamiltonian_train': [],\n",
       " 'hamiltonian_val': [],\n",
       " 'hamiltonian_test': []}"
      ]
     },
     "execution_count": 33,
     "metadata": {},
     "output_type": "execute_result"
    }
   ],
   "source": [
    "accuracy_list = simulation.accuracy_list\n",
    "accuracy_list"
   ]
  },
  {
   "cell_type": "code",
   "execution_count": null,
   "metadata": {
    "papermill": {
     "duration": 0.036871,
     "end_time": "2020-07-09T10:33:56.574442",
     "exception": false,
     "start_time": "2020-07-09T10:33:56.537571",
     "status": "completed"
    },
    "tags": []
   },
   "outputs": [],
   "source": []
  },
  {
   "cell_type": "code",
   "execution_count": null,
   "metadata": {
    "papermill": {
     "duration": 0.039477,
     "end_time": "2020-07-09T10:33:56.651430",
     "exception": false,
     "start_time": "2020-07-09T10:33:56.611953",
     "status": "completed"
    },
    "tags": []
   },
   "outputs": [],
   "source": []
  },
  {
   "cell_type": "code",
   "execution_count": 34,
   "metadata": {
    "execution": {
     "iopub.execute_input": "2020-07-09T10:33:56.727073Z",
     "iopub.status.busy": "2020-07-09T10:33:56.726765Z",
     "iopub.status.idle": "2020-07-09T10:33:56.736464Z",
     "shell.execute_reply": "2020-07-09T10:33:56.736183Z"
    },
    "papermill": {
     "duration": 0.048239,
     "end_time": "2020-07-09T10:33:56.736516",
     "exception": false,
     "start_time": "2020-07-09T10:33:56.688277",
     "status": "completed"
    },
    "tags": []
   },
   "outputs": [],
   "source": [
    "#simulation.fourier_matrix"
   ]
  },
  {
   "cell_type": "code",
   "execution_count": 35,
   "metadata": {
    "execution": {
     "iopub.execute_input": "2020-07-09T10:33:56.816260Z",
     "iopub.status.busy": "2020-07-09T10:33:56.815885Z",
     "iopub.status.idle": "2020-07-09T10:33:56.825637Z",
     "shell.execute_reply": "2020-07-09T10:33:56.825309Z"
    },
    "papermill": {
     "duration": 0.051068,
     "end_time": "2020-07-09T10:33:56.825690",
     "exception": false,
     "start_time": "2020-07-09T10:33:56.774622",
     "status": "completed"
    },
    "tags": []
   },
   "outputs": [],
   "source": [
    "#simulation.fourier_matrix.shape"
   ]
  },
  {
   "cell_type": "code",
   "execution_count": 36,
   "metadata": {
    "execution": {
     "iopub.execute_input": "2020-07-09T10:33:56.901030Z",
     "iopub.status.busy": "2020-07-09T10:33:56.900727Z",
     "iopub.status.idle": "2020-07-09T10:33:56.909705Z",
     "shell.execute_reply": "2020-07-09T10:33:56.909958Z"
    },
    "papermill": {
     "duration": 0.047867,
     "end_time": "2020-07-09T10:33:56.910025",
     "exception": false,
     "start_time": "2020-07-09T10:33:56.862158",
     "status": "completed"
    },
    "tags": []
   },
   "outputs": [],
   "source": [
    "#simulation.fourier_matrix[:,0]"
   ]
  },
  {
   "cell_type": "code",
   "execution_count": 37,
   "metadata": {
    "execution": {
     "iopub.execute_input": "2020-07-09T10:33:56.989999Z",
     "iopub.status.busy": "2020-07-09T10:33:56.989690Z",
     "iopub.status.idle": "2020-07-09T10:33:56.999190Z",
     "shell.execute_reply": "2020-07-09T10:33:56.999492Z"
    },
    "papermill": {
     "duration": 0.051755,
     "end_time": "2020-07-09T10:33:56.999560",
     "exception": false,
     "start_time": "2020-07-09T10:33:56.947805",
     "status": "completed"
    },
    "tags": []
   },
   "outputs": [],
   "source": [
    "#simulation.fourier_matrix[:,1]"
   ]
  },
  {
   "cell_type": "code",
   "execution_count": 38,
   "metadata": {
    "execution": {
     "iopub.execute_input": "2020-07-09T10:33:57.075996Z",
     "iopub.status.busy": "2020-07-09T10:33:57.075690Z",
     "iopub.status.idle": "2020-07-09T10:33:57.085052Z",
     "shell.execute_reply": "2020-07-09T10:33:57.085306Z"
    },
    "papermill": {
     "duration": 0.048326,
     "end_time": "2020-07-09T10:33:57.085374",
     "exception": false,
     "start_time": "2020-07-09T10:33:57.037048",
     "status": "completed"
    },
    "tags": []
   },
   "outputs": [],
   "source": [
    "#np.exp(-1j*2*np.pi*3/100)"
   ]
  },
  {
   "cell_type": "code",
   "execution_count": 39,
   "metadata": {
    "execution": {
     "iopub.execute_input": "2020-07-09T10:33:57.162806Z",
     "iopub.status.busy": "2020-07-09T10:33:57.162496Z",
     "iopub.status.idle": "2020-07-09T10:33:57.172584Z",
     "shell.execute_reply": "2020-07-09T10:33:57.172245Z"
    },
    "papermill": {
     "duration": 0.049533,
     "end_time": "2020-07-09T10:33:57.172637",
     "exception": false,
     "start_time": "2020-07-09T10:33:57.123104",
     "status": "completed"
    },
    "tags": []
   },
   "outputs": [],
   "source": [
    "#for i in range(1,50):\n",
    "#    print(\"\\n\")\n",
    "#    print(i)\n",
    "#    print(np.sum((np.real(simulation.fourier_matrix[:,i]) - np.real(simulation.fourier_matrix[:,-i]))**2))\n",
    "#    print(np.sum((np.imag(simulation.fourier_matrix[:,i])+ np.imag(simulation.fourier_matrix[:,-i]))**2))"
   ]
  },
  {
   "cell_type": "code",
   "execution_count": 40,
   "metadata": {
    "execution": {
     "iopub.execute_input": "2020-07-09T10:33:57.248456Z",
     "iopub.status.busy": "2020-07-09T10:33:57.248139Z",
     "iopub.status.idle": "2020-07-09T10:33:57.335021Z",
     "shell.execute_reply": "2020-07-09T10:33:57.334038Z"
    },
    "papermill": {
     "duration": 0.125529,
     "end_time": "2020-07-09T10:33:57.335194",
     "exception": false,
     "start_time": "2020-07-09T10:33:57.209665",
     "status": "completed"
    },
    "tags": []
   },
   "outputs": [],
   "source": [
    "#print(simulation.fourier_matrix[:,0])"
   ]
  },
  {
   "cell_type": "code",
   "execution_count": 41,
   "metadata": {
    "execution": {
     "iopub.execute_input": "2020-07-09T10:33:57.454269Z",
     "iopub.status.busy": "2020-07-09T10:33:57.453961Z",
     "iopub.status.idle": "2020-07-09T10:33:57.463353Z",
     "shell.execute_reply": "2020-07-09T10:33:57.463078Z"
    },
    "papermill": {
     "duration": 0.049,
     "end_time": "2020-07-09T10:33:57.463405",
     "exception": false,
     "start_time": "2020-07-09T10:33:57.414405",
     "status": "completed"
    },
    "tags": []
   },
   "outputs": [],
   "source": [
    "#print(simulation.fourier_matrix[:,50])"
   ]
  },
  {
   "cell_type": "code",
   "execution_count": null,
   "metadata": {
    "papermill": {
     "duration": 0.037042,
     "end_time": "2020-07-09T10:33:57.537498",
     "exception": false,
     "start_time": "2020-07-09T10:33:57.500456",
     "status": "completed"
    },
    "tags": []
   },
   "outputs": [],
   "source": []
  }
 ],
 "metadata": {
  "celltoolbar": "Tags",
  "kernelspec": {
   "display_name": "ml_top_phases",
   "language": "python",
   "name": "ml_top_phases"
  },
  "language_info": {
   "codemirror_mode": {
    "name": "ipython",
    "version": 3
   },
   "file_extension": ".py",
   "mimetype": "text/x-python",
   "name": "python",
   "nbconvert_exporter": "python",
   "pygments_lexer": "ipython3",
   "version": "3.6.10"
  },
  "papermill": {
   "duration": 1079.958531,
   "end_time": "2020-07-09T10:33:57.684138",
   "environment_variables": {},
   "exception": null,
   "input_path": "0_simulation_template.ipynb",
   "output_path": "zzz_simulation_output_ssh2_2nd_scenario_100_6561.ipynb",
   "parameters": {
    "allowed_windings": [
     -1,
     0,
     1,
     2
    ],
    "csv_path": "/home/rio/ssh_csvs/ssh2/periodic_100_6561.csv",
    "features_to_use": [
     0,
     1,
     2,
     3,
     4,
     5
    ],
    "fit_params": null,
    "fourier_features_to_use": null,
    "fourier_fillna": null,
    "fourier_mode": null,
    "fourier_normalize": null,
    "fourier_real": null,
    "model_kw": {
     "criterion": "entropy",
     "n_estimators": 25,
     "n_jobs": -1
    },
    "model_name": "RandomForestClassifier",
    "n_experiments": 100,
    "pred_params": null,
    "random_features": false,
    "random_state": 93474,
    "save_accuracy": true,
    "save_eigenvector": true,
    "save_hamiltonian": true,
    "save_models": true,
    "shuffle_features": false,
    "shuffle_rows": true,
    "simulation_dir": "/home/rio/ssh_simulations/ssh2/periodic_2nd_scenario_100_6561",
    "start_n": 0,
    "store_in_lists": false,
    "val_split": 0.5
   },
   "start_time": "2020-07-09T10:15:57.725607",
   "version": "2.1.0"
  }
 },
 "nbformat": 4,
 "nbformat_minor": 2
}