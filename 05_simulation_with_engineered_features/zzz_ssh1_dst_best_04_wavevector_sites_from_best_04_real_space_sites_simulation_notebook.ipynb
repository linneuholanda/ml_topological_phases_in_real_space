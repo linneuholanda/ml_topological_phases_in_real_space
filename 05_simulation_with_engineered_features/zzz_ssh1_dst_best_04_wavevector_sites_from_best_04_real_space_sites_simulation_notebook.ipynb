{
 "cells": [
  {
   "cell_type": "markdown",
   "metadata": {
    "papermill": {
     "duration": 0.05655,
     "end_time": "2020-07-18T06:13:40.278350",
     "exception": false,
     "start_time": "2020-07-18T06:13:40.221800",
     "status": "completed"
    },
    "tags": []
   },
   "source": [
    "# Simulation template \n",
    "\n",
    "In this notebook we run the machine learning analysis of topological phase transitions occurring  in both nearest-neighbours SSH models (ssh1) and second neighbours models (ssh2) as decribed in the paper [Machine learning topological phases in real space](https://arxiv.org/abs/1901.01963). Here the simulation is run with features generated from fourier components in the first scenario. This scenario is characterized by using only the EVEN wavevector space eigenmodes, computed from ALL real space components."
   ]
  },
  {
   "cell_type": "markdown",
   "metadata": {
    "papermill": {
     "duration": 0.016889,
     "end_time": "2020-07-18T06:13:40.315550",
     "exception": false,
     "start_time": "2020-07-18T06:13:40.298661",
     "status": "completed"
    },
    "tags": []
   },
   "source": [
    "## Defining parameters"
   ]
  },
  {
   "cell_type": "code",
   "execution_count": 1,
   "metadata": {
    "execution": {
     "iopub.execute_input": "2020-07-18T06:13:40.353050Z",
     "iopub.status.busy": "2020-07-18T06:13:40.352717Z",
     "iopub.status.idle": "2020-07-18T06:13:40.935510Z",
     "shell.execute_reply": "2020-07-18T06:13:40.935767Z"
    },
    "papermill": {
     "duration": 0.603999,
     "end_time": "2020-07-18T06:13:40.935842",
     "exception": false,
     "start_time": "2020-07-18T06:13:40.331843",
     "status": "completed"
    },
    "tags": []
   },
   "outputs": [
    {
     "name": "stdout",
     "output_type": "stream",
     "text": [
      "CPU times: user 754 ms, sys: 267 ms, total: 1.02 s\n",
      "Wall time: 577 ms\n"
     ]
    }
   ],
   "source": [
    "%%time\n",
    "%load_ext autoreload\n",
    "%autoreload 2\n",
    "from simulation import *"
   ]
  },
  {
   "cell_type": "code",
   "execution_count": 2,
   "metadata": {
    "execution": {
     "iopub.execute_input": "2020-07-18T06:13:40.972444Z",
     "iopub.status.busy": "2020-07-18T06:13:40.972104Z",
     "iopub.status.idle": "2020-07-18T06:13:40.982893Z",
     "shell.execute_reply": "2020-07-18T06:13:40.983215Z"
    },
    "papermill": {
     "duration": 0.030037,
     "end_time": "2020-07-18T06:13:40.983284",
     "exception": false,
     "start_time": "2020-07-18T06:13:40.953247",
     "status": "completed"
    },
    "tags": [
     "parameters"
    ]
   },
   "outputs": [
    {
     "name": "stdout",
     "output_type": "stream",
     "text": [
      "CPU times: user 3 µs, sys: 0 ns, total: 3 µs\n",
      "Wall time: 5.01 µs\n"
     ]
    }
   ],
   "source": [
    "%%time\n",
    "### Dataset and simulation parameters\n",
    "#csv_path = SSH2_PERIODIC_100_6561_CSV \n",
    "csv_path = SSH1_PERIODIC_100_6561_CSV \n",
    "model_name = \"DecisionTreeClassifier\"\n",
    "model_kw = {\"criterion\":\"entropy\"}\n",
    "allowed_windings = [0,1]\n",
    "#allowed_windings = [-1,0,1,2]\n",
    "simulation_dir = SSH1_REAL_SPACE_ALL_SITES\n",
    "#simulation_dir = SSH2_PERIODIC_ENGINEERED_100_6561_SIMULATION_DIR\n",
    "val_split = 0.9  \n",
    "features_to_use = None\n",
    "shuffle_features = False\n",
    "random_state = 763\n",
    "\n",
    "### Fourier features\n",
    "fourier_mode = \"dst\"\n",
    "fourier_features_to_use = None\n",
    "fourier_real = \"imag\"\n",
    "fourier_normalize = False\n",
    "fourier_fillna = False\n",
    "\n",
    "### Running a simulation\n",
    "n_experiments = 5\n",
    "start_n = 0\n",
    "fit_params = None\n",
    "#mode=mode\n",
    "shuffle_rows = True\n",
    "pred_params = None\n",
    "random_features = False\n",
    "######### DON'T SET THIS TO TRUE UNLESS YOUR DATASET IS SMALL!! WILL FLOOD YOUR MEMORY!!!\n",
    "store_in_lists = False   \n",
    "########## BELOW ARE THE PARAMETERS THAT CONTROL WHAT WILL BE SAVED\n",
    "save_eigenvector=True\n",
    "save_hamiltonian=True \n",
    "save_accuracy=True \n",
    "save_models=True"
   ]
  },
  {
   "cell_type": "code",
   "execution_count": 3,
   "metadata": {
    "execution": {
     "iopub.execute_input": "2020-07-18T06:13:41.021340Z",
     "iopub.status.busy": "2020-07-18T06:13:41.021022Z",
     "iopub.status.idle": "2020-07-18T06:13:41.105817Z",
     "shell.execute_reply": "2020-07-18T06:13:41.106866Z"
    },
    "papermill": {
     "duration": 0.105796,
     "end_time": "2020-07-18T06:13:41.107099",
     "exception": false,
     "start_time": "2020-07-18T06:13:41.001303",
     "status": "completed"
    },
    "tags": [
     "injected-parameters"
    ]
   },
   "outputs": [],
   "source": [
    "# Parameters\n",
    "model_kw = {\"criterion\": \"entropy\"}\n",
    "allowed_windings = [0, 1]\n",
    "val_split = 0.9\n",
    "features_to_use = [0, 1, 3, 50]\n",
    "shuffle_features = False\n",
    "n_experiments = 100\n",
    "start_n = 0\n",
    "fit_params = None\n",
    "shuffle_rows = True\n",
    "pred_params = None\n",
    "random_features = False\n",
    "store_in_lists = False\n",
    "save_eigenvector = True\n",
    "save_hamiltonian = True\n",
    "save_accuracy = True\n",
    "save_models = True\n",
    "csv_path = \"/home/rio/ssh_csvs/ssh1/periodic_100_6561.csv\"\n",
    "model_name = \"DecisionTreeClassifier\"\n",
    "simulation_dir = \"/home/rio/ssh_simulations/ssh1/periodic_100_6561/dst_best_04_wavevector_sites_from_best_04_real_space_sites\"\n",
    "random_state = 1020\n",
    "fourier_features_to_use = [0, 18, 28, 30]\n",
    "fourier_mode = \"dst\"\n",
    "fourier_real = None\n",
    "fourier_normalize = False\n",
    "fourier_fillna = False\n"
   ]
  },
  {
   "cell_type": "code",
   "execution_count": 4,
   "metadata": {
    "execution": {
     "iopub.execute_input": "2020-07-18T06:13:41.231827Z",
     "iopub.status.busy": "2020-07-18T06:13:41.231349Z",
     "iopub.status.idle": "2020-07-18T06:13:46.639165Z",
     "shell.execute_reply": "2020-07-18T06:13:46.638850Z"
    },
    "papermill": {
     "duration": 5.487502,
     "end_time": "2020-07-18T06:13:46.639218",
     "exception": false,
     "start_time": "2020-07-18T06:13:41.151716",
     "status": "completed"
    },
    "tags": []
   },
   "outputs": [
    {
     "name": "stdout",
     "output_type": "stream",
     "text": [
      "Info on all data: \n",
      "\n",
      "<class 'pandas.core.frame.DataFrame'>\n",
      "Int64Index: 656100 entries, 0 to 656099\n",
      "Columns: 108 entries, id to feat99\n",
      "dtypes: float64(103), int32(3), object(2)\n",
      "memory usage: 538.1+ MB\n",
      "CPU times: user 5.32 s, sys: 456 ms, total: 5.77 s\n",
      "Wall time: 5.37 s\n"
     ]
    },
    {
     "data": {
      "text/html": [
       "<div>\n",
       "<style scoped>\n",
       "    .dataframe tbody tr th:only-of-type {\n",
       "        vertical-align: middle;\n",
       "    }\n",
       "\n",
       "    .dataframe tbody tr th {\n",
       "        vertical-align: top;\n",
       "    }\n",
       "\n",
       "    .dataframe thead th {\n",
       "        text-align: right;\n",
       "    }\n",
       "</style>\n",
       "<table border=\"1\" class=\"dataframe\">\n",
       "  <thead>\n",
       "    <tr style=\"text-align: right;\">\n",
       "      <th></th>\n",
       "      <th>id</th>\n",
       "      <th>path</th>\n",
       "      <th>t1</th>\n",
       "      <th>t2</th>\n",
       "      <th>winding</th>\n",
       "      <th>phase</th>\n",
       "      <th>pred_phase</th>\n",
       "      <th>type_of</th>\n",
       "      <th>feat0</th>\n",
       "      <th>feat1</th>\n",
       "      <th>...</th>\n",
       "      <th>feat90</th>\n",
       "      <th>feat91</th>\n",
       "      <th>feat92</th>\n",
       "      <th>feat93</th>\n",
       "      <th>feat94</th>\n",
       "      <th>feat95</th>\n",
       "      <th>feat96</th>\n",
       "      <th>feat97</th>\n",
       "      <th>feat98</th>\n",
       "      <th>feat99</th>\n",
       "    </tr>\n",
       "  </thead>\n",
       "  <tbody>\n",
       "    <tr>\n",
       "      <th>0</th>\n",
       "      <td>0</td>\n",
       "      <td>H_-2_-2_0.509296.dat</td>\n",
       "      <td>-2.0</td>\n",
       "      <td>-2.0</td>\n",
       "      <td>0.509296</td>\n",
       "      <td>999</td>\n",
       "      <td>666</td>\n",
       "      <td>test</td>\n",
       "      <td>0.100000</td>\n",
       "      <td>0.100000</td>\n",
       "      <td>...</td>\n",
       "      <td>0.100000</td>\n",
       "      <td>0.100000</td>\n",
       "      <td>0.100000</td>\n",
       "      <td>0.100000</td>\n",
       "      <td>0.100000</td>\n",
       "      <td>0.100000</td>\n",
       "      <td>0.100000</td>\n",
       "      <td>0.100000</td>\n",
       "      <td>0.100000</td>\n",
       "      <td>0.100000</td>\n",
       "    </tr>\n",
       "    <tr>\n",
       "      <th>1</th>\n",
       "      <td>0</td>\n",
       "      <td>H_-2_-2_0.509296.dat</td>\n",
       "      <td>-2.0</td>\n",
       "      <td>-2.0</td>\n",
       "      <td>0.509296</td>\n",
       "      <td>999</td>\n",
       "      <td>666</td>\n",
       "      <td>test</td>\n",
       "      <td>0.141421</td>\n",
       "      <td>0.141142</td>\n",
       "      <td>...</td>\n",
       "      <td>0.114412</td>\n",
       "      <td>0.108967</td>\n",
       "      <td>0.123928</td>\n",
       "      <td>0.119406</td>\n",
       "      <td>0.131490</td>\n",
       "      <td>0.127962</td>\n",
       "      <td>0.136978</td>\n",
       "      <td>0.134500</td>\n",
       "      <td>0.140306</td>\n",
       "      <td>0.138916</td>\n",
       "    </tr>\n",
       "    <tr>\n",
       "      <th>2</th>\n",
       "      <td>0</td>\n",
       "      <td>H_-2_-2_0.509296.dat</td>\n",
       "      <td>-2.0</td>\n",
       "      <td>-2.0</td>\n",
       "      <td>0.509296</td>\n",
       "      <td>999</td>\n",
       "      <td>666</td>\n",
       "      <td>test</td>\n",
       "      <td>0.141421</td>\n",
       "      <td>0.140306</td>\n",
       "      <td>...</td>\n",
       "      <td>0.043702</td>\n",
       "      <td>0.026500</td>\n",
       "      <td>0.075777</td>\n",
       "      <td>0.060214</td>\n",
       "      <td>0.103092</td>\n",
       "      <td>0.090145</td>\n",
       "      <td>0.123928</td>\n",
       "      <td>0.114412</td>\n",
       "      <td>0.136978</td>\n",
       "      <td>0.131490</td>\n",
       "    </tr>\n",
       "    <tr>\n",
       "      <th>3</th>\n",
       "      <td>0</td>\n",
       "      <td>H_-2_-2_0.509296.dat</td>\n",
       "      <td>-2.0</td>\n",
       "      <td>-2.0</td>\n",
       "      <td>0.509296</td>\n",
       "      <td>999</td>\n",
       "      <td>666</td>\n",
       "      <td>test</td>\n",
       "      <td>-0.100000</td>\n",
       "      <td>0.100000</td>\n",
       "      <td>...</td>\n",
       "      <td>-0.100000</td>\n",
       "      <td>0.100000</td>\n",
       "      <td>-0.100000</td>\n",
       "      <td>0.100000</td>\n",
       "      <td>-0.100000</td>\n",
       "      <td>0.100000</td>\n",
       "      <td>-0.100000</td>\n",
       "      <td>0.100000</td>\n",
       "      <td>-0.100000</td>\n",
       "      <td>0.100000</td>\n",
       "    </tr>\n",
       "    <tr>\n",
       "      <th>4</th>\n",
       "      <td>0</td>\n",
       "      <td>H_-2_-2_0.509296.dat</td>\n",
       "      <td>-2.0</td>\n",
       "      <td>-2.0</td>\n",
       "      <td>0.509296</td>\n",
       "      <td>999</td>\n",
       "      <td>666</td>\n",
       "      <td>test</td>\n",
       "      <td>0.000509</td>\n",
       "      <td>-0.008372</td>\n",
       "      <td>...</td>\n",
       "      <td>-0.082713</td>\n",
       "      <td>-0.089753</td>\n",
       "      <td>-0.067684</td>\n",
       "      <td>-0.075347</td>\n",
       "      <td>-0.051587</td>\n",
       "      <td>-0.059753</td>\n",
       "      <td>-0.034677</td>\n",
       "      <td>-0.043217</td>\n",
       "      <td>-0.017220</td>\n",
       "      <td>-0.026000</td>\n",
       "    </tr>\n",
       "  </tbody>\n",
       "</table>\n",
       "<p>5 rows × 108 columns</p>\n",
       "</div>"
      ],
      "text/plain": [
       "   id                  path   t1   t2   winding  phase  pred_phase type_of  \\\n",
       "0   0  H_-2_-2_0.509296.dat -2.0 -2.0  0.509296    999         666    test   \n",
       "1   0  H_-2_-2_0.509296.dat -2.0 -2.0  0.509296    999         666    test   \n",
       "2   0  H_-2_-2_0.509296.dat -2.0 -2.0  0.509296    999         666    test   \n",
       "3   0  H_-2_-2_0.509296.dat -2.0 -2.0  0.509296    999         666    test   \n",
       "4   0  H_-2_-2_0.509296.dat -2.0 -2.0  0.509296    999         666    test   \n",
       "\n",
       "      feat0     feat1  ...    feat90    feat91    feat92    feat93    feat94  \\\n",
       "0  0.100000  0.100000  ...  0.100000  0.100000  0.100000  0.100000  0.100000   \n",
       "1  0.141421  0.141142  ...  0.114412  0.108967  0.123928  0.119406  0.131490   \n",
       "2  0.141421  0.140306  ...  0.043702  0.026500  0.075777  0.060214  0.103092   \n",
       "3 -0.100000  0.100000  ... -0.100000  0.100000 -0.100000  0.100000 -0.100000   \n",
       "4  0.000509 -0.008372  ... -0.082713 -0.089753 -0.067684 -0.075347 -0.051587   \n",
       "\n",
       "     feat95    feat96    feat97    feat98    feat99  \n",
       "0  0.100000  0.100000  0.100000  0.100000  0.100000  \n",
       "1  0.127962  0.136978  0.134500  0.140306  0.138916  \n",
       "2  0.090145  0.123928  0.114412  0.136978  0.131490  \n",
       "3  0.100000 -0.100000  0.100000 -0.100000  0.100000  \n",
       "4 -0.059753 -0.034677 -0.043217 -0.017220 -0.026000  \n",
       "\n",
       "[5 rows x 108 columns]"
      ]
     },
     "execution_count": 4,
     "metadata": {},
     "output_type": "execute_result"
    }
   ],
   "source": [
    "%%time\n",
    "#Starting an instance of Simulation with a decision tree\n",
    "model = DecisionTreeClassifier(criterion=\"entropy\")\n",
    "#dict_args = {\"csv_path\":csv_path, \"model\":model, \"allowed_windings\":allowed_windings,\\\n",
    "#             \"simulation_dir\":simulation_dir, \"val_split\":val_split, \"features_to_use\":features_to_use,\\\n",
    "#            \"shuffle_features\":shuffle_features, \"random_state\":random_state}\n",
    "simulation = Simulation(csv_path,model_name,model_kw,allowed_windings,simulation_dir,val_split,features_to_use,\\\n",
    "                       shuffle_features,fourier_mode,fourier_features_to_use,fourier_real,\\\n",
    "                       fourier_normalize, fourier_fillna , random_state)\n",
    "#simulation = Simulation(**dict_args)\n",
    "\n",
    "\n",
    "#(self, csv_path, model_name, model_kw, allowed_windings, simulation_dir = None, val_split = 0, \n",
    "# features_to_use = None, shuffle_features = False, fourier_mode=None, fourier_features_to_use=None,\n",
    "# fourier_real = False, fourier_normalize = False, Fourier_fillna=False, random_state = None):\n",
    "\n",
    "\n",
    "\n",
    "print(\"Info on all data: \\n\")\n",
    "simulation.dataframe.info()\n",
    "simulation.dataframe.head()"
   ]
  },
  {
   "cell_type": "markdown",
   "metadata": {
    "papermill": {
     "duration": 0.017027,
     "end_time": "2020-07-18T06:13:46.674050",
     "exception": false,
     "start_time": "2020-07-18T06:13:46.657023",
     "status": "completed"
    },
    "tags": []
   },
   "source": [
    "####  Fourier features"
   ]
  },
  {
   "cell_type": "code",
   "execution_count": 5,
   "metadata": {
    "execution": {
     "iopub.execute_input": "2020-07-18T06:13:46.711122Z",
     "iopub.status.busy": "2020-07-18T06:13:46.710798Z",
     "iopub.status.idle": "2020-07-18T06:13:46.792636Z",
     "shell.execute_reply": "2020-07-18T06:13:46.792307Z"
    },
    "papermill": {
     "duration": 0.101412,
     "end_time": "2020-07-18T06:13:46.792688",
     "exception": false,
     "start_time": "2020-07-18T06:13:46.691276",
     "status": "completed"
    },
    "tags": []
   },
   "outputs": [
    {
     "name": "stdout",
     "output_type": "stream",
     "text": [
      "<class 'pandas.core.frame.DataFrame'>\n",
      "Int64Index: 656100 entries, 0 to 656099\n",
      "Data columns (total 12 columns):\n",
      " #   Column      Non-Null Count   Dtype  \n",
      "---  ------      --------------   -----  \n",
      " 0   id          656100 non-null  int32  \n",
      " 1   path        656100 non-null  object \n",
      " 2   t1          656100 non-null  float64\n",
      " 3   t2          656100 non-null  float64\n",
      " 4   winding     656100 non-null  float64\n",
      " 5   phase       656100 non-null  int32  \n",
      " 6   pred_phase  656100 non-null  int32  \n",
      " 7   type_of     656100 non-null  object \n",
      " 8   dst_feat0   656100 non-null  float64\n",
      " 9   dst_feat18  656100 non-null  float64\n",
      " 10  dst_feat28  656100 non-null  float64\n",
      " 11  dst_feat30  656100 non-null  float64\n",
      "dtypes: float64(7), int32(3), object(2)\n",
      "memory usage: 57.6+ MB\n",
      "CPU times: user 70.6 ms, sys: 0 ns, total: 70.6 ms\n",
      "Wall time: 70.1 ms\n"
     ]
    }
   ],
   "source": [
    "%%time\n",
    "#simulation.generate_fourier_df()\n",
    "if simulation.fourier_mode is not None:\n",
    "    simulation.fourier_dataframe.info() \n",
    "    simulation.fourier_dataframe.sample(15)\n"
   ]
  },
  {
   "cell_type": "code",
   "execution_count": 6,
   "metadata": {
    "execution": {
     "iopub.execute_input": "2020-07-18T06:13:46.831349Z",
     "iopub.status.busy": "2020-07-18T06:13:46.831015Z",
     "iopub.status.idle": "2020-07-18T06:13:46.843163Z",
     "shell.execute_reply": "2020-07-18T06:13:46.842825Z"
    },
    "papermill": {
     "duration": 0.032484,
     "end_time": "2020-07-18T06:13:46.843217",
     "exception": false,
     "start_time": "2020-07-18T06:13:46.810733",
     "status": "completed"
    },
    "tags": []
   },
   "outputs": [
    {
     "name": "stdout",
     "output_type": "stream",
     "text": [
      "features_to_use: \n",
      "\n",
      "\n",
      "[0, 1, 3, 50]\n",
      "Number of real space features:\n",
      "\n",
      "\n",
      "4\n",
      "\n",
      "\n",
      "fourier_features: \n",
      "\n",
      "\n",
      "['dst_feat0', 'dst_feat18', 'dst_feat28', 'dst_feat30']\n",
      "\n",
      "\n",
      "Number of Fourier features: \n",
      "\n",
      "\n",
      "4\n",
      "\n",
      "\n",
      "Fourier operator: \n",
      "[[ 0.12558104  1.85955297  1.93716632  1.85955297]\n",
      " [ 0.25066647  1.36909421 -0.96350735 -1.36909421]\n",
      " [ 0.49737977 -1.99605346  1.68865585  1.99605346]]\n",
      "\n",
      "\n",
      "Shape of Fourier operator: \n",
      "(3, 4)\n"
     ]
    }
   ],
   "source": [
    "print(\"features_to_use: \")\n",
    "print(\"\\n\")\n",
    "print(simulation.features_to_use)\n",
    "if simulation.features_to_use is not None:\n",
    "    print(\"Number of real space features:\")\n",
    "    print(\"\\n\")\n",
    "    print(len(simulation.features_to_use))\n",
    "print(\"\\n\")\n",
    "print(\"fourier_features: \")\n",
    "print(\"\\n\")\n",
    "print(simulation.fourier_features)\n",
    "print(\"\\n\")\n",
    "if simulation.fourier_features is not None:\n",
    "    print(\"Number of Fourier features: \")\n",
    "    print(\"\\n\")\n",
    "    print(len(simulation.fourier_features))\n",
    "print(\"\\n\")\n",
    "print(\"Fourier operator: \")\n",
    "print(simulation.fourier_operator)\n",
    "print(\"\\n\")\n",
    "if simulation.fourier_operator is not None:\n",
    "    print(\"Shape of Fourier operator: \")\n",
    "    print(simulation.fourier_operator.shape)"
   ]
  },
  {
   "cell_type": "code",
   "execution_count": 7,
   "metadata": {
    "execution": {
     "iopub.execute_input": "2020-07-18T06:13:46.880741Z",
     "iopub.status.busy": "2020-07-18T06:13:46.880235Z",
     "iopub.status.idle": "2020-07-18T06:13:46.933576Z",
     "shell.execute_reply": "2020-07-18T06:13:46.933998Z"
    },
    "papermill": {
     "duration": 0.073363,
     "end_time": "2020-07-18T06:13:46.934084",
     "exception": false,
     "start_time": "2020-07-18T06:13:46.860721",
     "status": "completed"
    },
    "tags": []
   },
   "outputs": [],
   "source": [
    "#a = np.array([1+1j,2+3j,4+8j])\n",
    "#np.imag(a)"
   ]
  },
  {
   "cell_type": "code",
   "execution_count": 8,
   "metadata": {
    "execution": {
     "iopub.execute_input": "2020-07-18T06:13:46.980603Z",
     "iopub.status.busy": "2020-07-18T06:13:46.980095Z",
     "iopub.status.idle": "2020-07-18T06:13:47.050549Z",
     "shell.execute_reply": "2020-07-18T06:13:47.048787Z"
    },
    "papermill": {
     "duration": 0.091827,
     "end_time": "2020-07-18T06:13:47.050802",
     "exception": false,
     "start_time": "2020-07-18T06:13:46.958975",
     "status": "completed"
    },
    "tags": []
   },
   "outputs": [],
   "source": [
    "#plt.plot(np.imag(simulation.fourier_operator[:,0]))"
   ]
  },
  {
   "cell_type": "code",
   "execution_count": 9,
   "metadata": {
    "execution": {
     "iopub.execute_input": "2020-07-18T06:13:47.120134Z",
     "iopub.status.busy": "2020-07-18T06:13:47.119634Z",
     "iopub.status.idle": "2020-07-18T06:13:47.129685Z",
     "shell.execute_reply": "2020-07-18T06:13:47.129998Z"
    },
    "papermill": {
     "duration": 0.031335,
     "end_time": "2020-07-18T06:13:47.130066",
     "exception": false,
     "start_time": "2020-07-18T06:13:47.098731",
     "status": "completed"
    },
    "tags": []
   },
   "outputs": [],
   "source": [
    "#np.sin(np.pi/(50))*2"
   ]
  },
  {
   "cell_type": "code",
   "execution_count": 10,
   "metadata": {
    "execution": {
     "iopub.execute_input": "2020-07-18T06:13:47.167992Z",
     "iopub.status.busy": "2020-07-18T06:13:47.167684Z",
     "iopub.status.idle": "2020-07-18T06:13:47.226281Z",
     "shell.execute_reply": "2020-07-18T06:13:47.225790Z"
    },
    "papermill": {
     "duration": 0.078188,
     "end_time": "2020-07-18T06:13:47.226356",
     "exception": false,
     "start_time": "2020-07-18T06:13:47.148168",
     "status": "completed"
    },
    "tags": []
   },
   "outputs": [],
   "source": [
    "#2*np.sin(np.pi/50*49)"
   ]
  },
  {
   "cell_type": "code",
   "execution_count": 11,
   "metadata": {
    "execution": {
     "iopub.execute_input": "2020-07-18T06:13:47.278619Z",
     "iopub.status.busy": "2020-07-18T06:13:47.278308Z",
     "iopub.status.idle": "2020-07-18T06:13:47.343532Z",
     "shell.execute_reply": "2020-07-18T06:13:47.342917Z"
    },
    "papermill": {
     "duration": 0.087481,
     "end_time": "2020-07-18T06:13:47.343638",
     "exception": false,
     "start_time": "2020-07-18T06:13:47.256157",
     "status": "completed"
    },
    "tags": []
   },
   "outputs": [],
   "source": [
    "#simulation.dataframe.iloc[331456,:]"
   ]
  },
  {
   "cell_type": "code",
   "execution_count": 12,
   "metadata": {
    "execution": {
     "iopub.execute_input": "2020-07-18T06:13:47.408141Z",
     "iopub.status.busy": "2020-07-18T06:13:47.407819Z",
     "iopub.status.idle": "2020-07-18T06:13:47.425457Z",
     "shell.execute_reply": "2020-07-18T06:13:47.425115Z"
    },
    "papermill": {
     "duration": 0.040741,
     "end_time": "2020-07-18T06:13:47.425510",
     "exception": false,
     "start_time": "2020-07-18T06:13:47.384769",
     "status": "completed"
    },
    "tags": []
   },
   "outputs": [],
   "source": [
    "#for ix, obj in enumerate(simulation.dataframe.iloc[331456,:].values):\n",
    "#    print(ix,obj)"
   ]
  },
  {
   "cell_type": "code",
   "execution_count": 13,
   "metadata": {
    "execution": {
     "iopub.execute_input": "2020-07-18T06:13:47.463268Z",
     "iopub.status.busy": "2020-07-18T06:13:47.462775Z",
     "iopub.status.idle": "2020-07-18T06:13:47.535055Z",
     "shell.execute_reply": "2020-07-18T06:13:47.534446Z"
    },
    "papermill": {
     "duration": 0.092056,
     "end_time": "2020-07-18T06:13:47.535146",
     "exception": false,
     "start_time": "2020-07-18T06:13:47.443090",
     "status": "completed"
    },
    "tags": []
   },
   "outputs": [],
   "source": [
    "#simulation.fourier_engineered_dataframe.dct_feat0"
   ]
  },
  {
   "cell_type": "code",
   "execution_count": 14,
   "metadata": {
    "execution": {
     "iopub.execute_input": "2020-07-18T06:13:47.595291Z",
     "iopub.status.busy": "2020-07-18T06:13:47.594779Z",
     "iopub.status.idle": "2020-07-18T06:13:47.617365Z",
     "shell.execute_reply": "2020-07-18T06:13:47.617021Z"
    },
    "papermill": {
     "duration": 0.045585,
     "end_time": "2020-07-18T06:13:47.617418",
     "exception": false,
     "start_time": "2020-07-18T06:13:47.571833",
     "status": "completed"
    },
    "tags": []
   },
   "outputs": [],
   "source": [
    "#simulation.features"
   ]
  },
  {
   "cell_type": "code",
   "execution_count": 15,
   "metadata": {
    "execution": {
     "iopub.execute_input": "2020-07-18T06:13:47.655497Z",
     "iopub.status.busy": "2020-07-18T06:13:47.655005Z",
     "iopub.status.idle": "2020-07-18T06:13:47.726582Z",
     "shell.execute_reply": "2020-07-18T06:13:47.726038Z"
    },
    "papermill": {
     "duration": 0.091405,
     "end_time": "2020-07-18T06:13:47.726664",
     "exception": false,
     "start_time": "2020-07-18T06:13:47.635259",
     "status": "completed"
    },
    "tags": []
   },
   "outputs": [],
   "source": [
    "#simulation.fourier_matrix"
   ]
  },
  {
   "cell_type": "code",
   "execution_count": 16,
   "metadata": {
    "execution": {
     "iopub.execute_input": "2020-07-18T06:13:47.783219Z",
     "iopub.status.busy": "2020-07-18T06:13:47.782718Z",
     "iopub.status.idle": "2020-07-18T06:13:47.809611Z",
     "shell.execute_reply": "2020-07-18T06:13:47.809930Z"
    },
    "papermill": {
     "duration": 0.050129,
     "end_time": "2020-07-18T06:13:47.810000",
     "exception": false,
     "start_time": "2020-07-18T06:13:47.759871",
     "status": "completed"
    },
    "tags": []
   },
   "outputs": [],
   "source": [
    "#1/simulation.n_features*simulation.dataframe.loc[:,simulation.features].sum(axis=1)"
   ]
  },
  {
   "cell_type": "code",
   "execution_count": 17,
   "metadata": {
    "execution": {
     "iopub.execute_input": "2020-07-18T06:13:47.847428Z",
     "iopub.status.busy": "2020-07-18T06:13:47.846930Z",
     "iopub.status.idle": "2020-07-18T06:13:47.927444Z",
     "shell.execute_reply": "2020-07-18T06:13:47.926752Z"
    },
    "papermill": {
     "duration": 0.09977,
     "end_time": "2020-07-18T06:13:47.927548",
     "exception": false,
     "start_time": "2020-07-18T06:13:47.827778",
     "status": "completed"
    },
    "tags": []
   },
   "outputs": [],
   "source": [
    "#df_2 = simulation.fourier_engineered_dataframe[simulation.fourier_engineered_dataframe.phase==2]\n",
    "#df_2.describe()"
   ]
  },
  {
   "cell_type": "code",
   "execution_count": 18,
   "metadata": {
    "execution": {
     "iopub.execute_input": "2020-07-18T06:13:47.996931Z",
     "iopub.status.busy": "2020-07-18T06:13:47.996602Z",
     "iopub.status.idle": "2020-07-18T06:13:48.006029Z",
     "shell.execute_reply": "2020-07-18T06:13:48.006286Z"
    },
    "papermill": {
     "duration": 0.03281,
     "end_time": "2020-07-18T06:13:48.006355",
     "exception": false,
     "start_time": "2020-07-18T06:13:47.973545",
     "status": "completed"
    },
    "tags": []
   },
   "outputs": [],
   "source": [
    "#df_1 = simulation.fourier_engineered_dataframe[simulation.fourier_engineered_dataframe.phase==1]\n",
    "#df_1.describe()"
   ]
  },
  {
   "cell_type": "code",
   "execution_count": 19,
   "metadata": {
    "execution": {
     "iopub.execute_input": "2020-07-18T06:13:48.043770Z",
     "iopub.status.busy": "2020-07-18T06:13:48.043461Z",
     "iopub.status.idle": "2020-07-18T06:13:48.125380Z",
     "shell.execute_reply": "2020-07-18T06:13:48.123461Z"
    },
    "papermill": {
     "duration": 0.101231,
     "end_time": "2020-07-18T06:13:48.125632",
     "exception": false,
     "start_time": "2020-07-18T06:13:48.024401",
     "status": "completed"
    },
    "tags": []
   },
   "outputs": [],
   "source": [
    "#df_0 = simulation.fourier_engineered_dataframe[simulation.fourier_engineered_dataframe.phase==0]\n",
    "#df_0.describe()"
   ]
  },
  {
   "cell_type": "code",
   "execution_count": 20,
   "metadata": {
    "execution": {
     "iopub.execute_input": "2020-07-18T06:13:48.204411Z",
     "iopub.status.busy": "2020-07-18T06:13:48.204095Z",
     "iopub.status.idle": "2020-07-18T06:13:48.214092Z",
     "shell.execute_reply": "2020-07-18T06:13:48.213752Z"
    },
    "papermill": {
     "duration": 0.032582,
     "end_time": "2020-07-18T06:13:48.214147",
     "exception": false,
     "start_time": "2020-07-18T06:13:48.181565",
     "status": "completed"
    },
    "tags": []
   },
   "outputs": [],
   "source": [
    "#plt.figure(figsize=(10,10))\n",
    "#plt.scatter(df_1.fourier_feat0,df_1.fourier_feat2)\n",
    "#plt.scatter(df_0.fourier_feat0,df_0.fourier_feat2,alpha=0.4)"
   ]
  },
  {
   "cell_type": "code",
   "execution_count": 21,
   "metadata": {
    "execution": {
     "iopub.execute_input": "2020-07-18T06:13:48.252387Z",
     "iopub.status.busy": "2020-07-18T06:13:48.252075Z",
     "iopub.status.idle": "2020-07-18T06:13:48.327323Z",
     "shell.execute_reply": "2020-07-18T06:13:48.326617Z"
    },
    "papermill": {
     "duration": 0.094706,
     "end_time": "2020-07-18T06:13:48.327427",
     "exception": false,
     "start_time": "2020-07-18T06:13:48.232721",
     "status": "completed"
    },
    "tags": []
   },
   "outputs": [],
   "source": [
    "#plt.scatter(df_0.fourier_feat0,df_0.fourier_feat2,alpha=0.4)"
   ]
  },
  {
   "cell_type": "code",
   "execution_count": 22,
   "metadata": {
    "execution": {
     "iopub.execute_input": "2020-07-18T06:13:48.397816Z",
     "iopub.status.busy": "2020-07-18T06:13:48.397476Z",
     "iopub.status.idle": "2020-07-18T06:13:48.406633Z",
     "shell.execute_reply": "2020-07-18T06:13:48.406937Z"
    },
    "papermill": {
     "duration": 0.03288,
     "end_time": "2020-07-18T06:13:48.407021",
     "exception": false,
     "start_time": "2020-07-18T06:13:48.374141",
     "status": "completed"
    },
    "tags": []
   },
   "outputs": [],
   "source": [
    "#plt.scatter(df_2.fourier_feat0,df_2.fourier_feat2)"
   ]
  },
  {
   "cell_type": "code",
   "execution_count": 23,
   "metadata": {
    "execution": {
     "iopub.execute_input": "2020-07-18T06:13:48.445659Z",
     "iopub.status.busy": "2020-07-18T06:13:48.445348Z",
     "iopub.status.idle": "2020-07-18T06:13:48.526799Z",
     "shell.execute_reply": "2020-07-18T06:13:48.525818Z"
    },
    "papermill": {
     "duration": 0.102048,
     "end_time": "2020-07-18T06:13:48.526941",
     "exception": false,
     "start_time": "2020-07-18T06:13:48.424893",
     "status": "completed"
    },
    "tags": []
   },
   "outputs": [],
   "source": [
    "#df_1.hist(figsize=(15,15))"
   ]
  },
  {
   "cell_type": "code",
   "execution_count": 24,
   "metadata": {
    "execution": {
     "iopub.execute_input": "2020-07-18T06:13:48.606626Z",
     "iopub.status.busy": "2020-07-18T06:13:48.606318Z",
     "iopub.status.idle": "2020-07-18T06:13:48.616128Z",
     "shell.execute_reply": "2020-07-18T06:13:48.616447Z"
    },
    "papermill": {
     "duration": 0.032724,
     "end_time": "2020-07-18T06:13:48.616516",
     "exception": false,
     "start_time": "2020-07-18T06:13:48.583792",
     "status": "completed"
    },
    "tags": []
   },
   "outputs": [],
   "source": [
    "#df_0.hist(figsize=(15,15))"
   ]
  },
  {
   "cell_type": "markdown",
   "metadata": {
    "papermill": {
     "duration": 0.018295,
     "end_time": "2020-07-18T06:13:48.652714",
     "exception": false,
     "start_time": "2020-07-18T06:13:48.634419",
     "status": "completed"
    },
    "tags": []
   },
   "source": [
    "#### Checking initialization"
   ]
  },
  {
   "cell_type": "code",
   "execution_count": 25,
   "metadata": {
    "execution": {
     "iopub.execute_input": "2020-07-18T06:13:48.690153Z",
     "iopub.status.busy": "2020-07-18T06:13:48.689833Z",
     "iopub.status.idle": "2020-07-18T06:13:48.709438Z",
     "shell.execute_reply": "2020-07-18T06:13:48.709120Z"
    },
    "papermill": {
     "duration": 0.039148,
     "end_time": "2020-07-18T06:13:48.709489",
     "exception": false,
     "start_time": "2020-07-18T06:13:48.670341",
     "status": "completed"
    },
    "tags": []
   },
   "outputs": [
    {
     "name": "stdout",
     "output_type": "stream",
     "text": [
      "n_features:  100\n",
      "n_hamiltonians:  6561\n",
      "n_ts:  2\n",
      "CPU times: user 134 µs, sys: 16 µs, total: 150 µs\n",
      "Wall time: 83.7 µs\n"
     ]
    }
   ],
   "source": [
    "%%time\n",
    "n_features = simulation.n_features\n",
    "n_hamiltonians = simulation.n_hamiltonians\n",
    "n_ts = simulation.n_ts\n",
    "\n",
    "print(\"n_features: \", n_features)\n",
    "print(\"n_hamiltonians: \", n_hamiltonians)\n",
    "print(\"n_ts: \", n_ts)"
   ]
  },
  {
   "cell_type": "code",
   "execution_count": 26,
   "metadata": {
    "execution": {
     "iopub.execute_input": "2020-07-18T06:13:48.748942Z",
     "iopub.status.busy": "2020-07-18T06:13:48.748445Z",
     "iopub.status.idle": "2020-07-18T06:13:49.026309Z",
     "shell.execute_reply": "2020-07-18T06:13:49.025983Z"
    },
    "papermill": {
     "duration": 0.298133,
     "end_time": "2020-07-18T06:13:49.026361",
     "exception": false,
     "start_time": "2020-07-18T06:13:48.728228",
     "status": "completed"
    },
    "tags": []
   },
   "outputs": [
    {
     "name": "stdout",
     "output_type": "stream",
     "text": [
      "% train:  0.846822130772748\n",
      "% val:  0.0\n",
      "% test:  0.15317786922725193\n",
      "% train + val + test:  1.0\n",
      "\n",
      "\n",
      "number of train hamiltonians:  5556\n",
      "number of val hamiltonians:  0\n",
      "number of test hamiltonians:  1005\n",
      "total number of hamiltonians:  6561\n",
      "\n",
      "\n",
      "train ids:  [9, 10, 11, 12, 13, 14, 15, 16, 17, 18, 19, 20, 21, 22, 23, 24, 25, 26, 27, 28, 29, 30, 31, 32, 33, 34, 35, 36, 37, 38, 39, 40, 41, 42, 43, 44, 45, 46, 47, 48, 49, 50, 51, 52, 53, 54, 55, 56, 57, 58, 59, 60, 61, 62, 63, 64, 65, 66, 67, 68, 69, 70, 71, 72, 73, 74, 75, 76, 77, 91, 92, 93, 94, 95, 96, 97, 98, 99, 100, 101, 102, 103, 104, 105, 106, 107, 108, 109, 110, 111, 112, 113, 114, 115, 116, 117, 118, 119, 120, 121, 122, 123, 124, 125, 126, 127, 128, 129, 130, 131, 132, 133, 134, 135, 136, 137, 138, 139, 140, 141, 142, 143, 144, 145, 146, 147, 148, 149, 150, 151, 152, 153, 154, 155, 156, 157, 172, 173, 174, 175, 176, 177, 178, 179, 180, 181, 182, 183, 184, 185, 186, 187, 188, 189, 190, 191, 192, 193, 194, 195, 196, 197, 198, 199, 200, 201, 202, 203, 204, 205, 206, 207, 208, 209, 210, 211, 212, 213, 214, 215, 216, 217, 218, 219, 220, 221, 222, 223, 224, 225, 226, 227, 228, 229, 230, 231, 232, 233, 234, 235, 236, 237, 254, 255, 256, 257, 258, 259, 260, 261, 262, 263, 264, 265, 266, 267, 268, 269, 270, 271, 272, 273, 274, 275, 276, 277, 278, 279, 280, 281, 282, 283, 284, 285, 286, 287, 288, 289, 290, 291, 292, 293, 294, 295, 296, 297, 298, 299, 300, 301, 302, 303, 304, 305, 306, 307, 308, 309, 310, 311, 312, 313, 314, 315, 316, 317, 323, 336, 337, 338, 339, 340, 341, 342, 343, 344, 345, 346, 347, 348, 349, 350, 351, 352, 353, 354, 355, 356, 357, 358, 359, 360, 361, 362, 363, 364, 365, 366, 367, 368, 369, 370, 371, 372, 373, 374, 375, 376, 377, 378, 379, 380, 381, 382, 383, 384, 385, 386, 387, 388, 389, 390, 391, 392, 393, 394, 395, 396, 397, 403, 404, 418, 419, 420, 421, 422, 423, 424, 425, 426, 427, 428, 429, 430, 431, 432, 433, 434, 435, 436, 437, 438, 439, 440, 441, 442, 443, 444, 445, 446, 447, 448, 449, 450, 451, 452, 453, 454, 455, 456, 457, 458, 459, 460, 461, 462, 463, 464, 465, 466, 467, 468, 469, 470, 471, 472, 473, 474, 475, 476, 477, 483, 484, 485, 500, 501, 502, 503, 504, 505, 506, 507, 508, 509, 510, 511, 512, 513, 514, 515, 516, 517, 518, 519, 520, 521, 522, 523, 524, 525, 526, 527, 528, 529, 530, 531, 532, 533, 534, 535, 536, 537, 538, 539, 540, 541, 542, 543, 544, 545, 546, 547, 548, 549, 550, 551, 552, 553, 554, 555, 556, 557, 563, 564, 565, 566, 581, 582, 583, 584, 585, 586, 587, 588, 589, 590, 591, 592, 593, 594, 595, 596, 597, 598, 599, 600, 601, 602, 603, 604, 605, 606, 607, 608, 609, 610, 611, 612, 613, 614, 615, 616, 617, 618, 619, 620, 621, 622, 623, 624, 625, 626, 627, 628, 629, 630, 631, 632, 633, 634, 635, 636, 637, 643, 644, 645, 646, 647, 663, 664, 665, 666, 667, 668, 669, 670, 671, 672, 673, 674, 675, 676, 677, 678, 679, 680, 681, 682, 683, 684, 685, 686, 687, 688, 689, 690, 691, 692, 693, 694, 695, 696, 697, 698, 699, 700, 701, 702, 703, 704, 705, 706, 707, 708, 709, 710, 711, 712, 713, 714, 715, 716, 717, 723, 724, 725, 726, 727, 728, 745, 746, 747, 748, 749, 750, 751, 752, 753, 754, 755, 756, 757, 758, 759, 760, 761, 762, 763, 764, 765, 766, 767, 768, 769, 770, 771, 772, 773, 774, 775, 776, 777, 778, 779, 780, 781, 782, 783, 784, 785, 786, 787, 788, 789, 790, 791, 792, 793, 794, 795, 796, 797, 803, 804, 805, 806, 807, 808, 809, 827, 828, 829, 830, 831, 832, 833, 834, 835, 836, 837, 838, 839, 840, 841, 842, 843, 844, 845, 846, 847, 848, 849, 850, 851, 852, 853, 854, 855, 856, 857, 858, 859, 860, 861, 862, 863, 864, 865, 866, 867, 868, 869, 870, 871, 872, 873, 874, 875, 876, 877, 883, 884, 885, 886, 887, 888, 889, 890, 891, 909, 910, 911, 912, 913, 914, 915, 916, 917, 918, 919, 920, 921, 922, 923, 924, 925, 926, 927, 928, 929, 930, 931, 932, 933, 934, 935, 936, 937, 938, 939, 940, 941, 942, 943, 944, 945, 946, 947, 948, 949, 950, 951, 952, 953, 954, 955, 956, 957, 963, 964, 965, 966, 967, 968, 969, 970, 971, 972, 973, 990, 991, 992, 993, 994, 995, 996, 997, 998, 999, 1000, 1001, 1002, 1003, 1004, 1005, 1006, 1007, 1008, 1009, 1010, 1011, 1012, 1013, 1014, 1015, 1016, 1017, 1018, 1019, 1020, 1021, 1022, 1023, 1024, 1025, 1026, 1027, 1028, 1029, 1030, 1031, 1032, 1033, 1034, 1035, 1036, 1037, 1038, 1042, 1043, 1044, 1045, 1046, 1047, 1048, 1049, 1050, 1051, 1052, 1053, 1054, 1055, 1056, 1072, 1073, 1074, 1075, 1076, 1077, 1078, 1079, 1080, 1081, 1082, 1083, 1084, 1085, 1086, 1087, 1088, 1089, 1090, 1091, 1092, 1093, 1094, 1095, 1096, 1097, 1098, 1099, 1100, 1101, 1102, 1103, 1104, 1105, 1106, 1107, 1108, 1109, 1110, 1111, 1112, 1113, 1114, 1115, 1116, 1117, 1118, 1122, 1123, 1124, 1125, 1126, 1127, 1128, 1129, 1130, 1131, 1132, 1133, 1134, 1135, 1136, 1137, 1138, 1154, 1155, 1156, 1157, 1158, 1159, 1160, 1161, 1162, 1163, 1164, 1165, 1166, 1167, 1168, 1169, 1170, 1171, 1172, 1173, 1174, 1175, 1176, 1177, 1178, 1179, 1180, 1181, 1182, 1183, 1184, 1185, 1186, 1187, 1188, 1189, 1190, 1191, 1192, 1193, 1194, 1195, 1196, 1197, 1198, 1202, 1203, 1204, 1205, 1206, 1207, 1208, 1209, 1210, 1211, 1212, 1213, 1214, 1215, 1216, 1217, 1218, 1219, 1220, 1236, 1237, 1238, 1239, 1240, 1241, 1242, 1243, 1244, 1245, 1246, 1247, 1248, 1249, 1250, 1251, 1252, 1253, 1254, 1255, 1256, 1257, 1258, 1259, 1260, 1261, 1262, 1263, 1264, 1265, 1266, 1267, 1268, 1269, 1270, 1271, 1272, 1273, 1274, 1275, 1276, 1277, 1278, 1282, 1283, 1284, 1285, 1286, 1287, 1288, 1289, 1290, 1291, 1292, 1293, 1294, 1295, 1296, 1297, 1298, 1299, 1300, 1301, 1302, 1303, 1317, 1318, 1319, 1320, 1321, 1322, 1323, 1324, 1325, 1326, 1327, 1328, 1329, 1330, 1331, 1332, 1333, 1334, 1335, 1336, 1337, 1338, 1339, 1340, 1341, 1342, 1343, 1344, 1345, 1346, 1347, 1348, 1349, 1350, 1351, 1352, 1353, 1354, 1355, 1356, 1357, 1358, 1362, 1363, 1364, 1365, 1366, 1367, 1368, 1369, 1370, 1371, 1372, 1373, 1374, 1375, 1376, 1377, 1378, 1379, 1380, 1381, 1382, 1383, 1384, 1385, 1399, 1400, 1401, 1402, 1403, 1404, 1405, 1406, 1407, 1408, 1409, 1410, 1411, 1412, 1413, 1414, 1415, 1416, 1417, 1418, 1419, 1420, 1421, 1422, 1423, 1424, 1425, 1426, 1427, 1428, 1429, 1430, 1431, 1432, 1433, 1434, 1435, 1436, 1437, 1438, 1442, 1443, 1444, 1445, 1446, 1447, 1448, 1449, 1450, 1451, 1452, 1453, 1454, 1455, 1456, 1457, 1458, 1459, 1460, 1461, 1462, 1463, 1464, 1465, 1466, 1467, 1468, 1481, 1482, 1483, 1484, 1485, 1486, 1487, 1488, 1489, 1490, 1491, 1492, 1493, 1494, 1495, 1496, 1497, 1498, 1499, 1500, 1501, 1502, 1503, 1504, 1505, 1506, 1507, 1508, 1509, 1510, 1511, 1512, 1513, 1514, 1515, 1516, 1517, 1518, 1522, 1523, 1524, 1525, 1526, 1527, 1528, 1529, 1530, 1531, 1532, 1533, 1534, 1535, 1536, 1537, 1538, 1539, 1540, 1541, 1542, 1543, 1544, 1545, 1546, 1547, 1548, 1549, 1550, 1563, 1564, 1565, 1566, 1567, 1568, 1569, 1570, 1571, 1572, 1573, 1574, 1575, 1576, 1577, 1578, 1579, 1580, 1581, 1582, 1583, 1584, 1585, 1586, 1587, 1588, 1589, 1590, 1591, 1592, 1593, 1594, 1595, 1596, 1597, 1598, 1602, 1603, 1604, 1605, 1606, 1607, 1608, 1609, 1610, 1611, 1612, 1613, 1614, 1615, 1616, 1617, 1618, 1619, 1620, 1621, 1622, 1623, 1624, 1625, 1626, 1627, 1628, 1629, 1630, 1631, 1632, 1645, 1646, 1647, 1648, 1649, 1650, 1651, 1652, 1653, 1654, 1655, 1656, 1657, 1658, 1659, 1660, 1661, 1662, 1663, 1664, 1665, 1666, 1667, 1668, 1669, 1670, 1671, 1672, 1673, 1674, 1675, 1676, 1677, 1678, 1682, 1683, 1684, 1685, 1686, 1687, 1688, 1689, 1690, 1691, 1692, 1693, 1694, 1695, 1696, 1697, 1698, 1699, 1700, 1701, 1702, 1703, 1704, 1705, 1706, 1707, 1708, 1709, 1710, 1711, 1712, 1713, 1714, 1715, 1726, 1727, 1728, 1729, 1730, 1731, 1732, 1733, 1734, 1735, 1736, 1737, 1738, 1739, 1740, 1741, 1742, 1743, 1744, 1745, 1746, 1747, 1748, 1749, 1750, 1751, 1752, 1753, 1754, 1755, 1756, 1757, 1758, 1762, 1763, 1764, 1765, 1766, 1767, 1768, 1769, 1770, 1771, 1772, 1773, 1774, 1775, 1776, 1777, 1778, 1779, 1780, 1781, 1782, 1783, 1784, 1785, 1786, 1787, 1788, 1789, 1790, 1791, 1792, 1793, 1794, 1795, 1796, 1797, 1808, 1809, 1810, 1811, 1812, 1813, 1814, 1815, 1816, 1817, 1818, 1819, 1820, 1821, 1822, 1823, 1824, 1825, 1826, 1827, 1828, 1829, 1830, 1831, 1832, 1833, 1834, 1835, 1836, 1837, 1838, 1842, 1843, 1844, 1845, 1846, 1847, 1848, 1849, 1850, 1851, 1852, 1853, 1854, 1855, 1856, 1857, 1858, 1859, 1860, 1861, 1862, 1863, 1864, 1865, 1866, 1867, 1868, 1869, 1870, 1871, 1872, 1873, 1874, 1875, 1876, 1877, 1878, 1879, 1890, 1891, 1892, 1893, 1894, 1895, 1896, 1897, 1898, 1899, 1900, 1901, 1902, 1903, 1904, 1905, 1906, 1907, 1908, 1909, 1910, 1911, 1912, 1913, 1914, 1915, 1916, 1917, 1918, 1922, 1923, 1924, 1925, 1926, 1927, 1928, 1929, 1930, 1931, 1932, 1933, 1934, 1935, 1936, 1937, 1938, 1939, 1940, 1941, 1942, 1943, 1944, 1945, 1946, 1947, 1948, 1949, 1950, 1951, 1952, 1953, 1954, 1955, 1956, 1957, 1958, 1959, 1960, 1961, 1962, 1972, 1973, 1974, 1975, 1976, 1977, 1978, 1979, 1980, 1981, 1982, 1983, 1984, 1985, 1986, 1987, 1988, 1989, 1990, 1991, 1992, 1993, 1994, 1995, 1996, 1997, 1998, 2002, 2003, 2004, 2005, 2006, 2007, 2008, 2009, 2010, 2011, 2012, 2013, 2014, 2015, 2016, 2017, 2018, 2019, 2020, 2021, 2022, 2023, 2024, 2025, 2026, 2027, 2028, 2029, 2030, 2031, 2032, 2033, 2034, 2035, 2036, 2037, 2038, 2039, 2040, 2041, 2042, 2043, 2044, 2054, 2055, 2056, 2057, 2058, 2059, 2060, 2061, 2062, 2063, 2064, 2065, 2066, 2067, 2068, 2069, 2070, 2071, 2072, 2073, 2074, 2075, 2076, 2077, 2078, 2082, 2083, 2084, 2085, 2086, 2087, 2088, 2089, 2090, 2091, 2092, 2093, 2094, 2095, 2096, 2097, 2098, 2099, 2100, 2101, 2102, 2103, 2104, 2105, 2106, 2107, 2108, 2109, 2110, 2111, 2112, 2113, 2114, 2115, 2116, 2117, 2118, 2119, 2120, 2121, 2122, 2123, 2124, 2125, 2126, 2135, 2136, 2137, 2138, 2139, 2140, 2141, 2142, 2143, 2144, 2145, 2146, 2147, 2148, 2149, 2150, 2151, 2152, 2153, 2154, 2155, 2156, 2157, 2158, 2159, 2161, 2162, 2163, 2164, 2165, 2166, 2167, 2168, 2169, 2170, 2171, 2172, 2173, 2174, 2175, 2176, 2177, 2178, 2179, 2180, 2181, 2182, 2183, 2184, 2185, 2186, 2187, 2188, 2189, 2190, 2191, 2192, 2193, 2194, 2195, 2196, 2197, 2198, 2199, 2200, 2201, 2202, 2203, 2204, 2205, 2206, 2207, 2208, 2209, 2217, 2218, 2219, 2220, 2221, 2222, 2223, 2224, 2225, 2226, 2227, 2228, 2229, 2230, 2231, 2232, 2233, 2234, 2235, 2236, 2237, 2238, 2239, 2241, 2242, 2243, 2244, 2245, 2246, 2247, 2248, 2249, 2250, 2251, 2252, 2253, 2254, 2255, 2256, 2257, 2258, 2259, 2260, 2261, 2262, 2263, 2264, 2265, 2266, 2267, 2268, 2269, 2270, 2271, 2272, 2273, 2274, 2275, 2276, 2277, 2278, 2279, 2280, 2281, 2282, 2283, 2284, 2285, 2286, 2287, 2288, 2289, 2290, 2291, 2299, 2300, 2301, 2302, 2303, 2304, 2305, 2306, 2307, 2308, 2309, 2310, 2311, 2312, 2313, 2314, 2315, 2316, 2317, 2318, 2319, 2321, 2322, 2323, 2324, 2325, 2326, 2327, 2328, 2329, 2330, 2331, 2332, 2333, 2334, 2335, 2336, 2337, 2338, 2339, 2340, 2341, 2342, 2343, 2344, 2345, 2346, 2347, 2348, 2349, 2350, 2351, 2352, 2353, 2354, 2355, 2356, 2357, 2358, 2359, 2360, 2361, 2362, 2363, 2364, 2365, 2366, 2367, 2368, 2369, 2370, 2371, 2372, 2373, 2374, 2381, 2382, 2383, 2384, 2385, 2386, 2387, 2388, 2389, 2390, 2391, 2392, 2393, 2394, 2395, 2396, 2397, 2398, 2399, 2401, 2402, 2403, 2404, 2405, 2406, 2407, 2408, 2409, 2410, 2411, 2412, 2413, 2414, 2415, 2416, 2417, 2418, 2419, 2420, 2421, 2422, 2423, 2424, 2425, 2426, 2427, 2428, 2429, 2430, 2431, 2432, 2433, 2434, 2435, 2436, 2437, 2438, 2439, 2440, 2441, 2442, 2443, 2444, 2445, 2446, 2447, 2448, 2449, 2450, 2451, 2452, 2453, 2454, 2455, 2456, 2463, 2464, 2465, 2466, 2467, 2468, 2469, 2470, 2471, 2472, 2473, 2474, 2475, 2476, 2477, 2478, 2479, 2481, 2482, 2483, 2484, 2485, 2486, 2487, 2488, 2489, 2490, 2491, 2492, 2493, 2494, 2495, 2496, 2497, 2498, 2499, 2500, 2501, 2502, 2503, 2504, 2505, 2506, 2507, 2508, 2509, 2510, 2511, 2512, 2513, 2514, 2515, 2516, 2517, 2518, 2519, 2520, 2521, 2522, 2523, 2524, 2525, 2526, 2527, 2528, 2529, 2530, 2531, 2532, 2533, 2534, 2535, 2536, 2537, 2538, 2544, 2545, 2546, 2547, 2548, 2549, 2550, 2551, 2552, 2553, 2554, 2555, 2556, 2557, 2558, 2559, 2561, 2562, 2563, 2564, 2565, 2566, 2567, 2568, 2569, 2570, 2571, 2572, 2573, 2574, 2575, 2576, 2577, 2578, 2579, 2580, 2581, 2582, 2583, 2584, 2585, 2586, 2587, 2588, 2589, 2590, 2591, 2592, 2593, 2594, 2595, 2596, 2597, 2598, 2599, 2600, 2601, 2602, 2603, 2604, 2605, 2606, 2607, 2608, 2609, 2610, 2611, 2612, 2613, 2614, 2615, 2616, 2617, 2618, 2619, 2620, 2621, 2626, 2627, 2628, 2629, 2630, 2631, 2632, 2633, 2634, 2635, 2636, 2637, 2638, 2639, 2641, 2642, 2643, 2644, 2645, 2646, 2647, 2648, 2649, 2650, 2651, 2652, 2653, 2654, 2655, 2656, 2657, 2658, 2659, 2660, 2661, 2662, 2663, 2664, 2665, 2666, 2667, 2668, 2669, 2670, 2671, 2672, 2673, 2674, 2675, 2676, 2677, 2678, 2679, 2680, 2681, 2682, 2683, 2684, 2685, 2686, 2687, 2688, 2689, 2690, 2691, 2692, 2693, 2694, 2695, 2696, 2697, 2698, 2699, 2700, 2701, 2702, 2703, 2708, 2709, 2710, 2711, 2712, 2713, 2714, 2715, 2716, 2717, 2718, 2719, 2721, 2722, 2723, 2724, 2725, 2726, 2727, 2728, 2729, 2730, 2731, 2732, 2733, 2734, 2735, 2736, 2737, 2738, 2739, 2740, 2741, 2742, 2743, 2744, 2745, 2746, 2747, 2748, 2749, 2750, 2751, 2752, 2753, 2754, 2755, 2756, 2757, 2758, 2759, 2760, 2761, 2762, 2763, 2764, 2765, 2766, 2767, 2768, 2769, 2770, 2771, 2772, 2773, 2774, 2775, 2776, 2777, 2778, 2779, 2780, 2781, 2782, 2783, 2784, 2785, 2790, 2791, 2792, 2793, 2794, 2795, 2796, 2797, 2798, 2799, 2801, 2802, 2803, 2804, 2805, 2806, 2807, 2808, 2809, 2810, 2811, 2812, 2813, 2814, 2815, 2816, 2817, 2818, 2819, 2820, 2821, 2822, 2823, 2824, 2825, 2826, 2827, 2828, 2829, 2830, 2831, 2832, 2833, 2834, 2835, 2836, 2837, 2838, 2839, 2840, 2841, 2842, 2843, 2844, 2845, 2846, 2847, 2848, 2849, 2850, 2851, 2852, 2853, 2854, 2855, 2856, 2857, 2858, 2859, 2860, 2861, 2862, 2863, 2864, 2865, 2866, 2867, 2868, 2872, 2873, 2874, 2875, 2876, 2877, 2878, 2879, 2881, 2882, 2883, 2884, 2885, 2886, 2887, 2888, 2889, 2890, 2891, 2892, 2893, 2894, 2895, 2896, 2897, 2898, 2899, 2900, 2901, 2902, 2903, 2904, 2905, 2906, 2907, 2908, 2909, 2910, 2911, 2912, 2913, 2914, 2915, 2916, 2917, 2918, 2919, 2920, 2921, 2922, 2923, 2924, 2925, 2926, 2927, 2928, 2929, 2930, 2931, 2932, 2933, 2934, 2935, 2936, 2937, 2938, 2939, 2940, 2941, 2942, 2943, 2944, 2945, 2946, 2947, 2948, 2949, 2950, 2953, 2954, 2955, 2956, 2957, 2958, 2959, 2961, 2962, 2963, 2964, 2965, 2966, 2967, 2968, 2969, 2970, 2971, 2972, 2973, 2974, 2975, 2976, 2977, 2978, 2979, 2980, 2981, 2982, 2983, 2984, 2985, 2986, 2987, 2988, 2989, 2990, 2991, 2992, 2993, 2994, 2995, 2996, 2997, 2998, 2999, 3000, 3001, 3002, 3003, 3004, 3005, 3006, 3007, 3008, 3009, 3010, 3011, 3012, 3013, 3014, 3015, 3016, 3017, 3018, 3019, 3020, 3021, 3022, 3023, 3024, 3025, 3026, 3027, 3028, 3029, 3030, 3031, 3032, 3035, 3036, 3037, 3038, 3039, 3041, 3042, 3043, 3044, 3045, 3046, 3047, 3048, 3049, 3050, 3051, 3052, 3053, 3054, 3055, 3056, 3057, 3058, 3059, 3060, 3061, 3062, 3063, 3064, 3065, 3066, 3067, 3068, 3069, 3070, 3071, 3072, 3073, 3074, 3075, 3076, 3077, 3078, 3079, 3080, 3081, 3082, 3083, 3084, 3085, 3086, 3087, 3088, 3089, 3090, 3091, 3092, 3093, 3094, 3095, 3096, 3097, 3098, 3099, 3100, 3101, 3102, 3103, 3104, 3105, 3106, 3107, 3108, 3109, 3110, 3111, 3112, 3113, 3114, 3115, 3117, 3118, 3119, 3121, 3122, 3123, 3124, 3125, 3126, 3127, 3128, 3129, 3130, 3131, 3132, 3133, 3134, 3135, 3136, 3137, 3138, 3139, 3140, 3141, 3142, 3143, 3144, 3145, 3146, 3147, 3148, 3149, 3150, 3151, 3152, 3153, 3154, 3155, 3156, 3157, 3158, 3159, 3160, 3161, 3162, 3163, 3164, 3165, 3166, 3167, 3168, 3169, 3170, 3171, 3172, 3173, 3174, 3175, 3176, 3177, 3178, 3179, 3180, 3181, 3182, 3183, 3184, 3185, 3186, 3187, 3188, 3189, 3190, 3191, 3192, 3193, 3194, 3195, 3196, 3197, 3199, 3201, 3202, 3203, 3204, 3205, 3206, 3207, 3208, 3209, 3210, 3211, 3212, 3213, 3214, 3215, 3216, 3217, 3218, 3219, 3220, 3221, 3222, 3223, 3224, 3225, 3226, 3227, 3228, 3229, 3230, 3231, 3232, 3233, 3234, 3235, 3236, 3237, 3238, 3239, 3240, 3241, 3242, 3243, 3244, 3245, 3246, 3247, 3248, 3249, 3250, 3251, 3252, 3253, 3254, 3255, 3256, 3257, 3258, 3259, 3260, 3261, 3262, 3263, 3264, 3265, 3266, 3267, 3268, 3269, 3270, 3271, 3272, 3273, 3274, 3275, 3276, 3277, 3278, 3279, 3281, 3282, 3283, 3284, 3285, 3286, 3287, 3288, 3289, 3290, 3291, 3292, 3293, 3294, 3295, 3296, 3297, 3298, 3299, 3300, 3301, 3302, 3303, 3304, 3305, 3306, 3307, 3308, 3309, 3310, 3311, 3312, 3313, 3314, 3315, 3316, 3317, 3318, 3319, 3320, 3321, 3322, 3323, 3324, 3325, 3326, 3327, 3328, 3329, 3330, 3331, 3332, 3333, 3334, 3335, 3336, 3337, 3338, 3339, 3340, 3341, 3342, 3343, 3344, 3345, 3346, 3347, 3348, 3349, 3350, 3351, 3352, 3353, 3354, 3355, 3356, 3357, 3358, 3359, 3361, 3363, 3364, 3365, 3366, 3367, 3368, 3369, 3370, 3371, 3372, 3373, 3374, 3375, 3376, 3377, 3378, 3379, 3380, 3381, 3382, 3383, 3384, 3385, 3386, 3387, 3388, 3389, 3390, 3391, 3392, 3393, 3394, 3395, 3396, 3397, 3398, 3399, 3400, 3401, 3402, 3403, 3404, 3405, 3406, 3407, 3408, 3409, 3410, 3411, 3412, 3413, 3414, 3415, 3416, 3417, 3418, 3419, 3420, 3421, 3422, 3423, 3424, 3425, 3426, 3427, 3428, 3429, 3430, 3431, 3432, 3433, 3434, 3435, 3436, 3437, 3438, 3439, 3441, 3442, 3443, 3445, 3446, 3447, 3448, 3449, 3450, 3451, 3452, 3453, 3454, 3455, 3456, 3457, 3458, 3459, 3460, 3461, 3462, 3463, 3464, 3465, 3466, 3467, 3468, 3469, 3470, 3471, 3472, 3473, 3474, 3475, 3476, 3477, 3478, 3479, 3480, 3481, 3482, 3483, 3484, 3485, 3486, 3487, 3488, 3489, 3490, 3491, 3492, 3493, 3494, 3495, 3496, 3497, 3498, 3499, 3500, 3501, 3502, 3503, 3504, 3505, 3506, 3507, 3508, 3509, 3510, 3511, 3512, 3513, 3514, 3515, 3516, 3517, 3518, 3519, 3521, 3522, 3523, 3524, 3525, 3528, 3529, 3530, 3531, 3532, 3533, 3534, 3535, 3536, 3537, 3538, 3539, 3540, 3541, 3542, 3543, 3544, 3545, 3546, 3547, 3548, 3549, 3550, 3551, 3552, 3553, 3554, 3555, 3556, 3557, 3558, 3559, 3560, 3561, 3562, 3563, 3564, 3565, 3566, 3567, 3568, 3569, 3570, 3571, 3572, 3573, 3574, 3575, 3576, 3577, 3578, 3579, 3580, 3581, 3582, 3583, 3584, 3585, 3586, 3587, 3588, 3589, 3590, 3591, 3592, 3593, 3594, 3595, 3596, 3597, 3598, 3599, 3601, 3602, 3603, 3604, 3605, 3606, 3607, 3610, 3611, 3612, 3613, 3614, 3615, 3616, 3617, 3618, 3619, 3620, 3621, 3622, 3623, 3624, 3625, 3626, 3627, 3628, 3629, 3630, 3631, 3632, 3633, 3634, 3635, 3636, 3637, 3638, 3639, 3640, 3641, 3642, 3643, 3644, 3645, 3646, 3647, 3648, 3649, 3650, 3651, 3652, 3653, 3654, 3655, 3656, 3657, 3658, 3659, 3660, 3661, 3662, 3663, 3664, 3665, 3666, 3667, 3668, 3669, 3670, 3671, 3672, 3673, 3674, 3675, 3676, 3677, 3678, 3679, 3681, 3682, 3683, 3684, 3685, 3686, 3687, 3688, 3692, 3693, 3694, 3695, 3696, 3697, 3698, 3699, 3700, 3701, 3702, 3703, 3704, 3705, 3706, 3707, 3708, 3709, 3710, 3711, 3712, 3713, 3714, 3715, 3716, 3717, 3718, 3719, 3720, 3721, 3722, 3723, 3724, 3725, 3726, 3727, 3728, 3729, 3730, 3731, 3732, 3733, 3734, 3735, 3736, 3737, 3738, 3739, 3740, 3741, 3742, 3743, 3744, 3745, 3746, 3747, 3748, 3749, 3750, 3751, 3752, 3753, 3754, 3755, 3756, 3757, 3758, 3759, 3761, 3762, 3763, 3764, 3765, 3766, 3767, 3768, 3769, 3770, 3775, 3776, 3777, 3778, 3779, 3780, 3781, 3782, 3783, 3784, 3785, 3786, 3787, 3788, 3789, 3790, 3791, 3792, 3793, 3794, 3795, 3796, 3797, 3798, 3799, 3800, 3801, 3802, 3803, 3804, 3805, 3806, 3807, 3808, 3809, 3810, 3811, 3812, 3813, 3814, 3815, 3816, 3817, 3818, 3819, 3820, 3821, 3822, 3823, 3824, 3825, 3826, 3827, 3828, 3829, 3830, 3831, 3832, 3833, 3834, 3835, 3836, 3837, 3838, 3839, 3841, 3842, 3843, 3844, 3845, 3846, 3847, 3848, 3849, 3850, 3851, 3852, 3857, 3858, 3859, 3860, 3861, 3862, 3863, 3864, 3865, 3866, 3867, 3868, 3869, 3870, 3871, 3872, 3873, 3874, 3875, 3876, 3877, 3878, 3879, 3880, 3881, 3882, 3883, 3884, 3885, 3886, 3887, 3888, 3889, 3890, 3891, 3892, 3893, 3894, 3895, 3896, 3897, 3898, 3899, 3900, 3901, 3902, 3903, 3904, 3905, 3906, 3907, 3908, 3909, 3910, 3911, 3912, 3913, 3914, 3915, 3916, 3917, 3918, 3919, 3921, 3922, 3923, 3924, 3925, 3926, 3927, 3928, 3929, 3930, 3931, 3932, 3933, 3934, 3939, 3940, 3941, 3942, 3943, 3944, 3945, 3946, 3947, 3948, 3949, 3950, 3951, 3952, 3953, 3954, 3955, 3956, 3957, 3958, 3959, 3960, 3961, 3962, 3963, 3964, 3965, 3966, 3967, 3968, 3969, 3970, 3971, 3972, 3973, 3974, 3975, 3976, 3977, 3978, 3979, 3980, 3981, 3982, 3983, 3984, 3985, 3986, 3987, 3988, 3989, 3990, 3991, 3992, 3993, 3994, 3995, 3996, 3997, 3998, 3999, 4001, 4002, 4003, 4004, 4005, 4006, 4007, 4008, 4009, 4010, 4011, 4012, 4013, 4014, 4015, 4016, 4022, 4023, 4024, 4025, 4026, 4027, 4028, 4029, 4030, 4031, 4032, 4033, 4034, 4035, 4036, 4037, 4038, 4039, 4040, 4041, 4042, 4043, 4044, 4045, 4046, 4047, 4048, 4049, 4050, 4051, 4052, 4053, 4054, 4055, 4056, 4057, 4058, 4059, 4060, 4061, 4062, 4063, 4064, 4065, 4066, 4067, 4068, 4069, 4070, 4071, 4072, 4073, 4074, 4075, 4076, 4077, 4078, 4079, 4081, 4082, 4083, 4084, 4085, 4086, 4087, 4088, 4089, 4090, 4091, 4092, 4093, 4094, 4095, 4096, 4097, 4104, 4105, 4106, 4107, 4108, 4109, 4110, 4111, 4112, 4113, 4114, 4115, 4116, 4117, 4118, 4119, 4120, 4121, 4122, 4123, 4124, 4125, 4126, 4127, 4128, 4129, 4130, 4131, 4132, 4133, 4134, 4135, 4136, 4137, 4138, 4139, 4140, 4141, 4142, 4143, 4144, 4145, 4146, 4147, 4148, 4149, 4150, 4151, 4152, 4153, 4154, 4155, 4156, 4157, 4158, 4159, 4161, 4162, 4163, 4164, 4165, 4166, 4167, 4168, 4169, 4170, 4171, 4172, 4173, 4174, 4175, 4176, 4177, 4178, 4179, 4186, 4187, 4188, 4189, 4190, 4191, 4192, 4193, 4194, 4195, 4196, 4197, 4198, 4199, 4200, 4201, 4202, 4203, 4204, 4205, 4206, 4207, 4208, 4209, 4210, 4211, 4212, 4213, 4214, 4215, 4216, 4217, 4218, 4219, 4220, 4221, 4222, 4223, 4224, 4225, 4226, 4227, 4228, 4229, 4230, 4231, 4232, 4233, 4234, 4235, 4236, 4237, 4238, 4239, 4241, 4242, 4243, 4244, 4245, 4246, 4247, 4248, 4249, 4250, 4251, 4252, 4253, 4254, 4255, 4256, 4257, 4258, 4259, 4260, 4261, 4269, 4270, 4271, 4272, 4273, 4274, 4275, 4276, 4277, 4278, 4279, 4280, 4281, 4282, 4283, 4284, 4285, 4286, 4287, 4288, 4289, 4290, 4291, 4292, 4293, 4294, 4295, 4296, 4297, 4298, 4299, 4300, 4301, 4302, 4303, 4304, 4305, 4306, 4307, 4308, 4309, 4310, 4311, 4312, 4313, 4314, 4315, 4316, 4317, 4318, 4319, 4321, 4322, 4323, 4324, 4325, 4326, 4327, 4328, 4329, 4330, 4331, 4332, 4333, 4334, 4335, 4336, 4337, 4338, 4339, 4340, 4341, 4342, 4343, 4351, 4352, 4353, 4354, 4355, 4356, 4357, 4358, 4359, 4360, 4361, 4362, 4363, 4364, 4365, 4366, 4367, 4368, 4369, 4370, 4371, 4372, 4373, 4374, 4375, 4376, 4377, 4378, 4379, 4380, 4381, 4382, 4383, 4384, 4385, 4386, 4387, 4388, 4389, 4390, 4391, 4392, 4393, 4394, 4395, 4396, 4397, 4398, 4399, 4401, 4402, 4403, 4404, 4405, 4406, 4407, 4408, 4409, 4410, 4411, 4412, 4413, 4414, 4415, 4416, 4417, 4418, 4419, 4420, 4421, 4422, 4423, 4424, 4425, 4434, 4435, 4436, 4437, 4438, 4439, 4440, 4441, 4442, 4443, 4444, 4445, 4446, 4447, 4448, 4449, 4450, 4451, 4452, 4453, 4454, 4455, 4456, 4457, 4458, 4459, 4460, 4461, 4462, 4463, 4464, 4465, 4466, 4467, 4468, 4469, 4470, 4471, 4472, 4473, 4474, 4475, 4476, 4477, 4478, 4482, 4483, 4484, 4485, 4486, 4487, 4488, 4489, 4490, 4491, 4492, 4493, 4494, 4495, 4496, 4497, 4498, 4499, 4500, 4501, 4502, 4503, 4504, 4505, 4506, 4516, 4517, 4518, 4519, 4520, 4521, 4522, 4523, 4524, 4525, 4526, 4527, 4528, 4529, 4530, 4531, 4532, 4533, 4534, 4535, 4536, 4537, 4538, 4539, 4540, 4541, 4542, 4543, 4544, 4545, 4546, 4547, 4548, 4549, 4550, 4551, 4552, 4553, 4554, 4555, 4556, 4557, 4558, 4562, 4563, 4564, 4565, 4566, 4567, 4568, 4569, 4570, 4571, 4572, 4573, 4574, 4575, 4576, 4577, 4578, 4579, 4580, 4581, 4582, 4583, 4584, 4585, 4586, 4587, 4588, 4598, 4599, 4600, 4601, 4602, 4603, 4604, 4605, 4606, 4607, 4608, 4609, 4610, 4611, 4612, 4613, 4614, 4615, 4616, 4617, 4618, 4619, 4620, 4621, 4622, 4623, 4624, 4625, 4626, 4627, 4628, 4629, 4630, 4631, 4632, 4633, 4634, 4635, 4636, 4637, 4638, 4642, 4643, 4644, 4645, 4646, 4647, 4648, 4649, 4650, 4651, 4652, 4653, 4654, 4655, 4656, 4657, 4658, 4659, 4660, 4661, 4662, 4663, 4664, 4665, 4666, 4667, 4668, 4669, 4670, 4681, 4682, 4683, 4684, 4685, 4686, 4687, 4688, 4689, 4690, 4691, 4692, 4693, 4694, 4695, 4696, 4697, 4698, 4699, 4700, 4701, 4702, 4703, 4704, 4705, 4706, 4707, 4708, 4709, 4710, 4711, 4712, 4713, 4714, 4715, 4716, 4717, 4718, 4722, 4723, 4724, 4725, 4726, 4727, 4728, 4729, 4730, 4731, 4732, 4733, 4734, 4735, 4736, 4737, 4738, 4739, 4740, 4741, 4742, 4743, 4744, 4745, 4746, 4747, 4748, 4749, 4750, 4751, 4752, 4763, 4764, 4765, 4766, 4767, 4768, 4769, 4770, 4771, 4772, 4773, 4774, 4775, 4776, 4777, 4778, 4779, 4780, 4781, 4782, 4783, 4784, 4785, 4786, 4787, 4788, 4789, 4790, 4791, 4792, 4793, 4794, 4795, 4796, 4797, 4798, 4802, 4803, 4804, 4805, 4806, 4807, 4808, 4809, 4810, 4811, 4812, 4813, 4814, 4815, 4816, 4817, 4818, 4819, 4820, 4821, 4822, 4823, 4824, 4825, 4826, 4827, 4828, 4829, 4830, 4831, 4832, 4833, 4834, 4845, 4846, 4847, 4848, 4849, 4850, 4851, 4852, 4853, 4854, 4855, 4856, 4857, 4858, 4859, 4860, 4861, 4862, 4863, 4864, 4865, 4866, 4867, 4868, 4869, 4870, 4871, 4872, 4873, 4874, 4875, 4876, 4877, 4878, 4882, 4883, 4884, 4885, 4886, 4887, 4888, 4889, 4890, 4891, 4892, 4893, 4894, 4895, 4896, 4897, 4898, 4899, 4900, 4901, 4902, 4903, 4904, 4905, 4906, 4907, 4908, 4909, 4910, 4911, 4912, 4913, 4914, 4915, 4928, 4929, 4930, 4931, 4932, 4933, 4934, 4935, 4936, 4937, 4938, 4939, 4940, 4941, 4942, 4943, 4944, 4945, 4946, 4947, 4948, 4949, 4950, 4951, 4952, 4953, 4954, 4955, 4956, 4957, 4958, 4962, 4963, 4964, 4965, 4966, 4967, 4968, 4969, 4970, 4971, 4972, 4973, 4974, 4975, 4976, 4977, 4978, 4979, 4980, 4981, 4982, 4983, 4984, 4985, 4986, 4987, 4988, 4989, 4990, 4991, 4992, 4993, 4994, 4995, 4996, 4997, 5010, 5011, 5012, 5013, 5014, 5015, 5016, 5017, 5018, 5019, 5020, 5021, 5022, 5023, 5024, 5025, 5026, 5027, 5028, 5029, 5030, 5031, 5032, 5033, 5034, 5035, 5036, 5037, 5038, 5042, 5043, 5044, 5045, 5046, 5047, 5048, 5049, 5050, 5051, 5052, 5053, 5054, 5055, 5056, 5057, 5058, 5059, 5060, 5061, 5062, 5063, 5064, 5065, 5066, 5067, 5068, 5069, 5070, 5071, 5072, 5073, 5074, 5075, 5076, 5077, 5078, 5079, 5092, 5093, 5094, 5095, 5096, 5097, 5098, 5099, 5100, 5101, 5102, 5103, 5104, 5105, 5106, 5107, 5108, 5109, 5110, 5111, 5112, 5113, 5114, 5115, 5116, 5117, 5118, 5122, 5123, 5124, 5125, 5126, 5127, 5128, 5129, 5130, 5131, 5132, 5133, 5134, 5135, 5136, 5137, 5138, 5139, 5140, 5141, 5142, 5143, 5144, 5145, 5146, 5147, 5148, 5149, 5150, 5151, 5152, 5153, 5154, 5155, 5156, 5157, 5158, 5159, 5160, 5161, 5175, 5176, 5177, 5178, 5179, 5180, 5181, 5182, 5183, 5184, 5185, 5186, 5187, 5188, 5189, 5190, 5191, 5192, 5193, 5194, 5195, 5196, 5197, 5198, 5202, 5203, 5204, 5205, 5206, 5207, 5208, 5209, 5210, 5211, 5212, 5213, 5214, 5215, 5216, 5217, 5218, 5219, 5220, 5221, 5222, 5223, 5224, 5225, 5226, 5227, 5228, 5229, 5230, 5231, 5232, 5233, 5234, 5235, 5236, 5237, 5238, 5239, 5240, 5241, 5242, 5243, 5257, 5258, 5259, 5260, 5261, 5262, 5263, 5264, 5265, 5266, 5267, 5268, 5269, 5270, 5271, 5272, 5273, 5274, 5275, 5276, 5277, 5278, 5282, 5283, 5284, 5285, 5286, 5287, 5288, 5289, 5290, 5291, 5292, 5293, 5294, 5295, 5296, 5297, 5298, 5299, 5300, 5301, 5302, 5303, 5304, 5305, 5306, 5307, 5308, 5309, 5310, 5311, 5312, 5313, 5314, 5315, 5316, 5317, 5318, 5319, 5320, 5321, 5322, 5323, 5324, 5340, 5341, 5342, 5343, 5344, 5345, 5346, 5347, 5348, 5349, 5350, 5351, 5352, 5353, 5354, 5355, 5356, 5357, 5358, 5362, 5363, 5364, 5365, 5366, 5367, 5368, 5369, 5370, 5371, 5372, 5373, 5374, 5375, 5376, 5377, 5378, 5379, 5380, 5381, 5382, 5383, 5384, 5385, 5386, 5387, 5388, 5389, 5390, 5391, 5392, 5393, 5394, 5395, 5396, 5397, 5398, 5399, 5400, 5401, 5402, 5403, 5404, 5405, 5406, 5422, 5423, 5424, 5425, 5426, 5427, 5428, 5429, 5430, 5431, 5432, 5433, 5434, 5435, 5436, 5437, 5438, 5442, 5443, 5444, 5445, 5446, 5447, 5448, 5449, 5450, 5451, 5452, 5453, 5454, 5455, 5456, 5457, 5458, 5459, 5460, 5461, 5462, 5463, 5464, 5465, 5466, 5467, 5468, 5469, 5470, 5471, 5472, 5473, 5474, 5475, 5476, 5477, 5478, 5479, 5480, 5481, 5482, 5483, 5484, 5485, 5486, 5487, 5488, 5504, 5505, 5506, 5507, 5508, 5509, 5510, 5511, 5512, 5513, 5514, 5515, 5516, 5517, 5518, 5522, 5523, 5524, 5525, 5526, 5527, 5528, 5529, 5530, 5531, 5532, 5533, 5534, 5535, 5536, 5537, 5538, 5539, 5540, 5541, 5542, 5543, 5544, 5545, 5546, 5547, 5548, 5549, 5550, 5551, 5552, 5553, 5554, 5555, 5556, 5557, 5558, 5559, 5560, 5561, 5562, 5563, 5564, 5565, 5566, 5567, 5568, 5569, 5570, 5587, 5588, 5589, 5590, 5591, 5592, 5593, 5594, 5595, 5596, 5597, 5603, 5604, 5605, 5606, 5607, 5608, 5609, 5610, 5611, 5612, 5613, 5614, 5615, 5616, 5617, 5618, 5619, 5620, 5621, 5622, 5623, 5624, 5625, 5626, 5627, 5628, 5629, 5630, 5631, 5632, 5633, 5634, 5635, 5636, 5637, 5638, 5639, 5640, 5641, 5642, 5643, 5644, 5645, 5646, 5647, 5648, 5649, 5650, 5651, 5669, 5670, 5671, 5672, 5673, 5674, 5675, 5676, 5677, 5683, 5684, 5685, 5686, 5687, 5688, 5689, 5690, 5691, 5692, 5693, 5694, 5695, 5696, 5697, 5698, 5699, 5700, 5701, 5702, 5703, 5704, 5705, 5706, 5707, 5708, 5709, 5710, 5711, 5712, 5713, 5714, 5715, 5716, 5717, 5718, 5719, 5720, 5721, 5722, 5723, 5724, 5725, 5726, 5727, 5728, 5729, 5730, 5731, 5732, 5733, 5751, 5752, 5753, 5754, 5755, 5756, 5757, 5763, 5764, 5765, 5766, 5767, 5768, 5769, 5770, 5771, 5772, 5773, 5774, 5775, 5776, 5777, 5778, 5779, 5780, 5781, 5782, 5783, 5784, 5785, 5786, 5787, 5788, 5789, 5790, 5791, 5792, 5793, 5794, 5795, 5796, 5797, 5798, 5799, 5800, 5801, 5802, 5803, 5804, 5805, 5806, 5807, 5808, 5809, 5810, 5811, 5812, 5813, 5814, 5815, 5832, 5833, 5834, 5835, 5836, 5837, 5843, 5844, 5845, 5846, 5847, 5848, 5849, 5850, 5851, 5852, 5853, 5854, 5855, 5856, 5857, 5858, 5859, 5860, 5861, 5862, 5863, 5864, 5865, 5866, 5867, 5868, 5869, 5870, 5871, 5872, 5873, 5874, 5875, 5876, 5877, 5878, 5879, 5880, 5881, 5882, 5883, 5884, 5885, 5886, 5887, 5888, 5889, 5890, 5891, 5892, 5893, 5894, 5895, 5896, 5897, 5913, 5914, 5915, 5916, 5917, 5923, 5924, 5925, 5926, 5927, 5928, 5929, 5930, 5931, 5932, 5933, 5934, 5935, 5936, 5937, 5938, 5939, 5940, 5941, 5942, 5943, 5944, 5945, 5946, 5947, 5948, 5949, 5950, 5951, 5952, 5953, 5954, 5955, 5956, 5957, 5958, 5959, 5960, 5961, 5962, 5963, 5964, 5965, 5966, 5967, 5968, 5969, 5970, 5971, 5972, 5973, 5974, 5975, 5976, 5977, 5978, 5979, 5994, 5995, 5996, 5997, 6003, 6004, 6005, 6006, 6007, 6008, 6009, 6010, 6011, 6012, 6013, 6014, 6015, 6016, 6017, 6018, 6019, 6020, 6021, 6022, 6023, 6024, 6025, 6026, 6027, 6028, 6029, 6030, 6031, 6032, 6033, 6034, 6035, 6036, 6037, 6038, 6039, 6040, 6041, 6042, 6043, 6044, 6045, 6046, 6047, 6048, 6049, 6050, 6051, 6052, 6053, 6054, 6055, 6056, 6057, 6058, 6059, 6060, 6075, 6076, 6077, 6083, 6084, 6085, 6086, 6087, 6088, 6089, 6090, 6091, 6092, 6093, 6094, 6095, 6096, 6097, 6098, 6099, 6100, 6101, 6102, 6103, 6104, 6105, 6106, 6107, 6108, 6109, 6110, 6111, 6112, 6113, 6114, 6115, 6116, 6117, 6118, 6119, 6120, 6121, 6122, 6123, 6124, 6125, 6126, 6127, 6128, 6129, 6130, 6131, 6132, 6133, 6134, 6135, 6136, 6137, 6138, 6139, 6140, 6141, 6142, 6156, 6157, 6163, 6164, 6165, 6166, 6167, 6168, 6169, 6170, 6171, 6172, 6173, 6174, 6175, 6176, 6177, 6178, 6179, 6180, 6181, 6182, 6183, 6184, 6185, 6186, 6187, 6188, 6189, 6190, 6191, 6192, 6193, 6194, 6195, 6196, 6197, 6198, 6199, 6200, 6201, 6202, 6203, 6204, 6205, 6206, 6207, 6208, 6209, 6210, 6211, 6212, 6213, 6214, 6215, 6216, 6217, 6218, 6219, 6220, 6221, 6222, 6223, 6224, 6237, 6243, 6244, 6245, 6246, 6247, 6248, 6249, 6250, 6251, 6252, 6253, 6254, 6255, 6256, 6257, 6258, 6259, 6260, 6261, 6262, 6263, 6264, 6265, 6266, 6267, 6268, 6269, 6270, 6271, 6272, 6273, 6274, 6275, 6276, 6277, 6278, 6279, 6280, 6281, 6282, 6283, 6284, 6285, 6286, 6287, 6288, 6289, 6290, 6291, 6292, 6293, 6294, 6295, 6296, 6297, 6298, 6299, 6300, 6301, 6302, 6303, 6304, 6305, 6306, 6323, 6324, 6325, 6326, 6327, 6328, 6329, 6330, 6331, 6332, 6333, 6334, 6335, 6336, 6337, 6338, 6339, 6340, 6341, 6342, 6343, 6344, 6345, 6346, 6347, 6348, 6349, 6350, 6351, 6352, 6353, 6354, 6355, 6356, 6357, 6358, 6359, 6360, 6361, 6362, 6363, 6364, 6365, 6366, 6367, 6368, 6369, 6370, 6371, 6372, 6373, 6374, 6375, 6376, 6377, 6378, 6379, 6380, 6381, 6382, 6383, 6384, 6385, 6386, 6387, 6388, 6403, 6404, 6405, 6406, 6407, 6408, 6409, 6410, 6411, 6412, 6413, 6414, 6415, 6416, 6417, 6418, 6419, 6420, 6421, 6422, 6423, 6424, 6425, 6426, 6427, 6428, 6429, 6430, 6431, 6432, 6433, 6434, 6435, 6436, 6437, 6438, 6439, 6440, 6441, 6442, 6443, 6444, 6445, 6446, 6447, 6448, 6449, 6450, 6451, 6452, 6453, 6454, 6455, 6456, 6457, 6458, 6459, 6460, 6461, 6462, 6463, 6464, 6465, 6466, 6467, 6468, 6469, 6483, 6484, 6485, 6486, 6487, 6488, 6489, 6490, 6491, 6492, 6493, 6494, 6495, 6496, 6497, 6498, 6499, 6500, 6501, 6502, 6503, 6504, 6505, 6506, 6507, 6508, 6509, 6510, 6511, 6512, 6513, 6514, 6515, 6516, 6517, 6518, 6519, 6520, 6521, 6522, 6523, 6524, 6525, 6526, 6527, 6528, 6529, 6530, 6531, 6532, 6533, 6534, 6535, 6536, 6537, 6538, 6539, 6540, 6541, 6542, 6543, 6544, 6545, 6546, 6547, 6548, 6549, 6550, 6551]\n",
      "val ids:  []\n",
      "test ids:  [0, 1, 2, 3, 4, 5, 6, 7, 8, 78, 79, 80, 81, 82, 83, 84, 85, 86, 87, 88, 89, 90, 158, 159, 160, 161, 162, 163, 164, 165, 166, 167, 168, 169, 170, 171, 238, 239, 240, 241, 242, 243, 244, 245, 246, 247, 248, 249, 250, 251, 252, 253, 318, 319, 320, 321, 322, 324, 325, 326, 327, 328, 329, 330, 331, 332, 333, 334, 335, 398, 399, 400, 401, 402, 405, 406, 407, 408, 409, 410, 411, 412, 413, 414, 415, 416, 417, 478, 479, 480, 481, 482, 486, 487, 488, 489, 490, 491, 492, 493, 494, 495, 496, 497, 498, 499, 558, 559, 560, 561, 562, 567, 568, 569, 570, 571, 572, 573, 574, 575, 576, 577, 578, 579, 580, 638, 639, 640, 641, 642, 648, 649, 650, 651, 652, 653, 654, 655, 656, 657, 658, 659, 660, 661, 662, 718, 719, 720, 721, 722, 729, 730, 731, 732, 733, 734, 735, 736, 737, 738, 739, 740, 741, 742, 743, 744, 798, 799, 800, 801, 802, 810, 811, 812, 813, 814, 815, 816, 817, 818, 819, 820, 821, 822, 823, 824, 825, 826, 878, 879, 880, 881, 882, 892, 893, 894, 895, 896, 897, 898, 899, 900, 901, 902, 903, 904, 905, 906, 907, 908, 958, 959, 960, 961, 962, 974, 975, 976, 977, 978, 979, 980, 981, 982, 983, 984, 985, 986, 987, 988, 989, 1039, 1040, 1041, 1057, 1058, 1059, 1060, 1061, 1062, 1063, 1064, 1065, 1066, 1067, 1068, 1069, 1070, 1071, 1119, 1120, 1121, 1139, 1140, 1141, 1142, 1143, 1144, 1145, 1146, 1147, 1148, 1149, 1150, 1151, 1152, 1153, 1199, 1200, 1201, 1221, 1222, 1223, 1224, 1225, 1226, 1227, 1228, 1229, 1230, 1231, 1232, 1233, 1234, 1235, 1279, 1280, 1281, 1304, 1305, 1306, 1307, 1308, 1309, 1310, 1311, 1312, 1313, 1314, 1315, 1316, 1359, 1360, 1361, 1386, 1387, 1388, 1389, 1390, 1391, 1392, 1393, 1394, 1395, 1396, 1397, 1398, 1439, 1440, 1441, 1469, 1470, 1471, 1472, 1473, 1474, 1475, 1476, 1477, 1478, 1479, 1480, 1519, 1520, 1521, 1551, 1552, 1553, 1554, 1555, 1556, 1557, 1558, 1559, 1560, 1561, 1562, 1599, 1600, 1601, 1633, 1634, 1635, 1636, 1637, 1638, 1639, 1640, 1641, 1642, 1643, 1644, 1679, 1680, 1681, 1716, 1717, 1718, 1719, 1720, 1721, 1722, 1723, 1724, 1725, 1759, 1760, 1761, 1798, 1799, 1800, 1801, 1802, 1803, 1804, 1805, 1806, 1807, 1839, 1840, 1841, 1880, 1881, 1882, 1883, 1884, 1885, 1886, 1887, 1888, 1889, 1919, 1920, 1921, 1963, 1964, 1965, 1966, 1967, 1968, 1969, 1970, 1971, 1999, 2000, 2001, 2045, 2046, 2047, 2048, 2049, 2050, 2051, 2052, 2053, 2079, 2080, 2081, 2127, 2128, 2129, 2130, 2131, 2132, 2133, 2134, 2160, 2210, 2211, 2212, 2213, 2214, 2215, 2216, 2240, 2292, 2293, 2294, 2295, 2296, 2297, 2298, 2320, 2375, 2376, 2377, 2378, 2379, 2380, 2400, 2457, 2458, 2459, 2460, 2461, 2462, 2480, 2539, 2540, 2541, 2542, 2543, 2560, 2622, 2623, 2624, 2625, 2640, 2704, 2705, 2706, 2707, 2720, 2786, 2787, 2788, 2789, 2800, 2869, 2870, 2871, 2880, 2951, 2952, 2960, 3033, 3034, 3040, 3116, 3120, 3198, 3200, 3280, 3360, 3362, 3440, 3444, 3520, 3526, 3527, 3600, 3608, 3609, 3680, 3689, 3690, 3691, 3760, 3771, 3772, 3773, 3774, 3840, 3853, 3854, 3855, 3856, 3920, 3935, 3936, 3937, 3938, 4000, 4017, 4018, 4019, 4020, 4021, 4080, 4098, 4099, 4100, 4101, 4102, 4103, 4160, 4180, 4181, 4182, 4183, 4184, 4185, 4240, 4262, 4263, 4264, 4265, 4266, 4267, 4268, 4320, 4344, 4345, 4346, 4347, 4348, 4349, 4350, 4400, 4426, 4427, 4428, 4429, 4430, 4431, 4432, 4433, 4479, 4480, 4481, 4507, 4508, 4509, 4510, 4511, 4512, 4513, 4514, 4515, 4559, 4560, 4561, 4589, 4590, 4591, 4592, 4593, 4594, 4595, 4596, 4597, 4639, 4640, 4641, 4671, 4672, 4673, 4674, 4675, 4676, 4677, 4678, 4679, 4680, 4719, 4720, 4721, 4753, 4754, 4755, 4756, 4757, 4758, 4759, 4760, 4761, 4762, 4799, 4800, 4801, 4835, 4836, 4837, 4838, 4839, 4840, 4841, 4842, 4843, 4844, 4879, 4880, 4881, 4916, 4917, 4918, 4919, 4920, 4921, 4922, 4923, 4924, 4925, 4926, 4927, 4959, 4960, 4961, 4998, 4999, 5000, 5001, 5002, 5003, 5004, 5005, 5006, 5007, 5008, 5009, 5039, 5040, 5041, 5080, 5081, 5082, 5083, 5084, 5085, 5086, 5087, 5088, 5089, 5090, 5091, 5119, 5120, 5121, 5162, 5163, 5164, 5165, 5166, 5167, 5168, 5169, 5170, 5171, 5172, 5173, 5174, 5199, 5200, 5201, 5244, 5245, 5246, 5247, 5248, 5249, 5250, 5251, 5252, 5253, 5254, 5255, 5256, 5279, 5280, 5281, 5325, 5326, 5327, 5328, 5329, 5330, 5331, 5332, 5333, 5334, 5335, 5336, 5337, 5338, 5339, 5359, 5360, 5361, 5407, 5408, 5409, 5410, 5411, 5412, 5413, 5414, 5415, 5416, 5417, 5418, 5419, 5420, 5421, 5439, 5440, 5441, 5489, 5490, 5491, 5492, 5493, 5494, 5495, 5496, 5497, 5498, 5499, 5500, 5501, 5502, 5503, 5519, 5520, 5521, 5571, 5572, 5573, 5574, 5575, 5576, 5577, 5578, 5579, 5580, 5581, 5582, 5583, 5584, 5585, 5586, 5598, 5599, 5600, 5601, 5602, 5652, 5653, 5654, 5655, 5656, 5657, 5658, 5659, 5660, 5661, 5662, 5663, 5664, 5665, 5666, 5667, 5668, 5678, 5679, 5680, 5681, 5682, 5734, 5735, 5736, 5737, 5738, 5739, 5740, 5741, 5742, 5743, 5744, 5745, 5746, 5747, 5748, 5749, 5750, 5758, 5759, 5760, 5761, 5762, 5816, 5817, 5818, 5819, 5820, 5821, 5822, 5823, 5824, 5825, 5826, 5827, 5828, 5829, 5830, 5831, 5838, 5839, 5840, 5841, 5842, 5898, 5899, 5900, 5901, 5902, 5903, 5904, 5905, 5906, 5907, 5908, 5909, 5910, 5911, 5912, 5918, 5919, 5920, 5921, 5922, 5980, 5981, 5982, 5983, 5984, 5985, 5986, 5987, 5988, 5989, 5990, 5991, 5992, 5993, 5998, 5999, 6000, 6001, 6002, 6061, 6062, 6063, 6064, 6065, 6066, 6067, 6068, 6069, 6070, 6071, 6072, 6073, 6074, 6078, 6079, 6080, 6081, 6082, 6143, 6144, 6145, 6146, 6147, 6148, 6149, 6150, 6151, 6152, 6153, 6154, 6155, 6158, 6159, 6160, 6161, 6162, 6225, 6226, 6227, 6228, 6229, 6230, 6231, 6232, 6233, 6234, 6235, 6236, 6238, 6239, 6240, 6241, 6242, 6307, 6308, 6309, 6310, 6311, 6312, 6313, 6314, 6315, 6316, 6317, 6318, 6319, 6320, 6321, 6322, 6389, 6390, 6391, 6392, 6393, 6394, 6395, 6396, 6397, 6398, 6399, 6400, 6401, 6402, 6470, 6471, 6472, 6473, 6474, 6475, 6476, 6477, 6478, 6479, 6480, 6481, 6482, 6552, 6553, 6554, 6555, 6556, 6557, 6558, 6559, 6560]\n",
      "CPU times: user 175 ms, sys: 24.3 ms, total: 199 ms\n",
      "Wall time: 198 ms\n"
     ]
    }
   ],
   "source": [
    "%%time\n",
    "n_total = len(simulation.dataframe)\n",
    "n_train = len(simulation.dataframe[simulation.dataframe.type_of == \"train\"])\n",
    "n_val = len(simulation.dataframe[simulation.dataframe.type_of == \"val\"])\n",
    "n_test = len(simulation.dataframe[simulation.dataframe.type_of == \"test\"])\n",
    "n_train_hamiltonians = len(simulation.train_ids)\n",
    "n_val_hamiltonians = len(simulation.val_ids)\n",
    "n_test_hamiltonians = len(simulation.test_ids)\n",
    "n_total_hamiltonians = n_train_hamiltonians + n_val_hamiltonians + n_test_hamiltonians\n",
    "\n",
    "print(\"% train: \", n_train/n_total)\n",
    "print(\"% val: \",  n_val/n_total)\n",
    "print(\"% test: \", n_test/n_total)\n",
    "print(\"% train + val + test: \", (n_train+n_val+n_test)/n_total)\n",
    "print(\"\\n\")\n",
    "print(\"number of train hamiltonians: \", n_train_hamiltonians)\n",
    "print(\"number of val hamiltonians: \", n_val_hamiltonians)\n",
    "print(\"number of test hamiltonians: \", n_test_hamiltonians)\n",
    "print(\"total number of hamiltonians: \", n_total_hamiltonians)\n",
    "print(\"\\n\")\n",
    "print(\"train ids: \", simulation.train_ids)\n",
    "print(\"val ids: \", simulation.val_ids)\n",
    "print(\"test ids: \", simulation.test_ids)"
   ]
  },
  {
   "cell_type": "markdown",
   "metadata": {
    "papermill": {
     "duration": 0.018592,
     "end_time": "2020-07-18T06:13:49.063525",
     "exception": false,
     "start_time": "2020-07-18T06:13:49.044933",
     "status": "completed"
    },
    "tags": []
   },
   "source": [
    "## Running a simulation"
   ]
  },
  {
   "cell_type": "code",
   "execution_count": 27,
   "metadata": {
    "execution": {
     "iopub.execute_input": "2020-07-18T06:13:49.104447Z",
     "iopub.status.busy": "2020-07-18T06:13:49.104096Z",
     "iopub.status.idle": "2020-07-18T06:16:08.134176Z",
     "shell.execute_reply": "2020-07-18T06:16:08.134478Z"
    },
    "papermill": {
     "duration": 139.051923,
     "end_time": "2020-07-18T06:16:08.134545",
     "exception": false,
     "start_time": "2020-07-18T06:13:49.082622",
     "status": "completed"
    },
    "tags": []
   },
   "outputs": [
    {
     "name": "stderr",
     "output_type": "stream",
     "text": [
      "\r",
      "running experiments:   0%|          | 0/100 [00:00<?, ?it/s]"
     ]
    },
    {
     "name": "stdout",
     "output_type": "stream",
     "text": [
      "Simulation mode:  dst\n"
     ]
    },
    {
     "name": "stderr",
     "output_type": "stream",
     "text": [
      "\r",
      "running experiments:   1%|          | 1/100 [00:01<02:20,  1.42s/it]"
     ]
    },
    {
     "name": "stderr",
     "output_type": "stream",
     "text": [
      "\r",
      "running experiments:   2%|▏         | 2/100 [00:02<02:17,  1.41s/it]"
     ]
    },
    {
     "name": "stderr",
     "output_type": "stream",
     "text": [
      "\r",
      "running experiments:   3%|▎         | 3/100 [00:04<02:16,  1.40s/it]"
     ]
    },
    {
     "name": "stderr",
     "output_type": "stream",
     "text": [
      "\r",
      "running experiments:   4%|▍         | 4/100 [00:05<02:15,  1.41s/it]"
     ]
    },
    {
     "name": "stderr",
     "output_type": "stream",
     "text": [
      "\r",
      "running experiments:   5%|▌         | 5/100 [00:07<02:14,  1.41s/it]"
     ]
    },
    {
     "name": "stderr",
     "output_type": "stream",
     "text": [
      "\r",
      "running experiments:   6%|▌         | 6/100 [00:08<02:12,  1.41s/it]"
     ]
    },
    {
     "name": "stderr",
     "output_type": "stream",
     "text": [
      "\r",
      "running experiments:   7%|▋         | 7/100 [00:09<02:10,  1.41s/it]"
     ]
    },
    {
     "name": "stderr",
     "output_type": "stream",
     "text": [
      "\r",
      "running experiments:   8%|▊         | 8/100 [00:11<02:10,  1.41s/it]"
     ]
    },
    {
     "name": "stderr",
     "output_type": "stream",
     "text": [
      "\r",
      "running experiments:   9%|▉         | 9/100 [00:12<02:08,  1.41s/it]"
     ]
    },
    {
     "name": "stderr",
     "output_type": "stream",
     "text": [
      "\r",
      "running experiments:  10%|█         | 10/100 [00:14<02:08,  1.43s/it]"
     ]
    },
    {
     "name": "stderr",
     "output_type": "stream",
     "text": [
      "\r",
      "running experiments:  11%|█         | 11/100 [00:15<02:06,  1.42s/it]"
     ]
    },
    {
     "name": "stderr",
     "output_type": "stream",
     "text": [
      "\r",
      "running experiments:  12%|█▏        | 12/100 [00:16<02:04,  1.42s/it]"
     ]
    },
    {
     "name": "stderr",
     "output_type": "stream",
     "text": [
      "\r",
      "running experiments:  13%|█▎        | 13/100 [00:18<02:02,  1.41s/it]"
     ]
    },
    {
     "name": "stderr",
     "output_type": "stream",
     "text": [
      "\r",
      "running experiments:  14%|█▍        | 14/100 [00:19<02:00,  1.40s/it]"
     ]
    },
    {
     "name": "stderr",
     "output_type": "stream",
     "text": [
      "\r",
      "running experiments:  15%|█▌        | 15/100 [00:21<01:59,  1.41s/it]"
     ]
    },
    {
     "name": "stderr",
     "output_type": "stream",
     "text": [
      "\r",
      "running experiments:  16%|█▌        | 16/100 [00:22<01:57,  1.40s/it]"
     ]
    },
    {
     "name": "stderr",
     "output_type": "stream",
     "text": [
      "\r",
      "running experiments:  17%|█▋        | 17/100 [00:23<01:55,  1.40s/it]"
     ]
    },
    {
     "name": "stderr",
     "output_type": "stream",
     "text": [
      "\r",
      "running experiments:  18%|█▊        | 18/100 [00:25<01:54,  1.40s/it]"
     ]
    },
    {
     "name": "stderr",
     "output_type": "stream",
     "text": [
      "\r",
      "running experiments:  19%|█▉        | 19/100 [00:26<01:52,  1.39s/it]"
     ]
    },
    {
     "name": "stderr",
     "output_type": "stream",
     "text": [
      "\r",
      "running experiments:  20%|██        | 20/100 [00:28<01:51,  1.39s/it]"
     ]
    },
    {
     "name": "stderr",
     "output_type": "stream",
     "text": [
      "\r",
      "running experiments:  21%|██        | 21/100 [00:29<01:49,  1.39s/it]"
     ]
    },
    {
     "name": "stderr",
     "output_type": "stream",
     "text": [
      "\r",
      "running experiments:  22%|██▏       | 22/100 [00:30<01:48,  1.39s/it]"
     ]
    },
    {
     "name": "stderr",
     "output_type": "stream",
     "text": [
      "\r",
      "running experiments:  23%|██▎       | 23/100 [00:32<01:47,  1.39s/it]"
     ]
    },
    {
     "name": "stderr",
     "output_type": "stream",
     "text": [
      "\r",
      "running experiments:  24%|██▍       | 24/100 [00:33<01:45,  1.39s/it]"
     ]
    },
    {
     "name": "stderr",
     "output_type": "stream",
     "text": [
      "\r",
      "running experiments:  25%|██▌       | 25/100 [00:35<01:44,  1.39s/it]"
     ]
    },
    {
     "name": "stderr",
     "output_type": "stream",
     "text": [
      "\r",
      "running experiments:  26%|██▌       | 26/100 [00:36<01:42,  1.38s/it]"
     ]
    },
    {
     "name": "stderr",
     "output_type": "stream",
     "text": [
      "\r",
      "running experiments:  27%|██▋       | 27/100 [00:37<01:41,  1.38s/it]"
     ]
    },
    {
     "name": "stderr",
     "output_type": "stream",
     "text": [
      "\r",
      "running experiments:  28%|██▊       | 28/100 [00:39<01:39,  1.38s/it]"
     ]
    },
    {
     "name": "stderr",
     "output_type": "stream",
     "text": [
      "\r",
      "running experiments:  29%|██▉       | 29/100 [00:40<01:38,  1.38s/it]"
     ]
    },
    {
     "name": "stderr",
     "output_type": "stream",
     "text": [
      "\r",
      "running experiments:  30%|███       | 30/100 [00:41<01:37,  1.39s/it]"
     ]
    },
    {
     "name": "stderr",
     "output_type": "stream",
     "text": [
      "\r",
      "running experiments:  31%|███       | 31/100 [00:43<01:36,  1.39s/it]"
     ]
    },
    {
     "name": "stderr",
     "output_type": "stream",
     "text": [
      "\r",
      "running experiments:  32%|███▏      | 32/100 [00:44<01:34,  1.39s/it]"
     ]
    },
    {
     "name": "stderr",
     "output_type": "stream",
     "text": [
      "\r",
      "running experiments:  33%|███▎      | 33/100 [00:46<01:32,  1.39s/it]"
     ]
    },
    {
     "name": "stderr",
     "output_type": "stream",
     "text": [
      "\r",
      "running experiments:  34%|███▍      | 34/100 [00:47<01:31,  1.39s/it]"
     ]
    },
    {
     "name": "stderr",
     "output_type": "stream",
     "text": [
      "\r",
      "running experiments:  35%|███▌      | 35/100 [00:48<01:29,  1.38s/it]"
     ]
    },
    {
     "name": "stderr",
     "output_type": "stream",
     "text": [
      "\r",
      "running experiments:  36%|███▌      | 36/100 [00:50<01:28,  1.38s/it]"
     ]
    },
    {
     "name": "stderr",
     "output_type": "stream",
     "text": [
      "\r",
      "running experiments:  37%|███▋      | 37/100 [00:51<01:26,  1.38s/it]"
     ]
    },
    {
     "name": "stderr",
     "output_type": "stream",
     "text": [
      "\r",
      "running experiments:  38%|███▊      | 38/100 [00:52<01:25,  1.38s/it]"
     ]
    },
    {
     "name": "stderr",
     "output_type": "stream",
     "text": [
      "\r",
      "running experiments:  39%|███▉      | 39/100 [00:54<01:24,  1.38s/it]"
     ]
    },
    {
     "name": "stderr",
     "output_type": "stream",
     "text": [
      "\r",
      "running experiments:  40%|████      | 40/100 [00:55<01:22,  1.38s/it]"
     ]
    },
    {
     "name": "stderr",
     "output_type": "stream",
     "text": [
      "\r",
      "running experiments:  41%|████      | 41/100 [00:57<01:21,  1.38s/it]"
     ]
    },
    {
     "name": "stderr",
     "output_type": "stream",
     "text": [
      "\r",
      "running experiments:  42%|████▏     | 42/100 [00:58<01:20,  1.39s/it]"
     ]
    },
    {
     "name": "stderr",
     "output_type": "stream",
     "text": [
      "\r",
      "running experiments:  43%|████▎     | 43/100 [00:59<01:19,  1.39s/it]"
     ]
    },
    {
     "name": "stderr",
     "output_type": "stream",
     "text": [
      "\r",
      "running experiments:  44%|████▍     | 44/100 [01:01<01:17,  1.38s/it]"
     ]
    },
    {
     "name": "stderr",
     "output_type": "stream",
     "text": [
      "\r",
      "running experiments:  45%|████▌     | 45/100 [01:02<01:16,  1.39s/it]"
     ]
    },
    {
     "name": "stderr",
     "output_type": "stream",
     "text": [
      "\r",
      "running experiments:  46%|████▌     | 46/100 [01:04<01:15,  1.40s/it]"
     ]
    },
    {
     "name": "stderr",
     "output_type": "stream",
     "text": [
      "\r",
      "running experiments:  47%|████▋     | 47/100 [01:05<01:14,  1.41s/it]"
     ]
    },
    {
     "name": "stderr",
     "output_type": "stream",
     "text": [
      "\r",
      "running experiments:  48%|████▊     | 48/100 [01:06<01:13,  1.41s/it]"
     ]
    },
    {
     "name": "stderr",
     "output_type": "stream",
     "text": [
      "\r",
      "running experiments:  49%|████▉     | 49/100 [01:08<01:12,  1.42s/it]"
     ]
    },
    {
     "name": "stderr",
     "output_type": "stream",
     "text": [
      "\r",
      "running experiments:  50%|█████     | 50/100 [01:09<01:11,  1.44s/it]"
     ]
    },
    {
     "name": "stderr",
     "output_type": "stream",
     "text": [
      "\r",
      "running experiments:  51%|█████     | 51/100 [01:11<01:10,  1.44s/it]"
     ]
    },
    {
     "name": "stderr",
     "output_type": "stream",
     "text": [
      "\r",
      "running experiments:  52%|█████▏    | 52/100 [01:12<01:08,  1.43s/it]"
     ]
    },
    {
     "name": "stderr",
     "output_type": "stream",
     "text": [
      "\r",
      "running experiments:  53%|█████▎    | 53/100 [01:14<01:06,  1.42s/it]"
     ]
    },
    {
     "name": "stderr",
     "output_type": "stream",
     "text": [
      "\r",
      "running experiments:  54%|█████▍    | 54/100 [01:15<01:04,  1.41s/it]"
     ]
    },
    {
     "name": "stderr",
     "output_type": "stream",
     "text": [
      "\r",
      "running experiments:  55%|█████▌    | 55/100 [01:16<01:03,  1.40s/it]"
     ]
    },
    {
     "name": "stderr",
     "output_type": "stream",
     "text": [
      "\r",
      "running experiments:  56%|█████▌    | 56/100 [01:18<01:01,  1.40s/it]"
     ]
    },
    {
     "name": "stderr",
     "output_type": "stream",
     "text": [
      "\r",
      "running experiments:  57%|█████▋    | 57/100 [01:19<00:59,  1.39s/it]"
     ]
    },
    {
     "name": "stderr",
     "output_type": "stream",
     "text": [
      "\r",
      "running experiments:  58%|█████▊    | 58/100 [01:21<00:57,  1.38s/it]"
     ]
    },
    {
     "name": "stderr",
     "output_type": "stream",
     "text": [
      "\r",
      "running experiments:  59%|█████▉    | 59/100 [01:22<00:56,  1.38s/it]"
     ]
    },
    {
     "name": "stderr",
     "output_type": "stream",
     "text": [
      "\r",
      "running experiments:  60%|██████    | 60/100 [01:23<00:55,  1.38s/it]"
     ]
    },
    {
     "name": "stderr",
     "output_type": "stream",
     "text": [
      "\r",
      "running experiments:  61%|██████    | 61/100 [01:25<00:53,  1.38s/it]"
     ]
    },
    {
     "name": "stderr",
     "output_type": "stream",
     "text": [
      "\r",
      "running experiments:  62%|██████▏   | 62/100 [01:26<00:52,  1.38s/it]"
     ]
    },
    {
     "name": "stderr",
     "output_type": "stream",
     "text": [
      "\r",
      "running experiments:  63%|██████▎   | 63/100 [01:27<00:50,  1.38s/it]"
     ]
    },
    {
     "name": "stderr",
     "output_type": "stream",
     "text": [
      "\r",
      "running experiments:  64%|██████▍   | 64/100 [01:29<00:49,  1.38s/it]"
     ]
    },
    {
     "name": "stderr",
     "output_type": "stream",
     "text": [
      "\r",
      "running experiments:  65%|██████▌   | 65/100 [01:30<00:48,  1.38s/it]"
     ]
    },
    {
     "name": "stderr",
     "output_type": "stream",
     "text": [
      "\r",
      "running experiments:  66%|██████▌   | 66/100 [01:32<00:46,  1.38s/it]"
     ]
    },
    {
     "name": "stderr",
     "output_type": "stream",
     "text": [
      "\r",
      "running experiments:  67%|██████▋   | 67/100 [01:33<00:45,  1.38s/it]"
     ]
    },
    {
     "name": "stderr",
     "output_type": "stream",
     "text": [
      "\r",
      "running experiments:  68%|██████▊   | 68/100 [01:34<00:44,  1.38s/it]"
     ]
    },
    {
     "name": "stderr",
     "output_type": "stream",
     "text": [
      "\r",
      "running experiments:  69%|██████▉   | 69/100 [01:36<00:42,  1.38s/it]"
     ]
    },
    {
     "name": "stderr",
     "output_type": "stream",
     "text": [
      "\r",
      "running experiments:  70%|███████   | 70/100 [01:37<00:41,  1.38s/it]"
     ]
    },
    {
     "name": "stderr",
     "output_type": "stream",
     "text": [
      "\r",
      "running experiments:  71%|███████   | 71/100 [01:38<00:39,  1.37s/it]"
     ]
    },
    {
     "name": "stderr",
     "output_type": "stream",
     "text": [
      "\r",
      "running experiments:  72%|███████▏  | 72/100 [01:40<00:38,  1.37s/it]"
     ]
    },
    {
     "name": "stderr",
     "output_type": "stream",
     "text": [
      "\r",
      "running experiments:  73%|███████▎  | 73/100 [01:41<00:37,  1.37s/it]"
     ]
    },
    {
     "name": "stderr",
     "output_type": "stream",
     "text": [
      "\r",
      "running experiments:  74%|███████▍  | 74/100 [01:43<00:35,  1.37s/it]"
     ]
    },
    {
     "name": "stderr",
     "output_type": "stream",
     "text": [
      "\r",
      "running experiments:  75%|███████▌  | 75/100 [01:44<00:34,  1.38s/it]"
     ]
    },
    {
     "name": "stderr",
     "output_type": "stream",
     "text": [
      "\r",
      "running experiments:  76%|███████▌  | 76/100 [01:45<00:32,  1.37s/it]"
     ]
    },
    {
     "name": "stderr",
     "output_type": "stream",
     "text": [
      "\r",
      "running experiments:  77%|███████▋  | 77/100 [01:47<00:31,  1.38s/it]"
     ]
    },
    {
     "name": "stderr",
     "output_type": "stream",
     "text": [
      "\r",
      "running experiments:  78%|███████▊  | 78/100 [01:48<00:30,  1.37s/it]"
     ]
    },
    {
     "name": "stderr",
     "output_type": "stream",
     "text": [
      "\r",
      "running experiments:  79%|███████▉  | 79/100 [01:49<00:28,  1.38s/it]"
     ]
    },
    {
     "name": "stderr",
     "output_type": "stream",
     "text": [
      "\r",
      "running experiments:  80%|████████  | 80/100 [01:51<00:27,  1.38s/it]"
     ]
    },
    {
     "name": "stderr",
     "output_type": "stream",
     "text": [
      "\r",
      "running experiments:  81%|████████  | 81/100 [01:52<00:26,  1.39s/it]"
     ]
    },
    {
     "name": "stderr",
     "output_type": "stream",
     "text": [
      "\r",
      "running experiments:  82%|████████▏ | 82/100 [01:54<00:24,  1.39s/it]"
     ]
    },
    {
     "name": "stderr",
     "output_type": "stream",
     "text": [
      "\r",
      "running experiments:  83%|████████▎ | 83/100 [01:55<00:23,  1.39s/it]"
     ]
    },
    {
     "name": "stderr",
     "output_type": "stream",
     "text": [
      "\r",
      "running experiments:  84%|████████▍ | 84/100 [01:56<00:22,  1.39s/it]"
     ]
    },
    {
     "name": "stderr",
     "output_type": "stream",
     "text": [
      "\r",
      "running experiments:  85%|████████▌ | 85/100 [01:58<00:20,  1.39s/it]"
     ]
    },
    {
     "name": "stderr",
     "output_type": "stream",
     "text": [
      "\r",
      "running experiments:  86%|████████▌ | 86/100 [01:59<00:19,  1.39s/it]"
     ]
    },
    {
     "name": "stderr",
     "output_type": "stream",
     "text": [
      "\r",
      "running experiments:  87%|████████▋ | 87/100 [02:01<00:18,  1.40s/it]"
     ]
    },
    {
     "name": "stderr",
     "output_type": "stream",
     "text": [
      "\r",
      "running experiments:  88%|████████▊ | 88/100 [02:02<00:16,  1.39s/it]"
     ]
    },
    {
     "name": "stderr",
     "output_type": "stream",
     "text": [
      "\r",
      "running experiments:  89%|████████▉ | 89/100 [02:03<00:15,  1.39s/it]"
     ]
    },
    {
     "name": "stderr",
     "output_type": "stream",
     "text": [
      "\r",
      "running experiments:  90%|█████████ | 90/100 [02:05<00:13,  1.38s/it]"
     ]
    },
    {
     "name": "stderr",
     "output_type": "stream",
     "text": [
      "\r",
      "running experiments:  91%|█████████ | 91/100 [02:06<00:12,  1.38s/it]"
     ]
    },
    {
     "name": "stderr",
     "output_type": "stream",
     "text": [
      "\r",
      "running experiments:  92%|█████████▏| 92/100 [02:07<00:11,  1.38s/it]"
     ]
    },
    {
     "name": "stderr",
     "output_type": "stream",
     "text": [
      "\r",
      "running experiments:  93%|█████████▎| 93/100 [02:09<00:09,  1.38s/it]"
     ]
    },
    {
     "name": "stderr",
     "output_type": "stream",
     "text": [
      "\r",
      "running experiments:  94%|█████████▍| 94/100 [02:10<00:08,  1.38s/it]"
     ]
    },
    {
     "name": "stderr",
     "output_type": "stream",
     "text": [
      "\r",
      "running experiments:  95%|█████████▌| 95/100 [02:12<00:06,  1.38s/it]"
     ]
    },
    {
     "name": "stderr",
     "output_type": "stream",
     "text": [
      "\r",
      "running experiments:  96%|█████████▌| 96/100 [02:13<00:05,  1.38s/it]"
     ]
    },
    {
     "name": "stderr",
     "output_type": "stream",
     "text": [
      "\r",
      "running experiments:  97%|█████████▋| 97/100 [02:14<00:04,  1.39s/it]"
     ]
    },
    {
     "name": "stderr",
     "output_type": "stream",
     "text": [
      "\r",
      "running experiments:  98%|█████████▊| 98/100 [02:16<00:02,  1.38s/it]"
     ]
    },
    {
     "name": "stderr",
     "output_type": "stream",
     "text": [
      "\r",
      "running experiments:  99%|█████████▉| 99/100 [02:17<00:01,  1.38s/it]"
     ]
    },
    {
     "name": "stderr",
     "output_type": "stream",
     "text": [
      "\r",
      "running experiments: 100%|██████████| 100/100 [02:19<00:00,  1.38s/it]"
     ]
    },
    {
     "name": "stderr",
     "output_type": "stream",
     "text": [
      "\r",
      "running experiments: 100%|██████████| 100/100 [02:19<00:00,  1.39s/it]"
     ]
    },
    {
     "name": "stdout",
     "output_type": "stream",
     "text": [
      "CPU times: user 2min 18s, sys: 795 ms, total: 2min 19s\n",
      "Wall time: 2min 19s\n"
     ]
    },
    {
     "name": "stderr",
     "output_type": "stream",
     "text": [
      "\n"
     ]
    }
   ],
   "source": [
    "\n",
    "%%time\n",
    "simulation.run_simulation(n_experiments, start_n, fit_params,shuffle_rows, pred_params, random_features, \\\n",
    "                          store_in_lists, save_eigenvector, save_hamiltonian, save_accuracy,\\\n",
    "                          save_models)\n",
    "if simulation.fourier_mode is not None:\n",
    "    simulation.fourier_dataframe.head(10)"
   ]
  },
  {
   "cell_type": "code",
   "execution_count": 28,
   "metadata": {
    "execution": {
     "iopub.execute_input": "2020-07-18T06:16:08.208764Z",
     "iopub.status.busy": "2020-07-18T06:16:08.208452Z",
     "iopub.status.idle": "2020-07-18T06:16:08.232593Z",
     "shell.execute_reply": "2020-07-18T06:16:08.232908Z"
    },
    "papermill": {
     "duration": 0.06233,
     "end_time": "2020-07-18T06:16:08.232974",
     "exception": false,
     "start_time": "2020-07-18T06:16:08.170644",
     "status": "completed"
    },
    "tags": []
   },
   "outputs": [
    {
     "data": {
      "text/html": [
       "<div>\n",
       "<style scoped>\n",
       "    .dataframe tbody tr th:only-of-type {\n",
       "        vertical-align: middle;\n",
       "    }\n",
       "\n",
       "    .dataframe tbody tr th {\n",
       "        vertical-align: top;\n",
       "    }\n",
       "\n",
       "    .dataframe thead th {\n",
       "        text-align: right;\n",
       "    }\n",
       "</style>\n",
       "<table border=\"1\" class=\"dataframe\">\n",
       "  <thead>\n",
       "    <tr style=\"text-align: right;\">\n",
       "      <th></th>\n",
       "      <th>id</th>\n",
       "      <th>path</th>\n",
       "      <th>t1</th>\n",
       "      <th>t2</th>\n",
       "      <th>winding</th>\n",
       "      <th>phase</th>\n",
       "      <th>pred_phase</th>\n",
       "      <th>type_of</th>\n",
       "      <th>feat0</th>\n",
       "      <th>feat1</th>\n",
       "      <th>...</th>\n",
       "      <th>feat90</th>\n",
       "      <th>feat91</th>\n",
       "      <th>feat92</th>\n",
       "      <th>feat93</th>\n",
       "      <th>feat94</th>\n",
       "      <th>feat95</th>\n",
       "      <th>feat96</th>\n",
       "      <th>feat97</th>\n",
       "      <th>feat98</th>\n",
       "      <th>feat99</th>\n",
       "    </tr>\n",
       "  </thead>\n",
       "  <tbody>\n",
       "    <tr>\n",
       "      <th>0</th>\n",
       "      <td>0</td>\n",
       "      <td>H_-2_-2_0.509296.dat</td>\n",
       "      <td>-2.0</td>\n",
       "      <td>-2.0</td>\n",
       "      <td>0.509296</td>\n",
       "      <td>999</td>\n",
       "      <td>666</td>\n",
       "      <td>test</td>\n",
       "      <td>0.100000</td>\n",
       "      <td>0.100000</td>\n",
       "      <td>...</td>\n",
       "      <td>0.100000</td>\n",
       "      <td>0.100000</td>\n",
       "      <td>0.100000</td>\n",
       "      <td>0.100000</td>\n",
       "      <td>0.100000</td>\n",
       "      <td>0.100000</td>\n",
       "      <td>0.100000</td>\n",
       "      <td>0.100000</td>\n",
       "      <td>0.100000</td>\n",
       "      <td>0.100000</td>\n",
       "    </tr>\n",
       "    <tr>\n",
       "      <th>1</th>\n",
       "      <td>0</td>\n",
       "      <td>H_-2_-2_0.509296.dat</td>\n",
       "      <td>-2.0</td>\n",
       "      <td>-2.0</td>\n",
       "      <td>0.509296</td>\n",
       "      <td>999</td>\n",
       "      <td>666</td>\n",
       "      <td>test</td>\n",
       "      <td>0.141421</td>\n",
       "      <td>0.141142</td>\n",
       "      <td>...</td>\n",
       "      <td>0.114412</td>\n",
       "      <td>0.108967</td>\n",
       "      <td>0.123928</td>\n",
       "      <td>0.119406</td>\n",
       "      <td>0.131490</td>\n",
       "      <td>0.127962</td>\n",
       "      <td>0.136978</td>\n",
       "      <td>0.134500</td>\n",
       "      <td>0.140306</td>\n",
       "      <td>0.138916</td>\n",
       "    </tr>\n",
       "    <tr>\n",
       "      <th>2</th>\n",
       "      <td>0</td>\n",
       "      <td>H_-2_-2_0.509296.dat</td>\n",
       "      <td>-2.0</td>\n",
       "      <td>-2.0</td>\n",
       "      <td>0.509296</td>\n",
       "      <td>999</td>\n",
       "      <td>666</td>\n",
       "      <td>test</td>\n",
       "      <td>0.141421</td>\n",
       "      <td>0.140306</td>\n",
       "      <td>...</td>\n",
       "      <td>0.043702</td>\n",
       "      <td>0.026500</td>\n",
       "      <td>0.075777</td>\n",
       "      <td>0.060214</td>\n",
       "      <td>0.103092</td>\n",
       "      <td>0.090145</td>\n",
       "      <td>0.123928</td>\n",
       "      <td>0.114412</td>\n",
       "      <td>0.136978</td>\n",
       "      <td>0.131490</td>\n",
       "    </tr>\n",
       "    <tr>\n",
       "      <th>3</th>\n",
       "      <td>0</td>\n",
       "      <td>H_-2_-2_0.509296.dat</td>\n",
       "      <td>-2.0</td>\n",
       "      <td>-2.0</td>\n",
       "      <td>0.509296</td>\n",
       "      <td>999</td>\n",
       "      <td>666</td>\n",
       "      <td>test</td>\n",
       "      <td>-0.100000</td>\n",
       "      <td>0.100000</td>\n",
       "      <td>...</td>\n",
       "      <td>-0.100000</td>\n",
       "      <td>0.100000</td>\n",
       "      <td>-0.100000</td>\n",
       "      <td>0.100000</td>\n",
       "      <td>-0.100000</td>\n",
       "      <td>0.100000</td>\n",
       "      <td>-0.100000</td>\n",
       "      <td>0.100000</td>\n",
       "      <td>-0.100000</td>\n",
       "      <td>0.100000</td>\n",
       "    </tr>\n",
       "    <tr>\n",
       "      <th>4</th>\n",
       "      <td>0</td>\n",
       "      <td>H_-2_-2_0.509296.dat</td>\n",
       "      <td>-2.0</td>\n",
       "      <td>-2.0</td>\n",
       "      <td>0.509296</td>\n",
       "      <td>999</td>\n",
       "      <td>666</td>\n",
       "      <td>test</td>\n",
       "      <td>0.000509</td>\n",
       "      <td>-0.008372</td>\n",
       "      <td>...</td>\n",
       "      <td>-0.082713</td>\n",
       "      <td>-0.089753</td>\n",
       "      <td>-0.067684</td>\n",
       "      <td>-0.075347</td>\n",
       "      <td>-0.051587</td>\n",
       "      <td>-0.059753</td>\n",
       "      <td>-0.034677</td>\n",
       "      <td>-0.043217</td>\n",
       "      <td>-0.017220</td>\n",
       "      <td>-0.026000</td>\n",
       "    </tr>\n",
       "    <tr>\n",
       "      <th>5</th>\n",
       "      <td>0</td>\n",
       "      <td>H_-2_-2_0.509296.dat</td>\n",
       "      <td>-2.0</td>\n",
       "      <td>-2.0</td>\n",
       "      <td>0.509296</td>\n",
       "      <td>999</td>\n",
       "      <td>666</td>\n",
       "      <td>test</td>\n",
       "      <td>0.001204</td>\n",
       "      <td>-0.016530</td>\n",
       "      <td>...</td>\n",
       "      <td>-0.134123</td>\n",
       "      <td>-0.138686</td>\n",
       "      <td>-0.118757</td>\n",
       "      <td>-0.127445</td>\n",
       "      <td>-0.095929</td>\n",
       "      <td>-0.108196</td>\n",
       "      <td>-0.067073</td>\n",
       "      <td>-0.082149</td>\n",
       "      <td>-0.034003</td>\n",
       "      <td>-0.050940</td>\n",
       "    </tr>\n",
       "    <tr>\n",
       "      <th>6</th>\n",
       "      <td>0</td>\n",
       "      <td>H_-2_-2_0.509296.dat</td>\n",
       "      <td>-2.0</td>\n",
       "      <td>-2.0</td>\n",
       "      <td>0.509296</td>\n",
       "      <td>999</td>\n",
       "      <td>666</td>\n",
       "      <td>test</td>\n",
       "      <td>-0.141421</td>\n",
       "      <td>-0.138980</td>\n",
       "      <td>...</td>\n",
       "      <td>0.043375</td>\n",
       "      <td>0.067830</td>\n",
       "      <td>-0.009222</td>\n",
       "      <td>0.017385</td>\n",
       "      <td>-0.060524</td>\n",
       "      <td>-0.035502</td>\n",
       "      <td>-0.103326</td>\n",
       "      <td>-0.083403</td>\n",
       "      <td>-0.131616</td>\n",
       "      <td>-0.119589</td>\n",
       "    </tr>\n",
       "    <tr>\n",
       "      <th>7</th>\n",
       "      <td>0</td>\n",
       "      <td>H_-2_-2_0.509296.dat</td>\n",
       "      <td>-2.0</td>\n",
       "      <td>-2.0</td>\n",
       "      <td>0.509296</td>\n",
       "      <td>999</td>\n",
       "      <td>666</td>\n",
       "      <td>test</td>\n",
       "      <td>-0.000826</td>\n",
       "      <td>0.025688</td>\n",
       "      <td>...</td>\n",
       "      <td>0.134753</td>\n",
       "      <td>0.124324</td>\n",
       "      <td>0.141088</td>\n",
       "      <td>0.140407</td>\n",
       "      <td>0.127608</td>\n",
       "      <td>0.136771</td>\n",
       "      <td>0.096206</td>\n",
       "      <td>0.113925</td>\n",
       "      <td>0.051292</td>\n",
       "      <td>0.075079</td>\n",
       "    </tr>\n",
       "    <tr>\n",
       "      <th>8</th>\n",
       "      <td>0</td>\n",
       "      <td>H_-2_-2_0.509296.dat</td>\n",
       "      <td>-2.0</td>\n",
       "      <td>-2.0</td>\n",
       "      <td>0.509296</td>\n",
       "      <td>999</td>\n",
       "      <td>666</td>\n",
       "      <td>test</td>\n",
       "      <td>0.141417</td>\n",
       "      <td>0.136684</td>\n",
       "      <td>...</td>\n",
       "      <td>-0.115093</td>\n",
       "      <td>-0.131915</td>\n",
       "      <td>-0.061266</td>\n",
       "      <td>-0.091040</td>\n",
       "      <td>0.007717</td>\n",
       "      <td>-0.027643</td>\n",
       "      <td>0.074791</td>\n",
       "      <td>0.042592</td>\n",
       "      <td>0.123363</td>\n",
       "      <td>0.102291</td>\n",
       "    </tr>\n",
       "    <tr>\n",
       "      <th>9</th>\n",
       "      <td>0</td>\n",
       "      <td>H_-2_-2_0.509296.dat</td>\n",
       "      <td>-2.0</td>\n",
       "      <td>-2.0</td>\n",
       "      <td>0.509296</td>\n",
       "      <td>999</td>\n",
       "      <td>666</td>\n",
       "      <td>test</td>\n",
       "      <td>0.001302</td>\n",
       "      <td>0.036430</td>\n",
       "      <td>...</td>\n",
       "      <td>0.082068</td>\n",
       "      <td>0.050848</td>\n",
       "      <td>0.127402</td>\n",
       "      <td>0.108132</td>\n",
       "      <td>0.141218</td>\n",
       "      <td>0.138667</td>\n",
       "      <td>0.120099</td>\n",
       "      <td>0.134896</td>\n",
       "      <td>0.069268</td>\n",
       "      <td>0.097755</td>\n",
       "    </tr>\n",
       "  </tbody>\n",
       "</table>\n",
       "<p>10 rows × 108 columns</p>\n",
       "</div>"
      ],
      "text/plain": [
       "   id                  path   t1   t2   winding  phase  pred_phase type_of  \\\n",
       "0   0  H_-2_-2_0.509296.dat -2.0 -2.0  0.509296    999         666    test   \n",
       "1   0  H_-2_-2_0.509296.dat -2.0 -2.0  0.509296    999         666    test   \n",
       "2   0  H_-2_-2_0.509296.dat -2.0 -2.0  0.509296    999         666    test   \n",
       "3   0  H_-2_-2_0.509296.dat -2.0 -2.0  0.509296    999         666    test   \n",
       "4   0  H_-2_-2_0.509296.dat -2.0 -2.0  0.509296    999         666    test   \n",
       "5   0  H_-2_-2_0.509296.dat -2.0 -2.0  0.509296    999         666    test   \n",
       "6   0  H_-2_-2_0.509296.dat -2.0 -2.0  0.509296    999         666    test   \n",
       "7   0  H_-2_-2_0.509296.dat -2.0 -2.0  0.509296    999         666    test   \n",
       "8   0  H_-2_-2_0.509296.dat -2.0 -2.0  0.509296    999         666    test   \n",
       "9   0  H_-2_-2_0.509296.dat -2.0 -2.0  0.509296    999         666    test   \n",
       "\n",
       "      feat0     feat1  ...    feat90    feat91    feat92    feat93    feat94  \\\n",
       "0  0.100000  0.100000  ...  0.100000  0.100000  0.100000  0.100000  0.100000   \n",
       "1  0.141421  0.141142  ...  0.114412  0.108967  0.123928  0.119406  0.131490   \n",
       "2  0.141421  0.140306  ...  0.043702  0.026500  0.075777  0.060214  0.103092   \n",
       "3 -0.100000  0.100000  ... -0.100000  0.100000 -0.100000  0.100000 -0.100000   \n",
       "4  0.000509 -0.008372  ... -0.082713 -0.089753 -0.067684 -0.075347 -0.051587   \n",
       "5  0.001204 -0.016530  ... -0.134123 -0.138686 -0.118757 -0.127445 -0.095929   \n",
       "6 -0.141421 -0.138980  ...  0.043375  0.067830 -0.009222  0.017385 -0.060524   \n",
       "7 -0.000826  0.025688  ...  0.134753  0.124324  0.141088  0.140407  0.127608   \n",
       "8  0.141417  0.136684  ... -0.115093 -0.131915 -0.061266 -0.091040  0.007717   \n",
       "9  0.001302  0.036430  ...  0.082068  0.050848  0.127402  0.108132  0.141218   \n",
       "\n",
       "     feat95    feat96    feat97    feat98    feat99  \n",
       "0  0.100000  0.100000  0.100000  0.100000  0.100000  \n",
       "1  0.127962  0.136978  0.134500  0.140306  0.138916  \n",
       "2  0.090145  0.123928  0.114412  0.136978  0.131490  \n",
       "3  0.100000 -0.100000  0.100000 -0.100000  0.100000  \n",
       "4 -0.059753 -0.034677 -0.043217 -0.017220 -0.026000  \n",
       "5 -0.108196 -0.067073 -0.082149 -0.034003 -0.050940  \n",
       "6 -0.035502 -0.103326 -0.083403 -0.131616 -0.119589  \n",
       "7  0.136771  0.096206  0.113925  0.051292  0.075079  \n",
       "8 -0.027643  0.074791  0.042592  0.123363  0.102291  \n",
       "9  0.138667  0.120099  0.134896  0.069268  0.097755  \n",
       "\n",
       "[10 rows x 108 columns]"
      ]
     },
     "execution_count": 28,
     "metadata": {},
     "output_type": "execute_result"
    }
   ],
   "source": [
    "simulation.dataframe.head(10)"
   ]
  },
  {
   "cell_type": "markdown",
   "metadata": {
    "papermill": {
     "duration": 0.036175,
     "end_time": "2020-07-18T06:16:08.305695",
     "exception": false,
     "start_time": "2020-07-18T06:16:08.269520",
     "status": "completed"
    },
    "tags": []
   },
   "source": [
    "#### Viewing a random sample"
   ]
  },
  {
   "cell_type": "code",
   "execution_count": 29,
   "metadata": {
    "execution": {
     "iopub.execute_input": "2020-07-18T06:16:08.380696Z",
     "iopub.status.busy": "2020-07-18T06:16:08.380348Z",
     "iopub.status.idle": "2020-07-18T06:16:08.408095Z",
     "shell.execute_reply": "2020-07-18T06:16:08.408347Z"
    },
    "papermill": {
     "duration": 0.066374,
     "end_time": "2020-07-18T06:16:08.408423",
     "exception": false,
     "start_time": "2020-07-18T06:16:08.342049",
     "status": "completed"
    },
    "tags": []
   },
   "outputs": [
    {
     "name": "stdout",
     "output_type": "stream",
     "text": [
      "CPU times: user 13.8 ms, sys: 3.93 ms, total: 17.7 ms\n",
      "Wall time: 17.5 ms\n"
     ]
    }
   ],
   "source": [
    "%%time\n",
    "if simulation.fourier_mode is not None:\n",
    "    simulation.fourier_dataframe.sample(frac=0.1, replace=False)"
   ]
  },
  {
   "cell_type": "markdown",
   "metadata": {
    "papermill": {
     "duration": 0.036366,
     "end_time": "2020-07-18T06:16:08.481905",
     "exception": false,
     "start_time": "2020-07-18T06:16:08.445539",
     "status": "completed"
    },
    "tags": []
   },
   "source": [
    "#### Checking train/val/test splits again"
   ]
  },
  {
   "cell_type": "code",
   "execution_count": 30,
   "metadata": {
    "execution": {
     "iopub.execute_input": "2020-07-18T06:16:08.555604Z",
     "iopub.status.busy": "2020-07-18T06:16:08.555282Z",
     "iopub.status.idle": "2020-07-18T06:16:08.734488Z",
     "shell.execute_reply": "2020-07-18T06:16:08.734792Z"
    },
    "papermill": {
     "duration": 0.217188,
     "end_time": "2020-07-18T06:16:08.734859",
     "exception": false,
     "start_time": "2020-07-18T06:16:08.517671",
     "status": "completed"
    },
    "tags": []
   },
   "outputs": [
    {
     "name": "stdout",
     "output_type": "stream",
     "text": [
      "% train:  0.08474317939338516\n",
      "% val:  0.7620789513793629\n",
      "% test:  0.15317786922725193\n",
      "% train + val + test:  1.0\n",
      "\n",
      "\n",
      "number of train hamiltonians:  556\n",
      "number of val hamiltonians:  5000\n",
      "number of test hamiltonians:  1005\n",
      "total number of hamiltonians:  6561\n",
      "\n",
      "\n",
      "train ids:  [2247, 4699, 6353, 3199, 2069, 3266, 3245, 761, 2655, 1979, 3013, 6490, 769, 6191, 4928, 1618, 4819, 4577, 2616, 2411, 5107, 6342, 2732, 4802, 6157, 5939, 5242, 6046, 5387, 5046, 624, 2847, 6136, 6042, 1705, 6100, 3728, 3333, 71, 5054, 4473, 2689, 2441, 4147, 1497, 970, 4614, 3062, 1021, 349, 2685, 3365, 3667, 4902, 590, 4727, 5023, 5814, 2983, 4342, 3479, 3260, 4519, 4396, 1030, 4211, 3802, 4355, 2111, 2717, 517, 3731, 4077, 4218, 6532, 5184, 4562, 43, 4076, 3586, 855, 63, 4896, 6537, 4255, 2544, 4996, 827, 173, 2395, 2070, 4489, 5353, 1370, 3922, 3285, 5309, 1449, 2516, 6059, 5140, 1688, 6280, 3259, 1023, 1075, 2875, 3714, 5997, 4409, 6297, 805, 5298, 2242, 1745, 1382, 4394, 3681, 3540, 5771, 2364, 6128, 1019, 2115, 1357, 1685, 1028, 5370, 3388, 5378, 2909, 2110, 847, 308, 3335, 1171, 1673, 5506, 3297, 2710, 1582, 4129, 5182, 4317, 4209, 3757, 4488, 4097, 3069, 4003, 2862, 2654, 292, 6506, 1104, 4832, 5960, 3004, 5233, 267, 123, 2276, 1659, 2844, 1942, 1190, 69, 4695, 316, 3487, 2773, 6375, 5945, 3578, 5136, 5225, 626, 5867, 3980, 5094, 6216, 4011, 5194, 2106, 874, 3737, 5650, 2086, 5780, 4466, 3049, 3455, 4651, 1250, 4230, 3315, 4383, 2819, 628, 524, 1461, 5050, 1660, 1089, 997, 4006, 2659, 5552, 5729, 6453, 3810, 3336, 627, 5622, 2719, 941, 3777, 2877, 3759, 1493, 2814, 6219, 852, 3151, 1579, 6550, 3342, 2639, 867, 5129, 596, 5528, 5752, 1002, 4789, 5381, 37, 631, 2993, 3889, 6221, 3986, 4831, 1827, 3132, 4774, 5955, 2287, 5482, 1219, 5116, 3533, 6183, 4544, 3399, 5805, 4283, 2430, 3541, 5369, 2564, 4955, 185, 2757, 3296, 621, 2313, 3896, 2193, 5373, 4036, 5240, 1422, 6035, 2071, 4028, 6058, 2678, 597, 1926, 1109, 1277, 3435, 5143, 2481, 1124, 6176, 3475, 2150, 1266, 1895, 6455, 255, 955, 4906, 6047, 5237, 2445, 1784, 6370, 5866, 4724, 2661, 2151, 4968, 3489, 3447, 1043, 5064, 1860, 5305, 3201, 3110, 5375, 6349, 1458, 4964, 5437, 5937, 443, 381, 680, 1589, 1154, 2219, 1865, 283, 9, 2793, 3804, 4533, 2426, 506, 5141, 2237, 3981, 265, 3911, 6024, 3987, 5014, 792, 1381, 3165, 1442, 601, 3138, 5958, 96, 4314, 3224, 5730, 1899, 4558, 4912, 6523, 3025, 1790, 1714, 5423, 6208, 194, 3084, 2466, 23, 4576, 424, 5462, 693, 369, 2367, 1253, 5074, 1491, 6510, 2333, 1125, 1288, 4439, 5773, 4449, 5277, 5593, 4742, 2956, 676, 6113, 5848, 2553, 2171, 6190, 2665, 6430, 4980, 3213, 3821, 3512, 861, 2154, 4716, 3007, 5557, 1930, 534, 1132, 3726, 5152, 3752, 1496, 2738, 6193, 3865, 1350, 303, 5205, 1588, 5267, 2711, 5304, 4823, 114, 6166, 5362, 4550, 6422, 2228, 3015, 426, 635, 1165, 5312, 768, 530, 475, 3766, 3894, 931, 3729, 5634, 3824, 4569, 3331, 1707, 5112, 4731, 3838, 1495, 5390, 6505, 3330, 3210, 51, 3044, 5142, 3287, 6538, 3021, 4005, 3298, 4171, 5605, 4551, 2901, 3557, 3784, 5797, 2176, 3915, 3886, 5942, 269, 1205, 6485, 6486, 4786, 5022, 1241, 1981, 1416, 60, 4285, 5587, 4140, 2272, 2740, 1116, 1329, 4975, 5732, 3919, 5712, 6127, 3666, 5343, 3293, 3871, 2637, 6215, 3969, 3582, 5689, 915, 1463, 3392, 3745, 2644, 3811, 148, 4148, 5565, 4417, 3378, 1188, 2958, 589, 5352, 2801, 1590, 2031, 5710, 1334, 32, 3480, 2319, 1198, 6118, 4234, 4579, 5674, 1318, 2217, 6465, 3299, 1754, 41, 2390, 2220, 1368, 3184, 3568, 5640, 1271, 1550, 6489, 2508, 2226, 4438, 2065, 3302, 2098, 263, 3161, 3750, 2536, 1580, 2857]\n",
      "val ids:  [4503, 4226, 3282, 5131, 2169, 1542, 277, 1676, 5066, 1871, 1910, 5429, 5719, 4189, 3323, 2858, 5713, 1460, 5692, 5620, 1272, 5038, 1349, 4899, 21, 4866, 3908, 4015, 599, 4039, 1576, 1045, 3123, 4331, 3613, 6381, 1483, 4041, 1547, 28, 266, 1796, 5347, 724, 3203, 4045, 2645, 4217, 2825, 2507, 1135, 4646, 830, 2854, 1773, 5675, 4281, 5588, 4066, 6295, 1663, 4986, 6500, 6332, 3993, 666, 4637, 6020, 2464, 3515, 4797, 1751, 3418, 3230, 4212, 3264, 6164, 3882, 1367, 6360, 1236, 684, 2697, 3133, 4644, 4170, 3209, 4689, 287, 1286, 4615, 5078, 866, 453, 3350, 2439, 3119, 340, 2225, 1405, 4985, 2057, 4901, 4803, 3635, 2736, 3010, 3795, 4647, 4418, 869, 2139, 4159, 198, 3164, 380, 1218, 1180, 5561, 3516, 2285, 6117, 4618, 191, 3419, 3016, 3334, 1484, 3097, 6539, 3050, 2119, 4248, 1260, 3321, 3466, 1789, 994, 2916, 4726, 944, 3651, 1136, 1403, 2859, 3561, 33, 4752, 3046, 4385, 157, 4324, 1747, 2405, 4199, 6378, 4972, 5310, 3566, 4736, 5230, 5890, 5856, 4194, 3642, 4984, 5963, 234, 4040, 1615, 3712, 554, 4365, 5065, 3361, 197, 5672, 2355, 4205, 1780, 4270, 6045, 785, 5236, 5527, 5967, 1080, 1353, 3788, 1544, 3327, 3544, 5855, 1499, 3458, 2977, 3950, 5273, 1407, 3414, 1459, 3353, 4874, 2838, 1410, 2284, 3565, 5717, 1864, 272, 118, 6460, 2447, 3674, 3505, 5888, 2702, 450, 2937, 2437, 2236, 1819, 1297, 5226, 911, 5207, 670, 3648, 4898, 1894, 5377, 5669, 5798, 1954, 1332, 1434, 3507, 4632, 4904, 2769, 1453, 6345, 3622, 6202, 4064, 2600, 3924, 3652, 5875, 767, 1409, 77, 4663, 3130, 5525, 298, 1134, 5769, 1083, 2790, 3424, 2651, 386, 6174, 4377, 6037, 2190, 2798, 5694, 3798, 3359, 119, 46, 419, 5973, 2431, 4327, 3563, 4368, 2185, 2252, 4933, 522, 1013, 2751, 5796, 6454, 1943, 4162, 3570, 1181, 3454, 1096, 4969, 3603, 922, 5308, 3569, 5940, 1336, 2502, 1742, 533, 1486, 646, 766, 5651, 2828, 1609, 2930, 3385, 5891, 3145, 1169, 192, 1182, 538, 1897, 2523, 2291, 29, 3785, 2003, 1755, 5311, 2686, 1929, 3086, 5117, 2056, 6284, 4704, 4453, 3031, 229, 605, 1606, 1179, 3053, 5223, 4190, 3612, 1591, 6545, 4553, 2353, 6524, 3279, 2207, 913, 4988, 1603, 3462, 942, 4188, 5756, 1651, 2772, 1465, 840, 5688, 5217, 2362, 2299, 4748, 5550, 751, 5292, 3006, 1500, 1617, 1746, 403, 4493, 5071, 4231, 1088, 3974, 4611, 5467, 1811, 6124, 5972, 4301, 2145, 4983, 1925, 1817, 2246, 3814, 844, 136, 288, 3747, 5537, 587, 5517, 1595, 1631, 1161, 183, 2084, 5559, 4501, 4435, 808, 5728, 520, 4372, 2344, 1697, 4625, 3063, 4111, 2823, 5487, 6333, 696, 4386, 2784, 3718, 2670, 4310, 4624, 5971, 311, 5110, 3131, 1907, 3693, 2668, 1507, 2358, 6140, 4882, 6428, 5133, 3890, 3471, 2749, 2804, 2360, 4358, 3256, 2879, 6194, 1328, 376, 1768, 6179, 1176, 6529, 2208, 2117, 5212, 1254, 5957, 4309, 2488, 3940, 3572, 5642, 6306, 4654, 156, 3358, 6551, 3809, 2288, 2853, 5473, 4743, 1259, 5374, 689, 2873, 1273, 2979, 44, 2424, 4636, 6350, 4138, 3111, 5013, 4662, 4751, 2469, 64, 3339, 1961, 3768, 4499, 5031, 4046, 6289, 1649, 1693, 712, 1330, 1838, 4566, 2739, 3972, 1792, 2652, 4688, 5058, 1626, 5994, 6549, 5558, 4741, 5113, 6546, 996, 1993, 5073, 1208, 1438, 3885, 566, 219, 4766, 439, 2010, 875, 4391, 6192, 700, 5624, 6016, 5263, 3126, 364, 541, 1502, 2066, 3543, 5604, 694, 6383, 2872, 3047, 181, 4378, 4995, 2153, 2453, 371, 2811, 3707, 3645, 2831, 5241, 3719, 1093, 2305, 2238, 2438, 2846, 2766, 1055, 4411, 1206, 1750, 4989, 833, 6053, 1450, 2024, 1952, 2105, 585, 1976, 4939, 2606, 5644, 5380, 1211, 3966, 1914, 6368, 133, 4504, 3325, 3433, 2513, 1466, 4684, 973, 6507, 3670, 1283, 339, 4477, 226, 2040, 5629, 389, 2950, 121, 1100, 5069, 5342, 2626, 703, 3428, 3038, 2555, 3197, 14, 6424, 6487, 5227, 3177, 3629, 1891, 4452, 2476, 1612, 2077, 6298, 550, 5944, 4734, 4739, 6421, 1006, 5403, 2884, 1204, 4096, 13, 3017, 4375, 1654, 4163, 5545, 1823, 1327, 3347, 1896, 4824, 3179, 2984, 3878, 4914, 3064, 2232, 3530, 2248, 3576, 2155, 5518, 2282, 6172, 612, 1727, 3964, 5787, 3368, 5964, 6359, 4864, 509, 1748, 5289, 204, 4116, 343, 4905, 6361, 6077, 6200, 3585, 385, 6135, 667, 3930, 3792, 299, 6184, 4144, 2195, 2013, 1009, 2486, 1167, 4796, 6223, 2101, 2808, 3286, 773, 2368, 342, 5354, 5733, 6420, 5540, 4543, 3658, 1844, 4585, 965, 4269, 436, 1918, 5471, 6437, 38, 3875, 6346, 4425, 5554, 68, 3274, 1301, 5871, 383, 1444, 5607, 4440, 6197, 5108, 6009, 3633, 3265, 644, 6283, 5915, 1268, 4530, 1342, 4367, 3679, 3258, 5569, 608, 2019, 4657, 1940, 6459, 6089, 187, 6467, 6410, 393, 5020, 6049, 6520, 122, 438, 754, 4313, 4946, 5218, 5633, 3706, 1428, 5400, 1877, 4282, 682, 1586, 4175, 3716, 5222, 1035, 4207, 5288, 1564, 5185, 3307, 1482, 3994, 461, 4157, 920, 3134, 4848, 4686, 547, 3088, 4820, 5851, 6273, 4084, 914, 2727, 2008, 4804, 6026, 2646, 6021, 392, 5036, 746, 2363, 1955, 3692, 4963, 3381, 633, 2177, 3862, 1866, 763, 856, 3384, 2381, 2398, 4113, 3478, 672, 2492, 5453, 3939, 877, 3619, 5460, 4764, 2799, 3903, 1845, 772, 3430, 1193, 3396, 2953, 1793, 5834, 780, 919, 1928, 4295, 4292, 3180, 2002, 4298, 201, 477, 2942, 3650, 4818, 3434, 3223, 5926, 5269, 2681, 1052, 863, 6263, 3973, 532, 5433, 5621, 6259, 6446, 4629, 3822, 5882, 3218, 3967, 2987, 1947, 4500, 927, 1584, 1025, 804, 5791, 2534, 3522, 1172, 1788, 606, 3341, 128, 4472, 230, 6111, 2575, 420, 1430, 2856, 582, 3916, 6338, 359, 4025, 1770, 3181, 6290, 5596, 5946, 6257, 348, 107, 1546, 3027, 2969, 3623, 6417, 2323, 2022, 4122, 5547, 4484, 2399, 3571, 1462, 1078, 374, 3300, 6207, 5306, 6039, 3532, 2043, 3848, 2311, 1941, 4406, 4033, 5883, 6198, 1632, 505, 3061, 4859, 5300, 4547, 5936, 1879, 3867, 431, 1757, 4603, 6278, 4487, 1810, 1092, 4893, 5535, 1000, 2347, 1267, 3452, 4390, 354, 5443, 6099, 3826, 6497, 2135, 4763, 2999, 2138, 2863, 2037, 3868, 447, 2270, 3646, 4806, 3928, 5424, 4517, 2233, 3192, 2638, 5770, 3884, 1102, 5186, 4516, 1809, 2044, 3634, 1072, 2435, 753, 1946, 2125, 2477, 1346, 5930, 6367, 4701, 208, 5368, 2565, 2895, 4354, 2900, 3699, 6210, 6445, 3921, 97, 3283, 1675, 4476, 1243, 6352, 2588, 4498, 3048, 2033, 1854, 2559, 1702, 1523, 1299, 223, 5869, 674, 6034, 6415, 282, 6463, 3182, 2835, 3830, 3837, 5161, 6452, 4728, 857, 2771, 6057, 2550, 3581, 1238, 3390, 4071, 2175, 2954, 3055, 6534, 1275, 2393, 109, 464, 5544, 4936, 137, 5151, 4050, 2196, 4441, 890, 1451, 5671, 5765, 3542, 4696, 5126, 2759, 4555, 471, 2059, 4173, 2264, 3683, 4631, 993, 2897, 3411, 3746, 3183, 4772, 843, 2504, 1729, 3584, 4204, 4531, 3841, 3669, 6132, 4202, 2141, 6272, 3625, 3996, 535, 4216, 6365, 5438, 3159, 3240, 2487, 3057, 2545, 5123, 5011, 5553, 232, 2754, 4058, 2699, 4437, 1291, 1426, 2268, 4389, 4067, 3559, 1155, 2589, 3898, 2657, 2724, 2146, 2590, 3094, 2036, 3271, 1695, 3456, 4464, 2403, 1187, 3118, 3575, 3393, 3647, 564, 516, 1509, 4235, 1931, 1324, 5635, 6276, 4203, 2061, 5302, 2491, 4712, 2136, 5721, 884, 5104, 4771, 4330, 18, 4853, 1569, 1625, 2981, 4379, 6522, 5261, 205, 3206, 2528, 1263, 2928, 2316, 2014, 1246, 1656, 1949, 1771, 2346, 3949, 5874, 3098, 1813, 2007, 4127, 1565, 1162, 888, 3953, 4423, 634, 6254, 6195, 5612, 4929, 910, 1123, 5808, 2152, 2332, 4730, 5810, 1529, 2748, 2251, 130, 4079, 842, 1868, 2525, 3343, 749, 613, 2058, 144, 5469, 4156, 3931, 4152, 4737, 5610, 4687, 2974, 705, 93, 2935, 1322, 5307, 1953, 3874, 213, 1923, 6292, 5864, 5881, 6423, 2263, 2409, 2632, 1835, 6325, 440, 346, 5618, 2718, 3590, 131, 2742, 3704, 4131, 115, 2596, 5386, 5125, 3531, 3154, 1184, 3395, 1572, 5505, 3649, 1652, 1906, 4816, 3450, 2163, 2714, 2755, 3243, 4123, 4722, 1076, 3309, 1973, 6119, 3249, 4462, 619, 957, 1622, 312, 6244, 3929, 2925, 1106, 1948, 6093, 5284, 2893, 2370, 3617, 5159, 1209, 5485, 5961, 2673, 1758, 180, 5536, 4861, 3933, 4069, 759, 5448, 5296, 2173, 2535, 3778, 2427, 5177, 752, 5052, 781, 5042, 4826, 5897, 366, 6299, 3189, 264, 5350, 839, 1908, 5214, 6419, 3860, 4691, 1607, 6448, 3253, 5562, 396, 5122, 5782, 4903, 1024, 6224, 2172, 1732, 967, 5025, 3215, 3173, 2874, 5531, 1344, 1752, 4706, 3902, 3459, 926, 3232, 4465, 865, 4422, 3639, 1514, 437, 47, 3254, 1427, 2693, 2221, 5145, 4405, 72, 3345, 4770, 2671, 3255, 523, 5389, 2506, 6293, 5130, 454, 6362, 4781, 2157, 611, 5384, 1858, 3927, 1698, 663, 1081, 106, 432, 5895, 3753, 2920, 5445, 6248, 6388, 6331, 1408, 4408, 3977, 610, 934, 2279, 947, 4521, 141, 5698, 6519, 3513, 5260, 1616, 4225, 4976, 4338, 1166, 3495, 1829, 4286, 4599, 4725, 5396, 1992, 3153, 2758, 1485, 1783, 2617, 4486, 1487, 1282, 4093, 527, 537, 4061, 4119, 1237, 2669, 5100, 3194, 2986, 4161, 6483, 4455, 858, 4271, 1539, 2701, 2039, 1692, 4795, 5886, 645, 5684, 291, 286, 457, 429, 3521, 5685, 2005, 4907, 5789, 1815, 382, 6203, 5677, 3236, 3043, 6246, 3662, 6287, 4856, 1541, 5406, 1905, 1989, 5103, 4705, 5996, 3093, 3888, 4434, 306, 4095, 3205, 4114, 3616, 2144, 854, 6527, 3709, 3654, 3787, 2304, 6449, 1191, 6258, 6085, 6163, 5317, 4612, 2192, 1837, 2992, 1490, 6277, 3425, 5210, 3917, 1867, 5708, 4813, 4845, 3087, 3146, 760, 3968, 5706, 6185, 2417, 1674, 5941, 42, 4570, 2369, 3534, 2306, 3631, 770, 4402, 5394, 4900, 6323, 3677, 5715, 1990, 5475, 260, 39, 5376, 2017, 2581, 6282, 2034, 1464, 6141, 293, 270, 4366, 5627, 1647, 4940, 5422, 3553, 4359, 4398, 3144, 153, 1321, 3574, 4334, 3208, 4060, 425, 4957, 5272, 2750, 4534, 430, 3121, 2572, 2890, 4193, 1862, 76, 1113, 1598, 5455, 2894, 2386, 3408, 4410, 886, 1779, 4463, 2548, 3117, 2905, 4445, 5950, 5219, 3389, 4981, 2274, 6206, 5029, 1873, 6116, 1534, 4395, 2691, 2926, 6436, 2443, 1163, 3990, 3386, 3369, 2756, 3320, 3058, 2187, 1568, 225, 4708, 3306, 1935, 6212, 1982, 3174, 1098, 466, 2658, 3510, 1875, 483, 3836, 2473, 215, 6031, 4787, 3226, 588, 3125, 4956, 4653, 4527, 3172, 2603, 1738, 1244, 5322, 2428, 1287, 4892, 4732, 3437, 1354, 2345, 3499, 3762, 3685, 5892, 4370, 4496, 2770, 6374, 5707, 4783, 1468, 2348, 5868, 5049, 4109, 2630, 485, 647, 952, 4238, 5027, 2781, 2519, 4296, 4537, 2350, 531, 1448, 1192, 1613, 3702, 4086, 1960, 2191, 6441, 1323, 3267, 5514, 377, 66, 4026, 3228, 1255, 3962, 2244, 35, 3955, 5548, 4665, 1053, 5691, 5726, 6102, 2556, 1646, 2366, 1733, 5045, 3883, 4442, 2067, 4962, 6335, 124, 4251, 6167, 222, 3142, 5243, 963, 695, 3263, 1214, 3979, 2100, 6369, 5480, 2558, 6518, 1672, 4575, 5479, 3135, 4232, 4014, 1247, 1690, 5383, 795, 3011, 5916, 4947, 302, 5211, 4311, 1794, 65, 3113, 2092, 4788, 2679, 3501, 6186, 212, 5727, 3095, 1423, 1701, 257, 353, 5032, 2887, 1048, 2964, 104, 1417, 16, 1939, 3191, 1821, 4538, 3626, 1959, 1870, 484, 4261, 6304, 4798, 6188, 2497, 2696, 3640, 61, 5775, 5231, 4246, 6281, 5478, 4165, 1878, 3484, 4315, 6120, 1962, 864, 5811, 3907, 3482, 5092, 709, 2365, 1577, 1852, 2745, 6517, 3354, 1325, 1694, 1518, 5465, 5703, 379, 5388, 5447, 3175, 5880, 2649, 3684, 6083, 4584, 1203, 4572, 5804, 4655, 421, 1157, 5709, 6010, 1753, 1828, 5591, 1876, 1593, 701, 4860, 3357, 5461, 5623, 5229, 5779, 2076, 2335, 665, 1526, 5190, 468, 2631, 1994, 4336, 4030, 2735, 3688, 2816, 2103, 207, 356, 3843, 4979, 5533, 6296, 6329, 4399, 196, 3037, 5754, 3959, 5457, 3620, 964, 4773, 4886, 3292, 887, 3485, 4176, 3852, 3136, 6086, 4254, 3643, 2452, 3956, 2229, 1054, 1766, 3687, 3713, 4087, 4700, 6536, 3045, 6305, 4149, 6201, 6256, 462, 3072, 3790, 2382, 4958, 4778, 1515, 2391, 3539, 3212, 6048, 1916, 5137, 2412, 6088, 2865, 4885, 4228, 3791, 5563, 4854, 3538, 3314, 728, 1995, 1763, 3944, 4142, 2687, 1997, 4136, 2038, 3423, 687, 4542, 4458, 1338, 1385, 3880, 1137, 1245, 1744, 6005, 2848, 1566, 6509, 4110, 2407, 4364, 999, 2663, 5299, 1115, 1010, 2440, 2882, 6542, 2401, 3195, 3227, 3664, 1528, 218, 3828, 6372, 1091, 1296, 3835, 5631, 5696, 3438, 4667, 56, 3239, 3312, 1355, 1540, 2593, 5101, 3410, 4247, 3028, 2762, 147, 2113, 4200, 4088, 5340, 6268, 6142, 3168, 4867, 1029, 630, 2112, 4990, 2834, 3550, 5198, 5757, 1195, 3963, 3304, 998, 3127, 20, 6108, 2241, 4145, 1787, 2947, 3473, 5595, 6324, 2941, 5962, 6435, 938, 4150, 790, 2985, 6380, 2612, 2924, 5105, 3965, 2303, 3233, 2383, 4312, 6187, 1820, 3129, 3370, 4536, 6301, 3657, 2123, 4010, 6123, 4950, 4258, 3022, 2533, 55, 5356, 6262, 4187, 2595, 3614, 713, 1454, 2465, 2189, 6432, 1047, 2690, 549, 6405, 4280, 1573, 6364, 1774, 4153, 6156, 6531, 3912, 4875, 6426, 2356, 765, 2802, 5238, 4709, 4293, 1185, 3999, 616, 2840, 202, 5836, 4094, 726, 1129, 3090, 6006, 2642, 5845, 1951, 2712, 4421, 3736, 435, 3124, 850, 1537, 152, 3832, 5751, 2715, 3893, 5511, 5532, 3770, 930, 5093, 3601, 3925, 5235, 6261, 5313, 758, 2594, 284, 95, 138, 3080, 1664, 3567, 5767, 5516, 692, 6354, 5035, 6544, 2820, 2927, 1668, 5355, 442, 3976, 6327, 5722, 53, 6178, 5323, 1026, 3599, 3417, 2760, 5098, 2035, 4049, 1437, 5076, 2518, 2833, 3405, 4059, 5077, 3219, 2966, 1824, 1657, 3723, 367, 553, 5114, 5716, 4532, 615, 1808, 2570, 991, 4448, 3546, 1341, 1122, 4392, 3587, 1094, 4001, 3059, 889, 3481, 1980, 2425, 4661, 1056, 2198, 295, 5294, 3284, 2121, 3457, 4154, 428, 5434, 52, 2883, 2359, 5276, 3758, 1138, 668, 2683, 4794, 3952, 708, 2796, 4858, 448, 6012, 1848, 4051, 2402, 224, 3234, 1602, 1108, 3621, 2677, 4685, 1728, 1818, 4326, 1285, 1691, 2849, 4935, 5776, 771, 5508, 4862, 868, 6109, 3779, 178, 508, 2023, 5012, 1087, 2490, 4213, 586, 4777, 4745, 4545, 1517, 2510, 3237, 807, 2821, 5404, 4556, 4767, 1797, 4072, 6007, 2308, 5068, 4128, 2500, 5030, 5477, 3545, 2289, 3656, 5392, 5303, 2613, 2602, 3529, 1481, 2537, 5234, 2592, 1317, 2839, 1031, 1627, 4325, 625, 3517, 5617, 2776, 6017, 24, 548, 5282, 3247, 2231, 5062, 4208, 2660, 2166, 2209, 2634, 3162, 6294, 5878, 5295, 5686, 459, 990, 6101, 5815, 4337, 5435, 5711, 5859, 4401, 113, 4444, 3364, 4621, 1683, 1337, 6091, 4300, 3524, 4733, 2021, 6377, 4139, 5488, 1833, 1536, 5807, 5179, 6133, 2484, 2062, 3703, 3983, 5889, 5183, 2722, 4323, 1127, 5913, 4971, 6056, 4353, 6014, 3807, 6348, 6363, 3105, 5109, 101, 1703, 1527, 4369, 4723, 5632, 1415, 3988, 2968, 2797, 5063, 5458, 3439, 2666, 3001, 4339, 3185, 632, 4710, 4573, 4808, 6337, 1890, 686, 2943, 3906, 2060, 3332, 2451, 929, 1661, 6484, 5801, 1435, 4993, 1015, 1452, 4055, 256, 2343, 5646, 6237, 1262, 6407, 4830, 3344, 5592, 48, 702, 3697, 5138, 683, 691, 2867, 2886, 5510, 3675, 3023, 314, 6182, 1512, 6408, 2538, 3122, 2674, 1196, 4022, 2498, 2731, 2609, 127, 2511, 5320, 2721, 4112, 5704, 563, 3817, 4525, 2743, 6493, 4457, 6425, 1842, 2277, 3558, 2618, 3451, 1294, 4252, 1158, 4229, 2737, 2899, 301, 4601, 4738, 1110, 1210, 5175, 5725, 512, 3139, 2557, 2741, 1548, 5056, 5314, 5567, 2300, 5850, 4557, 2054, 3508, 2902, 2041, 1776, 5486, 3580, 3918, 2421, 4035, 4380, 3407, 3827, 394, 5363, 3588, 6302, 1017, 2946, 3301, 3075, 3295, 74, 4321, 281, 4196, 5803, 1489, 4361, 673, 3861, 779, 5526, 2342, 5051, 5432, 6209, 5956, 3432, 6122, 1767, 4042, 3148, 1620, 1020, 2234, 2329, 698, 4782, 2422, 6303, 4780, 526, 4649, 5128, 2827, 2837, 3904, 5606, 3383, 2971, 618, 6404, 5546, 2936, 5976, 2965, 3985, 2619, 5367, 4717, 262, 2371, 6032, 4143, 3149, 5894, 937, 3420, 4120, 514, 2083, 2404, 3441, 258, 3833, 5153, 3112, 872, 3676, 1671, 1904, 3039, 4256, 6376, 1112, 3403, 5637, 3945, 6115, 3722, 2898, 142, 2326, 422, 3554, 1090, 2245, 151, 3741, 2807, 4332, 3067, 6498, 3556, 4467, 2978, 217, 3257, 1915, 4792, 2650, 5877, 1583, 3036, 1131, 1363, 4887, 3782, 2006, 6249, 1988, 5379, 3281, 199, 1730, 2524, 3078, 200, 5178, 2700, 3035, 2420, 3373, 3211, 4333, 6403, 98, 5594, 1429, 2118, 593, 3152, 3637, 3329, 5778, 4539, 791, 5450, 4121, 125, 5854, 5530, 5865, 4693, 4236, 681, 6379, 2774, 3096, 4451, 2695, 3313, 2471, 1893, 4419, 2753, 4645, 186, 4829, 4884, 6340, 3913, 280, 1917, 3593, 3627, 2392, 3169, 3188, 5436, 501, 1197, 2104, 3081, 3427, 6076, 521, 5382, 2912, 4505, 2841, 4242, 3436, 31, 1567, 5783, 4669, 4063, 2885, 507, 5144, 3577, 5147, 4658, 2733, 1974, 4135, 3375, 4360, 5456, 4108, 5072, 3733, 1977, 1073, 4604, 1712, 715, 6098, 1379, 4703, 2314, 1814, 3421, 6264, 932, 555, 3910, 4048, 3372, 5446, 2554, 3725, 2416, 5061, 6502, 2684, 1655, 2235, 891, 3793, 5202, 3806, 3252, 4578, 3947, 4201, 2906, 5472, 3803, 1510, 5515, 1001, 6218, 2903, 2203, 1352, 4436, 5539, 3065, 5979, 3465, 4967, 2573, 793, 2261, 4931, 1762, 4373, 5556, 3696, 2866, 1713, 1457, 2156, 1619, 5614, 3070, 155, 5523, 4518, 803, 969, 5075, 1249, 5150, 2948, 5024, 5560, 4876, 510, 3340, 103, 5597, 1826, 5427, 4622, 4118, 4047, 5442, 3276, 710, 4997, 2957, 1488, 3422, 2628, 3644, 4915, 5636, 1079, 3957, 3775, 6504, 6084, 2475, 4587, 6535, 4949, 2102, 4852, 3834, 4198, 4740, 853, 4133, 2467, 4791, 2918, 2374, 2574, 1769, 5772, 4768, 2089, 4328, 2577, 4613, 4586, 3801, 4681, 948, 3366, 3371, 3246, 175, 1362, 6265, 711, 2027, 5449, 971, 609, 2932, 3816, 465, 418, 6416, 3934, 4023, 3655, 1614, 2636, 2915, 4847, 917, 3166, 3402, 1786, 2864, 1933, 2074, 4815, 1645, 4124, 2120, 4974, 1366, 3761, 6516, 4833, 2004, 3602, 5702, 1377, 6469, 2546, 2148, 4482, 5196, 3150, 3839, 5192, 2429, 1530, 871, 5405, 3800, 5809, 4461, 3724, 5893, 1812, 1242, 3085, 3618, 3943, 6087, 5853, 3379, 4617, 2982, 2357, 2972, 2271, 2243, 5977, 4987, 3661, 876, 3401, 2273, 2269, 1014, 1003, 1975, 5970, 4602, 5463, 1704, 375, 3251, 5270, 4652, 2434, 5683, 285, 764, 704, 50, 777, 4303, 146, 5209, 4210, 2168, 1578, 5319, 1689, 3555, 1130, 4683, 4068, 5768, 4415, 3374, 3978, 5673, 4206, 1629, 4374, 231, 3288, 2090, 2197, 1217, 1358, 6189, 2694, 4219, 2676, 5286, 4483, 1581, 5995, 1853, 3104, 2520, 5861, 5938, 1251, 1684, 2851, 4827, 4953, 3756, 3653, 4343, 6456, 423, 3026, 3500, 6521, 2126, 2526, 2026, 3270, 4075, 5870, 4698, 5507, 5189, 2529, 6285, 6447, 4397, 2959, 6291, 1856, 5794, 3579, 3077, 1421, 3535, 727, 2030, 6250, 2096, 3235, 58, 1498, 4195, 787, 6450, 3496, 3294, 1256, 5705, 848, 3490, 1522, 3382, 2499, 5176, 6107, 2923, 5570, 154, 474, 1972, 373, 557, 1117, 3115, 4306, 3781, 1666, 2419, 2018, 2078, 1126, 5481, 1005, 6041, 4454, 3355, 1859, 2410, 4166, 3019, 2406, 3107, 5953, 2878, 2385, 6217, 5616, 5395, 3998, 3844, 6491, 4012, 3932, 4284, 182, 2338, 2307, 2184, 5097, 1133, 2552, 1274, 5932, 1849, 3317, 6170, 3277, 1380, 1419, 3678, 5952, 3066, 3041, 5401, 445, 1418, 2260, 2085, 6121, 2281, 846, 4137, 3831, 775, 5835, 542, 4643, 3663, 451, 6011, 1212, 300, 3472, 2817, 4078, 3273, 34, 4319, 4169, 452, 5111, 6513, 6181, 3024, 2830, 592, 6033, 2527, 4932, 6003, 3686, 6027, 3589, 1443, 2254, 2493, 4243, 924, 4065, 3763, 5188, 4623, 140, 3638, 2980, 4529, 1699, 3764, 1709, 2763, 2164, 3849, 5638, 4412, 387, 5896, 1869, 1494, 2829, 5542, 3846, 3997, 2579, 4630, 5800, 3426, 2521, 2204, 3857, 3446, 3615, 1215, 5862, 1987, 2202, 4598, 110, 723, 54, 2091, 3238, 49, 3229, 6326, 5786, 6275, 1687, 6105, 6094, 851, 697, 1913, 1335, 5648, 6018, 519, 3089, 1765, 2188, 1648, 6385, 1909, 2162, 4082, 2206, 2826, 945, 1085, 1207, 3397, 2723, 6030, 2423, 2337, 19, 1785, 3503, 921, 1420, 4784, 3289, 5096, 5647, 5470, 5148, 5812, 5564, 3052, 4581, 6252, 2068, 3155, 5266, 4568, 1038, 6356, 4966, 2330, 4744, 67, 4186, 2934, 237, 4994, 3469, 372, 4105, 3349, 529, 3606, 3196, 6512, 1545, 6411, 188, 3892, 2586, 3813, 362, 2725, 3225, 2122, 1538, 5476, 3523, 2468, 622, 5701, 3926, 809, 992, 3780, 5784, 4403, 2995, 3415, 1677, 584, 5763, 2913, 1984, 4520, 4027, 3992, 2813, 873, 2810, 4322, 4908, 3720, 143, 228, 2455, 5016, 6129, 6103, 3730, 3083, 2607, 3547, 2794, 2832, 3056, 5293, 1956, 2446, 5106, 503, 2149, 1292, 1736, 2716, 5019, 3310, 297, 5766, 4413, 5216, 2907, 1107, 2610, 5124, 145, 4382, 476, 2449, 3214, 1791, 6358, 3498, 5132, 4817, 5115, 1734, 3605, 1726, 5321, 4443, 5365, 3776, 4091, 4600, 1278, 70, 4130, 4891, 4277, 2988, 4244, 883, 5451, 5346, 1411, 725, 1372, 4697, 909, 837, 6055, 4690, 4272, 4352, 4702, 4552, 885, 4274, 4164, 4588, 2012, 3363, 6274, 3573, 2201, 2482, 797, 841, 5690, 4650, 3367, 1861, 149, 5221, 2653, 545, 5158, 3710, 4978, 3971, 546, 5753, 4626, 6169, 1412, 4227, 1903, 1011, 4245, 3708, 4416, 6255, 3380, 540, 5914, 5208, 3506, 1927, 94, 120, 4992, 1991, 4877, 5873, 2815, 5933, 4404, 2301, 3012, 4053, 1708, 6270, 2608, 6499, 2444, 1446, 2641, 6204, 4446, 2267, 6543, 4897, 4141, 1772, 4297, 351, 2394, 6092, 4038, 3060, 669, 6444, 1270, 4024, 4849, 4289, 3488, 6138, 5259, 3946, 2479, 139, 5645, 2785, 1101, 1111, 2917, 1194, 2397, 3721, 5849, 2780, 4126, 2688, 3178, 2598, 1524, 2620, 4168, 6029, 3659, 1160, 1563, 4034, 2433, 5781, 4054, 6530, 2182, 2515, 2073, 193, 3468, 1516, 518, 1912, 3351, 2783, 6336, 6418, 4275, 390, 261, 2349, 2896, 5316, 3518, 378, 2611, 5512, 2194, 2328, 5010, 1604, 1934, 1756, 4769, 5215, 2809, 350, 3445, 117, 4468, 4043, 6409, 2726, 5195, 6355, 5059, 3337, 337, 3562, 5625, 4523, 3872, 2761, 4308, 3705, 1333, 4125, 1901, 1511, 943, 3895, 1383, 1351, 717, 1696, 4574, 4381, 995, 690, 273, 3156, 617, 3982, 5232, 3073, 4117, 1174, 5589, 1501, 3463, 5358, 179, 4085, 174, 275, 607, 4869, 836, 1027, 4692, 4546, 4846, 1378, 5876, 315, 1822, 1173, 2551, 3002, 5425, 4878, 6180, 276, 748, 5156, 22, 2505, 1749, 4715, 455, 5879, 2143, 3594, 2179, 789, 6267, 4494, 3923, 916, 925, 4982, 310, 5224, 6028, 3859, 4934, 2656, 1356, 1535, 4694, 4104, 2396, 2099, 1347, 2280, 528, 352, 3467, 2747, 3665, 1252, 620, 1922, 6457, 2621, 4633, 1686, 4888, 4362, 2576, 278, 2361, 2708, 5968, 4948, 3694, 1365, 6330, 4580, 3595, 2746, 189, 209, 4414, 5670, 4288, 73, 3261, 2186, 2775, 1050, 370, 4197, 4002, 6439, 3850, 3128, 2205, 2967, 2290, 525, 6468, 2973, 4607, 5258, 2258, 5426, 1164, 40, 235, 2782, 552, 3486, 5723, 2029, 2531, 3732, 3356, 3311, 2372, 4177, 1293, 796, 4224, 2334, 2389, 2321, 2842, 2478, 4016, 3316, 6548, 1084, 2795, 862, 4634, 600, 956, 544, 6511, 1506, 4029, 1401, 2142, 4872, 5954, 3109, 2165, 3318, 2072, 1574, 2218, 5923, 6525, 933, 4526, 5067, 5464, 116, 6051, 6222, 2698, 2604, 2286, 3548, 2283, 6173, 1248, 3842, 1425, 3376, 3700, 6245, 4871, 467, 4582, 4192, 2561, 2028, 2075, 3948, 11, 3448, 2713, 2266, 236, 2908, 2095, 3377, 2448, 1051, 5649, 5428, 4287, 1004, 4294, 6104, 3549, 3628, 3823, 5060, 3536, 4608, 2463, 2911, 5788, 3954, 3326, 1290, 4260, 1764, 4474, 2181, 6015, 4565, 4107, 1170, 2239, 2116, 6286, 3668, 304, 5034, 3805, 5847, 4241, 2180, 4376, 1348, 5048, 1782, 3082, 3102, 206, 5047, 1467, 5344, 2489, 6494, 2340, 3873, 2097, 5509, 3812, 2147, 4495, 2230, 3014, 57, 5193, 1983, 2998, 5541, 6347, 3147, 6213, 2692, 25, 1596, 745, 2818, 3217, 1077, 583, 5837, 4642, 1834, 5978, 4178, 3163, 4765, 5943, 1183, 4259, 940, 3671, 1957, 1220, 950, 3207, 3190, 4749, 953, 2530, 220, 5220, 27, 2265, 1186, 1103, 4620, 1431, 2944, 1384, 3765, 3262, 5777, 1621, 184, 1825, 6253, 1585, 1032, 2730, 6488, 1404, 6288, 6139, 4456, 1570, 3348, 6533, 10, 6044, 2167, 3899, 6438, 2064, 602, 2949, 1343, 3755, 5720, 2472, 2414, 4070, 2302, 3071, 2199, 5813, 3820, 3598, 3660, 1022, 2921, 829, 636, 5947, 1836, 2765, 3009, 2991, 2940, 750, 4471, 3101, 3494, 5454, 4707, 6541, 2662, 2011, 2635, 5965, 17, 4524, 3738, 2805, 1743, 5430, 176, 4253, 2955, 5959, 2961, 3825, 5852, 3074, 3491, 3744, 5057, 4668, 4863, 2114, 2325, 3583, 2494, 3222, 2009, 5925, 3525, 5324, 966, 2768, 358, 2976, 5615, 6515, 614, 2585, 2904, 2495, 4158, 2836, 2919, 4807, 2803, 4302, 6175, 1669, 1945, 5385, 2387, 5135, 5348, 3914, 4363, 5764, 355, 5291, 3786, 2140, 3338, 939, 2584, 2352, 1998, 543, 5929, 6022, 5917, 6205, 5021, 6343, 3493, 1289, 3290, 3748, 5483, 776, 706, 3092, 3054, 5070, 1863, 1508, 3845, 135, 1857, 216, 4215, 3551, 434, 368, 3202, 5264, 1986, 3221, 2571, 4628, 4991, 4954, 45, 1413, 6036, 1830, 3887, 6458, 1670, 3443, 4870, 678, 4729, 4883, 1303, 4610, 4250, 3960, 1850, 6508, 3003, 1739, 5885, 2137, 3231, 1044, 4851, 4951, 5371, 5349, 294, 3869, 1375, 2278, 5872, 4965, 3901, 2312, 2597, 3409, 3076, 3387, 3783, 835, 6106, 4793, 3167, 1816, 5949, 5568, 6196, 6501, 5935, 1037, 3483, 3941, 5687, 2567, 1099, 6247, 2549, 3018, 6384, 2580, 2222, 4151, 4855, 279, 1455, 2822, 4682, 4659, 2373, 1597, 604, 4583, 707, 928, 3091, 3141, 4648, 1331, 391, 6341, 1846, 4172, 6211, 5033, 2914, 1938, 5524, 3717, 4616, 1433, 5265, 2108, 5724, 2779, 3319, 1240, 643, 1402, 5806, 2413, 290, 6052, 1036, 2601, 5785, 3847, 6271, 2522, 1778, 4942, 4666, 5844, 4664, 6495, 190, 1400, 338, 211, 3250, 2975, 5466, 2324, 4485, 845, 4233, 3193, 6526, 274, 556, 2200, 5611, 4081, 2025, 2850, 1855, 1592, 2512, 778, 4567, 6269, 1374, 4475, 5793, 2824, 126, 2929, 4718, 4944, 3984, 1175, 3749, 397, 6339, 5951, 4606, 4779, 4393, 5924, 5931, 1371, 3970, 2161, 2855, 129, 5271, 3020, 2183, 6112, 716, 3715, 3216, 5134, 1532, 5731, 4056, 591, 463, 4930, 5802, 2729, 3137, 1898, 5755, 91, 1376, 3808, 1847, 1216, 5609, 2257, 6090, 1265, 6266, 794, 4279, 1364, 5843, 4007, 132, 3905, 6095, 1264, 3413, 2852, 2384, 99, 2436, 3509, 502, 3864, 2470, 4447, 5397, 2922, 2791, 5522, 1295, 3900, 5391, 2843, 3412, 2224, 5699, 2354, 1373, 3278, 2989, 832, 515, 6451, 1678, 4497, 935, 3560, 2456, 1168, 3176, 1525, 3442, 4291, 4492, 6382, 5154, 2563, 3242, 2256, 5053, 2082, 3698, 6168, 1950, 4221, 1339, 62, 949, 1156, 6547, 75, 3636, 4554, 3158, 3942, 2310, 5608, 3241, 3308, 112, 4037, 3303, 2227, 1504, 838, 4074, 5529, 1213, 4638, 1611, 2159, 3891, 388, 100, 1007, 2889, 3352, 4062, 5204, 2764, 92, 2591, 4825, 5118, 2351, 1978, 1892, 2275, 671, 5139, 5700, 5833, 3476, 1781, 3404, 6177, 2055, 3797, 4890, 5099, 4388, 2331, 6429, 784, 5832, 4656, 3030, 3975, 2990, 2583, 5372, 6300, 1711, 3324, 3863, 4299, 806, 5697, 3305, 5155, 2087, 4735, 3160, 2703, 3429, 5157, 3815, 3851, 4785, 6040, 4146, 946, 4750, 1710, 259, 5718, 3564, 3100, 6528, 1843, 5858, 3673, 6097, 4083, 4008, 2388, 4868, 4307, 3391, 4304, 1731, 6357, 834, 3099, 2587, 849, 912, 2315, 3470, 313, 2317, 2418, 504, 4384, 2945, 5504, 5676, 1258, 3291, 3464, 747, 5026, 685, 4506, 5160, 5603, 1261, 2178, 1924, 3897, 4834, 581, 5268, 2415, 3742, 1082, 2667, 4223, 3244, 3171, 4089, 3157, 3005, 2088, 6137, 3143, 755, 1034, 4469, 4894, 594, 1016, 786, 1257, 2997, 4571, 6171, 2255, 6433, 6019, 6371, 4619, 5398, 5197, 5262, 345, 2253, 1737, 6373, 1097, 2485, 5102, 2408, 5863, 5228, 3597, 6328, 444, 4910, 4970, 5318, 3275, 2891, 1549, 134, 2648, 603, 446, 5884, 5641, 1128, 5181, 3672, 1074, 4318, 5969, 2881, 5015, 3799, 2767, 1932, 1369, 3322, 3909, 1008, 2327, 2931, 4711, 5037, 5079, 4775, 5017, 3394, 5452, 3051, 3269, 4814, 1239, 4522, 3511, 4044, 5543, 688, 5566, 4938, 5275, 2861, 1650, 3767, 3537, 4713, 2322, 3140, 3220, 3881, 4945, 2569, 3346, 4822, 1531, 4276, 5795, 1658, 5966, 3739, 6440, 5278, 3695, 254, 1831, 1662, 3961, 150, 2734, 762, 3204, 2812, 5513, 3528, 1653, 4335, 3008, 1706, 3108, 4356, 1447, 4805, 6114, 3991, 5149, 470, 2672, 2016, 12, 5364, 1340, 1795, 2938, 3870, 5590, 664, 5549, 361, 4850, 5285, 1269, 4913, 1740, 5927, 2629, 6462, 4470, 3794, 1178, 2250, 2599, 2664, 6466, 4387, 2107, 6492, 3068, 968, 5693, 2501, 4609, 3754, 1114, 3453, 2892, 6464, 5283, 5301, 637, 15, 6406, 1533, 4450, 5345, 1777, 6503, 4857, 870, 4305, 2547, 6134, 6540, 5555, 623, 473, 5351, 5393, 936, 3406, 2605, 3624, 5341, 233, 5799, 4013, 4564, 1189, 4627, 5551, 4032, 36, 6060, 1623, 598, 108, 2109, 1406, 5127, 783, 2170, 4821, 2450, 4220, 1571, 1624, 1985, 3492, 111, 5213, 2336, 271, 500, 5643, 4812, 3170, 1715, 4973, 3610, 195, 3876, 774, 3630, 5431, 2647, 214, 4670, 5790, 2093, 404, 4459, 3751, 2223, 5028, 2454, 105, 1046, 1284, 4548, 3735, 5459, 4828, 3474, 4977, 5534, 4909, 2675, 513, 3400, 3431, 210, 5399, 5206, 1202, 4943, 859, 3958, 4179, 6013, 472, 4502, 918, 1320, 4424, 4057, 1159, 4776, 4407, 5860, 6243, 3248, 1513, 4535, 2094, 4660, 782, 2845, 4460, 2015, 1049, 4540, 1095, 5887, 5366, 4873, 3632, 629, 5180, 1594, 4911, 2682, 30, 4222, 102, 4747, 221, 2888, 2996, 3103, 1503, 3187, 4134, 2509, 6008, 831, 2341, 2970, 1911, 4490, 6220, 2939, 4941, 336, 2868, 4052, 3268, 6414, 4790, 3995, 4073, 4092, 5714, 3114, 4340, 4549, 6279, 6075, 6214, 4371, 1086, 3272, 344, 4895, 2860, 539, 6387, 2778, 2578, 6427, 2158, 3592, 4491, 3502, 3449, 2259, 1445, 59, 5626, 2562, 3682, 1177, 3477, 1456, 1505, 3186, 6004, 3596, 4329, 6126, 1424, 1902, 1628, 5774, 5974, 1118, 1575, 26, 4420, 595, 4714, 5402, 5948, 2483, 5290, 2514, 4889, 3877, 3951, 3461, 4004, 4341, 828, 5146, 6334, 6434, 6096, 4290, 2633, 1414, 6260, 2496, 1996, 3416, 6025, 5975, 1832, 1012, 1399, 679, 3611, 5639, 6050, 677, 363, 1319, 6131, 4952, 323, 3000, 3604, 2568, 2020, 2994, 5846, 395, 5257, 1610, 4115, 2517, 536, 3607, 1936, 5484, 5043, 2032, 511, 4810, 951, 5474, 1851, 757, 433, 4257, 3032, 6412, 1587, 449, 6165, 1667, 5468, 5857, 4563, 3504, 4167, 441, 4357, 6496, 2249, 954, 3701, 4528, 365, 360, 3796, 5187, 565, 317, 4090, 5018, 2910, 2474, 2262, 4605, 1665, 5357, 5619, 6431, 427, 4865, 4249, 6386, 6199, 307, 357, 2963, 6110, 4191, 3519, 6023, 2339, 227, 2063, 3552, 1608, 2876, 1682, 4174, 6442, 1958, 309, 5792, 4278, 2042, 3769, 6251, 1105, 3042, 4746, 1543, 3460, 5044, 4273, 5613, 305, 3029, 6043, 3727, 3866, 1872, 4132, 1492, 5297, 2532, 2503, 2643, 2680, 5274, 5444, 1937, 2614, 6366, 1302, 1775, 4031, 3079, 3829, 2752, 2582, 2806, 2174, 1436, 6344, 460, 1900, 1874, 3328, 4155, 1700, 2318, 1033, 6054, 2728, 3514, 5934, 203, 2933, 4106, 384, 3740, 551, 289, 2777, 4937, 1300, 3591, 3398, 2442, 1735, 5628, 5315, 3743, 4541, 177, 3497, 3734, 5055, 5191, 296, 172, 4809, 6443, 5287, 2962, 6038, 4214, 714, 1944, 469, 5239, 2615, 699, 972, 1326, 4316, 4635, 4351, 4237, 4239, 341, 860, 5095, 923, 1345, 5203, 675, 6514, 2309, 2627, 1630, 6125, 4811, 1042, 5928, 2709, 4478, 3879, 6461, 1298, 1432, 458, 3819, 2124, 3106, 6351, 456, 756, 6413, 3989, 268, 3711, 1741, 2432, 6130, 4009, 788, 1276, 3818, 2744, 5630, 5538, 3858, 2792, 1018, 2566, 3789, 3641, 1605, 347, 5695]\n",
      "test ids:  [0, 1, 2, 3, 4, 5, 6, 7, 8, 78, 79, 80, 81, 82, 83, 84, 85, 86, 87, 88, 89, 90, 158, 159, 160, 161, 162, 163, 164, 165, 166, 167, 168, 169, 170, 171, 238, 239, 240, 241, 242, 243, 244, 245, 246, 247, 248, 249, 250, 251, 252, 253, 318, 319, 320, 321, 322, 324, 325, 326, 327, 328, 329, 330, 331, 332, 333, 334, 335, 398, 399, 400, 401, 402, 405, 406, 407, 408, 409, 410, 411, 412, 413, 414, 415, 416, 417, 478, 479, 480, 481, 482, 486, 487, 488, 489, 490, 491, 492, 493, 494, 495, 496, 497, 498, 499, 558, 559, 560, 561, 562, 567, 568, 569, 570, 571, 572, 573, 574, 575, 576, 577, 578, 579, 580, 638, 639, 640, 641, 642, 648, 649, 650, 651, 652, 653, 654, 655, 656, 657, 658, 659, 660, 661, 662, 718, 719, 720, 721, 722, 729, 730, 731, 732, 733, 734, 735, 736, 737, 738, 739, 740, 741, 742, 743, 744, 798, 799, 800, 801, 802, 810, 811, 812, 813, 814, 815, 816, 817, 818, 819, 820, 821, 822, 823, 824, 825, 826, 878, 879, 880, 881, 882, 892, 893, 894, 895, 896, 897, 898, 899, 900, 901, 902, 903, 904, 905, 906, 907, 908, 958, 959, 960, 961, 962, 974, 975, 976, 977, 978, 979, 980, 981, 982, 983, 984, 985, 986, 987, 988, 989, 1039, 1040, 1041, 1057, 1058, 1059, 1060, 1061, 1062, 1063, 1064, 1065, 1066, 1067, 1068, 1069, 1070, 1071, 1119, 1120, 1121, 1139, 1140, 1141, 1142, 1143, 1144, 1145, 1146, 1147, 1148, 1149, 1150, 1151, 1152, 1153, 1199, 1200, 1201, 1221, 1222, 1223, 1224, 1225, 1226, 1227, 1228, 1229, 1230, 1231, 1232, 1233, 1234, 1235, 1279, 1280, 1281, 1304, 1305, 1306, 1307, 1308, 1309, 1310, 1311, 1312, 1313, 1314, 1315, 1316, 1359, 1360, 1361, 1386, 1387, 1388, 1389, 1390, 1391, 1392, 1393, 1394, 1395, 1396, 1397, 1398, 1439, 1440, 1441, 1469, 1470, 1471, 1472, 1473, 1474, 1475, 1476, 1477, 1478, 1479, 1480, 1519, 1520, 1521, 1551, 1552, 1553, 1554, 1555, 1556, 1557, 1558, 1559, 1560, 1561, 1562, 1599, 1600, 1601, 1633, 1634, 1635, 1636, 1637, 1638, 1639, 1640, 1641, 1642, 1643, 1644, 1679, 1680, 1681, 1716, 1717, 1718, 1719, 1720, 1721, 1722, 1723, 1724, 1725, 1759, 1760, 1761, 1798, 1799, 1800, 1801, 1802, 1803, 1804, 1805, 1806, 1807, 1839, 1840, 1841, 1880, 1881, 1882, 1883, 1884, 1885, 1886, 1887, 1888, 1889, 1919, 1920, 1921, 1963, 1964, 1965, 1966, 1967, 1968, 1969, 1970, 1971, 1999, 2000, 2001, 2045, 2046, 2047, 2048, 2049, 2050, 2051, 2052, 2053, 2079, 2080, 2081, 2127, 2128, 2129, 2130, 2131, 2132, 2133, 2134, 2160, 2210, 2211, 2212, 2213, 2214, 2215, 2216, 2240, 2292, 2293, 2294, 2295, 2296, 2297, 2298, 2320, 2375, 2376, 2377, 2378, 2379, 2380, 2400, 2457, 2458, 2459, 2460, 2461, 2462, 2480, 2539, 2540, 2541, 2542, 2543, 2560, 2622, 2623, 2624, 2625, 2640, 2704, 2705, 2706, 2707, 2720, 2786, 2787, 2788, 2789, 2800, 2869, 2870, 2871, 2880, 2951, 2952, 2960, 3033, 3034, 3040, 3116, 3120, 3198, 3200, 3280, 3360, 3362, 3440, 3444, 3520, 3526, 3527, 3600, 3608, 3609, 3680, 3689, 3690, 3691, 3760, 3771, 3772, 3773, 3774, 3840, 3853, 3854, 3855, 3856, 3920, 3935, 3936, 3937, 3938, 4000, 4017, 4018, 4019, 4020, 4021, 4080, 4098, 4099, 4100, 4101, 4102, 4103, 4160, 4180, 4181, 4182, 4183, 4184, 4185, 4240, 4262, 4263, 4264, 4265, 4266, 4267, 4268, 4320, 4344, 4345, 4346, 4347, 4348, 4349, 4350, 4400, 4426, 4427, 4428, 4429, 4430, 4431, 4432, 4433, 4479, 4480, 4481, 4507, 4508, 4509, 4510, 4511, 4512, 4513, 4514, 4515, 4559, 4560, 4561, 4589, 4590, 4591, 4592, 4593, 4594, 4595, 4596, 4597, 4639, 4640, 4641, 4671, 4672, 4673, 4674, 4675, 4676, 4677, 4678, 4679, 4680, 4719, 4720, 4721, 4753, 4754, 4755, 4756, 4757, 4758, 4759, 4760, 4761, 4762, 4799, 4800, 4801, 4835, 4836, 4837, 4838, 4839, 4840, 4841, 4842, 4843, 4844, 4879, 4880, 4881, 4916, 4917, 4918, 4919, 4920, 4921, 4922, 4923, 4924, 4925, 4926, 4927, 4959, 4960, 4961, 4998, 4999, 5000, 5001, 5002, 5003, 5004, 5005, 5006, 5007, 5008, 5009, 5039, 5040, 5041, 5080, 5081, 5082, 5083, 5084, 5085, 5086, 5087, 5088, 5089, 5090, 5091, 5119, 5120, 5121, 5162, 5163, 5164, 5165, 5166, 5167, 5168, 5169, 5170, 5171, 5172, 5173, 5174, 5199, 5200, 5201, 5244, 5245, 5246, 5247, 5248, 5249, 5250, 5251, 5252, 5253, 5254, 5255, 5256, 5279, 5280, 5281, 5325, 5326, 5327, 5328, 5329, 5330, 5331, 5332, 5333, 5334, 5335, 5336, 5337, 5338, 5339, 5359, 5360, 5361, 5407, 5408, 5409, 5410, 5411, 5412, 5413, 5414, 5415, 5416, 5417, 5418, 5419, 5420, 5421, 5439, 5440, 5441, 5489, 5490, 5491, 5492, 5493, 5494, 5495, 5496, 5497, 5498, 5499, 5500, 5501, 5502, 5503, 5519, 5520, 5521, 5571, 5572, 5573, 5574, 5575, 5576, 5577, 5578, 5579, 5580, 5581, 5582, 5583, 5584, 5585, 5586, 5598, 5599, 5600, 5601, 5602, 5652, 5653, 5654, 5655, 5656, 5657, 5658, 5659, 5660, 5661, 5662, 5663, 5664, 5665, 5666, 5667, 5668, 5678, 5679, 5680, 5681, 5682, 5734, 5735, 5736, 5737, 5738, 5739, 5740, 5741, 5742, 5743, 5744, 5745, 5746, 5747, 5748, 5749, 5750, 5758, 5759, 5760, 5761, 5762, 5816, 5817, 5818, 5819, 5820, 5821, 5822, 5823, 5824, 5825, 5826, 5827, 5828, 5829, 5830, 5831, 5838, 5839, 5840, 5841, 5842, 5898, 5899, 5900, 5901, 5902, 5903, 5904, 5905, 5906, 5907, 5908, 5909, 5910, 5911, 5912, 5918, 5919, 5920, 5921, 5922, 5980, 5981, 5982, 5983, 5984, 5985, 5986, 5987, 5988, 5989, 5990, 5991, 5992, 5993, 5998, 5999, 6000, 6001, 6002, 6061, 6062, 6063, 6064, 6065, 6066, 6067, 6068, 6069, 6070, 6071, 6072, 6073, 6074, 6078, 6079, 6080, 6081, 6082, 6143, 6144, 6145, 6146, 6147, 6148, 6149, 6150, 6151, 6152, 6153, 6154, 6155, 6158, 6159, 6160, 6161, 6162, 6225, 6226, 6227, 6228, 6229, 6230, 6231, 6232, 6233, 6234, 6235, 6236, 6238, 6239, 6240, 6241, 6242, 6307, 6308, 6309, 6310, 6311, 6312, 6313, 6314, 6315, 6316, 6317, 6318, 6319, 6320, 6321, 6322, 6389, 6390, 6391, 6392, 6393, 6394, 6395, 6396, 6397, 6398, 6399, 6400, 6401, 6402, 6470, 6471, 6472, 6473, 6474, 6475, 6476, 6477, 6478, 6479, 6480, 6481, 6482, 6552, 6553, 6554, 6555, 6556, 6557, 6558, 6559, 6560]\n",
      "CPU times: user 161 ms, sys: 8.02 ms, total: 169 ms\n",
      "Wall time: 168 ms\n"
     ]
    }
   ],
   "source": [
    "%%time\n",
    "n_total = len(simulation.dataframe)\n",
    "n_train = len(simulation.dataframe[simulation.dataframe.type_of == \"train\"])\n",
    "n_val = len(simulation.dataframe[simulation.dataframe.type_of == \"val\"])\n",
    "n_test = len(simulation.dataframe[simulation.dataframe.type_of == \"test\"])\n",
    "n_train_hamiltonians = len(simulation.train_ids)\n",
    "n_val_hamiltonians = len(simulation.val_ids)\n",
    "n_test_hamiltonians = len(simulation.test_ids)\n",
    "n_total_hamiltonians = n_train_hamiltonians + n_val_hamiltonians + n_test_hamiltonians\n",
    "\n",
    "print(\"% train: \", n_train/n_total)\n",
    "print(\"% val: \",  n_val/n_total)\n",
    "print(\"% test: \", n_test/n_total)\n",
    "print(\"% train + val + test: \", (n_train+n_val+n_test)/n_total)\n",
    "print(\"\\n\")\n",
    "print(\"number of train hamiltonians: \", n_train_hamiltonians)\n",
    "print(\"number of val hamiltonians: \", n_val_hamiltonians)\n",
    "print(\"number of test hamiltonians: \", n_test_hamiltonians)\n",
    "print(\"total number of hamiltonians: \", n_total_hamiltonians)\n",
    "print(\"\\n\")\n",
    "print(\"train ids: \", simulation.train_ids)\n",
    "print(\"val ids: \", simulation.val_ids)\n",
    "print(\"test ids: \", simulation.test_ids)"
   ]
  },
  {
   "cell_type": "markdown",
   "metadata": {
    "papermill": {
     "duration": 0.037648,
     "end_time": "2020-07-18T06:16:08.809684",
     "exception": false,
     "start_time": "2020-07-18T06:16:08.772036",
     "status": "completed"
    },
    "tags": []
   },
   "source": [
    "#### Checking summaries"
   ]
  },
  {
   "cell_type": "code",
   "execution_count": 31,
   "metadata": {
    "execution": {
     "iopub.execute_input": "2020-07-18T06:16:08.884539Z",
     "iopub.status.busy": "2020-07-18T06:16:08.884211Z",
     "iopub.status.idle": "2020-07-18T06:16:08.902665Z",
     "shell.execute_reply": "2020-07-18T06:16:08.902347Z"
    },
    "papermill": {
     "duration": 0.056384,
     "end_time": "2020-07-18T06:16:08.902716",
     "exception": false,
     "start_time": "2020-07-18T06:16:08.846332",
     "status": "completed"
    },
    "tags": []
   },
   "outputs": [
    {
     "name": "stdout",
     "output_type": "stream",
     "text": [
      "length of ham_summary:  6561\n",
      "CPU times: user 103 µs, sys: 0 ns, total: 103 µs\n",
      "Wall time: 59.4 µs\n"
     ]
    },
    {
     "data": {
      "text/html": [
       "<div>\n",
       "<style scoped>\n",
       "    .dataframe tbody tr th:only-of-type {\n",
       "        vertical-align: middle;\n",
       "    }\n",
       "\n",
       "    .dataframe tbody tr th {\n",
       "        vertical-align: top;\n",
       "    }\n",
       "\n",
       "    .dataframe thead th {\n",
       "        text-align: right;\n",
       "    }\n",
       "</style>\n",
       "<table border=\"1\" class=\"dataframe\">\n",
       "  <thead>\n",
       "    <tr style=\"text-align: right;\">\n",
       "      <th></th>\n",
       "      <th>t1</th>\n",
       "      <th>t2</th>\n",
       "      <th>type_of</th>\n",
       "      <th>0</th>\n",
       "      <th>1</th>\n",
       "      <th>phase</th>\n",
       "      <th>pred_phase</th>\n",
       "    </tr>\n",
       "    <tr>\n",
       "      <th>id</th>\n",
       "      <th></th>\n",
       "      <th></th>\n",
       "      <th></th>\n",
       "      <th></th>\n",
       "      <th></th>\n",
       "      <th></th>\n",
       "      <th></th>\n",
       "    </tr>\n",
       "  </thead>\n",
       "  <tbody>\n",
       "    <tr>\n",
       "      <th>0</th>\n",
       "      <td>-2.0</td>\n",
       "      <td>-2.00</td>\n",
       "      <td>test</td>\n",
       "      <td>0.81</td>\n",
       "      <td>0.19</td>\n",
       "      <td>999</td>\n",
       "      <td>0</td>\n",
       "    </tr>\n",
       "    <tr>\n",
       "      <th>1</th>\n",
       "      <td>-2.0</td>\n",
       "      <td>-1.95</td>\n",
       "      <td>test</td>\n",
       "      <td>0.88</td>\n",
       "      <td>0.12</td>\n",
       "      <td>0</td>\n",
       "      <td>0</td>\n",
       "    </tr>\n",
       "    <tr>\n",
       "      <th>2</th>\n",
       "      <td>-2.0</td>\n",
       "      <td>-1.90</td>\n",
       "      <td>test</td>\n",
       "      <td>0.91</td>\n",
       "      <td>0.09</td>\n",
       "      <td>0</td>\n",
       "      <td>0</td>\n",
       "    </tr>\n",
       "    <tr>\n",
       "      <th>3</th>\n",
       "      <td>-2.0</td>\n",
       "      <td>-1.85</td>\n",
       "      <td>test</td>\n",
       "      <td>0.84</td>\n",
       "      <td>0.16</td>\n",
       "      <td>0</td>\n",
       "      <td>0</td>\n",
       "    </tr>\n",
       "    <tr>\n",
       "      <th>4</th>\n",
       "      <td>-2.0</td>\n",
       "      <td>-1.80</td>\n",
       "      <td>test</td>\n",
       "      <td>0.89</td>\n",
       "      <td>0.11</td>\n",
       "      <td>0</td>\n",
       "      <td>0</td>\n",
       "    </tr>\n",
       "    <tr>\n",
       "      <th>...</th>\n",
       "      <td>...</td>\n",
       "      <td>...</td>\n",
       "      <td>...</td>\n",
       "      <td>...</td>\n",
       "      <td>...</td>\n",
       "      <td>...</td>\n",
       "      <td>...</td>\n",
       "    </tr>\n",
       "    <tr>\n",
       "      <th>6556</th>\n",
       "      <td>2.0</td>\n",
       "      <td>1.80</td>\n",
       "      <td>test</td>\n",
       "      <td>0.90</td>\n",
       "      <td>0.10</td>\n",
       "      <td>0</td>\n",
       "      <td>0</td>\n",
       "    </tr>\n",
       "    <tr>\n",
       "      <th>6557</th>\n",
       "      <td>2.0</td>\n",
       "      <td>1.85</td>\n",
       "      <td>test</td>\n",
       "      <td>0.91</td>\n",
       "      <td>0.09</td>\n",
       "      <td>0</td>\n",
       "      <td>0</td>\n",
       "    </tr>\n",
       "    <tr>\n",
       "      <th>6558</th>\n",
       "      <td>2.0</td>\n",
       "      <td>1.90</td>\n",
       "      <td>test</td>\n",
       "      <td>0.91</td>\n",
       "      <td>0.09</td>\n",
       "      <td>0</td>\n",
       "      <td>0</td>\n",
       "    </tr>\n",
       "    <tr>\n",
       "      <th>6559</th>\n",
       "      <td>2.0</td>\n",
       "      <td>1.95</td>\n",
       "      <td>test</td>\n",
       "      <td>0.86</td>\n",
       "      <td>0.14</td>\n",
       "      <td>0</td>\n",
       "      <td>0</td>\n",
       "    </tr>\n",
       "    <tr>\n",
       "      <th>6560</th>\n",
       "      <td>2.0</td>\n",
       "      <td>2.00</td>\n",
       "      <td>test</td>\n",
       "      <td>0.73</td>\n",
       "      <td>0.27</td>\n",
       "      <td>999</td>\n",
       "      <td>0</td>\n",
       "    </tr>\n",
       "  </tbody>\n",
       "</table>\n",
       "<p>6561 rows × 7 columns</p>\n",
       "</div>"
      ],
      "text/plain": [
       "       t1    t2 type_of     0     1  phase  pred_phase\n",
       "id                                                    \n",
       "0    -2.0 -2.00    test  0.81  0.19    999           0\n",
       "1    -2.0 -1.95    test  0.88  0.12      0           0\n",
       "2    -2.0 -1.90    test  0.91  0.09      0           0\n",
       "3    -2.0 -1.85    test  0.84  0.16      0           0\n",
       "4    -2.0 -1.80    test  0.89  0.11      0           0\n",
       "...   ...   ...     ...   ...   ...    ...         ...\n",
       "6556  2.0  1.80    test  0.90  0.10      0           0\n",
       "6557  2.0  1.85    test  0.91  0.09      0           0\n",
       "6558  2.0  1.90    test  0.91  0.09      0           0\n",
       "6559  2.0  1.95    test  0.86  0.14      0           0\n",
       "6560  2.0  2.00    test  0.73  0.27    999           0\n",
       "\n",
       "[6561 rows x 7 columns]"
      ]
     },
     "execution_count": 31,
     "metadata": {},
     "output_type": "execute_result"
    }
   ],
   "source": [
    "%%time\n",
    "ham_summary = simulation.hamiltonian_summary\n",
    "print(\"length of ham_summary: \", len(ham_summary))\n",
    "ham_summary"
   ]
  },
  {
   "cell_type": "code",
   "execution_count": 32,
   "metadata": {
    "execution": {
     "iopub.execute_input": "2020-07-18T06:16:08.979720Z",
     "iopub.status.busy": "2020-07-18T06:16:08.979397Z",
     "iopub.status.idle": "2020-07-18T06:16:09.006707Z",
     "shell.execute_reply": "2020-07-18T06:16:09.006385Z"
    },
    "papermill": {
     "duration": 0.066438,
     "end_time": "2020-07-18T06:16:09.006758",
     "exception": false,
     "start_time": "2020-07-18T06:16:08.940320",
     "status": "completed"
    },
    "tags": []
   },
   "outputs": [
    {
     "data": {
      "text/html": [
       "<div>\n",
       "<style scoped>\n",
       "    .dataframe tbody tr th:only-of-type {\n",
       "        vertical-align: middle;\n",
       "    }\n",
       "\n",
       "    .dataframe tbody tr th {\n",
       "        vertical-align: top;\n",
       "    }\n",
       "\n",
       "    .dataframe thead th {\n",
       "        text-align: right;\n",
       "    }\n",
       "</style>\n",
       "<table border=\"1\" class=\"dataframe\">\n",
       "  <thead>\n",
       "    <tr style=\"text-align: right;\">\n",
       "      <th></th>\n",
       "      <th>t1</th>\n",
       "      <th>t2</th>\n",
       "      <th>0</th>\n",
       "      <th>1</th>\n",
       "      <th>phase</th>\n",
       "      <th>pred_phase</th>\n",
       "    </tr>\n",
       "  </thead>\n",
       "  <tbody>\n",
       "    <tr>\n",
       "      <th>count</th>\n",
       "      <td>6561.000000</td>\n",
       "      <td>6.561000e+03</td>\n",
       "      <td>6561.000000</td>\n",
       "      <td>6561.000000</td>\n",
       "      <td>6561.000000</td>\n",
       "      <td>6561.000000</td>\n",
       "    </tr>\n",
       "    <tr>\n",
       "      <th>mean</th>\n",
       "      <td>0.000000</td>\n",
       "      <td>-4.331917e-18</td>\n",
       "      <td>0.550636</td>\n",
       "      <td>0.449364</td>\n",
       "      <td>25.002134</td>\n",
       "      <td>0.464868</td>\n",
       "    </tr>\n",
       "    <tr>\n",
       "      <th>std</th>\n",
       "      <td>1.169134</td>\n",
       "      <td>1.169134e+00</td>\n",
       "      <td>0.438865</td>\n",
       "      <td>0.438865</td>\n",
       "      <td>154.495657</td>\n",
       "      <td>0.498802</td>\n",
       "    </tr>\n",
       "    <tr>\n",
       "      <th>min</th>\n",
       "      <td>-2.000000</td>\n",
       "      <td>-2.000000e+00</td>\n",
       "      <td>0.040000</td>\n",
       "      <td>0.000000</td>\n",
       "      <td>0.000000</td>\n",
       "      <td>0.000000</td>\n",
       "    </tr>\n",
       "    <tr>\n",
       "      <th>25%</th>\n",
       "      <td>-1.000000</td>\n",
       "      <td>-1.000000e+00</td>\n",
       "      <td>0.060000</td>\n",
       "      <td>0.010000</td>\n",
       "      <td>0.000000</td>\n",
       "      <td>0.000000</td>\n",
       "    </tr>\n",
       "    <tr>\n",
       "      <th>50%</th>\n",
       "      <td>0.000000</td>\n",
       "      <td>0.000000e+00</td>\n",
       "      <td>0.770000</td>\n",
       "      <td>0.230000</td>\n",
       "      <td>1.000000</td>\n",
       "      <td>0.000000</td>\n",
       "    </tr>\n",
       "    <tr>\n",
       "      <th>75%</th>\n",
       "      <td>1.000000</td>\n",
       "      <td>1.000000e+00</td>\n",
       "      <td>0.990000</td>\n",
       "      <td>0.940000</td>\n",
       "      <td>1.000000</td>\n",
       "      <td>1.000000</td>\n",
       "    </tr>\n",
       "    <tr>\n",
       "      <th>max</th>\n",
       "      <td>2.000000</td>\n",
       "      <td>2.000000e+00</td>\n",
       "      <td>1.000000</td>\n",
       "      <td>0.960000</td>\n",
       "      <td>999.000000</td>\n",
       "      <td>1.000000</td>\n",
       "    </tr>\n",
       "  </tbody>\n",
       "</table>\n",
       "</div>"
      ],
      "text/plain": [
       "                t1            t2            0            1        phase  \\\n",
       "count  6561.000000  6.561000e+03  6561.000000  6561.000000  6561.000000   \n",
       "mean      0.000000 -4.331917e-18     0.550636     0.449364    25.002134   \n",
       "std       1.169134  1.169134e+00     0.438865     0.438865   154.495657   \n",
       "min      -2.000000 -2.000000e+00     0.040000     0.000000     0.000000   \n",
       "25%      -1.000000 -1.000000e+00     0.060000     0.010000     0.000000   \n",
       "50%       0.000000  0.000000e+00     0.770000     0.230000     1.000000   \n",
       "75%       1.000000  1.000000e+00     0.990000     0.940000     1.000000   \n",
       "max       2.000000  2.000000e+00     1.000000     0.960000   999.000000   \n",
       "\n",
       "        pred_phase  \n",
       "count  6561.000000  \n",
       "mean      0.464868  \n",
       "std       0.498802  \n",
       "min       0.000000  \n",
       "25%       0.000000  \n",
       "50%       0.000000  \n",
       "75%       1.000000  \n",
       "max       1.000000  "
      ]
     },
     "execution_count": 32,
     "metadata": {},
     "output_type": "execute_result"
    }
   ],
   "source": [
    "ham_summary.describe()"
   ]
  },
  {
   "cell_type": "code",
   "execution_count": 33,
   "metadata": {
    "execution": {
     "iopub.execute_input": "2020-07-18T06:16:09.084608Z",
     "iopub.status.busy": "2020-07-18T06:16:09.084277Z",
     "iopub.status.idle": "2020-07-18T06:16:09.100108Z",
     "shell.execute_reply": "2020-07-18T06:16:09.099790Z"
    },
    "papermill": {
     "duration": 0.055396,
     "end_time": "2020-07-18T06:16:09.100160",
     "exception": false,
     "start_time": "2020-07-18T06:16:09.044764",
     "status": "completed"
    },
    "tags": []
   },
   "outputs": [
    {
     "name": "stdout",
     "output_type": "stream",
     "text": [
      "length of ham_summary:  656100\n"
     ]
    },
    {
     "data": {
      "text/html": [
       "<div>\n",
       "<style scoped>\n",
       "    .dataframe tbody tr th:only-of-type {\n",
       "        vertical-align: middle;\n",
       "    }\n",
       "\n",
       "    .dataframe tbody tr th {\n",
       "        vertical-align: top;\n",
       "    }\n",
       "\n",
       "    .dataframe thead th {\n",
       "        text-align: right;\n",
       "    }\n",
       "</style>\n",
       "<table border=\"1\" class=\"dataframe\">\n",
       "  <thead>\n",
       "    <tr style=\"text-align: right;\">\n",
       "      <th></th>\n",
       "      <th>id</th>\n",
       "      <th>phase</th>\n",
       "      <th>pred_phase</th>\n",
       "      <th>type_of</th>\n",
       "    </tr>\n",
       "  </thead>\n",
       "  <tbody>\n",
       "    <tr>\n",
       "      <th>0</th>\n",
       "      <td>0</td>\n",
       "      <td>999</td>\n",
       "      <td>0</td>\n",
       "      <td>test</td>\n",
       "    </tr>\n",
       "    <tr>\n",
       "      <th>1</th>\n",
       "      <td>0</td>\n",
       "      <td>999</td>\n",
       "      <td>0</td>\n",
       "      <td>test</td>\n",
       "    </tr>\n",
       "    <tr>\n",
       "      <th>2</th>\n",
       "      <td>0</td>\n",
       "      <td>999</td>\n",
       "      <td>0</td>\n",
       "      <td>test</td>\n",
       "    </tr>\n",
       "    <tr>\n",
       "      <th>3</th>\n",
       "      <td>0</td>\n",
       "      <td>999</td>\n",
       "      <td>0</td>\n",
       "      <td>test</td>\n",
       "    </tr>\n",
       "    <tr>\n",
       "      <th>4</th>\n",
       "      <td>0</td>\n",
       "      <td>999</td>\n",
       "      <td>0</td>\n",
       "      <td>test</td>\n",
       "    </tr>\n",
       "    <tr>\n",
       "      <th>...</th>\n",
       "      <td>...</td>\n",
       "      <td>...</td>\n",
       "      <td>...</td>\n",
       "      <td>...</td>\n",
       "    </tr>\n",
       "    <tr>\n",
       "      <th>656095</th>\n",
       "      <td>6560</td>\n",
       "      <td>999</td>\n",
       "      <td>0</td>\n",
       "      <td>test</td>\n",
       "    </tr>\n",
       "    <tr>\n",
       "      <th>656096</th>\n",
       "      <td>6560</td>\n",
       "      <td>999</td>\n",
       "      <td>1</td>\n",
       "      <td>test</td>\n",
       "    </tr>\n",
       "    <tr>\n",
       "      <th>656097</th>\n",
       "      <td>6560</td>\n",
       "      <td>999</td>\n",
       "      <td>1</td>\n",
       "      <td>test</td>\n",
       "    </tr>\n",
       "    <tr>\n",
       "      <th>656098</th>\n",
       "      <td>6560</td>\n",
       "      <td>999</td>\n",
       "      <td>0</td>\n",
       "      <td>test</td>\n",
       "    </tr>\n",
       "    <tr>\n",
       "      <th>656099</th>\n",
       "      <td>6560</td>\n",
       "      <td>999</td>\n",
       "      <td>0</td>\n",
       "      <td>test</td>\n",
       "    </tr>\n",
       "  </tbody>\n",
       "</table>\n",
       "<p>656100 rows × 4 columns</p>\n",
       "</div>"
      ],
      "text/plain": [
       "          id  phase  pred_phase type_of\n",
       "0          0    999           0    test\n",
       "1          0    999           0    test\n",
       "2          0    999           0    test\n",
       "3          0    999           0    test\n",
       "4          0    999           0    test\n",
       "...      ...    ...         ...     ...\n",
       "656095  6560    999           0    test\n",
       "656096  6560    999           1    test\n",
       "656097  6560    999           1    test\n",
       "656098  6560    999           0    test\n",
       "656099  6560    999           0    test\n",
       "\n",
       "[656100 rows x 4 columns]"
      ]
     },
     "execution_count": 33,
     "metadata": {},
     "output_type": "execute_result"
    }
   ],
   "source": [
    "eigen_summary = simulation.eigenvector_summary\n",
    "print(\"length of ham_summary: \", len(eigen_summary))\n",
    "eigen_summary"
   ]
  },
  {
   "cell_type": "markdown",
   "metadata": {
    "papermill": {
     "duration": 0.03735,
     "end_time": "2020-07-18T06:16:09.175063",
     "exception": false,
     "start_time": "2020-07-18T06:16:09.137713",
     "status": "completed"
    },
    "tags": []
   },
   "source": [
    "#### Checking accuracies"
   ]
  },
  {
   "cell_type": "code",
   "execution_count": 34,
   "metadata": {
    "execution": {
     "iopub.execute_input": "2020-07-18T06:16:09.253739Z",
     "iopub.status.busy": "2020-07-18T06:16:09.253423Z",
     "iopub.status.idle": "2020-07-18T06:16:09.264917Z",
     "shell.execute_reply": "2020-07-18T06:16:09.264594Z"
    },
    "papermill": {
     "duration": 0.051628,
     "end_time": "2020-07-18T06:16:09.264968",
     "exception": false,
     "start_time": "2020-07-18T06:16:09.213340",
     "status": "completed"
    },
    "tags": []
   },
   "outputs": [
    {
     "data": {
      "text/plain": [
       "{'eigenvector_train': 0.9605035971223022,\n",
       " 'eigenvector_val': 0.946026,\n",
       " 'eigenvector_test': 0.7747867298578199,\n",
       " 'hamiltonian_train': 0.9766187050359713,\n",
       " 'hamiltonian_val': 0.9866,\n",
       " 'hamiltonian_test': 0.9170616113744076}"
      ]
     },
     "execution_count": 34,
     "metadata": {},
     "output_type": "execute_result"
    }
   ],
   "source": [
    "simulation.accuracy"
   ]
  },
  {
   "cell_type": "markdown",
   "metadata": {
    "papermill": {
     "duration": 0.037794,
     "end_time": "2020-07-18T06:16:09.340458",
     "exception": false,
     "start_time": "2020-07-18T06:16:09.302664",
     "status": "completed"
    },
    "tags": []
   },
   "source": [
    "#### Checking data stored in  memory"
   ]
  },
  {
   "cell_type": "code",
   "execution_count": 35,
   "metadata": {
    "execution": {
     "iopub.execute_input": "2020-07-18T06:16:09.419625Z",
     "iopub.status.busy": "2020-07-18T06:16:09.419313Z",
     "iopub.status.idle": "2020-07-18T06:16:09.429880Z",
     "shell.execute_reply": "2020-07-18T06:16:09.430185Z"
    },
    "papermill": {
     "duration": 0.051345,
     "end_time": "2020-07-18T06:16:09.430250",
     "exception": false,
     "start_time": "2020-07-18T06:16:09.378905",
     "status": "completed"
    },
    "tags": []
   },
   "outputs": [
    {
     "data": {
      "text/plain": [
       "[]"
      ]
     },
     "execution_count": 35,
     "metadata": {},
     "output_type": "execute_result"
    }
   ],
   "source": [
    "ham_summary_list = simulation.hamiltonian_summary_list\n",
    "ham_summary_list"
   ]
  },
  {
   "cell_type": "code",
   "execution_count": 36,
   "metadata": {
    "execution": {
     "iopub.execute_input": "2020-07-18T06:16:09.507682Z",
     "iopub.status.busy": "2020-07-18T06:16:09.507360Z",
     "iopub.status.idle": "2020-07-18T06:16:09.518007Z",
     "shell.execute_reply": "2020-07-18T06:16:09.517689Z"
    },
    "papermill": {
     "duration": 0.050064,
     "end_time": "2020-07-18T06:16:09.518059",
     "exception": false,
     "start_time": "2020-07-18T06:16:09.467995",
     "status": "completed"
    },
    "tags": []
   },
   "outputs": [
    {
     "data": {
      "text/plain": [
       "[]"
      ]
     },
     "execution_count": 36,
     "metadata": {},
     "output_type": "execute_result"
    }
   ],
   "source": [
    "eigen_summary_list = simulation.eigenvector_summary_list\n",
    "eigen_summary_list"
   ]
  },
  {
   "cell_type": "code",
   "execution_count": 37,
   "metadata": {
    "execution": {
     "iopub.execute_input": "2020-07-18T06:16:09.598209Z",
     "iopub.status.busy": "2020-07-18T06:16:09.597833Z",
     "iopub.status.idle": "2020-07-18T06:16:09.608601Z",
     "shell.execute_reply": "2020-07-18T06:16:09.608256Z"
    },
    "papermill": {
     "duration": 0.051634,
     "end_time": "2020-07-18T06:16:09.608657",
     "exception": false,
     "start_time": "2020-07-18T06:16:09.557023",
     "status": "completed"
    },
    "tags": []
   },
   "outputs": [
    {
     "data": {
      "text/plain": [
       "{'eigenvector_train': [],\n",
       " 'eigenvector_val': [],\n",
       " 'eigenvector_test': [],\n",
       " 'hamiltonian_train': [],\n",
       " 'hamiltonian_val': [],\n",
       " 'hamiltonian_test': []}"
      ]
     },
     "execution_count": 37,
     "metadata": {},
     "output_type": "execute_result"
    }
   ],
   "source": [
    "accuracy_list = simulation.accuracy_list\n",
    "accuracy_list"
   ]
  },
  {
   "cell_type": "code",
   "execution_count": null,
   "metadata": {
    "papermill": {
     "duration": 0.038162,
     "end_time": "2020-07-18T06:16:09.685176",
     "exception": false,
     "start_time": "2020-07-18T06:16:09.647014",
     "status": "completed"
    },
    "tags": []
   },
   "outputs": [],
   "source": []
  },
  {
   "cell_type": "code",
   "execution_count": null,
   "metadata": {
    "papermill": {
     "duration": 0.041439,
     "end_time": "2020-07-18T06:16:09.765377",
     "exception": false,
     "start_time": "2020-07-18T06:16:09.723938",
     "status": "completed"
    },
    "tags": []
   },
   "outputs": [],
   "source": []
  },
  {
   "cell_type": "code",
   "execution_count": 38,
   "metadata": {
    "execution": {
     "iopub.execute_input": "2020-07-18T06:16:09.844362Z",
     "iopub.status.busy": "2020-07-18T06:16:09.844013Z",
     "iopub.status.idle": "2020-07-18T06:16:09.853758Z",
     "shell.execute_reply": "2020-07-18T06:16:09.853478Z"
    },
    "papermill": {
     "duration": 0.049433,
     "end_time": "2020-07-18T06:16:09.853812",
     "exception": false,
     "start_time": "2020-07-18T06:16:09.804379",
     "status": "completed"
    },
    "tags": []
   },
   "outputs": [],
   "source": [
    "#simulation.fourier_matrix"
   ]
  },
  {
   "cell_type": "code",
   "execution_count": 39,
   "metadata": {
    "execution": {
     "iopub.execute_input": "2020-07-18T06:16:09.936819Z",
     "iopub.status.busy": "2020-07-18T06:16:09.936279Z",
     "iopub.status.idle": "2020-07-18T06:16:09.946056Z",
     "shell.execute_reply": "2020-07-18T06:16:09.945701Z"
    },
    "papermill": {
     "duration": 0.053137,
     "end_time": "2020-07-18T06:16:09.946110",
     "exception": false,
     "start_time": "2020-07-18T06:16:09.892973",
     "status": "completed"
    },
    "tags": []
   },
   "outputs": [],
   "source": [
    "#simulation.fourier_matrix.shape"
   ]
  },
  {
   "cell_type": "code",
   "execution_count": 40,
   "metadata": {
    "execution": {
     "iopub.execute_input": "2020-07-18T06:16:10.025628Z",
     "iopub.status.busy": "2020-07-18T06:16:10.025315Z",
     "iopub.status.idle": "2020-07-18T06:16:10.035158Z",
     "shell.execute_reply": "2020-07-18T06:16:10.034823Z"
    },
    "papermill": {
     "duration": 0.049727,
     "end_time": "2020-07-18T06:16:10.035212",
     "exception": false,
     "start_time": "2020-07-18T06:16:09.985485",
     "status": "completed"
    },
    "tags": []
   },
   "outputs": [],
   "source": [
    "#simulation.fourier_matrix[:,0]"
   ]
  },
  {
   "cell_type": "code",
   "execution_count": 41,
   "metadata": {
    "execution": {
     "iopub.execute_input": "2020-07-18T06:16:10.117708Z",
     "iopub.status.busy": "2020-07-18T06:16:10.117396Z",
     "iopub.status.idle": "2020-07-18T06:16:10.151064Z",
     "shell.execute_reply": "2020-07-18T06:16:10.150768Z"
    },
    "papermill": {
     "duration": 0.076693,
     "end_time": "2020-07-18T06:16:10.151121",
     "exception": false,
     "start_time": "2020-07-18T06:16:10.074428",
     "status": "completed"
    },
    "tags": []
   },
   "outputs": [],
   "source": [
    "#simulation.fourier_matrix[:,1]"
   ]
  },
  {
   "cell_type": "code",
   "execution_count": 42,
   "metadata": {
    "execution": {
     "iopub.execute_input": "2020-07-18T06:16:10.230049Z",
     "iopub.status.busy": "2020-07-18T06:16:10.229736Z",
     "iopub.status.idle": "2020-07-18T06:16:10.239755Z",
     "shell.execute_reply": "2020-07-18T06:16:10.239415Z"
    },
    "papermill": {
     "duration": 0.05018,
     "end_time": "2020-07-18T06:16:10.239810",
     "exception": false,
     "start_time": "2020-07-18T06:16:10.189630",
     "status": "completed"
    },
    "tags": []
   },
   "outputs": [],
   "source": [
    "#np.exp(-1j*2*np.pi*3/100)"
   ]
  },
  {
   "cell_type": "code",
   "execution_count": 43,
   "metadata": {
    "execution": {
     "iopub.execute_input": "2020-07-18T06:16:10.322634Z",
     "iopub.status.busy": "2020-07-18T06:16:10.322320Z",
     "iopub.status.idle": "2020-07-18T06:16:10.358994Z",
     "shell.execute_reply": "2020-07-18T06:16:10.359310Z"
    },
    "papermill": {
     "duration": 0.08012,
     "end_time": "2020-07-18T06:16:10.359414",
     "exception": false,
     "start_time": "2020-07-18T06:16:10.279294",
     "status": "completed"
    },
    "tags": []
   },
   "outputs": [],
   "source": [
    "#for i in range(1,50):\n",
    "#    print(\"\\n\")\n",
    "#    print(i)\n",
    "#    print(np.sum((np.real(simulation.fourier_matrix[:,i]) - np.real(simulation.fourier_matrix[:,-i]))**2))\n",
    "#    print(np.sum((np.imag(simulation.fourier_matrix[:,i])+ np.imag(simulation.fourier_matrix[:,-i]))**2))"
   ]
  },
  {
   "cell_type": "code",
   "execution_count": 44,
   "metadata": {
    "execution": {
     "iopub.execute_input": "2020-07-18T06:16:10.439079Z",
     "iopub.status.busy": "2020-07-18T06:16:10.438767Z",
     "iopub.status.idle": "2020-07-18T06:16:10.474043Z",
     "shell.execute_reply": "2020-07-18T06:16:10.473696Z"
    },
    "papermill": {
     "duration": 0.075417,
     "end_time": "2020-07-18T06:16:10.474100",
     "exception": false,
     "start_time": "2020-07-18T06:16:10.398683",
     "status": "completed"
    },
    "tags": []
   },
   "outputs": [],
   "source": [
    "#print(simulation.fourier_matrix[:,0])"
   ]
  },
  {
   "cell_type": "code",
   "execution_count": 45,
   "metadata": {
    "execution": {
     "iopub.execute_input": "2020-07-18T06:16:10.556314Z",
     "iopub.status.busy": "2020-07-18T06:16:10.556003Z",
     "iopub.status.idle": "2020-07-18T06:16:10.565874Z",
     "shell.execute_reply": "2020-07-18T06:16:10.565565Z"
    },
    "papermill": {
     "duration": 0.050792,
     "end_time": "2020-07-18T06:16:10.565932",
     "exception": false,
     "start_time": "2020-07-18T06:16:10.515140",
     "status": "completed"
    },
    "tags": []
   },
   "outputs": [],
   "source": [
    "#print(simulation.fourier_matrix[:,50])"
   ]
  },
  {
   "cell_type": "code",
   "execution_count": null,
   "metadata": {
    "papermill": {
     "duration": 0.039063,
     "end_time": "2020-07-18T06:16:10.646307",
     "exception": false,
     "start_time": "2020-07-18T06:16:10.607244",
     "status": "completed"
    },
    "tags": []
   },
   "outputs": [],
   "source": []
  }
 ],
 "metadata": {
  "celltoolbar": "Tags",
  "kernelspec": {
   "display_name": "ml_top_phases",
   "language": "python",
   "name": "ml_top_phases"
  },
  "language_info": {
   "codemirror_mode": {
    "name": "ipython",
    "version": 3
   },
   "file_extension": ".py",
   "mimetype": "text/x-python",
   "name": "python",
   "nbconvert_exporter": "python",
   "pygments_lexer": "ipython3",
   "version": "3.6.10"
  },
  "papermill": {
   "duration": 151.199409,
   "end_time": "2020-07-18T06:16:10.796548",
   "environment_variables": {},
   "exception": null,
   "input_path": "0_simulation_template.ipynb",
   "output_path": "zzz_ssh1_dst_best_04_wavevector_sites_from_best_04_real_space_sites_simulation_notebook.ipynb",
   "parameters": {
    "allowed_windings": [
     0,
     1
    ],
    "csv_path": "/home/rio/ssh_csvs/ssh1/periodic_100_6561.csv",
    "features_to_use": [
     0,
     1,
     3,
     50
    ],
    "fit_params": null,
    "fourier_features_to_use": [
     0,
     18,
     28,
     30
    ],
    "fourier_fillna": false,
    "fourier_mode": "dst",
    "fourier_normalize": false,
    "fourier_real": null,
    "model_kw": {
     "criterion": "entropy"
    },
    "model_name": "DecisionTreeClassifier",
    "n_experiments": 100,
    "pred_params": null,
    "random_features": false,
    "random_state": 1020,
    "save_accuracy": true,
    "save_eigenvector": true,
    "save_hamiltonian": true,
    "save_models": true,
    "shuffle_features": false,
    "shuffle_rows": true,
    "simulation_dir": "/home/rio/ssh_simulations/ssh1/periodic_100_6561/dst_best_04_wavevector_sites_from_best_04_real_space_sites",
    "start_n": 0,
    "store_in_lists": false,
    "val_split": 0.9
   },
   "start_time": "2020-07-18T06:13:39.597139",
   "version": "2.1.0"
  }
 },
 "nbformat": 4,
 "nbformat_minor": 2
}