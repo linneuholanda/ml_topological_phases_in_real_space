{
 "cells": [
  {
   "cell_type": "markdown",
   "metadata": {
    "papermill": {
     "duration": 0.017335,
     "end_time": "2020-07-18T08:38:44.180190",
     "exception": false,
     "start_time": "2020-07-18T08:38:44.162855",
     "status": "completed"
    },
    "tags": []
   },
   "source": [
    "# Simulation template \n",
    "\n",
    "In this notebook we run the machine learning analysis of topological phase transitions occurring  in both nearest-neighbours SSH models (ssh1) and second neighbours models (ssh2) as decribed in the paper [Machine learning topological phases in real space](https://arxiv.org/abs/1901.01963). Here the simulation is run with features generated from fourier components in the first scenario. This scenario is characterized by using only the EVEN wavevector space eigenmodes, computed from ALL real space components."
   ]
  },
  {
   "cell_type": "markdown",
   "metadata": {
    "papermill": {
     "duration": 0.016358,
     "end_time": "2020-07-18T08:38:44.215535",
     "exception": false,
     "start_time": "2020-07-18T08:38:44.199177",
     "status": "completed"
    },
    "tags": []
   },
   "source": [
    "## Defining parameters"
   ]
  },
  {
   "cell_type": "code",
   "execution_count": 1,
   "metadata": {
    "execution": {
     "iopub.execute_input": "2020-07-18T08:38:44.251083Z",
     "iopub.status.busy": "2020-07-18T08:38:44.250760Z",
     "iopub.status.idle": "2020-07-18T08:38:44.828400Z",
     "shell.execute_reply": "2020-07-18T08:38:44.828065Z"
    },
    "papermill": {
     "duration": 0.59636,
     "end_time": "2020-07-18T08:38:44.828455",
     "exception": false,
     "start_time": "2020-07-18T08:38:44.232095",
     "status": "completed"
    },
    "tags": []
   },
   "outputs": [
    {
     "name": "stdout",
     "output_type": "stream",
     "text": [
      "CPU times: user 714 ms, sys: 303 ms, total: 1.02 s\n",
      "Wall time: 570 ms\n"
     ]
    }
   ],
   "source": [
    "%%time\n",
    "%load_ext autoreload\n",
    "%autoreload 2\n",
    "from simulation import *"
   ]
  },
  {
   "cell_type": "code",
   "execution_count": 2,
   "metadata": {
    "execution": {
     "iopub.execute_input": "2020-07-18T08:38:44.864865Z",
     "iopub.status.busy": "2020-07-18T08:38:44.864541Z",
     "iopub.status.idle": "2020-07-18T08:38:44.875590Z",
     "shell.execute_reply": "2020-07-18T08:38:44.875260Z"
    },
    "papermill": {
     "duration": 0.030117,
     "end_time": "2020-07-18T08:38:44.875644",
     "exception": false,
     "start_time": "2020-07-18T08:38:44.845527",
     "status": "completed"
    },
    "tags": [
     "parameters"
    ]
   },
   "outputs": [
    {
     "name": "stdout",
     "output_type": "stream",
     "text": [
      "CPU times: user 3 µs, sys: 1e+03 ns, total: 4 µs\n",
      "Wall time: 5.01 µs\n"
     ]
    }
   ],
   "source": [
    "%%time\n",
    "### Dataset and simulation parameters\n",
    "#csv_path = SSH2_PERIODIC_100_6561_CSV \n",
    "csv_path = SSH1_PERIODIC_100_6561_CSV \n",
    "model_name = \"DecisionTreeClassifier\"\n",
    "model_kw = {\"criterion\":\"entropy\"}\n",
    "allowed_windings = [0,1]\n",
    "#allowed_windings = [-1,0,1,2]\n",
    "simulation_dir = SSH1_REAL_SPACE_ALL_SITES\n",
    "#simulation_dir = SSH2_PERIODIC_ENGINEERED_100_6561_SIMULATION_DIR\n",
    "val_split = 0.9  \n",
    "features_to_use = None\n",
    "shuffle_features = False\n",
    "random_state = 763\n",
    "\n",
    "### Fourier features\n",
    "fourier_mode = \"dst\"\n",
    "fourier_features_to_use = None\n",
    "fourier_real = \"imag\"\n",
    "fourier_normalize = False\n",
    "fourier_fillna = False\n",
    "\n",
    "### Running a simulation\n",
    "n_experiments = 5\n",
    "start_n = 0\n",
    "fit_params = None\n",
    "#mode=mode\n",
    "shuffle_rows = True\n",
    "pred_params = None\n",
    "random_features = False\n",
    "######### DON'T SET THIS TO TRUE UNLESS YOUR DATASET IS SMALL!! WILL FLOOD YOUR MEMORY!!!\n",
    "store_in_lists = False   \n",
    "########## BELOW ARE THE PARAMETERS THAT CONTROL WHAT WILL BE SAVED\n",
    "save_eigenvector=True\n",
    "save_hamiltonian=True \n",
    "save_accuracy=True \n",
    "save_models=True"
   ]
  },
  {
   "cell_type": "code",
   "execution_count": 3,
   "metadata": {
    "execution": {
     "iopub.execute_input": "2020-07-18T08:38:44.916195Z",
     "iopub.status.busy": "2020-07-18T08:38:44.915879Z",
     "iopub.status.idle": "2020-07-18T08:38:45.008695Z",
     "shell.execute_reply": "2020-07-18T08:38:45.010582Z"
    },
    "papermill": {
     "duration": 0.118584,
     "end_time": "2020-07-18T08:38:45.010887",
     "exception": false,
     "start_time": "2020-07-18T08:38:44.892303",
     "status": "completed"
    },
    "tags": [
     "injected-parameters"
    ]
   },
   "outputs": [],
   "source": [
    "# Parameters\n",
    "model_kw = {\"criterion\": \"entropy\", \"n_estimators\": 25, \"n_jobs\": -1}\n",
    "allowed_windings = [-1, 0, 1, 2]\n",
    "val_split = 0.5\n",
    "features_to_use = None\n",
    "shuffle_features = False\n",
    "n_experiments = 100\n",
    "start_n = 0\n",
    "fit_params = None\n",
    "shuffle_rows = True\n",
    "pred_params = None\n",
    "random_features = False\n",
    "store_in_lists = False\n",
    "save_eigenvector = True\n",
    "save_hamiltonian = True\n",
    "save_accuracy = True\n",
    "save_models = True\n",
    "csv_path = \"/home/rio/ssh_csvs/ssh2/periodic_100_6561.csv\"\n",
    "model_name = \"RandomForestClassifier\"\n",
    "simulation_dir = (\n",
    "    \"/home/rio/ssh_simulations/ssh2/periodic_100_6561/dst_all_wavevector_sites\"\n",
    ")\n",
    "random_state = 2018\n",
    "fourier_features_to_use = None\n",
    "fourier_mode = \"dst\"\n",
    "fourier_real = None\n",
    "fourier_normalize = False\n",
    "fourier_fillna = False\n"
   ]
  },
  {
   "cell_type": "code",
   "execution_count": 4,
   "metadata": {
    "execution": {
     "iopub.execute_input": "2020-07-18T08:38:45.088321Z",
     "iopub.status.busy": "2020-07-18T08:38:45.087980Z",
     "iopub.status.idle": "2020-07-18T08:38:50.780991Z",
     "shell.execute_reply": "2020-07-18T08:38:50.780674Z"
    },
    "papermill": {
     "duration": 5.714704,
     "end_time": "2020-07-18T08:38:50.781043",
     "exception": false,
     "start_time": "2020-07-18T08:38:45.066339",
     "status": "completed"
    },
    "tags": []
   },
   "outputs": [
    {
     "name": "stdout",
     "output_type": "stream",
     "text": [
      "Info on all data: \n",
      "\n",
      "<class 'pandas.core.frame.DataFrame'>\n",
      "Int64Index: 656100 entries, 0 to 656099\n",
      "Columns: 108 entries, id to feat99\n",
      "dtypes: float64(103), int32(3), object(2)\n",
      "memory usage: 538.1+ MB\n",
      "CPU times: user 5.96 s, sys: 528 ms, total: 6.49 s\n",
      "Wall time: 5.67 s\n"
     ]
    },
    {
     "data": {
      "text/html": [
       "<div>\n",
       "<style scoped>\n",
       "    .dataframe tbody tr th:only-of-type {\n",
       "        vertical-align: middle;\n",
       "    }\n",
       "\n",
       "    .dataframe tbody tr th {\n",
       "        vertical-align: top;\n",
       "    }\n",
       "\n",
       "    .dataframe thead th {\n",
       "        text-align: right;\n",
       "    }\n",
       "</style>\n",
       "<table border=\"1\" class=\"dataframe\">\n",
       "  <thead>\n",
       "    <tr style=\"text-align: right;\">\n",
       "      <th></th>\n",
       "      <th>id</th>\n",
       "      <th>path</th>\n",
       "      <th>t1</th>\n",
       "      <th>t2</th>\n",
       "      <th>winding</th>\n",
       "      <th>phase</th>\n",
       "      <th>pred_phase</th>\n",
       "      <th>type_of</th>\n",
       "      <th>feat0</th>\n",
       "      <th>feat1</th>\n",
       "      <th>...</th>\n",
       "      <th>feat90</th>\n",
       "      <th>feat91</th>\n",
       "      <th>feat92</th>\n",
       "      <th>feat93</th>\n",
       "      <th>feat94</th>\n",
       "      <th>feat95</th>\n",
       "      <th>feat96</th>\n",
       "      <th>feat97</th>\n",
       "      <th>feat98</th>\n",
       "      <th>feat99</th>\n",
       "    </tr>\n",
       "  </thead>\n",
       "  <tbody>\n",
       "    <tr>\n",
       "      <th>0</th>\n",
       "      <td>0</td>\n",
       "      <td>H_-2_-2_0.501338.dat</td>\n",
       "      <td>-2.0</td>\n",
       "      <td>-2.0</td>\n",
       "      <td>0.501338</td>\n",
       "      <td>999</td>\n",
       "      <td>666</td>\n",
       "      <td>test</td>\n",
       "      <td>-0.130965</td>\n",
       "      <td>0.301130</td>\n",
       "      <td>...</td>\n",
       "      <td>-0.080279</td>\n",
       "      <td>-0.115687</td>\n",
       "      <td>-0.174988</td>\n",
       "      <td>0.245064</td>\n",
       "      <td>0.319763</td>\n",
       "      <td>-0.059082</td>\n",
       "      <td>-0.000556</td>\n",
       "      <td>-0.245133</td>\n",
       "      <td>-0.301130</td>\n",
       "      <td>0.130965</td>\n",
       "    </tr>\n",
       "    <tr>\n",
       "      <th>1</th>\n",
       "      <td>0</td>\n",
       "      <td>H_-2_-2_0.501338.dat</td>\n",
       "      <td>-2.0</td>\n",
       "      <td>-2.0</td>\n",
       "      <td>0.501338</td>\n",
       "      <td>999</td>\n",
       "      <td>666</td>\n",
       "      <td>test</td>\n",
       "      <td>-0.130965</td>\n",
       "      <td>-0.301130</td>\n",
       "      <td>...</td>\n",
       "      <td>-0.080279</td>\n",
       "      <td>0.115687</td>\n",
       "      <td>-0.174988</td>\n",
       "      <td>-0.245064</td>\n",
       "      <td>0.319763</td>\n",
       "      <td>0.059082</td>\n",
       "      <td>-0.000556</td>\n",
       "      <td>0.245133</td>\n",
       "      <td>-0.301130</td>\n",
       "      <td>-0.130965</td>\n",
       "    </tr>\n",
       "    <tr>\n",
       "      <th>2</th>\n",
       "      <td>0</td>\n",
       "      <td>H_-2_-2_0.501338.dat</td>\n",
       "      <td>-2.0</td>\n",
       "      <td>-2.0</td>\n",
       "      <td>0.501338</td>\n",
       "      <td>999</td>\n",
       "      <td>666</td>\n",
       "      <td>test</td>\n",
       "      <td>-0.148414</td>\n",
       "      <td>-0.042467</td>\n",
       "      <td>...</td>\n",
       "      <td>0.185442</td>\n",
       "      <td>-0.080620</td>\n",
       "      <td>-0.066211</td>\n",
       "      <td>-0.121339</td>\n",
       "      <td>-0.151700</td>\n",
       "      <td>0.192513</td>\n",
       "      <td>0.191642</td>\n",
       "      <td>-0.050956</td>\n",
       "      <td>-0.042467</td>\n",
       "      <td>-0.148414</td>\n",
       "    </tr>\n",
       "    <tr>\n",
       "      <th>3</th>\n",
       "      <td>0</td>\n",
       "      <td>H_-2_-2_0.501338.dat</td>\n",
       "      <td>-2.0</td>\n",
       "      <td>-2.0</td>\n",
       "      <td>0.501338</td>\n",
       "      <td>999</td>\n",
       "      <td>666</td>\n",
       "      <td>test</td>\n",
       "      <td>-0.069630</td>\n",
       "      <td>-0.026147</td>\n",
       "      <td>...</td>\n",
       "      <td>0.102009</td>\n",
       "      <td>-0.100671</td>\n",
       "      <td>-0.081002</td>\n",
       "      <td>-0.020715</td>\n",
       "      <td>-0.058717</td>\n",
       "      <td>0.115834</td>\n",
       "      <td>0.118274</td>\n",
       "      <td>-0.054666</td>\n",
       "      <td>-0.026147</td>\n",
       "      <td>-0.069630</td>\n",
       "    </tr>\n",
       "    <tr>\n",
       "      <th>4</th>\n",
       "      <td>0</td>\n",
       "      <td>H_-2_-2_0.501338.dat</td>\n",
       "      <td>-2.0</td>\n",
       "      <td>-2.0</td>\n",
       "      <td>0.501338</td>\n",
       "      <td>999</td>\n",
       "      <td>666</td>\n",
       "      <td>test</td>\n",
       "      <td>0.010206</td>\n",
       "      <td>-0.014625</td>\n",
       "      <td>...</td>\n",
       "      <td>0.047555</td>\n",
       "      <td>-0.041368</td>\n",
       "      <td>-0.018852</td>\n",
       "      <td>-0.017673</td>\n",
       "      <td>-0.023377</td>\n",
       "      <td>0.031447</td>\n",
       "      <td>0.010280</td>\n",
       "      <td>0.000925</td>\n",
       "      <td>0.014625</td>\n",
       "      <td>-0.010206</td>\n",
       "    </tr>\n",
       "  </tbody>\n",
       "</table>\n",
       "<p>5 rows × 108 columns</p>\n",
       "</div>"
      ],
      "text/plain": [
       "   id                  path   t1   t2   winding  phase  pred_phase type_of  \\\n",
       "0   0  H_-2_-2_0.501338.dat -2.0 -2.0  0.501338    999         666    test   \n",
       "1   0  H_-2_-2_0.501338.dat -2.0 -2.0  0.501338    999         666    test   \n",
       "2   0  H_-2_-2_0.501338.dat -2.0 -2.0  0.501338    999         666    test   \n",
       "3   0  H_-2_-2_0.501338.dat -2.0 -2.0  0.501338    999         666    test   \n",
       "4   0  H_-2_-2_0.501338.dat -2.0 -2.0  0.501338    999         666    test   \n",
       "\n",
       "      feat0     feat1  ...    feat90    feat91    feat92    feat93    feat94  \\\n",
       "0 -0.130965  0.301130  ... -0.080279 -0.115687 -0.174988  0.245064  0.319763   \n",
       "1 -0.130965 -0.301130  ... -0.080279  0.115687 -0.174988 -0.245064  0.319763   \n",
       "2 -0.148414 -0.042467  ...  0.185442 -0.080620 -0.066211 -0.121339 -0.151700   \n",
       "3 -0.069630 -0.026147  ...  0.102009 -0.100671 -0.081002 -0.020715 -0.058717   \n",
       "4  0.010206 -0.014625  ...  0.047555 -0.041368 -0.018852 -0.017673 -0.023377   \n",
       "\n",
       "     feat95    feat96    feat97    feat98    feat99  \n",
       "0 -0.059082 -0.000556 -0.245133 -0.301130  0.130965  \n",
       "1  0.059082 -0.000556  0.245133 -0.301130 -0.130965  \n",
       "2  0.192513  0.191642 -0.050956 -0.042467 -0.148414  \n",
       "3  0.115834  0.118274 -0.054666 -0.026147 -0.069630  \n",
       "4  0.031447  0.010280  0.000925  0.014625 -0.010206  \n",
       "\n",
       "[5 rows x 108 columns]"
      ]
     },
     "execution_count": 4,
     "metadata": {},
     "output_type": "execute_result"
    }
   ],
   "source": [
    "%%time\n",
    "#Starting an instance of Simulation with a decision tree\n",
    "model = DecisionTreeClassifier(criterion=\"entropy\")\n",
    "#dict_args = {\"csv_path\":csv_path, \"model\":model, \"allowed_windings\":allowed_windings,\\\n",
    "#             \"simulation_dir\":simulation_dir, \"val_split\":val_split, \"features_to_use\":features_to_use,\\\n",
    "#            \"shuffle_features\":shuffle_features, \"random_state\":random_state}\n",
    "simulation = Simulation(csv_path,model_name,model_kw,allowed_windings,simulation_dir,val_split,features_to_use,\\\n",
    "                       shuffle_features,fourier_mode,fourier_features_to_use,fourier_real,\\\n",
    "                       fourier_normalize, fourier_fillna , random_state)\n",
    "#simulation = Simulation(**dict_args)\n",
    "\n",
    "\n",
    "#(self, csv_path, model_name, model_kw, allowed_windings, simulation_dir = None, val_split = 0, \n",
    "# features_to_use = None, shuffle_features = False, fourier_mode=None, fourier_features_to_use=None,\n",
    "# fourier_real = False, fourier_normalize = False, Fourier_fillna=False, random_state = None):\n",
    "\n",
    "\n",
    "\n",
    "print(\"Info on all data: \\n\")\n",
    "simulation.dataframe.info()\n",
    "simulation.dataframe.head()"
   ]
  },
  {
   "cell_type": "markdown",
   "metadata": {
    "papermill": {
     "duration": 0.018994,
     "end_time": "2020-07-18T08:38:50.817859",
     "exception": false,
     "start_time": "2020-07-18T08:38:50.798865",
     "status": "completed"
    },
    "tags": []
   },
   "source": [
    "####  Fourier features"
   ]
  },
  {
   "cell_type": "code",
   "execution_count": 5,
   "metadata": {
    "execution": {
     "iopub.execute_input": "2020-07-18T08:38:50.853715Z",
     "iopub.status.busy": "2020-07-18T08:38:50.853404Z",
     "iopub.status.idle": "2020-07-18T08:38:51.044591Z",
     "shell.execute_reply": "2020-07-18T08:38:51.044262Z"
    },
    "papermill": {
     "duration": 0.209915,
     "end_time": "2020-07-18T08:38:51.044643",
     "exception": false,
     "start_time": "2020-07-18T08:38:50.834728",
     "status": "completed"
    },
    "tags": []
   },
   "outputs": [
    {
     "name": "stdout",
     "output_type": "stream",
     "text": [
      "<class 'pandas.core.frame.DataFrame'>\n",
      "Int64Index: 656100 entries, 0 to 656099\n",
      "Data columns (total 57 columns):\n",
      " #   Column      Non-Null Count   Dtype  \n",
      "---  ------      --------------   -----  \n",
      " 0   id          656100 non-null  int32  \n",
      " 1   path        656100 non-null  object \n",
      " 2   t1          656100 non-null  float64\n",
      " 3   t2          656100 non-null  float64\n",
      " 4   winding     656100 non-null  float64\n",
      " 5   phase       656100 non-null  int32  \n",
      " 6   pred_phase  656100 non-null  int32  \n",
      " 7   type_of     656100 non-null  object \n",
      " 8   dst_feat0   656100 non-null  float64\n",
      " 9   dst_feat1   656100 non-null  float64\n",
      " 10  dst_feat2   656100 non-null  float64\n",
      " 11  dst_feat3   656100 non-null  float64\n",
      " 12  dst_feat4   656100 non-null  float64\n",
      " 13  dst_feat5   656100 non-null  float64\n",
      " 14  dst_feat6   656100 non-null  float64\n",
      " 15  dst_feat7   656100 non-null  float64\n",
      " 16  dst_feat8   656100 non-null  float64\n",
      " 17  dst_feat9   656100 non-null  float64\n",
      " 18  dst_feat10  656100 non-null  float64\n",
      " 19  dst_feat11  656100 non-null  float64\n",
      " 20  dst_feat12  656100 non-null  float64\n",
      " 21  dst_feat13  656100 non-null  float64\n",
      " 22  dst_feat14  656100 non-null  float64\n",
      " 23  dst_feat15  656100 non-null  float64\n",
      " 24  dst_feat16  656100 non-null  float64\n",
      " 25  dst_feat17  656100 non-null  float64\n",
      " 26  dst_feat18  656100 non-null  float64\n",
      " 27  dst_feat19  656100 non-null  float64\n",
      " 28  dst_feat20  656100 non-null  float64\n",
      " 29  dst_feat21  656100 non-null  float64\n",
      " 30  dst_feat22  656100 non-null  float64\n",
      " 31  dst_feat23  656100 non-null  float64\n",
      " 32  dst_feat24  656100 non-null  float64\n",
      " 33  dst_feat25  656100 non-null  float64\n",
      " 34  dst_feat26  656100 non-null  float64\n",
      " 35  dst_feat27  656100 non-null  float64\n",
      " 36  dst_feat28  656100 non-null  float64\n",
      " 37  dst_feat29  656100 non-null  float64\n",
      " 38  dst_feat30  656100 non-null  float64\n",
      " 39  dst_feat31  656100 non-null  float64\n",
      " 40  dst_feat32  656100 non-null  float64\n",
      " 41  dst_feat33  656100 non-null  float64\n",
      " 42  dst_feat34  656100 non-null  float64\n",
      " 43  dst_feat35  656100 non-null  float64\n",
      " 44  dst_feat36  656100 non-null  float64\n",
      " 45  dst_feat37  656100 non-null  float64\n",
      " 46  dst_feat38  656100 non-null  float64\n",
      " 47  dst_feat39  656100 non-null  float64\n",
      " 48  dst_feat40  656100 non-null  float64\n",
      " 49  dst_feat41  656100 non-null  float64\n",
      " 50  dst_feat42  656100 non-null  float64\n",
      " 51  dst_feat43  656100 non-null  float64\n",
      " 52  dst_feat44  656100 non-null  float64\n",
      " 53  dst_feat45  656100 non-null  float64\n",
      " 54  dst_feat46  656100 non-null  float64\n",
      " 55  dst_feat47  656100 non-null  float64\n",
      " 56  dst_feat48  656100 non-null  float64\n",
      "dtypes: float64(52), int32(3), object(2)\n",
      "memory usage: 282.8+ MB\n",
      "CPU times: user 162 ms, sys: 19.7 ms, total: 181 ms\n",
      "Wall time: 181 ms\n"
     ]
    }
   ],
   "source": [
    "%%time\n",
    "#simulation.generate_fourier_df()\n",
    "if simulation.fourier_mode is not None:\n",
    "    simulation.fourier_dataframe.info() \n",
    "    simulation.fourier_dataframe.sample(15)\n"
   ]
  },
  {
   "cell_type": "code",
   "execution_count": 6,
   "metadata": {
    "execution": {
     "iopub.execute_input": "2020-07-18T08:38:51.085079Z",
     "iopub.status.busy": "2020-07-18T08:38:51.084760Z",
     "iopub.status.idle": "2020-07-18T08:38:51.096520Z",
     "shell.execute_reply": "2020-07-18T08:38:51.096821Z"
    },
    "papermill": {
     "duration": 0.034291,
     "end_time": "2020-07-18T08:38:51.096887",
     "exception": false,
     "start_time": "2020-07-18T08:38:51.062596",
     "status": "completed"
    },
    "tags": []
   },
   "outputs": [
    {
     "name": "stdout",
     "output_type": "stream",
     "text": [
      "features_to_use: \n",
      "\n",
      "\n",
      "None\n",
      "\n",
      "\n",
      "fourier_features: \n",
      "\n",
      "\n",
      "['dst_feat0', 'dst_feat1', 'dst_feat2', 'dst_feat3', 'dst_feat4', 'dst_feat5', 'dst_feat6', 'dst_feat7', 'dst_feat8', 'dst_feat9', 'dst_feat10', 'dst_feat11', 'dst_feat12', 'dst_feat13', 'dst_feat14', 'dst_feat15', 'dst_feat16', 'dst_feat17', 'dst_feat18', 'dst_feat19', 'dst_feat20', 'dst_feat21', 'dst_feat22', 'dst_feat23', 'dst_feat24', 'dst_feat25', 'dst_feat26', 'dst_feat27', 'dst_feat28', 'dst_feat29', 'dst_feat30', 'dst_feat31', 'dst_feat32', 'dst_feat33', 'dst_feat34', 'dst_feat35', 'dst_feat36', 'dst_feat37', 'dst_feat38', 'dst_feat39', 'dst_feat40', 'dst_feat41', 'dst_feat42', 'dst_feat43', 'dst_feat44', 'dst_feat45', 'dst_feat46', 'dst_feat47', 'dst_feat48']\n",
      "\n",
      "\n",
      "Number of Fourier features: \n",
      "\n",
      "\n",
      "49\n",
      "\n",
      "\n",
      "Fourier operator: \n",
      "[[ 0.12558104  0.25066647  0.37476263 ...  0.37476263  0.25066647\n",
      "   0.12558104]\n",
      " [ 0.25066647  0.49737977  0.73624911 ... -0.73624911 -0.49737977\n",
      "  -0.25066647]\n",
      " [ 0.37476263  0.73624911  1.07165359 ...  1.07165359  0.73624911\n",
      "   0.37476263]\n",
      " ...\n",
      " [ 0.37476263 -0.73624911  1.07165359 ...  1.07165359 -0.73624911\n",
      "   0.37476263]\n",
      " [ 0.25066647 -0.49737977  0.73624911 ... -0.73624911  0.49737977\n",
      "  -0.25066647]\n",
      " [ 0.12558104 -0.25066647  0.37476263 ...  0.37476263 -0.25066647\n",
      "   0.12558104]]\n",
      "\n",
      "\n",
      "Shape of Fourier operator: \n",
      "(49, 49)\n"
     ]
    }
   ],
   "source": [
    "print(\"features_to_use: \")\n",
    "print(\"\\n\")\n",
    "print(simulation.features_to_use)\n",
    "if simulation.features_to_use is not None:\n",
    "    print(\"Number of real space features:\")\n",
    "    print(\"\\n\")\n",
    "    print(len(simulation.features_to_use))\n",
    "print(\"\\n\")\n",
    "print(\"fourier_features: \")\n",
    "print(\"\\n\")\n",
    "print(simulation.fourier_features)\n",
    "print(\"\\n\")\n",
    "if simulation.fourier_features is not None:\n",
    "    print(\"Number of Fourier features: \")\n",
    "    print(\"\\n\")\n",
    "    print(len(simulation.fourier_features))\n",
    "print(\"\\n\")\n",
    "print(\"Fourier operator: \")\n",
    "print(simulation.fourier_operator)\n",
    "print(\"\\n\")\n",
    "if simulation.fourier_operator is not None:\n",
    "    print(\"Shape of Fourier operator: \")\n",
    "    print(simulation.fourier_operator.shape)"
   ]
  },
  {
   "cell_type": "code",
   "execution_count": 7,
   "metadata": {
    "execution": {
     "iopub.execute_input": "2020-07-18T08:38:51.133444Z",
     "iopub.status.busy": "2020-07-18T08:38:51.133137Z",
     "iopub.status.idle": "2020-07-18T08:38:51.189143Z",
     "shell.execute_reply": "2020-07-18T08:38:51.188651Z"
    },
    "papermill": {
     "duration": 0.074906,
     "end_time": "2020-07-18T08:38:51.189217",
     "exception": false,
     "start_time": "2020-07-18T08:38:51.114311",
     "status": "completed"
    },
    "tags": []
   },
   "outputs": [],
   "source": [
    "#a = np.array([1+1j,2+3j,4+8j])\n",
    "#np.imag(a)"
   ]
  },
  {
   "cell_type": "code",
   "execution_count": 8,
   "metadata": {
    "execution": {
     "iopub.execute_input": "2020-07-18T08:38:51.247833Z",
     "iopub.status.busy": "2020-07-18T08:38:51.247525Z",
     "iopub.status.idle": "2020-07-18T08:38:51.289893Z",
     "shell.execute_reply": "2020-07-18T08:38:51.288098Z"
    },
    "papermill": {
     "duration": 0.067954,
     "end_time": "2020-07-18T08:38:51.290141",
     "exception": false,
     "start_time": "2020-07-18T08:38:51.222187",
     "status": "completed"
    },
    "tags": []
   },
   "outputs": [],
   "source": [
    "#plt.plot(np.imag(simulation.fourier_operator[:,0]))"
   ]
  },
  {
   "cell_type": "code",
   "execution_count": 9,
   "metadata": {
    "execution": {
     "iopub.execute_input": "2020-07-18T08:38:51.359061Z",
     "iopub.status.busy": "2020-07-18T08:38:51.358753Z",
     "iopub.status.idle": "2020-07-18T08:38:51.368715Z",
     "shell.execute_reply": "2020-07-18T08:38:51.369048Z"
    },
    "papermill": {
     "duration": 0.033067,
     "end_time": "2020-07-18T08:38:51.369117",
     "exception": false,
     "start_time": "2020-07-18T08:38:51.336050",
     "status": "completed"
    },
    "tags": []
   },
   "outputs": [],
   "source": [
    "#np.sin(np.pi/(50))*2"
   ]
  },
  {
   "cell_type": "code",
   "execution_count": 10,
   "metadata": {
    "execution": {
     "iopub.execute_input": "2020-07-18T08:38:51.405708Z",
     "iopub.status.busy": "2020-07-18T08:38:51.405404Z",
     "iopub.status.idle": "2020-07-18T08:38:51.456620Z",
     "shell.execute_reply": "2020-07-18T08:38:51.457040Z"
    },
    "papermill": {
     "duration": 0.070635,
     "end_time": "2020-07-18T08:38:51.457121",
     "exception": false,
     "start_time": "2020-07-18T08:38:51.386486",
     "status": "completed"
    },
    "tags": []
   },
   "outputs": [],
   "source": [
    "#2*np.sin(np.pi/50*49)"
   ]
  },
  {
   "cell_type": "code",
   "execution_count": 11,
   "metadata": {
    "execution": {
     "iopub.execute_input": "2020-07-18T08:38:51.506936Z",
     "iopub.status.busy": "2020-07-18T08:38:51.506539Z",
     "iopub.status.idle": "2020-07-18T08:38:51.540036Z",
     "shell.execute_reply": "2020-07-18T08:38:51.539668Z"
    },
    "papermill": {
     "duration": 0.055851,
     "end_time": "2020-07-18T08:38:51.540092",
     "exception": false,
     "start_time": "2020-07-18T08:38:51.484241",
     "status": "completed"
    },
    "tags": []
   },
   "outputs": [],
   "source": [
    "#simulation.dataframe.iloc[331456,:]"
   ]
  },
  {
   "cell_type": "code",
   "execution_count": 12,
   "metadata": {
    "execution": {
     "iopub.execute_input": "2020-07-18T08:38:51.578503Z",
     "iopub.status.busy": "2020-07-18T08:38:51.578197Z",
     "iopub.status.idle": "2020-07-18T08:38:51.639167Z",
     "shell.execute_reply": "2020-07-18T08:38:51.638627Z"
    },
    "papermill": {
     "duration": 0.080415,
     "end_time": "2020-07-18T08:38:51.639246",
     "exception": false,
     "start_time": "2020-07-18T08:38:51.558831",
     "status": "completed"
    },
    "tags": []
   },
   "outputs": [],
   "source": [
    "#for ix, obj in enumerate(simulation.dataframe.iloc[331456,:].values):\n",
    "#    print(ix,obj)"
   ]
  },
  {
   "cell_type": "code",
   "execution_count": 13,
   "metadata": {
    "execution": {
     "iopub.execute_input": "2020-07-18T08:38:51.705180Z",
     "iopub.status.busy": "2020-07-18T08:38:51.704856Z",
     "iopub.status.idle": "2020-07-18T08:38:51.714776Z",
     "shell.execute_reply": "2020-07-18T08:38:51.714424Z"
    },
    "papermill": {
     "duration": 0.038824,
     "end_time": "2020-07-18T08:38:51.714831",
     "exception": false,
     "start_time": "2020-07-18T08:38:51.676007",
     "status": "completed"
    },
    "tags": []
   },
   "outputs": [],
   "source": [
    "#simulation.fourier_engineered_dataframe.dct_feat0"
   ]
  },
  {
   "cell_type": "code",
   "execution_count": 14,
   "metadata": {
    "execution": {
     "iopub.execute_input": "2020-07-18T08:38:51.752632Z",
     "iopub.status.busy": "2020-07-18T08:38:51.752315Z",
     "iopub.status.idle": "2020-07-18T08:38:51.837177Z",
     "shell.execute_reply": "2020-07-18T08:38:51.835559Z"
    },
    "papermill": {
     "duration": 0.104286,
     "end_time": "2020-07-18T08:38:51.837400",
     "exception": false,
     "start_time": "2020-07-18T08:38:51.733114",
     "status": "completed"
    },
    "tags": []
   },
   "outputs": [],
   "source": [
    "#simulation.features"
   ]
  },
  {
   "cell_type": "code",
   "execution_count": 15,
   "metadata": {
    "execution": {
     "iopub.execute_input": "2020-07-18T08:38:51.915632Z",
     "iopub.status.busy": "2020-07-18T08:38:51.915229Z",
     "iopub.status.idle": "2020-07-18T08:38:51.948329Z",
     "shell.execute_reply": "2020-07-18T08:38:51.948018Z"
    },
    "papermill": {
     "duration": 0.055144,
     "end_time": "2020-07-18T08:38:51.948393",
     "exception": false,
     "start_time": "2020-07-18T08:38:51.893249",
     "status": "completed"
    },
    "tags": []
   },
   "outputs": [],
   "source": [
    "#simulation.fourier_matrix"
   ]
  },
  {
   "cell_type": "code",
   "execution_count": 16,
   "metadata": {
    "execution": {
     "iopub.execute_input": "2020-07-18T08:38:51.985668Z",
     "iopub.status.busy": "2020-07-18T08:38:51.985359Z",
     "iopub.status.idle": "2020-07-18T08:38:52.047710Z",
     "shell.execute_reply": "2020-07-18T08:38:52.047102Z"
    },
    "papermill": {
     "duration": 0.08148,
     "end_time": "2020-07-18T08:38:52.047799",
     "exception": false,
     "start_time": "2020-07-18T08:38:51.966319",
     "status": "completed"
    },
    "tags": []
   },
   "outputs": [],
   "source": [
    "#1/simulation.n_features*simulation.dataframe.loc[:,simulation.features].sum(axis=1)"
   ]
  },
  {
   "cell_type": "code",
   "execution_count": 17,
   "metadata": {
    "execution": {
     "iopub.execute_input": "2020-07-18T08:38:52.114412Z",
     "iopub.status.busy": "2020-07-18T08:38:52.114090Z",
     "iopub.status.idle": "2020-07-18T08:38:52.124087Z",
     "shell.execute_reply": "2020-07-18T08:38:52.123739Z"
    },
    "papermill": {
     "duration": 0.034484,
     "end_time": "2020-07-18T08:38:52.124141",
     "exception": false,
     "start_time": "2020-07-18T08:38:52.089657",
     "status": "completed"
    },
    "tags": []
   },
   "outputs": [],
   "source": [
    "#df_2 = simulation.fourier_engineered_dataframe[simulation.fourier_engineered_dataframe.phase==2]\n",
    "#df_2.describe()"
   ]
  },
  {
   "cell_type": "code",
   "execution_count": 18,
   "metadata": {
    "execution": {
     "iopub.execute_input": "2020-07-18T08:38:52.161492Z",
     "iopub.status.busy": "2020-07-18T08:38:52.161182Z",
     "iopub.status.idle": "2020-07-18T08:38:52.222417Z",
     "shell.execute_reply": "2020-07-18T08:38:52.221912Z"
    },
    "papermill": {
     "duration": 0.080443,
     "end_time": "2020-07-18T08:38:52.222491",
     "exception": false,
     "start_time": "2020-07-18T08:38:52.142048",
     "status": "completed"
    },
    "tags": []
   },
   "outputs": [],
   "source": [
    "#df_1 = simulation.fourier_engineered_dataframe[simulation.fourier_engineered_dataframe.phase==1]\n",
    "#df_1.describe()"
   ]
  },
  {
   "cell_type": "code",
   "execution_count": 19,
   "metadata": {
    "execution": {
     "iopub.execute_input": "2020-07-18T08:38:52.279405Z",
     "iopub.status.busy": "2020-07-18T08:38:52.279095Z",
     "iopub.status.idle": "2020-07-18T08:38:52.289413Z",
     "shell.execute_reply": "2020-07-18T08:38:52.289068Z"
    },
    "papermill": {
     "duration": 0.036602,
     "end_time": "2020-07-18T08:38:52.289467",
     "exception": false,
     "start_time": "2020-07-18T08:38:52.252865",
     "status": "completed"
    },
    "tags": []
   },
   "outputs": [],
   "source": [
    "#df_0 = simulation.fourier_engineered_dataframe[simulation.fourier_engineered_dataframe.phase==0]\n",
    "#df_0.describe()"
   ]
  },
  {
   "cell_type": "code",
   "execution_count": 20,
   "metadata": {
    "execution": {
     "iopub.execute_input": "2020-07-18T08:38:52.326679Z",
     "iopub.status.busy": "2020-07-18T08:38:52.326372Z",
     "iopub.status.idle": "2020-07-18T08:38:52.339809Z",
     "shell.execute_reply": "2020-07-18T08:38:52.339484Z"
    },
    "papermill": {
     "duration": 0.032735,
     "end_time": "2020-07-18T08:38:52.339860",
     "exception": false,
     "start_time": "2020-07-18T08:38:52.307125",
     "status": "completed"
    },
    "tags": []
   },
   "outputs": [],
   "source": [
    "#plt.figure(figsize=(10,10))\n",
    "#plt.scatter(df_1.fourier_feat0,df_1.fourier_feat2)\n",
    "#plt.scatter(df_0.fourier_feat0,df_0.fourier_feat2,alpha=0.4)"
   ]
  },
  {
   "cell_type": "code",
   "execution_count": 21,
   "metadata": {
    "execution": {
     "iopub.execute_input": "2020-07-18T08:38:52.378331Z",
     "iopub.status.busy": "2020-07-18T08:38:52.378021Z",
     "iopub.status.idle": "2020-07-18T08:38:52.448678Z",
     "shell.execute_reply": "2020-07-18T08:38:52.447952Z"
    },
    "papermill": {
     "duration": 0.09066,
     "end_time": "2020-07-18T08:38:52.448781",
     "exception": false,
     "start_time": "2020-07-18T08:38:52.358121",
     "status": "completed"
    },
    "tags": []
   },
   "outputs": [],
   "source": [
    "#plt.scatter(df_0.fourier_feat0,df_0.fourier_feat2,alpha=0.4)"
   ]
  },
  {
   "cell_type": "code",
   "execution_count": 22,
   "metadata": {
    "execution": {
     "iopub.execute_input": "2020-07-18T08:38:52.517075Z",
     "iopub.status.busy": "2020-07-18T08:38:52.516765Z",
     "iopub.status.idle": "2020-07-18T08:38:52.526545Z",
     "shell.execute_reply": "2020-07-18T08:38:52.526221Z"
    },
    "papermill": {
     "duration": 0.033049,
     "end_time": "2020-07-18T08:38:52.526596",
     "exception": false,
     "start_time": "2020-07-18T08:38:52.493547",
     "status": "completed"
    },
    "tags": []
   },
   "outputs": [],
   "source": [
    "#plt.scatter(df_2.fourier_feat0,df_2.fourier_feat2)"
   ]
  },
  {
   "cell_type": "code",
   "execution_count": 23,
   "metadata": {
    "execution": {
     "iopub.execute_input": "2020-07-18T08:38:52.565781Z",
     "iopub.status.busy": "2020-07-18T08:38:52.565461Z",
     "iopub.status.idle": "2020-07-18T08:38:52.621518Z",
     "shell.execute_reply": "2020-07-18T08:38:52.619730Z"
    },
    "papermill": {
     "duration": 0.076598,
     "end_time": "2020-07-18T08:38:52.621767",
     "exception": false,
     "start_time": "2020-07-18T08:38:52.545169",
     "status": "completed"
    },
    "tags": []
   },
   "outputs": [],
   "source": [
    "#df_1.hist(figsize=(15,15))"
   ]
  },
  {
   "cell_type": "code",
   "execution_count": 24,
   "metadata": {
    "execution": {
     "iopub.execute_input": "2020-07-18T08:38:52.699059Z",
     "iopub.status.busy": "2020-07-18T08:38:52.698748Z",
     "iopub.status.idle": "2020-07-18T08:38:52.708552Z",
     "shell.execute_reply": "2020-07-18T08:38:52.708214Z"
    },
    "papermill": {
     "duration": 0.031555,
     "end_time": "2020-07-18T08:38:52.708604",
     "exception": false,
     "start_time": "2020-07-18T08:38:52.677049",
     "status": "completed"
    },
    "tags": []
   },
   "outputs": [],
   "source": [
    "#df_0.hist(figsize=(15,15))"
   ]
  },
  {
   "cell_type": "markdown",
   "metadata": {
    "papermill": {
     "duration": 0.018442,
     "end_time": "2020-07-18T08:38:52.745435",
     "exception": false,
     "start_time": "2020-07-18T08:38:52.726993",
     "status": "completed"
    },
    "tags": []
   },
   "source": [
    "#### Checking initialization"
   ]
  },
  {
   "cell_type": "code",
   "execution_count": 25,
   "metadata": {
    "execution": {
     "iopub.execute_input": "2020-07-18T08:38:52.783187Z",
     "iopub.status.busy": "2020-07-18T08:38:52.782872Z",
     "iopub.status.idle": "2020-07-18T08:38:52.806780Z",
     "shell.execute_reply": "2020-07-18T08:38:52.807032Z"
    },
    "papermill": {
     "duration": 0.043712,
     "end_time": "2020-07-18T08:38:52.807101",
     "exception": false,
     "start_time": "2020-07-18T08:38:52.763389",
     "status": "completed"
    },
    "tags": []
   },
   "outputs": [
    {
     "name": "stdout",
     "output_type": "stream",
     "text": [
      "n_features:  100\n",
      "n_hamiltonians:  6561\n",
      "n_ts:  2\n",
      "CPU times: user 130 µs, sys: 17 µs, total: 147 µs\n",
      "Wall time: 88.7 µs\n"
     ]
    }
   ],
   "source": [
    "%%time\n",
    "n_features = simulation.n_features\n",
    "n_hamiltonians = simulation.n_hamiltonians\n",
    "n_ts = simulation.n_ts\n",
    "\n",
    "print(\"n_features: \", n_features)\n",
    "print(\"n_hamiltonians: \", n_hamiltonians)\n",
    "print(\"n_ts: \", n_ts)"
   ]
  },
  {
   "cell_type": "code",
   "execution_count": 26,
   "metadata": {
    "execution": {
     "iopub.execute_input": "2020-07-18T08:38:52.845109Z",
     "iopub.status.busy": "2020-07-18T08:38:52.844785Z",
     "iopub.status.idle": "2020-07-18T08:38:53.097473Z",
     "shell.execute_reply": "2020-07-18T08:38:53.097779Z"
    },
    "papermill": {
     "duration": 0.272925,
     "end_time": "2020-07-18T08:38:53.097844",
     "exception": false,
     "start_time": "2020-07-18T08:38:52.824919",
     "status": "completed"
    },
    "tags": []
   },
   "outputs": [
    {
     "name": "stdout",
     "output_type": "stream",
     "text": [
      "% train:  0.8414875781130925\n",
      "% val:  0.0\n",
      "% test:  0.15851242188690748\n",
      "% train + val + test:  1.0\n",
      "\n",
      "\n",
      "number of train hamiltonians:  5521\n",
      "number of val hamiltonians:  0\n",
      "number of test hamiltonians:  1040\n",
      "total number of hamiltonians:  6561\n",
      "\n",
      "\n",
      "train ids:  [13, 14, 15, 16, 17, 18, 19, 20, 21, 22, 23, 24, 25, 26, 27, 28, 29, 30, 31, 32, 33, 34, 35, 36, 37, 38, 39, 41, 42, 43, 44, 45, 46, 47, 48, 49, 50, 51, 52, 53, 54, 55, 56, 57, 58, 59, 60, 61, 62, 63, 64, 65, 66, 67, 68, 69, 70, 71, 72, 73, 74, 75, 76, 77, 78, 79, 80, 95, 96, 97, 98, 99, 100, 101, 102, 103, 104, 105, 106, 107, 108, 109, 110, 111, 112, 113, 114, 115, 116, 117, 118, 119, 121, 122, 123, 124, 125, 126, 127, 128, 129, 130, 131, 132, 133, 134, 135, 136, 137, 138, 139, 140, 141, 142, 143, 144, 145, 146, 147, 148, 149, 150, 151, 152, 153, 154, 155, 156, 157, 158, 159, 160, 161, 176, 177, 178, 179, 180, 181, 182, 183, 184, 185, 186, 187, 188, 189, 190, 191, 192, 193, 194, 195, 196, 197, 198, 199, 201, 202, 203, 204, 205, 206, 207, 208, 209, 210, 211, 212, 213, 214, 215, 216, 217, 218, 219, 220, 221, 222, 223, 224, 225, 226, 227, 228, 229, 230, 231, 232, 233, 234, 235, 236, 237, 238, 239, 240, 241, 242, 258, 259, 260, 261, 262, 263, 264, 265, 266, 267, 268, 269, 270, 271, 272, 273, 274, 275, 276, 277, 278, 279, 281, 282, 283, 284, 285, 286, 287, 288, 289, 290, 291, 292, 293, 294, 295, 296, 297, 298, 299, 300, 301, 302, 303, 304, 305, 306, 307, 308, 309, 310, 311, 312, 313, 314, 315, 316, 317, 318, 319, 320, 321, 322, 323, 340, 341, 342, 343, 344, 345, 346, 347, 348, 349, 350, 351, 352, 353, 354, 355, 356, 357, 358, 359, 361, 362, 363, 364, 365, 366, 367, 368, 369, 370, 371, 372, 373, 374, 375, 376, 377, 378, 379, 380, 381, 382, 383, 384, 385, 386, 387, 388, 389, 390, 391, 392, 393, 394, 395, 396, 397, 398, 399, 400, 401, 402, 403, 404, 422, 423, 424, 425, 426, 427, 428, 429, 430, 431, 432, 433, 434, 435, 436, 437, 438, 439, 441, 442, 443, 444, 445, 446, 447, 448, 449, 450, 451, 452, 453, 454, 455, 456, 457, 458, 459, 460, 461, 462, 463, 464, 465, 466, 467, 468, 469, 470, 471, 472, 473, 474, 475, 476, 477, 478, 479, 480, 481, 482, 483, 484, 485, 503, 504, 505, 506, 507, 508, 509, 510, 511, 512, 513, 514, 515, 516, 517, 518, 519, 521, 522, 523, 524, 525, 526, 527, 528, 529, 530, 531, 532, 533, 534, 535, 536, 537, 538, 539, 540, 541, 542, 543, 544, 545, 546, 547, 548, 549, 550, 551, 552, 553, 554, 555, 556, 557, 558, 559, 560, 561, 562, 563, 564, 565, 566, 585, 586, 587, 588, 589, 590, 591, 592, 593, 594, 595, 596, 597, 598, 599, 601, 602, 603, 604, 605, 606, 607, 608, 609, 610, 611, 612, 613, 614, 615, 616, 617, 618, 619, 620, 621, 622, 623, 624, 625, 626, 627, 628, 629, 630, 631, 632, 633, 634, 635, 636, 637, 638, 639, 640, 641, 642, 643, 644, 645, 646, 647, 667, 668, 669, 670, 671, 672, 673, 674, 675, 676, 677, 678, 679, 681, 682, 683, 684, 685, 686, 687, 688, 689, 690, 691, 692, 693, 694, 695, 696, 697, 698, 699, 700, 701, 702, 703, 704, 705, 706, 707, 708, 709, 710, 711, 712, 713, 714, 715, 716, 717, 718, 719, 720, 721, 722, 723, 724, 725, 726, 727, 728, 749, 750, 751, 752, 753, 754, 755, 756, 757, 758, 759, 761, 762, 763, 764, 765, 766, 767, 768, 769, 770, 771, 772, 773, 774, 775, 776, 777, 778, 779, 780, 781, 782, 783, 784, 785, 786, 787, 788, 789, 790, 791, 792, 793, 794, 795, 796, 797, 798, 799, 800, 801, 802, 803, 804, 805, 806, 807, 808, 809, 830, 831, 832, 833, 834, 835, 836, 837, 838, 839, 841, 842, 843, 844, 845, 846, 847, 848, 849, 850, 851, 852, 853, 854, 855, 856, 857, 858, 859, 860, 861, 862, 863, 864, 865, 866, 867, 868, 869, 870, 871, 872, 873, 874, 875, 876, 877, 878, 879, 880, 881, 882, 883, 884, 885, 886, 887, 888, 889, 890, 912, 913, 914, 915, 916, 917, 918, 919, 921, 922, 923, 924, 925, 926, 927, 928, 929, 930, 931, 932, 933, 934, 935, 936, 937, 938, 939, 940, 941, 942, 943, 944, 945, 946, 947, 948, 949, 950, 951, 952, 953, 954, 955, 956, 957, 958, 959, 960, 961, 962, 963, 964, 965, 966, 967, 968, 969, 970, 971, 994, 995, 996, 997, 998, 999, 1001, 1002, 1003, 1004, 1005, 1006, 1007, 1008, 1009, 1010, 1011, 1012, 1013, 1014, 1015, 1016, 1017, 1018, 1019, 1020, 1021, 1022, 1023, 1024, 1025, 1026, 1027, 1028, 1029, 1030, 1031, 1032, 1033, 1034, 1035, 1036, 1037, 1038, 1039, 1040, 1041, 1042, 1043, 1044, 1045, 1046, 1047, 1048, 1049, 1050, 1051, 1052, 1076, 1077, 1078, 1079, 1081, 1082, 1083, 1084, 1085, 1086, 1087, 1088, 1089, 1090, 1091, 1092, 1093, 1094, 1095, 1096, 1097, 1098, 1099, 1100, 1101, 1102, 1103, 1104, 1105, 1106, 1107, 1108, 1109, 1110, 1111, 1112, 1113, 1114, 1115, 1116, 1117, 1118, 1119, 1120, 1121, 1122, 1123, 1124, 1125, 1126, 1127, 1128, 1129, 1130, 1131, 1132, 1133, 1134, 1157, 1158, 1159, 1161, 1162, 1163, 1164, 1165, 1166, 1167, 1168, 1169, 1170, 1171, 1172, 1173, 1174, 1175, 1176, 1177, 1178, 1179, 1180, 1181, 1182, 1183, 1184, 1185, 1186, 1187, 1188, 1189, 1190, 1191, 1192, 1193, 1194, 1195, 1196, 1197, 1198, 1199, 1200, 1201, 1202, 1203, 1204, 1205, 1206, 1207, 1208, 1209, 1210, 1211, 1212, 1213, 1214, 1215, 1216, 1239, 1241, 1242, 1243, 1244, 1245, 1246, 1247, 1248, 1249, 1250, 1251, 1252, 1253, 1254, 1255, 1256, 1257, 1258, 1259, 1260, 1261, 1262, 1263, 1264, 1265, 1266, 1267, 1268, 1269, 1270, 1271, 1272, 1273, 1274, 1275, 1276, 1277, 1278, 1279, 1280, 1281, 1282, 1283, 1284, 1285, 1286, 1287, 1288, 1289, 1290, 1291, 1292, 1293, 1294, 1295, 1296, 1297, 1298, 1299, 1321, 1322, 1323, 1324, 1325, 1326, 1327, 1328, 1329, 1330, 1331, 1332, 1333, 1334, 1335, 1336, 1337, 1338, 1339, 1340, 1341, 1342, 1343, 1344, 1345, 1346, 1347, 1348, 1349, 1350, 1351, 1352, 1353, 1354, 1355, 1356, 1357, 1358, 1359, 1360, 1361, 1362, 1363, 1364, 1365, 1366, 1367, 1368, 1369, 1370, 1371, 1372, 1373, 1374, 1375, 1376, 1377, 1378, 1379, 1380, 1381, 1402, 1403, 1404, 1405, 1406, 1407, 1408, 1409, 1410, 1411, 1412, 1413, 1414, 1415, 1416, 1417, 1418, 1419, 1420, 1421, 1422, 1423, 1424, 1425, 1426, 1427, 1428, 1429, 1430, 1431, 1432, 1433, 1434, 1435, 1436, 1437, 1438, 1439, 1440, 1441, 1442, 1443, 1444, 1445, 1446, 1447, 1448, 1449, 1450, 1451, 1452, 1453, 1454, 1455, 1456, 1457, 1458, 1459, 1460, 1461, 1462, 1463, 1464, 1484, 1485, 1486, 1487, 1488, 1489, 1490, 1491, 1492, 1493, 1494, 1495, 1496, 1497, 1498, 1499, 1500, 1501, 1502, 1503, 1504, 1505, 1506, 1507, 1508, 1509, 1510, 1511, 1512, 1513, 1514, 1515, 1516, 1517, 1518, 1519, 1520, 1521, 1522, 1523, 1524, 1525, 1526, 1527, 1528, 1529, 1530, 1531, 1532, 1533, 1534, 1535, 1536, 1537, 1538, 1539, 1540, 1541, 1542, 1543, 1544, 1545, 1546, 1566, 1567, 1568, 1569, 1570, 1571, 1572, 1573, 1574, 1575, 1576, 1577, 1578, 1579, 1580, 1581, 1582, 1583, 1584, 1585, 1586, 1587, 1588, 1589, 1590, 1591, 1592, 1593, 1594, 1595, 1596, 1597, 1598, 1599, 1600, 1601, 1602, 1603, 1604, 1605, 1606, 1607, 1608, 1609, 1610, 1611, 1612, 1613, 1614, 1615, 1616, 1617, 1618, 1619, 1620, 1621, 1622, 1623, 1624, 1625, 1626, 1627, 1628, 1648, 1649, 1650, 1651, 1652, 1653, 1654, 1655, 1656, 1657, 1658, 1659, 1660, 1661, 1662, 1663, 1664, 1665, 1666, 1667, 1668, 1669, 1670, 1671, 1672, 1673, 1674, 1675, 1676, 1677, 1678, 1679, 1680, 1681, 1682, 1683, 1684, 1685, 1686, 1687, 1688, 1689, 1690, 1691, 1692, 1693, 1694, 1695, 1696, 1697, 1698, 1699, 1701, 1702, 1703, 1704, 1705, 1706, 1707, 1708, 1709, 1710, 1711, 1729, 1730, 1731, 1732, 1733, 1734, 1735, 1736, 1737, 1738, 1739, 1740, 1741, 1742, 1743, 1744, 1745, 1746, 1747, 1748, 1749, 1750, 1751, 1752, 1753, 1754, 1755, 1756, 1757, 1758, 1759, 1760, 1761, 1762, 1763, 1764, 1765, 1766, 1767, 1768, 1769, 1770, 1771, 1772, 1773, 1774, 1775, 1776, 1777, 1778, 1779, 1781, 1782, 1783, 1784, 1785, 1786, 1787, 1788, 1789, 1790, 1791, 1792, 1793, 1811, 1812, 1813, 1814, 1815, 1816, 1817, 1818, 1819, 1820, 1821, 1822, 1823, 1824, 1825, 1826, 1827, 1828, 1829, 1830, 1831, 1832, 1833, 1834, 1835, 1836, 1837, 1838, 1839, 1840, 1841, 1842, 1843, 1844, 1845, 1846, 1847, 1848, 1849, 1850, 1851, 1852, 1853, 1854, 1855, 1856, 1857, 1858, 1859, 1861, 1862, 1863, 1864, 1865, 1866, 1867, 1868, 1869, 1870, 1871, 1872, 1873, 1874, 1875, 1876, 1893, 1894, 1895, 1896, 1897, 1898, 1899, 1900, 1901, 1902, 1903, 1904, 1905, 1906, 1907, 1908, 1909, 1910, 1911, 1912, 1913, 1914, 1915, 1916, 1917, 1918, 1919, 1920, 1921, 1922, 1923, 1924, 1925, 1926, 1927, 1928, 1929, 1930, 1931, 1932, 1933, 1934, 1935, 1936, 1937, 1938, 1939, 1941, 1942, 1943, 1944, 1945, 1946, 1947, 1948, 1949, 1950, 1951, 1952, 1953, 1954, 1955, 1956, 1957, 1958, 1975, 1976, 1977, 1978, 1979, 1980, 1981, 1982, 1983, 1984, 1985, 1986, 1987, 1988, 1989, 1990, 1991, 1992, 1993, 1994, 1995, 1996, 1997, 1998, 1999, 2000, 2001, 2002, 2003, 2004, 2005, 2006, 2007, 2008, 2009, 2010, 2011, 2012, 2013, 2014, 2015, 2016, 2017, 2018, 2019, 2021, 2022, 2023, 2024, 2025, 2026, 2027, 2028, 2029, 2030, 2031, 2032, 2033, 2034, 2035, 2036, 2037, 2038, 2039, 2056, 2057, 2058, 2059, 2060, 2061, 2062, 2063, 2064, 2065, 2066, 2067, 2068, 2069, 2070, 2071, 2072, 2073, 2074, 2075, 2076, 2077, 2078, 2079, 2080, 2081, 2082, 2083, 2084, 2085, 2086, 2087, 2088, 2089, 2090, 2091, 2092, 2093, 2094, 2095, 2096, 2097, 2098, 2099, 2101, 2102, 2103, 2104, 2105, 2106, 2107, 2108, 2109, 2110, 2111, 2112, 2113, 2114, 2115, 2116, 2117, 2118, 2119, 2121, 2122, 2123, 2138, 2139, 2140, 2141, 2142, 2143, 2144, 2145, 2146, 2147, 2148, 2149, 2150, 2151, 2152, 2153, 2154, 2155, 2156, 2157, 2158, 2159, 2160, 2161, 2162, 2163, 2164, 2165, 2166, 2167, 2168, 2169, 2170, 2171, 2172, 2173, 2174, 2175, 2176, 2177, 2178, 2179, 2181, 2182, 2183, 2184, 2185, 2186, 2187, 2188, 2189, 2190, 2191, 2192, 2193, 2194, 2195, 2196, 2197, 2198, 2199, 2201, 2202, 2203, 2204, 2205, 2220, 2221, 2222, 2223, 2224, 2225, 2226, 2227, 2228, 2229, 2230, 2231, 2232, 2233, 2234, 2235, 2236, 2237, 2238, 2239, 2240, 2241, 2242, 2243, 2244, 2245, 2246, 2247, 2248, 2249, 2250, 2251, 2252, 2253, 2254, 2255, 2256, 2257, 2258, 2259, 2261, 2262, 2263, 2264, 2265, 2266, 2267, 2268, 2269, 2270, 2271, 2272, 2273, 2274, 2275, 2276, 2277, 2278, 2279, 2281, 2282, 2283, 2284, 2285, 2286, 2287, 2288, 2301, 2302, 2303, 2304, 2305, 2306, 2307, 2308, 2309, 2310, 2311, 2312, 2313, 2314, 2315, 2316, 2317, 2318, 2319, 2320, 2321, 2322, 2323, 2324, 2325, 2326, 2327, 2328, 2329, 2330, 2331, 2332, 2333, 2334, 2335, 2336, 2337, 2338, 2339, 2341, 2342, 2343, 2344, 2345, 2346, 2347, 2348, 2349, 2350, 2351, 2352, 2353, 2354, 2355, 2356, 2357, 2358, 2359, 2361, 2362, 2363, 2364, 2365, 2366, 2367, 2368, 2369, 2370, 2383, 2384, 2385, 2386, 2387, 2388, 2389, 2390, 2391, 2392, 2393, 2394, 2395, 2396, 2397, 2398, 2399, 2400, 2401, 2402, 2403, 2404, 2405, 2406, 2407, 2408, 2409, 2410, 2411, 2412, 2413, 2414, 2415, 2416, 2417, 2418, 2419, 2421, 2422, 2423, 2424, 2425, 2426, 2427, 2428, 2429, 2430, 2431, 2432, 2433, 2434, 2435, 2436, 2437, 2438, 2439, 2441, 2442, 2443, 2444, 2445, 2446, 2447, 2448, 2449, 2450, 2451, 2452, 2453, 2465, 2466, 2467, 2468, 2469, 2470, 2471, 2472, 2473, 2474, 2475, 2476, 2477, 2478, 2479, 2480, 2481, 2482, 2483, 2484, 2485, 2486, 2487, 2488, 2489, 2490, 2491, 2492, 2493, 2494, 2495, 2496, 2497, 2498, 2499, 2501, 2502, 2503, 2504, 2505, 2506, 2507, 2508, 2509, 2510, 2511, 2512, 2513, 2514, 2515, 2516, 2517, 2518, 2519, 2521, 2522, 2523, 2524, 2525, 2526, 2527, 2528, 2529, 2530, 2531, 2532, 2533, 2534, 2535, 2547, 2548, 2549, 2550, 2551, 2552, 2553, 2554, 2555, 2556, 2557, 2558, 2559, 2560, 2561, 2562, 2563, 2564, 2565, 2566, 2567, 2568, 2569, 2570, 2571, 2572, 2573, 2574, 2575, 2576, 2577, 2578, 2579, 2581, 2582, 2583, 2584, 2585, 2586, 2587, 2588, 2589, 2590, 2591, 2592, 2593, 2594, 2595, 2596, 2597, 2598, 2599, 2601, 2602, 2603, 2604, 2605, 2606, 2607, 2608, 2609, 2610, 2611, 2612, 2613, 2614, 2615, 2616, 2617, 2628, 2629, 2630, 2631, 2632, 2633, 2634, 2635, 2636, 2637, 2638, 2639, 2640, 2641, 2642, 2643, 2644, 2645, 2646, 2647, 2648, 2649, 2650, 2651, 2652, 2653, 2654, 2655, 2656, 2657, 2658, 2659, 2661, 2662, 2663, 2664, 2665, 2666, 2667, 2668, 2669, 2670, 2671, 2672, 2673, 2674, 2675, 2676, 2677, 2678, 2679, 2681, 2682, 2683, 2684, 2685, 2686, 2687, 2688, 2689, 2690, 2691, 2692, 2693, 2694, 2695, 2696, 2697, 2698, 2699, 2700, 2710, 2711, 2712, 2713, 2714, 2715, 2716, 2717, 2718, 2719, 2720, 2721, 2722, 2723, 2724, 2725, 2726, 2727, 2728, 2729, 2730, 2731, 2732, 2733, 2734, 2735, 2736, 2737, 2738, 2739, 2741, 2742, 2743, 2744, 2745, 2746, 2747, 2748, 2749, 2750, 2751, 2752, 2753, 2754, 2755, 2756, 2757, 2758, 2759, 2761, 2762, 2763, 2764, 2765, 2766, 2767, 2768, 2769, 2770, 2771, 2772, 2773, 2774, 2775, 2776, 2777, 2778, 2779, 2780, 2781, 2782, 2792, 2793, 2794, 2795, 2796, 2797, 2798, 2799, 2800, 2801, 2802, 2803, 2804, 2805, 2806, 2807, 2808, 2809, 2810, 2811, 2812, 2813, 2814, 2815, 2816, 2817, 2818, 2819, 2821, 2822, 2823, 2824, 2825, 2826, 2827, 2828, 2829, 2830, 2831, 2832, 2833, 2834, 2835, 2836, 2837, 2838, 2839, 2841, 2842, 2843, 2844, 2845, 2846, 2847, 2848, 2849, 2850, 2851, 2852, 2853, 2854, 2855, 2856, 2857, 2858, 2859, 2860, 2861, 2862, 2863, 2864, 2865, 2874, 2875, 2876, 2877, 2878, 2879, 2880, 2881, 2882, 2883, 2884, 2885, 2886, 2887, 2888, 2889, 2890, 2891, 2892, 2893, 2894, 2895, 2896, 2897, 2898, 2899, 2901, 2902, 2903, 2904, 2905, 2906, 2907, 2908, 2909, 2910, 2911, 2912, 2913, 2914, 2915, 2916, 2917, 2918, 2919, 2921, 2922, 2923, 2924, 2925, 2926, 2927, 2928, 2929, 2930, 2931, 2932, 2933, 2934, 2935, 2936, 2937, 2938, 2939, 2940, 2941, 2942, 2943, 2944, 2945, 2946, 2947, 2955, 2956, 2957, 2958, 2959, 2960, 2961, 2962, 2963, 2964, 2965, 2966, 2967, 2968, 2969, 2970, 2971, 2972, 2973, 2974, 2975, 2976, 2977, 2978, 2979, 2981, 2982, 2983, 2984, 2985, 2986, 2987, 2988, 2989, 2990, 2991, 2992, 2993, 2994, 2995, 2996, 2997, 2998, 2999, 3001, 3002, 3003, 3004, 3005, 3006, 3007, 3008, 3009, 3010, 3011, 3012, 3013, 3014, 3015, 3016, 3017, 3018, 3019, 3020, 3021, 3022, 3023, 3024, 3025, 3026, 3027, 3028, 3029, 3037, 3038, 3039, 3040, 3041, 3042, 3043, 3044, 3045, 3046, 3047, 3048, 3049, 3050, 3051, 3052, 3053, 3054, 3055, 3056, 3057, 3058, 3059, 3061, 3062, 3063, 3064, 3065, 3066, 3067, 3068, 3069, 3070, 3071, 3072, 3073, 3074, 3075, 3076, 3077, 3078, 3079, 3081, 3082, 3083, 3084, 3085, 3086, 3087, 3088, 3089, 3090, 3091, 3092, 3093, 3094, 3095, 3096, 3097, 3098, 3099, 3100, 3101, 3102, 3103, 3104, 3105, 3106, 3107, 3108, 3109, 3110, 3111, 3112, 3119, 3120, 3121, 3122, 3123, 3124, 3125, 3126, 3127, 3128, 3129, 3130, 3131, 3132, 3133, 3134, 3135, 3136, 3137, 3138, 3139, 3141, 3142, 3143, 3144, 3145, 3146, 3147, 3148, 3149, 3150, 3151, 3152, 3153, 3154, 3155, 3156, 3157, 3158, 3159, 3161, 3162, 3163, 3164, 3165, 3166, 3167, 3168, 3169, 3170, 3171, 3172, 3173, 3174, 3175, 3176, 3177, 3178, 3179, 3180, 3181, 3182, 3183, 3184, 3185, 3186, 3187, 3188, 3189, 3190, 3191, 3192, 3193, 3194, 3201, 3202, 3203, 3204, 3205, 3206, 3207, 3208, 3209, 3210, 3211, 3212, 3213, 3214, 3215, 3216, 3217, 3218, 3219, 3221, 3222, 3223, 3224, 3225, 3226, 3227, 3228, 3229, 3230, 3231, 3232, 3233, 3234, 3235, 3236, 3237, 3238, 3239, 3241, 3242, 3243, 3244, 3245, 3246, 3247, 3248, 3249, 3250, 3251, 3252, 3253, 3254, 3255, 3256, 3257, 3258, 3259, 3260, 3261, 3262, 3263, 3264, 3265, 3266, 3267, 3268, 3269, 3270, 3271, 3272, 3273, 3274, 3275, 3276, 3277, 3282, 3283, 3284, 3285, 3286, 3287, 3288, 3289, 3290, 3291, 3292, 3293, 3294, 3295, 3296, 3297, 3298, 3299, 3301, 3302, 3303, 3304, 3305, 3306, 3307, 3308, 3309, 3310, 3311, 3312, 3313, 3314, 3315, 3316, 3317, 3318, 3319, 3320, 3321, 3322, 3323, 3324, 3325, 3326, 3327, 3328, 3329, 3330, 3331, 3332, 3333, 3334, 3335, 3336, 3337, 3338, 3339, 3340, 3341, 3342, 3343, 3344, 3345, 3346, 3347, 3348, 3349, 3350, 3351, 3352, 3353, 3354, 3355, 3356, 3357, 3358, 3359, 3364, 3365, 3366, 3367, 3368, 3369, 3370, 3371, 3372, 3373, 3374, 3375, 3376, 3377, 3378, 3379, 3381, 3382, 3383, 3384, 3385, 3386, 3387, 3388, 3389, 3390, 3391, 3392, 3393, 3394, 3395, 3396, 3397, 3398, 3399, 3400, 3401, 3402, 3403, 3404, 3405, 3406, 3407, 3408, 3409, 3410, 3411, 3412, 3413, 3414, 3415, 3416, 3417, 3418, 3419, 3420, 3421, 3422, 3423, 3424, 3425, 3426, 3427, 3428, 3429, 3430, 3431, 3432, 3433, 3434, 3435, 3436, 3437, 3438, 3439, 3440, 3441, 3442, 3446, 3447, 3448, 3449, 3450, 3451, 3452, 3453, 3454, 3455, 3456, 3457, 3458, 3459, 3461, 3462, 3463, 3464, 3465, 3466, 3467, 3468, 3469, 3470, 3471, 3472, 3473, 3474, 3475, 3476, 3477, 3478, 3479, 3480, 3481, 3482, 3483, 3484, 3485, 3486, 3487, 3488, 3489, 3490, 3491, 3492, 3493, 3494, 3495, 3496, 3497, 3498, 3499, 3500, 3501, 3502, 3503, 3504, 3505, 3506, 3507, 3508, 3509, 3510, 3511, 3512, 3513, 3514, 3515, 3516, 3517, 3518, 3519, 3520, 3521, 3522, 3523, 3524, 3527, 3528, 3529, 3530, 3531, 3532, 3533, 3534, 3535, 3536, 3537, 3538, 3539, 3541, 3542, 3543, 3544, 3545, 3546, 3547, 3548, 3549, 3550, 3551, 3552, 3553, 3554, 3555, 3556, 3557, 3558, 3559, 3560, 3561, 3562, 3563, 3564, 3565, 3566, 3567, 3568, 3569, 3570, 3571, 3572, 3573, 3574, 3575, 3576, 3577, 3578, 3579, 3580, 3581, 3582, 3583, 3584, 3585, 3586, 3587, 3588, 3589, 3590, 3591, 3592, 3593, 3594, 3595, 3596, 3597, 3598, 3599, 3600, 3601, 3602, 3603, 3604, 3605, 3606, 3609, 3610, 3611, 3612, 3613, 3614, 3615, 3616, 3617, 3618, 3619, 3621, 3622, 3623, 3624, 3625, 3626, 3627, 3628, 3629, 3630, 3631, 3632, 3633, 3634, 3635, 3636, 3637, 3638, 3639, 3640, 3641, 3642, 3643, 3644, 3645, 3646, 3647, 3648, 3649, 3650, 3651, 3652, 3653, 3654, 3655, 3656, 3657, 3658, 3659, 3660, 3661, 3662, 3663, 3664, 3665, 3666, 3667, 3668, 3669, 3670, 3671, 3672, 3673, 3674, 3675, 3676, 3677, 3678, 3679, 3680, 3681, 3682, 3683, 3684, 3685, 3686, 3687, 3688, 3689, 3691, 3692, 3693, 3694, 3695, 3696, 3697, 3698, 3699, 3701, 3702, 3703, 3704, 3705, 3706, 3707, 3708, 3709, 3710, 3711, 3712, 3713, 3714, 3715, 3716, 3717, 3718, 3719, 3720, 3721, 3722, 3723, 3724, 3725, 3726, 3727, 3728, 3729, 3730, 3731, 3732, 3733, 3734, 3735, 3736, 3737, 3738, 3739, 3740, 3741, 3742, 3743, 3744, 3745, 3746, 3747, 3748, 3749, 3750, 3751, 3752, 3753, 3754, 3755, 3756, 3757, 3758, 3759, 3760, 3761, 3762, 3763, 3764, 3765, 3766, 3767, 3768, 3769, 3770, 3771, 3773, 3774, 3775, 3776, 3777, 3778, 3779, 3781, 3782, 3783, 3784, 3785, 3786, 3787, 3788, 3789, 3790, 3791, 3792, 3793, 3794, 3795, 3796, 3797, 3798, 3799, 3800, 3801, 3802, 3803, 3804, 3805, 3806, 3807, 3808, 3809, 3810, 3811, 3812, 3813, 3814, 3815, 3816, 3817, 3818, 3819, 3820, 3821, 3822, 3823, 3824, 3825, 3826, 3827, 3828, 3829, 3830, 3831, 3832, 3833, 3834, 3835, 3836, 3837, 3838, 3839, 3840, 3841, 3842, 3843, 3844, 3845, 3846, 3847, 3848, 3849, 3850, 3851, 3852, 3853, 3855, 3856, 3857, 3858, 3859, 3861, 3862, 3863, 3864, 3865, 3866, 3867, 3868, 3869, 3870, 3871, 3872, 3873, 3874, 3875, 3876, 3877, 3878, 3879, 3880, 3881, 3882, 3883, 3884, 3885, 3886, 3887, 3888, 3889, 3890, 3891, 3892, 3893, 3894, 3895, 3896, 3897, 3898, 3899, 3900, 3901, 3902, 3903, 3904, 3905, 3906, 3907, 3908, 3909, 3910, 3911, 3912, 3913, 3914, 3915, 3916, 3917, 3918, 3919, 3920, 3921, 3922, 3923, 3924, 3925, 3926, 3927, 3928, 3929, 3930, 3931, 3932, 3933, 3934, 3935, 3937, 3938, 3939, 3941, 3942, 3943, 3944, 3945, 3946, 3947, 3948, 3949, 3950, 3951, 3952, 3953, 3954, 3955, 3956, 3957, 3958, 3959, 3960, 3961, 3962, 3963, 3964, 3965, 3966, 3967, 3968, 3969, 3970, 3971, 3972, 3973, 3974, 3975, 3976, 3977, 3978, 3979, 3980, 3981, 3982, 3983, 3984, 3985, 3986, 3987, 3988, 3989, 3990, 3991, 3992, 3993, 3994, 3995, 3996, 3997, 3998, 3999, 4000, 4001, 4002, 4003, 4004, 4005, 4006, 4007, 4008, 4009, 4010, 4011, 4012, 4013, 4014, 4015, 4016, 4017, 4021, 4022, 4023, 4024, 4025, 4026, 4027, 4028, 4029, 4030, 4031, 4032, 4033, 4034, 4035, 4036, 4037, 4038, 4039, 4040, 4041, 4042, 4043, 4044, 4045, 4046, 4047, 4048, 4049, 4050, 4051, 4052, 4053, 4054, 4055, 4056, 4057, 4058, 4059, 4060, 4061, 4062, 4063, 4064, 4065, 4066, 4067, 4068, 4069, 4070, 4071, 4072, 4073, 4074, 4075, 4076, 4077, 4078, 4079, 4080, 4081, 4082, 4083, 4084, 4085, 4086, 4087, 4088, 4089, 4090, 4091, 4092, 4093, 4094, 4095, 4096, 4097, 4098, 4102, 4103, 4104, 4105, 4106, 4107, 4108, 4109, 4110, 4111, 4112, 4113, 4114, 4115, 4116, 4117, 4118, 4119, 4120, 4121, 4122, 4123, 4124, 4125, 4126, 4127, 4128, 4129, 4130, 4131, 4132, 4133, 4134, 4135, 4136, 4137, 4138, 4139, 4140, 4141, 4142, 4143, 4144, 4145, 4146, 4147, 4148, 4149, 4150, 4151, 4152, 4153, 4154, 4155, 4156, 4157, 4158, 4159, 4160, 4161, 4162, 4163, 4164, 4165, 4166, 4167, 4168, 4169, 4170, 4171, 4172, 4173, 4174, 4175, 4176, 4177, 4178, 4179, 4184, 4185, 4186, 4187, 4188, 4189, 4190, 4191, 4192, 4193, 4194, 4195, 4196, 4197, 4198, 4199, 4200, 4201, 4202, 4203, 4204, 4205, 4206, 4207, 4208, 4209, 4210, 4211, 4212, 4213, 4214, 4215, 4216, 4217, 4218, 4219, 4220, 4221, 4222, 4223, 4224, 4225, 4226, 4227, 4228, 4229, 4230, 4231, 4232, 4233, 4234, 4235, 4236, 4237, 4238, 4239, 4240, 4241, 4242, 4243, 4244, 4245, 4246, 4247, 4248, 4249, 4250, 4251, 4252, 4253, 4254, 4255, 4256, 4257, 4258, 4259, 4261, 4262, 4267, 4268, 4269, 4270, 4271, 4272, 4273, 4274, 4275, 4276, 4277, 4278, 4279, 4280, 4281, 4282, 4283, 4284, 4285, 4286, 4287, 4288, 4289, 4290, 4291, 4292, 4293, 4294, 4295, 4296, 4297, 4298, 4299, 4300, 4301, 4302, 4303, 4304, 4305, 4306, 4307, 4308, 4309, 4310, 4311, 4312, 4313, 4314, 4315, 4316, 4317, 4318, 4319, 4320, 4321, 4322, 4323, 4324, 4325, 4326, 4327, 4328, 4329, 4330, 4331, 4332, 4333, 4334, 4335, 4336, 4337, 4338, 4339, 4341, 4342, 4343, 4344, 4349, 4350, 4351, 4352, 4353, 4354, 4355, 4356, 4357, 4358, 4359, 4360, 4361, 4362, 4363, 4364, 4365, 4366, 4367, 4368, 4369, 4370, 4371, 4372, 4373, 4374, 4375, 4376, 4377, 4378, 4379, 4380, 4381, 4382, 4383, 4384, 4385, 4386, 4387, 4388, 4389, 4390, 4391, 4392, 4393, 4394, 4395, 4396, 4397, 4398, 4399, 4400, 4401, 4402, 4403, 4404, 4405, 4406, 4407, 4408, 4409, 4410, 4411, 4412, 4413, 4414, 4415, 4416, 4417, 4418, 4419, 4421, 4422, 4423, 4424, 4425, 4426, 4432, 4433, 4434, 4435, 4436, 4437, 4438, 4439, 4440, 4441, 4442, 4443, 4444, 4445, 4446, 4447, 4448, 4449, 4450, 4451, 4452, 4453, 4454, 4455, 4456, 4457, 4458, 4459, 4460, 4461, 4462, 4463, 4464, 4465, 4466, 4467, 4468, 4469, 4470, 4471, 4472, 4473, 4474, 4475, 4476, 4477, 4478, 4479, 4480, 4481, 4482, 4483, 4484, 4485, 4486, 4487, 4488, 4489, 4490, 4491, 4492, 4493, 4494, 4495, 4496, 4497, 4498, 4499, 4501, 4502, 4503, 4504, 4505, 4506, 4507, 4514, 4515, 4516, 4517, 4518, 4519, 4520, 4521, 4522, 4523, 4524, 4525, 4526, 4527, 4528, 4529, 4530, 4531, 4532, 4533, 4534, 4535, 4536, 4537, 4538, 4539, 4540, 4541, 4542, 4543, 4544, 4545, 4546, 4547, 4548, 4549, 4550, 4551, 4552, 4553, 4554, 4555, 4556, 4557, 4558, 4559, 4560, 4561, 4562, 4563, 4564, 4565, 4566, 4567, 4568, 4569, 4570, 4571, 4572, 4573, 4574, 4575, 4576, 4577, 4578, 4579, 4581, 4582, 4583, 4584, 4585, 4586, 4587, 4588, 4589, 4596, 4597, 4598, 4599, 4600, 4601, 4602, 4603, 4604, 4605, 4606, 4607, 4608, 4609, 4610, 4611, 4612, 4613, 4614, 4615, 4616, 4617, 4618, 4619, 4620, 4621, 4622, 4623, 4624, 4625, 4626, 4627, 4628, 4629, 4630, 4631, 4632, 4633, 4634, 4635, 4636, 4637, 4638, 4639, 4640, 4641, 4642, 4643, 4644, 4645, 4646, 4647, 4648, 4649, 4650, 4651, 4652, 4653, 4654, 4655, 4656, 4657, 4658, 4659, 4661, 4662, 4663, 4664, 4665, 4666, 4667, 4668, 4669, 4670, 4671, 4679, 4680, 4681, 4682, 4683, 4684, 4685, 4686, 4687, 4688, 4689, 4690, 4691, 4692, 4693, 4694, 4695, 4696, 4697, 4698, 4699, 4700, 4701, 4702, 4703, 4704, 4705, 4706, 4707, 4708, 4709, 4710, 4711, 4712, 4713, 4714, 4715, 4716, 4717, 4718, 4719, 4720, 4721, 4722, 4723, 4724, 4725, 4726, 4727, 4728, 4729, 4730, 4731, 4732, 4733, 4734, 4735, 4736, 4737, 4738, 4739, 4741, 4742, 4743, 4744, 4745, 4746, 4747, 4748, 4749, 4750, 4751, 4752, 4761, 4762, 4763, 4764, 4765, 4766, 4767, 4768, 4769, 4770, 4771, 4772, 4773, 4774, 4775, 4776, 4777, 4778, 4779, 4780, 4781, 4782, 4783, 4784, 4785, 4786, 4787, 4788, 4789, 4790, 4791, 4792, 4793, 4794, 4795, 4796, 4797, 4798, 4799, 4800, 4801, 4802, 4803, 4804, 4805, 4806, 4807, 4808, 4809, 4810, 4811, 4812, 4813, 4814, 4815, 4816, 4817, 4818, 4819, 4821, 4822, 4823, 4824, 4825, 4826, 4827, 4828, 4829, 4830, 4831, 4832, 4833, 4834, 4844, 4845, 4846, 4847, 4848, 4849, 4850, 4851, 4852, 4853, 4854, 4855, 4856, 4857, 4858, 4859, 4860, 4861, 4862, 4863, 4864, 4865, 4866, 4867, 4868, 4869, 4870, 4871, 4872, 4873, 4874, 4875, 4876, 4877, 4878, 4879, 4880, 4881, 4882, 4883, 4884, 4885, 4886, 4887, 4888, 4889, 4890, 4891, 4892, 4893, 4894, 4895, 4896, 4897, 4898, 4899, 4901, 4902, 4903, 4904, 4905, 4906, 4907, 4908, 4909, 4910, 4911, 4912, 4913, 4914, 4915, 4916, 4926, 4927, 4928, 4929, 4930, 4931, 4932, 4933, 4934, 4935, 4936, 4937, 4938, 4939, 4940, 4941, 4942, 4943, 4944, 4945, 4946, 4947, 4948, 4949, 4950, 4951, 4952, 4953, 4954, 4955, 4956, 4957, 4958, 4959, 4960, 4961, 4962, 4963, 4964, 4965, 4966, 4967, 4968, 4969, 4970, 4971, 4972, 4973, 4974, 4975, 4976, 4977, 4978, 4979, 4981, 4982, 4983, 4984, 4985, 4986, 4987, 4988, 4989, 4990, 4991, 4992, 4993, 4994, 4995, 4996, 4997, 4998, 5008, 5009, 5010, 5011, 5012, 5013, 5014, 5015, 5016, 5017, 5018, 5019, 5020, 5021, 5022, 5023, 5024, 5025, 5026, 5027, 5028, 5029, 5030, 5031, 5032, 5033, 5034, 5035, 5036, 5037, 5038, 5039, 5040, 5041, 5042, 5043, 5044, 5045, 5046, 5047, 5048, 5049, 5050, 5051, 5052, 5053, 5054, 5055, 5056, 5057, 5058, 5059, 5061, 5062, 5063, 5064, 5065, 5066, 5067, 5068, 5069, 5070, 5071, 5072, 5073, 5074, 5075, 5076, 5077, 5078, 5079, 5091, 5092, 5093, 5094, 5095, 5096, 5097, 5098, 5099, 5100, 5101, 5102, 5103, 5104, 5105, 5106, 5107, 5108, 5109, 5110, 5111, 5112, 5113, 5114, 5115, 5116, 5117, 5118, 5119, 5120, 5121, 5122, 5123, 5124, 5125, 5126, 5127, 5128, 5129, 5130, 5131, 5132, 5133, 5134, 5135, 5136, 5137, 5138, 5139, 5141, 5142, 5143, 5144, 5145, 5146, 5147, 5148, 5149, 5150, 5151, 5152, 5153, 5154, 5155, 5156, 5157, 5158, 5159, 5160, 5161, 5173, 5174, 5175, 5176, 5177, 5178, 5179, 5180, 5181, 5182, 5183, 5184, 5185, 5186, 5187, 5188, 5189, 5190, 5191, 5192, 5193, 5194, 5195, 5196, 5197, 5198, 5199, 5200, 5201, 5202, 5203, 5204, 5205, 5206, 5207, 5208, 5209, 5210, 5211, 5212, 5213, 5214, 5215, 5216, 5217, 5218, 5219, 5221, 5222, 5223, 5224, 5225, 5226, 5227, 5228, 5229, 5230, 5231, 5232, 5233, 5234, 5235, 5236, 5237, 5238, 5239, 5240, 5241, 5242, 5243, 5256, 5257, 5258, 5259, 5260, 5261, 5262, 5263, 5264, 5265, 5266, 5267, 5268, 5269, 5270, 5271, 5272, 5273, 5274, 5275, 5276, 5277, 5278, 5279, 5280, 5281, 5282, 5283, 5284, 5285, 5286, 5287, 5288, 5289, 5290, 5291, 5292, 5293, 5294, 5295, 5296, 5297, 5298, 5299, 5301, 5302, 5303, 5304, 5305, 5306, 5307, 5308, 5309, 5310, 5311, 5312, 5313, 5314, 5315, 5316, 5317, 5318, 5319, 5320, 5321, 5322, 5323, 5324, 5325, 5338, 5339, 5340, 5341, 5342, 5343, 5344, 5345, 5346, 5347, 5348, 5349, 5350, 5351, 5352, 5353, 5354, 5355, 5356, 5357, 5358, 5359, 5360, 5361, 5362, 5363, 5364, 5365, 5366, 5367, 5368, 5369, 5370, 5371, 5372, 5373, 5374, 5375, 5376, 5377, 5378, 5379, 5381, 5382, 5383, 5384, 5385, 5386, 5387, 5388, 5389, 5390, 5391, 5392, 5393, 5394, 5395, 5396, 5397, 5398, 5399, 5400, 5401, 5402, 5403, 5404, 5405, 5406, 5421, 5422, 5423, 5424, 5425, 5426, 5427, 5428, 5429, 5430, 5431, 5432, 5433, 5434, 5435, 5436, 5437, 5438, 5439, 5440, 5441, 5442, 5443, 5444, 5445, 5446, 5447, 5448, 5449, 5450, 5451, 5452, 5453, 5454, 5455, 5456, 5457, 5458, 5459, 5461, 5462, 5463, 5464, 5465, 5466, 5467, 5468, 5469, 5470, 5471, 5472, 5473, 5474, 5475, 5476, 5477, 5478, 5479, 5480, 5481, 5482, 5483, 5484, 5485, 5486, 5487, 5488, 5503, 5504, 5505, 5506, 5507, 5508, 5509, 5510, 5511, 5512, 5513, 5514, 5515, 5516, 5517, 5518, 5519, 5520, 5521, 5522, 5523, 5524, 5525, 5526, 5527, 5528, 5529, 5530, 5531, 5532, 5533, 5534, 5535, 5536, 5537, 5538, 5539, 5541, 5542, 5543, 5544, 5545, 5546, 5547, 5548, 5549, 5550, 5551, 5552, 5553, 5554, 5555, 5556, 5557, 5558, 5559, 5560, 5561, 5562, 5563, 5564, 5565, 5566, 5567, 5568, 5569, 5570, 5585, 5586, 5587, 5588, 5589, 5590, 5591, 5592, 5593, 5594, 5595, 5596, 5597, 5598, 5599, 5600, 5601, 5602, 5603, 5604, 5605, 5606, 5607, 5608, 5609, 5610, 5611, 5612, 5613, 5614, 5615, 5616, 5617, 5618, 5619, 5621, 5622, 5623, 5624, 5625, 5626, 5627, 5628, 5629, 5630, 5631, 5632, 5633, 5634, 5635, 5636, 5637, 5638, 5639, 5640, 5641, 5642, 5643, 5644, 5645, 5646, 5647, 5648, 5649, 5650, 5651, 5652, 5668, 5669, 5670, 5671, 5672, 5673, 5674, 5675, 5676, 5677, 5678, 5679, 5680, 5681, 5682, 5683, 5684, 5685, 5686, 5687, 5688, 5689, 5690, 5691, 5692, 5693, 5694, 5695, 5696, 5697, 5698, 5699, 5701, 5702, 5703, 5704, 5705, 5706, 5707, 5708, 5709, 5710, 5711, 5712, 5713, 5714, 5715, 5716, 5717, 5718, 5719, 5720, 5721, 5722, 5723, 5724, 5725, 5726, 5727, 5728, 5729, 5730, 5731, 5732, 5733, 5750, 5751, 5752, 5753, 5754, 5755, 5756, 5757, 5758, 5759, 5760, 5761, 5762, 5763, 5764, 5765, 5766, 5767, 5768, 5769, 5770, 5771, 5772, 5773, 5774, 5775, 5776, 5777, 5778, 5779, 5781, 5782, 5783, 5784, 5785, 5786, 5787, 5788, 5789, 5790, 5791, 5792, 5793, 5794, 5795, 5796, 5797, 5798, 5799, 5800, 5801, 5802, 5803, 5804, 5805, 5806, 5807, 5808, 5809, 5810, 5811, 5812, 5813, 5814, 5815, 5832, 5833, 5834, 5835, 5836, 5837, 5838, 5839, 5840, 5841, 5842, 5843, 5844, 5845, 5846, 5847, 5848, 5849, 5850, 5851, 5852, 5853, 5854, 5855, 5856, 5857, 5858, 5859, 5861, 5862, 5863, 5864, 5865, 5866, 5867, 5868, 5869, 5870, 5871, 5872, 5873, 5874, 5875, 5876, 5877, 5878, 5879, 5880, 5881, 5882, 5883, 5884, 5885, 5886, 5887, 5888, 5889, 5890, 5891, 5892, 5893, 5894, 5895, 5896, 5897, 5913, 5914, 5915, 5916, 5917, 5918, 5919, 5920, 5921, 5922, 5923, 5924, 5925, 5926, 5927, 5928, 5929, 5930, 5931, 5932, 5933, 5934, 5935, 5936, 5937, 5938, 5939, 5941, 5942, 5943, 5944, 5945, 5946, 5947, 5948, 5949, 5950, 5951, 5952, 5953, 5954, 5955, 5956, 5957, 5958, 5959, 5960, 5961, 5962, 5963, 5964, 5965, 5966, 5967, 5968, 5969, 5970, 5971, 5972, 5973, 5974, 5975, 5976, 5977, 5978, 5994, 5995, 5996, 5997, 5998, 5999, 6000, 6001, 6002, 6003, 6004, 6005, 6006, 6007, 6008, 6009, 6010, 6011, 6012, 6013, 6014, 6015, 6016, 6017, 6018, 6019, 6021, 6022, 6023, 6024, 6025, 6026, 6027, 6028, 6029, 6030, 6031, 6032, 6033, 6034, 6035, 6036, 6037, 6038, 6039, 6040, 6041, 6042, 6043, 6044, 6045, 6046, 6047, 6048, 6049, 6050, 6051, 6052, 6053, 6054, 6055, 6056, 6057, 6058, 6059, 6060, 6075, 6076, 6077, 6078, 6079, 6080, 6081, 6082, 6083, 6084, 6085, 6086, 6087, 6088, 6089, 6090, 6091, 6092, 6093, 6094, 6095, 6096, 6097, 6098, 6099, 6101, 6102, 6103, 6104, 6105, 6106, 6107, 6108, 6109, 6110, 6111, 6112, 6113, 6114, 6115, 6116, 6117, 6118, 6119, 6120, 6121, 6122, 6123, 6124, 6125, 6126, 6127, 6128, 6129, 6130, 6131, 6132, 6133, 6134, 6135, 6136, 6137, 6138, 6139, 6140, 6141, 6142, 6156, 6157, 6158, 6159, 6160, 6161, 6162, 6163, 6164, 6165, 6166, 6167, 6168, 6169, 6170, 6171, 6172, 6173, 6174, 6175, 6176, 6177, 6178, 6179, 6181, 6182, 6183, 6184, 6185, 6186, 6187, 6188, 6189, 6190, 6191, 6192, 6193, 6194, 6195, 6196, 6197, 6198, 6199, 6200, 6201, 6202, 6203, 6204, 6205, 6206, 6207, 6208, 6209, 6210, 6211, 6212, 6213, 6214, 6215, 6216, 6217, 6218, 6219, 6220, 6221, 6222, 6223, 6224, 6237, 6238, 6239, 6240, 6241, 6242, 6243, 6244, 6245, 6246, 6247, 6248, 6249, 6250, 6251, 6252, 6253, 6254, 6255, 6256, 6257, 6258, 6259, 6261, 6262, 6263, 6264, 6265, 6266, 6267, 6268, 6269, 6270, 6271, 6272, 6273, 6274, 6275, 6276, 6277, 6278, 6279, 6280, 6281, 6282, 6283, 6284, 6285, 6286, 6287, 6288, 6289, 6290, 6291, 6292, 6293, 6294, 6295, 6296, 6297, 6298, 6299, 6300, 6301, 6302, 6303, 6304, 6305, 6318, 6319, 6320, 6321, 6322, 6323, 6324, 6325, 6326, 6327, 6328, 6329, 6330, 6331, 6332, 6333, 6334, 6335, 6336, 6337, 6338, 6339, 6341, 6342, 6343, 6344, 6345, 6346, 6347, 6348, 6349, 6350, 6351, 6352, 6353, 6354, 6355, 6356, 6357, 6358, 6359, 6360, 6361, 6362, 6363, 6364, 6365, 6366, 6367, 6368, 6369, 6370, 6371, 6372, 6373, 6374, 6375, 6376, 6377, 6378, 6379, 6380, 6381, 6382, 6383, 6384, 6385, 6386, 6387, 6399, 6400, 6401, 6402, 6403, 6404, 6405, 6406, 6407, 6408, 6409, 6410, 6411, 6412, 6413, 6414, 6415, 6416, 6417, 6418, 6419, 6421, 6422, 6423, 6424, 6425, 6426, 6427, 6428, 6429, 6430, 6431, 6432, 6433, 6434, 6435, 6436, 6437, 6438, 6439, 6440, 6441, 6442, 6443, 6444, 6445, 6446, 6447, 6448, 6449, 6450, 6451, 6452, 6453, 6454, 6455, 6456, 6457, 6458, 6459, 6460, 6461, 6462, 6463, 6464, 6465, 6466, 6467, 6468, 6469, 6480, 6481, 6482, 6483, 6484, 6485, 6486, 6487, 6488, 6489, 6490, 6491, 6492, 6493, 6494, 6495, 6496, 6497, 6498, 6499, 6501, 6502, 6503, 6504, 6505, 6506, 6507, 6508, 6509, 6510, 6511, 6512, 6513, 6514, 6515, 6516, 6517, 6518, 6519, 6520, 6521, 6522, 6523, 6524, 6525, 6526, 6527, 6528, 6529, 6530, 6531, 6532, 6533, 6534, 6535, 6536, 6537, 6538, 6539, 6540, 6541, 6542, 6543, 6544, 6545, 6546, 6547, 6548, 6549, 6550, 6551]\n",
      "val ids:  []\n",
      "test ids:  [0, 1, 2, 3, 4, 5, 6, 7, 8, 9, 10, 11, 12, 40, 81, 82, 83, 84, 85, 86, 87, 88, 89, 90, 91, 92, 93, 94, 120, 162, 163, 164, 165, 166, 167, 168, 169, 170, 171, 172, 173, 174, 175, 200, 243, 244, 245, 246, 247, 248, 249, 250, 251, 252, 253, 254, 255, 256, 257, 280, 324, 325, 326, 327, 328, 329, 330, 331, 332, 333, 334, 335, 336, 337, 338, 339, 360, 405, 406, 407, 408, 409, 410, 411, 412, 413, 414, 415, 416, 417, 418, 419, 420, 421, 440, 486, 487, 488, 489, 490, 491, 492, 493, 494, 495, 496, 497, 498, 499, 500, 501, 502, 520, 567, 568, 569, 570, 571, 572, 573, 574, 575, 576, 577, 578, 579, 580, 581, 582, 583, 584, 600, 648, 649, 650, 651, 652, 653, 654, 655, 656, 657, 658, 659, 660, 661, 662, 663, 664, 665, 666, 680, 729, 730, 731, 732, 733, 734, 735, 736, 737, 738, 739, 740, 741, 742, 743, 744, 745, 746, 747, 748, 760, 810, 811, 812, 813, 814, 815, 816, 817, 818, 819, 820, 821, 822, 823, 824, 825, 826, 827, 828, 829, 840, 891, 892, 893, 894, 895, 896, 897, 898, 899, 900, 901, 902, 903, 904, 905, 906, 907, 908, 909, 910, 911, 920, 972, 973, 974, 975, 976, 977, 978, 979, 980, 981, 982, 983, 984, 985, 986, 987, 988, 989, 990, 991, 992, 993, 1000, 1053, 1054, 1055, 1056, 1057, 1058, 1059, 1060, 1061, 1062, 1063, 1064, 1065, 1066, 1067, 1068, 1069, 1070, 1071, 1072, 1073, 1074, 1075, 1080, 1135, 1136, 1137, 1138, 1139, 1140, 1141, 1142, 1143, 1144, 1145, 1146, 1147, 1148, 1149, 1150, 1151, 1152, 1153, 1154, 1155, 1156, 1160, 1217, 1218, 1219, 1220, 1221, 1222, 1223, 1224, 1225, 1226, 1227, 1228, 1229, 1230, 1231, 1232, 1233, 1234, 1235, 1236, 1237, 1238, 1240, 1300, 1301, 1302, 1303, 1304, 1305, 1306, 1307, 1308, 1309, 1310, 1311, 1312, 1313, 1314, 1315, 1316, 1317, 1318, 1319, 1320, 1382, 1383, 1384, 1385, 1386, 1387, 1388, 1389, 1390, 1391, 1392, 1393, 1394, 1395, 1396, 1397, 1398, 1399, 1400, 1401, 1465, 1466, 1467, 1468, 1469, 1470, 1471, 1472, 1473, 1474, 1475, 1476, 1477, 1478, 1479, 1480, 1481, 1482, 1483, 1547, 1548, 1549, 1550, 1551, 1552, 1553, 1554, 1555, 1556, 1557, 1558, 1559, 1560, 1561, 1562, 1563, 1564, 1565, 1629, 1630, 1631, 1632, 1633, 1634, 1635, 1636, 1637, 1638, 1639, 1640, 1641, 1642, 1643, 1644, 1645, 1646, 1647, 1700, 1712, 1713, 1714, 1715, 1716, 1717, 1718, 1719, 1720, 1721, 1722, 1723, 1724, 1725, 1726, 1727, 1728, 1780, 1794, 1795, 1796, 1797, 1798, 1799, 1800, 1801, 1802, 1803, 1804, 1805, 1806, 1807, 1808, 1809, 1810, 1860, 1877, 1878, 1879, 1880, 1881, 1882, 1883, 1884, 1885, 1886, 1887, 1888, 1889, 1890, 1891, 1892, 1940, 1959, 1960, 1961, 1962, 1963, 1964, 1965, 1966, 1967, 1968, 1969, 1970, 1971, 1972, 1973, 1974, 2020, 2040, 2041, 2042, 2043, 2044, 2045, 2046, 2047, 2048, 2049, 2050, 2051, 2052, 2053, 2054, 2055, 2100, 2120, 2124, 2125, 2126, 2127, 2128, 2129, 2130, 2131, 2132, 2133, 2134, 2135, 2136, 2137, 2180, 2200, 2206, 2207, 2208, 2209, 2210, 2211, 2212, 2213, 2214, 2215, 2216, 2217, 2218, 2219, 2260, 2280, 2289, 2290, 2291, 2292, 2293, 2294, 2295, 2296, 2297, 2298, 2299, 2300, 2340, 2360, 2371, 2372, 2373, 2374, 2375, 2376, 2377, 2378, 2379, 2380, 2381, 2382, 2420, 2440, 2454, 2455, 2456, 2457, 2458, 2459, 2460, 2461, 2462, 2463, 2464, 2500, 2520, 2536, 2537, 2538, 2539, 2540, 2541, 2542, 2543, 2544, 2545, 2546, 2580, 2600, 2618, 2619, 2620, 2621, 2622, 2623, 2624, 2625, 2626, 2627, 2660, 2680, 2701, 2702, 2703, 2704, 2705, 2706, 2707, 2708, 2709, 2740, 2760, 2783, 2784, 2785, 2786, 2787, 2788, 2789, 2790, 2791, 2820, 2840, 2866, 2867, 2868, 2869, 2870, 2871, 2872, 2873, 2900, 2920, 2948, 2949, 2950, 2951, 2952, 2953, 2954, 2980, 3000, 3030, 3031, 3032, 3033, 3034, 3035, 3036, 3060, 3080, 3113, 3114, 3115, 3116, 3117, 3118, 3140, 3160, 3195, 3196, 3197, 3198, 3199, 3200, 3220, 3240, 3278, 3279, 3280, 3281, 3300, 3360, 3361, 3362, 3363, 3380, 3443, 3444, 3445, 3460, 3525, 3526, 3540, 3607, 3608, 3620, 3690, 3700, 3772, 3780, 3854, 3860, 3936, 3940, 4018, 4019, 4020, 4099, 4100, 4101, 4180, 4181, 4182, 4183, 4260, 4263, 4264, 4265, 4266, 4340, 4345, 4346, 4347, 4348, 4420, 4427, 4428, 4429, 4430, 4431, 4500, 4508, 4509, 4510, 4511, 4512, 4513, 4580, 4590, 4591, 4592, 4593, 4594, 4595, 4660, 4672, 4673, 4674, 4675, 4676, 4677, 4678, 4740, 4753, 4754, 4755, 4756, 4757, 4758, 4759, 4760, 4820, 4835, 4836, 4837, 4838, 4839, 4840, 4841, 4842, 4843, 4900, 4917, 4918, 4919, 4920, 4921, 4922, 4923, 4924, 4925, 4980, 4999, 5000, 5001, 5002, 5003, 5004, 5005, 5006, 5007, 5060, 5080, 5081, 5082, 5083, 5084, 5085, 5086, 5087, 5088, 5089, 5090, 5140, 5162, 5163, 5164, 5165, 5166, 5167, 5168, 5169, 5170, 5171, 5172, 5220, 5244, 5245, 5246, 5247, 5248, 5249, 5250, 5251, 5252, 5253, 5254, 5255, 5300, 5326, 5327, 5328, 5329, 5330, 5331, 5332, 5333, 5334, 5335, 5336, 5337, 5380, 5407, 5408, 5409, 5410, 5411, 5412, 5413, 5414, 5415, 5416, 5417, 5418, 5419, 5420, 5460, 5489, 5490, 5491, 5492, 5493, 5494, 5495, 5496, 5497, 5498, 5499, 5500, 5501, 5502, 5540, 5571, 5572, 5573, 5574, 5575, 5576, 5577, 5578, 5579, 5580, 5581, 5582, 5583, 5584, 5620, 5653, 5654, 5655, 5656, 5657, 5658, 5659, 5660, 5661, 5662, 5663, 5664, 5665, 5666, 5667, 5700, 5734, 5735, 5736, 5737, 5738, 5739, 5740, 5741, 5742, 5743, 5744, 5745, 5746, 5747, 5748, 5749, 5780, 5816, 5817, 5818, 5819, 5820, 5821, 5822, 5823, 5824, 5825, 5826, 5827, 5828, 5829, 5830, 5831, 5860, 5898, 5899, 5900, 5901, 5902, 5903, 5904, 5905, 5906, 5907, 5908, 5909, 5910, 5911, 5912, 5940, 5979, 5980, 5981, 5982, 5983, 5984, 5985, 5986, 5987, 5988, 5989, 5990, 5991, 5992, 5993, 6020, 6061, 6062, 6063, 6064, 6065, 6066, 6067, 6068, 6069, 6070, 6071, 6072, 6073, 6074, 6100, 6143, 6144, 6145, 6146, 6147, 6148, 6149, 6150, 6151, 6152, 6153, 6154, 6155, 6180, 6225, 6226, 6227, 6228, 6229, 6230, 6231, 6232, 6233, 6234, 6235, 6236, 6260, 6306, 6307, 6308, 6309, 6310, 6311, 6312, 6313, 6314, 6315, 6316, 6317, 6340, 6388, 6389, 6390, 6391, 6392, 6393, 6394, 6395, 6396, 6397, 6398, 6420, 6470, 6471, 6472, 6473, 6474, 6475, 6476, 6477, 6478, 6479, 6500, 6552, 6553, 6554, 6555, 6556, 6557, 6558, 6559, 6560]\n",
      "CPU times: user 169 ms, sys: 23.5 ms, total: 192 ms\n",
      "Wall time: 191 ms\n"
     ]
    }
   ],
   "source": [
    "%%time\n",
    "n_total = len(simulation.dataframe)\n",
    "n_train = len(simulation.dataframe[simulation.dataframe.type_of == \"train\"])\n",
    "n_val = len(simulation.dataframe[simulation.dataframe.type_of == \"val\"])\n",
    "n_test = len(simulation.dataframe[simulation.dataframe.type_of == \"test\"])\n",
    "n_train_hamiltonians = len(simulation.train_ids)\n",
    "n_val_hamiltonians = len(simulation.val_ids)\n",
    "n_test_hamiltonians = len(simulation.test_ids)\n",
    "n_total_hamiltonians = n_train_hamiltonians + n_val_hamiltonians + n_test_hamiltonians\n",
    "\n",
    "print(\"% train: \", n_train/n_total)\n",
    "print(\"% val: \",  n_val/n_total)\n",
    "print(\"% test: \", n_test/n_total)\n",
    "print(\"% train + val + test: \", (n_train+n_val+n_test)/n_total)\n",
    "print(\"\\n\")\n",
    "print(\"number of train hamiltonians: \", n_train_hamiltonians)\n",
    "print(\"number of val hamiltonians: \", n_val_hamiltonians)\n",
    "print(\"number of test hamiltonians: \", n_test_hamiltonians)\n",
    "print(\"total number of hamiltonians: \", n_total_hamiltonians)\n",
    "print(\"\\n\")\n",
    "print(\"train ids: \", simulation.train_ids)\n",
    "print(\"val ids: \", simulation.val_ids)\n",
    "print(\"test ids: \", simulation.test_ids)"
   ]
  },
  {
   "cell_type": "markdown",
   "metadata": {
    "papermill": {
     "duration": 0.018492,
     "end_time": "2020-07-18T08:38:53.135751",
     "exception": false,
     "start_time": "2020-07-18T08:38:53.117259",
     "status": "completed"
    },
    "tags": []
   },
   "source": [
    "## Running a simulation"
   ]
  },
  {
   "cell_type": "code",
   "execution_count": 27,
   "metadata": {
    "execution": {
     "iopub.execute_input": "2020-07-18T08:38:53.175495Z",
     "iopub.status.busy": "2020-07-18T08:38:53.175179Z",
     "iopub.status.idle": "2020-07-18T09:32:38.445493Z",
     "shell.execute_reply": "2020-07-18T09:32:38.445801Z"
    },
    "papermill": {
     "duration": 3225.291179,
     "end_time": "2020-07-18T09:32:38.445866",
     "exception": false,
     "start_time": "2020-07-18T08:38:53.154687",
     "status": "completed"
    },
    "tags": []
   },
   "outputs": [
    {
     "name": "stderr",
     "output_type": "stream",
     "text": [
      "\r",
      "running experiments:   0%|          | 0/100 [00:00<?, ?it/s]"
     ]
    },
    {
     "name": "stdout",
     "output_type": "stream",
     "text": [
      "Simulation mode:  dst\n"
     ]
    },
    {
     "name": "stderr",
     "output_type": "stream",
     "text": [
      "\r",
      "running experiments:   1%|          | 1/100 [00:32<53:16, 32.28s/it]"
     ]
    },
    {
     "name": "stderr",
     "output_type": "stream",
     "text": [
      "\r",
      "running experiments:   2%|▏         | 2/100 [01:04<52:55, 32.40s/it]"
     ]
    },
    {
     "name": "stderr",
     "output_type": "stream",
     "text": [
      "\r",
      "running experiments:   3%|▎         | 3/100 [01:37<52:22, 32.39s/it]"
     ]
    },
    {
     "name": "stderr",
     "output_type": "stream",
     "text": [
      "\r",
      "running experiments:   4%|▍         | 4/100 [02:10<52:06, 32.57s/it]"
     ]
    },
    {
     "name": "stderr",
     "output_type": "stream",
     "text": [
      "\r",
      "running experiments:   5%|▌         | 5/100 [02:42<51:28, 32.51s/it]"
     ]
    },
    {
     "name": "stderr",
     "output_type": "stream",
     "text": [
      "\r",
      "running experiments:   6%|▌         | 6/100 [03:15<50:52, 32.47s/it]"
     ]
    },
    {
     "name": "stderr",
     "output_type": "stream",
     "text": [
      "\r",
      "running experiments:   7%|▋         | 7/100 [03:47<50:14, 32.41s/it]"
     ]
    },
    {
     "name": "stderr",
     "output_type": "stream",
     "text": [
      "\r",
      "running experiments:   8%|▊         | 8/100 [04:19<49:29, 32.28s/it]"
     ]
    },
    {
     "name": "stderr",
     "output_type": "stream",
     "text": [
      "\r",
      "running experiments:   9%|▉         | 9/100 [04:51<48:54, 32.25s/it]"
     ]
    },
    {
     "name": "stderr",
     "output_type": "stream",
     "text": [
      "\r",
      "running experiments:  10%|█         | 10/100 [05:23<48:15, 32.17s/it]"
     ]
    },
    {
     "name": "stderr",
     "output_type": "stream",
     "text": [
      "\r",
      "running experiments:  11%|█         | 11/100 [05:56<47:56, 32.32s/it]"
     ]
    },
    {
     "name": "stderr",
     "output_type": "stream",
     "text": [
      "\r",
      "running experiments:  12%|█▏        | 12/100 [06:28<47:23, 32.31s/it]"
     ]
    },
    {
     "name": "stderr",
     "output_type": "stream",
     "text": [
      "\r",
      "running experiments:  13%|█▎        | 13/100 [07:00<46:44, 32.24s/it]"
     ]
    },
    {
     "name": "stderr",
     "output_type": "stream",
     "text": [
      "\r",
      "running experiments:  14%|█▍        | 14/100 [07:33<46:36, 32.52s/it]"
     ]
    },
    {
     "name": "stderr",
     "output_type": "stream",
     "text": [
      "\r",
      "running experiments:  15%|█▌        | 15/100 [08:05<45:48, 32.34s/it]"
     ]
    },
    {
     "name": "stderr",
     "output_type": "stream",
     "text": [
      "\r",
      "running experiments:  16%|█▌        | 16/100 [08:37<45:05, 32.21s/it]"
     ]
    },
    {
     "name": "stderr",
     "output_type": "stream",
     "text": [
      "\r",
      "running experiments:  17%|█▋        | 17/100 [09:09<44:25, 32.12s/it]"
     ]
    },
    {
     "name": "stderr",
     "output_type": "stream",
     "text": [
      "\r",
      "running experiments:  18%|█▊        | 18/100 [09:41<43:58, 32.18s/it]"
     ]
    },
    {
     "name": "stderr",
     "output_type": "stream",
     "text": [
      "\r",
      "running experiments:  19%|█▉        | 19/100 [10:14<43:41, 32.37s/it]"
     ]
    },
    {
     "name": "stderr",
     "output_type": "stream",
     "text": [
      "\r",
      "running experiments:  20%|██        | 20/100 [10:47<43:14, 32.43s/it]"
     ]
    },
    {
     "name": "stderr",
     "output_type": "stream",
     "text": [
      "\r",
      "running experiments:  21%|██        | 21/100 [11:20<43:04, 32.72s/it]"
     ]
    },
    {
     "name": "stderr",
     "output_type": "stream",
     "text": [
      "\r",
      "running experiments:  22%|██▏       | 22/100 [11:53<42:27, 32.66s/it]"
     ]
    },
    {
     "name": "stderr",
     "output_type": "stream",
     "text": [
      "\r",
      "running experiments:  23%|██▎       | 23/100 [12:25<41:45, 32.54s/it]"
     ]
    },
    {
     "name": "stderr",
     "output_type": "stream",
     "text": [
      "\r",
      "running experiments:  24%|██▍       | 24/100 [12:58<41:17, 32.60s/it]"
     ]
    },
    {
     "name": "stderr",
     "output_type": "stream",
     "text": [
      "\r",
      "running experiments:  25%|██▌       | 25/100 [13:30<40:32, 32.43s/it]"
     ]
    },
    {
     "name": "stderr",
     "output_type": "stream",
     "text": [
      "\r",
      "running experiments:  26%|██▌       | 26/100 [14:02<39:56, 32.39s/it]"
     ]
    },
    {
     "name": "stderr",
     "output_type": "stream",
     "text": [
      "\r",
      "running experiments:  27%|██▋       | 27/100 [14:34<39:19, 32.33s/it]"
     ]
    },
    {
     "name": "stderr",
     "output_type": "stream",
     "text": [
      "\r",
      "running experiments:  28%|██▊       | 28/100 [15:07<38:50, 32.37s/it]"
     ]
    },
    {
     "name": "stderr",
     "output_type": "stream",
     "text": [
      "\r",
      "running experiments:  29%|██▉       | 29/100 [15:38<38:02, 32.15s/it]"
     ]
    },
    {
     "name": "stderr",
     "output_type": "stream",
     "text": [
      "\r",
      "running experiments:  30%|███       | 30/100 [16:10<37:22, 32.04s/it]"
     ]
    },
    {
     "name": "stderr",
     "output_type": "stream",
     "text": [
      "\r",
      "running experiments:  31%|███       | 31/100 [16:42<36:59, 32.16s/it]"
     ]
    },
    {
     "name": "stderr",
     "output_type": "stream",
     "text": [
      "\r",
      "running experiments:  32%|███▏      | 32/100 [17:14<36:14, 31.98s/it]"
     ]
    },
    {
     "name": "stderr",
     "output_type": "stream",
     "text": [
      "\r",
      "running experiments:  33%|███▎      | 33/100 [17:46<35:54, 32.15s/it]"
     ]
    },
    {
     "name": "stderr",
     "output_type": "stream",
     "text": [
      "\r",
      "running experiments:  34%|███▍      | 34/100 [18:18<35:16, 32.07s/it]"
     ]
    },
    {
     "name": "stderr",
     "output_type": "stream",
     "text": [
      "\r",
      "running experiments:  35%|███▌      | 35/100 [18:51<34:50, 32.17s/it]"
     ]
    },
    {
     "name": "stderr",
     "output_type": "stream",
     "text": [
      "\r",
      "running experiments:  36%|███▌      | 36/100 [19:23<34:29, 32.34s/it]"
     ]
    },
    {
     "name": "stderr",
     "output_type": "stream",
     "text": [
      "\r",
      "running experiments:  37%|███▋      | 37/100 [19:55<33:48, 32.19s/it]"
     ]
    },
    {
     "name": "stderr",
     "output_type": "stream",
     "text": [
      "\r",
      "running experiments:  38%|███▊      | 38/100 [20:27<33:14, 32.17s/it]"
     ]
    },
    {
     "name": "stderr",
     "output_type": "stream",
     "text": [
      "\r",
      "running experiments:  39%|███▉      | 39/100 [20:59<32:38, 32.10s/it]"
     ]
    },
    {
     "name": "stderr",
     "output_type": "stream",
     "text": [
      "\r",
      "running experiments:  40%|████      | 40/100 [21:31<32:01, 32.02s/it]"
     ]
    },
    {
     "name": "stderr",
     "output_type": "stream",
     "text": [
      "\r",
      "running experiments:  41%|████      | 41/100 [22:04<31:42, 32.25s/it]"
     ]
    },
    {
     "name": "stderr",
     "output_type": "stream",
     "text": [
      "\r",
      "running experiments:  42%|████▏     | 42/100 [22:37<31:17, 32.37s/it]"
     ]
    },
    {
     "name": "stderr",
     "output_type": "stream",
     "text": [
      "\r",
      "running experiments:  43%|████▎     | 43/100 [23:09<30:43, 32.35s/it]"
     ]
    },
    {
     "name": "stderr",
     "output_type": "stream",
     "text": [
      "\r",
      "running experiments:  44%|████▍     | 44/100 [23:41<30:02, 32.19s/it]"
     ]
    },
    {
     "name": "stderr",
     "output_type": "stream",
     "text": [
      "\r",
      "running experiments:  45%|████▌     | 45/100 [24:13<29:31, 32.21s/it]"
     ]
    },
    {
     "name": "stderr",
     "output_type": "stream",
     "text": [
      "\r",
      "running experiments:  46%|████▌     | 46/100 [24:45<28:55, 32.13s/it]"
     ]
    },
    {
     "name": "stderr",
     "output_type": "stream",
     "text": [
      "\r",
      "running experiments:  47%|████▋     | 47/100 [25:17<28:19, 32.07s/it]"
     ]
    },
    {
     "name": "stderr",
     "output_type": "stream",
     "text": [
      "\r",
      "running experiments:  48%|████▊     | 48/100 [25:49<27:50, 32.13s/it]"
     ]
    },
    {
     "name": "stderr",
     "output_type": "stream",
     "text": [
      "\r",
      "running experiments:  49%|████▉     | 49/100 [26:21<27:20, 32.16s/it]"
     ]
    },
    {
     "name": "stderr",
     "output_type": "stream",
     "text": [
      "\r",
      "running experiments:  50%|█████     | 50/100 [26:54<26:56, 32.34s/it]"
     ]
    },
    {
     "name": "stderr",
     "output_type": "stream",
     "text": [
      "\r",
      "running experiments:  51%|█████     | 51/100 [27:27<26:24, 32.34s/it]"
     ]
    },
    {
     "name": "stderr",
     "output_type": "stream",
     "text": [
      "\r",
      "running experiments:  52%|█████▏    | 52/100 [27:59<25:54, 32.38s/it]"
     ]
    },
    {
     "name": "stderr",
     "output_type": "stream",
     "text": [
      "\r",
      "running experiments:  53%|█████▎    | 53/100 [28:31<25:17, 32.28s/it]"
     ]
    },
    {
     "name": "stderr",
     "output_type": "stream",
     "text": [
      "\r",
      "running experiments:  54%|█████▍    | 54/100 [29:03<24:42, 32.24s/it]"
     ]
    },
    {
     "name": "stderr",
     "output_type": "stream",
     "text": [
      "\r",
      "running experiments:  55%|█████▌    | 55/100 [29:35<24:10, 32.24s/it]"
     ]
    },
    {
     "name": "stderr",
     "output_type": "stream",
     "text": [
      "\r",
      "running experiments:  56%|█████▌    | 56/100 [30:07<23:34, 32.16s/it]"
     ]
    },
    {
     "name": "stderr",
     "output_type": "stream",
     "text": [
      "\r",
      "running experiments:  57%|█████▋    | 57/100 [30:40<23:03, 32.18s/it]"
     ]
    },
    {
     "name": "stderr",
     "output_type": "stream",
     "text": [
      "\r",
      "running experiments:  58%|█████▊    | 58/100 [31:12<22:31, 32.18s/it]"
     ]
    },
    {
     "name": "stderr",
     "output_type": "stream",
     "text": [
      "\r",
      "running experiments:  59%|█████▉    | 59/100 [31:44<22:00, 32.20s/it]"
     ]
    },
    {
     "name": "stderr",
     "output_type": "stream",
     "text": [
      "\r",
      "running experiments:  60%|██████    | 60/100 [32:16<21:24, 32.10s/it]"
     ]
    },
    {
     "name": "stderr",
     "output_type": "stream",
     "text": [
      "\r",
      "running experiments:  61%|██████    | 61/100 [32:48<20:49, 32.03s/it]"
     ]
    },
    {
     "name": "stderr",
     "output_type": "stream",
     "text": [
      "\r",
      "running experiments:  62%|██████▏   | 62/100 [33:21<20:31, 32.40s/it]"
     ]
    },
    {
     "name": "stderr",
     "output_type": "stream",
     "text": [
      "\r",
      "running experiments:  63%|██████▎   | 63/100 [33:53<19:57, 32.36s/it]"
     ]
    },
    {
     "name": "stderr",
     "output_type": "stream",
     "text": [
      "\r",
      "running experiments:  64%|██████▍   | 64/100 [34:27<19:39, 32.76s/it]"
     ]
    },
    {
     "name": "stderr",
     "output_type": "stream",
     "text": [
      "\r",
      "running experiments:  65%|██████▌   | 65/100 [34:59<19:00, 32.58s/it]"
     ]
    },
    {
     "name": "stderr",
     "output_type": "stream",
     "text": [
      "\r",
      "running experiments:  66%|██████▌   | 66/100 [35:31<18:22, 32.42s/it]"
     ]
    },
    {
     "name": "stderr",
     "output_type": "stream",
     "text": [
      "\r",
      "running experiments:  67%|██████▋   | 67/100 [36:03<17:48, 32.37s/it]"
     ]
    },
    {
     "name": "stderr",
     "output_type": "stream",
     "text": [
      "\r",
      "running experiments:  68%|██████▊   | 68/100 [36:36<17:13, 32.29s/it]"
     ]
    },
    {
     "name": "stderr",
     "output_type": "stream",
     "text": [
      "\r",
      "running experiments:  69%|██████▉   | 69/100 [37:07<16:33, 32.04s/it]"
     ]
    },
    {
     "name": "stderr",
     "output_type": "stream",
     "text": [
      "\r",
      "running experiments:  70%|███████   | 70/100 [37:40<16:05, 32.19s/it]"
     ]
    },
    {
     "name": "stderr",
     "output_type": "stream",
     "text": [
      "\r",
      "running experiments:  71%|███████   | 71/100 [38:12<15:36, 32.28s/it]"
     ]
    },
    {
     "name": "stderr",
     "output_type": "stream",
     "text": [
      "\r",
      "running experiments:  72%|███████▏  | 72/100 [38:45<15:07, 32.43s/it]"
     ]
    },
    {
     "name": "stderr",
     "output_type": "stream",
     "text": [
      "\r",
      "running experiments:  73%|███████▎  | 73/100 [39:17<14:32, 32.31s/it]"
     ]
    },
    {
     "name": "stderr",
     "output_type": "stream",
     "text": [
      "\r",
      "running experiments:  74%|███████▍  | 74/100 [39:49<13:58, 32.26s/it]"
     ]
    },
    {
     "name": "stderr",
     "output_type": "stream",
     "text": [
      "\r",
      "running experiments:  75%|███████▌  | 75/100 [40:21<13:21, 32.07s/it]"
     ]
    },
    {
     "name": "stderr",
     "output_type": "stream",
     "text": [
      "\r",
      "running experiments:  76%|███████▌  | 76/100 [40:53<12:49, 32.06s/it]"
     ]
    },
    {
     "name": "stderr",
     "output_type": "stream",
     "text": [
      "\r",
      "running experiments:  77%|███████▋  | 77/100 [41:26<12:24, 32.39s/it]"
     ]
    },
    {
     "name": "stderr",
     "output_type": "stream",
     "text": [
      "\r",
      "running experiments:  78%|███████▊  | 78/100 [41:58<11:49, 32.24s/it]"
     ]
    },
    {
     "name": "stderr",
     "output_type": "stream",
     "text": [
      "\r",
      "running experiments:  79%|███████▉  | 79/100 [42:30<11:16, 32.21s/it]"
     ]
    },
    {
     "name": "stderr",
     "output_type": "stream",
     "text": [
      "\r",
      "running experiments:  80%|████████  | 80/100 [43:02<10:42, 32.15s/it]"
     ]
    },
    {
     "name": "stderr",
     "output_type": "stream",
     "text": [
      "\r",
      "running experiments:  81%|████████  | 81/100 [43:34<10:13, 32.28s/it]"
     ]
    },
    {
     "name": "stderr",
     "output_type": "stream",
     "text": [
      "\r",
      "running experiments:  82%|████████▏ | 82/100 [44:06<09:36, 32.03s/it]"
     ]
    },
    {
     "name": "stderr",
     "output_type": "stream",
     "text": [
      "\r",
      "running experiments:  83%|████████▎ | 83/100 [44:38<09:04, 32.03s/it]"
     ]
    },
    {
     "name": "stderr",
     "output_type": "stream",
     "text": [
      "\r",
      "running experiments:  84%|████████▍ | 84/100 [45:11<08:35, 32.20s/it]"
     ]
    },
    {
     "name": "stderr",
     "output_type": "stream",
     "text": [
      "\r",
      "running experiments:  85%|████████▌ | 85/100 [45:43<08:03, 32.21s/it]"
     ]
    },
    {
     "name": "stderr",
     "output_type": "stream",
     "text": [
      "\r",
      "running experiments:  86%|████████▌ | 86/100 [46:16<07:33, 32.40s/it]"
     ]
    },
    {
     "name": "stderr",
     "output_type": "stream",
     "text": [
      "\r",
      "running experiments:  87%|████████▋ | 87/100 [46:48<07:00, 32.36s/it]"
     ]
    },
    {
     "name": "stderr",
     "output_type": "stream",
     "text": [
      "\r",
      "running experiments:  88%|████████▊ | 88/100 [47:20<06:27, 32.29s/it]"
     ]
    },
    {
     "name": "stderr",
     "output_type": "stream",
     "text": [
      "\r",
      "running experiments:  89%|████████▉ | 89/100 [47:52<05:55, 32.28s/it]"
     ]
    },
    {
     "name": "stderr",
     "output_type": "stream",
     "text": [
      "\r",
      "running experiments:  90%|█████████ | 90/100 [48:24<05:21, 32.15s/it]"
     ]
    },
    {
     "name": "stderr",
     "output_type": "stream",
     "text": [
      "\r",
      "running experiments:  91%|█████████ | 91/100 [48:56<04:49, 32.14s/it]"
     ]
    },
    {
     "name": "stderr",
     "output_type": "stream",
     "text": [
      "\r",
      "running experiments:  92%|█████████▏| 92/100 [49:28<04:16, 32.12s/it]"
     ]
    },
    {
     "name": "stderr",
     "output_type": "stream",
     "text": [
      "\r",
      "running experiments:  93%|█████████▎| 93/100 [50:01<03:45, 32.19s/it]"
     ]
    },
    {
     "name": "stderr",
     "output_type": "stream",
     "text": [
      "\r",
      "running experiments:  94%|█████████▍| 94/100 [50:32<03:12, 32.05s/it]"
     ]
    },
    {
     "name": "stderr",
     "output_type": "stream",
     "text": [
      "\r",
      "running experiments:  95%|█████████▌| 95/100 [51:05<02:40, 32.09s/it]"
     ]
    },
    {
     "name": "stderr",
     "output_type": "stream",
     "text": [
      "\r",
      "running experiments:  96%|█████████▌| 96/100 [51:36<02:07, 31.99s/it]"
     ]
    },
    {
     "name": "stderr",
     "output_type": "stream",
     "text": [
      "\r",
      "running experiments:  97%|█████████▋| 97/100 [52:08<01:35, 31.94s/it]"
     ]
    },
    {
     "name": "stderr",
     "output_type": "stream",
     "text": [
      "\r",
      "running experiments:  98%|█████████▊| 98/100 [52:41<01:04, 32.09s/it]"
     ]
    },
    {
     "name": "stderr",
     "output_type": "stream",
     "text": [
      "\r",
      "running experiments:  99%|█████████▉| 99/100 [53:13<00:32, 32.14s/it]"
     ]
    },
    {
     "name": "stderr",
     "output_type": "stream",
     "text": [
      "\r",
      "running experiments: 100%|██████████| 100/100 [53:45<00:00, 32.07s/it]"
     ]
    },
    {
     "name": "stderr",
     "output_type": "stream",
     "text": [
      "\r",
      "running experiments: 100%|██████████| 100/100 [53:45<00:00, 32.25s/it]"
     ]
    },
    {
     "name": "stdout",
     "output_type": "stream",
     "text": [
      "CPU times: user 5h 57min 50s, sys: 9.32 s, total: 5h 58min\n",
      "Wall time: 53min 45s\n"
     ]
    },
    {
     "name": "stderr",
     "output_type": "stream",
     "text": [
      "\n"
     ]
    }
   ],
   "source": [
    "\n",
    "%%time\n",
    "simulation.run_simulation(n_experiments, start_n, fit_params,shuffle_rows, pred_params, random_features, \\\n",
    "                          store_in_lists, save_eigenvector, save_hamiltonian, save_accuracy,\\\n",
    "                          save_models)\n",
    "if simulation.fourier_mode is not None:\n",
    "    simulation.fourier_dataframe.head(10)"
   ]
  },
  {
   "cell_type": "code",
   "execution_count": 28,
   "metadata": {
    "execution": {
     "iopub.execute_input": "2020-07-18T09:32:38.519488Z",
     "iopub.status.busy": "2020-07-18T09:32:38.519182Z",
     "iopub.status.idle": "2020-07-18T09:32:38.545220Z",
     "shell.execute_reply": "2020-07-18T09:32:38.544902Z"
    },
    "papermill": {
     "duration": 0.063472,
     "end_time": "2020-07-18T09:32:38.545270",
     "exception": false,
     "start_time": "2020-07-18T09:32:38.481798",
     "status": "completed"
    },
    "tags": []
   },
   "outputs": [
    {
     "data": {
      "text/html": [
       "<div>\n",
       "<style scoped>\n",
       "    .dataframe tbody tr th:only-of-type {\n",
       "        vertical-align: middle;\n",
       "    }\n",
       "\n",
       "    .dataframe tbody tr th {\n",
       "        vertical-align: top;\n",
       "    }\n",
       "\n",
       "    .dataframe thead th {\n",
       "        text-align: right;\n",
       "    }\n",
       "</style>\n",
       "<table border=\"1\" class=\"dataframe\">\n",
       "  <thead>\n",
       "    <tr style=\"text-align: right;\">\n",
       "      <th></th>\n",
       "      <th>id</th>\n",
       "      <th>path</th>\n",
       "      <th>t1</th>\n",
       "      <th>t2</th>\n",
       "      <th>winding</th>\n",
       "      <th>phase</th>\n",
       "      <th>pred_phase</th>\n",
       "      <th>type_of</th>\n",
       "      <th>feat0</th>\n",
       "      <th>feat1</th>\n",
       "      <th>...</th>\n",
       "      <th>feat90</th>\n",
       "      <th>feat91</th>\n",
       "      <th>feat92</th>\n",
       "      <th>feat93</th>\n",
       "      <th>feat94</th>\n",
       "      <th>feat95</th>\n",
       "      <th>feat96</th>\n",
       "      <th>feat97</th>\n",
       "      <th>feat98</th>\n",
       "      <th>feat99</th>\n",
       "    </tr>\n",
       "  </thead>\n",
       "  <tbody>\n",
       "    <tr>\n",
       "      <th>0</th>\n",
       "      <td>0</td>\n",
       "      <td>H_-2_-2_0.501338.dat</td>\n",
       "      <td>-2.0</td>\n",
       "      <td>-2.0</td>\n",
       "      <td>0.501338</td>\n",
       "      <td>999</td>\n",
       "      <td>666</td>\n",
       "      <td>test</td>\n",
       "      <td>-0.130965</td>\n",
       "      <td>0.301130</td>\n",
       "      <td>...</td>\n",
       "      <td>-0.080279</td>\n",
       "      <td>-0.115687</td>\n",
       "      <td>-0.174988</td>\n",
       "      <td>0.245064</td>\n",
       "      <td>0.319763</td>\n",
       "      <td>-0.059082</td>\n",
       "      <td>-0.000556</td>\n",
       "      <td>-0.245133</td>\n",
       "      <td>-0.301130</td>\n",
       "      <td>0.130965</td>\n",
       "    </tr>\n",
       "    <tr>\n",
       "      <th>1</th>\n",
       "      <td>0</td>\n",
       "      <td>H_-2_-2_0.501338.dat</td>\n",
       "      <td>-2.0</td>\n",
       "      <td>-2.0</td>\n",
       "      <td>0.501338</td>\n",
       "      <td>999</td>\n",
       "      <td>666</td>\n",
       "      <td>test</td>\n",
       "      <td>-0.130965</td>\n",
       "      <td>-0.301130</td>\n",
       "      <td>...</td>\n",
       "      <td>-0.080279</td>\n",
       "      <td>0.115687</td>\n",
       "      <td>-0.174988</td>\n",
       "      <td>-0.245064</td>\n",
       "      <td>0.319763</td>\n",
       "      <td>0.059082</td>\n",
       "      <td>-0.000556</td>\n",
       "      <td>0.245133</td>\n",
       "      <td>-0.301130</td>\n",
       "      <td>-0.130965</td>\n",
       "    </tr>\n",
       "    <tr>\n",
       "      <th>2</th>\n",
       "      <td>0</td>\n",
       "      <td>H_-2_-2_0.501338.dat</td>\n",
       "      <td>-2.0</td>\n",
       "      <td>-2.0</td>\n",
       "      <td>0.501338</td>\n",
       "      <td>999</td>\n",
       "      <td>666</td>\n",
       "      <td>test</td>\n",
       "      <td>-0.148414</td>\n",
       "      <td>-0.042467</td>\n",
       "      <td>...</td>\n",
       "      <td>0.185442</td>\n",
       "      <td>-0.080620</td>\n",
       "      <td>-0.066211</td>\n",
       "      <td>-0.121339</td>\n",
       "      <td>-0.151700</td>\n",
       "      <td>0.192513</td>\n",
       "      <td>0.191642</td>\n",
       "      <td>-0.050956</td>\n",
       "      <td>-0.042467</td>\n",
       "      <td>-0.148414</td>\n",
       "    </tr>\n",
       "    <tr>\n",
       "      <th>3</th>\n",
       "      <td>0</td>\n",
       "      <td>H_-2_-2_0.501338.dat</td>\n",
       "      <td>-2.0</td>\n",
       "      <td>-2.0</td>\n",
       "      <td>0.501338</td>\n",
       "      <td>999</td>\n",
       "      <td>666</td>\n",
       "      <td>test</td>\n",
       "      <td>-0.069630</td>\n",
       "      <td>-0.026147</td>\n",
       "      <td>...</td>\n",
       "      <td>0.102009</td>\n",
       "      <td>-0.100671</td>\n",
       "      <td>-0.081002</td>\n",
       "      <td>-0.020715</td>\n",
       "      <td>-0.058717</td>\n",
       "      <td>0.115834</td>\n",
       "      <td>0.118274</td>\n",
       "      <td>-0.054666</td>\n",
       "      <td>-0.026147</td>\n",
       "      <td>-0.069630</td>\n",
       "    </tr>\n",
       "    <tr>\n",
       "      <th>4</th>\n",
       "      <td>0</td>\n",
       "      <td>H_-2_-2_0.501338.dat</td>\n",
       "      <td>-2.0</td>\n",
       "      <td>-2.0</td>\n",
       "      <td>0.501338</td>\n",
       "      <td>999</td>\n",
       "      <td>666</td>\n",
       "      <td>test</td>\n",
       "      <td>0.010206</td>\n",
       "      <td>-0.014625</td>\n",
       "      <td>...</td>\n",
       "      <td>0.047555</td>\n",
       "      <td>-0.041368</td>\n",
       "      <td>-0.018852</td>\n",
       "      <td>-0.017673</td>\n",
       "      <td>-0.023377</td>\n",
       "      <td>0.031447</td>\n",
       "      <td>0.010280</td>\n",
       "      <td>0.000925</td>\n",
       "      <td>0.014625</td>\n",
       "      <td>-0.010206</td>\n",
       "    </tr>\n",
       "    <tr>\n",
       "      <th>5</th>\n",
       "      <td>0</td>\n",
       "      <td>H_-2_-2_0.501338.dat</td>\n",
       "      <td>-2.0</td>\n",
       "      <td>-2.0</td>\n",
       "      <td>0.501338</td>\n",
       "      <td>999</td>\n",
       "      <td>666</td>\n",
       "      <td>test</td>\n",
       "      <td>0.116962</td>\n",
       "      <td>0.021475</td>\n",
       "      <td>...</td>\n",
       "      <td>-0.086901</td>\n",
       "      <td>-0.045676</td>\n",
       "      <td>-0.028034</td>\n",
       "      <td>0.129266</td>\n",
       "      <td>0.130083</td>\n",
       "      <td>-0.098190</td>\n",
       "      <td>-0.104188</td>\n",
       "      <td>-0.007911</td>\n",
       "      <td>0.021475</td>\n",
       "      <td>0.116962</td>\n",
       "    </tr>\n",
       "    <tr>\n",
       "      <th>6</th>\n",
       "      <td>0</td>\n",
       "      <td>H_-2_-2_0.501338.dat</td>\n",
       "      <td>-2.0</td>\n",
       "      <td>-2.0</td>\n",
       "      <td>0.501338</td>\n",
       "      <td>999</td>\n",
       "      <td>666</td>\n",
       "      <td>test</td>\n",
       "      <td>0.037175</td>\n",
       "      <td>-0.095882</td>\n",
       "      <td>...</td>\n",
       "      <td>-0.027490</td>\n",
       "      <td>0.046168</td>\n",
       "      <td>0.063419</td>\n",
       "      <td>-0.041630</td>\n",
       "      <td>-0.085769</td>\n",
       "      <td>-0.010604</td>\n",
       "      <td>-0.009822</td>\n",
       "      <td>0.084024</td>\n",
       "      <td>0.095882</td>\n",
       "      <td>-0.037175</td>\n",
       "    </tr>\n",
       "    <tr>\n",
       "      <th>7</th>\n",
       "      <td>0</td>\n",
       "      <td>H_-2_-2_0.501338.dat</td>\n",
       "      <td>-2.0</td>\n",
       "      <td>-2.0</td>\n",
       "      <td>0.501338</td>\n",
       "      <td>999</td>\n",
       "      <td>666</td>\n",
       "      <td>test</td>\n",
       "      <td>0.027709</td>\n",
       "      <td>-0.038180</td>\n",
       "      <td>...</td>\n",
       "      <td>0.123344</td>\n",
       "      <td>-0.114320</td>\n",
       "      <td>-0.057118</td>\n",
       "      <td>-0.040291</td>\n",
       "      <td>-0.061263</td>\n",
       "      <td>0.087153</td>\n",
       "      <td>0.029599</td>\n",
       "      <td>-0.001276</td>\n",
       "      <td>0.038180</td>\n",
       "      <td>-0.027709</td>\n",
       "    </tr>\n",
       "    <tr>\n",
       "      <th>8</th>\n",
       "      <td>0</td>\n",
       "      <td>H_-2_-2_0.501338.dat</td>\n",
       "      <td>-2.0</td>\n",
       "      <td>-2.0</td>\n",
       "      <td>0.501338</td>\n",
       "      <td>999</td>\n",
       "      <td>666</td>\n",
       "      <td>test</td>\n",
       "      <td>0.059795</td>\n",
       "      <td>0.030272</td>\n",
       "      <td>...</td>\n",
       "      <td>-0.082347</td>\n",
       "      <td>0.140996</td>\n",
       "      <td>0.128386</td>\n",
       "      <td>-0.036608</td>\n",
       "      <td>0.029628</td>\n",
       "      <td>-0.124877</td>\n",
       "      <td>-0.140478</td>\n",
       "      <td>0.088573</td>\n",
       "      <td>0.030272</td>\n",
       "      <td>0.059795</td>\n",
       "    </tr>\n",
       "    <tr>\n",
       "      <th>9</th>\n",
       "      <td>0</td>\n",
       "      <td>H_-2_-2_0.501338.dat</td>\n",
       "      <td>-2.0</td>\n",
       "      <td>-2.0</td>\n",
       "      <td>0.501338</td>\n",
       "      <td>999</td>\n",
       "      <td>666</td>\n",
       "      <td>test</td>\n",
       "      <td>0.141605</td>\n",
       "      <td>0.013497</td>\n",
       "      <td>...</td>\n",
       "      <td>-0.035718</td>\n",
       "      <td>-0.110014</td>\n",
       "      <td>-0.082452</td>\n",
       "      <td>0.146084</td>\n",
       "      <td>0.152588</td>\n",
       "      <td>-0.067575</td>\n",
       "      <td>-0.087187</td>\n",
       "      <td>-0.043484</td>\n",
       "      <td>0.013497</td>\n",
       "      <td>0.141605</td>\n",
       "    </tr>\n",
       "  </tbody>\n",
       "</table>\n",
       "<p>10 rows × 108 columns</p>\n",
       "</div>"
      ],
      "text/plain": [
       "   id                  path   t1   t2   winding  phase  pred_phase type_of  \\\n",
       "0   0  H_-2_-2_0.501338.dat -2.0 -2.0  0.501338    999         666    test   \n",
       "1   0  H_-2_-2_0.501338.dat -2.0 -2.0  0.501338    999         666    test   \n",
       "2   0  H_-2_-2_0.501338.dat -2.0 -2.0  0.501338    999         666    test   \n",
       "3   0  H_-2_-2_0.501338.dat -2.0 -2.0  0.501338    999         666    test   \n",
       "4   0  H_-2_-2_0.501338.dat -2.0 -2.0  0.501338    999         666    test   \n",
       "5   0  H_-2_-2_0.501338.dat -2.0 -2.0  0.501338    999         666    test   \n",
       "6   0  H_-2_-2_0.501338.dat -2.0 -2.0  0.501338    999         666    test   \n",
       "7   0  H_-2_-2_0.501338.dat -2.0 -2.0  0.501338    999         666    test   \n",
       "8   0  H_-2_-2_0.501338.dat -2.0 -2.0  0.501338    999         666    test   \n",
       "9   0  H_-2_-2_0.501338.dat -2.0 -2.0  0.501338    999         666    test   \n",
       "\n",
       "      feat0     feat1  ...    feat90    feat91    feat92    feat93    feat94  \\\n",
       "0 -0.130965  0.301130  ... -0.080279 -0.115687 -0.174988  0.245064  0.319763   \n",
       "1 -0.130965 -0.301130  ... -0.080279  0.115687 -0.174988 -0.245064  0.319763   \n",
       "2 -0.148414 -0.042467  ...  0.185442 -0.080620 -0.066211 -0.121339 -0.151700   \n",
       "3 -0.069630 -0.026147  ...  0.102009 -0.100671 -0.081002 -0.020715 -0.058717   \n",
       "4  0.010206 -0.014625  ...  0.047555 -0.041368 -0.018852 -0.017673 -0.023377   \n",
       "5  0.116962  0.021475  ... -0.086901 -0.045676 -0.028034  0.129266  0.130083   \n",
       "6  0.037175 -0.095882  ... -0.027490  0.046168  0.063419 -0.041630 -0.085769   \n",
       "7  0.027709 -0.038180  ...  0.123344 -0.114320 -0.057118 -0.040291 -0.061263   \n",
       "8  0.059795  0.030272  ... -0.082347  0.140996  0.128386 -0.036608  0.029628   \n",
       "9  0.141605  0.013497  ... -0.035718 -0.110014 -0.082452  0.146084  0.152588   \n",
       "\n",
       "     feat95    feat96    feat97    feat98    feat99  \n",
       "0 -0.059082 -0.000556 -0.245133 -0.301130  0.130965  \n",
       "1  0.059082 -0.000556  0.245133 -0.301130 -0.130965  \n",
       "2  0.192513  0.191642 -0.050956 -0.042467 -0.148414  \n",
       "3  0.115834  0.118274 -0.054666 -0.026147 -0.069630  \n",
       "4  0.031447  0.010280  0.000925  0.014625 -0.010206  \n",
       "5 -0.098190 -0.104188 -0.007911  0.021475  0.116962  \n",
       "6 -0.010604 -0.009822  0.084024  0.095882 -0.037175  \n",
       "7  0.087153  0.029599 -0.001276  0.038180 -0.027709  \n",
       "8 -0.124877 -0.140478  0.088573  0.030272  0.059795  \n",
       "9 -0.067575 -0.087187 -0.043484  0.013497  0.141605  \n",
       "\n",
       "[10 rows x 108 columns]"
      ]
     },
     "execution_count": 28,
     "metadata": {},
     "output_type": "execute_result"
    }
   ],
   "source": [
    "simulation.dataframe.head(10)"
   ]
  },
  {
   "cell_type": "markdown",
   "metadata": {
    "papermill": {
     "duration": 0.036367,
     "end_time": "2020-07-18T09:32:38.618331",
     "exception": false,
     "start_time": "2020-07-18T09:32:38.581964",
     "status": "completed"
    },
    "tags": []
   },
   "source": [
    "#### Viewing a random sample"
   ]
  },
  {
   "cell_type": "code",
   "execution_count": 29,
   "metadata": {
    "execution": {
     "iopub.execute_input": "2020-07-18T09:32:38.691657Z",
     "iopub.status.busy": "2020-07-18T09:32:38.691346Z",
     "iopub.status.idle": "2020-07-18T09:32:38.736206Z",
     "shell.execute_reply": "2020-07-18T09:32:38.736517Z"
    },
    "papermill": {
     "duration": 0.082672,
     "end_time": "2020-07-18T09:32:38.736583",
     "exception": false,
     "start_time": "2020-07-18T09:32:38.653911",
     "status": "completed"
    },
    "tags": []
   },
   "outputs": [
    {
     "name": "stdout",
     "output_type": "stream",
     "text": [
      "CPU times: user 35 ms, sys: 0 ns, total: 35 ms\n",
      "Wall time: 34.8 ms\n"
     ]
    }
   ],
   "source": [
    "%%time\n",
    "if simulation.fourier_mode is not None:\n",
    "    simulation.fourier_dataframe.sample(frac=0.1, replace=False)"
   ]
  },
  {
   "cell_type": "markdown",
   "metadata": {
    "papermill": {
     "duration": 0.036226,
     "end_time": "2020-07-18T09:32:38.809657",
     "exception": false,
     "start_time": "2020-07-18T09:32:38.773431",
     "status": "completed"
    },
    "tags": []
   },
   "source": [
    "#### Checking train/val/test splits again"
   ]
  },
  {
   "cell_type": "code",
   "execution_count": 30,
   "metadata": {
    "execution": {
     "iopub.execute_input": "2020-07-18T09:32:38.883184Z",
     "iopub.status.busy": "2020-07-18T09:32:38.882860Z",
     "iopub.status.idle": "2020-07-18T09:32:39.070242Z",
     "shell.execute_reply": "2020-07-18T09:32:39.069920Z"
    },
    "papermill": {
     "duration": 0.22514,
     "end_time": "2020-07-18T09:32:39.070294",
     "exception": false,
     "start_time": "2020-07-18T09:32:38.845154",
     "status": "completed"
    },
    "tags": []
   },
   "outputs": [
    {
     "name": "stdout",
     "output_type": "stream",
     "text": [
      "% train:  0.4208199969516842\n",
      "% val:  0.42066758116140834\n",
      "% test:  0.15851242188690748\n",
      "% train + val + test:  1.0\n",
      "\n",
      "\n",
      "number of train hamiltonians:  2761\n",
      "number of val hamiltonians:  2760\n",
      "number of test hamiltonians:  1040\n",
      "total number of hamiltonians:  6561\n",
      "\n",
      "\n",
      "train ids:  [5710, 3103, 3129, 5689, 3766, 3441, 2405, 3758, 1282, 1651, 386, 5707, 5040, 2812, 4559, 802, 4914, 2205, 4794, 3824, 1580, 3798, 2338, 5113, 5390, 18, 6199, 1461, 2714, 1275, 5161, 222, 2029, 1326, 3310, 3682, 2549, 2092, 4400, 5891, 3593, 300, 970, 1172, 3150, 2006, 1263, 2170, 5867, 2886, 835, 5870, 16, 2013, 1372, 1454, 2985, 1328, 4981, 1925, 3356, 2017, 623, 946, 2563, 4467, 4520, 1094, 5209, 1957, 4620, 214, 3172, 2169, 2583, 4907, 2581, 960, 2148, 5434, 4030, 223, 563, 5063, 4046, 5803, 4970, 4053, 800, 1453, 1359, 537, 953, 2419, 4637, 3834, 2227, 1086, 1048, 5349, 3347, 2309, 3426, 5841, 4940, 5525, 4730, 4779, 5675, 5010, 4546, 3637, 5474, 3595, 4558, 5450, 6208, 4386, 1500, 237, 3552, 5791, 3623, 3734, 148, 3622, 3370, 4751, 2099, 4865, 4641, 3366, 621, 5483, 4626, 4587, 5366, 6167, 5861, 3984, 3883, 4481, 3896, 2350, 5146, 4566, 885, 5261, 1976, 202, 188, 2078, 5159, 2850, 184, 4878, 2884, 5079, 78, 4814, 2059, 5035, 4775, 3516, 433, 5131, 1623, 1195, 3294, 4001, 618, 6113, 1791, 554, 6531, 3886, 777, 4805, 2354, 3575, 6239, 3909, 2654, 764, 4036, 3761, 2426, 5950, 2844, 2098, 5447, 5556, 2302, 32, 5536, 5862, 3894, 6001, 5613, 2730, 1512, 3884, 3556, 242, 1247, 3561, 2103, 4997, 1165, 6355, 5214, 3981, 1943, 2341, 2895, 3432, 5553, 624, 2156, 2890, 727, 1946, 4848, 4314, 4600, 838, 4059, 4287, 2168, 4702, 1133, 6218, 5064, 4267, 608, 5132, 1498, 79, 3613, 635, 2936, 4097, 1342, 2966, 5639, 6259, 2283, 4470, 1495, 4259, 6168, 5881, 3627, 6244, 2038, 6403, 1199, 6018, 701, 4457, 4490, 6352, 6025, 603, 2718, 6529, 5999, 3434, 4446, 4135, 465, 3187, 4771, 6304, 3090, 5478, 3393, 4782, 3565, 3962, 5550, 5303, 2995, 6302, 5449, 850, 6374, 2331, 6217, 1021, 3572, 2798, 4419, 5352, 2561, 6105, 4582, 556, 4170, 157, 5396, 1701, 5260, 1420, 287, 1433, 2404, 3857, 4682, 5795, 4670, 2527, 5630, 3359, 2773, 5686, 4564, 1662, 125, 4985, 2922, 5223, 2991, 1030, 427, 638, 201, 2453, 4548, 3661, 3598, 6319, 3171, 3591, 1709, 6417, 4454, 2171, 5533, 5363, 2410, 3134, 3795, 4744, 5287, 6075, 464, 2875, 6289, 3787, 639, 3481, 997, 3512, 2179, 3459, 2343, 2720, 28, 633, 4002, 2223, 5696, 4240, 466, 5722, 2571, 4223, 2857, 2314, 3562, 6115, 6185, 5386, 612, 3023, 2321, 1501, 1900, 4565, 6182, 1952, 1708, 5548, 130, 5073, 3828, 767, 4408, 144, 917, 1691, 2817, 432, 271, 6360, 6183, 2495, 3534, 551, 4148, 235, 2990, 3859, 1656, 6162, 1351, 4983, 1019, 4424, 350, 3955, 4892, 4201, 4826, 5926, 5106, 3974, 2057, 4196, 6130, 2335, 3339, 1513, 4321, 4941, 5638, 3440, 1042, 3067, 4643, 3368, 3192, 5384, 3531, 1624, 5537, 5762, 794, 3679, 5446, 1597, 1650, 859, 4935, 5066, 3252, 2117, 5221, 6438, 6237, 4720, 870, 5374, 2229, 5967, 2149, 4863, 5784, 6423, 5840, 2185, 3328, 888, 4234, 1511, 5684, 1855, 2925, 5592, 3258, 1419, 2412, 4990, 1781, 353, 1122, 3960, 5668, 2967, 1779, 3920, 3676, 6267, 3349, 2984, 3914, 869, 769, 6101, 2244, 5486, 2959, 1087, 5308, 4038, 4297, 3826, 3746, 6099, 4149, 6163, 4860, 2032, 6385, 710, 2670, 1422, 5058, 3985, 5477, 3687, 358, 3496, 4131, 5195, 3976, 6211, 5855, 4235, 3239, 934, 4137, 5807, 390, 6499, 3046, 3308, 6078, 1694, 5367, 4958, 5149, 1494, 5555, 3982, 6288, 6040, 1214, 5463, 3025, 2334, 951, 2183, 6128, 925, 6484, 3367, 2964, 1168, 4768, 3181, 4155, 4902, 4255, 3997, 3706, 1113, 5619, 3022, 2747, 6511, 3568, 1812, 2349, 2084, 1652, 4631, 3856, 4973, 1675, 4412, 4147, 5291, 1763, 1533, 871, 3567, 60, 2943, 1242, 3410, 5614, 854, 5016, 80, 3384, 1186, 2336, 4567, 5243, 2415, 588, 6079, 2530, 4102, 2279, 2494, 6488, 4705, 3621, 5546, 3353, 5110, 6461, 4390, 6257, 2326, 4964, 2978, 5360, 6127, 5846, 279, 5885, 63, 139, 469, 4789, 3470, 1775, 2732, 2037, 4076, 4834, 4043, 3704, 4707, 1162, 5777, 343, 4671, 4217, 4977, 1350, 4216, 2118, 544, 4016, 3485, 2508, 862, 5938, 5368, 6328, 4652, 2089, 2912, 389, 4529, 4853, 3338, 3316, 1997, 3052, 3304, 1191, 1745, 261, 6273, 6132, 5947, 5295, 6270, 3170, 2823, 1898, 5370, 6323, 1012, 1174, 761, 2163, 5515, 128, 292, 3878, 707, 2643, 6506, 1835, 4073, 263, 3822, 5186, 5128, 5257, 4407, 5974, 2243, 6521, 6111, 1605, 2030, 6181, 2996, 4683, 364, 6411, 3671, 4780, 3777, 480, 5475, 5708, 4724, 1546, 2138, 4531, 1705, 2767, 5510, 3465, 2793, 2362, 3095, 196, 2306, 5197, 1676, 2095, 6348, 1170, 935, 2499, 3110, 6286, 2010, 2427, 2614, 2418, 5637, 6503, 2515, 482, 2822, 4087, 3454, 5188, 6280, 2584, 4503, 601, 995, 5869, 477, 6505, 260, 3673, 4904, 5324, 5720, 1628, 1990, 1685, 559, 5160, 2091, 511, 5062, 4468, 3210, 5549, 1281, 6086, 6010, 6551, 3548, 2737, 2678, 159, 4411, 2506, 4622, 6038, 5769, 2513, 797, 4440, 5232, 4929, 6519, 6035, 1674, 5927, 5321, 3994, 5753, 668, 4915, 6214, 4795, 6124, 180, 2202, 1895, 5849, 6014, 6212, 1099, 2594, 4797, 853, 2733, 2086, 6265, 3586, 1866, 2534, 3662, 3927, 1119, 1082, 3987, 4982, 6192, 5632, 2484, 2141, 6335, 3559, 3135, 449, 2739, 634, 2471, 1180, 5596, 4014, 2369, 1873, 2058, 1203, 708, 4472, 375, 4570, 154, 5059, 4080, 1996, 3350, 2097, 5050, 4560, 274, 212, 5343, 2468, 6188, 4326, 1953, 4871, 6000, 2315, 2638, 3093, 4132, 2854, 1786, 5139, 6449, 2188, 6201, 1430, 643, 3836, 1769, 849, 3194, 2390, 4535, 6358, 713, 1590, 118, 1702, 2307, 3844, 5673, 4161, 2815, 5196, 2267, 5919, 3048, 5534, 1248, 5173, 4944, 1544, 1680, 2757, 5836, 5949, 4605, 1541, 4165, 6520, 470, 1783, 4230, 1297, 2945, 2712, 24, 97, 4159, 5960, 2725, 3408, 5281, 5356, 3887, 3614, 3928, 1568, 238, 6224, 1648, 3663, 5231, 3881, 4262, 1277, 4651, 781, 4816, 5185, 3931, 1951, 3131, 55, 281, 4387, 2803, 5936, 931, 2548, 72, 4292, 6007, 33, 2254, 2176, 6321, 872, 4875, 1517, 4569, 4742, 3324, 1403, 50, 3581, 3213, 1753, 447, 4242, 2579, 2566, 6141, 3311, 2960, 316, 4632, 4114, 1939, 704, 1742, 2661, 2664, 4499, 4416, 4638, 462, 4769, 2234, 5617, 4599, 3402, 1912, 6379, 5199, 6028, 5395, 6440, 3510, 6008, 1276, 4272, 3218, 1975, 3422, 1625, 2505, 6222, 4706, 4806, 2301, 1348, 3474, 6522, 4458, 3640, 2779, 4441, 5371, 2064, 589, 3341, 3482, 5782, 3932, 2942, 647, 1295, 4949, 4151, 4284, 3770, 2233, 5946, 4954, 5348, 3469, 1683, 4352, 4374, 6448, 6501, 4722, 4453, 3286, 5561, 806, 5282, 4861, 5731, 4157, 5864, 2165, 6026, 6419, 3019, 5952, 611, 1863, 3015, 5513, 1566, 6347, 5072, 5851, 5190, 5317, 5913, 1287, 5955, 1661, 2193, 6287, 4353, 3877, 5866, 6508, 6016, 6428, 3502, 5204, 5674, 3180, 1429, 209, 5377, 305, 4228, 111, 759, 5298, 5153, 2109, 4252, 2819, 5302, 4910, 3175, 4519, 5678, 1103, 64, 2573, 4879, 6469, 3206, 1415, 4965, 6285, 4906, 1368, 4003, 1732, 1815, 1831, 1944, 3996, 3016, 1582, 3729, 3740, 1438, 4302, 5154, 1848, 1649, 2366, 205, 6118, 29, 2406, 215, 5423, 4442, 1829, 2639, 4075, 2768, 4219, 1992, 1977, 4243, 4849, 5539, 5605, 6320, 3838, 6092, 5309, 2028, 1411, 1183, 5116, 4553, 39, 2452, 4534, 6453, 3132, 347, 4141, 4586, 53, 5202, 3139, 3689, 2121, 3256, 4140, 4295, 5562, 4341, 4792, 6036, 2071, 6021, 5229, 4870, 3494, 867, 31, 380, 345, 1534, 5856, 5121, 6266, 3290, 5290, 2490, 3560, 269, 6281, 3063, 6081, 112, 5051, 1738, 6271, 448, 1009, 5013, 5376, 2671, 6299, 3126, 937, 3749, 1353, 1657, 6362, 5322, 4545, 3309, 2288, 4026, 4830, 4035, 6091, 2835, 5120, 3643, 3805, 379, 4298, 306, 939, 193, 3076, 6300, 3215, 5511, 2275, 1774, 4415, 1182, 5354, 4464, 2270, 4876, 2192, 2903, 1171, 2008, 4336, 204, 645, 3721, 6489, 1762, 5789, 1542, 6039, 4017, 2015, 3912, 3906, 2007, 3972, 3221, 3524, 1704, 3839, 2446, 400, 3266, 5928, 4162, 697, 1660, 3692, 3166, 2611, 709, 2802, 3407, 4404, 66, 1811, 3059, 4937, 609, 6123, 3989, 1173, 3968, 1611, 2665, 5345, 2018, 313, 376, 2652, 3971, 796, 2063, 6194, 2759, 5021, 1252, 1744, 4054, 5597, 5174, 3737, 1735, 1323, 4123, 2451, 1659, 3756, 3728, 2397, 4901, 3714, 2687, 2106, 4689, 6518, 6406, 1789, 5973, 625, 1117, 3148, 3424, 1870, 5105, 1785, 4222, 2666, 4516, 5061, 3961, 4095, 6372, 5779, 1905, 2569, 5783, 1250, 478, 5642, 527, 5266, 4334, 513, 1950, 1761, 5781, 3862, 542, 2847, 2518, 3229, 913, 220, 2746, 5813, 1503, 844, 4322, 2876, 1409, 857, 2998, 6156, 2101, 2245, 5389, 833, 2640, 4579, 4443, 5451, 553, 5724, 5127, 5467, 4213, 4770, 2635, 2598, 4568, 4475, 2685, 4959, 2428, 5606, 3404, 3950, 4143, 3747, 2728, 3808, 5808, 5191, 6517, 3868, 4369, 4778, 1120, 2465, 566, 3748, 561, 1843, 177, 5049, 2940, 965, 129, 5644, 2559, 2469, 3612, 4960, 17, 357, 5793, 6029, 6059, 2829, 6439, 5269, 5375, 4128, 1766, 5372, 4721, 5542, 6424, 458, 4189, 1332, 5392, 4434, 5886, 5604, 3710, 2392, 4212, 725, 1131, 3725, 6017, 3980, 2330, 1192, 367, 5130, 4469, 1105, 5145, 4669, 155, 3306, 2986, 1847, 5398, 5288, 4258, 622, 2400, 4650, 1167, 2421, 1958, 3966, 617, 216, 726, 1842, 2247, 1369, 5854, 6030, 712, 5532, 4695, 2011, 5522, 5765, 3570, 5535, 3044, 2344, 2256, 4005, 5873, 4679, 3596, 3636, 3882, 4873, 4357, 5699, 5552, 3193, 4021, 4583, 4275, 1589, 1090, 6533, 6341, 3783, 6269, 1209, 2396, 2155, 5263, 3173, 2221, 3091, 6460, 3299, 4011, 4801, 1681, 4279, 5070, 1116, 4112, 6375, 504, 4518, 3455, 1613, 1655, 3334, 312, 3062, 5437, 6076, 3153, 2856, 2079, 5504, 3305, 3026, 880, 348, 2641, 4379, 615, 4329, 36, 839, 182, 5178, 5651, 6361, 5627, 5778, 2956, 3585, 2683, 4709, 4055, 3959, 2014, 3930, 3527, 2150, 4800, 4598, 3395, 6169, 926, 5461, 4435, 6165, 2813, 558, 1039, 2567, 4623, 4803, 4719, 754, 956, 790, 3255, 6490, 3161, 2805, 3558, 4640, 3263, 4048, 3070, 2710, 3156, 435, 963, 1914, 3658, 593, 846, 587, 1824, 1626, 3550, 793, 4436, 363, 5944, 4236, 2796, 236, 539, 6536, 5975, 3381, 5115, 3041, 2345, 2411, 5339, 3812, 4304, 1875, 2424, 2385, 4823, 5916, 2974, 3386, 6003, 5373, 5551, 541, 4658, 2433, 4173, 1603, 4854, 6178, 225, 5224, 2184, 4505, 1207, 2634, 5406, 2096, 5931, 6401, 2776, 2189, 6220, 5180, 1813, 467, 6532, 5963, 2313, 1569, 4831, 6346, 5117, 1158, 2741, 2946, 2191, 2662, 5773, 2431, 1690, 5527, 4004, 5277, 5609, 798, 2595, 4656, 3818, 4927, 4950, 3127, 4238, 2909, 6334, 3641, 5278, 6325, 2973, 3542, 4145, 2734, 3899, 5046, 1839, 6357, 2177, 548, 2358, 1532, 863, 5441, 158, 3611, 4203, 198, 5401, 5566, 1834, 1773, 394, 1989, 2852, 4091, 6486, 958, 3390, 1669, 5440, 4421, 1371, 369, 4975, 371, 3900, 1606, 2758, 2512, 1817, 5210, 3418, 3773, 717, 3717, 5141, 5721, 4474, 1586, 6349, 770, 1578, 4462, 2005, 3858, 6263, 3732, 1428, 3592, 3992, 5894, 2076, 3915, 2232, 508, 5509, 240, 2476, 6384, 5629, 6170, 4684, 3158, 224, 2144, 4438, 5129, 3233, 4285, 4406, 5074, 3238, 4461, 294, 2466, 4749, 4971, 3850, 3670, 2610, 4953, 3647, 3588, 1935, 2941, 6301, 2862, 3253, 3939, 4493, 1418, 2324, 3212, 6324, 195, 6442, 3409, 1858, 4487, 3977, 5318, 967, 402, 2782, 5125, 2947, 2636, 5152, 3464, 3189, 6345, 5814, 4989, 4385, 6369, 289, 1838, 1358, 4052, 5259, 4746, 1827, 3163, 2808, 3078, 4729, 1083, 1381, 5953, 1043, 3973, 46, 6344, 3202, 1854, 791, 2447, 3372, 4269, 1667, 629, 1539, 4188, 2231, 5402, 5764, 3011, 3703, 6491, 2269, 4310, 4365, 6409, 4549, 3757, 564, 6198, 1938, 4589, 3970, 1757, 3259, 2173, 5775, 1015, 5104, 3750, 51, 3109, 221, 1982, 1567, 5211, 3771, 463, 694, 149, 2898, 5865, 1689, 3004, 6033, 5726, 4688, 930, 4105, 3668, 2002, 3125, 1587, 534, 2147, 3702, 476, 4197, 5119, 5025, 6187, 2825, 5484, 2152, 4372, 2762, 5588, 4961, 4810, 5703, 749, 938, 3427, 1365, 3580, 3159, 3629, 106, 3317, 5065, 3691, 3910, 6136, 702, 2225, 5470, 4192, 3544, 6002, 5650, 4793, 841, 3546, 5296, 5469, 140, 3793, 5222, 5768, 4496, 3217, 599, 2107, 2365, 2552, 2235, 3638, 4291, 1993, 3522, 5590, 876, 6240, 2416, 3024, 5718, 197, 5310, 4110, 3086, 2794, 3364, 5312, 2648, 3949, 1011, 5997, 439, 5893, 3635, 6179, 1190, 1189, 3965, 2865, 1776, 3449, 927, 3648, 2305, 5874, 3754, 2607, 2609, 4523, 6356, 2993, 5887, 2093, 1697, 3530, 3182, 6432, 4525, 3453, 2647, 3876, 1336, 2983, 2677, 21, 3493, 5436, 5615, 3998, 714, 6172, 4339, 2444, 3336, 3543, 6122, 4766, 4882, 5256, 4382, 3406, 2965, 1132, 5237, 4845, 4331, 5122, 2921, 6295, 604, 455, 1922, 3943, 1100, 4750, 3251, 6249, 552, 4320, 1537, 6496, 2123, 25, 138, 2322, 5230, 3520, 2423, 5438, 38, 5692, 5029, 3112, 1764, 3152, 62, 3437, 3693, 4691, 5683, 3236, 1601, 1917, 3291, 3234, 4962, 3201, 3616, 5966, 5559, 4109, 2602, 2935, 6119, 3978, 2151, 3439, 602, 321, 516, 1782, 2325, 3606, 4079, 1528, 3576, 3209, 1756, 5379, 1602, 2445, 1994, 2074, 2196, 6278, 1852, 4154, 4190, 3753, 3244, 6250, 2473, 1241, 4762, 4376, 1081, 5530, 44, 108, 2082, 186, 3428, 4195, 1754, 2438, 4344, 5880, 5786, 5697, 1616, 6253, 3230, 6481, 6373, 943, 3264, 2367, 2761, 1836, 5541, 3897, 1298, 5774, 3889, 5512, 2368, 3500, 5859, 4027, 5792, 1327, 2821, 5485, 3133, 1909, 5796, 698, 1489, 4480, 4477, 5767, 373, 3461, 2222, 5108, 2167, 6110, 5925, 4991, 2828, 1447, 461, 3767, 3786, 4533, 3492, 3763, 3925, 2975, 2088, 4536, 4911, 1256, 2024, 4844, 4045, 3107, 3055, 3922, 4104, 1014, 5839, 2855, 5432, 4813, 217, 1027, 4084, 147, 1585, 5958, 4732, 866, 1463, 259, 677, 6077, 788, 4256, 1159, 5833, 1658, 3430, 304, 5879, 2932, 6305, 4378, 5216, 1402, 1846, 303, 4889, 424, 6048, 696, 4209, 3768, 928, 506, 4517, 929, 4413, 2353, 1956, 153, 4685, 6103, 1379, 2448, 206, 4218, 4315, 5048, 1987, 4463, 2934, 3885, 3357, 4410, 4006, 4659, 546, 3120, 6454, 4241, 5531, 4253, 1008, 6515, 5187, 944, 6009, 4349, 1329, 4152, 5631, 2968, 145, 6196, 5228, 4868, 1731, 3223, 4661, 1530, 1253, 4465, 1292, 507, 2364, 2492, 5453, 1255, 265, 6444, 808, 4039, 1671, 2588, 3085, 2286, 4227, 5458, 923, 1739, 2481, 1620, 4301, 4635, 2477, 1862, 3288, 3203, 5292, 4916, 4160, 1445, 1896, 3646, 851, 3656, 1822, 755, 5628, 2119, 4359, 4540, 2422, 5038, 241, 1737, 4380, 4575, 5690, 3797, 5716, 6400, 438, 2742, 309, 226, 3314, 1665, 1598, 3852, 3369, 3919, 776, 57, 2175, 3142, 6243, 3498, 5383, 1596, 2859, 1335, 5601, 1052, 2080, 5357, 1266, 5096, 594, 3681, 4850, 2831, 2250, 3188, 2810, 6060, 1575, 1078, 2674, 883, 5649, 6463, 13, 6173, 178, 4193, 5850, 2585, 695, 451, 2323, 6412, 450, 5111, 1124, 1864, 1932, 4257, 3111, 2351, 2650, 2811, 1679, 1622, 1505, 3957, 6482, 6223, 3208, 4556, 2824, 1239, 2907, 4093, 4576, 5226, 2772, 5143, 1031, 2832, 3508, 805, 5031, 722, 5350, 3097, 3953, 5487, 318, 5877, 4664, 5569, 5623, 3842, 5563, 6427, 2694, 3499, 914, 6338, 1205, 5023, 4521, 3330, 2778, 6458, 2393, 4550, 4896, 2113, 3794, 445, 6193, 181, 1540, 4602, 4978, 5519, 6502, 2575, 2642, 3874, 1979, 6415, 6333, 110, 5917, 3335, 1448, 3769, 1927, 681, 6480, 3007, 1049, 49, 2085, 4767, 4554, 5612, 2439, 69, 6290, 5733, 515, 1251, 4056, 807, 4064, 671, 4765, 3835, 239, 4399, 4723, 2027, 6184, 4627, 2582, 2695, 1592, 5719, 5198, 5804, 3632, 2814, 1324, 4363, 5444, 4288, 5014, 3435, 5626, 3178, 4562, 3433, 2908, 6437, 1574, 3344, 1916, 3270, 1915, 4249, 3403, 1407, 176, 5797, 5391, 1431, 6195, 56, 5759, 2696, 5101, 4728, 3130, 3792, 4127, 1268, 2312, 6121, 3803, 1515, 3945, 3106, 3179, 4822, 1284, 3677, 2698, 2792, 2142, 1373, 4913, 3377, 4204, 5465, 3672, 2496, 6297, 5102, 100, 5750, 2606, 996, 3628, 3501, 30, 4323, 1736, 1157, 2644, 3243, 121, 388, 4250, 4612, 858, 4144, 2763, 1028, 2236, 4737, 4248, 1005, 5852, 3319, 3990, 5094, 4484, 3084, 3735, 5704, 4221, 6530, 4281, 2797, 5267, 528, 285, 473, 4459, 699, 5587, 5020, 1041, 4293, 4817, 2754, 2012, 4081, 393, 1194, 15, 2408, 6189, 95, 2743, 3018, 1352, 4491, 751, 4741, 2266, 2329, 2752, 523, 474, 3791, 5271, 1777, 5766, 6468, 1947, 6209, 3917, 3416, 4142, 6093, 5838, 4397, 1188, 5194, 845, 2851, 6082, 6383, 4542, 6337, 2715, 1118, 1832, 719, 705, 4426, 122, 6206, 6494, 644, 2480, 3872, 4998, 6459, 4032, 4254, 5723, 6329, 2883, 1380, 4119, 1844, 3383, 344, 2503, 4414, 295, 2845, 3720, 4175, 6368, 945, 1050, 2688, 2238, 1273, 721, 3147, 4316, 3615, 837, 397, 6246, 5635, 2846, 3284, 124, 4313, 6043, 4015, 4375, 6116, 3265, 3082, 4402, 4108, 2398, 3378, 4654, 2586, 3177, 3332, 2022, 6467, 1444, 1291, 5725, 4905, 4324, 1286, 3027, 2770, 5052, 3037, 5802, 276, 3830, 5815, 4373, 6261, 1013, 1037, 4047, 4350, 3825, 1425, 2174, 4952, 3674, 531, 1161, 2304, 1698, 6456, 187, 514, 6247, 5099, 399, 3232, 3712, 4697, 2807, 4395, 70, 1109, 6514, 1045, 6089, 1871, 2888, 4649, 1197, 1729, 3619, 966, 756, 3313, 1820, 3951, 4891, 2615, 3490, 4624, 2401, 2112, 6158, 4847, 1507, 4085, 4488, 5184, 3480, 2690, 715, 2918, 2483, 317, 2111, 4096, 4555, 1978, 6171, 3779, 5717, 484, 3075, 4700, 3904, 5732, 1604, 6102, 2999, 4479, 2841]\n",
      "val ids:  [2864, 1751, 5359, 3815, 5507, 922, 4417, 1354, 2533, 6096, 2570, 5961, 4951, 5671, 3289, 591, 5480, 5285, 290, 692, 4050, 1097, 5810, 1464, 2407, 3532, 3549, 1098, 3157, 5022, 4972, 2729, 772, 2889, 4967, 3701, 4807, 3088, 1497, 3282, 3141, 1432, 2668, 156, 6283, 4625, 3124, 5426, 1516, 6041, 5123, 1793, 4247, 4214, 4305, 2727, 2963, 2333, 4168, 5996, 2842, 3731, 5138, 2348, 3268, 2056, 1267, 3325, 434, 3365, 6445, 6431, 3806, 1692, 1693, 3723, 1851, 3785, 5200, 968, 310, 3429, 4611, 2363, 848, 4156, 2474, 2676, 4530, 1181, 5404, 2036, 2425, 6238, 5956, 535, 5935, 6107, 2487, 3967, 3582, 6510, 6031, 2122, 4642, 5268, 1270, 5801, 6284, 861, 2346, 6047, 4418, 3008, 3165, 881, 471, 5424, 1608, 234, 2066, 1178, 4393, 525, 3073, 4022, 2000, 1025, 3644, 4405, 3151, 5028, 2597, 4077, 1618, 3413, 5304, 5876, 6204, 6139, 4690, 4008, 3829, 2164, 2774, 5711, 1490, 1376, 1828, 4571, 5109, 203, 2094, 6381, 667, 6492, 2081, 102, 4311, 2284, 3639, 6493, 5727, 2565, 4514, 4274, 3801, 27, 670, 774, 5027, 4498, 1440, 5388, 4447, 689, 3051, 2384, 6408, 3890, 403, 5516, 1524, 2162, 2507, 5526, 5008, 890, 4455, 1435, 784, 4116, 349, 2874, 3509, 6550, 4078, 5319, 4358, 3295, 4171, 1988, 4708, 4653, 2593, 6535, 3087, 2818, 2478, 1595, 4029, 1579, 4483, 5431, 1937, 3050, 5633, 3537, 4060, 3819, 4872, 2282, 3938, 1706, 637, 724, 3354, 3589, 1265, 6080, 3394, 5305, 352, 919, 1107, 1570, 4082, 6371, 2251, 4963, 3991, 3318, 4528, 6464, 377, 1983, 5012, 5157, 1459, 560, 3600, 5621, 5923, 2328, 4931, 4694, 3841, 1331, 4639, 532, 2612, 4547, 191, 2659, 5921, 865, 2697, 6205, 2204, 1349, 5805, 4828, 6407, 6487, 5897, 4733, 2809, 5998, 6120, 228, 6402, 3250, 6207, 5503, 2699, 4615, 3799, 1510, 3694, 3584, 133, 5523, 4065, 5042, 2278, 3988, 2861, 5274, 2523, 1529, 3536, 940, 3283, 5892, 5872, 3583, 3724, 4884, 6045, 1893, 2139, 3012, 6012, 4784, 5041, 422, 3864, 4306, 4898, 2749, 3741, 4206, 3903, 1816, 4113, 517, 3937, 1672, 4466, 341, 52, 207, 5695, 6525, 510, 4361, 6303, 834, 1684, 3665, 5524, 4928, 4885, 4098, 3765, 359, 2878, 4957, 1749, 3002, 3056, 2910, 565, 1244, 4526, 4356, 3003, 1758, 2230, 2558, 3752, 4273, 5039, 5212, 3618, 6248, 5026, 5192, 2352, 543, 210, 1903, 1340, 1573, 2310, 4827, 48, 1004, 6416, 5641, 1112, 1913, 1856, 453, 4396, 5030, 6159, 5213, 4448, 4662, 2713, 3351, 4821, 132, 4210, 2488, 3415, 1177, 5972, 3274, 4862, 19, 4044, 5884, 1416, 4000, 585, 4187, 6051, 5688, 1768, 6452, 4300, 4984, 2198, 161, 3249, 54, 5706, 2738, 6258, 4696, 864, 4333, 3184, 4867, 1869, 2249, 5930, 2522, 3121, 5888, 809, 5142, 1338, 183, 4584, 4644, 392, 1576, 2327, 2276, 4604, 5429, 6104, 4787, 3503, 4629, 3138, 5236, 3269, 6414, 6466, 5508, 1355, 2769, 2562, 4307, 5009, 3478, 5150, 3385, 5342, 1164, 2252, 6336, 4089, 1830, 6085, 4012, 4869, 5201, 5346, 2114, 6109, 3816, 831, 1002, 1127, 1126, 6202, 4621, 5594, 2068, 6282, 4433, 874, 2977, 6134, 1414, 5118, 4452, 646, 4351, 2019, 2197, 4819, 1334, 3669, 3505, 315, 2955, 3698, 1908, 3680, 4563, 2178, 4609, 3484, 3040, 1333, 298, 4449, 4515, 3515, 1437, 2493, 3545, 3039, 5835, 2591, 2651, 2316, 6177, 5959, 5103, 2887, 6364, 3845, 3564, 1337, 5806, 5715, 4232, 5239, 4478, 961, 1077, 4115, 1921, 3587, 2104, 5557, 4578, 2667, 2140, 3675, 1699, 843, 5365, 1526, 6353, 3719, 5788, 6539, 1264, 1208, 1904, 2860, 1110, 4233, 3009, 4138, 5652, 1571, 5730, 2339, 6054, 4280, 5034, 2430, 1134, 1986, 4178, 3277, 3225, 1035, 1765, 3185, 355, 2655, 3547, 5687, 3958, 4437, 627, 780, 4394, 3888, 3128, 2509, 1044, 4772, 5387, 5895, 2526, 99, 5670, 2485, 804, 5701, 314, 2919, 5800, 2692, 1868, 4939, 5233, 3479, 5600, 5591, 2645, 2827, 3603, 6245, 619, 3513, 4502, 1274, 1026, 5280, 3049, 3043, 1106, 4025, 4377, 2771, 2736, 22, 4150, 2735, 3466, 3379, 5053, 3893, 1367, 2717, 5640, 1614, 6322, 2672, 1493, 538, 522, 1733, 2287, 308, 672, 4309, 2510, 5155, 1536, 3425, 4388, 5276, 3398, 2240, 6268, 5878, 3456, 1734, 4544, 6350, 6262, 1486, 4425, 4539, 2576, 4476, 5646, 1084, 6543, 3626, 5435, 5241, 6465, 3389, 1426, 547, 4895, 3760, 3272, 3168, 2201, 3143, 4139, 1047, 3935, 459, 4343, 5057, 1378, 2263, 6351, 550, 5942, 1872, 4680, 4588, 4133, 3617, 2387, 785, 6251, 766, 1344, 1361, 3376, 1293, 3969, 3397, 3506, 1502, 1627, 4630, 2837, 179, 678, 5977, 3866, 5586, 71, 1347, 763, 4974, 1911, 4764, 4773, 4993, 1423, 5610, 998, 801, 6293, 2628, 346, 1441, 5175, 3625, 73, 115, 3569, 5520, 3944, 1859, 5307, 6399, 4645, 5362, 1840, 370, 4409, 4191, 6376, 2916, 1001, 3475, 5286, 1421, 4717, 5137, 2926, 2755, 2557, 3476, 3267, 3293, 3533, 4308, 5400, 4471, 4786, 2608, 2970, 1101, 5857, 4698, 4747, 5479, 5787, 4715, 5529, 836, 2255, 1525, 3733, 3736, 2361, 3053, 3228, 1330, 3796, 4207, 268, 3776, 3744, 530, 4486, 3315, 4552, 6203, 2976, 2914, 6292, 5393, 1941, 3813, 356, 936, 5215, 3489, 1488, 5369, 519, 4445, 3832, 529, 2158, 5378, 860, 2928, 1527, 5677, 3947, 4761, 3068, 3730, 26, 3840, 6004, 1823, 4774, 3245, 4062, 3846, 5771, 1747, 1857, 3254, 3448, 2517, 2529, 3727, 2711, 3642, 4596, 6498, 2904, 2355, 6252, 690, 4040, 2502, 1346, 2491, 160, 3742, 6528, 2649, 4176, 1339, 628, 3047, 5092, 2902, 2881, 1666, 5234, 2199, 3423, 3102, 67, 4986, 4943, 4886, 3573, 4955, 5151, 2556, 1166, 6495, 5340, 1023, 6256, 5915, 3462, 1460, 3651, 868, 1519, 143, 4492, 3303, 5462, 1543, 2555, 3837, 4692, 4699, 5279, 1051, 4494, 1942, 1850, 5603, 4482, 700, 2684, 889, 2021, 5283, 4597, 3021, 994, 2927, 2653, 4613, 6434, 1981, 2897, 5772, 6191, 792, 6032, 273, 109, 2834, 4532, 42, 3849, 3287, 5095, 1272, 3136, 1998, 3477, 2524, 5883, 4501, 5445, 6331, 1299, 296, 5301, 2228, 135, 521, 75, 2033, 706, 5471, 6339, 5284, 518, 6175, 485, 4456, 1443, 5595, 3382, 5608, 3271, 4543, 3847, 1668, 1363, 832, 5033, 562, 5208, 916, 1703, 3699, 847, 1374, 2613, 4748, 3207, 3557, 5599, 3006, 1325, 5785, 4574, 2437, 1271, 2858, 6413, 20, 5045, 2087, 3348, 1491, 4781, 3028, 4809, 3871, 3038, 3010, 4824, 5385, 962, 277, 1487, 6377, 4360, 4647, 2525, 1211, 61, 2389, 1945, 3108, 398, 6044, 3355, 1243, 2370, 2253, 1092, 4497, 2262, 1492, 3400, 1038, 6006, 3235, 4572, 2848, 282, 1686, 2686, 3684, 3918, 3956, 293, 4966, 1108, 4130, 4129, 4663, 3659, 6098, 4968, 1257, 4051, 3633, 2826, 1687, 626, 3447, 3809, 1867, 3521, 3442, 2497, 5193, 1029, 3624, 4124, 703, 4278, 3331, 3242, 468, 1377, 5311, 1678, 3237, 950, 3775, 5473, 2629, 2550, 1129, 4118, 2403, 6365, 6049, 4969, 5075, 2026, 1404, 6537, 2521, 3853, 4090, 4704, 3963, 5598, 2853, 4856, 5207, 3708, 716, 6366, 291, 6131, 6117, 1741, 472, 768, 3908, 2997, 5794, 590, 789, 3436, 4303, 2756, 5455, 3907, 2226, 775, 1934, 6135, 6483, 6294, 2933, 5218, 444, 3666, 2470, 718, 1520, 1104, 3578, 799, 1696, 2070, 297, 3709, 4239, 2239, 4681, 4752, 2863, 4687, 3861, 2023, 6052, 199, 151, 5147, 382, 4215, 2161, 682, 592, 1600, 6512, 6457, 2957, 1200, 3645, 3571, 2318, 4337, 4897, 3817, 4783, 5616, 1787, 2987, 3892, 2417, 6405, 2691, 3301, 1790, 5547, 1577, 368, 2413, 4031, 915, 3563, 3952, 4094, 5091, 3688, 4877, 5709, 219, 230, 1436, 211, 1405, 5017, 5097, 3098, 6279, 6435, 2514, 5812, 610, 4628, 5948, 5427, 6276, 1710, 855, 6541, 5752, 1496, 5114, 1920, 4646, 6275, 4777, 6176, 3149, 2937, 1034, 5564, 4829, 614, 1918, 765, 4946, 999, 3705, 284, 3371, 1449, 301, 2596, 5799, 3491, 6446, 1750, 1980, 4122, 6516, 1032, 3020, 4023, 3457, 4573, 3190, 728, 5618, 4726, 918, 5464, 5313, 3579, 4069, 4811, 3660, 536, 3926, 6137, 1906, 5754, 6090, 1894, 2979, 6083, 3504, 684, 2246, 267, 137, 1743, 884, 512, 5971, 2901, 1201, 384, 3119, 2637, 4790, 830, 1784, 505, 3105, 4355, 3811, 2764, 3471, 3599, 3610, 5264, 3913, 3873, 351, 2116, 5299, 1771, 1607, 1499, 640, 3145, 3014, 354, 1175, 3146, 35, 6422, 1770, 3417, 6436, 5240, 2616, 3144, 378, 1910, 1531, 4665, 3814, 3865, 1215, 4994, 4945, 2160, 3574, 5680, 5763, 1841, 3986, 3843, 5770, 3778, 1010, 2896, 3789, 3320, 2181, 3231, 6513, 3788, 1245, 3079, 5558, 6318, 5758, 2399, 5189, 2308, 5685, 3058, 4120, 1434, 3597, 2799, 104, 2726, 101, 381, 5896, 4608, 2780, 5270, 1591, 1760, 4522, 4041, 4735, 5056, 3137, 2962, 1901, 783, 4277, 4296, 686, 586, 2777, 3905, 1294, 2432, 4134, 5144, 5567, 1907, 3875, 5176, 5694, 3528, 5602, 1024, 2435, 6370, 6019, 3902, 1089, 3260, 887, 1788, 5043, 3879, 1849, 1006, 2905, 4894, 4432, 5272, 4930, 6433, 5338, 5225, 4251, 2436, 6425, 3609, 4577, 4619, 782, 1818, 6174, 3519, 1682, 6161, 4666, 4815, 2504, 4225, 3738, 189, 5875, 6485, 2356, 3327, 1504, 1442, 2159, 4111, 6504, 14, 605, 457, 4716, 213, 3412, 5452, 4330, 4220, 4802, 4086, 3077, 4825, 5242, 1076, 4585, 322, 3683, 3718, 3164, 5853, 4167, 3759, 5068, 4061, 5939, 1902, 1260, 3999, 4743, 3392, 2450, 3296, 4335, 6186, 286, 2061, 1322, 43, 5468, 1825, 4887, 5482, 6095, 4126, 426, 5405, 2110, 2748, 2589, 1985, 2009, 1446, 3711, 6538, 2879, 971, 113, 3096, 2795, 3745, 4798, 385, 4231, 1362, 3186, 1949, 4617, 5422, 5914, 4186, 5978, 3340, 2475, 3924, 5100, 4422, 5506, 5871, 856, 4033, 3174, 288, 6034, 3358, 5047, 2994, 5676, 103, 3045, 641, 5995, 4066, 4603, 2190, 1088, 3993, 5077, 2069, 2115, 2285, 3630, 1919, 1261, 5611, 4037, 555, 5669, 1984, 5954, 676, 6088, 2146, 5543, 4268, 5032, 5135, 1176, 932, 5505, 3823, 5055, 77, 6540, 1204, 1955, 1288, 786, 6215, 1198, 59, 2281, 5918, 1621, 437, 4229, 1283, 6242, 1509, 2203, 4934, 4881, 3820, 1212, 779, 3273, 6108, 481, 105, 3064, 4318, 4858, 685, 3851, 4636, 5691, 1193, 1018, 4391, 2604, 37, 4370, 613, 2237, 3071, 4451, 1413, 3224, 2143, 4890, 1752, 5538, 4208, 1930, 4224, 283, 1853, 5890, 2766, 2800, 3297, 1364, 3099, 4988, 2899, 3554, 1269, 3686, 5933, 2003, 4058, 3401, 2894, 1249, 340, 4833, 3421, 2744, 5054, 1759, 1366, 2388, 2342, 1370, 2603, 6410, 2839, 1003, 6142, 2849, 387, 5320, 3923, 3081, 2830, 2277, 6216, 3804, 2154, 598, 1999, 1462, 1202, 2547, 2261, 6125, 2060, 3933, 3848, 3399, 5518, 4106, 2592, 3391, 6005, 2923, 4125, 5158, 5133, 136, 4226, 1845, 2065, 5607, 4711, 1619, 5755, 107, 2877, 607, 3541, 5625, 362, 270, 2442, 4169, 5456, 1262, 6450, 5381, 5924, 2357, 3247, 2242, 4450, 5078, 4013, 2067, 5476, 3013, 4581, 2689, 1485, 1091, 2633, 2560, 1599, 4328, 2467, 6548, 5843, 2972, 3420, 5323, 6197, 6023, 3123, 6332, 2395, 5932, 6133, 6272, 1535, 2241, 2971, 4202, 3451, 2186, 6545, 6326, 2750, 3292, 5355, 1746, 5439, 1612, 2944, 3605, 3345, 3307, 3664, 5098, 2673, 4338, 2031, 2924, 6363, 307, 2172, 679, 5024, 2833, 5728, 2414, 2574, 1653, 4246, 2248, 5262, 2731, 4368, 4791, 632, 1360, 1357, 3517, 1424, 3774, 4713, 6546, 6015, 4384, 2721, 5126, 6022, 1290, 3374, 1455, 6421, 688, 6140, 2004, 3601, 5206, 3551, 4010, 2409, 4460, 3246, 3713, 2441, 4401, 3069, 479, 58, 969, 5889, 1458, 503, 5842, 1408, 1213, 4866, 2992, 4103, 3652, 2675, 4371, 5811, 2646, 4909, 2489, 6387, 4942, 5019, 1545, 4034, 6298, 4799, 1321, 2220, 3204, 4788, 1926, 446, 5314, 4362, 5457, 753, 5672, 5177, 1584, 1954, 2806, 3089, 5863, 4211, 4383, 878, 545, 5682, 5714, 4606, 6274, 2016, 4194, 875, 2182, 957, 4364, 795, 4403, 5448, 3604, 3942, 6327, 2402, 4327, 5570, 852, 3333, 5076, 3487, 3241, 1046, 620, 3790, 5934, 264, 3869, 2587, 4092, 1819, 912, 319, 6382, 4714, 4007, 3954, 3257, 964, 3577, 2062, 549, 5430, 141, 3104, 5124, 2911, 4785, 1995, 2072, 5015, 1933, 4271, 2528, 475, 2090, 5067, 6213, 5698, 2025, 1610, 2073, 5428, 3072, 5011, 146, 2195, 2753, 1017, 4166, 5624, 5293, 3821, 4710, 4423, 5858, 6380, 6126, 1664, 2531, 3901, 3762, 2320, 5399, 2781, 2669, 1588, 509, 3739, 5568, 2804, 1343, 1456, 2882, 4198, 1924, 4932, 65, 2083, 3911, 1114, 4354, 2511, 1518, 6542, 673, 443, 5235, 3214, 3312, 5544, 1123, 842, 5712, 4506, 456, 1022, 6114, 1412, 3227, 4153, 5205, 6055, 4776, 278, 4903, 1593, 4763, 6527, 1410, 2319, 6129, 1130, 76, 41, 3450, 3898, 1522, 4342, 5316, 524, 675, 1125, 3964, 1514, 5994, 1931, 3100, 395, 3205, 2486, 3751, 1095, 2482, 5751, 6277, 3697, 3438, 2930, 1439, 6157, 429, 5517, 5466, 3497, 3468, 4874, 5443, 2519, 5071, 3017, 2347, 3880, 365, 5227, 3654, 6050, 952, 2617, 1279, 2166, 6264, 272, 3074, 5798, 5647, 5965, 4524, 1609, 3529, 299, 3352, 4237, 3414, 2153, 1928, 3755, 4294, 4049, 959, 6429, 2630, 3101, 4282, 5183, 1184, 131, 1929, 4117, 5945, 5648, 6037, 3634, 6443, 4846, 5134, 4818, 2337, 4473, 3261, 2157, 5943, 4289, 3162, 5634, 2108, 4703, 4804, 3650, 233, 1508, 4074, 2958, 3001, 5622, 778, 5353, 423, 4332, 4164, 3467, 5036, 526, 342, 5705, 2599, 693, 5297, 4088, 1085, 3555, 4504, 1356, 6255, 6106, 2657, 3323, 6378, 5315, 669, 2981, 3169, 1506, 2929, 1730, 4319, 5681, 232, 3122, 1899, 5693, 3495, 1772, 5757, 6046, 596, 3979, 1740, 924, 1663, 2915, 1096, 631, 2716, 34, 3396, 1417, 2816, 2332, 2271, 4933, 5433, 4996, 2224, 5394, 134, 3405, 5643, 5882, 5265, 4068, 2989, 4851, 1128, 1615, 6097, 3781, 2988, 3539, 3685, 6024, 4083, 3831, 5364, 190, 454, 4610, 1280, 3810, 949, 3929, 5358, 5951, 6166, 96, 5351, 2386, 1169, 4731, 2394, 5845, 98, 4009, 229, 3452, 3948, 6210, 595, 4734, 2982, 3553, 1196, 3373, 879, 4072, 3176, 4618, 3921, 383, 3983, 4607, 1538, 3975, 711, 5018, 4601, 1254, 2568, 3507, 2681, 1033, 1179, 597, 2892, 533, 5093, 4444, 3941, 4616, 428, 3827, 4987, 6200, 5459, 5275, 2311, 6404, 1865, 2257, 4956, 1876, 5922, 4367, 2843, 4286, 3322, 3321, 47, 3061, 2917, 5454, 23, 3472, 3707, 941, 4299, 302, 391, 5136, 2102, 1115, 4398, 1792, 3523, 4172, 4163, 5361, 4121, 4063, 3346, 1826, 3696, 4244, 3764, 192, 1246, 3538, 3657, 3518, 4893, 5968, 5760, 266, 401, 5107, 4381, 2272, 1111, 6291, 3715, 6523, 6367, 5325, 1020, 1821, 4718, 5442, 921, 5837, 4864, 3473, 5729, 3065, 1572, 6138, 3511, 5920, 1670, 6386, 5488, 430, 2801, 3535, 723, 2001, 6241, 425, 4439, 4657, 4812, 3602, 2265, 1523, 2434, 947, 366, 4926, 3667, 4899, 3631, 4179, 5761, 5790, 6053, 4245, 3594, 1345, 4668, 2939, 4808, 3411, 630, 361, 6042, 4276, 4312, 1874, 3833, 372, 5756, 3342, 1677, 460, 2429, 2264, 771, 1185, 2931, 2535, 4199, 2893, 3802, 3678, 3463, 3154, 2554, 4614, 4485, 4541, 6219, 5069, 5528, 3092, 1210, 3262, 3155, 3590, 1278, 2532, 954, 1748, 3216, 5593, 1341, 1258, 2075, 1289, 5219, 4727, 5776, 3863, 2273, 1163, 3458, 683, 3191, 5847, 4736, 6418, 5521, 687, 3275, 1121, 114, 3722, 3326, 1778, 1814, 2551, 773, 4648, 2391, 404, 1484, 2039, 4317, 2590, 311, 142, 5273, 6013, 6455, 5403, 877, 4527, 3005, 5472, 3726, 1457, 6451, 2632, 6534, 2259, 5514, 1016, 2885, 4686, 4177, 3995, 185, 4745, 1583, 6164, 5589, 4739, 5964, 152, 3716, 4693, 3419, 123, 320, 1695, 4205, 1673, 3337, 6430, 2913, 4947, 3167, 1079, 4880, 933, 442, 2268, 4136, 5421, 5148, 4888, 3029, 4057, 4325, 1581, 441, 4290, 74, 886, 6221, 2656, 116, 258, 1406, 3514, 4024, 4561, 3946, 4857, 1861, 674, 4912, 1711, 1948, 5929, 3276, 5306, 2303, 231, 606, 2765, 4507, 5844, 5809, 68, 3431, 3054, 4976, 3057, 557, 3867, 5969, 6547, 4979, 3042, 6057, 2145, 5832, 5258, 1259, 1102, 720, 5044, 3784, 2449, 2472, 3649, 2906, 5425, 1688, 5868, 119, 4067, 1617, 5957, 5645, 1452, 5481, 5713, 3302, 4366, 1187, 4028, 5347, 5545, 4392, 2077, 1450, 3248, 2359, 2745, 3446, 4042, 6027, 5585, 6507, 5182, 3743, 750, 2383, 483, 262, 4270, 4634, 5344, 3066, 3183, 2969, 4852, 3222, 6526, 2035, 6549, 6447, 2479, 1451, 3226, 3800, 2722, 6296, 1216, 3375, 2719, 1036, 2775, 6087, 2317, 1936, 636, 2516, 5941, 5679, 1375, 323, 4389, 2194, 2679, 6342, 6094, 540, 4655, 6354, 4832, 150, 4725, 5554, 787, 4071, 45, 2751, 5289, 5565, 1923, 3488, 5636, 1837, 4701, 3343, 6084, 3895, 4667, 1007, 2564, 2682, 4158, 1206, 4995, 873, 396, 5203, 4146, 2187, 227, 3329, 1833, 752, 4855, 5976, 5217, 616, 2274, 6254, 5294, 3566, 6524, 4908, 5397, 6509, 1285, 2034, 2938, 3388, 6497, 762, 2663, 3387, 5382, 452, 3655, 2838, 2553, 2501, 4557, 4859, 2601, 3653, 5181, 2700, 1897, 3807, 6441, 2658, 6190, 691, 5238, 4948, 1093, 642, 803, 2723, 2693, 2605, 3782, 5037, 6359, 2631, 6112, 4489, 2443, 4538, 4174, 1654, 1040, 374, 3870, 275, 4796, 5962, 4200, 5937, 3695, 1755, 2498, 2258, 6058, 955, 3211, 6330, 942, 194, 4537, 4633, 948, 2105, 4261, 4883, 2880, 5112, 1594, 208, 2891, 218, 2578, 127, 6343, 2724, 4712, 4107, 4495, 1521, 3483, 5156, 1767, 6426, 4185, 4184, 5341, 3083, 5179, 4738, 4992, 882, 3891, 1427, 3855, 1707, 4936, 2836, 757, 5834, 1296, 758, 5970, 1991, 436, 2577, 4283, 3486, 5848, 3934, 4070, 117, 6462, 3285, 431, 4551, 3094, 4938, 3916, 126, 2572, 3219, 6160, 6011, 6544, 3298, 2961, 6056, 5702, 5560]\n",
      "test ids:  [0, 1, 2, 3, 4, 5, 6, 7, 8, 9, 10, 11, 12, 40, 81, 82, 83, 84, 85, 86, 87, 88, 89, 90, 91, 92, 93, 94, 120, 162, 163, 164, 165, 166, 167, 168, 169, 170, 171, 172, 173, 174, 175, 200, 243, 244, 245, 246, 247, 248, 249, 250, 251, 252, 253, 254, 255, 256, 257, 280, 324, 325, 326, 327, 328, 329, 330, 331, 332, 333, 334, 335, 336, 337, 338, 339, 360, 405, 406, 407, 408, 409, 410, 411, 412, 413, 414, 415, 416, 417, 418, 419, 420, 421, 440, 486, 487, 488, 489, 490, 491, 492, 493, 494, 495, 496, 497, 498, 499, 500, 501, 502, 520, 567, 568, 569, 570, 571, 572, 573, 574, 575, 576, 577, 578, 579, 580, 581, 582, 583, 584, 600, 648, 649, 650, 651, 652, 653, 654, 655, 656, 657, 658, 659, 660, 661, 662, 663, 664, 665, 666, 680, 729, 730, 731, 732, 733, 734, 735, 736, 737, 738, 739, 740, 741, 742, 743, 744, 745, 746, 747, 748, 760, 810, 811, 812, 813, 814, 815, 816, 817, 818, 819, 820, 821, 822, 823, 824, 825, 826, 827, 828, 829, 840, 891, 892, 893, 894, 895, 896, 897, 898, 899, 900, 901, 902, 903, 904, 905, 906, 907, 908, 909, 910, 911, 920, 972, 973, 974, 975, 976, 977, 978, 979, 980, 981, 982, 983, 984, 985, 986, 987, 988, 989, 990, 991, 992, 993, 1000, 1053, 1054, 1055, 1056, 1057, 1058, 1059, 1060, 1061, 1062, 1063, 1064, 1065, 1066, 1067, 1068, 1069, 1070, 1071, 1072, 1073, 1074, 1075, 1080, 1135, 1136, 1137, 1138, 1139, 1140, 1141, 1142, 1143, 1144, 1145, 1146, 1147, 1148, 1149, 1150, 1151, 1152, 1153, 1154, 1155, 1156, 1160, 1217, 1218, 1219, 1220, 1221, 1222, 1223, 1224, 1225, 1226, 1227, 1228, 1229, 1230, 1231, 1232, 1233, 1234, 1235, 1236, 1237, 1238, 1240, 1300, 1301, 1302, 1303, 1304, 1305, 1306, 1307, 1308, 1309, 1310, 1311, 1312, 1313, 1314, 1315, 1316, 1317, 1318, 1319, 1320, 1382, 1383, 1384, 1385, 1386, 1387, 1388, 1389, 1390, 1391, 1392, 1393, 1394, 1395, 1396, 1397, 1398, 1399, 1400, 1401, 1465, 1466, 1467, 1468, 1469, 1470, 1471, 1472, 1473, 1474, 1475, 1476, 1477, 1478, 1479, 1480, 1481, 1482, 1483, 1547, 1548, 1549, 1550, 1551, 1552, 1553, 1554, 1555, 1556, 1557, 1558, 1559, 1560, 1561, 1562, 1563, 1564, 1565, 1629, 1630, 1631, 1632, 1633, 1634, 1635, 1636, 1637, 1638, 1639, 1640, 1641, 1642, 1643, 1644, 1645, 1646, 1647, 1700, 1712, 1713, 1714, 1715, 1716, 1717, 1718, 1719, 1720, 1721, 1722, 1723, 1724, 1725, 1726, 1727, 1728, 1780, 1794, 1795, 1796, 1797, 1798, 1799, 1800, 1801, 1802, 1803, 1804, 1805, 1806, 1807, 1808, 1809, 1810, 1860, 1877, 1878, 1879, 1880, 1881, 1882, 1883, 1884, 1885, 1886, 1887, 1888, 1889, 1890, 1891, 1892, 1940, 1959, 1960, 1961, 1962, 1963, 1964, 1965, 1966, 1967, 1968, 1969, 1970, 1971, 1972, 1973, 1974, 2020, 2040, 2041, 2042, 2043, 2044, 2045, 2046, 2047, 2048, 2049, 2050, 2051, 2052, 2053, 2054, 2055, 2100, 2120, 2124, 2125, 2126, 2127, 2128, 2129, 2130, 2131, 2132, 2133, 2134, 2135, 2136, 2137, 2180, 2200, 2206, 2207, 2208, 2209, 2210, 2211, 2212, 2213, 2214, 2215, 2216, 2217, 2218, 2219, 2260, 2280, 2289, 2290, 2291, 2292, 2293, 2294, 2295, 2296, 2297, 2298, 2299, 2300, 2340, 2360, 2371, 2372, 2373, 2374, 2375, 2376, 2377, 2378, 2379, 2380, 2381, 2382, 2420, 2440, 2454, 2455, 2456, 2457, 2458, 2459, 2460, 2461, 2462, 2463, 2464, 2500, 2520, 2536, 2537, 2538, 2539, 2540, 2541, 2542, 2543, 2544, 2545, 2546, 2580, 2600, 2618, 2619, 2620, 2621, 2622, 2623, 2624, 2625, 2626, 2627, 2660, 2680, 2701, 2702, 2703, 2704, 2705, 2706, 2707, 2708, 2709, 2740, 2760, 2783, 2784, 2785, 2786, 2787, 2788, 2789, 2790, 2791, 2820, 2840, 2866, 2867, 2868, 2869, 2870, 2871, 2872, 2873, 2900, 2920, 2948, 2949, 2950, 2951, 2952, 2953, 2954, 2980, 3000, 3030, 3031, 3032, 3033, 3034, 3035, 3036, 3060, 3080, 3113, 3114, 3115, 3116, 3117, 3118, 3140, 3160, 3195, 3196, 3197, 3198, 3199, 3200, 3220, 3240, 3278, 3279, 3280, 3281, 3300, 3360, 3361, 3362, 3363, 3380, 3443, 3444, 3445, 3460, 3525, 3526, 3540, 3607, 3608, 3620, 3690, 3700, 3772, 3780, 3854, 3860, 3936, 3940, 4018, 4019, 4020, 4099, 4100, 4101, 4180, 4181, 4182, 4183, 4260, 4263, 4264, 4265, 4266, 4340, 4345, 4346, 4347, 4348, 4420, 4427, 4428, 4429, 4430, 4431, 4500, 4508, 4509, 4510, 4511, 4512, 4513, 4580, 4590, 4591, 4592, 4593, 4594, 4595, 4660, 4672, 4673, 4674, 4675, 4676, 4677, 4678, 4740, 4753, 4754, 4755, 4756, 4757, 4758, 4759, 4760, 4820, 4835, 4836, 4837, 4838, 4839, 4840, 4841, 4842, 4843, 4900, 4917, 4918, 4919, 4920, 4921, 4922, 4923, 4924, 4925, 4980, 4999, 5000, 5001, 5002, 5003, 5004, 5005, 5006, 5007, 5060, 5080, 5081, 5082, 5083, 5084, 5085, 5086, 5087, 5088, 5089, 5090, 5140, 5162, 5163, 5164, 5165, 5166, 5167, 5168, 5169, 5170, 5171, 5172, 5220, 5244, 5245, 5246, 5247, 5248, 5249, 5250, 5251, 5252, 5253, 5254, 5255, 5300, 5326, 5327, 5328, 5329, 5330, 5331, 5332, 5333, 5334, 5335, 5336, 5337, 5380, 5407, 5408, 5409, 5410, 5411, 5412, 5413, 5414, 5415, 5416, 5417, 5418, 5419, 5420, 5460, 5489, 5490, 5491, 5492, 5493, 5494, 5495, 5496, 5497, 5498, 5499, 5500, 5501, 5502, 5540, 5571, 5572, 5573, 5574, 5575, 5576, 5577, 5578, 5579, 5580, 5581, 5582, 5583, 5584, 5620, 5653, 5654, 5655, 5656, 5657, 5658, 5659, 5660, 5661, 5662, 5663, 5664, 5665, 5666, 5667, 5700, 5734, 5735, 5736, 5737, 5738, 5739, 5740, 5741, 5742, 5743, 5744, 5745, 5746, 5747, 5748, 5749, 5780, 5816, 5817, 5818, 5819, 5820, 5821, 5822, 5823, 5824, 5825, 5826, 5827, 5828, 5829, 5830, 5831, 5860, 5898, 5899, 5900, 5901, 5902, 5903, 5904, 5905, 5906, 5907, 5908, 5909, 5910, 5911, 5912, 5940, 5979, 5980, 5981, 5982, 5983, 5984, 5985, 5986, 5987, 5988, 5989, 5990, 5991, 5992, 5993, 6020, 6061, 6062, 6063, 6064, 6065, 6066, 6067, 6068, 6069, 6070, 6071, 6072, 6073, 6074, 6100, 6143, 6144, 6145, 6146, 6147, 6148, 6149, 6150, 6151, 6152, 6153, 6154, 6155, 6180, 6225, 6226, 6227, 6228, 6229, 6230, 6231, 6232, 6233, 6234, 6235, 6236, 6260, 6306, 6307, 6308, 6309, 6310, 6311, 6312, 6313, 6314, 6315, 6316, 6317, 6340, 6388, 6389, 6390, 6391, 6392, 6393, 6394, 6395, 6396, 6397, 6398, 6420, 6470, 6471, 6472, 6473, 6474, 6475, 6476, 6477, 6478, 6479, 6500, 6552, 6553, 6554, 6555, 6556, 6557, 6558, 6559, 6560]\n",
      "CPU times: user 160 ms, sys: 16 ms, total: 176 ms\n",
      "Wall time: 176 ms\n"
     ]
    }
   ],
   "source": [
    "%%time\n",
    "n_total = len(simulation.dataframe)\n",
    "n_train = len(simulation.dataframe[simulation.dataframe.type_of == \"train\"])\n",
    "n_val = len(simulation.dataframe[simulation.dataframe.type_of == \"val\"])\n",
    "n_test = len(simulation.dataframe[simulation.dataframe.type_of == \"test\"])\n",
    "n_train_hamiltonians = len(simulation.train_ids)\n",
    "n_val_hamiltonians = len(simulation.val_ids)\n",
    "n_test_hamiltonians = len(simulation.test_ids)\n",
    "n_total_hamiltonians = n_train_hamiltonians + n_val_hamiltonians + n_test_hamiltonians\n",
    "\n",
    "print(\"% train: \", n_train/n_total)\n",
    "print(\"% val: \",  n_val/n_total)\n",
    "print(\"% test: \", n_test/n_total)\n",
    "print(\"% train + val + test: \", (n_train+n_val+n_test)/n_total)\n",
    "print(\"\\n\")\n",
    "print(\"number of train hamiltonians: \", n_train_hamiltonians)\n",
    "print(\"number of val hamiltonians: \", n_val_hamiltonians)\n",
    "print(\"number of test hamiltonians: \", n_test_hamiltonians)\n",
    "print(\"total number of hamiltonians: \", n_total_hamiltonians)\n",
    "print(\"\\n\")\n",
    "print(\"train ids: \", simulation.train_ids)\n",
    "print(\"val ids: \", simulation.val_ids)\n",
    "print(\"test ids: \", simulation.test_ids)"
   ]
  },
  {
   "cell_type": "markdown",
   "metadata": {
    "papermill": {
     "duration": 0.036693,
     "end_time": "2020-07-18T09:32:39.144263",
     "exception": false,
     "start_time": "2020-07-18T09:32:39.107570",
     "status": "completed"
    },
    "tags": []
   },
   "source": [
    "#### Checking summaries"
   ]
  },
  {
   "cell_type": "code",
   "execution_count": 31,
   "metadata": {
    "execution": {
     "iopub.execute_input": "2020-07-18T09:32:39.218924Z",
     "iopub.status.busy": "2020-07-18T09:32:39.218615Z",
     "iopub.status.idle": "2020-07-18T09:32:39.237902Z",
     "shell.execute_reply": "2020-07-18T09:32:39.238204Z"
    },
    "papermill": {
     "duration": 0.057743,
     "end_time": "2020-07-18T09:32:39.238268",
     "exception": false,
     "start_time": "2020-07-18T09:32:39.180525",
     "status": "completed"
    },
    "tags": []
   },
   "outputs": [
    {
     "name": "stdout",
     "output_type": "stream",
     "text": [
      "length of ham_summary:  6561\n",
      "CPU times: user 85 µs, sys: 0 ns, total: 85 µs\n",
      "Wall time: 55.6 µs\n"
     ]
    },
    {
     "data": {
      "text/html": [
       "<div>\n",
       "<style scoped>\n",
       "    .dataframe tbody tr th:only-of-type {\n",
       "        vertical-align: middle;\n",
       "    }\n",
       "\n",
       "    .dataframe tbody tr th {\n",
       "        vertical-align: top;\n",
       "    }\n",
       "\n",
       "    .dataframe thead th {\n",
       "        text-align: right;\n",
       "    }\n",
       "</style>\n",
       "<table border=\"1\" class=\"dataframe\">\n",
       "  <thead>\n",
       "    <tr style=\"text-align: right;\">\n",
       "      <th></th>\n",
       "      <th>t1</th>\n",
       "      <th>t2</th>\n",
       "      <th>type_of</th>\n",
       "      <th>-1</th>\n",
       "      <th>0</th>\n",
       "      <th>1</th>\n",
       "      <th>2</th>\n",
       "      <th>phase</th>\n",
       "      <th>pred_phase</th>\n",
       "    </tr>\n",
       "    <tr>\n",
       "      <th>id</th>\n",
       "      <th></th>\n",
       "      <th></th>\n",
       "      <th></th>\n",
       "      <th></th>\n",
       "      <th></th>\n",
       "      <th></th>\n",
       "      <th></th>\n",
       "      <th></th>\n",
       "      <th></th>\n",
       "    </tr>\n",
       "  </thead>\n",
       "  <tbody>\n",
       "    <tr>\n",
       "      <th>0</th>\n",
       "      <td>-2.0</td>\n",
       "      <td>-2.00</td>\n",
       "      <td>test</td>\n",
       "      <td>0.13</td>\n",
       "      <td>0.52</td>\n",
       "      <td>0.06</td>\n",
       "      <td>0.29</td>\n",
       "      <td>999</td>\n",
       "      <td>0</td>\n",
       "    </tr>\n",
       "    <tr>\n",
       "      <th>1</th>\n",
       "      <td>-2.0</td>\n",
       "      <td>-1.95</td>\n",
       "      <td>test</td>\n",
       "      <td>0.16</td>\n",
       "      <td>0.48</td>\n",
       "      <td>0.08</td>\n",
       "      <td>0.28</td>\n",
       "      <td>-1</td>\n",
       "      <td>0</td>\n",
       "    </tr>\n",
       "    <tr>\n",
       "      <th>2</th>\n",
       "      <td>-2.0</td>\n",
       "      <td>-1.90</td>\n",
       "      <td>test</td>\n",
       "      <td>0.19</td>\n",
       "      <td>0.46</td>\n",
       "      <td>0.07</td>\n",
       "      <td>0.28</td>\n",
       "      <td>-1</td>\n",
       "      <td>0</td>\n",
       "    </tr>\n",
       "    <tr>\n",
       "      <th>3</th>\n",
       "      <td>-2.0</td>\n",
       "      <td>-1.85</td>\n",
       "      <td>test</td>\n",
       "      <td>0.22</td>\n",
       "      <td>0.46</td>\n",
       "      <td>0.10</td>\n",
       "      <td>0.22</td>\n",
       "      <td>-1</td>\n",
       "      <td>0</td>\n",
       "    </tr>\n",
       "    <tr>\n",
       "      <th>4</th>\n",
       "      <td>-2.0</td>\n",
       "      <td>-1.80</td>\n",
       "      <td>test</td>\n",
       "      <td>0.24</td>\n",
       "      <td>0.38</td>\n",
       "      <td>0.12</td>\n",
       "      <td>0.26</td>\n",
       "      <td>-1</td>\n",
       "      <td>0</td>\n",
       "    </tr>\n",
       "    <tr>\n",
       "      <th>...</th>\n",
       "      <td>...</td>\n",
       "      <td>...</td>\n",
       "      <td>...</td>\n",
       "      <td>...</td>\n",
       "      <td>...</td>\n",
       "      <td>...</td>\n",
       "      <td>...</td>\n",
       "      <td>...</td>\n",
       "      <td>...</td>\n",
       "    </tr>\n",
       "    <tr>\n",
       "      <th>6556</th>\n",
       "      <td>2.0</td>\n",
       "      <td>1.80</td>\n",
       "      <td>test</td>\n",
       "      <td>0.32</td>\n",
       "      <td>0.24</td>\n",
       "      <td>0.06</td>\n",
       "      <td>0.38</td>\n",
       "      <td>-1</td>\n",
       "      <td>2</td>\n",
       "    </tr>\n",
       "    <tr>\n",
       "      <th>6557</th>\n",
       "      <td>2.0</td>\n",
       "      <td>1.85</td>\n",
       "      <td>test</td>\n",
       "      <td>0.33</td>\n",
       "      <td>0.23</td>\n",
       "      <td>0.06</td>\n",
       "      <td>0.38</td>\n",
       "      <td>-1</td>\n",
       "      <td>2</td>\n",
       "    </tr>\n",
       "    <tr>\n",
       "      <th>6558</th>\n",
       "      <td>2.0</td>\n",
       "      <td>1.90</td>\n",
       "      <td>test</td>\n",
       "      <td>0.25</td>\n",
       "      <td>0.28</td>\n",
       "      <td>0.05</td>\n",
       "      <td>0.42</td>\n",
       "      <td>-1</td>\n",
       "      <td>2</td>\n",
       "    </tr>\n",
       "    <tr>\n",
       "      <th>6559</th>\n",
       "      <td>2.0</td>\n",
       "      <td>1.95</td>\n",
       "      <td>test</td>\n",
       "      <td>0.27</td>\n",
       "      <td>0.25</td>\n",
       "      <td>0.06</td>\n",
       "      <td>0.42</td>\n",
       "      <td>-1</td>\n",
       "      <td>2</td>\n",
       "    </tr>\n",
       "    <tr>\n",
       "      <th>6560</th>\n",
       "      <td>2.0</td>\n",
       "      <td>2.00</td>\n",
       "      <td>test</td>\n",
       "      <td>0.19</td>\n",
       "      <td>0.30</td>\n",
       "      <td>0.03</td>\n",
       "      <td>0.48</td>\n",
       "      <td>999</td>\n",
       "      <td>2</td>\n",
       "    </tr>\n",
       "  </tbody>\n",
       "</table>\n",
       "<p>6561 rows × 9 columns</p>\n",
       "</div>"
      ],
      "text/plain": [
       "       t1    t2 type_of    -1     0     1     2  phase  pred_phase\n",
       "id                                                                \n",
       "0    -2.0 -2.00    test  0.13  0.52  0.06  0.29    999           0\n",
       "1    -2.0 -1.95    test  0.16  0.48  0.08  0.28     -1           0\n",
       "2    -2.0 -1.90    test  0.19  0.46  0.07  0.28     -1           0\n",
       "3    -2.0 -1.85    test  0.22  0.46  0.10  0.22     -1           0\n",
       "4    -2.0 -1.80    test  0.24  0.38  0.12  0.26     -1           0\n",
       "...   ...   ...     ...   ...   ...   ...   ...    ...         ...\n",
       "6556  2.0  1.80    test  0.32  0.24  0.06  0.38     -1           2\n",
       "6557  2.0  1.85    test  0.33  0.23  0.06  0.38     -1           2\n",
       "6558  2.0  1.90    test  0.25  0.28  0.05  0.42     -1           2\n",
       "6559  2.0  1.95    test  0.27  0.25  0.06  0.42     -1           2\n",
       "6560  2.0  2.00    test  0.19  0.30  0.03  0.48    999           2\n",
       "\n",
       "[6561 rows x 9 columns]"
      ]
     },
     "execution_count": 31,
     "metadata": {},
     "output_type": "execute_result"
    }
   ],
   "source": [
    "%%time\n",
    "ham_summary = simulation.hamiltonian_summary\n",
    "print(\"length of ham_summary: \", len(ham_summary))\n",
    "ham_summary"
   ]
  },
  {
   "cell_type": "code",
   "execution_count": 32,
   "metadata": {
    "execution": {
     "iopub.execute_input": "2020-07-18T09:32:39.315528Z",
     "iopub.status.busy": "2020-07-18T09:32:39.315214Z",
     "iopub.status.idle": "2020-07-18T09:32:39.345912Z",
     "shell.execute_reply": "2020-07-18T09:32:39.346165Z"
    },
    "papermill": {
     "duration": 0.07026,
     "end_time": "2020-07-18T09:32:39.346232",
     "exception": false,
     "start_time": "2020-07-18T09:32:39.275972",
     "status": "completed"
    },
    "tags": []
   },
   "outputs": [
    {
     "data": {
      "text/html": [
       "<div>\n",
       "<style scoped>\n",
       "    .dataframe tbody tr th:only-of-type {\n",
       "        vertical-align: middle;\n",
       "    }\n",
       "\n",
       "    .dataframe tbody tr th {\n",
       "        vertical-align: top;\n",
       "    }\n",
       "\n",
       "    .dataframe thead th {\n",
       "        text-align: right;\n",
       "    }\n",
       "</style>\n",
       "<table border=\"1\" class=\"dataframe\">\n",
       "  <thead>\n",
       "    <tr style=\"text-align: right;\">\n",
       "      <th></th>\n",
       "      <th>t1</th>\n",
       "      <th>t2</th>\n",
       "      <th>-1</th>\n",
       "      <th>0</th>\n",
       "      <th>1</th>\n",
       "      <th>2</th>\n",
       "      <th>phase</th>\n",
       "      <th>pred_phase</th>\n",
       "    </tr>\n",
       "  </thead>\n",
       "  <tbody>\n",
       "    <tr>\n",
       "      <th>count</th>\n",
       "      <td>6561.000000</td>\n",
       "      <td>6.561000e+03</td>\n",
       "      <td>6561.000000</td>\n",
       "      <td>6561.000000</td>\n",
       "      <td>6561.000000</td>\n",
       "      <td>6561.000000</td>\n",
       "      <td>6561.000000</td>\n",
       "      <td>6561.000000</td>\n",
       "    </tr>\n",
       "    <tr>\n",
       "      <th>mean</th>\n",
       "      <td>0.000000</td>\n",
       "      <td>-4.331917e-18</td>\n",
       "      <td>0.201887</td>\n",
       "      <td>0.312551</td>\n",
       "      <td>0.297164</td>\n",
       "      <td>0.188398</td>\n",
       "      <td>28.045877</td>\n",
       "      <td>0.482091</td>\n",
       "    </tr>\n",
       "    <tr>\n",
       "      <th>std</th>\n",
       "      <td>1.169134</td>\n",
       "      <td>1.169134e+00</td>\n",
       "      <td>0.371141</td>\n",
       "      <td>0.437734</td>\n",
       "      <td>0.439705</td>\n",
       "      <td>0.360860</td>\n",
       "      <td>163.557011</td>\n",
       "      <td>1.024557</td>\n",
       "    </tr>\n",
       "    <tr>\n",
       "      <th>min</th>\n",
       "      <td>-2.000000</td>\n",
       "      <td>-2.000000e+00</td>\n",
       "      <td>0.000000</td>\n",
       "      <td>0.000000</td>\n",
       "      <td>0.000000</td>\n",
       "      <td>0.000000</td>\n",
       "      <td>-1.000000</td>\n",
       "      <td>-1.000000</td>\n",
       "    </tr>\n",
       "    <tr>\n",
       "      <th>25%</th>\n",
       "      <td>-1.000000</td>\n",
       "      <td>-1.000000e+00</td>\n",
       "      <td>0.000000</td>\n",
       "      <td>0.000000</td>\n",
       "      <td>0.000000</td>\n",
       "      <td>0.000000</td>\n",
       "      <td>0.000000</td>\n",
       "      <td>0.000000</td>\n",
       "    </tr>\n",
       "    <tr>\n",
       "      <th>50%</th>\n",
       "      <td>0.000000</td>\n",
       "      <td>0.000000e+00</td>\n",
       "      <td>0.000000</td>\n",
       "      <td>0.000000</td>\n",
       "      <td>0.000000</td>\n",
       "      <td>0.000000</td>\n",
       "      <td>1.000000</td>\n",
       "      <td>0.000000</td>\n",
       "    </tr>\n",
       "    <tr>\n",
       "      <th>75%</th>\n",
       "      <td>1.000000</td>\n",
       "      <td>1.000000e+00</td>\n",
       "      <td>0.150000</td>\n",
       "      <td>0.980000</td>\n",
       "      <td>0.980000</td>\n",
       "      <td>0.060000</td>\n",
       "      <td>1.000000</td>\n",
       "      <td>1.000000</td>\n",
       "    </tr>\n",
       "    <tr>\n",
       "      <th>max</th>\n",
       "      <td>2.000000</td>\n",
       "      <td>2.000000e+00</td>\n",
       "      <td>1.000000</td>\n",
       "      <td>1.000000</td>\n",
       "      <td>1.000000</td>\n",
       "      <td>1.000000</td>\n",
       "      <td>999.000000</td>\n",
       "      <td>2.000000</td>\n",
       "    </tr>\n",
       "  </tbody>\n",
       "</table>\n",
       "</div>"
      ],
      "text/plain": [
       "                t1            t2           -1            0            1  \\\n",
       "count  6561.000000  6.561000e+03  6561.000000  6561.000000  6561.000000   \n",
       "mean      0.000000 -4.331917e-18     0.201887     0.312551     0.297164   \n",
       "std       1.169134  1.169134e+00     0.371141     0.437734     0.439705   \n",
       "min      -2.000000 -2.000000e+00     0.000000     0.000000     0.000000   \n",
       "25%      -1.000000 -1.000000e+00     0.000000     0.000000     0.000000   \n",
       "50%       0.000000  0.000000e+00     0.000000     0.000000     0.000000   \n",
       "75%       1.000000  1.000000e+00     0.150000     0.980000     0.980000   \n",
       "max       2.000000  2.000000e+00     1.000000     1.000000     1.000000   \n",
       "\n",
       "                 2        phase   pred_phase  \n",
       "count  6561.000000  6561.000000  6561.000000  \n",
       "mean      0.188398    28.045877     0.482091  \n",
       "std       0.360860   163.557011     1.024557  \n",
       "min       0.000000    -1.000000    -1.000000  \n",
       "25%       0.000000     0.000000     0.000000  \n",
       "50%       0.000000     1.000000     0.000000  \n",
       "75%       0.060000     1.000000     1.000000  \n",
       "max       1.000000   999.000000     2.000000  "
      ]
     },
     "execution_count": 32,
     "metadata": {},
     "output_type": "execute_result"
    }
   ],
   "source": [
    "ham_summary.describe()"
   ]
  },
  {
   "cell_type": "code",
   "execution_count": 33,
   "metadata": {
    "execution": {
     "iopub.execute_input": "2020-07-18T09:32:39.424206Z",
     "iopub.status.busy": "2020-07-18T09:32:39.423894Z",
     "iopub.status.idle": "2020-07-18T09:32:39.438370Z",
     "shell.execute_reply": "2020-07-18T09:32:39.438854Z"
    },
    "papermill": {
     "duration": 0.054892,
     "end_time": "2020-07-18T09:32:39.438924",
     "exception": false,
     "start_time": "2020-07-18T09:32:39.384032",
     "status": "completed"
    },
    "tags": []
   },
   "outputs": [
    {
     "name": "stdout",
     "output_type": "stream",
     "text": [
      "length of ham_summary:  656100\n"
     ]
    },
    {
     "data": {
      "text/html": [
       "<div>\n",
       "<style scoped>\n",
       "    .dataframe tbody tr th:only-of-type {\n",
       "        vertical-align: middle;\n",
       "    }\n",
       "\n",
       "    .dataframe tbody tr th {\n",
       "        vertical-align: top;\n",
       "    }\n",
       "\n",
       "    .dataframe thead th {\n",
       "        text-align: right;\n",
       "    }\n",
       "</style>\n",
       "<table border=\"1\" class=\"dataframe\">\n",
       "  <thead>\n",
       "    <tr style=\"text-align: right;\">\n",
       "      <th></th>\n",
       "      <th>id</th>\n",
       "      <th>phase</th>\n",
       "      <th>pred_phase</th>\n",
       "      <th>type_of</th>\n",
       "    </tr>\n",
       "  </thead>\n",
       "  <tbody>\n",
       "    <tr>\n",
       "      <th>0</th>\n",
       "      <td>0</td>\n",
       "      <td>999</td>\n",
       "      <td>-1</td>\n",
       "      <td>test</td>\n",
       "    </tr>\n",
       "    <tr>\n",
       "      <th>1</th>\n",
       "      <td>0</td>\n",
       "      <td>999</td>\n",
       "      <td>-1</td>\n",
       "      <td>test</td>\n",
       "    </tr>\n",
       "    <tr>\n",
       "      <th>2</th>\n",
       "      <td>0</td>\n",
       "      <td>999</td>\n",
       "      <td>1</td>\n",
       "      <td>test</td>\n",
       "    </tr>\n",
       "    <tr>\n",
       "      <th>3</th>\n",
       "      <td>0</td>\n",
       "      <td>999</td>\n",
       "      <td>-1</td>\n",
       "      <td>test</td>\n",
       "    </tr>\n",
       "    <tr>\n",
       "      <th>4</th>\n",
       "      <td>0</td>\n",
       "      <td>999</td>\n",
       "      <td>2</td>\n",
       "      <td>test</td>\n",
       "    </tr>\n",
       "    <tr>\n",
       "      <th>...</th>\n",
       "      <td>...</td>\n",
       "      <td>...</td>\n",
       "      <td>...</td>\n",
       "      <td>...</td>\n",
       "    </tr>\n",
       "    <tr>\n",
       "      <th>656095</th>\n",
       "      <td>6560</td>\n",
       "      <td>999</td>\n",
       "      <td>2</td>\n",
       "      <td>test</td>\n",
       "    </tr>\n",
       "    <tr>\n",
       "      <th>656096</th>\n",
       "      <td>6560</td>\n",
       "      <td>999</td>\n",
       "      <td>-1</td>\n",
       "      <td>test</td>\n",
       "    </tr>\n",
       "    <tr>\n",
       "      <th>656097</th>\n",
       "      <td>6560</td>\n",
       "      <td>999</td>\n",
       "      <td>2</td>\n",
       "      <td>test</td>\n",
       "    </tr>\n",
       "    <tr>\n",
       "      <th>656098</th>\n",
       "      <td>6560</td>\n",
       "      <td>999</td>\n",
       "      <td>0</td>\n",
       "      <td>test</td>\n",
       "    </tr>\n",
       "    <tr>\n",
       "      <th>656099</th>\n",
       "      <td>6560</td>\n",
       "      <td>999</td>\n",
       "      <td>0</td>\n",
       "      <td>test</td>\n",
       "    </tr>\n",
       "  </tbody>\n",
       "</table>\n",
       "<p>656100 rows × 4 columns</p>\n",
       "</div>"
      ],
      "text/plain": [
       "          id  phase  pred_phase type_of\n",
       "0          0    999          -1    test\n",
       "1          0    999          -1    test\n",
       "2          0    999           1    test\n",
       "3          0    999          -1    test\n",
       "4          0    999           2    test\n",
       "...      ...    ...         ...     ...\n",
       "656095  6560    999           2    test\n",
       "656096  6560    999          -1    test\n",
       "656097  6560    999           2    test\n",
       "656098  6560    999           0    test\n",
       "656099  6560    999           0    test\n",
       "\n",
       "[656100 rows x 4 columns]"
      ]
     },
     "execution_count": 33,
     "metadata": {},
     "output_type": "execute_result"
    }
   ],
   "source": [
    "eigen_summary = simulation.eigenvector_summary\n",
    "print(\"length of ham_summary: \", len(eigen_summary))\n",
    "eigen_summary"
   ]
  },
  {
   "cell_type": "markdown",
   "metadata": {
    "papermill": {
     "duration": 0.037297,
     "end_time": "2020-07-18T09:32:39.513669",
     "exception": false,
     "start_time": "2020-07-18T09:32:39.476372",
     "status": "completed"
    },
    "tags": []
   },
   "source": [
    "#### Checking accuracies"
   ]
  },
  {
   "cell_type": "code",
   "execution_count": 34,
   "metadata": {
    "execution": {
     "iopub.execute_input": "2020-07-18T09:32:39.591635Z",
     "iopub.status.busy": "2020-07-18T09:32:39.591326Z",
     "iopub.status.idle": "2020-07-18T09:32:39.601678Z",
     "shell.execute_reply": "2020-07-18T09:32:39.601362Z"
    },
    "papermill": {
     "duration": 0.049979,
     "end_time": "2020-07-18T09:32:39.601728",
     "exception": false,
     "start_time": "2020-07-18T09:32:39.551749",
     "status": "completed"
    },
    "tags": []
   },
   "outputs": [
    {
     "data": {
      "text/plain": [
       "{'eigenvector_train': 0.9996269467584209,\n",
       " 'eigenvector_val': 0.9740688405797101,\n",
       " 'eigenvector_test': 0.6884633294528522,\n",
       " 'hamiltonian_train': 1.0,\n",
       " 'hamiltonian_val': 0.9974637681159421,\n",
       " 'hamiltonian_test': 0.8824214202561118}"
      ]
     },
     "execution_count": 34,
     "metadata": {},
     "output_type": "execute_result"
    }
   ],
   "source": [
    "simulation.accuracy"
   ]
  },
  {
   "cell_type": "markdown",
   "metadata": {
    "papermill": {
     "duration": 0.03745,
     "end_time": "2020-07-18T09:32:39.676660",
     "exception": false,
     "start_time": "2020-07-18T09:32:39.639210",
     "status": "completed"
    },
    "tags": []
   },
   "source": [
    "#### Checking data stored in  memory"
   ]
  },
  {
   "cell_type": "code",
   "execution_count": 35,
   "metadata": {
    "execution": {
     "iopub.execute_input": "2020-07-18T09:32:39.755160Z",
     "iopub.status.busy": "2020-07-18T09:32:39.754851Z",
     "iopub.status.idle": "2020-07-18T09:32:39.765000Z",
     "shell.execute_reply": "2020-07-18T09:32:39.764685Z"
    },
    "papermill": {
     "duration": 0.050128,
     "end_time": "2020-07-18T09:32:39.765051",
     "exception": false,
     "start_time": "2020-07-18T09:32:39.714923",
     "status": "completed"
    },
    "tags": []
   },
   "outputs": [
    {
     "data": {
      "text/plain": [
       "[]"
      ]
     },
     "execution_count": 35,
     "metadata": {},
     "output_type": "execute_result"
    }
   ],
   "source": [
    "ham_summary_list = simulation.hamiltonian_summary_list\n",
    "ham_summary_list"
   ]
  },
  {
   "cell_type": "code",
   "execution_count": 36,
   "metadata": {
    "execution": {
     "iopub.execute_input": "2020-07-18T09:32:39.842773Z",
     "iopub.status.busy": "2020-07-18T09:32:39.842463Z",
     "iopub.status.idle": "2020-07-18T09:32:39.852700Z",
     "shell.execute_reply": "2020-07-18T09:32:39.852379Z"
    },
    "papermill": {
     "duration": 0.049946,
     "end_time": "2020-07-18T09:32:39.852749",
     "exception": false,
     "start_time": "2020-07-18T09:32:39.802803",
     "status": "completed"
    },
    "tags": []
   },
   "outputs": [
    {
     "data": {
      "text/plain": [
       "[]"
      ]
     },
     "execution_count": 36,
     "metadata": {},
     "output_type": "execute_result"
    }
   ],
   "source": [
    "eigen_summary_list = simulation.eigenvector_summary_list\n",
    "eigen_summary_list"
   ]
  },
  {
   "cell_type": "code",
   "execution_count": 37,
   "metadata": {
    "execution": {
     "iopub.execute_input": "2020-07-18T09:32:39.931888Z",
     "iopub.status.busy": "2020-07-18T09:32:39.931570Z",
     "iopub.status.idle": "2020-07-18T09:32:39.942120Z",
     "shell.execute_reply": "2020-07-18T09:32:39.941801Z"
    },
    "papermill": {
     "duration": 0.050787,
     "end_time": "2020-07-18T09:32:39.942170",
     "exception": false,
     "start_time": "2020-07-18T09:32:39.891383",
     "status": "completed"
    },
    "tags": []
   },
   "outputs": [
    {
     "data": {
      "text/plain": [
       "{'eigenvector_train': [],\n",
       " 'eigenvector_val': [],\n",
       " 'eigenvector_test': [],\n",
       " 'hamiltonian_train': [],\n",
       " 'hamiltonian_val': [],\n",
       " 'hamiltonian_test': []}"
      ]
     },
     "execution_count": 37,
     "metadata": {},
     "output_type": "execute_result"
    }
   ],
   "source": [
    "accuracy_list = simulation.accuracy_list\n",
    "accuracy_list"
   ]
  },
  {
   "cell_type": "code",
   "execution_count": null,
   "metadata": {
    "papermill": {
     "duration": 0.037814,
     "end_time": "2020-07-18T09:32:40.017980",
     "exception": false,
     "start_time": "2020-07-18T09:32:39.980166",
     "status": "completed"
    },
    "tags": []
   },
   "outputs": [],
   "source": []
  },
  {
   "cell_type": "code",
   "execution_count": null,
   "metadata": {
    "papermill": {
     "duration": 0.038749,
     "end_time": "2020-07-18T09:32:40.095685",
     "exception": false,
     "start_time": "2020-07-18T09:32:40.056936",
     "status": "completed"
    },
    "tags": []
   },
   "outputs": [],
   "source": []
  },
  {
   "cell_type": "code",
   "execution_count": 38,
   "metadata": {
    "execution": {
     "iopub.execute_input": "2020-07-18T09:32:40.173807Z",
     "iopub.status.busy": "2020-07-18T09:32:40.173498Z",
     "iopub.status.idle": "2020-07-18T09:32:40.183224Z",
     "shell.execute_reply": "2020-07-18T09:32:40.182900Z"
    },
    "papermill": {
     "duration": 0.049552,
     "end_time": "2020-07-18T09:32:40.183274",
     "exception": false,
     "start_time": "2020-07-18T09:32:40.133722",
     "status": "completed"
    },
    "tags": []
   },
   "outputs": [],
   "source": [
    "#simulation.fourier_matrix"
   ]
  },
  {
   "cell_type": "code",
   "execution_count": 39,
   "metadata": {
    "execution": {
     "iopub.execute_input": "2020-07-18T09:32:40.263649Z",
     "iopub.status.busy": "2020-07-18T09:32:40.263311Z",
     "iopub.status.idle": "2020-07-18T09:32:40.273254Z",
     "shell.execute_reply": "2020-07-18T09:32:40.272925Z"
    },
    "papermill": {
     "duration": 0.050702,
     "end_time": "2020-07-18T09:32:40.273305",
     "exception": false,
     "start_time": "2020-07-18T09:32:40.222603",
     "status": "completed"
    },
    "tags": []
   },
   "outputs": [],
   "source": [
    "#simulation.fourier_matrix.shape"
   ]
  },
  {
   "cell_type": "code",
   "execution_count": 40,
   "metadata": {
    "execution": {
     "iopub.execute_input": "2020-07-18T09:32:40.351710Z",
     "iopub.status.busy": "2020-07-18T09:32:40.351403Z",
     "iopub.status.idle": "2020-07-18T09:32:40.360578Z",
     "shell.execute_reply": "2020-07-18T09:32:40.360882Z"
    },
    "papermill": {
     "duration": 0.049502,
     "end_time": "2020-07-18T09:32:40.360945",
     "exception": false,
     "start_time": "2020-07-18T09:32:40.311443",
     "status": "completed"
    },
    "tags": []
   },
   "outputs": [],
   "source": [
    "#simulation.fourier_matrix[:,0]"
   ]
  },
  {
   "cell_type": "code",
   "execution_count": 41,
   "metadata": {
    "execution": {
     "iopub.execute_input": "2020-07-18T09:32:40.441399Z",
     "iopub.status.busy": "2020-07-18T09:32:40.441090Z",
     "iopub.status.idle": "2020-07-18T09:32:40.450631Z",
     "shell.execute_reply": "2020-07-18T09:32:40.450305Z"
    },
    "papermill": {
     "duration": 0.050558,
     "end_time": "2020-07-18T09:32:40.450682",
     "exception": false,
     "start_time": "2020-07-18T09:32:40.400124",
     "status": "completed"
    },
    "tags": []
   },
   "outputs": [],
   "source": [
    "#simulation.fourier_matrix[:,1]"
   ]
  },
  {
   "cell_type": "code",
   "execution_count": 42,
   "metadata": {
    "execution": {
     "iopub.execute_input": "2020-07-18T09:32:40.529115Z",
     "iopub.status.busy": "2020-07-18T09:32:40.528796Z",
     "iopub.status.idle": "2020-07-18T09:32:40.538593Z",
     "shell.execute_reply": "2020-07-18T09:32:40.538243Z"
    },
    "papermill": {
     "duration": 0.049729,
     "end_time": "2020-07-18T09:32:40.538644",
     "exception": false,
     "start_time": "2020-07-18T09:32:40.488915",
     "status": "completed"
    },
    "tags": []
   },
   "outputs": [],
   "source": [
    "#np.exp(-1j*2*np.pi*3/100)"
   ]
  },
  {
   "cell_type": "code",
   "execution_count": 43,
   "metadata": {
    "execution": {
     "iopub.execute_input": "2020-07-18T09:32:40.619089Z",
     "iopub.status.busy": "2020-07-18T09:32:40.618779Z",
     "iopub.status.idle": "2020-07-18T09:32:40.628159Z",
     "shell.execute_reply": "2020-07-18T09:32:40.627834Z"
    },
    "papermill": {
     "duration": 0.050234,
     "end_time": "2020-07-18T09:32:40.628210",
     "exception": false,
     "start_time": "2020-07-18T09:32:40.577976",
     "status": "completed"
    },
    "tags": []
   },
   "outputs": [],
   "source": [
    "#for i in range(1,50):\n",
    "#    print(\"\\n\")\n",
    "#    print(i)\n",
    "#    print(np.sum((np.real(simulation.fourier_matrix[:,i]) - np.real(simulation.fourier_matrix[:,-i]))**2))\n",
    "#    print(np.sum((np.imag(simulation.fourier_matrix[:,i])+ np.imag(simulation.fourier_matrix[:,-i]))**2))"
   ]
  },
  {
   "cell_type": "code",
   "execution_count": 44,
   "metadata": {
    "execution": {
     "iopub.execute_input": "2020-07-18T09:32:40.707080Z",
     "iopub.status.busy": "2020-07-18T09:32:40.706774Z",
     "iopub.status.idle": "2020-07-18T09:32:40.974537Z",
     "shell.execute_reply": "2020-07-18T09:32:40.972762Z"
    },
    "papermill": {
     "duration": 0.308003,
     "end_time": "2020-07-18T09:32:40.974816",
     "exception": false,
     "start_time": "2020-07-18T09:32:40.666813",
     "status": "completed"
    },
    "tags": []
   },
   "outputs": [],
   "source": [
    "#print(simulation.fourier_matrix[:,0])"
   ]
  },
  {
   "cell_type": "code",
   "execution_count": 45,
   "metadata": {
    "execution": {
     "iopub.execute_input": "2020-07-18T09:32:41.580876Z",
     "iopub.status.busy": "2020-07-18T09:32:41.579053Z",
     "iopub.status.idle": "2020-07-18T09:32:41.717030Z",
     "shell.execute_reply": "2020-07-18T09:32:41.715151Z"
    },
    "papermill": {
     "duration": 0.662041,
     "end_time": "2020-07-18T09:32:41.717283",
     "exception": false,
     "start_time": "2020-07-18T09:32:41.055242",
     "status": "completed"
    },
    "tags": []
   },
   "outputs": [],
   "source": [
    "#print(simulation.fourier_matrix[:,50])"
   ]
  },
  {
   "cell_type": "code",
   "execution_count": null,
   "metadata": {
    "papermill": {
     "duration": 0.041492,
     "end_time": "2020-07-18T09:32:41.799027",
     "exception": false,
     "start_time": "2020-07-18T09:32:41.757535",
     "status": "completed"
    },
    "tags": []
   },
   "outputs": [],
   "source": []
  }
 ],
 "metadata": {
  "celltoolbar": "Tags",
  "kernelspec": {
   "display_name": "ml_top_phases",
   "language": "python",
   "name": "ml_top_phases"
  },
  "language_info": {
   "codemirror_mode": {
    "name": "ipython",
    "version": 3
   },
   "file_extension": ".py",
   "mimetype": "text/x-python",
   "name": "python",
   "nbconvert_exporter": "python",
   "pygments_lexer": "ipython3",
   "version": "3.6.10"
  },
  "papermill": {
   "duration": 3238.392364,
   "end_time": "2020-07-18T09:32:41.951112",
   "environment_variables": {},
   "exception": null,
   "input_path": "0_simulation_template.ipynb",
   "output_path": "zzz_ssh2_dst_all_wavevector_sites_simulation_notebook.ipynb",
   "parameters": {
    "allowed_windings": [
     -1,
     0,
     1,
     2
    ],
    "csv_path": "/home/rio/ssh_csvs/ssh2/periodic_100_6561.csv",
    "features_to_use": null,
    "fit_params": null,
    "fourier_features_to_use": null,
    "fourier_fillna": false,
    "fourier_mode": "dst",
    "fourier_normalize": false,
    "fourier_real": null,
    "model_kw": {
     "criterion": "entropy",
     "n_estimators": 25,
     "n_jobs": -1
    },
    "model_name": "RandomForestClassifier",
    "n_experiments": 100,
    "pred_params": null,
    "random_features": false,
    "random_state": 2018,
    "save_accuracy": true,
    "save_eigenvector": true,
    "save_hamiltonian": true,
    "save_models": true,
    "shuffle_features": false,
    "shuffle_rows": true,
    "simulation_dir": "/home/rio/ssh_simulations/ssh2/periodic_100_6561/dst_all_wavevector_sites",
    "start_n": 0,
    "store_in_lists": false,
    "val_split": 0.5
   },
   "start_time": "2020-07-18T08:38:43.558748",
   "version": "2.1.0"
  }
 },
 "nbformat": 4,
 "nbformat_minor": 2
}