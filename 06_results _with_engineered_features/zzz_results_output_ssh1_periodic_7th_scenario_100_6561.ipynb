{
 "cells": [
  {
   "cell_type": "markdown",
   "metadata": {
    "papermill": {
     "duration": 0.077434,
     "end_time": "2020-07-11T21:32:06.626846",
     "exception": false,
     "start_time": "2020-07-11T21:32:06.549412",
     "status": "completed"
    },
    "tags": []
   },
   "source": [
    "# Results template\n",
    "\n",
    "In this notebook we get the results of simulations performed with the nearest neighbours (ssh1) and second neighbours (ssh2) systems."
   ]
  },
  {
   "cell_type": "code",
   "execution_count": 1,
   "metadata": {
    "execution": {
     "iopub.execute_input": "2020-07-11T21:32:06.669533Z",
     "iopub.status.busy": "2020-07-11T21:32:06.669179Z",
     "iopub.status.idle": "2020-07-11T21:32:07.204857Z",
     "shell.execute_reply": "2020-07-11T21:32:07.204504Z"
    },
    "papermill": {
     "duration": 0.55797,
     "end_time": "2020-07-11T21:32:07.204915",
     "exception": false,
     "start_time": "2020-07-11T21:32:06.646945",
     "status": "completed"
    },
    "tags": []
   },
   "outputs": [],
   "source": [
    "%load_ext autoreload\n",
    "%autoreload 2\n",
    "from simulation_results import *\n",
    "#import template_parameters"
   ]
  },
  {
   "cell_type": "markdown",
   "metadata": {
    "papermill": {
     "duration": 0.021108,
     "end_time": "2020-07-11T21:32:07.247715",
     "exception": false,
     "start_time": "2020-07-11T21:32:07.226607",
     "status": "completed"
    },
    "tags": []
   },
   "source": [
    "# Defining parameters"
   ]
  },
  {
   "cell_type": "code",
   "execution_count": 2,
   "metadata": {
    "execution": {
     "iopub.execute_input": "2020-07-11T21:32:07.292351Z",
     "iopub.status.busy": "2020-07-11T21:32:07.291909Z",
     "iopub.status.idle": "2020-07-11T21:32:07.307820Z",
     "shell.execute_reply": "2020-07-11T21:32:07.307501Z"
    },
    "papermill": {
     "duration": 0.038871,
     "end_time": "2020-07-11T21:32:07.307871",
     "exception": false,
     "start_time": "2020-07-11T21:32:07.269000",
     "status": "completed"
    },
    "tags": [
     "parameters"
    ]
   },
   "outputs": [
    {
     "name": "stdout",
     "output_type": "stream",
     "text": [
      "CPU times: user 295 µs, sys: 0 ns, total: 295 µs\n",
      "Wall time: 226 µs\n"
     ]
    }
   ],
   "source": [
    "%%time\n",
    "\n",
    "#########################################################################\n",
    "###################### Simulation and experiment ########################\n",
    "#########################################################################\n",
    "\n",
    "#figs_dir = \"/home/linneu/paper/ml_topological_phases_in_real_space/paper/ssh1/periodic_100_6561\"\n",
    "simulation_dir = SSH1_PERIODIC_1ST_SCENARIO_100_6561_SIMULATION_DIR  #\"/home/linneu/ssh_simulations/ssh1/periodic_100_6561\"\n",
    "figures_dir = SSH1_PERIODIC_1ST_SCENARIO_100_6561_FIGURES_DIR \n",
    "experiment_name = \"0\"\n",
    "n_experiments = None\n",
    "load_hamiltonian_summary = False\n",
    "#winding_cmap_dict = {0: \"Reds\", 1:\"Blues\"}\n",
    "\n",
    "#########################################################################\n",
    "################### Results from a single experiment ####################\n",
    "#########################################################################\n",
    "\n",
    "### Visualizing train/val/test splits with scatter plot for a single experiment\n",
    "scatter_train_val_test_params = {\n",
    "\"fig_params\":{\"figsize\": (6,6)}, \n",
    "\"val_params\": {\"marker\": \"s\", \"s\": 64, \"alpha\": 0.2, \"color\": \"salmon\", \"label\": \"val\"},\n",
    "\"test_params\": {\"marker\": \"s\", \"s\": 64, \"alpha\": 0.5, \"color\": \"royalblue\", \"label\": \"test\"},\n",
    "\"train_params\": {\"marker\": \"o\", \"s\": 3, \"alpha\": 1, \"color\": \"green\", \"label\": \"train\"},\n",
    "\"legend_params\": {\"framealpha\": 0.8, \"loc\": \"upper right\", \"fontsize\": 16},\n",
    "\"xlabel_params\": {\"xlabel\": \"$t_2$\", \"fontsize\": 24},\n",
    "\"ylabel_params\": {\"ylabel\": \"$t_1$\", \"fontsize\": 24},\n",
    "\"title_params\": {},\n",
    "\"xlim_params\": {\"left\": -2, \"right\": 2},\n",
    "\"ylim_params\": {\"bottom\": -2, \"top\": 2},\n",
    "\"xticks_params\": {\"fontsize\": 14},\n",
    "\"yticks_params\": {\"fontsize\": 14},\n",
    "\"tight_params\": {},\n",
    "\"savefig_params\": {\"fname\": os.path.join(figures_dir,\"scatter_train_val_test_experiment_0.png\")},\n",
    "}\n",
    "\n",
    "### Plotting train winding labels with scatter plot for a single experiment\n",
    "scatter_winding_train_params = {\n",
    "\"fig_params\":{\"figsize\": (6,6)}, \n",
    "\"winding_params\": {0: {\"marker\": \"o\", \"s\": 10, \"color\": \"red\", \"label\": 0}, \\\n",
    "                   1: {\"marker\": \"o\", \"s\": 10, \"color\": \"blue\", \"label\": 1}, \\\n",
    "                                    },\n",
    "\"legend_params\": {\"framealpha\": 0.8, \"loc\": \"upper right\", \"fontsize\": 16},\n",
    "\"xlabel_params\": {\"xlabel\": \"$t_2$\", \"fontsize\": 24},\n",
    "\"ylabel_params\": {\"ylabel\": \"$t_1$\", \"fontsize\": 24},\n",
    "\"title_params\": {},\n",
    "\"xlim_params\": {\"left\": -2, \"right\": 2},\n",
    "\"ylim_params\": {\"bottom\": -2, \"top\": 2},\n",
    "\"xticks_params\": {\"fontsize\": 14},\n",
    "\"yticks_params\": {\"fontsize\": 14},\n",
    "\"tight_params\": {},\n",
    "#\"train_winding_path_to_save\": \"/home/linneu/ml_topological_phases_in_real_space/paper/ssh1/periodic_100_6561/train_winding_labels_experiment_0.png\",\n",
    "\"savefig_params\": {\"fname\": os.path.join(figures_dir,\"scatter_winding_train_experiment_0.png\")},\n",
    "}\n",
    "        \n",
    "### Plotting prediction grid with pcolormesh\n",
    "pcolormesh_prediction_grid_params = {\n",
    "\"fig_params\": {\"figsize\": (6,6)},\n",
    "\"winding_params\": {0: {\"marker\": \"o\", \"s\": 10, \"color\": \"red\", \"label\": 0}, \n",
    "                   1: {\"marker\": \"o\", \"s\": 10, \"color\": \"blue\", \"label\": 1}},\n",
    "#\"prediction_grid_pcolormesh_params\": {\"cmap\": ListedColormap([\"hotpink\", \"lightskyblue\"]), \"alpha\": 0.5},\n",
    "\"pcolormesh_params\": {\"cmap\": \"ssh1\", \"alpha\": 0.5},\n",
    "\"legend_params\": {\"framealpha\": 0.8, \"loc\": \"upper right\", \"fontsize\": 16},\n",
    "\"xlabel_params\": {\"xlabel\": \"$t_2$\", \"fontsize\": 24},\n",
    "\"ylabel_params\": {\"ylabel\": \"$t_1$\", \"fontsize\": 24},\n",
    "\"title_params\": {},\n",
    "\"xlim_params\": {\"left\": -2, \"right\": 2},\n",
    "\"ylim_params\": {\"bottom\": -2, \"top\": 2},\n",
    "\"xticks_params\": {\"fontsize\": 14},\n",
    "\"yticks_params\": {\"fontsize\": 14},\n",
    "\"tight_params\": {},\n",
    "\"savefig_params\": {\"fname\": os.path.join(figures_dir,\"pcolormesh_prediction_grid_experiment_0.png\")},\n",
    "}\n",
    "    \n",
    "### Plotting Winding Heatmaps for a single experiment\n",
    "winding_cmap_dict = {0: \"Reds\", 1:\"Blues\"}\n",
    "imshow_winding_grid_params = {\n",
    "\"winding\": 1,\n",
    "\"imshow_params\": {\"cmap\": \"bwr_r\", \"aspect\": \"equal\", \"alpha\": None, \"origin\": \"lower\", \"extent\": [-2,2,-2,2],\\\n",
    "                  \"vmin\": 0, \"vmax\":1},\n",
    "\"colorbar_params\": {\"mappable\": None, \"labelsize\": 24, \"ticks\": [0, 0.2, 0.4, 0.6, 0.8, 1.0], \"pad\": 0.1, \"shrink\": 0.8, \\\n",
    "                                           \"extend\": \"neither\"},\n",
    "#\"colorbar_params\": {0:{\"mappable\": None, \"labelsize\": 24, \"ticks\": [0, 0.2, 0.4, 0.6, 0.8, 1.0], \"pad\": 0.1, \"shrink\": 0.8, \\\n",
    "#                                           \"extend\": \"neither\"},\n",
    "#                    1: {\"mappable\": None, \"labelsize\": 24, \"ticks\": [0, 0.2, 0.4, 0.6, 0.8, 1.0], \"pad\": 0.1, \"shrink\": 0.8, \\\n",
    "#                                           \"extend\": \"neither\"}},\n",
    "\"fig_params\": {\"figsize\": (12,12)},\n",
    "\"xlabel_params\": {\"xlabel\": \"$t_2$\", \"fontsize\": 48},\n",
    "\"ylabel_params\": {\"ylabel\": \"$t_1$\", \"fontsize\": 48},\n",
    "\"title_params\": {},\n",
    "\"xlim_params\": {\"left\": -2, \"right\": 2},\n",
    "\"ylim_params\": {\"bottom\": -2, \"top\": 2},\n",
    "\"xticks_params\": {\"fontsize\": 24},\n",
    "\"yticks_params\": {\"fontsize\": 24},\n",
    "\"tight_params\": {},\n",
    "\"savefig_params\": {\"fname\": os.path.join(figures_dir,\"imshow_winding_grid_winding_{}_{}.png\")},\n",
    "} \n",
    "        \n",
    "##################################################################################\n",
    "################### Bootstrapped results from all experiments ####################\n",
    "##################################################################################\n",
    "    \n",
    "### Plotting simulation winding heatmaps\n",
    "merge_imshow_winding_grids_params = {\n",
    "\"winding_params\": {1: {\"cmap\": \"bwr_r\", \"aspect\": \"equal\", \"alpha\": None, \"origin\": \"lower\", \"extent\": [-2,2,-2,2], \\\n",
    "                  \"vmin\": 0, \"vmax\": 1}},\n",
    "#\"winding_params\": {0: {\"cmap\": \"Reds_alpha\", \"aspect\": \"equal\", \"alpha\": None, \"origin\": \"lower\", \"extent\": [-2,2,-2,2], \\\n",
    "#                                           \"vmin\": 0, \"vmax\": 1},\n",
    "#                       1: {\"cmap\": \"Blues_alpha\", \"aspect\": \"equal\", \"alpha\": None, \"origin\": \"lower\", \"extent\": [-2,2,-2,2], \\\n",
    "#                                           \"vmin\": 0, \"vmax\": 1}},\n",
    "\"colorbar_params\": {1: {\"mappable\": None, \"labelsize\": 24, \"ticks\": [0, 0.2, 0.4, 0.6, 0.8, 1.0], \"pad\": 0.1, \"shrink\": 0.8, \\\n",
    "                                           \"extend\": \"neither\"}},\n",
    "\"fig_params\": {\"figsize\": (12,12)},\n",
    "\"xlabel_params\": {\"xlabel\": \"$t_2$\", \"fontsize\": 48},\n",
    "\"ylabel_params\": {\"ylabel\": \"$t_1$\", \"fontsize\": 48},\n",
    "\"title_params\": {},\n",
    "\"xlim_params\": {\"left\": -2, \"right\": 2},\n",
    "\"ylim_params\": {\"bottom\": -2, \"top\": 2},\n",
    "\"xticks_params\": {\"fontsize\": 24},\n",
    "\"yticks_params\": {\"fontsize\": 24},\n",
    "\"tight_params\": {},\n",
    "#\"sim_winding_heatmap_path_to_save\": \"/home/linneu/ml_topological_phases_in_real_space/paper/ssh1/{}_{}_{}/simulation_merged_winding_grid.png\".format(ssh_type,chain_length,n_hamiltonians),\n",
    "\"savefig_params\": {\"fname\": os.path.join(figures_dir,\"merge_winding_grids_{}.png\")},\n",
    "}\n",
    "        \n",
    "### Plotting feature importances\n",
    "plot_feature_importances_params = {\n",
    "\"n_features\": None,\n",
    "\"plot\": \"bar\",\n",
    "\"plot_params\": {\"color\": \"indianred\", \"width\": 0.7},\n",
    "\"hist_precision\": 1000,\n",
    "\"fig_params\": {\"figsize\": (12,12)}, \n",
    "\"xlabel_params\": {\"xlabel\": \"lattice site\", \"fontsize\": 24},\n",
    "\"ylabel_params\": {\"ylabel\": \"reduction in information entropy (%)\", \"fontsize\": 24},\n",
    "\"title_params\": {\"label\": \"Information entropy signature - SSH 1\", \"fontsize\": 24},\n",
    "\"xlim_params\": {},\n",
    "\"ylim_params\": {},\n",
    "\"xticks_params\": {\"ticks\": [int(i) for i in np.linspace(0,99,10).astype(int)], \"fontsize\": 24},\n",
    "\"yticks_params\": {\"fontsize\": 24},\n",
    "\"tight_params\": {},\n",
    "#\"feature_importances_path_to_save\": \"/home/linneu/ml_topological_phases_in_real_space/paper/ssh1/{}_{}_{}/feature_importances.png\".format(ssh_type,chain_length,n_hamiltonians),\n",
    "\"savefig_params\": {\"fname\": os.path.join(figures_dir,\"plot_feature_importances.png\")},\n",
    "}\n",
    "\n",
    "### Plotting cumulative feature importances\n",
    "plot_cumulative_feature_importances_params = {\n",
    "\"n_features\": None,\n",
    "\"plot\": \"bar\",\n",
    "\"hist_precision\": 1000,\n",
    "\"plot_params\": {\"color\":\"indianred\", \"width\": 0.7},\n",
    "\"fig_params\": {\"figsize\": (12,12)},\n",
    "\"xlabel_params\": {\"xlabel\": \"lattice site\", \"fontsize\": 24},\n",
    "\"ylabel_params\": {\"ylabel\": \"cumulative reduction in information entropy (%)\", \"fontsize\": 24},\n",
    "\"title_params\": {\"label\": \"Cumulative information entropy signature - SSH 1\", \"fontsize\": 24},\n",
    "\"xlim_params\": {},\n",
    "\"ylim_params\": {},\n",
    "\"xticks_params\": {\"ticks\": [int(i) for i in np.linspace(0,99,10).astype(int)], \"fontsize\": 24},\n",
    "\"yticks_params\": {\"fontsize\": 24},\n",
    "\"tight_params\": {},\n",
    "#cumulative_features_path_to_save = \"/home/linneu/ml_topological_phases_in_real_space/paper/ssh1/periodic_100_6561/cumulative_feature_importances.png\"\n",
    "\"savefig_params\": {\"fname\": os.path.join(figures_dir,\"plot_cumulative_feature_importances.png\")},\n",
    "}\n",
    "\n",
    "### Plotting fourier feature importances\n",
    "plot_fourier_feature_importances_params = {\n",
    "\"n_features\": None,\n",
    "\"fourier\": True,\n",
    "\"plot\": \"bar\",\n",
    "\"plot_params\": {\"color\": \"palevioletred\", \"width\": 0.7},\n",
    "\"hist_precision\": 1000,\n",
    "\"fig_params\": {\"figsize\": (12,12)}, \n",
    "\"xlabel_params\": {\"xlabel\": \"reciprocal lattice site\", \"fontsize\": 24},\n",
    "\"ylabel_params\": {\"ylabel\": \"reduction in information entropy (%)\", \"fontsize\": 24},\n",
    "\"title_params\": {\"label\": \"Reciprocal lattice information entropy signature - SSH 1\", \"fontsize\": 24},\n",
    "\"xlim_params\": {},\n",
    "\"ylim_params\": {},\n",
    "\"xticks_params\": {\"ticks\": [int(i) for i in np.linspace(0,99,10).astype(int)], \"fontsize\": 24},\n",
    "\"yticks_params\": {\"fontsize\": 24},\n",
    "\"tight_params\": {},\n",
    "#\"feature_importances_path_to_save\": \"/home/linneu/ml_topological_phases_in_real_space/paper/ssh1/{}_{}_{}/feature_importances.png\".format(ssh_type,chain_length,n_hamiltonians),\n",
    "\"savefig_params\": {\"fname\": os.path.join(figures_dir,\"plot_feature_importances.png\")},\n",
    "}\n",
    "\n",
    "### Plotting cumulative fourier feature importances\n",
    "plot_cumulative_fourier_feature_importances_params = {\n",
    "\"n_features\": None,\n",
    "\"fourier\": True,\n",
    "\"plot\": \"bar\",\n",
    "\"hist_precision\": 1000,\n",
    "\"plot_params\": {\"color\":\"palevioletred\", \"width\": 0.7},\n",
    "\"fig_params\": {\"figsize\": (12,12)},\n",
    "\"xlabel_params\": {\"xlabel\": \"lattice site\", \"fontsize\": 24},\n",
    "\"ylabel_params\": {\"ylabel\": \"cumulative reduction in information entropy (%)\", \"fontsize\": 24},\n",
    "\"title_params\": {\"label\": \"Cumulative information entropy signature - SSH 1\", \"fontsize\": 24},\n",
    "\"xlim_params\": {},\n",
    "\"ylim_params\": {},\n",
    "\"xticks_params\": {\"ticks\": [int(i) for i in np.linspace(0,99,10).astype(int)], \"fontsize\": 24},\n",
    "\"yticks_params\": {\"fontsize\": 24},\n",
    "\"tight_params\": {},\n",
    "#cumulative_features_path_to_save = \"/home/linneu/ml_topological_phases_in_real_space/paper/ssh1/periodic_100_6561/cumulative_feature_importances.png\"\n",
    "\"savefig_params\": {\"fname\": os.path.join(figures_dir,\"plot_cumulative_feature_importances.png\")},\n",
    "}"
   ]
  },
  {
   "cell_type": "code",
   "execution_count": 3,
   "metadata": {
    "execution": {
     "iopub.execute_input": "2020-07-11T21:32:07.423063Z",
     "iopub.status.busy": "2020-07-11T21:32:07.416354Z",
     "iopub.status.idle": "2020-07-11T21:32:07.527037Z",
     "shell.execute_reply": "2020-07-11T21:32:07.528006Z"
    },
    "papermill": {
     "duration": 0.200251,
     "end_time": "2020-07-11T21:32:07.528232",
     "exception": false,
     "start_time": "2020-07-11T21:32:07.327981",
     "status": "completed"
    },
    "tags": [
     "injected-parameters"
    ]
   },
   "outputs": [],
   "source": [
    "# Parameters\n",
    "scatter_train_val_test_params = {\n",
    "    \"fig_params\": {\"figsize\": [6, 6]},\n",
    "    \"val_params\": {\n",
    "        \"marker\": \"s\",\n",
    "        \"s\": 64,\n",
    "        \"alpha\": 0.2,\n",
    "        \"color\": \"salmon\",\n",
    "        \"label\": \"val\",\n",
    "    },\n",
    "    \"test_params\": {\n",
    "        \"marker\": \"s\",\n",
    "        \"s\": 64,\n",
    "        \"alpha\": 0.5,\n",
    "        \"color\": \"royalblue\",\n",
    "        \"label\": \"test\",\n",
    "    },\n",
    "    \"train_params\": {\n",
    "        \"marker\": \"o\",\n",
    "        \"s\": 3,\n",
    "        \"alpha\": 1,\n",
    "        \"color\": \"green\",\n",
    "        \"label\": \"train\",\n",
    "    },\n",
    "    \"legend_params\": {\"framealpha\": 0.8, \"loc\": \"upper right\", \"fontsize\": 16},\n",
    "    \"xlabel_params\": {\"xlabel\": \"$t_2$\", \"fontsize\": 24},\n",
    "    \"ylabel_params\": {\"ylabel\": \"$t_1$\", \"fontsize\": 24},\n",
    "    \"title_params\": {},\n",
    "    \"xlim_params\": {\"left\": -2, \"right\": 2},\n",
    "    \"ylim_params\": {\"bottom\": -2, \"top\": 2},\n",
    "    \"xticks_params\": {\"fontsize\": 14},\n",
    "    \"yticks_params\": {\"fontsize\": 14},\n",
    "    \"tight_params\": {},\n",
    "    \"savefig_params\": {\n",
    "        \"fname\": \"/home/rio/ml_topological_phases_in_real_space/5_paper/ssh1/periodic_7th_scenario_100_6561/scatter_train_val_test_experiment_0.png\"\n",
    "    },\n",
    "}\n",
    "scatter_winding_train_params = {\n",
    "    \"fig_params\": {\"figsize\": [6, 6]},\n",
    "    \"winding_params\": {\n",
    "        \"0\": {\"marker\": \"o\", \"s\": 10, \"color\": \"red\", \"label\": 0},\n",
    "        \"1\": {\"marker\": \"o\", \"s\": 10, \"color\": \"blue\", \"label\": 1},\n",
    "    },\n",
    "    \"legend_params\": {\"framealpha\": 0.8, \"loc\": \"upper right\", \"fontsize\": 16},\n",
    "    \"xlabel_params\": {\"xlabel\": \"$t_2$\", \"fontsize\": 24},\n",
    "    \"ylabel_params\": {\"ylabel\": \"$t_1$\", \"fontsize\": 24},\n",
    "    \"title_params\": {},\n",
    "    \"xlim_params\": {\"left\": -2, \"right\": 2},\n",
    "    \"ylim_params\": {\"bottom\": -2, \"top\": 2},\n",
    "    \"xticks_params\": {\"fontsize\": 14},\n",
    "    \"yticks_params\": {\"fontsize\": 14},\n",
    "    \"tight_params\": {},\n",
    "    \"savefig_params\": {\n",
    "        \"fname\": \"/home/rio/ml_topological_phases_in_real_space/5_paper/ssh1/periodic_7th_scenario_100_6561/scatter_winding_train_experiment_0.png\"\n",
    "    },\n",
    "}\n",
    "pcolormesh_prediction_grid_params = {\n",
    "    \"fig_params\": {\"figsize\": [6, 6]},\n",
    "    \"winding_params\": {\n",
    "        \"0\": {\"marker\": \"o\", \"s\": 10, \"color\": \"red\", \"label\": 0},\n",
    "        \"1\": {\"marker\": \"o\", \"s\": 10, \"color\": \"blue\", \"label\": 1},\n",
    "    },\n",
    "    \"pcolormesh_params\": {\"cmap\": \"ssh1\", \"alpha\": 0.5},\n",
    "    \"legend_params\": {\"framealpha\": 0.8, \"loc\": \"upper right\", \"fontsize\": 16},\n",
    "    \"xlabel_params\": {\"xlabel\": \"$t_2$\", \"fontsize\": 24},\n",
    "    \"ylabel_params\": {\"ylabel\": \"$t_1$\", \"fontsize\": 24},\n",
    "    \"title_params\": {},\n",
    "    \"xlim_params\": {\"left\": -2, \"right\": 2},\n",
    "    \"ylim_params\": {\"bottom\": -2, \"top\": 2},\n",
    "    \"xticks_params\": {\"fontsize\": 14},\n",
    "    \"yticks_params\": {\"fontsize\": 14},\n",
    "    \"tight_params\": {},\n",
    "    \"savefig_params\": {\n",
    "        \"fname\": \"/home/rio/ml_topological_phases_in_real_space/5_paper/ssh1/periodic_7th_scenario_100_6561/pcolormesh_prediction_grid_experiment_0.png\"\n",
    "    },\n",
    "}\n",
    "winding_cmap_dict = {\"0\": \"Reds\", \"1\": \"Blues\"}\n",
    "imshow_winding_grid_params = {\n",
    "    \"winding\": 1,\n",
    "    \"imshow_params\": {\n",
    "        \"cmap\": \"bwr_r\",\n",
    "        \"aspect\": \"equal\",\n",
    "        \"alpha\": None,\n",
    "        \"origin\": \"lower\",\n",
    "        \"extent\": [-2, 2, -2, 2],\n",
    "        \"vmin\": 0,\n",
    "        \"vmax\": 1,\n",
    "    },\n",
    "    \"colorbar_params\": {\n",
    "        \"mappable\": None,\n",
    "        \"labelsize\": 24,\n",
    "        \"ticks\": [0, 0.2, 0.4, 0.6, 0.8, 1.0],\n",
    "        \"pad\": 0.1,\n",
    "        \"shrink\": 0.8,\n",
    "        \"extend\": \"neither\",\n",
    "    },\n",
    "    \"fig_params\": {\"figsize\": [12, 12]},\n",
    "    \"xlabel_params\": {\"xlabel\": \"$t_2$\", \"fontsize\": 48},\n",
    "    \"ylabel_params\": {\"ylabel\": \"$t_1$\", \"fontsize\": 48},\n",
    "    \"title_params\": {},\n",
    "    \"xlim_params\": {\"left\": -2, \"right\": 2},\n",
    "    \"ylim_params\": {\"bottom\": -2, \"top\": 2},\n",
    "    \"xticks_params\": {\"fontsize\": 24},\n",
    "    \"yticks_params\": {\"fontsize\": 24},\n",
    "    \"tight_params\": {},\n",
    "    \"savefig_params\": {\n",
    "        \"fname\": \"/home/rio/ml_topological_phases_in_real_space/5_paper/ssh1/periodic_7th_scenario_100_6561/imshow_winding_grid_winding_{}_{}.png\"\n",
    "    },\n",
    "}\n",
    "merge_imshow_winding_grids_params = {\n",
    "    \"winding_params\": {\n",
    "        \"0\": {\n",
    "            \"cmap\": \"Reds_alpha\",\n",
    "            \"aspect\": \"equal\",\n",
    "            \"alpha\": None,\n",
    "            \"origin\": \"lower\",\n",
    "            \"extent\": [-2, 2, -2, 2],\n",
    "            \"vmin\": 0,\n",
    "            \"vmax\": 1,\n",
    "        },\n",
    "        \"1\": {\n",
    "            \"cmap\": \"Blues_alpha\",\n",
    "            \"aspect\": \"equal\",\n",
    "            \"alpha\": None,\n",
    "            \"origin\": \"lower\",\n",
    "            \"extent\": [-2, 2, -2, 2],\n",
    "            \"vmin\": 0,\n",
    "            \"vmax\": 1,\n",
    "        },\n",
    "    },\n",
    "    \"colorbar_params\": {},\n",
    "    \"fig_params\": {\"figsize\": [12, 12]},\n",
    "    \"xlabel_params\": {\"xlabel\": \"$t_2$\", \"fontsize\": 48},\n",
    "    \"ylabel_params\": {\"ylabel\": \"$t_1$\", \"fontsize\": 48},\n",
    "    \"title_params\": {},\n",
    "    \"xlim_params\": {\"left\": -2, \"right\": 2},\n",
    "    \"ylim_params\": {\"bottom\": -2, \"top\": 2},\n",
    "    \"xticks_params\": {\"fontsize\": 24},\n",
    "    \"yticks_params\": {\"fontsize\": 24},\n",
    "    \"tight_params\": {},\n",
    "    \"savefig_params\": {\n",
    "        \"fname\": \"/home/rio/ml_topological_phases_in_real_space/5_paper/ssh1/periodic_7th_scenario_100_6561/merge_imshow_winding_grids_second_{}.png\"\n",
    "    },\n",
    "}\n",
    "plot_feature_importances_params = {\n",
    "    \"n_features\": None,\n",
    "    \"plot\": \"bar\",\n",
    "    \"plot_params\": {\"color\": \"indianred\", \"width\": 0.7},\n",
    "    \"hist_precision\": 1000,\n",
    "    \"fig_params\": {\"figsize\": [12, 12]},\n",
    "    \"xlabel_params\": {\"xlabel\": \"lattice site\", \"fontsize\": 24},\n",
    "    \"ylabel_params\": {\"ylabel\": \"reduction in information entropy (%)\", \"fontsize\": 24},\n",
    "    \"title_params\": {\n",
    "        \"label\": \"Information entropy signature (real space) - SSH 1\",\n",
    "        \"fontsize\": 24,\n",
    "    },\n",
    "    \"xlim_params\": {},\n",
    "    \"ylim_params\": {},\n",
    "    \"xticks_params\": {\"ticks\": [0, 11, 22, 33, 44, 55, 66, 77, 88, 99], \"fontsize\": 24},\n",
    "    \"yticks_params\": {\"fontsize\": 24},\n",
    "    \"tight_params\": {},\n",
    "    \"savefig_params\": {\n",
    "        \"fname\": \"/home/rio/ml_topological_phases_in_real_space/5_paper/ssh1/periodic_7th_scenario_100_6561/plot_feature_importances.png\"\n",
    "    },\n",
    "}\n",
    "plot_cumulative_feature_importances_params = {\n",
    "    \"n_features\": None,\n",
    "    \"plot\": \"bar\",\n",
    "    \"hist_precision\": 1000,\n",
    "    \"plot_params\": {\"color\": \"indianred\", \"width\": 0.7},\n",
    "    \"fig_params\": {\"figsize\": [12, 12]},\n",
    "    \"xlabel_params\": {\"xlabel\": \"lattice site\", \"fontsize\": 24},\n",
    "    \"ylabel_params\": {\n",
    "        \"ylabel\": \"cumulative reduction in information entropy (%)\",\n",
    "        \"fontsize\": 24,\n",
    "    },\n",
    "    \"title_params\": {\n",
    "        \"label\": \"Cumulative information entropy signature (real space) - SSH 1\",\n",
    "        \"fontsize\": 24,\n",
    "    },\n",
    "    \"xlim_params\": {},\n",
    "    \"ylim_params\": {},\n",
    "    \"xticks_params\": {\"ticks\": [0, 11, 22, 33, 44, 55, 66, 77, 88, 99], \"fontsize\": 24},\n",
    "    \"yticks_params\": {\"fontsize\": 24},\n",
    "    \"tight_params\": {},\n",
    "    \"savefig_params\": {\n",
    "        \"fname\": \"/home/rio/ml_topological_phases_in_real_space/5_paper/ssh1/periodic_7th_scenario_100_6561/plot_cumulative_feature_importances.png\"\n",
    "    },\n",
    "}\n",
    "plot_fourier_feature_importances_params = {\n",
    "    \"n_features\": None,\n",
    "    \"fourier\": True,\n",
    "    \"plot\": \"bar\",\n",
    "    \"plot_params\": {\"color\": \"palevioletred\", \"width\": 0.7},\n",
    "    \"hist_precision\": 1000,\n",
    "    \"fig_params\": {\"figsize\": [12, 12]},\n",
    "    \"xlabel_params\": {\"xlabel\": \"reciprocal lattice site\", \"fontsize\": 24},\n",
    "    \"ylabel_params\": {\"ylabel\": \"reduction in information entropy (%)\", \"fontsize\": 24},\n",
    "    \"title_params\": {\n",
    "        \"label\": \"Information entropy signature (wavevector space) - SSH 1\",\n",
    "        \"fontsize\": 24,\n",
    "    },\n",
    "    \"xlim_params\": {},\n",
    "    \"ylim_params\": {},\n",
    "    \"xticks_params\": {\"ticks\": [0, 11, 22, 33, 44, 55, 66, 77, 88, 99], \"fontsize\": 24},\n",
    "    \"yticks_params\": {\"fontsize\": 24},\n",
    "    \"tight_params\": {},\n",
    "    \"savefig_params\": {\n",
    "        \"fname\": \"/home/rio/ml_topological_phases_in_real_space/5_paper/ssh1/periodic_7th_scenario_100_6561/plot_fourier_feature_importances.png\"\n",
    "    },\n",
    "}\n",
    "plot_cumulative_fourier_feature_importances_params = {\n",
    "    \"n_features\": None,\n",
    "    \"fourier\": True,\n",
    "    \"plot\": \"bar\",\n",
    "    \"hist_precision\": 1000,\n",
    "    \"plot_params\": {\"color\": \"palevioletred\", \"width\": 0.7},\n",
    "    \"fig_params\": {\"figsize\": [12, 12]},\n",
    "    \"xlabel_params\": {\"xlabel\": \"reciprocal lattice site\", \"fontsize\": 24},\n",
    "    \"ylabel_params\": {\n",
    "        \"ylabel\": \"cumulative reduction in information entropy (%)\",\n",
    "        \"fontsize\": 24,\n",
    "    },\n",
    "    \"title_params\": {\n",
    "        \"label\": \"Cumulative information entropy signature (wavevector space) - SSH 1\",\n",
    "        \"fontsize\": 24,\n",
    "    },\n",
    "    \"xlim_params\": {},\n",
    "    \"ylim_params\": {},\n",
    "    \"xticks_params\": {\"ticks\": [0, 11, 22, 33, 44, 55, 66, 77, 88, 99], \"fontsize\": 24},\n",
    "    \"yticks_params\": {\"fontsize\": 24},\n",
    "    \"tight_params\": {},\n",
    "    \"savefig_params\": {\n",
    "        \"fname\": \"/home/rio/ml_topological_phases_in_real_space/5_paper/ssh1/periodic_7th_scenario_100_6561/plot_cumulative_fourier_feature_importances.png\"\n",
    "    },\n",
    "}\n",
    "simulation_dir = \"/home/rio/ssh_simulations/ssh1/periodic_7th_scenario_100_6561\"\n",
    "figures_dir = \"/home/rio/ml_topological_phases_in_real_space/5_paper/ssh1/periodic_7th_scenario_100_6561\"\n",
    "experiment_name = \"0\"\n",
    "n_experiments = None\n",
    "load_hamiltonian_summary = False\n"
   ]
  },
  {
   "cell_type": "markdown",
   "metadata": {
    "papermill": {
     "duration": 0.02146,
     "end_time": "2020-07-11T21:32:07.601732",
     "exception": false,
     "start_time": "2020-07-11T21:32:07.580272",
     "status": "completed"
    },
    "tags": []
   },
   "source": [
    "## Results from a single experiment"
   ]
  },
  {
   "cell_type": "markdown",
   "metadata": {
    "papermill": {
     "duration": 0.019774,
     "end_time": "2020-07-11T21:32:07.642623",
     "exception": false,
     "start_time": "2020-07-11T21:32:07.622849",
     "status": "completed"
    },
    "tags": []
   },
   "source": [
    "#### Initializing Experiment instance"
   ]
  },
  {
   "cell_type": "code",
   "execution_count": 4,
   "metadata": {
    "execution": {
     "iopub.execute_input": "2020-07-11T21:32:07.684954Z",
     "iopub.status.busy": "2020-07-11T21:32:07.684644Z",
     "iopub.status.idle": "2020-07-11T21:32:08.109544Z",
     "shell.execute_reply": "2020-07-11T21:32:08.109202Z"
    },
    "papermill": {
     "duration": 0.447531,
     "end_time": "2020-07-11T21:32:08.109597",
     "exception": false,
     "start_time": "2020-07-11T21:32:07.662066",
     "status": "completed"
    },
    "tags": []
   },
   "outputs": [],
   "source": [
    "experiment = Experiment(simulation_dir, experiment_name)"
   ]
  },
  {
   "cell_type": "markdown",
   "metadata": {
    "papermill": {
     "duration": 0.01947,
     "end_time": "2020-07-11T21:32:08.149384",
     "exception": false,
     "start_time": "2020-07-11T21:32:08.129914",
     "status": "completed"
    },
    "tags": []
   },
   "source": [
    "#### Viewing Train/Val/Test split"
   ]
  },
  {
   "cell_type": "code",
   "execution_count": 5,
   "metadata": {
    "execution": {
     "iopub.execute_input": "2020-07-11T21:32:08.190511Z",
     "iopub.status.busy": "2020-07-11T21:32:08.190198Z",
     "iopub.status.idle": "2020-07-11T21:32:08.200372Z",
     "shell.execute_reply": "2020-07-11T21:32:08.200684Z"
    },
    "papermill": {
     "duration": 0.03176,
     "end_time": "2020-07-11T21:32:08.200753",
     "exception": false,
     "start_time": "2020-07-11T21:32:08.168993",
     "status": "completed"
    },
    "tags": []
   },
   "outputs": [
    {
     "name": "stdout",
     "output_type": "stream",
     "text": [
      "% train:  0.08474317939338516\n",
      "% val:  0.7620789513793629\n",
      "% test:  0.15317786922725193\n",
      "% train + val + test:  1.0\n",
      "\n",
      "\n",
      "number of train hamiltonians:  556\n",
      "number of val hamiltonians:  5000\n",
      "number of test hamiltonians:  1005\n",
      "total number of hamiltonians:  6561\n"
     ]
    }
   ],
   "source": [
    "experiment.print_train_val_test()"
   ]
  },
  {
   "cell_type": "markdown",
   "metadata": {
    "papermill": {
     "duration": 0.025592,
     "end_time": "2020-07-11T21:32:08.245860",
     "exception": false,
     "start_time": "2020-07-11T21:32:08.220268",
     "status": "completed"
    },
    "tags": []
   },
   "source": [
    "#### Viewing dataset summary"
   ]
  },
  {
   "cell_type": "code",
   "execution_count": 6,
   "metadata": {
    "execution": {
     "iopub.execute_input": "2020-07-11T21:32:08.288558Z",
     "iopub.status.busy": "2020-07-11T21:32:08.288242Z",
     "iopub.status.idle": "2020-07-11T21:32:08.376586Z",
     "shell.execute_reply": "2020-07-11T21:32:08.377053Z"
    },
    "papermill": {
     "duration": 0.110788,
     "end_time": "2020-07-11T21:32:08.377169",
     "exception": false,
     "start_time": "2020-07-11T21:32:08.266381",
     "status": "completed"
    },
    "tags": []
   },
   "outputs": [
    {
     "name": "stdout",
     "output_type": "stream",
     "text": [
      "Summary of train + val data\n",
      "\n",
      "% train/val phases: \n",
      "0    0.507919\n",
      "1    0.492081\n",
      "Name: phase, dtype: float64\n",
      "\n",
      "\n",
      "total train/val phases: \n",
      "0    2822\n",
      "1    2734\n",
      "Name: phase, dtype: int64\n",
      "\n",
      "\n",
      "Summary of test data\n",
      "\n",
      "% test phases: \n",
      "1    0.552133\n",
      "0    0.447867\n",
      "Name: phase, dtype: float64\n",
      "\n",
      "\n",
      "total test phases: \n",
      "1    466\n",
      "0    378\n",
      "Name: phase, dtype: int64\n",
      "\n",
      "\n",
      "Summary of train + val + test data\n",
      "\n",
      "% phases: \n",
      "1    0.5\n",
      "0    0.5\n",
      "Name: phase, dtype: float64\n",
      "\n",
      "\n",
      "total phases: \n",
      "1    3200\n",
      "0    3200\n",
      "Name: phase, dtype: int64\n"
     ]
    }
   ],
   "source": [
    "experiment.print_phases()"
   ]
  },
  {
   "cell_type": "markdown",
   "metadata": {
    "papermill": {
     "duration": 0.021512,
     "end_time": "2020-07-11T21:32:08.430097",
     "exception": false,
     "start_time": "2020-07-11T21:32:08.408585",
     "status": "completed"
    },
    "tags": []
   },
   "source": [
    "#### Viewing eigenvector summary"
   ]
  },
  {
   "cell_type": "code",
   "execution_count": 7,
   "metadata": {
    "execution": {
     "iopub.execute_input": "2020-07-11T21:32:08.472983Z",
     "iopub.status.busy": "2020-07-11T21:32:08.472673Z",
     "iopub.status.idle": "2020-07-11T21:32:08.501675Z",
     "shell.execute_reply": "2020-07-11T21:32:08.501357Z"
    },
    "papermill": {
     "duration": 0.051128,
     "end_time": "2020-07-11T21:32:08.501725",
     "exception": false,
     "start_time": "2020-07-11T21:32:08.450597",
     "status": "completed"
    },
    "tags": []
   },
   "outputs": [
    {
     "data": {
      "text/html": [
       "<div>\n",
       "<style scoped>\n",
       "    .dataframe tbody tr th:only-of-type {\n",
       "        vertical-align: middle;\n",
       "    }\n",
       "\n",
       "    .dataframe tbody tr th {\n",
       "        vertical-align: top;\n",
       "    }\n",
       "\n",
       "    .dataframe thead th {\n",
       "        text-align: right;\n",
       "    }\n",
       "</style>\n",
       "<table border=\"1\" class=\"dataframe\">\n",
       "  <thead>\n",
       "    <tr style=\"text-align: right;\">\n",
       "      <th></th>\n",
       "      <th>id</th>\n",
       "      <th>phase</th>\n",
       "      <th>pred_phase</th>\n",
       "      <th>type_of</th>\n",
       "    </tr>\n",
       "  </thead>\n",
       "  <tbody>\n",
       "    <tr>\n",
       "      <th>0</th>\n",
       "      <td>0</td>\n",
       "      <td>999</td>\n",
       "      <td>1</td>\n",
       "      <td>test</td>\n",
       "    </tr>\n",
       "    <tr>\n",
       "      <th>1</th>\n",
       "      <td>0</td>\n",
       "      <td>999</td>\n",
       "      <td>0</td>\n",
       "      <td>test</td>\n",
       "    </tr>\n",
       "    <tr>\n",
       "      <th>2</th>\n",
       "      <td>0</td>\n",
       "      <td>999</td>\n",
       "      <td>0</td>\n",
       "      <td>test</td>\n",
       "    </tr>\n",
       "    <tr>\n",
       "      <th>3</th>\n",
       "      <td>0</td>\n",
       "      <td>999</td>\n",
       "      <td>1</td>\n",
       "      <td>test</td>\n",
       "    </tr>\n",
       "    <tr>\n",
       "      <th>4</th>\n",
       "      <td>0</td>\n",
       "      <td>999</td>\n",
       "      <td>1</td>\n",
       "      <td>test</td>\n",
       "    </tr>\n",
       "  </tbody>\n",
       "</table>\n",
       "</div>"
      ],
      "text/plain": [
       "   id  phase  pred_phase type_of\n",
       "0   0    999           1    test\n",
       "1   0    999           0    test\n",
       "2   0    999           0    test\n",
       "3   0    999           1    test\n",
       "4   0    999           1    test"
      ]
     },
     "execution_count": 7,
     "metadata": {},
     "output_type": "execute_result"
    }
   ],
   "source": [
    "experiment.eigenvector_summary.head()"
   ]
  },
  {
   "cell_type": "markdown",
   "metadata": {
    "papermill": {
     "duration": 0.059711,
     "end_time": "2020-07-11T21:32:08.581196",
     "exception": false,
     "start_time": "2020-07-11T21:32:08.521485",
     "status": "completed"
    },
    "tags": []
   },
   "source": [
    "#### Vieweng Hamiltonian summary"
   ]
  },
  {
   "cell_type": "code",
   "execution_count": 8,
   "metadata": {
    "execution": {
     "iopub.execute_input": "2020-07-11T21:32:08.671201Z",
     "iopub.status.busy": "2020-07-11T21:32:08.670893Z",
     "iopub.status.idle": "2020-07-11T21:32:08.761406Z",
     "shell.execute_reply": "2020-07-11T21:32:08.760453Z"
    },
    "papermill": {
     "duration": 0.123514,
     "end_time": "2020-07-11T21:32:08.761545",
     "exception": false,
     "start_time": "2020-07-11T21:32:08.638031",
     "status": "completed"
    },
    "tags": []
   },
   "outputs": [
    {
     "data": {
      "text/html": [
       "<div>\n",
       "<style scoped>\n",
       "    .dataframe tbody tr th:only-of-type {\n",
       "        vertical-align: middle;\n",
       "    }\n",
       "\n",
       "    .dataframe tbody tr th {\n",
       "        vertical-align: top;\n",
       "    }\n",
       "\n",
       "    .dataframe thead th {\n",
       "        text-align: right;\n",
       "    }\n",
       "</style>\n",
       "<table border=\"1\" class=\"dataframe\">\n",
       "  <thead>\n",
       "    <tr style=\"text-align: right;\">\n",
       "      <th></th>\n",
       "      <th>t1</th>\n",
       "      <th>t2</th>\n",
       "      <th>type_of</th>\n",
       "      <th>0</th>\n",
       "      <th>1</th>\n",
       "      <th>phase</th>\n",
       "      <th>pred_phase</th>\n",
       "    </tr>\n",
       "    <tr>\n",
       "      <th>id</th>\n",
       "      <th></th>\n",
       "      <th></th>\n",
       "      <th></th>\n",
       "      <th></th>\n",
       "      <th></th>\n",
       "      <th></th>\n",
       "      <th></th>\n",
       "    </tr>\n",
       "  </thead>\n",
       "  <tbody>\n",
       "    <tr>\n",
       "      <th>0</th>\n",
       "      <td>-2.0</td>\n",
       "      <td>-2.00</td>\n",
       "      <td>test</td>\n",
       "      <td>0.55</td>\n",
       "      <td>0.45</td>\n",
       "      <td>999</td>\n",
       "      <td>0</td>\n",
       "    </tr>\n",
       "    <tr>\n",
       "      <th>1</th>\n",
       "      <td>-2.0</td>\n",
       "      <td>-1.95</td>\n",
       "      <td>test</td>\n",
       "      <td>0.45</td>\n",
       "      <td>0.55</td>\n",
       "      <td>0</td>\n",
       "      <td>1</td>\n",
       "    </tr>\n",
       "    <tr>\n",
       "      <th>2</th>\n",
       "      <td>-2.0</td>\n",
       "      <td>-1.90</td>\n",
       "      <td>test</td>\n",
       "      <td>0.44</td>\n",
       "      <td>0.56</td>\n",
       "      <td>0</td>\n",
       "      <td>1</td>\n",
       "    </tr>\n",
       "    <tr>\n",
       "      <th>3</th>\n",
       "      <td>-2.0</td>\n",
       "      <td>-1.85</td>\n",
       "      <td>test</td>\n",
       "      <td>0.51</td>\n",
       "      <td>0.49</td>\n",
       "      <td>0</td>\n",
       "      <td>0</td>\n",
       "    </tr>\n",
       "    <tr>\n",
       "      <th>4</th>\n",
       "      <td>-2.0</td>\n",
       "      <td>-1.80</td>\n",
       "      <td>test</td>\n",
       "      <td>0.48</td>\n",
       "      <td>0.52</td>\n",
       "      <td>0</td>\n",
       "      <td>1</td>\n",
       "    </tr>\n",
       "  </tbody>\n",
       "</table>\n",
       "</div>"
      ],
      "text/plain": [
       "     t1    t2 type_of     0     1  phase  pred_phase\n",
       "id                                                  \n",
       "0  -2.0 -2.00    test  0.55  0.45    999           0\n",
       "1  -2.0 -1.95    test  0.45  0.55      0           1\n",
       "2  -2.0 -1.90    test  0.44  0.56      0           1\n",
       "3  -2.0 -1.85    test  0.51  0.49      0           0\n",
       "4  -2.0 -1.80    test  0.48  0.52      0           1"
      ]
     },
     "execution_count": 8,
     "metadata": {},
     "output_type": "execute_result"
    }
   ],
   "source": [
    "experiment.hamiltonian_summary.head()"
   ]
  },
  {
   "cell_type": "markdown",
   "metadata": {
    "papermill": {
     "duration": 0.022658,
     "end_time": "2020-07-11T21:32:08.833084",
     "exception": false,
     "start_time": "2020-07-11T21:32:08.810426",
     "status": "completed"
    },
    "tags": []
   },
   "source": [
    "#### Viewing accuracy"
   ]
  },
  {
   "cell_type": "code",
   "execution_count": 9,
   "metadata": {
    "execution": {
     "iopub.execute_input": "2020-07-11T21:32:08.878689Z",
     "iopub.status.busy": "2020-07-11T21:32:08.878368Z",
     "iopub.status.idle": "2020-07-11T21:32:08.889056Z",
     "shell.execute_reply": "2020-07-11T21:32:08.889356Z"
    },
    "papermill": {
     "duration": 0.034283,
     "end_time": "2020-07-11T21:32:08.889420",
     "exception": false,
     "start_time": "2020-07-11T21:32:08.855137",
     "status": "completed"
    },
    "tags": []
   },
   "outputs": [
    {
     "data": {
      "text/plain": [
       "{'eigenvector_train': 0.9585611510791366,\n",
       " 'eigenvector_val': 0.728598,\n",
       " 'eigenvector_test': 0.5741469194312796,\n",
       " 'hamiltonian_train': 0.987410071942446,\n",
       " 'hamiltonian_val': 0.9856,\n",
       " 'hamiltonian_test': 0.7808056872037915}"
      ]
     },
     "execution_count": 9,
     "metadata": {},
     "output_type": "execute_result"
    }
   ],
   "source": [
    "experiment.accuracy"
   ]
  },
  {
   "cell_type": "markdown",
   "metadata": {
    "papermill": {
     "duration": 0.029789,
     "end_time": "2020-07-11T21:32:08.940188",
     "exception": false,
     "start_time": "2020-07-11T21:32:08.910399",
     "status": "completed"
    },
    "tags": []
   },
   "source": [
    "#### Visualizing train/val/test splits with scatter plot for a single experiment"
   ]
  },
  {
   "cell_type": "code",
   "execution_count": 10,
   "metadata": {
    "execution": {
     "iopub.execute_input": "2020-07-11T21:32:08.997872Z",
     "iopub.status.busy": "2020-07-11T21:32:08.997532Z",
     "iopub.status.idle": "2020-07-11T21:32:09.415072Z",
     "shell.execute_reply": "2020-07-11T21:32:09.415376Z"
    },
    "papermill": {
     "duration": 0.440868,
     "end_time": "2020-07-11T21:32:09.415442",
     "exception": false,
     "start_time": "2020-07-11T21:32:08.974574",
     "status": "completed"
    },
    "tags": []
   },
   "outputs": [
    {
     "data": {
      "image/png": "[encoded data removed]",
      "text/plain": [
       "<Figure size 432x432 with 1 Axes>"
      ]
     },
     "metadata": {
      "needs_background": "light"
     },
     "output_type": "display_data"
    }
   ],
   "source": [
    "experiment.scatter_train_val_test(**scatter_train_val_test_params)\n"
   ]
  },
  {
   "cell_type": "markdown",
   "metadata": {
    "papermill": {
     "duration": 0.021994,
     "end_time": "2020-07-11T21:32:09.459565",
     "exception": false,
     "start_time": "2020-07-11T21:32:09.437571",
     "status": "completed"
    },
    "tags": []
   },
   "source": [
    "#### Plotting train winding labels with scatter plot for a single experiment"
   ]
  },
  {
   "cell_type": "code",
   "execution_count": 11,
   "metadata": {
    "execution": {
     "iopub.execute_input": "2020-07-11T21:32:09.507986Z",
     "iopub.status.busy": "2020-07-11T21:32:09.507678Z",
     "iopub.status.idle": "2020-07-11T21:32:09.753129Z",
     "shell.execute_reply": "2020-07-11T21:32:09.752793Z"
    },
    "papermill": {
     "duration": 0.269997,
     "end_time": "2020-07-11T21:32:09.753184",
     "exception": false,
     "start_time": "2020-07-11T21:32:09.483187",
     "status": "completed"
    },
    "tags": []
   },
   "outputs": [
    {
     "data": {
      "image/png": "[encoded data removed]",
      "text/plain": [
       "<Figure size 432x432 with 1 Axes>"
      ]
     },
     "metadata": {
      "needs_background": "light"
     },
     "output_type": "display_data"
    }
   ],
   "source": [
    "scatter_winding_train_params[\"winding_params\"] = {int(w): scatter_winding_train_params[\"winding_params\"][w] for w in \n",
    "                                                  scatter_winding_train_params[\"winding_params\"]}\n",
    "experiment.scatter_winding_train(**scatter_winding_train_params)\n"
   ]
  },
  {
   "cell_type": "markdown",
   "metadata": {
    "papermill": {
     "duration": 0.030787,
     "end_time": "2020-07-11T21:32:09.809541",
     "exception": false,
     "start_time": "2020-07-11T21:32:09.778754",
     "status": "completed"
    },
    "tags": []
   },
   "source": [
    "#### Plotting prediction grid with pcolormesh for a single experiment"
   ]
  },
  {
   "cell_type": "code",
   "execution_count": 12,
   "metadata": {
    "execution": {
     "iopub.execute_input": "2020-07-11T21:32:09.863007Z",
     "iopub.status.busy": "2020-07-11T21:32:09.862491Z",
     "iopub.status.idle": "2020-07-11T21:32:10.078981Z",
     "shell.execute_reply": "2020-07-11T21:32:10.079371Z"
    },
    "papermill": {
     "duration": 0.244155,
     "end_time": "2020-07-11T21:32:10.079454",
     "exception": false,
     "start_time": "2020-07-11T21:32:09.835299",
     "status": "completed"
    },
    "tags": []
   },
   "outputs": [
    {
     "data": {
      "image/png": "[encoded data removed]",
      "text/plain": [
       "<Figure size 432x432 with 1 Axes>"
      ]
     },
     "metadata": {
      "needs_background": "light"
     },
     "output_type": "display_data"
    }
   ],
   "source": [
    "pcolormesh_prediction_grid_params[\"winding_params\"] = {int(w): pcolormesh_prediction_grid_params[\"winding_params\"][w] for w in \n",
    "                                                  pcolormesh_prediction_grid_params[\"winding_params\"]}\n",
    "experiment.pcolormesh_prediction_grid(**pcolormesh_prediction_grid_params)\n"
   ]
  },
  {
   "cell_type": "markdown",
   "metadata": {
    "papermill": {
     "duration": 0.023274,
     "end_time": "2020-07-11T21:32:10.126725",
     "exception": false,
     "start_time": "2020-07-11T21:32:10.103451",
     "status": "completed"
    },
    "tags": []
   },
   "source": [
    "#### Plotting single Winding Heatmaps for a single experiment"
   ]
  },
  {
   "cell_type": "code",
   "execution_count": 13,
   "metadata": {
    "execution": {
     "iopub.execute_input": "2020-07-11T21:32:10.175025Z",
     "iopub.status.busy": "2020-07-11T21:32:10.174518Z",
     "iopub.status.idle": "2020-07-11T21:32:10.892149Z",
     "shell.execute_reply": "2020-07-11T21:32:10.891832Z"
    },
    "papermill": {
     "duration": 0.742667,
     "end_time": "2020-07-11T21:32:10.892199",
     "exception": false,
     "start_time": "2020-07-11T21:32:10.149532",
     "status": "completed"
    },
    "tags": []
   },
   "outputs": [
    {
     "data": {
      "image/png": "[encoded data removed]",
      "text/plain": [
       "<Figure size 864x864 with 2 Axes>"
      ]
     },
     "metadata": {
      "needs_background": "light"
     },
     "output_type": "display_data"
    },
    {
     "data": {
      "image/png": "[encoded data removed]",
      "text/plain": [
       "<Figure size 864x864 with 2 Axes>"
      ]
     },
     "metadata": {
      "needs_background": "light"
     },
     "output_type": "display_data"
    }
   ],
   "source": [
    "winding_cmap_dict = {int(w): winding_cmap_dict[w] for w in                                                   winding_cmap_dict}\n",
    "fname = imshow_winding_grid_params[\"savefig_params\"][\"fname\"]\n",
    "for w, c in winding_cmap_dict.items():\n",
    "    imshow_winding_grid_params[\"winding\"] = w\n",
    "    imshow_winding_grid_params[\"imshow_params\"][\"cmap\"] = c\n",
    "    imshow_winding_grid_params[\"savefig_params\"][\"fname\"] = fname.format(w,\"exp_\"+experiment_name)\n",
    "    experiment.imshow_winding_grid(**imshow_winding_grid_params)\n",
    "imshow_winding_grid_params[\"savefig_params\"][\"fname\"] = fname"
   ]
  },
  {
   "cell_type": "markdown",
   "metadata": {
    "papermill": {
     "duration": 0.025053,
     "end_time": "2020-07-11T21:32:10.943070",
     "exception": false,
     "start_time": "2020-07-11T21:32:10.918017",
     "status": "completed"
    },
    "tags": []
   },
   "source": [
    "#### Plotting Merged Winding Heatmaps for a single experiment"
   ]
  },
  {
   "cell_type": "code",
   "execution_count": 14,
   "metadata": {
    "execution": {
     "iopub.execute_input": "2020-07-11T21:32:10.995629Z",
     "iopub.status.busy": "2020-07-11T21:32:10.995310Z",
     "iopub.status.idle": "2020-07-11T21:32:11.432468Z",
     "shell.execute_reply": "2020-07-11T21:32:11.432720Z"
    },
    "papermill": {
     "duration": 0.464464,
     "end_time": "2020-07-11T21:32:11.432787",
     "exception": false,
     "start_time": "2020-07-11T21:32:10.968323",
     "status": "completed"
    },
    "tags": []
   },
   "outputs": [
    {
     "name": "stdout",
     "output_type": "stream",
     "text": [
      "Plotting winding 0\n",
      "Plotting winding 1\n"
     ]
    },
    {
     "data": {
      "image/png": "[encoded data removed]",
      "text/plain": [
       "<Figure size 864x864 with 1 Axes>"
      ]
     },
     "metadata": {
      "needs_background": "light"
     },
     "output_type": "display_data"
    }
   ],
   "source": [
    "merge_imshow_winding_grids_params[\"winding_params\"] = {int(w): merge_imshow_winding_grids_params[\"winding_params\"][w] for w in \n",
    "                                                  merge_imshow_winding_grids_params[\"winding_params\"]}\n",
    "merge_imshow_winding_grids_params[\"colorbar_params\"] = {int(w): merge_imshow_winding_grids_params[\"colorbar_params\"][w] for w in \n",
    "                                                  merge_imshow_winding_grids_params[\"colorbar_params\"]}\n",
    "fname = merge_imshow_winding_grids_params[\"savefig_params\"][\"fname\"]\n",
    "merge_imshow_winding_grids_params[\"savefig_params\"][\"fname\"] = fname.format(\"exp_\"+experiment_name)\n",
    "experiment.merge_imshow_winding_grids(**merge_imshow_winding_grids_params)\n",
    "merge_imshow_winding_grids_params[\"savefig_params\"][\"fname\"] = fname"
   ]
  },
  {
   "cell_type": "markdown",
   "metadata": {
    "papermill": {
     "duration": 0.026203,
     "end_time": "2020-07-11T21:32:11.485407",
     "exception": false,
     "start_time": "2020-07-11T21:32:11.459204",
     "status": "completed"
    },
    "tags": []
   },
   "source": [
    "## Results from all experiments "
   ]
  },
  {
   "cell_type": "markdown",
   "metadata": {
    "papermill": {
     "duration": 0.025608,
     "end_time": "2020-07-11T21:32:11.536544",
     "exception": false,
     "start_time": "2020-07-11T21:32:11.510936",
     "status": "completed"
    },
    "tags": []
   },
   "source": [
    "#### Initializing ExperimentEnsemble instance"
   ]
  },
  {
   "cell_type": "code",
   "execution_count": 15,
   "metadata": {
    "execution": {
     "iopub.execute_input": "2020-07-11T21:32:11.591331Z",
     "iopub.status.busy": "2020-07-11T21:32:11.590987Z",
     "iopub.status.idle": "2020-07-11T21:32:11.755425Z",
     "shell.execute_reply": "2020-07-11T21:32:11.755083Z"
    },
    "papermill": {
     "duration": 0.192578,
     "end_time": "2020-07-11T21:32:11.755480",
     "exception": false,
     "start_time": "2020-07-11T21:32:11.562902",
     "status": "completed"
    },
    "tags": []
   },
   "outputs": [],
   "source": [
    "simulation = ExperimentEnsemble(simulation_dir, n_experiments, load_hamiltonian_summary)"
   ]
  },
  {
   "cell_type": "markdown",
   "metadata": {
    "papermill": {
     "duration": 0.027794,
     "end_time": "2020-07-11T21:32:11.809939",
     "exception": false,
     "start_time": "2020-07-11T21:32:11.782145",
     "status": "completed"
    },
    "tags": []
   },
   "source": [
    "#### Computing Hamiltonian summary"
   ]
  },
  {
   "cell_type": "code",
   "execution_count": 16,
   "metadata": {
    "execution": {
     "iopub.execute_input": "2020-07-11T21:32:11.863179Z",
     "iopub.status.busy": "2020-07-11T21:32:11.862859Z",
     "iopub.status.idle": "2020-07-11T21:32:12.775194Z",
     "shell.execute_reply": "2020-07-11T21:32:12.774879Z"
    },
    "papermill": {
     "duration": 0.939662,
     "end_time": "2020-07-11T21:32:12.775245",
     "exception": false,
     "start_time": "2020-07-11T21:32:11.835583",
     "status": "completed"
    },
    "tags": []
   },
   "outputs": [
    {
     "name": "stderr",
     "output_type": "stream",
     "text": [
      "\r",
      "mean hamiltonian summary:   0%|          | 0/100 [00:00<?, ?it/s]"
     ]
    },
    {
     "name": "stderr",
     "output_type": "stream",
     "text": [
      "\r",
      "mean hamiltonian summary:  12%|█▏        | 12/100 [00:00<00:00, 116.96it/s]"
     ]
    },
    {
     "name": "stderr",
     "output_type": "stream",
     "text": [
      "\r",
      "mean hamiltonian summary:  30%|███       | 30/100 [00:00<00:00, 130.26it/s]"
     ]
    },
    {
     "name": "stderr",
     "output_type": "stream",
     "text": [
      "\r",
      "mean hamiltonian summary:  49%|████▉     | 49/100 [00:00<00:00, 142.60it/s]"
     ]
    },
    {
     "name": "stderr",
     "output_type": "stream",
     "text": [
      "\r",
      "mean hamiltonian summary:  64%|██████▍   | 64/100 [00:00<00:00, 138.61it/s]"
     ]
    },
    {
     "name": "stderr",
     "output_type": "stream",
     "text": [
      "\r",
      "mean hamiltonian summary:  80%|████████  | 80/100 [00:00<00:00, 144.04it/s]"
     ]
    },
    {
     "name": "stderr",
     "output_type": "stream",
     "text": [
      "\r",
      "mean hamiltonian summary:  98%|█████████▊| 98/100 [00:00<00:00, 153.08it/s]"
     ]
    },
    {
     "name": "stderr",
     "output_type": "stream",
     "text": [
      "\r",
      "mean hamiltonian summary: 100%|██████████| 100/100 [00:00<00:00, 156.34it/s]"
     ]
    },
    {
     "name": "stderr",
     "output_type": "stream",
     "text": [
      "\n",
      "\r",
      "majority vote:   0%|          | 0/6561 [00:00<?, ?it/s]"
     ]
    },
    {
     "name": "stderr",
     "output_type": "stream",
     "text": [
      "\r",
      "majority vote: 100%|██████████| 6561/6561 [00:00<00:00, 66098.12it/s]"
     ]
    },
    {
     "name": "stderr",
     "output_type": "stream",
     "text": [
      "\n"
     ]
    }
   ],
   "source": [
    "simulation.compute_hamiltonian_summary()"
   ]
  },
  {
   "cell_type": "markdown",
   "metadata": {
    "papermill": {
     "duration": 0.028055,
     "end_time": "2020-07-11T21:32:12.832145",
     "exception": false,
     "start_time": "2020-07-11T21:32:12.804090",
     "status": "completed"
    },
    "tags": []
   },
   "source": [
    "#### Plotting single winding heatmaps for a simulation"
   ]
  },
  {
   "cell_type": "code",
   "execution_count": 17,
   "metadata": {
    "execution": {
     "iopub.execute_input": "2020-07-11T21:32:12.892723Z",
     "iopub.status.busy": "2020-07-11T21:32:12.892209Z",
     "iopub.status.idle": "2020-07-11T21:32:13.615397Z",
     "shell.execute_reply": "2020-07-11T21:32:13.615058Z"
    },
    "papermill": {
     "duration": 0.753629,
     "end_time": "2020-07-11T21:32:13.615451",
     "exception": false,
     "start_time": "2020-07-11T21:32:12.861822",
     "status": "completed"
    },
    "tags": []
   },
   "outputs": [
    {
     "data": {
      "image/png": "[encoded data removed]",
      "text/plain": [
       "<Figure size 864x864 with 2 Axes>"
      ]
     },
     "metadata": {
      "needs_background": "light"
     },
     "output_type": "display_data"
    },
    {
     "data": {
      "image/png": "[encoded data removed]",
      "text/plain": [
       "<Figure size 864x864 with 2 Axes>"
      ]
     },
     "metadata": {
      "needs_background": "light"
     },
     "output_type": "display_data"
    }
   ],
   "source": [
    "winding_cmap_dict = {int(w): winding_cmap_dict[w] for w in                                                   winding_cmap_dict}\n",
    "fname = imshow_winding_grid_params[\"savefig_params\"][\"fname\"]\n",
    "for w, c in winding_cmap_dict.items():\n",
    "    imshow_winding_grid_params[\"winding\"] = w\n",
    "    imshow_winding_grid_params[\"imshow_params\"][\"cmap\"] = c\n",
    "    imshow_winding_grid_params[\"savefig_params\"][\"fname\"] = fname.format(w,\"sim\")\n",
    "    simulation.imshow_winding_grid(**imshow_winding_grid_params)\n",
    "imshow_winding_grid_params[\"savefig_params\"][\"fname\"] = fname"
   ]
  },
  {
   "cell_type": "markdown",
   "metadata": {
    "papermill": {
     "duration": 0.031937,
     "end_time": "2020-07-11T21:32:13.678761",
     "exception": false,
     "start_time": "2020-07-11T21:32:13.646824",
     "status": "completed"
    },
    "tags": []
   },
   "source": [
    "#### Plotting merged simulation winding heatmaps"
   ]
  },
  {
   "cell_type": "code",
   "execution_count": 18,
   "metadata": {
    "execution": {
     "iopub.execute_input": "2020-07-11T21:32:13.744764Z",
     "iopub.status.busy": "2020-07-11T21:32:13.744441Z",
     "iopub.status.idle": "2020-07-11T21:32:14.192119Z",
     "shell.execute_reply": "2020-07-11T21:32:14.192374Z"
    },
    "papermill": {
     "duration": 0.482088,
     "end_time": "2020-07-11T21:32:14.192451",
     "exception": false,
     "start_time": "2020-07-11T21:32:13.710363",
     "status": "completed"
    },
    "tags": []
   },
   "outputs": [
    {
     "name": "stdout",
     "output_type": "stream",
     "text": [
      "Plotting winding 0\n",
      "Plotting winding 1\n"
     ]
    },
    {
     "data": {
      "image/png": "[encoded data removed]",
      "text/plain": [
       "<Figure size 864x864 with 1 Axes>"
      ]
     },
     "metadata": {
      "needs_background": "light"
     },
     "output_type": "display_data"
    }
   ],
   "source": [
    "merge_imshow_winding_grids_params[\"winding_params\"] = {int(w): merge_imshow_winding_grids_params[\"winding_params\"][w] for w in \n",
    "                                                  merge_imshow_winding_grids_params[\"winding_params\"]}\n",
    "merge_imshow_winding_grids_params[\"colorbar_params\"] = {int(w): merge_imshow_winding_grids_params[\"colorbar_params\"][w] for w in \n",
    "                                                  merge_imshow_winding_grids_params[\"colorbar_params\"]}\n",
    "fname = merge_imshow_winding_grids_params[\"savefig_params\"][\"fname\"]\n",
    "merge_imshow_winding_grids_params[\"savefig_params\"][\"fname\"] = fname.format(\"sim\")\n",
    "simulation.merge_imshow_winding_grids(**merge_imshow_winding_grids_params)\n",
    "merge_imshow_winding_grids_params[\"savefig_params\"][\"fname\"] = fname"
   ]
  },
  {
   "cell_type": "markdown",
   "metadata": {
    "papermill": {
     "duration": 0.031777,
     "end_time": "2020-07-11T21:32:14.262301",
     "exception": false,
     "start_time": "2020-07-11T21:32:14.230524",
     "status": "completed"
    },
    "tags": []
   },
   "source": [
    "#### Computing mean accuracies"
   ]
  },
  {
   "cell_type": "code",
   "execution_count": 19,
   "metadata": {
    "execution": {
     "iopub.execute_input": "2020-07-11T21:32:14.329405Z",
     "iopub.status.busy": "2020-07-11T21:32:14.329088Z",
     "iopub.status.idle": "2020-07-11T21:32:38.276430Z",
     "shell.execute_reply": "2020-07-11T21:32:38.276102Z"
    },
    "papermill": {
     "duration": 23.982771,
     "end_time": "2020-07-11T21:32:38.276479",
     "exception": false,
     "start_time": "2020-07-11T21:32:14.293708",
     "status": "completed"
    },
    "tags": []
   },
   "outputs": [
    {
     "name": "stderr",
     "output_type": "stream",
     "text": [
      "\r",
      "computing mean accuracies:   0%|          | 0/100 [00:00<?, ?it/s]"
     ]
    },
    {
     "name": "stderr",
     "output_type": "stream",
     "text": [
      "\r",
      "computing mean accuracies:   1%|          | 1/100 [00:00<00:15,  6.53it/s]"
     ]
    },
    {
     "name": "stderr",
     "output_type": "stream",
     "text": [
      "\r",
      "computing mean accuracies:   2%|▏         | 2/100 [00:00<00:18,  5.38it/s]"
     ]
    },
    {
     "name": "stderr",
     "output_type": "stream",
     "text": [
      "\r",
      "computing mean accuracies:   3%|▎         | 3/100 [00:00<00:20,  4.75it/s]"
     ]
    },
    {
     "name": "stderr",
     "output_type": "stream",
     "text": [
      "\r",
      "computing mean accuracies:   4%|▍         | 4/100 [00:00<00:21,  4.55it/s]"
     ]
    },
    {
     "name": "stderr",
     "output_type": "stream",
     "text": [
      "\r",
      "computing mean accuracies:   5%|▌         | 5/100 [00:01<00:19,  4.89it/s]"
     ]
    },
    {
     "name": "stderr",
     "output_type": "stream",
     "text": [
      "\r",
      "computing mean accuracies:   6%|▌         | 6/100 [00:01<00:20,  4.60it/s]"
     ]
    },
    {
     "name": "stderr",
     "output_type": "stream",
     "text": [
      "\r",
      "computing mean accuracies:   7%|▋         | 7/100 [00:01<00:20,  4.60it/s]"
     ]
    },
    {
     "name": "stderr",
     "output_type": "stream",
     "text": [
      "\r",
      "computing mean accuracies:   8%|▊         | 8/100 [00:01<00:20,  4.53it/s]"
     ]
    },
    {
     "name": "stderr",
     "output_type": "stream",
     "text": [
      "\r",
      "computing mean accuracies:   9%|▉         | 9/100 [00:02<00:19,  4.56it/s]"
     ]
    },
    {
     "name": "stderr",
     "output_type": "stream",
     "text": [
      "\r",
      "computing mean accuracies:  10%|█         | 10/100 [00:02<00:20,  4.29it/s]"
     ]
    },
    {
     "name": "stderr",
     "output_type": "stream",
     "text": [
      "\r",
      "computing mean accuracies:  11%|█         | 11/100 [00:02<00:20,  4.32it/s]"
     ]
    },
    {
     "name": "stderr",
     "output_type": "stream",
     "text": [
      "\r",
      "computing mean accuracies:  12%|█▏        | 12/100 [00:02<00:21,  4.03it/s]"
     ]
    },
    {
     "name": "stderr",
     "output_type": "stream",
     "text": [
      "\r",
      "computing mean accuracies:  13%|█▎        | 13/100 [00:03<00:21,  4.04it/s]"
     ]
    },
    {
     "name": "stderr",
     "output_type": "stream",
     "text": [
      "\r",
      "computing mean accuracies:  14%|█▍        | 14/100 [00:03<00:21,  4.06it/s]"
     ]
    },
    {
     "name": "stderr",
     "output_type": "stream",
     "text": [
      "\r",
      "computing mean accuracies:  15%|█▌        | 15/100 [00:03<00:20,  4.15it/s]"
     ]
    },
    {
     "name": "stderr",
     "output_type": "stream",
     "text": [
      "\r",
      "computing mean accuracies:  16%|█▌        | 16/100 [00:03<00:19,  4.28it/s]"
     ]
    },
    {
     "name": "stderr",
     "output_type": "stream",
     "text": [
      "\r",
      "computing mean accuracies:  17%|█▋        | 17/100 [00:04<00:27,  3.06it/s]"
     ]
    },
    {
     "name": "stderr",
     "output_type": "stream",
     "text": [
      "\r",
      "computing mean accuracies:  18%|█▊        | 18/100 [00:04<00:28,  2.91it/s]"
     ]
    },
    {
     "name": "stderr",
     "output_type": "stream",
     "text": [
      "\r",
      "computing mean accuracies:  19%|█▉        | 19/100 [00:05<00:30,  2.62it/s]"
     ]
    },
    {
     "name": "stderr",
     "output_type": "stream",
     "text": [
      "\r",
      "computing mean accuracies:  20%|██        | 20/100 [00:05<00:36,  2.17it/s]"
     ]
    },
    {
     "name": "stderr",
     "output_type": "stream",
     "text": [
      "\r",
      "computing mean accuracies:  21%|██        | 21/100 [00:06<00:32,  2.45it/s]"
     ]
    },
    {
     "name": "stderr",
     "output_type": "stream",
     "text": [
      "\r",
      "computing mean accuracies:  22%|██▏       | 22/100 [00:06<00:27,  2.84it/s]"
     ]
    },
    {
     "name": "stderr",
     "output_type": "stream",
     "text": [
      "\r",
      "computing mean accuracies:  23%|██▎       | 23/100 [00:06<00:24,  3.15it/s]"
     ]
    },
    {
     "name": "stderr",
     "output_type": "stream",
     "text": [
      "\r",
      "computing mean accuracies:  24%|██▍       | 24/100 [00:06<00:22,  3.37it/s]"
     ]
    },
    {
     "name": "stderr",
     "output_type": "stream",
     "text": [
      "\r",
      "computing mean accuracies:  25%|██▌       | 25/100 [00:07<00:21,  3.52it/s]"
     ]
    },
    {
     "name": "stderr",
     "output_type": "stream",
     "text": [
      "\r",
      "computing mean accuracies:  26%|██▌       | 26/100 [00:07<00:19,  3.73it/s]"
     ]
    },
    {
     "name": "stderr",
     "output_type": "stream",
     "text": [
      "\r",
      "computing mean accuracies:  27%|██▋       | 27/100 [00:07<00:19,  3.81it/s]"
     ]
    },
    {
     "name": "stderr",
     "output_type": "stream",
     "text": [
      "\r",
      "computing mean accuracies:  28%|██▊       | 28/100 [00:07<00:17,  4.02it/s]"
     ]
    },
    {
     "name": "stderr",
     "output_type": "stream",
     "text": [
      "\r",
      "computing mean accuracies:  29%|██▉       | 29/100 [00:07<00:17,  4.15it/s]"
     ]
    },
    {
     "name": "stderr",
     "output_type": "stream",
     "text": [
      "\r",
      "computing mean accuracies:  30%|███       | 30/100 [00:08<00:16,  4.22it/s]"
     ]
    },
    {
     "name": "stderr",
     "output_type": "stream",
     "text": [
      "\r",
      "computing mean accuracies:  31%|███       | 31/100 [00:08<00:15,  4.48it/s]"
     ]
    },
    {
     "name": "stderr",
     "output_type": "stream",
     "text": [
      "\r",
      "computing mean accuracies:  32%|███▏      | 32/100 [00:08<00:14,  4.54it/s]"
     ]
    },
    {
     "name": "stderr",
     "output_type": "stream",
     "text": [
      "\r",
      "computing mean accuracies:  33%|███▎      | 33/100 [00:08<00:14,  4.53it/s]"
     ]
    },
    {
     "name": "stderr",
     "output_type": "stream",
     "text": [
      "\r",
      "computing mean accuracies:  34%|███▍      | 34/100 [00:08<00:14,  4.60it/s]"
     ]
    },
    {
     "name": "stderr",
     "output_type": "stream",
     "text": [
      "\r",
      "computing mean accuracies:  35%|███▌      | 35/100 [00:09<00:14,  4.48it/s]"
     ]
    },
    {
     "name": "stderr",
     "output_type": "stream",
     "text": [
      "\r",
      "computing mean accuracies:  36%|███▌      | 36/100 [00:09<00:14,  4.39it/s]"
     ]
    },
    {
     "name": "stderr",
     "output_type": "stream",
     "text": [
      "\r",
      "computing mean accuracies:  37%|███▋      | 37/100 [00:09<00:14,  4.27it/s]"
     ]
    },
    {
     "name": "stderr",
     "output_type": "stream",
     "text": [
      "\r",
      "computing mean accuracies:  38%|███▊      | 38/100 [00:09<00:14,  4.42it/s]"
     ]
    },
    {
     "name": "stderr",
     "output_type": "stream",
     "text": [
      "\r",
      "computing mean accuracies:  39%|███▉      | 39/100 [00:10<00:13,  4.45it/s]"
     ]
    },
    {
     "name": "stderr",
     "output_type": "stream",
     "text": [
      "\r",
      "computing mean accuracies:  40%|████      | 40/100 [00:10<00:13,  4.48it/s]"
     ]
    },
    {
     "name": "stderr",
     "output_type": "stream",
     "text": [
      "\r",
      "computing mean accuracies:  41%|████      | 41/100 [00:10<00:13,  4.49it/s]"
     ]
    },
    {
     "name": "stderr",
     "output_type": "stream",
     "text": [
      "\r",
      "computing mean accuracies:  42%|████▏     | 42/100 [00:10<00:12,  4.69it/s]"
     ]
    },
    {
     "name": "stderr",
     "output_type": "stream",
     "text": [
      "\r",
      "computing mean accuracies:  43%|████▎     | 43/100 [00:11<00:13,  4.30it/s]"
     ]
    },
    {
     "name": "stderr",
     "output_type": "stream",
     "text": [
      "\r",
      "computing mean accuracies:  44%|████▍     | 44/100 [00:11<00:12,  4.34it/s]"
     ]
    },
    {
     "name": "stderr",
     "output_type": "stream",
     "text": [
      "\r",
      "computing mean accuracies:  45%|████▌     | 45/100 [00:11<00:12,  4.38it/s]"
     ]
    },
    {
     "name": "stderr",
     "output_type": "stream",
     "text": [
      "\r",
      "computing mean accuracies:  46%|████▌     | 46/100 [00:11<00:12,  4.47it/s]"
     ]
    },
    {
     "name": "stderr",
     "output_type": "stream",
     "text": [
      "\r",
      "computing mean accuracies:  47%|████▋     | 47/100 [00:11<00:11,  4.60it/s]"
     ]
    },
    {
     "name": "stderr",
     "output_type": "stream",
     "text": [
      "\r",
      "computing mean accuracies:  48%|████▊     | 48/100 [00:12<00:11,  4.65it/s]"
     ]
    },
    {
     "name": "stderr",
     "output_type": "stream",
     "text": [
      "\r",
      "computing mean accuracies:  49%|████▉     | 49/100 [00:12<00:10,  4.69it/s]"
     ]
    },
    {
     "name": "stderr",
     "output_type": "stream",
     "text": [
      "\r",
      "computing mean accuracies:  50%|█████     | 50/100 [00:12<00:10,  4.79it/s]"
     ]
    },
    {
     "name": "stderr",
     "output_type": "stream",
     "text": [
      "\r",
      "computing mean accuracies:  51%|█████     | 51/100 [00:12<00:10,  4.88it/s]"
     ]
    },
    {
     "name": "stderr",
     "output_type": "stream",
     "text": [
      "\r",
      "computing mean accuracies:  52%|█████▏    | 52/100 [00:12<00:10,  4.70it/s]"
     ]
    },
    {
     "name": "stderr",
     "output_type": "stream",
     "text": [
      "\r",
      "computing mean accuracies:  53%|█████▎    | 53/100 [00:13<00:10,  4.60it/s]"
     ]
    },
    {
     "name": "stderr",
     "output_type": "stream",
     "text": [
      "\r",
      "computing mean accuracies:  54%|█████▍    | 54/100 [00:13<00:09,  4.60it/s]"
     ]
    },
    {
     "name": "stderr",
     "output_type": "stream",
     "text": [
      "\r",
      "computing mean accuracies:  55%|█████▌    | 55/100 [00:13<00:09,  4.93it/s]"
     ]
    },
    {
     "name": "stderr",
     "output_type": "stream",
     "text": [
      "\r",
      "computing mean accuracies:  56%|█████▌    | 56/100 [00:13<00:09,  4.82it/s]"
     ]
    },
    {
     "name": "stderr",
     "output_type": "stream",
     "text": [
      "\r",
      "computing mean accuracies:  57%|█████▋    | 57/100 [00:14<00:09,  4.72it/s]"
     ]
    },
    {
     "name": "stderr",
     "output_type": "stream",
     "text": [
      "\r",
      "computing mean accuracies:  58%|█████▊    | 58/100 [00:14<00:09,  4.64it/s]"
     ]
    },
    {
     "name": "stderr",
     "output_type": "stream",
     "text": [
      "\r",
      "computing mean accuracies:  59%|█████▉    | 59/100 [00:14<00:09,  4.53it/s]"
     ]
    },
    {
     "name": "stderr",
     "output_type": "stream",
     "text": [
      "\r",
      "computing mean accuracies:  60%|██████    | 60/100 [00:14<00:08,  4.55it/s]"
     ]
    },
    {
     "name": "stderr",
     "output_type": "stream",
     "text": [
      "\r",
      "computing mean accuracies:  61%|██████    | 61/100 [00:15<00:09,  3.94it/s]"
     ]
    },
    {
     "name": "stderr",
     "output_type": "stream",
     "text": [
      "\r",
      "computing mean accuracies:  62%|██████▏   | 62/100 [00:15<00:09,  4.10it/s]"
     ]
    },
    {
     "name": "stderr",
     "output_type": "stream",
     "text": [
      "\r",
      "computing mean accuracies:  63%|██████▎   | 63/100 [00:15<00:08,  4.17it/s]"
     ]
    },
    {
     "name": "stderr",
     "output_type": "stream",
     "text": [
      "\r",
      "computing mean accuracies:  64%|██████▍   | 64/100 [00:15<00:08,  4.35it/s]"
     ]
    },
    {
     "name": "stderr",
     "output_type": "stream",
     "text": [
      "\r",
      "computing mean accuracies:  65%|██████▌   | 65/100 [00:15<00:07,  4.39it/s]"
     ]
    },
    {
     "name": "stderr",
     "output_type": "stream",
     "text": [
      "\r",
      "computing mean accuracies:  66%|██████▌   | 66/100 [00:16<00:08,  3.95it/s]"
     ]
    },
    {
     "name": "stderr",
     "output_type": "stream",
     "text": [
      "\r",
      "computing mean accuracies:  67%|██████▋   | 67/100 [00:16<00:08,  3.89it/s]"
     ]
    },
    {
     "name": "stderr",
     "output_type": "stream",
     "text": [
      "\r",
      "computing mean accuracies:  68%|██████▊   | 68/100 [00:16<00:07,  4.21it/s]"
     ]
    },
    {
     "name": "stderr",
     "output_type": "stream",
     "text": [
      "\r",
      "computing mean accuracies:  69%|██████▉   | 69/100 [00:16<00:07,  4.16it/s]"
     ]
    },
    {
     "name": "stderr",
     "output_type": "stream",
     "text": [
      "\r",
      "computing mean accuracies:  70%|███████   | 70/100 [00:17<00:07,  4.22it/s]"
     ]
    },
    {
     "name": "stderr",
     "output_type": "stream",
     "text": [
      "\r",
      "computing mean accuracies:  71%|███████   | 71/100 [00:17<00:06,  4.27it/s]"
     ]
    },
    {
     "name": "stderr",
     "output_type": "stream",
     "text": [
      "\r",
      "computing mean accuracies:  72%|███████▏  | 72/100 [00:17<00:06,  4.39it/s]"
     ]
    },
    {
     "name": "stderr",
     "output_type": "stream",
     "text": [
      "\r",
      "computing mean accuracies:  73%|███████▎  | 73/100 [00:17<00:06,  4.36it/s]"
     ]
    },
    {
     "name": "stderr",
     "output_type": "stream",
     "text": [
      "\r",
      "computing mean accuracies:  74%|███████▍  | 74/100 [00:18<00:05,  4.49it/s]"
     ]
    },
    {
     "name": "stderr",
     "output_type": "stream",
     "text": [
      "\r",
      "computing mean accuracies:  75%|███████▌  | 75/100 [00:18<00:05,  4.31it/s]"
     ]
    },
    {
     "name": "stderr",
     "output_type": "stream",
     "text": [
      "\r",
      "computing mean accuracies:  76%|███████▌  | 76/100 [00:18<00:05,  4.45it/s]"
     ]
    },
    {
     "name": "stderr",
     "output_type": "stream",
     "text": [
      "\r",
      "computing mean accuracies:  77%|███████▋  | 77/100 [00:18<00:05,  4.47it/s]"
     ]
    },
    {
     "name": "stderr",
     "output_type": "stream",
     "text": [
      "\r",
      "computing mean accuracies:  78%|███████▊  | 78/100 [00:18<00:05,  4.16it/s]"
     ]
    },
    {
     "name": "stderr",
     "output_type": "stream",
     "text": [
      "\r",
      "computing mean accuracies:  79%|███████▉  | 79/100 [00:19<00:04,  4.31it/s]"
     ]
    },
    {
     "name": "stderr",
     "output_type": "stream",
     "text": [
      "\r",
      "computing mean accuracies:  80%|████████  | 80/100 [00:19<00:04,  4.33it/s]"
     ]
    },
    {
     "name": "stderr",
     "output_type": "stream",
     "text": [
      "\r",
      "computing mean accuracies:  81%|████████  | 81/100 [00:19<00:04,  4.45it/s]"
     ]
    },
    {
     "name": "stderr",
     "output_type": "stream",
     "text": [
      "\r",
      "computing mean accuracies:  82%|████████▏ | 82/100 [00:19<00:04,  4.19it/s]"
     ]
    },
    {
     "name": "stderr",
     "output_type": "stream",
     "text": [
      "\r",
      "computing mean accuracies:  83%|████████▎ | 83/100 [00:20<00:04,  4.24it/s]"
     ]
    },
    {
     "name": "stderr",
     "output_type": "stream",
     "text": [
      "\r",
      "computing mean accuracies:  84%|████████▍ | 84/100 [00:20<00:03,  4.24it/s]"
     ]
    },
    {
     "name": "stderr",
     "output_type": "stream",
     "text": [
      "\r",
      "computing mean accuracies:  85%|████████▌ | 85/100 [00:20<00:03,  4.41it/s]"
     ]
    },
    {
     "name": "stderr",
     "output_type": "stream",
     "text": [
      "\r",
      "computing mean accuracies:  86%|████████▌ | 86/100 [00:20<00:03,  4.38it/s]"
     ]
    },
    {
     "name": "stderr",
     "output_type": "stream",
     "text": [
      "\r",
      "computing mean accuracies:  87%|████████▋ | 87/100 [00:21<00:02,  4.47it/s]"
     ]
    },
    {
     "name": "stderr",
     "output_type": "stream",
     "text": [
      "\r",
      "computing mean accuracies:  88%|████████▊ | 88/100 [00:21<00:02,  4.26it/s]"
     ]
    },
    {
     "name": "stderr",
     "output_type": "stream",
     "text": [
      "\r",
      "computing mean accuracies:  89%|████████▉ | 89/100 [00:21<00:02,  4.31it/s]"
     ]
    },
    {
     "name": "stderr",
     "output_type": "stream",
     "text": [
      "\r",
      "computing mean accuracies:  90%|█████████ | 90/100 [00:21<00:02,  4.36it/s]"
     ]
    },
    {
     "name": "stderr",
     "output_type": "stream",
     "text": [
      "\r",
      "computing mean accuracies:  91%|█████████ | 91/100 [00:21<00:02,  4.33it/s]"
     ]
    },
    {
     "name": "stderr",
     "output_type": "stream",
     "text": [
      "\r",
      "computing mean accuracies:  92%|█████████▏| 92/100 [00:22<00:01,  4.51it/s]"
     ]
    },
    {
     "name": "stderr",
     "output_type": "stream",
     "text": [
      "\r",
      "computing mean accuracies:  93%|█████████▎| 93/100 [00:22<00:01,  4.33it/s]"
     ]
    },
    {
     "name": "stderr",
     "output_type": "stream",
     "text": [
      "\r",
      "computing mean accuracies:  94%|█████████▍| 94/100 [00:22<00:01,  4.08it/s]"
     ]
    },
    {
     "name": "stderr",
     "output_type": "stream",
     "text": [
      "\r",
      "computing mean accuracies:  95%|█████████▌| 95/100 [00:22<00:01,  4.10it/s]"
     ]
    },
    {
     "name": "stderr",
     "output_type": "stream",
     "text": [
      "\r",
      "computing mean accuracies:  96%|█████████▌| 96/100 [00:23<00:00,  4.24it/s]"
     ]
    },
    {
     "name": "stderr",
     "output_type": "stream",
     "text": [
      "\r",
      "computing mean accuracies:  97%|█████████▋| 97/100 [00:23<00:00,  4.42it/s]"
     ]
    },
    {
     "name": "stderr",
     "output_type": "stream",
     "text": [
      "\r",
      "computing mean accuracies:  98%|█████████▊| 98/100 [00:23<00:00,  4.60it/s]"
     ]
    },
    {
     "name": "stderr",
     "output_type": "stream",
     "text": [
      "\r",
      "computing mean accuracies:  99%|█████████▉| 99/100 [00:23<00:00,  4.93it/s]"
     ]
    },
    {
     "name": "stderr",
     "output_type": "stream",
     "text": [
      "\r",
      "computing mean accuracies: 100%|██████████| 100/100 [00:23<00:00,  4.94it/s]"
     ]
    },
    {
     "name": "stderr",
     "output_type": "stream",
     "text": [
      "\r",
      "computing mean accuracies: 100%|██████████| 100/100 [00:23<00:00,  4.18it/s]"
     ]
    },
    {
     "name": "stderr",
     "output_type": "stream",
     "text": [
      "\n"
     ]
    },
    {
     "data": {
      "text/plain": [
       "{'eigenvector_train': 0.9620455035971223,\n",
       " 'eigenvector_val': 0.72970398,\n",
       " 'eigenvector_test': 0.571078672985782,\n",
       " 'hamiltonian_train': 0.9933992805755396,\n",
       " 'hamiltonian_val': 0.99051,\n",
       " 'hamiltonian_test': 0.8725355450236966}"
      ]
     },
     "execution_count": 19,
     "metadata": {},
     "output_type": "execute_result"
    }
   ],
   "source": [
    "save_to_disk = False\n",
    "simulation.compute_mean_accuracy(save_to_disk=save_to_disk)\n",
    "simulation.mean_accuracy"
   ]
  },
  {
   "cell_type": "markdown",
   "metadata": {
    "papermill": {
     "duration": 0.054573,
     "end_time": "2020-07-11T21:32:38.383069",
     "exception": false,
     "start_time": "2020-07-11T21:32:38.328496",
     "status": "completed"
    },
    "tags": []
   },
   "source": [
    "#### Computing bootstrap accuracies"
   ]
  },
  {
   "cell_type": "code",
   "execution_count": 20,
   "metadata": {
    "execution": {
     "iopub.execute_input": "2020-07-11T21:32:38.492111Z",
     "iopub.status.busy": "2020-07-11T21:32:38.491793Z",
     "iopub.status.idle": "2020-07-11T21:32:38.507157Z",
     "shell.execute_reply": "2020-07-11T21:32:38.507407Z"
    },
    "papermill": {
     "duration": 0.070062,
     "end_time": "2020-07-11T21:32:38.507473",
     "exception": false,
     "start_time": "2020-07-11T21:32:38.437411",
     "status": "completed"
    },
    "tags": []
   },
   "outputs": [
    {
     "data": {
      "text/plain": [
       "{'hamiltonian_train': 1.0,\n",
       " 'hamiltonian_val': 1.0,\n",
       " 'hamiltonian_test': 0.9383886255924171}"
      ]
     },
     "execution_count": 20,
     "metadata": {},
     "output_type": "execute_result"
    }
   ],
   "source": [
    "save_to_disk = False\n",
    "simulation.compute_bootstrap_accuracy(save_to_disk=save_to_disk)\n",
    "simulation.bootstrap_accuracy"
   ]
  },
  {
   "cell_type": "markdown",
   "metadata": {
    "papermill": {
     "duration": 0.052521,
     "end_time": "2020-07-11T21:32:38.613616",
     "exception": false,
     "start_time": "2020-07-11T21:32:38.561095",
     "status": "completed"
    },
    "tags": []
   },
   "source": [
    "#### Computing mean feature importances"
   ]
  },
  {
   "cell_type": "code",
   "execution_count": 21,
   "metadata": {
    "execution": {
     "iopub.execute_input": "2020-07-11T21:32:38.715758Z",
     "iopub.status.busy": "2020-07-11T21:32:38.715434Z",
     "iopub.status.idle": "2020-07-11T21:32:38.807096Z",
     "shell.execute_reply": "2020-07-11T21:32:38.807343Z"
    },
    "papermill": {
     "duration": 0.143505,
     "end_time": "2020-07-11T21:32:38.807409",
     "exception": false,
     "start_time": "2020-07-11T21:32:38.663904",
     "status": "completed"
    },
    "tags": []
   },
   "outputs": [
    {
     "name": "stderr",
     "output_type": "stream",
     "text": [
      "\r",
      "mean feature importances:   0%|          | 0/100 [00:00<?, ?it/s]"
     ]
    },
    {
     "name": "stderr",
     "output_type": "stream",
     "text": [
      "\r",
      "mean feature importances: 100%|██████████| 100/100 [00:00<00:00, 1227.38it/s]"
     ]
    },
    {
     "name": "stdout",
     "output_type": "stream",
     "text": [
      "Sorted feature importances: \n",
      "\n",
      "\n",
      "[(5, 0.22751808592080225), (4, 0.21361432269817718), (3, 0.14794401006521607), (1, 0.1449358680815321), (2, 0.13985550072363764), (0, 0.12613221251063472)]\n"
     ]
    },
    {
     "name": "stderr",
     "output_type": "stream",
     "text": [
      "\n"
     ]
    }
   ],
   "source": [
    "import operator\n",
    "save_to_disk = False\n",
    "simulation.compute_mean_feature_importance(save_to_disk=save_to_disk)\n",
    "### Sorted feature importances from highest to lowest\n",
    "sorted_feature_importances = sorted(simulation.feature_importance.items(), key=operator.itemgetter(1),reverse=True)\n",
    "print(\"Sorted feature importances: \")\n",
    "print(\"\\n\")\n",
    "print(sorted_feature_importances)"
   ]
  },
  {
   "cell_type": "markdown",
   "metadata": {
    "papermill": {
     "duration": 0.050039,
     "end_time": "2020-07-11T21:32:38.907420",
     "exception": false,
     "start_time": "2020-07-11T21:32:38.857381",
     "status": "completed"
    },
    "tags": []
   },
   "source": [
    "#### Plotting feature importances"
   ]
  },
  {
   "cell_type": "code",
   "execution_count": 22,
   "metadata": {
    "execution": {
     "iopub.execute_input": "2020-07-11T21:32:39.017417Z",
     "iopub.status.busy": "2020-07-11T21:32:39.016909Z",
     "iopub.status.idle": "2020-07-11T21:32:39.257468Z",
     "shell.execute_reply": "2020-07-11T21:32:39.257143Z"
    },
    "papermill": {
     "duration": 0.295346,
     "end_time": "2020-07-11T21:32:39.257520",
     "exception": false,
     "start_time": "2020-07-11T21:32:38.962174",
     "status": "completed"
    },
    "tags": []
   },
   "outputs": [
    {
     "data": {
      "image/png": "[encoded data removed]",
      "text/plain": [
       "<Figure size 864x864 with 1 Axes>"
      ]
     },
     "metadata": {
      "needs_background": "light"
     },
     "output_type": "display_data"
    }
   ],
   "source": [
    "simulation.plot_feature_importances(**plot_feature_importances_params)"
   ]
  },
  {
   "cell_type": "markdown",
   "metadata": {
    "papermill": {
     "duration": 0.049512,
     "end_time": "2020-07-11T21:32:39.357092",
     "exception": false,
     "start_time": "2020-07-11T21:32:39.307580",
     "status": "completed"
    },
    "tags": []
   },
   "source": [
    "#### Plotting cumulative feature importances"
   ]
  },
  {
   "cell_type": "code",
   "execution_count": 23,
   "metadata": {
    "execution": {
     "iopub.execute_input": "2020-07-11T21:32:39.464135Z",
     "iopub.status.busy": "2020-07-11T21:32:39.463743Z",
     "iopub.status.idle": "2020-07-11T21:32:39.472867Z",
     "shell.execute_reply": "2020-07-11T21:32:39.472523Z"
    },
    "papermill": {
     "duration": 0.064777,
     "end_time": "2020-07-11T21:32:39.472921",
     "exception": false,
     "start_time": "2020-07-11T21:32:39.408144",
     "status": "completed"
    },
    "tags": []
   },
   "outputs": [],
   "source": [
    "#if simulation.fourier_mode is None:\n",
    "#    plot_cumulative_feature_importances_params"
   ]
  },
  {
   "cell_type": "code",
   "execution_count": 24,
   "metadata": {
    "execution": {
     "iopub.execute_input": "2020-07-11T21:32:39.584056Z",
     "iopub.status.busy": "2020-07-11T21:32:39.583660Z",
     "iopub.status.idle": "2020-07-11T21:32:39.868806Z",
     "shell.execute_reply": "2020-07-11T21:32:39.869108Z"
    },
    "papermill": {
     "duration": 0.3398,
     "end_time": "2020-07-11T21:32:39.869175",
     "exception": false,
     "start_time": "2020-07-11T21:32:39.529375",
     "status": "completed"
    },
    "tags": []
   },
   "outputs": [
    {
     "data": {
      "image/png": "[encoded data removed]",
      "text/plain": [
       "<Figure size 864x864 with 1 Axes>"
      ]
     },
     "metadata": {
      "needs_background": "light"
     },
     "output_type": "display_data"
    }
   ],
   "source": [
    "simulation.plot_cumulative_feature_importances(**plot_cumulative_feature_importances_params)\n"
   ]
  },
  {
   "cell_type": "markdown",
   "metadata": {
    "papermill": {
     "duration": 0.054095,
     "end_time": "2020-07-11T21:32:39.980915",
     "exception": false,
     "start_time": "2020-07-11T21:32:39.926820",
     "status": "completed"
    },
    "tags": []
   },
   "source": [
    "####  Fourier transform of feature importances"
   ]
  },
  {
   "cell_type": "code",
   "execution_count": 25,
   "metadata": {
    "execution": {
     "iopub.execute_input": "2020-07-11T21:32:40.090373Z",
     "iopub.status.busy": "2020-07-11T21:32:40.090004Z",
     "iopub.status.idle": "2020-07-11T21:32:40.099855Z",
     "shell.execute_reply": "2020-07-11T21:32:40.099323Z"
    },
    "papermill": {
     "duration": 0.06546,
     "end_time": "2020-07-11T21:32:40.099932",
     "exception": false,
     "start_time": "2020-07-11T21:32:40.034472",
     "status": "completed"
    },
    "tags": []
   },
   "outputs": [],
   "source": [
    "#%load_ext autoreload\n",
    "#%autoreload 2\n",
    "#from simulation_results import *\n",
    "#import template_parameters"
   ]
  },
  {
   "cell_type": "code",
   "execution_count": 26,
   "metadata": {
    "execution": {
     "iopub.execute_input": "2020-07-11T21:32:40.206981Z",
     "iopub.status.busy": "2020-07-11T21:32:40.206662Z",
     "iopub.status.idle": "2020-07-11T21:32:40.216283Z",
     "shell.execute_reply": "2020-07-11T21:32:40.215965Z"
    },
    "papermill": {
     "duration": 0.06312,
     "end_time": "2020-07-11T21:32:40.216335",
     "exception": false,
     "start_time": "2020-07-11T21:32:40.153215",
     "status": "completed"
    },
    "tags": []
   },
   "outputs": [
    {
     "name": "stdout",
     "output_type": "stream",
     "text": [
      "Sorted fourier feature importances: \n",
      "\n",
      "\n",
      "[(0, 0.9870971697125414), (1, 0.004313219349724947), (5, 0.004313219349724947), (2, 0.0019212754126773138), (4, 0.0019212754126773138), (3, 0.0004338407626540907)]\n"
     ]
    }
   ],
   "source": [
    "import operator\n",
    "#fft_type=False\n",
    "save_to_disk = False\n",
    "simulation.compute_fourier_feature_importance( save_to_disk=False)\n",
    "### Sorted fourier feature importances from highest to lowest\n",
    "sorted_fourier_feature_importances = sorted(simulation.fourier_feature_importance.items(), key=operator.itemgetter(1),reverse=True)\n",
    "print(\"Sorted fourier feature importances: \")\n",
    "print(\"\\n\")\n",
    "print(sorted_fourier_feature_importances)"
   ]
  },
  {
   "cell_type": "code",
   "execution_count": 27,
   "metadata": {
    "execution": {
     "iopub.execute_input": "2020-07-11T21:32:40.321314Z",
     "iopub.status.busy": "2020-07-11T21:32:40.321003Z",
     "iopub.status.idle": "2020-07-11T21:32:40.484151Z",
     "shell.execute_reply": "2020-07-11T21:32:40.483220Z"
    },
    "papermill": {
     "duration": 0.216787,
     "end_time": "2020-07-11T21:32:40.484302",
     "exception": false,
     "start_time": "2020-07-11T21:32:40.267515",
     "status": "completed"
    },
    "tags": []
   },
   "outputs": [
    {
     "data": {
      "text/plain": [
       "0.9999999999999999"
      ]
     },
     "execution_count": 27,
     "metadata": {},
     "output_type": "execute_result"
    }
   ],
   "source": [
    "np.sum(list(simulation.fourier_feature_importance.values()))"
   ]
  },
  {
   "cell_type": "code",
   "execution_count": 28,
   "metadata": {
    "execution": {
     "iopub.execute_input": "2020-07-11T21:32:40.612081Z",
     "iopub.status.busy": "2020-07-11T21:32:40.611726Z",
     "iopub.status.idle": "2020-07-11T21:32:40.621362Z",
     "shell.execute_reply": "2020-07-11T21:32:40.621043Z"
    },
    "papermill": {
     "duration": 0.067899,
     "end_time": "2020-07-11T21:32:40.621420",
     "exception": false,
     "start_time": "2020-07-11T21:32:40.553521",
     "status": "completed"
    },
    "tags": []
   },
   "outputs": [
    {
     "data": {
      "text/plain": [
       "6"
      ]
     },
     "execution_count": 28,
     "metadata": {},
     "output_type": "execute_result"
    }
   ],
   "source": [
    "len(simulation.fourier_feature_importance.values())"
   ]
  },
  {
   "cell_type": "markdown",
   "metadata": {
    "papermill": {
     "duration": 0.051666,
     "end_time": "2020-07-11T21:32:40.726708",
     "exception": false,
     "start_time": "2020-07-11T21:32:40.675042",
     "status": "completed"
    },
    "tags": []
   },
   "source": [
    "#### Plotting Fourier feature importance"
   ]
  },
  {
   "cell_type": "code",
   "execution_count": 29,
   "metadata": {
    "execution": {
     "iopub.execute_input": "2020-07-11T21:32:40.833734Z",
     "iopub.status.busy": "2020-07-11T21:32:40.833230Z",
     "iopub.status.idle": "2020-07-11T21:32:41.084516Z",
     "shell.execute_reply": "2020-07-11T21:32:41.084824Z"
    },
    "papermill": {
     "duration": 0.305726,
     "end_time": "2020-07-11T21:32:41.084890",
     "exception": false,
     "start_time": "2020-07-11T21:32:40.779164",
     "status": "completed"
    },
    "tags": []
   },
   "outputs": [
    {
     "data": {
      "image/png": "[encoded data removed]",
      "text/plain": [
       "<Figure size 864x864 with 1 Axes>"
      ]
     },
     "metadata": {
      "needs_background": "light"
     },
     "output_type": "display_data"
    }
   ],
   "source": [
    "simulation.plot_feature_importances(**plot_fourier_feature_importances_params)"
   ]
  },
  {
   "cell_type": "markdown",
   "metadata": {
    "papermill": {
     "duration": 0.051872,
     "end_time": "2020-07-11T21:32:41.193165",
     "exception": false,
     "start_time": "2020-07-11T21:32:41.141293",
     "status": "completed"
    },
    "tags": []
   },
   "source": [
    "#### Plotting cumulative Fourier feature importances"
   ]
  },
  {
   "cell_type": "code",
   "execution_count": 30,
   "metadata": {
    "execution": {
     "iopub.execute_input": "2020-07-11T21:32:41.301488Z",
     "iopub.status.busy": "2020-07-11T21:32:41.300986Z",
     "iopub.status.idle": "2020-07-11T21:32:41.549541Z",
     "shell.execute_reply": "2020-07-11T21:32:41.549223Z"
    },
    "papermill": {
     "duration": 0.304067,
     "end_time": "2020-07-11T21:32:41.549592",
     "exception": false,
     "start_time": "2020-07-11T21:32:41.245525",
     "status": "completed"
    },
    "tags": []
   },
   "outputs": [
    {
     "data": {
      "image/png": "[encoded data removed]",
      "text/plain": [
       "<Figure size 864x864 with 1 Axes>"
      ]
     },
     "metadata": {
      "needs_background": "light"
     },
     "output_type": "display_data"
    }
   ],
   "source": [
    "simulation.plot_cumulative_feature_importances(**plot_cumulative_fourier_feature_importances_params)"
   ]
  },
  {
   "cell_type": "markdown",
   "metadata": {
    "papermill": {
     "duration": 0.058792,
     "end_time": "2020-07-11T21:32:41.663080",
     "exception": false,
     "start_time": "2020-07-11T21:32:41.604288",
     "status": "completed"
    },
    "tags": []
   },
   "source": [
    "#### Computing lattice and reciprocal lattice statistics "
   ]
  },
  {
   "cell_type": "code",
   "execution_count": 31,
   "metadata": {
    "execution": {
     "iopub.execute_input": "2020-07-11T21:32:41.781162Z",
     "iopub.status.busy": "2020-07-11T21:32:41.780826Z",
     "iopub.status.idle": "2020-07-11T21:32:41.792007Z",
     "shell.execute_reply": "2020-07-11T21:32:41.792569Z"
    },
    "papermill": {
     "duration": 0.070682,
     "end_time": "2020-07-11T21:32:41.792665",
     "exception": false,
     "start_time": "2020-07-11T21:32:41.721983",
     "status": "completed"
    },
    "tags": []
   },
   "outputs": [
    {
     "name": "stdout",
     "output_type": "stream",
     "text": [
      "real lattice statistics: \n",
      "{'mean': 0.47675443668686257, 'var': 0.08219507578700115, 'std': 0.28669683602544543, 'shannon': 1.765488934736112}\n",
      "reciprocal lattice statistics: \n",
      "{'mean': 0.006451415143729306, 'var': 0.004249317526262197, 'std': 0.06518678950724753, 'shannon': 0.08719283648272509}\n"
     ]
    }
   ],
   "source": [
    "save_to_disk = False\n",
    "simulation.compute_feature_importance_statistics(save_to_disk)\n",
    "print(\"real lattice statistics: \")\n",
    "print(simulation.feature_importance_statistics)\n",
    "print(\"reciprocal lattice statistics: \")\n",
    "print(simulation.fourier_feature_importance_statistics)"
   ]
  },
  {
   "cell_type": "code",
   "execution_count": 32,
   "metadata": {
    "execution": {
     "iopub.execute_input": "2020-07-11T21:32:41.916297Z",
     "iopub.status.busy": "2020-07-11T21:32:41.915977Z",
     "iopub.status.idle": "2020-07-11T21:32:41.925818Z",
     "shell.execute_reply": "2020-07-11T21:32:41.925498Z"
    },
    "papermill": {
     "duration": 0.074442,
     "end_time": "2020-07-11T21:32:41.925870",
     "exception": false,
     "start_time": "2020-07-11T21:32:41.851428",
     "status": "completed"
    },
    "tags": []
   },
   "outputs": [
    {
     "data": {
      "text/plain": [
       "0.30685281944005466"
      ]
     },
     "execution_count": 32,
     "metadata": {},
     "output_type": "execute_result"
    }
   ],
   "source": [
    "np.log(np.e/2)"
   ]
  },
  {
   "cell_type": "code",
   "execution_count": 33,
   "metadata": {
    "execution": {
     "iopub.execute_input": "2020-07-11T21:32:42.038062Z",
     "iopub.status.busy": "2020-07-11T21:32:42.037754Z",
     "iopub.status.idle": "2020-07-11T21:32:42.047120Z",
     "shell.execute_reply": "2020-07-11T21:32:42.047422Z"
    },
    "papermill": {
     "duration": 0.065168,
     "end_time": "2020-07-11T21:32:42.047487",
     "exception": false,
     "start_time": "2020-07-11T21:32:41.982319",
     "status": "completed"
    },
    "tags": []
   },
   "outputs": [
    {
     "data": {
      "text/plain": [
       "0.01868884630238457"
      ]
     },
     "execution_count": 33,
     "metadata": {},
     "output_type": "execute_result"
    }
   ],
   "source": [
    "simulation.feature_importance_statistics[\"std\"]*simulation.fourier_feature_importance_statistics[\"std\"]"
   ]
  },
  {
   "cell_type": "code",
   "execution_count": 34,
   "metadata": {
    "execution": {
     "iopub.execute_input": "2020-07-11T21:32:42.155829Z",
     "iopub.status.busy": "2020-07-11T21:32:42.155522Z",
     "iopub.status.idle": "2020-07-11T21:32:42.165379Z",
     "shell.execute_reply": "2020-07-11T21:32:42.165059Z"
    },
    "papermill": {
     "duration": 0.064631,
     "end_time": "2020-07-11T21:32:42.165431",
     "exception": false,
     "start_time": "2020-07-11T21:32:42.100800",
     "status": "completed"
    },
    "tags": []
   },
   "outputs": [
    {
     "data": {
      "text/plain": [
       "0.07957747154594767"
      ]
     },
     "execution_count": 34,
     "metadata": {},
     "output_type": "execute_result"
    }
   ],
   "source": [
    "1/(4*np.pi)"
   ]
  },
  {
   "cell_type": "code",
   "execution_count": null,
   "metadata": {
    "papermill": {
     "duration": 0.053973,
     "end_time": "2020-07-11T21:32:42.273308",
     "exception": false,
     "start_time": "2020-07-11T21:32:42.219335",
     "status": "completed"
    },
    "tags": []
   },
   "outputs": [],
   "source": []
  }
 ],
 "metadata": {
  "celltoolbar": "Tags",
  "kernelspec": {
   "display_name": "ml_top_phases",
   "language": "python",
   "name": "ml_top_phases"
  },
  "language_info": {
   "codemirror_mode": {
    "name": "ipython",
    "version": 3
   },
   "file_extension": ".py",
   "mimetype": "text/x-python",
   "name": "python",
   "nbconvert_exporter": "python",
   "pygments_lexer": "ipython3",
   "version": "3.6.10"
  },
  "papermill": {
   "duration": 36.521127,
   "end_time": "2020-07-11T21:32:42.437604",
   "environment_variables": {},
   "exception": null,
   "input_path": "0_results_template.ipynb",
   "output_path": "zzz_results_output_ssh1_periodic_7th_scenario_100_6561.ipynb",
   "parameters": {
    "experiment_name": "0",
    "figures_dir": "/home/rio/ml_topological_phases_in_real_space/5_paper/ssh1/periodic_7th_scenario_100_6561",
    "imshow_winding_grid_params": {
     "colorbar_params": {
      "extend": "neither",
      "labelsize": 24,
      "mappable": null,
      "pad": 0.1,
      "shrink": 0.8,
      "ticks": [
       0,
       0.2,
       0.4,
       0.6,
       0.8,
       1.0
      ]
     },
     "fig_params": {
      "figsize": [
       12,
       12
      ]
     },
     "imshow_params": {
      "alpha": null,
      "aspect": "equal",
      "cmap": "bwr_r",
      "extent": [
       -2,
       2,
       -2,
       2
      ],
      "origin": "lower",
      "vmax": 1,
      "vmin": 0
     },
     "savefig_params": {
      "fname": "/home/rio/ml_topological_phases_in_real_space/5_paper/ssh1/periodic_7th_scenario_100_6561/imshow_winding_grid_winding_{}_{}.png"
     },
     "tight_params": {},
     "title_params": {},
     "winding": 1,
     "xlabel_params": {
      "fontsize": 48,
      "xlabel": "$t_2$"
     },
     "xlim_params": {
      "left": -2,
      "right": 2
     },
     "xticks_params": {
      "fontsize": 24
     },
     "ylabel_params": {
      "fontsize": 48,
      "ylabel": "$t_1$"
     },
     "ylim_params": {
      "bottom": -2,
      "top": 2
     },
     "yticks_params": {
      "fontsize": 24
     }
    },
    "load_hamiltonian_summary": false,
    "merge_imshow_winding_grids_params": {
     "colorbar_params": {},
     "fig_params": {
      "figsize": [
       12,
       12
      ]
     },
     "savefig_params": {
      "fname": "/home/rio/ml_topological_phases_in_real_space/5_paper/ssh1/periodic_7th_scenario_100_6561/merge_imshow_winding_grids_second_{}.png"
     },
     "tight_params": {},
     "title_params": {},
     "winding_params": {
      "0": {
       "alpha": null,
       "aspect": "equal",
       "cmap": "Reds_alpha",
       "extent": [
        -2,
        2,
        -2,
        2
       ],
       "origin": "lower",
       "vmax": 1,
       "vmin": 0
      },
      "1": {
       "alpha": null,
       "aspect": "equal",
       "cmap": "Blues_alpha",
       "extent": [
        -2,
        2,
        -2,
        2
       ],
       "origin": "lower",
       "vmax": 1,
       "vmin": 0
      }
     },
     "xlabel_params": {
      "fontsize": 48,
      "xlabel": "$t_2$"
     },
     "xlim_params": {
      "left": -2,
      "right": 2
     },
     "xticks_params": {
      "fontsize": 24
     },
     "ylabel_params": {
      "fontsize": 48,
      "ylabel": "$t_1$"
     },
     "ylim_params": {
      "bottom": -2,
      "top": 2
     },
     "yticks_params": {
      "fontsize": 24
     }
    },
    "n_experiments": null,
    "pcolormesh_prediction_grid_params": {
     "fig_params": {
      "figsize": [
       6,
       6
      ]
     },
     "legend_params": {
      "fontsize": 16,
      "framealpha": 0.8,
      "loc": "upper right"
     },
     "pcolormesh_params": {
      "alpha": 0.5,
      "cmap": "ssh1"
     },
     "savefig_params": {
      "fname": "/home/rio/ml_topological_phases_in_real_space/5_paper/ssh1/periodic_7th_scenario_100_6561/pcolormesh_prediction_grid_experiment_0.png"
     },
     "tight_params": {},
     "title_params": {},
     "winding_params": {
      "0": {
       "color": "red",
       "label": 0,
       "marker": "o",
       "s": 10
      },
      "1": {
       "color": "blue",
       "label": 1,
       "marker": "o",
       "s": 10
      }
     },
     "xlabel_params": {
      "fontsize": 24,
      "xlabel": "$t_2$"
     },
     "xlim_params": {
      "left": -2,
      "right": 2
     },
     "xticks_params": {
      "fontsize": 14
     },
     "ylabel_params": {
      "fontsize": 24,
      "ylabel": "$t_1$"
     },
     "ylim_params": {
      "bottom": -2,
      "top": 2
     },
     "yticks_params": {
      "fontsize": 14
     }
    },
    "plot_cumulative_feature_importances_params": {
     "fig_params": {
      "figsize": [
       12,
       12
      ]
     },
     "hist_precision": 1000,
     "n_features": null,
     "plot": "bar",
     "plot_params": {
      "color": "indianred",
      "width": 0.7
     },
     "savefig_params": {
      "fname": "/home/rio/ml_topological_phases_in_real_space/5_paper/ssh1/periodic_7th_scenario_100_6561/plot_cumulative_feature_importances.png"
     },
     "tight_params": {},
     "title_params": {
      "fontsize": 24,
      "label": "Cumulative information entropy signature (real space) - SSH 1"
     },
     "xlabel_params": {
      "fontsize": 24,
      "xlabel": "lattice site"
     },
     "xlim_params": {},
     "xticks_params": {
      "fontsize": 24,
      "ticks": [
       0,
       11,
       22,
       33,
       44,
       55,
       66,
       77,
       88,
       99
      ]
     },
     "ylabel_params": {
      "fontsize": 24,
      "ylabel": "cumulative reduction in information entropy (%)"
     },
     "ylim_params": {},
     "yticks_params": {
      "fontsize": 24
     }
    },
    "plot_cumulative_fourier_feature_importances_params": {
     "fig_params": {
      "figsize": [
       12,
       12
      ]
     },
     "fourier": true,
     "hist_precision": 1000,
     "n_features": null,
     "plot": "bar",
     "plot_params": {
      "color": "palevioletred",
      "width": 0.7
     },
     "savefig_params": {
      "fname": "/home/rio/ml_topological_phases_in_real_space/5_paper/ssh1/periodic_7th_scenario_100_6561/plot_cumulative_fourier_feature_importances.png"
     },
     "tight_params": {},
     "title_params": {
      "fontsize": 24,
      "label": "Cumulative information entropy signature (wavevector space) - SSH 1"
     },
     "xlabel_params": {
      "fontsize": 24,
      "xlabel": "reciprocal lattice site"
     },
     "xlim_params": {},
     "xticks_params": {
      "fontsize": 24,
      "ticks": [
       0,
       11,
       22,
       33,
       44,
       55,
       66,
       77,
       88,
       99
      ]
     },
     "ylabel_params": {
      "fontsize": 24,
      "ylabel": "cumulative reduction in information entropy (%)"
     },
     "ylim_params": {},
     "yticks_params": {
      "fontsize": 24
     }
    },
    "plot_feature_importances_params": {
     "fig_params": {
      "figsize": [
       12,
       12
      ]
     },
     "hist_precision": 1000,
     "n_features": null,
     "plot": "bar",
     "plot_params": {
      "color": "indianred",
      "width": 0.7
     },
     "savefig_params": {
      "fname": "/home/rio/ml_topological_phases_in_real_space/5_paper/ssh1/periodic_7th_scenario_100_6561/plot_feature_importances.png"
     },
     "tight_params": {},
     "title_params": {
      "fontsize": 24,
      "label": "Information entropy signature (real space) - SSH 1"
     },
     "xlabel_params": {
      "fontsize": 24,
      "xlabel": "lattice site"
     },
     "xlim_params": {},
     "xticks_params": {
      "fontsize": 24,
      "ticks": [
       0,
       11,
       22,
       33,
       44,
       55,
       66,
       77,
       88,
       99
      ]
     },
     "ylabel_params": {
      "fontsize": 24,
      "ylabel": "reduction in information entropy (%)"
     },
     "ylim_params": {},
     "yticks_params": {
      "fontsize": 24
     }
    },
    "plot_fourier_feature_importances_params": {
     "fig_params": {
      "figsize": [
       12,
       12
      ]
     },
     "fourier": true,
     "hist_precision": 1000,
     "n_features": null,
     "plot": "bar",
     "plot_params": {
      "color": "palevioletred",
      "width": 0.7
     },
     "savefig_params": {
      "fname": "/home/rio/ml_topological_phases_in_real_space/5_paper/ssh1/periodic_7th_scenario_100_6561/plot_fourier_feature_importances.png"
     },
     "tight_params": {},
     "title_params": {
      "fontsize": 24,
      "label": "Information entropy signature (wavevector space) - SSH 1"
     },
     "xlabel_params": {
      "fontsize": 24,
      "xlabel": "reciprocal lattice site"
     },
     "xlim_params": {},
     "xticks_params": {
      "fontsize": 24,
      "ticks": [
       0,
       11,
       22,
       33,
       44,
       55,
       66,
       77,
       88,
       99
      ]
     },
     "ylabel_params": {
      "fontsize": 24,
      "ylabel": "reduction in information entropy (%)"
     },
     "ylim_params": {},
     "yticks_params": {
      "fontsize": 24
     }
    },
    "scatter_train_val_test_params": {
     "fig_params": {
      "figsize": [
       6,
       6
      ]
     },
     "legend_params": {
      "fontsize": 16,
      "framealpha": 0.8,
      "loc": "upper right"
     },
     "savefig_params": {
      "fname": "/home/rio/ml_topological_phases_in_real_space/5_paper/ssh1/periodic_7th_scenario_100_6561/scatter_train_val_test_experiment_0.png"
     },
     "test_params": {
      "alpha": 0.5,
      "color": "royalblue",
      "label": "test",
      "marker": "s",
      "s": 64
     },
     "tight_params": {},
     "title_params": {},
     "train_params": {
      "alpha": 1,
      "color": "green",
      "label": "train",
      "marker": "o",
      "s": 3
     },
     "val_params": {
      "alpha": 0.2,
      "color": "salmon",
      "label": "val",
      "marker": "s",
      "s": 64
     },
     "xlabel_params": {
      "fontsize": 24,
      "xlabel": "$t_2$"
     },
     "xlim_params": {
      "left": -2,
      "right": 2
     },
     "xticks_params": {
      "fontsize": 14
     },
     "ylabel_params": {
      "fontsize": 24,
      "ylabel": "$t_1$"
     },
     "ylim_params": {
      "bottom": -2,
      "top": 2
     },
     "yticks_params": {
      "fontsize": 14
     }
    },
    "scatter_winding_train_params": {
     "fig_params": {
      "figsize": [
       6,
       6
      ]
     },
     "legend_params": {
      "fontsize": 16,
      "framealpha": 0.8,
      "loc": "upper right"
     },
     "savefig_params": {
      "fname": "/home/rio/ml_topological_phases_in_real_space/5_paper/ssh1/periodic_7th_scenario_100_6561/scatter_winding_train_experiment_0.png"
     },
     "tight_params": {},
     "title_params": {},
     "winding_params": {
      "0": {
       "color": "red",
       "label": 0,
       "marker": "o",
       "s": 10
      },
      "1": {
       "color": "blue",
       "label": 1,
       "marker": "o",
       "s": 10
      }
     },
     "xlabel_params": {
      "fontsize": 24,
      "xlabel": "$t_2$"
     },
     "xlim_params": {
      "left": -2,
      "right": 2
     },
     "xticks_params": {
      "fontsize": 14
     },
     "ylabel_params": {
      "fontsize": 24,
      "ylabel": "$t_1$"
     },
     "ylim_params": {
      "bottom": -2,
      "top": 2
     },
     "yticks_params": {
      "fontsize": 14
     }
    },
    "simulation_dir": "/home/rio/ssh_simulations/ssh1/periodic_7th_scenario_100_6561",
    "winding_cmap_dict": {
     "0": "Reds",
     "1": "Blues"
    }
   },
   "start_time": "2020-07-11T21:32:05.916477",
   "version": "2.1.0"
  }
 },
 "nbformat": 4,
 "nbformat_minor": 2
}