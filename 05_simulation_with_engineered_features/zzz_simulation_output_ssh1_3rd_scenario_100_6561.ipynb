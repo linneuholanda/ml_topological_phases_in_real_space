{
 "cells": [
  {
   "cell_type": "markdown",
   "metadata": {},
   "source": [
    "<span style=\"color:red; font-family:Helvetica Neue, Helvetica, Arial, sans-serif; font-size:2em;\">An Exception was encountered at 'In [41]'.</span>"
   ]
  },
  {
   "cell_type": "markdown",
   "metadata": {
    "papermill": {
     "duration": 0.019444,
     "end_time": "2020-07-08T05:51:13.964409",
     "exception": false,
     "start_time": "2020-07-08T05:51:13.944965",
     "status": "completed"
    },
    "tags": []
   },
   "source": [
    "# Simulation template \n",
    "\n",
    "In this notebook we run the machine learning analysis of topological phase transitions occurring  in both nearest-neighbours SSH models (ssh1) and second neighbours models (ssh2) as decribed in the paper [Machine learning topological phases in real space](https://arxiv.org/abs/1901.01963). Here the simulation is run with features generated from fourier components in the first scenario. This scenario is characterized by using only the EVEN wavevector space eigenmodes, computed from ALL real space components."
   ]
  },
  {
   "cell_type": "markdown",
   "metadata": {
    "papermill": {
     "duration": 0.014878,
     "end_time": "2020-07-08T05:51:13.994753",
     "exception": false,
     "start_time": "2020-07-08T05:51:13.979875",
     "status": "completed"
    },
    "tags": []
   },
   "source": [
    "## Defining parameters"
   ]
  },
  {
   "cell_type": "code",
   "execution_count": 1,
   "metadata": {
    "execution": {
     "iopub.execute_input": "2020-07-08T05:51:14.026647Z",
     "iopub.status.busy": "2020-07-08T05:51:14.026308Z",
     "iopub.status.idle": "2020-07-08T05:51:14.604207Z",
     "shell.execute_reply": "2020-07-08T05:51:14.603884Z"
    },
    "papermill": {
     "duration": 0.595009,
     "end_time": "2020-07-08T05:51:14.604262",
     "exception": false,
     "start_time": "2020-07-08T05:51:14.009253",
     "status": "completed"
    },
    "tags": []
   },
   "outputs": [
    {
     "name": "stdout",
     "output_type": "stream",
     "text": [
      "CPU times: user 732 ms, sys: 285 ms, total: 1.02 s\n",
      "Wall time: 571 ms\n"
     ]
    }
   ],
   "source": [
    "%%time\n",
    "%load_ext autoreload\n",
    "%autoreload 2\n",
    "from simulation import *"
   ]
  },
  {
   "cell_type": "code",
   "execution_count": 2,
   "metadata": {
    "execution": {
     "iopub.execute_input": "2020-07-08T05:51:14.638168Z",
     "iopub.status.busy": "2020-07-08T05:51:14.637847Z",
     "iopub.status.idle": "2020-07-08T05:51:14.648781Z",
     "shell.execute_reply": "2020-07-08T05:51:14.648465Z"
    },
    "papermill": {
     "duration": 0.028947,
     "end_time": "2020-07-08T05:51:14.648835",
     "exception": false,
     "start_time": "2020-07-08T05:51:14.619888",
     "status": "completed"
    },
    "tags": [
     "parameters"
    ]
   },
   "outputs": [
    {
     "name": "stdout",
     "output_type": "stream",
     "text": [
      "CPU times: user 6 µs, sys: 0 ns, total: 6 µs\n",
      "Wall time: 7.15 µs\n"
     ]
    }
   ],
   "source": [
    "%%time\n",
    "### Dataset and simulation parameters\n",
    "#csv_path = SSH2_PERIODIC_100_6561_CSV \n",
    "csv_path = SSH1_PERIODIC_100_6561_CSV \n",
    "model_name = \"DecisionTreeClassifier\"\n",
    "model_kw = {\"criterion\":\"entropy\"}\n",
    "allowed_windings = [0,1]\n",
    "#allowed_windings = [-1,0,1,2]\n",
    "simulation_dir = SSH1_PERIODIC_1ST_SCENARIO_100_6561_SIMULATION_DIR\n",
    "#simulation_dir = SSH2_PERIODIC_ENGINEERED_100_6561_SIMULATION_DIR\n",
    "val_split = 0.9  \n",
    "features_to_use = None\n",
    "shuffle_features = False\n",
    "random_state = 763\n",
    "\n",
    "### Fourier engineered features\n",
    "fourier_features = list(range(0,100,1))\n",
    "mode = \"dft\"\n",
    "real = True\n",
    "normalize = False\n",
    "fillna = False\n",
    "\n",
    "### Running a simulation\n",
    "n_experiments = 5\n",
    "start_n = 0\n",
    "fit_params = None\n",
    "#mode=mode\n",
    "shuffle_rows = True\n",
    "pred_params = None\n",
    "random_features = False\n",
    "######### DON'T SET THIS TO TRUE UNLESS YOUR DATASET IS SMALL!! WILL FLOOD YOUR MEMORY!!!\n",
    "store_in_lists = False   \n",
    "########## BELOW ARE THE PARAMETERS THAT CONTROL WHAT WILL BE SAVED\n",
    "save_eigenvector=True\n",
    "save_hamiltonian=True \n",
    "save_accuracy=True \n",
    "save_models=True"
   ]
  },
  {
   "cell_type": "code",
   "execution_count": 3,
   "metadata": {
    "execution": {
     "iopub.execute_input": "2020-07-08T05:51:14.682644Z",
     "iopub.status.busy": "2020-07-08T05:51:14.682286Z",
     "iopub.status.idle": "2020-07-08T05:51:14.789088Z",
     "shell.execute_reply": "2020-07-08T05:51:14.787318Z"
    },
    "papermill": {
     "duration": 0.125514,
     "end_time": "2020-07-08T05:51:14.789339",
     "exception": false,
     "start_time": "2020-07-08T05:51:14.663825",
     "status": "completed"
    },
    "tags": [
     "injected-parameters"
    ]
   },
   "outputs": [],
   "source": [
    "# Parameters\n",
    "model_kw = {\"criterion\": \"entropy\"}\n",
    "allowed_windings = [0, 1]\n",
    "val_split = 0.9\n",
    "features_to_use = None\n",
    "shuffle_features = False\n",
    "n_experiments = 100\n",
    "start_n = 0\n",
    "fit_params = None\n",
    "shuffle_rows = True\n",
    "pred_params = None\n",
    "random_features = False\n",
    "store_in_lists = False\n",
    "save_eigenvector = True\n",
    "save_hamiltonian = True\n",
    "save_accuracy = True\n",
    "save_models = True\n",
    "csv_path = \"/home/rio/ssh_csvs/ssh1/periodic_100_6561.csv\"\n",
    "model_name = \"DecisionTreeClassifier\"\n",
    "simulation_dir = \"/home/rio/ssh_simulations/ssh1/periodic_3rd_scenario_100_6561\"\n",
    "random_state = 34896\n",
    "fourier_features = [\n",
    "    0,\n",
    "    2,\n",
    "    4,\n",
    "    6,\n",
    "    8,\n",
    "    10,\n",
    "    12,\n",
    "    14,\n",
    "    16,\n",
    "    18,\n",
    "    20,\n",
    "    22,\n",
    "    24,\n",
    "    26,\n",
    "    28,\n",
    "    30,\n",
    "    32,\n",
    "    34,\n",
    "    36,\n",
    "    38,\n",
    "    40,\n",
    "    42,\n",
    "    44,\n",
    "    46,\n",
    "    48,\n",
    "    50,\n",
    "]\n",
    "mode = \"dct\"\n",
    "real = False\n",
    "normalize = False\n",
    "fillna = False\n"
   ]
  },
  {
   "cell_type": "code",
   "execution_count": 4,
   "metadata": {
    "execution": {
     "iopub.execute_input": "2020-07-08T05:51:14.860605Z",
     "iopub.status.busy": "2020-07-08T05:51:14.860280Z",
     "iopub.status.idle": "2020-07-08T05:51:14.871953Z",
     "shell.execute_reply": "2020-07-08T05:51:14.871641Z"
    },
    "papermill": {
     "duration": 0.032356,
     "end_time": "2020-07-08T05:51:14.872005",
     "exception": false,
     "start_time": "2020-07-08T05:51:14.839649",
     "status": "completed"
    },
    "tags": []
   },
   "outputs": [
    {
     "name": "stdout",
     "output_type": "stream",
     "text": [
      "These are the fourier features\n"
     ]
    },
    {
     "data": {
      "text/plain": [
       "[0,\n",
       " 2,\n",
       " 4,\n",
       " 6,\n",
       " 8,\n",
       " 10,\n",
       " 12,\n",
       " 14,\n",
       " 16,\n",
       " 18,\n",
       " 20,\n",
       " 22,\n",
       " 24,\n",
       " 26,\n",
       " 28,\n",
       " 30,\n",
       " 32,\n",
       " 34,\n",
       " 36,\n",
       " 38,\n",
       " 40,\n",
       " 42,\n",
       " 44,\n",
       " 46,\n",
       " 48,\n",
       " 50]"
      ]
     },
     "execution_count": 4,
     "metadata": {},
     "output_type": "execute_result"
    }
   ],
   "source": [
    "print(\"These are the fourier features\")\n",
    "fourier_features"
   ]
  },
  {
   "cell_type": "code",
   "execution_count": 5,
   "metadata": {
    "execution": {
     "iopub.execute_input": "2020-07-08T05:51:14.904356Z",
     "iopub.status.busy": "2020-07-08T05:51:14.904045Z",
     "iopub.status.idle": "2020-07-08T05:51:20.256335Z",
     "shell.execute_reply": "2020-07-08T05:51:20.256005Z"
    },
    "papermill": {
     "duration": 5.369112,
     "end_time": "2020-07-08T05:51:20.256394",
     "exception": false,
     "start_time": "2020-07-08T05:51:14.887282",
     "status": "completed"
    },
    "tags": []
   },
   "outputs": [
    {
     "name": "stdout",
     "output_type": "stream",
     "text": [
      "Info on all data: \n",
      "\n",
      "<class 'pandas.core.frame.DataFrame'>\n",
      "Int64Index: 656100 entries, 0 to 656099\n",
      "Columns: 108 entries, id to feat99\n",
      "dtypes: float64(103), int32(3), object(2)\n",
      "memory usage: 538.1+ MB\n",
      "CPU times: user 5 s, sys: 255 ms, total: 5.26 s\n",
      "Wall time: 5.26 s\n"
     ]
    },
    {
     "data": {
      "text/html": [
       "<div>\n",
       "<style scoped>\n",
       "    .dataframe tbody tr th:only-of-type {\n",
       "        vertical-align: middle;\n",
       "    }\n",
       "\n",
       "    .dataframe tbody tr th {\n",
       "        vertical-align: top;\n",
       "    }\n",
       "\n",
       "    .dataframe thead th {\n",
       "        text-align: right;\n",
       "    }\n",
       "</style>\n",
       "<table border=\"1\" class=\"dataframe\">\n",
       "  <thead>\n",
       "    <tr style=\"text-align: right;\">\n",
       "      <th></th>\n",
       "      <th>id</th>\n",
       "      <th>path</th>\n",
       "      <th>t1</th>\n",
       "      <th>t2</th>\n",
       "      <th>winding</th>\n",
       "      <th>phase</th>\n",
       "      <th>pred_phase</th>\n",
       "      <th>type_of</th>\n",
       "      <th>feat0</th>\n",
       "      <th>feat1</th>\n",
       "      <th>...</th>\n",
       "      <th>feat90</th>\n",
       "      <th>feat91</th>\n",
       "      <th>feat92</th>\n",
       "      <th>feat93</th>\n",
       "      <th>feat94</th>\n",
       "      <th>feat95</th>\n",
       "      <th>feat96</th>\n",
       "      <th>feat97</th>\n",
       "      <th>feat98</th>\n",
       "      <th>feat99</th>\n",
       "    </tr>\n",
       "  </thead>\n",
       "  <tbody>\n",
       "    <tr>\n",
       "      <th>0</th>\n",
       "      <td>0</td>\n",
       "      <td>H_-2_-2_0.509296.dat</td>\n",
       "      <td>-2.0</td>\n",
       "      <td>-2.0</td>\n",
       "      <td>0.509296</td>\n",
       "      <td>999</td>\n",
       "      <td>666</td>\n",
       "      <td>test</td>\n",
       "      <td>0.100000</td>\n",
       "      <td>0.100000</td>\n",
       "      <td>...</td>\n",
       "      <td>0.100000</td>\n",
       "      <td>0.100000</td>\n",
       "      <td>0.100000</td>\n",
       "      <td>0.100000</td>\n",
       "      <td>0.100000</td>\n",
       "      <td>0.100000</td>\n",
       "      <td>0.100000</td>\n",
       "      <td>0.100000</td>\n",
       "      <td>0.100000</td>\n",
       "      <td>0.100000</td>\n",
       "    </tr>\n",
       "    <tr>\n",
       "      <th>1</th>\n",
       "      <td>0</td>\n",
       "      <td>H_-2_-2_0.509296.dat</td>\n",
       "      <td>-2.0</td>\n",
       "      <td>-2.0</td>\n",
       "      <td>0.509296</td>\n",
       "      <td>999</td>\n",
       "      <td>666</td>\n",
       "      <td>test</td>\n",
       "      <td>0.141421</td>\n",
       "      <td>0.141142</td>\n",
       "      <td>...</td>\n",
       "      <td>0.114412</td>\n",
       "      <td>0.108967</td>\n",
       "      <td>0.123928</td>\n",
       "      <td>0.119406</td>\n",
       "      <td>0.131490</td>\n",
       "      <td>0.127962</td>\n",
       "      <td>0.136978</td>\n",
       "      <td>0.134500</td>\n",
       "      <td>0.140306</td>\n",
       "      <td>0.138916</td>\n",
       "    </tr>\n",
       "    <tr>\n",
       "      <th>2</th>\n",
       "      <td>0</td>\n",
       "      <td>H_-2_-2_0.509296.dat</td>\n",
       "      <td>-2.0</td>\n",
       "      <td>-2.0</td>\n",
       "      <td>0.509296</td>\n",
       "      <td>999</td>\n",
       "      <td>666</td>\n",
       "      <td>test</td>\n",
       "      <td>0.141421</td>\n",
       "      <td>0.140306</td>\n",
       "      <td>...</td>\n",
       "      <td>0.043702</td>\n",
       "      <td>0.026500</td>\n",
       "      <td>0.075777</td>\n",
       "      <td>0.060214</td>\n",
       "      <td>0.103092</td>\n",
       "      <td>0.090145</td>\n",
       "      <td>0.123928</td>\n",
       "      <td>0.114412</td>\n",
       "      <td>0.136978</td>\n",
       "      <td>0.131490</td>\n",
       "    </tr>\n",
       "    <tr>\n",
       "      <th>3</th>\n",
       "      <td>0</td>\n",
       "      <td>H_-2_-2_0.509296.dat</td>\n",
       "      <td>-2.0</td>\n",
       "      <td>-2.0</td>\n",
       "      <td>0.509296</td>\n",
       "      <td>999</td>\n",
       "      <td>666</td>\n",
       "      <td>test</td>\n",
       "      <td>-0.100000</td>\n",
       "      <td>0.100000</td>\n",
       "      <td>...</td>\n",
       "      <td>-0.100000</td>\n",
       "      <td>0.100000</td>\n",
       "      <td>-0.100000</td>\n",
       "      <td>0.100000</td>\n",
       "      <td>-0.100000</td>\n",
       "      <td>0.100000</td>\n",
       "      <td>-0.100000</td>\n",
       "      <td>0.100000</td>\n",
       "      <td>-0.100000</td>\n",
       "      <td>0.100000</td>\n",
       "    </tr>\n",
       "    <tr>\n",
       "      <th>4</th>\n",
       "      <td>0</td>\n",
       "      <td>H_-2_-2_0.509296.dat</td>\n",
       "      <td>-2.0</td>\n",
       "      <td>-2.0</td>\n",
       "      <td>0.509296</td>\n",
       "      <td>999</td>\n",
       "      <td>666</td>\n",
       "      <td>test</td>\n",
       "      <td>0.000509</td>\n",
       "      <td>-0.008372</td>\n",
       "      <td>...</td>\n",
       "      <td>-0.082713</td>\n",
       "      <td>-0.089753</td>\n",
       "      <td>-0.067684</td>\n",
       "      <td>-0.075347</td>\n",
       "      <td>-0.051587</td>\n",
       "      <td>-0.059753</td>\n",
       "      <td>-0.034677</td>\n",
       "      <td>-0.043217</td>\n",
       "      <td>-0.017220</td>\n",
       "      <td>-0.026000</td>\n",
       "    </tr>\n",
       "  </tbody>\n",
       "</table>\n",
       "<p>5 rows × 108 columns</p>\n",
       "</div>"
      ],
      "text/plain": [
       "   id                  path   t1   t2   winding  phase  pred_phase type_of  \\\n",
       "0   0  H_-2_-2_0.509296.dat -2.0 -2.0  0.509296    999         666    test   \n",
       "1   0  H_-2_-2_0.509296.dat -2.0 -2.0  0.509296    999         666    test   \n",
       "2   0  H_-2_-2_0.509296.dat -2.0 -2.0  0.509296    999         666    test   \n",
       "3   0  H_-2_-2_0.509296.dat -2.0 -2.0  0.509296    999         666    test   \n",
       "4   0  H_-2_-2_0.509296.dat -2.0 -2.0  0.509296    999         666    test   \n",
       "\n",
       "      feat0     feat1  ...    feat90    feat91    feat92    feat93    feat94  \\\n",
       "0  0.100000  0.100000  ...  0.100000  0.100000  0.100000  0.100000  0.100000   \n",
       "1  0.141421  0.141142  ...  0.114412  0.108967  0.123928  0.119406  0.131490   \n",
       "2  0.141421  0.140306  ...  0.043702  0.026500  0.075777  0.060214  0.103092   \n",
       "3 -0.100000  0.100000  ... -0.100000  0.100000 -0.100000  0.100000 -0.100000   \n",
       "4  0.000509 -0.008372  ... -0.082713 -0.089753 -0.067684 -0.075347 -0.051587   \n",
       "\n",
       "     feat95    feat96    feat97    feat98    feat99  \n",
       "0  0.100000  0.100000  0.100000  0.100000  0.100000  \n",
       "1  0.127962  0.136978  0.134500  0.140306  0.138916  \n",
       "2  0.090145  0.123928  0.114412  0.136978  0.131490  \n",
       "3  0.100000 -0.100000  0.100000 -0.100000  0.100000  \n",
       "4 -0.059753 -0.034677 -0.043217 -0.017220 -0.026000  \n",
       "\n",
       "[5 rows x 108 columns]"
      ]
     },
     "execution_count": 5,
     "metadata": {},
     "output_type": "execute_result"
    }
   ],
   "source": [
    "%%time\n",
    "#Starting an instance of Simulation with a decision tree\n",
    "model = DecisionTreeClassifier(criterion=\"entropy\")\n",
    "#dict_args = {\"csv_path\":csv_path, \"model\":model, \"allowed_windings\":allowed_windings,\\\n",
    "#             \"simulation_dir\":simulation_dir, \"val_split\":val_split, \"features_to_use\":features_to_use,\\\n",
    "#            \"shuffle_features\":shuffle_features, \"random_state\":random_state}\n",
    "simulation = Simulation(csv_path,model_name,model_kw,allowed_windings,simulation_dir,val_split,features_to_use,\\\n",
    "                       shuffle_features,random_state)\n",
    "#simulation = Simulation(**dict_args)\n",
    "\n",
    "print(\"Info on all data: \\n\")\n",
    "simulation.dataframe.info()\n",
    "simulation.dataframe.head()"
   ]
  },
  {
   "cell_type": "markdown",
   "metadata": {
    "papermill": {
     "duration": 0.020544,
     "end_time": "2020-07-08T05:51:20.294016",
     "exception": false,
     "start_time": "2020-07-08T05:51:20.273472",
     "status": "completed"
    },
    "tags": []
   },
   "source": [
    "#### Generating Fourier engineered features"
   ]
  },
  {
   "cell_type": "code",
   "execution_count": 6,
   "metadata": {
    "execution": {
     "iopub.execute_input": "2020-07-08T05:51:20.329622Z",
     "iopub.status.busy": "2020-07-08T05:51:20.329313Z",
     "iopub.status.idle": "2020-07-08T05:51:20.740843Z",
     "shell.execute_reply": "2020-07-08T05:51:20.740517Z"
    },
    "papermill": {
     "duration": 0.429163,
     "end_time": "2020-07-08T05:51:20.740898",
     "exception": false,
     "start_time": "2020-07-08T05:51:20.311735",
     "status": "completed"
    },
    "tags": []
   },
   "outputs": [
    {
     "name": "stdout",
     "output_type": "stream",
     "text": [
      "<class 'pandas.core.frame.DataFrame'>\n",
      "Int64Index: 656100 entries, 0 to 656099\n",
      "Data columns (total 34 columns):\n",
      " #   Column      Non-Null Count   Dtype  \n",
      "---  ------      --------------   -----  \n",
      " 0   id          656100 non-null  int32  \n",
      " 1   path        656100 non-null  object \n",
      " 2   t1          656100 non-null  float64\n",
      " 3   t2          656100 non-null  float64\n",
      " 4   winding     656100 non-null  float64\n",
      " 5   phase       656100 non-null  int32  \n",
      " 6   pred_phase  656100 non-null  int32  \n",
      " 7   type_of     656100 non-null  object \n",
      " 8   dct_feat0   656100 non-null  float64\n",
      " 9   dct_feat2   656100 non-null  float64\n",
      " 10  dct_feat4   656100 non-null  float64\n",
      " 11  dct_feat6   656100 non-null  float64\n",
      " 12  dct_feat8   656100 non-null  float64\n",
      " 13  dct_feat10  656100 non-null  float64\n",
      " 14  dct_feat12  656100 non-null  float64\n",
      " 15  dct_feat14  656100 non-null  float64\n",
      " 16  dct_feat16  656100 non-null  float64\n",
      " 17  dct_feat18  656100 non-null  float64\n",
      " 18  dct_feat20  656100 non-null  float64\n",
      " 19  dct_feat22  656100 non-null  float64\n",
      " 20  dct_feat24  656100 non-null  float64\n",
      " 21  dct_feat26  656100 non-null  float64\n",
      " 22  dct_feat28  656100 non-null  float64\n",
      " 23  dct_feat30  656100 non-null  float64\n",
      " 24  dct_feat32  656100 non-null  float64\n",
      " 25  dct_feat34  656100 non-null  float64\n",
      " 26  dct_feat36  656100 non-null  float64\n",
      " 27  dct_feat38  656100 non-null  float64\n",
      " 28  dct_feat40  656100 non-null  float64\n",
      " 29  dct_feat42  656100 non-null  float64\n",
      " 30  dct_feat44  656100 non-null  float64\n",
      " 31  dct_feat46  656100 non-null  float64\n",
      " 32  dct_feat48  656100 non-null  float64\n",
      " 33  dct_feat50  656100 non-null  float64\n",
      "dtypes: float64(29), int32(3), object(2)\n",
      "memory usage: 167.7+ MB\n",
      "CPU times: user 886 ms, sys: 242 ms, total: 1.13 s\n",
      "Wall time: 386 ms\n"
     ]
    },
    {
     "data": {
      "text/html": [
       "<div>\n",
       "<style scoped>\n",
       "    .dataframe tbody tr th:only-of-type {\n",
       "        vertical-align: middle;\n",
       "    }\n",
       "\n",
       "    .dataframe tbody tr th {\n",
       "        vertical-align: top;\n",
       "    }\n",
       "\n",
       "    .dataframe thead th {\n",
       "        text-align: right;\n",
       "    }\n",
       "</style>\n",
       "<table border=\"1\" class=\"dataframe\">\n",
       "  <thead>\n",
       "    <tr style=\"text-align: right;\">\n",
       "      <th></th>\n",
       "      <th>id</th>\n",
       "      <th>path</th>\n",
       "      <th>t1</th>\n",
       "      <th>t2</th>\n",
       "      <th>winding</th>\n",
       "      <th>phase</th>\n",
       "      <th>pred_phase</th>\n",
       "      <th>type_of</th>\n",
       "      <th>dct_feat0</th>\n",
       "      <th>dct_feat2</th>\n",
       "      <th>...</th>\n",
       "      <th>dct_feat32</th>\n",
       "      <th>dct_feat34</th>\n",
       "      <th>dct_feat36</th>\n",
       "      <th>dct_feat38</th>\n",
       "      <th>dct_feat40</th>\n",
       "      <th>dct_feat42</th>\n",
       "      <th>dct_feat44</th>\n",
       "      <th>dct_feat46</th>\n",
       "      <th>dct_feat48</th>\n",
       "      <th>dct_feat50</th>\n",
       "    </tr>\n",
       "  </thead>\n",
       "  <tbody>\n",
       "    <tr>\n",
       "      <th>156687</th>\n",
       "      <td>1566</td>\n",
       "      <td>H_-1.05_-0.65_-0.00432612.dat</td>\n",
       "      <td>-1.05</td>\n",
       "      <td>-0.65</td>\n",
       "      <td>-0.004326</td>\n",
       "      <td>0</td>\n",
       "      <td>666</td>\n",
       "      <td>train</td>\n",
       "      <td>0.141426</td>\n",
       "      <td>0.282842</td>\n",
       "      <td>...</td>\n",
       "      <td>0.282842</td>\n",
       "      <td>0.282842</td>\n",
       "      <td>0.282842</td>\n",
       "      <td>0.282842</td>\n",
       "      <td>2.177787</td>\n",
       "      <td>0.282842</td>\n",
       "      <td>0.282842</td>\n",
       "      <td>0.282842</td>\n",
       "      <td>0.282842</td>\n",
       "      <td>0.141416</td>\n",
       "    </tr>\n",
       "    <tr>\n",
       "      <th>577789</th>\n",
       "      <td>5777</td>\n",
       "      <td>H_1.55_-0.7_0.000832478.dat</td>\n",
       "      <td>1.55</td>\n",
       "      <td>-0.70</td>\n",
       "      <td>0.000832</td>\n",
       "      <td>0</td>\n",
       "      <td>666</td>\n",
       "      <td>train</td>\n",
       "      <td>0.141416</td>\n",
       "      <td>0.282841</td>\n",
       "      <td>...</td>\n",
       "      <td>0.282842</td>\n",
       "      <td>0.282839</td>\n",
       "      <td>0.282843</td>\n",
       "      <td>0.282840</td>\n",
       "      <td>0.282843</td>\n",
       "      <td>0.282841</td>\n",
       "      <td>0.282841</td>\n",
       "      <td>0.298683</td>\n",
       "      <td>0.282838</td>\n",
       "      <td>0.141424</td>\n",
       "    </tr>\n",
       "    <tr>\n",
       "      <th>311551</th>\n",
       "      <td>3115</td>\n",
       "      <td>H_-0.1_-0.15_1.00799.dat</td>\n",
       "      <td>-0.10</td>\n",
       "      <td>-0.15</td>\n",
       "      <td>1.007991</td>\n",
       "      <td>1</td>\n",
       "      <td>666</td>\n",
       "      <td>train</td>\n",
       "      <td>-0.107754</td>\n",
       "      <td>-0.216865</td>\n",
       "      <td>...</td>\n",
       "      <td>1.533994</td>\n",
       "      <td>0.945422</td>\n",
       "      <td>0.697993</td>\n",
       "      <td>0.564747</td>\n",
       "      <td>0.483945</td>\n",
       "      <td>0.431972</td>\n",
       "      <td>0.398009</td>\n",
       "      <td>0.376516</td>\n",
       "      <td>0.364583</td>\n",
       "      <td>0.180380</td>\n",
       "    </tr>\n",
       "    <tr>\n",
       "      <th>147115</th>\n",
       "      <td>1471</td>\n",
       "      <td>H_-1.1_-1.35_1.01414.dat</td>\n",
       "      <td>-1.10</td>\n",
       "      <td>-1.35</td>\n",
       "      <td>1.014141</td>\n",
       "      <td>1</td>\n",
       "      <td>666</td>\n",
       "      <td>test</td>\n",
       "      <td>0.010687</td>\n",
       "      <td>1.466968</td>\n",
       "      <td>...</td>\n",
       "      <td>0.021366</td>\n",
       "      <td>0.021372</td>\n",
       "      <td>0.021366</td>\n",
       "      <td>0.021367</td>\n",
       "      <td>0.021373</td>\n",
       "      <td>0.021368</td>\n",
       "      <td>0.021371</td>\n",
       "      <td>0.021368</td>\n",
       "      <td>-0.890041</td>\n",
       "      <td>0.010685</td>\n",
       "    </tr>\n",
       "    <tr>\n",
       "      <th>181295</th>\n",
       "      <td>1812</td>\n",
       "      <td>H_-0.9_-0.5_-0.00333295.dat</td>\n",
       "      <td>-0.90</td>\n",
       "      <td>-0.50</td>\n",
       "      <td>-0.003333</td>\n",
       "      <td>0</td>\n",
       "      <td>666</td>\n",
       "      <td>train</td>\n",
       "      <td>0.141416</td>\n",
       "      <td>0.282841</td>\n",
       "      <td>...</td>\n",
       "      <td>0.282841</td>\n",
       "      <td>0.282838</td>\n",
       "      <td>0.282846</td>\n",
       "      <td>0.282843</td>\n",
       "      <td>0.282838</td>\n",
       "      <td>0.282842</td>\n",
       "      <td>0.282838</td>\n",
       "      <td>0.282840</td>\n",
       "      <td>0.282835</td>\n",
       "      <td>0.141420</td>\n",
       "    </tr>\n",
       "    <tr>\n",
       "      <th>496300</th>\n",
       "      <td>4963</td>\n",
       "      <td>H_1.05_-0.9_0.00128882.dat</td>\n",
       "      <td>1.05</td>\n",
       "      <td>-0.90</td>\n",
       "      <td>0.001289</td>\n",
       "      <td>0</td>\n",
       "      <td>666</td>\n",
       "      <td>train</td>\n",
       "      <td>-0.100000</td>\n",
       "      <td>-0.201590</td>\n",
       "      <td>...</td>\n",
       "      <td>0.469727</td>\n",
       "      <td>0.373255</td>\n",
       "      <td>0.313763</td>\n",
       "      <td>0.274360</td>\n",
       "      <td>0.247214</td>\n",
       "      <td>0.228231</td>\n",
       "      <td>0.215105</td>\n",
       "      <td>0.206487</td>\n",
       "      <td>0.201590</td>\n",
       "      <td>0.100000</td>\n",
       "    </tr>\n",
       "    <tr>\n",
       "      <th>291993</th>\n",
       "      <td>2919</td>\n",
       "      <td>H_-0.2_-1.85_1.003.dat</td>\n",
       "      <td>-0.20</td>\n",
       "      <td>-1.85</td>\n",
       "      <td>1.003000</td>\n",
       "      <td>1</td>\n",
       "      <td>666</td>\n",
       "      <td>train</td>\n",
       "      <td>0.141421</td>\n",
       "      <td>0.282838</td>\n",
       "      <td>...</td>\n",
       "      <td>0.282840</td>\n",
       "      <td>0.282841</td>\n",
       "      <td>0.282841</td>\n",
       "      <td>0.282844</td>\n",
       "      <td>0.282844</td>\n",
       "      <td>3.299965</td>\n",
       "      <td>0.282835</td>\n",
       "      <td>0.282846</td>\n",
       "      <td>0.282844</td>\n",
       "      <td>0.141421</td>\n",
       "    </tr>\n",
       "    <tr>\n",
       "      <th>600298</th>\n",
       "      <td>6002</td>\n",
       "      <td>H_1.7_-1.6_0.0202011.dat</td>\n",
       "      <td>1.70</td>\n",
       "      <td>-1.60</td>\n",
       "      <td>0.020201</td>\n",
       "      <td>0</td>\n",
       "      <td>666</td>\n",
       "      <td>test</td>\n",
       "      <td>-0.003231</td>\n",
       "      <td>-3.173513</td>\n",
       "      <td>...</td>\n",
       "      <td>-0.006460</td>\n",
       "      <td>-0.006456</td>\n",
       "      <td>-0.006463</td>\n",
       "      <td>-0.006460</td>\n",
       "      <td>-0.006457</td>\n",
       "      <td>-0.006459</td>\n",
       "      <td>-0.006463</td>\n",
       "      <td>-0.006463</td>\n",
       "      <td>2.999146</td>\n",
       "      <td>-0.003227</td>\n",
       "    </tr>\n",
       "    <tr>\n",
       "      <th>43902</th>\n",
       "      <td>439</td>\n",
       "      <td>H_-1.75_-0.3_-0.000553249.dat</td>\n",
       "      <td>-1.75</td>\n",
       "      <td>-0.30</td>\n",
       "      <td>-0.000553</td>\n",
       "      <td>0</td>\n",
       "      <td>666</td>\n",
       "      <td>train</td>\n",
       "      <td>5.100000</td>\n",
       "      <td>0.200000</td>\n",
       "      <td>...</td>\n",
       "      <td>0.200000</td>\n",
       "      <td>0.200000</td>\n",
       "      <td>0.200000</td>\n",
       "      <td>0.200000</td>\n",
       "      <td>0.200000</td>\n",
       "      <td>0.200000</td>\n",
       "      <td>0.200000</td>\n",
       "      <td>0.200000</td>\n",
       "      <td>0.200000</td>\n",
       "      <td>0.100000</td>\n",
       "    </tr>\n",
       "    <tr>\n",
       "      <th>653056</th>\n",
       "      <td>6530</td>\n",
       "      <td>H_2_0.5_-0.000891134.dat</td>\n",
       "      <td>2.00</td>\n",
       "      <td>0.50</td>\n",
       "      <td>-0.000891</td>\n",
       "      <td>0</td>\n",
       "      <td>666</td>\n",
       "      <td>train</td>\n",
       "      <td>0.003999</td>\n",
       "      <td>0.007992</td>\n",
       "      <td>...</td>\n",
       "      <td>3.582230</td>\n",
       "      <td>0.007988</td>\n",
       "      <td>0.007992</td>\n",
       "      <td>0.007996</td>\n",
       "      <td>0.007992</td>\n",
       "      <td>0.007998</td>\n",
       "      <td>0.007993</td>\n",
       "      <td>0.007990</td>\n",
       "      <td>0.007990</td>\n",
       "      <td>0.003997</td>\n",
       "    </tr>\n",
       "    <tr>\n",
       "      <th>516208</th>\n",
       "      <td>5162</td>\n",
       "      <td>H_1.15_0.95_-0.0123265.dat</td>\n",
       "      <td>1.15</td>\n",
       "      <td>0.95</td>\n",
       "      <td>-0.012326</td>\n",
       "      <td>0</td>\n",
       "      <td>666</td>\n",
       "      <td>test</td>\n",
       "      <td>-0.254584</td>\n",
       "      <td>-0.604583</td>\n",
       "      <td>...</td>\n",
       "      <td>-0.029196</td>\n",
       "      <td>-0.042920</td>\n",
       "      <td>-0.063158</td>\n",
       "      <td>-0.096334</td>\n",
       "      <td>-0.159436</td>\n",
       "      <td>-0.315899</td>\n",
       "      <td>-1.143447</td>\n",
       "      <td>1.416670</td>\n",
       "      <td>0.611841</td>\n",
       "      <td>0.257616</td>\n",
       "    </tr>\n",
       "    <tr>\n",
       "      <th>168215</th>\n",
       "      <td>1682</td>\n",
       "      <td>H_-1_1.1_0.999239.dat</td>\n",
       "      <td>-1.00</td>\n",
       "      <td>1.10</td>\n",
       "      <td>0.999239</td>\n",
       "      <td>1</td>\n",
       "      <td>666</td>\n",
       "      <td>train</td>\n",
       "      <td>0.010827</td>\n",
       "      <td>0.021650</td>\n",
       "      <td>...</td>\n",
       "      <td>0.021655</td>\n",
       "      <td>0.021655</td>\n",
       "      <td>0.021656</td>\n",
       "      <td>0.021652</td>\n",
       "      <td>0.021652</td>\n",
       "      <td>0.021655</td>\n",
       "      <td>0.021658</td>\n",
       "      <td>0.021657</td>\n",
       "      <td>0.021651</td>\n",
       "      <td>0.010827</td>\n",
       "    </tr>\n",
       "    <tr>\n",
       "      <th>394362</th>\n",
       "      <td>3943</td>\n",
       "      <td>H_0.4_0.75_1.00572.dat</td>\n",
       "      <td>0.40</td>\n",
       "      <td>0.75</td>\n",
       "      <td>1.005725</td>\n",
       "      <td>1</td>\n",
       "      <td>666</td>\n",
       "      <td>train</td>\n",
       "      <td>0.259005</td>\n",
       "      <td>0.543745</td>\n",
       "      <td>...</td>\n",
       "      <td>0.112007</td>\n",
       "      <td>0.177600</td>\n",
       "      <td>0.295062</td>\n",
       "      <td>0.572080</td>\n",
       "      <td>1.978782</td>\n",
       "      <td>-2.278158</td>\n",
       "      <td>-0.878414</td>\n",
       "      <td>-0.616305</td>\n",
       "      <td>-0.524202</td>\n",
       "      <td>-0.249765</td>\n",
       "    </tr>\n",
       "    <tr>\n",
       "      <th>165437</th>\n",
       "      <td>1654</td>\n",
       "      <td>H_-1_-0.3_-0.00114552.dat</td>\n",
       "      <td>-1.00</td>\n",
       "      <td>-0.30</td>\n",
       "      <td>-0.001146</td>\n",
       "      <td>0</td>\n",
       "      <td>666</td>\n",
       "      <td>train</td>\n",
       "      <td>0.182163</td>\n",
       "      <td>0.375989</td>\n",
       "      <td>...</td>\n",
       "      <td>0.152795</td>\n",
       "      <td>0.258671</td>\n",
       "      <td>0.503468</td>\n",
       "      <td>1.731937</td>\n",
       "      <td>-1.968835</td>\n",
       "      <td>-0.744454</td>\n",
       "      <td>-0.508191</td>\n",
       "      <td>-0.416185</td>\n",
       "      <td>-0.375943</td>\n",
       "      <td>-0.182141</td>\n",
       "    </tr>\n",
       "    <tr>\n",
       "      <th>509311</th>\n",
       "      <td>5093</td>\n",
       "      <td>H_1.1_1.55_1.00916.dat</td>\n",
       "      <td>1.10</td>\n",
       "      <td>1.55</td>\n",
       "      <td>1.009155</td>\n",
       "      <td>1</td>\n",
       "      <td>666</td>\n",
       "      <td>train</td>\n",
       "      <td>-3.787096</td>\n",
       "      <td>2.528494</td>\n",
       "      <td>...</td>\n",
       "      <td>0.011635</td>\n",
       "      <td>0.011150</td>\n",
       "      <td>0.010935</td>\n",
       "      <td>0.011072</td>\n",
       "      <td>0.011709</td>\n",
       "      <td>0.013312</td>\n",
       "      <td>0.017271</td>\n",
       "      <td>0.029667</td>\n",
       "      <td>0.117413</td>\n",
       "      <td>-0.160892</td>\n",
       "    </tr>\n",
       "  </tbody>\n",
       "</table>\n",
       "<p>15 rows × 34 columns</p>\n",
       "</div>"
      ],
      "text/plain": [
       "          id                           path    t1    t2   winding  phase  \\\n",
       "156687  1566  H_-1.05_-0.65_-0.00432612.dat -1.05 -0.65 -0.004326      0   \n",
       "577789  5777    H_1.55_-0.7_0.000832478.dat  1.55 -0.70  0.000832      0   \n",
       "311551  3115       H_-0.1_-0.15_1.00799.dat -0.10 -0.15  1.007991      1   \n",
       "147115  1471       H_-1.1_-1.35_1.01414.dat -1.10 -1.35  1.014141      1   \n",
       "181295  1812    H_-0.9_-0.5_-0.00333295.dat -0.90 -0.50 -0.003333      0   \n",
       "496300  4963     H_1.05_-0.9_0.00128882.dat  1.05 -0.90  0.001289      0   \n",
       "291993  2919         H_-0.2_-1.85_1.003.dat -0.20 -1.85  1.003000      1   \n",
       "600298  6002       H_1.7_-1.6_0.0202011.dat  1.70 -1.60  0.020201      0   \n",
       "43902    439  H_-1.75_-0.3_-0.000553249.dat -1.75 -0.30 -0.000553      0   \n",
       "653056  6530       H_2_0.5_-0.000891134.dat  2.00  0.50 -0.000891      0   \n",
       "516208  5162     H_1.15_0.95_-0.0123265.dat  1.15  0.95 -0.012326      0   \n",
       "168215  1682          H_-1_1.1_0.999239.dat -1.00  1.10  0.999239      1   \n",
       "394362  3943         H_0.4_0.75_1.00572.dat  0.40  0.75  1.005725      1   \n",
       "165437  1654      H_-1_-0.3_-0.00114552.dat -1.00 -0.30 -0.001146      0   \n",
       "509311  5093         H_1.1_1.55_1.00916.dat  1.10  1.55  1.009155      1   \n",
       "\n",
       "        pred_phase type_of  dct_feat0  dct_feat2  ...  dct_feat32  dct_feat34  \\\n",
       "156687         666   train   0.141426   0.282842  ...    0.282842    0.282842   \n",
       "577789         666   train   0.141416   0.282841  ...    0.282842    0.282839   \n",
       "311551         666   train  -0.107754  -0.216865  ...    1.533994    0.945422   \n",
       "147115         666    test   0.010687   1.466968  ...    0.021366    0.021372   \n",
       "181295         666   train   0.141416   0.282841  ...    0.282841    0.282838   \n",
       "496300         666   train  -0.100000  -0.201590  ...    0.469727    0.373255   \n",
       "291993         666   train   0.141421   0.282838  ...    0.282840    0.282841   \n",
       "600298         666    test  -0.003231  -3.173513  ...   -0.006460   -0.006456   \n",
       "43902          666   train   5.100000   0.200000  ...    0.200000    0.200000   \n",
       "653056         666   train   0.003999   0.007992  ...    3.582230    0.007988   \n",
       "516208         666    test  -0.254584  -0.604583  ...   -0.029196   -0.042920   \n",
       "168215         666   train   0.010827   0.021650  ...    0.021655    0.021655   \n",
       "394362         666   train   0.259005   0.543745  ...    0.112007    0.177600   \n",
       "165437         666   train   0.182163   0.375989  ...    0.152795    0.258671   \n",
       "509311         666   train  -3.787096   2.528494  ...    0.011635    0.011150   \n",
       "\n",
       "        dct_feat36  dct_feat38  dct_feat40  dct_feat42  dct_feat44  \\\n",
       "156687    0.282842    0.282842    2.177787    0.282842    0.282842   \n",
       "577789    0.282843    0.282840    0.282843    0.282841    0.282841   \n",
       "311551    0.697993    0.564747    0.483945    0.431972    0.398009   \n",
       "147115    0.021366    0.021367    0.021373    0.021368    0.021371   \n",
       "181295    0.282846    0.282843    0.282838    0.282842    0.282838   \n",
       "496300    0.313763    0.274360    0.247214    0.228231    0.215105   \n",
       "291993    0.282841    0.282844    0.282844    3.299965    0.282835   \n",
       "600298   -0.006463   -0.006460   -0.006457   -0.006459   -0.006463   \n",
       "43902     0.200000    0.200000    0.200000    0.200000    0.200000   \n",
       "653056    0.007992    0.007996    0.007992    0.007998    0.007993   \n",
       "516208   -0.063158   -0.096334   -0.159436   -0.315899   -1.143447   \n",
       "168215    0.021656    0.021652    0.021652    0.021655    0.021658   \n",
       "394362    0.295062    0.572080    1.978782   -2.278158   -0.878414   \n",
       "165437    0.503468    1.731937   -1.968835   -0.744454   -0.508191   \n",
       "509311    0.010935    0.011072    0.011709    0.013312    0.017271   \n",
       "\n",
       "        dct_feat46  dct_feat48  dct_feat50  \n",
       "156687    0.282842    0.282842    0.141416  \n",
       "577789    0.298683    0.282838    0.141424  \n",
       "311551    0.376516    0.364583    0.180380  \n",
       "147115    0.021368   -0.890041    0.010685  \n",
       "181295    0.282840    0.282835    0.141420  \n",
       "496300    0.206487    0.201590    0.100000  \n",
       "291993    0.282846    0.282844    0.141421  \n",
       "600298   -0.006463    2.999146   -0.003227  \n",
       "43902     0.200000    0.200000    0.100000  \n",
       "653056    0.007990    0.007990    0.003997  \n",
       "516208    1.416670    0.611841    0.257616  \n",
       "168215    0.021657    0.021651    0.010827  \n",
       "394362   -0.616305   -0.524202   -0.249765  \n",
       "165437   -0.416185   -0.375943   -0.182141  \n",
       "509311    0.029667    0.117413   -0.160892  \n",
       "\n",
       "[15 rows x 34 columns]"
      ]
     },
     "execution_count": 6,
     "metadata": {},
     "output_type": "execute_result"
    }
   ],
   "source": [
    "%%time\n",
    "simulation.engineer_fourier_features(fourier_features,mode,real,normalize,fillna)\n",
    "simulation.fourier_engineered_dataframe.info() \n",
    "simulation.fourier_engineered_dataframe.sample(15)"
   ]
  },
  {
   "cell_type": "code",
   "execution_count": 7,
   "metadata": {
    "execution": {
     "iopub.execute_input": "2020-07-08T05:51:20.779111Z",
     "iopub.status.busy": "2020-07-08T05:51:20.778808Z",
     "iopub.status.idle": "2020-07-08T05:51:20.788647Z",
     "shell.execute_reply": "2020-07-08T05:51:20.788316Z"
    },
    "papermill": {
     "duration": 0.030228,
     "end_time": "2020-07-08T05:51:20.788699",
     "exception": false,
     "start_time": "2020-07-08T05:51:20.758471",
     "status": "completed"
    },
    "tags": []
   },
   "outputs": [],
   "source": [
    "#simulation.dataframe.iloc[331456,:]"
   ]
  },
  {
   "cell_type": "code",
   "execution_count": 8,
   "metadata": {
    "execution": {
     "iopub.execute_input": "2020-07-08T05:51:20.823067Z",
     "iopub.status.busy": "2020-07-08T05:51:20.822763Z",
     "iopub.status.idle": "2020-07-08T05:51:20.901315Z",
     "shell.execute_reply": "2020-07-08T05:51:20.900349Z"
    },
    "papermill": {
     "duration": 0.096307,
     "end_time": "2020-07-08T05:51:20.901456",
     "exception": false,
     "start_time": "2020-07-08T05:51:20.805149",
     "status": "completed"
    },
    "tags": []
   },
   "outputs": [],
   "source": [
    "#for ix, obj in enumerate(simulation.dataframe.iloc[331456,:].values):\n",
    "#    print(ix,obj)"
   ]
  },
  {
   "cell_type": "code",
   "execution_count": 9,
   "metadata": {
    "execution": {
     "iopub.execute_input": "2020-07-08T05:51:20.979241Z",
     "iopub.status.busy": "2020-07-08T05:51:20.978929Z",
     "iopub.status.idle": "2020-07-08T05:51:20.988732Z",
     "shell.execute_reply": "2020-07-08T05:51:20.988405Z"
    },
    "papermill": {
     "duration": 0.032641,
     "end_time": "2020-07-08T05:51:20.988785",
     "exception": false,
     "start_time": "2020-07-08T05:51:20.956144",
     "status": "completed"
    },
    "tags": []
   },
   "outputs": [],
   "source": [
    "#simulation.fourier_engineered_dataframe.dct_feat0"
   ]
  },
  {
   "cell_type": "code",
   "execution_count": 10,
   "metadata": {
    "execution": {
     "iopub.execute_input": "2020-07-08T05:51:21.023511Z",
     "iopub.status.busy": "2020-07-08T05:51:21.023208Z",
     "iopub.status.idle": "2020-07-08T05:51:21.082172Z",
     "shell.execute_reply": "2020-07-08T05:51:21.081675Z"
    },
    "papermill": {
     "duration": 0.077026,
     "end_time": "2020-07-08T05:51:21.082251",
     "exception": false,
     "start_time": "2020-07-08T05:51:21.005225",
     "status": "completed"
    },
    "tags": []
   },
   "outputs": [],
   "source": [
    "#simulation.features"
   ]
  },
  {
   "cell_type": "code",
   "execution_count": 11,
   "metadata": {
    "execution": {
     "iopub.execute_input": "2020-07-08T05:51:21.138338Z",
     "iopub.status.busy": "2020-07-08T05:51:21.138022Z",
     "iopub.status.idle": "2020-07-08T05:51:21.155944Z",
     "shell.execute_reply": "2020-07-08T05:51:21.156251Z"
    },
    "papermill": {
     "duration": 0.04211,
     "end_time": "2020-07-08T05:51:21.156318",
     "exception": false,
     "start_time": "2020-07-08T05:51:21.114208",
     "status": "completed"
    },
    "tags": []
   },
   "outputs": [],
   "source": [
    "#simulation.fourier_matrix"
   ]
  },
  {
   "cell_type": "code",
   "execution_count": 12,
   "metadata": {
    "execution": {
     "iopub.execute_input": "2020-07-08T05:51:21.191630Z",
     "iopub.status.busy": "2020-07-08T05:51:21.191323Z",
     "iopub.status.idle": "2020-07-08T05:51:21.268496Z",
     "shell.execute_reply": "2020-07-08T05:51:21.267244Z"
    },
    "papermill": {
     "duration": 0.095555,
     "end_time": "2020-07-08T05:51:21.268679",
     "exception": false,
     "start_time": "2020-07-08T05:51:21.173124",
     "status": "completed"
    },
    "tags": []
   },
   "outputs": [],
   "source": [
    "#1/simulation.n_features*simulation.dataframe.loc[:,simulation.features].sum(axis=1)"
   ]
  },
  {
   "cell_type": "code",
   "execution_count": 13,
   "metadata": {
    "execution": {
     "iopub.execute_input": "2020-07-08T05:51:21.344512Z",
     "iopub.status.busy": "2020-07-08T05:51:21.344193Z",
     "iopub.status.idle": "2020-07-08T05:51:21.353437Z",
     "shell.execute_reply": "2020-07-08T05:51:21.353737Z"
    },
    "papermill": {
     "duration": 0.031171,
     "end_time": "2020-07-08T05:51:21.353804",
     "exception": false,
     "start_time": "2020-07-08T05:51:21.322633",
     "status": "completed"
    },
    "tags": []
   },
   "outputs": [],
   "source": [
    "#df_2 = simulation.fourier_engineered_dataframe[simulation.fourier_engineered_dataframe.phase==2]\n",
    "#df_2.describe()"
   ]
  },
  {
   "cell_type": "code",
   "execution_count": 14,
   "metadata": {
    "execution": {
     "iopub.execute_input": "2020-07-08T05:51:21.389181Z",
     "iopub.status.busy": "2020-07-08T05:51:21.388874Z",
     "iopub.status.idle": "2020-07-08T05:51:21.457146Z",
     "shell.execute_reply": "2020-07-08T05:51:21.457793Z"
    },
    "papermill": {
     "duration": 0.087029,
     "end_time": "2020-07-08T05:51:21.457920",
     "exception": false,
     "start_time": "2020-07-08T05:51:21.370891",
     "status": "completed"
    },
    "tags": []
   },
   "outputs": [],
   "source": [
    "#df_1 = simulation.fourier_engineered_dataframe[simulation.fourier_engineered_dataframe.phase==1]\n",
    "#df_1.describe()"
   ]
  },
  {
   "cell_type": "code",
   "execution_count": 15,
   "metadata": {
    "execution": {
     "iopub.execute_input": "2020-07-08T05:51:21.514797Z",
     "iopub.status.busy": "2020-07-08T05:51:21.514489Z",
     "iopub.status.idle": "2020-07-08T05:51:21.524245Z",
     "shell.execute_reply": "2020-07-08T05:51:21.523922Z"
    },
    "papermill": {
     "duration": 0.030741,
     "end_time": "2020-07-08T05:51:21.524297",
     "exception": false,
     "start_time": "2020-07-08T05:51:21.493556",
     "status": "completed"
    },
    "tags": []
   },
   "outputs": [],
   "source": [
    "#df_0 = simulation.fourier_engineered_dataframe[simulation.fourier_engineered_dataframe.phase==0]\n",
    "#df_0.describe()"
   ]
  },
  {
   "cell_type": "code",
   "execution_count": 16,
   "metadata": {
    "execution": {
     "iopub.execute_input": "2020-07-08T05:51:21.559787Z",
     "iopub.status.busy": "2020-07-08T05:51:21.559481Z",
     "iopub.status.idle": "2020-07-08T05:51:21.632684Z",
     "shell.execute_reply": "2020-07-08T05:51:21.633323Z"
    },
    "papermill": {
     "duration": 0.092195,
     "end_time": "2020-07-08T05:51:21.633471",
     "exception": false,
     "start_time": "2020-07-08T05:51:21.541276",
     "status": "completed"
    },
    "tags": []
   },
   "outputs": [],
   "source": [
    "#plt.figure(figsize=(10,10))\n",
    "#plt.scatter(df_1.fourier_feat0,df_1.fourier_feat2)\n",
    "#plt.scatter(df_0.fourier_feat0,df_0.fourier_feat2,alpha=0.4)"
   ]
  },
  {
   "cell_type": "code",
   "execution_count": 17,
   "metadata": {
    "execution": {
     "iopub.execute_input": "2020-07-08T05:51:21.700684Z",
     "iopub.status.busy": "2020-07-08T05:51:21.700349Z",
     "iopub.status.idle": "2020-07-08T05:51:21.710131Z",
     "shell.execute_reply": "2020-07-08T05:51:21.709853Z"
    },
    "papermill": {
     "duration": 0.032196,
     "end_time": "2020-07-08T05:51:21.710185",
     "exception": false,
     "start_time": "2020-07-08T05:51:21.677989",
     "status": "completed"
    },
    "tags": []
   },
   "outputs": [],
   "source": [
    "#plt.scatter(df_0.fourier_feat0,df_0.fourier_feat2,alpha=0.4)"
   ]
  },
  {
   "cell_type": "code",
   "execution_count": 18,
   "metadata": {
    "execution": {
     "iopub.execute_input": "2020-07-08T05:51:21.746034Z",
     "iopub.status.busy": "2020-07-08T05:51:21.745683Z",
     "iopub.status.idle": "2020-07-08T05:51:21.817700Z",
     "shell.execute_reply": "2020-07-08T05:51:21.816781Z"
    },
    "papermill": {
     "duration": 0.090851,
     "end_time": "2020-07-08T05:51:21.817844",
     "exception": false,
     "start_time": "2020-07-08T05:51:21.726993",
     "status": "completed"
    },
    "tags": []
   },
   "outputs": [],
   "source": [
    "#plt.scatter(df_2.fourier_feat0,df_2.fourier_feat2)"
   ]
  },
  {
   "cell_type": "code",
   "execution_count": 19,
   "metadata": {
    "execution": {
     "iopub.execute_input": "2020-07-08T05:51:21.889760Z",
     "iopub.status.busy": "2020-07-08T05:51:21.889455Z",
     "iopub.status.idle": "2020-07-08T05:51:21.899401Z",
     "shell.execute_reply": "2020-07-08T05:51:21.899061Z"
    },
    "papermill": {
     "duration": 0.032082,
     "end_time": "2020-07-08T05:51:21.899456",
     "exception": false,
     "start_time": "2020-07-08T05:51:21.867374",
     "status": "completed"
    },
    "tags": []
   },
   "outputs": [],
   "source": [
    "#df_1.hist(figsize=(15,15))"
   ]
  },
  {
   "cell_type": "code",
   "execution_count": 20,
   "metadata": {
    "execution": {
     "iopub.execute_input": "2020-07-08T05:51:21.935335Z",
     "iopub.status.busy": "2020-07-08T05:51:21.935028Z",
     "iopub.status.idle": "2020-07-08T05:51:21.999265Z",
     "shell.execute_reply": "2020-07-08T05:51:21.998665Z"
    },
    "papermill": {
     "duration": 0.082738,
     "end_time": "2020-07-08T05:51:21.999355",
     "exception": false,
     "start_time": "2020-07-08T05:51:21.916617",
     "status": "completed"
    },
    "tags": []
   },
   "outputs": [],
   "source": [
    "#df_0.hist(figsize=(15,15))"
   ]
  },
  {
   "cell_type": "markdown",
   "metadata": {
    "papermill": {
     "duration": 0.020316,
     "end_time": "2020-07-08T05:51:22.055525",
     "exception": false,
     "start_time": "2020-07-08T05:51:22.035209",
     "status": "completed"
    },
    "tags": []
   },
   "source": [
    "#### Checking initialization"
   ]
  },
  {
   "cell_type": "code",
   "execution_count": 21,
   "metadata": {
    "execution": {
     "iopub.execute_input": "2020-07-08T05:51:22.091508Z",
     "iopub.status.busy": "2020-07-08T05:51:22.091199Z",
     "iopub.status.idle": "2020-07-08T05:51:22.101979Z",
     "shell.execute_reply": "2020-07-08T05:51:22.101663Z"
    },
    "papermill": {
     "duration": 0.02963,
     "end_time": "2020-07-08T05:51:22.102031",
     "exception": false,
     "start_time": "2020-07-08T05:51:22.072401",
     "status": "completed"
    },
    "tags": []
   },
   "outputs": [
    {
     "name": "stdout",
     "output_type": "stream",
     "text": [
      "n_features:  100\n",
      "n_hamiltonians:  6561\n",
      "n_ts:  2\n",
      "CPU times: user 121 µs, sys: 14 µs, total: 135 µs\n",
      "Wall time: 87 µs\n"
     ]
    }
   ],
   "source": [
    "%%time\n",
    "n_features = simulation.n_features\n",
    "n_hamiltonians = simulation.n_hamiltonians\n",
    "n_ts = simulation.n_ts\n",
    "\n",
    "print(\"n_features: \", n_features)\n",
    "print(\"n_hamiltonians: \", n_hamiltonians)\n",
    "print(\"n_ts: \", n_ts)"
   ]
  },
  {
   "cell_type": "code",
   "execution_count": 22,
   "metadata": {
    "execution": {
     "iopub.execute_input": "2020-07-08T05:51:22.138029Z",
     "iopub.status.busy": "2020-07-08T05:51:22.137710Z",
     "iopub.status.idle": "2020-07-08T05:51:22.441053Z",
     "shell.execute_reply": "2020-07-08T05:51:22.441305Z"
    },
    "papermill": {
     "duration": 0.322267,
     "end_time": "2020-07-08T05:51:22.441374",
     "exception": false,
     "start_time": "2020-07-08T05:51:22.119107",
     "status": "completed"
    },
    "tags": []
   },
   "outputs": [
    {
     "name": "stdout",
     "output_type": "stream",
     "text": [
      "% train:  0.846822130772748\n",
      "% val:  0.0\n",
      "% test:  0.15317786922725193\n",
      "% train + val + test:  1.0\n",
      "\n",
      "\n",
      "number of train hamiltonians:  5556\n",
      "number of val hamiltonians:  0\n",
      "number of test hamiltonians:  1005\n",
      "total number of hamiltonians:  6561\n",
      "\n",
      "\n",
      "train ids:  [9, 10, 11, 12, 13, 14, 15, 16, 17, 18, 19, 20, 21, 22, 23, 24, 25, 26, 27, 28, 29, 30, 31, 32, 33, 34, 35, 36, 37, 38, 39, 40, 41, 42, 43, 44, 45, 46, 47, 48, 49, 50, 51, 52, 53, 54, 55, 56, 57, 58, 59, 60, 61, 62, 63, 64, 65, 66, 67, 68, 69, 70, 71, 72, 73, 74, 75, 76, 77, 91, 92, 93, 94, 95, 96, 97, 98, 99, 100, 101, 102, 103, 104, 105, 106, 107, 108, 109, 110, 111, 112, 113, 114, 115, 116, 117, 118, 119, 120, 121, 122, 123, 124, 125, 126, 127, 128, 129, 130, 131, 132, 133, 134, 135, 136, 137, 138, 139, 140, 141, 142, 143, 144, 145, 146, 147, 148, 149, 150, 151, 152, 153, 154, 155, 156, 157, 172, 173, 174, 175, 176, 177, 178, 179, 180, 181, 182, 183, 184, 185, 186, 187, 188, 189, 190, 191, 192, 193, 194, 195, 196, 197, 198, 199, 200, 201, 202, 203, 204, 205, 206, 207, 208, 209, 210, 211, 212, 213, 214, 215, 216, 217, 218, 219, 220, 221, 222, 223, 224, 225, 226, 227, 228, 229, 230, 231, 232, 233, 234, 235, 236, 237, 254, 255, 256, 257, 258, 259, 260, 261, 262, 263, 264, 265, 266, 267, 268, 269, 270, 271, 272, 273, 274, 275, 276, 277, 278, 279, 280, 281, 282, 283, 284, 285, 286, 287, 288, 289, 290, 291, 292, 293, 294, 295, 296, 297, 298, 299, 300, 301, 302, 303, 304, 305, 306, 307, 308, 309, 310, 311, 312, 313, 314, 315, 316, 317, 323, 336, 337, 338, 339, 340, 341, 342, 343, 344, 345, 346, 347, 348, 349, 350, 351, 352, 353, 354, 355, 356, 357, 358, 359, 360, 361, 362, 363, 364, 365, 366, 367, 368, 369, 370, 371, 372, 373, 374, 375, 376, 377, 378, 379, 380, 381, 382, 383, 384, 385, 386, 387, 388, 389, 390, 391, 392, 393, 394, 395, 396, 397, 403, 404, 418, 419, 420, 421, 422, 423, 424, 425, 426, 427, 428, 429, 430, 431, 432, 433, 434, 435, 436, 437, 438, 439, 440, 441, 442, 443, 444, 445, 446, 447, 448, 449, 450, 451, 452, 453, 454, 455, 456, 457, 458, 459, 460, 461, 462, 463, 464, 465, 466, 467, 468, 469, 470, 471, 472, 473, 474, 475, 476, 477, 483, 484, 485, 500, 501, 502, 503, 504, 505, 506, 507, 508, 509, 510, 511, 512, 513, 514, 515, 516, 517, 518, 519, 520, 521, 522, 523, 524, 525, 526, 527, 528, 529, 530, 531, 532, 533, 534, 535, 536, 537, 538, 539, 540, 541, 542, 543, 544, 545, 546, 547, 548, 549, 550, 551, 552, 553, 554, 555, 556, 557, 563, 564, 565, 566, 581, 582, 583, 584, 585, 586, 587, 588, 589, 590, 591, 592, 593, 594, 595, 596, 597, 598, 599, 600, 601, 602, 603, 604, 605, 606, 607, 608, 609, 610, 611, 612, 613, 614, 615, 616, 617, 618, 619, 620, 621, 622, 623, 624, 625, 626, 627, 628, 629, 630, 631, 632, 633, 634, 635, 636, 637, 643, 644, 645, 646, 647, 663, 664, 665, 666, 667, 668, 669, 670, 671, 672, 673, 674, 675, 676, 677, 678, 679, 680, 681, 682, 683, 684, 685, 686, 687, 688, 689, 690, 691, 692, 693, 694, 695, 696, 697, 698, 699, 700, 701, 702, 703, 704, 705, 706, 707, 708, 709, 710, 711, 712, 713, 714, 715, 716, 717, 723, 724, 725, 726, 727, 728, 745, 746, 747, 748, 749, 750, 751, 752, 753, 754, 755, 756, 757, 758, 759, 760, 761, 762, 763, 764, 765, 766, 767, 768, 769, 770, 771, 772, 773, 774, 775, 776, 777, 778, 779, 780, 781, 782, 783, 784, 785, 786, 787, 788, 789, 790, 791, 792, 793, 794, 795, 796, 797, 803, 804, 805, 806, 807, 808, 809, 827, 828, 829, 830, 831, 832, 833, 834, 835, 836, 837, 838, 839, 840, 841, 842, 843, 844, 845, 846, 847, 848, 849, 850, 851, 852, 853, 854, 855, 856, 857, 858, 859, 860, 861, 862, 863, 864, 865, 866, 867, 868, 869, 870, 871, 872, 873, 874, 875, 876, 877, 883, 884, 885, 886, 887, 888, 889, 890, 891, 909, 910, 911, 912, 913, 914, 915, 916, 917, 918, 919, 920, 921, 922, 923, 924, 925, 926, 927, 928, 929, 930, 931, 932, 933, 934, 935, 936, 937, 938, 939, 940, 941, 942, 943, 944, 945, 946, 947, 948, 949, 950, 951, 952, 953, 954, 955, 956, 957, 963, 964, 965, 966, 967, 968, 969, 970, 971, 972, 973, 990, 991, 992, 993, 994, 995, 996, 997, 998, 999, 1000, 1001, 1002, 1003, 1004, 1005, 1006, 1007, 1008, 1009, 1010, 1011, 1012, 1013, 1014, 1015, 1016, 1017, 1018, 1019, 1020, 1021, 1022, 1023, 1024, 1025, 1026, 1027, 1028, 1029, 1030, 1031, 1032, 1033, 1034, 1035, 1036, 1037, 1038, 1042, 1043, 1044, 1045, 1046, 1047, 1048, 1049, 1050, 1051, 1052, 1053, 1054, 1055, 1056, 1072, 1073, 1074, 1075, 1076, 1077, 1078, 1079, 1080, 1081, 1082, 1083, 1084, 1085, 1086, 1087, 1088, 1089, 1090, 1091, 1092, 1093, 1094, 1095, 1096, 1097, 1098, 1099, 1100, 1101, 1102, 1103, 1104, 1105, 1106, 1107, 1108, 1109, 1110, 1111, 1112, 1113, 1114, 1115, 1116, 1117, 1118, 1122, 1123, 1124, 1125, 1126, 1127, 1128, 1129, 1130, 1131, 1132, 1133, 1134, 1135, 1136, 1137, 1138, 1154, 1155, 1156, 1157, 1158, 1159, 1160, 1161, 1162, 1163, 1164, 1165, 1166, 1167, 1168, 1169, 1170, 1171, 1172, 1173, 1174, 1175, 1176, 1177, 1178, 1179, 1180, 1181, 1182, 1183, 1184, 1185, 1186, 1187, 1188, 1189, 1190, 1191, 1192, 1193, 1194, 1195, 1196, 1197, 1198, 1202, 1203, 1204, 1205, 1206, 1207, 1208, 1209, 1210, 1211, 1212, 1213, 1214, 1215, 1216, 1217, 1218, 1219, 1220, 1236, 1237, 1238, 1239, 1240, 1241, 1242, 1243, 1244, 1245, 1246, 1247, 1248, 1249, 1250, 1251, 1252, 1253, 1254, 1255, 1256, 1257, 1258, 1259, 1260, 1261, 1262, 1263, 1264, 1265, 1266, 1267, 1268, 1269, 1270, 1271, 1272, 1273, 1274, 1275, 1276, 1277, 1278, 1282, 1283, 1284, 1285, 1286, 1287, 1288, 1289, 1290, 1291, 1292, 1293, 1294, 1295, 1296, 1297, 1298, 1299, 1300, 1301, 1302, 1303, 1317, 1318, 1319, 1320, 1321, 1322, 1323, 1324, 1325, 1326, 1327, 1328, 1329, 1330, 1331, 1332, 1333, 1334, 1335, 1336, 1337, 1338, 1339, 1340, 1341, 1342, 1343, 1344, 1345, 1346, 1347, 1348, 1349, 1350, 1351, 1352, 1353, 1354, 1355, 1356, 1357, 1358, 1362, 1363, 1364, 1365, 1366, 1367, 1368, 1369, 1370, 1371, 1372, 1373, 1374, 1375, 1376, 1377, 1378, 1379, 1380, 1381, 1382, 1383, 1384, 1385, 1399, 1400, 1401, 1402, 1403, 1404, 1405, 1406, 1407, 1408, 1409, 1410, 1411, 1412, 1413, 1414, 1415, 1416, 1417, 1418, 1419, 1420, 1421, 1422, 1423, 1424, 1425, 1426, 1427, 1428, 1429, 1430, 1431, 1432, 1433, 1434, 1435, 1436, 1437, 1438, 1442, 1443, 1444, 1445, 1446, 1447, 1448, 1449, 1450, 1451, 1452, 1453, 1454, 1455, 1456, 1457, 1458, 1459, 1460, 1461, 1462, 1463, 1464, 1465, 1466, 1467, 1468, 1481, 1482, 1483, 1484, 1485, 1486, 1487, 1488, 1489, 1490, 1491, 1492, 1493, 1494, 1495, 1496, 1497, 1498, 1499, 1500, 1501, 1502, 1503, 1504, 1505, 1506, 1507, 1508, 1509, 1510, 1511, 1512, 1513, 1514, 1515, 1516, 1517, 1518, 1522, 1523, 1524, 1525, 1526, 1527, 1528, 1529, 1530, 1531, 1532, 1533, 1534, 1535, 1536, 1537, 1538, 1539, 1540, 1541, 1542, 1543, 1544, 1545, 1546, 1547, 1548, 1549, 1550, 1563, 1564, 1565, 1566, 1567, 1568, 1569, 1570, 1571, 1572, 1573, 1574, 1575, 1576, 1577, 1578, 1579, 1580, 1581, 1582, 1583, 1584, 1585, 1586, 1587, 1588, 1589, 1590, 1591, 1592, 1593, 1594, 1595, 1596, 1597, 1598, 1602, 1603, 1604, 1605, 1606, 1607, 1608, 1609, 1610, 1611, 1612, 1613, 1614, 1615, 1616, 1617, 1618, 1619, 1620, 1621, 1622, 1623, 1624, 1625, 1626, 1627, 1628, 1629, 1630, 1631, 1632, 1645, 1646, 1647, 1648, 1649, 1650, 1651, 1652, 1653, 1654, 1655, 1656, 1657, 1658, 1659, 1660, 1661, 1662, 1663, 1664, 1665, 1666, 1667, 1668, 1669, 1670, 1671, 1672, 1673, 1674, 1675, 1676, 1677, 1678, 1682, 1683, 1684, 1685, 1686, 1687, 1688, 1689, 1690, 1691, 1692, 1693, 1694, 1695, 1696, 1697, 1698, 1699, 1700, 1701, 1702, 1703, 1704, 1705, 1706, 1707, 1708, 1709, 1710, 1711, 1712, 1713, 1714, 1715, 1726, 1727, 1728, 1729, 1730, 1731, 1732, 1733, 1734, 1735, 1736, 1737, 1738, 1739, 1740, 1741, 1742, 1743, 1744, 1745, 1746, 1747, 1748, 1749, 1750, 1751, 1752, 1753, 1754, 1755, 1756, 1757, 1758, 1762, 1763, 1764, 1765, 1766, 1767, 1768, 1769, 1770, 1771, 1772, 1773, 1774, 1775, 1776, 1777, 1778, 1779, 1780, 1781, 1782, 1783, 1784, 1785, 1786, 1787, 1788, 1789, 1790, 1791, 1792, 1793, 1794, 1795, 1796, 1797, 1808, 1809, 1810, 1811, 1812, 1813, 1814, 1815, 1816, 1817, 1818, 1819, 1820, 1821, 1822, 1823, 1824, 1825, 1826, 1827, 1828, 1829, 1830, 1831, 1832, 1833, 1834, 1835, 1836, 1837, 1838, 1842, 1843, 1844, 1845, 1846, 1847, 1848, 1849, 1850, 1851, 1852, 1853, 1854, 1855, 1856, 1857, 1858, 1859, 1860, 1861, 1862, 1863, 1864, 1865, 1866, 1867, 1868, 1869, 1870, 1871, 1872, 1873, 1874, 1875, 1876, 1877, 1878, 1879, 1890, 1891, 1892, 1893, 1894, 1895, 1896, 1897, 1898, 1899, 1900, 1901, 1902, 1903, 1904, 1905, 1906, 1907, 1908, 1909, 1910, 1911, 1912, 1913, 1914, 1915, 1916, 1917, 1918, 1922, 1923, 1924, 1925, 1926, 1927, 1928, 1929, 1930, 1931, 1932, 1933, 1934, 1935, 1936, 1937, 1938, 1939, 1940, 1941, 1942, 1943, 1944, 1945, 1946, 1947, 1948, 1949, 1950, 1951, 1952, 1953, 1954, 1955, 1956, 1957, 1958, 1959, 1960, 1961, 1962, 1972, 1973, 1974, 1975, 1976, 1977, 1978, 1979, 1980, 1981, 1982, 1983, 1984, 1985, 1986, 1987, 1988, 1989, 1990, 1991, 1992, 1993, 1994, 1995, 1996, 1997, 1998, 2002, 2003, 2004, 2005, 2006, 2007, 2008, 2009, 2010, 2011, 2012, 2013, 2014, 2015, 2016, 2017, 2018, 2019, 2020, 2021, 2022, 2023, 2024, 2025, 2026, 2027, 2028, 2029, 2030, 2031, 2032, 2033, 2034, 2035, 2036, 2037, 2038, 2039, 2040, 2041, 2042, 2043, 2044, 2054, 2055, 2056, 2057, 2058, 2059, 2060, 2061, 2062, 2063, 2064, 2065, 2066, 2067, 2068, 2069, 2070, 2071, 2072, 2073, 2074, 2075, 2076, 2077, 2078, 2082, 2083, 2084, 2085, 2086, 2087, 2088, 2089, 2090, 2091, 2092, 2093, 2094, 2095, 2096, 2097, 2098, 2099, 2100, 2101, 2102, 2103, 2104, 2105, 2106, 2107, 2108, 2109, 2110, 2111, 2112, 2113, 2114, 2115, 2116, 2117, 2118, 2119, 2120, 2121, 2122, 2123, 2124, 2125, 2126, 2135, 2136, 2137, 2138, 2139, 2140, 2141, 2142, 2143, 2144, 2145, 2146, 2147, 2148, 2149, 2150, 2151, 2152, 2153, 2154, 2155, 2156, 2157, 2158, 2159, 2161, 2162, 2163, 2164, 2165, 2166, 2167, 2168, 2169, 2170, 2171, 2172, 2173, 2174, 2175, 2176, 2177, 2178, 2179, 2180, 2181, 2182, 2183, 2184, 2185, 2186, 2187, 2188, 2189, 2190, 2191, 2192, 2193, 2194, 2195, 2196, 2197, 2198, 2199, 2200, 2201, 2202, 2203, 2204, 2205, 2206, 2207, 2208, 2209, 2217, 2218, 2219, 2220, 2221, 2222, 2223, 2224, 2225, 2226, 2227, 2228, 2229, 2230, 2231, 2232, 2233, 2234, 2235, 2236, 2237, 2238, 2239, 2241, 2242, 2243, 2244, 2245, 2246, 2247, 2248, 2249, 2250, 2251, 2252, 2253, 2254, 2255, 2256, 2257, 2258, 2259, 2260, 2261, 2262, 2263, 2264, 2265, 2266, 2267, 2268, 2269, 2270, 2271, 2272, 2273, 2274, 2275, 2276, 2277, 2278, 2279, 2280, 2281, 2282, 2283, 2284, 2285, 2286, 2287, 2288, 2289, 2290, 2291, 2299, 2300, 2301, 2302, 2303, 2304, 2305, 2306, 2307, 2308, 2309, 2310, 2311, 2312, 2313, 2314, 2315, 2316, 2317, 2318, 2319, 2321, 2322, 2323, 2324, 2325, 2326, 2327, 2328, 2329, 2330, 2331, 2332, 2333, 2334, 2335, 2336, 2337, 2338, 2339, 2340, 2341, 2342, 2343, 2344, 2345, 2346, 2347, 2348, 2349, 2350, 2351, 2352, 2353, 2354, 2355, 2356, 2357, 2358, 2359, 2360, 2361, 2362, 2363, 2364, 2365, 2366, 2367, 2368, 2369, 2370, 2371, 2372, 2373, 2374, 2381, 2382, 2383, 2384, 2385, 2386, 2387, 2388, 2389, 2390, 2391, 2392, 2393, 2394, 2395, 2396, 2397, 2398, 2399, 2401, 2402, 2403, 2404, 2405, 2406, 2407, 2408, 2409, 2410, 2411, 2412, 2413, 2414, 2415, 2416, 2417, 2418, 2419, 2420, 2421, 2422, 2423, 2424, 2425, 2426, 2427, 2428, 2429, 2430, 2431, 2432, 2433, 2434, 2435, 2436, 2437, 2438, 2439, 2440, 2441, 2442, 2443, 2444, 2445, 2446, 2447, 2448, 2449, 2450, 2451, 2452, 2453, 2454, 2455, 2456, 2463, 2464, 2465, 2466, 2467, 2468, 2469, 2470, 2471, 2472, 2473, 2474, 2475, 2476, 2477, 2478, 2479, 2481, 2482, 2483, 2484, 2485, 2486, 2487, 2488, 2489, 2490, 2491, 2492, 2493, 2494, 2495, 2496, 2497, 2498, 2499, 2500, 2501, 2502, 2503, 2504, 2505, 2506, 2507, 2508, 2509, 2510, 2511, 2512, 2513, 2514, 2515, 2516, 2517, 2518, 2519, 2520, 2521, 2522, 2523, 2524, 2525, 2526, 2527, 2528, 2529, 2530, 2531, 2532, 2533, 2534, 2535, 2536, 2537, 2538, 2544, 2545, 2546, 2547, 2548, 2549, 2550, 2551, 2552, 2553, 2554, 2555, 2556, 2557, 2558, 2559, 2561, 2562, 2563, 2564, 2565, 2566, 2567, 2568, 2569, 2570, 2571, 2572, 2573, 2574, 2575, 2576, 2577, 2578, 2579, 2580, 2581, 2582, 2583, 2584, 2585, 2586, 2587, 2588, 2589, 2590, 2591, 2592, 2593, 2594, 2595, 2596, 2597, 2598, 2599, 2600, 2601, 2602, 2603, 2604, 2605, 2606, 2607, 2608, 2609, 2610, 2611, 2612, 2613, 2614, 2615, 2616, 2617, 2618, 2619, 2620, 2621, 2626, 2627, 2628, 2629, 2630, 2631, 2632, 2633, 2634, 2635, 2636, 2637, 2638, 2639, 2641, 2642, 2643, 2644, 2645, 2646, 2647, 2648, 2649, 2650, 2651, 2652, 2653, 2654, 2655, 2656, 2657, 2658, 2659, 2660, 2661, 2662, 2663, 2664, 2665, 2666, 2667, 2668, 2669, 2670, 2671, 2672, 2673, 2674, 2675, 2676, 2677, 2678, 2679, 2680, 2681, 2682, 2683, 2684, 2685, 2686, 2687, 2688, 2689, 2690, 2691, 2692, 2693, 2694, 2695, 2696, 2697, 2698, 2699, 2700, 2701, 2702, 2703, 2708, 2709, 2710, 2711, 2712, 2713, 2714, 2715, 2716, 2717, 2718, 2719, 2721, 2722, 2723, 2724, 2725, 2726, 2727, 2728, 2729, 2730, 2731, 2732, 2733, 2734, 2735, 2736, 2737, 2738, 2739, 2740, 2741, 2742, 2743, 2744, 2745, 2746, 2747, 2748, 2749, 2750, 2751, 2752, 2753, 2754, 2755, 2756, 2757, 2758, 2759, 2760, 2761, 2762, 2763, 2764, 2765, 2766, 2767, 2768, 2769, 2770, 2771, 2772, 2773, 2774, 2775, 2776, 2777, 2778, 2779, 2780, 2781, 2782, 2783, 2784, 2785, 2790, 2791, 2792, 2793, 2794, 2795, 2796, 2797, 2798, 2799, 2801, 2802, 2803, 2804, 2805, 2806, 2807, 2808, 2809, 2810, 2811, 2812, 2813, 2814, 2815, 2816, 2817, 2818, 2819, 2820, 2821, 2822, 2823, 2824, 2825, 2826, 2827, 2828, 2829, 2830, 2831, 2832, 2833, 2834, 2835, 2836, 2837, 2838, 2839, 2840, 2841, 2842, 2843, 2844, 2845, 2846, 2847, 2848, 2849, 2850, 2851, 2852, 2853, 2854, 2855, 2856, 2857, 2858, 2859, 2860, 2861, 2862, 2863, 2864, 2865, 2866, 2867, 2868, 2872, 2873, 2874, 2875, 2876, 2877, 2878, 2879, 2881, 2882, 2883, 2884, 2885, 2886, 2887, 2888, 2889, 2890, 2891, 2892, 2893, 2894, 2895, 2896, 2897, 2898, 2899, 2900, 2901, 2902, 2903, 2904, 2905, 2906, 2907, 2908, 2909, 2910, 2911, 2912, 2913, 2914, 2915, 2916, 2917, 2918, 2919, 2920, 2921, 2922, 2923, 2924, 2925, 2926, 2927, 2928, 2929, 2930, 2931, 2932, 2933, 2934, 2935, 2936, 2937, 2938, 2939, 2940, 2941, 2942, 2943, 2944, 2945, 2946, 2947, 2948, 2949, 2950, 2953, 2954, 2955, 2956, 2957, 2958, 2959, 2961, 2962, 2963, 2964, 2965, 2966, 2967, 2968, 2969, 2970, 2971, 2972, 2973, 2974, 2975, 2976, 2977, 2978, 2979, 2980, 2981, 2982, 2983, 2984, 2985, 2986, 2987, 2988, 2989, 2990, 2991, 2992, 2993, 2994, 2995, 2996, 2997, 2998, 2999, 3000, 3001, 3002, 3003, 3004, 3005, 3006, 3007, 3008, 3009, 3010, 3011, 3012, 3013, 3014, 3015, 3016, 3017, 3018, 3019, 3020, 3021, 3022, 3023, 3024, 3025, 3026, 3027, 3028, 3029, 3030, 3031, 3032, 3035, 3036, 3037, 3038, 3039, 3041, 3042, 3043, 3044, 3045, 3046, 3047, 3048, 3049, 3050, 3051, 3052, 3053, 3054, 3055, 3056, 3057, 3058, 3059, 3060, 3061, 3062, 3063, 3064, 3065, 3066, 3067, 3068, 3069, 3070, 3071, 3072, 3073, 3074, 3075, 3076, 3077, 3078, 3079, 3080, 3081, 3082, 3083, 3084, 3085, 3086, 3087, 3088, 3089, 3090, 3091, 3092, 3093, 3094, 3095, 3096, 3097, 3098, 3099, 3100, 3101, 3102, 3103, 3104, 3105, 3106, 3107, 3108, 3109, 3110, 3111, 3112, 3113, 3114, 3115, 3117, 3118, 3119, 3121, 3122, 3123, 3124, 3125, 3126, 3127, 3128, 3129, 3130, 3131, 3132, 3133, 3134, 3135, 3136, 3137, 3138, 3139, 3140, 3141, 3142, 3143, 3144, 3145, 3146, 3147, 3148, 3149, 3150, 3151, 3152, 3153, 3154, 3155, 3156, 3157, 3158, 3159, 3160, 3161, 3162, 3163, 3164, 3165, 3166, 3167, 3168, 3169, 3170, 3171, 3172, 3173, 3174, 3175, 3176, 3177, 3178, 3179, 3180, 3181, 3182, 3183, 3184, 3185, 3186, 3187, 3188, 3189, 3190, 3191, 3192, 3193, 3194, 3195, 3196, 3197, 3199, 3201, 3202, 3203, 3204, 3205, 3206, 3207, 3208, 3209, 3210, 3211, 3212, 3213, 3214, 3215, 3216, 3217, 3218, 3219, 3220, 3221, 3222, 3223, 3224, 3225, 3226, 3227, 3228, 3229, 3230, 3231, 3232, 3233, 3234, 3235, 3236, 3237, 3238, 3239, 3240, 3241, 3242, 3243, 3244, 3245, 3246, 3247, 3248, 3249, 3250, 3251, 3252, 3253, 3254, 3255, 3256, 3257, 3258, 3259, 3260, 3261, 3262, 3263, 3264, 3265, 3266, 3267, 3268, 3269, 3270, 3271, 3272, 3273, 3274, 3275, 3276, 3277, 3278, 3279, 3281, 3282, 3283, 3284, 3285, 3286, 3287, 3288, 3289, 3290, 3291, 3292, 3293, 3294, 3295, 3296, 3297, 3298, 3299, 3300, 3301, 3302, 3303, 3304, 3305, 3306, 3307, 3308, 3309, 3310, 3311, 3312, 3313, 3314, 3315, 3316, 3317, 3318, 3319, 3320, 3321, 3322, 3323, 3324, 3325, 3326, 3327, 3328, 3329, 3330, 3331, 3332, 3333, 3334, 3335, 3336, 3337, 3338, 3339, 3340, 3341, 3342, 3343, 3344, 3345, 3346, 3347, 3348, 3349, 3350, 3351, 3352, 3353, 3354, 3355, 3356, 3357, 3358, 3359, 3361, 3363, 3364, 3365, 3366, 3367, 3368, 3369, 3370, 3371, 3372, 3373, 3374, 3375, 3376, 3377, 3378, 3379, 3380, 3381, 3382, 3383, 3384, 3385, 3386, 3387, 3388, 3389, 3390, 3391, 3392, 3393, 3394, 3395, 3396, 3397, 3398, 3399, 3400, 3401, 3402, 3403, 3404, 3405, 3406, 3407, 3408, 3409, 3410, 3411, 3412, 3413, 3414, 3415, 3416, 3417, 3418, 3419, 3420, 3421, 3422, 3423, 3424, 3425, 3426, 3427, 3428, 3429, 3430, 3431, 3432, 3433, 3434, 3435, 3436, 3437, 3438, 3439, 3441, 3442, 3443, 3445, 3446, 3447, 3448, 3449, 3450, 3451, 3452, 3453, 3454, 3455, 3456, 3457, 3458, 3459, 3460, 3461, 3462, 3463, 3464, 3465, 3466, 3467, 3468, 3469, 3470, 3471, 3472, 3473, 3474, 3475, 3476, 3477, 3478, 3479, 3480, 3481, 3482, 3483, 3484, 3485, 3486, 3487, 3488, 3489, 3490, 3491, 3492, 3493, 3494, 3495, 3496, 3497, 3498, 3499, 3500, 3501, 3502, 3503, 3504, 3505, 3506, 3507, 3508, 3509, 3510, 3511, 3512, 3513, 3514, 3515, 3516, 3517, 3518, 3519, 3521, 3522, 3523, 3524, 3525, 3528, 3529, 3530, 3531, 3532, 3533, 3534, 3535, 3536, 3537, 3538, 3539, 3540, 3541, 3542, 3543, 3544, 3545, 3546, 3547, 3548, 3549, 3550, 3551, 3552, 3553, 3554, 3555, 3556, 3557, 3558, 3559, 3560, 3561, 3562, 3563, 3564, 3565, 3566, 3567, 3568, 3569, 3570, 3571, 3572, 3573, 3574, 3575, 3576, 3577, 3578, 3579, 3580, 3581, 3582, 3583, 3584, 3585, 3586, 3587, 3588, 3589, 3590, 3591, 3592, 3593, 3594, 3595, 3596, 3597, 3598, 3599, 3601, 3602, 3603, 3604, 3605, 3606, 3607, 3610, 3611, 3612, 3613, 3614, 3615, 3616, 3617, 3618, 3619, 3620, 3621, 3622, 3623, 3624, 3625, 3626, 3627, 3628, 3629, 3630, 3631, 3632, 3633, 3634, 3635, 3636, 3637, 3638, 3639, 3640, 3641, 3642, 3643, 3644, 3645, 3646, 3647, 3648, 3649, 3650, 3651, 3652, 3653, 3654, 3655, 3656, 3657, 3658, 3659, 3660, 3661, 3662, 3663, 3664, 3665, 3666, 3667, 3668, 3669, 3670, 3671, 3672, 3673, 3674, 3675, 3676, 3677, 3678, 3679, 3681, 3682, 3683, 3684, 3685, 3686, 3687, 3688, 3692, 3693, 3694, 3695, 3696, 3697, 3698, 3699, 3700, 3701, 3702, 3703, 3704, 3705, 3706, 3707, 3708, 3709, 3710, 3711, 3712, 3713, 3714, 3715, 3716, 3717, 3718, 3719, 3720, 3721, 3722, 3723, 3724, 3725, 3726, 3727, 3728, 3729, 3730, 3731, 3732, 3733, 3734, 3735, 3736, 3737, 3738, 3739, 3740, 3741, 3742, 3743, 3744, 3745, 3746, 3747, 3748, 3749, 3750, 3751, 3752, 3753, 3754, 3755, 3756, 3757, 3758, 3759, 3761, 3762, 3763, 3764, 3765, 3766, 3767, 3768, 3769, 3770, 3775, 3776, 3777, 3778, 3779, 3780, 3781, 3782, 3783, 3784, 3785, 3786, 3787, 3788, 3789, 3790, 3791, 3792, 3793, 3794, 3795, 3796, 3797, 3798, 3799, 3800, 3801, 3802, 3803, 3804, 3805, 3806, 3807, 3808, 3809, 3810, 3811, 3812, 3813, 3814, 3815, 3816, 3817, 3818, 3819, 3820, 3821, 3822, 3823, 3824, 3825, 3826, 3827, 3828, 3829, 3830, 3831, 3832, 3833, 3834, 3835, 3836, 3837, 3838, 3839, 3841, 3842, 3843, 3844, 3845, 3846, 3847, 3848, 3849, 3850, 3851, 3852, 3857, 3858, 3859, 3860, 3861, 3862, 3863, 3864, 3865, 3866, 3867, 3868, 3869, 3870, 3871, 3872, 3873, 3874, 3875, 3876, 3877, 3878, 3879, 3880, 3881, 3882, 3883, 3884, 3885, 3886, 3887, 3888, 3889, 3890, 3891, 3892, 3893, 3894, 3895, 3896, 3897, 3898, 3899, 3900, 3901, 3902, 3903, 3904, 3905, 3906, 3907, 3908, 3909, 3910, 3911, 3912, 3913, 3914, 3915, 3916, 3917, 3918, 3919, 3921, 3922, 3923, 3924, 3925, 3926, 3927, 3928, 3929, 3930, 3931, 3932, 3933, 3934, 3939, 3940, 3941, 3942, 3943, 3944, 3945, 3946, 3947, 3948, 3949, 3950, 3951, 3952, 3953, 3954, 3955, 3956, 3957, 3958, 3959, 3960, 3961, 3962, 3963, 3964, 3965, 3966, 3967, 3968, 3969, 3970, 3971, 3972, 3973, 3974, 3975, 3976, 3977, 3978, 3979, 3980, 3981, 3982, 3983, 3984, 3985, 3986, 3987, 3988, 3989, 3990, 3991, 3992, 3993, 3994, 3995, 3996, 3997, 3998, 3999, 4001, 4002, 4003, 4004, 4005, 4006, 4007, 4008, 4009, 4010, 4011, 4012, 4013, 4014, 4015, 4016, 4022, 4023, 4024, 4025, 4026, 4027, 4028, 4029, 4030, 4031, 4032, 4033, 4034, 4035, 4036, 4037, 4038, 4039, 4040, 4041, 4042, 4043, 4044, 4045, 4046, 4047, 4048, 4049, 4050, 4051, 4052, 4053, 4054, 4055, 4056, 4057, 4058, 4059, 4060, 4061, 4062, 4063, 4064, 4065, 4066, 4067, 4068, 4069, 4070, 4071, 4072, 4073, 4074, 4075, 4076, 4077, 4078, 4079, 4081, 4082, 4083, 4084, 4085, 4086, 4087, 4088, 4089, 4090, 4091, 4092, 4093, 4094, 4095, 4096, 4097, 4104, 4105, 4106, 4107, 4108, 4109, 4110, 4111, 4112, 4113, 4114, 4115, 4116, 4117, 4118, 4119, 4120, 4121, 4122, 4123, 4124, 4125, 4126, 4127, 4128, 4129, 4130, 4131, 4132, 4133, 4134, 4135, 4136, 4137, 4138, 4139, 4140, 4141, 4142, 4143, 4144, 4145, 4146, 4147, 4148, 4149, 4150, 4151, 4152, 4153, 4154, 4155, 4156, 4157, 4158, 4159, 4161, 4162, 4163, 4164, 4165, 4166, 4167, 4168, 4169, 4170, 4171, 4172, 4173, 4174, 4175, 4176, 4177, 4178, 4179, 4186, 4187, 4188, 4189, 4190, 4191, 4192, 4193, 4194, 4195, 4196, 4197, 4198, 4199, 4200, 4201, 4202, 4203, 4204, 4205, 4206, 4207, 4208, 4209, 4210, 4211, 4212, 4213, 4214, 4215, 4216, 4217, 4218, 4219, 4220, 4221, 4222, 4223, 4224, 4225, 4226, 4227, 4228, 4229, 4230, 4231, 4232, 4233, 4234, 4235, 4236, 4237, 4238, 4239, 4241, 4242, 4243, 4244, 4245, 4246, 4247, 4248, 4249, 4250, 4251, 4252, 4253, 4254, 4255, 4256, 4257, 4258, 4259, 4260, 4261, 4269, 4270, 4271, 4272, 4273, 4274, 4275, 4276, 4277, 4278, 4279, 4280, 4281, 4282, 4283, 4284, 4285, 4286, 4287, 4288, 4289, 4290, 4291, 4292, 4293, 4294, 4295, 4296, 4297, 4298, 4299, 4300, 4301, 4302, 4303, 4304, 4305, 4306, 4307, 4308, 4309, 4310, 4311, 4312, 4313, 4314, 4315, 4316, 4317, 4318, 4319, 4321, 4322, 4323, 4324, 4325, 4326, 4327, 4328, 4329, 4330, 4331, 4332, 4333, 4334, 4335, 4336, 4337, 4338, 4339, 4340, 4341, 4342, 4343, 4351, 4352, 4353, 4354, 4355, 4356, 4357, 4358, 4359, 4360, 4361, 4362, 4363, 4364, 4365, 4366, 4367, 4368, 4369, 4370, 4371, 4372, 4373, 4374, 4375, 4376, 4377, 4378, 4379, 4380, 4381, 4382, 4383, 4384, 4385, 4386, 4387, 4388, 4389, 4390, 4391, 4392, 4393, 4394, 4395, 4396, 4397, 4398, 4399, 4401, 4402, 4403, 4404, 4405, 4406, 4407, 4408, 4409, 4410, 4411, 4412, 4413, 4414, 4415, 4416, 4417, 4418, 4419, 4420, 4421, 4422, 4423, 4424, 4425, 4434, 4435, 4436, 4437, 4438, 4439, 4440, 4441, 4442, 4443, 4444, 4445, 4446, 4447, 4448, 4449, 4450, 4451, 4452, 4453, 4454, 4455, 4456, 4457, 4458, 4459, 4460, 4461, 4462, 4463, 4464, 4465, 4466, 4467, 4468, 4469, 4470, 4471, 4472, 4473, 4474, 4475, 4476, 4477, 4478, 4482, 4483, 4484, 4485, 4486, 4487, 4488, 4489, 4490, 4491, 4492, 4493, 4494, 4495, 4496, 4497, 4498, 4499, 4500, 4501, 4502, 4503, 4504, 4505, 4506, 4516, 4517, 4518, 4519, 4520, 4521, 4522, 4523, 4524, 4525, 4526, 4527, 4528, 4529, 4530, 4531, 4532, 4533, 4534, 4535, 4536, 4537, 4538, 4539, 4540, 4541, 4542, 4543, 4544, 4545, 4546, 4547, 4548, 4549, 4550, 4551, 4552, 4553, 4554, 4555, 4556, 4557, 4558, 4562, 4563, 4564, 4565, 4566, 4567, 4568, 4569, 4570, 4571, 4572, 4573, 4574, 4575, 4576, 4577, 4578, 4579, 4580, 4581, 4582, 4583, 4584, 4585, 4586, 4587, 4588, 4598, 4599, 4600, 4601, 4602, 4603, 4604, 4605, 4606, 4607, 4608, 4609, 4610, 4611, 4612, 4613, 4614, 4615, 4616, 4617, 4618, 4619, 4620, 4621, 4622, 4623, 4624, 4625, 4626, 4627, 4628, 4629, 4630, 4631, 4632, 4633, 4634, 4635, 4636, 4637, 4638, 4642, 4643, 4644, 4645, 4646, 4647, 4648, 4649, 4650, 4651, 4652, 4653, 4654, 4655, 4656, 4657, 4658, 4659, 4660, 4661, 4662, 4663, 4664, 4665, 4666, 4667, 4668, 4669, 4670, 4681, 4682, 4683, 4684, 4685, 4686, 4687, 4688, 4689, 4690, 4691, 4692, 4693, 4694, 4695, 4696, 4697, 4698, 4699, 4700, 4701, 4702, 4703, 4704, 4705, 4706, 4707, 4708, 4709, 4710, 4711, 4712, 4713, 4714, 4715, 4716, 4717, 4718, 4722, 4723, 4724, 4725, 4726, 4727, 4728, 4729, 4730, 4731, 4732, 4733, 4734, 4735, 4736, 4737, 4738, 4739, 4740, 4741, 4742, 4743, 4744, 4745, 4746, 4747, 4748, 4749, 4750, 4751, 4752, 4763, 4764, 4765, 4766, 4767, 4768, 4769, 4770, 4771, 4772, 4773, 4774, 4775, 4776, 4777, 4778, 4779, 4780, 4781, 4782, 4783, 4784, 4785, 4786, 4787, 4788, 4789, 4790, 4791, 4792, 4793, 4794, 4795, 4796, 4797, 4798, 4802, 4803, 4804, 4805, 4806, 4807, 4808, 4809, 4810, 4811, 4812, 4813, 4814, 4815, 4816, 4817, 4818, 4819, 4820, 4821, 4822, 4823, 4824, 4825, 4826, 4827, 4828, 4829, 4830, 4831, 4832, 4833, 4834, 4845, 4846, 4847, 4848, 4849, 4850, 4851, 4852, 4853, 4854, 4855, 4856, 4857, 4858, 4859, 4860, 4861, 4862, 4863, 4864, 4865, 4866, 4867, 4868, 4869, 4870, 4871, 4872, 4873, 4874, 4875, 4876, 4877, 4878, 4882, 4883, 4884, 4885, 4886, 4887, 4888, 4889, 4890, 4891, 4892, 4893, 4894, 4895, 4896, 4897, 4898, 4899, 4900, 4901, 4902, 4903, 4904, 4905, 4906, 4907, 4908, 4909, 4910, 4911, 4912, 4913, 4914, 4915, 4928, 4929, 4930, 4931, 4932, 4933, 4934, 4935, 4936, 4937, 4938, 4939, 4940, 4941, 4942, 4943, 4944, 4945, 4946, 4947, 4948, 4949, 4950, 4951, 4952, 4953, 4954, 4955, 4956, 4957, 4958, 4962, 4963, 4964, 4965, 4966, 4967, 4968, 4969, 4970, 4971, 4972, 4973, 4974, 4975, 4976, 4977, 4978, 4979, 4980, 4981, 4982, 4983, 4984, 4985, 4986, 4987, 4988, 4989, 4990, 4991, 4992, 4993, 4994, 4995, 4996, 4997, 5010, 5011, 5012, 5013, 5014, 5015, 5016, 5017, 5018, 5019, 5020, 5021, 5022, 5023, 5024, 5025, 5026, 5027, 5028, 5029, 5030, 5031, 5032, 5033, 5034, 5035, 5036, 5037, 5038, 5042, 5043, 5044, 5045, 5046, 5047, 5048, 5049, 5050, 5051, 5052, 5053, 5054, 5055, 5056, 5057, 5058, 5059, 5060, 5061, 5062, 5063, 5064, 5065, 5066, 5067, 5068, 5069, 5070, 5071, 5072, 5073, 5074, 5075, 5076, 5077, 5078, 5079, 5092, 5093, 5094, 5095, 5096, 5097, 5098, 5099, 5100, 5101, 5102, 5103, 5104, 5105, 5106, 5107, 5108, 5109, 5110, 5111, 5112, 5113, 5114, 5115, 5116, 5117, 5118, 5122, 5123, 5124, 5125, 5126, 5127, 5128, 5129, 5130, 5131, 5132, 5133, 5134, 5135, 5136, 5137, 5138, 5139, 5140, 5141, 5142, 5143, 5144, 5145, 5146, 5147, 5148, 5149, 5150, 5151, 5152, 5153, 5154, 5155, 5156, 5157, 5158, 5159, 5160, 5161, 5175, 5176, 5177, 5178, 5179, 5180, 5181, 5182, 5183, 5184, 5185, 5186, 5187, 5188, 5189, 5190, 5191, 5192, 5193, 5194, 5195, 5196, 5197, 5198, 5202, 5203, 5204, 5205, 5206, 5207, 5208, 5209, 5210, 5211, 5212, 5213, 5214, 5215, 5216, 5217, 5218, 5219, 5220, 5221, 5222, 5223, 5224, 5225, 5226, 5227, 5228, 5229, 5230, 5231, 5232, 5233, 5234, 5235, 5236, 5237, 5238, 5239, 5240, 5241, 5242, 5243, 5257, 5258, 5259, 5260, 5261, 5262, 5263, 5264, 5265, 5266, 5267, 5268, 5269, 5270, 5271, 5272, 5273, 5274, 5275, 5276, 5277, 5278, 5282, 5283, 5284, 5285, 5286, 5287, 5288, 5289, 5290, 5291, 5292, 5293, 5294, 5295, 5296, 5297, 5298, 5299, 5300, 5301, 5302, 5303, 5304, 5305, 5306, 5307, 5308, 5309, 5310, 5311, 5312, 5313, 5314, 5315, 5316, 5317, 5318, 5319, 5320, 5321, 5322, 5323, 5324, 5340, 5341, 5342, 5343, 5344, 5345, 5346, 5347, 5348, 5349, 5350, 5351, 5352, 5353, 5354, 5355, 5356, 5357, 5358, 5362, 5363, 5364, 5365, 5366, 5367, 5368, 5369, 5370, 5371, 5372, 5373, 5374, 5375, 5376, 5377, 5378, 5379, 5380, 5381, 5382, 5383, 5384, 5385, 5386, 5387, 5388, 5389, 5390, 5391, 5392, 5393, 5394, 5395, 5396, 5397, 5398, 5399, 5400, 5401, 5402, 5403, 5404, 5405, 5406, 5422, 5423, 5424, 5425, 5426, 5427, 5428, 5429, 5430, 5431, 5432, 5433, 5434, 5435, 5436, 5437, 5438, 5442, 5443, 5444, 5445, 5446, 5447, 5448, 5449, 5450, 5451, 5452, 5453, 5454, 5455, 5456, 5457, 5458, 5459, 5460, 5461, 5462, 5463, 5464, 5465, 5466, 5467, 5468, 5469, 5470, 5471, 5472, 5473, 5474, 5475, 5476, 5477, 5478, 5479, 5480, 5481, 5482, 5483, 5484, 5485, 5486, 5487, 5488, 5504, 5505, 5506, 5507, 5508, 5509, 5510, 5511, 5512, 5513, 5514, 5515, 5516, 5517, 5518, 5522, 5523, 5524, 5525, 5526, 5527, 5528, 5529, 5530, 5531, 5532, 5533, 5534, 5535, 5536, 5537, 5538, 5539, 5540, 5541, 5542, 5543, 5544, 5545, 5546, 5547, 5548, 5549, 5550, 5551, 5552, 5553, 5554, 5555, 5556, 5557, 5558, 5559, 5560, 5561, 5562, 5563, 5564, 5565, 5566, 5567, 5568, 5569, 5570, 5587, 5588, 5589, 5590, 5591, 5592, 5593, 5594, 5595, 5596, 5597, 5603, 5604, 5605, 5606, 5607, 5608, 5609, 5610, 5611, 5612, 5613, 5614, 5615, 5616, 5617, 5618, 5619, 5620, 5621, 5622, 5623, 5624, 5625, 5626, 5627, 5628, 5629, 5630, 5631, 5632, 5633, 5634, 5635, 5636, 5637, 5638, 5639, 5640, 5641, 5642, 5643, 5644, 5645, 5646, 5647, 5648, 5649, 5650, 5651, 5669, 5670, 5671, 5672, 5673, 5674, 5675, 5676, 5677, 5683, 5684, 5685, 5686, 5687, 5688, 5689, 5690, 5691, 5692, 5693, 5694, 5695, 5696, 5697, 5698, 5699, 5700, 5701, 5702, 5703, 5704, 5705, 5706, 5707, 5708, 5709, 5710, 5711, 5712, 5713, 5714, 5715, 5716, 5717, 5718, 5719, 5720, 5721, 5722, 5723, 5724, 5725, 5726, 5727, 5728, 5729, 5730, 5731, 5732, 5733, 5751, 5752, 5753, 5754, 5755, 5756, 5757, 5763, 5764, 5765, 5766, 5767, 5768, 5769, 5770, 5771, 5772, 5773, 5774, 5775, 5776, 5777, 5778, 5779, 5780, 5781, 5782, 5783, 5784, 5785, 5786, 5787, 5788, 5789, 5790, 5791, 5792, 5793, 5794, 5795, 5796, 5797, 5798, 5799, 5800, 5801, 5802, 5803, 5804, 5805, 5806, 5807, 5808, 5809, 5810, 5811, 5812, 5813, 5814, 5815, 5832, 5833, 5834, 5835, 5836, 5837, 5843, 5844, 5845, 5846, 5847, 5848, 5849, 5850, 5851, 5852, 5853, 5854, 5855, 5856, 5857, 5858, 5859, 5860, 5861, 5862, 5863, 5864, 5865, 5866, 5867, 5868, 5869, 5870, 5871, 5872, 5873, 5874, 5875, 5876, 5877, 5878, 5879, 5880, 5881, 5882, 5883, 5884, 5885, 5886, 5887, 5888, 5889, 5890, 5891, 5892, 5893, 5894, 5895, 5896, 5897, 5913, 5914, 5915, 5916, 5917, 5923, 5924, 5925, 5926, 5927, 5928, 5929, 5930, 5931, 5932, 5933, 5934, 5935, 5936, 5937, 5938, 5939, 5940, 5941, 5942, 5943, 5944, 5945, 5946, 5947, 5948, 5949, 5950, 5951, 5952, 5953, 5954, 5955, 5956, 5957, 5958, 5959, 5960, 5961, 5962, 5963, 5964, 5965, 5966, 5967, 5968, 5969, 5970, 5971, 5972, 5973, 5974, 5975, 5976, 5977, 5978, 5979, 5994, 5995, 5996, 5997, 6003, 6004, 6005, 6006, 6007, 6008, 6009, 6010, 6011, 6012, 6013, 6014, 6015, 6016, 6017, 6018, 6019, 6020, 6021, 6022, 6023, 6024, 6025, 6026, 6027, 6028, 6029, 6030, 6031, 6032, 6033, 6034, 6035, 6036, 6037, 6038, 6039, 6040, 6041, 6042, 6043, 6044, 6045, 6046, 6047, 6048, 6049, 6050, 6051, 6052, 6053, 6054, 6055, 6056, 6057, 6058, 6059, 6060, 6075, 6076, 6077, 6083, 6084, 6085, 6086, 6087, 6088, 6089, 6090, 6091, 6092, 6093, 6094, 6095, 6096, 6097, 6098, 6099, 6100, 6101, 6102, 6103, 6104, 6105, 6106, 6107, 6108, 6109, 6110, 6111, 6112, 6113, 6114, 6115, 6116, 6117, 6118, 6119, 6120, 6121, 6122, 6123, 6124, 6125, 6126, 6127, 6128, 6129, 6130, 6131, 6132, 6133, 6134, 6135, 6136, 6137, 6138, 6139, 6140, 6141, 6142, 6156, 6157, 6163, 6164, 6165, 6166, 6167, 6168, 6169, 6170, 6171, 6172, 6173, 6174, 6175, 6176, 6177, 6178, 6179, 6180, 6181, 6182, 6183, 6184, 6185, 6186, 6187, 6188, 6189, 6190, 6191, 6192, 6193, 6194, 6195, 6196, 6197, 6198, 6199, 6200, 6201, 6202, 6203, 6204, 6205, 6206, 6207, 6208, 6209, 6210, 6211, 6212, 6213, 6214, 6215, 6216, 6217, 6218, 6219, 6220, 6221, 6222, 6223, 6224, 6237, 6243, 6244, 6245, 6246, 6247, 6248, 6249, 6250, 6251, 6252, 6253, 6254, 6255, 6256, 6257, 6258, 6259, 6260, 6261, 6262, 6263, 6264, 6265, 6266, 6267, 6268, 6269, 6270, 6271, 6272, 6273, 6274, 6275, 6276, 6277, 6278, 6279, 6280, 6281, 6282, 6283, 6284, 6285, 6286, 6287, 6288, 6289, 6290, 6291, 6292, 6293, 6294, 6295, 6296, 6297, 6298, 6299, 6300, 6301, 6302, 6303, 6304, 6305, 6306, 6323, 6324, 6325, 6326, 6327, 6328, 6329, 6330, 6331, 6332, 6333, 6334, 6335, 6336, 6337, 6338, 6339, 6340, 6341, 6342, 6343, 6344, 6345, 6346, 6347, 6348, 6349, 6350, 6351, 6352, 6353, 6354, 6355, 6356, 6357, 6358, 6359, 6360, 6361, 6362, 6363, 6364, 6365, 6366, 6367, 6368, 6369, 6370, 6371, 6372, 6373, 6374, 6375, 6376, 6377, 6378, 6379, 6380, 6381, 6382, 6383, 6384, 6385, 6386, 6387, 6388, 6403, 6404, 6405, 6406, 6407, 6408, 6409, 6410, 6411, 6412, 6413, 6414, 6415, 6416, 6417, 6418, 6419, 6420, 6421, 6422, 6423, 6424, 6425, 6426, 6427, 6428, 6429, 6430, 6431, 6432, 6433, 6434, 6435, 6436, 6437, 6438, 6439, 6440, 6441, 6442, 6443, 6444, 6445, 6446, 6447, 6448, 6449, 6450, 6451, 6452, 6453, 6454, 6455, 6456, 6457, 6458, 6459, 6460, 6461, 6462, 6463, 6464, 6465, 6466, 6467, 6468, 6469, 6483, 6484, 6485, 6486, 6487, 6488, 6489, 6490, 6491, 6492, 6493, 6494, 6495, 6496, 6497, 6498, 6499, 6500, 6501, 6502, 6503, 6504, 6505, 6506, 6507, 6508, 6509, 6510, 6511, 6512, 6513, 6514, 6515, 6516, 6517, 6518, 6519, 6520, 6521, 6522, 6523, 6524, 6525, 6526, 6527, 6528, 6529, 6530, 6531, 6532, 6533, 6534, 6535, 6536, 6537, 6538, 6539, 6540, 6541, 6542, 6543, 6544, 6545, 6546, 6547, 6548, 6549, 6550, 6551]\n",
      "val ids:  []\n",
      "test ids:  [0, 1, 2, 3, 4, 5, 6, 7, 8, 78, 79, 80, 81, 82, 83, 84, 85, 86, 87, 88, 89, 90, 158, 159, 160, 161, 162, 163, 164, 165, 166, 167, 168, 169, 170, 171, 238, 239, 240, 241, 242, 243, 244, 245, 246, 247, 248, 249, 250, 251, 252, 253, 318, 319, 320, 321, 322, 324, 325, 326, 327, 328, 329, 330, 331, 332, 333, 334, 335, 398, 399, 400, 401, 402, 405, 406, 407, 408, 409, 410, 411, 412, 413, 414, 415, 416, 417, 478, 479, 480, 481, 482, 486, 487, 488, 489, 490, 491, 492, 493, 494, 495, 496, 497, 498, 499, 558, 559, 560, 561, 562, 567, 568, 569, 570, 571, 572, 573, 574, 575, 576, 577, 578, 579, 580, 638, 639, 640, 641, 642, 648, 649, 650, 651, 652, 653, 654, 655, 656, 657, 658, 659, 660, 661, 662, 718, 719, 720, 721, 722, 729, 730, 731, 732, 733, 734, 735, 736, 737, 738, 739, 740, 741, 742, 743, 744, 798, 799, 800, 801, 802, 810, 811, 812, 813, 814, 815, 816, 817, 818, 819, 820, 821, 822, 823, 824, 825, 826, 878, 879, 880, 881, 882, 892, 893, 894, 895, 896, 897, 898, 899, 900, 901, 902, 903, 904, 905, 906, 907, 908, 958, 959, 960, 961, 962, 974, 975, 976, 977, 978, 979, 980, 981, 982, 983, 984, 985, 986, 987, 988, 989, 1039, 1040, 1041, 1057, 1058, 1059, 1060, 1061, 1062, 1063, 1064, 1065, 1066, 1067, 1068, 1069, 1070, 1071, 1119, 1120, 1121, 1139, 1140, 1141, 1142, 1143, 1144, 1145, 1146, 1147, 1148, 1149, 1150, 1151, 1152, 1153, 1199, 1200, 1201, 1221, 1222, 1223, 1224, 1225, 1226, 1227, 1228, 1229, 1230, 1231, 1232, 1233, 1234, 1235, 1279, 1280, 1281, 1304, 1305, 1306, 1307, 1308, 1309, 1310, 1311, 1312, 1313, 1314, 1315, 1316, 1359, 1360, 1361, 1386, 1387, 1388, 1389, 1390, 1391, 1392, 1393, 1394, 1395, 1396, 1397, 1398, 1439, 1440, 1441, 1469, 1470, 1471, 1472, 1473, 1474, 1475, 1476, 1477, 1478, 1479, 1480, 1519, 1520, 1521, 1551, 1552, 1553, 1554, 1555, 1556, 1557, 1558, 1559, 1560, 1561, 1562, 1599, 1600, 1601, 1633, 1634, 1635, 1636, 1637, 1638, 1639, 1640, 1641, 1642, 1643, 1644, 1679, 1680, 1681, 1716, 1717, 1718, 1719, 1720, 1721, 1722, 1723, 1724, 1725, 1759, 1760, 1761, 1798, 1799, 1800, 1801, 1802, 1803, 1804, 1805, 1806, 1807, 1839, 1840, 1841, 1880, 1881, 1882, 1883, 1884, 1885, 1886, 1887, 1888, 1889, 1919, 1920, 1921, 1963, 1964, 1965, 1966, 1967, 1968, 1969, 1970, 1971, 1999, 2000, 2001, 2045, 2046, 2047, 2048, 2049, 2050, 2051, 2052, 2053, 2079, 2080, 2081, 2127, 2128, 2129, 2130, 2131, 2132, 2133, 2134, 2160, 2210, 2211, 2212, 2213, 2214, 2215, 2216, 2240, 2292, 2293, 2294, 2295, 2296, 2297, 2298, 2320, 2375, 2376, 2377, 2378, 2379, 2380, 2400, 2457, 2458, 2459, 2460, 2461, 2462, 2480, 2539, 2540, 2541, 2542, 2543, 2560, 2622, 2623, 2624, 2625, 2640, 2704, 2705, 2706, 2707, 2720, 2786, 2787, 2788, 2789, 2800, 2869, 2870, 2871, 2880, 2951, 2952, 2960, 3033, 3034, 3040, 3116, 3120, 3198, 3200, 3280, 3360, 3362, 3440, 3444, 3520, 3526, 3527, 3600, 3608, 3609, 3680, 3689, 3690, 3691, 3760, 3771, 3772, 3773, 3774, 3840, 3853, 3854, 3855, 3856, 3920, 3935, 3936, 3937, 3938, 4000, 4017, 4018, 4019, 4020, 4021, 4080, 4098, 4099, 4100, 4101, 4102, 4103, 4160, 4180, 4181, 4182, 4183, 4184, 4185, 4240, 4262, 4263, 4264, 4265, 4266, 4267, 4268, 4320, 4344, 4345, 4346, 4347, 4348, 4349, 4350, 4400, 4426, 4427, 4428, 4429, 4430, 4431, 4432, 4433, 4479, 4480, 4481, 4507, 4508, 4509, 4510, 4511, 4512, 4513, 4514, 4515, 4559, 4560, 4561, 4589, 4590, 4591, 4592, 4593, 4594, 4595, 4596, 4597, 4639, 4640, 4641, 4671, 4672, 4673, 4674, 4675, 4676, 4677, 4678, 4679, 4680, 4719, 4720, 4721, 4753, 4754, 4755, 4756, 4757, 4758, 4759, 4760, 4761, 4762, 4799, 4800, 4801, 4835, 4836, 4837, 4838, 4839, 4840, 4841, 4842, 4843, 4844, 4879, 4880, 4881, 4916, 4917, 4918, 4919, 4920, 4921, 4922, 4923, 4924, 4925, 4926, 4927, 4959, 4960, 4961, 4998, 4999, 5000, 5001, 5002, 5003, 5004, 5005, 5006, 5007, 5008, 5009, 5039, 5040, 5041, 5080, 5081, 5082, 5083, 5084, 5085, 5086, 5087, 5088, 5089, 5090, 5091, 5119, 5120, 5121, 5162, 5163, 5164, 5165, 5166, 5167, 5168, 5169, 5170, 5171, 5172, 5173, 5174, 5199, 5200, 5201, 5244, 5245, 5246, 5247, 5248, 5249, 5250, 5251, 5252, 5253, 5254, 5255, 5256, 5279, 5280, 5281, 5325, 5326, 5327, 5328, 5329, 5330, 5331, 5332, 5333, 5334, 5335, 5336, 5337, 5338, 5339, 5359, 5360, 5361, 5407, 5408, 5409, 5410, 5411, 5412, 5413, 5414, 5415, 5416, 5417, 5418, 5419, 5420, 5421, 5439, 5440, 5441, 5489, 5490, 5491, 5492, 5493, 5494, 5495, 5496, 5497, 5498, 5499, 5500, 5501, 5502, 5503, 5519, 5520, 5521, 5571, 5572, 5573, 5574, 5575, 5576, 5577, 5578, 5579, 5580, 5581, 5582, 5583, 5584, 5585, 5586, 5598, 5599, 5600, 5601, 5602, 5652, 5653, 5654, 5655, 5656, 5657, 5658, 5659, 5660, 5661, 5662, 5663, 5664, 5665, 5666, 5667, 5668, 5678, 5679, 5680, 5681, 5682, 5734, 5735, 5736, 5737, 5738, 5739, 5740, 5741, 5742, 5743, 5744, 5745, 5746, 5747, 5748, 5749, 5750, 5758, 5759, 5760, 5761, 5762, 5816, 5817, 5818, 5819, 5820, 5821, 5822, 5823, 5824, 5825, 5826, 5827, 5828, 5829, 5830, 5831, 5838, 5839, 5840, 5841, 5842, 5898, 5899, 5900, 5901, 5902, 5903, 5904, 5905, 5906, 5907, 5908, 5909, 5910, 5911, 5912, 5918, 5919, 5920, 5921, 5922, 5980, 5981, 5982, 5983, 5984, 5985, 5986, 5987, 5988, 5989, 5990, 5991, 5992, 5993, 5998, 5999, 6000, 6001, 6002, 6061, 6062, 6063, 6064, 6065, 6066, 6067, 6068, 6069, 6070, 6071, 6072, 6073, 6074, 6078, 6079, 6080, 6081, 6082, 6143, 6144, 6145, 6146, 6147, 6148, 6149, 6150, 6151, 6152, 6153, 6154, 6155, 6158, 6159, 6160, 6161, 6162, 6225, 6226, 6227, 6228, 6229, 6230, 6231, 6232, 6233, 6234, 6235, 6236, 6238, 6239, 6240, 6241, 6242, 6307, 6308, 6309, 6310, 6311, 6312, 6313, 6314, 6315, 6316, 6317, 6318, 6319, 6320, 6321, 6322, 6389, 6390, 6391, 6392, 6393, 6394, 6395, 6396, 6397, 6398, 6399, 6400, 6401, 6402, 6470, 6471, 6472, 6473, 6474, 6475, 6476, 6477, 6478, 6479, 6480, 6481, 6482, 6552, 6553, 6554, 6555, 6556, 6557, 6558, 6559, 6560]\n",
      "CPU times: user 200 ms, sys: 7.5 ms, total: 208 ms\n",
      "Wall time: 207 ms\n"
     ]
    }
   ],
   "source": [
    "%%time\n",
    "n_total = len(simulation.dataframe)\n",
    "n_train = len(simulation.dataframe[simulation.dataframe.type_of == \"train\"])\n",
    "n_val = len(simulation.dataframe[simulation.dataframe.type_of == \"val\"])\n",
    "n_test = len(simulation.dataframe[simulation.dataframe.type_of == \"test\"])\n",
    "n_train_hamiltonians = len(simulation.train_ids)\n",
    "n_val_hamiltonians = len(simulation.val_ids)\n",
    "n_test_hamiltonians = len(simulation.test_ids)\n",
    "n_total_hamiltonians = n_train_hamiltonians + n_val_hamiltonians + n_test_hamiltonians\n",
    "\n",
    "print(\"% train: \", n_train/n_total)\n",
    "print(\"% val: \",  n_val/n_total)\n",
    "print(\"% test: \", n_test/n_total)\n",
    "print(\"% train + val + test: \", (n_train+n_val+n_test)/n_total)\n",
    "print(\"\\n\")\n",
    "print(\"number of train hamiltonians: \", n_train_hamiltonians)\n",
    "print(\"number of val hamiltonians: \", n_val_hamiltonians)\n",
    "print(\"number of test hamiltonians: \", n_test_hamiltonians)\n",
    "print(\"total number of hamiltonians: \", n_total_hamiltonians)\n",
    "print(\"\\n\")\n",
    "print(\"train ids: \", simulation.train_ids)\n",
    "print(\"val ids: \", simulation.val_ids)\n",
    "print(\"test ids: \", simulation.test_ids)"
   ]
  },
  {
   "cell_type": "markdown",
   "metadata": {
    "papermill": {
     "duration": 0.017734,
     "end_time": "2020-07-08T05:51:22.477547",
     "exception": false,
     "start_time": "2020-07-08T05:51:22.459813",
     "status": "completed"
    },
    "tags": []
   },
   "source": [
    "## Running a simulation"
   ]
  },
  {
   "cell_type": "code",
   "execution_count": 23,
   "metadata": {
    "execution": {
     "iopub.execute_input": "2020-07-08T05:51:22.514517Z",
     "iopub.status.busy": "2020-07-08T05:51:22.514212Z",
     "iopub.status.idle": "2020-07-08T06:02:54.749766Z",
     "shell.execute_reply": "2020-07-08T06:02:54.750070Z"
    },
    "papermill": {
     "duration": 692.255289,
     "end_time": "2020-07-08T06:02:54.750134",
     "exception": false,
     "start_time": "2020-07-08T05:51:22.494845",
     "status": "completed"
    },
    "tags": []
   },
   "outputs": [
    {
     "name": "stderr",
     "output_type": "stream",
     "text": [
      "\r",
      "running experiments:   0%|          | 0/100 [00:00<?, ?it/s]"
     ]
    },
    {
     "name": "stderr",
     "output_type": "stream",
     "text": [
      "\r",
      "running experiments:   1%|          | 1/100 [00:07<11:36,  7.03s/it]"
     ]
    },
    {
     "name": "stderr",
     "output_type": "stream",
     "text": [
      "\r",
      "running experiments:   2%|▏         | 2/100 [00:13<11:19,  6.93s/it]"
     ]
    },
    {
     "name": "stderr",
     "output_type": "stream",
     "text": [
      "\r",
      "running experiments:   3%|▎         | 3/100 [00:21<11:34,  7.16s/it]"
     ]
    },
    {
     "name": "stderr",
     "output_type": "stream",
     "text": [
      "\r",
      "running experiments:   4%|▍         | 4/100 [00:27<11:08,  6.96s/it]"
     ]
    },
    {
     "name": "stderr",
     "output_type": "stream",
     "text": [
      "\r",
      "running experiments:   5%|▌         | 5/100 [00:34<10:57,  6.92s/it]"
     ]
    },
    {
     "name": "stderr",
     "output_type": "stream",
     "text": [
      "\r",
      "running experiments:   6%|▌         | 6/100 [00:41<10:44,  6.85s/it]"
     ]
    },
    {
     "name": "stderr",
     "output_type": "stream",
     "text": [
      "\r",
      "running experiments:   7%|▋         | 7/100 [00:48<10:55,  7.04s/it]"
     ]
    },
    {
     "name": "stderr",
     "output_type": "stream",
     "text": [
      "\r",
      "running experiments:   8%|▊         | 8/100 [00:55<10:27,  6.82s/it]"
     ]
    },
    {
     "name": "stderr",
     "output_type": "stream",
     "text": [
      "\r",
      "running experiments:   9%|▉         | 9/100 [01:01<10:16,  6.78s/it]"
     ]
    },
    {
     "name": "stderr",
     "output_type": "stream",
     "text": [
      "\r",
      "running experiments:  10%|█         | 10/100 [01:08<10:07,  6.75s/it]"
     ]
    },
    {
     "name": "stderr",
     "output_type": "stream",
     "text": [
      "\r",
      "running experiments:  11%|█         | 11/100 [01:15<10:03,  6.78s/it]"
     ]
    },
    {
     "name": "stderr",
     "output_type": "stream",
     "text": [
      "\r",
      "running experiments:  12%|█▏        | 12/100 [01:22<10:08,  6.91s/it]"
     ]
    },
    {
     "name": "stderr",
     "output_type": "stream",
     "text": [
      "\r",
      "running experiments:  13%|█▎        | 13/100 [01:29<10:10,  7.02s/it]"
     ]
    },
    {
     "name": "stderr",
     "output_type": "stream",
     "text": [
      "\r",
      "running experiments:  14%|█▍        | 14/100 [01:36<09:49,  6.86s/it]"
     ]
    },
    {
     "name": "stderr",
     "output_type": "stream",
     "text": [
      "\r",
      "running experiments:  15%|█▌        | 15/100 [01:43<09:46,  6.89s/it]"
     ]
    },
    {
     "name": "stderr",
     "output_type": "stream",
     "text": [
      "\r",
      "running experiments:  16%|█▌        | 16/100 [01:50<09:53,  7.07s/it]"
     ]
    },
    {
     "name": "stderr",
     "output_type": "stream",
     "text": [
      "\r",
      "running experiments:  17%|█▋        | 17/100 [01:56<09:18,  6.73s/it]"
     ]
    },
    {
     "name": "stderr",
     "output_type": "stream",
     "text": [
      "\r",
      "running experiments:  18%|█▊        | 18/100 [02:04<09:29,  6.95s/it]"
     ]
    },
    {
     "name": "stderr",
     "output_type": "stream",
     "text": [
      "\r",
      "running experiments:  19%|█▉        | 19/100 [02:10<09:12,  6.82s/it]"
     ]
    },
    {
     "name": "stderr",
     "output_type": "stream",
     "text": [
      "\r",
      "running experiments:  20%|██        | 20/100 [02:17<09:00,  6.75s/it]"
     ]
    },
    {
     "name": "stderr",
     "output_type": "stream",
     "text": [
      "\r",
      "running experiments:  21%|██        | 21/100 [02:24<08:51,  6.73s/it]"
     ]
    },
    {
     "name": "stderr",
     "output_type": "stream",
     "text": [
      "\r",
      "running experiments:  22%|██▏       | 22/100 [02:30<08:35,  6.60s/it]"
     ]
    },
    {
     "name": "stderr",
     "output_type": "stream",
     "text": [
      "\r",
      "running experiments:  23%|██▎       | 23/100 [02:36<08:27,  6.59s/it]"
     ]
    },
    {
     "name": "stderr",
     "output_type": "stream",
     "text": [
      "\r",
      "running experiments:  24%|██▍       | 24/100 [02:44<08:37,  6.80s/it]"
     ]
    },
    {
     "name": "stderr",
     "output_type": "stream",
     "text": [
      "\r",
      "running experiments:  25%|██▌       | 25/100 [02:51<08:43,  6.97s/it]"
     ]
    },
    {
     "name": "stderr",
     "output_type": "stream",
     "text": [
      "\r",
      "running experiments:  26%|██▌       | 26/100 [02:58<08:31,  6.91s/it]"
     ]
    },
    {
     "name": "stderr",
     "output_type": "stream",
     "text": [
      "\r",
      "running experiments:  27%|██▋       | 27/100 [03:05<08:39,  7.12s/it]"
     ]
    },
    {
     "name": "stderr",
     "output_type": "stream",
     "text": [
      "\r",
      "running experiments:  28%|██▊       | 28/100 [03:12<08:19,  6.94s/it]"
     ]
    },
    {
     "name": "stderr",
     "output_type": "stream",
     "text": [
      "\r",
      "running experiments:  29%|██▉       | 29/100 [03:19<08:07,  6.86s/it]"
     ]
    },
    {
     "name": "stderr",
     "output_type": "stream",
     "text": [
      "\r",
      "running experiments:  30%|███       | 30/100 [03:25<07:56,  6.80s/it]"
     ]
    },
    {
     "name": "stderr",
     "output_type": "stream",
     "text": [
      "\r",
      "running experiments:  31%|███       | 31/100 [03:33<07:59,  6.95s/it]"
     ]
    },
    {
     "name": "stderr",
     "output_type": "stream",
     "text": [
      "\r",
      "running experiments:  32%|███▏      | 32/100 [03:40<07:57,  7.03s/it]"
     ]
    },
    {
     "name": "stderr",
     "output_type": "stream",
     "text": [
      "\r",
      "running experiments:  33%|███▎      | 33/100 [03:46<07:39,  6.87s/it]"
     ]
    },
    {
     "name": "stderr",
     "output_type": "stream",
     "text": [
      "\r",
      "running experiments:  34%|███▍      | 34/100 [03:53<07:28,  6.79s/it]"
     ]
    },
    {
     "name": "stderr",
     "output_type": "stream",
     "text": [
      "\r",
      "running experiments:  35%|███▌      | 35/100 [04:00<07:18,  6.75s/it]"
     ]
    },
    {
     "name": "stderr",
     "output_type": "stream",
     "text": [
      "\r",
      "running experiments:  36%|███▌      | 36/100 [04:07<07:18,  6.84s/it]"
     ]
    },
    {
     "name": "stderr",
     "output_type": "stream",
     "text": [
      "\r",
      "running experiments:  37%|███▋      | 37/100 [04:13<07:09,  6.82s/it]"
     ]
    },
    {
     "name": "stderr",
     "output_type": "stream",
     "text": [
      "\r",
      "running experiments:  38%|███▊      | 38/100 [04:21<07:16,  7.04s/it]"
     ]
    },
    {
     "name": "stderr",
     "output_type": "stream",
     "text": [
      "\r",
      "running experiments:  39%|███▉      | 39/100 [04:28<07:15,  7.14s/it]"
     ]
    },
    {
     "name": "stderr",
     "output_type": "stream",
     "text": [
      "\r",
      "running experiments:  40%|████      | 40/100 [04:36<07:12,  7.21s/it]"
     ]
    },
    {
     "name": "stderr",
     "output_type": "stream",
     "text": [
      "\r",
      "running experiments:  41%|████      | 41/100 [04:43<07:03,  7.18s/it]"
     ]
    },
    {
     "name": "stderr",
     "output_type": "stream",
     "text": [
      "\r",
      "running experiments:  42%|████▏     | 42/100 [04:50<06:57,  7.20s/it]"
     ]
    },
    {
     "name": "stderr",
     "output_type": "stream",
     "text": [
      "\r",
      "running experiments:  43%|████▎     | 43/100 [04:57<06:45,  7.12s/it]"
     ]
    },
    {
     "name": "stderr",
     "output_type": "stream",
     "text": [
      "\r",
      "running experiments:  44%|████▍     | 44/100 [05:05<06:58,  7.47s/it]"
     ]
    },
    {
     "name": "stderr",
     "output_type": "stream",
     "text": [
      "\r",
      "running experiments:  45%|████▌     | 45/100 [05:12<06:45,  7.38s/it]"
     ]
    },
    {
     "name": "stderr",
     "output_type": "stream",
     "text": [
      "\r",
      "running experiments:  46%|████▌     | 46/100 [05:19<06:28,  7.19s/it]"
     ]
    },
    {
     "name": "stderr",
     "output_type": "stream",
     "text": [
      "\r",
      "running experiments:  47%|████▋     | 47/100 [05:26<06:08,  6.95s/it]"
     ]
    },
    {
     "name": "stderr",
     "output_type": "stream",
     "text": [
      "\r",
      "running experiments:  48%|████▊     | 48/100 [05:33<06:01,  6.96s/it]"
     ]
    },
    {
     "name": "stderr",
     "output_type": "stream",
     "text": [
      "\r",
      "running experiments:  49%|████▉     | 49/100 [05:39<05:51,  6.89s/it]"
     ]
    },
    {
     "name": "stderr",
     "output_type": "stream",
     "text": [
      "\r",
      "running experiments:  50%|█████     | 50/100 [05:46<05:38,  6.76s/it]"
     ]
    },
    {
     "name": "stderr",
     "output_type": "stream",
     "text": [
      "\r",
      "running experiments:  51%|█████     | 51/100 [05:52<05:28,  6.70s/it]"
     ]
    },
    {
     "name": "stderr",
     "output_type": "stream",
     "text": [
      "\r",
      "running experiments:  52%|█████▏    | 52/100 [06:00<05:34,  6.97s/it]"
     ]
    },
    {
     "name": "stderr",
     "output_type": "stream",
     "text": [
      "\r",
      "running experiments:  53%|█████▎    | 53/100 [06:07<05:30,  7.02s/it]"
     ]
    },
    {
     "name": "stderr",
     "output_type": "stream",
     "text": [
      "\r",
      "running experiments:  54%|█████▍    | 54/100 [06:14<05:27,  7.12s/it]"
     ]
    },
    {
     "name": "stderr",
     "output_type": "stream",
     "text": [
      "\r",
      "running experiments:  55%|█████▌    | 55/100 [06:22<05:21,  7.14s/it]"
     ]
    },
    {
     "name": "stderr",
     "output_type": "stream",
     "text": [
      "\r",
      "running experiments:  56%|█████▌    | 56/100 [06:28<05:02,  6.87s/it]"
     ]
    },
    {
     "name": "stderr",
     "output_type": "stream",
     "text": [
      "\r",
      "running experiments:  57%|█████▋    | 57/100 [06:34<04:52,  6.79s/it]"
     ]
    },
    {
     "name": "stderr",
     "output_type": "stream",
     "text": [
      "\r",
      "running experiments:  58%|█████▊    | 58/100 [06:41<04:44,  6.78s/it]"
     ]
    },
    {
     "name": "stderr",
     "output_type": "stream",
     "text": [
      "\r",
      "running experiments:  59%|█████▉    | 59/100 [06:49<04:54,  7.17s/it]"
     ]
    },
    {
     "name": "stderr",
     "output_type": "stream",
     "text": [
      "\r",
      "running experiments:  60%|██████    | 60/100 [06:56<04:38,  6.97s/it]"
     ]
    },
    {
     "name": "stderr",
     "output_type": "stream",
     "text": [
      "\r",
      "running experiments:  61%|██████    | 61/100 [07:03<04:34,  7.05s/it]"
     ]
    },
    {
     "name": "stderr",
     "output_type": "stream",
     "text": [
      "\r",
      "running experiments:  62%|██████▏   | 62/100 [07:10<04:24,  6.96s/it]"
     ]
    },
    {
     "name": "stderr",
     "output_type": "stream",
     "text": [
      "\r",
      "running experiments:  63%|██████▎   | 63/100 [07:17<04:25,  7.19s/it]"
     ]
    },
    {
     "name": "stderr",
     "output_type": "stream",
     "text": [
      "\r",
      "running experiments:  64%|██████▍   | 64/100 [07:24<04:13,  7.04s/it]"
     ]
    },
    {
     "name": "stderr",
     "output_type": "stream",
     "text": [
      "\r",
      "running experiments:  65%|██████▌   | 65/100 [07:30<03:50,  6.57s/it]"
     ]
    },
    {
     "name": "stderr",
     "output_type": "stream",
     "text": [
      "\r",
      "running experiments:  66%|██████▌   | 66/100 [07:37<03:50,  6.77s/it]"
     ]
    },
    {
     "name": "stderr",
     "output_type": "stream",
     "text": [
      "\r",
      "running experiments:  67%|██████▋   | 67/100 [07:44<03:42,  6.73s/it]"
     ]
    },
    {
     "name": "stderr",
     "output_type": "stream",
     "text": [
      "\r",
      "running experiments:  68%|██████▊   | 68/100 [07:50<03:32,  6.65s/it]"
     ]
    },
    {
     "name": "stderr",
     "output_type": "stream",
     "text": [
      "\r",
      "running experiments:  69%|██████▉   | 69/100 [07:57<03:32,  6.85s/it]"
     ]
    },
    {
     "name": "stderr",
     "output_type": "stream",
     "text": [
      "\r",
      "running experiments:  70%|███████   | 70/100 [08:04<03:22,  6.76s/it]"
     ]
    },
    {
     "name": "stderr",
     "output_type": "stream",
     "text": [
      "\r",
      "running experiments:  71%|███████   | 71/100 [08:11<03:18,  6.83s/it]"
     ]
    },
    {
     "name": "stderr",
     "output_type": "stream",
     "text": [
      "\r",
      "running experiments:  72%|███████▏  | 72/100 [08:17<03:05,  6.64s/it]"
     ]
    },
    {
     "name": "stderr",
     "output_type": "stream",
     "text": [
      "\r",
      "running experiments:  73%|███████▎  | 73/100 [08:25<03:07,  6.93s/it]"
     ]
    },
    {
     "name": "stderr",
     "output_type": "stream",
     "text": [
      "\r",
      "running experiments:  74%|███████▍  | 74/100 [08:32<03:04,  7.09s/it]"
     ]
    },
    {
     "name": "stderr",
     "output_type": "stream",
     "text": [
      "\r",
      "running experiments:  75%|███████▌  | 75/100 [08:39<02:58,  7.16s/it]"
     ]
    },
    {
     "name": "stderr",
     "output_type": "stream",
     "text": [
      "\r",
      "running experiments:  76%|███████▌  | 76/100 [08:46<02:47,  6.98s/it]"
     ]
    },
    {
     "name": "stderr",
     "output_type": "stream",
     "text": [
      "\r",
      "running experiments:  77%|███████▋  | 77/100 [08:52<02:31,  6.58s/it]"
     ]
    },
    {
     "name": "stderr",
     "output_type": "stream",
     "text": [
      "\r",
      "running experiments:  78%|███████▊  | 78/100 [08:58<02:23,  6.54s/it]"
     ]
    },
    {
     "name": "stderr",
     "output_type": "stream",
     "text": [
      "\r",
      "running experiments:  79%|███████▉  | 79/100 [09:06<02:24,  6.88s/it]"
     ]
    },
    {
     "name": "stderr",
     "output_type": "stream",
     "text": [
      "\r",
      "running experiments:  80%|████████  | 80/100 [09:13<02:17,  6.86s/it]"
     ]
    },
    {
     "name": "stderr",
     "output_type": "stream",
     "text": [
      "\r",
      "running experiments:  81%|████████  | 81/100 [09:19<02:10,  6.85s/it]"
     ]
    },
    {
     "name": "stderr",
     "output_type": "stream",
     "text": [
      "\r",
      "running experiments:  82%|████████▏ | 82/100 [09:26<02:01,  6.74s/it]"
     ]
    },
    {
     "name": "stderr",
     "output_type": "stream",
     "text": [
      "\r",
      "running experiments:  83%|████████▎ | 83/100 [09:33<01:57,  6.93s/it]"
     ]
    },
    {
     "name": "stderr",
     "output_type": "stream",
     "text": [
      "\r",
      "running experiments:  84%|████████▍ | 84/100 [09:40<01:50,  6.93s/it]"
     ]
    },
    {
     "name": "stderr",
     "output_type": "stream",
     "text": [
      "\r",
      "running experiments:  85%|████████▌ | 85/100 [09:47<01:41,  6.80s/it]"
     ]
    },
    {
     "name": "stderr",
     "output_type": "stream",
     "text": [
      "\r",
      "running experiments:  86%|████████▌ | 86/100 [09:53<01:34,  6.76s/it]"
     ]
    },
    {
     "name": "stderr",
     "output_type": "stream",
     "text": [
      "\r",
      "running experiments:  87%|████████▋ | 87/100 [10:00<01:28,  6.83s/it]"
     ]
    },
    {
     "name": "stderr",
     "output_type": "stream",
     "text": [
      "\r",
      "running experiments:  88%|████████▊ | 88/100 [10:08<01:24,  7.04s/it]"
     ]
    },
    {
     "name": "stderr",
     "output_type": "stream",
     "text": [
      "\r",
      "running experiments:  89%|████████▉ | 89/100 [10:15<01:16,  6.97s/it]"
     ]
    },
    {
     "name": "stderr",
     "output_type": "stream",
     "text": [
      "\r",
      "running experiments:  90%|█████████ | 90/100 [10:23<01:12,  7.27s/it]"
     ]
    },
    {
     "name": "stderr",
     "output_type": "stream",
     "text": [
      "\r",
      "running experiments:  91%|█████████ | 91/100 [10:29<01:03,  7.07s/it]"
     ]
    },
    {
     "name": "stderr",
     "output_type": "stream",
     "text": [
      "\r",
      "running experiments:  92%|█████████▏| 92/100 [10:36<00:55,  7.00s/it]"
     ]
    },
    {
     "name": "stderr",
     "output_type": "stream",
     "text": [
      "\r",
      "running experiments:  93%|█████████▎| 93/100 [10:43<00:48,  7.00s/it]"
     ]
    },
    {
     "name": "stderr",
     "output_type": "stream",
     "text": [
      "\r",
      "running experiments:  94%|█████████▍| 94/100 [10:50<00:41,  6.94s/it]"
     ]
    },
    {
     "name": "stderr",
     "output_type": "stream",
     "text": [
      "\r",
      "running experiments:  95%|█████████▌| 95/100 [10:57<00:34,  6.87s/it]"
     ]
    },
    {
     "name": "stderr",
     "output_type": "stream",
     "text": [
      "\r",
      "running experiments:  96%|█████████▌| 96/100 [11:03<00:27,  6.86s/it]"
     ]
    },
    {
     "name": "stderr",
     "output_type": "stream",
     "text": [
      "\r",
      "running experiments:  97%|█████████▋| 97/100 [11:12<00:21,  7.23s/it]"
     ]
    },
    {
     "name": "stderr",
     "output_type": "stream",
     "text": [
      "\r",
      "running experiments:  98%|█████████▊| 98/100 [11:18<00:14,  7.06s/it]"
     ]
    },
    {
     "name": "stderr",
     "output_type": "stream",
     "text": [
      "\r",
      "running experiments:  99%|█████████▉| 99/100 [11:25<00:07,  7.08s/it]"
     ]
    },
    {
     "name": "stderr",
     "output_type": "stream",
     "text": [
      "\r",
      "running experiments: 100%|██████████| 100/100 [11:32<00:00,  6.86s/it]"
     ]
    },
    {
     "name": "stderr",
     "output_type": "stream",
     "text": [
      "\r",
      "running experiments: 100%|██████████| 100/100 [11:32<00:00,  6.92s/it]"
     ]
    },
    {
     "name": "stdout",
     "output_type": "stream",
     "text": [
      "CPU times: user 11min 31s, sys: 1.23 s, total: 11min 32s\n",
      "Wall time: 11min 32s\n"
     ]
    },
    {
     "name": "stderr",
     "output_type": "stream",
     "text": [
      "\n"
     ]
    },
    {
     "data": {
      "text/html": [
       "<div>\n",
       "<style scoped>\n",
       "    .dataframe tbody tr th:only-of-type {\n",
       "        vertical-align: middle;\n",
       "    }\n",
       "\n",
       "    .dataframe tbody tr th {\n",
       "        vertical-align: top;\n",
       "    }\n",
       "\n",
       "    .dataframe thead th {\n",
       "        text-align: right;\n",
       "    }\n",
       "</style>\n",
       "<table border=\"1\" class=\"dataframe\">\n",
       "  <thead>\n",
       "    <tr style=\"text-align: right;\">\n",
       "      <th></th>\n",
       "      <th>id</th>\n",
       "      <th>path</th>\n",
       "      <th>t1</th>\n",
       "      <th>t2</th>\n",
       "      <th>winding</th>\n",
       "      <th>phase</th>\n",
       "      <th>pred_phase</th>\n",
       "      <th>type_of</th>\n",
       "      <th>dct_feat0</th>\n",
       "      <th>dct_feat2</th>\n",
       "      <th>...</th>\n",
       "      <th>dct_feat32</th>\n",
       "      <th>dct_feat34</th>\n",
       "      <th>dct_feat36</th>\n",
       "      <th>dct_feat38</th>\n",
       "      <th>dct_feat40</th>\n",
       "      <th>dct_feat42</th>\n",
       "      <th>dct_feat44</th>\n",
       "      <th>dct_feat46</th>\n",
       "      <th>dct_feat48</th>\n",
       "      <th>dct_feat50</th>\n",
       "    </tr>\n",
       "  </thead>\n",
       "  <tbody>\n",
       "    <tr>\n",
       "      <th>0</th>\n",
       "      <td>0</td>\n",
       "      <td>H_-2_-2_0.509296.dat</td>\n",
       "      <td>-2.0</td>\n",
       "      <td>-2.0</td>\n",
       "      <td>0.509296</td>\n",
       "      <td>999</td>\n",
       "      <td>0</td>\n",
       "      <td>test</td>\n",
       "      <td>5.100000</td>\n",
       "      <td>0.200000</td>\n",
       "      <td>...</td>\n",
       "      <td>0.200000</td>\n",
       "      <td>0.200000</td>\n",
       "      <td>0.200000</td>\n",
       "      <td>0.200000</td>\n",
       "      <td>0.200000</td>\n",
       "      <td>0.200000</td>\n",
       "      <td>0.200000</td>\n",
       "      <td>0.200000</td>\n",
       "      <td>0.200000</td>\n",
       "      <td>0.100000</td>\n",
       "    </tr>\n",
       "    <tr>\n",
       "      <th>1</th>\n",
       "      <td>0</td>\n",
       "      <td>H_-2_-2_0.509296.dat</td>\n",
       "      <td>-2.0</td>\n",
       "      <td>-2.0</td>\n",
       "      <td>0.509296</td>\n",
       "      <td>999</td>\n",
       "      <td>0</td>\n",
       "      <td>test</td>\n",
       "      <td>0.282284</td>\n",
       "      <td>-0.187694</td>\n",
       "      <td>...</td>\n",
       "      <td>0.001166</td>\n",
       "      <td>0.001682</td>\n",
       "      <td>0.002401</td>\n",
       "      <td>0.003491</td>\n",
       "      <td>0.005273</td>\n",
       "      <td>0.008547</td>\n",
       "      <td>0.015731</td>\n",
       "      <td>0.037235</td>\n",
       "      <td>0.187694</td>\n",
       "      <td>-0.282284</td>\n",
       "    </tr>\n",
       "    <tr>\n",
       "      <th>2</th>\n",
       "      <td>0</td>\n",
       "      <td>H_-2_-2_0.509296.dat</td>\n",
       "      <td>-2.0</td>\n",
       "      <td>-2.0</td>\n",
       "      <td>0.509296</td>\n",
       "      <td>999</td>\n",
       "      <td>0</td>\n",
       "      <td>test</td>\n",
       "      <td>0.141421</td>\n",
       "      <td>7.242821</td>\n",
       "      <td>...</td>\n",
       "      <td>0.282850</td>\n",
       "      <td>0.282843</td>\n",
       "      <td>0.282839</td>\n",
       "      <td>0.282843</td>\n",
       "      <td>0.282843</td>\n",
       "      <td>0.282838</td>\n",
       "      <td>0.282842</td>\n",
       "      <td>0.282838</td>\n",
       "      <td>0.393917</td>\n",
       "      <td>0.141423</td>\n",
       "    </tr>\n",
       "    <tr>\n",
       "      <th>3</th>\n",
       "      <td>0</td>\n",
       "      <td>H_-2_-2_0.509296.dat</td>\n",
       "      <td>-2.0</td>\n",
       "      <td>-2.0</td>\n",
       "      <td>0.509296</td>\n",
       "      <td>999</td>\n",
       "      <td>0</td>\n",
       "      <td>test</td>\n",
       "      <td>-0.100000</td>\n",
       "      <td>-0.200000</td>\n",
       "      <td>...</td>\n",
       "      <td>-0.200000</td>\n",
       "      <td>-0.200000</td>\n",
       "      <td>-0.200000</td>\n",
       "      <td>-0.200000</td>\n",
       "      <td>-0.200000</td>\n",
       "      <td>-0.200000</td>\n",
       "      <td>-0.200000</td>\n",
       "      <td>-0.200000</td>\n",
       "      <td>-0.200000</td>\n",
       "      <td>-5.100000</td>\n",
       "    </tr>\n",
       "    <tr>\n",
       "      <th>4</th>\n",
       "      <td>0</td>\n",
       "      <td>H_-2_-2_0.509296.dat</td>\n",
       "      <td>-2.0</td>\n",
       "      <td>-2.0</td>\n",
       "      <td>0.509296</td>\n",
       "      <td>999</td>\n",
       "      <td>0</td>\n",
       "      <td>test</td>\n",
       "      <td>4.483330</td>\n",
       "      <td>-2.992863</td>\n",
       "      <td>...</td>\n",
       "      <td>-0.012547</td>\n",
       "      <td>-0.011678</td>\n",
       "      <td>-0.010999</td>\n",
       "      <td>-0.010492</td>\n",
       "      <td>-0.010142</td>\n",
       "      <td>-0.009983</td>\n",
       "      <td>-0.010147</td>\n",
       "      <td>-0.011239</td>\n",
       "      <td>-0.020052</td>\n",
       "      <td>0.012300</td>\n",
       "    </tr>\n",
       "    <tr>\n",
       "      <th>5</th>\n",
       "      <td>0</td>\n",
       "      <td>H_-2_-2_0.509296.dat</td>\n",
       "      <td>-2.0</td>\n",
       "      <td>-2.0</td>\n",
       "      <td>0.509296</td>\n",
       "      <td>999</td>\n",
       "      <td>0</td>\n",
       "      <td>test</td>\n",
       "      <td>0.001204</td>\n",
       "      <td>-0.817576</td>\n",
       "      <td>...</td>\n",
       "      <td>0.002406</td>\n",
       "      <td>0.002407</td>\n",
       "      <td>0.002407</td>\n",
       "      <td>0.002409</td>\n",
       "      <td>0.002409</td>\n",
       "      <td>0.002406</td>\n",
       "      <td>0.002409</td>\n",
       "      <td>0.002412</td>\n",
       "      <td>0.882575</td>\n",
       "      <td>0.001210</td>\n",
       "    </tr>\n",
       "    <tr>\n",
       "      <th>6</th>\n",
       "      <td>0</td>\n",
       "      <td>H_-2_-2_0.509296.dat</td>\n",
       "      <td>-2.0</td>\n",
       "      <td>-2.0</td>\n",
       "      <td>0.509296</td>\n",
       "      <td>999</td>\n",
       "      <td>0</td>\n",
       "      <td>test</td>\n",
       "      <td>-0.274334</td>\n",
       "      <td>-0.984977</td>\n",
       "      <td>...</td>\n",
       "      <td>-0.010695</td>\n",
       "      <td>-0.015518</td>\n",
       "      <td>-0.022355</td>\n",
       "      <td>-0.032894</td>\n",
       "      <td>-0.050946</td>\n",
       "      <td>-0.086910</td>\n",
       "      <td>-0.180827</td>\n",
       "      <td>-0.707234</td>\n",
       "      <td>0.997979</td>\n",
       "      <td>0.277928</td>\n",
       "    </tr>\n",
       "    <tr>\n",
       "      <th>7</th>\n",
       "      <td>0</td>\n",
       "      <td>H_-2_-2_0.509296.dat</td>\n",
       "      <td>-2.0</td>\n",
       "      <td>-2.0</td>\n",
       "      <td>0.509296</td>\n",
       "      <td>999</td>\n",
       "      <td>0</td>\n",
       "      <td>test</td>\n",
       "      <td>-1.444680</td>\n",
       "      <td>-5.208433</td>\n",
       "      <td>...</td>\n",
       "      <td>0.039605</td>\n",
       "      <td>0.037765</td>\n",
       "      <td>0.036839</td>\n",
       "      <td>0.037037</td>\n",
       "      <td>0.038990</td>\n",
       "      <td>0.044566</td>\n",
       "      <td>0.061130</td>\n",
       "      <td>0.157878</td>\n",
       "      <td>-0.157630</td>\n",
       "      <td>-0.038008</td>\n",
       "    </tr>\n",
       "    <tr>\n",
       "      <th>8</th>\n",
       "      <td>0</td>\n",
       "      <td>H_-2_-2_0.509296.dat</td>\n",
       "      <td>-2.0</td>\n",
       "      <td>-2.0</td>\n",
       "      <td>0.509296</td>\n",
       "      <td>999</td>\n",
       "      <td>0</td>\n",
       "      <td>test</td>\n",
       "      <td>0.141415</td>\n",
       "      <td>0.282834</td>\n",
       "      <td>...</td>\n",
       "      <td>0.282833</td>\n",
       "      <td>0.282834</td>\n",
       "      <td>0.282836</td>\n",
       "      <td>0.282833</td>\n",
       "      <td>0.282841</td>\n",
       "      <td>0.282835</td>\n",
       "      <td>0.282830</td>\n",
       "      <td>0.734170</td>\n",
       "      <td>0.282835</td>\n",
       "      <td>0.141417</td>\n",
       "    </tr>\n",
       "    <tr>\n",
       "      <th>9</th>\n",
       "      <td>0</td>\n",
       "      <td>H_-2_-2_0.509296.dat</td>\n",
       "      <td>-2.0</td>\n",
       "      <td>-2.0</td>\n",
       "      <td>0.509296</td>\n",
       "      <td>999</td>\n",
       "      <td>1</td>\n",
       "      <td>test</td>\n",
       "      <td>0.001304</td>\n",
       "      <td>0.002604</td>\n",
       "      <td>...</td>\n",
       "      <td>0.002604</td>\n",
       "      <td>0.002603</td>\n",
       "      <td>0.002601</td>\n",
       "      <td>0.002609</td>\n",
       "      <td>0.002597</td>\n",
       "      <td>0.002603</td>\n",
       "      <td>0.002606</td>\n",
       "      <td>-1.696553</td>\n",
       "      <td>0.002598</td>\n",
       "      <td>0.001302</td>\n",
       "    </tr>\n",
       "  </tbody>\n",
       "</table>\n",
       "<p>10 rows × 34 columns</p>\n",
       "</div>"
      ],
      "text/plain": [
       "   id                  path   t1   t2   winding  phase  pred_phase type_of  \\\n",
       "0   0  H_-2_-2_0.509296.dat -2.0 -2.0  0.509296    999           0    test   \n",
       "1   0  H_-2_-2_0.509296.dat -2.0 -2.0  0.509296    999           0    test   \n",
       "2   0  H_-2_-2_0.509296.dat -2.0 -2.0  0.509296    999           0    test   \n",
       "3   0  H_-2_-2_0.509296.dat -2.0 -2.0  0.509296    999           0    test   \n",
       "4   0  H_-2_-2_0.509296.dat -2.0 -2.0  0.509296    999           0    test   \n",
       "5   0  H_-2_-2_0.509296.dat -2.0 -2.0  0.509296    999           0    test   \n",
       "6   0  H_-2_-2_0.509296.dat -2.0 -2.0  0.509296    999           0    test   \n",
       "7   0  H_-2_-2_0.509296.dat -2.0 -2.0  0.509296    999           0    test   \n",
       "8   0  H_-2_-2_0.509296.dat -2.0 -2.0  0.509296    999           0    test   \n",
       "9   0  H_-2_-2_0.509296.dat -2.0 -2.0  0.509296    999           1    test   \n",
       "\n",
       "   dct_feat0  dct_feat2  ...  dct_feat32  dct_feat34  dct_feat36  dct_feat38  \\\n",
       "0   5.100000   0.200000  ...    0.200000    0.200000    0.200000    0.200000   \n",
       "1   0.282284  -0.187694  ...    0.001166    0.001682    0.002401    0.003491   \n",
       "2   0.141421   7.242821  ...    0.282850    0.282843    0.282839    0.282843   \n",
       "3  -0.100000  -0.200000  ...   -0.200000   -0.200000   -0.200000   -0.200000   \n",
       "4   4.483330  -2.992863  ...   -0.012547   -0.011678   -0.010999   -0.010492   \n",
       "5   0.001204  -0.817576  ...    0.002406    0.002407    0.002407    0.002409   \n",
       "6  -0.274334  -0.984977  ...   -0.010695   -0.015518   -0.022355   -0.032894   \n",
       "7  -1.444680  -5.208433  ...    0.039605    0.037765    0.036839    0.037037   \n",
       "8   0.141415   0.282834  ...    0.282833    0.282834    0.282836    0.282833   \n",
       "9   0.001304   0.002604  ...    0.002604    0.002603    0.002601    0.002609   \n",
       "\n",
       "   dct_feat40  dct_feat42  dct_feat44  dct_feat46  dct_feat48  dct_feat50  \n",
       "0    0.200000    0.200000    0.200000    0.200000    0.200000    0.100000  \n",
       "1    0.005273    0.008547    0.015731    0.037235    0.187694   -0.282284  \n",
       "2    0.282843    0.282838    0.282842    0.282838    0.393917    0.141423  \n",
       "3   -0.200000   -0.200000   -0.200000   -0.200000   -0.200000   -5.100000  \n",
       "4   -0.010142   -0.009983   -0.010147   -0.011239   -0.020052    0.012300  \n",
       "5    0.002409    0.002406    0.002409    0.002412    0.882575    0.001210  \n",
       "6   -0.050946   -0.086910   -0.180827   -0.707234    0.997979    0.277928  \n",
       "7    0.038990    0.044566    0.061130    0.157878   -0.157630   -0.038008  \n",
       "8    0.282841    0.282835    0.282830    0.734170    0.282835    0.141417  \n",
       "9    0.002597    0.002603    0.002606   -1.696553    0.002598    0.001302  \n",
       "\n",
       "[10 rows x 34 columns]"
      ]
     },
     "execution_count": 23,
     "metadata": {},
     "output_type": "execute_result"
    }
   ],
   "source": [
    "%%time\n",
    "simulation.run_simulation(n_experiments, start_n, fit_params,mode, shuffle_rows, pred_params, random_features, \\\n",
    "                          store_in_lists, save_eigenvector, save_hamiltonian, save_accuracy,\\\n",
    "                          save_models)\n",
    "\n",
    "simulation.fourier_engineered_dataframe.head(10)"
   ]
  },
  {
   "cell_type": "code",
   "execution_count": 24,
   "metadata": {
    "execution": {
     "iopub.execute_input": "2020-07-08T06:02:54.826014Z",
     "iopub.status.busy": "2020-07-08T06:02:54.825505Z",
     "iopub.status.idle": "2020-07-08T06:02:54.851132Z",
     "shell.execute_reply": "2020-07-08T06:02:54.851524Z"
    },
    "papermill": {
     "duration": 0.063206,
     "end_time": "2020-07-08T06:02:54.851602",
     "exception": false,
     "start_time": "2020-07-08T06:02:54.788396",
     "status": "completed"
    },
    "tags": []
   },
   "outputs": [
    {
     "data": {
      "text/html": [
       "<div>\n",
       "<style scoped>\n",
       "    .dataframe tbody tr th:only-of-type {\n",
       "        vertical-align: middle;\n",
       "    }\n",
       "\n",
       "    .dataframe tbody tr th {\n",
       "        vertical-align: top;\n",
       "    }\n",
       "\n",
       "    .dataframe thead th {\n",
       "        text-align: right;\n",
       "    }\n",
       "</style>\n",
       "<table border=\"1\" class=\"dataframe\">\n",
       "  <thead>\n",
       "    <tr style=\"text-align: right;\">\n",
       "      <th></th>\n",
       "      <th>id</th>\n",
       "      <th>path</th>\n",
       "      <th>t1</th>\n",
       "      <th>t2</th>\n",
       "      <th>winding</th>\n",
       "      <th>phase</th>\n",
       "      <th>pred_phase</th>\n",
       "      <th>type_of</th>\n",
       "      <th>feat0</th>\n",
       "      <th>feat1</th>\n",
       "      <th>...</th>\n",
       "      <th>feat90</th>\n",
       "      <th>feat91</th>\n",
       "      <th>feat92</th>\n",
       "      <th>feat93</th>\n",
       "      <th>feat94</th>\n",
       "      <th>feat95</th>\n",
       "      <th>feat96</th>\n",
       "      <th>feat97</th>\n",
       "      <th>feat98</th>\n",
       "      <th>feat99</th>\n",
       "    </tr>\n",
       "  </thead>\n",
       "  <tbody>\n",
       "    <tr>\n",
       "      <th>0</th>\n",
       "      <td>0</td>\n",
       "      <td>H_-2_-2_0.509296.dat</td>\n",
       "      <td>-2.0</td>\n",
       "      <td>-2.0</td>\n",
       "      <td>0.509296</td>\n",
       "      <td>999</td>\n",
       "      <td>666</td>\n",
       "      <td>test</td>\n",
       "      <td>0.100000</td>\n",
       "      <td>0.100000</td>\n",
       "      <td>...</td>\n",
       "      <td>0.100000</td>\n",
       "      <td>0.100000</td>\n",
       "      <td>0.100000</td>\n",
       "      <td>0.100000</td>\n",
       "      <td>0.100000</td>\n",
       "      <td>0.100000</td>\n",
       "      <td>0.100000</td>\n",
       "      <td>0.100000</td>\n",
       "      <td>0.100000</td>\n",
       "      <td>0.100000</td>\n",
       "    </tr>\n",
       "    <tr>\n",
       "      <th>1</th>\n",
       "      <td>0</td>\n",
       "      <td>H_-2_-2_0.509296.dat</td>\n",
       "      <td>-2.0</td>\n",
       "      <td>-2.0</td>\n",
       "      <td>0.509296</td>\n",
       "      <td>999</td>\n",
       "      <td>666</td>\n",
       "      <td>test</td>\n",
       "      <td>0.141421</td>\n",
       "      <td>0.141142</td>\n",
       "      <td>...</td>\n",
       "      <td>0.114412</td>\n",
       "      <td>0.108967</td>\n",
       "      <td>0.123928</td>\n",
       "      <td>0.119406</td>\n",
       "      <td>0.131490</td>\n",
       "      <td>0.127962</td>\n",
       "      <td>0.136978</td>\n",
       "      <td>0.134500</td>\n",
       "      <td>0.140306</td>\n",
       "      <td>0.138916</td>\n",
       "    </tr>\n",
       "    <tr>\n",
       "      <th>2</th>\n",
       "      <td>0</td>\n",
       "      <td>H_-2_-2_0.509296.dat</td>\n",
       "      <td>-2.0</td>\n",
       "      <td>-2.0</td>\n",
       "      <td>0.509296</td>\n",
       "      <td>999</td>\n",
       "      <td>666</td>\n",
       "      <td>test</td>\n",
       "      <td>0.141421</td>\n",
       "      <td>0.140306</td>\n",
       "      <td>...</td>\n",
       "      <td>0.043702</td>\n",
       "      <td>0.026500</td>\n",
       "      <td>0.075777</td>\n",
       "      <td>0.060214</td>\n",
       "      <td>0.103092</td>\n",
       "      <td>0.090145</td>\n",
       "      <td>0.123928</td>\n",
       "      <td>0.114412</td>\n",
       "      <td>0.136978</td>\n",
       "      <td>0.131490</td>\n",
       "    </tr>\n",
       "    <tr>\n",
       "      <th>3</th>\n",
       "      <td>0</td>\n",
       "      <td>H_-2_-2_0.509296.dat</td>\n",
       "      <td>-2.0</td>\n",
       "      <td>-2.0</td>\n",
       "      <td>0.509296</td>\n",
       "      <td>999</td>\n",
       "      <td>666</td>\n",
       "      <td>test</td>\n",
       "      <td>-0.100000</td>\n",
       "      <td>0.100000</td>\n",
       "      <td>...</td>\n",
       "      <td>-0.100000</td>\n",
       "      <td>0.100000</td>\n",
       "      <td>-0.100000</td>\n",
       "      <td>0.100000</td>\n",
       "      <td>-0.100000</td>\n",
       "      <td>0.100000</td>\n",
       "      <td>-0.100000</td>\n",
       "      <td>0.100000</td>\n",
       "      <td>-0.100000</td>\n",
       "      <td>0.100000</td>\n",
       "    </tr>\n",
       "    <tr>\n",
       "      <th>4</th>\n",
       "      <td>0</td>\n",
       "      <td>H_-2_-2_0.509296.dat</td>\n",
       "      <td>-2.0</td>\n",
       "      <td>-2.0</td>\n",
       "      <td>0.509296</td>\n",
       "      <td>999</td>\n",
       "      <td>666</td>\n",
       "      <td>test</td>\n",
       "      <td>0.000509</td>\n",
       "      <td>-0.008372</td>\n",
       "      <td>...</td>\n",
       "      <td>-0.082713</td>\n",
       "      <td>-0.089753</td>\n",
       "      <td>-0.067684</td>\n",
       "      <td>-0.075347</td>\n",
       "      <td>-0.051587</td>\n",
       "      <td>-0.059753</td>\n",
       "      <td>-0.034677</td>\n",
       "      <td>-0.043217</td>\n",
       "      <td>-0.017220</td>\n",
       "      <td>-0.026000</td>\n",
       "    </tr>\n",
       "    <tr>\n",
       "      <th>5</th>\n",
       "      <td>0</td>\n",
       "      <td>H_-2_-2_0.509296.dat</td>\n",
       "      <td>-2.0</td>\n",
       "      <td>-2.0</td>\n",
       "      <td>0.509296</td>\n",
       "      <td>999</td>\n",
       "      <td>666</td>\n",
       "      <td>test</td>\n",
       "      <td>0.001204</td>\n",
       "      <td>-0.016530</td>\n",
       "      <td>...</td>\n",
       "      <td>-0.134123</td>\n",
       "      <td>-0.138686</td>\n",
       "      <td>-0.118757</td>\n",
       "      <td>-0.127445</td>\n",
       "      <td>-0.095929</td>\n",
       "      <td>-0.108196</td>\n",
       "      <td>-0.067073</td>\n",
       "      <td>-0.082149</td>\n",
       "      <td>-0.034003</td>\n",
       "      <td>-0.050940</td>\n",
       "    </tr>\n",
       "    <tr>\n",
       "      <th>6</th>\n",
       "      <td>0</td>\n",
       "      <td>H_-2_-2_0.509296.dat</td>\n",
       "      <td>-2.0</td>\n",
       "      <td>-2.0</td>\n",
       "      <td>0.509296</td>\n",
       "      <td>999</td>\n",
       "      <td>666</td>\n",
       "      <td>test</td>\n",
       "      <td>-0.141421</td>\n",
       "      <td>-0.138980</td>\n",
       "      <td>...</td>\n",
       "      <td>0.043375</td>\n",
       "      <td>0.067830</td>\n",
       "      <td>-0.009222</td>\n",
       "      <td>0.017385</td>\n",
       "      <td>-0.060524</td>\n",
       "      <td>-0.035502</td>\n",
       "      <td>-0.103326</td>\n",
       "      <td>-0.083403</td>\n",
       "      <td>-0.131616</td>\n",
       "      <td>-0.119589</td>\n",
       "    </tr>\n",
       "    <tr>\n",
       "      <th>7</th>\n",
       "      <td>0</td>\n",
       "      <td>H_-2_-2_0.509296.dat</td>\n",
       "      <td>-2.0</td>\n",
       "      <td>-2.0</td>\n",
       "      <td>0.509296</td>\n",
       "      <td>999</td>\n",
       "      <td>666</td>\n",
       "      <td>test</td>\n",
       "      <td>-0.000826</td>\n",
       "      <td>0.025688</td>\n",
       "      <td>...</td>\n",
       "      <td>0.134753</td>\n",
       "      <td>0.124324</td>\n",
       "      <td>0.141088</td>\n",
       "      <td>0.140407</td>\n",
       "      <td>0.127608</td>\n",
       "      <td>0.136771</td>\n",
       "      <td>0.096206</td>\n",
       "      <td>0.113925</td>\n",
       "      <td>0.051292</td>\n",
       "      <td>0.075079</td>\n",
       "    </tr>\n",
       "    <tr>\n",
       "      <th>8</th>\n",
       "      <td>0</td>\n",
       "      <td>H_-2_-2_0.509296.dat</td>\n",
       "      <td>-2.0</td>\n",
       "      <td>-2.0</td>\n",
       "      <td>0.509296</td>\n",
       "      <td>999</td>\n",
       "      <td>666</td>\n",
       "      <td>test</td>\n",
       "      <td>0.141417</td>\n",
       "      <td>0.136684</td>\n",
       "      <td>...</td>\n",
       "      <td>-0.115093</td>\n",
       "      <td>-0.131915</td>\n",
       "      <td>-0.061266</td>\n",
       "      <td>-0.091040</td>\n",
       "      <td>0.007717</td>\n",
       "      <td>-0.027643</td>\n",
       "      <td>0.074791</td>\n",
       "      <td>0.042592</td>\n",
       "      <td>0.123363</td>\n",
       "      <td>0.102291</td>\n",
       "    </tr>\n",
       "    <tr>\n",
       "      <th>9</th>\n",
       "      <td>0</td>\n",
       "      <td>H_-2_-2_0.509296.dat</td>\n",
       "      <td>-2.0</td>\n",
       "      <td>-2.0</td>\n",
       "      <td>0.509296</td>\n",
       "      <td>999</td>\n",
       "      <td>666</td>\n",
       "      <td>test</td>\n",
       "      <td>0.001302</td>\n",
       "      <td>0.036430</td>\n",
       "      <td>...</td>\n",
       "      <td>0.082068</td>\n",
       "      <td>0.050848</td>\n",
       "      <td>0.127402</td>\n",
       "      <td>0.108132</td>\n",
       "      <td>0.141218</td>\n",
       "      <td>0.138667</td>\n",
       "      <td>0.120099</td>\n",
       "      <td>0.134896</td>\n",
       "      <td>0.069268</td>\n",
       "      <td>0.097755</td>\n",
       "    </tr>\n",
       "  </tbody>\n",
       "</table>\n",
       "<p>10 rows × 108 columns</p>\n",
       "</div>"
      ],
      "text/plain": [
       "   id                  path   t1   t2   winding  phase  pred_phase type_of  \\\n",
       "0   0  H_-2_-2_0.509296.dat -2.0 -2.0  0.509296    999         666    test   \n",
       "1   0  H_-2_-2_0.509296.dat -2.0 -2.0  0.509296    999         666    test   \n",
       "2   0  H_-2_-2_0.509296.dat -2.0 -2.0  0.509296    999         666    test   \n",
       "3   0  H_-2_-2_0.509296.dat -2.0 -2.0  0.509296    999         666    test   \n",
       "4   0  H_-2_-2_0.509296.dat -2.0 -2.0  0.509296    999         666    test   \n",
       "5   0  H_-2_-2_0.509296.dat -2.0 -2.0  0.509296    999         666    test   \n",
       "6   0  H_-2_-2_0.509296.dat -2.0 -2.0  0.509296    999         666    test   \n",
       "7   0  H_-2_-2_0.509296.dat -2.0 -2.0  0.509296    999         666    test   \n",
       "8   0  H_-2_-2_0.509296.dat -2.0 -2.0  0.509296    999         666    test   \n",
       "9   0  H_-2_-2_0.509296.dat -2.0 -2.0  0.509296    999         666    test   \n",
       "\n",
       "      feat0     feat1  ...    feat90    feat91    feat92    feat93    feat94  \\\n",
       "0  0.100000  0.100000  ...  0.100000  0.100000  0.100000  0.100000  0.100000   \n",
       "1  0.141421  0.141142  ...  0.114412  0.108967  0.123928  0.119406  0.131490   \n",
       "2  0.141421  0.140306  ...  0.043702  0.026500  0.075777  0.060214  0.103092   \n",
       "3 -0.100000  0.100000  ... -0.100000  0.100000 -0.100000  0.100000 -0.100000   \n",
       "4  0.000509 -0.008372  ... -0.082713 -0.089753 -0.067684 -0.075347 -0.051587   \n",
       "5  0.001204 -0.016530  ... -0.134123 -0.138686 -0.118757 -0.127445 -0.095929   \n",
       "6 -0.141421 -0.138980  ...  0.043375  0.067830 -0.009222  0.017385 -0.060524   \n",
       "7 -0.000826  0.025688  ...  0.134753  0.124324  0.141088  0.140407  0.127608   \n",
       "8  0.141417  0.136684  ... -0.115093 -0.131915 -0.061266 -0.091040  0.007717   \n",
       "9  0.001302  0.036430  ...  0.082068  0.050848  0.127402  0.108132  0.141218   \n",
       "\n",
       "     feat95    feat96    feat97    feat98    feat99  \n",
       "0  0.100000  0.100000  0.100000  0.100000  0.100000  \n",
       "1  0.127962  0.136978  0.134500  0.140306  0.138916  \n",
       "2  0.090145  0.123928  0.114412  0.136978  0.131490  \n",
       "3  0.100000 -0.100000  0.100000 -0.100000  0.100000  \n",
       "4 -0.059753 -0.034677 -0.043217 -0.017220 -0.026000  \n",
       "5 -0.108196 -0.067073 -0.082149 -0.034003 -0.050940  \n",
       "6 -0.035502 -0.103326 -0.083403 -0.131616 -0.119589  \n",
       "7  0.136771  0.096206  0.113925  0.051292  0.075079  \n",
       "8 -0.027643  0.074791  0.042592  0.123363  0.102291  \n",
       "9  0.138667  0.120099  0.134896  0.069268  0.097755  \n",
       "\n",
       "[10 rows x 108 columns]"
      ]
     },
     "execution_count": 24,
     "metadata": {},
     "output_type": "execute_result"
    }
   ],
   "source": [
    "simulation.dataframe.head(10)"
   ]
  },
  {
   "cell_type": "markdown",
   "metadata": {
    "papermill": {
     "duration": 0.034808,
     "end_time": "2020-07-08T06:02:54.921784",
     "exception": false,
     "start_time": "2020-07-08T06:02:54.886976",
     "status": "completed"
    },
    "tags": []
   },
   "source": [
    "#### Viewing a random sample"
   ]
  },
  {
   "cell_type": "code",
   "execution_count": 25,
   "metadata": {
    "execution": {
     "iopub.execute_input": "2020-07-08T06:02:54.994760Z",
     "iopub.status.busy": "2020-07-08T06:02:54.994452Z",
     "iopub.status.idle": "2020-07-08T06:02:55.056436Z",
     "shell.execute_reply": "2020-07-08T06:02:55.056689Z"
    },
    "papermill": {
     "duration": 0.099506,
     "end_time": "2020-07-08T06:02:55.056759",
     "exception": false,
     "start_time": "2020-07-08T06:02:54.957253",
     "status": "completed"
    },
    "tags": []
   },
   "outputs": [
    {
     "name": "stdout",
     "output_type": "stream",
     "text": [
      "CPU times: user 25.6 ms, sys: 5 µs, total: 25.6 ms\n",
      "Wall time: 25.4 ms\n"
     ]
    },
    {
     "data": {
      "text/html": [
       "<div>\n",
       "<style scoped>\n",
       "    .dataframe tbody tr th:only-of-type {\n",
       "        vertical-align: middle;\n",
       "    }\n",
       "\n",
       "    .dataframe tbody tr th {\n",
       "        vertical-align: top;\n",
       "    }\n",
       "\n",
       "    .dataframe thead th {\n",
       "        text-align: right;\n",
       "    }\n",
       "</style>\n",
       "<table border=\"1\" class=\"dataframe\">\n",
       "  <thead>\n",
       "    <tr style=\"text-align: right;\">\n",
       "      <th></th>\n",
       "      <th>id</th>\n",
       "      <th>path</th>\n",
       "      <th>t1</th>\n",
       "      <th>t2</th>\n",
       "      <th>winding</th>\n",
       "      <th>phase</th>\n",
       "      <th>pred_phase</th>\n",
       "      <th>type_of</th>\n",
       "      <th>dct_feat0</th>\n",
       "      <th>dct_feat2</th>\n",
       "      <th>...</th>\n",
       "      <th>dct_feat32</th>\n",
       "      <th>dct_feat34</th>\n",
       "      <th>dct_feat36</th>\n",
       "      <th>dct_feat38</th>\n",
       "      <th>dct_feat40</th>\n",
       "      <th>dct_feat42</th>\n",
       "      <th>dct_feat44</th>\n",
       "      <th>dct_feat46</th>\n",
       "      <th>dct_feat48</th>\n",
       "      <th>dct_feat50</th>\n",
       "    </tr>\n",
       "  </thead>\n",
       "  <tbody>\n",
       "    <tr>\n",
       "      <th>223905</th>\n",
       "      <td>2239</td>\n",
       "      <td>H_-0.65_0.6_0.00691532.dat</td>\n",
       "      <td>-0.65</td>\n",
       "      <td>0.60</td>\n",
       "      <td>0.006915</td>\n",
       "      <td>0</td>\n",
       "      <td>0</td>\n",
       "      <td>val</td>\n",
       "      <td>0.052133</td>\n",
       "      <td>0.105404</td>\n",
       "      <td>...</td>\n",
       "      <td>0.038941</td>\n",
       "      <td>-0.003596</td>\n",
       "      <td>-0.020049</td>\n",
       "      <td>-0.027157</td>\n",
       "      <td>-0.030379</td>\n",
       "      <td>-0.031832</td>\n",
       "      <td>-0.032457</td>\n",
       "      <td>-0.032703</td>\n",
       "      <td>-0.032786</td>\n",
       "      <td>-0.016401</td>\n",
       "    </tr>\n",
       "    <tr>\n",
       "      <th>485526</th>\n",
       "      <td>4855</td>\n",
       "      <td>H_0.95_1.8_1.00566.dat</td>\n",
       "      <td>0.95</td>\n",
       "      <td>1.80</td>\n",
       "      <td>1.005658</td>\n",
       "      <td>1</td>\n",
       "      <td>1</td>\n",
       "      <td>val</td>\n",
       "      <td>0.001303</td>\n",
       "      <td>0.002609</td>\n",
       "      <td>...</td>\n",
       "      <td>0.002604</td>\n",
       "      <td>0.002611</td>\n",
       "      <td>0.002610</td>\n",
       "      <td>0.002609</td>\n",
       "      <td>0.002610</td>\n",
       "      <td>0.002605</td>\n",
       "      <td>2.729600</td>\n",
       "      <td>0.002605</td>\n",
       "      <td>0.002614</td>\n",
       "      <td>0.001303</td>\n",
       "    </tr>\n",
       "    <tr>\n",
       "      <th>62209</th>\n",
       "      <td>622</td>\n",
       "      <td>H_-1.65_0.75_0.000836195.dat</td>\n",
       "      <td>-1.65</td>\n",
       "      <td>0.75</td>\n",
       "      <td>0.000836</td>\n",
       "      <td>0</td>\n",
       "      <td>0</td>\n",
       "      <td>val</td>\n",
       "      <td>0.001497</td>\n",
       "      <td>0.002997</td>\n",
       "      <td>...</td>\n",
       "      <td>0.003000</td>\n",
       "      <td>0.002995</td>\n",
       "      <td>0.002998</td>\n",
       "      <td>0.002997</td>\n",
       "      <td>0.002996</td>\n",
       "      <td>0.002997</td>\n",
       "      <td>0.003000</td>\n",
       "      <td>0.003006</td>\n",
       "      <td>0.002998</td>\n",
       "      <td>0.001495</td>\n",
       "    </tr>\n",
       "    <tr>\n",
       "      <th>478954</th>\n",
       "      <td>4789</td>\n",
       "      <td>H_0.95_-1.5_1.00164.dat</td>\n",
       "      <td>0.95</td>\n",
       "      <td>-1.50</td>\n",
       "      <td>1.001639</td>\n",
       "      <td>1</td>\n",
       "      <td>1</td>\n",
       "      <td>val</td>\n",
       "      <td>-0.097803</td>\n",
       "      <td>-0.201800</td>\n",
       "      <td>...</td>\n",
       "      <td>-0.092612</td>\n",
       "      <td>-0.154195</td>\n",
       "      <td>-0.297036</td>\n",
       "      <td>-1.014758</td>\n",
       "      <td>1.148031</td>\n",
       "      <td>0.432633</td>\n",
       "      <td>0.294645</td>\n",
       "      <td>0.240923</td>\n",
       "      <td>0.217438</td>\n",
       "      <td>0.105321</td>\n",
       "    </tr>\n",
       "    <tr>\n",
       "      <th>257101</th>\n",
       "      <td>2571</td>\n",
       "      <td>H_-0.45_1_1.00185.dat</td>\n",
       "      <td>-0.45</td>\n",
       "      <td>1.00</td>\n",
       "      <td>1.001846</td>\n",
       "      <td>1</td>\n",
       "      <td>1</td>\n",
       "      <td>val</td>\n",
       "      <td>0.141422</td>\n",
       "      <td>0.282839</td>\n",
       "      <td>...</td>\n",
       "      <td>0.282842</td>\n",
       "      <td>0.282847</td>\n",
       "      <td>0.282841</td>\n",
       "      <td>0.282843</td>\n",
       "      <td>0.282840</td>\n",
       "      <td>0.282844</td>\n",
       "      <td>0.282846</td>\n",
       "      <td>0.282841</td>\n",
       "      <td>0.282841</td>\n",
       "      <td>0.141422</td>\n",
       "    </tr>\n",
       "    <tr>\n",
       "      <th>...</th>\n",
       "      <td>...</td>\n",
       "      <td>...</td>\n",
       "      <td>...</td>\n",
       "      <td>...</td>\n",
       "      <td>...</td>\n",
       "      <td>...</td>\n",
       "      <td>...</td>\n",
       "      <td>...</td>\n",
       "      <td>...</td>\n",
       "      <td>...</td>\n",
       "      <td>...</td>\n",
       "      <td>...</td>\n",
       "      <td>...</td>\n",
       "      <td>...</td>\n",
       "      <td>...</td>\n",
       "      <td>...</td>\n",
       "      <td>...</td>\n",
       "      <td>...</td>\n",
       "      <td>...</td>\n",
       "      <td>...</td>\n",
       "      <td>...</td>\n",
       "    </tr>\n",
       "    <tr>\n",
       "      <th>148246</th>\n",
       "      <td>1482</td>\n",
       "      <td>H_-1.1_-0.8_-0.00705781.dat</td>\n",
       "      <td>-1.10</td>\n",
       "      <td>-0.80</td>\n",
       "      <td>-0.007058</td>\n",
       "      <td>0</td>\n",
       "      <td>0</td>\n",
       "      <td>val</td>\n",
       "      <td>0.141416</td>\n",
       "      <td>0.282840</td>\n",
       "      <td>...</td>\n",
       "      <td>0.282837</td>\n",
       "      <td>0.282843</td>\n",
       "      <td>3.817464</td>\n",
       "      <td>0.282845</td>\n",
       "      <td>0.282841</td>\n",
       "      <td>0.282841</td>\n",
       "      <td>0.282845</td>\n",
       "      <td>0.282846</td>\n",
       "      <td>0.282839</td>\n",
       "      <td>0.141422</td>\n",
       "    </tr>\n",
       "    <tr>\n",
       "      <th>358949</th>\n",
       "      <td>3589</td>\n",
       "      <td>H_0.2_-0.75_1.00211.dat</td>\n",
       "      <td>0.20</td>\n",
       "      <td>-0.75</td>\n",
       "      <td>1.002113</td>\n",
       "      <td>1</td>\n",
       "      <td>1</td>\n",
       "      <td>val</td>\n",
       "      <td>0.141412</td>\n",
       "      <td>0.282829</td>\n",
       "      <td>...</td>\n",
       "      <td>0.282829</td>\n",
       "      <td>0.282823</td>\n",
       "      <td>0.282828</td>\n",
       "      <td>0.282822</td>\n",
       "      <td>0.282828</td>\n",
       "      <td>0.282828</td>\n",
       "      <td>3.091666</td>\n",
       "      <td>0.282829</td>\n",
       "      <td>0.282828</td>\n",
       "      <td>0.141416</td>\n",
       "    </tr>\n",
       "    <tr>\n",
       "      <th>246124</th>\n",
       "      <td>2461</td>\n",
       "      <td>H_-0.5_-0.45_-0.0222906.dat</td>\n",
       "      <td>-0.50</td>\n",
       "      <td>-0.45</td>\n",
       "      <td>-0.022291</td>\n",
       "      <td>0</td>\n",
       "      <td>0</td>\n",
       "      <td>test</td>\n",
       "      <td>-0.274884</td>\n",
       "      <td>0.182770</td>\n",
       "      <td>...</td>\n",
       "      <td>-0.001132</td>\n",
       "      <td>-0.001637</td>\n",
       "      <td>-0.002344</td>\n",
       "      <td>-0.003396</td>\n",
       "      <td>-0.005140</td>\n",
       "      <td>-0.008323</td>\n",
       "      <td>-0.015315</td>\n",
       "      <td>-0.036253</td>\n",
       "      <td>-0.182743</td>\n",
       "      <td>0.274842</td>\n",
       "    </tr>\n",
       "    <tr>\n",
       "      <th>553962</th>\n",
       "      <td>5539</td>\n",
       "      <td>H_1.4_-0.45_0.000650837.dat</td>\n",
       "      <td>1.40</td>\n",
       "      <td>-0.45</td>\n",
       "      <td>0.000651</td>\n",
       "      <td>0</td>\n",
       "      <td>0</td>\n",
       "      <td>val</td>\n",
       "      <td>0.000951</td>\n",
       "      <td>0.001919</td>\n",
       "      <td>...</td>\n",
       "      <td>0.001917</td>\n",
       "      <td>0.001917</td>\n",
       "      <td>0.001907</td>\n",
       "      <td>0.001912</td>\n",
       "      <td>0.001914</td>\n",
       "      <td>0.001917</td>\n",
       "      <td>0.001916</td>\n",
       "      <td>-0.088113</td>\n",
       "      <td>0.001915</td>\n",
       "      <td>0.000955</td>\n",
       "    </tr>\n",
       "    <tr>\n",
       "      <th>492896</th>\n",
       "      <td>4928</td>\n",
       "      <td>H_1_1.4_1.0093.dat</td>\n",
       "      <td>1.00</td>\n",
       "      <td>1.40</td>\n",
       "      <td>1.009300</td>\n",
       "      <td>1</td>\n",
       "      <td>1</td>\n",
       "      <td>train</td>\n",
       "      <td>0.161179</td>\n",
       "      <td>0.335478</td>\n",
       "      <td>...</td>\n",
       "      <td>-0.345034</td>\n",
       "      <td>-0.466980</td>\n",
       "      <td>-0.768340</td>\n",
       "      <td>-2.322795</td>\n",
       "      <td>2.389678</td>\n",
       "      <td>0.837256</td>\n",
       "      <td>0.540241</td>\n",
       "      <td>0.425602</td>\n",
       "      <td>0.375803</td>\n",
       "      <td>0.180717</td>\n",
       "    </tr>\n",
       "  </tbody>\n",
       "</table>\n",
       "<p>65610 rows × 34 columns</p>\n",
       "</div>"
      ],
      "text/plain": [
       "          id                          path    t1    t2   winding  phase  \\\n",
       "223905  2239    H_-0.65_0.6_0.00691532.dat -0.65  0.60  0.006915      0   \n",
       "485526  4855        H_0.95_1.8_1.00566.dat  0.95  1.80  1.005658      1   \n",
       "62209    622  H_-1.65_0.75_0.000836195.dat -1.65  0.75  0.000836      0   \n",
       "478954  4789       H_0.95_-1.5_1.00164.dat  0.95 -1.50  1.001639      1   \n",
       "257101  2571         H_-0.45_1_1.00185.dat -0.45  1.00  1.001846      1   \n",
       "...      ...                           ...   ...   ...       ...    ...   \n",
       "148246  1482   H_-1.1_-0.8_-0.00705781.dat -1.10 -0.80 -0.007058      0   \n",
       "358949  3589       H_0.2_-0.75_1.00211.dat  0.20 -0.75  1.002113      1   \n",
       "246124  2461   H_-0.5_-0.45_-0.0222906.dat -0.50 -0.45 -0.022291      0   \n",
       "553962  5539   H_1.4_-0.45_0.000650837.dat  1.40 -0.45  0.000651      0   \n",
       "492896  4928            H_1_1.4_1.0093.dat  1.00  1.40  1.009300      1   \n",
       "\n",
       "        pred_phase type_of  dct_feat0  dct_feat2  ...  dct_feat32  dct_feat34  \\\n",
       "223905           0     val   0.052133   0.105404  ...    0.038941   -0.003596   \n",
       "485526           1     val   0.001303   0.002609  ...    0.002604    0.002611   \n",
       "62209            0     val   0.001497   0.002997  ...    0.003000    0.002995   \n",
       "478954           1     val  -0.097803  -0.201800  ...   -0.092612   -0.154195   \n",
       "257101           1     val   0.141422   0.282839  ...    0.282842    0.282847   \n",
       "...            ...     ...        ...        ...  ...         ...         ...   \n",
       "148246           0     val   0.141416   0.282840  ...    0.282837    0.282843   \n",
       "358949           1     val   0.141412   0.282829  ...    0.282829    0.282823   \n",
       "246124           0    test  -0.274884   0.182770  ...   -0.001132   -0.001637   \n",
       "553962           0     val   0.000951   0.001919  ...    0.001917    0.001917   \n",
       "492896           1   train   0.161179   0.335478  ...   -0.345034   -0.466980   \n",
       "\n",
       "        dct_feat36  dct_feat38  dct_feat40  dct_feat42  dct_feat44  \\\n",
       "223905   -0.020049   -0.027157   -0.030379   -0.031832   -0.032457   \n",
       "485526    0.002610    0.002609    0.002610    0.002605    2.729600   \n",
       "62209     0.002998    0.002997    0.002996    0.002997    0.003000   \n",
       "478954   -0.297036   -1.014758    1.148031    0.432633    0.294645   \n",
       "257101    0.282841    0.282843    0.282840    0.282844    0.282846   \n",
       "...            ...         ...         ...         ...         ...   \n",
       "148246    3.817464    0.282845    0.282841    0.282841    0.282845   \n",
       "358949    0.282828    0.282822    0.282828    0.282828    3.091666   \n",
       "246124   -0.002344   -0.003396   -0.005140   -0.008323   -0.015315   \n",
       "553962    0.001907    0.001912    0.001914    0.001917    0.001916   \n",
       "492896   -0.768340   -2.322795    2.389678    0.837256    0.540241   \n",
       "\n",
       "        dct_feat46  dct_feat48  dct_feat50  \n",
       "223905   -0.032703   -0.032786   -0.016401  \n",
       "485526    0.002605    0.002614    0.001303  \n",
       "62209     0.003006    0.002998    0.001495  \n",
       "478954    0.240923    0.217438    0.105321  \n",
       "257101    0.282841    0.282841    0.141422  \n",
       "...            ...         ...         ...  \n",
       "148246    0.282846    0.282839    0.141422  \n",
       "358949    0.282829    0.282828    0.141416  \n",
       "246124   -0.036253   -0.182743    0.274842  \n",
       "553962   -0.088113    0.001915    0.000955  \n",
       "492896    0.425602    0.375803    0.180717  \n",
       "\n",
       "[65610 rows x 34 columns]"
      ]
     },
     "execution_count": 25,
     "metadata": {},
     "output_type": "execute_result"
    }
   ],
   "source": [
    "%%time\n",
    "simulation.fourier_engineered_dataframe.sample(frac=0.1, replace=False)"
   ]
  },
  {
   "cell_type": "markdown",
   "metadata": {
    "papermill": {
     "duration": 0.03702,
     "end_time": "2020-07-08T06:02:55.130373",
     "exception": false,
     "start_time": "2020-07-08T06:02:55.093353",
     "status": "completed"
    },
    "tags": []
   },
   "source": [
    "#### Checking train/val/test splits again"
   ]
  },
  {
   "cell_type": "code",
   "execution_count": 26,
   "metadata": {
    "execution": {
     "iopub.execute_input": "2020-07-08T06:02:55.203577Z",
     "iopub.status.busy": "2020-07-08T06:02:55.203257Z",
     "iopub.status.idle": "2020-07-08T06:02:55.391296Z",
     "shell.execute_reply": "2020-07-08T06:02:55.391550Z"
    },
    "papermill": {
     "duration": 0.22569,
     "end_time": "2020-07-08T06:02:55.391617",
     "exception": false,
     "start_time": "2020-07-08T06:02:55.165927",
     "status": "completed"
    },
    "tags": []
   },
   "outputs": [
    {
     "name": "stdout",
     "output_type": "stream",
     "text": [
      "% train:  0.08474317939338516\n",
      "% val:  0.7620789513793629\n",
      "% test:  0.15317786922725193\n",
      "% train + val + test:  1.0\n",
      "\n",
      "\n",
      "number of train hamiltonians:  556\n",
      "number of val hamiltonians:  5000\n",
      "number of test hamiltonians:  1005\n",
      "total number of hamiltonians:  6561\n",
      "\n",
      "\n",
      "train ids:  [5300, 5966, 541, 2440, 1563, 3598, 1818, 4086, 4666, 6008, 2731, 6047, 4905, 2352, 24, 2342, 4372, 5475, 3729, 1114, 5457, 5369, 433, 6351, 4517, 5309, 1323, 5129, 1374, 4241, 2765, 1768, 3741, 211, 2374, 3723, 337, 6290, 3751, 3267, 2647, 3630, 5561, 3758, 5436, 4010, 4396, 3220, 4016, 1460, 2588, 1586, 2693, 2037, 2146, 6017, 4892, 5057, 1936, 3765, 3277, 4156, 3878, 1077, 6510, 2989, 6209, 5341, 860, 4862, 125, 3552, 4494, 2468, 5934, 3467, 4402, 2299, 2027, 6496, 2628, 1985, 5380, 6109, 3385, 5115, 5356, 3645, 1509, 4830, 4896, 5161, 3194, 965, 4620, 2653, 5273, 3601, 1117, 6494, 584, 4027, 3292, 4788, 954, 4996, 2521, 1300, 5443, 4808, 2033, 2790, 6431, 5227, 2910, 4945, 447, 5435, 5188, 3294, 1754, 1579, 5674, 1747, 1457, 3158, 3157, 5027, 6126, 1669, 5189, 2077, 3863, 6295, 4412, 5476, 5526, 2204, 5451, 268, 1335, 451, 2423, 285, 443, 1611, 4316, 3222, 5954, 2225, 3126, 6005, 1027, 3511, 2718, 781, 684, 5031, 5379, 3094, 5381, 2744, 2648, 2897, 4168, 5028, 5036, 196, 862, 3922, 1256, 5226, 3359, 2755, 5650, 3848, 6325, 4136, 4158, 5071, 4831, 6142, 4411, 1486, 3272, 5890, 6450, 6076, 673, 3367, 5794, 3973, 3112, 2884, 4482, 214, 6139, 4255, 3370, 3934, 6498, 5707, 5941, 1137, 514, 5897, 466, 2549, 4966, 3381, 3339, 5276, 2184, 448, 3084, 355, 3847, 852, 913, 5138, 3462, 4956, 4868, 930, 3085, 5056, 2738, 5692, 2725, 5931, 201, 3663, 3964, 1656, 2701, 3009, 4503, 3057, 1917, 101, 3637, 317, 5673, 5832, 4455, 3345, 3783, 3954, 4885, 5616, 2772, 2110, 5044, 4260, 2042, 1545, 3482, 5853, 5570, 1296, 1608, 2319, 3883, 1512, 1995, 210, 850, 6199, 3151, 3316, 1780, 5973, 186, 3193, 4153, 5488, 5538, 1615, 4293, 2373, 2108, 1678, 5836, 316, 4657, 3485, 2066, 5606, 5804, 5642, 1326, 3522, 4064, 6135, 2865, 475, 3179, 4763, 4822, 3507, 3401, 1468, 382, 4656, 2074, 6254, 5235, 6374, 5933, 6093, 4150, 3146, 5619, 2629, 1576, 304, 1127, 1539, 5017, 3351, 2284, 3709, 3705, 5544, 3380, 4584, 2676, 3202, 5862, 6186, 3043, 1704, 4471, 6195, 54, 2905, 403, 871, 4693, 4446, 1188, 5307, 696, 1074, 5775, 4290, 454, 32, 2902, 5285, 4234, 693, 3578, 5597, 6037, 4871, 4369, 2579, 4006, 4834, 3307, 5613, 5431, 2575, 4968, 4887, 858, 4645, 4942, 5618, 1791, 2508, 866, 4825, 4317, 643, 1742, 1263, 3090, 5516, 765, 5299, 6030, 4067, 1418, 1574, 5156, 2334, 4365, 1535, 4076, 5978, 2937, 6528, 3817, 4554, 921, 4845, 2799, 5706, 1207, 4636, 4375, 4069, 5511, 3086, 3396, 2748, 3087, 6332, 4569, 4530, 1790, 5394, 3893, 3328, 1238, 2413, 4191, 2638, 258, 361, 4002, 4949, 5594, 59, 3868, 21, 969, 2586, 3985, 3816, 4313, 5957, 6335, 2808, 287, 3907, 1370, 5535, 3557, 6014, 5152, 4915, 6411, 2018, 2107, 4663, 1160, 2339, 3282, 597, 4928, 4773, 1241, 2956, 4794, 5698, 3442, 2969, 4941, 2550, 2094, 1779, 3195, 1764, 5347, 2203, 4699, 261, 6203, 6041, 2525, 3955, 4023, 5015, 4031, 1367, 373, 4170, 2760, 4886, 3130, 1336, 4524, 4651, 1739, 2645, 5343, 2310, 2812, 3344, 500, 4353, 29, 3245, 2695, 3393, 1085, 216, 5868, 1876, 1737, 626, 3971, 5844, 624, 4866, 2243, 2536, 1826, 4696, 3495, 422, 929, 5528, 4218, 1254, 2414, 4286, 1896, 2721, 4420, 4991, 5154, 147, 4008, 3685, 1488, 469, 4211, 4175, 1952, 3350, 2403, 5871, 999, 1298, 2700, 381, 1099, 3796, 531, 6200, 296, 933, 2703, 4828, 3201, 1019, 226, 2224, 2105, 758, 4310, 1025]\n",
      "val ids:  [725, 1340, 4724, 1616, 1905, 4780, 2928, 1459, 5784, 916, 1691, 5676, 4476, 3571, 2332, 6440, 1998, 3037, 2995, 4277, 4878, 3797, 1161, 5473, 919, 505, 397, 1810, 380, 2691, 2516, 2864, 3124, 2646, 1428, 3308, 27, 4632, 5198, 5461, 1655, 3180, 5014, 3617, 5122, 265, 5065, 1530, 2593, 3377, 3813, 536, 3956, 4114, 6028, 391, 3711, 4210, 3682, 1654, 3846, 1706, 5112, 6156, 2040, 3053, 62, 2694, 1271, 4785, 3896, 1115, 3369, 1912, 1215, 1604, 4166, 1343, 4152, 5714, 6187, 4522, 3969, 5395, 2173, 55, 5105, 3994, 5943, 5052, 2368, 1775, 1547, 4519, 1900, 2109, 1082, 1879, 621, 2931, 1045, 6198, 1243, 851, 874, 1594, 3021, 2435, 3150, 5895, 547, 2781, 6026, 5797, 6273, 6246, 6434, 6096, 2654, 3249, 6377, 6034, 133, 1625, 349, 6527, 39, 2590, 5111, 5532, 3242, 3502, 3113, 4610, 3961, 205, 4045, 1785, 3733, 5349, 941, 1593, 283, 3321, 4207, 6100, 889, 2696, 3205, 3323, 2964, 3730, 3643, 6090, 6044, 4577, 4469, 857, 1112, 5615, 1573, 1659, 1123, 2992, 864, 6262, 1325, 944, 2169, 3386, 3492, 2878, 2176, 1438, 3651, 1487, 3427, 5218, 6334, 1043, 2442, 1237, 1076, 3365, 2859, 384, 2776, 888, 4362, 4078, 2565, 4046, 1239, 3464, 4741, 5773, 2559, 4328, 4406, 4140, 1937, 5078, 124, 3424, 4532, 5788, 1911, 3553, 1766, 4208, 441, 1772, 4095, 3727, 2723, 973, 970, 3858, 2895, 877, 2114, 5888, 6086, 996, 4231, 1852, 3950, 1631, 4405, 2437, 957, 280, 262, 3445, 1195, 366, 5216, 3278, 2889, 991, 5647, 5883, 3661, 2302, 925, 5437, 625, 4111, 3908, 703, 4684, 5316, 6048, 4539, 792, 3329, 3647, 5770, 1811, 2756, 4447, 372, 3559, 2967, 680, 1524, 5595, 6361, 6029, 5708, 3219, 5799, 1924, 4279, 2635, 5719, 3254, 3338, 1400, 4107, 1901, 1787, 1018, 3636, 2154, 6386, 2361, 3098, 3228, 3633, 4434, 3749, 2463, 5211, 3138, 3775, 3100, 2089, 1962, 4192, 5854, 3885, 1986, 3686, 1753, 1277, 4315, 2875, 4302, 5691, 3079, 4370, 5935, 4385, 4291, 3974, 1022, 2828, 1088, 6245, 3844, 4026, 134, 538, 2091, 25, 2498, 6468, 6279, 2305, 3320, 2727, 4849, 2006, 2165, 2886, 1974, 2798, 1796, 3073, 3762, 2804, 217, 2323, 2448, 1980, 3979, 4373, 1054, 4725, 678, 3312, 4341, 2021, 3479, 548, 1385, 5809, 2834, 808, 3044, 5390, 3888, 2740, 3889, 3665, 513, 5726, 3650, 2983, 156, 2348, 3778, 709, 764, 4654, 4585, 5815, 3373, 6495, 12, 6405, 5117, 1497, 516, 2817, 1462, 455, 591, 235, 945, 183, 1566, 5780, 1378, 1939, 1856, 3216, 4407, 6055, 266, 2199, 423, 1580, 1445, 859, 1749, 6303, 924, 57, 2158, 4850, 3432, 154, 6059, 3881, 2381, 3804, 5697, 2591, 5321, 1083, 2407, 6033, 4244, 419, 2913, 458, 4068, 3887, 5807, 1943, 4819, 3646, 5020, 4466, 1283, 2520, 1575, 1031, 2364, 3392, 763, 3448, 157, 5850, 4163, 2004, 872, 4660, 5092, 4058, 1330, 5781, 1133, 5261, 4606, 4477, 3740, 4743, 3876, 5240, 2945, 2751, 932, 692, 5207, 935, 2008, 4750, 427, 2200, 5425, 5952, 1180, 132, 1373, 3122, 4299, 1674, 6168, 5069, 1363, 602, 3992, 701, 994, 4901, 3181, 4148, 392, 6433, 2311, 1935, 4792, 2062, 4128, 2538, 4162, 3799, 2157, 388, 3273, 3518, 2857, 2803, 3051, 6534, 4410, 2082, 2916, 3928, 3815, 1648, 1365, 5723, 2585, 428, 3909, 5725, 4197, 4454, 4404, 4987, 4599, 5926, 2692, 4083, 3966, 5382, 4939, 769, 4767, 5114, 91, 5427, 5870, 3075, 2837, 4535, 5510, 752, 4285, 2336, 5454, 837, 17, 750, 3063, 425, 1106, 1953, 1954, 3081, 6365, 1167, 3987, 1318, 5322, 1339, 1567, 3957, 1368, 3298, 4502, 3001, 1321, 2473, 1877, 6257, 5144, 5534, 5550, 353, 4060, 4558, 5319, 3620, 911, 1450, 5288, 5772, 4243, 1783, 452, 632, 5705, 1135, 2408, 4744, 2656, 2561, 5373, 6116, 767, 1897, 3133, 303, 5204, 4550, 2095, 2601, 4726, 1619, 6512, 1278, 1455, 3192, 2519, 3939, 6418, 2823, 2384, 4874, 2369, 1843, 203, 2752, 6022, 230, 806, 6164, 92, 1036, 1483, 6500, 1444, 1211, 6380, 1208, 5805, 4727, 1929, 5270, 6463, 2861, 3806, 6111, 2546, 2517, 3319, 4520, 2678, 5053, 348, 4873, 6429, 2014, 3374, 5529, 4154, 2641, 4071, 1732, 3715, 4246, 3764, 4682, 3334, 527, 2234, 4041, 3095, 462, 2371, 5709, 1872, 6408, 2318, 3121, 2478, 6201, 4237, 2353, 5184, 2266, 5287, 6407, 236, 383, 1670, 4565, 1049, 4013, 3088, 2557, 6216, 2350, 4944, 6249, 3183, 61, 5203, 2005, 5049, 3924, 5396, 1284, 6421, 6107, 3921, 1915, 3531, 3875, 4258, 4872, 1702, 1703, 2121, 1382, 3235, 2464, 6291, 4883, 4445, 2981, 2816, 5230, 5213, 1107, 1162, 6283, 5533, 5229, 2251, 1265, 5324, 4063, 1589, 3441, 928, 4735, 2181, 2226, 308, 5484, 553, 2809, 5194, 4465, 1893, 4729, 2192, 3675, 3688, 4634, 5894, 13, 3932, 3800, 3605, 2291, 4196, 3603, 1166, 116, 436, 797, 2714, 365, 4096, 5176, 3658, 865, 706, 622, 4646, 3326, 1493, 2280, 2717, 5268, 5239, 1485, 3337, 1729, 2677, 6489, 612, 1154, 394, 277, 3990, 109, 4898, 3191, 4742, 4216, 2679, 5512, 4123, 6323, 2745, 1902, 234, 5629, 5430, 6360, 705, 5765, 4549, 4029, 6368, 4533, 3429, 4038, 2016, 3515, 1073, 5688, 2306, 4853, 751, 347, 4764, 1510, 4129, 6444, 2162, 200, 6205, 3976, 5686, 2578, 2972, 2205, 4270, 5587, 3305, 1430, 5767, 1191, 749, 2885, 3248, 2891, 2404, 3409, 2064, 4157, 3311, 2144, 3287, 4859, 3028, 2500, 1091, 943, 4953, 2724, 181, 4935, 3296, 20, 2838, 4247, 3325, 3372, 2876, 2488, 601, 3612, 5159, 4633, 4694, 891, 3862, 4282, 2504, 2661, 5690, 5192, 3877, 1534, 2907, 1651, 2002, 3981, 5852, 4271, 38, 4929, 5630, 3851, 5133, 6483, 6115, 5700, 5996, 2418, 5101, 1261, 5062, 2825, 1000, 1542, 3831, 155, 1820, 1417, 3769, 6430, 1568, 587, 3656, 5786, 5456, 1632, 6170, 3757, 1731, 4995, 5605, 3670, 5530, 5515, 2196, 3366, 4039, 3695, 1294, 2304, 952, 270, 4730, 4745, 861, 2805, 4631, 2456, 41, 2663, 1769, 1375, 5258, 3890, 699, 2041, 313, 4493, 5672, 3604, 2351, 762, 2506, 4072, 5563, 3358, 1546, 3199, 2360, 3927, 4492, 5669, 506, 5257, 2067, 1878, 1482, 2626, 363, 5262, 2492, 1128, 5463, 2188, 3904, 1895, 1538, 4795, 1464, 3002, 2494, 4903, 4332, 3926, 2810, 3548, 3639, 4044, 1865, 2445, 2948, 209, 2275, 3544, 761, 549, 3105, 5182, 5075, 292, 5648, 2447, 4538, 2345, 702, 1708, 1662, 3869, 595, 4468, 5193, 4556, 6276, 4952, 708, 3290, 3478, 3472, 1746, 4824, 1646, 2877, 2503, 1165, 6487, 3905, 3013, 6305, 1466, 2527, 2616, 2852, 5352, 4141, 5061, 1578, 6043, 2547, 4298, 5717, 2966, 1927, 1861, 4359, 3394, 4516, 5445, 917, 1288, 5109, 4355, 5588, 3726, 4025, 6263, 3572, 354, 3375, 4226, 3156, 1249, 4055, 2340, 4322, 298, 2024, 3834, 6333, 5076, 3983, 63, 4449, 6040, 3389, 2236, 4766, 1748, 2965, 4734, 3852, 1755, 5976, 3416, 6349, 5885, 3933, 2030, 2186, 5951, 6085, 1364, 6112, 4311, 3710, 3529, 4075, 2477, 1686, 2813, 3599, 6053, 4958, 4523, 1126, 395, 840, 6507, 2767, 2754, 1696, 4994, 4611, 789, 1204, 4806, 2197, 2386, 5450, 1196, 4870, 1827, 3514, 6222, 2312, 1582, 5142, 676, 3347, 3283, 3111, 3488, 52, 5731, 6326, 1499, 4653, 711, 2730, 1245, 786, 6176, 4667, 5348, 4444, 5342, 3849, 1866, 3823, 5644, 16, 3032, 515, 1003, 44, 6456, 5949, 2035, 2344, 540, 4066, 477, 1734, 4202, 537, 145, 5796, 5366, 1871, 847, 3891, 4827, 3284, 1757, 2309, 3993, 5308, 4746, 5608, 6350, 5855, 5153, 3706, 6281, 3419, 1498, 5446, 2118, 2264, 4551, 787, 3829, 5448, 5236, 176, 2279, 3093, 2860, 5710, 5928, 233, 3780, 1950, 4165, 6373, 4011, 2493, 5639, 5565, 4816, 2839, 6038, 793, 6092, 2148, 108, 5358, 2135, 5763, 6540, 1081, 4209, 225, 3327, 566, 4691, 6384, 1251, 839, 682, 364, 1255, 2330, 533, 1697, 6265, 471, 5636, 2892, 2824, 5241, 4001, 5155, 2347, 4230, 4912, 6027, 2735, 2584, 2855, 3343, 152, 3030, 1192, 4382, 4232, 5429, 5546, 3232, 5549, 342, 3568, 5160, 4732, 2555, 4613, 2429, 1181, 315, 4366, 1413, 4638, 2842, 5545, 2753, 6462, 6357, 4557, 1714, 3304, 3640, 2941, 2567, 2355, 1863, 6451, 1297, 5242, 3903, 1699, 358, 1816, 4711, 665, 4664, 3052, 1537, 1508, 1603, 221, 4288, 1959, 2267, 1354, 3451, 3240, 69, 3144, 49, 4193, 5296, 4135, 5264, 4772, 6341, 3162, 3309, 3788, 3929, 1960, 284, 2551, 6298, 2606, 1197, 4981, 291, 1020, 1690, 3352, 1051, 581, 2518, 3660, 5157, 5384, 2650, 3164, 3677, 998, 5479, 3510, 3963, 3902, 6459, 4812, 3910, 5432, 5231, 2863, 1613, 2071, 5621, 351, 4713, 6286, 3622, 4035, 2818, 633, 6299, 3038, 3023, 461, 5042, 3332, 140, 830, 3303, 3917, 5507, 460, 4495, 3103, 5035, 5158, 6492, 634, 508, 2235, 3422, 5364, 512, 5237, 2057, 4876, 3288, 3027, 445, 6119, 2201, 556, 2733, 6337, 1622, 282, 6098, 5932, 669, 1501, 4252, 3494, 3299, 5757, 3801, 6288, 4195, 805, 5147, 746, 6011, 629, 2850, 1053, 1949, 5958, 2142, 2487, 30, 2664, 3110, 4360, 4121, 5540, 1502, 834, 435, 6300, 3738, 2769, 647, 5643, 2534, 6218, 4490, 2644, 3496, 4692, 144, 1266, 139, 4040, 5566, 3008, 2123, 5033, 35, 3263, 5393, 1217, 6274, 2405, 2904, 5547, 2097, 1849, 4091, 1329, 2535, 3330, 5403, 2183, 3468, 6025, 967, 5769, 6157, 1618, 4307, 3077, 3498, 6056, 4993, 1275, 11, 1677, 6497, 5483, 2324, 300, 5367, 153, 5727, 6177, 1109, 5392, 4617, 1456, 2438, 1789, 3597, 5509, 350, 3627, 5537, 4891, 1894, 75, 5961, 3224, 2608, 4329, 853, 2151, 3147, 3487, 2125, 4861, 1301, 5944, 4907, 3169, 3410, 6410, 4865, 4084, 1093, 4119, 212, 807, 3484, 1847, 3313, 1078, 5104, 5694, 3471, 4814, 294, 1854, 1676, 3404, 307, 5275, 5774, 199, 360, 6330, 3481, 3458, 3187, 5539, 3662, 863, 2796, 804, 3756, 6293, 2955, 931, 1845, 520, 845, 2846, 3884, 6124, 2370, 2228, 3672, 4690, 3049, 4423, 4496, 2424, 1220, 3713, 1467, 3470, 6442, 4214, 2415, 950, 189, 1979, 2887, 1010, 4642, 4820, 1260, 4134, 2820, 6354, 6118, 2471, 1564, 459, 1956, 3996, 4254, 2010, 717, 1172, 3336, 4930, 4723, 3500, 619, 1853, 694, 4053, 1159, 1328, 2953, 1682, 3951, 446, 3766, 1828, 4722, 2059, 5186, 4200, 3469, 3616, 1268, 3535, 2343, 598, 4319, 2853, 2101, 1171, 3768, 3701, 909, 4948, 1870, 5377, 2481, 5607, 2689, 5387, 2083, 5447, 3333, 5024, 6529, 4562, 2467, 922, 1529, 2409, 2896, 6088, 6215, 5284, 3573, 4005, 103, 3516, 5043, 138, 5627, 1158, 5132, 4377, 3948, 2921, 1773, 2935, 838, 4047, 3832, 1089, 1914, 6266, 1452, 340, 4145, 992, 590, 5845, 3742, 2784, 4464, 6329, 3271, 6426, 2314, 1490, 2168, 753, 4489, 2153, 2349, 1838, 3700, 914, 1381, 2571, 3679, 3137, 4077, 2411, 182, 1781, 215, 2533, 5079, 188, 5289, 5313, 2164, 5034, 5617, 5238, 3020, 1511, 2984, 3368, 4661, 3947, 5631, 784, 3407, 114, 5514, 3565, 3621, 1762, 2113, 3108, 890, 4974, 4884, 1317, 6363, 3285, 5011, 1523, 4497, 4895, 3196, 2175, 1342, 2103, 339, 2920, 1240, 4227, 5764, 1981, 3807, 6435, 4498, 517, 2453, 4867, 5023, 179, 2596, 1131, 511, 6370, 1958, 3490, 745, 4398, 1434, 3264, 3143, 2949, 2574, 213, 2544, 4603, 3384, 5449, 4070, 343, 2716, 1996, 4776, 2548, 3555, 4224, 690, 187, 5116, 4826, 3349, 297, 4441, 5835, 4354, 1380, 2262, 3214, 3190, 1056, 2768, 1904, 1124, 1399, 6196, 5318, 2390, 771, 3676, 5126, 2633, 4544, 6505, 6490, 4131, 3188, 3275, 2722, 1928, 6132, 6141, 3561, 5558, 563, 686, 2416, 927, 4852, 4534, 5474, 2170, 3962, 4740, 1432, 1738, 1817, 2283, 3421, 5802, 4499, 2888, 1951, 6539, 5950, 565, 3066, 3383, 4334, 3331, 2126, 1661, 5124, 2814, 1890, 3342, 484, 6127, 1420, 836, 1672, 6264, 5720, 1862, 2795, 1774, 3805, 4652, 5591, 6270, 3430, 4324, 700, 6129, 1583, 521, 3820, 6277, 4301, 6379, 5718, 1411, 4670, 4097, 4217, 522, 1210, 4358, 3901, 884, 4877, 185, 5590, 6120, 1938, 2739, 2406, 3995, 5880, 429, 586, 774, 2372, 1205, 3489, 6549, 5196, 1293, 4438, 3491, 5522, 5469, 2564, 6542, 117, 1824, 3534, 6179, 1982, 5424, 1355, 4419, 18, 3998, 770, 3752, 1507, 6522, 780, 3606, 2592, 5304, 1346, 4975, 5562, 1038, 790, 3596, 609, 4289, 1257, 4461, 2482, 3045, 2553, 3644, 4695, 4504, 4213, 3674, 4818, 4627, 1092, 4567, 4890, 290, 4472, 2093, 1259, 1322, 2359, 1693, 5793, 3586, 3943, 6466, 1034, 2943, 2991, 4138, 4821, 1549, 4133, 3450, 1042, 6248, 6083, 5340, 4784, 2491, 2265, 1565, 2901, 286, 4292, 4314, 4736, 4397, 1506, 5856, 1735, 5777, 5863, 794, 4751, 2699, 5779, 5175, 4817, 5106, 3577, 5131, 6191, 4188, 6190, 106, 2990, 4116, 6131, 688, 4950, 2496, 679, 3453, 1797, 3217, 4536, 3182, 716, 2959, 439, 126, 5701, 2174, 224, 5792, 4990, 3678, 829, 1829, 3714, 1860, 1710, 841, 4889, 4568, 6169, 2899, 6546, 2076, 3415, 6457, 314, 1934, 5612, 2012, 1189, 1177, 3915, 6015, 5556, 1187, 389, 4802, 4702, 5865, 5787, 99, 2986, 3031, 3668, 76, 2552, 3684, 2946, 2576, 3145, 3475, 2942, 4701, 2894, 3944, 309, 2785, 4947, 3054, 1008, 444, 6189, 5956, 3536, 3906, 1377, 5754, 5274, 1236, 3720, 2639, 1009, 1923, 2137, 3821, 4387, 5971, 6039, 1024, 2849, 645, 3142, 4204, 1792, 1822, 4574, 3080, 6023, 4437, 993, 5351, 3163, 2821, 5151, 4054, 4997, 3523, 404, 1955, 26, 3269, 3754, 254, 1569, 3064, 2273, 2190, 2845, 3253, 6521, 2086, 4139, 473, 346, 4605, 4418, 2609, 3654, 4278, 2668, 1324, 2326, 4203, 4864, 4629, 1097, 5604, 172, 3949, 6454, 1414, 5423, 310, 1079, 5030, 4470, 5867, 1170, 510, 6409, 2930, 2987, 2250, 2043, 2581, 4189, 2233, 1447, 4261, 56, 377, 4984, 4858, 6049, 1788, 6425, 528, 2245, 40, 4403, 3894, 4223, 3828, 2507, 6247, 2248, 4531, 4378, 1484, 190, 1461, 2868, 272, 2287, 5593, 2420, 386, 6519, 2604, 5833, 3635, 2954, 3047, 2611, 1216, 2655, 4804, 3681, 5803, 2509, 3439, 2919, 2982, 5877, 3952, 1435, 6214, 110, 604, 3525, 6461, 1084, 4394, 1777, 5220, 963, 1164, 1369, 3793, 2025, 105, 1614, 6258, 3281, 1698, 302, 3734, 775, 3335, 6347, 714, 3477, 4057, 6140, 3318, 2940, 1899, 3297, 782, 3811, 5209, 3692, 356, 6543, 1532, 1136, 942, 948, 5611, 6031, 5066, 4976, 4552, 5397, 4851, 2357, 2531, 3864, 2621, 1605, 4169, 5849, 375, 5422, 1190, 4971, 2136, 2276, 4336, 227, 6518, 2038, 3563, 5294, 2034, 1666, 5113, 6455, 3302, 2866, 1371, 588, 6531, 5383, 3570, 4572, 3613, 1728, 5953, 4943, 630, 3761, 1908, 5150, 685, 674, 4786, 4752, 2856, 1612, 100, 1412, 6339, 4964, 5753, 3459, 3250, 2238, 2698, 6210, 485, 1427, 1270, 6006, 3211, 2911, 3016, 3594, 1652, 593, 4081, 1014, 2697, 3702, 5346, 6328, 1617, 5866, 1209, 3241, 6441, 2773, 3314, 2779, 5026, 1113, 2268, 2486, 2927, 456, 5010, 2914, 4962, 3177, 3564, 4312, 4024, 4708, 1675, 5560, 6089, 3533, 6520, 5728, 6255, 2155, 2683, 646, 5638, 194, 3168, 3837, 6102, 2831, 6237, 4042, 614, 2750, 4955, 2015, 1767, 637, 6514, 2618, 463, 4581, 4159, 1272, 3582, 2333, 2116, 920, 5677, 5965, 4056, 3546, 3836, 2090, 3827, 1090, 3808, 910, 2607, 3802, 4957, 6042, 5286, 1021, 5372, 2794, 6182, 3736, 3155, 111, 3447, 4602, 6185, 6345, 2993, 2054, 756, 3153, 5632, 2271, 3745, 306, 3173, 2394, 796, 3161, 223, 5649, 4832, 3007, 2475, 3822, 870, 582, 1492, 5094, 5592, 128, 1028, 2389, 5542, 5508, 3434, 4251, 1770, 2797, 3346, 378, 3509, 2566, 4391, 2191, 197, 6452, 3794, 3252, 2436, 3175, 1247, 2396, 6046, 5433, 2652, 1989, 2726, 2594, 4506, 5645, 3986, 4588, 4228, 4452, 4747, 4304, 4937, 675, 875, 6204, 4908, 1836, 2833, 2327, 5097, 4127, 3048, 2263, 1218, 5018, 1684, 5183, 4037, 3247, 73, 4009, 2922, 2998, 93, 3914, 4130, 6422, 2662, 5860, 776, 3218, 3408, 3024, 583, 589, 3261, 5752, 142, 3176, 1694, 3231, 4899, 5187, 4487, 592, 5108, 5967, 1046, 5614, 6207, 2017, 670, 4813, 1700, 1179, 4458, 6378, 3959, 5292, 4030, 3592, 4295, 5506, 5887, 4300, 6523, 2434, 3581, 3860, 3912, 1607, 143, 1851, 2505, 3785, 5376, 5368, 6530, 1907, 5277, 4542, 1011, 5640, 6194, 371, 507, 2497, 4911, 432, 502, 4393, 1203, 2433, 369, 5684, 5721, 4399, 3433, 1299, 707, 431, 5375, 2598, 1947, 1649, 4118, 1525, 5695, 5846, 4716, 2926, 1809, 2858, 791, 23, 937, 1571, 1685, 4442, 3449, 2230, 3880, 4238, 5889, 5929, 2963, 6018, 3268, 2354, 5858, 3642, 1687, 263, 5886, 4796, 5811, 3812, 3506, 3317, 3724, 6219, 4357, 3428, 2687, 4909, 4717, 6058, 3291, 1274, 2529, 2709, 724, 1903, 3436, 4936, 5806, 4932, 4274, 5732, 5344, 2827, 1517, 599, 1727, 2254, 4486, 4440, 3361, 323, 276, 3446, 2039, 2792, 4338, 2659, 95, 6197, 6338, 6184, 2715, 4052, 206, 3348, 4798, 3276, 3092, 5202, 4731, 1001, 6113, 1972, 3590, 5212, 5149, 2742, 3274, 5269, 229, 1621, 3473, 4809, 843, 6137, 5059, 5222, 191, 6504, 4443, 6099, 4829, 295, 3886, 6217, 748, 5221, 118, 6105, 5100, 1992, 6501, 4614, 1993, 2620, 2777, 5930, 1030, 6550, 6117, 1035, 3626, 4791, 58, 2783, 6285, 617, 3982, 4649, 4050, 2968, 4700, 4171, 4563, 4566, 1213, 997, 3324, 2206, 6376, 2893, 3541, 3010, 2290, 1743, 3664, 3457, 4855, 2252, 6382, 1253, 956, 2237, 671, 2847, 5702, 2908, 2844, 833, 4548, 5303, 4781, 5675, 2791, 5143, 5724, 2988, 5715, 352, 3722, 3466, 698, 5979, 3388, 208, 3025, 2807, 518, 3398, 1940, 2399, 4303, 3574, 5925, 4173, 4186, 4321, 5068, 4582, 43, 1072, 990, 3107, 5072, 4448, 2393, 6541, 1858, 3946, 3382, 4220, 6364, 1983, 2737, 3029, 4374, 5722, 5946, 3315, 1029, 3683, 4529, 3486, 1422, 2122, 2019, 1830, 5791, 2391, 2528, 5064, 2449, 2713, 3809, 5790, 1431, 5564, 4501, 3653, 2427, 5554, 5712, 4221, 628, 2256, 2879, 1023, 3918, 1834, 202, 301, 4787, 4869, 1630, 551, 3005, 5472, 1087, 5994, 2915, 4659, 3141, 5896, 4737, 6369, 2167, 3748, 3172, 4630, 5025, 2997, 3293, 3940, 2143, 1813, 2580, 5103, 4979, 3186, 2397, 1713, 4782, 1628, 1918, 5892, 1157, 3671, 3206, 4212, 4715, 1186, 3721, 4043, 2669, 5234, 131, 4074, 2260, 2613, 3631, 1658, 2961, 4687, 5864, 4833, 4215, 1102, 3965, 1941, 1267, 3632, 3737, 550, 5404, 3547, 4888, 278, 281, 4415, 2231, 1711, 6251, 1356, 6134, 357, 3055, 4379, 2975, 2660, 4087, 467, 594, 220, 3229, 934, 5266, 4308, 2036, 4061, 2431, 2970, 1988, 3803, 3209, 3011, 6348, 228, 2223, 6192, 2258, 6173, 1404, 627, 1842, 390, 885, 3618, 1282, 2632, 6019, 4342, 5345, 995, 855, 6193, 2680, 803, 1352, 1825, 754, 5070, 2556, 2630, 1543, 6372, 3708, 3160, 2112, 923, 3567, 5487, 4553, 4811, 4970, 4668, 777, 5800, 4384, 1292, 3942, 6057, 6460, 4463, 5555, 2511, 2261, 1075, 1875, 1592, 4478, 2513, 940, 112, 4456, 971, 3341, 3554, 3538, 4225, 2022, 3437, 2835, 3566, 2139, 3399, 4815, 3390, 1303, 2764, 4697, 3784, 474, 667, 2325, 5442, 3953, 2358, 5467, 4985, 1289, 4473, 2906, 4275, 3977, 120, 2667, 1351, 2684, 544, 3306, 5948, 4860, 6208, 5625, 299, 1665, 3221, 2189, 6167, 3003, 1984, 3539, 3243, 4546, 70, 1533, 2232, 5548, 5624, 4142, 1701, 1812, 4436, 2007, 4897, 3418, 5037, 3089, 4900, 4637, 4951, 4110, 618, 6271, 3892, 3504, 5622, 3230, 6420, 2746, 4356, 5215, 3857, 2194, 4326, 1786, 3117, 1423, 4893, 2075, 6458, 3945, 4155, 115, 596, 2642, 3991, 6175, 2483, 2532, 2537, 3159, 5314, 5782, 2180, 3062, 15, 1481, 1384, 3649, 4500, 1906, 2976, 3402, 2957, 1598, 1348, 3625, 5955, 3989, 1004, 3707, 5465, 2300, 6526, 2346, 4615, 3109, 3866, 2811, 3364, 6306, 1504, 1976, 5355, 6261, 1337, 2398, 4983, 4543, 3255, 3687, 4609, 1688, 5884, 5021, 1026, 3465, 2288, 1868, 4413, 6125, 2003, 2439, 3786, 6220, 136, 6511, 6212, 5180, 6223, 1505, 6101, 5637, 3537, 6406, 2761, 2198, 4376, 2978, 2610, 4475, 4401, 2515, 3704, 3403, 6110, 42, 6469, 98, 677, 5620, 1125, 274, 3725, 3083, 1350, 4505, 5223, 1206, 3256, 2417, 3262, 1122, 4089, 385, 2499, 1844, 2872, 2141, 1347, 5353, 5834, 6499, 1503, 5210, 532, 6419, 3874, 5969, 615, 3499, 3735, 6045, 3118, 964, 4339, 255, 3614, 1421, 4327, 472, 5468, 3543, 6178, 4309, 1793, 5518, 4194, 1932, 5878, 4113, 4616, 2217, 1647, 3975, 6138, 1415, 2602, 6009, 1931, 557, 2568, 2890, 5350, 2150, 4525, 2388, 1345, 2185, 6180, 509, 3575, 728, 5306, 231, 691, 2836, 1453, 757, 4330, 3508, 2793, 713, 3980, 876, 2443, 3835, 603, 3583, 3128, 3666, 5298, 3789, 1448, 2614, 2156, 4624, 2495, 3134, 4248, 5293, 4913, 4467, 2882, 723, 5536, 1383, 1733, 3395, 4658, 2881, 4144, 1922, 5455, 1745, 198, 3035, 1334, 5730, 2063, 955, 3019, 5206, 4583, 1454, 1331, 5914, 6508, 501, 5768, 4337, 936, 3046, 2939, 3795, 3560, 3452, 53, 1857, 4115, 4790, 4977, 5265, 2912, 4738, 5755, 2335, 2362, 1333, 4712, 3655, 6284, 141, 2682, 4172, 2801, 1132, 5310, 3474, 6304, 4335, 2096, 2410, 219, 5869, 3697, 5464, 2366, 5055, 5291, 3099, 3417, 4579, 953, 279, 6414, 5400, 2572, 1527, 4992, 3012, 795, 3115, 886, 4527, 5703, 3004, 3629, 5016, 4669, 4242, 2743, 4555, 3913, 3078, 5107, 2303, 6091, 4564, 4036, 5406, 3454, 4779, 5756, 3355, 104, 3065, 3968, 5505, 4297, 2337, 6036, 5699, 2603, 4364, 1096, 3717, 2028, 4236, 5095, 1047, 1544, 36, 2115, 4576, 60, 2958, 2749, 4769, 644, 4253, 2044, 6517, 2702, 6163, 530, 1653, 668, 6352, 5058, 1765, 912, 504, 4450, 5693, 2612, 3018, 1129, 3423, 1784, 1831, 5110, 4190, 1987, 2452, 5317, 773, 4718, 5628, 2078, 726, 2286, 4201, 1182, 5177, 5178, 3865, 2577, 2270, 2472, 4770, 5795, 1948, 4705, 4137, 6336, 6424, 5872, 3197, 3826, 1500, 3718, 4459, 4626, 2011, 5687, 3659, 2412, 3753, 3420, 4681, 5810, 6343, 3212, 2088, 4033, 1185, 2732, 3244, 6213, 3226, 2778, 6077, 1048, 2771, 4088, 3576, 4331, 2924, 4963, 3958, 345, 420, 1590, 4090, 2934, 470, 1214, 4281, 4408, 1548, 2171, 5552, 2658, 113, 1514, 5243, 3140, 6513, 1541, 4973, 130, 1709, 5963, 2502, 2301, 1052, 6503, 6252, 4422, 3178, 4257, 1668, 2782, 1973, 4059, 2554, 1832, 5937, 4619, 6342, 31, 4333, 3039, 123, 5947, 4417, 3916, 336, 1183, 1610, 5272, 4015, 1264, 3227, 5568, 1581, 3425, 3072, 2072, 1515, 1778, 2569, 5385, 5651, 759, 4294, 5633, 2665, 1015, 3076, 1269, 6075, 1997, 1044, 4093, 175, 3591, 828, 1168, 5136, 3814, 4235, 5046, 5125, 6289, 6108, 2202, 71, 4607, 257, 6367, 681, 5378, 6296, 3378, 4106, 4460, 2207, 5916, 3694, 5224, 6104, 2009, 3070, 4904, 6423, 2631, 6260, 6453, 1258, 2479, 2979, 2636, 3501, 2178, 4425, 1944, 5362, 2994, 5962, 2563, 4875, 5881, 6294, 3483, 1443, 1286, 785, 4380, 4988, 5434, 4451, 3059, 1262, 4749, 608, 5945, 4206, 5012, 4986, 6551, 5813, 2980, 1650, 3413, 6383, 6544, 5190, 5689, 3830, 2570, 2061, 5354, 2321, 4714, 5311, 440, 3978, 2806, 5974, 2341, 66, 5205, 2589, 2278, 6506, 4283, 4205, 5557, 379, 2903, 180, 2595, 1111, 2510, 5559, 1819, 1362, 4146, 6355, 3455, 2489, 1104, 1416, 3859, 3585, 1740, 5959, 3071, 1595, 3237, 1407, 4371, 4386, 1320, 2219, 5374, 3696, 3476, 1094, 4073, 1892, 2241, 2425, 6324, 5398, 535, 5480, 4383, 5283, 341, 3545, 6359, 5263, 2255, 5137, 3767, 3790, 121, 3550, 2026, 1410, 2841, 4768, 1017, 5876, 2587, 2013, 6547, 3747, 3587, 5569, 3127, 755, 4389, 4775, 5282, 4368, 5567, 5148, 2843, 3148, 5923, 523, 3056, 3503, 539, 2147, 2177, 1419, 2070, 2159, 4051, 72, 2651, 5130, 4709, 2675, 687, 4793, 5179, 6381, 2973, 1446, 4048, 4485, 4022, 1290, 5458, 421, 5048, 1855, 5995, 2583, 4273, 3225, 6275, 5067, 2815, 3919, 4797, 2728, 2985, 2220, 5626, 525, 4272, 3371, 4570, 1848, 4739, 1103, 2247, 1198, 5970, 2329, 6465, 1926, 1516, 2382, 3060, 3870, 5470, 1246, 3746, 4179, 3258, 5596, 635, 1138, 3628, 2829, 3634, 1933, 6097, 3438, 5716, 2281, 6486, 710, 585, 4108, 2421, 94, 3770, 2649, 946, 2065, 3101, 6280, 1302, 4703, 4733, 3593, 6106, 2451, 5471, 5641, 1869, 4367, 2454, 1629, 1726, 3850, 3260, 938, 3719, 5029, 6206, 3251, 5634, 2446, 5315, 2729, 1184, 2938, 3810, 96, 1823, 1116, 605, 1202, 3026, 883, 2634, 2501, 831, 64, 1752, 6356, 4361, 918, 5789, 3648, 3067, 4810, 526, 2259, 3061, 1596, 832, 3833, 2605, 4122, 844, 2867, 1891, 5968, 4689, 6439, 33, 5185, 3106, 3519, 6448, 2686, 768, 2444, 3204, 1758, 3246, 4222, 2898, 5785, 3412, 2120, 4882, 271, 2690, 4650, 1332, 3223, 5751, 4245, 5851, 519, 1437, 4604, 3602, 4938, 2688, 368, 5045, 6545, 3203, 2315, 3984, 5478, 3257, 2282, 4462, 663, 3530, 1540, 3580, 207, 344, 387, 151, 1550, 177, 607, 1620, 3239, 5917, 148, 5997, 2770, 4484, 1660, 4647, 1285, 5365, 5297, 3972, 3558, 453, 4424, 1174, 2619, 1591, 3357, 5225, 5891, 37, 3673, 2383, 6484, 3624, 218, 1402, 1050, 926, 2182, 5428, 3123, 2084, 5357, 1909, 4621, 1252, 3379, 5323, 1695, 1291, 2422, 293, 6282, 4969, 4989, 534, 947, 4323, 65, 4946, 5077, 5861, 5371, 2289, 204, 3584, 184, 5857, 192, 6114, 1319, 5181, 4199, 5685, 1528, 4622, 2328, 3779, 5485, 5127, 5302, 1744, 5145, 4351, 3562, 1110, 1815, 22, 2432, 1406, 6094, 2363, 5141, 3154, 5623, 2163, 150, 4528, 2657, 555, 2734, 2138, 2929, 3669, 1424, 107, 6136, 3569, 393, 5363, 1587, 2485, 6525, 1118, 3279, 5879, 766, 1645, 5098, 6020, 2826, 4318, 5798, 1405, 788, 3776, 5074, 3970, 1572, 5940, 1526, 3657, 4034, 2832, 137, 2617, 6516, 3460, 2944, 2774, 465, 2883, 1577, 3170, 1994, 2830, 5219, 887, 6211, 3015, 6436, 3923, 2285, 1007, 4625, 2874, 2392, 3931, 174, 5391, 464, 5013, 5093, 2222, 3189, 4092, 3041, 50, 2149, 4392, 524, 2257, 4164, 1730, 5915, 4902, 127, 3006, 269, 5603, 5837, 2166, 6133, 2316, 4856, 1782, 4965, 3208, 6388, 835, 2322, 370, 3463, 4012, 2331, 4161, 6493, 4933, 1130, 6548, 712, 1212, 3289, 4007, 5197, 6050, 6202, 1867, 4846, 3532, 610, 3549, 3652, 4587, 34, 4685, 3096, 3898, 1250, 1276, 3097, 4980, 4648, 2685, 3411, 449, 760, 6532, 2599, 4082, 5812, 4343, 4085, 2145, 2854, 3493, 5713, 1671, 5936, 704, 3354, 1178, 6278, 1494, 97, 2274, 6346, 6244, 968, 2514, 4249, 4586, 67, 4857, 1664, 2193, 1776, 3167, 1808, 4618, 6103, 5696, 1357, 4910, 4219, 1663, 4296, 193, 14, 2058, 2643, 3353, 6445, 4635, 2522, 2470, 3895, 4537, 715, 552, 5278, 6087, 1016, 6428, 6467, 1327, 4120, 6416, 1173, 1602, 6010, 4777, 3165, 1372, 3387, 1095, 232, 1873, 4065, 1248, 4765, 3322, 3619, 1957, 3759, 3873, 5195, 2918, 3623, 2681, 483, 6012, 2056, 1496, 6221, 5134, 5977, 2100, 1736, 2117, 367, 2277, 3431, 312, 3528, 1910, 3171, 2530, 4409, 6174, 3125, 1134, 1401, 6488, 135, 4967, 2558, 5482, 5208, 1522, 3824, 1156, 3999, 437, 2562, 2710, 2840, 3300, 3295, 2819, 3036, 5191, 2119, 856, 2674, 4049, 5460, 3426, 3301, 1945, 267, 4823, 2757, 3042, 3104, 4894, 949, 6172, 842, 5609, 2187, 3397, 6415, 1491, 5801, 3512, 2060, 48, 1155, 2023, 6340, 2395, 6269, 3000, 1006, 951, 873, 3838, 4612, 3414, 2242, 972, 5099, 3879, 666, 3743, 5771, 424, 5301, 4233, 3712, 2085, 237, 4526, 727, 3693, 1002, 4954, 3166, 5783, 4972, 1194, 1338, 1794, 1692, 4982, 6327, 2573, 1751, 1495, 6021, 5260, 5032, 4014, 4748, 6268, 6051, 2179, 5541, 4683, 4706, 3022, 1961, 178, 5050, 4491, 6438, 1344, 4578, 3391, 1403, 2802, 4978, 4287, 3400, 3074, 1531, 4256, 6256, 6385, 3589, 2759, 6502, 2758, 4704, 4453, 3082, 3356, 2763, 4518, 5847, 779, 2152, 5859, 45, 827, 1898, 4547, 4388, 3215, 2317, 4390, 5873, 1379, 2367, 4934, 1624, 5259, 2673, 1626, 6443, 778, 122, 2977, 2917, 5486, 939, 1098, 5123, 1408, 3588, 4284, 3843, 4600, 5146, 5228, 1033, 5462, 3744, 1105, 5776, 1977, 3871, 2775, 102, 1032, 3132, 3069, 19, 854, 611, 10, 5102, 1913, 5267, 2484, 5814, 2600, 1489, 3542, 3184, 359, 3497, 4435, 28, 4416, 3842, 3782, 5073, 636, 5217, 2862, 2055, 1219, 5874, 5646, 4940, 1429, 5063, 3960, 4847, 695, 1175, 3213, 4147, 3265, 4421, 46, 6509, 2999, 2272, 1442, 4488, 6181, 1012, 2947, 6464, 1193, 6272, 3825, 2229, 4062, 4124, 1623, 195, 2031, 5553, 5711, 4914, 2430, 4665, 697, 2637, 5405, 3461, 6353, 3872, 3750, 2441, 1715, 305, 849, 6183, 3699, 3135, 1707, 376, 1606, 6035, 1013, 3845, 5551, 2455, 4151, 288, 1597, 3058, 5370, 1366, 426, 119, 1673, 3517, 6302, 4644, 2848, 1176, 4771, 6404, 1942, 3667, 2069, 3207, 468, 3716, 3703, 6171, 6447, 5051, 2092, 4848, 4439, 2736, 2073, 1850, 4474, 6224, 2466, 1750, 2218, 2526, 6267, 2672, 3524, 2401, 1244, 6362, 6485, 966, 3638, 5444, 6371, 3988, 6084, 260, 3233, 311, 5524, 6052, 6188, 613, 2582, 6413, 6432, 4178, 2253, 1163, 3911, 6121, 2936, 2195, 259, 6297, 5882, 5942, 4117, 6007, 4906, 1795, 600, 2068, 4132, 4187, 1814, 2996, 2873, 338, 4104, 2822, 5924, 6287, 6491, 2246, 1930, 3456, 2419, 68, 4628, 542, 1037, 4686, 2476, 5128, 2140, 149, 2428, 6003, 6524, 450, 1859, 1376, 418, 6537, 5060, 5271, 2474, 3014, 5399, 4608, 1426, 4707, 3763, 1874, 6403, 5312, 1712, 4783, 3286, 3102, 264, 2490, 6358, 4807, 4540, 5047, 4363, 3818, 5054, 77, 616, 2851, 4381, 3234, 1055, 9, 2104, 4126, 4575, 5778, 3540, 4863, 1005, 5504, 2909, 4545, 1080, 3777, 2269, 5233, 4280, 6366, 672, 2307, 2545, 256, 1100, 3406, 868, 1864, 4521, 5388, 2971, 2712, 3136, 6122, 2465, 1287, 4774, 3819, 129, 529, 1108, 4803, 6375, 3791, 3731, 2666, 631, 3899, 545, 6032, 2032, 4325, 6301, 5214, 1609, 1585, 6417, 4112, 1242, 4340, 6095, 2671, 3739, 2365, 5972, 4177, 846, 5704, 5527, 1341, 2029, 1436, 2719, 1975, 5975, 1991, 1409, 4105, 2249, 564, 3405, 3376, 3513, 1295, 2102, 6437, 1689, 1358, 2426, 3551, 664, 6449, 4688, 4198, 5670, 1657, 74, 5481, 6427, 2974, 2711, 2209, 5808, 1425, 1741, 3443, 2402, 4167, 1570, 3755, 275, 3480, 620, 4094, 3798, 3732, 772, 4269, 2512, 5733, 5875, 2244, 430, 2933, 4580, 4728, 683, 2308, 1821, 5295, 3152, 5843, 6243, 6259, 5729, 2766, 3050, 4623, 4601, 5453, 5517, 2161, 4598, 2450, 6130, 2099, 2962, 3781, 3266, 5139, 3698, 3435, 5671, 4176, 5459, 606, 2356, 4931, 3787, 3131, 2708, 5038, 289, 1433, 6250, 2780, 1451, 4259, 5096, 1705, 4662, 3882, 3174, 5402, 6128, 2923, 5140, 3556, 848, 1916, 6536, 5938, 434, 5386, 1086, 1169, 3149, 6344, 3068, 3967, 4149, 1990, 6535, 476, 5022, 6123, 623, 3641, 5452, 543, 4573, 5523, 4457, 4698, 374, 5848, 915, 2627, 4229, 1833, 5118, 2932, 6013, 1756, 1584, 3259, 4109, 869, 3363, 6054, 2762, 222, 1925, 3340, 1465, 51, 3091, 4028, 2124, 2469, 3607, 1978, 867, 546, 5525, 3119, 3610, 2338, 173, 4032, 4483, 6016, 146, 5389, 6331, 3129, 3238, 2523, 5589, 4571, 5683, 554, 2925, 3185, 3505, 4004, 5893, 1946, 4079, 5939, 2747, 3139, 1835, 6166, 3017, 5305, 4789, 2615, 2387, 1536, 4305, 5635, 5135, 4239, 3611, 1837, 6387, 3867, 4710, 5438, 1353, 2597, 1101, 3595, 3270, 3236, 2208, 442, 5543, 4854, 689, 3521, 3861, 3728, 1463, 3925, 396, 4643, 4003, 47, 2111, 3114, 362, 5019, 6412, 4143, 3941, 6292, 2524, 2385, 1771, 5964, 2950, 2900, 3792, 6253, 783, 2087, 5290, 5513, 5477, 1763, 1683, 3841, 3997, 2670, 1588, 5320, 5927, 273, 3930, 2741, 2098, 5913, 5610, 6060, 4276, 3615, 4250, 2020, 6165, 1458, 1846, 438, 6446, 3900, 1518, 1449, 2239, 1513, 5766, 457, 4655, 5401, 1349, 3579, 5426, 6533, 3210, 1667, 4778, 6515, 2172, 5232, 3839, 4174, 3897, 1273, 3310, 503, 4352, 4414, 809, 5531, 5466, 6004, 1627, 5960, 6538, 2227, 2313, 4541, 2221, 2106, 4306, 4395, 747, 4125, 4805, 6024]\n",
      "test ids:  [0, 1, 2, 3, 4, 5, 6, 7, 8, 78, 79, 80, 81, 82, 83, 84, 85, 86, 87, 88, 89, 90, 158, 159, 160, 161, 162, 163, 164, 165, 166, 167, 168, 169, 170, 171, 238, 239, 240, 241, 242, 243, 244, 245, 246, 247, 248, 249, 250, 251, 252, 253, 318, 319, 320, 321, 322, 324, 325, 326, 327, 328, 329, 330, 331, 332, 333, 334, 335, 398, 399, 400, 401, 402, 405, 406, 407, 408, 409, 410, 411, 412, 413, 414, 415, 416, 417, 478, 479, 480, 481, 482, 486, 487, 488, 489, 490, 491, 492, 493, 494, 495, 496, 497, 498, 499, 558, 559, 560, 561, 562, 567, 568, 569, 570, 571, 572, 573, 574, 575, 576, 577, 578, 579, 580, 638, 639, 640, 641, 642, 648, 649, 650, 651, 652, 653, 654, 655, 656, 657, 658, 659, 660, 661, 662, 718, 719, 720, 721, 722, 729, 730, 731, 732, 733, 734, 735, 736, 737, 738, 739, 740, 741, 742, 743, 744, 798, 799, 800, 801, 802, 810, 811, 812, 813, 814, 815, 816, 817, 818, 819, 820, 821, 822, 823, 824, 825, 826, 878, 879, 880, 881, 882, 892, 893, 894, 895, 896, 897, 898, 899, 900, 901, 902, 903, 904, 905, 906, 907, 908, 958, 959, 960, 961, 962, 974, 975, 976, 977, 978, 979, 980, 981, 982, 983, 984, 985, 986, 987, 988, 989, 1039, 1040, 1041, 1057, 1058, 1059, 1060, 1061, 1062, 1063, 1064, 1065, 1066, 1067, 1068, 1069, 1070, 1071, 1119, 1120, 1121, 1139, 1140, 1141, 1142, 1143, 1144, 1145, 1146, 1147, 1148, 1149, 1150, 1151, 1152, 1153, 1199, 1200, 1201, 1221, 1222, 1223, 1224, 1225, 1226, 1227, 1228, 1229, 1230, 1231, 1232, 1233, 1234, 1235, 1279, 1280, 1281, 1304, 1305, 1306, 1307, 1308, 1309, 1310, 1311, 1312, 1313, 1314, 1315, 1316, 1359, 1360, 1361, 1386, 1387, 1388, 1389, 1390, 1391, 1392, 1393, 1394, 1395, 1396, 1397, 1398, 1439, 1440, 1441, 1469, 1470, 1471, 1472, 1473, 1474, 1475, 1476, 1477, 1478, 1479, 1480, 1519, 1520, 1521, 1551, 1552, 1553, 1554, 1555, 1556, 1557, 1558, 1559, 1560, 1561, 1562, 1599, 1600, 1601, 1633, 1634, 1635, 1636, 1637, 1638, 1639, 1640, 1641, 1642, 1643, 1644, 1679, 1680, 1681, 1716, 1717, 1718, 1719, 1720, 1721, 1722, 1723, 1724, 1725, 1759, 1760, 1761, 1798, 1799, 1800, 1801, 1802, 1803, 1804, 1805, 1806, 1807, 1839, 1840, 1841, 1880, 1881, 1882, 1883, 1884, 1885, 1886, 1887, 1888, 1889, 1919, 1920, 1921, 1963, 1964, 1965, 1966, 1967, 1968, 1969, 1970, 1971, 1999, 2000, 2001, 2045, 2046, 2047, 2048, 2049, 2050, 2051, 2052, 2053, 2079, 2080, 2081, 2127, 2128, 2129, 2130, 2131, 2132, 2133, 2134, 2160, 2210, 2211, 2212, 2213, 2214, 2215, 2216, 2240, 2292, 2293, 2294, 2295, 2296, 2297, 2298, 2320, 2375, 2376, 2377, 2378, 2379, 2380, 2400, 2457, 2458, 2459, 2460, 2461, 2462, 2480, 2539, 2540, 2541, 2542, 2543, 2560, 2622, 2623, 2624, 2625, 2640, 2704, 2705, 2706, 2707, 2720, 2786, 2787, 2788, 2789, 2800, 2869, 2870, 2871, 2880, 2951, 2952, 2960, 3033, 3034, 3040, 3116, 3120, 3198, 3200, 3280, 3360, 3362, 3440, 3444, 3520, 3526, 3527, 3600, 3608, 3609, 3680, 3689, 3690, 3691, 3760, 3771, 3772, 3773, 3774, 3840, 3853, 3854, 3855, 3856, 3920, 3935, 3936, 3937, 3938, 4000, 4017, 4018, 4019, 4020, 4021, 4080, 4098, 4099, 4100, 4101, 4102, 4103, 4160, 4180, 4181, 4182, 4183, 4184, 4185, 4240, 4262, 4263, 4264, 4265, 4266, 4267, 4268, 4320, 4344, 4345, 4346, 4347, 4348, 4349, 4350, 4400, 4426, 4427, 4428, 4429, 4430, 4431, 4432, 4433, 4479, 4480, 4481, 4507, 4508, 4509, 4510, 4511, 4512, 4513, 4514, 4515, 4559, 4560, 4561, 4589, 4590, 4591, 4592, 4593, 4594, 4595, 4596, 4597, 4639, 4640, 4641, 4671, 4672, 4673, 4674, 4675, 4676, 4677, 4678, 4679, 4680, 4719, 4720, 4721, 4753, 4754, 4755, 4756, 4757, 4758, 4759, 4760, 4761, 4762, 4799, 4800, 4801, 4835, 4836, 4837, 4838, 4839, 4840, 4841, 4842, 4843, 4844, 4879, 4880, 4881, 4916, 4917, 4918, 4919, 4920, 4921, 4922, 4923, 4924, 4925, 4926, 4927, 4959, 4960, 4961, 4998, 4999, 5000, 5001, 5002, 5003, 5004, 5005, 5006, 5007, 5008, 5009, 5039, 5040, 5041, 5080, 5081, 5082, 5083, 5084, 5085, 5086, 5087, 5088, 5089, 5090, 5091, 5119, 5120, 5121, 5162, 5163, 5164, 5165, 5166, 5167, 5168, 5169, 5170, 5171, 5172, 5173, 5174, 5199, 5200, 5201, 5244, 5245, 5246, 5247, 5248, 5249, 5250, 5251, 5252, 5253, 5254, 5255, 5256, 5279, 5280, 5281, 5325, 5326, 5327, 5328, 5329, 5330, 5331, 5332, 5333, 5334, 5335, 5336, 5337, 5338, 5339, 5359, 5360, 5361, 5407, 5408, 5409, 5410, 5411, 5412, 5413, 5414, 5415, 5416, 5417, 5418, 5419, 5420, 5421, 5439, 5440, 5441, 5489, 5490, 5491, 5492, 5493, 5494, 5495, 5496, 5497, 5498, 5499, 5500, 5501, 5502, 5503, 5519, 5520, 5521, 5571, 5572, 5573, 5574, 5575, 5576, 5577, 5578, 5579, 5580, 5581, 5582, 5583, 5584, 5585, 5586, 5598, 5599, 5600, 5601, 5602, 5652, 5653, 5654, 5655, 5656, 5657, 5658, 5659, 5660, 5661, 5662, 5663, 5664, 5665, 5666, 5667, 5668, 5678, 5679, 5680, 5681, 5682, 5734, 5735, 5736, 5737, 5738, 5739, 5740, 5741, 5742, 5743, 5744, 5745, 5746, 5747, 5748, 5749, 5750, 5758, 5759, 5760, 5761, 5762, 5816, 5817, 5818, 5819, 5820, 5821, 5822, 5823, 5824, 5825, 5826, 5827, 5828, 5829, 5830, 5831, 5838, 5839, 5840, 5841, 5842, 5898, 5899, 5900, 5901, 5902, 5903, 5904, 5905, 5906, 5907, 5908, 5909, 5910, 5911, 5912, 5918, 5919, 5920, 5921, 5922, 5980, 5981, 5982, 5983, 5984, 5985, 5986, 5987, 5988, 5989, 5990, 5991, 5992, 5993, 5998, 5999, 6000, 6001, 6002, 6061, 6062, 6063, 6064, 6065, 6066, 6067, 6068, 6069, 6070, 6071, 6072, 6073, 6074, 6078, 6079, 6080, 6081, 6082, 6143, 6144, 6145, 6146, 6147, 6148, 6149, 6150, 6151, 6152, 6153, 6154, 6155, 6158, 6159, 6160, 6161, 6162, 6225, 6226, 6227, 6228, 6229, 6230, 6231, 6232, 6233, 6234, 6235, 6236, 6238, 6239, 6240, 6241, 6242, 6307, 6308, 6309, 6310, 6311, 6312, 6313, 6314, 6315, 6316, 6317, 6318, 6319, 6320, 6321, 6322, 6389, 6390, 6391, 6392, 6393, 6394, 6395, 6396, 6397, 6398, 6399, 6400, 6401, 6402, 6470, 6471, 6472, 6473, 6474, 6475, 6476, 6477, 6478, 6479, 6480, 6481, 6482, 6552, 6553, 6554, 6555, 6556, 6557, 6558, 6559, 6560]\n",
      "CPU times: user 166 ms, sys: 12 ms, total: 178 ms\n",
      "Wall time: 177 ms\n"
     ]
    }
   ],
   "source": [
    "%%time\n",
    "n_total = len(simulation.dataframe)\n",
    "n_train = len(simulation.dataframe[simulation.dataframe.type_of == \"train\"])\n",
    "n_val = len(simulation.dataframe[simulation.dataframe.type_of == \"val\"])\n",
    "n_test = len(simulation.dataframe[simulation.dataframe.type_of == \"test\"])\n",
    "n_train_hamiltonians = len(simulation.train_ids)\n",
    "n_val_hamiltonians = len(simulation.val_ids)\n",
    "n_test_hamiltonians = len(simulation.test_ids)\n",
    "n_total_hamiltonians = n_train_hamiltonians + n_val_hamiltonians + n_test_hamiltonians\n",
    "\n",
    "print(\"% train: \", n_train/n_total)\n",
    "print(\"% val: \",  n_val/n_total)\n",
    "print(\"% test: \", n_test/n_total)\n",
    "print(\"% train + val + test: \", (n_train+n_val+n_test)/n_total)\n",
    "print(\"\\n\")\n",
    "print(\"number of train hamiltonians: \", n_train_hamiltonians)\n",
    "print(\"number of val hamiltonians: \", n_val_hamiltonians)\n",
    "print(\"number of test hamiltonians: \", n_test_hamiltonians)\n",
    "print(\"total number of hamiltonians: \", n_total_hamiltonians)\n",
    "print(\"\\n\")\n",
    "print(\"train ids: \", simulation.train_ids)\n",
    "print(\"val ids: \", simulation.val_ids)\n",
    "print(\"test ids: \", simulation.test_ids)"
   ]
  },
  {
   "cell_type": "markdown",
   "metadata": {
    "papermill": {
     "duration": 0.037651,
     "end_time": "2020-07-08T06:02:55.466390",
     "exception": false,
     "start_time": "2020-07-08T06:02:55.428739",
     "status": "completed"
    },
    "tags": []
   },
   "source": [
    "#### Checking summaries"
   ]
  },
  {
   "cell_type": "code",
   "execution_count": 27,
   "metadata": {
    "execution": {
     "iopub.execute_input": "2020-07-08T06:02:55.540661Z",
     "iopub.status.busy": "2020-07-08T06:02:55.540348Z",
     "iopub.status.idle": "2020-07-08T06:02:55.558529Z",
     "shell.execute_reply": "2020-07-08T06:02:55.558779Z"
    },
    "papermill": {
     "duration": 0.056266,
     "end_time": "2020-07-08T06:02:55.558847",
     "exception": false,
     "start_time": "2020-07-08T06:02:55.502581",
     "status": "completed"
    },
    "tags": []
   },
   "outputs": [
    {
     "name": "stdout",
     "output_type": "stream",
     "text": [
      "length of ham_summary:  6561\n",
      "CPU times: user 87 µs, sys: 0 ns, total: 87 µs\n",
      "Wall time: 61.3 µs\n"
     ]
    },
    {
     "data": {
      "text/html": [
       "<div>\n",
       "<style scoped>\n",
       "    .dataframe tbody tr th:only-of-type {\n",
       "        vertical-align: middle;\n",
       "    }\n",
       "\n",
       "    .dataframe tbody tr th {\n",
       "        vertical-align: top;\n",
       "    }\n",
       "\n",
       "    .dataframe thead th {\n",
       "        text-align: right;\n",
       "    }\n",
       "</style>\n",
       "<table border=\"1\" class=\"dataframe\">\n",
       "  <thead>\n",
       "    <tr style=\"text-align: right;\">\n",
       "      <th></th>\n",
       "      <th>t1</th>\n",
       "      <th>t2</th>\n",
       "      <th>type_of</th>\n",
       "      <th>0</th>\n",
       "      <th>1</th>\n",
       "      <th>phase</th>\n",
       "      <th>pred_phase</th>\n",
       "    </tr>\n",
       "    <tr>\n",
       "      <th>id</th>\n",
       "      <th></th>\n",
       "      <th></th>\n",
       "      <th></th>\n",
       "      <th></th>\n",
       "      <th></th>\n",
       "      <th></th>\n",
       "      <th></th>\n",
       "    </tr>\n",
       "  </thead>\n",
       "  <tbody>\n",
       "    <tr>\n",
       "      <th>0</th>\n",
       "      <td>-2.0</td>\n",
       "      <td>-2.00</td>\n",
       "      <td>test</td>\n",
       "      <td>0.53</td>\n",
       "      <td>0.47</td>\n",
       "      <td>999</td>\n",
       "      <td>0</td>\n",
       "    </tr>\n",
       "    <tr>\n",
       "      <th>1</th>\n",
       "      <td>-2.0</td>\n",
       "      <td>-1.95</td>\n",
       "      <td>test</td>\n",
       "      <td>0.54</td>\n",
       "      <td>0.46</td>\n",
       "      <td>0</td>\n",
       "      <td>0</td>\n",
       "    </tr>\n",
       "    <tr>\n",
       "      <th>2</th>\n",
       "      <td>-2.0</td>\n",
       "      <td>-1.90</td>\n",
       "      <td>test</td>\n",
       "      <td>0.56</td>\n",
       "      <td>0.44</td>\n",
       "      <td>0</td>\n",
       "      <td>0</td>\n",
       "    </tr>\n",
       "    <tr>\n",
       "      <th>3</th>\n",
       "      <td>-2.0</td>\n",
       "      <td>-1.85</td>\n",
       "      <td>test</td>\n",
       "      <td>0.55</td>\n",
       "      <td>0.45</td>\n",
       "      <td>0</td>\n",
       "      <td>0</td>\n",
       "    </tr>\n",
       "    <tr>\n",
       "      <th>4</th>\n",
       "      <td>-2.0</td>\n",
       "      <td>-1.80</td>\n",
       "      <td>test</td>\n",
       "      <td>0.55</td>\n",
       "      <td>0.45</td>\n",
       "      <td>0</td>\n",
       "      <td>0</td>\n",
       "    </tr>\n",
       "    <tr>\n",
       "      <th>...</th>\n",
       "      <td>...</td>\n",
       "      <td>...</td>\n",
       "      <td>...</td>\n",
       "      <td>...</td>\n",
       "      <td>...</td>\n",
       "      <td>...</td>\n",
       "      <td>...</td>\n",
       "    </tr>\n",
       "    <tr>\n",
       "      <th>6556</th>\n",
       "      <td>2.0</td>\n",
       "      <td>1.80</td>\n",
       "      <td>test</td>\n",
       "      <td>0.58</td>\n",
       "      <td>0.42</td>\n",
       "      <td>0</td>\n",
       "      <td>0</td>\n",
       "    </tr>\n",
       "    <tr>\n",
       "      <th>6557</th>\n",
       "      <td>2.0</td>\n",
       "      <td>1.85</td>\n",
       "      <td>test</td>\n",
       "      <td>0.54</td>\n",
       "      <td>0.46</td>\n",
       "      <td>0</td>\n",
       "      <td>0</td>\n",
       "    </tr>\n",
       "    <tr>\n",
       "      <th>6558</th>\n",
       "      <td>2.0</td>\n",
       "      <td>1.90</td>\n",
       "      <td>test</td>\n",
       "      <td>0.57</td>\n",
       "      <td>0.43</td>\n",
       "      <td>0</td>\n",
       "      <td>0</td>\n",
       "    </tr>\n",
       "    <tr>\n",
       "      <th>6559</th>\n",
       "      <td>2.0</td>\n",
       "      <td>1.95</td>\n",
       "      <td>test</td>\n",
       "      <td>0.51</td>\n",
       "      <td>0.49</td>\n",
       "      <td>0</td>\n",
       "      <td>0</td>\n",
       "    </tr>\n",
       "    <tr>\n",
       "      <th>6560</th>\n",
       "      <td>2.0</td>\n",
       "      <td>2.00</td>\n",
       "      <td>test</td>\n",
       "      <td>0.48</td>\n",
       "      <td>0.52</td>\n",
       "      <td>999</td>\n",
       "      <td>1</td>\n",
       "    </tr>\n",
       "  </tbody>\n",
       "</table>\n",
       "<p>6561 rows × 7 columns</p>\n",
       "</div>"
      ],
      "text/plain": [
       "       t1    t2 type_of     0     1  phase  pred_phase\n",
       "id                                                    \n",
       "0    -2.0 -2.00    test  0.53  0.47    999           0\n",
       "1    -2.0 -1.95    test  0.54  0.46      0           0\n",
       "2    -2.0 -1.90    test  0.56  0.44      0           0\n",
       "3    -2.0 -1.85    test  0.55  0.45      0           0\n",
       "4    -2.0 -1.80    test  0.55  0.45      0           0\n",
       "...   ...   ...     ...   ...   ...    ...         ...\n",
       "6556  2.0  1.80    test  0.58  0.42      0           0\n",
       "6557  2.0  1.85    test  0.54  0.46      0           0\n",
       "6558  2.0  1.90    test  0.57  0.43      0           0\n",
       "6559  2.0  1.95    test  0.51  0.49      0           0\n",
       "6560  2.0  2.00    test  0.48  0.52    999           1\n",
       "\n",
       "[6561 rows x 7 columns]"
      ]
     },
     "execution_count": 27,
     "metadata": {},
     "output_type": "execute_result"
    }
   ],
   "source": [
    "%%time\n",
    "ham_summary = simulation.hamiltonian_summary\n",
    "print(\"length of ham_summary: \", len(ham_summary))\n",
    "ham_summary"
   ]
  },
  {
   "cell_type": "code",
   "execution_count": 28,
   "metadata": {
    "execution": {
     "iopub.execute_input": "2020-07-08T06:02:55.635640Z",
     "iopub.status.busy": "2020-07-08T06:02:55.635332Z",
     "iopub.status.idle": "2020-07-08T06:02:55.662077Z",
     "shell.execute_reply": "2020-07-08T06:02:55.661758Z"
    },
    "papermill": {
     "duration": 0.065714,
     "end_time": "2020-07-08T06:02:55.662130",
     "exception": false,
     "start_time": "2020-07-08T06:02:55.596416",
     "status": "completed"
    },
    "tags": []
   },
   "outputs": [
    {
     "data": {
      "text/html": [
       "<div>\n",
       "<style scoped>\n",
       "    .dataframe tbody tr th:only-of-type {\n",
       "        vertical-align: middle;\n",
       "    }\n",
       "\n",
       "    .dataframe tbody tr th {\n",
       "        vertical-align: top;\n",
       "    }\n",
       "\n",
       "    .dataframe thead th {\n",
       "        text-align: right;\n",
       "    }\n",
       "</style>\n",
       "<table border=\"1\" class=\"dataframe\">\n",
       "  <thead>\n",
       "    <tr style=\"text-align: right;\">\n",
       "      <th></th>\n",
       "      <th>t1</th>\n",
       "      <th>t2</th>\n",
       "      <th>0</th>\n",
       "      <th>1</th>\n",
       "      <th>phase</th>\n",
       "      <th>pred_phase</th>\n",
       "    </tr>\n",
       "  </thead>\n",
       "  <tbody>\n",
       "    <tr>\n",
       "      <th>count</th>\n",
       "      <td>6561.000000</td>\n",
       "      <td>6.561000e+03</td>\n",
       "      <td>6561.000000</td>\n",
       "      <td>6561.000000</td>\n",
       "      <td>6561.000000</td>\n",
       "      <td>6561.000000</td>\n",
       "    </tr>\n",
       "    <tr>\n",
       "      <th>mean</th>\n",
       "      <td>0.000000</td>\n",
       "      <td>-4.331917e-18</td>\n",
       "      <td>0.528897</td>\n",
       "      <td>0.471103</td>\n",
       "      <td>25.002134</td>\n",
       "      <td>0.499924</td>\n",
       "    </tr>\n",
       "    <tr>\n",
       "      <th>std</th>\n",
       "      <td>1.169134</td>\n",
       "      <td>1.169134e+00</td>\n",
       "      <td>0.322027</td>\n",
       "      <td>0.322027</td>\n",
       "      <td>154.495657</td>\n",
       "      <td>0.500038</td>\n",
       "    </tr>\n",
       "    <tr>\n",
       "      <th>min</th>\n",
       "      <td>-2.000000</td>\n",
       "      <td>-2.000000e+00</td>\n",
       "      <td>0.040000</td>\n",
       "      <td>0.000000</td>\n",
       "      <td>0.000000</td>\n",
       "      <td>0.000000</td>\n",
       "    </tr>\n",
       "    <tr>\n",
       "      <th>25%</th>\n",
       "      <td>-1.000000</td>\n",
       "      <td>-1.000000e+00</td>\n",
       "      <td>0.210000</td>\n",
       "      <td>0.140000</td>\n",
       "      <td>0.000000</td>\n",
       "      <td>0.000000</td>\n",
       "    </tr>\n",
       "    <tr>\n",
       "      <th>50%</th>\n",
       "      <td>0.000000</td>\n",
       "      <td>0.000000e+00</td>\n",
       "      <td>0.500000</td>\n",
       "      <td>0.500000</td>\n",
       "      <td>1.000000</td>\n",
       "      <td>0.000000</td>\n",
       "    </tr>\n",
       "    <tr>\n",
       "      <th>75%</th>\n",
       "      <td>1.000000</td>\n",
       "      <td>1.000000e+00</td>\n",
       "      <td>0.860000</td>\n",
       "      <td>0.790000</td>\n",
       "      <td>1.000000</td>\n",
       "      <td>1.000000</td>\n",
       "    </tr>\n",
       "    <tr>\n",
       "      <th>max</th>\n",
       "      <td>2.000000</td>\n",
       "      <td>2.000000e+00</td>\n",
       "      <td>1.000000</td>\n",
       "      <td>0.960000</td>\n",
       "      <td>999.000000</td>\n",
       "      <td>1.000000</td>\n",
       "    </tr>\n",
       "  </tbody>\n",
       "</table>\n",
       "</div>"
      ],
      "text/plain": [
       "                t1            t2            0            1        phase  \\\n",
       "count  6561.000000  6.561000e+03  6561.000000  6561.000000  6561.000000   \n",
       "mean      0.000000 -4.331917e-18     0.528897     0.471103    25.002134   \n",
       "std       1.169134  1.169134e+00     0.322027     0.322027   154.495657   \n",
       "min      -2.000000 -2.000000e+00     0.040000     0.000000     0.000000   \n",
       "25%      -1.000000 -1.000000e+00     0.210000     0.140000     0.000000   \n",
       "50%       0.000000  0.000000e+00     0.500000     0.500000     1.000000   \n",
       "75%       1.000000  1.000000e+00     0.860000     0.790000     1.000000   \n",
       "max       2.000000  2.000000e+00     1.000000     0.960000   999.000000   \n",
       "\n",
       "        pred_phase  \n",
       "count  6561.000000  \n",
       "mean      0.499924  \n",
       "std       0.500038  \n",
       "min       0.000000  \n",
       "25%       0.000000  \n",
       "50%       0.000000  \n",
       "75%       1.000000  \n",
       "max       1.000000  "
      ]
     },
     "execution_count": 28,
     "metadata": {},
     "output_type": "execute_result"
    }
   ],
   "source": [
    "ham_summary.describe()"
   ]
  },
  {
   "cell_type": "code",
   "execution_count": 29,
   "metadata": {
    "execution": {
     "iopub.execute_input": "2020-07-08T06:02:55.739297Z",
     "iopub.status.busy": "2020-07-08T06:02:55.738987Z",
     "iopub.status.idle": "2020-07-08T06:02:55.753571Z",
     "shell.execute_reply": "2020-07-08T06:02:55.753250Z"
    },
    "papermill": {
     "duration": 0.053778,
     "end_time": "2020-07-08T06:02:55.753623",
     "exception": false,
     "start_time": "2020-07-08T06:02:55.699845",
     "status": "completed"
    },
    "tags": []
   },
   "outputs": [
    {
     "name": "stdout",
     "output_type": "stream",
     "text": [
      "length of ham_summary:  656100\n"
     ]
    },
    {
     "data": {
      "text/html": [
       "<div>\n",
       "<style scoped>\n",
       "    .dataframe tbody tr th:only-of-type {\n",
       "        vertical-align: middle;\n",
       "    }\n",
       "\n",
       "    .dataframe tbody tr th {\n",
       "        vertical-align: top;\n",
       "    }\n",
       "\n",
       "    .dataframe thead th {\n",
       "        text-align: right;\n",
       "    }\n",
       "</style>\n",
       "<table border=\"1\" class=\"dataframe\">\n",
       "  <thead>\n",
       "    <tr style=\"text-align: right;\">\n",
       "      <th></th>\n",
       "      <th>id</th>\n",
       "      <th>phase</th>\n",
       "      <th>pred_phase</th>\n",
       "      <th>type_of</th>\n",
       "    </tr>\n",
       "  </thead>\n",
       "  <tbody>\n",
       "    <tr>\n",
       "      <th>0</th>\n",
       "      <td>0</td>\n",
       "      <td>999</td>\n",
       "      <td>0</td>\n",
       "      <td>test</td>\n",
       "    </tr>\n",
       "    <tr>\n",
       "      <th>1</th>\n",
       "      <td>0</td>\n",
       "      <td>999</td>\n",
       "      <td>0</td>\n",
       "      <td>test</td>\n",
       "    </tr>\n",
       "    <tr>\n",
       "      <th>2</th>\n",
       "      <td>0</td>\n",
       "      <td>999</td>\n",
       "      <td>0</td>\n",
       "      <td>test</td>\n",
       "    </tr>\n",
       "    <tr>\n",
       "      <th>3</th>\n",
       "      <td>0</td>\n",
       "      <td>999</td>\n",
       "      <td>0</td>\n",
       "      <td>test</td>\n",
       "    </tr>\n",
       "    <tr>\n",
       "      <th>4</th>\n",
       "      <td>0</td>\n",
       "      <td>999</td>\n",
       "      <td>0</td>\n",
       "      <td>test</td>\n",
       "    </tr>\n",
       "    <tr>\n",
       "      <th>...</th>\n",
       "      <td>...</td>\n",
       "      <td>...</td>\n",
       "      <td>...</td>\n",
       "      <td>...</td>\n",
       "    </tr>\n",
       "    <tr>\n",
       "      <th>656095</th>\n",
       "      <td>6560</td>\n",
       "      <td>999</td>\n",
       "      <td>1</td>\n",
       "      <td>test</td>\n",
       "    </tr>\n",
       "    <tr>\n",
       "      <th>656096</th>\n",
       "      <td>6560</td>\n",
       "      <td>999</td>\n",
       "      <td>0</td>\n",
       "      <td>test</td>\n",
       "    </tr>\n",
       "    <tr>\n",
       "      <th>656097</th>\n",
       "      <td>6560</td>\n",
       "      <td>999</td>\n",
       "      <td>0</td>\n",
       "      <td>test</td>\n",
       "    </tr>\n",
       "    <tr>\n",
       "      <th>656098</th>\n",
       "      <td>6560</td>\n",
       "      <td>999</td>\n",
       "      <td>1</td>\n",
       "      <td>test</td>\n",
       "    </tr>\n",
       "    <tr>\n",
       "      <th>656099</th>\n",
       "      <td>6560</td>\n",
       "      <td>999</td>\n",
       "      <td>1</td>\n",
       "      <td>test</td>\n",
       "    </tr>\n",
       "  </tbody>\n",
       "</table>\n",
       "<p>656100 rows × 4 columns</p>\n",
       "</div>"
      ],
      "text/plain": [
       "          id  phase  pred_phase type_of\n",
       "0          0    999           0    test\n",
       "1          0    999           0    test\n",
       "2          0    999           0    test\n",
       "3          0    999           0    test\n",
       "4          0    999           0    test\n",
       "...      ...    ...         ...     ...\n",
       "656095  6560    999           1    test\n",
       "656096  6560    999           0    test\n",
       "656097  6560    999           0    test\n",
       "656098  6560    999           1    test\n",
       "656099  6560    999           1    test\n",
       "\n",
       "[656100 rows x 4 columns]"
      ]
     },
     "execution_count": 29,
     "metadata": {},
     "output_type": "execute_result"
    }
   ],
   "source": [
    "eigen_summary = simulation.eigenvector_summary\n",
    "print(\"length of ham_summary: \", len(eigen_summary))\n",
    "eigen_summary"
   ]
  },
  {
   "cell_type": "markdown",
   "metadata": {
    "papermill": {
     "duration": 0.037294,
     "end_time": "2020-07-08T06:02:55.828108",
     "exception": false,
     "start_time": "2020-07-08T06:02:55.790814",
     "status": "completed"
    },
    "tags": []
   },
   "source": [
    "#### Checking accuracies"
   ]
  },
  {
   "cell_type": "code",
   "execution_count": 30,
   "metadata": {
    "execution": {
     "iopub.execute_input": "2020-07-08T06:02:55.906601Z",
     "iopub.status.busy": "2020-07-08T06:02:55.906284Z",
     "iopub.status.idle": "2020-07-08T06:02:55.916452Z",
     "shell.execute_reply": "2020-07-08T06:02:55.916704Z"
    },
    "papermill": {
     "duration": 0.050621,
     "end_time": "2020-07-08T06:02:55.916772",
     "exception": false,
     "start_time": "2020-07-08T06:02:55.866151",
     "status": "completed"
    },
    "tags": []
   },
   "outputs": [
    {
     "data": {
      "text/plain": [
       "{'eigenvector_train': 0.9735611510791367,\n",
       " 'eigenvector_val': 0.822584,\n",
       " 'eigenvector_test': 0.5911848341232228,\n",
       " 'hamiltonian_train': 0.9982014388489209,\n",
       " 'hamiltonian_val': 0.9954,\n",
       " 'hamiltonian_test': 0.9360189573459715}"
      ]
     },
     "execution_count": 30,
     "metadata": {},
     "output_type": "execute_result"
    }
   ],
   "source": [
    "simulation.accuracy"
   ]
  },
  {
   "cell_type": "markdown",
   "metadata": {
    "papermill": {
     "duration": 0.038196,
     "end_time": "2020-07-08T06:02:55.993253",
     "exception": false,
     "start_time": "2020-07-08T06:02:55.955057",
     "status": "completed"
    },
    "tags": []
   },
   "source": [
    "#### Checking data stored in  memory"
   ]
  },
  {
   "cell_type": "code",
   "execution_count": 31,
   "metadata": {
    "execution": {
     "iopub.execute_input": "2020-07-08T06:02:56.075639Z",
     "iopub.status.busy": "2020-07-08T06:02:56.075330Z",
     "iopub.status.idle": "2020-07-08T06:02:56.085671Z",
     "shell.execute_reply": "2020-07-08T06:02:56.085971Z"
    },
    "papermill": {
     "duration": 0.050943,
     "end_time": "2020-07-08T06:02:56.086036",
     "exception": false,
     "start_time": "2020-07-08T06:02:56.035093",
     "status": "completed"
    },
    "tags": []
   },
   "outputs": [
    {
     "data": {
      "text/plain": [
       "[]"
      ]
     },
     "execution_count": 31,
     "metadata": {},
     "output_type": "execute_result"
    }
   ],
   "source": [
    "ham_summary_list = simulation.hamiltonian_summary_list\n",
    "ham_summary_list"
   ]
  },
  {
   "cell_type": "code",
   "execution_count": 32,
   "metadata": {
    "execution": {
     "iopub.execute_input": "2020-07-08T06:02:56.163544Z",
     "iopub.status.busy": "2020-07-08T06:02:56.163236Z",
     "iopub.status.idle": "2020-07-08T06:02:56.173289Z",
     "shell.execute_reply": "2020-07-08T06:02:56.173591Z"
    },
    "papermill": {
     "duration": 0.049632,
     "end_time": "2020-07-08T06:02:56.173658",
     "exception": false,
     "start_time": "2020-07-08T06:02:56.124026",
     "status": "completed"
    },
    "tags": []
   },
   "outputs": [
    {
     "data": {
      "text/plain": [
       "[]"
      ]
     },
     "execution_count": 32,
     "metadata": {},
     "output_type": "execute_result"
    }
   ],
   "source": [
    "eigen_summary_list = simulation.eigenvector_summary_list\n",
    "eigen_summary_list"
   ]
  },
  {
   "cell_type": "code",
   "execution_count": 33,
   "metadata": {
    "execution": {
     "iopub.execute_input": "2020-07-08T06:02:56.252559Z",
     "iopub.status.busy": "2020-07-08T06:02:56.252227Z",
     "iopub.status.idle": "2020-07-08T06:02:56.262229Z",
     "shell.execute_reply": "2020-07-08T06:02:56.262482Z"
    },
    "papermill": {
     "duration": 0.050207,
     "end_time": "2020-07-08T06:02:56.262549",
     "exception": false,
     "start_time": "2020-07-08T06:02:56.212342",
     "status": "completed"
    },
    "tags": []
   },
   "outputs": [
    {
     "data": {
      "text/plain": [
       "{'eigenvector_train': [],\n",
       " 'eigenvector_val': [],\n",
       " 'eigenvector_test': [],\n",
       " 'hamiltonian_train': [],\n",
       " 'hamiltonian_val': [],\n",
       " 'hamiltonian_test': []}"
      ]
     },
     "execution_count": 33,
     "metadata": {},
     "output_type": "execute_result"
    }
   ],
   "source": [
    "accuracy_list = simulation.accuracy_list\n",
    "accuracy_list"
   ]
  },
  {
   "cell_type": "code",
   "execution_count": null,
   "metadata": {
    "papermill": {
     "duration": 0.037758,
     "end_time": "2020-07-08T06:02:56.338458",
     "exception": false,
     "start_time": "2020-07-08T06:02:56.300700",
     "status": "completed"
    },
    "tags": []
   },
   "outputs": [],
   "source": []
  },
  {
   "cell_type": "code",
   "execution_count": null,
   "metadata": {
    "papermill": {
     "duration": 0.038913,
     "end_time": "2020-07-08T06:02:56.416401",
     "exception": false,
     "start_time": "2020-07-08T06:02:56.377488",
     "status": "completed"
    },
    "tags": []
   },
   "outputs": [],
   "source": []
  },
  {
   "cell_type": "code",
   "execution_count": 34,
   "metadata": {
    "execution": {
     "iopub.execute_input": "2020-07-08T06:02:56.495342Z",
     "iopub.status.busy": "2020-07-08T06:02:56.495036Z",
     "iopub.status.idle": "2020-07-08T06:02:56.504606Z",
     "shell.execute_reply": "2020-07-08T06:02:56.504267Z"
    },
    "papermill": {
     "duration": 0.049855,
     "end_time": "2020-07-08T06:02:56.504662",
     "exception": false,
     "start_time": "2020-07-08T06:02:56.454807",
     "status": "completed"
    },
    "tags": []
   },
   "outputs": [],
   "source": [
    "#simulation.fourier_matrix"
   ]
  },
  {
   "cell_type": "code",
   "execution_count": 35,
   "metadata": {
    "execution": {
     "iopub.execute_input": "2020-07-08T06:02:56.591020Z",
     "iopub.status.busy": "2020-07-08T06:02:56.590693Z",
     "iopub.status.idle": "2020-07-08T06:02:56.609847Z",
     "shell.execute_reply": "2020-07-08T06:02:56.609507Z"
    },
    "papermill": {
     "duration": 0.06235,
     "end_time": "2020-07-08T06:02:56.609902",
     "exception": false,
     "start_time": "2020-07-08T06:02:56.547552",
     "status": "completed"
    },
    "tags": []
   },
   "outputs": [],
   "source": [
    "#simulation.fourier_matrix.shape"
   ]
  },
  {
   "cell_type": "code",
   "execution_count": 36,
   "metadata": {
    "execution": {
     "iopub.execute_input": "2020-07-08T06:02:56.690117Z",
     "iopub.status.busy": "2020-07-08T06:02:56.689809Z",
     "iopub.status.idle": "2020-07-08T06:02:56.717722Z",
     "shell.execute_reply": "2020-07-08T06:02:56.718047Z"
    },
    "papermill": {
     "duration": 0.067864,
     "end_time": "2020-07-08T06:02:56.718117",
     "exception": false,
     "start_time": "2020-07-08T06:02:56.650253",
     "status": "completed"
    },
    "tags": []
   },
   "outputs": [],
   "source": [
    "#simulation.fourier_matrix[:,0]"
   ]
  },
  {
   "cell_type": "code",
   "execution_count": 37,
   "metadata": {
    "execution": {
     "iopub.execute_input": "2020-07-08T06:02:56.804416Z",
     "iopub.status.busy": "2020-07-08T06:02:56.804096Z",
     "iopub.status.idle": "2020-07-08T06:02:56.813961Z",
     "shell.execute_reply": "2020-07-08T06:02:56.813637Z"
    },
    "papermill": {
     "duration": 0.050078,
     "end_time": "2020-07-08T06:02:56.814014",
     "exception": false,
     "start_time": "2020-07-08T06:02:56.763936",
     "status": "completed"
    },
    "tags": []
   },
   "outputs": [],
   "source": [
    "#simulation.fourier_matrix[:,1]"
   ]
  },
  {
   "cell_type": "code",
   "execution_count": 38,
   "metadata": {
    "execution": {
     "iopub.execute_input": "2020-07-08T06:02:57.010696Z",
     "iopub.status.busy": "2020-07-08T06:02:57.008997Z",
     "iopub.status.idle": "2020-07-08T06:02:57.108007Z",
     "shell.execute_reply": "2020-07-08T06:02:57.109720Z"
    },
    "papermill": {
     "duration": 0.257793,
     "end_time": "2020-07-08T06:02:57.110027",
     "exception": false,
     "start_time": "2020-07-08T06:02:56.852234",
     "status": "completed"
    },
    "tags": []
   },
   "outputs": [],
   "source": [
    "#np.exp(-1j*2*np.pi*3/100)"
   ]
  },
  {
   "cell_type": "code",
   "execution_count": 39,
   "metadata": {
    "execution": {
     "iopub.execute_input": "2020-07-08T06:02:57.228825Z",
     "iopub.status.busy": "2020-07-08T06:02:57.228510Z",
     "iopub.status.idle": "2020-07-08T06:02:57.237979Z",
     "shell.execute_reply": "2020-07-08T06:02:57.238283Z"
    },
    "papermill": {
     "duration": 0.050956,
     "end_time": "2020-07-08T06:02:57.238351",
     "exception": false,
     "start_time": "2020-07-08T06:02:57.187395",
     "status": "completed"
    },
    "tags": []
   },
   "outputs": [],
   "source": [
    "#for i in range(1,50):\n",
    "#    print(\"\\n\")\n",
    "#    print(i)\n",
    "#    print(np.sum((np.real(simulation.fourier_matrix[:,i]) - np.real(simulation.fourier_matrix[:,-i]))**2))\n",
    "#    print(np.sum((np.imag(simulation.fourier_matrix[:,i])+ np.imag(simulation.fourier_matrix[:,-i]))**2))"
   ]
  },
  {
   "cell_type": "code",
   "execution_count": 40,
   "metadata": {
    "execution": {
     "iopub.execute_input": "2020-07-08T06:02:57.316987Z",
     "iopub.status.busy": "2020-07-08T06:02:57.316678Z",
     "iopub.status.idle": "2020-07-08T06:02:57.338961Z",
     "shell.execute_reply": "2020-07-08T06:02:57.338642Z"
    },
    "papermill": {
     "duration": 0.062173,
     "end_time": "2020-07-08T06:02:57.339013",
     "exception": false,
     "start_time": "2020-07-08T06:02:57.276840",
     "status": "completed"
    },
    "tags": []
   },
   "outputs": [
    {
     "name": "stdout",
     "output_type": "stream",
     "text": [
      "[1. 1. 1. 1. 1. 1. 1. 1. 1. 1. 1. 1. 1. 1. 1. 1. 1. 1. 1. 1. 1. 1. 1. 1.\n",
      " 1. 1. 1. 1. 1. 1. 1. 1. 1. 1. 1. 1. 1. 1. 1. 1. 1. 1. 1. 1. 1. 1. 1. 1.\n",
      " 1. 1. 1.]\n"
     ]
    }
   ],
   "source": [
    "print(simulation.fourier_matrix[:,0])"
   ]
  },
  {
   "cell_type": "code",
   "execution_count": 41,
   "metadata": {
    "execution": {
     "iopub.execute_input": "2020-07-08T06:02:57.420176Z",
     "iopub.status.busy": "2020-07-08T06:02:57.419684Z",
     "iopub.status.idle": "2020-07-08T06:02:57.494782Z",
     "shell.execute_reply": "2020-07-08T06:02:57.494154Z"
    },
    "papermill": {
     "duration": 0.116387,
     "end_time": "2020-07-08T06:02:57.494855",
     "exception": true,
     "start_time": "2020-07-08T06:02:57.378468",
     "status": "failed"
    },
    "tags": []
   },
   "outputs": [
    {
     "ename": "IndexError",
     "evalue": "index 50 is out of bounds for axis 1 with size 26",
     "output_type": "error",
     "traceback": [
      "\u001b[0;31m---------------------------------------------------------------------------\u001b[0m",
      "\u001b[0;31mIndexError\u001b[0m                                Traceback (most recent call last)",
      "\u001b[0;32m<ipython-input-41-133273929b96>\u001b[0m in \u001b[0;36m<module>\u001b[0;34m\u001b[0m\n\u001b[0;32m----> 1\u001b[0;31m \u001b[0mprint\u001b[0m\u001b[0;34m(\u001b[0m\u001b[0msimulation\u001b[0m\u001b[0;34m.\u001b[0m\u001b[0mfourier_matrix\u001b[0m\u001b[0;34m[\u001b[0m\u001b[0;34m:\u001b[0m\u001b[0;34m,\u001b[0m\u001b[0;36m50\u001b[0m\u001b[0;34m]\u001b[0m\u001b[0;34m)\u001b[0m\u001b[0;34m\u001b[0m\u001b[0;34m\u001b[0m\u001b[0m\n\u001b[0m",
      "\u001b[0;31mIndexError\u001b[0m: index 50 is out of bounds for axis 1 with size 26"
     ]
    }
   ],
   "source": [
    "print(simulation.fourier_matrix[:,50])"
   ]
  },
  {
   "cell_type": "code",
   "execution_count": null,
   "metadata": {
    "papermill": {
     "duration": null,
     "end_time": null,
     "exception": null,
     "start_time": null,
     "status": "pending"
    },
    "tags": []
   },
   "outputs": [],
   "source": []
  }
 ],
 "metadata": {
  "celltoolbar": "Tags",
  "kernelspec": {
   "display_name": "ml_top_phases",
   "language": "python",
   "name": "ml_top_phases"
  },
  "language_info": {
   "codemirror_mode": {
    "name": "ipython",
    "version": 3
   },
   "file_extension": ".py",
   "mimetype": "text/x-python",
   "name": "python",
   "nbconvert_exporter": "python",
   "pygments_lexer": "ipython3",
   "version": "3.6.10"
  },
  "papermill": {
   "duration": 704.377535,
   "end_time": "2020-07-08T06:02:57.711859",
   "environment_variables": {},
   "exception": true,
   "input_path": "0_simulation_template.ipynb",
   "output_path": "zzz_simulation_output_ssh1_3rd_scenario_100_6561.ipynb",
   "parameters": {
    "allowed_windings": [
     0,
     1
    ],
    "csv_path": "/home/rio/ssh_csvs/ssh1/periodic_100_6561.csv",
    "features_to_use": null,
    "fillna": false,
    "fit_params": null,
    "fourier_features": [
     0,
     2,
     4,
     6,
     8,
     10,
     12,
     14,
     16,
     18,
     20,
     22,
     24,
     26,
     28,
     30,
     32,
     34,
     36,
     38,
     40,
     42,
     44,
     46,
     48,
     50
    ],
    "mode": "dct",
    "model_kw": {
     "criterion": "entropy"
    },
    "model_name": "DecisionTreeClassifier",
    "n_experiments": 100,
    "normalize": false,
    "pred_params": null,
    "random_features": false,
    "random_state": 34896,
    "real": false,
    "save_accuracy": true,
    "save_eigenvector": true,
    "save_hamiltonian": true,
    "save_models": true,
    "shuffle_features": false,
    "shuffle_rows": true,
    "simulation_dir": "/home/rio/ssh_simulations/ssh1/periodic_3rd_scenario_100_6561",
    "start_n": 0,
    "store_in_lists": false,
    "val_split": 0.9
   },
   "start_time": "2020-07-08T05:51:13.334324",
   "version": "2.1.0"
  }
 },
 "nbformat": 4,
 "nbformat_minor": 2
}