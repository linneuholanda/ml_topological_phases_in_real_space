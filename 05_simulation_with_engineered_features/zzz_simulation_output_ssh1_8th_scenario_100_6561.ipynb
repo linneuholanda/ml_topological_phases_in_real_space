{
 "cells": [
  {
   "cell_type": "markdown",
   "metadata": {
    "papermill": {
     "duration": 0.054862,
     "end_time": "2020-07-09T18:36:23.404110",
     "exception": false,
     "start_time": "2020-07-09T18:36:23.349248",
     "status": "completed"
    },
    "tags": []
   },
   "source": [
    "# Simulation template \n",
    "\n",
    "In this notebook we run the machine learning analysis of topological phase transitions occurring  in both nearest-neighbours SSH models (ssh1) and second neighbours models (ssh2) as decribed in the paper [Machine learning topological phases in real space](https://arxiv.org/abs/1901.01963). Here the simulation is run with features generated from fourier components in the first scenario. This scenario is characterized by using only the EVEN wavevector space eigenmodes, computed from ALL real space components."
   ]
  },
  {
   "cell_type": "markdown",
   "metadata": {
    "papermill": {
     "duration": 0.015403,
     "end_time": "2020-07-09T18:36:23.439280",
     "exception": false,
     "start_time": "2020-07-09T18:36:23.423877",
     "status": "completed"
    },
    "tags": []
   },
   "source": [
    "## Defining parameters"
   ]
  },
  {
   "cell_type": "code",
   "execution_count": 1,
   "metadata": {
    "execution": {
     "iopub.execute_input": "2020-07-09T18:36:23.472805Z",
     "iopub.status.busy": "2020-07-09T18:36:23.472486Z",
     "iopub.status.idle": "2020-07-09T18:36:24.059881Z",
     "shell.execute_reply": "2020-07-09T18:36:24.060183Z"
    },
    "papermill": {
     "duration": 0.605618,
     "end_time": "2020-07-09T18:36:24.060251",
     "exception": false,
     "start_time": "2020-07-09T18:36:23.454633",
     "status": "completed"
    },
    "tags": []
   },
   "outputs": [
    {
     "name": "stdout",
     "output_type": "stream",
     "text": [
      "CPU times: user 744 ms, sys: 274 ms, total: 1.02 s\n",
      "Wall time: 580 ms\n"
     ]
    }
   ],
   "source": [
    "%%time\n",
    "%load_ext autoreload\n",
    "%autoreload 2\n",
    "from simulation import *"
   ]
  },
  {
   "cell_type": "code",
   "execution_count": 2,
   "metadata": {
    "execution": {
     "iopub.execute_input": "2020-07-09T18:36:24.094188Z",
     "iopub.status.busy": "2020-07-09T18:36:24.093667Z",
     "iopub.status.idle": "2020-07-09T18:36:24.105055Z",
     "shell.execute_reply": "2020-07-09T18:36:24.104733Z"
    },
    "papermill": {
     "duration": 0.029026,
     "end_time": "2020-07-09T18:36:24.105105",
     "exception": false,
     "start_time": "2020-07-09T18:36:24.076079",
     "status": "completed"
    },
    "tags": [
     "parameters"
    ]
   },
   "outputs": [
    {
     "name": "stdout",
     "output_type": "stream",
     "text": [
      "CPU times: user 4 µs, sys: 0 ns, total: 4 µs\n",
      "Wall time: 5.01 µs\n"
     ]
    }
   ],
   "source": [
    "%%time\n",
    "### Dataset and simulation parameters\n",
    "#csv_path = SSH2_PERIODIC_100_6561_CSV \n",
    "csv_path = SSH1_PERIODIC_100_6561_CSV \n",
    "model_name = \"DecisionTreeClassifier\"\n",
    "model_kw = {\"criterion\":\"entropy\"}\n",
    "allowed_windings = [0,1]\n",
    "#allowed_windings = [-1,0,1,2]\n",
    "simulation_dir = SSH1_PERIODIC_1ST_SCENARIO_100_6561_SIMULATION_DIR\n",
    "#simulation_dir = SSH2_PERIODIC_ENGINEERED_100_6561_SIMULATION_DIR\n",
    "val_split = 0.9  \n",
    "features_to_use = None\n",
    "shuffle_features = False\n",
    "random_state = 763\n",
    "\n",
    "### Fourier features\n",
    "fourier_mode = \"dft\"\n",
    "fourier_features_to_use = None\n",
    "fourier_real = \"real\"\n",
    "fourier_normalize = True\n",
    "fourier_fillna = False\n",
    "\n",
    "### Running a simulation\n",
    "n_experiments = 5\n",
    "start_n = 0\n",
    "fit_params = None\n",
    "#mode=mode\n",
    "shuffle_rows = True\n",
    "pred_params = None\n",
    "random_features = False\n",
    "######### DON'T SET THIS TO TRUE UNLESS YOUR DATASET IS SMALL!! WILL FLOOD YOUR MEMORY!!!\n",
    "store_in_lists = False   \n",
    "########## BELOW ARE THE PARAMETERS THAT CONTROL WHAT WILL BE SAVED\n",
    "save_eigenvector=True\n",
    "save_hamiltonian=True \n",
    "save_accuracy=True \n",
    "save_models=True"
   ]
  },
  {
   "cell_type": "code",
   "execution_count": 3,
   "metadata": {
    "execution": {
     "iopub.execute_input": "2020-07-09T18:36:24.139314Z",
     "iopub.status.busy": "2020-07-09T18:36:24.138804Z",
     "iopub.status.idle": "2020-07-09T18:36:24.238922Z",
     "shell.execute_reply": "2020-07-09T18:36:24.239943Z"
    },
    "papermill": {
     "duration": 0.119742,
     "end_time": "2020-07-09T18:36:24.240226",
     "exception": false,
     "start_time": "2020-07-09T18:36:24.120484",
     "status": "completed"
    },
    "tags": [
     "injected-parameters"
    ]
   },
   "outputs": [],
   "source": [
    "# Parameters\n",
    "model_kw = {\"criterion\": \"entropy\"}\n",
    "allowed_windings = [0, 1]\n",
    "val_split = 0.9\n",
    "features_to_use = [0, 1, 2, 3, 5, 7, 19, 35, 45, 48, 49, 50]\n",
    "shuffle_features = False\n",
    "n_experiments = 100\n",
    "start_n = 0\n",
    "fit_params = None\n",
    "shuffle_rows = True\n",
    "pred_params = None\n",
    "random_features = False\n",
    "store_in_lists = False\n",
    "save_eigenvector = True\n",
    "save_hamiltonian = True\n",
    "save_accuracy = True\n",
    "save_models = True\n",
    "csv_path = \"/home/rio/ssh_csvs/ssh1/periodic_100_6561.csv\"\n",
    "model_name = \"DecisionTreeClassifier\"\n",
    "simulation_dir = \"/home/rio/ssh_simulations/ssh1/periodic_8th_scenario_100_6561\"\n",
    "random_state = 34896\n",
    "fourier_features_to_use = [0, 2, 4, 6, 8, 10, 12, 14, 32, 34, 38, 50]\n",
    "fourier_mode = \"dct\"\n",
    "fourier_real = None\n",
    "fourier_normalize = False\n",
    "fourier_fillna = False\n",
    "normalize = False\n",
    "fillna = False\n"
   ]
  },
  {
   "cell_type": "code",
   "execution_count": 4,
   "metadata": {
    "execution": {
     "iopub.execute_input": "2020-07-09T18:36:24.313451Z",
     "iopub.status.busy": "2020-07-09T18:36:24.313119Z",
     "iopub.status.idle": "2020-07-09T18:36:29.849503Z",
     "shell.execute_reply": "2020-07-09T18:36:29.849146Z"
    },
    "papermill": {
     "duration": 5.557341,
     "end_time": "2020-07-09T18:36:29.849560",
     "exception": false,
     "start_time": "2020-07-09T18:36:24.292219",
     "status": "completed"
    },
    "tags": []
   },
   "outputs": [
    {
     "name": "stdout",
     "output_type": "stream",
     "text": [
      "Info on all data: \n",
      "\n",
      "<class 'pandas.core.frame.DataFrame'>\n",
      "Int64Index: 656100 entries, 0 to 656099\n",
      "Columns: 108 entries, id to feat99\n",
      "dtypes: float64(103), int32(3), object(2)\n",
      "memory usage: 538.1+ MB\n",
      "CPU times: user 5.58 s, sys: 455 ms, total: 6.03 s\n",
      "Wall time: 5.51 s\n"
     ]
    },
    {
     "data": {
      "text/html": [
       "<div>\n",
       "<style scoped>\n",
       "    .dataframe tbody tr th:only-of-type {\n",
       "        vertical-align: middle;\n",
       "    }\n",
       "\n",
       "    .dataframe tbody tr th {\n",
       "        vertical-align: top;\n",
       "    }\n",
       "\n",
       "    .dataframe thead th {\n",
       "        text-align: right;\n",
       "    }\n",
       "</style>\n",
       "<table border=\"1\" class=\"dataframe\">\n",
       "  <thead>\n",
       "    <tr style=\"text-align: right;\">\n",
       "      <th></th>\n",
       "      <th>id</th>\n",
       "      <th>path</th>\n",
       "      <th>t1</th>\n",
       "      <th>t2</th>\n",
       "      <th>winding</th>\n",
       "      <th>phase</th>\n",
       "      <th>pred_phase</th>\n",
       "      <th>type_of</th>\n",
       "      <th>feat0</th>\n",
       "      <th>feat1</th>\n",
       "      <th>...</th>\n",
       "      <th>feat90</th>\n",
       "      <th>feat91</th>\n",
       "      <th>feat92</th>\n",
       "      <th>feat93</th>\n",
       "      <th>feat94</th>\n",
       "      <th>feat95</th>\n",
       "      <th>feat96</th>\n",
       "      <th>feat97</th>\n",
       "      <th>feat98</th>\n",
       "      <th>feat99</th>\n",
       "    </tr>\n",
       "  </thead>\n",
       "  <tbody>\n",
       "    <tr>\n",
       "      <th>0</th>\n",
       "      <td>0</td>\n",
       "      <td>H_-2_-2_0.509296.dat</td>\n",
       "      <td>-2.0</td>\n",
       "      <td>-2.0</td>\n",
       "      <td>0.509296</td>\n",
       "      <td>999</td>\n",
       "      <td>666</td>\n",
       "      <td>test</td>\n",
       "      <td>0.100000</td>\n",
       "      <td>0.100000</td>\n",
       "      <td>...</td>\n",
       "      <td>0.100000</td>\n",
       "      <td>0.100000</td>\n",
       "      <td>0.100000</td>\n",
       "      <td>0.100000</td>\n",
       "      <td>0.100000</td>\n",
       "      <td>0.100000</td>\n",
       "      <td>0.100000</td>\n",
       "      <td>0.100000</td>\n",
       "      <td>0.100000</td>\n",
       "      <td>0.100000</td>\n",
       "    </tr>\n",
       "    <tr>\n",
       "      <th>1</th>\n",
       "      <td>0</td>\n",
       "      <td>H_-2_-2_0.509296.dat</td>\n",
       "      <td>-2.0</td>\n",
       "      <td>-2.0</td>\n",
       "      <td>0.509296</td>\n",
       "      <td>999</td>\n",
       "      <td>666</td>\n",
       "      <td>test</td>\n",
       "      <td>0.141421</td>\n",
       "      <td>0.141142</td>\n",
       "      <td>...</td>\n",
       "      <td>0.114412</td>\n",
       "      <td>0.108967</td>\n",
       "      <td>0.123928</td>\n",
       "      <td>0.119406</td>\n",
       "      <td>0.131490</td>\n",
       "      <td>0.127962</td>\n",
       "      <td>0.136978</td>\n",
       "      <td>0.134500</td>\n",
       "      <td>0.140306</td>\n",
       "      <td>0.138916</td>\n",
       "    </tr>\n",
       "    <tr>\n",
       "      <th>2</th>\n",
       "      <td>0</td>\n",
       "      <td>H_-2_-2_0.509296.dat</td>\n",
       "      <td>-2.0</td>\n",
       "      <td>-2.0</td>\n",
       "      <td>0.509296</td>\n",
       "      <td>999</td>\n",
       "      <td>666</td>\n",
       "      <td>test</td>\n",
       "      <td>0.141421</td>\n",
       "      <td>0.140306</td>\n",
       "      <td>...</td>\n",
       "      <td>0.043702</td>\n",
       "      <td>0.026500</td>\n",
       "      <td>0.075777</td>\n",
       "      <td>0.060214</td>\n",
       "      <td>0.103092</td>\n",
       "      <td>0.090145</td>\n",
       "      <td>0.123928</td>\n",
       "      <td>0.114412</td>\n",
       "      <td>0.136978</td>\n",
       "      <td>0.131490</td>\n",
       "    </tr>\n",
       "    <tr>\n",
       "      <th>3</th>\n",
       "      <td>0</td>\n",
       "      <td>H_-2_-2_0.509296.dat</td>\n",
       "      <td>-2.0</td>\n",
       "      <td>-2.0</td>\n",
       "      <td>0.509296</td>\n",
       "      <td>999</td>\n",
       "      <td>666</td>\n",
       "      <td>test</td>\n",
       "      <td>-0.100000</td>\n",
       "      <td>0.100000</td>\n",
       "      <td>...</td>\n",
       "      <td>-0.100000</td>\n",
       "      <td>0.100000</td>\n",
       "      <td>-0.100000</td>\n",
       "      <td>0.100000</td>\n",
       "      <td>-0.100000</td>\n",
       "      <td>0.100000</td>\n",
       "      <td>-0.100000</td>\n",
       "      <td>0.100000</td>\n",
       "      <td>-0.100000</td>\n",
       "      <td>0.100000</td>\n",
       "    </tr>\n",
       "    <tr>\n",
       "      <th>4</th>\n",
       "      <td>0</td>\n",
       "      <td>H_-2_-2_0.509296.dat</td>\n",
       "      <td>-2.0</td>\n",
       "      <td>-2.0</td>\n",
       "      <td>0.509296</td>\n",
       "      <td>999</td>\n",
       "      <td>666</td>\n",
       "      <td>test</td>\n",
       "      <td>0.000509</td>\n",
       "      <td>-0.008372</td>\n",
       "      <td>...</td>\n",
       "      <td>-0.082713</td>\n",
       "      <td>-0.089753</td>\n",
       "      <td>-0.067684</td>\n",
       "      <td>-0.075347</td>\n",
       "      <td>-0.051587</td>\n",
       "      <td>-0.059753</td>\n",
       "      <td>-0.034677</td>\n",
       "      <td>-0.043217</td>\n",
       "      <td>-0.017220</td>\n",
       "      <td>-0.026000</td>\n",
       "    </tr>\n",
       "  </tbody>\n",
       "</table>\n",
       "<p>5 rows × 108 columns</p>\n",
       "</div>"
      ],
      "text/plain": [
       "   id                  path   t1   t2   winding  phase  pred_phase type_of  \\\n",
       "0   0  H_-2_-2_0.509296.dat -2.0 -2.0  0.509296    999         666    test   \n",
       "1   0  H_-2_-2_0.509296.dat -2.0 -2.0  0.509296    999         666    test   \n",
       "2   0  H_-2_-2_0.509296.dat -2.0 -2.0  0.509296    999         666    test   \n",
       "3   0  H_-2_-2_0.509296.dat -2.0 -2.0  0.509296    999         666    test   \n",
       "4   0  H_-2_-2_0.509296.dat -2.0 -2.0  0.509296    999         666    test   \n",
       "\n",
       "      feat0     feat1  ...    feat90    feat91    feat92    feat93    feat94  \\\n",
       "0  0.100000  0.100000  ...  0.100000  0.100000  0.100000  0.100000  0.100000   \n",
       "1  0.141421  0.141142  ...  0.114412  0.108967  0.123928  0.119406  0.131490   \n",
       "2  0.141421  0.140306  ...  0.043702  0.026500  0.075777  0.060214  0.103092   \n",
       "3 -0.100000  0.100000  ... -0.100000  0.100000 -0.100000  0.100000 -0.100000   \n",
       "4  0.000509 -0.008372  ... -0.082713 -0.089753 -0.067684 -0.075347 -0.051587   \n",
       "\n",
       "     feat95    feat96    feat97    feat98    feat99  \n",
       "0  0.100000  0.100000  0.100000  0.100000  0.100000  \n",
       "1  0.127962  0.136978  0.134500  0.140306  0.138916  \n",
       "2  0.090145  0.123928  0.114412  0.136978  0.131490  \n",
       "3  0.100000 -0.100000  0.100000 -0.100000  0.100000  \n",
       "4 -0.059753 -0.034677 -0.043217 -0.017220 -0.026000  \n",
       "\n",
       "[5 rows x 108 columns]"
      ]
     },
     "execution_count": 4,
     "metadata": {},
     "output_type": "execute_result"
    }
   ],
   "source": [
    "%%time\n",
    "#Starting an instance of Simulation with a decision tree\n",
    "model = DecisionTreeClassifier(criterion=\"entropy\")\n",
    "#dict_args = {\"csv_path\":csv_path, \"model\":model, \"allowed_windings\":allowed_windings,\\\n",
    "#             \"simulation_dir\":simulation_dir, \"val_split\":val_split, \"features_to_use\":features_to_use,\\\n",
    "#            \"shuffle_features\":shuffle_features, \"random_state\":random_state}\n",
    "simulation = Simulation(csv_path,model_name,model_kw,allowed_windings,simulation_dir,val_split,features_to_use,\\\n",
    "                       shuffle_features,fourier_mode,fourier_features_to_use,fourier_real,\\\n",
    "                       fourier_normalize, fourier_fillna , random_state)\n",
    "#simulation = Simulation(**dict_args)\n",
    "\n",
    "\n",
    "#(self, csv_path, model_name, model_kw, allowed_windings, simulation_dir = None, val_split = 0, \n",
    "# features_to_use = None, shuffle_features = False, fourier_mode=None, fourier_features_to_use=None,\n",
    "# fourier_real = False, fourier_normalize = False, Fourier_fillna=False, random_state = None):\n",
    "\n",
    "\n",
    "\n",
    "print(\"Info on all data: \\n\")\n",
    "simulation.dataframe.info()\n",
    "simulation.dataframe.head()"
   ]
  },
  {
   "cell_type": "markdown",
   "metadata": {
    "papermill": {
     "duration": 0.015869,
     "end_time": "2020-07-09T18:36:29.881969",
     "exception": false,
     "start_time": "2020-07-09T18:36:29.866100",
     "status": "completed"
    },
    "tags": []
   },
   "source": [
    "####  Fourier features"
   ]
  },
  {
   "cell_type": "code",
   "execution_count": 5,
   "metadata": {
    "execution": {
     "iopub.execute_input": "2020-07-09T18:36:29.915747Z",
     "iopub.status.busy": "2020-07-09T18:36:29.915415Z",
     "iopub.status.idle": "2020-07-09T18:36:30.015409Z",
     "shell.execute_reply": "2020-07-09T18:36:30.015074Z"
    },
    "papermill": {
     "duration": 0.117576,
     "end_time": "2020-07-09T18:36:30.015466",
     "exception": false,
     "start_time": "2020-07-09T18:36:29.897890",
     "status": "completed"
    },
    "tags": []
   },
   "outputs": [
    {
     "name": "stdout",
     "output_type": "stream",
     "text": [
      "<class 'pandas.core.frame.DataFrame'>\n",
      "Int64Index: 656100 entries, 0 to 656099\n",
      "Data columns (total 20 columns):\n",
      " #   Column      Non-Null Count   Dtype  \n",
      "---  ------      --------------   -----  \n",
      " 0   id          656100 non-null  int32  \n",
      " 1   path        656100 non-null  object \n",
      " 2   t1          656100 non-null  float64\n",
      " 3   t2          656100 non-null  float64\n",
      " 4   winding     656100 non-null  float64\n",
      " 5   phase       656100 non-null  int32  \n",
      " 6   pred_phase  656100 non-null  int32  \n",
      " 7   type_of     656100 non-null  object \n",
      " 8   dct_feat0   656100 non-null  float64\n",
      " 9   dct_feat2   656100 non-null  float64\n",
      " 10  dct_feat4   656100 non-null  float64\n",
      " 11  dct_feat6   656100 non-null  float64\n",
      " 12  dct_feat8   656100 non-null  float64\n",
      " 13  dct_feat10  656100 non-null  float64\n",
      " 14  dct_feat12  656100 non-null  float64\n",
      " 15  dct_feat14  656100 non-null  float64\n",
      " 16  dct_feat32  656100 non-null  float64\n",
      " 17  dct_feat34  656100 non-null  float64\n",
      " 18  dct_feat38  656100 non-null  float64\n",
      " 19  dct_feat50  656100 non-null  float64\n",
      "dtypes: float64(15), int32(3), object(2)\n",
      "memory usage: 97.6+ MB\n",
      "CPU times: user 89.7 ms, sys: 0 ns, total: 89.7 ms\n",
      "Wall time: 89 ms\n"
     ]
    }
   ],
   "source": [
    "%%time\n",
    "#simulation.generate_fourier_df()\n",
    "if simulation.fourier_mode is not None:\n",
    "    simulation.fourier_dataframe.info() \n",
    "    simulation.fourier_dataframe.sample(15)\n"
   ]
  },
  {
   "cell_type": "code",
   "execution_count": 6,
   "metadata": {
    "execution": {
     "iopub.execute_input": "2020-07-09T18:36:30.051740Z",
     "iopub.status.busy": "2020-07-09T18:36:30.051412Z",
     "iopub.status.idle": "2020-07-09T18:36:30.062358Z",
     "shell.execute_reply": "2020-07-09T18:36:30.062610Z"
    },
    "papermill": {
     "duration": 0.030258,
     "end_time": "2020-07-09T18:36:30.062679",
     "exception": false,
     "start_time": "2020-07-09T18:36:30.032421",
     "status": "completed"
    },
    "tags": []
   },
   "outputs": [
    {
     "name": "stdout",
     "output_type": "stream",
     "text": [
      "features_to_use: \n",
      "\n",
      "\n",
      "[0, 1, 2, 3, 5, 7, 19, 35, 45, 48, 49, 50]\n",
      "Number of real space features:\n",
      "\n",
      "\n",
      "12\n",
      "\n",
      "\n",
      "fourier_features: \n",
      "\n",
      "\n",
      "['dct_feat0', 'dct_feat2', 'dct_feat4', 'dct_feat6', 'dct_feat8', 'dct_feat10', 'dct_feat12', 'dct_feat14', 'dct_feat32', 'dct_feat34', 'dct_feat38', 'dct_feat50']\n",
      "\n",
      "\n",
      "Number of Fourier features: \n",
      "\n",
      "\n",
      "12\n"
     ]
    }
   ],
   "source": [
    "print(\"features_to_use: \")\n",
    "print(\"\\n\")\n",
    "print(simulation.features_to_use)\n",
    "if simulation.features_to_use is not None:\n",
    "    print(\"Number of real space features:\")\n",
    "    print(\"\\n\")\n",
    "    print(len(simulation.features_to_use))\n",
    "print(\"\\n\")\n",
    "print(\"fourier_features: \")\n",
    "print(\"\\n\")\n",
    "print(simulation.fourier_features)\n",
    "print(\"\\n\")\n",
    "if simulation.fourier_features is not None:\n",
    "    print(\"Number of Fourier features: \")\n",
    "    print(\"\\n\")\n",
    "    print(len(simulation.fourier_features))"
   ]
  },
  {
   "cell_type": "code",
   "execution_count": 7,
   "metadata": {
    "execution": {
     "iopub.execute_input": "2020-07-09T18:36:30.097326Z",
     "iopub.status.busy": "2020-07-09T18:36:30.097021Z",
     "iopub.status.idle": "2020-07-09T18:36:30.167076Z",
     "shell.execute_reply": "2020-07-09T18:36:30.167757Z"
    },
    "papermill": {
     "duration": 0.088993,
     "end_time": "2020-07-09T18:36:30.167883",
     "exception": false,
     "start_time": "2020-07-09T18:36:30.078890",
     "status": "completed"
    },
    "tags": []
   },
   "outputs": [],
   "source": [
    "#simulation.dataframe.iloc[331456,:]"
   ]
  },
  {
   "cell_type": "code",
   "execution_count": 8,
   "metadata": {
    "execution": {
     "iopub.execute_input": "2020-07-09T18:36:30.231722Z",
     "iopub.status.busy": "2020-07-09T18:36:30.231334Z",
     "iopub.status.idle": "2020-07-09T18:36:30.241840Z",
     "shell.execute_reply": "2020-07-09T18:36:30.241489Z"
    },
    "papermill": {
     "duration": 0.032772,
     "end_time": "2020-07-09T18:36:30.241896",
     "exception": false,
     "start_time": "2020-07-09T18:36:30.209124",
     "status": "completed"
    },
    "tags": []
   },
   "outputs": [],
   "source": [
    "#for ix, obj in enumerate(simulation.dataframe.iloc[331456,:].values):\n",
    "#    print(ix,obj)"
   ]
  },
  {
   "cell_type": "code",
   "execution_count": 9,
   "metadata": {
    "execution": {
     "iopub.execute_input": "2020-07-09T18:36:30.277439Z",
     "iopub.status.busy": "2020-07-09T18:36:30.277131Z",
     "iopub.status.idle": "2020-07-09T18:36:30.338979Z",
     "shell.execute_reply": "2020-07-09T18:36:30.340687Z"
    },
    "papermill": {
     "duration": 0.081792,
     "end_time": "2020-07-09T18:36:30.340989",
     "exception": false,
     "start_time": "2020-07-09T18:36:30.259197",
     "status": "completed"
    },
    "tags": []
   },
   "outputs": [],
   "source": [
    "#simulation.fourier_engineered_dataframe.dct_feat0"
   ]
  },
  {
   "cell_type": "code",
   "execution_count": 10,
   "metadata": {
    "execution": {
     "iopub.execute_input": "2020-07-09T18:36:30.416412Z",
     "iopub.status.busy": "2020-07-09T18:36:30.416047Z",
     "iopub.status.idle": "2020-07-09T18:36:30.425720Z",
     "shell.execute_reply": "2020-07-09T18:36:30.425984Z"
    },
    "papermill": {
     "duration": 0.03103,
     "end_time": "2020-07-09T18:36:30.426055",
     "exception": false,
     "start_time": "2020-07-09T18:36:30.395025",
     "status": "completed"
    },
    "tags": []
   },
   "outputs": [],
   "source": [
    "#simulation.features"
   ]
  },
  {
   "cell_type": "code",
   "execution_count": 11,
   "metadata": {
    "execution": {
     "iopub.execute_input": "2020-07-09T18:36:30.462118Z",
     "iopub.status.busy": "2020-07-09T18:36:30.461813Z",
     "iopub.status.idle": "2020-07-09T18:36:30.477216Z",
     "shell.execute_reply": "2020-07-09T18:36:30.476929Z"
    },
    "papermill": {
     "duration": 0.034141,
     "end_time": "2020-07-09T18:36:30.477269",
     "exception": false,
     "start_time": "2020-07-09T18:36:30.443128",
     "status": "completed"
    },
    "tags": []
   },
   "outputs": [],
   "source": [
    "#simulation.fourier_matrix"
   ]
  },
  {
   "cell_type": "code",
   "execution_count": 12,
   "metadata": {
    "execution": {
     "iopub.execute_input": "2020-07-09T18:36:30.514384Z",
     "iopub.status.busy": "2020-07-09T18:36:30.514031Z",
     "iopub.status.idle": "2020-07-09T18:36:30.610687Z",
     "shell.execute_reply": "2020-07-09T18:36:30.612100Z"
    },
    "papermill": {
     "duration": 0.117294,
     "end_time": "2020-07-09T18:36:30.612442",
     "exception": false,
     "start_time": "2020-07-09T18:36:30.495148",
     "status": "completed"
    },
    "tags": []
   },
   "outputs": [],
   "source": [
    "#1/simulation.n_features*simulation.dataframe.loc[:,simulation.features].sum(axis=1)"
   ]
  },
  {
   "cell_type": "code",
   "execution_count": 13,
   "metadata": {
    "execution": {
     "iopub.execute_input": "2020-07-09T18:36:30.687948Z",
     "iopub.status.busy": "2020-07-09T18:36:30.687641Z",
     "iopub.status.idle": "2020-07-09T18:36:30.697209Z",
     "shell.execute_reply": "2020-07-09T18:36:30.697466Z"
    },
    "papermill": {
     "duration": 0.030307,
     "end_time": "2020-07-09T18:36:30.697532",
     "exception": false,
     "start_time": "2020-07-09T18:36:30.667225",
     "status": "completed"
    },
    "tags": []
   },
   "outputs": [],
   "source": [
    "#df_2 = simulation.fourier_engineered_dataframe[simulation.fourier_engineered_dataframe.phase==2]\n",
    "#df_2.describe()"
   ]
  },
  {
   "cell_type": "code",
   "execution_count": 14,
   "metadata": {
    "execution": {
     "iopub.execute_input": "2020-07-09T18:36:30.734043Z",
     "iopub.status.busy": "2020-07-09T18:36:30.733725Z",
     "iopub.status.idle": "2020-07-09T18:36:30.782588Z",
     "shell.execute_reply": "2020-07-09T18:36:30.782097Z"
    },
    "papermill": {
     "duration": 0.067783,
     "end_time": "2020-07-09T18:36:30.782681",
     "exception": false,
     "start_time": "2020-07-09T18:36:30.714898",
     "status": "completed"
    },
    "tags": []
   },
   "outputs": [],
   "source": [
    "#df_1 = simulation.fourier_engineered_dataframe[simulation.fourier_engineered_dataframe.phase==1]\n",
    "#df_1.describe()"
   ]
  },
  {
   "cell_type": "code",
   "execution_count": 15,
   "metadata": {
    "execution": {
     "iopub.execute_input": "2020-07-09T18:36:30.818759Z",
     "iopub.status.busy": "2020-07-09T18:36:30.818400Z",
     "iopub.status.idle": "2020-07-09T18:36:30.882227Z",
     "shell.execute_reply": "2020-07-09T18:36:30.880270Z"
    },
    "papermill": {
     "duration": 0.082084,
     "end_time": "2020-07-09T18:36:30.882482",
     "exception": false,
     "start_time": "2020-07-09T18:36:30.800398",
     "status": "completed"
    },
    "tags": []
   },
   "outputs": [],
   "source": [
    "#df_0 = simulation.fourier_engineered_dataframe[simulation.fourier_engineered_dataframe.phase==0]\n",
    "#df_0.describe()"
   ]
  },
  {
   "cell_type": "code",
   "execution_count": 16,
   "metadata": {
    "execution": {
     "iopub.execute_input": "2020-07-09T18:36:30.956158Z",
     "iopub.status.busy": "2020-07-09T18:36:30.955850Z",
     "iopub.status.idle": "2020-07-09T18:36:30.965264Z",
     "shell.execute_reply": "2020-07-09T18:36:30.965524Z"
    },
    "papermill": {
     "duration": 0.031726,
     "end_time": "2020-07-09T18:36:30.965593",
     "exception": false,
     "start_time": "2020-07-09T18:36:30.933867",
     "status": "completed"
    },
    "tags": []
   },
   "outputs": [],
   "source": [
    "#plt.figure(figsize=(10,10))\n",
    "#plt.scatter(df_1.fourier_feat0,df_1.fourier_feat2)\n",
    "#plt.scatter(df_0.fourier_feat0,df_0.fourier_feat2,alpha=0.4)"
   ]
  },
  {
   "cell_type": "code",
   "execution_count": 17,
   "metadata": {
    "execution": {
     "iopub.execute_input": "2020-07-09T18:36:31.001164Z",
     "iopub.status.busy": "2020-07-09T18:36:31.000852Z",
     "iopub.status.idle": "2020-07-09T18:36:31.058297Z",
     "shell.execute_reply": "2020-07-09T18:36:31.058776Z"
    },
    "papermill": {
     "duration": 0.076594,
     "end_time": "2020-07-09T18:36:31.058892",
     "exception": false,
     "start_time": "2020-07-09T18:36:30.982298",
     "status": "completed"
    },
    "tags": []
   },
   "outputs": [],
   "source": [
    "#plt.scatter(df_0.fourier_feat0,df_0.fourier_feat2,alpha=0.4)"
   ]
  },
  {
   "cell_type": "code",
   "execution_count": 18,
   "metadata": {
    "execution": {
     "iopub.execute_input": "2020-07-09T18:36:31.122897Z",
     "iopub.status.busy": "2020-07-09T18:36:31.122557Z",
     "iopub.status.idle": "2020-07-09T18:36:31.132732Z",
     "shell.execute_reply": "2020-07-09T18:36:31.132325Z"
    },
    "papermill": {
     "duration": 0.033607,
     "end_time": "2020-07-09T18:36:31.132800",
     "exception": false,
     "start_time": "2020-07-09T18:36:31.099193",
     "status": "completed"
    },
    "tags": []
   },
   "outputs": [],
   "source": [
    "#plt.scatter(df_2.fourier_feat0,df_2.fourier_feat2)"
   ]
  },
  {
   "cell_type": "code",
   "execution_count": 19,
   "metadata": {
    "execution": {
     "iopub.execute_input": "2020-07-09T18:36:31.167861Z",
     "iopub.status.busy": "2020-07-09T18:36:31.167556Z",
     "iopub.status.idle": "2020-07-09T18:36:31.232792Z",
     "shell.execute_reply": "2020-07-09T18:36:31.230518Z"
    },
    "papermill": {
     "duration": 0.083842,
     "end_time": "2020-07-09T18:36:31.233188",
     "exception": false,
     "start_time": "2020-07-09T18:36:31.149346",
     "status": "completed"
    },
    "tags": []
   },
   "outputs": [],
   "source": [
    "#df_1.hist(figsize=(15,15))"
   ]
  },
  {
   "cell_type": "code",
   "execution_count": 20,
   "metadata": {
    "execution": {
     "iopub.execute_input": "2020-07-09T18:36:31.307784Z",
     "iopub.status.busy": "2020-07-09T18:36:31.307472Z",
     "iopub.status.idle": "2020-07-09T18:36:31.318416Z",
     "shell.execute_reply": "2020-07-09T18:36:31.318071Z"
    },
    "papermill": {
     "duration": 0.031966,
     "end_time": "2020-07-09T18:36:31.318470",
     "exception": false,
     "start_time": "2020-07-09T18:36:31.286504",
     "status": "completed"
    },
    "tags": []
   },
   "outputs": [],
   "source": [
    "#df_0.hist(figsize=(15,15))"
   ]
  },
  {
   "cell_type": "markdown",
   "metadata": {
    "papermill": {
     "duration": 0.017377,
     "end_time": "2020-07-09T18:36:31.353438",
     "exception": false,
     "start_time": "2020-07-09T18:36:31.336061",
     "status": "completed"
    },
    "tags": []
   },
   "source": [
    "#### Checking initialization"
   ]
  },
  {
   "cell_type": "code",
   "execution_count": 21,
   "metadata": {
    "execution": {
     "iopub.execute_input": "2020-07-09T18:36:31.389904Z",
     "iopub.status.busy": "2020-07-09T18:36:31.389589Z",
     "iopub.status.idle": "2020-07-09T18:36:31.416250Z",
     "shell.execute_reply": "2020-07-09T18:36:31.416587Z"
    },
    "papermill": {
     "duration": 0.04601,
     "end_time": "2020-07-09T18:36:31.416653",
     "exception": false,
     "start_time": "2020-07-09T18:36:31.370643",
     "status": "completed"
    },
    "tags": []
   },
   "outputs": [
    {
     "name": "stdout",
     "output_type": "stream",
     "text": [
      "n_features:  100\n",
      "n_hamiltonians:  6561\n",
      "n_ts:  2\n",
      "CPU times: user 422 µs, sys: 48 µs, total: 470 µs\n",
      "Wall time: 218 µs\n"
     ]
    }
   ],
   "source": [
    "%%time\n",
    "n_features = simulation.n_features\n",
    "n_hamiltonians = simulation.n_hamiltonians\n",
    "n_ts = simulation.n_ts\n",
    "\n",
    "print(\"n_features: \", n_features)\n",
    "print(\"n_hamiltonians: \", n_hamiltonians)\n",
    "print(\"n_ts: \", n_ts)"
   ]
  },
  {
   "cell_type": "code",
   "execution_count": 22,
   "metadata": {
    "execution": {
     "iopub.execute_input": "2020-07-09T18:36:31.455087Z",
     "iopub.status.busy": "2020-07-09T18:36:31.454570Z",
     "iopub.status.idle": "2020-07-09T18:36:31.689428Z",
     "shell.execute_reply": "2020-07-09T18:36:31.689731Z"
    },
    "papermill": {
     "duration": 0.255401,
     "end_time": "2020-07-09T18:36:31.689796",
     "exception": false,
     "start_time": "2020-07-09T18:36:31.434395",
     "status": "completed"
    },
    "tags": []
   },
   "outputs": [
    {
     "name": "stdout",
     "output_type": "stream",
     "text": [
      "% train:  0.846822130772748\n",
      "% val:  0.0\n",
      "% test:  0.15317786922725193\n",
      "% train + val + test:  1.0\n",
      "\n",
      "\n",
      "number of train hamiltonians:  5556\n",
      "number of val hamiltonians:  0\n",
      "number of test hamiltonians:  1005\n",
      "total number of hamiltonians:  6561\n",
      "\n",
      "\n",
      "train ids:  [9, 10, 11, 12, 13, 14, 15, 16, 17, 18, 19, 20, 21, 22, 23, 24, 25, 26, 27, 28, 29, 30, 31, 32, 33, 34, 35, 36, 37, 38, 39, 40, 41, 42, 43, 44, 45, 46, 47, 48, 49, 50, 51, 52, 53, 54, 55, 56, 57, 58, 59, 60, 61, 62, 63, 64, 65, 66, 67, 68, 69, 70, 71, 72, 73, 74, 75, 76, 77, 91, 92, 93, 94, 95, 96, 97, 98, 99, 100, 101, 102, 103, 104, 105, 106, 107, 108, 109, 110, 111, 112, 113, 114, 115, 116, 117, 118, 119, 120, 121, 122, 123, 124, 125, 126, 127, 128, 129, 130, 131, 132, 133, 134, 135, 136, 137, 138, 139, 140, 141, 142, 143, 144, 145, 146, 147, 148, 149, 150, 151, 152, 153, 154, 155, 156, 157, 172, 173, 174, 175, 176, 177, 178, 179, 180, 181, 182, 183, 184, 185, 186, 187, 188, 189, 190, 191, 192, 193, 194, 195, 196, 197, 198, 199, 200, 201, 202, 203, 204, 205, 206, 207, 208, 209, 210, 211, 212, 213, 214, 215, 216, 217, 218, 219, 220, 221, 222, 223, 224, 225, 226, 227, 228, 229, 230, 231, 232, 233, 234, 235, 236, 237, 254, 255, 256, 257, 258, 259, 260, 261, 262, 263, 264, 265, 266, 267, 268, 269, 270, 271, 272, 273, 274, 275, 276, 277, 278, 279, 280, 281, 282, 283, 284, 285, 286, 287, 288, 289, 290, 291, 292, 293, 294, 295, 296, 297, 298, 299, 300, 301, 302, 303, 304, 305, 306, 307, 308, 309, 310, 311, 312, 313, 314, 315, 316, 317, 323, 336, 337, 338, 339, 340, 341, 342, 343, 344, 345, 346, 347, 348, 349, 350, 351, 352, 353, 354, 355, 356, 357, 358, 359, 360, 361, 362, 363, 364, 365, 366, 367, 368, 369, 370, 371, 372, 373, 374, 375, 376, 377, 378, 379, 380, 381, 382, 383, 384, 385, 386, 387, 388, 389, 390, 391, 392, 393, 394, 395, 396, 397, 403, 404, 418, 419, 420, 421, 422, 423, 424, 425, 426, 427, 428, 429, 430, 431, 432, 433, 434, 435, 436, 437, 438, 439, 440, 441, 442, 443, 444, 445, 446, 447, 448, 449, 450, 451, 452, 453, 454, 455, 456, 457, 458, 459, 460, 461, 462, 463, 464, 465, 466, 467, 468, 469, 470, 471, 472, 473, 474, 475, 476, 477, 483, 484, 485, 500, 501, 502, 503, 504, 505, 506, 507, 508, 509, 510, 511, 512, 513, 514, 515, 516, 517, 518, 519, 520, 521, 522, 523, 524, 525, 526, 527, 528, 529, 530, 531, 532, 533, 534, 535, 536, 537, 538, 539, 540, 541, 542, 543, 544, 545, 546, 547, 548, 549, 550, 551, 552, 553, 554, 555, 556, 557, 563, 564, 565, 566, 581, 582, 583, 584, 585, 586, 587, 588, 589, 590, 591, 592, 593, 594, 595, 596, 597, 598, 599, 600, 601, 602, 603, 604, 605, 606, 607, 608, 609, 610, 611, 612, 613, 614, 615, 616, 617, 618, 619, 620, 621, 622, 623, 624, 625, 626, 627, 628, 629, 630, 631, 632, 633, 634, 635, 636, 637, 643, 644, 645, 646, 647, 663, 664, 665, 666, 667, 668, 669, 670, 671, 672, 673, 674, 675, 676, 677, 678, 679, 680, 681, 682, 683, 684, 685, 686, 687, 688, 689, 690, 691, 692, 693, 694, 695, 696, 697, 698, 699, 700, 701, 702, 703, 704, 705, 706, 707, 708, 709, 710, 711, 712, 713, 714, 715, 716, 717, 723, 724, 725, 726, 727, 728, 745, 746, 747, 748, 749, 750, 751, 752, 753, 754, 755, 756, 757, 758, 759, 760, 761, 762, 763, 764, 765, 766, 767, 768, 769, 770, 771, 772, 773, 774, 775, 776, 777, 778, 779, 780, 781, 782, 783, 784, 785, 786, 787, 788, 789, 790, 791, 792, 793, 794, 795, 796, 797, 803, 804, 805, 806, 807, 808, 809, 827, 828, 829, 830, 831, 832, 833, 834, 835, 836, 837, 838, 839, 840, 841, 842, 843, 844, 845, 846, 847, 848, 849, 850, 851, 852, 853, 854, 855, 856, 857, 858, 859, 860, 861, 862, 863, 864, 865, 866, 867, 868, 869, 870, 871, 872, 873, 874, 875, 876, 877, 883, 884, 885, 886, 887, 888, 889, 890, 891, 909, 910, 911, 912, 913, 914, 915, 916, 917, 918, 919, 920, 921, 922, 923, 924, 925, 926, 927, 928, 929, 930, 931, 932, 933, 934, 935, 936, 937, 938, 939, 940, 941, 942, 943, 944, 945, 946, 947, 948, 949, 950, 951, 952, 953, 954, 955, 956, 957, 963, 964, 965, 966, 967, 968, 969, 970, 971, 972, 973, 990, 991, 992, 993, 994, 995, 996, 997, 998, 999, 1000, 1001, 1002, 1003, 1004, 1005, 1006, 1007, 1008, 1009, 1010, 1011, 1012, 1013, 1014, 1015, 1016, 1017, 1018, 1019, 1020, 1021, 1022, 1023, 1024, 1025, 1026, 1027, 1028, 1029, 1030, 1031, 1032, 1033, 1034, 1035, 1036, 1037, 1038, 1042, 1043, 1044, 1045, 1046, 1047, 1048, 1049, 1050, 1051, 1052, 1053, 1054, 1055, 1056, 1072, 1073, 1074, 1075, 1076, 1077, 1078, 1079, 1080, 1081, 1082, 1083, 1084, 1085, 1086, 1087, 1088, 1089, 1090, 1091, 1092, 1093, 1094, 1095, 1096, 1097, 1098, 1099, 1100, 1101, 1102, 1103, 1104, 1105, 1106, 1107, 1108, 1109, 1110, 1111, 1112, 1113, 1114, 1115, 1116, 1117, 1118, 1122, 1123, 1124, 1125, 1126, 1127, 1128, 1129, 1130, 1131, 1132, 1133, 1134, 1135, 1136, 1137, 1138, 1154, 1155, 1156, 1157, 1158, 1159, 1160, 1161, 1162, 1163, 1164, 1165, 1166, 1167, 1168, 1169, 1170, 1171, 1172, 1173, 1174, 1175, 1176, 1177, 1178, 1179, 1180, 1181, 1182, 1183, 1184, 1185, 1186, 1187, 1188, 1189, 1190, 1191, 1192, 1193, 1194, 1195, 1196, 1197, 1198, 1202, 1203, 1204, 1205, 1206, 1207, 1208, 1209, 1210, 1211, 1212, 1213, 1214, 1215, 1216, 1217, 1218, 1219, 1220, 1236, 1237, 1238, 1239, 1240, 1241, 1242, 1243, 1244, 1245, 1246, 1247, 1248, 1249, 1250, 1251, 1252, 1253, 1254, 1255, 1256, 1257, 1258, 1259, 1260, 1261, 1262, 1263, 1264, 1265, 1266, 1267, 1268, 1269, 1270, 1271, 1272, 1273, 1274, 1275, 1276, 1277, 1278, 1282, 1283, 1284, 1285, 1286, 1287, 1288, 1289, 1290, 1291, 1292, 1293, 1294, 1295, 1296, 1297, 1298, 1299, 1300, 1301, 1302, 1303, 1317, 1318, 1319, 1320, 1321, 1322, 1323, 1324, 1325, 1326, 1327, 1328, 1329, 1330, 1331, 1332, 1333, 1334, 1335, 1336, 1337, 1338, 1339, 1340, 1341, 1342, 1343, 1344, 1345, 1346, 1347, 1348, 1349, 1350, 1351, 1352, 1353, 1354, 1355, 1356, 1357, 1358, 1362, 1363, 1364, 1365, 1366, 1367, 1368, 1369, 1370, 1371, 1372, 1373, 1374, 1375, 1376, 1377, 1378, 1379, 1380, 1381, 1382, 1383, 1384, 1385, 1399, 1400, 1401, 1402, 1403, 1404, 1405, 1406, 1407, 1408, 1409, 1410, 1411, 1412, 1413, 1414, 1415, 1416, 1417, 1418, 1419, 1420, 1421, 1422, 1423, 1424, 1425, 1426, 1427, 1428, 1429, 1430, 1431, 1432, 1433, 1434, 1435, 1436, 1437, 1438, 1442, 1443, 1444, 1445, 1446, 1447, 1448, 1449, 1450, 1451, 1452, 1453, 1454, 1455, 1456, 1457, 1458, 1459, 1460, 1461, 1462, 1463, 1464, 1465, 1466, 1467, 1468, 1481, 1482, 1483, 1484, 1485, 1486, 1487, 1488, 1489, 1490, 1491, 1492, 1493, 1494, 1495, 1496, 1497, 1498, 1499, 1500, 1501, 1502, 1503, 1504, 1505, 1506, 1507, 1508, 1509, 1510, 1511, 1512, 1513, 1514, 1515, 1516, 1517, 1518, 1522, 1523, 1524, 1525, 1526, 1527, 1528, 1529, 1530, 1531, 1532, 1533, 1534, 1535, 1536, 1537, 1538, 1539, 1540, 1541, 1542, 1543, 1544, 1545, 1546, 1547, 1548, 1549, 1550, 1563, 1564, 1565, 1566, 1567, 1568, 1569, 1570, 1571, 1572, 1573, 1574, 1575, 1576, 1577, 1578, 1579, 1580, 1581, 1582, 1583, 1584, 1585, 1586, 1587, 1588, 1589, 1590, 1591, 1592, 1593, 1594, 1595, 1596, 1597, 1598, 1602, 1603, 1604, 1605, 1606, 1607, 1608, 1609, 1610, 1611, 1612, 1613, 1614, 1615, 1616, 1617, 1618, 1619, 1620, 1621, 1622, 1623, 1624, 1625, 1626, 1627, 1628, 1629, 1630, 1631, 1632, 1645, 1646, 1647, 1648, 1649, 1650, 1651, 1652, 1653, 1654, 1655, 1656, 1657, 1658, 1659, 1660, 1661, 1662, 1663, 1664, 1665, 1666, 1667, 1668, 1669, 1670, 1671, 1672, 1673, 1674, 1675, 1676, 1677, 1678, 1682, 1683, 1684, 1685, 1686, 1687, 1688, 1689, 1690, 1691, 1692, 1693, 1694, 1695, 1696, 1697, 1698, 1699, 1700, 1701, 1702, 1703, 1704, 1705, 1706, 1707, 1708, 1709, 1710, 1711, 1712, 1713, 1714, 1715, 1726, 1727, 1728, 1729, 1730, 1731, 1732, 1733, 1734, 1735, 1736, 1737, 1738, 1739, 1740, 1741, 1742, 1743, 1744, 1745, 1746, 1747, 1748, 1749, 1750, 1751, 1752, 1753, 1754, 1755, 1756, 1757, 1758, 1762, 1763, 1764, 1765, 1766, 1767, 1768, 1769, 1770, 1771, 1772, 1773, 1774, 1775, 1776, 1777, 1778, 1779, 1780, 1781, 1782, 1783, 1784, 1785, 1786, 1787, 1788, 1789, 1790, 1791, 1792, 1793, 1794, 1795, 1796, 1797, 1808, 1809, 1810, 1811, 1812, 1813, 1814, 1815, 1816, 1817, 1818, 1819, 1820, 1821, 1822, 1823, 1824, 1825, 1826, 1827, 1828, 1829, 1830, 1831, 1832, 1833, 1834, 1835, 1836, 1837, 1838, 1842, 1843, 1844, 1845, 1846, 1847, 1848, 1849, 1850, 1851, 1852, 1853, 1854, 1855, 1856, 1857, 1858, 1859, 1860, 1861, 1862, 1863, 1864, 1865, 1866, 1867, 1868, 1869, 1870, 1871, 1872, 1873, 1874, 1875, 1876, 1877, 1878, 1879, 1890, 1891, 1892, 1893, 1894, 1895, 1896, 1897, 1898, 1899, 1900, 1901, 1902, 1903, 1904, 1905, 1906, 1907, 1908, 1909, 1910, 1911, 1912, 1913, 1914, 1915, 1916, 1917, 1918, 1922, 1923, 1924, 1925, 1926, 1927, 1928, 1929, 1930, 1931, 1932, 1933, 1934, 1935, 1936, 1937, 1938, 1939, 1940, 1941, 1942, 1943, 1944, 1945, 1946, 1947, 1948, 1949, 1950, 1951, 1952, 1953, 1954, 1955, 1956, 1957, 1958, 1959, 1960, 1961, 1962, 1972, 1973, 1974, 1975, 1976, 1977, 1978, 1979, 1980, 1981, 1982, 1983, 1984, 1985, 1986, 1987, 1988, 1989, 1990, 1991, 1992, 1993, 1994, 1995, 1996, 1997, 1998, 2002, 2003, 2004, 2005, 2006, 2007, 2008, 2009, 2010, 2011, 2012, 2013, 2014, 2015, 2016, 2017, 2018, 2019, 2020, 2021, 2022, 2023, 2024, 2025, 2026, 2027, 2028, 2029, 2030, 2031, 2032, 2033, 2034, 2035, 2036, 2037, 2038, 2039, 2040, 2041, 2042, 2043, 2044, 2054, 2055, 2056, 2057, 2058, 2059, 2060, 2061, 2062, 2063, 2064, 2065, 2066, 2067, 2068, 2069, 2070, 2071, 2072, 2073, 2074, 2075, 2076, 2077, 2078, 2082, 2083, 2084, 2085, 2086, 2087, 2088, 2089, 2090, 2091, 2092, 2093, 2094, 2095, 2096, 2097, 2098, 2099, 2100, 2101, 2102, 2103, 2104, 2105, 2106, 2107, 2108, 2109, 2110, 2111, 2112, 2113, 2114, 2115, 2116, 2117, 2118, 2119, 2120, 2121, 2122, 2123, 2124, 2125, 2126, 2135, 2136, 2137, 2138, 2139, 2140, 2141, 2142, 2143, 2144, 2145, 2146, 2147, 2148, 2149, 2150, 2151, 2152, 2153, 2154, 2155, 2156, 2157, 2158, 2159, 2161, 2162, 2163, 2164, 2165, 2166, 2167, 2168, 2169, 2170, 2171, 2172, 2173, 2174, 2175, 2176, 2177, 2178, 2179, 2180, 2181, 2182, 2183, 2184, 2185, 2186, 2187, 2188, 2189, 2190, 2191, 2192, 2193, 2194, 2195, 2196, 2197, 2198, 2199, 2200, 2201, 2202, 2203, 2204, 2205, 2206, 2207, 2208, 2209, 2217, 2218, 2219, 2220, 2221, 2222, 2223, 2224, 2225, 2226, 2227, 2228, 2229, 2230, 2231, 2232, 2233, 2234, 2235, 2236, 2237, 2238, 2239, 2241, 2242, 2243, 2244, 2245, 2246, 2247, 2248, 2249, 2250, 2251, 2252, 2253, 2254, 2255, 2256, 2257, 2258, 2259, 2260, 2261, 2262, 2263, 2264, 2265, 2266, 2267, 2268, 2269, 2270, 2271, 2272, 2273, 2274, 2275, 2276, 2277, 2278, 2279, 2280, 2281, 2282, 2283, 2284, 2285, 2286, 2287, 2288, 2289, 2290, 2291, 2299, 2300, 2301, 2302, 2303, 2304, 2305, 2306, 2307, 2308, 2309, 2310, 2311, 2312, 2313, 2314, 2315, 2316, 2317, 2318, 2319, 2321, 2322, 2323, 2324, 2325, 2326, 2327, 2328, 2329, 2330, 2331, 2332, 2333, 2334, 2335, 2336, 2337, 2338, 2339, 2340, 2341, 2342, 2343, 2344, 2345, 2346, 2347, 2348, 2349, 2350, 2351, 2352, 2353, 2354, 2355, 2356, 2357, 2358, 2359, 2360, 2361, 2362, 2363, 2364, 2365, 2366, 2367, 2368, 2369, 2370, 2371, 2372, 2373, 2374, 2381, 2382, 2383, 2384, 2385, 2386, 2387, 2388, 2389, 2390, 2391, 2392, 2393, 2394, 2395, 2396, 2397, 2398, 2399, 2401, 2402, 2403, 2404, 2405, 2406, 2407, 2408, 2409, 2410, 2411, 2412, 2413, 2414, 2415, 2416, 2417, 2418, 2419, 2420, 2421, 2422, 2423, 2424, 2425, 2426, 2427, 2428, 2429, 2430, 2431, 2432, 2433, 2434, 2435, 2436, 2437, 2438, 2439, 2440, 2441, 2442, 2443, 2444, 2445, 2446, 2447, 2448, 2449, 2450, 2451, 2452, 2453, 2454, 2455, 2456, 2463, 2464, 2465, 2466, 2467, 2468, 2469, 2470, 2471, 2472, 2473, 2474, 2475, 2476, 2477, 2478, 2479, 2481, 2482, 2483, 2484, 2485, 2486, 2487, 2488, 2489, 2490, 2491, 2492, 2493, 2494, 2495, 2496, 2497, 2498, 2499, 2500, 2501, 2502, 2503, 2504, 2505, 2506, 2507, 2508, 2509, 2510, 2511, 2512, 2513, 2514, 2515, 2516, 2517, 2518, 2519, 2520, 2521, 2522, 2523, 2524, 2525, 2526, 2527, 2528, 2529, 2530, 2531, 2532, 2533, 2534, 2535, 2536, 2537, 2538, 2544, 2545, 2546, 2547, 2548, 2549, 2550, 2551, 2552, 2553, 2554, 2555, 2556, 2557, 2558, 2559, 2561, 2562, 2563, 2564, 2565, 2566, 2567, 2568, 2569, 2570, 2571, 2572, 2573, 2574, 2575, 2576, 2577, 2578, 2579, 2580, 2581, 2582, 2583, 2584, 2585, 2586, 2587, 2588, 2589, 2590, 2591, 2592, 2593, 2594, 2595, 2596, 2597, 2598, 2599, 2600, 2601, 2602, 2603, 2604, 2605, 2606, 2607, 2608, 2609, 2610, 2611, 2612, 2613, 2614, 2615, 2616, 2617, 2618, 2619, 2620, 2621, 2626, 2627, 2628, 2629, 2630, 2631, 2632, 2633, 2634, 2635, 2636, 2637, 2638, 2639, 2641, 2642, 2643, 2644, 2645, 2646, 2647, 2648, 2649, 2650, 2651, 2652, 2653, 2654, 2655, 2656, 2657, 2658, 2659, 2660, 2661, 2662, 2663, 2664, 2665, 2666, 2667, 2668, 2669, 2670, 2671, 2672, 2673, 2674, 2675, 2676, 2677, 2678, 2679, 2680, 2681, 2682, 2683, 2684, 2685, 2686, 2687, 2688, 2689, 2690, 2691, 2692, 2693, 2694, 2695, 2696, 2697, 2698, 2699, 2700, 2701, 2702, 2703, 2708, 2709, 2710, 2711, 2712, 2713, 2714, 2715, 2716, 2717, 2718, 2719, 2721, 2722, 2723, 2724, 2725, 2726, 2727, 2728, 2729, 2730, 2731, 2732, 2733, 2734, 2735, 2736, 2737, 2738, 2739, 2740, 2741, 2742, 2743, 2744, 2745, 2746, 2747, 2748, 2749, 2750, 2751, 2752, 2753, 2754, 2755, 2756, 2757, 2758, 2759, 2760, 2761, 2762, 2763, 2764, 2765, 2766, 2767, 2768, 2769, 2770, 2771, 2772, 2773, 2774, 2775, 2776, 2777, 2778, 2779, 2780, 2781, 2782, 2783, 2784, 2785, 2790, 2791, 2792, 2793, 2794, 2795, 2796, 2797, 2798, 2799, 2801, 2802, 2803, 2804, 2805, 2806, 2807, 2808, 2809, 2810, 2811, 2812, 2813, 2814, 2815, 2816, 2817, 2818, 2819, 2820, 2821, 2822, 2823, 2824, 2825, 2826, 2827, 2828, 2829, 2830, 2831, 2832, 2833, 2834, 2835, 2836, 2837, 2838, 2839, 2840, 2841, 2842, 2843, 2844, 2845, 2846, 2847, 2848, 2849, 2850, 2851, 2852, 2853, 2854, 2855, 2856, 2857, 2858, 2859, 2860, 2861, 2862, 2863, 2864, 2865, 2866, 2867, 2868, 2872, 2873, 2874, 2875, 2876, 2877, 2878, 2879, 2881, 2882, 2883, 2884, 2885, 2886, 2887, 2888, 2889, 2890, 2891, 2892, 2893, 2894, 2895, 2896, 2897, 2898, 2899, 2900, 2901, 2902, 2903, 2904, 2905, 2906, 2907, 2908, 2909, 2910, 2911, 2912, 2913, 2914, 2915, 2916, 2917, 2918, 2919, 2920, 2921, 2922, 2923, 2924, 2925, 2926, 2927, 2928, 2929, 2930, 2931, 2932, 2933, 2934, 2935, 2936, 2937, 2938, 2939, 2940, 2941, 2942, 2943, 2944, 2945, 2946, 2947, 2948, 2949, 2950, 2953, 2954, 2955, 2956, 2957, 2958, 2959, 2961, 2962, 2963, 2964, 2965, 2966, 2967, 2968, 2969, 2970, 2971, 2972, 2973, 2974, 2975, 2976, 2977, 2978, 2979, 2980, 2981, 2982, 2983, 2984, 2985, 2986, 2987, 2988, 2989, 2990, 2991, 2992, 2993, 2994, 2995, 2996, 2997, 2998, 2999, 3000, 3001, 3002, 3003, 3004, 3005, 3006, 3007, 3008, 3009, 3010, 3011, 3012, 3013, 3014, 3015, 3016, 3017, 3018, 3019, 3020, 3021, 3022, 3023, 3024, 3025, 3026, 3027, 3028, 3029, 3030, 3031, 3032, 3035, 3036, 3037, 3038, 3039, 3041, 3042, 3043, 3044, 3045, 3046, 3047, 3048, 3049, 3050, 3051, 3052, 3053, 3054, 3055, 3056, 3057, 3058, 3059, 3060, 3061, 3062, 3063, 3064, 3065, 3066, 3067, 3068, 3069, 3070, 3071, 3072, 3073, 3074, 3075, 3076, 3077, 3078, 3079, 3080, 3081, 3082, 3083, 3084, 3085, 3086, 3087, 3088, 3089, 3090, 3091, 3092, 3093, 3094, 3095, 3096, 3097, 3098, 3099, 3100, 3101, 3102, 3103, 3104, 3105, 3106, 3107, 3108, 3109, 3110, 3111, 3112, 3113, 3114, 3115, 3117, 3118, 3119, 3121, 3122, 3123, 3124, 3125, 3126, 3127, 3128, 3129, 3130, 3131, 3132, 3133, 3134, 3135, 3136, 3137, 3138, 3139, 3140, 3141, 3142, 3143, 3144, 3145, 3146, 3147, 3148, 3149, 3150, 3151, 3152, 3153, 3154, 3155, 3156, 3157, 3158, 3159, 3160, 3161, 3162, 3163, 3164, 3165, 3166, 3167, 3168, 3169, 3170, 3171, 3172, 3173, 3174, 3175, 3176, 3177, 3178, 3179, 3180, 3181, 3182, 3183, 3184, 3185, 3186, 3187, 3188, 3189, 3190, 3191, 3192, 3193, 3194, 3195, 3196, 3197, 3199, 3201, 3202, 3203, 3204, 3205, 3206, 3207, 3208, 3209, 3210, 3211, 3212, 3213, 3214, 3215, 3216, 3217, 3218, 3219, 3220, 3221, 3222, 3223, 3224, 3225, 3226, 3227, 3228, 3229, 3230, 3231, 3232, 3233, 3234, 3235, 3236, 3237, 3238, 3239, 3240, 3241, 3242, 3243, 3244, 3245, 3246, 3247, 3248, 3249, 3250, 3251, 3252, 3253, 3254, 3255, 3256, 3257, 3258, 3259, 3260, 3261, 3262, 3263, 3264, 3265, 3266, 3267, 3268, 3269, 3270, 3271, 3272, 3273, 3274, 3275, 3276, 3277, 3278, 3279, 3281, 3282, 3283, 3284, 3285, 3286, 3287, 3288, 3289, 3290, 3291, 3292, 3293, 3294, 3295, 3296, 3297, 3298, 3299, 3300, 3301, 3302, 3303, 3304, 3305, 3306, 3307, 3308, 3309, 3310, 3311, 3312, 3313, 3314, 3315, 3316, 3317, 3318, 3319, 3320, 3321, 3322, 3323, 3324, 3325, 3326, 3327, 3328, 3329, 3330, 3331, 3332, 3333, 3334, 3335, 3336, 3337, 3338, 3339, 3340, 3341, 3342, 3343, 3344, 3345, 3346, 3347, 3348, 3349, 3350, 3351, 3352, 3353, 3354, 3355, 3356, 3357, 3358, 3359, 3361, 3363, 3364, 3365, 3366, 3367, 3368, 3369, 3370, 3371, 3372, 3373, 3374, 3375, 3376, 3377, 3378, 3379, 3380, 3381, 3382, 3383, 3384, 3385, 3386, 3387, 3388, 3389, 3390, 3391, 3392, 3393, 3394, 3395, 3396, 3397, 3398, 3399, 3400, 3401, 3402, 3403, 3404, 3405, 3406, 3407, 3408, 3409, 3410, 3411, 3412, 3413, 3414, 3415, 3416, 3417, 3418, 3419, 3420, 3421, 3422, 3423, 3424, 3425, 3426, 3427, 3428, 3429, 3430, 3431, 3432, 3433, 3434, 3435, 3436, 3437, 3438, 3439, 3441, 3442, 3443, 3445, 3446, 3447, 3448, 3449, 3450, 3451, 3452, 3453, 3454, 3455, 3456, 3457, 3458, 3459, 3460, 3461, 3462, 3463, 3464, 3465, 3466, 3467, 3468, 3469, 3470, 3471, 3472, 3473, 3474, 3475, 3476, 3477, 3478, 3479, 3480, 3481, 3482, 3483, 3484, 3485, 3486, 3487, 3488, 3489, 3490, 3491, 3492, 3493, 3494, 3495, 3496, 3497, 3498, 3499, 3500, 3501, 3502, 3503, 3504, 3505, 3506, 3507, 3508, 3509, 3510, 3511, 3512, 3513, 3514, 3515, 3516, 3517, 3518, 3519, 3521, 3522, 3523, 3524, 3525, 3528, 3529, 3530, 3531, 3532, 3533, 3534, 3535, 3536, 3537, 3538, 3539, 3540, 3541, 3542, 3543, 3544, 3545, 3546, 3547, 3548, 3549, 3550, 3551, 3552, 3553, 3554, 3555, 3556, 3557, 3558, 3559, 3560, 3561, 3562, 3563, 3564, 3565, 3566, 3567, 3568, 3569, 3570, 3571, 3572, 3573, 3574, 3575, 3576, 3577, 3578, 3579, 3580, 3581, 3582, 3583, 3584, 3585, 3586, 3587, 3588, 3589, 3590, 3591, 3592, 3593, 3594, 3595, 3596, 3597, 3598, 3599, 3601, 3602, 3603, 3604, 3605, 3606, 3607, 3610, 3611, 3612, 3613, 3614, 3615, 3616, 3617, 3618, 3619, 3620, 3621, 3622, 3623, 3624, 3625, 3626, 3627, 3628, 3629, 3630, 3631, 3632, 3633, 3634, 3635, 3636, 3637, 3638, 3639, 3640, 3641, 3642, 3643, 3644, 3645, 3646, 3647, 3648, 3649, 3650, 3651, 3652, 3653, 3654, 3655, 3656, 3657, 3658, 3659, 3660, 3661, 3662, 3663, 3664, 3665, 3666, 3667, 3668, 3669, 3670, 3671, 3672, 3673, 3674, 3675, 3676, 3677, 3678, 3679, 3681, 3682, 3683, 3684, 3685, 3686, 3687, 3688, 3692, 3693, 3694, 3695, 3696, 3697, 3698, 3699, 3700, 3701, 3702, 3703, 3704, 3705, 3706, 3707, 3708, 3709, 3710, 3711, 3712, 3713, 3714, 3715, 3716, 3717, 3718, 3719, 3720, 3721, 3722, 3723, 3724, 3725, 3726, 3727, 3728, 3729, 3730, 3731, 3732, 3733, 3734, 3735, 3736, 3737, 3738, 3739, 3740, 3741, 3742, 3743, 3744, 3745, 3746, 3747, 3748, 3749, 3750, 3751, 3752, 3753, 3754, 3755, 3756, 3757, 3758, 3759, 3761, 3762, 3763, 3764, 3765, 3766, 3767, 3768, 3769, 3770, 3775, 3776, 3777, 3778, 3779, 3780, 3781, 3782, 3783, 3784, 3785, 3786, 3787, 3788, 3789, 3790, 3791, 3792, 3793, 3794, 3795, 3796, 3797, 3798, 3799, 3800, 3801, 3802, 3803, 3804, 3805, 3806, 3807, 3808, 3809, 3810, 3811, 3812, 3813, 3814, 3815, 3816, 3817, 3818, 3819, 3820, 3821, 3822, 3823, 3824, 3825, 3826, 3827, 3828, 3829, 3830, 3831, 3832, 3833, 3834, 3835, 3836, 3837, 3838, 3839, 3841, 3842, 3843, 3844, 3845, 3846, 3847, 3848, 3849, 3850, 3851, 3852, 3857, 3858, 3859, 3860, 3861, 3862, 3863, 3864, 3865, 3866, 3867, 3868, 3869, 3870, 3871, 3872, 3873, 3874, 3875, 3876, 3877, 3878, 3879, 3880, 3881, 3882, 3883, 3884, 3885, 3886, 3887, 3888, 3889, 3890, 3891, 3892, 3893, 3894, 3895, 3896, 3897, 3898, 3899, 3900, 3901, 3902, 3903, 3904, 3905, 3906, 3907, 3908, 3909, 3910, 3911, 3912, 3913, 3914, 3915, 3916, 3917, 3918, 3919, 3921, 3922, 3923, 3924, 3925, 3926, 3927, 3928, 3929, 3930, 3931, 3932, 3933, 3934, 3939, 3940, 3941, 3942, 3943, 3944, 3945, 3946, 3947, 3948, 3949, 3950, 3951, 3952, 3953, 3954, 3955, 3956, 3957, 3958, 3959, 3960, 3961, 3962, 3963, 3964, 3965, 3966, 3967, 3968, 3969, 3970, 3971, 3972, 3973, 3974, 3975, 3976, 3977, 3978, 3979, 3980, 3981, 3982, 3983, 3984, 3985, 3986, 3987, 3988, 3989, 3990, 3991, 3992, 3993, 3994, 3995, 3996, 3997, 3998, 3999, 4001, 4002, 4003, 4004, 4005, 4006, 4007, 4008, 4009, 4010, 4011, 4012, 4013, 4014, 4015, 4016, 4022, 4023, 4024, 4025, 4026, 4027, 4028, 4029, 4030, 4031, 4032, 4033, 4034, 4035, 4036, 4037, 4038, 4039, 4040, 4041, 4042, 4043, 4044, 4045, 4046, 4047, 4048, 4049, 4050, 4051, 4052, 4053, 4054, 4055, 4056, 4057, 4058, 4059, 4060, 4061, 4062, 4063, 4064, 4065, 4066, 4067, 4068, 4069, 4070, 4071, 4072, 4073, 4074, 4075, 4076, 4077, 4078, 4079, 4081, 4082, 4083, 4084, 4085, 4086, 4087, 4088, 4089, 4090, 4091, 4092, 4093, 4094, 4095, 4096, 4097, 4104, 4105, 4106, 4107, 4108, 4109, 4110, 4111, 4112, 4113, 4114, 4115, 4116, 4117, 4118, 4119, 4120, 4121, 4122, 4123, 4124, 4125, 4126, 4127, 4128, 4129, 4130, 4131, 4132, 4133, 4134, 4135, 4136, 4137, 4138, 4139, 4140, 4141, 4142, 4143, 4144, 4145, 4146, 4147, 4148, 4149, 4150, 4151, 4152, 4153, 4154, 4155, 4156, 4157, 4158, 4159, 4161, 4162, 4163, 4164, 4165, 4166, 4167, 4168, 4169, 4170, 4171, 4172, 4173, 4174, 4175, 4176, 4177, 4178, 4179, 4186, 4187, 4188, 4189, 4190, 4191, 4192, 4193, 4194, 4195, 4196, 4197, 4198, 4199, 4200, 4201, 4202, 4203, 4204, 4205, 4206, 4207, 4208, 4209, 4210, 4211, 4212, 4213, 4214, 4215, 4216, 4217, 4218, 4219, 4220, 4221, 4222, 4223, 4224, 4225, 4226, 4227, 4228, 4229, 4230, 4231, 4232, 4233, 4234, 4235, 4236, 4237, 4238, 4239, 4241, 4242, 4243, 4244, 4245, 4246, 4247, 4248, 4249, 4250, 4251, 4252, 4253, 4254, 4255, 4256, 4257, 4258, 4259, 4260, 4261, 4269, 4270, 4271, 4272, 4273, 4274, 4275, 4276, 4277, 4278, 4279, 4280, 4281, 4282, 4283, 4284, 4285, 4286, 4287, 4288, 4289, 4290, 4291, 4292, 4293, 4294, 4295, 4296, 4297, 4298, 4299, 4300, 4301, 4302, 4303, 4304, 4305, 4306, 4307, 4308, 4309, 4310, 4311, 4312, 4313, 4314, 4315, 4316, 4317, 4318, 4319, 4321, 4322, 4323, 4324, 4325, 4326, 4327, 4328, 4329, 4330, 4331, 4332, 4333, 4334, 4335, 4336, 4337, 4338, 4339, 4340, 4341, 4342, 4343, 4351, 4352, 4353, 4354, 4355, 4356, 4357, 4358, 4359, 4360, 4361, 4362, 4363, 4364, 4365, 4366, 4367, 4368, 4369, 4370, 4371, 4372, 4373, 4374, 4375, 4376, 4377, 4378, 4379, 4380, 4381, 4382, 4383, 4384, 4385, 4386, 4387, 4388, 4389, 4390, 4391, 4392, 4393, 4394, 4395, 4396, 4397, 4398, 4399, 4401, 4402, 4403, 4404, 4405, 4406, 4407, 4408, 4409, 4410, 4411, 4412, 4413, 4414, 4415, 4416, 4417, 4418, 4419, 4420, 4421, 4422, 4423, 4424, 4425, 4434, 4435, 4436, 4437, 4438, 4439, 4440, 4441, 4442, 4443, 4444, 4445, 4446, 4447, 4448, 4449, 4450, 4451, 4452, 4453, 4454, 4455, 4456, 4457, 4458, 4459, 4460, 4461, 4462, 4463, 4464, 4465, 4466, 4467, 4468, 4469, 4470, 4471, 4472, 4473, 4474, 4475, 4476, 4477, 4478, 4482, 4483, 4484, 4485, 4486, 4487, 4488, 4489, 4490, 4491, 4492, 4493, 4494, 4495, 4496, 4497, 4498, 4499, 4500, 4501, 4502, 4503, 4504, 4505, 4506, 4516, 4517, 4518, 4519, 4520, 4521, 4522, 4523, 4524, 4525, 4526, 4527, 4528, 4529, 4530, 4531, 4532, 4533, 4534, 4535, 4536, 4537, 4538, 4539, 4540, 4541, 4542, 4543, 4544, 4545, 4546, 4547, 4548, 4549, 4550, 4551, 4552, 4553, 4554, 4555, 4556, 4557, 4558, 4562, 4563, 4564, 4565, 4566, 4567, 4568, 4569, 4570, 4571, 4572, 4573, 4574, 4575, 4576, 4577, 4578, 4579, 4580, 4581, 4582, 4583, 4584, 4585, 4586, 4587, 4588, 4598, 4599, 4600, 4601, 4602, 4603, 4604, 4605, 4606, 4607, 4608, 4609, 4610, 4611, 4612, 4613, 4614, 4615, 4616, 4617, 4618, 4619, 4620, 4621, 4622, 4623, 4624, 4625, 4626, 4627, 4628, 4629, 4630, 4631, 4632, 4633, 4634, 4635, 4636, 4637, 4638, 4642, 4643, 4644, 4645, 4646, 4647, 4648, 4649, 4650, 4651, 4652, 4653, 4654, 4655, 4656, 4657, 4658, 4659, 4660, 4661, 4662, 4663, 4664, 4665, 4666, 4667, 4668, 4669, 4670, 4681, 4682, 4683, 4684, 4685, 4686, 4687, 4688, 4689, 4690, 4691, 4692, 4693, 4694, 4695, 4696, 4697, 4698, 4699, 4700, 4701, 4702, 4703, 4704, 4705, 4706, 4707, 4708, 4709, 4710, 4711, 4712, 4713, 4714, 4715, 4716, 4717, 4718, 4722, 4723, 4724, 4725, 4726, 4727, 4728, 4729, 4730, 4731, 4732, 4733, 4734, 4735, 4736, 4737, 4738, 4739, 4740, 4741, 4742, 4743, 4744, 4745, 4746, 4747, 4748, 4749, 4750, 4751, 4752, 4763, 4764, 4765, 4766, 4767, 4768, 4769, 4770, 4771, 4772, 4773, 4774, 4775, 4776, 4777, 4778, 4779, 4780, 4781, 4782, 4783, 4784, 4785, 4786, 4787, 4788, 4789, 4790, 4791, 4792, 4793, 4794, 4795, 4796, 4797, 4798, 4802, 4803, 4804, 4805, 4806, 4807, 4808, 4809, 4810, 4811, 4812, 4813, 4814, 4815, 4816, 4817, 4818, 4819, 4820, 4821, 4822, 4823, 4824, 4825, 4826, 4827, 4828, 4829, 4830, 4831, 4832, 4833, 4834, 4845, 4846, 4847, 4848, 4849, 4850, 4851, 4852, 4853, 4854, 4855, 4856, 4857, 4858, 4859, 4860, 4861, 4862, 4863, 4864, 4865, 4866, 4867, 4868, 4869, 4870, 4871, 4872, 4873, 4874, 4875, 4876, 4877, 4878, 4882, 4883, 4884, 4885, 4886, 4887, 4888, 4889, 4890, 4891, 4892, 4893, 4894, 4895, 4896, 4897, 4898, 4899, 4900, 4901, 4902, 4903, 4904, 4905, 4906, 4907, 4908, 4909, 4910, 4911, 4912, 4913, 4914, 4915, 4928, 4929, 4930, 4931, 4932, 4933, 4934, 4935, 4936, 4937, 4938, 4939, 4940, 4941, 4942, 4943, 4944, 4945, 4946, 4947, 4948, 4949, 4950, 4951, 4952, 4953, 4954, 4955, 4956, 4957, 4958, 4962, 4963, 4964, 4965, 4966, 4967, 4968, 4969, 4970, 4971, 4972, 4973, 4974, 4975, 4976, 4977, 4978, 4979, 4980, 4981, 4982, 4983, 4984, 4985, 4986, 4987, 4988, 4989, 4990, 4991, 4992, 4993, 4994, 4995, 4996, 4997, 5010, 5011, 5012, 5013, 5014, 5015, 5016, 5017, 5018, 5019, 5020, 5021, 5022, 5023, 5024, 5025, 5026, 5027, 5028, 5029, 5030, 5031, 5032, 5033, 5034, 5035, 5036, 5037, 5038, 5042, 5043, 5044, 5045, 5046, 5047, 5048, 5049, 5050, 5051, 5052, 5053, 5054, 5055, 5056, 5057, 5058, 5059, 5060, 5061, 5062, 5063, 5064, 5065, 5066, 5067, 5068, 5069, 5070, 5071, 5072, 5073, 5074, 5075, 5076, 5077, 5078, 5079, 5092, 5093, 5094, 5095, 5096, 5097, 5098, 5099, 5100, 5101, 5102, 5103, 5104, 5105, 5106, 5107, 5108, 5109, 5110, 5111, 5112, 5113, 5114, 5115, 5116, 5117, 5118, 5122, 5123, 5124, 5125, 5126, 5127, 5128, 5129, 5130, 5131, 5132, 5133, 5134, 5135, 5136, 5137, 5138, 5139, 5140, 5141, 5142, 5143, 5144, 5145, 5146, 5147, 5148, 5149, 5150, 5151, 5152, 5153, 5154, 5155, 5156, 5157, 5158, 5159, 5160, 5161, 5175, 5176, 5177, 5178, 5179, 5180, 5181, 5182, 5183, 5184, 5185, 5186, 5187, 5188, 5189, 5190, 5191, 5192, 5193, 5194, 5195, 5196, 5197, 5198, 5202, 5203, 5204, 5205, 5206, 5207, 5208, 5209, 5210, 5211, 5212, 5213, 5214, 5215, 5216, 5217, 5218, 5219, 5220, 5221, 5222, 5223, 5224, 5225, 5226, 5227, 5228, 5229, 5230, 5231, 5232, 5233, 5234, 5235, 5236, 5237, 5238, 5239, 5240, 5241, 5242, 5243, 5257, 5258, 5259, 5260, 5261, 5262, 5263, 5264, 5265, 5266, 5267, 5268, 5269, 5270, 5271, 5272, 5273, 5274, 5275, 5276, 5277, 5278, 5282, 5283, 5284, 5285, 5286, 5287, 5288, 5289, 5290, 5291, 5292, 5293, 5294, 5295, 5296, 5297, 5298, 5299, 5300, 5301, 5302, 5303, 5304, 5305, 5306, 5307, 5308, 5309, 5310, 5311, 5312, 5313, 5314, 5315, 5316, 5317, 5318, 5319, 5320, 5321, 5322, 5323, 5324, 5340, 5341, 5342, 5343, 5344, 5345, 5346, 5347, 5348, 5349, 5350, 5351, 5352, 5353, 5354, 5355, 5356, 5357, 5358, 5362, 5363, 5364, 5365, 5366, 5367, 5368, 5369, 5370, 5371, 5372, 5373, 5374, 5375, 5376, 5377, 5378, 5379, 5380, 5381, 5382, 5383, 5384, 5385, 5386, 5387, 5388, 5389, 5390, 5391, 5392, 5393, 5394, 5395, 5396, 5397, 5398, 5399, 5400, 5401, 5402, 5403, 5404, 5405, 5406, 5422, 5423, 5424, 5425, 5426, 5427, 5428, 5429, 5430, 5431, 5432, 5433, 5434, 5435, 5436, 5437, 5438, 5442, 5443, 5444, 5445, 5446, 5447, 5448, 5449, 5450, 5451, 5452, 5453, 5454, 5455, 5456, 5457, 5458, 5459, 5460, 5461, 5462, 5463, 5464, 5465, 5466, 5467, 5468, 5469, 5470, 5471, 5472, 5473, 5474, 5475, 5476, 5477, 5478, 5479, 5480, 5481, 5482, 5483, 5484, 5485, 5486, 5487, 5488, 5504, 5505, 5506, 5507, 5508, 5509, 5510, 5511, 5512, 5513, 5514, 5515, 5516, 5517, 5518, 5522, 5523, 5524, 5525, 5526, 5527, 5528, 5529, 5530, 5531, 5532, 5533, 5534, 5535, 5536, 5537, 5538, 5539, 5540, 5541, 5542, 5543, 5544, 5545, 5546, 5547, 5548, 5549, 5550, 5551, 5552, 5553, 5554, 5555, 5556, 5557, 5558, 5559, 5560, 5561, 5562, 5563, 5564, 5565, 5566, 5567, 5568, 5569, 5570, 5587, 5588, 5589, 5590, 5591, 5592, 5593, 5594, 5595, 5596, 5597, 5603, 5604, 5605, 5606, 5607, 5608, 5609, 5610, 5611, 5612, 5613, 5614, 5615, 5616, 5617, 5618, 5619, 5620, 5621, 5622, 5623, 5624, 5625, 5626, 5627, 5628, 5629, 5630, 5631, 5632, 5633, 5634, 5635, 5636, 5637, 5638, 5639, 5640, 5641, 5642, 5643, 5644, 5645, 5646, 5647, 5648, 5649, 5650, 5651, 5669, 5670, 5671, 5672, 5673, 5674, 5675, 5676, 5677, 5683, 5684, 5685, 5686, 5687, 5688, 5689, 5690, 5691, 5692, 5693, 5694, 5695, 5696, 5697, 5698, 5699, 5700, 5701, 5702, 5703, 5704, 5705, 5706, 5707, 5708, 5709, 5710, 5711, 5712, 5713, 5714, 5715, 5716, 5717, 5718, 5719, 5720, 5721, 5722, 5723, 5724, 5725, 5726, 5727, 5728, 5729, 5730, 5731, 5732, 5733, 5751, 5752, 5753, 5754, 5755, 5756, 5757, 5763, 5764, 5765, 5766, 5767, 5768, 5769, 5770, 5771, 5772, 5773, 5774, 5775, 5776, 5777, 5778, 5779, 5780, 5781, 5782, 5783, 5784, 5785, 5786, 5787, 5788, 5789, 5790, 5791, 5792, 5793, 5794, 5795, 5796, 5797, 5798, 5799, 5800, 5801, 5802, 5803, 5804, 5805, 5806, 5807, 5808, 5809, 5810, 5811, 5812, 5813, 5814, 5815, 5832, 5833, 5834, 5835, 5836, 5837, 5843, 5844, 5845, 5846, 5847, 5848, 5849, 5850, 5851, 5852, 5853, 5854, 5855, 5856, 5857, 5858, 5859, 5860, 5861, 5862, 5863, 5864, 5865, 5866, 5867, 5868, 5869, 5870, 5871, 5872, 5873, 5874, 5875, 5876, 5877, 5878, 5879, 5880, 5881, 5882, 5883, 5884, 5885, 5886, 5887, 5888, 5889, 5890, 5891, 5892, 5893, 5894, 5895, 5896, 5897, 5913, 5914, 5915, 5916, 5917, 5923, 5924, 5925, 5926, 5927, 5928, 5929, 5930, 5931, 5932, 5933, 5934, 5935, 5936, 5937, 5938, 5939, 5940, 5941, 5942, 5943, 5944, 5945, 5946, 5947, 5948, 5949, 5950, 5951, 5952, 5953, 5954, 5955, 5956, 5957, 5958, 5959, 5960, 5961, 5962, 5963, 5964, 5965, 5966, 5967, 5968, 5969, 5970, 5971, 5972, 5973, 5974, 5975, 5976, 5977, 5978, 5979, 5994, 5995, 5996, 5997, 6003, 6004, 6005, 6006, 6007, 6008, 6009, 6010, 6011, 6012, 6013, 6014, 6015, 6016, 6017, 6018, 6019, 6020, 6021, 6022, 6023, 6024, 6025, 6026, 6027, 6028, 6029, 6030, 6031, 6032, 6033, 6034, 6035, 6036, 6037, 6038, 6039, 6040, 6041, 6042, 6043, 6044, 6045, 6046, 6047, 6048, 6049, 6050, 6051, 6052, 6053, 6054, 6055, 6056, 6057, 6058, 6059, 6060, 6075, 6076, 6077, 6083, 6084, 6085, 6086, 6087, 6088, 6089, 6090, 6091, 6092, 6093, 6094, 6095, 6096, 6097, 6098, 6099, 6100, 6101, 6102, 6103, 6104, 6105, 6106, 6107, 6108, 6109, 6110, 6111, 6112, 6113, 6114, 6115, 6116, 6117, 6118, 6119, 6120, 6121, 6122, 6123, 6124, 6125, 6126, 6127, 6128, 6129, 6130, 6131, 6132, 6133, 6134, 6135, 6136, 6137, 6138, 6139, 6140, 6141, 6142, 6156, 6157, 6163, 6164, 6165, 6166, 6167, 6168, 6169, 6170, 6171, 6172, 6173, 6174, 6175, 6176, 6177, 6178, 6179, 6180, 6181, 6182, 6183, 6184, 6185, 6186, 6187, 6188, 6189, 6190, 6191, 6192, 6193, 6194, 6195, 6196, 6197, 6198, 6199, 6200, 6201, 6202, 6203, 6204, 6205, 6206, 6207, 6208, 6209, 6210, 6211, 6212, 6213, 6214, 6215, 6216, 6217, 6218, 6219, 6220, 6221, 6222, 6223, 6224, 6237, 6243, 6244, 6245, 6246, 6247, 6248, 6249, 6250, 6251, 6252, 6253, 6254, 6255, 6256, 6257, 6258, 6259, 6260, 6261, 6262, 6263, 6264, 6265, 6266, 6267, 6268, 6269, 6270, 6271, 6272, 6273, 6274, 6275, 6276, 6277, 6278, 6279, 6280, 6281, 6282, 6283, 6284, 6285, 6286, 6287, 6288, 6289, 6290, 6291, 6292, 6293, 6294, 6295, 6296, 6297, 6298, 6299, 6300, 6301, 6302, 6303, 6304, 6305, 6306, 6323, 6324, 6325, 6326, 6327, 6328, 6329, 6330, 6331, 6332, 6333, 6334, 6335, 6336, 6337, 6338, 6339, 6340, 6341, 6342, 6343, 6344, 6345, 6346, 6347, 6348, 6349, 6350, 6351, 6352, 6353, 6354, 6355, 6356, 6357, 6358, 6359, 6360, 6361, 6362, 6363, 6364, 6365, 6366, 6367, 6368, 6369, 6370, 6371, 6372, 6373, 6374, 6375, 6376, 6377, 6378, 6379, 6380, 6381, 6382, 6383, 6384, 6385, 6386, 6387, 6388, 6403, 6404, 6405, 6406, 6407, 6408, 6409, 6410, 6411, 6412, 6413, 6414, 6415, 6416, 6417, 6418, 6419, 6420, 6421, 6422, 6423, 6424, 6425, 6426, 6427, 6428, 6429, 6430, 6431, 6432, 6433, 6434, 6435, 6436, 6437, 6438, 6439, 6440, 6441, 6442, 6443, 6444, 6445, 6446, 6447, 6448, 6449, 6450, 6451, 6452, 6453, 6454, 6455, 6456, 6457, 6458, 6459, 6460, 6461, 6462, 6463, 6464, 6465, 6466, 6467, 6468, 6469, 6483, 6484, 6485, 6486, 6487, 6488, 6489, 6490, 6491, 6492, 6493, 6494, 6495, 6496, 6497, 6498, 6499, 6500, 6501, 6502, 6503, 6504, 6505, 6506, 6507, 6508, 6509, 6510, 6511, 6512, 6513, 6514, 6515, 6516, 6517, 6518, 6519, 6520, 6521, 6522, 6523, 6524, 6525, 6526, 6527, 6528, 6529, 6530, 6531, 6532, 6533, 6534, 6535, 6536, 6537, 6538, 6539, 6540, 6541, 6542, 6543, 6544, 6545, 6546, 6547, 6548, 6549, 6550, 6551]\n",
      "val ids:  []\n",
      "test ids:  [0, 1, 2, 3, 4, 5, 6, 7, 8, 78, 79, 80, 81, 82, 83, 84, 85, 86, 87, 88, 89, 90, 158, 159, 160, 161, 162, 163, 164, 165, 166, 167, 168, 169, 170, 171, 238, 239, 240, 241, 242, 243, 244, 245, 246, 247, 248, 249, 250, 251, 252, 253, 318, 319, 320, 321, 322, 324, 325, 326, 327, 328, 329, 330, 331, 332, 333, 334, 335, 398, 399, 400, 401, 402, 405, 406, 407, 408, 409, 410, 411, 412, 413, 414, 415, 416, 417, 478, 479, 480, 481, 482, 486, 487, 488, 489, 490, 491, 492, 493, 494, 495, 496, 497, 498, 499, 558, 559, 560, 561, 562, 567, 568, 569, 570, 571, 572, 573, 574, 575, 576, 577, 578, 579, 580, 638, 639, 640, 641, 642, 648, 649, 650, 651, 652, 653, 654, 655, 656, 657, 658, 659, 660, 661, 662, 718, 719, 720, 721, 722, 729, 730, 731, 732, 733, 734, 735, 736, 737, 738, 739, 740, 741, 742, 743, 744, 798, 799, 800, 801, 802, 810, 811, 812, 813, 814, 815, 816, 817, 818, 819, 820, 821, 822, 823, 824, 825, 826, 878, 879, 880, 881, 882, 892, 893, 894, 895, 896, 897, 898, 899, 900, 901, 902, 903, 904, 905, 906, 907, 908, 958, 959, 960, 961, 962, 974, 975, 976, 977, 978, 979, 980, 981, 982, 983, 984, 985, 986, 987, 988, 989, 1039, 1040, 1041, 1057, 1058, 1059, 1060, 1061, 1062, 1063, 1064, 1065, 1066, 1067, 1068, 1069, 1070, 1071, 1119, 1120, 1121, 1139, 1140, 1141, 1142, 1143, 1144, 1145, 1146, 1147, 1148, 1149, 1150, 1151, 1152, 1153, 1199, 1200, 1201, 1221, 1222, 1223, 1224, 1225, 1226, 1227, 1228, 1229, 1230, 1231, 1232, 1233, 1234, 1235, 1279, 1280, 1281, 1304, 1305, 1306, 1307, 1308, 1309, 1310, 1311, 1312, 1313, 1314, 1315, 1316, 1359, 1360, 1361, 1386, 1387, 1388, 1389, 1390, 1391, 1392, 1393, 1394, 1395, 1396, 1397, 1398, 1439, 1440, 1441, 1469, 1470, 1471, 1472, 1473, 1474, 1475, 1476, 1477, 1478, 1479, 1480, 1519, 1520, 1521, 1551, 1552, 1553, 1554, 1555, 1556, 1557, 1558, 1559, 1560, 1561, 1562, 1599, 1600, 1601, 1633, 1634, 1635, 1636, 1637, 1638, 1639, 1640, 1641, 1642, 1643, 1644, 1679, 1680, 1681, 1716, 1717, 1718, 1719, 1720, 1721, 1722, 1723, 1724, 1725, 1759, 1760, 1761, 1798, 1799, 1800, 1801, 1802, 1803, 1804, 1805, 1806, 1807, 1839, 1840, 1841, 1880, 1881, 1882, 1883, 1884, 1885, 1886, 1887, 1888, 1889, 1919, 1920, 1921, 1963, 1964, 1965, 1966, 1967, 1968, 1969, 1970, 1971, 1999, 2000, 2001, 2045, 2046, 2047, 2048, 2049, 2050, 2051, 2052, 2053, 2079, 2080, 2081, 2127, 2128, 2129, 2130, 2131, 2132, 2133, 2134, 2160, 2210, 2211, 2212, 2213, 2214, 2215, 2216, 2240, 2292, 2293, 2294, 2295, 2296, 2297, 2298, 2320, 2375, 2376, 2377, 2378, 2379, 2380, 2400, 2457, 2458, 2459, 2460, 2461, 2462, 2480, 2539, 2540, 2541, 2542, 2543, 2560, 2622, 2623, 2624, 2625, 2640, 2704, 2705, 2706, 2707, 2720, 2786, 2787, 2788, 2789, 2800, 2869, 2870, 2871, 2880, 2951, 2952, 2960, 3033, 3034, 3040, 3116, 3120, 3198, 3200, 3280, 3360, 3362, 3440, 3444, 3520, 3526, 3527, 3600, 3608, 3609, 3680, 3689, 3690, 3691, 3760, 3771, 3772, 3773, 3774, 3840, 3853, 3854, 3855, 3856, 3920, 3935, 3936, 3937, 3938, 4000, 4017, 4018, 4019, 4020, 4021, 4080, 4098, 4099, 4100, 4101, 4102, 4103, 4160, 4180, 4181, 4182, 4183, 4184, 4185, 4240, 4262, 4263, 4264, 4265, 4266, 4267, 4268, 4320, 4344, 4345, 4346, 4347, 4348, 4349, 4350, 4400, 4426, 4427, 4428, 4429, 4430, 4431, 4432, 4433, 4479, 4480, 4481, 4507, 4508, 4509, 4510, 4511, 4512, 4513, 4514, 4515, 4559, 4560, 4561, 4589, 4590, 4591, 4592, 4593, 4594, 4595, 4596, 4597, 4639, 4640, 4641, 4671, 4672, 4673, 4674, 4675, 4676, 4677, 4678, 4679, 4680, 4719, 4720, 4721, 4753, 4754, 4755, 4756, 4757, 4758, 4759, 4760, 4761, 4762, 4799, 4800, 4801, 4835, 4836, 4837, 4838, 4839, 4840, 4841, 4842, 4843, 4844, 4879, 4880, 4881, 4916, 4917, 4918, 4919, 4920, 4921, 4922, 4923, 4924, 4925, 4926, 4927, 4959, 4960, 4961, 4998, 4999, 5000, 5001, 5002, 5003, 5004, 5005, 5006, 5007, 5008, 5009, 5039, 5040, 5041, 5080, 5081, 5082, 5083, 5084, 5085, 5086, 5087, 5088, 5089, 5090, 5091, 5119, 5120, 5121, 5162, 5163, 5164, 5165, 5166, 5167, 5168, 5169, 5170, 5171, 5172, 5173, 5174, 5199, 5200, 5201, 5244, 5245, 5246, 5247, 5248, 5249, 5250, 5251, 5252, 5253, 5254, 5255, 5256, 5279, 5280, 5281, 5325, 5326, 5327, 5328, 5329, 5330, 5331, 5332, 5333, 5334, 5335, 5336, 5337, 5338, 5339, 5359, 5360, 5361, 5407, 5408, 5409, 5410, 5411, 5412, 5413, 5414, 5415, 5416, 5417, 5418, 5419, 5420, 5421, 5439, 5440, 5441, 5489, 5490, 5491, 5492, 5493, 5494, 5495, 5496, 5497, 5498, 5499, 5500, 5501, 5502, 5503, 5519, 5520, 5521, 5571, 5572, 5573, 5574, 5575, 5576, 5577, 5578, 5579, 5580, 5581, 5582, 5583, 5584, 5585, 5586, 5598, 5599, 5600, 5601, 5602, 5652, 5653, 5654, 5655, 5656, 5657, 5658, 5659, 5660, 5661, 5662, 5663, 5664, 5665, 5666, 5667, 5668, 5678, 5679, 5680, 5681, 5682, 5734, 5735, 5736, 5737, 5738, 5739, 5740, 5741, 5742, 5743, 5744, 5745, 5746, 5747, 5748, 5749, 5750, 5758, 5759, 5760, 5761, 5762, 5816, 5817, 5818, 5819, 5820, 5821, 5822, 5823, 5824, 5825, 5826, 5827, 5828, 5829, 5830, 5831, 5838, 5839, 5840, 5841, 5842, 5898, 5899, 5900, 5901, 5902, 5903, 5904, 5905, 5906, 5907, 5908, 5909, 5910, 5911, 5912, 5918, 5919, 5920, 5921, 5922, 5980, 5981, 5982, 5983, 5984, 5985, 5986, 5987, 5988, 5989, 5990, 5991, 5992, 5993, 5998, 5999, 6000, 6001, 6002, 6061, 6062, 6063, 6064, 6065, 6066, 6067, 6068, 6069, 6070, 6071, 6072, 6073, 6074, 6078, 6079, 6080, 6081, 6082, 6143, 6144, 6145, 6146, 6147, 6148, 6149, 6150, 6151, 6152, 6153, 6154, 6155, 6158, 6159, 6160, 6161, 6162, 6225, 6226, 6227, 6228, 6229, 6230, 6231, 6232, 6233, 6234, 6235, 6236, 6238, 6239, 6240, 6241, 6242, 6307, 6308, 6309, 6310, 6311, 6312, 6313, 6314, 6315, 6316, 6317, 6318, 6319, 6320, 6321, 6322, 6389, 6390, 6391, 6392, 6393, 6394, 6395, 6396, 6397, 6398, 6399, 6400, 6401, 6402, 6470, 6471, 6472, 6473, 6474, 6475, 6476, 6477, 6478, 6479, 6480, 6481, 6482, 6552, 6553, 6554, 6555, 6556, 6557, 6558, 6559, 6560]\n",
      "CPU times: user 165 ms, sys: 16.1 ms, total: 181 ms\n",
      "Wall time: 180 ms\n"
     ]
    }
   ],
   "source": [
    "%%time\n",
    "n_total = len(simulation.dataframe)\n",
    "n_train = len(simulation.dataframe[simulation.dataframe.type_of == \"train\"])\n",
    "n_val = len(simulation.dataframe[simulation.dataframe.type_of == \"val\"])\n",
    "n_test = len(simulation.dataframe[simulation.dataframe.type_of == \"test\"])\n",
    "n_train_hamiltonians = len(simulation.train_ids)\n",
    "n_val_hamiltonians = len(simulation.val_ids)\n",
    "n_test_hamiltonians = len(simulation.test_ids)\n",
    "n_total_hamiltonians = n_train_hamiltonians + n_val_hamiltonians + n_test_hamiltonians\n",
    "\n",
    "print(\"% train: \", n_train/n_total)\n",
    "print(\"% val: \",  n_val/n_total)\n",
    "print(\"% test: \", n_test/n_total)\n",
    "print(\"% train + val + test: \", (n_train+n_val+n_test)/n_total)\n",
    "print(\"\\n\")\n",
    "print(\"number of train hamiltonians: \", n_train_hamiltonians)\n",
    "print(\"number of val hamiltonians: \", n_val_hamiltonians)\n",
    "print(\"number of test hamiltonians: \", n_test_hamiltonians)\n",
    "print(\"total number of hamiltonians: \", n_total_hamiltonians)\n",
    "print(\"\\n\")\n",
    "print(\"train ids: \", simulation.train_ids)\n",
    "print(\"val ids: \", simulation.val_ids)\n",
    "print(\"test ids: \", simulation.test_ids)"
   ]
  },
  {
   "cell_type": "markdown",
   "metadata": {
    "papermill": {
     "duration": 0.017103,
     "end_time": "2020-07-09T18:36:31.724240",
     "exception": false,
     "start_time": "2020-07-09T18:36:31.707137",
     "status": "completed"
    },
    "tags": []
   },
   "source": [
    "## Running a simulation"
   ]
  },
  {
   "cell_type": "code",
   "execution_count": 23,
   "metadata": {
    "execution": {
     "iopub.execute_input": "2020-07-09T18:36:31.762541Z",
     "iopub.status.busy": "2020-07-09T18:36:31.762044Z",
     "iopub.status.idle": "2020-07-09T18:41:03.007660Z",
     "shell.execute_reply": "2020-07-09T18:41:03.007965Z"
    },
    "papermill": {
     "duration": 271.265756,
     "end_time": "2020-07-09T18:41:03.008030",
     "exception": false,
     "start_time": "2020-07-09T18:36:31.742274",
     "status": "completed"
    },
    "tags": []
   },
   "outputs": [
    {
     "name": "stderr",
     "output_type": "stream",
     "text": [
      "\r",
      "running experiments:   0%|          | 0/100 [00:00<?, ?it/s]"
     ]
    },
    {
     "name": "stderr",
     "output_type": "stream",
     "text": [
      "\r",
      "running experiments:   1%|          | 1/100 [00:02<04:25,  2.68s/it]"
     ]
    },
    {
     "name": "stderr",
     "output_type": "stream",
     "text": [
      "\r",
      "running experiments:   2%|▏         | 2/100 [00:05<04:28,  2.74s/it]"
     ]
    },
    {
     "name": "stderr",
     "output_type": "stream",
     "text": [
      "\r",
      "running experiments:   3%|▎         | 3/100 [00:08<04:26,  2.74s/it]"
     ]
    },
    {
     "name": "stderr",
     "output_type": "stream",
     "text": [
      "\r",
      "running experiments:   4%|▍         | 4/100 [00:11<04:24,  2.75s/it]"
     ]
    },
    {
     "name": "stderr",
     "output_type": "stream",
     "text": [
      "\r",
      "running experiments:   5%|▌         | 5/100 [00:13<04:17,  2.71s/it]"
     ]
    },
    {
     "name": "stderr",
     "output_type": "stream",
     "text": [
      "\r",
      "running experiments:   6%|▌         | 6/100 [00:16<04:13,  2.70s/it]"
     ]
    },
    {
     "name": "stderr",
     "output_type": "stream",
     "text": [
      "\r",
      "running experiments:   7%|▋         | 7/100 [00:19<04:12,  2.71s/it]"
     ]
    },
    {
     "name": "stderr",
     "output_type": "stream",
     "text": [
      "\r",
      "running experiments:   8%|▊         | 8/100 [00:21<04:07,  2.69s/it]"
     ]
    },
    {
     "name": "stderr",
     "output_type": "stream",
     "text": [
      "\r",
      "running experiments:   9%|▉         | 9/100 [00:24<04:02,  2.67s/it]"
     ]
    },
    {
     "name": "stderr",
     "output_type": "stream",
     "text": [
      "\r",
      "running experiments:  10%|█         | 10/100 [00:27<03:59,  2.66s/it]"
     ]
    },
    {
     "name": "stderr",
     "output_type": "stream",
     "text": [
      "\r",
      "running experiments:  11%|█         | 11/100 [00:29<03:58,  2.68s/it]"
     ]
    },
    {
     "name": "stderr",
     "output_type": "stream",
     "text": [
      "\r",
      "running experiments:  12%|█▏        | 12/100 [00:32<03:56,  2.69s/it]"
     ]
    },
    {
     "name": "stderr",
     "output_type": "stream",
     "text": [
      "\r",
      "running experiments:  13%|█▎        | 13/100 [00:35<03:54,  2.69s/it]"
     ]
    },
    {
     "name": "stderr",
     "output_type": "stream",
     "text": [
      "\r",
      "running experiments:  14%|█▍        | 14/100 [00:37<03:49,  2.67s/it]"
     ]
    },
    {
     "name": "stderr",
     "output_type": "stream",
     "text": [
      "\r",
      "running experiments:  15%|█▌        | 15/100 [00:40<03:48,  2.69s/it]"
     ]
    },
    {
     "name": "stderr",
     "output_type": "stream",
     "text": [
      "\r",
      "running experiments:  16%|█▌        | 16/100 [00:43<03:46,  2.70s/it]"
     ]
    },
    {
     "name": "stderr",
     "output_type": "stream",
     "text": [
      "\r",
      "running experiments:  17%|█▋        | 17/100 [00:45<03:45,  2.72s/it]"
     ]
    },
    {
     "name": "stderr",
     "output_type": "stream",
     "text": [
      "\r",
      "running experiments:  18%|█▊        | 18/100 [00:48<03:43,  2.73s/it]"
     ]
    },
    {
     "name": "stderr",
     "output_type": "stream",
     "text": [
      "\r",
      "running experiments:  19%|█▉        | 19/100 [00:51<03:38,  2.70s/it]"
     ]
    },
    {
     "name": "stderr",
     "output_type": "stream",
     "text": [
      "\r",
      "running experiments:  20%|██        | 20/100 [00:54<03:38,  2.73s/it]"
     ]
    },
    {
     "name": "stderr",
     "output_type": "stream",
     "text": [
      "\r",
      "running experiments:  21%|██        | 21/100 [00:57<03:40,  2.80s/it]"
     ]
    },
    {
     "name": "stderr",
     "output_type": "stream",
     "text": [
      "\r",
      "running experiments:  22%|██▏       | 22/100 [00:59<03:35,  2.77s/it]"
     ]
    },
    {
     "name": "stderr",
     "output_type": "stream",
     "text": [
      "\r",
      "running experiments:  23%|██▎       | 23/100 [01:02<03:32,  2.76s/it]"
     ]
    },
    {
     "name": "stderr",
     "output_type": "stream",
     "text": [
      "\r",
      "running experiments:  24%|██▍       | 24/100 [01:05<03:27,  2.74s/it]"
     ]
    },
    {
     "name": "stderr",
     "output_type": "stream",
     "text": [
      "\r",
      "running experiments:  25%|██▌       | 25/100 [01:07<03:23,  2.71s/it]"
     ]
    },
    {
     "name": "stderr",
     "output_type": "stream",
     "text": [
      "\r",
      "running experiments:  26%|██▌       | 26/100 [01:10<03:21,  2.73s/it]"
     ]
    },
    {
     "name": "stderr",
     "output_type": "stream",
     "text": [
      "\r",
      "running experiments:  27%|██▋       | 27/100 [01:13<03:17,  2.70s/it]"
     ]
    },
    {
     "name": "stderr",
     "output_type": "stream",
     "text": [
      "\r",
      "running experiments:  28%|██▊       | 28/100 [01:16<03:14,  2.70s/it]"
     ]
    },
    {
     "name": "stderr",
     "output_type": "stream",
     "text": [
      "\r",
      "running experiments:  29%|██▉       | 29/100 [01:18<03:12,  2.71s/it]"
     ]
    },
    {
     "name": "stderr",
     "output_type": "stream",
     "text": [
      "\r",
      "running experiments:  30%|███       | 30/100 [01:21<03:14,  2.78s/it]"
     ]
    },
    {
     "name": "stderr",
     "output_type": "stream",
     "text": [
      "\r",
      "running experiments:  31%|███       | 31/100 [01:24<03:10,  2.76s/it]"
     ]
    },
    {
     "name": "stderr",
     "output_type": "stream",
     "text": [
      "\r",
      "running experiments:  32%|███▏      | 32/100 [01:27<03:04,  2.72s/it]"
     ]
    },
    {
     "name": "stderr",
     "output_type": "stream",
     "text": [
      "\r",
      "running experiments:  33%|███▎      | 33/100 [01:29<03:03,  2.74s/it]"
     ]
    },
    {
     "name": "stderr",
     "output_type": "stream",
     "text": [
      "\r",
      "running experiments:  34%|███▍      | 34/100 [01:32<03:01,  2.75s/it]"
     ]
    },
    {
     "name": "stderr",
     "output_type": "stream",
     "text": [
      "\r",
      "running experiments:  35%|███▌      | 35/100 [01:35<02:57,  2.73s/it]"
     ]
    },
    {
     "name": "stderr",
     "output_type": "stream",
     "text": [
      "\r",
      "running experiments:  36%|███▌      | 36/100 [01:37<02:53,  2.70s/it]"
     ]
    },
    {
     "name": "stderr",
     "output_type": "stream",
     "text": [
      "\r",
      "running experiments:  37%|███▋      | 37/100 [01:40<02:50,  2.71s/it]"
     ]
    },
    {
     "name": "stderr",
     "output_type": "stream",
     "text": [
      "\r",
      "running experiments:  38%|███▊      | 38/100 [01:43<02:50,  2.75s/it]"
     ]
    },
    {
     "name": "stderr",
     "output_type": "stream",
     "text": [
      "\r",
      "running experiments:  39%|███▉      | 39/100 [01:46<02:45,  2.71s/it]"
     ]
    },
    {
     "name": "stderr",
     "output_type": "stream",
     "text": [
      "\r",
      "running experiments:  40%|████      | 40/100 [01:48<02:41,  2.70s/it]"
     ]
    },
    {
     "name": "stderr",
     "output_type": "stream",
     "text": [
      "\r",
      "running experiments:  41%|████      | 41/100 [01:51<02:40,  2.72s/it]"
     ]
    },
    {
     "name": "stderr",
     "output_type": "stream",
     "text": [
      "\r",
      "running experiments:  42%|████▏     | 42/100 [01:54<02:38,  2.72s/it]"
     ]
    },
    {
     "name": "stderr",
     "output_type": "stream",
     "text": [
      "\r",
      "running experiments:  43%|████▎     | 43/100 [01:56<02:33,  2.70s/it]"
     ]
    },
    {
     "name": "stderr",
     "output_type": "stream",
     "text": [
      "\r",
      "running experiments:  44%|████▍     | 44/100 [01:59<02:29,  2.67s/it]"
     ]
    },
    {
     "name": "stderr",
     "output_type": "stream",
     "text": [
      "\r",
      "running experiments:  45%|████▌     | 45/100 [02:02<02:26,  2.66s/it]"
     ]
    },
    {
     "name": "stderr",
     "output_type": "stream",
     "text": [
      "\r",
      "running experiments:  46%|████▌     | 46/100 [02:04<02:24,  2.67s/it]"
     ]
    },
    {
     "name": "stderr",
     "output_type": "stream",
     "text": [
      "\r",
      "running experiments:  47%|████▋     | 47/100 [02:07<02:21,  2.66s/it]"
     ]
    },
    {
     "name": "stderr",
     "output_type": "stream",
     "text": [
      "\r",
      "running experiments:  48%|████▊     | 48/100 [02:10<02:19,  2.68s/it]"
     ]
    },
    {
     "name": "stderr",
     "output_type": "stream",
     "text": [
      "\r",
      "running experiments:  49%|████▉     | 49/100 [02:13<02:19,  2.73s/it]"
     ]
    },
    {
     "name": "stderr",
     "output_type": "stream",
     "text": [
      "\r",
      "running experiments:  50%|█████     | 50/100 [02:15<02:14,  2.69s/it]"
     ]
    },
    {
     "name": "stderr",
     "output_type": "stream",
     "text": [
      "\r",
      "running experiments:  51%|█████     | 51/100 [02:18<02:11,  2.68s/it]"
     ]
    },
    {
     "name": "stderr",
     "output_type": "stream",
     "text": [
      "\r",
      "running experiments:  52%|█████▏    | 52/100 [02:20<02:08,  2.67s/it]"
     ]
    },
    {
     "name": "stderr",
     "output_type": "stream",
     "text": [
      "\r",
      "running experiments:  53%|█████▎    | 53/100 [02:23<02:06,  2.69s/it]"
     ]
    },
    {
     "name": "stderr",
     "output_type": "stream",
     "text": [
      "\r",
      "running experiments:  54%|█████▍    | 54/100 [02:26<02:04,  2.70s/it]"
     ]
    },
    {
     "name": "stderr",
     "output_type": "stream",
     "text": [
      "\r",
      "running experiments:  55%|█████▌    | 55/100 [02:29<02:00,  2.68s/it]"
     ]
    },
    {
     "name": "stderr",
     "output_type": "stream",
     "text": [
      "\r",
      "running experiments:  56%|█████▌    | 56/100 [02:31<01:58,  2.70s/it]"
     ]
    },
    {
     "name": "stderr",
     "output_type": "stream",
     "text": [
      "\r",
      "running experiments:  57%|█████▋    | 57/100 [02:34<01:57,  2.73s/it]"
     ]
    },
    {
     "name": "stderr",
     "output_type": "stream",
     "text": [
      "\r",
      "running experiments:  58%|█████▊    | 58/100 [02:37<01:53,  2.71s/it]"
     ]
    },
    {
     "name": "stderr",
     "output_type": "stream",
     "text": [
      "\r",
      "running experiments:  59%|█████▉    | 59/100 [02:39<01:51,  2.71s/it]"
     ]
    },
    {
     "name": "stderr",
     "output_type": "stream",
     "text": [
      "\r",
      "running experiments:  60%|██████    | 60/100 [02:42<01:50,  2.75s/it]"
     ]
    },
    {
     "name": "stderr",
     "output_type": "stream",
     "text": [
      "\r",
      "running experiments:  61%|██████    | 61/100 [02:45<01:46,  2.72s/it]"
     ]
    },
    {
     "name": "stderr",
     "output_type": "stream",
     "text": [
      "\r",
      "running experiments:  62%|██████▏   | 62/100 [02:48<01:42,  2.71s/it]"
     ]
    },
    {
     "name": "stderr",
     "output_type": "stream",
     "text": [
      "\r",
      "running experiments:  63%|██████▎   | 63/100 [02:50<01:39,  2.70s/it]"
     ]
    },
    {
     "name": "stderr",
     "output_type": "stream",
     "text": [
      "\r",
      "running experiments:  64%|██████▍   | 64/100 [02:53<01:39,  2.77s/it]"
     ]
    },
    {
     "name": "stderr",
     "output_type": "stream",
     "text": [
      "\r",
      "running experiments:  65%|██████▌   | 65/100 [02:56<01:37,  2.78s/it]"
     ]
    },
    {
     "name": "stderr",
     "output_type": "stream",
     "text": [
      "\r",
      "running experiments:  66%|██████▌   | 66/100 [02:59<01:33,  2.74s/it]"
     ]
    },
    {
     "name": "stderr",
     "output_type": "stream",
     "text": [
      "\r",
      "running experiments:  67%|██████▋   | 67/100 [03:02<01:32,  2.79s/it]"
     ]
    },
    {
     "name": "stderr",
     "output_type": "stream",
     "text": [
      "\r",
      "running experiments:  68%|██████▊   | 68/100 [03:04<01:27,  2.73s/it]"
     ]
    },
    {
     "name": "stderr",
     "output_type": "stream",
     "text": [
      "\r",
      "running experiments:  69%|██████▉   | 69/100 [03:07<01:24,  2.73s/it]"
     ]
    },
    {
     "name": "stderr",
     "output_type": "stream",
     "text": [
      "\r",
      "running experiments:  70%|███████   | 70/100 [03:10<01:21,  2.71s/it]"
     ]
    },
    {
     "name": "stderr",
     "output_type": "stream",
     "text": [
      "\r",
      "running experiments:  71%|███████   | 71/100 [03:12<01:17,  2.68s/it]"
     ]
    },
    {
     "name": "stderr",
     "output_type": "stream",
     "text": [
      "\r",
      "running experiments:  72%|███████▏  | 72/100 [03:15<01:15,  2.69s/it]"
     ]
    },
    {
     "name": "stderr",
     "output_type": "stream",
     "text": [
      "\r",
      "running experiments:  73%|███████▎  | 73/100 [03:18<01:13,  2.73s/it]"
     ]
    },
    {
     "name": "stderr",
     "output_type": "stream",
     "text": [
      "\r",
      "running experiments:  74%|███████▍  | 74/100 [03:20<01:10,  2.70s/it]"
     ]
    },
    {
     "name": "stderr",
     "output_type": "stream",
     "text": [
      "\r",
      "running experiments:  75%|███████▌  | 75/100 [03:23<01:07,  2.68s/it]"
     ]
    },
    {
     "name": "stderr",
     "output_type": "stream",
     "text": [
      "\r",
      "running experiments:  76%|███████▌  | 76/100 [03:26<01:05,  2.74s/it]"
     ]
    },
    {
     "name": "stderr",
     "output_type": "stream",
     "text": [
      "\r",
      "running experiments:  77%|███████▋  | 77/100 [03:28<01:02,  2.70s/it]"
     ]
    },
    {
     "name": "stderr",
     "output_type": "stream",
     "text": [
      "\r",
      "running experiments:  78%|███████▊  | 78/100 [03:31<01:00,  2.75s/it]"
     ]
    },
    {
     "name": "stderr",
     "output_type": "stream",
     "text": [
      "\r",
      "running experiments:  79%|███████▉  | 79/100 [03:34<00:56,  2.71s/it]"
     ]
    },
    {
     "name": "stderr",
     "output_type": "stream",
     "text": [
      "\r",
      "running experiments:  80%|████████  | 80/100 [03:37<00:53,  2.67s/it]"
     ]
    },
    {
     "name": "stderr",
     "output_type": "stream",
     "text": [
      "\r",
      "running experiments:  81%|████████  | 81/100 [03:39<00:50,  2.67s/it]"
     ]
    },
    {
     "name": "stderr",
     "output_type": "stream",
     "text": [
      "\r",
      "running experiments:  82%|████████▏ | 82/100 [03:42<00:48,  2.67s/it]"
     ]
    },
    {
     "name": "stderr",
     "output_type": "stream",
     "text": [
      "\r",
      "running experiments:  83%|████████▎ | 83/100 [03:45<00:45,  2.66s/it]"
     ]
    },
    {
     "name": "stderr",
     "output_type": "stream",
     "text": [
      "\r",
      "running experiments:  84%|████████▍ | 84/100 [03:47<00:42,  2.67s/it]"
     ]
    },
    {
     "name": "stderr",
     "output_type": "stream",
     "text": [
      "\r",
      "running experiments:  85%|████████▌ | 85/100 [03:50<00:39,  2.67s/it]"
     ]
    },
    {
     "name": "stderr",
     "output_type": "stream",
     "text": [
      "\r",
      "running experiments:  86%|████████▌ | 86/100 [03:53<00:37,  2.66s/it]"
     ]
    },
    {
     "name": "stderr",
     "output_type": "stream",
     "text": [
      "\r",
      "running experiments:  87%|████████▋ | 87/100 [03:55<00:35,  2.72s/it]"
     ]
    },
    {
     "name": "stderr",
     "output_type": "stream",
     "text": [
      "\r",
      "running experiments:  88%|████████▊ | 88/100 [03:58<00:32,  2.74s/it]"
     ]
    },
    {
     "name": "stderr",
     "output_type": "stream",
     "text": [
      "\r",
      "running experiments:  89%|████████▉ | 89/100 [04:01<00:29,  2.72s/it]"
     ]
    },
    {
     "name": "stderr",
     "output_type": "stream",
     "text": [
      "\r",
      "running experiments:  90%|█████████ | 90/100 [04:03<00:27,  2.70s/it]"
     ]
    },
    {
     "name": "stderr",
     "output_type": "stream",
     "text": [
      "\r",
      "running experiments:  91%|█████████ | 91/100 [04:06<00:24,  2.69s/it]"
     ]
    },
    {
     "name": "stderr",
     "output_type": "stream",
     "text": [
      "\r",
      "running experiments:  92%|█████████▏| 92/100 [04:09<00:21,  2.74s/it]"
     ]
    },
    {
     "name": "stderr",
     "output_type": "stream",
     "text": [
      "\r",
      "running experiments:  93%|█████████▎| 93/100 [04:12<00:19,  2.74s/it]"
     ]
    },
    {
     "name": "stderr",
     "output_type": "stream",
     "text": [
      "\r",
      "running experiments:  94%|█████████▍| 94/100 [04:15<00:16,  2.75s/it]"
     ]
    },
    {
     "name": "stderr",
     "output_type": "stream",
     "text": [
      "\r",
      "running experiments:  95%|█████████▌| 95/100 [04:17<00:13,  2.70s/it]"
     ]
    },
    {
     "name": "stderr",
     "output_type": "stream",
     "text": [
      "\r",
      "running experiments:  96%|█████████▌| 96/100 [04:20<00:10,  2.71s/it]"
     ]
    },
    {
     "name": "stderr",
     "output_type": "stream",
     "text": [
      "\r",
      "running experiments:  97%|█████████▋| 97/100 [04:23<00:08,  2.71s/it]"
     ]
    },
    {
     "name": "stderr",
     "output_type": "stream",
     "text": [
      "\r",
      "running experiments:  98%|█████████▊| 98/100 [04:25<00:05,  2.72s/it]"
     ]
    },
    {
     "name": "stderr",
     "output_type": "stream",
     "text": [
      "\r",
      "running experiments:  99%|█████████▉| 99/100 [04:28<00:02,  2.70s/it]"
     ]
    },
    {
     "name": "stderr",
     "output_type": "stream",
     "text": [
      "\r",
      "running experiments: 100%|██████████| 100/100 [04:31<00:00,  2.72s/it]"
     ]
    },
    {
     "name": "stderr",
     "output_type": "stream",
     "text": [
      "\r",
      "running experiments: 100%|██████████| 100/100 [04:31<00:00,  2.71s/it]"
     ]
    },
    {
     "name": "stdout",
     "output_type": "stream",
     "text": [
      "CPU times: user 4min 30s, sys: 813 ms, total: 4min 31s\n",
      "Wall time: 4min 31s\n"
     ]
    },
    {
     "name": "stderr",
     "output_type": "stream",
     "text": [
      "\n"
     ]
    }
   ],
   "source": [
    "%%time\n",
    "simulation.run_simulation(n_experiments, start_n, fit_params,shuffle_rows, pred_params, random_features, \\\n",
    "                          store_in_lists, save_eigenvector, save_hamiltonian, save_accuracy,\\\n",
    "                          save_models)\n",
    "if simulation.fourier_mode is not None:\n",
    "    simulation.fourier_dataframe.head(10)"
   ]
  },
  {
   "cell_type": "code",
   "execution_count": 24,
   "metadata": {
    "execution": {
     "iopub.execute_input": "2020-07-09T18:41:03.078381Z",
     "iopub.status.busy": "2020-07-09T18:41:03.078072Z",
     "iopub.status.idle": "2020-07-09T18:41:03.103833Z",
     "shell.execute_reply": "2020-07-09T18:41:03.103513Z"
    },
    "papermill": {
     "duration": 0.061404,
     "end_time": "2020-07-09T18:41:03.103882",
     "exception": false,
     "start_time": "2020-07-09T18:41:03.042478",
     "status": "completed"
    },
    "tags": []
   },
   "outputs": [
    {
     "data": {
      "text/html": [
       "<div>\n",
       "<style scoped>\n",
       "    .dataframe tbody tr th:only-of-type {\n",
       "        vertical-align: middle;\n",
       "    }\n",
       "\n",
       "    .dataframe tbody tr th {\n",
       "        vertical-align: top;\n",
       "    }\n",
       "\n",
       "    .dataframe thead th {\n",
       "        text-align: right;\n",
       "    }\n",
       "</style>\n",
       "<table border=\"1\" class=\"dataframe\">\n",
       "  <thead>\n",
       "    <tr style=\"text-align: right;\">\n",
       "      <th></th>\n",
       "      <th>id</th>\n",
       "      <th>path</th>\n",
       "      <th>t1</th>\n",
       "      <th>t2</th>\n",
       "      <th>winding</th>\n",
       "      <th>phase</th>\n",
       "      <th>pred_phase</th>\n",
       "      <th>type_of</th>\n",
       "      <th>feat0</th>\n",
       "      <th>feat1</th>\n",
       "      <th>...</th>\n",
       "      <th>feat90</th>\n",
       "      <th>feat91</th>\n",
       "      <th>feat92</th>\n",
       "      <th>feat93</th>\n",
       "      <th>feat94</th>\n",
       "      <th>feat95</th>\n",
       "      <th>feat96</th>\n",
       "      <th>feat97</th>\n",
       "      <th>feat98</th>\n",
       "      <th>feat99</th>\n",
       "    </tr>\n",
       "  </thead>\n",
       "  <tbody>\n",
       "    <tr>\n",
       "      <th>0</th>\n",
       "      <td>0</td>\n",
       "      <td>H_-2_-2_0.509296.dat</td>\n",
       "      <td>-2.0</td>\n",
       "      <td>-2.0</td>\n",
       "      <td>0.509296</td>\n",
       "      <td>999</td>\n",
       "      <td>666</td>\n",
       "      <td>test</td>\n",
       "      <td>0.100000</td>\n",
       "      <td>0.100000</td>\n",
       "      <td>...</td>\n",
       "      <td>0.100000</td>\n",
       "      <td>0.100000</td>\n",
       "      <td>0.100000</td>\n",
       "      <td>0.100000</td>\n",
       "      <td>0.100000</td>\n",
       "      <td>0.100000</td>\n",
       "      <td>0.100000</td>\n",
       "      <td>0.100000</td>\n",
       "      <td>0.100000</td>\n",
       "      <td>0.100000</td>\n",
       "    </tr>\n",
       "    <tr>\n",
       "      <th>1</th>\n",
       "      <td>0</td>\n",
       "      <td>H_-2_-2_0.509296.dat</td>\n",
       "      <td>-2.0</td>\n",
       "      <td>-2.0</td>\n",
       "      <td>0.509296</td>\n",
       "      <td>999</td>\n",
       "      <td>666</td>\n",
       "      <td>test</td>\n",
       "      <td>0.141421</td>\n",
       "      <td>0.141142</td>\n",
       "      <td>...</td>\n",
       "      <td>0.114412</td>\n",
       "      <td>0.108967</td>\n",
       "      <td>0.123928</td>\n",
       "      <td>0.119406</td>\n",
       "      <td>0.131490</td>\n",
       "      <td>0.127962</td>\n",
       "      <td>0.136978</td>\n",
       "      <td>0.134500</td>\n",
       "      <td>0.140306</td>\n",
       "      <td>0.138916</td>\n",
       "    </tr>\n",
       "    <tr>\n",
       "      <th>2</th>\n",
       "      <td>0</td>\n",
       "      <td>H_-2_-2_0.509296.dat</td>\n",
       "      <td>-2.0</td>\n",
       "      <td>-2.0</td>\n",
       "      <td>0.509296</td>\n",
       "      <td>999</td>\n",
       "      <td>666</td>\n",
       "      <td>test</td>\n",
       "      <td>0.141421</td>\n",
       "      <td>0.140306</td>\n",
       "      <td>...</td>\n",
       "      <td>0.043702</td>\n",
       "      <td>0.026500</td>\n",
       "      <td>0.075777</td>\n",
       "      <td>0.060214</td>\n",
       "      <td>0.103092</td>\n",
       "      <td>0.090145</td>\n",
       "      <td>0.123928</td>\n",
       "      <td>0.114412</td>\n",
       "      <td>0.136978</td>\n",
       "      <td>0.131490</td>\n",
       "    </tr>\n",
       "    <tr>\n",
       "      <th>3</th>\n",
       "      <td>0</td>\n",
       "      <td>H_-2_-2_0.509296.dat</td>\n",
       "      <td>-2.0</td>\n",
       "      <td>-2.0</td>\n",
       "      <td>0.509296</td>\n",
       "      <td>999</td>\n",
       "      <td>666</td>\n",
       "      <td>test</td>\n",
       "      <td>-0.100000</td>\n",
       "      <td>0.100000</td>\n",
       "      <td>...</td>\n",
       "      <td>-0.100000</td>\n",
       "      <td>0.100000</td>\n",
       "      <td>-0.100000</td>\n",
       "      <td>0.100000</td>\n",
       "      <td>-0.100000</td>\n",
       "      <td>0.100000</td>\n",
       "      <td>-0.100000</td>\n",
       "      <td>0.100000</td>\n",
       "      <td>-0.100000</td>\n",
       "      <td>0.100000</td>\n",
       "    </tr>\n",
       "    <tr>\n",
       "      <th>4</th>\n",
       "      <td>0</td>\n",
       "      <td>H_-2_-2_0.509296.dat</td>\n",
       "      <td>-2.0</td>\n",
       "      <td>-2.0</td>\n",
       "      <td>0.509296</td>\n",
       "      <td>999</td>\n",
       "      <td>666</td>\n",
       "      <td>test</td>\n",
       "      <td>0.000509</td>\n",
       "      <td>-0.008372</td>\n",
       "      <td>...</td>\n",
       "      <td>-0.082713</td>\n",
       "      <td>-0.089753</td>\n",
       "      <td>-0.067684</td>\n",
       "      <td>-0.075347</td>\n",
       "      <td>-0.051587</td>\n",
       "      <td>-0.059753</td>\n",
       "      <td>-0.034677</td>\n",
       "      <td>-0.043217</td>\n",
       "      <td>-0.017220</td>\n",
       "      <td>-0.026000</td>\n",
       "    </tr>\n",
       "    <tr>\n",
       "      <th>5</th>\n",
       "      <td>0</td>\n",
       "      <td>H_-2_-2_0.509296.dat</td>\n",
       "      <td>-2.0</td>\n",
       "      <td>-2.0</td>\n",
       "      <td>0.509296</td>\n",
       "      <td>999</td>\n",
       "      <td>666</td>\n",
       "      <td>test</td>\n",
       "      <td>0.001204</td>\n",
       "      <td>-0.016530</td>\n",
       "      <td>...</td>\n",
       "      <td>-0.134123</td>\n",
       "      <td>-0.138686</td>\n",
       "      <td>-0.118757</td>\n",
       "      <td>-0.127445</td>\n",
       "      <td>-0.095929</td>\n",
       "      <td>-0.108196</td>\n",
       "      <td>-0.067073</td>\n",
       "      <td>-0.082149</td>\n",
       "      <td>-0.034003</td>\n",
       "      <td>-0.050940</td>\n",
       "    </tr>\n",
       "    <tr>\n",
       "      <th>6</th>\n",
       "      <td>0</td>\n",
       "      <td>H_-2_-2_0.509296.dat</td>\n",
       "      <td>-2.0</td>\n",
       "      <td>-2.0</td>\n",
       "      <td>0.509296</td>\n",
       "      <td>999</td>\n",
       "      <td>666</td>\n",
       "      <td>test</td>\n",
       "      <td>-0.141421</td>\n",
       "      <td>-0.138980</td>\n",
       "      <td>...</td>\n",
       "      <td>0.043375</td>\n",
       "      <td>0.067830</td>\n",
       "      <td>-0.009222</td>\n",
       "      <td>0.017385</td>\n",
       "      <td>-0.060524</td>\n",
       "      <td>-0.035502</td>\n",
       "      <td>-0.103326</td>\n",
       "      <td>-0.083403</td>\n",
       "      <td>-0.131616</td>\n",
       "      <td>-0.119589</td>\n",
       "    </tr>\n",
       "    <tr>\n",
       "      <th>7</th>\n",
       "      <td>0</td>\n",
       "      <td>H_-2_-2_0.509296.dat</td>\n",
       "      <td>-2.0</td>\n",
       "      <td>-2.0</td>\n",
       "      <td>0.509296</td>\n",
       "      <td>999</td>\n",
       "      <td>666</td>\n",
       "      <td>test</td>\n",
       "      <td>-0.000826</td>\n",
       "      <td>0.025688</td>\n",
       "      <td>...</td>\n",
       "      <td>0.134753</td>\n",
       "      <td>0.124324</td>\n",
       "      <td>0.141088</td>\n",
       "      <td>0.140407</td>\n",
       "      <td>0.127608</td>\n",
       "      <td>0.136771</td>\n",
       "      <td>0.096206</td>\n",
       "      <td>0.113925</td>\n",
       "      <td>0.051292</td>\n",
       "      <td>0.075079</td>\n",
       "    </tr>\n",
       "    <tr>\n",
       "      <th>8</th>\n",
       "      <td>0</td>\n",
       "      <td>H_-2_-2_0.509296.dat</td>\n",
       "      <td>-2.0</td>\n",
       "      <td>-2.0</td>\n",
       "      <td>0.509296</td>\n",
       "      <td>999</td>\n",
       "      <td>666</td>\n",
       "      <td>test</td>\n",
       "      <td>0.141417</td>\n",
       "      <td>0.136684</td>\n",
       "      <td>...</td>\n",
       "      <td>-0.115093</td>\n",
       "      <td>-0.131915</td>\n",
       "      <td>-0.061266</td>\n",
       "      <td>-0.091040</td>\n",
       "      <td>0.007717</td>\n",
       "      <td>-0.027643</td>\n",
       "      <td>0.074791</td>\n",
       "      <td>0.042592</td>\n",
       "      <td>0.123363</td>\n",
       "      <td>0.102291</td>\n",
       "    </tr>\n",
       "    <tr>\n",
       "      <th>9</th>\n",
       "      <td>0</td>\n",
       "      <td>H_-2_-2_0.509296.dat</td>\n",
       "      <td>-2.0</td>\n",
       "      <td>-2.0</td>\n",
       "      <td>0.509296</td>\n",
       "      <td>999</td>\n",
       "      <td>666</td>\n",
       "      <td>test</td>\n",
       "      <td>0.001302</td>\n",
       "      <td>0.036430</td>\n",
       "      <td>...</td>\n",
       "      <td>0.082068</td>\n",
       "      <td>0.050848</td>\n",
       "      <td>0.127402</td>\n",
       "      <td>0.108132</td>\n",
       "      <td>0.141218</td>\n",
       "      <td>0.138667</td>\n",
       "      <td>0.120099</td>\n",
       "      <td>0.134896</td>\n",
       "      <td>0.069268</td>\n",
       "      <td>0.097755</td>\n",
       "    </tr>\n",
       "  </tbody>\n",
       "</table>\n",
       "<p>10 rows × 108 columns</p>\n",
       "</div>"
      ],
      "text/plain": [
       "   id                  path   t1   t2   winding  phase  pred_phase type_of  \\\n",
       "0   0  H_-2_-2_0.509296.dat -2.0 -2.0  0.509296    999         666    test   \n",
       "1   0  H_-2_-2_0.509296.dat -2.0 -2.0  0.509296    999         666    test   \n",
       "2   0  H_-2_-2_0.509296.dat -2.0 -2.0  0.509296    999         666    test   \n",
       "3   0  H_-2_-2_0.509296.dat -2.0 -2.0  0.509296    999         666    test   \n",
       "4   0  H_-2_-2_0.509296.dat -2.0 -2.0  0.509296    999         666    test   \n",
       "5   0  H_-2_-2_0.509296.dat -2.0 -2.0  0.509296    999         666    test   \n",
       "6   0  H_-2_-2_0.509296.dat -2.0 -2.0  0.509296    999         666    test   \n",
       "7   0  H_-2_-2_0.509296.dat -2.0 -2.0  0.509296    999         666    test   \n",
       "8   0  H_-2_-2_0.509296.dat -2.0 -2.0  0.509296    999         666    test   \n",
       "9   0  H_-2_-2_0.509296.dat -2.0 -2.0  0.509296    999         666    test   \n",
       "\n",
       "      feat0     feat1  ...    feat90    feat91    feat92    feat93    feat94  \\\n",
       "0  0.100000  0.100000  ...  0.100000  0.100000  0.100000  0.100000  0.100000   \n",
       "1  0.141421  0.141142  ...  0.114412  0.108967  0.123928  0.119406  0.131490   \n",
       "2  0.141421  0.140306  ...  0.043702  0.026500  0.075777  0.060214  0.103092   \n",
       "3 -0.100000  0.100000  ... -0.100000  0.100000 -0.100000  0.100000 -0.100000   \n",
       "4  0.000509 -0.008372  ... -0.082713 -0.089753 -0.067684 -0.075347 -0.051587   \n",
       "5  0.001204 -0.016530  ... -0.134123 -0.138686 -0.118757 -0.127445 -0.095929   \n",
       "6 -0.141421 -0.138980  ...  0.043375  0.067830 -0.009222  0.017385 -0.060524   \n",
       "7 -0.000826  0.025688  ...  0.134753  0.124324  0.141088  0.140407  0.127608   \n",
       "8  0.141417  0.136684  ... -0.115093 -0.131915 -0.061266 -0.091040  0.007717   \n",
       "9  0.001302  0.036430  ...  0.082068  0.050848  0.127402  0.108132  0.141218   \n",
       "\n",
       "     feat95    feat96    feat97    feat98    feat99  \n",
       "0  0.100000  0.100000  0.100000  0.100000  0.100000  \n",
       "1  0.127962  0.136978  0.134500  0.140306  0.138916  \n",
       "2  0.090145  0.123928  0.114412  0.136978  0.131490  \n",
       "3  0.100000 -0.100000  0.100000 -0.100000  0.100000  \n",
       "4 -0.059753 -0.034677 -0.043217 -0.017220 -0.026000  \n",
       "5 -0.108196 -0.067073 -0.082149 -0.034003 -0.050940  \n",
       "6 -0.035502 -0.103326 -0.083403 -0.131616 -0.119589  \n",
       "7  0.136771  0.096206  0.113925  0.051292  0.075079  \n",
       "8 -0.027643  0.074791  0.042592  0.123363  0.102291  \n",
       "9  0.138667  0.120099  0.134896  0.069268  0.097755  \n",
       "\n",
       "[10 rows x 108 columns]"
      ]
     },
     "execution_count": 24,
     "metadata": {},
     "output_type": "execute_result"
    }
   ],
   "source": [
    "simulation.dataframe.head(10)"
   ]
  },
  {
   "cell_type": "markdown",
   "metadata": {
    "papermill": {
     "duration": 0.03504,
     "end_time": "2020-07-09T18:41:03.173130",
     "exception": false,
     "start_time": "2020-07-09T18:41:03.138090",
     "status": "completed"
    },
    "tags": []
   },
   "source": [
    "#### Viewing a random sample"
   ]
  },
  {
   "cell_type": "code",
   "execution_count": 25,
   "metadata": {
    "execution": {
     "iopub.execute_input": "2020-07-09T18:41:03.245504Z",
     "iopub.status.busy": "2020-07-09T18:41:03.245194Z",
     "iopub.status.idle": "2020-07-09T18:41:03.276912Z",
     "shell.execute_reply": "2020-07-09T18:41:03.276591Z"
    },
    "papermill": {
     "duration": 0.06857,
     "end_time": "2020-07-09T18:41:03.276964",
     "exception": false,
     "start_time": "2020-07-09T18:41:03.208394",
     "status": "completed"
    },
    "tags": []
   },
   "outputs": [
    {
     "name": "stdout",
     "output_type": "stream",
     "text": [
      "CPU times: user 21.2 ms, sys: 7 µs, total: 21.2 ms\n",
      "Wall time: 21 ms\n"
     ]
    }
   ],
   "source": [
    "%%time\n",
    "if simulation.fourier_mode is not None:\n",
    "    simulation.fourier_dataframe.sample(frac=0.1, replace=False)"
   ]
  },
  {
   "cell_type": "markdown",
   "metadata": {
    "papermill": {
     "duration": 0.035092,
     "end_time": "2020-07-09T18:41:03.347352",
     "exception": false,
     "start_time": "2020-07-09T18:41:03.312260",
     "status": "completed"
    },
    "tags": []
   },
   "source": [
    "#### Checking train/val/test splits again"
   ]
  },
  {
   "cell_type": "code",
   "execution_count": 26,
   "metadata": {
    "execution": {
     "iopub.execute_input": "2020-07-09T18:41:03.418444Z",
     "iopub.status.busy": "2020-07-09T18:41:03.418127Z",
     "iopub.status.idle": "2020-07-09T18:41:03.602959Z",
     "shell.execute_reply": "2020-07-09T18:41:03.603264Z"
    },
    "papermill": {
     "duration": 0.221555,
     "end_time": "2020-07-09T18:41:03.603329",
     "exception": false,
     "start_time": "2020-07-09T18:41:03.381774",
     "status": "completed"
    },
    "tags": []
   },
   "outputs": [
    {
     "name": "stdout",
     "output_type": "stream",
     "text": [
      "% train:  0.08474317939338516\n",
      "% val:  0.7620789513793629\n",
      "% test:  0.15317786922725193\n",
      "% train + val + test:  1.0\n",
      "\n",
      "\n",
      "number of train hamiltonians:  556\n",
      "number of val hamiltonians:  5000\n",
      "number of test hamiltonians:  1005\n",
      "total number of hamiltonians:  6561\n",
      "\n",
      "\n",
      "train ids:  [5296, 2074, 1016, 207, 3196, 2499, 6184, 3443, 1955, 5079, 5635, 5959, 885, 1030, 917, 6515, 258, 4660, 42, 4983, 2433, 4954, 4357, 1133, 18, 2738, 628, 1006, 5619, 2413, 1867, 1273, 4573, 1569, 633, 4274, 1052, 4133, 1373, 4366, 3634, 1630, 2850, 4460, 149, 6044, 3795, 3306, 2008, 697, 2439, 3553, 5543, 1192, 175, 3585, 1870, 350, 268, 6190, 6464, 3665, 174, 1418, 4176, 5391, 4150, 2912, 5569, 4914, 1264, 4718, 2650, 5528, 703, 106, 693, 972, 6209, 2616, 6532, 2936, 1994, 2219, 2069, 5193, 5548, 3161, 4609, 1105, 5810, 5615, 4399, 3943, 690, 3115, 6108, 5466, 4687, 6531, 502, 2221, 213, 627, 4058, 1625, 3868, 1847, 5786, 3969, 581, 5061, 3532, 4612, 140, 3015, 2902, 3966, 4299, 969, 273, 4159, 35, 2671, 3378, 5283, 2759, 6011, 2615, 2278, 2238, 2078, 432, 3818, 3080, 3963, 4415, 3584, 2425, 3557, 5779, 2955, 6092, 2504, 5769, 5564, 461, 3057, 4557, 2881, 2436, 5565, 3262, 6343, 830, 4253, 449, 1899, 266, 6491, 4229, 6024, 3253, 4868, 2742, 4370, 1488, 807, 3186, 1536, 589, 6328, 2986, 1842, 6192, 6421, 4434, 1050, 3243, 3165, 4533, 3488, 891, 3555, 5104, 3358, 1155, 1934, 3534, 5370, 2692, 3630, 3385, 3304, 6505, 3215, 4656, 4706, 617, 3117, 2467, 132, 1631, 4282, 3877, 3099, 4862, 5784, 2758, 746, 3413, 1100, 3387, 5590, 6341, 255, 992, 1252, 3574, 5184, 4749, 4929, 1346, 5227, 3763, 3927, 5056, 1676, 5807, 1054, 2690, 3050, 6194, 2856, 1009, 5935, 838, 1939, 5699, 2435, 4394, 6089, 6165, 2753, 919, 3285, 2749, 6436, 66, 5802, 2710, 2432, 2466, 1010, 446, 4163, 5047, 3536, 3149, 3086, 2592, 2203, 4177, 5592, 4529, 6548, 6468, 281, 5964, 3403, 3507, 1319, 3018, 2979, 5853, 1606, 3852, 4154, 4001, 2911, 2825, 2561, 590, 5307, 3228, 3118, 2091, 5640, 6219, 6412, 30, 3992, 3971, 6003, 2910, 184, 616, 5961, 2893, 1154, 4393, 4057, 501, 4635, 46, 4505, 1272, 1005, 4790, 437, 6113, 2088, 545, 967, 3479, 4174, 3556, 2370, 3164, 4048, 3860, 1276, 2170, 4784, 621, 6345, 2151, 4016, 4127, 5115, 6407, 4947, 3239, 5018, 828, 3084, 5311, 2428, 6423, 5117, 4139, 2998, 3537, 4072, 2752, 2390, 2239, 4047, 6182, 2407, 745, 6518, 5547, 3710, 1372, 138, 1656, 4884, 1915, 2672, 3180, 2886, 3081, 4952, 2452, 3182, 5788, 4385, 3169, 1545, 564, 4903, 3486, 2488, 3406, 1896, 5443, 3897, 1568, 3333, 3206, 3587, 2386, 438, 460, 2514, 1186, 3072, 2590, 2438, 2598, 4075, 1649, 2485, 5849, 3887, 3911, 3510, 2639, 5979, 4682, 6033, 1593, 5395, 5306, 5957, 1371, 45, 2447, 2336, 3094, 3299, 6418, 3543, 4369, 4851, 3731, 5606, 3948, 4809, 1266, 2820, 4524, 1998, 2021, 2019, 2675, 3150, 2262, 2676, 1194, 2713, 1771, 6461, 5507, 5014, 2307, 6500, 6373, 4013, 1686, 936, 2988, 285, 6337, 3867, 4023, 3813, 4311, 859, 5636, 1461, 3379, 2331, 2163, 3494, 1685, 588, 3131, 3649, 582, 4124, 1404, 1674, 549, 1933, 3390, 2657, 5424, 2176, 3516, 2659, 5813, 4036, 5715, 5563, 63, 3429, 100, 5094, 4704, 784, 1762, 3070, 5861, 6022, 3247, 3217, 4278, 1978, 2965, 271, 2683, 4990, 1431, 6166, 4337, 704, 4970, 3787, 2839, 2950, 5940, 6058, 3340, 4277, 1085, 192, 5130, 2673, 5277, 1932, 3065, 3580, 463, 5948, 306, 1909, 5137, 3789, 422, 5544, 104, 5870, 4817, 262, 1948, 6527, 2921, 3994, 6117, 1294, 356, 3872, 4470, 2857, 5016, 3059, 4050, 1180, 130, 2022, 1131, 5159, 4733, 148, 3668, 3880, 1657, 1384, 2264, 3188, 5487, 1765, 2473, 2619]\n",
      "val ids:  [2931, 3702, 3564, 6300, 5055, 2803, 1694, 4086, 4260, 3255, 3736, 916, 2443, 3654, 2416, 3945, 4523, 179, 2699, 664, 2943, 4980, 3276, 5811, 5693, 5700, 4374, 224, 6488, 3181, 4212, 1711, 21, 2643, 1811, 4248, 1017, 3205, 1629, 1481, 1620, 5062, 3047, 2077, 2544, 597, 3859, 6506, 5177, 3423, 1453, 914, 5963, 427, 4536, 4156, 3846, 5043, 4362, 4895, 1349, 5955, 4584, 1107, 2579, 3384, 4827, 2427, 6550, 4039, 4724, 4111, 864, 4710, 2805, 3342, 3315, 4472, 809, 6362, 5019, 336, 2168, 2824, 4521, 3127, 3294, 4196, 4712, 3597, 5556, 5972, 3400, 4032, 5621, 2989, 4027, 4234, 636, 6222, 364, 755, 4789, 2956, 2763, 4115, 2312, 3660, 6096, 3962, 1202, 1130, 1709, 5278, 1208, 512, 3807, 6410, 4190, 6366, 3036, 5105, 29, 6342, 2434, 4539, 2854, 4330, 2231, 5149, 2933, 183, 2842, 593, 5290, 1320, 1375, 634, 3204, 1002, 6251, 5607, 1207, 4024, 3183, 4902, 4051, 2600, 1671, 1797, 5966, 1824, 1564, 555, 3876, 6193, 2146, 5299, 3260, 3602, 1174, 6280, 5154, 6048, 2032, 2209, 3327, 3168, 3704, 1499, 6330, 3004, 3391, 3261, 3227, 4937, 1907, 3422, 2411, 4567, 933, 5126, 1525, 3388, 1986, 6121, 3502, 3975, 1508, 6490, 4321, 115, 4938, 4975, 1703, 6254, 3229, 3147, 3889, 3331, 4662, 4250, 4107, 3457, 6106, 2328, 5481, 603, 1856, 1534, 5670, 1990, 1792, 2179, 1987, 36, 5627, 4580, 302, 4089, 4452, 1084, 6287, 4120, 1301, 1188, 2117, 6008, 6046, 3466, 4517, 288, 1419, 1203, 6077, 1859, 3122, 2306, 867, 6213, 2445, 4448, 3592, 5950, 3793, 5947, 3419, 2067, 4054, 3906, 4957, 3745, 6508, 5030, 776, 5220, 6090, 3321, 6346, 1045, 6364, 4224, 4444, 5484, 6163, 705, 1053, 3090, 2978, 2020, 5687, 3354, 4931, 5234, 2760, 103, 1517, 4088, 591, 6419, 3098, 3281, 3841, 2689, 6349, 134, 2513, 6259, 1817, 2337, 4540, 62, 3875, 2245, 3732, 770, 637, 4308, 3464, 6451, 941, 5976, 6293, 5969, 4828, 4804, 5357, 3742, 4537, 3865, 3672, 5185, 3970, 1906, 4666, 4626, 3363, 2188, 1410, 1108, 2644, 4772, 3675, 2726, 5848, 4147, 3730, 583, 5434, 4028, 4227, 4043, 6417, 3415, 5930, 6216, 1237, 4155, 3039, 1020, 3309, 1293, 3166, 454, 710, 5873, 2545, 4203, 1013, 1334, 3604, 3074, 5218, 2059, 3769, 845, 346, 666, 4423, 726, 2894, 2309, 1445, 1580, 3454, 2026, 2661, 5712, 227, 4005, 4854, 2863, 1239, 5239, 3544, 5404, 2507, 189, 5566, 3258, 1547, 4833, 3162, 2246, 2330, 1891, 6334, 4313, 307, 3112, 5464, 6102, 4439, 4438, 2877, 361, 6432, 6512, 366, 6507, 1913, 5053, 6530, 1437, 6202, 6335, 4714, 1702, 688, 1538, 2963, 5034, 5204, 2137, 551, 3883, 783, 4984, 342, 2806, 4941, 716, 388, 3085, 6107, 6329, 1042, 3624, 2254, 5021, 2874, 3432, 5962, 2586, 5265, 199, 3241, 5881, 1012, 3289, 3882, 5595, 1911, 59, 3759, 2100, 909, 2282, 4135, 3531, 4471, 6200, 5783, 4856, 1583, 6180, 1253, 871, 1163, 3431, 3195, 4187, 6076, 763, 3082, 4608, 3472, 3866, 2347, 4143, 3029, 136, 5273, 1528, 6122, 5787, 6517, 5971, 5298, 2025, 2261, 6433, 5450, 5529, 3754, 4825, 926, 3643, 1115, 5100, 1213, 73, 4788, 1926, 3408, 3126, 995, 2934, 2538, 4392, 3235, 185, 3353, 4066, 6220, 317, 2220, 2608, 1751, 1618, 927, 1420, 4149, 4713, 4726, 1036, 1956, 5013, 5042, 533, 2187, 4728, 2066, 3462, 1173, 3030, 5072, 4782, 172, 4552, 620, 3076, 1614, 760, 3042, 6529, 1931, 5074, 2769, 2631, 4943, 1206, 5301, 2748, 2521, 2463, 3640, 4658, 2664, 685, 2688, 1098, 565, 5160, 1159, 3009, 3199, 3184, 3067, 1466, 2093, 1675, 5436, 5686, 3699, 6034, 1300, 3512, 3110, 4451, 6083, 426, 6291, 3847, 279, 2125, 2663, 1240, 70, 28, 1262, 6084, 6139, 2498, 2352, 339, 4661, 6455, 994, 4071, 5673, 6191, 4302, 1073, 4690, 596, 5512, 4497, 1539, 2113, 2230, 93, 921, 1738, 3577, 1985, 1486, 5352, 5289, 2165, 1902, 5540, 2288, 3900, 4256, 2394, 5925, 4568, 2780, 2096, 6009, 1339, 4565, 5625, 4459, 418, 2356, 1820, 1823, 1928, 6489, 2506, 6459, 2972, 2476, 3032, 5876, 6304, 6383, 944, 2895, 2662, 5135, 6356, 1443, 6427, 4333, 439, 631, 3578, 4702, 3506, 5610, 2403, 2276, 3366, 4623, 5471, 338, 6439, 4574, 5864, 2897, 2035, 5068, 4288, 54, 836, 3513, 1046, 2054, 76, 4906, 6049, 4069, 44, 1530, 2958, 3638, 4284, 4269, 236, 5766, 4735, 1335, 3096, 5613, 4170, 5211, 385, 3541, 5894, 4243, 1333, 5856, 5073, 3481, 2660, 5588, 4912, 4668, 2766, 3426, 2255, 5235, 4878, 4041, 1698, 2719, 2323, 424, 3752, 3038, 3024, 5684, 1566, 4870, 1512, 2667, 3939, 6125, 2559, 2355, 2715, 3373, 1875, 2090, 876, 4084, 1590, 3380, 2654, 3201, 2286, 3519, 6368, 2011, 4055, 831, 1370, 3154, 4188, 803, 6253, 1744, 3923, 2970, 4389, 3275, 3375, 2410, 2043, 368, 2974, 1504, 1255, 4077, 1739, 1468, 3684, 1165, 948, 4045, 349, 1849, 1667, 2750, 6416, 2489, 34, 3761, 5206, 6498, 3006, 4382, 5029, 4325, 3741, 316, 5038, 5836, 1238, 3726, 1701, 4743, 4613, 1369, 2392, 6206, 3273, 4388, 592, 4633, 3277, 94, 3087, 223, 5526, 609, 2122, 5949, 6425, 4317, 429, 2382, 2831, 5423, 4360, 6414, 3334, 5648, 4223, 4659, 3078, 6449, 392, 5381, 2200, 4723, 4794, 712, 2173, 1954, 503, 4113, 1049, 673, 1179, 3678, 4168, 6340, 2471, 2346, 3619, 4296, 5798, 3026, 5938, 1196, 6110, 3903, 2708, 1434, 2268, 2516, 5099, 5192, 1645, 257, 1537, 469, 4148, 3044, 1529, 766, 5058, 5010, 1374, 4684, 5345, 2604, 2178, 5774, 3279, 2468, 6032, 1982, 2774, 2982, 2697, 3503, 5241, 2629, 1772, 3778, 24, 6405, 6051, 2954, 2905, 4779, 2554, 1782, 2138, 2882, 309, 358, 2492, 1604, 2446, 458, 2304, 6109, 1329, 1837, 1000, 389, 3576, 4105, 5707, 5103, 1818, 5282, 3641, 3791, 4238, 3913, 363, 3091, 630, 2627, 6123, 3160, 1055, 4015, 186, 5789, 3808, 835, 4631, 6028, 4620, 3268, 749, 2969, 5157, 5731, 1753, 2265, 3998, 1093, 3437, 1244, 5459, 3524, 2367, 1102, 6514, 3629, 1825, 3031, 2241, 5429, 6091, 6375, 3952, 2351, 762, 2063, 4739, 5179, 6273, 2685, 5931, 3368, 5197, 6528, 3303, 5551, 5435, 1616, 6215, 22, 3313, 55, 1984, 5362, 2841, 5958, 4771, 3955, 2431, 5109, 135, 4193, 2085, 353, 1997, 4765, 530, 6101, 5626, 5108, 2227, 930, 1214, 1482, 3359, 2301, 3656, 2470, 395, 4351, 4556, 1993, 4911, 779, 57, 4750, 5183, 457, 4242, 1790, 367, 4254, 1044, 3845, 4503, 2563, 92, 5393, 2395, 51, 1573, 6549, 2581, 599, 5300, 3633, 1862, 4933, 3463, 2584, 2157, 3156, 4831, 4007, 3159, 3523, 2636, 2086, 4727, 5851, 2712, 4781, 3863, 1127, 4582, 5101, 314, 3339, 5522, 2918, 1317, 2967, 5531, 2721, 1015, 1451, 5799, 3727, 5269, 751, 6274, 1826, 2658, 3517, 1236, 1047, 5620, 1490, 2744, 5917, 6129, 4501, 728, 1079, 3770, 4038, 1749, 1056, 1531, 2642, 1124, 1033, 5812, 1900, 808, 1808, 4294, 3137, 3932, 5344, 2680, 3054, 4742, 1324, 5751, 2486, 3023, 1321, 2899, 111, 485, 3475, 1615, 2518, 5718, 777, 2846, 3250, 2966, 853, 4649, 3316, 5713, 3144, 3236, 4414, 3069, 3214, 5257, 1344, 5363, 520, 3766, 3591, 4979, 1123, 4356, 4085, 4606, 1515, 2475, 2535, 3114, 772, 2089, 1619, 5190, 2135, 3389, 2419, 1693, 3468, 5847, 5843, 2354, 315, 3045, 5015, 3569, 3802, 5772, 833, 4475, 6516, 1865, 4424, 125, 1976, 2332, 2717, 4572, 1988, 233, 4976, 5293, 2177, 4616, 4373, 2108, 2984, 3960, 4235, 4857, 23, 4703, 5369, 2851, 2944, 2361, 5383, 2153, 451, 854, 6537, 2665, 5642, 2003, 2896, 60, 2568, 2450, 3814, 6347, 1156, 180, 4201, 365, 142, 940, 4328, 2031, 153, 1110, 6087, 4689, 5473, 1598, 2565, 2695, 4391, 5386, 3828, 3465, 2878, 2701, 3394, 3925, 788, 453, 3599, 6264, 6217, 3508, 4213, 4909, 773, 5215, 924, 5358, 1989, 1282, 2855, 3267, 5608, 3996, 643, 2477, 3504, 6007, 5456, 4708, 5303, 2614, 1996, 4815, 4332, 5559, 3151, 2632, 604, 6056, 4766, 765, 1860, 3402, 6281, 6339, 6502, 5205, 3259, 5939, 1869, 4114, 507, 2269, 2875, 2235, 4770, 4991, 187, 4002, 3964, 3511, 5555, 2693, 6100, 2164, 1940, 3784, 3346, 1029, 547, 1912, 6262, 5110, 1733, 2730, 2102, 1650, 510, 4353, 1340, 2771, 2888, 3491, 1091, 3349, 2406, 2790, 260, 2236, 3130, 5267, 1741, 526, 6266, 5210, 206, 5212, 4519, 4798, 2273, 2340, 2583, 2017, 528, 1541, 2741, 4455, 4570, 5542, 767, 5970, 6197, 3734, 3319, 1588, 3686, 2345, 4305, 3723, 5518, 472, 3819, 3912, 2807, 220, 5781, 6118, 5036, 3618, 468, 4251, 3484, 3781, 875, 1176, 5181, 5437, 216, 4585, 844, 2993, 3551, 38, 2638, 3869, 2290, 1748, 4889, 2084, 4292, 4705, 1032, 5454, 3028, 2723, 129, 5630, 2444, 3961, 5198, 2808, 20, 5309, 304, 6085, 646, 1403, 2578, 190, 3416, 2274, 780, 1871, 5294, 3329, 4436, 4847, 2095, 929, 1972, 5156, 4939, 1296, 4276, 4826, 4122, 611, 1338, 2983, 6297, 4802, 269, 1727, 3106, 3263, 5304, 2548, 1019, 2110, 4161, 4405, 2610, 1495, 2185, 4787, 1048, 1289, 5846, 6134, 2973, 440, 6371, 344, 600, 235, 5465, 3399, 5075, 3483, 3469, 5965, 1728, 687, 4318, 2389, 2906, 5346, 4336, 6013, 5913, 194, 4748, 3805, 2534, 441, 3764, 5442, 5297, 2799, 5974, 2065, 2829, 5554, 2957, 4355, 534, 2465, 1429, 3496, 1750, 1592, 1122, 430, 3113, 2798, 4694, 4275, 935, 4667, 3338, 2300, 1377, 6487, 229, 3558, 6492, 956, 5050, 197, 2794, 3489, 2572, 1726, 6099, 6440, 4326, 1942, 5128, 998, 3237, 3950, 4070, 6282, 3012, 4379, 4860, 6545, 3499, 3103, 6344, 3664, 2398, 3257, 1612, 2939, 2687, 3870, 4118, 4797, 3598, 4128, 4384, 1287, 5765, 2156, 3765, 5557, 4600, 1178, 3271, 5524, 1878, 5455, 3328, 2816, 714, 4151, 2384, 2363, 5936, 5594, 11, 4853, 5308, 4629, 2339, 910, 379, 1767, 3240, 5031, 5070, 3803, 761, 2782, 2796, 4829, 4474, 2945, 5511, 5230, 4988, 6355, 4785, 6023, 1250, 2772, 1783, 2977, 3582, 1775, 1532, 837, 1216, 3990, 5467, 1037, 3245, 286, 2147, 3134, 4354, 4997, 2124, 5937, 5320, 2802, 932, 3832, 5195, 4008, 3940, 1001, 1364, 3540, 2848, 5343, 5867, 5203, 4617, 778, 3616, 5231, 3341, 2836, 5389, 1864, 4892, 6116, 3718, 5284, 6195, 5943, 3978, 2732, 1347, 516, 713, 5276, 2451, 123, 2814, 1571, 5453, 3881, 5342, 544, 869, 3361, 2555, 852, 1509, 665, 1415, 3583, 6452, 2580, 6198, 2195, 3645, 2207, 2792, 2038, 2913, 459, 1542, 3163, 887, 2762, 678, 3223, 3823, 2226, 4586, 5611, 5463, 6353, 3430, 5069, 4554, 3242, 938, 1004, 3757, 3197, 6463, 1362, 3712, 1574, 4992, 1263, 3812, 790, 311, 4087, 6140, 1103, 2271, 4898, 1611, 5552, 4693, 470, 5266, 3139, 1651, 4940, 2520, 615, 694, 5804, 3895, 5692, 5858, 3442, 4665, 6245, 3648, 3007, 1929, 4454, 4734, 3529, 5704, 5237, 6050, 6094, 5394, 4850, 1974, 6221, 3330, 1138, 4291, 3857, 3143, 2285, 5727, 5973, 4441, 2861, 5752, 3874, 376, 793, 2098, 5770, 1089, 2068, 5045, 5446, 3218, 3652, 2567, 1584, 2183, 3407, 4716, 1503, 5541, 6285, 40, 1323, 3060, 16, 211, 965, 2889, 9, 5093, 2734, 5310, 5589, 4811, 5884, 3719, 202, 5187, 3848, 1874, 5077, 2105, 4440, 2016, 1355, 990, 782, 805, 5850, 6486, 3129, 669, 1813, 1851, 1507, 1947, 3124, 225, 4094, 2194, 3933, 1220, 5516, 1853, 2656, 1603, 5701, 3944, 2795, 5775, 6501, 4486, 1768, 3089, 663, 934, 2646, 1379, 5622, 3792, 2620, 25, 5629, 1007, 4469, 1535, 4780, 5833, 4417, 5118, 4226, 4437, 5078, 2804, 5114, 5874, 3589, 5514, 683, 6336, 4551, 3145, 3976, 5106, 1624, 2853, 3093, 1348, 691, 3433, 1544, 2321, 5052, 2547, 5400, 4504, 4466, 886, 345, 862, 3000, 2161, 1265, 645, 3450, 156, 3928, 5644, 4191, 3596, 4994, 2123, 4869, 4074, 3017, 5397, 2417, 870, 3594, 420, 1298, 1873, 1181, 2279, 1038, 6435, 2907, 6544, 2073, 3751, 176, 340, 177, 3721, 1632, 3670, 2609, 2175, 6133, 1730, 2423, 3207, 4548, 2040, 4778, 3746, 1983, 1455, 4246, 2858, 4037, 1018, 3414, 804, 1533, 5897, 3605, 2781, 1408, 4239, 274, 1353, 1713, 1778, 2703, 806, 3451, 1024, 4949, 3836, 514, 6181, 6325, 5647, 5470, 771, 4962, 2381, 2599, 3844, 4359, 5722, 3929, 4973, 4488, 6105, 4233, 2472, 785, 3834, 2387, 4783, 3663, 2947, 3490, 337, 182, 3383, 539, 3566, 2942, 5376, 5063, 3669, 1809, 423, 1687, 2573, 702, 1653, 3460, 5350, 237, 5878, 3575, 107, 4987, 6380, 6445, 4643, 4968, 1485, 1834, 4342, 1705, 6095, 5222, 114, 2237, 3676, 6469, 4752, 5485, 5319, 1077, 4725, 3878, 2260, 3650, 2611, 3132, 4046, 3988, 536, 4645, 112, 2318, 3817, 6130, 3720, 3152, 5685, 5535, 3209, 4535, 3780, 3386, 445, 4518, 1247, 5855, 5895, 6247, 5017, 3471, 1952, 2027, 2840, 1251, 1901, 5129, 607, 973, 4375, 4146, 2512, 4259, 6120, 2523, 2028, 4767, 2594, 6272, 2904, 2424, 4956, 2684, 3729, 5139, 1523, 5702, 4383, 2448, 5886, 4261, 2716, 1786, 839, 1378, 6430, 1623, 443, 3436, 4477, 2924, 4769, 5225, 1328, 1662, 48, 586, 5754, 4003, 4272, 2409, 3254, 6025, 3622, 4516, 832, 4255, 1465, 1167, 3434, 1080, 4195, 2845, 1655, 3894, 3571, 2316, 2818, 4339, 2166, 3497, 3157, 1500, 4175, 5275, 2843, 4082, 6189, 6283, 2698, 1493, 173, 4741, 2107, 4683, 5730, 2158, 4121, 2144, 5696, 3056, 1256, 3230, 3231, 949, 4655, 144, 4421, 2388, 855, 5214, 2253, 191, 1549, 4541, 5125, 531, 5064, 4823, 3064, 2479, 3714, 3749, 595, 95, 4067, 874, 4476, 2530, 6060, 2946, 1602, 1752, 1409, 841, 3965, 2552, 3631, 2112, 1731, 2469, 2208, 2849, 4603, 2405, 3307, 3707, 1877, 2075, 2556, 727, 128, 2493, 56, 3829, 2199, 397, 2191, 1540, 1904, 43, 6004, 1081, 4368, 3125, 3016, 452, 1582, 377, 1325, 6053, 4775, 2751, 5649, 5377, 6167, 3709, 6503, 3984, 3816, 883, 2149, 3533, 4729, 6289, 299, 6511, 6485, 2357, 2558, 3901, 4059, 6332, 3685, 2029, 695, 2847, 1274, 110, 4907, 58, 4270, 4888, 5639, 3256, 4863, 4306, 5147, 4751, 6284, 3146, 2167, 884, 1746, 301, 3659, 5096, 3317, 5191, 5534, 4953, 6269, 49, 3815, 6541, 4948, 911, 4686, 4207, 1291, 5351, 259, 6248, 4387, 1134, 3192, 5477, 2141, 3717, 3885, 1414, 5011, 5430, 1712, 3550, 1770, 1003, 1436, 295, 6453, 3001, 4489, 4691, 4768, 2655, 6387, 1810, 4065, 308, 3178, 2360, 5711, 3108, 3211, 1777, 4004, 1769, 4522, 2415, 1666, 3615, 5978, 2990, 4309, 2784, 5996, 4506, 2055, 5883, 2044, 4773, 4615, 5261, 553, 3768, 706, 1185, 3173, 6333, 5835, 116, 1489, 4219, 155, 3572, 3501, 6424, 6178, 4638, 33, 6361, 4208, 1417, 3681, 2064, 5545, 2442, 4622, 218, 2517, 3190, 529, 1082, 3953, 2668, 2272, 2232, 4286, 2810, 75, 447, 5723, 1496, 6030, 3302, 2775, 6093, 4822, 1608, 1497, 1193, 362, 681, 3972, 6465, 2368, 5688, 4076, 5285, 1876, 5561, 3750, 2647, 535, 5175, 847, 3967, 2828, 3092, 3053, 4928, 4316, 3601, 1422, 1014, 471, 4409, 4009, 890, 433, 612, 2225, 2104, 3509, 3621, 1957, 2546, 5785, 5048, 5780, 3052, 4335, 6014, 3485, 5127, 181, 3997, 3202, 3191, 1780, 3027, 4152, 5968, 5354, 2440, 6052, 3061, 2991, 3896, 2412, 6525, 3109, 3343, 1626, 3158, 4468, 3547, 3610, 5140, 6495, 139, 1729, 3696, 4636, 6360, 3744, 3917, 6431, 3019, 310, 506, 2006, 4052, 2834, 4563, 1854, 672, 2962, 293, 3871, 6250, 796, 2737, 598, 3677, 2114, 131, 1706, 1977, 1937, 1959, 6005, 375, 5871, 3208, 5527, 1243, 3692, 1292, 1843, 1249, 5472, 2885, 3427, 3837, 3521, 1715, 3991, 5924, 5944, 2013, 3722, 4942, 6467, 5710, 5431, 4901, 4006, 4986, 6170, 5112, 1950, 5451, 4447, 5941, 4064, 5321, 6088, 4376, 1035, 2142, 4692, 1028, 5596, 1510, 4946, 456, 4579, 1980, 4304, 3777, 3104, 4848, 2868, 1182, 3642, 3890, 2694, 1382, 3136, 2229, 2222, 4144, 3644, 1690, 1438, 6211, 200, 5403, 5641, 3095, 3455, 622, 5844, 1463, 1283, 6179, 3365, 2916, 3701, 5438, 4290, 270, 4327, 2284, 347, 4073, 2852, 120, 4490, 2496, 3980, 5517, 4543, 228, 2118, 5553, 4247, 2126, 50, 4110, 2652, 2189, 256, 1516, 5313, 6443, 2746, 1831, 2478, 4442, 4485, 769, 323, 6522, 6377, 5263, 4553, 1757, 3300, 5366, 4029, 3733, 4166, 2302, 3891, 4951, 1894, 6510, 5380, 4215, 4500, 4891, 3979, 384, 1270, 2890, 5260, 943, 4795, 4258, 6127, 1526, 3265, 541, 6207, 2196, 5444, 3398, 3560, 4663, 3128, 4966, 3606, 3274, 2494, 4287, 5929, 5778, 5888, 1090, 178, 6039, 1734, 2645, 3921, 4717, 1245, 1332, 1327, 2181, 4104, 2180, 2975, 4025, 5926, 6097, 4547, 4886, 6378, 515, 4211, 4034, 2449, 3525, 3222, 2922, 4646, 5180, 781, 1097, 2569, 3811, 3695, 699, 2115, 3588, 3297, 4670, 4206, 2280, 5808, 3102, 264, 6350, 6446, 6382, 5317, 1424, 6252, 1448, 1211, 2023, 6509, 2653, 3711, 292, 6176, 5295, 1796, 1322, 519, 2830, 1595, 1522, 4189, 3337, 5605, 2418, 5134, 2777, 5753, 5756, 4534, 594, 4237, 122, 77, 5057, 3063, 5033, 3376, 3344, 2832, 3290, 4056, 2342, 3973, 5452, 1743, 1505, 2817, 525, 6381, 3999, 3282, 3655, 4664, 2060, 4230, 4740, 27, 1832, 3739, 4138, 4577, 6415, 2404, 3637, 4972, 6354, 3738, 1788, 1190, 2502, 4858, 4628, 5803, 2204, 3326, 1543, 4401, 3370, 2531, 5488, 6265, 6450, 263, 5144, 1822, 709, 5714, 1646, 4464, 4169, 842, 6438, 3636, 4871, 968, 4465, 2551, 3011, 2862, 3046, 1524, 382, 3561, 1605, 3843, 3986, 2324, 2617, 505, 2575, 5865, 3435, 6136, 210, 4849, 1284, 4819, 3225, 3461, 668, 5705, 3187, 3374, 5717, 2184, 5695, 4601, 3919, 3918, 2490, 2768, 3673, 1433, 3842, 2577, 204, 5207, 1678, 2197, 4123, 700, 1575, 951, 2576, 1745, 2833, 1784, 373, 2813, 3902, 4225, 3495, 3546, 3886, 5209, 5546, 4228, 2603, 381, 5504, 4386, 4894, 113, 1412, 5676, 5457, 3838, 6384, 2344, 5461, 15, 4283, 67, 4130, 3899, 6539, 1816, 868, 931, 2718, 6457, 380, 6075, 2536, 1385, 1683, 1844, 12, 6286, 1795, 1259, 1858, 970, 548, 508, 3947, 6306, 3177, 4832, 1175, 2898, 946, 2510, 5158, 4808, 991, 3548, 5026, 431, 143, 4011, 4604, 3861, 954, 2329, 3804, 5356, 2244, 829, 3514, 1267, 5698, 2728, 913, 3424, 2618, 6357, 3822, 6244, 5834, 5801, 5927, 4764, 6303, 747, 4982, 4774, 3708, 1943, 6270, 3949, 3474, 6040, 2174, 4244, 4974, 2761, 5593, 550, 1168, 3305, 5143, 2948, 5953, 3246, 3620, 674, 1246, 3873, 127, 3931, 5994, 6208, 5568, 6188, 5914, 5475, 4621, 3989, 5872, 3438, 2935, 2635, 4136, 4873, 3264, 3981, 5341, 2483, 4526, 4624, 4905, 4630, 6114, 877, 2217, 203, 3562, 1261, 2057, 5022, 3020, 2997, 1589, 3982, 2651, 5932, 1755, 1326, 3492, 5997, 4194, 13, 2420, 2042, 1318, 2056, 1866, 2755, 1578, 556, 1962, 6379, 606, 3232, 5567, 5229, 3515, 2037, 2999, 2305, 6201, 2553, 1413, 2678, 3785, 5805, 3062, 1254, 98, 3352, 5217, 5683, 1868, 1828, 6542, 2884, 4033, 6426, 2058, 6157, 4331, 284, 3014, 3893, 2497, 1833, 993, 4220, 1383, 2971, 1812, 2101, 5814, 6326, 5067, 5677, 4995, 467, 1779, 4657, 435, 2327, 925, 1793, 1814, 5240, 133, 2702, 5975, 3747, 1917, 2925, 3395, 1991, 64, 5637, 759, 4874, 5044, 786, 952, 3573, 4340, 4896, 5422, 2773, 5616, 3219, 2927, 5633, 6543, 5208, 5631, 4467, 450, 4398, 5092, 2729, 1435, 1953, 1773, 4301, 3758, 65, 6010, 2099, 5708, 4744, 872, 2007, 2111, 355, 1594, 3851, 3133, 4022, 5862, 2429, 5562, 552, 3700, 2364, 3135, 3767, 1627, 4461, 4528, 5427, 5793, 3142, 4053, 4173, 5724, 6411, 6257, 6029, 1511, 2891, 4885, 1116, 19, 2928, 4688, 3079, 5891, 4637, 4538, 4805, 4715, 2250, 3025, 5875, 6367, 3830, 5890, 1572, 5852, 4049, 5458, 865, 1863, 863, 5674, 3614, 5196, 6462, 52, 2917, 4358, 3487, 2867, 1241, 2186, 524, 3993, 5305, 4453, 2495, 1160, 5302, 6358, 6036, 386, 2319, 2033, 4650, 6434, 4157, 5795, 4171, 2072, 4312, 3266, 387, 2529, 5837, 4012, 3783, 4934, 4746, 1449, 4446, 947, 121, 4610, 3420, 3301, 768, 5570, 2770, 6406, 1076, 1763, 212, 4457, 1444, 3552, 2366, 2015, 1621, 3518, 4587, 1416, 3922, 2938, 3121, 1484, 4532, 1128, 305, 2562, 696, 5268, 2776, 3356, 3310, 4126, 6536, 2270, 3688, 3459, 3639, 1879, 4095, 5066, 521, 6210, 701, 280, 1031, 2826, 2414, 2681, 3252, 5221, 231, 5638, 4040, 2602, 6057, 5379, 3905, 2326, 2120, 6483, 2005, 647, 5102, 1099, 4198, 1895, 996, 2455, 5651, 2192, 2437, 5643, 2474, 1829, 4893, 6370, 3908, 2106, 3790, 2399, 1576, 613, 5879, 2691, 5406, 4958, 3625, 2371, 5012, 3077, 6104, 5142, 5617, 4866, 5933, 1659, 5236, 5806, 209, 5558, 3171, 6026, 5689, 5604, 3983, 2484, 3233, 297, 3956, 5402, 3308, 1460, 5792, 1331, 532, 4605, 3288, 5238, 5755, 3336, 2143, 1565, 554, 3189, 4487, 118, 5226, 3954, 2314, 1665, 5426, 4598, 4462, 3849, 518, 6015, 3083, 3687, 3635, 4985, 5223, 4564, 4381, 4810, 861, 5951, 1669, 708, 219, 2591, 3176, 5372, 1597, 4030, 1714, 1342, 3220, 6494, 3825, 1740, 26, 1628, 2402, 5923, 4315, 2171, 2522, 5460, 354, 4322, 4109, 359, 3364, 5368, 4697, 5729, 3371, 5136, 4607, 5763, 3347, 1423, 383, 2549, 1343, 3138, 6493, 2076, 3926, 4978, 2082, 3810, 4482, 4314, 3662, 997, 2778, 4654, 465, 2621, 5176, 2564, 1135, 4361, 3646, 6137, 1288, 6187, 1946, 3194, 626, 5382, 2682, 5028, 3002, 5349, 3539, 4711, 1357, 47, 5059, 341, 4776, 5675, 671, 619, 5020, 2747, 1258, 2876, 5374, 4068, 4897, 4116, 797, 1591, 1094, 3827, 4257, 4634, 5037, 1930, 4544, 6203, 4967, 1736, 4700, 2396, 2198, 1271, 3826, 6177, 5967, 1195, 1992, 4737, 5405, 1166, 5122, 4310, 963, 137, 2365, 2353, 6135, 1113, 5264, 3318, 5071, 5131, 2626, 2162, 151, 2325, 834, 217, 3595, 4406, 3269, 3367, 5782, 5390, 1836, 5533, 1210, 1785, 6172, 3713, 5960, 2670, 2453, 1622, 6218, 74, 5123, 3411, 5719, 542, 4619, 3272, 3022, 2109, 1973, 1075, 5952, 1794, 5194, 4738, 4525, 4830, 1699, 4820, 2686, 676, 4583, 3478, 6301, 1136, 2757, 6374, 5646, 4731, 2242, 711, 5896, 2865, 1074, 1944, 6331, 4745, 2071, 4125, 5525, 2961, 96, 215, 5728, 6454, 1303, 5771, 5885, 4821, 644, 6037, 692, 1652, 6119, 3671, 2524, 5373, 4950, 3658, 2136, 2915, 124, 4079, 6196, 2519, 5216, 614, 2809, 1527, 4422, 1487, 5051, 2481, 6124, 17, 2348, 4562, 71, 1708, 2866, 378, 196, 5113, 3801, 585, 5614, 1945, 3930, 6279, 6513, 4241, 5023, 2014, 5946, 436, 3716, 3123, 5449, 4588, 2243, 5482, 2487, 1815, 1269, 3456, 3314, 3850, 5618, 477, 1682, 4061, 5508, 4576, 5233, 4495, 3447, 6185, 3296, 3796, 6376, 3530, 5645, 4334, 4989, 2537, 3418, 2587, 1137, 1205, 5609, 69, 2605, 1358, 4097, 6298, 2976, 5060, 4977, 5315, 1219, 4855, 5597, 2299, 6497, 3213, 1494, 6519, 4042, 5355, 303, 3446, 1609, 4602, 4303, 6199, 195, 1502, 2903, 3607, 1376, 1278, 851, 4530, 4913, 3473, 5213, 753, 2883, 348, 3559, 2401, 1506, 272, 3545, 6268, 4845, 1402, 6021, 4279, 527, 4380, 5027, 1198, 6031, 5733, 6496, 3779, 6388, 4458, 2456, 4618, 1111, 5035, 4969, 2797, 6111, 1925, 5398, 6224, 4010, 1766, 4119, 1027, 3323, 6126, 4443, 4599, 2837, 3909, 2533, 5392, 1922, 707, 2827, 4172, 2596, 5624, 1548, 557, 5316, 1958, 277, 715, 3221, 3715, 6466, 2393, 1290, 1126, 4407, 4197, 2233, 4499, 434, 4698, 4502, 6035, 2791, 1905, 6385, 6372, 601, 2739, 1647, 2981, 850, 2193, 5396, 4131, 4681, 6103, 3351, 2722, 1890, 105, 563, 3617, 2941, 791, 953, 2736, 3312, 1215, 4852, 3586, 4971, 4413, 3167, 6258, 6271, 6288, 1268, 4816, 6054, 230, 393, 3775, 1043, 1021, 4192, 1096, 2823, 3565, 3066, 4281, 5288, 4945, 4142, 1935, 3627, 1101, 2341, 5628, 2612, 4846, 2566, 4806, 5242, 775, 1501, 1454, 146, 3748, 6324, 5945, 2362, 2582, 4410, 4396, 5690, 370, 5703, 357, 4108, 2679, 4814, 5258, 4365, 3421, 2454, 5868, 3661, 4378, 3043, 6551, 587, 5188, 1406, 31, 4199, 3100, 2995, 2821, 4685, 5697, 4363, 1177, 2923, 4162, 4527, 4218, 6212, 684, 2154, 1684, 4300, 3554, 4083, 1654, 2953, 2940, 6504, 3193, 4484, 1008, 6535, 4377, 5141, 3762, 6460, 3175, 2980, 1350, 3839, 4245, 3522, 3049, 3005, 4861, 4545, 2783, 4625, 849, 5956, 2901, 5725, 1157, 3740, 4153, 4875, 3458, 3476, 966, 4106, 5632, 3824, 4834, 1345, 1034, 6338, 1109, 1838, 1951, 6205, 6408, 6086, 4026, 543, 5532, 3382, 750, 2145, 2333, 4491, 1975, 679, 3647, 5954, 275, 2908, 5186, 4329, 2574, 6256, 4091, 1114, 4722, 2041, 475, 3244, 3682, 5509, 4364, 290, 4493, 425, 3101, 2036, 4093, 794, 3467, 3743, 108, 3212, 3335, 1336, 5857, 119, 4792, 2593, 3055, 99, 4542, 3105, 5603, 1577, 5232, 2259, 723, 2491, 4531, 72, 3879, 3916, 4807, 1354, 1381, 484, 1857, 2669, 1125, 4777, 2150, 2571, 3888, 289, 1341, 2589, 2334, 2633, 2317, 298, 3570, 3345, 5219, 618, 6351, 2121, 4205, 1774, 1184, 2641, 2900, 774, 5669, 4372, 3666, 3679, 4614, 4158, 3858, 2397, 757, 3148, 1981, 920, 2570, 2892, 2283, 2964, 1428, 6409, 4178, 2864, 3820, 1161, 4435, 1893, 1688, 4494, 2637, 1923, 1368, 4425, 1827, 1732, 971, 6278, 2119, 1664, 5046, 3835, 2291, 267, 843, 1781, 152, 4323, 4899, 5797, 3590, 4696, 3737, 1670, 4651, 5882, 5536, 1596, 2785, 5433, 6243, 912, 3581, 4445, 4963, 5860, 3350, 1845, 957, 2793, 3500, 5859, 2372, 6276, 756, 2218, 1106, 2308, 1710, 5515, 4090, 4498, 2677, 4653, 1550, 2350, 1285, 4647, 5323, 3907, 4132, 2887, 3703, 313, 2503, 6499, 1464, 2252, 846, 5726, 4581, 2929, 3728, 1405, 1658, 3248, 6249, 222, 403, 4872, 2256, 1380, 623, 6369, 3798, 6526, 2505, 3776, 2311, 5468, 5539, 4867, 2996, 5776, 6429, 2426, 39, 6520, 4877, 6277, 6018, 1446, 3355, 4204, 3904, 2873, 3651, 4882, 4747, 4236, 4232, 5768, 2919, 4964, 5385, 3445, 540, 1212, 3694, 2526, 117, 2408, 97, 3579, 1835, 3041, 748, 509, 2822, 6260, 1872, 1295, 1830, 126, 483, 404, 3428, 1546, 4611, 928, 2152, 3603, 1011, 4395, 5291, 3480, 2087, 6059, 4252, 5791, 2024, 1452, 3800, 5111, 918, 3141, 4416, 4730, 2249, 3425, 2374, 3705, 3448, 3724, 5505, 4165, 2315, 522, 6012, 3249, 3172, 287, 5587, 3111, 1187, 5650, 3862, 939, 5153, 3283, 4578, 2002, 3657, 1960, 6042, 1897, 2926, 5152, 5340, 4492, 201, 605, 6017, 1171, 5432, 464, 4231, 6045, 1852, 6112, 1700, 1286, 1330, 1941, 3284, 1462, 101, 3293, 3155, 1129, 3401, 6456, 4167, 689, 5671, 4932, 1078, 1961, 4420, 3298, 3653, 1764, 1704, 5271, 5915, 2039, 3037, 3809, 5716, 157, 4371, 4404, 1183, 511, 4221, 4145, 3051, 2508, 2206, 5694, 1112, 3405, 360, 3278, 500, 6448, 4935, 3833, 32, 4865, 795, 3071, 2649, 2740, 1204, 6038, 3941, 1400, 1579, 6305, 1117, 792, 848, 6442, 6020, 4060, 888, 10, 764, 4338, 6292, 265, 3563, 4763, 3140, 5133, 205, 6363, 6141, 1467, 2070, 1821, 208, 3985, 6223, 2714, 3538, 1164, 2838, 752, 2140, 3613, 2061, 6142, 3170, 1661, 6169, 3322, 4904, 4117, 4993, 2349, 3910, 1442, 6540, 5691, 294, 5538, 1104, 2666, 4449, 3295, 5560, 6186, 3324, 2009, 4343, 2335, 1169, 1742, 1758, 1260, 3412, 725, 5274, 2811, 670, 4732, 300, 2930, 4890, 3498, 1072, 3058, 5049, 2083, 1026, 3831, 2159, 1427, 2012, 3013, 3292, 4546, 5155, 4412, 5809, 6098, 2992, 4883, 3397, 754, 1949, 698, 3392, 2709, 4876, 1447, 1367, 3542, 352, 602, 6323, 2601, 3821, 5189, 5995, 4062, 4081, 3068, 1848, 6422, 5348, 3174, 3593, 2287, 1898, 4418, 2097, 226, 291, 5387, 1491, 4824, 4141, 3320, 6138, 2764, 5399, 5124, 6115, 2313, 624, 2585, 3535, 5469, 6047, 6441, 5095, 1092, 5182, 3291, 632, 4289, 3439, 442, 2532, 6168, 3441, 1356, 2527, 3924, 4864, 3898, 6156, 6214, 1861, 3706, 2613, 145, 2859, 6295, 193, 5796, 3210, 1459, 5478, 4981, 3528, 5151, 5270, 4709, 154, 4695, 5375, 3226, 3915, 5854, 513, 3987, 4859, 1672, 2322, 2103, 3612, 5116, 5076, 537, 964, 2696, 6365, 4134, 3119, 4996, 5513, 5537, 1132, 3035, 1610, 5720, 5097, 2765, 2139, 5384, 2169, 856, 3311, 2509, 6041, 3667, 5428, 1916, 150, 2987, 4031, 4550, 5286, 6263, 4669, 6131, 1567, 444, 1197, 3377, 675, 4555, 6204, 4044, 1735, 4352, 3942, 221, 396, 4280, 2277, 2648, 1673, 3611, 5832, 1910, 6183, 1023, 6484, 3946, 5322, 5287, 5312, 2909, 6016, 5880, 428, 1819, 2004, 1586, 2062, 2932, 3286, 6246, 4078, 5845, 2628, 2597, 1365, 2205, 4214, 374, 1118, 5977, 3482, 635, 4014, 2727, 1302, 1696, 4397, 5262, 4701, 5364, 5132, 5324, 1979, 2247, 1170, 4419, 4341, 1191, 1791, 3725, 1399, 3203, 1927, 5928, 4403, 3332, 5942, 5877, 369, 4179, 4627, 1456, 5479, 5138, 5480, 2010, 6174, 3884, 343, 3914, 3251, 1691, 5550, 5365, 4632, 2779, 3357, 1209, 1585, 1432, 6348, 6524, 2383, 466, 5764, 4520, 3864, 6404, 3153, 4411, 2733, 2743, 2018, 282, 2711, 5757, 5202, 421, 5146, 5054, 1613, 4297, 4463, 1087, 3048, 2391, 3505, 3381, 3755, 1492, 6237, 276, 2725, 2358, 214, 2343, 2030, 2482, 677, 2812, 2607, 937, 4140, 1051, 5292, 5709, 109, 5672, 1737, 3396, 4035, 68, 4900, 4367, 4216, 283, 6261, 5314, 2525, 955, 5863, 5272, 2735, 5866, 5425, 866, 4222, 6267, 3238, 1242, 278, 827, 3934, 3369, 2190, 351, 2148, 5259, 5401, 391, 5243, 5476, 3806, 4164, 2606, 3410, 1426, 91, 5887, 4390, 610, 1707, 517, 2422, 5773, 3697, 1337, 371, 5474, 6547, 2872, 5486, 3797, 1421, 4129, 455, 4965, 4944, 4813, 1695, 232, 4887, 1850, 3452, 6327, 1756, 4319, 4786, 4796, 6302, 448, 3892, 3470, 1776, 390, 4096, 2303, 6546, 4092, 3409, 5506, 3393, 2745, 787, 5065, 474, 1022, 1660, 4271, 5025, 1581, 3216, 1217, 1936, 6447, 1450, 2860, 2674, 1514, 2985, 4298, 1607, 3977, 6420, 686, 4324, 5934, 3626, 2234, 5388, 1903, 2920, 5150, 5347, 915, 2844, 2263, 5623, 625, 1789, 4249, 2819, 254, 945, 1563, 4483, 14, 5893, 6534, 2801, 3493, 3674, 1257, 1892, 5145, 3270, 53, 584, 5353, 873, 1351, 5447, 4818, 3088, 2034, 4908, 6027, 1587, 3683, 4402, 3097, 4652, 1924, 3698, 3799, 1189, 4910, 546, 198, 1086, 1995, 1411, 4930, 2251, 2634, 3753, 4915, 3951, 5549, 4408, 3974, 2228, 4496, 1846, 3372, 1855, 3735, 2281, 4575, 5178, 6132, 6386, 6296, 5916, 1692, 6428, 2767, 3075, 37, 2464, 1457, 857, 4137, 6458, 3008, 5790, 860, 1172, 5794, 2369, 1518, 789, 2155, 394, 4955, 3567, 608, 4273, 2248, 1677, 4202, 6006, 6299, 3794, 1668, 6173, 2588, 4699, 3959, 3756, 922, 4569, 6294, 4456, 3325, 5706, 5224, 2182, 6444, 4812, 3958, 4642, 4200, 942, 667, 3224, 2092, 6437, 2310, 2550, 4450, 2731, 4558, 147, 2373, 2754, 188, 4473, 4803, 2756, 3449, 2511, 5777, 2700, 2557, 6533, 4285, 3179, 2267, 1458, 5228, 2994, 3021, 1299, 261, 4209, 5371, 1648, 2224, 1617, 2258, 6171, 2835, 4295, 2338, 2275, 724, 758, 1430, 5024, 1248, 462, 5483, 1513, 3073, 2630, 4736, 5869, 41, 6275, 840, 4478, 4063, 6359, 6413, 2116, 1918, 5634, 102, 3417, 1366, 1663, 2528, 523, 1083, 1425, 5032, 2201, 2266, 1689, 3549, 2815, 2359, 3693, 2500, 476, 680, 629, 5721, 504, 3968, 5767, 1088, 6290, 6523, 419, 61, 950, 473, 1158, 5098, 717, 889, 5530, 372, 2385, 5378, 2879, 5445, 4936, 2421, 1297, 4648, 6128, 6055, 3623, 2172, 3010, 141, 2515, 1363, 1697, 682, 1277, 4644, 2959, 3477, 5523, 5612, 2094, 2202, 999, 4707, 5107, 1787, 4571, 3788, 4210, 4791, 5889, 6255, 4217, 2441, 2257, 1570, 4307, 5815, 2937, 3185, 1401, 3107, 5800, 5591, 6521, 1483, 6175, 1025, 6403, 1908, 6164, 6019, 3632, 1095, 234, 5367, 1914, 6538, 6043, 3568, 2968, 1162, 5510, 2501, 2914, 3234, 5462, 566, 2595, 2289, 3628, 3782, 3786, 858, 4793, 923, 296, 3404, 4549, 2223, 538, 3348, 2430, 4293, 3003, 3287, 1275, 2724, 5148, 1747, 1407, 5318, 312, 4186, 1938, 1754, 5161, 5892, 3995, 3453, 4112, 1218, 4566, 1352, 5448, 2949, 6352, 3957, 1498, 5732]\n",
      "test ids:  [0, 1, 2, 3, 4, 5, 6, 7, 8, 78, 79, 80, 81, 82, 83, 84, 85, 86, 87, 88, 89, 90, 158, 159, 160, 161, 162, 163, 164, 165, 166, 167, 168, 169, 170, 171, 238, 239, 240, 241, 242, 243, 244, 245, 246, 247, 248, 249, 250, 251, 252, 253, 318, 319, 320, 321, 322, 324, 325, 326, 327, 328, 329, 330, 331, 332, 333, 334, 335, 398, 399, 400, 401, 402, 405, 406, 407, 408, 409, 410, 411, 412, 413, 414, 415, 416, 417, 478, 479, 480, 481, 482, 486, 487, 488, 489, 490, 491, 492, 493, 494, 495, 496, 497, 498, 499, 558, 559, 560, 561, 562, 567, 568, 569, 570, 571, 572, 573, 574, 575, 576, 577, 578, 579, 580, 638, 639, 640, 641, 642, 648, 649, 650, 651, 652, 653, 654, 655, 656, 657, 658, 659, 660, 661, 662, 718, 719, 720, 721, 722, 729, 730, 731, 732, 733, 734, 735, 736, 737, 738, 739, 740, 741, 742, 743, 744, 798, 799, 800, 801, 802, 810, 811, 812, 813, 814, 815, 816, 817, 818, 819, 820, 821, 822, 823, 824, 825, 826, 878, 879, 880, 881, 882, 892, 893, 894, 895, 896, 897, 898, 899, 900, 901, 902, 903, 904, 905, 906, 907, 908, 958, 959, 960, 961, 962, 974, 975, 976, 977, 978, 979, 980, 981, 982, 983, 984, 985, 986, 987, 988, 989, 1039, 1040, 1041, 1057, 1058, 1059, 1060, 1061, 1062, 1063, 1064, 1065, 1066, 1067, 1068, 1069, 1070, 1071, 1119, 1120, 1121, 1139, 1140, 1141, 1142, 1143, 1144, 1145, 1146, 1147, 1148, 1149, 1150, 1151, 1152, 1153, 1199, 1200, 1201, 1221, 1222, 1223, 1224, 1225, 1226, 1227, 1228, 1229, 1230, 1231, 1232, 1233, 1234, 1235, 1279, 1280, 1281, 1304, 1305, 1306, 1307, 1308, 1309, 1310, 1311, 1312, 1313, 1314, 1315, 1316, 1359, 1360, 1361, 1386, 1387, 1388, 1389, 1390, 1391, 1392, 1393, 1394, 1395, 1396, 1397, 1398, 1439, 1440, 1441, 1469, 1470, 1471, 1472, 1473, 1474, 1475, 1476, 1477, 1478, 1479, 1480, 1519, 1520, 1521, 1551, 1552, 1553, 1554, 1555, 1556, 1557, 1558, 1559, 1560, 1561, 1562, 1599, 1600, 1601, 1633, 1634, 1635, 1636, 1637, 1638, 1639, 1640, 1641, 1642, 1643, 1644, 1679, 1680, 1681, 1716, 1717, 1718, 1719, 1720, 1721, 1722, 1723, 1724, 1725, 1759, 1760, 1761, 1798, 1799, 1800, 1801, 1802, 1803, 1804, 1805, 1806, 1807, 1839, 1840, 1841, 1880, 1881, 1882, 1883, 1884, 1885, 1886, 1887, 1888, 1889, 1919, 1920, 1921, 1963, 1964, 1965, 1966, 1967, 1968, 1969, 1970, 1971, 1999, 2000, 2001, 2045, 2046, 2047, 2048, 2049, 2050, 2051, 2052, 2053, 2079, 2080, 2081, 2127, 2128, 2129, 2130, 2131, 2132, 2133, 2134, 2160, 2210, 2211, 2212, 2213, 2214, 2215, 2216, 2240, 2292, 2293, 2294, 2295, 2296, 2297, 2298, 2320, 2375, 2376, 2377, 2378, 2379, 2380, 2400, 2457, 2458, 2459, 2460, 2461, 2462, 2480, 2539, 2540, 2541, 2542, 2543, 2560, 2622, 2623, 2624, 2625, 2640, 2704, 2705, 2706, 2707, 2720, 2786, 2787, 2788, 2789, 2800, 2869, 2870, 2871, 2880, 2951, 2952, 2960, 3033, 3034, 3040, 3116, 3120, 3198, 3200, 3280, 3360, 3362, 3440, 3444, 3520, 3526, 3527, 3600, 3608, 3609, 3680, 3689, 3690, 3691, 3760, 3771, 3772, 3773, 3774, 3840, 3853, 3854, 3855, 3856, 3920, 3935, 3936, 3937, 3938, 4000, 4017, 4018, 4019, 4020, 4021, 4080, 4098, 4099, 4100, 4101, 4102, 4103, 4160, 4180, 4181, 4182, 4183, 4184, 4185, 4240, 4262, 4263, 4264, 4265, 4266, 4267, 4268, 4320, 4344, 4345, 4346, 4347, 4348, 4349, 4350, 4400, 4426, 4427, 4428, 4429, 4430, 4431, 4432, 4433, 4479, 4480, 4481, 4507, 4508, 4509, 4510, 4511, 4512, 4513, 4514, 4515, 4559, 4560, 4561, 4589, 4590, 4591, 4592, 4593, 4594, 4595, 4596, 4597, 4639, 4640, 4641, 4671, 4672, 4673, 4674, 4675, 4676, 4677, 4678, 4679, 4680, 4719, 4720, 4721, 4753, 4754, 4755, 4756, 4757, 4758, 4759, 4760, 4761, 4762, 4799, 4800, 4801, 4835, 4836, 4837, 4838, 4839, 4840, 4841, 4842, 4843, 4844, 4879, 4880, 4881, 4916, 4917, 4918, 4919, 4920, 4921, 4922, 4923, 4924, 4925, 4926, 4927, 4959, 4960, 4961, 4998, 4999, 5000, 5001, 5002, 5003, 5004, 5005, 5006, 5007, 5008, 5009, 5039, 5040, 5041, 5080, 5081, 5082, 5083, 5084, 5085, 5086, 5087, 5088, 5089, 5090, 5091, 5119, 5120, 5121, 5162, 5163, 5164, 5165, 5166, 5167, 5168, 5169, 5170, 5171, 5172, 5173, 5174, 5199, 5200, 5201, 5244, 5245, 5246, 5247, 5248, 5249, 5250, 5251, 5252, 5253, 5254, 5255, 5256, 5279, 5280, 5281, 5325, 5326, 5327, 5328, 5329, 5330, 5331, 5332, 5333, 5334, 5335, 5336, 5337, 5338, 5339, 5359, 5360, 5361, 5407, 5408, 5409, 5410, 5411, 5412, 5413, 5414, 5415, 5416, 5417, 5418, 5419, 5420, 5421, 5439, 5440, 5441, 5489, 5490, 5491, 5492, 5493, 5494, 5495, 5496, 5497, 5498, 5499, 5500, 5501, 5502, 5503, 5519, 5520, 5521, 5571, 5572, 5573, 5574, 5575, 5576, 5577, 5578, 5579, 5580, 5581, 5582, 5583, 5584, 5585, 5586, 5598, 5599, 5600, 5601, 5602, 5652, 5653, 5654, 5655, 5656, 5657, 5658, 5659, 5660, 5661, 5662, 5663, 5664, 5665, 5666, 5667, 5668, 5678, 5679, 5680, 5681, 5682, 5734, 5735, 5736, 5737, 5738, 5739, 5740, 5741, 5742, 5743, 5744, 5745, 5746, 5747, 5748, 5749, 5750, 5758, 5759, 5760, 5761, 5762, 5816, 5817, 5818, 5819, 5820, 5821, 5822, 5823, 5824, 5825, 5826, 5827, 5828, 5829, 5830, 5831, 5838, 5839, 5840, 5841, 5842, 5898, 5899, 5900, 5901, 5902, 5903, 5904, 5905, 5906, 5907, 5908, 5909, 5910, 5911, 5912, 5918, 5919, 5920, 5921, 5922, 5980, 5981, 5982, 5983, 5984, 5985, 5986, 5987, 5988, 5989, 5990, 5991, 5992, 5993, 5998, 5999, 6000, 6001, 6002, 6061, 6062, 6063, 6064, 6065, 6066, 6067, 6068, 6069, 6070, 6071, 6072, 6073, 6074, 6078, 6079, 6080, 6081, 6082, 6143, 6144, 6145, 6146, 6147, 6148, 6149, 6150, 6151, 6152, 6153, 6154, 6155, 6158, 6159, 6160, 6161, 6162, 6225, 6226, 6227, 6228, 6229, 6230, 6231, 6232, 6233, 6234, 6235, 6236, 6238, 6239, 6240, 6241, 6242, 6307, 6308, 6309, 6310, 6311, 6312, 6313, 6314, 6315, 6316, 6317, 6318, 6319, 6320, 6321, 6322, 6389, 6390, 6391, 6392, 6393, 6394, 6395, 6396, 6397, 6398, 6399, 6400, 6401, 6402, 6470, 6471, 6472, 6473, 6474, 6475, 6476, 6477, 6478, 6479, 6480, 6481, 6482, 6552, 6553, 6554, 6555, 6556, 6557, 6558, 6559, 6560]\n",
      "CPU times: user 157 ms, sys: 16 ms, total: 173 ms\n",
      "Wall time: 172 ms\n"
     ]
    }
   ],
   "source": [
    "%%time\n",
    "n_total = len(simulation.dataframe)\n",
    "n_train = len(simulation.dataframe[simulation.dataframe.type_of == \"train\"])\n",
    "n_val = len(simulation.dataframe[simulation.dataframe.type_of == \"val\"])\n",
    "n_test = len(simulation.dataframe[simulation.dataframe.type_of == \"test\"])\n",
    "n_train_hamiltonians = len(simulation.train_ids)\n",
    "n_val_hamiltonians = len(simulation.val_ids)\n",
    "n_test_hamiltonians = len(simulation.test_ids)\n",
    "n_total_hamiltonians = n_train_hamiltonians + n_val_hamiltonians + n_test_hamiltonians\n",
    "\n",
    "print(\"% train: \", n_train/n_total)\n",
    "print(\"% val: \",  n_val/n_total)\n",
    "print(\"% test: \", n_test/n_total)\n",
    "print(\"% train + val + test: \", (n_train+n_val+n_test)/n_total)\n",
    "print(\"\\n\")\n",
    "print(\"number of train hamiltonians: \", n_train_hamiltonians)\n",
    "print(\"number of val hamiltonians: \", n_val_hamiltonians)\n",
    "print(\"number of test hamiltonians: \", n_test_hamiltonians)\n",
    "print(\"total number of hamiltonians: \", n_total_hamiltonians)\n",
    "print(\"\\n\")\n",
    "print(\"train ids: \", simulation.train_ids)\n",
    "print(\"val ids: \", simulation.val_ids)\n",
    "print(\"test ids: \", simulation.test_ids)"
   ]
  },
  {
   "cell_type": "markdown",
   "metadata": {
    "papermill": {
     "duration": 0.189079,
     "end_time": "2020-07-09T18:41:03.829498",
     "exception": false,
     "start_time": "2020-07-09T18:41:03.640419",
     "status": "completed"
    },
    "tags": []
   },
   "source": [
    "#### Checking summaries"
   ]
  },
  {
   "cell_type": "code",
   "execution_count": 27,
   "metadata": {
    "execution": {
     "iopub.execute_input": "2020-07-09T18:41:03.943716Z",
     "iopub.status.busy": "2020-07-09T18:41:03.943365Z",
     "iopub.status.idle": "2020-07-09T18:41:03.962139Z",
     "shell.execute_reply": "2020-07-09T18:41:03.962389Z"
    },
    "papermill": {
     "duration": 0.059933,
     "end_time": "2020-07-09T18:41:03.962455",
     "exception": false,
     "start_time": "2020-07-09T18:41:03.902522",
     "status": "completed"
    },
    "tags": []
   },
   "outputs": [
    {
     "name": "stdout",
     "output_type": "stream",
     "text": [
      "length of ham_summary:  6561\n",
      "CPU times: user 60 µs, sys: 1e+03 ns, total: 61 µs\n",
      "Wall time: 62.7 µs\n"
     ]
    },
    {
     "data": {
      "text/html": [
       "<div>\n",
       "<style scoped>\n",
       "    .dataframe tbody tr th:only-of-type {\n",
       "        vertical-align: middle;\n",
       "    }\n",
       "\n",
       "    .dataframe tbody tr th {\n",
       "        vertical-align: top;\n",
       "    }\n",
       "\n",
       "    .dataframe thead th {\n",
       "        text-align: right;\n",
       "    }\n",
       "</style>\n",
       "<table border=\"1\" class=\"dataframe\">\n",
       "  <thead>\n",
       "    <tr style=\"text-align: right;\">\n",
       "      <th></th>\n",
       "      <th>t1</th>\n",
       "      <th>t2</th>\n",
       "      <th>type_of</th>\n",
       "      <th>0</th>\n",
       "      <th>1</th>\n",
       "      <th>phase</th>\n",
       "      <th>pred_phase</th>\n",
       "    </tr>\n",
       "    <tr>\n",
       "      <th>id</th>\n",
       "      <th></th>\n",
       "      <th></th>\n",
       "      <th></th>\n",
       "      <th></th>\n",
       "      <th></th>\n",
       "      <th></th>\n",
       "      <th></th>\n",
       "    </tr>\n",
       "  </thead>\n",
       "  <tbody>\n",
       "    <tr>\n",
       "      <th>0</th>\n",
       "      <td>-2.0</td>\n",
       "      <td>-2.00</td>\n",
       "      <td>test</td>\n",
       "      <td>0.50</td>\n",
       "      <td>0.50</td>\n",
       "      <td>999</td>\n",
       "      <td>1</td>\n",
       "    </tr>\n",
       "    <tr>\n",
       "      <th>1</th>\n",
       "      <td>-2.0</td>\n",
       "      <td>-1.95</td>\n",
       "      <td>test</td>\n",
       "      <td>0.53</td>\n",
       "      <td>0.47</td>\n",
       "      <td>0</td>\n",
       "      <td>0</td>\n",
       "    </tr>\n",
       "    <tr>\n",
       "      <th>2</th>\n",
       "      <td>-2.0</td>\n",
       "      <td>-1.90</td>\n",
       "      <td>test</td>\n",
       "      <td>0.58</td>\n",
       "      <td>0.42</td>\n",
       "      <td>0</td>\n",
       "      <td>0</td>\n",
       "    </tr>\n",
       "    <tr>\n",
       "      <th>3</th>\n",
       "      <td>-2.0</td>\n",
       "      <td>-1.85</td>\n",
       "      <td>test</td>\n",
       "      <td>0.61</td>\n",
       "      <td>0.39</td>\n",
       "      <td>0</td>\n",
       "      <td>0</td>\n",
       "    </tr>\n",
       "    <tr>\n",
       "      <th>4</th>\n",
       "      <td>-2.0</td>\n",
       "      <td>-1.80</td>\n",
       "      <td>test</td>\n",
       "      <td>0.69</td>\n",
       "      <td>0.31</td>\n",
       "      <td>0</td>\n",
       "      <td>0</td>\n",
       "    </tr>\n",
       "    <tr>\n",
       "      <th>...</th>\n",
       "      <td>...</td>\n",
       "      <td>...</td>\n",
       "      <td>...</td>\n",
       "      <td>...</td>\n",
       "      <td>...</td>\n",
       "      <td>...</td>\n",
       "      <td>...</td>\n",
       "    </tr>\n",
       "    <tr>\n",
       "      <th>6556</th>\n",
       "      <td>2.0</td>\n",
       "      <td>1.80</td>\n",
       "      <td>test</td>\n",
       "      <td>0.64</td>\n",
       "      <td>0.36</td>\n",
       "      <td>0</td>\n",
       "      <td>0</td>\n",
       "    </tr>\n",
       "    <tr>\n",
       "      <th>6557</th>\n",
       "      <td>2.0</td>\n",
       "      <td>1.85</td>\n",
       "      <td>test</td>\n",
       "      <td>0.64</td>\n",
       "      <td>0.36</td>\n",
       "      <td>0</td>\n",
       "      <td>0</td>\n",
       "    </tr>\n",
       "    <tr>\n",
       "      <th>6558</th>\n",
       "      <td>2.0</td>\n",
       "      <td>1.90</td>\n",
       "      <td>test</td>\n",
       "      <td>0.53</td>\n",
       "      <td>0.47</td>\n",
       "      <td>0</td>\n",
       "      <td>0</td>\n",
       "    </tr>\n",
       "    <tr>\n",
       "      <th>6559</th>\n",
       "      <td>2.0</td>\n",
       "      <td>1.95</td>\n",
       "      <td>test</td>\n",
       "      <td>0.51</td>\n",
       "      <td>0.49</td>\n",
       "      <td>0</td>\n",
       "      <td>0</td>\n",
       "    </tr>\n",
       "    <tr>\n",
       "      <th>6560</th>\n",
       "      <td>2.0</td>\n",
       "      <td>2.00</td>\n",
       "      <td>test</td>\n",
       "      <td>0.62</td>\n",
       "      <td>0.38</td>\n",
       "      <td>999</td>\n",
       "      <td>0</td>\n",
       "    </tr>\n",
       "  </tbody>\n",
       "</table>\n",
       "<p>6561 rows × 7 columns</p>\n",
       "</div>"
      ],
      "text/plain": [
       "       t1    t2 type_of     0     1  phase  pred_phase\n",
       "id                                                    \n",
       "0    -2.0 -2.00    test  0.50  0.50    999           1\n",
       "1    -2.0 -1.95    test  0.53  0.47      0           0\n",
       "2    -2.0 -1.90    test  0.58  0.42      0           0\n",
       "3    -2.0 -1.85    test  0.61  0.39      0           0\n",
       "4    -2.0 -1.80    test  0.69  0.31      0           0\n",
       "...   ...   ...     ...   ...   ...    ...         ...\n",
       "6556  2.0  1.80    test  0.64  0.36      0           0\n",
       "6557  2.0  1.85    test  0.64  0.36      0           0\n",
       "6558  2.0  1.90    test  0.53  0.47      0           0\n",
       "6559  2.0  1.95    test  0.51  0.49      0           0\n",
       "6560  2.0  2.00    test  0.62  0.38    999           0\n",
       "\n",
       "[6561 rows x 7 columns]"
      ]
     },
     "execution_count": 27,
     "metadata": {},
     "output_type": "execute_result"
    }
   ],
   "source": [
    "%%time\n",
    "ham_summary = simulation.hamiltonian_summary\n",
    "print(\"length of ham_summary: \", len(ham_summary))\n",
    "ham_summary"
   ]
  },
  {
   "cell_type": "code",
   "execution_count": 28,
   "metadata": {
    "execution": {
     "iopub.execute_input": "2020-07-09T18:41:04.034894Z",
     "iopub.status.busy": "2020-07-09T18:41:04.034592Z",
     "iopub.status.idle": "2020-07-09T18:41:04.061941Z",
     "shell.execute_reply": "2020-07-09T18:41:04.062194Z"
    },
    "papermill": {
     "duration": 0.064377,
     "end_time": "2020-07-09T18:41:04.062260",
     "exception": false,
     "start_time": "2020-07-09T18:41:03.997883",
     "status": "completed"
    },
    "tags": []
   },
   "outputs": [
    {
     "data": {
      "text/html": [
       "<div>\n",
       "<style scoped>\n",
       "    .dataframe tbody tr th:only-of-type {\n",
       "        vertical-align: middle;\n",
       "    }\n",
       "\n",
       "    .dataframe tbody tr th {\n",
       "        vertical-align: top;\n",
       "    }\n",
       "\n",
       "    .dataframe thead th {\n",
       "        text-align: right;\n",
       "    }\n",
       "</style>\n",
       "<table border=\"1\" class=\"dataframe\">\n",
       "  <thead>\n",
       "    <tr style=\"text-align: right;\">\n",
       "      <th></th>\n",
       "      <th>t1</th>\n",
       "      <th>t2</th>\n",
       "      <th>0</th>\n",
       "      <th>1</th>\n",
       "      <th>phase</th>\n",
       "      <th>pred_phase</th>\n",
       "    </tr>\n",
       "  </thead>\n",
       "  <tbody>\n",
       "    <tr>\n",
       "      <th>count</th>\n",
       "      <td>6561.000000</td>\n",
       "      <td>6.561000e+03</td>\n",
       "      <td>6561.000000</td>\n",
       "      <td>6561.000000</td>\n",
       "      <td>6561.000000</td>\n",
       "      <td>6561.000000</td>\n",
       "    </tr>\n",
       "    <tr>\n",
       "      <th>mean</th>\n",
       "      <td>0.000000</td>\n",
       "      <td>-4.331917e-18</td>\n",
       "      <td>0.487264</td>\n",
       "      <td>0.512736</td>\n",
       "      <td>25.002134</td>\n",
       "      <td>0.517756</td>\n",
       "    </tr>\n",
       "    <tr>\n",
       "      <th>std</th>\n",
       "      <td>1.169134</td>\n",
       "      <td>1.169134e+00</td>\n",
       "      <td>0.426818</td>\n",
       "      <td>0.426818</td>\n",
       "      <td>154.495657</td>\n",
       "      <td>0.499723</td>\n",
       "    </tr>\n",
       "    <tr>\n",
       "      <th>min</th>\n",
       "      <td>-2.000000</td>\n",
       "      <td>-2.000000e+00</td>\n",
       "      <td>0.000000</td>\n",
       "      <td>0.010000</td>\n",
       "      <td>0.000000</td>\n",
       "      <td>0.000000</td>\n",
       "    </tr>\n",
       "    <tr>\n",
       "      <th>25%</th>\n",
       "      <td>-1.000000</td>\n",
       "      <td>-1.000000e+00</td>\n",
       "      <td>0.040000</td>\n",
       "      <td>0.050000</td>\n",
       "      <td>0.000000</td>\n",
       "      <td>0.000000</td>\n",
       "    </tr>\n",
       "    <tr>\n",
       "      <th>50%</th>\n",
       "      <td>0.000000</td>\n",
       "      <td>0.000000e+00</td>\n",
       "      <td>0.440000</td>\n",
       "      <td>0.560000</td>\n",
       "      <td>1.000000</td>\n",
       "      <td>1.000000</td>\n",
       "    </tr>\n",
       "    <tr>\n",
       "      <th>75%</th>\n",
       "      <td>1.000000</td>\n",
       "      <td>1.000000e+00</td>\n",
       "      <td>0.950000</td>\n",
       "      <td>0.960000</td>\n",
       "      <td>1.000000</td>\n",
       "      <td>1.000000</td>\n",
       "    </tr>\n",
       "    <tr>\n",
       "      <th>max</th>\n",
       "      <td>2.000000</td>\n",
       "      <td>2.000000e+00</td>\n",
       "      <td>0.990000</td>\n",
       "      <td>1.000000</td>\n",
       "      <td>999.000000</td>\n",
       "      <td>1.000000</td>\n",
       "    </tr>\n",
       "  </tbody>\n",
       "</table>\n",
       "</div>"
      ],
      "text/plain": [
       "                t1            t2            0            1        phase  \\\n",
       "count  6561.000000  6.561000e+03  6561.000000  6561.000000  6561.000000   \n",
       "mean      0.000000 -4.331917e-18     0.487264     0.512736    25.002134   \n",
       "std       1.169134  1.169134e+00     0.426818     0.426818   154.495657   \n",
       "min      -2.000000 -2.000000e+00     0.000000     0.010000     0.000000   \n",
       "25%      -1.000000 -1.000000e+00     0.040000     0.050000     0.000000   \n",
       "50%       0.000000  0.000000e+00     0.440000     0.560000     1.000000   \n",
       "75%       1.000000  1.000000e+00     0.950000     0.960000     1.000000   \n",
       "max       2.000000  2.000000e+00     0.990000     1.000000   999.000000   \n",
       "\n",
       "        pred_phase  \n",
       "count  6561.000000  \n",
       "mean      0.517756  \n",
       "std       0.499723  \n",
       "min       0.000000  \n",
       "25%       0.000000  \n",
       "50%       1.000000  \n",
       "75%       1.000000  \n",
       "max       1.000000  "
      ]
     },
     "execution_count": 28,
     "metadata": {},
     "output_type": "execute_result"
    }
   ],
   "source": [
    "ham_summary.describe()"
   ]
  },
  {
   "cell_type": "code",
   "execution_count": 29,
   "metadata": {
    "execution": {
     "iopub.execute_input": "2020-07-09T18:41:04.136748Z",
     "iopub.status.busy": "2020-07-09T18:41:04.136423Z",
     "iopub.status.idle": "2020-07-09T18:41:04.151611Z",
     "shell.execute_reply": "2020-07-09T18:41:04.151298Z"
    },
    "papermill": {
     "duration": 0.053071,
     "end_time": "2020-07-09T18:41:04.151661",
     "exception": false,
     "start_time": "2020-07-09T18:41:04.098590",
     "status": "completed"
    },
    "tags": []
   },
   "outputs": [
    {
     "name": "stdout",
     "output_type": "stream",
     "text": [
      "length of ham_summary:  656100\n"
     ]
    },
    {
     "data": {
      "text/html": [
       "<div>\n",
       "<style scoped>\n",
       "    .dataframe tbody tr th:only-of-type {\n",
       "        vertical-align: middle;\n",
       "    }\n",
       "\n",
       "    .dataframe tbody tr th {\n",
       "        vertical-align: top;\n",
       "    }\n",
       "\n",
       "    .dataframe thead th {\n",
       "        text-align: right;\n",
       "    }\n",
       "</style>\n",
       "<table border=\"1\" class=\"dataframe\">\n",
       "  <thead>\n",
       "    <tr style=\"text-align: right;\">\n",
       "      <th></th>\n",
       "      <th>id</th>\n",
       "      <th>phase</th>\n",
       "      <th>pred_phase</th>\n",
       "      <th>type_of</th>\n",
       "    </tr>\n",
       "  </thead>\n",
       "  <tbody>\n",
       "    <tr>\n",
       "      <th>0</th>\n",
       "      <td>0</td>\n",
       "      <td>999</td>\n",
       "      <td>1</td>\n",
       "      <td>test</td>\n",
       "    </tr>\n",
       "    <tr>\n",
       "      <th>1</th>\n",
       "      <td>0</td>\n",
       "      <td>999</td>\n",
       "      <td>0</td>\n",
       "      <td>test</td>\n",
       "    </tr>\n",
       "    <tr>\n",
       "      <th>2</th>\n",
       "      <td>0</td>\n",
       "      <td>999</td>\n",
       "      <td>0</td>\n",
       "      <td>test</td>\n",
       "    </tr>\n",
       "    <tr>\n",
       "      <th>3</th>\n",
       "      <td>0</td>\n",
       "      <td>999</td>\n",
       "      <td>1</td>\n",
       "      <td>test</td>\n",
       "    </tr>\n",
       "    <tr>\n",
       "      <th>4</th>\n",
       "      <td>0</td>\n",
       "      <td>999</td>\n",
       "      <td>0</td>\n",
       "      <td>test</td>\n",
       "    </tr>\n",
       "    <tr>\n",
       "      <th>...</th>\n",
       "      <td>...</td>\n",
       "      <td>...</td>\n",
       "      <td>...</td>\n",
       "      <td>...</td>\n",
       "    </tr>\n",
       "    <tr>\n",
       "      <th>656095</th>\n",
       "      <td>6560</td>\n",
       "      <td>999</td>\n",
       "      <td>1</td>\n",
       "      <td>test</td>\n",
       "    </tr>\n",
       "    <tr>\n",
       "      <th>656096</th>\n",
       "      <td>6560</td>\n",
       "      <td>999</td>\n",
       "      <td>0</td>\n",
       "      <td>test</td>\n",
       "    </tr>\n",
       "    <tr>\n",
       "      <th>656097</th>\n",
       "      <td>6560</td>\n",
       "      <td>999</td>\n",
       "      <td>0</td>\n",
       "      <td>test</td>\n",
       "    </tr>\n",
       "    <tr>\n",
       "      <th>656098</th>\n",
       "      <td>6560</td>\n",
       "      <td>999</td>\n",
       "      <td>1</td>\n",
       "      <td>test</td>\n",
       "    </tr>\n",
       "    <tr>\n",
       "      <th>656099</th>\n",
       "      <td>6560</td>\n",
       "      <td>999</td>\n",
       "      <td>0</td>\n",
       "      <td>test</td>\n",
       "    </tr>\n",
       "  </tbody>\n",
       "</table>\n",
       "<p>656100 rows × 4 columns</p>\n",
       "</div>"
      ],
      "text/plain": [
       "          id  phase  pred_phase type_of\n",
       "0          0    999           1    test\n",
       "1          0    999           0    test\n",
       "2          0    999           0    test\n",
       "3          0    999           1    test\n",
       "4          0    999           0    test\n",
       "...      ...    ...         ...     ...\n",
       "656095  6560    999           1    test\n",
       "656096  6560    999           0    test\n",
       "656097  6560    999           0    test\n",
       "656098  6560    999           1    test\n",
       "656099  6560    999           0    test\n",
       "\n",
       "[656100 rows x 4 columns]"
      ]
     },
     "execution_count": 29,
     "metadata": {},
     "output_type": "execute_result"
    }
   ],
   "source": [
    "eigen_summary = simulation.eigenvector_summary\n",
    "print(\"length of ham_summary: \", len(eigen_summary))\n",
    "eigen_summary"
   ]
  },
  {
   "cell_type": "markdown",
   "metadata": {
    "papermill": {
     "duration": 0.036051,
     "end_time": "2020-07-09T18:41:04.223631",
     "exception": false,
     "start_time": "2020-07-09T18:41:04.187580",
     "status": "completed"
    },
    "tags": []
   },
   "source": [
    "#### Checking accuracies"
   ]
  },
  {
   "cell_type": "code",
   "execution_count": 30,
   "metadata": {
    "execution": {
     "iopub.execute_input": "2020-07-09T18:41:04.299185Z",
     "iopub.status.busy": "2020-07-09T18:41:04.298850Z",
     "iopub.status.idle": "2020-07-09T18:41:04.309242Z",
     "shell.execute_reply": "2020-07-09T18:41:04.309544Z"
    },
    "papermill": {
     "duration": 0.049101,
     "end_time": "2020-07-09T18:41:04.309610",
     "exception": false,
     "start_time": "2020-07-09T18:41:04.260509",
     "status": "completed"
    },
    "tags": []
   },
   "outputs": [
    {
     "data": {
      "text/plain": [
       "{'eigenvector_train': 0.9759532374100719,\n",
       " 'eigenvector_val': 0.936612,\n",
       " 'eigenvector_test': 0.7120023696682465,\n",
       " 'hamiltonian_train': 0.9946043165467626,\n",
       " 'hamiltonian_val': 0.9846,\n",
       " 'hamiltonian_test': 0.990521327014218}"
      ]
     },
     "execution_count": 30,
     "metadata": {},
     "output_type": "execute_result"
    }
   ],
   "source": [
    "simulation.accuracy"
   ]
  },
  {
   "cell_type": "markdown",
   "metadata": {
    "papermill": {
     "duration": 0.037447,
     "end_time": "2020-07-09T18:41:04.383567",
     "exception": false,
     "start_time": "2020-07-09T18:41:04.346120",
     "status": "completed"
    },
    "tags": []
   },
   "source": [
    "#### Checking data stored in  memory"
   ]
  },
  {
   "cell_type": "code",
   "execution_count": 31,
   "metadata": {
    "execution": {
     "iopub.execute_input": "2020-07-09T18:41:04.460131Z",
     "iopub.status.busy": "2020-07-09T18:41:04.459821Z",
     "iopub.status.idle": "2020-07-09T18:41:04.470170Z",
     "shell.execute_reply": "2020-07-09T18:41:04.469852Z"
    },
    "papermill": {
     "duration": 0.049338,
     "end_time": "2020-07-09T18:41:04.470219",
     "exception": false,
     "start_time": "2020-07-09T18:41:04.420881",
     "status": "completed"
    },
    "tags": []
   },
   "outputs": [
    {
     "data": {
      "text/plain": [
       "[]"
      ]
     },
     "execution_count": 31,
     "metadata": {},
     "output_type": "execute_result"
    }
   ],
   "source": [
    "ham_summary_list = simulation.hamiltonian_summary_list\n",
    "ham_summary_list"
   ]
  },
  {
   "cell_type": "code",
   "execution_count": 32,
   "metadata": {
    "execution": {
     "iopub.execute_input": "2020-07-09T18:41:04.545290Z",
     "iopub.status.busy": "2020-07-09T18:41:04.544985Z",
     "iopub.status.idle": "2020-07-09T18:41:04.555492Z",
     "shell.execute_reply": "2020-07-09T18:41:04.555156Z"
    },
    "papermill": {
     "duration": 0.048712,
     "end_time": "2020-07-09T18:41:04.555547",
     "exception": false,
     "start_time": "2020-07-09T18:41:04.506835",
     "status": "completed"
    },
    "tags": []
   },
   "outputs": [
    {
     "data": {
      "text/plain": [
       "[]"
      ]
     },
     "execution_count": 32,
     "metadata": {},
     "output_type": "execute_result"
    }
   ],
   "source": [
    "eigen_summary_list = simulation.eigenvector_summary_list\n",
    "eigen_summary_list"
   ]
  },
  {
   "cell_type": "code",
   "execution_count": 33,
   "metadata": {
    "execution": {
     "iopub.execute_input": "2020-07-09T18:41:04.632642Z",
     "iopub.status.busy": "2020-07-09T18:41:04.632326Z",
     "iopub.status.idle": "2020-07-09T18:41:04.643176Z",
     "shell.execute_reply": "2020-07-09T18:41:04.642858Z"
    },
    "papermill": {
     "duration": 0.050211,
     "end_time": "2020-07-09T18:41:04.643226",
     "exception": false,
     "start_time": "2020-07-09T18:41:04.593015",
     "status": "completed"
    },
    "tags": []
   },
   "outputs": [
    {
     "data": {
      "text/plain": [
       "{'eigenvector_train': [],\n",
       " 'eigenvector_val': [],\n",
       " 'eigenvector_test': [],\n",
       " 'hamiltonian_train': [],\n",
       " 'hamiltonian_val': [],\n",
       " 'hamiltonian_test': []}"
      ]
     },
     "execution_count": 33,
     "metadata": {},
     "output_type": "execute_result"
    }
   ],
   "source": [
    "accuracy_list = simulation.accuracy_list\n",
    "accuracy_list"
   ]
  },
  {
   "cell_type": "code",
   "execution_count": null,
   "metadata": {
    "papermill": {
     "duration": 0.03718,
     "end_time": "2020-07-09T18:41:04.717300",
     "exception": false,
     "start_time": "2020-07-09T18:41:04.680120",
     "status": "completed"
    },
    "tags": []
   },
   "outputs": [],
   "source": []
  },
  {
   "cell_type": "code",
   "execution_count": null,
   "metadata": {
    "papermill": {
     "duration": 0.039579,
     "end_time": "2020-07-09T18:41:04.794497",
     "exception": false,
     "start_time": "2020-07-09T18:41:04.754918",
     "status": "completed"
    },
    "tags": []
   },
   "outputs": [],
   "source": []
  },
  {
   "cell_type": "code",
   "execution_count": 34,
   "metadata": {
    "execution": {
     "iopub.execute_input": "2020-07-09T18:41:04.870347Z",
     "iopub.status.busy": "2020-07-09T18:41:04.870042Z",
     "iopub.status.idle": "2020-07-09T18:41:04.880082Z",
     "shell.execute_reply": "2020-07-09T18:41:04.879742Z"
    },
    "papermill": {
     "duration": 0.048596,
     "end_time": "2020-07-09T18:41:04.880134",
     "exception": false,
     "start_time": "2020-07-09T18:41:04.831538",
     "status": "completed"
    },
    "tags": []
   },
   "outputs": [],
   "source": [
    "#simulation.fourier_matrix"
   ]
  },
  {
   "cell_type": "code",
   "execution_count": 35,
   "metadata": {
    "execution": {
     "iopub.execute_input": "2020-07-09T18:41:04.957730Z",
     "iopub.status.busy": "2020-07-09T18:41:04.957382Z",
     "iopub.status.idle": "2020-07-09T18:41:04.967243Z",
     "shell.execute_reply": "2020-07-09T18:41:04.966969Z"
    },
    "papermill": {
     "duration": 0.049488,
     "end_time": "2020-07-09T18:41:04.967296",
     "exception": false,
     "start_time": "2020-07-09T18:41:04.917808",
     "status": "completed"
    },
    "tags": []
   },
   "outputs": [],
   "source": [
    "#simulation.fourier_matrix.shape"
   ]
  },
  {
   "cell_type": "code",
   "execution_count": 36,
   "metadata": {
    "execution": {
     "iopub.execute_input": "2020-07-09T18:41:05.043140Z",
     "iopub.status.busy": "2020-07-09T18:41:05.042833Z",
     "iopub.status.idle": "2020-07-09T18:41:05.052535Z",
     "shell.execute_reply": "2020-07-09T18:41:05.052204Z"
    },
    "papermill": {
     "duration": 0.048399,
     "end_time": "2020-07-09T18:41:05.052587",
     "exception": false,
     "start_time": "2020-07-09T18:41:05.004188",
     "status": "completed"
    },
    "tags": []
   },
   "outputs": [],
   "source": [
    "#simulation.fourier_matrix[:,0]"
   ]
  },
  {
   "cell_type": "code",
   "execution_count": 37,
   "metadata": {
    "execution": {
     "iopub.execute_input": "2020-07-09T18:41:05.130549Z",
     "iopub.status.busy": "2020-07-09T18:41:05.130203Z",
     "iopub.status.idle": "2020-07-09T18:41:05.139723Z",
     "shell.execute_reply": "2020-07-09T18:41:05.140000Z"
    },
    "papermill": {
     "duration": 0.049527,
     "end_time": "2020-07-09T18:41:05.140073",
     "exception": false,
     "start_time": "2020-07-09T18:41:05.090546",
     "status": "completed"
    },
    "tags": []
   },
   "outputs": [],
   "source": [
    "#simulation.fourier_matrix[:,1]"
   ]
  },
  {
   "cell_type": "code",
   "execution_count": 38,
   "metadata": {
    "execution": {
     "iopub.execute_input": "2020-07-09T18:41:05.216474Z",
     "iopub.status.busy": "2020-07-09T18:41:05.216157Z",
     "iopub.status.idle": "2020-07-09T18:41:05.226348Z",
     "shell.execute_reply": "2020-07-09T18:41:05.226010Z"
    },
    "papermill": {
     "duration": 0.048821,
     "end_time": "2020-07-09T18:41:05.226400",
     "exception": false,
     "start_time": "2020-07-09T18:41:05.177579",
     "status": "completed"
    },
    "tags": []
   },
   "outputs": [],
   "source": [
    "#np.exp(-1j*2*np.pi*3/100)"
   ]
  },
  {
   "cell_type": "code",
   "execution_count": 39,
   "metadata": {
    "execution": {
     "iopub.execute_input": "2020-07-09T18:41:05.303858Z",
     "iopub.status.busy": "2020-07-09T18:41:05.303547Z",
     "iopub.status.idle": "2020-07-09T18:41:05.313871Z",
     "shell.execute_reply": "2020-07-09T18:41:05.313583Z"
    },
    "papermill": {
     "duration": 0.049717,
     "end_time": "2020-07-09T18:41:05.313925",
     "exception": false,
     "start_time": "2020-07-09T18:41:05.264208",
     "status": "completed"
    },
    "tags": []
   },
   "outputs": [],
   "source": [
    "#for i in range(1,50):\n",
    "#    print(\"\\n\")\n",
    "#    print(i)\n",
    "#    print(np.sum((np.real(simulation.fourier_matrix[:,i]) - np.real(simulation.fourier_matrix[:,-i]))**2))\n",
    "#    print(np.sum((np.imag(simulation.fourier_matrix[:,i])+ np.imag(simulation.fourier_matrix[:,-i]))**2))"
   ]
  },
  {
   "cell_type": "code",
   "execution_count": 40,
   "metadata": {
    "execution": {
     "iopub.execute_input": "2020-07-09T18:41:05.389970Z",
     "iopub.status.busy": "2020-07-09T18:41:05.389657Z",
     "iopub.status.idle": "2020-07-09T18:41:05.449596Z",
     "shell.execute_reply": "2020-07-09T18:41:05.450988Z"
    },
    "papermill": {
     "duration": 0.10051,
     "end_time": "2020-07-09T18:41:05.451297",
     "exception": false,
     "start_time": "2020-07-09T18:41:05.350787",
     "status": "completed"
    },
    "tags": []
   },
   "outputs": [],
   "source": [
    "#print(simulation.fourier_matrix[:,0])"
   ]
  },
  {
   "cell_type": "code",
   "execution_count": 41,
   "metadata": {
    "execution": {
     "iopub.execute_input": "2020-07-09T18:41:05.566543Z",
     "iopub.status.busy": "2020-07-09T18:41:05.566237Z",
     "iopub.status.idle": "2020-07-09T18:41:05.576084Z",
     "shell.execute_reply": "2020-07-09T18:41:05.576402Z"
    },
    "papermill": {
     "duration": 0.049457,
     "end_time": "2020-07-09T18:41:05.576471",
     "exception": false,
     "start_time": "2020-07-09T18:41:05.527014",
     "status": "completed"
    },
    "tags": []
   },
   "outputs": [],
   "source": [
    "#print(simulation.fourier_matrix[:,50])"
   ]
  },
  {
   "cell_type": "code",
   "execution_count": null,
   "metadata": {
    "papermill": {
     "duration": 0.036758,
     "end_time": "2020-07-09T18:41:05.651741",
     "exception": false,
     "start_time": "2020-07-09T18:41:05.614983",
     "status": "completed"
    },
    "tags": []
   },
   "outputs": [],
   "source": []
  }
 ],
 "metadata": {
  "celltoolbar": "Tags",
  "kernelspec": {
   "display_name": "ml_top_phases",
   "language": "python",
   "name": "ml_top_phases"
  },
  "language_info": {
   "codemirror_mode": {
    "name": "ipython",
    "version": 3
   },
   "file_extension": ".py",
   "mimetype": "text/x-python",
   "name": "python",
   "nbconvert_exporter": "python",
   "pygments_lexer": "ipython3",
   "version": "3.6.10"
  },
  "papermill": {
   "duration": 283.061795,
   "end_time": "2020-07-09T18:41:05.799935",
   "environment_variables": {},
   "exception": null,
   "input_path": "0_simulation_template.ipynb",
   "output_path": "zzz_simulation_output_ssh1_8th_scenario_100_6561.ipynb",
   "parameters": {
    "allowed_windings": [
     0,
     1
    ],
    "csv_path": "/home/rio/ssh_csvs/ssh1/periodic_100_6561.csv",
    "features_to_use": [
     0,
     1,
     2,
     3,
     5,
     7,
     19,
     35,
     45,
     48,
     49,
     50
    ],
    "fillna": false,
    "fit_params": null,
    "fourier_features_to_use": [
     0,
     2,
     4,
     6,
     8,
     10,
     12,
     14,
     32,
     34,
     38,
     50
    ],
    "fourier_fillna": false,
    "fourier_mode": "dct",
    "fourier_normalize": false,
    "fourier_real": null,
    "model_kw": {
     "criterion": "entropy"
    },
    "model_name": "DecisionTreeClassifier",
    "n_experiments": 100,
    "normalize": false,
    "pred_params": null,
    "random_features": false,
    "random_state": 34896,
    "save_accuracy": true,
    "save_eigenvector": true,
    "save_hamiltonian": true,
    "save_models": true,
    "shuffle_features": false,
    "shuffle_rows": true,
    "simulation_dir": "/home/rio/ssh_simulations/ssh1/periodic_8th_scenario_100_6561",
    "start_n": 0,
    "store_in_lists": false,
    "val_split": 0.9
   },
   "start_time": "2020-07-09T18:36:22.738140",
   "version": "2.1.0"
  }
 },
 "nbformat": 4,
 "nbformat_minor": 2
}