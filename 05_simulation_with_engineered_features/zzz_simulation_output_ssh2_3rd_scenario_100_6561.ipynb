{
 "cells": [
  {
   "cell_type": "markdown",
   "metadata": {
    "papermill": {
     "duration": 0.050989,
     "end_time": "2020-07-09T19:48:34.057332",
     "exception": false,
     "start_time": "2020-07-09T19:48:34.006343",
     "status": "completed"
    },
    "tags": []
   },
   "source": [
    "# Simulation template \n",
    "\n",
    "In this notebook we run the machine learning analysis of topological phase transitions occurring  in both nearest-neighbours SSH models (ssh1) and second neighbours models (ssh2) as decribed in the paper [Machine learning topological phases in real space](https://arxiv.org/abs/1901.01963). Here the simulation is run with features generated from fourier components in the first scenario. This scenario is characterized by using only the EVEN wavevector space eigenmodes, computed from ALL real space components."
   ]
  },
  {
   "cell_type": "markdown",
   "metadata": {
    "papermill": {
     "duration": 0.015296,
     "end_time": "2020-07-09T19:48:34.091910",
     "exception": false,
     "start_time": "2020-07-09T19:48:34.076614",
     "status": "completed"
    },
    "tags": []
   },
   "source": [
    "## Defining parameters"
   ]
  },
  {
   "cell_type": "code",
   "execution_count": 1,
   "metadata": {
    "execution": {
     "iopub.execute_input": "2020-07-09T19:48:34.125671Z",
     "iopub.status.busy": "2020-07-09T19:48:34.124547Z",
     "iopub.status.idle": "2020-07-09T19:48:34.718516Z",
     "shell.execute_reply": "2020-07-09T19:48:34.718191Z"
    },
    "papermill": {
     "duration": 0.611559,
     "end_time": "2020-07-09T19:48:34.718569",
     "exception": false,
     "start_time": "2020-07-09T19:48:34.107010",
     "status": "completed"
    },
    "tags": []
   },
   "outputs": [
    {
     "name": "stdout",
     "output_type": "stream",
     "text": [
      "CPU times: user 727 ms, sys: 297 ms, total: 1.02 s\n",
      "Wall time: 587 ms\n"
     ]
    }
   ],
   "source": [
    "%%time\n",
    "%load_ext autoreload\n",
    "%autoreload 2\n",
    "from simulation import *"
   ]
  },
  {
   "cell_type": "code",
   "execution_count": 2,
   "metadata": {
    "execution": {
     "iopub.execute_input": "2020-07-09T19:48:34.753205Z",
     "iopub.status.busy": "2020-07-09T19:48:34.752870Z",
     "iopub.status.idle": "2020-07-09T19:48:34.763748Z",
     "shell.execute_reply": "2020-07-09T19:48:34.764050Z"
    },
    "papermill": {
     "duration": 0.029285,
     "end_time": "2020-07-09T19:48:34.764116",
     "exception": false,
     "start_time": "2020-07-09T19:48:34.734831",
     "status": "completed"
    },
    "tags": [
     "parameters"
    ]
   },
   "outputs": [
    {
     "name": "stdout",
     "output_type": "stream",
     "text": [
      "CPU times: user 3 µs, sys: 0 ns, total: 3 µs\n",
      "Wall time: 4.77 µs\n"
     ]
    }
   ],
   "source": [
    "%%time\n",
    "### Dataset and simulation parameters\n",
    "#csv_path = SSH2_PERIODIC_100_6561_CSV \n",
    "csv_path = SSH1_PERIODIC_100_6561_CSV \n",
    "model_name = \"DecisionTreeClassifier\"\n",
    "model_kw = {\"criterion\":\"entropy\"}\n",
    "allowed_windings = [0,1]\n",
    "#allowed_windings = [-1,0,1,2]\n",
    "simulation_dir = SSH1_PERIODIC_1ST_SCENARIO_100_6561_SIMULATION_DIR\n",
    "#simulation_dir = SSH2_PERIODIC_ENGINEERED_100_6561_SIMULATION_DIR\n",
    "val_split = 0.9  \n",
    "features_to_use = None\n",
    "shuffle_features = False\n",
    "random_state = 763\n",
    "\n",
    "### Fourier features\n",
    "fourier_mode = \"dft\"\n",
    "fourier_features_to_use = None\n",
    "fourier_real = \"real\"\n",
    "fourier_normalize = True\n",
    "fourier_fillna = False\n",
    "\n",
    "### Running a simulation\n",
    "n_experiments = 5\n",
    "start_n = 0\n",
    "fit_params = None\n",
    "#mode=mode\n",
    "shuffle_rows = True\n",
    "pred_params = None\n",
    "random_features = False\n",
    "######### DON'T SET THIS TO TRUE UNLESS YOUR DATASET IS SMALL!! WILL FLOOD YOUR MEMORY!!!\n",
    "store_in_lists = False   \n",
    "########## BELOW ARE THE PARAMETERS THAT CONTROL WHAT WILL BE SAVED\n",
    "save_eigenvector=True\n",
    "save_hamiltonian=True \n",
    "save_accuracy=True \n",
    "save_models=True"
   ]
  },
  {
   "cell_type": "code",
   "execution_count": 3,
   "metadata": {
    "execution": {
     "iopub.execute_input": "2020-07-09T19:48:34.798948Z",
     "iopub.status.busy": "2020-07-09T19:48:34.798621Z",
     "iopub.status.idle": "2020-07-09T19:48:34.887138Z",
     "shell.execute_reply": "2020-07-09T19:48:34.888600Z"
    },
    "papermill": {
     "duration": 0.10933,
     "end_time": "2020-07-09T19:48:34.888908",
     "exception": false,
     "start_time": "2020-07-09T19:48:34.779578",
     "status": "completed"
    },
    "tags": [
     "injected-parameters"
    ]
   },
   "outputs": [],
   "source": [
    "# Parameters\n",
    "model_kw = {\"criterion\": \"entropy\", \"n_estimators\": 25, \"n_jobs\": -1}\n",
    "allowed_windings = [-1, 0, 1, 2]\n",
    "val_split = 0.5\n",
    "features_to_use = None\n",
    "shuffle_features = False\n",
    "n_experiments = 100\n",
    "start_n = 0\n",
    "fit_params = None\n",
    "shuffle_rows = True\n",
    "pred_params = None\n",
    "random_features = False\n",
    "store_in_lists = False\n",
    "save_eigenvector = True\n",
    "save_hamiltonian = True\n",
    "save_accuracy = True\n",
    "save_models = True\n",
    "csv_path = \"/home/rio/ssh_csvs/ssh2/periodic_100_6561.csv\"\n",
    "model_name = \"RandomForestClassifier\"\n",
    "simulation_dir = \"/home/rio/ssh_simulations/ssh2/periodic_3rd_scenario_100_6561\"\n",
    "random_state = 467\n",
    "fourier_features_to_use = [\n",
    "    0,\n",
    "    1,\n",
    "    2,\n",
    "    3,\n",
    "    4,\n",
    "    5,\n",
    "    6,\n",
    "    7,\n",
    "    8,\n",
    "    9,\n",
    "    10,\n",
    "    11,\n",
    "    12,\n",
    "    13,\n",
    "    14,\n",
    "    15,\n",
    "    16,\n",
    "    17,\n",
    "    18,\n",
    "    19,\n",
    "    20,\n",
    "    21,\n",
    "    22,\n",
    "    23,\n",
    "    24,\n",
    "    25,\n",
    "    26,\n",
    "    27,\n",
    "    28,\n",
    "    29,\n",
    "    30,\n",
    "    31,\n",
    "    32,\n",
    "    33,\n",
    "    34,\n",
    "    35,\n",
    "    36,\n",
    "    37,\n",
    "    38,\n",
    "    39,\n",
    "    40,\n",
    "    41,\n",
    "    42,\n",
    "    43,\n",
    "    44,\n",
    "    45,\n",
    "    46,\n",
    "    47,\n",
    "    48,\n",
    "    49,\n",
    "    50,\n",
    "]\n",
    "fourier_mode = \"dft\"\n",
    "fourier_real = \"real\"\n",
    "fourier_normalize = None\n",
    "fourier_fillna = None\n",
    "normalize = False\n",
    "fillna = False\n"
   ]
  },
  {
   "cell_type": "code",
   "execution_count": 4,
   "metadata": {
    "execution": {
     "iopub.execute_input": "2020-07-09T19:48:34.963860Z",
     "iopub.status.busy": "2020-07-09T19:48:34.963543Z",
     "iopub.status.idle": "2020-07-09T19:48:41.184022Z",
     "shell.execute_reply": "2020-07-09T19:48:41.184274Z"
    },
    "papermill": {
     "duration": 6.241684,
     "end_time": "2020-07-09T19:48:41.184341",
     "exception": false,
     "start_time": "2020-07-09T19:48:34.942657",
     "status": "completed"
    },
    "tags": []
   },
   "outputs": [
    {
     "name": "stdout",
     "output_type": "stream",
     "text": [
      "Info on all data: \n",
      "\n",
      "<class 'pandas.core.frame.DataFrame'>\n",
      "Int64Index: 656100 entries, 0 to 656099\n",
      "Columns: 108 entries, id to feat99\n",
      "dtypes: float64(103), int32(3), object(2)\n",
      "memory usage: 538.1+ MB\n",
      "CPU times: user 7.52 s, sys: 711 ms, total: 8.23 s\n",
      "Wall time: 6.2 s\n"
     ]
    },
    {
     "data": {
      "text/html": [
       "<div>\n",
       "<style scoped>\n",
       "    .dataframe tbody tr th:only-of-type {\n",
       "        vertical-align: middle;\n",
       "    }\n",
       "\n",
       "    .dataframe tbody tr th {\n",
       "        vertical-align: top;\n",
       "    }\n",
       "\n",
       "    .dataframe thead th {\n",
       "        text-align: right;\n",
       "    }\n",
       "</style>\n",
       "<table border=\"1\" class=\"dataframe\">\n",
       "  <thead>\n",
       "    <tr style=\"text-align: right;\">\n",
       "      <th></th>\n",
       "      <th>id</th>\n",
       "      <th>path</th>\n",
       "      <th>t1</th>\n",
       "      <th>t2</th>\n",
       "      <th>winding</th>\n",
       "      <th>phase</th>\n",
       "      <th>pred_phase</th>\n",
       "      <th>type_of</th>\n",
       "      <th>feat0</th>\n",
       "      <th>feat1</th>\n",
       "      <th>...</th>\n",
       "      <th>feat90</th>\n",
       "      <th>feat91</th>\n",
       "      <th>feat92</th>\n",
       "      <th>feat93</th>\n",
       "      <th>feat94</th>\n",
       "      <th>feat95</th>\n",
       "      <th>feat96</th>\n",
       "      <th>feat97</th>\n",
       "      <th>feat98</th>\n",
       "      <th>feat99</th>\n",
       "    </tr>\n",
       "  </thead>\n",
       "  <tbody>\n",
       "    <tr>\n",
       "      <th>0</th>\n",
       "      <td>0</td>\n",
       "      <td>H_-2_-2_0.501338.dat</td>\n",
       "      <td>-2.0</td>\n",
       "      <td>-2.0</td>\n",
       "      <td>0.501338</td>\n",
       "      <td>999</td>\n",
       "      <td>666</td>\n",
       "      <td>test</td>\n",
       "      <td>-0.130965</td>\n",
       "      <td>0.301130</td>\n",
       "      <td>...</td>\n",
       "      <td>-0.080279</td>\n",
       "      <td>-0.115687</td>\n",
       "      <td>-0.174988</td>\n",
       "      <td>0.245064</td>\n",
       "      <td>0.319763</td>\n",
       "      <td>-0.059082</td>\n",
       "      <td>-0.000556</td>\n",
       "      <td>-0.245133</td>\n",
       "      <td>-0.301130</td>\n",
       "      <td>0.130965</td>\n",
       "    </tr>\n",
       "    <tr>\n",
       "      <th>1</th>\n",
       "      <td>0</td>\n",
       "      <td>H_-2_-2_0.501338.dat</td>\n",
       "      <td>-2.0</td>\n",
       "      <td>-2.0</td>\n",
       "      <td>0.501338</td>\n",
       "      <td>999</td>\n",
       "      <td>666</td>\n",
       "      <td>test</td>\n",
       "      <td>-0.130965</td>\n",
       "      <td>-0.301130</td>\n",
       "      <td>...</td>\n",
       "      <td>-0.080279</td>\n",
       "      <td>0.115687</td>\n",
       "      <td>-0.174988</td>\n",
       "      <td>-0.245064</td>\n",
       "      <td>0.319763</td>\n",
       "      <td>0.059082</td>\n",
       "      <td>-0.000556</td>\n",
       "      <td>0.245133</td>\n",
       "      <td>-0.301130</td>\n",
       "      <td>-0.130965</td>\n",
       "    </tr>\n",
       "    <tr>\n",
       "      <th>2</th>\n",
       "      <td>0</td>\n",
       "      <td>H_-2_-2_0.501338.dat</td>\n",
       "      <td>-2.0</td>\n",
       "      <td>-2.0</td>\n",
       "      <td>0.501338</td>\n",
       "      <td>999</td>\n",
       "      <td>666</td>\n",
       "      <td>test</td>\n",
       "      <td>-0.148414</td>\n",
       "      <td>-0.042467</td>\n",
       "      <td>...</td>\n",
       "      <td>0.185442</td>\n",
       "      <td>-0.080620</td>\n",
       "      <td>-0.066211</td>\n",
       "      <td>-0.121339</td>\n",
       "      <td>-0.151700</td>\n",
       "      <td>0.192513</td>\n",
       "      <td>0.191642</td>\n",
       "      <td>-0.050956</td>\n",
       "      <td>-0.042467</td>\n",
       "      <td>-0.148414</td>\n",
       "    </tr>\n",
       "    <tr>\n",
       "      <th>3</th>\n",
       "      <td>0</td>\n",
       "      <td>H_-2_-2_0.501338.dat</td>\n",
       "      <td>-2.0</td>\n",
       "      <td>-2.0</td>\n",
       "      <td>0.501338</td>\n",
       "      <td>999</td>\n",
       "      <td>666</td>\n",
       "      <td>test</td>\n",
       "      <td>-0.069630</td>\n",
       "      <td>-0.026147</td>\n",
       "      <td>...</td>\n",
       "      <td>0.102009</td>\n",
       "      <td>-0.100671</td>\n",
       "      <td>-0.081002</td>\n",
       "      <td>-0.020715</td>\n",
       "      <td>-0.058717</td>\n",
       "      <td>0.115834</td>\n",
       "      <td>0.118274</td>\n",
       "      <td>-0.054666</td>\n",
       "      <td>-0.026147</td>\n",
       "      <td>-0.069630</td>\n",
       "    </tr>\n",
       "    <tr>\n",
       "      <th>4</th>\n",
       "      <td>0</td>\n",
       "      <td>H_-2_-2_0.501338.dat</td>\n",
       "      <td>-2.0</td>\n",
       "      <td>-2.0</td>\n",
       "      <td>0.501338</td>\n",
       "      <td>999</td>\n",
       "      <td>666</td>\n",
       "      <td>test</td>\n",
       "      <td>0.010206</td>\n",
       "      <td>-0.014625</td>\n",
       "      <td>...</td>\n",
       "      <td>0.047555</td>\n",
       "      <td>-0.041368</td>\n",
       "      <td>-0.018852</td>\n",
       "      <td>-0.017673</td>\n",
       "      <td>-0.023377</td>\n",
       "      <td>0.031447</td>\n",
       "      <td>0.010280</td>\n",
       "      <td>0.000925</td>\n",
       "      <td>0.014625</td>\n",
       "      <td>-0.010206</td>\n",
       "    </tr>\n",
       "  </tbody>\n",
       "</table>\n",
       "<p>5 rows × 108 columns</p>\n",
       "</div>"
      ],
      "text/plain": [
       "   id                  path   t1   t2   winding  phase  pred_phase type_of  \\\n",
       "0   0  H_-2_-2_0.501338.dat -2.0 -2.0  0.501338    999         666    test   \n",
       "1   0  H_-2_-2_0.501338.dat -2.0 -2.0  0.501338    999         666    test   \n",
       "2   0  H_-2_-2_0.501338.dat -2.0 -2.0  0.501338    999         666    test   \n",
       "3   0  H_-2_-2_0.501338.dat -2.0 -2.0  0.501338    999         666    test   \n",
       "4   0  H_-2_-2_0.501338.dat -2.0 -2.0  0.501338    999         666    test   \n",
       "\n",
       "      feat0     feat1  ...    feat90    feat91    feat92    feat93    feat94  \\\n",
       "0 -0.130965  0.301130  ... -0.080279 -0.115687 -0.174988  0.245064  0.319763   \n",
       "1 -0.130965 -0.301130  ... -0.080279  0.115687 -0.174988 -0.245064  0.319763   \n",
       "2 -0.148414 -0.042467  ...  0.185442 -0.080620 -0.066211 -0.121339 -0.151700   \n",
       "3 -0.069630 -0.026147  ...  0.102009 -0.100671 -0.081002 -0.020715 -0.058717   \n",
       "4  0.010206 -0.014625  ...  0.047555 -0.041368 -0.018852 -0.017673 -0.023377   \n",
       "\n",
       "     feat95    feat96    feat97    feat98    feat99  \n",
       "0 -0.059082 -0.000556 -0.245133 -0.301130  0.130965  \n",
       "1  0.059082 -0.000556  0.245133 -0.301130 -0.130965  \n",
       "2  0.192513  0.191642 -0.050956 -0.042467 -0.148414  \n",
       "3  0.115834  0.118274 -0.054666 -0.026147 -0.069630  \n",
       "4  0.031447  0.010280  0.000925  0.014625 -0.010206  \n",
       "\n",
       "[5 rows x 108 columns]"
      ]
     },
     "execution_count": 4,
     "metadata": {},
     "output_type": "execute_result"
    }
   ],
   "source": [
    "%%time\n",
    "#Starting an instance of Simulation with a decision tree\n",
    "model = DecisionTreeClassifier(criterion=\"entropy\")\n",
    "#dict_args = {\"csv_path\":csv_path, \"model\":model, \"allowed_windings\":allowed_windings,\\\n",
    "#             \"simulation_dir\":simulation_dir, \"val_split\":val_split, \"features_to_use\":features_to_use,\\\n",
    "#            \"shuffle_features\":shuffle_features, \"random_state\":random_state}\n",
    "simulation = Simulation(csv_path,model_name,model_kw,allowed_windings,simulation_dir,val_split,features_to_use,\\\n",
    "                       shuffle_features,fourier_mode,fourier_features_to_use,fourier_real,\\\n",
    "                       fourier_normalize, fourier_fillna , random_state)\n",
    "#simulation = Simulation(**dict_args)\n",
    "\n",
    "\n",
    "#(self, csv_path, model_name, model_kw, allowed_windings, simulation_dir = None, val_split = 0, \n",
    "# features_to_use = None, shuffle_features = False, fourier_mode=None, fourier_features_to_use=None,\n",
    "# fourier_real = False, fourier_normalize = False, Fourier_fillna=False, random_state = None):\n",
    "\n",
    "\n",
    "\n",
    "print(\"Info on all data: \\n\")\n",
    "simulation.dataframe.info()\n",
    "simulation.dataframe.head()"
   ]
  },
  {
   "cell_type": "markdown",
   "metadata": {
    "papermill": {
     "duration": 0.016781,
     "end_time": "2020-07-09T19:48:41.218642",
     "exception": false,
     "start_time": "2020-07-09T19:48:41.201861",
     "status": "completed"
    },
    "tags": []
   },
   "source": [
    "####  Fourier features"
   ]
  },
  {
   "cell_type": "code",
   "execution_count": 5,
   "metadata": {
    "execution": {
     "iopub.execute_input": "2020-07-09T19:48:41.254786Z",
     "iopub.status.busy": "2020-07-09T19:48:41.254434Z",
     "iopub.status.idle": "2020-07-09T19:48:41.454256Z",
     "shell.execute_reply": "2020-07-09T19:48:41.453937Z"
    },
    "papermill": {
     "duration": 0.218841,
     "end_time": "2020-07-09T19:48:41.454308",
     "exception": false,
     "start_time": "2020-07-09T19:48:41.235467",
     "status": "completed"
    },
    "tags": []
   },
   "outputs": [
    {
     "name": "stdout",
     "output_type": "stream",
     "text": [
      "<class 'pandas.core.frame.DataFrame'>\n",
      "Int64Index: 656100 entries, 0 to 656099\n",
      "Data columns (total 59 columns):\n",
      " #   Column      Non-Null Count   Dtype  \n",
      "---  ------      --------------   -----  \n",
      " 0   id          656100 non-null  int32  \n",
      " 1   path        656100 non-null  object \n",
      " 2   t1          656100 non-null  float64\n",
      " 3   t2          656100 non-null  float64\n",
      " 4   winding     656100 non-null  float64\n",
      " 5   phase       656100 non-null  int32  \n",
      " 6   pred_phase  656100 non-null  int32  \n",
      " 7   type_of     656100 non-null  object \n",
      " 8   dft_feat0   656100 non-null  float64\n",
      " 9   dft_feat1   656100 non-null  float64\n",
      " 10  dft_feat2   656100 non-null  float64\n",
      " 11  dft_feat3   656100 non-null  float64\n",
      " 12  dft_feat4   656100 non-null  float64\n",
      " 13  dft_feat5   656100 non-null  float64\n",
      " 14  dft_feat6   656100 non-null  float64\n",
      " 15  dft_feat7   656100 non-null  float64\n",
      " 16  dft_feat8   656100 non-null  float64\n",
      " 17  dft_feat9   656100 non-null  float64\n",
      " 18  dft_feat10  656100 non-null  float64\n",
      " 19  dft_feat11  656100 non-null  float64\n",
      " 20  dft_feat12  656100 non-null  float64\n",
      " 21  dft_feat13  656100 non-null  float64\n",
      " 22  dft_feat14  656100 non-null  float64\n",
      " 23  dft_feat15  656100 non-null  float64\n",
      " 24  dft_feat16  656100 non-null  float64\n",
      " 25  dft_feat17  656100 non-null  float64\n",
      " 26  dft_feat18  656100 non-null  float64\n",
      " 27  dft_feat19  656100 non-null  float64\n",
      " 28  dft_feat20  656100 non-null  float64\n",
      " 29  dft_feat21  656100 non-null  float64\n",
      " 30  dft_feat22  656100 non-null  float64\n",
      " 31  dft_feat23  656100 non-null  float64\n",
      " 32  dft_feat24  656100 non-null  float64\n",
      " 33  dft_feat25  656100 non-null  float64\n",
      " 34  dft_feat26  656100 non-null  float64\n",
      " 35  dft_feat27  656100 non-null  float64\n",
      " 36  dft_feat28  656100 non-null  float64\n",
      " 37  dft_feat29  656100 non-null  float64\n",
      " 38  dft_feat30  656100 non-null  float64\n",
      " 39  dft_feat31  656100 non-null  float64\n",
      " 40  dft_feat32  656100 non-null  float64\n",
      " 41  dft_feat33  656100 non-null  float64\n",
      " 42  dft_feat34  656100 non-null  float64\n",
      " 43  dft_feat35  656100 non-null  float64\n",
      " 44  dft_feat36  656100 non-null  float64\n",
      " 45  dft_feat37  656100 non-null  float64\n",
      " 46  dft_feat38  656100 non-null  float64\n",
      " 47  dft_feat39  656100 non-null  float64\n",
      " 48  dft_feat40  656100 non-null  float64\n",
      " 49  dft_feat41  656100 non-null  float64\n",
      " 50  dft_feat42  656100 non-null  float64\n",
      " 51  dft_feat43  656100 non-null  float64\n",
      " 52  dft_feat44  656100 non-null  float64\n",
      " 53  dft_feat45  656100 non-null  float64\n",
      " 54  dft_feat46  656100 non-null  float64\n",
      " 55  dft_feat47  656100 non-null  float64\n",
      " 56  dft_feat48  656100 non-null  float64\n",
      " 57  dft_feat49  656100 non-null  float64\n",
      " 58  dft_feat50  656100 non-null  float64\n",
      "dtypes: float64(54), int32(3), object(2)\n",
      "memory usage: 292.8+ MB\n",
      "CPU times: user 178 ms, sys: 12.2 ms, total: 190 ms\n",
      "Wall time: 189 ms\n"
     ]
    }
   ],
   "source": [
    "%%time\n",
    "#simulation.generate_fourier_df()\n",
    "if simulation.fourier_mode is not None:\n",
    "    simulation.fourier_dataframe.info() \n",
    "    simulation.fourier_dataframe.sample(15)\n"
   ]
  },
  {
   "cell_type": "code",
   "execution_count": 6,
   "metadata": {
    "execution": {
     "iopub.execute_input": "2020-07-09T19:48:41.490457Z",
     "iopub.status.busy": "2020-07-09T19:48:41.489422Z",
     "iopub.status.idle": "2020-07-09T19:48:41.501608Z",
     "shell.execute_reply": "2020-07-09T19:48:41.501288Z"
    },
    "papermill": {
     "duration": 0.030239,
     "end_time": "2020-07-09T19:48:41.501659",
     "exception": false,
     "start_time": "2020-07-09T19:48:41.471420",
     "status": "completed"
    },
    "tags": []
   },
   "outputs": [
    {
     "name": "stdout",
     "output_type": "stream",
     "text": [
      "features_to_use: \n",
      "\n",
      "\n",
      "None\n",
      "\n",
      "\n",
      "fourier_features: \n",
      "\n",
      "\n",
      "['dft_feat0', 'dft_feat1', 'dft_feat2', 'dft_feat3', 'dft_feat4', 'dft_feat5', 'dft_feat6', 'dft_feat7', 'dft_feat8', 'dft_feat9', 'dft_feat10', 'dft_feat11', 'dft_feat12', 'dft_feat13', 'dft_feat14', 'dft_feat15', 'dft_feat16', 'dft_feat17', 'dft_feat18', 'dft_feat19', 'dft_feat20', 'dft_feat21', 'dft_feat22', 'dft_feat23', 'dft_feat24', 'dft_feat25', 'dft_feat26', 'dft_feat27', 'dft_feat28', 'dft_feat29', 'dft_feat30', 'dft_feat31', 'dft_feat32', 'dft_feat33', 'dft_feat34', 'dft_feat35', 'dft_feat36', 'dft_feat37', 'dft_feat38', 'dft_feat39', 'dft_feat40', 'dft_feat41', 'dft_feat42', 'dft_feat43', 'dft_feat44', 'dft_feat45', 'dft_feat46', 'dft_feat47', 'dft_feat48', 'dft_feat49', 'dft_feat50']\n",
      "\n",
      "\n",
      "Number of Fourier features: \n",
      "\n",
      "\n",
      "51\n"
     ]
    }
   ],
   "source": [
    "print(\"features_to_use: \")\n",
    "print(\"\\n\")\n",
    "print(simulation.features_to_use)\n",
    "if simulation.features_to_use is not None:\n",
    "    print(\"Number of real space features:\")\n",
    "    print(\"\\n\")\n",
    "    print(len(simulation.features_to_use))\n",
    "print(\"\\n\")\n",
    "print(\"fourier_features: \")\n",
    "print(\"\\n\")\n",
    "print(simulation.fourier_features)\n",
    "print(\"\\n\")\n",
    "if simulation.fourier_features is not None:\n",
    "    print(\"Number of Fourier features: \")\n",
    "    print(\"\\n\")\n",
    "    print(len(simulation.fourier_features))"
   ]
  },
  {
   "cell_type": "code",
   "execution_count": 7,
   "metadata": {
    "execution": {
     "iopub.execute_input": "2020-07-09T19:48:41.536422Z",
     "iopub.status.busy": "2020-07-09T19:48:41.536102Z",
     "iopub.status.idle": "2020-07-09T19:48:41.590437Z",
     "shell.execute_reply": "2020-07-09T19:48:41.589976Z"
    },
    "papermill": {
     "duration": 0.072346,
     "end_time": "2020-07-09T19:48:41.590504",
     "exception": false,
     "start_time": "2020-07-09T19:48:41.518158",
     "status": "completed"
    },
    "tags": []
   },
   "outputs": [],
   "source": [
    "#simulation.dataframe.iloc[331456,:]"
   ]
  },
  {
   "cell_type": "code",
   "execution_count": 8,
   "metadata": {
    "execution": {
     "iopub.execute_input": "2020-07-09T19:48:41.637870Z",
     "iopub.status.busy": "2020-07-09T19:48:41.637532Z",
     "iopub.status.idle": "2020-07-09T19:48:41.653343Z",
     "shell.execute_reply": "2020-07-09T19:48:41.653000Z"
    },
    "papermill": {
     "duration": 0.036553,
     "end_time": "2020-07-09T19:48:41.653398",
     "exception": false,
     "start_time": "2020-07-09T19:48:41.616845",
     "status": "completed"
    },
    "tags": []
   },
   "outputs": [],
   "source": [
    "#for ix, obj in enumerate(simulation.dataframe.iloc[331456,:].values):\n",
    "#    print(ix,obj)"
   ]
  },
  {
   "cell_type": "code",
   "execution_count": 9,
   "metadata": {
    "execution": {
     "iopub.execute_input": "2020-07-09T19:48:41.688432Z",
     "iopub.status.busy": "2020-07-09T19:48:41.688115Z",
     "iopub.status.idle": "2020-07-09T19:48:41.756722Z",
     "shell.execute_reply": "2020-07-09T19:48:41.754946Z"
    },
    "papermill": {
     "duration": 0.086981,
     "end_time": "2020-07-09T19:48:41.756965",
     "exception": false,
     "start_time": "2020-07-09T19:48:41.669984",
     "status": "completed"
    },
    "tags": []
   },
   "outputs": [],
   "source": [
    "#simulation.fourier_engineered_dataframe.dct_feat0"
   ]
  },
  {
   "cell_type": "code",
   "execution_count": 10,
   "metadata": {
    "execution": {
     "iopub.execute_input": "2020-07-09T19:48:41.830906Z",
     "iopub.status.busy": "2020-07-09T19:48:41.830412Z",
     "iopub.status.idle": "2020-07-09T19:48:41.840202Z",
     "shell.execute_reply": "2020-07-09T19:48:41.839865Z"
    },
    "papermill": {
     "duration": 0.031417,
     "end_time": "2020-07-09T19:48:41.840255",
     "exception": false,
     "start_time": "2020-07-09T19:48:41.808838",
     "status": "completed"
    },
    "tags": []
   },
   "outputs": [],
   "source": [
    "#simulation.features"
   ]
  },
  {
   "cell_type": "code",
   "execution_count": 11,
   "metadata": {
    "execution": {
     "iopub.execute_input": "2020-07-09T19:48:41.875427Z",
     "iopub.status.busy": "2020-07-09T19:48:41.874933Z",
     "iopub.status.idle": "2020-07-09T19:48:41.894907Z",
     "shell.execute_reply": "2020-07-09T19:48:41.894567Z"
    },
    "papermill": {
     "duration": 0.038271,
     "end_time": "2020-07-09T19:48:41.894960",
     "exception": false,
     "start_time": "2020-07-09T19:48:41.856689",
     "status": "completed"
    },
    "tags": []
   },
   "outputs": [],
   "source": [
    "#simulation.fourier_matrix"
   ]
  },
  {
   "cell_type": "code",
   "execution_count": 12,
   "metadata": {
    "execution": {
     "iopub.execute_input": "2020-07-09T19:48:41.931305Z",
     "iopub.status.busy": "2020-07-09T19:48:41.930767Z",
     "iopub.status.idle": "2020-07-09T19:48:42.019574Z",
     "shell.execute_reply": "2020-07-09T19:48:42.020350Z"
    },
    "papermill": {
     "duration": 0.108318,
     "end_time": "2020-07-09T19:48:42.020514",
     "exception": false,
     "start_time": "2020-07-09T19:48:41.912196",
     "status": "completed"
    },
    "tags": []
   },
   "outputs": [],
   "source": [
    "#1/simulation.n_features*simulation.dataframe.loc[:,simulation.features].sum(axis=1)"
   ]
  },
  {
   "cell_type": "code",
   "execution_count": 13,
   "metadata": {
    "execution": {
     "iopub.execute_input": "2020-07-09T19:48:42.089676Z",
     "iopub.status.busy": "2020-07-09T19:48:42.089185Z",
     "iopub.status.idle": "2020-07-09T19:48:42.099373Z",
     "shell.execute_reply": "2020-07-09T19:48:42.099030Z"
    },
    "papermill": {
     "duration": 0.037375,
     "end_time": "2020-07-09T19:48:42.099426",
     "exception": false,
     "start_time": "2020-07-09T19:48:42.062051",
     "status": "completed"
    },
    "tags": []
   },
   "outputs": [],
   "source": [
    "#df_2 = simulation.fourier_engineered_dataframe[simulation.fourier_engineered_dataframe.phase==2]\n",
    "#df_2.describe()"
   ]
  },
  {
   "cell_type": "code",
   "execution_count": 14,
   "metadata": {
    "execution": {
     "iopub.execute_input": "2020-07-09T19:48:42.136209Z",
     "iopub.status.busy": "2020-07-09T19:48:42.135691Z",
     "iopub.status.idle": "2020-07-09T19:48:42.153285Z",
     "shell.execute_reply": "2020-07-09T19:48:42.152937Z"
    },
    "papermill": {
     "duration": 0.036654,
     "end_time": "2020-07-09T19:48:42.153338",
     "exception": false,
     "start_time": "2020-07-09T19:48:42.116684",
     "status": "completed"
    },
    "tags": []
   },
   "outputs": [],
   "source": [
    "#df_1 = simulation.fourier_engineered_dataframe[simulation.fourier_engineered_dataframe.phase==1]\n",
    "#df_1.describe()"
   ]
  },
  {
   "cell_type": "code",
   "execution_count": 15,
   "metadata": {
    "execution": {
     "iopub.execute_input": "2020-07-09T19:48:42.188467Z",
     "iopub.status.busy": "2020-07-09T19:48:42.187965Z",
     "iopub.status.idle": "2020-07-09T19:48:42.248338Z",
     "shell.execute_reply": "2020-07-09T19:48:42.248774Z"
    },
    "papermill": {
     "duration": 0.079034,
     "end_time": "2020-07-09T19:48:42.248860",
     "exception": false,
     "start_time": "2020-07-09T19:48:42.169826",
     "status": "completed"
    },
    "tags": []
   },
   "outputs": [],
   "source": [
    "#df_0 = simulation.fourier_engineered_dataframe[simulation.fourier_engineered_dataframe.phase==0]\n",
    "#df_0.describe()"
   ]
  },
  {
   "cell_type": "code",
   "execution_count": 16,
   "metadata": {
    "execution": {
     "iopub.execute_input": "2020-07-09T19:48:42.296064Z",
     "iopub.status.busy": "2020-07-09T19:48:42.295728Z",
     "iopub.status.idle": "2020-07-09T19:48:42.312002Z",
     "shell.execute_reply": "2020-07-09T19:48:42.311710Z"
    },
    "papermill": {
     "duration": 0.037375,
     "end_time": "2020-07-09T19:48:42.312059",
     "exception": false,
     "start_time": "2020-07-09T19:48:42.274684",
     "status": "completed"
    },
    "tags": []
   },
   "outputs": [],
   "source": [
    "#plt.figure(figsize=(10,10))\n",
    "#plt.scatter(df_1.fourier_feat0,df_1.fourier_feat2)\n",
    "#plt.scatter(df_0.fourier_feat0,df_0.fourier_feat2,alpha=0.4)"
   ]
  },
  {
   "cell_type": "code",
   "execution_count": 17,
   "metadata": {
    "execution": {
     "iopub.execute_input": "2020-07-09T19:48:42.347250Z",
     "iopub.status.busy": "2020-07-09T19:48:42.346938Z",
     "iopub.status.idle": "2020-07-09T19:48:42.407394Z",
     "shell.execute_reply": "2020-07-09T19:48:42.406840Z"
    },
    "papermill": {
     "duration": 0.078909,
     "end_time": "2020-07-09T19:48:42.407475",
     "exception": false,
     "start_time": "2020-07-09T19:48:42.328566",
     "status": "completed"
    },
    "tags": []
   },
   "outputs": [],
   "source": [
    "#plt.scatter(df_0.fourier_feat0,df_0.fourier_feat2,alpha=0.4)"
   ]
  },
  {
   "cell_type": "code",
   "execution_count": 18,
   "metadata": {
    "execution": {
     "iopub.execute_input": "2020-07-09T19:48:42.464411Z",
     "iopub.status.busy": "2020-07-09T19:48:42.464091Z",
     "iopub.status.idle": "2020-07-09T19:48:42.474535Z",
     "shell.execute_reply": "2020-07-09T19:48:42.474795Z"
    },
    "papermill": {
     "duration": 0.035729,
     "end_time": "2020-07-09T19:48:42.474866",
     "exception": false,
     "start_time": "2020-07-09T19:48:42.439137",
     "status": "completed"
    },
    "tags": []
   },
   "outputs": [],
   "source": [
    "#plt.scatter(df_2.fourier_feat0,df_2.fourier_feat2)"
   ]
  },
  {
   "cell_type": "code",
   "execution_count": 19,
   "metadata": {
    "execution": {
     "iopub.execute_input": "2020-07-09T19:48:42.512465Z",
     "iopub.status.busy": "2020-07-09T19:48:42.512139Z",
     "iopub.status.idle": "2020-07-09T19:48:42.594815Z",
     "shell.execute_reply": "2020-07-09T19:48:42.593190Z"
    },
    "papermill": {
     "duration": 0.101893,
     "end_time": "2020-07-09T19:48:42.595040",
     "exception": false,
     "start_time": "2020-07-09T19:48:42.493147",
     "status": "completed"
    },
    "tags": []
   },
   "outputs": [],
   "source": [
    "#df_1.hist(figsize=(15,15))"
   ]
  },
  {
   "cell_type": "code",
   "execution_count": 20,
   "metadata": {
    "execution": {
     "iopub.execute_input": "2020-07-09T19:48:42.669803Z",
     "iopub.status.busy": "2020-07-09T19:48:42.669482Z",
     "iopub.status.idle": "2020-07-09T19:48:42.679442Z",
     "shell.execute_reply": "2020-07-09T19:48:42.679102Z"
    },
    "papermill": {
     "duration": 0.031746,
     "end_time": "2020-07-09T19:48:42.679495",
     "exception": false,
     "start_time": "2020-07-09T19:48:42.647749",
     "status": "completed"
    },
    "tags": []
   },
   "outputs": [],
   "source": [
    "#df_0.hist(figsize=(15,15))"
   ]
  },
  {
   "cell_type": "markdown",
   "metadata": {
    "papermill": {
     "duration": 0.016829,
     "end_time": "2020-07-09T19:48:42.712965",
     "exception": false,
     "start_time": "2020-07-09T19:48:42.696136",
     "status": "completed"
    },
    "tags": []
   },
   "source": [
    "#### Checking initialization"
   ]
  },
  {
   "cell_type": "code",
   "execution_count": 21,
   "metadata": {
    "execution": {
     "iopub.execute_input": "2020-07-09T19:48:42.748342Z",
     "iopub.status.busy": "2020-07-09T19:48:42.748029Z",
     "iopub.status.idle": "2020-07-09T19:48:42.801450Z",
     "shell.execute_reply": "2020-07-09T19:48:42.799670Z"
    },
    "papermill": {
     "duration": 0.072224,
     "end_time": "2020-07-09T19:48:42.801696",
     "exception": false,
     "start_time": "2020-07-09T19:48:42.729472",
     "status": "completed"
    },
    "tags": []
   },
   "outputs": [
    {
     "name": "stdout",
     "output_type": "stream",
     "text": [
      "n_features:  100\n",
      "n_hamiltonians:  6561\n",
      "n_ts:  2\n",
      "CPU times: user 2.15 ms, sys: 265 µs, total: 2.41 ms\n",
      "Wall time: 1.43 ms\n"
     ]
    }
   ],
   "source": [
    "%%time\n",
    "n_features = simulation.n_features\n",
    "n_hamiltonians = simulation.n_hamiltonians\n",
    "n_ts = simulation.n_ts\n",
    "\n",
    "print(\"n_features: \", n_features)\n",
    "print(\"n_hamiltonians: \", n_hamiltonians)\n",
    "print(\"n_ts: \", n_ts)"
   ]
  },
  {
   "cell_type": "code",
   "execution_count": 22,
   "metadata": {
    "execution": {
     "iopub.execute_input": "2020-07-09T19:48:42.868259Z",
     "iopub.status.busy": "2020-07-09T19:48:42.867925Z",
     "iopub.status.idle": "2020-07-09T19:48:43.051547Z",
     "shell.execute_reply": "2020-07-09T19:48:43.051222Z"
    },
    "papermill": {
     "duration": 0.204935,
     "end_time": "2020-07-09T19:48:43.051598",
     "exception": false,
     "start_time": "2020-07-09T19:48:42.846663",
     "status": "completed"
    },
    "tags": []
   },
   "outputs": [
    {
     "name": "stdout",
     "output_type": "stream",
     "text": [
      "% train:  0.8414875781130925\n",
      "% val:  0.0\n",
      "% test:  0.15851242188690748\n",
      "% train + val + test:  1.0\n",
      "\n",
      "\n",
      "number of train hamiltonians:  5521\n",
      "number of val hamiltonians:  0\n",
      "number of test hamiltonians:  1040\n",
      "total number of hamiltonians:  6561\n",
      "\n",
      "\n",
      "train ids:  [13, 14, 15, 16, 17, 18, 19, 20, 21, 22, 23, 24, 25, 26, 27, 28, 29, 30, 31, 32, 33, 34, 35, 36, 37, 38, 39, 41, 42, 43, 44, 45, 46, 47, 48, 49, 50, 51, 52, 53, 54, 55, 56, 57, 58, 59, 60, 61, 62, 63, 64, 65, 66, 67, 68, 69, 70, 71, 72, 73, 74, 75, 76, 77, 78, 79, 80, 95, 96, 97, 98, 99, 100, 101, 102, 103, 104, 105, 106, 107, 108, 109, 110, 111, 112, 113, 114, 115, 116, 117, 118, 119, 121, 122, 123, 124, 125, 126, 127, 128, 129, 130, 131, 132, 133, 134, 135, 136, 137, 138, 139, 140, 141, 142, 143, 144, 145, 146, 147, 148, 149, 150, 151, 152, 153, 154, 155, 156, 157, 158, 159, 160, 161, 176, 177, 178, 179, 180, 181, 182, 183, 184, 185, 186, 187, 188, 189, 190, 191, 192, 193, 194, 195, 196, 197, 198, 199, 201, 202, 203, 204, 205, 206, 207, 208, 209, 210, 211, 212, 213, 214, 215, 216, 217, 218, 219, 220, 221, 222, 223, 224, 225, 226, 227, 228, 229, 230, 231, 232, 233, 234, 235, 236, 237, 238, 239, 240, 241, 242, 258, 259, 260, 261, 262, 263, 264, 265, 266, 267, 268, 269, 270, 271, 272, 273, 274, 275, 276, 277, 278, 279, 281, 282, 283, 284, 285, 286, 287, 288, 289, 290, 291, 292, 293, 294, 295, 296, 297, 298, 299, 300, 301, 302, 303, 304, 305, 306, 307, 308, 309, 310, 311, 312, 313, 314, 315, 316, 317, 318, 319, 320, 321, 322, 323, 340, 341, 342, 343, 344, 345, 346, 347, 348, 349, 350, 351, 352, 353, 354, 355, 356, 357, 358, 359, 361, 362, 363, 364, 365, 366, 367, 368, 369, 370, 371, 372, 373, 374, 375, 376, 377, 378, 379, 380, 381, 382, 383, 384, 385, 386, 387, 388, 389, 390, 391, 392, 393, 394, 395, 396, 397, 398, 399, 400, 401, 402, 403, 404, 422, 423, 424, 425, 426, 427, 428, 429, 430, 431, 432, 433, 434, 435, 436, 437, 438, 439, 441, 442, 443, 444, 445, 446, 447, 448, 449, 450, 451, 452, 453, 454, 455, 456, 457, 458, 459, 460, 461, 462, 463, 464, 465, 466, 467, 468, 469, 470, 471, 472, 473, 474, 475, 476, 477, 478, 479, 480, 481, 482, 483, 484, 485, 503, 504, 505, 506, 507, 508, 509, 510, 511, 512, 513, 514, 515, 516, 517, 518, 519, 521, 522, 523, 524, 525, 526, 527, 528, 529, 530, 531, 532, 533, 534, 535, 536, 537, 538, 539, 540, 541, 542, 543, 544, 545, 546, 547, 548, 549, 550, 551, 552, 553, 554, 555, 556, 557, 558, 559, 560, 561, 562, 563, 564, 565, 566, 585, 586, 587, 588, 589, 590, 591, 592, 593, 594, 595, 596, 597, 598, 599, 601, 602, 603, 604, 605, 606, 607, 608, 609, 610, 611, 612, 613, 614, 615, 616, 617, 618, 619, 620, 621, 622, 623, 624, 625, 626, 627, 628, 629, 630, 631, 632, 633, 634, 635, 636, 637, 638, 639, 640, 641, 642, 643, 644, 645, 646, 647, 667, 668, 669, 670, 671, 672, 673, 674, 675, 676, 677, 678, 679, 681, 682, 683, 684, 685, 686, 687, 688, 689, 690, 691, 692, 693, 694, 695, 696, 697, 698, 699, 700, 701, 702, 703, 704, 705, 706, 707, 708, 709, 710, 711, 712, 713, 714, 715, 716, 717, 718, 719, 720, 721, 722, 723, 724, 725, 726, 727, 728, 749, 750, 751, 752, 753, 754, 755, 756, 757, 758, 759, 761, 762, 763, 764, 765, 766, 767, 768, 769, 770, 771, 772, 773, 774, 775, 776, 777, 778, 779, 780, 781, 782, 783, 784, 785, 786, 787, 788, 789, 790, 791, 792, 793, 794, 795, 796, 797, 798, 799, 800, 801, 802, 803, 804, 805, 806, 807, 808, 809, 830, 831, 832, 833, 834, 835, 836, 837, 838, 839, 841, 842, 843, 844, 845, 846, 847, 848, 849, 850, 851, 852, 853, 854, 855, 856, 857, 858, 859, 860, 861, 862, 863, 864, 865, 866, 867, 868, 869, 870, 871, 872, 873, 874, 875, 876, 877, 878, 879, 880, 881, 882, 883, 884, 885, 886, 887, 888, 889, 890, 912, 913, 914, 915, 916, 917, 918, 919, 921, 922, 923, 924, 925, 926, 927, 928, 929, 930, 931, 932, 933, 934, 935, 936, 937, 938, 939, 940, 941, 942, 943, 944, 945, 946, 947, 948, 949, 950, 951, 952, 953, 954, 955, 956, 957, 958, 959, 960, 961, 962, 963, 964, 965, 966, 967, 968, 969, 970, 971, 994, 995, 996, 997, 998, 999, 1001, 1002, 1003, 1004, 1005, 1006, 1007, 1008, 1009, 1010, 1011, 1012, 1013, 1014, 1015, 1016, 1017, 1018, 1019, 1020, 1021, 1022, 1023, 1024, 1025, 1026, 1027, 1028, 1029, 1030, 1031, 1032, 1033, 1034, 1035, 1036, 1037, 1038, 1039, 1040, 1041, 1042, 1043, 1044, 1045, 1046, 1047, 1048, 1049, 1050, 1051, 1052, 1076, 1077, 1078, 1079, 1081, 1082, 1083, 1084, 1085, 1086, 1087, 1088, 1089, 1090, 1091, 1092, 1093, 1094, 1095, 1096, 1097, 1098, 1099, 1100, 1101, 1102, 1103, 1104, 1105, 1106, 1107, 1108, 1109, 1110, 1111, 1112, 1113, 1114, 1115, 1116, 1117, 1118, 1119, 1120, 1121, 1122, 1123, 1124, 1125, 1126, 1127, 1128, 1129, 1130, 1131, 1132, 1133, 1134, 1157, 1158, 1159, 1161, 1162, 1163, 1164, 1165, 1166, 1167, 1168, 1169, 1170, 1171, 1172, 1173, 1174, 1175, 1176, 1177, 1178, 1179, 1180, 1181, 1182, 1183, 1184, 1185, 1186, 1187, 1188, 1189, 1190, 1191, 1192, 1193, 1194, 1195, 1196, 1197, 1198, 1199, 1200, 1201, 1202, 1203, 1204, 1205, 1206, 1207, 1208, 1209, 1210, 1211, 1212, 1213, 1214, 1215, 1216, 1239, 1241, 1242, 1243, 1244, 1245, 1246, 1247, 1248, 1249, 1250, 1251, 1252, 1253, 1254, 1255, 1256, 1257, 1258, 1259, 1260, 1261, 1262, 1263, 1264, 1265, 1266, 1267, 1268, 1269, 1270, 1271, 1272, 1273, 1274, 1275, 1276, 1277, 1278, 1279, 1280, 1281, 1282, 1283, 1284, 1285, 1286, 1287, 1288, 1289, 1290, 1291, 1292, 1293, 1294, 1295, 1296, 1297, 1298, 1299, 1321, 1322, 1323, 1324, 1325, 1326, 1327, 1328, 1329, 1330, 1331, 1332, 1333, 1334, 1335, 1336, 1337, 1338, 1339, 1340, 1341, 1342, 1343, 1344, 1345, 1346, 1347, 1348, 1349, 1350, 1351, 1352, 1353, 1354, 1355, 1356, 1357, 1358, 1359, 1360, 1361, 1362, 1363, 1364, 1365, 1366, 1367, 1368, 1369, 1370, 1371, 1372, 1373, 1374, 1375, 1376, 1377, 1378, 1379, 1380, 1381, 1402, 1403, 1404, 1405, 1406, 1407, 1408, 1409, 1410, 1411, 1412, 1413, 1414, 1415, 1416, 1417, 1418, 1419, 1420, 1421, 1422, 1423, 1424, 1425, 1426, 1427, 1428, 1429, 1430, 1431, 1432, 1433, 1434, 1435, 1436, 1437, 1438, 1439, 1440, 1441, 1442, 1443, 1444, 1445, 1446, 1447, 1448, 1449, 1450, 1451, 1452, 1453, 1454, 1455, 1456, 1457, 1458, 1459, 1460, 1461, 1462, 1463, 1464, 1484, 1485, 1486, 1487, 1488, 1489, 1490, 1491, 1492, 1493, 1494, 1495, 1496, 1497, 1498, 1499, 1500, 1501, 1502, 1503, 1504, 1505, 1506, 1507, 1508, 1509, 1510, 1511, 1512, 1513, 1514, 1515, 1516, 1517, 1518, 1519, 1520, 1521, 1522, 1523, 1524, 1525, 1526, 1527, 1528, 1529, 1530, 1531, 1532, 1533, 1534, 1535, 1536, 1537, 1538, 1539, 1540, 1541, 1542, 1543, 1544, 1545, 1546, 1566, 1567, 1568, 1569, 1570, 1571, 1572, 1573, 1574, 1575, 1576, 1577, 1578, 1579, 1580, 1581, 1582, 1583, 1584, 1585, 1586, 1587, 1588, 1589, 1590, 1591, 1592, 1593, 1594, 1595, 1596, 1597, 1598, 1599, 1600, 1601, 1602, 1603, 1604, 1605, 1606, 1607, 1608, 1609, 1610, 1611, 1612, 1613, 1614, 1615, 1616, 1617, 1618, 1619, 1620, 1621, 1622, 1623, 1624, 1625, 1626, 1627, 1628, 1648, 1649, 1650, 1651, 1652, 1653, 1654, 1655, 1656, 1657, 1658, 1659, 1660, 1661, 1662, 1663, 1664, 1665, 1666, 1667, 1668, 1669, 1670, 1671, 1672, 1673, 1674, 1675, 1676, 1677, 1678, 1679, 1680, 1681, 1682, 1683, 1684, 1685, 1686, 1687, 1688, 1689, 1690, 1691, 1692, 1693, 1694, 1695, 1696, 1697, 1698, 1699, 1701, 1702, 1703, 1704, 1705, 1706, 1707, 1708, 1709, 1710, 1711, 1729, 1730, 1731, 1732, 1733, 1734, 1735, 1736, 1737, 1738, 1739, 1740, 1741, 1742, 1743, 1744, 1745, 1746, 1747, 1748, 1749, 1750, 1751, 1752, 1753, 1754, 1755, 1756, 1757, 1758, 1759, 1760, 1761, 1762, 1763, 1764, 1765, 1766, 1767, 1768, 1769, 1770, 1771, 1772, 1773, 1774, 1775, 1776, 1777, 1778, 1779, 1781, 1782, 1783, 1784, 1785, 1786, 1787, 1788, 1789, 1790, 1791, 1792, 1793, 1811, 1812, 1813, 1814, 1815, 1816, 1817, 1818, 1819, 1820, 1821, 1822, 1823, 1824, 1825, 1826, 1827, 1828, 1829, 1830, 1831, 1832, 1833, 1834, 1835, 1836, 1837, 1838, 1839, 1840, 1841, 1842, 1843, 1844, 1845, 1846, 1847, 1848, 1849, 1850, 1851, 1852, 1853, 1854, 1855, 1856, 1857, 1858, 1859, 1861, 1862, 1863, 1864, 1865, 1866, 1867, 1868, 1869, 1870, 1871, 1872, 1873, 1874, 1875, 1876, 1893, 1894, 1895, 1896, 1897, 1898, 1899, 1900, 1901, 1902, 1903, 1904, 1905, 1906, 1907, 1908, 1909, 1910, 1911, 1912, 1913, 1914, 1915, 1916, 1917, 1918, 1919, 1920, 1921, 1922, 1923, 1924, 1925, 1926, 1927, 1928, 1929, 1930, 1931, 1932, 1933, 1934, 1935, 1936, 1937, 1938, 1939, 1941, 1942, 1943, 1944, 1945, 1946, 1947, 1948, 1949, 1950, 1951, 1952, 1953, 1954, 1955, 1956, 1957, 1958, 1975, 1976, 1977, 1978, 1979, 1980, 1981, 1982, 1983, 1984, 1985, 1986, 1987, 1988, 1989, 1990, 1991, 1992, 1993, 1994, 1995, 1996, 1997, 1998, 1999, 2000, 2001, 2002, 2003, 2004, 2005, 2006, 2007, 2008, 2009, 2010, 2011, 2012, 2013, 2014, 2015, 2016, 2017, 2018, 2019, 2021, 2022, 2023, 2024, 2025, 2026, 2027, 2028, 2029, 2030, 2031, 2032, 2033, 2034, 2035, 2036, 2037, 2038, 2039, 2056, 2057, 2058, 2059, 2060, 2061, 2062, 2063, 2064, 2065, 2066, 2067, 2068, 2069, 2070, 2071, 2072, 2073, 2074, 2075, 2076, 2077, 2078, 2079, 2080, 2081, 2082, 2083, 2084, 2085, 2086, 2087, 2088, 2089, 2090, 2091, 2092, 2093, 2094, 2095, 2096, 2097, 2098, 2099, 2101, 2102, 2103, 2104, 2105, 2106, 2107, 2108, 2109, 2110, 2111, 2112, 2113, 2114, 2115, 2116, 2117, 2118, 2119, 2121, 2122, 2123, 2138, 2139, 2140, 2141, 2142, 2143, 2144, 2145, 2146, 2147, 2148, 2149, 2150, 2151, 2152, 2153, 2154, 2155, 2156, 2157, 2158, 2159, 2160, 2161, 2162, 2163, 2164, 2165, 2166, 2167, 2168, 2169, 2170, 2171, 2172, 2173, 2174, 2175, 2176, 2177, 2178, 2179, 2181, 2182, 2183, 2184, 2185, 2186, 2187, 2188, 2189, 2190, 2191, 2192, 2193, 2194, 2195, 2196, 2197, 2198, 2199, 2201, 2202, 2203, 2204, 2205, 2220, 2221, 2222, 2223, 2224, 2225, 2226, 2227, 2228, 2229, 2230, 2231, 2232, 2233, 2234, 2235, 2236, 2237, 2238, 2239, 2240, 2241, 2242, 2243, 2244, 2245, 2246, 2247, 2248, 2249, 2250, 2251, 2252, 2253, 2254, 2255, 2256, 2257, 2258, 2259, 2261, 2262, 2263, 2264, 2265, 2266, 2267, 2268, 2269, 2270, 2271, 2272, 2273, 2274, 2275, 2276, 2277, 2278, 2279, 2281, 2282, 2283, 2284, 2285, 2286, 2287, 2288, 2301, 2302, 2303, 2304, 2305, 2306, 2307, 2308, 2309, 2310, 2311, 2312, 2313, 2314, 2315, 2316, 2317, 2318, 2319, 2320, 2321, 2322, 2323, 2324, 2325, 2326, 2327, 2328, 2329, 2330, 2331, 2332, 2333, 2334, 2335, 2336, 2337, 2338, 2339, 2341, 2342, 2343, 2344, 2345, 2346, 2347, 2348, 2349, 2350, 2351, 2352, 2353, 2354, 2355, 2356, 2357, 2358, 2359, 2361, 2362, 2363, 2364, 2365, 2366, 2367, 2368, 2369, 2370, 2383, 2384, 2385, 2386, 2387, 2388, 2389, 2390, 2391, 2392, 2393, 2394, 2395, 2396, 2397, 2398, 2399, 2400, 2401, 2402, 2403, 2404, 2405, 2406, 2407, 2408, 2409, 2410, 2411, 2412, 2413, 2414, 2415, 2416, 2417, 2418, 2419, 2421, 2422, 2423, 2424, 2425, 2426, 2427, 2428, 2429, 2430, 2431, 2432, 2433, 2434, 2435, 2436, 2437, 2438, 2439, 2441, 2442, 2443, 2444, 2445, 2446, 2447, 2448, 2449, 2450, 2451, 2452, 2453, 2465, 2466, 2467, 2468, 2469, 2470, 2471, 2472, 2473, 2474, 2475, 2476, 2477, 2478, 2479, 2480, 2481, 2482, 2483, 2484, 2485, 2486, 2487, 2488, 2489, 2490, 2491, 2492, 2493, 2494, 2495, 2496, 2497, 2498, 2499, 2501, 2502, 2503, 2504, 2505, 2506, 2507, 2508, 2509, 2510, 2511, 2512, 2513, 2514, 2515, 2516, 2517, 2518, 2519, 2521, 2522, 2523, 2524, 2525, 2526, 2527, 2528, 2529, 2530, 2531, 2532, 2533, 2534, 2535, 2547, 2548, 2549, 2550, 2551, 2552, 2553, 2554, 2555, 2556, 2557, 2558, 2559, 2560, 2561, 2562, 2563, 2564, 2565, 2566, 2567, 2568, 2569, 2570, 2571, 2572, 2573, 2574, 2575, 2576, 2577, 2578, 2579, 2581, 2582, 2583, 2584, 2585, 2586, 2587, 2588, 2589, 2590, 2591, 2592, 2593, 2594, 2595, 2596, 2597, 2598, 2599, 2601, 2602, 2603, 2604, 2605, 2606, 2607, 2608, 2609, 2610, 2611, 2612, 2613, 2614, 2615, 2616, 2617, 2628, 2629, 2630, 2631, 2632, 2633, 2634, 2635, 2636, 2637, 2638, 2639, 2640, 2641, 2642, 2643, 2644, 2645, 2646, 2647, 2648, 2649, 2650, 2651, 2652, 2653, 2654, 2655, 2656, 2657, 2658, 2659, 2661, 2662, 2663, 2664, 2665, 2666, 2667, 2668, 2669, 2670, 2671, 2672, 2673, 2674, 2675, 2676, 2677, 2678, 2679, 2681, 2682, 2683, 2684, 2685, 2686, 2687, 2688, 2689, 2690, 2691, 2692, 2693, 2694, 2695, 2696, 2697, 2698, 2699, 2700, 2710, 2711, 2712, 2713, 2714, 2715, 2716, 2717, 2718, 2719, 2720, 2721, 2722, 2723, 2724, 2725, 2726, 2727, 2728, 2729, 2730, 2731, 2732, 2733, 2734, 2735, 2736, 2737, 2738, 2739, 2741, 2742, 2743, 2744, 2745, 2746, 2747, 2748, 2749, 2750, 2751, 2752, 2753, 2754, 2755, 2756, 2757, 2758, 2759, 2761, 2762, 2763, 2764, 2765, 2766, 2767, 2768, 2769, 2770, 2771, 2772, 2773, 2774, 2775, 2776, 2777, 2778, 2779, 2780, 2781, 2782, 2792, 2793, 2794, 2795, 2796, 2797, 2798, 2799, 2800, 2801, 2802, 2803, 2804, 2805, 2806, 2807, 2808, 2809, 2810, 2811, 2812, 2813, 2814, 2815, 2816, 2817, 2818, 2819, 2821, 2822, 2823, 2824, 2825, 2826, 2827, 2828, 2829, 2830, 2831, 2832, 2833, 2834, 2835, 2836, 2837, 2838, 2839, 2841, 2842, 2843, 2844, 2845, 2846, 2847, 2848, 2849, 2850, 2851, 2852, 2853, 2854, 2855, 2856, 2857, 2858, 2859, 2860, 2861, 2862, 2863, 2864, 2865, 2874, 2875, 2876, 2877, 2878, 2879, 2880, 2881, 2882, 2883, 2884, 2885, 2886, 2887, 2888, 2889, 2890, 2891, 2892, 2893, 2894, 2895, 2896, 2897, 2898, 2899, 2901, 2902, 2903, 2904, 2905, 2906, 2907, 2908, 2909, 2910, 2911, 2912, 2913, 2914, 2915, 2916, 2917, 2918, 2919, 2921, 2922, 2923, 2924, 2925, 2926, 2927, 2928, 2929, 2930, 2931, 2932, 2933, 2934, 2935, 2936, 2937, 2938, 2939, 2940, 2941, 2942, 2943, 2944, 2945, 2946, 2947, 2955, 2956, 2957, 2958, 2959, 2960, 2961, 2962, 2963, 2964, 2965, 2966, 2967, 2968, 2969, 2970, 2971, 2972, 2973, 2974, 2975, 2976, 2977, 2978, 2979, 2981, 2982, 2983, 2984, 2985, 2986, 2987, 2988, 2989, 2990, 2991, 2992, 2993, 2994, 2995, 2996, 2997, 2998, 2999, 3001, 3002, 3003, 3004, 3005, 3006, 3007, 3008, 3009, 3010, 3011, 3012, 3013, 3014, 3015, 3016, 3017, 3018, 3019, 3020, 3021, 3022, 3023, 3024, 3025, 3026, 3027, 3028, 3029, 3037, 3038, 3039, 3040, 3041, 3042, 3043, 3044, 3045, 3046, 3047, 3048, 3049, 3050, 3051, 3052, 3053, 3054, 3055, 3056, 3057, 3058, 3059, 3061, 3062, 3063, 3064, 3065, 3066, 3067, 3068, 3069, 3070, 3071, 3072, 3073, 3074, 3075, 3076, 3077, 3078, 3079, 3081, 3082, 3083, 3084, 3085, 3086, 3087, 3088, 3089, 3090, 3091, 3092, 3093, 3094, 3095, 3096, 3097, 3098, 3099, 3100, 3101, 3102, 3103, 3104, 3105, 3106, 3107, 3108, 3109, 3110, 3111, 3112, 3119, 3120, 3121, 3122, 3123, 3124, 3125, 3126, 3127, 3128, 3129, 3130, 3131, 3132, 3133, 3134, 3135, 3136, 3137, 3138, 3139, 3141, 3142, 3143, 3144, 3145, 3146, 3147, 3148, 3149, 3150, 3151, 3152, 3153, 3154, 3155, 3156, 3157, 3158, 3159, 3161, 3162, 3163, 3164, 3165, 3166, 3167, 3168, 3169, 3170, 3171, 3172, 3173, 3174, 3175, 3176, 3177, 3178, 3179, 3180, 3181, 3182, 3183, 3184, 3185, 3186, 3187, 3188, 3189, 3190, 3191, 3192, 3193, 3194, 3201, 3202, 3203, 3204, 3205, 3206, 3207, 3208, 3209, 3210, 3211, 3212, 3213, 3214, 3215, 3216, 3217, 3218, 3219, 3221, 3222, 3223, 3224, 3225, 3226, 3227, 3228, 3229, 3230, 3231, 3232, 3233, 3234, 3235, 3236, 3237, 3238, 3239, 3241, 3242, 3243, 3244, 3245, 3246, 3247, 3248, 3249, 3250, 3251, 3252, 3253, 3254, 3255, 3256, 3257, 3258, 3259, 3260, 3261, 3262, 3263, 3264, 3265, 3266, 3267, 3268, 3269, 3270, 3271, 3272, 3273, 3274, 3275, 3276, 3277, 3282, 3283, 3284, 3285, 3286, 3287, 3288, 3289, 3290, 3291, 3292, 3293, 3294, 3295, 3296, 3297, 3298, 3299, 3301, 3302, 3303, 3304, 3305, 3306, 3307, 3308, 3309, 3310, 3311, 3312, 3313, 3314, 3315, 3316, 3317, 3318, 3319, 3320, 3321, 3322, 3323, 3324, 3325, 3326, 3327, 3328, 3329, 3330, 3331, 3332, 3333, 3334, 3335, 3336, 3337, 3338, 3339, 3340, 3341, 3342, 3343, 3344, 3345, 3346, 3347, 3348, 3349, 3350, 3351, 3352, 3353, 3354, 3355, 3356, 3357, 3358, 3359, 3364, 3365, 3366, 3367, 3368, 3369, 3370, 3371, 3372, 3373, 3374, 3375, 3376, 3377, 3378, 3379, 3381, 3382, 3383, 3384, 3385, 3386, 3387, 3388, 3389, 3390, 3391, 3392, 3393, 3394, 3395, 3396, 3397, 3398, 3399, 3400, 3401, 3402, 3403, 3404, 3405, 3406, 3407, 3408, 3409, 3410, 3411, 3412, 3413, 3414, 3415, 3416, 3417, 3418, 3419, 3420, 3421, 3422, 3423, 3424, 3425, 3426, 3427, 3428, 3429, 3430, 3431, 3432, 3433, 3434, 3435, 3436, 3437, 3438, 3439, 3440, 3441, 3442, 3446, 3447, 3448, 3449, 3450, 3451, 3452, 3453, 3454, 3455, 3456, 3457, 3458, 3459, 3461, 3462, 3463, 3464, 3465, 3466, 3467, 3468, 3469, 3470, 3471, 3472, 3473, 3474, 3475, 3476, 3477, 3478, 3479, 3480, 3481, 3482, 3483, 3484, 3485, 3486, 3487, 3488, 3489, 3490, 3491, 3492, 3493, 3494, 3495, 3496, 3497, 3498, 3499, 3500, 3501, 3502, 3503, 3504, 3505, 3506, 3507, 3508, 3509, 3510, 3511, 3512, 3513, 3514, 3515, 3516, 3517, 3518, 3519, 3520, 3521, 3522, 3523, 3524, 3527, 3528, 3529, 3530, 3531, 3532, 3533, 3534, 3535, 3536, 3537, 3538, 3539, 3541, 3542, 3543, 3544, 3545, 3546, 3547, 3548, 3549, 3550, 3551, 3552, 3553, 3554, 3555, 3556, 3557, 3558, 3559, 3560, 3561, 3562, 3563, 3564, 3565, 3566, 3567, 3568, 3569, 3570, 3571, 3572, 3573, 3574, 3575, 3576, 3577, 3578, 3579, 3580, 3581, 3582, 3583, 3584, 3585, 3586, 3587, 3588, 3589, 3590, 3591, 3592, 3593, 3594, 3595, 3596, 3597, 3598, 3599, 3600, 3601, 3602, 3603, 3604, 3605, 3606, 3609, 3610, 3611, 3612, 3613, 3614, 3615, 3616, 3617, 3618, 3619, 3621, 3622, 3623, 3624, 3625, 3626, 3627, 3628, 3629, 3630, 3631, 3632, 3633, 3634, 3635, 3636, 3637, 3638, 3639, 3640, 3641, 3642, 3643, 3644, 3645, 3646, 3647, 3648, 3649, 3650, 3651, 3652, 3653, 3654, 3655, 3656, 3657, 3658, 3659, 3660, 3661, 3662, 3663, 3664, 3665, 3666, 3667, 3668, 3669, 3670, 3671, 3672, 3673, 3674, 3675, 3676, 3677, 3678, 3679, 3680, 3681, 3682, 3683, 3684, 3685, 3686, 3687, 3688, 3689, 3691, 3692, 3693, 3694, 3695, 3696, 3697, 3698, 3699, 3701, 3702, 3703, 3704, 3705, 3706, 3707, 3708, 3709, 3710, 3711, 3712, 3713, 3714, 3715, 3716, 3717, 3718, 3719, 3720, 3721, 3722, 3723, 3724, 3725, 3726, 3727, 3728, 3729, 3730, 3731, 3732, 3733, 3734, 3735, 3736, 3737, 3738, 3739, 3740, 3741, 3742, 3743, 3744, 3745, 3746, 3747, 3748, 3749, 3750, 3751, 3752, 3753, 3754, 3755, 3756, 3757, 3758, 3759, 3760, 3761, 3762, 3763, 3764, 3765, 3766, 3767, 3768, 3769, 3770, 3771, 3773, 3774, 3775, 3776, 3777, 3778, 3779, 3781, 3782, 3783, 3784, 3785, 3786, 3787, 3788, 3789, 3790, 3791, 3792, 3793, 3794, 3795, 3796, 3797, 3798, 3799, 3800, 3801, 3802, 3803, 3804, 3805, 3806, 3807, 3808, 3809, 3810, 3811, 3812, 3813, 3814, 3815, 3816, 3817, 3818, 3819, 3820, 3821, 3822, 3823, 3824, 3825, 3826, 3827, 3828, 3829, 3830, 3831, 3832, 3833, 3834, 3835, 3836, 3837, 3838, 3839, 3840, 3841, 3842, 3843, 3844, 3845, 3846, 3847, 3848, 3849, 3850, 3851, 3852, 3853, 3855, 3856, 3857, 3858, 3859, 3861, 3862, 3863, 3864, 3865, 3866, 3867, 3868, 3869, 3870, 3871, 3872, 3873, 3874, 3875, 3876, 3877, 3878, 3879, 3880, 3881, 3882, 3883, 3884, 3885, 3886, 3887, 3888, 3889, 3890, 3891, 3892, 3893, 3894, 3895, 3896, 3897, 3898, 3899, 3900, 3901, 3902, 3903, 3904, 3905, 3906, 3907, 3908, 3909, 3910, 3911, 3912, 3913, 3914, 3915, 3916, 3917, 3918, 3919, 3920, 3921, 3922, 3923, 3924, 3925, 3926, 3927, 3928, 3929, 3930, 3931, 3932, 3933, 3934, 3935, 3937, 3938, 3939, 3941, 3942, 3943, 3944, 3945, 3946, 3947, 3948, 3949, 3950, 3951, 3952, 3953, 3954, 3955, 3956, 3957, 3958, 3959, 3960, 3961, 3962, 3963, 3964, 3965, 3966, 3967, 3968, 3969, 3970, 3971, 3972, 3973, 3974, 3975, 3976, 3977, 3978, 3979, 3980, 3981, 3982, 3983, 3984, 3985, 3986, 3987, 3988, 3989, 3990, 3991, 3992, 3993, 3994, 3995, 3996, 3997, 3998, 3999, 4000, 4001, 4002, 4003, 4004, 4005, 4006, 4007, 4008, 4009, 4010, 4011, 4012, 4013, 4014, 4015, 4016, 4017, 4021, 4022, 4023, 4024, 4025, 4026, 4027, 4028, 4029, 4030, 4031, 4032, 4033, 4034, 4035, 4036, 4037, 4038, 4039, 4040, 4041, 4042, 4043, 4044, 4045, 4046, 4047, 4048, 4049, 4050, 4051, 4052, 4053, 4054, 4055, 4056, 4057, 4058, 4059, 4060, 4061, 4062, 4063, 4064, 4065, 4066, 4067, 4068, 4069, 4070, 4071, 4072, 4073, 4074, 4075, 4076, 4077, 4078, 4079, 4080, 4081, 4082, 4083, 4084, 4085, 4086, 4087, 4088, 4089, 4090, 4091, 4092, 4093, 4094, 4095, 4096, 4097, 4098, 4102, 4103, 4104, 4105, 4106, 4107, 4108, 4109, 4110, 4111, 4112, 4113, 4114, 4115, 4116, 4117, 4118, 4119, 4120, 4121, 4122, 4123, 4124, 4125, 4126, 4127, 4128, 4129, 4130, 4131, 4132, 4133, 4134, 4135, 4136, 4137, 4138, 4139, 4140, 4141, 4142, 4143, 4144, 4145, 4146, 4147, 4148, 4149, 4150, 4151, 4152, 4153, 4154, 4155, 4156, 4157, 4158, 4159, 4160, 4161, 4162, 4163, 4164, 4165, 4166, 4167, 4168, 4169, 4170, 4171, 4172, 4173, 4174, 4175, 4176, 4177, 4178, 4179, 4184, 4185, 4186, 4187, 4188, 4189, 4190, 4191, 4192, 4193, 4194, 4195, 4196, 4197, 4198, 4199, 4200, 4201, 4202, 4203, 4204, 4205, 4206, 4207, 4208, 4209, 4210, 4211, 4212, 4213, 4214, 4215, 4216, 4217, 4218, 4219, 4220, 4221, 4222, 4223, 4224, 4225, 4226, 4227, 4228, 4229, 4230, 4231, 4232, 4233, 4234, 4235, 4236, 4237, 4238, 4239, 4240, 4241, 4242, 4243, 4244, 4245, 4246, 4247, 4248, 4249, 4250, 4251, 4252, 4253, 4254, 4255, 4256, 4257, 4258, 4259, 4261, 4262, 4267, 4268, 4269, 4270, 4271, 4272, 4273, 4274, 4275, 4276, 4277, 4278, 4279, 4280, 4281, 4282, 4283, 4284, 4285, 4286, 4287, 4288, 4289, 4290, 4291, 4292, 4293, 4294, 4295, 4296, 4297, 4298, 4299, 4300, 4301, 4302, 4303, 4304, 4305, 4306, 4307, 4308, 4309, 4310, 4311, 4312, 4313, 4314, 4315, 4316, 4317, 4318, 4319, 4320, 4321, 4322, 4323, 4324, 4325, 4326, 4327, 4328, 4329, 4330, 4331, 4332, 4333, 4334, 4335, 4336, 4337, 4338, 4339, 4341, 4342, 4343, 4344, 4349, 4350, 4351, 4352, 4353, 4354, 4355, 4356, 4357, 4358, 4359, 4360, 4361, 4362, 4363, 4364, 4365, 4366, 4367, 4368, 4369, 4370, 4371, 4372, 4373, 4374, 4375, 4376, 4377, 4378, 4379, 4380, 4381, 4382, 4383, 4384, 4385, 4386, 4387, 4388, 4389, 4390, 4391, 4392, 4393, 4394, 4395, 4396, 4397, 4398, 4399, 4400, 4401, 4402, 4403, 4404, 4405, 4406, 4407, 4408, 4409, 4410, 4411, 4412, 4413, 4414, 4415, 4416, 4417, 4418, 4419, 4421, 4422, 4423, 4424, 4425, 4426, 4432, 4433, 4434, 4435, 4436, 4437, 4438, 4439, 4440, 4441, 4442, 4443, 4444, 4445, 4446, 4447, 4448, 4449, 4450, 4451, 4452, 4453, 4454, 4455, 4456, 4457, 4458, 4459, 4460, 4461, 4462, 4463, 4464, 4465, 4466, 4467, 4468, 4469, 4470, 4471, 4472, 4473, 4474, 4475, 4476, 4477, 4478, 4479, 4480, 4481, 4482, 4483, 4484, 4485, 4486, 4487, 4488, 4489, 4490, 4491, 4492, 4493, 4494, 4495, 4496, 4497, 4498, 4499, 4501, 4502, 4503, 4504, 4505, 4506, 4507, 4514, 4515, 4516, 4517, 4518, 4519, 4520, 4521, 4522, 4523, 4524, 4525, 4526, 4527, 4528, 4529, 4530, 4531, 4532, 4533, 4534, 4535, 4536, 4537, 4538, 4539, 4540, 4541, 4542, 4543, 4544, 4545, 4546, 4547, 4548, 4549, 4550, 4551, 4552, 4553, 4554, 4555, 4556, 4557, 4558, 4559, 4560, 4561, 4562, 4563, 4564, 4565, 4566, 4567, 4568, 4569, 4570, 4571, 4572, 4573, 4574, 4575, 4576, 4577, 4578, 4579, 4581, 4582, 4583, 4584, 4585, 4586, 4587, 4588, 4589, 4596, 4597, 4598, 4599, 4600, 4601, 4602, 4603, 4604, 4605, 4606, 4607, 4608, 4609, 4610, 4611, 4612, 4613, 4614, 4615, 4616, 4617, 4618, 4619, 4620, 4621, 4622, 4623, 4624, 4625, 4626, 4627, 4628, 4629, 4630, 4631, 4632, 4633, 4634, 4635, 4636, 4637, 4638, 4639, 4640, 4641, 4642, 4643, 4644, 4645, 4646, 4647, 4648, 4649, 4650, 4651, 4652, 4653, 4654, 4655, 4656, 4657, 4658, 4659, 4661, 4662, 4663, 4664, 4665, 4666, 4667, 4668, 4669, 4670, 4671, 4679, 4680, 4681, 4682, 4683, 4684, 4685, 4686, 4687, 4688, 4689, 4690, 4691, 4692, 4693, 4694, 4695, 4696, 4697, 4698, 4699, 4700, 4701, 4702, 4703, 4704, 4705, 4706, 4707, 4708, 4709, 4710, 4711, 4712, 4713, 4714, 4715, 4716, 4717, 4718, 4719, 4720, 4721, 4722, 4723, 4724, 4725, 4726, 4727, 4728, 4729, 4730, 4731, 4732, 4733, 4734, 4735, 4736, 4737, 4738, 4739, 4741, 4742, 4743, 4744, 4745, 4746, 4747, 4748, 4749, 4750, 4751, 4752, 4761, 4762, 4763, 4764, 4765, 4766, 4767, 4768, 4769, 4770, 4771, 4772, 4773, 4774, 4775, 4776, 4777, 4778, 4779, 4780, 4781, 4782, 4783, 4784, 4785, 4786, 4787, 4788, 4789, 4790, 4791, 4792, 4793, 4794, 4795, 4796, 4797, 4798, 4799, 4800, 4801, 4802, 4803, 4804, 4805, 4806, 4807, 4808, 4809, 4810, 4811, 4812, 4813, 4814, 4815, 4816, 4817, 4818, 4819, 4821, 4822, 4823, 4824, 4825, 4826, 4827, 4828, 4829, 4830, 4831, 4832, 4833, 4834, 4844, 4845, 4846, 4847, 4848, 4849, 4850, 4851, 4852, 4853, 4854, 4855, 4856, 4857, 4858, 4859, 4860, 4861, 4862, 4863, 4864, 4865, 4866, 4867, 4868, 4869, 4870, 4871, 4872, 4873, 4874, 4875, 4876, 4877, 4878, 4879, 4880, 4881, 4882, 4883, 4884, 4885, 4886, 4887, 4888, 4889, 4890, 4891, 4892, 4893, 4894, 4895, 4896, 4897, 4898, 4899, 4901, 4902, 4903, 4904, 4905, 4906, 4907, 4908, 4909, 4910, 4911, 4912, 4913, 4914, 4915, 4916, 4926, 4927, 4928, 4929, 4930, 4931, 4932, 4933, 4934, 4935, 4936, 4937, 4938, 4939, 4940, 4941, 4942, 4943, 4944, 4945, 4946, 4947, 4948, 4949, 4950, 4951, 4952, 4953, 4954, 4955, 4956, 4957, 4958, 4959, 4960, 4961, 4962, 4963, 4964, 4965, 4966, 4967, 4968, 4969, 4970, 4971, 4972, 4973, 4974, 4975, 4976, 4977, 4978, 4979, 4981, 4982, 4983, 4984, 4985, 4986, 4987, 4988, 4989, 4990, 4991, 4992, 4993, 4994, 4995, 4996, 4997, 4998, 5008, 5009, 5010, 5011, 5012, 5013, 5014, 5015, 5016, 5017, 5018, 5019, 5020, 5021, 5022, 5023, 5024, 5025, 5026, 5027, 5028, 5029, 5030, 5031, 5032, 5033, 5034, 5035, 5036, 5037, 5038, 5039, 5040, 5041, 5042, 5043, 5044, 5045, 5046, 5047, 5048, 5049, 5050, 5051, 5052, 5053, 5054, 5055, 5056, 5057, 5058, 5059, 5061, 5062, 5063, 5064, 5065, 5066, 5067, 5068, 5069, 5070, 5071, 5072, 5073, 5074, 5075, 5076, 5077, 5078, 5079, 5091, 5092, 5093, 5094, 5095, 5096, 5097, 5098, 5099, 5100, 5101, 5102, 5103, 5104, 5105, 5106, 5107, 5108, 5109, 5110, 5111, 5112, 5113, 5114, 5115, 5116, 5117, 5118, 5119, 5120, 5121, 5122, 5123, 5124, 5125, 5126, 5127, 5128, 5129, 5130, 5131, 5132, 5133, 5134, 5135, 5136, 5137, 5138, 5139, 5141, 5142, 5143, 5144, 5145, 5146, 5147, 5148, 5149, 5150, 5151, 5152, 5153, 5154, 5155, 5156, 5157, 5158, 5159, 5160, 5161, 5173, 5174, 5175, 5176, 5177, 5178, 5179, 5180, 5181, 5182, 5183, 5184, 5185, 5186, 5187, 5188, 5189, 5190, 5191, 5192, 5193, 5194, 5195, 5196, 5197, 5198, 5199, 5200, 5201, 5202, 5203, 5204, 5205, 5206, 5207, 5208, 5209, 5210, 5211, 5212, 5213, 5214, 5215, 5216, 5217, 5218, 5219, 5221, 5222, 5223, 5224, 5225, 5226, 5227, 5228, 5229, 5230, 5231, 5232, 5233, 5234, 5235, 5236, 5237, 5238, 5239, 5240, 5241, 5242, 5243, 5256, 5257, 5258, 5259, 5260, 5261, 5262, 5263, 5264, 5265, 5266, 5267, 5268, 5269, 5270, 5271, 5272, 5273, 5274, 5275, 5276, 5277, 5278, 5279, 5280, 5281, 5282, 5283, 5284, 5285, 5286, 5287, 5288, 5289, 5290, 5291, 5292, 5293, 5294, 5295, 5296, 5297, 5298, 5299, 5301, 5302, 5303, 5304, 5305, 5306, 5307, 5308, 5309, 5310, 5311, 5312, 5313, 5314, 5315, 5316, 5317, 5318, 5319, 5320, 5321, 5322, 5323, 5324, 5325, 5338, 5339, 5340, 5341, 5342, 5343, 5344, 5345, 5346, 5347, 5348, 5349, 5350, 5351, 5352, 5353, 5354, 5355, 5356, 5357, 5358, 5359, 5360, 5361, 5362, 5363, 5364, 5365, 5366, 5367, 5368, 5369, 5370, 5371, 5372, 5373, 5374, 5375, 5376, 5377, 5378, 5379, 5381, 5382, 5383, 5384, 5385, 5386, 5387, 5388, 5389, 5390, 5391, 5392, 5393, 5394, 5395, 5396, 5397, 5398, 5399, 5400, 5401, 5402, 5403, 5404, 5405, 5406, 5421, 5422, 5423, 5424, 5425, 5426, 5427, 5428, 5429, 5430, 5431, 5432, 5433, 5434, 5435, 5436, 5437, 5438, 5439, 5440, 5441, 5442, 5443, 5444, 5445, 5446, 5447, 5448, 5449, 5450, 5451, 5452, 5453, 5454, 5455, 5456, 5457, 5458, 5459, 5461, 5462, 5463, 5464, 5465, 5466, 5467, 5468, 5469, 5470, 5471, 5472, 5473, 5474, 5475, 5476, 5477, 5478, 5479, 5480, 5481, 5482, 5483, 5484, 5485, 5486, 5487, 5488, 5503, 5504, 5505, 5506, 5507, 5508, 5509, 5510, 5511, 5512, 5513, 5514, 5515, 5516, 5517, 5518, 5519, 5520, 5521, 5522, 5523, 5524, 5525, 5526, 5527, 5528, 5529, 5530, 5531, 5532, 5533, 5534, 5535, 5536, 5537, 5538, 5539, 5541, 5542, 5543, 5544, 5545, 5546, 5547, 5548, 5549, 5550, 5551, 5552, 5553, 5554, 5555, 5556, 5557, 5558, 5559, 5560, 5561, 5562, 5563, 5564, 5565, 5566, 5567, 5568, 5569, 5570, 5585, 5586, 5587, 5588, 5589, 5590, 5591, 5592, 5593, 5594, 5595, 5596, 5597, 5598, 5599, 5600, 5601, 5602, 5603, 5604, 5605, 5606, 5607, 5608, 5609, 5610, 5611, 5612, 5613, 5614, 5615, 5616, 5617, 5618, 5619, 5621, 5622, 5623, 5624, 5625, 5626, 5627, 5628, 5629, 5630, 5631, 5632, 5633, 5634, 5635, 5636, 5637, 5638, 5639, 5640, 5641, 5642, 5643, 5644, 5645, 5646, 5647, 5648, 5649, 5650, 5651, 5652, 5668, 5669, 5670, 5671, 5672, 5673, 5674, 5675, 5676, 5677, 5678, 5679, 5680, 5681, 5682, 5683, 5684, 5685, 5686, 5687, 5688, 5689, 5690, 5691, 5692, 5693, 5694, 5695, 5696, 5697, 5698, 5699, 5701, 5702, 5703, 5704, 5705, 5706, 5707, 5708, 5709, 5710, 5711, 5712, 5713, 5714, 5715, 5716, 5717, 5718, 5719, 5720, 5721, 5722, 5723, 5724, 5725, 5726, 5727, 5728, 5729, 5730, 5731, 5732, 5733, 5750, 5751, 5752, 5753, 5754, 5755, 5756, 5757, 5758, 5759, 5760, 5761, 5762, 5763, 5764, 5765, 5766, 5767, 5768, 5769, 5770, 5771, 5772, 5773, 5774, 5775, 5776, 5777, 5778, 5779, 5781, 5782, 5783, 5784, 5785, 5786, 5787, 5788, 5789, 5790, 5791, 5792, 5793, 5794, 5795, 5796, 5797, 5798, 5799, 5800, 5801, 5802, 5803, 5804, 5805, 5806, 5807, 5808, 5809, 5810, 5811, 5812, 5813, 5814, 5815, 5832, 5833, 5834, 5835, 5836, 5837, 5838, 5839, 5840, 5841, 5842, 5843, 5844, 5845, 5846, 5847, 5848, 5849, 5850, 5851, 5852, 5853, 5854, 5855, 5856, 5857, 5858, 5859, 5861, 5862, 5863, 5864, 5865, 5866, 5867, 5868, 5869, 5870, 5871, 5872, 5873, 5874, 5875, 5876, 5877, 5878, 5879, 5880, 5881, 5882, 5883, 5884, 5885, 5886, 5887, 5888, 5889, 5890, 5891, 5892, 5893, 5894, 5895, 5896, 5897, 5913, 5914, 5915, 5916, 5917, 5918, 5919, 5920, 5921, 5922, 5923, 5924, 5925, 5926, 5927, 5928, 5929, 5930, 5931, 5932, 5933, 5934, 5935, 5936, 5937, 5938, 5939, 5941, 5942, 5943, 5944, 5945, 5946, 5947, 5948, 5949, 5950, 5951, 5952, 5953, 5954, 5955, 5956, 5957, 5958, 5959, 5960, 5961, 5962, 5963, 5964, 5965, 5966, 5967, 5968, 5969, 5970, 5971, 5972, 5973, 5974, 5975, 5976, 5977, 5978, 5994, 5995, 5996, 5997, 5998, 5999, 6000, 6001, 6002, 6003, 6004, 6005, 6006, 6007, 6008, 6009, 6010, 6011, 6012, 6013, 6014, 6015, 6016, 6017, 6018, 6019, 6021, 6022, 6023, 6024, 6025, 6026, 6027, 6028, 6029, 6030, 6031, 6032, 6033, 6034, 6035, 6036, 6037, 6038, 6039, 6040, 6041, 6042, 6043, 6044, 6045, 6046, 6047, 6048, 6049, 6050, 6051, 6052, 6053, 6054, 6055, 6056, 6057, 6058, 6059, 6060, 6075, 6076, 6077, 6078, 6079, 6080, 6081, 6082, 6083, 6084, 6085, 6086, 6087, 6088, 6089, 6090, 6091, 6092, 6093, 6094, 6095, 6096, 6097, 6098, 6099, 6101, 6102, 6103, 6104, 6105, 6106, 6107, 6108, 6109, 6110, 6111, 6112, 6113, 6114, 6115, 6116, 6117, 6118, 6119, 6120, 6121, 6122, 6123, 6124, 6125, 6126, 6127, 6128, 6129, 6130, 6131, 6132, 6133, 6134, 6135, 6136, 6137, 6138, 6139, 6140, 6141, 6142, 6156, 6157, 6158, 6159, 6160, 6161, 6162, 6163, 6164, 6165, 6166, 6167, 6168, 6169, 6170, 6171, 6172, 6173, 6174, 6175, 6176, 6177, 6178, 6179, 6181, 6182, 6183, 6184, 6185, 6186, 6187, 6188, 6189, 6190, 6191, 6192, 6193, 6194, 6195, 6196, 6197, 6198, 6199, 6200, 6201, 6202, 6203, 6204, 6205, 6206, 6207, 6208, 6209, 6210, 6211, 6212, 6213, 6214, 6215, 6216, 6217, 6218, 6219, 6220, 6221, 6222, 6223, 6224, 6237, 6238, 6239, 6240, 6241, 6242, 6243, 6244, 6245, 6246, 6247, 6248, 6249, 6250, 6251, 6252, 6253, 6254, 6255, 6256, 6257, 6258, 6259, 6261, 6262, 6263, 6264, 6265, 6266, 6267, 6268, 6269, 6270, 6271, 6272, 6273, 6274, 6275, 6276, 6277, 6278, 6279, 6280, 6281, 6282, 6283, 6284, 6285, 6286, 6287, 6288, 6289, 6290, 6291, 6292, 6293, 6294, 6295, 6296, 6297, 6298, 6299, 6300, 6301, 6302, 6303, 6304, 6305, 6318, 6319, 6320, 6321, 6322, 6323, 6324, 6325, 6326, 6327, 6328, 6329, 6330, 6331, 6332, 6333, 6334, 6335, 6336, 6337, 6338, 6339, 6341, 6342, 6343, 6344, 6345, 6346, 6347, 6348, 6349, 6350, 6351, 6352, 6353, 6354, 6355, 6356, 6357, 6358, 6359, 6360, 6361, 6362, 6363, 6364, 6365, 6366, 6367, 6368, 6369, 6370, 6371, 6372, 6373, 6374, 6375, 6376, 6377, 6378, 6379, 6380, 6381, 6382, 6383, 6384, 6385, 6386, 6387, 6399, 6400, 6401, 6402, 6403, 6404, 6405, 6406, 6407, 6408, 6409, 6410, 6411, 6412, 6413, 6414, 6415, 6416, 6417, 6418, 6419, 6421, 6422, 6423, 6424, 6425, 6426, 6427, 6428, 6429, 6430, 6431, 6432, 6433, 6434, 6435, 6436, 6437, 6438, 6439, 6440, 6441, 6442, 6443, 6444, 6445, 6446, 6447, 6448, 6449, 6450, 6451, 6452, 6453, 6454, 6455, 6456, 6457, 6458, 6459, 6460, 6461, 6462, 6463, 6464, 6465, 6466, 6467, 6468, 6469, 6480, 6481, 6482, 6483, 6484, 6485, 6486, 6487, 6488, 6489, 6490, 6491, 6492, 6493, 6494, 6495, 6496, 6497, 6498, 6499, 6501, 6502, 6503, 6504, 6505, 6506, 6507, 6508, 6509, 6510, 6511, 6512, 6513, 6514, 6515, 6516, 6517, 6518, 6519, 6520, 6521, 6522, 6523, 6524, 6525, 6526, 6527, 6528, 6529, 6530, 6531, 6532, 6533, 6534, 6535, 6536, 6537, 6538, 6539, 6540, 6541, 6542, 6543, 6544, 6545, 6546, 6547, 6548, 6549, 6550, 6551]\n",
      "val ids:  []\n",
      "test ids:  [0, 1, 2, 3, 4, 5, 6, 7, 8, 9, 10, 11, 12, 40, 81, 82, 83, 84, 85, 86, 87, 88, 89, 90, 91, 92, 93, 94, 120, 162, 163, 164, 165, 166, 167, 168, 169, 170, 171, 172, 173, 174, 175, 200, 243, 244, 245, 246, 247, 248, 249, 250, 251, 252, 253, 254, 255, 256, 257, 280, 324, 325, 326, 327, 328, 329, 330, 331, 332, 333, 334, 335, 336, 337, 338, 339, 360, 405, 406, 407, 408, 409, 410, 411, 412, 413, 414, 415, 416, 417, 418, 419, 420, 421, 440, 486, 487, 488, 489, 490, 491, 492, 493, 494, 495, 496, 497, 498, 499, 500, 501, 502, 520, 567, 568, 569, 570, 571, 572, 573, 574, 575, 576, 577, 578, 579, 580, 581, 582, 583, 584, 600, 648, 649, 650, 651, 652, 653, 654, 655, 656, 657, 658, 659, 660, 661, 662, 663, 664, 665, 666, 680, 729, 730, 731, 732, 733, 734, 735, 736, 737, 738, 739, 740, 741, 742, 743, 744, 745, 746, 747, 748, 760, 810, 811, 812, 813, 814, 815, 816, 817, 818, 819, 820, 821, 822, 823, 824, 825, 826, 827, 828, 829, 840, 891, 892, 893, 894, 895, 896, 897, 898, 899, 900, 901, 902, 903, 904, 905, 906, 907, 908, 909, 910, 911, 920, 972, 973, 974, 975, 976, 977, 978, 979, 980, 981, 982, 983, 984, 985, 986, 987, 988, 989, 990, 991, 992, 993, 1000, 1053, 1054, 1055, 1056, 1057, 1058, 1059, 1060, 1061, 1062, 1063, 1064, 1065, 1066, 1067, 1068, 1069, 1070, 1071, 1072, 1073, 1074, 1075, 1080, 1135, 1136, 1137, 1138, 1139, 1140, 1141, 1142, 1143, 1144, 1145, 1146, 1147, 1148, 1149, 1150, 1151, 1152, 1153, 1154, 1155, 1156, 1160, 1217, 1218, 1219, 1220, 1221, 1222, 1223, 1224, 1225, 1226, 1227, 1228, 1229, 1230, 1231, 1232, 1233, 1234, 1235, 1236, 1237, 1238, 1240, 1300, 1301, 1302, 1303, 1304, 1305, 1306, 1307, 1308, 1309, 1310, 1311, 1312, 1313, 1314, 1315, 1316, 1317, 1318, 1319, 1320, 1382, 1383, 1384, 1385, 1386, 1387, 1388, 1389, 1390, 1391, 1392, 1393, 1394, 1395, 1396, 1397, 1398, 1399, 1400, 1401, 1465, 1466, 1467, 1468, 1469, 1470, 1471, 1472, 1473, 1474, 1475, 1476, 1477, 1478, 1479, 1480, 1481, 1482, 1483, 1547, 1548, 1549, 1550, 1551, 1552, 1553, 1554, 1555, 1556, 1557, 1558, 1559, 1560, 1561, 1562, 1563, 1564, 1565, 1629, 1630, 1631, 1632, 1633, 1634, 1635, 1636, 1637, 1638, 1639, 1640, 1641, 1642, 1643, 1644, 1645, 1646, 1647, 1700, 1712, 1713, 1714, 1715, 1716, 1717, 1718, 1719, 1720, 1721, 1722, 1723, 1724, 1725, 1726, 1727, 1728, 1780, 1794, 1795, 1796, 1797, 1798, 1799, 1800, 1801, 1802, 1803, 1804, 1805, 1806, 1807, 1808, 1809, 1810, 1860, 1877, 1878, 1879, 1880, 1881, 1882, 1883, 1884, 1885, 1886, 1887, 1888, 1889, 1890, 1891, 1892, 1940, 1959, 1960, 1961, 1962, 1963, 1964, 1965, 1966, 1967, 1968, 1969, 1970, 1971, 1972, 1973, 1974, 2020, 2040, 2041, 2042, 2043, 2044, 2045, 2046, 2047, 2048, 2049, 2050, 2051, 2052, 2053, 2054, 2055, 2100, 2120, 2124, 2125, 2126, 2127, 2128, 2129, 2130, 2131, 2132, 2133, 2134, 2135, 2136, 2137, 2180, 2200, 2206, 2207, 2208, 2209, 2210, 2211, 2212, 2213, 2214, 2215, 2216, 2217, 2218, 2219, 2260, 2280, 2289, 2290, 2291, 2292, 2293, 2294, 2295, 2296, 2297, 2298, 2299, 2300, 2340, 2360, 2371, 2372, 2373, 2374, 2375, 2376, 2377, 2378, 2379, 2380, 2381, 2382, 2420, 2440, 2454, 2455, 2456, 2457, 2458, 2459, 2460, 2461, 2462, 2463, 2464, 2500, 2520, 2536, 2537, 2538, 2539, 2540, 2541, 2542, 2543, 2544, 2545, 2546, 2580, 2600, 2618, 2619, 2620, 2621, 2622, 2623, 2624, 2625, 2626, 2627, 2660, 2680, 2701, 2702, 2703, 2704, 2705, 2706, 2707, 2708, 2709, 2740, 2760, 2783, 2784, 2785, 2786, 2787, 2788, 2789, 2790, 2791, 2820, 2840, 2866, 2867, 2868, 2869, 2870, 2871, 2872, 2873, 2900, 2920, 2948, 2949, 2950, 2951, 2952, 2953, 2954, 2980, 3000, 3030, 3031, 3032, 3033, 3034, 3035, 3036, 3060, 3080, 3113, 3114, 3115, 3116, 3117, 3118, 3140, 3160, 3195, 3196, 3197, 3198, 3199, 3200, 3220, 3240, 3278, 3279, 3280, 3281, 3300, 3360, 3361, 3362, 3363, 3380, 3443, 3444, 3445, 3460, 3525, 3526, 3540, 3607, 3608, 3620, 3690, 3700, 3772, 3780, 3854, 3860, 3936, 3940, 4018, 4019, 4020, 4099, 4100, 4101, 4180, 4181, 4182, 4183, 4260, 4263, 4264, 4265, 4266, 4340, 4345, 4346, 4347, 4348, 4420, 4427, 4428, 4429, 4430, 4431, 4500, 4508, 4509, 4510, 4511, 4512, 4513, 4580, 4590, 4591, 4592, 4593, 4594, 4595, 4660, 4672, 4673, 4674, 4675, 4676, 4677, 4678, 4740, 4753, 4754, 4755, 4756, 4757, 4758, 4759, 4760, 4820, 4835, 4836, 4837, 4838, 4839, 4840, 4841, 4842, 4843, 4900, 4917, 4918, 4919, 4920, 4921, 4922, 4923, 4924, 4925, 4980, 4999, 5000, 5001, 5002, 5003, 5004, 5005, 5006, 5007, 5060, 5080, 5081, 5082, 5083, 5084, 5085, 5086, 5087, 5088, 5089, 5090, 5140, 5162, 5163, 5164, 5165, 5166, 5167, 5168, 5169, 5170, 5171, 5172, 5220, 5244, 5245, 5246, 5247, 5248, 5249, 5250, 5251, 5252, 5253, 5254, 5255, 5300, 5326, 5327, 5328, 5329, 5330, 5331, 5332, 5333, 5334, 5335, 5336, 5337, 5380, 5407, 5408, 5409, 5410, 5411, 5412, 5413, 5414, 5415, 5416, 5417, 5418, 5419, 5420, 5460, 5489, 5490, 5491, 5492, 5493, 5494, 5495, 5496, 5497, 5498, 5499, 5500, 5501, 5502, 5540, 5571, 5572, 5573, 5574, 5575, 5576, 5577, 5578, 5579, 5580, 5581, 5582, 5583, 5584, 5620, 5653, 5654, 5655, 5656, 5657, 5658, 5659, 5660, 5661, 5662, 5663, 5664, 5665, 5666, 5667, 5700, 5734, 5735, 5736, 5737, 5738, 5739, 5740, 5741, 5742, 5743, 5744, 5745, 5746, 5747, 5748, 5749, 5780, 5816, 5817, 5818, 5819, 5820, 5821, 5822, 5823, 5824, 5825, 5826, 5827, 5828, 5829, 5830, 5831, 5860, 5898, 5899, 5900, 5901, 5902, 5903, 5904, 5905, 5906, 5907, 5908, 5909, 5910, 5911, 5912, 5940, 5979, 5980, 5981, 5982, 5983, 5984, 5985, 5986, 5987, 5988, 5989, 5990, 5991, 5992, 5993, 6020, 6061, 6062, 6063, 6064, 6065, 6066, 6067, 6068, 6069, 6070, 6071, 6072, 6073, 6074, 6100, 6143, 6144, 6145, 6146, 6147, 6148, 6149, 6150, 6151, 6152, 6153, 6154, 6155, 6180, 6225, 6226, 6227, 6228, 6229, 6230, 6231, 6232, 6233, 6234, 6235, 6236, 6260, 6306, 6307, 6308, 6309, 6310, 6311, 6312, 6313, 6314, 6315, 6316, 6317, 6340, 6388, 6389, 6390, 6391, 6392, 6393, 6394, 6395, 6396, 6397, 6398, 6420, 6470, 6471, 6472, 6473, 6474, 6475, 6476, 6477, 6478, 6479, 6500, 6552, 6553, 6554, 6555, 6556, 6557, 6558, 6559, 6560]\n",
      "CPU times: user 169 ms, sys: 3.66 ms, total: 173 ms\n",
      "Wall time: 172 ms\n"
     ]
    }
   ],
   "source": [
    "%%time\n",
    "n_total = len(simulation.dataframe)\n",
    "n_train = len(simulation.dataframe[simulation.dataframe.type_of == \"train\"])\n",
    "n_val = len(simulation.dataframe[simulation.dataframe.type_of == \"val\"])\n",
    "n_test = len(simulation.dataframe[simulation.dataframe.type_of == \"test\"])\n",
    "n_train_hamiltonians = len(simulation.train_ids)\n",
    "n_val_hamiltonians = len(simulation.val_ids)\n",
    "n_test_hamiltonians = len(simulation.test_ids)\n",
    "n_total_hamiltonians = n_train_hamiltonians + n_val_hamiltonians + n_test_hamiltonians\n",
    "\n",
    "print(\"% train: \", n_train/n_total)\n",
    "print(\"% val: \",  n_val/n_total)\n",
    "print(\"% test: \", n_test/n_total)\n",
    "print(\"% train + val + test: \", (n_train+n_val+n_test)/n_total)\n",
    "print(\"\\n\")\n",
    "print(\"number of train hamiltonians: \", n_train_hamiltonians)\n",
    "print(\"number of val hamiltonians: \", n_val_hamiltonians)\n",
    "print(\"number of test hamiltonians: \", n_test_hamiltonians)\n",
    "print(\"total number of hamiltonians: \", n_total_hamiltonians)\n",
    "print(\"\\n\")\n",
    "print(\"train ids: \", simulation.train_ids)\n",
    "print(\"val ids: \", simulation.val_ids)\n",
    "print(\"test ids: \", simulation.test_ids)"
   ]
  },
  {
   "cell_type": "markdown",
   "metadata": {
    "papermill": {
     "duration": 0.01727,
     "end_time": "2020-07-09T19:48:43.086197",
     "exception": false,
     "start_time": "2020-07-09T19:48:43.068927",
     "status": "completed"
    },
    "tags": []
   },
   "source": [
    "## Running a simulation"
   ]
  },
  {
   "cell_type": "code",
   "execution_count": 23,
   "metadata": {
    "execution": {
     "iopub.execute_input": "2020-07-09T19:48:43.125187Z",
     "iopub.status.busy": "2020-07-09T19:48:43.124866Z",
     "iopub.status.idle": "2020-07-09T20:33:11.831059Z",
     "shell.execute_reply": "2020-07-09T20:33:11.831362Z"
    },
    "papermill": {
     "duration": 2668.727026,
     "end_time": "2020-07-09T20:33:11.831426",
     "exception": false,
     "start_time": "2020-07-09T19:48:43.104400",
     "status": "completed"
    },
    "tags": []
   },
   "outputs": [
    {
     "name": "stderr",
     "output_type": "stream",
     "text": [
      "\r",
      "running experiments:   0%|          | 0/100 [00:00<?, ?it/s]"
     ]
    },
    {
     "name": "stderr",
     "output_type": "stream",
     "text": [
      "\r",
      "running experiments:   1%|          | 1/100 [00:26<44:01, 26.68s/it]"
     ]
    },
    {
     "name": "stderr",
     "output_type": "stream",
     "text": [
      "\r",
      "running experiments:   2%|▏         | 2/100 [00:53<43:47, 26.81s/it]"
     ]
    },
    {
     "name": "stderr",
     "output_type": "stream",
     "text": [
      "\r",
      "running experiments:   3%|▎         | 3/100 [01:20<43:20, 26.81s/it]"
     ]
    },
    {
     "name": "stderr",
     "output_type": "stream",
     "text": [
      "\r",
      "running experiments:   4%|▍         | 4/100 [01:47<42:51, 26.78s/it]"
     ]
    },
    {
     "name": "stderr",
     "output_type": "stream",
     "text": [
      "\r",
      "running experiments:   5%|▌         | 5/100 [02:14<42:30, 26.84s/it]"
     ]
    },
    {
     "name": "stderr",
     "output_type": "stream",
     "text": [
      "\r",
      "running experiments:   6%|▌         | 6/100 [02:41<42:08, 26.90s/it]"
     ]
    },
    {
     "name": "stderr",
     "output_type": "stream",
     "text": [
      "\r",
      "running experiments:   7%|▋         | 7/100 [03:08<41:47, 26.96s/it]"
     ]
    },
    {
     "name": "stderr",
     "output_type": "stream",
     "text": [
      "\r",
      "running experiments:   8%|▊         | 8/100 [03:35<41:24, 27.00s/it]"
     ]
    },
    {
     "name": "stderr",
     "output_type": "stream",
     "text": [
      "\r",
      "running experiments:   9%|▉         | 9/100 [04:02<41:02, 27.06s/it]"
     ]
    },
    {
     "name": "stderr",
     "output_type": "stream",
     "text": [
      "\r",
      "running experiments:  10%|█         | 10/100 [04:29<40:29, 27.00s/it]"
     ]
    },
    {
     "name": "stderr",
     "output_type": "stream",
     "text": [
      "\r",
      "running experiments:  11%|█         | 11/100 [04:58<40:52, 27.55s/it]"
     ]
    },
    {
     "name": "stderr",
     "output_type": "stream",
     "text": [
      "\r",
      "running experiments:  12%|█▏        | 12/100 [05:26<40:37, 27.70s/it]"
     ]
    },
    {
     "name": "stderr",
     "output_type": "stream",
     "text": [
      "\r",
      "running experiments:  13%|█▎        | 13/100 [05:53<39:51, 27.49s/it]"
     ]
    },
    {
     "name": "stderr",
     "output_type": "stream",
     "text": [
      "\r",
      "running experiments:  14%|█▍        | 14/100 [06:20<39:04, 27.26s/it]"
     ]
    },
    {
     "name": "stderr",
     "output_type": "stream",
     "text": [
      "\r",
      "running experiments:  15%|█▌        | 15/100 [06:46<38:17, 27.03s/it]"
     ]
    },
    {
     "name": "stderr",
     "output_type": "stream",
     "text": [
      "\r",
      "running experiments:  16%|█▌        | 16/100 [07:13<37:38, 26.88s/it]"
     ]
    },
    {
     "name": "stderr",
     "output_type": "stream",
     "text": [
      "\r",
      "running experiments:  17%|█▋        | 17/100 [07:39<37:02, 26.78s/it]"
     ]
    },
    {
     "name": "stderr",
     "output_type": "stream",
     "text": [
      "\r",
      "running experiments:  18%|█▊        | 18/100 [08:06<36:32, 26.74s/it]"
     ]
    },
    {
     "name": "stderr",
     "output_type": "stream",
     "text": [
      "\r",
      "running experiments:  19%|█▉        | 19/100 [08:33<36:07, 26.76s/it]"
     ]
    },
    {
     "name": "stderr",
     "output_type": "stream",
     "text": [
      "\r",
      "running experiments:  20%|██        | 20/100 [09:00<35:41, 26.77s/it]"
     ]
    },
    {
     "name": "stderr",
     "output_type": "stream",
     "text": [
      "\r",
      "running experiments:  21%|██        | 21/100 [09:26<35:17, 26.81s/it]"
     ]
    },
    {
     "name": "stderr",
     "output_type": "stream",
     "text": [
      "\r",
      "running experiments:  22%|██▏       | 22/100 [09:53<34:51, 26.81s/it]"
     ]
    },
    {
     "name": "stderr",
     "output_type": "stream",
     "text": [
      "\r",
      "running experiments:  23%|██▎       | 23/100 [10:22<34:58, 27.25s/it]"
     ]
    },
    {
     "name": "stderr",
     "output_type": "stream",
     "text": [
      "\r",
      "running experiments:  24%|██▍       | 24/100 [10:48<34:06, 26.93s/it]"
     ]
    },
    {
     "name": "stderr",
     "output_type": "stream",
     "text": [
      "\r",
      "running experiments:  25%|██▌       | 25/100 [11:14<33:32, 26.83s/it]"
     ]
    },
    {
     "name": "stderr",
     "output_type": "stream",
     "text": [
      "\r",
      "running experiments:  26%|██▌       | 26/100 [11:41<33:05, 26.83s/it]"
     ]
    },
    {
     "name": "stderr",
     "output_type": "stream",
     "text": [
      "\r",
      "running experiments:  27%|██▋       | 27/100 [12:08<32:37, 26.81s/it]"
     ]
    },
    {
     "name": "stderr",
     "output_type": "stream",
     "text": [
      "\r",
      "running experiments:  28%|██▊       | 28/100 [12:35<32:10, 26.81s/it]"
     ]
    },
    {
     "name": "stderr",
     "output_type": "stream",
     "text": [
      "\r",
      "running experiments:  29%|██▉       | 29/100 [13:01<31:36, 26.70s/it]"
     ]
    },
    {
     "name": "stderr",
     "output_type": "stream",
     "text": [
      "\r",
      "running experiments:  30%|███       | 30/100 [13:28<31:07, 26.68s/it]"
     ]
    },
    {
     "name": "stderr",
     "output_type": "stream",
     "text": [
      "\r",
      "running experiments:  31%|███       | 31/100 [13:55<30:50, 26.81s/it]"
     ]
    },
    {
     "name": "stderr",
     "output_type": "stream",
     "text": [
      "\r",
      "running experiments:  32%|███▏      | 32/100 [14:22<30:26, 26.87s/it]"
     ]
    },
    {
     "name": "stderr",
     "output_type": "stream",
     "text": [
      "\r",
      "running experiments:  33%|███▎      | 33/100 [14:49<30:02, 26.91s/it]"
     ]
    },
    {
     "name": "stderr",
     "output_type": "stream",
     "text": [
      "\r",
      "running experiments:  34%|███▍      | 34/100 [15:15<29:26, 26.77s/it]"
     ]
    },
    {
     "name": "stderr",
     "output_type": "stream",
     "text": [
      "\r",
      "running experiments:  35%|███▌      | 35/100 [15:42<29:02, 26.81s/it]"
     ]
    },
    {
     "name": "stderr",
     "output_type": "stream",
     "text": [
      "\r",
      "running experiments:  36%|███▌      | 36/100 [16:09<28:36, 26.82s/it]"
     ]
    },
    {
     "name": "stderr",
     "output_type": "stream",
     "text": [
      "\r",
      "running experiments:  37%|███▋      | 37/100 [16:36<28:12, 26.86s/it]"
     ]
    },
    {
     "name": "stderr",
     "output_type": "stream",
     "text": [
      "\r",
      "running experiments:  38%|███▊      | 38/100 [17:03<27:46, 26.88s/it]"
     ]
    },
    {
     "name": "stderr",
     "output_type": "stream",
     "text": [
      "\r",
      "running experiments:  39%|███▉      | 39/100 [17:30<27:19, 26.88s/it]"
     ]
    },
    {
     "name": "stderr",
     "output_type": "stream",
     "text": [
      "\r",
      "running experiments:  40%|████      | 40/100 [17:57<26:52, 26.87s/it]"
     ]
    },
    {
     "name": "stderr",
     "output_type": "stream",
     "text": [
      "\r",
      "running experiments:  41%|████      | 41/100 [18:23<26:19, 26.77s/it]"
     ]
    },
    {
     "name": "stderr",
     "output_type": "stream",
     "text": [
      "\r",
      "running experiments:  42%|████▏     | 42/100 [18:50<25:56, 26.84s/it]"
     ]
    },
    {
     "name": "stderr",
     "output_type": "stream",
     "text": [
      "\r",
      "running experiments:  43%|████▎     | 43/100 [19:17<25:32, 26.89s/it]"
     ]
    },
    {
     "name": "stderr",
     "output_type": "stream",
     "text": [
      "\r",
      "running experiments:  44%|████▍     | 44/100 [19:44<25:01, 26.81s/it]"
     ]
    },
    {
     "name": "stderr",
     "output_type": "stream",
     "text": [
      "\r",
      "running experiments:  45%|████▌     | 45/100 [20:11<24:39, 26.89s/it]"
     ]
    },
    {
     "name": "stderr",
     "output_type": "stream",
     "text": [
      "\r",
      "running experiments:  46%|████▌     | 46/100 [20:38<24:12, 26.90s/it]"
     ]
    },
    {
     "name": "stderr",
     "output_type": "stream",
     "text": [
      "\r",
      "running experiments:  47%|████▋     | 47/100 [21:04<23:41, 26.81s/it]"
     ]
    },
    {
     "name": "stderr",
     "output_type": "stream",
     "text": [
      "\r",
      "running experiments:  48%|████▊     | 48/100 [21:31<23:09, 26.72s/it]"
     ]
    },
    {
     "name": "stderr",
     "output_type": "stream",
     "text": [
      "\r",
      "running experiments:  49%|████▉     | 49/100 [21:58<22:41, 26.69s/it]"
     ]
    },
    {
     "name": "stderr",
     "output_type": "stream",
     "text": [
      "\r",
      "running experiments:  50%|█████     | 50/100 [22:24<22:11, 26.63s/it]"
     ]
    },
    {
     "name": "stderr",
     "output_type": "stream",
     "text": [
      "\r",
      "running experiments:  51%|█████     | 51/100 [22:55<22:47, 27.92s/it]"
     ]
    },
    {
     "name": "stderr",
     "output_type": "stream",
     "text": [
      "\r",
      "running experiments:  52%|█████▏    | 52/100 [23:22<22:11, 27.74s/it]"
     ]
    },
    {
     "name": "stderr",
     "output_type": "stream",
     "text": [
      "\r",
      "running experiments:  53%|█████▎    | 53/100 [23:49<21:31, 27.47s/it]"
     ]
    },
    {
     "name": "stderr",
     "output_type": "stream",
     "text": [
      "\r",
      "running experiments:  54%|█████▍    | 54/100 [24:16<20:53, 27.26s/it]"
     ]
    },
    {
     "name": "stderr",
     "output_type": "stream",
     "text": [
      "\r",
      "running experiments:  55%|█████▌    | 55/100 [24:43<20:17, 27.06s/it]"
     ]
    },
    {
     "name": "stderr",
     "output_type": "stream",
     "text": [
      "\r",
      "running experiments:  56%|█████▌    | 56/100 [25:09<19:44, 26.92s/it]"
     ]
    },
    {
     "name": "stderr",
     "output_type": "stream",
     "text": [
      "\r",
      "running experiments:  57%|█████▋    | 57/100 [25:36<19:15, 26.87s/it]"
     ]
    },
    {
     "name": "stderr",
     "output_type": "stream",
     "text": [
      "\r",
      "running experiments:  58%|█████▊    | 58/100 [26:03<18:47, 26.85s/it]"
     ]
    },
    {
     "name": "stderr",
     "output_type": "stream",
     "text": [
      "\r",
      "running experiments:  59%|█████▉    | 59/100 [26:29<18:16, 26.73s/it]"
     ]
    },
    {
     "name": "stderr",
     "output_type": "stream",
     "text": [
      "\r",
      "running experiments:  60%|██████    | 60/100 [26:56<17:46, 26.66s/it]"
     ]
    },
    {
     "name": "stderr",
     "output_type": "stream",
     "text": [
      "\r",
      "running experiments:  61%|██████    | 61/100 [27:22<17:20, 26.67s/it]"
     ]
    },
    {
     "name": "stderr",
     "output_type": "stream",
     "text": [
      "\r",
      "running experiments:  62%|██████▏   | 62/100 [27:49<16:48, 26.54s/it]"
     ]
    },
    {
     "name": "stderr",
     "output_type": "stream",
     "text": [
      "\r",
      "running experiments:  63%|██████▎   | 63/100 [28:15<16:20, 26.51s/it]"
     ]
    },
    {
     "name": "stderr",
     "output_type": "stream",
     "text": [
      "\r",
      "running experiments:  64%|██████▍   | 64/100 [28:41<15:52, 26.46s/it]"
     ]
    },
    {
     "name": "stderr",
     "output_type": "stream",
     "text": [
      "\r",
      "running experiments:  65%|██████▌   | 65/100 [29:08<15:22, 26.36s/it]"
     ]
    },
    {
     "name": "stderr",
     "output_type": "stream",
     "text": [
      "\r",
      "running experiments:  66%|██████▌   | 66/100 [29:34<14:57, 26.38s/it]"
     ]
    },
    {
     "name": "stderr",
     "output_type": "stream",
     "text": [
      "\r",
      "running experiments:  67%|██████▋   | 67/100 [30:00<14:31, 26.42s/it]"
     ]
    },
    {
     "name": "stderr",
     "output_type": "stream",
     "text": [
      "\r",
      "running experiments:  68%|██████▊   | 68/100 [30:27<14:03, 26.36s/it]"
     ]
    },
    {
     "name": "stderr",
     "output_type": "stream",
     "text": [
      "\r",
      "running experiments:  69%|██████▉   | 69/100 [30:53<13:37, 26.38s/it]"
     ]
    },
    {
     "name": "stderr",
     "output_type": "stream",
     "text": [
      "\r",
      "running experiments:  70%|███████   | 70/100 [31:20<13:12, 26.41s/it]"
     ]
    },
    {
     "name": "stderr",
     "output_type": "stream",
     "text": [
      "\r",
      "running experiments:  71%|███████   | 71/100 [31:46<12:45, 26.38s/it]"
     ]
    },
    {
     "name": "stderr",
     "output_type": "stream",
     "text": [
      "\r",
      "running experiments:  72%|███████▏  | 72/100 [32:12<12:17, 26.34s/it]"
     ]
    },
    {
     "name": "stderr",
     "output_type": "stream",
     "text": [
      "\r",
      "running experiments:  73%|███████▎  | 73/100 [32:38<11:50, 26.33s/it]"
     ]
    },
    {
     "name": "stderr",
     "output_type": "stream",
     "text": [
      "\r",
      "running experiments:  74%|███████▍  | 74/100 [33:05<11:23, 26.27s/it]"
     ]
    },
    {
     "name": "stderr",
     "output_type": "stream",
     "text": [
      "\r",
      "running experiments:  75%|███████▌  | 75/100 [33:31<10:59, 26.37s/it]"
     ]
    },
    {
     "name": "stderr",
     "output_type": "stream",
     "text": [
      "\r",
      "running experiments:  76%|███████▌  | 76/100 [33:57<10:31, 26.30s/it]"
     ]
    },
    {
     "name": "stderr",
     "output_type": "stream",
     "text": [
      "\r",
      "running experiments:  77%|███████▋  | 77/100 [34:24<10:09, 26.48s/it]"
     ]
    },
    {
     "name": "stderr",
     "output_type": "stream",
     "text": [
      "\r",
      "running experiments:  78%|███████▊  | 78/100 [34:51<09:42, 26.47s/it]"
     ]
    },
    {
     "name": "stderr",
     "output_type": "stream",
     "text": [
      "\r",
      "running experiments:  79%|███████▉  | 79/100 [35:16<09:10, 26.23s/it]"
     ]
    },
    {
     "name": "stderr",
     "output_type": "stream",
     "text": [
      "\r",
      "running experiments:  80%|████████  | 80/100 [35:43<08:45, 26.28s/it]"
     ]
    },
    {
     "name": "stderr",
     "output_type": "stream",
     "text": [
      "\r",
      "running experiments:  81%|████████  | 81/100 [36:09<08:17, 26.20s/it]"
     ]
    },
    {
     "name": "stderr",
     "output_type": "stream",
     "text": [
      "\r",
      "running experiments:  82%|████████▏ | 82/100 [36:35<07:53, 26.29s/it]"
     ]
    },
    {
     "name": "stderr",
     "output_type": "stream",
     "text": [
      "\r",
      "running experiments:  83%|████████▎ | 83/100 [37:02<07:29, 26.46s/it]"
     ]
    },
    {
     "name": "stderr",
     "output_type": "stream",
     "text": [
      "\r",
      "running experiments:  84%|████████▍ | 84/100 [37:29<07:03, 26.48s/it]"
     ]
    },
    {
     "name": "stderr",
     "output_type": "stream",
     "text": [
      "\r",
      "running experiments:  85%|████████▌ | 85/100 [37:55<06:37, 26.48s/it]"
     ]
    },
    {
     "name": "stderr",
     "output_type": "stream",
     "text": [
      "\r",
      "running experiments:  86%|████████▌ | 86/100 [38:21<06:09, 26.41s/it]"
     ]
    },
    {
     "name": "stderr",
     "output_type": "stream",
     "text": [
      "\r",
      "running experiments:  87%|████████▋ | 87/100 [38:48<05:44, 26.46s/it]"
     ]
    },
    {
     "name": "stderr",
     "output_type": "stream",
     "text": [
      "\r",
      "running experiments:  88%|████████▊ | 88/100 [39:14<05:16, 26.33s/it]"
     ]
    },
    {
     "name": "stderr",
     "output_type": "stream",
     "text": [
      "\r",
      "running experiments:  89%|████████▉ | 89/100 [39:40<04:48, 26.24s/it]"
     ]
    },
    {
     "name": "stderr",
     "output_type": "stream",
     "text": [
      "\r",
      "running experiments:  90%|█████████ | 90/100 [40:06<04:20, 26.09s/it]"
     ]
    },
    {
     "name": "stderr",
     "output_type": "stream",
     "text": [
      "\r",
      "running experiments:  91%|█████████ | 91/100 [40:32<03:55, 26.18s/it]"
     ]
    },
    {
     "name": "stderr",
     "output_type": "stream",
     "text": [
      "\r",
      "running experiments:  92%|█████████▏| 92/100 [40:59<03:29, 26.24s/it]"
     ]
    },
    {
     "name": "stderr",
     "output_type": "stream",
     "text": [
      "\r",
      "running experiments:  93%|█████████▎| 93/100 [41:25<03:03, 26.23s/it]"
     ]
    },
    {
     "name": "stderr",
     "output_type": "stream",
     "text": [
      "\r",
      "running experiments:  94%|█████████▍| 94/100 [41:51<02:37, 26.23s/it]"
     ]
    },
    {
     "name": "stderr",
     "output_type": "stream",
     "text": [
      "\r",
      "running experiments:  95%|█████████▌| 95/100 [42:17<02:11, 26.23s/it]"
     ]
    },
    {
     "name": "stderr",
     "output_type": "stream",
     "text": [
      "\r",
      "running experiments:  96%|█████████▌| 96/100 [42:43<01:44, 26.21s/it]"
     ]
    },
    {
     "name": "stderr",
     "output_type": "stream",
     "text": [
      "\r",
      "running experiments:  97%|█████████▋| 97/100 [43:10<01:19, 26.36s/it]"
     ]
    },
    {
     "name": "stderr",
     "output_type": "stream",
     "text": [
      "\r",
      "running experiments:  98%|█████████▊| 98/100 [43:36<00:52, 26.33s/it]"
     ]
    },
    {
     "name": "stderr",
     "output_type": "stream",
     "text": [
      "\r",
      "running experiments:  99%|█████████▉| 99/100 [44:02<00:26, 26.26s/it]"
     ]
    },
    {
     "name": "stderr",
     "output_type": "stream",
     "text": [
      "\r",
      "running experiments: 100%|██████████| 100/100 [44:28<00:00, 26.11s/it]"
     ]
    },
    {
     "name": "stderr",
     "output_type": "stream",
     "text": [
      "\r",
      "running experiments: 100%|██████████| 100/100 [44:28<00:00, 26.69s/it]"
     ]
    },
    {
     "name": "stdout",
     "output_type": "stream",
     "text": [
      "CPU times: user 4h 48min 20s, sys: 13.8 s, total: 4h 48min 33s\n",
      "Wall time: 44min 28s\n"
     ]
    },
    {
     "name": "stderr",
     "output_type": "stream",
     "text": [
      "\n"
     ]
    }
   ],
   "source": [
    "%%time\n",
    "simulation.run_simulation(n_experiments, start_n, fit_params,shuffle_rows, pred_params, random_features, \\\n",
    "                          store_in_lists, save_eigenvector, save_hamiltonian, save_accuracy,\\\n",
    "                          save_models)\n",
    "if simulation.fourier_mode is not None:\n",
    "    simulation.fourier_dataframe.head(10)"
   ]
  },
  {
   "cell_type": "code",
   "execution_count": 24,
   "metadata": {
    "execution": {
     "iopub.execute_input": "2020-07-09T20:33:11.902192Z",
     "iopub.status.busy": "2020-07-09T20:33:11.901853Z",
     "iopub.status.idle": "2020-07-09T20:33:11.927961Z",
     "shell.execute_reply": "2020-07-09T20:33:11.927631Z"
    },
    "papermill": {
     "duration": 0.061917,
     "end_time": "2020-07-09T20:33:11.928014",
     "exception": false,
     "start_time": "2020-07-09T20:33:11.866097",
     "status": "completed"
    },
    "tags": []
   },
   "outputs": [
    {
     "data": {
      "text/html": [
       "<div>\n",
       "<style scoped>\n",
       "    .dataframe tbody tr th:only-of-type {\n",
       "        vertical-align: middle;\n",
       "    }\n",
       "\n",
       "    .dataframe tbody tr th {\n",
       "        vertical-align: top;\n",
       "    }\n",
       "\n",
       "    .dataframe thead th {\n",
       "        text-align: right;\n",
       "    }\n",
       "</style>\n",
       "<table border=\"1\" class=\"dataframe\">\n",
       "  <thead>\n",
       "    <tr style=\"text-align: right;\">\n",
       "      <th></th>\n",
       "      <th>id</th>\n",
       "      <th>path</th>\n",
       "      <th>t1</th>\n",
       "      <th>t2</th>\n",
       "      <th>winding</th>\n",
       "      <th>phase</th>\n",
       "      <th>pred_phase</th>\n",
       "      <th>type_of</th>\n",
       "      <th>feat0</th>\n",
       "      <th>feat1</th>\n",
       "      <th>...</th>\n",
       "      <th>feat90</th>\n",
       "      <th>feat91</th>\n",
       "      <th>feat92</th>\n",
       "      <th>feat93</th>\n",
       "      <th>feat94</th>\n",
       "      <th>feat95</th>\n",
       "      <th>feat96</th>\n",
       "      <th>feat97</th>\n",
       "      <th>feat98</th>\n",
       "      <th>feat99</th>\n",
       "    </tr>\n",
       "  </thead>\n",
       "  <tbody>\n",
       "    <tr>\n",
       "      <th>0</th>\n",
       "      <td>0</td>\n",
       "      <td>H_-2_-2_0.501338.dat</td>\n",
       "      <td>-2.0</td>\n",
       "      <td>-2.0</td>\n",
       "      <td>0.501338</td>\n",
       "      <td>999</td>\n",
       "      <td>666</td>\n",
       "      <td>test</td>\n",
       "      <td>-0.130965</td>\n",
       "      <td>0.301130</td>\n",
       "      <td>...</td>\n",
       "      <td>-0.080279</td>\n",
       "      <td>-0.115687</td>\n",
       "      <td>-0.174988</td>\n",
       "      <td>0.245064</td>\n",
       "      <td>0.319763</td>\n",
       "      <td>-0.059082</td>\n",
       "      <td>-0.000556</td>\n",
       "      <td>-0.245133</td>\n",
       "      <td>-0.301130</td>\n",
       "      <td>0.130965</td>\n",
       "    </tr>\n",
       "    <tr>\n",
       "      <th>1</th>\n",
       "      <td>0</td>\n",
       "      <td>H_-2_-2_0.501338.dat</td>\n",
       "      <td>-2.0</td>\n",
       "      <td>-2.0</td>\n",
       "      <td>0.501338</td>\n",
       "      <td>999</td>\n",
       "      <td>666</td>\n",
       "      <td>test</td>\n",
       "      <td>-0.130965</td>\n",
       "      <td>-0.301130</td>\n",
       "      <td>...</td>\n",
       "      <td>-0.080279</td>\n",
       "      <td>0.115687</td>\n",
       "      <td>-0.174988</td>\n",
       "      <td>-0.245064</td>\n",
       "      <td>0.319763</td>\n",
       "      <td>0.059082</td>\n",
       "      <td>-0.000556</td>\n",
       "      <td>0.245133</td>\n",
       "      <td>-0.301130</td>\n",
       "      <td>-0.130965</td>\n",
       "    </tr>\n",
       "    <tr>\n",
       "      <th>2</th>\n",
       "      <td>0</td>\n",
       "      <td>H_-2_-2_0.501338.dat</td>\n",
       "      <td>-2.0</td>\n",
       "      <td>-2.0</td>\n",
       "      <td>0.501338</td>\n",
       "      <td>999</td>\n",
       "      <td>666</td>\n",
       "      <td>test</td>\n",
       "      <td>-0.148414</td>\n",
       "      <td>-0.042467</td>\n",
       "      <td>...</td>\n",
       "      <td>0.185442</td>\n",
       "      <td>-0.080620</td>\n",
       "      <td>-0.066211</td>\n",
       "      <td>-0.121339</td>\n",
       "      <td>-0.151700</td>\n",
       "      <td>0.192513</td>\n",
       "      <td>0.191642</td>\n",
       "      <td>-0.050956</td>\n",
       "      <td>-0.042467</td>\n",
       "      <td>-0.148414</td>\n",
       "    </tr>\n",
       "    <tr>\n",
       "      <th>3</th>\n",
       "      <td>0</td>\n",
       "      <td>H_-2_-2_0.501338.dat</td>\n",
       "      <td>-2.0</td>\n",
       "      <td>-2.0</td>\n",
       "      <td>0.501338</td>\n",
       "      <td>999</td>\n",
       "      <td>666</td>\n",
       "      <td>test</td>\n",
       "      <td>-0.069630</td>\n",
       "      <td>-0.026147</td>\n",
       "      <td>...</td>\n",
       "      <td>0.102009</td>\n",
       "      <td>-0.100671</td>\n",
       "      <td>-0.081002</td>\n",
       "      <td>-0.020715</td>\n",
       "      <td>-0.058717</td>\n",
       "      <td>0.115834</td>\n",
       "      <td>0.118274</td>\n",
       "      <td>-0.054666</td>\n",
       "      <td>-0.026147</td>\n",
       "      <td>-0.069630</td>\n",
       "    </tr>\n",
       "    <tr>\n",
       "      <th>4</th>\n",
       "      <td>0</td>\n",
       "      <td>H_-2_-2_0.501338.dat</td>\n",
       "      <td>-2.0</td>\n",
       "      <td>-2.0</td>\n",
       "      <td>0.501338</td>\n",
       "      <td>999</td>\n",
       "      <td>666</td>\n",
       "      <td>test</td>\n",
       "      <td>0.010206</td>\n",
       "      <td>-0.014625</td>\n",
       "      <td>...</td>\n",
       "      <td>0.047555</td>\n",
       "      <td>-0.041368</td>\n",
       "      <td>-0.018852</td>\n",
       "      <td>-0.017673</td>\n",
       "      <td>-0.023377</td>\n",
       "      <td>0.031447</td>\n",
       "      <td>0.010280</td>\n",
       "      <td>0.000925</td>\n",
       "      <td>0.014625</td>\n",
       "      <td>-0.010206</td>\n",
       "    </tr>\n",
       "    <tr>\n",
       "      <th>5</th>\n",
       "      <td>0</td>\n",
       "      <td>H_-2_-2_0.501338.dat</td>\n",
       "      <td>-2.0</td>\n",
       "      <td>-2.0</td>\n",
       "      <td>0.501338</td>\n",
       "      <td>999</td>\n",
       "      <td>666</td>\n",
       "      <td>test</td>\n",
       "      <td>0.116962</td>\n",
       "      <td>0.021475</td>\n",
       "      <td>...</td>\n",
       "      <td>-0.086901</td>\n",
       "      <td>-0.045676</td>\n",
       "      <td>-0.028034</td>\n",
       "      <td>0.129266</td>\n",
       "      <td>0.130083</td>\n",
       "      <td>-0.098190</td>\n",
       "      <td>-0.104188</td>\n",
       "      <td>-0.007911</td>\n",
       "      <td>0.021475</td>\n",
       "      <td>0.116962</td>\n",
       "    </tr>\n",
       "    <tr>\n",
       "      <th>6</th>\n",
       "      <td>0</td>\n",
       "      <td>H_-2_-2_0.501338.dat</td>\n",
       "      <td>-2.0</td>\n",
       "      <td>-2.0</td>\n",
       "      <td>0.501338</td>\n",
       "      <td>999</td>\n",
       "      <td>666</td>\n",
       "      <td>test</td>\n",
       "      <td>0.037175</td>\n",
       "      <td>-0.095882</td>\n",
       "      <td>...</td>\n",
       "      <td>-0.027490</td>\n",
       "      <td>0.046168</td>\n",
       "      <td>0.063419</td>\n",
       "      <td>-0.041630</td>\n",
       "      <td>-0.085769</td>\n",
       "      <td>-0.010604</td>\n",
       "      <td>-0.009822</td>\n",
       "      <td>0.084024</td>\n",
       "      <td>0.095882</td>\n",
       "      <td>-0.037175</td>\n",
       "    </tr>\n",
       "    <tr>\n",
       "      <th>7</th>\n",
       "      <td>0</td>\n",
       "      <td>H_-2_-2_0.501338.dat</td>\n",
       "      <td>-2.0</td>\n",
       "      <td>-2.0</td>\n",
       "      <td>0.501338</td>\n",
       "      <td>999</td>\n",
       "      <td>666</td>\n",
       "      <td>test</td>\n",
       "      <td>0.027709</td>\n",
       "      <td>-0.038180</td>\n",
       "      <td>...</td>\n",
       "      <td>0.123344</td>\n",
       "      <td>-0.114320</td>\n",
       "      <td>-0.057118</td>\n",
       "      <td>-0.040291</td>\n",
       "      <td>-0.061263</td>\n",
       "      <td>0.087153</td>\n",
       "      <td>0.029599</td>\n",
       "      <td>-0.001276</td>\n",
       "      <td>0.038180</td>\n",
       "      <td>-0.027709</td>\n",
       "    </tr>\n",
       "    <tr>\n",
       "      <th>8</th>\n",
       "      <td>0</td>\n",
       "      <td>H_-2_-2_0.501338.dat</td>\n",
       "      <td>-2.0</td>\n",
       "      <td>-2.0</td>\n",
       "      <td>0.501338</td>\n",
       "      <td>999</td>\n",
       "      <td>666</td>\n",
       "      <td>test</td>\n",
       "      <td>0.059795</td>\n",
       "      <td>0.030272</td>\n",
       "      <td>...</td>\n",
       "      <td>-0.082347</td>\n",
       "      <td>0.140996</td>\n",
       "      <td>0.128386</td>\n",
       "      <td>-0.036608</td>\n",
       "      <td>0.029628</td>\n",
       "      <td>-0.124877</td>\n",
       "      <td>-0.140478</td>\n",
       "      <td>0.088573</td>\n",
       "      <td>0.030272</td>\n",
       "      <td>0.059795</td>\n",
       "    </tr>\n",
       "    <tr>\n",
       "      <th>9</th>\n",
       "      <td>0</td>\n",
       "      <td>H_-2_-2_0.501338.dat</td>\n",
       "      <td>-2.0</td>\n",
       "      <td>-2.0</td>\n",
       "      <td>0.501338</td>\n",
       "      <td>999</td>\n",
       "      <td>666</td>\n",
       "      <td>test</td>\n",
       "      <td>0.141605</td>\n",
       "      <td>0.013497</td>\n",
       "      <td>...</td>\n",
       "      <td>-0.035718</td>\n",
       "      <td>-0.110014</td>\n",
       "      <td>-0.082452</td>\n",
       "      <td>0.146084</td>\n",
       "      <td>0.152588</td>\n",
       "      <td>-0.067575</td>\n",
       "      <td>-0.087187</td>\n",
       "      <td>-0.043484</td>\n",
       "      <td>0.013497</td>\n",
       "      <td>0.141605</td>\n",
       "    </tr>\n",
       "  </tbody>\n",
       "</table>\n",
       "<p>10 rows × 108 columns</p>\n",
       "</div>"
      ],
      "text/plain": [
       "   id                  path   t1   t2   winding  phase  pred_phase type_of  \\\n",
       "0   0  H_-2_-2_0.501338.dat -2.0 -2.0  0.501338    999         666    test   \n",
       "1   0  H_-2_-2_0.501338.dat -2.0 -2.0  0.501338    999         666    test   \n",
       "2   0  H_-2_-2_0.501338.dat -2.0 -2.0  0.501338    999         666    test   \n",
       "3   0  H_-2_-2_0.501338.dat -2.0 -2.0  0.501338    999         666    test   \n",
       "4   0  H_-2_-2_0.501338.dat -2.0 -2.0  0.501338    999         666    test   \n",
       "5   0  H_-2_-2_0.501338.dat -2.0 -2.0  0.501338    999         666    test   \n",
       "6   0  H_-2_-2_0.501338.dat -2.0 -2.0  0.501338    999         666    test   \n",
       "7   0  H_-2_-2_0.501338.dat -2.0 -2.0  0.501338    999         666    test   \n",
       "8   0  H_-2_-2_0.501338.dat -2.0 -2.0  0.501338    999         666    test   \n",
       "9   0  H_-2_-2_0.501338.dat -2.0 -2.0  0.501338    999         666    test   \n",
       "\n",
       "      feat0     feat1  ...    feat90    feat91    feat92    feat93    feat94  \\\n",
       "0 -0.130965  0.301130  ... -0.080279 -0.115687 -0.174988  0.245064  0.319763   \n",
       "1 -0.130965 -0.301130  ... -0.080279  0.115687 -0.174988 -0.245064  0.319763   \n",
       "2 -0.148414 -0.042467  ...  0.185442 -0.080620 -0.066211 -0.121339 -0.151700   \n",
       "3 -0.069630 -0.026147  ...  0.102009 -0.100671 -0.081002 -0.020715 -0.058717   \n",
       "4  0.010206 -0.014625  ...  0.047555 -0.041368 -0.018852 -0.017673 -0.023377   \n",
       "5  0.116962  0.021475  ... -0.086901 -0.045676 -0.028034  0.129266  0.130083   \n",
       "6  0.037175 -0.095882  ... -0.027490  0.046168  0.063419 -0.041630 -0.085769   \n",
       "7  0.027709 -0.038180  ...  0.123344 -0.114320 -0.057118 -0.040291 -0.061263   \n",
       "8  0.059795  0.030272  ... -0.082347  0.140996  0.128386 -0.036608  0.029628   \n",
       "9  0.141605  0.013497  ... -0.035718 -0.110014 -0.082452  0.146084  0.152588   \n",
       "\n",
       "     feat95    feat96    feat97    feat98    feat99  \n",
       "0 -0.059082 -0.000556 -0.245133 -0.301130  0.130965  \n",
       "1  0.059082 -0.000556  0.245133 -0.301130 -0.130965  \n",
       "2  0.192513  0.191642 -0.050956 -0.042467 -0.148414  \n",
       "3  0.115834  0.118274 -0.054666 -0.026147 -0.069630  \n",
       "4  0.031447  0.010280  0.000925  0.014625 -0.010206  \n",
       "5 -0.098190 -0.104188 -0.007911  0.021475  0.116962  \n",
       "6 -0.010604 -0.009822  0.084024  0.095882 -0.037175  \n",
       "7  0.087153  0.029599 -0.001276  0.038180 -0.027709  \n",
       "8 -0.124877 -0.140478  0.088573  0.030272  0.059795  \n",
       "9 -0.067575 -0.087187 -0.043484  0.013497  0.141605  \n",
       "\n",
       "[10 rows x 108 columns]"
      ]
     },
     "execution_count": 24,
     "metadata": {},
     "output_type": "execute_result"
    }
   ],
   "source": [
    "simulation.dataframe.head(10)"
   ]
  },
  {
   "cell_type": "markdown",
   "metadata": {
    "papermill": {
     "duration": 0.034346,
     "end_time": "2020-07-09T20:33:11.996902",
     "exception": false,
     "start_time": "2020-07-09T20:33:11.962556",
     "status": "completed"
    },
    "tags": []
   },
   "source": [
    "#### Viewing a random sample"
   ]
  },
  {
   "cell_type": "code",
   "execution_count": 25,
   "metadata": {
    "execution": {
     "iopub.execute_input": "2020-07-09T20:33:12.068857Z",
     "iopub.status.busy": "2020-07-09T20:33:12.068458Z",
     "iopub.status.idle": "2020-07-09T20:33:12.114776Z",
     "shell.execute_reply": "2020-07-09T20:33:12.114454Z"
    },
    "papermill": {
     "duration": 0.08295,
     "end_time": "2020-07-09T20:33:12.114830",
     "exception": false,
     "start_time": "2020-07-09T20:33:12.031880",
     "status": "completed"
    },
    "tags": []
   },
   "outputs": [
    {
     "name": "stdout",
     "output_type": "stream",
     "text": [
      "CPU times: user 35.9 ms, sys: 0 ns, total: 35.9 ms\n",
      "Wall time: 35.6 ms\n"
     ]
    }
   ],
   "source": [
    "%%time\n",
    "if simulation.fourier_mode is not None:\n",
    "    simulation.fourier_dataframe.sample(frac=0.1, replace=False)"
   ]
  },
  {
   "cell_type": "markdown",
   "metadata": {
    "papermill": {
     "duration": 0.034951,
     "end_time": "2020-07-09T20:33:12.185196",
     "exception": false,
     "start_time": "2020-07-09T20:33:12.150245",
     "status": "completed"
    },
    "tags": []
   },
   "source": [
    "#### Checking train/val/test splits again"
   ]
  },
  {
   "cell_type": "code",
   "execution_count": 26,
   "metadata": {
    "execution": {
     "iopub.execute_input": "2020-07-09T20:33:12.257833Z",
     "iopub.status.busy": "2020-07-09T20:33:12.257510Z",
     "iopub.status.idle": "2020-07-09T20:33:12.444840Z",
     "shell.execute_reply": "2020-07-09T20:33:12.444563Z"
    },
    "papermill": {
     "duration": 0.223666,
     "end_time": "2020-07-09T20:33:12.444892",
     "exception": false,
     "start_time": "2020-07-09T20:33:12.221226",
     "status": "completed"
    },
    "tags": []
   },
   "outputs": [
    {
     "name": "stdout",
     "output_type": "stream",
     "text": [
      "% train:  0.4208199969516842\n",
      "% val:  0.42066758116140834\n",
      "% test:  0.15851242188690748\n",
      "% train + val + test:  1.0\n",
      "\n",
      "\n",
      "number of train hamiltonians:  2761\n",
      "number of val hamiltonians:  2760\n",
      "number of test hamiltonians:  1040\n",
      "total number of hamiltonians:  6561\n",
      "\n",
      "\n",
      "train ids:  [838, 4860, 2448, 6243, 2432, 1023, 1340, 2615, 1902, 1197, 527, 1658, 5360, 340, 3722, 938, 5837, 622, 197, 1404, 76, 5290, 4575, 2860, 508, 139, 3462, 146, 5405, 2419, 3002, 5731, 4035, 5362, 2746, 2825, 4663, 465, 2176, 5117, 2862, 5961, 4293, 3943, 639, 3872, 5070, 3754, 5754, 6327, 5099, 3553, 2628, 3681, 1437, 5894, 1496, 5757, 5094, 2729, 3768, 3505, 1327, 2485, 1508, 1935, 2315, 5455, 5702, 5295, 1775, 3449, 1167, 1077, 1540, 1745, 2145, 3846, 4577, 2274, 5276, 1602, 4867, 1448, 766, 297, 4628, 2966, 2482, 3159, 2776, 6263, 4339, 2993, 6512, 6460, 4214, 4434, 3119, 3283, 5531, 887, 1424, 5476, 2629, 1330, 545, 1697, 1417, 149, 3401, 4297, 858, 1985, 1981, 3454, 3911, 3734, 4603, 15, 4062, 1992, 4832, 769, 2861, 2496, 2880, 5019, 564, 3071, 2000, 4165, 4147, 5760, 1268, 4514, 3009, 2439, 4209, 4695, 4491, 267, 6213, 2780, 533, 5691, 3897, 3546, 6087, 6530, 2384, 1269, 5114, 1158, 5217, 2613, 178, 3705, 6047, 3618, 5849, 6441, 5477, 5919, 2364, 6353, 2710, 4986, 4439, 3732, 4316, 155, 367, 3733, 4898, 1342, 438, 4105, 3674, 4996, 5065, 4818, 798, 6246, 1627, 119, 1491, 114, 539, 264, 1673, 5506, 1244, 1499, 2584, 2587, 4545, 3076, 4437, 5376, 3495, 2412, 3659, 1045, 3609, 5048, 1838, 3417, 3968, 4880, 1427, 2797, 1792, 2779, 4078, 2845, 2182, 3634, 3370, 1121, 4494, 4934, 3463, 5285, 3650, 1757, 3584, 4418, 5150, 4033, 1290, 2356, 1094, 1743, 5509, 5699, 32, 3791, 3478, 6401, 1248, 3006, 3951, 2473, 3888, 3671, 3673, 6108, 1510, 556, 1686, 6348, 853, 307, 5872, 5721, 1433, 3803, 4126, 5638, 5851, 4637, 5101, 1995, 5677, 5952, 363, 1454, 54, 5601, 5696, 1294, 2927, 4396, 2452, 6253, 1093, 3543, 2410, 5049, 1163, 2323, 3974, 2139, 3414, 3666, 3949, 3194, 882, 143, 611, 6142, 5020, 2992, 3015, 5616, 1336, 275, 1942, 2151, 1575, 5288, 1016, 2071, 3410, 6206, 3910, 4619, 1688, 3231, 4629, 384, 1351, 2307, 797, 3059, 5237, 4009, 2478, 2513, 6140, 1908, 6546, 2850, 4419, 4170, 3890, 3895, 6017, 321, 1115, 6434, 4774, 4244, 4994, 529, 6275, 2839, 3441, 6000, 4416, 4259, 1536, 2988, 3962, 2599, 5139, 1114, 6057, 2831, 1592, 5198, 6294, 6373, 3054, 3456, 1619, 5853, 3336, 5704, 3824, 4363, 3783, 6126, 5797, 4470, 3411, 1608, 3010, 1929, 6445, 1251, 4144, 1505, 5274, 2657, 1823, 2777, 1939, 2286, 1751, 4312, 260, 3434, 848, 4601, 161, 3755, 148, 68, 603, 3939, 4784, 361, 2635, 1291, 4412, 4071, 6094, 1458, 3465, 232, 3852, 3932, 2644, 2405, 2697, 3944, 1488, 2668, 4656, 110, 2983, 3377, 2654, 3328, 4808, 3680, 4426, 929, 5893, 4938, 3067, 5017, 557, 1172, 4504, 2189, 5391, 455, 5464, 5057, 591, 3459, 1856, 4387, 5062, 1649, 3307, 2068, 3881, 2175, 4217, 1333, 2734, 354, 51, 1202, 1368, 3901, 460, 4631, 1186, 1955, 5456, 4278, 4872, 6332, 4706, 4137, 5998, 6438, 3926, 5270, 2203, 1742, 6543, 4253, 6049, 4653, 3464, 5803, 2394, 2346, 2140, 5730, 3170, 4851, 5348, 1113, 3416, 3577, 4862, 5196, 3740, 5555, 6201, 130, 2985, 4783, 401, 3388, 303, 6106, 3549, 5241, 5447, 1766, 1925, 595, 4121, 6440, 3794, 4479, 1201, 3510, 3023, 4611, 6428, 3522, 1410, 790, 352, 187, 1793, 4053, 2521, 3431, 6002, 2227, 2317, 3871, 2113, 3978, 5693, 4553, 2095, 1747, 179, 1784, 2073, 4642, 1130, 3950, 4533, 4905, 138, 4551, 1509, 4584, 1777, 3269, 1702, 5359, 2801, 5379, 3537, 1791, 3767, 4709, 6254, 229, 4731, 447, 5482, 4011, 5130, 3422, 1048, 524, 1105, 3209, 5588, 5710, 5960, 2556, 1577, 4886, 3973, 308, 783, 3902, 2198, 5813, 4616, 4283, 4596, 3929, 4193, 184, 1522, 2963, 5549, 1034, 5440, 5468, 5694, 4908, 1119, 1783, 4861, 2272, 26, 1126, 3676, 5790, 4167, 2404, 5190, 1426, 192, 1264, 6444, 3796, 3805, 3257, 5946, 767, 259, 464, 4236, 1776, 3339, 3294, 3982, 3203, 6022, 2758, 5942, 2754, 4683, 3126, 4254, 1682, 1600, 3017, 3304, 3963, 1854, 5044, 4929, 5876, 4967, 5552, 3266, 6363, 4814, 2667, 1573, 341, 5953, 4560, 2007, 5478, 5269, 4478, 3315, 3728, 3256, 4793, 2881, 2720, 3898, 231, 4766, 1441, 784, 5608, 5160, 4874, 5012, 1265, 1738, 1545, 6516, 1653, 3334, 4741, 3229, 2823, 862, 185, 1951, 1933, 4287, 3343, 4117, 1850, 1019, 4489, 777, 1033, 2056, 65, 2465, 692, 2031, 5194, 2240, 3092, 385, 3298, 2283, 5715, 3301, 3446, 2647, 1816, 5439, 1124, 5599, 1257, 4303, 932, 4635, 4148, 3018, 3086, 624, 4812, 4576, 1298, 5698, 4298, 1904, 1270, 2892, 4521, 4000, 5852, 2415, 538, 43, 4124, 1909, 3748, 536, 590, 2849, 4979, 4506, 4328, 5857, 3400, 865, 3455, 58, 104, 6199, 402, 3100, 2122, 6256, 1998, 2695, 3190, 4272, 3724, 5370, 6170, 5357, 1657, 4795, 2170, 218, 4146, 3128, 1415, 4153, 1822, 682, 4369, 1843, 215, 1209, 4406, 3342, 4448, 6452, 3322, 5030, 5471, 2493, 6550, 6418, 1497, 3606, 435, 4763, 1621, 5674, 6284, 534, 2221, 4721, 2285, 5617, 5066, 1361, 1297, 220, 874, 2487, 3371, 2414, 1670, 5278, 4289, 4476, 6184, 1920, 425, 5683, 318, 3587, 64, 459, 5050, 1610, 1360, 949, 6083, 3909, 1836, 4442, 4143, 4458, 4583, 4525, 3688, 5051, 3713, 4877, 4012, 6356, 4469, 1893, 5349, 4171, 2888, 3210, 2080, 4185, 2361, 1122, 5451, 263, 3001, 3068, 2808, 2511, 750, 1350, 4563, 1004, 281, 5216, 5429, 6217, 616, 3024, 2875, 1346, 667, 5685, 6129, 585, 6198, 5138, 5272, 3789, 5686, 445, 3494, 2069, 4539, 5882, 3267, 2159, 2254, 6355, 3558, 6042, 695, 5999, 3758, 4655, 5592, 4001, 3207, 4651, 634, 3730, 3065, 6270, 6367, 4585, 2605, 1007, 2558, 3255, 137, 5427, 758, 2996, 372, 2325, 1746, 3966, 3586, 5146, 5786, 4914, 4748, 6495, 4536, 3636, 6251, 6480, 1183, 103, 3192, 859, 1442, 4671, 1588, 6171, 3211, 1166, 67, 4175, 3232, 5296, 3782, 5570, 1192, 2230, 46, 551, 1913, 965, 1432, 2735, 873, 1216, 2399, 106, 686, 4267, 2759, 1365, 1419, 5452, 4003, 2358, 1179, 3820, 1764, 3284, 3474, 1358, 4598, 2101, 3631, 4436, 1344, 4198, 3143, 2576, 270, 2111, 2449, 2669, 4805, 3340, 3662, 5516, 5425, 1672, 3863, 4093, 6091, 2891, 226, 236, 854, 2939, 2355, 4030, 5104, 3976, 4498, 5890, 458, 3883, 1245, 1455, 1027, 5317, 6193, 4047, 2829, 6511, 223, 1127, 2653, 3514, 4005, 3412, 5503, 1612, 5701, 5687, 2444, 1650, 1118, 5069, 5350, 4238, 5093, 3429, 2445, 804, 4235, 2062, 5612, 2494, 5211, 588, 2074, 1428, 1570, 5950, 3406, 5889, 3802, 1750, 3234, 5615, 5641, 721, 3338, 3760, 349, 3452, 5381, 2819, 6520, 4822, 2608, 5958, 1711, 5515, 3997, 4526, 4781, 4329, 5787, 2597, 1901, 1897, 5668, 4950, 2010, 4232, 3320, 4640, 5795, 316, 3072, 1380, 5382, 4902, 3088, 2782, 1289, 4978, 6541, 3244, 273, 3775, 1095, 5304, 1377, 2673, 1198, 4571, 3157, 4271, 4589, 754, 857, 208, 504, 228, 4648, 5717, 3471, 3490, 2253, 6544, 4689, 5564, 2034, 1285, 3517, 4869, 4161, 2982, 627, 3615, 2075, 3627, 1525, 4324, 6504, 2008, 1181, 396, 3264, 1081, 4610, 4373, 5524, 4621, 2732, 4074, 4206, 1707, 2846, 839, 3729, 6085, 3709, 2220, 3556, 5934, 1710, 6245, 3752, 1513, 2989, 5228, 3576, 1759, 2971, 1584, 1675, 670, 3672, 2714, 3435, 3369, 4686, 4241, 1006, 1595, 206, 2972, 302, 6325, 1938, 6419, 795, 6023, 5485, 158, 4564, 1356, 4258, 3829, 4202, 6210, 2411, 1278, 2895, 3701, 1037, 6509, 521, 2973, 79, 5924, 6342, 3654, 4273, 1663, 4609, 2529, 6096, 946, 3894, 5603, 4404, 1489, 4108, 2400, 285, 2813, 3368, 4933, 2795, 1266, 4879, 5648, 4237, 3058, 5792, 2781, 5758, 1117, 439, 1626, 5406, 265, 5404, 6408, 2887, 3557, 1359, 1195, 4323, 153, 1439, 6323, 5927, 1110, 2288, 4885, 6220, 4393, 4375, 5219, 2842, 2185, 1129, 5557, 2649, 5463, 4210, 1011, 4441, 5323, 3975, 2504, 2518, 2447, 604, 4944, 4602, 2312, 5265, 1651, 2771, 4330, 48, 3152, 4446, 4250, 5018, 2568, 917, 632, 4633, 3182, 3850, 3916, 3560, 2835, 2945, 2937, 3354, 4186, 4481, 6385, 5174, 181, 4305, 3759, 6522, 4050, 3559, 5473, 1104, 2278, 2241, 4769, 4234, 4499, 3504, 3964, 2651, 6453, 1528, 403, 5106, 4768, 4242, 4523, 5045, 6006, 6125, 3246, 522, 3677, 3720, 1078, 3706, 2174, 4773, 526, 4718, 3104, 6280, 6134, 5345, 5313, 3249, 19, 5403, 6137, 454, 4764, 5566, 5457, 861, 3935, 6187, 3616, 4477, 4163, 5267, 2712, 609, 618, 4056, 3853, 2878, 154, 3893, 1376, 3885, 3595, 1671, 2719, 1855, 3252, 2800, 1486, 4965, 210, 3835, 5587, 850, 2282, 845, 5921, 1116, 5126, 3037, 1504, 5025, 5110, 309, 4159, 3865, 3226, 5040, 717, 3699, 5798, 358, 5373, 2899, 369, 213, 856, 4699, 2351, 565, 4172, 5112, 4697, 3648, 3042, 837, 4190, 4216, 1704, 1566, 2237, 4042, 5896, 636, 6515, 1533, 180, 4102, 1674, 3799, 3800, 3545, 4022, 203, 3180, 5684, 4248, 5041, 2408, 2677, 5315, 1366, 2531, 675, 3430, 5026, 191, 129, 2028, 5892, 2426, 428, 6114, 2193, 2156, 2798, 3353, 1594, 1084, 4732, 6215, 4157, 5208, 3569, 6372, 5475, 2491, 3134, 5305, 473, 5302, 5568, 391, 3801, 4127, 6003, 5096, 6255, 394, 4110, 6319, 2469, 5937, 3500, 102, 6212, 6523, 152, 2731, 4534, 4354, 3442, 240, 225, 1447, 4806, 3573, 4468, 6174, 6001, 3810, 2446, 5680, 4269, 2815, 3089, 2084, 4652, 5996, 931, 5200, 3282, 5703, 6533, 3366, 5115, 4953, 863, 2932, 2362, 4276, 4371, 4973, 2757, 6499, 4983, 3914, 5264, 4909, 2554, 707, 3227, 4096, 2303, 6415, 5963, 672, 219, 5812, 6191, 2604, 3049, 3450, 3305, 4863, 5358, 374, 5197, 5218, 4952, 6502, 2722, 5867, 5444, 1112, 3184, 1918, 3582, 1654, 2242, 6274, 2258, 2658, 1005, 959, 685, 964, 1021, 4670, 1789, 4465, 6031, 5064, 2196, 958, 2612, 2926, 3372, 4587, 1770, 2574, 2684, 4223, 5970, 2022, 2683, 1744, 1729, 1182, 5722, 4789, 3243, 3945, 4109, 5842, 2505, 506, 5039, 4799, 4070, 5897, 5059, 2610, 2332, 5844, 4680, 4679, 2423, 1944, 765, 3093, 4306, 1246, 4882, 3335, 5929, 4939, 1414, 1825, 3242, 2453, 4599, 2225, 1355, 927, 4246, 2024, 6119, 864, 952, 1506, 3642, 2369, 3306, 855, 5105, 4542, 644, 209, 1516, 3270, 1106, 1945, 145, 3922, 2962, 764, 809, 6328, 5392, 2694, 700, 597, 3332, 317, 3286, 1190, 5325, 543, 3082, 5636, 2172, 6417, 230, 6524, 3483, 789, 2021, 443, 4435, 3073, 1813, 4724, 1003, 4085, 6337, 279, 3921, 5944, 2804, 66, 3333, 5395, 6099, 1987, 3166, 1239, 5977, 5975, 879, 4649, 725, 4930, 3986, 4257, 5183, 5284, 22, 2037, 5841, 2479, 2883, 3793, 888, 6116, 1756, 4343, 4752, 6079, 963, 3111, 1194, 3357, 3697, 1978, 4389, 3193, 2524, 3512, 5569, 3094, 5243, 4948, 709, 2450, 3135, 2844, 1868, 2919, 4321, 1337, 2602, 1579, 1733, 3217, 5321, 751, 3622, 2666, 342, 6468, 4302, 182, 6549, 20, 3751, 2958, 3373, 234, 5789, 1679, 785, 4334, 2009, 3590, 3750, 1364, 4027, 204, 781, 3599, 2700, 1996, 628, 78, 5688, 6437, 5042, 1514, 4778, 5556, 1157, 4775, 4089, 4850, 1753, 456, 5711, 6378, 1848, 6457, 1444, 4727, 1666, 5886, 5625, 668, 4211, 2593, 2898, 4480, 5869, 5443, 5122, 3749, 6345, 28, 5559, 59, 5143, 5430, 2104, 1111, 400, 156, 2509, 3687, 2674, 956, 4152, 791, 3996, 53, 2582, 4367, 5692, 2807, 6221, 596, 703, 446, 5713, 3838, 5805, 4893, 4730, 1997, 4002, 5796, 2326, 1177, 763, 2816, 3958, 5765, 6532, 3816, 2305, 3764, 1445, 4742, 2923, 1782, 3714, 1407, 56, 5346, 939, 6037, 75, 2762, 720, 782, 5368, 4046, 994, 4391, 1696, 3318, 2086, 5091, 912, 3649, 2889, 5371, 4388, 471, 4646, 3547, 5521, 6027, 1572, 967, 5268, 626, 6033, 3798, 2794, 1681, 4710, 4875, 1041, 5097, 4280, 3108, 2884, 2076, 1263, 2606, 4080, 561, 4945, 4187, 3236, 96, 5606, 1765, 3880, 4910, 2805, 945, 6259, 6382, 4887, 1820, 5836, 1215, 3292, 4892, 6321, 343, 2909, 942, 442, 1349, 3818, 2864, 356, 1328, 6247, 6224, 4802, 18, 834, 806, 6014, 969, 2277, 4337, 2344, 532, 786, 3077, 5672, 2350, 3099, 2552, 1583, 2228, 1691, 5344, 6250, 4083, 1203, 592, 3007, 2570, 1859, 6465, 4582, 5340, 5437, 3725, 6252, 4052, 619, 4440, 5277, 2643, 802, 943, 1133, 157, 6449, 5260, 3493, 2718, 757, 4912, 805, 6159, 926, 2348, 5201, 5145, 3078, 2716, 3470, 3903, 4318, 4415, 4767, 3253, 2257, 6347, 4981, 4044, 109, 5771, 4094, 4379, 4492, 6030, 4088, 4111, 5221, 3621, 5769, 2738, 2347, 2865, 5318, 6279, 4410, 6405, 4581, 441, 5932, 290, 3920, 5374, 4530, 3717, 953, 4617, 4060, 1131, 4224, 3472, 5213, 999, 562, 3529, 2039, 3644, 4807, 3508, 4399, 5804, 2017, 3639, 6351, 6463, 1990, 5127, 548, 5316, 3436, 2941, 3311, 4937, 6105, 2908, 5435, 2739, 1128, 4894, 2591, 4883, 2910, 503, 3061, 687, 3831, 5207, 1035, 6035, 3530, 4974, 5195, 4864, 1976, 2204, 3081, 1367, 3859, 6324, 1211, 2191, 1832, 1456, 2874, 4004, 5545, 2969, 5973, 1980, 5883, 1708, 6489, 5779, 2530, 2756, 1664, 2904, 5767, 4490, 4734, 4438, 3640, 3531, 1254, 950, 540, 1170, 4247, 3548, 198, 5280, 1953, 1695, 3499, 370, 3656, 3156, 6537, 679, 457, 5560, 3287, 6371, 6039, 4751, 1779, 1787, 99, 147, 3645, 1613, 6410, 4623, 2559, 2114, 4785, 877, 2255, 1590, 1930, 4333, 3866, 5072, 4036, 3633, 5459, 62, 5843, 4959, 5801, 3566, 5225, 5922, 1493, 3601, 483, 4207, 4361, 4828, 6458, 3847, 4976, 4261, 1207, 2367, 4149, 921, 4969, 4156, 3271, 1684, 2092, 940, 726, 1434, 3828, 4154, 3761, 1983, 1252, 1273, 3624, 5776, 1831, 2561, 3392, 1326, 525, 3603, 2696, 4225, 5103, 1858, 2011, 2359, 3561, 4555, 395, 4081, 6123, 3486, 4549, 5320, 3878, 5802, 1767, 5173, 2239, 13, 6519, 2723, 2893, 3136, 1903, 1092, 1292, 4311, 3882, 5079, 5387, 222, 3421, 3408, 3374, 3774, 2675, 3165, 4984, 645, 5782, 1102, 2607, 1620, 3098, 1507, 3873, 4140, 6194, 866, 1526, 3520, 2187, 2687, 1281, 6290, 1735, 5281, 1322, 5043, 4966, 4604, 2922, 5727, 5682, 6346, 6008, 3142, 4307, 5840, 1668, 1866, 5511, 1912, 451, 4038, 6291, 1494, 3132, 4899, 4086, 4131, 5505, 5854, 4358, 4256, 4612, 2639, 3668, 3138, 2121, 2070, 1085, 3753, 1841, 2577, 2967, 4503, 5611, 5784, 116, 211, 5604, 4233, 2566, 4464, 1008, 5705, 1196, 4932, 3515, 2502, 319, 2727, 1730, 1811, 6124, 276, 2171, 1683, 2271, 4790, 4398, 1132, 4502, 606, 5159, 292, 5925, 3188, 3355, 55, 589, 1761, 6545, 550, 4538, 514, 3891, 3845, 2562, 4091, 3554, 2901, 3528, 830, 4600, 5534, 4125, 3404, 1607, 646, 1022, 2663, 1785, 121, 3589, 612, 3960, 4113, 3809, 4532, 3473, 1379, 5354, 3741, 1025, 6496, 807, 883, 6209, 3238, 1616, 933, 5791, 2826, 1899, 2003, 5865, 3641, 2859, 775, 4693, 6092, 4878, 98, 6185, 3629, 6536, 272, 1778, 6359, 1484, 4847, 1790, 305, 6433, 6411, 3239, 772, 2105, 199, 4876, 3792, 6326, 3667, 346, 555, 4315, 6454, 3352, 3913, 3095, 6133, 1323, 4395, 6303, 3930, 4201, 6104, 1125, 1512, 1199, 2090, 704, 3350, 5185, 3501, 3707, 3131, 4935, 6341, 6538, 6400, 2984, 3819, 5480, 373, 4240, 5158, 2302, 2655, 314, 4231, 3438, 6518, 1604, 5242, 6121, 5634, 3841, 4114, 1296, 5240, 3721, 312, 2925, 2205, 962, 5271, 2914, 5263, 2601, 4567, 547, 3263, 2251, 3953, 5839, 1354, 5214, 69, 3602, 6024, 2803, 4954, 2093, 4299, 5643, 5161, 2741, 2123, 1255, 860, 1873, 4993, 5481, 4654, 3251, 3178, 3745, 4998, 1741, 6455, 1865, 3877, 313, 5833, 2499, 1284, 6352, 6540, 4467, 2671, 2471, 3399, 1693, 1001, 3977, 3937, 3458, 2425, 5157, 2764, 2409, 4032, 3815, 5957, 1845, 4736, 466, 530, 2645, 6439, 1667, 966, 1582, 3291, 286, 4714, 437, 5299, 5591, 258, 3613, 5098, 2181, 5941, 6286, 2907, 6492, 3693, 2603, 224, 696, 3840, 136, 4301, 1736, 2928, 5873, 74, 5472, 5433, 6128, 3739, 311, 2533, 2664, 4849, 3420, 1015, 5997, 6265, 6214, 1546, 159, 4006, 30, 323, 4285, 4067, 4472, 4578, 2911, 5484, 3107, 3106, 4968, 3957, 2467, 3887, 5038, 3708, 5123, 5847, 2389, 3087, 141, 6296, 5959, 4383, 4453, 1537, 3302, 4405, 1134, 3154, 6053, 4743, 3186, 4054, 2832, 528, 5056, 5147, 4356, 3448, 5966, 1185, 1535, 6501, 3013, 3539, 1521, 3551, 1250, 835, 5640, 4662, 1334, 3497, 868, 1097, 2481, 3513, 266, 5974, 4130, 4540, 4765, 676, 852, 4252, 4975, 4554, 3682, 3124, 4034, 1906, 1086, 5037, 1500, 3063, 4607, 3004, 1687, 3604, 3125, 1040, 531, 4342, 3703, 221, 2245, 2853, 3806, 4568, 2761, 5600, 5181, 566, 2023, 6365, 4488, 1100, 5289, 3121, 5645, 2263, 3389, 2916, 5298, 1614, 2986, 6078, 6416, 3245, 6161, 3299, 4788, 4622, 5624, 5885, 2110, 4309, 3488, 5341, 3689, 5967, 1099, 4782, 5553, 3746, 4483, 6461, 1363, 2249, 3375, 424, 833, 5466, 1098, 4160, 4451, 2476, 2488, 4904, 5303, 885, 1275, 242, 2851, 4177, 1652, 3535, 5266, 779, 1926, 4992, 3786, 1849, 4222, 1180, 1737, 2115, 1188, 4786, 5759, 2583, 1096, 5544, 2421, 935, 4462, 694, 379, 5421, 3105, 1771, 5132, 1173, 5718, 5046, 5224, 510, 1847, 5470, 426, 6535, 5363, 5279, 1824, 5487, 2661, 1762, 1519, 4368, 6469, 6459, 3965, 2154, 1834, 3274, 5751, 2811, 3669, 3147, 3763, 1544, 3181, 4296, 5307, 5976, 1423, 4949, 5868, 1861, 5714, 5690, 1599, 34, 3043, 1979, 4666, 5875, 4543, 1705, 2569, 3579, 269, 5763, 5438, 2160, 5538, 5179, 1815, 1529, 3329, 5067, 669, 2733, 1103, 183, 5100, 5928, 1002, 4103, 4735, 2152, 801, 1914, 5523, 2917, 3285, 870, 5036, 2116, 6517, 476, 3101, 6044, 2575, 3233]\n",
      "val ids:  [6183, 398, 3440, 3275, 3715, 5838, 3614, 4821, 1331, 2642, 5394, 3771, 2968, 2256, 4228, 2956, 1527, 2033, 5188, 2363, 5235, 2108, 4212, 880, 1162, 5834, 368, 3637, 5697, 2726, 2407, 3718, 2484, 4825, 1542, 6514, 5629, 6162, 1189, 2016, 4627, 642, 4310, 1184, 2327, 1648, 884, 6195, 4031, 6113, 4985, 4906, 5862, 4413, 1412, 3066, 376, 301, 3737, 5339, 2560, 3664, 5402, 36, 1286, 1989, 287, 3842, 4566, 708, 6107, 5400, 289, 2947, 3712, 4529, 304, 3469, 6222, 6169, 5129, 5589, 4097, 1569, 6366, 3849, 3439, 2308, 3070, 427, 6430, 3222, 4991, 6300, 3833, 1589, 6046, 2112, 635, 5522, 4613, 5864, 3398, 6242, 5508, 2489, 1869, 4450, 4466, 2772, 2168, 5399, 6197, 6493, 6138, 5366, 4357, 5949, 1840, 233, 380, 846, 5670, 5725, 2319, 3538, 1905, 189, 5294, 3050, 3127, 3308, 4958, 2717, 3386, 1191, 6414, 4350, 5361, 1948, 4618, 5590, 5598, 3660, 3868, 923, 1242, 6157, 1788, 5180, 4497, 2822, 6529, 5709, 2841, 2636, 4184, 5546, 5649, 4112, 629, 1661, 3947, 5131, 1605, 5385, 3247, 3064, 2711, 5766, 713, 4377, 1894, 4066, 2385, 5632, 5372, 1280, 5728, 3821, 1587, 6358, 1677, 5610, 5013, 3241, 6424, 5384, 2534, 4262, 1875, 364, 1754, 1703, 4703, 1932, 1402, 4634, 298, 3027, 2250, 1026, 1624, 4547, 6507, 382, 6374, 5810, 5799, 2393, 4115, 1952, 3224, 2324, 5073, 144, 5287, 2015, 2336, 4522, 5637, 4392, 4685, 3565, 108, 6329, 3183, 4484, 63, 3324, 5835, 4279, 2418, 773, 2896, 4858, 6211, 2397, 2802, 1958, 1768, 1826, 1169, 2633, 2818, 4133, 5679, 2981, 608, 3403, 3394, 479, 2959, 3409, 4749, 5891, 5356, 5023, 916, 3861, 914, 3491, 3826, 3479, 4136, 6521, 6109, 2931, 5978, 6082, 5859, 2223, 5861, 4537, 2005, 4455, 3731, 4487, 5061, 3851, 2246, 3765, 3427, 5750, 6166, 4205, 5226, 4940, 1038, 5398, 1817, 4364, 1299, 5565, 6481, 107, 4780, 2088, 2938, 4385, 5707, 1345, 4815, 3290, 4971, 6165, 6370, 617, 1531, 3151, 3550, 4515, 4199, 4414, 5107, 4362, 5628, 1243, 3719, 4519, 1374, 841, 322, 2646, 549, 2343, 5257, 4963, 4227, 3074, 5806, 2855, 1623, 5856, 3743, 761, 3313, 1381, 6015, 4374, 4116, 1159, 2631, 4200, 278, 5308, 2525, 5969, 714, 4475, 5119, 2650, 701, 5286, 6406, 1907, 3638, 3189, 2737, 6292, 716, 5390, 431, 4810, 2337, 4282, 2167, 2595, 3744, 1325, 5068, 3205, 5633, 4150, 2188, 2682, 4559, 261, 5229, 559, 4059, 2571, 4229, 5923, 6350, 4713, 1853, 6244, 2515, 610, 2433, 6080, 2715, 2268, 3090, 4687, 1047, 3813, 1568, 6277, 951, 3769, 6139, 2586, 3994, 344, 4848, 2077, 4989, 4605, 4433, 2094, 5193, 4750, 3303, 594, 3858, 6054, 6176, 6095, 727, 5605, 1539, 97, 2183, 4411, 1120, 6237, 6026, 4482, 195, 2248, 4704, 3999, 2436, 723, 4048, 6336, 4817, 239, 511, 2848, 3788, 1029, 3961, 4946, 283, 5133, 3924, 1921, 5465, 6387, 2169, 1898, 4701, 753, 5215, 6258, 2915, 117, 4158, 1833, 4531, 5962, 3376, 4725, 4408, 4658, 3225, 3164, 3084, 6362, 5076, 1523, 762, 3359, 693, 1271, 512, 2527, 6295, 5078, 6038, 5077, 4255, 6485, 5916, 2330, 1574, 4390, 4057, 2082, 4574, 3423, 930, 113, 2579, 2656, 5594, 2438, 2002, 1253, 1440, 4208, 2648, 6384, 2281, 2995, 1680, 1829, 5586, 5863, 2814, 3979, 366, 4188, 4372, 4424, 4552, 3908, 637, 6375, 1835, 3597, 5016, 544, 2310, 5189, 5513, 2960, 3879, 4061, 377, 1464, 132, 6285, 3956, 3918, 1335, 1438, 1515, 3174, 4189, 5047, 780, 2857, 5768, 614, 6196, 6497, 5541, 4501, 5994, 2264, 3168, 4319, 291, 3356, 4705, 4597, 5614, 1193, 519, 77, 995, 2098, 5971, 3176, 3770, 3289, 3684, 2087, 3039, 3019, 80, 3694, 6547, 1339, 4816, 4987, 190, 6276, 6482, 3773, 3451, 2833, 2778, 2699, 2035, 3524, 4039, 5650, 1662, 5884, 5396, 4650, 2921, 3988, 320, 5116, 1541, 5156, 4884, 3804, 71, 2057, 6503, 207, 4579, 6077, 6048, 5355, 2503, 1370, 2441, 5306, 3598, 2091, 5092, 2750, 5436, 3120, 3367, 6322, 126, 4277, 4401, 3310, 2060, 5533, 3972, 25, 1576, 4643, 5462, 2830, 4338, 6528, 3345, 1274, 5153, 112, 6427, 1760, 5428, 3351, 2497, 4507, 771, 1282, 2322, 1352, 4043, 3219, 5095, 6028, 4423, 2437, 6376, 4632, 5184, 3992, 6448, 2573, 2232, 4852, 3161, 844, 3927, 2640, 5074, 1690, 2064, 127, 6032, 3875, 2676, 481, 2957, 6164, 2096, 3736, 3016, 1911, 5719, 4830, 2262, 3319, 1288, 5756, 3571, 4569, 5520, 3496, 3137, 5619, 3583, 362, 2652, 5401, 5602, 4123, 3330, 3830, 3365, 6426, 2766, 6431, 3822, 1014, 3218, 6525, 6498, 2141, 2032, 4122, 6442, 697, 4889, 1758, 477, 3619, 3984, 1031, 3917, 6283, 6135, 554, 6204, 607, 2522, 4226, 3044, 3250, 5383, 2483, 913, 6160, 4295, 2472, 718, 3248, 5186, 1420, 1709, 1625, 1988, 2567, 4460, 1421, 843, 1206, 690, 598, 5144, 4588, 1511, 4927, 1618, 5454, 293, 630, 3536, 4417, 3993, 6357, 2858, 27, 1347, 6081, 5597, 133, 4729, 1676, 5314, 5543, 5426, 6127, 4421, 3003, 6361, 6534, 759, 2796, 436, 3779, 3008, 6248, 5142, 2990, 345, 4335, 1091, 2334, 1814, 5671, 386, 448, 5445, 5029, 5554, 3323, 755, 5113, 1503, 970, 1450, 3022, 3612, 4903, 2252, 5135, 4076, 2190, 705, 2837, 2944, 6462, 3477, 392, 5261, 5752, 1262, 4606, 268, 3487, 351, 5021, 4191, 6443, 4728, 1212, 2979, 2265, 2681, 2594, 6368, 1957, 3481, 5053, 4326, 4037, 6450, 6506, 2119, 876, 5772, 3527, 5134, 1660, 3325, 3502, 150, 3907, 4292, 2311, 2164, 770, 3258, 6101, 5814, 3346, 2029, 3711, 4636, 6059, 1343, 5651, 3052, 4454, 6192, 3083, 2614, 485, 3069, 3811, 4943, 1416, 5377, 6111, 1032, 1405, 3415, 5596, 3710, 1786, 4565, 105, 4947, 2027, 453, 4546, 3331, 432, 3790, 5022, 3011, 3122, 6429, 3670, 5027, 4556, 5010, 5914, 4045, 793, 4445, 4352, 1928, 6112, 2528, 2083, 3012, 2978, 2390, 4586, 1452, 125, 1089, 849, 5729, 1010, 724, 2843, 6513, 947, 2318, 3347, 3542, 1578, 3029, 1430, 3959, 16, 5448, 5210, 5723, 14, 4376, 6120, 4452, 1755, 5845, 3900, 4647, 1049, 678, 4017, 5995, 4215, 1656, 4120, 6399, 4550, 1655, 4715, 5510, 4353, 3428, 4325, 118, 3337, 3384, 2194, 643, 2079, 1896, 5149, 6318, 6467, 4716, 3317, 6181, 6016, 450, 3630, 2261, 6409, 778, 1043, 5431, 4384, 3519, 4962, 3489, 3628, 484, 306, 5933, 2847, 3316, 2589, 4615, 2163, 3533, 5199, 45, 546, 6304, 1187, 944, 523, 235, 1451, 4720, 3498, 216, 5367, 587, 2495, 5338, 1362, 1530, 6219, 681, 4787, 1009, 37, 4722, 41, 6412, 2924, 5342, 1406, 3133, 1088, 4243, 5008, 4570, 6223, 869, 4913, 2036, 3254, 482, 5517, 1870, 5706, 593, 3484, 2877, 3562, 683, 2828, 4082, 3237, 2934, 4798, 4218, 296, 29, 4982, 6369, 1012, 4270, 4459, 429, 1812, 5353, 2894, 5536, 4801, 3387, 2157, 4931, 4747, 1846, 4449, 4314, 5236, 3874, 5529, 2388, 4541, 3364, 2195, 3177, 6156, 3683, 2391, 4988, 4394, 673, 3379, 6088, 423, 2162, 3889, 601, 6205, 4970, 3928, 2001, 836, 3785, 300, 6281, 3309, 2617, 2905, 4844, 2767, 2078, 5877, 6278, 4824, 3564, 2102, 4804, 1425, 2004, 2063, 5708, 889, 4486, 787, 6158, 237, 794, 586, 4221, 4402, 4403, 3293, 3214, 3341, 3169, 4204, 2725, 5733, 6446, 5627, 2143, 6098, 2066, 1261, 1941, 1429, 3432, 4359, 3046, 284, 188, 3277, 924, 3886, 3797, 5871, 2059, 1678, 5783, 2662, 1208, 1293, 1580, 5141, 4572, 4360, 449, 5562, 193, 2383, 1781, 388, 5635, 353, 6241, 196, 1036, 4638, 2940, 131, 1828, 875, 1378, 3727, 2146, 5024, 4928, 1749, 1863, 6173, 2713, 2977, 277, 4049, 4471, 3766, 2475, 2429, 2592, 2998, 4014, 5052, 2991, 5128, 3260, 4688, 389, 2338, 4128, 633, 3808, 3480, 5347, 6188, 3541, 768, 1692, 2013, 5512, 3570, 5192, 954, 6261, 4897, 5375, 5642, 2275, 5778, 4073, 4118, 2025, 560, 5858, 4890, 4926, 2913, 4457, 1046, 3396, 2565, 6403, 6011, 5137, 6058, 1178, 4907, 3723, 355, 6167, 776, 2067, 6093, 1259, 4320, 5035, 4444, 3185, 5071, 688, 214, 52, 1205, 1247, 2321, 3276, 5525, 3827, 4386, 5764, 3139, 5695, 2817, 2755, 2233, 271, 3509, 6056, 3896, 3467, 4119, 4286, 4176, 2775, 541, 3923, 1867, 3028, 1821, 2946, 2202, 2598, 2809, 124, 4008, 3144, 2768, 5467, 1436, 1830, 1241, 5542, 3989, 3987, 5282, 1204, 1947, 3592, 5291, 3273, 689, 3511, 1279, 3998, 6551, 3201, 3204, 3611, 4955, 6179, 217, 6163, 2316, 1413, 4087, 3014, 4762, 4625, 3179, 6052, 2698, 6320, 3272, 3685, 4813, 6338, 2142, 462, 6548, 95, 5935, 4779, 2763, 3568, 2510, 4776, 2309, 2854, 3521, 4194, 5014, 5930, 4064, 3938, 38, 5965, 6207, 2099, 4327, 6531, 4856, 937, 176, 4249, 3832, 3383, 434, 5031, 1615, 5631, 2229, 2413, 1338, 5622, 151, 474, 5028, 4661, 5558, 3653, 3591, 1520, 3051, 5773, 5148, 5227, 2532, 4803, 6288, 1586, 1950, 6488, 4708, 2555, 2061, 1373, 4495, 4796, 6132, 70, 39, 463, 5262, 160, 4166, 4771, 4691, 5319, 2103, 5120, 2396, 2964, 3262, 3020, 5539, 1596, 1739, 3326, 3321, 1463, 50, 3405, 5954, 2081, 1076, 5322, 4859, 467, 6301, 1044, 2147, 3825, 3021, 6012, 6240, 1986, 4461, 6377, 399, 5755, 1256, 3485, 480, 5811, 3658, 2724, 4831, 142, 4058, 2637, 2792, 4432, 2564, 1028, 3171, 1283, 3625, 3912, 5968, 671, 4015, 3288, 4013, 4409, 4626, 6339, 5441, 3855, 5955, 294, 1107, 212, 4139, 1123, 4657, 2678, 5870, 4151, 6289, 3904, 2118, 5450, 2224, 4135, 2512, 1042, 383, 2238, 6527, 3691, 404, 702, 1321, 1956, 2320, 6262, 4294, 3079, 115, 3475, 2753, 3605, 2827, 6297, 5895, 5913, 3155, 3402, 3651, 3102, 3647, 800, 4397, 1839, 2745, 3202, 2836, 5530, 2287, 6330, 6178, 6103, 2148, 3221, 5669, 2886, 2665, 3123, 2266, 2975, 867, 4380, 5232, 1994, 5293, 1699, 4332, 73, 2517, 6089, 1659, 3516, 5151, 2748, 2304, 3130, 4524, 2744, 6110, 5646, 5033, 6122, 3187, 2192, 4370, 3532, 698, 72, 518, 3297, 1498, 3055, 1617, 5563, 4873, 1665, 2173, 3892, 5118, 5938, 1524, 3870, 3985, 1701, 890, 3235, 2342, 5075, 3295, 4422, 1357, 1329, 4811, 299, 3167, 832, 4518, 1020, 4995, 5809, 1353, 4829, 3876, 2165, 241, 563, 5423, 6084, 4702, 4025, 2138, 4719, 6034, 6238, 3726, 4528, 5936, 2339, 3162, 6218, 4174, 1108, 6021, 4245, 4072, 2490, 1585, 1975, 2352, 3268, 4313, 3588, 4016, 2936, 881, 4761, 4881, 3781, 2501, 3476, 422, 3344, 4726, 5258, 5878, 5238, 691, 2770, 699, 1772, 1161, 960, 4915, 1082, 6490, 5585, 1851, 33, 1819, 452, 1501, 4772, 1818, 3453, 17, 5233, 3884, 2244, 5054, 5613, 3704, 5770, 5514, 5561, 1517, 3762, 4723, 3158, 1827, 2641, 2557, 1837, 4896, 3600, 2403, 2144, 3679, 3129, 5618, 2747, 1418, 1734, 4142, 1276, 6435, 1411, 4355, 2177, 5720, 4400, 5032, 2398, 5547, 5504, 5880, 1954, 722, 4823, 194, 6273, 3191, 444, 4630, 2269, 4516, 5964, 6381, 5292, 1492, 6267, 3433, 1919, 4084, 4870, 6425, 5239, 1606, 475, 2930, 6344, 4010, 5108, 1051, 3931, 3991, 295, 4794, 4145, 2072, 3426, 1490, 2416, 1422, 6526, 2824, 6097, 134, 4667, 6264, 1453, 3695, 5259, 5639, 2721, 3952, 3698, 3041, 2279, 5951, 3150, 5678, 4853, 3657, 3025, 4960, 4425, 1534, 1213, 186, 3056, 535, 3899, 2006, 4711, 5519, 1408, 2357, 1462, 5775, 1164, 2609, 350, 641, 1431, 4857, 2691, 1024, 5109, 2235, 3482, 4641, 5222, 1937, 2026, 5102, 2679, 4865, 6208, 3581, 3665, 1927, 3784, 1277, 3312, 122, 1260, 2793, 2314, 5879, 5177, 3216, 509, 2918, 1934, 1874, 6402, 6090, 1371, 3777, 2590, 941, 1900, 752, 2730, 4288, 3096, 5681, 2507, 1443, 3795, 4791, 4284, 6249, 4381, 998, 205, 3057, 4777, 4845, 961, 2890, 3971, 6239, 4961, 3567, 2974, 1597, 2572, 4561, 4447, 5324, 5832, 5063, 461, 2526, 2329, 1740, 3652, 3097, 359, 1214, 3552, 1435, 2199, 4029, 393, 3692, 2752, 4239, 4304, 310, 5310, 5203, 4331, 3814, 1324, 4164, 2417, 2058, 4024, 3523, 6423, 5972, 3175, 6404, 6484, 1459, 2634, 623, 202, 2368, 4485, 2428, 1249, 3578, 2498, 1332, 3696, 3103, 1581, 2965, 3970, 1993, 5607, 1017, 621, 3836, 4738, 3395, 6190, 6075, 4141, 5623, 5762, 4548, 1982, 4957, 3580, 288, 1706, 2466, 365, 3393, 640, 1348, 3348, 3869, 2354, 1603, 6018, 553, 2197, 5918, 5527, 4251, 625, 1609, 6189, 5644, 6131, 5309, 2897, 1341, 3626, 2810, 2018, 1295, 505, 5866, 4474, 922, 3149, 3382, 4745, 1543, 4155, 5369, 4669, 2686, 5673, 4028, 3215, 1876, 262, 4911, 5388, 1871, 3153, 6293, 5815, 1571, 469, 6407, 1538, 6202, 2161, 2089, 3026, 100, 3145, 4620, 5716, 4291, 5176, 3385, 4095, 4178, 123, 6302, 3735, 3738, 3610, 3585, 3468, 6086, 1910, 3062, 4041, 934, 3955, 4378, 4132, 6050, 1372, 948, 4573, 3296, 6364, 6539, 1267, 5364, 749, 4855, 4696, 6494, 5187, 4493, 3349, 282, 1175, 5652, 468, 4173, 2019, 4351, 6354, 2395, 5209, 6386, 2508, 2885, 2514, 2158, 3946, 4349, 4645, 2186, 2799, 6464, 3053, 5848, 2749, 5461, 684, 1694, 4069, 5551, 3212, 6177, 4021, 4213, 5055, 1862, 2365, 4055, 2806, 4739, 3397, 4341, 5154, 1101, 2743, 6331, 6505, 6041, 23, 5256, 3646, 5204, 1030, 4106, 4846, 2856, 3413, 5855, 677, 5808, 3148, 3655, 605, 2548, 44, 3857, 1567, 710, 6451, 3702, 613, 2387, 2470, 6305, 1375, 1931, 3776, 2179, 3208, 6009, 4871, 315, 4990, 2166, 2184, 925, 1109, 3563, 4107, 2519, 3969, 3047, 1924, 1752, 5442, 5352, 2728, 5675, 5926, 4901, 2085, 5726, 5230, 5593, 1946, 513, 6136, 2976, 5121, 3085, 2155, 4079, 3981, 4336, 4833, 3844, 1923, 4026, 2333, 4219, 3005, 2882, 5182, 1409, 4951, 2259, 4868, 3518, 4077, 1685, 1446, 4941, 756, 4854, 4698, 2523, 2201, 5386, 6040, 24, 712, 6115, 3995, 1593, 57, 6102, 5136, 4797, 2270, 3173, 5125, 5732, 5595, 4520, 1622, 3990, 1698, 6379, 5231, 5846, 2435, 5446, 4624, 2659, 5724, 3905, 3843, 3314, 3864, 4196, 6456, 2353, 3503, 378, 1844, 4104, 3419, 2406, 5956, 3091, 5621, 2551, 5518, 4456, 135, 1176, 2474, 4463, 788, 997, 4668, 4737, 4558, 2553, 4197, 5850, 2443, 2014, 4694, 4770, 5351, 1852, 1943, 2451, 4192, 3757, 915, 5761, 2366, 638, 140, 2863, 6186, 4366, 6466, 5453, 919, 5206, 3787, 5793, 3742, 5948, 3839, 2812, 2178, 5424, 2942, 1050, 3941, 4092, 4134, 2273, 3915, 4344, 507, 3933, 4692, 4866, 2933, 2834, 1591, 674, 5483, 2906, 5389, 6271, 371, 2267, 1457, 4274, 1487, 1732, 4562, 6172, 6349, 2149, 4936, 4365, 4733, 6333, 878, 1864, 3327, 3643, 3623, 3756, 3418, 1502, 6266, 2402, 1200, 5301, 5202, 3230, 517, 1518, 5888, 872, 774, 3457, 1258, 2742, 1532, 5526, 397, 470, 5432, 2903, 3856, 1018, 5917, 3934, 5009, 6257, 620, 5311, 4557, 2638, 968, 2422, 5788, 6487, 5774, 5191, 4220, 1977, 5111, 2370, 971, 4407, 5881, 4956, 4690, 2578, 4203, 831, 4505, 6076, 5567, 5943, 5887, 101, 1842, 2313, 3172, 957, 3837, 4063, 2331, 3617, 5312, 851, 2506, 3747, 6025, 2879, 6045, 5393, 128, 2226, 47, 4644, 871, 6055, 357, 3678, 706, 2821, 2672, 6508, 1916, 2236, 2243, 6203, 2611, 5034, 4681, 4608, 1598, 5550, 5234, 6421, 2685, 5785, 5535, 5807, 1079, 4230, 615, 2477, 2688, 1936, 4888, 3461, 996, 1210, 3141, 2902, 1168, 3593, 2442, 6483, 2434, 1769, 5609, 3967, 5397, 3534, 715, 35, 2769, 4195, 2328, 542, 1773, 5378, 348, 4826, 1915, 3778, 5630, 1999, 4827, 4527, 796, 599, 2468, 4068, 3906, 4712, 5124, 3437, 2349, 3635, 2486, 6060, 3075, 3716, 558, 5874, 2535, 516, 5479, 3594, 955, 2012, 1628, 60, 2693, 1171, 2430, 1174, 3507, 799, 61, 6118, 6436, 2563, 3259, 5486, 6036, 3040, 2030, 1165, 808, 2492, 6542, 4007, 1731, 2549, 2547, 515, 6510, 4051, 5058, 4065, 5212, 1083, 2765, 4717, 3925, 5273, 4129, 886, 3572, 31, 3575, 1748, 1449, 5712, 3807, 4972, 2431, 5178, 3980, 4268, 1917, 3228, 3596, 2065, 5931, 1287, 4308, 3919, 4275, 6298, 6268, 4322, 1763, 3163, 3492, 2588, 1013, 3038, 2773, 3045, 2751, 3661, 2994, 4168, 5777, 2231, 1495, 5947, 4800, 2987, 4792, 1895, 2838, 5626, 5015, 3817, 928, 1272, 6486, 111, 6051, 2943, 4040, 5223, 1669, 4382, 6287, 4517, 2107, 842, 2550, 4544, 803, 6175, 6005, 3112, 728, 3632, 430, 2038, 5175, 2876, 6491, 602, 3867, 4664, 2247, 2961, 2970, 6282, 2616, 6010, 5434, 4300, 4639, 433, 5422, 2774, 2345, 6182, 6432, 6380, 6200, 2912, 4138, 5275, 4744, 5753, 1991, 5205, 3390, 2630, 4891, 5676, 1601, 711, 3447, 3378, 2276, 719, 4997, 3381, 2392, 2401, 21, 5297, 2109, 4179, 3823, 6130, 3574, 2386, 4290, 4443, 5449, 5794, 42, 4809, 1774, 4707, 6043, 3425, 631, 1922, 6216, 3109, 6117, 5781, 274, 2480, 3948, 2736, 2117, 3407, 2670, 4964, 6272, 6335, 6269, 1403, 6019, 3466, 2427, 936, 4665, 5507, 3223, 2935, 5343, 375, 5532, 3675, 2284, 3862, 5365, 3848, 918, 4977, 1052, 3048, 177, 1949, 3424, 6013, 4317, 6334, 1090, 4090, 1039, 4281, 3555, 478, 6343, 381, 6299, 3812, 5474, 3506, 4098, 3983, 5920, 647, 1611, 238, 4535, 2692, 6422, 3391, 4834, 387, 6007, 1689, 2097, 4819, 6413, 5537, 2153, 1984, 5469, 3544, 552, 4023, 472, 4942, 5647, 2581, 4075, 2852, 1087, 4700, 2689, 4659, 5548, 2955, 6141, 2335, 4916, 3663, 5152, 4169, 6383, 1857, 6004, 4614, 1485, 5458, 6360, 6447, 3954, 2306, 2301, 2234, 4682, 5528, 5800, 3942, 4746, 49, 3110, 3146, 3358, 5939, 2632, 1461, 5689, 347, 5488, 5011, 2585, 227, 3206, 3834, 2222, 2690, 2997, 2929, 3261, 390, 4473, 2150, 2516, 3213, 2424, 5283, 1460, 201, 6168, 4162, 5915, 2341, 2106, 1369, 2999, 4895, 1872, 6029, 4684, 4496, 792, 537, 5155, 2596, 3265, 5945, 847, 3686]\n",
      "test ids:  [0, 1, 2, 3, 4, 5, 6, 7, 8, 9, 10, 11, 12, 40, 81, 82, 83, 84, 85, 86, 87, 88, 89, 90, 91, 92, 93, 94, 120, 162, 163, 164, 165, 166, 167, 168, 169, 170, 171, 172, 173, 174, 175, 200, 243, 244, 245, 246, 247, 248, 249, 250, 251, 252, 253, 254, 255, 256, 257, 280, 324, 325, 326, 327, 328, 329, 330, 331, 332, 333, 334, 335, 336, 337, 338, 339, 360, 405, 406, 407, 408, 409, 410, 411, 412, 413, 414, 415, 416, 417, 418, 419, 420, 421, 440, 486, 487, 488, 489, 490, 491, 492, 493, 494, 495, 496, 497, 498, 499, 500, 501, 502, 520, 567, 568, 569, 570, 571, 572, 573, 574, 575, 576, 577, 578, 579, 580, 581, 582, 583, 584, 600, 648, 649, 650, 651, 652, 653, 654, 655, 656, 657, 658, 659, 660, 661, 662, 663, 664, 665, 666, 680, 729, 730, 731, 732, 733, 734, 735, 736, 737, 738, 739, 740, 741, 742, 743, 744, 745, 746, 747, 748, 760, 810, 811, 812, 813, 814, 815, 816, 817, 818, 819, 820, 821, 822, 823, 824, 825, 826, 827, 828, 829, 840, 891, 892, 893, 894, 895, 896, 897, 898, 899, 900, 901, 902, 903, 904, 905, 906, 907, 908, 909, 910, 911, 920, 972, 973, 974, 975, 976, 977, 978, 979, 980, 981, 982, 983, 984, 985, 986, 987, 988, 989, 990, 991, 992, 993, 1000, 1053, 1054, 1055, 1056, 1057, 1058, 1059, 1060, 1061, 1062, 1063, 1064, 1065, 1066, 1067, 1068, 1069, 1070, 1071, 1072, 1073, 1074, 1075, 1080, 1135, 1136, 1137, 1138, 1139, 1140, 1141, 1142, 1143, 1144, 1145, 1146, 1147, 1148, 1149, 1150, 1151, 1152, 1153, 1154, 1155, 1156, 1160, 1217, 1218, 1219, 1220, 1221, 1222, 1223, 1224, 1225, 1226, 1227, 1228, 1229, 1230, 1231, 1232, 1233, 1234, 1235, 1236, 1237, 1238, 1240, 1300, 1301, 1302, 1303, 1304, 1305, 1306, 1307, 1308, 1309, 1310, 1311, 1312, 1313, 1314, 1315, 1316, 1317, 1318, 1319, 1320, 1382, 1383, 1384, 1385, 1386, 1387, 1388, 1389, 1390, 1391, 1392, 1393, 1394, 1395, 1396, 1397, 1398, 1399, 1400, 1401, 1465, 1466, 1467, 1468, 1469, 1470, 1471, 1472, 1473, 1474, 1475, 1476, 1477, 1478, 1479, 1480, 1481, 1482, 1483, 1547, 1548, 1549, 1550, 1551, 1552, 1553, 1554, 1555, 1556, 1557, 1558, 1559, 1560, 1561, 1562, 1563, 1564, 1565, 1629, 1630, 1631, 1632, 1633, 1634, 1635, 1636, 1637, 1638, 1639, 1640, 1641, 1642, 1643, 1644, 1645, 1646, 1647, 1700, 1712, 1713, 1714, 1715, 1716, 1717, 1718, 1719, 1720, 1721, 1722, 1723, 1724, 1725, 1726, 1727, 1728, 1780, 1794, 1795, 1796, 1797, 1798, 1799, 1800, 1801, 1802, 1803, 1804, 1805, 1806, 1807, 1808, 1809, 1810, 1860, 1877, 1878, 1879, 1880, 1881, 1882, 1883, 1884, 1885, 1886, 1887, 1888, 1889, 1890, 1891, 1892, 1940, 1959, 1960, 1961, 1962, 1963, 1964, 1965, 1966, 1967, 1968, 1969, 1970, 1971, 1972, 1973, 1974, 2020, 2040, 2041, 2042, 2043, 2044, 2045, 2046, 2047, 2048, 2049, 2050, 2051, 2052, 2053, 2054, 2055, 2100, 2120, 2124, 2125, 2126, 2127, 2128, 2129, 2130, 2131, 2132, 2133, 2134, 2135, 2136, 2137, 2180, 2200, 2206, 2207, 2208, 2209, 2210, 2211, 2212, 2213, 2214, 2215, 2216, 2217, 2218, 2219, 2260, 2280, 2289, 2290, 2291, 2292, 2293, 2294, 2295, 2296, 2297, 2298, 2299, 2300, 2340, 2360, 2371, 2372, 2373, 2374, 2375, 2376, 2377, 2378, 2379, 2380, 2381, 2382, 2420, 2440, 2454, 2455, 2456, 2457, 2458, 2459, 2460, 2461, 2462, 2463, 2464, 2500, 2520, 2536, 2537, 2538, 2539, 2540, 2541, 2542, 2543, 2544, 2545, 2546, 2580, 2600, 2618, 2619, 2620, 2621, 2622, 2623, 2624, 2625, 2626, 2627, 2660, 2680, 2701, 2702, 2703, 2704, 2705, 2706, 2707, 2708, 2709, 2740, 2760, 2783, 2784, 2785, 2786, 2787, 2788, 2789, 2790, 2791, 2820, 2840, 2866, 2867, 2868, 2869, 2870, 2871, 2872, 2873, 2900, 2920, 2948, 2949, 2950, 2951, 2952, 2953, 2954, 2980, 3000, 3030, 3031, 3032, 3033, 3034, 3035, 3036, 3060, 3080, 3113, 3114, 3115, 3116, 3117, 3118, 3140, 3160, 3195, 3196, 3197, 3198, 3199, 3200, 3220, 3240, 3278, 3279, 3280, 3281, 3300, 3360, 3361, 3362, 3363, 3380, 3443, 3444, 3445, 3460, 3525, 3526, 3540, 3607, 3608, 3620, 3690, 3700, 3772, 3780, 3854, 3860, 3936, 3940, 4018, 4019, 4020, 4099, 4100, 4101, 4180, 4181, 4182, 4183, 4260, 4263, 4264, 4265, 4266, 4340, 4345, 4346, 4347, 4348, 4420, 4427, 4428, 4429, 4430, 4431, 4500, 4508, 4509, 4510, 4511, 4512, 4513, 4580, 4590, 4591, 4592, 4593, 4594, 4595, 4660, 4672, 4673, 4674, 4675, 4676, 4677, 4678, 4740, 4753, 4754, 4755, 4756, 4757, 4758, 4759, 4760, 4820, 4835, 4836, 4837, 4838, 4839, 4840, 4841, 4842, 4843, 4900, 4917, 4918, 4919, 4920, 4921, 4922, 4923, 4924, 4925, 4980, 4999, 5000, 5001, 5002, 5003, 5004, 5005, 5006, 5007, 5060, 5080, 5081, 5082, 5083, 5084, 5085, 5086, 5087, 5088, 5089, 5090, 5140, 5162, 5163, 5164, 5165, 5166, 5167, 5168, 5169, 5170, 5171, 5172, 5220, 5244, 5245, 5246, 5247, 5248, 5249, 5250, 5251, 5252, 5253, 5254, 5255, 5300, 5326, 5327, 5328, 5329, 5330, 5331, 5332, 5333, 5334, 5335, 5336, 5337, 5380, 5407, 5408, 5409, 5410, 5411, 5412, 5413, 5414, 5415, 5416, 5417, 5418, 5419, 5420, 5460, 5489, 5490, 5491, 5492, 5493, 5494, 5495, 5496, 5497, 5498, 5499, 5500, 5501, 5502, 5540, 5571, 5572, 5573, 5574, 5575, 5576, 5577, 5578, 5579, 5580, 5581, 5582, 5583, 5584, 5620, 5653, 5654, 5655, 5656, 5657, 5658, 5659, 5660, 5661, 5662, 5663, 5664, 5665, 5666, 5667, 5700, 5734, 5735, 5736, 5737, 5738, 5739, 5740, 5741, 5742, 5743, 5744, 5745, 5746, 5747, 5748, 5749, 5780, 5816, 5817, 5818, 5819, 5820, 5821, 5822, 5823, 5824, 5825, 5826, 5827, 5828, 5829, 5830, 5831, 5860, 5898, 5899, 5900, 5901, 5902, 5903, 5904, 5905, 5906, 5907, 5908, 5909, 5910, 5911, 5912, 5940, 5979, 5980, 5981, 5982, 5983, 5984, 5985, 5986, 5987, 5988, 5989, 5990, 5991, 5992, 5993, 6020, 6061, 6062, 6063, 6064, 6065, 6066, 6067, 6068, 6069, 6070, 6071, 6072, 6073, 6074, 6100, 6143, 6144, 6145, 6146, 6147, 6148, 6149, 6150, 6151, 6152, 6153, 6154, 6155, 6180, 6225, 6226, 6227, 6228, 6229, 6230, 6231, 6232, 6233, 6234, 6235, 6236, 6260, 6306, 6307, 6308, 6309, 6310, 6311, 6312, 6313, 6314, 6315, 6316, 6317, 6340, 6388, 6389, 6390, 6391, 6392, 6393, 6394, 6395, 6396, 6397, 6398, 6420, 6470, 6471, 6472, 6473, 6474, 6475, 6476, 6477, 6478, 6479, 6500, 6552, 6553, 6554, 6555, 6556, 6557, 6558, 6559, 6560]\n",
      "CPU times: user 161 ms, sys: 16 ms, total: 177 ms\n",
      "Wall time: 176 ms\n"
     ]
    }
   ],
   "source": [
    "%%time\n",
    "n_total = len(simulation.dataframe)\n",
    "n_train = len(simulation.dataframe[simulation.dataframe.type_of == \"train\"])\n",
    "n_val = len(simulation.dataframe[simulation.dataframe.type_of == \"val\"])\n",
    "n_test = len(simulation.dataframe[simulation.dataframe.type_of == \"test\"])\n",
    "n_train_hamiltonians = len(simulation.train_ids)\n",
    "n_val_hamiltonians = len(simulation.val_ids)\n",
    "n_test_hamiltonians = len(simulation.test_ids)\n",
    "n_total_hamiltonians = n_train_hamiltonians + n_val_hamiltonians + n_test_hamiltonians\n",
    "\n",
    "print(\"% train: \", n_train/n_total)\n",
    "print(\"% val: \",  n_val/n_total)\n",
    "print(\"% test: \", n_test/n_total)\n",
    "print(\"% train + val + test: \", (n_train+n_val+n_test)/n_total)\n",
    "print(\"\\n\")\n",
    "print(\"number of train hamiltonians: \", n_train_hamiltonians)\n",
    "print(\"number of val hamiltonians: \", n_val_hamiltonians)\n",
    "print(\"number of test hamiltonians: \", n_test_hamiltonians)\n",
    "print(\"total number of hamiltonians: \", n_total_hamiltonians)\n",
    "print(\"\\n\")\n",
    "print(\"train ids: \", simulation.train_ids)\n",
    "print(\"val ids: \", simulation.val_ids)\n",
    "print(\"test ids: \", simulation.test_ids)"
   ]
  },
  {
   "cell_type": "markdown",
   "metadata": {
    "papermill": {
     "duration": 0.037198,
     "end_time": "2020-07-09T20:33:12.517821",
     "exception": false,
     "start_time": "2020-07-09T20:33:12.480623",
     "status": "completed"
    },
    "tags": []
   },
   "source": [
    "#### Checking summaries"
   ]
  },
  {
   "cell_type": "code",
   "execution_count": 27,
   "metadata": {
    "execution": {
     "iopub.execute_input": "2020-07-09T20:33:12.590198Z",
     "iopub.status.busy": "2020-07-09T20:33:12.589883Z",
     "iopub.status.idle": "2020-07-09T20:33:12.609463Z",
     "shell.execute_reply": "2020-07-09T20:33:12.609145Z"
    },
    "papermill": {
     "duration": 0.056665,
     "end_time": "2020-07-09T20:33:12.609515",
     "exception": false,
     "start_time": "2020-07-09T20:33:12.552850",
     "status": "completed"
    },
    "tags": []
   },
   "outputs": [
    {
     "name": "stdout",
     "output_type": "stream",
     "text": [
      "length of ham_summary:  6561\n",
      "CPU times: user 99 µs, sys: 0 ns, total: 99 µs\n",
      "Wall time: 56.3 µs\n"
     ]
    },
    {
     "data": {
      "text/html": [
       "<div>\n",
       "<style scoped>\n",
       "    .dataframe tbody tr th:only-of-type {\n",
       "        vertical-align: middle;\n",
       "    }\n",
       "\n",
       "    .dataframe tbody tr th {\n",
       "        vertical-align: top;\n",
       "    }\n",
       "\n",
       "    .dataframe thead th {\n",
       "        text-align: right;\n",
       "    }\n",
       "</style>\n",
       "<table border=\"1\" class=\"dataframe\">\n",
       "  <thead>\n",
       "    <tr style=\"text-align: right;\">\n",
       "      <th></th>\n",
       "      <th>t1</th>\n",
       "      <th>t2</th>\n",
       "      <th>type_of</th>\n",
       "      <th>-1</th>\n",
       "      <th>0</th>\n",
       "      <th>1</th>\n",
       "      <th>2</th>\n",
       "      <th>phase</th>\n",
       "      <th>pred_phase</th>\n",
       "    </tr>\n",
       "    <tr>\n",
       "      <th>id</th>\n",
       "      <th></th>\n",
       "      <th></th>\n",
       "      <th></th>\n",
       "      <th></th>\n",
       "      <th></th>\n",
       "      <th></th>\n",
       "      <th></th>\n",
       "      <th></th>\n",
       "      <th></th>\n",
       "    </tr>\n",
       "  </thead>\n",
       "  <tbody>\n",
       "    <tr>\n",
       "      <th>0</th>\n",
       "      <td>-2.0</td>\n",
       "      <td>-2.00</td>\n",
       "      <td>test</td>\n",
       "      <td>0.12</td>\n",
       "      <td>0.10</td>\n",
       "      <td>0.27</td>\n",
       "      <td>0.51</td>\n",
       "      <td>999</td>\n",
       "      <td>2</td>\n",
       "    </tr>\n",
       "    <tr>\n",
       "      <th>1</th>\n",
       "      <td>-2.0</td>\n",
       "      <td>-1.95</td>\n",
       "      <td>test</td>\n",
       "      <td>0.16</td>\n",
       "      <td>0.13</td>\n",
       "      <td>0.23</td>\n",
       "      <td>0.48</td>\n",
       "      <td>-1</td>\n",
       "      <td>2</td>\n",
       "    </tr>\n",
       "    <tr>\n",
       "      <th>2</th>\n",
       "      <td>-2.0</td>\n",
       "      <td>-1.90</td>\n",
       "      <td>test</td>\n",
       "      <td>0.15</td>\n",
       "      <td>0.11</td>\n",
       "      <td>0.25</td>\n",
       "      <td>0.49</td>\n",
       "      <td>-1</td>\n",
       "      <td>2</td>\n",
       "    </tr>\n",
       "    <tr>\n",
       "      <th>3</th>\n",
       "      <td>-2.0</td>\n",
       "      <td>-1.85</td>\n",
       "      <td>test</td>\n",
       "      <td>0.20</td>\n",
       "      <td>0.11</td>\n",
       "      <td>0.23</td>\n",
       "      <td>0.46</td>\n",
       "      <td>-1</td>\n",
       "      <td>2</td>\n",
       "    </tr>\n",
       "    <tr>\n",
       "      <th>4</th>\n",
       "      <td>-2.0</td>\n",
       "      <td>-1.80</td>\n",
       "      <td>test</td>\n",
       "      <td>0.28</td>\n",
       "      <td>0.08</td>\n",
       "      <td>0.19</td>\n",
       "      <td>0.45</td>\n",
       "      <td>-1</td>\n",
       "      <td>2</td>\n",
       "    </tr>\n",
       "    <tr>\n",
       "      <th>...</th>\n",
       "      <td>...</td>\n",
       "      <td>...</td>\n",
       "      <td>...</td>\n",
       "      <td>...</td>\n",
       "      <td>...</td>\n",
       "      <td>...</td>\n",
       "      <td>...</td>\n",
       "      <td>...</td>\n",
       "      <td>...</td>\n",
       "    </tr>\n",
       "    <tr>\n",
       "      <th>6556</th>\n",
       "      <td>2.0</td>\n",
       "      <td>1.80</td>\n",
       "      <td>test</td>\n",
       "      <td>0.36</td>\n",
       "      <td>0.04</td>\n",
       "      <td>0.04</td>\n",
       "      <td>0.56</td>\n",
       "      <td>-1</td>\n",
       "      <td>2</td>\n",
       "    </tr>\n",
       "    <tr>\n",
       "      <th>6557</th>\n",
       "      <td>2.0</td>\n",
       "      <td>1.85</td>\n",
       "      <td>test</td>\n",
       "      <td>0.27</td>\n",
       "      <td>0.07</td>\n",
       "      <td>0.04</td>\n",
       "      <td>0.62</td>\n",
       "      <td>-1</td>\n",
       "      <td>2</td>\n",
       "    </tr>\n",
       "    <tr>\n",
       "      <th>6558</th>\n",
       "      <td>2.0</td>\n",
       "      <td>1.90</td>\n",
       "      <td>test</td>\n",
       "      <td>0.25</td>\n",
       "      <td>0.03</td>\n",
       "      <td>0.04</td>\n",
       "      <td>0.68</td>\n",
       "      <td>-1</td>\n",
       "      <td>2</td>\n",
       "    </tr>\n",
       "    <tr>\n",
       "      <th>6559</th>\n",
       "      <td>2.0</td>\n",
       "      <td>1.95</td>\n",
       "      <td>test</td>\n",
       "      <td>0.19</td>\n",
       "      <td>0.05</td>\n",
       "      <td>0.07</td>\n",
       "      <td>0.69</td>\n",
       "      <td>-1</td>\n",
       "      <td>2</td>\n",
       "    </tr>\n",
       "    <tr>\n",
       "      <th>6560</th>\n",
       "      <td>2.0</td>\n",
       "      <td>2.00</td>\n",
       "      <td>test</td>\n",
       "      <td>0.18</td>\n",
       "      <td>0.07</td>\n",
       "      <td>0.08</td>\n",
       "      <td>0.67</td>\n",
       "      <td>999</td>\n",
       "      <td>2</td>\n",
       "    </tr>\n",
       "  </tbody>\n",
       "</table>\n",
       "<p>6561 rows × 9 columns</p>\n",
       "</div>"
      ],
      "text/plain": [
       "       t1    t2 type_of    -1     0     1     2  phase  pred_phase\n",
       "id                                                                \n",
       "0    -2.0 -2.00    test  0.12  0.10  0.27  0.51    999           2\n",
       "1    -2.0 -1.95    test  0.16  0.13  0.23  0.48     -1           2\n",
       "2    -2.0 -1.90    test  0.15  0.11  0.25  0.49     -1           2\n",
       "3    -2.0 -1.85    test  0.20  0.11  0.23  0.46     -1           2\n",
       "4    -2.0 -1.80    test  0.28  0.08  0.19  0.45     -1           2\n",
       "...   ...   ...     ...   ...   ...   ...   ...    ...         ...\n",
       "6556  2.0  1.80    test  0.36  0.04  0.04  0.56     -1           2\n",
       "6557  2.0  1.85    test  0.27  0.07  0.04  0.62     -1           2\n",
       "6558  2.0  1.90    test  0.25  0.03  0.04  0.68     -1           2\n",
       "6559  2.0  1.95    test  0.19  0.05  0.07  0.69     -1           2\n",
       "6560  2.0  2.00    test  0.18  0.07  0.08  0.67    999           2\n",
       "\n",
       "[6561 rows x 9 columns]"
      ]
     },
     "execution_count": 27,
     "metadata": {},
     "output_type": "execute_result"
    }
   ],
   "source": [
    "%%time\n",
    "ham_summary = simulation.hamiltonian_summary\n",
    "print(\"length of ham_summary: \", len(ham_summary))\n",
    "ham_summary"
   ]
  },
  {
   "cell_type": "code",
   "execution_count": 28,
   "metadata": {
    "execution": {
     "iopub.execute_input": "2020-07-09T20:33:12.685783Z",
     "iopub.status.busy": "2020-07-09T20:33:12.685460Z",
     "iopub.status.idle": "2020-07-09T20:33:12.717301Z",
     "shell.execute_reply": "2020-07-09T20:33:12.716977Z"
    },
    "papermill": {
     "duration": 0.071583,
     "end_time": "2020-07-09T20:33:12.717354",
     "exception": false,
     "start_time": "2020-07-09T20:33:12.645771",
     "status": "completed"
    },
    "tags": []
   },
   "outputs": [
    {
     "data": {
      "text/html": [
       "<div>\n",
       "<style scoped>\n",
       "    .dataframe tbody tr th:only-of-type {\n",
       "        vertical-align: middle;\n",
       "    }\n",
       "\n",
       "    .dataframe tbody tr th {\n",
       "        vertical-align: top;\n",
       "    }\n",
       "\n",
       "    .dataframe thead th {\n",
       "        text-align: right;\n",
       "    }\n",
       "</style>\n",
       "<table border=\"1\" class=\"dataframe\">\n",
       "  <thead>\n",
       "    <tr style=\"text-align: right;\">\n",
       "      <th></th>\n",
       "      <th>t1</th>\n",
       "      <th>t2</th>\n",
       "      <th>-1</th>\n",
       "      <th>0</th>\n",
       "      <th>1</th>\n",
       "      <th>2</th>\n",
       "      <th>phase</th>\n",
       "      <th>pred_phase</th>\n",
       "    </tr>\n",
       "  </thead>\n",
       "  <tbody>\n",
       "    <tr>\n",
       "      <th>count</th>\n",
       "      <td>6561.000000</td>\n",
       "      <td>6.561000e+03</td>\n",
       "      <td>6561.000000</td>\n",
       "      <td>6561.000000</td>\n",
       "      <td>6561.000000</td>\n",
       "      <td>6561.000000</td>\n",
       "      <td>6561.000000</td>\n",
       "      <td>6561.000000</td>\n",
       "    </tr>\n",
       "    <tr>\n",
       "      <th>mean</th>\n",
       "      <td>0.000000</td>\n",
       "      <td>-4.331917e-18</td>\n",
       "      <td>0.197482</td>\n",
       "      <td>0.298613</td>\n",
       "      <td>0.306167</td>\n",
       "      <td>0.197738</td>\n",
       "      <td>28.045877</td>\n",
       "      <td>0.522481</td>\n",
       "    </tr>\n",
       "    <tr>\n",
       "      <th>std</th>\n",
       "      <td>1.169134</td>\n",
       "      <td>1.169134e+00</td>\n",
       "      <td>0.369102</td>\n",
       "      <td>0.439889</td>\n",
       "      <td>0.439225</td>\n",
       "      <td>0.368610</td>\n",
       "      <td>163.557011</td>\n",
       "      <td>1.032323</td>\n",
       "    </tr>\n",
       "    <tr>\n",
       "      <th>min</th>\n",
       "      <td>-2.000000</td>\n",
       "      <td>-2.000000e+00</td>\n",
       "      <td>0.000000</td>\n",
       "      <td>0.000000</td>\n",
       "      <td>0.000000</td>\n",
       "      <td>0.000000</td>\n",
       "      <td>-1.000000</td>\n",
       "      <td>-1.000000</td>\n",
       "    </tr>\n",
       "    <tr>\n",
       "      <th>25%</th>\n",
       "      <td>-1.000000</td>\n",
       "      <td>-1.000000e+00</td>\n",
       "      <td>0.000000</td>\n",
       "      <td>0.000000</td>\n",
       "      <td>0.000000</td>\n",
       "      <td>0.000000</td>\n",
       "      <td>0.000000</td>\n",
       "      <td>0.000000</td>\n",
       "    </tr>\n",
       "    <tr>\n",
       "      <th>50%</th>\n",
       "      <td>0.000000</td>\n",
       "      <td>0.000000e+00</td>\n",
       "      <td>0.000000</td>\n",
       "      <td>0.000000</td>\n",
       "      <td>0.000000</td>\n",
       "      <td>0.000000</td>\n",
       "      <td>1.000000</td>\n",
       "      <td>1.000000</td>\n",
       "    </tr>\n",
       "    <tr>\n",
       "      <th>75%</th>\n",
       "      <td>1.000000</td>\n",
       "      <td>1.000000e+00</td>\n",
       "      <td>0.110000</td>\n",
       "      <td>0.980000</td>\n",
       "      <td>0.980000</td>\n",
       "      <td>0.070000</td>\n",
       "      <td>1.000000</td>\n",
       "      <td>1.000000</td>\n",
       "    </tr>\n",
       "    <tr>\n",
       "      <th>max</th>\n",
       "      <td>2.000000</td>\n",
       "      <td>2.000000e+00</td>\n",
       "      <td>1.000000</td>\n",
       "      <td>1.000000</td>\n",
       "      <td>1.000000</td>\n",
       "      <td>1.000000</td>\n",
       "      <td>999.000000</td>\n",
       "      <td>2.000000</td>\n",
       "    </tr>\n",
       "  </tbody>\n",
       "</table>\n",
       "</div>"
      ],
      "text/plain": [
       "                t1            t2           -1            0            1  \\\n",
       "count  6561.000000  6.561000e+03  6561.000000  6561.000000  6561.000000   \n",
       "mean      0.000000 -4.331917e-18     0.197482     0.298613     0.306167   \n",
       "std       1.169134  1.169134e+00     0.369102     0.439889     0.439225   \n",
       "min      -2.000000 -2.000000e+00     0.000000     0.000000     0.000000   \n",
       "25%      -1.000000 -1.000000e+00     0.000000     0.000000     0.000000   \n",
       "50%       0.000000  0.000000e+00     0.000000     0.000000     0.000000   \n",
       "75%       1.000000  1.000000e+00     0.110000     0.980000     0.980000   \n",
       "max       2.000000  2.000000e+00     1.000000     1.000000     1.000000   \n",
       "\n",
       "                 2        phase   pred_phase  \n",
       "count  6561.000000  6561.000000  6561.000000  \n",
       "mean      0.197738    28.045877     0.522481  \n",
       "std       0.368610   163.557011     1.032323  \n",
       "min       0.000000    -1.000000    -1.000000  \n",
       "25%       0.000000     0.000000     0.000000  \n",
       "50%       0.000000     1.000000     1.000000  \n",
       "75%       0.070000     1.000000     1.000000  \n",
       "max       1.000000   999.000000     2.000000  "
      ]
     },
     "execution_count": 28,
     "metadata": {},
     "output_type": "execute_result"
    }
   ],
   "source": [
    "ham_summary.describe()"
   ]
  },
  {
   "cell_type": "code",
   "execution_count": 29,
   "metadata": {
    "execution": {
     "iopub.execute_input": "2020-07-09T20:33:12.795368Z",
     "iopub.status.busy": "2020-07-09T20:33:12.795052Z",
     "iopub.status.idle": "2020-07-09T20:33:12.809766Z",
     "shell.execute_reply": "2020-07-09T20:33:12.809445Z"
    },
    "papermill": {
     "duration": 0.055604,
     "end_time": "2020-07-09T20:33:12.809818",
     "exception": false,
     "start_time": "2020-07-09T20:33:12.754214",
     "status": "completed"
    },
    "tags": []
   },
   "outputs": [
    {
     "name": "stdout",
     "output_type": "stream",
     "text": [
      "length of ham_summary:  656100\n"
     ]
    },
    {
     "data": {
      "text/html": [
       "<div>\n",
       "<style scoped>\n",
       "    .dataframe tbody tr th:only-of-type {\n",
       "        vertical-align: middle;\n",
       "    }\n",
       "\n",
       "    .dataframe tbody tr th {\n",
       "        vertical-align: top;\n",
       "    }\n",
       "\n",
       "    .dataframe thead th {\n",
       "        text-align: right;\n",
       "    }\n",
       "</style>\n",
       "<table border=\"1\" class=\"dataframe\">\n",
       "  <thead>\n",
       "    <tr style=\"text-align: right;\">\n",
       "      <th></th>\n",
       "      <th>id</th>\n",
       "      <th>phase</th>\n",
       "      <th>pred_phase</th>\n",
       "      <th>type_of</th>\n",
       "    </tr>\n",
       "  </thead>\n",
       "  <tbody>\n",
       "    <tr>\n",
       "      <th>0</th>\n",
       "      <td>0</td>\n",
       "      <td>999</td>\n",
       "      <td>2</td>\n",
       "      <td>test</td>\n",
       "    </tr>\n",
       "    <tr>\n",
       "      <th>1</th>\n",
       "      <td>0</td>\n",
       "      <td>999</td>\n",
       "      <td>2</td>\n",
       "      <td>test</td>\n",
       "    </tr>\n",
       "    <tr>\n",
       "      <th>2</th>\n",
       "      <td>0</td>\n",
       "      <td>999</td>\n",
       "      <td>2</td>\n",
       "      <td>test</td>\n",
       "    </tr>\n",
       "    <tr>\n",
       "      <th>3</th>\n",
       "      <td>0</td>\n",
       "      <td>999</td>\n",
       "      <td>1</td>\n",
       "      <td>test</td>\n",
       "    </tr>\n",
       "    <tr>\n",
       "      <th>4</th>\n",
       "      <td>0</td>\n",
       "      <td>999</td>\n",
       "      <td>1</td>\n",
       "      <td>test</td>\n",
       "    </tr>\n",
       "    <tr>\n",
       "      <th>...</th>\n",
       "      <td>...</td>\n",
       "      <td>...</td>\n",
       "      <td>...</td>\n",
       "      <td>...</td>\n",
       "    </tr>\n",
       "    <tr>\n",
       "      <th>656095</th>\n",
       "      <td>6560</td>\n",
       "      <td>999</td>\n",
       "      <td>2</td>\n",
       "      <td>test</td>\n",
       "    </tr>\n",
       "    <tr>\n",
       "      <th>656096</th>\n",
       "      <td>6560</td>\n",
       "      <td>999</td>\n",
       "      <td>-1</td>\n",
       "      <td>test</td>\n",
       "    </tr>\n",
       "    <tr>\n",
       "      <th>656097</th>\n",
       "      <td>6560</td>\n",
       "      <td>999</td>\n",
       "      <td>-1</td>\n",
       "      <td>test</td>\n",
       "    </tr>\n",
       "    <tr>\n",
       "      <th>656098</th>\n",
       "      <td>6560</td>\n",
       "      <td>999</td>\n",
       "      <td>1</td>\n",
       "      <td>test</td>\n",
       "    </tr>\n",
       "    <tr>\n",
       "      <th>656099</th>\n",
       "      <td>6560</td>\n",
       "      <td>999</td>\n",
       "      <td>-1</td>\n",
       "      <td>test</td>\n",
       "    </tr>\n",
       "  </tbody>\n",
       "</table>\n",
       "<p>656100 rows × 4 columns</p>\n",
       "</div>"
      ],
      "text/plain": [
       "          id  phase  pred_phase type_of\n",
       "0          0    999           2    test\n",
       "1          0    999           2    test\n",
       "2          0    999           2    test\n",
       "3          0    999           1    test\n",
       "4          0    999           1    test\n",
       "...      ...    ...         ...     ...\n",
       "656095  6560    999           2    test\n",
       "656096  6560    999          -1    test\n",
       "656097  6560    999          -1    test\n",
       "656098  6560    999           1    test\n",
       "656099  6560    999          -1    test\n",
       "\n",
       "[656100 rows x 4 columns]"
      ]
     },
     "execution_count": 29,
     "metadata": {},
     "output_type": "execute_result"
    }
   ],
   "source": [
    "eigen_summary = simulation.eigenvector_summary\n",
    "print(\"length of ham_summary: \", len(eigen_summary))\n",
    "eigen_summary"
   ]
  },
  {
   "cell_type": "markdown",
   "metadata": {
    "papermill": {
     "duration": 0.036161,
     "end_time": "2020-07-09T20:33:12.882140",
     "exception": false,
     "start_time": "2020-07-09T20:33:12.845979",
     "status": "completed"
    },
    "tags": []
   },
   "source": [
    "#### Checking accuracies"
   ]
  },
  {
   "cell_type": "code",
   "execution_count": 30,
   "metadata": {
    "execution": {
     "iopub.execute_input": "2020-07-09T20:33:12.959069Z",
     "iopub.status.busy": "2020-07-09T20:33:12.958763Z",
     "iopub.status.idle": "2020-07-09T20:33:12.969318Z",
     "shell.execute_reply": "2020-07-09T20:33:12.969656Z"
    },
    "papermill": {
     "duration": 0.050434,
     "end_time": "2020-07-09T20:33:12.969726",
     "exception": false,
     "start_time": "2020-07-09T20:33:12.919292",
     "status": "completed"
    },
    "tags": []
   },
   "outputs": [
    {
     "data": {
      "text/plain": [
       "{'eigenvector_train': 0.9996559217674755,\n",
       " 'eigenvector_val': 0.9710905797101449,\n",
       " 'eigenvector_test': 0.7258789289871944,\n",
       " 'hamiltonian_train': 1.0,\n",
       " 'hamiltonian_val': 0.9931159420289855,\n",
       " 'hamiltonian_test': 0.9208381839348079}"
      ]
     },
     "execution_count": 30,
     "metadata": {},
     "output_type": "execute_result"
    }
   ],
   "source": [
    "simulation.accuracy"
   ]
  },
  {
   "cell_type": "markdown",
   "metadata": {
    "papermill": {
     "duration": 0.036123,
     "end_time": "2020-07-09T20:33:13.042339",
     "exception": false,
     "start_time": "2020-07-09T20:33:13.006216",
     "status": "completed"
    },
    "tags": []
   },
   "source": [
    "#### Checking data stored in  memory"
   ]
  },
  {
   "cell_type": "code",
   "execution_count": 31,
   "metadata": {
    "execution": {
     "iopub.execute_input": "2020-07-09T20:33:13.118815Z",
     "iopub.status.busy": "2020-07-09T20:33:13.118497Z",
     "iopub.status.idle": "2020-07-09T20:33:13.128932Z",
     "shell.execute_reply": "2020-07-09T20:33:13.128613Z"
    },
    "papermill": {
     "duration": 0.049371,
     "end_time": "2020-07-09T20:33:13.128982",
     "exception": false,
     "start_time": "2020-07-09T20:33:13.079611",
     "status": "completed"
    },
    "tags": []
   },
   "outputs": [
    {
     "data": {
      "text/plain": [
       "[]"
      ]
     },
     "execution_count": 31,
     "metadata": {},
     "output_type": "execute_result"
    }
   ],
   "source": [
    "ham_summary_list = simulation.hamiltonian_summary_list\n",
    "ham_summary_list"
   ]
  },
  {
   "cell_type": "code",
   "execution_count": 32,
   "metadata": {
    "execution": {
     "iopub.execute_input": "2020-07-09T20:33:13.205046Z",
     "iopub.status.busy": "2020-07-09T20:33:13.204736Z",
     "iopub.status.idle": "2020-07-09T20:33:13.215006Z",
     "shell.execute_reply": "2020-07-09T20:33:13.214685Z"
    },
    "papermill": {
     "duration": 0.049418,
     "end_time": "2020-07-09T20:33:13.215055",
     "exception": false,
     "start_time": "2020-07-09T20:33:13.165637",
     "status": "completed"
    },
    "tags": []
   },
   "outputs": [
    {
     "data": {
      "text/plain": [
       "[]"
      ]
     },
     "execution_count": 32,
     "metadata": {},
     "output_type": "execute_result"
    }
   ],
   "source": [
    "eigen_summary_list = simulation.eigenvector_summary_list\n",
    "eigen_summary_list"
   ]
  },
  {
   "cell_type": "code",
   "execution_count": 33,
   "metadata": {
    "execution": {
     "iopub.execute_input": "2020-07-09T20:33:13.292501Z",
     "iopub.status.busy": "2020-07-09T20:33:13.292187Z",
     "iopub.status.idle": "2020-07-09T20:33:13.303032Z",
     "shell.execute_reply": "2020-07-09T20:33:13.302677Z"
    },
    "papermill": {
     "duration": 0.050247,
     "end_time": "2020-07-09T20:33:13.303087",
     "exception": false,
     "start_time": "2020-07-09T20:33:13.252840",
     "status": "completed"
    },
    "tags": []
   },
   "outputs": [
    {
     "data": {
      "text/plain": [
       "{'eigenvector_train': [],\n",
       " 'eigenvector_val': [],\n",
       " 'eigenvector_test': [],\n",
       " 'hamiltonian_train': [],\n",
       " 'hamiltonian_val': [],\n",
       " 'hamiltonian_test': []}"
      ]
     },
     "execution_count": 33,
     "metadata": {},
     "output_type": "execute_result"
    }
   ],
   "source": [
    "accuracy_list = simulation.accuracy_list\n",
    "accuracy_list"
   ]
  },
  {
   "cell_type": "code",
   "execution_count": null,
   "metadata": {
    "papermill": {
     "duration": 0.03815,
     "end_time": "2020-07-09T20:33:13.378242",
     "exception": false,
     "start_time": "2020-07-09T20:33:13.340092",
     "status": "completed"
    },
    "tags": []
   },
   "outputs": [],
   "source": []
  },
  {
   "cell_type": "code",
   "execution_count": null,
   "metadata": {
    "papermill": {
     "duration": 0.037697,
     "end_time": "2020-07-09T20:33:13.453970",
     "exception": false,
     "start_time": "2020-07-09T20:33:13.416273",
     "status": "completed"
    },
    "tags": []
   },
   "outputs": [],
   "source": []
  },
  {
   "cell_type": "code",
   "execution_count": 34,
   "metadata": {
    "execution": {
     "iopub.execute_input": "2020-07-09T20:33:13.530012Z",
     "iopub.status.busy": "2020-07-09T20:33:13.529705Z",
     "iopub.status.idle": "2020-07-09T20:33:13.540294Z",
     "shell.execute_reply": "2020-07-09T20:33:13.539952Z"
    },
    "papermill": {
     "duration": 0.049296,
     "end_time": "2020-07-09T20:33:13.540347",
     "exception": false,
     "start_time": "2020-07-09T20:33:13.491051",
     "status": "completed"
    },
    "tags": []
   },
   "outputs": [],
   "source": [
    "#simulation.fourier_matrix"
   ]
  },
  {
   "cell_type": "code",
   "execution_count": 35,
   "metadata": {
    "execution": {
     "iopub.execute_input": "2020-07-09T20:33:13.618479Z",
     "iopub.status.busy": "2020-07-09T20:33:13.618145Z",
     "iopub.status.idle": "2020-07-09T20:33:13.628405Z",
     "shell.execute_reply": "2020-07-09T20:33:13.628723Z"
    },
    "papermill": {
     "duration": 0.050402,
     "end_time": "2020-07-09T20:33:13.628792",
     "exception": false,
     "start_time": "2020-07-09T20:33:13.578390",
     "status": "completed"
    },
    "tags": []
   },
   "outputs": [],
   "source": [
    "#simulation.fourier_matrix.shape"
   ]
  },
  {
   "cell_type": "code",
   "execution_count": 36,
   "metadata": {
    "execution": {
     "iopub.execute_input": "2020-07-09T20:33:13.705205Z",
     "iopub.status.busy": "2020-07-09T20:33:13.704869Z",
     "iopub.status.idle": "2020-07-09T20:33:13.714172Z",
     "shell.execute_reply": "2020-07-09T20:33:13.713840Z"
    },
    "papermill": {
     "duration": 0.048392,
     "end_time": "2020-07-09T20:33:13.714225",
     "exception": false,
     "start_time": "2020-07-09T20:33:13.665833",
     "status": "completed"
    },
    "tags": []
   },
   "outputs": [],
   "source": [
    "#simulation.fourier_matrix[:,0]"
   ]
  },
  {
   "cell_type": "code",
   "execution_count": 37,
   "metadata": {
    "execution": {
     "iopub.execute_input": "2020-07-09T20:33:13.792885Z",
     "iopub.status.busy": "2020-07-09T20:33:13.792320Z",
     "iopub.status.idle": "2020-07-09T20:33:13.801973Z",
     "shell.execute_reply": "2020-07-09T20:33:13.802294Z"
    },
    "papermill": {
     "duration": 0.049494,
     "end_time": "2020-07-09T20:33:13.802373",
     "exception": false,
     "start_time": "2020-07-09T20:33:13.752879",
     "status": "completed"
    },
    "tags": []
   },
   "outputs": [],
   "source": [
    "#simulation.fourier_matrix[:,1]"
   ]
  },
  {
   "cell_type": "code",
   "execution_count": 38,
   "metadata": {
    "execution": {
     "iopub.execute_input": "2020-07-09T20:33:13.880823Z",
     "iopub.status.busy": "2020-07-09T20:33:13.880514Z",
     "iopub.status.idle": "2020-07-09T20:33:13.890106Z",
     "shell.execute_reply": "2020-07-09T20:33:13.890426Z"
    },
    "papermill": {
     "duration": 0.049423,
     "end_time": "2020-07-09T20:33:13.890494",
     "exception": false,
     "start_time": "2020-07-09T20:33:13.841071",
     "status": "completed"
    },
    "tags": []
   },
   "outputs": [],
   "source": [
    "#np.exp(-1j*2*np.pi*3/100)"
   ]
  },
  {
   "cell_type": "code",
   "execution_count": 39,
   "metadata": {
    "execution": {
     "iopub.execute_input": "2020-07-09T20:33:13.971001Z",
     "iopub.status.busy": "2020-07-09T20:33:13.970528Z",
     "iopub.status.idle": "2020-07-09T20:33:13.980204Z",
     "shell.execute_reply": "2020-07-09T20:33:13.980496Z"
    },
    "papermill": {
     "duration": 0.051226,
     "end_time": "2020-07-09T20:33:13.980571",
     "exception": false,
     "start_time": "2020-07-09T20:33:13.929345",
     "status": "completed"
    },
    "tags": []
   },
   "outputs": [],
   "source": [
    "#for i in range(1,50):\n",
    "#    print(\"\\n\")\n",
    "#    print(i)\n",
    "#    print(np.sum((np.real(simulation.fourier_matrix[:,i]) - np.real(simulation.fourier_matrix[:,-i]))**2))\n",
    "#    print(np.sum((np.imag(simulation.fourier_matrix[:,i])+ np.imag(simulation.fourier_matrix[:,-i]))**2))"
   ]
  },
  {
   "cell_type": "code",
   "execution_count": 40,
   "metadata": {
    "execution": {
     "iopub.execute_input": "2020-07-09T20:33:14.058586Z",
     "iopub.status.busy": "2020-07-09T20:33:14.058277Z",
     "iopub.status.idle": "2020-07-09T20:33:14.105460Z",
     "shell.execute_reply": "2020-07-09T20:33:14.107330Z"
    },
    "papermill": {
     "duration": 0.088509,
     "end_time": "2020-07-09T20:33:14.107636",
     "exception": false,
     "start_time": "2020-07-09T20:33:14.019127",
     "status": "completed"
    },
    "tags": []
   },
   "outputs": [],
   "source": [
    "#print(simulation.fourier_matrix[:,0])"
   ]
  },
  {
   "cell_type": "code",
   "execution_count": 41,
   "metadata": {
    "execution": {
     "iopub.execute_input": "2020-07-09T20:33:14.221215Z",
     "iopub.status.busy": "2020-07-09T20:33:14.220905Z",
     "iopub.status.idle": "2020-07-09T20:33:14.230727Z",
     "shell.execute_reply": "2020-07-09T20:33:14.230398Z"
    },
    "papermill": {
     "duration": 0.049681,
     "end_time": "2020-07-09T20:33:14.230778",
     "exception": false,
     "start_time": "2020-07-09T20:33:14.181097",
     "status": "completed"
    },
    "tags": []
   },
   "outputs": [],
   "source": [
    "#print(simulation.fourier_matrix[:,50])"
   ]
  },
  {
   "cell_type": "code",
   "execution_count": null,
   "metadata": {
    "papermill": {
     "duration": 0.037486,
     "end_time": "2020-07-09T20:33:14.305578",
     "exception": false,
     "start_time": "2020-07-09T20:33:14.268092",
     "status": "completed"
    },
    "tags": []
   },
   "outputs": [],
   "source": []
  }
 ],
 "metadata": {
  "celltoolbar": "Tags",
  "kernelspec": {
   "display_name": "ml_top_phases",
   "language": "python",
   "name": "ml_top_phases"
  },
  "language_info": {
   "codemirror_mode": {
    "name": "ipython",
    "version": 3
   },
   "file_extension": ".py",
   "mimetype": "text/x-python",
   "name": "python",
   "nbconvert_exporter": "python",
   "pygments_lexer": "ipython3",
   "version": "3.6.10"
  },
  "papermill": {
   "duration": 2681.084974,
   "end_time": "2020-07-09T20:33:14.453330",
   "environment_variables": {},
   "exception": null,
   "input_path": "0_simulation_template.ipynb",
   "output_path": "zzz_simulation_output_ssh2_3rd_scenario_100_6561.ipynb",
   "parameters": {
    "allowed_windings": [
     -1,
     0,
     1,
     2
    ],
    "csv_path": "/home/rio/ssh_csvs/ssh2/periodic_100_6561.csv",
    "features_to_use": null,
    "fillna": false,
    "fit_params": null,
    "fourier_features_to_use": [
     0,
     1,
     2,
     3,
     4,
     5,
     6,
     7,
     8,
     9,
     10,
     11,
     12,
     13,
     14,
     15,
     16,
     17,
     18,
     19,
     20,
     21,
     22,
     23,
     24,
     25,
     26,
     27,
     28,
     29,
     30,
     31,
     32,
     33,
     34,
     35,
     36,
     37,
     38,
     39,
     40,
     41,
     42,
     43,
     44,
     45,
     46,
     47,
     48,
     49,
     50
    ],
    "fourier_fillna": null,
    "fourier_mode": "dft",
    "fourier_normalize": null,
    "fourier_real": "real",
    "model_kw": {
     "criterion": "entropy",
     "n_estimators": 25,
     "n_jobs": -1
    },
    "model_name": "RandomForestClassifier",
    "n_experiments": 100,
    "normalize": false,
    "pred_params": null,
    "random_features": false,
    "random_state": 467,
    "save_accuracy": true,
    "save_eigenvector": true,
    "save_hamiltonian": true,
    "save_models": true,
    "shuffle_features": false,
    "shuffle_rows": true,
    "simulation_dir": "/home/rio/ssh_simulations/ssh2/periodic_3rd_scenario_100_6561",
    "start_n": 0,
    "store_in_lists": false,
    "val_split": 0.5
   },
   "start_time": "2020-07-09T19:48:33.368356",
   "version": "2.1.0"
  }
 },
 "nbformat": 4,
 "nbformat_minor": 2
}