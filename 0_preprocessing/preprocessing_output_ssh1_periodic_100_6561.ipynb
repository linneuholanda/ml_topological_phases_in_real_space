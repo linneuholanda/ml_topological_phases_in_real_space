{
 "cells": [
  {
   "cell_type": "markdown",
   "metadata": {
    "papermill": {
     "duration": 0.010415,
     "end_time": "2020-04-06T19:49:35.744283",
     "exception": false,
     "start_time": "2020-04-06T19:49:35.733868",
     "status": "completed"
    },
    "tags": []
   },
   "source": [
    "# Generate csv files \n"
   ]
  },
  {
   "cell_type": "markdown",
   "metadata": {
    "papermill": {
     "duration": 0.006945,
     "end_time": "2020-04-06T19:49:35.758056",
     "exception": false,
     "start_time": "2020-04-06T19:49:35.751111",
     "status": "completed"
    },
    "tags": []
   },
   "source": [
    "This notebook generates .csv files from a directory containing .dat files with Hamiltonian data. Each .dat file is assumed to be named as `\"H_t1_t2_winding.dat\"`.  "
   ]
  },
  {
   "cell_type": "code",
   "execution_count": 1,
   "metadata": {
    "execution": {
     "iopub.execute_input": "2020-04-06T19:49:35.773200Z",
     "iopub.status.busy": "2020-04-06T19:49:35.772873Z",
     "iopub.status.idle": "2020-04-06T19:49:36.056304Z",
     "shell.execute_reply": "2020-04-06T19:49:36.056628Z"
    },
    "papermill": {
     "duration": 0.292646,
     "end_time": "2020-04-06T19:49:36.056701",
     "exception": false,
     "start_time": "2020-04-06T19:49:35.764055",
     "status": "completed"
    },
    "tags": []
   },
   "outputs": [],
   "source": [
    "%load_ext autoreload\n",
    "%autoreload 2\n",
    "from preprocessing import *"
   ]
  },
  {
   "cell_type": "markdown",
   "metadata": {
    "papermill": {
     "duration": 0.005761,
     "end_time": "2020-04-06T19:49:36.069195",
     "exception": false,
     "start_time": "2020-04-06T19:49:36.063434",
     "status": "completed"
    },
    "tags": []
   },
   "source": [
    "### Set the parameters below carefully"
   ]
  },
  {
   "cell_type": "code",
   "execution_count": 2,
   "metadata": {
    "execution": {
     "iopub.execute_input": "2020-04-06T19:49:36.083547Z",
     "iopub.status.busy": "2020-04-06T19:49:36.083223Z",
     "iopub.status.idle": "2020-04-06T19:49:36.091542Z",
     "shell.execute_reply": "2020-04-06T19:49:36.091226Z"
    },
    "papermill": {
     "duration": 0.016362,
     "end_time": "2020-04-06T19:49:36.091593",
     "exception": false,
     "start_time": "2020-04-06T19:49:36.075231",
     "status": "completed"
    },
    "tags": [
     "parameters"
    ]
   },
   "outputs": [
    {
     "name": "stdout",
     "output_type": "stream",
     "text": [
      "CPU times: user 2 µs, sys: 0 ns, total: 2 µs\n",
      "Wall time: 4.05 µs\n"
     ]
    }
   ],
   "source": [
    "%%time\n",
    "grid_folder = SSH1_PERIODIC_100_6561_GRID_DIR\n",
    "allowed_windings = [0,1]\n",
    "epsilon = 0.01\n",
    "csv_dir = SSH1_CSVS_DIR \n",
    "csv_name = SSH1_PERIODIC_100_6561_CSV\n"
   ]
  },
  {
   "cell_type": "code",
   "execution_count": 3,
   "metadata": {
    "execution": {
     "iopub.execute_input": "2020-04-06T19:49:36.122330Z",
     "iopub.status.busy": "2020-04-06T19:49:36.121839Z",
     "iopub.status.idle": "2020-04-06T19:49:36.213170Z",
     "shell.execute_reply": "2020-04-06T19:49:36.210903Z"
    },
    "papermill": {
     "duration": 0.115885,
     "end_time": "2020-04-06T19:49:36.213476",
     "exception": false,
     "start_time": "2020-04-06T19:49:36.097591",
     "status": "completed"
    },
    "tags": [
     "injected-parameters"
    ]
   },
   "outputs": [],
   "source": [
    "# Parameters\n",
    "allowed_windings = [0, 1]\n",
    "epsilon = 0.01\n",
    "csv_dir = \"/home/rio/ssh_csvs/ssh1\"\n",
    "grid_folder = \"/home/rio/ssh_grids/ssh1/periodic_100_6561\"\n",
    "csv_name = \"/home/rio/ssh_csvs/ssh1/periodic_100_6561.csv\"\n"
   ]
  },
  {
   "cell_type": "code",
   "execution_count": 4,
   "metadata": {
    "execution": {
     "iopub.execute_input": "2020-04-06T19:49:36.261496Z",
     "iopub.status.busy": "2020-04-06T19:49:36.261025Z",
     "iopub.status.idle": "2020-04-06T19:50:44.125918Z",
     "shell.execute_reply": "2020-04-06T19:50:44.126228Z"
    },
    "papermill": {
     "duration": 67.881433,
     "end_time": "2020-04-06T19:50:44.126291",
     "exception": false,
     "start_time": "2020-04-06T19:49:36.244858",
     "status": "completed"
    },
    "tags": []
   },
   "outputs": [
    {
     "name": "stderr",
     "output_type": "stream",
     "text": [
      "\r",
      "loading hamiltonians:   0%|          | 0/6561 [00:00<?, ?it/s]"
     ]
    },
    {
     "name": "stderr",
     "output_type": "stream",
     "text": [
      "\r",
      "loading hamiltonians:   2%|▏         | 126/6561 [00:00<00:05, 1151.42it/s]"
     ]
    },
    {
     "name": "stderr",
     "output_type": "stream",
     "text": [
      "\r",
      "loading hamiltonians:   4%|▎         | 246/6561 [00:00<00:05, 1165.57it/s]"
     ]
    },
    {
     "name": "stderr",
     "output_type": "stream",
     "text": [
      "\r",
      "loading hamiltonians:   6%|▌         | 364/6561 [00:00<00:05, 1168.86it/s]"
     ]
    },
    {
     "name": "stderr",
     "output_type": "stream",
     "text": [
      "\r",
      "loading hamiltonians:   7%|▋         | 478/6561 [00:00<00:05, 1157.96it/s]"
     ]
    },
    {
     "name": "stderr",
     "output_type": "stream",
     "text": [
      "\r",
      "loading hamiltonians:   9%|▊         | 567/6561 [00:00<00:06, 856.62it/s] "
     ]
    },
    {
     "name": "stderr",
     "output_type": "stream",
     "text": [
      "\r",
      "loading hamiltonians:  11%|█         | 697/6561 [00:00<00:06, 954.01it/s]"
     ]
    },
    {
     "name": "stderr",
     "output_type": "stream",
     "text": [
      "\r",
      "loading hamiltonians:  12%|█▏        | 813/6561 [00:00<00:05, 1006.99it/s]"
     ]
    },
    {
     "name": "stderr",
     "output_type": "stream",
     "text": [
      "\r",
      "loading hamiltonians:  14%|█▍        | 941/6561 [00:00<00:05, 1075.63it/s]"
     ]
    },
    {
     "name": "stderr",
     "output_type": "stream",
     "text": [
      "\r",
      "loading hamiltonians:  16%|█▌        | 1057/6561 [00:00<00:05, 1095.00it/s]"
     ]
    },
    {
     "name": "stderr",
     "output_type": "stream",
     "text": [
      "\r",
      "loading hamiltonians:  18%|█▊        | 1189/6561 [00:01<00:04, 1152.87it/s]"
     ]
    },
    {
     "name": "stderr",
     "output_type": "stream",
     "text": [
      "\r",
      "loading hamiltonians:  20%|█▉        | 1309/6561 [00:01<00:04, 1154.24it/s]"
     ]
    },
    {
     "name": "stderr",
     "output_type": "stream",
     "text": [
      "\r",
      "loading hamiltonians:  22%|██▏       | 1439/6561 [00:01<00:04, 1193.66it/s]"
     ]
    },
    {
     "name": "stderr",
     "output_type": "stream",
     "text": [
      "\r",
      "loading hamiltonians:  24%|██▍       | 1560/6561 [00:01<00:06, 718.25it/s] "
     ]
    },
    {
     "name": "stderr",
     "output_type": "stream",
     "text": [
      "\r",
      "loading hamiltonians:  26%|██▌       | 1676/6561 [00:01<00:06, 810.84it/s]"
     ]
    },
    {
     "name": "stderr",
     "output_type": "stream",
     "text": [
      "\r",
      "loading hamiltonians:  28%|██▊       | 1810/6561 [00:01<00:05, 918.93it/s]"
     ]
    },
    {
     "name": "stderr",
     "output_type": "stream",
     "text": [
      "\r",
      "loading hamiltonians:  29%|██▉       | 1927/6561 [00:01<00:04, 980.88it/s]"
     ]
    },
    {
     "name": "stderr",
     "output_type": "stream",
     "text": [
      "\r",
      "loading hamiltonians:  31%|███▏      | 2059/6561 [00:02<00:04, 1062.52it/s]"
     ]
    },
    {
     "name": "stderr",
     "output_type": "stream",
     "text": [
      "\r",
      "loading hamiltonians:  33%|███▎      | 2178/6561 [00:02<00:04, 1061.91it/s]"
     ]
    },
    {
     "name": "stderr",
     "output_type": "stream",
     "text": [
      "\r",
      "loading hamiltonians:  35%|███▍      | 2296/6561 [00:02<00:03, 1092.46it/s]"
     ]
    },
    {
     "name": "stderr",
     "output_type": "stream",
     "text": [
      "\r",
      "loading hamiltonians:  37%|███▋      | 2412/6561 [00:02<00:03, 1087.62it/s]"
     ]
    },
    {
     "name": "stderr",
     "output_type": "stream",
     "text": [
      "\r",
      "loading hamiltonians:  39%|███▊      | 2526/6561 [00:02<00:07, 537.80it/s] "
     ]
    },
    {
     "name": "stderr",
     "output_type": "stream",
     "text": [
      "\r",
      "loading hamiltonians:  41%|████      | 2661/6561 [00:02<00:05, 655.78it/s]"
     ]
    },
    {
     "name": "stderr",
     "output_type": "stream",
     "text": [
      "\r",
      "loading hamiltonians:  42%|████▏     | 2781/6561 [00:02<00:04, 758.94it/s]"
     ]
    },
    {
     "name": "stderr",
     "output_type": "stream",
     "text": [
      "\r",
      "loading hamiltonians:  44%|████▍     | 2901/6561 [00:03<00:04, 852.19it/s]"
     ]
    },
    {
     "name": "stderr",
     "output_type": "stream",
     "text": [
      "\r",
      "loading hamiltonians:  46%|████▌     | 3013/6561 [00:03<00:03, 917.80it/s]"
     ]
    },
    {
     "name": "stderr",
     "output_type": "stream",
     "text": [
      "\r",
      "loading hamiltonians:  48%|████▊     | 3144/6561 [00:03<00:03, 1007.80it/s]"
     ]
    },
    {
     "name": "stderr",
     "output_type": "stream",
     "text": [
      "\r",
      "loading hamiltonians:  50%|████▉     | 3264/6561 [00:03<00:03, 1058.29it/s]"
     ]
    },
    {
     "name": "stderr",
     "output_type": "stream",
     "text": [
      "\r",
      "loading hamiltonians:  52%|█████▏    | 3382/6561 [00:03<00:06, 465.94it/s] "
     ]
    },
    {
     "name": "stderr",
     "output_type": "stream",
     "text": [
      "\r",
      "loading hamiltonians:  54%|█████▎    | 3514/6561 [00:04<00:05, 571.44it/s]"
     ]
    },
    {
     "name": "stderr",
     "output_type": "stream",
     "text": [
      "\r",
      "loading hamiltonians:  56%|█████▌    | 3646/6561 [00:04<00:04, 688.53it/s]"
     ]
    },
    {
     "name": "stderr",
     "output_type": "stream",
     "text": [
      "\r",
      "loading hamiltonians:  57%|█████▋    | 3766/6561 [00:04<00:03, 787.33it/s]"
     ]
    },
    {
     "name": "stderr",
     "output_type": "stream",
     "text": [
      "\r",
      "loading hamiltonians:  59%|█████▉    | 3901/6561 [00:04<00:02, 899.15it/s]"
     ]
    },
    {
     "name": "stderr",
     "output_type": "stream",
     "text": [
      "\r",
      "loading hamiltonians:  61%|██████▏   | 4022/6561 [00:04<00:02, 972.98it/s]"
     ]
    },
    {
     "name": "stderr",
     "output_type": "stream",
     "text": [
      "\r",
      "loading hamiltonians:  63%|██████▎   | 4155/6561 [00:04<00:02, 1058.20it/s]"
     ]
    },
    {
     "name": "stderr",
     "output_type": "stream",
     "text": [
      "\r",
      "loading hamiltonians:  65%|██████▌   | 4279/6561 [00:04<00:02, 1097.23it/s]"
     ]
    },
    {
     "name": "stderr",
     "output_type": "stream",
     "text": [
      "\r",
      "loading hamiltonians:  67%|██████▋   | 4414/6561 [00:04<00:01, 1160.96it/s]"
     ]
    },
    {
     "name": "stderr",
     "output_type": "stream",
     "text": [
      "\r",
      "loading hamiltonians:  69%|██████▉   | 4540/6561 [00:05<00:04, 415.30it/s] "
     ]
    },
    {
     "name": "stderr",
     "output_type": "stream",
     "text": [
      "\r",
      "loading hamiltonians:  71%|███████   | 4670/6561 [00:05<00:03, 521.47it/s]"
     ]
    },
    {
     "name": "stderr",
     "output_type": "stream",
     "text": [
      "\r",
      "loading hamiltonians:  73%|███████▎  | 4788/6561 [00:05<00:02, 625.94it/s]"
     ]
    },
    {
     "name": "stderr",
     "output_type": "stream",
     "text": [
      "\r",
      "loading hamiltonians:  75%|███████▌  | 4921/6561 [00:05<00:02, 743.27it/s]"
     ]
    },
    {
     "name": "stderr",
     "output_type": "stream",
     "text": [
      "\r",
      "loading hamiltonians:  77%|███████▋  | 5038/6561 [00:05<00:01, 833.97it/s]"
     ]
    },
    {
     "name": "stderr",
     "output_type": "stream",
     "text": [
      "\r",
      "loading hamiltonians:  79%|███████▉  | 5169/6561 [00:06<00:01, 935.52it/s]"
     ]
    },
    {
     "name": "stderr",
     "output_type": "stream",
     "text": [
      "\r",
      "loading hamiltonians:  81%|████████  | 5290/6561 [00:06<00:01, 968.97it/s]"
     ]
    },
    {
     "name": "stderr",
     "output_type": "stream",
     "text": [
      "\r",
      "loading hamiltonians:  83%|████████▎ | 5418/6561 [00:06<00:01, 1043.67it/s]"
     ]
    },
    {
     "name": "stderr",
     "output_type": "stream",
     "text": [
      "\r",
      "loading hamiltonians:  84%|████████▍ | 5538/6561 [00:06<00:00, 1081.38it/s]"
     ]
    },
    {
     "name": "stderr",
     "output_type": "stream",
     "text": [
      "\r",
      "loading hamiltonians:  86%|████████▋ | 5669/6561 [00:06<00:00, 1141.06it/s]"
     ]
    },
    {
     "name": "stderr",
     "output_type": "stream",
     "text": [
      "\r",
      "loading hamiltonians:  88%|████████▊ | 5792/6561 [00:06<00:00, 1150.10it/s]"
     ]
    },
    {
     "name": "stderr",
     "output_type": "stream",
     "text": [
      "\r",
      "loading hamiltonians:  90%|█████████ | 5913/6561 [00:07<00:01, 337.47it/s] "
     ]
    },
    {
     "name": "stderr",
     "output_type": "stream",
     "text": [
      "\r",
      "loading hamiltonians:  92%|█████████▏| 6046/6561 [00:07<00:01, 434.72it/s]"
     ]
    },
    {
     "name": "stderr",
     "output_type": "stream",
     "text": [
      "\r",
      "loading hamiltonians:  94%|█████████▍| 6160/6561 [00:07<00:00, 533.61it/s]"
     ]
    },
    {
     "name": "stderr",
     "output_type": "stream",
     "text": [
      "\r",
      "loading hamiltonians:  96%|█████████▌| 6284/6561 [00:07<00:00, 643.54it/s]"
     ]
    },
    {
     "name": "stderr",
     "output_type": "stream",
     "text": [
      "\r",
      "loading hamiltonians:  97%|█████████▋| 6395/6561 [00:07<00:00, 731.34it/s]"
     ]
    },
    {
     "name": "stderr",
     "output_type": "stream",
     "text": [
      "\r",
      "loading hamiltonians:  99%|█████████▉| 6528/6561 [00:08<00:00, 844.68it/s]"
     ]
    },
    {
     "name": "stderr",
     "output_type": "stream",
     "text": [
      "\r",
      "loading hamiltonians: 100%|██████████| 6561/6561 [00:08<00:00, 813.58it/s]"
     ]
    },
    {
     "name": "stderr",
     "output_type": "stream",
     "text": [
      "\n"
     ]
    },
    {
     "name": "stdout",
     "output_type": "stream",
     "text": [
      "shape of raw_data:  (656100, 104)\n",
      "len list_of_hamiltonians:  6561\n"
     ]
    },
    {
     "name": "stdout",
     "output_type": "stream",
     "text": [
      "CPU times: user 58 s, sys: 5.41 s, total: 1min 3s\n",
      "Wall time: 1min 7s\n"
     ]
    }
   ],
   "source": [
    "%%time\n",
    "list_of_hamiltonians, raw_data = load_hamiltonians(grid_folder)\n",
    "print(\"shape of raw_data: \", raw_data.shape)\n",
    "print(\"len list_of_hamiltonians: \", len(list_of_hamiltonians))\n",
    "\n",
    "dataframe = make_dataframe(raw_data, list_of_hamiltonians, allowed_windings = allowed_windings, epsilon = epsilon, \\\n",
    "                           csv_dir=csv_dir, csv_name = csv_name)"
   ]
  },
  {
   "cell_type": "code",
   "execution_count": 5,
   "metadata": {
    "execution": {
     "iopub.execute_input": "2020-04-06T19:50:44.633142Z",
     "iopub.status.busy": "2020-04-06T19:50:44.632834Z",
     "iopub.status.idle": "2020-04-06T19:50:44.664463Z",
     "shell.execute_reply": "2020-04-06T19:50:44.664189Z"
    },
    "papermill": {
     "duration": 0.050029,
     "end_time": "2020-04-06T19:50:44.664516",
     "exception": false,
     "start_time": "2020-04-06T19:50:44.614487",
     "status": "completed"
    },
    "tags": []
   },
   "outputs": [
    {
     "name": "stdout",
     "output_type": "stream",
     "text": [
      "<class 'pandas.core.frame.DataFrame'>\n",
      "RangeIndex: 656100 entries, 0 to 656099\n",
      "Columns: 108 entries, id to feat99\n",
      "dtypes: float64(3), int32(1), int64(2), object(102)\n",
      "memory usage: 538.1+ MB\n"
     ]
    },
    {
     "data": {
      "text/html": [
       "<div>\n",
       "<style scoped>\n",
       "    .dataframe tbody tr th:only-of-type {\n",
       "        vertical-align: middle;\n",
       "    }\n",
       "\n",
       "    .dataframe tbody tr th {\n",
       "        vertical-align: top;\n",
       "    }\n",
       "\n",
       "    .dataframe thead th {\n",
       "        text-align: right;\n",
       "    }\n",
       "</style>\n",
       "<table border=\"1\" class=\"dataframe\">\n",
       "  <thead>\n",
       "    <tr style=\"text-align: right;\">\n",
       "      <th></th>\n",
       "      <th>id</th>\n",
       "      <th>path</th>\n",
       "      <th>t1</th>\n",
       "      <th>t2</th>\n",
       "      <th>winding</th>\n",
       "      <th>phase</th>\n",
       "      <th>pred_phase</th>\n",
       "      <th>type_of</th>\n",
       "      <th>feat0</th>\n",
       "      <th>feat1</th>\n",
       "      <th>...</th>\n",
       "      <th>feat90</th>\n",
       "      <th>feat91</th>\n",
       "      <th>feat92</th>\n",
       "      <th>feat93</th>\n",
       "      <th>feat94</th>\n",
       "      <th>feat95</th>\n",
       "      <th>feat96</th>\n",
       "      <th>feat97</th>\n",
       "      <th>feat98</th>\n",
       "      <th>feat99</th>\n",
       "    </tr>\n",
       "  </thead>\n",
       "  <tbody>\n",
       "    <tr>\n",
       "      <th>0</th>\n",
       "      <td>0</td>\n",
       "      <td>H_-2_-2_0.509296.dat</td>\n",
       "      <td>-2.0</td>\n",
       "      <td>-2.0</td>\n",
       "      <td>0.509296</td>\n",
       "      <td>999</td>\n",
       "      <td>666</td>\n",
       "      <td>test</td>\n",
       "      <td>0.100000</td>\n",
       "      <td>0.100000</td>\n",
       "      <td>...</td>\n",
       "      <td>0.100000</td>\n",
       "      <td>0.100000</td>\n",
       "      <td>0.100000</td>\n",
       "      <td>0.100000</td>\n",
       "      <td>0.100000</td>\n",
       "      <td>0.100000</td>\n",
       "      <td>0.100000</td>\n",
       "      <td>0.100000</td>\n",
       "      <td>0.100000</td>\n",
       "      <td>0.100000</td>\n",
       "    </tr>\n",
       "    <tr>\n",
       "      <th>1</th>\n",
       "      <td>0</td>\n",
       "      <td>H_-2_-2_0.509296.dat</td>\n",
       "      <td>-2.0</td>\n",
       "      <td>-2.0</td>\n",
       "      <td>0.509296</td>\n",
       "      <td>999</td>\n",
       "      <td>666</td>\n",
       "      <td>test</td>\n",
       "      <td>0.141421</td>\n",
       "      <td>0.141142</td>\n",
       "      <td>...</td>\n",
       "      <td>0.114412</td>\n",
       "      <td>0.108967</td>\n",
       "      <td>0.123928</td>\n",
       "      <td>0.119406</td>\n",
       "      <td>0.131490</td>\n",
       "      <td>0.127962</td>\n",
       "      <td>0.136978</td>\n",
       "      <td>0.134500</td>\n",
       "      <td>0.140306</td>\n",
       "      <td>0.138916</td>\n",
       "    </tr>\n",
       "    <tr>\n",
       "      <th>2</th>\n",
       "      <td>0</td>\n",
       "      <td>H_-2_-2_0.509296.dat</td>\n",
       "      <td>-2.0</td>\n",
       "      <td>-2.0</td>\n",
       "      <td>0.509296</td>\n",
       "      <td>999</td>\n",
       "      <td>666</td>\n",
       "      <td>test</td>\n",
       "      <td>0.141421</td>\n",
       "      <td>0.140306</td>\n",
       "      <td>...</td>\n",
       "      <td>0.043702</td>\n",
       "      <td>0.026500</td>\n",
       "      <td>0.075777</td>\n",
       "      <td>0.060214</td>\n",
       "      <td>0.103092</td>\n",
       "      <td>0.090145</td>\n",
       "      <td>0.123928</td>\n",
       "      <td>0.114412</td>\n",
       "      <td>0.136978</td>\n",
       "      <td>0.131490</td>\n",
       "    </tr>\n",
       "    <tr>\n",
       "      <th>3</th>\n",
       "      <td>0</td>\n",
       "      <td>H_-2_-2_0.509296.dat</td>\n",
       "      <td>-2.0</td>\n",
       "      <td>-2.0</td>\n",
       "      <td>0.509296</td>\n",
       "      <td>999</td>\n",
       "      <td>666</td>\n",
       "      <td>test</td>\n",
       "      <td>-0.100000</td>\n",
       "      <td>0.100000</td>\n",
       "      <td>...</td>\n",
       "      <td>-0.100000</td>\n",
       "      <td>0.100000</td>\n",
       "      <td>-0.100000</td>\n",
       "      <td>0.100000</td>\n",
       "      <td>-0.100000</td>\n",
       "      <td>0.100000</td>\n",
       "      <td>-0.100000</td>\n",
       "      <td>0.100000</td>\n",
       "      <td>-0.100000</td>\n",
       "      <td>0.100000</td>\n",
       "    </tr>\n",
       "    <tr>\n",
       "      <th>4</th>\n",
       "      <td>0</td>\n",
       "      <td>H_-2_-2_0.509296.dat</td>\n",
       "      <td>-2.0</td>\n",
       "      <td>-2.0</td>\n",
       "      <td>0.509296</td>\n",
       "      <td>999</td>\n",
       "      <td>666</td>\n",
       "      <td>test</td>\n",
       "      <td>0.000509</td>\n",
       "      <td>-0.008372</td>\n",
       "      <td>...</td>\n",
       "      <td>-0.082713</td>\n",
       "      <td>-0.089753</td>\n",
       "      <td>-0.067684</td>\n",
       "      <td>-0.075347</td>\n",
       "      <td>-0.051587</td>\n",
       "      <td>-0.059753</td>\n",
       "      <td>-0.034677</td>\n",
       "      <td>-0.043217</td>\n",
       "      <td>-0.017220</td>\n",
       "      <td>-0.026000</td>\n",
       "    </tr>\n",
       "  </tbody>\n",
       "</table>\n",
       "<p>5 rows × 108 columns</p>\n",
       "</div>"
      ],
      "text/plain": [
       "   id                  path   t1   t2   winding  phase  pred_phase type_of  \\\n",
       "0   0  H_-2_-2_0.509296.dat -2.0 -2.0  0.509296    999         666    test   \n",
       "1   0  H_-2_-2_0.509296.dat -2.0 -2.0  0.509296    999         666    test   \n",
       "2   0  H_-2_-2_0.509296.dat -2.0 -2.0  0.509296    999         666    test   \n",
       "3   0  H_-2_-2_0.509296.dat -2.0 -2.0  0.509296    999         666    test   \n",
       "4   0  H_-2_-2_0.509296.dat -2.0 -2.0  0.509296    999         666    test   \n",
       "\n",
       "       feat0      feat1  ...     feat90     feat91     feat92     feat93  \\\n",
       "0   0.100000   0.100000  ...   0.100000   0.100000   0.100000   0.100000   \n",
       "1   0.141421   0.141142  ...   0.114412   0.108967   0.123928   0.119406   \n",
       "2   0.141421   0.140306  ...   0.043702   0.026500   0.075777   0.060214   \n",
       "3  -0.100000   0.100000  ...  -0.100000   0.100000  -0.100000   0.100000   \n",
       "4   0.000509  -0.008372  ...  -0.082713  -0.089753  -0.067684  -0.075347   \n",
       "\n",
       "      feat94     feat95     feat96     feat97     feat98     feat99  \n",
       "0   0.100000   0.100000   0.100000   0.100000   0.100000   0.100000  \n",
       "1   0.131490   0.127962   0.136978   0.134500   0.140306   0.138916  \n",
       "2   0.103092   0.090145   0.123928   0.114412   0.136978   0.131490  \n",
       "3  -0.100000   0.100000  -0.100000   0.100000  -0.100000   0.100000  \n",
       "4  -0.051587  -0.059753  -0.034677  -0.043217  -0.017220  -0.026000  \n",
       "\n",
       "[5 rows x 108 columns]"
      ]
     },
     "execution_count": 5,
     "metadata": {},
     "output_type": "execute_result"
    }
   ],
   "source": [
    "dataframe.info()\n",
    "dataframe.head()\n",
    "#dataframe.tail()"
   ]
  },
  {
   "cell_type": "markdown",
   "metadata": {
    "papermill": {
     "duration": 0.035609,
     "end_time": "2020-04-06T19:50:44.716245",
     "exception": false,
     "start_time": "2020-04-06T19:50:44.680636",
     "status": "completed"
    },
    "tags": []
   },
   "source": [
    "#### Train/test "
   ]
  },
  {
   "cell_type": "code",
   "execution_count": 6,
   "metadata": {
    "execution": {
     "iopub.execute_input": "2020-04-06T19:50:44.780429Z",
     "iopub.status.busy": "2020-04-06T19:50:44.780116Z",
     "iopub.status.idle": "2020-04-06T19:50:47.569061Z",
     "shell.execute_reply": "2020-04-06T19:50:47.568743Z"
    },
    "papermill": {
     "duration": 2.80934,
     "end_time": "2020-04-06T19:50:47.569111",
     "exception": false,
     "start_time": "2020-04-06T19:50:44.759771",
     "status": "completed"
    },
    "tags": []
   },
   "outputs": [
    {
     "name": "stdout",
     "output_type": "stream",
     "text": [
      "% train:  0.846822130772748\n",
      "% test:  0.15317786922725193\n",
      "% train + test:  1.0\n"
     ]
    }
   ],
   "source": [
    "n_total = len(dataframe)\n",
    "n_train = len(dataframe[dataframe.type_of == \"train\"])\n",
    "n_test = len(dataframe[dataframe.type_of == \"test\"])\n",
    "print(\"% train: \", n_train/n_total)\n",
    "print(\"% test: \", n_test/n_total)\n",
    "print(\"% train + test: \", (n_train+n_test)/n_total)"
   ]
  },
  {
   "cell_type": "markdown",
   "metadata": {
    "papermill": {
     "duration": 0.01613,
     "end_time": "2020-04-06T19:50:47.602012",
     "exception": false,
     "start_time": "2020-04-06T19:50:47.585882",
     "status": "completed"
    },
    "tags": []
   },
   "source": [
    "#### Unique winding values"
   ]
  },
  {
   "cell_type": "code",
   "execution_count": 7,
   "metadata": {
    "execution": {
     "iopub.execute_input": "2020-04-06T19:50:47.636310Z",
     "iopub.status.busy": "2020-04-06T19:50:47.636006Z",
     "iopub.status.idle": "2020-04-06T19:50:47.649448Z",
     "shell.execute_reply": "2020-04-06T19:50:47.649749Z"
    },
    "papermill": {
     "duration": 0.031412,
     "end_time": "2020-04-06T19:50:47.649812",
     "exception": false,
     "start_time": "2020-04-06T19:50:47.618400",
     "status": "completed"
    },
    "tags": []
   },
   "outputs": [
    {
     "data": {
      "text/plain": [
       "array([  0,   1, 999], dtype=int32)"
      ]
     },
     "execution_count": 7,
     "metadata": {},
     "output_type": "execute_result"
    }
   ],
   "source": [
    "np.unique(dataframe.phase.values)"
   ]
  },
  {
   "cell_type": "markdown",
   "metadata": {
    "papermill": {
     "duration": 0.015979,
     "end_time": "2020-04-06T19:50:47.681967",
     "exception": false,
     "start_time": "2020-04-06T19:50:47.665988",
     "status": "completed"
    },
    "tags": []
   },
   "source": [
    "#### Checking t values are row-major sorted"
   ]
  },
  {
   "cell_type": "code",
   "execution_count": 8,
   "metadata": {
    "execution": {
     "iopub.execute_input": "2020-04-06T19:50:47.718079Z",
     "iopub.status.busy": "2020-04-06T19:50:47.717572Z",
     "iopub.status.idle": "2020-04-06T19:50:47.725171Z",
     "shell.execute_reply": "2020-04-06T19:50:47.724847Z"
    },
    "papermill": {
     "duration": 0.026325,
     "end_time": "2020-04-06T19:50:47.725223",
     "exception": false,
     "start_time": "2020-04-06T19:50:47.698898",
     "status": "completed"
    },
    "tags": []
   },
   "outputs": [],
   "source": [
    "#np.set_printoptions(threshold=np.inf)\n",
    "#t_array = dataframe[[\"t1\", \"t2\"]].values\n",
    "#print(\"t_array:\\n\", t_array)\n",
    "#np.set_printoptions()"
   ]
  },
  {
   "cell_type": "markdown",
   "metadata": {
    "papermill": {
     "duration": 0.016435,
     "end_time": "2020-04-06T19:50:47.759166",
     "exception": false,
     "start_time": "2020-04-06T19:50:47.742731",
     "status": "completed"
    },
    "tags": []
   },
   "source": [
    "#### Making a grid"
   ]
  },
  {
   "cell_type": "code",
   "execution_count": 9,
   "metadata": {
    "execution": {
     "iopub.execute_input": "2020-04-06T19:50:47.793587Z",
     "iopub.status.busy": "2020-04-06T19:50:47.793255Z",
     "iopub.status.idle": "2020-04-06T19:50:47.823542Z",
     "shell.execute_reply": "2020-04-06T19:50:47.823198Z"
    },
    "papermill": {
     "duration": 0.048407,
     "end_time": "2020-04-06T19:50:47.823594",
     "exception": false,
     "start_time": "2020-04-06T19:50:47.775187",
     "status": "completed"
    },
    "tags": []
   },
   "outputs": [],
   "source": [
    "#xx = dataframe.t2.values\n",
    "#yy = dataframe.t1.values\n",
    "#print(\"xx: \\n\", xx)\n",
    "#print(\"yy: \\n\", yy)"
   ]
  },
  {
   "cell_type": "code",
   "execution_count": 10,
   "metadata": {
    "execution": {
     "iopub.execute_input": "2020-04-06T19:50:47.859285Z",
     "iopub.status.busy": "2020-04-06T19:50:47.858934Z",
     "iopub.status.idle": "2020-04-06T19:50:49.468675Z",
     "shell.execute_reply": "2020-04-06T19:50:49.468355Z"
    },
    "papermill": {
     "duration": 1.628054,
     "end_time": "2020-04-06T19:50:49.468724",
     "exception": false,
     "start_time": "2020-04-06T19:50:47.840670",
     "status": "completed"
    },
    "tags": []
   },
   "outputs": [
    {
     "data": {
      "text/html": [
       "<div>\n",
       "<style scoped>\n",
       "    .dataframe tbody tr th:only-of-type {\n",
       "        vertical-align: middle;\n",
       "    }\n",
       "\n",
       "    .dataframe tbody tr th {\n",
       "        vertical-align: top;\n",
       "    }\n",
       "\n",
       "    .dataframe thead th {\n",
       "        text-align: right;\n",
       "    }\n",
       "</style>\n",
       "<table border=\"1\" class=\"dataframe\">\n",
       "  <thead>\n",
       "    <tr style=\"text-align: right;\">\n",
       "      <th></th>\n",
       "      <th>id</th>\n",
       "      <th>path</th>\n",
       "      <th>t1</th>\n",
       "      <th>t2</th>\n",
       "      <th>winding</th>\n",
       "      <th>phase</th>\n",
       "      <th>pred_phase</th>\n",
       "      <th>type_of</th>\n",
       "      <th>feat0</th>\n",
       "      <th>feat1</th>\n",
       "      <th>...</th>\n",
       "      <th>feat90</th>\n",
       "      <th>feat91</th>\n",
       "      <th>feat92</th>\n",
       "      <th>feat93</th>\n",
       "      <th>feat94</th>\n",
       "      <th>feat95</th>\n",
       "      <th>feat96</th>\n",
       "      <th>feat97</th>\n",
       "      <th>feat98</th>\n",
       "      <th>feat99</th>\n",
       "    </tr>\n",
       "  </thead>\n",
       "  <tbody>\n",
       "    <tr>\n",
       "      <th>900</th>\n",
       "      <td>9</td>\n",
       "      <td>H_-2_-1.55_-0.00906169.dat</td>\n",
       "      <td>-2.0</td>\n",
       "      <td>-1.55</td>\n",
       "      <td>-0.009062</td>\n",
       "      <td>0</td>\n",
       "      <td>666</td>\n",
       "      <td>train</td>\n",
       "      <td>0.100000</td>\n",
       "      <td>0.100000</td>\n",
       "      <td>...</td>\n",
       "      <td>0.100000</td>\n",
       "      <td>0.100000</td>\n",
       "      <td>0.100000</td>\n",
       "      <td>0.100000</td>\n",
       "      <td>0.100000</td>\n",
       "      <td>0.100000</td>\n",
       "      <td>0.100000</td>\n",
       "      <td>0.100000</td>\n",
       "      <td>0.100000</td>\n",
       "      <td>0.100000</td>\n",
       "    </tr>\n",
       "    <tr>\n",
       "      <th>901</th>\n",
       "      <td>9</td>\n",
       "      <td>H_-2_-1.55_-0.00906169.dat</td>\n",
       "      <td>-2.0</td>\n",
       "      <td>-1.55</td>\n",
       "      <td>-0.009062</td>\n",
       "      <td>0</td>\n",
       "      <td>666</td>\n",
       "      <td>train</td>\n",
       "      <td>0.100000</td>\n",
       "      <td>-0.100000</td>\n",
       "      <td>...</td>\n",
       "      <td>0.100000</td>\n",
       "      <td>-0.100000</td>\n",
       "      <td>0.100000</td>\n",
       "      <td>-0.100000</td>\n",
       "      <td>0.100000</td>\n",
       "      <td>-0.100000</td>\n",
       "      <td>0.100000</td>\n",
       "      <td>-0.100000</td>\n",
       "      <td>0.100000</td>\n",
       "      <td>-0.100000</td>\n",
       "    </tr>\n",
       "    <tr>\n",
       "      <th>902</th>\n",
       "      <td>9</td>\n",
       "      <td>H_-2_-1.55_-0.00906169.dat</td>\n",
       "      <td>-2.0</td>\n",
       "      <td>-1.55</td>\n",
       "      <td>-0.009062</td>\n",
       "      <td>0</td>\n",
       "      <td>666</td>\n",
       "      <td>train</td>\n",
       "      <td>0.141421</td>\n",
       "      <td>0.141209</td>\n",
       "      <td>...</td>\n",
       "      <td>0.114412</td>\n",
       "      <td>0.109682</td>\n",
       "      <td>0.123928</td>\n",
       "      <td>0.120007</td>\n",
       "      <td>0.131490</td>\n",
       "      <td>0.128438</td>\n",
       "      <td>0.136978</td>\n",
       "      <td>0.134844</td>\n",
       "      <td>0.140306</td>\n",
       "      <td>0.139123</td>\n",
       "    </tr>\n",
       "    <tr>\n",
       "      <th>903</th>\n",
       "      <td>9</td>\n",
       "      <td>H_-2_-1.55_-0.00906169.dat</td>\n",
       "      <td>-2.0</td>\n",
       "      <td>-1.55</td>\n",
       "      <td>-0.009062</td>\n",
       "      <td>0</td>\n",
       "      <td>666</td>\n",
       "      <td>train</td>\n",
       "      <td>0.141421</td>\n",
       "      <td>0.139516</td>\n",
       "      <td>...</td>\n",
       "      <td>-0.043702</td>\n",
       "      <td>-0.065115</td>\n",
       "      <td>0.008880</td>\n",
       "      <td>-0.014328</td>\n",
       "      <td>0.060214</td>\n",
       "      <td>0.038471</td>\n",
       "      <td>0.103092</td>\n",
       "      <td>0.085867</td>\n",
       "      <td>0.131490</td>\n",
       "      <td>0.121203</td>\n",
       "    </tr>\n",
       "    <tr>\n",
       "      <th>904</th>\n",
       "      <td>9</td>\n",
       "      <td>H_-2_-1.55_-0.00906169.dat</td>\n",
       "      <td>-2.0</td>\n",
       "      <td>-1.55</td>\n",
       "      <td>-0.009062</td>\n",
       "      <td>0</td>\n",
       "      <td>666</td>\n",
       "      <td>train</td>\n",
       "      <td>0.141421</td>\n",
       "      <td>0.140572</td>\n",
       "      <td>...</td>\n",
       "      <td>0.043702</td>\n",
       "      <td>0.028721</td>\n",
       "      <td>0.075777</td>\n",
       "      <td>0.062255</td>\n",
       "      <td>0.103092</td>\n",
       "      <td>0.091879</td>\n",
       "      <td>0.123928</td>\n",
       "      <td>0.115729</td>\n",
       "      <td>0.136978</td>\n",
       "      <td>0.132307</td>\n",
       "    </tr>\n",
       "    <tr>\n",
       "      <th>...</th>\n",
       "      <td>...</td>\n",
       "      <td>...</td>\n",
       "      <td>...</td>\n",
       "      <td>...</td>\n",
       "      <td>...</td>\n",
       "      <td>...</td>\n",
       "      <td>...</td>\n",
       "      <td>...</td>\n",
       "      <td>...</td>\n",
       "      <td>...</td>\n",
       "      <td>...</td>\n",
       "      <td>...</td>\n",
       "      <td>...</td>\n",
       "      <td>...</td>\n",
       "      <td>...</td>\n",
       "      <td>...</td>\n",
       "      <td>...</td>\n",
       "      <td>...</td>\n",
       "      <td>...</td>\n",
       "      <td>...</td>\n",
       "      <td>...</td>\n",
       "    </tr>\n",
       "    <tr>\n",
       "      <th>1895</th>\n",
       "      <td>18</td>\n",
       "      <td>H_-2_-1.1_-0.00325923.dat</td>\n",
       "      <td>-2.0</td>\n",
       "      <td>-1.10</td>\n",
       "      <td>-0.003259</td>\n",
       "      <td>0</td>\n",
       "      <td>666</td>\n",
       "      <td>train</td>\n",
       "      <td>0.141421</td>\n",
       "      <td>0.135641</td>\n",
       "      <td>...</td>\n",
       "      <td>-0.043989</td>\n",
       "      <td>-0.079976</td>\n",
       "      <td>0.076032</td>\n",
       "      <td>0.106469</td>\n",
       "      <td>-0.103298</td>\n",
       "      <td>-0.126273</td>\n",
       "      <td>0.124074</td>\n",
       "      <td>0.138142</td>\n",
       "      <td>-0.137053</td>\n",
       "      <td>-0.141332</td>\n",
       "    </tr>\n",
       "    <tr>\n",
       "      <th>1896</th>\n",
       "      <td>18</td>\n",
       "      <td>H_-2_-1.1_-0.00325923.dat</td>\n",
       "      <td>-2.0</td>\n",
       "      <td>-1.10</td>\n",
       "      <td>-0.003259</td>\n",
       "      <td>0</td>\n",
       "      <td>666</td>\n",
       "      <td>train</td>\n",
       "      <td>-0.000125</td>\n",
       "      <td>0.077667</td>\n",
       "      <td>...</td>\n",
       "      <td>-0.134461</td>\n",
       "      <td>-0.136402</td>\n",
       "      <td>0.109047</td>\n",
       "      <td>0.041557</td>\n",
       "      <td>0.017601</td>\n",
       "      <td>0.091867</td>\n",
       "      <td>-0.127909</td>\n",
       "      <td>-0.140007</td>\n",
       "      <td>0.119473</td>\n",
       "      <td>0.058172</td>\n",
       "    </tr>\n",
       "    <tr>\n",
       "      <th>1897</th>\n",
       "      <td>18</td>\n",
       "      <td>H_-2_-1.1_-0.00325923.dat</td>\n",
       "      <td>-2.0</td>\n",
       "      <td>-1.10</td>\n",
       "      <td>-0.003259</td>\n",
       "      <td>0</td>\n",
       "      <td>666</td>\n",
       "      <td>train</td>\n",
       "      <td>-0.001253</td>\n",
       "      <td>0.038525</td>\n",
       "      <td>...</td>\n",
       "      <td>0.134882</td>\n",
       "      <td>0.117508</td>\n",
       "      <td>-0.120073</td>\n",
       "      <td>-0.094248</td>\n",
       "      <td>0.097719</td>\n",
       "      <td>0.065065</td>\n",
       "      <td>-0.069226</td>\n",
       "      <td>-0.031794</td>\n",
       "      <td>0.036383</td>\n",
       "      <td>-0.003474</td>\n",
       "    </tr>\n",
       "    <tr>\n",
       "      <th>1898</th>\n",
       "      <td>18</td>\n",
       "      <td>H_-2_-1.1_-0.00325923.dat</td>\n",
       "      <td>-2.0</td>\n",
       "      <td>-1.10</td>\n",
       "      <td>-0.003259</td>\n",
       "      <td>0</td>\n",
       "      <td>666</td>\n",
       "      <td>train</td>\n",
       "      <td>0.000341</td>\n",
       "      <td>0.077486</td>\n",
       "      <td>...</td>\n",
       "      <td>0.134394</td>\n",
       "      <td>-0.136459</td>\n",
       "      <td>-0.109184</td>\n",
       "      <td>0.041764</td>\n",
       "      <td>-0.017387</td>\n",
       "      <td>0.091702</td>\n",
       "      <td>0.127816</td>\n",
       "      <td>-0.140037</td>\n",
       "      <td>-0.119588</td>\n",
       "      <td>0.058369</td>\n",
       "    </tr>\n",
       "    <tr>\n",
       "      <th>1899</th>\n",
       "      <td>18</td>\n",
       "      <td>H_-2_-1.1_-0.00325923.dat</td>\n",
       "      <td>-2.0</td>\n",
       "      <td>-1.10</td>\n",
       "      <td>-0.003259</td>\n",
       "      <td>0</td>\n",
       "      <td>666</td>\n",
       "      <td>train</td>\n",
       "      <td>0.001695</td>\n",
       "      <td>0.038100</td>\n",
       "      <td>...</td>\n",
       "      <td>-0.135014</td>\n",
       "      <td>0.117753</td>\n",
       "      <td>0.120306</td>\n",
       "      <td>-0.094576</td>\n",
       "      <td>-0.098038</td>\n",
       "      <td>0.065457</td>\n",
       "      <td>0.069610</td>\n",
       "      <td>-0.032224</td>\n",
       "      <td>-0.036809</td>\n",
       "      <td>-0.003033</td>\n",
       "    </tr>\n",
       "  </tbody>\n",
       "</table>\n",
       "<p>1000 rows × 108 columns</p>\n",
       "</div>"
      ],
      "text/plain": [
       "      id                        path   t1    t2   winding  phase  pred_phase  \\\n",
       "900    9  H_-2_-1.55_-0.00906169.dat -2.0 -1.55 -0.009062      0         666   \n",
       "901    9  H_-2_-1.55_-0.00906169.dat -2.0 -1.55 -0.009062      0         666   \n",
       "902    9  H_-2_-1.55_-0.00906169.dat -2.0 -1.55 -0.009062      0         666   \n",
       "903    9  H_-2_-1.55_-0.00906169.dat -2.0 -1.55 -0.009062      0         666   \n",
       "904    9  H_-2_-1.55_-0.00906169.dat -2.0 -1.55 -0.009062      0         666   \n",
       "...   ..                         ...  ...   ...       ...    ...         ...   \n",
       "1895  18   H_-2_-1.1_-0.00325923.dat -2.0 -1.10 -0.003259      0         666   \n",
       "1896  18   H_-2_-1.1_-0.00325923.dat -2.0 -1.10 -0.003259      0         666   \n",
       "1897  18   H_-2_-1.1_-0.00325923.dat -2.0 -1.10 -0.003259      0         666   \n",
       "1898  18   H_-2_-1.1_-0.00325923.dat -2.0 -1.10 -0.003259      0         666   \n",
       "1899  18   H_-2_-1.1_-0.00325923.dat -2.0 -1.10 -0.003259      0         666   \n",
       "\n",
       "     type_of      feat0      feat1  ...     feat90     feat91     feat92  \\\n",
       "900    train   0.100000   0.100000  ...   0.100000   0.100000   0.100000   \n",
       "901    train   0.100000  -0.100000  ...   0.100000  -0.100000   0.100000   \n",
       "902    train   0.141421   0.141209  ...   0.114412   0.109682   0.123928   \n",
       "903    train   0.141421   0.139516  ...  -0.043702  -0.065115   0.008880   \n",
       "904    train   0.141421   0.140572  ...   0.043702   0.028721   0.075777   \n",
       "...      ...        ...        ...  ...        ...        ...        ...   \n",
       "1895   train   0.141421   0.135641  ...  -0.043989  -0.079976   0.076032   \n",
       "1896   train  -0.000125   0.077667  ...  -0.134461  -0.136402   0.109047   \n",
       "1897   train  -0.001253   0.038525  ...   0.134882   0.117508  -0.120073   \n",
       "1898   train   0.000341   0.077486  ...   0.134394  -0.136459  -0.109184   \n",
       "1899   train   0.001695   0.038100  ...  -0.135014   0.117753   0.120306   \n",
       "\n",
       "         feat93     feat94     feat95     feat96     feat97     feat98  \\\n",
       "900    0.100000   0.100000   0.100000   0.100000   0.100000   0.100000   \n",
       "901   -0.100000   0.100000  -0.100000   0.100000  -0.100000   0.100000   \n",
       "902    0.120007   0.131490   0.128438   0.136978   0.134844   0.140306   \n",
       "903   -0.014328   0.060214   0.038471   0.103092   0.085867   0.131490   \n",
       "904    0.062255   0.103092   0.091879   0.123928   0.115729   0.136978   \n",
       "...         ...        ...        ...        ...        ...        ...   \n",
       "1895   0.106469  -0.103298  -0.126273   0.124074   0.138142  -0.137053   \n",
       "1896   0.041557   0.017601   0.091867  -0.127909  -0.140007   0.119473   \n",
       "1897  -0.094248   0.097719   0.065065  -0.069226  -0.031794   0.036383   \n",
       "1898   0.041764  -0.017387   0.091702   0.127816  -0.140037  -0.119588   \n",
       "1899  -0.094576  -0.098038   0.065457   0.069610  -0.032224  -0.036809   \n",
       "\n",
       "         feat99  \n",
       "900    0.100000  \n",
       "901   -0.100000  \n",
       "902    0.139123  \n",
       "903    0.121203  \n",
       "904    0.132307  \n",
       "...         ...  \n",
       "1895  -0.141332  \n",
       "1896   0.058172  \n",
       "1897  -0.003474  \n",
       "1898   0.058369  \n",
       "1899  -0.003033  \n",
       "\n",
       "[1000 rows x 108 columns]"
      ]
     },
     "execution_count": 10,
     "metadata": {},
     "output_type": "execute_result"
    }
   ],
   "source": [
    "# A view of train data\n",
    "dataframe[dataframe.type_of == \"train\"].head(1000)"
   ]
  },
  {
   "cell_type": "code",
   "execution_count": 11,
   "metadata": {
    "execution": {
     "iopub.execute_input": "2020-04-06T19:50:49.504409Z",
     "iopub.status.busy": "2020-04-06T19:50:49.504103Z",
     "iopub.status.idle": "2020-04-06T19:50:49.511467Z",
     "shell.execute_reply": "2020-04-06T19:50:49.511148Z"
    },
    "papermill": {
     "duration": 0.025681,
     "end_time": "2020-04-06T19:50:49.511517",
     "exception": false,
     "start_time": "2020-04-06T19:50:49.485836",
     "status": "completed"
    },
    "tags": []
   },
   "outputs": [],
   "source": [
    "# A view of test data\n",
    "#dataframe[dataframe.type_of == \"test\"].head(1000)"
   ]
  },
  {
   "cell_type": "markdown",
   "metadata": {
    "papermill": {
     "duration": 0.016616,
     "end_time": "2020-04-06T19:50:49.545609",
     "exception": false,
     "start_time": "2020-04-06T19:50:49.528993",
     "status": "completed"
    },
    "tags": []
   },
   "source": [
    "#### clearing variables"
   ]
  },
  {
   "cell_type": "code",
   "execution_count": 12,
   "metadata": {
    "execution": {
     "iopub.execute_input": "2020-04-06T19:50:49.581810Z",
     "iopub.status.busy": "2020-04-06T19:50:49.581502Z",
     "iopub.status.idle": "2020-04-06T19:50:49.615270Z",
     "shell.execute_reply": "2020-04-06T19:50:49.614921Z"
    },
    "papermill": {
     "duration": 0.052352,
     "end_time": "2020-04-06T19:50:49.615322",
     "exception": false,
     "start_time": "2020-04-06T19:50:49.562970",
     "status": "completed"
    },
    "tags": []
   },
   "outputs": [],
   "source": [
    "#del list_of_hamiltonians\n",
    "#del raw_data\n",
    "#del dataframe"
   ]
  },
  {
   "cell_type": "code",
   "execution_count": null,
   "metadata": {
    "papermill": {
     "duration": 0.017509,
     "end_time": "2020-04-06T19:50:49.650532",
     "exception": false,
     "start_time": "2020-04-06T19:50:49.633023",
     "status": "completed"
    },
    "tags": []
   },
   "outputs": [],
   "source": []
  }
 ],
 "metadata": {
  "celltoolbar": "Tags",
  "kernelspec": {
   "display_name": "ml_top_phases",
   "language": "python",
   "name": "ml_top_phases"
  },
  "language_info": {
   "codemirror_mode": {
    "name": "ipython",
    "version": 3
   },
   "file_extension": ".py",
   "mimetype": "text/x-python",
   "name": "python",
   "nbconvert_exporter": "python",
   "pygments_lexer": "ipython3",
   "version": "3.6.10"
  },
  "papermill": {
   "duration": 74.809454,
   "end_time": "2020-04-06T19:50:49.973589",
   "environment_variables": {},
   "exception": null,
   "input_path": "0_preprocessing_template.ipynb",
   "output_path": "preprocessing_output_ssh1_periodic_100_6561.ipynb",
   "parameters": {
    "allowed_windings": [
     0,
     1
    ],
    "csv_dir": "/home/rio/ssh_csvs/ssh1",
    "csv_name": "/home/rio/ssh_csvs/ssh1/periodic_100_6561.csv",
    "epsilon": 0.01,
    "grid_folder": "/home/rio/ssh_grids/ssh1/periodic_100_6561"
   },
   "start_time": "2020-04-06T19:49:35.164135",
   "version": "2.1.0"
  }
 },
 "nbformat": 4,
 "nbformat_minor": 2
}