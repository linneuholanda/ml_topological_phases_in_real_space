{
 "cells": [
  {
   "cell_type": "markdown",
   "metadata": {
    "papermill": {
     "duration": 0.056666,
     "end_time": "2020-07-16T00:50:11.569782",
     "exception": false,
     "start_time": "2020-07-16T00:50:11.513116",
     "status": "completed"
    },
    "tags": []
   },
   "source": [
    "# Simulation template \n",
    "\n",
    "In this notebook we run the machine learning analysis of topological phase transitions occurring  in both nearest-neighbours SSH models (ssh1) and second neighbours models (ssh2) as decribed in the paper [Machine learning topological phases in real space](https://arxiv.org/abs/1901.01963). Here the simulation is run with features generated from fourier components in the first scenario. This scenario is characterized by using only the EVEN wavevector space eigenmodes, computed from ALL real space components."
   ]
  },
  {
   "cell_type": "markdown",
   "metadata": {
    "papermill": {
     "duration": 0.016751,
     "end_time": "2020-07-16T00:50:11.606533",
     "exception": false,
     "start_time": "2020-07-16T00:50:11.589782",
     "status": "completed"
    },
    "tags": []
   },
   "source": [
    "## Defining parameters"
   ]
  },
  {
   "cell_type": "code",
   "execution_count": 1,
   "metadata": {
    "execution": {
     "iopub.execute_input": "2020-07-16T00:50:11.644425Z",
     "iopub.status.busy": "2020-07-16T00:50:11.644086Z",
     "iopub.status.idle": "2020-07-16T00:50:12.230118Z",
     "shell.execute_reply": "2020-07-16T00:50:12.229843Z"
    },
    "papermill": {
     "duration": 0.60743,
     "end_time": "2020-07-16T00:50:12.230181",
     "exception": false,
     "start_time": "2020-07-16T00:50:11.622751",
     "status": "completed"
    },
    "tags": []
   },
   "outputs": [
    {
     "name": "stdout",
     "output_type": "stream",
     "text": [
      "CPU times: user 742 ms, sys: 268 ms, total: 1.01 s\n",
      "Wall time: 580 ms\n"
     ]
    }
   ],
   "source": [
    "%%time\n",
    "%load_ext autoreload\n",
    "%autoreload 2\n",
    "from simulation import *"
   ]
  },
  {
   "cell_type": "code",
   "execution_count": 2,
   "metadata": {
    "execution": {
     "iopub.execute_input": "2020-07-16T00:50:12.268357Z",
     "iopub.status.busy": "2020-07-16T00:50:12.268005Z",
     "iopub.status.idle": "2020-07-16T00:50:12.279206Z",
     "shell.execute_reply": "2020-07-16T00:50:12.279518Z"
    },
    "papermill": {
     "duration": 0.031718,
     "end_time": "2020-07-16T00:50:12.279592",
     "exception": false,
     "start_time": "2020-07-16T00:50:12.247874",
     "status": "completed"
    },
    "tags": [
     "parameters"
    ]
   },
   "outputs": [
    {
     "name": "stdout",
     "output_type": "stream",
     "text": [
      "CPU times: user 3 µs, sys: 0 ns, total: 3 µs\n",
      "Wall time: 4.77 µs\n"
     ]
    }
   ],
   "source": [
    "%%time\n",
    "### Dataset and simulation parameters\n",
    "#csv_path = SSH2_PERIODIC_100_6561_CSV \n",
    "csv_path = SSH1_PERIODIC_100_6561_CSV \n",
    "model_name = \"DecisionTreeClassifier\"\n",
    "model_kw = {\"criterion\":\"entropy\"}\n",
    "allowed_windings = [0,1]\n",
    "#allowed_windings = [-1,0,1,2]\n",
    "simulation_dir = SSH1_PERIODIC_1ST_SCENARIO_100_6561_SIMULATION_DIR\n",
    "#simulation_dir = SSH2_PERIODIC_ENGINEERED_100_6561_SIMULATION_DIR\n",
    "val_split = 0.9  \n",
    "features_to_use = None\n",
    "shuffle_features = False\n",
    "random_state = 763\n",
    "\n",
    "### Fourier features\n",
    "fourier_mode = \"dst\"\n",
    "fourier_features_to_use = None\n",
    "fourier_real = \"imag\"\n",
    "fourier_normalize = False\n",
    "fourier_fillna = False\n",
    "\n",
    "### Running a simulation\n",
    "n_experiments = 5\n",
    "start_n = 0\n",
    "fit_params = None\n",
    "#mode=mode\n",
    "shuffle_rows = True\n",
    "pred_params = None\n",
    "random_features = False\n",
    "######### DON'T SET THIS TO TRUE UNLESS YOUR DATASET IS SMALL!! WILL FLOOD YOUR MEMORY!!!\n",
    "store_in_lists = False   \n",
    "########## BELOW ARE THE PARAMETERS THAT CONTROL WHAT WILL BE SAVED\n",
    "save_eigenvector=True\n",
    "save_hamiltonian=True \n",
    "save_accuracy=True \n",
    "save_models=True"
   ]
  },
  {
   "cell_type": "code",
   "execution_count": 3,
   "metadata": {
    "execution": {
     "iopub.execute_input": "2020-07-16T00:50:12.318103Z",
     "iopub.status.busy": "2020-07-16T00:50:12.317786Z",
     "iopub.status.idle": "2020-07-16T00:50:12.423353Z",
     "shell.execute_reply": "2020-07-16T00:50:12.425060Z"
    },
    "papermill": {
     "duration": 0.128285,
     "end_time": "2020-07-16T00:50:12.425369",
     "exception": false,
     "start_time": "2020-07-16T00:50:12.297084",
     "status": "completed"
    },
    "tags": [
     "injected-parameters"
    ]
   },
   "outputs": [],
   "source": [
    "# Parameters\n",
    "model_kw = {\"criterion\": \"entropy\"}\n",
    "allowed_windings = [0, 1]\n",
    "val_split = 0.9\n",
    "features_to_use = None\n",
    "shuffle_features = False\n",
    "n_experiments = 100\n",
    "start_n = 0\n",
    "fit_params = None\n",
    "shuffle_rows = True\n",
    "pred_params = None\n",
    "random_features = False\n",
    "store_in_lists = False\n",
    "save_eigenvector = True\n",
    "save_hamiltonian = True\n",
    "save_accuracy = True\n",
    "save_models = True\n",
    "csv_path = \"/home/rio/ssh_csvs/ssh1/periodic_100_6561.csv\"\n",
    "model_name = \"DecisionTreeClassifier\"\n",
    "simulation_dir = \"/home/rio/ssh_simulations/ssh1/periodic_3rd_scenario_100_6561\"\n",
    "random_state = 2462394756\n",
    "fourier_features_to_use = None\n",
    "fourier_mode = \"dct\"\n",
    "fourier_real = None\n",
    "fourier_normalize = False\n",
    "fourier_fillna = False\n"
   ]
  },
  {
   "cell_type": "code",
   "execution_count": 4,
   "metadata": {
    "execution": {
     "iopub.execute_input": "2020-07-16T00:50:12.503517Z",
     "iopub.status.busy": "2020-07-16T00:50:12.503194Z",
     "iopub.status.idle": "2020-07-16T00:50:18.918660Z",
     "shell.execute_reply": "2020-07-16T00:50:18.918320Z"
    },
    "papermill": {
     "duration": 6.437683,
     "end_time": "2020-07-16T00:50:18.918717",
     "exception": false,
     "start_time": "2020-07-16T00:50:12.481034",
     "status": "completed"
    },
    "tags": []
   },
   "outputs": [
    {
     "name": "stdout",
     "output_type": "stream",
     "text": [
      "Info on all data: \n",
      "\n",
      "<class 'pandas.core.frame.DataFrame'>\n",
      "Int64Index: 656100 entries, 0 to 656099\n",
      "Columns: 108 entries, id to feat99\n",
      "dtypes: float64(103), int32(3), object(2)\n",
      "memory usage: 538.1+ MB\n",
      "CPU times: user 6.64 s, sys: 631 ms, total: 7.27 s\n",
      "Wall time: 6.39 s\n"
     ]
    },
    {
     "data": {
      "text/html": [
       "<div>\n",
       "<style scoped>\n",
       "    .dataframe tbody tr th:only-of-type {\n",
       "        vertical-align: middle;\n",
       "    }\n",
       "\n",
       "    .dataframe tbody tr th {\n",
       "        vertical-align: top;\n",
       "    }\n",
       "\n",
       "    .dataframe thead th {\n",
       "        text-align: right;\n",
       "    }\n",
       "</style>\n",
       "<table border=\"1\" class=\"dataframe\">\n",
       "  <thead>\n",
       "    <tr style=\"text-align: right;\">\n",
       "      <th></th>\n",
       "      <th>id</th>\n",
       "      <th>path</th>\n",
       "      <th>t1</th>\n",
       "      <th>t2</th>\n",
       "      <th>winding</th>\n",
       "      <th>phase</th>\n",
       "      <th>pred_phase</th>\n",
       "      <th>type_of</th>\n",
       "      <th>feat0</th>\n",
       "      <th>feat1</th>\n",
       "      <th>...</th>\n",
       "      <th>feat90</th>\n",
       "      <th>feat91</th>\n",
       "      <th>feat92</th>\n",
       "      <th>feat93</th>\n",
       "      <th>feat94</th>\n",
       "      <th>feat95</th>\n",
       "      <th>feat96</th>\n",
       "      <th>feat97</th>\n",
       "      <th>feat98</th>\n",
       "      <th>feat99</th>\n",
       "    </tr>\n",
       "  </thead>\n",
       "  <tbody>\n",
       "    <tr>\n",
       "      <th>0</th>\n",
       "      <td>0</td>\n",
       "      <td>H_-2_-2_0.509296.dat</td>\n",
       "      <td>-2.0</td>\n",
       "      <td>-2.0</td>\n",
       "      <td>0.509296</td>\n",
       "      <td>999</td>\n",
       "      <td>666</td>\n",
       "      <td>test</td>\n",
       "      <td>0.100000</td>\n",
       "      <td>0.100000</td>\n",
       "      <td>...</td>\n",
       "      <td>0.100000</td>\n",
       "      <td>0.100000</td>\n",
       "      <td>0.100000</td>\n",
       "      <td>0.100000</td>\n",
       "      <td>0.100000</td>\n",
       "      <td>0.100000</td>\n",
       "      <td>0.100000</td>\n",
       "      <td>0.100000</td>\n",
       "      <td>0.100000</td>\n",
       "      <td>0.100000</td>\n",
       "    </tr>\n",
       "    <tr>\n",
       "      <th>1</th>\n",
       "      <td>0</td>\n",
       "      <td>H_-2_-2_0.509296.dat</td>\n",
       "      <td>-2.0</td>\n",
       "      <td>-2.0</td>\n",
       "      <td>0.509296</td>\n",
       "      <td>999</td>\n",
       "      <td>666</td>\n",
       "      <td>test</td>\n",
       "      <td>0.141421</td>\n",
       "      <td>0.141142</td>\n",
       "      <td>...</td>\n",
       "      <td>0.114412</td>\n",
       "      <td>0.108967</td>\n",
       "      <td>0.123928</td>\n",
       "      <td>0.119406</td>\n",
       "      <td>0.131490</td>\n",
       "      <td>0.127962</td>\n",
       "      <td>0.136978</td>\n",
       "      <td>0.134500</td>\n",
       "      <td>0.140306</td>\n",
       "      <td>0.138916</td>\n",
       "    </tr>\n",
       "    <tr>\n",
       "      <th>2</th>\n",
       "      <td>0</td>\n",
       "      <td>H_-2_-2_0.509296.dat</td>\n",
       "      <td>-2.0</td>\n",
       "      <td>-2.0</td>\n",
       "      <td>0.509296</td>\n",
       "      <td>999</td>\n",
       "      <td>666</td>\n",
       "      <td>test</td>\n",
       "      <td>0.141421</td>\n",
       "      <td>0.140306</td>\n",
       "      <td>...</td>\n",
       "      <td>0.043702</td>\n",
       "      <td>0.026500</td>\n",
       "      <td>0.075777</td>\n",
       "      <td>0.060214</td>\n",
       "      <td>0.103092</td>\n",
       "      <td>0.090145</td>\n",
       "      <td>0.123928</td>\n",
       "      <td>0.114412</td>\n",
       "      <td>0.136978</td>\n",
       "      <td>0.131490</td>\n",
       "    </tr>\n",
       "    <tr>\n",
       "      <th>3</th>\n",
       "      <td>0</td>\n",
       "      <td>H_-2_-2_0.509296.dat</td>\n",
       "      <td>-2.0</td>\n",
       "      <td>-2.0</td>\n",
       "      <td>0.509296</td>\n",
       "      <td>999</td>\n",
       "      <td>666</td>\n",
       "      <td>test</td>\n",
       "      <td>-0.100000</td>\n",
       "      <td>0.100000</td>\n",
       "      <td>...</td>\n",
       "      <td>-0.100000</td>\n",
       "      <td>0.100000</td>\n",
       "      <td>-0.100000</td>\n",
       "      <td>0.100000</td>\n",
       "      <td>-0.100000</td>\n",
       "      <td>0.100000</td>\n",
       "      <td>-0.100000</td>\n",
       "      <td>0.100000</td>\n",
       "      <td>-0.100000</td>\n",
       "      <td>0.100000</td>\n",
       "    </tr>\n",
       "    <tr>\n",
       "      <th>4</th>\n",
       "      <td>0</td>\n",
       "      <td>H_-2_-2_0.509296.dat</td>\n",
       "      <td>-2.0</td>\n",
       "      <td>-2.0</td>\n",
       "      <td>0.509296</td>\n",
       "      <td>999</td>\n",
       "      <td>666</td>\n",
       "      <td>test</td>\n",
       "      <td>0.000509</td>\n",
       "      <td>-0.008372</td>\n",
       "      <td>...</td>\n",
       "      <td>-0.082713</td>\n",
       "      <td>-0.089753</td>\n",
       "      <td>-0.067684</td>\n",
       "      <td>-0.075347</td>\n",
       "      <td>-0.051587</td>\n",
       "      <td>-0.059753</td>\n",
       "      <td>-0.034677</td>\n",
       "      <td>-0.043217</td>\n",
       "      <td>-0.017220</td>\n",
       "      <td>-0.026000</td>\n",
       "    </tr>\n",
       "  </tbody>\n",
       "</table>\n",
       "<p>5 rows × 108 columns</p>\n",
       "</div>"
      ],
      "text/plain": [
       "   id                  path   t1   t2   winding  phase  pred_phase type_of  \\\n",
       "0   0  H_-2_-2_0.509296.dat -2.0 -2.0  0.509296    999         666    test   \n",
       "1   0  H_-2_-2_0.509296.dat -2.0 -2.0  0.509296    999         666    test   \n",
       "2   0  H_-2_-2_0.509296.dat -2.0 -2.0  0.509296    999         666    test   \n",
       "3   0  H_-2_-2_0.509296.dat -2.0 -2.0  0.509296    999         666    test   \n",
       "4   0  H_-2_-2_0.509296.dat -2.0 -2.0  0.509296    999         666    test   \n",
       "\n",
       "      feat0     feat1  ...    feat90    feat91    feat92    feat93    feat94  \\\n",
       "0  0.100000  0.100000  ...  0.100000  0.100000  0.100000  0.100000  0.100000   \n",
       "1  0.141421  0.141142  ...  0.114412  0.108967  0.123928  0.119406  0.131490   \n",
       "2  0.141421  0.140306  ...  0.043702  0.026500  0.075777  0.060214  0.103092   \n",
       "3 -0.100000  0.100000  ... -0.100000  0.100000 -0.100000  0.100000 -0.100000   \n",
       "4  0.000509 -0.008372  ... -0.082713 -0.089753 -0.067684 -0.075347 -0.051587   \n",
       "\n",
       "     feat95    feat96    feat97    feat98    feat99  \n",
       "0  0.100000  0.100000  0.100000  0.100000  0.100000  \n",
       "1  0.127962  0.136978  0.134500  0.140306  0.138916  \n",
       "2  0.090145  0.123928  0.114412  0.136978  0.131490  \n",
       "3  0.100000 -0.100000  0.100000 -0.100000  0.100000  \n",
       "4 -0.059753 -0.034677 -0.043217 -0.017220 -0.026000  \n",
       "\n",
       "[5 rows x 108 columns]"
      ]
     },
     "execution_count": 4,
     "metadata": {},
     "output_type": "execute_result"
    }
   ],
   "source": [
    "%%time\n",
    "#Starting an instance of Simulation with a decision tree\n",
    "model = DecisionTreeClassifier(criterion=\"entropy\")\n",
    "#dict_args = {\"csv_path\":csv_path, \"model\":model, \"allowed_windings\":allowed_windings,\\\n",
    "#             \"simulation_dir\":simulation_dir, \"val_split\":val_split, \"features_to_use\":features_to_use,\\\n",
    "#            \"shuffle_features\":shuffle_features, \"random_state\":random_state}\n",
    "simulation = Simulation(csv_path,model_name,model_kw,allowed_windings,simulation_dir,val_split,features_to_use,\\\n",
    "                       shuffle_features,fourier_mode,fourier_features_to_use,fourier_real,\\\n",
    "                       fourier_normalize, fourier_fillna , random_state)\n",
    "#simulation = Simulation(**dict_args)\n",
    "\n",
    "\n",
    "#(self, csv_path, model_name, model_kw, allowed_windings, simulation_dir = None, val_split = 0, \n",
    "# features_to_use = None, shuffle_features = False, fourier_mode=None, fourier_features_to_use=None,\n",
    "# fourier_real = False, fourier_normalize = False, Fourier_fillna=False, random_state = None):\n",
    "\n",
    "\n",
    "\n",
    "print(\"Info on all data: \\n\")\n",
    "simulation.dataframe.info()\n",
    "simulation.dataframe.head()"
   ]
  },
  {
   "cell_type": "markdown",
   "metadata": {
    "papermill": {
     "duration": 0.018163,
     "end_time": "2020-07-16T00:50:18.957485",
     "exception": false,
     "start_time": "2020-07-16T00:50:18.939322",
     "status": "completed"
    },
    "tags": []
   },
   "source": [
    "####  Fourier features"
   ]
  },
  {
   "cell_type": "code",
   "execution_count": 5,
   "metadata": {
    "execution": {
     "iopub.execute_input": "2020-07-16T00:50:18.997571Z",
     "iopub.status.busy": "2020-07-16T00:50:18.997253Z",
     "iopub.status.idle": "2020-07-16T00:50:19.206425Z",
     "shell.execute_reply": "2020-07-16T00:50:19.206074Z"
    },
    "papermill": {
     "duration": 0.230042,
     "end_time": "2020-07-16T00:50:19.206481",
     "exception": false,
     "start_time": "2020-07-16T00:50:18.976439",
     "status": "completed"
    },
    "tags": []
   },
   "outputs": [
    {
     "name": "stdout",
     "output_type": "stream",
     "text": [
      "<class 'pandas.core.frame.DataFrame'>\n",
      "Int64Index: 656100 entries, 0 to 656099\n",
      "Data columns (total 59 columns):\n",
      " #   Column      Non-Null Count   Dtype  \n",
      "---  ------      --------------   -----  \n",
      " 0   id          656100 non-null  int32  \n",
      " 1   path        656100 non-null  object \n",
      " 2   t1          656100 non-null  float64\n",
      " 3   t2          656100 non-null  float64\n",
      " 4   winding     656100 non-null  float64\n",
      " 5   phase       656100 non-null  int32  \n",
      " 6   pred_phase  656100 non-null  int32  \n",
      " 7   type_of     656100 non-null  object \n",
      " 8   dct_feat0   656100 non-null  float64\n",
      " 9   dct_feat1   656100 non-null  float64\n",
      " 10  dct_feat2   656100 non-null  float64\n",
      " 11  dct_feat3   656100 non-null  float64\n",
      " 12  dct_feat4   656100 non-null  float64\n",
      " 13  dct_feat5   656100 non-null  float64\n",
      " 14  dct_feat6   656100 non-null  float64\n",
      " 15  dct_feat7   656100 non-null  float64\n",
      " 16  dct_feat8   656100 non-null  float64\n",
      " 17  dct_feat9   656100 non-null  float64\n",
      " 18  dct_feat10  656100 non-null  float64\n",
      " 19  dct_feat11  656100 non-null  float64\n",
      " 20  dct_feat12  656100 non-null  float64\n",
      " 21  dct_feat13  656100 non-null  float64\n",
      " 22  dct_feat14  656100 non-null  float64\n",
      " 23  dct_feat15  656100 non-null  float64\n",
      " 24  dct_feat16  656100 non-null  float64\n",
      " 25  dct_feat17  656100 non-null  float64\n",
      " 26  dct_feat18  656100 non-null  float64\n",
      " 27  dct_feat19  656100 non-null  float64\n",
      " 28  dct_feat20  656100 non-null  float64\n",
      " 29  dct_feat21  656100 non-null  float64\n",
      " 30  dct_feat22  656100 non-null  float64\n",
      " 31  dct_feat23  656100 non-null  float64\n",
      " 32  dct_feat24  656100 non-null  float64\n",
      " 33  dct_feat25  656100 non-null  float64\n",
      " 34  dct_feat26  656100 non-null  float64\n",
      " 35  dct_feat27  656100 non-null  float64\n",
      " 36  dct_feat28  656100 non-null  float64\n",
      " 37  dct_feat29  656100 non-null  float64\n",
      " 38  dct_feat30  656100 non-null  float64\n",
      " 39  dct_feat31  656100 non-null  float64\n",
      " 40  dct_feat32  656100 non-null  float64\n",
      " 41  dct_feat33  656100 non-null  float64\n",
      " 42  dct_feat34  656100 non-null  float64\n",
      " 43  dct_feat35  656100 non-null  float64\n",
      " 44  dct_feat36  656100 non-null  float64\n",
      " 45  dct_feat37  656100 non-null  float64\n",
      " 46  dct_feat38  656100 non-null  float64\n",
      " 47  dct_feat39  656100 non-null  float64\n",
      " 48  dct_feat40  656100 non-null  float64\n",
      " 49  dct_feat41  656100 non-null  float64\n",
      " 50  dct_feat42  656100 non-null  float64\n",
      " 51  dct_feat43  656100 non-null  float64\n",
      " 52  dct_feat44  656100 non-null  float64\n",
      " 53  dct_feat45  656100 non-null  float64\n",
      " 54  dct_feat46  656100 non-null  float64\n",
      " 55  dct_feat47  656100 non-null  float64\n",
      " 56  dct_feat48  656100 non-null  float64\n",
      " 57  dct_feat49  656100 non-null  float64\n",
      " 58  dct_feat50  656100 non-null  float64\n",
      "dtypes: float64(54), int32(3), object(2)\n",
      "memory usage: 292.8+ MB\n",
      "CPU times: user 169 ms, sys: 28 ms, total: 197 ms\n",
      "Wall time: 196 ms\n"
     ]
    }
   ],
   "source": [
    "%%time\n",
    "#simulation.generate_fourier_df()\n",
    "if simulation.fourier_mode is not None:\n",
    "    simulation.fourier_dataframe.info() \n",
    "    simulation.fourier_dataframe.sample(15)\n"
   ]
  },
  {
   "cell_type": "code",
   "execution_count": 6,
   "metadata": {
    "execution": {
     "iopub.execute_input": "2020-07-16T00:50:19.249078Z",
     "iopub.status.busy": "2020-07-16T00:50:19.248407Z",
     "iopub.status.idle": "2020-07-16T00:50:19.261615Z",
     "shell.execute_reply": "2020-07-16T00:50:19.261929Z"
    },
    "papermill": {
     "duration": 0.036403,
     "end_time": "2020-07-16T00:50:19.261997",
     "exception": false,
     "start_time": "2020-07-16T00:50:19.225594",
     "status": "completed"
    },
    "tags": []
   },
   "outputs": [
    {
     "name": "stdout",
     "output_type": "stream",
     "text": [
      "features_to_use: \n",
      "\n",
      "\n",
      "None\n",
      "\n",
      "\n",
      "fourier_features: \n",
      "\n",
      "\n",
      "['dct_feat0', 'dct_feat1', 'dct_feat2', 'dct_feat3', 'dct_feat4', 'dct_feat5', 'dct_feat6', 'dct_feat7', 'dct_feat8', 'dct_feat9', 'dct_feat10', 'dct_feat11', 'dct_feat12', 'dct_feat13', 'dct_feat14', 'dct_feat15', 'dct_feat16', 'dct_feat17', 'dct_feat18', 'dct_feat19', 'dct_feat20', 'dct_feat21', 'dct_feat22', 'dct_feat23', 'dct_feat24', 'dct_feat25', 'dct_feat26', 'dct_feat27', 'dct_feat28', 'dct_feat29', 'dct_feat30', 'dct_feat31', 'dct_feat32', 'dct_feat33', 'dct_feat34', 'dct_feat35', 'dct_feat36', 'dct_feat37', 'dct_feat38', 'dct_feat39', 'dct_feat40', 'dct_feat41', 'dct_feat42', 'dct_feat43', 'dct_feat44', 'dct_feat45', 'dct_feat46', 'dct_feat47', 'dct_feat48', 'dct_feat49', 'dct_feat50']\n",
      "\n",
      "\n",
      "Number of Fourier features: \n",
      "\n",
      "\n",
      "51\n",
      "\n",
      "\n",
      "Fourier operator: \n",
      "[[ 1.          2.          2.         ...  2.          2.\n",
      "   1.        ]\n",
      " [ 1.          1.99605346  1.9842294  ... -1.9842294  -1.99605346\n",
      "  -1.        ]\n",
      " [ 1.          1.9842294   1.93716632 ...  1.93716632  1.9842294\n",
      "   1.        ]\n",
      " ...\n",
      " [ 1.         -1.9842294   1.93716632 ...  1.93716632 -1.9842294\n",
      "   1.        ]\n",
      " [ 1.         -1.99605346  1.9842294  ... -1.9842294   1.99605346\n",
      "  -1.        ]\n",
      " [ 1.         -2.          2.         ...  2.         -2.\n",
      "   1.        ]]\n",
      "\n",
      "\n",
      "Shape of Fourier operator: \n",
      "(51, 51)\n"
     ]
    }
   ],
   "source": [
    "print(\"features_to_use: \")\n",
    "print(\"\\n\")\n",
    "print(simulation.features_to_use)\n",
    "if simulation.features_to_use is not None:\n",
    "    print(\"Number of real space features:\")\n",
    "    print(\"\\n\")\n",
    "    print(len(simulation.features_to_use))\n",
    "print(\"\\n\")\n",
    "print(\"fourier_features: \")\n",
    "print(\"\\n\")\n",
    "print(simulation.fourier_features)\n",
    "print(\"\\n\")\n",
    "if simulation.fourier_features is not None:\n",
    "    print(\"Number of Fourier features: \")\n",
    "    print(\"\\n\")\n",
    "    print(len(simulation.fourier_features))\n",
    "print(\"\\n\")\n",
    "print(\"Fourier operator: \")\n",
    "print(simulation.fourier_operator)\n",
    "print(\"\\n\")\n",
    "if simulation.fourier_operator is not None:\n",
    "    print(\"Shape of Fourier operator: \")\n",
    "    print(simulation.fourier_operator.shape)"
   ]
  },
  {
   "cell_type": "code",
   "execution_count": 7,
   "metadata": {
    "execution": {
     "iopub.execute_input": "2020-07-16T00:50:19.301206Z",
     "iopub.status.busy": "2020-07-16T00:50:19.300894Z",
     "iopub.status.idle": "2020-07-16T00:50:19.384862Z",
     "shell.execute_reply": "2020-07-16T00:50:19.387741Z"
    },
    "papermill": {
     "duration": 0.106461,
     "end_time": "2020-07-16T00:50:19.388226",
     "exception": false,
     "start_time": "2020-07-16T00:50:19.281765",
     "status": "completed"
    },
    "tags": []
   },
   "outputs": [],
   "source": [
    "#a = np.array([1+1j,2+3j,4+8j])\n",
    "#np.imag(a)"
   ]
  },
  {
   "cell_type": "code",
   "execution_count": 8,
   "metadata": {
    "execution": {
     "iopub.execute_input": "2020-07-16T00:50:19.453711Z",
     "iopub.status.busy": "2020-07-16T00:50:19.453195Z",
     "iopub.status.idle": "2020-07-16T00:50:19.464539Z",
     "shell.execute_reply": "2020-07-16T00:50:19.464871Z"
    },
    "papermill": {
     "duration": 0.032369,
     "end_time": "2020-07-16T00:50:19.464946",
     "exception": false,
     "start_time": "2020-07-16T00:50:19.432577",
     "status": "completed"
    },
    "tags": []
   },
   "outputs": [],
   "source": [
    "#plt.plot(np.imag(simulation.fourier_operator[:,0]))"
   ]
  },
  {
   "cell_type": "code",
   "execution_count": 9,
   "metadata": {
    "execution": {
     "iopub.execute_input": "2020-07-16T00:50:19.503533Z",
     "iopub.status.busy": "2020-07-16T00:50:19.503049Z",
     "iopub.status.idle": "2020-07-16T00:50:19.574157Z",
     "shell.execute_reply": "2020-07-16T00:50:19.572686Z"
    },
    "papermill": {
     "duration": 0.091167,
     "end_time": "2020-07-16T00:50:19.574416",
     "exception": false,
     "start_time": "2020-07-16T00:50:19.483249",
     "status": "completed"
    },
    "tags": []
   },
   "outputs": [],
   "source": [
    "#np.sin(np.pi/(50))*2"
   ]
  },
  {
   "cell_type": "code",
   "execution_count": 10,
   "metadata": {
    "execution": {
     "iopub.execute_input": "2020-07-16T00:50:19.649303Z",
     "iopub.status.busy": "2020-07-16T00:50:19.648794Z",
     "iopub.status.idle": "2020-07-16T00:50:19.658911Z",
     "shell.execute_reply": "2020-07-16T00:50:19.658574Z"
    },
    "papermill": {
     "duration": 0.035753,
     "end_time": "2020-07-16T00:50:19.658965",
     "exception": false,
     "start_time": "2020-07-16T00:50:19.623212",
     "status": "completed"
    },
    "tags": []
   },
   "outputs": [],
   "source": [
    "#2*np.sin(np.pi/50*49)"
   ]
  },
  {
   "cell_type": "code",
   "execution_count": 11,
   "metadata": {
    "execution": {
     "iopub.execute_input": "2020-07-16T00:50:19.695440Z",
     "iopub.status.busy": "2020-07-16T00:50:19.694957Z",
     "iopub.status.idle": "2020-07-16T00:50:19.773890Z",
     "shell.execute_reply": "2020-07-16T00:50:19.772116Z"
    },
    "papermill": {
     "duration": 0.097945,
     "end_time": "2020-07-16T00:50:19.774145",
     "exception": false,
     "start_time": "2020-07-16T00:50:19.676200",
     "status": "completed"
    },
    "tags": []
   },
   "outputs": [],
   "source": [
    "#simulation.dataframe.iloc[331456,:]"
   ]
  },
  {
   "cell_type": "code",
   "execution_count": 12,
   "metadata": {
    "execution": {
     "iopub.execute_input": "2020-07-16T00:50:19.849241Z",
     "iopub.status.busy": "2020-07-16T00:50:19.848747Z",
     "iopub.status.idle": "2020-07-16T00:50:19.858683Z",
     "shell.execute_reply": "2020-07-16T00:50:19.858998Z"
    },
    "papermill": {
     "duration": 0.032015,
     "end_time": "2020-07-16T00:50:19.859070",
     "exception": false,
     "start_time": "2020-07-16T00:50:19.827055",
     "status": "completed"
    },
    "tags": []
   },
   "outputs": [],
   "source": [
    "#for ix, obj in enumerate(simulation.dataframe.iloc[331456,:].values):\n",
    "#    print(ix,obj)"
   ]
  },
  {
   "cell_type": "code",
   "execution_count": 13,
   "metadata": {
    "execution": {
     "iopub.execute_input": "2020-07-16T00:50:19.896218Z",
     "iopub.status.busy": "2020-07-16T00:50:19.895733Z",
     "iopub.status.idle": "2020-07-16T00:50:19.986096Z",
     "shell.execute_reply": "2020-07-16T00:50:19.985748Z"
    },
    "papermill": {
     "duration": 0.109719,
     "end_time": "2020-07-16T00:50:19.986153",
     "exception": false,
     "start_time": "2020-07-16T00:50:19.876434",
     "status": "completed"
    },
    "tags": []
   },
   "outputs": [],
   "source": [
    "#simulation.fourier_engineered_dataframe.dct_feat0"
   ]
  },
  {
   "cell_type": "code",
   "execution_count": 14,
   "metadata": {
    "execution": {
     "iopub.execute_input": "2020-07-16T00:50:20.029462Z",
     "iopub.status.busy": "2020-07-16T00:50:20.028956Z",
     "iopub.status.idle": "2020-07-16T00:50:20.065829Z",
     "shell.execute_reply": "2020-07-16T00:50:20.067160Z"
    },
    "papermill": {
     "duration": 0.060513,
     "end_time": "2020-07-16T00:50:20.067417",
     "exception": false,
     "start_time": "2020-07-16T00:50:20.006904",
     "status": "completed"
    },
    "tags": []
   },
   "outputs": [],
   "source": [
    "#simulation.features"
   ]
  },
  {
   "cell_type": "code",
   "execution_count": 15,
   "metadata": {
    "execution": {
     "iopub.execute_input": "2020-07-16T00:50:20.121343Z",
     "iopub.status.busy": "2020-07-16T00:50:20.120892Z",
     "iopub.status.idle": "2020-07-16T00:50:20.131994Z",
     "shell.execute_reply": "2020-07-16T00:50:20.132312Z"
    },
    "papermill": {
     "duration": 0.033089,
     "end_time": "2020-07-16T00:50:20.132392",
     "exception": false,
     "start_time": "2020-07-16T00:50:20.099303",
     "status": "completed"
    },
    "tags": []
   },
   "outputs": [],
   "source": [
    "#simulation.fourier_matrix"
   ]
  },
  {
   "cell_type": "code",
   "execution_count": 16,
   "metadata": {
    "execution": {
     "iopub.execute_input": "2020-07-16T00:50:20.175122Z",
     "iopub.status.busy": "2020-07-16T00:50:20.174756Z",
     "iopub.status.idle": "2020-07-16T00:50:20.249663Z",
     "shell.execute_reply": "2020-07-16T00:50:20.249295Z"
    },
    "papermill": {
     "duration": 0.097165,
     "end_time": "2020-07-16T00:50:20.249722",
     "exception": false,
     "start_time": "2020-07-16T00:50:20.152557",
     "status": "completed"
    },
    "tags": []
   },
   "outputs": [],
   "source": [
    "#1/simulation.n_features*simulation.dataframe.loc[:,simulation.features].sum(axis=1)"
   ]
  },
  {
   "cell_type": "code",
   "execution_count": 17,
   "metadata": {
    "execution": {
     "iopub.execute_input": "2020-07-16T00:50:20.290255Z",
     "iopub.status.busy": "2020-07-16T00:50:20.289945Z",
     "iopub.status.idle": "2020-07-16T00:50:20.310674Z",
     "shell.execute_reply": "2020-07-16T00:50:20.310340Z"
    },
    "papermill": {
     "duration": 0.040998,
     "end_time": "2020-07-16T00:50:20.310728",
     "exception": false,
     "start_time": "2020-07-16T00:50:20.269730",
     "status": "completed"
    },
    "tags": []
   },
   "outputs": [],
   "source": [
    "#df_2 = simulation.fourier_engineered_dataframe[simulation.fourier_engineered_dataframe.phase==2]\n",
    "#df_2.describe()"
   ]
  },
  {
   "cell_type": "code",
   "execution_count": 18,
   "metadata": {
    "execution": {
     "iopub.execute_input": "2020-07-16T00:50:20.349504Z",
     "iopub.status.busy": "2020-07-16T00:50:20.349185Z",
     "iopub.status.idle": "2020-07-16T00:50:20.450035Z",
     "shell.execute_reply": "2020-07-16T00:50:20.447624Z"
    },
    "papermill": {
     "duration": 0.12111,
     "end_time": "2020-07-16T00:50:20.450403",
     "exception": false,
     "start_time": "2020-07-16T00:50:20.329293",
     "status": "completed"
    },
    "tags": []
   },
   "outputs": [],
   "source": [
    "#df_1 = simulation.fourier_engineered_dataframe[simulation.fourier_engineered_dataframe.phase==1]\n",
    "#df_1.describe()"
   ]
  },
  {
   "cell_type": "code",
   "execution_count": 19,
   "metadata": {
    "execution": {
     "iopub.execute_input": "2020-07-16T00:50:20.528007Z",
     "iopub.status.busy": "2020-07-16T00:50:20.527701Z",
     "iopub.status.idle": "2020-07-16T00:50:20.538652Z",
     "shell.execute_reply": "2020-07-16T00:50:20.538181Z"
    },
    "papermill": {
     "duration": 0.032801,
     "end_time": "2020-07-16T00:50:20.538720",
     "exception": false,
     "start_time": "2020-07-16T00:50:20.505919",
     "status": "completed"
    },
    "tags": []
   },
   "outputs": [],
   "source": [
    "#df_0 = simulation.fourier_engineered_dataframe[simulation.fourier_engineered_dataframe.phase==0]\n",
    "#df_0.describe()"
   ]
  },
  {
   "cell_type": "code",
   "execution_count": 20,
   "metadata": {
    "execution": {
     "iopub.execute_input": "2020-07-16T00:50:20.583681Z",
     "iopub.status.busy": "2020-07-16T00:50:20.583366Z",
     "iopub.status.idle": "2020-07-16T00:50:20.659002Z",
     "shell.execute_reply": "2020-07-16T00:50:20.657113Z"
    },
    "papermill": {
     "duration": 0.100569,
     "end_time": "2020-07-16T00:50:20.659270",
     "exception": false,
     "start_time": "2020-07-16T00:50:20.558701",
     "status": "completed"
    },
    "tags": []
   },
   "outputs": [],
   "source": [
    "#plt.figure(figsize=(10,10))\n",
    "#plt.scatter(df_1.fourier_feat0,df_1.fourier_feat2)\n",
    "#plt.scatter(df_0.fourier_feat0,df_0.fourier_feat2,alpha=0.4)"
   ]
  },
  {
   "cell_type": "code",
   "execution_count": 21,
   "metadata": {
    "execution": {
     "iopub.execute_input": "2020-07-16T00:50:20.732995Z",
     "iopub.status.busy": "2020-07-16T00:50:20.732605Z",
     "iopub.status.idle": "2020-07-16T00:50:20.742444Z",
     "shell.execute_reply": "2020-07-16T00:50:20.742057Z"
    },
    "papermill": {
     "duration": 0.040832,
     "end_time": "2020-07-16T00:50:20.742504",
     "exception": false,
     "start_time": "2020-07-16T00:50:20.701672",
     "status": "completed"
    },
    "tags": []
   },
   "outputs": [],
   "source": [
    "#plt.scatter(df_0.fourier_feat0,df_0.fourier_feat2,alpha=0.4)"
   ]
  },
  {
   "cell_type": "code",
   "execution_count": 22,
   "metadata": {
    "execution": {
     "iopub.execute_input": "2020-07-16T00:50:20.784344Z",
     "iopub.status.busy": "2020-07-16T00:50:20.784003Z",
     "iopub.status.idle": "2020-07-16T00:50:20.859318Z",
     "shell.execute_reply": "2020-07-16T00:50:20.858612Z"
    },
    "papermill": {
     "duration": 0.096218,
     "end_time": "2020-07-16T00:50:20.859425",
     "exception": false,
     "start_time": "2020-07-16T00:50:20.763207",
     "status": "completed"
    },
    "tags": []
   },
   "outputs": [],
   "source": [
    "#plt.scatter(df_2.fourier_feat0,df_2.fourier_feat2)"
   ]
  },
  {
   "cell_type": "code",
   "execution_count": 23,
   "metadata": {
    "execution": {
     "iopub.execute_input": "2020-07-16T00:50:20.923785Z",
     "iopub.status.busy": "2020-07-16T00:50:20.923437Z",
     "iopub.status.idle": "2020-07-16T00:50:20.932936Z",
     "shell.execute_reply": "2020-07-16T00:50:20.933250Z"
    },
    "papermill": {
     "duration": 0.032447,
     "end_time": "2020-07-16T00:50:20.933319",
     "exception": false,
     "start_time": "2020-07-16T00:50:20.900872",
     "status": "completed"
    },
    "tags": []
   },
   "outputs": [],
   "source": [
    "#df_1.hist(figsize=(15,15))"
   ]
  },
  {
   "cell_type": "code",
   "execution_count": 24,
   "metadata": {
    "execution": {
     "iopub.execute_input": "2020-07-16T00:50:21.004339Z",
     "iopub.status.busy": "2020-07-16T00:50:21.004009Z",
     "iopub.status.idle": "2020-07-16T00:50:21.277089Z",
     "shell.execute_reply": "2020-07-16T00:50:21.274349Z"
    },
    "papermill": {
     "duration": 0.326326,
     "end_time": "2020-07-16T00:50:21.277474",
     "exception": false,
     "start_time": "2020-07-16T00:50:20.951148",
     "status": "completed"
    },
    "tags": []
   },
   "outputs": [],
   "source": [
    "#df_0.hist(figsize=(15,15))"
   ]
  },
  {
   "cell_type": "markdown",
   "metadata": {
    "papermill": {
     "duration": 0.018763,
     "end_time": "2020-07-16T00:50:21.339278",
     "exception": false,
     "start_time": "2020-07-16T00:50:21.320515",
     "status": "completed"
    },
    "tags": []
   },
   "source": [
    "#### Checking initialization"
   ]
  },
  {
   "cell_type": "code",
   "execution_count": 25,
   "metadata": {
    "execution": {
     "iopub.execute_input": "2020-07-16T00:50:21.383775Z",
     "iopub.status.busy": "2020-07-16T00:50:21.383464Z",
     "iopub.status.idle": "2020-07-16T00:50:21.395540Z",
     "shell.execute_reply": "2020-07-16T00:50:21.395897Z"
    },
    "papermill": {
     "duration": 0.033435,
     "end_time": "2020-07-16T00:50:21.395969",
     "exception": false,
     "start_time": "2020-07-16T00:50:21.362534",
     "status": "completed"
    },
    "tags": []
   },
   "outputs": [
    {
     "name": "stdout",
     "output_type": "stream",
     "text": [
      "n_features:  100\n",
      "n_hamiltonians:  6561\n",
      "n_ts:  2\n",
      "CPU times: user 435 µs, sys: 54 µs, total: 489 µs\n",
      "Wall time: 395 µs\n"
     ]
    }
   ],
   "source": [
    "%%time\n",
    "n_features = simulation.n_features\n",
    "n_hamiltonians = simulation.n_hamiltonians\n",
    "n_ts = simulation.n_ts\n",
    "\n",
    "print(\"n_features: \", n_features)\n",
    "print(\"n_hamiltonians: \", n_hamiltonians)\n",
    "print(\"n_ts: \", n_ts)"
   ]
  },
  {
   "cell_type": "code",
   "execution_count": 26,
   "metadata": {
    "execution": {
     "iopub.execute_input": "2020-07-16T00:50:21.437475Z",
     "iopub.status.busy": "2020-07-16T00:50:21.436927Z",
     "iopub.status.idle": "2020-07-16T00:50:21.677855Z",
     "shell.execute_reply": "2020-07-16T00:50:21.678162Z"
    },
    "papermill": {
     "duration": 0.262356,
     "end_time": "2020-07-16T00:50:21.678234",
     "exception": false,
     "start_time": "2020-07-16T00:50:21.415878",
     "status": "completed"
    },
    "tags": []
   },
   "outputs": [
    {
     "name": "stdout",
     "output_type": "stream",
     "text": [
      "% train:  0.846822130772748\n",
      "% val:  0.0\n",
      "% test:  0.15317786922725193\n",
      "% train + val + test:  1.0\n",
      "\n",
      "\n",
      "number of train hamiltonians:  5556\n",
      "number of val hamiltonians:  0\n",
      "number of test hamiltonians:  1005\n",
      "total number of hamiltonians:  6561\n",
      "\n",
      "\n",
      "train ids:  [9, 10, 11, 12, 13, 14, 15, 16, 17, 18, 19, 20, 21, 22, 23, 24, 25, 26, 27, 28, 29, 30, 31, 32, 33, 34, 35, 36, 37, 38, 39, 40, 41, 42, 43, 44, 45, 46, 47, 48, 49, 50, 51, 52, 53, 54, 55, 56, 57, 58, 59, 60, 61, 62, 63, 64, 65, 66, 67, 68, 69, 70, 71, 72, 73, 74, 75, 76, 77, 91, 92, 93, 94, 95, 96, 97, 98, 99, 100, 101, 102, 103, 104, 105, 106, 107, 108, 109, 110, 111, 112, 113, 114, 115, 116, 117, 118, 119, 120, 121, 122, 123, 124, 125, 126, 127, 128, 129, 130, 131, 132, 133, 134, 135, 136, 137, 138, 139, 140, 141, 142, 143, 144, 145, 146, 147, 148, 149, 150, 151, 152, 153, 154, 155, 156, 157, 172, 173, 174, 175, 176, 177, 178, 179, 180, 181, 182, 183, 184, 185, 186, 187, 188, 189, 190, 191, 192, 193, 194, 195, 196, 197, 198, 199, 200, 201, 202, 203, 204, 205, 206, 207, 208, 209, 210, 211, 212, 213, 214, 215, 216, 217, 218, 219, 220, 221, 222, 223, 224, 225, 226, 227, 228, 229, 230, 231, 232, 233, 234, 235, 236, 237, 254, 255, 256, 257, 258, 259, 260, 261, 262, 263, 264, 265, 266, 267, 268, 269, 270, 271, 272, 273, 274, 275, 276, 277, 278, 279, 280, 281, 282, 283, 284, 285, 286, 287, 288, 289, 290, 291, 292, 293, 294, 295, 296, 297, 298, 299, 300, 301, 302, 303, 304, 305, 306, 307, 308, 309, 310, 311, 312, 313, 314, 315, 316, 317, 323, 336, 337, 338, 339, 340, 341, 342, 343, 344, 345, 346, 347, 348, 349, 350, 351, 352, 353, 354, 355, 356, 357, 358, 359, 360, 361, 362, 363, 364, 365, 366, 367, 368, 369, 370, 371, 372, 373, 374, 375, 376, 377, 378, 379, 380, 381, 382, 383, 384, 385, 386, 387, 388, 389, 390, 391, 392, 393, 394, 395, 396, 397, 403, 404, 418, 419, 420, 421, 422, 423, 424, 425, 426, 427, 428, 429, 430, 431, 432, 433, 434, 435, 436, 437, 438, 439, 440, 441, 442, 443, 444, 445, 446, 447, 448, 449, 450, 451, 452, 453, 454, 455, 456, 457, 458, 459, 460, 461, 462, 463, 464, 465, 466, 467, 468, 469, 470, 471, 472, 473, 474, 475, 476, 477, 483, 484, 485, 500, 501, 502, 503, 504, 505, 506, 507, 508, 509, 510, 511, 512, 513, 514, 515, 516, 517, 518, 519, 520, 521, 522, 523, 524, 525, 526, 527, 528, 529, 530, 531, 532, 533, 534, 535, 536, 537, 538, 539, 540, 541, 542, 543, 544, 545, 546, 547, 548, 549, 550, 551, 552, 553, 554, 555, 556, 557, 563, 564, 565, 566, 581, 582, 583, 584, 585, 586, 587, 588, 589, 590, 591, 592, 593, 594, 595, 596, 597, 598, 599, 600, 601, 602, 603, 604, 605, 606, 607, 608, 609, 610, 611, 612, 613, 614, 615, 616, 617, 618, 619, 620, 621, 622, 623, 624, 625, 626, 627, 628, 629, 630, 631, 632, 633, 634, 635, 636, 637, 643, 644, 645, 646, 647, 663, 664, 665, 666, 667, 668, 669, 670, 671, 672, 673, 674, 675, 676, 677, 678, 679, 680, 681, 682, 683, 684, 685, 686, 687, 688, 689, 690, 691, 692, 693, 694, 695, 696, 697, 698, 699, 700, 701, 702, 703, 704, 705, 706, 707, 708, 709, 710, 711, 712, 713, 714, 715, 716, 717, 723, 724, 725, 726, 727, 728, 745, 746, 747, 748, 749, 750, 751, 752, 753, 754, 755, 756, 757, 758, 759, 760, 761, 762, 763, 764, 765, 766, 767, 768, 769, 770, 771, 772, 773, 774, 775, 776, 777, 778, 779, 780, 781, 782, 783, 784, 785, 786, 787, 788, 789, 790, 791, 792, 793, 794, 795, 796, 797, 803, 804, 805, 806, 807, 808, 809, 827, 828, 829, 830, 831, 832, 833, 834, 835, 836, 837, 838, 839, 840, 841, 842, 843, 844, 845, 846, 847, 848, 849, 850, 851, 852, 853, 854, 855, 856, 857, 858, 859, 860, 861, 862, 863, 864, 865, 866, 867, 868, 869, 870, 871, 872, 873, 874, 875, 876, 877, 883, 884, 885, 886, 887, 888, 889, 890, 891, 909, 910, 911, 912, 913, 914, 915, 916, 917, 918, 919, 920, 921, 922, 923, 924, 925, 926, 927, 928, 929, 930, 931, 932, 933, 934, 935, 936, 937, 938, 939, 940, 941, 942, 943, 944, 945, 946, 947, 948, 949, 950, 951, 952, 953, 954, 955, 956, 957, 963, 964, 965, 966, 967, 968, 969, 970, 971, 972, 973, 990, 991, 992, 993, 994, 995, 996, 997, 998, 999, 1000, 1001, 1002, 1003, 1004, 1005, 1006, 1007, 1008, 1009, 1010, 1011, 1012, 1013, 1014, 1015, 1016, 1017, 1018, 1019, 1020, 1021, 1022, 1023, 1024, 1025, 1026, 1027, 1028, 1029, 1030, 1031, 1032, 1033, 1034, 1035, 1036, 1037, 1038, 1042, 1043, 1044, 1045, 1046, 1047, 1048, 1049, 1050, 1051, 1052, 1053, 1054, 1055, 1056, 1072, 1073, 1074, 1075, 1076, 1077, 1078, 1079, 1080, 1081, 1082, 1083, 1084, 1085, 1086, 1087, 1088, 1089, 1090, 1091, 1092, 1093, 1094, 1095, 1096, 1097, 1098, 1099, 1100, 1101, 1102, 1103, 1104, 1105, 1106, 1107, 1108, 1109, 1110, 1111, 1112, 1113, 1114, 1115, 1116, 1117, 1118, 1122, 1123, 1124, 1125, 1126, 1127, 1128, 1129, 1130, 1131, 1132, 1133, 1134, 1135, 1136, 1137, 1138, 1154, 1155, 1156, 1157, 1158, 1159, 1160, 1161, 1162, 1163, 1164, 1165, 1166, 1167, 1168, 1169, 1170, 1171, 1172, 1173, 1174, 1175, 1176, 1177, 1178, 1179, 1180, 1181, 1182, 1183, 1184, 1185, 1186, 1187, 1188, 1189, 1190, 1191, 1192, 1193, 1194, 1195, 1196, 1197, 1198, 1202, 1203, 1204, 1205, 1206, 1207, 1208, 1209, 1210, 1211, 1212, 1213, 1214, 1215, 1216, 1217, 1218, 1219, 1220, 1236, 1237, 1238, 1239, 1240, 1241, 1242, 1243, 1244, 1245, 1246, 1247, 1248, 1249, 1250, 1251, 1252, 1253, 1254, 1255, 1256, 1257, 1258, 1259, 1260, 1261, 1262, 1263, 1264, 1265, 1266, 1267, 1268, 1269, 1270, 1271, 1272, 1273, 1274, 1275, 1276, 1277, 1278, 1282, 1283, 1284, 1285, 1286, 1287, 1288, 1289, 1290, 1291, 1292, 1293, 1294, 1295, 1296, 1297, 1298, 1299, 1300, 1301, 1302, 1303, 1317, 1318, 1319, 1320, 1321, 1322, 1323, 1324, 1325, 1326, 1327, 1328, 1329, 1330, 1331, 1332, 1333, 1334, 1335, 1336, 1337, 1338, 1339, 1340, 1341, 1342, 1343, 1344, 1345, 1346, 1347, 1348, 1349, 1350, 1351, 1352, 1353, 1354, 1355, 1356, 1357, 1358, 1362, 1363, 1364, 1365, 1366, 1367, 1368, 1369, 1370, 1371, 1372, 1373, 1374, 1375, 1376, 1377, 1378, 1379, 1380, 1381, 1382, 1383, 1384, 1385, 1399, 1400, 1401, 1402, 1403, 1404, 1405, 1406, 1407, 1408, 1409, 1410, 1411, 1412, 1413, 1414, 1415, 1416, 1417, 1418, 1419, 1420, 1421, 1422, 1423, 1424, 1425, 1426, 1427, 1428, 1429, 1430, 1431, 1432, 1433, 1434, 1435, 1436, 1437, 1438, 1442, 1443, 1444, 1445, 1446, 1447, 1448, 1449, 1450, 1451, 1452, 1453, 1454, 1455, 1456, 1457, 1458, 1459, 1460, 1461, 1462, 1463, 1464, 1465, 1466, 1467, 1468, 1481, 1482, 1483, 1484, 1485, 1486, 1487, 1488, 1489, 1490, 1491, 1492, 1493, 1494, 1495, 1496, 1497, 1498, 1499, 1500, 1501, 1502, 1503, 1504, 1505, 1506, 1507, 1508, 1509, 1510, 1511, 1512, 1513, 1514, 1515, 1516, 1517, 1518, 1522, 1523, 1524, 1525, 1526, 1527, 1528, 1529, 1530, 1531, 1532, 1533, 1534, 1535, 1536, 1537, 1538, 1539, 1540, 1541, 1542, 1543, 1544, 1545, 1546, 1547, 1548, 1549, 1550, 1563, 1564, 1565, 1566, 1567, 1568, 1569, 1570, 1571, 1572, 1573, 1574, 1575, 1576, 1577, 1578, 1579, 1580, 1581, 1582, 1583, 1584, 1585, 1586, 1587, 1588, 1589, 1590, 1591, 1592, 1593, 1594, 1595, 1596, 1597, 1598, 1602, 1603, 1604, 1605, 1606, 1607, 1608, 1609, 1610, 1611, 1612, 1613, 1614, 1615, 1616, 1617, 1618, 1619, 1620, 1621, 1622, 1623, 1624, 1625, 1626, 1627, 1628, 1629, 1630, 1631, 1632, 1645, 1646, 1647, 1648, 1649, 1650, 1651, 1652, 1653, 1654, 1655, 1656, 1657, 1658, 1659, 1660, 1661, 1662, 1663, 1664, 1665, 1666, 1667, 1668, 1669, 1670, 1671, 1672, 1673, 1674, 1675, 1676, 1677, 1678, 1682, 1683, 1684, 1685, 1686, 1687, 1688, 1689, 1690, 1691, 1692, 1693, 1694, 1695, 1696, 1697, 1698, 1699, 1700, 1701, 1702, 1703, 1704, 1705, 1706, 1707, 1708, 1709, 1710, 1711, 1712, 1713, 1714, 1715, 1726, 1727, 1728, 1729, 1730, 1731, 1732, 1733, 1734, 1735, 1736, 1737, 1738, 1739, 1740, 1741, 1742, 1743, 1744, 1745, 1746, 1747, 1748, 1749, 1750, 1751, 1752, 1753, 1754, 1755, 1756, 1757, 1758, 1762, 1763, 1764, 1765, 1766, 1767, 1768, 1769, 1770, 1771, 1772, 1773, 1774, 1775, 1776, 1777, 1778, 1779, 1780, 1781, 1782, 1783, 1784, 1785, 1786, 1787, 1788, 1789, 1790, 1791, 1792, 1793, 1794, 1795, 1796, 1797, 1808, 1809, 1810, 1811, 1812, 1813, 1814, 1815, 1816, 1817, 1818, 1819, 1820, 1821, 1822, 1823, 1824, 1825, 1826, 1827, 1828, 1829, 1830, 1831, 1832, 1833, 1834, 1835, 1836, 1837, 1838, 1842, 1843, 1844, 1845, 1846, 1847, 1848, 1849, 1850, 1851, 1852, 1853, 1854, 1855, 1856, 1857, 1858, 1859, 1860, 1861, 1862, 1863, 1864, 1865, 1866, 1867, 1868, 1869, 1870, 1871, 1872, 1873, 1874, 1875, 1876, 1877, 1878, 1879, 1890, 1891, 1892, 1893, 1894, 1895, 1896, 1897, 1898, 1899, 1900, 1901, 1902, 1903, 1904, 1905, 1906, 1907, 1908, 1909, 1910, 1911, 1912, 1913, 1914, 1915, 1916, 1917, 1918, 1922, 1923, 1924, 1925, 1926, 1927, 1928, 1929, 1930, 1931, 1932, 1933, 1934, 1935, 1936, 1937, 1938, 1939, 1940, 1941, 1942, 1943, 1944, 1945, 1946, 1947, 1948, 1949, 1950, 1951, 1952, 1953, 1954, 1955, 1956, 1957, 1958, 1959, 1960, 1961, 1962, 1972, 1973, 1974, 1975, 1976, 1977, 1978, 1979, 1980, 1981, 1982, 1983, 1984, 1985, 1986, 1987, 1988, 1989, 1990, 1991, 1992, 1993, 1994, 1995, 1996, 1997, 1998, 2002, 2003, 2004, 2005, 2006, 2007, 2008, 2009, 2010, 2011, 2012, 2013, 2014, 2015, 2016, 2017, 2018, 2019, 2020, 2021, 2022, 2023, 2024, 2025, 2026, 2027, 2028, 2029, 2030, 2031, 2032, 2033, 2034, 2035, 2036, 2037, 2038, 2039, 2040, 2041, 2042, 2043, 2044, 2054, 2055, 2056, 2057, 2058, 2059, 2060, 2061, 2062, 2063, 2064, 2065, 2066, 2067, 2068, 2069, 2070, 2071, 2072, 2073, 2074, 2075, 2076, 2077, 2078, 2082, 2083, 2084, 2085, 2086, 2087, 2088, 2089, 2090, 2091, 2092, 2093, 2094, 2095, 2096, 2097, 2098, 2099, 2100, 2101, 2102, 2103, 2104, 2105, 2106, 2107, 2108, 2109, 2110, 2111, 2112, 2113, 2114, 2115, 2116, 2117, 2118, 2119, 2120, 2121, 2122, 2123, 2124, 2125, 2126, 2135, 2136, 2137, 2138, 2139, 2140, 2141, 2142, 2143, 2144, 2145, 2146, 2147, 2148, 2149, 2150, 2151, 2152, 2153, 2154, 2155, 2156, 2157, 2158, 2159, 2161, 2162, 2163, 2164, 2165, 2166, 2167, 2168, 2169, 2170, 2171, 2172, 2173, 2174, 2175, 2176, 2177, 2178, 2179, 2180, 2181, 2182, 2183, 2184, 2185, 2186, 2187, 2188, 2189, 2190, 2191, 2192, 2193, 2194, 2195, 2196, 2197, 2198, 2199, 2200, 2201, 2202, 2203, 2204, 2205, 2206, 2207, 2208, 2209, 2217, 2218, 2219, 2220, 2221, 2222, 2223, 2224, 2225, 2226, 2227, 2228, 2229, 2230, 2231, 2232, 2233, 2234, 2235, 2236, 2237, 2238, 2239, 2241, 2242, 2243, 2244, 2245, 2246, 2247, 2248, 2249, 2250, 2251, 2252, 2253, 2254, 2255, 2256, 2257, 2258, 2259, 2260, 2261, 2262, 2263, 2264, 2265, 2266, 2267, 2268, 2269, 2270, 2271, 2272, 2273, 2274, 2275, 2276, 2277, 2278, 2279, 2280, 2281, 2282, 2283, 2284, 2285, 2286, 2287, 2288, 2289, 2290, 2291, 2299, 2300, 2301, 2302, 2303, 2304, 2305, 2306, 2307, 2308, 2309, 2310, 2311, 2312, 2313, 2314, 2315, 2316, 2317, 2318, 2319, 2321, 2322, 2323, 2324, 2325, 2326, 2327, 2328, 2329, 2330, 2331, 2332, 2333, 2334, 2335, 2336, 2337, 2338, 2339, 2340, 2341, 2342, 2343, 2344, 2345, 2346, 2347, 2348, 2349, 2350, 2351, 2352, 2353, 2354, 2355, 2356, 2357, 2358, 2359, 2360, 2361, 2362, 2363, 2364, 2365, 2366, 2367, 2368, 2369, 2370, 2371, 2372, 2373, 2374, 2381, 2382, 2383, 2384, 2385, 2386, 2387, 2388, 2389, 2390, 2391, 2392, 2393, 2394, 2395, 2396, 2397, 2398, 2399, 2401, 2402, 2403, 2404, 2405, 2406, 2407, 2408, 2409, 2410, 2411, 2412, 2413, 2414, 2415, 2416, 2417, 2418, 2419, 2420, 2421, 2422, 2423, 2424, 2425, 2426, 2427, 2428, 2429, 2430, 2431, 2432, 2433, 2434, 2435, 2436, 2437, 2438, 2439, 2440, 2441, 2442, 2443, 2444, 2445, 2446, 2447, 2448, 2449, 2450, 2451, 2452, 2453, 2454, 2455, 2456, 2463, 2464, 2465, 2466, 2467, 2468, 2469, 2470, 2471, 2472, 2473, 2474, 2475, 2476, 2477, 2478, 2479, 2481, 2482, 2483, 2484, 2485, 2486, 2487, 2488, 2489, 2490, 2491, 2492, 2493, 2494, 2495, 2496, 2497, 2498, 2499, 2500, 2501, 2502, 2503, 2504, 2505, 2506, 2507, 2508, 2509, 2510, 2511, 2512, 2513, 2514, 2515, 2516, 2517, 2518, 2519, 2520, 2521, 2522, 2523, 2524, 2525, 2526, 2527, 2528, 2529, 2530, 2531, 2532, 2533, 2534, 2535, 2536, 2537, 2538, 2544, 2545, 2546, 2547, 2548, 2549, 2550, 2551, 2552, 2553, 2554, 2555, 2556, 2557, 2558, 2559, 2561, 2562, 2563, 2564, 2565, 2566, 2567, 2568, 2569, 2570, 2571, 2572, 2573, 2574, 2575, 2576, 2577, 2578, 2579, 2580, 2581, 2582, 2583, 2584, 2585, 2586, 2587, 2588, 2589, 2590, 2591, 2592, 2593, 2594, 2595, 2596, 2597, 2598, 2599, 2600, 2601, 2602, 2603, 2604, 2605, 2606, 2607, 2608, 2609, 2610, 2611, 2612, 2613, 2614, 2615, 2616, 2617, 2618, 2619, 2620, 2621, 2626, 2627, 2628, 2629, 2630, 2631, 2632, 2633, 2634, 2635, 2636, 2637, 2638, 2639, 2641, 2642, 2643, 2644, 2645, 2646, 2647, 2648, 2649, 2650, 2651, 2652, 2653, 2654, 2655, 2656, 2657, 2658, 2659, 2660, 2661, 2662, 2663, 2664, 2665, 2666, 2667, 2668, 2669, 2670, 2671, 2672, 2673, 2674, 2675, 2676, 2677, 2678, 2679, 2680, 2681, 2682, 2683, 2684, 2685, 2686, 2687, 2688, 2689, 2690, 2691, 2692, 2693, 2694, 2695, 2696, 2697, 2698, 2699, 2700, 2701, 2702, 2703, 2708, 2709, 2710, 2711, 2712, 2713, 2714, 2715, 2716, 2717, 2718, 2719, 2721, 2722, 2723, 2724, 2725, 2726, 2727, 2728, 2729, 2730, 2731, 2732, 2733, 2734, 2735, 2736, 2737, 2738, 2739, 2740, 2741, 2742, 2743, 2744, 2745, 2746, 2747, 2748, 2749, 2750, 2751, 2752, 2753, 2754, 2755, 2756, 2757, 2758, 2759, 2760, 2761, 2762, 2763, 2764, 2765, 2766, 2767, 2768, 2769, 2770, 2771, 2772, 2773, 2774, 2775, 2776, 2777, 2778, 2779, 2780, 2781, 2782, 2783, 2784, 2785, 2790, 2791, 2792, 2793, 2794, 2795, 2796, 2797, 2798, 2799, 2801, 2802, 2803, 2804, 2805, 2806, 2807, 2808, 2809, 2810, 2811, 2812, 2813, 2814, 2815, 2816, 2817, 2818, 2819, 2820, 2821, 2822, 2823, 2824, 2825, 2826, 2827, 2828, 2829, 2830, 2831, 2832, 2833, 2834, 2835, 2836, 2837, 2838, 2839, 2840, 2841, 2842, 2843, 2844, 2845, 2846, 2847, 2848, 2849, 2850, 2851, 2852, 2853, 2854, 2855, 2856, 2857, 2858, 2859, 2860, 2861, 2862, 2863, 2864, 2865, 2866, 2867, 2868, 2872, 2873, 2874, 2875, 2876, 2877, 2878, 2879, 2881, 2882, 2883, 2884, 2885, 2886, 2887, 2888, 2889, 2890, 2891, 2892, 2893, 2894, 2895, 2896, 2897, 2898, 2899, 2900, 2901, 2902, 2903, 2904, 2905, 2906, 2907, 2908, 2909, 2910, 2911, 2912, 2913, 2914, 2915, 2916, 2917, 2918, 2919, 2920, 2921, 2922, 2923, 2924, 2925, 2926, 2927, 2928, 2929, 2930, 2931, 2932, 2933, 2934, 2935, 2936, 2937, 2938, 2939, 2940, 2941, 2942, 2943, 2944, 2945, 2946, 2947, 2948, 2949, 2950, 2953, 2954, 2955, 2956, 2957, 2958, 2959, 2961, 2962, 2963, 2964, 2965, 2966, 2967, 2968, 2969, 2970, 2971, 2972, 2973, 2974, 2975, 2976, 2977, 2978, 2979, 2980, 2981, 2982, 2983, 2984, 2985, 2986, 2987, 2988, 2989, 2990, 2991, 2992, 2993, 2994, 2995, 2996, 2997, 2998, 2999, 3000, 3001, 3002, 3003, 3004, 3005, 3006, 3007, 3008, 3009, 3010, 3011, 3012, 3013, 3014, 3015, 3016, 3017, 3018, 3019, 3020, 3021, 3022, 3023, 3024, 3025, 3026, 3027, 3028, 3029, 3030, 3031, 3032, 3035, 3036, 3037, 3038, 3039, 3041, 3042, 3043, 3044, 3045, 3046, 3047, 3048, 3049, 3050, 3051, 3052, 3053, 3054, 3055, 3056, 3057, 3058, 3059, 3060, 3061, 3062, 3063, 3064, 3065, 3066, 3067, 3068, 3069, 3070, 3071, 3072, 3073, 3074, 3075, 3076, 3077, 3078, 3079, 3080, 3081, 3082, 3083, 3084, 3085, 3086, 3087, 3088, 3089, 3090, 3091, 3092, 3093, 3094, 3095, 3096, 3097, 3098, 3099, 3100, 3101, 3102, 3103, 3104, 3105, 3106, 3107, 3108, 3109, 3110, 3111, 3112, 3113, 3114, 3115, 3117, 3118, 3119, 3121, 3122, 3123, 3124, 3125, 3126, 3127, 3128, 3129, 3130, 3131, 3132, 3133, 3134, 3135, 3136, 3137, 3138, 3139, 3140, 3141, 3142, 3143, 3144, 3145, 3146, 3147, 3148, 3149, 3150, 3151, 3152, 3153, 3154, 3155, 3156, 3157, 3158, 3159, 3160, 3161, 3162, 3163, 3164, 3165, 3166, 3167, 3168, 3169, 3170, 3171, 3172, 3173, 3174, 3175, 3176, 3177, 3178, 3179, 3180, 3181, 3182, 3183, 3184, 3185, 3186, 3187, 3188, 3189, 3190, 3191, 3192, 3193, 3194, 3195, 3196, 3197, 3199, 3201, 3202, 3203, 3204, 3205, 3206, 3207, 3208, 3209, 3210, 3211, 3212, 3213, 3214, 3215, 3216, 3217, 3218, 3219, 3220, 3221, 3222, 3223, 3224, 3225, 3226, 3227, 3228, 3229, 3230, 3231, 3232, 3233, 3234, 3235, 3236, 3237, 3238, 3239, 3240, 3241, 3242, 3243, 3244, 3245, 3246, 3247, 3248, 3249, 3250, 3251, 3252, 3253, 3254, 3255, 3256, 3257, 3258, 3259, 3260, 3261, 3262, 3263, 3264, 3265, 3266, 3267, 3268, 3269, 3270, 3271, 3272, 3273, 3274, 3275, 3276, 3277, 3278, 3279, 3281, 3282, 3283, 3284, 3285, 3286, 3287, 3288, 3289, 3290, 3291, 3292, 3293, 3294, 3295, 3296, 3297, 3298, 3299, 3300, 3301, 3302, 3303, 3304, 3305, 3306, 3307, 3308, 3309, 3310, 3311, 3312, 3313, 3314, 3315, 3316, 3317, 3318, 3319, 3320, 3321, 3322, 3323, 3324, 3325, 3326, 3327, 3328, 3329, 3330, 3331, 3332, 3333, 3334, 3335, 3336, 3337, 3338, 3339, 3340, 3341, 3342, 3343, 3344, 3345, 3346, 3347, 3348, 3349, 3350, 3351, 3352, 3353, 3354, 3355, 3356, 3357, 3358, 3359, 3361, 3363, 3364, 3365, 3366, 3367, 3368, 3369, 3370, 3371, 3372, 3373, 3374, 3375, 3376, 3377, 3378, 3379, 3380, 3381, 3382, 3383, 3384, 3385, 3386, 3387, 3388, 3389, 3390, 3391, 3392, 3393, 3394, 3395, 3396, 3397, 3398, 3399, 3400, 3401, 3402, 3403, 3404, 3405, 3406, 3407, 3408, 3409, 3410, 3411, 3412, 3413, 3414, 3415, 3416, 3417, 3418, 3419, 3420, 3421, 3422, 3423, 3424, 3425, 3426, 3427, 3428, 3429, 3430, 3431, 3432, 3433, 3434, 3435, 3436, 3437, 3438, 3439, 3441, 3442, 3443, 3445, 3446, 3447, 3448, 3449, 3450, 3451, 3452, 3453, 3454, 3455, 3456, 3457, 3458, 3459, 3460, 3461, 3462, 3463, 3464, 3465, 3466, 3467, 3468, 3469, 3470, 3471, 3472, 3473, 3474, 3475, 3476, 3477, 3478, 3479, 3480, 3481, 3482, 3483, 3484, 3485, 3486, 3487, 3488, 3489, 3490, 3491, 3492, 3493, 3494, 3495, 3496, 3497, 3498, 3499, 3500, 3501, 3502, 3503, 3504, 3505, 3506, 3507, 3508, 3509, 3510, 3511, 3512, 3513, 3514, 3515, 3516, 3517, 3518, 3519, 3521, 3522, 3523, 3524, 3525, 3528, 3529, 3530, 3531, 3532, 3533, 3534, 3535, 3536, 3537, 3538, 3539, 3540, 3541, 3542, 3543, 3544, 3545, 3546, 3547, 3548, 3549, 3550, 3551, 3552, 3553, 3554, 3555, 3556, 3557, 3558, 3559, 3560, 3561, 3562, 3563, 3564, 3565, 3566, 3567, 3568, 3569, 3570, 3571, 3572, 3573, 3574, 3575, 3576, 3577, 3578, 3579, 3580, 3581, 3582, 3583, 3584, 3585, 3586, 3587, 3588, 3589, 3590, 3591, 3592, 3593, 3594, 3595, 3596, 3597, 3598, 3599, 3601, 3602, 3603, 3604, 3605, 3606, 3607, 3610, 3611, 3612, 3613, 3614, 3615, 3616, 3617, 3618, 3619, 3620, 3621, 3622, 3623, 3624, 3625, 3626, 3627, 3628, 3629, 3630, 3631, 3632, 3633, 3634, 3635, 3636, 3637, 3638, 3639, 3640, 3641, 3642, 3643, 3644, 3645, 3646, 3647, 3648, 3649, 3650, 3651, 3652, 3653, 3654, 3655, 3656, 3657, 3658, 3659, 3660, 3661, 3662, 3663, 3664, 3665, 3666, 3667, 3668, 3669, 3670, 3671, 3672, 3673, 3674, 3675, 3676, 3677, 3678, 3679, 3681, 3682, 3683, 3684, 3685, 3686, 3687, 3688, 3692, 3693, 3694, 3695, 3696, 3697, 3698, 3699, 3700, 3701, 3702, 3703, 3704, 3705, 3706, 3707, 3708, 3709, 3710, 3711, 3712, 3713, 3714, 3715, 3716, 3717, 3718, 3719, 3720, 3721, 3722, 3723, 3724, 3725, 3726, 3727, 3728, 3729, 3730, 3731, 3732, 3733, 3734, 3735, 3736, 3737, 3738, 3739, 3740, 3741, 3742, 3743, 3744, 3745, 3746, 3747, 3748, 3749, 3750, 3751, 3752, 3753, 3754, 3755, 3756, 3757, 3758, 3759, 3761, 3762, 3763, 3764, 3765, 3766, 3767, 3768, 3769, 3770, 3775, 3776, 3777, 3778, 3779, 3780, 3781, 3782, 3783, 3784, 3785, 3786, 3787, 3788, 3789, 3790, 3791, 3792, 3793, 3794, 3795, 3796, 3797, 3798, 3799, 3800, 3801, 3802, 3803, 3804, 3805, 3806, 3807, 3808, 3809, 3810, 3811, 3812, 3813, 3814, 3815, 3816, 3817, 3818, 3819, 3820, 3821, 3822, 3823, 3824, 3825, 3826, 3827, 3828, 3829, 3830, 3831, 3832, 3833, 3834, 3835, 3836, 3837, 3838, 3839, 3841, 3842, 3843, 3844, 3845, 3846, 3847, 3848, 3849, 3850, 3851, 3852, 3857, 3858, 3859, 3860, 3861, 3862, 3863, 3864, 3865, 3866, 3867, 3868, 3869, 3870, 3871, 3872, 3873, 3874, 3875, 3876, 3877, 3878, 3879, 3880, 3881, 3882, 3883, 3884, 3885, 3886, 3887, 3888, 3889, 3890, 3891, 3892, 3893, 3894, 3895, 3896, 3897, 3898, 3899, 3900, 3901, 3902, 3903, 3904, 3905, 3906, 3907, 3908, 3909, 3910, 3911, 3912, 3913, 3914, 3915, 3916, 3917, 3918, 3919, 3921, 3922, 3923, 3924, 3925, 3926, 3927, 3928, 3929, 3930, 3931, 3932, 3933, 3934, 3939, 3940, 3941, 3942, 3943, 3944, 3945, 3946, 3947, 3948, 3949, 3950, 3951, 3952, 3953, 3954, 3955, 3956, 3957, 3958, 3959, 3960, 3961, 3962, 3963, 3964, 3965, 3966, 3967, 3968, 3969, 3970, 3971, 3972, 3973, 3974, 3975, 3976, 3977, 3978, 3979, 3980, 3981, 3982, 3983, 3984, 3985, 3986, 3987, 3988, 3989, 3990, 3991, 3992, 3993, 3994, 3995, 3996, 3997, 3998, 3999, 4001, 4002, 4003, 4004, 4005, 4006, 4007, 4008, 4009, 4010, 4011, 4012, 4013, 4014, 4015, 4016, 4022, 4023, 4024, 4025, 4026, 4027, 4028, 4029, 4030, 4031, 4032, 4033, 4034, 4035, 4036, 4037, 4038, 4039, 4040, 4041, 4042, 4043, 4044, 4045, 4046, 4047, 4048, 4049, 4050, 4051, 4052, 4053, 4054, 4055, 4056, 4057, 4058, 4059, 4060, 4061, 4062, 4063, 4064, 4065, 4066, 4067, 4068, 4069, 4070, 4071, 4072, 4073, 4074, 4075, 4076, 4077, 4078, 4079, 4081, 4082, 4083, 4084, 4085, 4086, 4087, 4088, 4089, 4090, 4091, 4092, 4093, 4094, 4095, 4096, 4097, 4104, 4105, 4106, 4107, 4108, 4109, 4110, 4111, 4112, 4113, 4114, 4115, 4116, 4117, 4118, 4119, 4120, 4121, 4122, 4123, 4124, 4125, 4126, 4127, 4128, 4129, 4130, 4131, 4132, 4133, 4134, 4135, 4136, 4137, 4138, 4139, 4140, 4141, 4142, 4143, 4144, 4145, 4146, 4147, 4148, 4149, 4150, 4151, 4152, 4153, 4154, 4155, 4156, 4157, 4158, 4159, 4161, 4162, 4163, 4164, 4165, 4166, 4167, 4168, 4169, 4170, 4171, 4172, 4173, 4174, 4175, 4176, 4177, 4178, 4179, 4186, 4187, 4188, 4189, 4190, 4191, 4192, 4193, 4194, 4195, 4196, 4197, 4198, 4199, 4200, 4201, 4202, 4203, 4204, 4205, 4206, 4207, 4208, 4209, 4210, 4211, 4212, 4213, 4214, 4215, 4216, 4217, 4218, 4219, 4220, 4221, 4222, 4223, 4224, 4225, 4226, 4227, 4228, 4229, 4230, 4231, 4232, 4233, 4234, 4235, 4236, 4237, 4238, 4239, 4241, 4242, 4243, 4244, 4245, 4246, 4247, 4248, 4249, 4250, 4251, 4252, 4253, 4254, 4255, 4256, 4257, 4258, 4259, 4260, 4261, 4269, 4270, 4271, 4272, 4273, 4274, 4275, 4276, 4277, 4278, 4279, 4280, 4281, 4282, 4283, 4284, 4285, 4286, 4287, 4288, 4289, 4290, 4291, 4292, 4293, 4294, 4295, 4296, 4297, 4298, 4299, 4300, 4301, 4302, 4303, 4304, 4305, 4306, 4307, 4308, 4309, 4310, 4311, 4312, 4313, 4314, 4315, 4316, 4317, 4318, 4319, 4321, 4322, 4323, 4324, 4325, 4326, 4327, 4328, 4329, 4330, 4331, 4332, 4333, 4334, 4335, 4336, 4337, 4338, 4339, 4340, 4341, 4342, 4343, 4351, 4352, 4353, 4354, 4355, 4356, 4357, 4358, 4359, 4360, 4361, 4362, 4363, 4364, 4365, 4366, 4367, 4368, 4369, 4370, 4371, 4372, 4373, 4374, 4375, 4376, 4377, 4378, 4379, 4380, 4381, 4382, 4383, 4384, 4385, 4386, 4387, 4388, 4389, 4390, 4391, 4392, 4393, 4394, 4395, 4396, 4397, 4398, 4399, 4401, 4402, 4403, 4404, 4405, 4406, 4407, 4408, 4409, 4410, 4411, 4412, 4413, 4414, 4415, 4416, 4417, 4418, 4419, 4420, 4421, 4422, 4423, 4424, 4425, 4434, 4435, 4436, 4437, 4438, 4439, 4440, 4441, 4442, 4443, 4444, 4445, 4446, 4447, 4448, 4449, 4450, 4451, 4452, 4453, 4454, 4455, 4456, 4457, 4458, 4459, 4460, 4461, 4462, 4463, 4464, 4465, 4466, 4467, 4468, 4469, 4470, 4471, 4472, 4473, 4474, 4475, 4476, 4477, 4478, 4482, 4483, 4484, 4485, 4486, 4487, 4488, 4489, 4490, 4491, 4492, 4493, 4494, 4495, 4496, 4497, 4498, 4499, 4500, 4501, 4502, 4503, 4504, 4505, 4506, 4516, 4517, 4518, 4519, 4520, 4521, 4522, 4523, 4524, 4525, 4526, 4527, 4528, 4529, 4530, 4531, 4532, 4533, 4534, 4535, 4536, 4537, 4538, 4539, 4540, 4541, 4542, 4543, 4544, 4545, 4546, 4547, 4548, 4549, 4550, 4551, 4552, 4553, 4554, 4555, 4556, 4557, 4558, 4562, 4563, 4564, 4565, 4566, 4567, 4568, 4569, 4570, 4571, 4572, 4573, 4574, 4575, 4576, 4577, 4578, 4579, 4580, 4581, 4582, 4583, 4584, 4585, 4586, 4587, 4588, 4598, 4599, 4600, 4601, 4602, 4603, 4604, 4605, 4606, 4607, 4608, 4609, 4610, 4611, 4612, 4613, 4614, 4615, 4616, 4617, 4618, 4619, 4620, 4621, 4622, 4623, 4624, 4625, 4626, 4627, 4628, 4629, 4630, 4631, 4632, 4633, 4634, 4635, 4636, 4637, 4638, 4642, 4643, 4644, 4645, 4646, 4647, 4648, 4649, 4650, 4651, 4652, 4653, 4654, 4655, 4656, 4657, 4658, 4659, 4660, 4661, 4662, 4663, 4664, 4665, 4666, 4667, 4668, 4669, 4670, 4681, 4682, 4683, 4684, 4685, 4686, 4687, 4688, 4689, 4690, 4691, 4692, 4693, 4694, 4695, 4696, 4697, 4698, 4699, 4700, 4701, 4702, 4703, 4704, 4705, 4706, 4707, 4708, 4709, 4710, 4711, 4712, 4713, 4714, 4715, 4716, 4717, 4718, 4722, 4723, 4724, 4725, 4726, 4727, 4728, 4729, 4730, 4731, 4732, 4733, 4734, 4735, 4736, 4737, 4738, 4739, 4740, 4741, 4742, 4743, 4744, 4745, 4746, 4747, 4748, 4749, 4750, 4751, 4752, 4763, 4764, 4765, 4766, 4767, 4768, 4769, 4770, 4771, 4772, 4773, 4774, 4775, 4776, 4777, 4778, 4779, 4780, 4781, 4782, 4783, 4784, 4785, 4786, 4787, 4788, 4789, 4790, 4791, 4792, 4793, 4794, 4795, 4796, 4797, 4798, 4802, 4803, 4804, 4805, 4806, 4807, 4808, 4809, 4810, 4811, 4812, 4813, 4814, 4815, 4816, 4817, 4818, 4819, 4820, 4821, 4822, 4823, 4824, 4825, 4826, 4827, 4828, 4829, 4830, 4831, 4832, 4833, 4834, 4845, 4846, 4847, 4848, 4849, 4850, 4851, 4852, 4853, 4854, 4855, 4856, 4857, 4858, 4859, 4860, 4861, 4862, 4863, 4864, 4865, 4866, 4867, 4868, 4869, 4870, 4871, 4872, 4873, 4874, 4875, 4876, 4877, 4878, 4882, 4883, 4884, 4885, 4886, 4887, 4888, 4889, 4890, 4891, 4892, 4893, 4894, 4895, 4896, 4897, 4898, 4899, 4900, 4901, 4902, 4903, 4904, 4905, 4906, 4907, 4908, 4909, 4910, 4911, 4912, 4913, 4914, 4915, 4928, 4929, 4930, 4931, 4932, 4933, 4934, 4935, 4936, 4937, 4938, 4939, 4940, 4941, 4942, 4943, 4944, 4945, 4946, 4947, 4948, 4949, 4950, 4951, 4952, 4953, 4954, 4955, 4956, 4957, 4958, 4962, 4963, 4964, 4965, 4966, 4967, 4968, 4969, 4970, 4971, 4972, 4973, 4974, 4975, 4976, 4977, 4978, 4979, 4980, 4981, 4982, 4983, 4984, 4985, 4986, 4987, 4988, 4989, 4990, 4991, 4992, 4993, 4994, 4995, 4996, 4997, 5010, 5011, 5012, 5013, 5014, 5015, 5016, 5017, 5018, 5019, 5020, 5021, 5022, 5023, 5024, 5025, 5026, 5027, 5028, 5029, 5030, 5031, 5032, 5033, 5034, 5035, 5036, 5037, 5038, 5042, 5043, 5044, 5045, 5046, 5047, 5048, 5049, 5050, 5051, 5052, 5053, 5054, 5055, 5056, 5057, 5058, 5059, 5060, 5061, 5062, 5063, 5064, 5065, 5066, 5067, 5068, 5069, 5070, 5071, 5072, 5073, 5074, 5075, 5076, 5077, 5078, 5079, 5092, 5093, 5094, 5095, 5096, 5097, 5098, 5099, 5100, 5101, 5102, 5103, 5104, 5105, 5106, 5107, 5108, 5109, 5110, 5111, 5112, 5113, 5114, 5115, 5116, 5117, 5118, 5122, 5123, 5124, 5125, 5126, 5127, 5128, 5129, 5130, 5131, 5132, 5133, 5134, 5135, 5136, 5137, 5138, 5139, 5140, 5141, 5142, 5143, 5144, 5145, 5146, 5147, 5148, 5149, 5150, 5151, 5152, 5153, 5154, 5155, 5156, 5157, 5158, 5159, 5160, 5161, 5175, 5176, 5177, 5178, 5179, 5180, 5181, 5182, 5183, 5184, 5185, 5186, 5187, 5188, 5189, 5190, 5191, 5192, 5193, 5194, 5195, 5196, 5197, 5198, 5202, 5203, 5204, 5205, 5206, 5207, 5208, 5209, 5210, 5211, 5212, 5213, 5214, 5215, 5216, 5217, 5218, 5219, 5220, 5221, 5222, 5223, 5224, 5225, 5226, 5227, 5228, 5229, 5230, 5231, 5232, 5233, 5234, 5235, 5236, 5237, 5238, 5239, 5240, 5241, 5242, 5243, 5257, 5258, 5259, 5260, 5261, 5262, 5263, 5264, 5265, 5266, 5267, 5268, 5269, 5270, 5271, 5272, 5273, 5274, 5275, 5276, 5277, 5278, 5282, 5283, 5284, 5285, 5286, 5287, 5288, 5289, 5290, 5291, 5292, 5293, 5294, 5295, 5296, 5297, 5298, 5299, 5300, 5301, 5302, 5303, 5304, 5305, 5306, 5307, 5308, 5309, 5310, 5311, 5312, 5313, 5314, 5315, 5316, 5317, 5318, 5319, 5320, 5321, 5322, 5323, 5324, 5340, 5341, 5342, 5343, 5344, 5345, 5346, 5347, 5348, 5349, 5350, 5351, 5352, 5353, 5354, 5355, 5356, 5357, 5358, 5362, 5363, 5364, 5365, 5366, 5367, 5368, 5369, 5370, 5371, 5372, 5373, 5374, 5375, 5376, 5377, 5378, 5379, 5380, 5381, 5382, 5383, 5384, 5385, 5386, 5387, 5388, 5389, 5390, 5391, 5392, 5393, 5394, 5395, 5396, 5397, 5398, 5399, 5400, 5401, 5402, 5403, 5404, 5405, 5406, 5422, 5423, 5424, 5425, 5426, 5427, 5428, 5429, 5430, 5431, 5432, 5433, 5434, 5435, 5436, 5437, 5438, 5442, 5443, 5444, 5445, 5446, 5447, 5448, 5449, 5450, 5451, 5452, 5453, 5454, 5455, 5456, 5457, 5458, 5459, 5460, 5461, 5462, 5463, 5464, 5465, 5466, 5467, 5468, 5469, 5470, 5471, 5472, 5473, 5474, 5475, 5476, 5477, 5478, 5479, 5480, 5481, 5482, 5483, 5484, 5485, 5486, 5487, 5488, 5504, 5505, 5506, 5507, 5508, 5509, 5510, 5511, 5512, 5513, 5514, 5515, 5516, 5517, 5518, 5522, 5523, 5524, 5525, 5526, 5527, 5528, 5529, 5530, 5531, 5532, 5533, 5534, 5535, 5536, 5537, 5538, 5539, 5540, 5541, 5542, 5543, 5544, 5545, 5546, 5547, 5548, 5549, 5550, 5551, 5552, 5553, 5554, 5555, 5556, 5557, 5558, 5559, 5560, 5561, 5562, 5563, 5564, 5565, 5566, 5567, 5568, 5569, 5570, 5587, 5588, 5589, 5590, 5591, 5592, 5593, 5594, 5595, 5596, 5597, 5603, 5604, 5605, 5606, 5607, 5608, 5609, 5610, 5611, 5612, 5613, 5614, 5615, 5616, 5617, 5618, 5619, 5620, 5621, 5622, 5623, 5624, 5625, 5626, 5627, 5628, 5629, 5630, 5631, 5632, 5633, 5634, 5635, 5636, 5637, 5638, 5639, 5640, 5641, 5642, 5643, 5644, 5645, 5646, 5647, 5648, 5649, 5650, 5651, 5669, 5670, 5671, 5672, 5673, 5674, 5675, 5676, 5677, 5683, 5684, 5685, 5686, 5687, 5688, 5689, 5690, 5691, 5692, 5693, 5694, 5695, 5696, 5697, 5698, 5699, 5700, 5701, 5702, 5703, 5704, 5705, 5706, 5707, 5708, 5709, 5710, 5711, 5712, 5713, 5714, 5715, 5716, 5717, 5718, 5719, 5720, 5721, 5722, 5723, 5724, 5725, 5726, 5727, 5728, 5729, 5730, 5731, 5732, 5733, 5751, 5752, 5753, 5754, 5755, 5756, 5757, 5763, 5764, 5765, 5766, 5767, 5768, 5769, 5770, 5771, 5772, 5773, 5774, 5775, 5776, 5777, 5778, 5779, 5780, 5781, 5782, 5783, 5784, 5785, 5786, 5787, 5788, 5789, 5790, 5791, 5792, 5793, 5794, 5795, 5796, 5797, 5798, 5799, 5800, 5801, 5802, 5803, 5804, 5805, 5806, 5807, 5808, 5809, 5810, 5811, 5812, 5813, 5814, 5815, 5832, 5833, 5834, 5835, 5836, 5837, 5843, 5844, 5845, 5846, 5847, 5848, 5849, 5850, 5851, 5852, 5853, 5854, 5855, 5856, 5857, 5858, 5859, 5860, 5861, 5862, 5863, 5864, 5865, 5866, 5867, 5868, 5869, 5870, 5871, 5872, 5873, 5874, 5875, 5876, 5877, 5878, 5879, 5880, 5881, 5882, 5883, 5884, 5885, 5886, 5887, 5888, 5889, 5890, 5891, 5892, 5893, 5894, 5895, 5896, 5897, 5913, 5914, 5915, 5916, 5917, 5923, 5924, 5925, 5926, 5927, 5928, 5929, 5930, 5931, 5932, 5933, 5934, 5935, 5936, 5937, 5938, 5939, 5940, 5941, 5942, 5943, 5944, 5945, 5946, 5947, 5948, 5949, 5950, 5951, 5952, 5953, 5954, 5955, 5956, 5957, 5958, 5959, 5960, 5961, 5962, 5963, 5964, 5965, 5966, 5967, 5968, 5969, 5970, 5971, 5972, 5973, 5974, 5975, 5976, 5977, 5978, 5979, 5994, 5995, 5996, 5997, 6003, 6004, 6005, 6006, 6007, 6008, 6009, 6010, 6011, 6012, 6013, 6014, 6015, 6016, 6017, 6018, 6019, 6020, 6021, 6022, 6023, 6024, 6025, 6026, 6027, 6028, 6029, 6030, 6031, 6032, 6033, 6034, 6035, 6036, 6037, 6038, 6039, 6040, 6041, 6042, 6043, 6044, 6045, 6046, 6047, 6048, 6049, 6050, 6051, 6052, 6053, 6054, 6055, 6056, 6057, 6058, 6059, 6060, 6075, 6076, 6077, 6083, 6084, 6085, 6086, 6087, 6088, 6089, 6090, 6091, 6092, 6093, 6094, 6095, 6096, 6097, 6098, 6099, 6100, 6101, 6102, 6103, 6104, 6105, 6106, 6107, 6108, 6109, 6110, 6111, 6112, 6113, 6114, 6115, 6116, 6117, 6118, 6119, 6120, 6121, 6122, 6123, 6124, 6125, 6126, 6127, 6128, 6129, 6130, 6131, 6132, 6133, 6134, 6135, 6136, 6137, 6138, 6139, 6140, 6141, 6142, 6156, 6157, 6163, 6164, 6165, 6166, 6167, 6168, 6169, 6170, 6171, 6172, 6173, 6174, 6175, 6176, 6177, 6178, 6179, 6180, 6181, 6182, 6183, 6184, 6185, 6186, 6187, 6188, 6189, 6190, 6191, 6192, 6193, 6194, 6195, 6196, 6197, 6198, 6199, 6200, 6201, 6202, 6203, 6204, 6205, 6206, 6207, 6208, 6209, 6210, 6211, 6212, 6213, 6214, 6215, 6216, 6217, 6218, 6219, 6220, 6221, 6222, 6223, 6224, 6237, 6243, 6244, 6245, 6246, 6247, 6248, 6249, 6250, 6251, 6252, 6253, 6254, 6255, 6256, 6257, 6258, 6259, 6260, 6261, 6262, 6263, 6264, 6265, 6266, 6267, 6268, 6269, 6270, 6271, 6272, 6273, 6274, 6275, 6276, 6277, 6278, 6279, 6280, 6281, 6282, 6283, 6284, 6285, 6286, 6287, 6288, 6289, 6290, 6291, 6292, 6293, 6294, 6295, 6296, 6297, 6298, 6299, 6300, 6301, 6302, 6303, 6304, 6305, 6306, 6323, 6324, 6325, 6326, 6327, 6328, 6329, 6330, 6331, 6332, 6333, 6334, 6335, 6336, 6337, 6338, 6339, 6340, 6341, 6342, 6343, 6344, 6345, 6346, 6347, 6348, 6349, 6350, 6351, 6352, 6353, 6354, 6355, 6356, 6357, 6358, 6359, 6360, 6361, 6362, 6363, 6364, 6365, 6366, 6367, 6368, 6369, 6370, 6371, 6372, 6373, 6374, 6375, 6376, 6377, 6378, 6379, 6380, 6381, 6382, 6383, 6384, 6385, 6386, 6387, 6388, 6403, 6404, 6405, 6406, 6407, 6408, 6409, 6410, 6411, 6412, 6413, 6414, 6415, 6416, 6417, 6418, 6419, 6420, 6421, 6422, 6423, 6424, 6425, 6426, 6427, 6428, 6429, 6430, 6431, 6432, 6433, 6434, 6435, 6436, 6437, 6438, 6439, 6440, 6441, 6442, 6443, 6444, 6445, 6446, 6447, 6448, 6449, 6450, 6451, 6452, 6453, 6454, 6455, 6456, 6457, 6458, 6459, 6460, 6461, 6462, 6463, 6464, 6465, 6466, 6467, 6468, 6469, 6483, 6484, 6485, 6486, 6487, 6488, 6489, 6490, 6491, 6492, 6493, 6494, 6495, 6496, 6497, 6498, 6499, 6500, 6501, 6502, 6503, 6504, 6505, 6506, 6507, 6508, 6509, 6510, 6511, 6512, 6513, 6514, 6515, 6516, 6517, 6518, 6519, 6520, 6521, 6522, 6523, 6524, 6525, 6526, 6527, 6528, 6529, 6530, 6531, 6532, 6533, 6534, 6535, 6536, 6537, 6538, 6539, 6540, 6541, 6542, 6543, 6544, 6545, 6546, 6547, 6548, 6549, 6550, 6551]\n",
      "val ids:  []\n",
      "test ids:  [0, 1, 2, 3, 4, 5, 6, 7, 8, 78, 79, 80, 81, 82, 83, 84, 85, 86, 87, 88, 89, 90, 158, 159, 160, 161, 162, 163, 164, 165, 166, 167, 168, 169, 170, 171, 238, 239, 240, 241, 242, 243, 244, 245, 246, 247, 248, 249, 250, 251, 252, 253, 318, 319, 320, 321, 322, 324, 325, 326, 327, 328, 329, 330, 331, 332, 333, 334, 335, 398, 399, 400, 401, 402, 405, 406, 407, 408, 409, 410, 411, 412, 413, 414, 415, 416, 417, 478, 479, 480, 481, 482, 486, 487, 488, 489, 490, 491, 492, 493, 494, 495, 496, 497, 498, 499, 558, 559, 560, 561, 562, 567, 568, 569, 570, 571, 572, 573, 574, 575, 576, 577, 578, 579, 580, 638, 639, 640, 641, 642, 648, 649, 650, 651, 652, 653, 654, 655, 656, 657, 658, 659, 660, 661, 662, 718, 719, 720, 721, 722, 729, 730, 731, 732, 733, 734, 735, 736, 737, 738, 739, 740, 741, 742, 743, 744, 798, 799, 800, 801, 802, 810, 811, 812, 813, 814, 815, 816, 817, 818, 819, 820, 821, 822, 823, 824, 825, 826, 878, 879, 880, 881, 882, 892, 893, 894, 895, 896, 897, 898, 899, 900, 901, 902, 903, 904, 905, 906, 907, 908, 958, 959, 960, 961, 962, 974, 975, 976, 977, 978, 979, 980, 981, 982, 983, 984, 985, 986, 987, 988, 989, 1039, 1040, 1041, 1057, 1058, 1059, 1060, 1061, 1062, 1063, 1064, 1065, 1066, 1067, 1068, 1069, 1070, 1071, 1119, 1120, 1121, 1139, 1140, 1141, 1142, 1143, 1144, 1145, 1146, 1147, 1148, 1149, 1150, 1151, 1152, 1153, 1199, 1200, 1201, 1221, 1222, 1223, 1224, 1225, 1226, 1227, 1228, 1229, 1230, 1231, 1232, 1233, 1234, 1235, 1279, 1280, 1281, 1304, 1305, 1306, 1307, 1308, 1309, 1310, 1311, 1312, 1313, 1314, 1315, 1316, 1359, 1360, 1361, 1386, 1387, 1388, 1389, 1390, 1391, 1392, 1393, 1394, 1395, 1396, 1397, 1398, 1439, 1440, 1441, 1469, 1470, 1471, 1472, 1473, 1474, 1475, 1476, 1477, 1478, 1479, 1480, 1519, 1520, 1521, 1551, 1552, 1553, 1554, 1555, 1556, 1557, 1558, 1559, 1560, 1561, 1562, 1599, 1600, 1601, 1633, 1634, 1635, 1636, 1637, 1638, 1639, 1640, 1641, 1642, 1643, 1644, 1679, 1680, 1681, 1716, 1717, 1718, 1719, 1720, 1721, 1722, 1723, 1724, 1725, 1759, 1760, 1761, 1798, 1799, 1800, 1801, 1802, 1803, 1804, 1805, 1806, 1807, 1839, 1840, 1841, 1880, 1881, 1882, 1883, 1884, 1885, 1886, 1887, 1888, 1889, 1919, 1920, 1921, 1963, 1964, 1965, 1966, 1967, 1968, 1969, 1970, 1971, 1999, 2000, 2001, 2045, 2046, 2047, 2048, 2049, 2050, 2051, 2052, 2053, 2079, 2080, 2081, 2127, 2128, 2129, 2130, 2131, 2132, 2133, 2134, 2160, 2210, 2211, 2212, 2213, 2214, 2215, 2216, 2240, 2292, 2293, 2294, 2295, 2296, 2297, 2298, 2320, 2375, 2376, 2377, 2378, 2379, 2380, 2400, 2457, 2458, 2459, 2460, 2461, 2462, 2480, 2539, 2540, 2541, 2542, 2543, 2560, 2622, 2623, 2624, 2625, 2640, 2704, 2705, 2706, 2707, 2720, 2786, 2787, 2788, 2789, 2800, 2869, 2870, 2871, 2880, 2951, 2952, 2960, 3033, 3034, 3040, 3116, 3120, 3198, 3200, 3280, 3360, 3362, 3440, 3444, 3520, 3526, 3527, 3600, 3608, 3609, 3680, 3689, 3690, 3691, 3760, 3771, 3772, 3773, 3774, 3840, 3853, 3854, 3855, 3856, 3920, 3935, 3936, 3937, 3938, 4000, 4017, 4018, 4019, 4020, 4021, 4080, 4098, 4099, 4100, 4101, 4102, 4103, 4160, 4180, 4181, 4182, 4183, 4184, 4185, 4240, 4262, 4263, 4264, 4265, 4266, 4267, 4268, 4320, 4344, 4345, 4346, 4347, 4348, 4349, 4350, 4400, 4426, 4427, 4428, 4429, 4430, 4431, 4432, 4433, 4479, 4480, 4481, 4507, 4508, 4509, 4510, 4511, 4512, 4513, 4514, 4515, 4559, 4560, 4561, 4589, 4590, 4591, 4592, 4593, 4594, 4595, 4596, 4597, 4639, 4640, 4641, 4671, 4672, 4673, 4674, 4675, 4676, 4677, 4678, 4679, 4680, 4719, 4720, 4721, 4753, 4754, 4755, 4756, 4757, 4758, 4759, 4760, 4761, 4762, 4799, 4800, 4801, 4835, 4836, 4837, 4838, 4839, 4840, 4841, 4842, 4843, 4844, 4879, 4880, 4881, 4916, 4917, 4918, 4919, 4920, 4921, 4922, 4923, 4924, 4925, 4926, 4927, 4959, 4960, 4961, 4998, 4999, 5000, 5001, 5002, 5003, 5004, 5005, 5006, 5007, 5008, 5009, 5039, 5040, 5041, 5080, 5081, 5082, 5083, 5084, 5085, 5086, 5087, 5088, 5089, 5090, 5091, 5119, 5120, 5121, 5162, 5163, 5164, 5165, 5166, 5167, 5168, 5169, 5170, 5171, 5172, 5173, 5174, 5199, 5200, 5201, 5244, 5245, 5246, 5247, 5248, 5249, 5250, 5251, 5252, 5253, 5254, 5255, 5256, 5279, 5280, 5281, 5325, 5326, 5327, 5328, 5329, 5330, 5331, 5332, 5333, 5334, 5335, 5336, 5337, 5338, 5339, 5359, 5360, 5361, 5407, 5408, 5409, 5410, 5411, 5412, 5413, 5414, 5415, 5416, 5417, 5418, 5419, 5420, 5421, 5439, 5440, 5441, 5489, 5490, 5491, 5492, 5493, 5494, 5495, 5496, 5497, 5498, 5499, 5500, 5501, 5502, 5503, 5519, 5520, 5521, 5571, 5572, 5573, 5574, 5575, 5576, 5577, 5578, 5579, 5580, 5581, 5582, 5583, 5584, 5585, 5586, 5598, 5599, 5600, 5601, 5602, 5652, 5653, 5654, 5655, 5656, 5657, 5658, 5659, 5660, 5661, 5662, 5663, 5664, 5665, 5666, 5667, 5668, 5678, 5679, 5680, 5681, 5682, 5734, 5735, 5736, 5737, 5738, 5739, 5740, 5741, 5742, 5743, 5744, 5745, 5746, 5747, 5748, 5749, 5750, 5758, 5759, 5760, 5761, 5762, 5816, 5817, 5818, 5819, 5820, 5821, 5822, 5823, 5824, 5825, 5826, 5827, 5828, 5829, 5830, 5831, 5838, 5839, 5840, 5841, 5842, 5898, 5899, 5900, 5901, 5902, 5903, 5904, 5905, 5906, 5907, 5908, 5909, 5910, 5911, 5912, 5918, 5919, 5920, 5921, 5922, 5980, 5981, 5982, 5983, 5984, 5985, 5986, 5987, 5988, 5989, 5990, 5991, 5992, 5993, 5998, 5999, 6000, 6001, 6002, 6061, 6062, 6063, 6064, 6065, 6066, 6067, 6068, 6069, 6070, 6071, 6072, 6073, 6074, 6078, 6079, 6080, 6081, 6082, 6143, 6144, 6145, 6146, 6147, 6148, 6149, 6150, 6151, 6152, 6153, 6154, 6155, 6158, 6159, 6160, 6161, 6162, 6225, 6226, 6227, 6228, 6229, 6230, 6231, 6232, 6233, 6234, 6235, 6236, 6238, 6239, 6240, 6241, 6242, 6307, 6308, 6309, 6310, 6311, 6312, 6313, 6314, 6315, 6316, 6317, 6318, 6319, 6320, 6321, 6322, 6389, 6390, 6391, 6392, 6393, 6394, 6395, 6396, 6397, 6398, 6399, 6400, 6401, 6402, 6470, 6471, 6472, 6473, 6474, 6475, 6476, 6477, 6478, 6479, 6480, 6481, 6482, 6552, 6553, 6554, 6555, 6556, 6557, 6558, 6559, 6560]\n",
      "CPU times: user 170 ms, sys: 16.2 ms, total: 186 ms\n",
      "Wall time: 185 ms\n"
     ]
    }
   ],
   "source": [
    "%%time\n",
    "n_total = len(simulation.dataframe)\n",
    "n_train = len(simulation.dataframe[simulation.dataframe.type_of == \"train\"])\n",
    "n_val = len(simulation.dataframe[simulation.dataframe.type_of == \"val\"])\n",
    "n_test = len(simulation.dataframe[simulation.dataframe.type_of == \"test\"])\n",
    "n_train_hamiltonians = len(simulation.train_ids)\n",
    "n_val_hamiltonians = len(simulation.val_ids)\n",
    "n_test_hamiltonians = len(simulation.test_ids)\n",
    "n_total_hamiltonians = n_train_hamiltonians + n_val_hamiltonians + n_test_hamiltonians\n",
    "\n",
    "print(\"% train: \", n_train/n_total)\n",
    "print(\"% val: \",  n_val/n_total)\n",
    "print(\"% test: \", n_test/n_total)\n",
    "print(\"% train + val + test: \", (n_train+n_val+n_test)/n_total)\n",
    "print(\"\\n\")\n",
    "print(\"number of train hamiltonians: \", n_train_hamiltonians)\n",
    "print(\"number of val hamiltonians: \", n_val_hamiltonians)\n",
    "print(\"number of test hamiltonians: \", n_test_hamiltonians)\n",
    "print(\"total number of hamiltonians: \", n_total_hamiltonians)\n",
    "print(\"\\n\")\n",
    "print(\"train ids: \", simulation.train_ids)\n",
    "print(\"val ids: \", simulation.val_ids)\n",
    "print(\"test ids: \", simulation.test_ids)"
   ]
  },
  {
   "cell_type": "markdown",
   "metadata": {
    "papermill": {
     "duration": 0.019425,
     "end_time": "2020-07-16T00:50:21.718528",
     "exception": false,
     "start_time": "2020-07-16T00:50:21.699103",
     "status": "completed"
    },
    "tags": []
   },
   "source": [
    "## Running a simulation"
   ]
  },
  {
   "cell_type": "code",
   "execution_count": 27,
   "metadata": {
    "execution": {
     "iopub.execute_input": "2020-07-16T00:50:21.761280Z",
     "iopub.status.busy": "2020-07-16T00:50:21.760961Z",
     "iopub.status.idle": "2020-07-16T01:07:41.910378Z",
     "shell.execute_reply": "2020-07-16T01:07:41.910686Z"
    },
    "papermill": {
     "duration": 1040.172824,
     "end_time": "2020-07-16T01:07:41.910750",
     "exception": false,
     "start_time": "2020-07-16T00:50:21.737926",
     "status": "completed"
    },
    "tags": []
   },
   "outputs": [
    {
     "name": "stderr",
     "output_type": "stream",
     "text": [
      "\r",
      "running experiments:   0%|          | 0/100 [00:00<?, ?it/s]"
     ]
    },
    {
     "name": "stdout",
     "output_type": "stream",
     "text": [
      "Simulation mode:  dct\n"
     ]
    },
    {
     "name": "stderr",
     "output_type": "stream",
     "text": [
      "\r",
      "running experiments:   1%|          | 1/100 [00:09<14:56,  9.06s/it]"
     ]
    },
    {
     "name": "stderr",
     "output_type": "stream",
     "text": [
      "\r",
      "running experiments:   2%|▏         | 2/100 [00:19<15:25,  9.44s/it]"
     ]
    },
    {
     "name": "stderr",
     "output_type": "stream",
     "text": [
      "\r",
      "running experiments:   3%|▎         | 3/100 [00:31<16:29, 10.20s/it]"
     ]
    },
    {
     "name": "stderr",
     "output_type": "stream",
     "text": [
      "\r",
      "running experiments:   4%|▍         | 4/100 [00:40<15:41,  9.81s/it]"
     ]
    },
    {
     "name": "stderr",
     "output_type": "stream",
     "text": [
      "\r",
      "running experiments:   5%|▌         | 5/100 [00:51<16:02, 10.13s/it]"
     ]
    },
    {
     "name": "stderr",
     "output_type": "stream",
     "text": [
      "\r",
      "running experiments:   6%|▌         | 6/100 [01:07<18:44, 11.96s/it]"
     ]
    },
    {
     "name": "stderr",
     "output_type": "stream",
     "text": [
      "\r",
      "running experiments:   7%|▋         | 7/100 [01:18<18:18, 11.81s/it]"
     ]
    },
    {
     "name": "stderr",
     "output_type": "stream",
     "text": [
      "\r",
      "running experiments:   8%|▊         | 8/100 [01:30<17:51, 11.64s/it]"
     ]
    },
    {
     "name": "stderr",
     "output_type": "stream",
     "text": [
      "\r",
      "running experiments:   9%|▉         | 9/100 [01:42<18:13, 12.02s/it]"
     ]
    },
    {
     "name": "stderr",
     "output_type": "stream",
     "text": [
      "\r",
      "running experiments:  10%|█         | 10/100 [01:54<17:35, 11.72s/it]"
     ]
    },
    {
     "name": "stderr",
     "output_type": "stream",
     "text": [
      "\r",
      "running experiments:  11%|█         | 11/100 [02:03<16:24, 11.06s/it]"
     ]
    },
    {
     "name": "stderr",
     "output_type": "stream",
     "text": [
      "\r",
      "running experiments:  12%|█▏        | 12/100 [02:11<15:00, 10.23s/it]"
     ]
    },
    {
     "name": "stderr",
     "output_type": "stream",
     "text": [
      "\r",
      "running experiments:  13%|█▎        | 13/100 [02:22<15:03, 10.38s/it]"
     ]
    },
    {
     "name": "stderr",
     "output_type": "stream",
     "text": [
      "\r",
      "running experiments:  14%|█▍        | 14/100 [02:31<14:19, 10.00s/it]"
     ]
    },
    {
     "name": "stderr",
     "output_type": "stream",
     "text": [
      "\r",
      "running experiments:  15%|█▌        | 15/100 [02:44<15:18, 10.80s/it]"
     ]
    },
    {
     "name": "stderr",
     "output_type": "stream",
     "text": [
      "\r",
      "running experiments:  16%|█▌        | 16/100 [02:52<14:11, 10.14s/it]"
     ]
    },
    {
     "name": "stderr",
     "output_type": "stream",
     "text": [
      "\r",
      "running experiments:  17%|█▋        | 17/100 [03:02<13:38,  9.86s/it]"
     ]
    },
    {
     "name": "stderr",
     "output_type": "stream",
     "text": [
      "\r",
      "running experiments:  18%|█▊        | 18/100 [03:13<14:07, 10.33s/it]"
     ]
    },
    {
     "name": "stderr",
     "output_type": "stream",
     "text": [
      "\r",
      "running experiments:  19%|█▉        | 19/100 [03:21<12:53,  9.55s/it]"
     ]
    },
    {
     "name": "stderr",
     "output_type": "stream",
     "text": [
      "\r",
      "running experiments:  20%|██        | 20/100 [03:31<13:07,  9.84s/it]"
     ]
    },
    {
     "name": "stderr",
     "output_type": "stream",
     "text": [
      "\r",
      "running experiments:  21%|██        | 21/100 [03:47<15:06, 11.47s/it]"
     ]
    },
    {
     "name": "stderr",
     "output_type": "stream",
     "text": [
      "\r",
      "running experiments:  22%|██▏       | 22/100 [03:56<13:55, 10.72s/it]"
     ]
    },
    {
     "name": "stderr",
     "output_type": "stream",
     "text": [
      "\r",
      "running experiments:  23%|██▎       | 23/100 [04:04<12:54, 10.06s/it]"
     ]
    },
    {
     "name": "stderr",
     "output_type": "stream",
     "text": [
      "\r",
      "running experiments:  24%|██▍       | 24/100 [04:15<13:05, 10.34s/it]"
     ]
    },
    {
     "name": "stderr",
     "output_type": "stream",
     "text": [
      "\r",
      "running experiments:  25%|██▌       | 25/100 [04:25<12:45, 10.20s/it]"
     ]
    },
    {
     "name": "stderr",
     "output_type": "stream",
     "text": [
      "\r",
      "running experiments:  26%|██▌       | 26/100 [04:34<12:10,  9.87s/it]"
     ]
    },
    {
     "name": "stderr",
     "output_type": "stream",
     "text": [
      "\r",
      "running experiments:  27%|██▋       | 27/100 [04:44<11:56,  9.81s/it]"
     ]
    },
    {
     "name": "stderr",
     "output_type": "stream",
     "text": [
      "\r",
      "running experiments:  28%|██▊       | 28/100 [05:01<14:31, 12.10s/it]"
     ]
    },
    {
     "name": "stderr",
     "output_type": "stream",
     "text": [
      "\r",
      "running experiments:  29%|██▉       | 29/100 [05:14<14:34, 12.31s/it]"
     ]
    },
    {
     "name": "stderr",
     "output_type": "stream",
     "text": [
      "\r",
      "running experiments:  30%|███       | 30/100 [05:22<12:59, 11.14s/it]"
     ]
    },
    {
     "name": "stderr",
     "output_type": "stream",
     "text": [
      "\r",
      "running experiments:  31%|███       | 31/100 [05:31<11:51, 10.30s/it]"
     ]
    },
    {
     "name": "stderr",
     "output_type": "stream",
     "text": [
      "\r",
      "running experiments:  32%|███▏      | 32/100 [05:39<10:49,  9.56s/it]"
     ]
    },
    {
     "name": "stderr",
     "output_type": "stream",
     "text": [
      "\r",
      "running experiments:  33%|███▎      | 33/100 [05:49<10:59,  9.84s/it]"
     ]
    },
    {
     "name": "stderr",
     "output_type": "stream",
     "text": [
      "\r",
      "running experiments:  34%|███▍      | 34/100 [06:02<11:59, 10.89s/it]"
     ]
    },
    {
     "name": "stderr",
     "output_type": "stream",
     "text": [
      "\r",
      "running experiments:  35%|███▌      | 35/100 [06:12<11:32, 10.65s/it]"
     ]
    },
    {
     "name": "stderr",
     "output_type": "stream",
     "text": [
      "\r",
      "running experiments:  36%|███▌      | 36/100 [06:22<10:56, 10.26s/it]"
     ]
    },
    {
     "name": "stderr",
     "output_type": "stream",
     "text": [
      "\r",
      "running experiments:  37%|███▋      | 37/100 [06:31<10:22,  9.88s/it]"
     ]
    },
    {
     "name": "stderr",
     "output_type": "stream",
     "text": [
      "\r",
      "running experiments:  38%|███▊      | 38/100 [06:42<10:28, 10.13s/it]"
     ]
    },
    {
     "name": "stderr",
     "output_type": "stream",
     "text": [
      "\r",
      "running experiments:  39%|███▉      | 39/100 [06:53<10:40, 10.50s/it]"
     ]
    },
    {
     "name": "stderr",
     "output_type": "stream",
     "text": [
      "\r",
      "running experiments:  40%|████      | 40/100 [07:04<10:33, 10.55s/it]"
     ]
    },
    {
     "name": "stderr",
     "output_type": "stream",
     "text": [
      "\r",
      "running experiments:  41%|████      | 41/100 [07:13<09:57, 10.13s/it]"
     ]
    },
    {
     "name": "stderr",
     "output_type": "stream",
     "text": [
      "\r",
      "running experiments:  42%|████▏     | 42/100 [07:27<11:05, 11.48s/it]"
     ]
    },
    {
     "name": "stderr",
     "output_type": "stream",
     "text": [
      "\r",
      "running experiments:  43%|████▎     | 43/100 [07:36<10:03, 10.59s/it]"
     ]
    },
    {
     "name": "stderr",
     "output_type": "stream",
     "text": [
      "\r",
      "running experiments:  44%|████▍     | 44/100 [07:47<10:00, 10.72s/it]"
     ]
    },
    {
     "name": "stderr",
     "output_type": "stream",
     "text": [
      "\r",
      "running experiments:  45%|████▌     | 45/100 [07:54<08:49,  9.63s/it]"
     ]
    },
    {
     "name": "stderr",
     "output_type": "stream",
     "text": [
      "\r",
      "running experiments:  46%|████▌     | 46/100 [08:04<08:44,  9.72s/it]"
     ]
    },
    {
     "name": "stderr",
     "output_type": "stream",
     "text": [
      "\r",
      "running experiments:  47%|████▋     | 47/100 [08:16<09:20, 10.58s/it]"
     ]
    },
    {
     "name": "stderr",
     "output_type": "stream",
     "text": [
      "\r",
      "running experiments:  48%|████▊     | 48/100 [08:27<09:03, 10.45s/it]"
     ]
    },
    {
     "name": "stderr",
     "output_type": "stream",
     "text": [
      "\r",
      "running experiments:  49%|████▉     | 49/100 [08:35<08:15,  9.72s/it]"
     ]
    },
    {
     "name": "stderr",
     "output_type": "stream",
     "text": [
      "\r",
      "running experiments:  50%|█████     | 50/100 [08:43<07:40,  9.21s/it]"
     ]
    },
    {
     "name": "stderr",
     "output_type": "stream",
     "text": [
      "\r",
      "running experiments:  51%|█████     | 51/100 [08:53<07:47,  9.54s/it]"
     ]
    },
    {
     "name": "stderr",
     "output_type": "stream",
     "text": [
      "\r",
      "running experiments:  52%|█████▏    | 52/100 [09:02<07:30,  9.38s/it]"
     ]
    },
    {
     "name": "stderr",
     "output_type": "stream",
     "text": [
      "\r",
      "running experiments:  53%|█████▎    | 53/100 [09:14<08:02, 10.26s/it]"
     ]
    },
    {
     "name": "stderr",
     "output_type": "stream",
     "text": [
      "\r",
      "running experiments:  54%|█████▍    | 54/100 [09:25<08:01, 10.47s/it]"
     ]
    },
    {
     "name": "stderr",
     "output_type": "stream",
     "text": [
      "\r",
      "running experiments:  55%|█████▌    | 55/100 [09:36<07:58, 10.64s/it]"
     ]
    },
    {
     "name": "stderr",
     "output_type": "stream",
     "text": [
      "\r",
      "running experiments:  56%|█████▌    | 56/100 [09:49<08:21, 11.39s/it]"
     ]
    },
    {
     "name": "stderr",
     "output_type": "stream",
     "text": [
      "\r",
      "running experiments:  57%|█████▋    | 57/100 [09:58<07:29, 10.45s/it]"
     ]
    },
    {
     "name": "stderr",
     "output_type": "stream",
     "text": [
      "\r",
      "running experiments:  58%|█████▊    | 58/100 [10:09<07:27, 10.66s/it]"
     ]
    },
    {
     "name": "stderr",
     "output_type": "stream",
     "text": [
      "\r",
      "running experiments:  59%|█████▉    | 59/100 [10:20<07:21, 10.77s/it]"
     ]
    },
    {
     "name": "stderr",
     "output_type": "stream",
     "text": [
      "\r",
      "running experiments:  60%|██████    | 60/100 [10:32<07:25, 11.14s/it]"
     ]
    },
    {
     "name": "stderr",
     "output_type": "stream",
     "text": [
      "\r",
      "running experiments:  61%|██████    | 61/100 [10:40<06:39, 10.24s/it]"
     ]
    },
    {
     "name": "stderr",
     "output_type": "stream",
     "text": [
      "\r",
      "running experiments:  62%|██████▏   | 62/100 [10:53<07:03, 11.15s/it]"
     ]
    },
    {
     "name": "stderr",
     "output_type": "stream",
     "text": [
      "\r",
      "running experiments:  63%|██████▎   | 63/100 [11:07<07:22, 11.97s/it]"
     ]
    },
    {
     "name": "stderr",
     "output_type": "stream",
     "text": [
      "\r",
      "running experiments:  64%|██████▍   | 64/100 [11:15<06:23, 10.64s/it]"
     ]
    },
    {
     "name": "stderr",
     "output_type": "stream",
     "text": [
      "\r",
      "running experiments:  65%|██████▌   | 65/100 [11:23<05:52, 10.08s/it]"
     ]
    },
    {
     "name": "stderr",
     "output_type": "stream",
     "text": [
      "\r",
      "running experiments:  66%|██████▌   | 66/100 [11:32<05:26,  9.62s/it]"
     ]
    },
    {
     "name": "stderr",
     "output_type": "stream",
     "text": [
      "\r",
      "running experiments:  67%|██████▋   | 67/100 [11:41<05:11,  9.43s/it]"
     ]
    },
    {
     "name": "stderr",
     "output_type": "stream",
     "text": [
      "\r",
      "running experiments:  68%|██████▊   | 68/100 [11:52<05:19, 10.00s/it]"
     ]
    },
    {
     "name": "stderr",
     "output_type": "stream",
     "text": [
      "\r",
      "running experiments:  69%|██████▉   | 69/100 [12:03<05:13, 10.11s/it]"
     ]
    },
    {
     "name": "stderr",
     "output_type": "stream",
     "text": [
      "\r",
      "running experiments:  70%|███████   | 70/100 [12:13<05:01, 10.05s/it]"
     ]
    },
    {
     "name": "stderr",
     "output_type": "stream",
     "text": [
      "\r",
      "running experiments:  71%|███████   | 71/100 [12:21<04:33,  9.45s/it]"
     ]
    },
    {
     "name": "stderr",
     "output_type": "stream",
     "text": [
      "\r",
      "running experiments:  72%|███████▏  | 72/100 [12:33<04:49, 10.34s/it]"
     ]
    },
    {
     "name": "stderr",
     "output_type": "stream",
     "text": [
      "\r",
      "running experiments:  73%|███████▎  | 73/100 [12:45<04:51, 10.78s/it]"
     ]
    },
    {
     "name": "stderr",
     "output_type": "stream",
     "text": [
      "\r",
      "running experiments:  74%|███████▍  | 74/100 [12:55<04:35, 10.60s/it]"
     ]
    },
    {
     "name": "stderr",
     "output_type": "stream",
     "text": [
      "\r",
      "running experiments:  75%|███████▌  | 75/100 [13:10<04:55, 11.81s/it]"
     ]
    },
    {
     "name": "stderr",
     "output_type": "stream",
     "text": [
      "\r",
      "running experiments:  76%|███████▌  | 76/100 [13:21<04:38, 11.60s/it]"
     ]
    },
    {
     "name": "stderr",
     "output_type": "stream",
     "text": [
      "\r",
      "running experiments:  77%|███████▋  | 77/100 [13:31<04:14, 11.05s/it]"
     ]
    },
    {
     "name": "stderr",
     "output_type": "stream",
     "text": [
      "\r",
      "running experiments:  78%|███████▊  | 78/100 [13:42<04:07, 11.25s/it]"
     ]
    },
    {
     "name": "stderr",
     "output_type": "stream",
     "text": [
      "\r",
      "running experiments:  79%|███████▉  | 79/100 [13:50<03:33, 10.17s/it]"
     ]
    },
    {
     "name": "stderr",
     "output_type": "stream",
     "text": [
      "\r",
      "running experiments:  80%|████████  | 80/100 [13:59<03:14,  9.73s/it]"
     ]
    },
    {
     "name": "stderr",
     "output_type": "stream",
     "text": [
      "\r",
      "running experiments:  81%|████████  | 81/100 [14:09<03:10, 10.04s/it]"
     ]
    },
    {
     "name": "stderr",
     "output_type": "stream",
     "text": [
      "\r",
      "running experiments:  82%|████████▏ | 82/100 [14:19<02:55,  9.76s/it]"
     ]
    },
    {
     "name": "stderr",
     "output_type": "stream",
     "text": [
      "\r",
      "running experiments:  83%|████████▎ | 83/100 [14:28<02:41,  9.53s/it]"
     ]
    },
    {
     "name": "stderr",
     "output_type": "stream",
     "text": [
      "\r",
      "running experiments:  84%|████████▍ | 84/100 [14:37<02:31,  9.50s/it]"
     ]
    },
    {
     "name": "stderr",
     "output_type": "stream",
     "text": [
      "\r",
      "running experiments:  85%|████████▌ | 85/100 [14:47<02:24,  9.65s/it]"
     ]
    },
    {
     "name": "stderr",
     "output_type": "stream",
     "text": [
      "\r",
      "running experiments:  86%|████████▌ | 86/100 [14:55<02:09,  9.26s/it]"
     ]
    },
    {
     "name": "stderr",
     "output_type": "stream",
     "text": [
      "\r",
      "running experiments:  87%|████████▋ | 87/100 [15:06<02:06,  9.77s/it]"
     ]
    },
    {
     "name": "stderr",
     "output_type": "stream",
     "text": [
      "\r",
      "running experiments:  88%|████████▊ | 88/100 [15:18<02:05, 10.43s/it]"
     ]
    },
    {
     "name": "stderr",
     "output_type": "stream",
     "text": [
      "\r",
      "running experiments:  89%|████████▉ | 89/100 [15:26<01:46,  9.70s/it]"
     ]
    },
    {
     "name": "stderr",
     "output_type": "stream",
     "text": [
      "\r",
      "running experiments:  90%|█████████ | 90/100 [15:37<01:41, 10.12s/it]"
     ]
    },
    {
     "name": "stderr",
     "output_type": "stream",
     "text": [
      "\r",
      "running experiments:  91%|█████████ | 91/100 [15:48<01:33, 10.35s/it]"
     ]
    },
    {
     "name": "stderr",
     "output_type": "stream",
     "text": [
      "\r",
      "running experiments:  92%|█████████▏| 92/100 [15:59<01:23, 10.39s/it]"
     ]
    },
    {
     "name": "stderr",
     "output_type": "stream",
     "text": [
      "\r",
      "running experiments:  93%|█████████▎| 93/100 [16:07<01:07,  9.65s/it]"
     ]
    },
    {
     "name": "stderr",
     "output_type": "stream",
     "text": [
      "\r",
      "running experiments:  94%|█████████▍| 94/100 [16:15<00:55,  9.30s/it]"
     ]
    },
    {
     "name": "stderr",
     "output_type": "stream",
     "text": [
      "\r",
      "running experiments:  95%|█████████▌| 95/100 [16:24<00:46,  9.33s/it]"
     ]
    },
    {
     "name": "stderr",
     "output_type": "stream",
     "text": [
      "\r",
      "running experiments:  96%|█████████▌| 96/100 [16:39<00:43, 10.76s/it]"
     ]
    },
    {
     "name": "stderr",
     "output_type": "stream",
     "text": [
      "\r",
      "running experiments:  97%|█████████▋| 97/100 [16:48<00:31, 10.42s/it]"
     ]
    },
    {
     "name": "stderr",
     "output_type": "stream",
     "text": [
      "\r",
      "running experiments:  98%|█████████▊| 98/100 [16:58<00:20, 10.33s/it]"
     ]
    },
    {
     "name": "stderr",
     "output_type": "stream",
     "text": [
      "\r",
      "running experiments:  99%|█████████▉| 99/100 [17:08<00:10, 10.02s/it]"
     ]
    },
    {
     "name": "stderr",
     "output_type": "stream",
     "text": [
      "\r",
      "running experiments: 100%|██████████| 100/100 [17:20<00:00, 10.61s/it]"
     ]
    },
    {
     "name": "stderr",
     "output_type": "stream",
     "text": [
      "\r",
      "running experiments: 100%|██████████| 100/100 [17:20<00:00, 10.40s/it]"
     ]
    },
    {
     "name": "stdout",
     "output_type": "stream",
     "text": [
      "CPU times: user 17min 18s, sys: 2.05 s, total: 17min 20s\n",
      "Wall time: 17min 20s\n"
     ]
    },
    {
     "name": "stderr",
     "output_type": "stream",
     "text": [
      "\n"
     ]
    }
   ],
   "source": [
    "\n",
    "%%time\n",
    "simulation.run_simulation(n_experiments, start_n, fit_params,shuffle_rows, pred_params, random_features, \\\n",
    "                          store_in_lists, save_eigenvector, save_hamiltonian, save_accuracy,\\\n",
    "                          save_models)\n",
    "if simulation.fourier_mode is not None:\n",
    "    simulation.fourier_dataframe.head(10)"
   ]
  },
  {
   "cell_type": "code",
   "execution_count": 28,
   "metadata": {
    "execution": {
     "iopub.execute_input": "2020-07-16T01:07:41.984750Z",
     "iopub.status.busy": "2020-07-16T01:07:41.984435Z",
     "iopub.status.idle": "2020-07-16T01:07:42.010006Z",
     "shell.execute_reply": "2020-07-16T01:07:42.010309Z"
    },
    "papermill": {
     "duration": 0.063996,
     "end_time": "2020-07-16T01:07:42.010376",
     "exception": false,
     "start_time": "2020-07-16T01:07:41.946380",
     "status": "completed"
    },
    "tags": []
   },
   "outputs": [
    {
     "data": {
      "text/html": [
       "<div>\n",
       "<style scoped>\n",
       "    .dataframe tbody tr th:only-of-type {\n",
       "        vertical-align: middle;\n",
       "    }\n",
       "\n",
       "    .dataframe tbody tr th {\n",
       "        vertical-align: top;\n",
       "    }\n",
       "\n",
       "    .dataframe thead th {\n",
       "        text-align: right;\n",
       "    }\n",
       "</style>\n",
       "<table border=\"1\" class=\"dataframe\">\n",
       "  <thead>\n",
       "    <tr style=\"text-align: right;\">\n",
       "      <th></th>\n",
       "      <th>id</th>\n",
       "      <th>path</th>\n",
       "      <th>t1</th>\n",
       "      <th>t2</th>\n",
       "      <th>winding</th>\n",
       "      <th>phase</th>\n",
       "      <th>pred_phase</th>\n",
       "      <th>type_of</th>\n",
       "      <th>feat0</th>\n",
       "      <th>feat1</th>\n",
       "      <th>...</th>\n",
       "      <th>feat90</th>\n",
       "      <th>feat91</th>\n",
       "      <th>feat92</th>\n",
       "      <th>feat93</th>\n",
       "      <th>feat94</th>\n",
       "      <th>feat95</th>\n",
       "      <th>feat96</th>\n",
       "      <th>feat97</th>\n",
       "      <th>feat98</th>\n",
       "      <th>feat99</th>\n",
       "    </tr>\n",
       "  </thead>\n",
       "  <tbody>\n",
       "    <tr>\n",
       "      <th>0</th>\n",
       "      <td>0</td>\n",
       "      <td>H_-2_-2_0.509296.dat</td>\n",
       "      <td>-2.0</td>\n",
       "      <td>-2.0</td>\n",
       "      <td>0.509296</td>\n",
       "      <td>999</td>\n",
       "      <td>666</td>\n",
       "      <td>test</td>\n",
       "      <td>0.100000</td>\n",
       "      <td>0.100000</td>\n",
       "      <td>...</td>\n",
       "      <td>0.100000</td>\n",
       "      <td>0.100000</td>\n",
       "      <td>0.100000</td>\n",
       "      <td>0.100000</td>\n",
       "      <td>0.100000</td>\n",
       "      <td>0.100000</td>\n",
       "      <td>0.100000</td>\n",
       "      <td>0.100000</td>\n",
       "      <td>0.100000</td>\n",
       "      <td>0.100000</td>\n",
       "    </tr>\n",
       "    <tr>\n",
       "      <th>1</th>\n",
       "      <td>0</td>\n",
       "      <td>H_-2_-2_0.509296.dat</td>\n",
       "      <td>-2.0</td>\n",
       "      <td>-2.0</td>\n",
       "      <td>0.509296</td>\n",
       "      <td>999</td>\n",
       "      <td>666</td>\n",
       "      <td>test</td>\n",
       "      <td>0.141421</td>\n",
       "      <td>0.141142</td>\n",
       "      <td>...</td>\n",
       "      <td>0.114412</td>\n",
       "      <td>0.108967</td>\n",
       "      <td>0.123928</td>\n",
       "      <td>0.119406</td>\n",
       "      <td>0.131490</td>\n",
       "      <td>0.127962</td>\n",
       "      <td>0.136978</td>\n",
       "      <td>0.134500</td>\n",
       "      <td>0.140306</td>\n",
       "      <td>0.138916</td>\n",
       "    </tr>\n",
       "    <tr>\n",
       "      <th>2</th>\n",
       "      <td>0</td>\n",
       "      <td>H_-2_-2_0.509296.dat</td>\n",
       "      <td>-2.0</td>\n",
       "      <td>-2.0</td>\n",
       "      <td>0.509296</td>\n",
       "      <td>999</td>\n",
       "      <td>666</td>\n",
       "      <td>test</td>\n",
       "      <td>0.141421</td>\n",
       "      <td>0.140306</td>\n",
       "      <td>...</td>\n",
       "      <td>0.043702</td>\n",
       "      <td>0.026500</td>\n",
       "      <td>0.075777</td>\n",
       "      <td>0.060214</td>\n",
       "      <td>0.103092</td>\n",
       "      <td>0.090145</td>\n",
       "      <td>0.123928</td>\n",
       "      <td>0.114412</td>\n",
       "      <td>0.136978</td>\n",
       "      <td>0.131490</td>\n",
       "    </tr>\n",
       "    <tr>\n",
       "      <th>3</th>\n",
       "      <td>0</td>\n",
       "      <td>H_-2_-2_0.509296.dat</td>\n",
       "      <td>-2.0</td>\n",
       "      <td>-2.0</td>\n",
       "      <td>0.509296</td>\n",
       "      <td>999</td>\n",
       "      <td>666</td>\n",
       "      <td>test</td>\n",
       "      <td>-0.100000</td>\n",
       "      <td>0.100000</td>\n",
       "      <td>...</td>\n",
       "      <td>-0.100000</td>\n",
       "      <td>0.100000</td>\n",
       "      <td>-0.100000</td>\n",
       "      <td>0.100000</td>\n",
       "      <td>-0.100000</td>\n",
       "      <td>0.100000</td>\n",
       "      <td>-0.100000</td>\n",
       "      <td>0.100000</td>\n",
       "      <td>-0.100000</td>\n",
       "      <td>0.100000</td>\n",
       "    </tr>\n",
       "    <tr>\n",
       "      <th>4</th>\n",
       "      <td>0</td>\n",
       "      <td>H_-2_-2_0.509296.dat</td>\n",
       "      <td>-2.0</td>\n",
       "      <td>-2.0</td>\n",
       "      <td>0.509296</td>\n",
       "      <td>999</td>\n",
       "      <td>666</td>\n",
       "      <td>test</td>\n",
       "      <td>0.000509</td>\n",
       "      <td>-0.008372</td>\n",
       "      <td>...</td>\n",
       "      <td>-0.082713</td>\n",
       "      <td>-0.089753</td>\n",
       "      <td>-0.067684</td>\n",
       "      <td>-0.075347</td>\n",
       "      <td>-0.051587</td>\n",
       "      <td>-0.059753</td>\n",
       "      <td>-0.034677</td>\n",
       "      <td>-0.043217</td>\n",
       "      <td>-0.017220</td>\n",
       "      <td>-0.026000</td>\n",
       "    </tr>\n",
       "    <tr>\n",
       "      <th>5</th>\n",
       "      <td>0</td>\n",
       "      <td>H_-2_-2_0.509296.dat</td>\n",
       "      <td>-2.0</td>\n",
       "      <td>-2.0</td>\n",
       "      <td>0.509296</td>\n",
       "      <td>999</td>\n",
       "      <td>666</td>\n",
       "      <td>test</td>\n",
       "      <td>0.001204</td>\n",
       "      <td>-0.016530</td>\n",
       "      <td>...</td>\n",
       "      <td>-0.134123</td>\n",
       "      <td>-0.138686</td>\n",
       "      <td>-0.118757</td>\n",
       "      <td>-0.127445</td>\n",
       "      <td>-0.095929</td>\n",
       "      <td>-0.108196</td>\n",
       "      <td>-0.067073</td>\n",
       "      <td>-0.082149</td>\n",
       "      <td>-0.034003</td>\n",
       "      <td>-0.050940</td>\n",
       "    </tr>\n",
       "    <tr>\n",
       "      <th>6</th>\n",
       "      <td>0</td>\n",
       "      <td>H_-2_-2_0.509296.dat</td>\n",
       "      <td>-2.0</td>\n",
       "      <td>-2.0</td>\n",
       "      <td>0.509296</td>\n",
       "      <td>999</td>\n",
       "      <td>666</td>\n",
       "      <td>test</td>\n",
       "      <td>-0.141421</td>\n",
       "      <td>-0.138980</td>\n",
       "      <td>...</td>\n",
       "      <td>0.043375</td>\n",
       "      <td>0.067830</td>\n",
       "      <td>-0.009222</td>\n",
       "      <td>0.017385</td>\n",
       "      <td>-0.060524</td>\n",
       "      <td>-0.035502</td>\n",
       "      <td>-0.103326</td>\n",
       "      <td>-0.083403</td>\n",
       "      <td>-0.131616</td>\n",
       "      <td>-0.119589</td>\n",
       "    </tr>\n",
       "    <tr>\n",
       "      <th>7</th>\n",
       "      <td>0</td>\n",
       "      <td>H_-2_-2_0.509296.dat</td>\n",
       "      <td>-2.0</td>\n",
       "      <td>-2.0</td>\n",
       "      <td>0.509296</td>\n",
       "      <td>999</td>\n",
       "      <td>666</td>\n",
       "      <td>test</td>\n",
       "      <td>-0.000826</td>\n",
       "      <td>0.025688</td>\n",
       "      <td>...</td>\n",
       "      <td>0.134753</td>\n",
       "      <td>0.124324</td>\n",
       "      <td>0.141088</td>\n",
       "      <td>0.140407</td>\n",
       "      <td>0.127608</td>\n",
       "      <td>0.136771</td>\n",
       "      <td>0.096206</td>\n",
       "      <td>0.113925</td>\n",
       "      <td>0.051292</td>\n",
       "      <td>0.075079</td>\n",
       "    </tr>\n",
       "    <tr>\n",
       "      <th>8</th>\n",
       "      <td>0</td>\n",
       "      <td>H_-2_-2_0.509296.dat</td>\n",
       "      <td>-2.0</td>\n",
       "      <td>-2.0</td>\n",
       "      <td>0.509296</td>\n",
       "      <td>999</td>\n",
       "      <td>666</td>\n",
       "      <td>test</td>\n",
       "      <td>0.141417</td>\n",
       "      <td>0.136684</td>\n",
       "      <td>...</td>\n",
       "      <td>-0.115093</td>\n",
       "      <td>-0.131915</td>\n",
       "      <td>-0.061266</td>\n",
       "      <td>-0.091040</td>\n",
       "      <td>0.007717</td>\n",
       "      <td>-0.027643</td>\n",
       "      <td>0.074791</td>\n",
       "      <td>0.042592</td>\n",
       "      <td>0.123363</td>\n",
       "      <td>0.102291</td>\n",
       "    </tr>\n",
       "    <tr>\n",
       "      <th>9</th>\n",
       "      <td>0</td>\n",
       "      <td>H_-2_-2_0.509296.dat</td>\n",
       "      <td>-2.0</td>\n",
       "      <td>-2.0</td>\n",
       "      <td>0.509296</td>\n",
       "      <td>999</td>\n",
       "      <td>666</td>\n",
       "      <td>test</td>\n",
       "      <td>0.001302</td>\n",
       "      <td>0.036430</td>\n",
       "      <td>...</td>\n",
       "      <td>0.082068</td>\n",
       "      <td>0.050848</td>\n",
       "      <td>0.127402</td>\n",
       "      <td>0.108132</td>\n",
       "      <td>0.141218</td>\n",
       "      <td>0.138667</td>\n",
       "      <td>0.120099</td>\n",
       "      <td>0.134896</td>\n",
       "      <td>0.069268</td>\n",
       "      <td>0.097755</td>\n",
       "    </tr>\n",
       "  </tbody>\n",
       "</table>\n",
       "<p>10 rows × 108 columns</p>\n",
       "</div>"
      ],
      "text/plain": [
       "   id                  path   t1   t2   winding  phase  pred_phase type_of  \\\n",
       "0   0  H_-2_-2_0.509296.dat -2.0 -2.0  0.509296    999         666    test   \n",
       "1   0  H_-2_-2_0.509296.dat -2.0 -2.0  0.509296    999         666    test   \n",
       "2   0  H_-2_-2_0.509296.dat -2.0 -2.0  0.509296    999         666    test   \n",
       "3   0  H_-2_-2_0.509296.dat -2.0 -2.0  0.509296    999         666    test   \n",
       "4   0  H_-2_-2_0.509296.dat -2.0 -2.0  0.509296    999         666    test   \n",
       "5   0  H_-2_-2_0.509296.dat -2.0 -2.0  0.509296    999         666    test   \n",
       "6   0  H_-2_-2_0.509296.dat -2.0 -2.0  0.509296    999         666    test   \n",
       "7   0  H_-2_-2_0.509296.dat -2.0 -2.0  0.509296    999         666    test   \n",
       "8   0  H_-2_-2_0.509296.dat -2.0 -2.0  0.509296    999         666    test   \n",
       "9   0  H_-2_-2_0.509296.dat -2.0 -2.0  0.509296    999         666    test   \n",
       "\n",
       "      feat0     feat1  ...    feat90    feat91    feat92    feat93    feat94  \\\n",
       "0  0.100000  0.100000  ...  0.100000  0.100000  0.100000  0.100000  0.100000   \n",
       "1  0.141421  0.141142  ...  0.114412  0.108967  0.123928  0.119406  0.131490   \n",
       "2  0.141421  0.140306  ...  0.043702  0.026500  0.075777  0.060214  0.103092   \n",
       "3 -0.100000  0.100000  ... -0.100000  0.100000 -0.100000  0.100000 -0.100000   \n",
       "4  0.000509 -0.008372  ... -0.082713 -0.089753 -0.067684 -0.075347 -0.051587   \n",
       "5  0.001204 -0.016530  ... -0.134123 -0.138686 -0.118757 -0.127445 -0.095929   \n",
       "6 -0.141421 -0.138980  ...  0.043375  0.067830 -0.009222  0.017385 -0.060524   \n",
       "7 -0.000826  0.025688  ...  0.134753  0.124324  0.141088  0.140407  0.127608   \n",
       "8  0.141417  0.136684  ... -0.115093 -0.131915 -0.061266 -0.091040  0.007717   \n",
       "9  0.001302  0.036430  ...  0.082068  0.050848  0.127402  0.108132  0.141218   \n",
       "\n",
       "     feat95    feat96    feat97    feat98    feat99  \n",
       "0  0.100000  0.100000  0.100000  0.100000  0.100000  \n",
       "1  0.127962  0.136978  0.134500  0.140306  0.138916  \n",
       "2  0.090145  0.123928  0.114412  0.136978  0.131490  \n",
       "3  0.100000 -0.100000  0.100000 -0.100000  0.100000  \n",
       "4 -0.059753 -0.034677 -0.043217 -0.017220 -0.026000  \n",
       "5 -0.108196 -0.067073 -0.082149 -0.034003 -0.050940  \n",
       "6 -0.035502 -0.103326 -0.083403 -0.131616 -0.119589  \n",
       "7  0.136771  0.096206  0.113925  0.051292  0.075079  \n",
       "8 -0.027643  0.074791  0.042592  0.123363  0.102291  \n",
       "9  0.138667  0.120099  0.134896  0.069268  0.097755  \n",
       "\n",
       "[10 rows x 108 columns]"
      ]
     },
     "execution_count": 28,
     "metadata": {},
     "output_type": "execute_result"
    }
   ],
   "source": [
    "simulation.dataframe.head(10)"
   ]
  },
  {
   "cell_type": "markdown",
   "metadata": {
    "papermill": {
     "duration": 0.036444,
     "end_time": "2020-07-16T01:07:42.084448",
     "exception": false,
     "start_time": "2020-07-16T01:07:42.048004",
     "status": "completed"
    },
    "tags": []
   },
   "source": [
    "#### Viewing a random sample"
   ]
  },
  {
   "cell_type": "code",
   "execution_count": 29,
   "metadata": {
    "execution": {
     "iopub.execute_input": "2020-07-16T01:07:42.159752Z",
     "iopub.status.busy": "2020-07-16T01:07:42.159442Z",
     "iopub.status.idle": "2020-07-16T01:07:42.204044Z",
     "shell.execute_reply": "2020-07-16T01:07:42.204346Z"
    },
    "papermill": {
     "duration": 0.082417,
     "end_time": "2020-07-16T01:07:42.204419",
     "exception": false,
     "start_time": "2020-07-16T01:07:42.122002",
     "status": "completed"
    },
    "tags": []
   },
   "outputs": [
    {
     "name": "stdout",
     "output_type": "stream",
     "text": [
      "CPU times: user 34.9 ms, sys: 0 ns, total: 34.9 ms\n",
      "Wall time: 34.7 ms\n"
     ]
    }
   ],
   "source": [
    "%%time\n",
    "if simulation.fourier_mode is not None:\n",
    "    simulation.fourier_dataframe.sample(frac=0.1, replace=False)"
   ]
  },
  {
   "cell_type": "markdown",
   "metadata": {
    "papermill": {
     "duration": 0.036322,
     "end_time": "2020-07-16T01:07:42.277056",
     "exception": false,
     "start_time": "2020-07-16T01:07:42.240734",
     "status": "completed"
    },
    "tags": []
   },
   "source": [
    "#### Checking train/val/test splits again"
   ]
  },
  {
   "cell_type": "code",
   "execution_count": 30,
   "metadata": {
    "execution": {
     "iopub.execute_input": "2020-07-16T01:07:42.351723Z",
     "iopub.status.busy": "2020-07-16T01:07:42.351404Z",
     "iopub.status.idle": "2020-07-16T01:07:42.565088Z",
     "shell.execute_reply": "2020-07-16T01:07:42.564769Z"
    },
    "papermill": {
     "duration": 0.251779,
     "end_time": "2020-07-16T01:07:42.565140",
     "exception": false,
     "start_time": "2020-07-16T01:07:42.313361",
     "status": "completed"
    },
    "tags": []
   },
   "outputs": [
    {
     "name": "stdout",
     "output_type": "stream",
     "text": [
      "% train:  0.08474317939338516\n",
      "% val:  0.7620789513793629\n",
      "% test:  0.15317786922725193\n",
      "% train + val + test:  1.0\n",
      "\n",
      "\n",
      "number of train hamiltonians:  556\n",
      "number of val hamiltonians:  5000\n",
      "number of test hamiltonians:  1005\n",
      "total number of hamiltonians:  6561\n",
      "\n",
      "\n",
      "train ids:  [4709, 4005, 4601, 3248, 2056, 1513, 6326, 289, 4075, 506, 6298, 1715, 4749, 3449, 614, 2119, 4950, 1671, 3493, 6174, 4807, 3294, 5725, 6386, 753, 1299, 3805, 3288, 6137, 3634, 1099, 1092, 306, 370, 1655, 1793, 6369, 4277, 1428, 2782, 3914, 1249, 36, 3392, 4233, 4365, 4901, 1852, 971, 5160, 4571, 1624, 3780, 542, 3494, 1406, 2518, 3858, 112, 4521, 1811, 1430, 4231, 4657, 2677, 6251, 183, 2660, 1632, 1703, 5154, 4045, 1974, 3339, 140, 3300, 4121, 5052, 943, 2612, 2745, 3889, 2925, 781, 2505, 4987, 3731, 1584, 883, 5771, 5604, 3967, 2927, 5351, 6405, 5603, 4765, 6551, 4558, 4993, 2368, 2514, 2162, 1819, 1898, 6030, 5217, 285, 1795, 2140, 2733, 4176, 5795, 1825, 3297, 4321, 5306, 3896, 3420, 6278, 1289, 756, 6355, 2219, 6444, 4494, 366, 5594, 1659, 2043, 4805, 3593, 2820, 4769, 591, 215, 278, 2207, 5482, 6189, 2681, 1219, 2173, 4388, 2124, 2580, 1653, 3119, 5140, 3052, 1033, 3999, 4615, 5136, 5713, 367, 3964, 2984, 2232, 2419, 4871, 1375, 6467, 2709, 1024, 1008, 5345, 2688, 2555, 6493, 4747, 1877, 3031, 2956, 3069, 4776, 4665, 2142, 6018, 2335, 4497, 3756, 3357, 1126, 2327, 2303, 4297, 217, 3512, 4659, 2028, 5186, 147, 4071, 3328, 3490, 3213, 4061, 3677, 5692, 861, 5596, 3224, 3129, 5212, 4082, 2554, 4063, 58, 1215, 6026, 3126, 475, 618, 2005, 262, 1664, 5392, 5382, 761, 1976, 3337, 1341, 4850, 2901, 4030, 5558, 1690, 323, 6324, 1457, 1815, 46, 5769, 4399, 4037, 6135, 4682, 3177, 3348, 765, 1666, 1128, 5648, 1214, 1869, 3551, 6403, 3353, 2902, 3133, 5888, 582, 4212, 939, 1652, 6372, 5541, 5456, 509, 3324, 2003, 42, 1684, 2627, 5047, 3223, 4419, 3869, 1516, 4705, 1583, 2063, 4654, 2893, 1574, 2600, 5635, 3485, 2899, 2739, 1868, 5124, 3822, 33, 3683, 2024, 6053, 280, 2702, 2804, 3134, 5198, 5709, 911, 3099, 6013, 6051, 2276, 298, 5078, 2928, 61, 5870, 2989, 3295, 4179, 4441, 3458, 4229, 5645, 1260, 1043, 2278, 3873, 3189, 3983, 5396, 4569, 677, 1334, 3165, 2970, 4900, 5488, 3833, 5673, 4723, 376, 1843, 1467, 3611, 6459, 4198, 1347, 6422, 3044, 5222, 1686, 5781, 3870, 2697, 6109, 4011, 2967, 3048, 2980, 6448, 2337, 4820, 2258, 5388, 3675, 2413, 5278, 584, 5512, 5882, 6217, 966, 5054, 2388, 2464, 2579, 1497, 124, 5372, 5722, 5126, 3073, 1729, 1088, 3153, 5643, 4848, 874, 4435, 5272, 5213, 6023, 2044, 867, 117, 1327, 38, 2420, 5308, 4052, 2217, 4051, 2347, 2594, 711, 6525, 3851, 551, 4193, 1823, 4087, 6164, 1548, 3998, 4798, 2013, 931, 3281, 2753, 3142, 852, 3828, 2743, 3005, 5931, 2343, 3197, 2433, 5790, 2198, 5316, 4116, 1273, 2674, 5554, 5504, 5612, 4522, 5137, 1217, 4937, 2975, 4090, 2206, 948, 2911, 4968, 201, 6305, 3963, 6514, 2853, 145, 2319, 1468, 806, 1727, 2035, 305, 3437, 5188, 808, 4825, 6275, 3279, 2209, 4468, 4751, 1656, 1370, 2497, 829, 74, 537, 694, 454, 3222, 4114, 1972, 3612, 2915, 6028, 6544, 434, 3513, 5867, 1895, 2784, 1959, 2852, 4084, 2999, 2550, 2844, 5550, 6201, 4273, 1129, 3573, 2312, 1378, 538, 3670, 6502, 2301, 6104, 4519, 450, 2680, 4970, 4864, 6282, 3668, 6196, 873, 6408, 4242, 4492, 5859, 258, 676, 6417, 4053, 2913, 4888, 3589, 5950, 3114, 2164, 2988, 1658, 5176, 4947, 467, 4315, 6440, 3342, 4411, 3732, 3469, 4828, 3468, 3543, 5962, 1345, 917, 6035, 4072, 1770, 5366, 2684, 2842, 3682, 6077, 4220, 512, 4307, 3333, 6003, 4132, 4909, 2564, 1210, 1591, 919, 1277, 5182, 758]\n",
      "val ids:  [9, 2109, 2465, 3740, 3809, 5860, 1173, 1504, 3403, 6416, 4534, 2559, 4469, 1745, 4910, 2523, 3208, 4386, 5469, 4693, 3902, 5809, 424, 4981, 1079, 2300, 1028, 2449, 1978, 6362, 3629, 5847, 6124, 2829, 4197, 870, 4683, 5808, 1202, 609, 3275, 263, 2329, 3674, 1866, 6256, 363, 5321, 4793, 1381, 2259, 3032, 5365, 3890, 1453, 501, 3510, 1543, 3946, 2585, 1791, 5380, 373, 6529, 6449, 5367, 1112, 5932, 5211, 3054, 4421, 5294, 1023, 2474, 6220, 5190, 5684, 255, 4369, 1853, 1357, 2636, 1582, 5524, 4486, 1300, 4437, 6370, 221, 667, 1952, 3692, 313, 2831, 5309, 4528, 1909, 6373, 2703, 2863, 1849, 3748, 317, 135, 4110, 3836, 6360, 5225, 4653, 4398, 2810, 4778, 4119, 2944, 2953, 2220, 2417, 2571, 5145, 2679, 5156, 1541, 4043, 3109, 2139, 5856, 4784, 3163, 5313, 3860, 1003, 5108, 5075, 5291, 4311, 448, 3894, 2446, 6550, 1537, 3988, 1460, 353, 3267, 6503, 3824, 3491, 2328, 1432, 4813, 3173, 6412, 1604, 3802, 5135, 3722, 54, 5607, 3045, 5755, 3985, 1739, 1850, 5765, 5685, 4095, 337, 6428, 6354, 270, 2590, 6120, 4899, 5949, 186, 5262, 365, 2275, 4056, 3425, 2185, 4984, 5424, 379, 438, 1461, 4285, 3800, 2033, 6466, 1350, 1989, 5142, 3404, 2498, 4324, 1048, 3238, 5364, 5782, 5022, 4704, 2930, 1662, 4853, 2723, 5784, 1900, 2155, 1270, 2257, 5677, 4120, 3877, 4622, 1546, 2744, 1074, 129, 2340, 587, 4086, 4413, 5116, 4221, 3060, 4416, 2626, 1572, 4516, 2768, 2105, 2886, 1781, 6438, 6244, 3837, 5775, 1896, 923, 3302, 2538, 2321, 5344, 3904, 5056, 4575, 5375, 4091, 1487, 5712, 4009, 4383, 6208, 4588, 2973, 1782, 2285, 4898, 5611, 6334, 1980, 611, 787, 4823, 4952, 2120, 1670, 727, 5834, 3637, 1687, 5218, 4624, 4533, 1405, 783, 2813, 3274, 4806, 5219, 2392, 3309, 1797, 933, 5094, 1603, 5181, 459, 4333, 1287, 4986, 307, 4466, 536, 3635, 3477, 3265, 2488, 2225, 3115, 5450, 3553, 4517, 5283, 4939, 968, 5477, 2686, 5067, 1937, 3716, 4713, 3568, 6283, 2483, 6352, 2008, 4518, 2534, 2799, 3768, 5307, 6531, 1056, 6206, 3251, 3190, 1352, 458, 1982, 1158, 4893, 1697, 2181, 505, 3959, 2175, 4914, 3201, 2117, 4627, 1650, 2025, 6166, 5617, 5529, 4282, 3745, 2632, 3554, 1938, 297, 3916, 3466, 2966, 4974, 3899, 5886, 533, 3427, 115, 6108, 4069, 485, 4235, 3861, 4834, 5687, 1502, 4745, 4905, 1237, 4097, 1114, 189, 6111, 4781, 3724, 1957, 6015, 2178, 4668, 4739, 4157, 2529, 5716, 2463, 2412, 6095, 2669, 3046, 2592, 5846, 4218, 1034, 2770, 5552, 4711, 428, 4342, 4093, 1374, 6338, 610, 706, 3231, 1123, 701, 4664, 750, 6114, 5849, 3785, 5675, 4715, 3341, 714, 1302, 520, 392, 3620, 4526, 4707, 3957, 3349, 6463, 5686, 702, 3021, 2673, 2865, 5273, 5954, 1448, 594, 517, 2098, 4689, 5057, 1588, 4906, 1180, 5475, 5978, 4022, 3225, 3229, 6494, 5148, 5801, 1700, 2402, 141, 5444, 2496, 4327, 3603, 4652, 1787, 2484, 2286, 2621, 403, 483, 3633, 2643, 3662, 2507, 4802, 6506, 1614, 2023, 4579, 1617, 2138, 3451, 1672, 6347, 4605, 663, 6425, 3958, 4933, 1526, 2060, 377, 606, 4035, 2646, 6296, 3434, 4385, 6045, 386, 4868, 3155, 1097, 234, 4042, 5515, 6202, 3549, 1246, 2506, 3974, 3321, 3708, 5811, 4422, 3411, 96, 5570, 5352, 3723, 760, 4448, 1132, 1096, 4535, 6512, 4870, 2583, 2176, 3384, 4531, 1508, 3954, 3283, 1899, 3167, 5446, 2456, 784, 5751, 4643, 6142, 4332, 3866, 5430, 1518, 3172, 4109, 146, 4867, 5526, 828, 5608, 2336, 2587, 4860, 1161, 830, 3962, 3377, 2955, 341, 3228, 3450, 3744, 139, 3259, 4957, 277, 5958, 2948, 5122, 24, 3970, 2839, 4381, 5267, 1109, 3098, 425, 4845, 109, 1677, 2401, 6173, 1466, 3791, 4283, 3685, 466, 4149, 3230, 625, 4094, 6273, 2962, 6075, 6364, 3578, 4065, 3050, 2574, 3064, 2487, 4882, 4152, 2929, 1606, 4162, 5483, 2273, 3065, 4983, 2068, 999, 2006, 1117, 3735, 5429, 2099, 1946, 2628, 2106, 2700, 1135, 390, 5292, 2833, 5239, 4219, 3370, 3024, 3763, 3296, 1731, 4148, 6418, 1171, 1483, 5461, 203, 2254, 5236, 1829, 6540, 745, 2064, 121, 3747, 1182, 3522, 5864, 5284, 4417, 664, 6017, 213, 4146, 5936, 1183, 3254, 2963, 3560, 2926, 5231, 5623, 6498, 3613, 5632, 2078, 5533, 4279, 3350, 436, 4736, 2284, 3757, 6456, 4717, 5298, 3072, 669, 1891, 2245, 3351, 1283, 2746, 5569, 1845, 5634, 3400, 6246, 1353, 2239, 1137, 2849, 6526, 6492, 3532, 6216, 6031, 2872, 5289, 678, 4423, 2471, 916, 3261, 3881, 4228, 2569, 1294, 1400, 5159, 4449, 2161, 2982, 3688, 4748, 668, 126, 2683, 2121, 1409, 2196, 4752, 4524, 2002, 5812, 4245, 3901, 3475, 4958, 3714, 4628, 3627, 6156, 5616, 954, 5433, 5925, 5588, 3863, 5195, 419, 389, 6487, 5773, 4244, 2722, 5389, 4296, 6086, 2667, 3417, 6090, 2017, 1685, 2638, 2097, 1037, 4722, 2891, 6437, 303, 1424, 5270, 2932, 6092, 2415, 3387, 4698, 4380, 2724, 3727, 3107, 94, 3797, 420, 3137, 1826, 2260, 2619, 6536, 2781, 2482, 1271, 2699, 5650, 2451, 2954, 310, 3037, 3927, 4076, 2324, 1958, 2361, 6501, 3124, 1115, 3524, 2092, 230, 4581, 2895, 5754, 394, 887, 3161, 5876, 5861, 429, 3273, 5192, 5787, 2837, 3880, 4904, 6247, 3481, 1630, 3418, 4928, 5683, 3511, 3882, 683, 4234, 3933, 5959, 5810, 3499, 3598, 3320, 6115, 5624, 1165, 3546, 1415, 4115, 2668, 1993, 601, 3236, 3365, 5423, 1330, 2996, 1189, 296, 619, 5788, 6462, 1100, 2234, 6454, 3452, 3900, 6361, 1985, 4859, 6224, 1844, 2894, 6485, 3121, 5258, 93, 809, 1340, 2841, 4260, 2427, 3563, 6421, 358, 1288, 2678, 1790, 2717, 2084, 1218, 3266, 3614, 3913, 439, 790, 3406, 545, 157, 1994, 338, 3170, 3879, 384, 5944, 5106, 5615, 2605, 3775, 469, 1031, 5406, 3431, 3845, 3623, 762, 1087, 1747, 5711, 4822, 4258, 6415, 6119, 2452, 1256, 5522, 2825, 2022, 4425, 2546, 3001, 3687, 1589, 3591, 6519, 2143, 265, 2182, 2494, 4131, 1524, 5235, 5438, 4303, 2103, 5425, 2670, 5208, 1297, 5448, 5472, 2308, 1712, 2344, 1709, 393, 5872, 2369, 4607, 1647, 6538, 1778, 3789, 4667, 2287, 6535, 4373, 1095, 4137, 3695, 1585, 1699, 5927, 2345, 6163, 2204, 6521, 508, 555, 679, 5196, 2332, 5318, 3803, 440, 3715, 269, 675, 2727, 3671, 3446, 3638, 3325, 5079, 1263, 6012, 3939, 3796, 16, 4081, 969, 2386, 6346, 521, 4696, 369, 6181, 671, 1941, 4896, 2731, 5609, 786, 3953, 3517, 2737, 4322, 1111, 2756, 2367, 3057, 1669, 5951, 2374, 1547, 2856, 5051, 4768, 1730, 1295, 4459, 4156, 1912, 5567, 1820, 4915, 1742, 5036, 1106, 2305, 5778, 4527, 2268, 4660, 1780, 315, 108, 624, 4732, 2447, 1926, 1928, 2310, 2184, 2766, 6297, 5030, 4978, 1052, 3376, 2921, 4210, 4133, 3862, 3016, 6029, 3026, 3088, 4299, 5549, 5553, 688, 532, 1608, 4774, 5107, 357, 2444, 3227, 114, 5346, 3713, 216, 838, 643, 3706, 6303, 4935, 3188, 1931, 768, 2610, 1492, 3271, 2395, 1698, 5043, 535, 1399, 5026, 3079, 1527, 4343, 4461, 3656, 5060, 2076, 3980, 5764, 3752, 2716, 3950, 3405, 5518, 99, 2227, 789, 4573, 153, 3693, 704, 6185, 4376, 2878, 1325, 6101, 176, 2373, 3992, 1629, 5484, 2450, 2233, 2137, 6388, 3996, 1990, 3565, 3004, 2021, 2838, 3220, 1179, 5706, 6445, 5881, 3396, 1660, 699, 888, 1366, 5149, 5721, 4254, 841, 921, 460, 3474, 3673, 2919, 6411, 4112, 1488, 2189, 6464, 2156, 868, 6383, 1323, 3761, 5031, 3919, 890, 3125, 2027, 1377, 5179, 101, 2237, 2562, 4199, 2435, 309, 1329, 2042, 4058, 519, 4892, 5896, 149, 2597, 5017, 1332, 2761, 5129, 3742, 283, 1078, 5347, 6191, 3090, 1694, 3971, 1450, 284, 1044, 955, 620, 1796, 2535, 2509, 3581, 4027, 2311, 1962, 1484, 4967, 3063, 6426, 2751, 3577, 5780, 4661, 872, 1007, 5455, 705, 3912, 4107, 4136, 6183, 5032, 2317, 2512, 5613, 6341, 2598, 6460, 5556, 1892, 3497, 64, 1091, 3528, 5073, 965, 1810, 4130, 5118, 1861, 6252, 2713, 5317, 3653, 3092, 4941, 1569, 2965, 4861, 1905, 387, 5897, 5397, 511, 3676, 474, 1046, 53, 2364, 4874, 272, 4308, 5767, 404, 585, 4127, 3694, 4816, 1045, 4851, 3698, 1549, 3368, 5468, 1773, 468, 3051, 3000, 3307, 4122, 3808, 4484, 598, 5370, 77, 2617, 5342, 5385, 6121, 5158, 1651, 4687, 1752, 2015, 2520, 6325, 3323, 4817, 3461, 3168, 1622, 5913, 39, 5694, 2654, 1076, 2309, 2577, 4656, 2384, 3036, 3645, 1108, 1429, 3358, 4389, 2524, 2087, 6047, 615, 2567, 851, 695, 2416, 5059, 3915, 5626, 1758, 953, 4404, 500, 3973, 1610, 4773, 5356, 3892, 1462, 5509, 484, 1207, 3750, 236, 3385, 4395, 891, 5185, 6007, 4532, 2153, 3984, 3575, 6522, 3272, 2230, 6127, 111, 5525, 4142, 5806, 4391, 4454, 256, 154, 4849, 3380, 1631, 4616, 464, 6356, 6327, 3738, 5564, 5180, 5403, 2090, 5568, 2398, 5785, 4883, 222, 4775, 6419, 5261, 6016, 18, 5627, 4230, 22, 2159, 6461, 685, 2432, 6199, 6113, 3269, 4158, 2937, 1602, 2167, 5473, 4351, 3681, 2421, 1365, 2352, 5929, 6204, 2528, 4226, 5238, 5019, 2323, 2578, 2503, 4625, 4049, 70, 2728, 4284, 847, 299, 3257, 3646, 3534, 2552, 2253, 1903, 3487, 2904, 5997, 1436, 345, 5863, 5783, 5799, 5885, 1154, 6198, 2330, 3659, 5720, 3252, 2898, 2037, 1915, 447, 3564, 2174, 1379, 1824, 4257, 3383, 4207, 5625, 796, 1692, 3066, 4188, 1184, 3484, 3664, 5803, 3649, 1678, 1996, 1948, 2545, 6034, 3488, 3705, 5719, 5563, 1851, 1331, 5224, 2242, 1828, 5536, 12, 6374, 1661, 4846, 3432, 1082, 134, 2306, 1754, 4375, 2995, 3607, 5223, 3263, 2862, 5726, 1458, 4891, 3369, 2616, 1933, 3108, 6367, 4692, 3746, 1577, 6533, 775, 518, 138, 5300, 97, 2885, 2190, 858, 3903, 1369, 4852, 4885, 4666, 6105, 3539, 2979, 1517, 35, 15, 3572, 4174, 990, 914, 1783, 100, 6339, 1812, 1535, 3330, 6350, 3647, 2195, 1025, 1545, 540, 2701, 1750, 716, 1401, 3179, 2247, 2648, 1565, 3374, 45, 4811, 3819, 717, 3684, 2074, 6207, 5157, 4054, 927, 5101, 6200, 2231, 6534, 2819, 184, 4708, 2997, 2357, 672, 1515, 1511, 3820, 3019, 5892, 4331, 644, 1282, 6384, 621, 4743, 1949, 6300, 3898, 5443, 4647, 6087, 2093, 3059, 1785, 1364, 3848, 3926, 2882, 5063, 4281, 3268, 5730, 4225, 1090, 1035, 5377, 1821, 4869, 2262, 6024, 2897, 3702, 295, 4499, 2641, 932, 2544, 3147, 5077, 3801, 5960, 5622, 2690, 5459, 1757, 1411, 1991, 4213, 637, 5206, 5102, 2907, 3872, 4821, 5146, 527, 3336, 627, 1774, 3242, 6259, 4897, 5233, 4129, 5979, 5606, 6385, 589, 1645, 5058, 5753, 2264, 5717, 2987, 3835, 4164, 4830, 2396, 1333, 1261, 957, 1168, 5215, 1913, 1935, 3414, 6169, 4872, 3096, 5141, 1689, 5045, 4026, 595, 2365, 991, 1421, 3104, 1293, 2170, 2834, 6333, 503, 3498, 5276, 2390, 261, 3907, 6363, 524, 2141, 6178, 6255, 4443, 3483, 1792, 4111, 1254, 2749, 1321, 2146, 877, 356, 715, 5020, 2611, 200, 6040, 455, 3993, 3883, 645, 5933, 3888, 5431, 2908, 2428, 1734, 1403, 6301, 1005, 2501, 3164, 920, 3094, 3186, 2606, 2414, 1648, 5940, 936, 6377, 198, 3412, 6375, 5770, 4410, 2410, 5777, 1894, 941, 2864, 1303, 846, 1188, 1362, 21, 5523, 3340, 4356, 3604, 2631, 2055, 1834, 994, 5127, 2738, 530, 1961, 5454, 1459, 4371, 5637, 1408, 4039, 4547, 3345, 3067, 5304, 3529, 2144, 5619, 3366, 3443, 14, 5647, 3157, 6293, 673, 528, 1954, 359, 566, 670, 3106, 4877, 4537, 1673, 3006, 3049, 5018, 4614, 5301, 4335, 4863, 5035, 1607, 302, 773, 2672, 2905, 5534, 6532, 3130, 6059, 2961, 3204, 1220, 3817, 2515, 529, 2645, 6537, 156, 442, 5693, 343, 2659, 3071, 4796, 6168, 3218, 6329, 2747, 51, 3969, 2647, 4124, 4370, 1984, 3709, 2671, 2290, 925, 946, 2338, 2649, 4280, 1854, 2877, 1507, 1084, 4585, 2595, 6033, 4976, 3852, 4964, 1762, 3700, 632, 3943, 3639, 603, 2472, 3707, 4123, 5432, 646, 2473, 75, 130, 1298, 864, 1435, 2665, 1176, 4681, 199, 3606, 4629, 1495, 5802, 1525, 3470, 2912, 3154, 855, 1102, 6205, 67, 2011, 769, 3113, 3982, 2561, 2556, 1878, 5434, 4024, 2689, 4949, 4637, 5977, 4363, 5074, 4200, 2793, 4170, 3156, 3419, 427, 2811, 5097, 6490, 776, 2272, 4831, 2469, 4464, 6098, 127, 5474, 2406, 2010, 2500, 4856, 5353, 3347, 4403, 3975, 6340, 5644, 3979, 6483, 3480, 6455, 3181, 3182, 6272, 4057, 6465, 1208, 5511, 2867, 3827, 1134, 3367, 4312, 4832, 1337, 3278, 2110, 6020, 206, 5312, 1445, 949, 4540, 4691, 1873, 2903, 3739, 1683, 6543, 2032, 2847, 4323, 223, 5485, 5926, 5150, 6530, 3697, 3128, 4295, 1372, 5282, 3792, 5970, 5794, 583, 6139, 3583, 3262, 866, 4402, 778, 693, 5092, 2372, 5866, 3654, 5848, 3210, 2251, 3471, 1737, 2879, 5451, 3415, 3777, 3017, 6180, 3286, 3769, 6025, 59, 3319, 2267, 3728, 6414, 6290, 4224, 5405, 4360, 3807, 5099, 3159, 995, 1579, 5350, 4446, 4334, 5815, 767, 3770, 4766, 1319, 5207, 2112, 1349, 142, 629, 3506, 4276, 1029, 1264, 2100, 626, 6359, 4536, 5894, 6515, 831, 3923, 3303, 3028, 3832, 2576, 3622, 4858, 26, 6099, 4217, 2883, 1190, 3911, 3122, 2289, 1105, 972, 3038, 4620, 1164, 5226, 5046, 1566, 2244, 1093, 2548, 5723, 1505, 748, 543, 3712, 2798, 2816, 1914, 5880, 3152, 1276, 4644, 2767, 3643, 3249, 2510, 2846, 3424, 6446, 1875, 2873, 4525, 1865, 6524, 6021, 5435, 2651, 2073, 1702, 1995, 2381, 596, 6027, 4453, 5387, 4635, 2281, 553, 6091, 1691, 1292, 1539, 5287, 3258, 3214, 6056, 1897, 3764, 2091, 2840, 4236, 5404, 6545, 834, 10, 2581, 5890, 6518, 1620, 3102, 5531, 6009, 926, 1086, 3290, 2095, 938, 3245, 5447, 3371, 212, 3650, 4546, 2359, 1706, 863, 1767, 6106, 2682, 5618, 5194, 2353, 5507, 4552, 1482, 361, 1376, 2370, 617, 443, 6258, 5315, 1339, 148, 6541, 5401, 803, 3346, 2859, 1050, 4617, 1616, 5506, 5465, 2974, 2830, 6102, 4293, 2983, 3624, 3669, 5548, 6222, 1676, 181, 6041, 2334, 257, 461, 5341, 1538, 259, 3247, 132, 224, 2490, 69, 871, 2635, 6019, 3313, 5695, 963, 5486, 3441, 1570, 1908, 3149, 5854, 6254, 5704, 5969, 777, 1925, 2271, 544, 5271, 5557, 4646, 105, 1427, 4582, 5354, 4990, 4777, 3401, 3187, 2183, 5371, 4117, 4238, 2855, 4362, 689, 3076, 3472, 5463, 381, 2604, 5516, 4163, 3997, 1939, 457, 3166, 5688, 452, 34, 4827, 1788, 2086, 1943, 690, 3103, 6292, 6249, 4566, 5853, 5671, 1163, 5105, 2061, 3359, 992, 3287, 6371, 5639, 4726, 5562, 548, 2797, 774, 2976, 5924, 472, 1410, 6209, 226, 4161, 6549, 3557, 3536, 352, 3093, 4140, 2572, 5268, 5676, 6337, 1197, 397, 4463, 193, 1431, 5476, 1833, 383, 2491, 5887, 2194, 3995, 1510, 3932, 5014, 1832, 4316, 1766, 2440, 5016, 2495, 1777, 4195, 5285, 1748, 4165, 6332, 2812, 5763, 1627, 4287, 710, 3585, 2714, 541, 4253, 1423, 3503, 2342, 1195, 4603, 3397, 3783, 754, 6291, 4574, 4932, 2910, 5994, 3413, 2990, 4580, 886, 3139, 374, 6257, 5621, 388, 3095, 351, 4359, 1973, 5324, 4638, 4797, 1534, 942, 1444, 3234, 6112, 2754, 2265, 4414, 1322, 5311, 759, 859, 4300, 4173, 4940, 4040, 6210, 3885, 2790, 2734, 4763, 3776, 1711, 3544, 1862, 4969, 228, 4583, 1927, 2126, 3233, 5214, 1383, 4232, 2805, 73, 6088, 5096, 3009, 4203, 2945, 4740, 3886, 2918, 2179, 581, 1464, 4216, 1499, 2836, 4372, 3373, 3221, 3217, 2593, 5943, 3438, 3035, 4290, 3841, 339, 1192, 5027, 844, 5968, 5023, 3435, 3409, 2536, 2920, 2350, 136, 3994, 2423, 2031, 118, 1906, 4862, 5538, 2082, 4866, 1443, 6268, 122, 3815, 2769, 534, 2991, 6194, 3555, 2676, 708, 4618, 2791, 552, 3138, 6123, 2808, 3535, 5202, 4878, 4982, 5957, 865, 1605, 30, 4651, 3143, 3459, 2468, 125, 6213, 3209, 6175, 6266, 1536, 4568, 2282, 2785, 5296, 5891, 746, 1290, 6441, 1155, 6032, 1187, 514, 5923, 5257, 71, 3344, 2817, 4894, 1251, 349, 6287, 4505, 5357, 3976, 3335, 3636, 2036, 1318, 1749, 6431, 6366, 4135, 2107, 4325, 225, 6083, 4055, 3686, 4259, 5374, 780, 2823, 692, 4621, 4788, 4032, 6436, 5310, 2277, 395, 1794, 5227, 1977, 5343, 4556, 41, 4015, 3264, 1185, 31, 5869, 4873, 3158, 3947, 3562, 2691, 3788, 4989, 3626, 1587, 3317, 2034, 563, 106, 55, 1835, 5833, 3571, 4407, 5048, 804, 2322, 4033, 3399, 2385, 755, 3542, 3990, 4545, 5062, 4205, 4695, 3743, 4694, 3658, 4085, 3810, 372, 1564, 3196, 2857, 1240, 1509, 546, 5487, 3758, 68, 1275, 4490, 4907, 2200, 4192, 441, 4470, 4473, 3081, 4857, 103, 2981, 6420, 4251, 6281, 4008, 910, 523, 1856, 2777, 2019, 2387, 1107, 556, 2757, 4397, 3304, 3523, 4557, 6542, 2729, 4809, 4418, 4201, 3538, 3014, 5565, 6458, 805, 4465, 6265, 4401, 5789, 5427, 2102, 355, 4994, 5628, 4725, 133, 5478, 6330, 1216, 4498, 5566, 1178, 5865, 1953, 5103, 3140, 422, 3082, 2199, 6331, 1159, 4036, 2613, 2403, 2399, 4875, 3753, 5792, 5319, 3322, 274, 1498, 3260, 17, 1156, 4833, 5363, 1328, 5852, 4662, 2114, 4975, 1016, 1265, 4289, 1012, 3180, 1955, 300, 3618, 6110, 3500, 1038, 998, 1540, 504, 1244, 6382, 4202, 2942, 3160, 3779, 4699, 2657, 2431, 1981, 1932, 2775, 5690, 5938, 5670, 3925, 435, 3666, 1586, 3597, 4458, 2854, 2695, 2397, 3131, 5274, 2118, 2236, 2192, 4214, 3448, 4790, 6295, 4733, 1384, 3816, 2866, 5555, 4478, 4685, 2009, 1125, 66, 4070, 4338, 608, 5204, 4973, 4602, 3318, 5702, 3531, 4724, 6203, 4911, 4409, 1814, 4887, 1026, 43, 843, 3496, 3580, 72, 5369, 4977, 2783, 4946, 6237, 5636, 3301, 4529, 549, 3594, 1420, 4610, 4310, 3211, 1010, 2712, 6167, 179, 3246, 4138, 4483, 2038, 5532, 4549, 2884, 2666, 2860, 2698, 5879, 5205, 6037, 2531, 1194, 1907, 3867, 3212, 797, 3711, 2763, 885, 220, 5514, 4609, 2077, 5117, 3148, 3895, 1018, 842, 4306, 4172, 2765, 3202, 1181, 5138, 3701, 3952, 4962, 3617, 1267, 6508, 233, 1816, 426, 197, 5110, 4819, 3987, 2818, 3514, 1167, 1571, 2085, 604, 4718, 1417, 2809, 449, 6085, 5640, 3961, 227, 5850, 5710, 5076, 346, 95, 175, 476, 2014, 1456, 5807, 2661, 3489, 5757, 4272, 445, 1009, 4611, 1704, 4884, 4243, 4714, 2584, 5546, 605, 2656, 3243, 1211, 752, 5042, 5937, 4948, 1550, 2069, 1594, 371, 3372, 5973, 4006, 5527, 3660, 1382, 3453, 3844, 839, 6469, 5539, 2741, 952, 2586, 2442, 5104, 5561, 1342, 2563, 4953, 2407, 3460, 3058, 173, 2644, 50, 1779, 4488, 6496, 5189, 771, 2016, 6128, 3047, 845, 2424, 792, 1665, 1621, 4175, 6157, 5633, 3332, 2012, 5733, 1433, 5269, 6050, 862, 6365, 2664, 3408, 3117, 2339, 4048, 2969, 3327, 5259, 6212, 155, 4141, 4106, 4577, 3619, 3530, 1198, 3930, 4050, 807, 2934, 5130, 967, 5193, 2889, 4604, 1006, 4187, 5112, 3814, 6507, 1625, 5147, 4150, 4553, 2888, 1101, 6451, 2511, 2266, 3205, 1764, 3596, 3587, 5715, 2553, 631, 5050, 1174, 3030, 1628, 6277, 1247, 2711, 770, 3191, 6044, 5069, 6406, 4495, 1595, 6288, 1674, 1085, 2537, 1452, 6284, 37, 3966, 4394, 5696, 4738, 5340, 4286, 5505, 2845, 924, 1870, 4451, 1209, 1992, 187, 5037, 3416, 2755, 4992, 465, 869, 2454, 1196, 4658, 2089, 3433, 3678, 5614, 1847, 5796, 1317, 5151, 4392, 3356, 2652, 5093, 3003, 3812, 5143, 5595, 3141, 3136, 3718, 3011, 214, 3375, 5542, 6122, 5934, 1936, 1238, 757, 3891, 1245, 2113, 380, 547, 1708, 2026, 937, 2762, 5995, 116, 6038, 1073, 4501, 522, 3215, 602, 2922, 4313, 1859, 5053, 4256, 850, 3765, 4457, 6043, 915, 3253, 6193, 3430, 4467, 5265, 751, 2513, 4980, 2122, 3759, 1714, 5449, 3176, 2168, 3579, 2909, 779, 3519, 2331, 1987, 4482, 6342, 3454, 2946, 2187, 63, 3127, 268, 3986, 4384, 1162, 945, 2479, 930, 4746, 5398, 5955, 4476, 1528, 2405, 3910, 713, 1404, 3648, 4826, 1619, 2958, 4472, 4663, 1266, 590, 2228, 622, 6052, 6274, 1581, 5470, 3704, 5620, 3556, 477, 5610, 3868, 636, 293, 3679, 2633, 6170, 4444, 28, 4393, 3875, 1693, 554, 5705, 6055, 375, 6036, 4139, 3655, 2221, 3426, 2708, 2588, 4358, 3559, 4786, 3085, 4144, 5975, 2333, 5264, 5642, 4945, 6328, 2650, 1269, 3574, 5183, 2205, 5878, 4645, 2066, 2876, 516, 6491, 4538, 725, 3508, 5191, 849, 1893, 2774, 2614, 1705, 5587, 1950, 4810, 4795, 5946, 3842, 2735, 6345, 2188, 4317, 3905, 4706, 4452, 785, 950, 3504, 4222, 3329, 3013, 4783, 1682, 635, 4215, 6118, 848, 1501, 6140, 301, 3089, 2426, 525, 5241, 1945, 1437, 2575, 918, 944, 5305, 539, 4716, 4485, 6253, 5779, 3305, 2203, 4415, 4096, 956, 229, 2441, 5123, 44, 3850, 2522, 5072, 5814, 6117, 3610, 288, 6286, 4750, 5114, 4770, 4455, 793, 3039, 4541, 4684, 5629, 6011, 1998, 3592, 3956, 2318, 5714, 3667, 3625, 13, 2850, 2445, 2116, 316, 1947, 5916, 210, 6276, 795, 3548, 3087, 3576, 1124, 5560, 1485, 4475, 4291, 5844, 2191, 5651, 311, 2470, 5805, 5068, 586, 5935, 2065, 1000, 1846, 827, 3977, 195, 4167, 6172, 2526, 1022, 286, 3199, 2858, 1567, 6387, 4565, 5426, 1775, 6442, 889, 5266, 2062, 5320, 1272, 1127, 3146, 5871, 4794, 599, 4649, 5928, 2430, 1736, 1626, 928, 2393, 1438, 6546, 4956, 2252, 3505, 3717, 4576, 3741, 3561, 5457, 1613, 3642, 4078, 4913, 4047, 2348, 4700, 4010, 5161, 4062, 2004, 1072, 5772, 1916, 2943, 1860, 1940, 1113, 836, 2972, 294, 4655, 3192, 947, 4855, 633, 5703, 4584, 3195, 1170, 2794, 5286, 2607, 2890, 5125, 1081, 6116, 3078, 4586, 4735, 1002, 3235, 840, 4330, 1051, 5649, 3944, 2914, 5033, 6048, 1975, 6058, 237, 123, 4792, 1983, 3184, 4670, 4697, 143, 5732, 1138, 273, 5458, 4145, 1956, 2408, 2933, 3806, 48, 1489, 3378, 3145, 684, 6264, 4787, 1291, 2725, 2476, 5965, 5798, 2067, 2861, 934, 2547, 5348, 3015, 5115, 1733, 347, 6060, 2615, 4930, 1611, 4436, 6103, 1451, 4943, 5672, 5877, 3922, 1529, 4886, 1447, 3364, 3101, 5011, 4523, 1455, 4438, 860, 876, 4206, 853, 1418, 4073, 1130, 3422, 2801, 6014, 5437, 1872, 5939, 6136, 1133, 5543, 6351, 5559, 835, 5378, 3306, 6517, 4314, 2316, 2411, 3703, 2835, 1842, 3632, 267, 6407, 4355, 4275, 276, 3725, 2814, 3567, 1503, 4730, 2806, 3878, 65, 4406, 1857, 4938, 5793, 2152, 4785, 4247, 2018, 5132, 3615, 3663, 209, 6138, 3175, 2599, 314, 2764, 607, 6263, 1193, 5184, 62, 2226, 5953, 5964, 2157, 4447, 1089, 3595, 5277, 2826, 5133, 2154, 2136, 6250, 2822, 120, 5701, 3171, 3871, 5355, 4294, 2779, 6054, 3464, 686, 5381, 4744, 665, 700, 2938, 5592, 3486, 3640, 4854, 3100, 623, 4543, 2208, 1573, 3022, 3864, 6443, 231, 1463, 634, 1531, 2007, 4847, 4292, 3931, 4991, 1768, 5874, 6353, 3672, 6413, 1422, 4876, 3077, 794, 5013, 1169, 1172, 4211, 681, 3737, 3311, 1047, 2218, 1917, 3012, 5508, 2964, 1771, 951, 4966, 1576, 3940, 3813, 502, 6184, 6285, 6192, 2949, 1696, 4502, 5197, 6022, 5530, 2566, 4274, 2609, 4865, 5128, 3442, 5260, 709, 4108, 913, 1094, 5049, 3338, 4029, 6500, 6039, 1755, 3478, 1118, 5453, 5229, 4368, 5930, 2719, 3621, 707, 292, 2256, 2620, 2302, 4151, 1597, 3545, 2959, 3749, 1789, 4366, 6349, 5893, 1657, 1252, 2434, 2172, 6547, 2135, 6141, 462, 2111, 207, 1831, 1104, 2453, 4971, 6134, 3316, 336, 1756, 3150, 2151, 3795, 4143, 6294, 1274, 1735, 4944, 2071, 3547, 4105, 4405, 3521, 3733, 6429, 4772, 5230, 2776, 6215, 2040, 4554, 3665, 2896, 3590, 4814, 1960, 4742, 1944, 4686, 2166, 3018, 5707, 3151, 3495, 6344, 6100, 1054, 1951, 2186, 2558, 4710, 3086, 4477, 364, 4889, 4352, 4246, 4942, 1922, 5113, 453, 1356, 5729, 194, 2304, 6468, 2637, 5131, 3023, 3787, 6004, 2696, 1924, 5299, 5144, 1753, 437, 4329, 4619, 1416, 3056, 1425, 6218, 1255, 2499, 4194, 6093, 3631, 1001, 1596, 3352, 3541, 1506, 1763, 3282, 3355, 3289, 5976, 4530, 5293, 4001, 6410, 5480, 5015, 1744, 431, 3178, 6195, 5791, 2828, 2238, 4155, 1848, 3515, 3207, 4934, 3428, 1286, 3786, 208, 1726, 749, 1206, 5544, 4634, 3232, 2493, 5917, 4496, 4650, 2481, 6049, 3518, 2527, 3020, 1367, 1355, 3726, 4542, 2171, 3507, 1818, 3391, 2502, 110, 4548, 1373, 970, 833, 4555, 2270, 3042, 3942, 764, 2362, 3537, 2075, 1412, 2250, 2280, 5395, 4550, 3429, 4420, 6042, 20, 4669, 1827, 1986, 463, 4567, 5889, 4445, 1592, 2029, 4390, 2291, 6336, 3570, 2246, 3354, 4630, 4633, 5386, 3226, 5948, 2249, 2288, 3965, 5466, 4598, 266, 5442, 4908, 3831, 2437, 2363, 929, 3849, 3465, 6378, 2530, 6267, 5029, 3908, 4241, 1042, 6097, 6510, 5593, 1017, 2422, 151, 2455, 2802, 4125, 4608, 724, 290, 2149, 3479, 1116, 2307, 6348, 6432, 5240, 3909, 3719, 1344, 368, 3074, 3029, 4648, 3312, 1131, 4520, 6125, 2475, 1250, 4539, 1259, 3766, 837, 4818, 4471, 5373, 4491, 6528, 3219, 3799, 1419, 304, 3584, 4424, 1490, 396, 4412, 3135, 6165, 470, 188, 471, 2391, 3874, 1262, 4066, 1053, 4613, 4191, 4239, 3651, 782, 5941, 3794, 3393, 3948, 3501, 5641, 4159, 588, 4382, 1055, 2477, 4963, 3402, 4780, 6076, 1598, 1243, 6096, 3781, 2827, 432, 4067, 182, 2772, 1902, 4126, 1175, 3097, 4128, 5399, 102, 3826, 1021, 6450, 5111, 4339, 3244, 1160, 1324, 3070, 4270, 4261, 6132, 3169, 5728, 5551, 763, 3041, 1578, 997, 3652, 6057, 6133, 4007, 2163, 1623, 232, 2977, 4936, 2088, 3395, 2603, 1668, 4954, 5295, 4177, 1808, 4912, 2096, 5098, 2653, 2978, 3334, 1836, 3782, 4789, 6368, 4623, 3203, 4462, 2692, 2693, 6190, 4460, 3467, 2832, 3978, 2059, 3476, 2351, 1354, 5756, 25, 2418, 2936, 152, 2658, 2382, 2299, 1442, 2197, 4824, 2202, 3929, 19, 4450, 1030, 312, 2957, 5055, 1532, 4353, 3721, 5322, 2443, 5875, 11, 2732, 5203, 5228, 3751, 1402, 1837, 1019, 1997, 2486, 996, 6094, 564, 2923, 6107, 909, 2608, 593, 119, 2466, 4387, 2916, 1688, 2429, 4104, 172, 5862, 4727, 1649, 2630, 3025, 2315, 3729, 5061, 1015, 4972, 3292, 2591, 3804, 3456, 4374, 2685, 592, 2248, 3237, 5956, 3762, 691, 4337, 5766, 5590, 2521, 2780, 884, 3934, 1284, 4168, 3857, 3906, 6447, 1523, 647, 1738, 3110, 680, 4988, 5513, 3657, 1979, 2224, 2992, 5768, 5698, 2851, 4965, 5216, 2900, 5290, 360, 4442, 4326, 4771, 4734, 3641, 3144, 2158, 23, 60, 2742, 2573, 747, 444, 4487, 772, 1346, 513, 697, 2848, 6289, 4996, 4288, 1368, 3445, 5845, 1363, 973, 2824, 1580, 5731, 6214, 2485, 3951, 3118, 4688, 4741, 2570, 5813, 4186, 2750, 5402, 6260, 4166, 2467, 5804, 5718, 3525, 3829, 1020, 4808, 728, 185, 1358, 1491, 6497, 2517, 2313, 3285, 2875, 526, 1710, 2792, 2057, 2694, 5209, 4367, 6453, 726, 342, 282, 2601, 2072, 6171, 3586, 3111, 3558, 5884, 1988, 1496, 6280, 1786, 1876, 4729, 2478, 6523, 5836, 2687, 5589, 4044, 5843, 3284, 4782, 515, 3955, 3767, 3008, 5302, 4060, 1813, 4632, 5540, 2125, 5669, 3105, 3174, 2771, 190, 3462, 354, 3928, 4068, 4364, 3240, 6211, 3162, 6177, 2843, 2145, 4642, 4153, 6430, 2274, 5155, 5177, 91, 4551, 1258, 6306, 430, 3241, 3838, 2718, 2892, 4489, 4041, 2596, 5996, 4951, 128, 1612, 3754, 1707, 3394, 4237, 5234, 935, 4025, 1901, 856, 597, 2243, 473, 1338, 3123, 5379, 3825, 219, 144, 4563, 1522, 2639, 628, 2279, 612, 5942, 6008, 3062, 2519, 5547, 1326, 2436, 192, 2241, 3002, 5467, 1654, 3601, 1434, 2147, 5974, 2165, 5915, 531, 3439, 5699, 4227, 1248, 3407, 712, 5858, 5857, 3945, 4319, 2758, 5400, 3734, 98, 3843, 4702, 4587, 2508, 150, 3326, 5303, 6513, 6187, 2389, 6452, 2346, 2283, 4493, 1728, 2730, 4059, 832, 6279, 5947, 698, 4309, 1407, 6434, 5510, 3821, 196, 2994, 6520, 2675, 4636, 4690, 4606, 32, 4088, 5452, 2030, 1242, 49, 4074, 2663, 4340, 264, 3921, 5776, 2261, 4803, 6495, 385, 1593, 1772, 2094, 1004, 4304, 4361, 2532, 5071, 4570, 3793, 4204, 1910, 2360, 6548, 29, 2589, 6323, 4612, 4250, 4764, 56, 5288, 5368, 27, 6006, 2356, 1493, 1239, 1301, 5835, 279, 4196, 2807, 1336, 3897, 3421, 5700, 5945, 6269, 3299, 6488, 2448, 3968, 1351, 6499, 456, 2565, 6516, 1454, 5428, 4016, 1177, 2341, 993, 340, 3007, 5070, 3834, 854, 3630, 4564, 3839, 3388, 2868, 5242, 3628, 6179, 3043, 4931, 6486, 5263, 3447, 5832, 2917, 2438, 2041, 1618, 6221, 5689, 6261, 5691, 4034, 1822, 4301, 2568, 2371, 3602, 1918, 1136, 3941, 4791, 6381, 3720, 3084, 4378, 2492, 47, 421, 6089, 378, 1446, 6304, 4631, 3790, 3960, 2229, 1864, 6219, 1855, 2971, 4269, 3270, 1743, 3027, 5028, 3847, 3599, 1590, 4092, 5697, 5708, 3482, 3818, 4712, 2998, 3298, 3989, 4500, 4434, 2020, 1563, 2629, 857, 4012, 4703, 2726, 423, 4278, 1335, 2655, 5535, 191, 5674, 4354, 1830, 6409, 3784, 1380, 6527, 696, 5537, 4089, 6271, 2104, 1080, 6358, 180, 3206, 1213, 3552, 291, 2533, 5752, 6343, 3053, 3991, 2924, 4336, 5851, 1542, 3616, 3661, 3887, 451, 3379, 1695, 2582, 4079, 6511, 5394, 1776, 3250, 4600, 6186, 6505, 4318, 2223, 1157, 1426, 107, 3075, 1663, 4829, 2083, 3389, 1236, 2516, 5479, 1465, 76, 5243, 3423, 1713, 5066, 565, 2409, 940, 5034, 2439, 766, 5362, 3381, 600, 4474, 2874, 5065, 1348, 5220, 2404, 235, 3361, 4341, 912, 1011, 52, 1701, 3566, 3550, 2759, 3410, 2906, 4544, 1083, 57, 5638, 5971, 5025, 5095, 6380, 2355, 260, 5895, 6197, 1205, 271, 2425, 2748, 3582, 3293, 92, 2039, 348, 5100, 5873, 1500, 5967, 1204, 254, 5178, 5786, 3736, 6379, 1838, 418, 2314, 2752, 1514, 4985, 5383, 5297, 2642, 350, 1858, 3436, 5134, 4255, 5646, 1911, 2549, 613, 5868, 3055, 6188, 5323, 1741, 2115, 6248, 3540, 1032, 6302, 6046, 5139, 4731, 2354, 1890, 2736, 2358, 1203, 3778, 1371, 3917, 2939, 557, 2935, 1241, 5021, 875, 2662, 2169, 6404, 4902, 682, 5462, 3080, 2634, 3457, 3830, 275, 1929, 1027, 723, 5187, 1268, 2201, 2993, 5012, 5275, 2985, 6130, 4599, 2108, 4578, 4038, 550, 510, 4046, 3455, 2950, 791, 1568, 4929, 4189, 3865, 5024, 1320, 788, 2263, 4208, 1732, 4113, 1879, 922, 3194, 2148, 5528, 2821, 4995, 2235, 1544, 4328, 6439, 4701, 4004, 5724, 1871, 3398, 40, 2504, 5630, 104, 5972, 3314, 174, 382, 4209, 3255, 2773, 1615, 4118, 2715, 1512, 2968, 4134, 507, 2881, 6176, 3061, 1867, 3277, 1769, 4154, 5038, 2383, 5966, 4305, 5221, 1746, 5591, 3386, 1075, 4903, 1481, 2325, 4013, 113, 4396, 3276, 4728, 6262, 2710, 3083, 1036, 3823, 4302, 3473, 5376, 4440, 4804, 2489, 4779, 204, 2255, 5391, 137, 5605, 1343, 5855, 3918, 3730, 344, 1809, 1098, 308, 3216, 3363, 3876, 1751, 4377, 3502, 2618, 3798, 3390, 2123, 391, 5471, 5010, 5358, 5517, 1191, 6010, 3644, 4023, 3893, 2070, 6005, 5044, 5109, 1667, 3696, 1646, 2887, 1212, 3710, 687, 3068, 287, 1077, 5064, 5545, 6504, 5963, 1765, 3588, 4171, 3331, 4439, 3846, 5952, 1904, 4504, 3884, 2222, 4271, 6126, 4178, 2940, 4014, 3239, 1784, 4895, 6484, 5349, 2366, 1014, 4626, 362, 4890, 1530, 5422, 1186, 6182, 4064, 5774, 3382, 1942, 3132, 2947, 5175, 3308, 6299, 2760, 2326, 4506, 3193, 2101, 4456, 1740, 3509, 3755, 5445, 2721, 1103, 3859, 6427, 2795, 616, 433, 3183, 6270, 2778, 3463, 1675, 281, 6245, 4083, 1449, 131, 2058, 703, 1253, 4503, 4562, 5727, 4077, 205, 1817, 3291, 964, 4737, 2349, 177, 5631, 2941, 6457, 4147, 3492, 5481, 6243, 6084, 5152, 4252, 5914, 2180, 5390, 1385, 1414, 5961, 3533, 6435, 4190, 1575, 4815, 1930, 1874, 5210, 1486, 1013, 2931, 5837, 3112, 4812, 1934, 5460, 4003, 5237, 6509, 1122, 4357, 4572, 3516, 674, 6489, 3924, 5314, 5384, 4767, 4249, 5153, 2177, 2150, 2986, 211, 1494, 5232, 4298, 4955, 3699, 446, 2394, 5393, 2796, 5597, 4248, 1296, 1285, 218, 1863, 4002, 1278, 4031, 2525, 5883, 2803, 3256, 3811, 3605, 2054, 4379, 3343, 5800, 202, 6539, 3315, 3010, 2269, 2193, 1110, 666, 2740, 1049, 2815, 3310, 4223, 3972, 1257, 3185, 1923, 3949, 4169, 6357, 1609, 4997, 6376, 630, 6129, 6131, 4408, 6335, 1533, 4028, 5797, 3091, 3569, 2551, 178, 1413, 1166, 5436, 6223, 6423, 2602, 4979, 6424, 5464, 6433, 2557, 3981]\n",
      "test ids:  [0, 1, 2, 3, 4, 5, 6, 7, 8, 78, 79, 80, 81, 82, 83, 84, 85, 86, 87, 88, 89, 90, 158, 159, 160, 161, 162, 163, 164, 165, 166, 167, 168, 169, 170, 171, 238, 239, 240, 241, 242, 243, 244, 245, 246, 247, 248, 249, 250, 251, 252, 253, 318, 319, 320, 321, 322, 324, 325, 326, 327, 328, 329, 330, 331, 332, 333, 334, 335, 398, 399, 400, 401, 402, 405, 406, 407, 408, 409, 410, 411, 412, 413, 414, 415, 416, 417, 478, 479, 480, 481, 482, 486, 487, 488, 489, 490, 491, 492, 493, 494, 495, 496, 497, 498, 499, 558, 559, 560, 561, 562, 567, 568, 569, 570, 571, 572, 573, 574, 575, 576, 577, 578, 579, 580, 638, 639, 640, 641, 642, 648, 649, 650, 651, 652, 653, 654, 655, 656, 657, 658, 659, 660, 661, 662, 718, 719, 720, 721, 722, 729, 730, 731, 732, 733, 734, 735, 736, 737, 738, 739, 740, 741, 742, 743, 744, 798, 799, 800, 801, 802, 810, 811, 812, 813, 814, 815, 816, 817, 818, 819, 820, 821, 822, 823, 824, 825, 826, 878, 879, 880, 881, 882, 892, 893, 894, 895, 896, 897, 898, 899, 900, 901, 902, 903, 904, 905, 906, 907, 908, 958, 959, 960, 961, 962, 974, 975, 976, 977, 978, 979, 980, 981, 982, 983, 984, 985, 986, 987, 988, 989, 1039, 1040, 1041, 1057, 1058, 1059, 1060, 1061, 1062, 1063, 1064, 1065, 1066, 1067, 1068, 1069, 1070, 1071, 1119, 1120, 1121, 1139, 1140, 1141, 1142, 1143, 1144, 1145, 1146, 1147, 1148, 1149, 1150, 1151, 1152, 1153, 1199, 1200, 1201, 1221, 1222, 1223, 1224, 1225, 1226, 1227, 1228, 1229, 1230, 1231, 1232, 1233, 1234, 1235, 1279, 1280, 1281, 1304, 1305, 1306, 1307, 1308, 1309, 1310, 1311, 1312, 1313, 1314, 1315, 1316, 1359, 1360, 1361, 1386, 1387, 1388, 1389, 1390, 1391, 1392, 1393, 1394, 1395, 1396, 1397, 1398, 1439, 1440, 1441, 1469, 1470, 1471, 1472, 1473, 1474, 1475, 1476, 1477, 1478, 1479, 1480, 1519, 1520, 1521, 1551, 1552, 1553, 1554, 1555, 1556, 1557, 1558, 1559, 1560, 1561, 1562, 1599, 1600, 1601, 1633, 1634, 1635, 1636, 1637, 1638, 1639, 1640, 1641, 1642, 1643, 1644, 1679, 1680, 1681, 1716, 1717, 1718, 1719, 1720, 1721, 1722, 1723, 1724, 1725, 1759, 1760, 1761, 1798, 1799, 1800, 1801, 1802, 1803, 1804, 1805, 1806, 1807, 1839, 1840, 1841, 1880, 1881, 1882, 1883, 1884, 1885, 1886, 1887, 1888, 1889, 1919, 1920, 1921, 1963, 1964, 1965, 1966, 1967, 1968, 1969, 1970, 1971, 1999, 2000, 2001, 2045, 2046, 2047, 2048, 2049, 2050, 2051, 2052, 2053, 2079, 2080, 2081, 2127, 2128, 2129, 2130, 2131, 2132, 2133, 2134, 2160, 2210, 2211, 2212, 2213, 2214, 2215, 2216, 2240, 2292, 2293, 2294, 2295, 2296, 2297, 2298, 2320, 2375, 2376, 2377, 2378, 2379, 2380, 2400, 2457, 2458, 2459, 2460, 2461, 2462, 2480, 2539, 2540, 2541, 2542, 2543, 2560, 2622, 2623, 2624, 2625, 2640, 2704, 2705, 2706, 2707, 2720, 2786, 2787, 2788, 2789, 2800, 2869, 2870, 2871, 2880, 2951, 2952, 2960, 3033, 3034, 3040, 3116, 3120, 3198, 3200, 3280, 3360, 3362, 3440, 3444, 3520, 3526, 3527, 3600, 3608, 3609, 3680, 3689, 3690, 3691, 3760, 3771, 3772, 3773, 3774, 3840, 3853, 3854, 3855, 3856, 3920, 3935, 3936, 3937, 3938, 4000, 4017, 4018, 4019, 4020, 4021, 4080, 4098, 4099, 4100, 4101, 4102, 4103, 4160, 4180, 4181, 4182, 4183, 4184, 4185, 4240, 4262, 4263, 4264, 4265, 4266, 4267, 4268, 4320, 4344, 4345, 4346, 4347, 4348, 4349, 4350, 4400, 4426, 4427, 4428, 4429, 4430, 4431, 4432, 4433, 4479, 4480, 4481, 4507, 4508, 4509, 4510, 4511, 4512, 4513, 4514, 4515, 4559, 4560, 4561, 4589, 4590, 4591, 4592, 4593, 4594, 4595, 4596, 4597, 4639, 4640, 4641, 4671, 4672, 4673, 4674, 4675, 4676, 4677, 4678, 4679, 4680, 4719, 4720, 4721, 4753, 4754, 4755, 4756, 4757, 4758, 4759, 4760, 4761, 4762, 4799, 4800, 4801, 4835, 4836, 4837, 4838, 4839, 4840, 4841, 4842, 4843, 4844, 4879, 4880, 4881, 4916, 4917, 4918, 4919, 4920, 4921, 4922, 4923, 4924, 4925, 4926, 4927, 4959, 4960, 4961, 4998, 4999, 5000, 5001, 5002, 5003, 5004, 5005, 5006, 5007, 5008, 5009, 5039, 5040, 5041, 5080, 5081, 5082, 5083, 5084, 5085, 5086, 5087, 5088, 5089, 5090, 5091, 5119, 5120, 5121, 5162, 5163, 5164, 5165, 5166, 5167, 5168, 5169, 5170, 5171, 5172, 5173, 5174, 5199, 5200, 5201, 5244, 5245, 5246, 5247, 5248, 5249, 5250, 5251, 5252, 5253, 5254, 5255, 5256, 5279, 5280, 5281, 5325, 5326, 5327, 5328, 5329, 5330, 5331, 5332, 5333, 5334, 5335, 5336, 5337, 5338, 5339, 5359, 5360, 5361, 5407, 5408, 5409, 5410, 5411, 5412, 5413, 5414, 5415, 5416, 5417, 5418, 5419, 5420, 5421, 5439, 5440, 5441, 5489, 5490, 5491, 5492, 5493, 5494, 5495, 5496, 5497, 5498, 5499, 5500, 5501, 5502, 5503, 5519, 5520, 5521, 5571, 5572, 5573, 5574, 5575, 5576, 5577, 5578, 5579, 5580, 5581, 5582, 5583, 5584, 5585, 5586, 5598, 5599, 5600, 5601, 5602, 5652, 5653, 5654, 5655, 5656, 5657, 5658, 5659, 5660, 5661, 5662, 5663, 5664, 5665, 5666, 5667, 5668, 5678, 5679, 5680, 5681, 5682, 5734, 5735, 5736, 5737, 5738, 5739, 5740, 5741, 5742, 5743, 5744, 5745, 5746, 5747, 5748, 5749, 5750, 5758, 5759, 5760, 5761, 5762, 5816, 5817, 5818, 5819, 5820, 5821, 5822, 5823, 5824, 5825, 5826, 5827, 5828, 5829, 5830, 5831, 5838, 5839, 5840, 5841, 5842, 5898, 5899, 5900, 5901, 5902, 5903, 5904, 5905, 5906, 5907, 5908, 5909, 5910, 5911, 5912, 5918, 5919, 5920, 5921, 5922, 5980, 5981, 5982, 5983, 5984, 5985, 5986, 5987, 5988, 5989, 5990, 5991, 5992, 5993, 5998, 5999, 6000, 6001, 6002, 6061, 6062, 6063, 6064, 6065, 6066, 6067, 6068, 6069, 6070, 6071, 6072, 6073, 6074, 6078, 6079, 6080, 6081, 6082, 6143, 6144, 6145, 6146, 6147, 6148, 6149, 6150, 6151, 6152, 6153, 6154, 6155, 6158, 6159, 6160, 6161, 6162, 6225, 6226, 6227, 6228, 6229, 6230, 6231, 6232, 6233, 6234, 6235, 6236, 6238, 6239, 6240, 6241, 6242, 6307, 6308, 6309, 6310, 6311, 6312, 6313, 6314, 6315, 6316, 6317, 6318, 6319, 6320, 6321, 6322, 6389, 6390, 6391, 6392, 6393, 6394, 6395, 6396, 6397, 6398, 6399, 6400, 6401, 6402, 6470, 6471, 6472, 6473, 6474, 6475, 6476, 6477, 6478, 6479, 6480, 6481, 6482, 6552, 6553, 6554, 6555, 6556, 6557, 6558, 6559, 6560]\n",
      "CPU times: user 155 ms, sys: 44 ms, total: 199 ms\n",
      "Wall time: 202 ms\n"
     ]
    }
   ],
   "source": [
    "%%time\n",
    "n_total = len(simulation.dataframe)\n",
    "n_train = len(simulation.dataframe[simulation.dataframe.type_of == \"train\"])\n",
    "n_val = len(simulation.dataframe[simulation.dataframe.type_of == \"val\"])\n",
    "n_test = len(simulation.dataframe[simulation.dataframe.type_of == \"test\"])\n",
    "n_train_hamiltonians = len(simulation.train_ids)\n",
    "n_val_hamiltonians = len(simulation.val_ids)\n",
    "n_test_hamiltonians = len(simulation.test_ids)\n",
    "n_total_hamiltonians = n_train_hamiltonians + n_val_hamiltonians + n_test_hamiltonians\n",
    "\n",
    "print(\"% train: \", n_train/n_total)\n",
    "print(\"% val: \",  n_val/n_total)\n",
    "print(\"% test: \", n_test/n_total)\n",
    "print(\"% train + val + test: \", (n_train+n_val+n_test)/n_total)\n",
    "print(\"\\n\")\n",
    "print(\"number of train hamiltonians: \", n_train_hamiltonians)\n",
    "print(\"number of val hamiltonians: \", n_val_hamiltonians)\n",
    "print(\"number of test hamiltonians: \", n_test_hamiltonians)\n",
    "print(\"total number of hamiltonians: \", n_total_hamiltonians)\n",
    "print(\"\\n\")\n",
    "print(\"train ids: \", simulation.train_ids)\n",
    "print(\"val ids: \", simulation.val_ids)\n",
    "print(\"test ids: \", simulation.test_ids)"
   ]
  },
  {
   "cell_type": "markdown",
   "metadata": {
    "papermill": {
     "duration": 0.037965,
     "end_time": "2020-07-16T01:07:42.640420",
     "exception": false,
     "start_time": "2020-07-16T01:07:42.602455",
     "status": "completed"
    },
    "tags": []
   },
   "source": [
    "#### Checking summaries"
   ]
  },
  {
   "cell_type": "code",
   "execution_count": 31,
   "metadata": {
    "execution": {
     "iopub.execute_input": "2020-07-16T01:07:42.715515Z",
     "iopub.status.busy": "2020-07-16T01:07:42.715199Z",
     "iopub.status.idle": "2020-07-16T01:07:42.733372Z",
     "shell.execute_reply": "2020-07-16T01:07:42.733674Z"
    },
    "papermill": {
     "duration": 0.056496,
     "end_time": "2020-07-16T01:07:42.733738",
     "exception": false,
     "start_time": "2020-07-16T01:07:42.677242",
     "status": "completed"
    },
    "tags": []
   },
   "outputs": [
    {
     "name": "stdout",
     "output_type": "stream",
     "text": [
      "length of ham_summary:  6561\n",
      "CPU times: user 57 µs, sys: 0 ns, total: 57 µs\n",
      "Wall time: 59.8 µs\n"
     ]
    },
    {
     "data": {
      "text/html": [
       "<div>\n",
       "<style scoped>\n",
       "    .dataframe tbody tr th:only-of-type {\n",
       "        vertical-align: middle;\n",
       "    }\n",
       "\n",
       "    .dataframe tbody tr th {\n",
       "        vertical-align: top;\n",
       "    }\n",
       "\n",
       "    .dataframe thead th {\n",
       "        text-align: right;\n",
       "    }\n",
       "</style>\n",
       "<table border=\"1\" class=\"dataframe\">\n",
       "  <thead>\n",
       "    <tr style=\"text-align: right;\">\n",
       "      <th></th>\n",
       "      <th>t1</th>\n",
       "      <th>t2</th>\n",
       "      <th>type_of</th>\n",
       "      <th>0</th>\n",
       "      <th>1</th>\n",
       "      <th>phase</th>\n",
       "      <th>pred_phase</th>\n",
       "    </tr>\n",
       "    <tr>\n",
       "      <th>id</th>\n",
       "      <th></th>\n",
       "      <th></th>\n",
       "      <th></th>\n",
       "      <th></th>\n",
       "      <th></th>\n",
       "      <th></th>\n",
       "      <th></th>\n",
       "    </tr>\n",
       "  </thead>\n",
       "  <tbody>\n",
       "    <tr>\n",
       "      <th>0</th>\n",
       "      <td>-2.0</td>\n",
       "      <td>-2.00</td>\n",
       "      <td>test</td>\n",
       "      <td>0.43</td>\n",
       "      <td>0.57</td>\n",
       "      <td>999</td>\n",
       "      <td>1</td>\n",
       "    </tr>\n",
       "    <tr>\n",
       "      <th>1</th>\n",
       "      <td>-2.0</td>\n",
       "      <td>-1.95</td>\n",
       "      <td>test</td>\n",
       "      <td>0.56</td>\n",
       "      <td>0.44</td>\n",
       "      <td>0</td>\n",
       "      <td>0</td>\n",
       "    </tr>\n",
       "    <tr>\n",
       "      <th>2</th>\n",
       "      <td>-2.0</td>\n",
       "      <td>-1.90</td>\n",
       "      <td>test</td>\n",
       "      <td>0.58</td>\n",
       "      <td>0.42</td>\n",
       "      <td>0</td>\n",
       "      <td>0</td>\n",
       "    </tr>\n",
       "    <tr>\n",
       "      <th>3</th>\n",
       "      <td>-2.0</td>\n",
       "      <td>-1.85</td>\n",
       "      <td>test</td>\n",
       "      <td>0.64</td>\n",
       "      <td>0.36</td>\n",
       "      <td>0</td>\n",
       "      <td>0</td>\n",
       "    </tr>\n",
       "    <tr>\n",
       "      <th>4</th>\n",
       "      <td>-2.0</td>\n",
       "      <td>-1.80</td>\n",
       "      <td>test</td>\n",
       "      <td>0.73</td>\n",
       "      <td>0.27</td>\n",
       "      <td>0</td>\n",
       "      <td>0</td>\n",
       "    </tr>\n",
       "    <tr>\n",
       "      <th>...</th>\n",
       "      <td>...</td>\n",
       "      <td>...</td>\n",
       "      <td>...</td>\n",
       "      <td>...</td>\n",
       "      <td>...</td>\n",
       "      <td>...</td>\n",
       "      <td>...</td>\n",
       "    </tr>\n",
       "    <tr>\n",
       "      <th>6556</th>\n",
       "      <td>2.0</td>\n",
       "      <td>1.80</td>\n",
       "      <td>test</td>\n",
       "      <td>0.72</td>\n",
       "      <td>0.28</td>\n",
       "      <td>0</td>\n",
       "      <td>0</td>\n",
       "    </tr>\n",
       "    <tr>\n",
       "      <th>6557</th>\n",
       "      <td>2.0</td>\n",
       "      <td>1.85</td>\n",
       "      <td>test</td>\n",
       "      <td>0.63</td>\n",
       "      <td>0.37</td>\n",
       "      <td>0</td>\n",
       "      <td>0</td>\n",
       "    </tr>\n",
       "    <tr>\n",
       "      <th>6558</th>\n",
       "      <td>2.0</td>\n",
       "      <td>1.90</td>\n",
       "      <td>test</td>\n",
       "      <td>0.54</td>\n",
       "      <td>0.46</td>\n",
       "      <td>0</td>\n",
       "      <td>0</td>\n",
       "    </tr>\n",
       "    <tr>\n",
       "      <th>6559</th>\n",
       "      <td>2.0</td>\n",
       "      <td>1.95</td>\n",
       "      <td>test</td>\n",
       "      <td>0.54</td>\n",
       "      <td>0.46</td>\n",
       "      <td>0</td>\n",
       "      <td>0</td>\n",
       "    </tr>\n",
       "    <tr>\n",
       "      <th>6560</th>\n",
       "      <td>2.0</td>\n",
       "      <td>2.00</td>\n",
       "      <td>test</td>\n",
       "      <td>0.42</td>\n",
       "      <td>0.58</td>\n",
       "      <td>999</td>\n",
       "      <td>1</td>\n",
       "    </tr>\n",
       "  </tbody>\n",
       "</table>\n",
       "<p>6561 rows × 7 columns</p>\n",
       "</div>"
      ],
      "text/plain": [
       "       t1    t2 type_of     0     1  phase  pred_phase\n",
       "id                                                    \n",
       "0    -2.0 -2.00    test  0.43  0.57    999           1\n",
       "1    -2.0 -1.95    test  0.56  0.44      0           0\n",
       "2    -2.0 -1.90    test  0.58  0.42      0           0\n",
       "3    -2.0 -1.85    test  0.64  0.36      0           0\n",
       "4    -2.0 -1.80    test  0.73  0.27      0           0\n",
       "...   ...   ...     ...   ...   ...    ...         ...\n",
       "6556  2.0  1.80    test  0.72  0.28      0           0\n",
       "6557  2.0  1.85    test  0.63  0.37      0           0\n",
       "6558  2.0  1.90    test  0.54  0.46      0           0\n",
       "6559  2.0  1.95    test  0.54  0.46      0           0\n",
       "6560  2.0  2.00    test  0.42  0.58    999           1\n",
       "\n",
       "[6561 rows x 7 columns]"
      ]
     },
     "execution_count": 31,
     "metadata": {},
     "output_type": "execute_result"
    }
   ],
   "source": [
    "%%time\n",
    "ham_summary = simulation.hamiltonian_summary\n",
    "print(\"length of ham_summary: \", len(ham_summary))\n",
    "ham_summary"
   ]
  },
  {
   "cell_type": "code",
   "execution_count": 32,
   "metadata": {
    "execution": {
     "iopub.execute_input": "2020-07-16T01:07:42.811207Z",
     "iopub.status.busy": "2020-07-16T01:07:42.810890Z",
     "iopub.status.idle": "2020-07-16T01:07:42.839266Z",
     "shell.execute_reply": "2020-07-16T01:07:42.838945Z"
    },
    "papermill": {
     "duration": 0.067601,
     "end_time": "2020-07-16T01:07:42.839318",
     "exception": false,
     "start_time": "2020-07-16T01:07:42.771717",
     "status": "completed"
    },
    "tags": []
   },
   "outputs": [
    {
     "data": {
      "text/html": [
       "<div>\n",
       "<style scoped>\n",
       "    .dataframe tbody tr th:only-of-type {\n",
       "        vertical-align: middle;\n",
       "    }\n",
       "\n",
       "    .dataframe tbody tr th {\n",
       "        vertical-align: top;\n",
       "    }\n",
       "\n",
       "    .dataframe thead th {\n",
       "        text-align: right;\n",
       "    }\n",
       "</style>\n",
       "<table border=\"1\" class=\"dataframe\">\n",
       "  <thead>\n",
       "    <tr style=\"text-align: right;\">\n",
       "      <th></th>\n",
       "      <th>t1</th>\n",
       "      <th>t2</th>\n",
       "      <th>0</th>\n",
       "      <th>1</th>\n",
       "      <th>phase</th>\n",
       "      <th>pred_phase</th>\n",
       "    </tr>\n",
       "  </thead>\n",
       "  <tbody>\n",
       "    <tr>\n",
       "      <th>count</th>\n",
       "      <td>6561.000000</td>\n",
       "      <td>6.561000e+03</td>\n",
       "      <td>6561.000000</td>\n",
       "      <td>6561.000000</td>\n",
       "      <td>6561.000000</td>\n",
       "      <td>6561.000000</td>\n",
       "    </tr>\n",
       "    <tr>\n",
       "      <th>mean</th>\n",
       "      <td>0.000000</td>\n",
       "      <td>-4.331917e-18</td>\n",
       "      <td>0.502434</td>\n",
       "      <td>0.497566</td>\n",
       "      <td>25.002134</td>\n",
       "      <td>0.516080</td>\n",
       "    </tr>\n",
       "    <tr>\n",
       "      <th>std</th>\n",
       "      <td>1.169134</td>\n",
       "      <td>1.169134e+00</td>\n",
       "      <td>0.426252</td>\n",
       "      <td>0.426252</td>\n",
       "      <td>154.495657</td>\n",
       "      <td>0.499779</td>\n",
       "    </tr>\n",
       "    <tr>\n",
       "      <th>min</th>\n",
       "      <td>-2.000000</td>\n",
       "      <td>-2.000000e+00</td>\n",
       "      <td>0.000000</td>\n",
       "      <td>0.000000</td>\n",
       "      <td>0.000000</td>\n",
       "      <td>0.000000</td>\n",
       "    </tr>\n",
       "    <tr>\n",
       "      <th>25%</th>\n",
       "      <td>-1.000000</td>\n",
       "      <td>-1.000000e+00</td>\n",
       "      <td>0.060000</td>\n",
       "      <td>0.040000</td>\n",
       "      <td>0.000000</td>\n",
       "      <td>0.000000</td>\n",
       "    </tr>\n",
       "    <tr>\n",
       "      <th>50%</th>\n",
       "      <td>0.000000</td>\n",
       "      <td>0.000000e+00</td>\n",
       "      <td>0.440000</td>\n",
       "      <td>0.560000</td>\n",
       "      <td>1.000000</td>\n",
       "      <td>1.000000</td>\n",
       "    </tr>\n",
       "    <tr>\n",
       "      <th>75%</th>\n",
       "      <td>1.000000</td>\n",
       "      <td>1.000000e+00</td>\n",
       "      <td>0.960000</td>\n",
       "      <td>0.940000</td>\n",
       "      <td>1.000000</td>\n",
       "      <td>1.000000</td>\n",
       "    </tr>\n",
       "    <tr>\n",
       "      <th>max</th>\n",
       "      <td>2.000000</td>\n",
       "      <td>2.000000e+00</td>\n",
       "      <td>1.000000</td>\n",
       "      <td>1.000000</td>\n",
       "      <td>999.000000</td>\n",
       "      <td>1.000000</td>\n",
       "    </tr>\n",
       "  </tbody>\n",
       "</table>\n",
       "</div>"
      ],
      "text/plain": [
       "                t1            t2            0            1        phase  \\\n",
       "count  6561.000000  6.561000e+03  6561.000000  6561.000000  6561.000000   \n",
       "mean      0.000000 -4.331917e-18     0.502434     0.497566    25.002134   \n",
       "std       1.169134  1.169134e+00     0.426252     0.426252   154.495657   \n",
       "min      -2.000000 -2.000000e+00     0.000000     0.000000     0.000000   \n",
       "25%      -1.000000 -1.000000e+00     0.060000     0.040000     0.000000   \n",
       "50%       0.000000  0.000000e+00     0.440000     0.560000     1.000000   \n",
       "75%       1.000000  1.000000e+00     0.960000     0.940000     1.000000   \n",
       "max       2.000000  2.000000e+00     1.000000     1.000000   999.000000   \n",
       "\n",
       "        pred_phase  \n",
       "count  6561.000000  \n",
       "mean      0.516080  \n",
       "std       0.499779  \n",
       "min       0.000000  \n",
       "25%       0.000000  \n",
       "50%       1.000000  \n",
       "75%       1.000000  \n",
       "max       1.000000  "
      ]
     },
     "execution_count": 32,
     "metadata": {},
     "output_type": "execute_result"
    }
   ],
   "source": [
    "ham_summary.describe()"
   ]
  },
  {
   "cell_type": "code",
   "execution_count": 33,
   "metadata": {
    "execution": {
     "iopub.execute_input": "2020-07-16T01:07:42.916937Z",
     "iopub.status.busy": "2020-07-16T01:07:42.916617Z",
     "iopub.status.idle": "2020-07-16T01:07:42.932996Z",
     "shell.execute_reply": "2020-07-16T01:07:42.932647Z"
    },
    "papermill": {
     "duration": 0.056025,
     "end_time": "2020-07-16T01:07:42.933053",
     "exception": false,
     "start_time": "2020-07-16T01:07:42.877028",
     "status": "completed"
    },
    "tags": []
   },
   "outputs": [
    {
     "name": "stdout",
     "output_type": "stream",
     "text": [
      "length of ham_summary:  656100\n"
     ]
    },
    {
     "data": {
      "text/html": [
       "<div>\n",
       "<style scoped>\n",
       "    .dataframe tbody tr th:only-of-type {\n",
       "        vertical-align: middle;\n",
       "    }\n",
       "\n",
       "    .dataframe tbody tr th {\n",
       "        vertical-align: top;\n",
       "    }\n",
       "\n",
       "    .dataframe thead th {\n",
       "        text-align: right;\n",
       "    }\n",
       "</style>\n",
       "<table border=\"1\" class=\"dataframe\">\n",
       "  <thead>\n",
       "    <tr style=\"text-align: right;\">\n",
       "      <th></th>\n",
       "      <th>id</th>\n",
       "      <th>phase</th>\n",
       "      <th>pred_phase</th>\n",
       "      <th>type_of</th>\n",
       "    </tr>\n",
       "  </thead>\n",
       "  <tbody>\n",
       "    <tr>\n",
       "      <th>0</th>\n",
       "      <td>0</td>\n",
       "      <td>999</td>\n",
       "      <td>0</td>\n",
       "      <td>test</td>\n",
       "    </tr>\n",
       "    <tr>\n",
       "      <th>1</th>\n",
       "      <td>0</td>\n",
       "      <td>999</td>\n",
       "      <td>1</td>\n",
       "      <td>test</td>\n",
       "    </tr>\n",
       "    <tr>\n",
       "      <th>2</th>\n",
       "      <td>0</td>\n",
       "      <td>999</td>\n",
       "      <td>1</td>\n",
       "      <td>test</td>\n",
       "    </tr>\n",
       "    <tr>\n",
       "      <th>3</th>\n",
       "      <td>0</td>\n",
       "      <td>999</td>\n",
       "      <td>0</td>\n",
       "      <td>test</td>\n",
       "    </tr>\n",
       "    <tr>\n",
       "      <th>4</th>\n",
       "      <td>0</td>\n",
       "      <td>999</td>\n",
       "      <td>0</td>\n",
       "      <td>test</td>\n",
       "    </tr>\n",
       "    <tr>\n",
       "      <th>...</th>\n",
       "      <td>...</td>\n",
       "      <td>...</td>\n",
       "      <td>...</td>\n",
       "      <td>...</td>\n",
       "    </tr>\n",
       "    <tr>\n",
       "      <th>656095</th>\n",
       "      <td>6560</td>\n",
       "      <td>999</td>\n",
       "      <td>0</td>\n",
       "      <td>test</td>\n",
       "    </tr>\n",
       "    <tr>\n",
       "      <th>656096</th>\n",
       "      <td>6560</td>\n",
       "      <td>999</td>\n",
       "      <td>1</td>\n",
       "      <td>test</td>\n",
       "    </tr>\n",
       "    <tr>\n",
       "      <th>656097</th>\n",
       "      <td>6560</td>\n",
       "      <td>999</td>\n",
       "      <td>1</td>\n",
       "      <td>test</td>\n",
       "    </tr>\n",
       "    <tr>\n",
       "      <th>656098</th>\n",
       "      <td>6560</td>\n",
       "      <td>999</td>\n",
       "      <td>1</td>\n",
       "      <td>test</td>\n",
       "    </tr>\n",
       "    <tr>\n",
       "      <th>656099</th>\n",
       "      <td>6560</td>\n",
       "      <td>999</td>\n",
       "      <td>1</td>\n",
       "      <td>test</td>\n",
       "    </tr>\n",
       "  </tbody>\n",
       "</table>\n",
       "<p>656100 rows × 4 columns</p>\n",
       "</div>"
      ],
      "text/plain": [
       "          id  phase  pred_phase type_of\n",
       "0          0    999           0    test\n",
       "1          0    999           1    test\n",
       "2          0    999           1    test\n",
       "3          0    999           0    test\n",
       "4          0    999           0    test\n",
       "...      ...    ...         ...     ...\n",
       "656095  6560    999           0    test\n",
       "656096  6560    999           1    test\n",
       "656097  6560    999           1    test\n",
       "656098  6560    999           1    test\n",
       "656099  6560    999           1    test\n",
       "\n",
       "[656100 rows x 4 columns]"
      ]
     },
     "execution_count": 33,
     "metadata": {},
     "output_type": "execute_result"
    }
   ],
   "source": [
    "eigen_summary = simulation.eigenvector_summary\n",
    "print(\"length of ham_summary: \", len(eigen_summary))\n",
    "eigen_summary"
   ]
  },
  {
   "cell_type": "markdown",
   "metadata": {
    "papermill": {
     "duration": 0.037175,
     "end_time": "2020-07-16T01:07:43.007797",
     "exception": false,
     "start_time": "2020-07-16T01:07:42.970622",
     "status": "completed"
    },
    "tags": []
   },
   "source": [
    "#### Checking accuracies"
   ]
  },
  {
   "cell_type": "code",
   "execution_count": 34,
   "metadata": {
    "execution": {
     "iopub.execute_input": "2020-07-16T01:07:43.085781Z",
     "iopub.status.busy": "2020-07-16T01:07:43.085466Z",
     "iopub.status.idle": "2020-07-16T01:07:43.095836Z",
     "shell.execute_reply": "2020-07-16T01:07:43.096088Z"
    },
    "papermill": {
     "duration": 0.050242,
     "end_time": "2020-07-16T01:07:43.096156",
     "exception": false,
     "start_time": "2020-07-16T01:07:43.045914",
     "status": "completed"
    },
    "tags": []
   },
   "outputs": [
    {
     "data": {
      "text/plain": [
       "{'eigenvector_train': 0.9756654676258992,\n",
       " 'eigenvector_val': 0.94379,\n",
       " 'eigenvector_test': 0.742132701421801,\n",
       " 'hamiltonian_train': 0.9946043165467626,\n",
       " 'hamiltonian_val': 0.9904,\n",
       " 'hamiltonian_test': 0.9976303317535545}"
      ]
     },
     "execution_count": 34,
     "metadata": {},
     "output_type": "execute_result"
    }
   ],
   "source": [
    "simulation.accuracy"
   ]
  },
  {
   "cell_type": "markdown",
   "metadata": {
    "papermill": {
     "duration": 0.037404,
     "end_time": "2020-07-16T01:07:43.171829",
     "exception": false,
     "start_time": "2020-07-16T01:07:43.134425",
     "status": "completed"
    },
    "tags": []
   },
   "source": [
    "#### Checking data stored in  memory"
   ]
  },
  {
   "cell_type": "code",
   "execution_count": 35,
   "metadata": {
    "execution": {
     "iopub.execute_input": "2020-07-16T01:07:43.249833Z",
     "iopub.status.busy": "2020-07-16T01:07:43.249515Z",
     "iopub.status.idle": "2020-07-16T01:07:43.259687Z",
     "shell.execute_reply": "2020-07-16T01:07:43.260232Z"
    },
    "papermill": {
     "duration": 0.05027,
     "end_time": "2020-07-16T01:07:43.260308",
     "exception": false,
     "start_time": "2020-07-16T01:07:43.210038",
     "status": "completed"
    },
    "tags": []
   },
   "outputs": [
    {
     "data": {
      "text/plain": [
       "[]"
      ]
     },
     "execution_count": 35,
     "metadata": {},
     "output_type": "execute_result"
    }
   ],
   "source": [
    "ham_summary_list = simulation.hamiltonian_summary_list\n",
    "ham_summary_list"
   ]
  },
  {
   "cell_type": "code",
   "execution_count": 36,
   "metadata": {
    "execution": {
     "iopub.execute_input": "2020-07-16T01:07:43.340473Z",
     "iopub.status.busy": "2020-07-16T01:07:43.340154Z",
     "iopub.status.idle": "2020-07-16T01:07:43.350035Z",
     "shell.execute_reply": "2020-07-16T01:07:43.350287Z"
    },
    "papermill": {
     "duration": 0.049953,
     "end_time": "2020-07-16T01:07:43.350356",
     "exception": false,
     "start_time": "2020-07-16T01:07:43.300403",
     "status": "completed"
    },
    "tags": []
   },
   "outputs": [
    {
     "data": {
      "text/plain": [
       "[]"
      ]
     },
     "execution_count": 36,
     "metadata": {},
     "output_type": "execute_result"
    }
   ],
   "source": [
    "eigen_summary_list = simulation.eigenvector_summary_list\n",
    "eigen_summary_list"
   ]
  },
  {
   "cell_type": "code",
   "execution_count": 37,
   "metadata": {
    "execution": {
     "iopub.execute_input": "2020-07-16T01:07:43.431565Z",
     "iopub.status.busy": "2020-07-16T01:07:43.431253Z",
     "iopub.status.idle": "2020-07-16T01:07:43.441802Z",
     "shell.execute_reply": "2020-07-16T01:07:43.441453Z"
    },
    "papermill": {
     "duration": 0.05267,
     "end_time": "2020-07-16T01:07:43.441864",
     "exception": false,
     "start_time": "2020-07-16T01:07:43.389194",
     "status": "completed"
    },
    "tags": []
   },
   "outputs": [
    {
     "data": {
      "text/plain": [
       "{'eigenvector_train': [],\n",
       " 'eigenvector_val': [],\n",
       " 'eigenvector_test': [],\n",
       " 'hamiltonian_train': [],\n",
       " 'hamiltonian_val': [],\n",
       " 'hamiltonian_test': []}"
      ]
     },
     "execution_count": 37,
     "metadata": {},
     "output_type": "execute_result"
    }
   ],
   "source": [
    "accuracy_list = simulation.accuracy_list\n",
    "accuracy_list"
   ]
  },
  {
   "cell_type": "code",
   "execution_count": null,
   "metadata": {
    "papermill": {
     "duration": 0.038036,
     "end_time": "2020-07-16T01:07:43.518416",
     "exception": false,
     "start_time": "2020-07-16T01:07:43.480380",
     "status": "completed"
    },
    "tags": []
   },
   "outputs": [],
   "source": []
  },
  {
   "cell_type": "code",
   "execution_count": null,
   "metadata": {
    "papermill": {
     "duration": 0.038947,
     "end_time": "2020-07-16T01:07:43.596217",
     "exception": false,
     "start_time": "2020-07-16T01:07:43.557270",
     "status": "completed"
    },
    "tags": []
   },
   "outputs": [],
   "source": []
  },
  {
   "cell_type": "code",
   "execution_count": 38,
   "metadata": {
    "execution": {
     "iopub.execute_input": "2020-07-16T01:07:43.675519Z",
     "iopub.status.busy": "2020-07-16T01:07:43.675032Z",
     "iopub.status.idle": "2020-07-16T01:07:43.684350Z",
     "shell.execute_reply": "2020-07-16T01:07:43.684663Z"
    },
    "papermill": {
     "duration": 0.049745,
     "end_time": "2020-07-16T01:07:43.684728",
     "exception": false,
     "start_time": "2020-07-16T01:07:43.634983",
     "status": "completed"
    },
    "tags": []
   },
   "outputs": [],
   "source": [
    "#simulation.fourier_matrix"
   ]
  },
  {
   "cell_type": "code",
   "execution_count": 39,
   "metadata": {
    "execution": {
     "iopub.execute_input": "2020-07-16T01:07:43.765513Z",
     "iopub.status.busy": "2020-07-16T01:07:43.764996Z",
     "iopub.status.idle": "2020-07-16T01:07:43.774870Z",
     "shell.execute_reply": "2020-07-16T01:07:43.774536Z"
    },
    "papermill": {
     "duration": 0.051091,
     "end_time": "2020-07-16T01:07:43.774926",
     "exception": false,
     "start_time": "2020-07-16T01:07:43.723835",
     "status": "completed"
    },
    "tags": []
   },
   "outputs": [],
   "source": [
    "#simulation.fourier_matrix.shape"
   ]
  },
  {
   "cell_type": "code",
   "execution_count": 40,
   "metadata": {
    "execution": {
     "iopub.execute_input": "2020-07-16T01:07:43.854806Z",
     "iopub.status.busy": "2020-07-16T01:07:43.854318Z",
     "iopub.status.idle": "2020-07-16T01:07:43.863953Z",
     "shell.execute_reply": "2020-07-16T01:07:43.863627Z"
    },
    "papermill": {
     "duration": 0.049952,
     "end_time": "2020-07-16T01:07:43.864007",
     "exception": false,
     "start_time": "2020-07-16T01:07:43.814055",
     "status": "completed"
    },
    "tags": []
   },
   "outputs": [],
   "source": [
    "#simulation.fourier_matrix[:,0]"
   ]
  },
  {
   "cell_type": "code",
   "execution_count": 41,
   "metadata": {
    "execution": {
     "iopub.execute_input": "2020-07-16T01:07:43.944564Z",
     "iopub.status.busy": "2020-07-16T01:07:43.944044Z",
     "iopub.status.idle": "2020-07-16T01:07:43.953811Z",
     "shell.execute_reply": "2020-07-16T01:07:43.953478Z"
    },
    "papermill": {
     "duration": 0.050781,
     "end_time": "2020-07-16T01:07:43.953864",
     "exception": false,
     "start_time": "2020-07-16T01:07:43.903083",
     "status": "completed"
    },
    "tags": []
   },
   "outputs": [],
   "source": [
    "#simulation.fourier_matrix[:,1]"
   ]
  },
  {
   "cell_type": "code",
   "execution_count": 42,
   "metadata": {
    "execution": {
     "iopub.execute_input": "2020-07-16T01:07:44.032989Z",
     "iopub.status.busy": "2020-07-16T01:07:44.032499Z",
     "iopub.status.idle": "2020-07-16T01:07:44.090950Z",
     "shell.execute_reply": "2020-07-16T01:07:44.089177Z"
    },
    "papermill": {
     "duration": 0.098652,
     "end_time": "2020-07-16T01:07:44.091204",
     "exception": false,
     "start_time": "2020-07-16T01:07:43.992552",
     "status": "completed"
    },
    "tags": []
   },
   "outputs": [],
   "source": [
    "#np.exp(-1j*2*np.pi*3/100)"
   ]
  },
  {
   "cell_type": "code",
   "execution_count": 43,
   "metadata": {
    "execution": {
     "iopub.execute_input": "2020-07-16T01:07:44.204299Z",
     "iopub.status.busy": "2020-07-16T01:07:44.203789Z",
     "iopub.status.idle": "2020-07-16T01:07:44.213577Z",
     "shell.execute_reply": "2020-07-16T01:07:44.213243Z"
    },
    "papermill": {
     "duration": 0.051382,
     "end_time": "2020-07-16T01:07:44.213632",
     "exception": false,
     "start_time": "2020-07-16T01:07:44.162250",
     "status": "completed"
    },
    "tags": []
   },
   "outputs": [],
   "source": [
    "#for i in range(1,50):\n",
    "#    print(\"\\n\")\n",
    "#    print(i)\n",
    "#    print(np.sum((np.real(simulation.fourier_matrix[:,i]) - np.real(simulation.fourier_matrix[:,-i]))**2))\n",
    "#    print(np.sum((np.imag(simulation.fourier_matrix[:,i])+ np.imag(simulation.fourier_matrix[:,-i]))**2))"
   ]
  },
  {
   "cell_type": "code",
   "execution_count": 44,
   "metadata": {
    "execution": {
     "iopub.execute_input": "2020-07-16T01:07:44.292788Z",
     "iopub.status.busy": "2020-07-16T01:07:44.292291Z",
     "iopub.status.idle": "2020-07-16T01:07:44.329346Z",
     "shell.execute_reply": "2020-07-16T01:07:44.329016Z"
    },
    "papermill": {
     "duration": 0.077088,
     "end_time": "2020-07-16T01:07:44.329399",
     "exception": false,
     "start_time": "2020-07-16T01:07:44.252311",
     "status": "completed"
    },
    "tags": []
   },
   "outputs": [],
   "source": [
    "#print(simulation.fourier_matrix[:,0])"
   ]
  },
  {
   "cell_type": "code",
   "execution_count": 45,
   "metadata": {
    "execution": {
     "iopub.execute_input": "2020-07-16T01:07:44.409428Z",
     "iopub.status.busy": "2020-07-16T01:07:44.409039Z",
     "iopub.status.idle": "2020-07-16T01:07:44.418734Z",
     "shell.execute_reply": "2020-07-16T01:07:44.419269Z"
    },
    "papermill": {
     "duration": 0.050729,
     "end_time": "2020-07-16T01:07:44.419358",
     "exception": false,
     "start_time": "2020-07-16T01:07:44.368629",
     "status": "completed"
    },
    "tags": []
   },
   "outputs": [],
   "source": [
    "#print(simulation.fourier_matrix[:,50])"
   ]
  },
  {
   "cell_type": "code",
   "execution_count": null,
   "metadata": {
    "papermill": {
     "duration": 0.039979,
     "end_time": "2020-07-16T01:07:44.498210",
     "exception": false,
     "start_time": "2020-07-16T01:07:44.458231",
     "status": "completed"
    },
    "tags": []
   },
   "outputs": [],
   "source": []
  }
 ],
 "metadata": {
  "celltoolbar": "Tags",
  "kernelspec": {
   "display_name": "ml_top_phases",
   "language": "python",
   "name": "ml_top_phases"
  },
  "language_info": {
   "codemirror_mode": {
    "name": "ipython",
    "version": 3
   },
   "file_extension": ".py",
   "mimetype": "text/x-python",
   "name": "python",
   "nbconvert_exporter": "python",
   "pygments_lexer": "ipython3",
   "version": "3.6.10"
  },
  "papermill": {
   "duration": 1053.79641,
   "end_time": "2020-07-16T01:07:44.647131",
   "environment_variables": {},
   "exception": null,
   "input_path": "0_simulation_template.ipynb",
   "output_path": "zzz_simulation_output_ssh1_3rd_scenario_100_6561.ipynb",
   "parameters": {
    "allowed_windings": [
     0,
     1
    ],
    "csv_path": "/home/rio/ssh_csvs/ssh1/periodic_100_6561.csv",
    "features_to_use": null,
    "fit_params": null,
    "fourier_features_to_use": null,
    "fourier_fillna": false,
    "fourier_mode": "dct",
    "fourier_normalize": false,
    "fourier_real": null,
    "model_kw": {
     "criterion": "entropy"
    },
    "model_name": "DecisionTreeClassifier",
    "n_experiments": 100,
    "pred_params": null,
    "random_features": false,
    "random_state": 2462394756,
    "save_accuracy": true,
    "save_eigenvector": true,
    "save_hamiltonian": true,
    "save_models": true,
    "shuffle_features": false,
    "shuffle_rows": true,
    "simulation_dir": "/home/rio/ssh_simulations/ssh1/periodic_3rd_scenario_100_6561",
    "start_n": 0,
    "store_in_lists": false,
    "val_split": 0.9
   },
   "start_time": "2020-07-16T00:50:10.850721",
   "version": "2.1.0"
  }
 },
 "nbformat": 4,
 "nbformat_minor": 2
}