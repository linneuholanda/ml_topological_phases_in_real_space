{
 "cells": [
  {
   "cell_type": "markdown",
   "metadata": {
    "papermill": {
     "duration": 0.01688,
     "end_time": "2020-03-03T02:32:44.151699",
     "exception": false,
     "start_time": "2020-03-03T02:32:44.134819",
     "status": "completed"
    },
    "tags": []
   },
   "source": [
    "# Generate csv files \n"
   ]
  },
  {
   "cell_type": "markdown",
   "metadata": {
    "papermill": {
     "duration": 0.007425,
     "end_time": "2020-03-03T02:32:44.168024",
     "exception": false,
     "start_time": "2020-03-03T02:32:44.160599",
     "status": "completed"
    },
    "tags": []
   },
   "source": [
    "This notebook generates .csv files from a directory containing .dat files with Hamiltonian data. Each .dat file is assumed to be named as `\"H_t1_t2_winding.dat\"`.  "
   ]
  },
  {
   "cell_type": "code",
   "execution_count": 1,
   "metadata": {
    "papermill": {
     "duration": 0.421471,
     "end_time": "2020-03-03T02:32:44.597655",
     "exception": false,
     "start_time": "2020-03-03T02:32:44.176184",
     "status": "completed"
    },
    "tags": []
   },
   "outputs": [],
   "source": [
    "#from IPython.core.display import HTML\n",
    "#HTML(\"<script>Jupyter.notebook.kernel.restart()</script>\")\n",
    "%load_ext autoreload\n",
    "%autoreload 2\n",
    "\n",
    "from preprocessing import *"
   ]
  },
  {
   "cell_type": "markdown",
   "metadata": {
    "papermill": {
     "duration": 0.010474,
     "end_time": "2020-03-03T02:32:44.625862",
     "exception": false,
     "start_time": "2020-03-03T02:32:44.615388",
     "status": "completed"
    },
    "tags": []
   },
   "source": [
    "### Set the parameters below carefully"
   ]
  },
  {
   "cell_type": "code",
   "execution_count": 2,
   "metadata": {
    "papermill": {
     "duration": 0.034917,
     "end_time": "2020-03-03T02:32:44.671019",
     "exception": false,
     "start_time": "2020-03-03T02:32:44.636102",
     "status": "completed"
    },
    "tags": [
     "parameters"
    ]
   },
   "outputs": [
    {
     "name": "stdout",
     "output_type": "stream",
     "text": [
      "CPU times: user 2 µs, sys: 0 ns, total: 2 µs\n",
      "Wall time: 5.25 µs\n"
     ]
    }
   ],
   "source": [
    "%%time\n",
    "grid_folder = \"/home/linneu/ssh_grids/ssh1/periodic_100_6561\"\n",
    "allowed_windings = [0,1]\n",
    "epsilon = 0.01\n",
    "csv_name = \"/home/linneu/ssh_csvs/ssh1/periodic_100_6561.csv\"\n",
    "to_csv = True\n"
   ]
  },
  {
   "cell_type": "code",
   "execution_count": 3,
   "metadata": {
    "papermill": {
     "duration": 0.028905,
     "end_time": "2020-03-03T02:32:44.714856",
     "exception": false,
     "start_time": "2020-03-03T02:32:44.685951",
     "status": "completed"
    },
    "tags": [
     "injected-parameters"
    ]
   },
   "outputs": [],
   "source": [
    "# Parameters\n",
    "allowed_windings = [0, 1]\n",
    "epsilon = 0.01\n",
    "to_csv = True\n",
    "grid_folder = \"/home/linneu/ssh_grids/ssh1/periodic_140_6561\"\n",
    "csv_name = \"/home/linneu/ssh_csvs/ssh1/periodic_140_6561.csv\"\n"
   ]
  },
  {
   "cell_type": "code",
   "execution_count": 4,
   "metadata": {
    "papermill": {
     "duration": 38.819808,
     "end_time": "2020-03-03T02:33:23.551381",
     "exception": false,
     "start_time": "2020-03-03T02:32:44.731573",
     "status": "completed"
    },
    "tags": []
   },
   "outputs": [
    {
     "name": "stderr",
     "output_type": "stream",
     "text": [
      "\r",
      "loading hamiltonians:   0%|          | 0/6561 [00:00<?, ?it/s]"
     ]
    },
    {
     "name": "stderr",
     "output_type": "stream",
     "text": [
      "\r",
      "loading hamiltonians:   1%|          | 46/6561 [00:00<00:16, 396.75it/s]"
     ]
    },
    {
     "name": "stderr",
     "output_type": "stream",
     "text": [
      "\r",
      "loading hamiltonians:   1%|▏         | 94/6561 [00:00<00:15, 417.17it/s]"
     ]
    },
    {
     "name": "stderr",
     "output_type": "stream",
     "text": [
      "\r",
      "loading hamiltonians:   2%|▏         | 133/6561 [00:00<00:15, 406.25it/s]"
     ]
    },
    {
     "name": "stderr",
     "output_type": "stream",
     "text": [
      "\r",
      "loading hamiltonians:   3%|▎         | 171/6561 [00:00<00:16, 397.04it/s]"
     ]
    },
    {
     "name": "stderr",
     "output_type": "stream",
     "text": [
      "\r",
      "loading hamiltonians:   3%|▎         | 218/6561 [00:00<00:15, 415.19it/s]"
     ]
    },
    {
     "name": "stderr",
     "output_type": "stream",
     "text": [
      "\r",
      "loading hamiltonians:   4%|▍         | 255/6561 [00:00<00:15, 400.00it/s]"
     ]
    },
    {
     "name": "stderr",
     "output_type": "stream",
     "text": [
      "\r",
      "loading hamiltonians:   4%|▍         | 294/6561 [00:00<00:15, 395.47it/s]"
     ]
    },
    {
     "name": "stderr",
     "output_type": "stream",
     "text": [
      "\r",
      "loading hamiltonians:   5%|▌         | 340/6561 [00:00<00:15, 412.02it/s]"
     ]
    },
    {
     "name": "stderr",
     "output_type": "stream",
     "text": [
      "\r",
      "loading hamiltonians:   6%|▌         | 380/6561 [00:00<00:15, 397.98it/s]"
     ]
    },
    {
     "name": "stderr",
     "output_type": "stream",
     "text": [
      "\r",
      "loading hamiltonians:   6%|▋         | 419/6561 [00:01<00:16, 383.75it/s]"
     ]
    },
    {
     "name": "stderr",
     "output_type": "stream",
     "text": [
      "\r",
      "loading hamiltonians:   7%|▋         | 463/6561 [00:01<00:15, 398.57it/s]"
     ]
    },
    {
     "name": "stderr",
     "output_type": "stream",
     "text": [
      "\r",
      "loading hamiltonians:   8%|▊         | 503/6561 [00:01<00:15, 385.40it/s]"
     ]
    },
    {
     "name": "stderr",
     "output_type": "stream",
     "text": [
      "\r",
      "loading hamiltonians:   8%|▊         | 542/6561 [00:01<00:15, 376.52it/s]"
     ]
    },
    {
     "name": "stderr",
     "output_type": "stream",
     "text": [
      "\r",
      "loading hamiltonians:   9%|▉         | 586/6561 [00:01<00:16, 371.43it/s]"
     ]
    },
    {
     "name": "stderr",
     "output_type": "stream",
     "text": [
      "\r",
      "loading hamiltonians:  10%|▉         | 624/6561 [00:01<00:27, 217.82it/s]"
     ]
    },
    {
     "name": "stderr",
     "output_type": "stream",
     "text": [
      "\r",
      "loading hamiltonians:  10%|█         | 661/6561 [00:01<00:23, 247.98it/s]"
     ]
    },
    {
     "name": "stderr",
     "output_type": "stream",
     "text": [
      "\r",
      "loading hamiltonians:  11%|█         | 707/6561 [00:02<00:20, 287.75it/s]"
     ]
    },
    {
     "name": "stderr",
     "output_type": "stream",
     "text": [
      "\r",
      "loading hamiltonians:  11%|█▏        | 745/6561 [00:02<00:18, 310.00it/s]"
     ]
    },
    {
     "name": "stderr",
     "output_type": "stream",
     "text": [
      "\r",
      "loading hamiltonians:  12%|█▏        | 783/6561 [00:02<00:17, 327.87it/s]"
     ]
    },
    {
     "name": "stderr",
     "output_type": "stream",
     "text": [
      "\r",
      "loading hamiltonians:  13%|█▎        | 830/6561 [00:02<00:16, 343.19it/s]"
     ]
    },
    {
     "name": "stderr",
     "output_type": "stream",
     "text": [
      "\r",
      "loading hamiltonians:  13%|█▎        | 878/6561 [00:02<00:15, 373.69it/s]"
     ]
    },
    {
     "name": "stderr",
     "output_type": "stream",
     "text": [
      "\r",
      "loading hamiltonians:  14%|█▍        | 919/6561 [00:02<00:15, 375.14it/s]"
     ]
    },
    {
     "name": "stderr",
     "output_type": "stream",
     "text": [
      "\r",
      "loading hamiltonians:  15%|█▍        | 959/6561 [00:02<00:14, 377.04it/s]"
     ]
    },
    {
     "name": "stderr",
     "output_type": "stream",
     "text": [
      "\r",
      "loading hamiltonians:  15%|█▌        | 1007/6561 [00:02<00:13, 401.12it/s]"
     ]
    },
    {
     "name": "stderr",
     "output_type": "stream",
     "text": [
      "\r",
      "loading hamiltonians:  16%|█▌        | 1049/6561 [00:02<00:13, 396.37it/s]"
     ]
    },
    {
     "name": "stderr",
     "output_type": "stream",
     "text": [
      "\r",
      "loading hamiltonians:  17%|█▋        | 1090/6561 [00:02<00:13, 392.30it/s]"
     ]
    },
    {
     "name": "stderr",
     "output_type": "stream",
     "text": [
      "\r",
      "loading hamiltonians:  17%|█▋        | 1130/6561 [00:03<00:13, 391.04it/s]"
     ]
    },
    {
     "name": "stderr",
     "output_type": "stream",
     "text": [
      "\r",
      "loading hamiltonians:  18%|█▊        | 1177/6561 [00:03<00:13, 411.55it/s]"
     ]
    },
    {
     "name": "stderr",
     "output_type": "stream",
     "text": [
      "\r",
      "loading hamiltonians:  19%|█▊        | 1219/6561 [00:03<00:13, 406.20it/s]"
     ]
    },
    {
     "name": "stderr",
     "output_type": "stream",
     "text": [
      "\r",
      "loading hamiltonians:  19%|█▉        | 1261/6561 [00:03<00:33, 159.71it/s]"
     ]
    },
    {
     "name": "stderr",
     "output_type": "stream",
     "text": [
      "\r",
      "loading hamiltonians:  20%|█▉        | 1298/6561 [00:04<00:27, 191.83it/s]"
     ]
    },
    {
     "name": "stderr",
     "output_type": "stream",
     "text": [
      "\r",
      "loading hamiltonians:  20%|██        | 1331/6561 [00:04<00:24, 216.55it/s]"
     ]
    },
    {
     "name": "stderr",
     "output_type": "stream",
     "text": [
      "\r",
      "loading hamiltonians:  21%|██        | 1375/6561 [00:04<00:21, 246.42it/s]"
     ]
    },
    {
     "name": "stderr",
     "output_type": "stream",
     "text": [
      "\r",
      "loading hamiltonians:  22%|██▏       | 1420/6561 [00:04<00:18, 283.61it/s]"
     ]
    }
   ],
   "source": [
    "%%time\n",
    "list_of_hamiltonians, raw_data = load_hamiltonians(grid_folder)\n",
    "print(\"shape of raw_data: \", raw_data.shape)\n",
    "print(\"len list_of_hamiltonians: \", len(list_of_hamiltonians))\n",
    "\n",
    "dataframe = make_dataframe(raw_data, list_of_hamiltonians, allowed_windings = allowed_windings, epsilon = epsilon, \\\n",
    "                           csv_name = csv_name, to_csv = to_csv)"
   ]
  },
  {
   "cell_type": "code",
   "execution_count": null,
   "metadata": {
    "papermill": {
     "duration": null,
     "end_time": null,
     "exception": null,
     "start_time": null,
     "status": "completed"
    },
    "tags": []
   },
   "outputs": [],
   "source": [
    "dataframe.info()\n",
    "dataframe.head()\n",
    "#dataframe.tail()"
   ]
  },
  {
   "cell_type": "markdown",
   "metadata": {
    "papermill": {
     "duration": null,
     "end_time": null,
     "exception": null,
     "start_time": null,
     "status": "completed"
    },
    "tags": []
   },
   "source": [
    "#### Checking t values are row-major sorted"
   ]
  },
  {
   "cell_type": "code",
   "execution_count": null,
   "metadata": {
    "papermill": {
     "duration": null,
     "end_time": null,
     "exception": null,
     "start_time": null,
     "status": "completed"
    },
    "tags": []
   },
   "outputs": [],
   "source": [
    "#np.set_printoptions(threshold=np.inf)\n",
    "t_array = dataframe[[\"t1\", \"t2\"]].values\n",
    "print(\"t_array:\\n\", t_array)\n",
    "np.set_printoptions()"
   ]
  },
  {
   "cell_type": "markdown",
   "metadata": {
    "papermill": {
     "duration": null,
     "end_time": null,
     "exception": null,
     "start_time": null,
     "status": "completed"
    },
    "tags": []
   },
   "source": [
    "#### Making a grid"
   ]
  },
  {
   "cell_type": "code",
   "execution_count": null,
   "metadata": {
    "papermill": {
     "duration": null,
     "end_time": null,
     "exception": null,
     "start_time": null,
     "status": "completed"
    },
    "tags": []
   },
   "outputs": [],
   "source": [
    "xx = dataframe.t2.values\n",
    "yy = dataframe.t1.values\n",
    "print(\"xx: \\n\", xx)\n",
    "print(\"yy: \\n\", yy)"
   ]
  },
  {
   "cell_type": "markdown",
   "metadata": {
    "papermill": {
     "duration": null,
     "end_time": null,
     "exception": null,
     "start_time": null,
     "status": "completed"
    },
    "tags": []
   },
   "source": [
    "#### Train/test "
   ]
  },
  {
   "cell_type": "code",
   "execution_count": null,
   "metadata": {
    "papermill": {
     "duration": null,
     "end_time": null,
     "exception": null,
     "start_time": null,
     "status": "completed"
    },
    "tags": []
   },
   "outputs": [],
   "source": [
    "n_total = len(dataframe)\n",
    "n_train = len(dataframe[dataframe.type_of == \"train\"])\n",
    "n_test = len(dataframe[dataframe.type_of == \"test\"])\n",
    "print(\"% train: \", n_train/n_total)\n",
    "print(\"% test: \", n_test/n_total)\n",
    "print(\"% train + test: \", (n_train+n_test)/n_total)"
   ]
  },
  {
   "cell_type": "code",
   "execution_count": null,
   "metadata": {
    "papermill": {
     "duration": null,
     "end_time": null,
     "exception": null,
     "start_time": null,
     "status": "completed"
    },
    "tags": []
   },
   "outputs": [],
   "source": [
    "# A view of train data\n",
    "dataframe[dataframe.type_of == \"train\"].head(1000)"
   ]
  },
  {
   "cell_type": "code",
   "execution_count": null,
   "metadata": {
    "papermill": {
     "duration": null,
     "end_time": null,
     "exception": null,
     "start_time": null,
     "status": "completed"
    },
    "tags": []
   },
   "outputs": [],
   "source": [
    "# A view of test data\n",
    "dataframe[dataframe.type_of == \"test\"].head(1000)"
   ]
  },
  {
   "cell_type": "markdown",
   "metadata": {
    "papermill": {
     "duration": null,
     "end_time": null,
     "exception": null,
     "start_time": null,
     "status": "completed"
    },
    "tags": []
   },
   "source": [
    "#### Unique winding values"
   ]
  },
  {
   "cell_type": "code",
   "execution_count": null,
   "metadata": {
    "papermill": {
     "duration": null,
     "end_time": null,
     "exception": null,
     "start_time": null,
     "status": "completed"
    },
    "tags": []
   },
   "outputs": [],
   "source": [
    "np.unique(dataframe.phase.values)"
   ]
  }
 ],
 "metadata": {
  "celltoolbar": "Tags",
  "kernelspec": {
   "display_name": "ml_top_phases",
   "language": "python",
   "name": "ml_top_phases"
  },
  "language_info": {
   "codemirror_mode": {
    "name": "ipython",
    "version": 3
   },
   "file_extension": ".py",
   "mimetype": "text/x-python",
   "name": "python",
   "nbconvert_exporter": "python",
   "pygments_lexer": "ipython3",
   "version": "3.6.10"
  },
  "papermill": {
   "duration": 42.303764,
   "end_time": "2020-03-03T02:33:25.551390",
   "environment_variables": {},
   "exception": null,
   "input_path": "preprocessing_template.ipynb",
   "output_path": "preprocessing_output.ipynb",
   "parameters": {
    "allowed_windings": [
     0,
     1
    ],
    "csv_name": "/home/linneu/ssh_csvs/ssh1/periodic_140_6561.csv",
    "epsilon": 0.01,
    "grid_folder": "/home/linneu/ssh_grids/ssh1/periodic_140_6561",
    "to_csv": true
   },
   "start_time": "2020-03-03T02:32:43.247626",
   "version": "2.0.0"
  }
 },
 "nbformat": 4,
 "nbformat_minor": 2
}