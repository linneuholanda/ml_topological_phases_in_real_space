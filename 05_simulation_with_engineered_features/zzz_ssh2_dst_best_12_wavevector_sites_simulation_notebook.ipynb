{
 "cells": [
  {
   "cell_type": "markdown",
   "metadata": {
    "papermill": {
     "duration": 0.058241,
     "end_time": "2020-07-18T17:10:10.197622",
     "exception": false,
     "start_time": "2020-07-18T17:10:10.139381",
     "status": "completed"
    },
    "tags": []
   },
   "source": [
    "# Simulation template \n",
    "\n",
    "In this notebook we run the machine learning analysis of topological phase transitions occurring  in both nearest-neighbours SSH models (ssh1) and second neighbours models (ssh2) as decribed in the paper [Machine learning topological phases in real space](https://arxiv.org/abs/1901.01963). Here the simulation is run with features generated from fourier components in the first scenario. This scenario is characterized by using only the EVEN wavevector space eigenmodes, computed from ALL real space components."
   ]
  },
  {
   "cell_type": "markdown",
   "metadata": {
    "papermill": {
     "duration": 0.017419,
     "end_time": "2020-07-18T17:10:10.235647",
     "exception": false,
     "start_time": "2020-07-18T17:10:10.218228",
     "status": "completed"
    },
    "tags": []
   },
   "source": [
    "## Defining parameters"
   ]
  },
  {
   "cell_type": "code",
   "execution_count": 1,
   "metadata": {
    "execution": {
     "iopub.execute_input": "2020-07-18T17:10:10.275576Z",
     "iopub.status.busy": "2020-07-18T17:10:10.275042Z",
     "iopub.status.idle": "2020-07-18T17:10:11.605028Z",
     "shell.execute_reply": "2020-07-18T17:10:11.605450Z"
    },
    "papermill": {
     "duration": 1.351031,
     "end_time": "2020-07-18T17:10:11.605558",
     "exception": false,
     "start_time": "2020-07-18T17:10:10.254527",
     "status": "completed"
    },
    "tags": []
   },
   "outputs": [
    {
     "name": "stdout",
     "output_type": "stream",
     "text": [
      "CPU times: user 931 ms, sys: 242 ms, total: 1.17 s\n",
      "Wall time: 1.32 s\n"
     ]
    }
   ],
   "source": [
    "%%time\n",
    "%load_ext autoreload\n",
    "%autoreload 2\n",
    "from simulation import *"
   ]
  },
  {
   "cell_type": "code",
   "execution_count": 2,
   "metadata": {
    "execution": {
     "iopub.execute_input": "2020-07-18T17:10:11.643239Z",
     "iopub.status.busy": "2020-07-18T17:10:11.642914Z",
     "iopub.status.idle": "2020-07-18T17:10:11.655028Z",
     "shell.execute_reply": "2020-07-18T17:10:11.655334Z"
    },
    "papermill": {
     "duration": 0.031607,
     "end_time": "2020-07-18T17:10:11.655399",
     "exception": false,
     "start_time": "2020-07-18T17:10:11.623792",
     "status": "completed"
    },
    "tags": [
     "parameters"
    ]
   },
   "outputs": [
    {
     "name": "stdout",
     "output_type": "stream",
     "text": [
      "CPU times: user 4 µs, sys: 0 ns, total: 4 µs\n",
      "Wall time: 4.77 µs\n"
     ]
    }
   ],
   "source": [
    "%%time\n",
    "### Dataset and simulation parameters\n",
    "#csv_path = SSH2_PERIODIC_100_6561_CSV \n",
    "csv_path = SSH1_PERIODIC_100_6561_CSV \n",
    "model_name = \"DecisionTreeClassifier\"\n",
    "model_kw = {\"criterion\":\"entropy\"}\n",
    "allowed_windings = [0,1]\n",
    "#allowed_windings = [-1,0,1,2]\n",
    "simulation_dir = SSH1_REAL_SPACE_ALL_SITES\n",
    "#simulation_dir = SSH2_PERIODIC_ENGINEERED_100_6561_SIMULATION_DIR\n",
    "val_split = 0.9  \n",
    "features_to_use = None\n",
    "shuffle_features = False\n",
    "random_state = 763\n",
    "\n",
    "### Fourier features\n",
    "fourier_mode = \"dst\"\n",
    "fourier_features_to_use = None\n",
    "fourier_real = \"imag\"\n",
    "fourier_normalize = False\n",
    "fourier_fillna = False\n",
    "\n",
    "### Running a simulation\n",
    "n_experiments = 5\n",
    "start_n = 0\n",
    "fit_params = None\n",
    "#mode=mode\n",
    "shuffle_rows = True\n",
    "pred_params = None\n",
    "random_features = False\n",
    "######### DON'T SET THIS TO TRUE UNLESS YOUR DATASET IS SMALL!! WILL FLOOD YOUR MEMORY!!!\n",
    "store_in_lists = False   \n",
    "########## BELOW ARE THE PARAMETERS THAT CONTROL WHAT WILL BE SAVED\n",
    "save_eigenvector=True\n",
    "save_hamiltonian=True \n",
    "save_accuracy=True \n",
    "save_models=True"
   ]
  },
  {
   "cell_type": "code",
   "execution_count": 3,
   "metadata": {
    "execution": {
     "iopub.execute_input": "2020-07-18T17:10:11.692226Z",
     "iopub.status.busy": "2020-07-18T17:10:11.691906Z",
     "iopub.status.idle": "2020-07-18T17:10:11.790067Z",
     "shell.execute_reply": "2020-07-18T17:10:11.791751Z"
    },
    "papermill": {
     "duration": 0.119984,
     "end_time": "2020-07-18T17:10:11.792052",
     "exception": false,
     "start_time": "2020-07-18T17:10:11.672068",
     "status": "completed"
    },
    "tags": [
     "injected-parameters"
    ]
   },
   "outputs": [],
   "source": [
    "# Parameters\n",
    "model_kw = {\"criterion\": \"entropy\", \"n_estimators\": 25, \"n_jobs\": -1}\n",
    "allowed_windings = [-1, 0, 1, 2]\n",
    "val_split = 0.5\n",
    "features_to_use = None\n",
    "shuffle_features = False\n",
    "n_experiments = 100\n",
    "start_n = 0\n",
    "fit_params = None\n",
    "shuffle_rows = True\n",
    "pred_params = None\n",
    "random_features = False\n",
    "store_in_lists = False\n",
    "save_eigenvector = True\n",
    "save_hamiltonian = True\n",
    "save_accuracy = True\n",
    "save_models = True\n",
    "csv_path = \"/home/rio/ssh_csvs/ssh2/periodic_100_6561.csv\"\n",
    "model_name = \"RandomForestClassifier\"\n",
    "simulation_dir = (\n",
    "    \"/home/rio/ssh_simulations/ssh2/periodic_100_6561/dst_best_12_wavevector_sites\"\n",
    ")\n",
    "random_state = 2019\n",
    "fourier_features_to_use = [0, 1, 2, 3, 4, 5, 43, 44, 45, 46, 47, 48]\n",
    "fourier_mode = \"dst\"\n",
    "fourier_real = None\n",
    "fourier_normalize = False\n",
    "fourier_fillna = False\n"
   ]
  },
  {
   "cell_type": "code",
   "execution_count": 4,
   "metadata": {
    "execution": {
     "iopub.execute_input": "2020-07-18T17:10:11.870436Z",
     "iopub.status.busy": "2020-07-18T17:10:11.870091Z",
     "iopub.status.idle": "2020-07-18T17:10:19.976879Z",
     "shell.execute_reply": "2020-07-18T17:10:19.976558Z"
    },
    "papermill": {
     "duration": 8.129393,
     "end_time": "2020-07-18T17:10:19.976931",
     "exception": false,
     "start_time": "2020-07-18T17:10:11.847538",
     "status": "completed"
    },
    "tags": []
   },
   "outputs": [
    {
     "name": "stdout",
     "output_type": "stream",
     "text": [
      "Info on all data: \n",
      "\n",
      "<class 'pandas.core.frame.DataFrame'>\n",
      "Int64Index: 656100 entries, 0 to 656099\n",
      "Columns: 108 entries, id to feat99\n",
      "dtypes: float64(103), int32(3), object(2)\n",
      "memory usage: 538.1+ MB\n",
      "CPU times: user 6.47 s, sys: 1.43 s, total: 7.9 s\n",
      "Wall time: 8.08 s\n"
     ]
    },
    {
     "data": {
      "text/html": [
       "<div>\n",
       "<style scoped>\n",
       "    .dataframe tbody tr th:only-of-type {\n",
       "        vertical-align: middle;\n",
       "    }\n",
       "\n",
       "    .dataframe tbody tr th {\n",
       "        vertical-align: top;\n",
       "    }\n",
       "\n",
       "    .dataframe thead th {\n",
       "        text-align: right;\n",
       "    }\n",
       "</style>\n",
       "<table border=\"1\" class=\"dataframe\">\n",
       "  <thead>\n",
       "    <tr style=\"text-align: right;\">\n",
       "      <th></th>\n",
       "      <th>id</th>\n",
       "      <th>path</th>\n",
       "      <th>t1</th>\n",
       "      <th>t2</th>\n",
       "      <th>winding</th>\n",
       "      <th>phase</th>\n",
       "      <th>pred_phase</th>\n",
       "      <th>type_of</th>\n",
       "      <th>feat0</th>\n",
       "      <th>feat1</th>\n",
       "      <th>...</th>\n",
       "      <th>feat90</th>\n",
       "      <th>feat91</th>\n",
       "      <th>feat92</th>\n",
       "      <th>feat93</th>\n",
       "      <th>feat94</th>\n",
       "      <th>feat95</th>\n",
       "      <th>feat96</th>\n",
       "      <th>feat97</th>\n",
       "      <th>feat98</th>\n",
       "      <th>feat99</th>\n",
       "    </tr>\n",
       "  </thead>\n",
       "  <tbody>\n",
       "    <tr>\n",
       "      <th>0</th>\n",
       "      <td>0</td>\n",
       "      <td>H_-2_-2_0.501338.dat</td>\n",
       "      <td>-2.0</td>\n",
       "      <td>-2.0</td>\n",
       "      <td>0.501338</td>\n",
       "      <td>999</td>\n",
       "      <td>666</td>\n",
       "      <td>test</td>\n",
       "      <td>-0.130965</td>\n",
       "      <td>0.301130</td>\n",
       "      <td>...</td>\n",
       "      <td>-0.080279</td>\n",
       "      <td>-0.115687</td>\n",
       "      <td>-0.174988</td>\n",
       "      <td>0.245064</td>\n",
       "      <td>0.319763</td>\n",
       "      <td>-0.059082</td>\n",
       "      <td>-0.000556</td>\n",
       "      <td>-0.245133</td>\n",
       "      <td>-0.301130</td>\n",
       "      <td>0.130965</td>\n",
       "    </tr>\n",
       "    <tr>\n",
       "      <th>1</th>\n",
       "      <td>0</td>\n",
       "      <td>H_-2_-2_0.501338.dat</td>\n",
       "      <td>-2.0</td>\n",
       "      <td>-2.0</td>\n",
       "      <td>0.501338</td>\n",
       "      <td>999</td>\n",
       "      <td>666</td>\n",
       "      <td>test</td>\n",
       "      <td>-0.130965</td>\n",
       "      <td>-0.301130</td>\n",
       "      <td>...</td>\n",
       "      <td>-0.080279</td>\n",
       "      <td>0.115687</td>\n",
       "      <td>-0.174988</td>\n",
       "      <td>-0.245064</td>\n",
       "      <td>0.319763</td>\n",
       "      <td>0.059082</td>\n",
       "      <td>-0.000556</td>\n",
       "      <td>0.245133</td>\n",
       "      <td>-0.301130</td>\n",
       "      <td>-0.130965</td>\n",
       "    </tr>\n",
       "    <tr>\n",
       "      <th>2</th>\n",
       "      <td>0</td>\n",
       "      <td>H_-2_-2_0.501338.dat</td>\n",
       "      <td>-2.0</td>\n",
       "      <td>-2.0</td>\n",
       "      <td>0.501338</td>\n",
       "      <td>999</td>\n",
       "      <td>666</td>\n",
       "      <td>test</td>\n",
       "      <td>-0.148414</td>\n",
       "      <td>-0.042467</td>\n",
       "      <td>...</td>\n",
       "      <td>0.185442</td>\n",
       "      <td>-0.080620</td>\n",
       "      <td>-0.066211</td>\n",
       "      <td>-0.121339</td>\n",
       "      <td>-0.151700</td>\n",
       "      <td>0.192513</td>\n",
       "      <td>0.191642</td>\n",
       "      <td>-0.050956</td>\n",
       "      <td>-0.042467</td>\n",
       "      <td>-0.148414</td>\n",
       "    </tr>\n",
       "    <tr>\n",
       "      <th>3</th>\n",
       "      <td>0</td>\n",
       "      <td>H_-2_-2_0.501338.dat</td>\n",
       "      <td>-2.0</td>\n",
       "      <td>-2.0</td>\n",
       "      <td>0.501338</td>\n",
       "      <td>999</td>\n",
       "      <td>666</td>\n",
       "      <td>test</td>\n",
       "      <td>-0.069630</td>\n",
       "      <td>-0.026147</td>\n",
       "      <td>...</td>\n",
       "      <td>0.102009</td>\n",
       "      <td>-0.100671</td>\n",
       "      <td>-0.081002</td>\n",
       "      <td>-0.020715</td>\n",
       "      <td>-0.058717</td>\n",
       "      <td>0.115834</td>\n",
       "      <td>0.118274</td>\n",
       "      <td>-0.054666</td>\n",
       "      <td>-0.026147</td>\n",
       "      <td>-0.069630</td>\n",
       "    </tr>\n",
       "    <tr>\n",
       "      <th>4</th>\n",
       "      <td>0</td>\n",
       "      <td>H_-2_-2_0.501338.dat</td>\n",
       "      <td>-2.0</td>\n",
       "      <td>-2.0</td>\n",
       "      <td>0.501338</td>\n",
       "      <td>999</td>\n",
       "      <td>666</td>\n",
       "      <td>test</td>\n",
       "      <td>0.010206</td>\n",
       "      <td>-0.014625</td>\n",
       "      <td>...</td>\n",
       "      <td>0.047555</td>\n",
       "      <td>-0.041368</td>\n",
       "      <td>-0.018852</td>\n",
       "      <td>-0.017673</td>\n",
       "      <td>-0.023377</td>\n",
       "      <td>0.031447</td>\n",
       "      <td>0.010280</td>\n",
       "      <td>0.000925</td>\n",
       "      <td>0.014625</td>\n",
       "      <td>-0.010206</td>\n",
       "    </tr>\n",
       "  </tbody>\n",
       "</table>\n",
       "<p>5 rows × 108 columns</p>\n",
       "</div>"
      ],
      "text/plain": [
       "   id                  path   t1   t2   winding  phase  pred_phase type_of  \\\n",
       "0   0  H_-2_-2_0.501338.dat -2.0 -2.0  0.501338    999         666    test   \n",
       "1   0  H_-2_-2_0.501338.dat -2.0 -2.0  0.501338    999         666    test   \n",
       "2   0  H_-2_-2_0.501338.dat -2.0 -2.0  0.501338    999         666    test   \n",
       "3   0  H_-2_-2_0.501338.dat -2.0 -2.0  0.501338    999         666    test   \n",
       "4   0  H_-2_-2_0.501338.dat -2.0 -2.0  0.501338    999         666    test   \n",
       "\n",
       "      feat0     feat1  ...    feat90    feat91    feat92    feat93    feat94  \\\n",
       "0 -0.130965  0.301130  ... -0.080279 -0.115687 -0.174988  0.245064  0.319763   \n",
       "1 -0.130965 -0.301130  ... -0.080279  0.115687 -0.174988 -0.245064  0.319763   \n",
       "2 -0.148414 -0.042467  ...  0.185442 -0.080620 -0.066211 -0.121339 -0.151700   \n",
       "3 -0.069630 -0.026147  ...  0.102009 -0.100671 -0.081002 -0.020715 -0.058717   \n",
       "4  0.010206 -0.014625  ...  0.047555 -0.041368 -0.018852 -0.017673 -0.023377   \n",
       "\n",
       "     feat95    feat96    feat97    feat98    feat99  \n",
       "0 -0.059082 -0.000556 -0.245133 -0.301130  0.130965  \n",
       "1  0.059082 -0.000556  0.245133 -0.301130 -0.130965  \n",
       "2  0.192513  0.191642 -0.050956 -0.042467 -0.148414  \n",
       "3  0.115834  0.118274 -0.054666 -0.026147 -0.069630  \n",
       "4  0.031447  0.010280  0.000925  0.014625 -0.010206  \n",
       "\n",
       "[5 rows x 108 columns]"
      ]
     },
     "execution_count": 4,
     "metadata": {},
     "output_type": "execute_result"
    }
   ],
   "source": [
    "%%time\n",
    "#Starting an instance of Simulation with a decision tree\n",
    "model = DecisionTreeClassifier(criterion=\"entropy\")\n",
    "#dict_args = {\"csv_path\":csv_path, \"model\":model, \"allowed_windings\":allowed_windings,\\\n",
    "#             \"simulation_dir\":simulation_dir, \"val_split\":val_split, \"features_to_use\":features_to_use,\\\n",
    "#            \"shuffle_features\":shuffle_features, \"random_state\":random_state}\n",
    "simulation = Simulation(csv_path,model_name,model_kw,allowed_windings,simulation_dir,val_split,features_to_use,\\\n",
    "                       shuffle_features,fourier_mode,fourier_features_to_use,fourier_real,\\\n",
    "                       fourier_normalize, fourier_fillna , random_state)\n",
    "#simulation = Simulation(**dict_args)\n",
    "\n",
    "\n",
    "#(self, csv_path, model_name, model_kw, allowed_windings, simulation_dir = None, val_split = 0, \n",
    "# features_to_use = None, shuffle_features = False, fourier_mode=None, fourier_features_to_use=None,\n",
    "# fourier_real = False, fourier_normalize = False, Fourier_fillna=False, random_state = None):\n",
    "\n",
    "\n",
    "\n",
    "print(\"Info on all data: \\n\")\n",
    "simulation.dataframe.info()\n",
    "simulation.dataframe.head()"
   ]
  },
  {
   "cell_type": "markdown",
   "metadata": {
    "papermill": {
     "duration": 0.019241,
     "end_time": "2020-07-18T17:10:20.015966",
     "exception": false,
     "start_time": "2020-07-18T17:10:19.996725",
     "status": "completed"
    },
    "tags": []
   },
   "source": [
    "####  Fourier features"
   ]
  },
  {
   "cell_type": "code",
   "execution_count": 5,
   "metadata": {
    "execution": {
     "iopub.execute_input": "2020-07-18T17:10:20.056163Z",
     "iopub.status.busy": "2020-07-18T17:10:20.055754Z",
     "iopub.status.idle": "2020-07-18T17:10:20.163742Z",
     "shell.execute_reply": "2020-07-18T17:10:20.163423Z"
    },
    "papermill": {
     "duration": 0.129556,
     "end_time": "2020-07-18T17:10:20.163793",
     "exception": false,
     "start_time": "2020-07-18T17:10:20.034237",
     "status": "completed"
    },
    "tags": []
   },
   "outputs": [
    {
     "name": "stdout",
     "output_type": "stream",
     "text": [
      "<class 'pandas.core.frame.DataFrame'>\n",
      "Int64Index: 656100 entries, 0 to 656099\n",
      "Data columns (total 20 columns):\n",
      " #   Column      Non-Null Count   Dtype  \n",
      "---  ------      --------------   -----  \n",
      " 0   id          656100 non-null  int32  \n",
      " 1   path        656100 non-null  object \n",
      " 2   t1          656100 non-null  float64\n",
      " 3   t2          656100 non-null  float64\n",
      " 4   winding     656100 non-null  float64\n",
      " 5   phase       656100 non-null  int32  \n",
      " 6   pred_phase  656100 non-null  int32  \n",
      " 7   type_of     656100 non-null  object \n",
      " 8   dst_feat0   656100 non-null  float64\n",
      " 9   dst_feat1   656100 non-null  float64\n",
      " 10  dst_feat2   656100 non-null  float64\n",
      " 11  dst_feat3   656100 non-null  float64\n",
      " 12  dst_feat4   656100 non-null  float64\n",
      " 13  dst_feat5   656100 non-null  float64\n",
      " 14  dst_feat43  656100 non-null  float64\n",
      " 15  dst_feat44  656100 non-null  float64\n",
      " 16  dst_feat45  656100 non-null  float64\n",
      " 17  dst_feat46  656100 non-null  float64\n",
      " 18  dst_feat47  656100 non-null  float64\n",
      " 19  dst_feat48  656100 non-null  float64\n",
      "dtypes: float64(15), int32(3), object(2)\n",
      "memory usage: 97.6+ MB\n",
      "CPU times: user 96.9 ms, sys: 0 ns, total: 96.9 ms\n",
      "Wall time: 95.9 ms\n"
     ]
    }
   ],
   "source": [
    "%%time\n",
    "#simulation.generate_fourier_df()\n",
    "if simulation.fourier_mode is not None:\n",
    "    simulation.fourier_dataframe.info() \n",
    "    simulation.fourier_dataframe.sample(15)\n"
   ]
  },
  {
   "cell_type": "code",
   "execution_count": 6,
   "metadata": {
    "execution": {
     "iopub.execute_input": "2020-07-18T17:10:20.205318Z",
     "iopub.status.busy": "2020-07-18T17:10:20.204976Z",
     "iopub.status.idle": "2020-07-18T17:10:20.221365Z",
     "shell.execute_reply": "2020-07-18T17:10:20.221771Z"
    },
    "papermill": {
     "duration": 0.037903,
     "end_time": "2020-07-18T17:10:20.221852",
     "exception": false,
     "start_time": "2020-07-18T17:10:20.183949",
     "status": "completed"
    },
    "tags": []
   },
   "outputs": [
    {
     "name": "stdout",
     "output_type": "stream",
     "text": [
      "features_to_use: \n",
      "\n",
      "\n",
      "None\n",
      "\n",
      "\n",
      "fourier_features: \n",
      "\n",
      "\n",
      "['dst_feat0', 'dst_feat1', 'dst_feat2', 'dst_feat3', 'dst_feat4', 'dst_feat5', 'dst_feat43', 'dst_feat44', 'dst_feat45', 'dst_feat46', 'dst_feat47', 'dst_feat48']\n",
      "\n",
      "\n",
      "Number of Fourier features: \n",
      "\n",
      "\n",
      "12\n",
      "\n",
      "\n",
      "Fourier operator: \n",
      "[[ 1.25581039e-01  2.50666467e-01  3.74762629e-01  4.97379774e-01\n",
      "   6.18033989e-01  7.36249105e-01  7.36249105e-01  6.18033989e-01\n",
      "   4.97379774e-01  3.74762629e-01  2.50666467e-01  1.25581039e-01]\n",
      " [ 2.50666467e-01  4.97379774e-01  7.36249105e-01  9.63507348e-01\n",
      "   1.17557050e+00  1.36909421e+00 -1.36909421e+00 -1.17557050e+00\n",
      "  -9.63507348e-01 -7.36249105e-01 -4.97379774e-01 -2.50666467e-01]\n",
      " [ 3.74762629e-01  7.36249105e-01  1.07165359e+00  1.36909421e+00\n",
      "   1.61803399e+00  1.80965410e+00  1.80965410e+00  1.61803399e+00\n",
      "   1.36909421e+00  1.07165359e+00  7.36249105e-01  3.74762629e-01]\n",
      " [ 4.97379774e-01  9.63507348e-01  1.36909421e+00  1.68865585e+00\n",
      "   1.90211303e+00  1.99605346e+00 -1.99605346e+00 -1.90211303e+00\n",
      "  -1.68865585e+00 -1.36909421e+00 -9.63507348e-01 -4.97379774e-01]\n",
      " [ 6.18033989e-01  1.17557050e+00  1.61803399e+00  1.90211303e+00\n",
      "   2.00000000e+00  1.90211303e+00  1.90211303e+00  2.00000000e+00\n",
      "   1.90211303e+00  1.61803399e+00  1.17557050e+00  6.18033989e-01]\n",
      " [ 7.36249105e-01  1.36909421e+00  1.80965410e+00  1.99605346e+00\n",
      "   1.90211303e+00  1.54102649e+00 -1.54102649e+00 -1.90211303e+00\n",
      "  -1.99605346e+00 -1.80965410e+00 -1.36909421e+00 -7.36249105e-01]\n",
      " [ 8.51558583e-01  1.54102649e+00  1.93716632e+00  1.96457450e+00\n",
      "   1.61803399e+00  9.63507348e-01  9.63507348e-01  1.61803399e+00\n",
      "   1.96457450e+00  1.93716632e+00  1.54102649e+00  8.51558583e-01]\n",
      " [ 9.63507348e-01  1.68865585e+00  1.99605346e+00  1.80965410e+00\n",
      "   1.17557050e+00  2.50666467e-01 -2.50666467e-01 -1.17557050e+00\n",
      "  -1.80965410e+00 -1.99605346e+00 -1.68865585e+00 -9.63507348e-01]\n",
      " [ 1.07165359e+00  1.80965410e+00  1.98422940e+00  1.54102649e+00\n",
      "   6.18033989e-01 -4.97379774e-01 -4.97379774e-01  6.18033989e-01\n",
      "   1.54102649e+00  1.98422940e+00  1.80965410e+00  1.07165359e+00]\n",
      " [ 1.17557050e+00  1.90211303e+00  1.90211303e+00  1.17557050e+00\n",
      "  -6.43249060e-16 -1.17557050e+00  1.17557050e+00 -4.90106312e-15\n",
      "  -1.17557050e+00 -1.90211303e+00 -1.90211303e+00 -1.17557050e+00]\n",
      " [ 1.27484798e+00  1.96457450e+00  1.75261336e+00  7.36249105e-01\n",
      "  -6.18033989e-01 -1.68865585e+00 -1.68865585e+00 -6.18033989e-01\n",
      "   7.36249105e-01  1.75261336e+00  1.96457450e+00  1.27484798e+00]\n",
      " [ 1.36909421e+00  1.99605346e+00  1.54102649e+00  2.50666467e-01\n",
      "  -1.17557050e+00 -1.96457450e+00  1.96457450e+00  1.17557050e+00\n",
      "  -2.50666467e-01 -1.54102649e+00 -1.99605346e+00 -1.36909421e+00]\n",
      " [ 1.45793725e+00  1.99605346e+00  1.27484798e+00 -2.50666467e-01\n",
      "  -1.61803399e+00 -1.96457450e+00 -1.96457450e+00 -1.61803399e+00\n",
      "  -2.50666467e-01  1.27484798e+00  1.99605346e+00  1.45793725e+00]\n",
      " [ 1.54102649e+00  1.96457450e+00  9.63507348e-01 -7.36249105e-01\n",
      "  -1.90211303e+00 -1.68865585e+00  1.68865585e+00  1.90211303e+00\n",
      "   7.36249105e-01 -9.63507348e-01 -1.96457450e+00 -1.54102649e+00]\n",
      " [ 1.61803399e+00  1.90211303e+00  6.18033989e-01 -1.17557050e+00\n",
      "  -2.00000000e+00 -1.17557050e+00 -1.17557050e+00 -2.00000000e+00\n",
      "  -1.17557050e+00  6.18033989e-01  1.90211303e+00  1.61803399e+00]\n",
      " [ 1.68865585e+00  1.80965410e+00  2.50666467e-01 -1.54102649e+00\n",
      "  -1.90211303e+00 -4.97379774e-01  4.97379774e-01  1.90211303e+00\n",
      "   1.54102649e+00 -2.50666467e-01 -1.80965410e+00 -1.68865585e+00]\n",
      " [ 1.75261336e+00  1.68865585e+00 -1.25581039e-01 -1.80965410e+00\n",
      "  -1.61803399e+00  2.50666467e-01  2.50666467e-01 -1.61803399e+00\n",
      "  -1.80965410e+00 -1.25581039e-01  1.68865585e+00  1.75261336e+00]\n",
      " [ 1.80965410e+00  1.54102649e+00 -4.97379774e-01 -1.96457450e+00\n",
      "  -1.17557050e+00  9.63507348e-01 -9.63507348e-01  1.17557050e+00\n",
      "   1.96457450e+00  4.97379774e-01 -1.54102649e+00 -1.80965410e+00]\n",
      " [ 1.85955297e+00  1.36909421e+00 -8.51558583e-01 -1.99605346e+00\n",
      "  -6.18033989e-01  1.54102649e+00  1.54102649e+00 -6.18033989e-01\n",
      "  -1.99605346e+00 -8.51558583e-01  1.36909421e+00  1.85955297e+00]\n",
      " [ 1.90211303e+00  1.17557050e+00 -1.17557050e+00 -1.90211303e+00\n",
      "   1.28649812e-15  1.90211303e+00 -1.90211303e+00  9.80212624e-15\n",
      "   1.90211303e+00  1.17557050e+00 -1.17557050e+00 -1.90211303e+00]\n",
      " [ 1.93716632e+00  9.63507348e-01 -1.45793725e+00 -1.68865585e+00\n",
      "   6.18033989e-01  1.99605346e+00  1.99605346e+00  6.18033989e-01\n",
      "  -1.68865585e+00 -1.45793725e+00  9.63507348e-01  1.93716632e+00]\n",
      " [ 1.96457450e+00  7.36249105e-01 -1.68865585e+00 -1.36909421e+00\n",
      "   1.17557050e+00  1.80965410e+00 -1.80965410e+00 -1.17557050e+00\n",
      "   1.36909421e+00  1.68865585e+00 -7.36249105e-01 -1.96457450e+00]\n",
      " [ 1.98422940e+00  4.97379774e-01 -1.85955297e+00 -9.63507348e-01\n",
      "   1.61803399e+00  1.36909421e+00  1.36909421e+00  1.61803399e+00\n",
      "  -9.63507348e-01 -1.85955297e+00  4.97379774e-01  1.98422940e+00]\n",
      " [ 1.99605346e+00  2.50666467e-01 -1.96457450e+00 -4.97379774e-01\n",
      "   1.90211303e+00  7.36249105e-01 -7.36249105e-01 -1.90211303e+00\n",
      "   4.97379774e-01  1.96457450e+00 -2.50666467e-01 -1.99605346e+00]\n",
      " [ 2.00000000e+00 -6.43249060e-16 -2.00000000e+00  1.28649812e-15\n",
      "   2.00000000e+00  7.34788079e-16  8.82240880e-15  2.00000000e+00\n",
      "  -1.56829068e-14 -2.00000000e+00 -5.87830464e-15  2.00000000e+00]\n",
      " [ 1.99605346e+00 -2.50666467e-01 -1.96457450e+00  4.97379774e-01\n",
      "   1.90211303e+00 -7.36249105e-01  7.36249105e-01 -1.90211303e+00\n",
      "  -4.97379774e-01  1.96457450e+00  2.50666467e-01 -1.99605346e+00]\n",
      " [ 1.98422940e+00 -4.97379774e-01 -1.85955297e+00  9.63507348e-01\n",
      "   1.61803399e+00 -1.36909421e+00 -1.36909421e+00  1.61803399e+00\n",
      "   9.63507348e-01 -1.85955297e+00 -4.97379774e-01  1.98422940e+00]\n",
      " [ 1.96457450e+00 -7.36249105e-01 -1.68865585e+00  1.36909421e+00\n",
      "   1.17557050e+00 -1.80965410e+00  1.80965410e+00 -1.17557050e+00\n",
      "  -1.36909421e+00  1.68865585e+00  7.36249105e-01 -1.96457450e+00]\n",
      " [ 1.93716632e+00 -9.63507348e-01 -1.45793725e+00  1.68865585e+00\n",
      "   6.18033989e-01 -1.99605346e+00 -1.99605346e+00  6.18033989e-01\n",
      "   1.68865585e+00 -1.45793725e+00 -9.63507348e-01  1.93716632e+00]\n",
      " [ 1.90211303e+00 -1.17557050e+00 -1.17557050e+00  1.90211303e+00\n",
      "   7.34788079e-16 -1.90211303e+00  1.90211303e+00 -1.47031894e-14\n",
      "  -1.90211303e+00  1.17557050e+00  1.17557050e+00 -1.90211303e+00]\n",
      " [ 1.85955297e+00 -1.36909421e+00 -8.51558583e-01  1.99605346e+00\n",
      "  -6.18033989e-01 -1.54102649e+00 -1.54102649e+00 -6.18033989e-01\n",
      "   1.99605346e+00 -8.51558583e-01 -1.36909421e+00  1.85955297e+00]\n",
      " [ 1.80965410e+00 -1.54102649e+00 -4.97379774e-01  1.96457450e+00\n",
      "  -1.17557050e+00 -9.63507348e-01  9.63507348e-01  1.17557050e+00\n",
      "  -1.96457450e+00  4.97379774e-01  1.54102649e+00 -1.80965410e+00]\n",
      " [ 1.75261336e+00 -1.68865585e+00 -1.25581039e-01  1.80965410e+00\n",
      "  -1.61803399e+00 -2.50666467e-01 -2.50666467e-01 -1.61803399e+00\n",
      "   1.80965410e+00 -1.25581039e-01 -1.68865585e+00  1.75261336e+00]\n",
      " [ 1.68865585e+00 -1.80965410e+00  2.50666467e-01  1.54102649e+00\n",
      "  -1.90211303e+00  4.97379774e-01 -4.97379774e-01  1.90211303e+00\n",
      "  -1.54102649e+00 -2.50666467e-01  1.80965410e+00 -1.68865585e+00]\n",
      " [ 1.61803399e+00 -1.90211303e+00  6.18033989e-01  1.17557050e+00\n",
      "  -2.00000000e+00  1.17557050e+00  1.17557050e+00 -2.00000000e+00\n",
      "   1.17557050e+00  6.18033989e-01 -1.90211303e+00  1.61803399e+00]\n",
      " [ 1.54102649e+00 -1.96457450e+00  9.63507348e-01  7.36249105e-01\n",
      "  -1.90211303e+00  1.68865585e+00 -1.68865585e+00  1.90211303e+00\n",
      "  -7.36249105e-01 -9.63507348e-01  1.96457450e+00 -1.54102649e+00]\n",
      " [ 1.45793725e+00 -1.99605346e+00  1.27484798e+00  2.50666467e-01\n",
      "  -1.61803399e+00  1.96457450e+00  1.96457450e+00 -1.61803399e+00\n",
      "   2.50666467e-01  1.27484798e+00 -1.99605346e+00  1.45793725e+00]\n",
      " [ 1.36909421e+00 -1.99605346e+00  1.54102649e+00 -2.50666467e-01\n",
      "  -1.17557050e+00  1.96457450e+00 -1.96457450e+00  1.17557050e+00\n",
      "   2.50666467e-01 -1.54102649e+00  1.99605346e+00 -1.36909421e+00]\n",
      " [ 1.27484798e+00 -1.96457450e+00  1.75261336e+00 -7.36249105e-01\n",
      "  -6.18033989e-01  1.68865585e+00  1.68865585e+00 -6.18033989e-01\n",
      "  -7.36249105e-01  1.75261336e+00 -1.96457450e+00  1.27484798e+00]\n",
      " [ 1.17557050e+00 -1.90211303e+00  1.90211303e+00 -1.17557050e+00\n",
      "   2.57299624e-15  1.17557050e+00 -1.17557050e+00  1.96042525e-14\n",
      "   1.17557050e+00 -1.90211303e+00  1.90211303e+00 -1.17557050e+00]\n",
      " [ 1.07165359e+00 -1.80965410e+00  1.98422940e+00 -1.54102649e+00\n",
      "   6.18033989e-01  4.97379774e-01  4.97379774e-01  6.18033989e-01\n",
      "  -1.54102649e+00  1.98422940e+00 -1.80965410e+00  1.07165359e+00]\n",
      " [ 9.63507348e-01 -1.68865585e+00  1.99605346e+00 -1.80965410e+00\n",
      "   1.17557050e+00 -2.50666467e-01  2.50666467e-01 -1.17557050e+00\n",
      "   1.80965410e+00 -1.99605346e+00  1.68865585e+00 -9.63507348e-01]\n",
      " [ 8.51558583e-01 -1.54102649e+00  1.93716632e+00 -1.96457450e+00\n",
      "   1.61803399e+00 -9.63507348e-01 -9.63507348e-01  1.61803399e+00\n",
      "  -1.96457450e+00  1.93716632e+00 -1.54102649e+00  8.51558583e-01]\n",
      " [ 7.36249105e-01 -1.36909421e+00  1.80965410e+00 -1.99605346e+00\n",
      "   1.90211303e+00 -1.54102649e+00  1.54102649e+00 -1.90211303e+00\n",
      "   1.99605346e+00 -1.80965410e+00  1.36909421e+00 -7.36249105e-01]\n",
      " [ 6.18033989e-01 -1.17557050e+00  1.61803399e+00 -1.90211303e+00\n",
      "   2.00000000e+00 -1.90211303e+00 -1.90211303e+00  2.00000000e+00\n",
      "  -1.90211303e+00  1.61803399e+00 -1.17557050e+00  6.18033989e-01]\n",
      " [ 4.97379774e-01 -9.63507348e-01  1.36909421e+00 -1.68865585e+00\n",
      "   1.90211303e+00 -1.99605346e+00  1.99605346e+00 -1.90211303e+00\n",
      "   1.68865585e+00 -1.36909421e+00  9.63507348e-01 -4.97379774e-01]\n",
      " [ 3.74762629e-01 -7.36249105e-01  1.07165359e+00 -1.36909421e+00\n",
      "   1.61803399e+00 -1.80965410e+00 -1.80965410e+00  1.61803399e+00\n",
      "  -1.36909421e+00  1.07165359e+00 -7.36249105e-01  3.74762629e-01]\n",
      " [ 2.50666467e-01 -4.97379774e-01  7.36249105e-01 -9.63507348e-01\n",
      "   1.17557050e+00 -1.36909421e+00  1.36909421e+00 -1.17557050e+00\n",
      "   9.63507348e-01 -7.36249105e-01  4.97379774e-01 -2.50666467e-01]\n",
      " [ 1.25581039e-01 -2.50666467e-01  3.74762629e-01 -4.97379774e-01\n",
      "   6.18033989e-01 -7.36249105e-01 -7.36249105e-01  6.18033989e-01\n",
      "  -4.97379774e-01  3.74762629e-01 -2.50666467e-01  1.25581039e-01]]\n",
      "\n",
      "\n",
      "Shape of Fourier operator: \n",
      "(49, 12)\n"
     ]
    }
   ],
   "source": [
    "print(\"features_to_use: \")\n",
    "print(\"\\n\")\n",
    "print(simulation.features_to_use)\n",
    "if simulation.features_to_use is not None:\n",
    "    print(\"Number of real space features:\")\n",
    "    print(\"\\n\")\n",
    "    print(len(simulation.features_to_use))\n",
    "print(\"\\n\")\n",
    "print(\"fourier_features: \")\n",
    "print(\"\\n\")\n",
    "print(simulation.fourier_features)\n",
    "print(\"\\n\")\n",
    "if simulation.fourier_features is not None:\n",
    "    print(\"Number of Fourier features: \")\n",
    "    print(\"\\n\")\n",
    "    print(len(simulation.fourier_features))\n",
    "print(\"\\n\")\n",
    "print(\"Fourier operator: \")\n",
    "print(simulation.fourier_operator)\n",
    "print(\"\\n\")\n",
    "if simulation.fourier_operator is not None:\n",
    "    print(\"Shape of Fourier operator: \")\n",
    "    print(simulation.fourier_operator.shape)"
   ]
  },
  {
   "cell_type": "code",
   "execution_count": 7,
   "metadata": {
    "execution": {
     "iopub.execute_input": "2020-07-18T17:10:20.261276Z",
     "iopub.status.busy": "2020-07-18T17:10:20.260786Z",
     "iopub.status.idle": "2020-07-18T17:10:20.277834Z",
     "shell.execute_reply": "2020-07-18T17:10:20.278157Z"
    },
    "papermill": {
     "duration": 0.037761,
     "end_time": "2020-07-18T17:10:20.278224",
     "exception": false,
     "start_time": "2020-07-18T17:10:20.240463",
     "status": "completed"
    },
    "tags": []
   },
   "outputs": [],
   "source": [
    "#a = np.array([1+1j,2+3j,4+8j])\n",
    "#np.imag(a)"
   ]
  },
  {
   "cell_type": "code",
   "execution_count": 8,
   "metadata": {
    "execution": {
     "iopub.execute_input": "2020-07-18T17:10:20.318751Z",
     "iopub.status.busy": "2020-07-18T17:10:20.318439Z",
     "iopub.status.idle": "2020-07-18T17:10:20.431995Z",
     "shell.execute_reply": "2020-07-18T17:10:20.433470Z"
    },
    "papermill": {
     "duration": 0.136676,
     "end_time": "2020-07-18T17:10:20.433786",
     "exception": false,
     "start_time": "2020-07-18T17:10:20.297110",
     "status": "completed"
    },
    "tags": []
   },
   "outputs": [],
   "source": [
    "#plt.plot(np.imag(simulation.fourier_operator[:,0]))"
   ]
  },
  {
   "cell_type": "code",
   "execution_count": 9,
   "metadata": {
    "execution": {
     "iopub.execute_input": "2020-07-18T17:10:20.515467Z",
     "iopub.status.busy": "2020-07-18T17:10:20.515142Z",
     "iopub.status.idle": "2020-07-18T17:10:20.524811Z",
     "shell.execute_reply": "2020-07-18T17:10:20.525130Z"
    },
    "papermill": {
     "duration": 0.033729,
     "end_time": "2020-07-18T17:10:20.525199",
     "exception": false,
     "start_time": "2020-07-18T17:10:20.491470",
     "status": "completed"
    },
    "tags": []
   },
   "outputs": [],
   "source": [
    "#np.sin(np.pi/(50))*2"
   ]
  },
  {
   "cell_type": "code",
   "execution_count": 10,
   "metadata": {
    "execution": {
     "iopub.execute_input": "2020-07-18T17:10:20.564057Z",
     "iopub.status.busy": "2020-07-18T17:10:20.563738Z",
     "iopub.status.idle": "2020-07-18T17:10:20.633198Z",
     "shell.execute_reply": "2020-07-18T17:10:20.632618Z"
    },
    "papermill": {
     "duration": 0.089717,
     "end_time": "2020-07-18T17:10:20.633303",
     "exception": false,
     "start_time": "2020-07-18T17:10:20.543586",
     "status": "completed"
    },
    "tags": []
   },
   "outputs": [],
   "source": [
    "#2*np.sin(np.pi/50*49)"
   ]
  },
  {
   "cell_type": "code",
   "execution_count": 11,
   "metadata": {
    "execution": {
     "iopub.execute_input": "2020-07-18T17:10:20.700186Z",
     "iopub.status.busy": "2020-07-18T17:10:20.699859Z",
     "iopub.status.idle": "2020-07-18T17:10:20.709452Z",
     "shell.execute_reply": "2020-07-18T17:10:20.709121Z"
    },
    "papermill": {
     "duration": 0.034781,
     "end_time": "2020-07-18T17:10:20.709505",
     "exception": false,
     "start_time": "2020-07-18T17:10:20.674724",
     "status": "completed"
    },
    "tags": []
   },
   "outputs": [],
   "source": [
    "#simulation.dataframe.iloc[331456,:]"
   ]
  },
  {
   "cell_type": "code",
   "execution_count": 12,
   "metadata": {
    "execution": {
     "iopub.execute_input": "2020-07-18T17:10:20.747884Z",
     "iopub.status.busy": "2020-07-18T17:10:20.747573Z",
     "iopub.status.idle": "2020-07-18T17:10:20.817565Z",
     "shell.execute_reply": "2020-07-18T17:10:20.816738Z"
    },
    "papermill": {
     "duration": 0.090345,
     "end_time": "2020-07-18T17:10:20.817686",
     "exception": false,
     "start_time": "2020-07-18T17:10:20.727341",
     "status": "completed"
    },
    "tags": []
   },
   "outputs": [],
   "source": [
    "#for ix, obj in enumerate(simulation.dataframe.iloc[331456,:].values):\n",
    "#    print(ix,obj)"
   ]
  },
  {
   "cell_type": "code",
   "execution_count": 13,
   "metadata": {
    "execution": {
     "iopub.execute_input": "2020-07-18T17:10:20.891927Z",
     "iopub.status.busy": "2020-07-18T17:10:20.891620Z",
     "iopub.status.idle": "2020-07-18T17:10:20.901559Z",
     "shell.execute_reply": "2020-07-18T17:10:20.901823Z"
    },
    "papermill": {
     "duration": 0.033041,
     "end_time": "2020-07-18T17:10:20.901894",
     "exception": false,
     "start_time": "2020-07-18T17:10:20.868853",
     "status": "completed"
    },
    "tags": []
   },
   "outputs": [],
   "source": [
    "#simulation.fourier_engineered_dataframe.dct_feat0"
   ]
  },
  {
   "cell_type": "code",
   "execution_count": 14,
   "metadata": {
    "execution": {
     "iopub.execute_input": "2020-07-18T17:10:20.940502Z",
     "iopub.status.busy": "2020-07-18T17:10:20.940178Z",
     "iopub.status.idle": "2020-07-18T17:10:21.008189Z",
     "shell.execute_reply": "2020-07-18T17:10:21.007442Z"
    },
    "papermill": {
     "duration": 0.087612,
     "end_time": "2020-07-18T17:10:21.008294",
     "exception": false,
     "start_time": "2020-07-18T17:10:20.920682",
     "status": "completed"
    },
    "tags": []
   },
   "outputs": [],
   "source": [
    "#simulation.features"
   ]
  },
  {
   "cell_type": "code",
   "execution_count": 15,
   "metadata": {
    "execution": {
     "iopub.execute_input": "2020-07-18T17:10:21.073800Z",
     "iopub.status.busy": "2020-07-18T17:10:21.073475Z",
     "iopub.status.idle": "2020-07-18T17:10:21.086581Z",
     "shell.execute_reply": "2020-07-18T17:10:21.086211Z"
    },
    "papermill": {
     "duration": 0.036514,
     "end_time": "2020-07-18T17:10:21.086635",
     "exception": false,
     "start_time": "2020-07-18T17:10:21.050121",
     "status": "completed"
    },
    "tags": []
   },
   "outputs": [],
   "source": [
    "#simulation.fourier_matrix"
   ]
  },
  {
   "cell_type": "code",
   "execution_count": 16,
   "metadata": {
    "execution": {
     "iopub.execute_input": "2020-07-18T17:10:21.124964Z",
     "iopub.status.busy": "2020-07-18T17:10:21.124650Z",
     "iopub.status.idle": "2020-07-18T17:10:21.209870Z",
     "shell.execute_reply": "2020-07-18T17:10:21.211054Z"
    },
    "papermill": {
     "duration": 0.106502,
     "end_time": "2020-07-18T17:10:21.211270",
     "exception": false,
     "start_time": "2020-07-18T17:10:21.104768",
     "status": "completed"
    },
    "tags": []
   },
   "outputs": [],
   "source": [
    "#1/simulation.n_features*simulation.dataframe.loc[:,simulation.features].sum(axis=1)"
   ]
  },
  {
   "cell_type": "code",
   "execution_count": 17,
   "metadata": {
    "execution": {
     "iopub.execute_input": "2020-07-18T17:10:21.287867Z",
     "iopub.status.busy": "2020-07-18T17:10:21.287555Z",
     "iopub.status.idle": "2020-07-18T17:10:21.296882Z",
     "shell.execute_reply": "2020-07-18T17:10:21.297187Z"
    },
    "papermill": {
     "duration": 0.031855,
     "end_time": "2020-07-18T17:10:21.297253",
     "exception": false,
     "start_time": "2020-07-18T17:10:21.265398",
     "status": "completed"
    },
    "tags": []
   },
   "outputs": [],
   "source": [
    "#df_2 = simulation.fourier_engineered_dataframe[simulation.fourier_engineered_dataframe.phase==2]\n",
    "#df_2.describe()"
   ]
  },
  {
   "cell_type": "code",
   "execution_count": 18,
   "metadata": {
    "execution": {
     "iopub.execute_input": "2020-07-18T17:10:21.335564Z",
     "iopub.status.busy": "2020-07-18T17:10:21.335245Z",
     "iopub.status.idle": "2020-07-18T17:10:21.399503Z",
     "shell.execute_reply": "2020-07-18T17:10:21.398877Z"
    },
    "papermill": {
     "duration": 0.08404,
     "end_time": "2020-07-18T17:10:21.399595",
     "exception": false,
     "start_time": "2020-07-18T17:10:21.315555",
     "status": "completed"
    },
    "tags": []
   },
   "outputs": [],
   "source": [
    "#df_1 = simulation.fourier_engineered_dataframe[simulation.fourier_engineered_dataframe.phase==1]\n",
    "#df_1.describe()"
   ]
  },
  {
   "cell_type": "code",
   "execution_count": 19,
   "metadata": {
    "execution": {
     "iopub.execute_input": "2020-07-18T17:10:21.460514Z",
     "iopub.status.busy": "2020-07-18T17:10:21.460190Z",
     "iopub.status.idle": "2020-07-18T17:10:21.477789Z",
     "shell.execute_reply": "2020-07-18T17:10:21.478109Z"
    },
    "papermill": {
     "duration": 0.041068,
     "end_time": "2020-07-18T17:10:21.478178",
     "exception": false,
     "start_time": "2020-07-18T17:10:21.437110",
     "status": "completed"
    },
    "tags": []
   },
   "outputs": [],
   "source": [
    "#df_0 = simulation.fourier_engineered_dataframe[simulation.fourier_engineered_dataframe.phase==0]\n",
    "#df_0.describe()"
   ]
  },
  {
   "cell_type": "code",
   "execution_count": 20,
   "metadata": {
    "execution": {
     "iopub.execute_input": "2020-07-18T17:10:21.516268Z",
     "iopub.status.busy": "2020-07-18T17:10:21.515956Z",
     "iopub.status.idle": "2020-07-18T17:10:21.605079Z",
     "shell.execute_reply": "2020-07-18T17:10:21.606474Z"
    },
    "papermill": {
     "duration": 0.110212,
     "end_time": "2020-07-18T17:10:21.606780",
     "exception": false,
     "start_time": "2020-07-18T17:10:21.496568",
     "status": "completed"
    },
    "tags": []
   },
   "outputs": [],
   "source": [
    "#plt.figure(figsize=(10,10))\n",
    "#plt.scatter(df_1.fourier_feat0,df_1.fourier_feat2)\n",
    "#plt.scatter(df_0.fourier_feat0,df_0.fourier_feat2,alpha=0.4)"
   ]
  },
  {
   "cell_type": "code",
   "execution_count": 21,
   "metadata": {
    "execution": {
     "iopub.execute_input": "2020-07-18T17:10:21.684875Z",
     "iopub.status.busy": "2020-07-18T17:10:21.684539Z",
     "iopub.status.idle": "2020-07-18T17:10:21.695019Z",
     "shell.execute_reply": "2020-07-18T17:10:21.695284Z"
    },
    "papermill": {
     "duration": 0.033039,
     "end_time": "2020-07-18T17:10:21.695355",
     "exception": false,
     "start_time": "2020-07-18T17:10:21.662316",
     "status": "completed"
    },
    "tags": []
   },
   "outputs": [],
   "source": [
    "#plt.scatter(df_0.fourier_feat0,df_0.fourier_feat2,alpha=0.4)"
   ]
  },
  {
   "cell_type": "code",
   "execution_count": 22,
   "metadata": {
    "execution": {
     "iopub.execute_input": "2020-07-18T17:10:21.733112Z",
     "iopub.status.busy": "2020-07-18T17:10:21.732792Z",
     "iopub.status.idle": "2020-07-18T17:10:21.806488Z",
     "shell.execute_reply": "2020-07-18T17:10:21.804652Z"
    },
    "papermill": {
     "duration": 0.093509,
     "end_time": "2020-07-18T17:10:21.806737",
     "exception": false,
     "start_time": "2020-07-18T17:10:21.713228",
     "status": "completed"
    },
    "tags": []
   },
   "outputs": [],
   "source": [
    "#plt.scatter(df_2.fourier_feat0,df_2.fourier_feat2)"
   ]
  },
  {
   "cell_type": "code",
   "execution_count": 23,
   "metadata": {
    "execution": {
     "iopub.execute_input": "2020-07-18T17:10:21.885307Z",
     "iopub.status.busy": "2020-07-18T17:10:21.884980Z",
     "iopub.status.idle": "2020-07-18T17:10:21.895048Z",
     "shell.execute_reply": "2020-07-18T17:10:21.894762Z"
    },
    "papermill": {
     "duration": 0.032246,
     "end_time": "2020-07-18T17:10:21.895102",
     "exception": false,
     "start_time": "2020-07-18T17:10:21.862856",
     "status": "completed"
    },
    "tags": []
   },
   "outputs": [],
   "source": [
    "#df_1.hist(figsize=(15,15))"
   ]
  },
  {
   "cell_type": "code",
   "execution_count": 24,
   "metadata": {
    "execution": {
     "iopub.execute_input": "2020-07-18T17:10:21.937900Z",
     "iopub.status.busy": "2020-07-18T17:10:21.937592Z",
     "iopub.status.idle": "2020-07-18T17:10:21.998982Z",
     "shell.execute_reply": "2020-07-18T17:10:21.998435Z"
    },
    "papermill": {
     "duration": 0.083046,
     "end_time": "2020-07-18T17:10:21.999063",
     "exception": false,
     "start_time": "2020-07-18T17:10:21.916017",
     "status": "completed"
    },
    "tags": []
   },
   "outputs": [],
   "source": [
    "#df_0.hist(figsize=(15,15))"
   ]
  },
  {
   "cell_type": "markdown",
   "metadata": {
    "papermill": {
     "duration": 0.021949,
     "end_time": "2020-07-18T17:10:22.055117",
     "exception": false,
     "start_time": "2020-07-18T17:10:22.033168",
     "status": "completed"
    },
    "tags": []
   },
   "source": [
    "#### Checking initialization"
   ]
  },
  {
   "cell_type": "code",
   "execution_count": 25,
   "metadata": {
    "execution": {
     "iopub.execute_input": "2020-07-18T17:10:22.095123Z",
     "iopub.status.busy": "2020-07-18T17:10:22.094706Z",
     "iopub.status.idle": "2020-07-18T17:10:22.105618Z",
     "shell.execute_reply": "2020-07-18T17:10:22.105919Z"
    },
    "papermill": {
     "duration": 0.032594,
     "end_time": "2020-07-18T17:10:22.105984",
     "exception": false,
     "start_time": "2020-07-18T17:10:22.073390",
     "status": "completed"
    },
    "tags": []
   },
   "outputs": [
    {
     "name": "stdout",
     "output_type": "stream",
     "text": [
      "n_features:  100\n",
      "n_hamiltonians:  6561\n",
      "n_ts:  2\n",
      "CPU times: user 165 µs, sys: 36 µs, total: 201 µs\n",
      "Wall time: 121 µs\n"
     ]
    }
   ],
   "source": [
    "%%time\n",
    "n_features = simulation.n_features\n",
    "n_hamiltonians = simulation.n_hamiltonians\n",
    "n_ts = simulation.n_ts\n",
    "\n",
    "print(\"n_features: \", n_features)\n",
    "print(\"n_hamiltonians: \", n_hamiltonians)\n",
    "print(\"n_ts: \", n_ts)"
   ]
  },
  {
   "cell_type": "code",
   "execution_count": 26,
   "metadata": {
    "execution": {
     "iopub.execute_input": "2020-07-18T17:10:22.237268Z",
     "iopub.status.busy": "2020-07-18T17:10:22.235592Z",
     "iopub.status.idle": "2020-07-18T17:10:22.524485Z",
     "shell.execute_reply": "2020-07-18T17:10:22.524154Z"
    },
    "papermill": {
     "duration": 0.400193,
     "end_time": "2020-07-18T17:10:22.524536",
     "exception": false,
     "start_time": "2020-07-18T17:10:22.124343",
     "status": "completed"
    },
    "tags": []
   },
   "outputs": [
    {
     "name": "stdout",
     "output_type": "stream",
     "text": [
      "% train:  0.8414875781130925\n",
      "% val:  0.0\n",
      "% test:  0.15851242188690748\n",
      "% train + val + test:  1.0\n",
      "\n",
      "\n",
      "number of train hamiltonians:  5521\n",
      "number of val hamiltonians:  0\n",
      "number of test hamiltonians:  1040\n",
      "total number of hamiltonians:  6561\n",
      "\n",
      "\n",
      "train ids:  [13, 14, 15, 16, 17, 18, 19, 20, 21, 22, 23, 24, 25, 26, 27, 28, 29, 30, 31, 32, 33, 34, 35, 36, 37, 38, 39, 41, 42, 43, 44, 45, 46, 47, 48, 49, 50, 51, 52, 53, 54, 55, 56, 57, 58, 59, 60, 61, 62, 63, 64, 65, 66, 67, 68, 69, 70, 71, 72, 73, 74, 75, 76, 77, 78, 79, 80, 95, 96, 97, 98, 99, 100, 101, 102, 103, 104, 105, 106, 107, 108, 109, 110, 111, 112, 113, 114, 115, 116, 117, 118, 119, 121, 122, 123, 124, 125, 126, 127, 128, 129, 130, 131, 132, 133, 134, 135, 136, 137, 138, 139, 140, 141, 142, 143, 144, 145, 146, 147, 148, 149, 150, 151, 152, 153, 154, 155, 156, 157, 158, 159, 160, 161, 176, 177, 178, 179, 180, 181, 182, 183, 184, 185, 186, 187, 188, 189, 190, 191, 192, 193, 194, 195, 196, 197, 198, 199, 201, 202, 203, 204, 205, 206, 207, 208, 209, 210, 211, 212, 213, 214, 215, 216, 217, 218, 219, 220, 221, 222, 223, 224, 225, 226, 227, 228, 229, 230, 231, 232, 233, 234, 235, 236, 237, 238, 239, 240, 241, 242, 258, 259, 260, 261, 262, 263, 264, 265, 266, 267, 268, 269, 270, 271, 272, 273, 274, 275, 276, 277, 278, 279, 281, 282, 283, 284, 285, 286, 287, 288, 289, 290, 291, 292, 293, 294, 295, 296, 297, 298, 299, 300, 301, 302, 303, 304, 305, 306, 307, 308, 309, 310, 311, 312, 313, 314, 315, 316, 317, 318, 319, 320, 321, 322, 323, 340, 341, 342, 343, 344, 345, 346, 347, 348, 349, 350, 351, 352, 353, 354, 355, 356, 357, 358, 359, 361, 362, 363, 364, 365, 366, 367, 368, 369, 370, 371, 372, 373, 374, 375, 376, 377, 378, 379, 380, 381, 382, 383, 384, 385, 386, 387, 388, 389, 390, 391, 392, 393, 394, 395, 396, 397, 398, 399, 400, 401, 402, 403, 404, 422, 423, 424, 425, 426, 427, 428, 429, 430, 431, 432, 433, 434, 435, 436, 437, 438, 439, 441, 442, 443, 444, 445, 446, 447, 448, 449, 450, 451, 452, 453, 454, 455, 456, 457, 458, 459, 460, 461, 462, 463, 464, 465, 466, 467, 468, 469, 470, 471, 472, 473, 474, 475, 476, 477, 478, 479, 480, 481, 482, 483, 484, 485, 503, 504, 505, 506, 507, 508, 509, 510, 511, 512, 513, 514, 515, 516, 517, 518, 519, 521, 522, 523, 524, 525, 526, 527, 528, 529, 530, 531, 532, 533, 534, 535, 536, 537, 538, 539, 540, 541, 542, 543, 544, 545, 546, 547, 548, 549, 550, 551, 552, 553, 554, 555, 556, 557, 558, 559, 560, 561, 562, 563, 564, 565, 566, 585, 586, 587, 588, 589, 590, 591, 592, 593, 594, 595, 596, 597, 598, 599, 601, 602, 603, 604, 605, 606, 607, 608, 609, 610, 611, 612, 613, 614, 615, 616, 617, 618, 619, 620, 621, 622, 623, 624, 625, 626, 627, 628, 629, 630, 631, 632, 633, 634, 635, 636, 637, 638, 639, 640, 641, 642, 643, 644, 645, 646, 647, 667, 668, 669, 670, 671, 672, 673, 674, 675, 676, 677, 678, 679, 681, 682, 683, 684, 685, 686, 687, 688, 689, 690, 691, 692, 693, 694, 695, 696, 697, 698, 699, 700, 701, 702, 703, 704, 705, 706, 707, 708, 709, 710, 711, 712, 713, 714, 715, 716, 717, 718, 719, 720, 721, 722, 723, 724, 725, 726, 727, 728, 749, 750, 751, 752, 753, 754, 755, 756, 757, 758, 759, 761, 762, 763, 764, 765, 766, 767, 768, 769, 770, 771, 772, 773, 774, 775, 776, 777, 778, 779, 780, 781, 782, 783, 784, 785, 786, 787, 788, 789, 790, 791, 792, 793, 794, 795, 796, 797, 798, 799, 800, 801, 802, 803, 804, 805, 806, 807, 808, 809, 830, 831, 832, 833, 834, 835, 836, 837, 838, 839, 841, 842, 843, 844, 845, 846, 847, 848, 849, 850, 851, 852, 853, 854, 855, 856, 857, 858, 859, 860, 861, 862, 863, 864, 865, 866, 867, 868, 869, 870, 871, 872, 873, 874, 875, 876, 877, 878, 879, 880, 881, 882, 883, 884, 885, 886, 887, 888, 889, 890, 912, 913, 914, 915, 916, 917, 918, 919, 921, 922, 923, 924, 925, 926, 927, 928, 929, 930, 931, 932, 933, 934, 935, 936, 937, 938, 939, 940, 941, 942, 943, 944, 945, 946, 947, 948, 949, 950, 951, 952, 953, 954, 955, 956, 957, 958, 959, 960, 961, 962, 963, 964, 965, 966, 967, 968, 969, 970, 971, 994, 995, 996, 997, 998, 999, 1001, 1002, 1003, 1004, 1005, 1006, 1007, 1008, 1009, 1010, 1011, 1012, 1013, 1014, 1015, 1016, 1017, 1018, 1019, 1020, 1021, 1022, 1023, 1024, 1025, 1026, 1027, 1028, 1029, 1030, 1031, 1032, 1033, 1034, 1035, 1036, 1037, 1038, 1039, 1040, 1041, 1042, 1043, 1044, 1045, 1046, 1047, 1048, 1049, 1050, 1051, 1052, 1076, 1077, 1078, 1079, 1081, 1082, 1083, 1084, 1085, 1086, 1087, 1088, 1089, 1090, 1091, 1092, 1093, 1094, 1095, 1096, 1097, 1098, 1099, 1100, 1101, 1102, 1103, 1104, 1105, 1106, 1107, 1108, 1109, 1110, 1111, 1112, 1113, 1114, 1115, 1116, 1117, 1118, 1119, 1120, 1121, 1122, 1123, 1124, 1125, 1126, 1127, 1128, 1129, 1130, 1131, 1132, 1133, 1134, 1157, 1158, 1159, 1161, 1162, 1163, 1164, 1165, 1166, 1167, 1168, 1169, 1170, 1171, 1172, 1173, 1174, 1175, 1176, 1177, 1178, 1179, 1180, 1181, 1182, 1183, 1184, 1185, 1186, 1187, 1188, 1189, 1190, 1191, 1192, 1193, 1194, 1195, 1196, 1197, 1198, 1199, 1200, 1201, 1202, 1203, 1204, 1205, 1206, 1207, 1208, 1209, 1210, 1211, 1212, 1213, 1214, 1215, 1216, 1239, 1241, 1242, 1243, 1244, 1245, 1246, 1247, 1248, 1249, 1250, 1251, 1252, 1253, 1254, 1255, 1256, 1257, 1258, 1259, 1260, 1261, 1262, 1263, 1264, 1265, 1266, 1267, 1268, 1269, 1270, 1271, 1272, 1273, 1274, 1275, 1276, 1277, 1278, 1279, 1280, 1281, 1282, 1283, 1284, 1285, 1286, 1287, 1288, 1289, 1290, 1291, 1292, 1293, 1294, 1295, 1296, 1297, 1298, 1299, 1321, 1322, 1323, 1324, 1325, 1326, 1327, 1328, 1329, 1330, 1331, 1332, 1333, 1334, 1335, 1336, 1337, 1338, 1339, 1340, 1341, 1342, 1343, 1344, 1345, 1346, 1347, 1348, 1349, 1350, 1351, 1352, 1353, 1354, 1355, 1356, 1357, 1358, 1359, 1360, 1361, 1362, 1363, 1364, 1365, 1366, 1367, 1368, 1369, 1370, 1371, 1372, 1373, 1374, 1375, 1376, 1377, 1378, 1379, 1380, 1381, 1402, 1403, 1404, 1405, 1406, 1407, 1408, 1409, 1410, 1411, 1412, 1413, 1414, 1415, 1416, 1417, 1418, 1419, 1420, 1421, 1422, 1423, 1424, 1425, 1426, 1427, 1428, 1429, 1430, 1431, 1432, 1433, 1434, 1435, 1436, 1437, 1438, 1439, 1440, 1441, 1442, 1443, 1444, 1445, 1446, 1447, 1448, 1449, 1450, 1451, 1452, 1453, 1454, 1455, 1456, 1457, 1458, 1459, 1460, 1461, 1462, 1463, 1464, 1484, 1485, 1486, 1487, 1488, 1489, 1490, 1491, 1492, 1493, 1494, 1495, 1496, 1497, 1498, 1499, 1500, 1501, 1502, 1503, 1504, 1505, 1506, 1507, 1508, 1509, 1510, 1511, 1512, 1513, 1514, 1515, 1516, 1517, 1518, 1519, 1520, 1521, 1522, 1523, 1524, 1525, 1526, 1527, 1528, 1529, 1530, 1531, 1532, 1533, 1534, 1535, 1536, 1537, 1538, 1539, 1540, 1541, 1542, 1543, 1544, 1545, 1546, 1566, 1567, 1568, 1569, 1570, 1571, 1572, 1573, 1574, 1575, 1576, 1577, 1578, 1579, 1580, 1581, 1582, 1583, 1584, 1585, 1586, 1587, 1588, 1589, 1590, 1591, 1592, 1593, 1594, 1595, 1596, 1597, 1598, 1599, 1600, 1601, 1602, 1603, 1604, 1605, 1606, 1607, 1608, 1609, 1610, 1611, 1612, 1613, 1614, 1615, 1616, 1617, 1618, 1619, 1620, 1621, 1622, 1623, 1624, 1625, 1626, 1627, 1628, 1648, 1649, 1650, 1651, 1652, 1653, 1654, 1655, 1656, 1657, 1658, 1659, 1660, 1661, 1662, 1663, 1664, 1665, 1666, 1667, 1668, 1669, 1670, 1671, 1672, 1673, 1674, 1675, 1676, 1677, 1678, 1679, 1680, 1681, 1682, 1683, 1684, 1685, 1686, 1687, 1688, 1689, 1690, 1691, 1692, 1693, 1694, 1695, 1696, 1697, 1698, 1699, 1701, 1702, 1703, 1704, 1705, 1706, 1707, 1708, 1709, 1710, 1711, 1729, 1730, 1731, 1732, 1733, 1734, 1735, 1736, 1737, 1738, 1739, 1740, 1741, 1742, 1743, 1744, 1745, 1746, 1747, 1748, 1749, 1750, 1751, 1752, 1753, 1754, 1755, 1756, 1757, 1758, 1759, 1760, 1761, 1762, 1763, 1764, 1765, 1766, 1767, 1768, 1769, 1770, 1771, 1772, 1773, 1774, 1775, 1776, 1777, 1778, 1779, 1781, 1782, 1783, 1784, 1785, 1786, 1787, 1788, 1789, 1790, 1791, 1792, 1793, 1811, 1812, 1813, 1814, 1815, 1816, 1817, 1818, 1819, 1820, 1821, 1822, 1823, 1824, 1825, 1826, 1827, 1828, 1829, 1830, 1831, 1832, 1833, 1834, 1835, 1836, 1837, 1838, 1839, 1840, 1841, 1842, 1843, 1844, 1845, 1846, 1847, 1848, 1849, 1850, 1851, 1852, 1853, 1854, 1855, 1856, 1857, 1858, 1859, 1861, 1862, 1863, 1864, 1865, 1866, 1867, 1868, 1869, 1870, 1871, 1872, 1873, 1874, 1875, 1876, 1893, 1894, 1895, 1896, 1897, 1898, 1899, 1900, 1901, 1902, 1903, 1904, 1905, 1906, 1907, 1908, 1909, 1910, 1911, 1912, 1913, 1914, 1915, 1916, 1917, 1918, 1919, 1920, 1921, 1922, 1923, 1924, 1925, 1926, 1927, 1928, 1929, 1930, 1931, 1932, 1933, 1934, 1935, 1936, 1937, 1938, 1939, 1941, 1942, 1943, 1944, 1945, 1946, 1947, 1948, 1949, 1950, 1951, 1952, 1953, 1954, 1955, 1956, 1957, 1958, 1975, 1976, 1977, 1978, 1979, 1980, 1981, 1982, 1983, 1984, 1985, 1986, 1987, 1988, 1989, 1990, 1991, 1992, 1993, 1994, 1995, 1996, 1997, 1998, 1999, 2000, 2001, 2002, 2003, 2004, 2005, 2006, 2007, 2008, 2009, 2010, 2011, 2012, 2013, 2014, 2015, 2016, 2017, 2018, 2019, 2021, 2022, 2023, 2024, 2025, 2026, 2027, 2028, 2029, 2030, 2031, 2032, 2033, 2034, 2035, 2036, 2037, 2038, 2039, 2056, 2057, 2058, 2059, 2060, 2061, 2062, 2063, 2064, 2065, 2066, 2067, 2068, 2069, 2070, 2071, 2072, 2073, 2074, 2075, 2076, 2077, 2078, 2079, 2080, 2081, 2082, 2083, 2084, 2085, 2086, 2087, 2088, 2089, 2090, 2091, 2092, 2093, 2094, 2095, 2096, 2097, 2098, 2099, 2101, 2102, 2103, 2104, 2105, 2106, 2107, 2108, 2109, 2110, 2111, 2112, 2113, 2114, 2115, 2116, 2117, 2118, 2119, 2121, 2122, 2123, 2138, 2139, 2140, 2141, 2142, 2143, 2144, 2145, 2146, 2147, 2148, 2149, 2150, 2151, 2152, 2153, 2154, 2155, 2156, 2157, 2158, 2159, 2160, 2161, 2162, 2163, 2164, 2165, 2166, 2167, 2168, 2169, 2170, 2171, 2172, 2173, 2174, 2175, 2176, 2177, 2178, 2179, 2181, 2182, 2183, 2184, 2185, 2186, 2187, 2188, 2189, 2190, 2191, 2192, 2193, 2194, 2195, 2196, 2197, 2198, 2199, 2201, 2202, 2203, 2204, 2205, 2220, 2221, 2222, 2223, 2224, 2225, 2226, 2227, 2228, 2229, 2230, 2231, 2232, 2233, 2234, 2235, 2236, 2237, 2238, 2239, 2240, 2241, 2242, 2243, 2244, 2245, 2246, 2247, 2248, 2249, 2250, 2251, 2252, 2253, 2254, 2255, 2256, 2257, 2258, 2259, 2261, 2262, 2263, 2264, 2265, 2266, 2267, 2268, 2269, 2270, 2271, 2272, 2273, 2274, 2275, 2276, 2277, 2278, 2279, 2281, 2282, 2283, 2284, 2285, 2286, 2287, 2288, 2301, 2302, 2303, 2304, 2305, 2306, 2307, 2308, 2309, 2310, 2311, 2312, 2313, 2314, 2315, 2316, 2317, 2318, 2319, 2320, 2321, 2322, 2323, 2324, 2325, 2326, 2327, 2328, 2329, 2330, 2331, 2332, 2333, 2334, 2335, 2336, 2337, 2338, 2339, 2341, 2342, 2343, 2344, 2345, 2346, 2347, 2348, 2349, 2350, 2351, 2352, 2353, 2354, 2355, 2356, 2357, 2358, 2359, 2361, 2362, 2363, 2364, 2365, 2366, 2367, 2368, 2369, 2370, 2383, 2384, 2385, 2386, 2387, 2388, 2389, 2390, 2391, 2392, 2393, 2394, 2395, 2396, 2397, 2398, 2399, 2400, 2401, 2402, 2403, 2404, 2405, 2406, 2407, 2408, 2409, 2410, 2411, 2412, 2413, 2414, 2415, 2416, 2417, 2418, 2419, 2421, 2422, 2423, 2424, 2425, 2426, 2427, 2428, 2429, 2430, 2431, 2432, 2433, 2434, 2435, 2436, 2437, 2438, 2439, 2441, 2442, 2443, 2444, 2445, 2446, 2447, 2448, 2449, 2450, 2451, 2452, 2453, 2465, 2466, 2467, 2468, 2469, 2470, 2471, 2472, 2473, 2474, 2475, 2476, 2477, 2478, 2479, 2480, 2481, 2482, 2483, 2484, 2485, 2486, 2487, 2488, 2489, 2490, 2491, 2492, 2493, 2494, 2495, 2496, 2497, 2498, 2499, 2501, 2502, 2503, 2504, 2505, 2506, 2507, 2508, 2509, 2510, 2511, 2512, 2513, 2514, 2515, 2516, 2517, 2518, 2519, 2521, 2522, 2523, 2524, 2525, 2526, 2527, 2528, 2529, 2530, 2531, 2532, 2533, 2534, 2535, 2547, 2548, 2549, 2550, 2551, 2552, 2553, 2554, 2555, 2556, 2557, 2558, 2559, 2560, 2561, 2562, 2563, 2564, 2565, 2566, 2567, 2568, 2569, 2570, 2571, 2572, 2573, 2574, 2575, 2576, 2577, 2578, 2579, 2581, 2582, 2583, 2584, 2585, 2586, 2587, 2588, 2589, 2590, 2591, 2592, 2593, 2594, 2595, 2596, 2597, 2598, 2599, 2601, 2602, 2603, 2604, 2605, 2606, 2607, 2608, 2609, 2610, 2611, 2612, 2613, 2614, 2615, 2616, 2617, 2628, 2629, 2630, 2631, 2632, 2633, 2634, 2635, 2636, 2637, 2638, 2639, 2640, 2641, 2642, 2643, 2644, 2645, 2646, 2647, 2648, 2649, 2650, 2651, 2652, 2653, 2654, 2655, 2656, 2657, 2658, 2659, 2661, 2662, 2663, 2664, 2665, 2666, 2667, 2668, 2669, 2670, 2671, 2672, 2673, 2674, 2675, 2676, 2677, 2678, 2679, 2681, 2682, 2683, 2684, 2685, 2686, 2687, 2688, 2689, 2690, 2691, 2692, 2693, 2694, 2695, 2696, 2697, 2698, 2699, 2700, 2710, 2711, 2712, 2713, 2714, 2715, 2716, 2717, 2718, 2719, 2720, 2721, 2722, 2723, 2724, 2725, 2726, 2727, 2728, 2729, 2730, 2731, 2732, 2733, 2734, 2735, 2736, 2737, 2738, 2739, 2741, 2742, 2743, 2744, 2745, 2746, 2747, 2748, 2749, 2750, 2751, 2752, 2753, 2754, 2755, 2756, 2757, 2758, 2759, 2761, 2762, 2763, 2764, 2765, 2766, 2767, 2768, 2769, 2770, 2771, 2772, 2773, 2774, 2775, 2776, 2777, 2778, 2779, 2780, 2781, 2782, 2792, 2793, 2794, 2795, 2796, 2797, 2798, 2799, 2800, 2801, 2802, 2803, 2804, 2805, 2806, 2807, 2808, 2809, 2810, 2811, 2812, 2813, 2814, 2815, 2816, 2817, 2818, 2819, 2821, 2822, 2823, 2824, 2825, 2826, 2827, 2828, 2829, 2830, 2831, 2832, 2833, 2834, 2835, 2836, 2837, 2838, 2839, 2841, 2842, 2843, 2844, 2845, 2846, 2847, 2848, 2849, 2850, 2851, 2852, 2853, 2854, 2855, 2856, 2857, 2858, 2859, 2860, 2861, 2862, 2863, 2864, 2865, 2874, 2875, 2876, 2877, 2878, 2879, 2880, 2881, 2882, 2883, 2884, 2885, 2886, 2887, 2888, 2889, 2890, 2891, 2892, 2893, 2894, 2895, 2896, 2897, 2898, 2899, 2901, 2902, 2903, 2904, 2905, 2906, 2907, 2908, 2909, 2910, 2911, 2912, 2913, 2914, 2915, 2916, 2917, 2918, 2919, 2921, 2922, 2923, 2924, 2925, 2926, 2927, 2928, 2929, 2930, 2931, 2932, 2933, 2934, 2935, 2936, 2937, 2938, 2939, 2940, 2941, 2942, 2943, 2944, 2945, 2946, 2947, 2955, 2956, 2957, 2958, 2959, 2960, 2961, 2962, 2963, 2964, 2965, 2966, 2967, 2968, 2969, 2970, 2971, 2972, 2973, 2974, 2975, 2976, 2977, 2978, 2979, 2981, 2982, 2983, 2984, 2985, 2986, 2987, 2988, 2989, 2990, 2991, 2992, 2993, 2994, 2995, 2996, 2997, 2998, 2999, 3001, 3002, 3003, 3004, 3005, 3006, 3007, 3008, 3009, 3010, 3011, 3012, 3013, 3014, 3015, 3016, 3017, 3018, 3019, 3020, 3021, 3022, 3023, 3024, 3025, 3026, 3027, 3028, 3029, 3037, 3038, 3039, 3040, 3041, 3042, 3043, 3044, 3045, 3046, 3047, 3048, 3049, 3050, 3051, 3052, 3053, 3054, 3055, 3056, 3057, 3058, 3059, 3061, 3062, 3063, 3064, 3065, 3066, 3067, 3068, 3069, 3070, 3071, 3072, 3073, 3074, 3075, 3076, 3077, 3078, 3079, 3081, 3082, 3083, 3084, 3085, 3086, 3087, 3088, 3089, 3090, 3091, 3092, 3093, 3094, 3095, 3096, 3097, 3098, 3099, 3100, 3101, 3102, 3103, 3104, 3105, 3106, 3107, 3108, 3109, 3110, 3111, 3112, 3119, 3120, 3121, 3122, 3123, 3124, 3125, 3126, 3127, 3128, 3129, 3130, 3131, 3132, 3133, 3134, 3135, 3136, 3137, 3138, 3139, 3141, 3142, 3143, 3144, 3145, 3146, 3147, 3148, 3149, 3150, 3151, 3152, 3153, 3154, 3155, 3156, 3157, 3158, 3159, 3161, 3162, 3163, 3164, 3165, 3166, 3167, 3168, 3169, 3170, 3171, 3172, 3173, 3174, 3175, 3176, 3177, 3178, 3179, 3180, 3181, 3182, 3183, 3184, 3185, 3186, 3187, 3188, 3189, 3190, 3191, 3192, 3193, 3194, 3201, 3202, 3203, 3204, 3205, 3206, 3207, 3208, 3209, 3210, 3211, 3212, 3213, 3214, 3215, 3216, 3217, 3218, 3219, 3221, 3222, 3223, 3224, 3225, 3226, 3227, 3228, 3229, 3230, 3231, 3232, 3233, 3234, 3235, 3236, 3237, 3238, 3239, 3241, 3242, 3243, 3244, 3245, 3246, 3247, 3248, 3249, 3250, 3251, 3252, 3253, 3254, 3255, 3256, 3257, 3258, 3259, 3260, 3261, 3262, 3263, 3264, 3265, 3266, 3267, 3268, 3269, 3270, 3271, 3272, 3273, 3274, 3275, 3276, 3277, 3282, 3283, 3284, 3285, 3286, 3287, 3288, 3289, 3290, 3291, 3292, 3293, 3294, 3295, 3296, 3297, 3298, 3299, 3301, 3302, 3303, 3304, 3305, 3306, 3307, 3308, 3309, 3310, 3311, 3312, 3313, 3314, 3315, 3316, 3317, 3318, 3319, 3320, 3321, 3322, 3323, 3324, 3325, 3326, 3327, 3328, 3329, 3330, 3331, 3332, 3333, 3334, 3335, 3336, 3337, 3338, 3339, 3340, 3341, 3342, 3343, 3344, 3345, 3346, 3347, 3348, 3349, 3350, 3351, 3352, 3353, 3354, 3355, 3356, 3357, 3358, 3359, 3364, 3365, 3366, 3367, 3368, 3369, 3370, 3371, 3372, 3373, 3374, 3375, 3376, 3377, 3378, 3379, 3381, 3382, 3383, 3384, 3385, 3386, 3387, 3388, 3389, 3390, 3391, 3392, 3393, 3394, 3395, 3396, 3397, 3398, 3399, 3400, 3401, 3402, 3403, 3404, 3405, 3406, 3407, 3408, 3409, 3410, 3411, 3412, 3413, 3414, 3415, 3416, 3417, 3418, 3419, 3420, 3421, 3422, 3423, 3424, 3425, 3426, 3427, 3428, 3429, 3430, 3431, 3432, 3433, 3434, 3435, 3436, 3437, 3438, 3439, 3440, 3441, 3442, 3446, 3447, 3448, 3449, 3450, 3451, 3452, 3453, 3454, 3455, 3456, 3457, 3458, 3459, 3461, 3462, 3463, 3464, 3465, 3466, 3467, 3468, 3469, 3470, 3471, 3472, 3473, 3474, 3475, 3476, 3477, 3478, 3479, 3480, 3481, 3482, 3483, 3484, 3485, 3486, 3487, 3488, 3489, 3490, 3491, 3492, 3493, 3494, 3495, 3496, 3497, 3498, 3499, 3500, 3501, 3502, 3503, 3504, 3505, 3506, 3507, 3508, 3509, 3510, 3511, 3512, 3513, 3514, 3515, 3516, 3517, 3518, 3519, 3520, 3521, 3522, 3523, 3524, 3527, 3528, 3529, 3530, 3531, 3532, 3533, 3534, 3535, 3536, 3537, 3538, 3539, 3541, 3542, 3543, 3544, 3545, 3546, 3547, 3548, 3549, 3550, 3551, 3552, 3553, 3554, 3555, 3556, 3557, 3558, 3559, 3560, 3561, 3562, 3563, 3564, 3565, 3566, 3567, 3568, 3569, 3570, 3571, 3572, 3573, 3574, 3575, 3576, 3577, 3578, 3579, 3580, 3581, 3582, 3583, 3584, 3585, 3586, 3587, 3588, 3589, 3590, 3591, 3592, 3593, 3594, 3595, 3596, 3597, 3598, 3599, 3600, 3601, 3602, 3603, 3604, 3605, 3606, 3609, 3610, 3611, 3612, 3613, 3614, 3615, 3616, 3617, 3618, 3619, 3621, 3622, 3623, 3624, 3625, 3626, 3627, 3628, 3629, 3630, 3631, 3632, 3633, 3634, 3635, 3636, 3637, 3638, 3639, 3640, 3641, 3642, 3643, 3644, 3645, 3646, 3647, 3648, 3649, 3650, 3651, 3652, 3653, 3654, 3655, 3656, 3657, 3658, 3659, 3660, 3661, 3662, 3663, 3664, 3665, 3666, 3667, 3668, 3669, 3670, 3671, 3672, 3673, 3674, 3675, 3676, 3677, 3678, 3679, 3680, 3681, 3682, 3683, 3684, 3685, 3686, 3687, 3688, 3689, 3691, 3692, 3693, 3694, 3695, 3696, 3697, 3698, 3699, 3701, 3702, 3703, 3704, 3705, 3706, 3707, 3708, 3709, 3710, 3711, 3712, 3713, 3714, 3715, 3716, 3717, 3718, 3719, 3720, 3721, 3722, 3723, 3724, 3725, 3726, 3727, 3728, 3729, 3730, 3731, 3732, 3733, 3734, 3735, 3736, 3737, 3738, 3739, 3740, 3741, 3742, 3743, 3744, 3745, 3746, 3747, 3748, 3749, 3750, 3751, 3752, 3753, 3754, 3755, 3756, 3757, 3758, 3759, 3760, 3761, 3762, 3763, 3764, 3765, 3766, 3767, 3768, 3769, 3770, 3771, 3773, 3774, 3775, 3776, 3777, 3778, 3779, 3781, 3782, 3783, 3784, 3785, 3786, 3787, 3788, 3789, 3790, 3791, 3792, 3793, 3794, 3795, 3796, 3797, 3798, 3799, 3800, 3801, 3802, 3803, 3804, 3805, 3806, 3807, 3808, 3809, 3810, 3811, 3812, 3813, 3814, 3815, 3816, 3817, 3818, 3819, 3820, 3821, 3822, 3823, 3824, 3825, 3826, 3827, 3828, 3829, 3830, 3831, 3832, 3833, 3834, 3835, 3836, 3837, 3838, 3839, 3840, 3841, 3842, 3843, 3844, 3845, 3846, 3847, 3848, 3849, 3850, 3851, 3852, 3853, 3855, 3856, 3857, 3858, 3859, 3861, 3862, 3863, 3864, 3865, 3866, 3867, 3868, 3869, 3870, 3871, 3872, 3873, 3874, 3875, 3876, 3877, 3878, 3879, 3880, 3881, 3882, 3883, 3884, 3885, 3886, 3887, 3888, 3889, 3890, 3891, 3892, 3893, 3894, 3895, 3896, 3897, 3898, 3899, 3900, 3901, 3902, 3903, 3904, 3905, 3906, 3907, 3908, 3909, 3910, 3911, 3912, 3913, 3914, 3915, 3916, 3917, 3918, 3919, 3920, 3921, 3922, 3923, 3924, 3925, 3926, 3927, 3928, 3929, 3930, 3931, 3932, 3933, 3934, 3935, 3937, 3938, 3939, 3941, 3942, 3943, 3944, 3945, 3946, 3947, 3948, 3949, 3950, 3951, 3952, 3953, 3954, 3955, 3956, 3957, 3958, 3959, 3960, 3961, 3962, 3963, 3964, 3965, 3966, 3967, 3968, 3969, 3970, 3971, 3972, 3973, 3974, 3975, 3976, 3977, 3978, 3979, 3980, 3981, 3982, 3983, 3984, 3985, 3986, 3987, 3988, 3989, 3990, 3991, 3992, 3993, 3994, 3995, 3996, 3997, 3998, 3999, 4000, 4001, 4002, 4003, 4004, 4005, 4006, 4007, 4008, 4009, 4010, 4011, 4012, 4013, 4014, 4015, 4016, 4017, 4021, 4022, 4023, 4024, 4025, 4026, 4027, 4028, 4029, 4030, 4031, 4032, 4033, 4034, 4035, 4036, 4037, 4038, 4039, 4040, 4041, 4042, 4043, 4044, 4045, 4046, 4047, 4048, 4049, 4050, 4051, 4052, 4053, 4054, 4055, 4056, 4057, 4058, 4059, 4060, 4061, 4062, 4063, 4064, 4065, 4066, 4067, 4068, 4069, 4070, 4071, 4072, 4073, 4074, 4075, 4076, 4077, 4078, 4079, 4080, 4081, 4082, 4083, 4084, 4085, 4086, 4087, 4088, 4089, 4090, 4091, 4092, 4093, 4094, 4095, 4096, 4097, 4098, 4102, 4103, 4104, 4105, 4106, 4107, 4108, 4109, 4110, 4111, 4112, 4113, 4114, 4115, 4116, 4117, 4118, 4119, 4120, 4121, 4122, 4123, 4124, 4125, 4126, 4127, 4128, 4129, 4130, 4131, 4132, 4133, 4134, 4135, 4136, 4137, 4138, 4139, 4140, 4141, 4142, 4143, 4144, 4145, 4146, 4147, 4148, 4149, 4150, 4151, 4152, 4153, 4154, 4155, 4156, 4157, 4158, 4159, 4160, 4161, 4162, 4163, 4164, 4165, 4166, 4167, 4168, 4169, 4170, 4171, 4172, 4173, 4174, 4175, 4176, 4177, 4178, 4179, 4184, 4185, 4186, 4187, 4188, 4189, 4190, 4191, 4192, 4193, 4194, 4195, 4196, 4197, 4198, 4199, 4200, 4201, 4202, 4203, 4204, 4205, 4206, 4207, 4208, 4209, 4210, 4211, 4212, 4213, 4214, 4215, 4216, 4217, 4218, 4219, 4220, 4221, 4222, 4223, 4224, 4225, 4226, 4227, 4228, 4229, 4230, 4231, 4232, 4233, 4234, 4235, 4236, 4237, 4238, 4239, 4240, 4241, 4242, 4243, 4244, 4245, 4246, 4247, 4248, 4249, 4250, 4251, 4252, 4253, 4254, 4255, 4256, 4257, 4258, 4259, 4261, 4262, 4267, 4268, 4269, 4270, 4271, 4272, 4273, 4274, 4275, 4276, 4277, 4278, 4279, 4280, 4281, 4282, 4283, 4284, 4285, 4286, 4287, 4288, 4289, 4290, 4291, 4292, 4293, 4294, 4295, 4296, 4297, 4298, 4299, 4300, 4301, 4302, 4303, 4304, 4305, 4306, 4307, 4308, 4309, 4310, 4311, 4312, 4313, 4314, 4315, 4316, 4317, 4318, 4319, 4320, 4321, 4322, 4323, 4324, 4325, 4326, 4327, 4328, 4329, 4330, 4331, 4332, 4333, 4334, 4335, 4336, 4337, 4338, 4339, 4341, 4342, 4343, 4344, 4349, 4350, 4351, 4352, 4353, 4354, 4355, 4356, 4357, 4358, 4359, 4360, 4361, 4362, 4363, 4364, 4365, 4366, 4367, 4368, 4369, 4370, 4371, 4372, 4373, 4374, 4375, 4376, 4377, 4378, 4379, 4380, 4381, 4382, 4383, 4384, 4385, 4386, 4387, 4388, 4389, 4390, 4391, 4392, 4393, 4394, 4395, 4396, 4397, 4398, 4399, 4400, 4401, 4402, 4403, 4404, 4405, 4406, 4407, 4408, 4409, 4410, 4411, 4412, 4413, 4414, 4415, 4416, 4417, 4418, 4419, 4421, 4422, 4423, 4424, 4425, 4426, 4432, 4433, 4434, 4435, 4436, 4437, 4438, 4439, 4440, 4441, 4442, 4443, 4444, 4445, 4446, 4447, 4448, 4449, 4450, 4451, 4452, 4453, 4454, 4455, 4456, 4457, 4458, 4459, 4460, 4461, 4462, 4463, 4464, 4465, 4466, 4467, 4468, 4469, 4470, 4471, 4472, 4473, 4474, 4475, 4476, 4477, 4478, 4479, 4480, 4481, 4482, 4483, 4484, 4485, 4486, 4487, 4488, 4489, 4490, 4491, 4492, 4493, 4494, 4495, 4496, 4497, 4498, 4499, 4501, 4502, 4503, 4504, 4505, 4506, 4507, 4514, 4515, 4516, 4517, 4518, 4519, 4520, 4521, 4522, 4523, 4524, 4525, 4526, 4527, 4528, 4529, 4530, 4531, 4532, 4533, 4534, 4535, 4536, 4537, 4538, 4539, 4540, 4541, 4542, 4543, 4544, 4545, 4546, 4547, 4548, 4549, 4550, 4551, 4552, 4553, 4554, 4555, 4556, 4557, 4558, 4559, 4560, 4561, 4562, 4563, 4564, 4565, 4566, 4567, 4568, 4569, 4570, 4571, 4572, 4573, 4574, 4575, 4576, 4577, 4578, 4579, 4581, 4582, 4583, 4584, 4585, 4586, 4587, 4588, 4589, 4596, 4597, 4598, 4599, 4600, 4601, 4602, 4603, 4604, 4605, 4606, 4607, 4608, 4609, 4610, 4611, 4612, 4613, 4614, 4615, 4616, 4617, 4618, 4619, 4620, 4621, 4622, 4623, 4624, 4625, 4626, 4627, 4628, 4629, 4630, 4631, 4632, 4633, 4634, 4635, 4636, 4637, 4638, 4639, 4640, 4641, 4642, 4643, 4644, 4645, 4646, 4647, 4648, 4649, 4650, 4651, 4652, 4653, 4654, 4655, 4656, 4657, 4658, 4659, 4661, 4662, 4663, 4664, 4665, 4666, 4667, 4668, 4669, 4670, 4671, 4679, 4680, 4681, 4682, 4683, 4684, 4685, 4686, 4687, 4688, 4689, 4690, 4691, 4692, 4693, 4694, 4695, 4696, 4697, 4698, 4699, 4700, 4701, 4702, 4703, 4704, 4705, 4706, 4707, 4708, 4709, 4710, 4711, 4712, 4713, 4714, 4715, 4716, 4717, 4718, 4719, 4720, 4721, 4722, 4723, 4724, 4725, 4726, 4727, 4728, 4729, 4730, 4731, 4732, 4733, 4734, 4735, 4736, 4737, 4738, 4739, 4741, 4742, 4743, 4744, 4745, 4746, 4747, 4748, 4749, 4750, 4751, 4752, 4761, 4762, 4763, 4764, 4765, 4766, 4767, 4768, 4769, 4770, 4771, 4772, 4773, 4774, 4775, 4776, 4777, 4778, 4779, 4780, 4781, 4782, 4783, 4784, 4785, 4786, 4787, 4788, 4789, 4790, 4791, 4792, 4793, 4794, 4795, 4796, 4797, 4798, 4799, 4800, 4801, 4802, 4803, 4804, 4805, 4806, 4807, 4808, 4809, 4810, 4811, 4812, 4813, 4814, 4815, 4816, 4817, 4818, 4819, 4821, 4822, 4823, 4824, 4825, 4826, 4827, 4828, 4829, 4830, 4831, 4832, 4833, 4834, 4844, 4845, 4846, 4847, 4848, 4849, 4850, 4851, 4852, 4853, 4854, 4855, 4856, 4857, 4858, 4859, 4860, 4861, 4862, 4863, 4864, 4865, 4866, 4867, 4868, 4869, 4870, 4871, 4872, 4873, 4874, 4875, 4876, 4877, 4878, 4879, 4880, 4881, 4882, 4883, 4884, 4885, 4886, 4887, 4888, 4889, 4890, 4891, 4892, 4893, 4894, 4895, 4896, 4897, 4898, 4899, 4901, 4902, 4903, 4904, 4905, 4906, 4907, 4908, 4909, 4910, 4911, 4912, 4913, 4914, 4915, 4916, 4926, 4927, 4928, 4929, 4930, 4931, 4932, 4933, 4934, 4935, 4936, 4937, 4938, 4939, 4940, 4941, 4942, 4943, 4944, 4945, 4946, 4947, 4948, 4949, 4950, 4951, 4952, 4953, 4954, 4955, 4956, 4957, 4958, 4959, 4960, 4961, 4962, 4963, 4964, 4965, 4966, 4967, 4968, 4969, 4970, 4971, 4972, 4973, 4974, 4975, 4976, 4977, 4978, 4979, 4981, 4982, 4983, 4984, 4985, 4986, 4987, 4988, 4989, 4990, 4991, 4992, 4993, 4994, 4995, 4996, 4997, 4998, 5008, 5009, 5010, 5011, 5012, 5013, 5014, 5015, 5016, 5017, 5018, 5019, 5020, 5021, 5022, 5023, 5024, 5025, 5026, 5027, 5028, 5029, 5030, 5031, 5032, 5033, 5034, 5035, 5036, 5037, 5038, 5039, 5040, 5041, 5042, 5043, 5044, 5045, 5046, 5047, 5048, 5049, 5050, 5051, 5052, 5053, 5054, 5055, 5056, 5057, 5058, 5059, 5061, 5062, 5063, 5064, 5065, 5066, 5067, 5068, 5069, 5070, 5071, 5072, 5073, 5074, 5075, 5076, 5077, 5078, 5079, 5091, 5092, 5093, 5094, 5095, 5096, 5097, 5098, 5099, 5100, 5101, 5102, 5103, 5104, 5105, 5106, 5107, 5108, 5109, 5110, 5111, 5112, 5113, 5114, 5115, 5116, 5117, 5118, 5119, 5120, 5121, 5122, 5123, 5124, 5125, 5126, 5127, 5128, 5129, 5130, 5131, 5132, 5133, 5134, 5135, 5136, 5137, 5138, 5139, 5141, 5142, 5143, 5144, 5145, 5146, 5147, 5148, 5149, 5150, 5151, 5152, 5153, 5154, 5155, 5156, 5157, 5158, 5159, 5160, 5161, 5173, 5174, 5175, 5176, 5177, 5178, 5179, 5180, 5181, 5182, 5183, 5184, 5185, 5186, 5187, 5188, 5189, 5190, 5191, 5192, 5193, 5194, 5195, 5196, 5197, 5198, 5199, 5200, 5201, 5202, 5203, 5204, 5205, 5206, 5207, 5208, 5209, 5210, 5211, 5212, 5213, 5214, 5215, 5216, 5217, 5218, 5219, 5221, 5222, 5223, 5224, 5225, 5226, 5227, 5228, 5229, 5230, 5231, 5232, 5233, 5234, 5235, 5236, 5237, 5238, 5239, 5240, 5241, 5242, 5243, 5256, 5257, 5258, 5259, 5260, 5261, 5262, 5263, 5264, 5265, 5266, 5267, 5268, 5269, 5270, 5271, 5272, 5273, 5274, 5275, 5276, 5277, 5278, 5279, 5280, 5281, 5282, 5283, 5284, 5285, 5286, 5287, 5288, 5289, 5290, 5291, 5292, 5293, 5294, 5295, 5296, 5297, 5298, 5299, 5301, 5302, 5303, 5304, 5305, 5306, 5307, 5308, 5309, 5310, 5311, 5312, 5313, 5314, 5315, 5316, 5317, 5318, 5319, 5320, 5321, 5322, 5323, 5324, 5325, 5338, 5339, 5340, 5341, 5342, 5343, 5344, 5345, 5346, 5347, 5348, 5349, 5350, 5351, 5352, 5353, 5354, 5355, 5356, 5357, 5358, 5359, 5360, 5361, 5362, 5363, 5364, 5365, 5366, 5367, 5368, 5369, 5370, 5371, 5372, 5373, 5374, 5375, 5376, 5377, 5378, 5379, 5381, 5382, 5383, 5384, 5385, 5386, 5387, 5388, 5389, 5390, 5391, 5392, 5393, 5394, 5395, 5396, 5397, 5398, 5399, 5400, 5401, 5402, 5403, 5404, 5405, 5406, 5421, 5422, 5423, 5424, 5425, 5426, 5427, 5428, 5429, 5430, 5431, 5432, 5433, 5434, 5435, 5436, 5437, 5438, 5439, 5440, 5441, 5442, 5443, 5444, 5445, 5446, 5447, 5448, 5449, 5450, 5451, 5452, 5453, 5454, 5455, 5456, 5457, 5458, 5459, 5461, 5462, 5463, 5464, 5465, 5466, 5467, 5468, 5469, 5470, 5471, 5472, 5473, 5474, 5475, 5476, 5477, 5478, 5479, 5480, 5481, 5482, 5483, 5484, 5485, 5486, 5487, 5488, 5503, 5504, 5505, 5506, 5507, 5508, 5509, 5510, 5511, 5512, 5513, 5514, 5515, 5516, 5517, 5518, 5519, 5520, 5521, 5522, 5523, 5524, 5525, 5526, 5527, 5528, 5529, 5530, 5531, 5532, 5533, 5534, 5535, 5536, 5537, 5538, 5539, 5541, 5542, 5543, 5544, 5545, 5546, 5547, 5548, 5549, 5550, 5551, 5552, 5553, 5554, 5555, 5556, 5557, 5558, 5559, 5560, 5561, 5562, 5563, 5564, 5565, 5566, 5567, 5568, 5569, 5570, 5585, 5586, 5587, 5588, 5589, 5590, 5591, 5592, 5593, 5594, 5595, 5596, 5597, 5598, 5599, 5600, 5601, 5602, 5603, 5604, 5605, 5606, 5607, 5608, 5609, 5610, 5611, 5612, 5613, 5614, 5615, 5616, 5617, 5618, 5619, 5621, 5622, 5623, 5624, 5625, 5626, 5627, 5628, 5629, 5630, 5631, 5632, 5633, 5634, 5635, 5636, 5637, 5638, 5639, 5640, 5641, 5642, 5643, 5644, 5645, 5646, 5647, 5648, 5649, 5650, 5651, 5652, 5668, 5669, 5670, 5671, 5672, 5673, 5674, 5675, 5676, 5677, 5678, 5679, 5680, 5681, 5682, 5683, 5684, 5685, 5686, 5687, 5688, 5689, 5690, 5691, 5692, 5693, 5694, 5695, 5696, 5697, 5698, 5699, 5701, 5702, 5703, 5704, 5705, 5706, 5707, 5708, 5709, 5710, 5711, 5712, 5713, 5714, 5715, 5716, 5717, 5718, 5719, 5720, 5721, 5722, 5723, 5724, 5725, 5726, 5727, 5728, 5729, 5730, 5731, 5732, 5733, 5750, 5751, 5752, 5753, 5754, 5755, 5756, 5757, 5758, 5759, 5760, 5761, 5762, 5763, 5764, 5765, 5766, 5767, 5768, 5769, 5770, 5771, 5772, 5773, 5774, 5775, 5776, 5777, 5778, 5779, 5781, 5782, 5783, 5784, 5785, 5786, 5787, 5788, 5789, 5790, 5791, 5792, 5793, 5794, 5795, 5796, 5797, 5798, 5799, 5800, 5801, 5802, 5803, 5804, 5805, 5806, 5807, 5808, 5809, 5810, 5811, 5812, 5813, 5814, 5815, 5832, 5833, 5834, 5835, 5836, 5837, 5838, 5839, 5840, 5841, 5842, 5843, 5844, 5845, 5846, 5847, 5848, 5849, 5850, 5851, 5852, 5853, 5854, 5855, 5856, 5857, 5858, 5859, 5861, 5862, 5863, 5864, 5865, 5866, 5867, 5868, 5869, 5870, 5871, 5872, 5873, 5874, 5875, 5876, 5877, 5878, 5879, 5880, 5881, 5882, 5883, 5884, 5885, 5886, 5887, 5888, 5889, 5890, 5891, 5892, 5893, 5894, 5895, 5896, 5897, 5913, 5914, 5915, 5916, 5917, 5918, 5919, 5920, 5921, 5922, 5923, 5924, 5925, 5926, 5927, 5928, 5929, 5930, 5931, 5932, 5933, 5934, 5935, 5936, 5937, 5938, 5939, 5941, 5942, 5943, 5944, 5945, 5946, 5947, 5948, 5949, 5950, 5951, 5952, 5953, 5954, 5955, 5956, 5957, 5958, 5959, 5960, 5961, 5962, 5963, 5964, 5965, 5966, 5967, 5968, 5969, 5970, 5971, 5972, 5973, 5974, 5975, 5976, 5977, 5978, 5994, 5995, 5996, 5997, 5998, 5999, 6000, 6001, 6002, 6003, 6004, 6005, 6006, 6007, 6008, 6009, 6010, 6011, 6012, 6013, 6014, 6015, 6016, 6017, 6018, 6019, 6021, 6022, 6023, 6024, 6025, 6026, 6027, 6028, 6029, 6030, 6031, 6032, 6033, 6034, 6035, 6036, 6037, 6038, 6039, 6040, 6041, 6042, 6043, 6044, 6045, 6046, 6047, 6048, 6049, 6050, 6051, 6052, 6053, 6054, 6055, 6056, 6057, 6058, 6059, 6060, 6075, 6076, 6077, 6078, 6079, 6080, 6081, 6082, 6083, 6084, 6085, 6086, 6087, 6088, 6089, 6090, 6091, 6092, 6093, 6094, 6095, 6096, 6097, 6098, 6099, 6101, 6102, 6103, 6104, 6105, 6106, 6107, 6108, 6109, 6110, 6111, 6112, 6113, 6114, 6115, 6116, 6117, 6118, 6119, 6120, 6121, 6122, 6123, 6124, 6125, 6126, 6127, 6128, 6129, 6130, 6131, 6132, 6133, 6134, 6135, 6136, 6137, 6138, 6139, 6140, 6141, 6142, 6156, 6157, 6158, 6159, 6160, 6161, 6162, 6163, 6164, 6165, 6166, 6167, 6168, 6169, 6170, 6171, 6172, 6173, 6174, 6175, 6176, 6177, 6178, 6179, 6181, 6182, 6183, 6184, 6185, 6186, 6187, 6188, 6189, 6190, 6191, 6192, 6193, 6194, 6195, 6196, 6197, 6198, 6199, 6200, 6201, 6202, 6203, 6204, 6205, 6206, 6207, 6208, 6209, 6210, 6211, 6212, 6213, 6214, 6215, 6216, 6217, 6218, 6219, 6220, 6221, 6222, 6223, 6224, 6237, 6238, 6239, 6240, 6241, 6242, 6243, 6244, 6245, 6246, 6247, 6248, 6249, 6250, 6251, 6252, 6253, 6254, 6255, 6256, 6257, 6258, 6259, 6261, 6262, 6263, 6264, 6265, 6266, 6267, 6268, 6269, 6270, 6271, 6272, 6273, 6274, 6275, 6276, 6277, 6278, 6279, 6280, 6281, 6282, 6283, 6284, 6285, 6286, 6287, 6288, 6289, 6290, 6291, 6292, 6293, 6294, 6295, 6296, 6297, 6298, 6299, 6300, 6301, 6302, 6303, 6304, 6305, 6318, 6319, 6320, 6321, 6322, 6323, 6324, 6325, 6326, 6327, 6328, 6329, 6330, 6331, 6332, 6333, 6334, 6335, 6336, 6337, 6338, 6339, 6341, 6342, 6343, 6344, 6345, 6346, 6347, 6348, 6349, 6350, 6351, 6352, 6353, 6354, 6355, 6356, 6357, 6358, 6359, 6360, 6361, 6362, 6363, 6364, 6365, 6366, 6367, 6368, 6369, 6370, 6371, 6372, 6373, 6374, 6375, 6376, 6377, 6378, 6379, 6380, 6381, 6382, 6383, 6384, 6385, 6386, 6387, 6399, 6400, 6401, 6402, 6403, 6404, 6405, 6406, 6407, 6408, 6409, 6410, 6411, 6412, 6413, 6414, 6415, 6416, 6417, 6418, 6419, 6421, 6422, 6423, 6424, 6425, 6426, 6427, 6428, 6429, 6430, 6431, 6432, 6433, 6434, 6435, 6436, 6437, 6438, 6439, 6440, 6441, 6442, 6443, 6444, 6445, 6446, 6447, 6448, 6449, 6450, 6451, 6452, 6453, 6454, 6455, 6456, 6457, 6458, 6459, 6460, 6461, 6462, 6463, 6464, 6465, 6466, 6467, 6468, 6469, 6480, 6481, 6482, 6483, 6484, 6485, 6486, 6487, 6488, 6489, 6490, 6491, 6492, 6493, 6494, 6495, 6496, 6497, 6498, 6499, 6501, 6502, 6503, 6504, 6505, 6506, 6507, 6508, 6509, 6510, 6511, 6512, 6513, 6514, 6515, 6516, 6517, 6518, 6519, 6520, 6521, 6522, 6523, 6524, 6525, 6526, 6527, 6528, 6529, 6530, 6531, 6532, 6533, 6534, 6535, 6536, 6537, 6538, 6539, 6540, 6541, 6542, 6543, 6544, 6545, 6546, 6547, 6548, 6549, 6550, 6551]\n",
      "val ids:  []\n",
      "test ids:  [0, 1, 2, 3, 4, 5, 6, 7, 8, 9, 10, 11, 12, 40, 81, 82, 83, 84, 85, 86, 87, 88, 89, 90, 91, 92, 93, 94, 120, 162, 163, 164, 165, 166, 167, 168, 169, 170, 171, 172, 173, 174, 175, 200, 243, 244, 245, 246, 247, 248, 249, 250, 251, 252, 253, 254, 255, 256, 257, 280, 324, 325, 326, 327, 328, 329, 330, 331, 332, 333, 334, 335, 336, 337, 338, 339, 360, 405, 406, 407, 408, 409, 410, 411, 412, 413, 414, 415, 416, 417, 418, 419, 420, 421, 440, 486, 487, 488, 489, 490, 491, 492, 493, 494, 495, 496, 497, 498, 499, 500, 501, 502, 520, 567, 568, 569, 570, 571, 572, 573, 574, 575, 576, 577, 578, 579, 580, 581, 582, 583, 584, 600, 648, 649, 650, 651, 652, 653, 654, 655, 656, 657, 658, 659, 660, 661, 662, 663, 664, 665, 666, 680, 729, 730, 731, 732, 733, 734, 735, 736, 737, 738, 739, 740, 741, 742, 743, 744, 745, 746, 747, 748, 760, 810, 811, 812, 813, 814, 815, 816, 817, 818, 819, 820, 821, 822, 823, 824, 825, 826, 827, 828, 829, 840, 891, 892, 893, 894, 895, 896, 897, 898, 899, 900, 901, 902, 903, 904, 905, 906, 907, 908, 909, 910, 911, 920, 972, 973, 974, 975, 976, 977, 978, 979, 980, 981, 982, 983, 984, 985, 986, 987, 988, 989, 990, 991, 992, 993, 1000, 1053, 1054, 1055, 1056, 1057, 1058, 1059, 1060, 1061, 1062, 1063, 1064, 1065, 1066, 1067, 1068, 1069, 1070, 1071, 1072, 1073, 1074, 1075, 1080, 1135, 1136, 1137, 1138, 1139, 1140, 1141, 1142, 1143, 1144, 1145, 1146, 1147, 1148, 1149, 1150, 1151, 1152, 1153, 1154, 1155, 1156, 1160, 1217, 1218, 1219, 1220, 1221, 1222, 1223, 1224, 1225, 1226, 1227, 1228, 1229, 1230, 1231, 1232, 1233, 1234, 1235, 1236, 1237, 1238, 1240, 1300, 1301, 1302, 1303, 1304, 1305, 1306, 1307, 1308, 1309, 1310, 1311, 1312, 1313, 1314, 1315, 1316, 1317, 1318, 1319, 1320, 1382, 1383, 1384, 1385, 1386, 1387, 1388, 1389, 1390, 1391, 1392, 1393, 1394, 1395, 1396, 1397, 1398, 1399, 1400, 1401, 1465, 1466, 1467, 1468, 1469, 1470, 1471, 1472, 1473, 1474, 1475, 1476, 1477, 1478, 1479, 1480, 1481, 1482, 1483, 1547, 1548, 1549, 1550, 1551, 1552, 1553, 1554, 1555, 1556, 1557, 1558, 1559, 1560, 1561, 1562, 1563, 1564, 1565, 1629, 1630, 1631, 1632, 1633, 1634, 1635, 1636, 1637, 1638, 1639, 1640, 1641, 1642, 1643, 1644, 1645, 1646, 1647, 1700, 1712, 1713, 1714, 1715, 1716, 1717, 1718, 1719, 1720, 1721, 1722, 1723, 1724, 1725, 1726, 1727, 1728, 1780, 1794, 1795, 1796, 1797, 1798, 1799, 1800, 1801, 1802, 1803, 1804, 1805, 1806, 1807, 1808, 1809, 1810, 1860, 1877, 1878, 1879, 1880, 1881, 1882, 1883, 1884, 1885, 1886, 1887, 1888, 1889, 1890, 1891, 1892, 1940, 1959, 1960, 1961, 1962, 1963, 1964, 1965, 1966, 1967, 1968, 1969, 1970, 1971, 1972, 1973, 1974, 2020, 2040, 2041, 2042, 2043, 2044, 2045, 2046, 2047, 2048, 2049, 2050, 2051, 2052, 2053, 2054, 2055, 2100, 2120, 2124, 2125, 2126, 2127, 2128, 2129, 2130, 2131, 2132, 2133, 2134, 2135, 2136, 2137, 2180, 2200, 2206, 2207, 2208, 2209, 2210, 2211, 2212, 2213, 2214, 2215, 2216, 2217, 2218, 2219, 2260, 2280, 2289, 2290, 2291, 2292, 2293, 2294, 2295, 2296, 2297, 2298, 2299, 2300, 2340, 2360, 2371, 2372, 2373, 2374, 2375, 2376, 2377, 2378, 2379, 2380, 2381, 2382, 2420, 2440, 2454, 2455, 2456, 2457, 2458, 2459, 2460, 2461, 2462, 2463, 2464, 2500, 2520, 2536, 2537, 2538, 2539, 2540, 2541, 2542, 2543, 2544, 2545, 2546, 2580, 2600, 2618, 2619, 2620, 2621, 2622, 2623, 2624, 2625, 2626, 2627, 2660, 2680, 2701, 2702, 2703, 2704, 2705, 2706, 2707, 2708, 2709, 2740, 2760, 2783, 2784, 2785, 2786, 2787, 2788, 2789, 2790, 2791, 2820, 2840, 2866, 2867, 2868, 2869, 2870, 2871, 2872, 2873, 2900, 2920, 2948, 2949, 2950, 2951, 2952, 2953, 2954, 2980, 3000, 3030, 3031, 3032, 3033, 3034, 3035, 3036, 3060, 3080, 3113, 3114, 3115, 3116, 3117, 3118, 3140, 3160, 3195, 3196, 3197, 3198, 3199, 3200, 3220, 3240, 3278, 3279, 3280, 3281, 3300, 3360, 3361, 3362, 3363, 3380, 3443, 3444, 3445, 3460, 3525, 3526, 3540, 3607, 3608, 3620, 3690, 3700, 3772, 3780, 3854, 3860, 3936, 3940, 4018, 4019, 4020, 4099, 4100, 4101, 4180, 4181, 4182, 4183, 4260, 4263, 4264, 4265, 4266, 4340, 4345, 4346, 4347, 4348, 4420, 4427, 4428, 4429, 4430, 4431, 4500, 4508, 4509, 4510, 4511, 4512, 4513, 4580, 4590, 4591, 4592, 4593, 4594, 4595, 4660, 4672, 4673, 4674, 4675, 4676, 4677, 4678, 4740, 4753, 4754, 4755, 4756, 4757, 4758, 4759, 4760, 4820, 4835, 4836, 4837, 4838, 4839, 4840, 4841, 4842, 4843, 4900, 4917, 4918, 4919, 4920, 4921, 4922, 4923, 4924, 4925, 4980, 4999, 5000, 5001, 5002, 5003, 5004, 5005, 5006, 5007, 5060, 5080, 5081, 5082, 5083, 5084, 5085, 5086, 5087, 5088, 5089, 5090, 5140, 5162, 5163, 5164, 5165, 5166, 5167, 5168, 5169, 5170, 5171, 5172, 5220, 5244, 5245, 5246, 5247, 5248, 5249, 5250, 5251, 5252, 5253, 5254, 5255, 5300, 5326, 5327, 5328, 5329, 5330, 5331, 5332, 5333, 5334, 5335, 5336, 5337, 5380, 5407, 5408, 5409, 5410, 5411, 5412, 5413, 5414, 5415, 5416, 5417, 5418, 5419, 5420, 5460, 5489, 5490, 5491, 5492, 5493, 5494, 5495, 5496, 5497, 5498, 5499, 5500, 5501, 5502, 5540, 5571, 5572, 5573, 5574, 5575, 5576, 5577, 5578, 5579, 5580, 5581, 5582, 5583, 5584, 5620, 5653, 5654, 5655, 5656, 5657, 5658, 5659, 5660, 5661, 5662, 5663, 5664, 5665, 5666, 5667, 5700, 5734, 5735, 5736, 5737, 5738, 5739, 5740, 5741, 5742, 5743, 5744, 5745, 5746, 5747, 5748, 5749, 5780, 5816, 5817, 5818, 5819, 5820, 5821, 5822, 5823, 5824, 5825, 5826, 5827, 5828, 5829, 5830, 5831, 5860, 5898, 5899, 5900, 5901, 5902, 5903, 5904, 5905, 5906, 5907, 5908, 5909, 5910, 5911, 5912, 5940, 5979, 5980, 5981, 5982, 5983, 5984, 5985, 5986, 5987, 5988, 5989, 5990, 5991, 5992, 5993, 6020, 6061, 6062, 6063, 6064, 6065, 6066, 6067, 6068, 6069, 6070, 6071, 6072, 6073, 6074, 6100, 6143, 6144, 6145, 6146, 6147, 6148, 6149, 6150, 6151, 6152, 6153, 6154, 6155, 6180, 6225, 6226, 6227, 6228, 6229, 6230, 6231, 6232, 6233, 6234, 6235, 6236, 6260, 6306, 6307, 6308, 6309, 6310, 6311, 6312, 6313, 6314, 6315, 6316, 6317, 6340, 6388, 6389, 6390, 6391, 6392, 6393, 6394, 6395, 6396, 6397, 6398, 6420, 6470, 6471, 6472, 6473, 6474, 6475, 6476, 6477, 6478, 6479, 6500, 6552, 6553, 6554, 6555, 6556, 6557, 6558, 6559, 6560]\n",
      "CPU times: user 192 ms, sys: 12.1 ms, total: 204 ms\n",
      "Wall time: 203 ms\n"
     ]
    }
   ],
   "source": [
    "%%time\n",
    "n_total = len(simulation.dataframe)\n",
    "n_train = len(simulation.dataframe[simulation.dataframe.type_of == \"train\"])\n",
    "n_val = len(simulation.dataframe[simulation.dataframe.type_of == \"val\"])\n",
    "n_test = len(simulation.dataframe[simulation.dataframe.type_of == \"test\"])\n",
    "n_train_hamiltonians = len(simulation.train_ids)\n",
    "n_val_hamiltonians = len(simulation.val_ids)\n",
    "n_test_hamiltonians = len(simulation.test_ids)\n",
    "n_total_hamiltonians = n_train_hamiltonians + n_val_hamiltonians + n_test_hamiltonians\n",
    "\n",
    "print(\"% train: \", n_train/n_total)\n",
    "print(\"% val: \",  n_val/n_total)\n",
    "print(\"% test: \", n_test/n_total)\n",
    "print(\"% train + val + test: \", (n_train+n_val+n_test)/n_total)\n",
    "print(\"\\n\")\n",
    "print(\"number of train hamiltonians: \", n_train_hamiltonians)\n",
    "print(\"number of val hamiltonians: \", n_val_hamiltonians)\n",
    "print(\"number of test hamiltonians: \", n_test_hamiltonians)\n",
    "print(\"total number of hamiltonians: \", n_total_hamiltonians)\n",
    "print(\"\\n\")\n",
    "print(\"train ids: \", simulation.train_ids)\n",
    "print(\"val ids: \", simulation.val_ids)\n",
    "print(\"test ids: \", simulation.test_ids)"
   ]
  },
  {
   "cell_type": "markdown",
   "metadata": {
    "papermill": {
     "duration": 0.02026,
     "end_time": "2020-07-18T17:10:22.564493",
     "exception": false,
     "start_time": "2020-07-18T17:10:22.544233",
     "status": "completed"
    },
    "tags": []
   },
   "source": [
    "## Running a simulation"
   ]
  },
  {
   "cell_type": "code",
   "execution_count": 27,
   "metadata": {
    "execution": {
     "iopub.execute_input": "2020-07-18T17:10:22.607520Z",
     "iopub.status.busy": "2020-07-18T17:10:22.607204Z",
     "iopub.status.idle": "2020-07-18T17:37:32.977513Z",
     "shell.execute_reply": "2020-07-18T17:37:32.977829Z"
    },
    "papermill": {
     "duration": 1630.392145,
     "end_time": "2020-07-18T17:37:32.977897",
     "exception": false,
     "start_time": "2020-07-18T17:10:22.585752",
     "status": "completed"
    },
    "tags": []
   },
   "outputs": [
    {
     "name": "stderr",
     "output_type": "stream",
     "text": [
      "\r",
      "running experiments:   0%|          | 0/100 [00:00<?, ?it/s]"
     ]
    },
    {
     "name": "stdout",
     "output_type": "stream",
     "text": [
      "Simulation mode:  dst\n"
     ]
    },
    {
     "name": "stderr",
     "output_type": "stream",
     "text": [
      "\r",
      "running experiments:   1%|          | 1/100 [00:16<26:48, 16.25s/it]"
     ]
    },
    {
     "name": "stderr",
     "output_type": "stream",
     "text": [
      "\r",
      "running experiments:   2%|▏         | 2/100 [00:32<26:31, 16.24s/it]"
     ]
    },
    {
     "name": "stderr",
     "output_type": "stream",
     "text": [
      "\r",
      "running experiments:   3%|▎         | 3/100 [00:48<26:15, 16.24s/it]"
     ]
    },
    {
     "name": "stderr",
     "output_type": "stream",
     "text": [
      "\r",
      "running experiments:   4%|▍         | 4/100 [01:04<25:58, 16.23s/it]"
     ]
    },
    {
     "name": "stderr",
     "output_type": "stream",
     "text": [
      "\r",
      "running experiments:   5%|▌         | 5/100 [01:21<25:46, 16.28s/it]"
     ]
    },
    {
     "name": "stderr",
     "output_type": "stream",
     "text": [
      "\r",
      "running experiments:   6%|▌         | 6/100 [01:38<25:49, 16.48s/it]"
     ]
    },
    {
     "name": "stderr",
     "output_type": "stream",
     "text": [
      "\r",
      "running experiments:   7%|▋         | 7/100 [01:55<25:42, 16.58s/it]"
     ]
    },
    {
     "name": "stderr",
     "output_type": "stream",
     "text": [
      "\r",
      "running experiments:   8%|▊         | 8/100 [02:11<25:17, 16.49s/it]"
     ]
    },
    {
     "name": "stderr",
     "output_type": "stream",
     "text": [
      "\r",
      "running experiments:   9%|▉         | 9/100 [02:27<25:02, 16.51s/it]"
     ]
    },
    {
     "name": "stderr",
     "output_type": "stream",
     "text": [
      "\r",
      "running experiments:  10%|█         | 10/100 [02:44<24:42, 16.48s/it]"
     ]
    },
    {
     "name": "stderr",
     "output_type": "stream",
     "text": [
      "\r",
      "running experiments:  11%|█         | 11/100 [03:00<24:31, 16.53s/it]"
     ]
    },
    {
     "name": "stderr",
     "output_type": "stream",
     "text": [
      "\r",
      "running experiments:  12%|█▏        | 12/100 [03:17<24:01, 16.38s/it]"
     ]
    },
    {
     "name": "stderr",
     "output_type": "stream",
     "text": [
      "\r",
      "running experiments:  13%|█▎        | 13/100 [03:33<23:40, 16.33s/it]"
     ]
    },
    {
     "name": "stderr",
     "output_type": "stream",
     "text": [
      "\r",
      "running experiments:  14%|█▍        | 14/100 [03:49<23:24, 16.33s/it]"
     ]
    },
    {
     "name": "stderr",
     "output_type": "stream",
     "text": [
      "\r",
      "running experiments:  15%|█▌        | 15/100 [04:05<23:08, 16.33s/it]"
     ]
    },
    {
     "name": "stderr",
     "output_type": "stream",
     "text": [
      "\r",
      "running experiments:  16%|█▌        | 16/100 [04:22<22:51, 16.32s/it]"
     ]
    },
    {
     "name": "stderr",
     "output_type": "stream",
     "text": [
      "\r",
      "running experiments:  17%|█▋        | 17/100 [04:38<22:32, 16.29s/it]"
     ]
    },
    {
     "name": "stderr",
     "output_type": "stream",
     "text": [
      "\r",
      "running experiments:  18%|█▊        | 18/100 [04:54<22:14, 16.27s/it]"
     ]
    },
    {
     "name": "stderr",
     "output_type": "stream",
     "text": [
      "\r",
      "running experiments:  19%|█▉        | 19/100 [05:10<21:58, 16.28s/it]"
     ]
    },
    {
     "name": "stderr",
     "output_type": "stream",
     "text": [
      "\r",
      "running experiments:  20%|██        | 20/100 [05:27<21:50, 16.38s/it]"
     ]
    },
    {
     "name": "stderr",
     "output_type": "stream",
     "text": [
      "\r",
      "running experiments:  21%|██        | 21/100 [05:43<21:30, 16.33s/it]"
     ]
    },
    {
     "name": "stderr",
     "output_type": "stream",
     "text": [
      "\r",
      "running experiments:  22%|██▏       | 22/100 [05:59<21:03, 16.20s/it]"
     ]
    },
    {
     "name": "stderr",
     "output_type": "stream",
     "text": [
      "\r",
      "running experiments:  23%|██▎       | 23/100 [06:15<20:50, 16.24s/it]"
     ]
    },
    {
     "name": "stderr",
     "output_type": "stream",
     "text": [
      "\r",
      "running experiments:  24%|██▍       | 24/100 [06:32<20:33, 16.23s/it]"
     ]
    },
    {
     "name": "stderr",
     "output_type": "stream",
     "text": [
      "\r",
      "running experiments:  25%|██▌       | 25/100 [06:48<20:14, 16.19s/it]"
     ]
    },
    {
     "name": "stderr",
     "output_type": "stream",
     "text": [
      "\r",
      "running experiments:  26%|██▌       | 26/100 [07:06<20:50, 16.90s/it]"
     ]
    },
    {
     "name": "stderr",
     "output_type": "stream",
     "text": [
      "\r",
      "running experiments:  27%|██▋       | 27/100 [07:24<20:48, 17.11s/it]"
     ]
    },
    {
     "name": "stderr",
     "output_type": "stream",
     "text": [
      "\r",
      "running experiments:  28%|██▊       | 28/100 [07:40<20:10, 16.81s/it]"
     ]
    },
    {
     "name": "stderr",
     "output_type": "stream",
     "text": [
      "\r",
      "running experiments:  29%|██▉       | 29/100 [07:56<19:40, 16.63s/it]"
     ]
    },
    {
     "name": "stderr",
     "output_type": "stream",
     "text": [
      "\r",
      "running experiments:  30%|███       | 30/100 [08:13<19:16, 16.53s/it]"
     ]
    },
    {
     "name": "stderr",
     "output_type": "stream",
     "text": [
      "\r",
      "running experiments:  31%|███       | 31/100 [08:29<18:59, 16.52s/it]"
     ]
    },
    {
     "name": "stderr",
     "output_type": "stream",
     "text": [
      "\r",
      "running experiments:  32%|███▏      | 32/100 [08:45<18:37, 16.43s/it]"
     ]
    },
    {
     "name": "stderr",
     "output_type": "stream",
     "text": [
      "\r",
      "running experiments:  33%|███▎      | 33/100 [09:01<18:10, 16.27s/it]"
     ]
    },
    {
     "name": "stderr",
     "output_type": "stream",
     "text": [
      "\r",
      "running experiments:  34%|███▍      | 34/100 [09:18<18:01, 16.38s/it]"
     ]
    },
    {
     "name": "stderr",
     "output_type": "stream",
     "text": [
      "\r",
      "running experiments:  35%|███▌      | 35/100 [09:34<17:41, 16.33s/it]"
     ]
    },
    {
     "name": "stderr",
     "output_type": "stream",
     "text": [
      "\r",
      "running experiments:  36%|███▌      | 36/100 [09:50<17:26, 16.35s/it]"
     ]
    },
    {
     "name": "stderr",
     "output_type": "stream",
     "text": [
      "\r",
      "running experiments:  37%|███▋      | 37/100 [10:07<17:07, 16.31s/it]"
     ]
    },
    {
     "name": "stderr",
     "output_type": "stream",
     "text": [
      "\r",
      "running experiments:  38%|███▊      | 38/100 [10:23<16:51, 16.31s/it]"
     ]
    },
    {
     "name": "stderr",
     "output_type": "stream",
     "text": [
      "\r",
      "running experiments:  39%|███▉      | 39/100 [10:39<16:36, 16.34s/it]"
     ]
    },
    {
     "name": "stderr",
     "output_type": "stream",
     "text": [
      "\r",
      "running experiments:  40%|████      | 40/100 [10:56<16:24, 16.41s/it]"
     ]
    },
    {
     "name": "stderr",
     "output_type": "stream",
     "text": [
      "\r",
      "running experiments:  41%|████      | 41/100 [11:12<16:03, 16.33s/it]"
     ]
    },
    {
     "name": "stderr",
     "output_type": "stream",
     "text": [
      "\r",
      "running experiments:  42%|████▏     | 42/100 [11:28<15:48, 16.35s/it]"
     ]
    },
    {
     "name": "stderr",
     "output_type": "stream",
     "text": [
      "\r",
      "running experiments:  43%|████▎     | 43/100 [11:45<15:30, 16.33s/it]"
     ]
    },
    {
     "name": "stderr",
     "output_type": "stream",
     "text": [
      "\r",
      "running experiments:  44%|████▍     | 44/100 [12:01<15:17, 16.38s/it]"
     ]
    },
    {
     "name": "stderr",
     "output_type": "stream",
     "text": [
      "\r",
      "running experiments:  45%|████▌     | 45/100 [12:18<14:59, 16.35s/it]"
     ]
    },
    {
     "name": "stderr",
     "output_type": "stream",
     "text": [
      "\r",
      "running experiments:  46%|████▌     | 46/100 [12:34<14:42, 16.35s/it]"
     ]
    },
    {
     "name": "stderr",
     "output_type": "stream",
     "text": [
      "\r",
      "running experiments:  47%|████▋     | 47/100 [12:50<14:25, 16.33s/it]"
     ]
    },
    {
     "name": "stderr",
     "output_type": "stream",
     "text": [
      "\r",
      "running experiments:  48%|████▊     | 48/100 [13:06<14:05, 16.26s/it]"
     ]
    },
    {
     "name": "stderr",
     "output_type": "stream",
     "text": [
      "\r",
      "running experiments:  49%|████▉     | 49/100 [13:23<13:49, 16.27s/it]"
     ]
    },
    {
     "name": "stderr",
     "output_type": "stream",
     "text": [
      "\r",
      "running experiments:  50%|█████     | 50/100 [13:39<13:35, 16.32s/it]"
     ]
    },
    {
     "name": "stderr",
     "output_type": "stream",
     "text": [
      "\r",
      "running experiments:  51%|█████     | 51/100 [13:55<13:18, 16.29s/it]"
     ]
    },
    {
     "name": "stderr",
     "output_type": "stream",
     "text": [
      "\r",
      "running experiments:  52%|█████▏    | 52/100 [14:11<13:01, 16.29s/it]"
     ]
    },
    {
     "name": "stderr",
     "output_type": "stream",
     "text": [
      "\r",
      "running experiments:  53%|█████▎    | 53/100 [14:28<12:47, 16.33s/it]"
     ]
    },
    {
     "name": "stderr",
     "output_type": "stream",
     "text": [
      "\r",
      "running experiments:  54%|█████▍    | 54/100 [14:44<12:28, 16.27s/it]"
     ]
    },
    {
     "name": "stderr",
     "output_type": "stream",
     "text": [
      "\r",
      "running experiments:  55%|█████▌    | 55/100 [15:00<12:09, 16.20s/it]"
     ]
    },
    {
     "name": "stderr",
     "output_type": "stream",
     "text": [
      "\r",
      "running experiments:  56%|█████▌    | 56/100 [15:16<11:51, 16.18s/it]"
     ]
    },
    {
     "name": "stderr",
     "output_type": "stream",
     "text": [
      "\r",
      "running experiments:  57%|█████▋    | 57/100 [15:33<11:38, 16.25s/it]"
     ]
    },
    {
     "name": "stderr",
     "output_type": "stream",
     "text": [
      "\r",
      "running experiments:  58%|█████▊    | 58/100 [15:49<11:21, 16.23s/it]"
     ]
    },
    {
     "name": "stderr",
     "output_type": "stream",
     "text": [
      "\r",
      "running experiments:  59%|█████▉    | 59/100 [16:05<11:07, 16.28s/it]"
     ]
    },
    {
     "name": "stderr",
     "output_type": "stream",
     "text": [
      "\r",
      "running experiments:  60%|██████    | 60/100 [16:22<10:54, 16.36s/it]"
     ]
    },
    {
     "name": "stderr",
     "output_type": "stream",
     "text": [
      "\r",
      "running experiments:  61%|██████    | 61/100 [16:38<10:37, 16.35s/it]"
     ]
    },
    {
     "name": "stderr",
     "output_type": "stream",
     "text": [
      "\r",
      "running experiments:  62%|██████▏   | 62/100 [16:54<10:17, 16.24s/it]"
     ]
    },
    {
     "name": "stderr",
     "output_type": "stream",
     "text": [
      "\r",
      "running experiments:  63%|██████▎   | 63/100 [17:10<09:57, 16.14s/it]"
     ]
    },
    {
     "name": "stderr",
     "output_type": "stream",
     "text": [
      "\r",
      "running experiments:  64%|██████▍   | 64/100 [17:26<09:44, 16.23s/it]"
     ]
    },
    {
     "name": "stderr",
     "output_type": "stream",
     "text": [
      "\r",
      "running experiments:  65%|██████▌   | 65/100 [17:43<09:28, 16.25s/it]"
     ]
    },
    {
     "name": "stderr",
     "output_type": "stream",
     "text": [
      "\r",
      "running experiments:  66%|██████▌   | 66/100 [17:59<09:12, 16.24s/it]"
     ]
    },
    {
     "name": "stderr",
     "output_type": "stream",
     "text": [
      "\r",
      "running experiments:  67%|██████▋   | 67/100 [18:15<08:58, 16.32s/it]"
     ]
    },
    {
     "name": "stderr",
     "output_type": "stream",
     "text": [
      "\r",
      "running experiments:  68%|██████▊   | 68/100 [18:32<08:40, 16.27s/it]"
     ]
    },
    {
     "name": "stderr",
     "output_type": "stream",
     "text": [
      "\r",
      "running experiments:  69%|██████▉   | 69/100 [18:47<08:20, 16.15s/it]"
     ]
    },
    {
     "name": "stderr",
     "output_type": "stream",
     "text": [
      "\r",
      "running experiments:  70%|███████   | 70/100 [19:04<08:05, 16.19s/it]"
     ]
    },
    {
     "name": "stderr",
     "output_type": "stream",
     "text": [
      "\r",
      "running experiments:  71%|███████   | 71/100 [19:20<07:50, 16.23s/it]"
     ]
    },
    {
     "name": "stderr",
     "output_type": "stream",
     "text": [
      "\r",
      "running experiments:  72%|███████▏  | 72/100 [19:36<07:33, 16.19s/it]"
     ]
    },
    {
     "name": "stderr",
     "output_type": "stream",
     "text": [
      "\r",
      "running experiments:  73%|███████▎  | 73/100 [19:52<07:14, 16.11s/it]"
     ]
    },
    {
     "name": "stderr",
     "output_type": "stream",
     "text": [
      "\r",
      "running experiments:  74%|███████▍  | 74/100 [20:08<07:00, 16.17s/it]"
     ]
    },
    {
     "name": "stderr",
     "output_type": "stream",
     "text": [
      "\r",
      "running experiments:  75%|███████▌  | 75/100 [20:25<06:46, 16.24s/it]"
     ]
    },
    {
     "name": "stderr",
     "output_type": "stream",
     "text": [
      "\r",
      "running experiments:  76%|███████▌  | 76/100 [20:41<06:30, 16.26s/it]"
     ]
    },
    {
     "name": "stderr",
     "output_type": "stream",
     "text": [
      "\r",
      "running experiments:  77%|███████▋  | 77/100 [20:57<06:14, 16.27s/it]"
     ]
    },
    {
     "name": "stderr",
     "output_type": "stream",
     "text": [
      "\r",
      "running experiments:  78%|███████▊  | 78/100 [21:14<05:58, 16.31s/it]"
     ]
    },
    {
     "name": "stderr",
     "output_type": "stream",
     "text": [
      "\r",
      "running experiments:  79%|███████▉  | 79/100 [21:30<05:41, 16.25s/it]"
     ]
    },
    {
     "name": "stderr",
     "output_type": "stream",
     "text": [
      "\r",
      "running experiments:  80%|████████  | 80/100 [21:46<05:24, 16.23s/it]"
     ]
    },
    {
     "name": "stderr",
     "output_type": "stream",
     "text": [
      "\r",
      "running experiments:  81%|████████  | 81/100 [22:03<05:10, 16.32s/it]"
     ]
    },
    {
     "name": "stderr",
     "output_type": "stream",
     "text": [
      "\r",
      "running experiments:  82%|████████▏ | 82/100 [22:19<04:54, 16.35s/it]"
     ]
    },
    {
     "name": "stderr",
     "output_type": "stream",
     "text": [
      "\r",
      "running experiments:  83%|████████▎ | 83/100 [22:35<04:36, 16.26s/it]"
     ]
    },
    {
     "name": "stderr",
     "output_type": "stream",
     "text": [
      "\r",
      "running experiments:  84%|████████▍ | 84/100 [22:51<04:18, 16.18s/it]"
     ]
    },
    {
     "name": "stderr",
     "output_type": "stream",
     "text": [
      "\r",
      "running experiments:  85%|████████▌ | 85/100 [23:08<04:06, 16.43s/it]"
     ]
    },
    {
     "name": "stderr",
     "output_type": "stream",
     "text": [
      "\r",
      "running experiments:  86%|████████▌ | 86/100 [23:24<03:47, 16.28s/it]"
     ]
    },
    {
     "name": "stderr",
     "output_type": "stream",
     "text": [
      "\r",
      "running experiments:  87%|████████▋ | 87/100 [23:40<03:31, 16.26s/it]"
     ]
    },
    {
     "name": "stderr",
     "output_type": "stream",
     "text": [
      "\r",
      "running experiments:  88%|████████▊ | 88/100 [23:57<03:15, 16.26s/it]"
     ]
    },
    {
     "name": "stderr",
     "output_type": "stream",
     "text": [
      "\r",
      "running experiments:  89%|████████▉ | 89/100 [24:12<02:57, 16.16s/it]"
     ]
    },
    {
     "name": "stderr",
     "output_type": "stream",
     "text": [
      "\r",
      "running experiments:  90%|█████████ | 90/100 [24:28<02:40, 16.05s/it]"
     ]
    },
    {
     "name": "stderr",
     "output_type": "stream",
     "text": [
      "\r",
      "running experiments:  91%|█████████ | 91/100 [24:44<02:24, 16.04s/it]"
     ]
    },
    {
     "name": "stderr",
     "output_type": "stream",
     "text": [
      "\r",
      "running experiments:  92%|█████████▏| 92/100 [25:00<02:08, 16.06s/it]"
     ]
    },
    {
     "name": "stderr",
     "output_type": "stream",
     "text": [
      "\r",
      "running experiments:  93%|█████████▎| 93/100 [25:16<01:52, 16.04s/it]"
     ]
    },
    {
     "name": "stderr",
     "output_type": "stream",
     "text": [
      "\r",
      "running experiments:  94%|█████████▍| 94/100 [25:33<01:36, 16.16s/it]"
     ]
    },
    {
     "name": "stderr",
     "output_type": "stream",
     "text": [
      "\r",
      "running experiments:  95%|█████████▌| 95/100 [25:49<01:20, 16.16s/it]"
     ]
    },
    {
     "name": "stderr",
     "output_type": "stream",
     "text": [
      "\r",
      "running experiments:  96%|█████████▌| 96/100 [26:05<01:04, 16.20s/it]"
     ]
    },
    {
     "name": "stderr",
     "output_type": "stream",
     "text": [
      "\r",
      "running experiments:  97%|█████████▋| 97/100 [26:21<00:48, 16.20s/it]"
     ]
    },
    {
     "name": "stderr",
     "output_type": "stream",
     "text": [
      "\r",
      "running experiments:  98%|█████████▊| 98/100 [26:38<00:32, 16.23s/it]"
     ]
    },
    {
     "name": "stderr",
     "output_type": "stream",
     "text": [
      "\r",
      "running experiments:  99%|█████████▉| 99/100 [26:54<00:16, 16.18s/it]"
     ]
    },
    {
     "name": "stderr",
     "output_type": "stream",
     "text": [
      "\r",
      "running experiments: 100%|██████████| 100/100 [27:10<00:00, 16.12s/it]"
     ]
    },
    {
     "name": "stderr",
     "output_type": "stream",
     "text": [
      "\r",
      "running experiments: 100%|██████████| 100/100 [27:10<00:00, 16.30s/it]"
     ]
    },
    {
     "name": "stdout",
     "output_type": "stream",
     "text": [
      "CPU times: user 2h 52min 59s, sys: 10.3 s, total: 2h 53min 9s\n",
      "Wall time: 27min 10s\n"
     ]
    },
    {
     "name": "stderr",
     "output_type": "stream",
     "text": [
      "\n"
     ]
    }
   ],
   "source": [
    "\n",
    "%%time\n",
    "simulation.run_simulation(n_experiments, start_n, fit_params,shuffle_rows, pred_params, random_features, \\\n",
    "                          store_in_lists, save_eigenvector, save_hamiltonian, save_accuracy,\\\n",
    "                          save_models)\n",
    "if simulation.fourier_mode is not None:\n",
    "    simulation.fourier_dataframe.head(10)"
   ]
  },
  {
   "cell_type": "code",
   "execution_count": 28,
   "metadata": {
    "execution": {
     "iopub.execute_input": "2020-07-18T17:37:33.058567Z",
     "iopub.status.busy": "2020-07-18T17:37:33.058255Z",
     "iopub.status.idle": "2020-07-18T17:37:33.082707Z",
     "shell.execute_reply": "2020-07-18T17:37:33.082380Z"
    },
    "papermill": {
     "duration": 0.067347,
     "end_time": "2020-07-18T17:37:33.082758",
     "exception": false,
     "start_time": "2020-07-18T17:37:33.015411",
     "status": "completed"
    },
    "tags": []
   },
   "outputs": [
    {
     "data": {
      "text/html": [
       "<div>\n",
       "<style scoped>\n",
       "    .dataframe tbody tr th:only-of-type {\n",
       "        vertical-align: middle;\n",
       "    }\n",
       "\n",
       "    .dataframe tbody tr th {\n",
       "        vertical-align: top;\n",
       "    }\n",
       "\n",
       "    .dataframe thead th {\n",
       "        text-align: right;\n",
       "    }\n",
       "</style>\n",
       "<table border=\"1\" class=\"dataframe\">\n",
       "  <thead>\n",
       "    <tr style=\"text-align: right;\">\n",
       "      <th></th>\n",
       "      <th>id</th>\n",
       "      <th>path</th>\n",
       "      <th>t1</th>\n",
       "      <th>t2</th>\n",
       "      <th>winding</th>\n",
       "      <th>phase</th>\n",
       "      <th>pred_phase</th>\n",
       "      <th>type_of</th>\n",
       "      <th>feat0</th>\n",
       "      <th>feat1</th>\n",
       "      <th>...</th>\n",
       "      <th>feat90</th>\n",
       "      <th>feat91</th>\n",
       "      <th>feat92</th>\n",
       "      <th>feat93</th>\n",
       "      <th>feat94</th>\n",
       "      <th>feat95</th>\n",
       "      <th>feat96</th>\n",
       "      <th>feat97</th>\n",
       "      <th>feat98</th>\n",
       "      <th>feat99</th>\n",
       "    </tr>\n",
       "  </thead>\n",
       "  <tbody>\n",
       "    <tr>\n",
       "      <th>0</th>\n",
       "      <td>0</td>\n",
       "      <td>H_-2_-2_0.501338.dat</td>\n",
       "      <td>-2.0</td>\n",
       "      <td>-2.0</td>\n",
       "      <td>0.501338</td>\n",
       "      <td>999</td>\n",
       "      <td>666</td>\n",
       "      <td>test</td>\n",
       "      <td>-0.130965</td>\n",
       "      <td>0.301130</td>\n",
       "      <td>...</td>\n",
       "      <td>-0.080279</td>\n",
       "      <td>-0.115687</td>\n",
       "      <td>-0.174988</td>\n",
       "      <td>0.245064</td>\n",
       "      <td>0.319763</td>\n",
       "      <td>-0.059082</td>\n",
       "      <td>-0.000556</td>\n",
       "      <td>-0.245133</td>\n",
       "      <td>-0.301130</td>\n",
       "      <td>0.130965</td>\n",
       "    </tr>\n",
       "    <tr>\n",
       "      <th>1</th>\n",
       "      <td>0</td>\n",
       "      <td>H_-2_-2_0.501338.dat</td>\n",
       "      <td>-2.0</td>\n",
       "      <td>-2.0</td>\n",
       "      <td>0.501338</td>\n",
       "      <td>999</td>\n",
       "      <td>666</td>\n",
       "      <td>test</td>\n",
       "      <td>-0.130965</td>\n",
       "      <td>-0.301130</td>\n",
       "      <td>...</td>\n",
       "      <td>-0.080279</td>\n",
       "      <td>0.115687</td>\n",
       "      <td>-0.174988</td>\n",
       "      <td>-0.245064</td>\n",
       "      <td>0.319763</td>\n",
       "      <td>0.059082</td>\n",
       "      <td>-0.000556</td>\n",
       "      <td>0.245133</td>\n",
       "      <td>-0.301130</td>\n",
       "      <td>-0.130965</td>\n",
       "    </tr>\n",
       "    <tr>\n",
       "      <th>2</th>\n",
       "      <td>0</td>\n",
       "      <td>H_-2_-2_0.501338.dat</td>\n",
       "      <td>-2.0</td>\n",
       "      <td>-2.0</td>\n",
       "      <td>0.501338</td>\n",
       "      <td>999</td>\n",
       "      <td>666</td>\n",
       "      <td>test</td>\n",
       "      <td>-0.148414</td>\n",
       "      <td>-0.042467</td>\n",
       "      <td>...</td>\n",
       "      <td>0.185442</td>\n",
       "      <td>-0.080620</td>\n",
       "      <td>-0.066211</td>\n",
       "      <td>-0.121339</td>\n",
       "      <td>-0.151700</td>\n",
       "      <td>0.192513</td>\n",
       "      <td>0.191642</td>\n",
       "      <td>-0.050956</td>\n",
       "      <td>-0.042467</td>\n",
       "      <td>-0.148414</td>\n",
       "    </tr>\n",
       "    <tr>\n",
       "      <th>3</th>\n",
       "      <td>0</td>\n",
       "      <td>H_-2_-2_0.501338.dat</td>\n",
       "      <td>-2.0</td>\n",
       "      <td>-2.0</td>\n",
       "      <td>0.501338</td>\n",
       "      <td>999</td>\n",
       "      <td>666</td>\n",
       "      <td>test</td>\n",
       "      <td>-0.069630</td>\n",
       "      <td>-0.026147</td>\n",
       "      <td>...</td>\n",
       "      <td>0.102009</td>\n",
       "      <td>-0.100671</td>\n",
       "      <td>-0.081002</td>\n",
       "      <td>-0.020715</td>\n",
       "      <td>-0.058717</td>\n",
       "      <td>0.115834</td>\n",
       "      <td>0.118274</td>\n",
       "      <td>-0.054666</td>\n",
       "      <td>-0.026147</td>\n",
       "      <td>-0.069630</td>\n",
       "    </tr>\n",
       "    <tr>\n",
       "      <th>4</th>\n",
       "      <td>0</td>\n",
       "      <td>H_-2_-2_0.501338.dat</td>\n",
       "      <td>-2.0</td>\n",
       "      <td>-2.0</td>\n",
       "      <td>0.501338</td>\n",
       "      <td>999</td>\n",
       "      <td>666</td>\n",
       "      <td>test</td>\n",
       "      <td>0.010206</td>\n",
       "      <td>-0.014625</td>\n",
       "      <td>...</td>\n",
       "      <td>0.047555</td>\n",
       "      <td>-0.041368</td>\n",
       "      <td>-0.018852</td>\n",
       "      <td>-0.017673</td>\n",
       "      <td>-0.023377</td>\n",
       "      <td>0.031447</td>\n",
       "      <td>0.010280</td>\n",
       "      <td>0.000925</td>\n",
       "      <td>0.014625</td>\n",
       "      <td>-0.010206</td>\n",
       "    </tr>\n",
       "    <tr>\n",
       "      <th>5</th>\n",
       "      <td>0</td>\n",
       "      <td>H_-2_-2_0.501338.dat</td>\n",
       "      <td>-2.0</td>\n",
       "      <td>-2.0</td>\n",
       "      <td>0.501338</td>\n",
       "      <td>999</td>\n",
       "      <td>666</td>\n",
       "      <td>test</td>\n",
       "      <td>0.116962</td>\n",
       "      <td>0.021475</td>\n",
       "      <td>...</td>\n",
       "      <td>-0.086901</td>\n",
       "      <td>-0.045676</td>\n",
       "      <td>-0.028034</td>\n",
       "      <td>0.129266</td>\n",
       "      <td>0.130083</td>\n",
       "      <td>-0.098190</td>\n",
       "      <td>-0.104188</td>\n",
       "      <td>-0.007911</td>\n",
       "      <td>0.021475</td>\n",
       "      <td>0.116962</td>\n",
       "    </tr>\n",
       "    <tr>\n",
       "      <th>6</th>\n",
       "      <td>0</td>\n",
       "      <td>H_-2_-2_0.501338.dat</td>\n",
       "      <td>-2.0</td>\n",
       "      <td>-2.0</td>\n",
       "      <td>0.501338</td>\n",
       "      <td>999</td>\n",
       "      <td>666</td>\n",
       "      <td>test</td>\n",
       "      <td>0.037175</td>\n",
       "      <td>-0.095882</td>\n",
       "      <td>...</td>\n",
       "      <td>-0.027490</td>\n",
       "      <td>0.046168</td>\n",
       "      <td>0.063419</td>\n",
       "      <td>-0.041630</td>\n",
       "      <td>-0.085769</td>\n",
       "      <td>-0.010604</td>\n",
       "      <td>-0.009822</td>\n",
       "      <td>0.084024</td>\n",
       "      <td>0.095882</td>\n",
       "      <td>-0.037175</td>\n",
       "    </tr>\n",
       "    <tr>\n",
       "      <th>7</th>\n",
       "      <td>0</td>\n",
       "      <td>H_-2_-2_0.501338.dat</td>\n",
       "      <td>-2.0</td>\n",
       "      <td>-2.0</td>\n",
       "      <td>0.501338</td>\n",
       "      <td>999</td>\n",
       "      <td>666</td>\n",
       "      <td>test</td>\n",
       "      <td>0.027709</td>\n",
       "      <td>-0.038180</td>\n",
       "      <td>...</td>\n",
       "      <td>0.123344</td>\n",
       "      <td>-0.114320</td>\n",
       "      <td>-0.057118</td>\n",
       "      <td>-0.040291</td>\n",
       "      <td>-0.061263</td>\n",
       "      <td>0.087153</td>\n",
       "      <td>0.029599</td>\n",
       "      <td>-0.001276</td>\n",
       "      <td>0.038180</td>\n",
       "      <td>-0.027709</td>\n",
       "    </tr>\n",
       "    <tr>\n",
       "      <th>8</th>\n",
       "      <td>0</td>\n",
       "      <td>H_-2_-2_0.501338.dat</td>\n",
       "      <td>-2.0</td>\n",
       "      <td>-2.0</td>\n",
       "      <td>0.501338</td>\n",
       "      <td>999</td>\n",
       "      <td>666</td>\n",
       "      <td>test</td>\n",
       "      <td>0.059795</td>\n",
       "      <td>0.030272</td>\n",
       "      <td>...</td>\n",
       "      <td>-0.082347</td>\n",
       "      <td>0.140996</td>\n",
       "      <td>0.128386</td>\n",
       "      <td>-0.036608</td>\n",
       "      <td>0.029628</td>\n",
       "      <td>-0.124877</td>\n",
       "      <td>-0.140478</td>\n",
       "      <td>0.088573</td>\n",
       "      <td>0.030272</td>\n",
       "      <td>0.059795</td>\n",
       "    </tr>\n",
       "    <tr>\n",
       "      <th>9</th>\n",
       "      <td>0</td>\n",
       "      <td>H_-2_-2_0.501338.dat</td>\n",
       "      <td>-2.0</td>\n",
       "      <td>-2.0</td>\n",
       "      <td>0.501338</td>\n",
       "      <td>999</td>\n",
       "      <td>666</td>\n",
       "      <td>test</td>\n",
       "      <td>0.141605</td>\n",
       "      <td>0.013497</td>\n",
       "      <td>...</td>\n",
       "      <td>-0.035718</td>\n",
       "      <td>-0.110014</td>\n",
       "      <td>-0.082452</td>\n",
       "      <td>0.146084</td>\n",
       "      <td>0.152588</td>\n",
       "      <td>-0.067575</td>\n",
       "      <td>-0.087187</td>\n",
       "      <td>-0.043484</td>\n",
       "      <td>0.013497</td>\n",
       "      <td>0.141605</td>\n",
       "    </tr>\n",
       "  </tbody>\n",
       "</table>\n",
       "<p>10 rows × 108 columns</p>\n",
       "</div>"
      ],
      "text/plain": [
       "   id                  path   t1   t2   winding  phase  pred_phase type_of  \\\n",
       "0   0  H_-2_-2_0.501338.dat -2.0 -2.0  0.501338    999         666    test   \n",
       "1   0  H_-2_-2_0.501338.dat -2.0 -2.0  0.501338    999         666    test   \n",
       "2   0  H_-2_-2_0.501338.dat -2.0 -2.0  0.501338    999         666    test   \n",
       "3   0  H_-2_-2_0.501338.dat -2.0 -2.0  0.501338    999         666    test   \n",
       "4   0  H_-2_-2_0.501338.dat -2.0 -2.0  0.501338    999         666    test   \n",
       "5   0  H_-2_-2_0.501338.dat -2.0 -2.0  0.501338    999         666    test   \n",
       "6   0  H_-2_-2_0.501338.dat -2.0 -2.0  0.501338    999         666    test   \n",
       "7   0  H_-2_-2_0.501338.dat -2.0 -2.0  0.501338    999         666    test   \n",
       "8   0  H_-2_-2_0.501338.dat -2.0 -2.0  0.501338    999         666    test   \n",
       "9   0  H_-2_-2_0.501338.dat -2.0 -2.0  0.501338    999         666    test   \n",
       "\n",
       "      feat0     feat1  ...    feat90    feat91    feat92    feat93    feat94  \\\n",
       "0 -0.130965  0.301130  ... -0.080279 -0.115687 -0.174988  0.245064  0.319763   \n",
       "1 -0.130965 -0.301130  ... -0.080279  0.115687 -0.174988 -0.245064  0.319763   \n",
       "2 -0.148414 -0.042467  ...  0.185442 -0.080620 -0.066211 -0.121339 -0.151700   \n",
       "3 -0.069630 -0.026147  ...  0.102009 -0.100671 -0.081002 -0.020715 -0.058717   \n",
       "4  0.010206 -0.014625  ...  0.047555 -0.041368 -0.018852 -0.017673 -0.023377   \n",
       "5  0.116962  0.021475  ... -0.086901 -0.045676 -0.028034  0.129266  0.130083   \n",
       "6  0.037175 -0.095882  ... -0.027490  0.046168  0.063419 -0.041630 -0.085769   \n",
       "7  0.027709 -0.038180  ...  0.123344 -0.114320 -0.057118 -0.040291 -0.061263   \n",
       "8  0.059795  0.030272  ... -0.082347  0.140996  0.128386 -0.036608  0.029628   \n",
       "9  0.141605  0.013497  ... -0.035718 -0.110014 -0.082452  0.146084  0.152588   \n",
       "\n",
       "     feat95    feat96    feat97    feat98    feat99  \n",
       "0 -0.059082 -0.000556 -0.245133 -0.301130  0.130965  \n",
       "1  0.059082 -0.000556  0.245133 -0.301130 -0.130965  \n",
       "2  0.192513  0.191642 -0.050956 -0.042467 -0.148414  \n",
       "3  0.115834  0.118274 -0.054666 -0.026147 -0.069630  \n",
       "4  0.031447  0.010280  0.000925  0.014625 -0.010206  \n",
       "5 -0.098190 -0.104188 -0.007911  0.021475  0.116962  \n",
       "6 -0.010604 -0.009822  0.084024  0.095882 -0.037175  \n",
       "7  0.087153  0.029599 -0.001276  0.038180 -0.027709  \n",
       "8 -0.124877 -0.140478  0.088573  0.030272  0.059795  \n",
       "9 -0.067575 -0.087187 -0.043484  0.013497  0.141605  \n",
       "\n",
       "[10 rows x 108 columns]"
      ]
     },
     "execution_count": 28,
     "metadata": {},
     "output_type": "execute_result"
    }
   ],
   "source": [
    "simulation.dataframe.head(10)"
   ]
  },
  {
   "cell_type": "markdown",
   "metadata": {
    "papermill": {
     "duration": 0.03967,
     "end_time": "2020-07-18T17:37:33.161255",
     "exception": false,
     "start_time": "2020-07-18T17:37:33.121585",
     "status": "completed"
    },
    "tags": []
   },
   "source": [
    "#### Viewing a random sample"
   ]
  },
  {
   "cell_type": "code",
   "execution_count": 29,
   "metadata": {
    "execution": {
     "iopub.execute_input": "2020-07-18T17:37:33.235863Z",
     "iopub.status.busy": "2020-07-18T17:37:33.235551Z",
     "iopub.status.idle": "2020-07-18T17:37:33.266152Z",
     "shell.execute_reply": "2020-07-18T17:37:33.265832Z"
    },
    "papermill": {
     "duration": 0.068975,
     "end_time": "2020-07-18T17:37:33.266203",
     "exception": false,
     "start_time": "2020-07-18T17:37:33.197228",
     "status": "completed"
    },
    "tags": []
   },
   "outputs": [
    {
     "name": "stdout",
     "output_type": "stream",
     "text": [
      "CPU times: user 20.4 ms, sys: 1 µs, total: 20.4 ms\n",
      "Wall time: 20.2 ms\n"
     ]
    }
   ],
   "source": [
    "%%time\n",
    "if simulation.fourier_mode is not None:\n",
    "    simulation.fourier_dataframe.sample(frac=0.1, replace=False)"
   ]
  },
  {
   "cell_type": "markdown",
   "metadata": {
    "papermill": {
     "duration": 0.036804,
     "end_time": "2020-07-18T17:37:33.340126",
     "exception": false,
     "start_time": "2020-07-18T17:37:33.303322",
     "status": "completed"
    },
    "tags": []
   },
   "source": [
    "#### Checking train/val/test splits again"
   ]
  },
  {
   "cell_type": "code",
   "execution_count": 30,
   "metadata": {
    "execution": {
     "iopub.execute_input": "2020-07-18T17:37:33.414364Z",
     "iopub.status.busy": "2020-07-18T17:37:33.414041Z",
     "iopub.status.idle": "2020-07-18T17:37:34.035600Z",
     "shell.execute_reply": "2020-07-18T17:37:34.035908Z"
    },
    "papermill": {
     "duration": 0.659852,
     "end_time": "2020-07-18T17:37:34.035971",
     "exception": false,
     "start_time": "2020-07-18T17:37:33.376119",
     "status": "completed"
    },
    "tags": []
   },
   "outputs": [
    {
     "name": "stdout",
     "output_type": "stream",
     "text": [
      "% train:  0.4208199969516842\n",
      "% val:  0.42066758116140834\n",
      "% test:  0.15851242188690748\n",
      "% train + val + test:  1.0\n",
      "\n",
      "\n",
      "number of train hamiltonians:  2761\n",
      "number of val hamiltonians:  2760\n",
      "number of test hamiltonians:  1040\n",
      "total number of hamiltonians:  6561\n",
      "\n",
      "\n",
      "train ids:  [3888, 2517, 548, 1621, 4451, 5034, 3958, 1867, 4602, 3738, 1255, 6448, 865, 5675, 4744, 4373, 5637, 26, 724, 3574, 3352, 4076, 2931, 114, 5043, 4817, 2571, 4344, 2234, 190, 6293, 3295, 1194, 2318, 550, 791, 3898, 3499, 674, 763, 3775, 238, 2194, 5533, 3448, 344, 2512, 4879, 3103, 6034, 5649, 4640, 5520, 1902, 597, 4551, 6196, 2745, 6173, 3358, 3985, 101, 3127, 4375, 4769, 5810, 5467, 5876, 3024, 3482, 1454, 6131, 1608, 516, 1774, 5965, 3434, 2582, 5454, 5046, 5294, 1461, 5287, 996, 1088, 3371, 134, 4227, 3043, 6271, 5194, 2759, 4070, 4283, 1702, 1185, 3813, 3340, 1894, 4721, 122, 2017, 4890, 2669, 640, 1016, 5509, 2370, 5755, 2569, 1291, 379, 4799, 4707, 6495, 197, 3235, 5218, 3481, 5078, 2005, 385, 1602, 4167, 5235, 2025, 610, 2286, 5470, 351, 1837, 2273, 1200, 6483, 3242, 3414, 1606, 2878, 2353, 4536, 4466, 1741, 3684, 2934, 1746, 4405, 3544, 3079, 3333, 1922, 137, 1744, 3243, 2834, 131, 2022, 3816, 555, 4693, 3223, 6441, 3087, 6165, 3138, 629, 2448, 4656, 6387, 5936, 1197, 5488, 6018, 5948, 3119, 5615, 5967, 799, 2262, 2638, 755, 3271, 457, 1628, 2578, 2929, 3871, 3692, 5214, 6348, 6284, 4606, 2758, 6402, 3291, 2188, 2101, 265, 3512, 341, 1872, 2192, 4213, 1023, 5872, 767, 888, 144, 2001, 4459, 1458, 2027, 361, 1438, 6366, 456, 4962, 6178, 533, 4088, 4932, 3852, 2332, 6523, 5804, 4151, 2977, 96, 4477, 6544, 1017, 6452, 5120, 4705, 220, 2643, 804, 2781, 4131, 5458, 5621, 1433, 2567, 1779, 2595, 2236, 4291, 3110, 2910, 4485, 5850, 921, 5309, 1764, 6252, 6444, 3869, 546, 2468, 5182, 4416, 601, 3387, 2510, 2496, 1674, 3714, 3120, 3874, 5597, 3381, 5611, 6124, 874, 6331, 5450, 5126, 2255, 5212, 2389, 5395, 2747, 3546, 859, 5436, 1847, 4209, 6408, 5692, 5886, 3394, 2428, 6213, 4443, 4787, 927, 378, 3319, 2228, 5702, 6288, 4642, 5768, 5687, 3868, 4297, 5845, 673, 6265, 223, 3098, 5945, 4723, 3476, 5101, 5174, 4699, 4556, 6467, 1929, 192, 6102, 1689, 2699, 3402, 4136, 1187, 6273, 1866, 5625, 6409, 786, 6083, 5754, 6243, 4204, 2224, 4165, 1334, 2039, 995, 4577, 5634, 2098, 5318, 2930, 1206, 5190, 5242, 5192, 925, 3658, 3104, 1509, 6372, 4877, 5231, 5560, 2726, 1761, 6300, 5362, 3407, 2283, 3862, 971, 617, 4230, 1868, 6513, 4122, 6359, 3366, 2367, 5538, 1177, 3683, 3239, 2563, 2178, 3646, 1605, 2492, 3554, 5885, 4130, 5017, 4504, 6422, 4497, 6027, 4700, 5954, 4751, 299, 5401, 5203, 5532, 5776, 6157, 427, 2004, 4330, 3224, 448, 3275, 6360, 2959, 3560, 5009, 3922, 233, 2306, 5922, 5197, 1337, 3710, 6215, 3571, 1839, 6011, 2725, 5047, 3925, 1166, 5925, 772, 4021, 5022, 4526, 5178, 4565, 6139, 3339, 1449, 2690, 353, 426, 4860, 4141, 3531, 4384, 845, 4859, 5109, 5433, 728, 1657, 1710, 5893, 1026, 4622, 6168, 4238, 1609, 73, 5219, 2528, 5525, 2418, 2339, 2973, 3666, 5856, 6403, 838, 2279, 6099, 3313, 6439, 2364, 1260, 3727, 2891, 1015, 130, 2513, 885, 5721, 6076, 3496, 6002, 6244, 1923, 6282, 3491, 350, 1281, 1754, 5551, 1368, 750, 2182, 3146, 3172, 1834, 3452, 2151, 4179, 2852, 5202, 4117, 2987, 3855, 4970, 3784, 2776, 4935, 1615, 2721, 1865, 4643, 4390, 778, 690, 5541, 369, 2406, 3978, 1590, 2449, 5506, 3720, 5064, 4717, 5641, 4286, 6385, 3838, 1344, 2348, 2064, 1246, 2975, 5678, 2906, 3687, 3094, 1707, 933, 466, 5186, 2769, 4161, 435, 3046, 5373, 4540, 5631, 5790, 5280, 2480, 3102, 275, 4518, 509, 3504, 3023, 2030, 6362, 3635, 2185, 5919, 356, 3125, 592, 2317, 5809, 4394, 5206, 4969, 1047, 1214, 1566, 4426, 1323, 4010, 6254, 1620, 2633, 4930, 6025, 5543, 5635, 284, 3304, 4399, 4438, 3993, 6264, 869, 3124, 3539, 3189, 2809, 5030, 6415, 2338, 2390, 6548, 4126, 1753, 671, 6036, 853, 5785, 5010, 2466, 3557, 180, 847, 1269, 4333, 1001, 5800, 4381, 6246, 3694, 5303, 5396, 2450, 210, 4294, 3422, 6186, 4235, 4249, 4829, 4200, 3037, 2366, 6539, 5592, 2615, 773, 3151, 6325, 3161, 4645, 2732, 3367, 4874, 4515, 5865, 4535, 3999, 70, 3175, 1365, 3644, 4713, 3244, 3656, 4604, 2905, 2204, 3835, 2320, 5544, 3451, 3651, 3373, 1352, 6442, 2661, 464, 530, 3595, 6370, 6450, 4940, 1124, 2304, 4419, 1361, 5758, 5298, 296, 104, 1824, 4176, 5451, 2827, 5062, 6187, 3386, 6128, 5452, 2267, 4257, 4671, 1370, 1041, 1592, 6484, 6286, 1288, 1130, 698, 4034, 953, 211, 3975, 688, 6330, 706, 1348, 1083, 4952, 6434, 6048, 3530, 941, 3395, 3405, 5729, 1686, 1853, 6029, 3516, 4527, 6268, 4479, 6367, 3995, 5421, 2383, 4739, 5150, 5442, 4782, 3735, 749, 2481, 5127, 2437, 6247, 184, 2648, 5629, 3439, 75, 3851, 2368, 19, 1667, 1765, 2898, 6057, 787, 4746, 6164, 4575, 3579, 3638, 2896, 4342, 5837, 2911, 4259, 3047, 3979, 4876, 2988, 4473, 6016, 4793, 2104, 2587, 536, 4212, 1659, 2775, 707, 1617, 3818, 5563, 837, 725, 467, 2033, 4372, 3810, 4897, 6347, 5042, 4663, 3591, 1699, 643, 2028, 4293, 2060, 3840, 2419, 3647, 2877, 1984, 836, 1165, 6274, 5964, 2105, 2909, 5260, 4541, 4768, 3180, 1580, 3996, 1857, 2686, 2326, 1362, 2253, 5383, 6291, 5689, 2074, 1248, 5223, 4170, 5923, 561, 4247, 1006, 5056, 4573, 1181, 4546, 3884, 6333, 5956, 1691, 267, 478, 311, 1958, 2890, 4221, 2238, 6353, 2713, 6044, 587, 6012, 5041, 3950, 935, 3218, 2172, 4827, 5461, 1042, 6055, 6371, 5269, 5943, 2362, 5176, 4103, 5353, 1007, 2140, 5035, 3832, 3834, 474, 3139, 3800, 3320, 4938, 3793, 159, 1616, 4692, 866, 3823, 4445, 124, 2818, 1102, 4822, 3890, 2964, 3623, 2144, 2024, 297, 1079, 1333, 5590, 1287, 632, 4805, 1905, 2719, 5812, 4334, 2689, 6355, 2958, 3158, 1505, 5092, 432, 2351, 1513, 373, 6283, 4352, 2556, 3755, 1040, 1363, 6550, 480, 4022, 384, 5142, 2547, 4275, 2504, 5507, 2164, 2312, 4916, 4421, 2981, 1264, 5275, 5295, 2501, 3570, 5236, 4290, 1820, 6419, 2755, 2197, 2761, 2808, 1684, 69, 46, 2804, 713, 3946, 1493, 53, 6191, 5813, 6201, 3908, 3572, 3232, 675, 784, 5921, 4125, 5070, 5230, 2068, 877, 4600, 3627, 2242, 5074, 196, 4442, 4977, 1812, 5066, 5676, 4232, 3789, 273, 3027, 4720, 1587, 4559, 1545, 476, 5833, 3960, 1485, 5227, 4008, 4454, 1286, 3520, 6275, 3055, 5617, 39, 527, 2336, 5459, 693, 4869, 1408, 4287, 261, 805, 5053, 4463, 3751, 5686, 347, 4323, 5301, 4771, 2187, 4192, 6343, 2407, 1022, 3661, 2592, 4747, 3071, 506, 2874, 3276, 3141, 1093, 6429, 4939, 17, 2014, 5704, 2413, 4111, 1668, 6182, 4254, 5365, 1736, 1487, 3894, 2114, 1431, 4139, 3255, 6023, 3807, 5382, 2810, 1443, 1869, 20, 5116, 2743, 3959, 2139, 5947, 1732, 3799, 4465, 2646, 2220, 5792, 4496, 6287, 4667, 3611, 3221, 2435, 18, 1464, 959, 471, 5191, 1324, 3233, 189, 2803, 2630, 4470, 588, 5811, 1379, 148, 2756, 2961, 4576, 1119, 4203, 2828, 6211, 3288, 3787, 6216, 1655, 5105, 5028, 5456, 876, 514, 403, 4633, 1577, 1125, 6426, 1575, 3583, 36, 5466, 727, 2408, 2079, 1415, 6158, 1757, 4607, 2122, 552, 4493, 4881, 2813, 2884, 1622, 3615, 2932, 4156, 5389, 950, 4682, 1917, 1899, 2895, 6414, 1675, 6526, 4155, 3631, 3588, 3251, 4237, 3805, 3296, 3944, 1822, 4353, 1653, 3612, 4332, 914, 4412, 6081, 3106, 402, 5881, 6161, 3717, 2631, 4403, 5477, 2313, 3269, 321, 1759, 644, 2359, 3523, 6097, 6210, 793, 1157, 5558, 667, 3369, 3297, 3112, 3325, 2276, 4338, 3861, 512, 1411, 4818, 6295, 6438, 2984, 1290, 2061, 2356, 3510, 3021, 4866, 1928, 34, 4148, 5317, 2908, 3231, 4742, 2605, 3078, 472, 2691, 1241, 208, 2698, 319, 3762, 3331, 2266, 1897, 2845, 1112, 4329, 2601, 301, 943, 181, 3640, 5183, 5840, 1791, 1189, 2844, 1980, 4629, 5612, 4158, 2604, 4411, 3238, 4658, 6510, 2968, 107, 3677, 598, 2057, 2741, 3753, 1729, 428, 1664, 5385, 5271, 3682, 6540, 6346, 4571, 3442, 5443, 4990, 5229, 1540, 849, 5117, 2170, 2248, 6363, 1525, 833, 3457, 6238, 3267, 2685, 882, 3382, 2522, 367, 3791, 5672, 4222, 6354, 5602, 3446, 3969, 4861, 3316, 3704, 6030, 3343, 6303, 4953, 5104, 4410, 232, 759, 6521, 2971, 4596, 770, 4150, 1271, 431, 4064, 780, 534, 4812, 2412, 3597, 1349, 2937, 3839, 3179, 1930, 6376, 2733, 306, 594, 1188, 1823, 1021, 3473, 4804, 4367, 712, 776, 5969, 3527, 1665, 1279, 424, 1427, 422, 3086, 3001, 3725, 1489, 5972, 66, 4574, 1751, 5291, 3384, 4045, 3351, 3606, 669, 1077, 6129, 206, 2311, 3207, 2938, 966, 4679, 5344, 5479, 2995, 111, 5205, 919, 1025, 1406, 6142, 5347, 4349, 145, 401, 1250, 2268, 928, 5503, 4145, 2762, 1654, 4251, 6281, 4507, 396, 5021, 682, 2036, 5157, 5722, 4795, 4992, 2960, 54, 2640, 2069, 1018, 2147, 1409, 5067, 6250, 2573, 5304, 3790, 317, 6111, 4302, 2572, 3329, 5696, 179, 6190, 6487, 604, 803, 4086, 4650, 3283, 4084, 3534, 3168, 5097, 641, 5204, 6345, 370, 4075, 1171, 3123, 3596, 2814, 3663, 3719, 3628, 2423, 1568, 6085, 1681, 4517, 5523, 1339, 4983, 5633, 3068, 2976, 1832, 1027, 6140, 15, 6014, 6451, 6115, 5392, 5099, 5918, 3365, 193, 4307, 1364, 3857, 3610, 2584, 3413, 999, 5422, 2511, 1094, 1437, 4245, 3433, 4902, 2321, 1520, 1913, 5973, 2035, 4963, 916, 5289, 5640, 2565, 4494, 6193, 5131, 3346, 2649, 3722, 3270, 5448, 3630, 6545, 1876, 4173, 5632, 964, 1268, 1676, 371, 2272, 5861, 1345, 3701, 4929, 5951, 4568, 5791, 3397, 2083, 635, 4797, 1374, 1987, 1265, 6503, 4688, 1003, 4047, 5772, 1101, 2996, 623, 5364, 4639, 3400, 4945, 1297, 3259, 2888, 4195, 5375, 3915, 3337, 5868, 4579, 934, 2399, 4128, 696, 956, 1672, 5879, 4321, 4108, 1854, 6197, 3050, 3263, 2559, 6518, 1855, 6007, 5610, 4652, 508, 5920, 1460, 1488, 3563, 6507, 5652, 2488, 765, 5264, 3815, 3303, 2067, 5586, 1790, 5966, 5536, 5566, 6542, 3494, 4398, 1836, 1740, 3553, 4514, 2426, 5435, 505, 4550, 4050, 3972, 2199, 6024, 2350, 2744, 3338, 4468, 2225, 1816, 6209, 3764, 2301, 5077, 4006, 5782, 161, 631, 913, 801, 3802, 3614, 547, 1921, 2645, 5957, 2394, 5855, 5627, 4096, 3081, 6183, 6042, 1935, 6469, 1192, 4207, 2410, 3589, 5446, 230, 2369, 4910, 2597, 6200, 3963, 6418, 3302, 4884, 4891, 6205, 5562, 529, 886, 2671, 5852, 1703, 188, 2599, 6382, 1183, 3008, 6406, 3686, 3935, 4196, 4065, 513, 447, 5426, 5055, 5670, 5371, 5569, 2946, 1432, 5530, 2921, 4532, 362, 4683, 268, 470, 878, 4415, 3785, 3260, 3853, 6377, 4244, 3169, 1455, 5135, 5766, 942, 5601, 3254, 1792, 6465, 4350, 848, 1098, 788, 1870, 2397, 2799, 1875, 1272, 504, 5975, 4312, 1904, 3882, 2508, 1404, 2452, 3065, 3323, 3566, 3699, 4246, 6046, 1213, 5690, 3236, 5107, 2385, 349, 152, 1491, 3506, 4060, 3091, 183, 2414, 3248, 4586, 3748, 1925, 4873, 957, 4964, 6080, 5039, 5482, 3849, 1373, 4106, 4778, 3911, 1133, 4456, 1294, 5228, 3230, 3061, 3812, 5072, 4830, 5680, 5668, 4502, 3142, 3998, 3768, 5937, 3359, 3514, 2838, 1280, 1781, 915, 1012, 2150, 2805, 2155, 5606, 5173, 2112, 2082, 5148, 3378, 3266, 4883, 368, 4997, 4460, 2270, 3585, 3044, 1442, 518, 5913, 2716, 186, 1378, 3953, 5052, 809, 4292, 3301, 5952, 226, 3731, 3797, 4424, 2731, 1117, 5023, 2570, 1216, 5859, 5283, 4523, 5892, 1325, 5854, 4234, 6358, 4035, 700, 917, 3537, 6000, 5037, 97, 4157, 4956, 4819, 5931, 926, 5891, 5779, 3389, 1376, 182, 611, 4271, 1331, 6241, 3241, 6137, 1618, 6052, 4335, 6077, 1949, 4202, 2473, 4651, 6515, 2003, 3166, 1955, 2190, 3942, 3450, 3997, 1273, 538, 596, 6524, 2815, 1991, 5449, 3145, 2849, 5299, 270, 1782, 2854, 1284, 5959, 6413, 4359, 4038, 3152, 2681, 6351, 3796, 3811, 4789, 31, 796, 3258, 3778, 1685, 1610, 322, 2978, 3822, 1030, 3863, 1523, 683, 1793, 5036, 5591, 3019, 6258, 1277, 3844, 4955, 511, 3982, 951, 4981, 6117, 3758, 3920, 3432, 1701, 4973, 6276, 2092, 6195, 6296, 6256, 1199, 2161, 3833, 4083, 5888, 1763, 3846, 455, 5961, 1981, 4648, 6208, 2656, 4867, 5788, 121, 3870, 721, 4354, 2422, 1131, 5124, 5478, 3088, 37, 3226, 5462, 3616, 1593, 5027, 2549, 1162, 1118, 103, 5624, 6421, 1673, 5379, 1444, 110, 4519, 4386, 1846, 4882, 5669, 2115, 5599, 4371, 3670, 5839, 965, 2757, 2566, 294, 2160, 6212, 970, 4121, 2072, 5370, 3194, 4258, 4369, 2411, 1270, 1332, 1916, 1278, 3501, 3951, 4205, 1110, 1274, 4252, 1446, 1418, 938, 5483, 3952, 5554, 2177, 6527, 5851, 6088, 6079, 6494, 6237, 3503, 4198, 5147, 4115, 1931, 839, 3689, 1660, 138, 300, 4067, 948, 5102, 4253, 5354, 1900, 5187, 6084, 668, 2942, 3059, 5642, 5998, 375, 6546, 4364, 549, 48, 5129, 342, 2696, 2249, 6001, 762, 3109, 4686, 2163, 3578, 4082, 5996, 2358, 3461, 521, 3449, 394, 4159, 4272, 1198, 2088, 628, 5706, 1711, 2498, 259, 4942, 5319, 98, 4316, 2527, 149, 764, 6342, 3669, 4850, 5887, 4031, 2883, 4007, 4404, 56, 6327, 5928, 3980, 2275, 761, 2008, 3170, 2670, 156, 5926, 1448, 5302, 277, 4915, 4051, 227, 44, 2585, 802, 4236, 468, 4480, 3770, 1511, 3101, 5714, 1648, 4469, 4863, 1767, 4928, 3342, 5399, 106, 4455, 3201, 523, 1211, 4392, 4362, 5889, 29, 3819, 5440, 3968, 2333, 2879, 438, 2574, 6401, 204, 3328, 2819, 4133, 4216, 4408, 216, 102, 3383, 2940, 4052, 3404, 6092, 5481, 4406, 4807, 5534, 1601, 2031, 5016, 4413, 1033, 450, 4147, 1019, 6506, 541, 4300, 1496, 2263, 6322, 3489, 4617, 1597, 4447, 4792, 239, 4926, 3069, 2386, 2222, 1760, 6431, 2992, 1745, 4327, 4737, 2637, 3622, 3350, 4709, 229, 5321, 3636, 4435, 423, 4589, 3914, 1190, 3904, 3939, 1354, 3215, 2062, 3645, 782, 4474, 3558, 6407, 2894, 6298, 1611, 2432, 3167, 6251, 5444, 4481, 5603, 61, 3191, 4448, 1626, 3143, 605, 1658, 6037, 4979, 618, 1993, 5038, 3866, 2972, 5681, 3396, 998, 4361, 286, 1107, 6105, 6519, 2256, 198, 4256, 890, 537, 1104, 6053, 2990, 2831, 6425, 1976, 3803, 3099, 2438, 1357, 2678, 5398, 3311, 1895, 4351, 2091, 6003, 5221, 4710, 1377, 4670, 1429, 1771, 4337, 1450, 1261, 359, 6087, 65, 6529, 5710, 2274, 3685, 2672, 681, 6504, 2534, 1708, 2901, 387, 1584, 1739, 1873, 1186, 4545, 3440, 1380, 2824, 4315, 2495, 3039, 1941, 6427, 4027, 2117, 6255, 47, 563, 3332, 4598, 2277, 6512, 3025, 5057, 4066, 3508, 3459, 5316, 606, 6326, 3470, 3765, 3551, 376, 4197, 3067, 157, 4488, 3930, 481, 6106, 3782, 3931, 4638, 6481, 5469, 6159, 2191, 6445, 241, 5521, 3441, 2086, 2715, 160, 2738, 4959, 33, 5437, 2562, 1825, 3734, 1748, 5531, 5024, 1671, 6352, 1911, 1005, 5112, 4936, 3535, 1598, 2226, 4467, 1191, 5619, 1695, 2442, 4996, 4971, 2647, 3926, 5012, 5720, 2677, 4659, 2023, 3675, 3924, 5308, 6522, 2232, 543, 6050, 5040, 3650, 3247, 4770, 5723, 1576, 5946, 399, 5320, 5728, 6222, 1988, 2577, 6361, 201, 6532, 1944, 864, 3192, 647, 625, 2603, 6126, 1821, 4785, 6259, 590, 2798, 4987, 3453, 6172, 1937, 4049, 1298, 5348, 4081, 4186, 4893, 5916, 5798, 4402, 2310, 6017, 4895, 5471, 1495, 4781, 2168, 4998, 5441, 4950, 5349, 5346, 5894, 3425, 2665, 158, 2314, 2245, 451, 3637, 3515, 5564, 2947, 5015, 2341, 3664, 4729, 3519, 388, 5339, 4013, 6242, 3212, 1121, 4032, 3672, 2288, 3990, 3986, 6121, 2581, 2857, 5605, 4985, 2994, 4544, 5997, 3745, 3184, 3153, 5857, 6051, 720, 3909, 279, 2265, 3559, 5181, 672, 1528, 5651, 3219, 1532, 616, 2583, 769, 1926, 5196, 4816, 3458, 6116, 1164, 1120, 4528, 711, 670, 1979, 4104, 6533, 5724, 1087, 4313, 4267, 2189, 2532, 3274, 1459, 2897, 5698, 2663, 5650, 6404, 566, 5014, 1898, 3257, 3923, 3843, 599, 4547, 6086, 4899, 2363, 1912, 4698, 2593, 5518, 1901, 4331, 2431, 1785, 1158, 6206, 6132, 1515, 2347, 6543, 3465, 392, 1678, 4569, 3726, 1910, 219, 1355, 5111, 4810, 726, 3830, 4501, 4311, 684, 4433, 2334, 4984, 444, 2917, 5424, 1184, 844, 5133, 5709, 3825, 1697, 5978, 4079, 290, 3792, 5463, 4140, 274, 4194, 2993, 108, 2734, 1750, 2346, 5098, 1402, 3132, 1623, 1544, 2451, 1920, 6435, 6423, 5695, 4491, 3965, 5814, 3543, 5208, 855, 469, 4765, 1747, 3029, 2728, 4687, 105, 1097, 5955, 2081, 2639, 1908, 366, 2792, 6537, 3253, 2922, 2523, 4225, 3392, 2751, 5674, 5622, 2602, 5044, 2230, 3293, 3085, 2077, 4904, 5079, 4142, 3012, 4506, 5977, 2807, 535, 4957, 5639, 1996, 2825, 5134, 35, 6458, 1322, 1338, 5864, 1420, 5607, 2246, 4487, 2439, 5914, 5932, 2530, 1530, 3312, 389, 4360, 2430, 2853, 2198, 3214, 5752, 6035, 5376, 443, 2907, 4872, 1024, 2505, 5069, 1430, 3336, 4703, 2237, 1986, 2196, 6453, 4775, 6437, 2800, 1356, 5685, 195, 4304, 3877, 5694, 2165, 2173, 4689, 5815, 4685, 2935, 621, 2611, 1424, 4777, 6136, 1835, 879, 4655, 4982, 5217, 3089, 2944, 3227, 1871, 3128, 2779, 1462, 5293, 955, 3003, 1817, 5139, 2560, 2076, 5708, 3305, 1662, 1439, 5256, 3817, 4614, 453, 6015, 4135, 4887, 2575, 2918, 1330, 6221, 2229, 3107, 517, 958, 1180, 4087, 2607, 5438, 5807, 2470, 5195, 1029, 5626, 358, 3842, 4525, 854, 3284, 4239, 6424, 2965, 3324, 3475, 1350, 5703, 5504, 1591, 5878, 1167, 2138, 2598, 4880, 704, 723, 1787, 3759, 4522, 1669, 6262, 3513, 3820, 608, 5511, 5113, 5338, 4572, 645, 2506, 5266, 140, 3149, 4422, 6009, 3569, 3306, 2403, 3774, 3469, 5314, 3290, 1938, 881, 5516, 2097, 2839, 4903, 3892, 2926, 2239, 6194, 5976, 1775, 6045, 1114, 4210, 6446, 4450, 316, 2287, 2179, 1490, 2642, 4908, 5100, 1992]\n",
      "val ids:  [2826, 695, 1132, 2436, 4733, 4068, 2515, 2524, 6267, 960, 4123, 1510, 2319, 3478, 3507, 4166, 2391, 458, 5934, 5258, 3592, 5137, 2029, 6369, 475, 503, 2354, 4483, 2183, 380, 1009, 3436, 850, 2817, 4691, 242, 5143, 4631, 13, 6302, 6509, 2118, 4417, 3779, 5296, 3209, 5764, 1028, 6511, 393, 6112, 2832, 528, 4735, 3468, 781, 3090, 4666, 305, 3957, 4437, 1619, 4681, 2764, 1843, 3955, 5125, 381, 795, 2018, 5773, 4118, 1663, 3483, 4851, 4585, 4868, 1282, 51, 3917, 5049, 146, 5431, 2119, 2243, 1463, 5587, 5598, 1536, 2668, 4325, 3480, 4505, 129, 1412, 3062, 2712, 4368, 2846, 2011, 1844, 4608, 5278, 5677, 3377, 289, 3728, 2903, 1405, 1127, 963, 3370, 4870, 4911, 3660, 4379, 3573, 151, 5307, 1328, 5457, 3176, 5719, 6430, 5882, 5453, 3210, 5528, 6468, 4521, 5071, 5115, 1299, 1436, 5545, 3981, 3063, 1752, 5717, 1372, 3095, 3804, 6094, 1627, 1989, 298, 5784, 798, 1595, 637, 5718, 2596, 3933, 6304, 5796, 6456, 3357, 3150, 5288, 2634, 1447, 309, 4886, 6305, 701, 1582, 5455, 263, 2059, 4552, 6103, 1573, 3344, 4401, 2654, 6028, 1329, 4061, 383, 57, 2395, 3536, 722, 1242, 4144, 4821, 3268, 5732, 2899, 5404, 5279, 766, 3502, 6356, 3766, 1168, 5306, 5377, 689, 2688, 5616, 3643, 6485, 6184, 3928, 2392, 2184, 6127, 3801, 4529, 6056, 834, 3599, 4616, 5434, 4896, 3773, 4951, 2235, 3129, 4089, 4912, 2535, 6433, 3349, 2606, 2641, 2724, 4215, 2886, 116, 4626, 4036, 2063, 560, 5094, 4226, 63, 2956, 5200, 1321, 5313, 6110, 3415, 2095, 1090, 5944, 4745, 1326, 3836, 3505, 842, 5715, 4134, 4558, 6108, 5517, 5623, 454, 1945, 2109, 3430, 4813, 377, 6093, 4028, 2141, 4322, 4772, 3788, 2812, 436, 3006, 2009, 4208, 4057, 5565, 3707, 283, 3973, 3522, 4714, 2503, 1456, 203, 5274, 2096, 2401, 1814, 1896, 2409, 676, 262, 5400, 2143, 2662, 4533, 6005, 218, 5179, 1096, 4516, 1202, 5880, 352, 3743, 64, 2174, 2497, 4815, 4094, 3265, 1778, 3718, 6384, 5585, 2205, 3164, 3598, 3900, 519, 2548, 1738, 6411, 602, 3256, 5862, 3252, 4826, 4458, 4110, 3961, 2195, 4001, 694, 3532, 67, 5693, 3987, 2616, 5161, 5896, 1367, 4832, 178, 2404, 3317, 3126, 1849, 4554, 5388, 4223, 4355, 5750, 2683, 5013, 5342, 4704, 4697, 775, 4188, 1108, 3345, 5369, 4583, 2778, 6031, 884, 5526, 6130, 5372, 686, 2203, 3406, 4661, 1998, 4937, 6277, 2939, 1783, 2037, 2398, 5201, 2233, 3479, 1414, 477, 2201, 6517, 952, 55, 3066, 4780, 6199, 5970, 5884, 2019, 1266, 846, 4695, 109, 2491, 3625, 45, 5487, 883, 1698, 949, 3594, 4109, 5537, 5527, 318, 2425, 5794, 3020, 947, 3601, 1276, 5381, 3634, 217, 5636, 4968, 3315, 1504, 1498, 2476, 4482, 3885, 5447, 5108, 459, 2816, 3991, 4053, 4114, 6285, 622, 1594, 3696, 3518, 3353, 5432, 2856, 1766, 3746, 1758, 5646, 76, 4644, 6008, 3629, 5285, 5803, 3550, 2882, 5673, 2402, 5209, 1811, 5691, 2355, 1239, 6189, 4570, 5184, 139, 2157, 5870, 1607, 4563, 5707, 6344, 5849, 716, 4725, 2113, 6536, 3418, 1457, 3808, 5513, 6059, 5257, 4071, 2675, 6248, 542, 5570, 2614, 4954, 5953, 4712, 4231, 4389, 2830, 624, 3581, 3246, 6491, 3076, 714, 6357, 5240, 2384, 3709, 2985, 2085, 603, 2176, 215, 3190, 4635, 5386, 5045, 3742, 1257, 3084, 4178, 2673, 5559, 1106, 2730, 6162, 3083, 3054, 3642, 1204, 6364, 5608, 1008, 3163, 5895, 3007, 5485, 4303, 1175, 3604, 6270, 5343, 3322, 4767, 5103, 2388, 5121, 5475, 3795, 6486, 5671, 6528, 1994, 483, 5775, 1507, 2307, 3603, 313, 2650, 41, 1749, 5394, 5949, 2742, 2652, 6188, 756, 4085, 1049, 6272, 1586, 4048, 5095, 3966, 3613, 3213, 1612, 2658, 231, 5971, 343, 1543, 5393, 2258, 4668, 3420, 5941, 4093, 127, 3222, 4317, 4907, 4113, 125, 4475, 5799, 1011, 6321, 4898, 2710, 3880, 5524, 1933, 3584, 2259, 1178, 2802, 4217, 1815, 2806, 4033, 3873, 3177, 4732, 3410, 4637, 3364, 2000, 6133, 4654, 3586, 3618, 2529, 3426, 4387, 2841, 6290, 2796, 6432, 228, 5844, 3912, 1977, 3841, 2644, 2241, 4046, 4214, 390, 3341, 619, 6455, 5974, 6318, 4748, 3286, 1252, 558, 5762, 6220, 5341, 4901, 5315, 4763, 1134, 4385, 264, 3011, 4397, 557, 2080, 1830, 5508, 4844, 757, 2309, 612, 2714, 4578, 6089, 484, 5561, 1205, 4436, 2012, 4834, 1095, 5156, 433, 4764, 4078, 2479, 3992, 2396, 4434, 4380, 4933, 2110, 5048, 271, 1421, 4566, 25, 4112, 3321, 4105, 6339, 2739, 3216, 3490, 3741, 2006, 5593, 3899, 5350, 3737, 3883, 3391, 758, 620, 4005, 1170, 5128, 5118, 589, 295, 95, 937, 932, 841, 3335, 1014, 3918, 2576, 3590, 3072, 2526, 4044, 3334, 3428, 554, 3474, 1099, 397, 2257, 72, 1833, 3159, 5713, 2493, 5604, 2244, 3056, 2835, 128, 4063, 1914, 2558, 5151, 3289, 5211, 5222, 3771, 5842, 6004, 5682, 3903, 439, 5216, 4146, 3193, 1975, 5805, 3562, 28, 6323, 4715, 860, 6082, 4072, 1995, 6214, 2892, 3298, 4623, 5031, 3100, 5869, 5155, 6386, 593, 2590, 4241, 2278, 2847, 5712, 6436, 1534, 1081, 5059, 1360, 4168, 1838, 3074, 2736, 5510, 4240, 4326, 3681, 4025, 2352, 1829, 4567, 5193, 1020, 4612, 5761, 1956, 49, 3372, 3424, 2822, 3988, 3411, 5697, 1661, 5848, 858, 1679, 4965, 2108, 4975, 1247, 6090, 3767, 6060, 679, 3462, 3702, 5711, 3542, 461, 5683, 1208, 1440, 4440, 4972, 4383, 3678, 2855, 3567, 1452, 1031, 4750, 699, 6075, 6245, 5688, 6033, 1289, 1050, 4414, 2284, 4250, 449, 5177, 1245, 1521, 709, 4014, 6078, 2557, 4605, 1122, 1588, 4382, 1527, 3205, 2651, 6535, 1859, 3949, 2482, 118, 4734, 3577, 132, 3237, 2327, 5237, 2636, 303, 5199, 5268, 5138, 3245, 5871, 5358, 2261, 715, 4802, 3045, 4657, 3096, 2489, 3582, 3070, 2676, 2885, 3621, 3155, 32, 887, 3111, 2695, 5374, 5159, 2773, 968, 2588, 2175, 2103, 771, 3517, 4823, 5515, 3752, 5781, 5141, 4625, 5276, 5464, 4649, 6412, 2974, 3633, 4211, 697, 3850, 3653, 1841, 3018, 5873, 4177, 2770, 2305, 4242, 1906, 213, 3729, 5360, 636, 1919, 6514, 3026, 2979, 1253, 3693, 5730, 5073, 2682, 3355, 1694, 4154, 6417, 565, 3229, 1666, 5239, 1983, 395, 2632, 3856, 4615, 1840, 3938, 479, 751, 871, 115, 5588, 4856, 3902, 4160, 1089, 1743, 5359, 4357, 6459, 994, 4845, 5363, 5793, 2487, 43, 4280, 5325, 2186, 5647, 2941, 5357, 856, 3736, 3022, 4376, 6525, 1777, 2058, 1690, 3708, 147, 3648, 2859, 6328, 1909, 6400, 1413, 2343, 3905, 4279, 3203, 1950, 5836, 923, 5539, 2912, 3147, 4788, 3824, 6058, 2013, 5726, 240, 2967, 1704, 3740, 222, 2171, 4206, 806, 3154, 646, 1092, 5929, 485, 4582, 1542, 2763, 4255, 1163, 6013, 5843, 400, 3654, 6549, 5995, 1366, 2893, 2998, 6551, 4994, 1508, 3662, 2653, 3657, 3429, 5596, 4949, 5552, 1293, 1126, 3261, 1596, 4796, 1599, 4913, 3307, 1982, 2765, 4015, 4320, 4243, 1932, 5384, 3202, 719, 940, 1403, 4218, 5770, 4228, 4542, 3715, 4988, 3703, 6499, 5933, 1947, 4004, 3671, 1032, 5630, 1369, 3408, 4727, 3521, 4097, 2821, 4143, 5226, 6294, 4201, 862, 4444, 3423, 2329, 4976, 199, 4716, 930, 5110, 6049, 4986, 1852, 1285, 3137, 3945, 4634, 3901, 889, 4377, 5806, 1172, 4219, 6043, 1915, 5063, 1946, 1210, 2467, 276, 4282, 1546, 3524, 5361, 540, 4749, 3733, 2066, 1034, 3989, 4023, 2655, 2065, 2331, 789, 2405, 2254, 6169, 5751, 3002, 1043, 6123, 3318, 1999, 2152, 363, 717, 293, 1650, 320, 6289, 4783, 5075, 3438, 1263, 3907, 5020, 4853, 3794, 5476, 5701, 2308, 4285, 4318, 5345, 2608, 5273, 832, 2617, 4248, 3077, 4393, 3492, 3893, 1828, 473, 1572, 4858, 3954, 3294, 6026, 6482, 4042, 2772, 2999, 1497, 6203, 1159, 2711, 4298, 4613, 967, 5355, 4233, 1422, 638, 2780, 545, 3403, 6198, 6134, 3108, 225, 1570, 3786, 5054, 2002, 5468, 4641, 1826, 4931, 1275, 4169, 6462, 4464, 4172, 1161, 2550, 3509, 3009, 2089, 1693, 3872, 3641, 3565, 4462, 5600, 4609, 4418, 4174, 3431, 2365, 5960, 1517, 1656, 1652, 3624, 5473, 2924, 2722, 2767, 1340, 5149, 4991, 3929, 5777, 4581, 868, 1209, 2916, 2026, 6223, 5797, 4425, 2149, 6096, 1494, 2927, 1044, 1514, 2499, 4934, 1770, 1874, 2729, 1381, 1296, 2483, 202, 281, 4138, 6335, 1813, 3806, 1353, 1258, 2887, 4862, 1567, 77, 4039, 4599, 1893, 880, 3732, 4848, 3528, 4314, 6490, 3713, 3040, 2933, 463, 1762, 2421, 918, 6240, 873, 2881, 1578, 1936, 2982, 3144, 2415, 525, 3921, 3122, 3730, 4857, 14, 5403, 872, 5890, 875, 5618, 3228, 4091, 62, 5423, 4611, 285, 1256, 3133, 4811, 4366, 6175, 4708, 3208, 2913, 1212, 6365, 441, 5425, 2485, 5795, 3105, 4914, 5019, 4927, 4738, 345, 5699, 2613, 3619, 1687, 5763, 135, 2084, 1215, 4098, 6334, 524, 6405, 768, 4531, 5838, 1907, 5215, 1579, 1038, 1773, 6374, 2247, 2851, 4701, 442, 1863, 4549, 5352, 3970, 446, 3548, 3472, 2923, 4875, 4944, 5638, 6253, 1574, 3763, 5234, 1196, 4029, 3314, 4273, 2864, 2555, 4308, 2490, 1581, 2594, 5725, 4537, 3162, 4499, 5866, 100, 936, 2465, 74, 4077, 4808, 2904, 5351, 4274, 4441, 507, 515, 1934, 4665, 3376, 3183, 4164, 4995, 3511, 2303, 2943, 1539, 6373, 5529, 857, 4553, 1924, 2269, 4790, 2444, 185, 2589, 1128, 4002, 1734, 2842, 830, 6428, 5106, 5324, 2094, 78, 5962, 6341, 4620, 346, 4993, 2337, 3500, 4092, 5472, 835, 59, 831, 2324, 3962, 4261, 430, 1677, 3471, 843, 5759, 150, 3891, 4120, 6118, 4680, 5938, 205, 3493, 1341, 1347, 962, 5427, 4584, 4374, 3134, 2752, 2531, 5789, 4719, 4662, 2837, 2914, 4391, 2400, 5281, 586, 1670, 3605, 269, 595, 1173, 1176, 6113, 2502, 4187, 4610, 5648, 2159, 924, 3187, 2551, 5272, 1731, 4864, 3375, 4854, 5877, 2836, 5297, 3309, 4824, 1425, 2424, 3831, 4557, 2486, 4090, 4831, 3354, 1786, 5853, 5535, 3398, 1978, 3463, 2991, 6493, 4632, 4730, 3092, 5546, 314, 1203, 3698, 315, 27, 3042, 1195, 5025, 6461, 2717, 4618, 2525, 5863, 2720, 5367, 5644, 3659, 2093, 437, 3052, 6337, 1537, 1111, 3865, 1585, 4794, 5542, 1423, 3754, 4107, 4741, 4495, 4278, 5096, 5029, 1103, 4947, 4779, 1845, 5068, 2335, 6257, 2860, 5430, 2843, 591, 6320, 5185, 4958, 1342, 6349, 1506, 2564, 3173, 5787, 2032, 3464, 2554, 4711, 5340, 4486, 4102, 272, 176, 2478, 1541, 3356, 6463, 2609, 2628, 6114, 5428, 3744, 1831, 4423, 1571, 3136, 2735, 2970, 3932, 2969, 2099, 2553, 4363, 30, 79, 207, 4400, 5076, 3568, 1535, 2156, 291, 1997, 3174, 6380, 1371, 2880, 6192, 5731, 2518, 123, 3064, 1903, 3529, 5930, 3417, 2591, 1569, 6292, 4646, 2692, 278, 5366, 4074, 119, 2727, 4878, 4484, 3287, 1295, 4718, 2700, 614, 2635, 126, 3691, 3602, 5589, 2737, 1179, 4116, 1010, 3609, 931, 6505, 372, 5835, 5927, 2251, 4370, 323, 5841, 4489, 5198, 3747, 1182, 1327, 6538, 2687, 1614, 4153, 6167, 6269, 310, 5207, 3848, 2252, 5771, 445, 258, 3626, 155, 3679, 187, 5774, 2193, 4825, 2666, 5942, 2667, 4127, 1942, 4324, 4129, 5241, 3157, 6163, 3225, 531, 6547, 5486, 961, 4603, 3486, 4003, 3649, 3674, 4647, 6530, 1169, 5146, 3308, 4358, 6368, 6319, 3858, 4587, 1091, 4080, 6179, 5213, 797, 3148, 6457, 3466, 3484, 4520, 6022, 6204, 4736, 374, 2116, 5144, 6301, 1862, 5783, 3760, 2771, 3913, 1735, 5238, 4471, 6280, 2902, 4849, 794, 3821, 1254, 302, 3561, 613, 5305, 4407, 5061, 1036, 1078, 2433, 4702, 355, 1004, 1082, 2315, 3182, 1335, 99, 2664, 1651, 6443, 2322, 1343, 2925, 1953, 3937, 3977, 4762, 1526, 3587, 633, 3956, 1625, 5883, 3974, 4184, 2446, 1417, 4774, 382, 5522, 6447, 2494, 1174, 6381, 3135, 3665, 5874, 3075, 5915, 460, 6047, 4041, 777, 2015, 3983, 3776, 142, 5311, 5733, 6516, 4888, 1499, 4766, 5549, 553, 2221, 191, 4961, 5018, 6120, 5643, 6249, 3971, 4564, 3017, 3756, 2477, 4624, 212, 3886, 2445, 2552, 3575, 4601, 5924, 1035, 1848, 5935, 2471, 5032, 5265, 3576, 3181, 307, 3014, 3739, 3927, 4974, 2889, 1351, 6122, 5756, 3895, 3447, 6202, 2753, 5322, 3327, 5684, 944, 1861, 235, 4776, 4543, 6297, 6324, 946, 4871, 939, 4538, 2167, 194, 5390, 708, 2945, 3416, 1410, 1850, 6399, 5402, 2521, 4137, 6141, 4288, 4432, 5484, 3488, 4628, 1503, 1755, 2794, 4378, 6492, 5645, 945, 2285, 3750, 2227, 3292, 5480, 4268, 5058, 6263, 1259, 4562, 4690, 2146, 5505, 6181, 221, 3695, 3809, 3667, 4800, 5512, 2586, 364, 1086, 133, 3652, 24, 452, 2145, 214, 556, 4461, 702, 4534, 3048, 5286, 2071, 5939, 1434, 1519, 1533, 678, 4030, 2823, 585, 4220, 703, 3541, 4476, 2697, 4989, 1818, 3421, 5429, 3262, 1336, 58, 5050, 3390, 5628, 3178, 1827, 2330, 4490, 630, 2848, 6019, 6261, 5356, 969, 705, 6119, 2679, 2862, 1048, 1733, 2997, 60, 2056, 2038, 1262, 2007, 1113, 4619, 2387, 312, 4941, 2684, 677, 1484, 2693, 4798, 4295, 4365, 2865, 6416, 4498, 3409, 3897, 2475, 4621, 5189, 1207, 5091, 6138, 4726, 808, 6170, 3211, 3277, 3249, 774, 526, 3538, 1789, 2169, 5439, 4119, 2344, 5233, 1600, 5514, 4453, 2264, 4132, 2561, 2484, 5323, 2106, 4309, 634, 2443, 5154, 1451, 6217, 2282, 6010, 4978, 3004, 3712, 1784, 2323, 2162, 532, 3556, 4828, 3058, 5614, 5160, 4024, 5550, 5567, 3188, 6239, 4026, 4301, 1927, 5130, 1589, 1603, 5026, 861, 4356, 3837, 3419, 2349, 2102, 5765, 2657, 4409, 3285, 1788, 2509, 718, 5875, 6224, 692, 2748, 2795, 1283, 4855, 3121, 5778, 4696, 5679, 2447, 2361, 2231, 4548, 5270, 5727, 2777, 3757, 5188, 2957, 3273, 5119, 5950, 4439, 1943, 4684, 1706, 2782, 52, 3038, 1531, 5033, 1084, 4892, 4743, 3889, 6379, 1624, 5153, 4948, 3828, 4310, 3555, 4909, 2075, 1045, 6279, 1522, 3051, 3374, 4319, 143, 3041, 3330, 3131, 1486, 2416, 2070, 1105, 2749, 5897, 4270, 6095, 867, 5958, 2863, 1419, 1705, 4555, 3564, 1683, 6266, 4503, 1244, 3549, 348, 1445, 2963, 2811, 1939, 2223, 4395, 282, 2766, 5180, 1039, 1407, 1085, 3783, 615, 4095, 4539, 5259, 4296, 6489, 234, 2833, 4229, 5065, 2533, 6218, 1416, 21, 691, 2861, 71, 3165, 1516, 5378, 2111, 790, 3326, 5158, 5405, 3593, 3156, 3545, 6454, 3435, 4801, 4588, 1858, 3676, 1737, 2158, 562, 4189, 627, 2328, 2240, 870, 3994, 6166, 4277, 5145, 6383, 6336, 3941, 3847, 3412, 3028, 1267, 2427, 3976, 391, 5175, 4724, 5263, 4457, 6350, 5465, 3724, 564, 3887, 5474, 4055, 404, 4669, 1346, 304, 639, 1524, 292, 3688, 752, 3827, 2919, 5609, 3655, 4728, 6278, 5312, 3826, 2876, 5999, 5093, 5282, 1538, 3348, 3010, 3705, 5595, 4299, 6440, 80, 2474, 2774, 3393, 3272, 4472, 4561, 2021, 2121, 3697, 6156, 5757, 3580, 2469, 2750, 3919, 5368, 6098, 1730, 6160, 3485, 266, 1918, 754, 1453, 2610, 3234, 2718, 6109, 1441, 1742, 4059, 1709, 1951, 5705, 4185, 4530, 5267, 5310, 1649, 4449, 4284, 6502, 5753, 5290, 4627, 3943, 3456, 783, 3867, 4191, 2579, 6091, 4478, 1193, 6039, 4885, 3875, 5232, 6101, 6125, 6375, 1613, 5548, 2858, 4791, 3552, 4056, 2928, 1985, 5261, 3282, 38, 2472, 5225, 4786, 5553, 6378, 551, 4653, 2754, 1851, 5760, 4062, 2768, 1819, 6410, 3845, 3876, 4784, 141, 3934, 1954, 5802, 852, 2514, 3204, 482, 4199, 4597, 1013, 2983, 5994, 5397, 2936, 2073, 6338, 236, 2723, 685, 3093, 5594, 1002, 3495, 5243, 3632, 4694, 3299, 1116, 4492, 5858, 3878, 5847, 6508, 3185, 1251, 3859, 4011, 1492, 626, 4905, 4809, 6219, 6038, 3864, 4731, 3749, 398, 5051, 4276, 3130, 3437, 1375, 6498, 2955, 1201, 3186, 2393, 2966, 1756, 6104, 4341, 1769, 2357, 4163, 1772, 4706, 1682, 4305, 2875, 4336, 5557, 3881, 1037, 4000, 3498, 1502, 4806, 4943, 1358, 4281, 2659, 1604, 2989, 5262, 5769, 2629, 6041, 224, 6177, 5834, 2166, 136, 5846, 3206, 922, 3711, 1249, 4040, 3814, 6531, 4037, 779, 4960, 3053, 4017, 2142, 4224, 5391, 1052, 4328, 851, 5786, 6021, 5210, 4343, 3401, 4193, 5445, 1501, 6135, 1100, 154, 1428, 2034, 3310, 6107, 3777, 2345, 462, 2250, 544, 2674, 434, 687, 5292, 912, 2123, 2441, 3668, 4162, 4190, 5008, 4446, 1076, 3680, 5122, 3388, 3723, 2107, 2516, 4054, 2612, 5767, 1680, 4009, 42, 609, 2154, 1359, 2010, 3761, 3781, 4306, 5547, 5613, 4773, 4865, 3910, 3673, 4073, 3217, 3964, 2962, 1957, 6054, 4043, 6497, 3016, 4058, 6006, 1129, 6501, 6520, 559, 929, 5801, 1856, 6480, 3005, 3916, 288, 3639, 6032, 3497, 5867, 4803, 1864, 340, 2915, 2316, 2429, 2507, 365, 2986, 3467, 2087, 1512, 3829, 6174, 209, 2281, 2568, 6171, 386, 50, 1990, 2453, 2797, 4967, 4175, 2271, 6541, 785, 5832, 4524, 4630, 6332, 4946, 6299, 2793, 354, 1776, 2417, 5917, 5136, 177, 2090, 1046, 3171, 5556, 113, 4452, 2694, 954, 4636, 3379, 1292, 4722, 16, 1842, 2325, 357, 3073, 3617, 112, 510, 3967, 3984, 3399, 153, 4752, 260, 710, 2148, 3906, 522, 22, 5808, 3721, 2829, 6449, 3013, 5011, 6466, 308, 5963, 3896, 1692, 23, 4149, 4388, 1435, 642, 4012, 2434, 3487, 3082, 4847, 3057, 3385, 2302, 5284, 3948, 539, 807, 863, 3455, 3600, 4814, 792, 4906, 4560, 6207, 2850, 4124, 1688, 5152, 1426, 1243, 3347, 997, 4664, 3250, 1768, 5123, 1123, 6496, 2746, 2181, 5224, 4846, 2202, 4289, 5568, 4016, 4396, 4152, 3454, 5716, 5406, 4833, 3716, 3049, 1583, 4761, 5555, 2519, 3947, 3368, 4069, 3477, 5519, 5114, 2342, 5387, 3097, 4269, 2153, 6464, 3264, 68, 6329, 429, 2078, 3427, 607, 5968, 1529, 4171, 3879, 1051, 117, 4894, 5277, 4339, 1115, 3706, 6534, 4262, 3769, 2016, 6488, 465, 3798, 6040, 4966, 6185, 237, 1696, 1500, 800, 1518, 1109, 6176, 753, 6460, 3015, 3547, 3533, 1952, 4852, 2801, 425, 1948, 5132, 4889, 287]\n",
      "test ids:  [0, 1, 2, 3, 4, 5, 6, 7, 8, 9, 10, 11, 12, 40, 81, 82, 83, 84, 85, 86, 87, 88, 89, 90, 91, 92, 93, 94, 120, 162, 163, 164, 165, 166, 167, 168, 169, 170, 171, 172, 173, 174, 175, 200, 243, 244, 245, 246, 247, 248, 249, 250, 251, 252, 253, 254, 255, 256, 257, 280, 324, 325, 326, 327, 328, 329, 330, 331, 332, 333, 334, 335, 336, 337, 338, 339, 360, 405, 406, 407, 408, 409, 410, 411, 412, 413, 414, 415, 416, 417, 418, 419, 420, 421, 440, 486, 487, 488, 489, 490, 491, 492, 493, 494, 495, 496, 497, 498, 499, 500, 501, 502, 520, 567, 568, 569, 570, 571, 572, 573, 574, 575, 576, 577, 578, 579, 580, 581, 582, 583, 584, 600, 648, 649, 650, 651, 652, 653, 654, 655, 656, 657, 658, 659, 660, 661, 662, 663, 664, 665, 666, 680, 729, 730, 731, 732, 733, 734, 735, 736, 737, 738, 739, 740, 741, 742, 743, 744, 745, 746, 747, 748, 760, 810, 811, 812, 813, 814, 815, 816, 817, 818, 819, 820, 821, 822, 823, 824, 825, 826, 827, 828, 829, 840, 891, 892, 893, 894, 895, 896, 897, 898, 899, 900, 901, 902, 903, 904, 905, 906, 907, 908, 909, 910, 911, 920, 972, 973, 974, 975, 976, 977, 978, 979, 980, 981, 982, 983, 984, 985, 986, 987, 988, 989, 990, 991, 992, 993, 1000, 1053, 1054, 1055, 1056, 1057, 1058, 1059, 1060, 1061, 1062, 1063, 1064, 1065, 1066, 1067, 1068, 1069, 1070, 1071, 1072, 1073, 1074, 1075, 1080, 1135, 1136, 1137, 1138, 1139, 1140, 1141, 1142, 1143, 1144, 1145, 1146, 1147, 1148, 1149, 1150, 1151, 1152, 1153, 1154, 1155, 1156, 1160, 1217, 1218, 1219, 1220, 1221, 1222, 1223, 1224, 1225, 1226, 1227, 1228, 1229, 1230, 1231, 1232, 1233, 1234, 1235, 1236, 1237, 1238, 1240, 1300, 1301, 1302, 1303, 1304, 1305, 1306, 1307, 1308, 1309, 1310, 1311, 1312, 1313, 1314, 1315, 1316, 1317, 1318, 1319, 1320, 1382, 1383, 1384, 1385, 1386, 1387, 1388, 1389, 1390, 1391, 1392, 1393, 1394, 1395, 1396, 1397, 1398, 1399, 1400, 1401, 1465, 1466, 1467, 1468, 1469, 1470, 1471, 1472, 1473, 1474, 1475, 1476, 1477, 1478, 1479, 1480, 1481, 1482, 1483, 1547, 1548, 1549, 1550, 1551, 1552, 1553, 1554, 1555, 1556, 1557, 1558, 1559, 1560, 1561, 1562, 1563, 1564, 1565, 1629, 1630, 1631, 1632, 1633, 1634, 1635, 1636, 1637, 1638, 1639, 1640, 1641, 1642, 1643, 1644, 1645, 1646, 1647, 1700, 1712, 1713, 1714, 1715, 1716, 1717, 1718, 1719, 1720, 1721, 1722, 1723, 1724, 1725, 1726, 1727, 1728, 1780, 1794, 1795, 1796, 1797, 1798, 1799, 1800, 1801, 1802, 1803, 1804, 1805, 1806, 1807, 1808, 1809, 1810, 1860, 1877, 1878, 1879, 1880, 1881, 1882, 1883, 1884, 1885, 1886, 1887, 1888, 1889, 1890, 1891, 1892, 1940, 1959, 1960, 1961, 1962, 1963, 1964, 1965, 1966, 1967, 1968, 1969, 1970, 1971, 1972, 1973, 1974, 2020, 2040, 2041, 2042, 2043, 2044, 2045, 2046, 2047, 2048, 2049, 2050, 2051, 2052, 2053, 2054, 2055, 2100, 2120, 2124, 2125, 2126, 2127, 2128, 2129, 2130, 2131, 2132, 2133, 2134, 2135, 2136, 2137, 2180, 2200, 2206, 2207, 2208, 2209, 2210, 2211, 2212, 2213, 2214, 2215, 2216, 2217, 2218, 2219, 2260, 2280, 2289, 2290, 2291, 2292, 2293, 2294, 2295, 2296, 2297, 2298, 2299, 2300, 2340, 2360, 2371, 2372, 2373, 2374, 2375, 2376, 2377, 2378, 2379, 2380, 2381, 2382, 2420, 2440, 2454, 2455, 2456, 2457, 2458, 2459, 2460, 2461, 2462, 2463, 2464, 2500, 2520, 2536, 2537, 2538, 2539, 2540, 2541, 2542, 2543, 2544, 2545, 2546, 2580, 2600, 2618, 2619, 2620, 2621, 2622, 2623, 2624, 2625, 2626, 2627, 2660, 2680, 2701, 2702, 2703, 2704, 2705, 2706, 2707, 2708, 2709, 2740, 2760, 2783, 2784, 2785, 2786, 2787, 2788, 2789, 2790, 2791, 2820, 2840, 2866, 2867, 2868, 2869, 2870, 2871, 2872, 2873, 2900, 2920, 2948, 2949, 2950, 2951, 2952, 2953, 2954, 2980, 3000, 3030, 3031, 3032, 3033, 3034, 3035, 3036, 3060, 3080, 3113, 3114, 3115, 3116, 3117, 3118, 3140, 3160, 3195, 3196, 3197, 3198, 3199, 3200, 3220, 3240, 3278, 3279, 3280, 3281, 3300, 3360, 3361, 3362, 3363, 3380, 3443, 3444, 3445, 3460, 3525, 3526, 3540, 3607, 3608, 3620, 3690, 3700, 3772, 3780, 3854, 3860, 3936, 3940, 4018, 4019, 4020, 4099, 4100, 4101, 4180, 4181, 4182, 4183, 4260, 4263, 4264, 4265, 4266, 4340, 4345, 4346, 4347, 4348, 4420, 4427, 4428, 4429, 4430, 4431, 4500, 4508, 4509, 4510, 4511, 4512, 4513, 4580, 4590, 4591, 4592, 4593, 4594, 4595, 4660, 4672, 4673, 4674, 4675, 4676, 4677, 4678, 4740, 4753, 4754, 4755, 4756, 4757, 4758, 4759, 4760, 4820, 4835, 4836, 4837, 4838, 4839, 4840, 4841, 4842, 4843, 4900, 4917, 4918, 4919, 4920, 4921, 4922, 4923, 4924, 4925, 4980, 4999, 5000, 5001, 5002, 5003, 5004, 5005, 5006, 5007, 5060, 5080, 5081, 5082, 5083, 5084, 5085, 5086, 5087, 5088, 5089, 5090, 5140, 5162, 5163, 5164, 5165, 5166, 5167, 5168, 5169, 5170, 5171, 5172, 5220, 5244, 5245, 5246, 5247, 5248, 5249, 5250, 5251, 5252, 5253, 5254, 5255, 5300, 5326, 5327, 5328, 5329, 5330, 5331, 5332, 5333, 5334, 5335, 5336, 5337, 5380, 5407, 5408, 5409, 5410, 5411, 5412, 5413, 5414, 5415, 5416, 5417, 5418, 5419, 5420, 5460, 5489, 5490, 5491, 5492, 5493, 5494, 5495, 5496, 5497, 5498, 5499, 5500, 5501, 5502, 5540, 5571, 5572, 5573, 5574, 5575, 5576, 5577, 5578, 5579, 5580, 5581, 5582, 5583, 5584, 5620, 5653, 5654, 5655, 5656, 5657, 5658, 5659, 5660, 5661, 5662, 5663, 5664, 5665, 5666, 5667, 5700, 5734, 5735, 5736, 5737, 5738, 5739, 5740, 5741, 5742, 5743, 5744, 5745, 5746, 5747, 5748, 5749, 5780, 5816, 5817, 5818, 5819, 5820, 5821, 5822, 5823, 5824, 5825, 5826, 5827, 5828, 5829, 5830, 5831, 5860, 5898, 5899, 5900, 5901, 5902, 5903, 5904, 5905, 5906, 5907, 5908, 5909, 5910, 5911, 5912, 5940, 5979, 5980, 5981, 5982, 5983, 5984, 5985, 5986, 5987, 5988, 5989, 5990, 5991, 5992, 5993, 6020, 6061, 6062, 6063, 6064, 6065, 6066, 6067, 6068, 6069, 6070, 6071, 6072, 6073, 6074, 6100, 6143, 6144, 6145, 6146, 6147, 6148, 6149, 6150, 6151, 6152, 6153, 6154, 6155, 6180, 6225, 6226, 6227, 6228, 6229, 6230, 6231, 6232, 6233, 6234, 6235, 6236, 6260, 6306, 6307, 6308, 6309, 6310, 6311, 6312, 6313, 6314, 6315, 6316, 6317, 6340, 6388, 6389, 6390, 6391, 6392, 6393, 6394, 6395, 6396, 6397, 6398, 6420, 6470, 6471, 6472, 6473, 6474, 6475, 6476, 6477, 6478, 6479, 6500, 6552, 6553, 6554, 6555, 6556, 6557, 6558, 6559, 6560]\n",
      "CPU times: user 219 ms, sys: 392 ms, total: 611 ms\n",
      "Wall time: 610 ms\n"
     ]
    }
   ],
   "source": [
    "%%time\n",
    "n_total = len(simulation.dataframe)\n",
    "n_train = len(simulation.dataframe[simulation.dataframe.type_of == \"train\"])\n",
    "n_val = len(simulation.dataframe[simulation.dataframe.type_of == \"val\"])\n",
    "n_test = len(simulation.dataframe[simulation.dataframe.type_of == \"test\"])\n",
    "n_train_hamiltonians = len(simulation.train_ids)\n",
    "n_val_hamiltonians = len(simulation.val_ids)\n",
    "n_test_hamiltonians = len(simulation.test_ids)\n",
    "n_total_hamiltonians = n_train_hamiltonians + n_val_hamiltonians + n_test_hamiltonians\n",
    "\n",
    "print(\"% train: \", n_train/n_total)\n",
    "print(\"% val: \",  n_val/n_total)\n",
    "print(\"% test: \", n_test/n_total)\n",
    "print(\"% train + val + test: \", (n_train+n_val+n_test)/n_total)\n",
    "print(\"\\n\")\n",
    "print(\"number of train hamiltonians: \", n_train_hamiltonians)\n",
    "print(\"number of val hamiltonians: \", n_val_hamiltonians)\n",
    "print(\"number of test hamiltonians: \", n_test_hamiltonians)\n",
    "print(\"total number of hamiltonians: \", n_total_hamiltonians)\n",
    "print(\"\\n\")\n",
    "print(\"train ids: \", simulation.train_ids)\n",
    "print(\"val ids: \", simulation.val_ids)\n",
    "print(\"test ids: \", simulation.test_ids)"
   ]
  },
  {
   "cell_type": "markdown",
   "metadata": {
    "papermill": {
     "duration": 0.038808,
     "end_time": "2020-07-18T17:37:34.114834",
     "exception": false,
     "start_time": "2020-07-18T17:37:34.076026",
     "status": "completed"
    },
    "tags": []
   },
   "source": [
    "#### Checking summaries"
   ]
  },
  {
   "cell_type": "code",
   "execution_count": 31,
   "metadata": {
    "execution": {
     "iopub.execute_input": "2020-07-18T17:37:34.367614Z",
     "iopub.status.busy": "2020-07-18T17:37:34.365661Z",
     "iopub.status.idle": "2020-07-18T17:37:34.419226Z",
     "shell.execute_reply": "2020-07-18T17:37:34.418783Z"
    },
    "papermill": {
     "duration": 0.22525,
     "end_time": "2020-07-18T17:37:34.419295",
     "exception": false,
     "start_time": "2020-07-18T17:37:34.194045",
     "status": "completed"
    },
    "tags": []
   },
   "outputs": [
    {
     "name": "stdout",
     "output_type": "stream",
     "text": [
      "length of ham_summary:  6561\n",
      "CPU times: user 1.28 ms, sys: 2 µs, total: 1.28 ms\n",
      "Wall time: 742 µs\n"
     ]
    },
    {
     "data": {
      "text/html": [
       "<div>\n",
       "<style scoped>\n",
       "    .dataframe tbody tr th:only-of-type {\n",
       "        vertical-align: middle;\n",
       "    }\n",
       "\n",
       "    .dataframe tbody tr th {\n",
       "        vertical-align: top;\n",
       "    }\n",
       "\n",
       "    .dataframe thead th {\n",
       "        text-align: right;\n",
       "    }\n",
       "</style>\n",
       "<table border=\"1\" class=\"dataframe\">\n",
       "  <thead>\n",
       "    <tr style=\"text-align: right;\">\n",
       "      <th></th>\n",
       "      <th>t1</th>\n",
       "      <th>t2</th>\n",
       "      <th>type_of</th>\n",
       "      <th>-1</th>\n",
       "      <th>0</th>\n",
       "      <th>1</th>\n",
       "      <th>2</th>\n",
       "      <th>phase</th>\n",
       "      <th>pred_phase</th>\n",
       "    </tr>\n",
       "    <tr>\n",
       "      <th>id</th>\n",
       "      <th></th>\n",
       "      <th></th>\n",
       "      <th></th>\n",
       "      <th></th>\n",
       "      <th></th>\n",
       "      <th></th>\n",
       "      <th></th>\n",
       "      <th></th>\n",
       "      <th></th>\n",
       "    </tr>\n",
       "  </thead>\n",
       "  <tbody>\n",
       "    <tr>\n",
       "      <th>0</th>\n",
       "      <td>-2.0</td>\n",
       "      <td>-2.00</td>\n",
       "      <td>test</td>\n",
       "      <td>0.10</td>\n",
       "      <td>0.53</td>\n",
       "      <td>0.10</td>\n",
       "      <td>0.27</td>\n",
       "      <td>999</td>\n",
       "      <td>0</td>\n",
       "    </tr>\n",
       "    <tr>\n",
       "      <th>1</th>\n",
       "      <td>-2.0</td>\n",
       "      <td>-1.95</td>\n",
       "      <td>test</td>\n",
       "      <td>0.08</td>\n",
       "      <td>0.56</td>\n",
       "      <td>0.11</td>\n",
       "      <td>0.25</td>\n",
       "      <td>-1</td>\n",
       "      <td>0</td>\n",
       "    </tr>\n",
       "    <tr>\n",
       "      <th>2</th>\n",
       "      <td>-2.0</td>\n",
       "      <td>-1.90</td>\n",
       "      <td>test</td>\n",
       "      <td>0.11</td>\n",
       "      <td>0.53</td>\n",
       "      <td>0.12</td>\n",
       "      <td>0.24</td>\n",
       "      <td>-1</td>\n",
       "      <td>0</td>\n",
       "    </tr>\n",
       "    <tr>\n",
       "      <th>3</th>\n",
       "      <td>-2.0</td>\n",
       "      <td>-1.85</td>\n",
       "      <td>test</td>\n",
       "      <td>0.13</td>\n",
       "      <td>0.49</td>\n",
       "      <td>0.16</td>\n",
       "      <td>0.22</td>\n",
       "      <td>-1</td>\n",
       "      <td>0</td>\n",
       "    </tr>\n",
       "    <tr>\n",
       "      <th>4</th>\n",
       "      <td>-2.0</td>\n",
       "      <td>-1.80</td>\n",
       "      <td>test</td>\n",
       "      <td>0.14</td>\n",
       "      <td>0.49</td>\n",
       "      <td>0.17</td>\n",
       "      <td>0.20</td>\n",
       "      <td>-1</td>\n",
       "      <td>0</td>\n",
       "    </tr>\n",
       "    <tr>\n",
       "      <th>...</th>\n",
       "      <td>...</td>\n",
       "      <td>...</td>\n",
       "      <td>...</td>\n",
       "      <td>...</td>\n",
       "      <td>...</td>\n",
       "      <td>...</td>\n",
       "      <td>...</td>\n",
       "      <td>...</td>\n",
       "      <td>...</td>\n",
       "    </tr>\n",
       "    <tr>\n",
       "      <th>6556</th>\n",
       "      <td>2.0</td>\n",
       "      <td>1.80</td>\n",
       "      <td>test</td>\n",
       "      <td>0.41</td>\n",
       "      <td>0.08</td>\n",
       "      <td>0.13</td>\n",
       "      <td>0.38</td>\n",
       "      <td>-1</td>\n",
       "      <td>-1</td>\n",
       "    </tr>\n",
       "    <tr>\n",
       "      <th>6557</th>\n",
       "      <td>2.0</td>\n",
       "      <td>1.85</td>\n",
       "      <td>test</td>\n",
       "      <td>0.35</td>\n",
       "      <td>0.15</td>\n",
       "      <td>0.12</td>\n",
       "      <td>0.38</td>\n",
       "      <td>-1</td>\n",
       "      <td>2</td>\n",
       "    </tr>\n",
       "    <tr>\n",
       "      <th>6558</th>\n",
       "      <td>2.0</td>\n",
       "      <td>1.90</td>\n",
       "      <td>test</td>\n",
       "      <td>0.25</td>\n",
       "      <td>0.19</td>\n",
       "      <td>0.11</td>\n",
       "      <td>0.45</td>\n",
       "      <td>-1</td>\n",
       "      <td>2</td>\n",
       "    </tr>\n",
       "    <tr>\n",
       "      <th>6559</th>\n",
       "      <td>2.0</td>\n",
       "      <td>1.95</td>\n",
       "      <td>test</td>\n",
       "      <td>0.20</td>\n",
       "      <td>0.22</td>\n",
       "      <td>0.09</td>\n",
       "      <td>0.49</td>\n",
       "      <td>-1</td>\n",
       "      <td>2</td>\n",
       "    </tr>\n",
       "    <tr>\n",
       "      <th>6560</th>\n",
       "      <td>2.0</td>\n",
       "      <td>2.00</td>\n",
       "      <td>test</td>\n",
       "      <td>0.20</td>\n",
       "      <td>0.17</td>\n",
       "      <td>0.14</td>\n",
       "      <td>0.49</td>\n",
       "      <td>999</td>\n",
       "      <td>2</td>\n",
       "    </tr>\n",
       "  </tbody>\n",
       "</table>\n",
       "<p>6561 rows × 9 columns</p>\n",
       "</div>"
      ],
      "text/plain": [
       "       t1    t2 type_of    -1     0     1     2  phase  pred_phase\n",
       "id                                                                \n",
       "0    -2.0 -2.00    test  0.10  0.53  0.10  0.27    999           0\n",
       "1    -2.0 -1.95    test  0.08  0.56  0.11  0.25     -1           0\n",
       "2    -2.0 -1.90    test  0.11  0.53  0.12  0.24     -1           0\n",
       "3    -2.0 -1.85    test  0.13  0.49  0.16  0.22     -1           0\n",
       "4    -2.0 -1.80    test  0.14  0.49  0.17  0.20     -1           0\n",
       "...   ...   ...     ...   ...   ...   ...   ...    ...         ...\n",
       "6556  2.0  1.80    test  0.41  0.08  0.13  0.38     -1          -1\n",
       "6557  2.0  1.85    test  0.35  0.15  0.12  0.38     -1           2\n",
       "6558  2.0  1.90    test  0.25  0.19  0.11  0.45     -1           2\n",
       "6559  2.0  1.95    test  0.20  0.22  0.09  0.49     -1           2\n",
       "6560  2.0  2.00    test  0.20  0.17  0.14  0.49    999           2\n",
       "\n",
       "[6561 rows x 9 columns]"
      ]
     },
     "execution_count": 31,
     "metadata": {},
     "output_type": "execute_result"
    }
   ],
   "source": [
    "%%time\n",
    "ham_summary = simulation.hamiltonian_summary\n",
    "print(\"length of ham_summary: \", len(ham_summary))\n",
    "ham_summary"
   ]
  },
  {
   "cell_type": "code",
   "execution_count": 32,
   "metadata": {
    "execution": {
     "iopub.execute_input": "2020-07-18T17:37:35.589186Z",
     "iopub.status.busy": "2020-07-18T17:37:35.588877Z",
     "iopub.status.idle": "2020-07-18T17:37:35.779055Z",
     "shell.execute_reply": "2020-07-18T17:37:35.778719Z"
    },
    "papermill": {
     "duration": 0.252075,
     "end_time": "2020-07-18T17:37:35.779119",
     "exception": false,
     "start_time": "2020-07-18T17:37:35.527044",
     "status": "completed"
    },
    "tags": []
   },
   "outputs": [
    {
     "data": {
      "text/html": [
       "<div>\n",
       "<style scoped>\n",
       "    .dataframe tbody tr th:only-of-type {\n",
       "        vertical-align: middle;\n",
       "    }\n",
       "\n",
       "    .dataframe tbody tr th {\n",
       "        vertical-align: top;\n",
       "    }\n",
       "\n",
       "    .dataframe thead th {\n",
       "        text-align: right;\n",
       "    }\n",
       "</style>\n",
       "<table border=\"1\" class=\"dataframe\">\n",
       "  <thead>\n",
       "    <tr style=\"text-align: right;\">\n",
       "      <th></th>\n",
       "      <th>t1</th>\n",
       "      <th>t2</th>\n",
       "      <th>-1</th>\n",
       "      <th>0</th>\n",
       "      <th>1</th>\n",
       "      <th>2</th>\n",
       "      <th>phase</th>\n",
       "      <th>pred_phase</th>\n",
       "    </tr>\n",
       "  </thead>\n",
       "  <tbody>\n",
       "    <tr>\n",
       "      <th>count</th>\n",
       "      <td>6561.000000</td>\n",
       "      <td>6.561000e+03</td>\n",
       "      <td>6561.000000</td>\n",
       "      <td>6561.000000</td>\n",
       "      <td>6561.000000</td>\n",
       "      <td>6561.000000</td>\n",
       "      <td>6561.000000</td>\n",
       "      <td>6561.000000</td>\n",
       "    </tr>\n",
       "    <tr>\n",
       "      <th>mean</th>\n",
       "      <td>0.000000</td>\n",
       "      <td>-4.331917e-18</td>\n",
       "      <td>0.189939</td>\n",
       "      <td>0.319474</td>\n",
       "      <td>0.299713</td>\n",
       "      <td>0.190873</td>\n",
       "      <td>28.045877</td>\n",
       "      <td>0.500381</td>\n",
       "    </tr>\n",
       "    <tr>\n",
       "      <th>std</th>\n",
       "      <td>1.169134</td>\n",
       "      <td>1.169134e+00</td>\n",
       "      <td>0.338819</td>\n",
       "      <td>0.418873</td>\n",
       "      <td>0.422265</td>\n",
       "      <td>0.339122</td>\n",
       "      <td>163.557011</td>\n",
       "      <td>1.006249</td>\n",
       "    </tr>\n",
       "    <tr>\n",
       "      <th>min</th>\n",
       "      <td>-2.000000</td>\n",
       "      <td>-2.000000e+00</td>\n",
       "      <td>0.000000</td>\n",
       "      <td>0.000000</td>\n",
       "      <td>0.000000</td>\n",
       "      <td>0.000000</td>\n",
       "      <td>-1.000000</td>\n",
       "      <td>-1.000000</td>\n",
       "    </tr>\n",
       "    <tr>\n",
       "      <th>25%</th>\n",
       "      <td>-1.000000</td>\n",
       "      <td>-1.000000e+00</td>\n",
       "      <td>0.000000</td>\n",
       "      <td>0.000000</td>\n",
       "      <td>0.000000</td>\n",
       "      <td>0.000000</td>\n",
       "      <td>0.000000</td>\n",
       "      <td>0.000000</td>\n",
       "    </tr>\n",
       "    <tr>\n",
       "      <th>50%</th>\n",
       "      <td>0.000000</td>\n",
       "      <td>0.000000e+00</td>\n",
       "      <td>0.010000</td>\n",
       "      <td>0.040000</td>\n",
       "      <td>0.030000</td>\n",
       "      <td>0.000000</td>\n",
       "      <td>1.000000</td>\n",
       "      <td>0.000000</td>\n",
       "    </tr>\n",
       "    <tr>\n",
       "      <th>75%</th>\n",
       "      <td>1.000000</td>\n",
       "      <td>1.000000e+00</td>\n",
       "      <td>0.150000</td>\n",
       "      <td>0.870000</td>\n",
       "      <td>0.880000</td>\n",
       "      <td>0.160000</td>\n",
       "      <td>1.000000</td>\n",
       "      <td>1.000000</td>\n",
       "    </tr>\n",
       "    <tr>\n",
       "      <th>max</th>\n",
       "      <td>2.000000</td>\n",
       "      <td>2.000000e+00</td>\n",
       "      <td>1.000000</td>\n",
       "      <td>1.000000</td>\n",
       "      <td>1.000000</td>\n",
       "      <td>1.000000</td>\n",
       "      <td>999.000000</td>\n",
       "      <td>2.000000</td>\n",
       "    </tr>\n",
       "  </tbody>\n",
       "</table>\n",
       "</div>"
      ],
      "text/plain": [
       "                t1            t2           -1            0            1  \\\n",
       "count  6561.000000  6.561000e+03  6561.000000  6561.000000  6561.000000   \n",
       "mean      0.000000 -4.331917e-18     0.189939     0.319474     0.299713   \n",
       "std       1.169134  1.169134e+00     0.338819     0.418873     0.422265   \n",
       "min      -2.000000 -2.000000e+00     0.000000     0.000000     0.000000   \n",
       "25%      -1.000000 -1.000000e+00     0.000000     0.000000     0.000000   \n",
       "50%       0.000000  0.000000e+00     0.010000     0.040000     0.030000   \n",
       "75%       1.000000  1.000000e+00     0.150000     0.870000     0.880000   \n",
       "max       2.000000  2.000000e+00     1.000000     1.000000     1.000000   \n",
       "\n",
       "                 2        phase   pred_phase  \n",
       "count  6561.000000  6561.000000  6561.000000  \n",
       "mean      0.190873    28.045877     0.500381  \n",
       "std       0.339122   163.557011     1.006249  \n",
       "min       0.000000    -1.000000    -1.000000  \n",
       "25%       0.000000     0.000000     0.000000  \n",
       "50%       0.000000     1.000000     0.000000  \n",
       "75%       0.160000     1.000000     1.000000  \n",
       "max       1.000000   999.000000     2.000000  "
      ]
     },
     "execution_count": 32,
     "metadata": {},
     "output_type": "execute_result"
    }
   ],
   "source": [
    "ham_summary.describe()"
   ]
  },
  {
   "cell_type": "code",
   "execution_count": 33,
   "metadata": {
    "execution": {
     "iopub.execute_input": "2020-07-18T17:37:35.859650Z",
     "iopub.status.busy": "2020-07-18T17:37:35.859334Z",
     "iopub.status.idle": "2020-07-18T17:37:35.874673Z",
     "shell.execute_reply": "2020-07-18T17:37:35.874100Z"
    },
    "papermill": {
     "duration": 0.05643,
     "end_time": "2020-07-18T17:37:35.874752",
     "exception": false,
     "start_time": "2020-07-18T17:37:35.818322",
     "status": "completed"
    },
    "tags": []
   },
   "outputs": [
    {
     "name": "stdout",
     "output_type": "stream",
     "text": [
      "length of ham_summary:  656100\n"
     ]
    },
    {
     "data": {
      "text/html": [
       "<div>\n",
       "<style scoped>\n",
       "    .dataframe tbody tr th:only-of-type {\n",
       "        vertical-align: middle;\n",
       "    }\n",
       "\n",
       "    .dataframe tbody tr th {\n",
       "        vertical-align: top;\n",
       "    }\n",
       "\n",
       "    .dataframe thead th {\n",
       "        text-align: right;\n",
       "    }\n",
       "</style>\n",
       "<table border=\"1\" class=\"dataframe\">\n",
       "  <thead>\n",
       "    <tr style=\"text-align: right;\">\n",
       "      <th></th>\n",
       "      <th>id</th>\n",
       "      <th>phase</th>\n",
       "      <th>pred_phase</th>\n",
       "      <th>type_of</th>\n",
       "    </tr>\n",
       "  </thead>\n",
       "  <tbody>\n",
       "    <tr>\n",
       "      <th>0</th>\n",
       "      <td>0</td>\n",
       "      <td>999</td>\n",
       "      <td>0</td>\n",
       "      <td>test</td>\n",
       "    </tr>\n",
       "    <tr>\n",
       "      <th>1</th>\n",
       "      <td>0</td>\n",
       "      <td>999</td>\n",
       "      <td>0</td>\n",
       "      <td>test</td>\n",
       "    </tr>\n",
       "    <tr>\n",
       "      <th>2</th>\n",
       "      <td>0</td>\n",
       "      <td>999</td>\n",
       "      <td>2</td>\n",
       "      <td>test</td>\n",
       "    </tr>\n",
       "    <tr>\n",
       "      <th>3</th>\n",
       "      <td>0</td>\n",
       "      <td>999</td>\n",
       "      <td>-1</td>\n",
       "      <td>test</td>\n",
       "    </tr>\n",
       "    <tr>\n",
       "      <th>4</th>\n",
       "      <td>0</td>\n",
       "      <td>999</td>\n",
       "      <td>0</td>\n",
       "      <td>test</td>\n",
       "    </tr>\n",
       "    <tr>\n",
       "      <th>...</th>\n",
       "      <td>...</td>\n",
       "      <td>...</td>\n",
       "      <td>...</td>\n",
       "      <td>...</td>\n",
       "    </tr>\n",
       "    <tr>\n",
       "      <th>656095</th>\n",
       "      <td>6560</td>\n",
       "      <td>999</td>\n",
       "      <td>2</td>\n",
       "      <td>test</td>\n",
       "    </tr>\n",
       "    <tr>\n",
       "      <th>656096</th>\n",
       "      <td>6560</td>\n",
       "      <td>999</td>\n",
       "      <td>-1</td>\n",
       "      <td>test</td>\n",
       "    </tr>\n",
       "    <tr>\n",
       "      <th>656097</th>\n",
       "      <td>6560</td>\n",
       "      <td>999</td>\n",
       "      <td>0</td>\n",
       "      <td>test</td>\n",
       "    </tr>\n",
       "    <tr>\n",
       "      <th>656098</th>\n",
       "      <td>6560</td>\n",
       "      <td>999</td>\n",
       "      <td>-1</td>\n",
       "      <td>test</td>\n",
       "    </tr>\n",
       "    <tr>\n",
       "      <th>656099</th>\n",
       "      <td>6560</td>\n",
       "      <td>999</td>\n",
       "      <td>-1</td>\n",
       "      <td>test</td>\n",
       "    </tr>\n",
       "  </tbody>\n",
       "</table>\n",
       "<p>656100 rows × 4 columns</p>\n",
       "</div>"
      ],
      "text/plain": [
       "          id  phase  pred_phase type_of\n",
       "0          0    999           0    test\n",
       "1          0    999           0    test\n",
       "2          0    999           2    test\n",
       "3          0    999          -1    test\n",
       "4          0    999           0    test\n",
       "...      ...    ...         ...     ...\n",
       "656095  6560    999           2    test\n",
       "656096  6560    999          -1    test\n",
       "656097  6560    999           0    test\n",
       "656098  6560    999          -1    test\n",
       "656099  6560    999          -1    test\n",
       "\n",
       "[656100 rows x 4 columns]"
      ]
     },
     "execution_count": 33,
     "metadata": {},
     "output_type": "execute_result"
    }
   ],
   "source": [
    "eigen_summary = simulation.eigenvector_summary\n",
    "print(\"length of ham_summary: \", len(eigen_summary))\n",
    "eigen_summary"
   ]
  },
  {
   "cell_type": "markdown",
   "metadata": {
    "papermill": {
     "duration": 0.038148,
     "end_time": "2020-07-18T17:37:35.952294",
     "exception": false,
     "start_time": "2020-07-18T17:37:35.914146",
     "status": "completed"
    },
    "tags": []
   },
   "source": [
    "#### Checking accuracies"
   ]
  },
  {
   "cell_type": "code",
   "execution_count": 34,
   "metadata": {
    "execution": {
     "iopub.execute_input": "2020-07-18T17:37:36.032915Z",
     "iopub.status.busy": "2020-07-18T17:37:36.032586Z",
     "iopub.status.idle": "2020-07-18T17:37:36.042926Z",
     "shell.execute_reply": "2020-07-18T17:37:36.043257Z"
    },
    "papermill": {
     "duration": 0.052238,
     "end_time": "2020-07-18T17:37:36.043326",
     "exception": false,
     "start_time": "2020-07-18T17:37:35.991088",
     "status": "completed"
    },
    "tags": []
   },
   "outputs": [
    {
     "data": {
      "text/plain": [
       "{'eigenvector_train': 0.9994567185802246,\n",
       " 'eigenvector_val': 0.9050869565217391,\n",
       " 'eigenvector_test': 0.5525960419091968,\n",
       " 'hamiltonian_train': 1.0,\n",
       " 'hamiltonian_val': 0.9942028985507246,\n",
       " 'hamiltonian_test': 0.7497089639115251}"
      ]
     },
     "execution_count": 34,
     "metadata": {},
     "output_type": "execute_result"
    }
   ],
   "source": [
    "simulation.accuracy"
   ]
  },
  {
   "cell_type": "markdown",
   "metadata": {
    "papermill": {
     "duration": 0.037655,
     "end_time": "2020-07-18T17:37:36.119513",
     "exception": false,
     "start_time": "2020-07-18T17:37:36.081858",
     "status": "completed"
    },
    "tags": []
   },
   "source": [
    "#### Checking data stored in  memory"
   ]
  },
  {
   "cell_type": "code",
   "execution_count": 35,
   "metadata": {
    "execution": {
     "iopub.execute_input": "2020-07-18T17:37:36.201561Z",
     "iopub.status.busy": "2020-07-18T17:37:36.201087Z",
     "iopub.status.idle": "2020-07-18T17:37:36.210844Z",
     "shell.execute_reply": "2020-07-18T17:37:36.211098Z"
    },
    "papermill": {
     "duration": 0.05294,
     "end_time": "2020-07-18T17:37:36.211168",
     "exception": false,
     "start_time": "2020-07-18T17:37:36.158228",
     "status": "completed"
    },
    "tags": []
   },
   "outputs": [
    {
     "data": {
      "text/plain": [
       "[]"
      ]
     },
     "execution_count": 35,
     "metadata": {},
     "output_type": "execute_result"
    }
   ],
   "source": [
    "ham_summary_list = simulation.hamiltonian_summary_list\n",
    "ham_summary_list"
   ]
  },
  {
   "cell_type": "code",
   "execution_count": 36,
   "metadata": {
    "execution": {
     "iopub.execute_input": "2020-07-18T17:37:36.290616Z",
     "iopub.status.busy": "2020-07-18T17:37:36.290302Z",
     "iopub.status.idle": "2020-07-18T17:37:36.300676Z",
     "shell.execute_reply": "2020-07-18T17:37:36.300398Z"
    },
    "papermill": {
     "duration": 0.051405,
     "end_time": "2020-07-18T17:37:36.300733",
     "exception": false,
     "start_time": "2020-07-18T17:37:36.249328",
     "status": "completed"
    },
    "tags": []
   },
   "outputs": [
    {
     "data": {
      "text/plain": [
       "[]"
      ]
     },
     "execution_count": 36,
     "metadata": {},
     "output_type": "execute_result"
    }
   ],
   "source": [
    "eigen_summary_list = simulation.eigenvector_summary_list\n",
    "eigen_summary_list"
   ]
  },
  {
   "cell_type": "code",
   "execution_count": 37,
   "metadata": {
    "execution": {
     "iopub.execute_input": "2020-07-18T17:37:36.384478Z",
     "iopub.status.busy": "2020-07-18T17:37:36.384154Z",
     "iopub.status.idle": "2020-07-18T17:37:36.394305Z",
     "shell.execute_reply": "2020-07-18T17:37:36.394035Z"
    },
    "papermill": {
     "duration": 0.053953,
     "end_time": "2020-07-18T17:37:36.394358",
     "exception": false,
     "start_time": "2020-07-18T17:37:36.340405",
     "status": "completed"
    },
    "tags": []
   },
   "outputs": [
    {
     "data": {
      "text/plain": [
       "{'eigenvector_train': [],\n",
       " 'eigenvector_val': [],\n",
       " 'eigenvector_test': [],\n",
       " 'hamiltonian_train': [],\n",
       " 'hamiltonian_val': [],\n",
       " 'hamiltonian_test': []}"
      ]
     },
     "execution_count": 37,
     "metadata": {},
     "output_type": "execute_result"
    }
   ],
   "source": [
    "accuracy_list = simulation.accuracy_list\n",
    "accuracy_list"
   ]
  },
  {
   "cell_type": "code",
   "execution_count": null,
   "metadata": {
    "papermill": {
     "duration": 0.038807,
     "end_time": "2020-07-18T17:37:36.471445",
     "exception": false,
     "start_time": "2020-07-18T17:37:36.432638",
     "status": "completed"
    },
    "tags": []
   },
   "outputs": [],
   "source": []
  },
  {
   "cell_type": "code",
   "execution_count": null,
   "metadata": {
    "papermill": {
     "duration": 0.040647,
     "end_time": "2020-07-18T17:37:36.551713",
     "exception": false,
     "start_time": "2020-07-18T17:37:36.511066",
     "status": "completed"
    },
    "tags": []
   },
   "outputs": [],
   "source": []
  },
  {
   "cell_type": "code",
   "execution_count": 38,
   "metadata": {
    "execution": {
     "iopub.execute_input": "2020-07-18T17:37:36.630856Z",
     "iopub.status.busy": "2020-07-18T17:37:36.630545Z",
     "iopub.status.idle": "2020-07-18T17:37:36.640525Z",
     "shell.execute_reply": "2020-07-18T17:37:36.640181Z"
    },
    "papermill": {
     "duration": 0.049888,
     "end_time": "2020-07-18T17:37:36.640577",
     "exception": false,
     "start_time": "2020-07-18T17:37:36.590689",
     "status": "completed"
    },
    "tags": []
   },
   "outputs": [],
   "source": [
    "#simulation.fourier_matrix"
   ]
  },
  {
   "cell_type": "code",
   "execution_count": 39,
   "metadata": {
    "execution": {
     "iopub.execute_input": "2020-07-18T17:37:36.722045Z",
     "iopub.status.busy": "2020-07-18T17:37:36.721722Z",
     "iopub.status.idle": "2020-07-18T17:37:36.731490Z",
     "shell.execute_reply": "2020-07-18T17:37:36.731197Z"
    },
    "papermill": {
     "duration": 0.051452,
     "end_time": "2020-07-18T17:37:36.731545",
     "exception": false,
     "start_time": "2020-07-18T17:37:36.680093",
     "status": "completed"
    },
    "tags": []
   },
   "outputs": [],
   "source": [
    "#simulation.fourier_matrix.shape"
   ]
  },
  {
   "cell_type": "code",
   "execution_count": 40,
   "metadata": {
    "execution": {
     "iopub.execute_input": "2020-07-18T17:37:36.810217Z",
     "iopub.status.busy": "2020-07-18T17:37:36.809906Z",
     "iopub.status.idle": "2020-07-18T17:37:36.864814Z",
     "shell.execute_reply": "2020-07-18T17:37:36.864350Z"
    },
    "papermill": {
     "duration": 0.094887,
     "end_time": "2020-07-18T17:37:36.864881",
     "exception": false,
     "start_time": "2020-07-18T17:37:36.769994",
     "status": "completed"
    },
    "tags": []
   },
   "outputs": [],
   "source": [
    "#simulation.fourier_matrix[:,0]"
   ]
  },
  {
   "cell_type": "code",
   "execution_count": 41,
   "metadata": {
    "execution": {
     "iopub.execute_input": "2020-07-18T17:37:36.956920Z",
     "iopub.status.busy": "2020-07-18T17:37:36.956609Z",
     "iopub.status.idle": "2020-07-18T17:37:36.966219Z",
     "shell.execute_reply": "2020-07-18T17:37:36.965881Z"
    },
    "papermill": {
     "duration": 0.051127,
     "end_time": "2020-07-18T17:37:36.966271",
     "exception": false,
     "start_time": "2020-07-18T17:37:36.915144",
     "status": "completed"
    },
    "tags": []
   },
   "outputs": [],
   "source": [
    "#simulation.fourier_matrix[:,1]"
   ]
  },
  {
   "cell_type": "code",
   "execution_count": 42,
   "metadata": {
    "execution": {
     "iopub.execute_input": "2020-07-18T17:37:37.045593Z",
     "iopub.status.busy": "2020-07-18T17:37:37.045282Z",
     "iopub.status.idle": "2020-07-18T17:37:37.055198Z",
     "shell.execute_reply": "2020-07-18T17:37:37.054914Z"
    },
    "papermill": {
     "duration": 0.050054,
     "end_time": "2020-07-18T17:37:37.055251",
     "exception": false,
     "start_time": "2020-07-18T17:37:37.005197",
     "status": "completed"
    },
    "tags": []
   },
   "outputs": [],
   "source": [
    "#np.exp(-1j*2*np.pi*3/100)"
   ]
  },
  {
   "cell_type": "code",
   "execution_count": 43,
   "metadata": {
    "execution": {
     "iopub.execute_input": "2020-07-18T17:37:37.138121Z",
     "iopub.status.busy": "2020-07-18T17:37:37.137801Z",
     "iopub.status.idle": "2020-07-18T17:37:37.186289Z",
     "shell.execute_reply": "2020-07-18T17:37:37.185868Z"
    },
    "papermill": {
     "duration": 0.090667,
     "end_time": "2020-07-18T17:37:37.186354",
     "exception": false,
     "start_time": "2020-07-18T17:37:37.095687",
     "status": "completed"
    },
    "tags": []
   },
   "outputs": [],
   "source": [
    "#for i in range(1,50):\n",
    "#    print(\"\\n\")\n",
    "#    print(i)\n",
    "#    print(np.sum((np.real(simulation.fourier_matrix[:,i]) - np.real(simulation.fourier_matrix[:,-i]))**2))\n",
    "#    print(np.sum((np.imag(simulation.fourier_matrix[:,i])+ np.imag(simulation.fourier_matrix[:,-i]))**2))"
   ]
  },
  {
   "cell_type": "code",
   "execution_count": 44,
   "metadata": {
    "execution": {
     "iopub.execute_input": "2020-07-18T17:37:37.271916Z",
     "iopub.status.busy": "2020-07-18T17:37:37.271603Z",
     "iopub.status.idle": "2020-07-18T17:37:37.305260Z",
     "shell.execute_reply": "2020-07-18T17:37:37.305529Z"
    },
    "papermill": {
     "duration": 0.074809,
     "end_time": "2020-07-18T17:37:37.305601",
     "exception": false,
     "start_time": "2020-07-18T17:37:37.230792",
     "status": "completed"
    },
    "tags": []
   },
   "outputs": [],
   "source": [
    "#print(simulation.fourier_matrix[:,0])"
   ]
  },
  {
   "cell_type": "code",
   "execution_count": 45,
   "metadata": {
    "execution": {
     "iopub.execute_input": "2020-07-18T17:37:37.387311Z",
     "iopub.status.busy": "2020-07-18T17:37:37.387003Z",
     "iopub.status.idle": "2020-07-18T17:37:37.396662Z",
     "shell.execute_reply": "2020-07-18T17:37:37.396330Z"
    },
    "papermill": {
     "duration": 0.051354,
     "end_time": "2020-07-18T17:37:37.396714",
     "exception": false,
     "start_time": "2020-07-18T17:37:37.345360",
     "status": "completed"
    },
    "tags": []
   },
   "outputs": [],
   "source": [
    "#print(simulation.fourier_matrix[:,50])"
   ]
  },
  {
   "cell_type": "code",
   "execution_count": null,
   "metadata": {
    "papermill": {
     "duration": 0.038719,
     "end_time": "2020-07-18T17:37:37.474381",
     "exception": false,
     "start_time": "2020-07-18T17:37:37.435662",
     "status": "completed"
    },
    "tags": []
   },
   "outputs": [],
   "source": []
  }
 ],
 "metadata": {
  "celltoolbar": "Tags",
  "kernelspec": {
   "display_name": "ml_top_phases",
   "language": "python",
   "name": "ml_top_phases"
  },
  "language_info": {
   "codemirror_mode": {
    "name": "ipython",
    "version": 3
   },
   "file_extension": ".py",
   "mimetype": "text/x-python",
   "name": "python",
   "nbconvert_exporter": "python",
   "pygments_lexer": "ipython3",
   "version": "3.6.10"
  },
  "papermill": {
   "duration": 1648.144646,
   "end_time": "2020-07-18T17:37:37.641420",
   "environment_variables": {},
   "exception": null,
   "input_path": "0_simulation_template.ipynb",
   "output_path": "zzz_ssh2_dst_best_12_wavevector_sites_simulation_notebook.ipynb",
   "parameters": {
    "allowed_windings": [
     -1,
     0,
     1,
     2
    ],
    "csv_path": "/home/rio/ssh_csvs/ssh2/periodic_100_6561.csv",
    "features_to_use": null,
    "fit_params": null,
    "fourier_features_to_use": [
     0,
     1,
     2,
     3,
     4,
     5,
     43,
     44,
     45,
     46,
     47,
     48
    ],
    "fourier_fillna": false,
    "fourier_mode": "dst",
    "fourier_normalize": false,
    "fourier_real": null,
    "model_kw": {
     "criterion": "entropy",
     "n_estimators": 25,
     "n_jobs": -1
    },
    "model_name": "RandomForestClassifier",
    "n_experiments": 100,
    "pred_params": null,
    "random_features": false,
    "random_state": 2019,
    "save_accuracy": true,
    "save_eigenvector": true,
    "save_hamiltonian": true,
    "save_models": true,
    "shuffle_features": false,
    "shuffle_rows": true,
    "simulation_dir": "/home/rio/ssh_simulations/ssh2/periodic_100_6561/dst_best_12_wavevector_sites",
    "start_n": 0,
    "store_in_lists": false,
    "val_split": 0.5
   },
   "start_time": "2020-07-18T17:10:09.496774",
   "version": "2.1.0"
  }
 },
 "nbformat": 4,
 "nbformat_minor": 2
}