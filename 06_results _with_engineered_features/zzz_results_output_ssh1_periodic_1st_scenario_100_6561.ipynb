{
 "cells": [
  {
   "cell_type": "markdown",
   "metadata": {
    "papermill": {
     "duration": 0.057912,
     "end_time": "2020-07-11T21:28:45.114980",
     "exception": false,
     "start_time": "2020-07-11T21:28:45.057068",
     "status": "completed"
    },
    "tags": []
   },
   "source": [
    "# Results template\n",
    "\n",
    "In this notebook we get the results of simulations performed with the nearest neighbours (ssh1) and second neighbours (ssh2) systems."
   ]
  },
  {
   "cell_type": "code",
   "execution_count": 1,
   "metadata": {
    "execution": {
     "iopub.execute_input": "2020-07-11T21:28:45.159377Z",
     "iopub.status.busy": "2020-07-11T21:28:45.158194Z",
     "iopub.status.idle": "2020-07-11T21:28:45.683053Z",
     "shell.execute_reply": "2020-07-11T21:28:45.682709Z"
    },
    "papermill": {
     "duration": 0.547017,
     "end_time": "2020-07-11T21:28:45.683111",
     "exception": false,
     "start_time": "2020-07-11T21:28:45.136094",
     "status": "completed"
    },
    "tags": []
   },
   "outputs": [],
   "source": [
    "%load_ext autoreload\n",
    "%autoreload 2\n",
    "from simulation_results import *\n",
    "#import template_parameters"
   ]
  },
  {
   "cell_type": "markdown",
   "metadata": {
    "papermill": {
     "duration": 0.019379,
     "end_time": "2020-07-11T21:28:45.722273",
     "exception": false,
     "start_time": "2020-07-11T21:28:45.702894",
     "status": "completed"
    },
    "tags": []
   },
   "source": [
    "# Defining parameters"
   ]
  },
  {
   "cell_type": "code",
   "execution_count": 2,
   "metadata": {
    "execution": {
     "iopub.execute_input": "2020-07-11T21:28:45.764029Z",
     "iopub.status.busy": "2020-07-11T21:28:45.763603Z",
     "iopub.status.idle": "2020-07-11T21:28:45.779433Z",
     "shell.execute_reply": "2020-07-11T21:28:45.779116Z"
    },
    "papermill": {
     "duration": 0.038051,
     "end_time": "2020-07-11T21:28:45.779484",
     "exception": false,
     "start_time": "2020-07-11T21:28:45.741433",
     "status": "completed"
    },
    "tags": [
     "parameters"
    ]
   },
   "outputs": [
    {
     "name": "stdout",
     "output_type": "stream",
     "text": [
      "CPU times: user 302 µs, sys: 0 ns, total: 302 µs\n",
      "Wall time: 232 µs\n"
     ]
    }
   ],
   "source": [
    "%%time\n",
    "\n",
    "#########################################################################\n",
    "###################### Simulation and experiment ########################\n",
    "#########################################################################\n",
    "\n",
    "#figs_dir = \"/home/linneu/paper/ml_topological_phases_in_real_space/paper/ssh1/periodic_100_6561\"\n",
    "simulation_dir = SSH1_PERIODIC_1ST_SCENARIO_100_6561_SIMULATION_DIR  #\"/home/linneu/ssh_simulations/ssh1/periodic_100_6561\"\n",
    "figures_dir = SSH1_PERIODIC_1ST_SCENARIO_100_6561_FIGURES_DIR \n",
    "experiment_name = \"0\"\n",
    "n_experiments = None\n",
    "load_hamiltonian_summary = False\n",
    "#winding_cmap_dict = {0: \"Reds\", 1:\"Blues\"}\n",
    "\n",
    "#########################################################################\n",
    "################### Results from a single experiment ####################\n",
    "#########################################################################\n",
    "\n",
    "### Visualizing train/val/test splits with scatter plot for a single experiment\n",
    "scatter_train_val_test_params = {\n",
    "\"fig_params\":{\"figsize\": (6,6)}, \n",
    "\"val_params\": {\"marker\": \"s\", \"s\": 64, \"alpha\": 0.2, \"color\": \"salmon\", \"label\": \"val\"},\n",
    "\"test_params\": {\"marker\": \"s\", \"s\": 64, \"alpha\": 0.5, \"color\": \"royalblue\", \"label\": \"test\"},\n",
    "\"train_params\": {\"marker\": \"o\", \"s\": 3, \"alpha\": 1, \"color\": \"green\", \"label\": \"train\"},\n",
    "\"legend_params\": {\"framealpha\": 0.8, \"loc\": \"upper right\", \"fontsize\": 16},\n",
    "\"xlabel_params\": {\"xlabel\": \"$t_2$\", \"fontsize\": 24},\n",
    "\"ylabel_params\": {\"ylabel\": \"$t_1$\", \"fontsize\": 24},\n",
    "\"title_params\": {},\n",
    "\"xlim_params\": {\"left\": -2, \"right\": 2},\n",
    "\"ylim_params\": {\"bottom\": -2, \"top\": 2},\n",
    "\"xticks_params\": {\"fontsize\": 14},\n",
    "\"yticks_params\": {\"fontsize\": 14},\n",
    "\"tight_params\": {},\n",
    "\"savefig_params\": {\"fname\": os.path.join(figures_dir,\"scatter_train_val_test_experiment_0.png\")},\n",
    "}\n",
    "\n",
    "### Plotting train winding labels with scatter plot for a single experiment\n",
    "scatter_winding_train_params = {\n",
    "\"fig_params\":{\"figsize\": (6,6)}, \n",
    "\"winding_params\": {0: {\"marker\": \"o\", \"s\": 10, \"color\": \"red\", \"label\": 0}, \\\n",
    "                   1: {\"marker\": \"o\", \"s\": 10, \"color\": \"blue\", \"label\": 1}, \\\n",
    "                                    },\n",
    "\"legend_params\": {\"framealpha\": 0.8, \"loc\": \"upper right\", \"fontsize\": 16},\n",
    "\"xlabel_params\": {\"xlabel\": \"$t_2$\", \"fontsize\": 24},\n",
    "\"ylabel_params\": {\"ylabel\": \"$t_1$\", \"fontsize\": 24},\n",
    "\"title_params\": {},\n",
    "\"xlim_params\": {\"left\": -2, \"right\": 2},\n",
    "\"ylim_params\": {\"bottom\": -2, \"top\": 2},\n",
    "\"xticks_params\": {\"fontsize\": 14},\n",
    "\"yticks_params\": {\"fontsize\": 14},\n",
    "\"tight_params\": {},\n",
    "#\"train_winding_path_to_save\": \"/home/linneu/ml_topological_phases_in_real_space/paper/ssh1/periodic_100_6561/train_winding_labels_experiment_0.png\",\n",
    "\"savefig_params\": {\"fname\": os.path.join(figures_dir,\"scatter_winding_train_experiment_0.png\")},\n",
    "}\n",
    "        \n",
    "### Plotting prediction grid with pcolormesh\n",
    "pcolormesh_prediction_grid_params = {\n",
    "\"fig_params\": {\"figsize\": (6,6)},\n",
    "\"winding_params\": {0: {\"marker\": \"o\", \"s\": 10, \"color\": \"red\", \"label\": 0}, \n",
    "                   1: {\"marker\": \"o\", \"s\": 10, \"color\": \"blue\", \"label\": 1}},\n",
    "#\"prediction_grid_pcolormesh_params\": {\"cmap\": ListedColormap([\"hotpink\", \"lightskyblue\"]), \"alpha\": 0.5},\n",
    "\"pcolormesh_params\": {\"cmap\": \"ssh1\", \"alpha\": 0.5},\n",
    "\"legend_params\": {\"framealpha\": 0.8, \"loc\": \"upper right\", \"fontsize\": 16},\n",
    "\"xlabel_params\": {\"xlabel\": \"$t_2$\", \"fontsize\": 24},\n",
    "\"ylabel_params\": {\"ylabel\": \"$t_1$\", \"fontsize\": 24},\n",
    "\"title_params\": {},\n",
    "\"xlim_params\": {\"left\": -2, \"right\": 2},\n",
    "\"ylim_params\": {\"bottom\": -2, \"top\": 2},\n",
    "\"xticks_params\": {\"fontsize\": 14},\n",
    "\"yticks_params\": {\"fontsize\": 14},\n",
    "\"tight_params\": {},\n",
    "\"savefig_params\": {\"fname\": os.path.join(figures_dir,\"pcolormesh_prediction_grid_experiment_0.png\")},\n",
    "}\n",
    "    \n",
    "### Plotting Winding Heatmaps for a single experiment\n",
    "winding_cmap_dict = {0: \"Reds\", 1:\"Blues\"}\n",
    "imshow_winding_grid_params = {\n",
    "\"winding\": 1,\n",
    "\"imshow_params\": {\"cmap\": \"bwr_r\", \"aspect\": \"equal\", \"alpha\": None, \"origin\": \"lower\", \"extent\": [-2,2,-2,2],\\\n",
    "                  \"vmin\": 0, \"vmax\":1},\n",
    "\"colorbar_params\": {\"mappable\": None, \"labelsize\": 24, \"ticks\": [0, 0.2, 0.4, 0.6, 0.8, 1.0], \"pad\": 0.1, \"shrink\": 0.8, \\\n",
    "                                           \"extend\": \"neither\"},\n",
    "#\"colorbar_params\": {0:{\"mappable\": None, \"labelsize\": 24, \"ticks\": [0, 0.2, 0.4, 0.6, 0.8, 1.0], \"pad\": 0.1, \"shrink\": 0.8, \\\n",
    "#                                           \"extend\": \"neither\"},\n",
    "#                    1: {\"mappable\": None, \"labelsize\": 24, \"ticks\": [0, 0.2, 0.4, 0.6, 0.8, 1.0], \"pad\": 0.1, \"shrink\": 0.8, \\\n",
    "#                                           \"extend\": \"neither\"}},\n",
    "\"fig_params\": {\"figsize\": (12,12)},\n",
    "\"xlabel_params\": {\"xlabel\": \"$t_2$\", \"fontsize\": 48},\n",
    "\"ylabel_params\": {\"ylabel\": \"$t_1$\", \"fontsize\": 48},\n",
    "\"title_params\": {},\n",
    "\"xlim_params\": {\"left\": -2, \"right\": 2},\n",
    "\"ylim_params\": {\"bottom\": -2, \"top\": 2},\n",
    "\"xticks_params\": {\"fontsize\": 24},\n",
    "\"yticks_params\": {\"fontsize\": 24},\n",
    "\"tight_params\": {},\n",
    "\"savefig_params\": {\"fname\": os.path.join(figures_dir,\"imshow_winding_grid_winding_{}_{}.png\")},\n",
    "} \n",
    "        \n",
    "##################################################################################\n",
    "################### Bootstrapped results from all experiments ####################\n",
    "##################################################################################\n",
    "    \n",
    "### Plotting simulation winding heatmaps\n",
    "merge_imshow_winding_grids_params = {\n",
    "\"winding_params\": {1: {\"cmap\": \"bwr_r\", \"aspect\": \"equal\", \"alpha\": None, \"origin\": \"lower\", \"extent\": [-2,2,-2,2], \\\n",
    "                  \"vmin\": 0, \"vmax\": 1}},\n",
    "#\"winding_params\": {0: {\"cmap\": \"Reds_alpha\", \"aspect\": \"equal\", \"alpha\": None, \"origin\": \"lower\", \"extent\": [-2,2,-2,2], \\\n",
    "#                                           \"vmin\": 0, \"vmax\": 1},\n",
    "#                       1: {\"cmap\": \"Blues_alpha\", \"aspect\": \"equal\", \"alpha\": None, \"origin\": \"lower\", \"extent\": [-2,2,-2,2], \\\n",
    "#                                           \"vmin\": 0, \"vmax\": 1}},\n",
    "\"colorbar_params\": {1: {\"mappable\": None, \"labelsize\": 24, \"ticks\": [0, 0.2, 0.4, 0.6, 0.8, 1.0], \"pad\": 0.1, \"shrink\": 0.8, \\\n",
    "                                           \"extend\": \"neither\"}},\n",
    "\"fig_params\": {\"figsize\": (12,12)},\n",
    "\"xlabel_params\": {\"xlabel\": \"$t_2$\", \"fontsize\": 48},\n",
    "\"ylabel_params\": {\"ylabel\": \"$t_1$\", \"fontsize\": 48},\n",
    "\"title_params\": {},\n",
    "\"xlim_params\": {\"left\": -2, \"right\": 2},\n",
    "\"ylim_params\": {\"bottom\": -2, \"top\": 2},\n",
    "\"xticks_params\": {\"fontsize\": 24},\n",
    "\"yticks_params\": {\"fontsize\": 24},\n",
    "\"tight_params\": {},\n",
    "#\"sim_winding_heatmap_path_to_save\": \"/home/linneu/ml_topological_phases_in_real_space/paper/ssh1/{}_{}_{}/simulation_merged_winding_grid.png\".format(ssh_type,chain_length,n_hamiltonians),\n",
    "\"savefig_params\": {\"fname\": os.path.join(figures_dir,\"merge_winding_grids_{}.png\")},\n",
    "}\n",
    "        \n",
    "### Plotting feature importances\n",
    "plot_feature_importances_params = {\n",
    "\"n_features\": None,\n",
    "\"plot\": \"bar\",\n",
    "\"plot_params\": {\"color\": \"indianred\", \"width\": 0.7},\n",
    "\"hist_precision\": 1000,\n",
    "\"fig_params\": {\"figsize\": (12,12)}, \n",
    "\"xlabel_params\": {\"xlabel\": \"lattice site\", \"fontsize\": 24},\n",
    "\"ylabel_params\": {\"ylabel\": \"reduction in information entropy (%)\", \"fontsize\": 24},\n",
    "\"title_params\": {\"label\": \"Information entropy signature - SSH 1\", \"fontsize\": 24},\n",
    "\"xlim_params\": {},\n",
    "\"ylim_params\": {},\n",
    "\"xticks_params\": {\"ticks\": [int(i) for i in np.linspace(0,99,10).astype(int)], \"fontsize\": 24},\n",
    "\"yticks_params\": {\"fontsize\": 24},\n",
    "\"tight_params\": {},\n",
    "#\"feature_importances_path_to_save\": \"/home/linneu/ml_topological_phases_in_real_space/paper/ssh1/{}_{}_{}/feature_importances.png\".format(ssh_type,chain_length,n_hamiltonians),\n",
    "\"savefig_params\": {\"fname\": os.path.join(figures_dir,\"plot_feature_importances.png\")},\n",
    "}\n",
    "\n",
    "### Plotting cumulative feature importances\n",
    "plot_cumulative_feature_importances_params = {\n",
    "\"n_features\": None,\n",
    "\"plot\": \"bar\",\n",
    "\"hist_precision\": 1000,\n",
    "\"plot_params\": {\"color\":\"indianred\", \"width\": 0.7},\n",
    "\"fig_params\": {\"figsize\": (12,12)},\n",
    "\"xlabel_params\": {\"xlabel\": \"lattice site\", \"fontsize\": 24},\n",
    "\"ylabel_params\": {\"ylabel\": \"cumulative reduction in information entropy (%)\", \"fontsize\": 24},\n",
    "\"title_params\": {\"label\": \"Cumulative information entropy signature - SSH 1\", \"fontsize\": 24},\n",
    "\"xlim_params\": {},\n",
    "\"ylim_params\": {},\n",
    "\"xticks_params\": {\"ticks\": [int(i) for i in np.linspace(0,99,10).astype(int)], \"fontsize\": 24},\n",
    "\"yticks_params\": {\"fontsize\": 24},\n",
    "\"tight_params\": {},\n",
    "#cumulative_features_path_to_save = \"/home/linneu/ml_topological_phases_in_real_space/paper/ssh1/periodic_100_6561/cumulative_feature_importances.png\"\n",
    "\"savefig_params\": {\"fname\": os.path.join(figures_dir,\"plot_cumulative_feature_importances.png\")},\n",
    "}\n",
    "\n",
    "### Plotting fourier feature importances\n",
    "plot_fourier_feature_importances_params = {\n",
    "\"n_features\": None,\n",
    "\"fourier\": True,\n",
    "\"plot\": \"bar\",\n",
    "\"plot_params\": {\"color\": \"palevioletred\", \"width\": 0.7},\n",
    "\"hist_precision\": 1000,\n",
    "\"fig_params\": {\"figsize\": (12,12)}, \n",
    "\"xlabel_params\": {\"xlabel\": \"reciprocal lattice site\", \"fontsize\": 24},\n",
    "\"ylabel_params\": {\"ylabel\": \"reduction in information entropy (%)\", \"fontsize\": 24},\n",
    "\"title_params\": {\"label\": \"Reciprocal lattice information entropy signature - SSH 1\", \"fontsize\": 24},\n",
    "\"xlim_params\": {},\n",
    "\"ylim_params\": {},\n",
    "\"xticks_params\": {\"ticks\": [int(i) for i in np.linspace(0,99,10).astype(int)], \"fontsize\": 24},\n",
    "\"yticks_params\": {\"fontsize\": 24},\n",
    "\"tight_params\": {},\n",
    "#\"feature_importances_path_to_save\": \"/home/linneu/ml_topological_phases_in_real_space/paper/ssh1/{}_{}_{}/feature_importances.png\".format(ssh_type,chain_length,n_hamiltonians),\n",
    "\"savefig_params\": {\"fname\": os.path.join(figures_dir,\"plot_feature_importances.png\")},\n",
    "}\n",
    "\n",
    "### Plotting cumulative fourier feature importances\n",
    "plot_cumulative_fourier_feature_importances_params = {\n",
    "\"n_features\": None,\n",
    "\"fourier\": True,\n",
    "\"plot\": \"bar\",\n",
    "\"hist_precision\": 1000,\n",
    "\"plot_params\": {\"color\":\"palevioletred\", \"width\": 0.7},\n",
    "\"fig_params\": {\"figsize\": (12,12)},\n",
    "\"xlabel_params\": {\"xlabel\": \"lattice site\", \"fontsize\": 24},\n",
    "\"ylabel_params\": {\"ylabel\": \"cumulative reduction in information entropy (%)\", \"fontsize\": 24},\n",
    "\"title_params\": {\"label\": \"Cumulative information entropy signature - SSH 1\", \"fontsize\": 24},\n",
    "\"xlim_params\": {},\n",
    "\"ylim_params\": {},\n",
    "\"xticks_params\": {\"ticks\": [int(i) for i in np.linspace(0,99,10).astype(int)], \"fontsize\": 24},\n",
    "\"yticks_params\": {\"fontsize\": 24},\n",
    "\"tight_params\": {},\n",
    "#cumulative_features_path_to_save = \"/home/linneu/ml_topological_phases_in_real_space/paper/ssh1/periodic_100_6561/cumulative_feature_importances.png\"\n",
    "\"savefig_params\": {\"fname\": os.path.join(figures_dir,\"plot_cumulative_feature_importances.png\")},\n",
    "}"
   ]
  },
  {
   "cell_type": "code",
   "execution_count": 3,
   "metadata": {
    "execution": {
     "iopub.execute_input": "2020-07-11T21:28:45.829453Z",
     "iopub.status.busy": "2020-07-11T21:28:45.824455Z",
     "iopub.status.idle": "2020-07-11T21:28:45.905569Z",
     "shell.execute_reply": "2020-07-11T21:28:45.903573Z"
    },
    "papermill": {
     "duration": 0.107299,
     "end_time": "2020-07-11T21:28:45.905832",
     "exception": false,
     "start_time": "2020-07-11T21:28:45.798533",
     "status": "completed"
    },
    "tags": [
     "injected-parameters"
    ]
   },
   "outputs": [],
   "source": [
    "# Parameters\n",
    "scatter_train_val_test_params = {\n",
    "    \"fig_params\": {\"figsize\": [6, 6]},\n",
    "    \"val_params\": {\n",
    "        \"marker\": \"s\",\n",
    "        \"s\": 64,\n",
    "        \"alpha\": 0.2,\n",
    "        \"color\": \"salmon\",\n",
    "        \"label\": \"val\",\n",
    "    },\n",
    "    \"test_params\": {\n",
    "        \"marker\": \"s\",\n",
    "        \"s\": 64,\n",
    "        \"alpha\": 0.5,\n",
    "        \"color\": \"royalblue\",\n",
    "        \"label\": \"test\",\n",
    "    },\n",
    "    \"train_params\": {\n",
    "        \"marker\": \"o\",\n",
    "        \"s\": 3,\n",
    "        \"alpha\": 1,\n",
    "        \"color\": \"green\",\n",
    "        \"label\": \"train\",\n",
    "    },\n",
    "    \"legend_params\": {\"framealpha\": 0.8, \"loc\": \"upper right\", \"fontsize\": 16},\n",
    "    \"xlabel_params\": {\"xlabel\": \"$t_2$\", \"fontsize\": 24},\n",
    "    \"ylabel_params\": {\"ylabel\": \"$t_1$\", \"fontsize\": 24},\n",
    "    \"title_params\": {},\n",
    "    \"xlim_params\": {\"left\": -2, \"right\": 2},\n",
    "    \"ylim_params\": {\"bottom\": -2, \"top\": 2},\n",
    "    \"xticks_params\": {\"fontsize\": 14},\n",
    "    \"yticks_params\": {\"fontsize\": 14},\n",
    "    \"tight_params\": {},\n",
    "    \"savefig_params\": {\n",
    "        \"fname\": \"/home/rio/ml_topological_phases_in_real_space/5_paper/ssh1/periodic_1st_scenario_100_6561/scatter_train_val_test_experiment_0.png\"\n",
    "    },\n",
    "}\n",
    "scatter_winding_train_params = {\n",
    "    \"fig_params\": {\"figsize\": [6, 6]},\n",
    "    \"winding_params\": {\n",
    "        \"0\": {\"marker\": \"o\", \"s\": 10, \"color\": \"red\", \"label\": 0},\n",
    "        \"1\": {\"marker\": \"o\", \"s\": 10, \"color\": \"blue\", \"label\": 1},\n",
    "    },\n",
    "    \"legend_params\": {\"framealpha\": 0.8, \"loc\": \"upper right\", \"fontsize\": 16},\n",
    "    \"xlabel_params\": {\"xlabel\": \"$t_2$\", \"fontsize\": 24},\n",
    "    \"ylabel_params\": {\"ylabel\": \"$t_1$\", \"fontsize\": 24},\n",
    "    \"title_params\": {},\n",
    "    \"xlim_params\": {\"left\": -2, \"right\": 2},\n",
    "    \"ylim_params\": {\"bottom\": -2, \"top\": 2},\n",
    "    \"xticks_params\": {\"fontsize\": 14},\n",
    "    \"yticks_params\": {\"fontsize\": 14},\n",
    "    \"tight_params\": {},\n",
    "    \"savefig_params\": {\n",
    "        \"fname\": \"/home/rio/ml_topological_phases_in_real_space/5_paper/ssh1/periodic_1st_scenario_100_6561/scatter_winding_train_experiment_0.png\"\n",
    "    },\n",
    "}\n",
    "pcolormesh_prediction_grid_params = {\n",
    "    \"fig_params\": {\"figsize\": [6, 6]},\n",
    "    \"winding_params\": {\n",
    "        \"0\": {\"marker\": \"o\", \"s\": 10, \"color\": \"red\", \"label\": 0},\n",
    "        \"1\": {\"marker\": \"o\", \"s\": 10, \"color\": \"blue\", \"label\": 1},\n",
    "    },\n",
    "    \"pcolormesh_params\": {\"cmap\": \"ssh1\", \"alpha\": 0.5},\n",
    "    \"legend_params\": {\"framealpha\": 0.8, \"loc\": \"upper right\", \"fontsize\": 16},\n",
    "    \"xlabel_params\": {\"xlabel\": \"$t_2$\", \"fontsize\": 24},\n",
    "    \"ylabel_params\": {\"ylabel\": \"$t_1$\", \"fontsize\": 24},\n",
    "    \"title_params\": {},\n",
    "    \"xlim_params\": {\"left\": -2, \"right\": 2},\n",
    "    \"ylim_params\": {\"bottom\": -2, \"top\": 2},\n",
    "    \"xticks_params\": {\"fontsize\": 14},\n",
    "    \"yticks_params\": {\"fontsize\": 14},\n",
    "    \"tight_params\": {},\n",
    "    \"savefig_params\": {\n",
    "        \"fname\": \"/home/rio/ml_topological_phases_in_real_space/5_paper/ssh1/periodic_1st_scenario_100_6561/pcolormesh_prediction_grid_experiment_0.png\"\n",
    "    },\n",
    "}\n",
    "winding_cmap_dict = {\"0\": \"Reds\", \"1\": \"Blues\"}\n",
    "imshow_winding_grid_params = {\n",
    "    \"winding\": 1,\n",
    "    \"imshow_params\": {\n",
    "        \"cmap\": \"bwr_r\",\n",
    "        \"aspect\": \"equal\",\n",
    "        \"alpha\": None,\n",
    "        \"origin\": \"lower\",\n",
    "        \"extent\": [-2, 2, -2, 2],\n",
    "        \"vmin\": 0,\n",
    "        \"vmax\": 1,\n",
    "    },\n",
    "    \"colorbar_params\": {\n",
    "        \"mappable\": None,\n",
    "        \"labelsize\": 24,\n",
    "        \"ticks\": [0, 0.2, 0.4, 0.6, 0.8, 1.0],\n",
    "        \"pad\": 0.1,\n",
    "        \"shrink\": 0.8,\n",
    "        \"extend\": \"neither\",\n",
    "    },\n",
    "    \"fig_params\": {\"figsize\": [12, 12]},\n",
    "    \"xlabel_params\": {\"xlabel\": \"$t_2$\", \"fontsize\": 48},\n",
    "    \"ylabel_params\": {\"ylabel\": \"$t_1$\", \"fontsize\": 48},\n",
    "    \"title_params\": {},\n",
    "    \"xlim_params\": {\"left\": -2, \"right\": 2},\n",
    "    \"ylim_params\": {\"bottom\": -2, \"top\": 2},\n",
    "    \"xticks_params\": {\"fontsize\": 24},\n",
    "    \"yticks_params\": {\"fontsize\": 24},\n",
    "    \"tight_params\": {},\n",
    "    \"savefig_params\": {\n",
    "        \"fname\": \"/home/rio/ml_topological_phases_in_real_space/5_paper/ssh1/periodic_1st_scenario_100_6561/imshow_winding_grid_winding_{}_{}.png\"\n",
    "    },\n",
    "}\n",
    "merge_imshow_winding_grids_params = {\n",
    "    \"winding_params\": {\n",
    "        \"0\": {\n",
    "            \"cmap\": \"Reds_alpha\",\n",
    "            \"aspect\": \"equal\",\n",
    "            \"alpha\": None,\n",
    "            \"origin\": \"lower\",\n",
    "            \"extent\": [-2, 2, -2, 2],\n",
    "            \"vmin\": 0,\n",
    "            \"vmax\": 1,\n",
    "        },\n",
    "        \"1\": {\n",
    "            \"cmap\": \"Blues_alpha\",\n",
    "            \"aspect\": \"equal\",\n",
    "            \"alpha\": None,\n",
    "            \"origin\": \"lower\",\n",
    "            \"extent\": [-2, 2, -2, 2],\n",
    "            \"vmin\": 0,\n",
    "            \"vmax\": 1,\n",
    "        },\n",
    "    },\n",
    "    \"colorbar_params\": {},\n",
    "    \"fig_params\": {\"figsize\": [12, 12]},\n",
    "    \"xlabel_params\": {\"xlabel\": \"$t_2$\", \"fontsize\": 48},\n",
    "    \"ylabel_params\": {\"ylabel\": \"$t_1$\", \"fontsize\": 48},\n",
    "    \"title_params\": {},\n",
    "    \"xlim_params\": {\"left\": -2, \"right\": 2},\n",
    "    \"ylim_params\": {\"bottom\": -2, \"top\": 2},\n",
    "    \"xticks_params\": {\"fontsize\": 24},\n",
    "    \"yticks_params\": {\"fontsize\": 24},\n",
    "    \"tight_params\": {},\n",
    "    \"savefig_params\": {\n",
    "        \"fname\": \"/home/rio/ml_topological_phases_in_real_space/5_paper/ssh1/periodic_1st_scenario_100_6561/merge_imshow_winding_grids_second_{}.png\"\n",
    "    },\n",
    "}\n",
    "plot_feature_importances_params = {\n",
    "    \"n_features\": None,\n",
    "    \"plot\": \"bar\",\n",
    "    \"plot_params\": {\"color\": \"indianred\", \"width\": 0.7},\n",
    "    \"hist_precision\": 1000,\n",
    "    \"fig_params\": {\"figsize\": [12, 12]},\n",
    "    \"xlabel_params\": {\"xlabel\": \"lattice site\", \"fontsize\": 24},\n",
    "    \"ylabel_params\": {\"ylabel\": \"reduction in information entropy (%)\", \"fontsize\": 24},\n",
    "    \"title_params\": {\n",
    "        \"label\": \"Information entropy signature (real space) - SSH 1\",\n",
    "        \"fontsize\": 24,\n",
    "    },\n",
    "    \"xlim_params\": {},\n",
    "    \"ylim_params\": {},\n",
    "    \"xticks_params\": {\"ticks\": [0, 11, 22, 33, 44, 55, 66, 77, 88, 99], \"fontsize\": 24},\n",
    "    \"yticks_params\": {\"fontsize\": 24},\n",
    "    \"tight_params\": {},\n",
    "    \"savefig_params\": {\n",
    "        \"fname\": \"/home/rio/ml_topological_phases_in_real_space/5_paper/ssh1/periodic_1st_scenario_100_6561/plot_feature_importances.png\"\n",
    "    },\n",
    "}\n",
    "plot_cumulative_feature_importances_params = {\n",
    "    \"n_features\": None,\n",
    "    \"plot\": \"bar\",\n",
    "    \"hist_precision\": 1000,\n",
    "    \"plot_params\": {\"color\": \"indianred\", \"width\": 0.7},\n",
    "    \"fig_params\": {\"figsize\": [12, 12]},\n",
    "    \"xlabel_params\": {\"xlabel\": \"lattice site\", \"fontsize\": 24},\n",
    "    \"ylabel_params\": {\n",
    "        \"ylabel\": \"cumulative reduction in information entropy (%)\",\n",
    "        \"fontsize\": 24,\n",
    "    },\n",
    "    \"title_params\": {\n",
    "        \"label\": \"Cumulative information entropy signature (real space) - SSH 1\",\n",
    "        \"fontsize\": 24,\n",
    "    },\n",
    "    \"xlim_params\": {},\n",
    "    \"ylim_params\": {},\n",
    "    \"xticks_params\": {\"ticks\": [0, 11, 22, 33, 44, 55, 66, 77, 88, 99], \"fontsize\": 24},\n",
    "    \"yticks_params\": {\"fontsize\": 24},\n",
    "    \"tight_params\": {},\n",
    "    \"savefig_params\": {\n",
    "        \"fname\": \"/home/rio/ml_topological_phases_in_real_space/5_paper/ssh1/periodic_1st_scenario_100_6561/plot_cumulative_feature_importances.png\"\n",
    "    },\n",
    "}\n",
    "plot_fourier_feature_importances_params = {\n",
    "    \"n_features\": None,\n",
    "    \"fourier\": True,\n",
    "    \"plot\": \"bar\",\n",
    "    \"plot_params\": {\"color\": \"palevioletred\", \"width\": 0.7},\n",
    "    \"hist_precision\": 1000,\n",
    "    \"fig_params\": {\"figsize\": [12, 12]},\n",
    "    \"xlabel_params\": {\"xlabel\": \"reciprocal lattice site\", \"fontsize\": 24},\n",
    "    \"ylabel_params\": {\"ylabel\": \"reduction in information entropy (%)\", \"fontsize\": 24},\n",
    "    \"title_params\": {\n",
    "        \"label\": \"Information entropy signature (wavevector space) - SSH 1\",\n",
    "        \"fontsize\": 24,\n",
    "    },\n",
    "    \"xlim_params\": {},\n",
    "    \"ylim_params\": {},\n",
    "    \"xticks_params\": {\"ticks\": [0, 11, 22, 33, 44, 55, 66, 77, 88, 99], \"fontsize\": 24},\n",
    "    \"yticks_params\": {\"fontsize\": 24},\n",
    "    \"tight_params\": {},\n",
    "    \"savefig_params\": {\n",
    "        \"fname\": \"/home/rio/ml_topological_phases_in_real_space/5_paper/ssh1/periodic_1st_scenario_100_6561/plot_fourier_feature_importances.png\"\n",
    "    },\n",
    "}\n",
    "plot_cumulative_fourier_feature_importances_params = {\n",
    "    \"n_features\": None,\n",
    "    \"fourier\": True,\n",
    "    \"plot\": \"bar\",\n",
    "    \"hist_precision\": 1000,\n",
    "    \"plot_params\": {\"color\": \"palevioletred\", \"width\": 0.7},\n",
    "    \"fig_params\": {\"figsize\": [12, 12]},\n",
    "    \"xlabel_params\": {\"xlabel\": \"reciprocal lattice site\", \"fontsize\": 24},\n",
    "    \"ylabel_params\": {\n",
    "        \"ylabel\": \"cumulative reduction in information entropy (%)\",\n",
    "        \"fontsize\": 24,\n",
    "    },\n",
    "    \"title_params\": {\n",
    "        \"label\": \"Cumulative information entropy signature (wavevector space) - SSH 1\",\n",
    "        \"fontsize\": 24,\n",
    "    },\n",
    "    \"xlim_params\": {},\n",
    "    \"ylim_params\": {},\n",
    "    \"xticks_params\": {\"ticks\": [0, 11, 22, 33, 44, 55, 66, 77, 88, 99], \"fontsize\": 24},\n",
    "    \"yticks_params\": {\"fontsize\": 24},\n",
    "    \"tight_params\": {},\n",
    "    \"savefig_params\": {\n",
    "        \"fname\": \"/home/rio/ml_topological_phases_in_real_space/5_paper/ssh1/periodic_1st_scenario_100_6561/plot_cumulative_fourier_feature_importances.png\"\n",
    "    },\n",
    "}\n",
    "simulation_dir = \"/home/rio/ssh_simulations/ssh1/periodic_1st_scenario_100_6561\"\n",
    "figures_dir = \"/home/rio/ml_topological_phases_in_real_space/5_paper/ssh1/periodic_1st_scenario_100_6561\"\n",
    "experiment_name = \"0\"\n",
    "n_experiments = None\n",
    "load_hamiltonian_summary = False\n"
   ]
  },
  {
   "cell_type": "markdown",
   "metadata": {
    "papermill": {
     "duration": 0.021346,
     "end_time": "2020-07-11T21:28:45.986172",
     "exception": false,
     "start_time": "2020-07-11T21:28:45.964826",
     "status": "completed"
    },
    "tags": []
   },
   "source": [
    "## Results from a single experiment"
   ]
  },
  {
   "cell_type": "markdown",
   "metadata": {
    "papermill": {
     "duration": 0.019375,
     "end_time": "2020-07-11T21:28:46.025101",
     "exception": false,
     "start_time": "2020-07-11T21:28:46.005726",
     "status": "completed"
    },
    "tags": []
   },
   "source": [
    "#### Initializing Experiment instance"
   ]
  },
  {
   "cell_type": "code",
   "execution_count": 4,
   "metadata": {
    "execution": {
     "iopub.execute_input": "2020-07-11T21:28:46.066117Z",
     "iopub.status.busy": "2020-07-11T21:28:46.065809Z",
     "iopub.status.idle": "2020-07-11T21:28:46.230285Z",
     "shell.execute_reply": "2020-07-11T21:28:46.229982Z"
    },
    "papermill": {
     "duration": 0.185635,
     "end_time": "2020-07-11T21:28:46.230342",
     "exception": false,
     "start_time": "2020-07-11T21:28:46.044707",
     "status": "completed"
    },
    "tags": []
   },
   "outputs": [],
   "source": [
    "experiment = Experiment(simulation_dir, experiment_name)"
   ]
  },
  {
   "cell_type": "markdown",
   "metadata": {
    "papermill": {
     "duration": 0.01987,
     "end_time": "2020-07-11T21:28:46.270608",
     "exception": false,
     "start_time": "2020-07-11T21:28:46.250738",
     "status": "completed"
    },
    "tags": []
   },
   "source": [
    "#### Viewing Train/Val/Test split"
   ]
  },
  {
   "cell_type": "code",
   "execution_count": 5,
   "metadata": {
    "execution": {
     "iopub.execute_input": "2020-07-11T21:28:46.311578Z",
     "iopub.status.busy": "2020-07-11T21:28:46.311266Z",
     "iopub.status.idle": "2020-07-11T21:28:46.320375Z",
     "shell.execute_reply": "2020-07-11T21:28:46.320654Z"
    },
    "papermill": {
     "duration": 0.030517,
     "end_time": "2020-07-11T21:28:46.320727",
     "exception": false,
     "start_time": "2020-07-11T21:28:46.290210",
     "status": "completed"
    },
    "tags": []
   },
   "outputs": [
    {
     "name": "stdout",
     "output_type": "stream",
     "text": [
      "% train:  0.08474317939338516\n",
      "% val:  0.7620789513793629\n",
      "% test:  0.15317786922725193\n",
      "% train + val + test:  1.0\n",
      "\n",
      "\n",
      "number of train hamiltonians:  556\n",
      "number of val hamiltonians:  5000\n",
      "number of test hamiltonians:  1005\n",
      "total number of hamiltonians:  6561\n"
     ]
    }
   ],
   "source": [
    "experiment.print_train_val_test()"
   ]
  },
  {
   "cell_type": "markdown",
   "metadata": {
    "papermill": {
     "duration": 0.019568,
     "end_time": "2020-07-11T21:28:46.359719",
     "exception": false,
     "start_time": "2020-07-11T21:28:46.340151",
     "status": "completed"
    },
    "tags": []
   },
   "source": [
    "#### Viewing dataset summary"
   ]
  },
  {
   "cell_type": "code",
   "execution_count": 6,
   "metadata": {
    "execution": {
     "iopub.execute_input": "2020-07-11T21:28:46.402045Z",
     "iopub.status.busy": "2020-07-11T21:28:46.401447Z",
     "iopub.status.idle": "2020-07-11T21:28:46.429183Z",
     "shell.execute_reply": "2020-07-11T21:28:46.428914Z"
    },
    "papermill": {
     "duration": 0.04924,
     "end_time": "2020-07-11T21:28:46.429235",
     "exception": false,
     "start_time": "2020-07-11T21:28:46.379995",
     "status": "completed"
    },
    "tags": []
   },
   "outputs": [
    {
     "name": "stdout",
     "output_type": "stream",
     "text": [
      "Summary of train + val data\n",
      "\n",
      "% train/val phases: \n",
      "0    0.507919\n",
      "1    0.492081\n",
      "Name: phase, dtype: float64\n",
      "\n",
      "\n",
      "total train/val phases: \n",
      "0    2822\n",
      "1    2734\n",
      "Name: phase, dtype: int64\n",
      "\n",
      "\n",
      "Summary of test data\n",
      "\n",
      "% test phases: \n",
      "1    0.552133\n",
      "0    0.447867\n",
      "Name: phase, dtype: float64\n",
      "\n",
      "\n",
      "total test phases: \n",
      "1    466\n",
      "0    378\n",
      "Name: phase, dtype: int64\n",
      "\n",
      "\n",
      "Summary of train + val + test data\n",
      "\n",
      "% phases: \n",
      "1    0.5\n",
      "0    0.5\n",
      "Name: phase, dtype: float64\n",
      "\n",
      "\n",
      "total phases: \n",
      "1    3200\n",
      "0    3200\n",
      "Name: phase, dtype: int64\n"
     ]
    }
   ],
   "source": [
    "experiment.print_phases()"
   ]
  },
  {
   "cell_type": "markdown",
   "metadata": {
    "papermill": {
     "duration": 0.0202,
     "end_time": "2020-07-11T21:28:46.469345",
     "exception": false,
     "start_time": "2020-07-11T21:28:46.449145",
     "status": "completed"
    },
    "tags": []
   },
   "source": [
    "#### Viewing eigenvector summary"
   ]
  },
  {
   "cell_type": "code",
   "execution_count": 7,
   "metadata": {
    "execution": {
     "iopub.execute_input": "2020-07-11T21:28:46.513975Z",
     "iopub.status.busy": "2020-07-11T21:28:46.513626Z",
     "iopub.status.idle": "2020-07-11T21:28:46.528729Z",
     "shell.execute_reply": "2020-07-11T21:28:46.528411Z"
    },
    "papermill": {
     "duration": 0.038752,
     "end_time": "2020-07-11T21:28:46.528781",
     "exception": false,
     "start_time": "2020-07-11T21:28:46.490029",
     "status": "completed"
    },
    "tags": []
   },
   "outputs": [
    {
     "data": {
      "text/html": [
       "<div>\n",
       "<style scoped>\n",
       "    .dataframe tbody tr th:only-of-type {\n",
       "        vertical-align: middle;\n",
       "    }\n",
       "\n",
       "    .dataframe tbody tr th {\n",
       "        vertical-align: top;\n",
       "    }\n",
       "\n",
       "    .dataframe thead th {\n",
       "        text-align: right;\n",
       "    }\n",
       "</style>\n",
       "<table border=\"1\" class=\"dataframe\">\n",
       "  <thead>\n",
       "    <tr style=\"text-align: right;\">\n",
       "      <th></th>\n",
       "      <th>id</th>\n",
       "      <th>phase</th>\n",
       "      <th>pred_phase</th>\n",
       "      <th>type_of</th>\n",
       "    </tr>\n",
       "  </thead>\n",
       "  <tbody>\n",
       "    <tr>\n",
       "      <th>0</th>\n",
       "      <td>0</td>\n",
       "      <td>999</td>\n",
       "      <td>1</td>\n",
       "      <td>test</td>\n",
       "    </tr>\n",
       "    <tr>\n",
       "      <th>1</th>\n",
       "      <td>0</td>\n",
       "      <td>999</td>\n",
       "      <td>1</td>\n",
       "      <td>test</td>\n",
       "    </tr>\n",
       "    <tr>\n",
       "      <th>2</th>\n",
       "      <td>0</td>\n",
       "      <td>999</td>\n",
       "      <td>0</td>\n",
       "      <td>test</td>\n",
       "    </tr>\n",
       "    <tr>\n",
       "      <th>3</th>\n",
       "      <td>0</td>\n",
       "      <td>999</td>\n",
       "      <td>1</td>\n",
       "      <td>test</td>\n",
       "    </tr>\n",
       "    <tr>\n",
       "      <th>4</th>\n",
       "      <td>0</td>\n",
       "      <td>999</td>\n",
       "      <td>0</td>\n",
       "      <td>test</td>\n",
       "    </tr>\n",
       "  </tbody>\n",
       "</table>\n",
       "</div>"
      ],
      "text/plain": [
       "   id  phase  pred_phase type_of\n",
       "0   0    999           1    test\n",
       "1   0    999           1    test\n",
       "2   0    999           0    test\n",
       "3   0    999           1    test\n",
       "4   0    999           0    test"
      ]
     },
     "execution_count": 7,
     "metadata": {},
     "output_type": "execute_result"
    }
   ],
   "source": [
    "experiment.eigenvector_summary.head()"
   ]
  },
  {
   "cell_type": "markdown",
   "metadata": {
    "papermill": {
     "duration": 0.020349,
     "end_time": "2020-07-11T21:28:46.569881",
     "exception": false,
     "start_time": "2020-07-11T21:28:46.549532",
     "status": "completed"
    },
    "tags": []
   },
   "source": [
    "#### Vieweng Hamiltonian summary"
   ]
  },
  {
   "cell_type": "code",
   "execution_count": 8,
   "metadata": {
    "execution": {
     "iopub.execute_input": "2020-07-11T21:28:46.615126Z",
     "iopub.status.busy": "2020-07-11T21:28:46.614811Z",
     "iopub.status.idle": "2020-07-11T21:28:46.715005Z",
     "shell.execute_reply": "2020-07-11T21:28:46.713290Z"
    },
    "papermill": {
     "duration": 0.123454,
     "end_time": "2020-07-11T21:28:46.715254",
     "exception": false,
     "start_time": "2020-07-11T21:28:46.591800",
     "status": "completed"
    },
    "tags": []
   },
   "outputs": [
    {
     "data": {
      "text/html": [
       "<div>\n",
       "<style scoped>\n",
       "    .dataframe tbody tr th:only-of-type {\n",
       "        vertical-align: middle;\n",
       "    }\n",
       "\n",
       "    .dataframe tbody tr th {\n",
       "        vertical-align: top;\n",
       "    }\n",
       "\n",
       "    .dataframe thead th {\n",
       "        text-align: right;\n",
       "    }\n",
       "</style>\n",
       "<table border=\"1\" class=\"dataframe\">\n",
       "  <thead>\n",
       "    <tr style=\"text-align: right;\">\n",
       "      <th></th>\n",
       "      <th>t1</th>\n",
       "      <th>t2</th>\n",
       "      <th>type_of</th>\n",
       "      <th>0</th>\n",
       "      <th>1</th>\n",
       "      <th>phase</th>\n",
       "      <th>pred_phase</th>\n",
       "    </tr>\n",
       "    <tr>\n",
       "      <th>id</th>\n",
       "      <th></th>\n",
       "      <th></th>\n",
       "      <th></th>\n",
       "      <th></th>\n",
       "      <th></th>\n",
       "      <th></th>\n",
       "      <th></th>\n",
       "    </tr>\n",
       "  </thead>\n",
       "  <tbody>\n",
       "    <tr>\n",
       "      <th>0</th>\n",
       "      <td>-2.0</td>\n",
       "      <td>-2.00</td>\n",
       "      <td>test</td>\n",
       "      <td>0.55</td>\n",
       "      <td>0.45</td>\n",
       "      <td>999</td>\n",
       "      <td>0</td>\n",
       "    </tr>\n",
       "    <tr>\n",
       "      <th>1</th>\n",
       "      <td>-2.0</td>\n",
       "      <td>-1.95</td>\n",
       "      <td>test</td>\n",
       "      <td>0.61</td>\n",
       "      <td>0.39</td>\n",
       "      <td>0</td>\n",
       "      <td>0</td>\n",
       "    </tr>\n",
       "    <tr>\n",
       "      <th>2</th>\n",
       "      <td>-2.0</td>\n",
       "      <td>-1.90</td>\n",
       "      <td>test</td>\n",
       "      <td>0.64</td>\n",
       "      <td>0.36</td>\n",
       "      <td>0</td>\n",
       "      <td>0</td>\n",
       "    </tr>\n",
       "    <tr>\n",
       "      <th>3</th>\n",
       "      <td>-2.0</td>\n",
       "      <td>-1.85</td>\n",
       "      <td>test</td>\n",
       "      <td>0.72</td>\n",
       "      <td>0.28</td>\n",
       "      <td>0</td>\n",
       "      <td>0</td>\n",
       "    </tr>\n",
       "    <tr>\n",
       "      <th>4</th>\n",
       "      <td>-2.0</td>\n",
       "      <td>-1.80</td>\n",
       "      <td>test</td>\n",
       "      <td>0.74</td>\n",
       "      <td>0.26</td>\n",
       "      <td>0</td>\n",
       "      <td>0</td>\n",
       "    </tr>\n",
       "  </tbody>\n",
       "</table>\n",
       "</div>"
      ],
      "text/plain": [
       "     t1    t2 type_of     0     1  phase  pred_phase\n",
       "id                                                  \n",
       "0  -2.0 -2.00    test  0.55  0.45    999           0\n",
       "1  -2.0 -1.95    test  0.61  0.39      0           0\n",
       "2  -2.0 -1.90    test  0.64  0.36      0           0\n",
       "3  -2.0 -1.85    test  0.72  0.28      0           0\n",
       "4  -2.0 -1.80    test  0.74  0.26      0           0"
      ]
     },
     "execution_count": 8,
     "metadata": {},
     "output_type": "execute_result"
    }
   ],
   "source": [
    "experiment.hamiltonian_summary.head()"
   ]
  },
  {
   "cell_type": "markdown",
   "metadata": {
    "papermill": {
     "duration": 0.021252,
     "end_time": "2020-07-11T21:28:46.785860",
     "exception": false,
     "start_time": "2020-07-11T21:28:46.764608",
     "status": "completed"
    },
    "tags": []
   },
   "source": [
    "#### Viewing accuracy"
   ]
  },
  {
   "cell_type": "code",
   "execution_count": 9,
   "metadata": {
    "execution": {
     "iopub.execute_input": "2020-07-11T21:28:46.831197Z",
     "iopub.status.busy": "2020-07-11T21:28:46.830880Z",
     "iopub.status.idle": "2020-07-11T21:28:46.840042Z",
     "shell.execute_reply": "2020-07-11T21:28:46.840341Z"
    },
    "papermill": {
     "duration": 0.032485,
     "end_time": "2020-07-11T21:28:46.840411",
     "exception": false,
     "start_time": "2020-07-11T21:28:46.807926",
     "status": "completed"
    },
    "tags": []
   },
   "outputs": [
    {
     "data": {
      "text/plain": [
       "{'eigenvector_train': 0.9713669064748202,\n",
       " 'eigenvector_val': 0.950032,\n",
       " 'eigenvector_test': 0.7689336492890996,\n",
       " 'hamiltonian_train': 0.9892086330935251,\n",
       " 'hamiltonian_val': 0.9852,\n",
       " 'hamiltonian_test': 0.995260663507109}"
      ]
     },
     "execution_count": 9,
     "metadata": {},
     "output_type": "execute_result"
    }
   ],
   "source": [
    "experiment.accuracy"
   ]
  },
  {
   "cell_type": "markdown",
   "metadata": {
    "papermill": {
     "duration": 0.021007,
     "end_time": "2020-07-11T21:28:46.882402",
     "exception": false,
     "start_time": "2020-07-11T21:28:46.861395",
     "status": "completed"
    },
    "tags": []
   },
   "source": [
    "#### Visualizing train/val/test splits with scatter plot for a single experiment"
   ]
  },
  {
   "cell_type": "code",
   "execution_count": 10,
   "metadata": {
    "execution": {
     "iopub.execute_input": "2020-07-11T21:28:46.926921Z",
     "iopub.status.busy": "2020-07-11T21:28:46.926610Z",
     "iopub.status.idle": "2020-07-11T21:28:47.359842Z",
     "shell.execute_reply": "2020-07-11T21:28:47.360149Z"
    },
    "papermill": {
     "duration": 0.456941,
     "end_time": "2020-07-11T21:28:47.360212",
     "exception": false,
     "start_time": "2020-07-11T21:28:46.903271",
     "status": "completed"
    },
    "tags": []
   },
   "outputs": [
    {
     "data": {
      "image/png": "[encoded data removed]",
      "text/plain": [
       "<Figure size 432x432 with 1 Axes>"
      ]
     },
     "metadata": {
      "needs_background": "light"
     },
     "output_type": "display_data"
    }
   ],
   "source": [
    "experiment.scatter_train_val_test(**scatter_train_val_test_params)\n"
   ]
  },
  {
   "cell_type": "markdown",
   "metadata": {
    "papermill": {
     "duration": 0.023581,
     "end_time": "2020-07-11T21:28:47.407068",
     "exception": false,
     "start_time": "2020-07-11T21:28:47.383487",
     "status": "completed"
    },
    "tags": []
   },
   "source": [
    "#### Plotting train winding labels with scatter plot for a single experiment"
   ]
  },
  {
   "cell_type": "code",
   "execution_count": 11,
   "metadata": {
    "execution": {
     "iopub.execute_input": "2020-07-11T21:28:47.453779Z",
     "iopub.status.busy": "2020-07-11T21:28:47.453466Z",
     "iopub.status.idle": "2020-07-11T21:28:47.667970Z",
     "shell.execute_reply": "2020-07-11T21:28:47.667648Z"
    },
    "papermill": {
     "duration": 0.2385,
     "end_time": "2020-07-11T21:28:47.668021",
     "exception": false,
     "start_time": "2020-07-11T21:28:47.429521",
     "status": "completed"
    },
    "tags": []
   },
   "outputs": [
    {
     "data": {
      "image/png": "[encoded data removed]",
      "text/plain": [
       "<Figure size 432x432 with 1 Axes>"
      ]
     },
     "metadata": {
      "needs_background": "light"
     },
     "output_type": "display_data"
    }
   ],
   "source": [
    "scatter_winding_train_params[\"winding_params\"] = {int(w): scatter_winding_train_params[\"winding_params\"][w] for w in \n",
    "                                                  scatter_winding_train_params[\"winding_params\"]}\n",
    "experiment.scatter_winding_train(**scatter_winding_train_params)\n"
   ]
  },
  {
   "cell_type": "markdown",
   "metadata": {
    "papermill": {
     "duration": 0.023221,
     "end_time": "2020-07-11T21:28:47.715713",
     "exception": false,
     "start_time": "2020-07-11T21:28:47.692492",
     "status": "completed"
    },
    "tags": []
   },
   "source": [
    "#### Plotting prediction grid with pcolormesh for a single experiment"
   ]
  },
  {
   "cell_type": "code",
   "execution_count": 12,
   "metadata": {
    "execution": {
     "iopub.execute_input": "2020-07-11T21:28:47.763896Z",
     "iopub.status.busy": "2020-07-11T21:28:47.763576Z",
     "iopub.status.idle": "2020-07-11T21:28:47.971515Z",
     "shell.execute_reply": "2020-07-11T21:28:47.971858Z"
    },
    "papermill": {
     "duration": 0.233001,
     "end_time": "2020-07-11T21:28:47.971932",
     "exception": false,
     "start_time": "2020-07-11T21:28:47.738931",
     "status": "completed"
    },
    "tags": []
   },
   "outputs": [
    {
     "data": {
      "image/png": "[encoded data removed]",
      "text/plain": [
       "<Figure size 432x432 with 1 Axes>"
      ]
     },
     "metadata": {
      "needs_background": "light"
     },
     "output_type": "display_data"
    }
   ],
   "source": [
    "pcolormesh_prediction_grid_params[\"winding_params\"] = {int(w): pcolormesh_prediction_grid_params[\"winding_params\"][w] for w in \n",
    "                                                  pcolormesh_prediction_grid_params[\"winding_params\"]}\n",
    "experiment.pcolormesh_prediction_grid(**pcolormesh_prediction_grid_params)\n"
   ]
  },
  {
   "cell_type": "markdown",
   "metadata": {
    "papermill": {
     "duration": 0.023288,
     "end_time": "2020-07-11T21:28:48.018785",
     "exception": false,
     "start_time": "2020-07-11T21:28:47.995497",
     "status": "completed"
    },
    "tags": []
   },
   "source": [
    "#### Plotting single Winding Heatmaps for a single experiment"
   ]
  },
  {
   "cell_type": "code",
   "execution_count": 13,
   "metadata": {
    "execution": {
     "iopub.execute_input": "2020-07-11T21:28:48.067135Z",
     "iopub.status.busy": "2020-07-11T21:28:48.066820Z",
     "iopub.status.idle": "2020-07-11T21:28:48.753317Z",
     "shell.execute_reply": "2020-07-11T21:28:48.752999Z"
    },
    "papermill": {
     "duration": 0.711515,
     "end_time": "2020-07-11T21:28:48.753367",
     "exception": false,
     "start_time": "2020-07-11T21:28:48.041852",
     "status": "completed"
    },
    "tags": []
   },
   "outputs": [
    {
     "data": {
      "image/png": "[encoded data removed]",
      "text/plain": [
       "<Figure size 864x864 with 2 Axes>"
      ]
     },
     "metadata": {
      "needs_background": "light"
     },
     "output_type": "display_data"
    },
    {
     "data": {
      "image/png": "[encoded data removed]",
      "text/plain": [
       "<Figure size 864x864 with 2 Axes>"
      ]
     },
     "metadata": {
      "needs_background": "light"
     },
     "output_type": "display_data"
    }
   ],
   "source": [
    "winding_cmap_dict = {int(w): winding_cmap_dict[w] for w in                                                   winding_cmap_dict}\n",
    "fname = imshow_winding_grid_params[\"savefig_params\"][\"fname\"]\n",
    "for w, c in winding_cmap_dict.items():\n",
    "    imshow_winding_grid_params[\"winding\"] = w\n",
    "    imshow_winding_grid_params[\"imshow_params\"][\"cmap\"] = c\n",
    "    imshow_winding_grid_params[\"savefig_params\"][\"fname\"] = fname.format(w,\"exp_\"+experiment_name)\n",
    "    experiment.imshow_winding_grid(**imshow_winding_grid_params)\n",
    "imshow_winding_grid_params[\"savefig_params\"][\"fname\"] = fname"
   ]
  },
  {
   "cell_type": "markdown",
   "metadata": {
    "papermill": {
     "duration": 0.025131,
     "end_time": "2020-07-11T21:28:48.804150",
     "exception": false,
     "start_time": "2020-07-11T21:28:48.779019",
     "status": "completed"
    },
    "tags": []
   },
   "source": [
    "#### Plotting Merged Winding Heatmaps for a single experiment"
   ]
  },
  {
   "cell_type": "code",
   "execution_count": 14,
   "metadata": {
    "execution": {
     "iopub.execute_input": "2020-07-11T21:28:48.856594Z",
     "iopub.status.busy": "2020-07-11T21:28:48.856239Z",
     "iopub.status.idle": "2020-07-11T21:28:49.310437Z",
     "shell.execute_reply": "2020-07-11T21:28:49.310119Z"
    },
    "papermill": {
     "duration": 0.481936,
     "end_time": "2020-07-11T21:28:49.310489",
     "exception": false,
     "start_time": "2020-07-11T21:28:48.828553",
     "status": "completed"
    },
    "tags": []
   },
   "outputs": [
    {
     "name": "stdout",
     "output_type": "stream",
     "text": [
      "Plotting winding 0\n",
      "Plotting winding 1\n"
     ]
    },
    {
     "data": {
      "image/png": "[encoded data removed]",
      "text/plain": [
       "<Figure size 864x864 with 1 Axes>"
      ]
     },
     "metadata": {
      "needs_background": "light"
     },
     "output_type": "display_data"
    }
   ],
   "source": [
    "merge_imshow_winding_grids_params[\"winding_params\"] = {int(w): merge_imshow_winding_grids_params[\"winding_params\"][w] for w in \n",
    "                                                  merge_imshow_winding_grids_params[\"winding_params\"]}\n",
    "merge_imshow_winding_grids_params[\"colorbar_params\"] = {int(w): merge_imshow_winding_grids_params[\"colorbar_params\"][w] for w in \n",
    "                                                  merge_imshow_winding_grids_params[\"colorbar_params\"]}\n",
    "fname = merge_imshow_winding_grids_params[\"savefig_params\"][\"fname\"]\n",
    "merge_imshow_winding_grids_params[\"savefig_params\"][\"fname\"] = fname.format(\"exp_\"+experiment_name)\n",
    "experiment.merge_imshow_winding_grids(**merge_imshow_winding_grids_params)\n",
    "merge_imshow_winding_grids_params[\"savefig_params\"][\"fname\"] = fname"
   ]
  },
  {
   "cell_type": "markdown",
   "metadata": {
    "papermill": {
     "duration": 0.027757,
     "end_time": "2020-07-11T21:28:49.364443",
     "exception": false,
     "start_time": "2020-07-11T21:28:49.336686",
     "status": "completed"
    },
    "tags": []
   },
   "source": [
    "## Results from all experiments "
   ]
  },
  {
   "cell_type": "markdown",
   "metadata": {
    "papermill": {
     "duration": 0.025539,
     "end_time": "2020-07-11T21:28:49.415716",
     "exception": false,
     "start_time": "2020-07-11T21:28:49.390177",
     "status": "completed"
    },
    "tags": []
   },
   "source": [
    "#### Initializing ExperimentEnsemble instance"
   ]
  },
  {
   "cell_type": "code",
   "execution_count": 15,
   "metadata": {
    "execution": {
     "iopub.execute_input": "2020-07-11T21:28:49.470647Z",
     "iopub.status.busy": "2020-07-11T21:28:49.470323Z",
     "iopub.status.idle": "2020-07-11T21:28:49.632041Z",
     "shell.execute_reply": "2020-07-11T21:28:49.631649Z"
    },
    "papermill": {
     "duration": 0.190165,
     "end_time": "2020-07-11T21:28:49.632104",
     "exception": false,
     "start_time": "2020-07-11T21:28:49.441939",
     "status": "completed"
    },
    "tags": []
   },
   "outputs": [],
   "source": [
    "simulation = ExperimentEnsemble(simulation_dir, n_experiments, load_hamiltonian_summary)"
   ]
  },
  {
   "cell_type": "markdown",
   "metadata": {
    "papermill": {
     "duration": 0.027132,
     "end_time": "2020-07-11T21:28:49.687439",
     "exception": false,
     "start_time": "2020-07-11T21:28:49.660307",
     "status": "completed"
    },
    "tags": []
   },
   "source": [
    "#### Computing Hamiltonian summary"
   ]
  },
  {
   "cell_type": "code",
   "execution_count": 16,
   "metadata": {
    "execution": {
     "iopub.execute_input": "2020-07-11T21:28:49.740756Z",
     "iopub.status.busy": "2020-07-11T21:28:49.740443Z",
     "iopub.status.idle": "2020-07-11T21:28:50.401265Z",
     "shell.execute_reply": "2020-07-11T21:28:50.400953Z"
    },
    "papermill": {
     "duration": 0.688078,
     "end_time": "2020-07-11T21:28:50.401316",
     "exception": false,
     "start_time": "2020-07-11T21:28:49.713238",
     "status": "completed"
    },
    "tags": []
   },
   "outputs": [
    {
     "name": "stderr",
     "output_type": "stream",
     "text": [
      "\r",
      "mean hamiltonian summary:   0%|          | 0/100 [00:00<?, ?it/s]"
     ]
    },
    {
     "name": "stderr",
     "output_type": "stream",
     "text": [
      "\r",
      "mean hamiltonian summary:  24%|██▍       | 24/100 [00:00<00:00, 234.28it/s]"
     ]
    },
    {
     "name": "stderr",
     "output_type": "stream",
     "text": [
      "\r",
      "mean hamiltonian summary:  49%|████▉     | 49/100 [00:00<00:00, 237.79it/s]"
     ]
    },
    {
     "name": "stderr",
     "output_type": "stream",
     "text": [
      "\r",
      "mean hamiltonian summary:  74%|███████▍  | 74/100 [00:00<00:00, 239.69it/s]"
     ]
    },
    {
     "name": "stderr",
     "output_type": "stream",
     "text": [
      "\r",
      "mean hamiltonian summary:  99%|█████████▉| 99/100 [00:00<00:00, 239.78it/s]"
     ]
    },
    {
     "name": "stderr",
     "output_type": "stream",
     "text": [
      "\r",
      "mean hamiltonian summary: 100%|██████████| 100/100 [00:00<00:00, 240.87it/s]"
     ]
    },
    {
     "name": "stderr",
     "output_type": "stream",
     "text": [
      "\n",
      "\r",
      "majority vote:   0%|          | 0/6561 [00:00<?, ?it/s]"
     ]
    },
    {
     "name": "stderr",
     "output_type": "stream",
     "text": [
      "\r",
      "majority vote: 100%|██████████| 6561/6561 [00:00<00:00, 85011.53it/s]"
     ]
    },
    {
     "name": "stderr",
     "output_type": "stream",
     "text": [
      "\n"
     ]
    }
   ],
   "source": [
    "simulation.compute_hamiltonian_summary()"
   ]
  },
  {
   "cell_type": "markdown",
   "metadata": {
    "papermill": {
     "duration": 0.02727,
     "end_time": "2020-07-11T21:28:50.456529",
     "exception": false,
     "start_time": "2020-07-11T21:28:50.429259",
     "status": "completed"
    },
    "tags": []
   },
   "source": [
    "#### Plotting single winding heatmaps for a simulation"
   ]
  },
  {
   "cell_type": "code",
   "execution_count": 17,
   "metadata": {
    "execution": {
     "iopub.execute_input": "2020-07-11T21:28:50.513521Z",
     "iopub.status.busy": "2020-07-11T21:28:50.513191Z",
     "iopub.status.idle": "2020-07-11T21:28:51.246534Z",
     "shell.execute_reply": "2020-07-11T21:28:51.246845Z"
    },
    "papermill": {
     "duration": 0.763294,
     "end_time": "2020-07-11T21:28:51.246913",
     "exception": false,
     "start_time": "2020-07-11T21:28:50.483619",
     "status": "completed"
    },
    "tags": []
   },
   "outputs": [
    {
     "data": {
      "image/png": "[encoded data removed]",
      "text/plain": [
       "<Figure size 864x864 with 2 Axes>"
      ]
     },
     "metadata": {
      "needs_background": "light"
     },
     "output_type": "display_data"
    },
    {
     "data": {
      "image/png": "[encoded data removed]",
      "text/plain": [
       "<Figure size 864x864 with 2 Axes>"
      ]
     },
     "metadata": {
      "needs_background": "light"
     },
     "output_type": "display_data"
    }
   ],
   "source": [
    "winding_cmap_dict = {int(w): winding_cmap_dict[w] for w in                                                   winding_cmap_dict}\n",
    "fname = imshow_winding_grid_params[\"savefig_params\"][\"fname\"]\n",
    "for w, c in winding_cmap_dict.items():\n",
    "    imshow_winding_grid_params[\"winding\"] = w\n",
    "    imshow_winding_grid_params[\"imshow_params\"][\"cmap\"] = c\n",
    "    imshow_winding_grid_params[\"savefig_params\"][\"fname\"] = fname.format(w,\"sim\")\n",
    "    simulation.imshow_winding_grid(**imshow_winding_grid_params)\n",
    "imshow_winding_grid_params[\"savefig_params\"][\"fname\"] = fname"
   ]
  },
  {
   "cell_type": "markdown",
   "metadata": {
    "papermill": {
     "duration": 0.031076,
     "end_time": "2020-07-11T21:28:51.310229",
     "exception": false,
     "start_time": "2020-07-11T21:28:51.279153",
     "status": "completed"
    },
    "tags": []
   },
   "source": [
    "#### Plotting merged simulation winding heatmaps"
   ]
  },
  {
   "cell_type": "code",
   "execution_count": 18,
   "metadata": {
    "execution": {
     "iopub.execute_input": "2020-07-11T21:28:51.374029Z",
     "iopub.status.busy": "2020-07-11T21:28:51.373698Z",
     "iopub.status.idle": "2020-07-11T21:28:51.776363Z",
     "shell.execute_reply": "2020-07-11T21:28:51.776040Z"
    },
    "papermill": {
     "duration": 0.434743,
     "end_time": "2020-07-11T21:28:51.776424",
     "exception": false,
     "start_time": "2020-07-11T21:28:51.341681",
     "status": "completed"
    },
    "tags": []
   },
   "outputs": [
    {
     "name": "stdout",
     "output_type": "stream",
     "text": [
      "Plotting winding 0\n",
      "Plotting winding 1\n"
     ]
    },
    {
     "data": {
      "image/png": "[encoded data removed]",
      "text/plain": [
       "<Figure size 864x864 with 1 Axes>"
      ]
     },
     "metadata": {
      "needs_background": "light"
     },
     "output_type": "display_data"
    }
   ],
   "source": [
    "merge_imshow_winding_grids_params[\"winding_params\"] = {int(w): merge_imshow_winding_grids_params[\"winding_params\"][w] for w in \n",
    "                                                  merge_imshow_winding_grids_params[\"winding_params\"]}\n",
    "merge_imshow_winding_grids_params[\"colorbar_params\"] = {int(w): merge_imshow_winding_grids_params[\"colorbar_params\"][w] for w in \n",
    "                                                  merge_imshow_winding_grids_params[\"colorbar_params\"]}\n",
    "fname = merge_imshow_winding_grids_params[\"savefig_params\"][\"fname\"]\n",
    "merge_imshow_winding_grids_params[\"savefig_params\"][\"fname\"] = fname.format(\"sim\")\n",
    "simulation.merge_imshow_winding_grids(**merge_imshow_winding_grids_params)\n",
    "merge_imshow_winding_grids_params[\"savefig_params\"][\"fname\"] = fname"
   ]
  },
  {
   "cell_type": "markdown",
   "metadata": {
    "papermill": {
     "duration": 0.030937,
     "end_time": "2020-07-11T21:28:51.838417",
     "exception": false,
     "start_time": "2020-07-11T21:28:51.807480",
     "status": "completed"
    },
    "tags": []
   },
   "source": [
    "#### Computing mean accuracies"
   ]
  },
  {
   "cell_type": "code",
   "execution_count": 19,
   "metadata": {
    "execution": {
     "iopub.execute_input": "2020-07-11T21:28:51.900829Z",
     "iopub.status.busy": "2020-07-11T21:28:51.900512Z",
     "iopub.status.idle": "2020-07-11T21:29:06.489553Z",
     "shell.execute_reply": "2020-07-11T21:29:06.489852Z"
    },
    "papermill": {
     "duration": 14.621422,
     "end_time": "2020-07-11T21:29:06.489916",
     "exception": false,
     "start_time": "2020-07-11T21:28:51.868494",
     "status": "completed"
    },
    "tags": []
   },
   "outputs": [
    {
     "name": "stderr",
     "output_type": "stream",
     "text": [
      "\r",
      "computing mean accuracies:   0%|          | 0/100 [00:00<?, ?it/s]"
     ]
    },
    {
     "name": "stderr",
     "output_type": "stream",
     "text": [
      "\r",
      "computing mean accuracies:   1%|          | 1/100 [00:00<00:14,  7.07it/s]"
     ]
    },
    {
     "name": "stderr",
     "output_type": "stream",
     "text": [
      "\r",
      "computing mean accuracies:   2%|▏         | 2/100 [00:00<00:13,  7.04it/s]"
     ]
    },
    {
     "name": "stderr",
     "output_type": "stream",
     "text": [
      "\r",
      "computing mean accuracies:   3%|▎         | 3/100 [00:00<00:13,  7.01it/s]"
     ]
    },
    {
     "name": "stderr",
     "output_type": "stream",
     "text": [
      "\r",
      "computing mean accuracies:   4%|▍         | 4/100 [00:00<00:13,  6.87it/s]"
     ]
    },
    {
     "name": "stderr",
     "output_type": "stream",
     "text": [
      "\r",
      "computing mean accuracies:   5%|▌         | 5/100 [00:00<00:13,  6.82it/s]"
     ]
    },
    {
     "name": "stderr",
     "output_type": "stream",
     "text": [
      "\r",
      "computing mean accuracies:   6%|▌         | 6/100 [00:00<00:13,  6.92it/s]"
     ]
    },
    {
     "name": "stderr",
     "output_type": "stream",
     "text": [
      "\r",
      "computing mean accuracies:   7%|▋         | 7/100 [00:01<00:13,  6.85it/s]"
     ]
    },
    {
     "name": "stderr",
     "output_type": "stream",
     "text": [
      "\r",
      "computing mean accuracies:   8%|▊         | 8/100 [00:01<00:13,  6.79it/s]"
     ]
    },
    {
     "name": "stderr",
     "output_type": "stream",
     "text": [
      "\r",
      "computing mean accuracies:   9%|▉         | 9/100 [00:01<00:13,  6.91it/s]"
     ]
    },
    {
     "name": "stderr",
     "output_type": "stream",
     "text": [
      "\r",
      "computing mean accuracies:  10%|█         | 10/100 [00:01<00:13,  6.87it/s]"
     ]
    },
    {
     "name": "stderr",
     "output_type": "stream",
     "text": [
      "\r",
      "computing mean accuracies:  11%|█         | 11/100 [00:01<00:13,  6.78it/s]"
     ]
    },
    {
     "name": "stderr",
     "output_type": "stream",
     "text": [
      "\r",
      "computing mean accuracies:  12%|█▏        | 12/100 [00:01<00:12,  6.82it/s]"
     ]
    },
    {
     "name": "stderr",
     "output_type": "stream",
     "text": [
      "\r",
      "computing mean accuracies:  13%|█▎        | 13/100 [00:01<00:12,  6.97it/s]"
     ]
    },
    {
     "name": "stderr",
     "output_type": "stream",
     "text": [
      "\r",
      "computing mean accuracies:  14%|█▍        | 14/100 [00:02<00:12,  7.06it/s]"
     ]
    },
    {
     "name": "stderr",
     "output_type": "stream",
     "text": [
      "\r",
      "computing mean accuracies:  15%|█▌        | 15/100 [00:02<00:11,  7.09it/s]"
     ]
    },
    {
     "name": "stderr",
     "output_type": "stream",
     "text": [
      "\r",
      "computing mean accuracies:  16%|█▌        | 16/100 [00:02<00:12,  6.92it/s]"
     ]
    },
    {
     "name": "stderr",
     "output_type": "stream",
     "text": [
      "\r",
      "computing mean accuracies:  17%|█▋        | 17/100 [00:02<00:12,  6.87it/s]"
     ]
    },
    {
     "name": "stderr",
     "output_type": "stream",
     "text": [
      "\r",
      "computing mean accuracies:  18%|█▊        | 18/100 [00:02<00:11,  6.95it/s]"
     ]
    },
    {
     "name": "stderr",
     "output_type": "stream",
     "text": [
      "\r",
      "computing mean accuracies:  19%|█▉        | 19/100 [00:02<00:11,  7.03it/s]"
     ]
    },
    {
     "name": "stderr",
     "output_type": "stream",
     "text": [
      "\r",
      "computing mean accuracies:  20%|██        | 20/100 [00:02<00:11,  6.98it/s]"
     ]
    },
    {
     "name": "stderr",
     "output_type": "stream",
     "text": [
      "\r",
      "computing mean accuracies:  21%|██        | 21/100 [00:03<00:11,  6.93it/s]"
     ]
    },
    {
     "name": "stderr",
     "output_type": "stream",
     "text": [
      "\r",
      "computing mean accuracies:  22%|██▏       | 22/100 [00:03<00:11,  6.79it/s]"
     ]
    },
    {
     "name": "stderr",
     "output_type": "stream",
     "text": [
      "\r",
      "computing mean accuracies:  23%|██▎       | 23/100 [00:03<00:11,  6.91it/s]"
     ]
    },
    {
     "name": "stderr",
     "output_type": "stream",
     "text": [
      "\r",
      "computing mean accuracies:  24%|██▍       | 24/100 [00:03<00:11,  6.91it/s]"
     ]
    },
    {
     "name": "stderr",
     "output_type": "stream",
     "text": [
      "\r",
      "computing mean accuracies:  25%|██▌       | 25/100 [00:03<00:10,  7.01it/s]"
     ]
    },
    {
     "name": "stderr",
     "output_type": "stream",
     "text": [
      "\r",
      "computing mean accuracies:  26%|██▌       | 26/100 [00:03<00:10,  7.11it/s]"
     ]
    },
    {
     "name": "stderr",
     "output_type": "stream",
     "text": [
      "\r",
      "computing mean accuracies:  27%|██▋       | 27/100 [00:03<00:10,  7.18it/s]"
     ]
    },
    {
     "name": "stderr",
     "output_type": "stream",
     "text": [
      "\r",
      "computing mean accuracies:  28%|██▊       | 28/100 [00:04<00:09,  7.23it/s]"
     ]
    },
    {
     "name": "stderr",
     "output_type": "stream",
     "text": [
      "\r",
      "computing mean accuracies:  29%|██▉       | 29/100 [00:04<00:09,  7.18it/s]"
     ]
    },
    {
     "name": "stderr",
     "output_type": "stream",
     "text": [
      "\r",
      "computing mean accuracies:  30%|███       | 30/100 [00:04<00:09,  7.22it/s]"
     ]
    },
    {
     "name": "stderr",
     "output_type": "stream",
     "text": [
      "\r",
      "computing mean accuracies:  31%|███       | 31/100 [00:04<00:09,  7.21it/s]"
     ]
    },
    {
     "name": "stderr",
     "output_type": "stream",
     "text": [
      "\r",
      "computing mean accuracies:  32%|███▏      | 32/100 [00:04<00:09,  7.21it/s]"
     ]
    },
    {
     "name": "stderr",
     "output_type": "stream",
     "text": [
      "\r",
      "computing mean accuracies:  33%|███▎      | 33/100 [00:04<00:09,  7.26it/s]"
     ]
    },
    {
     "name": "stderr",
     "output_type": "stream",
     "text": [
      "\r",
      "computing mean accuracies:  34%|███▍      | 34/100 [00:04<00:09,  7.27it/s]"
     ]
    },
    {
     "name": "stderr",
     "output_type": "stream",
     "text": [
      "\r",
      "computing mean accuracies:  35%|███▌      | 35/100 [00:04<00:08,  7.26it/s]"
     ]
    },
    {
     "name": "stderr",
     "output_type": "stream",
     "text": [
      "\r",
      "computing mean accuracies:  36%|███▌      | 36/100 [00:05<00:08,  7.23it/s]"
     ]
    },
    {
     "name": "stderr",
     "output_type": "stream",
     "text": [
      "\r",
      "computing mean accuracies:  37%|███▋      | 37/100 [00:05<00:08,  7.21it/s]"
     ]
    },
    {
     "name": "stderr",
     "output_type": "stream",
     "text": [
      "\r",
      "computing mean accuracies:  38%|███▊      | 38/100 [00:05<00:08,  7.06it/s]"
     ]
    },
    {
     "name": "stderr",
     "output_type": "stream",
     "text": [
      "\r",
      "computing mean accuracies:  39%|███▉      | 39/100 [00:05<00:08,  6.88it/s]"
     ]
    },
    {
     "name": "stderr",
     "output_type": "stream",
     "text": [
      "\r",
      "computing mean accuracies:  40%|████      | 40/100 [00:05<00:08,  7.00it/s]"
     ]
    },
    {
     "name": "stderr",
     "output_type": "stream",
     "text": [
      "\r",
      "computing mean accuracies:  41%|████      | 41/100 [00:05<00:08,  7.04it/s]"
     ]
    },
    {
     "name": "stderr",
     "output_type": "stream",
     "text": [
      "\r",
      "computing mean accuracies:  42%|████▏     | 42/100 [00:05<00:08,  7.14it/s]"
     ]
    },
    {
     "name": "stderr",
     "output_type": "stream",
     "text": [
      "\r",
      "computing mean accuracies:  43%|████▎     | 43/100 [00:06<00:07,  7.20it/s]"
     ]
    },
    {
     "name": "stderr",
     "output_type": "stream",
     "text": [
      "\r",
      "computing mean accuracies:  44%|████▍     | 44/100 [00:06<00:07,  7.26it/s]"
     ]
    },
    {
     "name": "stderr",
     "output_type": "stream",
     "text": [
      "\r",
      "computing mean accuracies:  45%|████▌     | 45/100 [00:06<00:07,  7.29it/s]"
     ]
    },
    {
     "name": "stderr",
     "output_type": "stream",
     "text": [
      "\r",
      "computing mean accuracies:  46%|████▌     | 46/100 [00:06<00:07,  7.31it/s]"
     ]
    },
    {
     "name": "stderr",
     "output_type": "stream",
     "text": [
      "\r",
      "computing mean accuracies:  47%|████▋     | 47/100 [00:06<00:07,  7.33it/s]"
     ]
    },
    {
     "name": "stderr",
     "output_type": "stream",
     "text": [
      "\r",
      "computing mean accuracies:  48%|████▊     | 48/100 [00:06<00:07,  7.33it/s]"
     ]
    },
    {
     "name": "stderr",
     "output_type": "stream",
     "text": [
      "\r",
      "computing mean accuracies:  49%|████▉     | 49/100 [00:06<00:06,  7.31it/s]"
     ]
    },
    {
     "name": "stderr",
     "output_type": "stream",
     "text": [
      "\r",
      "computing mean accuracies:  50%|█████     | 50/100 [00:07<00:06,  7.33it/s]"
     ]
    },
    {
     "name": "stderr",
     "output_type": "stream",
     "text": [
      "\r",
      "computing mean accuracies:  51%|█████     | 51/100 [00:07<00:06,  7.32it/s]"
     ]
    },
    {
     "name": "stderr",
     "output_type": "stream",
     "text": [
      "\r",
      "computing mean accuracies:  52%|█████▏    | 52/100 [00:07<00:06,  7.29it/s]"
     ]
    },
    {
     "name": "stderr",
     "output_type": "stream",
     "text": [
      "\r",
      "computing mean accuracies:  53%|█████▎    | 53/100 [00:07<00:06,  7.30it/s]"
     ]
    },
    {
     "name": "stderr",
     "output_type": "stream",
     "text": [
      "\r",
      "computing mean accuracies:  54%|█████▍    | 54/100 [00:07<00:06,  7.30it/s]"
     ]
    },
    {
     "name": "stderr",
     "output_type": "stream",
     "text": [
      "\r",
      "computing mean accuracies:  55%|█████▌    | 55/100 [00:07<00:06,  7.31it/s]"
     ]
    },
    {
     "name": "stderr",
     "output_type": "stream",
     "text": [
      "\r",
      "computing mean accuracies:  56%|█████▌    | 56/100 [00:07<00:06,  7.24it/s]"
     ]
    },
    {
     "name": "stderr",
     "output_type": "stream",
     "text": [
      "\r",
      "computing mean accuracies:  57%|█████▋    | 57/100 [00:08<00:06,  7.11it/s]"
     ]
    },
    {
     "name": "stderr",
     "output_type": "stream",
     "text": [
      "\r",
      "computing mean accuracies:  58%|█████▊    | 58/100 [00:08<00:05,  7.15it/s]"
     ]
    },
    {
     "name": "stderr",
     "output_type": "stream",
     "text": [
      "\r",
      "computing mean accuracies:  59%|█████▉    | 59/100 [00:08<00:05,  7.17it/s]"
     ]
    },
    {
     "name": "stderr",
     "output_type": "stream",
     "text": [
      "\r",
      "computing mean accuracies:  60%|██████    | 60/100 [00:08<00:05,  7.12it/s]"
     ]
    },
    {
     "name": "stderr",
     "output_type": "stream",
     "text": [
      "\r",
      "computing mean accuracies:  61%|██████    | 61/100 [00:08<00:05,  7.18it/s]"
     ]
    },
    {
     "name": "stderr",
     "output_type": "stream",
     "text": [
      "\r",
      "computing mean accuracies:  62%|██████▏   | 62/100 [00:08<00:05,  7.18it/s]"
     ]
    },
    {
     "name": "stderr",
     "output_type": "stream",
     "text": [
      "\r",
      "computing mean accuracies:  63%|██████▎   | 63/100 [00:08<00:05,  7.22it/s]"
     ]
    },
    {
     "name": "stderr",
     "output_type": "stream",
     "text": [
      "\r",
      "computing mean accuracies:  64%|██████▍   | 64/100 [00:09<00:04,  7.26it/s]"
     ]
    },
    {
     "name": "stderr",
     "output_type": "stream",
     "text": [
      "\r",
      "computing mean accuracies:  65%|██████▌   | 65/100 [00:09<00:04,  7.28it/s]"
     ]
    },
    {
     "name": "stderr",
     "output_type": "stream",
     "text": [
      "\r",
      "computing mean accuracies:  66%|██████▌   | 66/100 [00:09<00:04,  7.23it/s]"
     ]
    },
    {
     "name": "stderr",
     "output_type": "stream",
     "text": [
      "\r",
      "computing mean accuracies:  67%|██████▋   | 67/100 [00:09<00:04,  7.02it/s]"
     ]
    },
    {
     "name": "stderr",
     "output_type": "stream",
     "text": [
      "\r",
      "computing mean accuracies:  68%|██████▊   | 68/100 [00:09<00:04,  6.62it/s]"
     ]
    },
    {
     "name": "stderr",
     "output_type": "stream",
     "text": [
      "\r",
      "computing mean accuracies:  69%|██████▉   | 69/100 [00:09<00:04,  6.43it/s]"
     ]
    },
    {
     "name": "stderr",
     "output_type": "stream",
     "text": [
      "\r",
      "computing mean accuracies:  70%|███████   | 70/100 [00:09<00:04,  6.32it/s]"
     ]
    },
    {
     "name": "stderr",
     "output_type": "stream",
     "text": [
      "\r",
      "computing mean accuracies:  71%|███████   | 71/100 [00:10<00:04,  6.37it/s]"
     ]
    },
    {
     "name": "stderr",
     "output_type": "stream",
     "text": [
      "\r",
      "computing mean accuracies:  72%|███████▏  | 72/100 [00:10<00:04,  6.26it/s]"
     ]
    },
    {
     "name": "stderr",
     "output_type": "stream",
     "text": [
      "\r",
      "computing mean accuracies:  73%|███████▎  | 73/100 [00:10<00:04,  6.28it/s]"
     ]
    },
    {
     "name": "stderr",
     "output_type": "stream",
     "text": [
      "\r",
      "computing mean accuracies:  74%|███████▍  | 74/100 [00:10<00:04,  6.14it/s]"
     ]
    },
    {
     "name": "stderr",
     "output_type": "stream",
     "text": [
      "\r",
      "computing mean accuracies:  75%|███████▌  | 75/100 [00:10<00:04,  6.24it/s]"
     ]
    },
    {
     "name": "stderr",
     "output_type": "stream",
     "text": [
      "\r",
      "computing mean accuracies:  76%|███████▌  | 76/100 [00:10<00:03,  6.46it/s]"
     ]
    },
    {
     "name": "stderr",
     "output_type": "stream",
     "text": [
      "\r",
      "computing mean accuracies:  77%|███████▋  | 77/100 [00:11<00:03,  6.51it/s]"
     ]
    },
    {
     "name": "stderr",
     "output_type": "stream",
     "text": [
      "\r",
      "computing mean accuracies:  78%|███████▊  | 78/100 [00:11<00:03,  6.47it/s]"
     ]
    },
    {
     "name": "stderr",
     "output_type": "stream",
     "text": [
      "\r",
      "computing mean accuracies:  79%|███████▉  | 79/100 [00:11<00:03,  6.58it/s]"
     ]
    },
    {
     "name": "stderr",
     "output_type": "stream",
     "text": [
      "\r",
      "computing mean accuracies:  80%|████████  | 80/100 [00:11<00:03,  6.63it/s]"
     ]
    },
    {
     "name": "stderr",
     "output_type": "stream",
     "text": [
      "\r",
      "computing mean accuracies:  81%|████████  | 81/100 [00:11<00:02,  6.75it/s]"
     ]
    },
    {
     "name": "stderr",
     "output_type": "stream",
     "text": [
      "\r",
      "computing mean accuracies:  82%|████████▏ | 82/100 [00:11<00:02,  6.78it/s]"
     ]
    },
    {
     "name": "stderr",
     "output_type": "stream",
     "text": [
      "\r",
      "computing mean accuracies:  83%|████████▎ | 83/100 [00:11<00:02,  6.78it/s]"
     ]
    },
    {
     "name": "stderr",
     "output_type": "stream",
     "text": [
      "\r",
      "computing mean accuracies:  84%|████████▍ | 84/100 [00:12<00:02,  6.86it/s]"
     ]
    },
    {
     "name": "stderr",
     "output_type": "stream",
     "text": [
      "\r",
      "computing mean accuracies:  85%|████████▌ | 85/100 [00:12<00:02,  6.90it/s]"
     ]
    },
    {
     "name": "stderr",
     "output_type": "stream",
     "text": [
      "\r",
      "computing mean accuracies:  86%|████████▌ | 86/100 [00:12<00:02,  6.82it/s]"
     ]
    },
    {
     "name": "stderr",
     "output_type": "stream",
     "text": [
      "\r",
      "computing mean accuracies:  87%|████████▋ | 87/100 [00:12<00:01,  6.80it/s]"
     ]
    },
    {
     "name": "stderr",
     "output_type": "stream",
     "text": [
      "\r",
      "computing mean accuracies:  88%|████████▊ | 88/100 [00:12<00:01,  6.75it/s]"
     ]
    },
    {
     "name": "stderr",
     "output_type": "stream",
     "text": [
      "\r",
      "computing mean accuracies:  89%|████████▉ | 89/100 [00:12<00:01,  6.83it/s]"
     ]
    },
    {
     "name": "stderr",
     "output_type": "stream",
     "text": [
      "\r",
      "computing mean accuracies:  90%|█████████ | 90/100 [00:12<00:01,  6.64it/s]"
     ]
    },
    {
     "name": "stderr",
     "output_type": "stream",
     "text": [
      "\r",
      "computing mean accuracies:  91%|█████████ | 91/100 [00:13<00:01,  6.27it/s]"
     ]
    },
    {
     "name": "stderr",
     "output_type": "stream",
     "text": [
      "\r",
      "computing mean accuracies:  92%|█████████▏| 92/100 [00:13<00:01,  6.10it/s]"
     ]
    },
    {
     "name": "stderr",
     "output_type": "stream",
     "text": [
      "\r",
      "computing mean accuracies:  93%|█████████▎| 93/100 [00:13<00:01,  6.05it/s]"
     ]
    },
    {
     "name": "stderr",
     "output_type": "stream",
     "text": [
      "\r",
      "computing mean accuracies:  94%|█████████▍| 94/100 [00:13<00:00,  6.07it/s]"
     ]
    },
    {
     "name": "stderr",
     "output_type": "stream",
     "text": [
      "\r",
      "computing mean accuracies:  95%|█████████▌| 95/100 [00:13<00:00,  6.04it/s]"
     ]
    },
    {
     "name": "stderr",
     "output_type": "stream",
     "text": [
      "\r",
      "computing mean accuracies:  96%|█████████▌| 96/100 [00:13<00:00,  6.11it/s]"
     ]
    },
    {
     "name": "stderr",
     "output_type": "stream",
     "text": [
      "\r",
      "computing mean accuracies:  97%|█████████▋| 97/100 [00:14<00:00,  6.06it/s]"
     ]
    },
    {
     "name": "stderr",
     "output_type": "stream",
     "text": [
      "\r",
      "computing mean accuracies:  98%|█████████▊| 98/100 [00:14<00:00,  6.35it/s]"
     ]
    },
    {
     "name": "stderr",
     "output_type": "stream",
     "text": [
      "\r",
      "computing mean accuracies:  99%|█████████▉| 99/100 [00:14<00:00,  6.45it/s]"
     ]
    },
    {
     "name": "stderr",
     "output_type": "stream",
     "text": [
      "\r",
      "computing mean accuracies: 100%|██████████| 100/100 [00:14<00:00,  6.56it/s]"
     ]
    },
    {
     "name": "stderr",
     "output_type": "stream",
     "text": [
      "\r",
      "computing mean accuracies: 100%|██████████| 100/100 [00:14<00:00,  6.86it/s]"
     ]
    },
    {
     "name": "stderr",
     "output_type": "stream",
     "text": [
      "\n"
     ]
    },
    {
     "data": {
      "text/plain": [
       "{'eigenvector_train': 0.9702176258992806,\n",
       " 'eigenvector_val': 0.9504831200000001,\n",
       " 'eigenvector_test': 0.7682979857819905,\n",
       " 'hamiltonian_train': 0.9875359712230214,\n",
       " 'hamiltonian_val': 0.9853859999999999,\n",
       " 'hamiltonian_test': 0.9856279620853081}"
      ]
     },
     "execution_count": 19,
     "metadata": {},
     "output_type": "execute_result"
    }
   ],
   "source": [
    "save_to_disk = False\n",
    "simulation.compute_mean_accuracy(save_to_disk=save_to_disk)\n",
    "simulation.mean_accuracy"
   ]
  },
  {
   "cell_type": "markdown",
   "metadata": {
    "papermill": {
     "duration": 0.05114,
     "end_time": "2020-07-11T21:29:06.588910",
     "exception": false,
     "start_time": "2020-07-11T21:29:06.537770",
     "status": "completed"
    },
    "tags": []
   },
   "source": [
    "#### Computing bootstrap accuracies"
   ]
  },
  {
   "cell_type": "code",
   "execution_count": 20,
   "metadata": {
    "execution": {
     "iopub.execute_input": "2020-07-11T21:29:06.702320Z",
     "iopub.status.busy": "2020-07-11T21:29:06.701997Z",
     "iopub.status.idle": "2020-07-11T21:29:06.715336Z",
     "shell.execute_reply": "2020-07-11T21:29:06.715018Z"
    },
    "papermill": {
     "duration": 0.065457,
     "end_time": "2020-07-11T21:29:06.715385",
     "exception": false,
     "start_time": "2020-07-11T21:29:06.649928",
     "status": "completed"
    },
    "tags": []
   },
   "outputs": [
    {
     "data": {
      "text/plain": [
       "{'hamiltonian_train': 0.9910071942446043,\n",
       " 'hamiltonian_val': 0.991,\n",
       " 'hamiltonian_test': 1.0}"
      ]
     },
     "execution_count": 20,
     "metadata": {},
     "output_type": "execute_result"
    }
   ],
   "source": [
    "save_to_disk = False\n",
    "simulation.compute_bootstrap_accuracy(save_to_disk=save_to_disk)\n",
    "simulation.bootstrap_accuracy"
   ]
  },
  {
   "cell_type": "markdown",
   "metadata": {
    "papermill": {
     "duration": 0.054093,
     "end_time": "2020-07-11T21:29:06.834380",
     "exception": false,
     "start_time": "2020-07-11T21:29:06.780287",
     "status": "completed"
    },
    "tags": []
   },
   "source": [
    "#### Computing mean feature importances"
   ]
  },
  {
   "cell_type": "code",
   "execution_count": 21,
   "metadata": {
    "execution": {
     "iopub.execute_input": "2020-07-11T21:29:06.949044Z",
     "iopub.status.busy": "2020-07-11T21:29:06.948501Z",
     "iopub.status.idle": "2020-07-11T21:29:07.011794Z",
     "shell.execute_reply": "2020-07-11T21:29:07.012050Z"
    },
    "papermill": {
     "duration": 0.11731,
     "end_time": "2020-07-11T21:29:07.012135",
     "exception": false,
     "start_time": "2020-07-11T21:29:06.894825",
     "status": "completed"
    },
    "tags": []
   },
   "outputs": [
    {
     "name": "stderr",
     "output_type": "stream",
     "text": [
      "\r",
      "mean feature importances:   0%|          | 0/100 [00:00<?, ?it/s]"
     ]
    },
    {
     "name": "stderr",
     "output_type": "stream",
     "text": [
      "\r",
      "mean feature importances: 100%|██████████| 100/100 [00:00<00:00, 1960.84it/s]"
     ]
    },
    {
     "name": "stdout",
     "output_type": "stream",
     "text": [
      "Sorted feature importances: \n",
      "\n",
      "\n",
      "[(1, 0.25708398433791063), (0, 0.21674118053951724), (3, 0.21170783323860234), (11, 0.15684393740357178), (4, 0.030006735612597653), (2, 0.028943526978109743), (10, 0.02236153113490751), (5, 0.02070822112681996), (9, 0.019194588749035277), (7, 0.013717803886099991), (8, 0.012200647014849292), (6, 0.0104900099779787)]\n"
     ]
    },
    {
     "name": "stderr",
     "output_type": "stream",
     "text": [
      "\n"
     ]
    }
   ],
   "source": [
    "import operator\n",
    "save_to_disk = False\n",
    "simulation.compute_mean_feature_importance(save_to_disk=save_to_disk)\n",
    "### Sorted feature importances from highest to lowest\n",
    "sorted_feature_importances = sorted(simulation.feature_importance.items(), key=operator.itemgetter(1),reverse=True)\n",
    "print(\"Sorted feature importances: \")\n",
    "print(\"\\n\")\n",
    "print(sorted_feature_importances)"
   ]
  },
  {
   "cell_type": "markdown",
   "metadata": {
    "papermill": {
     "duration": 0.053506,
     "end_time": "2020-07-11T21:29:07.116359",
     "exception": false,
     "start_time": "2020-07-11T21:29:07.062853",
     "status": "completed"
    },
    "tags": []
   },
   "source": [
    "#### Plotting feature importances"
   ]
  },
  {
   "cell_type": "code",
   "execution_count": 22,
   "metadata": {
    "execution": {
     "iopub.execute_input": "2020-07-11T21:29:07.228358Z",
     "iopub.status.busy": "2020-07-11T21:29:07.228031Z",
     "iopub.status.idle": "2020-07-11T21:29:07.497188Z",
     "shell.execute_reply": "2020-07-11T21:29:07.496873Z"
    },
    "papermill": {
     "duration": 0.318844,
     "end_time": "2020-07-11T21:29:07.497240",
     "exception": false,
     "start_time": "2020-07-11T21:29:07.178396",
     "status": "completed"
    },
    "tags": []
   },
   "outputs": [
    {
     "data": {
      "image/png": "[encoded data removed]",
      "text/plain": [
       "<Figure size 864x864 with 1 Axes>"
      ]
     },
     "metadata": {
      "needs_background": "light"
     },
     "output_type": "display_data"
    }
   ],
   "source": [
    "simulation.plot_feature_importances(**plot_feature_importances_params)"
   ]
  },
  {
   "cell_type": "markdown",
   "metadata": {
    "papermill": {
     "duration": 0.054698,
     "end_time": "2020-07-11T21:29:07.601910",
     "exception": false,
     "start_time": "2020-07-11T21:29:07.547212",
     "status": "completed"
    },
    "tags": []
   },
   "source": [
    "#### Plotting cumulative feature importances"
   ]
  },
  {
   "cell_type": "code",
   "execution_count": 23,
   "metadata": {
    "execution": {
     "iopub.execute_input": "2020-07-11T21:29:07.708368Z",
     "iopub.status.busy": "2020-07-11T21:29:07.708009Z",
     "iopub.status.idle": "2020-07-11T21:29:07.716154Z",
     "shell.execute_reply": "2020-07-11T21:29:07.716417Z"
    },
    "papermill": {
     "duration": 0.059188,
     "end_time": "2020-07-11T21:29:07.716486",
     "exception": false,
     "start_time": "2020-07-11T21:29:07.657298",
     "status": "completed"
    },
    "tags": []
   },
   "outputs": [],
   "source": [
    "#if simulation.fourier_mode is None:\n",
    "#    plot_cumulative_feature_importances_params"
   ]
  },
  {
   "cell_type": "code",
   "execution_count": 24,
   "metadata": {
    "execution": {
     "iopub.execute_input": "2020-07-11T21:29:07.830427Z",
     "iopub.status.busy": "2020-07-11T21:29:07.829892Z",
     "iopub.status.idle": "2020-07-11T21:29:08.129804Z",
     "shell.execute_reply": "2020-07-11T21:29:08.129487Z"
    },
    "papermill": {
     "duration": 0.35198,
     "end_time": "2020-07-11T21:29:08.129854",
     "exception": false,
     "start_time": "2020-07-11T21:29:07.777874",
     "status": "completed"
    },
    "tags": []
   },
   "outputs": [
    {
     "data": {
      "image/png": "[encoded data removed]",
      "text/plain": [
       "<Figure size 864x864 with 1 Axes>"
      ]
     },
     "metadata": {
      "needs_background": "light"
     },
     "output_type": "display_data"
    }
   ],
   "source": [
    "simulation.plot_cumulative_feature_importances(**plot_cumulative_feature_importances_params)\n"
   ]
  },
  {
   "cell_type": "markdown",
   "metadata": {
    "papermill": {
     "duration": 0.052236,
     "end_time": "2020-07-11T21:29:08.232221",
     "exception": false,
     "start_time": "2020-07-11T21:29:08.179985",
     "status": "completed"
    },
    "tags": []
   },
   "source": [
    "####  Fourier transform of feature importances"
   ]
  },
  {
   "cell_type": "code",
   "execution_count": 25,
   "metadata": {
    "execution": {
     "iopub.execute_input": "2020-07-11T21:29:08.335030Z",
     "iopub.status.busy": "2020-07-11T21:29:08.334688Z",
     "iopub.status.idle": "2020-07-11T21:29:08.343790Z",
     "shell.execute_reply": "2020-07-11T21:29:08.343437Z"
    },
    "papermill": {
     "duration": 0.060999,
     "end_time": "2020-07-11T21:29:08.343844",
     "exception": false,
     "start_time": "2020-07-11T21:29:08.282845",
     "status": "completed"
    },
    "tags": []
   },
   "outputs": [],
   "source": [
    "#%load_ext autoreload\n",
    "#%autoreload 2\n",
    "#from simulation_results import *\n",
    "#import template_parameters"
   ]
  },
  {
   "cell_type": "code",
   "execution_count": 26,
   "metadata": {
    "execution": {
     "iopub.execute_input": "2020-07-11T21:29:08.447325Z",
     "iopub.status.busy": "2020-07-11T21:29:08.447001Z",
     "iopub.status.idle": "2020-07-11T21:29:08.456514Z",
     "shell.execute_reply": "2020-07-11T21:29:08.456765Z"
    },
    "papermill": {
     "duration": 0.06198,
     "end_time": "2020-07-11T21:29:08.456831",
     "exception": false,
     "start_time": "2020-07-11T21:29:08.394851",
     "status": "completed"
    },
    "tags": []
   },
   "outputs": [
    {
     "name": "stdout",
     "output_type": "stream",
     "text": [
      "Sorted fourier feature importances: \n",
      "\n",
      "\n",
      "[(0, 0.7174022471657683), (1, 0.09102513115687018), (11, 0.09102513115687018), (6, 0.029149695649631137), (3, 0.01173387694289991), (9, 0.01173387694289991), (5, 0.010990583340983384), (7, 0.010990583340983384), (4, 0.007668609630272295), (8, 0.007668609630272295), (2, 0.005305827521274727), (10, 0.005305827521274727)]\n"
     ]
    }
   ],
   "source": [
    "import operator\n",
    "#fft_type=False\n",
    "save_to_disk = False\n",
    "simulation.compute_fourier_feature_importance( save_to_disk=False)\n",
    "### Sorted fourier feature importances from highest to lowest\n",
    "sorted_fourier_feature_importances = sorted(simulation.fourier_feature_importance.items(), key=operator.itemgetter(1),reverse=True)\n",
    "print(\"Sorted fourier feature importances: \")\n",
    "print(\"\\n\")\n",
    "print(sorted_fourier_feature_importances)"
   ]
  },
  {
   "cell_type": "code",
   "execution_count": 27,
   "metadata": {
    "execution": {
     "iopub.execute_input": "2020-07-11T21:29:08.562264Z",
     "iopub.status.busy": "2020-07-11T21:29:08.561942Z",
     "iopub.status.idle": "2020-07-11T21:29:08.572280Z",
     "shell.execute_reply": "2020-07-11T21:29:08.571937Z"
    },
    "papermill": {
     "duration": 0.063234,
     "end_time": "2020-07-11T21:29:08.572334",
     "exception": false,
     "start_time": "2020-07-11T21:29:08.509100",
     "status": "completed"
    },
    "tags": []
   },
   "outputs": [
    {
     "data": {
      "text/plain": [
       "1.0000000000000004"
      ]
     },
     "execution_count": 27,
     "metadata": {},
     "output_type": "execute_result"
    }
   ],
   "source": [
    "np.sum(list(simulation.fourier_feature_importance.values()))"
   ]
  },
  {
   "cell_type": "code",
   "execution_count": 28,
   "metadata": {
    "execution": {
     "iopub.execute_input": "2020-07-11T21:29:08.676272Z",
     "iopub.status.busy": "2020-07-11T21:29:08.675963Z",
     "iopub.status.idle": "2020-07-11T21:29:08.684828Z",
     "shell.execute_reply": "2020-07-11T21:29:08.685076Z"
    },
    "papermill": {
     "duration": 0.061327,
     "end_time": "2020-07-11T21:29:08.685142",
     "exception": false,
     "start_time": "2020-07-11T21:29:08.623815",
     "status": "completed"
    },
    "tags": []
   },
   "outputs": [
    {
     "data": {
      "text/plain": [
       "12"
      ]
     },
     "execution_count": 28,
     "metadata": {},
     "output_type": "execute_result"
    }
   ],
   "source": [
    "len(simulation.fourier_feature_importance.values())"
   ]
  },
  {
   "cell_type": "markdown",
   "metadata": {
    "papermill": {
     "duration": 0.050511,
     "end_time": "2020-07-11T21:29:08.789827",
     "exception": false,
     "start_time": "2020-07-11T21:29:08.739316",
     "status": "completed"
    },
    "tags": []
   },
   "source": [
    "#### Plotting Fourier feature importance"
   ]
  },
  {
   "cell_type": "code",
   "execution_count": 29,
   "metadata": {
    "execution": {
     "iopub.execute_input": "2020-07-11T21:29:08.892411Z",
     "iopub.status.busy": "2020-07-11T21:29:08.892093Z",
     "iopub.status.idle": "2020-07-11T21:29:09.159242Z",
     "shell.execute_reply": "2020-07-11T21:29:09.159495Z"
    },
    "papermill": {
     "duration": 0.319233,
     "end_time": "2020-07-11T21:29:09.159563",
     "exception": false,
     "start_time": "2020-07-11T21:29:08.840330",
     "status": "completed"
    },
    "tags": []
   },
   "outputs": [
    {
     "data": {
      "image/png": "[encoded data removed]",
      "text/plain": [
       "<Figure size 864x864 with 1 Axes>"
      ]
     },
     "metadata": {
      "needs_background": "light"
     },
     "output_type": "display_data"
    }
   ],
   "source": [
    "simulation.plot_feature_importances(**plot_fourier_feature_importances_params)"
   ]
  },
  {
   "cell_type": "markdown",
   "metadata": {
    "papermill": {
     "duration": 0.051524,
     "end_time": "2020-07-11T21:29:09.262775",
     "exception": false,
     "start_time": "2020-07-11T21:29:09.211251",
     "status": "completed"
    },
    "tags": []
   },
   "source": [
    "#### Plotting cumulative Fourier feature importances"
   ]
  },
  {
   "cell_type": "code",
   "execution_count": 30,
   "metadata": {
    "execution": {
     "iopub.execute_input": "2020-07-11T21:29:09.368409Z",
     "iopub.status.busy": "2020-07-11T21:29:09.367895Z",
     "iopub.status.idle": "2020-07-11T21:29:09.644725Z",
     "shell.execute_reply": "2020-07-11T21:29:09.644407Z"
    },
    "papermill": {
     "duration": 0.330193,
     "end_time": "2020-07-11T21:29:09.644776",
     "exception": false,
     "start_time": "2020-07-11T21:29:09.314583",
     "status": "completed"
    },
    "tags": []
   },
   "outputs": [
    {
     "data": {
      "image/png": "[encoded data removed]",
      "text/plain": [
       "<Figure size 864x864 with 1 Axes>"
      ]
     },
     "metadata": {
      "needs_background": "light"
     },
     "output_type": "display_data"
    }
   ],
   "source": [
    "simulation.plot_cumulative_feature_importances(**plot_cumulative_fourier_feature_importances_params)"
   ]
  },
  {
   "cell_type": "markdown",
   "metadata": {
    "papermill": {
     "duration": 0.054888,
     "end_time": "2020-07-11T21:29:09.752176",
     "exception": false,
     "start_time": "2020-07-11T21:29:09.697288",
     "status": "completed"
    },
    "tags": []
   },
   "source": [
    "#### Computing lattice and reciprocal lattice statistics "
   ]
  },
  {
   "cell_type": "code",
   "execution_count": 31,
   "metadata": {
    "execution": {
     "iopub.execute_input": "2020-07-11T21:29:09.860734Z",
     "iopub.status.busy": "2020-07-11T21:29:09.860411Z",
     "iopub.status.idle": "2020-07-11T21:29:09.869489Z",
     "shell.execute_reply": "2020-07-11T21:29:09.869832Z"
    },
    "papermill": {
     "duration": 0.064339,
     "end_time": "2020-07-11T21:29:09.869901",
     "exception": false,
     "start_time": "2020-07-11T21:29:09.805562",
     "status": "completed"
    },
    "tags": []
   },
   "outputs": [
    {
     "name": "stdout",
     "output_type": "stream",
     "text": [
      "real lattice statistics: \n",
      "{'mean': 0.29599019756778966, 'var': 0.10597124236003858, 'std': 0.325532244731668, 'shannon': 1.9091574692917204}\n",
      "reciprocal lattice statistics: \n",
      "{'mean': 0.14129887641711605, 'var': 0.08551450230973974, 'std': 0.292428627719209, 'shannon': 1.1113882100574193}\n"
     ]
    }
   ],
   "source": [
    "save_to_disk = False\n",
    "simulation.compute_feature_importance_statistics(save_to_disk)\n",
    "print(\"real lattice statistics: \")\n",
    "print(simulation.feature_importance_statistics)\n",
    "print(\"reciprocal lattice statistics: \")\n",
    "print(simulation.fourier_feature_importance_statistics)"
   ]
  },
  {
   "cell_type": "code",
   "execution_count": 32,
   "metadata": {
    "execution": {
     "iopub.execute_input": "2020-07-11T21:29:09.981473Z",
     "iopub.status.busy": "2020-07-11T21:29:09.981165Z",
     "iopub.status.idle": "2020-07-11T21:29:09.991212Z",
     "shell.execute_reply": "2020-07-11T21:29:09.990893Z"
    },
    "papermill": {
     "duration": 0.065916,
     "end_time": "2020-07-11T21:29:09.991263",
     "exception": false,
     "start_time": "2020-07-11T21:29:09.925347",
     "status": "completed"
    },
    "tags": []
   },
   "outputs": [
    {
     "data": {
      "text/plain": [
       "0.30685281944005466"
      ]
     },
     "execution_count": 32,
     "metadata": {},
     "output_type": "execute_result"
    }
   ],
   "source": [
    "np.log(np.e/2)"
   ]
  },
  {
   "cell_type": "code",
   "execution_count": 33,
   "metadata": {
    "execution": {
     "iopub.execute_input": "2020-07-11T21:29:10.101614Z",
     "iopub.status.busy": "2020-07-11T21:29:10.101302Z",
     "iopub.status.idle": "2020-07-11T21:29:10.111706Z",
     "shell.execute_reply": "2020-07-11T21:29:10.112007Z"
    },
    "papermill": {
     "duration": 0.067172,
     "end_time": "2020-07-11T21:29:10.112071",
     "exception": false,
     "start_time": "2020-07-11T21:29:10.044899",
     "status": "completed"
    },
    "tags": []
   },
   "outputs": [
    {
     "data": {
      "text/plain": [
       "0.09519494760523538"
      ]
     },
     "execution_count": 33,
     "metadata": {},
     "output_type": "execute_result"
    }
   ],
   "source": [
    "simulation.feature_importance_statistics[\"std\"]*simulation.fourier_feature_importance_statistics[\"std\"]"
   ]
  },
  {
   "cell_type": "code",
   "execution_count": 34,
   "metadata": {
    "execution": {
     "iopub.execute_input": "2020-07-11T21:29:10.221076Z",
     "iopub.status.busy": "2020-07-11T21:29:10.220704Z",
     "iopub.status.idle": "2020-07-11T21:29:10.229742Z",
     "shell.execute_reply": "2020-07-11T21:29:10.230041Z"
    },
    "papermill": {
     "duration": 0.064671,
     "end_time": "2020-07-11T21:29:10.230104",
     "exception": false,
     "start_time": "2020-07-11T21:29:10.165433",
     "status": "completed"
    },
    "tags": []
   },
   "outputs": [
    {
     "data": {
      "text/plain": [
       "0.07957747154594767"
      ]
     },
     "execution_count": 34,
     "metadata": {},
     "output_type": "execute_result"
    }
   ],
   "source": [
    "1/(4*np.pi)"
   ]
  },
  {
   "cell_type": "code",
   "execution_count": null,
   "metadata": {
    "papermill": {
     "duration": 0.053339,
     "end_time": "2020-07-11T21:29:10.336903",
     "exception": false,
     "start_time": "2020-07-11T21:29:10.283564",
     "status": "completed"
    },
    "tags": []
   },
   "outputs": [],
   "source": []
  }
 ],
 "metadata": {
  "celltoolbar": "Tags",
  "kernelspec": {
   "display_name": "ml_top_phases",
   "language": "python",
   "name": "ml_top_phases"
  },
  "language_info": {
   "codemirror_mode": {
    "name": "ipython",
    "version": 3
   },
   "file_extension": ".py",
   "mimetype": "text/x-python",
   "name": "python",
   "nbconvert_exporter": "python",
   "pygments_lexer": "ipython3",
   "version": "3.6.10"
  },
  "papermill": {
   "duration": 26.020686,
   "end_time": "2020-07-11T21:29:10.499609",
   "environment_variables": {},
   "exception": null,
   "input_path": "0_results_template.ipynb",
   "output_path": "zzz_results_output_ssh1_periodic_1st_scenario_100_6561.ipynb",
   "parameters": {
    "experiment_name": "0",
    "figures_dir": "/home/rio/ml_topological_phases_in_real_space/5_paper/ssh1/periodic_1st_scenario_100_6561",
    "imshow_winding_grid_params": {
     "colorbar_params": {
      "extend": "neither",
      "labelsize": 24,
      "mappable": null,
      "pad": 0.1,
      "shrink": 0.8,
      "ticks": [
       0,
       0.2,
       0.4,
       0.6,
       0.8,
       1.0
      ]
     },
     "fig_params": {
      "figsize": [
       12,
       12
      ]
     },
     "imshow_params": {
      "alpha": null,
      "aspect": "equal",
      "cmap": "bwr_r",
      "extent": [
       -2,
       2,
       -2,
       2
      ],
      "origin": "lower",
      "vmax": 1,
      "vmin": 0
     },
     "savefig_params": {
      "fname": "/home/rio/ml_topological_phases_in_real_space/5_paper/ssh1/periodic_1st_scenario_100_6561/imshow_winding_grid_winding_{}_{}.png"
     },
     "tight_params": {},
     "title_params": {},
     "winding": 1,
     "xlabel_params": {
      "fontsize": 48,
      "xlabel": "$t_2$"
     },
     "xlim_params": {
      "left": -2,
      "right": 2
     },
     "xticks_params": {
      "fontsize": 24
     },
     "ylabel_params": {
      "fontsize": 48,
      "ylabel": "$t_1$"
     },
     "ylim_params": {
      "bottom": -2,
      "top": 2
     },
     "yticks_params": {
      "fontsize": 24
     }
    },
    "load_hamiltonian_summary": false,
    "merge_imshow_winding_grids_params": {
     "colorbar_params": {},
     "fig_params": {
      "figsize": [
       12,
       12
      ]
     },
     "savefig_params": {
      "fname": "/home/rio/ml_topological_phases_in_real_space/5_paper/ssh1/periodic_1st_scenario_100_6561/merge_imshow_winding_grids_second_{}.png"
     },
     "tight_params": {},
     "title_params": {},
     "winding_params": {
      "0": {
       "alpha": null,
       "aspect": "equal",
       "cmap": "Reds_alpha",
       "extent": [
        -2,
        2,
        -2,
        2
       ],
       "origin": "lower",
       "vmax": 1,
       "vmin": 0
      },
      "1": {
       "alpha": null,
       "aspect": "equal",
       "cmap": "Blues_alpha",
       "extent": [
        -2,
        2,
        -2,
        2
       ],
       "origin": "lower",
       "vmax": 1,
       "vmin": 0
      }
     },
     "xlabel_params": {
      "fontsize": 48,
      "xlabel": "$t_2$"
     },
     "xlim_params": {
      "left": -2,
      "right": 2
     },
     "xticks_params": {
      "fontsize": 24
     },
     "ylabel_params": {
      "fontsize": 48,
      "ylabel": "$t_1$"
     },
     "ylim_params": {
      "bottom": -2,
      "top": 2
     },
     "yticks_params": {
      "fontsize": 24
     }
    },
    "n_experiments": null,
    "pcolormesh_prediction_grid_params": {
     "fig_params": {
      "figsize": [
       6,
       6
      ]
     },
     "legend_params": {
      "fontsize": 16,
      "framealpha": 0.8,
      "loc": "upper right"
     },
     "pcolormesh_params": {
      "alpha": 0.5,
      "cmap": "ssh1"
     },
     "savefig_params": {
      "fname": "/home/rio/ml_topological_phases_in_real_space/5_paper/ssh1/periodic_1st_scenario_100_6561/pcolormesh_prediction_grid_experiment_0.png"
     },
     "tight_params": {},
     "title_params": {},
     "winding_params": {
      "0": {
       "color": "red",
       "label": 0,
       "marker": "o",
       "s": 10
      },
      "1": {
       "color": "blue",
       "label": 1,
       "marker": "o",
       "s": 10
      }
     },
     "xlabel_params": {
      "fontsize": 24,
      "xlabel": "$t_2$"
     },
     "xlim_params": {
      "left": -2,
      "right": 2
     },
     "xticks_params": {
      "fontsize": 14
     },
     "ylabel_params": {
      "fontsize": 24,
      "ylabel": "$t_1$"
     },
     "ylim_params": {
      "bottom": -2,
      "top": 2
     },
     "yticks_params": {
      "fontsize": 14
     }
    },
    "plot_cumulative_feature_importances_params": {
     "fig_params": {
      "figsize": [
       12,
       12
      ]
     },
     "hist_precision": 1000,
     "n_features": null,
     "plot": "bar",
     "plot_params": {
      "color": "indianred",
      "width": 0.7
     },
     "savefig_params": {
      "fname": "/home/rio/ml_topological_phases_in_real_space/5_paper/ssh1/periodic_1st_scenario_100_6561/plot_cumulative_feature_importances.png"
     },
     "tight_params": {},
     "title_params": {
      "fontsize": 24,
      "label": "Cumulative information entropy signature (real space) - SSH 1"
     },
     "xlabel_params": {
      "fontsize": 24,
      "xlabel": "lattice site"
     },
     "xlim_params": {},
     "xticks_params": {
      "fontsize": 24,
      "ticks": [
       0,
       11,
       22,
       33,
       44,
       55,
       66,
       77,
       88,
       99
      ]
     },
     "ylabel_params": {
      "fontsize": 24,
      "ylabel": "cumulative reduction in information entropy (%)"
     },
     "ylim_params": {},
     "yticks_params": {
      "fontsize": 24
     }
    },
    "plot_cumulative_fourier_feature_importances_params": {
     "fig_params": {
      "figsize": [
       12,
       12
      ]
     },
     "fourier": true,
     "hist_precision": 1000,
     "n_features": null,
     "plot": "bar",
     "plot_params": {
      "color": "palevioletred",
      "width": 0.7
     },
     "savefig_params": {
      "fname": "/home/rio/ml_topological_phases_in_real_space/5_paper/ssh1/periodic_1st_scenario_100_6561/plot_cumulative_fourier_feature_importances.png"
     },
     "tight_params": {},
     "title_params": {
      "fontsize": 24,
      "label": "Cumulative information entropy signature (wavevector space) - SSH 1"
     },
     "xlabel_params": {
      "fontsize": 24,
      "xlabel": "reciprocal lattice site"
     },
     "xlim_params": {},
     "xticks_params": {
      "fontsize": 24,
      "ticks": [
       0,
       11,
       22,
       33,
       44,
       55,
       66,
       77,
       88,
       99
      ]
     },
     "ylabel_params": {
      "fontsize": 24,
      "ylabel": "cumulative reduction in information entropy (%)"
     },
     "ylim_params": {},
     "yticks_params": {
      "fontsize": 24
     }
    },
    "plot_feature_importances_params": {
     "fig_params": {
      "figsize": [
       12,
       12
      ]
     },
     "hist_precision": 1000,
     "n_features": null,
     "plot": "bar",
     "plot_params": {
      "color": "indianred",
      "width": 0.7
     },
     "savefig_params": {
      "fname": "/home/rio/ml_topological_phases_in_real_space/5_paper/ssh1/periodic_1st_scenario_100_6561/plot_feature_importances.png"
     },
     "tight_params": {},
     "title_params": {
      "fontsize": 24,
      "label": "Information entropy signature (real space) - SSH 1"
     },
     "xlabel_params": {
      "fontsize": 24,
      "xlabel": "lattice site"
     },
     "xlim_params": {},
     "xticks_params": {
      "fontsize": 24,
      "ticks": [
       0,
       11,
       22,
       33,
       44,
       55,
       66,
       77,
       88,
       99
      ]
     },
     "ylabel_params": {
      "fontsize": 24,
      "ylabel": "reduction in information entropy (%)"
     },
     "ylim_params": {},
     "yticks_params": {
      "fontsize": 24
     }
    },
    "plot_fourier_feature_importances_params": {
     "fig_params": {
      "figsize": [
       12,
       12
      ]
     },
     "fourier": true,
     "hist_precision": 1000,
     "n_features": null,
     "plot": "bar",
     "plot_params": {
      "color": "palevioletred",
      "width": 0.7
     },
     "savefig_params": {
      "fname": "/home/rio/ml_topological_phases_in_real_space/5_paper/ssh1/periodic_1st_scenario_100_6561/plot_fourier_feature_importances.png"
     },
     "tight_params": {},
     "title_params": {
      "fontsize": 24,
      "label": "Information entropy signature (wavevector space) - SSH 1"
     },
     "xlabel_params": {
      "fontsize": 24,
      "xlabel": "reciprocal lattice site"
     },
     "xlim_params": {},
     "xticks_params": {
      "fontsize": 24,
      "ticks": [
       0,
       11,
       22,
       33,
       44,
       55,
       66,
       77,
       88,
       99
      ]
     },
     "ylabel_params": {
      "fontsize": 24,
      "ylabel": "reduction in information entropy (%)"
     },
     "ylim_params": {},
     "yticks_params": {
      "fontsize": 24
     }
    },
    "scatter_train_val_test_params": {
     "fig_params": {
      "figsize": [
       6,
       6
      ]
     },
     "legend_params": {
      "fontsize": 16,
      "framealpha": 0.8,
      "loc": "upper right"
     },
     "savefig_params": {
      "fname": "/home/rio/ml_topological_phases_in_real_space/5_paper/ssh1/periodic_1st_scenario_100_6561/scatter_train_val_test_experiment_0.png"
     },
     "test_params": {
      "alpha": 0.5,
      "color": "royalblue",
      "label": "test",
      "marker": "s",
      "s": 64
     },
     "tight_params": {},
     "title_params": {},
     "train_params": {
      "alpha": 1,
      "color": "green",
      "label": "train",
      "marker": "o",
      "s": 3
     },
     "val_params": {
      "alpha": 0.2,
      "color": "salmon",
      "label": "val",
      "marker": "s",
      "s": 64
     },
     "xlabel_params": {
      "fontsize": 24,
      "xlabel": "$t_2$"
     },
     "xlim_params": {
      "left": -2,
      "right": 2
     },
     "xticks_params": {
      "fontsize": 14
     },
     "ylabel_params": {
      "fontsize": 24,
      "ylabel": "$t_1$"
     },
     "ylim_params": {
      "bottom": -2,
      "top": 2
     },
     "yticks_params": {
      "fontsize": 14
     }
    },
    "scatter_winding_train_params": {
     "fig_params": {
      "figsize": [
       6,
       6
      ]
     },
     "legend_params": {
      "fontsize": 16,
      "framealpha": 0.8,
      "loc": "upper right"
     },
     "savefig_params": {
      "fname": "/home/rio/ml_topological_phases_in_real_space/5_paper/ssh1/periodic_1st_scenario_100_6561/scatter_winding_train_experiment_0.png"
     },
     "tight_params": {},
     "title_params": {},
     "winding_params": {
      "0": {
       "color": "red",
       "label": 0,
       "marker": "o",
       "s": 10
      },
      "1": {
       "color": "blue",
       "label": 1,
       "marker": "o",
       "s": 10
      }
     },
     "xlabel_params": {
      "fontsize": 24,
      "xlabel": "$t_2$"
     },
     "xlim_params": {
      "left": -2,
      "right": 2
     },
     "xticks_params": {
      "fontsize": 14
     },
     "ylabel_params": {
      "fontsize": 24,
      "ylabel": "$t_1$"
     },
     "ylim_params": {
      "bottom": -2,
      "top": 2
     },
     "yticks_params": {
      "fontsize": 14
     }
    },
    "simulation_dir": "/home/rio/ssh_simulations/ssh1/periodic_1st_scenario_100_6561",
    "winding_cmap_dict": {
     "0": "Reds",
     "1": "Blues"
    }
   },
   "start_time": "2020-07-11T21:28:44.478923",
   "version": "2.1.0"
  }
 },
 "nbformat": 4,
 "nbformat_minor": 2
}