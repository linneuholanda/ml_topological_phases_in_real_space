{
 "cells": [
  {
   "cell_type": "markdown",
   "metadata": {
    "papermill": {
     "duration": 0.019308,
     "end_time": "2020-07-09T08:14:07.992684",
     "exception": false,
     "start_time": "2020-07-09T08:14:07.973376",
     "status": "completed"
    },
    "tags": []
   },
   "source": [
    "# Simulation template \n",
    "\n",
    "In this notebook we run the machine learning analysis of topological phase transitions occurring  in both nearest-neighbours SSH models (ssh1) and second neighbours models (ssh2) as decribed in the paper [Machine learning topological phases in real space](https://arxiv.org/abs/1901.01963). Here the simulation is run with features generated from fourier components in the first scenario. This scenario is characterized by using only the EVEN wavevector space eigenmodes, computed from ALL real space components."
   ]
  },
  {
   "cell_type": "markdown",
   "metadata": {
    "papermill": {
     "duration": 0.017623,
     "end_time": "2020-07-09T08:14:08.025962",
     "exception": false,
     "start_time": "2020-07-09T08:14:08.008339",
     "status": "completed"
    },
    "tags": []
   },
   "source": [
    "## Defining parameters"
   ]
  },
  {
   "cell_type": "code",
   "execution_count": 1,
   "metadata": {
    "execution": {
     "iopub.execute_input": "2020-07-09T08:14:08.058891Z",
     "iopub.status.busy": "2020-07-09T08:14:08.058572Z",
     "iopub.status.idle": "2020-07-09T08:14:08.636881Z",
     "shell.execute_reply": "2020-07-09T08:14:08.636556Z"
    },
    "papermill": {
     "duration": 0.595611,
     "end_time": "2020-07-09T08:14:08.636936",
     "exception": false,
     "start_time": "2020-07-09T08:14:08.041325",
     "status": "completed"
    },
    "tags": []
   },
   "outputs": [
    {
     "name": "stdout",
     "output_type": "stream",
     "text": [
      "CPU times: user 730 ms, sys: 286 ms, total: 1.02 s\n",
      "Wall time: 571 ms\n"
     ]
    }
   ],
   "source": [
    "%%time\n",
    "%load_ext autoreload\n",
    "%autoreload 2\n",
    "from simulation import *"
   ]
  },
  {
   "cell_type": "code",
   "execution_count": 2,
   "metadata": {
    "execution": {
     "iopub.execute_input": "2020-07-09T08:14:08.670770Z",
     "iopub.status.busy": "2020-07-09T08:14:08.670442Z",
     "iopub.status.idle": "2020-07-09T08:14:08.680827Z",
     "shell.execute_reply": "2020-07-09T08:14:08.681128Z"
    },
    "papermill": {
     "duration": 0.028418,
     "end_time": "2020-07-09T08:14:08.681192",
     "exception": false,
     "start_time": "2020-07-09T08:14:08.652774",
     "status": "completed"
    },
    "tags": [
     "parameters"
    ]
   },
   "outputs": [
    {
     "name": "stdout",
     "output_type": "stream",
     "text": [
      "CPU times: user 2 µs, sys: 1e+03 ns, total: 3 µs\n",
      "Wall time: 4.53 µs\n"
     ]
    }
   ],
   "source": [
    "%%time\n",
    "### Dataset and simulation parameters\n",
    "#csv_path = SSH2_PERIODIC_100_6561_CSV \n",
    "csv_path = SSH1_PERIODIC_100_6561_CSV \n",
    "model_name = \"DecisionTreeClassifier\"\n",
    "model_kw = {\"criterion\":\"entropy\"}\n",
    "allowed_windings = [0,1]\n",
    "#allowed_windings = [-1,0,1,2]\n",
    "simulation_dir = SSH1_PERIODIC_1ST_SCENARIO_100_6561_SIMULATION_DIR\n",
    "#simulation_dir = SSH2_PERIODIC_ENGINEERED_100_6561_SIMULATION_DIR\n",
    "val_split = 0.9  \n",
    "features_to_use = None\n",
    "shuffle_features = False\n",
    "random_state = 763\n",
    "\n",
    "### Fourier features\n",
    "fourier_mode = \"dft\"\n",
    "fourier_features_to_use = None\n",
    "fourier_real = \"real\"\n",
    "fourier_normalize = True\n",
    "fourier_fillna = False\n",
    "\n",
    "### Running a simulation\n",
    "n_experiments = 5\n",
    "start_n = 0\n",
    "fit_params = None\n",
    "#mode=mode\n",
    "shuffle_rows = True\n",
    "pred_params = None\n",
    "random_features = False\n",
    "######### DON'T SET THIS TO TRUE UNLESS YOUR DATASET IS SMALL!! WILL FLOOD YOUR MEMORY!!!\n",
    "store_in_lists = False   \n",
    "########## BELOW ARE THE PARAMETERS THAT CONTROL WHAT WILL BE SAVED\n",
    "save_eigenvector=True\n",
    "save_hamiltonian=True \n",
    "save_accuracy=True \n",
    "save_models=True"
   ]
  },
  {
   "cell_type": "code",
   "execution_count": 3,
   "metadata": {
    "execution": {
     "iopub.execute_input": "2020-07-09T08:14:08.713014Z",
     "iopub.status.busy": "2020-07-09T08:14:08.712697Z",
     "iopub.status.idle": "2020-07-09T08:14:08.803061Z",
     "shell.execute_reply": "2020-07-09T08:14:08.804777Z"
    },
    "papermill": {
     "duration": 0.10851,
     "end_time": "2020-07-09T08:14:08.805078",
     "exception": false,
     "start_time": "2020-07-09T08:14:08.696568",
     "status": "completed"
    },
    "tags": [
     "injected-parameters"
    ]
   },
   "outputs": [],
   "source": [
    "# Parameters\n",
    "model_kw = {\"criterion\": \"entropy\", \"n_estimators\": 25, \"n_jobs\": -1}\n",
    "allowed_windings = [-1, 0, 1, 2]\n",
    "val_split = 0.5\n",
    "features_to_use = [0, 1, 2, 3, 4, 5, 6, 7, 46, 48, 49, 50]\n",
    "shuffle_features = False\n",
    "n_experiments = 5\n",
    "start_n = 0\n",
    "fit_params = None\n",
    "shuffle_rows = True\n",
    "pred_params = None\n",
    "random_features = False\n",
    "store_in_lists = False\n",
    "save_eigenvector = True\n",
    "save_hamiltonian = True\n",
    "save_accuracy = True\n",
    "save_models = True\n",
    "csv_path = \"/home/rio/ssh_csvs/ssh2/periodic_100_6561.csv\"\n",
    "model_name = \"RandomForestClassifier\"\n",
    "simulation_dir = \"/home/rio/ssh_simulations/ssh2/periodic_8th_scenario_100_6561\"\n",
    "random_state = 34896\n",
    "fourier_features_to_use = [0, 1, 2, 3, 4, 5, 6, 8, 42, 44, 46, 48]\n",
    "fourier_mode = \"dct\"\n",
    "fourier_real = None\n",
    "fourier_normalize = False\n",
    "fourier_fillna = False\n",
    "normalize = False\n",
    "fillna = False\n"
   ]
  },
  {
   "cell_type": "code",
   "execution_count": 4,
   "metadata": {
    "execution": {
     "iopub.execute_input": "2020-07-09T08:14:08.876081Z",
     "iopub.status.busy": "2020-07-09T08:14:08.875748Z",
     "iopub.status.idle": "2020-07-09T08:14:14.345686Z",
     "shell.execute_reply": "2020-07-09T08:14:14.345941Z"
    },
    "papermill": {
     "duration": 5.49075,
     "end_time": "2020-07-09T08:14:14.346009",
     "exception": false,
     "start_time": "2020-07-09T08:14:08.855259",
     "status": "completed"
    },
    "tags": []
   },
   "outputs": [
    {
     "name": "stdout",
     "output_type": "stream",
     "text": [
      "Info on all data: \n",
      "\n",
      "<class 'pandas.core.frame.DataFrame'>\n",
      "Int64Index: 656100 entries, 0 to 656099\n",
      "Columns: 108 entries, id to feat99\n",
      "dtypes: float64(103), int32(3), object(2)\n",
      "memory usage: 538.1+ MB\n",
      "CPU times: user 5.45 s, sys: 517 ms, total: 5.97 s\n",
      "Wall time: 5.45 s\n"
     ]
    },
    {
     "data": {
      "text/html": [
       "<div>\n",
       "<style scoped>\n",
       "    .dataframe tbody tr th:only-of-type {\n",
       "        vertical-align: middle;\n",
       "    }\n",
       "\n",
       "    .dataframe tbody tr th {\n",
       "        vertical-align: top;\n",
       "    }\n",
       "\n",
       "    .dataframe thead th {\n",
       "        text-align: right;\n",
       "    }\n",
       "</style>\n",
       "<table border=\"1\" class=\"dataframe\">\n",
       "  <thead>\n",
       "    <tr style=\"text-align: right;\">\n",
       "      <th></th>\n",
       "      <th>id</th>\n",
       "      <th>path</th>\n",
       "      <th>t1</th>\n",
       "      <th>t2</th>\n",
       "      <th>winding</th>\n",
       "      <th>phase</th>\n",
       "      <th>pred_phase</th>\n",
       "      <th>type_of</th>\n",
       "      <th>feat0</th>\n",
       "      <th>feat1</th>\n",
       "      <th>...</th>\n",
       "      <th>feat90</th>\n",
       "      <th>feat91</th>\n",
       "      <th>feat92</th>\n",
       "      <th>feat93</th>\n",
       "      <th>feat94</th>\n",
       "      <th>feat95</th>\n",
       "      <th>feat96</th>\n",
       "      <th>feat97</th>\n",
       "      <th>feat98</th>\n",
       "      <th>feat99</th>\n",
       "    </tr>\n",
       "  </thead>\n",
       "  <tbody>\n",
       "    <tr>\n",
       "      <th>0</th>\n",
       "      <td>0</td>\n",
       "      <td>H_-2_-2_0.501338.dat</td>\n",
       "      <td>-2.0</td>\n",
       "      <td>-2.0</td>\n",
       "      <td>0.501338</td>\n",
       "      <td>999</td>\n",
       "      <td>666</td>\n",
       "      <td>test</td>\n",
       "      <td>-0.130965</td>\n",
       "      <td>0.301130</td>\n",
       "      <td>...</td>\n",
       "      <td>-0.080279</td>\n",
       "      <td>-0.115687</td>\n",
       "      <td>-0.174988</td>\n",
       "      <td>0.245064</td>\n",
       "      <td>0.319763</td>\n",
       "      <td>-0.059082</td>\n",
       "      <td>-0.000556</td>\n",
       "      <td>-0.245133</td>\n",
       "      <td>-0.301130</td>\n",
       "      <td>0.130965</td>\n",
       "    </tr>\n",
       "    <tr>\n",
       "      <th>1</th>\n",
       "      <td>0</td>\n",
       "      <td>H_-2_-2_0.501338.dat</td>\n",
       "      <td>-2.0</td>\n",
       "      <td>-2.0</td>\n",
       "      <td>0.501338</td>\n",
       "      <td>999</td>\n",
       "      <td>666</td>\n",
       "      <td>test</td>\n",
       "      <td>-0.130965</td>\n",
       "      <td>-0.301130</td>\n",
       "      <td>...</td>\n",
       "      <td>-0.080279</td>\n",
       "      <td>0.115687</td>\n",
       "      <td>-0.174988</td>\n",
       "      <td>-0.245064</td>\n",
       "      <td>0.319763</td>\n",
       "      <td>0.059082</td>\n",
       "      <td>-0.000556</td>\n",
       "      <td>0.245133</td>\n",
       "      <td>-0.301130</td>\n",
       "      <td>-0.130965</td>\n",
       "    </tr>\n",
       "    <tr>\n",
       "      <th>2</th>\n",
       "      <td>0</td>\n",
       "      <td>H_-2_-2_0.501338.dat</td>\n",
       "      <td>-2.0</td>\n",
       "      <td>-2.0</td>\n",
       "      <td>0.501338</td>\n",
       "      <td>999</td>\n",
       "      <td>666</td>\n",
       "      <td>test</td>\n",
       "      <td>-0.148414</td>\n",
       "      <td>-0.042467</td>\n",
       "      <td>...</td>\n",
       "      <td>0.185442</td>\n",
       "      <td>-0.080620</td>\n",
       "      <td>-0.066211</td>\n",
       "      <td>-0.121339</td>\n",
       "      <td>-0.151700</td>\n",
       "      <td>0.192513</td>\n",
       "      <td>0.191642</td>\n",
       "      <td>-0.050956</td>\n",
       "      <td>-0.042467</td>\n",
       "      <td>-0.148414</td>\n",
       "    </tr>\n",
       "    <tr>\n",
       "      <th>3</th>\n",
       "      <td>0</td>\n",
       "      <td>H_-2_-2_0.501338.dat</td>\n",
       "      <td>-2.0</td>\n",
       "      <td>-2.0</td>\n",
       "      <td>0.501338</td>\n",
       "      <td>999</td>\n",
       "      <td>666</td>\n",
       "      <td>test</td>\n",
       "      <td>-0.069630</td>\n",
       "      <td>-0.026147</td>\n",
       "      <td>...</td>\n",
       "      <td>0.102009</td>\n",
       "      <td>-0.100671</td>\n",
       "      <td>-0.081002</td>\n",
       "      <td>-0.020715</td>\n",
       "      <td>-0.058717</td>\n",
       "      <td>0.115834</td>\n",
       "      <td>0.118274</td>\n",
       "      <td>-0.054666</td>\n",
       "      <td>-0.026147</td>\n",
       "      <td>-0.069630</td>\n",
       "    </tr>\n",
       "    <tr>\n",
       "      <th>4</th>\n",
       "      <td>0</td>\n",
       "      <td>H_-2_-2_0.501338.dat</td>\n",
       "      <td>-2.0</td>\n",
       "      <td>-2.0</td>\n",
       "      <td>0.501338</td>\n",
       "      <td>999</td>\n",
       "      <td>666</td>\n",
       "      <td>test</td>\n",
       "      <td>0.010206</td>\n",
       "      <td>-0.014625</td>\n",
       "      <td>...</td>\n",
       "      <td>0.047555</td>\n",
       "      <td>-0.041368</td>\n",
       "      <td>-0.018852</td>\n",
       "      <td>-0.017673</td>\n",
       "      <td>-0.023377</td>\n",
       "      <td>0.031447</td>\n",
       "      <td>0.010280</td>\n",
       "      <td>0.000925</td>\n",
       "      <td>0.014625</td>\n",
       "      <td>-0.010206</td>\n",
       "    </tr>\n",
       "  </tbody>\n",
       "</table>\n",
       "<p>5 rows × 108 columns</p>\n",
       "</div>"
      ],
      "text/plain": [
       "   id                  path   t1   t2   winding  phase  pred_phase type_of  \\\n",
       "0   0  H_-2_-2_0.501338.dat -2.0 -2.0  0.501338    999         666    test   \n",
       "1   0  H_-2_-2_0.501338.dat -2.0 -2.0  0.501338    999         666    test   \n",
       "2   0  H_-2_-2_0.501338.dat -2.0 -2.0  0.501338    999         666    test   \n",
       "3   0  H_-2_-2_0.501338.dat -2.0 -2.0  0.501338    999         666    test   \n",
       "4   0  H_-2_-2_0.501338.dat -2.0 -2.0  0.501338    999         666    test   \n",
       "\n",
       "      feat0     feat1  ...    feat90    feat91    feat92    feat93    feat94  \\\n",
       "0 -0.130965  0.301130  ... -0.080279 -0.115687 -0.174988  0.245064  0.319763   \n",
       "1 -0.130965 -0.301130  ... -0.080279  0.115687 -0.174988 -0.245064  0.319763   \n",
       "2 -0.148414 -0.042467  ...  0.185442 -0.080620 -0.066211 -0.121339 -0.151700   \n",
       "3 -0.069630 -0.026147  ...  0.102009 -0.100671 -0.081002 -0.020715 -0.058717   \n",
       "4  0.010206 -0.014625  ...  0.047555 -0.041368 -0.018852 -0.017673 -0.023377   \n",
       "\n",
       "     feat95    feat96    feat97    feat98    feat99  \n",
       "0 -0.059082 -0.000556 -0.245133 -0.301130  0.130965  \n",
       "1  0.059082 -0.000556  0.245133 -0.301130 -0.130965  \n",
       "2  0.192513  0.191642 -0.050956 -0.042467 -0.148414  \n",
       "3  0.115834  0.118274 -0.054666 -0.026147 -0.069630  \n",
       "4  0.031447  0.010280  0.000925  0.014625 -0.010206  \n",
       "\n",
       "[5 rows x 108 columns]"
      ]
     },
     "execution_count": 4,
     "metadata": {},
     "output_type": "execute_result"
    }
   ],
   "source": [
    "%%time\n",
    "#Starting an instance of Simulation with a decision tree\n",
    "model = DecisionTreeClassifier(criterion=\"entropy\")\n",
    "#dict_args = {\"csv_path\":csv_path, \"model\":model, \"allowed_windings\":allowed_windings,\\\n",
    "#             \"simulation_dir\":simulation_dir, \"val_split\":val_split, \"features_to_use\":features_to_use,\\\n",
    "#            \"shuffle_features\":shuffle_features, \"random_state\":random_state}\n",
    "simulation = Simulation(csv_path,model_name,model_kw,allowed_windings,simulation_dir,val_split,features_to_use,\\\n",
    "                       shuffle_features,fourier_mode,fourier_features_to_use,fourier_real,\\\n",
    "                       fourier_normalize, fourier_fillna , random_state)\n",
    "#simulation = Simulation(**dict_args)\n",
    "\n",
    "\n",
    "#(self, csv_path, model_name, model_kw, allowed_windings, simulation_dir = None, val_split = 0, \n",
    "# features_to_use = None, shuffle_features = False, fourier_mode=None, fourier_features_to_use=None,\n",
    "# fourier_real = False, fourier_normalize = False, Fourier_fillna=False, random_state = None):\n",
    "\n",
    "\n",
    "\n",
    "print(\"Info on all data: \\n\")\n",
    "simulation.dataframe.info()\n",
    "simulation.dataframe.head()"
   ]
  },
  {
   "cell_type": "markdown",
   "metadata": {
    "papermill": {
     "duration": 0.016073,
     "end_time": "2020-07-09T08:14:14.378614",
     "exception": false,
     "start_time": "2020-07-09T08:14:14.362541",
     "status": "completed"
    },
    "tags": []
   },
   "source": [
    "####  Fourier features"
   ]
  },
  {
   "cell_type": "code",
   "execution_count": 5,
   "metadata": {
    "execution": {
     "iopub.execute_input": "2020-07-09T08:14:14.412329Z",
     "iopub.status.busy": "2020-07-09T08:14:14.412018Z",
     "iopub.status.idle": "2020-07-09T08:14:14.507438Z",
     "shell.execute_reply": "2020-07-09T08:14:14.507160Z"
    },
    "papermill": {
     "duration": 0.113008,
     "end_time": "2020-07-09T08:14:14.507490",
     "exception": false,
     "start_time": "2020-07-09T08:14:14.394482",
     "status": "completed"
    },
    "tags": []
   },
   "outputs": [
    {
     "name": "stdout",
     "output_type": "stream",
     "text": [
      "<class 'pandas.core.frame.DataFrame'>\n",
      "Int64Index: 656100 entries, 0 to 656099\n",
      "Data columns (total 20 columns):\n",
      " #   Column      Non-Null Count   Dtype  \n",
      "---  ------      --------------   -----  \n",
      " 0   id          656100 non-null  int32  \n",
      " 1   path        656100 non-null  object \n",
      " 2   t1          656100 non-null  float64\n",
      " 3   t2          656100 non-null  float64\n",
      " 4   winding     656100 non-null  float64\n",
      " 5   phase       656100 non-null  int32  \n",
      " 6   pred_phase  656100 non-null  int32  \n",
      " 7   type_of     656100 non-null  object \n",
      " 8   dct_feat0   656100 non-null  float64\n",
      " 9   dct_feat1   656100 non-null  float64\n",
      " 10  dct_feat2   656100 non-null  float64\n",
      " 11  dct_feat3   656100 non-null  float64\n",
      " 12  dct_feat4   656100 non-null  float64\n",
      " 13  dct_feat5   656100 non-null  float64\n",
      " 14  dct_feat6   656100 non-null  float64\n",
      " 15  dct_feat8   656100 non-null  float64\n",
      " 16  dct_feat42  656100 non-null  float64\n",
      " 17  dct_feat44  656100 non-null  float64\n",
      " 18  dct_feat46  656100 non-null  float64\n",
      " 19  dct_feat48  656100 non-null  float64\n",
      "dtypes: float64(15), int32(3), object(2)\n",
      "memory usage: 97.6+ MB\n",
      "CPU times: user 85.6 ms, sys: 0 ns, total: 85.6 ms\n",
      "Wall time: 84.9 ms\n"
     ]
    }
   ],
   "source": [
    "%%time\n",
    "#simulation.generate_fourier_df()\n",
    "if simulation.fourier_mode is not None:\n",
    "    simulation.fourier_dataframe.info() \n",
    "    simulation.fourier_dataframe.sample(15)\n"
   ]
  },
  {
   "cell_type": "code",
   "execution_count": 6,
   "metadata": {
    "execution": {
     "iopub.execute_input": "2020-07-09T08:14:14.543020Z",
     "iopub.status.busy": "2020-07-09T08:14:14.542698Z",
     "iopub.status.idle": "2020-07-09T08:14:14.553921Z",
     "shell.execute_reply": "2020-07-09T08:14:14.554222Z"
    },
    "papermill": {
     "duration": 0.030282,
     "end_time": "2020-07-09T08:14:14.554288",
     "exception": false,
     "start_time": "2020-07-09T08:14:14.524006",
     "status": "completed"
    },
    "tags": []
   },
   "outputs": [
    {
     "name": "stdout",
     "output_type": "stream",
     "text": [
      "features_to_use: \n",
      "\n",
      "\n",
      "[0, 1, 2, 3, 4, 5, 6, 7, 46, 48, 49, 50]\n",
      "Number of real space features:\n",
      "\n",
      "\n",
      "12\n",
      "\n",
      "\n",
      "fourier_features: \n",
      "\n",
      "\n",
      "['dct_feat0', 'dct_feat1', 'dct_feat2', 'dct_feat3', 'dct_feat4', 'dct_feat5', 'dct_feat6', 'dct_feat8', 'dct_feat42', 'dct_feat44', 'dct_feat46', 'dct_feat48']\n",
      "\n",
      "\n",
      "Number of Fourier features: \n",
      "\n",
      "\n",
      "12\n"
     ]
    }
   ],
   "source": [
    "print(\"features_to_use: \")\n",
    "print(\"\\n\")\n",
    "print(simulation.features_to_use)\n",
    "if simulation.features_to_use is not None:\n",
    "    print(\"Number of real space features:\")\n",
    "    print(\"\\n\")\n",
    "    print(len(simulation.features_to_use))\n",
    "print(\"\\n\")\n",
    "print(\"fourier_features: \")\n",
    "print(\"\\n\")\n",
    "print(simulation.fourier_features)\n",
    "print(\"\\n\")\n",
    "if simulation.fourier_features is not None:\n",
    "    print(\"Number of Fourier features: \")\n",
    "    print(\"\\n\")\n",
    "    print(len(simulation.fourier_features))"
   ]
  },
  {
   "cell_type": "code",
   "execution_count": 7,
   "metadata": {
    "execution": {
     "iopub.execute_input": "2020-07-09T08:14:14.588505Z",
     "iopub.status.busy": "2020-07-09T08:14:14.588184Z",
     "iopub.status.idle": "2020-07-09T08:14:14.664413Z",
     "shell.execute_reply": "2020-07-09T08:14:14.663367Z"
    },
    "papermill": {
     "duration": 0.094266,
     "end_time": "2020-07-09T08:14:14.664593",
     "exception": false,
     "start_time": "2020-07-09T08:14:14.570327",
     "status": "completed"
    },
    "tags": []
   },
   "outputs": [],
   "source": [
    "#simulation.dataframe.iloc[331456,:]"
   ]
  },
  {
   "cell_type": "code",
   "execution_count": 8,
   "metadata": {
    "execution": {
     "iopub.execute_input": "2020-07-09T08:14:14.739438Z",
     "iopub.status.busy": "2020-07-09T08:14:14.739126Z",
     "iopub.status.idle": "2020-07-09T08:14:14.748796Z",
     "shell.execute_reply": "2020-07-09T08:14:14.749116Z"
    },
    "papermill": {
     "duration": 0.031349,
     "end_time": "2020-07-09T08:14:14.749184",
     "exception": false,
     "start_time": "2020-07-09T08:14:14.717835",
     "status": "completed"
    },
    "tags": []
   },
   "outputs": [],
   "source": [
    "#for ix, obj in enumerate(simulation.dataframe.iloc[331456,:].values):\n",
    "#    print(ix,obj)"
   ]
  },
  {
   "cell_type": "code",
   "execution_count": 9,
   "metadata": {
    "execution": {
     "iopub.execute_input": "2020-07-09T08:14:14.782950Z",
     "iopub.status.busy": "2020-07-09T08:14:14.782641Z",
     "iopub.status.idle": "2020-07-09T08:14:14.851086Z",
     "shell.execute_reply": "2020-07-09T08:14:14.852517Z"
    },
    "papermill": {
     "duration": 0.087615,
     "end_time": "2020-07-09T08:14:14.852829",
     "exception": false,
     "start_time": "2020-07-09T08:14:14.765214",
     "status": "completed"
    },
    "tags": []
   },
   "outputs": [],
   "source": [
    "#simulation.fourier_engineered_dataframe.dct_feat0"
   ]
  },
  {
   "cell_type": "code",
   "execution_count": 10,
   "metadata": {
    "execution": {
     "iopub.execute_input": "2020-07-09T08:14:14.928116Z",
     "iopub.status.busy": "2020-07-09T08:14:14.927795Z",
     "iopub.status.idle": "2020-07-09T08:14:14.937414Z",
     "shell.execute_reply": "2020-07-09T08:14:14.937726Z"
    },
    "papermill": {
     "duration": 0.031867,
     "end_time": "2020-07-09T08:14:14.937794",
     "exception": false,
     "start_time": "2020-07-09T08:14:14.905927",
     "status": "completed"
    },
    "tags": []
   },
   "outputs": [],
   "source": [
    "#simulation.features"
   ]
  },
  {
   "cell_type": "code",
   "execution_count": 11,
   "metadata": {
    "execution": {
     "iopub.execute_input": "2020-07-09T08:14:14.971571Z",
     "iopub.status.busy": "2020-07-09T08:14:14.971260Z",
     "iopub.status.idle": "2020-07-09T08:14:15.046679Z",
     "shell.execute_reply": "2020-07-09T08:14:15.047606Z"
    },
    "papermill": {
     "duration": 0.093942,
     "end_time": "2020-07-09T08:14:15.047779",
     "exception": false,
     "start_time": "2020-07-09T08:14:14.953837",
     "status": "completed"
    },
    "tags": []
   },
   "outputs": [],
   "source": [
    "#simulation.fourier_matrix"
   ]
  },
  {
   "cell_type": "code",
   "execution_count": 12,
   "metadata": {
    "execution": {
     "iopub.execute_input": "2020-07-09T08:14:15.131543Z",
     "iopub.status.busy": "2020-07-09T08:14:15.131227Z",
     "iopub.status.idle": "2020-07-09T08:14:15.147103Z",
     "shell.execute_reply": "2020-07-09T08:14:15.147364Z"
    },
    "papermill": {
     "duration": 0.045348,
     "end_time": "2020-07-09T08:14:15.147437",
     "exception": false,
     "start_time": "2020-07-09T08:14:15.102089",
     "status": "completed"
    },
    "tags": []
   },
   "outputs": [],
   "source": [
    "#1/simulation.n_features*simulation.dataframe.loc[:,simulation.features].sum(axis=1)"
   ]
  },
  {
   "cell_type": "code",
   "execution_count": 13,
   "metadata": {
    "execution": {
     "iopub.execute_input": "2020-07-09T08:14:15.181570Z",
     "iopub.status.busy": "2020-07-09T08:14:15.181262Z",
     "iopub.status.idle": "2020-07-09T08:14:15.266461Z",
     "shell.execute_reply": "2020-07-09T08:14:15.264887Z"
    },
    "papermill": {
     "duration": 0.103451,
     "end_time": "2020-07-09T08:14:15.266682",
     "exception": false,
     "start_time": "2020-07-09T08:14:15.163231",
     "status": "completed"
    },
    "tags": []
   },
   "outputs": [],
   "source": [
    "#df_2 = simulation.fourier_engineered_dataframe[simulation.fourier_engineered_dataframe.phase==2]\n",
    "#df_2.describe()"
   ]
  },
  {
   "cell_type": "code",
   "execution_count": 14,
   "metadata": {
    "execution": {
     "iopub.execute_input": "2020-07-09T08:14:15.342400Z",
     "iopub.status.busy": "2020-07-09T08:14:15.342075Z",
     "iopub.status.idle": "2020-07-09T08:14:15.351962Z",
     "shell.execute_reply": "2020-07-09T08:14:15.351622Z"
    },
    "papermill": {
     "duration": 0.031549,
     "end_time": "2020-07-09T08:14:15.352014",
     "exception": false,
     "start_time": "2020-07-09T08:14:15.320465",
     "status": "completed"
    },
    "tags": []
   },
   "outputs": [],
   "source": [
    "#df_1 = simulation.fourier_engineered_dataframe[simulation.fourier_engineered_dataframe.phase==1]\n",
    "#df_1.describe()"
   ]
  },
  {
   "cell_type": "code",
   "execution_count": 15,
   "metadata": {
    "execution": {
     "iopub.execute_input": "2020-07-09T08:14:15.385930Z",
     "iopub.status.busy": "2020-07-09T08:14:15.385623Z",
     "iopub.status.idle": "2020-07-09T08:14:15.453558Z",
     "shell.execute_reply": "2020-07-09T08:14:15.454129Z"
    },
    "papermill": {
     "duration": 0.086139,
     "end_time": "2020-07-09T08:14:15.454270",
     "exception": false,
     "start_time": "2020-07-09T08:14:15.368131",
     "status": "completed"
    },
    "tags": []
   },
   "outputs": [],
   "source": [
    "#df_0 = simulation.fourier_engineered_dataframe[simulation.fourier_engineered_dataframe.phase==0]\n",
    "#df_0.describe()"
   ]
  },
  {
   "cell_type": "code",
   "execution_count": 16,
   "metadata": {
    "execution": {
     "iopub.execute_input": "2020-07-09T08:14:15.518128Z",
     "iopub.status.busy": "2020-07-09T08:14:15.517819Z",
     "iopub.status.idle": "2020-07-09T08:14:15.527344Z",
     "shell.execute_reply": "2020-07-09T08:14:15.527012Z"
    },
    "papermill": {
     "duration": 0.033557,
     "end_time": "2020-07-09T08:14:15.527399",
     "exception": false,
     "start_time": "2020-07-09T08:14:15.493842",
     "status": "completed"
    },
    "tags": []
   },
   "outputs": [],
   "source": [
    "#plt.figure(figsize=(10,10))\n",
    "#plt.scatter(df_1.fourier_feat0,df_1.fourier_feat2)\n",
    "#plt.scatter(df_0.fourier_feat0,df_0.fourier_feat2,alpha=0.4)"
   ]
  },
  {
   "cell_type": "code",
   "execution_count": 17,
   "metadata": {
    "execution": {
     "iopub.execute_input": "2020-07-09T08:14:15.561513Z",
     "iopub.status.busy": "2020-07-09T08:14:15.561208Z",
     "iopub.status.idle": "2020-07-09T08:14:15.638550Z",
     "shell.execute_reply": "2020-07-09T08:14:15.637744Z"
    },
    "papermill": {
     "duration": 0.095106,
     "end_time": "2020-07-09T08:14:15.638666",
     "exception": false,
     "start_time": "2020-07-09T08:14:15.543560",
     "status": "completed"
    },
    "tags": []
   },
   "outputs": [],
   "source": [
    "#plt.scatter(df_0.fourier_feat0,df_0.fourier_feat2,alpha=0.4)"
   ]
  },
  {
   "cell_type": "code",
   "execution_count": 18,
   "metadata": {
    "execution": {
     "iopub.execute_input": "2020-07-09T08:14:15.710216Z",
     "iopub.status.busy": "2020-07-09T08:14:15.709812Z",
     "iopub.status.idle": "2020-07-09T08:14:15.720238Z",
     "shell.execute_reply": "2020-07-09T08:14:15.719952Z"
    },
    "papermill": {
     "duration": 0.032597,
     "end_time": "2020-07-09T08:14:15.720290",
     "exception": false,
     "start_time": "2020-07-09T08:14:15.687693",
     "status": "completed"
    },
    "tags": []
   },
   "outputs": [],
   "source": [
    "#plt.scatter(df_2.fourier_feat0,df_2.fourier_feat2)"
   ]
  },
  {
   "cell_type": "code",
   "execution_count": 19,
   "metadata": {
    "execution": {
     "iopub.execute_input": "2020-07-09T08:14:15.755213Z",
     "iopub.status.busy": "2020-07-09T08:14:15.754717Z",
     "iopub.status.idle": "2020-07-09T08:14:15.827215Z",
     "shell.execute_reply": "2020-07-09T08:14:15.825459Z"
    },
    "papermill": {
     "duration": 0.091066,
     "end_time": "2020-07-09T08:14:15.827461",
     "exception": false,
     "start_time": "2020-07-09T08:14:15.736395",
     "status": "completed"
    },
    "tags": []
   },
   "outputs": [],
   "source": [
    "#df_1.hist(figsize=(15,15))"
   ]
  },
  {
   "cell_type": "code",
   "execution_count": 20,
   "metadata": {
    "execution": {
     "iopub.execute_input": "2020-07-09T08:14:15.898499Z",
     "iopub.status.busy": "2020-07-09T08:14:15.897953Z",
     "iopub.status.idle": "2020-07-09T08:14:15.907607Z",
     "shell.execute_reply": "2020-07-09T08:14:15.907325Z"
    },
    "papermill": {
     "duration": 0.030288,
     "end_time": "2020-07-09T08:14:15.907661",
     "exception": false,
     "start_time": "2020-07-09T08:14:15.877373",
     "status": "completed"
    },
    "tags": []
   },
   "outputs": [],
   "source": [
    "#df_0.hist(figsize=(15,15))"
   ]
  },
  {
   "cell_type": "markdown",
   "metadata": {
    "papermill": {
     "duration": 0.016057,
     "end_time": "2020-07-09T08:14:15.939989",
     "exception": false,
     "start_time": "2020-07-09T08:14:15.923932",
     "status": "completed"
    },
    "tags": []
   },
   "source": [
    "#### Checking initialization"
   ]
  },
  {
   "cell_type": "code",
   "execution_count": 21,
   "metadata": {
    "execution": {
     "iopub.execute_input": "2020-07-09T08:14:15.974448Z",
     "iopub.status.busy": "2020-07-09T08:14:15.974140Z",
     "iopub.status.idle": "2020-07-09T08:14:16.047659Z",
     "shell.execute_reply": "2020-07-09T08:14:16.049363Z"
    },
    "papermill": {
     "duration": 0.093562,
     "end_time": "2020-07-09T08:14:16.049658",
     "exception": false,
     "start_time": "2020-07-09T08:14:15.956096",
     "status": "completed"
    },
    "tags": []
   },
   "outputs": [
    {
     "name": "stdout",
     "output_type": "stream",
     "text": [
      "n_features:  100\n",
      "n_hamiltonians:  6561\n",
      "n_ts:  2\n",
      "CPU times: user 1.68 ms, sys: 0 ns, total: 1.68 ms\n",
      "Wall time: 1.21 ms\n"
     ]
    }
   ],
   "source": [
    "%%time\n",
    "n_features = simulation.n_features\n",
    "n_hamiltonians = simulation.n_hamiltonians\n",
    "n_ts = simulation.n_ts\n",
    "\n",
    "print(\"n_features: \", n_features)\n",
    "print(\"n_hamiltonians: \", n_hamiltonians)\n",
    "print(\"n_ts: \", n_ts)"
   ]
  },
  {
   "cell_type": "code",
   "execution_count": 22,
   "metadata": {
    "execution": {
     "iopub.execute_input": "2020-07-09T08:14:16.124964Z",
     "iopub.status.busy": "2020-07-09T08:14:16.124643Z",
     "iopub.status.idle": "2020-07-09T08:14:16.304900Z",
     "shell.execute_reply": "2020-07-09T08:14:16.305207Z"
    },
    "papermill": {
     "duration": 0.203342,
     "end_time": "2020-07-09T08:14:16.305274",
     "exception": false,
     "start_time": "2020-07-09T08:14:16.101932",
     "status": "completed"
    },
    "tags": []
   },
   "outputs": [
    {
     "name": "stdout",
     "output_type": "stream",
     "text": [
      "% train:  0.8414875781130925\n",
      "% val:  0.0\n",
      "% test:  0.15851242188690748\n",
      "% train + val + test:  1.0\n",
      "\n",
      "\n",
      "number of train hamiltonians:  5521\n",
      "number of val hamiltonians:  0\n",
      "number of test hamiltonians:  1040\n",
      "total number of hamiltonians:  6561\n",
      "\n",
      "\n",
      "train ids:  [13, 14, 15, 16, 17, 18, 19, 20, 21, 22, 23, 24, 25, 26, 27, 28, 29, 30, 31, 32, 33, 34, 35, 36, 37, 38, 39, 41, 42, 43, 44, 45, 46, 47, 48, 49, 50, 51, 52, 53, 54, 55, 56, 57, 58, 59, 60, 61, 62, 63, 64, 65, 66, 67, 68, 69, 70, 71, 72, 73, 74, 75, 76, 77, 78, 79, 80, 95, 96, 97, 98, 99, 100, 101, 102, 103, 104, 105, 106, 107, 108, 109, 110, 111, 112, 113, 114, 115, 116, 117, 118, 119, 121, 122, 123, 124, 125, 126, 127, 128, 129, 130, 131, 132, 133, 134, 135, 136, 137, 138, 139, 140, 141, 142, 143, 144, 145, 146, 147, 148, 149, 150, 151, 152, 153, 154, 155, 156, 157, 158, 159, 160, 161, 176, 177, 178, 179, 180, 181, 182, 183, 184, 185, 186, 187, 188, 189, 190, 191, 192, 193, 194, 195, 196, 197, 198, 199, 201, 202, 203, 204, 205, 206, 207, 208, 209, 210, 211, 212, 213, 214, 215, 216, 217, 218, 219, 220, 221, 222, 223, 224, 225, 226, 227, 228, 229, 230, 231, 232, 233, 234, 235, 236, 237, 238, 239, 240, 241, 242, 258, 259, 260, 261, 262, 263, 264, 265, 266, 267, 268, 269, 270, 271, 272, 273, 274, 275, 276, 277, 278, 279, 281, 282, 283, 284, 285, 286, 287, 288, 289, 290, 291, 292, 293, 294, 295, 296, 297, 298, 299, 300, 301, 302, 303, 304, 305, 306, 307, 308, 309, 310, 311, 312, 313, 314, 315, 316, 317, 318, 319, 320, 321, 322, 323, 340, 341, 342, 343, 344, 345, 346, 347, 348, 349, 350, 351, 352, 353, 354, 355, 356, 357, 358, 359, 361, 362, 363, 364, 365, 366, 367, 368, 369, 370, 371, 372, 373, 374, 375, 376, 377, 378, 379, 380, 381, 382, 383, 384, 385, 386, 387, 388, 389, 390, 391, 392, 393, 394, 395, 396, 397, 398, 399, 400, 401, 402, 403, 404, 422, 423, 424, 425, 426, 427, 428, 429, 430, 431, 432, 433, 434, 435, 436, 437, 438, 439, 441, 442, 443, 444, 445, 446, 447, 448, 449, 450, 451, 452, 453, 454, 455, 456, 457, 458, 459, 460, 461, 462, 463, 464, 465, 466, 467, 468, 469, 470, 471, 472, 473, 474, 475, 476, 477, 478, 479, 480, 481, 482, 483, 484, 485, 503, 504, 505, 506, 507, 508, 509, 510, 511, 512, 513, 514, 515, 516, 517, 518, 519, 521, 522, 523, 524, 525, 526, 527, 528, 529, 530, 531, 532, 533, 534, 535, 536, 537, 538, 539, 540, 541, 542, 543, 544, 545, 546, 547, 548, 549, 550, 551, 552, 553, 554, 555, 556, 557, 558, 559, 560, 561, 562, 563, 564, 565, 566, 585, 586, 587, 588, 589, 590, 591, 592, 593, 594, 595, 596, 597, 598, 599, 601, 602, 603, 604, 605, 606, 607, 608, 609, 610, 611, 612, 613, 614, 615, 616, 617, 618, 619, 620, 621, 622, 623, 624, 625, 626, 627, 628, 629, 630, 631, 632, 633, 634, 635, 636, 637, 638, 639, 640, 641, 642, 643, 644, 645, 646, 647, 667, 668, 669, 670, 671, 672, 673, 674, 675, 676, 677, 678, 679, 681, 682, 683, 684, 685, 686, 687, 688, 689, 690, 691, 692, 693, 694, 695, 696, 697, 698, 699, 700, 701, 702, 703, 704, 705, 706, 707, 708, 709, 710, 711, 712, 713, 714, 715, 716, 717, 718, 719, 720, 721, 722, 723, 724, 725, 726, 727, 728, 749, 750, 751, 752, 753, 754, 755, 756, 757, 758, 759, 761, 762, 763, 764, 765, 766, 767, 768, 769, 770, 771, 772, 773, 774, 775, 776, 777, 778, 779, 780, 781, 782, 783, 784, 785, 786, 787, 788, 789, 790, 791, 792, 793, 794, 795, 796, 797, 798, 799, 800, 801, 802, 803, 804, 805, 806, 807, 808, 809, 830, 831, 832, 833, 834, 835, 836, 837, 838, 839, 841, 842, 843, 844, 845, 846, 847, 848, 849, 850, 851, 852, 853, 854, 855, 856, 857, 858, 859, 860, 861, 862, 863, 864, 865, 866, 867, 868, 869, 870, 871, 872, 873, 874, 875, 876, 877, 878, 879, 880, 881, 882, 883, 884, 885, 886, 887, 888, 889, 890, 912, 913, 914, 915, 916, 917, 918, 919, 921, 922, 923, 924, 925, 926, 927, 928, 929, 930, 931, 932, 933, 934, 935, 936, 937, 938, 939, 940, 941, 942, 943, 944, 945, 946, 947, 948, 949, 950, 951, 952, 953, 954, 955, 956, 957, 958, 959, 960, 961, 962, 963, 964, 965, 966, 967, 968, 969, 970, 971, 994, 995, 996, 997, 998, 999, 1001, 1002, 1003, 1004, 1005, 1006, 1007, 1008, 1009, 1010, 1011, 1012, 1013, 1014, 1015, 1016, 1017, 1018, 1019, 1020, 1021, 1022, 1023, 1024, 1025, 1026, 1027, 1028, 1029, 1030, 1031, 1032, 1033, 1034, 1035, 1036, 1037, 1038, 1039, 1040, 1041, 1042, 1043, 1044, 1045, 1046, 1047, 1048, 1049, 1050, 1051, 1052, 1076, 1077, 1078, 1079, 1081, 1082, 1083, 1084, 1085, 1086, 1087, 1088, 1089, 1090, 1091, 1092, 1093, 1094, 1095, 1096, 1097, 1098, 1099, 1100, 1101, 1102, 1103, 1104, 1105, 1106, 1107, 1108, 1109, 1110, 1111, 1112, 1113, 1114, 1115, 1116, 1117, 1118, 1119, 1120, 1121, 1122, 1123, 1124, 1125, 1126, 1127, 1128, 1129, 1130, 1131, 1132, 1133, 1134, 1157, 1158, 1159, 1161, 1162, 1163, 1164, 1165, 1166, 1167, 1168, 1169, 1170, 1171, 1172, 1173, 1174, 1175, 1176, 1177, 1178, 1179, 1180, 1181, 1182, 1183, 1184, 1185, 1186, 1187, 1188, 1189, 1190, 1191, 1192, 1193, 1194, 1195, 1196, 1197, 1198, 1199, 1200, 1201, 1202, 1203, 1204, 1205, 1206, 1207, 1208, 1209, 1210, 1211, 1212, 1213, 1214, 1215, 1216, 1239, 1241, 1242, 1243, 1244, 1245, 1246, 1247, 1248, 1249, 1250, 1251, 1252, 1253, 1254, 1255, 1256, 1257, 1258, 1259, 1260, 1261, 1262, 1263, 1264, 1265, 1266, 1267, 1268, 1269, 1270, 1271, 1272, 1273, 1274, 1275, 1276, 1277, 1278, 1279, 1280, 1281, 1282, 1283, 1284, 1285, 1286, 1287, 1288, 1289, 1290, 1291, 1292, 1293, 1294, 1295, 1296, 1297, 1298, 1299, 1321, 1322, 1323, 1324, 1325, 1326, 1327, 1328, 1329, 1330, 1331, 1332, 1333, 1334, 1335, 1336, 1337, 1338, 1339, 1340, 1341, 1342, 1343, 1344, 1345, 1346, 1347, 1348, 1349, 1350, 1351, 1352, 1353, 1354, 1355, 1356, 1357, 1358, 1359, 1360, 1361, 1362, 1363, 1364, 1365, 1366, 1367, 1368, 1369, 1370, 1371, 1372, 1373, 1374, 1375, 1376, 1377, 1378, 1379, 1380, 1381, 1402, 1403, 1404, 1405, 1406, 1407, 1408, 1409, 1410, 1411, 1412, 1413, 1414, 1415, 1416, 1417, 1418, 1419, 1420, 1421, 1422, 1423, 1424, 1425, 1426, 1427, 1428, 1429, 1430, 1431, 1432, 1433, 1434, 1435, 1436, 1437, 1438, 1439, 1440, 1441, 1442, 1443, 1444, 1445, 1446, 1447, 1448, 1449, 1450, 1451, 1452, 1453, 1454, 1455, 1456, 1457, 1458, 1459, 1460, 1461, 1462, 1463, 1464, 1484, 1485, 1486, 1487, 1488, 1489, 1490, 1491, 1492, 1493, 1494, 1495, 1496, 1497, 1498, 1499, 1500, 1501, 1502, 1503, 1504, 1505, 1506, 1507, 1508, 1509, 1510, 1511, 1512, 1513, 1514, 1515, 1516, 1517, 1518, 1519, 1520, 1521, 1522, 1523, 1524, 1525, 1526, 1527, 1528, 1529, 1530, 1531, 1532, 1533, 1534, 1535, 1536, 1537, 1538, 1539, 1540, 1541, 1542, 1543, 1544, 1545, 1546, 1566, 1567, 1568, 1569, 1570, 1571, 1572, 1573, 1574, 1575, 1576, 1577, 1578, 1579, 1580, 1581, 1582, 1583, 1584, 1585, 1586, 1587, 1588, 1589, 1590, 1591, 1592, 1593, 1594, 1595, 1596, 1597, 1598, 1599, 1600, 1601, 1602, 1603, 1604, 1605, 1606, 1607, 1608, 1609, 1610, 1611, 1612, 1613, 1614, 1615, 1616, 1617, 1618, 1619, 1620, 1621, 1622, 1623, 1624, 1625, 1626, 1627, 1628, 1648, 1649, 1650, 1651, 1652, 1653, 1654, 1655, 1656, 1657, 1658, 1659, 1660, 1661, 1662, 1663, 1664, 1665, 1666, 1667, 1668, 1669, 1670, 1671, 1672, 1673, 1674, 1675, 1676, 1677, 1678, 1679, 1680, 1681, 1682, 1683, 1684, 1685, 1686, 1687, 1688, 1689, 1690, 1691, 1692, 1693, 1694, 1695, 1696, 1697, 1698, 1699, 1701, 1702, 1703, 1704, 1705, 1706, 1707, 1708, 1709, 1710, 1711, 1729, 1730, 1731, 1732, 1733, 1734, 1735, 1736, 1737, 1738, 1739, 1740, 1741, 1742, 1743, 1744, 1745, 1746, 1747, 1748, 1749, 1750, 1751, 1752, 1753, 1754, 1755, 1756, 1757, 1758, 1759, 1760, 1761, 1762, 1763, 1764, 1765, 1766, 1767, 1768, 1769, 1770, 1771, 1772, 1773, 1774, 1775, 1776, 1777, 1778, 1779, 1781, 1782, 1783, 1784, 1785, 1786, 1787, 1788, 1789, 1790, 1791, 1792, 1793, 1811, 1812, 1813, 1814, 1815, 1816, 1817, 1818, 1819, 1820, 1821, 1822, 1823, 1824, 1825, 1826, 1827, 1828, 1829, 1830, 1831, 1832, 1833, 1834, 1835, 1836, 1837, 1838, 1839, 1840, 1841, 1842, 1843, 1844, 1845, 1846, 1847, 1848, 1849, 1850, 1851, 1852, 1853, 1854, 1855, 1856, 1857, 1858, 1859, 1861, 1862, 1863, 1864, 1865, 1866, 1867, 1868, 1869, 1870, 1871, 1872, 1873, 1874, 1875, 1876, 1893, 1894, 1895, 1896, 1897, 1898, 1899, 1900, 1901, 1902, 1903, 1904, 1905, 1906, 1907, 1908, 1909, 1910, 1911, 1912, 1913, 1914, 1915, 1916, 1917, 1918, 1919, 1920, 1921, 1922, 1923, 1924, 1925, 1926, 1927, 1928, 1929, 1930, 1931, 1932, 1933, 1934, 1935, 1936, 1937, 1938, 1939, 1941, 1942, 1943, 1944, 1945, 1946, 1947, 1948, 1949, 1950, 1951, 1952, 1953, 1954, 1955, 1956, 1957, 1958, 1975, 1976, 1977, 1978, 1979, 1980, 1981, 1982, 1983, 1984, 1985, 1986, 1987, 1988, 1989, 1990, 1991, 1992, 1993, 1994, 1995, 1996, 1997, 1998, 1999, 2000, 2001, 2002, 2003, 2004, 2005, 2006, 2007, 2008, 2009, 2010, 2011, 2012, 2013, 2014, 2015, 2016, 2017, 2018, 2019, 2021, 2022, 2023, 2024, 2025, 2026, 2027, 2028, 2029, 2030, 2031, 2032, 2033, 2034, 2035, 2036, 2037, 2038, 2039, 2056, 2057, 2058, 2059, 2060, 2061, 2062, 2063, 2064, 2065, 2066, 2067, 2068, 2069, 2070, 2071, 2072, 2073, 2074, 2075, 2076, 2077, 2078, 2079, 2080, 2081, 2082, 2083, 2084, 2085, 2086, 2087, 2088, 2089, 2090, 2091, 2092, 2093, 2094, 2095, 2096, 2097, 2098, 2099, 2101, 2102, 2103, 2104, 2105, 2106, 2107, 2108, 2109, 2110, 2111, 2112, 2113, 2114, 2115, 2116, 2117, 2118, 2119, 2121, 2122, 2123, 2138, 2139, 2140, 2141, 2142, 2143, 2144, 2145, 2146, 2147, 2148, 2149, 2150, 2151, 2152, 2153, 2154, 2155, 2156, 2157, 2158, 2159, 2160, 2161, 2162, 2163, 2164, 2165, 2166, 2167, 2168, 2169, 2170, 2171, 2172, 2173, 2174, 2175, 2176, 2177, 2178, 2179, 2181, 2182, 2183, 2184, 2185, 2186, 2187, 2188, 2189, 2190, 2191, 2192, 2193, 2194, 2195, 2196, 2197, 2198, 2199, 2201, 2202, 2203, 2204, 2205, 2220, 2221, 2222, 2223, 2224, 2225, 2226, 2227, 2228, 2229, 2230, 2231, 2232, 2233, 2234, 2235, 2236, 2237, 2238, 2239, 2240, 2241, 2242, 2243, 2244, 2245, 2246, 2247, 2248, 2249, 2250, 2251, 2252, 2253, 2254, 2255, 2256, 2257, 2258, 2259, 2261, 2262, 2263, 2264, 2265, 2266, 2267, 2268, 2269, 2270, 2271, 2272, 2273, 2274, 2275, 2276, 2277, 2278, 2279, 2281, 2282, 2283, 2284, 2285, 2286, 2287, 2288, 2301, 2302, 2303, 2304, 2305, 2306, 2307, 2308, 2309, 2310, 2311, 2312, 2313, 2314, 2315, 2316, 2317, 2318, 2319, 2320, 2321, 2322, 2323, 2324, 2325, 2326, 2327, 2328, 2329, 2330, 2331, 2332, 2333, 2334, 2335, 2336, 2337, 2338, 2339, 2341, 2342, 2343, 2344, 2345, 2346, 2347, 2348, 2349, 2350, 2351, 2352, 2353, 2354, 2355, 2356, 2357, 2358, 2359, 2361, 2362, 2363, 2364, 2365, 2366, 2367, 2368, 2369, 2370, 2383, 2384, 2385, 2386, 2387, 2388, 2389, 2390, 2391, 2392, 2393, 2394, 2395, 2396, 2397, 2398, 2399, 2400, 2401, 2402, 2403, 2404, 2405, 2406, 2407, 2408, 2409, 2410, 2411, 2412, 2413, 2414, 2415, 2416, 2417, 2418, 2419, 2421, 2422, 2423, 2424, 2425, 2426, 2427, 2428, 2429, 2430, 2431, 2432, 2433, 2434, 2435, 2436, 2437, 2438, 2439, 2441, 2442, 2443, 2444, 2445, 2446, 2447, 2448, 2449, 2450, 2451, 2452, 2453, 2465, 2466, 2467, 2468, 2469, 2470, 2471, 2472, 2473, 2474, 2475, 2476, 2477, 2478, 2479, 2480, 2481, 2482, 2483, 2484, 2485, 2486, 2487, 2488, 2489, 2490, 2491, 2492, 2493, 2494, 2495, 2496, 2497, 2498, 2499, 2501, 2502, 2503, 2504, 2505, 2506, 2507, 2508, 2509, 2510, 2511, 2512, 2513, 2514, 2515, 2516, 2517, 2518, 2519, 2521, 2522, 2523, 2524, 2525, 2526, 2527, 2528, 2529, 2530, 2531, 2532, 2533, 2534, 2535, 2547, 2548, 2549, 2550, 2551, 2552, 2553, 2554, 2555, 2556, 2557, 2558, 2559, 2560, 2561, 2562, 2563, 2564, 2565, 2566, 2567, 2568, 2569, 2570, 2571, 2572, 2573, 2574, 2575, 2576, 2577, 2578, 2579, 2581, 2582, 2583, 2584, 2585, 2586, 2587, 2588, 2589, 2590, 2591, 2592, 2593, 2594, 2595, 2596, 2597, 2598, 2599, 2601, 2602, 2603, 2604, 2605, 2606, 2607, 2608, 2609, 2610, 2611, 2612, 2613, 2614, 2615, 2616, 2617, 2628, 2629, 2630, 2631, 2632, 2633, 2634, 2635, 2636, 2637, 2638, 2639, 2640, 2641, 2642, 2643, 2644, 2645, 2646, 2647, 2648, 2649, 2650, 2651, 2652, 2653, 2654, 2655, 2656, 2657, 2658, 2659, 2661, 2662, 2663, 2664, 2665, 2666, 2667, 2668, 2669, 2670, 2671, 2672, 2673, 2674, 2675, 2676, 2677, 2678, 2679, 2681, 2682, 2683, 2684, 2685, 2686, 2687, 2688, 2689, 2690, 2691, 2692, 2693, 2694, 2695, 2696, 2697, 2698, 2699, 2700, 2710, 2711, 2712, 2713, 2714, 2715, 2716, 2717, 2718, 2719, 2720, 2721, 2722, 2723, 2724, 2725, 2726, 2727, 2728, 2729, 2730, 2731, 2732, 2733, 2734, 2735, 2736, 2737, 2738, 2739, 2741, 2742, 2743, 2744, 2745, 2746, 2747, 2748, 2749, 2750, 2751, 2752, 2753, 2754, 2755, 2756, 2757, 2758, 2759, 2761, 2762, 2763, 2764, 2765, 2766, 2767, 2768, 2769, 2770, 2771, 2772, 2773, 2774, 2775, 2776, 2777, 2778, 2779, 2780, 2781, 2782, 2792, 2793, 2794, 2795, 2796, 2797, 2798, 2799, 2800, 2801, 2802, 2803, 2804, 2805, 2806, 2807, 2808, 2809, 2810, 2811, 2812, 2813, 2814, 2815, 2816, 2817, 2818, 2819, 2821, 2822, 2823, 2824, 2825, 2826, 2827, 2828, 2829, 2830, 2831, 2832, 2833, 2834, 2835, 2836, 2837, 2838, 2839, 2841, 2842, 2843, 2844, 2845, 2846, 2847, 2848, 2849, 2850, 2851, 2852, 2853, 2854, 2855, 2856, 2857, 2858, 2859, 2860, 2861, 2862, 2863, 2864, 2865, 2874, 2875, 2876, 2877, 2878, 2879, 2880, 2881, 2882, 2883, 2884, 2885, 2886, 2887, 2888, 2889, 2890, 2891, 2892, 2893, 2894, 2895, 2896, 2897, 2898, 2899, 2901, 2902, 2903, 2904, 2905, 2906, 2907, 2908, 2909, 2910, 2911, 2912, 2913, 2914, 2915, 2916, 2917, 2918, 2919, 2921, 2922, 2923, 2924, 2925, 2926, 2927, 2928, 2929, 2930, 2931, 2932, 2933, 2934, 2935, 2936, 2937, 2938, 2939, 2940, 2941, 2942, 2943, 2944, 2945, 2946, 2947, 2955, 2956, 2957, 2958, 2959, 2960, 2961, 2962, 2963, 2964, 2965, 2966, 2967, 2968, 2969, 2970, 2971, 2972, 2973, 2974, 2975, 2976, 2977, 2978, 2979, 2981, 2982, 2983, 2984, 2985, 2986, 2987, 2988, 2989, 2990, 2991, 2992, 2993, 2994, 2995, 2996, 2997, 2998, 2999, 3001, 3002, 3003, 3004, 3005, 3006, 3007, 3008, 3009, 3010, 3011, 3012, 3013, 3014, 3015, 3016, 3017, 3018, 3019, 3020, 3021, 3022, 3023, 3024, 3025, 3026, 3027, 3028, 3029, 3037, 3038, 3039, 3040, 3041, 3042, 3043, 3044, 3045, 3046, 3047, 3048, 3049, 3050, 3051, 3052, 3053, 3054, 3055, 3056, 3057, 3058, 3059, 3061, 3062, 3063, 3064, 3065, 3066, 3067, 3068, 3069, 3070, 3071, 3072, 3073, 3074, 3075, 3076, 3077, 3078, 3079, 3081, 3082, 3083, 3084, 3085, 3086, 3087, 3088, 3089, 3090, 3091, 3092, 3093, 3094, 3095, 3096, 3097, 3098, 3099, 3100, 3101, 3102, 3103, 3104, 3105, 3106, 3107, 3108, 3109, 3110, 3111, 3112, 3119, 3120, 3121, 3122, 3123, 3124, 3125, 3126, 3127, 3128, 3129, 3130, 3131, 3132, 3133, 3134, 3135, 3136, 3137, 3138, 3139, 3141, 3142, 3143, 3144, 3145, 3146, 3147, 3148, 3149, 3150, 3151, 3152, 3153, 3154, 3155, 3156, 3157, 3158, 3159, 3161, 3162, 3163, 3164, 3165, 3166, 3167, 3168, 3169, 3170, 3171, 3172, 3173, 3174, 3175, 3176, 3177, 3178, 3179, 3180, 3181, 3182, 3183, 3184, 3185, 3186, 3187, 3188, 3189, 3190, 3191, 3192, 3193, 3194, 3201, 3202, 3203, 3204, 3205, 3206, 3207, 3208, 3209, 3210, 3211, 3212, 3213, 3214, 3215, 3216, 3217, 3218, 3219, 3221, 3222, 3223, 3224, 3225, 3226, 3227, 3228, 3229, 3230, 3231, 3232, 3233, 3234, 3235, 3236, 3237, 3238, 3239, 3241, 3242, 3243, 3244, 3245, 3246, 3247, 3248, 3249, 3250, 3251, 3252, 3253, 3254, 3255, 3256, 3257, 3258, 3259, 3260, 3261, 3262, 3263, 3264, 3265, 3266, 3267, 3268, 3269, 3270, 3271, 3272, 3273, 3274, 3275, 3276, 3277, 3282, 3283, 3284, 3285, 3286, 3287, 3288, 3289, 3290, 3291, 3292, 3293, 3294, 3295, 3296, 3297, 3298, 3299, 3301, 3302, 3303, 3304, 3305, 3306, 3307, 3308, 3309, 3310, 3311, 3312, 3313, 3314, 3315, 3316, 3317, 3318, 3319, 3320, 3321, 3322, 3323, 3324, 3325, 3326, 3327, 3328, 3329, 3330, 3331, 3332, 3333, 3334, 3335, 3336, 3337, 3338, 3339, 3340, 3341, 3342, 3343, 3344, 3345, 3346, 3347, 3348, 3349, 3350, 3351, 3352, 3353, 3354, 3355, 3356, 3357, 3358, 3359, 3364, 3365, 3366, 3367, 3368, 3369, 3370, 3371, 3372, 3373, 3374, 3375, 3376, 3377, 3378, 3379, 3381, 3382, 3383, 3384, 3385, 3386, 3387, 3388, 3389, 3390, 3391, 3392, 3393, 3394, 3395, 3396, 3397, 3398, 3399, 3400, 3401, 3402, 3403, 3404, 3405, 3406, 3407, 3408, 3409, 3410, 3411, 3412, 3413, 3414, 3415, 3416, 3417, 3418, 3419, 3420, 3421, 3422, 3423, 3424, 3425, 3426, 3427, 3428, 3429, 3430, 3431, 3432, 3433, 3434, 3435, 3436, 3437, 3438, 3439, 3440, 3441, 3442, 3446, 3447, 3448, 3449, 3450, 3451, 3452, 3453, 3454, 3455, 3456, 3457, 3458, 3459, 3461, 3462, 3463, 3464, 3465, 3466, 3467, 3468, 3469, 3470, 3471, 3472, 3473, 3474, 3475, 3476, 3477, 3478, 3479, 3480, 3481, 3482, 3483, 3484, 3485, 3486, 3487, 3488, 3489, 3490, 3491, 3492, 3493, 3494, 3495, 3496, 3497, 3498, 3499, 3500, 3501, 3502, 3503, 3504, 3505, 3506, 3507, 3508, 3509, 3510, 3511, 3512, 3513, 3514, 3515, 3516, 3517, 3518, 3519, 3520, 3521, 3522, 3523, 3524, 3527, 3528, 3529, 3530, 3531, 3532, 3533, 3534, 3535, 3536, 3537, 3538, 3539, 3541, 3542, 3543, 3544, 3545, 3546, 3547, 3548, 3549, 3550, 3551, 3552, 3553, 3554, 3555, 3556, 3557, 3558, 3559, 3560, 3561, 3562, 3563, 3564, 3565, 3566, 3567, 3568, 3569, 3570, 3571, 3572, 3573, 3574, 3575, 3576, 3577, 3578, 3579, 3580, 3581, 3582, 3583, 3584, 3585, 3586, 3587, 3588, 3589, 3590, 3591, 3592, 3593, 3594, 3595, 3596, 3597, 3598, 3599, 3600, 3601, 3602, 3603, 3604, 3605, 3606, 3609, 3610, 3611, 3612, 3613, 3614, 3615, 3616, 3617, 3618, 3619, 3621, 3622, 3623, 3624, 3625, 3626, 3627, 3628, 3629, 3630, 3631, 3632, 3633, 3634, 3635, 3636, 3637, 3638, 3639, 3640, 3641, 3642, 3643, 3644, 3645, 3646, 3647, 3648, 3649, 3650, 3651, 3652, 3653, 3654, 3655, 3656, 3657, 3658, 3659, 3660, 3661, 3662, 3663, 3664, 3665, 3666, 3667, 3668, 3669, 3670, 3671, 3672, 3673, 3674, 3675, 3676, 3677, 3678, 3679, 3680, 3681, 3682, 3683, 3684, 3685, 3686, 3687, 3688, 3689, 3691, 3692, 3693, 3694, 3695, 3696, 3697, 3698, 3699, 3701, 3702, 3703, 3704, 3705, 3706, 3707, 3708, 3709, 3710, 3711, 3712, 3713, 3714, 3715, 3716, 3717, 3718, 3719, 3720, 3721, 3722, 3723, 3724, 3725, 3726, 3727, 3728, 3729, 3730, 3731, 3732, 3733, 3734, 3735, 3736, 3737, 3738, 3739, 3740, 3741, 3742, 3743, 3744, 3745, 3746, 3747, 3748, 3749, 3750, 3751, 3752, 3753, 3754, 3755, 3756, 3757, 3758, 3759, 3760, 3761, 3762, 3763, 3764, 3765, 3766, 3767, 3768, 3769, 3770, 3771, 3773, 3774, 3775, 3776, 3777, 3778, 3779, 3781, 3782, 3783, 3784, 3785, 3786, 3787, 3788, 3789, 3790, 3791, 3792, 3793, 3794, 3795, 3796, 3797, 3798, 3799, 3800, 3801, 3802, 3803, 3804, 3805, 3806, 3807, 3808, 3809, 3810, 3811, 3812, 3813, 3814, 3815, 3816, 3817, 3818, 3819, 3820, 3821, 3822, 3823, 3824, 3825, 3826, 3827, 3828, 3829, 3830, 3831, 3832, 3833, 3834, 3835, 3836, 3837, 3838, 3839, 3840, 3841, 3842, 3843, 3844, 3845, 3846, 3847, 3848, 3849, 3850, 3851, 3852, 3853, 3855, 3856, 3857, 3858, 3859, 3861, 3862, 3863, 3864, 3865, 3866, 3867, 3868, 3869, 3870, 3871, 3872, 3873, 3874, 3875, 3876, 3877, 3878, 3879, 3880, 3881, 3882, 3883, 3884, 3885, 3886, 3887, 3888, 3889, 3890, 3891, 3892, 3893, 3894, 3895, 3896, 3897, 3898, 3899, 3900, 3901, 3902, 3903, 3904, 3905, 3906, 3907, 3908, 3909, 3910, 3911, 3912, 3913, 3914, 3915, 3916, 3917, 3918, 3919, 3920, 3921, 3922, 3923, 3924, 3925, 3926, 3927, 3928, 3929, 3930, 3931, 3932, 3933, 3934, 3935, 3937, 3938, 3939, 3941, 3942, 3943, 3944, 3945, 3946, 3947, 3948, 3949, 3950, 3951, 3952, 3953, 3954, 3955, 3956, 3957, 3958, 3959, 3960, 3961, 3962, 3963, 3964, 3965, 3966, 3967, 3968, 3969, 3970, 3971, 3972, 3973, 3974, 3975, 3976, 3977, 3978, 3979, 3980, 3981, 3982, 3983, 3984, 3985, 3986, 3987, 3988, 3989, 3990, 3991, 3992, 3993, 3994, 3995, 3996, 3997, 3998, 3999, 4000, 4001, 4002, 4003, 4004, 4005, 4006, 4007, 4008, 4009, 4010, 4011, 4012, 4013, 4014, 4015, 4016, 4017, 4021, 4022, 4023, 4024, 4025, 4026, 4027, 4028, 4029, 4030, 4031, 4032, 4033, 4034, 4035, 4036, 4037, 4038, 4039, 4040, 4041, 4042, 4043, 4044, 4045, 4046, 4047, 4048, 4049, 4050, 4051, 4052, 4053, 4054, 4055, 4056, 4057, 4058, 4059, 4060, 4061, 4062, 4063, 4064, 4065, 4066, 4067, 4068, 4069, 4070, 4071, 4072, 4073, 4074, 4075, 4076, 4077, 4078, 4079, 4080, 4081, 4082, 4083, 4084, 4085, 4086, 4087, 4088, 4089, 4090, 4091, 4092, 4093, 4094, 4095, 4096, 4097, 4098, 4102, 4103, 4104, 4105, 4106, 4107, 4108, 4109, 4110, 4111, 4112, 4113, 4114, 4115, 4116, 4117, 4118, 4119, 4120, 4121, 4122, 4123, 4124, 4125, 4126, 4127, 4128, 4129, 4130, 4131, 4132, 4133, 4134, 4135, 4136, 4137, 4138, 4139, 4140, 4141, 4142, 4143, 4144, 4145, 4146, 4147, 4148, 4149, 4150, 4151, 4152, 4153, 4154, 4155, 4156, 4157, 4158, 4159, 4160, 4161, 4162, 4163, 4164, 4165, 4166, 4167, 4168, 4169, 4170, 4171, 4172, 4173, 4174, 4175, 4176, 4177, 4178, 4179, 4184, 4185, 4186, 4187, 4188, 4189, 4190, 4191, 4192, 4193, 4194, 4195, 4196, 4197, 4198, 4199, 4200, 4201, 4202, 4203, 4204, 4205, 4206, 4207, 4208, 4209, 4210, 4211, 4212, 4213, 4214, 4215, 4216, 4217, 4218, 4219, 4220, 4221, 4222, 4223, 4224, 4225, 4226, 4227, 4228, 4229, 4230, 4231, 4232, 4233, 4234, 4235, 4236, 4237, 4238, 4239, 4240, 4241, 4242, 4243, 4244, 4245, 4246, 4247, 4248, 4249, 4250, 4251, 4252, 4253, 4254, 4255, 4256, 4257, 4258, 4259, 4261, 4262, 4267, 4268, 4269, 4270, 4271, 4272, 4273, 4274, 4275, 4276, 4277, 4278, 4279, 4280, 4281, 4282, 4283, 4284, 4285, 4286, 4287, 4288, 4289, 4290, 4291, 4292, 4293, 4294, 4295, 4296, 4297, 4298, 4299, 4300, 4301, 4302, 4303, 4304, 4305, 4306, 4307, 4308, 4309, 4310, 4311, 4312, 4313, 4314, 4315, 4316, 4317, 4318, 4319, 4320, 4321, 4322, 4323, 4324, 4325, 4326, 4327, 4328, 4329, 4330, 4331, 4332, 4333, 4334, 4335, 4336, 4337, 4338, 4339, 4341, 4342, 4343, 4344, 4349, 4350, 4351, 4352, 4353, 4354, 4355, 4356, 4357, 4358, 4359, 4360, 4361, 4362, 4363, 4364, 4365, 4366, 4367, 4368, 4369, 4370, 4371, 4372, 4373, 4374, 4375, 4376, 4377, 4378, 4379, 4380, 4381, 4382, 4383, 4384, 4385, 4386, 4387, 4388, 4389, 4390, 4391, 4392, 4393, 4394, 4395, 4396, 4397, 4398, 4399, 4400, 4401, 4402, 4403, 4404, 4405, 4406, 4407, 4408, 4409, 4410, 4411, 4412, 4413, 4414, 4415, 4416, 4417, 4418, 4419, 4421, 4422, 4423, 4424, 4425, 4426, 4432, 4433, 4434, 4435, 4436, 4437, 4438, 4439, 4440, 4441, 4442, 4443, 4444, 4445, 4446, 4447, 4448, 4449, 4450, 4451, 4452, 4453, 4454, 4455, 4456, 4457, 4458, 4459, 4460, 4461, 4462, 4463, 4464, 4465, 4466, 4467, 4468, 4469, 4470, 4471, 4472, 4473, 4474, 4475, 4476, 4477, 4478, 4479, 4480, 4481, 4482, 4483, 4484, 4485, 4486, 4487, 4488, 4489, 4490, 4491, 4492, 4493, 4494, 4495, 4496, 4497, 4498, 4499, 4501, 4502, 4503, 4504, 4505, 4506, 4507, 4514, 4515, 4516, 4517, 4518, 4519, 4520, 4521, 4522, 4523, 4524, 4525, 4526, 4527, 4528, 4529, 4530, 4531, 4532, 4533, 4534, 4535, 4536, 4537, 4538, 4539, 4540, 4541, 4542, 4543, 4544, 4545, 4546, 4547, 4548, 4549, 4550, 4551, 4552, 4553, 4554, 4555, 4556, 4557, 4558, 4559, 4560, 4561, 4562, 4563, 4564, 4565, 4566, 4567, 4568, 4569, 4570, 4571, 4572, 4573, 4574, 4575, 4576, 4577, 4578, 4579, 4581, 4582, 4583, 4584, 4585, 4586, 4587, 4588, 4589, 4596, 4597, 4598, 4599, 4600, 4601, 4602, 4603, 4604, 4605, 4606, 4607, 4608, 4609, 4610, 4611, 4612, 4613, 4614, 4615, 4616, 4617, 4618, 4619, 4620, 4621, 4622, 4623, 4624, 4625, 4626, 4627, 4628, 4629, 4630, 4631, 4632, 4633, 4634, 4635, 4636, 4637, 4638, 4639, 4640, 4641, 4642, 4643, 4644, 4645, 4646, 4647, 4648, 4649, 4650, 4651, 4652, 4653, 4654, 4655, 4656, 4657, 4658, 4659, 4661, 4662, 4663, 4664, 4665, 4666, 4667, 4668, 4669, 4670, 4671, 4679, 4680, 4681, 4682, 4683, 4684, 4685, 4686, 4687, 4688, 4689, 4690, 4691, 4692, 4693, 4694, 4695, 4696, 4697, 4698, 4699, 4700, 4701, 4702, 4703, 4704, 4705, 4706, 4707, 4708, 4709, 4710, 4711, 4712, 4713, 4714, 4715, 4716, 4717, 4718, 4719, 4720, 4721, 4722, 4723, 4724, 4725, 4726, 4727, 4728, 4729, 4730, 4731, 4732, 4733, 4734, 4735, 4736, 4737, 4738, 4739, 4741, 4742, 4743, 4744, 4745, 4746, 4747, 4748, 4749, 4750, 4751, 4752, 4761, 4762, 4763, 4764, 4765, 4766, 4767, 4768, 4769, 4770, 4771, 4772, 4773, 4774, 4775, 4776, 4777, 4778, 4779, 4780, 4781, 4782, 4783, 4784, 4785, 4786, 4787, 4788, 4789, 4790, 4791, 4792, 4793, 4794, 4795, 4796, 4797, 4798, 4799, 4800, 4801, 4802, 4803, 4804, 4805, 4806, 4807, 4808, 4809, 4810, 4811, 4812, 4813, 4814, 4815, 4816, 4817, 4818, 4819, 4821, 4822, 4823, 4824, 4825, 4826, 4827, 4828, 4829, 4830, 4831, 4832, 4833, 4834, 4844, 4845, 4846, 4847, 4848, 4849, 4850, 4851, 4852, 4853, 4854, 4855, 4856, 4857, 4858, 4859, 4860, 4861, 4862, 4863, 4864, 4865, 4866, 4867, 4868, 4869, 4870, 4871, 4872, 4873, 4874, 4875, 4876, 4877, 4878, 4879, 4880, 4881, 4882, 4883, 4884, 4885, 4886, 4887, 4888, 4889, 4890, 4891, 4892, 4893, 4894, 4895, 4896, 4897, 4898, 4899, 4901, 4902, 4903, 4904, 4905, 4906, 4907, 4908, 4909, 4910, 4911, 4912, 4913, 4914, 4915, 4916, 4926, 4927, 4928, 4929, 4930, 4931, 4932, 4933, 4934, 4935, 4936, 4937, 4938, 4939, 4940, 4941, 4942, 4943, 4944, 4945, 4946, 4947, 4948, 4949, 4950, 4951, 4952, 4953, 4954, 4955, 4956, 4957, 4958, 4959, 4960, 4961, 4962, 4963, 4964, 4965, 4966, 4967, 4968, 4969, 4970, 4971, 4972, 4973, 4974, 4975, 4976, 4977, 4978, 4979, 4981, 4982, 4983, 4984, 4985, 4986, 4987, 4988, 4989, 4990, 4991, 4992, 4993, 4994, 4995, 4996, 4997, 4998, 5008, 5009, 5010, 5011, 5012, 5013, 5014, 5015, 5016, 5017, 5018, 5019, 5020, 5021, 5022, 5023, 5024, 5025, 5026, 5027, 5028, 5029, 5030, 5031, 5032, 5033, 5034, 5035, 5036, 5037, 5038, 5039, 5040, 5041, 5042, 5043, 5044, 5045, 5046, 5047, 5048, 5049, 5050, 5051, 5052, 5053, 5054, 5055, 5056, 5057, 5058, 5059, 5061, 5062, 5063, 5064, 5065, 5066, 5067, 5068, 5069, 5070, 5071, 5072, 5073, 5074, 5075, 5076, 5077, 5078, 5079, 5091, 5092, 5093, 5094, 5095, 5096, 5097, 5098, 5099, 5100, 5101, 5102, 5103, 5104, 5105, 5106, 5107, 5108, 5109, 5110, 5111, 5112, 5113, 5114, 5115, 5116, 5117, 5118, 5119, 5120, 5121, 5122, 5123, 5124, 5125, 5126, 5127, 5128, 5129, 5130, 5131, 5132, 5133, 5134, 5135, 5136, 5137, 5138, 5139, 5141, 5142, 5143, 5144, 5145, 5146, 5147, 5148, 5149, 5150, 5151, 5152, 5153, 5154, 5155, 5156, 5157, 5158, 5159, 5160, 5161, 5173, 5174, 5175, 5176, 5177, 5178, 5179, 5180, 5181, 5182, 5183, 5184, 5185, 5186, 5187, 5188, 5189, 5190, 5191, 5192, 5193, 5194, 5195, 5196, 5197, 5198, 5199, 5200, 5201, 5202, 5203, 5204, 5205, 5206, 5207, 5208, 5209, 5210, 5211, 5212, 5213, 5214, 5215, 5216, 5217, 5218, 5219, 5221, 5222, 5223, 5224, 5225, 5226, 5227, 5228, 5229, 5230, 5231, 5232, 5233, 5234, 5235, 5236, 5237, 5238, 5239, 5240, 5241, 5242, 5243, 5256, 5257, 5258, 5259, 5260, 5261, 5262, 5263, 5264, 5265, 5266, 5267, 5268, 5269, 5270, 5271, 5272, 5273, 5274, 5275, 5276, 5277, 5278, 5279, 5280, 5281, 5282, 5283, 5284, 5285, 5286, 5287, 5288, 5289, 5290, 5291, 5292, 5293, 5294, 5295, 5296, 5297, 5298, 5299, 5301, 5302, 5303, 5304, 5305, 5306, 5307, 5308, 5309, 5310, 5311, 5312, 5313, 5314, 5315, 5316, 5317, 5318, 5319, 5320, 5321, 5322, 5323, 5324, 5325, 5338, 5339, 5340, 5341, 5342, 5343, 5344, 5345, 5346, 5347, 5348, 5349, 5350, 5351, 5352, 5353, 5354, 5355, 5356, 5357, 5358, 5359, 5360, 5361, 5362, 5363, 5364, 5365, 5366, 5367, 5368, 5369, 5370, 5371, 5372, 5373, 5374, 5375, 5376, 5377, 5378, 5379, 5381, 5382, 5383, 5384, 5385, 5386, 5387, 5388, 5389, 5390, 5391, 5392, 5393, 5394, 5395, 5396, 5397, 5398, 5399, 5400, 5401, 5402, 5403, 5404, 5405, 5406, 5421, 5422, 5423, 5424, 5425, 5426, 5427, 5428, 5429, 5430, 5431, 5432, 5433, 5434, 5435, 5436, 5437, 5438, 5439, 5440, 5441, 5442, 5443, 5444, 5445, 5446, 5447, 5448, 5449, 5450, 5451, 5452, 5453, 5454, 5455, 5456, 5457, 5458, 5459, 5461, 5462, 5463, 5464, 5465, 5466, 5467, 5468, 5469, 5470, 5471, 5472, 5473, 5474, 5475, 5476, 5477, 5478, 5479, 5480, 5481, 5482, 5483, 5484, 5485, 5486, 5487, 5488, 5503, 5504, 5505, 5506, 5507, 5508, 5509, 5510, 5511, 5512, 5513, 5514, 5515, 5516, 5517, 5518, 5519, 5520, 5521, 5522, 5523, 5524, 5525, 5526, 5527, 5528, 5529, 5530, 5531, 5532, 5533, 5534, 5535, 5536, 5537, 5538, 5539, 5541, 5542, 5543, 5544, 5545, 5546, 5547, 5548, 5549, 5550, 5551, 5552, 5553, 5554, 5555, 5556, 5557, 5558, 5559, 5560, 5561, 5562, 5563, 5564, 5565, 5566, 5567, 5568, 5569, 5570, 5585, 5586, 5587, 5588, 5589, 5590, 5591, 5592, 5593, 5594, 5595, 5596, 5597, 5598, 5599, 5600, 5601, 5602, 5603, 5604, 5605, 5606, 5607, 5608, 5609, 5610, 5611, 5612, 5613, 5614, 5615, 5616, 5617, 5618, 5619, 5621, 5622, 5623, 5624, 5625, 5626, 5627, 5628, 5629, 5630, 5631, 5632, 5633, 5634, 5635, 5636, 5637, 5638, 5639, 5640, 5641, 5642, 5643, 5644, 5645, 5646, 5647, 5648, 5649, 5650, 5651, 5652, 5668, 5669, 5670, 5671, 5672, 5673, 5674, 5675, 5676, 5677, 5678, 5679, 5680, 5681, 5682, 5683, 5684, 5685, 5686, 5687, 5688, 5689, 5690, 5691, 5692, 5693, 5694, 5695, 5696, 5697, 5698, 5699, 5701, 5702, 5703, 5704, 5705, 5706, 5707, 5708, 5709, 5710, 5711, 5712, 5713, 5714, 5715, 5716, 5717, 5718, 5719, 5720, 5721, 5722, 5723, 5724, 5725, 5726, 5727, 5728, 5729, 5730, 5731, 5732, 5733, 5750, 5751, 5752, 5753, 5754, 5755, 5756, 5757, 5758, 5759, 5760, 5761, 5762, 5763, 5764, 5765, 5766, 5767, 5768, 5769, 5770, 5771, 5772, 5773, 5774, 5775, 5776, 5777, 5778, 5779, 5781, 5782, 5783, 5784, 5785, 5786, 5787, 5788, 5789, 5790, 5791, 5792, 5793, 5794, 5795, 5796, 5797, 5798, 5799, 5800, 5801, 5802, 5803, 5804, 5805, 5806, 5807, 5808, 5809, 5810, 5811, 5812, 5813, 5814, 5815, 5832, 5833, 5834, 5835, 5836, 5837, 5838, 5839, 5840, 5841, 5842, 5843, 5844, 5845, 5846, 5847, 5848, 5849, 5850, 5851, 5852, 5853, 5854, 5855, 5856, 5857, 5858, 5859, 5861, 5862, 5863, 5864, 5865, 5866, 5867, 5868, 5869, 5870, 5871, 5872, 5873, 5874, 5875, 5876, 5877, 5878, 5879, 5880, 5881, 5882, 5883, 5884, 5885, 5886, 5887, 5888, 5889, 5890, 5891, 5892, 5893, 5894, 5895, 5896, 5897, 5913, 5914, 5915, 5916, 5917, 5918, 5919, 5920, 5921, 5922, 5923, 5924, 5925, 5926, 5927, 5928, 5929, 5930, 5931, 5932, 5933, 5934, 5935, 5936, 5937, 5938, 5939, 5941, 5942, 5943, 5944, 5945, 5946, 5947, 5948, 5949, 5950, 5951, 5952, 5953, 5954, 5955, 5956, 5957, 5958, 5959, 5960, 5961, 5962, 5963, 5964, 5965, 5966, 5967, 5968, 5969, 5970, 5971, 5972, 5973, 5974, 5975, 5976, 5977, 5978, 5994, 5995, 5996, 5997, 5998, 5999, 6000, 6001, 6002, 6003, 6004, 6005, 6006, 6007, 6008, 6009, 6010, 6011, 6012, 6013, 6014, 6015, 6016, 6017, 6018, 6019, 6021, 6022, 6023, 6024, 6025, 6026, 6027, 6028, 6029, 6030, 6031, 6032, 6033, 6034, 6035, 6036, 6037, 6038, 6039, 6040, 6041, 6042, 6043, 6044, 6045, 6046, 6047, 6048, 6049, 6050, 6051, 6052, 6053, 6054, 6055, 6056, 6057, 6058, 6059, 6060, 6075, 6076, 6077, 6078, 6079, 6080, 6081, 6082, 6083, 6084, 6085, 6086, 6087, 6088, 6089, 6090, 6091, 6092, 6093, 6094, 6095, 6096, 6097, 6098, 6099, 6101, 6102, 6103, 6104, 6105, 6106, 6107, 6108, 6109, 6110, 6111, 6112, 6113, 6114, 6115, 6116, 6117, 6118, 6119, 6120, 6121, 6122, 6123, 6124, 6125, 6126, 6127, 6128, 6129, 6130, 6131, 6132, 6133, 6134, 6135, 6136, 6137, 6138, 6139, 6140, 6141, 6142, 6156, 6157, 6158, 6159, 6160, 6161, 6162, 6163, 6164, 6165, 6166, 6167, 6168, 6169, 6170, 6171, 6172, 6173, 6174, 6175, 6176, 6177, 6178, 6179, 6181, 6182, 6183, 6184, 6185, 6186, 6187, 6188, 6189, 6190, 6191, 6192, 6193, 6194, 6195, 6196, 6197, 6198, 6199, 6200, 6201, 6202, 6203, 6204, 6205, 6206, 6207, 6208, 6209, 6210, 6211, 6212, 6213, 6214, 6215, 6216, 6217, 6218, 6219, 6220, 6221, 6222, 6223, 6224, 6237, 6238, 6239, 6240, 6241, 6242, 6243, 6244, 6245, 6246, 6247, 6248, 6249, 6250, 6251, 6252, 6253, 6254, 6255, 6256, 6257, 6258, 6259, 6261, 6262, 6263, 6264, 6265, 6266, 6267, 6268, 6269, 6270, 6271, 6272, 6273, 6274, 6275, 6276, 6277, 6278, 6279, 6280, 6281, 6282, 6283, 6284, 6285, 6286, 6287, 6288, 6289, 6290, 6291, 6292, 6293, 6294, 6295, 6296, 6297, 6298, 6299, 6300, 6301, 6302, 6303, 6304, 6305, 6318, 6319, 6320, 6321, 6322, 6323, 6324, 6325, 6326, 6327, 6328, 6329, 6330, 6331, 6332, 6333, 6334, 6335, 6336, 6337, 6338, 6339, 6341, 6342, 6343, 6344, 6345, 6346, 6347, 6348, 6349, 6350, 6351, 6352, 6353, 6354, 6355, 6356, 6357, 6358, 6359, 6360, 6361, 6362, 6363, 6364, 6365, 6366, 6367, 6368, 6369, 6370, 6371, 6372, 6373, 6374, 6375, 6376, 6377, 6378, 6379, 6380, 6381, 6382, 6383, 6384, 6385, 6386, 6387, 6399, 6400, 6401, 6402, 6403, 6404, 6405, 6406, 6407, 6408, 6409, 6410, 6411, 6412, 6413, 6414, 6415, 6416, 6417, 6418, 6419, 6421, 6422, 6423, 6424, 6425, 6426, 6427, 6428, 6429, 6430, 6431, 6432, 6433, 6434, 6435, 6436, 6437, 6438, 6439, 6440, 6441, 6442, 6443, 6444, 6445, 6446, 6447, 6448, 6449, 6450, 6451, 6452, 6453, 6454, 6455, 6456, 6457, 6458, 6459, 6460, 6461, 6462, 6463, 6464, 6465, 6466, 6467, 6468, 6469, 6480, 6481, 6482, 6483, 6484, 6485, 6486, 6487, 6488, 6489, 6490, 6491, 6492, 6493, 6494, 6495, 6496, 6497, 6498, 6499, 6501, 6502, 6503, 6504, 6505, 6506, 6507, 6508, 6509, 6510, 6511, 6512, 6513, 6514, 6515, 6516, 6517, 6518, 6519, 6520, 6521, 6522, 6523, 6524, 6525, 6526, 6527, 6528, 6529, 6530, 6531, 6532, 6533, 6534, 6535, 6536, 6537, 6538, 6539, 6540, 6541, 6542, 6543, 6544, 6545, 6546, 6547, 6548, 6549, 6550, 6551]\n",
      "val ids:  []\n",
      "test ids:  [0, 1, 2, 3, 4, 5, 6, 7, 8, 9, 10, 11, 12, 40, 81, 82, 83, 84, 85, 86, 87, 88, 89, 90, 91, 92, 93, 94, 120, 162, 163, 164, 165, 166, 167, 168, 169, 170, 171, 172, 173, 174, 175, 200, 243, 244, 245, 246, 247, 248, 249, 250, 251, 252, 253, 254, 255, 256, 257, 280, 324, 325, 326, 327, 328, 329, 330, 331, 332, 333, 334, 335, 336, 337, 338, 339, 360, 405, 406, 407, 408, 409, 410, 411, 412, 413, 414, 415, 416, 417, 418, 419, 420, 421, 440, 486, 487, 488, 489, 490, 491, 492, 493, 494, 495, 496, 497, 498, 499, 500, 501, 502, 520, 567, 568, 569, 570, 571, 572, 573, 574, 575, 576, 577, 578, 579, 580, 581, 582, 583, 584, 600, 648, 649, 650, 651, 652, 653, 654, 655, 656, 657, 658, 659, 660, 661, 662, 663, 664, 665, 666, 680, 729, 730, 731, 732, 733, 734, 735, 736, 737, 738, 739, 740, 741, 742, 743, 744, 745, 746, 747, 748, 760, 810, 811, 812, 813, 814, 815, 816, 817, 818, 819, 820, 821, 822, 823, 824, 825, 826, 827, 828, 829, 840, 891, 892, 893, 894, 895, 896, 897, 898, 899, 900, 901, 902, 903, 904, 905, 906, 907, 908, 909, 910, 911, 920, 972, 973, 974, 975, 976, 977, 978, 979, 980, 981, 982, 983, 984, 985, 986, 987, 988, 989, 990, 991, 992, 993, 1000, 1053, 1054, 1055, 1056, 1057, 1058, 1059, 1060, 1061, 1062, 1063, 1064, 1065, 1066, 1067, 1068, 1069, 1070, 1071, 1072, 1073, 1074, 1075, 1080, 1135, 1136, 1137, 1138, 1139, 1140, 1141, 1142, 1143, 1144, 1145, 1146, 1147, 1148, 1149, 1150, 1151, 1152, 1153, 1154, 1155, 1156, 1160, 1217, 1218, 1219, 1220, 1221, 1222, 1223, 1224, 1225, 1226, 1227, 1228, 1229, 1230, 1231, 1232, 1233, 1234, 1235, 1236, 1237, 1238, 1240, 1300, 1301, 1302, 1303, 1304, 1305, 1306, 1307, 1308, 1309, 1310, 1311, 1312, 1313, 1314, 1315, 1316, 1317, 1318, 1319, 1320, 1382, 1383, 1384, 1385, 1386, 1387, 1388, 1389, 1390, 1391, 1392, 1393, 1394, 1395, 1396, 1397, 1398, 1399, 1400, 1401, 1465, 1466, 1467, 1468, 1469, 1470, 1471, 1472, 1473, 1474, 1475, 1476, 1477, 1478, 1479, 1480, 1481, 1482, 1483, 1547, 1548, 1549, 1550, 1551, 1552, 1553, 1554, 1555, 1556, 1557, 1558, 1559, 1560, 1561, 1562, 1563, 1564, 1565, 1629, 1630, 1631, 1632, 1633, 1634, 1635, 1636, 1637, 1638, 1639, 1640, 1641, 1642, 1643, 1644, 1645, 1646, 1647, 1700, 1712, 1713, 1714, 1715, 1716, 1717, 1718, 1719, 1720, 1721, 1722, 1723, 1724, 1725, 1726, 1727, 1728, 1780, 1794, 1795, 1796, 1797, 1798, 1799, 1800, 1801, 1802, 1803, 1804, 1805, 1806, 1807, 1808, 1809, 1810, 1860, 1877, 1878, 1879, 1880, 1881, 1882, 1883, 1884, 1885, 1886, 1887, 1888, 1889, 1890, 1891, 1892, 1940, 1959, 1960, 1961, 1962, 1963, 1964, 1965, 1966, 1967, 1968, 1969, 1970, 1971, 1972, 1973, 1974, 2020, 2040, 2041, 2042, 2043, 2044, 2045, 2046, 2047, 2048, 2049, 2050, 2051, 2052, 2053, 2054, 2055, 2100, 2120, 2124, 2125, 2126, 2127, 2128, 2129, 2130, 2131, 2132, 2133, 2134, 2135, 2136, 2137, 2180, 2200, 2206, 2207, 2208, 2209, 2210, 2211, 2212, 2213, 2214, 2215, 2216, 2217, 2218, 2219, 2260, 2280, 2289, 2290, 2291, 2292, 2293, 2294, 2295, 2296, 2297, 2298, 2299, 2300, 2340, 2360, 2371, 2372, 2373, 2374, 2375, 2376, 2377, 2378, 2379, 2380, 2381, 2382, 2420, 2440, 2454, 2455, 2456, 2457, 2458, 2459, 2460, 2461, 2462, 2463, 2464, 2500, 2520, 2536, 2537, 2538, 2539, 2540, 2541, 2542, 2543, 2544, 2545, 2546, 2580, 2600, 2618, 2619, 2620, 2621, 2622, 2623, 2624, 2625, 2626, 2627, 2660, 2680, 2701, 2702, 2703, 2704, 2705, 2706, 2707, 2708, 2709, 2740, 2760, 2783, 2784, 2785, 2786, 2787, 2788, 2789, 2790, 2791, 2820, 2840, 2866, 2867, 2868, 2869, 2870, 2871, 2872, 2873, 2900, 2920, 2948, 2949, 2950, 2951, 2952, 2953, 2954, 2980, 3000, 3030, 3031, 3032, 3033, 3034, 3035, 3036, 3060, 3080, 3113, 3114, 3115, 3116, 3117, 3118, 3140, 3160, 3195, 3196, 3197, 3198, 3199, 3200, 3220, 3240, 3278, 3279, 3280, 3281, 3300, 3360, 3361, 3362, 3363, 3380, 3443, 3444, 3445, 3460, 3525, 3526, 3540, 3607, 3608, 3620, 3690, 3700, 3772, 3780, 3854, 3860, 3936, 3940, 4018, 4019, 4020, 4099, 4100, 4101, 4180, 4181, 4182, 4183, 4260, 4263, 4264, 4265, 4266, 4340, 4345, 4346, 4347, 4348, 4420, 4427, 4428, 4429, 4430, 4431, 4500, 4508, 4509, 4510, 4511, 4512, 4513, 4580, 4590, 4591, 4592, 4593, 4594, 4595, 4660, 4672, 4673, 4674, 4675, 4676, 4677, 4678, 4740, 4753, 4754, 4755, 4756, 4757, 4758, 4759, 4760, 4820, 4835, 4836, 4837, 4838, 4839, 4840, 4841, 4842, 4843, 4900, 4917, 4918, 4919, 4920, 4921, 4922, 4923, 4924, 4925, 4980, 4999, 5000, 5001, 5002, 5003, 5004, 5005, 5006, 5007, 5060, 5080, 5081, 5082, 5083, 5084, 5085, 5086, 5087, 5088, 5089, 5090, 5140, 5162, 5163, 5164, 5165, 5166, 5167, 5168, 5169, 5170, 5171, 5172, 5220, 5244, 5245, 5246, 5247, 5248, 5249, 5250, 5251, 5252, 5253, 5254, 5255, 5300, 5326, 5327, 5328, 5329, 5330, 5331, 5332, 5333, 5334, 5335, 5336, 5337, 5380, 5407, 5408, 5409, 5410, 5411, 5412, 5413, 5414, 5415, 5416, 5417, 5418, 5419, 5420, 5460, 5489, 5490, 5491, 5492, 5493, 5494, 5495, 5496, 5497, 5498, 5499, 5500, 5501, 5502, 5540, 5571, 5572, 5573, 5574, 5575, 5576, 5577, 5578, 5579, 5580, 5581, 5582, 5583, 5584, 5620, 5653, 5654, 5655, 5656, 5657, 5658, 5659, 5660, 5661, 5662, 5663, 5664, 5665, 5666, 5667, 5700, 5734, 5735, 5736, 5737, 5738, 5739, 5740, 5741, 5742, 5743, 5744, 5745, 5746, 5747, 5748, 5749, 5780, 5816, 5817, 5818, 5819, 5820, 5821, 5822, 5823, 5824, 5825, 5826, 5827, 5828, 5829, 5830, 5831, 5860, 5898, 5899, 5900, 5901, 5902, 5903, 5904, 5905, 5906, 5907, 5908, 5909, 5910, 5911, 5912, 5940, 5979, 5980, 5981, 5982, 5983, 5984, 5985, 5986, 5987, 5988, 5989, 5990, 5991, 5992, 5993, 6020, 6061, 6062, 6063, 6064, 6065, 6066, 6067, 6068, 6069, 6070, 6071, 6072, 6073, 6074, 6100, 6143, 6144, 6145, 6146, 6147, 6148, 6149, 6150, 6151, 6152, 6153, 6154, 6155, 6180, 6225, 6226, 6227, 6228, 6229, 6230, 6231, 6232, 6233, 6234, 6235, 6236, 6260, 6306, 6307, 6308, 6309, 6310, 6311, 6312, 6313, 6314, 6315, 6316, 6317, 6340, 6388, 6389, 6390, 6391, 6392, 6393, 6394, 6395, 6396, 6397, 6398, 6420, 6470, 6471, 6472, 6473, 6474, 6475, 6476, 6477, 6478, 6479, 6500, 6552, 6553, 6554, 6555, 6556, 6557, 6558, 6559, 6560]\n",
      "CPU times: user 141 ms, sys: 28.1 ms, total: 169 ms\n",
      "Wall time: 168 ms\n"
     ]
    }
   ],
   "source": [
    "%%time\n",
    "n_total = len(simulation.dataframe)\n",
    "n_train = len(simulation.dataframe[simulation.dataframe.type_of == \"train\"])\n",
    "n_val = len(simulation.dataframe[simulation.dataframe.type_of == \"val\"])\n",
    "n_test = len(simulation.dataframe[simulation.dataframe.type_of == \"test\"])\n",
    "n_train_hamiltonians = len(simulation.train_ids)\n",
    "n_val_hamiltonians = len(simulation.val_ids)\n",
    "n_test_hamiltonians = len(simulation.test_ids)\n",
    "n_total_hamiltonians = n_train_hamiltonians + n_val_hamiltonians + n_test_hamiltonians\n",
    "\n",
    "print(\"% train: \", n_train/n_total)\n",
    "print(\"% val: \",  n_val/n_total)\n",
    "print(\"% test: \", n_test/n_total)\n",
    "print(\"% train + val + test: \", (n_train+n_val+n_test)/n_total)\n",
    "print(\"\\n\")\n",
    "print(\"number of train hamiltonians: \", n_train_hamiltonians)\n",
    "print(\"number of val hamiltonians: \", n_val_hamiltonians)\n",
    "print(\"number of test hamiltonians: \", n_test_hamiltonians)\n",
    "print(\"total number of hamiltonians: \", n_total_hamiltonians)\n",
    "print(\"\\n\")\n",
    "print(\"train ids: \", simulation.train_ids)\n",
    "print(\"val ids: \", simulation.val_ids)\n",
    "print(\"test ids: \", simulation.test_ids)"
   ]
  },
  {
   "cell_type": "markdown",
   "metadata": {
    "papermill": {
     "duration": 0.016838,
     "end_time": "2020-07-09T08:14:16.339018",
     "exception": false,
     "start_time": "2020-07-09T08:14:16.322180",
     "status": "completed"
    },
    "tags": []
   },
   "source": [
    "## Running a simulation"
   ]
  },
  {
   "cell_type": "code",
   "execution_count": 23,
   "metadata": {
    "execution": {
     "iopub.execute_input": "2020-07-09T08:14:16.378362Z",
     "iopub.status.busy": "2020-07-09T08:14:16.378055Z",
     "iopub.status.idle": "2020-07-09T08:15:38.776052Z",
     "shell.execute_reply": "2020-07-09T08:15:38.775736Z"
    },
    "papermill": {
     "duration": 82.419425,
     "end_time": "2020-07-09T08:15:38.776101",
     "exception": false,
     "start_time": "2020-07-09T08:14:16.356676",
     "status": "completed"
    },
    "tags": []
   },
   "outputs": [
    {
     "name": "stderr",
     "output_type": "stream",
     "text": [
      "\r",
      "running experiments:   0%|          | 0/5 [00:00<?, ?it/s]"
     ]
    },
    {
     "name": "stderr",
     "output_type": "stream",
     "text": [
      "\r",
      "running experiments:  20%|██        | 1/5 [00:16<01:05, 16.43s/it]"
     ]
    },
    {
     "name": "stderr",
     "output_type": "stream",
     "text": [
      "\r",
      "running experiments:  40%|████      | 2/5 [00:32<00:49, 16.37s/it]"
     ]
    },
    {
     "name": "stderr",
     "output_type": "stream",
     "text": [
      "\r",
      "running experiments:  60%|██████    | 3/5 [00:49<00:32, 16.38s/it]"
     ]
    },
    {
     "name": "stderr",
     "output_type": "stream",
     "text": [
      "\r",
      "running experiments:  80%|████████  | 4/5 [01:05<00:16, 16.45s/it]"
     ]
    },
    {
     "name": "stderr",
     "output_type": "stream",
     "text": [
      "\r",
      "running experiments: 100%|██████████| 5/5 [01:22<00:00, 16.53s/it]"
     ]
    },
    {
     "name": "stderr",
     "output_type": "stream",
     "text": [
      "\r",
      "running experiments: 100%|██████████| 5/5 [01:22<00:00, 16.48s/it]"
     ]
    },
    {
     "name": "stdout",
     "output_type": "stream",
     "text": [
      "CPU times: user 8min 43s, sys: 706 ms, total: 8min 44s\n",
      "Wall time: 1min 22s\n"
     ]
    },
    {
     "name": "stderr",
     "output_type": "stream",
     "text": [
      "\n"
     ]
    }
   ],
   "source": [
    "%%time\n",
    "simulation.run_simulation(n_experiments, start_n, fit_params,shuffle_rows, pred_params, random_features, \\\n",
    "                          store_in_lists, save_eigenvector, save_hamiltonian, save_accuracy,\\\n",
    "                          save_models)\n",
    "if simulation.fourier_mode is not None:\n",
    "    simulation.fourier_dataframe.head(10)"
   ]
  },
  {
   "cell_type": "code",
   "execution_count": 24,
   "metadata": {
    "execution": {
     "iopub.execute_input": "2020-07-09T08:15:38.820996Z",
     "iopub.status.busy": "2020-07-09T08:15:38.820657Z",
     "iopub.status.idle": "2020-07-09T08:15:38.854917Z",
     "shell.execute_reply": "2020-07-09T08:15:38.854357Z"
    },
    "papermill": {
     "duration": 0.059372,
     "end_time": "2020-07-09T08:15:38.855000",
     "exception": false,
     "start_time": "2020-07-09T08:15:38.795628",
     "status": "completed"
    },
    "tags": []
   },
   "outputs": [
    {
     "data": {
      "text/html": [
       "<div>\n",
       "<style scoped>\n",
       "    .dataframe tbody tr th:only-of-type {\n",
       "        vertical-align: middle;\n",
       "    }\n",
       "\n",
       "    .dataframe tbody tr th {\n",
       "        vertical-align: top;\n",
       "    }\n",
       "\n",
       "    .dataframe thead th {\n",
       "        text-align: right;\n",
       "    }\n",
       "</style>\n",
       "<table border=\"1\" class=\"dataframe\">\n",
       "  <thead>\n",
       "    <tr style=\"text-align: right;\">\n",
       "      <th></th>\n",
       "      <th>id</th>\n",
       "      <th>path</th>\n",
       "      <th>t1</th>\n",
       "      <th>t2</th>\n",
       "      <th>winding</th>\n",
       "      <th>phase</th>\n",
       "      <th>pred_phase</th>\n",
       "      <th>type_of</th>\n",
       "      <th>feat0</th>\n",
       "      <th>feat1</th>\n",
       "      <th>...</th>\n",
       "      <th>feat90</th>\n",
       "      <th>feat91</th>\n",
       "      <th>feat92</th>\n",
       "      <th>feat93</th>\n",
       "      <th>feat94</th>\n",
       "      <th>feat95</th>\n",
       "      <th>feat96</th>\n",
       "      <th>feat97</th>\n",
       "      <th>feat98</th>\n",
       "      <th>feat99</th>\n",
       "    </tr>\n",
       "  </thead>\n",
       "  <tbody>\n",
       "    <tr>\n",
       "      <th>0</th>\n",
       "      <td>0</td>\n",
       "      <td>H_-2_-2_0.501338.dat</td>\n",
       "      <td>-2.0</td>\n",
       "      <td>-2.0</td>\n",
       "      <td>0.501338</td>\n",
       "      <td>999</td>\n",
       "      <td>666</td>\n",
       "      <td>test</td>\n",
       "      <td>-0.130965</td>\n",
       "      <td>0.301130</td>\n",
       "      <td>...</td>\n",
       "      <td>-0.080279</td>\n",
       "      <td>-0.115687</td>\n",
       "      <td>-0.174988</td>\n",
       "      <td>0.245064</td>\n",
       "      <td>0.319763</td>\n",
       "      <td>-0.059082</td>\n",
       "      <td>-0.000556</td>\n",
       "      <td>-0.245133</td>\n",
       "      <td>-0.301130</td>\n",
       "      <td>0.130965</td>\n",
       "    </tr>\n",
       "    <tr>\n",
       "      <th>1</th>\n",
       "      <td>0</td>\n",
       "      <td>H_-2_-2_0.501338.dat</td>\n",
       "      <td>-2.0</td>\n",
       "      <td>-2.0</td>\n",
       "      <td>0.501338</td>\n",
       "      <td>999</td>\n",
       "      <td>666</td>\n",
       "      <td>test</td>\n",
       "      <td>-0.130965</td>\n",
       "      <td>-0.301130</td>\n",
       "      <td>...</td>\n",
       "      <td>-0.080279</td>\n",
       "      <td>0.115687</td>\n",
       "      <td>-0.174988</td>\n",
       "      <td>-0.245064</td>\n",
       "      <td>0.319763</td>\n",
       "      <td>0.059082</td>\n",
       "      <td>-0.000556</td>\n",
       "      <td>0.245133</td>\n",
       "      <td>-0.301130</td>\n",
       "      <td>-0.130965</td>\n",
       "    </tr>\n",
       "    <tr>\n",
       "      <th>2</th>\n",
       "      <td>0</td>\n",
       "      <td>H_-2_-2_0.501338.dat</td>\n",
       "      <td>-2.0</td>\n",
       "      <td>-2.0</td>\n",
       "      <td>0.501338</td>\n",
       "      <td>999</td>\n",
       "      <td>666</td>\n",
       "      <td>test</td>\n",
       "      <td>-0.148414</td>\n",
       "      <td>-0.042467</td>\n",
       "      <td>...</td>\n",
       "      <td>0.185442</td>\n",
       "      <td>-0.080620</td>\n",
       "      <td>-0.066211</td>\n",
       "      <td>-0.121339</td>\n",
       "      <td>-0.151700</td>\n",
       "      <td>0.192513</td>\n",
       "      <td>0.191642</td>\n",
       "      <td>-0.050956</td>\n",
       "      <td>-0.042467</td>\n",
       "      <td>-0.148414</td>\n",
       "    </tr>\n",
       "    <tr>\n",
       "      <th>3</th>\n",
       "      <td>0</td>\n",
       "      <td>H_-2_-2_0.501338.dat</td>\n",
       "      <td>-2.0</td>\n",
       "      <td>-2.0</td>\n",
       "      <td>0.501338</td>\n",
       "      <td>999</td>\n",
       "      <td>666</td>\n",
       "      <td>test</td>\n",
       "      <td>-0.069630</td>\n",
       "      <td>-0.026147</td>\n",
       "      <td>...</td>\n",
       "      <td>0.102009</td>\n",
       "      <td>-0.100671</td>\n",
       "      <td>-0.081002</td>\n",
       "      <td>-0.020715</td>\n",
       "      <td>-0.058717</td>\n",
       "      <td>0.115834</td>\n",
       "      <td>0.118274</td>\n",
       "      <td>-0.054666</td>\n",
       "      <td>-0.026147</td>\n",
       "      <td>-0.069630</td>\n",
       "    </tr>\n",
       "    <tr>\n",
       "      <th>4</th>\n",
       "      <td>0</td>\n",
       "      <td>H_-2_-2_0.501338.dat</td>\n",
       "      <td>-2.0</td>\n",
       "      <td>-2.0</td>\n",
       "      <td>0.501338</td>\n",
       "      <td>999</td>\n",
       "      <td>666</td>\n",
       "      <td>test</td>\n",
       "      <td>0.010206</td>\n",
       "      <td>-0.014625</td>\n",
       "      <td>...</td>\n",
       "      <td>0.047555</td>\n",
       "      <td>-0.041368</td>\n",
       "      <td>-0.018852</td>\n",
       "      <td>-0.017673</td>\n",
       "      <td>-0.023377</td>\n",
       "      <td>0.031447</td>\n",
       "      <td>0.010280</td>\n",
       "      <td>0.000925</td>\n",
       "      <td>0.014625</td>\n",
       "      <td>-0.010206</td>\n",
       "    </tr>\n",
       "    <tr>\n",
       "      <th>5</th>\n",
       "      <td>0</td>\n",
       "      <td>H_-2_-2_0.501338.dat</td>\n",
       "      <td>-2.0</td>\n",
       "      <td>-2.0</td>\n",
       "      <td>0.501338</td>\n",
       "      <td>999</td>\n",
       "      <td>666</td>\n",
       "      <td>test</td>\n",
       "      <td>0.116962</td>\n",
       "      <td>0.021475</td>\n",
       "      <td>...</td>\n",
       "      <td>-0.086901</td>\n",
       "      <td>-0.045676</td>\n",
       "      <td>-0.028034</td>\n",
       "      <td>0.129266</td>\n",
       "      <td>0.130083</td>\n",
       "      <td>-0.098190</td>\n",
       "      <td>-0.104188</td>\n",
       "      <td>-0.007911</td>\n",
       "      <td>0.021475</td>\n",
       "      <td>0.116962</td>\n",
       "    </tr>\n",
       "    <tr>\n",
       "      <th>6</th>\n",
       "      <td>0</td>\n",
       "      <td>H_-2_-2_0.501338.dat</td>\n",
       "      <td>-2.0</td>\n",
       "      <td>-2.0</td>\n",
       "      <td>0.501338</td>\n",
       "      <td>999</td>\n",
       "      <td>666</td>\n",
       "      <td>test</td>\n",
       "      <td>0.037175</td>\n",
       "      <td>-0.095882</td>\n",
       "      <td>...</td>\n",
       "      <td>-0.027490</td>\n",
       "      <td>0.046168</td>\n",
       "      <td>0.063419</td>\n",
       "      <td>-0.041630</td>\n",
       "      <td>-0.085769</td>\n",
       "      <td>-0.010604</td>\n",
       "      <td>-0.009822</td>\n",
       "      <td>0.084024</td>\n",
       "      <td>0.095882</td>\n",
       "      <td>-0.037175</td>\n",
       "    </tr>\n",
       "    <tr>\n",
       "      <th>7</th>\n",
       "      <td>0</td>\n",
       "      <td>H_-2_-2_0.501338.dat</td>\n",
       "      <td>-2.0</td>\n",
       "      <td>-2.0</td>\n",
       "      <td>0.501338</td>\n",
       "      <td>999</td>\n",
       "      <td>666</td>\n",
       "      <td>test</td>\n",
       "      <td>0.027709</td>\n",
       "      <td>-0.038180</td>\n",
       "      <td>...</td>\n",
       "      <td>0.123344</td>\n",
       "      <td>-0.114320</td>\n",
       "      <td>-0.057118</td>\n",
       "      <td>-0.040291</td>\n",
       "      <td>-0.061263</td>\n",
       "      <td>0.087153</td>\n",
       "      <td>0.029599</td>\n",
       "      <td>-0.001276</td>\n",
       "      <td>0.038180</td>\n",
       "      <td>-0.027709</td>\n",
       "    </tr>\n",
       "    <tr>\n",
       "      <th>8</th>\n",
       "      <td>0</td>\n",
       "      <td>H_-2_-2_0.501338.dat</td>\n",
       "      <td>-2.0</td>\n",
       "      <td>-2.0</td>\n",
       "      <td>0.501338</td>\n",
       "      <td>999</td>\n",
       "      <td>666</td>\n",
       "      <td>test</td>\n",
       "      <td>0.059795</td>\n",
       "      <td>0.030272</td>\n",
       "      <td>...</td>\n",
       "      <td>-0.082347</td>\n",
       "      <td>0.140996</td>\n",
       "      <td>0.128386</td>\n",
       "      <td>-0.036608</td>\n",
       "      <td>0.029628</td>\n",
       "      <td>-0.124877</td>\n",
       "      <td>-0.140478</td>\n",
       "      <td>0.088573</td>\n",
       "      <td>0.030272</td>\n",
       "      <td>0.059795</td>\n",
       "    </tr>\n",
       "    <tr>\n",
       "      <th>9</th>\n",
       "      <td>0</td>\n",
       "      <td>H_-2_-2_0.501338.dat</td>\n",
       "      <td>-2.0</td>\n",
       "      <td>-2.0</td>\n",
       "      <td>0.501338</td>\n",
       "      <td>999</td>\n",
       "      <td>666</td>\n",
       "      <td>test</td>\n",
       "      <td>0.141605</td>\n",
       "      <td>0.013497</td>\n",
       "      <td>...</td>\n",
       "      <td>-0.035718</td>\n",
       "      <td>-0.110014</td>\n",
       "      <td>-0.082452</td>\n",
       "      <td>0.146084</td>\n",
       "      <td>0.152588</td>\n",
       "      <td>-0.067575</td>\n",
       "      <td>-0.087187</td>\n",
       "      <td>-0.043484</td>\n",
       "      <td>0.013497</td>\n",
       "      <td>0.141605</td>\n",
       "    </tr>\n",
       "  </tbody>\n",
       "</table>\n",
       "<p>10 rows × 108 columns</p>\n",
       "</div>"
      ],
      "text/plain": [
       "   id                  path   t1   t2   winding  phase  pred_phase type_of  \\\n",
       "0   0  H_-2_-2_0.501338.dat -2.0 -2.0  0.501338    999         666    test   \n",
       "1   0  H_-2_-2_0.501338.dat -2.0 -2.0  0.501338    999         666    test   \n",
       "2   0  H_-2_-2_0.501338.dat -2.0 -2.0  0.501338    999         666    test   \n",
       "3   0  H_-2_-2_0.501338.dat -2.0 -2.0  0.501338    999         666    test   \n",
       "4   0  H_-2_-2_0.501338.dat -2.0 -2.0  0.501338    999         666    test   \n",
       "5   0  H_-2_-2_0.501338.dat -2.0 -2.0  0.501338    999         666    test   \n",
       "6   0  H_-2_-2_0.501338.dat -2.0 -2.0  0.501338    999         666    test   \n",
       "7   0  H_-2_-2_0.501338.dat -2.0 -2.0  0.501338    999         666    test   \n",
       "8   0  H_-2_-2_0.501338.dat -2.0 -2.0  0.501338    999         666    test   \n",
       "9   0  H_-2_-2_0.501338.dat -2.0 -2.0  0.501338    999         666    test   \n",
       "\n",
       "      feat0     feat1  ...    feat90    feat91    feat92    feat93    feat94  \\\n",
       "0 -0.130965  0.301130  ... -0.080279 -0.115687 -0.174988  0.245064  0.319763   \n",
       "1 -0.130965 -0.301130  ... -0.080279  0.115687 -0.174988 -0.245064  0.319763   \n",
       "2 -0.148414 -0.042467  ...  0.185442 -0.080620 -0.066211 -0.121339 -0.151700   \n",
       "3 -0.069630 -0.026147  ...  0.102009 -0.100671 -0.081002 -0.020715 -0.058717   \n",
       "4  0.010206 -0.014625  ...  0.047555 -0.041368 -0.018852 -0.017673 -0.023377   \n",
       "5  0.116962  0.021475  ... -0.086901 -0.045676 -0.028034  0.129266  0.130083   \n",
       "6  0.037175 -0.095882  ... -0.027490  0.046168  0.063419 -0.041630 -0.085769   \n",
       "7  0.027709 -0.038180  ...  0.123344 -0.114320 -0.057118 -0.040291 -0.061263   \n",
       "8  0.059795  0.030272  ... -0.082347  0.140996  0.128386 -0.036608  0.029628   \n",
       "9  0.141605  0.013497  ... -0.035718 -0.110014 -0.082452  0.146084  0.152588   \n",
       "\n",
       "     feat95    feat96    feat97    feat98    feat99  \n",
       "0 -0.059082 -0.000556 -0.245133 -0.301130  0.130965  \n",
       "1  0.059082 -0.000556  0.245133 -0.301130 -0.130965  \n",
       "2  0.192513  0.191642 -0.050956 -0.042467 -0.148414  \n",
       "3  0.115834  0.118274 -0.054666 -0.026147 -0.069630  \n",
       "4  0.031447  0.010280  0.000925  0.014625 -0.010206  \n",
       "5 -0.098190 -0.104188 -0.007911  0.021475  0.116962  \n",
       "6 -0.010604 -0.009822  0.084024  0.095882 -0.037175  \n",
       "7  0.087153  0.029599 -0.001276  0.038180 -0.027709  \n",
       "8 -0.124877 -0.140478  0.088573  0.030272  0.059795  \n",
       "9 -0.067575 -0.087187 -0.043484  0.013497  0.141605  \n",
       "\n",
       "[10 rows x 108 columns]"
      ]
     },
     "execution_count": 24,
     "metadata": {},
     "output_type": "execute_result"
    }
   ],
   "source": [
    "simulation.dataframe.head(10)"
   ]
  },
  {
   "cell_type": "markdown",
   "metadata": {
    "papermill": {
     "duration": 0.028918,
     "end_time": "2020-07-09T08:15:38.922161",
     "exception": false,
     "start_time": "2020-07-09T08:15:38.893243",
     "status": "completed"
    },
    "tags": []
   },
   "source": [
    "#### Viewing a random sample"
   ]
  },
  {
   "cell_type": "code",
   "execution_count": 25,
   "metadata": {
    "execution": {
     "iopub.execute_input": "2020-07-09T08:15:38.967809Z",
     "iopub.status.busy": "2020-07-09T08:15:38.967488Z",
     "iopub.status.idle": "2020-07-09T08:15:39.000358Z",
     "shell.execute_reply": "2020-07-09T08:15:39.000632Z"
    },
    "papermill": {
     "duration": 0.058155,
     "end_time": "2020-07-09T08:15:39.000703",
     "exception": false,
     "start_time": "2020-07-09T08:15:38.942548",
     "status": "completed"
    },
    "tags": []
   },
   "outputs": [
    {
     "name": "stdout",
     "output_type": "stream",
     "text": [
      "CPU times: user 22.2 ms, sys: 0 ns, total: 22.2 ms\n",
      "Wall time: 22 ms\n"
     ]
    }
   ],
   "source": [
    "%%time\n",
    "if simulation.fourier_mode is not None:\n",
    "    simulation.fourier_dataframe.sample(frac=0.1, replace=False)"
   ]
  },
  {
   "cell_type": "markdown",
   "metadata": {
    "papermill": {
     "duration": 0.039257,
     "end_time": "2020-07-09T08:15:39.064942",
     "exception": false,
     "start_time": "2020-07-09T08:15:39.025685",
     "status": "completed"
    },
    "tags": []
   },
   "source": [
    "#### Checking train/val/test splits again"
   ]
  },
  {
   "cell_type": "code",
   "execution_count": 26,
   "metadata": {
    "execution": {
     "iopub.execute_input": "2020-07-09T08:15:39.138711Z",
     "iopub.status.busy": "2020-07-09T08:15:39.138366Z",
     "iopub.status.idle": "2020-07-09T08:15:39.395666Z",
     "shell.execute_reply": "2020-07-09T08:15:39.395979Z"
    },
    "papermill": {
     "duration": 0.288857,
     "end_time": "2020-07-09T08:15:39.396046",
     "exception": false,
     "start_time": "2020-07-09T08:15:39.107189",
     "status": "completed"
    },
    "tags": []
   },
   "outputs": [
    {
     "name": "stdout",
     "output_type": "stream",
     "text": [
      "% train:  0.4208199969516842\n",
      "% val:  0.42066758116140834\n",
      "% test:  0.15851242188690748\n",
      "% train + val + test:  1.0\n",
      "\n",
      "\n",
      "number of train hamiltonians:  2761\n",
      "number of val hamiltonians:  2760\n",
      "number of test hamiltonians:  1040\n",
      "total number of hamiltonians:  6561\n",
      "\n",
      "\n",
      "train ids:  [2482, 2889, 4679, 4807, 3265, 1493, 4478, 1516, 3812, 679, 3159, 5322, 809, 6376, 2034, 4301, 2319, 3008, 205, 4188, 2629, 293, 4104, 2266, 3251, 3696, 1100, 4877, 1767, 3553, 3919, 6528, 1681, 5732, 6175, 466, 3961, 3534, 5616, 4353, 4379, 1517, 1134, 2076, 4172, 1838, 6462, 4116, 2759, 797, 3535, 3182, 5756, 5157, 523, 1778, 3982, 61, 1087, 4356, 5243, 4424, 2338, 530, 4665, 1407, 4268, 2811, 5486, 5459, 2265, 3706, 4036, 4546, 5890, 394, 2514, 3786, 3367, 1250, 5310, 3379, 2877, 6341, 5520, 2170, 6442, 4793, 1356, 3752, 461, 1445, 2179, 3311, 1507, 2833, 1522, 1412, 2430, 6533, 4003, 3749, 5305, 6450, 1200, 1625, 4014, 1876, 4774, 2725, 2654, 4628, 6137, 153, 952, 1011, 4523, 3489, 4409, 2558, 1821, 123, 5593, 5205, 118, 4892, 2644, 2744, 3029, 5194, 2119, 3213, 3800, 586, 4945, 5599, 1084, 457, 5353, 5597, 529, 4053, 2358, 6350, 619, 3105, 3073, 2986, 5485, 2852, 4521, 685, 6548, 2281, 3079, 5915, 5537, 698, 3420, 2947, 2226, 2718, 705, 563, 2168, 4484, 4091, 6544, 5475, 3653, 3863, 4585, 604, 1111, 1846, 4868, 2204, 694, 5093, 1862, 4864, 6485, 1196, 1357, 4119, 2771, 3715, 4700, 219, 6157, 2679, 1101, 4617, 995, 4024, 3673, 3093, 2079, 4328, 3630, 6200, 2712, 4444, 2004, 2279, 5846, 2106, 1372, 3066, 4528, 1354, 2974, 4443, 796, 3269, 4814, 2196, 5432, 6449, 5550, 5137, 5850, 6344, 2613, 4402, 6176, 3158, 887, 3736, 6079, 4305, 5568, 5114, 399, 222, 5153, 3466, 4035, 2102, 6282, 201, 5427, 1425, 6551, 1083, 1580, 3473, 4849, 4277, 5234, 1371, 2229, 4683, 6460, 1776, 5482, 2406, 2753, 1648, 5120, 4562, 2856, 1865, 4306, 5640, 1333, 3101, 3818, 6441, 1492, 1533, 5618, 189, 4011, 122, 1690, 3068, 1822, 4801, 1773, 4913, 267, 6304, 114, 3355, 1431, 3063, 4830, 4244, 807, 1601, 1415, 4033, 3400, 364, 4564, 3186, 286, 6382, 5051, 367, 4284, 5684, 1532, 3795, 3886, 2861, 5457, 3571, 4566, 1426, 3440, 693, 5790, 3855, 4869, 1271, 4032, 6184, 3597, 2441, 2088, 2762, 3471, 3705, 3274, 4622, 4136, 6045, 4147, 1749, 5064, 4248, 2825, 4815, 608, 5764, 5603, 2253, 4967, 5974, 6202, 831, 3758, 4515, 3661, 2496, 1684, 3411, 4867, 5526, 5274, 3991, 3867, 4090, 2677, 128, 1670, 1768, 1259, 1370, 3670, 2002, 4229, 525, 3881, 3793, 4553, 2086, 115, 4302, 626, 1013, 1709, 3933, 2573, 3331, 1216, 1256, 4802, 1519, 4163, 2419, 4396, 1835, 4199, 6090, 5615, 4300, 197, 297, 2929, 2357, 1696, 4825, 5222, 4653, 1044, 3962, 3245, 3112, 3576, 6370, 3483, 5444, 2666, 857, 6103, 2490, 2645, 52, 3963, 3845, 5866, 6299, 1991, 3447, 5633, 3098, 528, 4573, 4960, 2418, 2978, 311, 3404, 4047, 221, 6215, 1104, 6132, 2576, 4932, 3078, 4474, 5402, 2448, 2010, 3505, 3375, 2414, 80, 6089, 610, 185, 2610, 50, 1021, 108, 4127, 774, 1758, 5118, 830, 3911, 1405, 4492, 4833, 4175, 2433, 3500, 2390, 3356, 184, 5608, 3938, 5068, 6052, 6369, 756, 5438, 6504, 1948, 3194, 2364, 5976, 624, 437, 611, 2183, 2605, 4530, 4323, 1597, 4227, 5914, 5196, 5635, 6017, 5038, 5528, 2913, 4161, 2519, 4965, 3102, 229, 687, 5932, 3861, 211, 1540, 5531, 2572, 195, 268, 454, 4354, 4042, 5184, 1812, 2116, 5446, 5686, 5025, 4322, 3827, 5712, 2689, 1189, 5720, 5771, 4791, 2883, 749, 4552, 2587, 6490, 4092, 4684, 4021, 3007, 6185, 4831, 1736, 3560, 2776, 1763, 1702, 4748, 942, 2250, 4619, 4383, 5481, 3261, 1018, 2149, 6495, 3789, 6251, 3719, 5729, 3825, 700, 4536, 5714, 161, 5617, 4221, 2733, 2329, 361, 707, 2342, 3470, 4122, 5895, 6032, 1498, 5264, 6097, 3322, 6259, 5630, 6252, 4369, 2968, 5685, 6000, 1359, 2247, 3769, 2958, 2911, 6156, 3354, 4705, 1992, 867, 2203, 3585, 294, 4623, 3221, 1239, 1170, 352, 929, 3612, 480, 5510, 3849, 2798, 2486, 4816, 4058, 3391, 1760, 2472, 6024, 475, 2609, 6505, 3089, 5133, 3181, 32, 1894, 2056, 1188, 3629, 5075, 4714, 6174, 388, 1694, 1599, 3026, 3539, 1178, 6334, 2532, 2854, 5241, 1518, 4659, 4630, 2181, 5697, 1856, 3522, 2478, 3225, 2728, 5478, 5017, 6047, 3042, 3910, 1831, 2254, 1733, 5126, 145, 4496, 1077, 5590, 3965, 3949, 6093, 2956, 2821, 2979, 4579, 2485, 3110, 5187, 768, 4788, 3421, 1212, 3945, 1569, 671, 6297, 951, 5379, 5931, 6004, 5270, 6101, 3584, 785, 4751, 5471, 1292, 3494, 4235, 3264, 2469, 310, 616, 5730, 3417, 5969, 5696, 3775, 712, 2421, 5197, 970, 424, 4587, 476, 3397, 2184, 4415, 96, 1542, 3521, 5812, 2915, 1536, 4988, 585, 4009, 5406, 2984, 2350, 3967, 3304, 1754, 1289, 1288, 994, 2912, 6053, 2092, 5954, 3254, 1131, 966, 5369, 1173, 5343, 3900, 5479, 940, 1603, 1029, 5073, 5208, 1213, 5886, 597, 3681, 5610, 3694, 3402, 3330, 3491, 5474, 460, 767, 2205, 3792, 5975, 954, 918, 1936, 3234, 5230, 5112, 6189, 4875, 726, 4636, 6218, 4382, 4065, 3548, 4930, 5766, 715, 379, 804, 2190, 2073, 3740, 4000, 5543, 2571, 5923, 3687, 4929, 4113, 1106, 4114, 3347, 2148, 5453, 1764, 4315, 2793, 6356, 542, 4246, 2138, 4276, 4083, 4618, 1956, 2017, 5621, 1937, 1207, 111, 6096, 1513, 3644, 3219, 3398, 2553, 1348, 5307, 3896, 5428, 2592, 258, 4351, 2165, 956, 5182, 1293, 4412, 2225, 3487, 2697, 2586, 537, 3943, 5789, 1345, 5422, 3995, 1609, 3555, 312, 2731, 3106, 4085, 5624, 3306, 2152, 1491, 3413, 5257, 5882, 6465, 381, 6454, 5858, 2726, 1181, 564, 915, 4485, 3328, 2967, 5342, 1529, 5810, 6514, 1530, 5592, 1509, 6057, 5041, 5366, 5861, 1366, 2393, 2812, 5363, 1296, 4154, 2166, 2983, 6335, 6039, 6291, 1980, 4269, 3506, 3971, 3668, 6549, 3928, 507, 3703, 455, 2801, 402, 5324, 6195, 5921, 4822, 4167, 4170, 3296, 2443, 4872, 3352, 4764, 5519, 6534, 5758, 5762, 2057, 4889, 6459, 961, 1605, 3872, 6219, 5070, 6541, 6531, 3467, 5348, 718, 140, 3643, 3796, 691, 3395, 38, 3634, 2657, 4935, 3750, 4452, 1920, 5238, 3997, 5693, 1488, 4421, 510, 1665, 4522, 5045, 6445, 4195, 2897, 4098, 154, 792, 3895, 5049, 1769, 770, 2096, 4219, 5016, 3238, 5628, 214, 2655, 4295, 645, 5046, 599, 3492, 3283, 6417, 3260, 5893, 3215, 3627, 33, 3510, 2339, 4938, 1039, 5393, 4951, 6300, 674, 6320, 6201, 2449, 4581, 947, 6269, 2710, 4650, 137, 3614, 5275, 6203, 2946, 2764, 1327, 998, 5054, 5433, 1524, 5598, 4885, 4030, 5546, 382, 2437, 1656, 1270, 1041, 479, 3104, 5548, 3216, 74, 1759, 2566, 6379, 6337, 1458, 5077, 764, 5127, 4292, 4006, 2976, 5451, 4948, 2065, 4808, 6082, 3357, 3850, 4603, 890, 6194, 5888, 4799, 3028, 4912, 3591, 3527, 5800, 3693, 3666, 532, 1520, 1417, 2354, 2977, 5925, 921, 884, 1258, 5874, 4179, 788, 3664, 6511, 4339, 1040, 3446, 4034, 4043, 5843, 5813, 3885, 2567, 1628, 5381, 3270, 5689, 1793, 4440, 6463, 5311, 4983, 5223, 3502, 1849, 4393, 6489, 4865, 5195, 2398, 4887, 919, 1030, 2416, 292, 2288, 2275, 1832, 5775, 1252, 2467, 4713, 3006, 5534, 5750, 4080, 4370, 6279, 5763, 1124, 4789, 65, 5144, 3906, 3432, 5011, 4048, 953, 5134, 4747, 1095, 4741, 5650, 1158, 4907, 4230, 2585, 4897, 3764, 3326, 3765, 3547, 5229, 3488, 4643, 2735, 5219, 5795, 5156, 1589, 3132, 436, 1581, 4169, 4311, 5727, 453, 6244, 5373, 6524, 1654, 2003, 2450, 4486, 3246, 4285, 875, 5298, 3041, 1186, 3244, 4778, 5948, 3541, 5878, 5179, 3070, 6009, 6406, 676, 5349, 881, 3109, 955, 354, 1016, 4686, 1298, 5801, 708, 6022, 5094, 3609, 772, 1025, 2187, 555, 2917, 4638, 6535, 5318, 6285, 6488, 4735, 6224, 6116, 1604, 3815, 2026, 5401, 1052, 3531, 4139, 5487, 176, 723, 3536, 5971, 4812, 3925, 6188, 1737, 1179, 1161, 2105, 3561, 5404, 4687, 3266, 3120, 6212, 30, 1674, 1438, 1362, 3119, 5445, 2089, 3346, 6451, 2667, 3141, 5056, 1022, 6371, 4200, 2515, 2555, 6134, 3393, 4232, 3480, 6319, 1592, 2245, 3805, 5569, 2859, 208, 3201, 3094, 1008, 5853, 3095, 6378, 5950, 1817, 2547, 3917, 2909, 1358, 303, 1208, 5957, 6545, 3188, 6115, 4222, 5797, 4859, 925, 4203, 5601, 2067, 5354, 4416, 2238, 4954, 3479, 3005, 2189, 5132, 2155, 2721, 1618, 3437, 1923, 3835, 593, 3842, 2688, 4819, 1607, 2306, 3333, 344, 2522, 4365, 1621, 5341, 1103, 3551, 6327, 3170, 3851, 4490, 1753, 3530, 3133, 3284, 3121, 5798, 4704, 962, 3897, 5509, 1850, 281, 4844, 2343, 5033, 784, 6503, 3429, 43, 3381, 1447, 3055, 2575, 2513, 6452, 3580, 1567, 5538, 5015, 5803, 3016, 4262, 5784, 2862, 516, 3957, 5961, 1112, 3679, 4655, 442, 2828, 4544, 4049, 3511, 210, 5130, 2809, 2507, 5943, 1129, 839, 1782, 6102, 1423, 4823, 3423, 6543, 1979, 3027, 5805, 2845, 706, 3043, 2921, 6286, 1836, 3476, 1904, 2747, 4606, 4873, 5859, 960, 6443, 1658, 348, 2696, 2686, 1866, 5200, 5636, 874, 3442, 5115, 793, 1978, 4294, 6124, 6037, 4952, 6098, 2754, 589, 2452, 5508, 1823, 4934, 2583, 851, 3503, 1705, 46, 1751, 3583, 1047, 2839, 3490, 6281, 6342, 2269, 6467, 317, 3592, 4507, 3212, 4502, 3399, 1461, 2018, 3725, 3340, 19, 3776, 3222, 4854, 4937, 2826, 6444, 1201, 5199, 3495, 4532, 3277, 5671, 3463, 2985, 3253, 629, 5224, 2743, 5951, 2773, 6268, 2107, 6087, 1017, 3622, 3843, 1544, 3203, 4050, 5297, 2611, 4936, 1595, 701, 3164, 4656, 1373, 6120, 1364, 4054, 2876, 5690, 5181, 1747, 6349, 6274, 4062, 508, 6373, 4257, 5733, 4670, 1928, 643, 3069, 3801, 3012, 4362, 3712, 4817, 6271, 1328, 4613, 3039, 2014, 2887, 4598, 6247, 1012, 4214, 1294, 2643, 865, 4794, 4375, 3993, 6016, 6519, 4615, 2724, 6330, 1091, 5848, 2389, 4792, 404, 3223, 3874, 6040, 6386, 5201, 3123, 127, 4974, 521, 1078, 590, 1915, 2491, 2719, 560, 449, 4010, 6387, 4027, 3255, 6204, 4125, 4942, 157, 3721, 2474, 2251, 1116, 4460, 1675, 3702, 1744, 6261, 1826, 3856, 3408, 2332, 2194, 4476, 6267, 6428, 4765, 5159, 4465, 6210, 3746, 541, 1777, 3405, 2385, 261, 3088, 3434, 3680, 2015, 1449, 1851, 5315, 2720, 3901, 710, 835, 4574, 5670, 5226, 2607, 2959, 549, 2174, 2494, 2321, 3386, 3741, 4610, 2794, 4332, 2285, 4719, 3249, 6138, 6412, 2308, 5561, 6165, 182, 1418, 4771, 3650, 276, 4790, 3546, 2301, 345, 4531, 42, 6339, 1596, 761, 4303, 2711, 232, 5833, 3015, 5516, 481, 2955, 6404, 3138, 4621, 1255, 2085, 3660, 5289, 3847, 6439, 3762, 618, 4572, 27, 6241, 5355, 3319, 833, 3023, 6385, 3082, 2750, 4797, 4270, 5865, 3728, 4137, 2559, 5715, 2162, 2068, 3980, 5233, 4028, 5513, 3611, 4344, 1765, 6243, 2021, 4376, 6012, 5325, 1452, 4914, 6058, 309, 3701, 4343, 5864, 3947, 4174, 2994, 1731, 2230, 4625, 1868, 4088, 3720, 28, 4827, 3383, 3761, 3193, 217, 2506, 4023, 5723, 4718, 2737, 1990, 5358, 4845, 126, 4470, 2524, 3136, 304, 553, 1414, 6303, 5711, 6240, 6192, 4620, 2945, 4862, 155, 3289, 2159, 3857, 2286, 3689, 3242, 3090, 1745, 766, 2239, 4334, 3513, 22, 3915, 3617, 6383, 3272, 3163, 914, 4529, 1983, 1664, 4876, 2025, 3888, 2582, 2258, 395, 1495, 6325, 2851, 3211, 5606, 4786, 4445, 4077, 3523, 3135, 3462, 443, 4304, 5212, 1279, 1841, 6402, 1079, 3639, 3992, 1365, 5290, 5209, 6352, 1954, 3577, 5185, 1422, 2890, 4516, 6091, 6539, 2163, 2512, 6027, 4556, 587, 6288, 5452, 4185, 869, 431, 1612, 2971, 1691, 204, 5158, 1508, 2368, 2548, 4715, 2765, 4582, 2695, 5135, 427, 1942, 1951, 3040, 473, 1127, 4463, 3273, 5367, 937, 3217, 6111, 4818, 1834, 5625, 722, 3336, 3341, 1837, 5680, 1249, 4124, 5302, 4803, 6448, 505, 3923, 786, 2814, 3988, 958, 5356, 2224, 6140, 4882, 439, 1268, 2658, 3879, 627, 5161, 2898, 3438, 2097, 4834, 3389, 5284, 4666, 3227, 6014, 132, 5879, 3663, 526, 2914, 1863, 5113, 3678, 2153, 1598, 2957, 1506, 4407, 1750, 1975, 3552, 689, 2935, 147, 2255, 3954, 4231, 2841, 4568, 5020, 3388, 1766, 139, 136, 3370, 4359, 4286, 2806, 2824, 6419, 1611, 5963, 6042, 1927, 5894, 5994, 1159, 5687, 4499, 5372, 5352, 4489, 4291, 15, 6520, 677, 1541, 4785, 4483, 4738, 2232, 6112, 4939, 853, 4955, 3839, 5626, 3996, 791, 5027, 2359, 4773, 5703, 1614, 4642, 4437, 2019, 6430, 3619, 5103, 3497, 3276, 142, 4337, 5556, 6509, 5565, 1205, 5183, 4096, 709, 5052, 207, 1503, 4884, 3930, 6362, 4252, 6494, 4950, 3834, 2616, 5677, 5346, 5282, 4201, 1277, 371, 1375, 2700, 1168, 3699, 2268, 6126, 3075, 3425, 4240, 218, 3048, 1944, 4698, 6296, 1036, 6343, 3358, 3010, 6131, 4226, 1378, 4953, 1578, 1537, 4041, 3348, 1577, 1620, 1735, 5651, 1582, 667, 3635, 3308, 6110, 1094, 3735, 4327, 967, 4275, 4976, 592, 511, 5344, 5849, 4527, 2240, 3493, 5397, 1162, 6158, 3172, 350, 1622, 2663, 6436, 44, 6359, 3875, 5631, 5836, 2362, 854, 4703, 6209, 1245, 4614, 1606, 2231, 377, 688, 4494, 3018, 2031, 2882, 848, 4320, 5777, 1122, 1334, 5377, 4052, 1852, 5009, 6277, 3407, 3830, 1284, 1331, 6401, 3327, 5505, 2653, 2632, 469, 5998, 4464, 4777, 2160, 4641, 631, 4205, 3237, 5941, 4031, 3771, 6486, 2169, 3838, 3139, 1688, 2990, 3085, 4910, 5673, 2511, 2772, 37, 3325, 4211, 3723, 3298, 4654, 4406, 6265, 4730, 1110, 4151, 260, 4026, 1829, 3894, 2164, 6256, 3616, 3913, 5549, 4434, 692, 968, 5067, 1574, 5267, 125, 3051, 4540, 4117, 121, 1497, 6292, 5778, 227, 2188, 5124, 2684, 2000, 284, 3549, 1689, 1464, 1485, 6416, 75, 1521, 3929, 4039, 3125, 6104, 2307, 3520, 5285, 5150, 29, 2778, 3675, 6095, 1020, 5272, 2964, 1917, 6084, 1820, 4517, 2473, 4089, 2736, 2435, 56, 4727, 199, 341, 3927, 4399, 3737, 484, 6266, 3226, 612, 4567, 2394, 859, 1627, 4133, 2032, 2942, 2926, 3810, 941, 997, 6248, 3501, 4469, 5669, 1785, 386, 6094, 1380, 5679, 5097, 4335, 4084, 4381, 512, 3047, 3623, 1163, 2739, 1119, 4149, 5504, 445, 3596, 1575, 6284, 702, 39, 806, 5924, 2182, 141, 855, 2533, 5956, 3613, 151, 5889, 3698, 5844, 2936, 2638, 4763, 4110, 2815, 4385, 3147, 5753, 3819, 20, 3811, 2817, 4972, 318, 1730, 5523, 146, 5645, 3003, 4681, 4008, 5560, 3207, 2685, 1247, 1421, 3076, 6336, 1505, 4342, 265, 1172, 3459, 5927, 4197, 376, 799, 4436, 2691, 3176, 773, 6270, 53, 3309, 3937, 2683, 1295, 1130, 3669, 5463, 4209, 3595, 6290, 3605, 5403, 458, 4852, 4828, 4576, 323, 790, 1526, 3291, 3178, 4105, 1748, 3184, 2278, 4519, 2447, 2202, 262, 2516, 950, 4600, 5028, 3770, 4374, 5896, 366, 4969, 3594, 4646, 1918, 2630, 3767, 4410, 1930, 800, 1510, 5391, 2264, 1332, 3537, 4106, 5480, 4977, 2038, 5554, 930, 4692, 4961, 4589, 3263, 681, 4631, 2767, 4408, 3625, 143, 6018, 1403, 3601, 4745, 3632, 2445, 3529, 6301, 1870, 4940, 1739, 595, 2668, 3406, 6502, 6527, 4390, 864, 5202, 4007, 6380, 5792, 3320, 5564, 467, 1774, 4422, 1026, 3455, 1001, 4479, 3150, 557, 5065, 3338, 2604, 282, 368, 129, 2117, 3427, 5774, 3439, 1125, 1815, 1594, 5149, 5211, 4223, 1587, 5838, 2846, 3131, 4317, 5919, 462, 1043, 259, 390, 6161, 3707, 4766, 504, 1326, 4520, 6135, 5722, 5602, 465, 4978, 5221, 2944, 2480, 3814, 4441, 2714, 5945, 4744, 552, 274, 57, 1185, 4890, 2090, 4386, 5814, 2303, 2531, 4514, 363, 4224, 4664, 1209, 4274, 6324, 2118, 5262, 2551, 3951, 3484, 4355, 4658, 72, 5672, 932, 6492, 3315, 2501, 4893, 4016, 6522, 5053, 3448, 5726, 2147, 4191, 277, 6028, 4694, 3390, 4963, 49, 4769, 3817, 566, 5996, 2489, 5138, 233, 2665, 3654, 6164, 2925, 4493, 1770, 3349, 1281, 6163, 3020, 2608, 2907, 3410, 2637, 4609, 4958, 2523, 1666, 3903, 2774, 1593, 3582, 2662, 605, 5787, 2114, 1650, 3779, 754, 5769, 2083, 1192, 4061, 4737, 1484, 3257, 5032, 876, 4503, 319, 1118, 5188, 3563, 4296, 3889, 3989, 4330, 847, 4341, 5704, 4413, 5917, 5721, 6238, 4899, 3638, 4671, 5242, 4455, 426, 1875, 6021, 849, 6106, 1107, 4626, 4488, 6121, 5863, 3126, 4250, 4970, 2965, 5278, 4186, 4558, 3710, 4725, 3756, 3415, 4570, 5213, 5047, 3685, 1859, 2384, 5936, 3214, 4073, 5562, 5488, 5887, 2874, 2564, 1527, 6458, 6332, 5539, 5694, 3290, 3564, 3177, 3665, 4749, 1813, 4217, 1437, 3972, 1167, 1360, 3294, 60, 4826, 2383, 4446, 5035, 5632, 5637, 3743, 2008, 5044, 6456, 144, 3247, 1545, 540, 4635, 4991, 4696, 3077, 1128, 1908, 1568, 1121, 378, 2742, 5934, 2693, 4384, 3823, 4861, 6408, 3011, 4442, 4549, 216, 3658, 522, 78, 2804, 2792, 2853, 4204, 2601, 3802, 5806, 425, 928, 3353, 238, 888, 2234, 6464, 4975, 625, 98, 5484, 5587, 4216, 4435, 3332, 5384, 4094, 4926, 5266, 4152, 2729, 5174, 198, 1697, 4495, 5547, 5235, 762, 2738, 1591, 4123, 4993, 1113, 1858, 3887, 4863, 5977, 944, 4565, 5811, 4710, 3922, 112, 3171, 186, 2033, 2966, 1427, 4245, 6001, 5862, 3804, 3542, 3880, 2634, 5192, 131, 1788, 21, 5719, 191, 1093, 4902, 6461, 2267, 4173, 6123, 2322, 1842, 2451, 4425, 4640, 3321, 4629, 403, 2850, 4903, 51, 3766, 4184, 4187, 285, 5973, 4550, 5312, 3302, 5955, 1006, 353, 316, 5847, 5383, 3067, 4721, 3053, 6453, 594, 1686, 2095, 4634, 4143, 5871, 5595, 3777, 4401, 4338, 3682, 116, 4146, 695, 5613, 5594, 1035, 4377, 2104, 2237, 5374, 291, 6159, 1419, 2842, 6446, 4243, 3970, 2434, 2283, 4121, 3496, 2775, 2664, 3960, 6010, 3866, 3111, 193, 4367, 295, 6432, 6372, 6076, 4847, 1428, 3339, 3773, 69, 5781, 3727, 5857, 2399, 1711, 880, 4130, 2884, 2282, 1248, 556, 2891, 4433, 1169, 938, 4336, 2752, 1679, 5423, 3966, 3148, 4538, 5891, 1280, 3570, 6377, 6506, 4743, 6455, 2444, 1687, 1244, 3262, 3107, 3674, 2895]\n",
      "val ids:  [1514, 6013, 2819, 945, 2975, 3882, 2550, 2568, 5370, 31, 2122, 4779, 2991, 6501, 4349, 2177, 3092, 1588, 2302, 3649, 3183, 1911, 2836, 103, 1913, 4994, 315, 99, 2320, 3791, 4846, 3836, 3868, 2355, 5791, 3590, 5376, 3831, 716, 2397, 3826, 4394, 435, 4716, 3180, 1253, 2734, 2110, 3174, 5796, 4075, 5930, 2062, 999, 5832, 6487, 401, 1947, 4279, 5296, 1439, 5533, 63, 4366, 1402, 4158, 6197, 3046, 2961, 1408, 3154, 2070, 1895, 1009, 4198, 6214, 3185, 5885, 1453, 2904, 917, 6515, 4985, 4015, 231, 3615, 228, 931, 6046, 4996, 1943, 2139, 2309, 429, 5304, 4720, 4438, 2349, 1949, 5091, 2699, 5147, 6546, 3969, 4324, 4251, 3569, 3485, 620, 4308, 2995, 4879, 3431, 3914, 2028, 2938, 6172, 4539, 3604, 3401, 2487, 5295, 2982, 965, 3317, 2346, 843, 1451, 3152, 6363, 1050, 4225, 5105, 3394, 4314, 299, 4986, 305, 5375, 3745, 4559, 3187, 863, 1897, 3433, 1325, 4387, 5256, 1410, 3167, 3403, 5788, 6029, 2154, 287, 59, 4242, 4731, 6177, 6254, 6005, 3713, 2175, 5425, 720, 622, 215, 1708, 3683, 5553, 6186, 2930, 5464, 4280, 3239, 387, 2937, 1276, 4880, 6466, 4632, 5646, 4131, 2727, 1950, 1340, 2763, 779, 6424, 482, 2518, 4998, 450, 4059, 306, 2270, 5465, 4202, 2305, 5681, 3716, 1902, 623, 3808, 1903, 4395, 206, 25, 3498, 308, 3877, 2060, 4249, 2476, 5362, 1197, 3465, 5794, 1341, 4680, 4832, 4070, 5107, 2244, 2802, 5522, 1291, 517, 2878, 2337, 6499, 2436, 5347, 6427, 3931, 3588, 4853, 4708, 4667, 220, 717, 6263, 1669, 3628, 2989, 1211, 1893, 5237, 3025, 1117, 4193, 1202, 1743, 4372, 3709, 3157, 6109, 2249, 2220, 4989, 3659, 518, 1343, 3968, 6205, 2201, 4949, 6345, 946, 2248, 1590, 1839, 3189, 6182, 1932, 1187, 2918, 1088, 2962, 1042, 2193, 3739, 1367, 506, 1512, 1010, 6033, 1299, 5072, 3916, 5386, 2640, 1215, 452, 3783, 6031, 2993, 4093, 357, 3059, 2037, 4307, 6249, 2807, 1164, 6006, 801, 5405, 5436, 1987, 4068, 5755, 6036, 5227, 3418, 4109, 4309, 2888, 2617, 2470, 4388, 2924, 6348, 3014, 5429, 3451, 2927, 5022, 1429, 2499, 14, 1994, 1657, 6105, 4220, 2698, 2598, 3757, 5287, 1286, 1871, 949, 6083, 959, 2896, 5240, 1089, 470, 781, 6497, 1982, 6213, 2328, 4497, 5424, 3461, 795, 3145, 2241, 4612, 3844, 3127, 2577, 6381, 5647, 1413, 6513, 2628, 1500, 3313, 615, 1098, 5705, 5856, 725, 3686, 2639, 5589, 5449, 4271, 1867, 6426, 3753, 3175, 2429, 2144, 6421, 5098, 100, 6529, 3369, 3233, 1264, 1443, 3236, 5160, 5524, 3718, 4956, 4373, 4255, 535, 2064, 5360, 349, 1661, 6118, 4563, 3050, 3955, 3942, 1672, 1534, 2145, 2323, 6438, 2361, 3902, 4331, 2423, 3598, 5997, 2745, 2061, 2488, 2988, 5710, 1914, 1931, 2311, 6399, 4459, 4487, 1742, 2529, 4732, 672, 5559, 5131, 1499, 5388, 3285, 2940, 3504, 1120, 5815, 6365, 3568, 1132, 3292, 5702, 3409, 4729, 5008, 6043, 4551, 4649, 3252, 6011, 5713, 2396, 1906, 3809, 3544, 1784, 4601, 1338, 4943, 6518, 2072, 1285, 5675, 1342, 6295, 805, 160, 6521, 3878, 603, 5544, 5455, 5839, 3589, 4597, 1847, 4796, 634, 6239, 4038, 3846, 2304, 3891, 1184, 5751, 1038, 4733, 234, 4002, 3045, 1653, 5057, 3912, 6160, 2330, 2123, 2857, 2403, 6457, 6246, 1183, 5291, 5364, 4906, 2497, 2676, 757, 3091, 6034, 6328, 2395, 4931, 2589, 837, 3103, 5316, 3344, 1531, 5937, 5228, 2108, 4166, 6326, 1424, 5110, 4319, 6003, 5469, 3387, 1282, 4997, 2438, 4079, 4022, 463, 6364, 1938, 2517, 5966, 1608, 3892, 2508, 2009, 181, 5176, 374, 834, 2246, 3364, 3905, 3578, 2837, 1699, 1278, 3307, 4627, 1586, 4824, 5095, 1097, 4537, 3310, 964, 1024, 307, 2534, 5454, 1933, 2939, 5968, 4602, 4966, 5308, 2314, 6207, 5014, 4695, 6357, 3516, 3840, 2838, 5447, 3829, 5396, 1265, 5545, 6484, 3335, 5431, 3474, 4682, 2356, 5361, 340, 1898, 1874, 3642, 4475, 1242, 4947, 1454, 4097, 4724, 1157, 6329, 3730, 5317, 2561, 264, 3424, 2631, 236, 2635, 3468, 6422, 4281, 4453, 1028, 4624, 4129, 1907, 5897, 5682, 4545, 2960, 4821, 1873, 474, 2886, 2370, 4866, 6081, 713, 5809, 2987, 558, 6206, 647, 5426, 4911, 6108, 2606, 3478, 2997, 6368, 1528, 4361, 5175, 686, 41, 4051, 150, 5854, 1085, 5151, 5529, 1171, 3021, 882, 6447, 2636, 2972, 5189, 5128, 2692, 5642, 5960, 4962, 212, 5708, 2678, 5627, 5207, 1945, 3081, 2723, 4414, 5177, 1677, 1099, 5261, 4878, 5799, 5782, 3161, 1515, 4293, 4586, 4357, 2427, 5978, 5392, 1275, 3054, 6054, 1199, 3202, 2442, 177, 5146, 6141, 3062, 1953, 1843, 5952, 4290, 5841, 719, 3312, 5048, 3376, 6346, 3543, 2186, 4380, 5055, 1261, 2318, 3532, 3271, 6051, 640, 1576, 5042, 1339, 3952, 2223, 5012, 2557, 3486, 2779, 2150, 2648, 289, 4971, 5918, 383, 971, 4160, 5570, 1409, 355, 2858, 2906, 3071, 1570, 5477, 6088, 2081, 1321, 4403, 6030, 5970, 1663, 2549, 544, 5050, 6493, 1003, 5280, 1096, 3646, 430, 5643, 3870, 6245, 283, 4207, 5263, 5701, 4411, 5698, 2143, 547, 3368, 5382, 5476, 2495, 1896, 1941, 1090, 2347, 3637, 4215, 4548, 1374, 3457, 1756, 1946, 4135, 1269, 148, 751, 6056, 2834, 3979, 1489, 5217, 1290, 209, 203, 4398, 1984, 6508, 1999, 3210, 135, 4165, 4722, 1602, 3744, 432, 1502, 356, 5273, 4457, 752, 1989, 3763, 2066, 5944, 1660, 5776, 370, 2894, 152, 6007, 2822, 1819, 2827, 2796, 5512, 2005, 3208, 794, 6482, 2016, 5536, 5269, 6360, 5154, 1616, 4253, 3366, 1617, 5614, 5591, 2227, 302, 2832, 485, 235, 5350, 3519, 2526, 2075, 5239, 1579, 2597, 1671, 365, 2996, 226, 2424, 5678, 5619, 373, 5557, 16, 5706, 35, 2313, 66, 1539, 3959, 6128, 3973, 1263, 6507, 4107, 2855, 4611, 860, 6170, 5949, 924, 2905, 2428, 3784, 4210, 396, 4272, 2334, 6198, 3258, 2923, 4482, 4236, 2596, 4652, 3508, 1861, 5123, 1448, 6196, 5338, 1347, 4968, 1005, 1450, 591, 2671, 5260, 775, 601, 3858, 4326, 2069, 3567, 4728, 4501, 3056, 180, 598, 3456, 4012, 548, 4810, 5938, 2315, 2465, 5394, 1045, 301, 423, 2466, 6080, 4870, 279, 2273, 2768, 3554, 183, 3241, 5340, 6375, 6366, 6038, 4525, 4795, 296, 846, 5676, 5395, 1329, 4809, 2584, 4241, 4647, 2413, 943, 3921, 1655, 5024, 3986, 1048, 5527, 3509, 3342, 6414, 1667, 3978, 2813, 6255, 4419, 6413, 4066, 1203, 4132, 1092, 6323, 2400, 996, 4811, 3869, 134, 3884, 3558, 872, 2715, 4712, 2326, 5563, 2236, 4639, 3926, 6480, 3365, 2071, 4025, 832, 2530, 5466, 5078, 1046, 4547, 4702, 3156, 5920, 4239, 1535, 3475, 3151, 5783, 1857, 4607, 2554, 2797, 1246, 3934, 4164, 5111, 4533, 380, 699, 5303, 6262, 2998, 2333, 5034, 2510, 545, 4651, 1441, 2099, 3228, 2761, 2242, 2651, 5638, 5530, 2656, 5877, 1369, 3676, 3061, 5462, 3419, 5515, 1781, 106, 428, 3797, 5845, 76, 3956, 6496, 4762, 4526, 2407, 2590, 5108, 3816, 642, 5834, 3994, 4984, 3794, 1086, 5731, 6136, 5754, 617, 5691, 6516, 3248, 385, 5926, 4194, 6435, 6384, 2425, 1995, 6191, 3873, 868, 5023, 613, 5807, 471, 4982, 4071, 3165, 5779, 841, 3169, 4111, 6168, 1701, 5868, 533, 5440, 531, 3832, 272, 2084, 3108, 5232, 190, 759, 3464, 6049, 3862, 885, 4857, 5136, 2493, 5387, 697, 5555, 4723, 5793, 3865, 68, 1955, 3256, 4524, 4941, 6258, 124, 5320, 5013, 2109, 3162, 4663, 3414, 2835, 5069, 3691, 5649, 5674, 3374, 4454, 1463, 6221, 3656, 2074, 4150, 4055, 5652, 3828, 1257, 4313, 422, 213, 5773, 2111, 6418, 1997, 2141, 3017, 3760, 1706, 554, 1182, 6512, 4768, 3976, 4190, 4120, 3655, 3481, 3231, 3297, 3864, 5058, 5268, 2007, 5066, 4905, 5752, 4142, 1610, 6289, 5121, 4450, 391, 5953, 4321, 5378, 771, 2562, 4542, 6321, 1433, 6041, 3950, 2749, 3533, 2475, 64, 3852, 3499, 3984, 780, 2673, 1761, 3987, 5430, 3318, 536, 3807, 5470, 4289, 850, 6211, 4102, 2574, 3697, 2847, 4739, 5180, 539, 1204, 2171, 362, 5399, 4855, 6405, 1351, 6481, 4901, 2934, 4571, 4171, 4848, 1272, 1939, 2351, 4979, 4608, 4037, 1985, 271, 1792, 6409, 2757, 3688, 6354, 5040, 3610, 5218, 1266, 342, 2782, 5037, 4668, 2030, 3512, 4176, 606, 5939, 2902, 156, 6429, 3565, 4577, 1853, 1652, 5214, 1855, 3022, 1352, 4451, 3626, 2113, 2277, 6216, 3149, 3441, 3704, 2595, 2730, 912, 1486, 6468, 630, 2831, 3426, 2893, 5928, 3087, 1626, 6250, 3648, 2579, 3072, 1031, 4518, 1935, 3435, 478, 4013, 778, 5225, 242, 5507, 3798, 866, 4029, 2492, 4916, 4234, 5837, 2931, 4310, 6117, 34, 4505, 1251, 1274, 4466, 5867, 2080, 1600, 877, 4697, 3782, 5076, 5962, 6423, 2410, 5129, 1830, 755, 5313, 5117, 6540, 4560, 753, 2992, 2483, 6355, 2261, 2603, 3382, 5390, 3621, 2521, 3717, 4726, 6167, 369, 2922, 2059, 2641, 6085, 1241, 4691, 3652, 2816, 3192, 2366, 2795, 3573, 1322, 3130, 1361, 802, 4693, 2091, 3742, 1828, 2732, 6536, 5644, 2865, 5439, 5306, 2647, 5623, 3859, 3586, 1854, 842, 3602, 2022, 4417, 509, 4881, 4506, 6431, 5964, 3876, 1051, 3155, 4707, 4056, 2284, 2973, 4990, 6181, 1287, 3672, 711, 5566, 2192, 1049, 6114, 1929, 4784, 2369, 3179, 1349, 1176, 2504, 3453, 266, 3726, 3524, 5600, 856, 5786, 6015, 1033, 4555, 635, 2502, 5099, 4297, 3647, 3785, 1432, 3204, 1462, 447, 6026, 433, 3515, 138, 5851, 4298, 3990, 2367, 3948, 1615, 4491, 2058, 3144, 6187, 4329, 4616, 4112, 4894, 5668, 6526, 1023, 2591, 5143, 3428, 107, 4669, 1254, 1210, 1504, 241, 389, 2781, 2121, 5842, 4471, 1790, 3250, 6498, 1683, 5204, 1682, 5283, 2439, 1262, 2453, 1909, 1206, 1746, 776, 5473, 1323, 519, 5929, 4267, 3824, 290, 2310, 2864, 6491, 1350, 2910, 270, 845, 2751, 300, 1002, 1572, 3351, 5588, 4856, 4192, 2908, 3566, 721, 1297, 3371, 6078, 3128, 1195, 3935, 4426, 1102, 97, 3452, 4898, 3378, 2417, 683, 5101, 1191, 2471, 3893, 4685, 2560, 1456, 3939, 3904, 4404, 5178, 1678, 133, 5437, 1440, 3603, 1335, 1109, 359, 1912, 441, 3372, 5448, 4782, 933, 2755, 2101, 4805, 886, 3781, 1411, 2649, 5292, 5258, 2112, 638, 4981, 2093, 4688, 3871, 4086, 1673, 2669, 6113, 3953, 4004, 5277, 2941, 2199, 4498, 1404, 4770, 4001, 2892, 5122, 5942, 483, 5314, 2312, 4397, 3350, 2525, 1115, 3385, 5039, 5648, 5458, 4156, 3729, 2468, 1757, 6469, 4078, 351, 5757, 6129, 6411, 871, 1004, 3392, 5855, 4282, 2646, 2157, 6220, 4082, 448, 3890, 3581, 3337, 870, 3004, 4168, 1811, 2036, 5259, 3329, 4448, 3754, 6347, 6415, 54, 2770, 936, 2741, 5059, 838, 704, 3899, 639, 3806, 3731, 278, 935, 4189, 3482, 179, 5106, 3821, 4134, 6293, 5359, 1337, 668, 5276, 6133, 1368, 1015, 1377, 2158, 4148, 644, 2570, 2235, 3454, 3099, 5265, 3146, 3618, 2324, 4350, 2035, 3384, 4364, 5139, 400, 3142, 3734, 2681, 4772, 230, 2602, 3129, 5622, 1623, 2498, 1175, 2963, 6019, 2535, 4213, 2197, 2012, 3640, 6171, 4458, 3044, 3230, 3557, 4157, 55, 1455, 2024, 2402, 4040, 3143, 4261, 6139, 275, 3324, 6400, 67, 5709, 3359, 3002, 682, 3848, 6276, 2432, 3708, 6025, 1825, 6222, 4860, 2087, 4578, 5092, 1379, 3224, 239, 1420, 104, 6169, 17, 5109, 1772, 923, 1014, 503, 6125, 269, 1771, 2716, 1613, 5216, 4957, 3641, 1108, 1180, 1729, 1791, 2228, 684, 5521, 3052, 1260, 2808, 3920, 3600, 2563, 1434, 550, 2829, 1910, 1900, 3024, 2243, 4046, 2013, 4060, 1571, 6351, 2363, 2830, 4218, 3477, 4368, 1824, 2176, 3556, 6280, 3472, 4473, 916, 1442, 527, 4177, 314, 3275, 3267, 5716, 4995, 1457, 3975, 3295, 1114, 2140, 4915, 4780, 5876, 2392, 538, 2717, 3074, 6353, 1490, 3768, 4256, 2405, 4813, 1922, 3037, 1787, 2881, 5061, 4045, 4689, 4005, 1501, 969, 2674, 2581, 1194, 2810, 5965, 3013, 4761, 4776, 1344, 1988, 5472, 4283, 5102, 2027, 18, 2191, 3941, 5036, 4206, 3695, 4904, 4895, 1435, 1034, 73, 5683, 3711, 2431, 2077, 5852, 1779, 3732, 5030, 1952, 5947, 514, 2880, 4405, 588, 6242, 2178, 4103, 6086, 2411, 1353, 3574, 926, 1193, 5301, 1986, 472, 6287, 113, 3833, 621, 862, 6322, 6048, 3787, 1976, 1123, 24, 2172, 1076, 456, 3909, 5551, 777, 2257, 1081, 5141, 5872, 2415, 2652, 6273, 5145, 3606, 6407, 2481, 1525, 1703, 3944, 2477, 561, 670, 3837, 2386, 5629, 4299, 3229, 392, 5634, 3458, 459, 5875, 4159, 609, 192, 26, 3086, 224, 3100, 3599, 2287, 6119, 2409, 5173, 4439, 2748, 3259, 3019, 4987, 5767, 2078, 861, 3134, 6077, 3235, 551, 787, 2593, 5345, 1165, 5100, 2336, 5717, 322, 6410, 1899, 1662, 5967, 1752, 2276, 6223, 4076, 1619, 4783, 3883, 5586, 1523, 5692, 1934, 562, 534, 3001, 5511, 5231, 4153, 2970, 675, 1755, 963, 5688, 4927, 5443, 3799, 1840, 3572, 4706, 1037, 5198, 4804, 4928, 3282, 1816, 2345, 6367, 5043, 4247, 1546, 1845, 6075, 632, 6331, 3097, 5517, 6302, 4358, 3436, 1818, 1105, 1659, 5019, 4896, 6532, 188, 2933, 3209, 196, 313, 2259, 6253, 3841, 3692, 358, 2316, 6305, 3084, 1460, 101, 565, 2484, 5293, 158, 1190, 2404, 4736, 2527, 1624, 4312, 2185, 4605, 5468, 6278, 2352, 5835, 2082, 5281, 444, 2661, 4087, 3820, 4128, 2849, 2503, 4126, 4909, 2412, 3999, 3667, 6530, 2899, 2006, 109, 5604, 1998, 669, 2256, 3518, 3057, 1833, 6440, 5119, 2156, 2233, 5935, 696, 1864, 4806, 4472, 4254, 4891, 5321, 4212, 2569, 6237, 3651, 4644, 6142, 2843, 2766, 939, 4711, 724, 690, 4648, 3624, 477, 3550, 202, 2903, 1786, 4798, 3803, 3334, 5142, 602, 1381, 2274, 4480, 948, 95, 240, 4588, 5869, 1416, 70, 3243, 5389, 2446, 5398, 2151, 4959, 6403, 2919, 5288, 4599, 2325, 3268, 2327, 3908, 4468, 3301, 1584, 3714, 878, 2713, 5309, 4781, 1827, 3974, 3932, 2818, 2999, 4734, 5385, 6190, 1133, 5760, 5506, 45, 5892, 3538, 4850, 5525, 1436, 5946, 2426, 5883, 1668, 5881, 4287, 3755, 3813, 6272, 2844, 5958, 1027, 727, 5294, 1707, 194, 6166, 1740, 3981, 4145, 2222, 4278, 2401, 3748, 4535, 5880, 2672, 4447, 102, 4504, 1916, 1177, 4208, 4742, 5365, 4237, 5802, 1738, 2690, 4064, 5873, 2916, 5096, 3096, 2001, 5071, 4888, 6425, 5152, 2588, 559, 703, 149, 5922, 3507, 3559, 187, 607, 1446, 5558, 1198, 4575, 1905, 5421, 438, 4557, 1494, 451, 3587, 2479, 3636, 2348, 858, 5456, 5612, 4178, 4155, 71, 6550, 3314, 3065, 119, 2769, 763, 1496, 5191, 783, 4851, 5203, 6318, 2615, 3232, 4228, 1977, 2263, 5371, 1082, 4662, 4569, 1406, 1680, 4259, 637, 1844, 1032, 2146, 2173, 4481, 5585, 3124, 4288, 782, 1583, 4044, 3946, 5725, 1762, 1869, 79, 130, 4858, 3430, 614, 2271, 2195, 4604, 464, 5605, 3924, 4140, 6099, 3724, 225, 2023, 4318, 543, 288, 1692, 6055, 957, 1996, 628, 2331, 836, 375, 343, 2799, 5933, 4072, 2252, 2885, 3449, 3985, 3122, 5368, 4162, 6193, 1376, 5999, 1430, 5026, 3377, 5116, 4871, 2556, 3305, 3977, 4363, 2344, 2161, 6358, 5884, 1126, 2675, 4717, 3733, 3083, 3575, 3684, 6183, 4561, 5010, 1693, 6517, 5400, 3662, 4886, 3514, 5972, 6002, 2642, 4908, 3153, 633, 769, 5728, 3657, 927, 2408, 636, 2039, 372, 3738, 5707, 5785, 5450, 3907, 13, 5351, 5434, 4067, 2746, 117, 4233, 1924, 1814, 5535, 4258, 879, 4360, 4081, 1921, 3287, 789, 47, 3206, 5323, 3958, 4392, 3983, 6264, 4699, 1336, 4829, 3759, 1848, 2594, 3009, 3469, 3373, 3631, 6537, 6523, 2599, 3166, 1695, 3778, 1872, 1444, 5959, 5461, 2670, 2777, 750, 4554, 2098, 2863, 1573, 3343, 5542, 4583, 524, 3751, 2780, 3579, 4141, 6162, 2928, 6538, 4118, 2335, 398, 6283, 2103, 4352, 3299, 6434, 6059, 758, 515, 1330, 922, 6178, 3190, 2167, 346, 5186, 4874, 2805, 446, 5770, 2391, 1741, 6179, 1243, 3064, 6433, 2565, 62, 596, 4633, 4933, 889, 673, 3528, 3450, 3774, 2943, 6542, 546, 4541, 3633, 4467, 1166, 5611, 5435, 5018, 4775, 6374, 3671, 6008, 2659, 434, 2029, 3722, 321, 6257, 159, 4944, 2341, 3822, 5870, 1775, 5206, 4584, 6361, 714, 5483, 384, 6060, 4144, 6023, 803, 3412, 5190, 5541, 6437, 5913, 678, 1901, 5271, 2932, 4196, 1676, 2875, 3218, 5699, 4333, 4800, 1783, 1019, 646, 934, 641, 1007, 4389, 3205, 3517, 23, 4456, 5125, 1511, 3898, 2317, 6199, 844, 223, 2365, 1346, 2198, 5518, 5215, 5467, 5029, 1957, 3853, 36, 3049, 5074, 5286, 4238, 2094, 3288, 4017, 4371, 6035, 2221, 6294, 320, 2682, 2722, 1585, 4063, 5639, 2650, 4543, 2756, 4477, 5641, 2687, 6122, 3137, 2142, 2901, 4964, 2115, 2387, 2758, 5063, 6127, 1958, 4057, 6130, 5609, 1214, 6525, 4973, 1919, 2063, 6547, 3323, 3396, 4423, 2800, 2614, 2552, 5236, 5695, 765, 1487, 2823, 1926, 5148, 1283, 1363, 6092, 3747, 4378, 1789, 5724, 5607, 2879, 5210, 3788, 4701, 4069, 4645, 4657, 2388, 1459, 5761, 4418, 1538, 3964, 3168, 3790, 5840, 4767, 2969, 2272, 4690, 2528, 2803, 4637, 2694, 1649, 883, 4661, 3316, 4400, 347, 3918, 1651, 48, 873, 5552, 2633, 2505, 3545, 4992, 6510, 5768, 1273, 2578, 3058, 298, 2509, 237, 4108, 6217, 5062, 5079, 3416, 5021, 110, 3645, 6483, 3677, 5916, 4449, 1704, 3038, 6173, 393, 2981, 4787, 77, 4883, 2262, 4596, 3422, 4752, 2353, 5503, 4946, 1734, 3593, 1324, 513, 178, 4432, 6298, 5995, 5772, 2860, 5339, 5442, 6275, 852, 5279, 5759, 4138, 913, 5808, 5718, 2011, 1710, 1355, 5514, 4115, 2612, 5299, 6333, 263, 2422, 58, 3286, 5319, 1732, 4074, 1174, 4534, 5804, 3998, 5596, 468, 4461, 1566, 5567, 5357, 6044, 4709, 4273, 1981, 808, 1925, 6338, 3173, 1267, 5031, 3191, 3562, 4391, 4316, 3345, 6050, 1993, 5193, 4750, 5441, 5104, 5765, 5532, 3293, 273, 105, 6208, 1698, 2848, 6107, 4462, 1543, 4095, 4325, 3303, 4746, 1685, 798, 397, 5155, 728]\n",
      "test ids:  [0, 1, 2, 3, 4, 5, 6, 7, 8, 9, 10, 11, 12, 40, 81, 82, 83, 84, 85, 86, 87, 88, 89, 90, 91, 92, 93, 94, 120, 162, 163, 164, 165, 166, 167, 168, 169, 170, 171, 172, 173, 174, 175, 200, 243, 244, 245, 246, 247, 248, 249, 250, 251, 252, 253, 254, 255, 256, 257, 280, 324, 325, 326, 327, 328, 329, 330, 331, 332, 333, 334, 335, 336, 337, 338, 339, 360, 405, 406, 407, 408, 409, 410, 411, 412, 413, 414, 415, 416, 417, 418, 419, 420, 421, 440, 486, 487, 488, 489, 490, 491, 492, 493, 494, 495, 496, 497, 498, 499, 500, 501, 502, 520, 567, 568, 569, 570, 571, 572, 573, 574, 575, 576, 577, 578, 579, 580, 581, 582, 583, 584, 600, 648, 649, 650, 651, 652, 653, 654, 655, 656, 657, 658, 659, 660, 661, 662, 663, 664, 665, 666, 680, 729, 730, 731, 732, 733, 734, 735, 736, 737, 738, 739, 740, 741, 742, 743, 744, 745, 746, 747, 748, 760, 810, 811, 812, 813, 814, 815, 816, 817, 818, 819, 820, 821, 822, 823, 824, 825, 826, 827, 828, 829, 840, 891, 892, 893, 894, 895, 896, 897, 898, 899, 900, 901, 902, 903, 904, 905, 906, 907, 908, 909, 910, 911, 920, 972, 973, 974, 975, 976, 977, 978, 979, 980, 981, 982, 983, 984, 985, 986, 987, 988, 989, 990, 991, 992, 993, 1000, 1053, 1054, 1055, 1056, 1057, 1058, 1059, 1060, 1061, 1062, 1063, 1064, 1065, 1066, 1067, 1068, 1069, 1070, 1071, 1072, 1073, 1074, 1075, 1080, 1135, 1136, 1137, 1138, 1139, 1140, 1141, 1142, 1143, 1144, 1145, 1146, 1147, 1148, 1149, 1150, 1151, 1152, 1153, 1154, 1155, 1156, 1160, 1217, 1218, 1219, 1220, 1221, 1222, 1223, 1224, 1225, 1226, 1227, 1228, 1229, 1230, 1231, 1232, 1233, 1234, 1235, 1236, 1237, 1238, 1240, 1300, 1301, 1302, 1303, 1304, 1305, 1306, 1307, 1308, 1309, 1310, 1311, 1312, 1313, 1314, 1315, 1316, 1317, 1318, 1319, 1320, 1382, 1383, 1384, 1385, 1386, 1387, 1388, 1389, 1390, 1391, 1392, 1393, 1394, 1395, 1396, 1397, 1398, 1399, 1400, 1401, 1465, 1466, 1467, 1468, 1469, 1470, 1471, 1472, 1473, 1474, 1475, 1476, 1477, 1478, 1479, 1480, 1481, 1482, 1483, 1547, 1548, 1549, 1550, 1551, 1552, 1553, 1554, 1555, 1556, 1557, 1558, 1559, 1560, 1561, 1562, 1563, 1564, 1565, 1629, 1630, 1631, 1632, 1633, 1634, 1635, 1636, 1637, 1638, 1639, 1640, 1641, 1642, 1643, 1644, 1645, 1646, 1647, 1700, 1712, 1713, 1714, 1715, 1716, 1717, 1718, 1719, 1720, 1721, 1722, 1723, 1724, 1725, 1726, 1727, 1728, 1780, 1794, 1795, 1796, 1797, 1798, 1799, 1800, 1801, 1802, 1803, 1804, 1805, 1806, 1807, 1808, 1809, 1810, 1860, 1877, 1878, 1879, 1880, 1881, 1882, 1883, 1884, 1885, 1886, 1887, 1888, 1889, 1890, 1891, 1892, 1940, 1959, 1960, 1961, 1962, 1963, 1964, 1965, 1966, 1967, 1968, 1969, 1970, 1971, 1972, 1973, 1974, 2020, 2040, 2041, 2042, 2043, 2044, 2045, 2046, 2047, 2048, 2049, 2050, 2051, 2052, 2053, 2054, 2055, 2100, 2120, 2124, 2125, 2126, 2127, 2128, 2129, 2130, 2131, 2132, 2133, 2134, 2135, 2136, 2137, 2180, 2200, 2206, 2207, 2208, 2209, 2210, 2211, 2212, 2213, 2214, 2215, 2216, 2217, 2218, 2219, 2260, 2280, 2289, 2290, 2291, 2292, 2293, 2294, 2295, 2296, 2297, 2298, 2299, 2300, 2340, 2360, 2371, 2372, 2373, 2374, 2375, 2376, 2377, 2378, 2379, 2380, 2381, 2382, 2420, 2440, 2454, 2455, 2456, 2457, 2458, 2459, 2460, 2461, 2462, 2463, 2464, 2500, 2520, 2536, 2537, 2538, 2539, 2540, 2541, 2542, 2543, 2544, 2545, 2546, 2580, 2600, 2618, 2619, 2620, 2621, 2622, 2623, 2624, 2625, 2626, 2627, 2660, 2680, 2701, 2702, 2703, 2704, 2705, 2706, 2707, 2708, 2709, 2740, 2760, 2783, 2784, 2785, 2786, 2787, 2788, 2789, 2790, 2791, 2820, 2840, 2866, 2867, 2868, 2869, 2870, 2871, 2872, 2873, 2900, 2920, 2948, 2949, 2950, 2951, 2952, 2953, 2954, 2980, 3000, 3030, 3031, 3032, 3033, 3034, 3035, 3036, 3060, 3080, 3113, 3114, 3115, 3116, 3117, 3118, 3140, 3160, 3195, 3196, 3197, 3198, 3199, 3200, 3220, 3240, 3278, 3279, 3280, 3281, 3300, 3360, 3361, 3362, 3363, 3380, 3443, 3444, 3445, 3460, 3525, 3526, 3540, 3607, 3608, 3620, 3690, 3700, 3772, 3780, 3854, 3860, 3936, 3940, 4018, 4019, 4020, 4099, 4100, 4101, 4180, 4181, 4182, 4183, 4260, 4263, 4264, 4265, 4266, 4340, 4345, 4346, 4347, 4348, 4420, 4427, 4428, 4429, 4430, 4431, 4500, 4508, 4509, 4510, 4511, 4512, 4513, 4580, 4590, 4591, 4592, 4593, 4594, 4595, 4660, 4672, 4673, 4674, 4675, 4676, 4677, 4678, 4740, 4753, 4754, 4755, 4756, 4757, 4758, 4759, 4760, 4820, 4835, 4836, 4837, 4838, 4839, 4840, 4841, 4842, 4843, 4900, 4917, 4918, 4919, 4920, 4921, 4922, 4923, 4924, 4925, 4980, 4999, 5000, 5001, 5002, 5003, 5004, 5005, 5006, 5007, 5060, 5080, 5081, 5082, 5083, 5084, 5085, 5086, 5087, 5088, 5089, 5090, 5140, 5162, 5163, 5164, 5165, 5166, 5167, 5168, 5169, 5170, 5171, 5172, 5220, 5244, 5245, 5246, 5247, 5248, 5249, 5250, 5251, 5252, 5253, 5254, 5255, 5300, 5326, 5327, 5328, 5329, 5330, 5331, 5332, 5333, 5334, 5335, 5336, 5337, 5380, 5407, 5408, 5409, 5410, 5411, 5412, 5413, 5414, 5415, 5416, 5417, 5418, 5419, 5420, 5460, 5489, 5490, 5491, 5492, 5493, 5494, 5495, 5496, 5497, 5498, 5499, 5500, 5501, 5502, 5540, 5571, 5572, 5573, 5574, 5575, 5576, 5577, 5578, 5579, 5580, 5581, 5582, 5583, 5584, 5620, 5653, 5654, 5655, 5656, 5657, 5658, 5659, 5660, 5661, 5662, 5663, 5664, 5665, 5666, 5667, 5700, 5734, 5735, 5736, 5737, 5738, 5739, 5740, 5741, 5742, 5743, 5744, 5745, 5746, 5747, 5748, 5749, 5780, 5816, 5817, 5818, 5819, 5820, 5821, 5822, 5823, 5824, 5825, 5826, 5827, 5828, 5829, 5830, 5831, 5860, 5898, 5899, 5900, 5901, 5902, 5903, 5904, 5905, 5906, 5907, 5908, 5909, 5910, 5911, 5912, 5940, 5979, 5980, 5981, 5982, 5983, 5984, 5985, 5986, 5987, 5988, 5989, 5990, 5991, 5992, 5993, 6020, 6061, 6062, 6063, 6064, 6065, 6066, 6067, 6068, 6069, 6070, 6071, 6072, 6073, 6074, 6100, 6143, 6144, 6145, 6146, 6147, 6148, 6149, 6150, 6151, 6152, 6153, 6154, 6155, 6180, 6225, 6226, 6227, 6228, 6229, 6230, 6231, 6232, 6233, 6234, 6235, 6236, 6260, 6306, 6307, 6308, 6309, 6310, 6311, 6312, 6313, 6314, 6315, 6316, 6317, 6340, 6388, 6389, 6390, 6391, 6392, 6393, 6394, 6395, 6396, 6397, 6398, 6420, 6470, 6471, 6472, 6473, 6474, 6475, 6476, 6477, 6478, 6479, 6500, 6552, 6553, 6554, 6555, 6556, 6557, 6558, 6559, 6560]\n",
      "CPU times: user 186 ms, sys: 16 ms, total: 202 ms\n",
      "Wall time: 201 ms\n"
     ]
    }
   ],
   "source": [
    "%%time\n",
    "n_total = len(simulation.dataframe)\n",
    "n_train = len(simulation.dataframe[simulation.dataframe.type_of == \"train\"])\n",
    "n_val = len(simulation.dataframe[simulation.dataframe.type_of == \"val\"])\n",
    "n_test = len(simulation.dataframe[simulation.dataframe.type_of == \"test\"])\n",
    "n_train_hamiltonians = len(simulation.train_ids)\n",
    "n_val_hamiltonians = len(simulation.val_ids)\n",
    "n_test_hamiltonians = len(simulation.test_ids)\n",
    "n_total_hamiltonians = n_train_hamiltonians + n_val_hamiltonians + n_test_hamiltonians\n",
    "\n",
    "print(\"% train: \", n_train/n_total)\n",
    "print(\"% val: \",  n_val/n_total)\n",
    "print(\"% test: \", n_test/n_total)\n",
    "print(\"% train + val + test: \", (n_train+n_val+n_test)/n_total)\n",
    "print(\"\\n\")\n",
    "print(\"number of train hamiltonians: \", n_train_hamiltonians)\n",
    "print(\"number of val hamiltonians: \", n_val_hamiltonians)\n",
    "print(\"number of test hamiltonians: \", n_test_hamiltonians)\n",
    "print(\"total number of hamiltonians: \", n_total_hamiltonians)\n",
    "print(\"\\n\")\n",
    "print(\"train ids: \", simulation.train_ids)\n",
    "print(\"val ids: \", simulation.val_ids)\n",
    "print(\"test ids: \", simulation.test_ids)"
   ]
  },
  {
   "cell_type": "markdown",
   "metadata": {
    "papermill": {
     "duration": 0.021662,
     "end_time": "2020-07-09T08:15:39.441100",
     "exception": false,
     "start_time": "2020-07-09T08:15:39.419438",
     "status": "completed"
    },
    "tags": []
   },
   "source": [
    "#### Checking summaries"
   ]
  },
  {
   "cell_type": "code",
   "execution_count": 27,
   "metadata": {
    "execution": {
     "iopub.execute_input": "2020-07-09T08:15:39.489067Z",
     "iopub.status.busy": "2020-07-09T08:15:39.488558Z",
     "iopub.status.idle": "2020-07-09T08:15:39.509587Z",
     "shell.execute_reply": "2020-07-09T08:15:39.509895Z"
    },
    "papermill": {
     "duration": 0.045314,
     "end_time": "2020-07-09T08:15:39.509963",
     "exception": false,
     "start_time": "2020-07-09T08:15:39.464649",
     "status": "completed"
    },
    "tags": []
   },
   "outputs": [
    {
     "name": "stdout",
     "output_type": "stream",
     "text": [
      "length of ham_summary:  6561\n",
      "CPU times: user 176 µs, sys: 1 µs, total: 177 µs\n",
      "Wall time: 119 µs\n"
     ]
    },
    {
     "data": {
      "text/html": [
       "<div>\n",
       "<style scoped>\n",
       "    .dataframe tbody tr th:only-of-type {\n",
       "        vertical-align: middle;\n",
       "    }\n",
       "\n",
       "    .dataframe tbody tr th {\n",
       "        vertical-align: top;\n",
       "    }\n",
       "\n",
       "    .dataframe thead th {\n",
       "        text-align: right;\n",
       "    }\n",
       "</style>\n",
       "<table border=\"1\" class=\"dataframe\">\n",
       "  <thead>\n",
       "    <tr style=\"text-align: right;\">\n",
       "      <th></th>\n",
       "      <th>t1</th>\n",
       "      <th>t2</th>\n",
       "      <th>type_of</th>\n",
       "      <th>-1</th>\n",
       "      <th>0</th>\n",
       "      <th>1</th>\n",
       "      <th>2</th>\n",
       "      <th>phase</th>\n",
       "      <th>pred_phase</th>\n",
       "    </tr>\n",
       "    <tr>\n",
       "      <th>id</th>\n",
       "      <th></th>\n",
       "      <th></th>\n",
       "      <th></th>\n",
       "      <th></th>\n",
       "      <th></th>\n",
       "      <th></th>\n",
       "      <th></th>\n",
       "      <th></th>\n",
       "      <th></th>\n",
       "    </tr>\n",
       "  </thead>\n",
       "  <tbody>\n",
       "    <tr>\n",
       "      <th>0</th>\n",
       "      <td>-2.0</td>\n",
       "      <td>-2.00</td>\n",
       "      <td>test</td>\n",
       "      <td>0.12</td>\n",
       "      <td>0.55</td>\n",
       "      <td>0.23</td>\n",
       "      <td>0.10</td>\n",
       "      <td>999</td>\n",
       "      <td>0</td>\n",
       "    </tr>\n",
       "    <tr>\n",
       "      <th>1</th>\n",
       "      <td>-2.0</td>\n",
       "      <td>-1.95</td>\n",
       "      <td>test</td>\n",
       "      <td>0.11</td>\n",
       "      <td>0.54</td>\n",
       "      <td>0.20</td>\n",
       "      <td>0.15</td>\n",
       "      <td>-1</td>\n",
       "      <td>0</td>\n",
       "    </tr>\n",
       "    <tr>\n",
       "      <th>2</th>\n",
       "      <td>-2.0</td>\n",
       "      <td>-1.90</td>\n",
       "      <td>test</td>\n",
       "      <td>0.14</td>\n",
       "      <td>0.49</td>\n",
       "      <td>0.21</td>\n",
       "      <td>0.16</td>\n",
       "      <td>-1</td>\n",
       "      <td>0</td>\n",
       "    </tr>\n",
       "    <tr>\n",
       "      <th>3</th>\n",
       "      <td>-2.0</td>\n",
       "      <td>-1.85</td>\n",
       "      <td>test</td>\n",
       "      <td>0.10</td>\n",
       "      <td>0.47</td>\n",
       "      <td>0.28</td>\n",
       "      <td>0.15</td>\n",
       "      <td>-1</td>\n",
       "      <td>0</td>\n",
       "    </tr>\n",
       "    <tr>\n",
       "      <th>4</th>\n",
       "      <td>-2.0</td>\n",
       "      <td>-1.80</td>\n",
       "      <td>test</td>\n",
       "      <td>0.16</td>\n",
       "      <td>0.40</td>\n",
       "      <td>0.29</td>\n",
       "      <td>0.15</td>\n",
       "      <td>-1</td>\n",
       "      <td>0</td>\n",
       "    </tr>\n",
       "    <tr>\n",
       "      <th>...</th>\n",
       "      <td>...</td>\n",
       "      <td>...</td>\n",
       "      <td>...</td>\n",
       "      <td>...</td>\n",
       "      <td>...</td>\n",
       "      <td>...</td>\n",
       "      <td>...</td>\n",
       "      <td>...</td>\n",
       "      <td>...</td>\n",
       "    </tr>\n",
       "    <tr>\n",
       "      <th>6556</th>\n",
       "      <td>2.0</td>\n",
       "      <td>1.80</td>\n",
       "      <td>test</td>\n",
       "      <td>0.19</td>\n",
       "      <td>0.32</td>\n",
       "      <td>0.25</td>\n",
       "      <td>0.24</td>\n",
       "      <td>-1</td>\n",
       "      <td>0</td>\n",
       "    </tr>\n",
       "    <tr>\n",
       "      <th>6557</th>\n",
       "      <td>2.0</td>\n",
       "      <td>1.85</td>\n",
       "      <td>test</td>\n",
       "      <td>0.15</td>\n",
       "      <td>0.30</td>\n",
       "      <td>0.21</td>\n",
       "      <td>0.34</td>\n",
       "      <td>-1</td>\n",
       "      <td>2</td>\n",
       "    </tr>\n",
       "    <tr>\n",
       "      <th>6558</th>\n",
       "      <td>2.0</td>\n",
       "      <td>1.90</td>\n",
       "      <td>test</td>\n",
       "      <td>0.14</td>\n",
       "      <td>0.38</td>\n",
       "      <td>0.22</td>\n",
       "      <td>0.26</td>\n",
       "      <td>-1</td>\n",
       "      <td>0</td>\n",
       "    </tr>\n",
       "    <tr>\n",
       "      <th>6559</th>\n",
       "      <td>2.0</td>\n",
       "      <td>1.95</td>\n",
       "      <td>test</td>\n",
       "      <td>0.09</td>\n",
       "      <td>0.38</td>\n",
       "      <td>0.15</td>\n",
       "      <td>0.38</td>\n",
       "      <td>-1</td>\n",
       "      <td>0</td>\n",
       "    </tr>\n",
       "    <tr>\n",
       "      <th>6560</th>\n",
       "      <td>2.0</td>\n",
       "      <td>2.00</td>\n",
       "      <td>test</td>\n",
       "      <td>0.06</td>\n",
       "      <td>0.42</td>\n",
       "      <td>0.19</td>\n",
       "      <td>0.33</td>\n",
       "      <td>999</td>\n",
       "      <td>0</td>\n",
       "    </tr>\n",
       "  </tbody>\n",
       "</table>\n",
       "<p>6561 rows × 9 columns</p>\n",
       "</div>"
      ],
      "text/plain": [
       "       t1    t2 type_of    -1     0     1     2  phase  pred_phase\n",
       "id                                                                \n",
       "0    -2.0 -2.00    test  0.12  0.55  0.23  0.10    999           0\n",
       "1    -2.0 -1.95    test  0.11  0.54  0.20  0.15     -1           0\n",
       "2    -2.0 -1.90    test  0.14  0.49  0.21  0.16     -1           0\n",
       "3    -2.0 -1.85    test  0.10  0.47  0.28  0.15     -1           0\n",
       "4    -2.0 -1.80    test  0.16  0.40  0.29  0.15     -1           0\n",
       "...   ...   ...     ...   ...   ...   ...   ...    ...         ...\n",
       "6556  2.0  1.80    test  0.19  0.32  0.25  0.24     -1           0\n",
       "6557  2.0  1.85    test  0.15  0.30  0.21  0.34     -1           2\n",
       "6558  2.0  1.90    test  0.14  0.38  0.22  0.26     -1           0\n",
       "6559  2.0  1.95    test  0.09  0.38  0.15  0.38     -1           0\n",
       "6560  2.0  2.00    test  0.06  0.42  0.19  0.33    999           0\n",
       "\n",
       "[6561 rows x 9 columns]"
      ]
     },
     "execution_count": 27,
     "metadata": {},
     "output_type": "execute_result"
    }
   ],
   "source": [
    "%%time\n",
    "ham_summary = simulation.hamiltonian_summary\n",
    "print(\"length of ham_summary: \", len(ham_summary))\n",
    "ham_summary"
   ]
  },
  {
   "cell_type": "code",
   "execution_count": 28,
   "metadata": {
    "execution": {
     "iopub.execute_input": "2020-07-09T08:15:39.660663Z",
     "iopub.status.busy": "2020-07-09T08:15:39.658586Z",
     "iopub.status.idle": "2020-07-09T08:15:39.854058Z",
     "shell.execute_reply": "2020-07-09T08:15:39.853657Z"
    },
    "papermill": {
     "duration": 0.321647,
     "end_time": "2020-07-09T08:15:39.854120",
     "exception": false,
     "start_time": "2020-07-09T08:15:39.532473",
     "status": "completed"
    },
    "tags": []
   },
   "outputs": [
    {
     "data": {
      "text/html": [
       "<div>\n",
       "<style scoped>\n",
       "    .dataframe tbody tr th:only-of-type {\n",
       "        vertical-align: middle;\n",
       "    }\n",
       "\n",
       "    .dataframe tbody tr th {\n",
       "        vertical-align: top;\n",
       "    }\n",
       "\n",
       "    .dataframe thead th {\n",
       "        text-align: right;\n",
       "    }\n",
       "</style>\n",
       "<table border=\"1\" class=\"dataframe\">\n",
       "  <thead>\n",
       "    <tr style=\"text-align: right;\">\n",
       "      <th></th>\n",
       "      <th>t1</th>\n",
       "      <th>t2</th>\n",
       "      <th>-1</th>\n",
       "      <th>0</th>\n",
       "      <th>1</th>\n",
       "      <th>2</th>\n",
       "      <th>phase</th>\n",
       "      <th>pred_phase</th>\n",
       "    </tr>\n",
       "  </thead>\n",
       "  <tbody>\n",
       "    <tr>\n",
       "      <th>count</th>\n",
       "      <td>6561.000000</td>\n",
       "      <td>6.561000e+03</td>\n",
       "      <td>6561.000000</td>\n",
       "      <td>6561.000000</td>\n",
       "      <td>6561.000000</td>\n",
       "      <td>6561.000000</td>\n",
       "      <td>6561.000000</td>\n",
       "      <td>6561.000000</td>\n",
       "    </tr>\n",
       "    <tr>\n",
       "      <th>mean</th>\n",
       "      <td>0.000000</td>\n",
       "      <td>-4.331917e-18</td>\n",
       "      <td>0.179253</td>\n",
       "      <td>0.326257</td>\n",
       "      <td>0.324653</td>\n",
       "      <td>0.169837</td>\n",
       "      <td>28.045877</td>\n",
       "      <td>0.488340</td>\n",
       "    </tr>\n",
       "    <tr>\n",
       "      <th>std</th>\n",
       "      <td>1.169134</td>\n",
       "      <td>1.169134e+00</td>\n",
       "      <td>0.333100</td>\n",
       "      <td>0.408525</td>\n",
       "      <td>0.413230</td>\n",
       "      <td>0.324340</td>\n",
       "      <td>163.557011</td>\n",
       "      <td>0.997967</td>\n",
       "    </tr>\n",
       "    <tr>\n",
       "      <th>min</th>\n",
       "      <td>-2.000000</td>\n",
       "      <td>-2.000000e+00</td>\n",
       "      <td>0.000000</td>\n",
       "      <td>0.000000</td>\n",
       "      <td>0.000000</td>\n",
       "      <td>0.000000</td>\n",
       "      <td>-1.000000</td>\n",
       "      <td>-1.000000</td>\n",
       "    </tr>\n",
       "    <tr>\n",
       "      <th>25%</th>\n",
       "      <td>-1.000000</td>\n",
       "      <td>-1.000000e+00</td>\n",
       "      <td>0.000000</td>\n",
       "      <td>0.000000</td>\n",
       "      <td>0.000000</td>\n",
       "      <td>0.000000</td>\n",
       "      <td>0.000000</td>\n",
       "      <td>0.000000</td>\n",
       "    </tr>\n",
       "    <tr>\n",
       "      <th>50%</th>\n",
       "      <td>0.000000</td>\n",
       "      <td>0.000000e+00</td>\n",
       "      <td>0.010000</td>\n",
       "      <td>0.070000</td>\n",
       "      <td>0.080000</td>\n",
       "      <td>0.010000</td>\n",
       "      <td>1.000000</td>\n",
       "      <td>0.000000</td>\n",
       "    </tr>\n",
       "    <tr>\n",
       "      <th>75%</th>\n",
       "      <td>1.000000</td>\n",
       "      <td>1.000000e+00</td>\n",
       "      <td>0.100000</td>\n",
       "      <td>0.880000</td>\n",
       "      <td>0.910000</td>\n",
       "      <td>0.080000</td>\n",
       "      <td>1.000000</td>\n",
       "      <td>1.000000</td>\n",
       "    </tr>\n",
       "    <tr>\n",
       "      <th>max</th>\n",
       "      <td>2.000000</td>\n",
       "      <td>2.000000e+00</td>\n",
       "      <td>1.000000</td>\n",
       "      <td>1.000000</td>\n",
       "      <td>1.000000</td>\n",
       "      <td>1.000000</td>\n",
       "      <td>999.000000</td>\n",
       "      <td>2.000000</td>\n",
       "    </tr>\n",
       "  </tbody>\n",
       "</table>\n",
       "</div>"
      ],
      "text/plain": [
       "                t1            t2           -1            0            1  \\\n",
       "count  6561.000000  6.561000e+03  6561.000000  6561.000000  6561.000000   \n",
       "mean      0.000000 -4.331917e-18     0.179253     0.326257     0.324653   \n",
       "std       1.169134  1.169134e+00     0.333100     0.408525     0.413230   \n",
       "min      -2.000000 -2.000000e+00     0.000000     0.000000     0.000000   \n",
       "25%      -1.000000 -1.000000e+00     0.000000     0.000000     0.000000   \n",
       "50%       0.000000  0.000000e+00     0.010000     0.070000     0.080000   \n",
       "75%       1.000000  1.000000e+00     0.100000     0.880000     0.910000   \n",
       "max       2.000000  2.000000e+00     1.000000     1.000000     1.000000   \n",
       "\n",
       "                 2        phase   pred_phase  \n",
       "count  6561.000000  6561.000000  6561.000000  \n",
       "mean      0.169837    28.045877     0.488340  \n",
       "std       0.324340   163.557011     0.997967  \n",
       "min       0.000000    -1.000000    -1.000000  \n",
       "25%       0.000000     0.000000     0.000000  \n",
       "50%       0.010000     1.000000     0.000000  \n",
       "75%       0.080000     1.000000     1.000000  \n",
       "max       1.000000   999.000000     2.000000  "
      ]
     },
     "execution_count": 28,
     "metadata": {},
     "output_type": "execute_result"
    }
   ],
   "source": [
    "ham_summary.describe()"
   ]
  },
  {
   "cell_type": "code",
   "execution_count": 29,
   "metadata": {
    "execution": {
     "iopub.execute_input": "2020-07-09T08:15:39.900493Z",
     "iopub.status.busy": "2020-07-09T08:15:39.900164Z",
     "iopub.status.idle": "2020-07-09T08:15:40.142324Z",
     "shell.execute_reply": "2020-07-09T08:15:40.140594Z"
    },
    "papermill": {
     "duration": 0.265787,
     "end_time": "2020-07-09T08:15:40.142570",
     "exception": false,
     "start_time": "2020-07-09T08:15:39.876783",
     "status": "completed"
    },
    "tags": []
   },
   "outputs": [
    {
     "name": "stdout",
     "output_type": "stream",
     "text": [
      "length of ham_summary:  656100\n"
     ]
    },
    {
     "data": {
      "text/html": [
       "<div>\n",
       "<style scoped>\n",
       "    .dataframe tbody tr th:only-of-type {\n",
       "        vertical-align: middle;\n",
       "    }\n",
       "\n",
       "    .dataframe tbody tr th {\n",
       "        vertical-align: top;\n",
       "    }\n",
       "\n",
       "    .dataframe thead th {\n",
       "        text-align: right;\n",
       "    }\n",
       "</style>\n",
       "<table border=\"1\" class=\"dataframe\">\n",
       "  <thead>\n",
       "    <tr style=\"text-align: right;\">\n",
       "      <th></th>\n",
       "      <th>id</th>\n",
       "      <th>phase</th>\n",
       "      <th>pred_phase</th>\n",
       "      <th>type_of</th>\n",
       "    </tr>\n",
       "  </thead>\n",
       "  <tbody>\n",
       "    <tr>\n",
       "      <th>0</th>\n",
       "      <td>0</td>\n",
       "      <td>999</td>\n",
       "      <td>-1</td>\n",
       "      <td>test</td>\n",
       "    </tr>\n",
       "    <tr>\n",
       "      <th>1</th>\n",
       "      <td>0</td>\n",
       "      <td>999</td>\n",
       "      <td>-1</td>\n",
       "      <td>test</td>\n",
       "    </tr>\n",
       "    <tr>\n",
       "      <th>2</th>\n",
       "      <td>0</td>\n",
       "      <td>999</td>\n",
       "      <td>1</td>\n",
       "      <td>test</td>\n",
       "    </tr>\n",
       "    <tr>\n",
       "      <th>3</th>\n",
       "      <td>0</td>\n",
       "      <td>999</td>\n",
       "      <td>1</td>\n",
       "      <td>test</td>\n",
       "    </tr>\n",
       "    <tr>\n",
       "      <th>4</th>\n",
       "      <td>0</td>\n",
       "      <td>999</td>\n",
       "      <td>1</td>\n",
       "      <td>test</td>\n",
       "    </tr>\n",
       "    <tr>\n",
       "      <th>...</th>\n",
       "      <td>...</td>\n",
       "      <td>...</td>\n",
       "      <td>...</td>\n",
       "      <td>...</td>\n",
       "    </tr>\n",
       "    <tr>\n",
       "      <th>656095</th>\n",
       "      <td>6560</td>\n",
       "      <td>999</td>\n",
       "      <td>0</td>\n",
       "      <td>test</td>\n",
       "    </tr>\n",
       "    <tr>\n",
       "      <th>656096</th>\n",
       "      <td>6560</td>\n",
       "      <td>999</td>\n",
       "      <td>0</td>\n",
       "      <td>test</td>\n",
       "    </tr>\n",
       "    <tr>\n",
       "      <th>656097</th>\n",
       "      <td>6560</td>\n",
       "      <td>999</td>\n",
       "      <td>0</td>\n",
       "      <td>test</td>\n",
       "    </tr>\n",
       "    <tr>\n",
       "      <th>656098</th>\n",
       "      <td>6560</td>\n",
       "      <td>999</td>\n",
       "      <td>1</td>\n",
       "      <td>test</td>\n",
       "    </tr>\n",
       "    <tr>\n",
       "      <th>656099</th>\n",
       "      <td>6560</td>\n",
       "      <td>999</td>\n",
       "      <td>0</td>\n",
       "      <td>test</td>\n",
       "    </tr>\n",
       "  </tbody>\n",
       "</table>\n",
       "<p>656100 rows × 4 columns</p>\n",
       "</div>"
      ],
      "text/plain": [
       "          id  phase  pred_phase type_of\n",
       "0          0    999          -1    test\n",
       "1          0    999          -1    test\n",
       "2          0    999           1    test\n",
       "3          0    999           1    test\n",
       "4          0    999           1    test\n",
       "...      ...    ...         ...     ...\n",
       "656095  6560    999           0    test\n",
       "656096  6560    999           0    test\n",
       "656097  6560    999           0    test\n",
       "656098  6560    999           1    test\n",
       "656099  6560    999           0    test\n",
       "\n",
       "[656100 rows x 4 columns]"
      ]
     },
     "execution_count": 29,
     "metadata": {},
     "output_type": "execute_result"
    }
   ],
   "source": [
    "eigen_summary = simulation.eigenvector_summary\n",
    "print(\"length of ham_summary: \", len(eigen_summary))\n",
    "eigen_summary"
   ]
  },
  {
   "cell_type": "markdown",
   "metadata": {
    "papermill": {
     "duration": 0.828837,
     "end_time": "2020-07-09T08:15:41.063674",
     "exception": false,
     "start_time": "2020-07-09T08:15:40.234837",
     "status": "completed"
    },
    "tags": []
   },
   "source": [
    "#### Checking accuracies"
   ]
  },
  {
   "cell_type": "code",
   "execution_count": 30,
   "metadata": {
    "execution": {
     "iopub.execute_input": "2020-07-09T08:15:41.152855Z",
     "iopub.status.busy": "2020-07-09T08:15:41.152509Z",
     "iopub.status.idle": "2020-07-09T08:15:41.225853Z",
     "shell.execute_reply": "2020-07-09T08:15:41.225170Z"
    },
    "papermill": {
     "duration": 0.097989,
     "end_time": "2020-07-09T08:15:41.225951",
     "exception": false,
     "start_time": "2020-07-09T08:15:41.127962",
     "status": "completed"
    },
    "tags": []
   },
   "outputs": [
    {
     "data": {
      "text/plain": [
       "{'eigenvector_train': 0.9993915248098515,\n",
       " 'eigenvector_val': 0.8891449275362319,\n",
       " 'eigenvector_test': 0.4927240977881257,\n",
       " 'hamiltonian_train': 1.0,\n",
       " 'hamiltonian_val': 0.9945652173913043,\n",
       " 'hamiltonian_test': 0.7578579743888242}"
      ]
     },
     "execution_count": 30,
     "metadata": {},
     "output_type": "execute_result"
    }
   ],
   "source": [
    "simulation.accuracy"
   ]
  },
  {
   "cell_type": "markdown",
   "metadata": {
    "papermill": {
     "duration": 0.021969,
     "end_time": "2020-07-09T08:15:41.272192",
     "exception": false,
     "start_time": "2020-07-09T08:15:41.250223",
     "status": "completed"
    },
    "tags": []
   },
   "source": [
    "#### Checking data stored in  memory"
   ]
  },
  {
   "cell_type": "code",
   "execution_count": 31,
   "metadata": {
    "execution": {
     "iopub.execute_input": "2020-07-09T08:15:41.316609Z",
     "iopub.status.busy": "2020-07-09T08:15:41.316295Z",
     "iopub.status.idle": "2020-07-09T08:15:41.365730Z",
     "shell.execute_reply": "2020-07-09T08:15:41.365295Z"
    },
    "papermill": {
     "duration": 0.072266,
     "end_time": "2020-07-09T08:15:41.365797",
     "exception": false,
     "start_time": "2020-07-09T08:15:41.293531",
     "status": "completed"
    },
    "tags": []
   },
   "outputs": [
    {
     "data": {
      "text/plain": [
       "[]"
      ]
     },
     "execution_count": 31,
     "metadata": {},
     "output_type": "execute_result"
    }
   ],
   "source": [
    "ham_summary_list = simulation.hamiltonian_summary_list\n",
    "ham_summary_list"
   ]
  },
  {
   "cell_type": "code",
   "execution_count": 32,
   "metadata": {
    "execution": {
     "iopub.execute_input": "2020-07-09T08:15:41.420217Z",
     "iopub.status.busy": "2020-07-09T08:15:41.419905Z",
     "iopub.status.idle": "2020-07-09T08:15:41.439687Z",
     "shell.execute_reply": "2020-07-09T08:15:41.439992Z"
    },
    "papermill": {
     "duration": 0.044429,
     "end_time": "2020-07-09T08:15:41.440057",
     "exception": false,
     "start_time": "2020-07-09T08:15:41.395628",
     "status": "completed"
    },
    "tags": []
   },
   "outputs": [
    {
     "data": {
      "text/plain": [
       "[]"
      ]
     },
     "execution_count": 32,
     "metadata": {},
     "output_type": "execute_result"
    }
   ],
   "source": [
    "eigen_summary_list = simulation.eigenvector_summary_list\n",
    "eigen_summary_list"
   ]
  },
  {
   "cell_type": "code",
   "execution_count": 33,
   "metadata": {
    "execution": {
     "iopub.execute_input": "2020-07-09T08:15:41.485046Z",
     "iopub.status.busy": "2020-07-09T08:15:41.484733Z",
     "iopub.status.idle": "2020-07-09T08:15:41.558624Z",
     "shell.execute_reply": "2020-07-09T08:15:41.559269Z"
    },
    "papermill": {
     "duration": 0.097725,
     "end_time": "2020-07-09T08:15:41.559394",
     "exception": false,
     "start_time": "2020-07-09T08:15:41.461669",
     "status": "completed"
    },
    "tags": []
   },
   "outputs": [
    {
     "data": {
      "text/plain": [
       "{'eigenvector_train': [],\n",
       " 'eigenvector_val': [],\n",
       " 'eigenvector_test': [],\n",
       " 'hamiltonian_train': [],\n",
       " 'hamiltonian_val': [],\n",
       " 'hamiltonian_test': []}"
      ]
     },
     "execution_count": 33,
     "metadata": {},
     "output_type": "execute_result"
    }
   ],
   "source": [
    "accuracy_list = simulation.accuracy_list\n",
    "accuracy_list"
   ]
  },
  {
   "cell_type": "code",
   "execution_count": null,
   "metadata": {
    "papermill": {
     "duration": 0.0232,
     "end_time": "2020-07-09T08:15:41.628350",
     "exception": false,
     "start_time": "2020-07-09T08:15:41.605150",
     "status": "completed"
    },
    "tags": []
   },
   "outputs": [],
   "source": []
  },
  {
   "cell_type": "code",
   "execution_count": null,
   "metadata": {
    "papermill": {
     "duration": 0.021614,
     "end_time": "2020-07-09T08:15:41.671708",
     "exception": false,
     "start_time": "2020-07-09T08:15:41.650094",
     "status": "completed"
    },
    "tags": []
   },
   "outputs": [],
   "source": []
  },
  {
   "cell_type": "code",
   "execution_count": 34,
   "metadata": {
    "execution": {
     "iopub.execute_input": "2020-07-09T08:15:41.716923Z",
     "iopub.status.busy": "2020-07-09T08:15:41.716613Z",
     "iopub.status.idle": "2020-07-09T08:15:41.726062Z",
     "shell.execute_reply": "2020-07-09T08:15:41.725739Z"
    },
    "papermill": {
     "duration": 0.032777,
     "end_time": "2020-07-09T08:15:41.726114",
     "exception": false,
     "start_time": "2020-07-09T08:15:41.693337",
     "status": "completed"
    },
    "tags": []
   },
   "outputs": [],
   "source": [
    "#simulation.fourier_matrix"
   ]
  },
  {
   "cell_type": "code",
   "execution_count": 35,
   "metadata": {
    "execution": {
     "iopub.execute_input": "2020-07-09T08:15:41.774240Z",
     "iopub.status.busy": "2020-07-09T08:15:41.773901Z",
     "iopub.status.idle": "2020-07-09T08:15:41.840671Z",
     "shell.execute_reply": "2020-07-09T08:15:41.840039Z"
    },
    "papermill": {
     "duration": 0.091829,
     "end_time": "2020-07-09T08:15:41.840775",
     "exception": false,
     "start_time": "2020-07-09T08:15:41.748946",
     "status": "completed"
    },
    "tags": []
   },
   "outputs": [],
   "source": [
    "#simulation.fourier_matrix.shape"
   ]
  },
  {
   "cell_type": "code",
   "execution_count": 36,
   "metadata": {
    "execution": {
     "iopub.execute_input": "2020-07-09T08:15:41.911044Z",
     "iopub.status.busy": "2020-07-09T08:15:41.910705Z",
     "iopub.status.idle": "2020-07-09T08:15:41.921186Z",
     "shell.execute_reply": "2020-07-09T08:15:41.920735Z"
    },
    "papermill": {
     "duration": 0.037429,
     "end_time": "2020-07-09T08:15:41.921248",
     "exception": false,
     "start_time": "2020-07-09T08:15:41.883819",
     "status": "completed"
    },
    "tags": []
   },
   "outputs": [],
   "source": [
    "#simulation.fourier_matrix[:,0]"
   ]
  },
  {
   "cell_type": "code",
   "execution_count": 37,
   "metadata": {
    "execution": {
     "iopub.execute_input": "2020-07-09T08:15:41.971428Z",
     "iopub.status.busy": "2020-07-09T08:15:41.971103Z",
     "iopub.status.idle": "2020-07-09T08:15:42.048468Z",
     "shell.execute_reply": "2020-07-09T08:15:42.050168Z"
    },
    "papermill": {
     "duration": 0.105617,
     "end_time": "2020-07-09T08:15:42.050554",
     "exception": false,
     "start_time": "2020-07-09T08:15:41.944937",
     "status": "completed"
    },
    "tags": []
   },
   "outputs": [],
   "source": [
    "#simulation.fourier_matrix[:,1]"
   ]
  },
  {
   "cell_type": "code",
   "execution_count": 38,
   "metadata": {
    "execution": {
     "iopub.execute_input": "2020-07-09T08:15:42.135188Z",
     "iopub.status.busy": "2020-07-09T08:15:42.134876Z",
     "iopub.status.idle": "2020-07-09T08:15:42.144705Z",
     "shell.execute_reply": "2020-07-09T08:15:42.145064Z"
    },
    "papermill": {
     "duration": 0.03605,
     "end_time": "2020-07-09T08:15:42.145150",
     "exception": false,
     "start_time": "2020-07-09T08:15:42.109100",
     "status": "completed"
    },
    "tags": []
   },
   "outputs": [],
   "source": [
    "#np.exp(-1j*2*np.pi*3/100)"
   ]
  },
  {
   "cell_type": "code",
   "execution_count": 39,
   "metadata": {
    "execution": {
     "iopub.execute_input": "2020-07-09T08:15:42.195110Z",
     "iopub.status.busy": "2020-07-09T08:15:42.194792Z",
     "iopub.status.idle": "2020-07-09T08:15:42.265715Z",
     "shell.execute_reply": "2020-07-09T08:15:42.266371Z"
    },
    "papermill": {
     "duration": 0.096634,
     "end_time": "2020-07-09T08:15:42.266501",
     "exception": false,
     "start_time": "2020-07-09T08:15:42.169867",
     "status": "completed"
    },
    "tags": []
   },
   "outputs": [],
   "source": [
    "#for i in range(1,50):\n",
    "#    print(\"\\n\")\n",
    "#    print(i)\n",
    "#    print(np.sum((np.real(simulation.fourier_matrix[:,i]) - np.real(simulation.fourier_matrix[:,-i]))**2))\n",
    "#    print(np.sum((np.imag(simulation.fourier_matrix[:,i])+ np.imag(simulation.fourier_matrix[:,-i]))**2))"
   ]
  },
  {
   "cell_type": "code",
   "execution_count": 40,
   "metadata": {
    "execution": {
     "iopub.execute_input": "2020-07-09T08:15:42.348108Z",
     "iopub.status.busy": "2020-07-09T08:15:42.347804Z",
     "iopub.status.idle": "2020-07-09T08:15:42.366292Z",
     "shell.execute_reply": "2020-07-09T08:15:42.366009Z"
    },
    "papermill": {
     "duration": 0.053126,
     "end_time": "2020-07-09T08:15:42.366345",
     "exception": false,
     "start_time": "2020-07-09T08:15:42.313219",
     "status": "completed"
    },
    "tags": []
   },
   "outputs": [],
   "source": [
    "#print(simulation.fourier_matrix[:,0])"
   ]
  },
  {
   "cell_type": "code",
   "execution_count": 41,
   "metadata": {
    "execution": {
     "iopub.execute_input": "2020-07-09T08:15:42.413325Z",
     "iopub.status.busy": "2020-07-09T08:15:42.412986Z",
     "iopub.status.idle": "2020-07-09T08:15:42.483288Z",
     "shell.execute_reply": "2020-07-09T08:15:42.482586Z"
    },
    "papermill": {
     "duration": 0.094277,
     "end_time": "2020-07-09T08:15:42.483390",
     "exception": false,
     "start_time": "2020-07-09T08:15:42.389113",
     "status": "completed"
    },
    "tags": []
   },
   "outputs": [],
   "source": [
    "#print(simulation.fourier_matrix[:,50])"
   ]
  },
  {
   "cell_type": "code",
   "execution_count": null,
   "metadata": {
    "papermill": {
     "duration": 0.023275,
     "end_time": "2020-07-09T08:15:42.551990",
     "exception": false,
     "start_time": "2020-07-09T08:15:42.528715",
     "status": "completed"
    },
    "tags": []
   },
   "outputs": [],
   "source": []
  }
 ],
 "metadata": {
  "celltoolbar": "Tags",
  "kernelspec": {
   "display_name": "ml_top_phases",
   "language": "python",
   "name": "ml_top_phases"
  },
  "language_info": {
   "codemirror_mode": {
    "name": "ipython",
    "version": 3
   },
   "file_extension": ".py",
   "mimetype": "text/x-python",
   "name": "python",
   "nbconvert_exporter": "python",
   "pygments_lexer": "ipython3",
   "version": "3.6.10"
  },
  "papermill": {
   "duration": 95.342615,
   "end_time": "2020-07-09T08:15:42.680807",
   "environment_variables": {},
   "exception": null,
   "input_path": "0_simulation_template.ipynb",
   "output_path": "zzz_simulation_output_ssh2_8th_scenario_100_6561.ipynb",
   "parameters": {
    "allowed_windings": [
     -1,
     0,
     1,
     2
    ],
    "csv_path": "/home/rio/ssh_csvs/ssh2/periodic_100_6561.csv",
    "features_to_use": [
     0,
     1,
     2,
     3,
     4,
     5,
     6,
     7,
     46,
     48,
     49,
     50
    ],
    "fillna": false,
    "fit_params": null,
    "fourier_features_to_use": [
     0,
     1,
     2,
     3,
     4,
     5,
     6,
     8,
     42,
     44,
     46,
     48
    ],
    "fourier_fillna": false,
    "fourier_mode": "dct",
    "fourier_normalize": false,
    "fourier_real": null,
    "model_kw": {
     "criterion": "entropy",
     "n_estimators": 25,
     "n_jobs": -1
    },
    "model_name": "RandomForestClassifier",
    "n_experiments": 5,
    "normalize": false,
    "pred_params": null,
    "random_features": false,
    "random_state": 34896,
    "save_accuracy": true,
    "save_eigenvector": true,
    "save_hamiltonian": true,
    "save_models": true,
    "shuffle_features": false,
    "shuffle_rows": true,
    "simulation_dir": "/home/rio/ssh_simulations/ssh2/periodic_8th_scenario_100_6561",
    "start_n": 0,
    "store_in_lists": false,
    "val_split": 0.5
   },
   "start_time": "2020-07-09T08:14:07.338192",
   "version": "2.1.0"
  }
 },
 "nbformat": 4,
 "nbformat_minor": 2
}