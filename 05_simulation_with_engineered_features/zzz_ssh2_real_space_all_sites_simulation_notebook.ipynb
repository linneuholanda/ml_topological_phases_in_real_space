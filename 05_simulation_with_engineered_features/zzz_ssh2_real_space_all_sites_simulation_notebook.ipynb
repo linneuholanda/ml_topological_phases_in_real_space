{
 "cells": [
  {
   "cell_type": "markdown",
   "metadata": {
    "papermill": {
     "duration": 0.020236,
     "end_time": "2020-07-18T06:24:44.503524",
     "exception": false,
     "start_time": "2020-07-18T06:24:44.483288",
     "status": "completed"
    },
    "tags": []
   },
   "source": [
    "# Simulation template \n",
    "\n",
    "In this notebook we run the machine learning analysis of topological phase transitions occurring  in both nearest-neighbours SSH models (ssh1) and second neighbours models (ssh2) as decribed in the paper [Machine learning topological phases in real space](https://arxiv.org/abs/1901.01963). Here the simulation is run with features generated from fourier components in the first scenario. This scenario is characterized by using only the EVEN wavevector space eigenmodes, computed from ALL real space components."
   ]
  },
  {
   "cell_type": "markdown",
   "metadata": {
    "papermill": {
     "duration": 0.016775,
     "end_time": "2020-07-18T06:24:44.536904",
     "exception": false,
     "start_time": "2020-07-18T06:24:44.520129",
     "status": "completed"
    },
    "tags": []
   },
   "source": [
    "## Defining parameters"
   ]
  },
  {
   "cell_type": "code",
   "execution_count": 1,
   "metadata": {
    "execution": {
     "iopub.execute_input": "2020-07-18T06:24:44.573293Z",
     "iopub.status.busy": "2020-07-18T06:24:44.572971Z",
     "iopub.status.idle": "2020-07-18T06:24:45.186128Z",
     "shell.execute_reply": "2020-07-18T06:24:45.186435Z"
    },
    "papermill": {
     "duration": 0.633519,
     "end_time": "2020-07-18T06:24:45.186506",
     "exception": false,
     "start_time": "2020-07-18T06:24:44.552987",
     "status": "completed"
    },
    "tags": []
   },
   "outputs": [
    {
     "name": "stdout",
     "output_type": "stream",
     "text": [
      "CPU times: user 765 ms, sys: 275 ms, total: 1.04 s\n",
      "Wall time: 606 ms\n"
     ]
    }
   ],
   "source": [
    "%%time\n",
    "%load_ext autoreload\n",
    "%autoreload 2\n",
    "from simulation import *"
   ]
  },
  {
   "cell_type": "code",
   "execution_count": 2,
   "metadata": {
    "execution": {
     "iopub.execute_input": "2020-07-18T06:24:45.223742Z",
     "iopub.status.busy": "2020-07-18T06:24:45.223386Z",
     "iopub.status.idle": "2020-07-18T06:24:45.234501Z",
     "shell.execute_reply": "2020-07-18T06:24:45.234805Z"
    },
    "papermill": {
     "duration": 0.030125,
     "end_time": "2020-07-18T06:24:45.234870",
     "exception": false,
     "start_time": "2020-07-18T06:24:45.204745",
     "status": "completed"
    },
    "tags": [
     "parameters"
    ]
   },
   "outputs": [
    {
     "name": "stdout",
     "output_type": "stream",
     "text": [
      "CPU times: user 2 µs, sys: 0 ns, total: 2 µs\n",
      "Wall time: 4.53 µs\n"
     ]
    }
   ],
   "source": [
    "%%time\n",
    "### Dataset and simulation parameters\n",
    "#csv_path = SSH2_PERIODIC_100_6561_CSV \n",
    "csv_path = SSH1_PERIODIC_100_6561_CSV \n",
    "model_name = \"DecisionTreeClassifier\"\n",
    "model_kw = {\"criterion\":\"entropy\"}\n",
    "allowed_windings = [0,1]\n",
    "#allowed_windings = [-1,0,1,2]\n",
    "simulation_dir = SSH1_REAL_SPACE_ALL_SITES\n",
    "#simulation_dir = SSH2_PERIODIC_ENGINEERED_100_6561_SIMULATION_DIR\n",
    "val_split = 0.9  \n",
    "features_to_use = None\n",
    "shuffle_features = False\n",
    "random_state = 763\n",
    "\n",
    "### Fourier features\n",
    "fourier_mode = \"dst\"\n",
    "fourier_features_to_use = None\n",
    "fourier_real = \"imag\"\n",
    "fourier_normalize = False\n",
    "fourier_fillna = False\n",
    "\n",
    "### Running a simulation\n",
    "n_experiments = 5\n",
    "start_n = 0\n",
    "fit_params = None\n",
    "#mode=mode\n",
    "shuffle_rows = True\n",
    "pred_params = None\n",
    "random_features = False\n",
    "######### DON'T SET THIS TO TRUE UNLESS YOUR DATASET IS SMALL!! WILL FLOOD YOUR MEMORY!!!\n",
    "store_in_lists = False   \n",
    "########## BELOW ARE THE PARAMETERS THAT CONTROL WHAT WILL BE SAVED\n",
    "save_eigenvector=True\n",
    "save_hamiltonian=True \n",
    "save_accuracy=True \n",
    "save_models=True"
   ]
  },
  {
   "cell_type": "code",
   "execution_count": 3,
   "metadata": {
    "execution": {
     "iopub.execute_input": "2020-07-18T06:24:45.274946Z",
     "iopub.status.busy": "2020-07-18T06:24:45.274624Z",
     "iopub.status.idle": "2020-07-18T06:24:45.381582Z",
     "shell.execute_reply": "2020-07-18T06:24:45.379884Z"
    },
    "papermill": {
     "duration": 0.128463,
     "end_time": "2020-07-18T06:24:45.381837",
     "exception": false,
     "start_time": "2020-07-18T06:24:45.253374",
     "status": "completed"
    },
    "tags": [
     "injected-parameters"
    ]
   },
   "outputs": [],
   "source": [
    "# Parameters\n",
    "model_kw = {\"criterion\": \"entropy\", \"n_estimators\": 25, \"n_jobs\": -1}\n",
    "allowed_windings = [-1, 0, 1, 2]\n",
    "val_split = 0.5\n",
    "features_to_use = None\n",
    "shuffle_features = False\n",
    "n_experiments = 100\n",
    "start_n = 0\n",
    "fit_params = None\n",
    "shuffle_rows = True\n",
    "pred_params = None\n",
    "random_features = False\n",
    "store_in_lists = False\n",
    "save_eigenvector = True\n",
    "save_hamiltonian = True\n",
    "save_accuracy = True\n",
    "save_models = True\n",
    "csv_path = \"/home/rio/ssh_csvs/ssh2/periodic_100_6561.csv\"\n",
    "model_name = \"RandomForestClassifier\"\n",
    "simulation_dir = \"/home/rio/ssh_simulations/ssh2/periodic_100_6561/real_space_all_sites\"\n",
    "random_state = 2010\n",
    "fourier_features_to_use = None\n",
    "fourier_mode = None\n",
    "fourier_real = None\n",
    "fourier_normalize = None\n",
    "fourier_fillna = None\n"
   ]
  },
  {
   "cell_type": "code",
   "execution_count": 4,
   "metadata": {
    "execution": {
     "iopub.execute_input": "2020-07-18T06:24:45.454637Z",
     "iopub.status.busy": "2020-07-18T06:24:45.454318Z",
     "iopub.status.idle": "2020-07-18T06:24:50.804827Z",
     "shell.execute_reply": "2020-07-18T06:24:50.804507Z"
    },
    "papermill": {
     "duration": 5.371782,
     "end_time": "2020-07-18T06:24:50.804879",
     "exception": false,
     "start_time": "2020-07-18T06:24:45.433097",
     "status": "completed"
    },
    "tags": []
   },
   "outputs": [
    {
     "name": "stdout",
     "output_type": "stream",
     "text": [
      "Info on all data: \n",
      "\n",
      "<class 'pandas.core.frame.DataFrame'>\n",
      "Int64Index: 656100 entries, 0 to 656099\n",
      "Columns: 108 entries, id to feat99\n",
      "dtypes: float64(103), int32(3), object(2)\n",
      "memory usage: 538.1+ MB\n",
      "CPU times: user 5.07 s, sys: 250 ms, total: 5.32 s\n",
      "Wall time: 5.32 s\n"
     ]
    },
    {
     "data": {
      "text/html": [
       "<div>\n",
       "<style scoped>\n",
       "    .dataframe tbody tr th:only-of-type {\n",
       "        vertical-align: middle;\n",
       "    }\n",
       "\n",
       "    .dataframe tbody tr th {\n",
       "        vertical-align: top;\n",
       "    }\n",
       "\n",
       "    .dataframe thead th {\n",
       "        text-align: right;\n",
       "    }\n",
       "</style>\n",
       "<table border=\"1\" class=\"dataframe\">\n",
       "  <thead>\n",
       "    <tr style=\"text-align: right;\">\n",
       "      <th></th>\n",
       "      <th>id</th>\n",
       "      <th>path</th>\n",
       "      <th>t1</th>\n",
       "      <th>t2</th>\n",
       "      <th>winding</th>\n",
       "      <th>phase</th>\n",
       "      <th>pred_phase</th>\n",
       "      <th>type_of</th>\n",
       "      <th>feat0</th>\n",
       "      <th>feat1</th>\n",
       "      <th>...</th>\n",
       "      <th>feat90</th>\n",
       "      <th>feat91</th>\n",
       "      <th>feat92</th>\n",
       "      <th>feat93</th>\n",
       "      <th>feat94</th>\n",
       "      <th>feat95</th>\n",
       "      <th>feat96</th>\n",
       "      <th>feat97</th>\n",
       "      <th>feat98</th>\n",
       "      <th>feat99</th>\n",
       "    </tr>\n",
       "  </thead>\n",
       "  <tbody>\n",
       "    <tr>\n",
       "      <th>0</th>\n",
       "      <td>0</td>\n",
       "      <td>H_-2_-2_0.501338.dat</td>\n",
       "      <td>-2.0</td>\n",
       "      <td>-2.0</td>\n",
       "      <td>0.501338</td>\n",
       "      <td>999</td>\n",
       "      <td>666</td>\n",
       "      <td>test</td>\n",
       "      <td>-0.130965</td>\n",
       "      <td>0.301130</td>\n",
       "      <td>...</td>\n",
       "      <td>-0.080279</td>\n",
       "      <td>-0.115687</td>\n",
       "      <td>-0.174988</td>\n",
       "      <td>0.245064</td>\n",
       "      <td>0.319763</td>\n",
       "      <td>-0.059082</td>\n",
       "      <td>-0.000556</td>\n",
       "      <td>-0.245133</td>\n",
       "      <td>-0.301130</td>\n",
       "      <td>0.130965</td>\n",
       "    </tr>\n",
       "    <tr>\n",
       "      <th>1</th>\n",
       "      <td>0</td>\n",
       "      <td>H_-2_-2_0.501338.dat</td>\n",
       "      <td>-2.0</td>\n",
       "      <td>-2.0</td>\n",
       "      <td>0.501338</td>\n",
       "      <td>999</td>\n",
       "      <td>666</td>\n",
       "      <td>test</td>\n",
       "      <td>-0.130965</td>\n",
       "      <td>-0.301130</td>\n",
       "      <td>...</td>\n",
       "      <td>-0.080279</td>\n",
       "      <td>0.115687</td>\n",
       "      <td>-0.174988</td>\n",
       "      <td>-0.245064</td>\n",
       "      <td>0.319763</td>\n",
       "      <td>0.059082</td>\n",
       "      <td>-0.000556</td>\n",
       "      <td>0.245133</td>\n",
       "      <td>-0.301130</td>\n",
       "      <td>-0.130965</td>\n",
       "    </tr>\n",
       "    <tr>\n",
       "      <th>2</th>\n",
       "      <td>0</td>\n",
       "      <td>H_-2_-2_0.501338.dat</td>\n",
       "      <td>-2.0</td>\n",
       "      <td>-2.0</td>\n",
       "      <td>0.501338</td>\n",
       "      <td>999</td>\n",
       "      <td>666</td>\n",
       "      <td>test</td>\n",
       "      <td>-0.148414</td>\n",
       "      <td>-0.042467</td>\n",
       "      <td>...</td>\n",
       "      <td>0.185442</td>\n",
       "      <td>-0.080620</td>\n",
       "      <td>-0.066211</td>\n",
       "      <td>-0.121339</td>\n",
       "      <td>-0.151700</td>\n",
       "      <td>0.192513</td>\n",
       "      <td>0.191642</td>\n",
       "      <td>-0.050956</td>\n",
       "      <td>-0.042467</td>\n",
       "      <td>-0.148414</td>\n",
       "    </tr>\n",
       "    <tr>\n",
       "      <th>3</th>\n",
       "      <td>0</td>\n",
       "      <td>H_-2_-2_0.501338.dat</td>\n",
       "      <td>-2.0</td>\n",
       "      <td>-2.0</td>\n",
       "      <td>0.501338</td>\n",
       "      <td>999</td>\n",
       "      <td>666</td>\n",
       "      <td>test</td>\n",
       "      <td>-0.069630</td>\n",
       "      <td>-0.026147</td>\n",
       "      <td>...</td>\n",
       "      <td>0.102009</td>\n",
       "      <td>-0.100671</td>\n",
       "      <td>-0.081002</td>\n",
       "      <td>-0.020715</td>\n",
       "      <td>-0.058717</td>\n",
       "      <td>0.115834</td>\n",
       "      <td>0.118274</td>\n",
       "      <td>-0.054666</td>\n",
       "      <td>-0.026147</td>\n",
       "      <td>-0.069630</td>\n",
       "    </tr>\n",
       "    <tr>\n",
       "      <th>4</th>\n",
       "      <td>0</td>\n",
       "      <td>H_-2_-2_0.501338.dat</td>\n",
       "      <td>-2.0</td>\n",
       "      <td>-2.0</td>\n",
       "      <td>0.501338</td>\n",
       "      <td>999</td>\n",
       "      <td>666</td>\n",
       "      <td>test</td>\n",
       "      <td>0.010206</td>\n",
       "      <td>-0.014625</td>\n",
       "      <td>...</td>\n",
       "      <td>0.047555</td>\n",
       "      <td>-0.041368</td>\n",
       "      <td>-0.018852</td>\n",
       "      <td>-0.017673</td>\n",
       "      <td>-0.023377</td>\n",
       "      <td>0.031447</td>\n",
       "      <td>0.010280</td>\n",
       "      <td>0.000925</td>\n",
       "      <td>0.014625</td>\n",
       "      <td>-0.010206</td>\n",
       "    </tr>\n",
       "  </tbody>\n",
       "</table>\n",
       "<p>5 rows × 108 columns</p>\n",
       "</div>"
      ],
      "text/plain": [
       "   id                  path   t1   t2   winding  phase  pred_phase type_of  \\\n",
       "0   0  H_-2_-2_0.501338.dat -2.0 -2.0  0.501338    999         666    test   \n",
       "1   0  H_-2_-2_0.501338.dat -2.0 -2.0  0.501338    999         666    test   \n",
       "2   0  H_-2_-2_0.501338.dat -2.0 -2.0  0.501338    999         666    test   \n",
       "3   0  H_-2_-2_0.501338.dat -2.0 -2.0  0.501338    999         666    test   \n",
       "4   0  H_-2_-2_0.501338.dat -2.0 -2.0  0.501338    999         666    test   \n",
       "\n",
       "      feat0     feat1  ...    feat90    feat91    feat92    feat93    feat94  \\\n",
       "0 -0.130965  0.301130  ... -0.080279 -0.115687 -0.174988  0.245064  0.319763   \n",
       "1 -0.130965 -0.301130  ... -0.080279  0.115687 -0.174988 -0.245064  0.319763   \n",
       "2 -0.148414 -0.042467  ...  0.185442 -0.080620 -0.066211 -0.121339 -0.151700   \n",
       "3 -0.069630 -0.026147  ...  0.102009 -0.100671 -0.081002 -0.020715 -0.058717   \n",
       "4  0.010206 -0.014625  ...  0.047555 -0.041368 -0.018852 -0.017673 -0.023377   \n",
       "\n",
       "     feat95    feat96    feat97    feat98    feat99  \n",
       "0 -0.059082 -0.000556 -0.245133 -0.301130  0.130965  \n",
       "1  0.059082 -0.000556  0.245133 -0.301130 -0.130965  \n",
       "2  0.192513  0.191642 -0.050956 -0.042467 -0.148414  \n",
       "3  0.115834  0.118274 -0.054666 -0.026147 -0.069630  \n",
       "4  0.031447  0.010280  0.000925  0.014625 -0.010206  \n",
       "\n",
       "[5 rows x 108 columns]"
      ]
     },
     "execution_count": 4,
     "metadata": {},
     "output_type": "execute_result"
    }
   ],
   "source": [
    "%%time\n",
    "#Starting an instance of Simulation with a decision tree\n",
    "model = DecisionTreeClassifier(criterion=\"entropy\")\n",
    "#dict_args = {\"csv_path\":csv_path, \"model\":model, \"allowed_windings\":allowed_windings,\\\n",
    "#             \"simulation_dir\":simulation_dir, \"val_split\":val_split, \"features_to_use\":features_to_use,\\\n",
    "#            \"shuffle_features\":shuffle_features, \"random_state\":random_state}\n",
    "simulation = Simulation(csv_path,model_name,model_kw,allowed_windings,simulation_dir,val_split,features_to_use,\\\n",
    "                       shuffle_features,fourier_mode,fourier_features_to_use,fourier_real,\\\n",
    "                       fourier_normalize, fourier_fillna , random_state)\n",
    "#simulation = Simulation(**dict_args)\n",
    "\n",
    "\n",
    "#(self, csv_path, model_name, model_kw, allowed_windings, simulation_dir = None, val_split = 0, \n",
    "# features_to_use = None, shuffle_features = False, fourier_mode=None, fourier_features_to_use=None,\n",
    "# fourier_real = False, fourier_normalize = False, Fourier_fillna=False, random_state = None):\n",
    "\n",
    "\n",
    "\n",
    "print(\"Info on all data: \\n\")\n",
    "simulation.dataframe.info()\n",
    "simulation.dataframe.head()"
   ]
  },
  {
   "cell_type": "markdown",
   "metadata": {
    "papermill": {
     "duration": 0.017623,
     "end_time": "2020-07-18T06:24:50.840635",
     "exception": false,
     "start_time": "2020-07-18T06:24:50.823012",
     "status": "completed"
    },
    "tags": []
   },
   "source": [
    "####  Fourier features"
   ]
  },
  {
   "cell_type": "code",
   "execution_count": 5,
   "metadata": {
    "execution": {
     "iopub.execute_input": "2020-07-18T06:24:50.878729Z",
     "iopub.status.busy": "2020-07-18T06:24:50.878418Z",
     "iopub.status.idle": "2020-07-18T06:24:50.889466Z",
     "shell.execute_reply": "2020-07-18T06:24:50.888976Z"
    },
    "papermill": {
     "duration": 0.03066,
     "end_time": "2020-07-18T06:24:50.889532",
     "exception": false,
     "start_time": "2020-07-18T06:24:50.858872",
     "status": "completed"
    },
    "tags": []
   },
   "outputs": [
    {
     "name": "stdout",
     "output_type": "stream",
     "text": [
      "CPU times: user 2 µs, sys: 0 ns, total: 2 µs\n",
      "Wall time: 4.29 µs\n"
     ]
    }
   ],
   "source": [
    "%%time\n",
    "#simulation.generate_fourier_df()\n",
    "if simulation.fourier_mode is not None:\n",
    "    simulation.fourier_dataframe.info() \n",
    "    simulation.fourier_dataframe.sample(15)\n"
   ]
  },
  {
   "cell_type": "code",
   "execution_count": 6,
   "metadata": {
    "execution": {
     "iopub.execute_input": "2020-07-18T06:24:50.927154Z",
     "iopub.status.busy": "2020-07-18T06:24:50.926835Z",
     "iopub.status.idle": "2020-07-18T06:24:51.001098Z",
     "shell.execute_reply": "2020-07-18T06:24:51.000304Z"
    },
    "papermill": {
     "duration": 0.094276,
     "end_time": "2020-07-18T06:24:51.001215",
     "exception": false,
     "start_time": "2020-07-18T06:24:50.906939",
     "status": "completed"
    },
    "tags": []
   },
   "outputs": [
    {
     "name": "stdout",
     "output_type": "stream",
     "text": [
      "features_to_use: \n",
      "\n",
      "\n",
      "None\n",
      "\n",
      "\n",
      "fourier_features: \n",
      "\n",
      "\n",
      "None\n",
      "\n",
      "\n",
      "\n",
      "\n",
      "Fourier operator: \n",
      "None\n",
      "\n"
     ]
    },
    {
     "name": "stdout",
     "output_type": "stream",
     "text": [
      "\n"
     ]
    }
   ],
   "source": [
    "print(\"features_to_use: \")\n",
    "print(\"\\n\")\n",
    "print(simulation.features_to_use)\n",
    "if simulation.features_to_use is not None:\n",
    "    print(\"Number of real space features:\")\n",
    "    print(\"\\n\")\n",
    "    print(len(simulation.features_to_use))\n",
    "print(\"\\n\")\n",
    "print(\"fourier_features: \")\n",
    "print(\"\\n\")\n",
    "print(simulation.fourier_features)\n",
    "print(\"\\n\")\n",
    "if simulation.fourier_features is not None:\n",
    "    print(\"Number of Fourier features: \")\n",
    "    print(\"\\n\")\n",
    "    print(len(simulation.fourier_features))\n",
    "print(\"\\n\")\n",
    "print(\"Fourier operator: \")\n",
    "print(simulation.fourier_operator)\n",
    "print(\"\\n\")\n",
    "if simulation.fourier_operator is not None:\n",
    "    print(\"Shape of Fourier operator: \")\n",
    "    print(simulation.fourier_operator.shape)"
   ]
  },
  {
   "cell_type": "code",
   "execution_count": 7,
   "metadata": {
    "execution": {
     "iopub.execute_input": "2020-07-18T06:24:51.069950Z",
     "iopub.status.busy": "2020-07-18T06:24:51.069637Z",
     "iopub.status.idle": "2020-07-18T06:24:51.079268Z",
     "shell.execute_reply": "2020-07-18T06:24:51.079523Z"
    },
    "papermill": {
     "duration": 0.033055,
     "end_time": "2020-07-18T06:24:51.079589",
     "exception": false,
     "start_time": "2020-07-18T06:24:51.046534",
     "status": "completed"
    },
    "tags": []
   },
   "outputs": [],
   "source": [
    "#a = np.array([1+1j,2+3j,4+8j])\n",
    "#np.imag(a)"
   ]
  },
  {
   "cell_type": "code",
   "execution_count": 8,
   "metadata": {
    "execution": {
     "iopub.execute_input": "2020-07-18T06:24:51.117419Z",
     "iopub.status.busy": "2020-07-18T06:24:51.117112Z",
     "iopub.status.idle": "2020-07-18T06:24:51.193958Z",
     "shell.execute_reply": "2020-07-18T06:24:51.192943Z"
    },
    "papermill": {
     "duration": 0.096073,
     "end_time": "2020-07-18T06:24:51.194099",
     "exception": false,
     "start_time": "2020-07-18T06:24:51.098026",
     "status": "completed"
    },
    "tags": []
   },
   "outputs": [],
   "source": [
    "#plt.plot(np.imag(simulation.fourier_operator[:,0]))"
   ]
  },
  {
   "cell_type": "code",
   "execution_count": 9,
   "metadata": {
    "execution": {
     "iopub.execute_input": "2020-07-18T06:24:51.273714Z",
     "iopub.status.busy": "2020-07-18T06:24:51.273406Z",
     "iopub.status.idle": "2020-07-18T06:24:51.283957Z",
     "shell.execute_reply": "2020-07-18T06:24:51.284463Z"
    },
    "papermill": {
     "duration": 0.033839,
     "end_time": "2020-07-18T06:24:51.284562",
     "exception": false,
     "start_time": "2020-07-18T06:24:51.250723",
     "status": "completed"
    },
    "tags": []
   },
   "outputs": [],
   "source": [
    "#np.sin(np.pi/(50))*2"
   ]
  },
  {
   "cell_type": "code",
   "execution_count": 10,
   "metadata": {
    "execution": {
     "iopub.execute_input": "2020-07-18T06:24:51.322810Z",
     "iopub.status.busy": "2020-07-18T06:24:51.322504Z",
     "iopub.status.idle": "2020-07-18T06:24:51.387734Z",
     "shell.execute_reply": "2020-07-18T06:24:51.385986Z"
    },
    "papermill": {
     "duration": 0.08552,
     "end_time": "2020-07-18T06:24:51.387979",
     "exception": false,
     "start_time": "2020-07-18T06:24:51.302459",
     "status": "completed"
    },
    "tags": []
   },
   "outputs": [],
   "source": [
    "#2*np.sin(np.pi/50*49)"
   ]
  },
  {
   "cell_type": "code",
   "execution_count": 11,
   "metadata": {
    "execution": {
     "iopub.execute_input": "2020-07-18T06:24:51.465234Z",
     "iopub.status.busy": "2020-07-18T06:24:51.464919Z",
     "iopub.status.idle": "2020-07-18T06:24:51.475301Z",
     "shell.execute_reply": "2020-07-18T06:24:51.475020Z"
    },
    "papermill": {
     "duration": 0.032167,
     "end_time": "2020-07-18T06:24:51.475355",
     "exception": false,
     "start_time": "2020-07-18T06:24:51.443188",
     "status": "completed"
    },
    "tags": []
   },
   "outputs": [],
   "source": [
    "#simulation.dataframe.iloc[331456,:]"
   ]
  },
  {
   "cell_type": "code",
   "execution_count": 12,
   "metadata": {
    "execution": {
     "iopub.execute_input": "2020-07-18T06:24:51.512496Z",
     "iopub.status.busy": "2020-07-18T06:24:51.512173Z",
     "iopub.status.idle": "2020-07-18T06:24:51.581467Z",
     "shell.execute_reply": "2020-07-18T06:24:51.580765Z"
    },
    "papermill": {
     "duration": 0.088709,
     "end_time": "2020-07-18T06:24:51.581570",
     "exception": false,
     "start_time": "2020-07-18T06:24:51.492861",
     "status": "completed"
    },
    "tags": []
   },
   "outputs": [],
   "source": [
    "#for ix, obj in enumerate(simulation.dataframe.iloc[331456,:].values):\n",
    "#    print(ix,obj)"
   ]
  },
  {
   "cell_type": "code",
   "execution_count": 13,
   "metadata": {
    "execution": {
     "iopub.execute_input": "2020-07-18T06:24:51.645483Z",
     "iopub.status.busy": "2020-07-18T06:24:51.645168Z",
     "iopub.status.idle": "2020-07-18T06:24:51.738043Z",
     "shell.execute_reply": "2020-07-18T06:24:51.736226Z"
    },
    "papermill": {
     "duration": 0.115844,
     "end_time": "2020-07-18T06:24:51.738289",
     "exception": false,
     "start_time": "2020-07-18T06:24:51.622445",
     "status": "completed"
    },
    "tags": []
   },
   "outputs": [],
   "source": [
    "#simulation.fourier_engineered_dataframe.dct_feat0"
   ]
  },
  {
   "cell_type": "code",
   "execution_count": 14,
   "metadata": {
    "execution": {
     "iopub.execute_input": "2020-07-18T06:24:51.817689Z",
     "iopub.status.busy": "2020-07-18T06:24:51.817362Z",
     "iopub.status.idle": "2020-07-18T06:24:51.827233Z",
     "shell.execute_reply": "2020-07-18T06:24:51.826958Z"
    },
    "papermill": {
     "duration": 0.032982,
     "end_time": "2020-07-18T06:24:51.827287",
     "exception": false,
     "start_time": "2020-07-18T06:24:51.794305",
     "status": "completed"
    },
    "tags": []
   },
   "outputs": [],
   "source": [
    "#simulation.features"
   ]
  },
  {
   "cell_type": "code",
   "execution_count": 15,
   "metadata": {
    "execution": {
     "iopub.execute_input": "2020-07-18T06:24:51.866342Z",
     "iopub.status.busy": "2020-07-18T06:24:51.866038Z",
     "iopub.status.idle": "2020-07-18T06:24:51.950101Z",
     "shell.execute_reply": "2020-07-18T06:24:51.949067Z"
    },
    "papermill": {
     "duration": 0.10393,
     "end_time": "2020-07-18T06:24:51.950275",
     "exception": false,
     "start_time": "2020-07-18T06:24:51.846345",
     "status": "completed"
    },
    "tags": []
   },
   "outputs": [],
   "source": [
    "#simulation.fourier_matrix"
   ]
  },
  {
   "cell_type": "code",
   "execution_count": 16,
   "metadata": {
    "execution": {
     "iopub.execute_input": "2020-07-18T06:24:52.029351Z",
     "iopub.status.busy": "2020-07-18T06:24:52.029032Z",
     "iopub.status.idle": "2020-07-18T06:24:52.039161Z",
     "shell.execute_reply": "2020-07-18T06:24:52.038821Z"
    },
    "papermill": {
     "duration": 0.033523,
     "end_time": "2020-07-18T06:24:52.039214",
     "exception": false,
     "start_time": "2020-07-18T06:24:52.005691",
     "status": "completed"
    },
    "tags": []
   },
   "outputs": [],
   "source": [
    "#1/simulation.n_features*simulation.dataframe.loc[:,simulation.features].sum(axis=1)"
   ]
  },
  {
   "cell_type": "code",
   "execution_count": 17,
   "metadata": {
    "execution": {
     "iopub.execute_input": "2020-07-18T06:24:52.077934Z",
     "iopub.status.busy": "2020-07-18T06:24:52.077628Z",
     "iopub.status.idle": "2020-07-18T06:24:52.163136Z",
     "shell.execute_reply": "2020-07-18T06:24:52.161384Z"
    },
    "papermill": {
     "duration": 0.10629,
     "end_time": "2020-07-18T06:24:52.163373",
     "exception": false,
     "start_time": "2020-07-18T06:24:52.057083",
     "status": "completed"
    },
    "tags": []
   },
   "outputs": [],
   "source": [
    "#df_2 = simulation.fourier_engineered_dataframe[simulation.fourier_engineered_dataframe.phase==2]\n",
    "#df_2.describe()"
   ]
  },
  {
   "cell_type": "code",
   "execution_count": 18,
   "metadata": {
    "execution": {
     "iopub.execute_input": "2020-07-18T06:24:52.240861Z",
     "iopub.status.busy": "2020-07-18T06:24:52.240551Z",
     "iopub.status.idle": "2020-07-18T06:24:52.250495Z",
     "shell.execute_reply": "2020-07-18T06:24:52.250817Z"
    },
    "papermill": {
     "duration": 0.031866,
     "end_time": "2020-07-18T06:24:52.250884",
     "exception": false,
     "start_time": "2020-07-18T06:24:52.219018",
     "status": "completed"
    },
    "tags": []
   },
   "outputs": [],
   "source": [
    "#df_1 = simulation.fourier_engineered_dataframe[simulation.fourier_engineered_dataframe.phase==1]\n",
    "#df_1.describe()"
   ]
  },
  {
   "cell_type": "code",
   "execution_count": 19,
   "metadata": {
    "execution": {
     "iopub.execute_input": "2020-07-18T06:24:52.289636Z",
     "iopub.status.busy": "2020-07-18T06:24:52.289321Z",
     "iopub.status.idle": "2020-07-18T06:24:52.369361Z",
     "shell.execute_reply": "2020-07-18T06:24:52.370767Z"
    },
    "papermill": {
     "duration": 0.102525,
     "end_time": "2020-07-18T06:24:52.371072",
     "exception": false,
     "start_time": "2020-07-18T06:24:52.268547",
     "status": "completed"
    },
    "tags": []
   },
   "outputs": [],
   "source": [
    "#df_0 = simulation.fourier_engineered_dataframe[simulation.fourier_engineered_dataframe.phase==0]\n",
    "#df_0.describe()"
   ]
  },
  {
   "cell_type": "code",
   "execution_count": 20,
   "metadata": {
    "execution": {
     "iopub.execute_input": "2020-07-18T06:24:52.453010Z",
     "iopub.status.busy": "2020-07-18T06:24:52.452682Z",
     "iopub.status.idle": "2020-07-18T06:24:52.462225Z",
     "shell.execute_reply": "2020-07-18T06:24:52.462707Z"
    },
    "papermill": {
     "duration": 0.033637,
     "end_time": "2020-07-18T06:24:52.462817",
     "exception": false,
     "start_time": "2020-07-18T06:24:52.429180",
     "status": "completed"
    },
    "tags": []
   },
   "outputs": [],
   "source": [
    "#plt.figure(figsize=(10,10))\n",
    "#plt.scatter(df_1.fourier_feat0,df_1.fourier_feat2)\n",
    "#plt.scatter(df_0.fourier_feat0,df_0.fourier_feat2,alpha=0.4)"
   ]
  },
  {
   "cell_type": "code",
   "execution_count": 21,
   "metadata": {
    "execution": {
     "iopub.execute_input": "2020-07-18T06:24:52.505662Z",
     "iopub.status.busy": "2020-07-18T06:24:52.505353Z",
     "iopub.status.idle": "2020-07-18T06:24:52.579563Z",
     "shell.execute_reply": "2020-07-18T06:24:52.577391Z"
    },
    "papermill": {
     "duration": 0.095546,
     "end_time": "2020-07-18T06:24:52.579818",
     "exception": false,
     "start_time": "2020-07-18T06:24:52.484272",
     "status": "completed"
    },
    "tags": []
   },
   "outputs": [],
   "source": [
    "#plt.scatter(df_0.fourier_feat0,df_0.fourier_feat2,alpha=0.4)"
   ]
  },
  {
   "cell_type": "code",
   "execution_count": 22,
   "metadata": {
    "execution": {
     "iopub.execute_input": "2020-07-18T06:24:52.657240Z",
     "iopub.status.busy": "2020-07-18T06:24:52.656924Z",
     "iopub.status.idle": "2020-07-18T06:24:52.666701Z",
     "shell.execute_reply": "2020-07-18T06:24:52.667017Z"
    },
    "papermill": {
     "duration": 0.032395,
     "end_time": "2020-07-18T06:24:52.667084",
     "exception": false,
     "start_time": "2020-07-18T06:24:52.634689",
     "status": "completed"
    },
    "tags": []
   },
   "outputs": [],
   "source": [
    "#plt.scatter(df_2.fourier_feat0,df_2.fourier_feat2)"
   ]
  },
  {
   "cell_type": "code",
   "execution_count": 23,
   "metadata": {
    "execution": {
     "iopub.execute_input": "2020-07-18T06:24:52.705928Z",
     "iopub.status.busy": "2020-07-18T06:24:52.705622Z",
     "iopub.status.idle": "2020-07-18T06:24:52.787975Z",
     "shell.execute_reply": "2020-07-18T06:24:52.786229Z"
    },
    "papermill": {
     "duration": 0.102621,
     "end_time": "2020-07-18T06:24:52.788216",
     "exception": false,
     "start_time": "2020-07-18T06:24:52.685595",
     "status": "completed"
    },
    "tags": []
   },
   "outputs": [],
   "source": [
    "#df_1.hist(figsize=(15,15))"
   ]
  },
  {
   "cell_type": "code",
   "execution_count": 24,
   "metadata": {
    "execution": {
     "iopub.execute_input": "2020-07-18T06:24:52.868810Z",
     "iopub.status.busy": "2020-07-18T06:24:52.868486Z",
     "iopub.status.idle": "2020-07-18T06:24:52.877794Z",
     "shell.execute_reply": "2020-07-18T06:24:52.878101Z"
    },
    "papermill": {
     "duration": 0.033722,
     "end_time": "2020-07-18T06:24:52.878168",
     "exception": false,
     "start_time": "2020-07-18T06:24:52.844446",
     "status": "completed"
    },
    "tags": []
   },
   "outputs": [],
   "source": [
    "#df_0.hist(figsize=(15,15))"
   ]
  },
  {
   "cell_type": "markdown",
   "metadata": {
    "papermill": {
     "duration": 0.018457,
     "end_time": "2020-07-18T06:24:52.916942",
     "exception": false,
     "start_time": "2020-07-18T06:24:52.898485",
     "status": "completed"
    },
    "tags": []
   },
   "source": [
    "#### Checking initialization"
   ]
  },
  {
   "cell_type": "code",
   "execution_count": 25,
   "metadata": {
    "execution": {
     "iopub.execute_input": "2020-07-18T06:24:52.955292Z",
     "iopub.status.busy": "2020-07-18T06:24:52.954981Z",
     "iopub.status.idle": "2020-07-18T06:24:52.997651Z",
     "shell.execute_reply": "2020-07-18T06:24:52.997280Z"
    },
    "papermill": {
     "duration": 0.062346,
     "end_time": "2020-07-18T06:24:52.997709",
     "exception": false,
     "start_time": "2020-07-18T06:24:52.935363",
     "status": "completed"
    },
    "tags": []
   },
   "outputs": [
    {
     "name": "stdout",
     "output_type": "stream",
     "text": [
      "n_features:  100\n",
      "n_hamiltonians:  6561\n",
      "n_ts:  2\n",
      "CPU times: user 149 µs, sys: 14 µs, total: 163 µs\n",
      "Wall time: 91.8 µs\n"
     ]
    }
   ],
   "source": [
    "%%time\n",
    "n_features = simulation.n_features\n",
    "n_hamiltonians = simulation.n_hamiltonians\n",
    "n_ts = simulation.n_ts\n",
    "\n",
    "print(\"n_features: \", n_features)\n",
    "print(\"n_hamiltonians: \", n_hamiltonians)\n",
    "print(\"n_ts: \", n_ts)"
   ]
  },
  {
   "cell_type": "code",
   "execution_count": 26,
   "metadata": {
    "execution": {
     "iopub.execute_input": "2020-07-18T06:24:53.042846Z",
     "iopub.status.busy": "2020-07-18T06:24:53.042524Z",
     "iopub.status.idle": "2020-07-18T06:24:53.325811Z",
     "shell.execute_reply": "2020-07-18T06:24:53.325490Z"
    },
    "papermill": {
     "duration": 0.306373,
     "end_time": "2020-07-18T06:24:53.325860",
     "exception": false,
     "start_time": "2020-07-18T06:24:53.019487",
     "status": "completed"
    },
    "tags": []
   },
   "outputs": [
    {
     "name": "stdout",
     "output_type": "stream",
     "text": [
      "% train:  0.8414875781130925\n",
      "% val:  0.0\n",
      "% test:  0.15851242188690748\n",
      "% train + val + test:  1.0\n",
      "\n",
      "\n",
      "number of train hamiltonians:  5521\n",
      "number of val hamiltonians:  0\n",
      "number of test hamiltonians:  1040\n",
      "total number of hamiltonians:  6561\n",
      "\n",
      "\n",
      "train ids:  [13, 14, 15, 16, 17, 18, 19, 20, 21, 22, 23, 24, 25, 26, 27, 28, 29, 30, 31, 32, 33, 34, 35, 36, 37, 38, 39, 41, 42, 43, 44, 45, 46, 47, 48, 49, 50, 51, 52, 53, 54, 55, 56, 57, 58, 59, 60, 61, 62, 63, 64, 65, 66, 67, 68, 69, 70, 71, 72, 73, 74, 75, 76, 77, 78, 79, 80, 95, 96, 97, 98, 99, 100, 101, 102, 103, 104, 105, 106, 107, 108, 109, 110, 111, 112, 113, 114, 115, 116, 117, 118, 119, 121, 122, 123, 124, 125, 126, 127, 128, 129, 130, 131, 132, 133, 134, 135, 136, 137, 138, 139, 140, 141, 142, 143, 144, 145, 146, 147, 148, 149, 150, 151, 152, 153, 154, 155, 156, 157, 158, 159, 160, 161, 176, 177, 178, 179, 180, 181, 182, 183, 184, 185, 186, 187, 188, 189, 190, 191, 192, 193, 194, 195, 196, 197, 198, 199, 201, 202, 203, 204, 205, 206, 207, 208, 209, 210, 211, 212, 213, 214, 215, 216, 217, 218, 219, 220, 221, 222, 223, 224, 225, 226, 227, 228, 229, 230, 231, 232, 233, 234, 235, 236, 237, 238, 239, 240, 241, 242, 258, 259, 260, 261, 262, 263, 264, 265, 266, 267, 268, 269, 270, 271, 272, 273, 274, 275, 276, 277, 278, 279, 281, 282, 283, 284, 285, 286, 287, 288, 289, 290, 291, 292, 293, 294, 295, 296, 297, 298, 299, 300, 301, 302, 303, 304, 305, 306, 307, 308, 309, 310, 311, 312, 313, 314, 315, 316, 317, 318, 319, 320, 321, 322, 323, 340, 341, 342, 343, 344, 345, 346, 347, 348, 349, 350, 351, 352, 353, 354, 355, 356, 357, 358, 359, 361, 362, 363, 364, 365, 366, 367, 368, 369, 370, 371, 372, 373, 374, 375, 376, 377, 378, 379, 380, 381, 382, 383, 384, 385, 386, 387, 388, 389, 390, 391, 392, 393, 394, 395, 396, 397, 398, 399, 400, 401, 402, 403, 404, 422, 423, 424, 425, 426, 427, 428, 429, 430, 431, 432, 433, 434, 435, 436, 437, 438, 439, 441, 442, 443, 444, 445, 446, 447, 448, 449, 450, 451, 452, 453, 454, 455, 456, 457, 458, 459, 460, 461, 462, 463, 464, 465, 466, 467, 468, 469, 470, 471, 472, 473, 474, 475, 476, 477, 478, 479, 480, 481, 482, 483, 484, 485, 503, 504, 505, 506, 507, 508, 509, 510, 511, 512, 513, 514, 515, 516, 517, 518, 519, 521, 522, 523, 524, 525, 526, 527, 528, 529, 530, 531, 532, 533, 534, 535, 536, 537, 538, 539, 540, 541, 542, 543, 544, 545, 546, 547, 548, 549, 550, 551, 552, 553, 554, 555, 556, 557, 558, 559, 560, 561, 562, 563, 564, 565, 566, 585, 586, 587, 588, 589, 590, 591, 592, 593, 594, 595, 596, 597, 598, 599, 601, 602, 603, 604, 605, 606, 607, 608, 609, 610, 611, 612, 613, 614, 615, 616, 617, 618, 619, 620, 621, 622, 623, 624, 625, 626, 627, 628, 629, 630, 631, 632, 633, 634, 635, 636, 637, 638, 639, 640, 641, 642, 643, 644, 645, 646, 647, 667, 668, 669, 670, 671, 672, 673, 674, 675, 676, 677, 678, 679, 681, 682, 683, 684, 685, 686, 687, 688, 689, 690, 691, 692, 693, 694, 695, 696, 697, 698, 699, 700, 701, 702, 703, 704, 705, 706, 707, 708, 709, 710, 711, 712, 713, 714, 715, 716, 717, 718, 719, 720, 721, 722, 723, 724, 725, 726, 727, 728, 749, 750, 751, 752, 753, 754, 755, 756, 757, 758, 759, 761, 762, 763, 764, 765, 766, 767, 768, 769, 770, 771, 772, 773, 774, 775, 776, 777, 778, 779, 780, 781, 782, 783, 784, 785, 786, 787, 788, 789, 790, 791, 792, 793, 794, 795, 796, 797, 798, 799, 800, 801, 802, 803, 804, 805, 806, 807, 808, 809, 830, 831, 832, 833, 834, 835, 836, 837, 838, 839, 841, 842, 843, 844, 845, 846, 847, 848, 849, 850, 851, 852, 853, 854, 855, 856, 857, 858, 859, 860, 861, 862, 863, 864, 865, 866, 867, 868, 869, 870, 871, 872, 873, 874, 875, 876, 877, 878, 879, 880, 881, 882, 883, 884, 885, 886, 887, 888, 889, 890, 912, 913, 914, 915, 916, 917, 918, 919, 921, 922, 923, 924, 925, 926, 927, 928, 929, 930, 931, 932, 933, 934, 935, 936, 937, 938, 939, 940, 941, 942, 943, 944, 945, 946, 947, 948, 949, 950, 951, 952, 953, 954, 955, 956, 957, 958, 959, 960, 961, 962, 963, 964, 965, 966, 967, 968, 969, 970, 971, 994, 995, 996, 997, 998, 999, 1001, 1002, 1003, 1004, 1005, 1006, 1007, 1008, 1009, 1010, 1011, 1012, 1013, 1014, 1015, 1016, 1017, 1018, 1019, 1020, 1021, 1022, 1023, 1024, 1025, 1026, 1027, 1028, 1029, 1030, 1031, 1032, 1033, 1034, 1035, 1036, 1037, 1038, 1039, 1040, 1041, 1042, 1043, 1044, 1045, 1046, 1047, 1048, 1049, 1050, 1051, 1052, 1076, 1077, 1078, 1079, 1081, 1082, 1083, 1084, 1085, 1086, 1087, 1088, 1089, 1090, 1091, 1092, 1093, 1094, 1095, 1096, 1097, 1098, 1099, 1100, 1101, 1102, 1103, 1104, 1105, 1106, 1107, 1108, 1109, 1110, 1111, 1112, 1113, 1114, 1115, 1116, 1117, 1118, 1119, 1120, 1121, 1122, 1123, 1124, 1125, 1126, 1127, 1128, 1129, 1130, 1131, 1132, 1133, 1134, 1157, 1158, 1159, 1161, 1162, 1163, 1164, 1165, 1166, 1167, 1168, 1169, 1170, 1171, 1172, 1173, 1174, 1175, 1176, 1177, 1178, 1179, 1180, 1181, 1182, 1183, 1184, 1185, 1186, 1187, 1188, 1189, 1190, 1191, 1192, 1193, 1194, 1195, 1196, 1197, 1198, 1199, 1200, 1201, 1202, 1203, 1204, 1205, 1206, 1207, 1208, 1209, 1210, 1211, 1212, 1213, 1214, 1215, 1216, 1239, 1241, 1242, 1243, 1244, 1245, 1246, 1247, 1248, 1249, 1250, 1251, 1252, 1253, 1254, 1255, 1256, 1257, 1258, 1259, 1260, 1261, 1262, 1263, 1264, 1265, 1266, 1267, 1268, 1269, 1270, 1271, 1272, 1273, 1274, 1275, 1276, 1277, 1278, 1279, 1280, 1281, 1282, 1283, 1284, 1285, 1286, 1287, 1288, 1289, 1290, 1291, 1292, 1293, 1294, 1295, 1296, 1297, 1298, 1299, 1321, 1322, 1323, 1324, 1325, 1326, 1327, 1328, 1329, 1330, 1331, 1332, 1333, 1334, 1335, 1336, 1337, 1338, 1339, 1340, 1341, 1342, 1343, 1344, 1345, 1346, 1347, 1348, 1349, 1350, 1351, 1352, 1353, 1354, 1355, 1356, 1357, 1358, 1359, 1360, 1361, 1362, 1363, 1364, 1365, 1366, 1367, 1368, 1369, 1370, 1371, 1372, 1373, 1374, 1375, 1376, 1377, 1378, 1379, 1380, 1381, 1402, 1403, 1404, 1405, 1406, 1407, 1408, 1409, 1410, 1411, 1412, 1413, 1414, 1415, 1416, 1417, 1418, 1419, 1420, 1421, 1422, 1423, 1424, 1425, 1426, 1427, 1428, 1429, 1430, 1431, 1432, 1433, 1434, 1435, 1436, 1437, 1438, 1439, 1440, 1441, 1442, 1443, 1444, 1445, 1446, 1447, 1448, 1449, 1450, 1451, 1452, 1453, 1454, 1455, 1456, 1457, 1458, 1459, 1460, 1461, 1462, 1463, 1464, 1484, 1485, 1486, 1487, 1488, 1489, 1490, 1491, 1492, 1493, 1494, 1495, 1496, 1497, 1498, 1499, 1500, 1501, 1502, 1503, 1504, 1505, 1506, 1507, 1508, 1509, 1510, 1511, 1512, 1513, 1514, 1515, 1516, 1517, 1518, 1519, 1520, 1521, 1522, 1523, 1524, 1525, 1526, 1527, 1528, 1529, 1530, 1531, 1532, 1533, 1534, 1535, 1536, 1537, 1538, 1539, 1540, 1541, 1542, 1543, 1544, 1545, 1546, 1566, 1567, 1568, 1569, 1570, 1571, 1572, 1573, 1574, 1575, 1576, 1577, 1578, 1579, 1580, 1581, 1582, 1583, 1584, 1585, 1586, 1587, 1588, 1589, 1590, 1591, 1592, 1593, 1594, 1595, 1596, 1597, 1598, 1599, 1600, 1601, 1602, 1603, 1604, 1605, 1606, 1607, 1608, 1609, 1610, 1611, 1612, 1613, 1614, 1615, 1616, 1617, 1618, 1619, 1620, 1621, 1622, 1623, 1624, 1625, 1626, 1627, 1628, 1648, 1649, 1650, 1651, 1652, 1653, 1654, 1655, 1656, 1657, 1658, 1659, 1660, 1661, 1662, 1663, 1664, 1665, 1666, 1667, 1668, 1669, 1670, 1671, 1672, 1673, 1674, 1675, 1676, 1677, 1678, 1679, 1680, 1681, 1682, 1683, 1684, 1685, 1686, 1687, 1688, 1689, 1690, 1691, 1692, 1693, 1694, 1695, 1696, 1697, 1698, 1699, 1701, 1702, 1703, 1704, 1705, 1706, 1707, 1708, 1709, 1710, 1711, 1729, 1730, 1731, 1732, 1733, 1734, 1735, 1736, 1737, 1738, 1739, 1740, 1741, 1742, 1743, 1744, 1745, 1746, 1747, 1748, 1749, 1750, 1751, 1752, 1753, 1754, 1755, 1756, 1757, 1758, 1759, 1760, 1761, 1762, 1763, 1764, 1765, 1766, 1767, 1768, 1769, 1770, 1771, 1772, 1773, 1774, 1775, 1776, 1777, 1778, 1779, 1781, 1782, 1783, 1784, 1785, 1786, 1787, 1788, 1789, 1790, 1791, 1792, 1793, 1811, 1812, 1813, 1814, 1815, 1816, 1817, 1818, 1819, 1820, 1821, 1822, 1823, 1824, 1825, 1826, 1827, 1828, 1829, 1830, 1831, 1832, 1833, 1834, 1835, 1836, 1837, 1838, 1839, 1840, 1841, 1842, 1843, 1844, 1845, 1846, 1847, 1848, 1849, 1850, 1851, 1852, 1853, 1854, 1855, 1856, 1857, 1858, 1859, 1861, 1862, 1863, 1864, 1865, 1866, 1867, 1868, 1869, 1870, 1871, 1872, 1873, 1874, 1875, 1876, 1893, 1894, 1895, 1896, 1897, 1898, 1899, 1900, 1901, 1902, 1903, 1904, 1905, 1906, 1907, 1908, 1909, 1910, 1911, 1912, 1913, 1914, 1915, 1916, 1917, 1918, 1919, 1920, 1921, 1922, 1923, 1924, 1925, 1926, 1927, 1928, 1929, 1930, 1931, 1932, 1933, 1934, 1935, 1936, 1937, 1938, 1939, 1941, 1942, 1943, 1944, 1945, 1946, 1947, 1948, 1949, 1950, 1951, 1952, 1953, 1954, 1955, 1956, 1957, 1958, 1975, 1976, 1977, 1978, 1979, 1980, 1981, 1982, 1983, 1984, 1985, 1986, 1987, 1988, 1989, 1990, 1991, 1992, 1993, 1994, 1995, 1996, 1997, 1998, 1999, 2000, 2001, 2002, 2003, 2004, 2005, 2006, 2007, 2008, 2009, 2010, 2011, 2012, 2013, 2014, 2015, 2016, 2017, 2018, 2019, 2021, 2022, 2023, 2024, 2025, 2026, 2027, 2028, 2029, 2030, 2031, 2032, 2033, 2034, 2035, 2036, 2037, 2038, 2039, 2056, 2057, 2058, 2059, 2060, 2061, 2062, 2063, 2064, 2065, 2066, 2067, 2068, 2069, 2070, 2071, 2072, 2073, 2074, 2075, 2076, 2077, 2078, 2079, 2080, 2081, 2082, 2083, 2084, 2085, 2086, 2087, 2088, 2089, 2090, 2091, 2092, 2093, 2094, 2095, 2096, 2097, 2098, 2099, 2101, 2102, 2103, 2104, 2105, 2106, 2107, 2108, 2109, 2110, 2111, 2112, 2113, 2114, 2115, 2116, 2117, 2118, 2119, 2121, 2122, 2123, 2138, 2139, 2140, 2141, 2142, 2143, 2144, 2145, 2146, 2147, 2148, 2149, 2150, 2151, 2152, 2153, 2154, 2155, 2156, 2157, 2158, 2159, 2160, 2161, 2162, 2163, 2164, 2165, 2166, 2167, 2168, 2169, 2170, 2171, 2172, 2173, 2174, 2175, 2176, 2177, 2178, 2179, 2181, 2182, 2183, 2184, 2185, 2186, 2187, 2188, 2189, 2190, 2191, 2192, 2193, 2194, 2195, 2196, 2197, 2198, 2199, 2201, 2202, 2203, 2204, 2205, 2220, 2221, 2222, 2223, 2224, 2225, 2226, 2227, 2228, 2229, 2230, 2231, 2232, 2233, 2234, 2235, 2236, 2237, 2238, 2239, 2240, 2241, 2242, 2243, 2244, 2245, 2246, 2247, 2248, 2249, 2250, 2251, 2252, 2253, 2254, 2255, 2256, 2257, 2258, 2259, 2261, 2262, 2263, 2264, 2265, 2266, 2267, 2268, 2269, 2270, 2271, 2272, 2273, 2274, 2275, 2276, 2277, 2278, 2279, 2281, 2282, 2283, 2284, 2285, 2286, 2287, 2288, 2301, 2302, 2303, 2304, 2305, 2306, 2307, 2308, 2309, 2310, 2311, 2312, 2313, 2314, 2315, 2316, 2317, 2318, 2319, 2320, 2321, 2322, 2323, 2324, 2325, 2326, 2327, 2328, 2329, 2330, 2331, 2332, 2333, 2334, 2335, 2336, 2337, 2338, 2339, 2341, 2342, 2343, 2344, 2345, 2346, 2347, 2348, 2349, 2350, 2351, 2352, 2353, 2354, 2355, 2356, 2357, 2358, 2359, 2361, 2362, 2363, 2364, 2365, 2366, 2367, 2368, 2369, 2370, 2383, 2384, 2385, 2386, 2387, 2388, 2389, 2390, 2391, 2392, 2393, 2394, 2395, 2396, 2397, 2398, 2399, 2400, 2401, 2402, 2403, 2404, 2405, 2406, 2407, 2408, 2409, 2410, 2411, 2412, 2413, 2414, 2415, 2416, 2417, 2418, 2419, 2421, 2422, 2423, 2424, 2425, 2426, 2427, 2428, 2429, 2430, 2431, 2432, 2433, 2434, 2435, 2436, 2437, 2438, 2439, 2441, 2442, 2443, 2444, 2445, 2446, 2447, 2448, 2449, 2450, 2451, 2452, 2453, 2465, 2466, 2467, 2468, 2469, 2470, 2471, 2472, 2473, 2474, 2475, 2476, 2477, 2478, 2479, 2480, 2481, 2482, 2483, 2484, 2485, 2486, 2487, 2488, 2489, 2490, 2491, 2492, 2493, 2494, 2495, 2496, 2497, 2498, 2499, 2501, 2502, 2503, 2504, 2505, 2506, 2507, 2508, 2509, 2510, 2511, 2512, 2513, 2514, 2515, 2516, 2517, 2518, 2519, 2521, 2522, 2523, 2524, 2525, 2526, 2527, 2528, 2529, 2530, 2531, 2532, 2533, 2534, 2535, 2547, 2548, 2549, 2550, 2551, 2552, 2553, 2554, 2555, 2556, 2557, 2558, 2559, 2560, 2561, 2562, 2563, 2564, 2565, 2566, 2567, 2568, 2569, 2570, 2571, 2572, 2573, 2574, 2575, 2576, 2577, 2578, 2579, 2581, 2582, 2583, 2584, 2585, 2586, 2587, 2588, 2589, 2590, 2591, 2592, 2593, 2594, 2595, 2596, 2597, 2598, 2599, 2601, 2602, 2603, 2604, 2605, 2606, 2607, 2608, 2609, 2610, 2611, 2612, 2613, 2614, 2615, 2616, 2617, 2628, 2629, 2630, 2631, 2632, 2633, 2634, 2635, 2636, 2637, 2638, 2639, 2640, 2641, 2642, 2643, 2644, 2645, 2646, 2647, 2648, 2649, 2650, 2651, 2652, 2653, 2654, 2655, 2656, 2657, 2658, 2659, 2661, 2662, 2663, 2664, 2665, 2666, 2667, 2668, 2669, 2670, 2671, 2672, 2673, 2674, 2675, 2676, 2677, 2678, 2679, 2681, 2682, 2683, 2684, 2685, 2686, 2687, 2688, 2689, 2690, 2691, 2692, 2693, 2694, 2695, 2696, 2697, 2698, 2699, 2700, 2710, 2711, 2712, 2713, 2714, 2715, 2716, 2717, 2718, 2719, 2720, 2721, 2722, 2723, 2724, 2725, 2726, 2727, 2728, 2729, 2730, 2731, 2732, 2733, 2734, 2735, 2736, 2737, 2738, 2739, 2741, 2742, 2743, 2744, 2745, 2746, 2747, 2748, 2749, 2750, 2751, 2752, 2753, 2754, 2755, 2756, 2757, 2758, 2759, 2761, 2762, 2763, 2764, 2765, 2766, 2767, 2768, 2769, 2770, 2771, 2772, 2773, 2774, 2775, 2776, 2777, 2778, 2779, 2780, 2781, 2782, 2792, 2793, 2794, 2795, 2796, 2797, 2798, 2799, 2800, 2801, 2802, 2803, 2804, 2805, 2806, 2807, 2808, 2809, 2810, 2811, 2812, 2813, 2814, 2815, 2816, 2817, 2818, 2819, 2821, 2822, 2823, 2824, 2825, 2826, 2827, 2828, 2829, 2830, 2831, 2832, 2833, 2834, 2835, 2836, 2837, 2838, 2839, 2841, 2842, 2843, 2844, 2845, 2846, 2847, 2848, 2849, 2850, 2851, 2852, 2853, 2854, 2855, 2856, 2857, 2858, 2859, 2860, 2861, 2862, 2863, 2864, 2865, 2874, 2875, 2876, 2877, 2878, 2879, 2880, 2881, 2882, 2883, 2884, 2885, 2886, 2887, 2888, 2889, 2890, 2891, 2892, 2893, 2894, 2895, 2896, 2897, 2898, 2899, 2901, 2902, 2903, 2904, 2905, 2906, 2907, 2908, 2909, 2910, 2911, 2912, 2913, 2914, 2915, 2916, 2917, 2918, 2919, 2921, 2922, 2923, 2924, 2925, 2926, 2927, 2928, 2929, 2930, 2931, 2932, 2933, 2934, 2935, 2936, 2937, 2938, 2939, 2940, 2941, 2942, 2943, 2944, 2945, 2946, 2947, 2955, 2956, 2957, 2958, 2959, 2960, 2961, 2962, 2963, 2964, 2965, 2966, 2967, 2968, 2969, 2970, 2971, 2972, 2973, 2974, 2975, 2976, 2977, 2978, 2979, 2981, 2982, 2983, 2984, 2985, 2986, 2987, 2988, 2989, 2990, 2991, 2992, 2993, 2994, 2995, 2996, 2997, 2998, 2999, 3001, 3002, 3003, 3004, 3005, 3006, 3007, 3008, 3009, 3010, 3011, 3012, 3013, 3014, 3015, 3016, 3017, 3018, 3019, 3020, 3021, 3022, 3023, 3024, 3025, 3026, 3027, 3028, 3029, 3037, 3038, 3039, 3040, 3041, 3042, 3043, 3044, 3045, 3046, 3047, 3048, 3049, 3050, 3051, 3052, 3053, 3054, 3055, 3056, 3057, 3058, 3059, 3061, 3062, 3063, 3064, 3065, 3066, 3067, 3068, 3069, 3070, 3071, 3072, 3073, 3074, 3075, 3076, 3077, 3078, 3079, 3081, 3082, 3083, 3084, 3085, 3086, 3087, 3088, 3089, 3090, 3091, 3092, 3093, 3094, 3095, 3096, 3097, 3098, 3099, 3100, 3101, 3102, 3103, 3104, 3105, 3106, 3107, 3108, 3109, 3110, 3111, 3112, 3119, 3120, 3121, 3122, 3123, 3124, 3125, 3126, 3127, 3128, 3129, 3130, 3131, 3132, 3133, 3134, 3135, 3136, 3137, 3138, 3139, 3141, 3142, 3143, 3144, 3145, 3146, 3147, 3148, 3149, 3150, 3151, 3152, 3153, 3154, 3155, 3156, 3157, 3158, 3159, 3161, 3162, 3163, 3164, 3165, 3166, 3167, 3168, 3169, 3170, 3171, 3172, 3173, 3174, 3175, 3176, 3177, 3178, 3179, 3180, 3181, 3182, 3183, 3184, 3185, 3186, 3187, 3188, 3189, 3190, 3191, 3192, 3193, 3194, 3201, 3202, 3203, 3204, 3205, 3206, 3207, 3208, 3209, 3210, 3211, 3212, 3213, 3214, 3215, 3216, 3217, 3218, 3219, 3221, 3222, 3223, 3224, 3225, 3226, 3227, 3228, 3229, 3230, 3231, 3232, 3233, 3234, 3235, 3236, 3237, 3238, 3239, 3241, 3242, 3243, 3244, 3245, 3246, 3247, 3248, 3249, 3250, 3251, 3252, 3253, 3254, 3255, 3256, 3257, 3258, 3259, 3260, 3261, 3262, 3263, 3264, 3265, 3266, 3267, 3268, 3269, 3270, 3271, 3272, 3273, 3274, 3275, 3276, 3277, 3282, 3283, 3284, 3285, 3286, 3287, 3288, 3289, 3290, 3291, 3292, 3293, 3294, 3295, 3296, 3297, 3298, 3299, 3301, 3302, 3303, 3304, 3305, 3306, 3307, 3308, 3309, 3310, 3311, 3312, 3313, 3314, 3315, 3316, 3317, 3318, 3319, 3320, 3321, 3322, 3323, 3324, 3325, 3326, 3327, 3328, 3329, 3330, 3331, 3332, 3333, 3334, 3335, 3336, 3337, 3338, 3339, 3340, 3341, 3342, 3343, 3344, 3345, 3346, 3347, 3348, 3349, 3350, 3351, 3352, 3353, 3354, 3355, 3356, 3357, 3358, 3359, 3364, 3365, 3366, 3367, 3368, 3369, 3370, 3371, 3372, 3373, 3374, 3375, 3376, 3377, 3378, 3379, 3381, 3382, 3383, 3384, 3385, 3386, 3387, 3388, 3389, 3390, 3391, 3392, 3393, 3394, 3395, 3396, 3397, 3398, 3399, 3400, 3401, 3402, 3403, 3404, 3405, 3406, 3407, 3408, 3409, 3410, 3411, 3412, 3413, 3414, 3415, 3416, 3417, 3418, 3419, 3420, 3421, 3422, 3423, 3424, 3425, 3426, 3427, 3428, 3429, 3430, 3431, 3432, 3433, 3434, 3435, 3436, 3437, 3438, 3439, 3440, 3441, 3442, 3446, 3447, 3448, 3449, 3450, 3451, 3452, 3453, 3454, 3455, 3456, 3457, 3458, 3459, 3461, 3462, 3463, 3464, 3465, 3466, 3467, 3468, 3469, 3470, 3471, 3472, 3473, 3474, 3475, 3476, 3477, 3478, 3479, 3480, 3481, 3482, 3483, 3484, 3485, 3486, 3487, 3488, 3489, 3490, 3491, 3492, 3493, 3494, 3495, 3496, 3497, 3498, 3499, 3500, 3501, 3502, 3503, 3504, 3505, 3506, 3507, 3508, 3509, 3510, 3511, 3512, 3513, 3514, 3515, 3516, 3517, 3518, 3519, 3520, 3521, 3522, 3523, 3524, 3527, 3528, 3529, 3530, 3531, 3532, 3533, 3534, 3535, 3536, 3537, 3538, 3539, 3541, 3542, 3543, 3544, 3545, 3546, 3547, 3548, 3549, 3550, 3551, 3552, 3553, 3554, 3555, 3556, 3557, 3558, 3559, 3560, 3561, 3562, 3563, 3564, 3565, 3566, 3567, 3568, 3569, 3570, 3571, 3572, 3573, 3574, 3575, 3576, 3577, 3578, 3579, 3580, 3581, 3582, 3583, 3584, 3585, 3586, 3587, 3588, 3589, 3590, 3591, 3592, 3593, 3594, 3595, 3596, 3597, 3598, 3599, 3600, 3601, 3602, 3603, 3604, 3605, 3606, 3609, 3610, 3611, 3612, 3613, 3614, 3615, 3616, 3617, 3618, 3619, 3621, 3622, 3623, 3624, 3625, 3626, 3627, 3628, 3629, 3630, 3631, 3632, 3633, 3634, 3635, 3636, 3637, 3638, 3639, 3640, 3641, 3642, 3643, 3644, 3645, 3646, 3647, 3648, 3649, 3650, 3651, 3652, 3653, 3654, 3655, 3656, 3657, 3658, 3659, 3660, 3661, 3662, 3663, 3664, 3665, 3666, 3667, 3668, 3669, 3670, 3671, 3672, 3673, 3674, 3675, 3676, 3677, 3678, 3679, 3680, 3681, 3682, 3683, 3684, 3685, 3686, 3687, 3688, 3689, 3691, 3692, 3693, 3694, 3695, 3696, 3697, 3698, 3699, 3701, 3702, 3703, 3704, 3705, 3706, 3707, 3708, 3709, 3710, 3711, 3712, 3713, 3714, 3715, 3716, 3717, 3718, 3719, 3720, 3721, 3722, 3723, 3724, 3725, 3726, 3727, 3728, 3729, 3730, 3731, 3732, 3733, 3734, 3735, 3736, 3737, 3738, 3739, 3740, 3741, 3742, 3743, 3744, 3745, 3746, 3747, 3748, 3749, 3750, 3751, 3752, 3753, 3754, 3755, 3756, 3757, 3758, 3759, 3760, 3761, 3762, 3763, 3764, 3765, 3766, 3767, 3768, 3769, 3770, 3771, 3773, 3774, 3775, 3776, 3777, 3778, 3779, 3781, 3782, 3783, 3784, 3785, 3786, 3787, 3788, 3789, 3790, 3791, 3792, 3793, 3794, 3795, 3796, 3797, 3798, 3799, 3800, 3801, 3802, 3803, 3804, 3805, 3806, 3807, 3808, 3809, 3810, 3811, 3812, 3813, 3814, 3815, 3816, 3817, 3818, 3819, 3820, 3821, 3822, 3823, 3824, 3825, 3826, 3827, 3828, 3829, 3830, 3831, 3832, 3833, 3834, 3835, 3836, 3837, 3838, 3839, 3840, 3841, 3842, 3843, 3844, 3845, 3846, 3847, 3848, 3849, 3850, 3851, 3852, 3853, 3855, 3856, 3857, 3858, 3859, 3861, 3862, 3863, 3864, 3865, 3866, 3867, 3868, 3869, 3870, 3871, 3872, 3873, 3874, 3875, 3876, 3877, 3878, 3879, 3880, 3881, 3882, 3883, 3884, 3885, 3886, 3887, 3888, 3889, 3890, 3891, 3892, 3893, 3894, 3895, 3896, 3897, 3898, 3899, 3900, 3901, 3902, 3903, 3904, 3905, 3906, 3907, 3908, 3909, 3910, 3911, 3912, 3913, 3914, 3915, 3916, 3917, 3918, 3919, 3920, 3921, 3922, 3923, 3924, 3925, 3926, 3927, 3928, 3929, 3930, 3931, 3932, 3933, 3934, 3935, 3937, 3938, 3939, 3941, 3942, 3943, 3944, 3945, 3946, 3947, 3948, 3949, 3950, 3951, 3952, 3953, 3954, 3955, 3956, 3957, 3958, 3959, 3960, 3961, 3962, 3963, 3964, 3965, 3966, 3967, 3968, 3969, 3970, 3971, 3972, 3973, 3974, 3975, 3976, 3977, 3978, 3979, 3980, 3981, 3982, 3983, 3984, 3985, 3986, 3987, 3988, 3989, 3990, 3991, 3992, 3993, 3994, 3995, 3996, 3997, 3998, 3999, 4000, 4001, 4002, 4003, 4004, 4005, 4006, 4007, 4008, 4009, 4010, 4011, 4012, 4013, 4014, 4015, 4016, 4017, 4021, 4022, 4023, 4024, 4025, 4026, 4027, 4028, 4029, 4030, 4031, 4032, 4033, 4034, 4035, 4036, 4037, 4038, 4039, 4040, 4041, 4042, 4043, 4044, 4045, 4046, 4047, 4048, 4049, 4050, 4051, 4052, 4053, 4054, 4055, 4056, 4057, 4058, 4059, 4060, 4061, 4062, 4063, 4064, 4065, 4066, 4067, 4068, 4069, 4070, 4071, 4072, 4073, 4074, 4075, 4076, 4077, 4078, 4079, 4080, 4081, 4082, 4083, 4084, 4085, 4086, 4087, 4088, 4089, 4090, 4091, 4092, 4093, 4094, 4095, 4096, 4097, 4098, 4102, 4103, 4104, 4105, 4106, 4107, 4108, 4109, 4110, 4111, 4112, 4113, 4114, 4115, 4116, 4117, 4118, 4119, 4120, 4121, 4122, 4123, 4124, 4125, 4126, 4127, 4128, 4129, 4130, 4131, 4132, 4133, 4134, 4135, 4136, 4137, 4138, 4139, 4140, 4141, 4142, 4143, 4144, 4145, 4146, 4147, 4148, 4149, 4150, 4151, 4152, 4153, 4154, 4155, 4156, 4157, 4158, 4159, 4160, 4161, 4162, 4163, 4164, 4165, 4166, 4167, 4168, 4169, 4170, 4171, 4172, 4173, 4174, 4175, 4176, 4177, 4178, 4179, 4184, 4185, 4186, 4187, 4188, 4189, 4190, 4191, 4192, 4193, 4194, 4195, 4196, 4197, 4198, 4199, 4200, 4201, 4202, 4203, 4204, 4205, 4206, 4207, 4208, 4209, 4210, 4211, 4212, 4213, 4214, 4215, 4216, 4217, 4218, 4219, 4220, 4221, 4222, 4223, 4224, 4225, 4226, 4227, 4228, 4229, 4230, 4231, 4232, 4233, 4234, 4235, 4236, 4237, 4238, 4239, 4240, 4241, 4242, 4243, 4244, 4245, 4246, 4247, 4248, 4249, 4250, 4251, 4252, 4253, 4254, 4255, 4256, 4257, 4258, 4259, 4261, 4262, 4267, 4268, 4269, 4270, 4271, 4272, 4273, 4274, 4275, 4276, 4277, 4278, 4279, 4280, 4281, 4282, 4283, 4284, 4285, 4286, 4287, 4288, 4289, 4290, 4291, 4292, 4293, 4294, 4295, 4296, 4297, 4298, 4299, 4300, 4301, 4302, 4303, 4304, 4305, 4306, 4307, 4308, 4309, 4310, 4311, 4312, 4313, 4314, 4315, 4316, 4317, 4318, 4319, 4320, 4321, 4322, 4323, 4324, 4325, 4326, 4327, 4328, 4329, 4330, 4331, 4332, 4333, 4334, 4335, 4336, 4337, 4338, 4339, 4341, 4342, 4343, 4344, 4349, 4350, 4351, 4352, 4353, 4354, 4355, 4356, 4357, 4358, 4359, 4360, 4361, 4362, 4363, 4364, 4365, 4366, 4367, 4368, 4369, 4370, 4371, 4372, 4373, 4374, 4375, 4376, 4377, 4378, 4379, 4380, 4381, 4382, 4383, 4384, 4385, 4386, 4387, 4388, 4389, 4390, 4391, 4392, 4393, 4394, 4395, 4396, 4397, 4398, 4399, 4400, 4401, 4402, 4403, 4404, 4405, 4406, 4407, 4408, 4409, 4410, 4411, 4412, 4413, 4414, 4415, 4416, 4417, 4418, 4419, 4421, 4422, 4423, 4424, 4425, 4426, 4432, 4433, 4434, 4435, 4436, 4437, 4438, 4439, 4440, 4441, 4442, 4443, 4444, 4445, 4446, 4447, 4448, 4449, 4450, 4451, 4452, 4453, 4454, 4455, 4456, 4457, 4458, 4459, 4460, 4461, 4462, 4463, 4464, 4465, 4466, 4467, 4468, 4469, 4470, 4471, 4472, 4473, 4474, 4475, 4476, 4477, 4478, 4479, 4480, 4481, 4482, 4483, 4484, 4485, 4486, 4487, 4488, 4489, 4490, 4491, 4492, 4493, 4494, 4495, 4496, 4497, 4498, 4499, 4501, 4502, 4503, 4504, 4505, 4506, 4507, 4514, 4515, 4516, 4517, 4518, 4519, 4520, 4521, 4522, 4523, 4524, 4525, 4526, 4527, 4528, 4529, 4530, 4531, 4532, 4533, 4534, 4535, 4536, 4537, 4538, 4539, 4540, 4541, 4542, 4543, 4544, 4545, 4546, 4547, 4548, 4549, 4550, 4551, 4552, 4553, 4554, 4555, 4556, 4557, 4558, 4559, 4560, 4561, 4562, 4563, 4564, 4565, 4566, 4567, 4568, 4569, 4570, 4571, 4572, 4573, 4574, 4575, 4576, 4577, 4578, 4579, 4581, 4582, 4583, 4584, 4585, 4586, 4587, 4588, 4589, 4596, 4597, 4598, 4599, 4600, 4601, 4602, 4603, 4604, 4605, 4606, 4607, 4608, 4609, 4610, 4611, 4612, 4613, 4614, 4615, 4616, 4617, 4618, 4619, 4620, 4621, 4622, 4623, 4624, 4625, 4626, 4627, 4628, 4629, 4630, 4631, 4632, 4633, 4634, 4635, 4636, 4637, 4638, 4639, 4640, 4641, 4642, 4643, 4644, 4645, 4646, 4647, 4648, 4649, 4650, 4651, 4652, 4653, 4654, 4655, 4656, 4657, 4658, 4659, 4661, 4662, 4663, 4664, 4665, 4666, 4667, 4668, 4669, 4670, 4671, 4679, 4680, 4681, 4682, 4683, 4684, 4685, 4686, 4687, 4688, 4689, 4690, 4691, 4692, 4693, 4694, 4695, 4696, 4697, 4698, 4699, 4700, 4701, 4702, 4703, 4704, 4705, 4706, 4707, 4708, 4709, 4710, 4711, 4712, 4713, 4714, 4715, 4716, 4717, 4718, 4719, 4720, 4721, 4722, 4723, 4724, 4725, 4726, 4727, 4728, 4729, 4730, 4731, 4732, 4733, 4734, 4735, 4736, 4737, 4738, 4739, 4741, 4742, 4743, 4744, 4745, 4746, 4747, 4748, 4749, 4750, 4751, 4752, 4761, 4762, 4763, 4764, 4765, 4766, 4767, 4768, 4769, 4770, 4771, 4772, 4773, 4774, 4775, 4776, 4777, 4778, 4779, 4780, 4781, 4782, 4783, 4784, 4785, 4786, 4787, 4788, 4789, 4790, 4791, 4792, 4793, 4794, 4795, 4796, 4797, 4798, 4799, 4800, 4801, 4802, 4803, 4804, 4805, 4806, 4807, 4808, 4809, 4810, 4811, 4812, 4813, 4814, 4815, 4816, 4817, 4818, 4819, 4821, 4822, 4823, 4824, 4825, 4826, 4827, 4828, 4829, 4830, 4831, 4832, 4833, 4834, 4844, 4845, 4846, 4847, 4848, 4849, 4850, 4851, 4852, 4853, 4854, 4855, 4856, 4857, 4858, 4859, 4860, 4861, 4862, 4863, 4864, 4865, 4866, 4867, 4868, 4869, 4870, 4871, 4872, 4873, 4874, 4875, 4876, 4877, 4878, 4879, 4880, 4881, 4882, 4883, 4884, 4885, 4886, 4887, 4888, 4889, 4890, 4891, 4892, 4893, 4894, 4895, 4896, 4897, 4898, 4899, 4901, 4902, 4903, 4904, 4905, 4906, 4907, 4908, 4909, 4910, 4911, 4912, 4913, 4914, 4915, 4916, 4926, 4927, 4928, 4929, 4930, 4931, 4932, 4933, 4934, 4935, 4936, 4937, 4938, 4939, 4940, 4941, 4942, 4943, 4944, 4945, 4946, 4947, 4948, 4949, 4950, 4951, 4952, 4953, 4954, 4955, 4956, 4957, 4958, 4959, 4960, 4961, 4962, 4963, 4964, 4965, 4966, 4967, 4968, 4969, 4970, 4971, 4972, 4973, 4974, 4975, 4976, 4977, 4978, 4979, 4981, 4982, 4983, 4984, 4985, 4986, 4987, 4988, 4989, 4990, 4991, 4992, 4993, 4994, 4995, 4996, 4997, 4998, 5008, 5009, 5010, 5011, 5012, 5013, 5014, 5015, 5016, 5017, 5018, 5019, 5020, 5021, 5022, 5023, 5024, 5025, 5026, 5027, 5028, 5029, 5030, 5031, 5032, 5033, 5034, 5035, 5036, 5037, 5038, 5039, 5040, 5041, 5042, 5043, 5044, 5045, 5046, 5047, 5048, 5049, 5050, 5051, 5052, 5053, 5054, 5055, 5056, 5057, 5058, 5059, 5061, 5062, 5063, 5064, 5065, 5066, 5067, 5068, 5069, 5070, 5071, 5072, 5073, 5074, 5075, 5076, 5077, 5078, 5079, 5091, 5092, 5093, 5094, 5095, 5096, 5097, 5098, 5099, 5100, 5101, 5102, 5103, 5104, 5105, 5106, 5107, 5108, 5109, 5110, 5111, 5112, 5113, 5114, 5115, 5116, 5117, 5118, 5119, 5120, 5121, 5122, 5123, 5124, 5125, 5126, 5127, 5128, 5129, 5130, 5131, 5132, 5133, 5134, 5135, 5136, 5137, 5138, 5139, 5141, 5142, 5143, 5144, 5145, 5146, 5147, 5148, 5149, 5150, 5151, 5152, 5153, 5154, 5155, 5156, 5157, 5158, 5159, 5160, 5161, 5173, 5174, 5175, 5176, 5177, 5178, 5179, 5180, 5181, 5182, 5183, 5184, 5185, 5186, 5187, 5188, 5189, 5190, 5191, 5192, 5193, 5194, 5195, 5196, 5197, 5198, 5199, 5200, 5201, 5202, 5203, 5204, 5205, 5206, 5207, 5208, 5209, 5210, 5211, 5212, 5213, 5214, 5215, 5216, 5217, 5218, 5219, 5221, 5222, 5223, 5224, 5225, 5226, 5227, 5228, 5229, 5230, 5231, 5232, 5233, 5234, 5235, 5236, 5237, 5238, 5239, 5240, 5241, 5242, 5243, 5256, 5257, 5258, 5259, 5260, 5261, 5262, 5263, 5264, 5265, 5266, 5267, 5268, 5269, 5270, 5271, 5272, 5273, 5274, 5275, 5276, 5277, 5278, 5279, 5280, 5281, 5282, 5283, 5284, 5285, 5286, 5287, 5288, 5289, 5290, 5291, 5292, 5293, 5294, 5295, 5296, 5297, 5298, 5299, 5301, 5302, 5303, 5304, 5305, 5306, 5307, 5308, 5309, 5310, 5311, 5312, 5313, 5314, 5315, 5316, 5317, 5318, 5319, 5320, 5321, 5322, 5323, 5324, 5325, 5338, 5339, 5340, 5341, 5342, 5343, 5344, 5345, 5346, 5347, 5348, 5349, 5350, 5351, 5352, 5353, 5354, 5355, 5356, 5357, 5358, 5359, 5360, 5361, 5362, 5363, 5364, 5365, 5366, 5367, 5368, 5369, 5370, 5371, 5372, 5373, 5374, 5375, 5376, 5377, 5378, 5379, 5381, 5382, 5383, 5384, 5385, 5386, 5387, 5388, 5389, 5390, 5391, 5392, 5393, 5394, 5395, 5396, 5397, 5398, 5399, 5400, 5401, 5402, 5403, 5404, 5405, 5406, 5421, 5422, 5423, 5424, 5425, 5426, 5427, 5428, 5429, 5430, 5431, 5432, 5433, 5434, 5435, 5436, 5437, 5438, 5439, 5440, 5441, 5442, 5443, 5444, 5445, 5446, 5447, 5448, 5449, 5450, 5451, 5452, 5453, 5454, 5455, 5456, 5457, 5458, 5459, 5461, 5462, 5463, 5464, 5465, 5466, 5467, 5468, 5469, 5470, 5471, 5472, 5473, 5474, 5475, 5476, 5477, 5478, 5479, 5480, 5481, 5482, 5483, 5484, 5485, 5486, 5487, 5488, 5503, 5504, 5505, 5506, 5507, 5508, 5509, 5510, 5511, 5512, 5513, 5514, 5515, 5516, 5517, 5518, 5519, 5520, 5521, 5522, 5523, 5524, 5525, 5526, 5527, 5528, 5529, 5530, 5531, 5532, 5533, 5534, 5535, 5536, 5537, 5538, 5539, 5541, 5542, 5543, 5544, 5545, 5546, 5547, 5548, 5549, 5550, 5551, 5552, 5553, 5554, 5555, 5556, 5557, 5558, 5559, 5560, 5561, 5562, 5563, 5564, 5565, 5566, 5567, 5568, 5569, 5570, 5585, 5586, 5587, 5588, 5589, 5590, 5591, 5592, 5593, 5594, 5595, 5596, 5597, 5598, 5599, 5600, 5601, 5602, 5603, 5604, 5605, 5606, 5607, 5608, 5609, 5610, 5611, 5612, 5613, 5614, 5615, 5616, 5617, 5618, 5619, 5621, 5622, 5623, 5624, 5625, 5626, 5627, 5628, 5629, 5630, 5631, 5632, 5633, 5634, 5635, 5636, 5637, 5638, 5639, 5640, 5641, 5642, 5643, 5644, 5645, 5646, 5647, 5648, 5649, 5650, 5651, 5652, 5668, 5669, 5670, 5671, 5672, 5673, 5674, 5675, 5676, 5677, 5678, 5679, 5680, 5681, 5682, 5683, 5684, 5685, 5686, 5687, 5688, 5689, 5690, 5691, 5692, 5693, 5694, 5695, 5696, 5697, 5698, 5699, 5701, 5702, 5703, 5704, 5705, 5706, 5707, 5708, 5709, 5710, 5711, 5712, 5713, 5714, 5715, 5716, 5717, 5718, 5719, 5720, 5721, 5722, 5723, 5724, 5725, 5726, 5727, 5728, 5729, 5730, 5731, 5732, 5733, 5750, 5751, 5752, 5753, 5754, 5755, 5756, 5757, 5758, 5759, 5760, 5761, 5762, 5763, 5764, 5765, 5766, 5767, 5768, 5769, 5770, 5771, 5772, 5773, 5774, 5775, 5776, 5777, 5778, 5779, 5781, 5782, 5783, 5784, 5785, 5786, 5787, 5788, 5789, 5790, 5791, 5792, 5793, 5794, 5795, 5796, 5797, 5798, 5799, 5800, 5801, 5802, 5803, 5804, 5805, 5806, 5807, 5808, 5809, 5810, 5811, 5812, 5813, 5814, 5815, 5832, 5833, 5834, 5835, 5836, 5837, 5838, 5839, 5840, 5841, 5842, 5843, 5844, 5845, 5846, 5847, 5848, 5849, 5850, 5851, 5852, 5853, 5854, 5855, 5856, 5857, 5858, 5859, 5861, 5862, 5863, 5864, 5865, 5866, 5867, 5868, 5869, 5870, 5871, 5872, 5873, 5874, 5875, 5876, 5877, 5878, 5879, 5880, 5881, 5882, 5883, 5884, 5885, 5886, 5887, 5888, 5889, 5890, 5891, 5892, 5893, 5894, 5895, 5896, 5897, 5913, 5914, 5915, 5916, 5917, 5918, 5919, 5920, 5921, 5922, 5923, 5924, 5925, 5926, 5927, 5928, 5929, 5930, 5931, 5932, 5933, 5934, 5935, 5936, 5937, 5938, 5939, 5941, 5942, 5943, 5944, 5945, 5946, 5947, 5948, 5949, 5950, 5951, 5952, 5953, 5954, 5955, 5956, 5957, 5958, 5959, 5960, 5961, 5962, 5963, 5964, 5965, 5966, 5967, 5968, 5969, 5970, 5971, 5972, 5973, 5974, 5975, 5976, 5977, 5978, 5994, 5995, 5996, 5997, 5998, 5999, 6000, 6001, 6002, 6003, 6004, 6005, 6006, 6007, 6008, 6009, 6010, 6011, 6012, 6013, 6014, 6015, 6016, 6017, 6018, 6019, 6021, 6022, 6023, 6024, 6025, 6026, 6027, 6028, 6029, 6030, 6031, 6032, 6033, 6034, 6035, 6036, 6037, 6038, 6039, 6040, 6041, 6042, 6043, 6044, 6045, 6046, 6047, 6048, 6049, 6050, 6051, 6052, 6053, 6054, 6055, 6056, 6057, 6058, 6059, 6060, 6075, 6076, 6077, 6078, 6079, 6080, 6081, 6082, 6083, 6084, 6085, 6086, 6087, 6088, 6089, 6090, 6091, 6092, 6093, 6094, 6095, 6096, 6097, 6098, 6099, 6101, 6102, 6103, 6104, 6105, 6106, 6107, 6108, 6109, 6110, 6111, 6112, 6113, 6114, 6115, 6116, 6117, 6118, 6119, 6120, 6121, 6122, 6123, 6124, 6125, 6126, 6127, 6128, 6129, 6130, 6131, 6132, 6133, 6134, 6135, 6136, 6137, 6138, 6139, 6140, 6141, 6142, 6156, 6157, 6158, 6159, 6160, 6161, 6162, 6163, 6164, 6165, 6166, 6167, 6168, 6169, 6170, 6171, 6172, 6173, 6174, 6175, 6176, 6177, 6178, 6179, 6181, 6182, 6183, 6184, 6185, 6186, 6187, 6188, 6189, 6190, 6191, 6192, 6193, 6194, 6195, 6196, 6197, 6198, 6199, 6200, 6201, 6202, 6203, 6204, 6205, 6206, 6207, 6208, 6209, 6210, 6211, 6212, 6213, 6214, 6215, 6216, 6217, 6218, 6219, 6220, 6221, 6222, 6223, 6224, 6237, 6238, 6239, 6240, 6241, 6242, 6243, 6244, 6245, 6246, 6247, 6248, 6249, 6250, 6251, 6252, 6253, 6254, 6255, 6256, 6257, 6258, 6259, 6261, 6262, 6263, 6264, 6265, 6266, 6267, 6268, 6269, 6270, 6271, 6272, 6273, 6274, 6275, 6276, 6277, 6278, 6279, 6280, 6281, 6282, 6283, 6284, 6285, 6286, 6287, 6288, 6289, 6290, 6291, 6292, 6293, 6294, 6295, 6296, 6297, 6298, 6299, 6300, 6301, 6302, 6303, 6304, 6305, 6318, 6319, 6320, 6321, 6322, 6323, 6324, 6325, 6326, 6327, 6328, 6329, 6330, 6331, 6332, 6333, 6334, 6335, 6336, 6337, 6338, 6339, 6341, 6342, 6343, 6344, 6345, 6346, 6347, 6348, 6349, 6350, 6351, 6352, 6353, 6354, 6355, 6356, 6357, 6358, 6359, 6360, 6361, 6362, 6363, 6364, 6365, 6366, 6367, 6368, 6369, 6370, 6371, 6372, 6373, 6374, 6375, 6376, 6377, 6378, 6379, 6380, 6381, 6382, 6383, 6384, 6385, 6386, 6387, 6399, 6400, 6401, 6402, 6403, 6404, 6405, 6406, 6407, 6408, 6409, 6410, 6411, 6412, 6413, 6414, 6415, 6416, 6417, 6418, 6419, 6421, 6422, 6423, 6424, 6425, 6426, 6427, 6428, 6429, 6430, 6431, 6432, 6433, 6434, 6435, 6436, 6437, 6438, 6439, 6440, 6441, 6442, 6443, 6444, 6445, 6446, 6447, 6448, 6449, 6450, 6451, 6452, 6453, 6454, 6455, 6456, 6457, 6458, 6459, 6460, 6461, 6462, 6463, 6464, 6465, 6466, 6467, 6468, 6469, 6480, 6481, 6482, 6483, 6484, 6485, 6486, 6487, 6488, 6489, 6490, 6491, 6492, 6493, 6494, 6495, 6496, 6497, 6498, 6499, 6501, 6502, 6503, 6504, 6505, 6506, 6507, 6508, 6509, 6510, 6511, 6512, 6513, 6514, 6515, 6516, 6517, 6518, 6519, 6520, 6521, 6522, 6523, 6524, 6525, 6526, 6527, 6528, 6529, 6530, 6531, 6532, 6533, 6534, 6535, 6536, 6537, 6538, 6539, 6540, 6541, 6542, 6543, 6544, 6545, 6546, 6547, 6548, 6549, 6550, 6551]\n",
      "val ids:  []\n",
      "test ids:  [0, 1, 2, 3, 4, 5, 6, 7, 8, 9, 10, 11, 12, 40, 81, 82, 83, 84, 85, 86, 87, 88, 89, 90, 91, 92, 93, 94, 120, 162, 163, 164, 165, 166, 167, 168, 169, 170, 171, 172, 173, 174, 175, 200, 243, 244, 245, 246, 247, 248, 249, 250, 251, 252, 253, 254, 255, 256, 257, 280, 324, 325, 326, 327, 328, 329, 330, 331, 332, 333, 334, 335, 336, 337, 338, 339, 360, 405, 406, 407, 408, 409, 410, 411, 412, 413, 414, 415, 416, 417, 418, 419, 420, 421, 440, 486, 487, 488, 489, 490, 491, 492, 493, 494, 495, 496, 497, 498, 499, 500, 501, 502, 520, 567, 568, 569, 570, 571, 572, 573, 574, 575, 576, 577, 578, 579, 580, 581, 582, 583, 584, 600, 648, 649, 650, 651, 652, 653, 654, 655, 656, 657, 658, 659, 660, 661, 662, 663, 664, 665, 666, 680, 729, 730, 731, 732, 733, 734, 735, 736, 737, 738, 739, 740, 741, 742, 743, 744, 745, 746, 747, 748, 760, 810, 811, 812, 813, 814, 815, 816, 817, 818, 819, 820, 821, 822, 823, 824, 825, 826, 827, 828, 829, 840, 891, 892, 893, 894, 895, 896, 897, 898, 899, 900, 901, 902, 903, 904, 905, 906, 907, 908, 909, 910, 911, 920, 972, 973, 974, 975, 976, 977, 978, 979, 980, 981, 982, 983, 984, 985, 986, 987, 988, 989, 990, 991, 992, 993, 1000, 1053, 1054, 1055, 1056, 1057, 1058, 1059, 1060, 1061, 1062, 1063, 1064, 1065, 1066, 1067, 1068, 1069, 1070, 1071, 1072, 1073, 1074, 1075, 1080, 1135, 1136, 1137, 1138, 1139, 1140, 1141, 1142, 1143, 1144, 1145, 1146, 1147, 1148, 1149, 1150, 1151, 1152, 1153, 1154, 1155, 1156, 1160, 1217, 1218, 1219, 1220, 1221, 1222, 1223, 1224, 1225, 1226, 1227, 1228, 1229, 1230, 1231, 1232, 1233, 1234, 1235, 1236, 1237, 1238, 1240, 1300, 1301, 1302, 1303, 1304, 1305, 1306, 1307, 1308, 1309, 1310, 1311, 1312, 1313, 1314, 1315, 1316, 1317, 1318, 1319, 1320, 1382, 1383, 1384, 1385, 1386, 1387, 1388, 1389, 1390, 1391, 1392, 1393, 1394, 1395, 1396, 1397, 1398, 1399, 1400, 1401, 1465, 1466, 1467, 1468, 1469, 1470, 1471, 1472, 1473, 1474, 1475, 1476, 1477, 1478, 1479, 1480, 1481, 1482, 1483, 1547, 1548, 1549, 1550, 1551, 1552, 1553, 1554, 1555, 1556, 1557, 1558, 1559, 1560, 1561, 1562, 1563, 1564, 1565, 1629, 1630, 1631, 1632, 1633, 1634, 1635, 1636, 1637, 1638, 1639, 1640, 1641, 1642, 1643, 1644, 1645, 1646, 1647, 1700, 1712, 1713, 1714, 1715, 1716, 1717, 1718, 1719, 1720, 1721, 1722, 1723, 1724, 1725, 1726, 1727, 1728, 1780, 1794, 1795, 1796, 1797, 1798, 1799, 1800, 1801, 1802, 1803, 1804, 1805, 1806, 1807, 1808, 1809, 1810, 1860, 1877, 1878, 1879, 1880, 1881, 1882, 1883, 1884, 1885, 1886, 1887, 1888, 1889, 1890, 1891, 1892, 1940, 1959, 1960, 1961, 1962, 1963, 1964, 1965, 1966, 1967, 1968, 1969, 1970, 1971, 1972, 1973, 1974, 2020, 2040, 2041, 2042, 2043, 2044, 2045, 2046, 2047, 2048, 2049, 2050, 2051, 2052, 2053, 2054, 2055, 2100, 2120, 2124, 2125, 2126, 2127, 2128, 2129, 2130, 2131, 2132, 2133, 2134, 2135, 2136, 2137, 2180, 2200, 2206, 2207, 2208, 2209, 2210, 2211, 2212, 2213, 2214, 2215, 2216, 2217, 2218, 2219, 2260, 2280, 2289, 2290, 2291, 2292, 2293, 2294, 2295, 2296, 2297, 2298, 2299, 2300, 2340, 2360, 2371, 2372, 2373, 2374, 2375, 2376, 2377, 2378, 2379, 2380, 2381, 2382, 2420, 2440, 2454, 2455, 2456, 2457, 2458, 2459, 2460, 2461, 2462, 2463, 2464, 2500, 2520, 2536, 2537, 2538, 2539, 2540, 2541, 2542, 2543, 2544, 2545, 2546, 2580, 2600, 2618, 2619, 2620, 2621, 2622, 2623, 2624, 2625, 2626, 2627, 2660, 2680, 2701, 2702, 2703, 2704, 2705, 2706, 2707, 2708, 2709, 2740, 2760, 2783, 2784, 2785, 2786, 2787, 2788, 2789, 2790, 2791, 2820, 2840, 2866, 2867, 2868, 2869, 2870, 2871, 2872, 2873, 2900, 2920, 2948, 2949, 2950, 2951, 2952, 2953, 2954, 2980, 3000, 3030, 3031, 3032, 3033, 3034, 3035, 3036, 3060, 3080, 3113, 3114, 3115, 3116, 3117, 3118, 3140, 3160, 3195, 3196, 3197, 3198, 3199, 3200, 3220, 3240, 3278, 3279, 3280, 3281, 3300, 3360, 3361, 3362, 3363, 3380, 3443, 3444, 3445, 3460, 3525, 3526, 3540, 3607, 3608, 3620, 3690, 3700, 3772, 3780, 3854, 3860, 3936, 3940, 4018, 4019, 4020, 4099, 4100, 4101, 4180, 4181, 4182, 4183, 4260, 4263, 4264, 4265, 4266, 4340, 4345, 4346, 4347, 4348, 4420, 4427, 4428, 4429, 4430, 4431, 4500, 4508, 4509, 4510, 4511, 4512, 4513, 4580, 4590, 4591, 4592, 4593, 4594, 4595, 4660, 4672, 4673, 4674, 4675, 4676, 4677, 4678, 4740, 4753, 4754, 4755, 4756, 4757, 4758, 4759, 4760, 4820, 4835, 4836, 4837, 4838, 4839, 4840, 4841, 4842, 4843, 4900, 4917, 4918, 4919, 4920, 4921, 4922, 4923, 4924, 4925, 4980, 4999, 5000, 5001, 5002, 5003, 5004, 5005, 5006, 5007, 5060, 5080, 5081, 5082, 5083, 5084, 5085, 5086, 5087, 5088, 5089, 5090, 5140, 5162, 5163, 5164, 5165, 5166, 5167, 5168, 5169, 5170, 5171, 5172, 5220, 5244, 5245, 5246, 5247, 5248, 5249, 5250, 5251, 5252, 5253, 5254, 5255, 5300, 5326, 5327, 5328, 5329, 5330, 5331, 5332, 5333, 5334, 5335, 5336, 5337, 5380, 5407, 5408, 5409, 5410, 5411, 5412, 5413, 5414, 5415, 5416, 5417, 5418, 5419, 5420, 5460, 5489, 5490, 5491, 5492, 5493, 5494, 5495, 5496, 5497, 5498, 5499, 5500, 5501, 5502, 5540, 5571, 5572, 5573, 5574, 5575, 5576, 5577, 5578, 5579, 5580, 5581, 5582, 5583, 5584, 5620, 5653, 5654, 5655, 5656, 5657, 5658, 5659, 5660, 5661, 5662, 5663, 5664, 5665, 5666, 5667, 5700, 5734, 5735, 5736, 5737, 5738, 5739, 5740, 5741, 5742, 5743, 5744, 5745, 5746, 5747, 5748, 5749, 5780, 5816, 5817, 5818, 5819, 5820, 5821, 5822, 5823, 5824, 5825, 5826, 5827, 5828, 5829, 5830, 5831, 5860, 5898, 5899, 5900, 5901, 5902, 5903, 5904, 5905, 5906, 5907, 5908, 5909, 5910, 5911, 5912, 5940, 5979, 5980, 5981, 5982, 5983, 5984, 5985, 5986, 5987, 5988, 5989, 5990, 5991, 5992, 5993, 6020, 6061, 6062, 6063, 6064, 6065, 6066, 6067, 6068, 6069, 6070, 6071, 6072, 6073, 6074, 6100, 6143, 6144, 6145, 6146, 6147, 6148, 6149, 6150, 6151, 6152, 6153, 6154, 6155, 6180, 6225, 6226, 6227, 6228, 6229, 6230, 6231, 6232, 6233, 6234, 6235, 6236, 6260, 6306, 6307, 6308, 6309, 6310, 6311, 6312, 6313, 6314, 6315, 6316, 6317, 6340, 6388, 6389, 6390, 6391, 6392, 6393, 6394, 6395, 6396, 6397, 6398, 6420, 6470, 6471, 6472, 6473, 6474, 6475, 6476, 6477, 6478, 6479, 6500, 6552, 6553, 6554, 6555, 6556, 6557, 6558, 6559, 6560]\n",
      "CPU times: user 179 ms, sys: 27.9 ms, total: 207 ms\n",
      "Wall time: 205 ms\n"
     ]
    }
   ],
   "source": [
    "%%time\n",
    "n_total = len(simulation.dataframe)\n",
    "n_train = len(simulation.dataframe[simulation.dataframe.type_of == \"train\"])\n",
    "n_val = len(simulation.dataframe[simulation.dataframe.type_of == \"val\"])\n",
    "n_test = len(simulation.dataframe[simulation.dataframe.type_of == \"test\"])\n",
    "n_train_hamiltonians = len(simulation.train_ids)\n",
    "n_val_hamiltonians = len(simulation.val_ids)\n",
    "n_test_hamiltonians = len(simulation.test_ids)\n",
    "n_total_hamiltonians = n_train_hamiltonians + n_val_hamiltonians + n_test_hamiltonians\n",
    "\n",
    "print(\"% train: \", n_train/n_total)\n",
    "print(\"% val: \",  n_val/n_total)\n",
    "print(\"% test: \", n_test/n_total)\n",
    "print(\"% train + val + test: \", (n_train+n_val+n_test)/n_total)\n",
    "print(\"\\n\")\n",
    "print(\"number of train hamiltonians: \", n_train_hamiltonians)\n",
    "print(\"number of val hamiltonians: \", n_val_hamiltonians)\n",
    "print(\"number of test hamiltonians: \", n_test_hamiltonians)\n",
    "print(\"total number of hamiltonians: \", n_total_hamiltonians)\n",
    "print(\"\\n\")\n",
    "print(\"train ids: \", simulation.train_ids)\n",
    "print(\"val ids: \", simulation.val_ids)\n",
    "print(\"test ids: \", simulation.test_ids)"
   ]
  },
  {
   "cell_type": "markdown",
   "metadata": {
    "papermill": {
     "duration": 0.018275,
     "end_time": "2020-07-18T06:24:53.362560",
     "exception": false,
     "start_time": "2020-07-18T06:24:53.344285",
     "status": "completed"
    },
    "tags": []
   },
   "source": [
    "## Running a simulation"
   ]
  },
  {
   "cell_type": "code",
   "execution_count": 27,
   "metadata": {
    "execution": {
     "iopub.execute_input": "2020-07-18T06:24:53.402785Z",
     "iopub.status.busy": "2020-07-18T06:24:53.402278Z",
     "iopub.status.idle": "2020-07-18T07:35:21.059133Z",
     "shell.execute_reply": "2020-07-18T07:35:21.059442Z"
    },
    "papermill": {
     "duration": 4227.677819,
     "end_time": "2020-07-18T07:35:21.059505",
     "exception": false,
     "start_time": "2020-07-18T06:24:53.381686",
     "status": "completed"
    },
    "tags": []
   },
   "outputs": [
    {
     "name": "stderr",
     "output_type": "stream",
     "text": [
      "\r",
      "running experiments:   0%|          | 0/100 [00:00<?, ?it/s]"
     ]
    },
    {
     "name": "stdout",
     "output_type": "stream",
     "text": [
      "Simulation mode:  None\n"
     ]
    },
    {
     "name": "stderr",
     "output_type": "stream",
     "text": [
      "\r",
      "running experiments:   1%|          | 1/100 [00:42<1:10:32, 42.75s/it]"
     ]
    },
    {
     "name": "stderr",
     "output_type": "stream",
     "text": [
      "\r",
      "running experiments:   2%|▏         | 2/100 [01:27<1:11:02, 43.49s/it]"
     ]
    },
    {
     "name": "stderr",
     "output_type": "stream",
     "text": [
      "\r",
      "running experiments:   3%|▎         | 3/100 [02:11<1:10:10, 43.41s/it]"
     ]
    },
    {
     "name": "stderr",
     "output_type": "stream",
     "text": [
      "\r",
      "running experiments:   4%|▍         | 4/100 [02:53<1:08:57, 43.10s/it]"
     ]
    },
    {
     "name": "stderr",
     "output_type": "stream",
     "text": [
      "\r",
      "running experiments:   5%|▌         | 5/100 [03:36<1:08:06, 43.01s/it]"
     ]
    },
    {
     "name": "stderr",
     "output_type": "stream",
     "text": [
      "\r",
      "running experiments:   6%|▌         | 6/100 [04:20<1:07:43, 43.23s/it]"
     ]
    },
    {
     "name": "stderr",
     "output_type": "stream",
     "text": [
      "\r",
      "running experiments:   7%|▋         | 7/100 [05:03<1:06:57, 43.19s/it]"
     ]
    },
    {
     "name": "stderr",
     "output_type": "stream",
     "text": [
      "\r",
      "running experiments:   8%|▊         | 8/100 [05:46<1:06:29, 43.36s/it]"
     ]
    },
    {
     "name": "stderr",
     "output_type": "stream",
     "text": [
      "\r",
      "running experiments:   9%|▉         | 9/100 [06:30<1:05:44, 43.35s/it]"
     ]
    },
    {
     "name": "stderr",
     "output_type": "stream",
     "text": [
      "\r",
      "running experiments:  10%|█         | 10/100 [07:14<1:05:29, 43.67s/it]"
     ]
    },
    {
     "name": "stderr",
     "output_type": "stream",
     "text": [
      "\r",
      "running experiments:  11%|█         | 11/100 [07:58<1:04:49, 43.71s/it]"
     ]
    },
    {
     "name": "stderr",
     "output_type": "stream",
     "text": [
      "\r",
      "running experiments:  12%|█▏        | 12/100 [08:40<1:03:34, 43.34s/it]"
     ]
    },
    {
     "name": "stderr",
     "output_type": "stream",
     "text": [
      "\r",
      "running experiments:  13%|█▎        | 13/100 [09:22<1:02:11, 42.89s/it]"
     ]
    },
    {
     "name": "stderr",
     "output_type": "stream",
     "text": [
      "\r",
      "running experiments:  14%|█▍        | 14/100 [10:04<1:01:08, 42.66s/it]"
     ]
    },
    {
     "name": "stderr",
     "output_type": "stream",
     "text": [
      "\r",
      "running experiments:  15%|█▌        | 15/100 [10:46<59:56, 42.32s/it]  "
     ]
    },
    {
     "name": "stderr",
     "output_type": "stream",
     "text": [
      "\r",
      "running experiments:  16%|█▌        | 16/100 [11:29<59:20, 42.39s/it]"
     ]
    },
    {
     "name": "stderr",
     "output_type": "stream",
     "text": [
      "\r",
      "running experiments:  17%|█▋        | 17/100 [12:09<58:02, 41.95s/it]"
     ]
    },
    {
     "name": "stderr",
     "output_type": "stream",
     "text": [
      "\r",
      "running experiments:  18%|█▊        | 18/100 [12:53<57:47, 42.29s/it]"
     ]
    },
    {
     "name": "stderr",
     "output_type": "stream",
     "text": [
      "\r",
      "running experiments:  19%|█▉        | 19/100 [13:36<57:41, 42.74s/it]"
     ]
    },
    {
     "name": "stderr",
     "output_type": "stream",
     "text": [
      "\r",
      "running experiments:  20%|██        | 20/100 [14:18<56:26, 42.34s/it]"
     ]
    },
    {
     "name": "stderr",
     "output_type": "stream",
     "text": [
      "\r",
      "running experiments:  21%|██        | 21/100 [14:59<55:19, 42.02s/it]"
     ]
    },
    {
     "name": "stderr",
     "output_type": "stream",
     "text": [
      "\r",
      "running experiments:  22%|██▏       | 22/100 [15:42<54:52, 42.21s/it]"
     ]
    },
    {
     "name": "stderr",
     "output_type": "stream",
     "text": [
      "\r",
      "running experiments:  23%|██▎       | 23/100 [16:24<54:12, 42.24s/it]"
     ]
    },
    {
     "name": "stderr",
     "output_type": "stream",
     "text": [
      "\r",
      "running experiments:  24%|██▍       | 24/100 [17:06<53:35, 42.31s/it]"
     ]
    },
    {
     "name": "stderr",
     "output_type": "stream",
     "text": [
      "\r",
      "running experiments:  25%|██▌       | 25/100 [17:49<52:53, 42.32s/it]"
     ]
    },
    {
     "name": "stderr",
     "output_type": "stream",
     "text": [
      "\r",
      "running experiments:  26%|██▌       | 26/100 [18:32<52:26, 42.52s/it]"
     ]
    },
    {
     "name": "stderr",
     "output_type": "stream",
     "text": [
      "\r",
      "running experiments:  27%|██▋       | 27/100 [19:14<51:42, 42.50s/it]"
     ]
    },
    {
     "name": "stderr",
     "output_type": "stream",
     "text": [
      "\r",
      "running experiments:  28%|██▊       | 28/100 [19:54<50:09, 41.80s/it]"
     ]
    },
    {
     "name": "stderr",
     "output_type": "stream",
     "text": [
      "\r",
      "running experiments:  29%|██▉       | 29/100 [20:37<49:36, 41.92s/it]"
     ]
    },
    {
     "name": "stderr",
     "output_type": "stream",
     "text": [
      "\r",
      "running experiments:  30%|███       | 30/100 [21:19<49:02, 42.03s/it]"
     ]
    },
    {
     "name": "stderr",
     "output_type": "stream",
     "text": [
      "\r",
      "running experiments:  31%|███       | 31/100 [22:02<48:40, 42.33s/it]"
     ]
    },
    {
     "name": "stderr",
     "output_type": "stream",
     "text": [
      "\r",
      "running experiments:  32%|███▏      | 32/100 [22:43<47:39, 42.06s/it]"
     ]
    },
    {
     "name": "stderr",
     "output_type": "stream",
     "text": [
      "\r",
      "running experiments:  33%|███▎      | 33/100 [23:27<47:31, 42.56s/it]"
     ]
    },
    {
     "name": "stderr",
     "output_type": "stream",
     "text": [
      "\r",
      "running experiments:  34%|███▍      | 34/100 [24:09<46:35, 42.36s/it]"
     ]
    },
    {
     "name": "stderr",
     "output_type": "stream",
     "text": [
      "\r",
      "running experiments:  35%|███▌      | 35/100 [24:49<45:13, 41.75s/it]"
     ]
    },
    {
     "name": "stderr",
     "output_type": "stream",
     "text": [
      "\r",
      "running experiments:  36%|███▌      | 36/100 [25:31<44:40, 41.89s/it]"
     ]
    },
    {
     "name": "stderr",
     "output_type": "stream",
     "text": [
      "\r",
      "running experiments:  37%|███▋      | 37/100 [26:13<43:57, 41.86s/it]"
     ]
    },
    {
     "name": "stderr",
     "output_type": "stream",
     "text": [
      "\r",
      "running experiments:  38%|███▊      | 38/100 [26:55<43:06, 41.72s/it]"
     ]
    },
    {
     "name": "stderr",
     "output_type": "stream",
     "text": [
      "\r",
      "running experiments:  39%|███▉      | 39/100 [27:35<42:01, 41.33s/it]"
     ]
    },
    {
     "name": "stderr",
     "output_type": "stream",
     "text": [
      "\r",
      "running experiments:  40%|████      | 40/100 [28:17<41:24, 41.42s/it]"
     ]
    },
    {
     "name": "stderr",
     "output_type": "stream",
     "text": [
      "\r",
      "running experiments:  41%|████      | 41/100 [28:59<41:05, 41.78s/it]"
     ]
    },
    {
     "name": "stderr",
     "output_type": "stream",
     "text": [
      "\r",
      "running experiments:  42%|████▏     | 42/100 [29:41<40:27, 41.85s/it]"
     ]
    },
    {
     "name": "stderr",
     "output_type": "stream",
     "text": [
      "\r",
      "running experiments:  43%|████▎     | 43/100 [30:23<39:48, 41.90s/it]"
     ]
    },
    {
     "name": "stderr",
     "output_type": "stream",
     "text": [
      "\r",
      "running experiments:  44%|████▍     | 44/100 [31:05<38:56, 41.73s/it]"
     ]
    },
    {
     "name": "stderr",
     "output_type": "stream",
     "text": [
      "\r",
      "running experiments:  45%|████▌     | 45/100 [31:48<38:35, 42.09s/it]"
     ]
    },
    {
     "name": "stderr",
     "output_type": "stream",
     "text": [
      "\r",
      "running experiments:  46%|████▌     | 46/100 [32:29<37:48, 42.00s/it]"
     ]
    },
    {
     "name": "stderr",
     "output_type": "stream",
     "text": [
      "\r",
      "running experiments:  47%|████▋     | 47/100 [33:11<36:58, 41.86s/it]"
     ]
    },
    {
     "name": "stderr",
     "output_type": "stream",
     "text": [
      "\r",
      "running experiments:  48%|████▊     | 48/100 [33:52<36:03, 41.60s/it]"
     ]
    },
    {
     "name": "stderr",
     "output_type": "stream",
     "text": [
      "\r",
      "running experiments:  49%|████▉     | 49/100 [34:33<35:18, 41.54s/it]"
     ]
    },
    {
     "name": "stderr",
     "output_type": "stream",
     "text": [
      "\r",
      "running experiments:  50%|█████     | 50/100 [35:17<35:08, 42.18s/it]"
     ]
    },
    {
     "name": "stderr",
     "output_type": "stream",
     "text": [
      "\r",
      "running experiments:  51%|█████     | 51/100 [36:01<34:54, 42.75s/it]"
     ]
    },
    {
     "name": "stderr",
     "output_type": "stream",
     "text": [
      "\r",
      "running experiments:  52%|█████▏    | 52/100 [36:45<34:33, 43.19s/it]"
     ]
    },
    {
     "name": "stderr",
     "output_type": "stream",
     "text": [
      "\r",
      "running experiments:  53%|█████▎    | 53/100 [37:28<33:45, 43.09s/it]"
     ]
    },
    {
     "name": "stderr",
     "output_type": "stream",
     "text": [
      "\r",
      "running experiments:  54%|█████▍    | 54/100 [38:09<32:32, 42.44s/it]"
     ]
    },
    {
     "name": "stderr",
     "output_type": "stream",
     "text": [
      "\r",
      "running experiments:  55%|█████▌    | 55/100 [38:50<31:30, 42.01s/it]"
     ]
    },
    {
     "name": "stderr",
     "output_type": "stream",
     "text": [
      "\r",
      "running experiments:  56%|█████▌    | 56/100 [39:31<30:36, 41.74s/it]"
     ]
    },
    {
     "name": "stderr",
     "output_type": "stream",
     "text": [
      "\r",
      "running experiments:  57%|█████▋    | 57/100 [40:12<29:48, 41.60s/it]"
     ]
    },
    {
     "name": "stderr",
     "output_type": "stream",
     "text": [
      "\r",
      "running experiments:  58%|█████▊    | 58/100 [40:53<28:55, 41.33s/it]"
     ]
    },
    {
     "name": "stderr",
     "output_type": "stream",
     "text": [
      "\r",
      "running experiments:  59%|█████▉    | 59/100 [41:36<28:32, 41.76s/it]"
     ]
    },
    {
     "name": "stderr",
     "output_type": "stream",
     "text": [
      "\r",
      "running experiments:  60%|██████    | 60/100 [42:18<27:52, 41.81s/it]"
     ]
    },
    {
     "name": "stderr",
     "output_type": "stream",
     "text": [
      "\r",
      "running experiments:  61%|██████    | 61/100 [43:00<27:18, 42.02s/it]"
     ]
    },
    {
     "name": "stderr",
     "output_type": "stream",
     "text": [
      "\r",
      "running experiments:  62%|██████▏   | 62/100 [43:42<26:36, 42.01s/it]"
     ]
    },
    {
     "name": "stderr",
     "output_type": "stream",
     "text": [
      "\r",
      "running experiments:  63%|██████▎   | 63/100 [44:25<25:59, 42.16s/it]"
     ]
    },
    {
     "name": "stderr",
     "output_type": "stream",
     "text": [
      "\r",
      "running experiments:  64%|██████▍   | 64/100 [45:06<25:11, 41.99s/it]"
     ]
    },
    {
     "name": "stderr",
     "output_type": "stream",
     "text": [
      "\r",
      "running experiments:  65%|██████▌   | 65/100 [45:50<24:42, 42.35s/it]"
     ]
    },
    {
     "name": "stderr",
     "output_type": "stream",
     "text": [
      "\r",
      "running experiments:  66%|██████▌   | 66/100 [46:32<23:57, 42.28s/it]"
     ]
    },
    {
     "name": "stderr",
     "output_type": "stream",
     "text": [
      "\r",
      "running experiments:  67%|██████▋   | 67/100 [47:14<23:18, 42.37s/it]"
     ]
    },
    {
     "name": "stderr",
     "output_type": "stream",
     "text": [
      "\r",
      "running experiments:  68%|██████▊   | 68/100 [47:58<22:47, 42.72s/it]"
     ]
    },
    {
     "name": "stderr",
     "output_type": "stream",
     "text": [
      "\r",
      "running experiments:  69%|██████▉   | 69/100 [48:41<22:05, 42.75s/it]"
     ]
    },
    {
     "name": "stderr",
     "output_type": "stream",
     "text": [
      "\r",
      "running experiments:  70%|███████   | 70/100 [49:23<21:21, 42.71s/it]"
     ]
    },
    {
     "name": "stderr",
     "output_type": "stream",
     "text": [
      "\r",
      "running experiments:  71%|███████   | 71/100 [50:05<20:32, 42.51s/it]"
     ]
    },
    {
     "name": "stderr",
     "output_type": "stream",
     "text": [
      "\r",
      "running experiments:  72%|███████▏  | 72/100 [50:48<19:51, 42.57s/it]"
     ]
    },
    {
     "name": "stderr",
     "output_type": "stream",
     "text": [
      "\r",
      "running experiments:  73%|███████▎  | 73/100 [51:30<19:04, 42.39s/it]"
     ]
    },
    {
     "name": "stderr",
     "output_type": "stream",
     "text": [
      "\r",
      "running experiments:  74%|███████▍  | 74/100 [52:12<18:17, 42.23s/it]"
     ]
    },
    {
     "name": "stderr",
     "output_type": "stream",
     "text": [
      "\r",
      "running experiments:  75%|███████▌  | 75/100 [52:54<17:31, 42.07s/it]"
     ]
    },
    {
     "name": "stderr",
     "output_type": "stream",
     "text": [
      "\r",
      "running experiments:  76%|███████▌  | 76/100 [53:36<16:49, 42.05s/it]"
     ]
    },
    {
     "name": "stderr",
     "output_type": "stream",
     "text": [
      "\r",
      "running experiments:  77%|███████▋  | 77/100 [54:19<16:17, 42.48s/it]"
     ]
    },
    {
     "name": "stderr",
     "output_type": "stream",
     "text": [
      "\r",
      "running experiments:  78%|███████▊  | 78/100 [54:59<15:19, 41.80s/it]"
     ]
    },
    {
     "name": "stderr",
     "output_type": "stream",
     "text": [
      "\r",
      "running experiments:  79%|███████▉  | 79/100 [55:41<14:36, 41.72s/it]"
     ]
    },
    {
     "name": "stderr",
     "output_type": "stream",
     "text": [
      "\r",
      "running experiments:  80%|████████  | 80/100 [56:23<13:57, 41.90s/it]"
     ]
    },
    {
     "name": "stderr",
     "output_type": "stream",
     "text": [
      "\r",
      "running experiments:  81%|████████  | 81/100 [57:05<13:17, 41.99s/it]"
     ]
    },
    {
     "name": "stderr",
     "output_type": "stream",
     "text": [
      "\r",
      "running experiments:  82%|████████▏ | 82/100 [57:47<12:36, 42.03s/it]"
     ]
    },
    {
     "name": "stderr",
     "output_type": "stream",
     "text": [
      "\r",
      "running experiments:  83%|████████▎ | 83/100 [58:31<12:00, 42.38s/it]"
     ]
    },
    {
     "name": "stderr",
     "output_type": "stream",
     "text": [
      "\r",
      "running experiments:  84%|████████▍ | 84/100 [59:13<11:18, 42.42s/it]"
     ]
    },
    {
     "name": "stderr",
     "output_type": "stream",
     "text": [
      "\r",
      "running experiments:  85%|████████▌ | 85/100 [59:55<10:34, 42.29s/it]"
     ]
    },
    {
     "name": "stderr",
     "output_type": "stream",
     "text": [
      "\r",
      "running experiments:  86%|████████▌ | 86/100 [1:00:37<09:51, 42.27s/it]"
     ]
    },
    {
     "name": "stderr",
     "output_type": "stream",
     "text": [
      "\r",
      "running experiments:  87%|████████▋ | 87/100 [1:01:19<09:07, 42.11s/it]"
     ]
    },
    {
     "name": "stderr",
     "output_type": "stream",
     "text": [
      "\r",
      "running experiments:  88%|████████▊ | 88/100 [1:02:01<08:24, 42.00s/it]"
     ]
    },
    {
     "name": "stderr",
     "output_type": "stream",
     "text": [
      "\r",
      "running experiments:  89%|████████▉ | 89/100 [1:02:43<07:41, 41.91s/it]"
     ]
    },
    {
     "name": "stderr",
     "output_type": "stream",
     "text": [
      "\r",
      "running experiments:  90%|█████████ | 90/100 [1:03:26<07:04, 42.47s/it]"
     ]
    },
    {
     "name": "stderr",
     "output_type": "stream",
     "text": [
      "\r",
      "running experiments:  91%|█████████ | 91/100 [1:04:10<06:24, 42.70s/it]"
     ]
    },
    {
     "name": "stderr",
     "output_type": "stream",
     "text": [
      "\r",
      "running experiments:  92%|█████████▏| 92/100 [1:04:52<05:41, 42.64s/it]"
     ]
    },
    {
     "name": "stderr",
     "output_type": "stream",
     "text": [
      "\r",
      "running experiments:  93%|█████████▎| 93/100 [1:05:34<04:57, 42.49s/it]"
     ]
    },
    {
     "name": "stderr",
     "output_type": "stream",
     "text": [
      "\r",
      "running experiments:  94%|█████████▍| 94/100 [1:06:17<04:14, 42.47s/it]"
     ]
    },
    {
     "name": "stderr",
     "output_type": "stream",
     "text": [
      "\r",
      "running experiments:  95%|█████████▌| 95/100 [1:06:59<03:32, 42.40s/it]"
     ]
    },
    {
     "name": "stderr",
     "output_type": "stream",
     "text": [
      "\r",
      "running experiments:  96%|█████████▌| 96/100 [1:07:41<02:49, 42.28s/it]"
     ]
    },
    {
     "name": "stderr",
     "output_type": "stream",
     "text": [
      "\r",
      "running experiments:  97%|█████████▋| 97/100 [1:08:22<02:06, 42.01s/it]"
     ]
    },
    {
     "name": "stderr",
     "output_type": "stream",
     "text": [
      "\r",
      "running experiments:  98%|█████████▊| 98/100 [1:09:03<01:23, 41.71s/it]"
     ]
    },
    {
     "name": "stderr",
     "output_type": "stream",
     "text": [
      "\r",
      "running experiments:  99%|█████████▉| 99/100 [1:09:46<00:41, 41.99s/it]"
     ]
    },
    {
     "name": "stderr",
     "output_type": "stream",
     "text": [
      "\r",
      "running experiments: 100%|██████████| 100/100 [1:10:27<00:00, 41.75s/it]"
     ]
    },
    {
     "name": "stderr",
     "output_type": "stream",
     "text": [
      "\r",
      "running experiments: 100%|██████████| 100/100 [1:10:27<00:00, 42.28s/it]"
     ]
    },
    {
     "name": "stdout",
     "output_type": "stream",
     "text": [
      "CPU times: user 7h 51min 42s, sys: 15.1 s, total: 7h 51min 57s\n",
      "Wall time: 1h 10min 27s\n"
     ]
    },
    {
     "name": "stderr",
     "output_type": "stream",
     "text": [
      "\n"
     ]
    }
   ],
   "source": [
    "\n",
    "%%time\n",
    "simulation.run_simulation(n_experiments, start_n, fit_params,shuffle_rows, pred_params, random_features, \\\n",
    "                          store_in_lists, save_eigenvector, save_hamiltonian, save_accuracy,\\\n",
    "                          save_models)\n",
    "if simulation.fourier_mode is not None:\n",
    "    simulation.fourier_dataframe.head(10)"
   ]
  },
  {
   "cell_type": "code",
   "execution_count": 28,
   "metadata": {
    "execution": {
     "iopub.execute_input": "2020-07-18T07:35:21.133144Z",
     "iopub.status.busy": "2020-07-18T07:35:21.132825Z",
     "iopub.status.idle": "2020-07-18T07:35:21.159403Z",
     "shell.execute_reply": "2020-07-18T07:35:21.159081Z"
    },
    "papermill": {
     "duration": 0.064284,
     "end_time": "2020-07-18T07:35:21.159454",
     "exception": false,
     "start_time": "2020-07-18T07:35:21.095170",
     "status": "completed"
    },
    "tags": []
   },
   "outputs": [
    {
     "data": {
      "text/html": [
       "<div>\n",
       "<style scoped>\n",
       "    .dataframe tbody tr th:only-of-type {\n",
       "        vertical-align: middle;\n",
       "    }\n",
       "\n",
       "    .dataframe tbody tr th {\n",
       "        vertical-align: top;\n",
       "    }\n",
       "\n",
       "    .dataframe thead th {\n",
       "        text-align: right;\n",
       "    }\n",
       "</style>\n",
       "<table border=\"1\" class=\"dataframe\">\n",
       "  <thead>\n",
       "    <tr style=\"text-align: right;\">\n",
       "      <th></th>\n",
       "      <th>id</th>\n",
       "      <th>path</th>\n",
       "      <th>t1</th>\n",
       "      <th>t2</th>\n",
       "      <th>winding</th>\n",
       "      <th>phase</th>\n",
       "      <th>pred_phase</th>\n",
       "      <th>type_of</th>\n",
       "      <th>feat0</th>\n",
       "      <th>feat1</th>\n",
       "      <th>...</th>\n",
       "      <th>feat90</th>\n",
       "      <th>feat91</th>\n",
       "      <th>feat92</th>\n",
       "      <th>feat93</th>\n",
       "      <th>feat94</th>\n",
       "      <th>feat95</th>\n",
       "      <th>feat96</th>\n",
       "      <th>feat97</th>\n",
       "      <th>feat98</th>\n",
       "      <th>feat99</th>\n",
       "    </tr>\n",
       "  </thead>\n",
       "  <tbody>\n",
       "    <tr>\n",
       "      <th>0</th>\n",
       "      <td>0</td>\n",
       "      <td>H_-2_-2_0.501338.dat</td>\n",
       "      <td>-2.0</td>\n",
       "      <td>-2.0</td>\n",
       "      <td>0.501338</td>\n",
       "      <td>999</td>\n",
       "      <td>-1</td>\n",
       "      <td>test</td>\n",
       "      <td>-0.130965</td>\n",
       "      <td>0.301130</td>\n",
       "      <td>...</td>\n",
       "      <td>-0.080279</td>\n",
       "      <td>-0.115687</td>\n",
       "      <td>-0.174988</td>\n",
       "      <td>0.245064</td>\n",
       "      <td>0.319763</td>\n",
       "      <td>-0.059082</td>\n",
       "      <td>-0.000556</td>\n",
       "      <td>-0.245133</td>\n",
       "      <td>-0.301130</td>\n",
       "      <td>0.130965</td>\n",
       "    </tr>\n",
       "    <tr>\n",
       "      <th>1</th>\n",
       "      <td>0</td>\n",
       "      <td>H_-2_-2_0.501338.dat</td>\n",
       "      <td>-2.0</td>\n",
       "      <td>-2.0</td>\n",
       "      <td>0.501338</td>\n",
       "      <td>999</td>\n",
       "      <td>2</td>\n",
       "      <td>test</td>\n",
       "      <td>-0.130965</td>\n",
       "      <td>-0.301130</td>\n",
       "      <td>...</td>\n",
       "      <td>-0.080279</td>\n",
       "      <td>0.115687</td>\n",
       "      <td>-0.174988</td>\n",
       "      <td>-0.245064</td>\n",
       "      <td>0.319763</td>\n",
       "      <td>0.059082</td>\n",
       "      <td>-0.000556</td>\n",
       "      <td>0.245133</td>\n",
       "      <td>-0.301130</td>\n",
       "      <td>-0.130965</td>\n",
       "    </tr>\n",
       "    <tr>\n",
       "      <th>2</th>\n",
       "      <td>0</td>\n",
       "      <td>H_-2_-2_0.501338.dat</td>\n",
       "      <td>-2.0</td>\n",
       "      <td>-2.0</td>\n",
       "      <td>0.501338</td>\n",
       "      <td>999</td>\n",
       "      <td>-1</td>\n",
       "      <td>test</td>\n",
       "      <td>-0.148414</td>\n",
       "      <td>-0.042467</td>\n",
       "      <td>...</td>\n",
       "      <td>0.185442</td>\n",
       "      <td>-0.080620</td>\n",
       "      <td>-0.066211</td>\n",
       "      <td>-0.121339</td>\n",
       "      <td>-0.151700</td>\n",
       "      <td>0.192513</td>\n",
       "      <td>0.191642</td>\n",
       "      <td>-0.050956</td>\n",
       "      <td>-0.042467</td>\n",
       "      <td>-0.148414</td>\n",
       "    </tr>\n",
       "    <tr>\n",
       "      <th>3</th>\n",
       "      <td>0</td>\n",
       "      <td>H_-2_-2_0.501338.dat</td>\n",
       "      <td>-2.0</td>\n",
       "      <td>-2.0</td>\n",
       "      <td>0.501338</td>\n",
       "      <td>999</td>\n",
       "      <td>1</td>\n",
       "      <td>test</td>\n",
       "      <td>-0.069630</td>\n",
       "      <td>-0.026147</td>\n",
       "      <td>...</td>\n",
       "      <td>0.102009</td>\n",
       "      <td>-0.100671</td>\n",
       "      <td>-0.081002</td>\n",
       "      <td>-0.020715</td>\n",
       "      <td>-0.058717</td>\n",
       "      <td>0.115834</td>\n",
       "      <td>0.118274</td>\n",
       "      <td>-0.054666</td>\n",
       "      <td>-0.026147</td>\n",
       "      <td>-0.069630</td>\n",
       "    </tr>\n",
       "    <tr>\n",
       "      <th>4</th>\n",
       "      <td>0</td>\n",
       "      <td>H_-2_-2_0.501338.dat</td>\n",
       "      <td>-2.0</td>\n",
       "      <td>-2.0</td>\n",
       "      <td>0.501338</td>\n",
       "      <td>999</td>\n",
       "      <td>-1</td>\n",
       "      <td>test</td>\n",
       "      <td>0.010206</td>\n",
       "      <td>-0.014625</td>\n",
       "      <td>...</td>\n",
       "      <td>0.047555</td>\n",
       "      <td>-0.041368</td>\n",
       "      <td>-0.018852</td>\n",
       "      <td>-0.017673</td>\n",
       "      <td>-0.023377</td>\n",
       "      <td>0.031447</td>\n",
       "      <td>0.010280</td>\n",
       "      <td>0.000925</td>\n",
       "      <td>0.014625</td>\n",
       "      <td>-0.010206</td>\n",
       "    </tr>\n",
       "    <tr>\n",
       "      <th>5</th>\n",
       "      <td>0</td>\n",
       "      <td>H_-2_-2_0.501338.dat</td>\n",
       "      <td>-2.0</td>\n",
       "      <td>-2.0</td>\n",
       "      <td>0.501338</td>\n",
       "      <td>999</td>\n",
       "      <td>1</td>\n",
       "      <td>test</td>\n",
       "      <td>0.116962</td>\n",
       "      <td>0.021475</td>\n",
       "      <td>...</td>\n",
       "      <td>-0.086901</td>\n",
       "      <td>-0.045676</td>\n",
       "      <td>-0.028034</td>\n",
       "      <td>0.129266</td>\n",
       "      <td>0.130083</td>\n",
       "      <td>-0.098190</td>\n",
       "      <td>-0.104188</td>\n",
       "      <td>-0.007911</td>\n",
       "      <td>0.021475</td>\n",
       "      <td>0.116962</td>\n",
       "    </tr>\n",
       "    <tr>\n",
       "      <th>6</th>\n",
       "      <td>0</td>\n",
       "      <td>H_-2_-2_0.501338.dat</td>\n",
       "      <td>-2.0</td>\n",
       "      <td>-2.0</td>\n",
       "      <td>0.501338</td>\n",
       "      <td>999</td>\n",
       "      <td>-1</td>\n",
       "      <td>test</td>\n",
       "      <td>0.037175</td>\n",
       "      <td>-0.095882</td>\n",
       "      <td>...</td>\n",
       "      <td>-0.027490</td>\n",
       "      <td>0.046168</td>\n",
       "      <td>0.063419</td>\n",
       "      <td>-0.041630</td>\n",
       "      <td>-0.085769</td>\n",
       "      <td>-0.010604</td>\n",
       "      <td>-0.009822</td>\n",
       "      <td>0.084024</td>\n",
       "      <td>0.095882</td>\n",
       "      <td>-0.037175</td>\n",
       "    </tr>\n",
       "    <tr>\n",
       "      <th>7</th>\n",
       "      <td>0</td>\n",
       "      <td>H_-2_-2_0.501338.dat</td>\n",
       "      <td>-2.0</td>\n",
       "      <td>-2.0</td>\n",
       "      <td>0.501338</td>\n",
       "      <td>999</td>\n",
       "      <td>1</td>\n",
       "      <td>test</td>\n",
       "      <td>0.027709</td>\n",
       "      <td>-0.038180</td>\n",
       "      <td>...</td>\n",
       "      <td>0.123344</td>\n",
       "      <td>-0.114320</td>\n",
       "      <td>-0.057118</td>\n",
       "      <td>-0.040291</td>\n",
       "      <td>-0.061263</td>\n",
       "      <td>0.087153</td>\n",
       "      <td>0.029599</td>\n",
       "      <td>-0.001276</td>\n",
       "      <td>0.038180</td>\n",
       "      <td>-0.027709</td>\n",
       "    </tr>\n",
       "    <tr>\n",
       "      <th>8</th>\n",
       "      <td>0</td>\n",
       "      <td>H_-2_-2_0.501338.dat</td>\n",
       "      <td>-2.0</td>\n",
       "      <td>-2.0</td>\n",
       "      <td>0.501338</td>\n",
       "      <td>999</td>\n",
       "      <td>-1</td>\n",
       "      <td>test</td>\n",
       "      <td>0.059795</td>\n",
       "      <td>0.030272</td>\n",
       "      <td>...</td>\n",
       "      <td>-0.082347</td>\n",
       "      <td>0.140996</td>\n",
       "      <td>0.128386</td>\n",
       "      <td>-0.036608</td>\n",
       "      <td>0.029628</td>\n",
       "      <td>-0.124877</td>\n",
       "      <td>-0.140478</td>\n",
       "      <td>0.088573</td>\n",
       "      <td>0.030272</td>\n",
       "      <td>0.059795</td>\n",
       "    </tr>\n",
       "    <tr>\n",
       "      <th>9</th>\n",
       "      <td>0</td>\n",
       "      <td>H_-2_-2_0.501338.dat</td>\n",
       "      <td>-2.0</td>\n",
       "      <td>-2.0</td>\n",
       "      <td>0.501338</td>\n",
       "      <td>999</td>\n",
       "      <td>1</td>\n",
       "      <td>test</td>\n",
       "      <td>0.141605</td>\n",
       "      <td>0.013497</td>\n",
       "      <td>...</td>\n",
       "      <td>-0.035718</td>\n",
       "      <td>-0.110014</td>\n",
       "      <td>-0.082452</td>\n",
       "      <td>0.146084</td>\n",
       "      <td>0.152588</td>\n",
       "      <td>-0.067575</td>\n",
       "      <td>-0.087187</td>\n",
       "      <td>-0.043484</td>\n",
       "      <td>0.013497</td>\n",
       "      <td>0.141605</td>\n",
       "    </tr>\n",
       "  </tbody>\n",
       "</table>\n",
       "<p>10 rows × 108 columns</p>\n",
       "</div>"
      ],
      "text/plain": [
       "   id                  path   t1   t2   winding  phase  pred_phase type_of  \\\n",
       "0   0  H_-2_-2_0.501338.dat -2.0 -2.0  0.501338    999          -1    test   \n",
       "1   0  H_-2_-2_0.501338.dat -2.0 -2.0  0.501338    999           2    test   \n",
       "2   0  H_-2_-2_0.501338.dat -2.0 -2.0  0.501338    999          -1    test   \n",
       "3   0  H_-2_-2_0.501338.dat -2.0 -2.0  0.501338    999           1    test   \n",
       "4   0  H_-2_-2_0.501338.dat -2.0 -2.0  0.501338    999          -1    test   \n",
       "5   0  H_-2_-2_0.501338.dat -2.0 -2.0  0.501338    999           1    test   \n",
       "6   0  H_-2_-2_0.501338.dat -2.0 -2.0  0.501338    999          -1    test   \n",
       "7   0  H_-2_-2_0.501338.dat -2.0 -2.0  0.501338    999           1    test   \n",
       "8   0  H_-2_-2_0.501338.dat -2.0 -2.0  0.501338    999          -1    test   \n",
       "9   0  H_-2_-2_0.501338.dat -2.0 -2.0  0.501338    999           1    test   \n",
       "\n",
       "      feat0     feat1  ...    feat90    feat91    feat92    feat93    feat94  \\\n",
       "0 -0.130965  0.301130  ... -0.080279 -0.115687 -0.174988  0.245064  0.319763   \n",
       "1 -0.130965 -0.301130  ... -0.080279  0.115687 -0.174988 -0.245064  0.319763   \n",
       "2 -0.148414 -0.042467  ...  0.185442 -0.080620 -0.066211 -0.121339 -0.151700   \n",
       "3 -0.069630 -0.026147  ...  0.102009 -0.100671 -0.081002 -0.020715 -0.058717   \n",
       "4  0.010206 -0.014625  ...  0.047555 -0.041368 -0.018852 -0.017673 -0.023377   \n",
       "5  0.116962  0.021475  ... -0.086901 -0.045676 -0.028034  0.129266  0.130083   \n",
       "6  0.037175 -0.095882  ... -0.027490  0.046168  0.063419 -0.041630 -0.085769   \n",
       "7  0.027709 -0.038180  ...  0.123344 -0.114320 -0.057118 -0.040291 -0.061263   \n",
       "8  0.059795  0.030272  ... -0.082347  0.140996  0.128386 -0.036608  0.029628   \n",
       "9  0.141605  0.013497  ... -0.035718 -0.110014 -0.082452  0.146084  0.152588   \n",
       "\n",
       "     feat95    feat96    feat97    feat98    feat99  \n",
       "0 -0.059082 -0.000556 -0.245133 -0.301130  0.130965  \n",
       "1  0.059082 -0.000556  0.245133 -0.301130 -0.130965  \n",
       "2  0.192513  0.191642 -0.050956 -0.042467 -0.148414  \n",
       "3  0.115834  0.118274 -0.054666 -0.026147 -0.069630  \n",
       "4  0.031447  0.010280  0.000925  0.014625 -0.010206  \n",
       "5 -0.098190 -0.104188 -0.007911  0.021475  0.116962  \n",
       "6 -0.010604 -0.009822  0.084024  0.095882 -0.037175  \n",
       "7  0.087153  0.029599 -0.001276  0.038180 -0.027709  \n",
       "8 -0.124877 -0.140478  0.088573  0.030272  0.059795  \n",
       "9 -0.067575 -0.087187 -0.043484  0.013497  0.141605  \n",
       "\n",
       "[10 rows x 108 columns]"
      ]
     },
     "execution_count": 28,
     "metadata": {},
     "output_type": "execute_result"
    }
   ],
   "source": [
    "simulation.dataframe.head(10)"
   ]
  },
  {
   "cell_type": "markdown",
   "metadata": {
    "papermill": {
     "duration": 0.037638,
     "end_time": "2020-07-18T07:35:21.233568",
     "exception": false,
     "start_time": "2020-07-18T07:35:21.195930",
     "status": "completed"
    },
    "tags": []
   },
   "source": [
    "#### Viewing a random sample"
   ]
  },
  {
   "cell_type": "code",
   "execution_count": 29,
   "metadata": {
    "execution": {
     "iopub.execute_input": "2020-07-18T07:35:21.306198Z",
     "iopub.status.busy": "2020-07-18T07:35:21.305888Z",
     "iopub.status.idle": "2020-07-18T07:35:21.316204Z",
     "shell.execute_reply": "2020-07-18T07:35:21.315935Z"
    },
    "papermill": {
     "duration": 0.047493,
     "end_time": "2020-07-18T07:35:21.316256",
     "exception": false,
     "start_time": "2020-07-18T07:35:21.268763",
     "status": "completed"
    },
    "tags": []
   },
   "outputs": [
    {
     "name": "stdout",
     "output_type": "stream",
     "text": [
      "CPU times: user 2 µs, sys: 0 ns, total: 2 µs\n",
      "Wall time: 3.81 µs\n"
     ]
    }
   ],
   "source": [
    "%%time\n",
    "if simulation.fourier_mode is not None:\n",
    "    simulation.fourier_dataframe.sample(frac=0.1, replace=False)"
   ]
  },
  {
   "cell_type": "markdown",
   "metadata": {
    "papermill": {
     "duration": 0.037902,
     "end_time": "2020-07-18T07:35:21.390276",
     "exception": false,
     "start_time": "2020-07-18T07:35:21.352374",
     "status": "completed"
    },
    "tags": []
   },
   "source": [
    "#### Checking train/val/test splits again"
   ]
  },
  {
   "cell_type": "code",
   "execution_count": 30,
   "metadata": {
    "execution": {
     "iopub.execute_input": "2020-07-18T07:35:21.463318Z",
     "iopub.status.busy": "2020-07-18T07:35:21.462995Z",
     "iopub.status.idle": "2020-07-18T07:35:21.650794Z",
     "shell.execute_reply": "2020-07-18T07:35:21.651049Z"
    },
    "papermill": {
     "duration": 0.225515,
     "end_time": "2020-07-18T07:35:21.651117",
     "exception": false,
     "start_time": "2020-07-18T07:35:21.425602",
     "status": "completed"
    },
    "tags": []
   },
   "outputs": [
    {
     "name": "stdout",
     "output_type": "stream",
     "text": [
      "% train:  0.4208199969516842\n",
      "% val:  0.42066758116140834\n",
      "% test:  0.15851242188690748\n",
      "% train + val + test:  1.0\n",
      "\n",
      "\n",
      "number of train hamiltonians:  2761\n",
      "number of val hamiltonians:  2760\n",
      "number of test hamiltonians:  1040\n",
      "total number of hamiltonians:  6561\n",
      "\n",
      "\n",
      "train ids:  [2061, 1876, 2254, 4956, 2448, 6551, 6537, 5765, 5263, 5513, 4305, 2242, 6455, 4238, 2676, 1683, 4605, 1922, 2711, 3873, 471, 4653, 4373, 373, 1029, 5562, 2080, 237, 2845, 4009, 934, 4799, 5124, 6088, 3523, 4596, 5803, 714, 5287, 1670, 5473, 6248, 2019, 1161, 521, 400, 403, 525, 2712, 1682, 3076, 1788, 6447, 3639, 2275, 3529, 6268, 3630, 3532, 2243, 5718, 2157, 5185, 2015, 2081, 2937, 3686, 376, 5187, 36, 6466, 830, 3136, 2863, 1017, 5267, 5299, 2562, 4201, 2334, 3384, 1772, 2721, 4884, 3128, 2355, 6542, 1043, 3047, 4443, 5608, 2182, 6350, 4623, 484, 3817, 4632, 761, 5884, 3675, 4448, 2259, 4505, 2176, 5421, 2818, 5224, 4330, 1912, 4003, 309, 1336, 3804, 3993, 2654, 513, 1344, 1096, 5545, 208, 5021, 2419, 3735, 5092, 6167, 842, 3228, 1599, 533, 4028, 2245, 2285, 2644, 1041, 2519, 773, 1525, 2388, 1920, 4584, 2023, 3484, 1158, 6302, 3243, 2398, 4949, 2723, 387, 3208, 2146, 362, 5481, 795, 3890, 6341, 6060, 5406, 1625, 6301, 4046, 6196, 4040, 3187, 4078, 4382, 857, 53, 5807, 6383, 916, 3130, 4025, 117, 4741, 6465, 3264, 1252, 6161, 4577, 5194, 5436, 4169, 1924, 1084, 5693, 5846, 1183, 4052, 5306, 2960, 4822, 1322, 3227, 6525, 4296, 5294, 365, 2408, 3550, 4897, 2028, 5045, 1850, 3693, 4611, 4242, 6105, 4413, 5107, 3997, 2880, 1376, 3856, 702, 4545, 2361, 206, 5859, 1923, 5393, 5965, 2772, 19, 3911, 323, 5763, 4191, 5886, 193, 3288, 3259, 3900, 3714, 4075, 5318, 2944, 6425, 3336, 6416, 6026, 4179, 134, 4769, 2172, 3864, 367, 145, 4331, 6384, 1708, 4426, 3235, 4524, 998, 6481, 3073, 996, 4733, 4087, 4423, 101, 6291, 4821, 5174, 1121, 565, 3370, 4035, 5403, 1037, 846, 3307, 4311, 4438, 3703, 2060, 2107, 3292, 2852, 143, 4541, 1989, 2143, 2563, 2832, 598, 1595, 310, 3959, 4167, 5238, 1493, 5293, 3074, 428, 1994, 5210, 5074, 4187, 1255, 2566, 6432, 1859, 431, 1703, 2961, 1110, 5361, 3884, 3932, 6327, 5196, 534, 632, 3414, 402, 5786, 109, 2288, 3449, 4898, 3041, 5916, 5079, 1191, 4270, 4252, 1216, 4274, 4062, 4088, 5151, 751, 5607, 2683, 3285, 2602, 1271, 5458, 5551, 4043, 5211, 617, 4451, 79, 3688, 5601, 3944, 947, 2389, 1419, 5832, 6459, 3565, 4532, 2853, 2892, 6187, 2526, 4804, 878, 4316, 4858, 2321, 2578, 3836, 5638, 3533, 4607, 3701, 5998, 5126, 3712, 233, 764, 619, 2145, 4564, 4139, 1792, 968, 2926, 5758, 563, 282, 5702, 436, 3468, 2064, 1606, 1909, 6134, 6480, 4551, 1184, 1050, 4409, 6263, 3729, 157, 4024, 2123, 4123, 2812, 2196, 6445, 2933, 6036, 5360, 791, 4240, 3439, 3015, 3610, 4699, 3466, 207, 3896, 5200, 5797, 1677, 4061, 3791, 1622, 1324, 5994, 4038, 5509, 2186, 1875, 4449, 5479, 2489, 3545, 4398, 2322, 804, 2736, 3020, 6137, 4083, 4785, 5724, 2598, 3950, 4554, 154, 2634, 3783, 6052, 1364, 1013, 5047, 2114, 2441, 3660, 456, 5754, 4370, 3505, 3180, 3569, 6544, 3597, 1925, 3377, 3678, 3568, 4696, 4864, 1733, 5109, 3862, 5970, 595, 6497, 2940, 2198, 3796, 1692, 2774, 2565, 4749, 3939, 2854, 5625, 383, 4530, 3045, 2467, 620, 2493, 155, 5769, 3205, 6206, 2858, 562, 2744, 6086, 4845, 2345, 3170, 6386, 4961, 1628, 923, 4503, 1263, 6024, 6403, 5521, 6273, 865, 5814, 5386, 25, 6299, 4650, 700, 3609, 2089, 3209, 2741, 1129, 6258, 3058, 2891, 4077, 799, 4744, 449, 548, 5876, 270, 3012, 6286, 3773, 3857, 5564, 6406, 3393, 6108, 5447, 198, 77, 1706, 3879, 6427, 2674, 3593, 3063, 1406, 5307, 956, 6450, 3005, 3906, 4609, 341, 5462, 1927, 4723, 3691, 1239, 699, 5519, 4380, 1685, 3239, 2109, 1257, 1840, 1592, 2330, 2530, 3727, 283, 5592, 1076, 5853, 3811, 5182, 2632, 862, 4732, 4064, 5071, 2838, 1737, 2911, 943, 4301, 4969, 5215, 4666, 5278, 3536, 2283, 2974, 1329, 3364, 5026, 1710, 3835, 1999, 3958, 3461, 4203, 536, 3062, 1194, 1679, 3747, 1993, 4704, 1460, 6550, 4644, 4108, 2250, 4389, 5918, 5312, 5459, 2187, 2465, 152, 3290, 5023, 5484, 2406, 4989, 2494, 603, 1249, 3193, 6326, 1657, 3601, 3043, 3916, 6534, 1741, 522, 543, 2017, 3109, 3839, 3925, 4873, 5925, 5184, 960, 3795, 6120, 4855, 2769, 4911, 5694, 3596, 3101, 1432, 5188, 3633, 6032, 1496, 3762, 1348, 4407, 1439, 5388, 3656, 4076, 4885, 5476, 2510, 4789, 4385, 1168, 2315, 1118, 5216, 5764, 1749, 4714, 4357, 3121, 694, 2647, 4721, 6489, 551, 517, 73, 3133, 2816, 3398, 6538, 1871, 5566, 705, 6195, 3373, 1694, 112, 3819, 4950, 2449, 2525, 2496, 2349, 4476, 3599, 1019, 131, 3702, 5073, 3448, 3537, 1373, 2486, 1917, 2696, 6536, 3322, 1286, 1579, 1811, 390, 4709, 3301, 2346, 355, 4293, 2671, 204, 5974, 3039, 5474, 4421, 2982, 3844, 624, 5301, 5725, 5279, 3241, 1454, 2068, 138, 5878, 2031, 1187, 447, 3329, 4970, 4459, 3983, 1177, 5137, 931, 5919, 2862, 622, 6360, 762, 2105, 375, 297, 4074, 106, 3071, 4857, 800, 5353, 3929, 3869, 2689, 2585, 3828, 2551, 5651, 6242, 5689, 3786, 4661, 4589, 4222, 6040, 4128, 3098, 6031, 3956, 272, 3479, 2331, 5052, 6001, 3994, 6374, 71, 6382, 6296, 2614, 1126, 3225, 5320, 555, 5122, 5152, 4977, 5731, 2409, 5616, 4906, 2716, 2483, 3432, 644, 4488, 1434, 4013, 4215, 146, 4834, 5515, 481, 1448, 2092, 5235, 727, 6321, 559, 2986, 5285, 4080, 3339, 6186, 1874, 2752, 1368, 195, 1837, 4323, 2429, 5448, 704, 3134, 3784, 5486, 4507, 3588, 5802, 884, 5612, 5942, 3086, 4134, 2610, 5522, 3922, 4888, 2248, 4453, 6037, 2168, 3744, 5043, 4572, 3861, 2685, 3017, 671, 3054, 1609, 2318, 3969, 838, 6239, 5347, 1268, 4250, 5771, 6059, 2122, 3310, 4281, 1204, 1412, 5596, 3219, 1193, 1166, 717, 4891, 3548, 2447, 4193, 1814, 4830, 1203, 5815, 5958, 4280, 1519, 6372, 5066, 5112, 6514, 3383, 5266, 2226, 6106, 5690, 2941, 4375, 1729, 625, 1250, 1616, 2638, 868, 4419, 1775, 2343, 3044, 1916, 4063, 4400, 2528, 4806, 1676, 5207, 5198, 2169, 2677, 687, 395, 637, 6274, 5532, 5116, 6171, 5465, 5920, 2320, 3739, 2413, 3382, 5635, 1998, 5190, 1323, 1342, 57, 4131, 5809, 3542, 4395, 6210, 5549, 136, 3753, 725, 610, 3681, 2889, 4192, 5487, 2478, 5110, 549, 2694, 2411, 3253, 6413, 3404, 6463, 6112, 3924, 4236, 1052, 1785, 4130, 2828, 1447, 1545, 1830, 234, 5035, 6517, 4713, 4433, 2422, 4261, 1612, 3299, 2026, 5595, 4289, 5115, 5370, 3954, 3774, 2097, 709, 6285, 3236, 2074, 5435, 6224, 3493, 5226, 608, 4814, 359, 2929, 1906, 6016, 1992, 2631, 6370, 4383, 4971, 188, 1672, 1514, 4045, 3638, 6054, 4408, 4237, 5368, 3298, 3782, 3016, 318, 5078, 4175, 3552, 1765, 3583, 3212, 4034, 1374, 6437, 5143, 5365, 1849, 6485, 4909, 3087, 2735, 5186, 1289, 1593, 3631, 1420, 3764, 3252, 3943, 641, 4941, 2095, 523, 3719, 779, 6041, 4867, 634, 3723, 2998, 232, 1740, 2664, 3539, 2884, 2093, 1034, 2221, 5236, 5394, 4472, 3853, 5212, 5977, 616, 4371, 2118, 6412, 3223, 5705, 5622, 5938, 5713, 2246, 2370, 102, 936, 2797, 18, 613, 3617, 5772, 3717, 4402, 4032, 5707, 2065, 5046, 4498, 1702, 4695, 3557, 5798, 5924, 3824, 4220, 3346, 2895, 2724, 1771, 3108, 3662, 6508, 4112, 4465, 6507, 5131, 4343, 5204, 4578, 1010, 2714, 535, 4310, 2653, 6140, 4563, 6293, 4376, 1380, 1410, 4720, 6159, 3022, 372, 58, 1853, 3649, 4817, 4868, 3785, 515, 6136, 1122, 4479, 4234, 4645, 4098, 1200, 638, 4861, 5641, 3435, 3396, 6028, 3215, 3413, 2875, 4992, 1109, 6371, 3486, 1190, 4688, 6492, 3287, 4125, 1253, 3891, 6043, 3446, 4093, 3726, 1847, 5445, 3242, 1686, 455, 560, 3316, 2919, 4360, 2308, 692, 4312, 5449, 1098, 5558, 2161, 6172, 239, 4321, 2393, 4247, 5701, 5934, 4780, 6010, 2257, 1501, 3286, 6527, 3676, 2517, 5433, 5676, 1611, 4079, 2184, 6295, 3314, 3352, 1003, 4619, 4455, 6347, 4548, 2665, 2855, 2973, 3843, 5568, 2154, 3981, 5323, 1762, 3077, 3587, 1651, 2442, 1212, 1260, 4501, 1574, 2568, 1546, 6407, 4117, 2403, 4216, 3425, 6221, 921, 3175, 479, 5369, 673, 4521, 4975, 4618, 6111, 5357, 6304, 4414, 4152, 4816, 3518, 919, 4617, 386, 267, 3349, 2992, 3520, 1157, 1857, 3165, 5469, 3135, 129, 3964, 3904, 3698, 2170, 3211, 718, 5633, 3177, 2083, 2412, 3666, 4390, 3038, 3201, 4170, 4186, 1159, 1655, 1567, 2223, 5195, 6272, 5709, 752, 882, 2264, 4174, 3231, 3107, 4002, 100, 4887, 6110, 3442, 394, 2357, 350, 850, 1899, 1444, 944, 2905, 4042, 2956, 3741, 4862, 3394, 6513, 3830, 3809, 2112, 4766, 712, 3823, 5201, 5149, 3710, 1459, 3313, 6177, 6381, 1202, 2241, 2326, 4271, 3437, 6467, 4765, 6262, 4314, 3040, 3978, 6127, 6444, 4177, 3521, 103, 5586, 2881, 230, 2502, 4602, 834, 2837, 2327, 4417, 5286, 5510, 6163, 3825, 4876, 2657, 2344, 2140, 1489, 2924, 1210, 4533, 3752, 1668, 3487, 870, 123, 6446, 1752, 5726, 612, 2860, 4614, 3144, 961, 5041, 1484, 3021, 2917, 4482, 1349, 5183, 5645, 5302, 2193, 1254, 5750, 3387, 4639, 4369, 1954, 5015, 4486, 150, 2608, 4196, 2777, 3961, 3344, 2738, 2963, 3173, 4141, 1113, 3682, 312, 228, 1338, 2958, 2369, 2955, 6114, 6241, 2927, 3573, 1428, 5613, 774, 2492, 1199, 708, 864, 5969, 5842, 4763, 3350, 929, 4573, 3334, 4456, 2567, 6019, 5364, 5132, 4109, 5311, 6279, 6526, 2915, 6176, 2807, 2177, 4729, 4603, 4485, 4640, 2268, 5374, 932, 2661, 590, 3556, 4454, 4559, 3106, 2417, 3946, 3724, 5064, 4030, 5567, 2158, 2756, 1266, 3590, 3972, 2639, 3499, 6460, 1363, 4552, 3303, 6261, 2931, 4336, 3652, 5228, 5756, 540, 238, 4351, 2856, 3424, 4049, 5896, 3708, 303, 5471, 3418, 6197, 1012, 4379, 28, 3745, 5546, 3186, 4086, 1275, 788, 952, 5203, 2225, 5239, 3169, 1085, 2488, 5703, 3579, 3152, 6083, 3640, 527, 1201, 3467, 1653, 2148, 2204, 5517, 2314, 457, 5897, 3064, 1211, 4746, 6338, 6365, 1844, 4211, 2350, 6449, 2996, 1921, 1690, 5468, 353, 1371, 2473, 1979, 2499, 3977, 1022, 1025, 3153, 4496, 4089, 2907, 1347, 3637, 3524, 3042, 3506, 1128, 2601, 6055, 5339, 667, 3578, 2066, 3412, 2453, 1441, 2590, 1214, 4710, 4847, 1134, 384, 6135, 2989, 1596, 3647, 3433, 3112, 1515, 5256, 5604, 60, 2418, 707, 2034, 3462, 1938, 4871, 2527, 2335, 1422, 3754, 1507, 5010, 2759, 140, 1781, 5850, 4586, 5324, 3553, 38, 1175, 5996, 1767, 4188, 4475, 3122, 6377, 5729, 2630, 5929, 3571, 5636, 564, 5937, 3920, 3980, 4937, 5269, 4132, 5833, 452, 377, 4908, 3970, 796, 6183, 4228, 3102, 6385, 1008, 3145, 554, 461, 4120, 1527, 2171, 1524, 2734, 4797, 3749, 1405, 2594, 6366, 6319, 1624, 3124, 3642, 3164, 1130, 2075, 3999, 4796, 3563, 3694, 6454, 3554, 1243, 1209, 2427, 1103, 5836, 771, 6006, 4342, 4104, 3327, 1936, 5877, 3337, 3822, 3876, 5383, 1594, 2971, 3705, 1365, 6297, 4850, 4536, 2633, 758, 6548, 1352, 3093, 2591, 5717, 5792, 3154, 1049, 5630, 3657, 5779, 2806, 2687, 5997, 1169, 5527, 4935, 3119, 3189, 6359, 5966, 2237, 4747, 4067, 5685, 538, 794, 1132, 1039, 273, 5941, 1499, 6303, 2984, 2529, 5553, 4282, 241, 809, 4767, 6418, 6271, 5960, 3345, 105, 2155, 4587, 5456, 5895, 5618, 1516, 1684, 5720, 5959, 315, 529, 5518, 6160, 5784, 2342, 2491, 1987, 3440, 4728, 5018, 3078, 4372, 4412, 3317, 1751, 2553, 4691, 4204, 1621, 4147, 1529, 4214, 3156, 806, 780, 3628, 6077, 3001, 1732, 6523, 1895, 5719, 4259, 4931, 1192, 2445, 3934, 1026, 4982, 1042, 3807, 2117, 926, 5097, 3841, 5040, 3803, 4895, 1736, 4544, 6004, 3930, 4944, 2239, 2307, 185, 6543, 3585, 1244, 3758, 6018, 1416, 1761, 4631, 4111, 5863, 805, 2629, 289, 1863, 4655, 1372, 3338, 4526, 1462, 229, 5430, 5193, 5838, 3576, 3975, 3496, 1430, 3291, 5642, 6266, 5177, 1170, 5698, 1598, 4442, 5767, 2512, 3003, 69, 6305, 1980, 4332, 2199, 316, 4148, 2352, 5675, 369, 4983, 775, 3082, 4825, 1361, 3763, 5400, 3025, 6409, 1569, 6415, 4558, 2581, 1356, 5708, 5851, 6101, 366, 965, 1445, 6129, 777, 6528, 3248, 1375, 6336, 396, 3224, 6011, 2505, 5325, 3602, 4981, 5844, 3775, 599, 2922, 2969, 5440, 690, 3192, 5049, 1824, 2231, 4996, 1763, 2386, 6113, 4801, 1273, 4468, 2284, 6462, 2552, 1743, 451, 4907, 4875, 6355, 3191, 235, 6238, 596, 3903, 3664, 1413, 6486, 2497, 6194, 3756, 3992, 161, 532, 1848, 6346, 4534, 768, 1433, 5552, 3311, 5544, 5103, 2903, 621, 181, 1900, 5104, 5926, 546, 2964, 2516, 2084, 1162, 5870, 1421, 2988, 463, 4994, 5446, 2111, 4659, 677, 2883, 5261, 3489, 782, 5017, 2906, 1704, 3084, 3176, 3503, 178, 1522, 1680, 290, 3967, 4495, 5314, 2695, 4127, 6368, 3580, 1901, 3570, 1345, 364, 4856, 5526, 4320, 4126, 2800, 5915, 6207, 2966, 3430, 2035, 3067, 2282, 674, 5189, 4772, 4349, 2583, 16, 476, 5629, 1123, 1577, 1689, 2981, 1173, 187, 5155, 1491, 305, 6300, 4425, 2637, 4185, 5504, 5843, 879, 1031, 4163, 4831, 5120, 4202, 3769, 6158, 4671, 3531, 5858, 3088, 4307, 1701, 5119, 6237, 3768, 1346, 633, 2057, 5482, 4155, 6002, 5262, 6102, 6379, 5649, 3887, 860, 6056, 1247, 2993, 2813, 3663, 1933, 6322, 2390, 6349, 2979, 6029, 545, 5631, 1542, 5626, 3395, 291, 6078, 3480, 285, 3214, 5753, 1861, 114, 4225, 4966, 4583, 14, 2745, 6117, 5590, 914, 4300, 5948, 6524, 3832, 4636, 62, 4306, 2202, 5961, 6103, 4435, 1360, 1174, 3013, 5432, 6255, 2675, 4090, 3274, 5589, 357, 3915, 4050, 462, 1099, 1759, 3111, 1277, 480, 2733, 2771, 5423, 3508, 3210, 1423, 1956, 2823, 6469, 4853, 2997, 6034, 5529, 3465, 2263, 4549, 2652, 2768, 149, 3476, 2757, 2550, 219, 278, 4406, 346, 1868, 3141, 3123, 3006, 3390, 3849, 4954, 4826, 3778, 3272, 445, 2424, 6417, 5348, 5391, 5180, 706, 1288, 3069, 3776, 3805, 3095, 1490, 5280, 514, 5291, 4535, 5862, 5048, 4915, 6091, 3615, 477, 3174, 4096, 863, 6025, 1784, 1451, 1958, 3502, 3515, 3750, 1976, 4987, 3659, 5673, 1009, 2667, 2795, 4783, 3960, 6419, 260, 370, 4560, 6092, 5598, 2673, 4287, 5534, 2232, 2670, 4793, 2341, 5848, 3472, 5761, 697, 4294, 3801, 1456, 4846, 4686, 3237, 2439, 2385, 1030, 435, 2151, 3644, 4967, 3591, 1846, 1340, 3159, 783, 4668, 3912, 4517, 2577, 5452, 2443, 4231, 918, 5352, 4635, 2098, 757, 591, 184, 4151, 786, 1172, 1738, 2719, 482, 6490, 3742, 1353, 1264, 321, 1102, 2007, 3519, 1280, 6325, 4462, 6361, 6008, 4566, 2732, 2265, 915, 5913, 1768, 425, 4787, 3870, 293, 3646, 5677, 5304, 1782, 478, 2163, 728, 5050, 159, 3907, 182, 4122, 2597, 4555, 6439, 1648, 4869, 3238, 948, 4467, 5044, 3463, 2650, 1926, 2010, 5600, 1681, 3422, 4029, 3595, 2069, 4478, 5755, 1898, 1418, 4629, 6362, 5854, 242, 6342, 1911, 2576, 883, 6428, 1951, 917, 5218, 5096, 957, 2277, 3295, 98, 485, 3722, 5639, 5181, 5099, 4457, 6515, 5978, 5146, 3889, 1248, 3963, 5051, 5964, 4702, 2312, 2058, 4543, 286, 5020, 4047, 1585, 2466, 3704, 6244, 6168, 4392, 1504, 5338, 1739, 1378, 6203, 4960, 3998, 3340, 6436, 5315, 3283, 2138, 3504, 6426, 642, 3665, 6243, 2737, 3574, 853, 3834, 1292, 3566, 1081, 6254, 3306, 39, 4424, 3846, 5057, 4150, 15, 6209, 2904, 2913, 4199, 4621, 539, 4612, 2160, 5560, 142, 4440, 5857, 4764, 5722, 23, 3760, 4874, 3707, 3072, 4979, 6012, 4669, 3874, 5512, 5505, 753, 3838, 5072, 122, 754, 785, 607, 3629, 1455, 4065, 2994, 3473, 6249, 2796, 4361, 2836, 5284, 841, 3522, 3276, 4905, 6164, 5037, 999, 686, 5272, 1586, 3814, 6208, 4354, 3827, 141, 6434, 180, 4477, 2255, 4784, 3348, 2571, 3589, 3527, 3258, 6532, 2584, 3137, 4939, 3818, 2662, 1077, 4116, 6506, 2686, 3842, 3185, 153, 3269, 4210, 5121, 2573, 1294, 2945, 3683, 623, 76, 2485, 3497, 5367, 1742, 4725, 4802, 5733, 710, 6213, 5453, 4272, 6363, 3793, 6380, 3743, 5610, 6119, 5892, 5309, 3127, 3026, 2192, 5102, 4249, 1614, 61, 2025, 3455, 2798, 969, 3019, 439, 2843, 6337, 1990, 5341, 2885, 2801, 5101, 3650, 3341, 2558, 1426, 5799, 3245, 67, 4567, 45, 5563, 5322, 20, 209, 1570, 1014, 4146, 3549, 1091, 6133, 2094, 2758, 6501, 1213, 6178, 5387, 2509, 43, 1533, 6259, 1777, 4288, 1325, 4119, 5778, 5947, 1004, 994, 3055, 1845, 1568, 3410, 2691, 4811, 1246, 601, 5643, 5467, 3751, 5062, 3332, 190, 5470, 5288, 3389, 3151, 472, 3737, 5793, 2896, 2366, 1523, 4156, 6493, 344, 5424, 1526, 2082, 3687, 4327, 3941, 1575, 2468, 6049, 2224, 5053, 1776, 3988, 2270, 3669, 547, 3848, 5891, 2779, 262, 4947, 475, 6205, 2557, 2220, 2477, 2645, 1578, 6282, 110, 2663, 4158, 2228, 2569, 681, 6549, 4404, 3923, 5205, 4569, 1656, 1832, 3365, 2021, 2946, 5697, 4527, 179, 5281, 4537, 6464, 5396, 2715, 5358, 4525, 5691, 1464, 5359, 5721, 224, 4711, 3251, 4480, 1858, 6201, 5770, 6468, 6520, 389, 4863, 3217, 31, 1265, 2669, 6352, 5648, 3105, 1893, 1873, 271, 4788, 2024, 1461, 47, 995, 382, 6189, 4072, 933, 4791, 1731, 507, 1262, 5128, 4466, 4581, 192, 1133, 51, 5933, 4304, 1818, 4135, 5382, 5259, 6116, 2728, 2272, 550, 2607, 1941, 1370, 1589, 3266, 4140, 3858, 1894, 483, 5796, 4447, 4284, 2394, 4786, 5349, 4154, 6075, 5455, 6039, 5615, 5696, 3850, 1855, 4352, 4338, 263, 2861, 4386, 5602, 2056, 1978, 2306, 1734, 2269, 2144, 5597, 2727, 3651, 2229, 2821, 3886, 1903, 2628, 4904, 4679, 4103, 3083, 1934, 5127, 319, 5834, 1790, 3546, 3325, 3938, 5032, 1270, 42, 6443, 130, 1711, 6132, 3454, 4105, 3163, 5774, 792, 5241, 4610, 4571, 4683, 4547, 5789, 2999, 4200, 201, 6044, 5217, 5968, 3037, 5282, 6358, 4652, 2887]\n",
      "val ids:  [236, 5976, 3995, 4441, 6378, 6058, 4872, 5345, 2753, 1182, 5429, 506, 4522, 1503, 4008, 5398, 1576, 1996, 380, 1608, 4651, 4239, 1687, 6253, 307, 4165, 3761, 636, 30, 2470, 5971, 801, 2236, 4081, 5025, 2579, 4066, 3833, 5882, 749, 5135, 4647, 4731, 4001, 6191, 2534, 4262, 2078, 6199, 4092, 5379, 1245, 790, 6099, 4010, 5240, 2278, 1619, 858, 4356, 3234, 3867, 5511, 2684, 2646, 5271, 1750, 2898, 3010, 5206, 5014, 4942, 4879, 2649, 4004, 3968, 2036, 3908, 755, 429, 953, 4761, 1267, 698, 1769, 5801, 5117, 3103, 3273, 4546, 4832, 302, 2009, 6014, 4958, 2659, 5883, 4279, 3190, 2765, 2304, 2957, 3530, 52, 6082, 6387, 6284, 4634, 6277, 176, 1852, 4144, 6217, 2071, 3725, 4882, 1127, 2850, 1045, 3065, 2651, 5533, 5264, 3333, 2013, 2253, 4474, 3551, 5599, 4168, 424, 5951, 3927, 3056, 3800, 3514, 3392, 640, 2423, 279, 4257, 5371, 793, 6115, 5265, 3129, 454, 3878, 519, 5209, 4350, 1600, 5917, 4771, 1442, 4514, 3308, 683, 4745, 4377, 1196, 5377, 66, 5543, 5257, 4068, 4952, 5637, 1534, 4782, 541, 3070, 1440, 5342, 259, 852, 6123, 2252, 1591, 1833, 4538, 1089, 3899, 6488, 2016, 1171, 29, 6487, 6435, 202, 5232, 3547, 508, 294, 5845, 78, 1908, 3081, 889, 2006, 4324, 3008, 6539, 5258, 5292, 433, 5852, 1705, 5242, 1573, 4494, 1033, 1453, 770, 1947, 3027, 6356, 5732, 6292, 3409, 3679, 2059, 49, 5028, 588, 3734, 213, 1436, 2839, 2181, 589, 4484, 64, 4810, 4752, 13, 5485, 301, 5730, 6410, 4037, 5931, 2347, 4176, 5093, 1950, 5868, 3161, 1584, 1539, 1256, 470, 21, 1326, 4852, 314, 6344, 927, 35, 1040, 2201, 3355, 4113, 5054, 2261, 3324, 4027, 2249, 1536, 3494, 781, 3982, 5914, 4189, 4450, 5956, 4938, 3471, 2086, 6118, 2921, 6343, 3684, 2587, 4094, 1512, 516, 1541, 585, 3582, 605, 448, 1095, 3079, 6188, 5141, 4368, 797, 430, 2090, 4860, 3482, 4153, 4808, 3399, 4649, 2150, 1088, 5444, 2067, 6212, 5008, 5507, 3951, 3713, 3709, 4363, 6085, 1001, 558, 5442, 5022, 5537, 2396, 240, 1854, 6251, 6038, 5650, 1032, 668, 2909, 5855, 2935, 4896, 869, 4515, 3155, 2514, 6533, 3138, 3343, 2310, 6288, 941, 3598, 4770, 3605, 5384, 3740, 5402, 3559, 2809, 6219, 5488, 5276, 1107, 2720, 5627, 2890, 4927, 5178, 6076, 5841, 300, 695, 1659, 3147, 5775, 4701, 197, 1826, 631, 1697, 556, 1023, 5949, 317, 693, 3011, 5804, 4540, 2943, 1779, 2606, 5145, 2515, 3788, 2436, 4630, 3376, 299, 3277, 720, 2688, 3926, 5585, 3799, 5199, 1505, 4137, 504, 5856, 544, 5554, 2976, 1820, 2942, 5219, 2503, 3260, 2874, 2641, 510, 3528, 295, 5454, 5208, 292, 2792, 3695, 2817, 5678, 3512, 5634, 2593, 526, 1411, 688, 1015, 298, 647, 3990, 1111, 1367, 2110, 676, 2384, 4570, 803, 99, 602, 630, 1944, 2748, 5555, 689, 4562, 4553, 2747, 1675, 2426, 288, 5768, 5142, 1117, 6057, 3149, 1332, 3381, 2205, 3560, 4136, 6289, 2018, 358, 5399, 1369, 2262, 5794, 5963, 566, 3411, 3759, 1093, 3696, 4298, 3142, 1953, 5350, 1914, 4718, 3716, 6518, 3845, 939, 4878, 3989, 4256, 1299, 148, 6181, 2358, 4579, 4194, 1082, 4945, 3469, 3616, 2518, 3009, 2230, 3441, 1279, 5231, 5077, 6422, 5683, 128, 2039, 2446, 4880, 6257, 4664, 1597, 5881, 5100, 3674, 4353, 5039, 5439, 1982, 2642, 5106, 144, 3789, 5176, 6182, 3359, 3594, 4565, 5791, 6003, 711, 3029, 6504, 4899, 4964, 2030, 467, 875, 3457, 2203, 5012, 845, 1078, 5223, 5144, 4953, 2256, 3312, 5516, 1605, 6375, 4437, 3910, 6048, 2142, 3415, 954, 2751, 5283, 4184, 5875, 3207, 2444, 4706, 6287, 3450, 3962, 586, 5593, 5118, 1355, 4936, 5674, 6494, 2780, 5483, 4768, 1696, 4781, 2400, 426, 4641, 4737, 2159, 6351, 1946, 4865, 2912, 2062, 2266, 2648, 4031, 3262, 1497, 5197, 1748, 5536, 5477, 2914, 5671, 5472, 1948, 32, 2755, 1872, 466, 606, 6498, 3815, 1100, 4638, 3534, 6240, 3302, 2287, 6079, 1864, 4774, 4680, 6546, 3840, 1463, 5727, 3974, 922, 4597, 1276, 2303, 2826, 3670, 5945, 3942, 3794, 807, 4717, 6280, 1588, 2332, 4531, 4985, 2743, 3143, 453, 2882, 542, 4692, 24, 2274, 1115, 3586, 5108, 3167, 183, 3092, 6364, 63, 5148, 2011, 3321, 1623, 5154, 3918, 2482, 1601, 5684, 1195, 776, 5173, 5539, 3877, 1957, 1343, 356, 4022, 3401, 3431, 3284, 5644, 264, 2668, 2414, 2803, 3511, 5874, 4172, 2959, 5930, 1104, 2522, 3738, 2003, 2175, 3434, 5686, 2506, 4452, 4362, 5812, 2609, 2693, 5559, 3100, 4384, 5070, 4943, 2987, 3270, 1291, 2490, 6503, 6482, 2070, 3495, 4458, 6162, 1408, 5475, 2930, 2822, 1018, 4914, 1786, 4286, 6456, 1663, 4358, 5711, 1404, 4739, 6298, 2251, 4178, 5893, 4625, 1167, 2972, 139, 6540, 5762, 199, 3757, 2037, 4528, 5609, 5879, 4648, 3166, 3188, 6429, 4965, 2316, 1649, 1660, 2165, 4326, 3066, 2365, 5668, 3790, 266, 2156, 1205, 4516, 1862, 2947, 343, 3007, 6015, 1097, 678, 765, 6457, 2511, 6095, 2742, 4160, 2605, 1945, 2027, 3221, 4268, 1774, 5405, 3917, 3328, 3654, 2763, 2323, 4221, 2842, 4998, 5385, 5704, 5561, 1730, 1457, 5790, 3250, 5130, 2908, 1981, 3059, 4317, 1379, 1350, 1186, 1869, 3326, 5514, 6165, 945, 1197, 2636, 465, 5214, 2194, 1189, 4073, 2164, 3353, 4520, 1334, 3715, 4051, 5233, 6461, 962, 3945, 349, 4290, 2362, 3004, 1086, 3477, 121, 1079, 4504, 940, 3263, 5227, 125, 5523, 1867, 3913, 5343, 2726, 4007, 5290, 1358, 3309, 1587, 1176, 5175, 3447, 1101, 4000, 41, 3181, 1991, 4258, 1366, 2864, 1666, 3621, 281, 3721, 4665, 5036, 4055, 4599, 3075, 3297, 4069, 4469, 2819, 3730, 3947, 5295, 6245, 5150, 4716, 2991, 2523, 6220, 2811, 4227, 6030, 4658, 3426, 6411, 552, 964, 871, 1178, 1185, 3895, 115, 2762, 4393, 5680, 3148, 2077, 3555, 1537, 2484, 4411, 3257, 2195, 726, 3014, 4241, 2189, 1492, 3658, 3226, 3996, 4654, 518, 6138, 1817, 4613, 1604, 4337, 2825, 3732, 3304, 3564, 1929, 5550, 4910, 3265, 1094, 3802, 3558, 4195, 5695, 6414, 2431, 1215, 5381, 1208, 1164, 2000, 645, 5669, 3826, 2471, 111, 3868, 3491, 3459, 3417, 2995, 2939, 1116, 1905, 6491, 2472, 5614, 766, 1851, 5706, 4246, 3378, 4948, 5011, 6179, 4006, 2402, 2234, 1087, 1538, 4432, 3979, 2474, 4795, 2425, 4518, 2559, 5069, 1590, 880, 1699, 1831, 3623, 2616, 6269, 1425, 5547, 1287, 2279, 1995, 3736, 2405, 3777, 2480, 3049, 3490, 509, 3957, 3541, 3271, 5161, 5967, 3847, 3765, 68, 4097, 1658, 4727, 6047, 3510, 4015, 5972, 1540, 3397, 1298, 4715, 3881, 5538, 4556, 2410, 1913, 2404, 2824, 107, 2934, 385, 3798, 5277, 938, 351, 3085, 1997, 3731, 6335, 1919, 6097, 3483, 1021, 221, 55, 5260, 925, 2978, 473, 3567, 404, 5619, 2508, 2700, 4359, 5606, 2778, 3028, 1284, 5923, 5225, 427, 3561, 724, 4627, 3584, 4058, 4329, 1756, 5441, 4341, 1661, 2635, 1952, 3342, 1930, 177, 5297, 5321, 1758, 3458, 1747, 2469, 6013, 4962, 4694, 951, 4972, 3673, 1251, 50, 3452, 1165, 2916, 6204, 3249, 5525, 3157, 3330, 669, 5787, 4886, 5624, 3614, 4833, 861, 1870, 1333, 4828, 2495, 6169, 6451, 5871, 1910, 4023, 2391, 1778, 4422, 3880, 5427, 1842, 1937, 4254, 4889, 4059, 274, 6200, 3456, 997, 609, 2699, 5528, 3347, 4748, 3509, 4292, 5894, 5880, 388, 5438, 2713, 2897, 3986, 1011, 4519, 3627, 2233, 3436, 347, 3002, 4633, 6046, 1691, 434, 4060, 4251, 5885, 866, 3613, 2119, 4818, 949, 5340, 3985, 2730, 2178, 3612, 2481, 2830, 147, 593, 872, 5305, 2115, 4685, 886, 2847, 971, 2244, 2725, 4724, 5466, 3369, 4642, 2434, 2339, 4299, 203, 2604, 2617, 1452, 4779, 4976, 4866, 2698, 1571, 716, 2764, 6545, 4044, 1907, 1402, 3018, 2879, 3543, 4719, 5270, 5363, 3488, 1932, 5955, 4048, 5114, 4303, 3581, 1435, 5973, 1770, 4444, 4273, 2595, 2238, 4542, 5397, 524, 5864, 6193, 4792, 3883, 3863, 4381, 6215, 5944, 6090, 258, 5723, 2729, 4497, 1865, 1678, 913, 6184, 2353, 4084, 6333, 2894, 594, 6331, 6104, 5781, 530, 5346, 6522, 3261, 5234, 5129, 1955, 1626, 1450, 6211, 2548, 5160, 2005, 587, 3405, 3294, 5366, 1283, 6402, 3420, 3626, 4926, 2877, 798, 1791, 6290, 1757, 3787, 6510, 4082, 379, 2430, 2936, 3905, 4813, 2185, 2450, 1027, 3935, 4041, 205, 5681, 2401, 4995, 4800, 1106, 639, 1572, 1337, 6329, 6093, 4102, 1258, 5699, 442, 2810, 4827, 2438, 5355, 1035, 1793, 6051, 4794, 2739, 5785, 4662, 1403, 4712, 5222, 2348, 2656, 3706, 2893, 3692, 3206, 2276, 4859, 4750, 6139, 4693, 5682, 937, 5847, 4071, 2271, 5133, 5810, 5392, 3720, 3293, 3331, 4297, 5426, 5670, 2002, 6405, 2833, 2666, 5273, 2437, 437, 2179, 5617, 2240, 126, 1006, 2923, 4877, 4568, 4824, 3233, 4681, 1698, 4056, 966, 1180, 1295, 4881, 4620, 5927, 3222, 847, 3318, 4166, 2356, 2281, 6173, 772, 6027, 1688, 3966, 6531, 1272, 3024, 2383, 3894, 5480, 5773, 4415, 4778, 2152, 2038, 4700, 5946, 6202, 3885, 6441, 3882, 2938, 3120, 2367, 635, 4463, 928, 3991, 5594, 4883, 3577, 1841, 2395, 2309, 1427, 701, 1437, 6516, 5095, 5296, 3933, 5354, 6547, 4114, 4277, 6458, 33, 4124, 6045, 5061, 4021, 3875, 888, 4667, 6320, 276, 3050, 2846, 4903, 4588, 4036, 2848, 1506, 4328, 2554, 6250, 5019, 1866, 3408, 4471, 4946, 4302, 2749, 684, 1532, 189, 2592, 1813, 5157, 5623, 627, 4243, 6033, 1446, 6035, 4705, 4026, 1986, 4957, 1339, 6369, 874, 4955, 5356, 3097, 5795, 5268, 5806, 2498, 4233, 1828, 832, 1783, 5687, 4934, 2775, 5782, 5872, 4776, 5587, 5570, 4269, 1495, 4344, 1819, 5557, 5921, 4121, 1829, 3797, 2085, 3428, 2183, 1627, 1417, 3831, 5869, 2561, 873, 2190, 4445, 4933, 2849, 1509, 5953, 3965, 4253, 628, 4622, 3367, 1047, 3386, 4248, 3475, 3851, 5603, 5237, 2859, 3451, 3635, 5995, 3162, 3184, 3171, 4601, 4133, 4575, 682, 2072, 691, 3478, 6023, 1915, 2564, 2793, 6318, 1206, 287, 2549, 2501, 4656, 4388, 719, 4487, 4743, 2173, 4285, 2975, 3821, 469, 5849, 6185, 2556, 3068, 3202, 4161, 2750, 2524, 4171, 398, 2754, 3131, 4418, 3619, 5520, 2611, 615, 5030, 3562, 1610, 227, 113, 5138, 401, 1407, 2834, 5068, 6265, 4283, 2977, 4951, 844, 6190, 4600, 6512, 2582, 3057, 3535, 1662, 6017, 4993, 4726, 2865, 629, 4932, 3315, 4912, 6000, 1825, 4403, 2392, 1293, 2851, 2902, 2962, 5316, 464, 4107, 3374, 6431, 1843, 1112, 3146, 399, 5712, 6247, 5800, 2504, 97, 4149, 1528, 5094, 1607, 2319, 352, 4807, 3813, 1988, 3385, 1038, 3812, 186, 1650, 5378, 4410, 2022, 104, 4245, 5033, 1928, 1351, 2967, 5009, 6005, 4291, 3218, 3871, 4576, 4318, 3648, 4138, 3366, 4582, 191, 885, 3618, 3781, 3919, 6246, 849, 2012, 2099, 1281, 5308, 5390, 2802, 3158, 835, 4396, 48, 6367, 3624, 5535, 4206, 1787, 3592, 6124, 1024, 5317, 1755, 787, 1278, 2910, 3416, 6170, 432, 2397, 2273, 4730, 2835, 5957, 3746, 450, 2532, 4212, 1005, 5375, 6094, 1242, 4697, 3335, 2970, 3949, 4054, 935, 2166, 151, 5179, 5939, 3625, 1341, 3937, 2990, 5451, 4798, 3423, 5524, 5319, 2672, 4213, 1108, 4963, 6122, 4489, 2102, 2267, 1931, 1511, 4017, 95, 4775, 5542, 4916, 5715, 1902, 361, 1051, 3099, 4550, 5027, 3572, 3194, 967, 1773, 4624, 348, 5075, 963, 2368, 1046, 2435, 4574, 5431, 6175, 3356, 3470, 446, 4325, 3498, 1617, 6400, 214, 4997, 6156, 2827, 3893, 2560, 3806, 2690, 3104, 4742, 4364, 851, 2831, 2718, 802, 4893, 4616, 4333, 1124, 2965, 6511, 368, 6376, 2968, 2147, 1977, 1285, 6452, 3402, 2363, 2767, 5757, 5890, 74, 6453, 1856, 135, 1693, 5808, 3132, 2586, 4722, 1429, 6509, 670, 3575, 5076, 3888, 3987, 3816, 2570, 116, 3697, 6050, 831, 5422, 5098, 614, 4416, 2925, 537, 5289, 22, 5303, 296, 2932, 1486, 2886, 5134, 5428, 2407, 1261, 1002, 3204, 2088, 1789, 2766, 5751, 393, 6502, 423, 784, 767, 3403, 1327, 3351, 4394, 5710, 216, 1918, 1746, 4365, 2888, 268, 5776, 65, 836, 1498, 54, 3513, 4229, 3810, 458, 1007, 5962, 2547, 304, 6157, 2116, 1904, 5783, 6430, 3429, 3538, 1282, 4628, 4892, 4198, 3052, 843, 1821, 2479, 5139, 6009, 6264, 3051, 959, 5478, 1827, 4585, 3183, 2615, 217, 5811, 6121, 3931, 5055, 340, 6252, 2682, 597, 4366, 4461, 2612, 5395, 5401, 4913, 2555, 1274, 4308, 2678, 4173, 3368, 930, 5105, 3636, 2794, 1942, 5954, 703, 3645, 2432, 1120, 611, 6081, 837, 4606, 277, 4142, 6128, 2364, 1707, 2141, 2770, 4367, 5229, 3246, 1835, 6141, 4809, 5628, 3267, 1815, 924, 5688, 1188, 5313, 5063, 265, 441, 6334, 4637, 3767, 2781, 2001, 3371, 5928, 6328, 2681, 4355, 4773, 6357, 4626, 5866, 56, 5042, 2574, 2901, 4940, 5588, 867, 2421, 4276, 2311, 5024, 4091, 756, 4689, 1543, 5777, 6442, 5692, 5565, 2815, 2808, 2258, 3419, 5672, 2149, 1664, 5865, 3668, 2844, 215, 3643, 459, 1566, 6007, 750, 2603, 2191, 5192, 2452, 2782, 6541, 1335, 5344, 210, 2487, 6084, 3282, 2235, 1975, 4777, 2513, 2476, 5434, 6535, 4143, 2387, 1297, 5508, 789, 5016, 4703, 4819, 2451, 363, 3671, 4387, 5298, 4405, 211, 4805, 503, 5243, 5067, 713, 378, 3213, 5632, 2008, 2301, 2329, 4190, 4085, 4849, 3600, 4217, 6109, 275, 3655, 4339, 5372, 223, 1362, 4604, 2351, 1207, 1424, 4598, 6126, 4439, 6505, 1983, 1179, 1131, 2588, 2222, 4436, 4205, 4039, 3323, 2197, 2103, 3699, 6283, 2324, 3766, 6096, 6323, 2399, 6529, 4295, 3976, 5113, 5922, 3048, 4070, 4890, 3427, 6042, 4401, 3391, 1760, 4483, 444, 675, 306, 4490, 2679, 4219, 592, 618, 5805, 2101, 474, 3421, 5159, 4499, 96, 6256, 1674, 34, 2575, 5389, 1485, 225, 4698, 696, 2076, 950, 6421, 3516, 5530, 1036, 6098, 158, 6214, 3948, 6174, 1531, 4557, 2428, 2079, 1535, 5457, 2139, 1822, 1753, 5013, 3244, 4734, 1090, 3771, 528, 2613, 1615, 5569, 4902, 2692, 5932, 2317, 2746, 1602, 1114, 4095, 3406, 322, 5443, 3091, 5029, 4844, 2004, 1812, 1823, 5611, 1119, 6278, 4207, 6131, 1530, 5867, 6107, 371, 672, 160, 1513, 6530, 4608, 1735, 3182, 4016, 6125, 6324, 3865, 1092, 1620, 1836, 6267, 3125, 5091, 1487, 942, 643, 1581, 3667, 5437, 75, 4110, 3952, 5541, 763, 194, 1985, 5404, 4848, 3606, 859, 118, 1508, 1897, 5714, 3984, 1695, 438, 6339, 2773, 3247, 2776, 3464, 2033, 6483, 4322, 3748, 4493, 5058, 1582, 4492, 4391, 5788, 6281, 6448, 1502, 2878, 4278, 4446, 2899, 4986, 855, 6399, 505, 17, 3892, 6423, 1766, 4928, 3232, 5950, 3453, 391, 1984, 4209, 3126, 4991, 5031, 1438, 4894, 3053, 2589, 124, 5038, 6089, 561, 1321, 3089, 4506, 1521, 6353, 723, 4309, 2596, 4033, 6294, 4663, 460, 4434, 5652, 3500, 226, 4159, 59, 5153, 759, 3256, 2313, 626, 4762, 3672, 3953, 4529, 769, 6216, 4735, 6424, 1296, 5839, 3492, 3852, 5556, 1838, 26, 6438, 2640, 4197, 4491, 3407, 2354, 5873, 2305, 2658, 2106, 5464, 4823, 80, 2521, 4218, 1669, 3914, 6080, 6053, 5728, 212, 3611, 3110, 4275, 1414, 721, 1939, 1044, 854, 4208, 6218, 137, 5861, 345, 5461, 5646, 5813, 4464, 4235, 1354, 6223, 5376, 5679, 4335, 3866, 311, 3090, 156, 4106, 4157, 3203, 218, 2108, 4470, 1665, 1510, 685, 2799, 1083, 1667, 1816, 679, 1709, 3168, 3319, 4460, 4053, 1431, 1673, 3779, 2535, 3622, 2876, 4129, 3517, 6021, 3150, 6087, 1259, 6130, 3046, 5230, 4399, 1935, 3855, 3230, 222, 5425, 5640, 2804, 3792, 108, 4057, 5274, 4988, 132, 2731, 2805, 1520, 5935, 1652, 4319, 4901, 3507, 3357, 4561, 1028, 261, 4646, 2655, 2063, 6348, 2717, 557, 5835, 2162, 1834, 3255, 3438, 5888, 392, 881, 5975, 2710, 5647, 3305, 5463, 1618, 4803, 2333, 646, 955, 5548, 3820, 2697, 876, 5111, 220, 4502, 5034, 3770, 1518, 1949, 5840, 1764, 3400, 5450, 6142, 6022, 127, 722, 422, 342, 890, 3689, 1328, 1377, 1415, 4984, 5056, 1198, 3379, 2336, 2415, 4643, 2814, 6519, 2857, 4615, 313, 2599, 5202, 4005, 6198, 2188, 284, 946, 778, 3685, 1290, 37, 2286, 320, 3711, 44, 6404, 2985, 4315, 6408, 2643, 4539, 2761, 3096, 3296, 4973, 6332, 4959, 5310, 3501, 531, 1603, 2338, 1613, 3718, 2841, 2087, 4226, 6276, 1839, 2121, 6192, 4790, 397, 4118, 5837, 4968, 5766, 4224, 4708, 5362, 4162, 1896, 3254, 4854, 3172, 3485, 2174, 4687, 6401, 2359, 5999, 1517, 839, 1105, 2507, 848, 70, 4690, 72, 4145, 2328, 1943, 5591, 196, 6440, 2325, 443, 4230, 3661, 3859, 2104, 5506, 2091, 6499, 1359, 3544, 27, 4397, 2829, 6345, 3921, 2928, 5621, 912, 1020, 3179, 119, 5605, 3229, 5191, 4974, 1580, 877, 4738, 3289, 3094, 5752, 1458, 833, 2014, 1500, 4736, 1544, 6222, 5065, 4223, 3358, 1125, 6495, 4014, 2167, 2073, 4313, 1016, 5952, 1381, 5373, 4978, 46, 6354, 3755, 4707, 3268, 6433, 3971, 6373, 4751, 6270, 3372, 4012, 1488, 5936, 4829, 5125, 1181, 3320, 5158, 2722, 1443, 5147, 3898, 5123, 6330, 5716, 3178, 3808, 1583, 2433, 4232, 3641, 2227, 4657, 4267, 4378, 1754, 3275, 5156, 3829, 1357, 3481, 4115, 5351, 2416, 4244, 3634, 374, 4815, 1330, 553, 2153, 4481, 1745, 5136, 5943, 4011, 3388, 2302, 715, 1163, 3354, 2918, 958, 231, 2533, 2337, 1654, 3901, 3653, 3474, 4930, 3897, 5531, 4682, 604, 6484, 5503, 4164, 511, 6166, 3872, 2247, 2032, 4812, 3061, 6521, 1494, 2983, 4374, 381, 3603, 133, 3139, 5275, 4851, 3604, 4929, 3375, 3902, 3680, 512, 3928, 970, 1048, 6275, 2029, 2475, 3837, 3216, 3955, 2531, 4870, 808, 3973, 2572, 4990, 354, 4255, 3023, 4670, 6496, 5887, 4473, 5889, 1744, 3632, 5759, 5059, 4334, 3909, 2113, 3733, 5213, 1331, 4684, 308, 856, 1269, 2096, 1449, 1241, 269, 887, 4523, 1409, 5760, 5221, 1671, 468, 3677, 3728]\n",
      "test ids:  [0, 1, 2, 3, 4, 5, 6, 7, 8, 9, 10, 11, 12, 40, 81, 82, 83, 84, 85, 86, 87, 88, 89, 90, 91, 92, 93, 94, 120, 162, 163, 164, 165, 166, 167, 168, 169, 170, 171, 172, 173, 174, 175, 200, 243, 244, 245, 246, 247, 248, 249, 250, 251, 252, 253, 254, 255, 256, 257, 280, 324, 325, 326, 327, 328, 329, 330, 331, 332, 333, 334, 335, 336, 337, 338, 339, 360, 405, 406, 407, 408, 409, 410, 411, 412, 413, 414, 415, 416, 417, 418, 419, 420, 421, 440, 486, 487, 488, 489, 490, 491, 492, 493, 494, 495, 496, 497, 498, 499, 500, 501, 502, 520, 567, 568, 569, 570, 571, 572, 573, 574, 575, 576, 577, 578, 579, 580, 581, 582, 583, 584, 600, 648, 649, 650, 651, 652, 653, 654, 655, 656, 657, 658, 659, 660, 661, 662, 663, 664, 665, 666, 680, 729, 730, 731, 732, 733, 734, 735, 736, 737, 738, 739, 740, 741, 742, 743, 744, 745, 746, 747, 748, 760, 810, 811, 812, 813, 814, 815, 816, 817, 818, 819, 820, 821, 822, 823, 824, 825, 826, 827, 828, 829, 840, 891, 892, 893, 894, 895, 896, 897, 898, 899, 900, 901, 902, 903, 904, 905, 906, 907, 908, 909, 910, 911, 920, 972, 973, 974, 975, 976, 977, 978, 979, 980, 981, 982, 983, 984, 985, 986, 987, 988, 989, 990, 991, 992, 993, 1000, 1053, 1054, 1055, 1056, 1057, 1058, 1059, 1060, 1061, 1062, 1063, 1064, 1065, 1066, 1067, 1068, 1069, 1070, 1071, 1072, 1073, 1074, 1075, 1080, 1135, 1136, 1137, 1138, 1139, 1140, 1141, 1142, 1143, 1144, 1145, 1146, 1147, 1148, 1149, 1150, 1151, 1152, 1153, 1154, 1155, 1156, 1160, 1217, 1218, 1219, 1220, 1221, 1222, 1223, 1224, 1225, 1226, 1227, 1228, 1229, 1230, 1231, 1232, 1233, 1234, 1235, 1236, 1237, 1238, 1240, 1300, 1301, 1302, 1303, 1304, 1305, 1306, 1307, 1308, 1309, 1310, 1311, 1312, 1313, 1314, 1315, 1316, 1317, 1318, 1319, 1320, 1382, 1383, 1384, 1385, 1386, 1387, 1388, 1389, 1390, 1391, 1392, 1393, 1394, 1395, 1396, 1397, 1398, 1399, 1400, 1401, 1465, 1466, 1467, 1468, 1469, 1470, 1471, 1472, 1473, 1474, 1475, 1476, 1477, 1478, 1479, 1480, 1481, 1482, 1483, 1547, 1548, 1549, 1550, 1551, 1552, 1553, 1554, 1555, 1556, 1557, 1558, 1559, 1560, 1561, 1562, 1563, 1564, 1565, 1629, 1630, 1631, 1632, 1633, 1634, 1635, 1636, 1637, 1638, 1639, 1640, 1641, 1642, 1643, 1644, 1645, 1646, 1647, 1700, 1712, 1713, 1714, 1715, 1716, 1717, 1718, 1719, 1720, 1721, 1722, 1723, 1724, 1725, 1726, 1727, 1728, 1780, 1794, 1795, 1796, 1797, 1798, 1799, 1800, 1801, 1802, 1803, 1804, 1805, 1806, 1807, 1808, 1809, 1810, 1860, 1877, 1878, 1879, 1880, 1881, 1882, 1883, 1884, 1885, 1886, 1887, 1888, 1889, 1890, 1891, 1892, 1940, 1959, 1960, 1961, 1962, 1963, 1964, 1965, 1966, 1967, 1968, 1969, 1970, 1971, 1972, 1973, 1974, 2020, 2040, 2041, 2042, 2043, 2044, 2045, 2046, 2047, 2048, 2049, 2050, 2051, 2052, 2053, 2054, 2055, 2100, 2120, 2124, 2125, 2126, 2127, 2128, 2129, 2130, 2131, 2132, 2133, 2134, 2135, 2136, 2137, 2180, 2200, 2206, 2207, 2208, 2209, 2210, 2211, 2212, 2213, 2214, 2215, 2216, 2217, 2218, 2219, 2260, 2280, 2289, 2290, 2291, 2292, 2293, 2294, 2295, 2296, 2297, 2298, 2299, 2300, 2340, 2360, 2371, 2372, 2373, 2374, 2375, 2376, 2377, 2378, 2379, 2380, 2381, 2382, 2420, 2440, 2454, 2455, 2456, 2457, 2458, 2459, 2460, 2461, 2462, 2463, 2464, 2500, 2520, 2536, 2537, 2538, 2539, 2540, 2541, 2542, 2543, 2544, 2545, 2546, 2580, 2600, 2618, 2619, 2620, 2621, 2622, 2623, 2624, 2625, 2626, 2627, 2660, 2680, 2701, 2702, 2703, 2704, 2705, 2706, 2707, 2708, 2709, 2740, 2760, 2783, 2784, 2785, 2786, 2787, 2788, 2789, 2790, 2791, 2820, 2840, 2866, 2867, 2868, 2869, 2870, 2871, 2872, 2873, 2900, 2920, 2948, 2949, 2950, 2951, 2952, 2953, 2954, 2980, 3000, 3030, 3031, 3032, 3033, 3034, 3035, 3036, 3060, 3080, 3113, 3114, 3115, 3116, 3117, 3118, 3140, 3160, 3195, 3196, 3197, 3198, 3199, 3200, 3220, 3240, 3278, 3279, 3280, 3281, 3300, 3360, 3361, 3362, 3363, 3380, 3443, 3444, 3445, 3460, 3525, 3526, 3540, 3607, 3608, 3620, 3690, 3700, 3772, 3780, 3854, 3860, 3936, 3940, 4018, 4019, 4020, 4099, 4100, 4101, 4180, 4181, 4182, 4183, 4260, 4263, 4264, 4265, 4266, 4340, 4345, 4346, 4347, 4348, 4420, 4427, 4428, 4429, 4430, 4431, 4500, 4508, 4509, 4510, 4511, 4512, 4513, 4580, 4590, 4591, 4592, 4593, 4594, 4595, 4660, 4672, 4673, 4674, 4675, 4676, 4677, 4678, 4740, 4753, 4754, 4755, 4756, 4757, 4758, 4759, 4760, 4820, 4835, 4836, 4837, 4838, 4839, 4840, 4841, 4842, 4843, 4900, 4917, 4918, 4919, 4920, 4921, 4922, 4923, 4924, 4925, 4980, 4999, 5000, 5001, 5002, 5003, 5004, 5005, 5006, 5007, 5060, 5080, 5081, 5082, 5083, 5084, 5085, 5086, 5087, 5088, 5089, 5090, 5140, 5162, 5163, 5164, 5165, 5166, 5167, 5168, 5169, 5170, 5171, 5172, 5220, 5244, 5245, 5246, 5247, 5248, 5249, 5250, 5251, 5252, 5253, 5254, 5255, 5300, 5326, 5327, 5328, 5329, 5330, 5331, 5332, 5333, 5334, 5335, 5336, 5337, 5380, 5407, 5408, 5409, 5410, 5411, 5412, 5413, 5414, 5415, 5416, 5417, 5418, 5419, 5420, 5460, 5489, 5490, 5491, 5492, 5493, 5494, 5495, 5496, 5497, 5498, 5499, 5500, 5501, 5502, 5540, 5571, 5572, 5573, 5574, 5575, 5576, 5577, 5578, 5579, 5580, 5581, 5582, 5583, 5584, 5620, 5653, 5654, 5655, 5656, 5657, 5658, 5659, 5660, 5661, 5662, 5663, 5664, 5665, 5666, 5667, 5700, 5734, 5735, 5736, 5737, 5738, 5739, 5740, 5741, 5742, 5743, 5744, 5745, 5746, 5747, 5748, 5749, 5780, 5816, 5817, 5818, 5819, 5820, 5821, 5822, 5823, 5824, 5825, 5826, 5827, 5828, 5829, 5830, 5831, 5860, 5898, 5899, 5900, 5901, 5902, 5903, 5904, 5905, 5906, 5907, 5908, 5909, 5910, 5911, 5912, 5940, 5979, 5980, 5981, 5982, 5983, 5984, 5985, 5986, 5987, 5988, 5989, 5990, 5991, 5992, 5993, 6020, 6061, 6062, 6063, 6064, 6065, 6066, 6067, 6068, 6069, 6070, 6071, 6072, 6073, 6074, 6100, 6143, 6144, 6145, 6146, 6147, 6148, 6149, 6150, 6151, 6152, 6153, 6154, 6155, 6180, 6225, 6226, 6227, 6228, 6229, 6230, 6231, 6232, 6233, 6234, 6235, 6236, 6260, 6306, 6307, 6308, 6309, 6310, 6311, 6312, 6313, 6314, 6315, 6316, 6317, 6340, 6388, 6389, 6390, 6391, 6392, 6393, 6394, 6395, 6396, 6397, 6398, 6420, 6470, 6471, 6472, 6473, 6474, 6475, 6476, 6477, 6478, 6479, 6500, 6552, 6553, 6554, 6555, 6556, 6557, 6558, 6559, 6560]\n",
      "CPU times: user 162 ms, sys: 16 ms, total: 178 ms\n",
      "Wall time: 177 ms\n"
     ]
    }
   ],
   "source": [
    "%%time\n",
    "n_total = len(simulation.dataframe)\n",
    "n_train = len(simulation.dataframe[simulation.dataframe.type_of == \"train\"])\n",
    "n_val = len(simulation.dataframe[simulation.dataframe.type_of == \"val\"])\n",
    "n_test = len(simulation.dataframe[simulation.dataframe.type_of == \"test\"])\n",
    "n_train_hamiltonians = len(simulation.train_ids)\n",
    "n_val_hamiltonians = len(simulation.val_ids)\n",
    "n_test_hamiltonians = len(simulation.test_ids)\n",
    "n_total_hamiltonians = n_train_hamiltonians + n_val_hamiltonians + n_test_hamiltonians\n",
    "\n",
    "print(\"% train: \", n_train/n_total)\n",
    "print(\"% val: \",  n_val/n_total)\n",
    "print(\"% test: \", n_test/n_total)\n",
    "print(\"% train + val + test: \", (n_train+n_val+n_test)/n_total)\n",
    "print(\"\\n\")\n",
    "print(\"number of train hamiltonians: \", n_train_hamiltonians)\n",
    "print(\"number of val hamiltonians: \", n_val_hamiltonians)\n",
    "print(\"number of test hamiltonians: \", n_test_hamiltonians)\n",
    "print(\"total number of hamiltonians: \", n_total_hamiltonians)\n",
    "print(\"\\n\")\n",
    "print(\"train ids: \", simulation.train_ids)\n",
    "print(\"val ids: \", simulation.val_ids)\n",
    "print(\"test ids: \", simulation.test_ids)"
   ]
  },
  {
   "cell_type": "markdown",
   "metadata": {
    "papermill": {
     "duration": 0.038723,
     "end_time": "2020-07-18T07:35:21.727178",
     "exception": false,
     "start_time": "2020-07-18T07:35:21.688455",
     "status": "completed"
    },
    "tags": []
   },
   "source": [
    "#### Checking summaries"
   ]
  },
  {
   "cell_type": "code",
   "execution_count": 31,
   "metadata": {
    "execution": {
     "iopub.execute_input": "2020-07-18T07:35:21.802150Z",
     "iopub.status.busy": "2020-07-18T07:35:21.801842Z",
     "iopub.status.idle": "2020-07-18T07:35:21.820841Z",
     "shell.execute_reply": "2020-07-18T07:35:21.821093Z"
    },
    "papermill": {
     "duration": 0.0573,
     "end_time": "2020-07-18T07:35:21.821160",
     "exception": false,
     "start_time": "2020-07-18T07:35:21.763860",
     "status": "completed"
    },
    "tags": []
   },
   "outputs": [
    {
     "name": "stdout",
     "output_type": "stream",
     "text": [
      "length of ham_summary:  6561\n",
      "CPU times: user 48 µs, sys: 0 ns, total: 48 µs\n",
      "Wall time: 51 µs\n"
     ]
    },
    {
     "data": {
      "text/html": [
       "<div>\n",
       "<style scoped>\n",
       "    .dataframe tbody tr th:only-of-type {\n",
       "        vertical-align: middle;\n",
       "    }\n",
       "\n",
       "    .dataframe tbody tr th {\n",
       "        vertical-align: top;\n",
       "    }\n",
       "\n",
       "    .dataframe thead th {\n",
       "        text-align: right;\n",
       "    }\n",
       "</style>\n",
       "<table border=\"1\" class=\"dataframe\">\n",
       "  <thead>\n",
       "    <tr style=\"text-align: right;\">\n",
       "      <th></th>\n",
       "      <th>t1</th>\n",
       "      <th>t2</th>\n",
       "      <th>type_of</th>\n",
       "      <th>-1</th>\n",
       "      <th>0</th>\n",
       "      <th>1</th>\n",
       "      <th>2</th>\n",
       "      <th>phase</th>\n",
       "      <th>pred_phase</th>\n",
       "    </tr>\n",
       "    <tr>\n",
       "      <th>id</th>\n",
       "      <th></th>\n",
       "      <th></th>\n",
       "      <th></th>\n",
       "      <th></th>\n",
       "      <th></th>\n",
       "      <th></th>\n",
       "      <th></th>\n",
       "      <th></th>\n",
       "      <th></th>\n",
       "    </tr>\n",
       "  </thead>\n",
       "  <tbody>\n",
       "    <tr>\n",
       "      <th>0</th>\n",
       "      <td>-2.0</td>\n",
       "      <td>-2.00</td>\n",
       "      <td>test</td>\n",
       "      <td>0.20</td>\n",
       "      <td>0.47</td>\n",
       "      <td>0.28</td>\n",
       "      <td>0.05</td>\n",
       "      <td>999</td>\n",
       "      <td>0</td>\n",
       "    </tr>\n",
       "    <tr>\n",
       "      <th>1</th>\n",
       "      <td>-2.0</td>\n",
       "      <td>-1.95</td>\n",
       "      <td>test</td>\n",
       "      <td>0.18</td>\n",
       "      <td>0.53</td>\n",
       "      <td>0.24</td>\n",
       "      <td>0.05</td>\n",
       "      <td>-1</td>\n",
       "      <td>0</td>\n",
       "    </tr>\n",
       "    <tr>\n",
       "      <th>2</th>\n",
       "      <td>-2.0</td>\n",
       "      <td>-1.90</td>\n",
       "      <td>test</td>\n",
       "      <td>0.19</td>\n",
       "      <td>0.52</td>\n",
       "      <td>0.21</td>\n",
       "      <td>0.08</td>\n",
       "      <td>-1</td>\n",
       "      <td>0</td>\n",
       "    </tr>\n",
       "    <tr>\n",
       "      <th>3</th>\n",
       "      <td>-2.0</td>\n",
       "      <td>-1.85</td>\n",
       "      <td>test</td>\n",
       "      <td>0.25</td>\n",
       "      <td>0.40</td>\n",
       "      <td>0.30</td>\n",
       "      <td>0.05</td>\n",
       "      <td>-1</td>\n",
       "      <td>0</td>\n",
       "    </tr>\n",
       "    <tr>\n",
       "      <th>4</th>\n",
       "      <td>-2.0</td>\n",
       "      <td>-1.80</td>\n",
       "      <td>test</td>\n",
       "      <td>0.19</td>\n",
       "      <td>0.38</td>\n",
       "      <td>0.35</td>\n",
       "      <td>0.08</td>\n",
       "      <td>-1</td>\n",
       "      <td>0</td>\n",
       "    </tr>\n",
       "    <tr>\n",
       "      <th>...</th>\n",
       "      <td>...</td>\n",
       "      <td>...</td>\n",
       "      <td>...</td>\n",
       "      <td>...</td>\n",
       "      <td>...</td>\n",
       "      <td>...</td>\n",
       "      <td>...</td>\n",
       "      <td>...</td>\n",
       "      <td>...</td>\n",
       "    </tr>\n",
       "    <tr>\n",
       "      <th>6556</th>\n",
       "      <td>2.0</td>\n",
       "      <td>1.80</td>\n",
       "      <td>test</td>\n",
       "      <td>0.42</td>\n",
       "      <td>0.18</td>\n",
       "      <td>0.05</td>\n",
       "      <td>0.35</td>\n",
       "      <td>-1</td>\n",
       "      <td>-1</td>\n",
       "    </tr>\n",
       "    <tr>\n",
       "      <th>6557</th>\n",
       "      <td>2.0</td>\n",
       "      <td>1.85</td>\n",
       "      <td>test</td>\n",
       "      <td>0.41</td>\n",
       "      <td>0.18</td>\n",
       "      <td>0.07</td>\n",
       "      <td>0.34</td>\n",
       "      <td>-1</td>\n",
       "      <td>-1</td>\n",
       "    </tr>\n",
       "    <tr>\n",
       "      <th>6558</th>\n",
       "      <td>2.0</td>\n",
       "      <td>1.90</td>\n",
       "      <td>test</td>\n",
       "      <td>0.39</td>\n",
       "      <td>0.24</td>\n",
       "      <td>0.07</td>\n",
       "      <td>0.30</td>\n",
       "      <td>-1</td>\n",
       "      <td>-1</td>\n",
       "    </tr>\n",
       "    <tr>\n",
       "      <th>6559</th>\n",
       "      <td>2.0</td>\n",
       "      <td>1.95</td>\n",
       "      <td>test</td>\n",
       "      <td>0.24</td>\n",
       "      <td>0.28</td>\n",
       "      <td>0.06</td>\n",
       "      <td>0.42</td>\n",
       "      <td>-1</td>\n",
       "      <td>2</td>\n",
       "    </tr>\n",
       "    <tr>\n",
       "      <th>6560</th>\n",
       "      <td>2.0</td>\n",
       "      <td>2.00</td>\n",
       "      <td>test</td>\n",
       "      <td>0.22</td>\n",
       "      <td>0.34</td>\n",
       "      <td>0.07</td>\n",
       "      <td>0.37</td>\n",
       "      <td>999</td>\n",
       "      <td>2</td>\n",
       "    </tr>\n",
       "  </tbody>\n",
       "</table>\n",
       "<p>6561 rows × 9 columns</p>\n",
       "</div>"
      ],
      "text/plain": [
       "       t1    t2 type_of    -1     0     1     2  phase  pred_phase\n",
       "id                                                                \n",
       "0    -2.0 -2.00    test  0.20  0.47  0.28  0.05    999           0\n",
       "1    -2.0 -1.95    test  0.18  0.53  0.24  0.05     -1           0\n",
       "2    -2.0 -1.90    test  0.19  0.52  0.21  0.08     -1           0\n",
       "3    -2.0 -1.85    test  0.25  0.40  0.30  0.05     -1           0\n",
       "4    -2.0 -1.80    test  0.19  0.38  0.35  0.08     -1           0\n",
       "...   ...   ...     ...   ...   ...   ...   ...    ...         ...\n",
       "6556  2.0  1.80    test  0.42  0.18  0.05  0.35     -1          -1\n",
       "6557  2.0  1.85    test  0.41  0.18  0.07  0.34     -1          -1\n",
       "6558  2.0  1.90    test  0.39  0.24  0.07  0.30     -1          -1\n",
       "6559  2.0  1.95    test  0.24  0.28  0.06  0.42     -1           2\n",
       "6560  2.0  2.00    test  0.22  0.34  0.07  0.37    999           2\n",
       "\n",
       "[6561 rows x 9 columns]"
      ]
     },
     "execution_count": 31,
     "metadata": {},
     "output_type": "execute_result"
    }
   ],
   "source": [
    "%%time\n",
    "ham_summary = simulation.hamiltonian_summary\n",
    "print(\"length of ham_summary: \", len(ham_summary))\n",
    "ham_summary"
   ]
  },
  {
   "cell_type": "code",
   "execution_count": 32,
   "metadata": {
    "execution": {
     "iopub.execute_input": "2020-07-18T07:35:21.940397Z",
     "iopub.status.busy": "2020-07-18T07:35:21.940082Z",
     "iopub.status.idle": "2020-07-18T07:35:21.972159Z",
     "shell.execute_reply": "2020-07-18T07:35:21.971887Z"
    },
    "papermill": {
     "duration": 0.113241,
     "end_time": "2020-07-18T07:35:21.972211",
     "exception": false,
     "start_time": "2020-07-18T07:35:21.858970",
     "status": "completed"
    },
    "tags": []
   },
   "outputs": [
    {
     "data": {
      "text/html": [
       "<div>\n",
       "<style scoped>\n",
       "    .dataframe tbody tr th:only-of-type {\n",
       "        vertical-align: middle;\n",
       "    }\n",
       "\n",
       "    .dataframe tbody tr th {\n",
       "        vertical-align: top;\n",
       "    }\n",
       "\n",
       "    .dataframe thead th {\n",
       "        text-align: right;\n",
       "    }\n",
       "</style>\n",
       "<table border=\"1\" class=\"dataframe\">\n",
       "  <thead>\n",
       "    <tr style=\"text-align: right;\">\n",
       "      <th></th>\n",
       "      <th>t1</th>\n",
       "      <th>t2</th>\n",
       "      <th>-1</th>\n",
       "      <th>0</th>\n",
       "      <th>1</th>\n",
       "      <th>2</th>\n",
       "      <th>phase</th>\n",
       "      <th>pred_phase</th>\n",
       "    </tr>\n",
       "  </thead>\n",
       "  <tbody>\n",
       "    <tr>\n",
       "      <th>count</th>\n",
       "      <td>6561.000000</td>\n",
       "      <td>6.561000e+03</td>\n",
       "      <td>6561.000000</td>\n",
       "      <td>6561.000000</td>\n",
       "      <td>6561.000000</td>\n",
       "      <td>6561.000000</td>\n",
       "      <td>6561.000000</td>\n",
       "      <td>6561.000000</td>\n",
       "    </tr>\n",
       "    <tr>\n",
       "      <th>mean</th>\n",
       "      <td>0.000000</td>\n",
       "      <td>-4.331917e-18</td>\n",
       "      <td>0.198884</td>\n",
       "      <td>0.314382</td>\n",
       "      <td>0.303471</td>\n",
       "      <td>0.183263</td>\n",
       "      <td>28.045877</td>\n",
       "      <td>0.469441</td>\n",
       "    </tr>\n",
       "    <tr>\n",
       "      <th>std</th>\n",
       "      <td>1.169134</td>\n",
       "      <td>1.169134e+00</td>\n",
       "      <td>0.366897</td>\n",
       "      <td>0.435468</td>\n",
       "      <td>0.435756</td>\n",
       "      <td>0.359276</td>\n",
       "      <td>163.557011</td>\n",
       "      <td>1.021874</td>\n",
       "    </tr>\n",
       "    <tr>\n",
       "      <th>min</th>\n",
       "      <td>-2.000000</td>\n",
       "      <td>-2.000000e+00</td>\n",
       "      <td>0.000000</td>\n",
       "      <td>0.000000</td>\n",
       "      <td>0.000000</td>\n",
       "      <td>0.000000</td>\n",
       "      <td>-1.000000</td>\n",
       "      <td>-1.000000</td>\n",
       "    </tr>\n",
       "    <tr>\n",
       "      <th>25%</th>\n",
       "      <td>-1.000000</td>\n",
       "      <td>-1.000000e+00</td>\n",
       "      <td>0.000000</td>\n",
       "      <td>0.000000</td>\n",
       "      <td>0.000000</td>\n",
       "      <td>0.000000</td>\n",
       "      <td>0.000000</td>\n",
       "      <td>0.000000</td>\n",
       "    </tr>\n",
       "    <tr>\n",
       "      <th>50%</th>\n",
       "      <td>0.000000</td>\n",
       "      <td>0.000000e+00</td>\n",
       "      <td>0.000000</td>\n",
       "      <td>0.010000</td>\n",
       "      <td>0.000000</td>\n",
       "      <td>0.000000</td>\n",
       "      <td>1.000000</td>\n",
       "      <td>0.000000</td>\n",
       "    </tr>\n",
       "    <tr>\n",
       "      <th>75%</th>\n",
       "      <td>1.000000</td>\n",
       "      <td>1.000000e+00</td>\n",
       "      <td>0.130000</td>\n",
       "      <td>0.980000</td>\n",
       "      <td>0.960000</td>\n",
       "      <td>0.050000</td>\n",
       "      <td>1.000000</td>\n",
       "      <td>1.000000</td>\n",
       "    </tr>\n",
       "    <tr>\n",
       "      <th>max</th>\n",
       "      <td>2.000000</td>\n",
       "      <td>2.000000e+00</td>\n",
       "      <td>1.000000</td>\n",
       "      <td>1.000000</td>\n",
       "      <td>1.000000</td>\n",
       "      <td>1.000000</td>\n",
       "      <td>999.000000</td>\n",
       "      <td>2.000000</td>\n",
       "    </tr>\n",
       "  </tbody>\n",
       "</table>\n",
       "</div>"
      ],
      "text/plain": [
       "                t1            t2           -1            0            1  \\\n",
       "count  6561.000000  6.561000e+03  6561.000000  6561.000000  6561.000000   \n",
       "mean      0.000000 -4.331917e-18     0.198884     0.314382     0.303471   \n",
       "std       1.169134  1.169134e+00     0.366897     0.435468     0.435756   \n",
       "min      -2.000000 -2.000000e+00     0.000000     0.000000     0.000000   \n",
       "25%      -1.000000 -1.000000e+00     0.000000     0.000000     0.000000   \n",
       "50%       0.000000  0.000000e+00     0.000000     0.010000     0.000000   \n",
       "75%       1.000000  1.000000e+00     0.130000     0.980000     0.960000   \n",
       "max       2.000000  2.000000e+00     1.000000     1.000000     1.000000   \n",
       "\n",
       "                 2        phase   pred_phase  \n",
       "count  6561.000000  6561.000000  6561.000000  \n",
       "mean      0.183263    28.045877     0.469441  \n",
       "std       0.359276   163.557011     1.021874  \n",
       "min       0.000000    -1.000000    -1.000000  \n",
       "25%       0.000000     0.000000     0.000000  \n",
       "50%       0.000000     1.000000     0.000000  \n",
       "75%       0.050000     1.000000     1.000000  \n",
       "max       1.000000   999.000000     2.000000  "
      ]
     },
     "execution_count": 32,
     "metadata": {},
     "output_type": "execute_result"
    }
   ],
   "source": [
    "ham_summary.describe()"
   ]
  },
  {
   "cell_type": "code",
   "execution_count": 33,
   "metadata": {
    "execution": {
     "iopub.execute_input": "2020-07-18T07:35:22.051386Z",
     "iopub.status.busy": "2020-07-18T07:35:22.051075Z",
     "iopub.status.idle": "2020-07-18T07:35:22.065391Z",
     "shell.execute_reply": "2020-07-18T07:35:22.065693Z"
    },
    "papermill": {
     "duration": 0.055841,
     "end_time": "2020-07-18T07:35:22.065758",
     "exception": false,
     "start_time": "2020-07-18T07:35:22.009917",
     "status": "completed"
    },
    "tags": []
   },
   "outputs": [
    {
     "name": "stdout",
     "output_type": "stream",
     "text": [
      "length of ham_summary:  656100\n"
     ]
    },
    {
     "data": {
      "text/html": [
       "<div>\n",
       "<style scoped>\n",
       "    .dataframe tbody tr th:only-of-type {\n",
       "        vertical-align: middle;\n",
       "    }\n",
       "\n",
       "    .dataframe tbody tr th {\n",
       "        vertical-align: top;\n",
       "    }\n",
       "\n",
       "    .dataframe thead th {\n",
       "        text-align: right;\n",
       "    }\n",
       "</style>\n",
       "<table border=\"1\" class=\"dataframe\">\n",
       "  <thead>\n",
       "    <tr style=\"text-align: right;\">\n",
       "      <th></th>\n",
       "      <th>id</th>\n",
       "      <th>phase</th>\n",
       "      <th>pred_phase</th>\n",
       "      <th>type_of</th>\n",
       "    </tr>\n",
       "  </thead>\n",
       "  <tbody>\n",
       "    <tr>\n",
       "      <th>0</th>\n",
       "      <td>0</td>\n",
       "      <td>999</td>\n",
       "      <td>-1</td>\n",
       "      <td>test</td>\n",
       "    </tr>\n",
       "    <tr>\n",
       "      <th>1</th>\n",
       "      <td>0</td>\n",
       "      <td>999</td>\n",
       "      <td>2</td>\n",
       "      <td>test</td>\n",
       "    </tr>\n",
       "    <tr>\n",
       "      <th>2</th>\n",
       "      <td>0</td>\n",
       "      <td>999</td>\n",
       "      <td>-1</td>\n",
       "      <td>test</td>\n",
       "    </tr>\n",
       "    <tr>\n",
       "      <th>3</th>\n",
       "      <td>0</td>\n",
       "      <td>999</td>\n",
       "      <td>1</td>\n",
       "      <td>test</td>\n",
       "    </tr>\n",
       "    <tr>\n",
       "      <th>4</th>\n",
       "      <td>0</td>\n",
       "      <td>999</td>\n",
       "      <td>-1</td>\n",
       "      <td>test</td>\n",
       "    </tr>\n",
       "    <tr>\n",
       "      <th>...</th>\n",
       "      <td>...</td>\n",
       "      <td>...</td>\n",
       "      <td>...</td>\n",
       "      <td>...</td>\n",
       "    </tr>\n",
       "    <tr>\n",
       "      <th>656095</th>\n",
       "      <td>6560</td>\n",
       "      <td>999</td>\n",
       "      <td>-1</td>\n",
       "      <td>test</td>\n",
       "    </tr>\n",
       "    <tr>\n",
       "      <th>656096</th>\n",
       "      <td>6560</td>\n",
       "      <td>999</td>\n",
       "      <td>-1</td>\n",
       "      <td>test</td>\n",
       "    </tr>\n",
       "    <tr>\n",
       "      <th>656097</th>\n",
       "      <td>6560</td>\n",
       "      <td>999</td>\n",
       "      <td>-1</td>\n",
       "      <td>test</td>\n",
       "    </tr>\n",
       "    <tr>\n",
       "      <th>656098</th>\n",
       "      <td>6560</td>\n",
       "      <td>999</td>\n",
       "      <td>0</td>\n",
       "      <td>test</td>\n",
       "    </tr>\n",
       "    <tr>\n",
       "      <th>656099</th>\n",
       "      <td>6560</td>\n",
       "      <td>999</td>\n",
       "      <td>0</td>\n",
       "      <td>test</td>\n",
       "    </tr>\n",
       "  </tbody>\n",
       "</table>\n",
       "<p>656100 rows × 4 columns</p>\n",
       "</div>"
      ],
      "text/plain": [
       "          id  phase  pred_phase type_of\n",
       "0          0    999          -1    test\n",
       "1          0    999           2    test\n",
       "2          0    999          -1    test\n",
       "3          0    999           1    test\n",
       "4          0    999          -1    test\n",
       "...      ...    ...         ...     ...\n",
       "656095  6560    999          -1    test\n",
       "656096  6560    999          -1    test\n",
       "656097  6560    999          -1    test\n",
       "656098  6560    999           0    test\n",
       "656099  6560    999           0    test\n",
       "\n",
       "[656100 rows x 4 columns]"
      ]
     },
     "execution_count": 33,
     "metadata": {},
     "output_type": "execute_result"
    }
   ],
   "source": [
    "eigen_summary = simulation.eigenvector_summary\n",
    "print(\"length of ham_summary: \", len(eigen_summary))\n",
    "eigen_summary"
   ]
  },
  {
   "cell_type": "markdown",
   "metadata": {
    "papermill": {
     "duration": 0.037249,
     "end_time": "2020-07-18T07:35:22.140835",
     "exception": false,
     "start_time": "2020-07-18T07:35:22.103586",
     "status": "completed"
    },
    "tags": []
   },
   "source": [
    "#### Checking accuracies"
   ]
  },
  {
   "cell_type": "code",
   "execution_count": 34,
   "metadata": {
    "execution": {
     "iopub.execute_input": "2020-07-18T07:35:22.221666Z",
     "iopub.status.busy": "2020-07-18T07:35:22.221341Z",
     "iopub.status.idle": "2020-07-18T07:35:22.232117Z",
     "shell.execute_reply": "2020-07-18T07:35:22.231796Z"
    },
    "papermill": {
     "duration": 0.053,
     "end_time": "2020-07-18T07:35:22.232168",
     "exception": false,
     "start_time": "2020-07-18T07:35:22.179168",
     "status": "completed"
    },
    "tags": []
   },
   "outputs": [
    {
     "data": {
      "text/plain": [
       "{'eigenvector_train': 0.9996269467584209,\n",
       " 'eigenvector_val': 0.9698007246376812,\n",
       " 'eigenvector_test': 0.6578812572759022,\n",
       " 'hamiltonian_train': 1.0,\n",
       " 'hamiltonian_val': 0.9974637681159421,\n",
       " 'hamiltonian_test': 0.8789289871944121}"
      ]
     },
     "execution_count": 34,
     "metadata": {},
     "output_type": "execute_result"
    }
   ],
   "source": [
    "simulation.accuracy"
   ]
  },
  {
   "cell_type": "markdown",
   "metadata": {
    "papermill": {
     "duration": 0.040645,
     "end_time": "2020-07-18T07:35:22.311048",
     "exception": false,
     "start_time": "2020-07-18T07:35:22.270403",
     "status": "completed"
    },
    "tags": []
   },
   "source": [
    "#### Checking data stored in  memory"
   ]
  },
  {
   "cell_type": "code",
   "execution_count": 35,
   "metadata": {
    "execution": {
     "iopub.execute_input": "2020-07-18T07:35:22.390699Z",
     "iopub.status.busy": "2020-07-18T07:35:22.390206Z",
     "iopub.status.idle": "2020-07-18T07:35:22.400853Z",
     "shell.execute_reply": "2020-07-18T07:35:22.400530Z"
    },
    "papermill": {
     "duration": 0.0515,
     "end_time": "2020-07-18T07:35:22.400905",
     "exception": false,
     "start_time": "2020-07-18T07:35:22.349405",
     "status": "completed"
    },
    "tags": []
   },
   "outputs": [
    {
     "data": {
      "text/plain": [
       "[]"
      ]
     },
     "execution_count": 35,
     "metadata": {},
     "output_type": "execute_result"
    }
   ],
   "source": [
    "ham_summary_list = simulation.hamiltonian_summary_list\n",
    "ham_summary_list"
   ]
  },
  {
   "cell_type": "code",
   "execution_count": 36,
   "metadata": {
    "execution": {
     "iopub.execute_input": "2020-07-18T07:35:22.478871Z",
     "iopub.status.busy": "2020-07-18T07:35:22.478378Z",
     "iopub.status.idle": "2020-07-18T07:35:22.488355Z",
     "shell.execute_reply": "2020-07-18T07:35:22.488664Z"
    },
    "papermill": {
     "duration": 0.049894,
     "end_time": "2020-07-18T07:35:22.488728",
     "exception": false,
     "start_time": "2020-07-18T07:35:22.438834",
     "status": "completed"
    },
    "tags": []
   },
   "outputs": [
    {
     "data": {
      "text/plain": [
       "[]"
      ]
     },
     "execution_count": 36,
     "metadata": {},
     "output_type": "execute_result"
    }
   ],
   "source": [
    "eigen_summary_list = simulation.eigenvector_summary_list\n",
    "eigen_summary_list"
   ]
  },
  {
   "cell_type": "code",
   "execution_count": 37,
   "metadata": {
    "execution": {
     "iopub.execute_input": "2020-07-18T07:35:22.568301Z",
     "iopub.status.busy": "2020-07-18T07:35:22.567969Z",
     "iopub.status.idle": "2020-07-18T07:35:22.578501Z",
     "shell.execute_reply": "2020-07-18T07:35:22.578179Z"
    },
    "papermill": {
     "duration": 0.050692,
     "end_time": "2020-07-18T07:35:22.578552",
     "exception": false,
     "start_time": "2020-07-18T07:35:22.527860",
     "status": "completed"
    },
    "tags": []
   },
   "outputs": [
    {
     "data": {
      "text/plain": [
       "{'eigenvector_train': [],\n",
       " 'eigenvector_val': [],\n",
       " 'eigenvector_test': [],\n",
       " 'hamiltonian_train': [],\n",
       " 'hamiltonian_val': [],\n",
       " 'hamiltonian_test': []}"
      ]
     },
     "execution_count": 37,
     "metadata": {},
     "output_type": "execute_result"
    }
   ],
   "source": [
    "accuracy_list = simulation.accuracy_list\n",
    "accuracy_list"
   ]
  },
  {
   "cell_type": "code",
   "execution_count": null,
   "metadata": {
    "papermill": {
     "duration": 0.037802,
     "end_time": "2020-07-18T07:35:22.654837",
     "exception": false,
     "start_time": "2020-07-18T07:35:22.617035",
     "status": "completed"
    },
    "tags": []
   },
   "outputs": [],
   "source": []
  },
  {
   "cell_type": "code",
   "execution_count": null,
   "metadata": {
    "papermill": {
     "duration": 0.038652,
     "end_time": "2020-07-18T07:35:22.732439",
     "exception": false,
     "start_time": "2020-07-18T07:35:22.693787",
     "status": "completed"
    },
    "tags": []
   },
   "outputs": [],
   "source": []
  },
  {
   "cell_type": "code",
   "execution_count": 38,
   "metadata": {
    "execution": {
     "iopub.execute_input": "2020-07-18T07:35:22.812054Z",
     "iopub.status.busy": "2020-07-18T07:35:22.811741Z",
     "iopub.status.idle": "2020-07-18T07:35:22.821350Z",
     "shell.execute_reply": "2020-07-18T07:35:22.821027Z"
    },
    "papermill": {
     "duration": 0.049875,
     "end_time": "2020-07-18T07:35:22.821401",
     "exception": false,
     "start_time": "2020-07-18T07:35:22.771526",
     "status": "completed"
    },
    "tags": []
   },
   "outputs": [],
   "source": [
    "#simulation.fourier_matrix"
   ]
  },
  {
   "cell_type": "code",
   "execution_count": 39,
   "metadata": {
    "execution": {
     "iopub.execute_input": "2020-07-18T07:35:22.901269Z",
     "iopub.status.busy": "2020-07-18T07:35:22.900954Z",
     "iopub.status.idle": "2020-07-18T07:35:22.910274Z",
     "shell.execute_reply": "2020-07-18T07:35:22.910580Z"
    },
    "papermill": {
     "duration": 0.050121,
     "end_time": "2020-07-18T07:35:22.910645",
     "exception": false,
     "start_time": "2020-07-18T07:35:22.860524",
     "status": "completed"
    },
    "tags": []
   },
   "outputs": [],
   "source": [
    "#simulation.fourier_matrix.shape"
   ]
  },
  {
   "cell_type": "code",
   "execution_count": 40,
   "metadata": {
    "execution": {
     "iopub.execute_input": "2020-07-18T07:35:22.989801Z",
     "iopub.status.busy": "2020-07-18T07:35:22.989489Z",
     "iopub.status.idle": "2020-07-18T07:35:22.999308Z",
     "shell.execute_reply": "2020-07-18T07:35:22.998972Z"
    },
    "papermill": {
     "duration": 0.050037,
     "end_time": "2020-07-18T07:35:22.999360",
     "exception": false,
     "start_time": "2020-07-18T07:35:22.949323",
     "status": "completed"
    },
    "tags": []
   },
   "outputs": [],
   "source": [
    "#simulation.fourier_matrix[:,0]"
   ]
  },
  {
   "cell_type": "code",
   "execution_count": 41,
   "metadata": {
    "execution": {
     "iopub.execute_input": "2020-07-18T07:35:23.079910Z",
     "iopub.status.busy": "2020-07-18T07:35:23.079597Z",
     "iopub.status.idle": "2020-07-18T07:35:23.089265Z",
     "shell.execute_reply": "2020-07-18T07:35:23.088942Z"
    },
    "papermill": {
     "duration": 0.050656,
     "end_time": "2020-07-18T07:35:23.089317",
     "exception": false,
     "start_time": "2020-07-18T07:35:23.038661",
     "status": "completed"
    },
    "tags": []
   },
   "outputs": [],
   "source": [
    "#simulation.fourier_matrix[:,1]"
   ]
  },
  {
   "cell_type": "code",
   "execution_count": 42,
   "metadata": {
    "execution": {
     "iopub.execute_input": "2020-07-18T07:35:23.168457Z",
     "iopub.status.busy": "2020-07-18T07:35:23.168133Z",
     "iopub.status.idle": "2020-07-18T07:35:23.177876Z",
     "shell.execute_reply": "2020-07-18T07:35:23.177543Z"
    },
    "papermill": {
     "duration": 0.050081,
     "end_time": "2020-07-18T07:35:23.177928",
     "exception": false,
     "start_time": "2020-07-18T07:35:23.127847",
     "status": "completed"
    },
    "tags": []
   },
   "outputs": [],
   "source": [
    "#np.exp(-1j*2*np.pi*3/100)"
   ]
  },
  {
   "cell_type": "code",
   "execution_count": 43,
   "metadata": {
    "execution": {
     "iopub.execute_input": "2020-07-18T07:35:23.259060Z",
     "iopub.status.busy": "2020-07-18T07:35:23.258744Z",
     "iopub.status.idle": "2020-07-18T07:35:23.268362Z",
     "shell.execute_reply": "2020-07-18T07:35:23.268077Z"
    },
    "papermill": {
     "duration": 0.05068,
     "end_time": "2020-07-18T07:35:23.268421",
     "exception": false,
     "start_time": "2020-07-18T07:35:23.217741",
     "status": "completed"
    },
    "tags": []
   },
   "outputs": [],
   "source": [
    "#for i in range(1,50):\n",
    "#    print(\"\\n\")\n",
    "#    print(i)\n",
    "#    print(np.sum((np.real(simulation.fourier_matrix[:,i]) - np.real(simulation.fourier_matrix[:,-i]))**2))\n",
    "#    print(np.sum((np.imag(simulation.fourier_matrix[:,i])+ np.imag(simulation.fourier_matrix[:,-i]))**2))"
   ]
  },
  {
   "cell_type": "code",
   "execution_count": 44,
   "metadata": {
    "execution": {
     "iopub.execute_input": "2020-07-18T07:35:23.347399Z",
     "iopub.status.busy": "2020-07-18T07:35:23.347090Z",
     "iopub.status.idle": "2020-07-18T07:35:23.364401Z",
     "shell.execute_reply": "2020-07-18T07:35:23.364662Z"
    },
    "papermill": {
     "duration": 0.057879,
     "end_time": "2020-07-18T07:35:23.364730",
     "exception": false,
     "start_time": "2020-07-18T07:35:23.306851",
     "status": "completed"
    },
    "tags": []
   },
   "outputs": [],
   "source": [
    "#print(simulation.fourier_matrix[:,0])"
   ]
  },
  {
   "cell_type": "code",
   "execution_count": 45,
   "metadata": {
    "execution": {
     "iopub.execute_input": "2020-07-18T07:35:23.445924Z",
     "iopub.status.busy": "2020-07-18T07:35:23.445612Z",
     "iopub.status.idle": "2020-07-18T07:35:23.455368Z",
     "shell.execute_reply": "2020-07-18T07:35:23.455041Z"
    },
    "papermill": {
     "duration": 0.050735,
     "end_time": "2020-07-18T07:35:23.455420",
     "exception": false,
     "start_time": "2020-07-18T07:35:23.404685",
     "status": "completed"
    },
    "tags": []
   },
   "outputs": [],
   "source": [
    "#print(simulation.fourier_matrix[:,50])"
   ]
  },
  {
   "cell_type": "code",
   "execution_count": null,
   "metadata": {
    "papermill": {
     "duration": 0.038514,
     "end_time": "2020-07-18T07:35:23.532511",
     "exception": false,
     "start_time": "2020-07-18T07:35:23.493997",
     "status": "completed"
    },
    "tags": []
   },
   "outputs": [],
   "source": []
  }
 ],
 "metadata": {
  "celltoolbar": "Tags",
  "kernelspec": {
   "display_name": "ml_top_phases",
   "language": "python",
   "name": "ml_top_phases"
  },
  "language_info": {
   "codemirror_mode": {
    "name": "ipython",
    "version": 3
   },
   "file_extension": ".py",
   "mimetype": "text/x-python",
   "name": "python",
   "nbconvert_exporter": "python",
   "pygments_lexer": "ipython3",
   "version": "3.6.10"
  },
  "papermill": {
   "duration": 4239.819014,
   "end_time": "2020-07-18T07:35:23.683393",
   "environment_variables": {},
   "exception": null,
   "input_path": "0_simulation_template.ipynb",
   "output_path": "zzz_ssh2_real_space_all_sites_simulation_notebook.ipynb",
   "parameters": {
    "allowed_windings": [
     -1,
     0,
     1,
     2
    ],
    "csv_path": "/home/rio/ssh_csvs/ssh2/periodic_100_6561.csv",
    "features_to_use": null,
    "fit_params": null,
    "fourier_features_to_use": null,
    "fourier_fillna": null,
    "fourier_mode": null,
    "fourier_normalize": null,
    "fourier_real": null,
    "model_kw": {
     "criterion": "entropy",
     "n_estimators": 25,
     "n_jobs": -1
    },
    "model_name": "RandomForestClassifier",
    "n_experiments": 100,
    "pred_params": null,
    "random_features": false,
    "random_state": 2010,
    "save_accuracy": true,
    "save_eigenvector": true,
    "save_hamiltonian": true,
    "save_models": true,
    "shuffle_features": false,
    "shuffle_rows": true,
    "simulation_dir": "/home/rio/ssh_simulations/ssh2/periodic_100_6561/real_space_all_sites",
    "start_n": 0,
    "store_in_lists": false,
    "val_split": 0.5
   },
   "start_time": "2020-07-18T06:24:43.864379",
   "version": "2.1.0"
  }
 },
 "nbformat": 4,
 "nbformat_minor": 2
}