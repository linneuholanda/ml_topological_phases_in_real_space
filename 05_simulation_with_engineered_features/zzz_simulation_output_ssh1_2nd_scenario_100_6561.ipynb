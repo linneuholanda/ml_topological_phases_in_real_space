{
 "cells": [
  {
   "cell_type": "markdown",
   "metadata": {
    "papermill": {
     "duration": 0.054782,
     "end_time": "2020-07-08T05:33:35.625922",
     "exception": false,
     "start_time": "2020-07-08T05:33:35.571140",
     "status": "completed"
    },
    "tags": []
   },
   "source": [
    "# Simulation template \n",
    "\n",
    "In this notebook we run the machine learning analysis of topological phase transitions occurring  in both nearest-neighbours SSH models (ssh1) and second neighbours models (ssh2) as decribed in the paper [Machine learning topological phases in real space](https://arxiv.org/abs/1901.01963). Here the simulation is run with features generated from fourier components in the first scenario. This scenario is characterized by using only the EVEN wavevector space eigenmodes, computed from ALL real space components."
   ]
  },
  {
   "cell_type": "markdown",
   "metadata": {
    "papermill": {
     "duration": 0.016731,
     "end_time": "2020-07-08T05:33:35.661956",
     "exception": false,
     "start_time": "2020-07-08T05:33:35.645225",
     "status": "completed"
    },
    "tags": []
   },
   "source": [
    "## Defining parameters"
   ]
  },
  {
   "cell_type": "code",
   "execution_count": 1,
   "metadata": {
    "execution": {
     "iopub.execute_input": "2020-07-08T05:33:35.694297Z",
     "iopub.status.busy": "2020-07-08T05:33:35.693796Z",
     "iopub.status.idle": "2020-07-08T05:33:36.270948Z",
     "shell.execute_reply": "2020-07-08T05:33:36.271207Z"
    },
    "papermill": {
     "duration": 0.594791,
     "end_time": "2020-07-08T05:33:36.271280",
     "exception": false,
     "start_time": "2020-07-08T05:33:35.676489",
     "status": "completed"
    },
    "tags": []
   },
   "outputs": [
    {
     "name": "stdout",
     "output_type": "stream",
     "text": [
      "CPU times: user 788 ms, sys: 228 ms, total: 1.02 s\n",
      "Wall time: 570 ms\n"
     ]
    }
   ],
   "source": [
    "%%time\n",
    "%load_ext autoreload\n",
    "%autoreload 2\n",
    "from simulation import *"
   ]
  },
  {
   "cell_type": "code",
   "execution_count": 2,
   "metadata": {
    "execution": {
     "iopub.execute_input": "2020-07-08T05:33:36.306032Z",
     "iopub.status.busy": "2020-07-08T05:33:36.305400Z",
     "iopub.status.idle": "2020-07-08T05:33:36.317425Z",
     "shell.execute_reply": "2020-07-08T05:33:36.317106Z"
    },
    "papermill": {
     "duration": 0.029989,
     "end_time": "2020-07-08T05:33:36.317477",
     "exception": false,
     "start_time": "2020-07-08T05:33:36.287488",
     "status": "completed"
    },
    "tags": [
     "parameters"
    ]
   },
   "outputs": [
    {
     "name": "stdout",
     "output_type": "stream",
     "text": [
      "CPU times: user 5 µs, sys: 1e+03 ns, total: 6 µs\n",
      "Wall time: 8.11 µs\n"
     ]
    }
   ],
   "source": [
    "%%time\n",
    "### Dataset and simulation parameters\n",
    "#csv_path = SSH2_PERIODIC_100_6561_CSV \n",
    "csv_path = SSH1_PERIODIC_100_6561_CSV \n",
    "model_name = \"DecisionTreeClassifier\"\n",
    "model_kw = {\"criterion\":\"entropy\"}\n",
    "allowed_windings = [0,1]\n",
    "#allowed_windings = [-1,0,1,2]\n",
    "simulation_dir = SSH1_PERIODIC_1ST_SCENARIO_100_6561_SIMULATION_DIR\n",
    "#simulation_dir = SSH2_PERIODIC_ENGINEERED_100_6561_SIMULATION_DIR\n",
    "val_split = 0.9  \n",
    "features_to_use = None\n",
    "shuffle_features = False\n",
    "random_state = 763\n",
    "\n",
    "### Fourier engineered features\n",
    "fourier_features = list(range(0,100,1))\n",
    "mode = \"dft\"\n",
    "real = True\n",
    "normalize = False\n",
    "fillna = False\n",
    "\n",
    "### Running a simulation\n",
    "n_experiments = 5\n",
    "start_n = 0\n",
    "fit_params = None\n",
    "#mode=mode\n",
    "shuffle_rows = True\n",
    "pred_params = None\n",
    "random_features = False\n",
    "######### DON'T SET THIS TO TRUE UNLESS YOUR DATASET IS SMALL!! WILL FLOOD YOUR MEMORY!!!\n",
    "store_in_lists = False   \n",
    "########## BELOW ARE THE PARAMETERS THAT CONTROL WHAT WILL BE SAVED\n",
    "save_eigenvector=True\n",
    "save_hamiltonian=True \n",
    "save_accuracy=True \n",
    "save_models=True"
   ]
  },
  {
   "cell_type": "code",
   "execution_count": 3,
   "metadata": {
    "execution": {
     "iopub.execute_input": "2020-07-08T05:33:36.364914Z",
     "iopub.status.busy": "2020-07-08T05:33:36.364588Z",
     "iopub.status.idle": "2020-07-08T05:33:36.466791Z",
     "shell.execute_reply": "2020-07-08T05:33:36.465066Z"
    },
    "papermill": {
     "duration": 0.13441,
     "end_time": "2020-07-08T05:33:36.467040",
     "exception": false,
     "start_time": "2020-07-08T05:33:36.332630",
     "status": "completed"
    },
    "tags": [
     "injected-parameters"
    ]
   },
   "outputs": [],
   "source": [
    "# Parameters\n",
    "model_kw = {\"criterion\": \"entropy\"}\n",
    "allowed_windings = [0, 1]\n",
    "val_split = 0.9\n",
    "features_to_use = None\n",
    "shuffle_features = False\n",
    "n_experiments = 100\n",
    "start_n = 0\n",
    "fit_params = None\n",
    "shuffle_rows = True\n",
    "pred_params = None\n",
    "random_features = False\n",
    "store_in_lists = False\n",
    "save_eigenvector = True\n",
    "save_hamiltonian = True\n",
    "save_accuracy = True\n",
    "save_models = True\n",
    "csv_path = \"/home/rio/ssh_csvs/ssh1/periodic_100_6561.csv\"\n",
    "model_name = \"DecisionTreeClassifier\"\n",
    "simulation_dir = \"/home/rio/ssh_simulations/ssh1/periodic_2nd_scenario_100_6561\"\n",
    "random_state = 548\n",
    "fourier_features = [\n",
    "    0,\n",
    "    1,\n",
    "    2,\n",
    "    3,\n",
    "    4,\n",
    "    5,\n",
    "    6,\n",
    "    7,\n",
    "    8,\n",
    "    9,\n",
    "    10,\n",
    "    11,\n",
    "    12,\n",
    "    13,\n",
    "    14,\n",
    "    15,\n",
    "    16,\n",
    "    17,\n",
    "    18,\n",
    "    19,\n",
    "    20,\n",
    "    21,\n",
    "    22,\n",
    "    23,\n",
    "    24,\n",
    "    25,\n",
    "    26,\n",
    "    27,\n",
    "    28,\n",
    "    29,\n",
    "    30,\n",
    "    31,\n",
    "    32,\n",
    "    33,\n",
    "    34,\n",
    "    35,\n",
    "    36,\n",
    "    37,\n",
    "    38,\n",
    "    39,\n",
    "    40,\n",
    "    41,\n",
    "    42,\n",
    "    43,\n",
    "    44,\n",
    "    45,\n",
    "    46,\n",
    "    47,\n",
    "    48,\n",
    "    49,\n",
    "    50,\n",
    "]\n",
    "mode = \"dct\"\n",
    "real = False\n",
    "normalize = False\n",
    "fillna = False\n"
   ]
  },
  {
   "cell_type": "code",
   "execution_count": 4,
   "metadata": {
    "execution": {
     "iopub.execute_input": "2020-07-08T05:33:36.542747Z",
     "iopub.status.busy": "2020-07-08T05:33:36.542416Z",
     "iopub.status.idle": "2020-07-08T05:33:36.554131Z",
     "shell.execute_reply": "2020-07-08T05:33:36.554430Z"
    },
    "papermill": {
     "duration": 0.032493,
     "end_time": "2020-07-08T05:33:36.554496",
     "exception": false,
     "start_time": "2020-07-08T05:33:36.522003",
     "status": "completed"
    },
    "tags": []
   },
   "outputs": [
    {
     "name": "stdout",
     "output_type": "stream",
     "text": [
      "These are the fourier features\n"
     ]
    },
    {
     "data": {
      "text/plain": [
       "[0,\n",
       " 1,\n",
       " 2,\n",
       " 3,\n",
       " 4,\n",
       " 5,\n",
       " 6,\n",
       " 7,\n",
       " 8,\n",
       " 9,\n",
       " 10,\n",
       " 11,\n",
       " 12,\n",
       " 13,\n",
       " 14,\n",
       " 15,\n",
       " 16,\n",
       " 17,\n",
       " 18,\n",
       " 19,\n",
       " 20,\n",
       " 21,\n",
       " 22,\n",
       " 23,\n",
       " 24,\n",
       " 25,\n",
       " 26,\n",
       " 27,\n",
       " 28,\n",
       " 29,\n",
       " 30,\n",
       " 31,\n",
       " 32,\n",
       " 33,\n",
       " 34,\n",
       " 35,\n",
       " 36,\n",
       " 37,\n",
       " 38,\n",
       " 39,\n",
       " 40,\n",
       " 41,\n",
       " 42,\n",
       " 43,\n",
       " 44,\n",
       " 45,\n",
       " 46,\n",
       " 47,\n",
       " 48,\n",
       " 49,\n",
       " 50]"
      ]
     },
     "execution_count": 4,
     "metadata": {},
     "output_type": "execute_result"
    }
   ],
   "source": [
    "print(\"These are the fourier features\")\n",
    "fourier_features"
   ]
  },
  {
   "cell_type": "code",
   "execution_count": 5,
   "metadata": {
    "execution": {
     "iopub.execute_input": "2020-07-08T05:33:36.587234Z",
     "iopub.status.busy": "2020-07-08T05:33:36.586923Z",
     "iopub.status.idle": "2020-07-08T05:33:41.903355Z",
     "shell.execute_reply": "2020-07-08T05:33:41.903038Z"
    },
    "papermill": {
     "duration": 5.333419,
     "end_time": "2020-07-08T05:33:41.903406",
     "exception": false,
     "start_time": "2020-07-08T05:33:36.569987",
     "status": "completed"
    },
    "tags": []
   },
   "outputs": [
    {
     "name": "stdout",
     "output_type": "stream",
     "text": [
      "Info on all data: \n",
      "\n",
      "<class 'pandas.core.frame.DataFrame'>\n",
      "Int64Index: 656100 entries, 0 to 656099\n",
      "Columns: 108 entries, id to feat99\n",
      "dtypes: float64(103), int32(3), object(2)\n",
      "memory usage: 538.1+ MB\n",
      "CPU times: user 5.03 s, sys: 207 ms, total: 5.24 s\n",
      "Wall time: 5.24 s\n"
     ]
    },
    {
     "data": {
      "text/html": [
       "<div>\n",
       "<style scoped>\n",
       "    .dataframe tbody tr th:only-of-type {\n",
       "        vertical-align: middle;\n",
       "    }\n",
       "\n",
       "    .dataframe tbody tr th {\n",
       "        vertical-align: top;\n",
       "    }\n",
       "\n",
       "    .dataframe thead th {\n",
       "        text-align: right;\n",
       "    }\n",
       "</style>\n",
       "<table border=\"1\" class=\"dataframe\">\n",
       "  <thead>\n",
       "    <tr style=\"text-align: right;\">\n",
       "      <th></th>\n",
       "      <th>id</th>\n",
       "      <th>path</th>\n",
       "      <th>t1</th>\n",
       "      <th>t2</th>\n",
       "      <th>winding</th>\n",
       "      <th>phase</th>\n",
       "      <th>pred_phase</th>\n",
       "      <th>type_of</th>\n",
       "      <th>feat0</th>\n",
       "      <th>feat1</th>\n",
       "      <th>...</th>\n",
       "      <th>feat90</th>\n",
       "      <th>feat91</th>\n",
       "      <th>feat92</th>\n",
       "      <th>feat93</th>\n",
       "      <th>feat94</th>\n",
       "      <th>feat95</th>\n",
       "      <th>feat96</th>\n",
       "      <th>feat97</th>\n",
       "      <th>feat98</th>\n",
       "      <th>feat99</th>\n",
       "    </tr>\n",
       "  </thead>\n",
       "  <tbody>\n",
       "    <tr>\n",
       "      <th>0</th>\n",
       "      <td>0</td>\n",
       "      <td>H_-2_-2_0.509296.dat</td>\n",
       "      <td>-2.0</td>\n",
       "      <td>-2.0</td>\n",
       "      <td>0.509296</td>\n",
       "      <td>999</td>\n",
       "      <td>666</td>\n",
       "      <td>test</td>\n",
       "      <td>0.100000</td>\n",
       "      <td>0.100000</td>\n",
       "      <td>...</td>\n",
       "      <td>0.100000</td>\n",
       "      <td>0.100000</td>\n",
       "      <td>0.100000</td>\n",
       "      <td>0.100000</td>\n",
       "      <td>0.100000</td>\n",
       "      <td>0.100000</td>\n",
       "      <td>0.100000</td>\n",
       "      <td>0.100000</td>\n",
       "      <td>0.100000</td>\n",
       "      <td>0.100000</td>\n",
       "    </tr>\n",
       "    <tr>\n",
       "      <th>1</th>\n",
       "      <td>0</td>\n",
       "      <td>H_-2_-2_0.509296.dat</td>\n",
       "      <td>-2.0</td>\n",
       "      <td>-2.0</td>\n",
       "      <td>0.509296</td>\n",
       "      <td>999</td>\n",
       "      <td>666</td>\n",
       "      <td>test</td>\n",
       "      <td>0.141421</td>\n",
       "      <td>0.141142</td>\n",
       "      <td>...</td>\n",
       "      <td>0.114412</td>\n",
       "      <td>0.108967</td>\n",
       "      <td>0.123928</td>\n",
       "      <td>0.119406</td>\n",
       "      <td>0.131490</td>\n",
       "      <td>0.127962</td>\n",
       "      <td>0.136978</td>\n",
       "      <td>0.134500</td>\n",
       "      <td>0.140306</td>\n",
       "      <td>0.138916</td>\n",
       "    </tr>\n",
       "    <tr>\n",
       "      <th>2</th>\n",
       "      <td>0</td>\n",
       "      <td>H_-2_-2_0.509296.dat</td>\n",
       "      <td>-2.0</td>\n",
       "      <td>-2.0</td>\n",
       "      <td>0.509296</td>\n",
       "      <td>999</td>\n",
       "      <td>666</td>\n",
       "      <td>test</td>\n",
       "      <td>0.141421</td>\n",
       "      <td>0.140306</td>\n",
       "      <td>...</td>\n",
       "      <td>0.043702</td>\n",
       "      <td>0.026500</td>\n",
       "      <td>0.075777</td>\n",
       "      <td>0.060214</td>\n",
       "      <td>0.103092</td>\n",
       "      <td>0.090145</td>\n",
       "      <td>0.123928</td>\n",
       "      <td>0.114412</td>\n",
       "      <td>0.136978</td>\n",
       "      <td>0.131490</td>\n",
       "    </tr>\n",
       "    <tr>\n",
       "      <th>3</th>\n",
       "      <td>0</td>\n",
       "      <td>H_-2_-2_0.509296.dat</td>\n",
       "      <td>-2.0</td>\n",
       "      <td>-2.0</td>\n",
       "      <td>0.509296</td>\n",
       "      <td>999</td>\n",
       "      <td>666</td>\n",
       "      <td>test</td>\n",
       "      <td>-0.100000</td>\n",
       "      <td>0.100000</td>\n",
       "      <td>...</td>\n",
       "      <td>-0.100000</td>\n",
       "      <td>0.100000</td>\n",
       "      <td>-0.100000</td>\n",
       "      <td>0.100000</td>\n",
       "      <td>-0.100000</td>\n",
       "      <td>0.100000</td>\n",
       "      <td>-0.100000</td>\n",
       "      <td>0.100000</td>\n",
       "      <td>-0.100000</td>\n",
       "      <td>0.100000</td>\n",
       "    </tr>\n",
       "    <tr>\n",
       "      <th>4</th>\n",
       "      <td>0</td>\n",
       "      <td>H_-2_-2_0.509296.dat</td>\n",
       "      <td>-2.0</td>\n",
       "      <td>-2.0</td>\n",
       "      <td>0.509296</td>\n",
       "      <td>999</td>\n",
       "      <td>666</td>\n",
       "      <td>test</td>\n",
       "      <td>0.000509</td>\n",
       "      <td>-0.008372</td>\n",
       "      <td>...</td>\n",
       "      <td>-0.082713</td>\n",
       "      <td>-0.089753</td>\n",
       "      <td>-0.067684</td>\n",
       "      <td>-0.075347</td>\n",
       "      <td>-0.051587</td>\n",
       "      <td>-0.059753</td>\n",
       "      <td>-0.034677</td>\n",
       "      <td>-0.043217</td>\n",
       "      <td>-0.017220</td>\n",
       "      <td>-0.026000</td>\n",
       "    </tr>\n",
       "  </tbody>\n",
       "</table>\n",
       "<p>5 rows × 108 columns</p>\n",
       "</div>"
      ],
      "text/plain": [
       "   id                  path   t1   t2   winding  phase  pred_phase type_of  \\\n",
       "0   0  H_-2_-2_0.509296.dat -2.0 -2.0  0.509296    999         666    test   \n",
       "1   0  H_-2_-2_0.509296.dat -2.0 -2.0  0.509296    999         666    test   \n",
       "2   0  H_-2_-2_0.509296.dat -2.0 -2.0  0.509296    999         666    test   \n",
       "3   0  H_-2_-2_0.509296.dat -2.0 -2.0  0.509296    999         666    test   \n",
       "4   0  H_-2_-2_0.509296.dat -2.0 -2.0  0.509296    999         666    test   \n",
       "\n",
       "      feat0     feat1  ...    feat90    feat91    feat92    feat93    feat94  \\\n",
       "0  0.100000  0.100000  ...  0.100000  0.100000  0.100000  0.100000  0.100000   \n",
       "1  0.141421  0.141142  ...  0.114412  0.108967  0.123928  0.119406  0.131490   \n",
       "2  0.141421  0.140306  ...  0.043702  0.026500  0.075777  0.060214  0.103092   \n",
       "3 -0.100000  0.100000  ... -0.100000  0.100000 -0.100000  0.100000 -0.100000   \n",
       "4  0.000509 -0.008372  ... -0.082713 -0.089753 -0.067684 -0.075347 -0.051587   \n",
       "\n",
       "     feat95    feat96    feat97    feat98    feat99  \n",
       "0  0.100000  0.100000  0.100000  0.100000  0.100000  \n",
       "1  0.127962  0.136978  0.134500  0.140306  0.138916  \n",
       "2  0.090145  0.123928  0.114412  0.136978  0.131490  \n",
       "3  0.100000 -0.100000  0.100000 -0.100000  0.100000  \n",
       "4 -0.059753 -0.034677 -0.043217 -0.017220 -0.026000  \n",
       "\n",
       "[5 rows x 108 columns]"
      ]
     },
     "execution_count": 5,
     "metadata": {},
     "output_type": "execute_result"
    }
   ],
   "source": [
    "%%time\n",
    "#Starting an instance of Simulation with a decision tree\n",
    "model = DecisionTreeClassifier(criterion=\"entropy\")\n",
    "#dict_args = {\"csv_path\":csv_path, \"model\":model, \"allowed_windings\":allowed_windings,\\\n",
    "#             \"simulation_dir\":simulation_dir, \"val_split\":val_split, \"features_to_use\":features_to_use,\\\n",
    "#            \"shuffle_features\":shuffle_features, \"random_state\":random_state}\n",
    "simulation = Simulation(csv_path,model_name,model_kw,allowed_windings,simulation_dir,val_split,features_to_use,\\\n",
    "                       shuffle_features,random_state)\n",
    "#simulation = Simulation(**dict_args)\n",
    "\n",
    "print(\"Info on all data: \\n\")\n",
    "simulation.dataframe.info()\n",
    "simulation.dataframe.head()"
   ]
  },
  {
   "cell_type": "markdown",
   "metadata": {
    "papermill": {
     "duration": 0.017849,
     "end_time": "2020-07-08T05:33:41.938306",
     "exception": false,
     "start_time": "2020-07-08T05:33:41.920457",
     "status": "completed"
    },
    "tags": []
   },
   "source": [
    "#### Generating Fourier engineered features"
   ]
  },
  {
   "cell_type": "code",
   "execution_count": 6,
   "metadata": {
    "execution": {
     "iopub.execute_input": "2020-07-08T05:33:41.974213Z",
     "iopub.status.busy": "2020-07-08T05:33:41.973903Z",
     "iopub.status.idle": "2020-07-08T05:33:42.577590Z",
     "shell.execute_reply": "2020-07-08T05:33:42.577893Z"
    },
    "papermill": {
     "duration": 0.621748,
     "end_time": "2020-07-08T05:33:42.577958",
     "exception": false,
     "start_time": "2020-07-08T05:33:41.956210",
     "status": "completed"
    },
    "tags": []
   },
   "outputs": [
    {
     "name": "stdout",
     "output_type": "stream",
     "text": [
      "<class 'pandas.core.frame.DataFrame'>\n",
      "Int64Index: 656100 entries, 0 to 656099\n",
      "Data columns (total 59 columns):\n",
      " #   Column      Non-Null Count   Dtype  \n",
      "---  ------      --------------   -----  \n",
      " 0   id          656100 non-null  int32  \n",
      " 1   path        656100 non-null  object \n",
      " 2   t1          656100 non-null  float64\n",
      " 3   t2          656100 non-null  float64\n",
      " 4   winding     656100 non-null  float64\n",
      " 5   phase       656100 non-null  int32  \n",
      " 6   pred_phase  656100 non-null  int32  \n",
      " 7   type_of     656100 non-null  object \n",
      " 8   dct_feat0   656100 non-null  float64\n",
      " 9   dct_feat1   656100 non-null  float64\n",
      " 10  dct_feat2   656100 non-null  float64\n",
      " 11  dct_feat3   656100 non-null  float64\n",
      " 12  dct_feat4   656100 non-null  float64\n",
      " 13  dct_feat5   656100 non-null  float64\n",
      " 14  dct_feat6   656100 non-null  float64\n",
      " 15  dct_feat7   656100 non-null  float64\n",
      " 16  dct_feat8   656100 non-null  float64\n",
      " 17  dct_feat9   656100 non-null  float64\n",
      " 18  dct_feat10  656100 non-null  float64\n",
      " 19  dct_feat11  656100 non-null  float64\n",
      " 20  dct_feat12  656100 non-null  float64\n",
      " 21  dct_feat13  656100 non-null  float64\n",
      " 22  dct_feat14  656100 non-null  float64\n",
      " 23  dct_feat15  656100 non-null  float64\n",
      " 24  dct_feat16  656100 non-null  float64\n",
      " 25  dct_feat17  656100 non-null  float64\n",
      " 26  dct_feat18  656100 non-null  float64\n",
      " 27  dct_feat19  656100 non-null  float64\n",
      " 28  dct_feat20  656100 non-null  float64\n",
      " 29  dct_feat21  656100 non-null  float64\n",
      " 30  dct_feat22  656100 non-null  float64\n",
      " 31  dct_feat23  656100 non-null  float64\n",
      " 32  dct_feat24  656100 non-null  float64\n",
      " 33  dct_feat25  656100 non-null  float64\n",
      " 34  dct_feat26  656100 non-null  float64\n",
      " 35  dct_feat27  656100 non-null  float64\n",
      " 36  dct_feat28  656100 non-null  float64\n",
      " 37  dct_feat29  656100 non-null  float64\n",
      " 38  dct_feat30  656100 non-null  float64\n",
      " 39  dct_feat31  656100 non-null  float64\n",
      " 40  dct_feat32  656100 non-null  float64\n",
      " 41  dct_feat33  656100 non-null  float64\n",
      " 42  dct_feat34  656100 non-null  float64\n",
      " 43  dct_feat35  656100 non-null  float64\n",
      " 44  dct_feat36  656100 non-null  float64\n",
      " 45  dct_feat37  656100 non-null  float64\n",
      " 46  dct_feat38  656100 non-null  float64\n",
      " 47  dct_feat39  656100 non-null  float64\n",
      " 48  dct_feat40  656100 non-null  float64\n",
      " 49  dct_feat41  656100 non-null  float64\n",
      " 50  dct_feat42  656100 non-null  float64\n",
      " 51  dct_feat43  656100 non-null  float64\n",
      " 52  dct_feat44  656100 non-null  float64\n",
      " 53  dct_feat45  656100 non-null  float64\n",
      " 54  dct_feat46  656100 non-null  float64\n",
      " 55  dct_feat47  656100 non-null  float64\n",
      " 56  dct_feat48  656100 non-null  float64\n",
      " 57  dct_feat49  656100 non-null  float64\n",
      " 58  dct_feat50  656100 non-null  float64\n",
      "dtypes: float64(54), int32(3), object(2)\n",
      "memory usage: 292.8+ MB\n",
      "CPU times: user 1.11 s, sys: 313 ms, total: 1.42 s\n",
      "Wall time: 578 ms\n"
     ]
    },
    {
     "data": {
      "text/html": [
       "<div>\n",
       "<style scoped>\n",
       "    .dataframe tbody tr th:only-of-type {\n",
       "        vertical-align: middle;\n",
       "    }\n",
       "\n",
       "    .dataframe tbody tr th {\n",
       "        vertical-align: top;\n",
       "    }\n",
       "\n",
       "    .dataframe thead th {\n",
       "        text-align: right;\n",
       "    }\n",
       "</style>\n",
       "<table border=\"1\" class=\"dataframe\">\n",
       "  <thead>\n",
       "    <tr style=\"text-align: right;\">\n",
       "      <th></th>\n",
       "      <th>id</th>\n",
       "      <th>path</th>\n",
       "      <th>t1</th>\n",
       "      <th>t2</th>\n",
       "      <th>winding</th>\n",
       "      <th>phase</th>\n",
       "      <th>pred_phase</th>\n",
       "      <th>type_of</th>\n",
       "      <th>dct_feat0</th>\n",
       "      <th>dct_feat1</th>\n",
       "      <th>...</th>\n",
       "      <th>dct_feat41</th>\n",
       "      <th>dct_feat42</th>\n",
       "      <th>dct_feat43</th>\n",
       "      <th>dct_feat44</th>\n",
       "      <th>dct_feat45</th>\n",
       "      <th>dct_feat46</th>\n",
       "      <th>dct_feat47</th>\n",
       "      <th>dct_feat48</th>\n",
       "      <th>dct_feat49</th>\n",
       "      <th>dct_feat50</th>\n",
       "    </tr>\n",
       "  </thead>\n",
       "  <tbody>\n",
       "    <tr>\n",
       "      <th>123992</th>\n",
       "      <td>1239</td>\n",
       "      <td>H_-1.25_-0.8_-0.00472947.dat</td>\n",
       "      <td>-1.25</td>\n",
       "      <td>-0.80</td>\n",
       "      <td>-0.004729</td>\n",
       "      <td>0</td>\n",
       "      <td>666</td>\n",
       "      <td>train</td>\n",
       "      <td>0.001039</td>\n",
       "      <td>-0.196129</td>\n",
       "      <td>...</td>\n",
       "      <td>-0.006508</td>\n",
       "      <td>0.002098</td>\n",
       "      <td>0.002281</td>\n",
       "      <td>0.002098</td>\n",
       "      <td>0.007393</td>\n",
       "      <td>0.002098</td>\n",
       "      <td>0.010245</td>\n",
       "      <td>0.002098</td>\n",
       "      <td>0.011527</td>\n",
       "      <td>0.001049</td>\n",
       "    </tr>\n",
       "    <tr>\n",
       "      <th>461475</th>\n",
       "      <td>4614</td>\n",
       "      <td>H_0.8_1.9_1.00462.dat</td>\n",
       "      <td>0.80</td>\n",
       "      <td>1.90</td>\n",
       "      <td>1.004619</td>\n",
       "      <td>1</td>\n",
       "      <td>666</td>\n",
       "      <td>train</td>\n",
       "      <td>0.030713</td>\n",
       "      <td>-0.022455</td>\n",
       "      <td>...</td>\n",
       "      <td>-0.022449</td>\n",
       "      <td>0.786441</td>\n",
       "      <td>-0.022452</td>\n",
       "      <td>0.609192</td>\n",
       "      <td>-0.022455</td>\n",
       "      <td>0.522540</td>\n",
       "      <td>-0.022459</td>\n",
       "      <td>0.480718</td>\n",
       "      <td>-0.022453</td>\n",
       "      <td>0.234057</td>\n",
       "    </tr>\n",
       "    <tr>\n",
       "      <th>511736</th>\n",
       "      <td>5117</td>\n",
       "      <td>H_1.15_-1.3_1.00103.dat</td>\n",
       "      <td>1.15</td>\n",
       "      <td>-1.30</td>\n",
       "      <td>1.001030</td>\n",
       "      <td>1</td>\n",
       "      <td>666</td>\n",
       "      <td>train</td>\n",
       "      <td>0.141422</td>\n",
       "      <td>-0.373135</td>\n",
       "      <td>...</td>\n",
       "      <td>-1.308869</td>\n",
       "      <td>1.061243</td>\n",
       "      <td>1.519320</td>\n",
       "      <td>0.282839</td>\n",
       "      <td>0.593891</td>\n",
       "      <td>0.282841</td>\n",
       "      <td>0.425365</td>\n",
       "      <td>0.282840</td>\n",
       "      <td>0.373135</td>\n",
       "      <td>0.141422</td>\n",
       "    </tr>\n",
       "    <tr>\n",
       "      <th>90988</th>\n",
       "      <td>909</td>\n",
       "      <td>H_-1.45_-1.1_-0.00828906.dat</td>\n",
       "      <td>-1.45</td>\n",
       "      <td>-1.10</td>\n",
       "      <td>-0.008289</td>\n",
       "      <td>0</td>\n",
       "      <td>666</td>\n",
       "      <td>train</td>\n",
       "      <td>-0.075083</td>\n",
       "      <td>-0.038698</td>\n",
       "      <td>...</td>\n",
       "      <td>-0.038698</td>\n",
       "      <td>-1.175115</td>\n",
       "      <td>-0.038696</td>\n",
       "      <td>-0.771173</td>\n",
       "      <td>-0.038693</td>\n",
       "      <td>-0.614875</td>\n",
       "      <td>-0.038693</td>\n",
       "      <td>-0.546855</td>\n",
       "      <td>-0.038690</td>\n",
       "      <td>-0.263599</td>\n",
       "    </tr>\n",
       "    <tr>\n",
       "      <th>333416</th>\n",
       "      <td>3334</td>\n",
       "      <td>H_0.05_-1.35_1.00258.dat</td>\n",
       "      <td>0.05</td>\n",
       "      <td>-1.35</td>\n",
       "      <td>1.002581</td>\n",
       "      <td>1</td>\n",
       "      <td>666</td>\n",
       "      <td>train</td>\n",
       "      <td>0.260115</td>\n",
       "      <td>0.005064</td>\n",
       "      <td>...</td>\n",
       "      <td>-3.431726</td>\n",
       "      <td>1.984081</td>\n",
       "      <td>0.005058</td>\n",
       "      <td>0.712599</td>\n",
       "      <td>0.005061</td>\n",
       "      <td>0.475863</td>\n",
       "      <td>0.005060</td>\n",
       "      <td>0.393114</td>\n",
       "      <td>0.005054</td>\n",
       "      <td>0.185511</td>\n",
       "    </tr>\n",
       "    <tr>\n",
       "      <th>396295</th>\n",
       "      <td>3962</td>\n",
       "      <td>H_0.4_1.7_1.0035.dat</td>\n",
       "      <td>0.40</td>\n",
       "      <td>1.70</td>\n",
       "      <td>1.003499</td>\n",
       "      <td>1</td>\n",
       "      <td>666</td>\n",
       "      <td>train</td>\n",
       "      <td>-0.247645</td>\n",
       "      <td>-0.003427</td>\n",
       "      <td>...</td>\n",
       "      <td>-0.003433</td>\n",
       "      <td>-0.114152</td>\n",
       "      <td>-0.003428</td>\n",
       "      <td>-0.069822</td>\n",
       "      <td>-0.003424</td>\n",
       "      <td>-0.048779</td>\n",
       "      <td>-0.003421</td>\n",
       "      <td>-0.038843</td>\n",
       "      <td>-0.003428</td>\n",
       "      <td>-0.017943</td>\n",
       "    </tr>\n",
       "    <tr>\n",
       "      <th>510207</th>\n",
       "      <td>5102</td>\n",
       "      <td>H_1.1_2_1.00594.dat</td>\n",
       "      <td>1.10</td>\n",
       "      <td>2.00</td>\n",
       "      <td>1.005935</td>\n",
       "      <td>1</td>\n",
       "      <td>666</td>\n",
       "      <td>train</td>\n",
       "      <td>0.000895</td>\n",
       "      <td>5.877636</td>\n",
       "      <td>...</td>\n",
       "      <td>-0.023649</td>\n",
       "      <td>0.001793</td>\n",
       "      <td>-0.026317</td>\n",
       "      <td>0.001789</td>\n",
       "      <td>-0.034886</td>\n",
       "      <td>0.001788</td>\n",
       "      <td>-0.088632</td>\n",
       "      <td>1.006868</td>\n",
       "      <td>0.100614</td>\n",
       "      <td>0.000895</td>\n",
       "    </tr>\n",
       "    <tr>\n",
       "      <th>37527</th>\n",
       "      <td>375</td>\n",
       "      <td>H_-1.8_0.55_0.000626214.dat</td>\n",
       "      <td>-1.80</td>\n",
       "      <td>0.55</td>\n",
       "      <td>0.000626</td>\n",
       "      <td>0</td>\n",
       "      <td>666</td>\n",
       "      <td>train</td>\n",
       "      <td>0.141421</td>\n",
       "      <td>-0.252601</td>\n",
       "      <td>...</td>\n",
       "      <td>0.328316</td>\n",
       "      <td>0.282840</td>\n",
       "      <td>0.293403</td>\n",
       "      <td>0.282846</td>\n",
       "      <td>0.271799</td>\n",
       "      <td>0.282846</td>\n",
       "      <td>0.259074</td>\n",
       "      <td>0.282842</td>\n",
       "      <td>0.253154</td>\n",
       "      <td>0.141421</td>\n",
       "    </tr>\n",
       "    <tr>\n",
       "      <th>575821</th>\n",
       "      <td>5758</td>\n",
       "      <td>H_1.55_-1.65_0.984575.dat</td>\n",
       "      <td>1.55</td>\n",
       "      <td>-1.65</td>\n",
       "      <td>0.984575</td>\n",
       "      <td>1</td>\n",
       "      <td>666</td>\n",
       "      <td>test</td>\n",
       "      <td>0.009438</td>\n",
       "      <td>0.285341</td>\n",
       "      <td>...</td>\n",
       "      <td>-0.104122</td>\n",
       "      <td>0.018876</td>\n",
       "      <td>-0.103476</td>\n",
       "      <td>0.018876</td>\n",
       "      <td>-0.102467</td>\n",
       "      <td>0.018876</td>\n",
       "      <td>-0.101615</td>\n",
       "      <td>0.018876</td>\n",
       "      <td>-0.101146</td>\n",
       "      <td>0.009448</td>\n",
       "    </tr>\n",
       "    <tr>\n",
       "      <th>211574</th>\n",
       "      <td>2115</td>\n",
       "      <td>H_-0.7_-1.55_1.00488.dat</td>\n",
       "      <td>-0.70</td>\n",
       "      <td>-1.55</td>\n",
       "      <td>1.004875</td>\n",
       "      <td>1</td>\n",
       "      <td>666</td>\n",
       "      <td>train</td>\n",
       "      <td>-0.220161</td>\n",
       "      <td>-0.282840</td>\n",
       "      <td>...</td>\n",
       "      <td>-0.282839</td>\n",
       "      <td>0.902457</td>\n",
       "      <td>-0.282844</td>\n",
       "      <td>0.615987</td>\n",
       "      <td>-0.282843</td>\n",
       "      <td>0.504439</td>\n",
       "      <td>-0.282840</td>\n",
       "      <td>0.455647</td>\n",
       "      <td>-0.282842</td>\n",
       "      <td>0.220751</td>\n",
       "    </tr>\n",
       "    <tr>\n",
       "      <th>129589</th>\n",
       "      <td>1295</td>\n",
       "      <td>H_-1.25_2_1.00165.dat</td>\n",
       "      <td>-1.25</td>\n",
       "      <td>2.00</td>\n",
       "      <td>1.001647</td>\n",
       "      <td>1</td>\n",
       "      <td>666</td>\n",
       "      <td>train</td>\n",
       "      <td>0.140713</td>\n",
       "      <td>0.505166</td>\n",
       "      <td>...</td>\n",
       "      <td>1.370663</td>\n",
       "      <td>6.098996</td>\n",
       "      <td>-1.607926</td>\n",
       "      <td>0.281422</td>\n",
       "      <td>-0.633000</td>\n",
       "      <td>0.281416</td>\n",
       "      <td>-0.455372</td>\n",
       "      <td>0.281414</td>\n",
       "      <td>-0.400299</td>\n",
       "      <td>0.140711</td>\n",
       "    </tr>\n",
       "    <tr>\n",
       "      <th>456161</th>\n",
       "      <td>4561</td>\n",
       "      <td>H_0.8_-0.75_0.0161184.dat</td>\n",
       "      <td>0.80</td>\n",
       "      <td>-0.75</td>\n",
       "      <td>0.016118</td>\n",
       "      <td>0</td>\n",
       "      <td>666</td>\n",
       "      <td>test</td>\n",
       "      <td>0.193720</td>\n",
       "      <td>0.282839</td>\n",
       "      <td>...</td>\n",
       "      <td>0.282838</td>\n",
       "      <td>1.211651</td>\n",
       "      <td>6.690293</td>\n",
       "      <td>-1.426755</td>\n",
       "      <td>0.282843</td>\n",
       "      <td>-0.569578</td>\n",
       "      <td>0.282841</td>\n",
       "      <td>-0.420849</td>\n",
       "      <td>0.282840</td>\n",
       "      <td>-0.193720</td>\n",
       "    </tr>\n",
       "    <tr>\n",
       "      <th>405668</th>\n",
       "      <td>4056</td>\n",
       "      <td>H_0.5_-1.7_1.00207.dat</td>\n",
       "      <td>0.50</td>\n",
       "      <td>-1.70</td>\n",
       "      <td>1.002068</td>\n",
       "      <td>1</td>\n",
       "      <td>666</td>\n",
       "      <td>train</td>\n",
       "      <td>0.141421</td>\n",
       "      <td>0.086405</td>\n",
       "      <td>...</td>\n",
       "      <td>-0.143283</td>\n",
       "      <td>0.282846</td>\n",
       "      <td>-0.114073</td>\n",
       "      <td>0.282841</td>\n",
       "      <td>-0.099207</td>\n",
       "      <td>0.282842</td>\n",
       "      <td>-0.091362</td>\n",
       "      <td>0.282837</td>\n",
       "      <td>-0.087905</td>\n",
       "      <td>0.141417</td>\n",
       "    </tr>\n",
       "    <tr>\n",
       "      <th>393965</th>\n",
       "      <td>3939</td>\n",
       "      <td>H_0.4_0.55_1.00973.dat</td>\n",
       "      <td>0.40</td>\n",
       "      <td>0.55</td>\n",
       "      <td>1.009734</td>\n",
       "      <td>1</td>\n",
       "      <td>666</td>\n",
       "      <td>train</td>\n",
       "      <td>0.141033</td>\n",
       "      <td>0.066850</td>\n",
       "      <td>...</td>\n",
       "      <td>-0.100776</td>\n",
       "      <td>0.282076</td>\n",
       "      <td>-0.091591</td>\n",
       "      <td>0.282076</td>\n",
       "      <td>-0.085675</td>\n",
       "      <td>0.282076</td>\n",
       "      <td>-0.082112</td>\n",
       "      <td>0.282076</td>\n",
       "      <td>-0.080432</td>\n",
       "      <td>0.141033</td>\n",
       "    </tr>\n",
       "    <tr>\n",
       "      <th>517109</th>\n",
       "      <td>5171</td>\n",
       "      <td>H_1.15_1.4_1.01463.dat</td>\n",
       "      <td>1.15</td>\n",
       "      <td>1.40</td>\n",
       "      <td>1.014635</td>\n",
       "      <td>1</td>\n",
       "      <td>666</td>\n",
       "      <td>test</td>\n",
       "      <td>1.445535</td>\n",
       "      <td>0.008133</td>\n",
       "      <td>...</td>\n",
       "      <td>0.008135</td>\n",
       "      <td>-0.044109</td>\n",
       "      <td>0.008132</td>\n",
       "      <td>-0.060174</td>\n",
       "      <td>0.008136</td>\n",
       "      <td>-0.154174</td>\n",
       "      <td>1.378183</td>\n",
       "      <td>0.152438</td>\n",
       "      <td>0.008129</td>\n",
       "      <td>0.036565</td>\n",
       "    </tr>\n",
       "  </tbody>\n",
       "</table>\n",
       "<p>15 rows × 59 columns</p>\n",
       "</div>"
      ],
      "text/plain": [
       "          id                          path    t1    t2   winding  phase  \\\n",
       "123992  1239  H_-1.25_-0.8_-0.00472947.dat -1.25 -0.80 -0.004729      0   \n",
       "461475  4614         H_0.8_1.9_1.00462.dat  0.80  1.90  1.004619      1   \n",
       "511736  5117       H_1.15_-1.3_1.00103.dat  1.15 -1.30  1.001030      1   \n",
       "90988    909  H_-1.45_-1.1_-0.00828906.dat -1.45 -1.10 -0.008289      0   \n",
       "333416  3334      H_0.05_-1.35_1.00258.dat  0.05 -1.35  1.002581      1   \n",
       "396295  3962          H_0.4_1.7_1.0035.dat  0.40  1.70  1.003499      1   \n",
       "510207  5102           H_1.1_2_1.00594.dat  1.10  2.00  1.005935      1   \n",
       "37527    375   H_-1.8_0.55_0.000626214.dat -1.80  0.55  0.000626      0   \n",
       "575821  5758     H_1.55_-1.65_0.984575.dat  1.55 -1.65  0.984575      1   \n",
       "211574  2115      H_-0.7_-1.55_1.00488.dat -0.70 -1.55  1.004875      1   \n",
       "129589  1295         H_-1.25_2_1.00165.dat -1.25  2.00  1.001647      1   \n",
       "456161  4561     H_0.8_-0.75_0.0161184.dat  0.80 -0.75  0.016118      0   \n",
       "405668  4056        H_0.5_-1.7_1.00207.dat  0.50 -1.70  1.002068      1   \n",
       "393965  3939        H_0.4_0.55_1.00973.dat  0.40  0.55  1.009734      1   \n",
       "517109  5171        H_1.15_1.4_1.01463.dat  1.15  1.40  1.014635      1   \n",
       "\n",
       "        pred_phase type_of  dct_feat0  dct_feat1  ...  dct_feat41  dct_feat42  \\\n",
       "123992         666   train   0.001039  -0.196129  ...   -0.006508    0.002098   \n",
       "461475         666   train   0.030713  -0.022455  ...   -0.022449    0.786441   \n",
       "511736         666   train   0.141422  -0.373135  ...   -1.308869    1.061243   \n",
       "90988          666   train  -0.075083  -0.038698  ...   -0.038698   -1.175115   \n",
       "333416         666   train   0.260115   0.005064  ...   -3.431726    1.984081   \n",
       "396295         666   train  -0.247645  -0.003427  ...   -0.003433   -0.114152   \n",
       "510207         666   train   0.000895   5.877636  ...   -0.023649    0.001793   \n",
       "37527          666   train   0.141421  -0.252601  ...    0.328316    0.282840   \n",
       "575821         666    test   0.009438   0.285341  ...   -0.104122    0.018876   \n",
       "211574         666   train  -0.220161  -0.282840  ...   -0.282839    0.902457   \n",
       "129589         666   train   0.140713   0.505166  ...    1.370663    6.098996   \n",
       "456161         666    test   0.193720   0.282839  ...    0.282838    1.211651   \n",
       "405668         666   train   0.141421   0.086405  ...   -0.143283    0.282846   \n",
       "393965         666   train   0.141033   0.066850  ...   -0.100776    0.282076   \n",
       "517109         666    test   1.445535   0.008133  ...    0.008135   -0.044109   \n",
       "\n",
       "        dct_feat43  dct_feat44  dct_feat45  dct_feat46  dct_feat47  \\\n",
       "123992    0.002281    0.002098    0.007393    0.002098    0.010245   \n",
       "461475   -0.022452    0.609192   -0.022455    0.522540   -0.022459   \n",
       "511736    1.519320    0.282839    0.593891    0.282841    0.425365   \n",
       "90988    -0.038696   -0.771173   -0.038693   -0.614875   -0.038693   \n",
       "333416    0.005058    0.712599    0.005061    0.475863    0.005060   \n",
       "396295   -0.003428   -0.069822   -0.003424   -0.048779   -0.003421   \n",
       "510207   -0.026317    0.001789   -0.034886    0.001788   -0.088632   \n",
       "37527     0.293403    0.282846    0.271799    0.282846    0.259074   \n",
       "575821   -0.103476    0.018876   -0.102467    0.018876   -0.101615   \n",
       "211574   -0.282844    0.615987   -0.282843    0.504439   -0.282840   \n",
       "129589   -1.607926    0.281422   -0.633000    0.281416   -0.455372   \n",
       "456161    6.690293   -1.426755    0.282843   -0.569578    0.282841   \n",
       "405668   -0.114073    0.282841   -0.099207    0.282842   -0.091362   \n",
       "393965   -0.091591    0.282076   -0.085675    0.282076   -0.082112   \n",
       "517109    0.008132   -0.060174    0.008136   -0.154174    1.378183   \n",
       "\n",
       "        dct_feat48  dct_feat49  dct_feat50  \n",
       "123992    0.002098    0.011527    0.001049  \n",
       "461475    0.480718   -0.022453    0.234057  \n",
       "511736    0.282840    0.373135    0.141422  \n",
       "90988    -0.546855   -0.038690   -0.263599  \n",
       "333416    0.393114    0.005054    0.185511  \n",
       "396295   -0.038843   -0.003428   -0.017943  \n",
       "510207    1.006868    0.100614    0.000895  \n",
       "37527     0.282842    0.253154    0.141421  \n",
       "575821    0.018876   -0.101146    0.009448  \n",
       "211574    0.455647   -0.282842    0.220751  \n",
       "129589    0.281414   -0.400299    0.140711  \n",
       "456161   -0.420849    0.282840   -0.193720  \n",
       "405668    0.282837   -0.087905    0.141417  \n",
       "393965    0.282076   -0.080432    0.141033  \n",
       "517109    0.152438    0.008129    0.036565  \n",
       "\n",
       "[15 rows x 59 columns]"
      ]
     },
     "execution_count": 6,
     "metadata": {},
     "output_type": "execute_result"
    }
   ],
   "source": [
    "%%time\n",
    "simulation.engineer_fourier_features(fourier_features,mode,real,normalize,fillna)\n",
    "simulation.fourier_engineered_dataframe.info() \n",
    "simulation.fourier_engineered_dataframe.sample(15)"
   ]
  },
  {
   "cell_type": "code",
   "execution_count": 7,
   "metadata": {
    "execution": {
     "iopub.execute_input": "2020-07-08T05:33:42.614353Z",
     "iopub.status.busy": "2020-07-08T05:33:42.614026Z",
     "iopub.status.idle": "2020-07-08T05:33:42.623716Z",
     "shell.execute_reply": "2020-07-08T05:33:42.623378Z"
    },
    "papermill": {
     "duration": 0.028158,
     "end_time": "2020-07-08T05:33:42.623770",
     "exception": false,
     "start_time": "2020-07-08T05:33:42.595612",
     "status": "completed"
    },
    "tags": []
   },
   "outputs": [],
   "source": [
    "#simulation.dataframe.iloc[331456,:]"
   ]
  },
  {
   "cell_type": "code",
   "execution_count": 8,
   "metadata": {
    "execution": {
     "iopub.execute_input": "2020-07-08T05:33:42.659198Z",
     "iopub.status.busy": "2020-07-08T05:33:42.658890Z",
     "iopub.status.idle": "2020-07-08T05:33:42.711145Z",
     "shell.execute_reply": "2020-07-08T05:33:42.711582Z"
    },
    "papermill": {
     "duration": 0.070901,
     "end_time": "2020-07-08T05:33:42.711672",
     "exception": false,
     "start_time": "2020-07-08T05:33:42.640771",
     "status": "completed"
    },
    "tags": []
   },
   "outputs": [],
   "source": [
    "#for ix, obj in enumerate(simulation.dataframe.iloc[331456,:].values):\n",
    "#    print(ix,obj)"
   ]
  },
  {
   "cell_type": "code",
   "execution_count": 9,
   "metadata": {
    "execution": {
     "iopub.execute_input": "2020-07-08T05:33:42.762545Z",
     "iopub.status.busy": "2020-07-08T05:33:42.762235Z",
     "iopub.status.idle": "2020-07-08T05:33:42.778271Z",
     "shell.execute_reply": "2020-07-08T05:33:42.778623Z"
    },
    "papermill": {
     "duration": 0.037564,
     "end_time": "2020-07-08T05:33:42.778699",
     "exception": false,
     "start_time": "2020-07-08T05:33:42.741135",
     "status": "completed"
    },
    "tags": []
   },
   "outputs": [],
   "source": [
    "#simulation.fourier_engineered_dataframe.dct_feat0"
   ]
  },
  {
   "cell_type": "code",
   "execution_count": 10,
   "metadata": {
    "execution": {
     "iopub.execute_input": "2020-07-08T05:33:42.820114Z",
     "iopub.status.busy": "2020-07-08T05:33:42.819808Z",
     "iopub.status.idle": "2020-07-08T05:33:42.900801Z",
     "shell.execute_reply": "2020-07-08T05:33:42.901638Z"
    },
    "papermill": {
     "duration": 0.102307,
     "end_time": "2020-07-08T05:33:42.901861",
     "exception": false,
     "start_time": "2020-07-08T05:33:42.799554",
     "status": "completed"
    },
    "tags": []
   },
   "outputs": [],
   "source": [
    "#simulation.features"
   ]
  },
  {
   "cell_type": "code",
   "execution_count": 11,
   "metadata": {
    "execution": {
     "iopub.execute_input": "2020-07-08T05:33:42.978250Z",
     "iopub.status.busy": "2020-07-08T05:33:42.977915Z",
     "iopub.status.idle": "2020-07-08T05:33:42.987929Z",
     "shell.execute_reply": "2020-07-08T05:33:42.987601Z"
    },
    "papermill": {
     "duration": 0.031936,
     "end_time": "2020-07-08T05:33:42.987982",
     "exception": false,
     "start_time": "2020-07-08T05:33:42.956046",
     "status": "completed"
    },
    "tags": []
   },
   "outputs": [],
   "source": [
    "#simulation.fourier_matrix"
   ]
  },
  {
   "cell_type": "code",
   "execution_count": 12,
   "metadata": {
    "execution": {
     "iopub.execute_input": "2020-07-08T05:33:43.023163Z",
     "iopub.status.busy": "2020-07-08T05:33:43.022859Z",
     "iopub.status.idle": "2020-07-08T05:33:43.081165Z",
     "shell.execute_reply": "2020-07-08T05:33:43.079420Z"
    },
    "papermill": {
     "duration": 0.076588,
     "end_time": "2020-07-08T05:33:43.081416",
     "exception": false,
     "start_time": "2020-07-08T05:33:43.004828",
     "status": "completed"
    },
    "tags": []
   },
   "outputs": [],
   "source": [
    "#1/simulation.n_features*simulation.dataframe.loc[:,simulation.features].sum(axis=1)"
   ]
  },
  {
   "cell_type": "code",
   "execution_count": 13,
   "metadata": {
    "execution": {
     "iopub.execute_input": "2020-07-08T05:33:43.156894Z",
     "iopub.status.busy": "2020-07-08T05:33:43.156584Z",
     "iopub.status.idle": "2020-07-08T05:33:43.166277Z",
     "shell.execute_reply": "2020-07-08T05:33:43.165951Z"
    },
    "papermill": {
     "duration": 0.030701,
     "end_time": "2020-07-08T05:33:43.166331",
     "exception": false,
     "start_time": "2020-07-08T05:33:43.135630",
     "status": "completed"
    },
    "tags": []
   },
   "outputs": [],
   "source": [
    "#df_2 = simulation.fourier_engineered_dataframe[simulation.fourier_engineered_dataframe.phase==2]\n",
    "#df_2.describe()"
   ]
  },
  {
   "cell_type": "code",
   "execution_count": 14,
   "metadata": {
    "execution": {
     "iopub.execute_input": "2020-07-08T05:33:43.201607Z",
     "iopub.status.busy": "2020-07-08T05:33:43.201304Z",
     "iopub.status.idle": "2020-07-08T05:33:43.284827Z",
     "shell.execute_reply": "2020-07-08T05:33:43.283829Z"
    },
    "papermill": {
     "duration": 0.101834,
     "end_time": "2020-07-08T05:33:43.284970",
     "exception": false,
     "start_time": "2020-07-08T05:33:43.183136",
     "status": "completed"
    },
    "tags": []
   },
   "outputs": [],
   "source": [
    "#df_1 = simulation.fourier_engineered_dataframe[simulation.fourier_engineered_dataframe.phase==1]\n",
    "#df_1.describe()"
   ]
  },
  {
   "cell_type": "code",
   "execution_count": 15,
   "metadata": {
    "execution": {
     "iopub.execute_input": "2020-07-08T05:33:43.362835Z",
     "iopub.status.busy": "2020-07-08T05:33:43.362527Z",
     "iopub.status.idle": "2020-07-08T05:33:43.372266Z",
     "shell.execute_reply": "2020-07-08T05:33:43.371949Z"
    },
    "papermill": {
     "duration": 0.031753,
     "end_time": "2020-07-08T05:33:43.372319",
     "exception": false,
     "start_time": "2020-07-08T05:33:43.340566",
     "status": "completed"
    },
    "tags": []
   },
   "outputs": [],
   "source": [
    "#df_0 = simulation.fourier_engineered_dataframe[simulation.fourier_engineered_dataframe.phase==0]\n",
    "#df_0.describe()"
   ]
  },
  {
   "cell_type": "code",
   "execution_count": 16,
   "metadata": {
    "execution": {
     "iopub.execute_input": "2020-07-08T05:33:43.407946Z",
     "iopub.status.busy": "2020-07-08T05:33:43.407641Z",
     "iopub.status.idle": "2020-07-08T05:33:43.465557Z",
     "shell.execute_reply": "2020-07-08T05:33:43.465077Z"
    },
    "papermill": {
     "duration": 0.076295,
     "end_time": "2020-07-08T05:33:43.465629",
     "exception": false,
     "start_time": "2020-07-08T05:33:43.389334",
     "status": "completed"
    },
    "tags": []
   },
   "outputs": [],
   "source": [
    "#plt.figure(figsize=(10,10))\n",
    "#plt.scatter(df_1.fourier_feat0,df_1.fourier_feat2)\n",
    "#plt.scatter(df_0.fourier_feat0,df_0.fourier_feat2,alpha=0.4)"
   ]
  },
  {
   "cell_type": "code",
   "execution_count": 17,
   "metadata": {
    "execution": {
     "iopub.execute_input": "2020-07-08T05:33:43.523178Z",
     "iopub.status.busy": "2020-07-08T05:33:43.522870Z",
     "iopub.status.idle": "2020-07-08T05:33:43.532436Z",
     "shell.execute_reply": "2020-07-08T05:33:43.532105Z"
    },
    "papermill": {
     "duration": 0.034253,
     "end_time": "2020-07-08T05:33:43.532488",
     "exception": false,
     "start_time": "2020-07-08T05:33:43.498235",
     "status": "completed"
    },
    "tags": []
   },
   "outputs": [],
   "source": [
    "#plt.scatter(df_0.fourier_feat0,df_0.fourier_feat2,alpha=0.4)"
   ]
  },
  {
   "cell_type": "code",
   "execution_count": 18,
   "metadata": {
    "execution": {
     "iopub.execute_input": "2020-07-08T05:33:43.568231Z",
     "iopub.status.busy": "2020-07-08T05:33:43.567925Z",
     "iopub.status.idle": "2020-07-08T05:33:43.624133Z",
     "shell.execute_reply": "2020-07-08T05:33:43.623610Z"
    },
    "papermill": {
     "duration": 0.074834,
     "end_time": "2020-07-08T05:33:43.624213",
     "exception": false,
     "start_time": "2020-07-08T05:33:43.549379",
     "status": "completed"
    },
    "tags": []
   },
   "outputs": [],
   "source": [
    "#plt.scatter(df_2.fourier_feat0,df_2.fourier_feat2)"
   ]
  },
  {
   "cell_type": "code",
   "execution_count": 19,
   "metadata": {
    "execution": {
     "iopub.execute_input": "2020-07-08T05:33:43.680776Z",
     "iopub.status.busy": "2020-07-08T05:33:43.680468Z",
     "iopub.status.idle": "2020-07-08T05:33:43.698033Z",
     "shell.execute_reply": "2020-07-08T05:33:43.698350Z"
    },
    "papermill": {
     "duration": 0.041891,
     "end_time": "2020-07-08T05:33:43.698418",
     "exception": false,
     "start_time": "2020-07-08T05:33:43.656527",
     "status": "completed"
    },
    "tags": []
   },
   "outputs": [],
   "source": [
    "#df_1.hist(figsize=(15,15))"
   ]
  },
  {
   "cell_type": "code",
   "execution_count": 20,
   "metadata": {
    "execution": {
     "iopub.execute_input": "2020-07-08T05:33:43.734401Z",
     "iopub.status.busy": "2020-07-08T05:33:43.734099Z",
     "iopub.status.idle": "2020-07-08T05:33:43.831306Z",
     "shell.execute_reply": "2020-07-08T05:33:43.829469Z"
    },
    "papermill": {
     "duration": 0.116121,
     "end_time": "2020-07-08T05:33:43.831560",
     "exception": false,
     "start_time": "2020-07-08T05:33:43.715439",
     "status": "completed"
    },
    "tags": []
   },
   "outputs": [],
   "source": [
    "#df_0.hist(figsize=(15,15))"
   ]
  },
  {
   "cell_type": "markdown",
   "metadata": {
    "papermill": {
     "duration": 0.019466,
     "end_time": "2020-07-08T05:33:43.904780",
     "exception": false,
     "start_time": "2020-07-08T05:33:43.885314",
     "status": "completed"
    },
    "tags": []
   },
   "source": [
    "#### Checking initialization"
   ]
  },
  {
   "cell_type": "code",
   "execution_count": 21,
   "metadata": {
    "execution": {
     "iopub.execute_input": "2020-07-08T05:33:43.942912Z",
     "iopub.status.busy": "2020-07-08T05:33:43.942600Z",
     "iopub.status.idle": "2020-07-08T05:33:43.953267Z",
     "shell.execute_reply": "2020-07-08T05:33:43.952950Z"
    },
    "papermill": {
     "duration": 0.030217,
     "end_time": "2020-07-08T05:33:43.953318",
     "exception": false,
     "start_time": "2020-07-08T05:33:43.923101",
     "status": "completed"
    },
    "tags": []
   },
   "outputs": [
    {
     "name": "stdout",
     "output_type": "stream",
     "text": [
      "n_features:  100\n",
      "n_hamiltonians:  6561\n",
      "n_ts:  2\n",
      "CPU times: user 401 µs, sys: 45 µs, total: 446 µs\n",
      "Wall time: 193 µs\n"
     ]
    }
   ],
   "source": [
    "%%time\n",
    "n_features = simulation.n_features\n",
    "n_hamiltonians = simulation.n_hamiltonians\n",
    "n_ts = simulation.n_ts\n",
    "\n",
    "print(\"n_features: \", n_features)\n",
    "print(\"n_hamiltonians: \", n_hamiltonians)\n",
    "print(\"n_ts: \", n_ts)"
   ]
  },
  {
   "cell_type": "code",
   "execution_count": 22,
   "metadata": {
    "execution": {
     "iopub.execute_input": "2020-07-08T05:33:43.989961Z",
     "iopub.status.busy": "2020-07-08T05:33:43.989641Z",
     "iopub.status.idle": "2020-07-08T05:33:44.273552Z",
     "shell.execute_reply": "2020-07-08T05:33:44.273231Z"
    },
    "papermill": {
     "duration": 0.302939,
     "end_time": "2020-07-08T05:33:44.273604",
     "exception": false,
     "start_time": "2020-07-08T05:33:43.970665",
     "status": "completed"
    },
    "tags": []
   },
   "outputs": [
    {
     "name": "stdout",
     "output_type": "stream",
     "text": [
      "% train:  0.846822130772748\n",
      "% val:  0.0\n",
      "% test:  0.15317786922725193\n",
      "% train + val + test:  1.0\n",
      "\n",
      "\n",
      "number of train hamiltonians:  5556\n",
      "number of val hamiltonians:  0\n",
      "number of test hamiltonians:  1005\n",
      "total number of hamiltonians:  6561\n",
      "\n",
      "\n",
      "train ids:  [9, 10, 11, 12, 13, 14, 15, 16, 17, 18, 19, 20, 21, 22, 23, 24, 25, 26, 27, 28, 29, 30, 31, 32, 33, 34, 35, 36, 37, 38, 39, 40, 41, 42, 43, 44, 45, 46, 47, 48, 49, 50, 51, 52, 53, 54, 55, 56, 57, 58, 59, 60, 61, 62, 63, 64, 65, 66, 67, 68, 69, 70, 71, 72, 73, 74, 75, 76, 77, 91, 92, 93, 94, 95, 96, 97, 98, 99, 100, 101, 102, 103, 104, 105, 106, 107, 108, 109, 110, 111, 112, 113, 114, 115, 116, 117, 118, 119, 120, 121, 122, 123, 124, 125, 126, 127, 128, 129, 130, 131, 132, 133, 134, 135, 136, 137, 138, 139, 140, 141, 142, 143, 144, 145, 146, 147, 148, 149, 150, 151, 152, 153, 154, 155, 156, 157, 172, 173, 174, 175, 176, 177, 178, 179, 180, 181, 182, 183, 184, 185, 186, 187, 188, 189, 190, 191, 192, 193, 194, 195, 196, 197, 198, 199, 200, 201, 202, 203, 204, 205, 206, 207, 208, 209, 210, 211, 212, 213, 214, 215, 216, 217, 218, 219, 220, 221, 222, 223, 224, 225, 226, 227, 228, 229, 230, 231, 232, 233, 234, 235, 236, 237, 254, 255, 256, 257, 258, 259, 260, 261, 262, 263, 264, 265, 266, 267, 268, 269, 270, 271, 272, 273, 274, 275, 276, 277, 278, 279, 280, 281, 282, 283, 284, 285, 286, 287, 288, 289, 290, 291, 292, 293, 294, 295, 296, 297, 298, 299, 300, 301, 302, 303, 304, 305, 306, 307, 308, 309, 310, 311, 312, 313, 314, 315, 316, 317, 323, 336, 337, 338, 339, 340, 341, 342, 343, 344, 345, 346, 347, 348, 349, 350, 351, 352, 353, 354, 355, 356, 357, 358, 359, 360, 361, 362, 363, 364, 365, 366, 367, 368, 369, 370, 371, 372, 373, 374, 375, 376, 377, 378, 379, 380, 381, 382, 383, 384, 385, 386, 387, 388, 389, 390, 391, 392, 393, 394, 395, 396, 397, 403, 404, 418, 419, 420, 421, 422, 423, 424, 425, 426, 427, 428, 429, 430, 431, 432, 433, 434, 435, 436, 437, 438, 439, 440, 441, 442, 443, 444, 445, 446, 447, 448, 449, 450, 451, 452, 453, 454, 455, 456, 457, 458, 459, 460, 461, 462, 463, 464, 465, 466, 467, 468, 469, 470, 471, 472, 473, 474, 475, 476, 477, 483, 484, 485, 500, 501, 502, 503, 504, 505, 506, 507, 508, 509, 510, 511, 512, 513, 514, 515, 516, 517, 518, 519, 520, 521, 522, 523, 524, 525, 526, 527, 528, 529, 530, 531, 532, 533, 534, 535, 536, 537, 538, 539, 540, 541, 542, 543, 544, 545, 546, 547, 548, 549, 550, 551, 552, 553, 554, 555, 556, 557, 563, 564, 565, 566, 581, 582, 583, 584, 585, 586, 587, 588, 589, 590, 591, 592, 593, 594, 595, 596, 597, 598, 599, 600, 601, 602, 603, 604, 605, 606, 607, 608, 609, 610, 611, 612, 613, 614, 615, 616, 617, 618, 619, 620, 621, 622, 623, 624, 625, 626, 627, 628, 629, 630, 631, 632, 633, 634, 635, 636, 637, 643, 644, 645, 646, 647, 663, 664, 665, 666, 667, 668, 669, 670, 671, 672, 673, 674, 675, 676, 677, 678, 679, 680, 681, 682, 683, 684, 685, 686, 687, 688, 689, 690, 691, 692, 693, 694, 695, 696, 697, 698, 699, 700, 701, 702, 703, 704, 705, 706, 707, 708, 709, 710, 711, 712, 713, 714, 715, 716, 717, 723, 724, 725, 726, 727, 728, 745, 746, 747, 748, 749, 750, 751, 752, 753, 754, 755, 756, 757, 758, 759, 760, 761, 762, 763, 764, 765, 766, 767, 768, 769, 770, 771, 772, 773, 774, 775, 776, 777, 778, 779, 780, 781, 782, 783, 784, 785, 786, 787, 788, 789, 790, 791, 792, 793, 794, 795, 796, 797, 803, 804, 805, 806, 807, 808, 809, 827, 828, 829, 830, 831, 832, 833, 834, 835, 836, 837, 838, 839, 840, 841, 842, 843, 844, 845, 846, 847, 848, 849, 850, 851, 852, 853, 854, 855, 856, 857, 858, 859, 860, 861, 862, 863, 864, 865, 866, 867, 868, 869, 870, 871, 872, 873, 874, 875, 876, 877, 883, 884, 885, 886, 887, 888, 889, 890, 891, 909, 910, 911, 912, 913, 914, 915, 916, 917, 918, 919, 920, 921, 922, 923, 924, 925, 926, 927, 928, 929, 930, 931, 932, 933, 934, 935, 936, 937, 938, 939, 940, 941, 942, 943, 944, 945, 946, 947, 948, 949, 950, 951, 952, 953, 954, 955, 956, 957, 963, 964, 965, 966, 967, 968, 969, 970, 971, 972, 973, 990, 991, 992, 993, 994, 995, 996, 997, 998, 999, 1000, 1001, 1002, 1003, 1004, 1005, 1006, 1007, 1008, 1009, 1010, 1011, 1012, 1013, 1014, 1015, 1016, 1017, 1018, 1019, 1020, 1021, 1022, 1023, 1024, 1025, 1026, 1027, 1028, 1029, 1030, 1031, 1032, 1033, 1034, 1035, 1036, 1037, 1038, 1042, 1043, 1044, 1045, 1046, 1047, 1048, 1049, 1050, 1051, 1052, 1053, 1054, 1055, 1056, 1072, 1073, 1074, 1075, 1076, 1077, 1078, 1079, 1080, 1081, 1082, 1083, 1084, 1085, 1086, 1087, 1088, 1089, 1090, 1091, 1092, 1093, 1094, 1095, 1096, 1097, 1098, 1099, 1100, 1101, 1102, 1103, 1104, 1105, 1106, 1107, 1108, 1109, 1110, 1111, 1112, 1113, 1114, 1115, 1116, 1117, 1118, 1122, 1123, 1124, 1125, 1126, 1127, 1128, 1129, 1130, 1131, 1132, 1133, 1134, 1135, 1136, 1137, 1138, 1154, 1155, 1156, 1157, 1158, 1159, 1160, 1161, 1162, 1163, 1164, 1165, 1166, 1167, 1168, 1169, 1170, 1171, 1172, 1173, 1174, 1175, 1176, 1177, 1178, 1179, 1180, 1181, 1182, 1183, 1184, 1185, 1186, 1187, 1188, 1189, 1190, 1191, 1192, 1193, 1194, 1195, 1196, 1197, 1198, 1202, 1203, 1204, 1205, 1206, 1207, 1208, 1209, 1210, 1211, 1212, 1213, 1214, 1215, 1216, 1217, 1218, 1219, 1220, 1236, 1237, 1238, 1239, 1240, 1241, 1242, 1243, 1244, 1245, 1246, 1247, 1248, 1249, 1250, 1251, 1252, 1253, 1254, 1255, 1256, 1257, 1258, 1259, 1260, 1261, 1262, 1263, 1264, 1265, 1266, 1267, 1268, 1269, 1270, 1271, 1272, 1273, 1274, 1275, 1276, 1277, 1278, 1282, 1283, 1284, 1285, 1286, 1287, 1288, 1289, 1290, 1291, 1292, 1293, 1294, 1295, 1296, 1297, 1298, 1299, 1300, 1301, 1302, 1303, 1317, 1318, 1319, 1320, 1321, 1322, 1323, 1324, 1325, 1326, 1327, 1328, 1329, 1330, 1331, 1332, 1333, 1334, 1335, 1336, 1337, 1338, 1339, 1340, 1341, 1342, 1343, 1344, 1345, 1346, 1347, 1348, 1349, 1350, 1351, 1352, 1353, 1354, 1355, 1356, 1357, 1358, 1362, 1363, 1364, 1365, 1366, 1367, 1368, 1369, 1370, 1371, 1372, 1373, 1374, 1375, 1376, 1377, 1378, 1379, 1380, 1381, 1382, 1383, 1384, 1385, 1399, 1400, 1401, 1402, 1403, 1404, 1405, 1406, 1407, 1408, 1409, 1410, 1411, 1412, 1413, 1414, 1415, 1416, 1417, 1418, 1419, 1420, 1421, 1422, 1423, 1424, 1425, 1426, 1427, 1428, 1429, 1430, 1431, 1432, 1433, 1434, 1435, 1436, 1437, 1438, 1442, 1443, 1444, 1445, 1446, 1447, 1448, 1449, 1450, 1451, 1452, 1453, 1454, 1455, 1456, 1457, 1458, 1459, 1460, 1461, 1462, 1463, 1464, 1465, 1466, 1467, 1468, 1481, 1482, 1483, 1484, 1485, 1486, 1487, 1488, 1489, 1490, 1491, 1492, 1493, 1494, 1495, 1496, 1497, 1498, 1499, 1500, 1501, 1502, 1503, 1504, 1505, 1506, 1507, 1508, 1509, 1510, 1511, 1512, 1513, 1514, 1515, 1516, 1517, 1518, 1522, 1523, 1524, 1525, 1526, 1527, 1528, 1529, 1530, 1531, 1532, 1533, 1534, 1535, 1536, 1537, 1538, 1539, 1540, 1541, 1542, 1543, 1544, 1545, 1546, 1547, 1548, 1549, 1550, 1563, 1564, 1565, 1566, 1567, 1568, 1569, 1570, 1571, 1572, 1573, 1574, 1575, 1576, 1577, 1578, 1579, 1580, 1581, 1582, 1583, 1584, 1585, 1586, 1587, 1588, 1589, 1590, 1591, 1592, 1593, 1594, 1595, 1596, 1597, 1598, 1602, 1603, 1604, 1605, 1606, 1607, 1608, 1609, 1610, 1611, 1612, 1613, 1614, 1615, 1616, 1617, 1618, 1619, 1620, 1621, 1622, 1623, 1624, 1625, 1626, 1627, 1628, 1629, 1630, 1631, 1632, 1645, 1646, 1647, 1648, 1649, 1650, 1651, 1652, 1653, 1654, 1655, 1656, 1657, 1658, 1659, 1660, 1661, 1662, 1663, 1664, 1665, 1666, 1667, 1668, 1669, 1670, 1671, 1672, 1673, 1674, 1675, 1676, 1677, 1678, 1682, 1683, 1684, 1685, 1686, 1687, 1688, 1689, 1690, 1691, 1692, 1693, 1694, 1695, 1696, 1697, 1698, 1699, 1700, 1701, 1702, 1703, 1704, 1705, 1706, 1707, 1708, 1709, 1710, 1711, 1712, 1713, 1714, 1715, 1726, 1727, 1728, 1729, 1730, 1731, 1732, 1733, 1734, 1735, 1736, 1737, 1738, 1739, 1740, 1741, 1742, 1743, 1744, 1745, 1746, 1747, 1748, 1749, 1750, 1751, 1752, 1753, 1754, 1755, 1756, 1757, 1758, 1762, 1763, 1764, 1765, 1766, 1767, 1768, 1769, 1770, 1771, 1772, 1773, 1774, 1775, 1776, 1777, 1778, 1779, 1780, 1781, 1782, 1783, 1784, 1785, 1786, 1787, 1788, 1789, 1790, 1791, 1792, 1793, 1794, 1795, 1796, 1797, 1808, 1809, 1810, 1811, 1812, 1813, 1814, 1815, 1816, 1817, 1818, 1819, 1820, 1821, 1822, 1823, 1824, 1825, 1826, 1827, 1828, 1829, 1830, 1831, 1832, 1833, 1834, 1835, 1836, 1837, 1838, 1842, 1843, 1844, 1845, 1846, 1847, 1848, 1849, 1850, 1851, 1852, 1853, 1854, 1855, 1856, 1857, 1858, 1859, 1860, 1861, 1862, 1863, 1864, 1865, 1866, 1867, 1868, 1869, 1870, 1871, 1872, 1873, 1874, 1875, 1876, 1877, 1878, 1879, 1890, 1891, 1892, 1893, 1894, 1895, 1896, 1897, 1898, 1899, 1900, 1901, 1902, 1903, 1904, 1905, 1906, 1907, 1908, 1909, 1910, 1911, 1912, 1913, 1914, 1915, 1916, 1917, 1918, 1922, 1923, 1924, 1925, 1926, 1927, 1928, 1929, 1930, 1931, 1932, 1933, 1934, 1935, 1936, 1937, 1938, 1939, 1940, 1941, 1942, 1943, 1944, 1945, 1946, 1947, 1948, 1949, 1950, 1951, 1952, 1953, 1954, 1955, 1956, 1957, 1958, 1959, 1960, 1961, 1962, 1972, 1973, 1974, 1975, 1976, 1977, 1978, 1979, 1980, 1981, 1982, 1983, 1984, 1985, 1986, 1987, 1988, 1989, 1990, 1991, 1992, 1993, 1994, 1995, 1996, 1997, 1998, 2002, 2003, 2004, 2005, 2006, 2007, 2008, 2009, 2010, 2011, 2012, 2013, 2014, 2015, 2016, 2017, 2018, 2019, 2020, 2021, 2022, 2023, 2024, 2025, 2026, 2027, 2028, 2029, 2030, 2031, 2032, 2033, 2034, 2035, 2036, 2037, 2038, 2039, 2040, 2041, 2042, 2043, 2044, 2054, 2055, 2056, 2057, 2058, 2059, 2060, 2061, 2062, 2063, 2064, 2065, 2066, 2067, 2068, 2069, 2070, 2071, 2072, 2073, 2074, 2075, 2076, 2077, 2078, 2082, 2083, 2084, 2085, 2086, 2087, 2088, 2089, 2090, 2091, 2092, 2093, 2094, 2095, 2096, 2097, 2098, 2099, 2100, 2101, 2102, 2103, 2104, 2105, 2106, 2107, 2108, 2109, 2110, 2111, 2112, 2113, 2114, 2115, 2116, 2117, 2118, 2119, 2120, 2121, 2122, 2123, 2124, 2125, 2126, 2135, 2136, 2137, 2138, 2139, 2140, 2141, 2142, 2143, 2144, 2145, 2146, 2147, 2148, 2149, 2150, 2151, 2152, 2153, 2154, 2155, 2156, 2157, 2158, 2159, 2161, 2162, 2163, 2164, 2165, 2166, 2167, 2168, 2169, 2170, 2171, 2172, 2173, 2174, 2175, 2176, 2177, 2178, 2179, 2180, 2181, 2182, 2183, 2184, 2185, 2186, 2187, 2188, 2189, 2190, 2191, 2192, 2193, 2194, 2195, 2196, 2197, 2198, 2199, 2200, 2201, 2202, 2203, 2204, 2205, 2206, 2207, 2208, 2209, 2217, 2218, 2219, 2220, 2221, 2222, 2223, 2224, 2225, 2226, 2227, 2228, 2229, 2230, 2231, 2232, 2233, 2234, 2235, 2236, 2237, 2238, 2239, 2241, 2242, 2243, 2244, 2245, 2246, 2247, 2248, 2249, 2250, 2251, 2252, 2253, 2254, 2255, 2256, 2257, 2258, 2259, 2260, 2261, 2262, 2263, 2264, 2265, 2266, 2267, 2268, 2269, 2270, 2271, 2272, 2273, 2274, 2275, 2276, 2277, 2278, 2279, 2280, 2281, 2282, 2283, 2284, 2285, 2286, 2287, 2288, 2289, 2290, 2291, 2299, 2300, 2301, 2302, 2303, 2304, 2305, 2306, 2307, 2308, 2309, 2310, 2311, 2312, 2313, 2314, 2315, 2316, 2317, 2318, 2319, 2321, 2322, 2323, 2324, 2325, 2326, 2327, 2328, 2329, 2330, 2331, 2332, 2333, 2334, 2335, 2336, 2337, 2338, 2339, 2340, 2341, 2342, 2343, 2344, 2345, 2346, 2347, 2348, 2349, 2350, 2351, 2352, 2353, 2354, 2355, 2356, 2357, 2358, 2359, 2360, 2361, 2362, 2363, 2364, 2365, 2366, 2367, 2368, 2369, 2370, 2371, 2372, 2373, 2374, 2381, 2382, 2383, 2384, 2385, 2386, 2387, 2388, 2389, 2390, 2391, 2392, 2393, 2394, 2395, 2396, 2397, 2398, 2399, 2401, 2402, 2403, 2404, 2405, 2406, 2407, 2408, 2409, 2410, 2411, 2412, 2413, 2414, 2415, 2416, 2417, 2418, 2419, 2420, 2421, 2422, 2423, 2424, 2425, 2426, 2427, 2428, 2429, 2430, 2431, 2432, 2433, 2434, 2435, 2436, 2437, 2438, 2439, 2440, 2441, 2442, 2443, 2444, 2445, 2446, 2447, 2448, 2449, 2450, 2451, 2452, 2453, 2454, 2455, 2456, 2463, 2464, 2465, 2466, 2467, 2468, 2469, 2470, 2471, 2472, 2473, 2474, 2475, 2476, 2477, 2478, 2479, 2481, 2482, 2483, 2484, 2485, 2486, 2487, 2488, 2489, 2490, 2491, 2492, 2493, 2494, 2495, 2496, 2497, 2498, 2499, 2500, 2501, 2502, 2503, 2504, 2505, 2506, 2507, 2508, 2509, 2510, 2511, 2512, 2513, 2514, 2515, 2516, 2517, 2518, 2519, 2520, 2521, 2522, 2523, 2524, 2525, 2526, 2527, 2528, 2529, 2530, 2531, 2532, 2533, 2534, 2535, 2536, 2537, 2538, 2544, 2545, 2546, 2547, 2548, 2549, 2550, 2551, 2552, 2553, 2554, 2555, 2556, 2557, 2558, 2559, 2561, 2562, 2563, 2564, 2565, 2566, 2567, 2568, 2569, 2570, 2571, 2572, 2573, 2574, 2575, 2576, 2577, 2578, 2579, 2580, 2581, 2582, 2583, 2584, 2585, 2586, 2587, 2588, 2589, 2590, 2591, 2592, 2593, 2594, 2595, 2596, 2597, 2598, 2599, 2600, 2601, 2602, 2603, 2604, 2605, 2606, 2607, 2608, 2609, 2610, 2611, 2612, 2613, 2614, 2615, 2616, 2617, 2618, 2619, 2620, 2621, 2626, 2627, 2628, 2629, 2630, 2631, 2632, 2633, 2634, 2635, 2636, 2637, 2638, 2639, 2641, 2642, 2643, 2644, 2645, 2646, 2647, 2648, 2649, 2650, 2651, 2652, 2653, 2654, 2655, 2656, 2657, 2658, 2659, 2660, 2661, 2662, 2663, 2664, 2665, 2666, 2667, 2668, 2669, 2670, 2671, 2672, 2673, 2674, 2675, 2676, 2677, 2678, 2679, 2680, 2681, 2682, 2683, 2684, 2685, 2686, 2687, 2688, 2689, 2690, 2691, 2692, 2693, 2694, 2695, 2696, 2697, 2698, 2699, 2700, 2701, 2702, 2703, 2708, 2709, 2710, 2711, 2712, 2713, 2714, 2715, 2716, 2717, 2718, 2719, 2721, 2722, 2723, 2724, 2725, 2726, 2727, 2728, 2729, 2730, 2731, 2732, 2733, 2734, 2735, 2736, 2737, 2738, 2739, 2740, 2741, 2742, 2743, 2744, 2745, 2746, 2747, 2748, 2749, 2750, 2751, 2752, 2753, 2754, 2755, 2756, 2757, 2758, 2759, 2760, 2761, 2762, 2763, 2764, 2765, 2766, 2767, 2768, 2769, 2770, 2771, 2772, 2773, 2774, 2775, 2776, 2777, 2778, 2779, 2780, 2781, 2782, 2783, 2784, 2785, 2790, 2791, 2792, 2793, 2794, 2795, 2796, 2797, 2798, 2799, 2801, 2802, 2803, 2804, 2805, 2806, 2807, 2808, 2809, 2810, 2811, 2812, 2813, 2814, 2815, 2816, 2817, 2818, 2819, 2820, 2821, 2822, 2823, 2824, 2825, 2826, 2827, 2828, 2829, 2830, 2831, 2832, 2833, 2834, 2835, 2836, 2837, 2838, 2839, 2840, 2841, 2842, 2843, 2844, 2845, 2846, 2847, 2848, 2849, 2850, 2851, 2852, 2853, 2854, 2855, 2856, 2857, 2858, 2859, 2860, 2861, 2862, 2863, 2864, 2865, 2866, 2867, 2868, 2872, 2873, 2874, 2875, 2876, 2877, 2878, 2879, 2881, 2882, 2883, 2884, 2885, 2886, 2887, 2888, 2889, 2890, 2891, 2892, 2893, 2894, 2895, 2896, 2897, 2898, 2899, 2900, 2901, 2902, 2903, 2904, 2905, 2906, 2907, 2908, 2909, 2910, 2911, 2912, 2913, 2914, 2915, 2916, 2917, 2918, 2919, 2920, 2921, 2922, 2923, 2924, 2925, 2926, 2927, 2928, 2929, 2930, 2931, 2932, 2933, 2934, 2935, 2936, 2937, 2938, 2939, 2940, 2941, 2942, 2943, 2944, 2945, 2946, 2947, 2948, 2949, 2950, 2953, 2954, 2955, 2956, 2957, 2958, 2959, 2961, 2962, 2963, 2964, 2965, 2966, 2967, 2968, 2969, 2970, 2971, 2972, 2973, 2974, 2975, 2976, 2977, 2978, 2979, 2980, 2981, 2982, 2983, 2984, 2985, 2986, 2987, 2988, 2989, 2990, 2991, 2992, 2993, 2994, 2995, 2996, 2997, 2998, 2999, 3000, 3001, 3002, 3003, 3004, 3005, 3006, 3007, 3008, 3009, 3010, 3011, 3012, 3013, 3014, 3015, 3016, 3017, 3018, 3019, 3020, 3021, 3022, 3023, 3024, 3025, 3026, 3027, 3028, 3029, 3030, 3031, 3032, 3035, 3036, 3037, 3038, 3039, 3041, 3042, 3043, 3044, 3045, 3046, 3047, 3048, 3049, 3050, 3051, 3052, 3053, 3054, 3055, 3056, 3057, 3058, 3059, 3060, 3061, 3062, 3063, 3064, 3065, 3066, 3067, 3068, 3069, 3070, 3071, 3072, 3073, 3074, 3075, 3076, 3077, 3078, 3079, 3080, 3081, 3082, 3083, 3084, 3085, 3086, 3087, 3088, 3089, 3090, 3091, 3092, 3093, 3094, 3095, 3096, 3097, 3098, 3099, 3100, 3101, 3102, 3103, 3104, 3105, 3106, 3107, 3108, 3109, 3110, 3111, 3112, 3113, 3114, 3115, 3117, 3118, 3119, 3121, 3122, 3123, 3124, 3125, 3126, 3127, 3128, 3129, 3130, 3131, 3132, 3133, 3134, 3135, 3136, 3137, 3138, 3139, 3140, 3141, 3142, 3143, 3144, 3145, 3146, 3147, 3148, 3149, 3150, 3151, 3152, 3153, 3154, 3155, 3156, 3157, 3158, 3159, 3160, 3161, 3162, 3163, 3164, 3165, 3166, 3167, 3168, 3169, 3170, 3171, 3172, 3173, 3174, 3175, 3176, 3177, 3178, 3179, 3180, 3181, 3182, 3183, 3184, 3185, 3186, 3187, 3188, 3189, 3190, 3191, 3192, 3193, 3194, 3195, 3196, 3197, 3199, 3201, 3202, 3203, 3204, 3205, 3206, 3207, 3208, 3209, 3210, 3211, 3212, 3213, 3214, 3215, 3216, 3217, 3218, 3219, 3220, 3221, 3222, 3223, 3224, 3225, 3226, 3227, 3228, 3229, 3230, 3231, 3232, 3233, 3234, 3235, 3236, 3237, 3238, 3239, 3240, 3241, 3242, 3243, 3244, 3245, 3246, 3247, 3248, 3249, 3250, 3251, 3252, 3253, 3254, 3255, 3256, 3257, 3258, 3259, 3260, 3261, 3262, 3263, 3264, 3265, 3266, 3267, 3268, 3269, 3270, 3271, 3272, 3273, 3274, 3275, 3276, 3277, 3278, 3279, 3281, 3282, 3283, 3284, 3285, 3286, 3287, 3288, 3289, 3290, 3291, 3292, 3293, 3294, 3295, 3296, 3297, 3298, 3299, 3300, 3301, 3302, 3303, 3304, 3305, 3306, 3307, 3308, 3309, 3310, 3311, 3312, 3313, 3314, 3315, 3316, 3317, 3318, 3319, 3320, 3321, 3322, 3323, 3324, 3325, 3326, 3327, 3328, 3329, 3330, 3331, 3332, 3333, 3334, 3335, 3336, 3337, 3338, 3339, 3340, 3341, 3342, 3343, 3344, 3345, 3346, 3347, 3348, 3349, 3350, 3351, 3352, 3353, 3354, 3355, 3356, 3357, 3358, 3359, 3361, 3363, 3364, 3365, 3366, 3367, 3368, 3369, 3370, 3371, 3372, 3373, 3374, 3375, 3376, 3377, 3378, 3379, 3380, 3381, 3382, 3383, 3384, 3385, 3386, 3387, 3388, 3389, 3390, 3391, 3392, 3393, 3394, 3395, 3396, 3397, 3398, 3399, 3400, 3401, 3402, 3403, 3404, 3405, 3406, 3407, 3408, 3409, 3410, 3411, 3412, 3413, 3414, 3415, 3416, 3417, 3418, 3419, 3420, 3421, 3422, 3423, 3424, 3425, 3426, 3427, 3428, 3429, 3430, 3431, 3432, 3433, 3434, 3435, 3436, 3437, 3438, 3439, 3441, 3442, 3443, 3445, 3446, 3447, 3448, 3449, 3450, 3451, 3452, 3453, 3454, 3455, 3456, 3457, 3458, 3459, 3460, 3461, 3462, 3463, 3464, 3465, 3466, 3467, 3468, 3469, 3470, 3471, 3472, 3473, 3474, 3475, 3476, 3477, 3478, 3479, 3480, 3481, 3482, 3483, 3484, 3485, 3486, 3487, 3488, 3489, 3490, 3491, 3492, 3493, 3494, 3495, 3496, 3497, 3498, 3499, 3500, 3501, 3502, 3503, 3504, 3505, 3506, 3507, 3508, 3509, 3510, 3511, 3512, 3513, 3514, 3515, 3516, 3517, 3518, 3519, 3521, 3522, 3523, 3524, 3525, 3528, 3529, 3530, 3531, 3532, 3533, 3534, 3535, 3536, 3537, 3538, 3539, 3540, 3541, 3542, 3543, 3544, 3545, 3546, 3547, 3548, 3549, 3550, 3551, 3552, 3553, 3554, 3555, 3556, 3557, 3558, 3559, 3560, 3561, 3562, 3563, 3564, 3565, 3566, 3567, 3568, 3569, 3570, 3571, 3572, 3573, 3574, 3575, 3576, 3577, 3578, 3579, 3580, 3581, 3582, 3583, 3584, 3585, 3586, 3587, 3588, 3589, 3590, 3591, 3592, 3593, 3594, 3595, 3596, 3597, 3598, 3599, 3601, 3602, 3603, 3604, 3605, 3606, 3607, 3610, 3611, 3612, 3613, 3614, 3615, 3616, 3617, 3618, 3619, 3620, 3621, 3622, 3623, 3624, 3625, 3626, 3627, 3628, 3629, 3630, 3631, 3632, 3633, 3634, 3635, 3636, 3637, 3638, 3639, 3640, 3641, 3642, 3643, 3644, 3645, 3646, 3647, 3648, 3649, 3650, 3651, 3652, 3653, 3654, 3655, 3656, 3657, 3658, 3659, 3660, 3661, 3662, 3663, 3664, 3665, 3666, 3667, 3668, 3669, 3670, 3671, 3672, 3673, 3674, 3675, 3676, 3677, 3678, 3679, 3681, 3682, 3683, 3684, 3685, 3686, 3687, 3688, 3692, 3693, 3694, 3695, 3696, 3697, 3698, 3699, 3700, 3701, 3702, 3703, 3704, 3705, 3706, 3707, 3708, 3709, 3710, 3711, 3712, 3713, 3714, 3715, 3716, 3717, 3718, 3719, 3720, 3721, 3722, 3723, 3724, 3725, 3726, 3727, 3728, 3729, 3730, 3731, 3732, 3733, 3734, 3735, 3736, 3737, 3738, 3739, 3740, 3741, 3742, 3743, 3744, 3745, 3746, 3747, 3748, 3749, 3750, 3751, 3752, 3753, 3754, 3755, 3756, 3757, 3758, 3759, 3761, 3762, 3763, 3764, 3765, 3766, 3767, 3768, 3769, 3770, 3775, 3776, 3777, 3778, 3779, 3780, 3781, 3782, 3783, 3784, 3785, 3786, 3787, 3788, 3789, 3790, 3791, 3792, 3793, 3794, 3795, 3796, 3797, 3798, 3799, 3800, 3801, 3802, 3803, 3804, 3805, 3806, 3807, 3808, 3809, 3810, 3811, 3812, 3813, 3814, 3815, 3816, 3817, 3818, 3819, 3820, 3821, 3822, 3823, 3824, 3825, 3826, 3827, 3828, 3829, 3830, 3831, 3832, 3833, 3834, 3835, 3836, 3837, 3838, 3839, 3841, 3842, 3843, 3844, 3845, 3846, 3847, 3848, 3849, 3850, 3851, 3852, 3857, 3858, 3859, 3860, 3861, 3862, 3863, 3864, 3865, 3866, 3867, 3868, 3869, 3870, 3871, 3872, 3873, 3874, 3875, 3876, 3877, 3878, 3879, 3880, 3881, 3882, 3883, 3884, 3885, 3886, 3887, 3888, 3889, 3890, 3891, 3892, 3893, 3894, 3895, 3896, 3897, 3898, 3899, 3900, 3901, 3902, 3903, 3904, 3905, 3906, 3907, 3908, 3909, 3910, 3911, 3912, 3913, 3914, 3915, 3916, 3917, 3918, 3919, 3921, 3922, 3923, 3924, 3925, 3926, 3927, 3928, 3929, 3930, 3931, 3932, 3933, 3934, 3939, 3940, 3941, 3942, 3943, 3944, 3945, 3946, 3947, 3948, 3949, 3950, 3951, 3952, 3953, 3954, 3955, 3956, 3957, 3958, 3959, 3960, 3961, 3962, 3963, 3964, 3965, 3966, 3967, 3968, 3969, 3970, 3971, 3972, 3973, 3974, 3975, 3976, 3977, 3978, 3979, 3980, 3981, 3982, 3983, 3984, 3985, 3986, 3987, 3988, 3989, 3990, 3991, 3992, 3993, 3994, 3995, 3996, 3997, 3998, 3999, 4001, 4002, 4003, 4004, 4005, 4006, 4007, 4008, 4009, 4010, 4011, 4012, 4013, 4014, 4015, 4016, 4022, 4023, 4024, 4025, 4026, 4027, 4028, 4029, 4030, 4031, 4032, 4033, 4034, 4035, 4036, 4037, 4038, 4039, 4040, 4041, 4042, 4043, 4044, 4045, 4046, 4047, 4048, 4049, 4050, 4051, 4052, 4053, 4054, 4055, 4056, 4057, 4058, 4059, 4060, 4061, 4062, 4063, 4064, 4065, 4066, 4067, 4068, 4069, 4070, 4071, 4072, 4073, 4074, 4075, 4076, 4077, 4078, 4079, 4081, 4082, 4083, 4084, 4085, 4086, 4087, 4088, 4089, 4090, 4091, 4092, 4093, 4094, 4095, 4096, 4097, 4104, 4105, 4106, 4107, 4108, 4109, 4110, 4111, 4112, 4113, 4114, 4115, 4116, 4117, 4118, 4119, 4120, 4121, 4122, 4123, 4124, 4125, 4126, 4127, 4128, 4129, 4130, 4131, 4132, 4133, 4134, 4135, 4136, 4137, 4138, 4139, 4140, 4141, 4142, 4143, 4144, 4145, 4146, 4147, 4148, 4149, 4150, 4151, 4152, 4153, 4154, 4155, 4156, 4157, 4158, 4159, 4161, 4162, 4163, 4164, 4165, 4166, 4167, 4168, 4169, 4170, 4171, 4172, 4173, 4174, 4175, 4176, 4177, 4178, 4179, 4186, 4187, 4188, 4189, 4190, 4191, 4192, 4193, 4194, 4195, 4196, 4197, 4198, 4199, 4200, 4201, 4202, 4203, 4204, 4205, 4206, 4207, 4208, 4209, 4210, 4211, 4212, 4213, 4214, 4215, 4216, 4217, 4218, 4219, 4220, 4221, 4222, 4223, 4224, 4225, 4226, 4227, 4228, 4229, 4230, 4231, 4232, 4233, 4234, 4235, 4236, 4237, 4238, 4239, 4241, 4242, 4243, 4244, 4245, 4246, 4247, 4248, 4249, 4250, 4251, 4252, 4253, 4254, 4255, 4256, 4257, 4258, 4259, 4260, 4261, 4269, 4270, 4271, 4272, 4273, 4274, 4275, 4276, 4277, 4278, 4279, 4280, 4281, 4282, 4283, 4284, 4285, 4286, 4287, 4288, 4289, 4290, 4291, 4292, 4293, 4294, 4295, 4296, 4297, 4298, 4299, 4300, 4301, 4302, 4303, 4304, 4305, 4306, 4307, 4308, 4309, 4310, 4311, 4312, 4313, 4314, 4315, 4316, 4317, 4318, 4319, 4321, 4322, 4323, 4324, 4325, 4326, 4327, 4328, 4329, 4330, 4331, 4332, 4333, 4334, 4335, 4336, 4337, 4338, 4339, 4340, 4341, 4342, 4343, 4351, 4352, 4353, 4354, 4355, 4356, 4357, 4358, 4359, 4360, 4361, 4362, 4363, 4364, 4365, 4366, 4367, 4368, 4369, 4370, 4371, 4372, 4373, 4374, 4375, 4376, 4377, 4378, 4379, 4380, 4381, 4382, 4383, 4384, 4385, 4386, 4387, 4388, 4389, 4390, 4391, 4392, 4393, 4394, 4395, 4396, 4397, 4398, 4399, 4401, 4402, 4403, 4404, 4405, 4406, 4407, 4408, 4409, 4410, 4411, 4412, 4413, 4414, 4415, 4416, 4417, 4418, 4419, 4420, 4421, 4422, 4423, 4424, 4425, 4434, 4435, 4436, 4437, 4438, 4439, 4440, 4441, 4442, 4443, 4444, 4445, 4446, 4447, 4448, 4449, 4450, 4451, 4452, 4453, 4454, 4455, 4456, 4457, 4458, 4459, 4460, 4461, 4462, 4463, 4464, 4465, 4466, 4467, 4468, 4469, 4470, 4471, 4472, 4473, 4474, 4475, 4476, 4477, 4478, 4482, 4483, 4484, 4485, 4486, 4487, 4488, 4489, 4490, 4491, 4492, 4493, 4494, 4495, 4496, 4497, 4498, 4499, 4500, 4501, 4502, 4503, 4504, 4505, 4506, 4516, 4517, 4518, 4519, 4520, 4521, 4522, 4523, 4524, 4525, 4526, 4527, 4528, 4529, 4530, 4531, 4532, 4533, 4534, 4535, 4536, 4537, 4538, 4539, 4540, 4541, 4542, 4543, 4544, 4545, 4546, 4547, 4548, 4549, 4550, 4551, 4552, 4553, 4554, 4555, 4556, 4557, 4558, 4562, 4563, 4564, 4565, 4566, 4567, 4568, 4569, 4570, 4571, 4572, 4573, 4574, 4575, 4576, 4577, 4578, 4579, 4580, 4581, 4582, 4583, 4584, 4585, 4586, 4587, 4588, 4598, 4599, 4600, 4601, 4602, 4603, 4604, 4605, 4606, 4607, 4608, 4609, 4610, 4611, 4612, 4613, 4614, 4615, 4616, 4617, 4618, 4619, 4620, 4621, 4622, 4623, 4624, 4625, 4626, 4627, 4628, 4629, 4630, 4631, 4632, 4633, 4634, 4635, 4636, 4637, 4638, 4642, 4643, 4644, 4645, 4646, 4647, 4648, 4649, 4650, 4651, 4652, 4653, 4654, 4655, 4656, 4657, 4658, 4659, 4660, 4661, 4662, 4663, 4664, 4665, 4666, 4667, 4668, 4669, 4670, 4681, 4682, 4683, 4684, 4685, 4686, 4687, 4688, 4689, 4690, 4691, 4692, 4693, 4694, 4695, 4696, 4697, 4698, 4699, 4700, 4701, 4702, 4703, 4704, 4705, 4706, 4707, 4708, 4709, 4710, 4711, 4712, 4713, 4714, 4715, 4716, 4717, 4718, 4722, 4723, 4724, 4725, 4726, 4727, 4728, 4729, 4730, 4731, 4732, 4733, 4734, 4735, 4736, 4737, 4738, 4739, 4740, 4741, 4742, 4743, 4744, 4745, 4746, 4747, 4748, 4749, 4750, 4751, 4752, 4763, 4764, 4765, 4766, 4767, 4768, 4769, 4770, 4771, 4772, 4773, 4774, 4775, 4776, 4777, 4778, 4779, 4780, 4781, 4782, 4783, 4784, 4785, 4786, 4787, 4788, 4789, 4790, 4791, 4792, 4793, 4794, 4795, 4796, 4797, 4798, 4802, 4803, 4804, 4805, 4806, 4807, 4808, 4809, 4810, 4811, 4812, 4813, 4814, 4815, 4816, 4817, 4818, 4819, 4820, 4821, 4822, 4823, 4824, 4825, 4826, 4827, 4828, 4829, 4830, 4831, 4832, 4833, 4834, 4845, 4846, 4847, 4848, 4849, 4850, 4851, 4852, 4853, 4854, 4855, 4856, 4857, 4858, 4859, 4860, 4861, 4862, 4863, 4864, 4865, 4866, 4867, 4868, 4869, 4870, 4871, 4872, 4873, 4874, 4875, 4876, 4877, 4878, 4882, 4883, 4884, 4885, 4886, 4887, 4888, 4889, 4890, 4891, 4892, 4893, 4894, 4895, 4896, 4897, 4898, 4899, 4900, 4901, 4902, 4903, 4904, 4905, 4906, 4907, 4908, 4909, 4910, 4911, 4912, 4913, 4914, 4915, 4928, 4929, 4930, 4931, 4932, 4933, 4934, 4935, 4936, 4937, 4938, 4939, 4940, 4941, 4942, 4943, 4944, 4945, 4946, 4947, 4948, 4949, 4950, 4951, 4952, 4953, 4954, 4955, 4956, 4957, 4958, 4962, 4963, 4964, 4965, 4966, 4967, 4968, 4969, 4970, 4971, 4972, 4973, 4974, 4975, 4976, 4977, 4978, 4979, 4980, 4981, 4982, 4983, 4984, 4985, 4986, 4987, 4988, 4989, 4990, 4991, 4992, 4993, 4994, 4995, 4996, 4997, 5010, 5011, 5012, 5013, 5014, 5015, 5016, 5017, 5018, 5019, 5020, 5021, 5022, 5023, 5024, 5025, 5026, 5027, 5028, 5029, 5030, 5031, 5032, 5033, 5034, 5035, 5036, 5037, 5038, 5042, 5043, 5044, 5045, 5046, 5047, 5048, 5049, 5050, 5051, 5052, 5053, 5054, 5055, 5056, 5057, 5058, 5059, 5060, 5061, 5062, 5063, 5064, 5065, 5066, 5067, 5068, 5069, 5070, 5071, 5072, 5073, 5074, 5075, 5076, 5077, 5078, 5079, 5092, 5093, 5094, 5095, 5096, 5097, 5098, 5099, 5100, 5101, 5102, 5103, 5104, 5105, 5106, 5107, 5108, 5109, 5110, 5111, 5112, 5113, 5114, 5115, 5116, 5117, 5118, 5122, 5123, 5124, 5125, 5126, 5127, 5128, 5129, 5130, 5131, 5132, 5133, 5134, 5135, 5136, 5137, 5138, 5139, 5140, 5141, 5142, 5143, 5144, 5145, 5146, 5147, 5148, 5149, 5150, 5151, 5152, 5153, 5154, 5155, 5156, 5157, 5158, 5159, 5160, 5161, 5175, 5176, 5177, 5178, 5179, 5180, 5181, 5182, 5183, 5184, 5185, 5186, 5187, 5188, 5189, 5190, 5191, 5192, 5193, 5194, 5195, 5196, 5197, 5198, 5202, 5203, 5204, 5205, 5206, 5207, 5208, 5209, 5210, 5211, 5212, 5213, 5214, 5215, 5216, 5217, 5218, 5219, 5220, 5221, 5222, 5223, 5224, 5225, 5226, 5227, 5228, 5229, 5230, 5231, 5232, 5233, 5234, 5235, 5236, 5237, 5238, 5239, 5240, 5241, 5242, 5243, 5257, 5258, 5259, 5260, 5261, 5262, 5263, 5264, 5265, 5266, 5267, 5268, 5269, 5270, 5271, 5272, 5273, 5274, 5275, 5276, 5277, 5278, 5282, 5283, 5284, 5285, 5286, 5287, 5288, 5289, 5290, 5291, 5292, 5293, 5294, 5295, 5296, 5297, 5298, 5299, 5300, 5301, 5302, 5303, 5304, 5305, 5306, 5307, 5308, 5309, 5310, 5311, 5312, 5313, 5314, 5315, 5316, 5317, 5318, 5319, 5320, 5321, 5322, 5323, 5324, 5340, 5341, 5342, 5343, 5344, 5345, 5346, 5347, 5348, 5349, 5350, 5351, 5352, 5353, 5354, 5355, 5356, 5357, 5358, 5362, 5363, 5364, 5365, 5366, 5367, 5368, 5369, 5370, 5371, 5372, 5373, 5374, 5375, 5376, 5377, 5378, 5379, 5380, 5381, 5382, 5383, 5384, 5385, 5386, 5387, 5388, 5389, 5390, 5391, 5392, 5393, 5394, 5395, 5396, 5397, 5398, 5399, 5400, 5401, 5402, 5403, 5404, 5405, 5406, 5422, 5423, 5424, 5425, 5426, 5427, 5428, 5429, 5430, 5431, 5432, 5433, 5434, 5435, 5436, 5437, 5438, 5442, 5443, 5444, 5445, 5446, 5447, 5448, 5449, 5450, 5451, 5452, 5453, 5454, 5455, 5456, 5457, 5458, 5459, 5460, 5461, 5462, 5463, 5464, 5465, 5466, 5467, 5468, 5469, 5470, 5471, 5472, 5473, 5474, 5475, 5476, 5477, 5478, 5479, 5480, 5481, 5482, 5483, 5484, 5485, 5486, 5487, 5488, 5504, 5505, 5506, 5507, 5508, 5509, 5510, 5511, 5512, 5513, 5514, 5515, 5516, 5517, 5518, 5522, 5523, 5524, 5525, 5526, 5527, 5528, 5529, 5530, 5531, 5532, 5533, 5534, 5535, 5536, 5537, 5538, 5539, 5540, 5541, 5542, 5543, 5544, 5545, 5546, 5547, 5548, 5549, 5550, 5551, 5552, 5553, 5554, 5555, 5556, 5557, 5558, 5559, 5560, 5561, 5562, 5563, 5564, 5565, 5566, 5567, 5568, 5569, 5570, 5587, 5588, 5589, 5590, 5591, 5592, 5593, 5594, 5595, 5596, 5597, 5603, 5604, 5605, 5606, 5607, 5608, 5609, 5610, 5611, 5612, 5613, 5614, 5615, 5616, 5617, 5618, 5619, 5620, 5621, 5622, 5623, 5624, 5625, 5626, 5627, 5628, 5629, 5630, 5631, 5632, 5633, 5634, 5635, 5636, 5637, 5638, 5639, 5640, 5641, 5642, 5643, 5644, 5645, 5646, 5647, 5648, 5649, 5650, 5651, 5669, 5670, 5671, 5672, 5673, 5674, 5675, 5676, 5677, 5683, 5684, 5685, 5686, 5687, 5688, 5689, 5690, 5691, 5692, 5693, 5694, 5695, 5696, 5697, 5698, 5699, 5700, 5701, 5702, 5703, 5704, 5705, 5706, 5707, 5708, 5709, 5710, 5711, 5712, 5713, 5714, 5715, 5716, 5717, 5718, 5719, 5720, 5721, 5722, 5723, 5724, 5725, 5726, 5727, 5728, 5729, 5730, 5731, 5732, 5733, 5751, 5752, 5753, 5754, 5755, 5756, 5757, 5763, 5764, 5765, 5766, 5767, 5768, 5769, 5770, 5771, 5772, 5773, 5774, 5775, 5776, 5777, 5778, 5779, 5780, 5781, 5782, 5783, 5784, 5785, 5786, 5787, 5788, 5789, 5790, 5791, 5792, 5793, 5794, 5795, 5796, 5797, 5798, 5799, 5800, 5801, 5802, 5803, 5804, 5805, 5806, 5807, 5808, 5809, 5810, 5811, 5812, 5813, 5814, 5815, 5832, 5833, 5834, 5835, 5836, 5837, 5843, 5844, 5845, 5846, 5847, 5848, 5849, 5850, 5851, 5852, 5853, 5854, 5855, 5856, 5857, 5858, 5859, 5860, 5861, 5862, 5863, 5864, 5865, 5866, 5867, 5868, 5869, 5870, 5871, 5872, 5873, 5874, 5875, 5876, 5877, 5878, 5879, 5880, 5881, 5882, 5883, 5884, 5885, 5886, 5887, 5888, 5889, 5890, 5891, 5892, 5893, 5894, 5895, 5896, 5897, 5913, 5914, 5915, 5916, 5917, 5923, 5924, 5925, 5926, 5927, 5928, 5929, 5930, 5931, 5932, 5933, 5934, 5935, 5936, 5937, 5938, 5939, 5940, 5941, 5942, 5943, 5944, 5945, 5946, 5947, 5948, 5949, 5950, 5951, 5952, 5953, 5954, 5955, 5956, 5957, 5958, 5959, 5960, 5961, 5962, 5963, 5964, 5965, 5966, 5967, 5968, 5969, 5970, 5971, 5972, 5973, 5974, 5975, 5976, 5977, 5978, 5979, 5994, 5995, 5996, 5997, 6003, 6004, 6005, 6006, 6007, 6008, 6009, 6010, 6011, 6012, 6013, 6014, 6015, 6016, 6017, 6018, 6019, 6020, 6021, 6022, 6023, 6024, 6025, 6026, 6027, 6028, 6029, 6030, 6031, 6032, 6033, 6034, 6035, 6036, 6037, 6038, 6039, 6040, 6041, 6042, 6043, 6044, 6045, 6046, 6047, 6048, 6049, 6050, 6051, 6052, 6053, 6054, 6055, 6056, 6057, 6058, 6059, 6060, 6075, 6076, 6077, 6083, 6084, 6085, 6086, 6087, 6088, 6089, 6090, 6091, 6092, 6093, 6094, 6095, 6096, 6097, 6098, 6099, 6100, 6101, 6102, 6103, 6104, 6105, 6106, 6107, 6108, 6109, 6110, 6111, 6112, 6113, 6114, 6115, 6116, 6117, 6118, 6119, 6120, 6121, 6122, 6123, 6124, 6125, 6126, 6127, 6128, 6129, 6130, 6131, 6132, 6133, 6134, 6135, 6136, 6137, 6138, 6139, 6140, 6141, 6142, 6156, 6157, 6163, 6164, 6165, 6166, 6167, 6168, 6169, 6170, 6171, 6172, 6173, 6174, 6175, 6176, 6177, 6178, 6179, 6180, 6181, 6182, 6183, 6184, 6185, 6186, 6187, 6188, 6189, 6190, 6191, 6192, 6193, 6194, 6195, 6196, 6197, 6198, 6199, 6200, 6201, 6202, 6203, 6204, 6205, 6206, 6207, 6208, 6209, 6210, 6211, 6212, 6213, 6214, 6215, 6216, 6217, 6218, 6219, 6220, 6221, 6222, 6223, 6224, 6237, 6243, 6244, 6245, 6246, 6247, 6248, 6249, 6250, 6251, 6252, 6253, 6254, 6255, 6256, 6257, 6258, 6259, 6260, 6261, 6262, 6263, 6264, 6265, 6266, 6267, 6268, 6269, 6270, 6271, 6272, 6273, 6274, 6275, 6276, 6277, 6278, 6279, 6280, 6281, 6282, 6283, 6284, 6285, 6286, 6287, 6288, 6289, 6290, 6291, 6292, 6293, 6294, 6295, 6296, 6297, 6298, 6299, 6300, 6301, 6302, 6303, 6304, 6305, 6306, 6323, 6324, 6325, 6326, 6327, 6328, 6329, 6330, 6331, 6332, 6333, 6334, 6335, 6336, 6337, 6338, 6339, 6340, 6341, 6342, 6343, 6344, 6345, 6346, 6347, 6348, 6349, 6350, 6351, 6352, 6353, 6354, 6355, 6356, 6357, 6358, 6359, 6360, 6361, 6362, 6363, 6364, 6365, 6366, 6367, 6368, 6369, 6370, 6371, 6372, 6373, 6374, 6375, 6376, 6377, 6378, 6379, 6380, 6381, 6382, 6383, 6384, 6385, 6386, 6387, 6388, 6403, 6404, 6405, 6406, 6407, 6408, 6409, 6410, 6411, 6412, 6413, 6414, 6415, 6416, 6417, 6418, 6419, 6420, 6421, 6422, 6423, 6424, 6425, 6426, 6427, 6428, 6429, 6430, 6431, 6432, 6433, 6434, 6435, 6436, 6437, 6438, 6439, 6440, 6441, 6442, 6443, 6444, 6445, 6446, 6447, 6448, 6449, 6450, 6451, 6452, 6453, 6454, 6455, 6456, 6457, 6458, 6459, 6460, 6461, 6462, 6463, 6464, 6465, 6466, 6467, 6468, 6469, 6483, 6484, 6485, 6486, 6487, 6488, 6489, 6490, 6491, 6492, 6493, 6494, 6495, 6496, 6497, 6498, 6499, 6500, 6501, 6502, 6503, 6504, 6505, 6506, 6507, 6508, 6509, 6510, 6511, 6512, 6513, 6514, 6515, 6516, 6517, 6518, 6519, 6520, 6521, 6522, 6523, 6524, 6525, 6526, 6527, 6528, 6529, 6530, 6531, 6532, 6533, 6534, 6535, 6536, 6537, 6538, 6539, 6540, 6541, 6542, 6543, 6544, 6545, 6546, 6547, 6548, 6549, 6550, 6551]\n",
      "val ids:  []\n",
      "test ids:  [0, 1, 2, 3, 4, 5, 6, 7, 8, 78, 79, 80, 81, 82, 83, 84, 85, 86, 87, 88, 89, 90, 158, 159, 160, 161, 162, 163, 164, 165, 166, 167, 168, 169, 170, 171, 238, 239, 240, 241, 242, 243, 244, 245, 246, 247, 248, 249, 250, 251, 252, 253, 318, 319, 320, 321, 322, 324, 325, 326, 327, 328, 329, 330, 331, 332, 333, 334, 335, 398, 399, 400, 401, 402, 405, 406, 407, 408, 409, 410, 411, 412, 413, 414, 415, 416, 417, 478, 479, 480, 481, 482, 486, 487, 488, 489, 490, 491, 492, 493, 494, 495, 496, 497, 498, 499, 558, 559, 560, 561, 562, 567, 568, 569, 570, 571, 572, 573, 574, 575, 576, 577, 578, 579, 580, 638, 639, 640, 641, 642, 648, 649, 650, 651, 652, 653, 654, 655, 656, 657, 658, 659, 660, 661, 662, 718, 719, 720, 721, 722, 729, 730, 731, 732, 733, 734, 735, 736, 737, 738, 739, 740, 741, 742, 743, 744, 798, 799, 800, 801, 802, 810, 811, 812, 813, 814, 815, 816, 817, 818, 819, 820, 821, 822, 823, 824, 825, 826, 878, 879, 880, 881, 882, 892, 893, 894, 895, 896, 897, 898, 899, 900, 901, 902, 903, 904, 905, 906, 907, 908, 958, 959, 960, 961, 962, 974, 975, 976, 977, 978, 979, 980, 981, 982, 983, 984, 985, 986, 987, 988, 989, 1039, 1040, 1041, 1057, 1058, 1059, 1060, 1061, 1062, 1063, 1064, 1065, 1066, 1067, 1068, 1069, 1070, 1071, 1119, 1120, 1121, 1139, 1140, 1141, 1142, 1143, 1144, 1145, 1146, 1147, 1148, 1149, 1150, 1151, 1152, 1153, 1199, 1200, 1201, 1221, 1222, 1223, 1224, 1225, 1226, 1227, 1228, 1229, 1230, 1231, 1232, 1233, 1234, 1235, 1279, 1280, 1281, 1304, 1305, 1306, 1307, 1308, 1309, 1310, 1311, 1312, 1313, 1314, 1315, 1316, 1359, 1360, 1361, 1386, 1387, 1388, 1389, 1390, 1391, 1392, 1393, 1394, 1395, 1396, 1397, 1398, 1439, 1440, 1441, 1469, 1470, 1471, 1472, 1473, 1474, 1475, 1476, 1477, 1478, 1479, 1480, 1519, 1520, 1521, 1551, 1552, 1553, 1554, 1555, 1556, 1557, 1558, 1559, 1560, 1561, 1562, 1599, 1600, 1601, 1633, 1634, 1635, 1636, 1637, 1638, 1639, 1640, 1641, 1642, 1643, 1644, 1679, 1680, 1681, 1716, 1717, 1718, 1719, 1720, 1721, 1722, 1723, 1724, 1725, 1759, 1760, 1761, 1798, 1799, 1800, 1801, 1802, 1803, 1804, 1805, 1806, 1807, 1839, 1840, 1841, 1880, 1881, 1882, 1883, 1884, 1885, 1886, 1887, 1888, 1889, 1919, 1920, 1921, 1963, 1964, 1965, 1966, 1967, 1968, 1969, 1970, 1971, 1999, 2000, 2001, 2045, 2046, 2047, 2048, 2049, 2050, 2051, 2052, 2053, 2079, 2080, 2081, 2127, 2128, 2129, 2130, 2131, 2132, 2133, 2134, 2160, 2210, 2211, 2212, 2213, 2214, 2215, 2216, 2240, 2292, 2293, 2294, 2295, 2296, 2297, 2298, 2320, 2375, 2376, 2377, 2378, 2379, 2380, 2400, 2457, 2458, 2459, 2460, 2461, 2462, 2480, 2539, 2540, 2541, 2542, 2543, 2560, 2622, 2623, 2624, 2625, 2640, 2704, 2705, 2706, 2707, 2720, 2786, 2787, 2788, 2789, 2800, 2869, 2870, 2871, 2880, 2951, 2952, 2960, 3033, 3034, 3040, 3116, 3120, 3198, 3200, 3280, 3360, 3362, 3440, 3444, 3520, 3526, 3527, 3600, 3608, 3609, 3680, 3689, 3690, 3691, 3760, 3771, 3772, 3773, 3774, 3840, 3853, 3854, 3855, 3856, 3920, 3935, 3936, 3937, 3938, 4000, 4017, 4018, 4019, 4020, 4021, 4080, 4098, 4099, 4100, 4101, 4102, 4103, 4160, 4180, 4181, 4182, 4183, 4184, 4185, 4240, 4262, 4263, 4264, 4265, 4266, 4267, 4268, 4320, 4344, 4345, 4346, 4347, 4348, 4349, 4350, 4400, 4426, 4427, 4428, 4429, 4430, 4431, 4432, 4433, 4479, 4480, 4481, 4507, 4508, 4509, 4510, 4511, 4512, 4513, 4514, 4515, 4559, 4560, 4561, 4589, 4590, 4591, 4592, 4593, 4594, 4595, 4596, 4597, 4639, 4640, 4641, 4671, 4672, 4673, 4674, 4675, 4676, 4677, 4678, 4679, 4680, 4719, 4720, 4721, 4753, 4754, 4755, 4756, 4757, 4758, 4759, 4760, 4761, 4762, 4799, 4800, 4801, 4835, 4836, 4837, 4838, 4839, 4840, 4841, 4842, 4843, 4844, 4879, 4880, 4881, 4916, 4917, 4918, 4919, 4920, 4921, 4922, 4923, 4924, 4925, 4926, 4927, 4959, 4960, 4961, 4998, 4999, 5000, 5001, 5002, 5003, 5004, 5005, 5006, 5007, 5008, 5009, 5039, 5040, 5041, 5080, 5081, 5082, 5083, 5084, 5085, 5086, 5087, 5088, 5089, 5090, 5091, 5119, 5120, 5121, 5162, 5163, 5164, 5165, 5166, 5167, 5168, 5169, 5170, 5171, 5172, 5173, 5174, 5199, 5200, 5201, 5244, 5245, 5246, 5247, 5248, 5249, 5250, 5251, 5252, 5253, 5254, 5255, 5256, 5279, 5280, 5281, 5325, 5326, 5327, 5328, 5329, 5330, 5331, 5332, 5333, 5334, 5335, 5336, 5337, 5338, 5339, 5359, 5360, 5361, 5407, 5408, 5409, 5410, 5411, 5412, 5413, 5414, 5415, 5416, 5417, 5418, 5419, 5420, 5421, 5439, 5440, 5441, 5489, 5490, 5491, 5492, 5493, 5494, 5495, 5496, 5497, 5498, 5499, 5500, 5501, 5502, 5503, 5519, 5520, 5521, 5571, 5572, 5573, 5574, 5575, 5576, 5577, 5578, 5579, 5580, 5581, 5582, 5583, 5584, 5585, 5586, 5598, 5599, 5600, 5601, 5602, 5652, 5653, 5654, 5655, 5656, 5657, 5658, 5659, 5660, 5661, 5662, 5663, 5664, 5665, 5666, 5667, 5668, 5678, 5679, 5680, 5681, 5682, 5734, 5735, 5736, 5737, 5738, 5739, 5740, 5741, 5742, 5743, 5744, 5745, 5746, 5747, 5748, 5749, 5750, 5758, 5759, 5760, 5761, 5762, 5816, 5817, 5818, 5819, 5820, 5821, 5822, 5823, 5824, 5825, 5826, 5827, 5828, 5829, 5830, 5831, 5838, 5839, 5840, 5841, 5842, 5898, 5899, 5900, 5901, 5902, 5903, 5904, 5905, 5906, 5907, 5908, 5909, 5910, 5911, 5912, 5918, 5919, 5920, 5921, 5922, 5980, 5981, 5982, 5983, 5984, 5985, 5986, 5987, 5988, 5989, 5990, 5991, 5992, 5993, 5998, 5999, 6000, 6001, 6002, 6061, 6062, 6063, 6064, 6065, 6066, 6067, 6068, 6069, 6070, 6071, 6072, 6073, 6074, 6078, 6079, 6080, 6081, 6082, 6143, 6144, 6145, 6146, 6147, 6148, 6149, 6150, 6151, 6152, 6153, 6154, 6155, 6158, 6159, 6160, 6161, 6162, 6225, 6226, 6227, 6228, 6229, 6230, 6231, 6232, 6233, 6234, 6235, 6236, 6238, 6239, 6240, 6241, 6242, 6307, 6308, 6309, 6310, 6311, 6312, 6313, 6314, 6315, 6316, 6317, 6318, 6319, 6320, 6321, 6322, 6389, 6390, 6391, 6392, 6393, 6394, 6395, 6396, 6397, 6398, 6399, 6400, 6401, 6402, 6470, 6471, 6472, 6473, 6474, 6475, 6476, 6477, 6478, 6479, 6480, 6481, 6482, 6552, 6553, 6554, 6555, 6556, 6557, 6558, 6559, 6560]\n",
      "CPU times: user 186 ms, sys: 19.6 ms, total: 205 ms\n",
      "Wall time: 204 ms\n"
     ]
    }
   ],
   "source": [
    "%%time\n",
    "n_total = len(simulation.dataframe)\n",
    "n_train = len(simulation.dataframe[simulation.dataframe.type_of == \"train\"])\n",
    "n_val = len(simulation.dataframe[simulation.dataframe.type_of == \"val\"])\n",
    "n_test = len(simulation.dataframe[simulation.dataframe.type_of == \"test\"])\n",
    "n_train_hamiltonians = len(simulation.train_ids)\n",
    "n_val_hamiltonians = len(simulation.val_ids)\n",
    "n_test_hamiltonians = len(simulation.test_ids)\n",
    "n_total_hamiltonians = n_train_hamiltonians + n_val_hamiltonians + n_test_hamiltonians\n",
    "\n",
    "print(\"% train: \", n_train/n_total)\n",
    "print(\"% val: \",  n_val/n_total)\n",
    "print(\"% test: \", n_test/n_total)\n",
    "print(\"% train + val + test: \", (n_train+n_val+n_test)/n_total)\n",
    "print(\"\\n\")\n",
    "print(\"number of train hamiltonians: \", n_train_hamiltonians)\n",
    "print(\"number of val hamiltonians: \", n_val_hamiltonians)\n",
    "print(\"number of test hamiltonians: \", n_test_hamiltonians)\n",
    "print(\"total number of hamiltonians: \", n_total_hamiltonians)\n",
    "print(\"\\n\")\n",
    "print(\"train ids: \", simulation.train_ids)\n",
    "print(\"val ids: \", simulation.val_ids)\n",
    "print(\"test ids: \", simulation.test_ids)"
   ]
  },
  {
   "cell_type": "markdown",
   "metadata": {
    "papermill": {
     "duration": 0.020354,
     "end_time": "2020-07-08T05:33:44.312641",
     "exception": false,
     "start_time": "2020-07-08T05:33:44.292287",
     "status": "completed"
    },
    "tags": []
   },
   "source": [
    "## Running a simulation"
   ]
  },
  {
   "cell_type": "code",
   "execution_count": 23,
   "metadata": {
    "execution": {
     "iopub.execute_input": "2020-07-08T05:33:44.351424Z",
     "iopub.status.busy": "2020-07-08T05:33:44.351112Z",
     "iopub.status.idle": "2020-07-08T05:51:09.345496Z",
     "shell.execute_reply": "2020-07-08T05:51:09.345180Z"
    },
    "papermill": {
     "duration": 1045.014029,
     "end_time": "2020-07-08T05:51:09.345549",
     "exception": false,
     "start_time": "2020-07-08T05:33:44.331520",
     "status": "completed"
    },
    "tags": []
   },
   "outputs": [
    {
     "name": "stderr",
     "output_type": "stream",
     "text": [
      "\r",
      "running experiments:   0%|          | 0/100 [00:00<?, ?it/s]"
     ]
    },
    {
     "name": "stderr",
     "output_type": "stream",
     "text": [
      "\r",
      "running experiments:   1%|          | 1/100 [00:13<22:12, 13.46s/it]"
     ]
    },
    {
     "name": "stderr",
     "output_type": "stream",
     "text": [
      "\r",
      "running experiments:   2%|▏         | 2/100 [00:22<19:49, 12.14s/it]"
     ]
    },
    {
     "name": "stderr",
     "output_type": "stream",
     "text": [
      "\r",
      "running experiments:   3%|▎         | 3/100 [00:33<19:00, 11.76s/it]"
     ]
    },
    {
     "name": "stderr",
     "output_type": "stream",
     "text": [
      "\r",
      "running experiments:   4%|▍         | 4/100 [00:41<16:57, 10.60s/it]"
     ]
    },
    {
     "name": "stderr",
     "output_type": "stream",
     "text": [
      "\r",
      "running experiments:   5%|▌         | 5/100 [00:50<15:57, 10.08s/it]"
     ]
    },
    {
     "name": "stderr",
     "output_type": "stream",
     "text": [
      "\r",
      "running experiments:   6%|▌         | 6/100 [01:02<16:53, 10.78s/it]"
     ]
    },
    {
     "name": "stderr",
     "output_type": "stream",
     "text": [
      "\r",
      "running experiments:   7%|▋         | 7/100 [01:10<15:28,  9.99s/it]"
     ]
    },
    {
     "name": "stderr",
     "output_type": "stream",
     "text": [
      "\r",
      "running experiments:   8%|▊         | 8/100 [01:21<15:52, 10.35s/it]"
     ]
    },
    {
     "name": "stderr",
     "output_type": "stream",
     "text": [
      "\r",
      "running experiments:   9%|▉         | 9/100 [01:31<15:16, 10.07s/it]"
     ]
    },
    {
     "name": "stderr",
     "output_type": "stream",
     "text": [
      "\r",
      "running experiments:  10%|█         | 10/100 [01:43<16:03, 10.70s/it]"
     ]
    },
    {
     "name": "stderr",
     "output_type": "stream",
     "text": [
      "\r",
      "running experiments:  11%|█         | 11/100 [01:55<16:16, 10.98s/it]"
     ]
    },
    {
     "name": "stderr",
     "output_type": "stream",
     "text": [
      "\r",
      "running experiments:  12%|█▏        | 12/100 [02:05<15:57, 10.88s/it]"
     ]
    },
    {
     "name": "stderr",
     "output_type": "stream",
     "text": [
      "\r",
      "running experiments:  13%|█▎        | 13/100 [02:16<15:43, 10.84s/it]"
     ]
    },
    {
     "name": "stderr",
     "output_type": "stream",
     "text": [
      "\r",
      "running experiments:  14%|█▍        | 14/100 [02:28<15:56, 11.13s/it]"
     ]
    },
    {
     "name": "stderr",
     "output_type": "stream",
     "text": [
      "\r",
      "running experiments:  15%|█▌        | 15/100 [02:37<14:49, 10.47s/it]"
     ]
    },
    {
     "name": "stderr",
     "output_type": "stream",
     "text": [
      "\r",
      "running experiments:  16%|█▌        | 16/100 [02:47<14:26, 10.32s/it]"
     ]
    },
    {
     "name": "stderr",
     "output_type": "stream",
     "text": [
      "\r",
      "running experiments:  17%|█▋        | 17/100 [02:58<14:44, 10.65s/it]"
     ]
    },
    {
     "name": "stderr",
     "output_type": "stream",
     "text": [
      "\r",
      "running experiments:  18%|█▊        | 18/100 [03:08<14:06, 10.32s/it]"
     ]
    },
    {
     "name": "stderr",
     "output_type": "stream",
     "text": [
      "\r",
      "running experiments:  19%|█▉        | 19/100 [03:23<15:57, 11.82s/it]"
     ]
    },
    {
     "name": "stderr",
     "output_type": "stream",
     "text": [
      "\r",
      "running experiments:  20%|██        | 20/100 [03:33<15:12, 11.41s/it]"
     ]
    },
    {
     "name": "stderr",
     "output_type": "stream",
     "text": [
      "\r",
      "running experiments:  21%|██        | 21/100 [03:45<15:13, 11.56s/it]"
     ]
    },
    {
     "name": "stderr",
     "output_type": "stream",
     "text": [
      "\r",
      "running experiments:  22%|██▏       | 22/100 [03:57<14:57, 11.50s/it]"
     ]
    },
    {
     "name": "stderr",
     "output_type": "stream",
     "text": [
      "\r",
      "running experiments:  23%|██▎       | 23/100 [04:11<16:00, 12.47s/it]"
     ]
    },
    {
     "name": "stderr",
     "output_type": "stream",
     "text": [
      "\r",
      "running experiments:  24%|██▍       | 24/100 [04:22<14:56, 11.79s/it]"
     ]
    },
    {
     "name": "stderr",
     "output_type": "stream",
     "text": [
      "\r",
      "running experiments:  25%|██▌       | 25/100 [04:35<15:11, 12.15s/it]"
     ]
    },
    {
     "name": "stderr",
     "output_type": "stream",
     "text": [
      "\r",
      "running experiments:  26%|██▌       | 26/100 [04:47<15:04, 12.23s/it]"
     ]
    },
    {
     "name": "stderr",
     "output_type": "stream",
     "text": [
      "\r",
      "running experiments:  27%|██▋       | 27/100 [04:55<13:28, 11.07s/it]"
     ]
    },
    {
     "name": "stderr",
     "output_type": "stream",
     "text": [
      "\r",
      "running experiments:  28%|██▊       | 28/100 [05:07<13:22, 11.14s/it]"
     ]
    },
    {
     "name": "stderr",
     "output_type": "stream",
     "text": [
      "\r",
      "running experiments:  29%|██▉       | 29/100 [05:16<12:39, 10.70s/it]"
     ]
    },
    {
     "name": "stderr",
     "output_type": "stream",
     "text": [
      "\r",
      "running experiments:  30%|███       | 30/100 [05:27<12:17, 10.54s/it]"
     ]
    },
    {
     "name": "stderr",
     "output_type": "stream",
     "text": [
      "\r",
      "running experiments:  31%|███       | 31/100 [05:35<11:14,  9.78s/it]"
     ]
    },
    {
     "name": "stderr",
     "output_type": "stream",
     "text": [
      "\r",
      "running experiments:  32%|███▏      | 32/100 [05:48<12:14, 10.81s/it]"
     ]
    },
    {
     "name": "stderr",
     "output_type": "stream",
     "text": [
      "\r",
      "running experiments:  33%|███▎      | 33/100 [05:55<10:57,  9.82s/it]"
     ]
    },
    {
     "name": "stderr",
     "output_type": "stream",
     "text": [
      "\r",
      "running experiments:  34%|███▍      | 34/100 [06:03<10:08,  9.22s/it]"
     ]
    },
    {
     "name": "stderr",
     "output_type": "stream",
     "text": [
      "\r",
      "running experiments:  35%|███▌      | 35/100 [06:14<10:36,  9.80s/it]"
     ]
    },
    {
     "name": "stderr",
     "output_type": "stream",
     "text": [
      "\r",
      "running experiments:  36%|███▌      | 36/100 [06:23<10:07,  9.50s/it]"
     ]
    },
    {
     "name": "stderr",
     "output_type": "stream",
     "text": [
      "\r",
      "running experiments:  37%|███▋      | 37/100 [06:33<10:00,  9.53s/it]"
     ]
    },
    {
     "name": "stderr",
     "output_type": "stream",
     "text": [
      "\r",
      "running experiments:  38%|███▊      | 38/100 [06:42<09:50,  9.53s/it]"
     ]
    },
    {
     "name": "stderr",
     "output_type": "stream",
     "text": [
      "\r",
      "running experiments:  39%|███▉      | 39/100 [06:53<09:58,  9.81s/it]"
     ]
    },
    {
     "name": "stderr",
     "output_type": "stream",
     "text": [
      "\r",
      "running experiments:  40%|████      | 40/100 [07:03<10:00, 10.01s/it]"
     ]
    },
    {
     "name": "stderr",
     "output_type": "stream",
     "text": [
      "\r",
      "running experiments:  41%|████      | 41/100 [07:14<10:08, 10.31s/it]"
     ]
    },
    {
     "name": "stderr",
     "output_type": "stream",
     "text": [
      "\r",
      "running experiments:  42%|████▏     | 42/100 [07:23<09:33,  9.90s/it]"
     ]
    },
    {
     "name": "stderr",
     "output_type": "stream",
     "text": [
      "\r",
      "running experiments:  43%|████▎     | 43/100 [07:32<08:59,  9.46s/it]"
     ]
    },
    {
     "name": "stderr",
     "output_type": "stream",
     "text": [
      "\r",
      "running experiments:  44%|████▍     | 44/100 [07:39<08:16,  8.87s/it]"
     ]
    },
    {
     "name": "stderr",
     "output_type": "stream",
     "text": [
      "\r",
      "running experiments:  45%|████▌     | 45/100 [07:47<07:56,  8.65s/it]"
     ]
    },
    {
     "name": "stderr",
     "output_type": "stream",
     "text": [
      "\r",
      "running experiments:  46%|████▌     | 46/100 [07:57<08:05,  8.99s/it]"
     ]
    },
    {
     "name": "stderr",
     "output_type": "stream",
     "text": [
      "\r",
      "running experiments:  47%|████▋     | 47/100 [08:06<07:51,  8.89s/it]"
     ]
    },
    {
     "name": "stderr",
     "output_type": "stream",
     "text": [
      "\r",
      "running experiments:  48%|████▊     | 48/100 [08:18<08:33,  9.87s/it]"
     ]
    },
    {
     "name": "stderr",
     "output_type": "stream",
     "text": [
      "\r",
      "running experiments:  49%|████▉     | 49/100 [08:28<08:23,  9.87s/it]"
     ]
    },
    {
     "name": "stderr",
     "output_type": "stream",
     "text": [
      "\r",
      "running experiments:  50%|█████     | 50/100 [08:39<08:29, 10.20s/it]"
     ]
    },
    {
     "name": "stderr",
     "output_type": "stream",
     "text": [
      "\r",
      "running experiments:  51%|█████     | 51/100 [08:48<08:10, 10.02s/it]"
     ]
    },
    {
     "name": "stderr",
     "output_type": "stream",
     "text": [
      "\r",
      "running experiments:  52%|█████▏    | 52/100 [08:58<07:57,  9.94s/it]"
     ]
    },
    {
     "name": "stderr",
     "output_type": "stream",
     "text": [
      "\r",
      "running experiments:  53%|█████▎    | 53/100 [09:09<07:58, 10.17s/it]"
     ]
    },
    {
     "name": "stderr",
     "output_type": "stream",
     "text": [
      "\r",
      "running experiments:  54%|█████▍    | 54/100 [09:19<07:48, 10.18s/it]"
     ]
    },
    {
     "name": "stderr",
     "output_type": "stream",
     "text": [
      "\r",
      "running experiments:  55%|█████▌    | 55/100 [09:29<07:38, 10.18s/it]"
     ]
    },
    {
     "name": "stderr",
     "output_type": "stream",
     "text": [
      "\r",
      "running experiments:  56%|█████▌    | 56/100 [09:39<07:24, 10.11s/it]"
     ]
    },
    {
     "name": "stderr",
     "output_type": "stream",
     "text": [
      "\r",
      "running experiments:  57%|█████▋    | 57/100 [09:49<07:19, 10.23s/it]"
     ]
    },
    {
     "name": "stderr",
     "output_type": "stream",
     "text": [
      "\r",
      "running experiments:  58%|█████▊    | 58/100 [10:03<07:50, 11.21s/it]"
     ]
    },
    {
     "name": "stderr",
     "output_type": "stream",
     "text": [
      "\r",
      "running experiments:  59%|█████▉    | 59/100 [10:13<07:30, 10.98s/it]"
     ]
    },
    {
     "name": "stderr",
     "output_type": "stream",
     "text": [
      "\r",
      "running experiments:  60%|██████    | 60/100 [10:24<07:19, 10.98s/it]"
     ]
    },
    {
     "name": "stderr",
     "output_type": "stream",
     "text": [
      "\r",
      "running experiments:  61%|██████    | 61/100 [10:36<07:15, 11.18s/it]"
     ]
    },
    {
     "name": "stderr",
     "output_type": "stream",
     "text": [
      "\r",
      "running experiments:  62%|██████▏   | 62/100 [10:44<06:32, 10.32s/it]"
     ]
    },
    {
     "name": "stderr",
     "output_type": "stream",
     "text": [
      "\r",
      "running experiments:  63%|██████▎   | 63/100 [11:00<07:23, 11.98s/it]"
     ]
    },
    {
     "name": "stderr",
     "output_type": "stream",
     "text": [
      "\r",
      "running experiments:  64%|██████▍   | 64/100 [11:12<07:10, 11.96s/it]"
     ]
    },
    {
     "name": "stderr",
     "output_type": "stream",
     "text": [
      "\r",
      "running experiments:  65%|██████▌   | 65/100 [11:23<06:45, 11.60s/it]"
     ]
    },
    {
     "name": "stderr",
     "output_type": "stream",
     "text": [
      "\r",
      "running experiments:  66%|██████▌   | 66/100 [11:34<06:32, 11.53s/it]"
     ]
    },
    {
     "name": "stderr",
     "output_type": "stream",
     "text": [
      "\r",
      "running experiments:  67%|██████▋   | 67/100 [11:49<06:53, 12.54s/it]"
     ]
    },
    {
     "name": "stderr",
     "output_type": "stream",
     "text": [
      "\r",
      "running experiments:  68%|██████▊   | 68/100 [12:05<07:10, 13.46s/it]"
     ]
    },
    {
     "name": "stderr",
     "output_type": "stream",
     "text": [
      "\r",
      "running experiments:  69%|██████▉   | 69/100 [12:16<06:37, 12.83s/it]"
     ]
    },
    {
     "name": "stderr",
     "output_type": "stream",
     "text": [
      "\r",
      "running experiments:  70%|███████   | 70/100 [12:27<06:05, 12.18s/it]"
     ]
    },
    {
     "name": "stderr",
     "output_type": "stream",
     "text": [
      "\r",
      "running experiments:  71%|███████   | 71/100 [12:40<06:04, 12.58s/it]"
     ]
    },
    {
     "name": "stderr",
     "output_type": "stream",
     "text": [
      "\r",
      "running experiments:  72%|███████▏  | 72/100 [12:54<06:04, 13.02s/it]"
     ]
    },
    {
     "name": "stderr",
     "output_type": "stream",
     "text": [
      "\r",
      "running experiments:  73%|███████▎  | 73/100 [13:06<05:38, 12.53s/it]"
     ]
    },
    {
     "name": "stderr",
     "output_type": "stream",
     "text": [
      "\r",
      "running experiments:  74%|███████▍  | 74/100 [13:18<05:21, 12.36s/it]"
     ]
    },
    {
     "name": "stderr",
     "output_type": "stream",
     "text": [
      "\r",
      "running experiments:  75%|███████▌  | 75/100 [13:28<04:51, 11.65s/it]"
     ]
    },
    {
     "name": "stderr",
     "output_type": "stream",
     "text": [
      "\r",
      "running experiments:  76%|███████▌  | 76/100 [13:37<04:24, 11.02s/it]"
     ]
    },
    {
     "name": "stderr",
     "output_type": "stream",
     "text": [
      "\r",
      "running experiments:  77%|███████▋  | 77/100 [13:46<03:55, 10.25s/it]"
     ]
    },
    {
     "name": "stderr",
     "output_type": "stream",
     "text": [
      "\r",
      "running experiments:  78%|███████▊  | 78/100 [13:53<03:28,  9.46s/it]"
     ]
    },
    {
     "name": "stderr",
     "output_type": "stream",
     "text": [
      "\r",
      "running experiments:  79%|███████▉  | 79/100 [14:03<03:21,  9.58s/it]"
     ]
    },
    {
     "name": "stderr",
     "output_type": "stream",
     "text": [
      "\r",
      "running experiments:  80%|████████  | 80/100 [14:14<03:19, 10.00s/it]"
     ]
    },
    {
     "name": "stderr",
     "output_type": "stream",
     "text": [
      "\r",
      "running experiments:  81%|████████  | 81/100 [14:22<02:59,  9.43s/it]"
     ]
    },
    {
     "name": "stderr",
     "output_type": "stream",
     "text": [
      "\r",
      "running experiments:  82%|████████▏ | 82/100 [14:30<02:41,  8.97s/it]"
     ]
    },
    {
     "name": "stderr",
     "output_type": "stream",
     "text": [
      "\r",
      "running experiments:  83%|████████▎ | 83/100 [14:38<02:28,  8.71s/it]"
     ]
    },
    {
     "name": "stderr",
     "output_type": "stream",
     "text": [
      "\r",
      "running experiments:  84%|████████▍ | 84/100 [14:50<02:32,  9.56s/it]"
     ]
    },
    {
     "name": "stderr",
     "output_type": "stream",
     "text": [
      "\r",
      "running experiments:  85%|████████▌ | 85/100 [14:58<02:16,  9.09s/it]"
     ]
    },
    {
     "name": "stderr",
     "output_type": "stream",
     "text": [
      "\r",
      "running experiments:  86%|████████▌ | 86/100 [15:07<02:07,  9.10s/it]"
     ]
    },
    {
     "name": "stderr",
     "output_type": "stream",
     "text": [
      "\r",
      "running experiments:  87%|████████▋ | 87/100 [15:17<02:01,  9.36s/it]"
     ]
    },
    {
     "name": "stderr",
     "output_type": "stream",
     "text": [
      "\r",
      "running experiments:  88%|████████▊ | 88/100 [15:27<01:54,  9.52s/it]"
     ]
    },
    {
     "name": "stderr",
     "output_type": "stream",
     "text": [
      "\r",
      "running experiments:  89%|████████▉ | 89/100 [15:36<01:43,  9.40s/it]"
     ]
    },
    {
     "name": "stderr",
     "output_type": "stream",
     "text": [
      "\r",
      "running experiments:  90%|█████████ | 90/100 [15:49<01:44, 10.47s/it]"
     ]
    },
    {
     "name": "stderr",
     "output_type": "stream",
     "text": [
      "\r",
      "running experiments:  91%|█████████ | 91/100 [15:58<01:30, 10.08s/it]"
     ]
    },
    {
     "name": "stderr",
     "output_type": "stream",
     "text": [
      "\r",
      "running experiments:  92%|█████████▏| 92/100 [16:09<01:23, 10.44s/it]"
     ]
    },
    {
     "name": "stderr",
     "output_type": "stream",
     "text": [
      "\r",
      "running experiments:  93%|█████████▎| 93/100 [16:18<01:10, 10.00s/it]"
     ]
    },
    {
     "name": "stderr",
     "output_type": "stream",
     "text": [
      "\r",
      "running experiments:  94%|█████████▍| 94/100 [16:26<00:55,  9.32s/it]"
     ]
    },
    {
     "name": "stderr",
     "output_type": "stream",
     "text": [
      "\r",
      "running experiments:  95%|█████████▌| 95/100 [16:37<00:48,  9.73s/it]"
     ]
    },
    {
     "name": "stderr",
     "output_type": "stream",
     "text": [
      "\r",
      "running experiments:  96%|█████████▌| 96/100 [16:47<00:39,  9.82s/it]"
     ]
    },
    {
     "name": "stderr",
     "output_type": "stream",
     "text": [
      "\r",
      "running experiments:  97%|█████████▋| 97/100 [16:54<00:27,  9.07s/it]"
     ]
    },
    {
     "name": "stderr",
     "output_type": "stream",
     "text": [
      "\r",
      "running experiments:  98%|█████████▊| 98/100 [17:05<00:19,  9.59s/it]"
     ]
    },
    {
     "name": "stderr",
     "output_type": "stream",
     "text": [
      "\r",
      "running experiments:  99%|█████████▉| 99/100 [17:16<00:10, 10.21s/it]"
     ]
    },
    {
     "name": "stderr",
     "output_type": "stream",
     "text": [
      "\r",
      "running experiments: 100%|██████████| 100/100 [17:24<00:00,  9.54s/it]"
     ]
    },
    {
     "name": "stderr",
     "output_type": "stream",
     "text": [
      "\r",
      "running experiments: 100%|██████████| 100/100 [17:24<00:00, 10.45s/it]"
     ]
    },
    {
     "name": "stdout",
     "output_type": "stream",
     "text": [
      "CPU times: user 17min 22s, sys: 2.32 s, total: 17min 25s\n",
      "Wall time: 17min 24s\n"
     ]
    },
    {
     "name": "stderr",
     "output_type": "stream",
     "text": [
      "\n"
     ]
    },
    {
     "data": {
      "text/html": [
       "<div>\n",
       "<style scoped>\n",
       "    .dataframe tbody tr th:only-of-type {\n",
       "        vertical-align: middle;\n",
       "    }\n",
       "\n",
       "    .dataframe tbody tr th {\n",
       "        vertical-align: top;\n",
       "    }\n",
       "\n",
       "    .dataframe thead th {\n",
       "        text-align: right;\n",
       "    }\n",
       "</style>\n",
       "<table border=\"1\" class=\"dataframe\">\n",
       "  <thead>\n",
       "    <tr style=\"text-align: right;\">\n",
       "      <th></th>\n",
       "      <th>id</th>\n",
       "      <th>path</th>\n",
       "      <th>t1</th>\n",
       "      <th>t2</th>\n",
       "      <th>winding</th>\n",
       "      <th>phase</th>\n",
       "      <th>pred_phase</th>\n",
       "      <th>type_of</th>\n",
       "      <th>dct_feat0</th>\n",
       "      <th>dct_feat1</th>\n",
       "      <th>...</th>\n",
       "      <th>dct_feat41</th>\n",
       "      <th>dct_feat42</th>\n",
       "      <th>dct_feat43</th>\n",
       "      <th>dct_feat44</th>\n",
       "      <th>dct_feat45</th>\n",
       "      <th>dct_feat46</th>\n",
       "      <th>dct_feat47</th>\n",
       "      <th>dct_feat48</th>\n",
       "      <th>dct_feat49</th>\n",
       "      <th>dct_feat50</th>\n",
       "    </tr>\n",
       "  </thead>\n",
       "  <tbody>\n",
       "    <tr>\n",
       "      <th>0</th>\n",
       "      <td>0</td>\n",
       "      <td>H_-2_-2_0.509296.dat</td>\n",
       "      <td>-2.0</td>\n",
       "      <td>-2.0</td>\n",
       "      <td>0.509296</td>\n",
       "      <td>999</td>\n",
       "      <td>0</td>\n",
       "      <td>test</td>\n",
       "      <td>5.100000</td>\n",
       "      <td>1.387779e-16</td>\n",
       "      <td>...</td>\n",
       "      <td>-3.441691e-15</td>\n",
       "      <td>0.200000</td>\n",
       "      <td>1.304512e-15</td>\n",
       "      <td>0.200000</td>\n",
       "      <td>1.665335e-16</td>\n",
       "      <td>0.200000</td>\n",
       "      <td>6.133982e-15</td>\n",
       "      <td>0.200000</td>\n",
       "      <td>2.664535e-15</td>\n",
       "      <td>0.100000</td>\n",
       "    </tr>\n",
       "    <tr>\n",
       "      <th>1</th>\n",
       "      <td>0</td>\n",
       "      <td>H_-2_-2_0.509296.dat</td>\n",
       "      <td>-2.0</td>\n",
       "      <td>-2.0</td>\n",
       "      <td>0.509296</td>\n",
       "      <td>999</td>\n",
       "      <td>0</td>\n",
       "      <td>test</td>\n",
       "      <td>0.282284</td>\n",
       "      <td>7.326023e+00</td>\n",
       "      <td>...</td>\n",
       "      <td>2.828469e-01</td>\n",
       "      <td>0.008547</td>\n",
       "      <td>2.828423e-01</td>\n",
       "      <td>0.015731</td>\n",
       "      <td>2.828459e-01</td>\n",
       "      <td>0.037235</td>\n",
       "      <td>2.828421e-01</td>\n",
       "      <td>0.187694</td>\n",
       "      <td>3.107146e-01</td>\n",
       "      <td>-0.282284</td>\n",
       "    </tr>\n",
       "    <tr>\n",
       "      <th>2</th>\n",
       "      <td>0</td>\n",
       "      <td>H_-2_-2_0.509296.dat</td>\n",
       "      <td>-2.0</td>\n",
       "      <td>-2.0</td>\n",
       "      <td>0.509296</td>\n",
       "      <td>999</td>\n",
       "      <td>1</td>\n",
       "      <td>test</td>\n",
       "      <td>0.141421</td>\n",
       "      <td>7.478088e-01</td>\n",
       "      <td>...</td>\n",
       "      <td>2.742661e-02</td>\n",
       "      <td>0.282838</td>\n",
       "      <td>4.817354e-02</td>\n",
       "      <td>0.282842</td>\n",
       "      <td>1.050913e-01</td>\n",
       "      <td>0.282838</td>\n",
       "      <td>4.463029e-01</td>\n",
       "      <td>0.393917</td>\n",
       "      <td>-7.478088e-01</td>\n",
       "      <td>0.141423</td>\n",
       "    </tr>\n",
       "    <tr>\n",
       "      <th>3</th>\n",
       "      <td>0</td>\n",
       "      <td>H_-2_-2_0.509296.dat</td>\n",
       "      <td>-2.0</td>\n",
       "      <td>-2.0</td>\n",
       "      <td>0.509296</td>\n",
       "      <td>999</td>\n",
       "      <td>0</td>\n",
       "      <td>test</td>\n",
       "      <td>-0.100000</td>\n",
       "      <td>-2.775558e-17</td>\n",
       "      <td>...</td>\n",
       "      <td>-1.970646e-15</td>\n",
       "      <td>-0.200000</td>\n",
       "      <td>-7.771561e-16</td>\n",
       "      <td>-0.200000</td>\n",
       "      <td>1.387779e-16</td>\n",
       "      <td>-0.200000</td>\n",
       "      <td>-5.745404e-15</td>\n",
       "      <td>-0.200000</td>\n",
       "      <td>-3.480549e-14</td>\n",
       "      <td>-5.100000</td>\n",
       "    </tr>\n",
       "    <tr>\n",
       "      <th>4</th>\n",
       "      <td>0</td>\n",
       "      <td>H_-2_-2_0.509296.dat</td>\n",
       "      <td>-2.0</td>\n",
       "      <td>-2.0</td>\n",
       "      <td>0.509296</td>\n",
       "      <td>999</td>\n",
       "      <td>1</td>\n",
       "      <td>test</td>\n",
       "      <td>4.483330</td>\n",
       "      <td>-4.167461e-01</td>\n",
       "      <td>...</td>\n",
       "      <td>1.019895e-03</td>\n",
       "      <td>-0.009983</td>\n",
       "      <td>1.015630e-03</td>\n",
       "      <td>-0.010147</td>\n",
       "      <td>1.016442e-03</td>\n",
       "      <td>-0.011239</td>\n",
       "      <td>1.019032e-03</td>\n",
       "      <td>-0.020052</td>\n",
       "      <td>4.442366e-01</td>\n",
       "      <td>0.012300</td>\n",
       "    </tr>\n",
       "    <tr>\n",
       "      <th>5</th>\n",
       "      <td>0</td>\n",
       "      <td>H_-2_-2_0.509296.dat</td>\n",
       "      <td>-2.0</td>\n",
       "      <td>-2.0</td>\n",
       "      <td>0.509296</td>\n",
       "      <td>999</td>\n",
       "      <td>1</td>\n",
       "      <td>test</td>\n",
       "      <td>0.001204</td>\n",
       "      <td>5.907875e+00</td>\n",
       "      <td>...</td>\n",
       "      <td>-2.253483e-02</td>\n",
       "      <td>0.002406</td>\n",
       "      <td>-2.436462e-02</td>\n",
       "      <td>0.002409</td>\n",
       "      <td>-3.062847e-02</td>\n",
       "      <td>0.002412</td>\n",
       "      <td>-7.053047e-02</td>\n",
       "      <td>0.882575</td>\n",
       "      <td>7.029226e-02</td>\n",
       "      <td>0.001210</td>\n",
       "    </tr>\n",
       "    <tr>\n",
       "      <th>6</th>\n",
       "      <td>0</td>\n",
       "      <td>H_-2_-2_0.509296.dat</td>\n",
       "      <td>-2.0</td>\n",
       "      <td>-2.0</td>\n",
       "      <td>0.509296</td>\n",
       "      <td>999</td>\n",
       "      <td>1</td>\n",
       "      <td>test</td>\n",
       "      <td>-0.274334</td>\n",
       "      <td>-2.828450e-01</td>\n",
       "      <td>...</td>\n",
       "      <td>-2.828451e-01</td>\n",
       "      <td>-0.086910</td>\n",
       "      <td>-2.828432e-01</td>\n",
       "      <td>-0.180827</td>\n",
       "      <td>-2.828381e-01</td>\n",
       "      <td>-0.707234</td>\n",
       "      <td>-5.279687e-01</td>\n",
       "      <td>0.997979</td>\n",
       "      <td>-2.828414e-01</td>\n",
       "      <td>0.277928</td>\n",
       "    </tr>\n",
       "    <tr>\n",
       "      <th>7</th>\n",
       "      <td>0</td>\n",
       "      <td>H_-2_-2_0.509296.dat</td>\n",
       "      <td>-2.0</td>\n",
       "      <td>-2.0</td>\n",
       "      <td>0.509296</td>\n",
       "      <td>999</td>\n",
       "      <td>0</td>\n",
       "      <td>test</td>\n",
       "      <td>-1.444680</td>\n",
       "      <td>-1.653380e-03</td>\n",
       "      <td>...</td>\n",
       "      <td>-1.653857e-03</td>\n",
       "      <td>0.044566</td>\n",
       "      <td>-1.649914e-03</td>\n",
       "      <td>0.061130</td>\n",
       "      <td>-1.652655e-03</td>\n",
       "      <td>0.157878</td>\n",
       "      <td>-1.304599e+00</td>\n",
       "      <td>-0.157630</td>\n",
       "      <td>-1.651443e-03</td>\n",
       "      <td>-0.038008</td>\n",
       "    </tr>\n",
       "    <tr>\n",
       "      <th>8</th>\n",
       "      <td>0</td>\n",
       "      <td>H_-2_-2_0.509296.dat</td>\n",
       "      <td>-2.0</td>\n",
       "      <td>-2.0</td>\n",
       "      <td>0.509296</td>\n",
       "      <td>999</td>\n",
       "      <td>1</td>\n",
       "      <td>test</td>\n",
       "      <td>0.141415</td>\n",
       "      <td>6.024870e-01</td>\n",
       "      <td>...</td>\n",
       "      <td>1.264229e-01</td>\n",
       "      <td>0.282835</td>\n",
       "      <td>2.558473e-01</td>\n",
       "      <td>0.282830</td>\n",
       "      <td>9.555296e-01</td>\n",
       "      <td>0.734170</td>\n",
       "      <td>-1.242674e+00</td>\n",
       "      <td>0.282835</td>\n",
       "      <td>-5.831076e-01</td>\n",
       "      <td>0.141417</td>\n",
       "    </tr>\n",
       "    <tr>\n",
       "      <th>9</th>\n",
       "      <td>0</td>\n",
       "      <td>H_-2_-2_0.509296.dat</td>\n",
       "      <td>-2.0</td>\n",
       "      <td>-2.0</td>\n",
       "      <td>0.509296</td>\n",
       "      <td>999</td>\n",
       "      <td>0</td>\n",
       "      <td>test</td>\n",
       "      <td>0.001304</td>\n",
       "      <td>-2.233543e+00</td>\n",
       "      <td>...</td>\n",
       "      <td>7.258023e-02</td>\n",
       "      <td>0.002603</td>\n",
       "      <td>1.058176e-01</td>\n",
       "      <td>0.002606</td>\n",
       "      <td>2.913953e-01</td>\n",
       "      <td>-1.696553</td>\n",
       "      <td>-2.950707e-01</td>\n",
       "      <td>0.002598</td>\n",
       "      <td>-1.195691e-01</td>\n",
       "      <td>0.001302</td>\n",
       "    </tr>\n",
       "  </tbody>\n",
       "</table>\n",
       "<p>10 rows × 59 columns</p>\n",
       "</div>"
      ],
      "text/plain": [
       "   id                  path   t1   t2   winding  phase  pred_phase type_of  \\\n",
       "0   0  H_-2_-2_0.509296.dat -2.0 -2.0  0.509296    999           0    test   \n",
       "1   0  H_-2_-2_0.509296.dat -2.0 -2.0  0.509296    999           0    test   \n",
       "2   0  H_-2_-2_0.509296.dat -2.0 -2.0  0.509296    999           1    test   \n",
       "3   0  H_-2_-2_0.509296.dat -2.0 -2.0  0.509296    999           0    test   \n",
       "4   0  H_-2_-2_0.509296.dat -2.0 -2.0  0.509296    999           1    test   \n",
       "5   0  H_-2_-2_0.509296.dat -2.0 -2.0  0.509296    999           1    test   \n",
       "6   0  H_-2_-2_0.509296.dat -2.0 -2.0  0.509296    999           1    test   \n",
       "7   0  H_-2_-2_0.509296.dat -2.0 -2.0  0.509296    999           0    test   \n",
       "8   0  H_-2_-2_0.509296.dat -2.0 -2.0  0.509296    999           1    test   \n",
       "9   0  H_-2_-2_0.509296.dat -2.0 -2.0  0.509296    999           0    test   \n",
       "\n",
       "   dct_feat0     dct_feat1  ...    dct_feat41  dct_feat42    dct_feat43  \\\n",
       "0   5.100000  1.387779e-16  ... -3.441691e-15    0.200000  1.304512e-15   \n",
       "1   0.282284  7.326023e+00  ...  2.828469e-01    0.008547  2.828423e-01   \n",
       "2   0.141421  7.478088e-01  ...  2.742661e-02    0.282838  4.817354e-02   \n",
       "3  -0.100000 -2.775558e-17  ... -1.970646e-15   -0.200000 -7.771561e-16   \n",
       "4   4.483330 -4.167461e-01  ...  1.019895e-03   -0.009983  1.015630e-03   \n",
       "5   0.001204  5.907875e+00  ... -2.253483e-02    0.002406 -2.436462e-02   \n",
       "6  -0.274334 -2.828450e-01  ... -2.828451e-01   -0.086910 -2.828432e-01   \n",
       "7  -1.444680 -1.653380e-03  ... -1.653857e-03    0.044566 -1.649914e-03   \n",
       "8   0.141415  6.024870e-01  ...  1.264229e-01    0.282835  2.558473e-01   \n",
       "9   0.001304 -2.233543e+00  ...  7.258023e-02    0.002603  1.058176e-01   \n",
       "\n",
       "   dct_feat44    dct_feat45  dct_feat46    dct_feat47  dct_feat48  \\\n",
       "0    0.200000  1.665335e-16    0.200000  6.133982e-15    0.200000   \n",
       "1    0.015731  2.828459e-01    0.037235  2.828421e-01    0.187694   \n",
       "2    0.282842  1.050913e-01    0.282838  4.463029e-01    0.393917   \n",
       "3   -0.200000  1.387779e-16   -0.200000 -5.745404e-15   -0.200000   \n",
       "4   -0.010147  1.016442e-03   -0.011239  1.019032e-03   -0.020052   \n",
       "5    0.002409 -3.062847e-02    0.002412 -7.053047e-02    0.882575   \n",
       "6   -0.180827 -2.828381e-01   -0.707234 -5.279687e-01    0.997979   \n",
       "7    0.061130 -1.652655e-03    0.157878 -1.304599e+00   -0.157630   \n",
       "8    0.282830  9.555296e-01    0.734170 -1.242674e+00    0.282835   \n",
       "9    0.002606  2.913953e-01   -1.696553 -2.950707e-01    0.002598   \n",
       "\n",
       "     dct_feat49  dct_feat50  \n",
       "0  2.664535e-15    0.100000  \n",
       "1  3.107146e-01   -0.282284  \n",
       "2 -7.478088e-01    0.141423  \n",
       "3 -3.480549e-14   -5.100000  \n",
       "4  4.442366e-01    0.012300  \n",
       "5  7.029226e-02    0.001210  \n",
       "6 -2.828414e-01    0.277928  \n",
       "7 -1.651443e-03   -0.038008  \n",
       "8 -5.831076e-01    0.141417  \n",
       "9 -1.195691e-01    0.001302  \n",
       "\n",
       "[10 rows x 59 columns]"
      ]
     },
     "execution_count": 23,
     "metadata": {},
     "output_type": "execute_result"
    }
   ],
   "source": [
    "%%time\n",
    "simulation.run_simulation(n_experiments, start_n, fit_params,mode, shuffle_rows, pred_params, random_features, \\\n",
    "                          store_in_lists, save_eigenvector, save_hamiltonian, save_accuracy,\\\n",
    "                          save_models)\n",
    "\n",
    "simulation.fourier_engineered_dataframe.head(10)"
   ]
  },
  {
   "cell_type": "code",
   "execution_count": 24,
   "metadata": {
    "execution": {
     "iopub.execute_input": "2020-07-08T05:51:09.417994Z",
     "iopub.status.busy": "2020-07-08T05:51:09.417685Z",
     "iopub.status.idle": "2020-07-08T05:51:09.442665Z",
     "shell.execute_reply": "2020-07-08T05:51:09.442977Z"
    },
    "papermill": {
     "duration": 0.061938,
     "end_time": "2020-07-08T05:51:09.443044",
     "exception": false,
     "start_time": "2020-07-08T05:51:09.381106",
     "status": "completed"
    },
    "tags": []
   },
   "outputs": [
    {
     "data": {
      "text/html": [
       "<div>\n",
       "<style scoped>\n",
       "    .dataframe tbody tr th:only-of-type {\n",
       "        vertical-align: middle;\n",
       "    }\n",
       "\n",
       "    .dataframe tbody tr th {\n",
       "        vertical-align: top;\n",
       "    }\n",
       "\n",
       "    .dataframe thead th {\n",
       "        text-align: right;\n",
       "    }\n",
       "</style>\n",
       "<table border=\"1\" class=\"dataframe\">\n",
       "  <thead>\n",
       "    <tr style=\"text-align: right;\">\n",
       "      <th></th>\n",
       "      <th>id</th>\n",
       "      <th>path</th>\n",
       "      <th>t1</th>\n",
       "      <th>t2</th>\n",
       "      <th>winding</th>\n",
       "      <th>phase</th>\n",
       "      <th>pred_phase</th>\n",
       "      <th>type_of</th>\n",
       "      <th>feat0</th>\n",
       "      <th>feat1</th>\n",
       "      <th>...</th>\n",
       "      <th>feat90</th>\n",
       "      <th>feat91</th>\n",
       "      <th>feat92</th>\n",
       "      <th>feat93</th>\n",
       "      <th>feat94</th>\n",
       "      <th>feat95</th>\n",
       "      <th>feat96</th>\n",
       "      <th>feat97</th>\n",
       "      <th>feat98</th>\n",
       "      <th>feat99</th>\n",
       "    </tr>\n",
       "  </thead>\n",
       "  <tbody>\n",
       "    <tr>\n",
       "      <th>0</th>\n",
       "      <td>0</td>\n",
       "      <td>H_-2_-2_0.509296.dat</td>\n",
       "      <td>-2.0</td>\n",
       "      <td>-2.0</td>\n",
       "      <td>0.509296</td>\n",
       "      <td>999</td>\n",
       "      <td>666</td>\n",
       "      <td>test</td>\n",
       "      <td>0.100000</td>\n",
       "      <td>0.100000</td>\n",
       "      <td>...</td>\n",
       "      <td>0.100000</td>\n",
       "      <td>0.100000</td>\n",
       "      <td>0.100000</td>\n",
       "      <td>0.100000</td>\n",
       "      <td>0.100000</td>\n",
       "      <td>0.100000</td>\n",
       "      <td>0.100000</td>\n",
       "      <td>0.100000</td>\n",
       "      <td>0.100000</td>\n",
       "      <td>0.100000</td>\n",
       "    </tr>\n",
       "    <tr>\n",
       "      <th>1</th>\n",
       "      <td>0</td>\n",
       "      <td>H_-2_-2_0.509296.dat</td>\n",
       "      <td>-2.0</td>\n",
       "      <td>-2.0</td>\n",
       "      <td>0.509296</td>\n",
       "      <td>999</td>\n",
       "      <td>666</td>\n",
       "      <td>test</td>\n",
       "      <td>0.141421</td>\n",
       "      <td>0.141142</td>\n",
       "      <td>...</td>\n",
       "      <td>0.114412</td>\n",
       "      <td>0.108967</td>\n",
       "      <td>0.123928</td>\n",
       "      <td>0.119406</td>\n",
       "      <td>0.131490</td>\n",
       "      <td>0.127962</td>\n",
       "      <td>0.136978</td>\n",
       "      <td>0.134500</td>\n",
       "      <td>0.140306</td>\n",
       "      <td>0.138916</td>\n",
       "    </tr>\n",
       "    <tr>\n",
       "      <th>2</th>\n",
       "      <td>0</td>\n",
       "      <td>H_-2_-2_0.509296.dat</td>\n",
       "      <td>-2.0</td>\n",
       "      <td>-2.0</td>\n",
       "      <td>0.509296</td>\n",
       "      <td>999</td>\n",
       "      <td>666</td>\n",
       "      <td>test</td>\n",
       "      <td>0.141421</td>\n",
       "      <td>0.140306</td>\n",
       "      <td>...</td>\n",
       "      <td>0.043702</td>\n",
       "      <td>0.026500</td>\n",
       "      <td>0.075777</td>\n",
       "      <td>0.060214</td>\n",
       "      <td>0.103092</td>\n",
       "      <td>0.090145</td>\n",
       "      <td>0.123928</td>\n",
       "      <td>0.114412</td>\n",
       "      <td>0.136978</td>\n",
       "      <td>0.131490</td>\n",
       "    </tr>\n",
       "    <tr>\n",
       "      <th>3</th>\n",
       "      <td>0</td>\n",
       "      <td>H_-2_-2_0.509296.dat</td>\n",
       "      <td>-2.0</td>\n",
       "      <td>-2.0</td>\n",
       "      <td>0.509296</td>\n",
       "      <td>999</td>\n",
       "      <td>666</td>\n",
       "      <td>test</td>\n",
       "      <td>-0.100000</td>\n",
       "      <td>0.100000</td>\n",
       "      <td>...</td>\n",
       "      <td>-0.100000</td>\n",
       "      <td>0.100000</td>\n",
       "      <td>-0.100000</td>\n",
       "      <td>0.100000</td>\n",
       "      <td>-0.100000</td>\n",
       "      <td>0.100000</td>\n",
       "      <td>-0.100000</td>\n",
       "      <td>0.100000</td>\n",
       "      <td>-0.100000</td>\n",
       "      <td>0.100000</td>\n",
       "    </tr>\n",
       "    <tr>\n",
       "      <th>4</th>\n",
       "      <td>0</td>\n",
       "      <td>H_-2_-2_0.509296.dat</td>\n",
       "      <td>-2.0</td>\n",
       "      <td>-2.0</td>\n",
       "      <td>0.509296</td>\n",
       "      <td>999</td>\n",
       "      <td>666</td>\n",
       "      <td>test</td>\n",
       "      <td>0.000509</td>\n",
       "      <td>-0.008372</td>\n",
       "      <td>...</td>\n",
       "      <td>-0.082713</td>\n",
       "      <td>-0.089753</td>\n",
       "      <td>-0.067684</td>\n",
       "      <td>-0.075347</td>\n",
       "      <td>-0.051587</td>\n",
       "      <td>-0.059753</td>\n",
       "      <td>-0.034677</td>\n",
       "      <td>-0.043217</td>\n",
       "      <td>-0.017220</td>\n",
       "      <td>-0.026000</td>\n",
       "    </tr>\n",
       "    <tr>\n",
       "      <th>5</th>\n",
       "      <td>0</td>\n",
       "      <td>H_-2_-2_0.509296.dat</td>\n",
       "      <td>-2.0</td>\n",
       "      <td>-2.0</td>\n",
       "      <td>0.509296</td>\n",
       "      <td>999</td>\n",
       "      <td>666</td>\n",
       "      <td>test</td>\n",
       "      <td>0.001204</td>\n",
       "      <td>-0.016530</td>\n",
       "      <td>...</td>\n",
       "      <td>-0.134123</td>\n",
       "      <td>-0.138686</td>\n",
       "      <td>-0.118757</td>\n",
       "      <td>-0.127445</td>\n",
       "      <td>-0.095929</td>\n",
       "      <td>-0.108196</td>\n",
       "      <td>-0.067073</td>\n",
       "      <td>-0.082149</td>\n",
       "      <td>-0.034003</td>\n",
       "      <td>-0.050940</td>\n",
       "    </tr>\n",
       "    <tr>\n",
       "      <th>6</th>\n",
       "      <td>0</td>\n",
       "      <td>H_-2_-2_0.509296.dat</td>\n",
       "      <td>-2.0</td>\n",
       "      <td>-2.0</td>\n",
       "      <td>0.509296</td>\n",
       "      <td>999</td>\n",
       "      <td>666</td>\n",
       "      <td>test</td>\n",
       "      <td>-0.141421</td>\n",
       "      <td>-0.138980</td>\n",
       "      <td>...</td>\n",
       "      <td>0.043375</td>\n",
       "      <td>0.067830</td>\n",
       "      <td>-0.009222</td>\n",
       "      <td>0.017385</td>\n",
       "      <td>-0.060524</td>\n",
       "      <td>-0.035502</td>\n",
       "      <td>-0.103326</td>\n",
       "      <td>-0.083403</td>\n",
       "      <td>-0.131616</td>\n",
       "      <td>-0.119589</td>\n",
       "    </tr>\n",
       "    <tr>\n",
       "      <th>7</th>\n",
       "      <td>0</td>\n",
       "      <td>H_-2_-2_0.509296.dat</td>\n",
       "      <td>-2.0</td>\n",
       "      <td>-2.0</td>\n",
       "      <td>0.509296</td>\n",
       "      <td>999</td>\n",
       "      <td>666</td>\n",
       "      <td>test</td>\n",
       "      <td>-0.000826</td>\n",
       "      <td>0.025688</td>\n",
       "      <td>...</td>\n",
       "      <td>0.134753</td>\n",
       "      <td>0.124324</td>\n",
       "      <td>0.141088</td>\n",
       "      <td>0.140407</td>\n",
       "      <td>0.127608</td>\n",
       "      <td>0.136771</td>\n",
       "      <td>0.096206</td>\n",
       "      <td>0.113925</td>\n",
       "      <td>0.051292</td>\n",
       "      <td>0.075079</td>\n",
       "    </tr>\n",
       "    <tr>\n",
       "      <th>8</th>\n",
       "      <td>0</td>\n",
       "      <td>H_-2_-2_0.509296.dat</td>\n",
       "      <td>-2.0</td>\n",
       "      <td>-2.0</td>\n",
       "      <td>0.509296</td>\n",
       "      <td>999</td>\n",
       "      <td>666</td>\n",
       "      <td>test</td>\n",
       "      <td>0.141417</td>\n",
       "      <td>0.136684</td>\n",
       "      <td>...</td>\n",
       "      <td>-0.115093</td>\n",
       "      <td>-0.131915</td>\n",
       "      <td>-0.061266</td>\n",
       "      <td>-0.091040</td>\n",
       "      <td>0.007717</td>\n",
       "      <td>-0.027643</td>\n",
       "      <td>0.074791</td>\n",
       "      <td>0.042592</td>\n",
       "      <td>0.123363</td>\n",
       "      <td>0.102291</td>\n",
       "    </tr>\n",
       "    <tr>\n",
       "      <th>9</th>\n",
       "      <td>0</td>\n",
       "      <td>H_-2_-2_0.509296.dat</td>\n",
       "      <td>-2.0</td>\n",
       "      <td>-2.0</td>\n",
       "      <td>0.509296</td>\n",
       "      <td>999</td>\n",
       "      <td>666</td>\n",
       "      <td>test</td>\n",
       "      <td>0.001302</td>\n",
       "      <td>0.036430</td>\n",
       "      <td>...</td>\n",
       "      <td>0.082068</td>\n",
       "      <td>0.050848</td>\n",
       "      <td>0.127402</td>\n",
       "      <td>0.108132</td>\n",
       "      <td>0.141218</td>\n",
       "      <td>0.138667</td>\n",
       "      <td>0.120099</td>\n",
       "      <td>0.134896</td>\n",
       "      <td>0.069268</td>\n",
       "      <td>0.097755</td>\n",
       "    </tr>\n",
       "  </tbody>\n",
       "</table>\n",
       "<p>10 rows × 108 columns</p>\n",
       "</div>"
      ],
      "text/plain": [
       "   id                  path   t1   t2   winding  phase  pred_phase type_of  \\\n",
       "0   0  H_-2_-2_0.509296.dat -2.0 -2.0  0.509296    999         666    test   \n",
       "1   0  H_-2_-2_0.509296.dat -2.0 -2.0  0.509296    999         666    test   \n",
       "2   0  H_-2_-2_0.509296.dat -2.0 -2.0  0.509296    999         666    test   \n",
       "3   0  H_-2_-2_0.509296.dat -2.0 -2.0  0.509296    999         666    test   \n",
       "4   0  H_-2_-2_0.509296.dat -2.0 -2.0  0.509296    999         666    test   \n",
       "5   0  H_-2_-2_0.509296.dat -2.0 -2.0  0.509296    999         666    test   \n",
       "6   0  H_-2_-2_0.509296.dat -2.0 -2.0  0.509296    999         666    test   \n",
       "7   0  H_-2_-2_0.509296.dat -2.0 -2.0  0.509296    999         666    test   \n",
       "8   0  H_-2_-2_0.509296.dat -2.0 -2.0  0.509296    999         666    test   \n",
       "9   0  H_-2_-2_0.509296.dat -2.0 -2.0  0.509296    999         666    test   \n",
       "\n",
       "      feat0     feat1  ...    feat90    feat91    feat92    feat93    feat94  \\\n",
       "0  0.100000  0.100000  ...  0.100000  0.100000  0.100000  0.100000  0.100000   \n",
       "1  0.141421  0.141142  ...  0.114412  0.108967  0.123928  0.119406  0.131490   \n",
       "2  0.141421  0.140306  ...  0.043702  0.026500  0.075777  0.060214  0.103092   \n",
       "3 -0.100000  0.100000  ... -0.100000  0.100000 -0.100000  0.100000 -0.100000   \n",
       "4  0.000509 -0.008372  ... -0.082713 -0.089753 -0.067684 -0.075347 -0.051587   \n",
       "5  0.001204 -0.016530  ... -0.134123 -0.138686 -0.118757 -0.127445 -0.095929   \n",
       "6 -0.141421 -0.138980  ...  0.043375  0.067830 -0.009222  0.017385 -0.060524   \n",
       "7 -0.000826  0.025688  ...  0.134753  0.124324  0.141088  0.140407  0.127608   \n",
       "8  0.141417  0.136684  ... -0.115093 -0.131915 -0.061266 -0.091040  0.007717   \n",
       "9  0.001302  0.036430  ...  0.082068  0.050848  0.127402  0.108132  0.141218   \n",
       "\n",
       "     feat95    feat96    feat97    feat98    feat99  \n",
       "0  0.100000  0.100000  0.100000  0.100000  0.100000  \n",
       "1  0.127962  0.136978  0.134500  0.140306  0.138916  \n",
       "2  0.090145  0.123928  0.114412  0.136978  0.131490  \n",
       "3  0.100000 -0.100000  0.100000 -0.100000  0.100000  \n",
       "4 -0.059753 -0.034677 -0.043217 -0.017220 -0.026000  \n",
       "5 -0.108196 -0.067073 -0.082149 -0.034003 -0.050940  \n",
       "6 -0.035502 -0.103326 -0.083403 -0.131616 -0.119589  \n",
       "7  0.136771  0.096206  0.113925  0.051292  0.075079  \n",
       "8 -0.027643  0.074791  0.042592  0.123363  0.102291  \n",
       "9  0.138667  0.120099  0.134896  0.069268  0.097755  \n",
       "\n",
       "[10 rows x 108 columns]"
      ]
     },
     "execution_count": 24,
     "metadata": {},
     "output_type": "execute_result"
    }
   ],
   "source": [
    "simulation.dataframe.head(10)"
   ]
  },
  {
   "cell_type": "markdown",
   "metadata": {
    "papermill": {
     "duration": 0.138907,
     "end_time": "2020-07-08T05:51:09.617259",
     "exception": false,
     "start_time": "2020-07-08T05:51:09.478352",
     "status": "completed"
    },
    "tags": []
   },
   "source": [
    "#### Viewing a random sample"
   ]
  },
  {
   "cell_type": "code",
   "execution_count": 25,
   "metadata": {
    "execution": {
     "iopub.execute_input": "2020-07-08T05:51:09.733642Z",
     "iopub.status.busy": "2020-07-08T05:51:09.733128Z",
     "iopub.status.idle": "2020-07-08T05:51:09.803722Z",
     "shell.execute_reply": "2020-07-08T05:51:09.803407Z"
    },
    "papermill": {
     "duration": 0.107494,
     "end_time": "2020-07-08T05:51:09.803773",
     "exception": false,
     "start_time": "2020-07-08T05:51:09.696279",
     "status": "completed"
    },
    "tags": []
   },
   "outputs": [
    {
     "name": "stdout",
     "output_type": "stream",
     "text": [
      "CPU times: user 34.9 ms, sys: 9 µs, total: 34.9 ms\n",
      "Wall time: 34.6 ms\n"
     ]
    },
    {
     "data": {
      "text/html": [
       "<div>\n",
       "<style scoped>\n",
       "    .dataframe tbody tr th:only-of-type {\n",
       "        vertical-align: middle;\n",
       "    }\n",
       "\n",
       "    .dataframe tbody tr th {\n",
       "        vertical-align: top;\n",
       "    }\n",
       "\n",
       "    .dataframe thead th {\n",
       "        text-align: right;\n",
       "    }\n",
       "</style>\n",
       "<table border=\"1\" class=\"dataframe\">\n",
       "  <thead>\n",
       "    <tr style=\"text-align: right;\">\n",
       "      <th></th>\n",
       "      <th>id</th>\n",
       "      <th>path</th>\n",
       "      <th>t1</th>\n",
       "      <th>t2</th>\n",
       "      <th>winding</th>\n",
       "      <th>phase</th>\n",
       "      <th>pred_phase</th>\n",
       "      <th>type_of</th>\n",
       "      <th>dct_feat0</th>\n",
       "      <th>dct_feat1</th>\n",
       "      <th>...</th>\n",
       "      <th>dct_feat41</th>\n",
       "      <th>dct_feat42</th>\n",
       "      <th>dct_feat43</th>\n",
       "      <th>dct_feat44</th>\n",
       "      <th>dct_feat45</th>\n",
       "      <th>dct_feat46</th>\n",
       "      <th>dct_feat47</th>\n",
       "      <th>dct_feat48</th>\n",
       "      <th>dct_feat49</th>\n",
       "      <th>dct_feat50</th>\n",
       "    </tr>\n",
       "  </thead>\n",
       "  <tbody>\n",
       "    <tr>\n",
       "      <th>160859</th>\n",
       "      <td>1608</td>\n",
       "      <td>H_-1.05_1.45_1.00155.dat</td>\n",
       "      <td>-1.05</td>\n",
       "      <td>1.45</td>\n",
       "      <td>1.001552</td>\n",
       "      <td>1</td>\n",
       "      <td>1</td>\n",
       "      <td>val</td>\n",
       "      <td>0.141420</td>\n",
       "      <td>-2.391760</td>\n",
       "      <td>...</td>\n",
       "      <td>-0.087727</td>\n",
       "      <td>0.282843</td>\n",
       "      <td>-0.154086</td>\n",
       "      <td>0.282841</td>\n",
       "      <td>-0.336119</td>\n",
       "      <td>0.282841</td>\n",
       "      <td>-1.427458</td>\n",
       "      <td>5.961195</td>\n",
       "      <td>2.391782</td>\n",
       "      <td>0.141420</td>\n",
       "    </tr>\n",
       "    <tr>\n",
       "      <th>236984</th>\n",
       "      <td>2369</td>\n",
       "      <td>H_-0.55_-1_1.00594.dat</td>\n",
       "      <td>-0.55</td>\n",
       "      <td>-1.00</td>\n",
       "      <td>1.005935</td>\n",
       "      <td>1</td>\n",
       "      <td>1</td>\n",
       "      <td>val</td>\n",
       "      <td>-0.181391</td>\n",
       "      <td>-0.282841</td>\n",
       "      <td>...</td>\n",
       "      <td>-0.282845</td>\n",
       "      <td>0.564313</td>\n",
       "      <td>-0.282843</td>\n",
       "      <td>0.452692</td>\n",
       "      <td>-0.282838</td>\n",
       "      <td>0.397600</td>\n",
       "      <td>-0.282842</td>\n",
       "      <td>0.370814</td>\n",
       "      <td>-0.282841</td>\n",
       "      <td>0.181361</td>\n",
       "    </tr>\n",
       "    <tr>\n",
       "      <th>427061</th>\n",
       "      <td>4270</td>\n",
       "      <td>H_0.6_0.9_1.00799.dat</td>\n",
       "      <td>0.60</td>\n",
       "      <td>0.90</td>\n",
       "      <td>1.007991</td>\n",
       "      <td>1</td>\n",
       "      <td>1</td>\n",
       "      <td>val</td>\n",
       "      <td>0.083297</td>\n",
       "      <td>0.007271</td>\n",
       "      <td>...</td>\n",
       "      <td>0.007277</td>\n",
       "      <td>-0.278730</td>\n",
       "      <td>0.007274</td>\n",
       "      <td>-0.259559</td>\n",
       "      <td>0.007270</td>\n",
       "      <td>-0.247208</td>\n",
       "      <td>0.007271</td>\n",
       "      <td>-0.240270</td>\n",
       "      <td>0.007274</td>\n",
       "      <td>-0.119013</td>\n",
       "    </tr>\n",
       "    <tr>\n",
       "      <th>342286</th>\n",
       "      <td>3422</td>\n",
       "      <td>H_0.1_-1_1.00243.dat</td>\n",
       "      <td>0.10</td>\n",
       "      <td>-1.00</td>\n",
       "      <td>1.002433</td>\n",
       "      <td>1</td>\n",
       "      <td>1</td>\n",
       "      <td>train</td>\n",
       "      <td>0.132856</td>\n",
       "      <td>0.040668</td>\n",
       "      <td>...</td>\n",
       "      <td>0.040668</td>\n",
       "      <td>-0.967190</td>\n",
       "      <td>0.040668</td>\n",
       "      <td>-3.376840</td>\n",
       "      <td>-2.135119</td>\n",
       "      <td>4.082734</td>\n",
       "      <td>0.040668</td>\n",
       "      <td>1.738484</td>\n",
       "      <td>0.040668</td>\n",
       "      <td>0.728600</td>\n",
       "    </tr>\n",
       "    <tr>\n",
       "      <th>409204</th>\n",
       "      <td>4092</td>\n",
       "      <td>H_0.5_0.1_-0.000668458.dat</td>\n",
       "      <td>0.50</td>\n",
       "      <td>0.10</td>\n",
       "      <td>-0.000668</td>\n",
       "      <td>0</td>\n",
       "      <td>0</td>\n",
       "      <td>val</td>\n",
       "      <td>0.188512</td>\n",
       "      <td>7.341510</td>\n",
       "      <td>...</td>\n",
       "      <td>0.282842</td>\n",
       "      <td>0.005705</td>\n",
       "      <td>0.282841</td>\n",
       "      <td>0.010497</td>\n",
       "      <td>0.282845</td>\n",
       "      <td>0.024853</td>\n",
       "      <td>0.282844</td>\n",
       "      <td>0.125261</td>\n",
       "      <td>0.295239</td>\n",
       "      <td>-0.188396</td>\n",
       "    </tr>\n",
       "    <tr>\n",
       "      <th>...</th>\n",
       "      <td>...</td>\n",
       "      <td>...</td>\n",
       "      <td>...</td>\n",
       "      <td>...</td>\n",
       "      <td>...</td>\n",
       "      <td>...</td>\n",
       "      <td>...</td>\n",
       "      <td>...</td>\n",
       "      <td>...</td>\n",
       "      <td>...</td>\n",
       "      <td>...</td>\n",
       "      <td>...</td>\n",
       "      <td>...</td>\n",
       "      <td>...</td>\n",
       "      <td>...</td>\n",
       "      <td>...</td>\n",
       "      <td>...</td>\n",
       "      <td>...</td>\n",
       "      <td>...</td>\n",
       "      <td>...</td>\n",
       "      <td>...</td>\n",
       "    </tr>\n",
       "    <tr>\n",
       "      <th>595599</th>\n",
       "      <td>5955</td>\n",
       "      <td>H_1.65_0.1_-0.000172559.dat</td>\n",
       "      <td>1.65</td>\n",
       "      <td>0.10</td>\n",
       "      <td>-0.000173</td>\n",
       "      <td>0</td>\n",
       "      <td>0</td>\n",
       "      <td>val</td>\n",
       "      <td>0.001595</td>\n",
       "      <td>0.001350</td>\n",
       "      <td>...</td>\n",
       "      <td>0.001354</td>\n",
       "      <td>0.084077</td>\n",
       "      <td>0.001351</td>\n",
       "      <td>0.076530</td>\n",
       "      <td>0.001351</td>\n",
       "      <td>0.071771</td>\n",
       "      <td>0.001349</td>\n",
       "      <td>0.069124</td>\n",
       "      <td>0.001355</td>\n",
       "      <td>0.034141</td>\n",
       "    </tr>\n",
       "    <tr>\n",
       "      <th>152289</th>\n",
       "      <td>1522</td>\n",
       "      <td>H_-1.1_1.2_0.997757.dat</td>\n",
       "      <td>-1.10</td>\n",
       "      <td>1.20</td>\n",
       "      <td>0.997757</td>\n",
       "      <td>1</td>\n",
       "      <td>1</td>\n",
       "      <td>val</td>\n",
       "      <td>-0.053202</td>\n",
       "      <td>-0.282835</td>\n",
       "      <td>...</td>\n",
       "      <td>-0.282845</td>\n",
       "      <td>0.225755</td>\n",
       "      <td>-0.282833</td>\n",
       "      <td>0.153936</td>\n",
       "      <td>-0.282839</td>\n",
       "      <td>0.125973</td>\n",
       "      <td>-0.282833</td>\n",
       "      <td>0.113747</td>\n",
       "      <td>-0.282834</td>\n",
       "      <td>0.055098</td>\n",
       "    </tr>\n",
       "    <tr>\n",
       "      <th>30310</th>\n",
       "      <td>303</td>\n",
       "      <td>H_-1.85_1_0.000938913.dat</td>\n",
       "      <td>-1.85</td>\n",
       "      <td>1.00</td>\n",
       "      <td>0.000939</td>\n",
       "      <td>0</td>\n",
       "      <td>0</td>\n",
       "      <td>val</td>\n",
       "      <td>0.141421</td>\n",
       "      <td>-0.256458</td>\n",
       "      <td>...</td>\n",
       "      <td>0.314416</td>\n",
       "      <td>0.282832</td>\n",
       "      <td>0.287708</td>\n",
       "      <td>0.282832</td>\n",
       "      <td>0.270380</td>\n",
       "      <td>0.282832</td>\n",
       "      <td>0.259890</td>\n",
       "      <td>0.282832</td>\n",
       "      <td>0.254928</td>\n",
       "      <td>0.141411</td>\n",
       "    </tr>\n",
       "    <tr>\n",
       "      <th>154717</th>\n",
       "      <td>1547</td>\n",
       "      <td>H_-1.05_-1.6_1.00775.dat</td>\n",
       "      <td>-1.05</td>\n",
       "      <td>-1.60</td>\n",
       "      <td>1.007752</td>\n",
       "      <td>1</td>\n",
       "      <td>1</td>\n",
       "      <td>val</td>\n",
       "      <td>0.082134</td>\n",
       "      <td>-0.028924</td>\n",
       "      <td>...</td>\n",
       "      <td>-0.028929</td>\n",
       "      <td>-0.467651</td>\n",
       "      <td>-0.028925</td>\n",
       "      <td>-0.941953</td>\n",
       "      <td>-0.028922</td>\n",
       "      <td>-3.604348</td>\n",
       "      <td>-2.144188</td>\n",
       "      <td>5.022065</td>\n",
       "      <td>-0.028924</td>\n",
       "      <td>1.392810</td>\n",
       "    </tr>\n",
       "    <tr>\n",
       "      <th>126483</th>\n",
       "      <td>1264</td>\n",
       "      <td>H_-1.25_0.45_0.000708278.dat</td>\n",
       "      <td>-1.25</td>\n",
       "      <td>0.45</td>\n",
       "      <td>0.000708</td>\n",
       "      <td>0</td>\n",
       "      <td>0</td>\n",
       "      <td>val</td>\n",
       "      <td>-0.071495</td>\n",
       "      <td>0.282841</td>\n",
       "      <td>...</td>\n",
       "      <td>0.282841</td>\n",
       "      <td>0.287484</td>\n",
       "      <td>0.282845</td>\n",
       "      <td>0.196347</td>\n",
       "      <td>0.282843</td>\n",
       "      <td>0.160847</td>\n",
       "      <td>0.282842</td>\n",
       "      <td>0.145324</td>\n",
       "      <td>0.282843</td>\n",
       "      <td>0.070415</td>\n",
       "    </tr>\n",
       "  </tbody>\n",
       "</table>\n",
       "<p>65610 rows × 59 columns</p>\n",
       "</div>"
      ],
      "text/plain": [
       "          id                          path    t1    t2   winding  phase  \\\n",
       "160859  1608      H_-1.05_1.45_1.00155.dat -1.05  1.45  1.001552      1   \n",
       "236984  2369        H_-0.55_-1_1.00594.dat -0.55 -1.00  1.005935      1   \n",
       "427061  4270         H_0.6_0.9_1.00799.dat  0.60  0.90  1.007991      1   \n",
       "342286  3422          H_0.1_-1_1.00243.dat  0.10 -1.00  1.002433      1   \n",
       "409204  4092    H_0.5_0.1_-0.000668458.dat  0.50  0.10 -0.000668      0   \n",
       "...      ...                           ...   ...   ...       ...    ...   \n",
       "595599  5955   H_1.65_0.1_-0.000172559.dat  1.65  0.10 -0.000173      0   \n",
       "152289  1522       H_-1.1_1.2_0.997757.dat -1.10  1.20  0.997757      1   \n",
       "30310    303     H_-1.85_1_0.000938913.dat -1.85  1.00  0.000939      0   \n",
       "154717  1547      H_-1.05_-1.6_1.00775.dat -1.05 -1.60  1.007752      1   \n",
       "126483  1264  H_-1.25_0.45_0.000708278.dat -1.25  0.45  0.000708      0   \n",
       "\n",
       "        pred_phase type_of  dct_feat0  dct_feat1  ...  dct_feat41  dct_feat42  \\\n",
       "160859           1     val   0.141420  -2.391760  ...   -0.087727    0.282843   \n",
       "236984           1     val  -0.181391  -0.282841  ...   -0.282845    0.564313   \n",
       "427061           1     val   0.083297   0.007271  ...    0.007277   -0.278730   \n",
       "342286           1   train   0.132856   0.040668  ...    0.040668   -0.967190   \n",
       "409204           0     val   0.188512   7.341510  ...    0.282842    0.005705   \n",
       "...            ...     ...        ...        ...  ...         ...         ...   \n",
       "595599           0     val   0.001595   0.001350  ...    0.001354    0.084077   \n",
       "152289           1     val  -0.053202  -0.282835  ...   -0.282845    0.225755   \n",
       "30310            0     val   0.141421  -0.256458  ...    0.314416    0.282832   \n",
       "154717           1     val   0.082134  -0.028924  ...   -0.028929   -0.467651   \n",
       "126483           0     val  -0.071495   0.282841  ...    0.282841    0.287484   \n",
       "\n",
       "        dct_feat43  dct_feat44  dct_feat45  dct_feat46  dct_feat47  \\\n",
       "160859   -0.154086    0.282841   -0.336119    0.282841   -1.427458   \n",
       "236984   -0.282843    0.452692   -0.282838    0.397600   -0.282842   \n",
       "427061    0.007274   -0.259559    0.007270   -0.247208    0.007271   \n",
       "342286    0.040668   -3.376840   -2.135119    4.082734    0.040668   \n",
       "409204    0.282841    0.010497    0.282845    0.024853    0.282844   \n",
       "...            ...         ...         ...         ...         ...   \n",
       "595599    0.001351    0.076530    0.001351    0.071771    0.001349   \n",
       "152289   -0.282833    0.153936   -0.282839    0.125973   -0.282833   \n",
       "30310     0.287708    0.282832    0.270380    0.282832    0.259890   \n",
       "154717   -0.028925   -0.941953   -0.028922   -3.604348   -2.144188   \n",
       "126483    0.282845    0.196347    0.282843    0.160847    0.282842   \n",
       "\n",
       "        dct_feat48  dct_feat49  dct_feat50  \n",
       "160859    5.961195    2.391782    0.141420  \n",
       "236984    0.370814   -0.282841    0.181361  \n",
       "427061   -0.240270    0.007274   -0.119013  \n",
       "342286    1.738484    0.040668    0.728600  \n",
       "409204    0.125261    0.295239   -0.188396  \n",
       "...            ...         ...         ...  \n",
       "595599    0.069124    0.001355    0.034141  \n",
       "152289    0.113747   -0.282834    0.055098  \n",
       "30310     0.282832    0.254928    0.141411  \n",
       "154717    5.022065   -0.028924    1.392810  \n",
       "126483    0.145324    0.282843    0.070415  \n",
       "\n",
       "[65610 rows x 59 columns]"
      ]
     },
     "execution_count": 25,
     "metadata": {},
     "output_type": "execute_result"
    }
   ],
   "source": [
    "%%time\n",
    "simulation.fourier_engineered_dataframe.sample(frac=0.1, replace=False)"
   ]
  },
  {
   "cell_type": "markdown",
   "metadata": {
    "papermill": {
     "duration": 0.036055,
     "end_time": "2020-07-08T05:51:09.876003",
     "exception": false,
     "start_time": "2020-07-08T05:51:09.839948",
     "status": "completed"
    },
    "tags": []
   },
   "source": [
    "#### Checking train/val/test splits again"
   ]
  },
  {
   "cell_type": "code",
   "execution_count": 26,
   "metadata": {
    "execution": {
     "iopub.execute_input": "2020-07-08T05:51:09.948493Z",
     "iopub.status.busy": "2020-07-08T05:51:09.948165Z",
     "iopub.status.idle": "2020-07-08T05:51:10.126707Z",
     "shell.execute_reply": "2020-07-08T05:51:10.126386Z"
    },
    "papermill": {
     "duration": 0.215599,
     "end_time": "2020-07-08T05:51:10.126757",
     "exception": false,
     "start_time": "2020-07-08T05:51:09.911158",
     "status": "completed"
    },
    "tags": []
   },
   "outputs": [
    {
     "name": "stdout",
     "output_type": "stream",
     "text": [
      "% train:  0.08474317939338516\n",
      "% val:  0.7620789513793629\n",
      "% test:  0.15317786922725193\n",
      "% train + val + test:  1.0\n",
      "\n",
      "\n",
      "number of train hamiltonians:  556\n",
      "number of val hamiltonians:  5000\n",
      "number of test hamiltonians:  1005\n",
      "total number of hamiltonians:  6561\n",
      "\n",
      "\n",
      "train ids:  [48, 3231, 4900, 4210, 3581, 2915, 5345, 1689, 5159, 969, 2796, 5526, 760, 6495, 4912, 1384, 2171, 5642, 1494, 5605, 1126, 2452, 3164, 1900, 869, 3562, 2109, 4694, 4770, 3138, 5622, 1352, 4056, 4846, 201, 5866, 2037, 2739, 1268, 1699, 3893, 4024, 717, 5638, 1584, 6042, 2882, 3001, 485, 6007, 4048, 5466, 683, 1536, 5888, 2660, 4022, 5222, 2610, 3717, 4535, 428, 4143, 5530, 4159, 2470, 3550, 3602, 5733, 114, 3776, 2860, 1972, 4544, 3551, 3764, 4696, 5313, 4326, 2995, 4091, 1447, 3669, 4500, 6496, 4807, 5566, 4491, 5712, 4441, 2135, 1694, 440, 1534, 5224, 1104, 5052, 2354, 628, 3528, 761, 4525, 2744, 2239, 3192, 2055, 4209, 6364, 4704, 2270, 339, 292, 5071, 3025, 4351, 6271, 1677, 3524, 1214, 1486, 2154, 1777, 439, 5856, 2226, 2277, 2684, 4556, 4738, 4074, 3813, 2022, 1457, 3718, 2638, 3500, 3693, 3330, 6514, 5966, 2177, 4252, 994, 2196, 2538, 465, 4282, 3958, 5850, 2639, 2673, 593, 5185, 4253, 4387, 2916, 4393, 2023, 5676, 4329, 2842, 2183, 2219, 5705, 5677, 2409, 2577, 1262, 6512, 3731, 3051, 1984, 4779, 5512, 5022, 4747, 2601, 3643, 5891, 3668, 3327, 186, 4288, 2609, 5066, 2155, 2782, 5926, 1907, 5648, 4152, 180, 4630, 5181, 1874, 1026, 3714, 4952, 750, 1651, 6300, 4546, 4033, 4301, 2233, 4701, 673, 4613, 5480, 5293, 5259, 3403, 1785, 5392, 3679, 3631, 4518, 4985, 4782, 5203, 3377, 5779, 4730, 2090, 3783, 4866, 1931, 803, 1896, 4826, 2936, 3187, 1906, 4055, 6461, 5854, 2141, 6326, 6429, 3416, 5958, 700, 2551, 5320, 4489, 6184, 4381, 6388, 3306, 3279, 5107, 6469, 1298, 2322, 6266, 2945, 4822, 4499, 3185, 2695, 5453, 4810, 5549, 6131, 5078, 711, 2152, 233, 4138, 2349, 553, 3498, 5010, 2686, 1501, 5048, 3122, 1916, 4294, 4249, 1765, 32, 6370, 5675, 1167, 179, 2332, 6547, 340, 2572, 3281, 3476, 4299, 5157, 1188, 1168, 2629, 2752, 1924, 3433, 1714, 4478, 3179, 3376, 2247, 393, 4471, 4250, 298, 3945, 1266, 1445, 150, 667, 3661, 6453, 714, 6053, 403, 1012, 2404, 2511, 4392, 1483, 2335, 5026, 2394, 4225, 3846, 3422, 2463, 1163, 4567, 67, 2518, 1423, 555, 689, 5709, 1776, 3973, 3039, 4711, 784, 3934, 1935, 3304, 148, 130, 4970, 5529, 1459, 1897, 6059, 3752, 2275, 147, 299, 2340, 2262, 2688, 2953, 3888, 1863, 272, 521, 2381, 2701, 3452, 6422, 3721, 5952, 1615, 2082, 2651, 202, 4455, 2424, 2535, 2553, 5643, 2103, 1302, 709, 5532, 3429, 1275, 3927, 192, 1034, 6092, 1992, 6345, 1816, 4625, 931, 4600, 3490, 5688, 3043, 2501, 4718, 1595, 5887, 140, 218, 4816, 2198, 5517, 3389, 3007, 5721, 4937, 1180, 5701, 1910, 5621, 1576, 470, 2734, 5208, 4505, 1220, 540, 5994, 915, 2306, 6507, 3794, 1364, 1815, 2933, 2817, 287, 5614, 1329, 2351, 4981, 1027, 376, 2167, 5403, 1242, 4744, 2777, 5042, 3074, 2798, 5451, 2866, 3795, 6324, 1895, 1037, 3944, 1983, 2250, 1245, 2678, 5146, 5362, 2385, 3655, 1008, 3316, 6361, 5698, 3431, 1812, 2524, 1356, 134, 5017, 1116, 5258, 3779, 5708, 4699, 608, 3264, 948, 4333, 5093, 5506, 1018, 554, 3907, 4375, 3012, 290, 4772, 963, 109, 1204, 2517, 2456, 4883, 3255, 2832, 956, 5178, 2690, 3835, 6425, 4554, 5350, 4736, 1729, 4768, 4339, 5558, 1284, 5544, 5715, 2140, 4436, 2826, 3549, 3803, 3470, 847, 5857, 386, 3010, 4233, 6498, 4222, 2473, 2512, 5651, 2178, 2093, 5960, 1047, 1124, 4695, 22, 4829, 1756, 5551, 2446, 6293, 6215, 5137, 6114, 2662, 5974, 4123, 5233, 3824, 1727, 6410, 4819, 2954, 4459, 3423]\n",
      "val ids:  [4029, 5785, 5226, 5260, 2507, 2252, 3561, 6056, 3237, 2172, 5956, 4207, 4065, 5063, 1110, 2654, 6123, 2901, 3384, 4274, 549, 4238, 3952, 3147, 2729, 5995, 3323, 3017, 6211, 1185, 2041, 2399, 3597, 5849, 5192, 1496, 2548, 1579, 914, 3166, 3946, 597, 4516, 74, 4477, 1752, 3396, 5266, 2341, 588, 5117, 6341, 151, 557, 2939, 4269, 2929, 284, 456, 2807, 2412, 5399, 2165, 1833, 5938, 3132, 5510, 3144, 4015, 1278, 4534, 2289, 3319, 4682, 3332, 789, 1932, 2348, 4884, 220, 344, 5509, 2209, 3852, 4571, 3084, 3014, 4971, 6034, 6182, 2064, 5075, 6222, 4176, 527, 4764, 1349, 4153, 6336, 1986, 762, 3830, 4681, 3404, 119, 133, 4285, 6174, 4827, 6137, 2668, 3601, 2145, 5145, 2069, 6441, 5545, 4298, 795, 113, 2455, 5608, 1084, 5693, 1537, 4502, 3183, 2257, 4876, 2920, 3976, 4893, 504, 4466, 263, 5060, 4767, 2561, 4624, 5626, 4558, 2986, 5469, 1669, 1193, 3611, 6223, 3732, 1657, 3642, 4685, 5879, 5867, 2500, 2104, 4283, 3331, 1190, 5647, 2608, 347, 4743, 4790, 422, 4175, 6077, 2819, 3834, 602, 3182, 3424, 4872, 2664, 5370, 1960, 2398, 4732, 3629, 1955, 3106, 1947, 3016, 4849, 2200, 1192, 6517, 629, 441, 1002, 2395, 1276, 5945, 2733, 313, 2983, 5076, 5770, 1051, 2759, 6193, 6086, 3441, 3171, 2783, 953, 4450, 256, 2431, 3604, 3919, 5731, 4820, 1821, 3161, 2031, 3364, 3585, 5062, 1658, 5718, 1741, 6014, 5031, 6128, 5038, 25, 1844, 6412, 5937, 1832, 5126, 6352, 2792, 3933, 5928, 1131, 2425, 221, 615, 3207, 2877, 1269, 1819, 2191, 5514, 3296, 6186, 4243, 632, 933, 3217, 5475, 4662, 1908, 1522, 2976, 6195, 6462, 4453, 547, 5616, 850, 5775, 6528, 2371, 6467, 3654, 3535, 6295, 3967, 1032, 5387, 1731, 3387, 3555, 5307, 4897, 6423, 3253, 6529, 2998, 4157, 5784, 4689, 229, 1295, 5043, 4130, 1948, 35, 551, 995, 3806, 2182, 1736, 2444, 1239, 1630, 3706, 3211, 4609, 2864, 2604, 4251, 3908, 4532, 3068, 2694, 4693, 4568, 5687, 404, 2556, 3334, 3254, 143, 73, 2589, 5646, 2731, 3906, 4860, 5556, 3922, 6039, 2921, 1783, 2723, 3261, 1301, 3887, 706, 262, 4241, 506, 2436, 5863, 4053, 4930, 3365, 472, 3682, 4968, 1138, 4113, 2016, 101, 633, 767, 4316, 941, 6098, 4323, 6205, 5130, 6505, 388, 4777, 3672, 421, 4934, 5472, 4154, 1810, 3873, 1325, 5232, 3626, 4171, 616, 1666, 3029, 2591, 5633, 2537, 746, 530, 2657, 1937, 2964, 5934, 916, 131, 2142, 1115, 2617, 3439, 3797, 3479, 4227, 4308, 857, 2645, 138, 231, 106, 4931, 637, 5033, 5204, 1670, 3097, 3778, 5034, 531, 4612, 3054, 6551, 5355, 1273, 3720, 3606, 1750, 6485, 4647, 6544, 1854, 6382, 3426, 1092, 835, 1218, 705, 2770, 3543, 622, 2766, 6035, 1650, 6384, 3656, 4135, 772, 2533, 2150, 2738, 374, 5438, 216, 1982, 2098, 3711, 5154, 1369, 4220, 3875, 5796, 921, 1403, 3298, 3676, 5123, 6031, 1253, 3977, 219, 4794, 4943, 2775, 6126, 620, 704, 5312, 2205, 6124, 1974, 3575, 5670, 3616, 17, 4606, 2969, 1210, 971, 3173, 2891, 5944, 5296, 2374, 3208, 6105, 2311, 724, 3449, 3596, 2220, 5284, 1691, 849, 2221, 1571, 2776, 618, 6380, 5207, 3792, 2602, 5374, 2091, 992, 3497, 4867, 4504, 2044, 2527, 6489, 5845, 1590, 3495, 2422, 390, 1487, 1958, 853, 1430, 3984, 3268, 6185, 5275, 4064, 809, 6022, 2612, 361, 15, 6200, 2325, 6257, 3212, 2914, 4219, 4656, 4204, 277, 3481, 5405, 4331, 5467, 6499, 4552, 1706, 3178, 3315, 389, 3903, 5886, 2677, 2175, 2942, 92, 2350, 6085, 1631, 2687, 3725, 5217, 2433, 1127, 5456, 5148, 788, 4964, 2968, 806, 5772, 3648, 3400, 1294, 3892, 6347, 3755, 2299, 3241, 2726, 3767, 285, 5097, 5557, 2059, 1076, 175, 5534, 135, 4132, 4361, 1528, 1826, 1655, 5223, 37, 3462, 2363, 1516, 2484, 6440, 5950, 3974, 4793, 2012, 2813, 3383, 3234, 4106, 3896, 4304, 4092, 4864, 5220, 2076, 5304, 6016, 2432, 938, 2035, 4415, 5486, 4664, 5723, 4579, 5140, 1518, 6166, 1648, 2244, 3678, 418, 6344, 6274, 6500, 4798, 3098, 2208, 1490, 3114, 3398, 3568, 2899, 3619, 5686, 3728, 5138, 1173, 4403, 2313, 2965, 4120, 1263, 511, 4458, 6483, 3052, 590, 2592, 1287, 3545, 3506, 5047, 3734, 6484, 2305, 3612, 3391, 4165, 3769, 1243, 4528, 5590, 296, 4215, 2907, 1467, 3115, 6013, 5812, 4368, 314, 2754, 2749, 5342, 1862, 1429, 999, 5615, 2947, 2955, 1377, 5851, 1730, 2116, 1086, 2927, 432, 528, 1437, 5386, 3105, 2267, 2407, 4412, 111, 5340, 457, 2713, 6139, 3754, 6290, 2084, 5141, 4255, 3191, 3593, 5297, 4231, 5564, 3640, 5099, 833, 2685, 3994, 391, 4422, 1789, 520, 6367, 3847, 6107, 6218, 2741, 4823, 6513, 2227, 6338, 5186, 3438, 4341, 5430, 4805, 1586, 2643, 4190, 4141, 909, 5290, 2525, 5108, 4051, 3943, 6426, 3569, 1411, 112, 5755, 617, 5369, 4980, 3157, 6217, 856, 2571, 2919, 4564, 6539, 1674, 1373, 890, 6103, 1335, 2595, 1831, 189, 581, 5778, 6337, 1865, 1646, 4276, 6463, 4845, 5431, 1458, 2390, 3021, 5555, 1186, 1431, 1704, 3469, 4448, 1094, 645, 1366, 303, 3598, 110, 3766, 6508, 3235, 4531, 5016, 342, 4359, 1531, 866, 2478, 3712, 4610, 1515, 1197, 4377, 4077, 4307, 5726, 3258, 467, 4374, 680, 2509, 4380, 76, 4197, 9, 1711, 508, 1856, 2253, 2785, 1957, 2653, 1740, 2184, 2531, 4203, 566, 2304, 1372, 1433, 6432, 3724, 3425, 4955, 6011, 6292, 301, 4550, 703, 2414, 1510, 2243, 2888, 273, 636, 2635, 95, 3180, 5488, 5128, 4543, 749, 627, 4167, 3959, 4284, 438, 2469, 2838, 1607, 4737, 1837, 4683, 4617, 2441, 2089, 5728, 3831, 2174, 3968, 1505, 2438, 3291, 3246, 1766, 5116, 4821, 4603, 1166, 4742, 4569, 2605, 4066, 5101, 4456, 3866, 5880, 1514, 4027, 1006, 6535, 1103, 4727, 2818, 1328, 1609, 5694, 5209, 619, 3259, 6197, 5977, 4235, 6408, 6418, 3487, 365, 4216, 460, 5348, 1247, 4620, 5111, 716, 2765, 1493, 1747, 5356, 70, 832, 4119, 1994, 3841, 4538, 2674, 3839, 2034, 6363, 2388, 3793, 1749, 136, 3845, 4114, 4741, 3177, 4281, 2908, 5135, 5725, 599, 3194, 3267, 2013, 2197, 1915, 5941, 212, 4877, 3124, 751, 5782, 1774, 3153, 2073, 226, 5394, 2207, 2453, 4642, 2587, 690, 4257, 4472, 5464, 6330, 5241, 5949, 5538, 5308, 5015, 6549, 11, 4236, 3380, 3359, 828, 507, 3093, 427, 33, 2030, 2372, 5511, 4205, 3321, 3011, 5813, 4044, 701, 2669, 3871, 4010, 4889, 337, 5113, 6365, 3857, 3406, 6359, 1687, 3333, 5020, 3463, 1462, 3295, 6541, 3628, 5791, 3991, 1217, 1385, 3081, 2386, 2136, 5777, 796, 1902, 932, 5104, 2060, 5092, 4661, 4953, 808, 1111, 910, 1333, 1380, 4363, 6506, 105, 351, 5445, 5096, 94, 6051, 6133, 5314, 5943, 5450, 6403, 3512, 4657, 3483, 2370, 3964, 3730, 3649, 5388, 1434, 2973, 4213, 805, 3146, 4954, 2283, 6122, 1374, 124, 2072, 6175, 2359, 840, 2724, 2255, 4957, 5768, 4734, 5940, 5463, 4649, 3889, 1240, 6387, 1762, 5443, 6277, 3883, 2504, 5528, 787, 2793, 3277, 2698, 71, 6342, 3249, 3591, 2828, 6201, 4503, 1165, 4832, 3128, 2312, 4557, 2593, 5807, 4750, 379, 236, 139, 4016, 3747, 215, 2641, 2743, 6385, 607, 2554, 3972, 5716, 2562, 6138, 1353, 6260, 5265, 1248, 3525, 4690, 2329, 584, 29, 5257, 5322, 5436, 5458, 6111, 2203, 5535, 4910, 605, 6248, 1122, 4645, 529, 52, 1654, 4874, 358, 5395, 4214, 5050, 3232, 4273, 197, 2437, 2302, 4533, 1482, 794, 646, 4314, 4540, 692, 3099, 6089, 4060, 3348, 4063, 2434, 1945, 4587, 6377, 1297, 3475, 5896, 2447, 3227, 1653, 5589, 5070, 1712, 5756, 2784, 5065, 3165, 1763, 5317, 4272, 345, 3955, 713, 1082, 5023, 4809, 1927, 1105, 4584, 3918, 2590, 4278, 5271, 3558, 2238, 3248, 2010, 1581, 116, 947, 2865, 1735, 68, 4898, 3136, 1435, 2269, 5607, 3880, 4446, 2019, 5724, 2874, 1530, 4638, 2627, 3118, 469, 3031, 4324, 46, 5946, 4992, 3464, 194, 509, 1775, 2803, 4370, 3742, 2300, 2938, 4417, 206, 6454, 4464, 2039, 693, 2421, 1543, 309, 2603, 281, 1953, 1751, 1602, 1624, 4291, 1913, 934, 4211, 3000, 1583, 1485, 5685, 1934, 5354, 1072, 3957, 6360, 259, 998, 2992, 2620, 1427, 4330, 3584, 4343, 4618, 2843, 1322, 1612, 3048, 3692, 4911, 1507, 2383, 181, 4652, 5924, 763, 3986, 781, 4632, 2230, 2121, 1035, 6163, 4936, 395, 3379, 5460, 228, 6362, 381, 1943, 4444, 6173, 1288, 3347, 4079, 2011, 5110, 3874, 3912, 2727, 1843, 4796, 3673, 5883, 5098, 621, 644, 5541, 1866, 3707, 3645, 3997, 5160, 1093, 2692, 2988, 2879, 2206, 5885, 1117, 2242, 4973, 5274, 4170, 2476, 3415, 2333, 3580, 6490, 1975, 3709, 1098, 3036, 5513, 5221, 5428, 537, 3299, 2836, 2875, 4873, 4635, 2430, 419, 6018, 2631, 4605, 5931, 3091, 3820, 5936, 3715, 4451, 3567, 583, 4228, 3009, 1488, 1797, 4261, 696, 1187, 5895, 519, 1290, 4423, 5149, 3030, 2911, 1575, 5367, 5790, 2330, 945, 1574, 4607, 1416, 3270, 4786, 6306, 2497, 2373, 5184, 4254, 3265, 4994, 3378, 834, 4191, 4792, 2697, 6409, 3329, 4991, 5970, 1074, 4435, 1341, 5228, 5282, 3193, 3188, 3484, 1257, 2391, 16, 1481, 265, 3983, 2563, 3921, 5625, 3635, 6488, 1692, 5375, 2218, 3698, 2978, 3272, 5591, 4179, 936, 5161, 200, 5442, 2569, 2637, 3618, 927, 5262, 5273, 1049, 4739, 3135, 5231, 5298, 6545, 2742, 2633, 2435, 5515, 3577, 5803, 4522, 2062, 1619, 6296, 6328, 2018, 5915, 4258, 420, 3761, 2597, 3351, 5835, 1346, 2963, 4362, 266, 2652, 4070, 6113, 204, 4356, 3020, 3998, 4398, 539, 352, 935, 4030, 993, 940, 5797, 5485, 3393, 2722, 2005, 3821, 4722, 3768, 5352, 1870, 5236, 5402, 5730, 30, 1213, 476, 5504, 2948, 1195, 2147, 5029, 1344, 2702, 3740, 6329, 1504, 2429, 4355, 2345, 1572, 1542, 4413, 2515, 4601, 174, 4369, 859, 3413, 3633, 875, 2581, 4202, 5559, 3727, 2795, 154, 5218, 6379, 4364, 5859, 5289, 2234, 6125, 2611, 5753, 5067, 848, 2201, 3373, 6351, 3775, 5610, 5869, 4908, 1817, 6142, 6492, 2555, 1664, 276, 1506, 4746, 2339, 1282, 3587, 4411, 2523, 1077, 3459, 5704, 2710, 1617, 1252, 586, 928, 957, 4771, 1327, 2892, 1249, 2075, 1739, 6129, 4309, 122, 4983, 2691, 5479, 2308, 1109, 1878, 4232, 3534, 5942, 210, 950, 1181, 2280, 2564, 4887, 97, 6502, 2717, 6542, 4726, 1566, 4313, 5789, 2932, 3121, 3665, 723, 4465, 2237, 5471, 4996, 3739, 3848, 924, 1830, 5862, 4089, 4147, 3042, 5432, 1683, 2403, 4549, 4036, 5932, 1466, 1946, 1001, 6027, 6281, 3094, 44, 2346, 3361, 595, 98, 6465, 4894, 1693, 6381, 3053, 1604, 1169, 1265, 6550, 6190, 4166, 1820, 4948, 2917, 289, 3356, 5809, 4789, 373, 2285, 6256, 1495, 1270, 4440, 5848, 4327, 5793, 3890, 5609, 5611, 5975, 4340, 2301, 3184, 3473, 2944, 4484, 3108, 152, 4875, 883, 6339, 1995, 6183, 4905, 4542, 5371, 851, 1698, 533, 5238, 3305, 5913, 3366, 232, 4332, 6376, 4773, 2148, 2583, 4974, 5437, 2139, 2559, 2510, 3623, 3867, 280, 3544, 5310, 5455, 61, 1499, 686, 4575, 2287, 1626, 3729, 3006, 2922, 5843, 4059, 1424, 1085, 1021, 5695, 435, 1702, 6371, 3047, 196, 1157, 5194, 4643, 1337, 3913, 4352, 4193, 5717, 1455, 886, 4581, 4122, 4177, 5424, 1038, 2799, 6055, 434, 2740, 6416, 4565, 3250, 3032, 5133, 2156, 6524, 6136, 1861, 4142, 3141, 4903, 6141, 1652, 3149, 5979, 4495, 6167, 2868, 1993, 5553, 3343, 5482, 1209, 444, 6487, 1274, 4580, 783, 4461, 2574, 2680, 1662, 2508, 3674, 1091, 2718, 5649, 4536, 397, 3150, 5013, 6202, 1829, 1697, 5806, 2781, 1267, 6028, 5714, 3214, 5027, 1690, 863, 2228, 3336, 4221, 5805, 1053, 4045, 5132, 2464, 5554, 3637, 102, 6532, 3869, 1048, 4034, 3860, 5064, 5193, 5860, 6442, 1497, 4684, 2029, 2950, 3337, 5144, 4728, 2823, 5751, 3090, 3910, 6519, 3242, 5018, 2054, 62, 5780, 5215, 4780, 4660, 679, 5613, 1046, 3817, 3344, 93, 2584, 3370, 1703, 2273, 2014, 611, 2987, 1334, 1540, 447, 3289, 1182, 5595, 2189, 6536, 5426, 4775, 4870, 6509, 3723, 6093, 3220, 6268, 2095, 53, 5628, 5206, 4121, 563, 1410, 2735, 6546, 144, 2887, 5916, 3218, 2763, 268, 1155, 776, 3638, 3507, 4371, 4763, 5095, 5176, 1358, 369, 3276, 3605, 5953, 2557, 5434, 5996, 3448, 5547, 4012, 5468, 4418, 2632, 837, 2498, 3657, 3419, 1208, 3060, 2086, 3399, 2728, 5706, 450, 3086, 3899, 5379, 6127, 5465, 5053, 5542, 5669, 5376, 5454, 458, 2816, 966, 454, 3988, 5346, 765, 3252, 5702, 1343, 1271, 538, 4608, 3189, 230, 6109, 1332, 2570, 771, 205, 4035, 5225, 3045, 6415, 4551, 4163, 3283, 2984, 3326, 1746, 3382, 1593, 4946, 2025, 525, 3071, 3266, 634, 4665, 3221, 2522, 4705, 2166, 3858, 1370, 6534, 5527, 3130, 2042, 18, 1022, 1758, 5781, 3574, 548, 5593, 6057, 852, 1922, 4688, 5341, 3101, 5720, 3395, 6135, 1511, 854, 4259, 5672, 1206, 261, 5319, 1417, 4547, 1623, 5278, 2675, 3322, 5478, 5792, 1000, 3375, 769, 3257, 4256, 4457, 1264, 3975, 2521, 4830, 672, 6249, 4929, 5783, 5973, 5771, 5641, 1659, 4655, 6280, 707, 1962, 6301, 4791, 2815, 1300, 1419, 423, 4322, 4097, 6095, 5474, 4134, 5363, 777, 2217, 4851, 3096, 2863, 4162, 846, 666, 6198, 5882, 3447, 954, 3103, 4090, 436, 2077, 4802, 1203, 1420, 596, 3827, 4862, 1611, 1628, 2499, 522, 4025, 1033, 3791, 1893, 2331, 4956, 4382, 764, 3308, 2780, 2896, 5444, 830, 3751, 1088, 1413, 4982, 1784, 4073, 5832, 4260, 3085, 3451, 1539, 516, 4420, 4987, 91, 2083, 3862, 3325, 5853, 2696, 2709, 293, 1547, 3825, 1769, 697, 3542, 1083, 968, 3885, 4497, 858, 4506, 1189, 6140, 5810, 1577, 6097, 2451, 2839, 3127, 2600, 625, 3632, 6096, 952, 6043, 912, 500, 5884, 1849, 2126, 5051, 3705, 587, 366, 157, 5229, 3063, 3432, 5155, 1016, 4687, 1796, 3408, 6531, 698, 2980, 546, 217, 5357, 2566, 3822, 5639, 2264, 3759, 3472, 4892, 4186, 4054, 2112, 4237, 3197, 3493, 4850, 291, 267, 3586, 431, 96, 523, 359, 6203, 1792, 183, 375, 3381, 3882, 3595, 681, 2808, 2761, 1118, 868, 6468, 2003, 1184, 1928, 3311, 3982, 5794, 1509, 2477, 2324, 5808, 876, 2169, 3607, 4474, 6356, 3961, 4247, 6520, 4958, 3226, 2387, 2265, 2671, 2769, 387, 6178, 2187, 1823, 643, 626, 360, 3930, 3763, 2753, 4379, 2885, 6048, 779, 1318, 3925, 2411, 6526, 3785, 753, 2420, 3926, 4749, 3898, 3895, 2068, 3286, 213, 3294, 6026, 6431, 4447, 3155, 624, 4384, 3357, 1137, 6373, 601, 3736, 3335, 2918, 5396, 1645, 6501, 117, 5963, 4086, 3405, 3554, 6177, 4939, 3388, 6368, 5798, 2928, 3950, 3696, 2746, 6449, 4854, 727, 1589, 6025, 3864, 385, 3271, 3355, 6434, 346, 307, 3160, 5286, 4811, 5068, 2423, 6254, 3309, 861, 6099, 5235, 2186, 2834, 3474, 5069, 3960, 6305, 2416, 443, 4196, 6525, 310, 3804, 5406, 2747, 3999, 3516, 1864, 4280, 4246, 5425, 4909, 437, 2956, 2520, 1054, 5917, 5719, 4627, 378, 3940, 6378, 3062, 4189, 3467, 3236, 4995, 5422, 125, 5550, 2056, 2248, 5025, 3686, 4410, 2482, 3460, 1672, 5933, 613, 392, 4155, 6181, 5240, 108, 565, 1767, 1211, 368, 1771, 2100, 867, 2229, 5368, 5435, 4335, 2910, 2149, 635, 4578, 184, 5645, 5061, 3058, 5288, 6046, 4311, 1950, 4857, 1159, 2343, 839, 2528, 797, 382, 5366, 3816, 3078, 4548, 72, 5153, 6040, 1089, 128, 4419, 4336, 4573, 5684, 3143, 752, 2164, 4631, 3028, 2428, 1954, 2642, 5197, 5124, 1668, 1899, 3782, 600, 5597, 2397, 3753, 5763, 5189, 630, 5383, 3095, 1859, 2958, 2124, 1133, 3080, 6369, 5390, 3710, 4828, 4058, 3572, 295, 3529, 2502, 5358, 5774, 429, 4042, 3041, 3770, 5927, 4145, 4137, 5227, 1205, 3168, 2719, 589, 2336, 5127, 3125, 3174, 1113, 2144, 5239, 3087, 5957, 4408, 4621, 6333, 4784, 2594, 1285, 2806, 2316, 3588, 3317, 1130, 459, 1453, 2971, 1563, 1246, 5947, 695, 2586, 4947, 1442, 845, 275, 6299, 1726, 3807, 2319, 2771, 5671, 3876, 5380, 3251, 3026, 5103, 3065, 77, 2474, 3971, 4492, 99, 5300, 367, 1541, 6005, 2317, 5032, 3292, 3546, 3485, 1255, 3708, 1980, 1930, 2356, 3243, 316, 6518, 3457, 1108, 2094, 2118, 4385, 5175, 5213, 5620, 2676, 5427, 4312, 766, 5769, 3828, 4013, 449, 1326, 2966, 1464, 2107, 4483, 4787, 1790, 3502, 6210, 4376, 2613, 3897, 676, 3486, 5030, 6052, 3687, 5242, 515, 6265, 1532, 2199, 2223, 3812, 173, 829, 3477, 2028, 278, 5315, 1901, 5539, 5630, 2449, 1079, 195, 3683, 2402, 5102, 2913, 2598, 2338, 5674, 5892, 282, 3667, 1989, 1400, 2119, 4397, 3262, 5324, 3540, 6049, 3519, 5292, 920, 5711, 5321, 3799, 1944, 2861, 4614, 2934, 2714, 4658, 5543, 2193, 1770, 451, 647, 1376, 3008, 1877, 1809, 4067, 4697, 4208, 5269, 3699, 2996, 4669, 668, 2315, 311, 4007, 2362, 4014, 1682, 973, 5546, 4396, 2021, 785, 1125, 792, 3590, 4357, 1336, 2396, 2972, 5287, 2711, 4529, 2489, 1811, 5404, 5855, 1415, 3781, 464, 2020, 1743, 2314, 3589, 877, 1925, 6094, 6267, 3385, 2117, 2876, 3594, 1100, 1549, 5106, 5971, 6075, 3061, 1548, 3064, 4407, 6284, 2486, 6121, 3530, 5237, 2066, 6533, 3514, 2099, 3482, 6091, 838, 5873, 4733, 6224, 3273, 3353, 258, 354, 5449, 5291, 3859, 6115, 4895, 269, 6297, 4008, 6020, 5058, 1578, 185, 3796, 1052, 3453, 1448, 203, 4110, 4104, 2573, 1078, 2259, 3219, 4825, 3126, 2655, 4292, 3713, 5868, 843, 6466, 6017, 3989, 4967, 5872, 57, 4198, 2619, 1056, 3339, 5105, 3428, 1363, 6021, 39, 2496, 4069, 5487, 1871, 4434, 699, 1858, 6104, 3301, 5703, 5878, 2579, 6537, 1898, 2748, 2288, 3949, 6435, 5700, 3861, 5180, 3784, 6283, 3979, 2180, 3489, 943, 3801, 5344, 4972, 2682, 1412, 4306, 3836, 3951, 2547, 1876, 2970, 36, 1596, 5964, 5815, 1753, 3100, 42, 4752, 2282, 69, 60, 1787, 3985, 1914, 3701, 5594, 685, 3716, 884, 3038, 4715, 542, 536, 1848, 4169, 712, 4271, 1024, 2225, 3987, 6430, 1661, 2835, 445, 3215, 3195, 3819, 6411, 1256, 4989, 23, 4731, 5799, 4904, 6116, 2846, 6327, 1183, 4710, 4094, 1323, 1632, 5477, 2961, 1629, 2465, 3414, 5689, 5195, 5930, 4944, 684, 3436, 2630, 3780, 2471, 3123, 1938, 343, 1106, 5997, 5596, 1251, 6494, 3488, 371, 6076, 1956, 2648, 4817, 5459, 5077, 430, 355, 3142, 1842, 5834, 2258, 6346, 3238, 4902, 3186, 2327, 4988, 1135, 4194, 1378, 2040, 208, 1529, 6204, 6439, 2712, 1324, 3492, 5054, 6029, 2779, 3458, 193, 6279, 5072, 4473, 1834, 4588, 6298, 3823, 176, 5765, 2192, 2272, 5612, 3627, 2151, 862, 3302, 3287, 873, 6019, 4310, 6302, 2837, 1175, 1179, 3067, 5377, 6261, 4940, 142, 3517, 2762, 3456, 3963, 1869, 5109, 1588, 4648, 594, 323, 2097, 1585, 3070, 1701, 4367, 6262, 4797, 377, 304, 5057, 5897, 2487, 4586, 4716, 5636, 5976, 2981, 2245, 4469, 2946, 4088, 929, 1451, 6446, 3695, 5877, 5894, 5727, 3307, 3603, 3354, 6348, 1744, 6417, 4935, 4626, 6325, 6404, 5567, 235, 257, 2532, 2809, 3313, 5752, 2994, 1156, 4062, 4659, 3092, 4439, 1627, 3320, 3704, 5786, 1289, 4394, 2904, 3269, 3244, 64, 2036, 1845, 59, 2576, 2143, 2276, 1331, 2949, 2814, 1573, 2797, 1933, 917, 5967, 786, 4096, 972, 6358, 3702, 3566, 2161, 2061, 2801, 4084, 4224, 6252, 2110, 2361, 5349, 3346, 4475, 691, 946, 6538, 5833, 4530, 5865, 3077, 1097, 5115, 19, 2708, 4709, 2757, 4598, 4199, 2940, 3909, 2989, 3145, 2827, 4200, 3461, 475, 2505, 336, 4651, 3625, 1043, 2159, 3435, 2490, 1918, 3113, 6214, 3838, 4378, 1606, 770, 4526, 4172, 3181, 5365, 4318, 2634, 6443, 3169, 2829, 4151, 3948, 2326, 4938, 6353, 2751, 384, 5969, 3610, 2328, 2358, 6176, 5024, 4915, 3466, 1170, 2840, 3102, 1688, 3808, 2649, 34, 3018, 3340, 2565, 2767, 2303, 1254, 1216, 872, 5875, 1782, 3563, 4977, 4906, 2321, 3881, 4195, 3579, 3745, 997, 2495, 2974, 4577, 2644, 1096, 463, 2772, 255, 4026, 3582, 126, 3073, 199, 3658, 424, 2096, 2931, 5507, 3496, 4703, 4083, 5673, 930, 2364, 237, 4498, 5100, 5423, 5212, 3022, 1107, 1418, 274, 3737, 188, 132, 302, 2369, 4297, 4303, 1594, 1283, 3358, 4562, 2626, 5028, 4861, 2122, 2408, 3158, 5299, 4212, 4078, 3285, 4585, 2923, 3700, 865, 3328, 3004, 4745, 4003, 534, 748, 1450, 1764, 1042, 2902, 518, 6118, 1879, 1321, 3842, 3050, 3216, 1894, 5552, 4882, 2488, 1277, 5433, 1988, 2445, 5874, 1099, 891, 4932, 442, 3536, 2440, 3818, 3931, 2935, 1258, 1671, 3443, 4781, 4865, 5522, 6038, 6530, 1381, 4389, 2991, 3263, 5562, 3297, 4328, 356, 3826, 2778, 3965, 4856, 2628, 3565, 3420, 1818, 1095, 1710, 2636, 2506, 2845, 6219, 2467, 2732, 541, 3019, 4691, 24, 3023, 4863, 1678, 804, 970, 6037, 2549, 6187, 2898, 2026, 5965, 5968, 6289, 4156, 5935, 807, 5372, 2516, 4713, 5261, 129, 3089, 6110, 357, 462, 6009, 1851, 65, 965, 598, 3386, 1004, 664, 2661, 6497, 3201, 2007, 1987, 3615, 5353, 3741, 426, 4563, 2582, 3504, 6102, 5548, 6221, 1912, 4815, 3733, 3411, 123, 3511, 286, 2078, 2494, 2656, 3117, 2967, 3151, 3786, 1338, 3515, 1860, 3788, 4766, 5462, 6504, 3284, 446, 1592, 6459, 2475, 887, 4279, 4126, 6510, 3537, 3969, 1350, 288, 5955, 4523, 3531, 3037, 6101, 2530, 4576, 747, 6407, 396, 2985, 1853, 3503, 1402, 4899, 4868, 2466, 172, 4093, 2824, 1524, 5294, 315, 5650, 1292, 1855, 949, 6165, 4706, 665, 2088, 3110, 1997, 4105, 5729, 2831, 1013, 3213, 3990, 3134, 4831, 510, 1772, 2514, 2862, 1513, 4984, 6452, 2111, 6192, 3915, 3501, 5592, 4494, 4852, 5378, 967, 5536, 6450, 474, 4501, 2251, 6044, 4853, 503, 3209, 5079, 350, 3670, 2170, 4117, 2254, 3652, 6548, 4038, 3929, 4287, 3800, 4804, 754, 66, 5516, 2681, 6515, 1031, 1081, 2679, 6024, 3617, 3878, 5122, 1080, 1371, 6188, 234, 6199, 6521, 4933, 6191, 2071, 5563, 6108, 4724, 4052, 2231, 2058, 1461, 3843, 1347, 5045, 224, 2290, 923, 3914, 2730, 6253, 3154, 1368, 2027, 3902, 2415, 2173, 6522, 6047, 2821, 5484, 3205, 5270, 6272, 3156, 5114, 4040, 4319, 1010, 45, 591, 3491, 2105, 1351, 2536, 254, 2937, 1608, 3697, 3044, 4553, 1261, 2890, 2085, 2867, 5889, 694, 3288, 2926, 3962, 55, 1492, 3131, 4668, 27, 3758, 3508, 1404, 2616, 5929, 2906, 4966, 5158, 5382, 50, 4445, 3369, 6405, 3109, 6179, 3533, 1527, 12, 6420, 4438, 5951, 3509, 40, 1903, 3868, 3111, 5568, 3394, 6106, 3621, 3278, 3664, 1382, 5837, 1207, 4131, 3942, 4622, 3230, 3559, 4293, 1567, 4353, 2246, 535, 3190, 3069, 2202, 2232, 6269, 31, 6117, 951, 2585, 5452, 3455, 1432, 2222, 2008, 425, 1219, 2347, 4133, 222, 1742, 3993, 5391, 3233, 1544, 312, 191, 1055, 2811, 1260, 4071, 1409, 1665, 6033, 3374, 6208, 5012, 1695, 2158, 5143, 1340, 3410, 4702, 4041, 1463, 5978, 2278, 338, 2650, 2334, 2957, 6088, 2485, 2618, 5707, 1814, 3196, 3303, 5150, 127, 5129, 4963, 3953, 4979, 1978, 4001, 3833, 4965, 1614, 4095, 4803, 2168, 3345, 2873, 3685, 5814, 4076, 2790, 6383, 1620, 2721, 3996, 3352, 483, 6433, 473, 3981, 4039, 3592, 3445, 2284, 791, 364, 4869, 2163, 3810, 5754, 6340, 2281, 1991, 3082, 4290, 4654, 5272, 4031, 4325, 5881, 214, 2087, 2405, 2004, 3437, 2925, 2188, 4891, 4708, 2355, 1734, 3995, 5044, 5732, 855, 6206, 2672, 5196, 2323, 6286, 2123, 4043, 2665, 2982, 2750, 1838, 604, 3829, 5191, 4670, 610, 4858, 1745, 2366, 1044, 5540, 2575, 6366, 1791, 2646, 4813, 5021, 2368, 6270, 6112, 2393, 209, 5713, 182, 3599, 3468, 3552, 675, 1355, 5861, 348, 3027, 3932, 1123, 4124, 2715, 606, 4223, 5893, 3787, 5533, 1215, 1939, 1317, 4234, 2689, 207, 3735, 4653, 6157, 1050, 3639, 137, 6372, 1786, 6357, 2774, 2162, 5560, 4795, 1700, 3256, 2552, 4886, 2615, 1911, 3450, 4201, 4545, 4242, 5393, 41, 3046, 433, 2854, 6331, 3310, 1773, 4855, 5429, 2181, 3274, 5447, 1030, 5152, 5836, 5627, 6503, 2419, 5618, 3756, 3532, 3647, 612, 4127, 4636, 1158, 2909, 2043, 6294, 1616, 3571, 2439, 3901, 5397, 6460, 3539, 4150, 3521, 2878, 1176, 1867, 5234, 5267, 5049, 6060, 4582, 4646, 4158, 728, 3170, 5316, 1345, 6170, 6349, 4139, 5188, 5632, 3900, 1191, 4490, 362, 3956, 4942, 5216, 3573, 3312, 991, 3505, 674, 4907, 841, 6255, 3275, 3832, 3703, 1857, 4997, 2883, 4468, 726, 2224, 844, 6413, 2900, 4192, 4390, 2102, 3367, 5323, 2392, 3954, 2309, 1362, 4449, 1503, 3891, 2737, 2074, 1875, 1154, 2038, 2241, 1136, 3726, 2179, 3055, 1405, 631, 4949, 3719, 918, 3671, 582, 2794, 2342, 1591, 5131, 5187, 1036, 3005, 3104, 5074, 678, 2204, 1940, 2884, 1708, 1793, 4975, 1160, 3159, 4085, 1198, 5531, 1202, 2032, 3644, 4539, 1828, 782, 3564, 2853, 2070, 6464, 2943, 1564, 1873, 2406, 1357, 5385, 603, 4334, 1005, 5136, 341, 773, 1399, 283, 4878, 1502, 4692, 6451, 3417, 3688, 1114, 5844, 5094, 2700, 919, 4628, 4009, 1444, 4723, 5214, 1582, 6355, 2897, 6438, 4978, 5112, 3510, 3970, 1383, 3392, 502, 6171, 5476, 1075, 3548, 1009, 264, 1852, 1164, 6036, 3738, 260, 4072, 2833, 4993, 1926, 544, 1768, 725, 4399, 6278, 1443, 118, 2997, 1330, 1533, 4230, 6304, 1365, 4173, 4125, 211, 550, 2621, 6406, 2448, 1565, 1003, 1709, 5243, 4354, 3465, 6032, 4519, 1649, 4421, 1250, 6045, 3434, 4146, 1827, 6287, 556, 3844, 6246, 5210, 2725, 3202, 3966, 5156, 1952, 6527, 4555, 3076, 4315, 4358, 4452, 63, 4217, 669, 3924, 3722, 4443, 3777, 4404, 5389, 3624, 3978, 3923, 1020, 545, 2529, 3886, 2113, 4005, 3538, 564, 4360, 874, 3560, 5276, 3576, 1904, 2895, 2266, 2006, 1438, 1985, 4277, 2647, 6119, 2804, 4476, 3260, 3636, 4187, 1667, 3863, 4859, 5876, 3660, 6414, 2256, 1517, 5400, 4111, 5056, 6012, 1162, 6156, 5347, 1237, 448, 3427, 5483, 3056, 6419, 6212, 3480, 1686, 6247, 225, 308, 1909, 4366, 4229, 5871, 2417, 2941, 552, 501, 6010, 2190, 4570, 6486, 2157, 774, 3750, 2550, 1755, 871, 2802, 4488, 4602, 6436, 5788, 4286, 759, 687, 3499, 2791, 4814, 2235, 2450, 5309, 790, 3338, 6023, 4524, 177, 1788, 5457, 468, 3139, 4888, 1813, 1733, 2614, 4108, 4574, 3641, 1112, 2443, 3478, 58, 682, 3371, 4941, 1979, 4011, 6168, 3225, 585, 3390, 4401, 466, 3148, 1757, 4460, 2670, 146, 223, 4541, 4239, 6237, 4178, 10, 3035, 370, 1525, 5606, 1781, 2849, 2426, 5757, 3140, 4321, 1570, 3066, 1087, 6516, 394, 3129, 5508, 1825, 5046, 715, 1872, 3282, 4136, 56, 827, 103, 3402, 2318, 889, 2442, 2491, 4004, 623, 1990, 6004, 888, 3412, 5925, 4990, 955, 5179, 178, 2567, 4619, 4599, 4388, 5948, 3513, 1779, 5644, 2479, 2519, 3204, 6216, 3003, 1660, 1456, 372, 4962, 2825, 1348, 4302, 2526, 1132, 5205, 2736, 4729, 3556, 5142, 6259, 4725, 5301, 6273, 1303, 4765, 2401, 4454, 6030, 4128, 4928, 5696, 3651, 2481, 4666, 14, 1868, 757, 1622, 4414, 2810, 3557, 1236, 3928, 5962, 4129, 2666, 4046, 4050, 5635, 6132, 1605, 2067, 6263, 4296, 6447, 51, 2962, 141, 4245, 5767, 6207, 3894, 885, 2841, 306, 1339, 3583, 5773, 2271, 4437, 3941, 1017, 1835, 3765, 5302, 1011, 1569, 1587, 1675, 4463, 5295, 524, 2959, 28, 2683, 2367, 6220, 4467, 1421, 670, 2344, 349, 2384, 4615, 5631, 5939, 4416, 4061, 2764, 4057, 758, 5629, 2454, 1128, 1129, 5183, 1663, 5587, 4833, 4047, 2588, 4049, 1196, 1291, 4317, 3079, 831, 4337, 6100, 2999, 3318, 2930, 2903, 5683, 4783, 2745, 1401, 3547, 3430, 3239, 26, 3228, 5617, 3743, 710, 5847, 5619, 755, 5864, 6350, 6421, 1023, 3401, 6264, 6164, 4717, 2993, 317, 1259, 5059, 1715, 5305, 2017, 836, 2755, 2975, 2693, 5505, 4663, 3980, 3203, 4776, 2872, 3176, 6334, 1748, 5448, 2857, 3397, 305, 1673, 4778, 4686, 6428, 3350, 2108, 2427, 4164, 1454, 3247, 1610, 2580, 1684, 1847, 3675, 5014, 190, 1998, 4109, 3349, 3222, 5804, 4774, 4714, 3798, 1977, 3749, 4342, 775, 4006, 1936, 2607, 3199, 3805, 1976, 2261, 5125, 4871, 2063, 1468, 4812, 4226, 1177, 2663, 5470, 2291, 5177, 1550, 1512, 353, 5570, 1618, 1846, 6332, 4537, 5461, 6250, 2534, 121, 3002, 2599, 1973, 4824, 1484, 2106, 592, 6335, 5795, 532, 6427, 4698, 6448, 708, 4289, 4107, 5306, 2492, 3849, 6090, 2546, 5263, 3905, 3916, 4623, 3746, 5219, 3471, 3570, 6169, 4808, 3666, 5537, 4023, 1460, 3368, 3013, 3172, 1508, 780, 4914, 6375, 913, 2699, 5524, 5384, 4637, 4517, 1489, 4748, 1959, 3939, 3613, 937, 2065, 4383, 1780, 6172, 75, 4037, 3523, 4402, 2830, 6050, 526, 4566, 688, 4806, 2703, 383, 6008, 793, 3809, 3163, 3865, 4115, 1172, 6258, 1535, 6196, 4002, 5923, 5268, 5776, 756, 1379, 2120, 3789, 2382, 5961, 4740, 1891, 461, 5699, 1428, 270, 13, 1272, 4986, 2855, 6003, 5198, 5351, 2194, 5373, 5569, 2413, 5959, 1621, 2310, 2894, 2760, 4300, 227, 5852, 153, 1408, 3811, 3137, 2418, 1241, 6343, 1244, 1625, 2513, 300, 4572, 2101, 2236, 1737, 5565, 2773, 453, 4650, 1949, 3075, 3851, 4896, 1822, 5561, 1738, 2274, 2114, 2286, 100, 6276, 1101, 1452, 4188, 5634, 2905, 5846, 1917, 4583, 2912, 3245, 5691, 1836, 2092, 2260, 3911, 2185, 1597, 2263, 3421, 4493, 1647, 4174, 5858, 2024, 6244, 3229, 1407, 3802, 842, 4391, 4769, 2881, 609, 3223, 514, 1178, 1498, 4604, 5311, 3175, 2249, 4667, 1446, 2357, 1890, 3815, 4712, 6282, 5073, 2125, 870, 155, 3418, 3879, 5722, 5398, 3992, 4520, 49, 4901, 3662, 4425, 5692, 2558, 2195, 1824, 2493, 3446, 2483, 3133, 4847, 1568, 5151, 1981, 4969, 4470, 517, 4305, 5283, 2858, 2015, 3167, 2716, 2852, 3024, 3363, 2176, 1319, 104, 455, 4068, 3677, 1580, 2844, 4218, 484, 6180, 1778, 4788, 3650, 2578, 2847, 6523, 1465, 4405, 2758, 6130, 4148, 1546, 5285, 2153, 2146, 2859, 1102, 2805, 4486, 1732, 4406, 5890, 4462, 4487, 471, 3837, 1134, 4834, 3057, 2658, 2977, 3684, 452, 2472, 1942, 3872, 5182, 1754, 4244, 1194, 6288, 3681, 1161, 6285, 1293, 3653, 3884, 2768, 5139, 5211, 4424, 5525, 5202, 4945, 4890, 5019, 3083, 3553, 5640, 5147, 2307, 614, 505, 4976, 2337, 3659, 2856, 1414, 1526, 6458, 3324, 5401, 1425, 4848, 4633, 5303, 4087, 2352, 6054, 5801, 4365, 1656, 6251, 3630, 4751, 2822, 4116, 512, 3814, 4735, 4275, 2503, 5037, 6323, 6275, 6209, 3059, 3748, 6213, 6006, 543, 187, 5764, 5473, 6245, 4206, 3541, 6083, 47, 1212, 1538, 677, 1705, 2889, 3224, 1342, 20, 4075, 3694, 2279, 6386, 5710, 107, 5264, 5523, 4629, 1375, 925, 54, 2850, 2667, 3407, 3107, 4482, 5588, 1728, 5802, 477, 3518, 156, 702, 2979, 4818, 2812, 6015, 1426, 6354, 4295, 3240, 2924, 2138, 38, 5972, 3049, 1367, 4338, 1613, 2756, 6445, 6374, 4521, 4144, 2009, 6084, 198, 1073, 3614, 1892, 2268, 5381, 5134, 1923, 4081, 4785, 3454, 4951, 2353, 21, 149, 5118, 926, 2893, 6243, 4112, 4913, 3850, 864, 6540, 4082, 2365, 2659, 3744, 1951, 5055, 3947, 5624, 3372, 1850, 4032, 4700, 1685, 3300, 4149, 4409, 2886, 1436, 671, 4373, 996, 4028, 4395, 1500, 5623, 745, 911, 1713, 271, 4485, 6120, 3342, 4270, 4496, 3341, 43, 4442, 2033, 4950, 6457, 4386, 3210, 1014, 1603, 2568, 1795, 3578, 5446, 297, 3522, 6444, 5230, 4885, 6511, 6543, 1296, 663, 768, 3409, 1028, 1090, 1929, 1174, 4611, 1422, 1996, 3088, 2137, 990, 2851, 2606, 860, 4644, 5343, 6058, 5603, 4372, 3917, 6455, 1707, 1808, 4616, 5637, 3162, 6134, 3290, 3762, 922, 939, 3790, 6041, 1171, 5787, 5518, 2002, 3442, 944, 5811, 4118, 5870, 3494, 1019, 3634, 6303, 4140, 145, 4707, 2596, 5766, 5800, 5690, 5481, 5190, 1406, 5011, 3119, 5318, 1523, 4634, 5604, 3620, 6291, 1286, 5697, 6194, 2360, 3015, 3293, 1007, 363, 1238, 2057, 2468, 3870, 3646, 942, 4161, 5914, 6437, 2545, 5036, 279, 6189, 6424, 3757, 513, 120, 2410, 1941, 1794, 3314, 3072, 1676, 3877, 4168, 3663, 1598, 3904, 6087, 3152, 2820, 115, 5954, 1045, 2848, 2115, 380, 1696, 1015, 1905, 1491, 1961, 1299, 5035, 2990, 1025, 294, 2544, 1029, 1354, 6456, 6491, 6493, 3622, 4527, 1449, 964, 4248, 1320, 2389, 778, 5277, 3112, 5364, 3206, 1545]\n",
      "test ids:  [0, 1, 2, 3, 4, 5, 6, 7, 8, 78, 79, 80, 81, 82, 83, 84, 85, 86, 87, 88, 89, 90, 158, 159, 160, 161, 162, 163, 164, 165, 166, 167, 168, 169, 170, 171, 238, 239, 240, 241, 242, 243, 244, 245, 246, 247, 248, 249, 250, 251, 252, 253, 318, 319, 320, 321, 322, 324, 325, 326, 327, 328, 329, 330, 331, 332, 333, 334, 335, 398, 399, 400, 401, 402, 405, 406, 407, 408, 409, 410, 411, 412, 413, 414, 415, 416, 417, 478, 479, 480, 481, 482, 486, 487, 488, 489, 490, 491, 492, 493, 494, 495, 496, 497, 498, 499, 558, 559, 560, 561, 562, 567, 568, 569, 570, 571, 572, 573, 574, 575, 576, 577, 578, 579, 580, 638, 639, 640, 641, 642, 648, 649, 650, 651, 652, 653, 654, 655, 656, 657, 658, 659, 660, 661, 662, 718, 719, 720, 721, 722, 729, 730, 731, 732, 733, 734, 735, 736, 737, 738, 739, 740, 741, 742, 743, 744, 798, 799, 800, 801, 802, 810, 811, 812, 813, 814, 815, 816, 817, 818, 819, 820, 821, 822, 823, 824, 825, 826, 878, 879, 880, 881, 882, 892, 893, 894, 895, 896, 897, 898, 899, 900, 901, 902, 903, 904, 905, 906, 907, 908, 958, 959, 960, 961, 962, 974, 975, 976, 977, 978, 979, 980, 981, 982, 983, 984, 985, 986, 987, 988, 989, 1039, 1040, 1041, 1057, 1058, 1059, 1060, 1061, 1062, 1063, 1064, 1065, 1066, 1067, 1068, 1069, 1070, 1071, 1119, 1120, 1121, 1139, 1140, 1141, 1142, 1143, 1144, 1145, 1146, 1147, 1148, 1149, 1150, 1151, 1152, 1153, 1199, 1200, 1201, 1221, 1222, 1223, 1224, 1225, 1226, 1227, 1228, 1229, 1230, 1231, 1232, 1233, 1234, 1235, 1279, 1280, 1281, 1304, 1305, 1306, 1307, 1308, 1309, 1310, 1311, 1312, 1313, 1314, 1315, 1316, 1359, 1360, 1361, 1386, 1387, 1388, 1389, 1390, 1391, 1392, 1393, 1394, 1395, 1396, 1397, 1398, 1439, 1440, 1441, 1469, 1470, 1471, 1472, 1473, 1474, 1475, 1476, 1477, 1478, 1479, 1480, 1519, 1520, 1521, 1551, 1552, 1553, 1554, 1555, 1556, 1557, 1558, 1559, 1560, 1561, 1562, 1599, 1600, 1601, 1633, 1634, 1635, 1636, 1637, 1638, 1639, 1640, 1641, 1642, 1643, 1644, 1679, 1680, 1681, 1716, 1717, 1718, 1719, 1720, 1721, 1722, 1723, 1724, 1725, 1759, 1760, 1761, 1798, 1799, 1800, 1801, 1802, 1803, 1804, 1805, 1806, 1807, 1839, 1840, 1841, 1880, 1881, 1882, 1883, 1884, 1885, 1886, 1887, 1888, 1889, 1919, 1920, 1921, 1963, 1964, 1965, 1966, 1967, 1968, 1969, 1970, 1971, 1999, 2000, 2001, 2045, 2046, 2047, 2048, 2049, 2050, 2051, 2052, 2053, 2079, 2080, 2081, 2127, 2128, 2129, 2130, 2131, 2132, 2133, 2134, 2160, 2210, 2211, 2212, 2213, 2214, 2215, 2216, 2240, 2292, 2293, 2294, 2295, 2296, 2297, 2298, 2320, 2375, 2376, 2377, 2378, 2379, 2380, 2400, 2457, 2458, 2459, 2460, 2461, 2462, 2480, 2539, 2540, 2541, 2542, 2543, 2560, 2622, 2623, 2624, 2625, 2640, 2704, 2705, 2706, 2707, 2720, 2786, 2787, 2788, 2789, 2800, 2869, 2870, 2871, 2880, 2951, 2952, 2960, 3033, 3034, 3040, 3116, 3120, 3198, 3200, 3280, 3360, 3362, 3440, 3444, 3520, 3526, 3527, 3600, 3608, 3609, 3680, 3689, 3690, 3691, 3760, 3771, 3772, 3773, 3774, 3840, 3853, 3854, 3855, 3856, 3920, 3935, 3936, 3937, 3938, 4000, 4017, 4018, 4019, 4020, 4021, 4080, 4098, 4099, 4100, 4101, 4102, 4103, 4160, 4180, 4181, 4182, 4183, 4184, 4185, 4240, 4262, 4263, 4264, 4265, 4266, 4267, 4268, 4320, 4344, 4345, 4346, 4347, 4348, 4349, 4350, 4400, 4426, 4427, 4428, 4429, 4430, 4431, 4432, 4433, 4479, 4480, 4481, 4507, 4508, 4509, 4510, 4511, 4512, 4513, 4514, 4515, 4559, 4560, 4561, 4589, 4590, 4591, 4592, 4593, 4594, 4595, 4596, 4597, 4639, 4640, 4641, 4671, 4672, 4673, 4674, 4675, 4676, 4677, 4678, 4679, 4680, 4719, 4720, 4721, 4753, 4754, 4755, 4756, 4757, 4758, 4759, 4760, 4761, 4762, 4799, 4800, 4801, 4835, 4836, 4837, 4838, 4839, 4840, 4841, 4842, 4843, 4844, 4879, 4880, 4881, 4916, 4917, 4918, 4919, 4920, 4921, 4922, 4923, 4924, 4925, 4926, 4927, 4959, 4960, 4961, 4998, 4999, 5000, 5001, 5002, 5003, 5004, 5005, 5006, 5007, 5008, 5009, 5039, 5040, 5041, 5080, 5081, 5082, 5083, 5084, 5085, 5086, 5087, 5088, 5089, 5090, 5091, 5119, 5120, 5121, 5162, 5163, 5164, 5165, 5166, 5167, 5168, 5169, 5170, 5171, 5172, 5173, 5174, 5199, 5200, 5201, 5244, 5245, 5246, 5247, 5248, 5249, 5250, 5251, 5252, 5253, 5254, 5255, 5256, 5279, 5280, 5281, 5325, 5326, 5327, 5328, 5329, 5330, 5331, 5332, 5333, 5334, 5335, 5336, 5337, 5338, 5339, 5359, 5360, 5361, 5407, 5408, 5409, 5410, 5411, 5412, 5413, 5414, 5415, 5416, 5417, 5418, 5419, 5420, 5421, 5439, 5440, 5441, 5489, 5490, 5491, 5492, 5493, 5494, 5495, 5496, 5497, 5498, 5499, 5500, 5501, 5502, 5503, 5519, 5520, 5521, 5571, 5572, 5573, 5574, 5575, 5576, 5577, 5578, 5579, 5580, 5581, 5582, 5583, 5584, 5585, 5586, 5598, 5599, 5600, 5601, 5602, 5652, 5653, 5654, 5655, 5656, 5657, 5658, 5659, 5660, 5661, 5662, 5663, 5664, 5665, 5666, 5667, 5668, 5678, 5679, 5680, 5681, 5682, 5734, 5735, 5736, 5737, 5738, 5739, 5740, 5741, 5742, 5743, 5744, 5745, 5746, 5747, 5748, 5749, 5750, 5758, 5759, 5760, 5761, 5762, 5816, 5817, 5818, 5819, 5820, 5821, 5822, 5823, 5824, 5825, 5826, 5827, 5828, 5829, 5830, 5831, 5838, 5839, 5840, 5841, 5842, 5898, 5899, 5900, 5901, 5902, 5903, 5904, 5905, 5906, 5907, 5908, 5909, 5910, 5911, 5912, 5918, 5919, 5920, 5921, 5922, 5980, 5981, 5982, 5983, 5984, 5985, 5986, 5987, 5988, 5989, 5990, 5991, 5992, 5993, 5998, 5999, 6000, 6001, 6002, 6061, 6062, 6063, 6064, 6065, 6066, 6067, 6068, 6069, 6070, 6071, 6072, 6073, 6074, 6078, 6079, 6080, 6081, 6082, 6143, 6144, 6145, 6146, 6147, 6148, 6149, 6150, 6151, 6152, 6153, 6154, 6155, 6158, 6159, 6160, 6161, 6162, 6225, 6226, 6227, 6228, 6229, 6230, 6231, 6232, 6233, 6234, 6235, 6236, 6238, 6239, 6240, 6241, 6242, 6307, 6308, 6309, 6310, 6311, 6312, 6313, 6314, 6315, 6316, 6317, 6318, 6319, 6320, 6321, 6322, 6389, 6390, 6391, 6392, 6393, 6394, 6395, 6396, 6397, 6398, 6399, 6400, 6401, 6402, 6470, 6471, 6472, 6473, 6474, 6475, 6476, 6477, 6478, 6479, 6480, 6481, 6482, 6552, 6553, 6554, 6555, 6556, 6557, 6558, 6559, 6560]\n",
      "CPU times: user 168 ms, sys: 0 ns, total: 168 ms\n",
      "Wall time: 167 ms\n"
     ]
    }
   ],
   "source": [
    "%%time\n",
    "n_total = len(simulation.dataframe)\n",
    "n_train = len(simulation.dataframe[simulation.dataframe.type_of == \"train\"])\n",
    "n_val = len(simulation.dataframe[simulation.dataframe.type_of == \"val\"])\n",
    "n_test = len(simulation.dataframe[simulation.dataframe.type_of == \"test\"])\n",
    "n_train_hamiltonians = len(simulation.train_ids)\n",
    "n_val_hamiltonians = len(simulation.val_ids)\n",
    "n_test_hamiltonians = len(simulation.test_ids)\n",
    "n_total_hamiltonians = n_train_hamiltonians + n_val_hamiltonians + n_test_hamiltonians\n",
    "\n",
    "print(\"% train: \", n_train/n_total)\n",
    "print(\"% val: \",  n_val/n_total)\n",
    "print(\"% test: \", n_test/n_total)\n",
    "print(\"% train + val + test: \", (n_train+n_val+n_test)/n_total)\n",
    "print(\"\\n\")\n",
    "print(\"number of train hamiltonians: \", n_train_hamiltonians)\n",
    "print(\"number of val hamiltonians: \", n_val_hamiltonians)\n",
    "print(\"number of test hamiltonians: \", n_test_hamiltonians)\n",
    "print(\"total number of hamiltonians: \", n_total_hamiltonians)\n",
    "print(\"\\n\")\n",
    "print(\"train ids: \", simulation.train_ids)\n",
    "print(\"val ids: \", simulation.val_ids)\n",
    "print(\"test ids: \", simulation.test_ids)"
   ]
  },
  {
   "cell_type": "markdown",
   "metadata": {
    "papermill": {
     "duration": 0.036455,
     "end_time": "2020-07-08T05:51:10.200168",
     "exception": false,
     "start_time": "2020-07-08T05:51:10.163713",
     "status": "completed"
    },
    "tags": []
   },
   "source": [
    "#### Checking summaries"
   ]
  },
  {
   "cell_type": "code",
   "execution_count": 27,
   "metadata": {
    "execution": {
     "iopub.execute_input": "2020-07-08T05:51:10.273317Z",
     "iopub.status.busy": "2020-07-08T05:51:10.273009Z",
     "iopub.status.idle": "2020-07-08T05:51:10.291446Z",
     "shell.execute_reply": "2020-07-08T05:51:10.291130Z"
    },
    "papermill": {
     "duration": 0.055736,
     "end_time": "2020-07-08T05:51:10.291498",
     "exception": false,
     "start_time": "2020-07-08T05:51:10.235762",
     "status": "completed"
    },
    "tags": []
   },
   "outputs": [
    {
     "name": "stdout",
     "output_type": "stream",
     "text": [
      "length of ham_summary:  6561\n",
      "CPU times: user 83 µs, sys: 0 ns, total: 83 µs\n",
      "Wall time: 54.1 µs\n"
     ]
    },
    {
     "data": {
      "text/html": [
       "<div>\n",
       "<style scoped>\n",
       "    .dataframe tbody tr th:only-of-type {\n",
       "        vertical-align: middle;\n",
       "    }\n",
       "\n",
       "    .dataframe tbody tr th {\n",
       "        vertical-align: top;\n",
       "    }\n",
       "\n",
       "    .dataframe thead th {\n",
       "        text-align: right;\n",
       "    }\n",
       "</style>\n",
       "<table border=\"1\" class=\"dataframe\">\n",
       "  <thead>\n",
       "    <tr style=\"text-align: right;\">\n",
       "      <th></th>\n",
       "      <th>t1</th>\n",
       "      <th>t2</th>\n",
       "      <th>type_of</th>\n",
       "      <th>0</th>\n",
       "      <th>1</th>\n",
       "      <th>phase</th>\n",
       "      <th>pred_phase</th>\n",
       "    </tr>\n",
       "    <tr>\n",
       "      <th>id</th>\n",
       "      <th></th>\n",
       "      <th></th>\n",
       "      <th></th>\n",
       "      <th></th>\n",
       "      <th></th>\n",
       "      <th></th>\n",
       "      <th></th>\n",
       "    </tr>\n",
       "  </thead>\n",
       "  <tbody>\n",
       "    <tr>\n",
       "      <th>0</th>\n",
       "      <td>-2.0</td>\n",
       "      <td>-2.00</td>\n",
       "      <td>test</td>\n",
       "      <td>0.49</td>\n",
       "      <td>0.51</td>\n",
       "      <td>999</td>\n",
       "      <td>1</td>\n",
       "    </tr>\n",
       "    <tr>\n",
       "      <th>1</th>\n",
       "      <td>-2.0</td>\n",
       "      <td>-1.95</td>\n",
       "      <td>test</td>\n",
       "      <td>0.55</td>\n",
       "      <td>0.45</td>\n",
       "      <td>0</td>\n",
       "      <td>0</td>\n",
       "    </tr>\n",
       "    <tr>\n",
       "      <th>2</th>\n",
       "      <td>-2.0</td>\n",
       "      <td>-1.90</td>\n",
       "      <td>test</td>\n",
       "      <td>0.64</td>\n",
       "      <td>0.36</td>\n",
       "      <td>0</td>\n",
       "      <td>0</td>\n",
       "    </tr>\n",
       "    <tr>\n",
       "      <th>3</th>\n",
       "      <td>-2.0</td>\n",
       "      <td>-1.85</td>\n",
       "      <td>test</td>\n",
       "      <td>0.73</td>\n",
       "      <td>0.27</td>\n",
       "      <td>0</td>\n",
       "      <td>0</td>\n",
       "    </tr>\n",
       "    <tr>\n",
       "      <th>4</th>\n",
       "      <td>-2.0</td>\n",
       "      <td>-1.80</td>\n",
       "      <td>test</td>\n",
       "      <td>0.72</td>\n",
       "      <td>0.28</td>\n",
       "      <td>0</td>\n",
       "      <td>0</td>\n",
       "    </tr>\n",
       "    <tr>\n",
       "      <th>...</th>\n",
       "      <td>...</td>\n",
       "      <td>...</td>\n",
       "      <td>...</td>\n",
       "      <td>...</td>\n",
       "      <td>...</td>\n",
       "      <td>...</td>\n",
       "      <td>...</td>\n",
       "    </tr>\n",
       "    <tr>\n",
       "      <th>6556</th>\n",
       "      <td>2.0</td>\n",
       "      <td>1.80</td>\n",
       "      <td>test</td>\n",
       "      <td>0.76</td>\n",
       "      <td>0.24</td>\n",
       "      <td>0</td>\n",
       "      <td>0</td>\n",
       "    </tr>\n",
       "    <tr>\n",
       "      <th>6557</th>\n",
       "      <td>2.0</td>\n",
       "      <td>1.85</td>\n",
       "      <td>test</td>\n",
       "      <td>0.70</td>\n",
       "      <td>0.30</td>\n",
       "      <td>0</td>\n",
       "      <td>0</td>\n",
       "    </tr>\n",
       "    <tr>\n",
       "      <th>6558</th>\n",
       "      <td>2.0</td>\n",
       "      <td>1.90</td>\n",
       "      <td>test</td>\n",
       "      <td>0.54</td>\n",
       "      <td>0.46</td>\n",
       "      <td>0</td>\n",
       "      <td>0</td>\n",
       "    </tr>\n",
       "    <tr>\n",
       "      <th>6559</th>\n",
       "      <td>2.0</td>\n",
       "      <td>1.95</td>\n",
       "      <td>test</td>\n",
       "      <td>0.53</td>\n",
       "      <td>0.47</td>\n",
       "      <td>0</td>\n",
       "      <td>0</td>\n",
       "    </tr>\n",
       "    <tr>\n",
       "      <th>6560</th>\n",
       "      <td>2.0</td>\n",
       "      <td>2.00</td>\n",
       "      <td>test</td>\n",
       "      <td>0.40</td>\n",
       "      <td>0.60</td>\n",
       "      <td>999</td>\n",
       "      <td>1</td>\n",
       "    </tr>\n",
       "  </tbody>\n",
       "</table>\n",
       "<p>6561 rows × 7 columns</p>\n",
       "</div>"
      ],
      "text/plain": [
       "       t1    t2 type_of     0     1  phase  pred_phase\n",
       "id                                                    \n",
       "0    -2.0 -2.00    test  0.49  0.51    999           1\n",
       "1    -2.0 -1.95    test  0.55  0.45      0           0\n",
       "2    -2.0 -1.90    test  0.64  0.36      0           0\n",
       "3    -2.0 -1.85    test  0.73  0.27      0           0\n",
       "4    -2.0 -1.80    test  0.72  0.28      0           0\n",
       "...   ...   ...     ...   ...   ...    ...         ...\n",
       "6556  2.0  1.80    test  0.76  0.24      0           0\n",
       "6557  2.0  1.85    test  0.70  0.30      0           0\n",
       "6558  2.0  1.90    test  0.54  0.46      0           0\n",
       "6559  2.0  1.95    test  0.53  0.47      0           0\n",
       "6560  2.0  2.00    test  0.40  0.60    999           1\n",
       "\n",
       "[6561 rows x 7 columns]"
      ]
     },
     "execution_count": 27,
     "metadata": {},
     "output_type": "execute_result"
    }
   ],
   "source": [
    "%%time\n",
    "ham_summary = simulation.hamiltonian_summary\n",
    "print(\"length of ham_summary: \", len(ham_summary))\n",
    "ham_summary"
   ]
  },
  {
   "cell_type": "code",
   "execution_count": 28,
   "metadata": {
    "execution": {
     "iopub.execute_input": "2020-07-08T05:51:10.367711Z",
     "iopub.status.busy": "2020-07-08T05:51:10.367408Z",
     "iopub.status.idle": "2020-07-08T05:51:10.399248Z",
     "shell.execute_reply": "2020-07-08T05:51:10.398931Z"
    },
    "papermill": {
     "duration": 0.07043,
     "end_time": "2020-07-08T05:51:10.399300",
     "exception": false,
     "start_time": "2020-07-08T05:51:10.328870",
     "status": "completed"
    },
    "tags": []
   },
   "outputs": [
    {
     "data": {
      "text/html": [
       "<div>\n",
       "<style scoped>\n",
       "    .dataframe tbody tr th:only-of-type {\n",
       "        vertical-align: middle;\n",
       "    }\n",
       "\n",
       "    .dataframe tbody tr th {\n",
       "        vertical-align: top;\n",
       "    }\n",
       "\n",
       "    .dataframe thead th {\n",
       "        text-align: right;\n",
       "    }\n",
       "</style>\n",
       "<table border=\"1\" class=\"dataframe\">\n",
       "  <thead>\n",
       "    <tr style=\"text-align: right;\">\n",
       "      <th></th>\n",
       "      <th>t1</th>\n",
       "      <th>t2</th>\n",
       "      <th>0</th>\n",
       "      <th>1</th>\n",
       "      <th>phase</th>\n",
       "      <th>pred_phase</th>\n",
       "    </tr>\n",
       "  </thead>\n",
       "  <tbody>\n",
       "    <tr>\n",
       "      <th>count</th>\n",
       "      <td>6561.000000</td>\n",
       "      <td>6.561000e+03</td>\n",
       "      <td>6561.000000</td>\n",
       "      <td>6561.000000</td>\n",
       "      <td>6561.000000</td>\n",
       "      <td>6561.000000</td>\n",
       "    </tr>\n",
       "    <tr>\n",
       "      <th>mean</th>\n",
       "      <td>0.000000</td>\n",
       "      <td>-4.331917e-18</td>\n",
       "      <td>0.520130</td>\n",
       "      <td>0.479870</td>\n",
       "      <td>25.002134</td>\n",
       "      <td>0.500229</td>\n",
       "    </tr>\n",
       "    <tr>\n",
       "      <th>std</th>\n",
       "      <td>1.169134</td>\n",
       "      <td>1.169134e+00</td>\n",
       "      <td>0.430914</td>\n",
       "      <td>0.430914</td>\n",
       "      <td>154.495657</td>\n",
       "      <td>0.500038</td>\n",
       "    </tr>\n",
       "    <tr>\n",
       "      <th>min</th>\n",
       "      <td>-2.000000</td>\n",
       "      <td>-2.000000e+00</td>\n",
       "      <td>0.030000</td>\n",
       "      <td>0.000000</td>\n",
       "      <td>0.000000</td>\n",
       "      <td>0.000000</td>\n",
       "    </tr>\n",
       "    <tr>\n",
       "      <th>25%</th>\n",
       "      <td>-1.000000</td>\n",
       "      <td>-1.000000e+00</td>\n",
       "      <td>0.060000</td>\n",
       "      <td>0.020000</td>\n",
       "      <td>0.000000</td>\n",
       "      <td>0.000000</td>\n",
       "    </tr>\n",
       "    <tr>\n",
       "      <th>50%</th>\n",
       "      <td>0.000000</td>\n",
       "      <td>0.000000e+00</td>\n",
       "      <td>0.500000</td>\n",
       "      <td>0.500000</td>\n",
       "      <td>1.000000</td>\n",
       "      <td>1.000000</td>\n",
       "    </tr>\n",
       "    <tr>\n",
       "      <th>75%</th>\n",
       "      <td>1.000000</td>\n",
       "      <td>1.000000e+00</td>\n",
       "      <td>0.980000</td>\n",
       "      <td>0.940000</td>\n",
       "      <td>1.000000</td>\n",
       "      <td>1.000000</td>\n",
       "    </tr>\n",
       "    <tr>\n",
       "      <th>max</th>\n",
       "      <td>2.000000</td>\n",
       "      <td>2.000000e+00</td>\n",
       "      <td>1.000000</td>\n",
       "      <td>0.970000</td>\n",
       "      <td>999.000000</td>\n",
       "      <td>1.000000</td>\n",
       "    </tr>\n",
       "  </tbody>\n",
       "</table>\n",
       "</div>"
      ],
      "text/plain": [
       "                t1            t2            0            1        phase  \\\n",
       "count  6561.000000  6.561000e+03  6561.000000  6561.000000  6561.000000   \n",
       "mean      0.000000 -4.331917e-18     0.520130     0.479870    25.002134   \n",
       "std       1.169134  1.169134e+00     0.430914     0.430914   154.495657   \n",
       "min      -2.000000 -2.000000e+00     0.030000     0.000000     0.000000   \n",
       "25%      -1.000000 -1.000000e+00     0.060000     0.020000     0.000000   \n",
       "50%       0.000000  0.000000e+00     0.500000     0.500000     1.000000   \n",
       "75%       1.000000  1.000000e+00     0.980000     0.940000     1.000000   \n",
       "max       2.000000  2.000000e+00     1.000000     0.970000   999.000000   \n",
       "\n",
       "        pred_phase  \n",
       "count  6561.000000  \n",
       "mean      0.500229  \n",
       "std       0.500038  \n",
       "min       0.000000  \n",
       "25%       0.000000  \n",
       "50%       1.000000  \n",
       "75%       1.000000  \n",
       "max       1.000000  "
      ]
     },
     "execution_count": 28,
     "metadata": {},
     "output_type": "execute_result"
    }
   ],
   "source": [
    "ham_summary.describe()"
   ]
  },
  {
   "cell_type": "code",
   "execution_count": 29,
   "metadata": {
    "execution": {
     "iopub.execute_input": "2020-07-08T05:51:10.476090Z",
     "iopub.status.busy": "2020-07-08T05:51:10.475782Z",
     "iopub.status.idle": "2020-07-08T05:51:10.490600Z",
     "shell.execute_reply": "2020-07-08T05:51:10.490285Z"
    },
    "papermill": {
     "duration": 0.053743,
     "end_time": "2020-07-08T05:51:10.490651",
     "exception": false,
     "start_time": "2020-07-08T05:51:10.436908",
     "status": "completed"
    },
    "tags": []
   },
   "outputs": [
    {
     "name": "stdout",
     "output_type": "stream",
     "text": [
      "length of ham_summary:  656100\n"
     ]
    },
    {
     "data": {
      "text/html": [
       "<div>\n",
       "<style scoped>\n",
       "    .dataframe tbody tr th:only-of-type {\n",
       "        vertical-align: middle;\n",
       "    }\n",
       "\n",
       "    .dataframe tbody tr th {\n",
       "        vertical-align: top;\n",
       "    }\n",
       "\n",
       "    .dataframe thead th {\n",
       "        text-align: right;\n",
       "    }\n",
       "</style>\n",
       "<table border=\"1\" class=\"dataframe\">\n",
       "  <thead>\n",
       "    <tr style=\"text-align: right;\">\n",
       "      <th></th>\n",
       "      <th>id</th>\n",
       "      <th>phase</th>\n",
       "      <th>pred_phase</th>\n",
       "      <th>type_of</th>\n",
       "    </tr>\n",
       "  </thead>\n",
       "  <tbody>\n",
       "    <tr>\n",
       "      <th>0</th>\n",
       "      <td>0</td>\n",
       "      <td>999</td>\n",
       "      <td>0</td>\n",
       "      <td>test</td>\n",
       "    </tr>\n",
       "    <tr>\n",
       "      <th>1</th>\n",
       "      <td>0</td>\n",
       "      <td>999</td>\n",
       "      <td>0</td>\n",
       "      <td>test</td>\n",
       "    </tr>\n",
       "    <tr>\n",
       "      <th>2</th>\n",
       "      <td>0</td>\n",
       "      <td>999</td>\n",
       "      <td>1</td>\n",
       "      <td>test</td>\n",
       "    </tr>\n",
       "    <tr>\n",
       "      <th>3</th>\n",
       "      <td>0</td>\n",
       "      <td>999</td>\n",
       "      <td>0</td>\n",
       "      <td>test</td>\n",
       "    </tr>\n",
       "    <tr>\n",
       "      <th>4</th>\n",
       "      <td>0</td>\n",
       "      <td>999</td>\n",
       "      <td>1</td>\n",
       "      <td>test</td>\n",
       "    </tr>\n",
       "    <tr>\n",
       "      <th>...</th>\n",
       "      <td>...</td>\n",
       "      <td>...</td>\n",
       "      <td>...</td>\n",
       "      <td>...</td>\n",
       "    </tr>\n",
       "    <tr>\n",
       "      <th>656095</th>\n",
       "      <td>6560</td>\n",
       "      <td>999</td>\n",
       "      <td>1</td>\n",
       "      <td>test</td>\n",
       "    </tr>\n",
       "    <tr>\n",
       "      <th>656096</th>\n",
       "      <td>6560</td>\n",
       "      <td>999</td>\n",
       "      <td>1</td>\n",
       "      <td>test</td>\n",
       "    </tr>\n",
       "    <tr>\n",
       "      <th>656097</th>\n",
       "      <td>6560</td>\n",
       "      <td>999</td>\n",
       "      <td>1</td>\n",
       "      <td>test</td>\n",
       "    </tr>\n",
       "    <tr>\n",
       "      <th>656098</th>\n",
       "      <td>6560</td>\n",
       "      <td>999</td>\n",
       "      <td>0</td>\n",
       "      <td>test</td>\n",
       "    </tr>\n",
       "    <tr>\n",
       "      <th>656099</th>\n",
       "      <td>6560</td>\n",
       "      <td>999</td>\n",
       "      <td>1</td>\n",
       "      <td>test</td>\n",
       "    </tr>\n",
       "  </tbody>\n",
       "</table>\n",
       "<p>656100 rows × 4 columns</p>\n",
       "</div>"
      ],
      "text/plain": [
       "          id  phase  pred_phase type_of\n",
       "0          0    999           0    test\n",
       "1          0    999           0    test\n",
       "2          0    999           1    test\n",
       "3          0    999           0    test\n",
       "4          0    999           1    test\n",
       "...      ...    ...         ...     ...\n",
       "656095  6560    999           1    test\n",
       "656096  6560    999           1    test\n",
       "656097  6560    999           1    test\n",
       "656098  6560    999           0    test\n",
       "656099  6560    999           1    test\n",
       "\n",
       "[656100 rows x 4 columns]"
      ]
     },
     "execution_count": 29,
     "metadata": {},
     "output_type": "execute_result"
    }
   ],
   "source": [
    "eigen_summary = simulation.eigenvector_summary\n",
    "print(\"length of ham_summary: \", len(eigen_summary))\n",
    "eigen_summary"
   ]
  },
  {
   "cell_type": "markdown",
   "metadata": {
    "papermill": {
     "duration": 0.036519,
     "end_time": "2020-07-08T05:51:10.563908",
     "exception": false,
     "start_time": "2020-07-08T05:51:10.527389",
     "status": "completed"
    },
    "tags": []
   },
   "source": [
    "#### Checking accuracies"
   ]
  },
  {
   "cell_type": "code",
   "execution_count": 30,
   "metadata": {
    "execution": {
     "iopub.execute_input": "2020-07-08T05:51:10.642131Z",
     "iopub.status.busy": "2020-07-08T05:51:10.641825Z",
     "iopub.status.idle": "2020-07-08T05:51:10.652270Z",
     "shell.execute_reply": "2020-07-08T05:51:10.651952Z"
    },
    "papermill": {
     "duration": 0.051139,
     "end_time": "2020-07-08T05:51:10.652322",
     "exception": false,
     "start_time": "2020-07-08T05:51:10.601183",
     "status": "completed"
    },
    "tags": []
   },
   "outputs": [
    {
     "data": {
      "text/plain": [
       "{'eigenvector_train': 0.9750179856115108,\n",
       " 'eigenvector_val': 0.951336,\n",
       " 'eigenvector_test': 0.7428080568720379,\n",
       " 'hamiltonian_train': 1.0,\n",
       " 'hamiltonian_val': 1.0,\n",
       " 'hamiltonian_test': 0.9976303317535545}"
      ]
     },
     "execution_count": 30,
     "metadata": {},
     "output_type": "execute_result"
    }
   ],
   "source": [
    "simulation.accuracy"
   ]
  },
  {
   "cell_type": "markdown",
   "metadata": {
    "papermill": {
     "duration": 0.037087,
     "end_time": "2020-07-08T05:51:10.730257",
     "exception": false,
     "start_time": "2020-07-08T05:51:10.693170",
     "status": "completed"
    },
    "tags": []
   },
   "source": [
    "#### Checking data stored in  memory"
   ]
  },
  {
   "cell_type": "code",
   "execution_count": 31,
   "metadata": {
    "execution": {
     "iopub.execute_input": "2020-07-08T05:51:10.808650Z",
     "iopub.status.busy": "2020-07-08T05:51:10.808334Z",
     "iopub.status.idle": "2020-07-08T05:51:10.818665Z",
     "shell.execute_reply": "2020-07-08T05:51:10.818346Z"
    },
    "papermill": {
     "duration": 0.050211,
     "end_time": "2020-07-08T05:51:10.818716",
     "exception": false,
     "start_time": "2020-07-08T05:51:10.768505",
     "status": "completed"
    },
    "tags": []
   },
   "outputs": [
    {
     "data": {
      "text/plain": [
       "[]"
      ]
     },
     "execution_count": 31,
     "metadata": {},
     "output_type": "execute_result"
    }
   ],
   "source": [
    "ham_summary_list = simulation.hamiltonian_summary_list\n",
    "ham_summary_list"
   ]
  },
  {
   "cell_type": "code",
   "execution_count": 32,
   "metadata": {
    "execution": {
     "iopub.execute_input": "2020-07-08T05:51:10.895659Z",
     "iopub.status.busy": "2020-07-08T05:51:10.895347Z",
     "iopub.status.idle": "2020-07-08T05:51:10.929162Z",
     "shell.execute_reply": "2020-07-08T05:51:10.929413Z"
    },
    "papermill": {
     "duration": 0.073255,
     "end_time": "2020-07-08T05:51:10.929481",
     "exception": false,
     "start_time": "2020-07-08T05:51:10.856226",
     "status": "completed"
    },
    "tags": []
   },
   "outputs": [
    {
     "data": {
      "text/plain": [
       "[]"
      ]
     },
     "execution_count": 32,
     "metadata": {},
     "output_type": "execute_result"
    }
   ],
   "source": [
    "eigen_summary_list = simulation.eigenvector_summary_list\n",
    "eigen_summary_list"
   ]
  },
  {
   "cell_type": "code",
   "execution_count": 33,
   "metadata": {
    "execution": {
     "iopub.execute_input": "2020-07-08T05:51:11.008111Z",
     "iopub.status.busy": "2020-07-08T05:51:11.007803Z",
     "iopub.status.idle": "2020-07-08T05:51:11.018348Z",
     "shell.execute_reply": "2020-07-08T05:51:11.018035Z"
    },
    "papermill": {
     "duration": 0.050366,
     "end_time": "2020-07-08T05:51:11.018400",
     "exception": false,
     "start_time": "2020-07-08T05:51:10.968034",
     "status": "completed"
    },
    "tags": []
   },
   "outputs": [
    {
     "data": {
      "text/plain": [
       "{'eigenvector_train': [],\n",
       " 'eigenvector_val': [],\n",
       " 'eigenvector_test': [],\n",
       " 'hamiltonian_train': [],\n",
       " 'hamiltonian_val': [],\n",
       " 'hamiltonian_test': []}"
      ]
     },
     "execution_count": 33,
     "metadata": {},
     "output_type": "execute_result"
    }
   ],
   "source": [
    "accuracy_list = simulation.accuracy_list\n",
    "accuracy_list"
   ]
  },
  {
   "cell_type": "code",
   "execution_count": null,
   "metadata": {
    "papermill": {
     "duration": 0.041169,
     "end_time": "2020-07-08T05:51:11.097769",
     "exception": false,
     "start_time": "2020-07-08T05:51:11.056600",
     "status": "completed"
    },
    "tags": []
   },
   "outputs": [],
   "source": []
  },
  {
   "cell_type": "code",
   "execution_count": null,
   "metadata": {
    "papermill": {
     "duration": 0.038472,
     "end_time": "2020-07-08T05:51:11.174936",
     "exception": false,
     "start_time": "2020-07-08T05:51:11.136464",
     "status": "completed"
    },
    "tags": []
   },
   "outputs": [],
   "source": []
  },
  {
   "cell_type": "code",
   "execution_count": 34,
   "metadata": {
    "execution": {
     "iopub.execute_input": "2020-07-08T05:51:11.252488Z",
     "iopub.status.busy": "2020-07-08T05:51:11.252171Z",
     "iopub.status.idle": "2020-07-08T05:51:11.261909Z",
     "shell.execute_reply": "2020-07-08T05:51:11.261589Z"
    },
    "papermill": {
     "duration": 0.049083,
     "end_time": "2020-07-08T05:51:11.261962",
     "exception": false,
     "start_time": "2020-07-08T05:51:11.212879",
     "status": "completed"
    },
    "tags": []
   },
   "outputs": [],
   "source": [
    "#simulation.fourier_matrix"
   ]
  },
  {
   "cell_type": "code",
   "execution_count": 35,
   "metadata": {
    "execution": {
     "iopub.execute_input": "2020-07-08T05:51:11.341034Z",
     "iopub.status.busy": "2020-07-08T05:51:11.340727Z",
     "iopub.status.idle": "2020-07-08T05:51:11.350185Z",
     "shell.execute_reply": "2020-07-08T05:51:11.349866Z"
    },
    "papermill": {
     "duration": 0.049462,
     "end_time": "2020-07-08T05:51:11.350238",
     "exception": false,
     "start_time": "2020-07-08T05:51:11.300776",
     "status": "completed"
    },
    "tags": []
   },
   "outputs": [],
   "source": [
    "#simulation.fourier_matrix.shape"
   ]
  },
  {
   "cell_type": "code",
   "execution_count": 36,
   "metadata": {
    "execution": {
     "iopub.execute_input": "2020-07-08T05:51:11.428118Z",
     "iopub.status.busy": "2020-07-08T05:51:11.427811Z",
     "iopub.status.idle": "2020-07-08T05:51:11.437629Z",
     "shell.execute_reply": "2020-07-08T05:51:11.437302Z"
    },
    "papermill": {
     "duration": 0.049427,
     "end_time": "2020-07-08T05:51:11.437682",
     "exception": false,
     "start_time": "2020-07-08T05:51:11.388255",
     "status": "completed"
    },
    "tags": []
   },
   "outputs": [],
   "source": [
    "#simulation.fourier_matrix[:,0]"
   ]
  },
  {
   "cell_type": "code",
   "execution_count": 37,
   "metadata": {
    "execution": {
     "iopub.execute_input": "2020-07-08T05:51:11.517144Z",
     "iopub.status.busy": "2020-07-08T05:51:11.516806Z",
     "iopub.status.idle": "2020-07-08T05:51:11.570999Z",
     "shell.execute_reply": "2020-07-08T05:51:11.569272Z"
    },
    "papermill": {
     "duration": 0.094649,
     "end_time": "2020-07-08T05:51:11.571288",
     "exception": false,
     "start_time": "2020-07-08T05:51:11.476639",
     "status": "completed"
    },
    "tags": []
   },
   "outputs": [],
   "source": [
    "#simulation.fourier_matrix[:,1]"
   ]
  },
  {
   "cell_type": "code",
   "execution_count": 38,
   "metadata": {
    "execution": {
     "iopub.execute_input": "2020-07-08T05:51:11.685201Z",
     "iopub.status.busy": "2020-07-08T05:51:11.684893Z",
     "iopub.status.idle": "2020-07-08T05:51:11.694538Z",
     "shell.execute_reply": "2020-07-08T05:51:11.694217Z"
    },
    "papermill": {
     "duration": 0.049184,
     "end_time": "2020-07-08T05:51:11.694590",
     "exception": false,
     "start_time": "2020-07-08T05:51:11.645406",
     "status": "completed"
    },
    "tags": []
   },
   "outputs": [],
   "source": [
    "#np.exp(-1j*2*np.pi*3/100)"
   ]
  },
  {
   "cell_type": "code",
   "execution_count": 39,
   "metadata": {
    "execution": {
     "iopub.execute_input": "2020-07-08T05:51:11.774117Z",
     "iopub.status.busy": "2020-07-08T05:51:11.773805Z",
     "iopub.status.idle": "2020-07-08T05:51:11.783121Z",
     "shell.execute_reply": "2020-07-08T05:51:11.783426Z"
    },
    "papermill": {
     "duration": 0.050048,
     "end_time": "2020-07-08T05:51:11.783493",
     "exception": false,
     "start_time": "2020-07-08T05:51:11.733445",
     "status": "completed"
    },
    "tags": []
   },
   "outputs": [],
   "source": [
    "#for i in range(1,50):\n",
    "#    print(\"\\n\")\n",
    "#    print(i)\n",
    "#    print(np.sum((np.real(simulation.fourier_matrix[:,i]) - np.real(simulation.fourier_matrix[:,-i]))**2))\n",
    "#    print(np.sum((np.imag(simulation.fourier_matrix[:,i])+ np.imag(simulation.fourier_matrix[:,-i]))**2))"
   ]
  },
  {
   "cell_type": "code",
   "execution_count": 40,
   "metadata": {
    "execution": {
     "iopub.execute_input": "2020-07-08T05:51:11.861743Z",
     "iopub.status.busy": "2020-07-08T05:51:11.861413Z",
     "iopub.status.idle": "2020-07-08T05:51:11.918291Z",
     "shell.execute_reply": "2020-07-08T05:51:11.917768Z"
    },
    "papermill": {
     "duration": 0.096866,
     "end_time": "2020-07-08T05:51:11.918371",
     "exception": false,
     "start_time": "2020-07-08T05:51:11.821505",
     "status": "completed"
    },
    "tags": []
   },
   "outputs": [
    {
     "name": "stdout",
     "output_type": "stream",
     "text": [
      "[1. 1. 1. 1. 1. 1. 1. 1. 1. 1. 1. 1. 1. 1. 1. 1. 1. 1. 1. 1. 1. 1. 1. 1.\n",
      " 1. 1. 1. 1. 1. 1. 1. 1. 1. 1. 1. 1. 1. 1. 1. 1. 1. 1. 1. 1. 1. 1. 1. 1.\n",
      " 1. 1. 1.]\n"
     ]
    }
   ],
   "source": [
    "print(simulation.fourier_matrix[:,0])"
   ]
  },
  {
   "cell_type": "code",
   "execution_count": 41,
   "metadata": {
    "execution": {
     "iopub.execute_input": "2020-07-08T05:51:12.014805Z",
     "iopub.status.busy": "2020-07-08T05:51:12.014488Z",
     "iopub.status.idle": "2020-07-08T05:51:12.025110Z",
     "shell.execute_reply": "2020-07-08T05:51:12.024794Z"
    },
    "papermill": {
     "duration": 0.050774,
     "end_time": "2020-07-08T05:51:12.025162",
     "exception": false,
     "start_time": "2020-07-08T05:51:11.974388",
     "status": "completed"
    },
    "tags": []
   },
   "outputs": [
    {
     "name": "stdout",
     "output_type": "stream",
     "text": [
      "[ 1. -1.  1. -1.  1. -1.  1. -1.  1. -1.  1. -1.  1. -1.  1. -1.  1. -1.\n",
      "  1. -1.  1. -1.  1. -1.  1. -1.  1. -1.  1. -1.  1. -1.  1. -1.  1. -1.\n",
      "  1. -1.  1. -1.  1. -1.  1. -1.  1. -1.  1. -1.  1. -1.  1.]\n"
     ]
    }
   ],
   "source": [
    "print(simulation.fourier_matrix[:,50])"
   ]
  },
  {
   "cell_type": "code",
   "execution_count": null,
   "metadata": {
    "papermill": {
     "duration": 0.038091,
     "end_time": "2020-07-08T05:51:12.101450",
     "exception": false,
     "start_time": "2020-07-08T05:51:12.063359",
     "status": "completed"
    },
    "tags": []
   },
   "outputs": [],
   "source": []
  }
 ],
 "metadata": {
  "celltoolbar": "Tags",
  "kernelspec": {
   "display_name": "ml_top_phases",
   "language": "python",
   "name": "ml_top_phases"
  },
  "language_info": {
   "codemirror_mode": {
    "name": "ipython",
    "version": 3
   },
   "file_extension": ".py",
   "mimetype": "text/x-python",
   "name": "python",
   "nbconvert_exporter": "python",
   "pygments_lexer": "ipython3",
   "version": "3.6.10"
  },
  "papermill": {
   "duration": 1058.232086,
   "end_time": "2020-07-08T05:51:13.158402",
   "environment_variables": {},
   "exception": null,
   "input_path": "0_simulation_template.ipynb",
   "output_path": "zzz_simulation_output_ssh1_2nd_scenario_100_6561.ipynb",
   "parameters": {
    "allowed_windings": [
     0,
     1
    ],
    "csv_path": "/home/rio/ssh_csvs/ssh1/periodic_100_6561.csv",
    "features_to_use": null,
    "fillna": false,
    "fit_params": null,
    "fourier_features": [
     0,
     1,
     2,
     3,
     4,
     5,
     6,
     7,
     8,
     9,
     10,
     11,
     12,
     13,
     14,
     15,
     16,
     17,
     18,
     19,
     20,
     21,
     22,
     23,
     24,
     25,
     26,
     27,
     28,
     29,
     30,
     31,
     32,
     33,
     34,
     35,
     36,
     37,
     38,
     39,
     40,
     41,
     42,
     43,
     44,
     45,
     46,
     47,
     48,
     49,
     50
    ],
    "mode": "dct",
    "model_kw": {
     "criterion": "entropy"
    },
    "model_name": "DecisionTreeClassifier",
    "n_experiments": 100,
    "normalize": false,
    "pred_params": null,
    "random_features": false,
    "random_state": 548,
    "real": false,
    "save_accuracy": true,
    "save_eigenvector": true,
    "save_hamiltonian": true,
    "save_models": true,
    "shuffle_features": false,
    "shuffle_rows": true,
    "simulation_dir": "/home/rio/ssh_simulations/ssh1/periodic_2nd_scenario_100_6561",
    "start_n": 0,
    "store_in_lists": false,
    "val_split": 0.9
   },
   "start_time": "2020-07-08T05:33:34.926316",
   "version": "2.1.0"
  }
 },
 "nbformat": 4,
 "nbformat_minor": 2
}