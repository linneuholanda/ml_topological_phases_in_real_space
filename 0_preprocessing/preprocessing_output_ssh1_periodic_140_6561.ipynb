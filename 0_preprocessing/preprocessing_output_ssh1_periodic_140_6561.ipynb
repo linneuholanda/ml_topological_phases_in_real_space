{
 "cells": [
  {
   "cell_type": "markdown",
   "metadata": {
    "papermill": {
     "duration": 0.016641,
     "end_time": "2020-03-05T03:42:02.903291",
     "exception": false,
     "start_time": "2020-03-05T03:42:02.886650",
     "status": "completed"
    },
    "tags": []
   },
   "source": [
    "# Generate csv files \n"
   ]
  },
  {
   "cell_type": "markdown",
   "metadata": {
    "papermill": {
     "duration": 0.009008,
     "end_time": "2020-03-05T03:42:02.922882",
     "exception": false,
     "start_time": "2020-03-05T03:42:02.913874",
     "status": "completed"
    },
    "tags": []
   },
   "source": [
    "This notebook generates .csv files from a directory containing .dat files with Hamiltonian data. Each .dat file is assumed to be named as `\"H_t1_t2_winding.dat\"`.  "
   ]
  },
  {
   "cell_type": "code",
   "execution_count": 1,
   "metadata": {
    "papermill": {
     "duration": 0.286928,
     "end_time": "2020-03-05T03:42:03.220194",
     "exception": false,
     "start_time": "2020-03-05T03:42:02.933266",
     "status": "completed"
    },
    "tags": []
   },
   "outputs": [],
   "source": [
    "#from IPython.core.display import HTML\n",
    "#HTML(\"<script>Jupyter.notebook.kernel.restart()</script>\")\n",
    "%load_ext autoreload\n",
    "%autoreload 2\n",
    "\n",
    "from preprocessing import *"
   ]
  },
  {
   "cell_type": "markdown",
   "metadata": {
    "papermill": {
     "duration": 0.009141,
     "end_time": "2020-03-05T03:42:03.247911",
     "exception": false,
     "start_time": "2020-03-05T03:42:03.238770",
     "status": "completed"
    },
    "tags": []
   },
   "source": [
    "### Set the parameters below carefully"
   ]
  },
  {
   "cell_type": "code",
   "execution_count": 2,
   "metadata": {
    "papermill": {
     "duration": 0.032222,
     "end_time": "2020-03-05T03:42:03.290631",
     "exception": false,
     "start_time": "2020-03-05T03:42:03.258409",
     "status": "completed"
    },
    "tags": [
     "parameters"
    ]
   },
   "outputs": [
    {
     "name": "stdout",
     "output_type": "stream",
     "text": [
      "CPU times: user 3 µs, sys: 0 ns, total: 3 µs\n",
      "Wall time: 4.77 µs\n"
     ]
    }
   ],
   "source": [
    "%%time\n",
    "grid_folder = \"/home/linneu/ssh_grids/ssh1/periodic_100_6561\"\n",
    "allowed_windings = [0,1]\n",
    "epsilon = 0.01\n",
    "csv_name = \"/home/linneu/ssh_csvs/ssh1/periodic_100_6561.csv\"\n",
    "to_csv = True\n"
   ]
  },
  {
   "cell_type": "code",
   "execution_count": 3,
   "metadata": {
    "papermill": {
     "duration": 0.029904,
     "end_time": "2020-03-05T03:42:03.334417",
     "exception": false,
     "start_time": "2020-03-05T03:42:03.304513",
     "status": "completed"
    },
    "tags": [
     "injected-parameters"
    ]
   },
   "outputs": [],
   "source": [
    "# Parameters\n",
    "allowed_windings = [0, 1]\n",
    "epsilon = 0.01\n",
    "to_csv = True\n",
    "grid_folder = \"/home/linneu/ssh_grids/ssh1/periodic_140_6561\"\n",
    "csv_name = \"/home/linneu/ssh_csvs/ssh1/periodic_140_6561.csv\"\n"
   ]
  },
  {
   "cell_type": "code",
   "execution_count": 4,
   "metadata": {
    "papermill": {
     "duration": 174.48275,
     "end_time": "2020-03-05T03:44:57.830846",
     "exception": false,
     "start_time": "2020-03-05T03:42:03.348096",
     "status": "completed"
    },
    "tags": []
   },
   "outputs": [
    {
     "name": "stderr",
     "output_type": "stream",
     "text": [
      "\r",
      "loading hamiltonians:   0%|          | 0/6561 [00:00<?, ?it/s]"
     ]
    },
    {
     "name": "stderr",
     "output_type": "stream",
     "text": [
      "\r",
      "loading hamiltonians:   1%|          | 45/6561 [00:00<00:17, 377.93it/s]"
     ]
    },
    {
     "name": "stderr",
     "output_type": "stream",
     "text": [
      "\r",
      "loading hamiltonians:   1%|▏         | 90/6561 [00:00<00:16, 396.25it/s]"
     ]
    },
    {
     "name": "stderr",
     "output_type": "stream",
     "text": [
      "\r",
      "loading hamiltonians:   2%|▏         | 127/6561 [00:00<00:16, 387.70it/s]"
     ]
    },
    {
     "name": "stderr",
     "output_type": "stream",
     "text": [
      "\r",
      "loading hamiltonians:   3%|▎         | 165/6561 [00:00<00:16, 382.06it/s]"
     ]
    },
    {
     "name": "stderr",
     "output_type": "stream",
     "text": [
      "\r",
      "loading hamiltonians:   3%|▎         | 205/6561 [00:00<00:16, 384.55it/s]"
     ]
    },
    {
     "name": "stderr",
     "output_type": "stream",
     "text": [
      "\r",
      "loading hamiltonians:   4%|▎         | 238/6561 [00:00<00:18, 349.19it/s]"
     ]
    },
    {
     "name": "stderr",
     "output_type": "stream",
     "text": [
      "\r",
      "loading hamiltonians:   4%|▍         | 277/6561 [00:00<00:17, 359.13it/s]"
     ]
    },
    {
     "name": "stderr",
     "output_type": "stream",
     "text": [
      "\r",
      "loading hamiltonians:   5%|▍         | 311/6561 [00:00<00:17, 352.72it/s]"
     ]
    },
    {
     "name": "stderr",
     "output_type": "stream",
     "text": [
      "\r",
      "loading hamiltonians:   5%|▌         | 345/6561 [00:00<00:17, 348.07it/s]"
     ]
    },
    {
     "name": "stderr",
     "output_type": "stream",
     "text": [
      "\r",
      "loading hamiltonians:   6%|▌         | 388/6561 [00:01<00:16, 368.73it/s]"
     ]
    },
    {
     "name": "stderr",
     "output_type": "stream",
     "text": [
      "\r",
      "loading hamiltonians:   6%|▋         | 425/6561 [00:01<00:16, 364.64it/s]"
     ]
    },
    {
     "name": "stderr",
     "output_type": "stream",
     "text": [
      "\r",
      "loading hamiltonians:   7%|▋         | 465/6561 [00:01<00:16, 361.56it/s]"
     ]
    },
    {
     "name": "stderr",
     "output_type": "stream",
     "text": [
      "\r",
      "loading hamiltonians:   8%|▊         | 510/6561 [00:01<00:15, 383.53it/s]"
     ]
    },
    {
     "name": "stderr",
     "output_type": "stream",
     "text": [
      "\r",
      "loading hamiltonians:   8%|▊         | 549/6561 [00:01<00:16, 375.30it/s]"
     ]
    },
    {
     "name": "stderr",
     "output_type": "stream",
     "text": [
      "\r",
      "loading hamiltonians:   9%|▉         | 587/6561 [00:01<00:16, 366.74it/s]"
     ]
    },
    {
     "name": "stderr",
     "output_type": "stream",
     "text": [
      "\r",
      "loading hamiltonians:  10%|▉         | 624/6561 [00:01<00:28, 210.94it/s]"
     ]
    },
    {
     "name": "stderr",
     "output_type": "stream",
     "text": [
      "\r",
      "loading hamiltonians:  10%|█         | 658/6561 [00:02<00:24, 237.99it/s]"
     ]
    },
    {
     "name": "stderr",
     "output_type": "stream",
     "text": [
      "\r",
      "loading hamiltonians:  11%|█         | 703/6561 [00:02<00:21, 276.36it/s]"
     ]
    },
    {
     "name": "stderr",
     "output_type": "stream",
     "text": [
      "\r",
      "loading hamiltonians:  11%|█         | 738/6561 [00:02<00:19, 294.74it/s]"
     ]
    },
    {
     "name": "stderr",
     "output_type": "stream",
     "text": [
      "\r",
      "loading hamiltonians:  12%|█▏        | 773/6561 [00:02<00:18, 308.65it/s]"
     ]
    },
    {
     "name": "stderr",
     "output_type": "stream",
     "text": [
      "\r",
      "loading hamiltonians:  12%|█▏        | 817/6561 [00:02<00:17, 337.83it/s]"
     ]
    },
    {
     "name": "stderr",
     "output_type": "stream",
     "text": [
      "\r",
      "loading hamiltonians:  13%|█▎        | 855/6561 [00:02<00:16, 339.20it/s]"
     ]
    },
    {
     "name": "stderr",
     "output_type": "stream",
     "text": [
      "\r",
      "loading hamiltonians:  14%|█▎        | 892/6561 [00:02<00:16, 341.41it/s]"
     ]
    },
    {
     "name": "stderr",
     "output_type": "stream",
     "text": [
      "\r",
      "loading hamiltonians:  14%|█▍        | 935/6561 [00:02<00:15, 362.83it/s]"
     ]
    },
    {
     "name": "stderr",
     "output_type": "stream",
     "text": [
      "\r",
      "loading hamiltonians:  15%|█▍        | 973/6561 [00:02<00:15, 359.00it/s]"
     ]
    },
    {
     "name": "stderr",
     "output_type": "stream",
     "text": [
      "\r",
      "loading hamiltonians:  15%|█▌        | 1011/6561 [00:02<00:15, 357.41it/s]"
     ]
    },
    {
     "name": "stderr",
     "output_type": "stream",
     "text": [
      "\r",
      "loading hamiltonians:  16%|█▌        | 1056/6561 [00:03<00:14, 379.66it/s]"
     ]
    },
    {
     "name": "stderr",
     "output_type": "stream",
     "text": [
      "\r",
      "loading hamiltonians:  17%|█▋        | 1095/6561 [00:03<00:14, 374.88it/s]"
     ]
    },
    {
     "name": "stderr",
     "output_type": "stream",
     "text": [
      "\r",
      "loading hamiltonians:  17%|█▋        | 1134/6561 [00:03<00:14, 369.34it/s]"
     ]
    },
    {
     "name": "stderr",
     "output_type": "stream",
     "text": [
      "\r",
      "loading hamiltonians:  18%|█▊        | 1179/6561 [00:03<00:13, 390.11it/s]"
     ]
    },
    {
     "name": "stderr",
     "output_type": "stream",
     "text": [
      "\r",
      "loading hamiltonians:  19%|█▊        | 1219/6561 [00:03<00:14, 379.61it/s]"
     ]
    },
    {
     "name": "stderr",
     "output_type": "stream",
     "text": [
      "\r",
      "loading hamiltonians:  19%|█▉        | 1258/6561 [00:04<00:36, 146.43it/s]"
     ]
    },
    {
     "name": "stderr",
     "output_type": "stream",
     "text": [
      "\r",
      "loading hamiltonians:  20%|█▉        | 1302/6561 [00:04<00:28, 183.03it/s]"
     ]
    },
    {
     "name": "stderr",
     "output_type": "stream",
     "text": [
      "\r",
      "loading hamiltonians:  20%|██        | 1336/6561 [00:04<00:24, 211.47it/s]"
     ]
    },
    {
     "name": "stderr",
     "output_type": "stream",
     "text": [
      "\r",
      "loading hamiltonians:  21%|██        | 1375/6561 [00:04<00:21, 237.38it/s]"
     ]
    },
    {
     "name": "stderr",
     "output_type": "stream",
     "text": [
      "\r",
      "loading hamiltonians:  22%|██▏       | 1416/6561 [00:04<00:18, 271.10it/s]"
     ]
    },
    {
     "name": "stderr",
     "output_type": "stream",
     "text": [
      "\r",
      "loading hamiltonians:  22%|██▏       | 1452/6561 [00:04<00:17, 288.87it/s]"
     ]
    },
    {
     "name": "stderr",
     "output_type": "stream",
     "text": [
      "\r",
      "loading hamiltonians:  23%|██▎       | 1495/6561 [00:04<00:16, 304.59it/s]"
     ]
    },
    {
     "name": "stderr",
     "output_type": "stream",
     "text": [
      "\r",
      "loading hamiltonians:  23%|██▎       | 1537/6561 [00:04<00:15, 331.26it/s]"
     ]
    },
    {
     "name": "stderr",
     "output_type": "stream",
     "text": [
      "\r",
      "loading hamiltonians:  24%|██▍       | 1574/6561 [00:05<00:15, 318.45it/s]"
     ]
    },
    {
     "name": "stderr",
     "output_type": "stream",
     "text": [
      "\r",
      "loading hamiltonians:  25%|██▍       | 1614/6561 [00:05<00:14, 338.20it/s]"
     ]
    },
    {
     "name": "stderr",
     "output_type": "stream",
     "text": [
      "\r",
      "loading hamiltonians:  25%|██▌       | 1651/6561 [00:05<00:14, 343.78it/s]"
     ]
    },
    {
     "name": "stderr",
     "output_type": "stream",
     "text": [
      "\r",
      "loading hamiltonians:  26%|██▌       | 1688/6561 [00:05<00:14, 346.36it/s]"
     ]
    },
    {
     "name": "stderr",
     "output_type": "stream",
     "text": [
      "\r",
      "loading hamiltonians:  26%|██▋       | 1732/6561 [00:05<00:13, 369.73it/s]"
     ]
    },
    {
     "name": "stderr",
     "output_type": "stream",
     "text": [
      "\r",
      "loading hamiltonians:  27%|██▋       | 1771/6561 [00:05<00:13, 362.69it/s]"
     ]
    },
    {
     "name": "stderr",
     "output_type": "stream",
     "text": [
      "\r",
      "loading hamiltonians:  28%|██▊       | 1809/6561 [00:05<00:13, 360.97it/s]"
     ]
    },
    {
     "name": "stderr",
     "output_type": "stream",
     "text": [
      "\r",
      "loading hamiltonians:  28%|██▊       | 1854/6561 [00:05<00:12, 381.96it/s]"
     ]
    },
    {
     "name": "stderr",
     "output_type": "stream",
     "text": [
      "\r",
      "loading hamiltonians:  29%|██▉       | 1893/6561 [00:05<00:12, 375.05it/s]"
     ]
    },
    {
     "name": "stderr",
     "output_type": "stream",
     "text": [
      "\r",
      "loading hamiltonians:  29%|██▉       | 1932/6561 [00:06<00:41, 112.75it/s]"
     ]
    },
    {
     "name": "stderr",
     "output_type": "stream",
     "text": [
      "\r",
      "loading hamiltonians:  30%|███       | 1977/6561 [00:06<00:31, 145.41it/s]"
     ]
    },
    {
     "name": "stderr",
     "output_type": "stream",
     "text": [
      "\r",
      "loading hamiltonians:  31%|███       | 2014/6561 [00:06<00:25, 177.60it/s]"
     ]
    },
    {
     "name": "stderr",
     "output_type": "stream",
     "text": [
      "\r",
      "loading hamiltonians:  31%|███▏      | 2051/6561 [00:07<00:21, 210.36it/s]"
     ]
    },
    {
     "name": "stderr",
     "output_type": "stream",
     "text": [
      "\r",
      "loading hamiltonians:  32%|███▏      | 2099/6561 [00:07<00:17, 252.59it/s]"
     ]
    },
    {
     "name": "stderr",
     "output_type": "stream",
     "text": [
      "\r",
      "loading hamiltonians:  33%|███▎      | 2138/6561 [00:07<00:15, 281.14it/s]"
     ]
    },
    {
     "name": "stderr",
     "output_type": "stream",
     "text": [
      "\r",
      "loading hamiltonians:  33%|███▎      | 2177/6561 [00:07<00:14, 303.20it/s]"
     ]
    },
    {
     "name": "stderr",
     "output_type": "stream",
     "text": [
      "\r",
      "loading hamiltonians:  34%|███▍      | 2220/6561 [00:07<00:13, 319.16it/s]"
     ]
    },
    {
     "name": "stderr",
     "output_type": "stream",
     "text": [
      "\r",
      "loading hamiltonians:  35%|███▍      | 2266/6561 [00:07<00:12, 351.26it/s]"
     ]
    },
    {
     "name": "stderr",
     "output_type": "stream",
     "text": [
      "\r",
      "loading hamiltonians:  35%|███▌      | 2307/6561 [00:07<00:11, 358.97it/s]"
     ]
    },
    {
     "name": "stderr",
     "output_type": "stream",
     "text": [
      "\r",
      "loading hamiltonians:  36%|███▌      | 2347/6561 [00:07<00:11, 366.38it/s]"
     ]
    },
    {
     "name": "stderr",
     "output_type": "stream",
     "text": [
      "\r",
      "loading hamiltonians:  37%|███▋      | 2396/6561 [00:07<00:10, 393.43it/s]"
     ]
    },
    {
     "name": "stderr",
     "output_type": "stream",
     "text": [
      "\r",
      "loading hamiltonians:  37%|███▋      | 2438/6561 [00:08<00:10, 392.71it/s]"
     ]
    },
    {
     "name": "stderr",
     "output_type": "stream",
     "text": [
      "\r",
      "loading hamiltonians:  38%|███▊      | 2479/6561 [00:08<00:10, 389.99it/s]"
     ]
    },
    {
     "name": "stderr",
     "output_type": "stream",
     "text": [
      "\r",
      "loading hamiltonians:  38%|███▊      | 2520/6561 [00:08<00:10, 385.93it/s]"
     ]
    },
    {
     "name": "stderr",
     "output_type": "stream",
     "text": [
      "\r",
      "loading hamiltonians:  39%|███▉      | 2565/6561 [00:08<00:09, 402.66it/s]"
     ]
    },
    {
     "name": "stderr",
     "output_type": "stream",
     "text": [
      "\r",
      "loading hamiltonians:  40%|███▉      | 2607/6561 [00:09<00:40, 98.66it/s] "
     ]
    },
    {
     "name": "stderr",
     "output_type": "stream",
     "text": [
      "\r",
      "loading hamiltonians:  40%|████      | 2645/6561 [00:09<00:31, 125.58it/s]"
     ]
    },
    {
     "name": "stderr",
     "output_type": "stream",
     "text": [
      "\r",
      "loading hamiltonians:  41%|████      | 2690/6561 [00:09<00:24, 159.87it/s]"
     ]
    },
    {
     "name": "stderr",
     "output_type": "stream",
     "text": [
      "\r",
      "loading hamiltonians:  42%|████▏     | 2726/6561 [00:09<00:20, 191.68it/s]"
     ]
    },
    {
     "name": "stderr",
     "output_type": "stream",
     "text": [
      "\r",
      "loading hamiltonians:  42%|████▏     | 2765/6561 [00:09<00:17, 222.91it/s]"
     ]
    },
    {
     "name": "stderr",
     "output_type": "stream",
     "text": [
      "\r",
      "loading hamiltonians:  43%|████▎     | 2810/6561 [00:10<00:14, 262.05it/s]"
     ]
    },
    {
     "name": "stderr",
     "output_type": "stream",
     "text": [
      "\r",
      "loading hamiltonians:  43%|████▎     | 2849/6561 [00:10<00:12, 286.96it/s]"
     ]
    },
    {
     "name": "stderr",
     "output_type": "stream",
     "text": [
      "\r",
      "loading hamiltonians:  44%|████▍     | 2887/6561 [00:10<00:12, 304.79it/s]"
     ]
    },
    {
     "name": "stderr",
     "output_type": "stream",
     "text": [
      "\r",
      "loading hamiltonians:  45%|████▍     | 2933/6561 [00:10<00:10, 337.95it/s]"
     ]
    },
    {
     "name": "stderr",
     "output_type": "stream",
     "text": [
      "\r",
      "loading hamiltonians:  45%|████▌     | 2973/6561 [00:10<00:10, 349.08it/s]"
     ]
    },
    {
     "name": "stderr",
     "output_type": "stream",
     "text": [
      "\r",
      "loading hamiltonians:  46%|████▌     | 3013/6561 [00:10<00:10, 354.71it/s]"
     ]
    },
    {
     "name": "stderr",
     "output_type": "stream",
     "text": [
      "\r",
      "loading hamiltonians:  47%|████▋     | 3060/6561 [00:10<00:09, 381.91it/s]"
     ]
    },
    {
     "name": "stderr",
     "output_type": "stream",
     "text": [
      "\r",
      "loading hamiltonians:  47%|████▋     | 3101/6561 [00:10<00:09, 381.42it/s]"
     ]
    },
    {
     "name": "stderr",
     "output_type": "stream",
     "text": [
      "\r",
      "loading hamiltonians:  48%|████▊     | 3141/6561 [00:10<00:08, 381.84it/s]"
     ]
    },
    {
     "name": "stderr",
     "output_type": "stream",
     "text": [
      "\r",
      "loading hamiltonians:  49%|████▊     | 3185/6561 [00:10<00:08, 378.52it/s]"
     ]
    },
    {
     "name": "stderr",
     "output_type": "stream",
     "text": [
      "\r",
      "loading hamiltonians:  49%|████▉     | 3231/6561 [00:11<00:08, 398.56it/s]"
     ]
    },
    {
     "name": "stderr",
     "output_type": "stream",
     "text": [
      "\r",
      "loading hamiltonians:  50%|████▉     | 3272/6561 [00:11<00:08, 393.03it/s]"
     ]
    },
    {
     "name": "stderr",
     "output_type": "stream",
     "text": [
      "\r",
      "loading hamiltonians:  50%|█████     | 3312/6561 [00:11<00:08, 390.28it/s]"
     ]
    },
    {
     "name": "stderr",
     "output_type": "stream",
     "text": [
      "\r",
      "loading hamiltonians:  51%|█████     | 3360/6561 [00:11<00:07, 413.09it/s]"
     ]
    },
    {
     "name": "stderr",
     "output_type": "stream",
     "text": [
      "\r",
      "loading hamiltonians:  52%|█████▏    | 3402/6561 [00:11<00:07, 396.47it/s]"
     ]
    },
    {
     "name": "stderr",
     "output_type": "stream",
     "text": [
      "\r",
      "loading hamiltonians:  52%|█████▏    | 3443/6561 [00:13<00:40, 76.82it/s] "
     ]
    },
    {
     "name": "stderr",
     "output_type": "stream",
     "text": [
      "\r",
      "loading hamiltonians:  53%|█████▎    | 3490/6561 [00:13<00:30, 101.10it/s]"
     ]
    },
    {
     "name": "stderr",
     "output_type": "stream",
     "text": [
      "\r",
      "loading hamiltonians:  54%|█████▍    | 3537/6561 [00:13<00:22, 132.06it/s]"
     ]
    },
    {
     "name": "stderr",
     "output_type": "stream",
     "text": [
      "\r",
      "loading hamiltonians:  54%|█████▍    | 3574/6561 [00:13<00:18, 163.48it/s]"
     ]
    },
    {
     "name": "stderr",
     "output_type": "stream",
     "text": [
      "\r",
      "loading hamiltonians:  55%|█████▌    | 3611/6561 [00:13<00:15, 194.83it/s]"
     ]
    },
    {
     "name": "stderr",
     "output_type": "stream",
     "text": [
      "\r",
      "loading hamiltonians:  56%|█████▌    | 3656/6561 [00:13<00:12, 234.75it/s]"
     ]
    },
    {
     "name": "stderr",
     "output_type": "stream",
     "text": [
      "\r",
      "loading hamiltonians:  56%|█████▋    | 3695/6561 [00:13<00:10, 264.06it/s]"
     ]
    },
    {
     "name": "stderr",
     "output_type": "stream",
     "text": [
      "\r",
      "loading hamiltonians:  57%|█████▋    | 3734/6561 [00:13<00:09, 289.26it/s]"
     ]
    },
    {
     "name": "stderr",
     "output_type": "stream",
     "text": [
      "\r",
      "loading hamiltonians:  58%|█████▊    | 3780/6561 [00:13<00:08, 325.41it/s]"
     ]
    },
    {
     "name": "stderr",
     "output_type": "stream",
     "text": [
      "\r",
      "loading hamiltonians:  58%|█████▊    | 3821/6561 [00:14<00:08, 339.26it/s]"
     ]
    },
    {
     "name": "stderr",
     "output_type": "stream",
     "text": [
      "\r",
      "loading hamiltonians:  59%|█████▉    | 3861/6561 [00:14<00:07, 349.14it/s]"
     ]
    },
    {
     "name": "stderr",
     "output_type": "stream",
     "text": [
      "\r",
      "loading hamiltonians:  60%|█████▉    | 3907/6561 [00:14<00:07, 375.91it/s]"
     ]
    },
    {
     "name": "stderr",
     "output_type": "stream",
     "text": [
      "\r",
      "loading hamiltonians:  60%|██████    | 3948/6561 [00:14<00:06, 378.01it/s]"
     ]
    },
    {
     "name": "stderr",
     "output_type": "stream",
     "text": [
      "\r",
      "loading hamiltonians:  61%|██████    | 3989/6561 [00:14<00:06, 378.64it/s]"
     ]
    },
    {
     "name": "stderr",
     "output_type": "stream",
     "text": [
      "\r",
      "loading hamiltonians:  61%|██████▏   | 4030/6561 [00:14<00:06, 369.98it/s]"
     ]
    },
    {
     "name": "stderr",
     "output_type": "stream",
     "text": [
      "\r",
      "loading hamiltonians:  62%|██████▏   | 4076/6561 [00:14<00:06, 391.28it/s]"
     ]
    },
    {
     "name": "stderr",
     "output_type": "stream",
     "text": [
      "\r",
      "loading hamiltonians:  63%|██████▎   | 4117/6561 [00:14<00:06, 385.42it/s]"
     ]
    },
    {
     "name": "stderr",
     "output_type": "stream",
     "text": [
      "\r",
      "loading hamiltonians:  63%|██████▎   | 4157/6561 [00:14<00:06, 383.03it/s]"
     ]
    },
    {
     "name": "stderr",
     "output_type": "stream",
     "text": [
      "\r",
      "loading hamiltonians:  64%|██████▍   | 4203/6561 [00:14<00:05, 403.26it/s]"
     ]
    },
    {
     "name": "stderr",
     "output_type": "stream",
     "text": [
      "\r",
      "loading hamiltonians:  65%|██████▍   | 4245/6561 [00:15<00:05, 395.26it/s]"
     ]
    },
    {
     "name": "stderr",
     "output_type": "stream",
     "text": [
      "\r",
      "loading hamiltonians:  65%|██████▌   | 4286/6561 [00:15<00:05, 389.91it/s]"
     ]
    },
    {
     "name": "stderr",
     "output_type": "stream",
     "text": [
      "\r",
      "loading hamiltonians:  66%|██████▌   | 4331/6561 [00:15<00:05, 387.41it/s]"
     ]
    },
    {
     "name": "stderr",
     "output_type": "stream",
     "text": [
      "\r",
      "loading hamiltonians:  67%|██████▋   | 4377/6561 [00:15<00:05, 406.31it/s]"
     ]
    },
    {
     "name": "stderr",
     "output_type": "stream",
     "text": [
      "\r",
      "loading hamiltonians:  67%|██████▋   | 4419/6561 [00:15<00:05, 392.49it/s]"
     ]
    },
    {
     "name": "stderr",
     "output_type": "stream",
     "text": [
      "\r",
      "loading hamiltonians:  68%|██████▊   | 4459/6561 [00:17<00:33, 62.73it/s] "
     ]
    },
    {
     "name": "stderr",
     "output_type": "stream",
     "text": [
      "\r",
      "loading hamiltonians:  69%|██████▊   | 4505/6561 [00:17<00:24, 84.61it/s]"
     ]
    },
    {
     "name": "stderr",
     "output_type": "stream",
     "text": [
      "\r",
      "loading hamiltonians:  69%|██████▉   | 4543/6561 [00:17<00:18, 110.26it/s]"
     ]
    },
    {
     "name": "stderr",
     "output_type": "stream",
     "text": [
      "\r",
      "loading hamiltonians:  70%|██████▉   | 4582/6561 [00:17<00:14, 140.24it/s]"
     ]
    },
    {
     "name": "stderr",
     "output_type": "stream",
     "text": [
      "\r",
      "loading hamiltonians:  71%|███████   | 4630/6561 [00:17<00:10, 177.59it/s]"
     ]
    },
    {
     "name": "stderr",
     "output_type": "stream",
     "text": [
      "\r",
      "loading hamiltonians:  71%|███████   | 4670/6561 [00:17<00:08, 211.40it/s]"
     ]
    },
    {
     "name": "stderr",
     "output_type": "stream",
     "text": [
      "\r",
      "loading hamiltonians:  72%|███████▏  | 4710/6561 [00:18<00:07, 244.98it/s]"
     ]
    },
    {
     "name": "stderr",
     "output_type": "stream",
     "text": [
      "\r",
      "loading hamiltonians:  72%|███████▏  | 4755/6561 [00:18<00:06, 275.80it/s]"
     ]
    },
    {
     "name": "stderr",
     "output_type": "stream",
     "text": [
      "\r",
      "loading hamiltonians:  73%|███████▎  | 4803/6561 [00:18<00:05, 315.54it/s]"
     ]
    },
    {
     "name": "stderr",
     "output_type": "stream",
     "text": [
      "\r",
      "loading hamiltonians:  74%|███████▍  | 4845/6561 [00:18<00:05, 335.56it/s]"
     ]
    },
    {
     "name": "stderr",
     "output_type": "stream",
     "text": [
      "\r",
      "loading hamiltonians:  74%|███████▍  | 4886/6561 [00:18<00:04, 347.98it/s]"
     ]
    },
    {
     "name": "stderr",
     "output_type": "stream",
     "text": [
      "\r",
      "loading hamiltonians:  75%|███████▌  | 4931/6561 [00:18<00:04, 373.30it/s]"
     ]
    },
    {
     "name": "stderr",
     "output_type": "stream",
     "text": [
      "\r",
      "loading hamiltonians:  76%|███████▌  | 4973/6561 [00:18<00:04, 371.47it/s]"
     ]
    },
    {
     "name": "stderr",
     "output_type": "stream",
     "text": [
      "\r",
      "loading hamiltonians:  76%|███████▋  | 5014/6561 [00:18<00:04, 368.80it/s]"
     ]
    },
    {
     "name": "stderr",
     "output_type": "stream",
     "text": [
      "\r",
      "loading hamiltonians:  77%|███████▋  | 5056/6561 [00:18<00:04, 365.99it/s]"
     ]
    },
    {
     "name": "stderr",
     "output_type": "stream",
     "text": [
      "\r",
      "loading hamiltonians:  78%|███████▊  | 5101/6561 [00:19<00:03, 386.06it/s]"
     ]
    },
    {
     "name": "stderr",
     "output_type": "stream",
     "text": [
      "\r",
      "loading hamiltonians:  78%|███████▊  | 5141/6561 [00:19<00:03, 383.46it/s]"
     ]
    },
    {
     "name": "stderr",
     "output_type": "stream",
     "text": [
      "\r",
      "loading hamiltonians:  79%|███████▉  | 5181/6561 [00:19<00:03, 383.85it/s]"
     ]
    },
    {
     "name": "stderr",
     "output_type": "stream",
     "text": [
      "\r",
      "loading hamiltonians:  80%|███████▉  | 5229/6561 [00:19<00:03, 407.17it/s]"
     ]
    },
    {
     "name": "stderr",
     "output_type": "stream",
     "text": [
      "\r",
      "loading hamiltonians:  80%|████████  | 5271/6561 [00:19<00:03, 398.27it/s]"
     ]
    },
    {
     "name": "stderr",
     "output_type": "stream",
     "text": [
      "\r",
      "loading hamiltonians:  81%|████████  | 5312/6561 [00:19<00:03, 390.07it/s]"
     ]
    },
    {
     "name": "stderr",
     "output_type": "stream",
     "text": [
      "\r",
      "loading hamiltonians:  82%|████████▏ | 5356/6561 [00:19<00:03, 385.98it/s]"
     ]
    },
    {
     "name": "stderr",
     "output_type": "stream",
     "text": [
      "\r",
      "loading hamiltonians:  82%|████████▏ | 5403/6561 [00:19<00:02, 406.67it/s]"
     ]
    },
    {
     "name": "stderr",
     "output_type": "stream",
     "text": [
      "\r",
      "loading hamiltonians:  83%|████████▎ | 5445/6561 [00:19<00:02, 399.63it/s]"
     ]
    },
    {
     "name": "stderr",
     "output_type": "stream",
     "text": [
      "\r",
      "loading hamiltonians:  84%|████████▎ | 5486/6561 [00:19<00:02, 393.69it/s]"
     ]
    },
    {
     "name": "stderr",
     "output_type": "stream",
     "text": [
      "\r",
      "loading hamiltonians:  84%|████████▍ | 5533/6561 [00:20<00:02, 412.81it/s]"
     ]
    },
    {
     "name": "stderr",
     "output_type": "stream",
     "text": [
      "\r",
      "loading hamiltonians:  85%|████████▍ | 5575/6561 [00:20<00:02, 406.07it/s]"
     ]
    },
    {
     "name": "stderr",
     "output_type": "stream",
     "text": [
      "\r",
      "loading hamiltonians:  86%|████████▌ | 5616/6561 [00:20<00:02, 397.79it/s]"
     ]
    },
    {
     "name": "stderr",
     "output_type": "stream",
     "text": [
      "\r",
      "loading hamiltonians:  86%|████████▌ | 5657/6561 [00:20<00:02, 395.40it/s]"
     ]
    },
    {
     "name": "stderr",
     "output_type": "stream",
     "text": [
      "\r",
      "loading hamiltonians:  87%|████████▋ | 5704/6561 [00:20<00:02, 414.82it/s]"
     ]
    },
    {
     "name": "stderr",
     "output_type": "stream",
     "text": [
      "\r",
      "loading hamiltonians:  88%|████████▊ | 5746/6561 [00:20<00:02, 402.87it/s]"
     ]
    },
    {
     "name": "stderr",
     "output_type": "stream",
     "text": [
      "\r",
      "loading hamiltonians:  88%|████████▊ | 5787/6561 [00:22<00:14, 51.88it/s] "
     ]
    },
    {
     "name": "stderr",
     "output_type": "stream",
     "text": [
      "\r",
      "loading hamiltonians:  89%|████████▉ | 5835/6561 [00:23<00:10, 70.77it/s]"
     ]
    },
    {
     "name": "stderr",
     "output_type": "stream",
     "text": [
      "\r",
      "loading hamiltonians:  90%|████████▉ | 5874/6561 [00:23<00:07, 93.78it/s]"
     ]
    },
    {
     "name": "stderr",
     "output_type": "stream",
     "text": [
      "\r",
      "loading hamiltonians:  90%|█████████ | 5913/6561 [00:23<00:05, 121.27it/s]"
     ]
    },
    {
     "name": "stderr",
     "output_type": "stream",
     "text": [
      "\r",
      "loading hamiltonians:  91%|█████████ | 5960/6561 [00:23<00:03, 153.19it/s]"
     ]
    },
    {
     "name": "stderr",
     "output_type": "stream",
     "text": [
      "\r",
      "loading hamiltonians:  92%|█████████▏| 6007/6561 [00:23<00:02, 191.81it/s]"
     ]
    },
    {
     "name": "stderr",
     "output_type": "stream",
     "text": [
      "\r",
      "loading hamiltonians:  92%|█████████▏| 6048/6561 [00:23<00:02, 225.19it/s]"
     ]
    },
    {
     "name": "stderr",
     "output_type": "stream",
     "text": [
      "\r",
      "loading hamiltonians:  93%|█████████▎| 6088/6561 [00:23<00:01, 257.39it/s]"
     ]
    },
    {
     "name": "stderr",
     "output_type": "stream",
     "text": [
      "\r",
      "loading hamiltonians:  94%|█████████▎| 6135/6561 [00:23<00:01, 297.80it/s]"
     ]
    },
    {
     "name": "stderr",
     "output_type": "stream",
     "text": [
      "\r",
      "loading hamiltonians:  94%|█████████▍| 6177/6561 [00:23<00:01, 320.44it/s]"
     ]
    },
    {
     "name": "stderr",
     "output_type": "stream",
     "text": [
      "\r",
      "loading hamiltonians:  95%|█████████▍| 6218/6561 [00:24<00:01, 337.97it/s]"
     ]
    },
    {
     "name": "stderr",
     "output_type": "stream",
     "text": [
      "\r",
      "loading hamiltonians:  95%|█████████▌| 6260/6561 [00:24<00:00, 351.48it/s]"
     ]
    },
    {
     "name": "stderr",
     "output_type": "stream",
     "text": [
      "\r",
      "loading hamiltonians:  96%|█████████▌| 6308/6561 [00:24<00:00, 381.14it/s]"
     ]
    },
    {
     "name": "stderr",
     "output_type": "stream",
     "text": [
      "\r",
      "loading hamiltonians:  97%|█████████▋| 6351/6561 [00:24<00:00, 383.47it/s]"
     ]
    },
    {
     "name": "stderr",
     "output_type": "stream",
     "text": [
      "\r",
      "loading hamiltonians:  97%|█████████▋| 6393/6561 [00:24<00:00, 385.50it/s]"
     ]
    },
    {
     "name": "stderr",
     "output_type": "stream",
     "text": [
      "\r",
      "loading hamiltonians:  98%|█████████▊| 6438/6561 [00:24<00:00, 402.01it/s]"
     ]
    },
    {
     "name": "stderr",
     "output_type": "stream",
     "text": [
      "\r",
      "loading hamiltonians:  99%|█████████▉| 6480/6561 [00:24<00:00, 390.43it/s]"
     ]
    },
    {
     "name": "stderr",
     "output_type": "stream",
     "text": [
      "\r",
      "loading hamiltonians:  99%|█████████▉| 6521/6561 [00:24<00:00, 382.84it/s]"
     ]
    },
    {
     "name": "stderr",
     "output_type": "stream",
     "text": [
      "\r",
      "loading hamiltonians: 100%|██████████| 6561/6561 [00:24<00:00, 376.45it/s]"
     ]
    },
    {
     "name": "stderr",
     "output_type": "stream",
     "text": [
      "\r",
      "loading hamiltonians: 100%|██████████| 6561/6561 [00:24<00:00, 263.36it/s]"
     ]
    },
    {
     "name": "stderr",
     "output_type": "stream",
     "text": [
      "\n"
     ]
    },
    {
     "name": "stdout",
     "output_type": "stream",
     "text": [
      "shape of raw_data:  (918540, 144)\n",
      "len list_of_hamiltonians:  6561\n"
     ]
    },
    {
     "name": "stdout",
     "output_type": "stream",
     "text": [
      "CPU times: user 2min 38s, sys: 14.8 s, total: 2min 53s\n",
      "Wall time: 2min 54s\n"
     ]
    }
   ],
   "source": [
    "%%time\n",
    "list_of_hamiltonians, raw_data = load_hamiltonians(grid_folder)\n",
    "print(\"shape of raw_data: \", raw_data.shape)\n",
    "print(\"len list_of_hamiltonians: \", len(list_of_hamiltonians))\n",
    "\n",
    "dataframe = make_dataframe(raw_data, list_of_hamiltonians, allowed_windings = allowed_windings, epsilon = epsilon, \\\n",
    "                           csv_name = csv_name, to_csv = to_csv)"
   ]
  },
  {
   "cell_type": "code",
   "execution_count": 5,
   "metadata": {
    "papermill": {
     "duration": 0.125689,
     "end_time": "2020-03-05T03:44:58.023771",
     "exception": false,
     "start_time": "2020-03-05T03:44:57.898082",
     "status": "completed"
    },
    "tags": []
   },
   "outputs": [
    {
     "name": "stdout",
     "output_type": "stream",
     "text": [
      "<class 'pandas.core.frame.DataFrame'>\n",
      "RangeIndex: 918540 entries, 0 to 918539\n",
      "Columns: 148 entries, id to feat139\n",
      "dtypes: float64(3), int32(1), int64(2), object(142)\n",
      "memory usage: 1.0+ GB\n"
     ]
    },
    {
     "data": {
      "text/html": [
       "<div>\n",
       "<style scoped>\n",
       "    .dataframe tbody tr th:only-of-type {\n",
       "        vertical-align: middle;\n",
       "    }\n",
       "\n",
       "    .dataframe tbody tr th {\n",
       "        vertical-align: top;\n",
       "    }\n",
       "\n",
       "    .dataframe thead th {\n",
       "        text-align: right;\n",
       "    }\n",
       "</style>\n",
       "<table border=\"1\" class=\"dataframe\">\n",
       "  <thead>\n",
       "    <tr style=\"text-align: right;\">\n",
       "      <th></th>\n",
       "      <th>id</th>\n",
       "      <th>path</th>\n",
       "      <th>t1</th>\n",
       "      <th>t2</th>\n",
       "      <th>winding</th>\n",
       "      <th>phase</th>\n",
       "      <th>pred_phase</th>\n",
       "      <th>type_of</th>\n",
       "      <th>feat0</th>\n",
       "      <th>feat1</th>\n",
       "      <th>...</th>\n",
       "      <th>feat130</th>\n",
       "      <th>feat131</th>\n",
       "      <th>feat132</th>\n",
       "      <th>feat133</th>\n",
       "      <th>feat134</th>\n",
       "      <th>feat135</th>\n",
       "      <th>feat136</th>\n",
       "      <th>feat137</th>\n",
       "      <th>feat138</th>\n",
       "      <th>feat139</th>\n",
       "    </tr>\n",
       "  </thead>\n",
       "  <tbody>\n",
       "    <tr>\n",
       "      <th>0</th>\n",
       "      <td>0</td>\n",
       "      <td>H_-2_-2_0.501338.dat</td>\n",
       "      <td>-2.0</td>\n",
       "      <td>-2.0</td>\n",
       "      <td>0.501338</td>\n",
       "      <td>999</td>\n",
       "      <td>666</td>\n",
       "      <td>test</td>\n",
       "      <td>0.084515</td>\n",
       "      <td>0.084515</td>\n",
       "      <td>...</td>\n",
       "      <td>0.084515</td>\n",
       "      <td>0.084515</td>\n",
       "      <td>0.084515</td>\n",
       "      <td>0.084515</td>\n",
       "      <td>0.084515</td>\n",
       "      <td>0.084515</td>\n",
       "      <td>0.084515</td>\n",
       "      <td>0.084515</td>\n",
       "      <td>0.084515</td>\n",
       "      <td>0.084515</td>\n",
       "    </tr>\n",
       "    <tr>\n",
       "      <th>1</th>\n",
       "      <td>0</td>\n",
       "      <td>H_-2_-2_0.501338.dat</td>\n",
       "      <td>-2.0</td>\n",
       "      <td>-2.0</td>\n",
       "      <td>0.501338</td>\n",
       "      <td>999</td>\n",
       "      <td>666</td>\n",
       "      <td>test</td>\n",
       "      <td>0.119523</td>\n",
       "      <td>0.119403</td>\n",
       "      <td>...</td>\n",
       "      <td>0.107686</td>\n",
       "      <td>0.105251</td>\n",
       "      <td>0.111901</td>\n",
       "      <td>0.109905</td>\n",
       "      <td>0.115216</td>\n",
       "      <td>0.113673</td>\n",
       "      <td>0.117602</td>\n",
       "      <td>0.116526</td>\n",
       "      <td>0.119042</td>\n",
       "      <td>0.118441</td>\n",
       "    </tr>\n",
       "    <tr>\n",
       "      <th>2</th>\n",
       "      <td>0</td>\n",
       "      <td>H_-2_-2_0.501338.dat</td>\n",
       "      <td>-2.0</td>\n",
       "      <td>-2.0</td>\n",
       "      <td>0.501338</td>\n",
       "      <td>999</td>\n",
       "      <td>666</td>\n",
       "      <td>test</td>\n",
       "      <td>0.119523</td>\n",
       "      <td>0.119042</td>\n",
       "      <td>...</td>\n",
       "      <td>0.074521</td>\n",
       "      <td>0.065845</td>\n",
       "      <td>0.090009</td>\n",
       "      <td>0.082598</td>\n",
       "      <td>0.102604</td>\n",
       "      <td>0.096696</td>\n",
       "      <td>0.111901</td>\n",
       "      <td>0.107686</td>\n",
       "      <td>0.117602</td>\n",
       "      <td>0.115216</td>\n",
       "    </tr>\n",
       "    <tr>\n",
       "      <th>3</th>\n",
       "      <td>0</td>\n",
       "      <td>H_-2_-2_0.501338.dat</td>\n",
       "      <td>-2.0</td>\n",
       "      <td>-2.0</td>\n",
       "      <td>0.501338</td>\n",
       "      <td>999</td>\n",
       "      <td>666</td>\n",
       "      <td>test</td>\n",
       "      <td>-0.084515</td>\n",
       "      <td>0.084515</td>\n",
       "      <td>...</td>\n",
       "      <td>-0.084515</td>\n",
       "      <td>0.084515</td>\n",
       "      <td>-0.084515</td>\n",
       "      <td>0.084515</td>\n",
       "      <td>-0.084515</td>\n",
       "      <td>0.084515</td>\n",
       "      <td>-0.084515</td>\n",
       "      <td>0.084515</td>\n",
       "      <td>-0.084515</td>\n",
       "      <td>0.084515</td>\n",
       "    </tr>\n",
       "    <tr>\n",
       "      <th>4</th>\n",
       "      <td>0</td>\n",
       "      <td>H_-2_-2_0.501338.dat</td>\n",
       "      <td>-2.0</td>\n",
       "      <td>-2.0</td>\n",
       "      <td>0.501338</td>\n",
       "      <td>999</td>\n",
       "      <td>666</td>\n",
       "      <td>test</td>\n",
       "      <td>-0.002030</td>\n",
       "      <td>-0.007389</td>\n",
       "      <td>...</td>\n",
       "      <td>-0.053680</td>\n",
       "      <td>-0.058417</td>\n",
       "      <td>-0.043892</td>\n",
       "      <td>-0.048835</td>\n",
       "      <td>-0.033750</td>\n",
       "      <td>-0.038860</td>\n",
       "      <td>-0.023336</td>\n",
       "      <td>-0.028571</td>\n",
       "      <td>-0.012734</td>\n",
       "      <td>-0.018053</td>\n",
       "    </tr>\n",
       "  </tbody>\n",
       "</table>\n",
       "<p>5 rows × 148 columns</p>\n",
       "</div>"
      ],
      "text/plain": [
       "   id                  path   t1   t2   winding  phase  pred_phase type_of  \\\n",
       "0   0  H_-2_-2_0.501338.dat -2.0 -2.0  0.501338    999         666    test   \n",
       "1   0  H_-2_-2_0.501338.dat -2.0 -2.0  0.501338    999         666    test   \n",
       "2   0  H_-2_-2_0.501338.dat -2.0 -2.0  0.501338    999         666    test   \n",
       "3   0  H_-2_-2_0.501338.dat -2.0 -2.0  0.501338    999         666    test   \n",
       "4   0  H_-2_-2_0.501338.dat -2.0 -2.0  0.501338    999         666    test   \n",
       "\n",
       "       feat0      feat1  ...    feat130    feat131    feat132    feat133  \\\n",
       "0   0.084515   0.084515  ...   0.084515   0.084515   0.084515   0.084515   \n",
       "1   0.119523   0.119403  ...   0.107686   0.105251   0.111901   0.109905   \n",
       "2   0.119523   0.119042  ...   0.074521   0.065845   0.090009   0.082598   \n",
       "3  -0.084515   0.084515  ...  -0.084515   0.084515  -0.084515   0.084515   \n",
       "4  -0.002030  -0.007389  ...  -0.053680  -0.058417  -0.043892  -0.048835   \n",
       "\n",
       "     feat134    feat135    feat136    feat137    feat138    feat139  \n",
       "0   0.084515   0.084515   0.084515   0.084515   0.084515   0.084515  \n",
       "1   0.115216   0.113673   0.117602   0.116526   0.119042   0.118441  \n",
       "2   0.102604   0.096696   0.111901   0.107686   0.117602   0.115216  \n",
       "3  -0.084515   0.084515  -0.084515   0.084515  -0.084515   0.084515  \n",
       "4  -0.033750  -0.038860  -0.023336  -0.028571  -0.012734  -0.018053  \n",
       "\n",
       "[5 rows x 148 columns]"
      ]
     },
     "execution_count": 5,
     "metadata": {},
     "output_type": "execute_result"
    }
   ],
   "source": [
    "dataframe.info()\n",
    "dataframe.head()\n",
    "#dataframe.tail()"
   ]
  },
  {
   "cell_type": "markdown",
   "metadata": {
    "papermill": {
     "duration": 0.064416,
     "end_time": "2020-03-05T03:44:58.153218",
     "exception": false,
     "start_time": "2020-03-05T03:44:58.088802",
     "status": "completed"
    },
    "tags": []
   },
   "source": [
    "#### Train/test "
   ]
  },
  {
   "cell_type": "code",
   "execution_count": 6,
   "metadata": {
    "papermill": {
     "duration": 7.800279,
     "end_time": "2020-03-05T03:45:06.018807",
     "exception": false,
     "start_time": "2020-03-05T03:44:58.218528",
     "status": "completed"
    },
    "tags": []
   },
   "outputs": [
    {
     "name": "stdout",
     "output_type": "stream",
     "text": [
      "% train:  0.9358329522938577\n",
      "% test:  0.06416704770614236\n",
      "% train + test:  1.0\n"
     ]
    }
   ],
   "source": [
    "n_total = len(dataframe)\n",
    "n_train = len(dataframe[dataframe.type_of == \"train\"])\n",
    "n_test = len(dataframe[dataframe.type_of == \"test\"])\n",
    "print(\"% train: \", n_train/n_total)\n",
    "print(\"% test: \", n_test/n_total)\n",
    "print(\"% train + test: \", (n_train+n_test)/n_total)"
   ]
  },
  {
   "cell_type": "markdown",
   "metadata": {
    "papermill": {
     "duration": 0.065378,
     "end_time": "2020-03-05T03:45:06.155042",
     "exception": false,
     "start_time": "2020-03-05T03:45:06.089664",
     "status": "completed"
    },
    "tags": []
   },
   "source": [
    "#### Unique winding values"
   ]
  },
  {
   "cell_type": "code",
   "execution_count": 7,
   "metadata": {
    "papermill": {
     "duration": 0.104797,
     "end_time": "2020-03-05T03:45:06.324957",
     "exception": false,
     "start_time": "2020-03-05T03:45:06.220160",
     "status": "completed"
    },
    "tags": []
   },
   "outputs": [
    {
     "data": {
      "text/plain": [
       "array([  0,   1, 999], dtype=int32)"
      ]
     },
     "execution_count": 7,
     "metadata": {},
     "output_type": "execute_result"
    }
   ],
   "source": [
    "np.unique(dataframe.phase.values)"
   ]
  },
  {
   "cell_type": "markdown",
   "metadata": {
    "papermill": {
     "duration": 0.066247,
     "end_time": "2020-03-05T03:45:06.461780",
     "exception": false,
     "start_time": "2020-03-05T03:45:06.395533",
     "status": "completed"
    },
    "tags": []
   },
   "source": [
    "#### Checking t values are row-major sorted"
   ]
  },
  {
   "cell_type": "code",
   "execution_count": 8,
   "metadata": {
    "papermill": {
     "duration": 0.069431,
     "end_time": "2020-03-05T03:45:06.585498",
     "exception": false,
     "start_time": "2020-03-05T03:45:06.516067",
     "status": "completed"
    },
    "tags": []
   },
   "outputs": [],
   "source": [
    "#np.set_printoptions(threshold=np.inf)\n",
    "#t_array = dataframe[[\"t1\", \"t2\"]].values\n",
    "#print(\"t_array:\\n\", t_array)\n",
    "#np.set_printoptions()"
   ]
  },
  {
   "cell_type": "markdown",
   "metadata": {
    "papermill": {
     "duration": 0.04731,
     "end_time": "2020-03-05T03:45:06.684192",
     "exception": false,
     "start_time": "2020-03-05T03:45:06.636882",
     "status": "completed"
    },
    "tags": []
   },
   "source": [
    "#### Making a grid"
   ]
  },
  {
   "cell_type": "code",
   "execution_count": 9,
   "metadata": {
    "papermill": {
     "duration": 0.064199,
     "end_time": "2020-03-05T03:45:06.795538",
     "exception": false,
     "start_time": "2020-03-05T03:45:06.731339",
     "status": "completed"
    },
    "tags": []
   },
   "outputs": [],
   "source": [
    "#xx = dataframe.t2.values\n",
    "#yy = dataframe.t1.values\n",
    "#print(\"xx: \\n\", xx)\n",
    "#print(\"yy: \\n\", yy)"
   ]
  },
  {
   "cell_type": "code",
   "execution_count": 10,
   "metadata": {
    "papermill": {
     "duration": 4.906405,
     "end_time": "2020-03-05T03:45:11.753109",
     "exception": false,
     "start_time": "2020-03-05T03:45:06.846704",
     "status": "completed"
    },
    "tags": []
   },
   "outputs": [
    {
     "data": {
      "text/html": [
       "<div>\n",
       "<style scoped>\n",
       "    .dataframe tbody tr th:only-of-type {\n",
       "        vertical-align: middle;\n",
       "    }\n",
       "\n",
       "    .dataframe tbody tr th {\n",
       "        vertical-align: top;\n",
       "    }\n",
       "\n",
       "    .dataframe thead th {\n",
       "        text-align: right;\n",
       "    }\n",
       "</style>\n",
       "<table border=\"1\" class=\"dataframe\">\n",
       "  <thead>\n",
       "    <tr style=\"text-align: right;\">\n",
       "      <th></th>\n",
       "      <th>id</th>\n",
       "      <th>path</th>\n",
       "      <th>t1</th>\n",
       "      <th>t2</th>\n",
       "      <th>winding</th>\n",
       "      <th>phase</th>\n",
       "      <th>pred_phase</th>\n",
       "      <th>type_of</th>\n",
       "      <th>feat0</th>\n",
       "      <th>feat1</th>\n",
       "      <th>...</th>\n",
       "      <th>feat130</th>\n",
       "      <th>feat131</th>\n",
       "      <th>feat132</th>\n",
       "      <th>feat133</th>\n",
       "      <th>feat134</th>\n",
       "      <th>feat135</th>\n",
       "      <th>feat136</th>\n",
       "      <th>feat137</th>\n",
       "      <th>feat138</th>\n",
       "      <th>feat139</th>\n",
       "    </tr>\n",
       "  </thead>\n",
       "  <tbody>\n",
       "    <tr>\n",
       "      <th>560</th>\n",
       "      <td>4</td>\n",
       "      <td>H_-2_-1.8_-0.00976312.dat</td>\n",
       "      <td>-2.0</td>\n",
       "      <td>-1.80</td>\n",
       "      <td>-0.009763</td>\n",
       "      <td>0</td>\n",
       "      <td>666</td>\n",
       "      <td>train</td>\n",
       "      <td>0.084515</td>\n",
       "      <td>-0.084515</td>\n",
       "      <td>...</td>\n",
       "      <td>0.084515</td>\n",
       "      <td>-0.084515</td>\n",
       "      <td>0.084515</td>\n",
       "      <td>-0.084515</td>\n",
       "      <td>0.084515</td>\n",
       "      <td>-0.084515</td>\n",
       "      <td>0.084515</td>\n",
       "      <td>-0.084515</td>\n",
       "      <td>0.084515</td>\n",
       "      <td>-0.084515</td>\n",
       "    </tr>\n",
       "    <tr>\n",
       "      <th>561</th>\n",
       "      <td>4</td>\n",
       "      <td>H_-2_-1.8_-0.00976312.dat</td>\n",
       "      <td>-2.0</td>\n",
       "      <td>-1.80</td>\n",
       "      <td>-0.009763</td>\n",
       "      <td>0</td>\n",
       "      <td>666</td>\n",
       "      <td>train</td>\n",
       "      <td>0.119523</td>\n",
       "      <td>-0.119415</td>\n",
       "      <td>...</td>\n",
       "      <td>0.107686</td>\n",
       "      <td>-0.105385</td>\n",
       "      <td>0.111901</td>\n",
       "      <td>-0.110015</td>\n",
       "      <td>0.115216</td>\n",
       "      <td>-0.113760</td>\n",
       "      <td>0.117602</td>\n",
       "      <td>-0.116589</td>\n",
       "      <td>0.119042</td>\n",
       "      <td>-0.118479</td>\n",
       "    </tr>\n",
       "    <tr>\n",
       "      <th>562</th>\n",
       "      <td>4</td>\n",
       "      <td>H_-2_-1.8_-0.00976312.dat</td>\n",
       "      <td>-2.0</td>\n",
       "      <td>-1.80</td>\n",
       "      <td>-0.009763</td>\n",
       "      <td>0</td>\n",
       "      <td>666</td>\n",
       "      <td>train</td>\n",
       "      <td>0.119523</td>\n",
       "      <td>-0.119091</td>\n",
       "      <td>...</td>\n",
       "      <td>0.074521</td>\n",
       "      <td>-0.066317</td>\n",
       "      <td>0.090009</td>\n",
       "      <td>-0.083006</td>\n",
       "      <td>0.102604</td>\n",
       "      <td>-0.097028</td>\n",
       "      <td>0.111901</td>\n",
       "      <td>-0.107931</td>\n",
       "      <td>0.117602</td>\n",
       "      <td>-0.115365</td>\n",
       "    </tr>\n",
       "    <tr>\n",
       "      <th>563</th>\n",
       "      <td>4</td>\n",
       "      <td>H_-2_-1.8_-0.00976312.dat</td>\n",
       "      <td>-2.0</td>\n",
       "      <td>-1.80</td>\n",
       "      <td>-0.009763</td>\n",
       "      <td>0</td>\n",
       "      <td>666</td>\n",
       "      <td>train</td>\n",
       "      <td>-0.119523</td>\n",
       "      <td>0.118553</td>\n",
       "      <td>...</td>\n",
       "      <td>-0.026596</td>\n",
       "      <td>0.011562</td>\n",
       "      <td>-0.056638</td>\n",
       "      <td>0.042794</td>\n",
       "      <td>-0.082598</td>\n",
       "      <td>0.070941</td>\n",
       "      <td>-0.102604</td>\n",
       "      <td>0.093976</td>\n",
       "      <td>-0.115216</td>\n",
       "      <td>0.110237</td>\n",
       "    </tr>\n",
       "    <tr>\n",
       "      <th>564</th>\n",
       "      <td>4</td>\n",
       "      <td>H_-2_-1.8_-0.00976312.dat</td>\n",
       "      <td>-2.0</td>\n",
       "      <td>-1.80</td>\n",
       "      <td>-0.009763</td>\n",
       "      <td>0</td>\n",
       "      <td>666</td>\n",
       "      <td>train</td>\n",
       "      <td>0.084515</td>\n",
       "      <td>0.084515</td>\n",
       "      <td>...</td>\n",
       "      <td>0.084515</td>\n",
       "      <td>0.084515</td>\n",
       "      <td>0.084515</td>\n",
       "      <td>0.084515</td>\n",
       "      <td>0.084515</td>\n",
       "      <td>0.084515</td>\n",
       "      <td>0.084515</td>\n",
       "      <td>0.084515</td>\n",
       "      <td>0.084515</td>\n",
       "      <td>0.084515</td>\n",
       "    </tr>\n",
       "    <tr>\n",
       "      <th>...</th>\n",
       "      <td>...</td>\n",
       "      <td>...</td>\n",
       "      <td>...</td>\n",
       "      <td>...</td>\n",
       "      <td>...</td>\n",
       "      <td>...</td>\n",
       "      <td>...</td>\n",
       "      <td>...</td>\n",
       "      <td>...</td>\n",
       "      <td>...</td>\n",
       "      <td>...</td>\n",
       "      <td>...</td>\n",
       "      <td>...</td>\n",
       "      <td>...</td>\n",
       "      <td>...</td>\n",
       "      <td>...</td>\n",
       "      <td>...</td>\n",
       "      <td>...</td>\n",
       "      <td>...</td>\n",
       "      <td>...</td>\n",
       "      <td>...</td>\n",
       "    </tr>\n",
       "    <tr>\n",
       "      <th>1555</th>\n",
       "      <td>11</td>\n",
       "      <td>H_-2_-1.45_-0.00285944.dat</td>\n",
       "      <td>-2.0</td>\n",
       "      <td>-1.45</td>\n",
       "      <td>-0.002859</td>\n",
       "      <td>0</td>\n",
       "      <td>666</td>\n",
       "      <td>train</td>\n",
       "      <td>-0.000131</td>\n",
       "      <td>-0.031131</td>\n",
       "      <td>...</td>\n",
       "      <td>0.000131</td>\n",
       "      <td>0.031131</td>\n",
       "      <td>-0.070148</td>\n",
       "      <td>-0.042643</td>\n",
       "      <td>-0.113632</td>\n",
       "      <td>-0.100129</td>\n",
       "      <td>-0.113713</td>\n",
       "      <td>-0.119370</td>\n",
       "      <td>-0.070360</td>\n",
       "      <td>-0.093015</td>\n",
       "    </tr>\n",
       "    <tr>\n",
       "      <th>1556</th>\n",
       "      <td>11</td>\n",
       "      <td>H_-2_-1.45_-0.00285944.dat</td>\n",
       "      <td>-2.0</td>\n",
       "      <td>-1.45</td>\n",
       "      <td>-0.002859</td>\n",
       "      <td>0</td>\n",
       "      <td>666</td>\n",
       "      <td>train</td>\n",
       "      <td>0.119523</td>\n",
       "      <td>0.111340</td>\n",
       "      <td>...</td>\n",
       "      <td>-0.026596</td>\n",
       "      <td>0.017599</td>\n",
       "      <td>-0.107686</td>\n",
       "      <td>-0.081456</td>\n",
       "      <td>-0.107686</td>\n",
       "      <td>-0.119172</td>\n",
       "      <td>-0.026596</td>\n",
       "      <td>-0.067150</td>\n",
       "      <td>0.074521</td>\n",
       "      <td>0.035438</td>\n",
       "    </tr>\n",
       "    <tr>\n",
       "      <th>1557</th>\n",
       "      <td>11</td>\n",
       "      <td>H_-2_-1.45_-0.00285944.dat</td>\n",
       "      <td>-2.0</td>\n",
       "      <td>-1.45</td>\n",
       "      <td>-0.002859</td>\n",
       "      <td>0</td>\n",
       "      <td>666</td>\n",
       "      <td>train</td>\n",
       "      <td>0.119523</td>\n",
       "      <td>0.114203</td>\n",
       "      <td>...</td>\n",
       "      <td>-0.107677</td>\n",
       "      <td>-0.087595</td>\n",
       "      <td>-0.115221</td>\n",
       "      <td>-0.119468</td>\n",
       "      <td>-0.065863</td>\n",
       "      <td>-0.092342</td>\n",
       "      <td>0.016022</td>\n",
       "      <td>-0.019611</td>\n",
       "      <td>0.089995</td>\n",
       "      <td>0.062804</td>\n",
       "    </tr>\n",
       "    <tr>\n",
       "      <th>1558</th>\n",
       "      <td>11</td>\n",
       "      <td>H_-2_-1.45_-0.00285944.dat</td>\n",
       "      <td>-2.0</td>\n",
       "      <td>-1.45</td>\n",
       "      <td>-0.002859</td>\n",
       "      <td>0</td>\n",
       "      <td>666</td>\n",
       "      <td>train</td>\n",
       "      <td>-0.000858</td>\n",
       "      <td>0.034419</td>\n",
       "      <td>...</td>\n",
       "      <td>-0.051085</td>\n",
       "      <td>-0.080672</td>\n",
       "      <td>0.032623</td>\n",
       "      <td>-0.002728</td>\n",
       "      <td>0.100220</td>\n",
       "      <td>0.076564</td>\n",
       "      <td>0.118323</td>\n",
       "      <td>0.118044</td>\n",
       "      <td>0.077991</td>\n",
       "      <td>0.101227</td>\n",
       "    </tr>\n",
       "    <tr>\n",
       "      <th>1559</th>\n",
       "      <td>11</td>\n",
       "      <td>H_-2_-1.45_-0.00285944.dat</td>\n",
       "      <td>-2.0</td>\n",
       "      <td>-1.45</td>\n",
       "      <td>-0.002859</td>\n",
       "      <td>0</td>\n",
       "      <td>666</td>\n",
       "      <td>train</td>\n",
       "      <td>-0.119523</td>\n",
       "      <td>-0.109747</td>\n",
       "      <td>...</td>\n",
       "      <td>-0.026499</td>\n",
       "      <td>-0.070577</td>\n",
       "      <td>0.082670</td>\n",
       "      <td>0.041623</td>\n",
       "      <td>0.117584</td>\n",
       "      <td>0.116437</td>\n",
       "      <td>0.046884</td>\n",
       "      <td>0.086666</td>\n",
       "      <td>-0.065928</td>\n",
       "      <td>-0.020948</td>\n",
       "    </tr>\n",
       "  </tbody>\n",
       "</table>\n",
       "<p>1000 rows × 148 columns</p>\n",
       "</div>"
      ],
      "text/plain": [
       "      id                        path   t1    t2   winding  phase  pred_phase  \\\n",
       "560    4   H_-2_-1.8_-0.00976312.dat -2.0 -1.80 -0.009763      0         666   \n",
       "561    4   H_-2_-1.8_-0.00976312.dat -2.0 -1.80 -0.009763      0         666   \n",
       "562    4   H_-2_-1.8_-0.00976312.dat -2.0 -1.80 -0.009763      0         666   \n",
       "563    4   H_-2_-1.8_-0.00976312.dat -2.0 -1.80 -0.009763      0         666   \n",
       "564    4   H_-2_-1.8_-0.00976312.dat -2.0 -1.80 -0.009763      0         666   \n",
       "...   ..                         ...  ...   ...       ...    ...         ...   \n",
       "1555  11  H_-2_-1.45_-0.00285944.dat -2.0 -1.45 -0.002859      0         666   \n",
       "1556  11  H_-2_-1.45_-0.00285944.dat -2.0 -1.45 -0.002859      0         666   \n",
       "1557  11  H_-2_-1.45_-0.00285944.dat -2.0 -1.45 -0.002859      0         666   \n",
       "1558  11  H_-2_-1.45_-0.00285944.dat -2.0 -1.45 -0.002859      0         666   \n",
       "1559  11  H_-2_-1.45_-0.00285944.dat -2.0 -1.45 -0.002859      0         666   \n",
       "\n",
       "     type_of      feat0      feat1  ...    feat130    feat131    feat132  \\\n",
       "560    train   0.084515  -0.084515  ...   0.084515  -0.084515   0.084515   \n",
       "561    train   0.119523  -0.119415  ...   0.107686  -0.105385   0.111901   \n",
       "562    train   0.119523  -0.119091  ...   0.074521  -0.066317   0.090009   \n",
       "563    train  -0.119523   0.118553  ...  -0.026596   0.011562  -0.056638   \n",
       "564    train   0.084515   0.084515  ...   0.084515   0.084515   0.084515   \n",
       "...      ...        ...        ...  ...        ...        ...        ...   \n",
       "1555   train  -0.000131  -0.031131  ...   0.000131   0.031131  -0.070148   \n",
       "1556   train   0.119523   0.111340  ...  -0.026596   0.017599  -0.107686   \n",
       "1557   train   0.119523   0.114203  ...  -0.107677  -0.087595  -0.115221   \n",
       "1558   train  -0.000858   0.034419  ...  -0.051085  -0.080672   0.032623   \n",
       "1559   train  -0.119523  -0.109747  ...  -0.026499  -0.070577   0.082670   \n",
       "\n",
       "        feat133    feat134    feat135    feat136    feat137    feat138  \\\n",
       "560   -0.084515   0.084515  -0.084515   0.084515  -0.084515   0.084515   \n",
       "561   -0.110015   0.115216  -0.113760   0.117602  -0.116589   0.119042   \n",
       "562   -0.083006   0.102604  -0.097028   0.111901  -0.107931   0.117602   \n",
       "563    0.042794  -0.082598   0.070941  -0.102604   0.093976  -0.115216   \n",
       "564    0.084515   0.084515   0.084515   0.084515   0.084515   0.084515   \n",
       "...         ...        ...        ...        ...        ...        ...   \n",
       "1555  -0.042643  -0.113632  -0.100129  -0.113713  -0.119370  -0.070360   \n",
       "1556  -0.081456  -0.107686  -0.119172  -0.026596  -0.067150   0.074521   \n",
       "1557  -0.119468  -0.065863  -0.092342   0.016022  -0.019611   0.089995   \n",
       "1558  -0.002728   0.100220   0.076564   0.118323   0.118044   0.077991   \n",
       "1559   0.041623   0.117584   0.116437   0.046884   0.086666  -0.065928   \n",
       "\n",
       "        feat139  \n",
       "560   -0.084515  \n",
       "561   -0.118479  \n",
       "562   -0.115365  \n",
       "563    0.110237  \n",
       "564    0.084515  \n",
       "...         ...  \n",
       "1555  -0.093015  \n",
       "1556   0.035438  \n",
       "1557   0.062804  \n",
       "1558   0.101227  \n",
       "1559  -0.020948  \n",
       "\n",
       "[1000 rows x 148 columns]"
      ]
     },
     "execution_count": 10,
     "metadata": {},
     "output_type": "execute_result"
    }
   ],
   "source": [
    "# A view of train data\n",
    "dataframe[dataframe.type_of == \"train\"].head(1000)"
   ]
  },
  {
   "cell_type": "code",
   "execution_count": 11,
   "metadata": {
    "papermill": {
     "duration": 0.089293,
     "end_time": "2020-03-05T03:45:11.913319",
     "exception": false,
     "start_time": "2020-03-05T03:45:11.824026",
     "status": "completed"
    },
    "tags": []
   },
   "outputs": [],
   "source": [
    "# A view of test data\n",
    "#dataframe[dataframe.type_of == \"test\"].head(1000)"
   ]
  },
  {
   "cell_type": "markdown",
   "metadata": {
    "papermill": {
     "duration": 0.065507,
     "end_time": "2020-03-05T03:45:12.046770",
     "exception": false,
     "start_time": "2020-03-05T03:45:11.981263",
     "status": "completed"
    },
    "tags": []
   },
   "source": [
    "#### clearing variables"
   ]
  },
  {
   "cell_type": "code",
   "execution_count": 12,
   "metadata": {
    "papermill": {
     "duration": 0.083978,
     "end_time": "2020-03-05T03:45:12.197656",
     "exception": false,
     "start_time": "2020-03-05T03:45:12.113678",
     "status": "completed"
    },
    "tags": []
   },
   "outputs": [],
   "source": [
    "#del list_of_hamiltonians\n",
    "#del raw_data\n",
    "#del dataframe"
   ]
  },
  {
   "cell_type": "code",
   "execution_count": null,
   "metadata": {
    "papermill": {
     "duration": 0.048402,
     "end_time": "2020-03-05T03:45:12.299070",
     "exception": false,
     "start_time": "2020-03-05T03:45:12.250668",
     "status": "completed"
    },
    "tags": []
   },
   "outputs": [],
   "source": []
  }
 ],
 "metadata": {
  "celltoolbar": "Tags",
  "kernelspec": {
   "display_name": "ml_top_phases",
   "language": "python",
   "name": "ml_top_phases"
  },
  "language_info": {
   "codemirror_mode": {
    "name": "ipython",
    "version": 3
   },
   "file_extension": ".py",
   "mimetype": "text/x-python",
   "name": "python",
   "nbconvert_exporter": "python",
   "pygments_lexer": "ipython3",
   "version": "3.6.10"
  },
  "papermill": {
   "duration": 190.321141,
   "end_time": "2020-03-05T03:45:12.355392",
   "environment_variables": {},
   "exception": null,
   "input_path": "preprocessing_template.ipynb",
   "output_path": "preprocessing_output_ssh1_periodic_140_6561.ipynb",
   "parameters": {
    "allowed_windings": [
     0,
     1
    ],
    "csv_name": "/home/linneu/ssh_csvs/ssh1/periodic_140_6561.csv",
    "epsilon": 0.01,
    "grid_folder": "/home/linneu/ssh_grids/ssh1/periodic_140_6561",
    "to_csv": true
   },
   "start_time": "2020-03-05T03:42:02.034251",
   "version": "2.0.0"
  }
 },
 "nbformat": 4,
 "nbformat_minor": 2
}