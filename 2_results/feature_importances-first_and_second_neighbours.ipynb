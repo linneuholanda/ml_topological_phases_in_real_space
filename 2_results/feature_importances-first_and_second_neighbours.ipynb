{
 "cells": [
  {
   "cell_type": "markdown",
   "metadata": {},
   "source": [
    "# Analyzing Feature importances"
   ]
  },
  {
   "cell_type": "code",
   "execution_count": 1,
   "metadata": {},
   "outputs": [],
   "source": [
    "#from IPython.core.display import HTML\n",
    "#HTML(\"<script>Jupyter.notebook.kernel.restart()</script>\")\n",
    "%load_ext autoreload\n",
    "%autoreload 2\n",
    "from prediction_grids import *"
   ]
  },
  {
   "cell_type": "code",
   "execution_count": 46,
   "metadata": {},
   "outputs": [],
   "source": [
    "from prediction_grids import *"
   ]
  },
  {
   "cell_type": "markdown",
   "metadata": {},
   "source": [
    "#### Loading simulation data"
   ]
  },
  {
   "cell_type": "code",
   "execution_count": 3,
   "metadata": {},
   "outputs": [],
   "source": [
    "simulation_name = \"first_and_second_neighbours\"\n",
    "n_experiments = None\n",
    "load_hamiltonian_summary = False\n",
    "simulation = Simulation(simulation_name, n_experiments, load_hamiltonian_summary)"
   ]
  },
  {
   "cell_type": "markdown",
   "metadata": {},
   "source": [
    "#### Computing Hamiltonian summary"
   ]
  },
  {
   "cell_type": "code",
   "execution_count": 4,
   "metadata": {},
   "outputs": [
    {
     "name": "stderr",
     "output_type": "stream",
     "text": [
      "mean hamiltonian summary: 100%|██████████| 100/100 [00:00<00:00, 122.66it/s]\n",
      "majority vote: 100%|██████████| 6561/6561 [00:00<00:00, 137971.49it/s]\n"
     ]
    },
    {
     "data": {
      "text/html": [
       "<div>\n",
       "<style scoped>\n",
       "    .dataframe tbody tr th:only-of-type {\n",
       "        vertical-align: middle;\n",
       "    }\n",
       "\n",
       "    .dataframe tbody tr th {\n",
       "        vertical-align: top;\n",
       "    }\n",
       "\n",
       "    .dataframe thead th {\n",
       "        text-align: right;\n",
       "    }\n",
       "</style>\n",
       "<table border=\"1\" class=\"dataframe\">\n",
       "  <thead>\n",
       "    <tr style=\"text-align: right;\">\n",
       "      <th></th>\n",
       "      <th>t1</th>\n",
       "      <th>t2</th>\n",
       "      <th>type_of</th>\n",
       "      <th>-1</th>\n",
       "      <th>0</th>\n",
       "      <th>1</th>\n",
       "      <th>2</th>\n",
       "      <th>phase</th>\n",
       "      <th>pred_phase</th>\n",
       "    </tr>\n",
       "    <tr>\n",
       "      <th>id</th>\n",
       "      <th></th>\n",
       "      <th></th>\n",
       "      <th></th>\n",
       "      <th></th>\n",
       "      <th></th>\n",
       "      <th></th>\n",
       "      <th></th>\n",
       "      <th></th>\n",
       "      <th></th>\n",
       "    </tr>\n",
       "  </thead>\n",
       "  <tbody>\n",
       "    <tr>\n",
       "      <th>0</th>\n",
       "      <td>-2.0</td>\n",
       "      <td>-2.00</td>\n",
       "      <td>test</td>\n",
       "      <td>0.2160</td>\n",
       "      <td>0.4738</td>\n",
       "      <td>0.2726</td>\n",
       "      <td>0.0376</td>\n",
       "      <td>999</td>\n",
       "      <td>0</td>\n",
       "    </tr>\n",
       "    <tr>\n",
       "      <th>1</th>\n",
       "      <td>-2.0</td>\n",
       "      <td>-1.95</td>\n",
       "      <td>test</td>\n",
       "      <td>0.2227</td>\n",
       "      <td>0.4884</td>\n",
       "      <td>0.2552</td>\n",
       "      <td>0.0337</td>\n",
       "      <td>-1</td>\n",
       "      <td>0</td>\n",
       "    </tr>\n",
       "    <tr>\n",
       "      <th>2</th>\n",
       "      <td>-2.0</td>\n",
       "      <td>-1.90</td>\n",
       "      <td>test</td>\n",
       "      <td>0.2237</td>\n",
       "      <td>0.4660</td>\n",
       "      <td>0.2765</td>\n",
       "      <td>0.0338</td>\n",
       "      <td>-1</td>\n",
       "      <td>0</td>\n",
       "    </tr>\n",
       "    <tr>\n",
       "      <th>3</th>\n",
       "      <td>-2.0</td>\n",
       "      <td>-1.85</td>\n",
       "      <td>test</td>\n",
       "      <td>0.2486</td>\n",
       "      <td>0.4101</td>\n",
       "      <td>0.3086</td>\n",
       "      <td>0.0327</td>\n",
       "      <td>-1</td>\n",
       "      <td>0</td>\n",
       "    </tr>\n",
       "    <tr>\n",
       "      <th>4</th>\n",
       "      <td>-2.0</td>\n",
       "      <td>-1.80</td>\n",
       "      <td>test</td>\n",
       "      <td>0.2455</td>\n",
       "      <td>0.4128</td>\n",
       "      <td>0.3169</td>\n",
       "      <td>0.0248</td>\n",
       "      <td>-1</td>\n",
       "      <td>0</td>\n",
       "    </tr>\n",
       "    <tr>\n",
       "      <th>5</th>\n",
       "      <td>-2.0</td>\n",
       "      <td>-1.75</td>\n",
       "      <td>test</td>\n",
       "      <td>0.2540</td>\n",
       "      <td>0.4260</td>\n",
       "      <td>0.3000</td>\n",
       "      <td>0.0200</td>\n",
       "      <td>-1</td>\n",
       "      <td>0</td>\n",
       "    </tr>\n",
       "    <tr>\n",
       "      <th>6</th>\n",
       "      <td>-2.0</td>\n",
       "      <td>-1.70</td>\n",
       "      <td>test</td>\n",
       "      <td>0.2746</td>\n",
       "      <td>0.4264</td>\n",
       "      <td>0.2784</td>\n",
       "      <td>0.0206</td>\n",
       "      <td>-1</td>\n",
       "      <td>0</td>\n",
       "    </tr>\n",
       "    <tr>\n",
       "      <th>7</th>\n",
       "      <td>-2.0</td>\n",
       "      <td>-1.65</td>\n",
       "      <td>test</td>\n",
       "      <td>0.3028</td>\n",
       "      <td>0.3862</td>\n",
       "      <td>0.2903</td>\n",
       "      <td>0.0207</td>\n",
       "      <td>-1</td>\n",
       "      <td>0</td>\n",
       "    </tr>\n",
       "    <tr>\n",
       "      <th>8</th>\n",
       "      <td>-2.0</td>\n",
       "      <td>-1.60</td>\n",
       "      <td>test</td>\n",
       "      <td>0.3456</td>\n",
       "      <td>0.3502</td>\n",
       "      <td>0.2782</td>\n",
       "      <td>0.0260</td>\n",
       "      <td>-1</td>\n",
       "      <td>0</td>\n",
       "    </tr>\n",
       "    <tr>\n",
       "      <th>9</th>\n",
       "      <td>-2.0</td>\n",
       "      <td>-1.55</td>\n",
       "      <td>test</td>\n",
       "      <td>0.3962</td>\n",
       "      <td>0.2736</td>\n",
       "      <td>0.3055</td>\n",
       "      <td>0.0247</td>\n",
       "      <td>-1</td>\n",
       "      <td>-1</td>\n",
       "    </tr>\n",
       "    <tr>\n",
       "      <th>10</th>\n",
       "      <td>-2.0</td>\n",
       "      <td>-1.50</td>\n",
       "      <td>test</td>\n",
       "      <td>0.4621</td>\n",
       "      <td>0.2417</td>\n",
       "      <td>0.2725</td>\n",
       "      <td>0.0237</td>\n",
       "      <td>-1</td>\n",
       "      <td>-1</td>\n",
       "    </tr>\n",
       "    <tr>\n",
       "      <th>11</th>\n",
       "      <td>-2.0</td>\n",
       "      <td>-1.45</td>\n",
       "      <td>test</td>\n",
       "      <td>0.5346</td>\n",
       "      <td>0.2150</td>\n",
       "      <td>0.2175</td>\n",
       "      <td>0.0329</td>\n",
       "      <td>-1</td>\n",
       "      <td>-1</td>\n",
       "    </tr>\n",
       "    <tr>\n",
       "      <th>12</th>\n",
       "      <td>-2.0</td>\n",
       "      <td>-1.40</td>\n",
       "      <td>test</td>\n",
       "      <td>0.6180</td>\n",
       "      <td>0.1510</td>\n",
       "      <td>0.2032</td>\n",
       "      <td>0.0278</td>\n",
       "      <td>-1</td>\n",
       "      <td>-1</td>\n",
       "    </tr>\n",
       "    <tr>\n",
       "      <th>13</th>\n",
       "      <td>-2.0</td>\n",
       "      <td>-1.35</td>\n",
       "      <td>train</td>\n",
       "      <td>0.8357</td>\n",
       "      <td>0.0603</td>\n",
       "      <td>0.0920</td>\n",
       "      <td>0.0120</td>\n",
       "      <td>-1</td>\n",
       "      <td>-1</td>\n",
       "    </tr>\n",
       "    <tr>\n",
       "      <th>14</th>\n",
       "      <td>-2.0</td>\n",
       "      <td>-1.30</td>\n",
       "      <td>val</td>\n",
       "      <td>0.8811</td>\n",
       "      <td>0.0530</td>\n",
       "      <td>0.0599</td>\n",
       "      <td>0.0060</td>\n",
       "      <td>-1</td>\n",
       "      <td>-1</td>\n",
       "    </tr>\n",
       "    <tr>\n",
       "      <th>15</th>\n",
       "      <td>-2.0</td>\n",
       "      <td>-1.25</td>\n",
       "      <td>train</td>\n",
       "      <td>0.9466</td>\n",
       "      <td>0.0226</td>\n",
       "      <td>0.0279</td>\n",
       "      <td>0.0029</td>\n",
       "      <td>-1</td>\n",
       "      <td>-1</td>\n",
       "    </tr>\n",
       "    <tr>\n",
       "      <th>16</th>\n",
       "      <td>-2.0</td>\n",
       "      <td>-1.20</td>\n",
       "      <td>val</td>\n",
       "      <td>0.9475</td>\n",
       "      <td>0.0098</td>\n",
       "      <td>0.0244</td>\n",
       "      <td>0.0183</td>\n",
       "      <td>-1</td>\n",
       "      <td>-1</td>\n",
       "    </tr>\n",
       "    <tr>\n",
       "      <th>17</th>\n",
       "      <td>-2.0</td>\n",
       "      <td>-1.15</td>\n",
       "      <td>train</td>\n",
       "      <td>0.9491</td>\n",
       "      <td>0.0080</td>\n",
       "      <td>0.0309</td>\n",
       "      <td>0.0120</td>\n",
       "      <td>-1</td>\n",
       "      <td>-1</td>\n",
       "    </tr>\n",
       "    <tr>\n",
       "      <th>18</th>\n",
       "      <td>-2.0</td>\n",
       "      <td>-1.10</td>\n",
       "      <td>val</td>\n",
       "      <td>0.9581</td>\n",
       "      <td>0.0041</td>\n",
       "      <td>0.0292</td>\n",
       "      <td>0.0086</td>\n",
       "      <td>-1</td>\n",
       "      <td>-1</td>\n",
       "    </tr>\n",
       "    <tr>\n",
       "      <th>19</th>\n",
       "      <td>-2.0</td>\n",
       "      <td>-1.05</td>\n",
       "      <td>train</td>\n",
       "      <td>0.9745</td>\n",
       "      <td>0.0088</td>\n",
       "      <td>0.0160</td>\n",
       "      <td>0.0007</td>\n",
       "      <td>-1</td>\n",
       "      <td>-1</td>\n",
       "    </tr>\n",
       "    <tr>\n",
       "      <th>20</th>\n",
       "      <td>-2.0</td>\n",
       "      <td>-1.00</td>\n",
       "      <td>val</td>\n",
       "      <td>0.9840</td>\n",
       "      <td>0.0042</td>\n",
       "      <td>0.0118</td>\n",
       "      <td>0.0000</td>\n",
       "      <td>-1</td>\n",
       "      <td>-1</td>\n",
       "    </tr>\n",
       "    <tr>\n",
       "      <th>21</th>\n",
       "      <td>-2.0</td>\n",
       "      <td>-0.95</td>\n",
       "      <td>train</td>\n",
       "      <td>0.9911</td>\n",
       "      <td>0.0024</td>\n",
       "      <td>0.0065</td>\n",
       "      <td>0.0000</td>\n",
       "      <td>-1</td>\n",
       "      <td>-1</td>\n",
       "    </tr>\n",
       "    <tr>\n",
       "      <th>22</th>\n",
       "      <td>-2.0</td>\n",
       "      <td>-0.90</td>\n",
       "      <td>train</td>\n",
       "      <td>0.9901</td>\n",
       "      <td>0.0068</td>\n",
       "      <td>0.0031</td>\n",
       "      <td>0.0000</td>\n",
       "      <td>-1</td>\n",
       "      <td>-1</td>\n",
       "    </tr>\n",
       "    <tr>\n",
       "      <th>23</th>\n",
       "      <td>-2.0</td>\n",
       "      <td>-0.85</td>\n",
       "      <td>val</td>\n",
       "      <td>0.9954</td>\n",
       "      <td>0.0011</td>\n",
       "      <td>0.0035</td>\n",
       "      <td>0.0000</td>\n",
       "      <td>-1</td>\n",
       "      <td>-1</td>\n",
       "    </tr>\n",
       "    <tr>\n",
       "      <th>24</th>\n",
       "      <td>-2.0</td>\n",
       "      <td>-0.80</td>\n",
       "      <td>train</td>\n",
       "      <td>0.9928</td>\n",
       "      <td>0.0036</td>\n",
       "      <td>0.0036</td>\n",
       "      <td>0.0000</td>\n",
       "      <td>-1</td>\n",
       "      <td>-1</td>\n",
       "    </tr>\n",
       "    <tr>\n",
       "      <th>25</th>\n",
       "      <td>-2.0</td>\n",
       "      <td>-0.75</td>\n",
       "      <td>train</td>\n",
       "      <td>0.9776</td>\n",
       "      <td>0.0098</td>\n",
       "      <td>0.0125</td>\n",
       "      <td>0.0001</td>\n",
       "      <td>-1</td>\n",
       "      <td>-1</td>\n",
       "    </tr>\n",
       "    <tr>\n",
       "      <th>26</th>\n",
       "      <td>-2.0</td>\n",
       "      <td>-0.70</td>\n",
       "      <td>train</td>\n",
       "      <td>0.9883</td>\n",
       "      <td>0.0054</td>\n",
       "      <td>0.0063</td>\n",
       "      <td>0.0000</td>\n",
       "      <td>-1</td>\n",
       "      <td>-1</td>\n",
       "    </tr>\n",
       "    <tr>\n",
       "      <th>27</th>\n",
       "      <td>-2.0</td>\n",
       "      <td>-0.65</td>\n",
       "      <td>val</td>\n",
       "      <td>0.9951</td>\n",
       "      <td>0.0038</td>\n",
       "      <td>0.0009</td>\n",
       "      <td>0.0002</td>\n",
       "      <td>-1</td>\n",
       "      <td>-1</td>\n",
       "    </tr>\n",
       "    <tr>\n",
       "      <th>28</th>\n",
       "      <td>-2.0</td>\n",
       "      <td>-0.60</td>\n",
       "      <td>val</td>\n",
       "      <td>0.9943</td>\n",
       "      <td>0.0057</td>\n",
       "      <td>0.0000</td>\n",
       "      <td>0.0000</td>\n",
       "      <td>-1</td>\n",
       "      <td>-1</td>\n",
       "    </tr>\n",
       "    <tr>\n",
       "      <th>29</th>\n",
       "      <td>-2.0</td>\n",
       "      <td>-0.55</td>\n",
       "      <td>train</td>\n",
       "      <td>0.9963</td>\n",
       "      <td>0.0026</td>\n",
       "      <td>0.0008</td>\n",
       "      <td>0.0003</td>\n",
       "      <td>-1</td>\n",
       "      <td>-1</td>\n",
       "    </tr>\n",
       "    <tr>\n",
       "      <th>...</th>\n",
       "      <td>...</td>\n",
       "      <td>...</td>\n",
       "      <td>...</td>\n",
       "      <td>...</td>\n",
       "      <td>...</td>\n",
       "      <td>...</td>\n",
       "      <td>...</td>\n",
       "      <td>...</td>\n",
       "      <td>...</td>\n",
       "    </tr>\n",
       "    <tr>\n",
       "      <th>6531</th>\n",
       "      <td>2.0</td>\n",
       "      <td>0.55</td>\n",
       "      <td>val</td>\n",
       "      <td>0.9915</td>\n",
       "      <td>0.0074</td>\n",
       "      <td>0.0009</td>\n",
       "      <td>0.0002</td>\n",
       "      <td>-1</td>\n",
       "      <td>-1</td>\n",
       "    </tr>\n",
       "    <tr>\n",
       "      <th>6532</th>\n",
       "      <td>2.0</td>\n",
       "      <td>0.60</td>\n",
       "      <td>val</td>\n",
       "      <td>0.9926</td>\n",
       "      <td>0.0068</td>\n",
       "      <td>0.0003</td>\n",
       "      <td>0.0003</td>\n",
       "      <td>-1</td>\n",
       "      <td>-1</td>\n",
       "    </tr>\n",
       "    <tr>\n",
       "      <th>6533</th>\n",
       "      <td>2.0</td>\n",
       "      <td>0.65</td>\n",
       "      <td>train</td>\n",
       "      <td>0.9916</td>\n",
       "      <td>0.0084</td>\n",
       "      <td>0.0000</td>\n",
       "      <td>0.0000</td>\n",
       "      <td>-1</td>\n",
       "      <td>-1</td>\n",
       "    </tr>\n",
       "    <tr>\n",
       "      <th>6534</th>\n",
       "      <td>2.0</td>\n",
       "      <td>0.70</td>\n",
       "      <td>train</td>\n",
       "      <td>0.9950</td>\n",
       "      <td>0.0050</td>\n",
       "      <td>0.0000</td>\n",
       "      <td>0.0000</td>\n",
       "      <td>-1</td>\n",
       "      <td>-1</td>\n",
       "    </tr>\n",
       "    <tr>\n",
       "      <th>6535</th>\n",
       "      <td>2.0</td>\n",
       "      <td>0.75</td>\n",
       "      <td>train</td>\n",
       "      <td>0.9965</td>\n",
       "      <td>0.0032</td>\n",
       "      <td>0.0003</td>\n",
       "      <td>0.0000</td>\n",
       "      <td>-1</td>\n",
       "      <td>-1</td>\n",
       "    </tr>\n",
       "    <tr>\n",
       "      <th>6536</th>\n",
       "      <td>2.0</td>\n",
       "      <td>0.80</td>\n",
       "      <td>train</td>\n",
       "      <td>0.9986</td>\n",
       "      <td>0.0011</td>\n",
       "      <td>0.0003</td>\n",
       "      <td>0.0000</td>\n",
       "      <td>-1</td>\n",
       "      <td>-1</td>\n",
       "    </tr>\n",
       "    <tr>\n",
       "      <th>6537</th>\n",
       "      <td>2.0</td>\n",
       "      <td>0.85</td>\n",
       "      <td>val</td>\n",
       "      <td>0.9985</td>\n",
       "      <td>0.0014</td>\n",
       "      <td>0.0000</td>\n",
       "      <td>0.0001</td>\n",
       "      <td>-1</td>\n",
       "      <td>-1</td>\n",
       "    </tr>\n",
       "    <tr>\n",
       "      <th>6538</th>\n",
       "      <td>2.0</td>\n",
       "      <td>0.90</td>\n",
       "      <td>train</td>\n",
       "      <td>0.9975</td>\n",
       "      <td>0.0017</td>\n",
       "      <td>0.0001</td>\n",
       "      <td>0.0007</td>\n",
       "      <td>-1</td>\n",
       "      <td>-1</td>\n",
       "    </tr>\n",
       "    <tr>\n",
       "      <th>6539</th>\n",
       "      <td>2.0</td>\n",
       "      <td>0.95</td>\n",
       "      <td>val</td>\n",
       "      <td>0.9941</td>\n",
       "      <td>0.0048</td>\n",
       "      <td>0.0002</td>\n",
       "      <td>0.0009</td>\n",
       "      <td>-1</td>\n",
       "      <td>-1</td>\n",
       "    </tr>\n",
       "    <tr>\n",
       "      <th>6540</th>\n",
       "      <td>2.0</td>\n",
       "      <td>1.00</td>\n",
       "      <td>train</td>\n",
       "      <td>0.9983</td>\n",
       "      <td>0.0010</td>\n",
       "      <td>0.0000</td>\n",
       "      <td>0.0007</td>\n",
       "      <td>-1</td>\n",
       "      <td>-1</td>\n",
       "    </tr>\n",
       "    <tr>\n",
       "      <th>6541</th>\n",
       "      <td>2.0</td>\n",
       "      <td>1.05</td>\n",
       "      <td>train</td>\n",
       "      <td>0.9942</td>\n",
       "      <td>0.0053</td>\n",
       "      <td>0.0000</td>\n",
       "      <td>0.0005</td>\n",
       "      <td>-1</td>\n",
       "      <td>-1</td>\n",
       "    </tr>\n",
       "    <tr>\n",
       "      <th>6542</th>\n",
       "      <td>2.0</td>\n",
       "      <td>1.10</td>\n",
       "      <td>train</td>\n",
       "      <td>0.9956</td>\n",
       "      <td>0.0027</td>\n",
       "      <td>0.0015</td>\n",
       "      <td>0.0002</td>\n",
       "      <td>-1</td>\n",
       "      <td>-1</td>\n",
       "    </tr>\n",
       "    <tr>\n",
       "      <th>6543</th>\n",
       "      <td>2.0</td>\n",
       "      <td>1.15</td>\n",
       "      <td>train</td>\n",
       "      <td>0.9956</td>\n",
       "      <td>0.0019</td>\n",
       "      <td>0.0005</td>\n",
       "      <td>0.0020</td>\n",
       "      <td>-1</td>\n",
       "      <td>-1</td>\n",
       "    </tr>\n",
       "    <tr>\n",
       "      <th>6544</th>\n",
       "      <td>2.0</td>\n",
       "      <td>1.20</td>\n",
       "      <td>val</td>\n",
       "      <td>0.9982</td>\n",
       "      <td>0.0010</td>\n",
       "      <td>0.0006</td>\n",
       "      <td>0.0002</td>\n",
       "      <td>-1</td>\n",
       "      <td>-1</td>\n",
       "    </tr>\n",
       "    <tr>\n",
       "      <th>6545</th>\n",
       "      <td>2.0</td>\n",
       "      <td>1.25</td>\n",
       "      <td>val</td>\n",
       "      <td>0.9982</td>\n",
       "      <td>0.0015</td>\n",
       "      <td>0.0001</td>\n",
       "      <td>0.0002</td>\n",
       "      <td>-1</td>\n",
       "      <td>-1</td>\n",
       "    </tr>\n",
       "    <tr>\n",
       "      <th>6546</th>\n",
       "      <td>2.0</td>\n",
       "      <td>1.30</td>\n",
       "      <td>val</td>\n",
       "      <td>0.9973</td>\n",
       "      <td>0.0023</td>\n",
       "      <td>0.0002</td>\n",
       "      <td>0.0002</td>\n",
       "      <td>-1</td>\n",
       "      <td>-1</td>\n",
       "    </tr>\n",
       "    <tr>\n",
       "      <th>6547</th>\n",
       "      <td>2.0</td>\n",
       "      <td>1.35</td>\n",
       "      <td>val</td>\n",
       "      <td>0.9942</td>\n",
       "      <td>0.0033</td>\n",
       "      <td>0.0004</td>\n",
       "      <td>0.0021</td>\n",
       "      <td>-1</td>\n",
       "      <td>-1</td>\n",
       "    </tr>\n",
       "    <tr>\n",
       "      <th>6548</th>\n",
       "      <td>2.0</td>\n",
       "      <td>1.40</td>\n",
       "      <td>train</td>\n",
       "      <td>0.9944</td>\n",
       "      <td>0.0024</td>\n",
       "      <td>0.0002</td>\n",
       "      <td>0.0030</td>\n",
       "      <td>-1</td>\n",
       "      <td>-1</td>\n",
       "    </tr>\n",
       "    <tr>\n",
       "      <th>6549</th>\n",
       "      <td>2.0</td>\n",
       "      <td>1.45</td>\n",
       "      <td>train</td>\n",
       "      <td>0.9899</td>\n",
       "      <td>0.0037</td>\n",
       "      <td>0.0017</td>\n",
       "      <td>0.0047</td>\n",
       "      <td>-1</td>\n",
       "      <td>-1</td>\n",
       "    </tr>\n",
       "    <tr>\n",
       "      <th>6550</th>\n",
       "      <td>2.0</td>\n",
       "      <td>1.50</td>\n",
       "      <td>train</td>\n",
       "      <td>0.9784</td>\n",
       "      <td>0.0068</td>\n",
       "      <td>0.0066</td>\n",
       "      <td>0.0082</td>\n",
       "      <td>-1</td>\n",
       "      <td>-1</td>\n",
       "    </tr>\n",
       "    <tr>\n",
       "      <th>6551</th>\n",
       "      <td>2.0</td>\n",
       "      <td>1.55</td>\n",
       "      <td>val</td>\n",
       "      <td>0.9137</td>\n",
       "      <td>0.0410</td>\n",
       "      <td>0.0108</td>\n",
       "      <td>0.0345</td>\n",
       "      <td>-1</td>\n",
       "      <td>-1</td>\n",
       "    </tr>\n",
       "    <tr>\n",
       "      <th>6552</th>\n",
       "      <td>2.0</td>\n",
       "      <td>1.60</td>\n",
       "      <td>test</td>\n",
       "      <td>0.7450</td>\n",
       "      <td>0.1175</td>\n",
       "      <td>0.0331</td>\n",
       "      <td>0.1044</td>\n",
       "      <td>-1</td>\n",
       "      <td>-1</td>\n",
       "    </tr>\n",
       "    <tr>\n",
       "      <th>6553</th>\n",
       "      <td>2.0</td>\n",
       "      <td>1.65</td>\n",
       "      <td>test</td>\n",
       "      <td>0.6183</td>\n",
       "      <td>0.1480</td>\n",
       "      <td>0.0421</td>\n",
       "      <td>0.1916</td>\n",
       "      <td>-1</td>\n",
       "      <td>-1</td>\n",
       "    </tr>\n",
       "    <tr>\n",
       "      <th>6554</th>\n",
       "      <td>2.0</td>\n",
       "      <td>1.70</td>\n",
       "      <td>test</td>\n",
       "      <td>0.5366</td>\n",
       "      <td>0.1725</td>\n",
       "      <td>0.0600</td>\n",
       "      <td>0.2309</td>\n",
       "      <td>-1</td>\n",
       "      <td>-1</td>\n",
       "    </tr>\n",
       "    <tr>\n",
       "      <th>6555</th>\n",
       "      <td>2.0</td>\n",
       "      <td>1.75</td>\n",
       "      <td>test</td>\n",
       "      <td>0.4811</td>\n",
       "      <td>0.1882</td>\n",
       "      <td>0.0520</td>\n",
       "      <td>0.2787</td>\n",
       "      <td>-1</td>\n",
       "      <td>-1</td>\n",
       "    </tr>\n",
       "    <tr>\n",
       "      <th>6556</th>\n",
       "      <td>2.0</td>\n",
       "      <td>1.80</td>\n",
       "      <td>test</td>\n",
       "      <td>0.4569</td>\n",
       "      <td>0.1774</td>\n",
       "      <td>0.0596</td>\n",
       "      <td>0.3061</td>\n",
       "      <td>-1</td>\n",
       "      <td>-1</td>\n",
       "    </tr>\n",
       "    <tr>\n",
       "      <th>6557</th>\n",
       "      <td>2.0</td>\n",
       "      <td>1.85</td>\n",
       "      <td>test</td>\n",
       "      <td>0.3947</td>\n",
       "      <td>0.1806</td>\n",
       "      <td>0.0804</td>\n",
       "      <td>0.3443</td>\n",
       "      <td>-1</td>\n",
       "      <td>-1</td>\n",
       "    </tr>\n",
       "    <tr>\n",
       "      <th>6558</th>\n",
       "      <td>2.0</td>\n",
       "      <td>1.90</td>\n",
       "      <td>test</td>\n",
       "      <td>0.3269</td>\n",
       "      <td>0.2004</td>\n",
       "      <td>0.1045</td>\n",
       "      <td>0.3682</td>\n",
       "      <td>-1</td>\n",
       "      <td>2</td>\n",
       "    </tr>\n",
       "    <tr>\n",
       "      <th>6559</th>\n",
       "      <td>2.0</td>\n",
       "      <td>1.95</td>\n",
       "      <td>test</td>\n",
       "      <td>0.2786</td>\n",
       "      <td>0.2540</td>\n",
       "      <td>0.0975</td>\n",
       "      <td>0.3699</td>\n",
       "      <td>-1</td>\n",
       "      <td>2</td>\n",
       "    </tr>\n",
       "    <tr>\n",
       "      <th>6560</th>\n",
       "      <td>2.0</td>\n",
       "      <td>2.00</td>\n",
       "      <td>test</td>\n",
       "      <td>0.2565</td>\n",
       "      <td>0.2770</td>\n",
       "      <td>0.0995</td>\n",
       "      <td>0.3670</td>\n",
       "      <td>999</td>\n",
       "      <td>2</td>\n",
       "    </tr>\n",
       "  </tbody>\n",
       "</table>\n",
       "<p>6561 rows × 9 columns</p>\n",
       "</div>"
      ],
      "text/plain": [
       "       t1    t2 type_of      -1       0       1       2  phase  pred_phase\n",
       "id                                                                        \n",
       "0    -2.0 -2.00    test  0.2160  0.4738  0.2726  0.0376    999           0\n",
       "1    -2.0 -1.95    test  0.2227  0.4884  0.2552  0.0337     -1           0\n",
       "2    -2.0 -1.90    test  0.2237  0.4660  0.2765  0.0338     -1           0\n",
       "3    -2.0 -1.85    test  0.2486  0.4101  0.3086  0.0327     -1           0\n",
       "4    -2.0 -1.80    test  0.2455  0.4128  0.3169  0.0248     -1           0\n",
       "5    -2.0 -1.75    test  0.2540  0.4260  0.3000  0.0200     -1           0\n",
       "6    -2.0 -1.70    test  0.2746  0.4264  0.2784  0.0206     -1           0\n",
       "7    -2.0 -1.65    test  0.3028  0.3862  0.2903  0.0207     -1           0\n",
       "8    -2.0 -1.60    test  0.3456  0.3502  0.2782  0.0260     -1           0\n",
       "9    -2.0 -1.55    test  0.3962  0.2736  0.3055  0.0247     -1          -1\n",
       "10   -2.0 -1.50    test  0.4621  0.2417  0.2725  0.0237     -1          -1\n",
       "11   -2.0 -1.45    test  0.5346  0.2150  0.2175  0.0329     -1          -1\n",
       "12   -2.0 -1.40    test  0.6180  0.1510  0.2032  0.0278     -1          -1\n",
       "13   -2.0 -1.35   train  0.8357  0.0603  0.0920  0.0120     -1          -1\n",
       "14   -2.0 -1.30     val  0.8811  0.0530  0.0599  0.0060     -1          -1\n",
       "15   -2.0 -1.25   train  0.9466  0.0226  0.0279  0.0029     -1          -1\n",
       "16   -2.0 -1.20     val  0.9475  0.0098  0.0244  0.0183     -1          -1\n",
       "17   -2.0 -1.15   train  0.9491  0.0080  0.0309  0.0120     -1          -1\n",
       "18   -2.0 -1.10     val  0.9581  0.0041  0.0292  0.0086     -1          -1\n",
       "19   -2.0 -1.05   train  0.9745  0.0088  0.0160  0.0007     -1          -1\n",
       "20   -2.0 -1.00     val  0.9840  0.0042  0.0118  0.0000     -1          -1\n",
       "21   -2.0 -0.95   train  0.9911  0.0024  0.0065  0.0000     -1          -1\n",
       "22   -2.0 -0.90   train  0.9901  0.0068  0.0031  0.0000     -1          -1\n",
       "23   -2.0 -0.85     val  0.9954  0.0011  0.0035  0.0000     -1          -1\n",
       "24   -2.0 -0.80   train  0.9928  0.0036  0.0036  0.0000     -1          -1\n",
       "25   -2.0 -0.75   train  0.9776  0.0098  0.0125  0.0001     -1          -1\n",
       "26   -2.0 -0.70   train  0.9883  0.0054  0.0063  0.0000     -1          -1\n",
       "27   -2.0 -0.65     val  0.9951  0.0038  0.0009  0.0002     -1          -1\n",
       "28   -2.0 -0.60     val  0.9943  0.0057  0.0000  0.0000     -1          -1\n",
       "29   -2.0 -0.55   train  0.9963  0.0026  0.0008  0.0003     -1          -1\n",
       "...   ...   ...     ...     ...     ...     ...     ...    ...         ...\n",
       "6531  2.0  0.55     val  0.9915  0.0074  0.0009  0.0002     -1          -1\n",
       "6532  2.0  0.60     val  0.9926  0.0068  0.0003  0.0003     -1          -1\n",
       "6533  2.0  0.65   train  0.9916  0.0084  0.0000  0.0000     -1          -1\n",
       "6534  2.0  0.70   train  0.9950  0.0050  0.0000  0.0000     -1          -1\n",
       "6535  2.0  0.75   train  0.9965  0.0032  0.0003  0.0000     -1          -1\n",
       "6536  2.0  0.80   train  0.9986  0.0011  0.0003  0.0000     -1          -1\n",
       "6537  2.0  0.85     val  0.9985  0.0014  0.0000  0.0001     -1          -1\n",
       "6538  2.0  0.90   train  0.9975  0.0017  0.0001  0.0007     -1          -1\n",
       "6539  2.0  0.95     val  0.9941  0.0048  0.0002  0.0009     -1          -1\n",
       "6540  2.0  1.00   train  0.9983  0.0010  0.0000  0.0007     -1          -1\n",
       "6541  2.0  1.05   train  0.9942  0.0053  0.0000  0.0005     -1          -1\n",
       "6542  2.0  1.10   train  0.9956  0.0027  0.0015  0.0002     -1          -1\n",
       "6543  2.0  1.15   train  0.9956  0.0019  0.0005  0.0020     -1          -1\n",
       "6544  2.0  1.20     val  0.9982  0.0010  0.0006  0.0002     -1          -1\n",
       "6545  2.0  1.25     val  0.9982  0.0015  0.0001  0.0002     -1          -1\n",
       "6546  2.0  1.30     val  0.9973  0.0023  0.0002  0.0002     -1          -1\n",
       "6547  2.0  1.35     val  0.9942  0.0033  0.0004  0.0021     -1          -1\n",
       "6548  2.0  1.40   train  0.9944  0.0024  0.0002  0.0030     -1          -1\n",
       "6549  2.0  1.45   train  0.9899  0.0037  0.0017  0.0047     -1          -1\n",
       "6550  2.0  1.50   train  0.9784  0.0068  0.0066  0.0082     -1          -1\n",
       "6551  2.0  1.55     val  0.9137  0.0410  0.0108  0.0345     -1          -1\n",
       "6552  2.0  1.60    test  0.7450  0.1175  0.0331  0.1044     -1          -1\n",
       "6553  2.0  1.65    test  0.6183  0.1480  0.0421  0.1916     -1          -1\n",
       "6554  2.0  1.70    test  0.5366  0.1725  0.0600  0.2309     -1          -1\n",
       "6555  2.0  1.75    test  0.4811  0.1882  0.0520  0.2787     -1          -1\n",
       "6556  2.0  1.80    test  0.4569  0.1774  0.0596  0.3061     -1          -1\n",
       "6557  2.0  1.85    test  0.3947  0.1806  0.0804  0.3443     -1          -1\n",
       "6558  2.0  1.90    test  0.3269  0.2004  0.1045  0.3682     -1           2\n",
       "6559  2.0  1.95    test  0.2786  0.2540  0.0975  0.3699     -1           2\n",
       "6560  2.0  2.00    test  0.2565  0.2770  0.0995  0.3670    999           2\n",
       "\n",
       "[6561 rows x 9 columns]"
      ]
     },
     "execution_count": 4,
     "metadata": {},
     "output_type": "execute_result"
    }
   ],
   "source": [
    "save_to_disk = False\n",
    "simulation.compute_hamiltonian_summary(save_to_disk)\n",
    "simulation.hamiltonian_summary"
   ]
  },
  {
   "cell_type": "markdown",
   "metadata": {},
   "source": [
    "#### Computing mean simulation accuracy"
   ]
  },
  {
   "cell_type": "code",
   "execution_count": 5,
   "metadata": {},
   "outputs": [
    {
     "name": "stderr",
     "output_type": "stream",
     "text": [
      "computing mean accuracies: 100%|██████████| 100/100 [02:16<00:00,  1.49s/it]\n"
     ]
    }
   ],
   "source": [
    "save_to_disk = False\n",
    "simulation.compute_mean_accuracy(save_to_disk)"
   ]
  },
  {
   "cell_type": "code",
   "execution_count": 6,
   "metadata": {},
   "outputs": [
    {
     "data": {
      "text/plain": [
       "{'eigenvector_train': 0.9997190148496923,\n",
       " 'eigenvector_val': 0.9742531159420291,\n",
       " 'eigenvector_test': 0.6755254947613503,\n",
       " 'hamiltonian_train': 1.0,\n",
       " 'hamiltonian_val': 0.9972065217391304,\n",
       " 'hamiltonian_test': 0.8806868451688008}"
      ]
     },
     "execution_count": 6,
     "metadata": {},
     "output_type": "execute_result"
    }
   ],
   "source": [
    "simulation.mean_accuracy"
   ]
  },
  {
   "cell_type": "markdown",
   "metadata": {},
   "source": [
    "#### Computing bootstrap accuracy"
   ]
  },
  {
   "cell_type": "code",
   "execution_count": 7,
   "metadata": {},
   "outputs": [],
   "source": [
    "save_to_disk = False\n",
    "simulation.compute_bootstrap_accuracy(save_to_disk)"
   ]
  },
  {
   "cell_type": "code",
   "execution_count": 8,
   "metadata": {},
   "outputs": [
    {
     "data": {
      "text/plain": [
       "{'hamiltonian_train': 1.0,\n",
       " 'hamiltonian_val': 1.0,\n",
       " 'hamiltonian_test': 0.8859138533178114}"
      ]
     },
     "execution_count": 8,
     "metadata": {},
     "output_type": "execute_result"
    }
   ],
   "source": [
    "simulation.bootstrap_accuracy"
   ]
  },
  {
   "cell_type": "markdown",
   "metadata": {},
   "source": [
    "#### Computing mean feature importances"
   ]
  },
  {
   "cell_type": "code",
   "execution_count": 9,
   "metadata": {},
   "outputs": [
    {
     "name": "stderr",
     "output_type": "stream",
     "text": [
      "mean feature importances: 100%|██████████| 100/100 [00:18<00:00,  5.38it/s]\n"
     ]
    }
   ],
   "source": [
    "save_to_disk = False\n",
    "simulation.compute_mean_feature_importance(save_to_disk)"
   ]
  },
  {
   "cell_type": "code",
   "execution_count": 10,
   "metadata": {},
   "outputs": [
    {
     "data": {
      "text/plain": [
       "{1: 0.026315635111721337,\n",
       " 2: 0.030587380108613456,\n",
       " 3: 0.019528228600577263,\n",
       " 4: 0.020565963379252743,\n",
       " 5: 0.01708339040827379,\n",
       " 6: 0.019008381698542857,\n",
       " 7: 0.01278515057988162,\n",
       " 8: 0.013521565669171724,\n",
       " 9: 0.009662613209359296,\n",
       " 10: 0.010878558501177108,\n",
       " 11: 0.009242245401314686,\n",
       " 12: 0.009180740865700395,\n",
       " 13: 0.008038090024391122,\n",
       " 14: 0.008174641410303926,\n",
       " 15: 0.007468530876524621,\n",
       " 16: 0.007476531490669942,\n",
       " 17: 0.007297764267605924,\n",
       " 18: 0.007025972587977218,\n",
       " 19: 0.006962263989632137,\n",
       " 20: 0.006652110344916206,\n",
       " 21: 0.006987407419744776,\n",
       " 22: 0.006753076644161256,\n",
       " 23: 0.006972883188176066,\n",
       " 24: 0.006748869863135181,\n",
       " 25: 0.007001381848854594,\n",
       " 26: 0.007223777545623919,\n",
       " 27: 0.0069936283705645886,\n",
       " 28: 0.007159905341973921,\n",
       " 29: 0.006692098566935248,\n",
       " 30: 0.006880830701533983,\n",
       " 31: 0.006730327795161666,\n",
       " 32: 0.0068707171475457995,\n",
       " 33: 0.00722614495654831,\n",
       " 34: 0.007022845244517509,\n",
       " 35: 0.007173777902325926,\n",
       " 36: 0.006912604018007072,\n",
       " 37: 0.006924436035004992,\n",
       " 38: 0.006974432703209087,\n",
       " 39: 0.0072729612822068045,\n",
       " 40: 0.007026712082112691,\n",
       " 41: 0.007738727087314725,\n",
       " 42: 0.007522615630369878,\n",
       " 43: 0.008572266865485728,\n",
       " 44: 0.008099619550114802,\n",
       " 45: 0.01042153585417717,\n",
       " 46: 0.008930410975358646,\n",
       " 47: 0.012424030025012057,\n",
       " 48: 0.010678528723702962,\n",
       " 49: 0.015421089404177907,\n",
       " 50: 0.013402362683511809,\n",
       " 51: 0.013910819878041063,\n",
       " 52: 0.0148999257010016,\n",
       " 53: 0.010931927839431112,\n",
       " 54: 0.012058198157111056,\n",
       " 55: 0.009101460768116134,\n",
       " 56: 0.010206430490898564,\n",
       " 57: 0.008223771433212852,\n",
       " 58: 0.008394687314668407,\n",
       " 59: 0.00760929738516941,\n",
       " 60: 0.007621375635351554,\n",
       " 61: 0.007110955175748824,\n",
       " 62: 0.007188355912050362,\n",
       " 63: 0.007052941466873784,\n",
       " 64: 0.006877120338617276,\n",
       " 65: 0.00695170326539482,\n",
       " 66: 0.0071345498235947016,\n",
       " 67: 0.007036769450574595,\n",
       " 68: 0.007184023619223144,\n",
       " 69: 0.006825170264200711,\n",
       " 70: 0.0067459614118137645,\n",
       " 71: 0.006912382254203928,\n",
       " 72: 0.006680781329019138,\n",
       " 73: 0.007135096806124168,\n",
       " 74: 0.007047319445015412,\n",
       " 75: 0.007122018224147856,\n",
       " 76: 0.0071126453804036815,\n",
       " 77: 0.006728620381800669,\n",
       " 78: 0.006987119002667185,\n",
       " 79: 0.006749216857910464,\n",
       " 80: 0.006934313619791409,\n",
       " 81: 0.0067155303334371945,\n",
       " 82: 0.006962777629944022,\n",
       " 83: 0.006985540089378489,\n",
       " 84: 0.00727426786658018,\n",
       " 85: 0.007484795788348049,\n",
       " 86: 0.007444679164722931,\n",
       " 87: 0.008201705456560526,\n",
       " 88: 0.00802683035997765,\n",
       " 89: 0.00922094325386219,\n",
       " 90: 0.009170072625866929,\n",
       " 91: 0.010827585176236802,\n",
       " 92: 0.009661817135443425,\n",
       " 93: 0.013520977203586108,\n",
       " 94: 0.012802088700570228,\n",
       " 95: 0.01900710617601054,\n",
       " 96: 0.017035698215328438,\n",
       " 97: 0.020611805673256278,\n",
       " 98: 0.019590934649891138,\n",
       " 99: 0.030439258932575847,\n",
       " 100: 0.026324862954068936}"
      ]
     },
     "execution_count": 10,
     "metadata": {},
     "output_type": "execute_result"
    }
   ],
   "source": [
    "simulation.feature_importance"
   ]
  },
  {
   "cell_type": "markdown",
   "metadata": {},
   "source": [
    "#### Plotting feature importances"
   ]
  },
  {
   "cell_type": "code",
   "execution_count": 11,
   "metadata": {},
   "outputs": [
    {
     "name": "stdout",
     "output_type": "stream",
     "text": [
      "The autoreload extension is already loaded. To reload it, use:\n",
      "  %reload_ext autoreload\n"
     ]
    }
   ],
   "source": [
    "%load_ext autoreload\n",
    "%autoreload 2\n",
    "from prediction_grids import *"
   ]
  },
  {
   "cell_type": "code",
   "execution_count": 20,
   "metadata": {},
   "outputs": [
    {
     "data": {
      "image/png": "[encoded data removed]",
      "text/plain": [
       "<Figure size 864x864 with 1 Axes>"
      ]
     },
     "metadata": {
      "needs_background": "light"
     },
     "output_type": "display_data"
    }
   ],
   "source": [
    "#plot_feature_importances(self, n_features=None, fig_params={}, xlabel_params={}, ylabel_params={}, title_params={})\n",
    "n_features = None\n",
    "plot_type = \"bar\"\n",
    "plot_params = {\"color\": \"cadetblue\", \"width\": 0.7}\n",
    "#plot_params=None\n",
    "#hist_params = {\"color\": \"tomato\", \"width\": 0.7}\n",
    "#hist_params = None\n",
    "hist_precision = 1000\n",
    "fig_params={\"figsize\": (12,12)} \n",
    "xlabel_params = {\"xlabel\": \"lattice site\", \"fontsize\": 24}\n",
    "ylabel_params = {\"ylabel\": \"reduction in information entropy (%)\", \"fontsize\": 24}\n",
    "ylabel_params = {}\n",
    "title_params = {\"label\": \"Information entropy signature - experiment 2\", \"fontsize\": 24}\n",
    "#title_params = {\"label\": \"Lattice site importances\", \"fontsize\": 20}\n",
    "#xlim_params = {\"left\": 0, \"right\": len(simulation.feature_importance)}\n",
    "#ylim_params = {\"bottom\": 0, \"top\": 0.2}\n",
    "#xlim_params = {\"left\": 0, \"right\": 99}\n",
    "xlim_params = {}\n",
    "ylim_params = {}\n",
    "xticks_params = {\"ticks\": np.linspace(1,100,12).astype(int), \"fontsize\": 24}\n",
    "#xticks_params = {}\n",
    "yticks_params = {\"fontsize\": 24}\n",
    "tight_params = {}\n",
    "path_to_save = \"/home/rio/1901.01963/fig1b-6561-100-feature_importances.png\"\n",
    "savefig_params = {\"fname\": path_to_save}\n",
    "simulation.plot_feature_importances(n_features, plot_type,  hist_precision, plot_params, fig_params,\\\n",
    "                                    xlabel_params, ylabel_params, title_params, xlim_params, \\\n",
    "                                    ylim_params, xticks_params, yticks_params, tight_params, savefig_params)\n"
   ]
  },
  {
   "cell_type": "markdown",
   "metadata": {},
   "source": [
    "#### Plotting cumulative feature importances"
   ]
  },
  {
   "cell_type": "code",
   "execution_count": 14,
   "metadata": {},
   "outputs": [
    {
     "data": {
      "image/png": "[encoded data removed]",
      "text/plain": [
       "<Figure size 864x864 with 1 Axes>"
      ]
     },
     "metadata": {
      "needs_background": "light"
     },
     "output_type": "display_data"
    }
   ],
   "source": [
    "n_features = None\n",
    "plot_type = \"bar\"\n",
    "hist_precision = 1000\n",
    "plot_params = {\"color\":\"cadetblue\", \"width\": 0.7}\n",
    "fig_params={\"figsize\": (12,12)}\n",
    "xlabel_params = {\"xlabel\": \"lattice site\", \"fontsize\": 24}\n",
    "ylabel_params = {\"ylabel\": \"cumulative reduction in information entropy (%)\", \"fontsize\": 24}\n",
    "title_params = {\"label\": \"Cumulative information entropy signature - experiment 2\", \"fontsize\": 24}\n",
    "#title_params = {\"label\": \"Lattice site importances\", \"fontsize\": 20}\n",
    "#xlim_params = {\"left\": 0, \"right\": len(simulation.feature_importance)}\n",
    "#ylim_params = {\"bottom\": 0, \"top\": 0.2}\n",
    "#xlim_params = {\"left\": 0, \"right\": 99}\n",
    "#xlim_params = {\"left\":-1, \"right\":100}\n",
    "xlim_params = {}\n",
    "ylim_params = {}\n",
    "#xticks_params = {\"ticks\": np.array(list(simulation.cumulative_feature_importance.keys()))[np.linspace(0,99,16).astype(int)] }\n",
    "xticks_params = {\"ticks\": np.linspace(1,100,12), \"fontsize\": 24}\n",
    "yticks_params = {\"fontsize\": 24}\n",
    "path_to_save = \"/home/rio/1901.01963/fig1b-6561-100-cumulative_feature_importances.png\"\n",
    "savefig_params = {\"fname\": path_to_save}\n",
    "simulation.plot_cumulative_feature_importances(n_features, plot_type,  hist_precision, plot_params, fig_params,\\\n",
    "                                    xlabel_params, ylabel_params, title_params, xlim_params, \\\n",
    "                                    ylim_params, xticks_params, yticks_params, tight_params, savefig_params)\n"
   ]
  },
  {
   "cell_type": "code",
   "execution_count": null,
   "metadata": {},
   "outputs": [],
   "source": []
  },
  {
   "cell_type": "code",
   "execution_count": null,
   "metadata": {},
   "outputs": [],
   "source": []
  },
  {
   "cell_type": "code",
   "execution_count": null,
   "metadata": {},
   "outputs": [],
   "source": []
  },
  {
   "cell_type": "code",
   "execution_count": null,
   "metadata": {},
   "outputs": [],
   "source": []
  },
  {
   "cell_type": "code",
   "execution_count": null,
   "metadata": {},
   "outputs": [],
   "source": []
  },
  {
   "cell_type": "code",
   "execution_count": null,
   "metadata": {},
   "outputs": [],
   "source": []
  },
  {
   "cell_type": "code",
   "execution_count": null,
   "metadata": {},
   "outputs": [],
   "source": []
  },
  {
   "cell_type": "markdown",
   "metadata": {},
   "source": [
    "#### Loading experiment"
   ]
  },
  {
   "cell_type": "code",
   "execution_count": 2,
   "metadata": {},
   "outputs": [],
   "source": [
    "simulation_dir = \"./simulation/fig1a-6561\"\n",
    "experiment_name = \"0\"\n",
    "experiment = Experiment(simulation_dir, experiment_name)"
   ]
  },
  {
   "cell_type": "markdown",
   "metadata": {},
   "source": [
    "#### Model"
   ]
  },
  {
   "cell_type": "code",
   "execution_count": 3,
   "metadata": {},
   "outputs": [
    {
     "data": {
      "text/plain": [
       "DecisionTreeClassifier(class_weight=None, criterion='gini', max_depth=None,\n",
       "            max_features=None, max_leaf_nodes=None,\n",
       "            min_impurity_decrease=0.0, min_impurity_split=None,\n",
       "            min_samples_leaf=1, min_samples_split=2,\n",
       "            min_weight_fraction_leaf=0.0, presort=False, random_state=None,\n",
       "            splitter='best')"
      ]
     },
     "execution_count": 3,
     "metadata": {},
     "output_type": "execute_result"
    }
   ],
   "source": [
    "experiment.model"
   ]
  },
  {
   "cell_type": "markdown",
   "metadata": {},
   "source": [
    "#### Feature importances"
   ]
  },
  {
   "cell_type": "code",
   "execution_count": 4,
   "metadata": {},
   "outputs": [
    {
     "data": {
      "text/plain": [
       "array([1.78298816e-01, 5.75113954e-03, 1.92582682e-02, 1.49519112e-01,\n",
       "       1.87213607e-03, 2.03794339e-03, 6.09441153e-03, 1.94182152e-03,\n",
       "       2.56788705e-03, 5.48626365e-03, 1.09656719e-03, 9.45466183e-03,\n",
       "       8.78168451e-04, 3.62419859e-04, 6.99514915e-04, 1.22864701e-02,\n",
       "       1.03892791e-03, 3.93394636e-04, 5.17419154e-04, 1.02709941e-02,\n",
       "       3.39143795e-03, 4.82379261e-04, 1.06964953e-03, 8.14483475e-03,\n",
       "       1.50211074e-03, 1.05260892e-02, 1.17114890e-03, 9.48095662e-03,\n",
       "       2.20638672e-03, 4.14044515e-04, 9.57759374e-04, 4.29786834e-03,\n",
       "       1.07405186e-03, 3.17501479e-04, 2.23310902e-04, 3.85270188e-03,\n",
       "       5.19630181e-04, 5.18054794e-04, 9.59014473e-04, 1.01503186e-03,\n",
       "       5.65002673e-04, 1.03372331e-03, 3.61939870e-04, 1.73404264e-02,\n",
       "       1.46499481e-03, 1.23092461e-03, 4.83760465e-03, 1.63086639e-02,\n",
       "       5.00046694e-03, 5.70446756e-04, 1.76192622e-01, 1.44935387e-01,\n",
       "       7.72793273e-04, 3.67663187e-03, 6.00596634e-04, 1.71365380e-02,\n",
       "       1.66162823e-03, 1.63819261e-03, 1.36467329e-03, 1.71124514e-02,\n",
       "       1.29123496e-03, 1.13296932e-03, 1.47753012e-03, 4.07125343e-03,\n",
       "       9.37215461e-04, 9.04415907e-04, 9.24993768e-04, 1.49662269e-02,\n",
       "       2.37988029e-03, 2.86910216e-04, 4.61121398e-03, 1.51641235e-02,\n",
       "       9.59527423e-04, 9.80422777e-05, 4.25263018e-03, 4.92617492e-03,\n",
       "       1.33403638e-03, 9.07911922e-04, 3.31544411e-04, 1.66772441e-03,\n",
       "       5.86055981e-04, 8.68660513e-04, 1.26883342e-03, 5.64665213e-03,\n",
       "       1.11916059e-03, 8.71284129e-04, 6.39715444e-04, 7.96852366e-04,\n",
       "       5.68592698e-04, 4.43202600e-04, 2.08601941e-03, 6.83981184e-03,\n",
       "       6.01132870e-04, 2.63083720e-03, 1.01063009e-02, 1.27488434e-02,\n",
       "       1.25117403e-03, 7.82421009e-04, 7.85658263e-03, 3.90629824e-03])"
      ]
     },
     "execution_count": 4,
     "metadata": {},
     "output_type": "execute_result"
    }
   ],
   "source": [
    "experiment.model.feature_importances_"
   ]
  },
  {
   "cell_type": "code",
   "execution_count": 8,
   "metadata": {},
   "outputs": [
    {
     "data": {
      "text/plain": [
       "array([ 0, 50,  3, 51,  2, 43, 55, 59, 47, 71, 67, 95, 15, 25, 19, 94, 27,\n",
       "       11, 23, 98, 91,  6,  1, 83,  9, 48, 75, 46, 70, 31, 74, 63, 99, 35,\n",
       "       53, 20, 93,  8, 68, 28, 90,  5,  7,  4, 79, 56, 57, 24, 62, 44, 58,\n",
       "       76, 60, 82, 96, 45, 26, 61, 84, 10, 32, 22, 16, 41, 39, 72, 38, 30,\n",
       "       64, 66, 77, 65, 12, 85, 81, 87, 97, 52, 14, 86, 92, 54, 80, 49, 88,\n",
       "       40, 36, 37, 18, 21, 89, 29, 17, 13, 42, 78, 33, 69, 34, 73])"
      ]
     },
     "execution_count": 8,
     "metadata": {},
     "output_type": "execute_result"
    }
   ],
   "source": [
    "features_sorted_by_importance = np.argsort(experiment.model.feature_importances_)[::-1]\n",
    "features_sorted_by_importance"
   ]
  },
  {
   "cell_type": "code",
   "execution_count": 9,
   "metadata": {},
   "outputs": [
    {
     "data": {
      "text/plain": [
       "array([1.78298816e-01, 1.76192622e-01, 1.49519112e-01, 1.44935387e-01,\n",
       "       1.92582682e-02, 1.73404264e-02, 1.71365380e-02, 1.71124514e-02,\n",
       "       1.63086639e-02, 1.51641235e-02, 1.49662269e-02, 1.27488434e-02,\n",
       "       1.22864701e-02, 1.05260892e-02, 1.02709941e-02, 1.01063009e-02,\n",
       "       9.48095662e-03, 9.45466183e-03, 8.14483475e-03, 7.85658263e-03,\n",
       "       6.83981184e-03, 6.09441153e-03, 5.75113954e-03, 5.64665213e-03,\n",
       "       5.48626365e-03, 5.00046694e-03, 4.92617492e-03, 4.83760465e-03,\n",
       "       4.61121398e-03, 4.29786834e-03, 4.25263018e-03, 4.07125343e-03,\n",
       "       3.90629824e-03, 3.85270188e-03, 3.67663187e-03, 3.39143795e-03,\n",
       "       2.63083720e-03, 2.56788705e-03, 2.37988029e-03, 2.20638672e-03,\n",
       "       2.08601941e-03, 2.03794339e-03, 1.94182152e-03, 1.87213607e-03,\n",
       "       1.66772441e-03, 1.66162823e-03, 1.63819261e-03, 1.50211074e-03,\n",
       "       1.47753012e-03, 1.46499481e-03, 1.36467329e-03, 1.33403638e-03,\n",
       "       1.29123496e-03, 1.26883342e-03, 1.25117403e-03, 1.23092461e-03,\n",
       "       1.17114890e-03, 1.13296932e-03, 1.11916059e-03, 1.09656719e-03,\n",
       "       1.07405186e-03, 1.06964953e-03, 1.03892791e-03, 1.03372331e-03,\n",
       "       1.01503186e-03, 9.59527423e-04, 9.59014473e-04, 9.57759374e-04,\n",
       "       9.37215461e-04, 9.24993768e-04, 9.07911922e-04, 9.04415907e-04,\n",
       "       8.78168451e-04, 8.71284129e-04, 8.68660513e-04, 7.96852366e-04,\n",
       "       7.82421009e-04, 7.72793273e-04, 6.99514915e-04, 6.39715444e-04,\n",
       "       6.01132870e-04, 6.00596634e-04, 5.86055981e-04, 5.70446756e-04,\n",
       "       5.68592698e-04, 5.65002673e-04, 5.19630181e-04, 5.18054794e-04,\n",
       "       5.17419154e-04, 4.82379261e-04, 4.43202600e-04, 4.14044515e-04,\n",
       "       3.93394636e-04, 3.62419859e-04, 3.61939870e-04, 3.31544411e-04,\n",
       "       3.17501479e-04, 2.86910216e-04, 2.23310902e-04, 9.80422777e-05])"
      ]
     },
     "execution_count": 9,
     "metadata": {},
     "output_type": "execute_result"
    }
   ],
   "source": [
    "experiment.model.feature_importances_[features_sorted_by_importance]"
   ]
  },
  {
   "cell_type": "code",
   "execution_count": 10,
   "metadata": {},
   "outputs": [],
   "source": [
    "simulation_dir = \"./simulation/fig1a-6561\"\n",
    "experiment_name = \"1\"\n",
    "experiment = Experiment(simulation_dir, experiment_name)"
   ]
  },
  {
   "cell_type": "code",
   "execution_count": 11,
   "metadata": {},
   "outputs": [
    {
     "data": {
      "text/plain": [
       "array([ 0,  1,  3, 53,  5, 51, 97, 69, 50, 83, 45, 25, 35, 99, 63, 85, 77,\n",
       "       81, 27, 93,  8,  9, 57, 98, 48, 68, 23, 61, 37,  4, 96, 55,  7, 43,\n",
       "       21, 82, 52,  2, 32, 60, 17, 19, 73, 24, 84, 79, 56, 72, 39, 29, 91,\n",
       "       92, 89, 87, 80, 13, 86, 74, 16, 31, 95, 10, 33, 58, 88, 36, 30, 75,\n",
       "       49, 46, 65, 67, 71, 40, 28, 78, 22, 59, 12, 15, 47, 90,  6, 11, 18,\n",
       "       62, 41, 64, 34, 94, 76, 66, 54, 70, 26, 44, 20, 14, 42, 38])"
      ]
     },
     "execution_count": 11,
     "metadata": {},
     "output_type": "execute_result"
    }
   ],
   "source": [
    "features_sorted_by_importance = np.argsort(experiment.model.feature_importances_)[::-1]\n",
    "features_sorted_by_importance"
   ]
  },
  {
   "cell_type": "code",
   "execution_count": 12,
   "metadata": {},
   "outputs": [],
   "source": [
    "simulation_dir = \"./simulation/fig1a-6561\"\n",
    "experiment_name = \"2\"\n",
    "experiment = Experiment(simulation_dir, experiment_name)"
   ]
  },
  {
   "cell_type": "code",
   "execution_count": 13,
   "metadata": {},
   "outputs": [
    {
     "data": {
      "text/plain": [
       "array([ 0,  3, 50, 51,  1, 99, 98, 11, 35, 95, 91, 71, 53,  2, 59, 76, 79,\n",
       "       19, 43, 83,  7, 75, 55,  4, 67, 47, 62, 46, 87, 84, 77, 58, 74, 18,\n",
       "        6, 42, 82, 31, 48, 54, 65, 96, 27, 94, 23, 68, 44, 22,  5, 16, 90,\n",
       "       69, 86, 66,  8, 28, 34, 26, 10, 36, 14, 73, 61, 52, 80, 38, 12, 64,\n",
       "       70, 40, 92, 41, 88, 78, 97, 24, 20, 29, 72, 32, 56, 30, 25, 93, 33,\n",
       "       60, 17, 37, 63, 15, 81,  9, 57, 21, 85, 45, 89, 49, 13, 39])"
      ]
     },
     "execution_count": 13,
     "metadata": {},
     "output_type": "execute_result"
    }
   ],
   "source": [
    "features_sorted_by_importance = np.argsort(experiment.model.feature_importances_)[::-1]\n",
    "features_sorted_by_importance"
   ]
  },
  {
   "cell_type": "code",
   "execution_count": 14,
   "metadata": {},
   "outputs": [],
   "source": [
    "simulation_dir = \"./simulation/fig1a-6561\"\n",
    "experiment_name = \"3\"\n",
    "experiment = Experiment(simulation_dir, experiment_name)"
   ]
  },
  {
   "cell_type": "code",
   "execution_count": 15,
   "metadata": {},
   "outputs": [
    {
     "data": {
      "text/plain": [
       "array([ 0, 50,  3, 51,  1, 99, 75, 89, 95, 35, 59, 23,  7, 27,  4, 25, 93,\n",
       "       79, 15, 19, 67, 69, 97, 98, 55, 71, 43, 31,  5, 53, 46, 77, 72, 74,\n",
       "       88, 66, 12, 82, 18, 26, 11, 91, 41, 30, 96,  2, 80, 48, 10, 76, 94,\n",
       "       24, 87, 70, 42, 40, 16, 54, 20, 34, 60, 21, 86, 49, 63, 83, 56, 39,\n",
       "       92, 52,  8, 14, 44,  6, 13, 38, 29, 65, 57, 28, 64, 68, 36, 45, 22,\n",
       "       32, 58, 84, 62, 90, 85, 78, 61, 17,  9, 33, 81, 47, 37, 73])"
      ]
     },
     "execution_count": 15,
     "metadata": {},
     "output_type": "execute_result"
    }
   ],
   "source": [
    "features_sorted_by_importance = np.argsort(experiment.model.feature_importances_)[::-1]\n",
    "features_sorted_by_importance"
   ]
  },
  {
   "cell_type": "code",
   "execution_count": 16,
   "metadata": {},
   "outputs": [],
   "source": [
    "simulation_dir = \"./simulation/fig1a-6561\"\n",
    "experiment_name = \"4\"\n",
    "experiment = Experiment(simulation_dir, experiment_name)"
   ]
  },
  {
   "cell_type": "code",
   "execution_count": 17,
   "metadata": {},
   "outputs": [
    {
     "data": {
      "text/plain": [
       "array([51,  0, 53,  3, 50, 99, 43, 35, 83, 19, 55, 49, 31, 85, 27, 91,  1,\n",
       "       47, 70, 48, 73, 14, 98, 75, 95, 59, 46,  7, 88, 82, 54, 11, 15, 90,\n",
       "        5, 71,  4,  2, 30, 67, 13, 12, 68, 37, 40, 52, 60, 77, 92, 96, 32,\n",
       "       29, 34, 23, 16, 26, 24, 87, 10,  8, 45, 20, 61, 22, 38, 56, 72, 18,\n",
       "       58, 86, 41, 76, 25, 21, 42, 36, 84, 89, 97, 44, 79, 94,  9, 63,  6,\n",
       "       93, 57, 78, 33, 28, 81, 62, 74, 64, 17, 66, 65, 80, 39, 69])"
      ]
     },
     "execution_count": 17,
     "metadata": {},
     "output_type": "execute_result"
    }
   ],
   "source": [
    "features_sorted_by_importance = np.argsort(experiment.model.feature_importances_)[::-1]\n",
    "features_sorted_by_importance"
   ]
  },
  {
   "cell_type": "code",
   "execution_count": null,
   "metadata": {},
   "outputs": [],
   "source": [
    "######### feature importances \n",
    "#importances = tree_clf.feature_importances_\n",
    "#sorted_indices = np.argsort(importances)[::-1]\n",
    "#sorted_importances = importances[sorted_indices]\n",
    "#cumulative_importances = np.cumsum(sorted_importances)\n",
    "sorted_indices, sorted_importances, cumulative_importances = \\\n",
    "plot_feature_importances(tree_clf, n_features = \"all\", return_arrays = True)"
   ]
  },
  {
   "cell_type": "code",
   "execution_count": 1,
   "metadata": {},
   "outputs": [
    {
     "ename": "NameError",
     "evalue": "name 'experiment' is not defined",
     "output_type": "error",
     "traceback": [
      "\u001b[0;31m---------------------------------------------------------------------------\u001b[0m",
      "\u001b[0;31mNameError\u001b[0m                                 Traceback (most recent call last)",
      "\u001b[0;32m<ipython-input-1-00566bcfe1d1>\u001b[0m in \u001b[0;36m<module>\u001b[0;34m\u001b[0m\n\u001b[0;32m----> 1\u001b[0;31m \u001b[0mexperiment\u001b[0m\u001b[0;34m.\u001b[0m\u001b[0mmodel\u001b[0m\u001b[0;34m.\u001b[0m\u001b[0mfeature_importances_\u001b[0m\u001b[0;34m\u001b[0m\u001b[0m\n\u001b[0m",
      "\u001b[0;31mNameError\u001b[0m: name 'experiment' is not defined"
     ]
    }
   ],
   "source": [
    "experiment.model.feature_importances_"
   ]
  },
  {
   "cell_type": "code",
   "execution_count": null,
   "metadata": {},
   "outputs": [],
   "source": [
    "a = np.array([])\n",
    "b =  np.array([1,2,3])\n",
    "c = np.vstack"
   ]
  },
  {
   "cell_type": "code",
   "execution_count": 8,
   "metadata": {},
   "outputs": [
    {
     "data": {
      "text/plain": [
       "array([2.5, 3.5, 4.5])"
      ]
     },
     "execution_count": 8,
     "metadata": {},
     "output_type": "execute_result"
    }
   ],
   "source": [
    "ar = np.array([[1,2,3], [4,5,6]])\n",
    "ar2 = [np.array([1,2,3]), np.array([4,5,6])]\n",
    "np.mean(ar2,axis = 0)"
   ]
  },
  {
   "cell_type": "code",
   "execution_count": 9,
   "metadata": {},
   "outputs": [
    {
     "data": {
      "text/plain": [
       "array([2.5, 3.5, 4.5])"
      ]
     },
     "execution_count": 9,
     "metadata": {},
     "output_type": "execute_result"
    }
   ],
   "source": [
    "np.mean(ar2,axis = 0)"
   ]
  },
  {
   "cell_type": "code",
   "execution_count": null,
   "metadata": {},
   "outputs": [],
   "source": []
  }
 ],
 "metadata": {
  "kernelspec": {
   "display_name": "Python 3",
   "language": "python",
   "name": "python3"
  },
  "language_info": {
   "codemirror_mode": {
    "name": "ipython",
    "version": 3
   },
   "file_extension": ".py",
   "mimetype": "text/x-python",
   "name": "python",
   "nbconvert_exporter": "python",
   "pygments_lexer": "ipython3",
   "version": "3.7.3"
  }
 },
 "nbformat": 4,
 "nbformat_minor": 2
}
