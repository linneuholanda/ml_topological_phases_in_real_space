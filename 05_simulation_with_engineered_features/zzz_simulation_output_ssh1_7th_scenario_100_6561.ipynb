{
 "cells": [
  {
   "cell_type": "markdown",
   "metadata": {
    "papermill": {
     "duration": 0.053609,
     "end_time": "2020-07-09T18:32:18.424025",
     "exception": false,
     "start_time": "2020-07-09T18:32:18.370416",
     "status": "completed"
    },
    "tags": []
   },
   "source": [
    "# Simulation template \n",
    "\n",
    "In this notebook we run the machine learning analysis of topological phase transitions occurring  in both nearest-neighbours SSH models (ssh1) and second neighbours models (ssh2) as decribed in the paper [Machine learning topological phases in real space](https://arxiv.org/abs/1901.01963). Here the simulation is run with features generated from fourier components in the first scenario. This scenario is characterized by using only the EVEN wavevector space eigenmodes, computed from ALL real space components."
   ]
  },
  {
   "cell_type": "markdown",
   "metadata": {
    "papermill": {
     "duration": 0.01492,
     "end_time": "2020-07-09T18:32:18.458549",
     "exception": false,
     "start_time": "2020-07-09T18:32:18.443629",
     "status": "completed"
    },
    "tags": []
   },
   "source": [
    "## Defining parameters"
   ]
  },
  {
   "cell_type": "code",
   "execution_count": 1,
   "metadata": {
    "execution": {
     "iopub.execute_input": "2020-07-09T18:32:18.494327Z",
     "iopub.status.busy": "2020-07-09T18:32:18.493994Z",
     "iopub.status.idle": "2020-07-09T18:32:19.083649Z",
     "shell.execute_reply": "2020-07-09T18:32:19.083905Z"
    },
    "papermill": {
     "duration": 0.609883,
     "end_time": "2020-07-09T18:32:19.083972",
     "exception": false,
     "start_time": "2020-07-09T18:32:18.474089",
     "status": "completed"
    },
    "tags": []
   },
   "outputs": [
    {
     "name": "stdout",
     "output_type": "stream",
     "text": [
      "CPU times: user 768 ms, sys: 254 ms, total: 1.02 s\n",
      "Wall time: 584 ms\n"
     ]
    }
   ],
   "source": [
    "%%time\n",
    "%load_ext autoreload\n",
    "%autoreload 2\n",
    "from simulation import *"
   ]
  },
  {
   "cell_type": "code",
   "execution_count": 2,
   "metadata": {
    "execution": {
     "iopub.execute_input": "2020-07-09T18:32:19.118033Z",
     "iopub.status.busy": "2020-07-09T18:32:19.117679Z",
     "iopub.status.idle": "2020-07-09T18:32:19.128553Z",
     "shell.execute_reply": "2020-07-09T18:32:19.128857Z"
    },
    "papermill": {
     "duration": 0.028868,
     "end_time": "2020-07-09T18:32:19.128923",
     "exception": false,
     "start_time": "2020-07-09T18:32:19.100055",
     "status": "completed"
    },
    "tags": [
     "parameters"
    ]
   },
   "outputs": [
    {
     "name": "stdout",
     "output_type": "stream",
     "text": [
      "CPU times: user 3 µs, sys: 1e+03 ns, total: 4 µs\n",
      "Wall time: 4.53 µs\n"
     ]
    }
   ],
   "source": [
    "%%time\n",
    "### Dataset and simulation parameters\n",
    "#csv_path = SSH2_PERIODIC_100_6561_CSV \n",
    "csv_path = SSH1_PERIODIC_100_6561_CSV \n",
    "model_name = \"DecisionTreeClassifier\"\n",
    "model_kw = {\"criterion\":\"entropy\"}\n",
    "allowed_windings = [0,1]\n",
    "#allowed_windings = [-1,0,1,2]\n",
    "simulation_dir = SSH1_PERIODIC_1ST_SCENARIO_100_6561_SIMULATION_DIR\n",
    "#simulation_dir = SSH2_PERIODIC_ENGINEERED_100_6561_SIMULATION_DIR\n",
    "val_split = 0.9  \n",
    "features_to_use = None\n",
    "shuffle_features = False\n",
    "random_state = 763\n",
    "\n",
    "### Fourier features\n",
    "fourier_mode = \"dft\"\n",
    "fourier_features_to_use = None\n",
    "fourier_real = \"real\"\n",
    "fourier_normalize = True\n",
    "fourier_fillna = False\n",
    "\n",
    "### Running a simulation\n",
    "n_experiments = 5\n",
    "start_n = 0\n",
    "fit_params = None\n",
    "#mode=mode\n",
    "shuffle_rows = True\n",
    "pred_params = None\n",
    "random_features = False\n",
    "######### DON'T SET THIS TO TRUE UNLESS YOUR DATASET IS SMALL!! WILL FLOOD YOUR MEMORY!!!\n",
    "store_in_lists = False   \n",
    "########## BELOW ARE THE PARAMETERS THAT CONTROL WHAT WILL BE SAVED\n",
    "save_eigenvector=True\n",
    "save_hamiltonian=True \n",
    "save_accuracy=True \n",
    "save_models=True"
   ]
  },
  {
   "cell_type": "code",
   "execution_count": 3,
   "metadata": {
    "execution": {
     "iopub.execute_input": "2020-07-09T18:32:19.162610Z",
     "iopub.status.busy": "2020-07-09T18:32:19.161343Z",
     "iopub.status.idle": "2020-07-09T18:32:19.266698Z",
     "shell.execute_reply": "2020-07-09T18:32:19.264936Z"
    },
    "papermill": {
     "duration": 0.122366,
     "end_time": "2020-07-09T18:32:19.266945",
     "exception": false,
     "start_time": "2020-07-09T18:32:19.144579",
     "status": "completed"
    },
    "tags": [
     "injected-parameters"
    ]
   },
   "outputs": [],
   "source": [
    "# Parameters\n",
    "model_kw = {\"criterion\": \"entropy\"}\n",
    "allowed_windings = [0, 1]\n",
    "val_split = 0.9\n",
    "features_to_use = None\n",
    "shuffle_features = False\n",
    "n_experiments = 100\n",
    "start_n = 0\n",
    "fit_params = None\n",
    "shuffle_rows = True\n",
    "pred_params = None\n",
    "random_features = False\n",
    "store_in_lists = False\n",
    "save_eigenvector = True\n",
    "save_hamiltonian = True\n",
    "save_accuracy = True\n",
    "save_models = True\n",
    "csv_path = \"/home/rio/ssh_csvs/ssh1/periodic_100_6561.csv\"\n",
    "model_name = \"DecisionTreeClassifier\"\n",
    "simulation_dir = \"/home/rio/ssh_simulations/ssh1/periodic_7th_scenario_100_6561\"\n",
    "random_state = 34896\n",
    "fourier_features_to_use = [0, 2, 4, 6, 8, 50]\n",
    "fourier_mode = \"dct\"\n",
    "fourier_real = None\n",
    "fourier_normalize = False\n",
    "fourier_fillna = False\n",
    "normalize = False\n",
    "fillna = False\n"
   ]
  },
  {
   "cell_type": "code",
   "execution_count": 4,
   "metadata": {
    "execution": {
     "iopub.execute_input": "2020-07-09T18:32:19.338124Z",
     "iopub.status.busy": "2020-07-09T18:32:19.337616Z",
     "iopub.status.idle": "2020-07-09T18:32:24.892971Z",
     "shell.execute_reply": "2020-07-09T18:32:24.893285Z"
    },
    "papermill": {
     "duration": 5.578178,
     "end_time": "2020-07-09T18:32:24.893352",
     "exception": false,
     "start_time": "2020-07-09T18:32:19.315174",
     "status": "completed"
    },
    "tags": []
   },
   "outputs": [
    {
     "name": "stdout",
     "output_type": "stream",
     "text": [
      "Info on all data: \n",
      "\n",
      "<class 'pandas.core.frame.DataFrame'>\n",
      "Int64Index: 656100 entries, 0 to 656099\n",
      "Columns: 108 entries, id to feat99\n",
      "dtypes: float64(103), int32(3), object(2)\n",
      "memory usage: 538.1+ MB\n",
      "CPU times: user 5.67 s, sys: 522 ms, total: 6.2 s\n",
      "Wall time: 5.53 s\n"
     ]
    },
    {
     "data": {
      "text/html": [
       "<div>\n",
       "<style scoped>\n",
       "    .dataframe tbody tr th:only-of-type {\n",
       "        vertical-align: middle;\n",
       "    }\n",
       "\n",
       "    .dataframe tbody tr th {\n",
       "        vertical-align: top;\n",
       "    }\n",
       "\n",
       "    .dataframe thead th {\n",
       "        text-align: right;\n",
       "    }\n",
       "</style>\n",
       "<table border=\"1\" class=\"dataframe\">\n",
       "  <thead>\n",
       "    <tr style=\"text-align: right;\">\n",
       "      <th></th>\n",
       "      <th>id</th>\n",
       "      <th>path</th>\n",
       "      <th>t1</th>\n",
       "      <th>t2</th>\n",
       "      <th>winding</th>\n",
       "      <th>phase</th>\n",
       "      <th>pred_phase</th>\n",
       "      <th>type_of</th>\n",
       "      <th>feat0</th>\n",
       "      <th>feat1</th>\n",
       "      <th>...</th>\n",
       "      <th>feat90</th>\n",
       "      <th>feat91</th>\n",
       "      <th>feat92</th>\n",
       "      <th>feat93</th>\n",
       "      <th>feat94</th>\n",
       "      <th>feat95</th>\n",
       "      <th>feat96</th>\n",
       "      <th>feat97</th>\n",
       "      <th>feat98</th>\n",
       "      <th>feat99</th>\n",
       "    </tr>\n",
       "  </thead>\n",
       "  <tbody>\n",
       "    <tr>\n",
       "      <th>0</th>\n",
       "      <td>0</td>\n",
       "      <td>H_-2_-2_0.509296.dat</td>\n",
       "      <td>-2.0</td>\n",
       "      <td>-2.0</td>\n",
       "      <td>0.509296</td>\n",
       "      <td>999</td>\n",
       "      <td>666</td>\n",
       "      <td>test</td>\n",
       "      <td>0.100000</td>\n",
       "      <td>0.100000</td>\n",
       "      <td>...</td>\n",
       "      <td>0.100000</td>\n",
       "      <td>0.100000</td>\n",
       "      <td>0.100000</td>\n",
       "      <td>0.100000</td>\n",
       "      <td>0.100000</td>\n",
       "      <td>0.100000</td>\n",
       "      <td>0.100000</td>\n",
       "      <td>0.100000</td>\n",
       "      <td>0.100000</td>\n",
       "      <td>0.100000</td>\n",
       "    </tr>\n",
       "    <tr>\n",
       "      <th>1</th>\n",
       "      <td>0</td>\n",
       "      <td>H_-2_-2_0.509296.dat</td>\n",
       "      <td>-2.0</td>\n",
       "      <td>-2.0</td>\n",
       "      <td>0.509296</td>\n",
       "      <td>999</td>\n",
       "      <td>666</td>\n",
       "      <td>test</td>\n",
       "      <td>0.141421</td>\n",
       "      <td>0.141142</td>\n",
       "      <td>...</td>\n",
       "      <td>0.114412</td>\n",
       "      <td>0.108967</td>\n",
       "      <td>0.123928</td>\n",
       "      <td>0.119406</td>\n",
       "      <td>0.131490</td>\n",
       "      <td>0.127962</td>\n",
       "      <td>0.136978</td>\n",
       "      <td>0.134500</td>\n",
       "      <td>0.140306</td>\n",
       "      <td>0.138916</td>\n",
       "    </tr>\n",
       "    <tr>\n",
       "      <th>2</th>\n",
       "      <td>0</td>\n",
       "      <td>H_-2_-2_0.509296.dat</td>\n",
       "      <td>-2.0</td>\n",
       "      <td>-2.0</td>\n",
       "      <td>0.509296</td>\n",
       "      <td>999</td>\n",
       "      <td>666</td>\n",
       "      <td>test</td>\n",
       "      <td>0.141421</td>\n",
       "      <td>0.140306</td>\n",
       "      <td>...</td>\n",
       "      <td>0.043702</td>\n",
       "      <td>0.026500</td>\n",
       "      <td>0.075777</td>\n",
       "      <td>0.060214</td>\n",
       "      <td>0.103092</td>\n",
       "      <td>0.090145</td>\n",
       "      <td>0.123928</td>\n",
       "      <td>0.114412</td>\n",
       "      <td>0.136978</td>\n",
       "      <td>0.131490</td>\n",
       "    </tr>\n",
       "    <tr>\n",
       "      <th>3</th>\n",
       "      <td>0</td>\n",
       "      <td>H_-2_-2_0.509296.dat</td>\n",
       "      <td>-2.0</td>\n",
       "      <td>-2.0</td>\n",
       "      <td>0.509296</td>\n",
       "      <td>999</td>\n",
       "      <td>666</td>\n",
       "      <td>test</td>\n",
       "      <td>-0.100000</td>\n",
       "      <td>0.100000</td>\n",
       "      <td>...</td>\n",
       "      <td>-0.100000</td>\n",
       "      <td>0.100000</td>\n",
       "      <td>-0.100000</td>\n",
       "      <td>0.100000</td>\n",
       "      <td>-0.100000</td>\n",
       "      <td>0.100000</td>\n",
       "      <td>-0.100000</td>\n",
       "      <td>0.100000</td>\n",
       "      <td>-0.100000</td>\n",
       "      <td>0.100000</td>\n",
       "    </tr>\n",
       "    <tr>\n",
       "      <th>4</th>\n",
       "      <td>0</td>\n",
       "      <td>H_-2_-2_0.509296.dat</td>\n",
       "      <td>-2.0</td>\n",
       "      <td>-2.0</td>\n",
       "      <td>0.509296</td>\n",
       "      <td>999</td>\n",
       "      <td>666</td>\n",
       "      <td>test</td>\n",
       "      <td>0.000509</td>\n",
       "      <td>-0.008372</td>\n",
       "      <td>...</td>\n",
       "      <td>-0.082713</td>\n",
       "      <td>-0.089753</td>\n",
       "      <td>-0.067684</td>\n",
       "      <td>-0.075347</td>\n",
       "      <td>-0.051587</td>\n",
       "      <td>-0.059753</td>\n",
       "      <td>-0.034677</td>\n",
       "      <td>-0.043217</td>\n",
       "      <td>-0.017220</td>\n",
       "      <td>-0.026000</td>\n",
       "    </tr>\n",
       "  </tbody>\n",
       "</table>\n",
       "<p>5 rows × 108 columns</p>\n",
       "</div>"
      ],
      "text/plain": [
       "   id                  path   t1   t2   winding  phase  pred_phase type_of  \\\n",
       "0   0  H_-2_-2_0.509296.dat -2.0 -2.0  0.509296    999         666    test   \n",
       "1   0  H_-2_-2_0.509296.dat -2.0 -2.0  0.509296    999         666    test   \n",
       "2   0  H_-2_-2_0.509296.dat -2.0 -2.0  0.509296    999         666    test   \n",
       "3   0  H_-2_-2_0.509296.dat -2.0 -2.0  0.509296    999         666    test   \n",
       "4   0  H_-2_-2_0.509296.dat -2.0 -2.0  0.509296    999         666    test   \n",
       "\n",
       "      feat0     feat1  ...    feat90    feat91    feat92    feat93    feat94  \\\n",
       "0  0.100000  0.100000  ...  0.100000  0.100000  0.100000  0.100000  0.100000   \n",
       "1  0.141421  0.141142  ...  0.114412  0.108967  0.123928  0.119406  0.131490   \n",
       "2  0.141421  0.140306  ...  0.043702  0.026500  0.075777  0.060214  0.103092   \n",
       "3 -0.100000  0.100000  ... -0.100000  0.100000 -0.100000  0.100000 -0.100000   \n",
       "4  0.000509 -0.008372  ... -0.082713 -0.089753 -0.067684 -0.075347 -0.051587   \n",
       "\n",
       "     feat95    feat96    feat97    feat98    feat99  \n",
       "0  0.100000  0.100000  0.100000  0.100000  0.100000  \n",
       "1  0.127962  0.136978  0.134500  0.140306  0.138916  \n",
       "2  0.090145  0.123928  0.114412  0.136978  0.131490  \n",
       "3  0.100000 -0.100000  0.100000 -0.100000  0.100000  \n",
       "4 -0.059753 -0.034677 -0.043217 -0.017220 -0.026000  \n",
       "\n",
       "[5 rows x 108 columns]"
      ]
     },
     "execution_count": 4,
     "metadata": {},
     "output_type": "execute_result"
    }
   ],
   "source": [
    "%%time\n",
    "#Starting an instance of Simulation with a decision tree\n",
    "model = DecisionTreeClassifier(criterion=\"entropy\")\n",
    "#dict_args = {\"csv_path\":csv_path, \"model\":model, \"allowed_windings\":allowed_windings,\\\n",
    "#             \"simulation_dir\":simulation_dir, \"val_split\":val_split, \"features_to_use\":features_to_use,\\\n",
    "#            \"shuffle_features\":shuffle_features, \"random_state\":random_state}\n",
    "simulation = Simulation(csv_path,model_name,model_kw,allowed_windings,simulation_dir,val_split,features_to_use,\\\n",
    "                       shuffle_features,fourier_mode,fourier_features_to_use,fourier_real,\\\n",
    "                       fourier_normalize, fourier_fillna , random_state)\n",
    "#simulation = Simulation(**dict_args)\n",
    "\n",
    "\n",
    "#(self, csv_path, model_name, model_kw, allowed_windings, simulation_dir = None, val_split = 0, \n",
    "# features_to_use = None, shuffle_features = False, fourier_mode=None, fourier_features_to_use=None,\n",
    "# fourier_real = False, fourier_normalize = False, Fourier_fillna=False, random_state = None):\n",
    "\n",
    "\n",
    "\n",
    "print(\"Info on all data: \\n\")\n",
    "simulation.dataframe.info()\n",
    "simulation.dataframe.head()"
   ]
  },
  {
   "cell_type": "markdown",
   "metadata": {
    "papermill": {
     "duration": 0.018007,
     "end_time": "2020-07-09T18:32:24.928144",
     "exception": false,
     "start_time": "2020-07-09T18:32:24.910137",
     "status": "completed"
    },
    "tags": []
   },
   "source": [
    "####  Fourier features"
   ]
  },
  {
   "cell_type": "code",
   "execution_count": 5,
   "metadata": {
    "execution": {
     "iopub.execute_input": "2020-07-09T18:32:24.963172Z",
     "iopub.status.busy": "2020-07-09T18:32:24.962833Z",
     "iopub.status.idle": "2020-07-09T18:32:25.047431Z",
     "shell.execute_reply": "2020-07-09T18:32:25.047105Z"
    },
    "papermill": {
     "duration": 0.102388,
     "end_time": "2020-07-09T18:32:25.047482",
     "exception": false,
     "start_time": "2020-07-09T18:32:24.945094",
     "status": "completed"
    },
    "tags": []
   },
   "outputs": [
    {
     "name": "stdout",
     "output_type": "stream",
     "text": [
      "<class 'pandas.core.frame.DataFrame'>\n",
      "Int64Index: 656100 entries, 0 to 656099\n",
      "Data columns (total 14 columns):\n",
      " #   Column      Non-Null Count   Dtype  \n",
      "---  ------      --------------   -----  \n",
      " 0   id          656100 non-null  int32  \n",
      " 1   path        656100 non-null  object \n",
      " 2   t1          656100 non-null  float64\n",
      " 3   t2          656100 non-null  float64\n",
      " 4   winding     656100 non-null  float64\n",
      " 5   phase       656100 non-null  int32  \n",
      " 6   pred_phase  656100 non-null  int32  \n",
      " 7   type_of     656100 non-null  object \n",
      " 8   dct_feat0   656100 non-null  float64\n",
      " 9   dct_feat2   656100 non-null  float64\n",
      " 10  dct_feat4   656100 non-null  float64\n",
      " 11  dct_feat6   656100 non-null  float64\n",
      " 12  dct_feat8   656100 non-null  float64\n",
      " 13  dct_feat50  656100 non-null  float64\n",
      "dtypes: float64(9), int32(3), object(2)\n",
      "memory usage: 67.6+ MB\n",
      "CPU times: user 74.7 ms, sys: 0 ns, total: 74.7 ms\n",
      "Wall time: 74.1 ms\n"
     ]
    }
   ],
   "source": [
    "%%time\n",
    "#simulation.generate_fourier_df()\n",
    "if simulation.fourier_mode is not None:\n",
    "    simulation.fourier_dataframe.info() \n",
    "    simulation.fourier_dataframe.sample(15)\n"
   ]
  },
  {
   "cell_type": "code",
   "execution_count": 6,
   "metadata": {
    "execution": {
     "iopub.execute_input": "2020-07-09T18:32:25.083603Z",
     "iopub.status.busy": "2020-07-09T18:32:25.083258Z",
     "iopub.status.idle": "2020-07-09T18:32:25.094240Z",
     "shell.execute_reply": "2020-07-09T18:32:25.094565Z"
    },
    "papermill": {
     "duration": 0.030181,
     "end_time": "2020-07-09T18:32:25.094631",
     "exception": false,
     "start_time": "2020-07-09T18:32:25.064450",
     "status": "completed"
    },
    "tags": []
   },
   "outputs": [
    {
     "name": "stdout",
     "output_type": "stream",
     "text": [
      "features_to_use: \n",
      "\n",
      "\n",
      "None\n",
      "\n",
      "\n",
      "fourier_features: \n",
      "\n",
      "\n",
      "['dct_feat0', 'dct_feat2', 'dct_feat4', 'dct_feat6', 'dct_feat8', 'dct_feat50']\n",
      "\n",
      "\n",
      "Number of Fourier features: \n",
      "\n",
      "\n",
      "6\n"
     ]
    }
   ],
   "source": [
    "print(\"features_to_use: \")\n",
    "print(\"\\n\")\n",
    "print(simulation.features_to_use)\n",
    "if simulation.features_to_use is not None:\n",
    "    print(\"Number of real space features:\")\n",
    "    print(\"\\n\")\n",
    "    print(len(simulation.features_to_use))\n",
    "print(\"\\n\")\n",
    "print(\"fourier_features: \")\n",
    "print(\"\\n\")\n",
    "print(simulation.fourier_features)\n",
    "print(\"\\n\")\n",
    "if simulation.fourier_features is not None:\n",
    "    print(\"Number of Fourier features: \")\n",
    "    print(\"\\n\")\n",
    "    print(len(simulation.fourier_features))"
   ]
  },
  {
   "cell_type": "code",
   "execution_count": 7,
   "metadata": {
    "execution": {
     "iopub.execute_input": "2020-07-09T18:32:25.129686Z",
     "iopub.status.busy": "2020-07-09T18:32:25.129375Z",
     "iopub.status.idle": "2020-07-09T18:32:25.179838Z",
     "shell.execute_reply": "2020-07-09T18:32:25.179383Z"
    },
    "papermill": {
     "duration": 0.068517,
     "end_time": "2020-07-09T18:32:25.179906",
     "exception": false,
     "start_time": "2020-07-09T18:32:25.111389",
     "status": "completed"
    },
    "tags": []
   },
   "outputs": [],
   "source": [
    "#simulation.dataframe.iloc[331456,:]"
   ]
  },
  {
   "cell_type": "code",
   "execution_count": 8,
   "metadata": {
    "execution": {
     "iopub.execute_input": "2020-07-09T18:32:25.228372Z",
     "iopub.status.busy": "2020-07-09T18:32:25.228023Z",
     "iopub.status.idle": "2020-07-09T18:32:25.279320Z",
     "shell.execute_reply": "2020-07-09T18:32:25.277559Z"
    },
    "papermill": {
     "duration": 0.073991,
     "end_time": "2020-07-09T18:32:25.279647",
     "exception": false,
     "start_time": "2020-07-09T18:32:25.205656",
     "status": "completed"
    },
    "tags": []
   },
   "outputs": [],
   "source": [
    "#for ix, obj in enumerate(simulation.dataframe.iloc[331456,:].values):\n",
    "#    print(ix,obj)"
   ]
  },
  {
   "cell_type": "code",
   "execution_count": 9,
   "metadata": {
    "execution": {
     "iopub.execute_input": "2020-07-09T18:32:25.358626Z",
     "iopub.status.busy": "2020-07-09T18:32:25.358289Z",
     "iopub.status.idle": "2020-07-09T18:32:25.368455Z",
     "shell.execute_reply": "2020-07-09T18:32:25.368100Z"
    },
    "papermill": {
     "duration": 0.032132,
     "end_time": "2020-07-09T18:32:25.368507",
     "exception": false,
     "start_time": "2020-07-09T18:32:25.336375",
     "status": "completed"
    },
    "tags": []
   },
   "outputs": [],
   "source": [
    "#simulation.fourier_engineered_dataframe.dct_feat0"
   ]
  },
  {
   "cell_type": "code",
   "execution_count": 10,
   "metadata": {
    "execution": {
     "iopub.execute_input": "2020-07-09T18:32:25.403585Z",
     "iopub.status.busy": "2020-07-09T18:32:25.403280Z",
     "iopub.status.idle": "2020-07-09T18:32:25.463223Z",
     "shell.execute_reply": "2020-07-09T18:32:25.461196Z"
    },
    "papermill": {
     "duration": 0.078434,
     "end_time": "2020-07-09T18:32:25.463486",
     "exception": false,
     "start_time": "2020-07-09T18:32:25.385052",
     "status": "completed"
    },
    "tags": []
   },
   "outputs": [],
   "source": [
    "#simulation.features"
   ]
  },
  {
   "cell_type": "code",
   "execution_count": 11,
   "metadata": {
    "execution": {
     "iopub.execute_input": "2020-07-09T18:32:25.538748Z",
     "iopub.status.busy": "2020-07-09T18:32:25.538430Z",
     "iopub.status.idle": "2020-07-09T18:32:25.548879Z",
     "shell.execute_reply": "2020-07-09T18:32:25.548540Z"
    },
    "papermill": {
     "duration": 0.032648,
     "end_time": "2020-07-09T18:32:25.548931",
     "exception": false,
     "start_time": "2020-07-09T18:32:25.516283",
     "status": "completed"
    },
    "tags": []
   },
   "outputs": [],
   "source": [
    "#simulation.fourier_matrix"
   ]
  },
  {
   "cell_type": "code",
   "execution_count": 12,
   "metadata": {
    "execution": {
     "iopub.execute_input": "2020-07-09T18:32:25.583679Z",
     "iopub.status.busy": "2020-07-09T18:32:25.583375Z",
     "iopub.status.idle": "2020-07-09T18:32:25.663822Z",
     "shell.execute_reply": "2020-07-09T18:32:25.664825Z"
    },
    "papermill": {
     "duration": 0.09966,
     "end_time": "2020-07-09T18:32:25.665049",
     "exception": false,
     "start_time": "2020-07-09T18:32:25.565389",
     "status": "completed"
    },
    "tags": []
   },
   "outputs": [],
   "source": [
    "#1/simulation.n_features*simulation.dataframe.loc[:,simulation.features].sum(axis=1)"
   ]
  },
  {
   "cell_type": "code",
   "execution_count": 13,
   "metadata": {
    "execution": {
     "iopub.execute_input": "2020-07-09T18:32:25.740712Z",
     "iopub.status.busy": "2020-07-09T18:32:25.740379Z",
     "iopub.status.idle": "2020-07-09T18:32:25.751104Z",
     "shell.execute_reply": "2020-07-09T18:32:25.750764Z"
    },
    "papermill": {
     "duration": 0.032348,
     "end_time": "2020-07-09T18:32:25.751158",
     "exception": false,
     "start_time": "2020-07-09T18:32:25.718810",
     "status": "completed"
    },
    "tags": []
   },
   "outputs": [],
   "source": [
    "#df_2 = simulation.fourier_engineered_dataframe[simulation.fourier_engineered_dataframe.phase==2]\n",
    "#df_2.describe()"
   ]
  },
  {
   "cell_type": "code",
   "execution_count": 14,
   "metadata": {
    "execution": {
     "iopub.execute_input": "2020-07-09T18:32:25.786036Z",
     "iopub.status.busy": "2020-07-09T18:32:25.785732Z",
     "iopub.status.idle": "2020-07-09T18:32:25.847443Z",
     "shell.execute_reply": "2020-07-09T18:32:25.846829Z"
    },
    "papermill": {
     "duration": 0.080037,
     "end_time": "2020-07-09T18:32:25.847533",
     "exception": false,
     "start_time": "2020-07-09T18:32:25.767496",
     "status": "completed"
    },
    "tags": []
   },
   "outputs": [],
   "source": [
    "#df_1 = simulation.fourier_engineered_dataframe[simulation.fourier_engineered_dataframe.phase==1]\n",
    "#df_1.describe()"
   ]
  },
  {
   "cell_type": "code",
   "execution_count": 15,
   "metadata": {
    "execution": {
     "iopub.execute_input": "2020-07-09T18:32:25.912912Z",
     "iopub.status.busy": "2020-07-09T18:32:25.912604Z",
     "iopub.status.idle": "2020-07-09T18:32:25.922723Z",
     "shell.execute_reply": "2020-07-09T18:32:25.922384Z"
    },
    "papermill": {
     "duration": 0.033404,
     "end_time": "2020-07-09T18:32:25.922777",
     "exception": false,
     "start_time": "2020-07-09T18:32:25.889373",
     "status": "completed"
    },
    "tags": []
   },
   "outputs": [],
   "source": [
    "#df_0 = simulation.fourier_engineered_dataframe[simulation.fourier_engineered_dataframe.phase==0]\n",
    "#df_0.describe()"
   ]
  },
  {
   "cell_type": "code",
   "execution_count": 16,
   "metadata": {
    "execution": {
     "iopub.execute_input": "2020-07-09T18:32:25.957498Z",
     "iopub.status.busy": "2020-07-09T18:32:25.957193Z",
     "iopub.status.idle": "2020-07-09T18:32:26.013321Z",
     "shell.execute_reply": "2020-07-09T18:32:26.010894Z"
    },
    "papermill": {
     "duration": 0.074465,
     "end_time": "2020-07-09T18:32:26.013582",
     "exception": false,
     "start_time": "2020-07-09T18:32:25.939117",
     "status": "completed"
    },
    "tags": []
   },
   "outputs": [],
   "source": [
    "#plt.figure(figsize=(10,10))\n",
    "#plt.scatter(df_1.fourier_feat0,df_1.fourier_feat2)\n",
    "#plt.scatter(df_0.fourier_feat0,df_0.fourier_feat2,alpha=0.4)"
   ]
  },
  {
   "cell_type": "code",
   "execution_count": 17,
   "metadata": {
    "execution": {
     "iopub.execute_input": "2020-07-09T18:32:26.084465Z",
     "iopub.status.busy": "2020-07-09T18:32:26.084157Z",
     "iopub.status.idle": "2020-07-09T18:32:26.093917Z",
     "shell.execute_reply": "2020-07-09T18:32:26.094180Z"
    },
    "papermill": {
     "duration": 0.031351,
     "end_time": "2020-07-09T18:32:26.094251",
     "exception": false,
     "start_time": "2020-07-09T18:32:26.062900",
     "status": "completed"
    },
    "tags": []
   },
   "outputs": [],
   "source": [
    "#plt.scatter(df_0.fourier_feat0,df_0.fourier_feat2,alpha=0.4)"
   ]
  },
  {
   "cell_type": "code",
   "execution_count": 18,
   "metadata": {
    "execution": {
     "iopub.execute_input": "2020-07-09T18:32:26.130793Z",
     "iopub.status.busy": "2020-07-09T18:32:26.130487Z",
     "iopub.status.idle": "2020-07-09T18:32:26.149176Z",
     "shell.execute_reply": "2020-07-09T18:32:26.149542Z"
    },
    "papermill": {
     "duration": 0.03824,
     "end_time": "2020-07-09T18:32:26.149624",
     "exception": false,
     "start_time": "2020-07-09T18:32:26.111384",
     "status": "completed"
    },
    "tags": []
   },
   "outputs": [],
   "source": [
    "#plt.scatter(df_2.fourier_feat0,df_2.fourier_feat2)"
   ]
  },
  {
   "cell_type": "code",
   "execution_count": 19,
   "metadata": {
    "execution": {
     "iopub.execute_input": "2020-07-09T18:32:26.187641Z",
     "iopub.status.busy": "2020-07-09T18:32:26.187337Z",
     "iopub.status.idle": "2020-07-09T18:32:26.255540Z",
     "shell.execute_reply": "2020-07-09T18:32:26.254928Z"
    },
    "papermill": {
     "duration": 0.087667,
     "end_time": "2020-07-09T18:32:26.255631",
     "exception": false,
     "start_time": "2020-07-09T18:32:26.167964",
     "status": "completed"
    },
    "tags": []
   },
   "outputs": [],
   "source": [
    "#df_1.hist(figsize=(15,15))"
   ]
  },
  {
   "cell_type": "code",
   "execution_count": 20,
   "metadata": {
    "execution": {
     "iopub.execute_input": "2020-07-09T18:32:26.427277Z",
     "iopub.status.busy": "2020-07-09T18:32:26.425583Z",
     "iopub.status.idle": "2020-07-09T18:32:26.496324Z",
     "shell.execute_reply": "2020-07-09T18:32:26.494078Z"
    },
    "papermill": {
     "duration": 0.20489,
     "end_time": "2020-07-09T18:32:26.496606",
     "exception": false,
     "start_time": "2020-07-09T18:32:26.291716",
     "status": "completed"
    },
    "tags": []
   },
   "outputs": [],
   "source": [
    "#df_0.hist(figsize=(15,15))"
   ]
  },
  {
   "cell_type": "markdown",
   "metadata": {
    "papermill": {
     "duration": 0.018906,
     "end_time": "2020-07-09T18:32:26.570115",
     "exception": false,
     "start_time": "2020-07-09T18:32:26.551209",
     "status": "completed"
    },
    "tags": []
   },
   "source": [
    "#### Checking initialization"
   ]
  },
  {
   "cell_type": "code",
   "execution_count": 21,
   "metadata": {
    "execution": {
     "iopub.execute_input": "2020-07-09T18:32:26.605392Z",
     "iopub.status.busy": "2020-07-09T18:32:26.605082Z",
     "iopub.status.idle": "2020-07-09T18:32:26.615872Z",
     "shell.execute_reply": "2020-07-09T18:32:26.615605Z"
    },
    "papermill": {
     "duration": 0.029368,
     "end_time": "2020-07-09T18:32:26.615925",
     "exception": false,
     "start_time": "2020-07-09T18:32:26.586557",
     "status": "completed"
    },
    "tags": []
   },
   "outputs": [
    {
     "name": "stdout",
     "output_type": "stream",
     "text": [
      "n_features:  100\n",
      "n_hamiltonians:  6561\n",
      "n_ts:  2\n",
      "CPU times: user 616 µs, sys: 75 µs, total: 691 µs\n",
      "Wall time: 410 µs\n"
     ]
    }
   ],
   "source": [
    "%%time\n",
    "n_features = simulation.n_features\n",
    "n_hamiltonians = simulation.n_hamiltonians\n",
    "n_ts = simulation.n_ts\n",
    "\n",
    "print(\"n_features: \", n_features)\n",
    "print(\"n_hamiltonians: \", n_hamiltonians)\n",
    "print(\"n_ts: \", n_ts)"
   ]
  },
  {
   "cell_type": "code",
   "execution_count": 22,
   "metadata": {
    "execution": {
     "iopub.execute_input": "2020-07-09T18:32:26.651502Z",
     "iopub.status.busy": "2020-07-09T18:32:26.651187Z",
     "iopub.status.idle": "2020-07-09T18:32:26.925645Z",
     "shell.execute_reply": "2020-07-09T18:32:26.925316Z"
    },
    "papermill": {
     "duration": 0.292894,
     "end_time": "2020-07-09T18:32:26.925701",
     "exception": false,
     "start_time": "2020-07-09T18:32:26.632807",
     "status": "completed"
    },
    "tags": []
   },
   "outputs": [
    {
     "name": "stdout",
     "output_type": "stream",
     "text": [
      "% train:  0.846822130772748\n",
      "% val:  0.0\n",
      "% test:  0.15317786922725193\n",
      "% train + val + test:  1.0\n",
      "\n",
      "\n",
      "number of train hamiltonians:  5556\n",
      "number of val hamiltonians:  0\n",
      "number of test hamiltonians:  1005\n",
      "total number of hamiltonians:  6561\n",
      "\n",
      "\n",
      "train ids:  [9, 10, 11, 12, 13, 14, 15, 16, 17, 18, 19, 20, 21, 22, 23, 24, 25, 26, 27, 28, 29, 30, 31, 32, 33, 34, 35, 36, 37, 38, 39, 40, 41, 42, 43, 44, 45, 46, 47, 48, 49, 50, 51, 52, 53, 54, 55, 56, 57, 58, 59, 60, 61, 62, 63, 64, 65, 66, 67, 68, 69, 70, 71, 72, 73, 74, 75, 76, 77, 91, 92, 93, 94, 95, 96, 97, 98, 99, 100, 101, 102, 103, 104, 105, 106, 107, 108, 109, 110, 111, 112, 113, 114, 115, 116, 117, 118, 119, 120, 121, 122, 123, 124, 125, 126, 127, 128, 129, 130, 131, 132, 133, 134, 135, 136, 137, 138, 139, 140, 141, 142, 143, 144, 145, 146, 147, 148, 149, 150, 151, 152, 153, 154, 155, 156, 157, 172, 173, 174, 175, 176, 177, 178, 179, 180, 181, 182, 183, 184, 185, 186, 187, 188, 189, 190, 191, 192, 193, 194, 195, 196, 197, 198, 199, 200, 201, 202, 203, 204, 205, 206, 207, 208, 209, 210, 211, 212, 213, 214, 215, 216, 217, 218, 219, 220, 221, 222, 223, 224, 225, 226, 227, 228, 229, 230, 231, 232, 233, 234, 235, 236, 237, 254, 255, 256, 257, 258, 259, 260, 261, 262, 263, 264, 265, 266, 267, 268, 269, 270, 271, 272, 273, 274, 275, 276, 277, 278, 279, 280, 281, 282, 283, 284, 285, 286, 287, 288, 289, 290, 291, 292, 293, 294, 295, 296, 297, 298, 299, 300, 301, 302, 303, 304, 305, 306, 307, 308, 309, 310, 311, 312, 313, 314, 315, 316, 317, 323, 336, 337, 338, 339, 340, 341, 342, 343, 344, 345, 346, 347, 348, 349, 350, 351, 352, 353, 354, 355, 356, 357, 358, 359, 360, 361, 362, 363, 364, 365, 366, 367, 368, 369, 370, 371, 372, 373, 374, 375, 376, 377, 378, 379, 380, 381, 382, 383, 384, 385, 386, 387, 388, 389, 390, 391, 392, 393, 394, 395, 396, 397, 403, 404, 418, 419, 420, 421, 422, 423, 424, 425, 426, 427, 428, 429, 430, 431, 432, 433, 434, 435, 436, 437, 438, 439, 440, 441, 442, 443, 444, 445, 446, 447, 448, 449, 450, 451, 452, 453, 454, 455, 456, 457, 458, 459, 460, 461, 462, 463, 464, 465, 466, 467, 468, 469, 470, 471, 472, 473, 474, 475, 476, 477, 483, 484, 485, 500, 501, 502, 503, 504, 505, 506, 507, 508, 509, 510, 511, 512, 513, 514, 515, 516, 517, 518, 519, 520, 521, 522, 523, 524, 525, 526, 527, 528, 529, 530, 531, 532, 533, 534, 535, 536, 537, 538, 539, 540, 541, 542, 543, 544, 545, 546, 547, 548, 549, 550, 551, 552, 553, 554, 555, 556, 557, 563, 564, 565, 566, 581, 582, 583, 584, 585, 586, 587, 588, 589, 590, 591, 592, 593, 594, 595, 596, 597, 598, 599, 600, 601, 602, 603, 604, 605, 606, 607, 608, 609, 610, 611, 612, 613, 614, 615, 616, 617, 618, 619, 620, 621, 622, 623, 624, 625, 626, 627, 628, 629, 630, 631, 632, 633, 634, 635, 636, 637, 643, 644, 645, 646, 647, 663, 664, 665, 666, 667, 668, 669, 670, 671, 672, 673, 674, 675, 676, 677, 678, 679, 680, 681, 682, 683, 684, 685, 686, 687, 688, 689, 690, 691, 692, 693, 694, 695, 696, 697, 698, 699, 700, 701, 702, 703, 704, 705, 706, 707, 708, 709, 710, 711, 712, 713, 714, 715, 716, 717, 723, 724, 725, 726, 727, 728, 745, 746, 747, 748, 749, 750, 751, 752, 753, 754, 755, 756, 757, 758, 759, 760, 761, 762, 763, 764, 765, 766, 767, 768, 769, 770, 771, 772, 773, 774, 775, 776, 777, 778, 779, 780, 781, 782, 783, 784, 785, 786, 787, 788, 789, 790, 791, 792, 793, 794, 795, 796, 797, 803, 804, 805, 806, 807, 808, 809, 827, 828, 829, 830, 831, 832, 833, 834, 835, 836, 837, 838, 839, 840, 841, 842, 843, 844, 845, 846, 847, 848, 849, 850, 851, 852, 853, 854, 855, 856, 857, 858, 859, 860, 861, 862, 863, 864, 865, 866, 867, 868, 869, 870, 871, 872, 873, 874, 875, 876, 877, 883, 884, 885, 886, 887, 888, 889, 890, 891, 909, 910, 911, 912, 913, 914, 915, 916, 917, 918, 919, 920, 921, 922, 923, 924, 925, 926, 927, 928, 929, 930, 931, 932, 933, 934, 935, 936, 937, 938, 939, 940, 941, 942, 943, 944, 945, 946, 947, 948, 949, 950, 951, 952, 953, 954, 955, 956, 957, 963, 964, 965, 966, 967, 968, 969, 970, 971, 972, 973, 990, 991, 992, 993, 994, 995, 996, 997, 998, 999, 1000, 1001, 1002, 1003, 1004, 1005, 1006, 1007, 1008, 1009, 1010, 1011, 1012, 1013, 1014, 1015, 1016, 1017, 1018, 1019, 1020, 1021, 1022, 1023, 1024, 1025, 1026, 1027, 1028, 1029, 1030, 1031, 1032, 1033, 1034, 1035, 1036, 1037, 1038, 1042, 1043, 1044, 1045, 1046, 1047, 1048, 1049, 1050, 1051, 1052, 1053, 1054, 1055, 1056, 1072, 1073, 1074, 1075, 1076, 1077, 1078, 1079, 1080, 1081, 1082, 1083, 1084, 1085, 1086, 1087, 1088, 1089, 1090, 1091, 1092, 1093, 1094, 1095, 1096, 1097, 1098, 1099, 1100, 1101, 1102, 1103, 1104, 1105, 1106, 1107, 1108, 1109, 1110, 1111, 1112, 1113, 1114, 1115, 1116, 1117, 1118, 1122, 1123, 1124, 1125, 1126, 1127, 1128, 1129, 1130, 1131, 1132, 1133, 1134, 1135, 1136, 1137, 1138, 1154, 1155, 1156, 1157, 1158, 1159, 1160, 1161, 1162, 1163, 1164, 1165, 1166, 1167, 1168, 1169, 1170, 1171, 1172, 1173, 1174, 1175, 1176, 1177, 1178, 1179, 1180, 1181, 1182, 1183, 1184, 1185, 1186, 1187, 1188, 1189, 1190, 1191, 1192, 1193, 1194, 1195, 1196, 1197, 1198, 1202, 1203, 1204, 1205, 1206, 1207, 1208, 1209, 1210, 1211, 1212, 1213, 1214, 1215, 1216, 1217, 1218, 1219, 1220, 1236, 1237, 1238, 1239, 1240, 1241, 1242, 1243, 1244, 1245, 1246, 1247, 1248, 1249, 1250, 1251, 1252, 1253, 1254, 1255, 1256, 1257, 1258, 1259, 1260, 1261, 1262, 1263, 1264, 1265, 1266, 1267, 1268, 1269, 1270, 1271, 1272, 1273, 1274, 1275, 1276, 1277, 1278, 1282, 1283, 1284, 1285, 1286, 1287, 1288, 1289, 1290, 1291, 1292, 1293, 1294, 1295, 1296, 1297, 1298, 1299, 1300, 1301, 1302, 1303, 1317, 1318, 1319, 1320, 1321, 1322, 1323, 1324, 1325, 1326, 1327, 1328, 1329, 1330, 1331, 1332, 1333, 1334, 1335, 1336, 1337, 1338, 1339, 1340, 1341, 1342, 1343, 1344, 1345, 1346, 1347, 1348, 1349, 1350, 1351, 1352, 1353, 1354, 1355, 1356, 1357, 1358, 1362, 1363, 1364, 1365, 1366, 1367, 1368, 1369, 1370, 1371, 1372, 1373, 1374, 1375, 1376, 1377, 1378, 1379, 1380, 1381, 1382, 1383, 1384, 1385, 1399, 1400, 1401, 1402, 1403, 1404, 1405, 1406, 1407, 1408, 1409, 1410, 1411, 1412, 1413, 1414, 1415, 1416, 1417, 1418, 1419, 1420, 1421, 1422, 1423, 1424, 1425, 1426, 1427, 1428, 1429, 1430, 1431, 1432, 1433, 1434, 1435, 1436, 1437, 1438, 1442, 1443, 1444, 1445, 1446, 1447, 1448, 1449, 1450, 1451, 1452, 1453, 1454, 1455, 1456, 1457, 1458, 1459, 1460, 1461, 1462, 1463, 1464, 1465, 1466, 1467, 1468, 1481, 1482, 1483, 1484, 1485, 1486, 1487, 1488, 1489, 1490, 1491, 1492, 1493, 1494, 1495, 1496, 1497, 1498, 1499, 1500, 1501, 1502, 1503, 1504, 1505, 1506, 1507, 1508, 1509, 1510, 1511, 1512, 1513, 1514, 1515, 1516, 1517, 1518, 1522, 1523, 1524, 1525, 1526, 1527, 1528, 1529, 1530, 1531, 1532, 1533, 1534, 1535, 1536, 1537, 1538, 1539, 1540, 1541, 1542, 1543, 1544, 1545, 1546, 1547, 1548, 1549, 1550, 1563, 1564, 1565, 1566, 1567, 1568, 1569, 1570, 1571, 1572, 1573, 1574, 1575, 1576, 1577, 1578, 1579, 1580, 1581, 1582, 1583, 1584, 1585, 1586, 1587, 1588, 1589, 1590, 1591, 1592, 1593, 1594, 1595, 1596, 1597, 1598, 1602, 1603, 1604, 1605, 1606, 1607, 1608, 1609, 1610, 1611, 1612, 1613, 1614, 1615, 1616, 1617, 1618, 1619, 1620, 1621, 1622, 1623, 1624, 1625, 1626, 1627, 1628, 1629, 1630, 1631, 1632, 1645, 1646, 1647, 1648, 1649, 1650, 1651, 1652, 1653, 1654, 1655, 1656, 1657, 1658, 1659, 1660, 1661, 1662, 1663, 1664, 1665, 1666, 1667, 1668, 1669, 1670, 1671, 1672, 1673, 1674, 1675, 1676, 1677, 1678, 1682, 1683, 1684, 1685, 1686, 1687, 1688, 1689, 1690, 1691, 1692, 1693, 1694, 1695, 1696, 1697, 1698, 1699, 1700, 1701, 1702, 1703, 1704, 1705, 1706, 1707, 1708, 1709, 1710, 1711, 1712, 1713, 1714, 1715, 1726, 1727, 1728, 1729, 1730, 1731, 1732, 1733, 1734, 1735, 1736, 1737, 1738, 1739, 1740, 1741, 1742, 1743, 1744, 1745, 1746, 1747, 1748, 1749, 1750, 1751, 1752, 1753, 1754, 1755, 1756, 1757, 1758, 1762, 1763, 1764, 1765, 1766, 1767, 1768, 1769, 1770, 1771, 1772, 1773, 1774, 1775, 1776, 1777, 1778, 1779, 1780, 1781, 1782, 1783, 1784, 1785, 1786, 1787, 1788, 1789, 1790, 1791, 1792, 1793, 1794, 1795, 1796, 1797, 1808, 1809, 1810, 1811, 1812, 1813, 1814, 1815, 1816, 1817, 1818, 1819, 1820, 1821, 1822, 1823, 1824, 1825, 1826, 1827, 1828, 1829, 1830, 1831, 1832, 1833, 1834, 1835, 1836, 1837, 1838, 1842, 1843, 1844, 1845, 1846, 1847, 1848, 1849, 1850, 1851, 1852, 1853, 1854, 1855, 1856, 1857, 1858, 1859, 1860, 1861, 1862, 1863, 1864, 1865, 1866, 1867, 1868, 1869, 1870, 1871, 1872, 1873, 1874, 1875, 1876, 1877, 1878, 1879, 1890, 1891, 1892, 1893, 1894, 1895, 1896, 1897, 1898, 1899, 1900, 1901, 1902, 1903, 1904, 1905, 1906, 1907, 1908, 1909, 1910, 1911, 1912, 1913, 1914, 1915, 1916, 1917, 1918, 1922, 1923, 1924, 1925, 1926, 1927, 1928, 1929, 1930, 1931, 1932, 1933, 1934, 1935, 1936, 1937, 1938, 1939, 1940, 1941, 1942, 1943, 1944, 1945, 1946, 1947, 1948, 1949, 1950, 1951, 1952, 1953, 1954, 1955, 1956, 1957, 1958, 1959, 1960, 1961, 1962, 1972, 1973, 1974, 1975, 1976, 1977, 1978, 1979, 1980, 1981, 1982, 1983, 1984, 1985, 1986, 1987, 1988, 1989, 1990, 1991, 1992, 1993, 1994, 1995, 1996, 1997, 1998, 2002, 2003, 2004, 2005, 2006, 2007, 2008, 2009, 2010, 2011, 2012, 2013, 2014, 2015, 2016, 2017, 2018, 2019, 2020, 2021, 2022, 2023, 2024, 2025, 2026, 2027, 2028, 2029, 2030, 2031, 2032, 2033, 2034, 2035, 2036, 2037, 2038, 2039, 2040, 2041, 2042, 2043, 2044, 2054, 2055, 2056, 2057, 2058, 2059, 2060, 2061, 2062, 2063, 2064, 2065, 2066, 2067, 2068, 2069, 2070, 2071, 2072, 2073, 2074, 2075, 2076, 2077, 2078, 2082, 2083, 2084, 2085, 2086, 2087, 2088, 2089, 2090, 2091, 2092, 2093, 2094, 2095, 2096, 2097, 2098, 2099, 2100, 2101, 2102, 2103, 2104, 2105, 2106, 2107, 2108, 2109, 2110, 2111, 2112, 2113, 2114, 2115, 2116, 2117, 2118, 2119, 2120, 2121, 2122, 2123, 2124, 2125, 2126, 2135, 2136, 2137, 2138, 2139, 2140, 2141, 2142, 2143, 2144, 2145, 2146, 2147, 2148, 2149, 2150, 2151, 2152, 2153, 2154, 2155, 2156, 2157, 2158, 2159, 2161, 2162, 2163, 2164, 2165, 2166, 2167, 2168, 2169, 2170, 2171, 2172, 2173, 2174, 2175, 2176, 2177, 2178, 2179, 2180, 2181, 2182, 2183, 2184, 2185, 2186, 2187, 2188, 2189, 2190, 2191, 2192, 2193, 2194, 2195, 2196, 2197, 2198, 2199, 2200, 2201, 2202, 2203, 2204, 2205, 2206, 2207, 2208, 2209, 2217, 2218, 2219, 2220, 2221, 2222, 2223, 2224, 2225, 2226, 2227, 2228, 2229, 2230, 2231, 2232, 2233, 2234, 2235, 2236, 2237, 2238, 2239, 2241, 2242, 2243, 2244, 2245, 2246, 2247, 2248, 2249, 2250, 2251, 2252, 2253, 2254, 2255, 2256, 2257, 2258, 2259, 2260, 2261, 2262, 2263, 2264, 2265, 2266, 2267, 2268, 2269, 2270, 2271, 2272, 2273, 2274, 2275, 2276, 2277, 2278, 2279, 2280, 2281, 2282, 2283, 2284, 2285, 2286, 2287, 2288, 2289, 2290, 2291, 2299, 2300, 2301, 2302, 2303, 2304, 2305, 2306, 2307, 2308, 2309, 2310, 2311, 2312, 2313, 2314, 2315, 2316, 2317, 2318, 2319, 2321, 2322, 2323, 2324, 2325, 2326, 2327, 2328, 2329, 2330, 2331, 2332, 2333, 2334, 2335, 2336, 2337, 2338, 2339, 2340, 2341, 2342, 2343, 2344, 2345, 2346, 2347, 2348, 2349, 2350, 2351, 2352, 2353, 2354, 2355, 2356, 2357, 2358, 2359, 2360, 2361, 2362, 2363, 2364, 2365, 2366, 2367, 2368, 2369, 2370, 2371, 2372, 2373, 2374, 2381, 2382, 2383, 2384, 2385, 2386, 2387, 2388, 2389, 2390, 2391, 2392, 2393, 2394, 2395, 2396, 2397, 2398, 2399, 2401, 2402, 2403, 2404, 2405, 2406, 2407, 2408, 2409, 2410, 2411, 2412, 2413, 2414, 2415, 2416, 2417, 2418, 2419, 2420, 2421, 2422, 2423, 2424, 2425, 2426, 2427, 2428, 2429, 2430, 2431, 2432, 2433, 2434, 2435, 2436, 2437, 2438, 2439, 2440, 2441, 2442, 2443, 2444, 2445, 2446, 2447, 2448, 2449, 2450, 2451, 2452, 2453, 2454, 2455, 2456, 2463, 2464, 2465, 2466, 2467, 2468, 2469, 2470, 2471, 2472, 2473, 2474, 2475, 2476, 2477, 2478, 2479, 2481, 2482, 2483, 2484, 2485, 2486, 2487, 2488, 2489, 2490, 2491, 2492, 2493, 2494, 2495, 2496, 2497, 2498, 2499, 2500, 2501, 2502, 2503, 2504, 2505, 2506, 2507, 2508, 2509, 2510, 2511, 2512, 2513, 2514, 2515, 2516, 2517, 2518, 2519, 2520, 2521, 2522, 2523, 2524, 2525, 2526, 2527, 2528, 2529, 2530, 2531, 2532, 2533, 2534, 2535, 2536, 2537, 2538, 2544, 2545, 2546, 2547, 2548, 2549, 2550, 2551, 2552, 2553, 2554, 2555, 2556, 2557, 2558, 2559, 2561, 2562, 2563, 2564, 2565, 2566, 2567, 2568, 2569, 2570, 2571, 2572, 2573, 2574, 2575, 2576, 2577, 2578, 2579, 2580, 2581, 2582, 2583, 2584, 2585, 2586, 2587, 2588, 2589, 2590, 2591, 2592, 2593, 2594, 2595, 2596, 2597, 2598, 2599, 2600, 2601, 2602, 2603, 2604, 2605, 2606, 2607, 2608, 2609, 2610, 2611, 2612, 2613, 2614, 2615, 2616, 2617, 2618, 2619, 2620, 2621, 2626, 2627, 2628, 2629, 2630, 2631, 2632, 2633, 2634, 2635, 2636, 2637, 2638, 2639, 2641, 2642, 2643, 2644, 2645, 2646, 2647, 2648, 2649, 2650, 2651, 2652, 2653, 2654, 2655, 2656, 2657, 2658, 2659, 2660, 2661, 2662, 2663, 2664, 2665, 2666, 2667, 2668, 2669, 2670, 2671, 2672, 2673, 2674, 2675, 2676, 2677, 2678, 2679, 2680, 2681, 2682, 2683, 2684, 2685, 2686, 2687, 2688, 2689, 2690, 2691, 2692, 2693, 2694, 2695, 2696, 2697, 2698, 2699, 2700, 2701, 2702, 2703, 2708, 2709, 2710, 2711, 2712, 2713, 2714, 2715, 2716, 2717, 2718, 2719, 2721, 2722, 2723, 2724, 2725, 2726, 2727, 2728, 2729, 2730, 2731, 2732, 2733, 2734, 2735, 2736, 2737, 2738, 2739, 2740, 2741, 2742, 2743, 2744, 2745, 2746, 2747, 2748, 2749, 2750, 2751, 2752, 2753, 2754, 2755, 2756, 2757, 2758, 2759, 2760, 2761, 2762, 2763, 2764, 2765, 2766, 2767, 2768, 2769, 2770, 2771, 2772, 2773, 2774, 2775, 2776, 2777, 2778, 2779, 2780, 2781, 2782, 2783, 2784, 2785, 2790, 2791, 2792, 2793, 2794, 2795, 2796, 2797, 2798, 2799, 2801, 2802, 2803, 2804, 2805, 2806, 2807, 2808, 2809, 2810, 2811, 2812, 2813, 2814, 2815, 2816, 2817, 2818, 2819, 2820, 2821, 2822, 2823, 2824, 2825, 2826, 2827, 2828, 2829, 2830, 2831, 2832, 2833, 2834, 2835, 2836, 2837, 2838, 2839, 2840, 2841, 2842, 2843, 2844, 2845, 2846, 2847, 2848, 2849, 2850, 2851, 2852, 2853, 2854, 2855, 2856, 2857, 2858, 2859, 2860, 2861, 2862, 2863, 2864, 2865, 2866, 2867, 2868, 2872, 2873, 2874, 2875, 2876, 2877, 2878, 2879, 2881, 2882, 2883, 2884, 2885, 2886, 2887, 2888, 2889, 2890, 2891, 2892, 2893, 2894, 2895, 2896, 2897, 2898, 2899, 2900, 2901, 2902, 2903, 2904, 2905, 2906, 2907, 2908, 2909, 2910, 2911, 2912, 2913, 2914, 2915, 2916, 2917, 2918, 2919, 2920, 2921, 2922, 2923, 2924, 2925, 2926, 2927, 2928, 2929, 2930, 2931, 2932, 2933, 2934, 2935, 2936, 2937, 2938, 2939, 2940, 2941, 2942, 2943, 2944, 2945, 2946, 2947, 2948, 2949, 2950, 2953, 2954, 2955, 2956, 2957, 2958, 2959, 2961, 2962, 2963, 2964, 2965, 2966, 2967, 2968, 2969, 2970, 2971, 2972, 2973, 2974, 2975, 2976, 2977, 2978, 2979, 2980, 2981, 2982, 2983, 2984, 2985, 2986, 2987, 2988, 2989, 2990, 2991, 2992, 2993, 2994, 2995, 2996, 2997, 2998, 2999, 3000, 3001, 3002, 3003, 3004, 3005, 3006, 3007, 3008, 3009, 3010, 3011, 3012, 3013, 3014, 3015, 3016, 3017, 3018, 3019, 3020, 3021, 3022, 3023, 3024, 3025, 3026, 3027, 3028, 3029, 3030, 3031, 3032, 3035, 3036, 3037, 3038, 3039, 3041, 3042, 3043, 3044, 3045, 3046, 3047, 3048, 3049, 3050, 3051, 3052, 3053, 3054, 3055, 3056, 3057, 3058, 3059, 3060, 3061, 3062, 3063, 3064, 3065, 3066, 3067, 3068, 3069, 3070, 3071, 3072, 3073, 3074, 3075, 3076, 3077, 3078, 3079, 3080, 3081, 3082, 3083, 3084, 3085, 3086, 3087, 3088, 3089, 3090, 3091, 3092, 3093, 3094, 3095, 3096, 3097, 3098, 3099, 3100, 3101, 3102, 3103, 3104, 3105, 3106, 3107, 3108, 3109, 3110, 3111, 3112, 3113, 3114, 3115, 3117, 3118, 3119, 3121, 3122, 3123, 3124, 3125, 3126, 3127, 3128, 3129, 3130, 3131, 3132, 3133, 3134, 3135, 3136, 3137, 3138, 3139, 3140, 3141, 3142, 3143, 3144, 3145, 3146, 3147, 3148, 3149, 3150, 3151, 3152, 3153, 3154, 3155, 3156, 3157, 3158, 3159, 3160, 3161, 3162, 3163, 3164, 3165, 3166, 3167, 3168, 3169, 3170, 3171, 3172, 3173, 3174, 3175, 3176, 3177, 3178, 3179, 3180, 3181, 3182, 3183, 3184, 3185, 3186, 3187, 3188, 3189, 3190, 3191, 3192, 3193, 3194, 3195, 3196, 3197, 3199, 3201, 3202, 3203, 3204, 3205, 3206, 3207, 3208, 3209, 3210, 3211, 3212, 3213, 3214, 3215, 3216, 3217, 3218, 3219, 3220, 3221, 3222, 3223, 3224, 3225, 3226, 3227, 3228, 3229, 3230, 3231, 3232, 3233, 3234, 3235, 3236, 3237, 3238, 3239, 3240, 3241, 3242, 3243, 3244, 3245, 3246, 3247, 3248, 3249, 3250, 3251, 3252, 3253, 3254, 3255, 3256, 3257, 3258, 3259, 3260, 3261, 3262, 3263, 3264, 3265, 3266, 3267, 3268, 3269, 3270, 3271, 3272, 3273, 3274, 3275, 3276, 3277, 3278, 3279, 3281, 3282, 3283, 3284, 3285, 3286, 3287, 3288, 3289, 3290, 3291, 3292, 3293, 3294, 3295, 3296, 3297, 3298, 3299, 3300, 3301, 3302, 3303, 3304, 3305, 3306, 3307, 3308, 3309, 3310, 3311, 3312, 3313, 3314, 3315, 3316, 3317, 3318, 3319, 3320, 3321, 3322, 3323, 3324, 3325, 3326, 3327, 3328, 3329, 3330, 3331, 3332, 3333, 3334, 3335, 3336, 3337, 3338, 3339, 3340, 3341, 3342, 3343, 3344, 3345, 3346, 3347, 3348, 3349, 3350, 3351, 3352, 3353, 3354, 3355, 3356, 3357, 3358, 3359, 3361, 3363, 3364, 3365, 3366, 3367, 3368, 3369, 3370, 3371, 3372, 3373, 3374, 3375, 3376, 3377, 3378, 3379, 3380, 3381, 3382, 3383, 3384, 3385, 3386, 3387, 3388, 3389, 3390, 3391, 3392, 3393, 3394, 3395, 3396, 3397, 3398, 3399, 3400, 3401, 3402, 3403, 3404, 3405, 3406, 3407, 3408, 3409, 3410, 3411, 3412, 3413, 3414, 3415, 3416, 3417, 3418, 3419, 3420, 3421, 3422, 3423, 3424, 3425, 3426, 3427, 3428, 3429, 3430, 3431, 3432, 3433, 3434, 3435, 3436, 3437, 3438, 3439, 3441, 3442, 3443, 3445, 3446, 3447, 3448, 3449, 3450, 3451, 3452, 3453, 3454, 3455, 3456, 3457, 3458, 3459, 3460, 3461, 3462, 3463, 3464, 3465, 3466, 3467, 3468, 3469, 3470, 3471, 3472, 3473, 3474, 3475, 3476, 3477, 3478, 3479, 3480, 3481, 3482, 3483, 3484, 3485, 3486, 3487, 3488, 3489, 3490, 3491, 3492, 3493, 3494, 3495, 3496, 3497, 3498, 3499, 3500, 3501, 3502, 3503, 3504, 3505, 3506, 3507, 3508, 3509, 3510, 3511, 3512, 3513, 3514, 3515, 3516, 3517, 3518, 3519, 3521, 3522, 3523, 3524, 3525, 3528, 3529, 3530, 3531, 3532, 3533, 3534, 3535, 3536, 3537, 3538, 3539, 3540, 3541, 3542, 3543, 3544, 3545, 3546, 3547, 3548, 3549, 3550, 3551, 3552, 3553, 3554, 3555, 3556, 3557, 3558, 3559, 3560, 3561, 3562, 3563, 3564, 3565, 3566, 3567, 3568, 3569, 3570, 3571, 3572, 3573, 3574, 3575, 3576, 3577, 3578, 3579, 3580, 3581, 3582, 3583, 3584, 3585, 3586, 3587, 3588, 3589, 3590, 3591, 3592, 3593, 3594, 3595, 3596, 3597, 3598, 3599, 3601, 3602, 3603, 3604, 3605, 3606, 3607, 3610, 3611, 3612, 3613, 3614, 3615, 3616, 3617, 3618, 3619, 3620, 3621, 3622, 3623, 3624, 3625, 3626, 3627, 3628, 3629, 3630, 3631, 3632, 3633, 3634, 3635, 3636, 3637, 3638, 3639, 3640, 3641, 3642, 3643, 3644, 3645, 3646, 3647, 3648, 3649, 3650, 3651, 3652, 3653, 3654, 3655, 3656, 3657, 3658, 3659, 3660, 3661, 3662, 3663, 3664, 3665, 3666, 3667, 3668, 3669, 3670, 3671, 3672, 3673, 3674, 3675, 3676, 3677, 3678, 3679, 3681, 3682, 3683, 3684, 3685, 3686, 3687, 3688, 3692, 3693, 3694, 3695, 3696, 3697, 3698, 3699, 3700, 3701, 3702, 3703, 3704, 3705, 3706, 3707, 3708, 3709, 3710, 3711, 3712, 3713, 3714, 3715, 3716, 3717, 3718, 3719, 3720, 3721, 3722, 3723, 3724, 3725, 3726, 3727, 3728, 3729, 3730, 3731, 3732, 3733, 3734, 3735, 3736, 3737, 3738, 3739, 3740, 3741, 3742, 3743, 3744, 3745, 3746, 3747, 3748, 3749, 3750, 3751, 3752, 3753, 3754, 3755, 3756, 3757, 3758, 3759, 3761, 3762, 3763, 3764, 3765, 3766, 3767, 3768, 3769, 3770, 3775, 3776, 3777, 3778, 3779, 3780, 3781, 3782, 3783, 3784, 3785, 3786, 3787, 3788, 3789, 3790, 3791, 3792, 3793, 3794, 3795, 3796, 3797, 3798, 3799, 3800, 3801, 3802, 3803, 3804, 3805, 3806, 3807, 3808, 3809, 3810, 3811, 3812, 3813, 3814, 3815, 3816, 3817, 3818, 3819, 3820, 3821, 3822, 3823, 3824, 3825, 3826, 3827, 3828, 3829, 3830, 3831, 3832, 3833, 3834, 3835, 3836, 3837, 3838, 3839, 3841, 3842, 3843, 3844, 3845, 3846, 3847, 3848, 3849, 3850, 3851, 3852, 3857, 3858, 3859, 3860, 3861, 3862, 3863, 3864, 3865, 3866, 3867, 3868, 3869, 3870, 3871, 3872, 3873, 3874, 3875, 3876, 3877, 3878, 3879, 3880, 3881, 3882, 3883, 3884, 3885, 3886, 3887, 3888, 3889, 3890, 3891, 3892, 3893, 3894, 3895, 3896, 3897, 3898, 3899, 3900, 3901, 3902, 3903, 3904, 3905, 3906, 3907, 3908, 3909, 3910, 3911, 3912, 3913, 3914, 3915, 3916, 3917, 3918, 3919, 3921, 3922, 3923, 3924, 3925, 3926, 3927, 3928, 3929, 3930, 3931, 3932, 3933, 3934, 3939, 3940, 3941, 3942, 3943, 3944, 3945, 3946, 3947, 3948, 3949, 3950, 3951, 3952, 3953, 3954, 3955, 3956, 3957, 3958, 3959, 3960, 3961, 3962, 3963, 3964, 3965, 3966, 3967, 3968, 3969, 3970, 3971, 3972, 3973, 3974, 3975, 3976, 3977, 3978, 3979, 3980, 3981, 3982, 3983, 3984, 3985, 3986, 3987, 3988, 3989, 3990, 3991, 3992, 3993, 3994, 3995, 3996, 3997, 3998, 3999, 4001, 4002, 4003, 4004, 4005, 4006, 4007, 4008, 4009, 4010, 4011, 4012, 4013, 4014, 4015, 4016, 4022, 4023, 4024, 4025, 4026, 4027, 4028, 4029, 4030, 4031, 4032, 4033, 4034, 4035, 4036, 4037, 4038, 4039, 4040, 4041, 4042, 4043, 4044, 4045, 4046, 4047, 4048, 4049, 4050, 4051, 4052, 4053, 4054, 4055, 4056, 4057, 4058, 4059, 4060, 4061, 4062, 4063, 4064, 4065, 4066, 4067, 4068, 4069, 4070, 4071, 4072, 4073, 4074, 4075, 4076, 4077, 4078, 4079, 4081, 4082, 4083, 4084, 4085, 4086, 4087, 4088, 4089, 4090, 4091, 4092, 4093, 4094, 4095, 4096, 4097, 4104, 4105, 4106, 4107, 4108, 4109, 4110, 4111, 4112, 4113, 4114, 4115, 4116, 4117, 4118, 4119, 4120, 4121, 4122, 4123, 4124, 4125, 4126, 4127, 4128, 4129, 4130, 4131, 4132, 4133, 4134, 4135, 4136, 4137, 4138, 4139, 4140, 4141, 4142, 4143, 4144, 4145, 4146, 4147, 4148, 4149, 4150, 4151, 4152, 4153, 4154, 4155, 4156, 4157, 4158, 4159, 4161, 4162, 4163, 4164, 4165, 4166, 4167, 4168, 4169, 4170, 4171, 4172, 4173, 4174, 4175, 4176, 4177, 4178, 4179, 4186, 4187, 4188, 4189, 4190, 4191, 4192, 4193, 4194, 4195, 4196, 4197, 4198, 4199, 4200, 4201, 4202, 4203, 4204, 4205, 4206, 4207, 4208, 4209, 4210, 4211, 4212, 4213, 4214, 4215, 4216, 4217, 4218, 4219, 4220, 4221, 4222, 4223, 4224, 4225, 4226, 4227, 4228, 4229, 4230, 4231, 4232, 4233, 4234, 4235, 4236, 4237, 4238, 4239, 4241, 4242, 4243, 4244, 4245, 4246, 4247, 4248, 4249, 4250, 4251, 4252, 4253, 4254, 4255, 4256, 4257, 4258, 4259, 4260, 4261, 4269, 4270, 4271, 4272, 4273, 4274, 4275, 4276, 4277, 4278, 4279, 4280, 4281, 4282, 4283, 4284, 4285, 4286, 4287, 4288, 4289, 4290, 4291, 4292, 4293, 4294, 4295, 4296, 4297, 4298, 4299, 4300, 4301, 4302, 4303, 4304, 4305, 4306, 4307, 4308, 4309, 4310, 4311, 4312, 4313, 4314, 4315, 4316, 4317, 4318, 4319, 4321, 4322, 4323, 4324, 4325, 4326, 4327, 4328, 4329, 4330, 4331, 4332, 4333, 4334, 4335, 4336, 4337, 4338, 4339, 4340, 4341, 4342, 4343, 4351, 4352, 4353, 4354, 4355, 4356, 4357, 4358, 4359, 4360, 4361, 4362, 4363, 4364, 4365, 4366, 4367, 4368, 4369, 4370, 4371, 4372, 4373, 4374, 4375, 4376, 4377, 4378, 4379, 4380, 4381, 4382, 4383, 4384, 4385, 4386, 4387, 4388, 4389, 4390, 4391, 4392, 4393, 4394, 4395, 4396, 4397, 4398, 4399, 4401, 4402, 4403, 4404, 4405, 4406, 4407, 4408, 4409, 4410, 4411, 4412, 4413, 4414, 4415, 4416, 4417, 4418, 4419, 4420, 4421, 4422, 4423, 4424, 4425, 4434, 4435, 4436, 4437, 4438, 4439, 4440, 4441, 4442, 4443, 4444, 4445, 4446, 4447, 4448, 4449, 4450, 4451, 4452, 4453, 4454, 4455, 4456, 4457, 4458, 4459, 4460, 4461, 4462, 4463, 4464, 4465, 4466, 4467, 4468, 4469, 4470, 4471, 4472, 4473, 4474, 4475, 4476, 4477, 4478, 4482, 4483, 4484, 4485, 4486, 4487, 4488, 4489, 4490, 4491, 4492, 4493, 4494, 4495, 4496, 4497, 4498, 4499, 4500, 4501, 4502, 4503, 4504, 4505, 4506, 4516, 4517, 4518, 4519, 4520, 4521, 4522, 4523, 4524, 4525, 4526, 4527, 4528, 4529, 4530, 4531, 4532, 4533, 4534, 4535, 4536, 4537, 4538, 4539, 4540, 4541, 4542, 4543, 4544, 4545, 4546, 4547, 4548, 4549, 4550, 4551, 4552, 4553, 4554, 4555, 4556, 4557, 4558, 4562, 4563, 4564, 4565, 4566, 4567, 4568, 4569, 4570, 4571, 4572, 4573, 4574, 4575, 4576, 4577, 4578, 4579, 4580, 4581, 4582, 4583, 4584, 4585, 4586, 4587, 4588, 4598, 4599, 4600, 4601, 4602, 4603, 4604, 4605, 4606, 4607, 4608, 4609, 4610, 4611, 4612, 4613, 4614, 4615, 4616, 4617, 4618, 4619, 4620, 4621, 4622, 4623, 4624, 4625, 4626, 4627, 4628, 4629, 4630, 4631, 4632, 4633, 4634, 4635, 4636, 4637, 4638, 4642, 4643, 4644, 4645, 4646, 4647, 4648, 4649, 4650, 4651, 4652, 4653, 4654, 4655, 4656, 4657, 4658, 4659, 4660, 4661, 4662, 4663, 4664, 4665, 4666, 4667, 4668, 4669, 4670, 4681, 4682, 4683, 4684, 4685, 4686, 4687, 4688, 4689, 4690, 4691, 4692, 4693, 4694, 4695, 4696, 4697, 4698, 4699, 4700, 4701, 4702, 4703, 4704, 4705, 4706, 4707, 4708, 4709, 4710, 4711, 4712, 4713, 4714, 4715, 4716, 4717, 4718, 4722, 4723, 4724, 4725, 4726, 4727, 4728, 4729, 4730, 4731, 4732, 4733, 4734, 4735, 4736, 4737, 4738, 4739, 4740, 4741, 4742, 4743, 4744, 4745, 4746, 4747, 4748, 4749, 4750, 4751, 4752, 4763, 4764, 4765, 4766, 4767, 4768, 4769, 4770, 4771, 4772, 4773, 4774, 4775, 4776, 4777, 4778, 4779, 4780, 4781, 4782, 4783, 4784, 4785, 4786, 4787, 4788, 4789, 4790, 4791, 4792, 4793, 4794, 4795, 4796, 4797, 4798, 4802, 4803, 4804, 4805, 4806, 4807, 4808, 4809, 4810, 4811, 4812, 4813, 4814, 4815, 4816, 4817, 4818, 4819, 4820, 4821, 4822, 4823, 4824, 4825, 4826, 4827, 4828, 4829, 4830, 4831, 4832, 4833, 4834, 4845, 4846, 4847, 4848, 4849, 4850, 4851, 4852, 4853, 4854, 4855, 4856, 4857, 4858, 4859, 4860, 4861, 4862, 4863, 4864, 4865, 4866, 4867, 4868, 4869, 4870, 4871, 4872, 4873, 4874, 4875, 4876, 4877, 4878, 4882, 4883, 4884, 4885, 4886, 4887, 4888, 4889, 4890, 4891, 4892, 4893, 4894, 4895, 4896, 4897, 4898, 4899, 4900, 4901, 4902, 4903, 4904, 4905, 4906, 4907, 4908, 4909, 4910, 4911, 4912, 4913, 4914, 4915, 4928, 4929, 4930, 4931, 4932, 4933, 4934, 4935, 4936, 4937, 4938, 4939, 4940, 4941, 4942, 4943, 4944, 4945, 4946, 4947, 4948, 4949, 4950, 4951, 4952, 4953, 4954, 4955, 4956, 4957, 4958, 4962, 4963, 4964, 4965, 4966, 4967, 4968, 4969, 4970, 4971, 4972, 4973, 4974, 4975, 4976, 4977, 4978, 4979, 4980, 4981, 4982, 4983, 4984, 4985, 4986, 4987, 4988, 4989, 4990, 4991, 4992, 4993, 4994, 4995, 4996, 4997, 5010, 5011, 5012, 5013, 5014, 5015, 5016, 5017, 5018, 5019, 5020, 5021, 5022, 5023, 5024, 5025, 5026, 5027, 5028, 5029, 5030, 5031, 5032, 5033, 5034, 5035, 5036, 5037, 5038, 5042, 5043, 5044, 5045, 5046, 5047, 5048, 5049, 5050, 5051, 5052, 5053, 5054, 5055, 5056, 5057, 5058, 5059, 5060, 5061, 5062, 5063, 5064, 5065, 5066, 5067, 5068, 5069, 5070, 5071, 5072, 5073, 5074, 5075, 5076, 5077, 5078, 5079, 5092, 5093, 5094, 5095, 5096, 5097, 5098, 5099, 5100, 5101, 5102, 5103, 5104, 5105, 5106, 5107, 5108, 5109, 5110, 5111, 5112, 5113, 5114, 5115, 5116, 5117, 5118, 5122, 5123, 5124, 5125, 5126, 5127, 5128, 5129, 5130, 5131, 5132, 5133, 5134, 5135, 5136, 5137, 5138, 5139, 5140, 5141, 5142, 5143, 5144, 5145, 5146, 5147, 5148, 5149, 5150, 5151, 5152, 5153, 5154, 5155, 5156, 5157, 5158, 5159, 5160, 5161, 5175, 5176, 5177, 5178, 5179, 5180, 5181, 5182, 5183, 5184, 5185, 5186, 5187, 5188, 5189, 5190, 5191, 5192, 5193, 5194, 5195, 5196, 5197, 5198, 5202, 5203, 5204, 5205, 5206, 5207, 5208, 5209, 5210, 5211, 5212, 5213, 5214, 5215, 5216, 5217, 5218, 5219, 5220, 5221, 5222, 5223, 5224, 5225, 5226, 5227, 5228, 5229, 5230, 5231, 5232, 5233, 5234, 5235, 5236, 5237, 5238, 5239, 5240, 5241, 5242, 5243, 5257, 5258, 5259, 5260, 5261, 5262, 5263, 5264, 5265, 5266, 5267, 5268, 5269, 5270, 5271, 5272, 5273, 5274, 5275, 5276, 5277, 5278, 5282, 5283, 5284, 5285, 5286, 5287, 5288, 5289, 5290, 5291, 5292, 5293, 5294, 5295, 5296, 5297, 5298, 5299, 5300, 5301, 5302, 5303, 5304, 5305, 5306, 5307, 5308, 5309, 5310, 5311, 5312, 5313, 5314, 5315, 5316, 5317, 5318, 5319, 5320, 5321, 5322, 5323, 5324, 5340, 5341, 5342, 5343, 5344, 5345, 5346, 5347, 5348, 5349, 5350, 5351, 5352, 5353, 5354, 5355, 5356, 5357, 5358, 5362, 5363, 5364, 5365, 5366, 5367, 5368, 5369, 5370, 5371, 5372, 5373, 5374, 5375, 5376, 5377, 5378, 5379, 5380, 5381, 5382, 5383, 5384, 5385, 5386, 5387, 5388, 5389, 5390, 5391, 5392, 5393, 5394, 5395, 5396, 5397, 5398, 5399, 5400, 5401, 5402, 5403, 5404, 5405, 5406, 5422, 5423, 5424, 5425, 5426, 5427, 5428, 5429, 5430, 5431, 5432, 5433, 5434, 5435, 5436, 5437, 5438, 5442, 5443, 5444, 5445, 5446, 5447, 5448, 5449, 5450, 5451, 5452, 5453, 5454, 5455, 5456, 5457, 5458, 5459, 5460, 5461, 5462, 5463, 5464, 5465, 5466, 5467, 5468, 5469, 5470, 5471, 5472, 5473, 5474, 5475, 5476, 5477, 5478, 5479, 5480, 5481, 5482, 5483, 5484, 5485, 5486, 5487, 5488, 5504, 5505, 5506, 5507, 5508, 5509, 5510, 5511, 5512, 5513, 5514, 5515, 5516, 5517, 5518, 5522, 5523, 5524, 5525, 5526, 5527, 5528, 5529, 5530, 5531, 5532, 5533, 5534, 5535, 5536, 5537, 5538, 5539, 5540, 5541, 5542, 5543, 5544, 5545, 5546, 5547, 5548, 5549, 5550, 5551, 5552, 5553, 5554, 5555, 5556, 5557, 5558, 5559, 5560, 5561, 5562, 5563, 5564, 5565, 5566, 5567, 5568, 5569, 5570, 5587, 5588, 5589, 5590, 5591, 5592, 5593, 5594, 5595, 5596, 5597, 5603, 5604, 5605, 5606, 5607, 5608, 5609, 5610, 5611, 5612, 5613, 5614, 5615, 5616, 5617, 5618, 5619, 5620, 5621, 5622, 5623, 5624, 5625, 5626, 5627, 5628, 5629, 5630, 5631, 5632, 5633, 5634, 5635, 5636, 5637, 5638, 5639, 5640, 5641, 5642, 5643, 5644, 5645, 5646, 5647, 5648, 5649, 5650, 5651, 5669, 5670, 5671, 5672, 5673, 5674, 5675, 5676, 5677, 5683, 5684, 5685, 5686, 5687, 5688, 5689, 5690, 5691, 5692, 5693, 5694, 5695, 5696, 5697, 5698, 5699, 5700, 5701, 5702, 5703, 5704, 5705, 5706, 5707, 5708, 5709, 5710, 5711, 5712, 5713, 5714, 5715, 5716, 5717, 5718, 5719, 5720, 5721, 5722, 5723, 5724, 5725, 5726, 5727, 5728, 5729, 5730, 5731, 5732, 5733, 5751, 5752, 5753, 5754, 5755, 5756, 5757, 5763, 5764, 5765, 5766, 5767, 5768, 5769, 5770, 5771, 5772, 5773, 5774, 5775, 5776, 5777, 5778, 5779, 5780, 5781, 5782, 5783, 5784, 5785, 5786, 5787, 5788, 5789, 5790, 5791, 5792, 5793, 5794, 5795, 5796, 5797, 5798, 5799, 5800, 5801, 5802, 5803, 5804, 5805, 5806, 5807, 5808, 5809, 5810, 5811, 5812, 5813, 5814, 5815, 5832, 5833, 5834, 5835, 5836, 5837, 5843, 5844, 5845, 5846, 5847, 5848, 5849, 5850, 5851, 5852, 5853, 5854, 5855, 5856, 5857, 5858, 5859, 5860, 5861, 5862, 5863, 5864, 5865, 5866, 5867, 5868, 5869, 5870, 5871, 5872, 5873, 5874, 5875, 5876, 5877, 5878, 5879, 5880, 5881, 5882, 5883, 5884, 5885, 5886, 5887, 5888, 5889, 5890, 5891, 5892, 5893, 5894, 5895, 5896, 5897, 5913, 5914, 5915, 5916, 5917, 5923, 5924, 5925, 5926, 5927, 5928, 5929, 5930, 5931, 5932, 5933, 5934, 5935, 5936, 5937, 5938, 5939, 5940, 5941, 5942, 5943, 5944, 5945, 5946, 5947, 5948, 5949, 5950, 5951, 5952, 5953, 5954, 5955, 5956, 5957, 5958, 5959, 5960, 5961, 5962, 5963, 5964, 5965, 5966, 5967, 5968, 5969, 5970, 5971, 5972, 5973, 5974, 5975, 5976, 5977, 5978, 5979, 5994, 5995, 5996, 5997, 6003, 6004, 6005, 6006, 6007, 6008, 6009, 6010, 6011, 6012, 6013, 6014, 6015, 6016, 6017, 6018, 6019, 6020, 6021, 6022, 6023, 6024, 6025, 6026, 6027, 6028, 6029, 6030, 6031, 6032, 6033, 6034, 6035, 6036, 6037, 6038, 6039, 6040, 6041, 6042, 6043, 6044, 6045, 6046, 6047, 6048, 6049, 6050, 6051, 6052, 6053, 6054, 6055, 6056, 6057, 6058, 6059, 6060, 6075, 6076, 6077, 6083, 6084, 6085, 6086, 6087, 6088, 6089, 6090, 6091, 6092, 6093, 6094, 6095, 6096, 6097, 6098, 6099, 6100, 6101, 6102, 6103, 6104, 6105, 6106, 6107, 6108, 6109, 6110, 6111, 6112, 6113, 6114, 6115, 6116, 6117, 6118, 6119, 6120, 6121, 6122, 6123, 6124, 6125, 6126, 6127, 6128, 6129, 6130, 6131, 6132, 6133, 6134, 6135, 6136, 6137, 6138, 6139, 6140, 6141, 6142, 6156, 6157, 6163, 6164, 6165, 6166, 6167, 6168, 6169, 6170, 6171, 6172, 6173, 6174, 6175, 6176, 6177, 6178, 6179, 6180, 6181, 6182, 6183, 6184, 6185, 6186, 6187, 6188, 6189, 6190, 6191, 6192, 6193, 6194, 6195, 6196, 6197, 6198, 6199, 6200, 6201, 6202, 6203, 6204, 6205, 6206, 6207, 6208, 6209, 6210, 6211, 6212, 6213, 6214, 6215, 6216, 6217, 6218, 6219, 6220, 6221, 6222, 6223, 6224, 6237, 6243, 6244, 6245, 6246, 6247, 6248, 6249, 6250, 6251, 6252, 6253, 6254, 6255, 6256, 6257, 6258, 6259, 6260, 6261, 6262, 6263, 6264, 6265, 6266, 6267, 6268, 6269, 6270, 6271, 6272, 6273, 6274, 6275, 6276, 6277, 6278, 6279, 6280, 6281, 6282, 6283, 6284, 6285, 6286, 6287, 6288, 6289, 6290, 6291, 6292, 6293, 6294, 6295, 6296, 6297, 6298, 6299, 6300, 6301, 6302, 6303, 6304, 6305, 6306, 6323, 6324, 6325, 6326, 6327, 6328, 6329, 6330, 6331, 6332, 6333, 6334, 6335, 6336, 6337, 6338, 6339, 6340, 6341, 6342, 6343, 6344, 6345, 6346, 6347, 6348, 6349, 6350, 6351, 6352, 6353, 6354, 6355, 6356, 6357, 6358, 6359, 6360, 6361, 6362, 6363, 6364, 6365, 6366, 6367, 6368, 6369, 6370, 6371, 6372, 6373, 6374, 6375, 6376, 6377, 6378, 6379, 6380, 6381, 6382, 6383, 6384, 6385, 6386, 6387, 6388, 6403, 6404, 6405, 6406, 6407, 6408, 6409, 6410, 6411, 6412, 6413, 6414, 6415, 6416, 6417, 6418, 6419, 6420, 6421, 6422, 6423, 6424, 6425, 6426, 6427, 6428, 6429, 6430, 6431, 6432, 6433, 6434, 6435, 6436, 6437, 6438, 6439, 6440, 6441, 6442, 6443, 6444, 6445, 6446, 6447, 6448, 6449, 6450, 6451, 6452, 6453, 6454, 6455, 6456, 6457, 6458, 6459, 6460, 6461, 6462, 6463, 6464, 6465, 6466, 6467, 6468, 6469, 6483, 6484, 6485, 6486, 6487, 6488, 6489, 6490, 6491, 6492, 6493, 6494, 6495, 6496, 6497, 6498, 6499, 6500, 6501, 6502, 6503, 6504, 6505, 6506, 6507, 6508, 6509, 6510, 6511, 6512, 6513, 6514, 6515, 6516, 6517, 6518, 6519, 6520, 6521, 6522, 6523, 6524, 6525, 6526, 6527, 6528, 6529, 6530, 6531, 6532, 6533, 6534, 6535, 6536, 6537, 6538, 6539, 6540, 6541, 6542, 6543, 6544, 6545, 6546, 6547, 6548, 6549, 6550, 6551]\n",
      "val ids:  []\n",
      "test ids:  [0, 1, 2, 3, 4, 5, 6, 7, 8, 78, 79, 80, 81, 82, 83, 84, 85, 86, 87, 88, 89, 90, 158, 159, 160, 161, 162, 163, 164, 165, 166, 167, 168, 169, 170, 171, 238, 239, 240, 241, 242, 243, 244, 245, 246, 247, 248, 249, 250, 251, 252, 253, 318, 319, 320, 321, 322, 324, 325, 326, 327, 328, 329, 330, 331, 332, 333, 334, 335, 398, 399, 400, 401, 402, 405, 406, 407, 408, 409, 410, 411, 412, 413, 414, 415, 416, 417, 478, 479, 480, 481, 482, 486, 487, 488, 489, 490, 491, 492, 493, 494, 495, 496, 497, 498, 499, 558, 559, 560, 561, 562, 567, 568, 569, 570, 571, 572, 573, 574, 575, 576, 577, 578, 579, 580, 638, 639, 640, 641, 642, 648, 649, 650, 651, 652, 653, 654, 655, 656, 657, 658, 659, 660, 661, 662, 718, 719, 720, 721, 722, 729, 730, 731, 732, 733, 734, 735, 736, 737, 738, 739, 740, 741, 742, 743, 744, 798, 799, 800, 801, 802, 810, 811, 812, 813, 814, 815, 816, 817, 818, 819, 820, 821, 822, 823, 824, 825, 826, 878, 879, 880, 881, 882, 892, 893, 894, 895, 896, 897, 898, 899, 900, 901, 902, 903, 904, 905, 906, 907, 908, 958, 959, 960, 961, 962, 974, 975, 976, 977, 978, 979, 980, 981, 982, 983, 984, 985, 986, 987, 988, 989, 1039, 1040, 1041, 1057, 1058, 1059, 1060, 1061, 1062, 1063, 1064, 1065, 1066, 1067, 1068, 1069, 1070, 1071, 1119, 1120, 1121, 1139, 1140, 1141, 1142, 1143, 1144, 1145, 1146, 1147, 1148, 1149, 1150, 1151, 1152, 1153, 1199, 1200, 1201, 1221, 1222, 1223, 1224, 1225, 1226, 1227, 1228, 1229, 1230, 1231, 1232, 1233, 1234, 1235, 1279, 1280, 1281, 1304, 1305, 1306, 1307, 1308, 1309, 1310, 1311, 1312, 1313, 1314, 1315, 1316, 1359, 1360, 1361, 1386, 1387, 1388, 1389, 1390, 1391, 1392, 1393, 1394, 1395, 1396, 1397, 1398, 1439, 1440, 1441, 1469, 1470, 1471, 1472, 1473, 1474, 1475, 1476, 1477, 1478, 1479, 1480, 1519, 1520, 1521, 1551, 1552, 1553, 1554, 1555, 1556, 1557, 1558, 1559, 1560, 1561, 1562, 1599, 1600, 1601, 1633, 1634, 1635, 1636, 1637, 1638, 1639, 1640, 1641, 1642, 1643, 1644, 1679, 1680, 1681, 1716, 1717, 1718, 1719, 1720, 1721, 1722, 1723, 1724, 1725, 1759, 1760, 1761, 1798, 1799, 1800, 1801, 1802, 1803, 1804, 1805, 1806, 1807, 1839, 1840, 1841, 1880, 1881, 1882, 1883, 1884, 1885, 1886, 1887, 1888, 1889, 1919, 1920, 1921, 1963, 1964, 1965, 1966, 1967, 1968, 1969, 1970, 1971, 1999, 2000, 2001, 2045, 2046, 2047, 2048, 2049, 2050, 2051, 2052, 2053, 2079, 2080, 2081, 2127, 2128, 2129, 2130, 2131, 2132, 2133, 2134, 2160, 2210, 2211, 2212, 2213, 2214, 2215, 2216, 2240, 2292, 2293, 2294, 2295, 2296, 2297, 2298, 2320, 2375, 2376, 2377, 2378, 2379, 2380, 2400, 2457, 2458, 2459, 2460, 2461, 2462, 2480, 2539, 2540, 2541, 2542, 2543, 2560, 2622, 2623, 2624, 2625, 2640, 2704, 2705, 2706, 2707, 2720, 2786, 2787, 2788, 2789, 2800, 2869, 2870, 2871, 2880, 2951, 2952, 2960, 3033, 3034, 3040, 3116, 3120, 3198, 3200, 3280, 3360, 3362, 3440, 3444, 3520, 3526, 3527, 3600, 3608, 3609, 3680, 3689, 3690, 3691, 3760, 3771, 3772, 3773, 3774, 3840, 3853, 3854, 3855, 3856, 3920, 3935, 3936, 3937, 3938, 4000, 4017, 4018, 4019, 4020, 4021, 4080, 4098, 4099, 4100, 4101, 4102, 4103, 4160, 4180, 4181, 4182, 4183, 4184, 4185, 4240, 4262, 4263, 4264, 4265, 4266, 4267, 4268, 4320, 4344, 4345, 4346, 4347, 4348, 4349, 4350, 4400, 4426, 4427, 4428, 4429, 4430, 4431, 4432, 4433, 4479, 4480, 4481, 4507, 4508, 4509, 4510, 4511, 4512, 4513, 4514, 4515, 4559, 4560, 4561, 4589, 4590, 4591, 4592, 4593, 4594, 4595, 4596, 4597, 4639, 4640, 4641, 4671, 4672, 4673, 4674, 4675, 4676, 4677, 4678, 4679, 4680, 4719, 4720, 4721, 4753, 4754, 4755, 4756, 4757, 4758, 4759, 4760, 4761, 4762, 4799, 4800, 4801, 4835, 4836, 4837, 4838, 4839, 4840, 4841, 4842, 4843, 4844, 4879, 4880, 4881, 4916, 4917, 4918, 4919, 4920, 4921, 4922, 4923, 4924, 4925, 4926, 4927, 4959, 4960, 4961, 4998, 4999, 5000, 5001, 5002, 5003, 5004, 5005, 5006, 5007, 5008, 5009, 5039, 5040, 5041, 5080, 5081, 5082, 5083, 5084, 5085, 5086, 5087, 5088, 5089, 5090, 5091, 5119, 5120, 5121, 5162, 5163, 5164, 5165, 5166, 5167, 5168, 5169, 5170, 5171, 5172, 5173, 5174, 5199, 5200, 5201, 5244, 5245, 5246, 5247, 5248, 5249, 5250, 5251, 5252, 5253, 5254, 5255, 5256, 5279, 5280, 5281, 5325, 5326, 5327, 5328, 5329, 5330, 5331, 5332, 5333, 5334, 5335, 5336, 5337, 5338, 5339, 5359, 5360, 5361, 5407, 5408, 5409, 5410, 5411, 5412, 5413, 5414, 5415, 5416, 5417, 5418, 5419, 5420, 5421, 5439, 5440, 5441, 5489, 5490, 5491, 5492, 5493, 5494, 5495, 5496, 5497, 5498, 5499, 5500, 5501, 5502, 5503, 5519, 5520, 5521, 5571, 5572, 5573, 5574, 5575, 5576, 5577, 5578, 5579, 5580, 5581, 5582, 5583, 5584, 5585, 5586, 5598, 5599, 5600, 5601, 5602, 5652, 5653, 5654, 5655, 5656, 5657, 5658, 5659, 5660, 5661, 5662, 5663, 5664, 5665, 5666, 5667, 5668, 5678, 5679, 5680, 5681, 5682, 5734, 5735, 5736, 5737, 5738, 5739, 5740, 5741, 5742, 5743, 5744, 5745, 5746, 5747, 5748, 5749, 5750, 5758, 5759, 5760, 5761, 5762, 5816, 5817, 5818, 5819, 5820, 5821, 5822, 5823, 5824, 5825, 5826, 5827, 5828, 5829, 5830, 5831, 5838, 5839, 5840, 5841, 5842, 5898, 5899, 5900, 5901, 5902, 5903, 5904, 5905, 5906, 5907, 5908, 5909, 5910, 5911, 5912, 5918, 5919, 5920, 5921, 5922, 5980, 5981, 5982, 5983, 5984, 5985, 5986, 5987, 5988, 5989, 5990, 5991, 5992, 5993, 5998, 5999, 6000, 6001, 6002, 6061, 6062, 6063, 6064, 6065, 6066, 6067, 6068, 6069, 6070, 6071, 6072, 6073, 6074, 6078, 6079, 6080, 6081, 6082, 6143, 6144, 6145, 6146, 6147, 6148, 6149, 6150, 6151, 6152, 6153, 6154, 6155, 6158, 6159, 6160, 6161, 6162, 6225, 6226, 6227, 6228, 6229, 6230, 6231, 6232, 6233, 6234, 6235, 6236, 6238, 6239, 6240, 6241, 6242, 6307, 6308, 6309, 6310, 6311, 6312, 6313, 6314, 6315, 6316, 6317, 6318, 6319, 6320, 6321, 6322, 6389, 6390, 6391, 6392, 6393, 6394, 6395, 6396, 6397, 6398, 6399, 6400, 6401, 6402, 6470, 6471, 6472, 6473, 6474, 6475, 6476, 6477, 6478, 6479, 6480, 6481, 6482, 6552, 6553, 6554, 6555, 6556, 6557, 6558, 6559, 6560]\n",
      "CPU times: user 192 ms, sys: 19.1 ms, total: 211 ms\n",
      "Wall time: 210 ms\n"
     ]
    }
   ],
   "source": [
    "%%time\n",
    "n_total = len(simulation.dataframe)\n",
    "n_train = len(simulation.dataframe[simulation.dataframe.type_of == \"train\"])\n",
    "n_val = len(simulation.dataframe[simulation.dataframe.type_of == \"val\"])\n",
    "n_test = len(simulation.dataframe[simulation.dataframe.type_of == \"test\"])\n",
    "n_train_hamiltonians = len(simulation.train_ids)\n",
    "n_val_hamiltonians = len(simulation.val_ids)\n",
    "n_test_hamiltonians = len(simulation.test_ids)\n",
    "n_total_hamiltonians = n_train_hamiltonians + n_val_hamiltonians + n_test_hamiltonians\n",
    "\n",
    "print(\"% train: \", n_train/n_total)\n",
    "print(\"% val: \",  n_val/n_total)\n",
    "print(\"% test: \", n_test/n_total)\n",
    "print(\"% train + val + test: \", (n_train+n_val+n_test)/n_total)\n",
    "print(\"\\n\")\n",
    "print(\"number of train hamiltonians: \", n_train_hamiltonians)\n",
    "print(\"number of val hamiltonians: \", n_val_hamiltonians)\n",
    "print(\"number of test hamiltonians: \", n_test_hamiltonians)\n",
    "print(\"total number of hamiltonians: \", n_total_hamiltonians)\n",
    "print(\"\\n\")\n",
    "print(\"train ids: \", simulation.train_ids)\n",
    "print(\"val ids: \", simulation.val_ids)\n",
    "print(\"test ids: \", simulation.test_ids)"
   ]
  },
  {
   "cell_type": "markdown",
   "metadata": {
    "papermill": {
     "duration": 0.017963,
     "end_time": "2020-07-09T18:32:26.962015",
     "exception": false,
     "start_time": "2020-07-09T18:32:26.944052",
     "status": "completed"
    },
    "tags": []
   },
   "source": [
    "## Running a simulation"
   ]
  },
  {
   "cell_type": "code",
   "execution_count": 23,
   "metadata": {
    "execution": {
     "iopub.execute_input": "2020-07-09T18:32:26.998913Z",
     "iopub.status.busy": "2020-07-09T18:32:26.998598Z",
     "iopub.status.idle": "2020-07-09T18:36:19.698690Z",
     "shell.execute_reply": "2020-07-09T18:36:19.698384Z"
    },
    "papermill": {
     "duration": 232.719421,
     "end_time": "2020-07-09T18:36:19.698743",
     "exception": false,
     "start_time": "2020-07-09T18:32:26.979322",
     "status": "completed"
    },
    "tags": []
   },
   "outputs": [
    {
     "name": "stderr",
     "output_type": "stream",
     "text": [
      "\r",
      "running experiments:   0%|          | 0/100 [00:00<?, ?it/s]"
     ]
    },
    {
     "name": "stderr",
     "output_type": "stream",
     "text": [
      "\r",
      "running experiments:   1%|          | 1/100 [00:02<03:54,  2.36s/it]"
     ]
    },
    {
     "name": "stderr",
     "output_type": "stream",
     "text": [
      "\r",
      "running experiments:   2%|▏         | 2/100 [00:04<03:51,  2.37s/it]"
     ]
    },
    {
     "name": "stderr",
     "output_type": "stream",
     "text": [
      "\r",
      "running experiments:   3%|▎         | 3/100 [00:07<03:48,  2.36s/it]"
     ]
    },
    {
     "name": "stderr",
     "output_type": "stream",
     "text": [
      "\r",
      "running experiments:   4%|▍         | 4/100 [00:09<03:41,  2.30s/it]"
     ]
    },
    {
     "name": "stderr",
     "output_type": "stream",
     "text": [
      "\r",
      "running experiments:   5%|▌         | 5/100 [00:11<03:37,  2.29s/it]"
     ]
    },
    {
     "name": "stderr",
     "output_type": "stream",
     "text": [
      "\r",
      "running experiments:   6%|▌         | 6/100 [00:13<03:37,  2.31s/it]"
     ]
    },
    {
     "name": "stderr",
     "output_type": "stream",
     "text": [
      "\r",
      "running experiments:   7%|▋         | 7/100 [00:16<03:32,  2.29s/it]"
     ]
    },
    {
     "name": "stderr",
     "output_type": "stream",
     "text": [
      "\r",
      "running experiments:   8%|▊         | 8/100 [00:18<03:31,  2.29s/it]"
     ]
    },
    {
     "name": "stderr",
     "output_type": "stream",
     "text": [
      "\r",
      "running experiments:   9%|▉         | 9/100 [00:20<03:26,  2.27s/it]"
     ]
    },
    {
     "name": "stderr",
     "output_type": "stream",
     "text": [
      "\r",
      "running experiments:  10%|█         | 10/100 [00:23<03:27,  2.30s/it]"
     ]
    },
    {
     "name": "stderr",
     "output_type": "stream",
     "text": [
      "\r",
      "running experiments:  11%|█         | 11/100 [00:25<03:23,  2.29s/it]"
     ]
    },
    {
     "name": "stderr",
     "output_type": "stream",
     "text": [
      "\r",
      "running experiments:  12%|█▏        | 12/100 [00:27<03:23,  2.31s/it]"
     ]
    },
    {
     "name": "stderr",
     "output_type": "stream",
     "text": [
      "\r",
      "running experiments:  13%|█▎        | 13/100 [00:29<03:20,  2.30s/it]"
     ]
    },
    {
     "name": "stderr",
     "output_type": "stream",
     "text": [
      "\r",
      "running experiments:  14%|█▍        | 14/100 [00:32<03:18,  2.30s/it]"
     ]
    },
    {
     "name": "stderr",
     "output_type": "stream",
     "text": [
      "\r",
      "running experiments:  15%|█▌        | 15/100 [00:34<03:15,  2.31s/it]"
     ]
    },
    {
     "name": "stderr",
     "output_type": "stream",
     "text": [
      "\r",
      "running experiments:  16%|█▌        | 16/100 [00:36<03:15,  2.33s/it]"
     ]
    },
    {
     "name": "stderr",
     "output_type": "stream",
     "text": [
      "\r",
      "running experiments:  17%|█▋        | 17/100 [00:39<03:14,  2.34s/it]"
     ]
    },
    {
     "name": "stderr",
     "output_type": "stream",
     "text": [
      "\r",
      "running experiments:  18%|█▊        | 18/100 [00:41<03:14,  2.37s/it]"
     ]
    },
    {
     "name": "stderr",
     "output_type": "stream",
     "text": [
      "\r",
      "running experiments:  19%|█▉        | 19/100 [00:43<03:09,  2.34s/it]"
     ]
    },
    {
     "name": "stderr",
     "output_type": "stream",
     "text": [
      "\r",
      "running experiments:  20%|██        | 20/100 [00:46<03:06,  2.33s/it]"
     ]
    },
    {
     "name": "stderr",
     "output_type": "stream",
     "text": [
      "\r",
      "running experiments:  21%|██        | 21/100 [00:48<03:03,  2.32s/it]"
     ]
    },
    {
     "name": "stderr",
     "output_type": "stream",
     "text": [
      "\r",
      "running experiments:  22%|██▏       | 22/100 [00:51<03:04,  2.37s/it]"
     ]
    },
    {
     "name": "stderr",
     "output_type": "stream",
     "text": [
      "\r",
      "running experiments:  23%|██▎       | 23/100 [00:53<03:02,  2.37s/it]"
     ]
    },
    {
     "name": "stderr",
     "output_type": "stream",
     "text": [
      "\r",
      "running experiments:  24%|██▍       | 24/100 [00:56<03:04,  2.43s/it]"
     ]
    },
    {
     "name": "stderr",
     "output_type": "stream",
     "text": [
      "\r",
      "running experiments:  25%|██▌       | 25/100 [00:58<03:01,  2.42s/it]"
     ]
    },
    {
     "name": "stderr",
     "output_type": "stream",
     "text": [
      "\r",
      "running experiments:  26%|██▌       | 26/100 [01:00<02:57,  2.40s/it]"
     ]
    },
    {
     "name": "stderr",
     "output_type": "stream",
     "text": [
      "\r",
      "running experiments:  27%|██▋       | 27/100 [01:03<02:55,  2.41s/it]"
     ]
    },
    {
     "name": "stderr",
     "output_type": "stream",
     "text": [
      "\r",
      "running experiments:  28%|██▊       | 28/100 [01:05<02:52,  2.40s/it]"
     ]
    },
    {
     "name": "stderr",
     "output_type": "stream",
     "text": [
      "\r",
      "running experiments:  29%|██▉       | 29/100 [01:07<02:49,  2.39s/it]"
     ]
    },
    {
     "name": "stderr",
     "output_type": "stream",
     "text": [
      "\r",
      "running experiments:  30%|███       | 30/100 [01:10<02:44,  2.34s/it]"
     ]
    },
    {
     "name": "stderr",
     "output_type": "stream",
     "text": [
      "\r",
      "running experiments:  31%|███       | 31/100 [01:12<02:40,  2.33s/it]"
     ]
    },
    {
     "name": "stderr",
     "output_type": "stream",
     "text": [
      "\r",
      "running experiments:  32%|███▏      | 32/100 [01:14<02:37,  2.31s/it]"
     ]
    },
    {
     "name": "stderr",
     "output_type": "stream",
     "text": [
      "\r",
      "running experiments:  33%|███▎      | 33/100 [01:17<02:38,  2.36s/it]"
     ]
    },
    {
     "name": "stderr",
     "output_type": "stream",
     "text": [
      "\r",
      "running experiments:  34%|███▍      | 34/100 [01:19<02:35,  2.36s/it]"
     ]
    },
    {
     "name": "stderr",
     "output_type": "stream",
     "text": [
      "\r",
      "running experiments:  35%|███▌      | 35/100 [01:21<02:31,  2.33s/it]"
     ]
    },
    {
     "name": "stderr",
     "output_type": "stream",
     "text": [
      "\r",
      "running experiments:  36%|███▌      | 36/100 [01:24<02:29,  2.33s/it]"
     ]
    },
    {
     "name": "stderr",
     "output_type": "stream",
     "text": [
      "\r",
      "running experiments:  37%|███▋      | 37/100 [01:26<02:27,  2.35s/it]"
     ]
    },
    {
     "name": "stderr",
     "output_type": "stream",
     "text": [
      "\r",
      "running experiments:  38%|███▊      | 38/100 [01:28<02:23,  2.32s/it]"
     ]
    },
    {
     "name": "stderr",
     "output_type": "stream",
     "text": [
      "\r",
      "running experiments:  39%|███▉      | 39/100 [01:31<02:21,  2.31s/it]"
     ]
    },
    {
     "name": "stderr",
     "output_type": "stream",
     "text": [
      "\r",
      "running experiments:  40%|████      | 40/100 [01:33<02:19,  2.33s/it]"
     ]
    },
    {
     "name": "stderr",
     "output_type": "stream",
     "text": [
      "\r",
      "running experiments:  41%|████      | 41/100 [01:35<02:16,  2.31s/it]"
     ]
    },
    {
     "name": "stderr",
     "output_type": "stream",
     "text": [
      "\r",
      "running experiments:  42%|████▏     | 42/100 [01:38<02:13,  2.30s/it]"
     ]
    },
    {
     "name": "stderr",
     "output_type": "stream",
     "text": [
      "\r",
      "running experiments:  43%|████▎     | 43/100 [01:40<02:13,  2.34s/it]"
     ]
    },
    {
     "name": "stderr",
     "output_type": "stream",
     "text": [
      "\r",
      "running experiments:  44%|████▍     | 44/100 [01:42<02:10,  2.34s/it]"
     ]
    },
    {
     "name": "stderr",
     "output_type": "stream",
     "text": [
      "\r",
      "running experiments:  45%|████▌     | 45/100 [01:45<02:07,  2.32s/it]"
     ]
    },
    {
     "name": "stderr",
     "output_type": "stream",
     "text": [
      "\r",
      "running experiments:  46%|████▌     | 46/100 [01:47<02:06,  2.35s/it]"
     ]
    },
    {
     "name": "stderr",
     "output_type": "stream",
     "text": [
      "\r",
      "running experiments:  47%|████▋     | 47/100 [01:49<02:05,  2.36s/it]"
     ]
    },
    {
     "name": "stderr",
     "output_type": "stream",
     "text": [
      "\r",
      "running experiments:  48%|████▊     | 48/100 [01:52<02:06,  2.42s/it]"
     ]
    },
    {
     "name": "stderr",
     "output_type": "stream",
     "text": [
      "\r",
      "running experiments:  49%|████▉     | 49/100 [01:54<02:01,  2.38s/it]"
     ]
    },
    {
     "name": "stderr",
     "output_type": "stream",
     "text": [
      "\r",
      "running experiments:  50%|█████     | 50/100 [01:57<02:00,  2.41s/it]"
     ]
    },
    {
     "name": "stderr",
     "output_type": "stream",
     "text": [
      "\r",
      "running experiments:  51%|█████     | 51/100 [01:59<01:56,  2.38s/it]"
     ]
    },
    {
     "name": "stderr",
     "output_type": "stream",
     "text": [
      "\r",
      "running experiments:  52%|█████▏    | 52/100 [02:01<01:52,  2.34s/it]"
     ]
    },
    {
     "name": "stderr",
     "output_type": "stream",
     "text": [
      "\r",
      "running experiments:  53%|█████▎    | 53/100 [02:03<01:48,  2.30s/it]"
     ]
    },
    {
     "name": "stderr",
     "output_type": "stream",
     "text": [
      "\r",
      "running experiments:  54%|█████▍    | 54/100 [02:06<01:45,  2.30s/it]"
     ]
    },
    {
     "name": "stderr",
     "output_type": "stream",
     "text": [
      "\r",
      "running experiments:  55%|█████▌    | 55/100 [02:08<01:44,  2.32s/it]"
     ]
    },
    {
     "name": "stderr",
     "output_type": "stream",
     "text": [
      "\r",
      "running experiments:  56%|█████▌    | 56/100 [02:10<01:41,  2.31s/it]"
     ]
    },
    {
     "name": "stderr",
     "output_type": "stream",
     "text": [
      "\r",
      "running experiments:  57%|█████▋    | 57/100 [02:13<01:40,  2.34s/it]"
     ]
    },
    {
     "name": "stderr",
     "output_type": "stream",
     "text": [
      "\r",
      "running experiments:  58%|█████▊    | 58/100 [02:15<01:38,  2.34s/it]"
     ]
    },
    {
     "name": "stderr",
     "output_type": "stream",
     "text": [
      "\r",
      "running experiments:  59%|█████▉    | 59/100 [02:17<01:35,  2.33s/it]"
     ]
    },
    {
     "name": "stderr",
     "output_type": "stream",
     "text": [
      "\r",
      "running experiments:  60%|██████    | 60/100 [02:20<01:32,  2.32s/it]"
     ]
    },
    {
     "name": "stderr",
     "output_type": "stream",
     "text": [
      "\r",
      "running experiments:  61%|██████    | 61/100 [02:22<01:29,  2.29s/it]"
     ]
    },
    {
     "name": "stderr",
     "output_type": "stream",
     "text": [
      "\r",
      "running experiments:  62%|██████▏   | 62/100 [02:24<01:27,  2.29s/it]"
     ]
    },
    {
     "name": "stderr",
     "output_type": "stream",
     "text": [
      "\r",
      "running experiments:  63%|██████▎   | 63/100 [02:27<01:26,  2.33s/it]"
     ]
    },
    {
     "name": "stderr",
     "output_type": "stream",
     "text": [
      "\r",
      "running experiments:  64%|██████▍   | 64/100 [02:29<01:23,  2.32s/it]"
     ]
    },
    {
     "name": "stderr",
     "output_type": "stream",
     "text": [
      "\r",
      "running experiments:  65%|██████▌   | 65/100 [02:31<01:19,  2.28s/it]"
     ]
    },
    {
     "name": "stderr",
     "output_type": "stream",
     "text": [
      "\r",
      "running experiments:  66%|██████▌   | 66/100 [02:34<01:19,  2.33s/it]"
     ]
    },
    {
     "name": "stderr",
     "output_type": "stream",
     "text": [
      "\r",
      "running experiments:  67%|██████▋   | 67/100 [02:36<01:15,  2.30s/it]"
     ]
    },
    {
     "name": "stderr",
     "output_type": "stream",
     "text": [
      "\r",
      "running experiments:  68%|██████▊   | 68/100 [02:38<01:14,  2.32s/it]"
     ]
    },
    {
     "name": "stderr",
     "output_type": "stream",
     "text": [
      "\r",
      "running experiments:  69%|██████▉   | 69/100 [02:40<01:11,  2.30s/it]"
     ]
    },
    {
     "name": "stderr",
     "output_type": "stream",
     "text": [
      "\r",
      "running experiments:  70%|███████   | 70/100 [02:43<01:08,  2.28s/it]"
     ]
    },
    {
     "name": "stderr",
     "output_type": "stream",
     "text": [
      "\r",
      "running experiments:  71%|███████   | 71/100 [02:45<01:06,  2.29s/it]"
     ]
    },
    {
     "name": "stderr",
     "output_type": "stream",
     "text": [
      "\r",
      "running experiments:  72%|███████▏  | 72/100 [02:47<01:04,  2.32s/it]"
     ]
    },
    {
     "name": "stderr",
     "output_type": "stream",
     "text": [
      "\r",
      "running experiments:  73%|███████▎  | 73/100 [02:50<01:02,  2.31s/it]"
     ]
    },
    {
     "name": "stderr",
     "output_type": "stream",
     "text": [
      "\r",
      "running experiments:  74%|███████▍  | 74/100 [02:52<01:00,  2.34s/it]"
     ]
    },
    {
     "name": "stderr",
     "output_type": "stream",
     "text": [
      "\r",
      "running experiments:  75%|███████▌  | 75/100 [02:54<00:57,  2.30s/it]"
     ]
    },
    {
     "name": "stderr",
     "output_type": "stream",
     "text": [
      "\r",
      "running experiments:  76%|███████▌  | 76/100 [02:57<00:55,  2.30s/it]"
     ]
    },
    {
     "name": "stderr",
     "output_type": "stream",
     "text": [
      "\r",
      "running experiments:  77%|███████▋  | 77/100 [02:59<00:52,  2.28s/it]"
     ]
    },
    {
     "name": "stderr",
     "output_type": "stream",
     "text": [
      "\r",
      "running experiments:  78%|███████▊  | 78/100 [03:01<00:50,  2.29s/it]"
     ]
    },
    {
     "name": "stderr",
     "output_type": "stream",
     "text": [
      "\r",
      "running experiments:  79%|███████▉  | 79/100 [03:04<00:48,  2.33s/it]"
     ]
    },
    {
     "name": "stderr",
     "output_type": "stream",
     "text": [
      "\r",
      "running experiments:  80%|████████  | 80/100 [03:06<00:46,  2.35s/it]"
     ]
    },
    {
     "name": "stderr",
     "output_type": "stream",
     "text": [
      "\r",
      "running experiments:  81%|████████  | 81/100 [03:08<00:44,  2.32s/it]"
     ]
    },
    {
     "name": "stderr",
     "output_type": "stream",
     "text": [
      "\r",
      "running experiments:  82%|████████▏ | 82/100 [03:11<00:41,  2.31s/it]"
     ]
    },
    {
     "name": "stderr",
     "output_type": "stream",
     "text": [
      "\r",
      "running experiments:  83%|████████▎ | 83/100 [03:13<00:39,  2.34s/it]"
     ]
    },
    {
     "name": "stderr",
     "output_type": "stream",
     "text": [
      "\r",
      "running experiments:  84%|████████▍ | 84/100 [03:15<00:37,  2.34s/it]"
     ]
    },
    {
     "name": "stderr",
     "output_type": "stream",
     "text": [
      "\r",
      "running experiments:  85%|████████▌ | 85/100 [03:18<00:34,  2.32s/it]"
     ]
    },
    {
     "name": "stderr",
     "output_type": "stream",
     "text": [
      "\r",
      "running experiments:  86%|████████▌ | 86/100 [03:20<00:32,  2.31s/it]"
     ]
    },
    {
     "name": "stderr",
     "output_type": "stream",
     "text": [
      "\r",
      "running experiments:  87%|████████▋ | 87/100 [03:22<00:29,  2.30s/it]"
     ]
    },
    {
     "name": "stderr",
     "output_type": "stream",
     "text": [
      "\r",
      "running experiments:  88%|████████▊ | 88/100 [03:24<00:27,  2.32s/it]"
     ]
    },
    {
     "name": "stderr",
     "output_type": "stream",
     "text": [
      "\r",
      "running experiments:  89%|████████▉ | 89/100 [03:27<00:25,  2.35s/it]"
     ]
    },
    {
     "name": "stderr",
     "output_type": "stream",
     "text": [
      "\r",
      "running experiments:  90%|█████████ | 90/100 [03:29<00:23,  2.32s/it]"
     ]
    },
    {
     "name": "stderr",
     "output_type": "stream",
     "text": [
      "\r",
      "running experiments:  91%|█████████ | 91/100 [03:31<00:20,  2.29s/it]"
     ]
    },
    {
     "name": "stderr",
     "output_type": "stream",
     "text": [
      "\r",
      "running experiments:  92%|█████████▏| 92/100 [03:34<00:18,  2.30s/it]"
     ]
    },
    {
     "name": "stderr",
     "output_type": "stream",
     "text": [
      "\r",
      "running experiments:  93%|█████████▎| 93/100 [03:36<00:15,  2.28s/it]"
     ]
    },
    {
     "name": "stderr",
     "output_type": "stream",
     "text": [
      "\r",
      "running experiments:  94%|█████████▍| 94/100 [03:38<00:13,  2.27s/it]"
     ]
    },
    {
     "name": "stderr",
     "output_type": "stream",
     "text": [
      "\r",
      "running experiments:  95%|█████████▌| 95/100 [03:40<00:11,  2.26s/it]"
     ]
    },
    {
     "name": "stderr",
     "output_type": "stream",
     "text": [
      "\r",
      "running experiments:  96%|█████████▌| 96/100 [03:43<00:09,  2.28s/it]"
     ]
    },
    {
     "name": "stderr",
     "output_type": "stream",
     "text": [
      "\r",
      "running experiments:  97%|█████████▋| 97/100 [03:45<00:06,  2.33s/it]"
     ]
    },
    {
     "name": "stderr",
     "output_type": "stream",
     "text": [
      "\r",
      "running experiments:  98%|█████████▊| 98/100 [03:47<00:04,  2.30s/it]"
     ]
    },
    {
     "name": "stderr",
     "output_type": "stream",
     "text": [
      "\r",
      "running experiments:  99%|█████████▉| 99/100 [03:50<00:02,  2.32s/it]"
     ]
    },
    {
     "name": "stderr",
     "output_type": "stream",
     "text": [
      "\r",
      "running experiments: 100%|██████████| 100/100 [03:52<00:00,  2.35s/it]"
     ]
    },
    {
     "name": "stderr",
     "output_type": "stream",
     "text": [
      "\r",
      "running experiments: 100%|██████████| 100/100 [03:52<00:00,  2.33s/it]"
     ]
    },
    {
     "name": "stdout",
     "output_type": "stream",
     "text": [
      "CPU times: user 3min 51s, sys: 870 ms, total: 3min 52s\n",
      "Wall time: 3min 52s\n"
     ]
    },
    {
     "name": "stderr",
     "output_type": "stream",
     "text": [
      "\n"
     ]
    }
   ],
   "source": [
    "%%time\n",
    "simulation.run_simulation(n_experiments, start_n, fit_params,shuffle_rows, pred_params, random_features, \\\n",
    "                          store_in_lists, save_eigenvector, save_hamiltonian, save_accuracy,\\\n",
    "                          save_models)\n",
    "if simulation.fourier_mode is not None:\n",
    "    simulation.fourier_dataframe.head(10)"
   ]
  },
  {
   "cell_type": "code",
   "execution_count": 24,
   "metadata": {
    "execution": {
     "iopub.execute_input": "2020-07-09T18:36:19.770356Z",
     "iopub.status.busy": "2020-07-09T18:36:19.770047Z",
     "iopub.status.idle": "2020-07-09T18:36:19.794929Z",
     "shell.execute_reply": "2020-07-09T18:36:19.794609Z"
    },
    "papermill": {
     "duration": 0.061176,
     "end_time": "2020-07-09T18:36:19.794979",
     "exception": false,
     "start_time": "2020-07-09T18:36:19.733803",
     "status": "completed"
    },
    "tags": []
   },
   "outputs": [
    {
     "data": {
      "text/html": [
       "<div>\n",
       "<style scoped>\n",
       "    .dataframe tbody tr th:only-of-type {\n",
       "        vertical-align: middle;\n",
       "    }\n",
       "\n",
       "    .dataframe tbody tr th {\n",
       "        vertical-align: top;\n",
       "    }\n",
       "\n",
       "    .dataframe thead th {\n",
       "        text-align: right;\n",
       "    }\n",
       "</style>\n",
       "<table border=\"1\" class=\"dataframe\">\n",
       "  <thead>\n",
       "    <tr style=\"text-align: right;\">\n",
       "      <th></th>\n",
       "      <th>id</th>\n",
       "      <th>path</th>\n",
       "      <th>t1</th>\n",
       "      <th>t2</th>\n",
       "      <th>winding</th>\n",
       "      <th>phase</th>\n",
       "      <th>pred_phase</th>\n",
       "      <th>type_of</th>\n",
       "      <th>feat0</th>\n",
       "      <th>feat1</th>\n",
       "      <th>...</th>\n",
       "      <th>feat90</th>\n",
       "      <th>feat91</th>\n",
       "      <th>feat92</th>\n",
       "      <th>feat93</th>\n",
       "      <th>feat94</th>\n",
       "      <th>feat95</th>\n",
       "      <th>feat96</th>\n",
       "      <th>feat97</th>\n",
       "      <th>feat98</th>\n",
       "      <th>feat99</th>\n",
       "    </tr>\n",
       "  </thead>\n",
       "  <tbody>\n",
       "    <tr>\n",
       "      <th>0</th>\n",
       "      <td>0</td>\n",
       "      <td>H_-2_-2_0.509296.dat</td>\n",
       "      <td>-2.0</td>\n",
       "      <td>-2.0</td>\n",
       "      <td>0.509296</td>\n",
       "      <td>999</td>\n",
       "      <td>666</td>\n",
       "      <td>test</td>\n",
       "      <td>0.100000</td>\n",
       "      <td>0.100000</td>\n",
       "      <td>...</td>\n",
       "      <td>0.100000</td>\n",
       "      <td>0.100000</td>\n",
       "      <td>0.100000</td>\n",
       "      <td>0.100000</td>\n",
       "      <td>0.100000</td>\n",
       "      <td>0.100000</td>\n",
       "      <td>0.100000</td>\n",
       "      <td>0.100000</td>\n",
       "      <td>0.100000</td>\n",
       "      <td>0.100000</td>\n",
       "    </tr>\n",
       "    <tr>\n",
       "      <th>1</th>\n",
       "      <td>0</td>\n",
       "      <td>H_-2_-2_0.509296.dat</td>\n",
       "      <td>-2.0</td>\n",
       "      <td>-2.0</td>\n",
       "      <td>0.509296</td>\n",
       "      <td>999</td>\n",
       "      <td>666</td>\n",
       "      <td>test</td>\n",
       "      <td>0.141421</td>\n",
       "      <td>0.141142</td>\n",
       "      <td>...</td>\n",
       "      <td>0.114412</td>\n",
       "      <td>0.108967</td>\n",
       "      <td>0.123928</td>\n",
       "      <td>0.119406</td>\n",
       "      <td>0.131490</td>\n",
       "      <td>0.127962</td>\n",
       "      <td>0.136978</td>\n",
       "      <td>0.134500</td>\n",
       "      <td>0.140306</td>\n",
       "      <td>0.138916</td>\n",
       "    </tr>\n",
       "    <tr>\n",
       "      <th>2</th>\n",
       "      <td>0</td>\n",
       "      <td>H_-2_-2_0.509296.dat</td>\n",
       "      <td>-2.0</td>\n",
       "      <td>-2.0</td>\n",
       "      <td>0.509296</td>\n",
       "      <td>999</td>\n",
       "      <td>666</td>\n",
       "      <td>test</td>\n",
       "      <td>0.141421</td>\n",
       "      <td>0.140306</td>\n",
       "      <td>...</td>\n",
       "      <td>0.043702</td>\n",
       "      <td>0.026500</td>\n",
       "      <td>0.075777</td>\n",
       "      <td>0.060214</td>\n",
       "      <td>0.103092</td>\n",
       "      <td>0.090145</td>\n",
       "      <td>0.123928</td>\n",
       "      <td>0.114412</td>\n",
       "      <td>0.136978</td>\n",
       "      <td>0.131490</td>\n",
       "    </tr>\n",
       "    <tr>\n",
       "      <th>3</th>\n",
       "      <td>0</td>\n",
       "      <td>H_-2_-2_0.509296.dat</td>\n",
       "      <td>-2.0</td>\n",
       "      <td>-2.0</td>\n",
       "      <td>0.509296</td>\n",
       "      <td>999</td>\n",
       "      <td>666</td>\n",
       "      <td>test</td>\n",
       "      <td>-0.100000</td>\n",
       "      <td>0.100000</td>\n",
       "      <td>...</td>\n",
       "      <td>-0.100000</td>\n",
       "      <td>0.100000</td>\n",
       "      <td>-0.100000</td>\n",
       "      <td>0.100000</td>\n",
       "      <td>-0.100000</td>\n",
       "      <td>0.100000</td>\n",
       "      <td>-0.100000</td>\n",
       "      <td>0.100000</td>\n",
       "      <td>-0.100000</td>\n",
       "      <td>0.100000</td>\n",
       "    </tr>\n",
       "    <tr>\n",
       "      <th>4</th>\n",
       "      <td>0</td>\n",
       "      <td>H_-2_-2_0.509296.dat</td>\n",
       "      <td>-2.0</td>\n",
       "      <td>-2.0</td>\n",
       "      <td>0.509296</td>\n",
       "      <td>999</td>\n",
       "      <td>666</td>\n",
       "      <td>test</td>\n",
       "      <td>0.000509</td>\n",
       "      <td>-0.008372</td>\n",
       "      <td>...</td>\n",
       "      <td>-0.082713</td>\n",
       "      <td>-0.089753</td>\n",
       "      <td>-0.067684</td>\n",
       "      <td>-0.075347</td>\n",
       "      <td>-0.051587</td>\n",
       "      <td>-0.059753</td>\n",
       "      <td>-0.034677</td>\n",
       "      <td>-0.043217</td>\n",
       "      <td>-0.017220</td>\n",
       "      <td>-0.026000</td>\n",
       "    </tr>\n",
       "    <tr>\n",
       "      <th>5</th>\n",
       "      <td>0</td>\n",
       "      <td>H_-2_-2_0.509296.dat</td>\n",
       "      <td>-2.0</td>\n",
       "      <td>-2.0</td>\n",
       "      <td>0.509296</td>\n",
       "      <td>999</td>\n",
       "      <td>666</td>\n",
       "      <td>test</td>\n",
       "      <td>0.001204</td>\n",
       "      <td>-0.016530</td>\n",
       "      <td>...</td>\n",
       "      <td>-0.134123</td>\n",
       "      <td>-0.138686</td>\n",
       "      <td>-0.118757</td>\n",
       "      <td>-0.127445</td>\n",
       "      <td>-0.095929</td>\n",
       "      <td>-0.108196</td>\n",
       "      <td>-0.067073</td>\n",
       "      <td>-0.082149</td>\n",
       "      <td>-0.034003</td>\n",
       "      <td>-0.050940</td>\n",
       "    </tr>\n",
       "    <tr>\n",
       "      <th>6</th>\n",
       "      <td>0</td>\n",
       "      <td>H_-2_-2_0.509296.dat</td>\n",
       "      <td>-2.0</td>\n",
       "      <td>-2.0</td>\n",
       "      <td>0.509296</td>\n",
       "      <td>999</td>\n",
       "      <td>666</td>\n",
       "      <td>test</td>\n",
       "      <td>-0.141421</td>\n",
       "      <td>-0.138980</td>\n",
       "      <td>...</td>\n",
       "      <td>0.043375</td>\n",
       "      <td>0.067830</td>\n",
       "      <td>-0.009222</td>\n",
       "      <td>0.017385</td>\n",
       "      <td>-0.060524</td>\n",
       "      <td>-0.035502</td>\n",
       "      <td>-0.103326</td>\n",
       "      <td>-0.083403</td>\n",
       "      <td>-0.131616</td>\n",
       "      <td>-0.119589</td>\n",
       "    </tr>\n",
       "    <tr>\n",
       "      <th>7</th>\n",
       "      <td>0</td>\n",
       "      <td>H_-2_-2_0.509296.dat</td>\n",
       "      <td>-2.0</td>\n",
       "      <td>-2.0</td>\n",
       "      <td>0.509296</td>\n",
       "      <td>999</td>\n",
       "      <td>666</td>\n",
       "      <td>test</td>\n",
       "      <td>-0.000826</td>\n",
       "      <td>0.025688</td>\n",
       "      <td>...</td>\n",
       "      <td>0.134753</td>\n",
       "      <td>0.124324</td>\n",
       "      <td>0.141088</td>\n",
       "      <td>0.140407</td>\n",
       "      <td>0.127608</td>\n",
       "      <td>0.136771</td>\n",
       "      <td>0.096206</td>\n",
       "      <td>0.113925</td>\n",
       "      <td>0.051292</td>\n",
       "      <td>0.075079</td>\n",
       "    </tr>\n",
       "    <tr>\n",
       "      <th>8</th>\n",
       "      <td>0</td>\n",
       "      <td>H_-2_-2_0.509296.dat</td>\n",
       "      <td>-2.0</td>\n",
       "      <td>-2.0</td>\n",
       "      <td>0.509296</td>\n",
       "      <td>999</td>\n",
       "      <td>666</td>\n",
       "      <td>test</td>\n",
       "      <td>0.141417</td>\n",
       "      <td>0.136684</td>\n",
       "      <td>...</td>\n",
       "      <td>-0.115093</td>\n",
       "      <td>-0.131915</td>\n",
       "      <td>-0.061266</td>\n",
       "      <td>-0.091040</td>\n",
       "      <td>0.007717</td>\n",
       "      <td>-0.027643</td>\n",
       "      <td>0.074791</td>\n",
       "      <td>0.042592</td>\n",
       "      <td>0.123363</td>\n",
       "      <td>0.102291</td>\n",
       "    </tr>\n",
       "    <tr>\n",
       "      <th>9</th>\n",
       "      <td>0</td>\n",
       "      <td>H_-2_-2_0.509296.dat</td>\n",
       "      <td>-2.0</td>\n",
       "      <td>-2.0</td>\n",
       "      <td>0.509296</td>\n",
       "      <td>999</td>\n",
       "      <td>666</td>\n",
       "      <td>test</td>\n",
       "      <td>0.001302</td>\n",
       "      <td>0.036430</td>\n",
       "      <td>...</td>\n",
       "      <td>0.082068</td>\n",
       "      <td>0.050848</td>\n",
       "      <td>0.127402</td>\n",
       "      <td>0.108132</td>\n",
       "      <td>0.141218</td>\n",
       "      <td>0.138667</td>\n",
       "      <td>0.120099</td>\n",
       "      <td>0.134896</td>\n",
       "      <td>0.069268</td>\n",
       "      <td>0.097755</td>\n",
       "    </tr>\n",
       "  </tbody>\n",
       "</table>\n",
       "<p>10 rows × 108 columns</p>\n",
       "</div>"
      ],
      "text/plain": [
       "   id                  path   t1   t2   winding  phase  pred_phase type_of  \\\n",
       "0   0  H_-2_-2_0.509296.dat -2.0 -2.0  0.509296    999         666    test   \n",
       "1   0  H_-2_-2_0.509296.dat -2.0 -2.0  0.509296    999         666    test   \n",
       "2   0  H_-2_-2_0.509296.dat -2.0 -2.0  0.509296    999         666    test   \n",
       "3   0  H_-2_-2_0.509296.dat -2.0 -2.0  0.509296    999         666    test   \n",
       "4   0  H_-2_-2_0.509296.dat -2.0 -2.0  0.509296    999         666    test   \n",
       "5   0  H_-2_-2_0.509296.dat -2.0 -2.0  0.509296    999         666    test   \n",
       "6   0  H_-2_-2_0.509296.dat -2.0 -2.0  0.509296    999         666    test   \n",
       "7   0  H_-2_-2_0.509296.dat -2.0 -2.0  0.509296    999         666    test   \n",
       "8   0  H_-2_-2_0.509296.dat -2.0 -2.0  0.509296    999         666    test   \n",
       "9   0  H_-2_-2_0.509296.dat -2.0 -2.0  0.509296    999         666    test   \n",
       "\n",
       "      feat0     feat1  ...    feat90    feat91    feat92    feat93    feat94  \\\n",
       "0  0.100000  0.100000  ...  0.100000  0.100000  0.100000  0.100000  0.100000   \n",
       "1  0.141421  0.141142  ...  0.114412  0.108967  0.123928  0.119406  0.131490   \n",
       "2  0.141421  0.140306  ...  0.043702  0.026500  0.075777  0.060214  0.103092   \n",
       "3 -0.100000  0.100000  ... -0.100000  0.100000 -0.100000  0.100000 -0.100000   \n",
       "4  0.000509 -0.008372  ... -0.082713 -0.089753 -0.067684 -0.075347 -0.051587   \n",
       "5  0.001204 -0.016530  ... -0.134123 -0.138686 -0.118757 -0.127445 -0.095929   \n",
       "6 -0.141421 -0.138980  ...  0.043375  0.067830 -0.009222  0.017385 -0.060524   \n",
       "7 -0.000826  0.025688  ...  0.134753  0.124324  0.141088  0.140407  0.127608   \n",
       "8  0.141417  0.136684  ... -0.115093 -0.131915 -0.061266 -0.091040  0.007717   \n",
       "9  0.001302  0.036430  ...  0.082068  0.050848  0.127402  0.108132  0.141218   \n",
       "\n",
       "     feat95    feat96    feat97    feat98    feat99  \n",
       "0  0.100000  0.100000  0.100000  0.100000  0.100000  \n",
       "1  0.127962  0.136978  0.134500  0.140306  0.138916  \n",
       "2  0.090145  0.123928  0.114412  0.136978  0.131490  \n",
       "3  0.100000 -0.100000  0.100000 -0.100000  0.100000  \n",
       "4 -0.059753 -0.034677 -0.043217 -0.017220 -0.026000  \n",
       "5 -0.108196 -0.067073 -0.082149 -0.034003 -0.050940  \n",
       "6 -0.035502 -0.103326 -0.083403 -0.131616 -0.119589  \n",
       "7  0.136771  0.096206  0.113925  0.051292  0.075079  \n",
       "8 -0.027643  0.074791  0.042592  0.123363  0.102291  \n",
       "9  0.138667  0.120099  0.134896  0.069268  0.097755  \n",
       "\n",
       "[10 rows x 108 columns]"
      ]
     },
     "execution_count": 24,
     "metadata": {},
     "output_type": "execute_result"
    }
   ],
   "source": [
    "simulation.dataframe.head(10)"
   ]
  },
  {
   "cell_type": "markdown",
   "metadata": {
    "papermill": {
     "duration": 0.034384,
     "end_time": "2020-07-09T18:36:19.864542",
     "exception": false,
     "start_time": "2020-07-09T18:36:19.830158",
     "status": "completed"
    },
    "tags": []
   },
   "source": [
    "#### Viewing a random sample"
   ]
  },
  {
   "cell_type": "code",
   "execution_count": 25,
   "metadata": {
    "execution": {
     "iopub.execute_input": "2020-07-09T18:36:19.937157Z",
     "iopub.status.busy": "2020-07-09T18:36:19.936846Z",
     "iopub.status.idle": "2020-07-09T18:36:19.964772Z",
     "shell.execute_reply": "2020-07-09T18:36:19.964451Z"
    },
    "papermill": {
     "duration": 0.064901,
     "end_time": "2020-07-09T18:36:19.964823",
     "exception": false,
     "start_time": "2020-07-09T18:36:19.899922",
     "status": "completed"
    },
    "tags": []
   },
   "outputs": [
    {
     "name": "stdout",
     "output_type": "stream",
     "text": [
      "CPU times: user 17.7 ms, sys: 12 µs, total: 17.7 ms\n",
      "Wall time: 17.5 ms\n"
     ]
    }
   ],
   "source": [
    "%%time\n",
    "if simulation.fourier_mode is not None:\n",
    "    simulation.fourier_dataframe.sample(frac=0.1, replace=False)"
   ]
  },
  {
   "cell_type": "markdown",
   "metadata": {
    "papermill": {
     "duration": 0.035043,
     "end_time": "2020-07-09T18:36:20.035401",
     "exception": false,
     "start_time": "2020-07-09T18:36:20.000358",
     "status": "completed"
    },
    "tags": []
   },
   "source": [
    "#### Checking train/val/test splits again"
   ]
  },
  {
   "cell_type": "code",
   "execution_count": 26,
   "metadata": {
    "execution": {
     "iopub.execute_input": "2020-07-09T18:36:20.106734Z",
     "iopub.status.busy": "2020-07-09T18:36:20.106409Z",
     "iopub.status.idle": "2020-07-09T18:36:20.287183Z",
     "shell.execute_reply": "2020-07-09T18:36:20.287488Z"
    },
    "papermill": {
     "duration": 0.217526,
     "end_time": "2020-07-09T18:36:20.287554",
     "exception": false,
     "start_time": "2020-07-09T18:36:20.070028",
     "status": "completed"
    },
    "tags": []
   },
   "outputs": [
    {
     "name": "stdout",
     "output_type": "stream",
     "text": [
      "% train:  0.08474317939338516\n",
      "% val:  0.7620789513793629\n",
      "% test:  0.15317786922725193\n",
      "% train + val + test:  1.0\n",
      "\n",
      "\n",
      "number of train hamiltonians:  556\n",
      "number of val hamiltonians:  5000\n",
      "number of test hamiltonians:  1005\n",
      "total number of hamiltonians:  6561\n",
      "\n",
      "\n",
      "train ids:  [2997, 39, 5011, 5787, 172, 5781, 2703, 852, 3255, 3099, 528, 1335, 4340, 125, 3057, 918, 5364, 3328, 4766, 4218, 5293, 4230, 5092, 6206, 4119, 196, 3352, 1430, 3871, 5466, 5857, 5593, 2965, 1267, 2152, 195, 2484, 2790, 6513, 6291, 6124, 3979, 4189, 5805, 1130, 6505, 500, 2066, 6442, 4603, 155, 2177, 6363, 3411, 967, 6536, 4751, 6246, 1216, 2592, 3217, 5195, 6028, 272, 548, 6058, 6037, 2275, 1488, 1661, 5913, 2961, 6043, 66, 3364, 4969, 2517, 3649, 2063, 2282, 1303, 3155, 3517, 5936, 3671, 4024, 3749, 1667, 4007, 4274, 1507, 5268, 3318, 2198, 3874, 3589, 36, 4377, 1344, 4357, 3030, 6510, 1207, 2249, 1453, 2674, 3584, 5059, 4210, 2728, 1046, 2149, 1426, 5613, 2346, 5792, 4253, 3341, 2710, 4222, 5851, 3028, 4553, 1186, 596, 3009, 3122, 4158, 4948, 5378, 5701, 4202, 634, 348, 1532, 6519, 1407, 3215, 3693, 4343, 2475, 28, 3383, 1928, 5645, 6516, 223, 1354, 1428, 6135, 4225, 4164, 4684, 4363, 4062, 2770, 4599, 3472, 4939, 4139, 3953, 794, 5423, 6503, 3348, 3901, 795, 4116, 1282, 4035, 2003, 4205, 6333, 957, 912, 5562, 1824, 2288, 4660, 4932, 1654, 5043, 2147, 2933, 2016, 2578, 2011, 6415, 29, 4321, 4562, 232, 3598, 840, 3645, 4616, 1953, 3402, 3426, 5069, 5370, 4849, 2067, 484, 3257, 2188, 5551, 5477, 50, 3210, 2208, 2360, 2938, 711, 6209, 3913, 3092, 5518, 5453, 1746, 149, 5154, 2949, 3162, 2698, 3331, 1301, 1911, 5464, 2881, 4490, 1016, 1755, 94, 4272, 217, 1868, 199, 2254, 1536, 4167, 1176, 6014, 5802, 2315, 925, 1504, 3428, 302, 233, 2489, 1663, 4817, 2055, 4396, 3954, 5513, 1319, 3515, 1131, 1525, 317, 5939, 216, 2511, 6530, 3324, 3849, 3919, 1993, 4710, 2575, 5994, 3343, 433, 235, 4106, 1978, 5112, 1742, 6207, 3880, 3743, 5350, 714, 1101, 3152, 6224, 4057, 4326, 3586, 4443, 4239, 4682, 1738, 2748, 97, 5949, 4251, 5848, 3431, 458, 4888, 3101, 16, 762, 1778, 5319, 4280, 1748, 2569, 604, 2943, 437, 5843, 4517, 3389, 4745, 2927, 3803, 4826, 2234, 5240, 2253, 6422, 6117, 2655, 3387, 1899, 2552, 6125, 4170, 2627, 2914, 266, 1105, 6180, 1657, 2111, 2613, 4435, 2986, 605, 5885, 4450, 115, 5710, 6463, 5486, 3650, 4819, 2037, 5452, 188, 1405, 3333, 3902, 3569, 2989, 4453, 4425, 138, 3617, 1843, 6244, 3096, 312, 620, 594, 2107, 2121, 1951, 1901, 6105, 1858, 3219, 1566, 844, 109, 2522, 5192, 3503, 1196, 1161, 2182, 6298, 2161, 4079, 3547, 3912, 3823, 5815, 4723, 5965, 828, 1115, 5386, 3100, 4981, 2739, 3421, 1366, 1347, 4891, 1940, 2534, 1962, 1773, 5267, 4494, 3555, 2311, 2958, 2372, 2718, 4127, 3562, 2322, 4882, 284, 2417, 275, 2104, 147, 1254, 1032, 3125, 2389, 211, 2860, 6210, 4503, 1916, 4536, 4077, 685, 1833, 260, 5630, 5969, 3921, 4717, 5269, 679, 4889, 3674, 549, 1645, 5671, 2291, 6435, 581, 5768, 6526, 4420, 1481, 3687, 5793, 151, 5896, 1004, 1106, 6375, 5297, 2678, 1080, 1774, 3008, 4601, 784, 4367, 202, 4992, 5444, 3062, 2109, 4968, 2536, 2527, 5077, 2599, 182, 1191, 5110, 186, 1264, 1122, 1692, 3557, 3741, 6522, 1457, 1515, 2394, 6280, 1054, 1827, 5229, 2036, 2103, 1116, 3898, 3692, 1574, 6267, 3651, 3482, 971, 6380, 4112, 6187, 5446, 2057, 2600, 5894, 5754, 363, 2082, 4847, 3932, 3906, 2090, 3752, 428, 4109, 4728, 5379, 2950, 4206, 3496, 209, 5847, 3124, 759, 6170, 2227, 2422, 509, 6017, 775, 3748, 2307, 2743, 5479, 3625, 2155, 3273, 2366, 421, 2120, 2473, 6027, 6379, 1670, 2588, 5443]\n",
      "val ids:  [3824, 4884, 6330, 4352, 1550, 2025, 5397, 2872, 1384, 752, 3293, 3788, 4941, 3560, 6283, 717, 2684, 4955, 965, 379, 2363, 4203, 5688, 1691, 6527, 297, 4375, 6464, 358, 1333, 5148, 5917, 2075, 2559, 1619, 4901, 5321, 1257, 1125, 2032, 5320, 5455, 3791, 5273, 6038, 2861, 1500, 2963, 282, 746, 3098, 3409, 2797, 5377, 4658, 2638, 4149, 5286, 1381, 4436, 2436, 3794, 2178, 5343, 2999, 3596, 2834, 77, 3172, 5103, 3069, 4361, 4890, 1030, 3182, 5401, 307, 3548, 3975, 5590, 5938, 1348, 3167, 5867, 2525, 3978, 4316, 5272, 5627, 5181, 2632, 4995, 5881, 236, 3731, 1020, 2145, 6512, 3019, 5488, 3860, 3358, 1486, 839, 683, 3916, 2548, 5672, 4409, 2857, 1346, 2509, 5161, 291, 3168, 3221, 6431, 4058, 6456, 59, 4528, 1849, 5462, 1989, 3807, 4177, 767, 4439, 5317, 2830, 2123, 4323, 231, 4552, 1088, 1050, 5218, 5234, 3051, 3523, 6044, 5274, 276, 5351, 4130, 1529, 121, 2593, 2988, 920, 1015, 5306, 3730, 6095, 2399, 615, 1874, 3891, 854, 2412, 3131, 3992, 316, 6497, 1466, 2814, 2333, 2595, 3704, 5545, 1998, 3105, 5316, 5207, 157, 1617, 1275, 5398, 6353, 1203, 2167, 5592, 4405, 1688, 5705, 6371, 5954, 6101, 4333, 1437, 1538, 3510, 510, 970, 4644, 913, 1752, 1091, 4241, 3429, 3759, 3088, 2168, 623, 154, 2434, 2101, 3480, 76, 6368, 1508, 5235, 6348, 3958, 5459, 5764, 1762, 5950, 1253, 2946, 747, 4362, 2222, 1072, 2530, 6262, 598, 6197, 2179, 2184, 1317, 3419, 2137, 2573, 601, 3881, 1400, 5587, 40, 684, 4979, 6452, 3231, 1527, 4276, 3516, 3703, 4043, 874, 2269, 212, 628, 1741, 5704, 2023, 4249, 6282, 3728, 52, 3848, 4353, 2874, 3281, 5733, 2314, 4829, 3422, 3641, 2784, 1220, 4087, 5553, 2455, 4066, 4572, 1341, 3830, 4291, 2241, 6120, 3984, 2669, 2007, 3244, 2929, 2663, 534, 4049, 5798, 2828, 1825, 4233, 2587, 5554, 1531, 2921, 4943, 3171, 1014, 3103, 5213, 110, 4904, 5866, 4555, 5635, 857, 585, 1853, 4750, 6496, 5030, 2803, 6540, 3465, 4092, 6498, 9, 2635, 1432, 6455, 1699, 3204, 3885, 3571, 1365, 1324, 564, 4330, 2972, 1947, 869, 5780, 3207, 3842, 2470, 5436, 4814, 1206, 1908, 2199, 2411, 676, 1631, 18, 1871, 1860, 2026, 3452, 5556, 3132, 5160, 3161, 4029, 5070, 4244, 6502, 6296, 1516, 1081, 6370, 6049, 4778, 773, 5341, 5432, 5305, 432, 5348, 3833, 2886, 5708, 3359, 6328, 4579, 796, 2813, 134, 2308, 3175, 875, 3790, 531, 108, 4382, 5967, 1581, 2571, 6276, 1656, 5017, 3734, 6372, 3810, 6299, 2033, 2141, 124, 6409, 6174, 3800, 4718, 3556, 338, 3506, 3851, 1711, 2264, 3071, 2428, 4258, 5228, 1524, 2405, 5604, 5233, 3739, 1751, 4324, 1438, 3653, 1597, 2741, 208, 287, 4215, 3632, 3067, 524, 6252, 5951, 3366, 5232, 5303, 4336, 1977, 277, 3345, 95, 2766, 1134, 5517, 3837, 6092, 6121, 4580, 148, 3862, 2271, 2893, 6460, 3435, 3404, 2068, 5752, 5514, 6515, 4001, 3396, 5835, 1241, 1042, 5031, 439, 4121, 2646, 1076, 3660, 1737, 3322, 3724, 5622, 5729, 5126, 6385, 3139, 5713, 2782, 6211, 5478, 3877, 3876, 554, 5270, 3964, 2169, 3963, 5448, 5075, 583, 3464, 3553, 3228, 5179, 6055, 1876, 1177, 1534, 2899, 4733, 5544, 3816, 1540, 6030, 4179, 2608, 228, 1564, 2714, 4032, 2850, 3079, 6034, 4937, 2690, 2433, 3084, 687, 2633, 4475, 5638, 3256, 1996, 3486, 4614, 3639, 6489, 5766, 2158, 3676, 5634, 1549, 3271, 102, 3036, 2406, 3413, 3580, 3638, 1870, 1685, 3026, 2159, 5264, 4492, 3591, 369, 6119, 2779, 3433, 504, 4022, 3909, 1056, 2122, 4398, 6281, 4341, 2119, 2649, 884, 6202, 2088, 4980, 4047, 2054, 5241, 4811, 4845, 3827, 2384, 3285, 1837, 2176, 4071, 3582, 4527, 1024, 1321, 3514, 112, 2846, 2837, 2242, 1172, 3858, 3392, 2099, 467, 4620, 3796, 3407, 4050, 5511, 3678, 2277, 1923, 4783, 2089, 3841, 5626, 3669, 1167, 1594, 5876, 2888, 3483, 6237, 1611, 3248, 1698, 3981, 339, 520, 2398, 5855, 6098, 666, 2472, 1950, 3457, 5447, 445, 3232, 4938, 2042, 6532, 5849, 1009, 4288, 2845, 4827, 1013, 6338, 143, 1268, 5691, 5130, 2700, 4232, 4945, 6218, 1952, 2136, 5589, 5390, 4014, 3968, 466, 6303, 1903, 42, 4936, 889, 5794, 515, 1848, 827, 140, 5292, 3055, 294, 3309, 2350, 2272, 5524, 2171, 347, 4797, 954, 2582, 675, 589, 998, 1425, 1957, 5669, 5716, 6366, 367, 1444, 1174, 4606, 3367, 2777, 5045, 3361, 4531, 5889, 5632, 566, 835, 937, 5859, 2071, 4078, 2312, 1112, 2866, 2579, 1217, 1747, 4563, 5952, 3049, 3090, 3130, 3666, 1252, 3252, 2265, 2416, 5728, 2597, 6301, 2361, 1103, 5230, 2677, 6383, 178, 753, 4986, 2284, 173, 6430, 5726, 1031, 3673, 833, 4447, 5785, 5689, 3336, 696, 1382, 3587, 4378, 4156, 2799, 192, 6337, 3072, 5013, 6018, 1665, 2990, 1838, 4714, 5132, 391, 3499, 2029, 5834, 2150, 1779, 33, 1744, 2126, 3417, 3522, 4991, 4622, 5362, 5895, 5612, 1934, 5757, 1855, 1352, 4685, 808, 5063, 5372, 3541, 3729, 5887, 2712, 2501, 4802, 2602, 3203, 3384, 3027, 6543, 2603, 6360, 6032, 6352, 5944, 3250, 3193, 936, 4207, 3879, 3519, 1485, 2878, 5094, 6077, 5865, 4709, 2518, 2247, 1994, 6127, 3540, 5151, 390, 2970, 4125, 6493, 3745, 46, 2044, 4619, 1835, 6323, 5925, 6509, 6387, 1907, 4765, 760, 6514, 6054, 2781, 2537, 4784, 383, 3621, 858, 4261, 4174, 4909, 3403, 4543, 830, 5871, 4245, 5178, 2802, 3469, 1436, 6141, 3002, 5038, 4004, 2605, 41, 3478, 3188, 374, 1648, 4364, 2606, 4037, 877, 1403, 4722, 207, 3861, 922, 4956, 1245, 2581, 6458, 6165, 1603, 6259, 2618, 1954, 1300, 1925, 2976, 4306, 910, 313, 1291, 3709, 6364, 4713, 3222, 5196, 2856, 4690, 4290, 1974, 2772, 3005, 850, 1618, 4854, 1155, 5275, 2544, 768, 1676, 3277, 3153, 3249, 1331, 6178, 1494, 4521, 1859, 5946, 681, 1767, 1431, 4866, 1763, 1271, 4107, 5481, 5844, 924, 5128, 2368, 4556, 2686, 5555, 1659, 3534, 6440, 5549, 3931, 831, 6462, 418, 5797, 4406, 2535, 3410, 68, 4767, 70, 2108, 728, 6336, 2836, 626, 3211, 444, 3393, 6408, 26, 1171, 2763, 2692, 4209, 1022, 2883, 3742, 3532, 3654, 4437, 5624, 2709, 4789, 3518, 303, 2769, 5648, 2040, 4571, 1198, 5846, 309, 1814, 5856, 2948, 996, 2197, 2237, 1358, 67, 213, 1188, 3615, 6388, 1026, 5243, 3229, 6011, 5285, 1006, 3371, 3074, 3448, 4120, 755, 1972, 3495, 4557, 5778, 3001, 3141, 4418, 3470, 3477, 1955, 837, 6186, 3828, 3050, 5310, 584, 351, 5948, 6406, 3928, 4161, 1869, 101, 1822, 6137, 5471, 4235, 3663, 3812, 3628, 5311, 3764, 6089, 4570, 5732, 6339, 2110, 1210, 1195, 362, 4865, 5942, 3567, 1809, 2138, 5683, 4466, 5451, 2508, 1083, 4725, 3844, 783, 668, 5971, 2195, 6126, 1707, 6347, 4779, 1653, 3697, 3740, 3925, 57, 6096, 5049, 4176, 1787, 6417, 1522, 4434, 6486, 2598, 3441, 6107, 710, 4898, 2250, 3378, 470, 2408, 2738, 5931, 2991, 3186, 3003, 6466, 4974, 5349, 3447, 3679, 4238, 4412, 1588, 5730, 2497, 98, 1749, 4545, 4331, 1010, 3611, 5725, 4052, 4128, 873, 1458, 2740, 1650, 1784, 3442, 2056, 3054, 5786, 3400, 127, 2440, 3798, 5010, 4972, 3607, 5226, 5996, 4366, 933, 6413, 1362, 4006, 1782, 1205, 6551, 4818, 4505, 1891, 1074, 4292, 5340, 6295, 5953, 2900, 2466, 2229, 5186, 2189, 2672, 4952, 1926, 449, 6167, 1829, 6094, 3073, 517, 695, 2324, 1789, 3867, 4074, 2156, 5147, 1526, 2659, 2343, 5367, 5380, 6217, 506, 1697, 3184, 3500, 5263, 2628, 3726, 3395, 2203, 1582, 2554, 2280, 793, 4224, 3914, 3869, 5588, 3699, 4712, 1460, 1086, 4617, 2918, 1757, 1258, 588, 4414, 1509, 6465, 6469, 1339, 3397, 4804, 4408, 340, 3755, 669, 5206, 1288, 6517, 2985, 5480, 5217, 3201, 4587, 3032, 2967, 210, 1082, 1162, 5257, 3630, 3775, 1154, 5808, 35, 1912, 2898, 2751, 4455, 4150, 387, 1740, 2981, 3908, 2631, 5836, 4369, 3778, 2568, 1791, 420, 6041, 5134, 4448, 5438, 3550, 5072, 5618, 1367, 4706, 4355, 1629, 931, 6102, 3579, 851, 5354, 5431, 1292, 4315, 1406, 643, 4905, 4516, 3405, 254, 1924, 2907, 3859, 2863, 3475, 1447, 4034, 785, 1598, 2453, 611, 2204, 3850, 1758, 184, 3295, 3744, 3910, 887, 4692, 1353, 2369, 2983, 1625, 1567, 1733, 1701, 4886, 6412, 3710, 4169, 4477, 4307, 1135, 3330, 6201, 617, 5892, 4335, 131, 1419, 1678, 5715, 2962, 5141, 2645, 1630, 2028, 377, 1865, 2386, 4860, 5139, 2647, 3230, 2754, 645, 2904, 2567, 4868, 283, 5927, 1739, 3613, 4573, 3657, 5302, 3013, 280, 4532, 3831, 3988, 3603, 6123, 5616, 1794, 2255, 2100, 341, 3737, 2994, 4502, 2483, 5509, 1246, 5811, 809, 5223, 4407, 4773, 3918, 3261, 1609, 3025, 2610, 3208, 5242, 5810, 1770, 2609, 3701, 914, 187, 5850, 4577, 5036, 780, 2894, 4304, 792, 4055, 5558, 2658, 300, 4816, 2940, 19, 3269, 5023, 938, 4424, 2418, 4491, 132, 2286, 1808, 4289, 6439, 1905, 1170, 274, 193, 4081, 691, 4030, 2006, 2085, 1669, 2993, 6508, 4446, 2205, 4609, 3980, 1323, 4657, 153, 353, 2987, 263, 3451, 3484, 3782, 4664, 3576, 4522, 4953, 5963, 2660, 2206, 5799, 5960, 3097, 1902, 2209, 2172, 5315, 4085, 2852, 2729, 1351, 3595, 3735, 2345, 5698, 3675, 1450, 3588, 2439, 4379, 1790, 1948, 1655, 1877, 3461, 5208, 1986, 1499, 689, 5874, 2957, 4852, 2923, 4147, 5751, 5422, 4108, 6483, 1433, 1163, 5051, 5485, 3722, 2323, 1073, 4554, 5628, 2365, 4648, 6166, 612, 271, 2243, 3944, 2301, 6109, 2621, 6271, 6494, 4404, 5449, 4105, 2351, 1842, 551, 1705, 4983, 3006, 2689, 4931, 3751, 4629, 1249, 6048, 3418, 2226, 4697, 4632, 3266, 2641, 4506, 3769, 2562, 2113, 4391, 2173, 1008, 6006, 2733, 4872, 1682, 3068, 3552, 3829, 1502, 4257, 447, 454, 2547, 5282, 5383, 5703, 6189, 4095, 5026, 3795, 6461, 2801, 3635, 4171, 3835, 2013, 3785, 2812, 6421, 5609, 2968, 2513, 3014, 4864, 2359, 2396, 1255, 3239, 3166, 5104, 2903, 6168, 1946, 678, 2306, 541, 1987, 4383, 352, 5131, 2256, 5869, 1187, 1615, 6195, 2824, 1832, 1412, 4198, 5454, 4770, 2105, 2510, 5959, 789, 4947, 6468, 1092, 6487, 1242, 3702, 608, 4858, 5265, 17, 1416, 3903, 4796, 1202, 4338, 2928, 1017, 790, 5209, 6539, 3342, 6547, 3889, 5193, 2971, 4440, 5505, 262, 5473, 2012, 4944, 450, 3539, 2332, 3897, 2021, 4807, 2442, 136, 4878, 1157, 4096, 2471, 3163, 3287, 5392, 221, 1909, 2357, 289, 6305, 2201, 2744, 485, 5964, 3813, 862, 2697, 2225, 1276, 1193, 5433, 3648, 5366, 3624, 3302, 5022, 3977, 3284, 1898, 4628, 4462, 6450, 2810, 3094, 4696, 3304, 3145, 3129, 3137, 4413, 4093, 4178, 1350, 3349, 3986, 4410, 631, 4337, 6111, 2849, 3822, 2364, 128, 6331, 1856, 4445, 5182, 4220, 2924, 2069, 1992, 3138, 4048, 4392, 3658, 5570, 1127, 4300, 4821, 2338, 6501, 190, 3642, 3194, 5943, 2956, 5722, 4911, 3170, 141, 5426, 4064, 2762, 5833, 2682, 4231, 4390, 4730, 1894, 6050, 4857, 281, 5535, 4623, 2175, 2221, 2449, 2805, 2753, 4828, 6345, 2409, 2381, 356, 5018, 1590, 3242, 5782, 586, 455, 5884, 3793, 927, 4775, 1949, 3971, 6255, 5538, 6529, 3895, 3288, 3926, 2426, 2124, 5044, 219, 4550, 5400, 1513, 4483, 6426, 2220, 2885, 2865, 5603, 6025, 4764, 2699, 1165, 5299, 38, 3945, 4786, 51, 2273, 1002, 1771, 867, 1612, 1343, 6523, 2876, 6007, 3086, 373, 4124, 2935, 3501, 3682, 2973, 4053, 537, 257, 5594, 749, 5854, 4368, 4618, 3922, 4874, 1487, 3863, 4812, 1973, 3974, 4312, 3538, 4005, 3087, 4325, 2115, 5071, 6335, 2073, 6171, 1159, 6023, 2556, 6132, 1166, 5304, 4608, 5402, 3216, 103, 6024, 203, 3056, 3754, 5220, 5886, 1005, 3377, 2424, 3010, 1544, 4256, 3102, 5687, 3110, 118, 2432, 1607, 5133, 3363, 1192, 4885, 2487, 5035, 189, 5177, 5137, 3659, 4463, 4454, 1730, 2563, 6086, 6251, 5864, 1213, 3989, 5288, 1995, 664, 2245, 5224, 6261, 5198, 805, 3310, 806, 3878, 1596, 2244, 1449, 2905, 403, 381, 2564, 6524, 1844, 3732, 473, 2533, 3282, 3583, 2344, 1959, 1128, 3634, 6008, 5118, 4389, 2591, 3498, 5125, 2313, 2912, 619, 1408, 204, 3758, 268, 3075, 4962, 4228, 4082, 6268, 3425, 6359, 3245, 1464, 279, 921, 6541, 5344, 5057, 2931, 4385, 2909, 1418, 5699, 6192, 436, 4997, 4853, 459, 754, 475, 404, 270, 6445, 6172, 5775, 4498, 607, 2594, 3299, 3694, 2261, 5058, 3048, 4146, 5731, 5536, 1484, 3884, 5651, 2844, 4946, 3882, 2557, 1819, 5694, 3128, 2643, 5396, 1100, 2370, 3614, 1443, 545, 4871, 4715, 546, 5940, 4342, 1204, 3150, 4271, 2629, 4484, 5109, 96, 6035, 3864, 1918, 2358, 3662, 1156, 523, 6128, 3344, 299, 6099, 468, 3507, 5227, 123, 6434, 1435, 54, 434, 3189, 3947, 3806, 2615, 2430, 1961, 1786, 43, 2231, 3781, 343, 354, 2118, 2190, 614, 2747, 5707, 1960, 4097, 1037, 4777, 2953, 1714, 2808, 5974, 4647, 5961, 929, 5021, 3121, 804, 2975, 782, 3647, 191, 4963, 4168, 3637, 2070, 4978, 552, 5566, 5356, 697, 3127, 386, 53, 4834, 870, 727, 1248, 2187, 3347, 3213, 2545, 948, 3297, 2140, 3683, 2038, 2767, 849, 5176, 5342, 4653, 4910, 1136, 525, 701, 1895, 5180, 4488, 6277, 4248, 4489, 3686, 6521, 5027, 3819, 6351, 890, 5033, 5150, 4805, 5767, 763, 2328, 1114, 3593, 4534, 4576, 632, 3948, 2532, 1695, 1796, 4686, 6289, 6220, 2566, 4930, 4792, 6304, 301, 2713, 3626, 198, 3883, 1373, 1576, 290, 3777, 6419, 5111, 5106, 2519, 14, 1265, 2479, 2506, 3825, 3924, 2019, 3622, 2478, 4140, 4126, 3802, 6113, 5801, 590, 6447, 2015, 726, 5552, 1823, 1627, 1687, 6341, 3695, 6374, 2093, 2481, 2300, 1836, 5789, 3276, 5709, 4153, 3852, 6446, 5102, 5862, 5284, 949, 2982, 713, 861, 1256, 557, 4254, 5404, 2996, 1238, 4397, 609, 3108, 4738, 469, 4243, 3890, 6264, 2877, 4951, 5374, 214, 3305, 1766, 1729, 2287, 797, 3373, 4329, 706, 1492, 5046, 4735, 3762, 803, 423, 2639, 5202, 2783, 6490, 1651, 1034, 6273, 2854, 4541, 4768, 1604, 2236, 4195, 2385, 5955, 3321, 4971, 2162, 3606, 1111, 3718, 2980, 1183, 6205, 6441, 779, 5262, 5772, 114, 2094, 1664, 843, 440, 1830, 2238, 4452, 4157, 769, 5685, 1364, 3085, 215, 3846, 1510, 6118, 1983, 48, 838, 5385, 1260, 2695, 616, 6531, 3136, 4284, 3991, 3315, 3957, 5557, 2092, 1413, 4668, 2135, 1029, 2831, 4776, 1834, 3524, 5187, 4027, 4583, 5591, 5258, 3212, 2157, 1021, 201, 5099, 150, 3251, 5231, 1090, 6467, 4384, 72, 708, 3272, 6185, 129, 4302, 2076, 1981, 1900, 2691, 1628, 1890, 5765, 1795, 3338, 2862, 370, 2334, 11, 2816, 237, 323, 5914, 1861, 120, 5076, 4141, 1181, 4636, 3206, 5625, 3077, 2750, 5357, 4897, 5363, 3323, 1783, 5465, 2217, 1247, 2851, 1864, 3715, 1368, 4394, 5878, 6156, 3225, 3529, 536, 3685, 3930, 3999, 863, 2612, 1571, 1219, 1456, 5346, 61, 3247, 1035, 950, 6194, 1208, 4472, 2590, 593, 4782, 6485, 1768, 394, 5352, 4173, 3627, 1818, 4059, 4726, 31, 4247, 474, 1380, 5389, 5203, 3058, 463, 3350, 2979, 5803, 3604, 5670, 5508, 4221, 2435, 1209, 6087, 4650, 2959, 1589, 2373, 5777, 4143, 5215, 6407, 3545, 1776, 5113, 5487, 3135, 2955, 932, 1815, 6085, 4084, 47, 5814, 2665, 2382, 3667, 1357, 6286, 3956, 1673, 1979, 2711, 2035, 1821, 6021, 1958, 5723, 4625, 2106, 5596, 4645, 5897, 1117, 2482, 177, 5753, 2142, 1943, 4009, 665, 146, 6500, 10, 6449, 6190, 3536, 3165, 3369, 65, 3190, 3044, 453, 4848, 1239, 1102, 6534, 5727, 5484, 2757, 15, 547, 3706, 139, 5355, 1491, 864, 2355, 4036, 6056, 533, 3311, 6075, 2319, 4691, 4670, 5368, 766, 4970, 179, 12, 6223, 911, 384, 4929, 2673, 5806, 5323, 3733, 5271, 6544, 4317, 25, 4070, 4111, 3438, 1003, 4744, 4190, 2420, 956, 2223, 3723, 5868, 6179, 3561, 308, 1713, 3386, 5324, 3368, 1851, 6122, 4068, 3113, 6344, 940, 1374, 4958, 2374, 111, 3427, 1118, 774, 6184, 3270, 3357, 91, 3504, 3636, 943, 3133, 1545, 5567, 6293, 5564, 5318, 226, 5445, 3765, 3537, 4011, 3962, 4088, 1084, 686, 2014, 3983, 4165, 2761, 2246, 3573, 2855, 4600, 4134, 2936, 3063, 5605, 5136, 4269, 4564, 3770, 3191, 1328, 1048, 5056, 3990, 2283, 6249, 5957, 1297, 5298, 6029, 5158, 2336, 4967, 3329, 3279, 644, 1728, 6250, 6040, 866, 3887, 2415, 477, 3713, 2207, 3209, 6191, 2352, 4380, 1518, 1434, 2304, 1378, 4191, 1731, 4935, 622, 5561, 142, 156, 6010, 595, 5997, 4086, 1423, 2736, 5527, 3356, 1243, 1997, 5467, 5684, 1345, 4259, 2202, 2925, 175, 5476, 4734, 422, 2884, 606, 6012, 2939, 4604, 5926, 5296, 1764, 5861, 4705, 1514, 5546, 2661, 5721, 5014, 3192, 4356, 3070, 503, 349, 1462, 4708, 1777, 5924, 2403, 4234, 380, 452, 1244, 2794, 27, 2634, 1788, 5430, 1826, 4643, 3290, 3109, 2785, 4993, 2413, 2755, 5995, 856, 3020, 6245, 3080, 3779, 1583, 3747, 6004, 5032, 2031, 3911, 788, 5643, 4060, 6484, 3445, 448, 3423, 2838, 431, 3868, 3292, 4740, 3053, 2906, 4393, 1517, 6340, 6140, 3289, 5607, 357, 2266, 3353, 388, 1781, 841, 4994, 6084, 1813, 371, 2529, 1137, 3808, 22, 3443, 4460, 4162, 3546, 34, 2916, 2309, 3408, 2873, 286, 3661, 5153, 6110, 699, 5804, 6436, 3374, 3834, 3160, 1811, 1584, 4003, 3453, 2183, 4699, 315, 4468, 1094, 4403, 5795, 2553, 5692, 5276, 4216, 673, 4015, 6326, 2601, 2317, 1666, 4731, 5860, 180, 3558, 868, 5214, 1420, 853, 6256, 3481, 1956, 1493, 1336, 3000, 4033, 2505, 5183, 3677, 5608, 4584, 5649, 1658, 3487, 5159, 1765, 5937, 342, 663, 6525, 1976, 1194, 4040, 4023, 3766, 1338, 5300, 2060, 32, 4461, 2034, 2977, 2289, 2806, 3597, 6346, 6136, 1893, 3060, 2397, 2758, 836, 1591, 3147, 4399, 2387, 1483, 2842, 3900, 3017, 4822, 5156, 5222, 963, 1595, 2392, 4652, 5097, 636, 6504, 3260, 5123, 944, 3095, 2969, 1586, 3511, 5278, 2908, 4667, 4213, 2653, 951, 5791, 2978, 5512, 4297, 1810, 2257, 5813, 860, 6083, 5883, 5875, 1342, 3268, 2589, 1372, 1385, 3283, 2467, 4293, 550, 2181, 682, 3327, 587, 1587, 2451, 2683, 5837, 4200, 1173, 2279, 942, 3605, 2193, 1077, 2654, 4374, 1078, 4627, 4655, 1023, 4303, 5025, 4915, 693, 4790, 5105, 3424, 526, 5376, 1573, 1696, 5260, 4471, 4313, 4311, 5539, 2259, 613, 6053, 3183, 1614, 2941, 4605, 6033, 359, 5569, 4549, 2890, 6272, 1047, 5832, 1754, 1621, 1712, 1283, 45, 2383, 5639, 6284, 2746, 1079, 5347, 2084, 1349, 4638, 5387, 4771, 1867, 3226, 4129, 1792, 3455, 6204, 152, 4026, 6182, 3838, 2726, 5595, 5516, 2776, 5891, 3668, 4277, 2840, 3011, 3463, 3264, 1379, 1270, 2558, 4850, 667, 2139, 5550, 2362, 5610, 137, 705, 392, 3492, 185, 4903, 4529, 2512, 1055, 4327, 2349, 4899, 1251, 4467, 5012, 542, 1753, 5266, 285, 633, 3488, 1878, 3246, 3746, 2445, 346, 4275, 832, 1197, 3176, 3786, 2798, 1284, 5510, 2041, 5676, 4688, 4634, 1847, 1212, 3140, 3205, 6433, 2232, 2268, 4794, 5976, 5406, 6275, 2469, 1038, 2299, 4702, 6031, 2815, 93, 2039, 4051, 5565, 1942, 2708, 6003, 361, 2626, 5107, 350, 4038, 3351, 3565, 4907, 670, 6332, 690, 2887, 2889, 3093, 355, 4422, 2681, 3616, 4861, 2520, 2930, 4569, 1053, 4155, 6022, 3820, 4581, 4449, 5526, 5623, 4065, 5929, 6443, 603, 2818, 4485, 3412, 395, 6258, 952, 6097, 5442, 5053, 1369, 4122, 4669, 4895, 3143, 4039, 6183, 3180, 3490, 5621, 2722, 3797, 745, 3197, 4630, 5212, 4250, 122, 995, 1606, 1325, 5135, 4211, 1922, 6045, 1269, 1647, 3899, 3473, 1329, 4199, 3563, 5977, 3059, 2468, 3012, 6416, 2318, 375, 5973, 3620, 1044, 6538, 834, 2170, 4698, 2464, 3720, 1215, 5382, 5482, 917, 4318, 5093, 4546, 3173, 6196, 3656, 397, 3134, 2125, 4985, 2574, 3471, 1138, 2792, 344, 2278, 1575, 635, 4537, 1278, 6488, 3574, 4419, 3267, 4711, 5345, 2004, 393, 1506, 4526, 3234, 3235, 6410, 2835, 1931, 3375, 364, 4727, 4908, 1327, 973, 4444, 378, 3456, 2565, 6448, 6131, 4693, 4010, 4689, 637, 4973, 2252, 787, 4322, 133, 4314, 4196, 5877, 5096, 6026, 2163, 6550, 5205, 389, 3672, 2335, 4166, 4151, 5428, 6266, 3768, 2913, 4873, 4469, 5888, 4135, 6177, 3064, 1298, 3466, 5788, 2476, 4008, 3564, 6403, 2917, 5636, 4104, 30, 3114, 5962, 3572, 4585, 5424, 964, 1503, 1179, 1683, 2796, 3308, 3462, 6169, 2456, 2648, 848, 716, 4598, 5483, 4659, 2524, 1852, 4159, 2200, 1523, 1422, 3767, 6292, 646, 2819, 6222, 2166, 2875, 2186, 2576, 2239, 1108, 6537, 4137, 3763, 4187, 6306, 3199, 2492, 2388, 926, 757, 2095, 4809, 3115, 3670, 2717, 1099, 4270, 4633, 923, 3967, 305, 1548, 2679, 2499, 1812, 3952, 6046, 6103, 258, 1991, 472, 5221, 3949, 6324, 3123, 4736, 3258, 4417, 2549, 3104, 2731, 5064, 60, 5191, 966, 6212, 107, 5507, 1399, 2756, 2342, 435, 972, 3254, 5144, 419, 4486, 761, 4724, 3240, 376, 4423, 3684, 2719, 3491, 3780, 5210, 5016, 2018, 3035, 5522, 3940, 2664, 5968, 6454, 5375, 2390, 1262, 6499, 1404, 3061, 5450, 3993, 1286, 4649, 6287, 3738, 955, 4281, 2062, 4763, 4113, 5155, 621, 4056, 1489, 200, 4332, 4114, 1660, 5773, 20, 2670, 6257, 2676, 6428, 4788, 529, 1377, 3381, 3602, 119, 625, 3446, 2737, 4586, 3398, 1632, 3817, 6533, 6129, 2895, 5393, 6100, 3601, 5677, 2454, 1873, 1415, 5702, 5047, 4144, 2843, 5101, 2507, 2270, 3719, 4278, 3714, 5239, 4089, 512, 5972, 4142, 4421, 2630, 1468, 1932, 4246, 6356, 4624, 3907, 765, 2867, 1318, 5015, 1686, 2716, 5078, 6548, 6108, 5108, 1261, 5117, 1160, 5807, 6278, 3643, 6138, 1626, 3082, 968, 3784, 2423, 292, 4912, 1769, 1028, 2083, 4045, 4631, 2486, 883, 3399, 4806, 3436, 3076, 6404, 2892, 4567, 3339, 5435, 4042, 3489, 21, 4376, 3439, 6376, 5365, 6381, 6208, 5978, 1019, 3307, 1272, 618, 2263, 1168, 3148, 4296, 2321, 3815, 5225, 278, 368, 1427, 4681, 3334, 4260, 5697, 4013, 4729, 1454, 3223, 891, 4949, 599, 1568, 3915, 2551, 3799, 2932, 5675, 2823, 6424, 3776, 3888, 6362, 953, 3227, 2022, 218, 6051, 3029, 6019, 6457, 770, 5975, 3502, 2196, 3401, 3965, 2749, 6425, 4076, 3994, 2853, 6492, 4401, 4896, 4542, 5890, 5204, 2096, 5460, 3024, 4990, 2393, 5611, 4360, 4793, 229, 4859, 702, 2745, 2778, 5559, 6076, 3091, 4832, 4914, 527, 1910, 5674, 4148, 2077, 1693, 3700, 3577, 5809, 3872, 1652, 2825, 2180, 5711, 5395, 2098, 3157, 3319, 3236, 2580, 3568, 5236, 5525, 3432, 2662, 915, 750, 5194, 2091, 6060, 3450, 4117, 6329, 5353, 505, 1250, 476, 4748, 4457, 5560, 3845, 426, 3301, 3370, 3332, 2219, 2604, 1585, 3801, 4208, 5547, 6334, 4742, 2538, 4855, 4359, 2065, 3022, 311, 3904, 62, 3959, 3756, 2191, 1452, 4984, 5381, 855, 6013, 3346, 6382, 310, 5020, 4395, 1689, 4703, 1429, 865, 647, 2656, 3479, 2809, 2896, 4621, 2329, 2901, 304, 2821, 6009, 756, 776, 4568, 4067, 671, 6384, 5529, 1854, 56, 3224, 1096, 1363, 3265, 2325, 5427, 3325, 5970, 5283, 3018, 2441, 3420, 5696, 4354, 2752, 1320, 5054, 4219, 1863, 5563, 2570, 4279, 5122, 2760, 777, 2164, 366, 2897, 2651, 3530, 3892, 3698, 3253, 3655, 4286, 1448, 6325, 5504, 2448, 6297, 4996, 2531, 5211, 3946, 6200, 4482, 2030, 4940, 4525, 6518, 4661, 295, 1185, 1570, 4063, 1293, 1107, 2642, 1266, 1287, 4175, 1528, 2500, 2732, 4785, 6358, 6411, 2833, 4012, 4687, 3187, 2421, 2795, 1036, 2910, 3142, 6106, 3312, 5845, 3046, 5879, 3494, 2701, 5098, 3391, 5073, 4741, 6193, 3144, 3066, 1087, 1455, 3973, 298, 3721, 2337, 627, 758, 2327, 1402, 1930, 4957, 6420, 3987, 3629, 2773, 3042, 5388, 63, 372, 5259, 5673, 6059, 2829, 4282, 4214, 4574, 2721, 3241, 4328, 2017, 4906, 4227, 703, 1820, 2064, 3437, 3708, 5149, 4476, 1274, 4381, 2694, 1169, 2891, 2832, 928, 3126, 1690, 1671, 2882, 6378, 1610, 2477, 2218, 872, 1700, 4145, 4351, 1941, 2964, 3286, 5756, 5923, 1190, 5979, 6093, 5719, 1879, 1376, 5237, 3326, 1727, 3218, 3543, 2966, 3038, 1579, 135, 2020, 6219, 1098, 6020, 6015, 4371, 3233, 1546, 4495, 532, 427, 6300, 4493, 5956, 888, 5290, 565, 4152, 5528, 4752, 3414, 4966, 2992, 1684, 5294, 1051, 5515, 5474, 4791, 265, 4780, 2340, 630, 4781, 3619, 4073, 5932, 4820, 5619, 3081, 1417, 4473, 1616, 6535, 5391, 2516, 1334, 1817, 6090, 4615, 5783, 5219, 2192, 3783, 1424, 3886, 3933, 4774, 460, 3291, 2619, 2742, 2316, 4283, 3078, 3262, 751, 941, 6342, 1011, 993, 5124, 2666, 5369, 3554, 518, 2650, 3857, 5776, 3757, 3320, 337, 3394, 1710, 6213, 2902, 4651, 5138, 4825, 1043, 4136, 382, 2465, 3753, 3316, 3652, 3177, 4226, 3259, 1295, 1793, 1706, 2555, 3388, 3505, 859, 842, 314, 3644, 677, 553, 6290, 4540, 3045, 145, 5461, 1501, 2331, 4810, 6459, 3717, 3380, 1326, 4646, 457, 6112, 2224, 2112, 296, 3467, 2496, 106, 92, 1572, 3934, 1505, 513, 6354, 2919, 5291, 4732, 2414, 5062, 1726, 778, 6215, 2114, 5720, 3599, 4772, 4607, 1785, 2820, 2550, 5770, 5216, 2153, 3238, 2302, 2528, 100, 629, 2251, 425, 4704, 5307, 3037, 293, 5019, 5779, 3041, 3847, 3966, 2858, 3509, 1211, 2526, 2281, 5115, 6507, 3736, 13, 4163, 2391, 2515, 4229, 3340, 3870, 5066, 1110, 3528, 2826, 1237, 4075, 6176, 2419, 2010, 3430, 2185, 4402, 3542, 1735, 6042, 2725, 4823, 1332, 5152, 6369, 2523, 3118, 6418, 2620, 4031, 4887, 430, 694, 4294, 3633, 2702, 1182, 556, 3459, 345, 2043, 1608, 5034, 385, 2102, 2734, 3089, 1897, 2685, 2444, 1935, 999, 4892, 1797, 4666, 3997, 600, 3313, 1715, 4465, 6405, 4701, 4470, 1623, 116, 5052, 6520, 3278, 3365, 1007, 2260, 4411, 772, 5322, 3941, 4054, 3107, 6248, 930, 2561, 1743, 4803, 259, 6437, 1988, 992, 715, 442, 5916, 3960, 3493, 5313, 3416, 5717, 4520, 3985, 1845, 1915, 2780, 4833, 5055, 3146, 2446, 725, 3159, 4133, 6373, 5157, 3917, 1857, 2596, 1929, 5637, 6355, 3923, 5958, 4252, 6203, 2807, 4496, 1709, 2947, 1990, 4295, 6491, 5534, 1592, 4192, 2974, 3894, 3015, 2636, 3640, 5614, 847, 5425, 2514, 2922, 3942, 2235, 2285, 1027, 4977, 2143, 4523, 1872, 1936, 2680, 1593, 3306, 3154, 2427, 4950, 2841, 1445, 3761, 1745, 946, 5615, 5146, 2450, 2116, 3376, 6269, 4186, 3415, 2491, 4132, 2097, 2437, 1896, 4613, 1541, 1124, 429, 4025, 5185, 2087, 5456, 3570, 1975, 6432, 5475, 5853, 2637, 4547, 1703, 4172, 5028, 3164, 3575, 2848, 3390, 3716, 4373, 3832, 2267, 176, 1578, 2310, 3007, 2583, 700, 3893, 4769, 4319, 2276, 5700, 935, 3789, 365, 2495, 5646, 2644, 5934, 5399, 6343, 1085, 3939, 4497, 2305, 2078, 4094, 2233, 2410, 6451, 1892, 4900, 4500, 4851, 4700, 592, 5457, 4365, 288, 75, 5690, 1052, 4237, 1569, 6270, 4743, 672, 6285, 501, 1736, 2002, 5067, 3474, 4544, 1498, 3929, 1296, 1463, 104, 4875, 6163, 4565, 6198, 3996, 205, 1330, 4456, 2671, 5541, 5061, 3468, 3298, 1410, 1045, 4487, 3525, 919, 4538, 3787, 261, 4582, 443, 3179, 4694, 3955, 2864, 4747, 2228, 5434, 1708, 5463, 2915, 4217, 1984, 4637, 4388, 3809, 130, 6253, 4530, 5647, 4072, 4830, 2401, 4656, 126, 269, 2793, 5189, 4091, 6545, 6214, 3512, 2730, 610, 2942, 1000, 2811, 255, 2584, 876, 1236, 5945, 1547, 2937, 1240, 5373, 5468, 5301, 4942, 1467, 3314, 2488, 5882, 2429, 73, 807, 2009, 4964, 267, 1104, 508, 707, 5129, 3646, 6115, 3970, 3043, 5024, 723, 4695, 945, 5796, 2463, 6542, 2008, 4934, 3951, 2652, 438, 5309, 273, 3814, 3865, 4867, 4965, 1273, 1677, 174, 5261, 6199, 3119, 2771, 1459, 1465, 264, 4602, 2954, 1322, 4654, 5531, 4988, 1214, 3485, 582, 2493, 511, 3178, 5295, 4478, 5686, 688, 916, 2494, 3335, 74, 2348, 5050, 5693, 3961, 1049, 3047, 1337, 5394, 2926, 2693, 4815, 4893, 1421, 6377, 2165, 4223, 4954, 230, 4255, 1495, 2607, 6511, 1097, 6016, 1624, 225, 220, 5631, 3610, 764, 4539, 3727, 4787, 1605, 461, 462, 5915, 4415, 1113, 4299, 5930, 2879, 1533, 5470, 2687, 4123, 1704, 3750, 1756, 2727, 2696, 3972, 3083, 2154, 3725, 6175, 6361, 4982, 2817, 3707, 5523, 4309, 1542, 4813, 1734, 336, 4310, 2230, 3181, 6453, 2330, 6438, 6173, 194, 6265, 1218, 5933, 6327, 1846, 2586, 1750, 521, 1875, 791, 4551, 4610, 1025, 4933, 3839, 2577, 939, 4194, 502, 1927, 4242, 2998, 6164, 3106, 5706, 5429, 3185, 6047, 5650, 4824, 6367, 4683, 5755, 1126, 5640, 563, 1302, 3998, 5175, 4808, 2024, 1490, 5308, 1539, 3149, 624, 4665, 3195, 3039, 1646, 4504, 3111, 206, 6088, 4193, 5568, 1164, 5127, 4451, 4876, 3237, 1482, 37, 1511, 5469, 5114, 6414, 3665, 5277, 6427, 3896, 724, 4987, 771, 3052, 2258, 3544, 4115, 3681, 6444, 5928, 2774, 2146, 6091, 471, 5712, 4913, 1668, 2425, 5065, 4046, 5695, 522, 1850, 6528, 4707, 2911, 2353, 5800, 224, 1985, 5437, 1497, 3317, 1563, 5880, 4201, 3497, 3711, 5606, 3303, 58, 2027, 3021, 544, 2326, 4518, 4928, 3821, 3566, 4976, 3792, 997, 2407, 1543, 4877, 1109, 2995, 424, 709, 1294, 4566, 5941, 5312, 1355, 5405, 591, 1180, 5642, 465, 256, 1446, 3618, 6294, 5893, 4611, 2822, 4339, 934, 3950, 4663, 514, 3804, 3585, 5145, 1913, 3458, 5287, 2657, 6247, 1133, 947, 6546, 4870, 1816, 306, 704, 2920, 602, 4118, 4236, 5870, 2498, 3818, 3843, 1442, 3354, 2827, 4372, 3158, 5852, 786, 846, 4894, 6114, 2438, 6005, 3385, 4197, 3174, 3521, 5533, 2503, 4212, 2859, 4883, 6279, 3454, 234, 2148, 69, 5763, 6181, 1290, 1580, 5060, 5358, 2490, 3065, 1565, 5548, 105, 543, 5540, 222, 991, 1496, 3612, 5644, 2086, 5597, 1662, 3372, 4519, 1537, 4441, 4612, 1939, 3004, 2521, 6423, 6057, 3549, 5184, 4083, 5620, 3590, 4305, 1259, 3533, 44, 4204, 519, 886, 2724, 2059, 4548, 2447, 3805, 1620, 5289, 1383, 1175, 5771, 5048, 1602, 2502, 2572, 1033, 6139, 6357, 1982, 6260, 5724, 1530, 2984, 3696, 2847, 1012, 3434, 6254, 464, 6216, 3559, 3263, 4989, 441, 3243, 1622, 969, 3296, 5966, 2005, 6288, 3196, 2723, 3406, 1702, 5629, 539, 1732, 5714, 5617, 2759, 5190, 2290, 2667, 2504, 197, 2804, 1158, 748, 2585, 4090, 5100, 3476, 4869, 5403, 3866, 3592, 4831, 698, 4902, 3623, 1184, 3300, 3016, 4862, 4863, 2371, 4154, 1904, 6243, 2058, 3151, 3688, 5472, 6386, 3169, 4499, 3551, 4737, 2402, 4308, 1672, 2144, 1340, 3826, 1933, 3337, 1945, 1089, 3214, 2151, 3379, 540, 49, 2074, 1694, 1613, 456, 4846, 4524, 2274, 1018, 1577, 3513, 538, 2611, 1371, 5873, 5863, 4438, 3875, 535, 360, 3594, 3031, 1780, 1866, 2339, 4298, 2431, 2765, 530, 5718, 3982, 23, 1285, 1512, 2395, 1263, 1375, 6274, 1772, 6429, 1862, 4358, 3294, 55, 1401, 6036, 5074, 2072, 4387, 555, 1132, 1289, 507, 2764, 6263, 3355, 451, 2688, 4578, 4626, 4016, 2404, 1649, 4069, 3117, 2303, 1675, 3156, 5537, 2934, 2452, 1277, 6221, 4110, 6142, 1535, 2341, 4798, 3274, 5947, 3905, 5140, 5784, 4138, 3112, 1178, 2474, 6039, 2675, 2174, 2367, 845, 5872, 692, 4273, 6052, 1001, 4575, 5095, 4501, 6116, 64, 5530, 5858, 5188, 2715, 4287, 6350, 1356, 4558, 1451, 4749, 4739, 4975, 1914, 1409, 1944, 4442, 781, 4285, 6133, 4458, 24, 2616, 3969, 483, 5116, 5029, 4188, 5037, 4535, 712, 2668, 6549, 5143, 5068, 4044, 5314, 990, 3976, 1937, 6302, 6506, 99, 1189, 597, 144, 6134, 117, 5774, 2735, 4416, 4028, 5812, 2117, 1831, 6349, 4131, 1917, 113, 1411, 6157, 5641, 1906, 5506, 2614, 4856, 5142, 4041, 2775, 181, 5238, 4459, 4642, 5769, 3220, 2443, 3836, 5935, 2546, 396, 1414, 5197, 4746, 227, 1775, 909, 2061, 3995, 674, 4464, 2839, 71, 3712, 2768, 4795, 4716, 5079, 2945, 2354, 3581, 2194, 446, 4474, 3631, 6365, 5371, 1674, 885, 3460, 4002, 1123, 3508, 6130, 1828, 1299, 4662, 1938, 5532, 4533, 3811, 3927, 5458, 2485, 994, 4635, 5633, 2248, 3023, 3664, 2347, 2944, 3275, 3382, 2356, 1370, 3535, 2868, 4061, 1075, 5384, 829, 2791, 4386, 3705, 680, 4588, 516, 183, 3873, 6495, 3943, 6104, 4370, 1980, 2262, 3202, 3531, 2617, 6188, 5543, 4334, 5790, 5542, 3578, 5042, 871, 1129, 1461, 4301, 1095, 1093, 3449]\n",
      "test ids:  [0, 1, 2, 3, 4, 5, 6, 7, 8, 78, 79, 80, 81, 82, 83, 84, 85, 86, 87, 88, 89, 90, 158, 159, 160, 161, 162, 163, 164, 165, 166, 167, 168, 169, 170, 171, 238, 239, 240, 241, 242, 243, 244, 245, 246, 247, 248, 249, 250, 251, 252, 253, 318, 319, 320, 321, 322, 324, 325, 326, 327, 328, 329, 330, 331, 332, 333, 334, 335, 398, 399, 400, 401, 402, 405, 406, 407, 408, 409, 410, 411, 412, 413, 414, 415, 416, 417, 478, 479, 480, 481, 482, 486, 487, 488, 489, 490, 491, 492, 493, 494, 495, 496, 497, 498, 499, 558, 559, 560, 561, 562, 567, 568, 569, 570, 571, 572, 573, 574, 575, 576, 577, 578, 579, 580, 638, 639, 640, 641, 642, 648, 649, 650, 651, 652, 653, 654, 655, 656, 657, 658, 659, 660, 661, 662, 718, 719, 720, 721, 722, 729, 730, 731, 732, 733, 734, 735, 736, 737, 738, 739, 740, 741, 742, 743, 744, 798, 799, 800, 801, 802, 810, 811, 812, 813, 814, 815, 816, 817, 818, 819, 820, 821, 822, 823, 824, 825, 826, 878, 879, 880, 881, 882, 892, 893, 894, 895, 896, 897, 898, 899, 900, 901, 902, 903, 904, 905, 906, 907, 908, 958, 959, 960, 961, 962, 974, 975, 976, 977, 978, 979, 980, 981, 982, 983, 984, 985, 986, 987, 988, 989, 1039, 1040, 1041, 1057, 1058, 1059, 1060, 1061, 1062, 1063, 1064, 1065, 1066, 1067, 1068, 1069, 1070, 1071, 1119, 1120, 1121, 1139, 1140, 1141, 1142, 1143, 1144, 1145, 1146, 1147, 1148, 1149, 1150, 1151, 1152, 1153, 1199, 1200, 1201, 1221, 1222, 1223, 1224, 1225, 1226, 1227, 1228, 1229, 1230, 1231, 1232, 1233, 1234, 1235, 1279, 1280, 1281, 1304, 1305, 1306, 1307, 1308, 1309, 1310, 1311, 1312, 1313, 1314, 1315, 1316, 1359, 1360, 1361, 1386, 1387, 1388, 1389, 1390, 1391, 1392, 1393, 1394, 1395, 1396, 1397, 1398, 1439, 1440, 1441, 1469, 1470, 1471, 1472, 1473, 1474, 1475, 1476, 1477, 1478, 1479, 1480, 1519, 1520, 1521, 1551, 1552, 1553, 1554, 1555, 1556, 1557, 1558, 1559, 1560, 1561, 1562, 1599, 1600, 1601, 1633, 1634, 1635, 1636, 1637, 1638, 1639, 1640, 1641, 1642, 1643, 1644, 1679, 1680, 1681, 1716, 1717, 1718, 1719, 1720, 1721, 1722, 1723, 1724, 1725, 1759, 1760, 1761, 1798, 1799, 1800, 1801, 1802, 1803, 1804, 1805, 1806, 1807, 1839, 1840, 1841, 1880, 1881, 1882, 1883, 1884, 1885, 1886, 1887, 1888, 1889, 1919, 1920, 1921, 1963, 1964, 1965, 1966, 1967, 1968, 1969, 1970, 1971, 1999, 2000, 2001, 2045, 2046, 2047, 2048, 2049, 2050, 2051, 2052, 2053, 2079, 2080, 2081, 2127, 2128, 2129, 2130, 2131, 2132, 2133, 2134, 2160, 2210, 2211, 2212, 2213, 2214, 2215, 2216, 2240, 2292, 2293, 2294, 2295, 2296, 2297, 2298, 2320, 2375, 2376, 2377, 2378, 2379, 2380, 2400, 2457, 2458, 2459, 2460, 2461, 2462, 2480, 2539, 2540, 2541, 2542, 2543, 2560, 2622, 2623, 2624, 2625, 2640, 2704, 2705, 2706, 2707, 2720, 2786, 2787, 2788, 2789, 2800, 2869, 2870, 2871, 2880, 2951, 2952, 2960, 3033, 3034, 3040, 3116, 3120, 3198, 3200, 3280, 3360, 3362, 3440, 3444, 3520, 3526, 3527, 3600, 3608, 3609, 3680, 3689, 3690, 3691, 3760, 3771, 3772, 3773, 3774, 3840, 3853, 3854, 3855, 3856, 3920, 3935, 3936, 3937, 3938, 4000, 4017, 4018, 4019, 4020, 4021, 4080, 4098, 4099, 4100, 4101, 4102, 4103, 4160, 4180, 4181, 4182, 4183, 4184, 4185, 4240, 4262, 4263, 4264, 4265, 4266, 4267, 4268, 4320, 4344, 4345, 4346, 4347, 4348, 4349, 4350, 4400, 4426, 4427, 4428, 4429, 4430, 4431, 4432, 4433, 4479, 4480, 4481, 4507, 4508, 4509, 4510, 4511, 4512, 4513, 4514, 4515, 4559, 4560, 4561, 4589, 4590, 4591, 4592, 4593, 4594, 4595, 4596, 4597, 4639, 4640, 4641, 4671, 4672, 4673, 4674, 4675, 4676, 4677, 4678, 4679, 4680, 4719, 4720, 4721, 4753, 4754, 4755, 4756, 4757, 4758, 4759, 4760, 4761, 4762, 4799, 4800, 4801, 4835, 4836, 4837, 4838, 4839, 4840, 4841, 4842, 4843, 4844, 4879, 4880, 4881, 4916, 4917, 4918, 4919, 4920, 4921, 4922, 4923, 4924, 4925, 4926, 4927, 4959, 4960, 4961, 4998, 4999, 5000, 5001, 5002, 5003, 5004, 5005, 5006, 5007, 5008, 5009, 5039, 5040, 5041, 5080, 5081, 5082, 5083, 5084, 5085, 5086, 5087, 5088, 5089, 5090, 5091, 5119, 5120, 5121, 5162, 5163, 5164, 5165, 5166, 5167, 5168, 5169, 5170, 5171, 5172, 5173, 5174, 5199, 5200, 5201, 5244, 5245, 5246, 5247, 5248, 5249, 5250, 5251, 5252, 5253, 5254, 5255, 5256, 5279, 5280, 5281, 5325, 5326, 5327, 5328, 5329, 5330, 5331, 5332, 5333, 5334, 5335, 5336, 5337, 5338, 5339, 5359, 5360, 5361, 5407, 5408, 5409, 5410, 5411, 5412, 5413, 5414, 5415, 5416, 5417, 5418, 5419, 5420, 5421, 5439, 5440, 5441, 5489, 5490, 5491, 5492, 5493, 5494, 5495, 5496, 5497, 5498, 5499, 5500, 5501, 5502, 5503, 5519, 5520, 5521, 5571, 5572, 5573, 5574, 5575, 5576, 5577, 5578, 5579, 5580, 5581, 5582, 5583, 5584, 5585, 5586, 5598, 5599, 5600, 5601, 5602, 5652, 5653, 5654, 5655, 5656, 5657, 5658, 5659, 5660, 5661, 5662, 5663, 5664, 5665, 5666, 5667, 5668, 5678, 5679, 5680, 5681, 5682, 5734, 5735, 5736, 5737, 5738, 5739, 5740, 5741, 5742, 5743, 5744, 5745, 5746, 5747, 5748, 5749, 5750, 5758, 5759, 5760, 5761, 5762, 5816, 5817, 5818, 5819, 5820, 5821, 5822, 5823, 5824, 5825, 5826, 5827, 5828, 5829, 5830, 5831, 5838, 5839, 5840, 5841, 5842, 5898, 5899, 5900, 5901, 5902, 5903, 5904, 5905, 5906, 5907, 5908, 5909, 5910, 5911, 5912, 5918, 5919, 5920, 5921, 5922, 5980, 5981, 5982, 5983, 5984, 5985, 5986, 5987, 5988, 5989, 5990, 5991, 5992, 5993, 5998, 5999, 6000, 6001, 6002, 6061, 6062, 6063, 6064, 6065, 6066, 6067, 6068, 6069, 6070, 6071, 6072, 6073, 6074, 6078, 6079, 6080, 6081, 6082, 6143, 6144, 6145, 6146, 6147, 6148, 6149, 6150, 6151, 6152, 6153, 6154, 6155, 6158, 6159, 6160, 6161, 6162, 6225, 6226, 6227, 6228, 6229, 6230, 6231, 6232, 6233, 6234, 6235, 6236, 6238, 6239, 6240, 6241, 6242, 6307, 6308, 6309, 6310, 6311, 6312, 6313, 6314, 6315, 6316, 6317, 6318, 6319, 6320, 6321, 6322, 6389, 6390, 6391, 6392, 6393, 6394, 6395, 6396, 6397, 6398, 6399, 6400, 6401, 6402, 6470, 6471, 6472, 6473, 6474, 6475, 6476, 6477, 6478, 6479, 6480, 6481, 6482, 6552, 6553, 6554, 6555, 6556, 6557, 6558, 6559, 6560]\n",
      "CPU times: user 154 ms, sys: 16 ms, total: 170 ms\n",
      "Wall time: 169 ms\n"
     ]
    }
   ],
   "source": [
    "%%time\n",
    "n_total = len(simulation.dataframe)\n",
    "n_train = len(simulation.dataframe[simulation.dataframe.type_of == \"train\"])\n",
    "n_val = len(simulation.dataframe[simulation.dataframe.type_of == \"val\"])\n",
    "n_test = len(simulation.dataframe[simulation.dataframe.type_of == \"test\"])\n",
    "n_train_hamiltonians = len(simulation.train_ids)\n",
    "n_val_hamiltonians = len(simulation.val_ids)\n",
    "n_test_hamiltonians = len(simulation.test_ids)\n",
    "n_total_hamiltonians = n_train_hamiltonians + n_val_hamiltonians + n_test_hamiltonians\n",
    "\n",
    "print(\"% train: \", n_train/n_total)\n",
    "print(\"% val: \",  n_val/n_total)\n",
    "print(\"% test: \", n_test/n_total)\n",
    "print(\"% train + val + test: \", (n_train+n_val+n_test)/n_total)\n",
    "print(\"\\n\")\n",
    "print(\"number of train hamiltonians: \", n_train_hamiltonians)\n",
    "print(\"number of val hamiltonians: \", n_val_hamiltonians)\n",
    "print(\"number of test hamiltonians: \", n_test_hamiltonians)\n",
    "print(\"total number of hamiltonians: \", n_total_hamiltonians)\n",
    "print(\"\\n\")\n",
    "print(\"train ids: \", simulation.train_ids)\n",
    "print(\"val ids: \", simulation.val_ids)\n",
    "print(\"test ids: \", simulation.test_ids)"
   ]
  },
  {
   "cell_type": "markdown",
   "metadata": {
    "papermill": {
     "duration": 0.035816,
     "end_time": "2020-07-09T18:36:20.359575",
     "exception": false,
     "start_time": "2020-07-09T18:36:20.323759",
     "status": "completed"
    },
    "tags": []
   },
   "source": [
    "#### Checking summaries"
   ]
  },
  {
   "cell_type": "code",
   "execution_count": 27,
   "metadata": {
    "execution": {
     "iopub.execute_input": "2020-07-09T18:36:20.432064Z",
     "iopub.status.busy": "2020-07-09T18:36:20.431733Z",
     "iopub.status.idle": "2020-07-09T18:36:20.450362Z",
     "shell.execute_reply": "2020-07-09T18:36:20.450693Z"
    },
    "papermill": {
     "duration": 0.055965,
     "end_time": "2020-07-09T18:36:20.450762",
     "exception": false,
     "start_time": "2020-07-09T18:36:20.394797",
     "status": "completed"
    },
    "tags": []
   },
   "outputs": [
    {
     "name": "stdout",
     "output_type": "stream",
     "text": [
      "length of ham_summary:  6561\n",
      "CPU times: user 90 µs, sys: 1e+03 ns, total: 91 µs\n",
      "Wall time: 62.2 µs\n"
     ]
    },
    {
     "data": {
      "text/html": [
       "<div>\n",
       "<style scoped>\n",
       "    .dataframe tbody tr th:only-of-type {\n",
       "        vertical-align: middle;\n",
       "    }\n",
       "\n",
       "    .dataframe tbody tr th {\n",
       "        vertical-align: top;\n",
       "    }\n",
       "\n",
       "    .dataframe thead th {\n",
       "        text-align: right;\n",
       "    }\n",
       "</style>\n",
       "<table border=\"1\" class=\"dataframe\">\n",
       "  <thead>\n",
       "    <tr style=\"text-align: right;\">\n",
       "      <th></th>\n",
       "      <th>t1</th>\n",
       "      <th>t2</th>\n",
       "      <th>type_of</th>\n",
       "      <th>0</th>\n",
       "      <th>1</th>\n",
       "      <th>phase</th>\n",
       "      <th>pred_phase</th>\n",
       "    </tr>\n",
       "    <tr>\n",
       "      <th>id</th>\n",
       "      <th></th>\n",
       "      <th></th>\n",
       "      <th></th>\n",
       "      <th></th>\n",
       "      <th></th>\n",
       "      <th></th>\n",
       "      <th></th>\n",
       "    </tr>\n",
       "  </thead>\n",
       "  <tbody>\n",
       "    <tr>\n",
       "      <th>0</th>\n",
       "      <td>-2.0</td>\n",
       "      <td>-2.00</td>\n",
       "      <td>test</td>\n",
       "      <td>0.49</td>\n",
       "      <td>0.51</td>\n",
       "      <td>999</td>\n",
       "      <td>1</td>\n",
       "    </tr>\n",
       "    <tr>\n",
       "      <th>1</th>\n",
       "      <td>-2.0</td>\n",
       "      <td>-1.95</td>\n",
       "      <td>test</td>\n",
       "      <td>0.51</td>\n",
       "      <td>0.49</td>\n",
       "      <td>0</td>\n",
       "      <td>0</td>\n",
       "    </tr>\n",
       "    <tr>\n",
       "      <th>2</th>\n",
       "      <td>-2.0</td>\n",
       "      <td>-1.90</td>\n",
       "      <td>test</td>\n",
       "      <td>0.56</td>\n",
       "      <td>0.44</td>\n",
       "      <td>0</td>\n",
       "      <td>0</td>\n",
       "    </tr>\n",
       "    <tr>\n",
       "      <th>3</th>\n",
       "      <td>-2.0</td>\n",
       "      <td>-1.85</td>\n",
       "      <td>test</td>\n",
       "      <td>0.66</td>\n",
       "      <td>0.34</td>\n",
       "      <td>0</td>\n",
       "      <td>0</td>\n",
       "    </tr>\n",
       "    <tr>\n",
       "      <th>4</th>\n",
       "      <td>-2.0</td>\n",
       "      <td>-1.80</td>\n",
       "      <td>test</td>\n",
       "      <td>0.54</td>\n",
       "      <td>0.46</td>\n",
       "      <td>0</td>\n",
       "      <td>0</td>\n",
       "    </tr>\n",
       "    <tr>\n",
       "      <th>...</th>\n",
       "      <td>...</td>\n",
       "      <td>...</td>\n",
       "      <td>...</td>\n",
       "      <td>...</td>\n",
       "      <td>...</td>\n",
       "      <td>...</td>\n",
       "      <td>...</td>\n",
       "    </tr>\n",
       "    <tr>\n",
       "      <th>6556</th>\n",
       "      <td>2.0</td>\n",
       "      <td>1.80</td>\n",
       "      <td>test</td>\n",
       "      <td>0.59</td>\n",
       "      <td>0.41</td>\n",
       "      <td>0</td>\n",
       "      <td>0</td>\n",
       "    </tr>\n",
       "    <tr>\n",
       "      <th>6557</th>\n",
       "      <td>2.0</td>\n",
       "      <td>1.85</td>\n",
       "      <td>test</td>\n",
       "      <td>0.62</td>\n",
       "      <td>0.38</td>\n",
       "      <td>0</td>\n",
       "      <td>0</td>\n",
       "    </tr>\n",
       "    <tr>\n",
       "      <th>6558</th>\n",
       "      <td>2.0</td>\n",
       "      <td>1.90</td>\n",
       "      <td>test</td>\n",
       "      <td>0.57</td>\n",
       "      <td>0.43</td>\n",
       "      <td>0</td>\n",
       "      <td>0</td>\n",
       "    </tr>\n",
       "    <tr>\n",
       "      <th>6559</th>\n",
       "      <td>2.0</td>\n",
       "      <td>1.95</td>\n",
       "      <td>test</td>\n",
       "      <td>0.52</td>\n",
       "      <td>0.48</td>\n",
       "      <td>0</td>\n",
       "      <td>0</td>\n",
       "    </tr>\n",
       "    <tr>\n",
       "      <th>6560</th>\n",
       "      <td>2.0</td>\n",
       "      <td>2.00</td>\n",
       "      <td>test</td>\n",
       "      <td>0.48</td>\n",
       "      <td>0.52</td>\n",
       "      <td>999</td>\n",
       "      <td>1</td>\n",
       "    </tr>\n",
       "  </tbody>\n",
       "</table>\n",
       "<p>6561 rows × 7 columns</p>\n",
       "</div>"
      ],
      "text/plain": [
       "       t1    t2 type_of     0     1  phase  pred_phase\n",
       "id                                                    \n",
       "0    -2.0 -2.00    test  0.49  0.51    999           1\n",
       "1    -2.0 -1.95    test  0.51  0.49      0           0\n",
       "2    -2.0 -1.90    test  0.56  0.44      0           0\n",
       "3    -2.0 -1.85    test  0.66  0.34      0           0\n",
       "4    -2.0 -1.80    test  0.54  0.46      0           0\n",
       "...   ...   ...     ...   ...   ...    ...         ...\n",
       "6556  2.0  1.80    test  0.59  0.41      0           0\n",
       "6557  2.0  1.85    test  0.62  0.38      0           0\n",
       "6558  2.0  1.90    test  0.57  0.43      0           0\n",
       "6559  2.0  1.95    test  0.52  0.48      0           0\n",
       "6560  2.0  2.00    test  0.48  0.52    999           1\n",
       "\n",
       "[6561 rows x 7 columns]"
      ]
     },
     "execution_count": 27,
     "metadata": {},
     "output_type": "execute_result"
    }
   ],
   "source": [
    "%%time\n",
    "ham_summary = simulation.hamiltonian_summary\n",
    "print(\"length of ham_summary: \", len(ham_summary))\n",
    "ham_summary"
   ]
  },
  {
   "cell_type": "code",
   "execution_count": 28,
   "metadata": {
    "execution": {
     "iopub.execute_input": "2020-07-09T18:36:20.526102Z",
     "iopub.status.busy": "2020-07-09T18:36:20.525796Z",
     "iopub.status.idle": "2020-07-09T18:36:20.554682Z",
     "shell.execute_reply": "2020-07-09T18:36:20.554359Z"
    },
    "papermill": {
     "duration": 0.0668,
     "end_time": "2020-07-09T18:36:20.554733",
     "exception": false,
     "start_time": "2020-07-09T18:36:20.487933",
     "status": "completed"
    },
    "tags": []
   },
   "outputs": [
    {
     "data": {
      "text/html": [
       "<div>\n",
       "<style scoped>\n",
       "    .dataframe tbody tr th:only-of-type {\n",
       "        vertical-align: middle;\n",
       "    }\n",
       "\n",
       "    .dataframe tbody tr th {\n",
       "        vertical-align: top;\n",
       "    }\n",
       "\n",
       "    .dataframe thead th {\n",
       "        text-align: right;\n",
       "    }\n",
       "</style>\n",
       "<table border=\"1\" class=\"dataframe\">\n",
       "  <thead>\n",
       "    <tr style=\"text-align: right;\">\n",
       "      <th></th>\n",
       "      <th>t1</th>\n",
       "      <th>t2</th>\n",
       "      <th>0</th>\n",
       "      <th>1</th>\n",
       "      <th>phase</th>\n",
       "      <th>pred_phase</th>\n",
       "    </tr>\n",
       "  </thead>\n",
       "  <tbody>\n",
       "    <tr>\n",
       "      <th>count</th>\n",
       "      <td>6561.000000</td>\n",
       "      <td>6.561000e+03</td>\n",
       "      <td>6561.000000</td>\n",
       "      <td>6561.000000</td>\n",
       "      <td>6561.000000</td>\n",
       "      <td>6561.000000</td>\n",
       "    </tr>\n",
       "    <tr>\n",
       "      <th>mean</th>\n",
       "      <td>0.000000</td>\n",
       "      <td>-4.331917e-18</td>\n",
       "      <td>0.541036</td>\n",
       "      <td>0.458964</td>\n",
       "      <td>25.002134</td>\n",
       "      <td>0.495046</td>\n",
       "    </tr>\n",
       "    <tr>\n",
       "      <th>std</th>\n",
       "      <td>1.169134</td>\n",
       "      <td>1.169134e+00</td>\n",
       "      <td>0.253610</td>\n",
       "      <td>0.253610</td>\n",
       "      <td>154.495657</td>\n",
       "      <td>0.500014</td>\n",
       "    </tr>\n",
       "    <tr>\n",
       "      <th>min</th>\n",
       "      <td>-2.000000</td>\n",
       "      <td>-2.000000e+00</td>\n",
       "      <td>0.040000</td>\n",
       "      <td>0.000000</td>\n",
       "      <td>0.000000</td>\n",
       "      <td>0.000000</td>\n",
       "    </tr>\n",
       "    <tr>\n",
       "      <th>25%</th>\n",
       "      <td>-1.000000</td>\n",
       "      <td>-1.000000e+00</td>\n",
       "      <td>0.320000</td>\n",
       "      <td>0.220000</td>\n",
       "      <td>0.000000</td>\n",
       "      <td>0.000000</td>\n",
       "    </tr>\n",
       "    <tr>\n",
       "      <th>50%</th>\n",
       "      <td>0.000000</td>\n",
       "      <td>0.000000e+00</td>\n",
       "      <td>0.500000</td>\n",
       "      <td>0.500000</td>\n",
       "      <td>1.000000</td>\n",
       "      <td>0.000000</td>\n",
       "    </tr>\n",
       "    <tr>\n",
       "      <th>75%</th>\n",
       "      <td>1.000000</td>\n",
       "      <td>1.000000e+00</td>\n",
       "      <td>0.780000</td>\n",
       "      <td>0.680000</td>\n",
       "      <td>1.000000</td>\n",
       "      <td>1.000000</td>\n",
       "    </tr>\n",
       "    <tr>\n",
       "      <th>max</th>\n",
       "      <td>2.000000</td>\n",
       "      <td>2.000000e+00</td>\n",
       "      <td>1.000000</td>\n",
       "      <td>0.960000</td>\n",
       "      <td>999.000000</td>\n",
       "      <td>1.000000</td>\n",
       "    </tr>\n",
       "  </tbody>\n",
       "</table>\n",
       "</div>"
      ],
      "text/plain": [
       "                t1            t2            0            1        phase  \\\n",
       "count  6561.000000  6.561000e+03  6561.000000  6561.000000  6561.000000   \n",
       "mean      0.000000 -4.331917e-18     0.541036     0.458964    25.002134   \n",
       "std       1.169134  1.169134e+00     0.253610     0.253610   154.495657   \n",
       "min      -2.000000 -2.000000e+00     0.040000     0.000000     0.000000   \n",
       "25%      -1.000000 -1.000000e+00     0.320000     0.220000     0.000000   \n",
       "50%       0.000000  0.000000e+00     0.500000     0.500000     1.000000   \n",
       "75%       1.000000  1.000000e+00     0.780000     0.680000     1.000000   \n",
       "max       2.000000  2.000000e+00     1.000000     0.960000   999.000000   \n",
       "\n",
       "        pred_phase  \n",
       "count  6561.000000  \n",
       "mean      0.495046  \n",
       "std       0.500014  \n",
       "min       0.000000  \n",
       "25%       0.000000  \n",
       "50%       0.000000  \n",
       "75%       1.000000  \n",
       "max       1.000000  "
      ]
     },
     "execution_count": 28,
     "metadata": {},
     "output_type": "execute_result"
    }
   ],
   "source": [
    "ham_summary.describe()"
   ]
  },
  {
   "cell_type": "code",
   "execution_count": 29,
   "metadata": {
    "execution": {
     "iopub.execute_input": "2020-07-09T18:36:20.631872Z",
     "iopub.status.busy": "2020-07-09T18:36:20.631560Z",
     "iopub.status.idle": "2020-07-09T18:36:20.646904Z",
     "shell.execute_reply": "2020-07-09T18:36:20.647207Z"
    },
    "papermill": {
     "duration": 0.055655,
     "end_time": "2020-07-09T18:36:20.647271",
     "exception": false,
     "start_time": "2020-07-09T18:36:20.591616",
     "status": "completed"
    },
    "tags": []
   },
   "outputs": [
    {
     "name": "stdout",
     "output_type": "stream",
     "text": [
      "length of ham_summary:  656100\n"
     ]
    },
    {
     "data": {
      "text/html": [
       "<div>\n",
       "<style scoped>\n",
       "    .dataframe tbody tr th:only-of-type {\n",
       "        vertical-align: middle;\n",
       "    }\n",
       "\n",
       "    .dataframe tbody tr th {\n",
       "        vertical-align: top;\n",
       "    }\n",
       "\n",
       "    .dataframe thead th {\n",
       "        text-align: right;\n",
       "    }\n",
       "</style>\n",
       "<table border=\"1\" class=\"dataframe\">\n",
       "  <thead>\n",
       "    <tr style=\"text-align: right;\">\n",
       "      <th></th>\n",
       "      <th>id</th>\n",
       "      <th>phase</th>\n",
       "      <th>pred_phase</th>\n",
       "      <th>type_of</th>\n",
       "    </tr>\n",
       "  </thead>\n",
       "  <tbody>\n",
       "    <tr>\n",
       "      <th>0</th>\n",
       "      <td>0</td>\n",
       "      <td>999</td>\n",
       "      <td>0</td>\n",
       "      <td>test</td>\n",
       "    </tr>\n",
       "    <tr>\n",
       "      <th>1</th>\n",
       "      <td>0</td>\n",
       "      <td>999</td>\n",
       "      <td>0</td>\n",
       "      <td>test</td>\n",
       "    </tr>\n",
       "    <tr>\n",
       "      <th>2</th>\n",
       "      <td>0</td>\n",
       "      <td>999</td>\n",
       "      <td>0</td>\n",
       "      <td>test</td>\n",
       "    </tr>\n",
       "    <tr>\n",
       "      <th>3</th>\n",
       "      <td>0</td>\n",
       "      <td>999</td>\n",
       "      <td>0</td>\n",
       "      <td>test</td>\n",
       "    </tr>\n",
       "    <tr>\n",
       "      <th>4</th>\n",
       "      <td>0</td>\n",
       "      <td>999</td>\n",
       "      <td>1</td>\n",
       "      <td>test</td>\n",
       "    </tr>\n",
       "    <tr>\n",
       "      <th>...</th>\n",
       "      <td>...</td>\n",
       "      <td>...</td>\n",
       "      <td>...</td>\n",
       "      <td>...</td>\n",
       "    </tr>\n",
       "    <tr>\n",
       "      <th>656095</th>\n",
       "      <td>6560</td>\n",
       "      <td>999</td>\n",
       "      <td>1</td>\n",
       "      <td>test</td>\n",
       "    </tr>\n",
       "    <tr>\n",
       "      <th>656096</th>\n",
       "      <td>6560</td>\n",
       "      <td>999</td>\n",
       "      <td>1</td>\n",
       "      <td>test</td>\n",
       "    </tr>\n",
       "    <tr>\n",
       "      <th>656097</th>\n",
       "      <td>6560</td>\n",
       "      <td>999</td>\n",
       "      <td>1</td>\n",
       "      <td>test</td>\n",
       "    </tr>\n",
       "    <tr>\n",
       "      <th>656098</th>\n",
       "      <td>6560</td>\n",
       "      <td>999</td>\n",
       "      <td>0</td>\n",
       "      <td>test</td>\n",
       "    </tr>\n",
       "    <tr>\n",
       "      <th>656099</th>\n",
       "      <td>6560</td>\n",
       "      <td>999</td>\n",
       "      <td>1</td>\n",
       "      <td>test</td>\n",
       "    </tr>\n",
       "  </tbody>\n",
       "</table>\n",
       "<p>656100 rows × 4 columns</p>\n",
       "</div>"
      ],
      "text/plain": [
       "          id  phase  pred_phase type_of\n",
       "0          0    999           0    test\n",
       "1          0    999           0    test\n",
       "2          0    999           0    test\n",
       "3          0    999           0    test\n",
       "4          0    999           1    test\n",
       "...      ...    ...         ...     ...\n",
       "656095  6560    999           1    test\n",
       "656096  6560    999           1    test\n",
       "656097  6560    999           1    test\n",
       "656098  6560    999           0    test\n",
       "656099  6560    999           1    test\n",
       "\n",
       "[656100 rows x 4 columns]"
      ]
     },
     "execution_count": 29,
     "metadata": {},
     "output_type": "execute_result"
    }
   ],
   "source": [
    "eigen_summary = simulation.eigenvector_summary\n",
    "print(\"length of ham_summary: \", len(eigen_summary))\n",
    "eigen_summary"
   ]
  },
  {
   "cell_type": "markdown",
   "metadata": {
    "papermill": {
     "duration": 0.036458,
     "end_time": "2020-07-09T18:36:20.720001",
     "exception": false,
     "start_time": "2020-07-09T18:36:20.683543",
     "status": "completed"
    },
    "tags": []
   },
   "source": [
    "#### Checking accuracies"
   ]
  },
  {
   "cell_type": "code",
   "execution_count": 30,
   "metadata": {
    "execution": {
     "iopub.execute_input": "2020-07-09T18:36:20.796294Z",
     "iopub.status.busy": "2020-07-09T18:36:20.795984Z",
     "iopub.status.idle": "2020-07-09T18:36:20.807079Z",
     "shell.execute_reply": "2020-07-09T18:36:20.807384Z"
    },
    "papermill": {
     "duration": 0.050253,
     "end_time": "2020-07-09T18:36:20.807449",
     "exception": false,
     "start_time": "2020-07-09T18:36:20.757196",
     "status": "completed"
    },
    "tags": []
   },
   "outputs": [
    {
     "data": {
      "text/plain": [
       "{'eigenvector_train': 0.9645503597122302,\n",
       " 'eigenvector_val': 0.73214,\n",
       " 'eigenvector_test': 0.5767061611374408,\n",
       " 'hamiltonian_train': 0.9964028776978417,\n",
       " 'hamiltonian_val': 0.9918,\n",
       " 'hamiltonian_test': 0.9111374407582938}"
      ]
     },
     "execution_count": 30,
     "metadata": {},
     "output_type": "execute_result"
    }
   ],
   "source": [
    "simulation.accuracy"
   ]
  },
  {
   "cell_type": "markdown",
   "metadata": {
    "papermill": {
     "duration": 0.036411,
     "end_time": "2020-07-09T18:36:20.880500",
     "exception": false,
     "start_time": "2020-07-09T18:36:20.844089",
     "status": "completed"
    },
    "tags": []
   },
   "source": [
    "#### Checking data stored in  memory"
   ]
  },
  {
   "cell_type": "code",
   "execution_count": 31,
   "metadata": {
    "execution": {
     "iopub.execute_input": "2020-07-09T18:36:20.956691Z",
     "iopub.status.busy": "2020-07-09T18:36:20.956366Z",
     "iopub.status.idle": "2020-07-09T18:36:20.966962Z",
     "shell.execute_reply": "2020-07-09T18:36:20.966623Z"
    },
    "papermill": {
     "duration": 0.049232,
     "end_time": "2020-07-09T18:36:20.967016",
     "exception": false,
     "start_time": "2020-07-09T18:36:20.917784",
     "status": "completed"
    },
    "tags": []
   },
   "outputs": [
    {
     "data": {
      "text/plain": [
       "[]"
      ]
     },
     "execution_count": 31,
     "metadata": {},
     "output_type": "execute_result"
    }
   ],
   "source": [
    "ham_summary_list = simulation.hamiltonian_summary_list\n",
    "ham_summary_list"
   ]
  },
  {
   "cell_type": "code",
   "execution_count": 32,
   "metadata": {
    "execution": {
     "iopub.execute_input": "2020-07-09T18:36:21.043062Z",
     "iopub.status.busy": "2020-07-09T18:36:21.042754Z",
     "iopub.status.idle": "2020-07-09T18:36:21.054008Z",
     "shell.execute_reply": "2020-07-09T18:36:21.053688Z"
    },
    "papermill": {
     "duration": 0.05042,
     "end_time": "2020-07-09T18:36:21.054058",
     "exception": false,
     "start_time": "2020-07-09T18:36:21.003638",
     "status": "completed"
    },
    "tags": []
   },
   "outputs": [
    {
     "data": {
      "text/plain": [
       "[]"
      ]
     },
     "execution_count": 32,
     "metadata": {},
     "output_type": "execute_result"
    }
   ],
   "source": [
    "eigen_summary_list = simulation.eigenvector_summary_list\n",
    "eigen_summary_list"
   ]
  },
  {
   "cell_type": "code",
   "execution_count": 33,
   "metadata": {
    "execution": {
     "iopub.execute_input": "2020-07-09T18:36:21.131760Z",
     "iopub.status.busy": "2020-07-09T18:36:21.131438Z",
     "iopub.status.idle": "2020-07-09T18:36:21.142581Z",
     "shell.execute_reply": "2020-07-09T18:36:21.142886Z"
    },
    "papermill": {
     "duration": 0.051078,
     "end_time": "2020-07-09T18:36:21.142951",
     "exception": false,
     "start_time": "2020-07-09T18:36:21.091873",
     "status": "completed"
    },
    "tags": []
   },
   "outputs": [
    {
     "data": {
      "text/plain": [
       "{'eigenvector_train': [],\n",
       " 'eigenvector_val': [],\n",
       " 'eigenvector_test': [],\n",
       " 'hamiltonian_train': [],\n",
       " 'hamiltonian_val': [],\n",
       " 'hamiltonian_test': []}"
      ]
     },
     "execution_count": 33,
     "metadata": {},
     "output_type": "execute_result"
    }
   ],
   "source": [
    "accuracy_list = simulation.accuracy_list\n",
    "accuracy_list"
   ]
  },
  {
   "cell_type": "code",
   "execution_count": null,
   "metadata": {
    "papermill": {
     "duration": 0.0373,
     "end_time": "2020-07-09T18:36:21.217366",
     "exception": false,
     "start_time": "2020-07-09T18:36:21.180066",
     "status": "completed"
    },
    "tags": []
   },
   "outputs": [],
   "source": []
  },
  {
   "cell_type": "code",
   "execution_count": null,
   "metadata": {
    "papermill": {
     "duration": 0.038012,
     "end_time": "2020-07-09T18:36:21.293296",
     "exception": false,
     "start_time": "2020-07-09T18:36:21.255284",
     "status": "completed"
    },
    "tags": []
   },
   "outputs": [],
   "source": []
  },
  {
   "cell_type": "code",
   "execution_count": 34,
   "metadata": {
    "execution": {
     "iopub.execute_input": "2020-07-09T18:36:21.369671Z",
     "iopub.status.busy": "2020-07-09T18:36:21.369363Z",
     "iopub.status.idle": "2020-07-09T18:36:21.378916Z",
     "shell.execute_reply": "2020-07-09T18:36:21.378595Z"
    },
    "papermill": {
     "duration": 0.048536,
     "end_time": "2020-07-09T18:36:21.378967",
     "exception": false,
     "start_time": "2020-07-09T18:36:21.330431",
     "status": "completed"
    },
    "tags": []
   },
   "outputs": [],
   "source": [
    "#simulation.fourier_matrix"
   ]
  },
  {
   "cell_type": "code",
   "execution_count": 35,
   "metadata": {
    "execution": {
     "iopub.execute_input": "2020-07-09T18:36:21.456737Z",
     "iopub.status.busy": "2020-07-09T18:36:21.456425Z",
     "iopub.status.idle": "2020-07-09T18:36:21.466221Z",
     "shell.execute_reply": "2020-07-09T18:36:21.465878Z"
    },
    "papermill": {
     "duration": 0.049151,
     "end_time": "2020-07-09T18:36:21.466278",
     "exception": false,
     "start_time": "2020-07-09T18:36:21.417127",
     "status": "completed"
    },
    "tags": []
   },
   "outputs": [],
   "source": [
    "#simulation.fourier_matrix.shape"
   ]
  },
  {
   "cell_type": "code",
   "execution_count": 36,
   "metadata": {
    "execution": {
     "iopub.execute_input": "2020-07-09T18:36:21.542621Z",
     "iopub.status.busy": "2020-07-09T18:36:21.542312Z",
     "iopub.status.idle": "2020-07-09T18:36:21.553043Z",
     "shell.execute_reply": "2020-07-09T18:36:21.552705Z"
    },
    "papermill": {
     "duration": 0.049594,
     "end_time": "2020-07-09T18:36:21.553096",
     "exception": false,
     "start_time": "2020-07-09T18:36:21.503502",
     "status": "completed"
    },
    "tags": []
   },
   "outputs": [],
   "source": [
    "#simulation.fourier_matrix[:,0]"
   ]
  },
  {
   "cell_type": "code",
   "execution_count": 37,
   "metadata": {
    "execution": {
     "iopub.execute_input": "2020-07-09T18:36:21.630986Z",
     "iopub.status.busy": "2020-07-09T18:36:21.630677Z",
     "iopub.status.idle": "2020-07-09T18:36:21.641117Z",
     "shell.execute_reply": "2020-07-09T18:36:21.641436Z"
    },
    "papermill": {
     "duration": 0.050424,
     "end_time": "2020-07-09T18:36:21.641504",
     "exception": false,
     "start_time": "2020-07-09T18:36:21.591080",
     "status": "completed"
    },
    "tags": []
   },
   "outputs": [],
   "source": [
    "#simulation.fourier_matrix[:,1]"
   ]
  },
  {
   "cell_type": "code",
   "execution_count": 38,
   "metadata": {
    "execution": {
     "iopub.execute_input": "2020-07-09T18:36:21.718151Z",
     "iopub.status.busy": "2020-07-09T18:36:21.717840Z",
     "iopub.status.idle": "2020-07-09T18:36:21.727571Z",
     "shell.execute_reply": "2020-07-09T18:36:21.727247Z"
    },
    "papermill": {
     "duration": 0.048911,
     "end_time": "2020-07-09T18:36:21.727623",
     "exception": false,
     "start_time": "2020-07-09T18:36:21.678712",
     "status": "completed"
    },
    "tags": []
   },
   "outputs": [],
   "source": [
    "#np.exp(-1j*2*np.pi*3/100)"
   ]
  },
  {
   "cell_type": "code",
   "execution_count": 39,
   "metadata": {
    "execution": {
     "iopub.execute_input": "2020-07-09T18:36:21.806306Z",
     "iopub.status.busy": "2020-07-09T18:36:21.805984Z",
     "iopub.status.idle": "2020-07-09T18:36:21.815840Z",
     "shell.execute_reply": "2020-07-09T18:36:21.815495Z"
    },
    "papermill": {
     "duration": 0.049899,
     "end_time": "2020-07-09T18:36:21.815894",
     "exception": false,
     "start_time": "2020-07-09T18:36:21.765995",
     "status": "completed"
    },
    "tags": []
   },
   "outputs": [],
   "source": [
    "#for i in range(1,50):\n",
    "#    print(\"\\n\")\n",
    "#    print(i)\n",
    "#    print(np.sum((np.real(simulation.fourier_matrix[:,i]) - np.real(simulation.fourier_matrix[:,-i]))**2))\n",
    "#    print(np.sum((np.imag(simulation.fourier_matrix[:,i])+ np.imag(simulation.fourier_matrix[:,-i]))**2))"
   ]
  },
  {
   "cell_type": "code",
   "execution_count": 40,
   "metadata": {
    "execution": {
     "iopub.execute_input": "2020-07-09T18:36:21.893839Z",
     "iopub.status.busy": "2020-07-09T18:36:21.893521Z",
     "iopub.status.idle": "2020-07-09T18:36:21.912367Z",
     "shell.execute_reply": "2020-07-09T18:36:21.912026Z"
    },
    "papermill": {
     "duration": 0.057919,
     "end_time": "2020-07-09T18:36:21.912427",
     "exception": false,
     "start_time": "2020-07-09T18:36:21.854508",
     "status": "completed"
    },
    "tags": []
   },
   "outputs": [],
   "source": [
    "#print(simulation.fourier_matrix[:,0])"
   ]
  },
  {
   "cell_type": "code",
   "execution_count": 41,
   "metadata": {
    "execution": {
     "iopub.execute_input": "2020-07-09T18:36:21.991044Z",
     "iopub.status.busy": "2020-07-09T18:36:21.990728Z",
     "iopub.status.idle": "2020-07-09T18:36:22.039071Z",
     "shell.execute_reply": "2020-07-09T18:36:22.040805Z"
    },
    "papermill": {
     "duration": 0.090316,
     "end_time": "2020-07-09T18:36:22.041112",
     "exception": false,
     "start_time": "2020-07-09T18:36:21.950796",
     "status": "completed"
    },
    "tags": []
   },
   "outputs": [],
   "source": [
    "#print(simulation.fourier_matrix[:,50])"
   ]
  },
  {
   "cell_type": "code",
   "execution_count": null,
   "metadata": {
    "papermill": {
     "duration": 0.090289,
     "end_time": "2020-07-09T18:36:22.208928",
     "exception": false,
     "start_time": "2020-07-09T18:36:22.118639",
     "status": "completed"
    },
    "tags": []
   },
   "outputs": [],
   "source": []
  }
 ],
 "metadata": {
  "celltoolbar": "Tags",
  "kernelspec": {
   "display_name": "ml_top_phases",
   "language": "python",
   "name": "ml_top_phases"
  },
  "language_info": {
   "codemirror_mode": {
    "name": "ipython",
    "version": 3
   },
   "file_extension": ".py",
   "mimetype": "text/x-python",
   "name": "python",
   "nbconvert_exporter": "python",
   "pygments_lexer": "ipython3",
   "version": "3.6.10"
  },
  "papermill": {
   "duration": 244.766946,
   "end_time": "2020-07-09T18:36:22.503569",
   "environment_variables": {},
   "exception": null,
   "input_path": "0_simulation_template.ipynb",
   "output_path": "zzz_simulation_output_ssh1_7th_scenario_100_6561.ipynb",
   "parameters": {
    "allowed_windings": [
     0,
     1
    ],
    "csv_path": "/home/rio/ssh_csvs/ssh1/periodic_100_6561.csv",
    "features_to_use": null,
    "fillna": false,
    "fit_params": null,
    "fourier_features_to_use": [
     0,
     2,
     4,
     6,
     8,
     50
    ],
    "fourier_fillna": false,
    "fourier_mode": "dct",
    "fourier_normalize": false,
    "fourier_real": null,
    "model_kw": {
     "criterion": "entropy"
    },
    "model_name": "DecisionTreeClassifier",
    "n_experiments": 100,
    "normalize": false,
    "pred_params": null,
    "random_features": false,
    "random_state": 34896,
    "save_accuracy": true,
    "save_eigenvector": true,
    "save_hamiltonian": true,
    "save_models": true,
    "shuffle_features": false,
    "shuffle_rows": true,
    "simulation_dir": "/home/rio/ssh_simulations/ssh1/periodic_7th_scenario_100_6561",
    "start_n": 0,
    "store_in_lists": false,
    "val_split": 0.9
   },
   "start_time": "2020-07-09T18:32:17.736623",
   "version": "2.1.0"
  }
 },
 "nbformat": 4,
 "nbformat_minor": 2
}