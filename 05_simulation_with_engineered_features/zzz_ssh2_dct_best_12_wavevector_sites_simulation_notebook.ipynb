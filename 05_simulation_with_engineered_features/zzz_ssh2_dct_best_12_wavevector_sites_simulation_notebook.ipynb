{
 "cells": [
  {
   "cell_type": "markdown",
   "metadata": {
    "papermill": {
     "duration": 0.020408,
     "end_time": "2020-07-18T15:45:25.852563",
     "exception": false,
     "start_time": "2020-07-18T15:45:25.832155",
     "status": "completed"
    },
    "tags": []
   },
   "source": [
    "# Simulation template \n",
    "\n",
    "In this notebook we run the machine learning analysis of topological phase transitions occurring  in both nearest-neighbours SSH models (ssh1) and second neighbours models (ssh2) as decribed in the paper [Machine learning topological phases in real space](https://arxiv.org/abs/1901.01963). Here the simulation is run with features generated from fourier components in the first scenario. This scenario is characterized by using only the EVEN wavevector space eigenmodes, computed from ALL real space components."
   ]
  },
  {
   "cell_type": "markdown",
   "metadata": {
    "papermill": {
     "duration": 0.017239,
     "end_time": "2020-07-18T15:45:25.886744",
     "exception": false,
     "start_time": "2020-07-18T15:45:25.869505",
     "status": "completed"
    },
    "tags": []
   },
   "source": [
    "## Defining parameters"
   ]
  },
  {
   "cell_type": "code",
   "execution_count": 1,
   "metadata": {
    "execution": {
     "iopub.execute_input": "2020-07-18T15:45:25.923573Z",
     "iopub.status.busy": "2020-07-18T15:45:25.923247Z",
     "iopub.status.idle": "2020-07-18T15:45:26.539892Z",
     "shell.execute_reply": "2020-07-18T15:45:26.539332Z"
    },
    "papermill": {
     "duration": 0.636764,
     "end_time": "2020-07-18T15:45:26.539976",
     "exception": false,
     "start_time": "2020-07-18T15:45:25.903212",
     "status": "completed"
    },
    "tags": []
   },
   "outputs": [
    {
     "name": "stdout",
     "output_type": "stream",
     "text": [
      "CPU times: user 761 ms, sys: 281 ms, total: 1.04 s\n",
      "Wall time: 609 ms\n"
     ]
    }
   ],
   "source": [
    "%%time\n",
    "%load_ext autoreload\n",
    "%autoreload 2\n",
    "from simulation import *"
   ]
  },
  {
   "cell_type": "code",
   "execution_count": 2,
   "metadata": {
    "execution": {
     "iopub.execute_input": "2020-07-18T15:45:26.579591Z",
     "iopub.status.busy": "2020-07-18T15:45:26.579246Z",
     "iopub.status.idle": "2020-07-18T15:45:26.591371Z",
     "shell.execute_reply": "2020-07-18T15:45:26.591015Z"
    },
    "papermill": {
     "duration": 0.032014,
     "end_time": "2020-07-18T15:45:26.591424",
     "exception": false,
     "start_time": "2020-07-18T15:45:26.559410",
     "status": "completed"
    },
    "tags": [
     "parameters"
    ]
   },
   "outputs": [
    {
     "name": "stdout",
     "output_type": "stream",
     "text": [
      "CPU times: user 2 µs, sys: 0 ns, total: 2 µs\n",
      "Wall time: 4.29 µs\n"
     ]
    }
   ],
   "source": [
    "%%time\n",
    "### Dataset and simulation parameters\n",
    "#csv_path = SSH2_PERIODIC_100_6561_CSV \n",
    "csv_path = SSH1_PERIODIC_100_6561_CSV \n",
    "model_name = \"DecisionTreeClassifier\"\n",
    "model_kw = {\"criterion\":\"entropy\"}\n",
    "allowed_windings = [0,1]\n",
    "#allowed_windings = [-1,0,1,2]\n",
    "simulation_dir = SSH1_REAL_SPACE_ALL_SITES\n",
    "#simulation_dir = SSH2_PERIODIC_ENGINEERED_100_6561_SIMULATION_DIR\n",
    "val_split = 0.9  \n",
    "features_to_use = None\n",
    "shuffle_features = False\n",
    "random_state = 763\n",
    "\n",
    "### Fourier features\n",
    "fourier_mode = \"dst\"\n",
    "fourier_features_to_use = None\n",
    "fourier_real = \"imag\"\n",
    "fourier_normalize = False\n",
    "fourier_fillna = False\n",
    "\n",
    "### Running a simulation\n",
    "n_experiments = 5\n",
    "start_n = 0\n",
    "fit_params = None\n",
    "#mode=mode\n",
    "shuffle_rows = True\n",
    "pred_params = None\n",
    "random_features = False\n",
    "######### DON'T SET THIS TO TRUE UNLESS YOUR DATASET IS SMALL!! WILL FLOOD YOUR MEMORY!!!\n",
    "store_in_lists = False   \n",
    "########## BELOW ARE THE PARAMETERS THAT CONTROL WHAT WILL BE SAVED\n",
    "save_eigenvector=True\n",
    "save_hamiltonian=True \n",
    "save_accuracy=True \n",
    "save_models=True"
   ]
  },
  {
   "cell_type": "code",
   "execution_count": 3,
   "metadata": {
    "execution": {
     "iopub.execute_input": "2020-07-18T15:45:26.628154Z",
     "iopub.status.busy": "2020-07-18T15:45:26.627804Z",
     "iopub.status.idle": "2020-07-18T15:45:26.733656Z",
     "shell.execute_reply": "2020-07-18T15:45:26.731852Z"
    },
    "papermill": {
     "duration": 0.125424,
     "end_time": "2020-07-18T15:45:26.733903",
     "exception": false,
     "start_time": "2020-07-18T15:45:26.608479",
     "status": "completed"
    },
    "tags": [
     "injected-parameters"
    ]
   },
   "outputs": [],
   "source": [
    "# Parameters\n",
    "model_kw = {\"criterion\": \"entropy\", \"n_estimators\": 25, \"n_jobs\": -1}\n",
    "allowed_windings = [-1, 0, 1, 2]\n",
    "val_split = 0.5\n",
    "features_to_use = None\n",
    "shuffle_features = False\n",
    "n_experiments = 100\n",
    "start_n = 0\n",
    "fit_params = None\n",
    "shuffle_rows = True\n",
    "pred_params = None\n",
    "random_features = False\n",
    "store_in_lists = False\n",
    "save_eigenvector = True\n",
    "save_hamiltonian = True\n",
    "save_accuracy = True\n",
    "save_models = True\n",
    "csv_path = \"/home/rio/ssh_csvs/ssh2/periodic_100_6561.csv\"\n",
    "model_name = \"RandomForestClassifier\"\n",
    "simulation_dir = (\n",
    "    \"/home/rio/ssh_simulations/ssh2/periodic_100_6561/dct_best_12_wavevector_sites\"\n",
    ")\n",
    "random_state = 2016\n",
    "fourier_features_to_use = [0, 1, 2, 3, 4, 5, 6, 7, 47, 48, 49, 50]\n",
    "fourier_mode = \"dct\"\n",
    "fourier_real = None\n",
    "fourier_normalize = False\n",
    "fourier_fillna = False\n"
   ]
  },
  {
   "cell_type": "code",
   "execution_count": 4,
   "metadata": {
    "execution": {
     "iopub.execute_input": "2020-07-18T15:45:26.805775Z",
     "iopub.status.busy": "2020-07-18T15:45:26.805260Z",
     "iopub.status.idle": "2020-07-18T15:45:32.336423Z",
     "shell.execute_reply": "2020-07-18T15:45:32.336093Z"
    },
    "papermill": {
     "duration": 5.553843,
     "end_time": "2020-07-18T15:45:32.336475",
     "exception": false,
     "start_time": "2020-07-18T15:45:26.782632",
     "status": "completed"
    },
    "tags": []
   },
   "outputs": [
    {
     "name": "stdout",
     "output_type": "stream",
     "text": [
      "Info on all data: \n",
      "\n",
      "<class 'pandas.core.frame.DataFrame'>\n",
      "Int64Index: 656100 entries, 0 to 656099\n",
      "Columns: 108 entries, id to feat99\n",
      "dtypes: float64(103), int32(3), object(2)\n",
      "memory usage: 538.1+ MB\n",
      "CPU times: user 5.61 s, sys: 582 ms, total: 6.19 s\n",
      "Wall time: 5.5 s\n"
     ]
    },
    {
     "data": {
      "text/html": [
       "<div>\n",
       "<style scoped>\n",
       "    .dataframe tbody tr th:only-of-type {\n",
       "        vertical-align: middle;\n",
       "    }\n",
       "\n",
       "    .dataframe tbody tr th {\n",
       "        vertical-align: top;\n",
       "    }\n",
       "\n",
       "    .dataframe thead th {\n",
       "        text-align: right;\n",
       "    }\n",
       "</style>\n",
       "<table border=\"1\" class=\"dataframe\">\n",
       "  <thead>\n",
       "    <tr style=\"text-align: right;\">\n",
       "      <th></th>\n",
       "      <th>id</th>\n",
       "      <th>path</th>\n",
       "      <th>t1</th>\n",
       "      <th>t2</th>\n",
       "      <th>winding</th>\n",
       "      <th>phase</th>\n",
       "      <th>pred_phase</th>\n",
       "      <th>type_of</th>\n",
       "      <th>feat0</th>\n",
       "      <th>feat1</th>\n",
       "      <th>...</th>\n",
       "      <th>feat90</th>\n",
       "      <th>feat91</th>\n",
       "      <th>feat92</th>\n",
       "      <th>feat93</th>\n",
       "      <th>feat94</th>\n",
       "      <th>feat95</th>\n",
       "      <th>feat96</th>\n",
       "      <th>feat97</th>\n",
       "      <th>feat98</th>\n",
       "      <th>feat99</th>\n",
       "    </tr>\n",
       "  </thead>\n",
       "  <tbody>\n",
       "    <tr>\n",
       "      <th>0</th>\n",
       "      <td>0</td>\n",
       "      <td>H_-2_-2_0.501338.dat</td>\n",
       "      <td>-2.0</td>\n",
       "      <td>-2.0</td>\n",
       "      <td>0.501338</td>\n",
       "      <td>999</td>\n",
       "      <td>666</td>\n",
       "      <td>test</td>\n",
       "      <td>-0.130965</td>\n",
       "      <td>0.301130</td>\n",
       "      <td>...</td>\n",
       "      <td>-0.080279</td>\n",
       "      <td>-0.115687</td>\n",
       "      <td>-0.174988</td>\n",
       "      <td>0.245064</td>\n",
       "      <td>0.319763</td>\n",
       "      <td>-0.059082</td>\n",
       "      <td>-0.000556</td>\n",
       "      <td>-0.245133</td>\n",
       "      <td>-0.301130</td>\n",
       "      <td>0.130965</td>\n",
       "    </tr>\n",
       "    <tr>\n",
       "      <th>1</th>\n",
       "      <td>0</td>\n",
       "      <td>H_-2_-2_0.501338.dat</td>\n",
       "      <td>-2.0</td>\n",
       "      <td>-2.0</td>\n",
       "      <td>0.501338</td>\n",
       "      <td>999</td>\n",
       "      <td>666</td>\n",
       "      <td>test</td>\n",
       "      <td>-0.130965</td>\n",
       "      <td>-0.301130</td>\n",
       "      <td>...</td>\n",
       "      <td>-0.080279</td>\n",
       "      <td>0.115687</td>\n",
       "      <td>-0.174988</td>\n",
       "      <td>-0.245064</td>\n",
       "      <td>0.319763</td>\n",
       "      <td>0.059082</td>\n",
       "      <td>-0.000556</td>\n",
       "      <td>0.245133</td>\n",
       "      <td>-0.301130</td>\n",
       "      <td>-0.130965</td>\n",
       "    </tr>\n",
       "    <tr>\n",
       "      <th>2</th>\n",
       "      <td>0</td>\n",
       "      <td>H_-2_-2_0.501338.dat</td>\n",
       "      <td>-2.0</td>\n",
       "      <td>-2.0</td>\n",
       "      <td>0.501338</td>\n",
       "      <td>999</td>\n",
       "      <td>666</td>\n",
       "      <td>test</td>\n",
       "      <td>-0.148414</td>\n",
       "      <td>-0.042467</td>\n",
       "      <td>...</td>\n",
       "      <td>0.185442</td>\n",
       "      <td>-0.080620</td>\n",
       "      <td>-0.066211</td>\n",
       "      <td>-0.121339</td>\n",
       "      <td>-0.151700</td>\n",
       "      <td>0.192513</td>\n",
       "      <td>0.191642</td>\n",
       "      <td>-0.050956</td>\n",
       "      <td>-0.042467</td>\n",
       "      <td>-0.148414</td>\n",
       "    </tr>\n",
       "    <tr>\n",
       "      <th>3</th>\n",
       "      <td>0</td>\n",
       "      <td>H_-2_-2_0.501338.dat</td>\n",
       "      <td>-2.0</td>\n",
       "      <td>-2.0</td>\n",
       "      <td>0.501338</td>\n",
       "      <td>999</td>\n",
       "      <td>666</td>\n",
       "      <td>test</td>\n",
       "      <td>-0.069630</td>\n",
       "      <td>-0.026147</td>\n",
       "      <td>...</td>\n",
       "      <td>0.102009</td>\n",
       "      <td>-0.100671</td>\n",
       "      <td>-0.081002</td>\n",
       "      <td>-0.020715</td>\n",
       "      <td>-0.058717</td>\n",
       "      <td>0.115834</td>\n",
       "      <td>0.118274</td>\n",
       "      <td>-0.054666</td>\n",
       "      <td>-0.026147</td>\n",
       "      <td>-0.069630</td>\n",
       "    </tr>\n",
       "    <tr>\n",
       "      <th>4</th>\n",
       "      <td>0</td>\n",
       "      <td>H_-2_-2_0.501338.dat</td>\n",
       "      <td>-2.0</td>\n",
       "      <td>-2.0</td>\n",
       "      <td>0.501338</td>\n",
       "      <td>999</td>\n",
       "      <td>666</td>\n",
       "      <td>test</td>\n",
       "      <td>0.010206</td>\n",
       "      <td>-0.014625</td>\n",
       "      <td>...</td>\n",
       "      <td>0.047555</td>\n",
       "      <td>-0.041368</td>\n",
       "      <td>-0.018852</td>\n",
       "      <td>-0.017673</td>\n",
       "      <td>-0.023377</td>\n",
       "      <td>0.031447</td>\n",
       "      <td>0.010280</td>\n",
       "      <td>0.000925</td>\n",
       "      <td>0.014625</td>\n",
       "      <td>-0.010206</td>\n",
       "    </tr>\n",
       "  </tbody>\n",
       "</table>\n",
       "<p>5 rows × 108 columns</p>\n",
       "</div>"
      ],
      "text/plain": [
       "   id                  path   t1   t2   winding  phase  pred_phase type_of  \\\n",
       "0   0  H_-2_-2_0.501338.dat -2.0 -2.0  0.501338    999         666    test   \n",
       "1   0  H_-2_-2_0.501338.dat -2.0 -2.0  0.501338    999         666    test   \n",
       "2   0  H_-2_-2_0.501338.dat -2.0 -2.0  0.501338    999         666    test   \n",
       "3   0  H_-2_-2_0.501338.dat -2.0 -2.0  0.501338    999         666    test   \n",
       "4   0  H_-2_-2_0.501338.dat -2.0 -2.0  0.501338    999         666    test   \n",
       "\n",
       "      feat0     feat1  ...    feat90    feat91    feat92    feat93    feat94  \\\n",
       "0 -0.130965  0.301130  ... -0.080279 -0.115687 -0.174988  0.245064  0.319763   \n",
       "1 -0.130965 -0.301130  ... -0.080279  0.115687 -0.174988 -0.245064  0.319763   \n",
       "2 -0.148414 -0.042467  ...  0.185442 -0.080620 -0.066211 -0.121339 -0.151700   \n",
       "3 -0.069630 -0.026147  ...  0.102009 -0.100671 -0.081002 -0.020715 -0.058717   \n",
       "4  0.010206 -0.014625  ...  0.047555 -0.041368 -0.018852 -0.017673 -0.023377   \n",
       "\n",
       "     feat95    feat96    feat97    feat98    feat99  \n",
       "0 -0.059082 -0.000556 -0.245133 -0.301130  0.130965  \n",
       "1  0.059082 -0.000556  0.245133 -0.301130 -0.130965  \n",
       "2  0.192513  0.191642 -0.050956 -0.042467 -0.148414  \n",
       "3  0.115834  0.118274 -0.054666 -0.026147 -0.069630  \n",
       "4  0.031447  0.010280  0.000925  0.014625 -0.010206  \n",
       "\n",
       "[5 rows x 108 columns]"
      ]
     },
     "execution_count": 4,
     "metadata": {},
     "output_type": "execute_result"
    }
   ],
   "source": [
    "%%time\n",
    "#Starting an instance of Simulation with a decision tree\n",
    "model = DecisionTreeClassifier(criterion=\"entropy\")\n",
    "#dict_args = {\"csv_path\":csv_path, \"model\":model, \"allowed_windings\":allowed_windings,\\\n",
    "#             \"simulation_dir\":simulation_dir, \"val_split\":val_split, \"features_to_use\":features_to_use,\\\n",
    "#            \"shuffle_features\":shuffle_features, \"random_state\":random_state}\n",
    "simulation = Simulation(csv_path,model_name,model_kw,allowed_windings,simulation_dir,val_split,features_to_use,\\\n",
    "                       shuffle_features,fourier_mode,fourier_features_to_use,fourier_real,\\\n",
    "                       fourier_normalize, fourier_fillna , random_state)\n",
    "#simulation = Simulation(**dict_args)\n",
    "\n",
    "\n",
    "#(self, csv_path, model_name, model_kw, allowed_windings, simulation_dir = None, val_split = 0, \n",
    "# features_to_use = None, shuffle_features = False, fourier_mode=None, fourier_features_to_use=None,\n",
    "# fourier_real = False, fourier_normalize = False, Fourier_fillna=False, random_state = None):\n",
    "\n",
    "\n",
    "\n",
    "print(\"Info on all data: \\n\")\n",
    "simulation.dataframe.info()\n",
    "simulation.dataframe.head()"
   ]
  },
  {
   "cell_type": "markdown",
   "metadata": {
    "papermill": {
     "duration": 0.018526,
     "end_time": "2020-07-18T15:45:32.373051",
     "exception": false,
     "start_time": "2020-07-18T15:45:32.354525",
     "status": "completed"
    },
    "tags": []
   },
   "source": [
    "####  Fourier features"
   ]
  },
  {
   "cell_type": "code",
   "execution_count": 5,
   "metadata": {
    "execution": {
     "iopub.execute_input": "2020-07-18T15:45:32.410708Z",
     "iopub.status.busy": "2020-07-18T15:45:32.410214Z",
     "iopub.status.idle": "2020-07-18T15:45:32.513692Z",
     "shell.execute_reply": "2020-07-18T15:45:32.513371Z"
    },
    "papermill": {
     "duration": 0.123001,
     "end_time": "2020-07-18T15:45:32.513743",
     "exception": false,
     "start_time": "2020-07-18T15:45:32.390742",
     "status": "completed"
    },
    "tags": []
   },
   "outputs": [
    {
     "name": "stdout",
     "output_type": "stream",
     "text": [
      "<class 'pandas.core.frame.DataFrame'>\n",
      "Int64Index: 656100 entries, 0 to 656099\n",
      "Data columns (total 20 columns):\n",
      " #   Column      Non-Null Count   Dtype  \n",
      "---  ------      --------------   -----  \n",
      " 0   id          656100 non-null  int32  \n",
      " 1   path        656100 non-null  object \n",
      " 2   t1          656100 non-null  float64\n",
      " 3   t2          656100 non-null  float64\n",
      " 4   winding     656100 non-null  float64\n",
      " 5   phase       656100 non-null  int32  \n",
      " 6   pred_phase  656100 non-null  int32  \n",
      " 7   type_of     656100 non-null  object \n",
      " 8   dct_feat0   656100 non-null  float64\n",
      " 9   dct_feat1   656100 non-null  float64\n",
      " 10  dct_feat2   656100 non-null  float64\n",
      " 11  dct_feat3   656100 non-null  float64\n",
      " 12  dct_feat4   656100 non-null  float64\n",
      " 13  dct_feat5   656100 non-null  float64\n",
      " 14  dct_feat6   656100 non-null  float64\n",
      " 15  dct_feat7   656100 non-null  float64\n",
      " 16  dct_feat47  656100 non-null  float64\n",
      " 17  dct_feat48  656100 non-null  float64\n",
      " 18  dct_feat49  656100 non-null  float64\n",
      " 19  dct_feat50  656100 non-null  float64\n",
      "dtypes: float64(15), int32(3), object(2)\n",
      "memory usage: 97.6+ MB\n",
      "CPU times: user 85.3 ms, sys: 8.18 ms, total: 93.5 ms\n",
      "Wall time: 92.7 ms\n"
     ]
    }
   ],
   "source": [
    "%%time\n",
    "#simulation.generate_fourier_df()\n",
    "if simulation.fourier_mode is not None:\n",
    "    simulation.fourier_dataframe.info() \n",
    "    simulation.fourier_dataframe.sample(15)\n"
   ]
  },
  {
   "cell_type": "code",
   "execution_count": 6,
   "metadata": {
    "execution": {
     "iopub.execute_input": "2020-07-18T15:45:32.552737Z",
     "iopub.status.busy": "2020-07-18T15:45:32.552223Z",
     "iopub.status.idle": "2020-07-18T15:45:32.567440Z",
     "shell.execute_reply": "2020-07-18T15:45:32.567120Z"
    },
    "papermill": {
     "duration": 0.035817,
     "end_time": "2020-07-18T15:45:32.567491",
     "exception": false,
     "start_time": "2020-07-18T15:45:32.531674",
     "status": "completed"
    },
    "tags": []
   },
   "outputs": [
    {
     "name": "stdout",
     "output_type": "stream",
     "text": [
      "features_to_use: \n",
      "\n",
      "\n",
      "None\n",
      "\n",
      "\n",
      "fourier_features: \n",
      "\n",
      "\n",
      "['dct_feat0', 'dct_feat1', 'dct_feat2', 'dct_feat3', 'dct_feat4', 'dct_feat5', 'dct_feat6', 'dct_feat7', 'dct_feat47', 'dct_feat48', 'dct_feat49', 'dct_feat50']\n",
      "\n",
      "\n",
      "Number of Fourier features: \n",
      "\n",
      "\n",
      "12\n",
      "\n",
      "\n",
      "Fourier operator: \n",
      "[[ 1.00000000e+00  2.00000000e+00  2.00000000e+00  2.00000000e+00\n",
      "   2.00000000e+00  2.00000000e+00  2.00000000e+00  2.00000000e+00\n",
      "   2.00000000e+00  2.00000000e+00  2.00000000e+00  1.00000000e+00]\n",
      " [ 1.00000000e+00  1.99605346e+00  1.98422940e+00  1.96457450e+00\n",
      "   1.93716632e+00  1.90211303e+00  1.85955297e+00  1.80965410e+00\n",
      "  -1.96457450e+00 -1.98422940e+00 -1.99605346e+00 -1.00000000e+00]\n",
      " [ 1.00000000e+00  1.98422940e+00  1.93716632e+00  1.85955297e+00\n",
      "   1.75261336e+00  1.61803399e+00  1.45793725e+00  1.27484798e+00\n",
      "   1.85955297e+00  1.93716632e+00  1.98422940e+00  1.00000000e+00]\n",
      " [ 1.00000000e+00  1.96457450e+00  1.85955297e+00  1.68865585e+00\n",
      "   1.45793725e+00  1.17557050e+00  8.51558583e-01  4.97379774e-01\n",
      "  -1.68865585e+00 -1.85955297e+00 -1.96457450e+00 -1.00000000e+00]\n",
      " [ 1.00000000e+00  1.93716632e+00  1.75261336e+00  1.45793725e+00\n",
      "   1.07165359e+00  6.18033989e-01  1.25581039e-01 -3.74762629e-01\n",
      "   1.45793725e+00  1.75261336e+00  1.93716632e+00  1.00000000e+00]\n",
      " [ 1.00000000e+00  1.90211303e+00  1.61803399e+00  1.17557050e+00\n",
      "   6.18033989e-01 -3.21624530e-16 -6.18033989e-01 -1.17557050e+00\n",
      "  -1.17557050e+00 -1.61803399e+00 -1.90211303e+00 -1.00000000e+00]\n",
      " [ 1.00000000e+00  1.85955297e+00  1.45793725e+00  8.51558583e-01\n",
      "   1.25581039e-01 -6.18033989e-01 -1.27484798e+00 -1.75261336e+00\n",
      "   8.51558583e-01  1.45793725e+00  1.85955297e+00  1.00000000e+00]\n",
      " [ 1.00000000e+00  1.80965410e+00  1.27484798e+00  4.97379774e-01\n",
      "  -3.74762629e-01 -1.17557050e+00 -1.75261336e+00 -1.99605346e+00\n",
      "  -4.97379774e-01 -1.27484798e+00 -1.80965410e+00 -1.00000000e+00]\n",
      " [ 1.00000000e+00  1.75261336e+00  1.07165359e+00  1.25581039e-01\n",
      "  -8.51558583e-01 -1.61803399e+00 -1.98422940e+00 -1.85955297e+00\n",
      "   1.25581039e-01  1.07165359e+00  1.75261336e+00  1.00000000e+00]\n",
      " [ 1.00000000e+00  1.68865585e+00  8.51558583e-01 -2.50666467e-01\n",
      "  -1.27484798e+00 -1.90211303e+00 -1.93716632e+00 -1.36909421e+00\n",
      "   2.50666467e-01 -8.51558583e-01 -1.68865585e+00 -1.00000000e+00]\n",
      " [ 1.00000000e+00  1.61803399e+00  6.18033989e-01 -6.18033989e-01\n",
      "  -1.61803399e+00 -2.00000000e+00 -1.61803399e+00 -6.18033989e-01\n",
      "  -6.18033989e-01  6.18033989e-01  1.61803399e+00  1.00000000e+00]\n",
      " [ 1.00000000e+00  1.54102649e+00  3.74762629e-01 -9.63507348e-01\n",
      "  -1.85955297e+00 -1.90211303e+00 -1.07165359e+00  2.50666467e-01\n",
      "   9.63507348e-01 -3.74762629e-01 -1.54102649e+00 -1.00000000e+00]\n",
      " [ 1.00000000e+00  1.45793725e+00  1.25581039e-01 -1.27484798e+00\n",
      "  -1.98422940e+00 -1.61803399e+00 -3.74762629e-01  1.07165359e+00\n",
      "  -1.27484798e+00  1.25581039e-01  1.45793725e+00  1.00000000e+00]\n",
      " [ 1.00000000e+00  1.36909421e+00 -1.25581039e-01 -1.54102649e+00\n",
      "  -1.98422940e+00 -1.17557050e+00  3.74762629e-01  1.68865585e+00\n",
      "   1.54102649e+00  1.25581039e-01 -1.36909421e+00 -1.00000000e+00]\n",
      " [ 1.00000000e+00  1.27484798e+00 -3.74762629e-01 -1.75261336e+00\n",
      "  -1.85955297e+00 -6.18033989e-01  1.07165359e+00  1.98422940e+00\n",
      "  -1.75261336e+00 -3.74762629e-01  1.27484798e+00  1.00000000e+00]\n",
      " [ 1.00000000e+00  1.17557050e+00 -6.18033989e-01 -1.90211303e+00\n",
      "  -1.61803399e+00 -3.67394040e-16  1.61803399e+00  1.90211303e+00\n",
      "   1.90211303e+00  6.18033989e-01 -1.17557050e+00 -1.00000000e+00]\n",
      " [ 1.00000000e+00  1.07165359e+00 -8.51558583e-01 -1.98422940e+00\n",
      "  -1.27484798e+00  6.18033989e-01  1.93716632e+00  1.45793725e+00\n",
      "  -1.98422940e+00 -8.51558583e-01  1.07165359e+00  1.00000000e+00]\n",
      " [ 1.00000000e+00  9.63507348e-01 -1.07165359e+00 -1.99605346e+00\n",
      "  -8.51558583e-01  1.17557050e+00  1.98422940e+00  7.36249105e-01\n",
      "   1.99605346e+00  1.07165359e+00 -9.63507348e-01 -1.00000000e+00]\n",
      " [ 1.00000000e+00  8.51558583e-01 -1.27484798e+00 -1.93716632e+00\n",
      "  -3.74762629e-01  1.61803399e+00  1.75261336e+00 -1.25581039e-01\n",
      "  -1.93716632e+00 -1.27484798e+00  8.51558583e-01  1.00000000e+00]\n",
      " [ 1.00000000e+00  7.36249105e-01 -1.45793725e+00 -1.80965410e+00\n",
      "   1.25581039e-01  1.90211303e+00  1.27484798e+00 -9.63507348e-01\n",
      "   1.80965410e+00  1.45793725e+00 -7.36249105e-01 -1.00000000e+00]\n",
      " [ 1.00000000e+00  6.18033989e-01 -1.61803399e+00 -1.61803399e+00\n",
      "   6.18033989e-01  2.00000000e+00  6.18033989e-01 -1.61803399e+00\n",
      "  -1.61803399e+00 -1.61803399e+00  6.18033989e-01  1.00000000e+00]\n",
      " [ 1.00000000e+00  4.97379774e-01 -1.75261336e+00 -1.36909421e+00\n",
      "   1.07165359e+00  1.90211303e+00 -1.25581039e-01 -1.96457450e+00\n",
      "   1.36909421e+00  1.75261336e+00 -4.97379774e-01 -1.00000000e+00]\n",
      " [ 1.00000000e+00  3.74762629e-01 -1.85955297e+00 -1.07165359e+00\n",
      "   1.45793725e+00  1.61803399e+00 -8.51558583e-01 -1.93716632e+00\n",
      "  -1.07165359e+00 -1.85955297e+00  3.74762629e-01  1.00000000e+00]\n",
      " [ 1.00000000e+00  2.50666467e-01 -1.93716632e+00 -7.36249105e-01\n",
      "   1.75261336e+00  1.17557050e+00 -1.45793725e+00 -1.54102649e+00\n",
      "   7.36249105e-01  1.93716632e+00 -2.50666467e-01 -1.00000000e+00]\n",
      " [ 1.00000000e+00  1.25581039e-01 -1.98422940e+00 -3.74762629e-01\n",
      "   1.93716632e+00  6.18033989e-01 -1.85955297e+00 -8.51558583e-01\n",
      "  -3.74762629e-01 -1.98422940e+00  1.25581039e-01  1.00000000e+00]\n",
      " [ 1.00000000e+00 -3.21624530e-16 -2.00000000e+00 -3.67394040e-16\n",
      "   2.00000000e+00 -1.16403344e-15 -2.00000000e+00  2.69546092e-15\n",
      "   4.90230108e-15  2.00000000e+00 -1.17627991e-14 -1.00000000e+00]\n",
      " [ 1.00000000e+00 -1.25581039e-01 -1.98422940e+00  3.74762629e-01\n",
      "   1.93716632e+00 -6.18033989e-01 -1.85955297e+00  8.51558583e-01\n",
      "   3.74762629e-01 -1.98422940e+00 -1.25581039e-01  1.00000000e+00]\n",
      " [ 1.00000000e+00 -2.50666467e-01 -1.93716632e+00  7.36249105e-01\n",
      "   1.75261336e+00 -1.17557050e+00 -1.45793725e+00  1.54102649e+00\n",
      "  -7.36249105e-01  1.93716632e+00  2.50666467e-01 -1.00000000e+00]\n",
      " [ 1.00000000e+00 -3.74762629e-01 -1.85955297e+00  1.07165359e+00\n",
      "   1.45793725e+00 -1.61803399e+00 -8.51558583e-01  1.93716632e+00\n",
      "   1.07165359e+00 -1.85955297e+00 -3.74762629e-01  1.00000000e+00]\n",
      " [ 1.00000000e+00 -4.97379774e-01 -1.75261336e+00  1.36909421e+00\n",
      "   1.07165359e+00 -1.90211303e+00 -1.25581039e-01  1.96457450e+00\n",
      "  -1.36909421e+00  1.75261336e+00  4.97379774e-01 -1.00000000e+00]\n",
      " [ 1.00000000e+00 -6.18033989e-01 -1.61803399e+00  1.61803399e+00\n",
      "   6.18033989e-01 -2.00000000e+00  6.18033989e-01  1.61803399e+00\n",
      "   1.61803399e+00 -1.61803399e+00 -6.18033989e-01  1.00000000e+00]\n",
      " [ 1.00000000e+00 -7.36249105e-01 -1.45793725e+00  1.80965410e+00\n",
      "   1.25581039e-01 -1.90211303e+00  1.27484798e+00  9.63507348e-01\n",
      "  -1.80965410e+00  1.45793725e+00  7.36249105e-01 -1.00000000e+00]\n",
      " [ 1.00000000e+00 -8.51558583e-01 -1.27484798e+00  1.93716632e+00\n",
      "  -3.74762629e-01 -1.61803399e+00  1.75261336e+00  1.25581039e-01\n",
      "   1.93716632e+00 -1.27484798e+00 -8.51558583e-01  1.00000000e+00]\n",
      " [ 1.00000000e+00 -9.63507348e-01 -1.07165359e+00  1.99605346e+00\n",
      "  -8.51558583e-01 -1.17557050e+00  1.98422940e+00 -7.36249105e-01\n",
      "  -1.99605346e+00  1.07165359e+00  9.63507348e-01 -1.00000000e+00]\n",
      " [ 1.00000000e+00 -1.07165359e+00 -8.51558583e-01  1.98422940e+00\n",
      "  -1.27484798e+00 -6.18033989e-01  1.93716632e+00 -1.45793725e+00\n",
      "   1.98422940e+00 -8.51558583e-01 -1.07165359e+00  1.00000000e+00]\n",
      " [ 1.00000000e+00 -1.17557050e+00 -6.18033989e-01  1.90211303e+00\n",
      "  -1.61803399e+00  2.69546092e-15  1.61803399e+00 -1.90211303e+00\n",
      "  -1.90211303e+00  6.18033989e-01  1.17557050e+00 -1.00000000e+00]\n",
      " [ 1.00000000e+00 -1.27484798e+00 -3.74762629e-01  1.75261336e+00\n",
      "  -1.85955297e+00  6.18033989e-01  1.07165359e+00 -1.98422940e+00\n",
      "   1.75261336e+00 -3.74762629e-01 -1.27484798e+00  1.00000000e+00]\n",
      " [ 1.00000000e+00 -1.36909421e+00 -1.25581039e-01  1.54102649e+00\n",
      "  -1.98422940e+00  1.17557050e+00  3.74762629e-01 -1.68865585e+00\n",
      "  -1.54102649e+00  1.25581039e-01  1.36909421e+00 -1.00000000e+00]\n",
      " [ 1.00000000e+00 -1.45793725e+00  1.25581039e-01  1.27484798e+00\n",
      "  -1.98422940e+00  1.61803399e+00 -3.74762629e-01 -1.07165359e+00\n",
      "   1.27484798e+00  1.25581039e-01 -1.45793725e+00  1.00000000e+00]\n",
      " [ 1.00000000e+00 -1.54102649e+00  3.74762629e-01  9.63507348e-01\n",
      "  -1.85955297e+00  1.90211303e+00 -1.07165359e+00 -2.50666467e-01\n",
      "  -9.63507348e-01 -3.74762629e-01  1.54102649e+00 -1.00000000e+00]\n",
      " [ 1.00000000e+00 -1.61803399e+00  6.18033989e-01  6.18033989e-01\n",
      "  -1.61803399e+00  2.00000000e+00 -1.61803399e+00  6.18033989e-01\n",
      "   6.18033989e-01  6.18033989e-01 -1.61803399e+00  1.00000000e+00]\n",
      " [ 1.00000000e+00 -1.68865585e+00  8.51558583e-01  2.50666467e-01\n",
      "  -1.27484798e+00  1.90211303e+00 -1.93716632e+00  1.36909421e+00\n",
      "  -2.50666467e-01 -8.51558583e-01  1.68865585e+00 -1.00000000e+00]\n",
      " [ 1.00000000e+00 -1.75261336e+00  1.07165359e+00 -1.25581039e-01\n",
      "  -8.51558583e-01  1.61803399e+00 -1.98422940e+00  1.85955297e+00\n",
      "  -1.25581039e-01  1.07165359e+00 -1.75261336e+00  1.00000000e+00]\n",
      " [ 1.00000000e+00 -1.80965410e+00  1.27484798e+00 -4.97379774e-01\n",
      "  -3.74762629e-01  1.17557050e+00 -1.75261336e+00  1.99605346e+00\n",
      "   4.97379774e-01 -1.27484798e+00  1.80965410e+00 -1.00000000e+00]\n",
      " [ 1.00000000e+00 -1.85955297e+00  1.45793725e+00 -8.51558583e-01\n",
      "   1.25581039e-01  6.18033989e-01 -1.27484798e+00  1.75261336e+00\n",
      "  -8.51558583e-01  1.45793725e+00 -1.85955297e+00  1.00000000e+00]\n",
      " [ 1.00000000e+00 -1.90211303e+00  1.61803399e+00 -1.17557050e+00\n",
      "   6.18033989e-01 -2.45053156e-15 -6.18033989e-01  1.17557050e+00\n",
      "   1.17557050e+00 -1.61803399e+00  1.90211303e+00 -1.00000000e+00]\n",
      " [ 1.00000000e+00 -1.93716632e+00  1.75261336e+00 -1.45793725e+00\n",
      "   1.07165359e+00 -6.18033989e-01  1.25581039e-01  3.74762629e-01\n",
      "  -1.45793725e+00  1.75261336e+00 -1.93716632e+00  1.00000000e+00]\n",
      " [ 1.00000000e+00 -1.96457450e+00  1.85955297e+00 -1.68865585e+00\n",
      "   1.45793725e+00 -1.17557050e+00  8.51558583e-01 -4.97379774e-01\n",
      "   1.68865585e+00 -1.85955297e+00  1.96457450e+00 -1.00000000e+00]\n",
      " [ 1.00000000e+00 -1.98422940e+00  1.93716632e+00 -1.85955297e+00\n",
      "   1.75261336e+00 -1.61803399e+00  1.45793725e+00 -1.27484798e+00\n",
      "  -1.85955297e+00  1.93716632e+00 -1.98422940e+00  1.00000000e+00]\n",
      " [ 1.00000000e+00 -1.99605346e+00  1.98422940e+00 -1.96457450e+00\n",
      "   1.93716632e+00 -1.90211303e+00  1.85955297e+00 -1.80965410e+00\n",
      "   1.96457450e+00 -1.98422940e+00  1.99605346e+00 -1.00000000e+00]\n",
      " [ 1.00000000e+00 -2.00000000e+00  2.00000000e+00 -2.00000000e+00\n",
      "   2.00000000e+00 -2.00000000e+00  2.00000000e+00 -2.00000000e+00\n",
      "  -2.00000000e+00  2.00000000e+00 -2.00000000e+00  1.00000000e+00]]\n",
      "\n",
      "\n",
      "Shape of Fourier operator: \n",
      "(51, 12)\n"
     ]
    }
   ],
   "source": [
    "print(\"features_to_use: \")\n",
    "print(\"\\n\")\n",
    "print(simulation.features_to_use)\n",
    "if simulation.features_to_use is not None:\n",
    "    print(\"Number of real space features:\")\n",
    "    print(\"\\n\")\n",
    "    print(len(simulation.features_to_use))\n",
    "print(\"\\n\")\n",
    "print(\"fourier_features: \")\n",
    "print(\"\\n\")\n",
    "print(simulation.fourier_features)\n",
    "print(\"\\n\")\n",
    "if simulation.fourier_features is not None:\n",
    "    print(\"Number of Fourier features: \")\n",
    "    print(\"\\n\")\n",
    "    print(len(simulation.fourier_features))\n",
    "print(\"\\n\")\n",
    "print(\"Fourier operator: \")\n",
    "print(simulation.fourier_operator)\n",
    "print(\"\\n\")\n",
    "if simulation.fourier_operator is not None:\n",
    "    print(\"Shape of Fourier operator: \")\n",
    "    print(simulation.fourier_operator.shape)"
   ]
  },
  {
   "cell_type": "code",
   "execution_count": 7,
   "metadata": {
    "execution": {
     "iopub.execute_input": "2020-07-18T15:45:32.605255Z",
     "iopub.status.busy": "2020-07-18T15:45:32.604763Z",
     "iopub.status.idle": "2020-07-18T15:45:32.652363Z",
     "shell.execute_reply": "2020-07-18T15:45:32.651997Z"
    },
    "papermill": {
     "duration": 0.067367,
     "end_time": "2020-07-18T15:45:32.652426",
     "exception": false,
     "start_time": "2020-07-18T15:45:32.585059",
     "status": "completed"
    },
    "tags": []
   },
   "outputs": [],
   "source": [
    "#a = np.array([1+1j,2+3j,4+8j])\n",
    "#np.imag(a)"
   ]
  },
  {
   "cell_type": "code",
   "execution_count": 8,
   "metadata": {
    "execution": {
     "iopub.execute_input": "2020-07-18T15:45:32.692308Z",
     "iopub.status.busy": "2020-07-18T15:45:32.691775Z",
     "iopub.status.idle": "2020-07-18T15:45:32.798958Z",
     "shell.execute_reply": "2020-07-18T15:45:32.797213Z"
    },
    "papermill": {
     "duration": 0.127109,
     "end_time": "2020-07-18T15:45:32.799206",
     "exception": false,
     "start_time": "2020-07-18T15:45:32.672097",
     "status": "completed"
    },
    "tags": []
   },
   "outputs": [],
   "source": [
    "#plt.plot(np.imag(simulation.fourier_operator[:,0]))"
   ]
  },
  {
   "cell_type": "code",
   "execution_count": 9,
   "metadata": {
    "execution": {
     "iopub.execute_input": "2020-07-18T15:45:32.874145Z",
     "iopub.status.busy": "2020-07-18T15:45:32.873625Z",
     "iopub.status.idle": "2020-07-18T15:45:32.883923Z",
     "shell.execute_reply": "2020-07-18T15:45:32.883577Z"
    },
    "papermill": {
     "duration": 0.032563,
     "end_time": "2020-07-18T15:45:32.883977",
     "exception": false,
     "start_time": "2020-07-18T15:45:32.851414",
     "status": "completed"
    },
    "tags": []
   },
   "outputs": [],
   "source": [
    "#np.sin(np.pi/(50))*2"
   ]
  },
  {
   "cell_type": "code",
   "execution_count": 10,
   "metadata": {
    "execution": {
     "iopub.execute_input": "2020-07-18T15:45:32.921809Z",
     "iopub.status.busy": "2020-07-18T15:45:32.921316Z",
     "iopub.status.idle": "2020-07-18T15:45:32.969492Z",
     "shell.execute_reply": "2020-07-18T15:45:32.969092Z"
    },
    "papermill": {
     "duration": 0.067961,
     "end_time": "2020-07-18T15:45:32.969553",
     "exception": false,
     "start_time": "2020-07-18T15:45:32.901592",
     "status": "completed"
    },
    "tags": []
   },
   "outputs": [],
   "source": [
    "#2*np.sin(np.pi/50*49)"
   ]
  },
  {
   "cell_type": "code",
   "execution_count": 11,
   "metadata": {
    "execution": {
     "iopub.execute_input": "2020-07-18T15:45:33.013431Z",
     "iopub.status.busy": "2020-07-18T15:45:33.012907Z",
     "iopub.status.idle": "2020-07-18T15:45:33.074348Z",
     "shell.execute_reply": "2020-07-18T15:45:33.072431Z"
    },
    "papermill": {
     "duration": 0.083375,
     "end_time": "2020-07-18T15:45:33.074761",
     "exception": false,
     "start_time": "2020-07-18T15:45:32.991386",
     "status": "completed"
    },
    "tags": []
   },
   "outputs": [],
   "source": [
    "#simulation.dataframe.iloc[331456,:]"
   ]
  },
  {
   "cell_type": "code",
   "execution_count": 12,
   "metadata": {
    "execution": {
     "iopub.execute_input": "2020-07-18T15:45:33.145233Z",
     "iopub.status.busy": "2020-07-18T15:45:33.144717Z",
     "iopub.status.idle": "2020-07-18T15:45:33.154362Z",
     "shell.execute_reply": "2020-07-18T15:45:33.154679Z"
    },
    "papermill": {
     "duration": 0.031397,
     "end_time": "2020-07-18T15:45:33.154747",
     "exception": false,
     "start_time": "2020-07-18T15:45:33.123350",
     "status": "completed"
    },
    "tags": []
   },
   "outputs": [],
   "source": [
    "#for ix, obj in enumerate(simulation.dataframe.iloc[331456,:].values):\n",
    "#    print(ix,obj)"
   ]
  },
  {
   "cell_type": "code",
   "execution_count": 13,
   "metadata": {
    "execution": {
     "iopub.execute_input": "2020-07-18T15:45:33.192958Z",
     "iopub.status.busy": "2020-07-18T15:45:33.192439Z",
     "iopub.status.idle": "2020-07-18T15:45:33.249288Z",
     "shell.execute_reply": "2020-07-18T15:45:33.248863Z"
    },
    "papermill": {
     "duration": 0.076877,
     "end_time": "2020-07-18T15:45:33.249350",
     "exception": false,
     "start_time": "2020-07-18T15:45:33.172473",
     "status": "completed"
    },
    "tags": []
   },
   "outputs": [],
   "source": [
    "#simulation.fourier_engineered_dataframe.dct_feat0"
   ]
  },
  {
   "cell_type": "code",
   "execution_count": 14,
   "metadata": {
    "execution": {
     "iopub.execute_input": "2020-07-18T15:45:33.295024Z",
     "iopub.status.busy": "2020-07-18T15:45:33.294471Z",
     "iopub.status.idle": "2020-07-18T15:45:33.360814Z",
     "shell.execute_reply": "2020-07-18T15:45:33.361296Z"
    },
    "papermill": {
     "duration": 0.087488,
     "end_time": "2020-07-18T15:45:33.361392",
     "exception": false,
     "start_time": "2020-07-18T15:45:33.273904",
     "status": "completed"
    },
    "tags": []
   },
   "outputs": [],
   "source": [
    "#simulation.features"
   ]
  },
  {
   "cell_type": "code",
   "execution_count": 15,
   "metadata": {
    "execution": {
     "iopub.execute_input": "2020-07-18T15:45:33.415263Z",
     "iopub.status.busy": "2020-07-18T15:45:33.414957Z",
     "iopub.status.idle": "2020-07-18T15:45:33.424609Z",
     "shell.execute_reply": "2020-07-18T15:45:33.424278Z"
    },
    "papermill": {
     "duration": 0.033853,
     "end_time": "2020-07-18T15:45:33.424660",
     "exception": false,
     "start_time": "2020-07-18T15:45:33.390807",
     "status": "completed"
    },
    "tags": []
   },
   "outputs": [],
   "source": [
    "#simulation.fourier_matrix"
   ]
  },
  {
   "cell_type": "code",
   "execution_count": 16,
   "metadata": {
    "execution": {
     "iopub.execute_input": "2020-07-18T15:45:33.463519Z",
     "iopub.status.busy": "2020-07-18T15:45:33.463191Z",
     "iopub.status.idle": "2020-07-18T15:45:33.526133Z",
     "shell.execute_reply": "2020-07-18T15:45:33.525489Z"
    },
    "papermill": {
     "duration": 0.082955,
     "end_time": "2020-07-18T15:45:33.526228",
     "exception": false,
     "start_time": "2020-07-18T15:45:33.443273",
     "status": "completed"
    },
    "tags": []
   },
   "outputs": [],
   "source": [
    "#1/simulation.n_features*simulation.dataframe.loc[:,simulation.features].sum(axis=1)"
   ]
  },
  {
   "cell_type": "code",
   "execution_count": 17,
   "metadata": {
    "execution": {
     "iopub.execute_input": "2020-07-18T15:45:33.584240Z",
     "iopub.status.busy": "2020-07-18T15:45:33.583736Z",
     "iopub.status.idle": "2020-07-18T15:45:33.593730Z",
     "shell.execute_reply": "2020-07-18T15:45:33.593394Z"
    },
    "papermill": {
     "duration": 0.032205,
     "end_time": "2020-07-18T15:45:33.593782",
     "exception": false,
     "start_time": "2020-07-18T15:45:33.561577",
     "status": "completed"
    },
    "tags": []
   },
   "outputs": [],
   "source": [
    "#df_2 = simulation.fourier_engineered_dataframe[simulation.fourier_engineered_dataframe.phase==2]\n",
    "#df_2.describe()"
   ]
  },
  {
   "cell_type": "code",
   "execution_count": 18,
   "metadata": {
    "execution": {
     "iopub.execute_input": "2020-07-18T15:45:33.632009Z",
     "iopub.status.busy": "2020-07-18T15:45:33.631678Z",
     "iopub.status.idle": "2020-07-18T15:45:33.652676Z",
     "shell.execute_reply": "2020-07-18T15:45:33.652319Z"
    },
    "papermill": {
     "duration": 0.040355,
     "end_time": "2020-07-18T15:45:33.652730",
     "exception": false,
     "start_time": "2020-07-18T15:45:33.612375",
     "status": "completed"
    },
    "tags": []
   },
   "outputs": [],
   "source": [
    "#df_1 = simulation.fourier_engineered_dataframe[simulation.fourier_engineered_dataframe.phase==1]\n",
    "#df_1.describe()"
   ]
  },
  {
   "cell_type": "code",
   "execution_count": 19,
   "metadata": {
    "execution": {
     "iopub.execute_input": "2020-07-18T15:45:33.691278Z",
     "iopub.status.busy": "2020-07-18T15:45:33.690946Z",
     "iopub.status.idle": "2020-07-18T15:45:33.749834Z",
     "shell.execute_reply": "2020-07-18T15:45:33.749331Z"
    },
    "papermill": {
     "duration": 0.078998,
     "end_time": "2020-07-18T15:45:33.749908",
     "exception": false,
     "start_time": "2020-07-18T15:45:33.670910",
     "status": "completed"
    },
    "tags": []
   },
   "outputs": [],
   "source": [
    "#df_0 = simulation.fourier_engineered_dataframe[simulation.fourier_engineered_dataframe.phase==0]\n",
    "#df_0.describe()"
   ]
  },
  {
   "cell_type": "code",
   "execution_count": 20,
   "metadata": {
    "execution": {
     "iopub.execute_input": "2020-07-18T15:45:33.803222Z",
     "iopub.status.busy": "2020-07-18T15:45:33.802904Z",
     "iopub.status.idle": "2020-07-18T15:45:33.812468Z",
     "shell.execute_reply": "2020-07-18T15:45:33.812796Z"
    },
    "papermill": {
     "duration": 0.032504,
     "end_time": "2020-07-18T15:45:33.812864",
     "exception": false,
     "start_time": "2020-07-18T15:45:33.780360",
     "status": "completed"
    },
    "tags": []
   },
   "outputs": [],
   "source": [
    "#plt.figure(figsize=(10,10))\n",
    "#plt.scatter(df_1.fourier_feat0,df_1.fourier_feat2)\n",
    "#plt.scatter(df_0.fourier_feat0,df_0.fourier_feat2,alpha=0.4)"
   ]
  },
  {
   "cell_type": "code",
   "execution_count": 21,
   "metadata": {
    "execution": {
     "iopub.execute_input": "2020-07-18T15:45:33.851524Z",
     "iopub.status.busy": "2020-07-18T15:45:33.851177Z",
     "iopub.status.idle": "2020-07-18T15:45:33.908060Z",
     "shell.execute_reply": "2020-07-18T15:45:33.907630Z"
    },
    "papermill": {
     "duration": 0.077233,
     "end_time": "2020-07-18T15:45:33.908136",
     "exception": false,
     "start_time": "2020-07-18T15:45:33.830903",
     "status": "completed"
    },
    "tags": []
   },
   "outputs": [],
   "source": [
    "#plt.scatter(df_0.fourier_feat0,df_0.fourier_feat2,alpha=0.4)"
   ]
  },
  {
   "cell_type": "code",
   "execution_count": 22,
   "metadata": {
    "execution": {
     "iopub.execute_input": "2020-07-18T15:45:33.950249Z",
     "iopub.status.busy": "2020-07-18T15:45:33.949939Z",
     "iopub.status.idle": "2020-07-18T15:45:34.005624Z",
     "shell.execute_reply": "2020-07-18T15:45:34.007068Z"
    },
    "papermill": {
     "duration": 0.078832,
     "end_time": "2020-07-18T15:45:34.007403",
     "exception": false,
     "start_time": "2020-07-18T15:45:33.928571",
     "status": "completed"
    },
    "tags": []
   },
   "outputs": [],
   "source": [
    "#plt.scatter(df_2.fourier_feat0,df_2.fourier_feat2)"
   ]
  },
  {
   "cell_type": "code",
   "execution_count": 23,
   "metadata": {
    "execution": {
     "iopub.execute_input": "2020-07-18T15:45:34.082999Z",
     "iopub.status.busy": "2020-07-18T15:45:34.082688Z",
     "iopub.status.idle": "2020-07-18T15:45:34.092515Z",
     "shell.execute_reply": "2020-07-18T15:45:34.092231Z"
    },
    "papermill": {
     "duration": 0.031479,
     "end_time": "2020-07-18T15:45:34.092570",
     "exception": false,
     "start_time": "2020-07-18T15:45:34.061091",
     "status": "completed"
    },
    "tags": []
   },
   "outputs": [],
   "source": [
    "#df_1.hist(figsize=(15,15))"
   ]
  },
  {
   "cell_type": "code",
   "execution_count": 24,
   "metadata": {
    "execution": {
     "iopub.execute_input": "2020-07-18T15:45:34.132283Z",
     "iopub.status.busy": "2020-07-18T15:45:34.131972Z",
     "iopub.status.idle": "2020-07-18T15:45:34.182880Z",
     "shell.execute_reply": "2020-07-18T15:45:34.182490Z"
    },
    "papermill": {
     "duration": 0.07141,
     "end_time": "2020-07-18T15:45:34.182951",
     "exception": false,
     "start_time": "2020-07-18T15:45:34.111541",
     "status": "completed"
    },
    "tags": []
   },
   "outputs": [],
   "source": [
    "#df_0.hist(figsize=(15,15))"
   ]
  },
  {
   "cell_type": "markdown",
   "metadata": {
    "papermill": {
     "duration": 0.020998,
     "end_time": "2020-07-18T15:45:34.230782",
     "exception": false,
     "start_time": "2020-07-18T15:45:34.209784",
     "status": "completed"
    },
    "tags": []
   },
   "source": [
    "#### Checking initialization"
   ]
  },
  {
   "cell_type": "code",
   "execution_count": 25,
   "metadata": {
    "execution": {
     "iopub.execute_input": "2020-07-18T15:45:34.270642Z",
     "iopub.status.busy": "2020-07-18T15:45:34.270305Z",
     "iopub.status.idle": "2020-07-18T15:45:34.280447Z",
     "shell.execute_reply": "2020-07-18T15:45:34.280755Z"
    },
    "papermill": {
     "duration": 0.030946,
     "end_time": "2020-07-18T15:45:34.280820",
     "exception": false,
     "start_time": "2020-07-18T15:45:34.249874",
     "status": "completed"
    },
    "tags": []
   },
   "outputs": [
    {
     "name": "stdout",
     "output_type": "stream",
     "text": [
      "n_features:  100\n",
      "n_hamiltonians:  6561\n",
      "n_ts:  2\n",
      "CPU times: user 191 µs, sys: 26 µs, total: 217 µs\n",
      "Wall time: 120 µs\n"
     ]
    }
   ],
   "source": [
    "%%time\n",
    "n_features = simulation.n_features\n",
    "n_hamiltonians = simulation.n_hamiltonians\n",
    "n_ts = simulation.n_ts\n",
    "\n",
    "print(\"n_features: \", n_features)\n",
    "print(\"n_hamiltonians: \", n_hamiltonians)\n",
    "print(\"n_ts: \", n_ts)"
   ]
  },
  {
   "cell_type": "code",
   "execution_count": 26,
   "metadata": {
    "execution": {
     "iopub.execute_input": "2020-07-18T15:45:34.319718Z",
     "iopub.status.busy": "2020-07-18T15:45:34.319376Z",
     "iopub.status.idle": "2020-07-18T15:45:34.605234Z",
     "shell.execute_reply": "2020-07-18T15:45:34.605484Z"
    },
    "papermill": {
     "duration": 0.306202,
     "end_time": "2020-07-18T15:45:34.605551",
     "exception": false,
     "start_time": "2020-07-18T15:45:34.299349",
     "status": "completed"
    },
    "tags": []
   },
   "outputs": [
    {
     "name": "stdout",
     "output_type": "stream",
     "text": [
      "% train:  0.8414875781130925\n",
      "% val:  0.0\n",
      "% test:  0.15851242188690748\n",
      "% train + val + test:  1.0\n",
      "\n",
      "\n",
      "number of train hamiltonians:  5521\n",
      "number of val hamiltonians:  0\n",
      "number of test hamiltonians:  1040\n",
      "total number of hamiltonians:  6561\n",
      "\n",
      "\n",
      "train ids:  [13, 14, 15, 16, 17, 18, 19, 20, 21, 22, 23, 24, 25, 26, 27, 28, 29, 30, 31, 32, 33, 34, 35, 36, 37, 38, 39, 41, 42, 43, 44, 45, 46, 47, 48, 49, 50, 51, 52, 53, 54, 55, 56, 57, 58, 59, 60, 61, 62, 63, 64, 65, 66, 67, 68, 69, 70, 71, 72, 73, 74, 75, 76, 77, 78, 79, 80, 95, 96, 97, 98, 99, 100, 101, 102, 103, 104, 105, 106, 107, 108, 109, 110, 111, 112, 113, 114, 115, 116, 117, 118, 119, 121, 122, 123, 124, 125, 126, 127, 128, 129, 130, 131, 132, 133, 134, 135, 136, 137, 138, 139, 140, 141, 142, 143, 144, 145, 146, 147, 148, 149, 150, 151, 152, 153, 154, 155, 156, 157, 158, 159, 160, 161, 176, 177, 178, 179, 180, 181, 182, 183, 184, 185, 186, 187, 188, 189, 190, 191, 192, 193, 194, 195, 196, 197, 198, 199, 201, 202, 203, 204, 205, 206, 207, 208, 209, 210, 211, 212, 213, 214, 215, 216, 217, 218, 219, 220, 221, 222, 223, 224, 225, 226, 227, 228, 229, 230, 231, 232, 233, 234, 235, 236, 237, 238, 239, 240, 241, 242, 258, 259, 260, 261, 262, 263, 264, 265, 266, 267, 268, 269, 270, 271, 272, 273, 274, 275, 276, 277, 278, 279, 281, 282, 283, 284, 285, 286, 287, 288, 289, 290, 291, 292, 293, 294, 295, 296, 297, 298, 299, 300, 301, 302, 303, 304, 305, 306, 307, 308, 309, 310, 311, 312, 313, 314, 315, 316, 317, 318, 319, 320, 321, 322, 323, 340, 341, 342, 343, 344, 345, 346, 347, 348, 349, 350, 351, 352, 353, 354, 355, 356, 357, 358, 359, 361, 362, 363, 364, 365, 366, 367, 368, 369, 370, 371, 372, 373, 374, 375, 376, 377, 378, 379, 380, 381, 382, 383, 384, 385, 386, 387, 388, 389, 390, 391, 392, 393, 394, 395, 396, 397, 398, 399, 400, 401, 402, 403, 404, 422, 423, 424, 425, 426, 427, 428, 429, 430, 431, 432, 433, 434, 435, 436, 437, 438, 439, 441, 442, 443, 444, 445, 446, 447, 448, 449, 450, 451, 452, 453, 454, 455, 456, 457, 458, 459, 460, 461, 462, 463, 464, 465, 466, 467, 468, 469, 470, 471, 472, 473, 474, 475, 476, 477, 478, 479, 480, 481, 482, 483, 484, 485, 503, 504, 505, 506, 507, 508, 509, 510, 511, 512, 513, 514, 515, 516, 517, 518, 519, 521, 522, 523, 524, 525, 526, 527, 528, 529, 530, 531, 532, 533, 534, 535, 536, 537, 538, 539, 540, 541, 542, 543, 544, 545, 546, 547, 548, 549, 550, 551, 552, 553, 554, 555, 556, 557, 558, 559, 560, 561, 562, 563, 564, 565, 566, 585, 586, 587, 588, 589, 590, 591, 592, 593, 594, 595, 596, 597, 598, 599, 601, 602, 603, 604, 605, 606, 607, 608, 609, 610, 611, 612, 613, 614, 615, 616, 617, 618, 619, 620, 621, 622, 623, 624, 625, 626, 627, 628, 629, 630, 631, 632, 633, 634, 635, 636, 637, 638, 639, 640, 641, 642, 643, 644, 645, 646, 647, 667, 668, 669, 670, 671, 672, 673, 674, 675, 676, 677, 678, 679, 681, 682, 683, 684, 685, 686, 687, 688, 689, 690, 691, 692, 693, 694, 695, 696, 697, 698, 699, 700, 701, 702, 703, 704, 705, 706, 707, 708, 709, 710, 711, 712, 713, 714, 715, 716, 717, 718, 719, 720, 721, 722, 723, 724, 725, 726, 727, 728, 749, 750, 751, 752, 753, 754, 755, 756, 757, 758, 759, 761, 762, 763, 764, 765, 766, 767, 768, 769, 770, 771, 772, 773, 774, 775, 776, 777, 778, 779, 780, 781, 782, 783, 784, 785, 786, 787, 788, 789, 790, 791, 792, 793, 794, 795, 796, 797, 798, 799, 800, 801, 802, 803, 804, 805, 806, 807, 808, 809, 830, 831, 832, 833, 834, 835, 836, 837, 838, 839, 841, 842, 843, 844, 845, 846, 847, 848, 849, 850, 851, 852, 853, 854, 855, 856, 857, 858, 859, 860, 861, 862, 863, 864, 865, 866, 867, 868, 869, 870, 871, 872, 873, 874, 875, 876, 877, 878, 879, 880, 881, 882, 883, 884, 885, 886, 887, 888, 889, 890, 912, 913, 914, 915, 916, 917, 918, 919, 921, 922, 923, 924, 925, 926, 927, 928, 929, 930, 931, 932, 933, 934, 935, 936, 937, 938, 939, 940, 941, 942, 943, 944, 945, 946, 947, 948, 949, 950, 951, 952, 953, 954, 955, 956, 957, 958, 959, 960, 961, 962, 963, 964, 965, 966, 967, 968, 969, 970, 971, 994, 995, 996, 997, 998, 999, 1001, 1002, 1003, 1004, 1005, 1006, 1007, 1008, 1009, 1010, 1011, 1012, 1013, 1014, 1015, 1016, 1017, 1018, 1019, 1020, 1021, 1022, 1023, 1024, 1025, 1026, 1027, 1028, 1029, 1030, 1031, 1032, 1033, 1034, 1035, 1036, 1037, 1038, 1039, 1040, 1041, 1042, 1043, 1044, 1045, 1046, 1047, 1048, 1049, 1050, 1051, 1052, 1076, 1077, 1078, 1079, 1081, 1082, 1083, 1084, 1085, 1086, 1087, 1088, 1089, 1090, 1091, 1092, 1093, 1094, 1095, 1096, 1097, 1098, 1099, 1100, 1101, 1102, 1103, 1104, 1105, 1106, 1107, 1108, 1109, 1110, 1111, 1112, 1113, 1114, 1115, 1116, 1117, 1118, 1119, 1120, 1121, 1122, 1123, 1124, 1125, 1126, 1127, 1128, 1129, 1130, 1131, 1132, 1133, 1134, 1157, 1158, 1159, 1161, 1162, 1163, 1164, 1165, 1166, 1167, 1168, 1169, 1170, 1171, 1172, 1173, 1174, 1175, 1176, 1177, 1178, 1179, 1180, 1181, 1182, 1183, 1184, 1185, 1186, 1187, 1188, 1189, 1190, 1191, 1192, 1193, 1194, 1195, 1196, 1197, 1198, 1199, 1200, 1201, 1202, 1203, 1204, 1205, 1206, 1207, 1208, 1209, 1210, 1211, 1212, 1213, 1214, 1215, 1216, 1239, 1241, 1242, 1243, 1244, 1245, 1246, 1247, 1248, 1249, 1250, 1251, 1252, 1253, 1254, 1255, 1256, 1257, 1258, 1259, 1260, 1261, 1262, 1263, 1264, 1265, 1266, 1267, 1268, 1269, 1270, 1271, 1272, 1273, 1274, 1275, 1276, 1277, 1278, 1279, 1280, 1281, 1282, 1283, 1284, 1285, 1286, 1287, 1288, 1289, 1290, 1291, 1292, 1293, 1294, 1295, 1296, 1297, 1298, 1299, 1321, 1322, 1323, 1324, 1325, 1326, 1327, 1328, 1329, 1330, 1331, 1332, 1333, 1334, 1335, 1336, 1337, 1338, 1339, 1340, 1341, 1342, 1343, 1344, 1345, 1346, 1347, 1348, 1349, 1350, 1351, 1352, 1353, 1354, 1355, 1356, 1357, 1358, 1359, 1360, 1361, 1362, 1363, 1364, 1365, 1366, 1367, 1368, 1369, 1370, 1371, 1372, 1373, 1374, 1375, 1376, 1377, 1378, 1379, 1380, 1381, 1402, 1403, 1404, 1405, 1406, 1407, 1408, 1409, 1410, 1411, 1412, 1413, 1414, 1415, 1416, 1417, 1418, 1419, 1420, 1421, 1422, 1423, 1424, 1425, 1426, 1427, 1428, 1429, 1430, 1431, 1432, 1433, 1434, 1435, 1436, 1437, 1438, 1439, 1440, 1441, 1442, 1443, 1444, 1445, 1446, 1447, 1448, 1449, 1450, 1451, 1452, 1453, 1454, 1455, 1456, 1457, 1458, 1459, 1460, 1461, 1462, 1463, 1464, 1484, 1485, 1486, 1487, 1488, 1489, 1490, 1491, 1492, 1493, 1494, 1495, 1496, 1497, 1498, 1499, 1500, 1501, 1502, 1503, 1504, 1505, 1506, 1507, 1508, 1509, 1510, 1511, 1512, 1513, 1514, 1515, 1516, 1517, 1518, 1519, 1520, 1521, 1522, 1523, 1524, 1525, 1526, 1527, 1528, 1529, 1530, 1531, 1532, 1533, 1534, 1535, 1536, 1537, 1538, 1539, 1540, 1541, 1542, 1543, 1544, 1545, 1546, 1566, 1567, 1568, 1569, 1570, 1571, 1572, 1573, 1574, 1575, 1576, 1577, 1578, 1579, 1580, 1581, 1582, 1583, 1584, 1585, 1586, 1587, 1588, 1589, 1590, 1591, 1592, 1593, 1594, 1595, 1596, 1597, 1598, 1599, 1600, 1601, 1602, 1603, 1604, 1605, 1606, 1607, 1608, 1609, 1610, 1611, 1612, 1613, 1614, 1615, 1616, 1617, 1618, 1619, 1620, 1621, 1622, 1623, 1624, 1625, 1626, 1627, 1628, 1648, 1649, 1650, 1651, 1652, 1653, 1654, 1655, 1656, 1657, 1658, 1659, 1660, 1661, 1662, 1663, 1664, 1665, 1666, 1667, 1668, 1669, 1670, 1671, 1672, 1673, 1674, 1675, 1676, 1677, 1678, 1679, 1680, 1681, 1682, 1683, 1684, 1685, 1686, 1687, 1688, 1689, 1690, 1691, 1692, 1693, 1694, 1695, 1696, 1697, 1698, 1699, 1701, 1702, 1703, 1704, 1705, 1706, 1707, 1708, 1709, 1710, 1711, 1729, 1730, 1731, 1732, 1733, 1734, 1735, 1736, 1737, 1738, 1739, 1740, 1741, 1742, 1743, 1744, 1745, 1746, 1747, 1748, 1749, 1750, 1751, 1752, 1753, 1754, 1755, 1756, 1757, 1758, 1759, 1760, 1761, 1762, 1763, 1764, 1765, 1766, 1767, 1768, 1769, 1770, 1771, 1772, 1773, 1774, 1775, 1776, 1777, 1778, 1779, 1781, 1782, 1783, 1784, 1785, 1786, 1787, 1788, 1789, 1790, 1791, 1792, 1793, 1811, 1812, 1813, 1814, 1815, 1816, 1817, 1818, 1819, 1820, 1821, 1822, 1823, 1824, 1825, 1826, 1827, 1828, 1829, 1830, 1831, 1832, 1833, 1834, 1835, 1836, 1837, 1838, 1839, 1840, 1841, 1842, 1843, 1844, 1845, 1846, 1847, 1848, 1849, 1850, 1851, 1852, 1853, 1854, 1855, 1856, 1857, 1858, 1859, 1861, 1862, 1863, 1864, 1865, 1866, 1867, 1868, 1869, 1870, 1871, 1872, 1873, 1874, 1875, 1876, 1893, 1894, 1895, 1896, 1897, 1898, 1899, 1900, 1901, 1902, 1903, 1904, 1905, 1906, 1907, 1908, 1909, 1910, 1911, 1912, 1913, 1914, 1915, 1916, 1917, 1918, 1919, 1920, 1921, 1922, 1923, 1924, 1925, 1926, 1927, 1928, 1929, 1930, 1931, 1932, 1933, 1934, 1935, 1936, 1937, 1938, 1939, 1941, 1942, 1943, 1944, 1945, 1946, 1947, 1948, 1949, 1950, 1951, 1952, 1953, 1954, 1955, 1956, 1957, 1958, 1975, 1976, 1977, 1978, 1979, 1980, 1981, 1982, 1983, 1984, 1985, 1986, 1987, 1988, 1989, 1990, 1991, 1992, 1993, 1994, 1995, 1996, 1997, 1998, 1999, 2000, 2001, 2002, 2003, 2004, 2005, 2006, 2007, 2008, 2009, 2010, 2011, 2012, 2013, 2014, 2015, 2016, 2017, 2018, 2019, 2021, 2022, 2023, 2024, 2025, 2026, 2027, 2028, 2029, 2030, 2031, 2032, 2033, 2034, 2035, 2036, 2037, 2038, 2039, 2056, 2057, 2058, 2059, 2060, 2061, 2062, 2063, 2064, 2065, 2066, 2067, 2068, 2069, 2070, 2071, 2072, 2073, 2074, 2075, 2076, 2077, 2078, 2079, 2080, 2081, 2082, 2083, 2084, 2085, 2086, 2087, 2088, 2089, 2090, 2091, 2092, 2093, 2094, 2095, 2096, 2097, 2098, 2099, 2101, 2102, 2103, 2104, 2105, 2106, 2107, 2108, 2109, 2110, 2111, 2112, 2113, 2114, 2115, 2116, 2117, 2118, 2119, 2121, 2122, 2123, 2138, 2139, 2140, 2141, 2142, 2143, 2144, 2145, 2146, 2147, 2148, 2149, 2150, 2151, 2152, 2153, 2154, 2155, 2156, 2157, 2158, 2159, 2160, 2161, 2162, 2163, 2164, 2165, 2166, 2167, 2168, 2169, 2170, 2171, 2172, 2173, 2174, 2175, 2176, 2177, 2178, 2179, 2181, 2182, 2183, 2184, 2185, 2186, 2187, 2188, 2189, 2190, 2191, 2192, 2193, 2194, 2195, 2196, 2197, 2198, 2199, 2201, 2202, 2203, 2204, 2205, 2220, 2221, 2222, 2223, 2224, 2225, 2226, 2227, 2228, 2229, 2230, 2231, 2232, 2233, 2234, 2235, 2236, 2237, 2238, 2239, 2240, 2241, 2242, 2243, 2244, 2245, 2246, 2247, 2248, 2249, 2250, 2251, 2252, 2253, 2254, 2255, 2256, 2257, 2258, 2259, 2261, 2262, 2263, 2264, 2265, 2266, 2267, 2268, 2269, 2270, 2271, 2272, 2273, 2274, 2275, 2276, 2277, 2278, 2279, 2281, 2282, 2283, 2284, 2285, 2286, 2287, 2288, 2301, 2302, 2303, 2304, 2305, 2306, 2307, 2308, 2309, 2310, 2311, 2312, 2313, 2314, 2315, 2316, 2317, 2318, 2319, 2320, 2321, 2322, 2323, 2324, 2325, 2326, 2327, 2328, 2329, 2330, 2331, 2332, 2333, 2334, 2335, 2336, 2337, 2338, 2339, 2341, 2342, 2343, 2344, 2345, 2346, 2347, 2348, 2349, 2350, 2351, 2352, 2353, 2354, 2355, 2356, 2357, 2358, 2359, 2361, 2362, 2363, 2364, 2365, 2366, 2367, 2368, 2369, 2370, 2383, 2384, 2385, 2386, 2387, 2388, 2389, 2390, 2391, 2392, 2393, 2394, 2395, 2396, 2397, 2398, 2399, 2400, 2401, 2402, 2403, 2404, 2405, 2406, 2407, 2408, 2409, 2410, 2411, 2412, 2413, 2414, 2415, 2416, 2417, 2418, 2419, 2421, 2422, 2423, 2424, 2425, 2426, 2427, 2428, 2429, 2430, 2431, 2432, 2433, 2434, 2435, 2436, 2437, 2438, 2439, 2441, 2442, 2443, 2444, 2445, 2446, 2447, 2448, 2449, 2450, 2451, 2452, 2453, 2465, 2466, 2467, 2468, 2469, 2470, 2471, 2472, 2473, 2474, 2475, 2476, 2477, 2478, 2479, 2480, 2481, 2482, 2483, 2484, 2485, 2486, 2487, 2488, 2489, 2490, 2491, 2492, 2493, 2494, 2495, 2496, 2497, 2498, 2499, 2501, 2502, 2503, 2504, 2505, 2506, 2507, 2508, 2509, 2510, 2511, 2512, 2513, 2514, 2515, 2516, 2517, 2518, 2519, 2521, 2522, 2523, 2524, 2525, 2526, 2527, 2528, 2529, 2530, 2531, 2532, 2533, 2534, 2535, 2547, 2548, 2549, 2550, 2551, 2552, 2553, 2554, 2555, 2556, 2557, 2558, 2559, 2560, 2561, 2562, 2563, 2564, 2565, 2566, 2567, 2568, 2569, 2570, 2571, 2572, 2573, 2574, 2575, 2576, 2577, 2578, 2579, 2581, 2582, 2583, 2584, 2585, 2586, 2587, 2588, 2589, 2590, 2591, 2592, 2593, 2594, 2595, 2596, 2597, 2598, 2599, 2601, 2602, 2603, 2604, 2605, 2606, 2607, 2608, 2609, 2610, 2611, 2612, 2613, 2614, 2615, 2616, 2617, 2628, 2629, 2630, 2631, 2632, 2633, 2634, 2635, 2636, 2637, 2638, 2639, 2640, 2641, 2642, 2643, 2644, 2645, 2646, 2647, 2648, 2649, 2650, 2651, 2652, 2653, 2654, 2655, 2656, 2657, 2658, 2659, 2661, 2662, 2663, 2664, 2665, 2666, 2667, 2668, 2669, 2670, 2671, 2672, 2673, 2674, 2675, 2676, 2677, 2678, 2679, 2681, 2682, 2683, 2684, 2685, 2686, 2687, 2688, 2689, 2690, 2691, 2692, 2693, 2694, 2695, 2696, 2697, 2698, 2699, 2700, 2710, 2711, 2712, 2713, 2714, 2715, 2716, 2717, 2718, 2719, 2720, 2721, 2722, 2723, 2724, 2725, 2726, 2727, 2728, 2729, 2730, 2731, 2732, 2733, 2734, 2735, 2736, 2737, 2738, 2739, 2741, 2742, 2743, 2744, 2745, 2746, 2747, 2748, 2749, 2750, 2751, 2752, 2753, 2754, 2755, 2756, 2757, 2758, 2759, 2761, 2762, 2763, 2764, 2765, 2766, 2767, 2768, 2769, 2770, 2771, 2772, 2773, 2774, 2775, 2776, 2777, 2778, 2779, 2780, 2781, 2782, 2792, 2793, 2794, 2795, 2796, 2797, 2798, 2799, 2800, 2801, 2802, 2803, 2804, 2805, 2806, 2807, 2808, 2809, 2810, 2811, 2812, 2813, 2814, 2815, 2816, 2817, 2818, 2819, 2821, 2822, 2823, 2824, 2825, 2826, 2827, 2828, 2829, 2830, 2831, 2832, 2833, 2834, 2835, 2836, 2837, 2838, 2839, 2841, 2842, 2843, 2844, 2845, 2846, 2847, 2848, 2849, 2850, 2851, 2852, 2853, 2854, 2855, 2856, 2857, 2858, 2859, 2860, 2861, 2862, 2863, 2864, 2865, 2874, 2875, 2876, 2877, 2878, 2879, 2880, 2881, 2882, 2883, 2884, 2885, 2886, 2887, 2888, 2889, 2890, 2891, 2892, 2893, 2894, 2895, 2896, 2897, 2898, 2899, 2901, 2902, 2903, 2904, 2905, 2906, 2907, 2908, 2909, 2910, 2911, 2912, 2913, 2914, 2915, 2916, 2917, 2918, 2919, 2921, 2922, 2923, 2924, 2925, 2926, 2927, 2928, 2929, 2930, 2931, 2932, 2933, 2934, 2935, 2936, 2937, 2938, 2939, 2940, 2941, 2942, 2943, 2944, 2945, 2946, 2947, 2955, 2956, 2957, 2958, 2959, 2960, 2961, 2962, 2963, 2964, 2965, 2966, 2967, 2968, 2969, 2970, 2971, 2972, 2973, 2974, 2975, 2976, 2977, 2978, 2979, 2981, 2982, 2983, 2984, 2985, 2986, 2987, 2988, 2989, 2990, 2991, 2992, 2993, 2994, 2995, 2996, 2997, 2998, 2999, 3001, 3002, 3003, 3004, 3005, 3006, 3007, 3008, 3009, 3010, 3011, 3012, 3013, 3014, 3015, 3016, 3017, 3018, 3019, 3020, 3021, 3022, 3023, 3024, 3025, 3026, 3027, 3028, 3029, 3037, 3038, 3039, 3040, 3041, 3042, 3043, 3044, 3045, 3046, 3047, 3048, 3049, 3050, 3051, 3052, 3053, 3054, 3055, 3056, 3057, 3058, 3059, 3061, 3062, 3063, 3064, 3065, 3066, 3067, 3068, 3069, 3070, 3071, 3072, 3073, 3074, 3075, 3076, 3077, 3078, 3079, 3081, 3082, 3083, 3084, 3085, 3086, 3087, 3088, 3089, 3090, 3091, 3092, 3093, 3094, 3095, 3096, 3097, 3098, 3099, 3100, 3101, 3102, 3103, 3104, 3105, 3106, 3107, 3108, 3109, 3110, 3111, 3112, 3119, 3120, 3121, 3122, 3123, 3124, 3125, 3126, 3127, 3128, 3129, 3130, 3131, 3132, 3133, 3134, 3135, 3136, 3137, 3138, 3139, 3141, 3142, 3143, 3144, 3145, 3146, 3147, 3148, 3149, 3150, 3151, 3152, 3153, 3154, 3155, 3156, 3157, 3158, 3159, 3161, 3162, 3163, 3164, 3165, 3166, 3167, 3168, 3169, 3170, 3171, 3172, 3173, 3174, 3175, 3176, 3177, 3178, 3179, 3180, 3181, 3182, 3183, 3184, 3185, 3186, 3187, 3188, 3189, 3190, 3191, 3192, 3193, 3194, 3201, 3202, 3203, 3204, 3205, 3206, 3207, 3208, 3209, 3210, 3211, 3212, 3213, 3214, 3215, 3216, 3217, 3218, 3219, 3221, 3222, 3223, 3224, 3225, 3226, 3227, 3228, 3229, 3230, 3231, 3232, 3233, 3234, 3235, 3236, 3237, 3238, 3239, 3241, 3242, 3243, 3244, 3245, 3246, 3247, 3248, 3249, 3250, 3251, 3252, 3253, 3254, 3255, 3256, 3257, 3258, 3259, 3260, 3261, 3262, 3263, 3264, 3265, 3266, 3267, 3268, 3269, 3270, 3271, 3272, 3273, 3274, 3275, 3276, 3277, 3282, 3283, 3284, 3285, 3286, 3287, 3288, 3289, 3290, 3291, 3292, 3293, 3294, 3295, 3296, 3297, 3298, 3299, 3301, 3302, 3303, 3304, 3305, 3306, 3307, 3308, 3309, 3310, 3311, 3312, 3313, 3314, 3315, 3316, 3317, 3318, 3319, 3320, 3321, 3322, 3323, 3324, 3325, 3326, 3327, 3328, 3329, 3330, 3331, 3332, 3333, 3334, 3335, 3336, 3337, 3338, 3339, 3340, 3341, 3342, 3343, 3344, 3345, 3346, 3347, 3348, 3349, 3350, 3351, 3352, 3353, 3354, 3355, 3356, 3357, 3358, 3359, 3364, 3365, 3366, 3367, 3368, 3369, 3370, 3371, 3372, 3373, 3374, 3375, 3376, 3377, 3378, 3379, 3381, 3382, 3383, 3384, 3385, 3386, 3387, 3388, 3389, 3390, 3391, 3392, 3393, 3394, 3395, 3396, 3397, 3398, 3399, 3400, 3401, 3402, 3403, 3404, 3405, 3406, 3407, 3408, 3409, 3410, 3411, 3412, 3413, 3414, 3415, 3416, 3417, 3418, 3419, 3420, 3421, 3422, 3423, 3424, 3425, 3426, 3427, 3428, 3429, 3430, 3431, 3432, 3433, 3434, 3435, 3436, 3437, 3438, 3439, 3440, 3441, 3442, 3446, 3447, 3448, 3449, 3450, 3451, 3452, 3453, 3454, 3455, 3456, 3457, 3458, 3459, 3461, 3462, 3463, 3464, 3465, 3466, 3467, 3468, 3469, 3470, 3471, 3472, 3473, 3474, 3475, 3476, 3477, 3478, 3479, 3480, 3481, 3482, 3483, 3484, 3485, 3486, 3487, 3488, 3489, 3490, 3491, 3492, 3493, 3494, 3495, 3496, 3497, 3498, 3499, 3500, 3501, 3502, 3503, 3504, 3505, 3506, 3507, 3508, 3509, 3510, 3511, 3512, 3513, 3514, 3515, 3516, 3517, 3518, 3519, 3520, 3521, 3522, 3523, 3524, 3527, 3528, 3529, 3530, 3531, 3532, 3533, 3534, 3535, 3536, 3537, 3538, 3539, 3541, 3542, 3543, 3544, 3545, 3546, 3547, 3548, 3549, 3550, 3551, 3552, 3553, 3554, 3555, 3556, 3557, 3558, 3559, 3560, 3561, 3562, 3563, 3564, 3565, 3566, 3567, 3568, 3569, 3570, 3571, 3572, 3573, 3574, 3575, 3576, 3577, 3578, 3579, 3580, 3581, 3582, 3583, 3584, 3585, 3586, 3587, 3588, 3589, 3590, 3591, 3592, 3593, 3594, 3595, 3596, 3597, 3598, 3599, 3600, 3601, 3602, 3603, 3604, 3605, 3606, 3609, 3610, 3611, 3612, 3613, 3614, 3615, 3616, 3617, 3618, 3619, 3621, 3622, 3623, 3624, 3625, 3626, 3627, 3628, 3629, 3630, 3631, 3632, 3633, 3634, 3635, 3636, 3637, 3638, 3639, 3640, 3641, 3642, 3643, 3644, 3645, 3646, 3647, 3648, 3649, 3650, 3651, 3652, 3653, 3654, 3655, 3656, 3657, 3658, 3659, 3660, 3661, 3662, 3663, 3664, 3665, 3666, 3667, 3668, 3669, 3670, 3671, 3672, 3673, 3674, 3675, 3676, 3677, 3678, 3679, 3680, 3681, 3682, 3683, 3684, 3685, 3686, 3687, 3688, 3689, 3691, 3692, 3693, 3694, 3695, 3696, 3697, 3698, 3699, 3701, 3702, 3703, 3704, 3705, 3706, 3707, 3708, 3709, 3710, 3711, 3712, 3713, 3714, 3715, 3716, 3717, 3718, 3719, 3720, 3721, 3722, 3723, 3724, 3725, 3726, 3727, 3728, 3729, 3730, 3731, 3732, 3733, 3734, 3735, 3736, 3737, 3738, 3739, 3740, 3741, 3742, 3743, 3744, 3745, 3746, 3747, 3748, 3749, 3750, 3751, 3752, 3753, 3754, 3755, 3756, 3757, 3758, 3759, 3760, 3761, 3762, 3763, 3764, 3765, 3766, 3767, 3768, 3769, 3770, 3771, 3773, 3774, 3775, 3776, 3777, 3778, 3779, 3781, 3782, 3783, 3784, 3785, 3786, 3787, 3788, 3789, 3790, 3791, 3792, 3793, 3794, 3795, 3796, 3797, 3798, 3799, 3800, 3801, 3802, 3803, 3804, 3805, 3806, 3807, 3808, 3809, 3810, 3811, 3812, 3813, 3814, 3815, 3816, 3817, 3818, 3819, 3820, 3821, 3822, 3823, 3824, 3825, 3826, 3827, 3828, 3829, 3830, 3831, 3832, 3833, 3834, 3835, 3836, 3837, 3838, 3839, 3840, 3841, 3842, 3843, 3844, 3845, 3846, 3847, 3848, 3849, 3850, 3851, 3852, 3853, 3855, 3856, 3857, 3858, 3859, 3861, 3862, 3863, 3864, 3865, 3866, 3867, 3868, 3869, 3870, 3871, 3872, 3873, 3874, 3875, 3876, 3877, 3878, 3879, 3880, 3881, 3882, 3883, 3884, 3885, 3886, 3887, 3888, 3889, 3890, 3891, 3892, 3893, 3894, 3895, 3896, 3897, 3898, 3899, 3900, 3901, 3902, 3903, 3904, 3905, 3906, 3907, 3908, 3909, 3910, 3911, 3912, 3913, 3914, 3915, 3916, 3917, 3918, 3919, 3920, 3921, 3922, 3923, 3924, 3925, 3926, 3927, 3928, 3929, 3930, 3931, 3932, 3933, 3934, 3935, 3937, 3938, 3939, 3941, 3942, 3943, 3944, 3945, 3946, 3947, 3948, 3949, 3950, 3951, 3952, 3953, 3954, 3955, 3956, 3957, 3958, 3959, 3960, 3961, 3962, 3963, 3964, 3965, 3966, 3967, 3968, 3969, 3970, 3971, 3972, 3973, 3974, 3975, 3976, 3977, 3978, 3979, 3980, 3981, 3982, 3983, 3984, 3985, 3986, 3987, 3988, 3989, 3990, 3991, 3992, 3993, 3994, 3995, 3996, 3997, 3998, 3999, 4000, 4001, 4002, 4003, 4004, 4005, 4006, 4007, 4008, 4009, 4010, 4011, 4012, 4013, 4014, 4015, 4016, 4017, 4021, 4022, 4023, 4024, 4025, 4026, 4027, 4028, 4029, 4030, 4031, 4032, 4033, 4034, 4035, 4036, 4037, 4038, 4039, 4040, 4041, 4042, 4043, 4044, 4045, 4046, 4047, 4048, 4049, 4050, 4051, 4052, 4053, 4054, 4055, 4056, 4057, 4058, 4059, 4060, 4061, 4062, 4063, 4064, 4065, 4066, 4067, 4068, 4069, 4070, 4071, 4072, 4073, 4074, 4075, 4076, 4077, 4078, 4079, 4080, 4081, 4082, 4083, 4084, 4085, 4086, 4087, 4088, 4089, 4090, 4091, 4092, 4093, 4094, 4095, 4096, 4097, 4098, 4102, 4103, 4104, 4105, 4106, 4107, 4108, 4109, 4110, 4111, 4112, 4113, 4114, 4115, 4116, 4117, 4118, 4119, 4120, 4121, 4122, 4123, 4124, 4125, 4126, 4127, 4128, 4129, 4130, 4131, 4132, 4133, 4134, 4135, 4136, 4137, 4138, 4139, 4140, 4141, 4142, 4143, 4144, 4145, 4146, 4147, 4148, 4149, 4150, 4151, 4152, 4153, 4154, 4155, 4156, 4157, 4158, 4159, 4160, 4161, 4162, 4163, 4164, 4165, 4166, 4167, 4168, 4169, 4170, 4171, 4172, 4173, 4174, 4175, 4176, 4177, 4178, 4179, 4184, 4185, 4186, 4187, 4188, 4189, 4190, 4191, 4192, 4193, 4194, 4195, 4196, 4197, 4198, 4199, 4200, 4201, 4202, 4203, 4204, 4205, 4206, 4207, 4208, 4209, 4210, 4211, 4212, 4213, 4214, 4215, 4216, 4217, 4218, 4219, 4220, 4221, 4222, 4223, 4224, 4225, 4226, 4227, 4228, 4229, 4230, 4231, 4232, 4233, 4234, 4235, 4236, 4237, 4238, 4239, 4240, 4241, 4242, 4243, 4244, 4245, 4246, 4247, 4248, 4249, 4250, 4251, 4252, 4253, 4254, 4255, 4256, 4257, 4258, 4259, 4261, 4262, 4267, 4268, 4269, 4270, 4271, 4272, 4273, 4274, 4275, 4276, 4277, 4278, 4279, 4280, 4281, 4282, 4283, 4284, 4285, 4286, 4287, 4288, 4289, 4290, 4291, 4292, 4293, 4294, 4295, 4296, 4297, 4298, 4299, 4300, 4301, 4302, 4303, 4304, 4305, 4306, 4307, 4308, 4309, 4310, 4311, 4312, 4313, 4314, 4315, 4316, 4317, 4318, 4319, 4320, 4321, 4322, 4323, 4324, 4325, 4326, 4327, 4328, 4329, 4330, 4331, 4332, 4333, 4334, 4335, 4336, 4337, 4338, 4339, 4341, 4342, 4343, 4344, 4349, 4350, 4351, 4352, 4353, 4354, 4355, 4356, 4357, 4358, 4359, 4360, 4361, 4362, 4363, 4364, 4365, 4366, 4367, 4368, 4369, 4370, 4371, 4372, 4373, 4374, 4375, 4376, 4377, 4378, 4379, 4380, 4381, 4382, 4383, 4384, 4385, 4386, 4387, 4388, 4389, 4390, 4391, 4392, 4393, 4394, 4395, 4396, 4397, 4398, 4399, 4400, 4401, 4402, 4403, 4404, 4405, 4406, 4407, 4408, 4409, 4410, 4411, 4412, 4413, 4414, 4415, 4416, 4417, 4418, 4419, 4421, 4422, 4423, 4424, 4425, 4426, 4432, 4433, 4434, 4435, 4436, 4437, 4438, 4439, 4440, 4441, 4442, 4443, 4444, 4445, 4446, 4447, 4448, 4449, 4450, 4451, 4452, 4453, 4454, 4455, 4456, 4457, 4458, 4459, 4460, 4461, 4462, 4463, 4464, 4465, 4466, 4467, 4468, 4469, 4470, 4471, 4472, 4473, 4474, 4475, 4476, 4477, 4478, 4479, 4480, 4481, 4482, 4483, 4484, 4485, 4486, 4487, 4488, 4489, 4490, 4491, 4492, 4493, 4494, 4495, 4496, 4497, 4498, 4499, 4501, 4502, 4503, 4504, 4505, 4506, 4507, 4514, 4515, 4516, 4517, 4518, 4519, 4520, 4521, 4522, 4523, 4524, 4525, 4526, 4527, 4528, 4529, 4530, 4531, 4532, 4533, 4534, 4535, 4536, 4537, 4538, 4539, 4540, 4541, 4542, 4543, 4544, 4545, 4546, 4547, 4548, 4549, 4550, 4551, 4552, 4553, 4554, 4555, 4556, 4557, 4558, 4559, 4560, 4561, 4562, 4563, 4564, 4565, 4566, 4567, 4568, 4569, 4570, 4571, 4572, 4573, 4574, 4575, 4576, 4577, 4578, 4579, 4581, 4582, 4583, 4584, 4585, 4586, 4587, 4588, 4589, 4596, 4597, 4598, 4599, 4600, 4601, 4602, 4603, 4604, 4605, 4606, 4607, 4608, 4609, 4610, 4611, 4612, 4613, 4614, 4615, 4616, 4617, 4618, 4619, 4620, 4621, 4622, 4623, 4624, 4625, 4626, 4627, 4628, 4629, 4630, 4631, 4632, 4633, 4634, 4635, 4636, 4637, 4638, 4639, 4640, 4641, 4642, 4643, 4644, 4645, 4646, 4647, 4648, 4649, 4650, 4651, 4652, 4653, 4654, 4655, 4656, 4657, 4658, 4659, 4661, 4662, 4663, 4664, 4665, 4666, 4667, 4668, 4669, 4670, 4671, 4679, 4680, 4681, 4682, 4683, 4684, 4685, 4686, 4687, 4688, 4689, 4690, 4691, 4692, 4693, 4694, 4695, 4696, 4697, 4698, 4699, 4700, 4701, 4702, 4703, 4704, 4705, 4706, 4707, 4708, 4709, 4710, 4711, 4712, 4713, 4714, 4715, 4716, 4717, 4718, 4719, 4720, 4721, 4722, 4723, 4724, 4725, 4726, 4727, 4728, 4729, 4730, 4731, 4732, 4733, 4734, 4735, 4736, 4737, 4738, 4739, 4741, 4742, 4743, 4744, 4745, 4746, 4747, 4748, 4749, 4750, 4751, 4752, 4761, 4762, 4763, 4764, 4765, 4766, 4767, 4768, 4769, 4770, 4771, 4772, 4773, 4774, 4775, 4776, 4777, 4778, 4779, 4780, 4781, 4782, 4783, 4784, 4785, 4786, 4787, 4788, 4789, 4790, 4791, 4792, 4793, 4794, 4795, 4796, 4797, 4798, 4799, 4800, 4801, 4802, 4803, 4804, 4805, 4806, 4807, 4808, 4809, 4810, 4811, 4812, 4813, 4814, 4815, 4816, 4817, 4818, 4819, 4821, 4822, 4823, 4824, 4825, 4826, 4827, 4828, 4829, 4830, 4831, 4832, 4833, 4834, 4844, 4845, 4846, 4847, 4848, 4849, 4850, 4851, 4852, 4853, 4854, 4855, 4856, 4857, 4858, 4859, 4860, 4861, 4862, 4863, 4864, 4865, 4866, 4867, 4868, 4869, 4870, 4871, 4872, 4873, 4874, 4875, 4876, 4877, 4878, 4879, 4880, 4881, 4882, 4883, 4884, 4885, 4886, 4887, 4888, 4889, 4890, 4891, 4892, 4893, 4894, 4895, 4896, 4897, 4898, 4899, 4901, 4902, 4903, 4904, 4905, 4906, 4907, 4908, 4909, 4910, 4911, 4912, 4913, 4914, 4915, 4916, 4926, 4927, 4928, 4929, 4930, 4931, 4932, 4933, 4934, 4935, 4936, 4937, 4938, 4939, 4940, 4941, 4942, 4943, 4944, 4945, 4946, 4947, 4948, 4949, 4950, 4951, 4952, 4953, 4954, 4955, 4956, 4957, 4958, 4959, 4960, 4961, 4962, 4963, 4964, 4965, 4966, 4967, 4968, 4969, 4970, 4971, 4972, 4973, 4974, 4975, 4976, 4977, 4978, 4979, 4981, 4982, 4983, 4984, 4985, 4986, 4987, 4988, 4989, 4990, 4991, 4992, 4993, 4994, 4995, 4996, 4997, 4998, 5008, 5009, 5010, 5011, 5012, 5013, 5014, 5015, 5016, 5017, 5018, 5019, 5020, 5021, 5022, 5023, 5024, 5025, 5026, 5027, 5028, 5029, 5030, 5031, 5032, 5033, 5034, 5035, 5036, 5037, 5038, 5039, 5040, 5041, 5042, 5043, 5044, 5045, 5046, 5047, 5048, 5049, 5050, 5051, 5052, 5053, 5054, 5055, 5056, 5057, 5058, 5059, 5061, 5062, 5063, 5064, 5065, 5066, 5067, 5068, 5069, 5070, 5071, 5072, 5073, 5074, 5075, 5076, 5077, 5078, 5079, 5091, 5092, 5093, 5094, 5095, 5096, 5097, 5098, 5099, 5100, 5101, 5102, 5103, 5104, 5105, 5106, 5107, 5108, 5109, 5110, 5111, 5112, 5113, 5114, 5115, 5116, 5117, 5118, 5119, 5120, 5121, 5122, 5123, 5124, 5125, 5126, 5127, 5128, 5129, 5130, 5131, 5132, 5133, 5134, 5135, 5136, 5137, 5138, 5139, 5141, 5142, 5143, 5144, 5145, 5146, 5147, 5148, 5149, 5150, 5151, 5152, 5153, 5154, 5155, 5156, 5157, 5158, 5159, 5160, 5161, 5173, 5174, 5175, 5176, 5177, 5178, 5179, 5180, 5181, 5182, 5183, 5184, 5185, 5186, 5187, 5188, 5189, 5190, 5191, 5192, 5193, 5194, 5195, 5196, 5197, 5198, 5199, 5200, 5201, 5202, 5203, 5204, 5205, 5206, 5207, 5208, 5209, 5210, 5211, 5212, 5213, 5214, 5215, 5216, 5217, 5218, 5219, 5221, 5222, 5223, 5224, 5225, 5226, 5227, 5228, 5229, 5230, 5231, 5232, 5233, 5234, 5235, 5236, 5237, 5238, 5239, 5240, 5241, 5242, 5243, 5256, 5257, 5258, 5259, 5260, 5261, 5262, 5263, 5264, 5265, 5266, 5267, 5268, 5269, 5270, 5271, 5272, 5273, 5274, 5275, 5276, 5277, 5278, 5279, 5280, 5281, 5282, 5283, 5284, 5285, 5286, 5287, 5288, 5289, 5290, 5291, 5292, 5293, 5294, 5295, 5296, 5297, 5298, 5299, 5301, 5302, 5303, 5304, 5305, 5306, 5307, 5308, 5309, 5310, 5311, 5312, 5313, 5314, 5315, 5316, 5317, 5318, 5319, 5320, 5321, 5322, 5323, 5324, 5325, 5338, 5339, 5340, 5341, 5342, 5343, 5344, 5345, 5346, 5347, 5348, 5349, 5350, 5351, 5352, 5353, 5354, 5355, 5356, 5357, 5358, 5359, 5360, 5361, 5362, 5363, 5364, 5365, 5366, 5367, 5368, 5369, 5370, 5371, 5372, 5373, 5374, 5375, 5376, 5377, 5378, 5379, 5381, 5382, 5383, 5384, 5385, 5386, 5387, 5388, 5389, 5390, 5391, 5392, 5393, 5394, 5395, 5396, 5397, 5398, 5399, 5400, 5401, 5402, 5403, 5404, 5405, 5406, 5421, 5422, 5423, 5424, 5425, 5426, 5427, 5428, 5429, 5430, 5431, 5432, 5433, 5434, 5435, 5436, 5437, 5438, 5439, 5440, 5441, 5442, 5443, 5444, 5445, 5446, 5447, 5448, 5449, 5450, 5451, 5452, 5453, 5454, 5455, 5456, 5457, 5458, 5459, 5461, 5462, 5463, 5464, 5465, 5466, 5467, 5468, 5469, 5470, 5471, 5472, 5473, 5474, 5475, 5476, 5477, 5478, 5479, 5480, 5481, 5482, 5483, 5484, 5485, 5486, 5487, 5488, 5503, 5504, 5505, 5506, 5507, 5508, 5509, 5510, 5511, 5512, 5513, 5514, 5515, 5516, 5517, 5518, 5519, 5520, 5521, 5522, 5523, 5524, 5525, 5526, 5527, 5528, 5529, 5530, 5531, 5532, 5533, 5534, 5535, 5536, 5537, 5538, 5539, 5541, 5542, 5543, 5544, 5545, 5546, 5547, 5548, 5549, 5550, 5551, 5552, 5553, 5554, 5555, 5556, 5557, 5558, 5559, 5560, 5561, 5562, 5563, 5564, 5565, 5566, 5567, 5568, 5569, 5570, 5585, 5586, 5587, 5588, 5589, 5590, 5591, 5592, 5593, 5594, 5595, 5596, 5597, 5598, 5599, 5600, 5601, 5602, 5603, 5604, 5605, 5606, 5607, 5608, 5609, 5610, 5611, 5612, 5613, 5614, 5615, 5616, 5617, 5618, 5619, 5621, 5622, 5623, 5624, 5625, 5626, 5627, 5628, 5629, 5630, 5631, 5632, 5633, 5634, 5635, 5636, 5637, 5638, 5639, 5640, 5641, 5642, 5643, 5644, 5645, 5646, 5647, 5648, 5649, 5650, 5651, 5652, 5668, 5669, 5670, 5671, 5672, 5673, 5674, 5675, 5676, 5677, 5678, 5679, 5680, 5681, 5682, 5683, 5684, 5685, 5686, 5687, 5688, 5689, 5690, 5691, 5692, 5693, 5694, 5695, 5696, 5697, 5698, 5699, 5701, 5702, 5703, 5704, 5705, 5706, 5707, 5708, 5709, 5710, 5711, 5712, 5713, 5714, 5715, 5716, 5717, 5718, 5719, 5720, 5721, 5722, 5723, 5724, 5725, 5726, 5727, 5728, 5729, 5730, 5731, 5732, 5733, 5750, 5751, 5752, 5753, 5754, 5755, 5756, 5757, 5758, 5759, 5760, 5761, 5762, 5763, 5764, 5765, 5766, 5767, 5768, 5769, 5770, 5771, 5772, 5773, 5774, 5775, 5776, 5777, 5778, 5779, 5781, 5782, 5783, 5784, 5785, 5786, 5787, 5788, 5789, 5790, 5791, 5792, 5793, 5794, 5795, 5796, 5797, 5798, 5799, 5800, 5801, 5802, 5803, 5804, 5805, 5806, 5807, 5808, 5809, 5810, 5811, 5812, 5813, 5814, 5815, 5832, 5833, 5834, 5835, 5836, 5837, 5838, 5839, 5840, 5841, 5842, 5843, 5844, 5845, 5846, 5847, 5848, 5849, 5850, 5851, 5852, 5853, 5854, 5855, 5856, 5857, 5858, 5859, 5861, 5862, 5863, 5864, 5865, 5866, 5867, 5868, 5869, 5870, 5871, 5872, 5873, 5874, 5875, 5876, 5877, 5878, 5879, 5880, 5881, 5882, 5883, 5884, 5885, 5886, 5887, 5888, 5889, 5890, 5891, 5892, 5893, 5894, 5895, 5896, 5897, 5913, 5914, 5915, 5916, 5917, 5918, 5919, 5920, 5921, 5922, 5923, 5924, 5925, 5926, 5927, 5928, 5929, 5930, 5931, 5932, 5933, 5934, 5935, 5936, 5937, 5938, 5939, 5941, 5942, 5943, 5944, 5945, 5946, 5947, 5948, 5949, 5950, 5951, 5952, 5953, 5954, 5955, 5956, 5957, 5958, 5959, 5960, 5961, 5962, 5963, 5964, 5965, 5966, 5967, 5968, 5969, 5970, 5971, 5972, 5973, 5974, 5975, 5976, 5977, 5978, 5994, 5995, 5996, 5997, 5998, 5999, 6000, 6001, 6002, 6003, 6004, 6005, 6006, 6007, 6008, 6009, 6010, 6011, 6012, 6013, 6014, 6015, 6016, 6017, 6018, 6019, 6021, 6022, 6023, 6024, 6025, 6026, 6027, 6028, 6029, 6030, 6031, 6032, 6033, 6034, 6035, 6036, 6037, 6038, 6039, 6040, 6041, 6042, 6043, 6044, 6045, 6046, 6047, 6048, 6049, 6050, 6051, 6052, 6053, 6054, 6055, 6056, 6057, 6058, 6059, 6060, 6075, 6076, 6077, 6078, 6079, 6080, 6081, 6082, 6083, 6084, 6085, 6086, 6087, 6088, 6089, 6090, 6091, 6092, 6093, 6094, 6095, 6096, 6097, 6098, 6099, 6101, 6102, 6103, 6104, 6105, 6106, 6107, 6108, 6109, 6110, 6111, 6112, 6113, 6114, 6115, 6116, 6117, 6118, 6119, 6120, 6121, 6122, 6123, 6124, 6125, 6126, 6127, 6128, 6129, 6130, 6131, 6132, 6133, 6134, 6135, 6136, 6137, 6138, 6139, 6140, 6141, 6142, 6156, 6157, 6158, 6159, 6160, 6161, 6162, 6163, 6164, 6165, 6166, 6167, 6168, 6169, 6170, 6171, 6172, 6173, 6174, 6175, 6176, 6177, 6178, 6179, 6181, 6182, 6183, 6184, 6185, 6186, 6187, 6188, 6189, 6190, 6191, 6192, 6193, 6194, 6195, 6196, 6197, 6198, 6199, 6200, 6201, 6202, 6203, 6204, 6205, 6206, 6207, 6208, 6209, 6210, 6211, 6212, 6213, 6214, 6215, 6216, 6217, 6218, 6219, 6220, 6221, 6222, 6223, 6224, 6237, 6238, 6239, 6240, 6241, 6242, 6243, 6244, 6245, 6246, 6247, 6248, 6249, 6250, 6251, 6252, 6253, 6254, 6255, 6256, 6257, 6258, 6259, 6261, 6262, 6263, 6264, 6265, 6266, 6267, 6268, 6269, 6270, 6271, 6272, 6273, 6274, 6275, 6276, 6277, 6278, 6279, 6280, 6281, 6282, 6283, 6284, 6285, 6286, 6287, 6288, 6289, 6290, 6291, 6292, 6293, 6294, 6295, 6296, 6297, 6298, 6299, 6300, 6301, 6302, 6303, 6304, 6305, 6318, 6319, 6320, 6321, 6322, 6323, 6324, 6325, 6326, 6327, 6328, 6329, 6330, 6331, 6332, 6333, 6334, 6335, 6336, 6337, 6338, 6339, 6341, 6342, 6343, 6344, 6345, 6346, 6347, 6348, 6349, 6350, 6351, 6352, 6353, 6354, 6355, 6356, 6357, 6358, 6359, 6360, 6361, 6362, 6363, 6364, 6365, 6366, 6367, 6368, 6369, 6370, 6371, 6372, 6373, 6374, 6375, 6376, 6377, 6378, 6379, 6380, 6381, 6382, 6383, 6384, 6385, 6386, 6387, 6399, 6400, 6401, 6402, 6403, 6404, 6405, 6406, 6407, 6408, 6409, 6410, 6411, 6412, 6413, 6414, 6415, 6416, 6417, 6418, 6419, 6421, 6422, 6423, 6424, 6425, 6426, 6427, 6428, 6429, 6430, 6431, 6432, 6433, 6434, 6435, 6436, 6437, 6438, 6439, 6440, 6441, 6442, 6443, 6444, 6445, 6446, 6447, 6448, 6449, 6450, 6451, 6452, 6453, 6454, 6455, 6456, 6457, 6458, 6459, 6460, 6461, 6462, 6463, 6464, 6465, 6466, 6467, 6468, 6469, 6480, 6481, 6482, 6483, 6484, 6485, 6486, 6487, 6488, 6489, 6490, 6491, 6492, 6493, 6494, 6495, 6496, 6497, 6498, 6499, 6501, 6502, 6503, 6504, 6505, 6506, 6507, 6508, 6509, 6510, 6511, 6512, 6513, 6514, 6515, 6516, 6517, 6518, 6519, 6520, 6521, 6522, 6523, 6524, 6525, 6526, 6527, 6528, 6529, 6530, 6531, 6532, 6533, 6534, 6535, 6536, 6537, 6538, 6539, 6540, 6541, 6542, 6543, 6544, 6545, 6546, 6547, 6548, 6549, 6550, 6551]\n",
      "val ids:  []\n",
      "test ids:  [0, 1, 2, 3, 4, 5, 6, 7, 8, 9, 10, 11, 12, 40, 81, 82, 83, 84, 85, 86, 87, 88, 89, 90, 91, 92, 93, 94, 120, 162, 163, 164, 165, 166, 167, 168, 169, 170, 171, 172, 173, 174, 175, 200, 243, 244, 245, 246, 247, 248, 249, 250, 251, 252, 253, 254, 255, 256, 257, 280, 324, 325, 326, 327, 328, 329, 330, 331, 332, 333, 334, 335, 336, 337, 338, 339, 360, 405, 406, 407, 408, 409, 410, 411, 412, 413, 414, 415, 416, 417, 418, 419, 420, 421, 440, 486, 487, 488, 489, 490, 491, 492, 493, 494, 495, 496, 497, 498, 499, 500, 501, 502, 520, 567, 568, 569, 570, 571, 572, 573, 574, 575, 576, 577, 578, 579, 580, 581, 582, 583, 584, 600, 648, 649, 650, 651, 652, 653, 654, 655, 656, 657, 658, 659, 660, 661, 662, 663, 664, 665, 666, 680, 729, 730, 731, 732, 733, 734, 735, 736, 737, 738, 739, 740, 741, 742, 743, 744, 745, 746, 747, 748, 760, 810, 811, 812, 813, 814, 815, 816, 817, 818, 819, 820, 821, 822, 823, 824, 825, 826, 827, 828, 829, 840, 891, 892, 893, 894, 895, 896, 897, 898, 899, 900, 901, 902, 903, 904, 905, 906, 907, 908, 909, 910, 911, 920, 972, 973, 974, 975, 976, 977, 978, 979, 980, 981, 982, 983, 984, 985, 986, 987, 988, 989, 990, 991, 992, 993, 1000, 1053, 1054, 1055, 1056, 1057, 1058, 1059, 1060, 1061, 1062, 1063, 1064, 1065, 1066, 1067, 1068, 1069, 1070, 1071, 1072, 1073, 1074, 1075, 1080, 1135, 1136, 1137, 1138, 1139, 1140, 1141, 1142, 1143, 1144, 1145, 1146, 1147, 1148, 1149, 1150, 1151, 1152, 1153, 1154, 1155, 1156, 1160, 1217, 1218, 1219, 1220, 1221, 1222, 1223, 1224, 1225, 1226, 1227, 1228, 1229, 1230, 1231, 1232, 1233, 1234, 1235, 1236, 1237, 1238, 1240, 1300, 1301, 1302, 1303, 1304, 1305, 1306, 1307, 1308, 1309, 1310, 1311, 1312, 1313, 1314, 1315, 1316, 1317, 1318, 1319, 1320, 1382, 1383, 1384, 1385, 1386, 1387, 1388, 1389, 1390, 1391, 1392, 1393, 1394, 1395, 1396, 1397, 1398, 1399, 1400, 1401, 1465, 1466, 1467, 1468, 1469, 1470, 1471, 1472, 1473, 1474, 1475, 1476, 1477, 1478, 1479, 1480, 1481, 1482, 1483, 1547, 1548, 1549, 1550, 1551, 1552, 1553, 1554, 1555, 1556, 1557, 1558, 1559, 1560, 1561, 1562, 1563, 1564, 1565, 1629, 1630, 1631, 1632, 1633, 1634, 1635, 1636, 1637, 1638, 1639, 1640, 1641, 1642, 1643, 1644, 1645, 1646, 1647, 1700, 1712, 1713, 1714, 1715, 1716, 1717, 1718, 1719, 1720, 1721, 1722, 1723, 1724, 1725, 1726, 1727, 1728, 1780, 1794, 1795, 1796, 1797, 1798, 1799, 1800, 1801, 1802, 1803, 1804, 1805, 1806, 1807, 1808, 1809, 1810, 1860, 1877, 1878, 1879, 1880, 1881, 1882, 1883, 1884, 1885, 1886, 1887, 1888, 1889, 1890, 1891, 1892, 1940, 1959, 1960, 1961, 1962, 1963, 1964, 1965, 1966, 1967, 1968, 1969, 1970, 1971, 1972, 1973, 1974, 2020, 2040, 2041, 2042, 2043, 2044, 2045, 2046, 2047, 2048, 2049, 2050, 2051, 2052, 2053, 2054, 2055, 2100, 2120, 2124, 2125, 2126, 2127, 2128, 2129, 2130, 2131, 2132, 2133, 2134, 2135, 2136, 2137, 2180, 2200, 2206, 2207, 2208, 2209, 2210, 2211, 2212, 2213, 2214, 2215, 2216, 2217, 2218, 2219, 2260, 2280, 2289, 2290, 2291, 2292, 2293, 2294, 2295, 2296, 2297, 2298, 2299, 2300, 2340, 2360, 2371, 2372, 2373, 2374, 2375, 2376, 2377, 2378, 2379, 2380, 2381, 2382, 2420, 2440, 2454, 2455, 2456, 2457, 2458, 2459, 2460, 2461, 2462, 2463, 2464, 2500, 2520, 2536, 2537, 2538, 2539, 2540, 2541, 2542, 2543, 2544, 2545, 2546, 2580, 2600, 2618, 2619, 2620, 2621, 2622, 2623, 2624, 2625, 2626, 2627, 2660, 2680, 2701, 2702, 2703, 2704, 2705, 2706, 2707, 2708, 2709, 2740, 2760, 2783, 2784, 2785, 2786, 2787, 2788, 2789, 2790, 2791, 2820, 2840, 2866, 2867, 2868, 2869, 2870, 2871, 2872, 2873, 2900, 2920, 2948, 2949, 2950, 2951, 2952, 2953, 2954, 2980, 3000, 3030, 3031, 3032, 3033, 3034, 3035, 3036, 3060, 3080, 3113, 3114, 3115, 3116, 3117, 3118, 3140, 3160, 3195, 3196, 3197, 3198, 3199, 3200, 3220, 3240, 3278, 3279, 3280, 3281, 3300, 3360, 3361, 3362, 3363, 3380, 3443, 3444, 3445, 3460, 3525, 3526, 3540, 3607, 3608, 3620, 3690, 3700, 3772, 3780, 3854, 3860, 3936, 3940, 4018, 4019, 4020, 4099, 4100, 4101, 4180, 4181, 4182, 4183, 4260, 4263, 4264, 4265, 4266, 4340, 4345, 4346, 4347, 4348, 4420, 4427, 4428, 4429, 4430, 4431, 4500, 4508, 4509, 4510, 4511, 4512, 4513, 4580, 4590, 4591, 4592, 4593, 4594, 4595, 4660, 4672, 4673, 4674, 4675, 4676, 4677, 4678, 4740, 4753, 4754, 4755, 4756, 4757, 4758, 4759, 4760, 4820, 4835, 4836, 4837, 4838, 4839, 4840, 4841, 4842, 4843, 4900, 4917, 4918, 4919, 4920, 4921, 4922, 4923, 4924, 4925, 4980, 4999, 5000, 5001, 5002, 5003, 5004, 5005, 5006, 5007, 5060, 5080, 5081, 5082, 5083, 5084, 5085, 5086, 5087, 5088, 5089, 5090, 5140, 5162, 5163, 5164, 5165, 5166, 5167, 5168, 5169, 5170, 5171, 5172, 5220, 5244, 5245, 5246, 5247, 5248, 5249, 5250, 5251, 5252, 5253, 5254, 5255, 5300, 5326, 5327, 5328, 5329, 5330, 5331, 5332, 5333, 5334, 5335, 5336, 5337, 5380, 5407, 5408, 5409, 5410, 5411, 5412, 5413, 5414, 5415, 5416, 5417, 5418, 5419, 5420, 5460, 5489, 5490, 5491, 5492, 5493, 5494, 5495, 5496, 5497, 5498, 5499, 5500, 5501, 5502, 5540, 5571, 5572, 5573, 5574, 5575, 5576, 5577, 5578, 5579, 5580, 5581, 5582, 5583, 5584, 5620, 5653, 5654, 5655, 5656, 5657, 5658, 5659, 5660, 5661, 5662, 5663, 5664, 5665, 5666, 5667, 5700, 5734, 5735, 5736, 5737, 5738, 5739, 5740, 5741, 5742, 5743, 5744, 5745, 5746, 5747, 5748, 5749, 5780, 5816, 5817, 5818, 5819, 5820, 5821, 5822, 5823, 5824, 5825, 5826, 5827, 5828, 5829, 5830, 5831, 5860, 5898, 5899, 5900, 5901, 5902, 5903, 5904, 5905, 5906, 5907, 5908, 5909, 5910, 5911, 5912, 5940, 5979, 5980, 5981, 5982, 5983, 5984, 5985, 5986, 5987, 5988, 5989, 5990, 5991, 5992, 5993, 6020, 6061, 6062, 6063, 6064, 6065, 6066, 6067, 6068, 6069, 6070, 6071, 6072, 6073, 6074, 6100, 6143, 6144, 6145, 6146, 6147, 6148, 6149, 6150, 6151, 6152, 6153, 6154, 6155, 6180, 6225, 6226, 6227, 6228, 6229, 6230, 6231, 6232, 6233, 6234, 6235, 6236, 6260, 6306, 6307, 6308, 6309, 6310, 6311, 6312, 6313, 6314, 6315, 6316, 6317, 6340, 6388, 6389, 6390, 6391, 6392, 6393, 6394, 6395, 6396, 6397, 6398, 6420, 6470, 6471, 6472, 6473, 6474, 6475, 6476, 6477, 6478, 6479, 6500, 6552, 6553, 6554, 6555, 6556, 6557, 6558, 6559, 6560]\n",
      "CPU times: user 189 ms, sys: 20.1 ms, total: 209 ms\n",
      "Wall time: 208 ms\n"
     ]
    }
   ],
   "source": [
    "%%time\n",
    "n_total = len(simulation.dataframe)\n",
    "n_train = len(simulation.dataframe[simulation.dataframe.type_of == \"train\"])\n",
    "n_val = len(simulation.dataframe[simulation.dataframe.type_of == \"val\"])\n",
    "n_test = len(simulation.dataframe[simulation.dataframe.type_of == \"test\"])\n",
    "n_train_hamiltonians = len(simulation.train_ids)\n",
    "n_val_hamiltonians = len(simulation.val_ids)\n",
    "n_test_hamiltonians = len(simulation.test_ids)\n",
    "n_total_hamiltonians = n_train_hamiltonians + n_val_hamiltonians + n_test_hamiltonians\n",
    "\n",
    "print(\"% train: \", n_train/n_total)\n",
    "print(\"% val: \",  n_val/n_total)\n",
    "print(\"% test: \", n_test/n_total)\n",
    "print(\"% train + val + test: \", (n_train+n_val+n_test)/n_total)\n",
    "print(\"\\n\")\n",
    "print(\"number of train hamiltonians: \", n_train_hamiltonians)\n",
    "print(\"number of val hamiltonians: \", n_val_hamiltonians)\n",
    "print(\"number of test hamiltonians: \", n_test_hamiltonians)\n",
    "print(\"total number of hamiltonians: \", n_total_hamiltonians)\n",
    "print(\"\\n\")\n",
    "print(\"train ids: \", simulation.train_ids)\n",
    "print(\"val ids: \", simulation.val_ids)\n",
    "print(\"test ids: \", simulation.test_ids)"
   ]
  },
  {
   "cell_type": "markdown",
   "metadata": {
    "papermill": {
     "duration": 0.019754,
     "end_time": "2020-07-18T15:45:34.644722",
     "exception": false,
     "start_time": "2020-07-18T15:45:34.624968",
     "status": "completed"
    },
    "tags": []
   },
   "source": [
    "## Running a simulation"
   ]
  },
  {
   "cell_type": "code",
   "execution_count": 27,
   "metadata": {
    "execution": {
     "iopub.execute_input": "2020-07-18T15:45:34.685579Z",
     "iopub.status.busy": "2020-07-18T15:45:34.685230Z",
     "iopub.status.idle": "2020-07-18T16:19:37.864230Z",
     "shell.execute_reply": "2020-07-18T16:19:37.864544Z"
    },
    "papermill": {
     "duration": 2043.200468,
     "end_time": "2020-07-18T16:19:37.864609",
     "exception": false,
     "start_time": "2020-07-18T15:45:34.664141",
     "status": "completed"
    },
    "tags": []
   },
   "outputs": [
    {
     "name": "stderr",
     "output_type": "stream",
     "text": [
      "\r",
      "running experiments:   0%|          | 0/100 [00:00<?, ?it/s]"
     ]
    },
    {
     "name": "stdout",
     "output_type": "stream",
     "text": [
      "Simulation mode:  dct\n"
     ]
    },
    {
     "name": "stderr",
     "output_type": "stream",
     "text": [
      "\r",
      "running experiments:   1%|          | 1/100 [00:19<32:25, 19.65s/it]"
     ]
    },
    {
     "name": "stderr",
     "output_type": "stream",
     "text": [
      "\r",
      "running experiments:   2%|▏         | 2/100 [00:41<32:56, 20.17s/it]"
     ]
    },
    {
     "name": "stderr",
     "output_type": "stream",
     "text": [
      "\r",
      "running experiments:   3%|▎         | 3/100 [01:02<33:18, 20.60s/it]"
     ]
    },
    {
     "name": "stderr",
     "output_type": "stream",
     "text": [
      "\r",
      "running experiments:   4%|▍         | 4/100 [01:22<32:48, 20.51s/it]"
     ]
    },
    {
     "name": "stderr",
     "output_type": "stream",
     "text": [
      "\r",
      "running experiments:   5%|▌         | 5/100 [01:43<32:24, 20.47s/it]"
     ]
    },
    {
     "name": "stderr",
     "output_type": "stream",
     "text": [
      "\r",
      "running experiments:   6%|▌         | 6/100 [02:03<31:56, 20.39s/it]"
     ]
    },
    {
     "name": "stderr",
     "output_type": "stream",
     "text": [
      "\r",
      "running experiments:   7%|▋         | 7/100 [02:23<31:28, 20.31s/it]"
     ]
    },
    {
     "name": "stderr",
     "output_type": "stream",
     "text": [
      "\r",
      "running experiments:   8%|▊         | 8/100 [02:44<31:22, 20.46s/it]"
     ]
    },
    {
     "name": "stderr",
     "output_type": "stream",
     "text": [
      "\r",
      "running experiments:   9%|▉         | 9/100 [03:06<31:35, 20.83s/it]"
     ]
    },
    {
     "name": "stderr",
     "output_type": "stream",
     "text": [
      "\r",
      "running experiments:  10%|█         | 10/100 [03:27<31:33, 21.04s/it]"
     ]
    },
    {
     "name": "stderr",
     "output_type": "stream",
     "text": [
      "\r",
      "running experiments:  11%|█         | 11/100 [03:48<31:00, 20.91s/it]"
     ]
    },
    {
     "name": "stderr",
     "output_type": "stream",
     "text": [
      "\r",
      "running experiments:  12%|█▏        | 12/100 [04:08<30:18, 20.66s/it]"
     ]
    },
    {
     "name": "stderr",
     "output_type": "stream",
     "text": [
      "\r",
      "running experiments:  13%|█▎        | 13/100 [04:28<29:48, 20.56s/it]"
     ]
    },
    {
     "name": "stderr",
     "output_type": "stream",
     "text": [
      "\r",
      "running experiments:  14%|█▍        | 14/100 [04:49<29:23, 20.51s/it]"
     ]
    },
    {
     "name": "stderr",
     "output_type": "stream",
     "text": [
      "\r",
      "running experiments:  15%|█▌        | 15/100 [05:08<28:40, 20.24s/it]"
     ]
    },
    {
     "name": "stderr",
     "output_type": "stream",
     "text": [
      "\r",
      "running experiments:  16%|█▌        | 16/100 [05:29<28:24, 20.29s/it]"
     ]
    },
    {
     "name": "stderr",
     "output_type": "stream",
     "text": [
      "\r",
      "running experiments:  17%|█▋        | 17/100 [05:49<28:11, 20.38s/it]"
     ]
    },
    {
     "name": "stderr",
     "output_type": "stream",
     "text": [
      "\r",
      "running experiments:  18%|█▊        | 18/100 [06:10<28:06, 20.57s/it]"
     ]
    },
    {
     "name": "stderr",
     "output_type": "stream",
     "text": [
      "\r",
      "running experiments:  19%|█▉        | 19/100 [06:35<29:28, 21.83s/it]"
     ]
    },
    {
     "name": "stderr",
     "output_type": "stream",
     "text": [
      "\r",
      "running experiments:  20%|██        | 20/100 [06:56<28:37, 21.47s/it]"
     ]
    },
    {
     "name": "stderr",
     "output_type": "stream",
     "text": [
      "\r",
      "running experiments:  21%|██        | 21/100 [07:16<27:48, 21.12s/it]"
     ]
    },
    {
     "name": "stderr",
     "output_type": "stream",
     "text": [
      "\r",
      "running experiments:  22%|██▏       | 22/100 [07:37<27:27, 21.12s/it]"
     ]
    },
    {
     "name": "stderr",
     "output_type": "stream",
     "text": [
      "\r",
      "running experiments:  23%|██▎       | 23/100 [07:58<27:01, 21.05s/it]"
     ]
    },
    {
     "name": "stderr",
     "output_type": "stream",
     "text": [
      "\r",
      "running experiments:  24%|██▍       | 24/100 [08:18<26:20, 20.79s/it]"
     ]
    },
    {
     "name": "stderr",
     "output_type": "stream",
     "text": [
      "\r",
      "running experiments:  25%|██▌       | 25/100 [08:39<26:07, 20.89s/it]"
     ]
    },
    {
     "name": "stderr",
     "output_type": "stream",
     "text": [
      "\r",
      "running experiments:  26%|██▌       | 26/100 [08:59<25:30, 20.68s/it]"
     ]
    },
    {
     "name": "stderr",
     "output_type": "stream",
     "text": [
      "\r",
      "running experiments:  27%|██▋       | 27/100 [09:20<24:57, 20.51s/it]"
     ]
    },
    {
     "name": "stderr",
     "output_type": "stream",
     "text": [
      "\r",
      "running experiments:  28%|██▊       | 28/100 [09:40<24:41, 20.58s/it]"
     ]
    },
    {
     "name": "stderr",
     "output_type": "stream",
     "text": [
      "\r",
      "running experiments:  29%|██▉       | 29/100 [10:02<24:35, 20.78s/it]"
     ]
    },
    {
     "name": "stderr",
     "output_type": "stream",
     "text": [
      "\r",
      "running experiments:  30%|███       | 30/100 [10:22<24:07, 20.67s/it]"
     ]
    },
    {
     "name": "stderr",
     "output_type": "stream",
     "text": [
      "\r",
      "running experiments:  31%|███       | 31/100 [10:42<23:32, 20.47s/it]"
     ]
    },
    {
     "name": "stderr",
     "output_type": "stream",
     "text": [
      "\r",
      "running experiments:  32%|███▏      | 32/100 [11:02<23:04, 20.35s/it]"
     ]
    },
    {
     "name": "stderr",
     "output_type": "stream",
     "text": [
      "\r",
      "running experiments:  33%|███▎      | 33/100 [11:23<22:52, 20.49s/it]"
     ]
    },
    {
     "name": "stderr",
     "output_type": "stream",
     "text": [
      "\r",
      "running experiments:  34%|███▍      | 34/100 [11:43<22:24, 20.38s/it]"
     ]
    },
    {
     "name": "stderr",
     "output_type": "stream",
     "text": [
      "\r",
      "running experiments:  35%|███▌      | 35/100 [12:03<21:49, 20.14s/it]"
     ]
    },
    {
     "name": "stderr",
     "output_type": "stream",
     "text": [
      "\r",
      "running experiments:  36%|███▌      | 36/100 [12:23<21:26, 20.09s/it]"
     ]
    },
    {
     "name": "stderr",
     "output_type": "stream",
     "text": [
      "\r",
      "running experiments:  37%|███▋      | 37/100 [12:43<21:09, 20.15s/it]"
     ]
    },
    {
     "name": "stderr",
     "output_type": "stream",
     "text": [
      "\r",
      "running experiments:  38%|███▊      | 38/100 [13:03<20:51, 20.19s/it]"
     ]
    },
    {
     "name": "stderr",
     "output_type": "stream",
     "text": [
      "\r",
      "running experiments:  39%|███▉      | 39/100 [13:24<20:37, 20.28s/it]"
     ]
    },
    {
     "name": "stderr",
     "output_type": "stream",
     "text": [
      "\r",
      "running experiments:  40%|████      | 40/100 [13:45<20:29, 20.49s/it]"
     ]
    },
    {
     "name": "stderr",
     "output_type": "stream",
     "text": [
      "\r",
      "running experiments:  41%|████      | 41/100 [14:05<20:10, 20.52s/it]"
     ]
    },
    {
     "name": "stderr",
     "output_type": "stream",
     "text": [
      "\r",
      "running experiments:  42%|████▏     | 42/100 [14:25<19:44, 20.42s/it]"
     ]
    },
    {
     "name": "stderr",
     "output_type": "stream",
     "text": [
      "\r",
      "running experiments:  43%|████▎     | 43/100 [14:46<19:23, 20.42s/it]"
     ]
    },
    {
     "name": "stderr",
     "output_type": "stream",
     "text": [
      "\r",
      "running experiments:  44%|████▍     | 44/100 [15:06<18:58, 20.34s/it]"
     ]
    },
    {
     "name": "stderr",
     "output_type": "stream",
     "text": [
      "\r",
      "running experiments:  45%|████▌     | 45/100 [15:31<19:50, 21.64s/it]"
     ]
    },
    {
     "name": "stderr",
     "output_type": "stream",
     "text": [
      "\r",
      "running experiments:  46%|████▌     | 46/100 [15:51<19:07, 21.25s/it]"
     ]
    },
    {
     "name": "stderr",
     "output_type": "stream",
     "text": [
      "\r",
      "running experiments:  47%|████▋     | 47/100 [16:12<18:37, 21.09s/it]"
     ]
    },
    {
     "name": "stderr",
     "output_type": "stream",
     "text": [
      "\r",
      "running experiments:  48%|████▊     | 48/100 [16:32<18:07, 20.92s/it]"
     ]
    },
    {
     "name": "stderr",
     "output_type": "stream",
     "text": [
      "\r",
      "running experiments:  49%|████▉     | 49/100 [16:52<17:37, 20.73s/it]"
     ]
    },
    {
     "name": "stderr",
     "output_type": "stream",
     "text": [
      "\r",
      "running experiments:  50%|█████     | 50/100 [17:13<17:16, 20.72s/it]"
     ]
    },
    {
     "name": "stderr",
     "output_type": "stream",
     "text": [
      "\r",
      "running experiments:  51%|█████     | 51/100 [17:33<16:49, 20.60s/it]"
     ]
    },
    {
     "name": "stderr",
     "output_type": "stream",
     "text": [
      "\r",
      "running experiments:  52%|█████▏    | 52/100 [17:54<16:28, 20.59s/it]"
     ]
    },
    {
     "name": "stderr",
     "output_type": "stream",
     "text": [
      "\r",
      "running experiments:  53%|█████▎    | 53/100 [18:14<15:54, 20.32s/it]"
     ]
    },
    {
     "name": "stderr",
     "output_type": "stream",
     "text": [
      "\r",
      "running experiments:  54%|█████▍    | 54/100 [18:34<15:37, 20.37s/it]"
     ]
    },
    {
     "name": "stderr",
     "output_type": "stream",
     "text": [
      "\r",
      "running experiments:  55%|█████▌    | 55/100 [18:54<15:13, 20.29s/it]"
     ]
    },
    {
     "name": "stderr",
     "output_type": "stream",
     "text": [
      "\r",
      "running experiments:  56%|█████▌    | 56/100 [19:14<14:42, 20.05s/it]"
     ]
    },
    {
     "name": "stderr",
     "output_type": "stream",
     "text": [
      "\r",
      "running experiments:  57%|█████▋    | 57/100 [19:34<14:27, 20.18s/it]"
     ]
    },
    {
     "name": "stderr",
     "output_type": "stream",
     "text": [
      "\r",
      "running experiments:  58%|█████▊    | 58/100 [19:55<14:16, 20.39s/it]"
     ]
    },
    {
     "name": "stderr",
     "output_type": "stream",
     "text": [
      "\r",
      "running experiments:  59%|█████▉    | 59/100 [20:15<13:48, 20.22s/it]"
     ]
    },
    {
     "name": "stderr",
     "output_type": "stream",
     "text": [
      "\r",
      "running experiments:  60%|██████    | 60/100 [20:36<13:40, 20.50s/it]"
     ]
    },
    {
     "name": "stderr",
     "output_type": "stream",
     "text": [
      "\r",
      "running experiments:  61%|██████    | 61/100 [20:56<13:13, 20.35s/it]"
     ]
    },
    {
     "name": "stderr",
     "output_type": "stream",
     "text": [
      "\r",
      "running experiments:  62%|██████▏   | 62/100 [21:16<12:47, 20.20s/it]"
     ]
    },
    {
     "name": "stderr",
     "output_type": "stream",
     "text": [
      "\r",
      "running experiments:  63%|██████▎   | 63/100 [21:36<12:25, 20.14s/it]"
     ]
    },
    {
     "name": "stderr",
     "output_type": "stream",
     "text": [
      "\r",
      "running experiments:  64%|██████▍   | 64/100 [21:56<12:06, 20.18s/it]"
     ]
    },
    {
     "name": "stderr",
     "output_type": "stream",
     "text": [
      "\r",
      "running experiments:  65%|██████▌   | 65/100 [22:18<11:59, 20.55s/it]"
     ]
    },
    {
     "name": "stderr",
     "output_type": "stream",
     "text": [
      "\r",
      "running experiments:  66%|██████▌   | 66/100 [22:38<11:35, 20.44s/it]"
     ]
    },
    {
     "name": "stderr",
     "output_type": "stream",
     "text": [
      "\r",
      "running experiments:  67%|██████▋   | 67/100 [22:58<11:15, 20.46s/it]"
     ]
    },
    {
     "name": "stderr",
     "output_type": "stream",
     "text": [
      "\r",
      "running experiments:  68%|██████▊   | 68/100 [23:19<10:53, 20.42s/it]"
     ]
    },
    {
     "name": "stderr",
     "output_type": "stream",
     "text": [
      "\r",
      "running experiments:  69%|██████▉   | 69/100 [23:40<10:39, 20.63s/it]"
     ]
    },
    {
     "name": "stderr",
     "output_type": "stream",
     "text": [
      "\r",
      "running experiments:  70%|███████   | 70/100 [24:00<10:14, 20.48s/it]"
     ]
    },
    {
     "name": "stderr",
     "output_type": "stream",
     "text": [
      "\r",
      "running experiments:  71%|███████   | 71/100 [24:20<09:51, 20.39s/it]"
     ]
    },
    {
     "name": "stderr",
     "output_type": "stream",
     "text": [
      "\r",
      "running experiments:  72%|███████▏  | 72/100 [24:40<09:25, 20.18s/it]"
     ]
    },
    {
     "name": "stderr",
     "output_type": "stream",
     "text": [
      "\r",
      "running experiments:  73%|███████▎  | 73/100 [25:00<09:02, 20.10s/it]"
     ]
    },
    {
     "name": "stderr",
     "output_type": "stream",
     "text": [
      "\r",
      "running experiments:  74%|███████▍  | 74/100 [25:19<08:36, 19.85s/it]"
     ]
    },
    {
     "name": "stderr",
     "output_type": "stream",
     "text": [
      "\r",
      "running experiments:  75%|███████▌  | 75/100 [25:40<08:23, 20.13s/it]"
     ]
    },
    {
     "name": "stderr",
     "output_type": "stream",
     "text": [
      "\r",
      "running experiments:  76%|███████▌  | 76/100 [26:00<08:05, 20.24s/it]"
     ]
    },
    {
     "name": "stderr",
     "output_type": "stream",
     "text": [
      "\r",
      "running experiments:  77%|███████▋  | 77/100 [26:21<07:45, 20.26s/it]"
     ]
    },
    {
     "name": "stderr",
     "output_type": "stream",
     "text": [
      "\r",
      "running experiments:  78%|███████▊  | 78/100 [26:40<07:21, 20.08s/it]"
     ]
    },
    {
     "name": "stderr",
     "output_type": "stream",
     "text": [
      "\r",
      "running experiments:  79%|███████▉  | 79/100 [27:01<07:03, 20.17s/it]"
     ]
    },
    {
     "name": "stderr",
     "output_type": "stream",
     "text": [
      "\r",
      "running experiments:  80%|████████  | 80/100 [27:20<06:39, 19.97s/it]"
     ]
    },
    {
     "name": "stderr",
     "output_type": "stream",
     "text": [
      "\r",
      "running experiments:  81%|████████  | 81/100 [27:40<06:19, 19.98s/it]"
     ]
    },
    {
     "name": "stderr",
     "output_type": "stream",
     "text": [
      "\r",
      "running experiments:  82%|████████▏ | 82/100 [28:00<05:59, 19.97s/it]"
     ]
    },
    {
     "name": "stderr",
     "output_type": "stream",
     "text": [
      "\r",
      "running experiments:  83%|████████▎ | 83/100 [28:20<05:41, 20.10s/it]"
     ]
    },
    {
     "name": "stderr",
     "output_type": "stream",
     "text": [
      "\r",
      "running experiments:  84%|████████▍ | 84/100 [28:41<05:21, 20.11s/it]"
     ]
    },
    {
     "name": "stderr",
     "output_type": "stream",
     "text": [
      "\r",
      "running experiments:  85%|████████▌ | 85/100 [29:01<05:04, 20.28s/it]"
     ]
    },
    {
     "name": "stderr",
     "output_type": "stream",
     "text": [
      "\r",
      "running experiments:  86%|████████▌ | 86/100 [29:22<04:45, 20.42s/it]"
     ]
    },
    {
     "name": "stderr",
     "output_type": "stream",
     "text": [
      "\r",
      "running experiments:  87%|████████▋ | 87/100 [29:43<04:26, 20.48s/it]"
     ]
    },
    {
     "name": "stderr",
     "output_type": "stream",
     "text": [
      "\r",
      "running experiments:  88%|████████▊ | 88/100 [30:03<04:05, 20.46s/it]"
     ]
    },
    {
     "name": "stderr",
     "output_type": "stream",
     "text": [
      "\r",
      "running experiments:  89%|████████▉ | 89/100 [30:23<03:43, 20.32s/it]"
     ]
    },
    {
     "name": "stderr",
     "output_type": "stream",
     "text": [
      "\r",
      "running experiments:  90%|█████████ | 90/100 [30:43<03:22, 20.28s/it]"
     ]
    },
    {
     "name": "stderr",
     "output_type": "stream",
     "text": [
      "\r",
      "running experiments:  91%|█████████ | 91/100 [31:04<03:03, 20.39s/it]"
     ]
    },
    {
     "name": "stderr",
     "output_type": "stream",
     "text": [
      "\r",
      "running experiments:  92%|█████████▏| 92/100 [31:24<02:43, 20.40s/it]"
     ]
    },
    {
     "name": "stderr",
     "output_type": "stream",
     "text": [
      "\r",
      "running experiments:  93%|█████████▎| 93/100 [31:44<02:21, 20.28s/it]"
     ]
    },
    {
     "name": "stderr",
     "output_type": "stream",
     "text": [
      "\r",
      "running experiments:  94%|█████████▍| 94/100 [32:03<01:59, 19.95s/it]"
     ]
    },
    {
     "name": "stderr",
     "output_type": "stream",
     "text": [
      "\r",
      "running experiments:  95%|█████████▌| 95/100 [32:23<01:39, 19.84s/it]"
     ]
    },
    {
     "name": "stderr",
     "output_type": "stream",
     "text": [
      "\r",
      "running experiments:  96%|█████████▌| 96/100 [32:43<01:18, 19.75s/it]"
     ]
    },
    {
     "name": "stderr",
     "output_type": "stream",
     "text": [
      "\r",
      "running experiments:  97%|█████████▋| 97/100 [33:03<00:59, 19.97s/it]"
     ]
    },
    {
     "name": "stderr",
     "output_type": "stream",
     "text": [
      "\r",
      "running experiments:  98%|█████████▊| 98/100 [33:23<00:39, 19.95s/it]"
     ]
    },
    {
     "name": "stderr",
     "output_type": "stream",
     "text": [
      "\r",
      "running experiments:  99%|█████████▉| 99/100 [33:43<00:19, 19.88s/it]"
     ]
    },
    {
     "name": "stderr",
     "output_type": "stream",
     "text": [
      "\r",
      "running experiments: 100%|██████████| 100/100 [34:03<00:00, 19.90s/it]"
     ]
    },
    {
     "name": "stderr",
     "output_type": "stream",
     "text": [
      "\r",
      "running experiments: 100%|██████████| 100/100 [34:03<00:00, 20.43s/it]"
     ]
    },
    {
     "name": "stdout",
     "output_type": "stream",
     "text": [
      "CPU times: user 3h 43min 39s, sys: 9.64 s, total: 3h 43min 49s\n",
      "Wall time: 34min 3s\n"
     ]
    },
    {
     "name": "stderr",
     "output_type": "stream",
     "text": [
      "\n"
     ]
    }
   ],
   "source": [
    "\n",
    "%%time\n",
    "simulation.run_simulation(n_experiments, start_n, fit_params,shuffle_rows, pred_params, random_features, \\\n",
    "                          store_in_lists, save_eigenvector, save_hamiltonian, save_accuracy,\\\n",
    "                          save_models)\n",
    "if simulation.fourier_mode is not None:\n",
    "    simulation.fourier_dataframe.head(10)"
   ]
  },
  {
   "cell_type": "code",
   "execution_count": 28,
   "metadata": {
    "execution": {
     "iopub.execute_input": "2020-07-18T16:19:37.940443Z",
     "iopub.status.busy": "2020-07-18T16:19:37.939935Z",
     "iopub.status.idle": "2020-07-18T16:19:37.964824Z",
     "shell.execute_reply": "2020-07-18T16:19:37.964491Z"
    },
    "papermill": {
     "duration": 0.06327,
     "end_time": "2020-07-18T16:19:37.964879",
     "exception": false,
     "start_time": "2020-07-18T16:19:37.901609",
     "status": "completed"
    },
    "tags": []
   },
   "outputs": [
    {
     "data": {
      "text/html": [
       "<div>\n",
       "<style scoped>\n",
       "    .dataframe tbody tr th:only-of-type {\n",
       "        vertical-align: middle;\n",
       "    }\n",
       "\n",
       "    .dataframe tbody tr th {\n",
       "        vertical-align: top;\n",
       "    }\n",
       "\n",
       "    .dataframe thead th {\n",
       "        text-align: right;\n",
       "    }\n",
       "</style>\n",
       "<table border=\"1\" class=\"dataframe\">\n",
       "  <thead>\n",
       "    <tr style=\"text-align: right;\">\n",
       "      <th></th>\n",
       "      <th>id</th>\n",
       "      <th>path</th>\n",
       "      <th>t1</th>\n",
       "      <th>t2</th>\n",
       "      <th>winding</th>\n",
       "      <th>phase</th>\n",
       "      <th>pred_phase</th>\n",
       "      <th>type_of</th>\n",
       "      <th>feat0</th>\n",
       "      <th>feat1</th>\n",
       "      <th>...</th>\n",
       "      <th>feat90</th>\n",
       "      <th>feat91</th>\n",
       "      <th>feat92</th>\n",
       "      <th>feat93</th>\n",
       "      <th>feat94</th>\n",
       "      <th>feat95</th>\n",
       "      <th>feat96</th>\n",
       "      <th>feat97</th>\n",
       "      <th>feat98</th>\n",
       "      <th>feat99</th>\n",
       "    </tr>\n",
       "  </thead>\n",
       "  <tbody>\n",
       "    <tr>\n",
       "      <th>0</th>\n",
       "      <td>0</td>\n",
       "      <td>H_-2_-2_0.501338.dat</td>\n",
       "      <td>-2.0</td>\n",
       "      <td>-2.0</td>\n",
       "      <td>0.501338</td>\n",
       "      <td>999</td>\n",
       "      <td>666</td>\n",
       "      <td>test</td>\n",
       "      <td>-0.130965</td>\n",
       "      <td>0.301130</td>\n",
       "      <td>...</td>\n",
       "      <td>-0.080279</td>\n",
       "      <td>-0.115687</td>\n",
       "      <td>-0.174988</td>\n",
       "      <td>0.245064</td>\n",
       "      <td>0.319763</td>\n",
       "      <td>-0.059082</td>\n",
       "      <td>-0.000556</td>\n",
       "      <td>-0.245133</td>\n",
       "      <td>-0.301130</td>\n",
       "      <td>0.130965</td>\n",
       "    </tr>\n",
       "    <tr>\n",
       "      <th>1</th>\n",
       "      <td>0</td>\n",
       "      <td>H_-2_-2_0.501338.dat</td>\n",
       "      <td>-2.0</td>\n",
       "      <td>-2.0</td>\n",
       "      <td>0.501338</td>\n",
       "      <td>999</td>\n",
       "      <td>666</td>\n",
       "      <td>test</td>\n",
       "      <td>-0.130965</td>\n",
       "      <td>-0.301130</td>\n",
       "      <td>...</td>\n",
       "      <td>-0.080279</td>\n",
       "      <td>0.115687</td>\n",
       "      <td>-0.174988</td>\n",
       "      <td>-0.245064</td>\n",
       "      <td>0.319763</td>\n",
       "      <td>0.059082</td>\n",
       "      <td>-0.000556</td>\n",
       "      <td>0.245133</td>\n",
       "      <td>-0.301130</td>\n",
       "      <td>-0.130965</td>\n",
       "    </tr>\n",
       "    <tr>\n",
       "      <th>2</th>\n",
       "      <td>0</td>\n",
       "      <td>H_-2_-2_0.501338.dat</td>\n",
       "      <td>-2.0</td>\n",
       "      <td>-2.0</td>\n",
       "      <td>0.501338</td>\n",
       "      <td>999</td>\n",
       "      <td>666</td>\n",
       "      <td>test</td>\n",
       "      <td>-0.148414</td>\n",
       "      <td>-0.042467</td>\n",
       "      <td>...</td>\n",
       "      <td>0.185442</td>\n",
       "      <td>-0.080620</td>\n",
       "      <td>-0.066211</td>\n",
       "      <td>-0.121339</td>\n",
       "      <td>-0.151700</td>\n",
       "      <td>0.192513</td>\n",
       "      <td>0.191642</td>\n",
       "      <td>-0.050956</td>\n",
       "      <td>-0.042467</td>\n",
       "      <td>-0.148414</td>\n",
       "    </tr>\n",
       "    <tr>\n",
       "      <th>3</th>\n",
       "      <td>0</td>\n",
       "      <td>H_-2_-2_0.501338.dat</td>\n",
       "      <td>-2.0</td>\n",
       "      <td>-2.0</td>\n",
       "      <td>0.501338</td>\n",
       "      <td>999</td>\n",
       "      <td>666</td>\n",
       "      <td>test</td>\n",
       "      <td>-0.069630</td>\n",
       "      <td>-0.026147</td>\n",
       "      <td>...</td>\n",
       "      <td>0.102009</td>\n",
       "      <td>-0.100671</td>\n",
       "      <td>-0.081002</td>\n",
       "      <td>-0.020715</td>\n",
       "      <td>-0.058717</td>\n",
       "      <td>0.115834</td>\n",
       "      <td>0.118274</td>\n",
       "      <td>-0.054666</td>\n",
       "      <td>-0.026147</td>\n",
       "      <td>-0.069630</td>\n",
       "    </tr>\n",
       "    <tr>\n",
       "      <th>4</th>\n",
       "      <td>0</td>\n",
       "      <td>H_-2_-2_0.501338.dat</td>\n",
       "      <td>-2.0</td>\n",
       "      <td>-2.0</td>\n",
       "      <td>0.501338</td>\n",
       "      <td>999</td>\n",
       "      <td>666</td>\n",
       "      <td>test</td>\n",
       "      <td>0.010206</td>\n",
       "      <td>-0.014625</td>\n",
       "      <td>...</td>\n",
       "      <td>0.047555</td>\n",
       "      <td>-0.041368</td>\n",
       "      <td>-0.018852</td>\n",
       "      <td>-0.017673</td>\n",
       "      <td>-0.023377</td>\n",
       "      <td>0.031447</td>\n",
       "      <td>0.010280</td>\n",
       "      <td>0.000925</td>\n",
       "      <td>0.014625</td>\n",
       "      <td>-0.010206</td>\n",
       "    </tr>\n",
       "    <tr>\n",
       "      <th>5</th>\n",
       "      <td>0</td>\n",
       "      <td>H_-2_-2_0.501338.dat</td>\n",
       "      <td>-2.0</td>\n",
       "      <td>-2.0</td>\n",
       "      <td>0.501338</td>\n",
       "      <td>999</td>\n",
       "      <td>666</td>\n",
       "      <td>test</td>\n",
       "      <td>0.116962</td>\n",
       "      <td>0.021475</td>\n",
       "      <td>...</td>\n",
       "      <td>-0.086901</td>\n",
       "      <td>-0.045676</td>\n",
       "      <td>-0.028034</td>\n",
       "      <td>0.129266</td>\n",
       "      <td>0.130083</td>\n",
       "      <td>-0.098190</td>\n",
       "      <td>-0.104188</td>\n",
       "      <td>-0.007911</td>\n",
       "      <td>0.021475</td>\n",
       "      <td>0.116962</td>\n",
       "    </tr>\n",
       "    <tr>\n",
       "      <th>6</th>\n",
       "      <td>0</td>\n",
       "      <td>H_-2_-2_0.501338.dat</td>\n",
       "      <td>-2.0</td>\n",
       "      <td>-2.0</td>\n",
       "      <td>0.501338</td>\n",
       "      <td>999</td>\n",
       "      <td>666</td>\n",
       "      <td>test</td>\n",
       "      <td>0.037175</td>\n",
       "      <td>-0.095882</td>\n",
       "      <td>...</td>\n",
       "      <td>-0.027490</td>\n",
       "      <td>0.046168</td>\n",
       "      <td>0.063419</td>\n",
       "      <td>-0.041630</td>\n",
       "      <td>-0.085769</td>\n",
       "      <td>-0.010604</td>\n",
       "      <td>-0.009822</td>\n",
       "      <td>0.084024</td>\n",
       "      <td>0.095882</td>\n",
       "      <td>-0.037175</td>\n",
       "    </tr>\n",
       "    <tr>\n",
       "      <th>7</th>\n",
       "      <td>0</td>\n",
       "      <td>H_-2_-2_0.501338.dat</td>\n",
       "      <td>-2.0</td>\n",
       "      <td>-2.0</td>\n",
       "      <td>0.501338</td>\n",
       "      <td>999</td>\n",
       "      <td>666</td>\n",
       "      <td>test</td>\n",
       "      <td>0.027709</td>\n",
       "      <td>-0.038180</td>\n",
       "      <td>...</td>\n",
       "      <td>0.123344</td>\n",
       "      <td>-0.114320</td>\n",
       "      <td>-0.057118</td>\n",
       "      <td>-0.040291</td>\n",
       "      <td>-0.061263</td>\n",
       "      <td>0.087153</td>\n",
       "      <td>0.029599</td>\n",
       "      <td>-0.001276</td>\n",
       "      <td>0.038180</td>\n",
       "      <td>-0.027709</td>\n",
       "    </tr>\n",
       "    <tr>\n",
       "      <th>8</th>\n",
       "      <td>0</td>\n",
       "      <td>H_-2_-2_0.501338.dat</td>\n",
       "      <td>-2.0</td>\n",
       "      <td>-2.0</td>\n",
       "      <td>0.501338</td>\n",
       "      <td>999</td>\n",
       "      <td>666</td>\n",
       "      <td>test</td>\n",
       "      <td>0.059795</td>\n",
       "      <td>0.030272</td>\n",
       "      <td>...</td>\n",
       "      <td>-0.082347</td>\n",
       "      <td>0.140996</td>\n",
       "      <td>0.128386</td>\n",
       "      <td>-0.036608</td>\n",
       "      <td>0.029628</td>\n",
       "      <td>-0.124877</td>\n",
       "      <td>-0.140478</td>\n",
       "      <td>0.088573</td>\n",
       "      <td>0.030272</td>\n",
       "      <td>0.059795</td>\n",
       "    </tr>\n",
       "    <tr>\n",
       "      <th>9</th>\n",
       "      <td>0</td>\n",
       "      <td>H_-2_-2_0.501338.dat</td>\n",
       "      <td>-2.0</td>\n",
       "      <td>-2.0</td>\n",
       "      <td>0.501338</td>\n",
       "      <td>999</td>\n",
       "      <td>666</td>\n",
       "      <td>test</td>\n",
       "      <td>0.141605</td>\n",
       "      <td>0.013497</td>\n",
       "      <td>...</td>\n",
       "      <td>-0.035718</td>\n",
       "      <td>-0.110014</td>\n",
       "      <td>-0.082452</td>\n",
       "      <td>0.146084</td>\n",
       "      <td>0.152588</td>\n",
       "      <td>-0.067575</td>\n",
       "      <td>-0.087187</td>\n",
       "      <td>-0.043484</td>\n",
       "      <td>0.013497</td>\n",
       "      <td>0.141605</td>\n",
       "    </tr>\n",
       "  </tbody>\n",
       "</table>\n",
       "<p>10 rows × 108 columns</p>\n",
       "</div>"
      ],
      "text/plain": [
       "   id                  path   t1   t2   winding  phase  pred_phase type_of  \\\n",
       "0   0  H_-2_-2_0.501338.dat -2.0 -2.0  0.501338    999         666    test   \n",
       "1   0  H_-2_-2_0.501338.dat -2.0 -2.0  0.501338    999         666    test   \n",
       "2   0  H_-2_-2_0.501338.dat -2.0 -2.0  0.501338    999         666    test   \n",
       "3   0  H_-2_-2_0.501338.dat -2.0 -2.0  0.501338    999         666    test   \n",
       "4   0  H_-2_-2_0.501338.dat -2.0 -2.0  0.501338    999         666    test   \n",
       "5   0  H_-2_-2_0.501338.dat -2.0 -2.0  0.501338    999         666    test   \n",
       "6   0  H_-2_-2_0.501338.dat -2.0 -2.0  0.501338    999         666    test   \n",
       "7   0  H_-2_-2_0.501338.dat -2.0 -2.0  0.501338    999         666    test   \n",
       "8   0  H_-2_-2_0.501338.dat -2.0 -2.0  0.501338    999         666    test   \n",
       "9   0  H_-2_-2_0.501338.dat -2.0 -2.0  0.501338    999         666    test   \n",
       "\n",
       "      feat0     feat1  ...    feat90    feat91    feat92    feat93    feat94  \\\n",
       "0 -0.130965  0.301130  ... -0.080279 -0.115687 -0.174988  0.245064  0.319763   \n",
       "1 -0.130965 -0.301130  ... -0.080279  0.115687 -0.174988 -0.245064  0.319763   \n",
       "2 -0.148414 -0.042467  ...  0.185442 -0.080620 -0.066211 -0.121339 -0.151700   \n",
       "3 -0.069630 -0.026147  ...  0.102009 -0.100671 -0.081002 -0.020715 -0.058717   \n",
       "4  0.010206 -0.014625  ...  0.047555 -0.041368 -0.018852 -0.017673 -0.023377   \n",
       "5  0.116962  0.021475  ... -0.086901 -0.045676 -0.028034  0.129266  0.130083   \n",
       "6  0.037175 -0.095882  ... -0.027490  0.046168  0.063419 -0.041630 -0.085769   \n",
       "7  0.027709 -0.038180  ...  0.123344 -0.114320 -0.057118 -0.040291 -0.061263   \n",
       "8  0.059795  0.030272  ... -0.082347  0.140996  0.128386 -0.036608  0.029628   \n",
       "9  0.141605  0.013497  ... -0.035718 -0.110014 -0.082452  0.146084  0.152588   \n",
       "\n",
       "     feat95    feat96    feat97    feat98    feat99  \n",
       "0 -0.059082 -0.000556 -0.245133 -0.301130  0.130965  \n",
       "1  0.059082 -0.000556  0.245133 -0.301130 -0.130965  \n",
       "2  0.192513  0.191642 -0.050956 -0.042467 -0.148414  \n",
       "3  0.115834  0.118274 -0.054666 -0.026147 -0.069630  \n",
       "4  0.031447  0.010280  0.000925  0.014625 -0.010206  \n",
       "5 -0.098190 -0.104188 -0.007911  0.021475  0.116962  \n",
       "6 -0.010604 -0.009822  0.084024  0.095882 -0.037175  \n",
       "7  0.087153  0.029599 -0.001276  0.038180 -0.027709  \n",
       "8 -0.124877 -0.140478  0.088573  0.030272  0.059795  \n",
       "9 -0.067575 -0.087187 -0.043484  0.013497  0.141605  \n",
       "\n",
       "[10 rows x 108 columns]"
      ]
     },
     "execution_count": 28,
     "metadata": {},
     "output_type": "execute_result"
    }
   ],
   "source": [
    "simulation.dataframe.head(10)"
   ]
  },
  {
   "cell_type": "markdown",
   "metadata": {
    "papermill": {
     "duration": 0.039942,
     "end_time": "2020-07-18T16:19:38.045104",
     "exception": false,
     "start_time": "2020-07-18T16:19:38.005162",
     "status": "completed"
    },
    "tags": []
   },
   "source": [
    "#### Viewing a random sample"
   ]
  },
  {
   "cell_type": "code",
   "execution_count": 29,
   "metadata": {
    "execution": {
     "iopub.execute_input": "2020-07-18T16:19:38.120766Z",
     "iopub.status.busy": "2020-07-18T16:19:38.120450Z",
     "iopub.status.idle": "2020-07-18T16:19:38.150441Z",
     "shell.execute_reply": "2020-07-18T16:19:38.150121Z"
    },
    "papermill": {
     "duration": 0.067625,
     "end_time": "2020-07-18T16:19:38.150492",
     "exception": false,
     "start_time": "2020-07-18T16:19:38.082867",
     "status": "completed"
    },
    "tags": []
   },
   "outputs": [
    {
     "name": "stdout",
     "output_type": "stream",
     "text": [
      "CPU times: user 15.8 ms, sys: 3.99 ms, total: 19.8 ms\n",
      "Wall time: 19.6 ms\n"
     ]
    }
   ],
   "source": [
    "%%time\n",
    "if simulation.fourier_mode is not None:\n",
    "    simulation.fourier_dataframe.sample(frac=0.1, replace=False)"
   ]
  },
  {
   "cell_type": "markdown",
   "metadata": {
    "papermill": {
     "duration": 0.039232,
     "end_time": "2020-07-18T16:19:38.228507",
     "exception": false,
     "start_time": "2020-07-18T16:19:38.189275",
     "status": "completed"
    },
    "tags": []
   },
   "source": [
    "#### Checking train/val/test splits again"
   ]
  },
  {
   "cell_type": "code",
   "execution_count": 30,
   "metadata": {
    "execution": {
     "iopub.execute_input": "2020-07-18T16:19:38.304052Z",
     "iopub.status.busy": "2020-07-18T16:19:38.303726Z",
     "iopub.status.idle": "2020-07-18T16:19:38.741970Z",
     "shell.execute_reply": "2020-07-18T16:19:38.741617Z"
    },
    "papermill": {
     "duration": 0.476201,
     "end_time": "2020-07-18T16:19:38.742025",
     "exception": false,
     "start_time": "2020-07-18T16:19:38.265824",
     "status": "completed"
    },
    "tags": []
   },
   "outputs": [
    {
     "name": "stdout",
     "output_type": "stream",
     "text": [
      "% train:  0.4208199969516842\n",
      "% val:  0.42066758116140834\n",
      "% test:  0.15851242188690748\n",
      "% train + val + test:  1.0\n",
      "\n",
      "\n",
      "number of train hamiltonians:  2761\n",
      "number of val hamiltonians:  2760\n",
      "number of test hamiltonians:  1040\n",
      "total number of hamiltonians:  6561\n",
      "\n",
      "\n",
      "train ids:  [596, 445, 4413, 3350, 5312, 4746, 5279, 4506, 6082, 5588, 5522, 3541, 3628, 3871, 4819, 5678, 5107, 2821, 5621, 3142, 2495, 6092, 6133, 4294, 2649, 3693, 1783, 5469, 2853, 2748, 5537, 1762, 1349, 2749, 2529, 4655, 1843, 2995, 346, 2191, 1182, 5144, 3817, 3386, 4195, 4201, 4089, 5806, 3951, 4868, 3870, 1204, 2404, 156, 2637, 2320, 5756, 4815, 1704, 3339, 4299, 3359, 3427, 3498, 357, 2434, 126, 2659, 2779, 4067, 3677, 4863, 2857, 1411, 3243, 805, 5723, 3452, 5719, 832, 3179, 4017, 3189, 4768, 4548, 3276, 6345, 2085, 3314, 5918, 879, 5526, 2393, 547, 4577, 1994, 2176, 3969, 3504, 400, 1444, 616, 125, 151, 5243, 2406, 3696, 1676, 1282, 366, 2879, 6005, 4896, 628, 3791, 4642, 6121, 4561, 5304, 1745, 3862, 2499, 6341, 757, 3207, 2477, 4716, 1464, 5525, 519, 4827, 1258, 4797, 3134, 5401, 872, 1978, 4723, 3222, 4972, 6486, 4224, 1616, 3186, 4398, 5342, 4907, 3985, 4128, 1628, 38, 3129, 1361, 3007, 5452, 1260, 5520, 5261, 4163, 5649, 4376, 3419, 4384, 3048, 5949, 5050, 5680, 5265, 1009, 4934, 4789, 5149, 4859, 4764, 157, 6076, 186, 5779, 2006, 2824, 1512, 796, 2407, 5275, 3877, 1606, 5229, 4217, 3086, 3135, 242, 323, 3662, 5851, 5606, 5100, 5286, 5710, 6453, 3632, 2122, 3818, 3922, 4167, 2405, 1934, 160, 4969, 2521, 6007, 6139, 2778, 1747, 1767, 1370, 4658, 2530, 4974, 1188, 3838, 3703, 2567, 1875, 1991, 52, 3164, 4927, 5219, 2575, 3238, 6493, 6114, 1705, 20, 210, 77, 4765, 2005, 3859, 1768, 1579, 3149, 3823, 545, 6402, 4123, 1958, 6441, 727, 2769, 4161, 4968, 3869, 5605, 4557, 1124, 3750, 4745, 3022, 6043, 3638, 3807, 1090, 4009, 3777, 6032, 3128, 3532, 1534, 1671, 4255, 1162, 4463, 2099, 4388, 3387, 6370, 2817, 1261, 606, 1648, 1076, 2994, 3734, 6292, 4491, 3374, 5434, 641, 6375, 612, 6438, 4880, 3155, 2746, 2232, 4559, 2665, 1758, 5068, 476, 116, 4749, 1459, 598, 5040, 3420, 1932, 970, 5701, 3660, 3564, 4578, 5046, 5421, 3168, 3369, 2992, 1173, 854, 1952, 844, 922, 6403, 2326, 6344, 877, 229, 104, 482, 139, 5344, 3572, 3141, 3311, 6364, 2792, 4317, 6256, 6411, 2940, 3616, 6456, 1523, 765, 1241, 5262, 2145, 4626, 5954, 557, 64, 5950, 4902, 724, 3582, 3088, 283, 6163, 4693, 5693, 2859, 2157, 929, 4280, 1458, 4356, 546, 5395, 782, 5283, 4188, 5750, 4873, 181, 2753, 1289, 6354, 2261, 4523, 1331, 4071, 5317, 5852, 1118, 4790, 3577, 2882, 2696, 2435, 3038, 4110, 1572, 764, 1690, 4216, 2963, 3398, 372, 6167, 5835, 918, 3192, 3451, 3763, 4600, 3094, 5136, 5152, 5705, 5648, 4024, 563, 2354, 5471, 2339, 635, 6111, 109, 5671, 3510, 4935, 3402, 403, 3770, 4879, 5433, 2515, 1948, 1517, 2973, 601, 2676, 3868, 2752, 5319, 194, 5102, 3959, 6136, 441, 2111, 5175, 2805, 4085, 2743, 1698, 378, 3068, 1372, 5978, 728, 4466, 1573, 1214, 5062, 1005, 5383, 6268, 5789, 1452, 2009, 3813, 5799, 5288, 3391, 3148, 2925, 5934, 4433, 1854, 391, 503, 5717, 6027, 953, 3740, 1654, 3418, 1342, 4078, 4957, 387, 4715, 3352, 4558, 6159, 1508, 363, 132, 6372, 3066, 2717, 3855, 6022, 1765, 3579, 2143, 3089, 4706, 2583, 3908, 6461, 4694, 3440, 2002, 4543, 863, 6353, 2955, 2234, 4411, 6373, 5116, 3373, 4418, 1337, 2018, 2596, 3805, 3879, 2082, 150, 2058, 4061, 4142, 3217, 3815, 5400, 4876, 5186, 6085, 2239, 850, 3441, 4485, 5519, 2764, 5552, 530, 4680, 3125, 386, 4472, 1026, 2881, 3764, 5880, 3573, 3701, 3340, 2279, 4005, 1990, 3704, 6134, 880, 4144, 4713, 3634, 3085, 5643, 4638, 2186, 5370, 4872, 6028, 2793, 2533, 3026, 3618, 848, 2880, 5388, 1504, 6494, 2841, 312, 3109, 1105, 1273, 551, 6223, 6031, 2248, 957, 5045, 605, 4393, 4801, 2275, 2478, 3933, 1569, 6087, 998, 2196, 4684, 1570, 2062, 4645, 2998, 472, 2942, 5376, 6291, 4090, 3558, 5810, 4630, 6413, 4467, 2080, 2617, 533, 591, 696, 3679, 6277, 5397, 6253, 2911, 128, 4455, 4055, 2272, 3623, 3412, 2175, 300, 1686, 3018, 4647, 2692, 6238, 3013, 5437, 2883, 4380, 3454, 1975, 2324, 1525, 673, 4387, 5970, 176, 1683, 2766, 4566, 4651, 4212, 4310, 3656, 4039, 261, 5278, 5752, 4882, 5308, 6324, 1321, 3074, 689, 2894, 1180, 1292, 2415, 1983, 5672, 4086, 671, 1123, 2390, 1532, 6504, 5135, 2651, 5833, 3232, 2996, 3596, 1951, 1251, 3103, 2945, 2287, 4354, 1042, 3531, 1008, 3264, 209, 5098, 1846, 3923, 3627, 3083, 2634, 381, 6084, 522, 5937, 1694, 5877, 3320, 4769, 4874, 4283, 5699, 1841, 5390, 5523, 4444, 6101, 3367, 5695, 4282, 2030, 712, 4529, 2815, 5837, 4783, 1243, 4008, 5228, 5194, 115, 1655, 1211, 4527, 3681, 216, 3170, 2716, 969, 1746, 6335, 3291, 4094, 4546, 6383, 2776, 5069, 1096, 2910, 542, 1345, 1838, 3213, 3967, 2636, 6021, 1677, 5133, 6510, 1731, 6102, 1269, 2466, 5475, 4913, 5939, 5944, 770, 3828, 2038, 3162, 1267, 3567, 1773, 1215, 6045, 6480, 388, 3479, 3485, 3988, 3053, 161, 6348, 4301, 5791, 5435, 924, 1487, 4293, 3464, 3377, 1701, 6496, 835, 1169, 3522, 6458, 5267, 5188, 3737, 866, 5043, 4328, 3570, 4148, 1898, 4504, 5557, 4822, 5531, 3946, 1414, 3898, 3652, 5917, 4618, 786, 1077, 3797, 1133, 718, 5375, 2674, 1739, 5368, 4826, 4138, 5305, 4521, 6468, 1326, 944, 4221, 4983, 4416, 358, 433, 4774, 3723, 5223, 1377, 780, 4991, 1668, 1190, 467, 2819, 6263, 1408, 3760, 3989, 3492, 2468, 2547, 3506, 4097, 4516, 3046, 3087, 4344, 6115, 2072, 2246, 43, 127, 2189, 1420, 4179, 690, 4962, 4854, 149, 3861, 3715, 2091, 2337, 1836, 2154, 1658, 154, 1897, 963, 3617, 231, 1988, 6057, 1748, 6407, 2723, 1578, 6495, 4140, 4270, 4254, 3310, 1696, 1489, 4954, 5429, 1371, 3173, 4137, 611, 5049, 5112, 4311, 3229, 3876, 5130, 3027, 759, 5713, 5224, 3571, 5964, 1989, 3500, 5645, 5432, 6467, 5101, 3886, 4105, 3424, 3282, 4619, 5192, 47, 1521, 3986, 30, 1817, 273, 1685, 723, 2114, 3705, 105, 3957, 2411, 2988, 3384, 602, 4812, 5524, 6412, 721, 4341, 2901, 5123, 726, 1753, 1539, 66, 4687, 4365, 6279, 4624, 1735, 3472, 2349, 1339, 1116, 4373, 2693, 3151, 4727, 2493, 382, 846, 5514, 4568, 2909, 4289, 3521, 5545, 5316, 4832, 6186, 2123, 5857, 700, 3788, 3635, 2031, 4984, 1649, 2240, 6428, 948, 3630, 5882, 552, 1929, 3775, 2068, 6425, 1695, 1670, 4724, 2633, 5257, 4748, 5178, 5673, 2930, 5382, 5301, 4107, 2107, 319, 70, 2102, 1603, 6266, 3891, 2765, 3887, 5708, 3408, 4901, 1333, 4103, 3426, 1531, 1687, 2598, 5391, 4560, 3055, 2496, 855, 3730, 1593, 2969, 4038, 626, 192, 6523, 5869, 3092, 17, 1652, 613, 3744, 226, 5366, 3334, 1664, 791, 4118, 3720, 1540, 5915, 4799, 965, 2569, 5405, 3843, 5061, 5016, 1276, 1516, 6499, 2712, 2321, 3201, 5604, 1659, 3661, 33, 304, 753, 435, 44, 3449, 781, 3516, 320, 2367, 1035, 4650, 3356, 5357, 4782, 3710, 2964, 4682, 6521, 5486, 5185, 4847, 1012, 2573, 1264, 3028, 1347, 4985, 1186, 4051, 1874, 1703, 5957, 2450, 2713, 2398, 50, 2977, 272, 3626, 97, 4729, 1024, 1812, 431, 4750, 1524, 2247, 6205, 1742, 2469, 4006, 2525, 2831, 3185, 432, 6488, 4599, 797, 6252, 3925, 1766, 6212, 78, 2029, 5803, 3050, 466, 3646, 3375, 6015, 6210, 3024, 4612, 4261, 3017, 4608, 4636, 2761, 2590, 2452, 4796, 967, 3675, 5698, 1620, 3943, 1923, 2199, 1511, 3161, 717, 3431, 585, 5063, 5072, 3726, 3993, 702, 859, 4408, 6360, 1120, 802, 1507, 4862, 4730, 1943, 1421, 3294, 1744, 3901, 3631, 914, 951, 1119, 384, 5951, 5038, 314, 1431, 1931, 5794, 3344, 1010, 2904, 6465, 4149, 2523, 4441, 3304, 6281, 6482, 2519, 1953, 264, 6369, 2958, 3167, 4083, 3064, 3544, 2554, 2356, 6246, 2195, 1982, 5896, 3244, 5688, 4989, 619, 5782, 4986, 6409, 2929, 672, 3180, 1909, 2694, 3557, 3672, 2773, 3517, 2905, 4631, 4151, 4928, 4143, 6132, 3847, 142, 2449, 3569, 2237, 5373, 708, 4909, 2984, 1409, 3346, 3820, 1615, 110, 5769, 686, 6466, 6516, 3811, 890, 4574, 5966, 4335, 4336, 3965, 2262, 4425, 6127, 4000, 5269, 1533, 2276, 1417, 4157, 2443, 966, 1346, 3519, 4022, 428, 1002, 2570, 4243, 6278, 5238, 550, 195, 5148, 722, 4553, 2688, 3250, 5156, 2164, 3105, 5197, 3484, 286, 1091, 6361, 4235, 3534, 2153, 1583, 267, 3433, 218, 5765, 4916, 1580, 793, 1032, 1863, 2668, 4076, 5125, 4291, 5321, 5847, 1939, 5725, 3208, 535, 1675, 1443, 3283, 2497, 2353, 1099, 6124, 3659, 2897, 2861, 699, 5617, 5608, 4844, 2083, 749, 4828, 5113, 1729, 5592, 1733, 4906, 1666, 1515, 3321, 1283, 3640, 34, 470, 3667, 4220, 2608, 2919, 3446, 931, 1587, 1618, 75, 3255, 5530, 4795, 5127, 3202, 5277, 5070, 5104, 2565, 4363, 3290, 3069, 6343, 439, 2476, 310, 4646, 3995, 3287, 390, 6258, 5561, 5311, 6017, 4312, 691, 4396, 2885, 3603, 6362, 455, 6034, 6008, 1993, 6342, 4884, 1335, 3555, 2587, 5729, 3466, 1095, 2946, 4194, 1672, 4236, 2257, 4300, 2991, 3893, 4120, 5703, 2675, 5974, 6199, 5976, 2346, 4394, 4392, 3621, 4963, 3716, 4596, 4629, 3578, 5463, 5533, 2201, 2714, 4825, 799, 3947, 3021, 777, 3319, 484, 4295, 5601, 3890, 1170, 4761, 2756, 1378, 5848, 3739, 3341, 5209, 6384, 380, 2750, 1239, 938, 1937, 5709, 3331, 2139, 1831, 6423, 2074, 2188, 2190, 4583, 5179, 2643, 5299, 4122, 2902, 2220, 1896, 4846, 5103, 1100, 4623, 6239, 117, 2021, 4703, 1353, 5216, 5751, 2639, 3735, 3037, 3075, 2844, 1294, 2039, 3242, 1754, 4773, 4412, 352, 1492, 1031, 4588, 1048, 206, 1455, 5153, 1463, 4643, 6447, 3299, 3880, 3731, 3475, 6356, 2471, 1624, 1208, 5021, 2516, 5879, 3971, 4219, 2116, 614, 6288, 4887, 4697, 2681, 4498, 220, 599, 442, 3902, 4667, 4371, 5921, 3645, 2856, 211, 2250, 1910, 2328, 1363, 6208, 5685, 830, 4288, 6255, 5764, 3121, 6322, 5296, 506, 4226, 5027, 1192, 1604, 2036, 3077, 3768, 2366, 2653, 3468, 459, 2647, 4622, 274, 2724, 5610, 1290, 4278, 5787, 4015, 2661, 3122, 778, 935, 3708, 2732, 4857, 1702, 3844, 1861, 3530, 4890, 1277, 2151, 4996, 4707, 5612, 1435, 5205, 4117, 4805, 3110, 3804, 4198, 6176, 5784, 3188, 1605, 1078, 2408, 443, 1159, 1499, 4075, 3609, 3388, 1778, 19, 5161, 1749, 3376, 704, 5260, 4888, 3416, 2999, 4462, 2205, 140, 5392, 355, 1291, 3881, 2177, 5797, 5595, 3914, 6264, 3258, 4377, 2768, 5356, 1689, 5839, 4136, 3812, 6501, 3461, 3689, 1490, 4794, 5210, 5446, 5318, 6485, 3166, 1839, 4215, 3637, 2679, 4810, 3067, 5863, 5548, 4314, 2829, 148, 5441, 74, 4661, 4830, 1950, 5651, 1815, 6529, 3480, 3507, 4046, 687, 6446, 5445, 303, 6512, 5478, 3550, 2271, 6285, 5622, 2485, 6449, 2807, 6302, 1976, 5387, 1252, 6128, 5971, 2365, 1207, 4060, 2269, 609, 6197, 6023, 146, 5726, 937, 1418, 675, 2438, 3132, 1287, 4976, 5795, 3252, 1052, 3575, 4524, 1567, 2491, 6240, 6185, 2433, 1538, 424, 3436, 4700, 6038, 5790, 3260, 3814, 4252, 6509, 2685, 2225, 237, 4026, 5158, 4229, 1864, 3983, 3458, 1986, 1911, 4234, 4395, 6427, 5897, 5692, 235, 5618, 1082, 2369, 2352, 2568, 51, 5538, 6000, 2888, 3727, 3045, 2198, 3539, 5374, 2718, 5398, 4946, 2551, 5609, 2094, 5766, 6463, 1001, 6049, 1134, 1764, 1519, 6542, 5948, 5451, 2331, 1912, 1588, 4816, 1791, 4718, 2652, 3378, 3249, 281, 3742, 2585, 2419, 1354, 1992, 842, 5076, 4728, 5629, 1609, 3641, 942, 6469, 539, 5295, 1626, 1332, 3549, 3101, 5035, 537, 862, 5875, 5449, 1369, 233, 5481, 2513, 6519, 3435, 299, 3210, 3766, 852, 4443, 4057, 4242, 4302, 69, 5542, 1081, 3745, 3769, 4507, 1336, 1432, 4649, 4501, 4362, 6016, 2838, 5381, 5231, 4313, 5813, 3687, 4575, 884, 3938, 5927, 711, 4238, 3471, 340, 1181, 349, 266, 3580, 3096, 6367, 795, 5053, 3792, 1598, 3491, 684, 3758, 1047, 3175, 1761, 1176, 705, 5105, 6325, 4502, 5809, 4268, 2417, 4001, 1322, 1918, 4030, 453, 620, 1205, 2628, 2115, 4609, 3587, 2858, 293, 5669, 549, 1873, 3839, 1610, 2489, 1571, 3254, 1788, 3601, 3014, 2066, 4461, 4227, 55, 2813, 5565, 4659, 6271, 4011, 316, 1050, 5044, 4239, 322, 3194, 559, 2056, 3599, 524, 3329, 4864, 2075, 2204, 5174, 4256, 454, 4671, 3785, 3054, 2803, 5570, 434, 1680, 4276, 4351, 3312, 5456, 867, 3964, 3383, 3389, 5955, 3837, 1437, 2078, 4262, 2412, 807, 1183, 3430, 5263, 3392, 5761, 2037, 1362, 683, 5623, 1445, 2549, 3469, 4751, 1461, 4721, 3654, 2096, 5402, 4725, 3253, 5956, 4286, 5888, 5586, 952, 6290, 4856, 1542, 1845, 2498, 1442, 42, 4342, 4146, 3251, 6273, 5637, 1743, 4780, 3529, 2254, 5454, 3944, 178, 3655, 141, 2825, 1821, 4334, 4160, 5504, 2162, 3565, 4059, 5929, 225, 3721, 2156, 6003, 287, 2492, 5646, 2510, 792, 4208, 6415, 460, 130, 5641, 5461, 538, 1818, 3956, 3227, 5403, 2245, 5534, 101, 364, 3288, 5093, 6018, 3960, 3678, 2552, 3611, 6502, 3755, 3407, 2690, 3428, 4386, 3003, 5804, 1566, 1453, 2193, 4436, 6546, 4319, 3591, 212, 5430, 2755, 65, 3749, 6129, 1811, 3885, 6056, 1111, 1871, 3935, 4218, 1106, 6170, 4685, 3722, 5428, 1376, 6357, 1424, 5378, 4770, 5297, 6109, 4889, 2561, 485, 3605, 3910, 5034, 1020, 5928, 2424, 5036, 881, 1184, 6378, 589, 1425, 5674, 4493, 1692, 6179, 5844, 3317, 4492, 6503, 4414, 1249, 3079, 6275, 1441, 2924, 4710, 3945, 561, 6222, 5183, 4484, 2359, 536, 3012, 4043, 6181, 5722, 2173, 1107, 2350, 3651, 2182, 804, 2918, 2574, 5067, 5616, 860, 6525, 3306, 4296, 2251, 6544, 5298, 1350, 438, 4495, 2571, 5506, 3998, 2110, 1115, 2192, 2745, 6168, 4415, 2312, 1250, 5866, 588, 5686, 670, 5639, 3269, 720, 4054, 282, 3912, 5029, 4447, 5472, 239, 4702, 2140, 5923, 2956, 3257, 2057, 4275, 3497, 5352, 2336, 6206, 541, 271, 2311, 3316, 4190, 934, 430, 1903, 4322, 2669, 448, 1247, 6545, 227, 4515, 2421, 4469, 1771, 2981, 2722, 393, 3154, 3499, 5807, 3237, 4941, 5467, 5476, 5682, 1344, 1979, 2507, 4029, 2070, 2795, 4119, 95, 6455, 5367, 1125, 4878, 402, 1574, 508, 2518, 36, 2711, 4205, 2671, 4338, 2012, 4070, 4779, 5393, 1840, 436, 3779, 2941, 3165, 4405, 399, 5032, 5323, 3900, 5891, 6203, 131, 3729, 1623, 6218, 3174, 6535, 41, 3992, 3743, 4445, 3799, 2832, 564, 6300, 6164, 4666, 4711, 3685, 6522, 2013, 1513, 5596, 1462, 2264, 3669, 1597, 2061, 2727, 309, 1213, 4390, 4545, 5598, 2441, 481, 1774, 803, 2922, 1928, 290, 994, 4173, 4738, 2670, 3697, 4178, 2818, 5953, 3976, 3978, 4232, 4320, 5631, 2730, 198, 2183, 5849, 1859, 5541, 2584, 3629, 4958, 4956, 5895, 4605, 288, 318, 3470, 1454, 3010, 1198, 645, 80, 5945, 1413, 3467, 1777, 1016, 4361, 5033, 6193, 6497, 106, 2059, 5808, 6330, 5760, 2780, 999, 3950, 1040, 389, 6543, 1536, 2874, 1245, 5009, 4581, 6157, 5704, 5363, 4307, 5706, 2227, 624, 1110, 1913, 3941, 6448, 4053, 103, 4045, 677, 919, 4739, 668, 5117, 2185, 1028, 6303, 2689, 2691, 4454, 3872, 2849, 1736, 5554, 4374, 2535, 6347, 2966, 3020, 528, 4448, 2316, 39, 2109, 3834, 5487, 715, 3372, 789, 3351, 2383, 2982, 3015, 4720, 6517, 776, 6265, 3598, 138, 4791, 2033, 5431, 2025, 4155, 1568, 2027, 5281, 4965, 4817, 6406, 3004, 2526, 5422, 4304, 5814, 1837, 3100, 4088, 5959, 3595, 964, 5547, 2024, 2833, 4267, 692, 1340, 4297, 5733, 1101, 4253, 3297, 5676, 6098, 365, 269, 48, 3806, 6318, 3342, 6221, 3127, 2238, 1265, 4701, 1866, 1947, 4159, 1528, 529, 889, 3692, 1325, 2556, 2278, 3695, 1089, 6126, 29, 3561, 4950, 556, 5718, 2401, 4497, 1949, 3897, 4209, 2816, 3878, 6293, 367, 6172, 3456, 958, 4248, 4598, 945, 4156, 28, 2077, 4290, 3325, 16, 2615, 5811, 3137, 2890, 398, 5679, 3395, 2736, 1867, 3547, 3904, 2972, 2938, 2069, 5614, 6498, 5753, 5307, 2610, 6086, 3926, 1857, 2770, 3303, 5256, 678, 6096, 2729, 1248, 2678, 58, 6537, 3481, 4028, 3980, 4893, 6158, 2804, 6106, 1284, 153, 925, 915, 6091, 5684, 6445, 3824, 4471, 1828, 2301, 5134, 4752, 1679, 4539, 1494, 939, 603, 595, 4576, 6450, 356, 1272, 3307, 1165, 5273, 3322, 2899, 4047, 3256, 5518, 4452, 3145, 1129, 6334, 2528, 5020, 1402, 5544, 4368, 3144, 3442, 4417, 1166, 4141, 1834, 882, 6201, 5025, 4131, 5145, 1650, 1486, 351, 4244, 1334, 6001, 4108, 2741, 4982, 622, 773, 6520, 5108, 2307, 2878, 371, 3636, 234, 1410, 6099, 1434, 4542, 6433, 113, 5110, 5042, 2385, 4691, 4135, 4955, 2155, 2684, 1174, 3414, 1665, 2263, 5887, 3296, 4597, 6336, 2864, 1682, 6276, 4620, 3218, 3093, 2559, 473, 3163, 4520, 5691, 586, 2482, 5315, 4971, 1916, 2912, 4171, 5539, 2916, 505, 6249, 177, 4762, 4355, 4279, 4066, 3508, 2592, 3553, 3343, 3538, 6204, 6524, 4321, 2560, 2146, 1955, 3892, 4240, 3016, 709, 1824, 2733, 1102, 4460, 669, 710, 1259, 3062, 4914, 5998, 118, 6211, 4777, 2431, 2399, 6491, 5154, 4446, 5274, 1657, 1707, 6440, 2396, 4741, 6346, 6002, 4931, 129, 2648, 1178, 525, 3702, 1427, 2119, 5465, 3274, 3826, 4196, 1823, 2444, 2604, 3076, 5975, 1850, 4068, 2967, 2775, 3457, 6532, 3546, 3263, 270, 3643, 5207, 2842, 3857, 3051, 4406, 4997, 725, 5702, 5914, 6224, 768, 4124, 4696, 2886, 4096, 2224, 3259, 2505, 853, 2979, 507, 1920, 4016, 6416, 222, 2700, 4133, 1922, 3130, 3748, 1526, 2589, 5023, 3614, 4487, 4584, 6078, 3987, 342, 5732, 2323, 1546, 1933, 873, 4337, 1500, 1981, 76, 4211, 2429, 3875, 6051, 6457, 3044, 2255, 4382, 4435, 3968, 3952, 3615, 2806, 3336, 5615, 260, 6547, 3182, 5285, 6363, 3052, 511, 971, 3919, 4610, 6060]\n",
      "val ids:  [1084, 6243, 2282, 1341, 1497, 2976, 5995, 3929, 4162, 6377, 2437, 916, 4281, 3379, 1661, 1607, 112, 6075, 4153, 5372, 6156, 3997, 197, 2113, 6130, 4615, 1545, 2642, 5754, 5160, 2889, 3906, 4383, 1996, 4656, 3863, 4457, 2318, 4109, 514, 5516, 1036, 4641, 6272, 3942, 6490, 5077, 1357, 368, 1592, 5589, 3347, 3025, 5832, 2285, 4074, 54, 1195, 4552, 1263, 1419, 2335, 2166, 4480, 3953, 1448, 4058, 774, 4309, 5527, 1436, 422, 6437, 1257, 5543, 1995, 1779, 1416, 2754, 1900, 1835, 2281, 4708, 5146, 1614, 1674, 5967, 57, 839, 4562, 4186, 5585, 3396, 5730, 2763, 2229, 3724, 5512, 5066, 1380, 2243, 3247, 5628, 3583, 4349, 3146, 4049, 1202, 4977, 3979, 4967, 4228, 3713, 2277, 996, 926, 2221, 5259, 3798, 2060, 2474, 1509, 3619, 4644, 3509, 2394, 2828, 5642, 4944, 425, 2022, 2168, 2413, 5707, 5010, 3231, 3459, 4742, 5474, 1663, 3819, 5457, 4031, 4233, 3928, 1212, 6337, 14, 2286, 2436, 2418, 4152, 3295, 143, 4804, 5480, 5459, 5630, 3315, 6434, 1366, 4929, 3850, 6247, 5864, 5885, 5404, 4640, 224, 102, 3406, 6515, 5668, 6118, 2427, 5444, 3752, 3513, 2503, 2762, 6190, 5933, 627, 373, 1293, 4298, 3153, 3248, 1255, 3152, 1894, 6196, 2073, 6142, 2800, 1651, 6137, 540, 3694, 2481, 5096, 4877, 4403, 587, 2908, 769, 449, 444, 3913, 6030, 2913, 4894, 5550, 6297, 3410, 3437, 188, 1741, 2726, 3589, 5515, 3221, 4722, 5425, 2409, 5276, 4654, 2812, 642, 1734, 6213, 2721, 6160, 23, 5763, 3357, 838, 1785, 808, 1200, 2465, 6116, 341, 394, 4549, 3455, 5936, 3271, 2673, 1848, 6382, 1833, 5270, 3323, 751, 5845, 4150, 703, 3796, 1430, 913, 4025, 3006, 3268, 1359, 4784, 5924, 13, 3682, 2640, 6539, 5018, 241, 2034, 6214, 5291, 4881, 3190, 4692, 1019, 1697, 4306, 869, 4350, 5198, 2506, 1210, 5443, 6401, 3624, 4093, 4084, 1163, 3011, 3795, 3193, 6055, 1161, 2593, 3401, 5056, 5528, 4357, 4464, 2284, 4936, 1627, 4547, 5800, 2720, 1023, 1625, 3671, 3832, 199, 240, 4866, 3111, 46, 5439, 5720, 2557, 2165, 6442, 4422, 5505, 3178, 1611, 885, 1003, 5064, 775, 3787, 4850, 4399, 1087, 2550, 3090, 1187, 56, 4062, 2314, 4514, 2267, 5195, 1899, 1457, 4688, 1324, 68, 1164, 3782, 3684, 2917, 3903, 2933, 3421, 3663, 4172, 1086, 1520, 2150, 1502, 6184, 5874, 5919, 3505, 5014, 3966, 1171, 3073, 3808, 4077, 302, 4434, 4237, 2738, 930, 2488, 3917, 345, 5242, 3289, 5193, 1935, 809, 4250, 3009, 4788, 5196, 2361, 3019, 5965, 3683, 423, 3810, 1529, 4329, 3245, 3183, 301, 5962, 1030, 1440, 5109, 5792, 6140, 5650, 3790, 1691, 6103, 870, 67, 2698, 1405, 3108, 2734, 6368, 1281, 5159, 3836, 1926, 5511, 6326, 215, 4419, 1819, 1830, 4587, 60, 630, 560, 26, 2345, 6033, 2302, 4210, 5786, 1930, 4573, 5932, 259, 4663, 5473, 3674, 6191, 2614, 2161, 6430, 4081, 3156, 4207, 2010, 2983, 553, 4743, 1944, 5872, 3741, 2273, 2319, 3126, 5892, 5340, 6305, 3537, 6119, 3267, 6444, 4494, 5883, 193, 2835, 1158, 5073, 1423, 3385, 4249, 3639, 2758, 3657, 5513, 2719, 4714, 4635, 4027, 5078, 3528, 3773, 2017, 4845, 5436, 3302, 2965, 3450, 5099, 837, 788, 3759, 4535, 921, 5812, 4973, 5287, 6202, 1203, 3774, 5624, 1109, 3425, 5129, 5213, 183, 6429, 3588, 362, 4772, 2687, 3308, 4601, 3874, 4613, 646, 4853, 6192, 3286, 2672, 1710, 527, 2084, 784, 4082, 4994, 4981, 5508, 1622, 3123, 4397, 6012, 1581, 4895, 2236, 2662, 927, 2599, 843, 4806, 1368, 5507, 2796, 6527, 4333, 6549, 2772, 4800, 350, 4555, 1925, 4154, 4007, 946, 592, 4528, 1447, 279, 5968, 4990, 755, 1108, 5289, 2118, 2613, 392, 1786, 191, 1684, 2695, 6355, 284, 6217, 4044, 4867, 2607, 5683, 3059, 544, 4034, 558, 1782, 4098, 4960, 4318, 1708, 6270, 1656, 1373, 794, 2241, 6487, 5347, 4132, 4072, 4818, 4421, 123, 2028, 1770, 1740, 2108, 3732, 203, 6053, 2845, 5714, 6123, 6351, 5221, 1942, 6352, 2386, 5999, 3566, 5365, 4353, 5241, 2527, 5477, 5532, 96, 4798, 6511, 3328, 510, 4246, 3822, 1772, 5652, 187, 5338, 307, 4695, 6138, 5184, 1906, 4257, 6287, 1543, 2664, 1126, 5313, 5058, 5871, 4679, 4891, 5039, 5447, 3413, 2203, 2921, 2961, 5969, 3754, 1541, 4690, 512, 2001, 3604, 3905, 1191, 5846, 3973, 3867, 4126, 3896, 593, 5771, 4339, 2249, 4639, 2974, 4544, 1484, 2258, 4903, 1688, 707, 5775, 6484, 5322, 298, 874, 3949, 4048, 1919, 2097, 3937, 5840, 6320, 5048, 4129, 5793, 1360, 1927, 4915, 1985, 35, 2926, 1527, 4952, 3139, 2931, 4942, 5587, 6269, 5074, 2223, 3338, 6319, 6245, 2725, 4358, 1842, 6122, 144, 4032, 5697, 6105, 6327, 2667, 2852, 4849, 376, 3330, 4833, 5613, 5386, 4023, 6513, 3916, 219, 119, 4010, 5626, 4303, 2093, 2184, 2144, 1822, 5065, 806, 4092, 1439, 4778, 2079, 2158, 2781, 2810, 767, 6026, 4995, 2854, 5360, 5634, 5119, 6044, 483, 4717, 1851, 369, 1491, 3489, 4776, 6436, 4056, 3273, 5611, 190, 2486, 2007, 1596, 1433, 2531, 3712, 3058, 4719, 2751, 4892, 4106, 2402, 5212, 79, 3593, 2823, 5121, 4372, 3230, 3974, 2004, 5222, 1098, 3023, 6386, 124, 4943, 6460, 3831, 4197, 108, 647, 4563, 2104, 1254, 2566, 3465, 2256, 5479, 4709, 238, 941, 3397, 5958, 1275, 5560, 2484, 1177, 3990, 1189, 3778, 1505, 5341, 469, 1902, 4904, 3771, 3403, 6195, 1584, 107, 1870, 263, 2142, 3613, 5777, 2757, 1667, 2865, 2179, 4385, 1941, 5858, 3930, 6550, 4489, 4813, 184, 3840, 462, 6166, 5379, 315, 3415, 3370, 1348, 3065, 2877, 3215, 1025, 6540, 3495, 3849, 6421, 3275, 6405, 1514, 6518, 98, 2092, 4551, 4987, 4041, 2071, 1379, 3171, 1351, 4185, 474, 679, 3209, 2160, 6286, 790, 6011, 2895, 752, 347, 4004, 59, 2502, 3463, 2081, 6039, 1901, 3365, 4199, 5555, 2644, 4426, 3477, 636, 6374, 1034, 878, 1175, 3098, 463, 4036, 5095, 3825, 1784, 694, 1946, 5406, 6331, 3364, 3800, 1921, 3924, 136, 5569, 5271, 4938, 4474, 2252, 2558, 6332, 5292, 6267, 4021, 2329, 4653, 3563, 1297, 4871, 858, 285, 1280, 3725, 947, 1014, 6207, 4407, 452, 1049, 5553, 1446, 1820, 2638, 3002, 623, 3473, 1759, 5767, 4858, 831, 3226, 3894, 6014, 2306, 3994, 1544, 2774, 4911, 4564, 3784, 6439, 3453, 1792, 5466, 3138, 3043, 2893, 4367, 147, 5462, 4852, 6237, 62, 308, 5482, 1756, 5339, 1693, 5120, 1438, 3177, 3277, 868, 2839, 6294, 3781, 3821, 4378, 2655, 1595, 2514, 4478, 3447, 2851, 3305, 4287, 3102, 3091, 2798, 5755, 5798, 2338, 3852, 4316, 4470, 4130, 886, 3706, 5943, 2226, 3975, 73, 4095, 1485, 5138, 6261, 4176, 5141, 933, 2616, 27, 3767, 4158, 1980, 2511, 4352, 3842, 2032, 1122, 1015, 1097, 2334, 353, 1844, 1653, 5094, 531, 6274, 6108, 6371, 2990, 3602, 4391, 932, 2244, 1450, 1044, 6095, 1586, 2932, 3120, 5590, 3520, 5180, 2473, 1999, 1924, 610, 2641, 359, 6426, 6054, 3214, 4473, 4851, 6533, 5855, 4204, 4898, 4606, 5214, 4052, 5757, 230, 6296, 2715, 1699, 6508, 4323, 3353, 2595, 1327, 3494, 3434, 3585, 159, 1825, 3482, 4402, 3169, 3225, 1752, 1904, 3236, 2308, 761, 2934, 2686, 706, 5593, 3718, 5142, 997, 526, 1757, 5770, 4617, 6338, 2426, 5013, 3666, 6037, 3216, 6404, 959, 1711, 2650, 4488, 404, 1127, 1172, 5150, 4091, 4665, 3039, 2508, 5886, 2534, 3776, 4013, 374, 1518, 5355, 2846, 4482, 3512, 3081, 3005, 2657, 1266, 5458, 2026, 3688, 4616, 3542, 2442, 6171, 5632, 1751, 2391, 1131, 1429, 3751, 2357, 4861, 3001, 2265, 3827, 4273, 2159, 3747, 6483, 6046, 3717, 5200, 1201, 4632, 3381, 5051, 3686, 2003, 3802, 4940, 2098, 2019, 3568, 3653, 4737, 2423, 2344, 3390, 3358, 2065, 2509, 1590, 5841, 5556, 383, 3559, 3982, 594, 3647, 6025, 379, 3523, 3783, 5865, 2739, 179, 3899, 756, 3206, 6534, 5215, 1043, 4225, 53, 6254, 845, 1938, 3084, 396, 3948, 2504, 5037, 6041, 618, 4802, 6551, 2603, 5772, 5218, 6104, 5711, 3909, 2167, 3136, 688, 834, 6120, 217, 4272, 1977, 5778, 3503, 5842, 45, 3272, 2470, 4305, 5240, 1589, 3234, 121, 2416, 772, 1907, 2862, 6165, 754, 3981, 4625, 3762, 1750, 3366, 2631, 3219, 258, 3368, 6414, 4269, 5483, 1954, 5977, 3648, 4479, 311, 5670, 5054, 2923, 5075, 5599, 1404, 475, 5092, 1869, 4930, 639, 509, 2348, 2782, 5677, 6112, 3600, 1027, 6081, 6047, 4499, 2490, 5203, 4582, 6418, 202, 63, 2171, 3041, 3733, 3649, 2395, 1185, 5961, 4811, 4886, 1826, 5776, 3676, 1619, 6380, 4177, 3691, 4531, 2095, 1330, 4670, 6376, 2609, 698, 2847, 5239, 465, 2447, 2178, 1849, 24, 3670, 2358, 4792, 4662, 4375, 521, 4206, 213, 787, 4187, 4409, 6161, 5124, 4586, 2501, 4145, 5204, 2548, 4184, 2811, 1790, 2480, 3204, 1268, 1415, 3803, 1270, 6257, 1865, 4496, 6541, 1678, 5805, 6298, 6250, 4537, 4271, 2148, 1945, 5931, 4364, 6452, 2532, 4572, 2742, 2794, 1737, 3560, 2975, 6526, 1575, 4113, 1775, 4166, 4518, 4926, 2317, 3932, 800, 1787, 4793, 292, 5015, 4526, 2202, 1601, 2512, 4012, 5946, 6381, 4735, 5627, 841, 5011, 3501, 5916, 887, 4603, 5529, 3793, 5176, 621, 2016, 4961, 2898, 607, 5211, 5935, 4979, 5644, 5364, 4490, 3816, 836, 565, 5008, 1256, 3228, 4939, 6187, 1984, 3082, 5028, 3574, 5324, 6013, 1157, 6194, 205, 4627, 1781, 478, 446, 4565, 1706, 291, 6169, 5503, 750, 4771, 2235, 3554, 3483, 6093, 4449, 2392, 5173, 1132, 321, 1196, 5546, 3057, 1530, 2827, 4975, 3907, 2658, 2451, 5389, 3405, 2187, 6417, 6059, 2112, 1365, 2855, 1987, 3047, 3548, 2579, 1033, 3270, 3984, 4191, 2903, 4766, 2253, 4809, 3581, 3265, 4115, 2067, 2446, 4875, 3411, 1673, 5325, 1083, 6089, 2064, 968, 427, 1498, 5280, 2629, 2517, 2327, 883, 5890, 1621, 3246, 4781, 6182, 2843, 6040, 4908, 71, 5235, 4080, 6301, 4465, 1358, 1007, 6209, 4139, 2341, 876, 2425, 625, 4775, 4241, 5310, 2663, 4379, 2089, 504, 3448, 5510, 4468, 2635, 2699, 5440, 4536, 5147, 5535, 1406, 2304, 3474, 5353, 2181, 6538, 5097, 2035, 3895, 4621, 5359, 2576, 865, 1522, 954, 5017, 6385, 1039, 3658, 5859, 6530, 5358, 4063, 4200, 5568, 6280, 617, 3911, 5973, 133, 2149, 5913, 5470, 5132, 3502, 3285, 4401, 5079, 2605, 6400, 1998, 464, 719, 3106, 1789, 608, 4486, 4214, 5233, 3535, 2014, 3008, 4699, 182, 950, 228, 2274, 5137, 1216, 3184, 2960, 2322, 2553, 4897, 4292, 5867, 2325, 317, 5343, 1094, 457, 5712, 5893, 5600, 5947, 4360, 4134, 1114, 2141, 6094, 2572, 6050, 5594, 4992, 5690, 2970, 262, 5681, 3490, 4970, 134, 2342, 1917, 3866, 3337, 766, 2403, 2993, 5024, 5266, 5284, 3633, 2808, 1046, 6029, 1936, 2363, 3150, 3335, 2826, 2735, 1197, 3239, 6035, 5055, 2884, 2830, 3099, 5521, 4438, 4274, 2370, 3738, 6198, 4726, 6058, 3761, 4381, 2959, 4823, 4458, 1847, 949, 3348, 6507, 3888, 4808, 1079, 5563, 917, 4698, 1872, 1914, 471, 3527, 1449, 4064, 5925, 3078, 2968, 3514, 5815, 477, 3786, 875, 6036, 2313, 37, 3753, 6333, 1617, 2000, 5728, 1608, 295, 5638, 2612, 2305, 643, 6387, 4899, 3543, 2170, 1022, 196, 1862, 2564, 1460, 3673, 4870, 4947, 4648, 344, 4932, 4628, 6251, 1412, 6350, 1501, 2654, 275, 1832, 4369, 5559, 3332, 2767, 4855, 5647, 2428, 1117, 2439, 5030, 4079, 385, 5485, 6282, 2487, 548, 5602, 1582, 1113, 4259, 1852, 1092, 4747, 61, 2330, 5597, 693, 2387, 3756, 3999, 5549, 3765, 6531, 2915, 4905, 5633, 2268, 3958, 3187, 5884, 5972, 4370, 437, 5369, 6379, 5843, 5128, 1510, 5558, 5155, 1496, 6304, 4652, 4327, 6339, 6113, 5468, 5091, 6424, 2090, 3592, 2388, 3417, 5922, 1328, 6090, 3097, 1613, 5306, 3518, 3757, 296, 1367, 2483, 5788, 6242, 4400, 3746, 5868, 1503, 2601, 4517, 3063, 779, 2863, 1168, 21, 3262, 4787, 2397, 6536, 3400, 189, 633, 3203, 3622, 3266, 4945, 2683, 4988, 5202, 3309, 3865, 180, 3830, 3845, 1278, 1041, 5350, 5455, 3597, 5232, 6189, 5182, 5994, 5026, 1814, 5762, 3432, 4112, 4669, 3939, 4534, 5361, 6328, 2957, 861, 3625, 518, 361, 4174, 3915, 4633, 5783, 2355, 2453, 2259, 1004, 3382, 2076, 5551, 5562, 4848, 847, 615, 4483, 1288, 4530, 1296, 629, 313, 5607, 3488, 2682, 1577, 5488, 2656, 6492, 5536, 6004, 3393, 3318, 3954, 2759, 3071, 3991, 4569, 5687, 4786, 5264, 3972, 4541, 1738, 6454, 1295, 5930, 5785, 4037, 1856, 1908, 5567, 4104, 111, 4611, 4614, 5724, 1456, 3551, 4538, 5293, 100, 5838, 5509, 5199, 3846, 1426, 6548, 2944, 2986, 306, 2978, 5114, 297, 4869, 1179, 5396, 145, 5201, 3709, 3147, 856, 3610, 5423, 3143, 4116, 5564, 6183, 4959, 1760, 857, 3996, 5448, 5796, 4223, 6481, 6295, 4637, 4686, 3873, 6048, 3970, 4668, 32, 3977, 5206, 2731, 5302, 4883, 3586, 1285, 5314, 2163, 758, 3404, 3333, 871, 4170, 2015, 3931, 3536, 6422, 4767, 5870, 1915, 2008, 2737, 3409, 1755, 1493, 2362, 5721, 5399, 4657, 2677, 3955, 4525, 4169, 6125, 4910, 2475, 3486, 676, 5282, 4829, 2947, 5694, 5727, 5716, 395, 1121, 401, 2389, 1893, 22, 3711, 4763, 4285, 3298, 2985, 2347, 851, 6366, 2697, 277, 4831, 1085, 943, 1356, 2524, 5012, 1329, 5773, 4481, 4532, 2400, 2522, 1352, 5385, 513, 1299, 2147, 3107, 1662, 4554, 3736, 6248, 6259, 4731, 2850, 155, 697, 3493, 1029, 4114, 3668, 5258, 5303, 3284, 1375, 5850, 5450, 632, 1338, 5143, 3794, 3104, 6019, 6321, 1585, 6410, 3728, 3665, 4937, 4102, 6177, 3644, 3856, 5126, 6489, 3349, 4570, 638, 6241, 2121, 6216, 1813, 1206, 1037, 2588, 1600, 5517, 1006, 3921, 4424, 6323, 3882, 2611, 6408, 4865, 5731, 4451, 3313, 1956, 4330, 960, 6262, 3422, 214, 2233, 6052, 2231, 2103, 515, 4477, 5189, 783, 1051, 516, 2777, 5566, 6244, 5122, 5942, 1488, 2987, 265, 4366, 1103, 5151, 6178, 3533, 3853, 5157, 1660, 6283, 4442, 1011, 1506, 3961, 640, 343, 72, 5057, 2848, 2563, 5309, 2555, 5208, 5854, 637, 5675, 2597, 962, 2087, 1602, 4193, 5996, 4324, 3119, 201, 4003, 480, 294, 5031, 25, 4589, 2101, 4069, 4705, 4476, 1128, 3324, 3049, 554, 4604, 4949, 1681, 397, 6006, 566, 2351, 2333, 4540, 1298, 2747, 3719, 354, 6431, 4258, 4948, 3963, 6083, 6365, 3223, 5268, 2088, 4571, 2891, 4087, 3224, 4834, 3833, 3429, 5715, 5759, 2744, 5394, 2467, 1451, 5856, 3056, 1262, 5862, 995, 2174, 1274, 461, 2834, 6110, 4821, 5603, 2602, 1599, 3326, 3576, 2606, 2630, 1013, 3680, 5348, 15, 1709, 5768, 4014, 5960, 5226, 5071, 5181, 4359, 4785, 185, 5290, 2801, 849, 928, 5878, 6443, 2997, 4127, 2906, 2472, 4326, 451, 5963, 375, 2914, 2892, 5689, 2310, 3545, 2283, 3212, 4065, 5876, 3293, 3511, 2814, 912, 2303, 2809, 3205, 2117, 2222, 3327, 4475, 674, 4251, 2646, 6399, 1428, 1855, 3606, 3029, 5834, 4453, 6141, 289, 4602, 4993, 5346, 3159, 6451, 5115, 2270, 1957, 5427, 956, 4404, 523, 2728, 6505, 5853, 1323, 2228, 31, 1895, 936, 590, 5362, 2797, 3181, 6299, 5111, 1021, 2230, 3040, 961, 1343, 4503, 135, 3095, 3261, 4439, 2771, 682, 5187, 456, 5230, 4002, 714, 3371, 1769, 4189, 2939, 5438, 5926, 6459, 5836, 1829, 158, 1286, 426, 5320, 763, 3851, 3835, 2799, 1193, 3642, 5377, 1381, 5636, 4203, 1732, 6024, 4175, 3789, 2581, 1355, 6358, 4744, 221, 1495, 5139, 3934, 3301, 1858, 1271, 3172, 2266, 468, 5591, 2138, 4733, 4192, 4505, 3438, 4033, 2194, 1194, 4814, 2448, 6174, 6175, 5861, 2172, 3699, 3612, 6284, 2414, 5635, 6200, 1422, 644, 6097, 3809, 955, 5941, 4556, 6088, 4519, 4951, 4125, 2384, 4734, 6528, 3211, 2197, 2315, 5217, 762, 5345, 99, 3292, 5118, 3496, 3354, 2836, 3884, 4732, 5640, 1209, 5894, 5424, 5371, 3394, 208, 3562, 4284, 3042, 458, 4230, 377, 1167, 6289, 6188, 4440, 2343, 1403, 5938, 4389, 940, 5464, 4736, 5041, 5801, 4450, 3524, 3439, 5294, 4683, 1876, 5619, 2309, 6080, 3235, 152, 4202, 597, 1776, 3072, 5426, 1017, 2943, 6359, 5019, 1093, 5052, 18, 2063, 4978, 3698, 3714, 4704, 695, 2935, 6219, 450, 5484, 833, 2887, 6173, 4147, 49, 1853, 6135, 2494, 3233, 5227, 2578, 4111, 6077, 2989, 5696, 2577, 6010, 3070, 5106, 3399, 2242, 1364, 5384, 3476, 2875, 5442, 4410, 2962, 3584, 3864, 1130, 4807, 4315, 4664, 1868, 3131, 2152, 1816, 2937, 888, 5781, 3664, 3920, 701, 4035, 3883, 3176, 2288, 6432, 4213, 1997, 6514, 5191, 4824, 785, 2430, 4332, 3590, 771, 2666, 3061, 517, 1018, 2632, 2582, 1104, 2936, 4953, 2928, 2086, 2896, 114, 3345, 4437, 2876, 5625, 6162, 4343, 1537, 5059, 276, 3112, 604, 1088, 864, 534, 2105, 4579, 5022, 667, 5177, 4998, 3829, 4522, 6435, 5453, 6042, 1199, 3462, 4885, 5997, 1612, 555, 3889, 5047, 207, 4689, 713, 6009, 2023, 5354, 3241, 2860, 2802, 6462, 5351, 447, 1242, 1576, 562, 4247, 4165, 1763, 3927, 2332, 3707, 2645, 6349, 798, 801, 3801, 1535, 2011, 4432, 1279, 2562, 2368, 5952, 631, 4222, 716, 305, 4325, 4073, 3515, 348, 4121, 5190, 3423, 4964, 4966, 2410, 1374, 2594, 4607, 6215, 2591, 4634, 6131, 4681, 4803, 2364, 1244, 3858, 3487, 4567, 1730, 429, 5881, 4459, 4042, 3158, 204, 4040, 1669, 1038, 681, 4933, 2479, 3594, 1793, 2822, 3124, 3478, 2445, 6419, 1246, 6329, 4164, 3157, 6117, 3962, 1591, 137, 5889, 3133, 4050, 685, 532, 370, 5802, 1827, 2927, 479, 4860, 2586, 6220, 4533, 923, 1407, 1594, 236, 2169, 6079, 4712, 1045, 3841, 5349, 3191, 5234, 2710, 4423, 268, 2907, 4168, 5225, 1112, 5873, 5131, 5237, 2422, 3556, 4245, 278, 6506, 2837, 3552, 634, 5774, 4456, 3650, 1905, 2432, 4912, 5272, 4585, 2106, 5758, 4550, 122, 5236, 223, 1253, 2971, 3848, 543, 6464, 4308, 6107, 4277, 4231, 3918, 4331, 232, 3355, 5920]\n",
      "test ids:  [0, 1, 2, 3, 4, 5, 6, 7, 8, 9, 10, 11, 12, 40, 81, 82, 83, 84, 85, 86, 87, 88, 89, 90, 91, 92, 93, 94, 120, 162, 163, 164, 165, 166, 167, 168, 169, 170, 171, 172, 173, 174, 175, 200, 243, 244, 245, 246, 247, 248, 249, 250, 251, 252, 253, 254, 255, 256, 257, 280, 324, 325, 326, 327, 328, 329, 330, 331, 332, 333, 334, 335, 336, 337, 338, 339, 360, 405, 406, 407, 408, 409, 410, 411, 412, 413, 414, 415, 416, 417, 418, 419, 420, 421, 440, 486, 487, 488, 489, 490, 491, 492, 493, 494, 495, 496, 497, 498, 499, 500, 501, 502, 520, 567, 568, 569, 570, 571, 572, 573, 574, 575, 576, 577, 578, 579, 580, 581, 582, 583, 584, 600, 648, 649, 650, 651, 652, 653, 654, 655, 656, 657, 658, 659, 660, 661, 662, 663, 664, 665, 666, 680, 729, 730, 731, 732, 733, 734, 735, 736, 737, 738, 739, 740, 741, 742, 743, 744, 745, 746, 747, 748, 760, 810, 811, 812, 813, 814, 815, 816, 817, 818, 819, 820, 821, 822, 823, 824, 825, 826, 827, 828, 829, 840, 891, 892, 893, 894, 895, 896, 897, 898, 899, 900, 901, 902, 903, 904, 905, 906, 907, 908, 909, 910, 911, 920, 972, 973, 974, 975, 976, 977, 978, 979, 980, 981, 982, 983, 984, 985, 986, 987, 988, 989, 990, 991, 992, 993, 1000, 1053, 1054, 1055, 1056, 1057, 1058, 1059, 1060, 1061, 1062, 1063, 1064, 1065, 1066, 1067, 1068, 1069, 1070, 1071, 1072, 1073, 1074, 1075, 1080, 1135, 1136, 1137, 1138, 1139, 1140, 1141, 1142, 1143, 1144, 1145, 1146, 1147, 1148, 1149, 1150, 1151, 1152, 1153, 1154, 1155, 1156, 1160, 1217, 1218, 1219, 1220, 1221, 1222, 1223, 1224, 1225, 1226, 1227, 1228, 1229, 1230, 1231, 1232, 1233, 1234, 1235, 1236, 1237, 1238, 1240, 1300, 1301, 1302, 1303, 1304, 1305, 1306, 1307, 1308, 1309, 1310, 1311, 1312, 1313, 1314, 1315, 1316, 1317, 1318, 1319, 1320, 1382, 1383, 1384, 1385, 1386, 1387, 1388, 1389, 1390, 1391, 1392, 1393, 1394, 1395, 1396, 1397, 1398, 1399, 1400, 1401, 1465, 1466, 1467, 1468, 1469, 1470, 1471, 1472, 1473, 1474, 1475, 1476, 1477, 1478, 1479, 1480, 1481, 1482, 1483, 1547, 1548, 1549, 1550, 1551, 1552, 1553, 1554, 1555, 1556, 1557, 1558, 1559, 1560, 1561, 1562, 1563, 1564, 1565, 1629, 1630, 1631, 1632, 1633, 1634, 1635, 1636, 1637, 1638, 1639, 1640, 1641, 1642, 1643, 1644, 1645, 1646, 1647, 1700, 1712, 1713, 1714, 1715, 1716, 1717, 1718, 1719, 1720, 1721, 1722, 1723, 1724, 1725, 1726, 1727, 1728, 1780, 1794, 1795, 1796, 1797, 1798, 1799, 1800, 1801, 1802, 1803, 1804, 1805, 1806, 1807, 1808, 1809, 1810, 1860, 1877, 1878, 1879, 1880, 1881, 1882, 1883, 1884, 1885, 1886, 1887, 1888, 1889, 1890, 1891, 1892, 1940, 1959, 1960, 1961, 1962, 1963, 1964, 1965, 1966, 1967, 1968, 1969, 1970, 1971, 1972, 1973, 1974, 2020, 2040, 2041, 2042, 2043, 2044, 2045, 2046, 2047, 2048, 2049, 2050, 2051, 2052, 2053, 2054, 2055, 2100, 2120, 2124, 2125, 2126, 2127, 2128, 2129, 2130, 2131, 2132, 2133, 2134, 2135, 2136, 2137, 2180, 2200, 2206, 2207, 2208, 2209, 2210, 2211, 2212, 2213, 2214, 2215, 2216, 2217, 2218, 2219, 2260, 2280, 2289, 2290, 2291, 2292, 2293, 2294, 2295, 2296, 2297, 2298, 2299, 2300, 2340, 2360, 2371, 2372, 2373, 2374, 2375, 2376, 2377, 2378, 2379, 2380, 2381, 2382, 2420, 2440, 2454, 2455, 2456, 2457, 2458, 2459, 2460, 2461, 2462, 2463, 2464, 2500, 2520, 2536, 2537, 2538, 2539, 2540, 2541, 2542, 2543, 2544, 2545, 2546, 2580, 2600, 2618, 2619, 2620, 2621, 2622, 2623, 2624, 2625, 2626, 2627, 2660, 2680, 2701, 2702, 2703, 2704, 2705, 2706, 2707, 2708, 2709, 2740, 2760, 2783, 2784, 2785, 2786, 2787, 2788, 2789, 2790, 2791, 2820, 2840, 2866, 2867, 2868, 2869, 2870, 2871, 2872, 2873, 2900, 2920, 2948, 2949, 2950, 2951, 2952, 2953, 2954, 2980, 3000, 3030, 3031, 3032, 3033, 3034, 3035, 3036, 3060, 3080, 3113, 3114, 3115, 3116, 3117, 3118, 3140, 3160, 3195, 3196, 3197, 3198, 3199, 3200, 3220, 3240, 3278, 3279, 3280, 3281, 3300, 3360, 3361, 3362, 3363, 3380, 3443, 3444, 3445, 3460, 3525, 3526, 3540, 3607, 3608, 3620, 3690, 3700, 3772, 3780, 3854, 3860, 3936, 3940, 4018, 4019, 4020, 4099, 4100, 4101, 4180, 4181, 4182, 4183, 4260, 4263, 4264, 4265, 4266, 4340, 4345, 4346, 4347, 4348, 4420, 4427, 4428, 4429, 4430, 4431, 4500, 4508, 4509, 4510, 4511, 4512, 4513, 4580, 4590, 4591, 4592, 4593, 4594, 4595, 4660, 4672, 4673, 4674, 4675, 4676, 4677, 4678, 4740, 4753, 4754, 4755, 4756, 4757, 4758, 4759, 4760, 4820, 4835, 4836, 4837, 4838, 4839, 4840, 4841, 4842, 4843, 4900, 4917, 4918, 4919, 4920, 4921, 4922, 4923, 4924, 4925, 4980, 4999, 5000, 5001, 5002, 5003, 5004, 5005, 5006, 5007, 5060, 5080, 5081, 5082, 5083, 5084, 5085, 5086, 5087, 5088, 5089, 5090, 5140, 5162, 5163, 5164, 5165, 5166, 5167, 5168, 5169, 5170, 5171, 5172, 5220, 5244, 5245, 5246, 5247, 5248, 5249, 5250, 5251, 5252, 5253, 5254, 5255, 5300, 5326, 5327, 5328, 5329, 5330, 5331, 5332, 5333, 5334, 5335, 5336, 5337, 5380, 5407, 5408, 5409, 5410, 5411, 5412, 5413, 5414, 5415, 5416, 5417, 5418, 5419, 5420, 5460, 5489, 5490, 5491, 5492, 5493, 5494, 5495, 5496, 5497, 5498, 5499, 5500, 5501, 5502, 5540, 5571, 5572, 5573, 5574, 5575, 5576, 5577, 5578, 5579, 5580, 5581, 5582, 5583, 5584, 5620, 5653, 5654, 5655, 5656, 5657, 5658, 5659, 5660, 5661, 5662, 5663, 5664, 5665, 5666, 5667, 5700, 5734, 5735, 5736, 5737, 5738, 5739, 5740, 5741, 5742, 5743, 5744, 5745, 5746, 5747, 5748, 5749, 5780, 5816, 5817, 5818, 5819, 5820, 5821, 5822, 5823, 5824, 5825, 5826, 5827, 5828, 5829, 5830, 5831, 5860, 5898, 5899, 5900, 5901, 5902, 5903, 5904, 5905, 5906, 5907, 5908, 5909, 5910, 5911, 5912, 5940, 5979, 5980, 5981, 5982, 5983, 5984, 5985, 5986, 5987, 5988, 5989, 5990, 5991, 5992, 5993, 6020, 6061, 6062, 6063, 6064, 6065, 6066, 6067, 6068, 6069, 6070, 6071, 6072, 6073, 6074, 6100, 6143, 6144, 6145, 6146, 6147, 6148, 6149, 6150, 6151, 6152, 6153, 6154, 6155, 6180, 6225, 6226, 6227, 6228, 6229, 6230, 6231, 6232, 6233, 6234, 6235, 6236, 6260, 6306, 6307, 6308, 6309, 6310, 6311, 6312, 6313, 6314, 6315, 6316, 6317, 6340, 6388, 6389, 6390, 6391, 6392, 6393, 6394, 6395, 6396, 6397, 6398, 6420, 6470, 6471, 6472, 6473, 6474, 6475, 6476, 6477, 6478, 6479, 6500, 6552, 6553, 6554, 6555, 6556, 6557, 6558, 6559, 6560]\n",
      "CPU times: user 186 ms, sys: 240 ms, total: 426 ms\n",
      "Wall time: 426 ms\n"
     ]
    }
   ],
   "source": [
    "%%time\n",
    "n_total = len(simulation.dataframe)\n",
    "n_train = len(simulation.dataframe[simulation.dataframe.type_of == \"train\"])\n",
    "n_val = len(simulation.dataframe[simulation.dataframe.type_of == \"val\"])\n",
    "n_test = len(simulation.dataframe[simulation.dataframe.type_of == \"test\"])\n",
    "n_train_hamiltonians = len(simulation.train_ids)\n",
    "n_val_hamiltonians = len(simulation.val_ids)\n",
    "n_test_hamiltonians = len(simulation.test_ids)\n",
    "n_total_hamiltonians = n_train_hamiltonians + n_val_hamiltonians + n_test_hamiltonians\n",
    "\n",
    "print(\"% train: \", n_train/n_total)\n",
    "print(\"% val: \",  n_val/n_total)\n",
    "print(\"% test: \", n_test/n_total)\n",
    "print(\"% train + val + test: \", (n_train+n_val+n_test)/n_total)\n",
    "print(\"\\n\")\n",
    "print(\"number of train hamiltonians: \", n_train_hamiltonians)\n",
    "print(\"number of val hamiltonians: \", n_val_hamiltonians)\n",
    "print(\"number of test hamiltonians: \", n_test_hamiltonians)\n",
    "print(\"total number of hamiltonians: \", n_total_hamiltonians)\n",
    "print(\"\\n\")\n",
    "print(\"train ids: \", simulation.train_ids)\n",
    "print(\"val ids: \", simulation.val_ids)\n",
    "print(\"test ids: \", simulation.test_ids)"
   ]
  },
  {
   "cell_type": "markdown",
   "metadata": {
    "papermill": {
     "duration": 0.037106,
     "end_time": "2020-07-18T16:19:38.817847",
     "exception": false,
     "start_time": "2020-07-18T16:19:38.780741",
     "status": "completed"
    },
    "tags": []
   },
   "source": [
    "#### Checking summaries"
   ]
  },
  {
   "cell_type": "code",
   "execution_count": 31,
   "metadata": {
    "execution": {
     "iopub.execute_input": "2020-07-18T16:19:38.896920Z",
     "iopub.status.busy": "2020-07-18T16:19:38.896607Z",
     "iopub.status.idle": "2020-07-18T16:19:38.916239Z",
     "shell.execute_reply": "2020-07-18T16:19:38.916511Z"
    },
    "papermill": {
     "duration": 0.05988,
     "end_time": "2020-07-18T16:19:38.916577",
     "exception": false,
     "start_time": "2020-07-18T16:19:38.856697",
     "status": "completed"
    },
    "tags": []
   },
   "outputs": [
    {
     "name": "stdout",
     "output_type": "stream",
     "text": [
      "length of ham_summary:  6561\n",
      "CPU times: user 82 µs, sys: 0 ns, total: 82 µs\n",
      "Wall time: 58.2 µs\n"
     ]
    },
    {
     "data": {
      "text/html": [
       "<div>\n",
       "<style scoped>\n",
       "    .dataframe tbody tr th:only-of-type {\n",
       "        vertical-align: middle;\n",
       "    }\n",
       "\n",
       "    .dataframe tbody tr th {\n",
       "        vertical-align: top;\n",
       "    }\n",
       "\n",
       "    .dataframe thead th {\n",
       "        text-align: right;\n",
       "    }\n",
       "</style>\n",
       "<table border=\"1\" class=\"dataframe\">\n",
       "  <thead>\n",
       "    <tr style=\"text-align: right;\">\n",
       "      <th></th>\n",
       "      <th>t1</th>\n",
       "      <th>t2</th>\n",
       "      <th>type_of</th>\n",
       "      <th>-1</th>\n",
       "      <th>0</th>\n",
       "      <th>1</th>\n",
       "      <th>2</th>\n",
       "      <th>phase</th>\n",
       "      <th>pred_phase</th>\n",
       "    </tr>\n",
       "    <tr>\n",
       "      <th>id</th>\n",
       "      <th></th>\n",
       "      <th></th>\n",
       "      <th></th>\n",
       "      <th></th>\n",
       "      <th></th>\n",
       "      <th></th>\n",
       "      <th></th>\n",
       "      <th></th>\n",
       "      <th></th>\n",
       "    </tr>\n",
       "  </thead>\n",
       "  <tbody>\n",
       "    <tr>\n",
       "      <th>0</th>\n",
       "      <td>-2.0</td>\n",
       "      <td>-2.00</td>\n",
       "      <td>test</td>\n",
       "      <td>0.05</td>\n",
       "      <td>0.41</td>\n",
       "      <td>0.27</td>\n",
       "      <td>0.27</td>\n",
       "      <td>999</td>\n",
       "      <td>0</td>\n",
       "    </tr>\n",
       "    <tr>\n",
       "      <th>1</th>\n",
       "      <td>-2.0</td>\n",
       "      <td>-1.95</td>\n",
       "      <td>test</td>\n",
       "      <td>0.11</td>\n",
       "      <td>0.34</td>\n",
       "      <td>0.23</td>\n",
       "      <td>0.32</td>\n",
       "      <td>-1</td>\n",
       "      <td>0</td>\n",
       "    </tr>\n",
       "    <tr>\n",
       "      <th>2</th>\n",
       "      <td>-2.0</td>\n",
       "      <td>-1.90</td>\n",
       "      <td>test</td>\n",
       "      <td>0.10</td>\n",
       "      <td>0.37</td>\n",
       "      <td>0.23</td>\n",
       "      <td>0.30</td>\n",
       "      <td>-1</td>\n",
       "      <td>0</td>\n",
       "    </tr>\n",
       "    <tr>\n",
       "      <th>3</th>\n",
       "      <td>-2.0</td>\n",
       "      <td>-1.85</td>\n",
       "      <td>test</td>\n",
       "      <td>0.12</td>\n",
       "      <td>0.39</td>\n",
       "      <td>0.22</td>\n",
       "      <td>0.27</td>\n",
       "      <td>-1</td>\n",
       "      <td>0</td>\n",
       "    </tr>\n",
       "    <tr>\n",
       "      <th>4</th>\n",
       "      <td>-2.0</td>\n",
       "      <td>-1.80</td>\n",
       "      <td>test</td>\n",
       "      <td>0.08</td>\n",
       "      <td>0.40</td>\n",
       "      <td>0.27</td>\n",
       "      <td>0.25</td>\n",
       "      <td>-1</td>\n",
       "      <td>0</td>\n",
       "    </tr>\n",
       "    <tr>\n",
       "      <th>...</th>\n",
       "      <td>...</td>\n",
       "      <td>...</td>\n",
       "      <td>...</td>\n",
       "      <td>...</td>\n",
       "      <td>...</td>\n",
       "      <td>...</td>\n",
       "      <td>...</td>\n",
       "      <td>...</td>\n",
       "      <td>...</td>\n",
       "    </tr>\n",
       "    <tr>\n",
       "      <th>6556</th>\n",
       "      <td>2.0</td>\n",
       "      <td>1.80</td>\n",
       "      <td>test</td>\n",
       "      <td>0.30</td>\n",
       "      <td>0.20</td>\n",
       "      <td>0.20</td>\n",
       "      <td>0.30</td>\n",
       "      <td>-1</td>\n",
       "      <td>2</td>\n",
       "    </tr>\n",
       "    <tr>\n",
       "      <th>6557</th>\n",
       "      <td>2.0</td>\n",
       "      <td>1.85</td>\n",
       "      <td>test</td>\n",
       "      <td>0.26</td>\n",
       "      <td>0.18</td>\n",
       "      <td>0.20</td>\n",
       "      <td>0.36</td>\n",
       "      <td>-1</td>\n",
       "      <td>2</td>\n",
       "    </tr>\n",
       "    <tr>\n",
       "      <th>6558</th>\n",
       "      <td>2.0</td>\n",
       "      <td>1.90</td>\n",
       "      <td>test</td>\n",
       "      <td>0.17</td>\n",
       "      <td>0.22</td>\n",
       "      <td>0.19</td>\n",
       "      <td>0.42</td>\n",
       "      <td>-1</td>\n",
       "      <td>2</td>\n",
       "    </tr>\n",
       "    <tr>\n",
       "      <th>6559</th>\n",
       "      <td>2.0</td>\n",
       "      <td>1.95</td>\n",
       "      <td>test</td>\n",
       "      <td>0.14</td>\n",
       "      <td>0.20</td>\n",
       "      <td>0.22</td>\n",
       "      <td>0.44</td>\n",
       "      <td>-1</td>\n",
       "      <td>2</td>\n",
       "    </tr>\n",
       "    <tr>\n",
       "      <th>6560</th>\n",
       "      <td>2.0</td>\n",
       "      <td>2.00</td>\n",
       "      <td>test</td>\n",
       "      <td>0.14</td>\n",
       "      <td>0.24</td>\n",
       "      <td>0.18</td>\n",
       "      <td>0.44</td>\n",
       "      <td>999</td>\n",
       "      <td>2</td>\n",
       "    </tr>\n",
       "  </tbody>\n",
       "</table>\n",
       "<p>6561 rows × 9 columns</p>\n",
       "</div>"
      ],
      "text/plain": [
       "       t1    t2 type_of    -1     0     1     2  phase  pred_phase\n",
       "id                                                                \n",
       "0    -2.0 -2.00    test  0.05  0.41  0.27  0.27    999           0\n",
       "1    -2.0 -1.95    test  0.11  0.34  0.23  0.32     -1           0\n",
       "2    -2.0 -1.90    test  0.10  0.37  0.23  0.30     -1           0\n",
       "3    -2.0 -1.85    test  0.12  0.39  0.22  0.27     -1           0\n",
       "4    -2.0 -1.80    test  0.08  0.40  0.27  0.25     -1           0\n",
       "...   ...   ...     ...   ...   ...   ...   ...    ...         ...\n",
       "6556  2.0  1.80    test  0.30  0.20  0.20  0.30     -1           2\n",
       "6557  2.0  1.85    test  0.26  0.18  0.20  0.36     -1           2\n",
       "6558  2.0  1.90    test  0.17  0.22  0.19  0.42     -1           2\n",
       "6559  2.0  1.95    test  0.14  0.20  0.22  0.44     -1           2\n",
       "6560  2.0  2.00    test  0.14  0.24  0.18  0.44    999           2\n",
       "\n",
       "[6561 rows x 9 columns]"
      ]
     },
     "execution_count": 31,
     "metadata": {},
     "output_type": "execute_result"
    }
   ],
   "source": [
    "%%time\n",
    "ham_summary = simulation.hamiltonian_summary\n",
    "print(\"length of ham_summary: \", len(ham_summary))\n",
    "ham_summary"
   ]
  },
  {
   "cell_type": "code",
   "execution_count": 32,
   "metadata": {
    "execution": {
     "iopub.execute_input": "2020-07-18T16:19:38.994824Z",
     "iopub.status.busy": "2020-07-18T16:19:38.994480Z",
     "iopub.status.idle": "2020-07-18T16:19:39.026965Z",
     "shell.execute_reply": "2020-07-18T16:19:39.027278Z"
    },
    "papermill": {
     "duration": 0.072715,
     "end_time": "2020-07-18T16:19:39.027342",
     "exception": false,
     "start_time": "2020-07-18T16:19:38.954627",
     "status": "completed"
    },
    "tags": []
   },
   "outputs": [
    {
     "data": {
      "text/html": [
       "<div>\n",
       "<style scoped>\n",
       "    .dataframe tbody tr th:only-of-type {\n",
       "        vertical-align: middle;\n",
       "    }\n",
       "\n",
       "    .dataframe tbody tr th {\n",
       "        vertical-align: top;\n",
       "    }\n",
       "\n",
       "    .dataframe thead th {\n",
       "        text-align: right;\n",
       "    }\n",
       "</style>\n",
       "<table border=\"1\" class=\"dataframe\">\n",
       "  <thead>\n",
       "    <tr style=\"text-align: right;\">\n",
       "      <th></th>\n",
       "      <th>t1</th>\n",
       "      <th>t2</th>\n",
       "      <th>-1</th>\n",
       "      <th>0</th>\n",
       "      <th>1</th>\n",
       "      <th>2</th>\n",
       "      <th>phase</th>\n",
       "      <th>pred_phase</th>\n",
       "    </tr>\n",
       "  </thead>\n",
       "  <tbody>\n",
       "    <tr>\n",
       "      <th>count</th>\n",
       "      <td>6561.000000</td>\n",
       "      <td>6.561000e+03</td>\n",
       "      <td>6561.000000</td>\n",
       "      <td>6561.000000</td>\n",
       "      <td>6561.000000</td>\n",
       "      <td>6561.000000</td>\n",
       "      <td>6561.000000</td>\n",
       "      <td>6561.000000</td>\n",
       "    </tr>\n",
       "    <tr>\n",
       "      <th>mean</th>\n",
       "      <td>0.000000</td>\n",
       "      <td>-4.331917e-18</td>\n",
       "      <td>0.187793</td>\n",
       "      <td>0.318749</td>\n",
       "      <td>0.312355</td>\n",
       "      <td>0.181103</td>\n",
       "      <td>28.045877</td>\n",
       "      <td>0.499771</td>\n",
       "    </tr>\n",
       "    <tr>\n",
       "      <th>std</th>\n",
       "      <td>1.169134</td>\n",
       "      <td>1.169134e+00</td>\n",
       "      <td>0.337620</td>\n",
       "      <td>0.417621</td>\n",
       "      <td>0.414506</td>\n",
       "      <td>0.330360</td>\n",
       "      <td>163.557011</td>\n",
       "      <td>1.010482</td>\n",
       "    </tr>\n",
       "    <tr>\n",
       "      <th>min</th>\n",
       "      <td>-2.000000</td>\n",
       "      <td>-2.000000e+00</td>\n",
       "      <td>0.000000</td>\n",
       "      <td>0.000000</td>\n",
       "      <td>0.000000</td>\n",
       "      <td>0.000000</td>\n",
       "      <td>-1.000000</td>\n",
       "      <td>-1.000000</td>\n",
       "    </tr>\n",
       "    <tr>\n",
       "      <th>25%</th>\n",
       "      <td>-1.000000</td>\n",
       "      <td>-1.000000e+00</td>\n",
       "      <td>0.000000</td>\n",
       "      <td>0.000000</td>\n",
       "      <td>0.000000</td>\n",
       "      <td>0.000000</td>\n",
       "      <td>0.000000</td>\n",
       "      <td>0.000000</td>\n",
       "    </tr>\n",
       "    <tr>\n",
       "      <th>50%</th>\n",
       "      <td>0.000000</td>\n",
       "      <td>0.000000e+00</td>\n",
       "      <td>0.010000</td>\n",
       "      <td>0.050000</td>\n",
       "      <td>0.050000</td>\n",
       "      <td>0.000000</td>\n",
       "      <td>1.000000</td>\n",
       "      <td>0.000000</td>\n",
       "    </tr>\n",
       "    <tr>\n",
       "      <th>75%</th>\n",
       "      <td>1.000000</td>\n",
       "      <td>1.000000e+00</td>\n",
       "      <td>0.130000</td>\n",
       "      <td>0.900000</td>\n",
       "      <td>0.870000</td>\n",
       "      <td>0.120000</td>\n",
       "      <td>1.000000</td>\n",
       "      <td>1.000000</td>\n",
       "    </tr>\n",
       "    <tr>\n",
       "      <th>max</th>\n",
       "      <td>2.000000</td>\n",
       "      <td>2.000000e+00</td>\n",
       "      <td>1.000000</td>\n",
       "      <td>1.000000</td>\n",
       "      <td>1.000000</td>\n",
       "      <td>1.000000</td>\n",
       "      <td>999.000000</td>\n",
       "      <td>2.000000</td>\n",
       "    </tr>\n",
       "  </tbody>\n",
       "</table>\n",
       "</div>"
      ],
      "text/plain": [
       "                t1            t2           -1            0            1  \\\n",
       "count  6561.000000  6.561000e+03  6561.000000  6561.000000  6561.000000   \n",
       "mean      0.000000 -4.331917e-18     0.187793     0.318749     0.312355   \n",
       "std       1.169134  1.169134e+00     0.337620     0.417621     0.414506   \n",
       "min      -2.000000 -2.000000e+00     0.000000     0.000000     0.000000   \n",
       "25%      -1.000000 -1.000000e+00     0.000000     0.000000     0.000000   \n",
       "50%       0.000000  0.000000e+00     0.010000     0.050000     0.050000   \n",
       "75%       1.000000  1.000000e+00     0.130000     0.900000     0.870000   \n",
       "max       2.000000  2.000000e+00     1.000000     1.000000     1.000000   \n",
       "\n",
       "                 2        phase   pred_phase  \n",
       "count  6561.000000  6561.000000  6561.000000  \n",
       "mean      0.181103    28.045877     0.499771  \n",
       "std       0.330360   163.557011     1.010482  \n",
       "min       0.000000    -1.000000    -1.000000  \n",
       "25%       0.000000     0.000000     0.000000  \n",
       "50%       0.000000     1.000000     0.000000  \n",
       "75%       0.120000     1.000000     1.000000  \n",
       "max       1.000000   999.000000     2.000000  "
      ]
     },
     "execution_count": 32,
     "metadata": {},
     "output_type": "execute_result"
    }
   ],
   "source": [
    "ham_summary.describe()"
   ]
  },
  {
   "cell_type": "code",
   "execution_count": 33,
   "metadata": {
    "execution": {
     "iopub.execute_input": "2020-07-18T16:19:39.107541Z",
     "iopub.status.busy": "2020-07-18T16:19:39.107040Z",
     "iopub.status.idle": "2020-07-18T16:19:39.121740Z",
     "shell.execute_reply": "2020-07-18T16:19:39.121992Z"
    },
    "papermill": {
     "duration": 0.055524,
     "end_time": "2020-07-18T16:19:39.122060",
     "exception": false,
     "start_time": "2020-07-18T16:19:39.066536",
     "status": "completed"
    },
    "tags": []
   },
   "outputs": [
    {
     "name": "stdout",
     "output_type": "stream",
     "text": [
      "length of ham_summary:  656100\n"
     ]
    },
    {
     "data": {
      "text/html": [
       "<div>\n",
       "<style scoped>\n",
       "    .dataframe tbody tr th:only-of-type {\n",
       "        vertical-align: middle;\n",
       "    }\n",
       "\n",
       "    .dataframe tbody tr th {\n",
       "        vertical-align: top;\n",
       "    }\n",
       "\n",
       "    .dataframe thead th {\n",
       "        text-align: right;\n",
       "    }\n",
       "</style>\n",
       "<table border=\"1\" class=\"dataframe\">\n",
       "  <thead>\n",
       "    <tr style=\"text-align: right;\">\n",
       "      <th></th>\n",
       "      <th>id</th>\n",
       "      <th>phase</th>\n",
       "      <th>pred_phase</th>\n",
       "      <th>type_of</th>\n",
       "    </tr>\n",
       "  </thead>\n",
       "  <tbody>\n",
       "    <tr>\n",
       "      <th>0</th>\n",
       "      <td>0</td>\n",
       "      <td>999</td>\n",
       "      <td>-1</td>\n",
       "      <td>test</td>\n",
       "    </tr>\n",
       "    <tr>\n",
       "      <th>1</th>\n",
       "      <td>0</td>\n",
       "      <td>999</td>\n",
       "      <td>0</td>\n",
       "      <td>test</td>\n",
       "    </tr>\n",
       "    <tr>\n",
       "      <th>2</th>\n",
       "      <td>0</td>\n",
       "      <td>999</td>\n",
       "      <td>1</td>\n",
       "      <td>test</td>\n",
       "    </tr>\n",
       "    <tr>\n",
       "      <th>3</th>\n",
       "      <td>0</td>\n",
       "      <td>999</td>\n",
       "      <td>1</td>\n",
       "      <td>test</td>\n",
       "    </tr>\n",
       "    <tr>\n",
       "      <th>4</th>\n",
       "      <td>0</td>\n",
       "      <td>999</td>\n",
       "      <td>1</td>\n",
       "      <td>test</td>\n",
       "    </tr>\n",
       "    <tr>\n",
       "      <th>...</th>\n",
       "      <td>...</td>\n",
       "      <td>...</td>\n",
       "      <td>...</td>\n",
       "      <td>...</td>\n",
       "    </tr>\n",
       "    <tr>\n",
       "      <th>656095</th>\n",
       "      <td>6560</td>\n",
       "      <td>999</td>\n",
       "      <td>0</td>\n",
       "      <td>test</td>\n",
       "    </tr>\n",
       "    <tr>\n",
       "      <th>656096</th>\n",
       "      <td>6560</td>\n",
       "      <td>999</td>\n",
       "      <td>0</td>\n",
       "      <td>test</td>\n",
       "    </tr>\n",
       "    <tr>\n",
       "      <th>656097</th>\n",
       "      <td>6560</td>\n",
       "      <td>999</td>\n",
       "      <td>-1</td>\n",
       "      <td>test</td>\n",
       "    </tr>\n",
       "    <tr>\n",
       "      <th>656098</th>\n",
       "      <td>6560</td>\n",
       "      <td>999</td>\n",
       "      <td>-1</td>\n",
       "      <td>test</td>\n",
       "    </tr>\n",
       "    <tr>\n",
       "      <th>656099</th>\n",
       "      <td>6560</td>\n",
       "      <td>999</td>\n",
       "      <td>0</td>\n",
       "      <td>test</td>\n",
       "    </tr>\n",
       "  </tbody>\n",
       "</table>\n",
       "<p>656100 rows × 4 columns</p>\n",
       "</div>"
      ],
      "text/plain": [
       "          id  phase  pred_phase type_of\n",
       "0          0    999          -1    test\n",
       "1          0    999           0    test\n",
       "2          0    999           1    test\n",
       "3          0    999           1    test\n",
       "4          0    999           1    test\n",
       "...      ...    ...         ...     ...\n",
       "656095  6560    999           0    test\n",
       "656096  6560    999           0    test\n",
       "656097  6560    999          -1    test\n",
       "656098  6560    999          -1    test\n",
       "656099  6560    999           0    test\n",
       "\n",
       "[656100 rows x 4 columns]"
      ]
     },
     "execution_count": 33,
     "metadata": {},
     "output_type": "execute_result"
    }
   ],
   "source": [
    "eigen_summary = simulation.eigenvector_summary\n",
    "print(\"length of ham_summary: \", len(eigen_summary))\n",
    "eigen_summary"
   ]
  },
  {
   "cell_type": "markdown",
   "metadata": {
    "papermill": {
     "duration": 0.037643,
     "end_time": "2020-07-18T16:19:39.198532",
     "exception": false,
     "start_time": "2020-07-18T16:19:39.160889",
     "status": "completed"
    },
    "tags": []
   },
   "source": [
    "#### Checking accuracies"
   ]
  },
  {
   "cell_type": "code",
   "execution_count": 34,
   "metadata": {
    "execution": {
     "iopub.execute_input": "2020-07-18T16:19:39.279905Z",
     "iopub.status.busy": "2020-07-18T16:19:39.279595Z",
     "iopub.status.idle": "2020-07-18T16:19:39.290229Z",
     "shell.execute_reply": "2020-07-18T16:19:39.289893Z"
    },
    "papermill": {
     "duration": 0.053229,
     "end_time": "2020-07-18T16:19:39.290280",
     "exception": false,
     "start_time": "2020-07-18T16:19:39.237051",
     "status": "completed"
    },
    "tags": []
   },
   "outputs": [
    {
     "data": {
      "text/plain": [
       "{'eigenvector_train': 0.9993408185440058,\n",
       " 'eigenvector_val': 0.8992210144927536,\n",
       " 'eigenvector_test': 0.5362747380675204,\n",
       " 'hamiltonian_train': 1.0,\n",
       " 'hamiltonian_val': 0.9974637681159421,\n",
       " 'hamiltonian_test': 0.7951105937136205}"
      ]
     },
     "execution_count": 34,
     "metadata": {},
     "output_type": "execute_result"
    }
   ],
   "source": [
    "simulation.accuracy"
   ]
  },
  {
   "cell_type": "markdown",
   "metadata": {
    "papermill": {
     "duration": 0.037852,
     "end_time": "2020-07-18T16:19:39.366858",
     "exception": false,
     "start_time": "2020-07-18T16:19:39.329006",
     "status": "completed"
    },
    "tags": []
   },
   "source": [
    "#### Checking data stored in  memory"
   ]
  },
  {
   "cell_type": "code",
   "execution_count": 35,
   "metadata": {
    "execution": {
     "iopub.execute_input": "2020-07-18T16:19:39.446358Z",
     "iopub.status.busy": "2020-07-18T16:19:39.446033Z",
     "iopub.status.idle": "2020-07-18T16:19:39.456674Z",
     "shell.execute_reply": "2020-07-18T16:19:39.456349Z"
    },
    "papermill": {
     "duration": 0.05125,
     "end_time": "2020-07-18T16:19:39.456724",
     "exception": false,
     "start_time": "2020-07-18T16:19:39.405474",
     "status": "completed"
    },
    "tags": []
   },
   "outputs": [
    {
     "data": {
      "text/plain": [
       "[]"
      ]
     },
     "execution_count": 35,
     "metadata": {},
     "output_type": "execute_result"
    }
   ],
   "source": [
    "ham_summary_list = simulation.hamiltonian_summary_list\n",
    "ham_summary_list"
   ]
  },
  {
   "cell_type": "code",
   "execution_count": 36,
   "metadata": {
    "execution": {
     "iopub.execute_input": "2020-07-18T16:19:39.536098Z",
     "iopub.status.busy": "2020-07-18T16:19:39.535788Z",
     "iopub.status.idle": "2020-07-18T16:19:39.545659Z",
     "shell.execute_reply": "2020-07-18T16:19:39.545911Z"
    },
    "papermill": {
     "duration": 0.049886,
     "end_time": "2020-07-18T16:19:39.545978",
     "exception": false,
     "start_time": "2020-07-18T16:19:39.496092",
     "status": "completed"
    },
    "tags": []
   },
   "outputs": [
    {
     "data": {
      "text/plain": [
       "[]"
      ]
     },
     "execution_count": 36,
     "metadata": {},
     "output_type": "execute_result"
    }
   ],
   "source": [
    "eigen_summary_list = simulation.eigenvector_summary_list\n",
    "eigen_summary_list"
   ]
  },
  {
   "cell_type": "code",
   "execution_count": 37,
   "metadata": {
    "execution": {
     "iopub.execute_input": "2020-07-18T16:19:39.628282Z",
     "iopub.status.busy": "2020-07-18T16:19:39.627963Z",
     "iopub.status.idle": "2020-07-18T16:19:39.638735Z",
     "shell.execute_reply": "2020-07-18T16:19:39.638370Z"
    },
    "papermill": {
     "duration": 0.054076,
     "end_time": "2020-07-18T16:19:39.638790",
     "exception": false,
     "start_time": "2020-07-18T16:19:39.584714",
     "status": "completed"
    },
    "tags": []
   },
   "outputs": [
    {
     "data": {
      "text/plain": [
       "{'eigenvector_train': [],\n",
       " 'eigenvector_val': [],\n",
       " 'eigenvector_test': [],\n",
       " 'hamiltonian_train': [],\n",
       " 'hamiltonian_val': [],\n",
       " 'hamiltonian_test': []}"
      ]
     },
     "execution_count": 37,
     "metadata": {},
     "output_type": "execute_result"
    }
   ],
   "source": [
    "accuracy_list = simulation.accuracy_list\n",
    "accuracy_list"
   ]
  },
  {
   "cell_type": "code",
   "execution_count": null,
   "metadata": {
    "papermill": {
     "duration": 0.038229,
     "end_time": "2020-07-18T16:19:39.715732",
     "exception": false,
     "start_time": "2020-07-18T16:19:39.677503",
     "status": "completed"
    },
    "tags": []
   },
   "outputs": [],
   "source": []
  },
  {
   "cell_type": "code",
   "execution_count": null,
   "metadata": {
    "papermill": {
     "duration": 0.039845,
     "end_time": "2020-07-18T16:19:39.794745",
     "exception": false,
     "start_time": "2020-07-18T16:19:39.754900",
     "status": "completed"
    },
    "tags": []
   },
   "outputs": [],
   "source": []
  },
  {
   "cell_type": "code",
   "execution_count": 38,
   "metadata": {
    "execution": {
     "iopub.execute_input": "2020-07-18T16:19:39.876122Z",
     "iopub.status.busy": "2020-07-18T16:19:39.875605Z",
     "iopub.status.idle": "2020-07-18T16:19:39.885356Z",
     "shell.execute_reply": "2020-07-18T16:19:39.885026Z"
    },
    "papermill": {
     "duration": 0.050235,
     "end_time": "2020-07-18T16:19:39.885407",
     "exception": false,
     "start_time": "2020-07-18T16:19:39.835172",
     "status": "completed"
    },
    "tags": []
   },
   "outputs": [],
   "source": [
    "#simulation.fourier_matrix"
   ]
  },
  {
   "cell_type": "code",
   "execution_count": 39,
   "metadata": {
    "execution": {
     "iopub.execute_input": "2020-07-18T16:19:39.966344Z",
     "iopub.status.busy": "2020-07-18T16:19:39.965848Z",
     "iopub.status.idle": "2020-07-18T16:19:39.976579Z",
     "shell.execute_reply": "2020-07-18T16:19:39.976220Z"
    },
    "papermill": {
     "duration": 0.051835,
     "end_time": "2020-07-18T16:19:39.976633",
     "exception": false,
     "start_time": "2020-07-18T16:19:39.924798",
     "status": "completed"
    },
    "tags": []
   },
   "outputs": [],
   "source": [
    "#simulation.fourier_matrix.shape"
   ]
  },
  {
   "cell_type": "code",
   "execution_count": 40,
   "metadata": {
    "execution": {
     "iopub.execute_input": "2020-07-18T16:19:40.056176Z",
     "iopub.status.busy": "2020-07-18T16:19:40.055681Z",
     "iopub.status.idle": "2020-07-18T16:19:40.065861Z",
     "shell.execute_reply": "2020-07-18T16:19:40.065530Z"
    },
    "papermill": {
     "duration": 0.050512,
     "end_time": "2020-07-18T16:19:40.065912",
     "exception": false,
     "start_time": "2020-07-18T16:19:40.015400",
     "status": "completed"
    },
    "tags": []
   },
   "outputs": [],
   "source": [
    "#simulation.fourier_matrix[:,0]"
   ]
  },
  {
   "cell_type": "code",
   "execution_count": 41,
   "metadata": {
    "execution": {
     "iopub.execute_input": "2020-07-18T16:19:40.146348Z",
     "iopub.status.busy": "2020-07-18T16:19:40.145839Z",
     "iopub.status.idle": "2020-07-18T16:19:40.155935Z",
     "shell.execute_reply": "2020-07-18T16:19:40.155590Z"
    },
    "papermill": {
     "duration": 0.050697,
     "end_time": "2020-07-18T16:19:40.155988",
     "exception": false,
     "start_time": "2020-07-18T16:19:40.105291",
     "status": "completed"
    },
    "tags": []
   },
   "outputs": [],
   "source": [
    "#simulation.fourier_matrix[:,1]"
   ]
  },
  {
   "cell_type": "code",
   "execution_count": 42,
   "metadata": {
    "execution": {
     "iopub.execute_input": "2020-07-18T16:19:40.237779Z",
     "iopub.status.busy": "2020-07-18T16:19:40.237283Z",
     "iopub.status.idle": "2020-07-18T16:19:40.247205Z",
     "shell.execute_reply": "2020-07-18T16:19:40.246880Z"
    },
    "papermill": {
     "duration": 0.052378,
     "end_time": "2020-07-18T16:19:40.247255",
     "exception": false,
     "start_time": "2020-07-18T16:19:40.194877",
     "status": "completed"
    },
    "tags": []
   },
   "outputs": [],
   "source": [
    "#np.exp(-1j*2*np.pi*3/100)"
   ]
  },
  {
   "cell_type": "code",
   "execution_count": 43,
   "metadata": {
    "execution": {
     "iopub.execute_input": "2020-07-18T16:19:40.327560Z",
     "iopub.status.busy": "2020-07-18T16:19:40.327041Z",
     "iopub.status.idle": "2020-07-18T16:19:40.336934Z",
     "shell.execute_reply": "2020-07-18T16:19:40.337257Z"
    },
    "papermill": {
     "duration": 0.050649,
     "end_time": "2020-07-18T16:19:40.337325",
     "exception": false,
     "start_time": "2020-07-18T16:19:40.286676",
     "status": "completed"
    },
    "tags": []
   },
   "outputs": [],
   "source": [
    "#for i in range(1,50):\n",
    "#    print(\"\\n\")\n",
    "#    print(i)\n",
    "#    print(np.sum((np.real(simulation.fourier_matrix[:,i]) - np.real(simulation.fourier_matrix[:,-i]))**2))\n",
    "#    print(np.sum((np.imag(simulation.fourier_matrix[:,i])+ np.imag(simulation.fourier_matrix[:,-i]))**2))"
   ]
  },
  {
   "cell_type": "code",
   "execution_count": 44,
   "metadata": {
    "execution": {
     "iopub.execute_input": "2020-07-18T16:19:40.416575Z",
     "iopub.status.busy": "2020-07-18T16:19:40.416257Z",
     "iopub.status.idle": "2020-07-18T16:19:40.448719Z",
     "shell.execute_reply": "2020-07-18T16:19:40.448366Z"
    },
    "papermill": {
     "duration": 0.072837,
     "end_time": "2020-07-18T16:19:40.448771",
     "exception": false,
     "start_time": "2020-07-18T16:19:40.375934",
     "status": "completed"
    },
    "tags": []
   },
   "outputs": [],
   "source": [
    "#print(simulation.fourier_matrix[:,0])"
   ]
  },
  {
   "cell_type": "code",
   "execution_count": 45,
   "metadata": {
    "execution": {
     "iopub.execute_input": "2020-07-18T16:19:40.529250Z",
     "iopub.status.busy": "2020-07-18T16:19:40.528939Z",
     "iopub.status.idle": "2020-07-18T16:19:40.538584Z",
     "shell.execute_reply": "2020-07-18T16:19:40.538864Z"
    },
    "papermill": {
     "duration": 0.050809,
     "end_time": "2020-07-18T16:19:40.538936",
     "exception": false,
     "start_time": "2020-07-18T16:19:40.488127",
     "status": "completed"
    },
    "tags": []
   },
   "outputs": [],
   "source": [
    "#print(simulation.fourier_matrix[:,50])"
   ]
  },
  {
   "cell_type": "code",
   "execution_count": null,
   "metadata": {
    "papermill": {
     "duration": 0.038758,
     "end_time": "2020-07-18T16:19:40.617460",
     "exception": false,
     "start_time": "2020-07-18T16:19:40.578702",
     "status": "completed"
    },
    "tags": []
   },
   "outputs": [],
   "source": []
  }
 ],
 "metadata": {
  "celltoolbar": "Tags",
  "kernelspec": {
   "display_name": "ml_top_phases",
   "language": "python",
   "name": "ml_top_phases"
  },
  "language_info": {
   "codemirror_mode": {
    "name": "ipython",
    "version": 3
   },
   "file_extension": ".py",
   "mimetype": "text/x-python",
   "name": "python",
   "nbconvert_exporter": "python",
   "pygments_lexer": "ipython3",
   "version": "3.6.10"
  },
  "papermill": {
   "duration": 2055.555572,
   "end_time": "2020-07-18T16:19:40.764814",
   "environment_variables": {},
   "exception": null,
   "input_path": "0_simulation_template.ipynb",
   "output_path": "zzz_ssh2_dct_best_12_wavevector_sites_simulation_notebook.ipynb",
   "parameters": {
    "allowed_windings": [
     -1,
     0,
     1,
     2
    ],
    "csv_path": "/home/rio/ssh_csvs/ssh2/periodic_100_6561.csv",
    "features_to_use": null,
    "fit_params": null,
    "fourier_features_to_use": [
     0,
     1,
     2,
     3,
     4,
     5,
     6,
     7,
     47,
     48,
     49,
     50
    ],
    "fourier_fillna": false,
    "fourier_mode": "dct",
    "fourier_normalize": false,
    "fourier_real": null,
    "model_kw": {
     "criterion": "entropy",
     "n_estimators": 25,
     "n_jobs": -1
    },
    "model_name": "RandomForestClassifier",
    "n_experiments": 100,
    "pred_params": null,
    "random_features": false,
    "random_state": 2016,
    "save_accuracy": true,
    "save_eigenvector": true,
    "save_hamiltonian": true,
    "save_models": true,
    "shuffle_features": false,
    "shuffle_rows": true,
    "simulation_dir": "/home/rio/ssh_simulations/ssh2/periodic_100_6561/dct_best_12_wavevector_sites",
    "start_n": 0,
    "store_in_lists": false,
    "val_split": 0.5
   },
   "start_time": "2020-07-18T15:45:25.209242",
   "version": "2.1.0"
  }
 },
 "nbformat": 4,
 "nbformat_minor": 2
}