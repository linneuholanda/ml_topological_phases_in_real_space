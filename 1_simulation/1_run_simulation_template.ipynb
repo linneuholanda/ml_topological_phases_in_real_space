{
 "cells": [
  {
   "cell_type": "markdown",
   "metadata": {},
   "source": [
    "# Running simulation template\n",
    "\n",
    "This notebook runs the template notebook `simulation_template.ipynb`, which performs simulations for nearest neighbours (ssh1) and second neighbours (ssh2) systems."
   ]
  },
  {
   "cell_type": "code",
   "execution_count": 1,
   "metadata": {},
   "outputs": [
    {
     "name": "stdout",
     "output_type": "stream",
     "text": [
      "CPU times: user 725 ms, sys: 230 ms, total: 956 ms\n",
      "Wall time: 609 ms\n"
     ]
    }
   ],
   "source": [
    "%%time\n",
    "%load_ext autoreload\n",
    "%autoreload 2\n",
    "from simulation import *"
   ]
  },
  {
   "cell_type": "markdown",
   "metadata": {},
   "source": [
    "## SSH1"
   ]
  },
  {
   "cell_type": "code",
   "execution_count": 2,
   "metadata": {},
   "outputs": [],
   "source": [
    "template = TEMPLATE_NOTEBOOK\n",
    "parameters = {\"model_kw\":{\"criterion\":\"entropy\"}, \\\n",
    "             \"allowed_windings\":[0,1], \"val_split\":0.9, \"features_to_use\":None, \"shuffle_features\":False,\\\n",
    "             \"n_experiments\":100, \"start_n\":0, \"fit_params\":None, \"shuffle_rows\": True,\"pred_params\":None,\\\n",
    "             \"random_features\":False, \"store_in_lists\":False, \"save_eigenvector\":True,\\\n",
    "             \"save_hamiltonian\":True, \"save_accuracy\":True, \"save_models\":True,\\\n",
    "             }\n",
    "kernel_name = KERNEL_NAME"
   ]
  },
  {
   "cell_type": "markdown",
   "metadata": {},
   "source": [
    "#### periodic_100_6561"
   ]
  },
  {
   "cell_type": "code",
   "execution_count": null,
   "metadata": {},
   "outputs": [
    {
     "data": {
      "application/vnd.jupyter.widget-view+json": {
       "model_id": "72ca36e12561454cb0c1e198faa467d2",
       "version_major": 2,
       "version_minor": 0
      },
      "text/plain": [
       "HBox(children=(FloatProgress(value=0.0, description='Executing', max=25.0, style=ProgressStyle(description_wid…"
      ]
     },
     "metadata": {},
     "output_type": "display_data"
    }
   ],
   "source": [
    "%%time\n",
    "parameters[\"csv_path\"] = SSH1_PERIODIC_100_6561_CSV \n",
    "parameters[\"model_name\"] = \"DecisionTreeClassifier\"\n",
    "parameters[\"simulation_dir\"] = SSH1_PERIODIC_100_6561_SIMULATION_DIR\n",
    "parameters[\"random_state\"] = 133\n",
    "output_file = SSH1_PERIODIC_100_6561_OUTPUT_FILE\n",
    "pm.execute_notebook(template,\n",
    "                    output_file,\n",
    "                    parameters=parameters,\n",
    "                    kernel_name=kernel_name,\n",
    "                    nest_asyncio=True)"
   ]
  },
  {
   "cell_type": "markdown",
   "metadata": {},
   "source": [
    "#### periodic_140_6561"
   ]
  },
  {
   "cell_type": "code",
   "execution_count": null,
   "metadata": {},
   "outputs": [],
   "source": [
    "%%time\n",
    "parameters[\"csv_path\"] = SSH1_PERIODIC_140_6561_CSV \n",
    "parameters[\"model_name\"] = \"DecisionTreeClassifier\"\n",
    "parameters[\"simulation_dir\"] = SSH1_PERIODIC_140_6561_SIMULATION_DIR\n",
    "parameters[\"random_state\"] = 147\n",
    "output_file = SSH1_PERIODIC_140_6561_OUTPUT_FILE\n",
    "pm.execute_notebook(template,\n",
    "                    output_file,\n",
    "                    parameters=parameters,\n",
    "                    kernel_name=kernel_name,\n",
    "                    nest_asyncio=True)"
   ]
  },
  {
   "cell_type": "markdown",
   "metadata": {},
   "source": [
    "#### periodic_180_6561"
   ]
  },
  {
   "cell_type": "code",
   "execution_count": null,
   "metadata": {},
   "outputs": [],
   "source": [
    "%%time\n",
    "parameters[\"csv_path\"] = SSH1_PERIODIC_180_6561_CSV \n",
    "parameters[\"model_name\"] = \"DecisionTreeClassifier\"\n",
    "parameters[\"simulation_dir\"] = SSH1_PERIODIC_180_6561_SIMULATION_DIR\n",
    "parameters[\"random_state\"] = 257\n",
    "output_file = SSH1_PERIODIC_180_6561_OUTPUT_FILE\n",
    "pm.execute_notebook(template,\n",
    "                    output_file,\n",
    "                    parameters=parameters,\n",
    "                    kernel_name=kernel_name,\n",
    "                    nest_asyncio=True)"
   ]
  },
  {
   "cell_type": "markdown",
   "metadata": {},
   "source": [
    "#### periodic_220_6561"
   ]
  },
  {
   "cell_type": "code",
   "execution_count": null,
   "metadata": {},
   "outputs": [],
   "source": [
    "%%time\n",
    "parameters[\"csv_path\"] = SSH1_PERIODIC_220_6561_CSV \n",
    "parameters[\"model_name\"] = \"DecisionTreeClassifier\"\n",
    "parameters[\"simulation_dir\"] = SSH1_PERIODIC_220_6561_SIMULATION_DIR\n",
    "parameters[\"random_state\"] = 383\n",
    "output_file = SSH1_PERIODIC_220_6561_OUTPUT_FILE\n",
    "pm.execute_notebook(template,\n",
    "                    output_file,\n",
    "                    parameters=parameters,\n",
    "                    kernel_name=kernel_name,\n",
    "                    nest_asyncio=True)"
   ]
  },
  {
   "cell_type": "markdown",
   "metadata": {},
   "source": [
    "## SSH2"
   ]
  },
  {
   "cell_type": "code",
   "execution_count": null,
   "metadata": {},
   "outputs": [],
   "source": [
    "template = TEMPLATE_NOTEBOOK\n",
    "parameters = {\"model_kw\":{\"criterion\":\"entropy\", \"n_estimators\":25, \"n_jobs\":-1}, \\\n",
    "             \"allowed_windings\":[-1,0,1,2], \"val_split\":0.5, \"features_to_use\":None, \"shuffle_features\":False,\\\n",
    "             \"n_experiments\":100, \"start_n\":0, \"fit_params\":None, \"shuffle_rows\": True,\"pred_params\":None,\\\n",
    "             \"random_features\":False, \"store_in_lists\":False, \"save_eigenvector\":True,\\\n",
    "             \"save_hamiltonian\":True, \"save_accuracy\":True, \"save_models\":True,\\\n",
    "             }\n",
    "kernel_name = KERNEL_NAME"
   ]
  },
  {
   "cell_type": "markdown",
   "metadata": {},
   "source": [
    "#### periodic_100_6561"
   ]
  },
  {
   "cell_type": "code",
   "execution_count": null,
   "metadata": {},
   "outputs": [],
   "source": [
    "%%time\n",
    "parameters[\"csv_path\"] = SSH2_PERIODIC_100_6561_CSV \n",
    "parameters[\"model_name\"] = \"RandomForestClassifier\"\n",
    "parameters[\"simulation_dir\"] = SSH2_PERIODIC_100_6561_SIMULATION_DIR\n",
    "parameters[\"random_state\"] = 834\n",
    "output_file = SSH2_PERIODIC_100_6561_OUTPUT_FILE\n",
    "pm.execute_notebook(template,\n",
    "                    output_file,\n",
    "                    parameters=parameters,\n",
    "                    kernel_name=kernel_name,\n",
    "                    nest_asyncio=True)"
   ]
  },
  {
   "cell_type": "markdown",
   "metadata": {},
   "source": [
    "#### periodic_140_6561"
   ]
  },
  {
   "cell_type": "code",
   "execution_count": null,
   "metadata": {},
   "outputs": [],
   "source": [
    "%%time\n",
    "parameters[\"csv_path\"] = SSH2_PERIODIC_140_6561_CSV \n",
    "parameters[\"model_name\"] = \"RandomForestClassifier\"\n",
    "parameters[\"simulation_dir\"] = SSH2_PERIODIC_140_6561_SIMULATION_DIR\n",
    "parameters[\"random_state\"] = 782\n",
    "output_file = SSH2_PERIODIC_140_6561_OUTPUT_FILE\n",
    "pm.execute_notebook(template,\n",
    "                    output_file,\n",
    "                    parameters=parameters,\n",
    "                    kernel_name=kernel_name,\n",
    "                    nest_asyncio=True)"
   ]
  },
  {
   "cell_type": "markdown",
   "metadata": {},
   "source": [
    "#### periodic_180_6561"
   ]
  },
  {
   "cell_type": "code",
   "execution_count": null,
   "metadata": {},
   "outputs": [],
   "source": [
    "%%time\n",
    "parameters[\"csv_path\"] = SSH2_PERIODIC_180_6561_CSV \n",
    "parameters[\"model_name\"] = \"RandomForestClassifier\"\n",
    "parameters[\"simulation_dir\"] = SSH2_PERIODIC_180_6561_SIMULATION_DIR\n",
    "parameters[\"random_state\"] = 11\n",
    "output_file = SSH2_PERIODIC_180_6561_OUTPUT_FILE\n",
    "pm.execute_notebook(template,\n",
    "                    output_file,\n",
    "                    parameters=parameters,\n",
    "                    kernel_name=kernel_name,\n",
    "                    nest_asyncio=True)"
   ]
  },
  {
   "cell_type": "markdown",
   "metadata": {},
   "source": [
    "#### periodic_220_6561"
   ]
  },
  {
   "cell_type": "code",
   "execution_count": null,
   "metadata": {},
   "outputs": [],
   "source": [
    "%%time\n",
    "parameters[\"csv_path\"] = SSH2_PERIODIC_220_6561_CSV \n",
    "parameters[\"model_name\"] = \"RandomForestClassifier\"\n",
    "parameters[\"simulation_dir\"] = SSH2_PERIODIC_220_6561_SIMULATION_DIR\n",
    "parameters[\"random_state\"] = 401\n",
    "output_file = SSH2_PERIODIC_220_6561_OUTPUT_FILE\n",
    "pm.execute_notebook(template,\n",
    "                    output_file,\n",
    "                    parameters=parameters,\n",
    "                    kernel_name=kernel_name,\n",
    "                    nest_asyncio=True)"
   ]
  },
  {
   "cell_type": "code",
   "execution_count": null,
   "metadata": {},
   "outputs": [],
   "source": []
  }
 ],
 "metadata": {
  "kernelspec": {
   "display_name": "ml_top_phases",
   "language": "python",
   "name": "ml_top_phases"
  },
  "language_info": {
   "codemirror_mode": {
    "name": "ipython",
    "version": 3
   },
   "file_extension": ".py",
   "mimetype": "text/x-python",
   "name": "python",
   "nbconvert_exporter": "python",
   "pygments_lexer": "ipython3",
   "version": "3.6.10"
  }
 },
 "nbformat": 4,
 "nbformat_minor": 4
}
