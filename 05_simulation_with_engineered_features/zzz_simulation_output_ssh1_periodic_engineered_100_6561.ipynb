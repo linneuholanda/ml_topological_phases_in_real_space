{
 "cells": [
  {
   "cell_type": "markdown",
   "metadata": {
    "papermill": {
     "duration": 0.019218,
     "end_time": "2020-07-08T02:15:18.044263",
     "exception": false,
     "start_time": "2020-07-08T02:15:18.025045",
     "status": "completed"
    },
    "tags": []
   },
   "source": [
    "# Simulation template \n",
    "\n",
    "In this notebook we run the machine learning analysis of topological phase transitions occurring  in both nearest-neighbours SSH models (ssh1) and second neighbours models (ssh2) as decribed in the paper [Machine learning topological phases in real space](https://arxiv.org/abs/1901.01963). Here the simulation is run with features generated from fourier components in the first scenario. This scenario is characterized by using only the EVEN wavevector space eigenmodes, computed from ALL real space components."
   ]
  },
  {
   "cell_type": "markdown",
   "metadata": {
    "papermill": {
     "duration": 0.016714,
     "end_time": "2020-07-08T02:15:18.076127",
     "exception": false,
     "start_time": "2020-07-08T02:15:18.059413",
     "status": "completed"
    },
    "tags": []
   },
   "source": [
    "## Defining parameters"
   ]
  },
  {
   "cell_type": "code",
   "execution_count": 1,
   "metadata": {
    "execution": {
     "iopub.execute_input": "2020-07-08T02:15:18.110832Z",
     "iopub.status.busy": "2020-07-08T02:15:18.109965Z",
     "iopub.status.idle": "2020-07-08T02:15:18.690991Z",
     "shell.execute_reply": "2020-07-08T02:15:18.690670Z"
    },
    "papermill": {
     "duration": 0.598123,
     "end_time": "2020-07-08T02:15:18.691047",
     "exception": false,
     "start_time": "2020-07-08T02:15:18.092924",
     "status": "completed"
    },
    "tags": []
   },
   "outputs": [
    {
     "name": "stdout",
     "output_type": "stream",
     "text": [
      "CPU times: user 703 ms, sys: 309 ms, total: 1.01 s\n",
      "Wall time: 574 ms\n"
     ]
    }
   ],
   "source": [
    "%%time\n",
    "%load_ext autoreload\n",
    "%autoreload 2\n",
    "from simulation import *"
   ]
  },
  {
   "cell_type": "code",
   "execution_count": 2,
   "metadata": {
    "execution": {
     "iopub.execute_input": "2020-07-08T02:15:18.726390Z",
     "iopub.status.busy": "2020-07-08T02:15:18.726070Z",
     "iopub.status.idle": "2020-07-08T02:15:18.737406Z",
     "shell.execute_reply": "2020-07-08T02:15:18.737773Z"
    },
    "papermill": {
     "duration": 0.031545,
     "end_time": "2020-07-08T02:15:18.737860",
     "exception": false,
     "start_time": "2020-07-08T02:15:18.706315",
     "status": "completed"
    },
    "tags": [
     "parameters"
    ]
   },
   "outputs": [
    {
     "name": "stdout",
     "output_type": "stream",
     "text": [
      "CPU times: user 79 µs, sys: 29 µs, total: 108 µs\n",
      "Wall time: 106 µs\n"
     ]
    }
   ],
   "source": [
    "%%time\n",
    "### Dataset and simulation parameters\n",
    "#csv_path = SSH2_PERIODIC_100_6561_CSV \n",
    "csv_path = SSH1_PERIODIC_100_6561_CSV \n",
    "model_name = \"DecisionTreeClassifier\"\n",
    "model_kw = {\"criterion\":\"entropy\"}\n",
    "allowed_windings = [0,1]\n",
    "#allowed_windings = [-1,0,1,2]\n",
    "simulation_dir = SSH1_PERIODIC_ENGINEERED_100_6561_SIMULATION_DIR\n",
    "#simulation_dir = SSH2_PERIODIC_ENGINEERED_100_6561_SIMULATION_DIR\n",
    "val_split = 0.9  \n",
    "features_to_use = None\n",
    "shuffle_features = False\n",
    "random_state = 83247\n",
    "\n",
    "### Fourier engineered features\n",
    "fourier_features = np.linspace(0,50,26).astype(int)\n",
    "mode = \"dct\"\n",
    "real = True\n",
    "normalize = True\n",
    "fillna = True\n",
    "\n",
    "### Running a simulation\n",
    "n_experiments = 5\n",
    "start_n = 0\n",
    "fit_params = None\n",
    "#mode=mode\n",
    "shuffle_rows = True\n",
    "pred_params = None\n",
    "random_features = False\n",
    "######### DON'T SET THIS TO TRUE UNLESS YOUR DATASET IS SMALL!! WILL FLOOD YOUR MEMORY!!!\n",
    "store_in_lists = False   \n",
    "########## BELOW ARE THE PARAMETERS THAT CONTROL WHAT WILL BE SAVED\n",
    "save_eigenvector=True\n",
    "save_hamiltonian=True \n",
    "save_accuracy=True \n",
    "save_models=True"
   ]
  },
  {
   "cell_type": "code",
   "execution_count": 3,
   "metadata": {
    "execution": {
     "iopub.execute_input": "2020-07-08T02:15:18.775174Z",
     "iopub.status.busy": "2020-07-08T02:15:18.774856Z",
     "iopub.status.idle": "2020-07-08T02:15:18.872480Z",
     "shell.execute_reply": "2020-07-08T02:15:18.874250Z"
    },
    "papermill": {
     "duration": 0.121471,
     "end_time": "2020-07-08T02:15:18.874559",
     "exception": false,
     "start_time": "2020-07-08T02:15:18.753088",
     "status": "completed"
    },
    "tags": [
     "injected-parameters"
    ]
   },
   "outputs": [],
   "source": [
    "# Parameters\n",
    "model_kw = {\"criterion\": \"entropy\"}\n",
    "allowed_windings = [0, 1]\n",
    "val_split = 0.9\n",
    "features_to_use = None\n",
    "shuffle_features = False\n",
    "n_experiments = 100\n",
    "start_n = 0\n",
    "fit_params = None\n",
    "shuffle_rows = True\n",
    "pred_params = None\n",
    "random_features = False\n",
    "store_in_lists = False\n",
    "save_eigenvector = True\n",
    "save_hamiltonian = True\n",
    "save_accuracy = True\n",
    "save_models = True\n",
    "csv_path = \"/home/rio/ssh_csvs/ssh1/periodic_100_6561.csv\"\n",
    "model_name = \"DecisionTreeClassifier\"\n",
    "simulation_dir = \"/home/rio/ssh_simulations/ssh1/periodic_engineered_100_6561\"\n",
    "random_state = 467\n",
    "fourier_features = [\n",
    "    0,\n",
    "    2,\n",
    "    4,\n",
    "    6,\n",
    "    8,\n",
    "    10,\n",
    "    12,\n",
    "    14,\n",
    "    16,\n",
    "    18,\n",
    "    20,\n",
    "    22,\n",
    "    24,\n",
    "    26,\n",
    "    28,\n",
    "    30,\n",
    "    32,\n",
    "    34,\n",
    "    36,\n",
    "    38,\n",
    "    40,\n",
    "    42,\n",
    "    44,\n",
    "    46,\n",
    "    48,\n",
    "    50,\n",
    "    52,\n",
    "    54,\n",
    "    56,\n",
    "    58,\n",
    "    60,\n",
    "    62,\n",
    "    64,\n",
    "    66,\n",
    "    68,\n",
    "    70,\n",
    "    72,\n",
    "    74,\n",
    "    76,\n",
    "    78,\n",
    "    80,\n",
    "    82,\n",
    "    84,\n",
    "    86,\n",
    "    88,\n",
    "    90,\n",
    "    92,\n",
    "    94,\n",
    "    96,\n",
    "    98,\n",
    "]\n",
    "mode = \"dft\"\n",
    "real = True\n",
    "normalize = True\n",
    "fillna = False\n"
   ]
  },
  {
   "cell_type": "code",
   "execution_count": 4,
   "metadata": {
    "execution": {
     "iopub.execute_input": "2020-07-08T02:15:18.954248Z",
     "iopub.status.busy": "2020-07-08T02:15:18.953942Z",
     "iopub.status.idle": "2020-07-08T02:15:18.995127Z",
     "shell.execute_reply": "2020-07-08T02:15:18.993433Z"
    },
    "papermill": {
     "duration": 0.067118,
     "end_time": "2020-07-08T02:15:18.995368",
     "exception": false,
     "start_time": "2020-07-08T02:15:18.928250",
     "status": "completed"
    },
    "tags": []
   },
   "outputs": [
    {
     "data": {
      "text/plain": [
       "[0,\n",
       " 2,\n",
       " 4,\n",
       " 6,\n",
       " 8,\n",
       " 10,\n",
       " 12,\n",
       " 14,\n",
       " 16,\n",
       " 18,\n",
       " 20,\n",
       " 22,\n",
       " 24,\n",
       " 26,\n",
       " 28,\n",
       " 30,\n",
       " 32,\n",
       " 34,\n",
       " 36,\n",
       " 38,\n",
       " 40,\n",
       " 42,\n",
       " 44,\n",
       " 46,\n",
       " 48,\n",
       " 50,\n",
       " 52,\n",
       " 54,\n",
       " 56,\n",
       " 58,\n",
       " 60,\n",
       " 62,\n",
       " 64,\n",
       " 66,\n",
       " 68,\n",
       " 70,\n",
       " 72,\n",
       " 74,\n",
       " 76,\n",
       " 78,\n",
       " 80,\n",
       " 82,\n",
       " 84,\n",
       " 86,\n",
       " 88,\n",
       " 90,\n",
       " 92,\n",
       " 94,\n",
       " 96,\n",
       " 98]"
      ]
     },
     "execution_count": 4,
     "metadata": {},
     "output_type": "execute_result"
    }
   ],
   "source": [
    "\n",
    "fourier_features"
   ]
  },
  {
   "cell_type": "code",
   "execution_count": 5,
   "metadata": {
    "execution": {
     "iopub.execute_input": "2020-07-08T02:15:19.055686Z",
     "iopub.status.busy": "2020-07-08T02:15:19.055363Z",
     "iopub.status.idle": "2020-07-08T02:15:24.527268Z",
     "shell.execute_reply": "2020-07-08T02:15:24.526954Z"
    },
    "papermill": {
     "duration": 5.491387,
     "end_time": "2020-07-08T02:15:24.527318",
     "exception": false,
     "start_time": "2020-07-08T02:15:19.035931",
     "status": "completed"
    },
    "tags": []
   },
   "outputs": [
    {
     "name": "stdout",
     "output_type": "stream",
     "text": [
      "Info on all data: \n",
      "\n",
      "<class 'pandas.core.frame.DataFrame'>\n",
      "Int64Index: 656100 entries, 0 to 656099\n",
      "Columns: 108 entries, id to feat99\n",
      "dtypes: float64(103), int32(3), object(2)\n",
      "memory usage: 538.1+ MB\n",
      "CPU times: user 5.15 s, sys: 302 ms, total: 5.45 s\n",
      "Wall time: 5.45 s\n"
     ]
    },
    {
     "data": {
      "text/html": [
       "<div>\n",
       "<style scoped>\n",
       "    .dataframe tbody tr th:only-of-type {\n",
       "        vertical-align: middle;\n",
       "    }\n",
       "\n",
       "    .dataframe tbody tr th {\n",
       "        vertical-align: top;\n",
       "    }\n",
       "\n",
       "    .dataframe thead th {\n",
       "        text-align: right;\n",
       "    }\n",
       "</style>\n",
       "<table border=\"1\" class=\"dataframe\">\n",
       "  <thead>\n",
       "    <tr style=\"text-align: right;\">\n",
       "      <th></th>\n",
       "      <th>id</th>\n",
       "      <th>path</th>\n",
       "      <th>t1</th>\n",
       "      <th>t2</th>\n",
       "      <th>winding</th>\n",
       "      <th>phase</th>\n",
       "      <th>pred_phase</th>\n",
       "      <th>type_of</th>\n",
       "      <th>feat0</th>\n",
       "      <th>feat1</th>\n",
       "      <th>...</th>\n",
       "      <th>feat90</th>\n",
       "      <th>feat91</th>\n",
       "      <th>feat92</th>\n",
       "      <th>feat93</th>\n",
       "      <th>feat94</th>\n",
       "      <th>feat95</th>\n",
       "      <th>feat96</th>\n",
       "      <th>feat97</th>\n",
       "      <th>feat98</th>\n",
       "      <th>feat99</th>\n",
       "    </tr>\n",
       "  </thead>\n",
       "  <tbody>\n",
       "    <tr>\n",
       "      <th>0</th>\n",
       "      <td>0</td>\n",
       "      <td>H_-2_-2_0.509296.dat</td>\n",
       "      <td>-2.0</td>\n",
       "      <td>-2.0</td>\n",
       "      <td>0.509296</td>\n",
       "      <td>999</td>\n",
       "      <td>666</td>\n",
       "      <td>test</td>\n",
       "      <td>0.100000</td>\n",
       "      <td>0.100000</td>\n",
       "      <td>...</td>\n",
       "      <td>0.100000</td>\n",
       "      <td>0.100000</td>\n",
       "      <td>0.100000</td>\n",
       "      <td>0.100000</td>\n",
       "      <td>0.100000</td>\n",
       "      <td>0.100000</td>\n",
       "      <td>0.100000</td>\n",
       "      <td>0.100000</td>\n",
       "      <td>0.100000</td>\n",
       "      <td>0.100000</td>\n",
       "    </tr>\n",
       "    <tr>\n",
       "      <th>1</th>\n",
       "      <td>0</td>\n",
       "      <td>H_-2_-2_0.509296.dat</td>\n",
       "      <td>-2.0</td>\n",
       "      <td>-2.0</td>\n",
       "      <td>0.509296</td>\n",
       "      <td>999</td>\n",
       "      <td>666</td>\n",
       "      <td>test</td>\n",
       "      <td>0.141421</td>\n",
       "      <td>0.141142</td>\n",
       "      <td>...</td>\n",
       "      <td>0.114412</td>\n",
       "      <td>0.108967</td>\n",
       "      <td>0.123928</td>\n",
       "      <td>0.119406</td>\n",
       "      <td>0.131490</td>\n",
       "      <td>0.127962</td>\n",
       "      <td>0.136978</td>\n",
       "      <td>0.134500</td>\n",
       "      <td>0.140306</td>\n",
       "      <td>0.138916</td>\n",
       "    </tr>\n",
       "    <tr>\n",
       "      <th>2</th>\n",
       "      <td>0</td>\n",
       "      <td>H_-2_-2_0.509296.dat</td>\n",
       "      <td>-2.0</td>\n",
       "      <td>-2.0</td>\n",
       "      <td>0.509296</td>\n",
       "      <td>999</td>\n",
       "      <td>666</td>\n",
       "      <td>test</td>\n",
       "      <td>0.141421</td>\n",
       "      <td>0.140306</td>\n",
       "      <td>...</td>\n",
       "      <td>0.043702</td>\n",
       "      <td>0.026500</td>\n",
       "      <td>0.075777</td>\n",
       "      <td>0.060214</td>\n",
       "      <td>0.103092</td>\n",
       "      <td>0.090145</td>\n",
       "      <td>0.123928</td>\n",
       "      <td>0.114412</td>\n",
       "      <td>0.136978</td>\n",
       "      <td>0.131490</td>\n",
       "    </tr>\n",
       "    <tr>\n",
       "      <th>3</th>\n",
       "      <td>0</td>\n",
       "      <td>H_-2_-2_0.509296.dat</td>\n",
       "      <td>-2.0</td>\n",
       "      <td>-2.0</td>\n",
       "      <td>0.509296</td>\n",
       "      <td>999</td>\n",
       "      <td>666</td>\n",
       "      <td>test</td>\n",
       "      <td>-0.100000</td>\n",
       "      <td>0.100000</td>\n",
       "      <td>...</td>\n",
       "      <td>-0.100000</td>\n",
       "      <td>0.100000</td>\n",
       "      <td>-0.100000</td>\n",
       "      <td>0.100000</td>\n",
       "      <td>-0.100000</td>\n",
       "      <td>0.100000</td>\n",
       "      <td>-0.100000</td>\n",
       "      <td>0.100000</td>\n",
       "      <td>-0.100000</td>\n",
       "      <td>0.100000</td>\n",
       "    </tr>\n",
       "    <tr>\n",
       "      <th>4</th>\n",
       "      <td>0</td>\n",
       "      <td>H_-2_-2_0.509296.dat</td>\n",
       "      <td>-2.0</td>\n",
       "      <td>-2.0</td>\n",
       "      <td>0.509296</td>\n",
       "      <td>999</td>\n",
       "      <td>666</td>\n",
       "      <td>test</td>\n",
       "      <td>0.000509</td>\n",
       "      <td>-0.008372</td>\n",
       "      <td>...</td>\n",
       "      <td>-0.082713</td>\n",
       "      <td>-0.089753</td>\n",
       "      <td>-0.067684</td>\n",
       "      <td>-0.075347</td>\n",
       "      <td>-0.051587</td>\n",
       "      <td>-0.059753</td>\n",
       "      <td>-0.034677</td>\n",
       "      <td>-0.043217</td>\n",
       "      <td>-0.017220</td>\n",
       "      <td>-0.026000</td>\n",
       "    </tr>\n",
       "  </tbody>\n",
       "</table>\n",
       "<p>5 rows × 108 columns</p>\n",
       "</div>"
      ],
      "text/plain": [
       "   id                  path   t1   t2   winding  phase  pred_phase type_of  \\\n",
       "0   0  H_-2_-2_0.509296.dat -2.0 -2.0  0.509296    999         666    test   \n",
       "1   0  H_-2_-2_0.509296.dat -2.0 -2.0  0.509296    999         666    test   \n",
       "2   0  H_-2_-2_0.509296.dat -2.0 -2.0  0.509296    999         666    test   \n",
       "3   0  H_-2_-2_0.509296.dat -2.0 -2.0  0.509296    999         666    test   \n",
       "4   0  H_-2_-2_0.509296.dat -2.0 -2.0  0.509296    999         666    test   \n",
       "\n",
       "      feat0     feat1  ...    feat90    feat91    feat92    feat93    feat94  \\\n",
       "0  0.100000  0.100000  ...  0.100000  0.100000  0.100000  0.100000  0.100000   \n",
       "1  0.141421  0.141142  ...  0.114412  0.108967  0.123928  0.119406  0.131490   \n",
       "2  0.141421  0.140306  ...  0.043702  0.026500  0.075777  0.060214  0.103092   \n",
       "3 -0.100000  0.100000  ... -0.100000  0.100000 -0.100000  0.100000 -0.100000   \n",
       "4  0.000509 -0.008372  ... -0.082713 -0.089753 -0.067684 -0.075347 -0.051587   \n",
       "\n",
       "     feat95    feat96    feat97    feat98    feat99  \n",
       "0  0.100000  0.100000  0.100000  0.100000  0.100000  \n",
       "1  0.127962  0.136978  0.134500  0.140306  0.138916  \n",
       "2  0.090145  0.123928  0.114412  0.136978  0.131490  \n",
       "3  0.100000 -0.100000  0.100000 -0.100000  0.100000  \n",
       "4 -0.059753 -0.034677 -0.043217 -0.017220 -0.026000  \n",
       "\n",
       "[5 rows x 108 columns]"
      ]
     },
     "execution_count": 5,
     "metadata": {},
     "output_type": "execute_result"
    }
   ],
   "source": [
    "%%time\n",
    "#Starting an instance of Simulation with a decision tree\n",
    "model = DecisionTreeClassifier(criterion=\"entropy\")\n",
    "#dict_args = {\"csv_path\":csv_path, \"model\":model, \"allowed_windings\":allowed_windings,\\\n",
    "#             \"simulation_dir\":simulation_dir, \"val_split\":val_split, \"features_to_use\":features_to_use,\\\n",
    "#            \"shuffle_features\":shuffle_features, \"random_state\":random_state}\n",
    "simulation = Simulation(csv_path,model_name,model_kw,allowed_windings,simulation_dir,val_split,features_to_use,\\\n",
    "                       shuffle_features,random_state)\n",
    "#simulation = Simulation(**dict_args)\n",
    "\n",
    "print(\"Info on all data: \\n\")\n",
    "simulation.dataframe.info()\n",
    "simulation.dataframe.head()"
   ]
  },
  {
   "cell_type": "markdown",
   "metadata": {
    "papermill": {
     "duration": 0.015793,
     "end_time": "2020-07-08T02:15:24.559563",
     "exception": false,
     "start_time": "2020-07-08T02:15:24.543770",
     "status": "completed"
    },
    "tags": []
   },
   "source": [
    "#### Generating Fourier engineered features"
   ]
  },
  {
   "cell_type": "code",
   "execution_count": 6,
   "metadata": {
    "execution": {
     "iopub.execute_input": "2020-07-08T02:15:24.592761Z",
     "iopub.status.busy": "2020-07-08T02:15:24.592454Z",
     "iopub.status.idle": "2020-07-08T02:15:25.695227Z",
     "shell.execute_reply": "2020-07-08T02:15:25.694954Z"
    },
    "papermill": {
     "duration": 1.12027,
     "end_time": "2020-07-08T02:15:25.695278",
     "exception": false,
     "start_time": "2020-07-08T02:15:24.575008",
     "status": "completed"
    },
    "tags": []
   },
   "outputs": [
    {
     "name": "stdout",
     "output_type": "stream",
     "text": [
      "<class 'pandas.core.frame.DataFrame'>\n",
      "Int64Index: 656100 entries, 0 to 656099\n",
      "Data columns (total 58 columns):\n",
      " #   Column      Non-Null Count   Dtype  \n",
      "---  ------      --------------   -----  \n",
      " 0   id          656100 non-null  int32  \n",
      " 1   path        656100 non-null  object \n",
      " 2   t1          656100 non-null  float64\n",
      " 3   t2          656100 non-null  float64\n",
      " 4   winding     656100 non-null  float64\n",
      " 5   phase       656100 non-null  int32  \n",
      " 6   pred_phase  656100 non-null  int32  \n",
      " 7   type_of     656100 non-null  object \n",
      " 8   dft_feat0   656100 non-null  float64\n",
      " 9   dft_feat2   656100 non-null  float64\n",
      " 10  dft_feat4   656100 non-null  float64\n",
      " 11  dft_feat6   656100 non-null  float64\n",
      " 12  dft_feat8   656100 non-null  float64\n",
      " 13  dft_feat10  656100 non-null  float64\n",
      " 14  dft_feat12  656100 non-null  float64\n",
      " 15  dft_feat14  656100 non-null  float64\n",
      " 16  dft_feat16  656100 non-null  float64\n",
      " 17  dft_feat18  656100 non-null  float64\n",
      " 18  dft_feat20  656100 non-null  float64\n",
      " 19  dft_feat22  656100 non-null  float64\n",
      " 20  dft_feat24  656100 non-null  float64\n",
      " 21  dft_feat26  656100 non-null  float64\n",
      " 22  dft_feat28  656100 non-null  float64\n",
      " 23  dft_feat30  656100 non-null  float64\n",
      " 24  dft_feat32  656100 non-null  float64\n",
      " 25  dft_feat34  656100 non-null  float64\n",
      " 26  dft_feat36  656100 non-null  float64\n",
      " 27  dft_feat38  656100 non-null  float64\n",
      " 28  dft_feat40  656100 non-null  float64\n",
      " 29  dft_feat42  656100 non-null  float64\n",
      " 30  dft_feat44  656100 non-null  float64\n",
      " 31  dft_feat46  656100 non-null  float64\n",
      " 32  dft_feat48  656100 non-null  float64\n",
      " 33  dft_feat50  656100 non-null  float64\n",
      " 34  dft_feat52  656100 non-null  float64\n",
      " 35  dft_feat54  656100 non-null  float64\n",
      " 36  dft_feat56  656100 non-null  float64\n",
      " 37  dft_feat58  656100 non-null  float64\n",
      " 38  dft_feat60  656100 non-null  float64\n",
      " 39  dft_feat62  656100 non-null  float64\n",
      " 40  dft_feat64  656100 non-null  float64\n",
      " 41  dft_feat66  656100 non-null  float64\n",
      " 42  dft_feat68  656100 non-null  float64\n",
      " 43  dft_feat70  656100 non-null  float64\n",
      " 44  dft_feat72  656100 non-null  float64\n",
      " 45  dft_feat74  656100 non-null  float64\n",
      " 46  dft_feat76  656100 non-null  float64\n",
      " 47  dft_feat78  656100 non-null  float64\n",
      " 48  dft_feat80  656100 non-null  float64\n",
      " 49  dft_feat82  656100 non-null  float64\n",
      " 50  dft_feat84  656100 non-null  float64\n",
      " 51  dft_feat86  656100 non-null  float64\n",
      " 52  dft_feat88  656100 non-null  float64\n",
      " 53  dft_feat90  656100 non-null  float64\n",
      " 54  dft_feat92  656100 non-null  float64\n",
      " 55  dft_feat94  656100 non-null  float64\n",
      " 56  dft_feat96  656100 non-null  float64\n",
      " 57  dft_feat98  656100 non-null  float64\n",
      "dtypes: float64(53), int32(3), object(2)\n",
      "memory usage: 287.8+ MB\n",
      "CPU times: user 2.46 s, sys: 546 ms, total: 3.01 s\n",
      "Wall time: 1.08 s\n"
     ]
    },
    {
     "data": {
      "text/html": [
       "<div>\n",
       "<style scoped>\n",
       "    .dataframe tbody tr th:only-of-type {\n",
       "        vertical-align: middle;\n",
       "    }\n",
       "\n",
       "    .dataframe tbody tr th {\n",
       "        vertical-align: top;\n",
       "    }\n",
       "\n",
       "    .dataframe thead th {\n",
       "        text-align: right;\n",
       "    }\n",
       "</style>\n",
       "<table border=\"1\" class=\"dataframe\">\n",
       "  <thead>\n",
       "    <tr style=\"text-align: right;\">\n",
       "      <th></th>\n",
       "      <th>id</th>\n",
       "      <th>path</th>\n",
       "      <th>t1</th>\n",
       "      <th>t2</th>\n",
       "      <th>winding</th>\n",
       "      <th>phase</th>\n",
       "      <th>pred_phase</th>\n",
       "      <th>type_of</th>\n",
       "      <th>dft_feat0</th>\n",
       "      <th>dft_feat2</th>\n",
       "      <th>...</th>\n",
       "      <th>dft_feat80</th>\n",
       "      <th>dft_feat82</th>\n",
       "      <th>dft_feat84</th>\n",
       "      <th>dft_feat86</th>\n",
       "      <th>dft_feat88</th>\n",
       "      <th>dft_feat90</th>\n",
       "      <th>dft_feat92</th>\n",
       "      <th>dft_feat94</th>\n",
       "      <th>dft_feat96</th>\n",
       "      <th>dft_feat98</th>\n",
       "    </tr>\n",
       "  </thead>\n",
       "  <tbody>\n",
       "    <tr>\n",
       "      <th>469427</th>\n",
       "      <td>4694</td>\n",
       "      <td>H_0.85_1.85_1.00495.dat</td>\n",
       "      <td>0.85</td>\n",
       "      <td>1.85</td>\n",
       "      <td>1.004946</td>\n",
       "      <td>1</td>\n",
       "      <td>666</td>\n",
       "      <td>train</td>\n",
       "      <td>7.464606e-18</td>\n",
       "      <td>8.950477e-08</td>\n",
       "      <td>...</td>\n",
       "      <td>-1.020902e-07</td>\n",
       "      <td>6.657612e-07</td>\n",
       "      <td>-2.899713e-07</td>\n",
       "      <td>2.007006e-07</td>\n",
       "      <td>-2.113205e-08</td>\n",
       "      <td>3.129316e-07</td>\n",
       "      <td>6.718136e-07</td>\n",
       "      <td>-1.552728e-01</td>\n",
       "      <td>-4.163747e-07</td>\n",
       "      <td>8.950477e-08</td>\n",
       "    </tr>\n",
       "    <tr>\n",
       "      <th>601202</th>\n",
       "      <td>6012</td>\n",
       "      <td>H_1.7_-1.1_0.00105128.dat</td>\n",
       "      <td>1.70</td>\n",
       "      <td>-1.10</td>\n",
       "      <td>0.001051</td>\n",
       "      <td>0</td>\n",
       "      <td>666</td>\n",
       "      <td>train</td>\n",
       "      <td>1.000000e+00</td>\n",
       "      <td>-2.748240e-17</td>\n",
       "      <td>...</td>\n",
       "      <td>-4.860889e-17</td>\n",
       "      <td>1.331255e-15</td>\n",
       "      <td>-4.111790e-16</td>\n",
       "      <td>4.111364e-16</td>\n",
       "      <td>1.039330e-16</td>\n",
       "      <td>3.471006e-15</td>\n",
       "      <td>2.047675e-16</td>\n",
       "      <td>-3.844537e-16</td>\n",
       "      <td>-2.997777e-16</td>\n",
       "      <td>-3.240190e-15</td>\n",
       "    </tr>\n",
       "    <tr>\n",
       "      <th>593580</th>\n",
       "      <td>5935</td>\n",
       "      <td>H_1.65_-0.9_0.000944438.dat</td>\n",
       "      <td>1.65</td>\n",
       "      <td>-0.90</td>\n",
       "      <td>0.000944</td>\n",
       "      <td>0</td>\n",
       "      <td>666</td>\n",
       "      <td>train</td>\n",
       "      <td>-3.419365e-04</td>\n",
       "      <td>-2.449752e-03</td>\n",
       "      <td>...</td>\n",
       "      <td>6.916712e-02</td>\n",
       "      <td>-1.041992e-02</td>\n",
       "      <td>-2.960198e-01</td>\n",
       "      <td>-1.442018e-01</td>\n",
       "      <td>-4.679605e-01</td>\n",
       "      <td>5.746001e-01</td>\n",
       "      <td>1.741927e-01</td>\n",
       "      <td>2.739903e-01</td>\n",
       "      <td>1.644696e-01</td>\n",
       "      <td>4.503304e-02</td>\n",
       "    </tr>\n",
       "    <tr>\n",
       "      <th>124953</th>\n",
       "      <td>1249</td>\n",
       "      <td>H_-1.25_-0.3_-0.000844261.dat</td>\n",
       "      <td>-1.25</td>\n",
       "      <td>-0.30</td>\n",
       "      <td>-0.000844</td>\n",
       "      <td>0</td>\n",
       "      <td>666</td>\n",
       "      <td>train</td>\n",
       "      <td>-7.878821e-04</td>\n",
       "      <td>-1.512832e-02</td>\n",
       "      <td>...</td>\n",
       "      <td>5.791622e-03</td>\n",
       "      <td>-1.841611e-01</td>\n",
       "      <td>-2.822880e-01</td>\n",
       "      <td>4.968807e-01</td>\n",
       "      <td>1.796774e-01</td>\n",
       "      <td>1.721744e-01</td>\n",
       "      <td>-1.397089e-01</td>\n",
       "      <td>4.122795e-01</td>\n",
       "      <td>1.568001e-03</td>\n",
       "      <td>1.515378e-01</td>\n",
       "    </tr>\n",
       "    <tr>\n",
       "      <th>358332</th>\n",
       "      <td>3583</td>\n",
       "      <td>H_0.2_-1.05_1.00225.dat</td>\n",
       "      <td>0.20</td>\n",
       "      <td>-1.05</td>\n",
       "      <td>1.002248</td>\n",
       "      <td>1</td>\n",
       "      <td>666</td>\n",
       "      <td>train</td>\n",
       "      <td>3.929619e-07</td>\n",
       "      <td>-1.137375e-07</td>\n",
       "      <td>...</td>\n",
       "      <td>2.251471e-07</td>\n",
       "      <td>-3.191406e-07</td>\n",
       "      <td>5.745575e-08</td>\n",
       "      <td>1.029322e-06</td>\n",
       "      <td>-1.050136e-07</td>\n",
       "      <td>3.642957e-07</td>\n",
       "      <td>-4.745415e-07</td>\n",
       "      <td>-5.005122e-07</td>\n",
       "      <td>-4.533267e-01</td>\n",
       "      <td>-1.137375e-07</td>\n",
       "    </tr>\n",
       "    <tr>\n",
       "      <th>563004</th>\n",
       "      <td>5630</td>\n",
       "      <td>H_1.45_0.05_-9.55277e-05.dat</td>\n",
       "      <td>1.45</td>\n",
       "      <td>0.05</td>\n",
       "      <td>-0.000096</td>\n",
       "      <td>0</td>\n",
       "      <td>666</td>\n",
       "      <td>train</td>\n",
       "      <td>2.825790e-02</td>\n",
       "      <td>-3.659139e-02</td>\n",
       "      <td>...</td>\n",
       "      <td>1.532764e-01</td>\n",
       "      <td>2.017883e-01</td>\n",
       "      <td>-4.934713e-02</td>\n",
       "      <td>-7.596079e-02</td>\n",
       "      <td>3.967483e-01</td>\n",
       "      <td>5.816553e-01</td>\n",
       "      <td>3.621111e-02</td>\n",
       "      <td>5.926615e-02</td>\n",
       "      <td>2.133795e-01</td>\n",
       "      <td>3.529180e-01</td>\n",
       "    </tr>\n",
       "    <tr>\n",
       "      <th>254126</th>\n",
       "      <td>2541</td>\n",
       "      <td>H_-0.45_-0.5_1.02497.dat</td>\n",
       "      <td>-0.45</td>\n",
       "      <td>-0.50</td>\n",
       "      <td>1.024967</td>\n",
       "      <td>1</td>\n",
       "      <td>666</td>\n",
       "      <td>test</td>\n",
       "      <td>0.000000e+00</td>\n",
       "      <td>-1.586986e-02</td>\n",
       "      <td>...</td>\n",
       "      <td>4.812405e-02</td>\n",
       "      <td>-1.048388e-01</td>\n",
       "      <td>-5.214658e-02</td>\n",
       "      <td>4.417158e-01</td>\n",
       "      <td>3.169532e-01</td>\n",
       "      <td>1.736614e-01</td>\n",
       "      <td>-7.735034e-02</td>\n",
       "      <td>3.473768e-01</td>\n",
       "      <td>3.101718e-02</td>\n",
       "      <td>1.770885e-01</td>\n",
       "    </tr>\n",
       "    <tr>\n",
       "      <th>211093</th>\n",
       "      <td>2110</td>\n",
       "      <td>H_-0.7_-1.8_1.00438.dat</td>\n",
       "      <td>-0.70</td>\n",
       "      <td>-1.80</td>\n",
       "      <td>1.004376</td>\n",
       "      <td>1</td>\n",
       "      <td>666</td>\n",
       "      <td>train</td>\n",
       "      <td>0.000000e+00</td>\n",
       "      <td>3.751831e-08</td>\n",
       "      <td>...</td>\n",
       "      <td>-2.766970e-07</td>\n",
       "      <td>-4.174137e-07</td>\n",
       "      <td>6.388278e-07</td>\n",
       "      <td>4.636839e-07</td>\n",
       "      <td>1.770040e-07</td>\n",
       "      <td>1.710081e-07</td>\n",
       "      <td>3.098631e-07</td>\n",
       "      <td>3.978979e-07</td>\n",
       "      <td>-8.182215e-07</td>\n",
       "      <td>3.751831e-08</td>\n",
       "    </tr>\n",
       "    <tr>\n",
       "      <th>109799</th>\n",
       "      <td>1097</td>\n",
       "      <td>H_-1.35_0.2_0.000345206.dat</td>\n",
       "      <td>-1.35</td>\n",
       "      <td>0.20</td>\n",
       "      <td>0.000345</td>\n",
       "      <td>0</td>\n",
       "      <td>666</td>\n",
       "      <td>train</td>\n",
       "      <td>1.751881e-04</td>\n",
       "      <td>-2.532420e-03</td>\n",
       "      <td>...</td>\n",
       "      <td>-3.243747e-01</td>\n",
       "      <td>-3.362552e-01</td>\n",
       "      <td>-3.260531e-02</td>\n",
       "      <td>1.439643e-01</td>\n",
       "      <td>4.568073e-02</td>\n",
       "      <td>-1.206411e-01</td>\n",
       "      <td>2.643001e-01</td>\n",
       "      <td>1.975669e-01</td>\n",
       "      <td>1.031019e-01</td>\n",
       "      <td>5.575944e-02</td>\n",
       "    </tr>\n",
       "    <tr>\n",
       "      <th>335269</th>\n",
       "      <td>3352</td>\n",
       "      <td>H_0.05_-0.45_1.00241.dat</td>\n",
       "      <td>0.05</td>\n",
       "      <td>-0.45</td>\n",
       "      <td>1.002409</td>\n",
       "      <td>1</td>\n",
       "      <td>666</td>\n",
       "      <td>train</td>\n",
       "      <td>0.000000e+00</td>\n",
       "      <td>5.420731e-03</td>\n",
       "      <td>...</td>\n",
       "      <td>1.044411e-01</td>\n",
       "      <td>-1.244440e-01</td>\n",
       "      <td>-1.683253e-01</td>\n",
       "      <td>1.411529e-01</td>\n",
       "      <td>-1.088109e-01</td>\n",
       "      <td>1.211243e-01</td>\n",
       "      <td>3.128923e-02</td>\n",
       "      <td>-3.892514e-01</td>\n",
       "      <td>-1.857147e-02</td>\n",
       "      <td>-1.283111e-01</td>\n",
       "    </tr>\n",
       "    <tr>\n",
       "      <th>377625</th>\n",
       "      <td>3776</td>\n",
       "      <td>H_0.3_0.5_1.00667.dat</td>\n",
       "      <td>0.30</td>\n",
       "      <td>0.50</td>\n",
       "      <td>1.006672</td>\n",
       "      <td>1</td>\n",
       "      <td>666</td>\n",
       "      <td>train</td>\n",
       "      <td>0.000000e+00</td>\n",
       "      <td>-3.483652e-07</td>\n",
       "      <td>...</td>\n",
       "      <td>-2.790710e-07</td>\n",
       "      <td>1.395747e-06</td>\n",
       "      <td>-5.262925e-07</td>\n",
       "      <td>1.449056e-06</td>\n",
       "      <td>7.466163e-07</td>\n",
       "      <td>9.802262e-07</td>\n",
       "      <td>5.705859e-07</td>\n",
       "      <td>-4.366532e-01</td>\n",
       "      <td>1.166340e-07</td>\n",
       "      <td>-3.483652e-07</td>\n",
       "    </tr>\n",
       "    <tr>\n",
       "      <th>432932</th>\n",
       "      <td>4329</td>\n",
       "      <td>H_0.65_-0.2_0.000629563.dat</td>\n",
       "      <td>0.65</td>\n",
       "      <td>-0.20</td>\n",
       "      <td>0.000630</td>\n",
       "      <td>0</td>\n",
       "      <td>666</td>\n",
       "      <td>train</td>\n",
       "      <td>6.750472e-03</td>\n",
       "      <td>-8.820243e-02</td>\n",
       "      <td>...</td>\n",
       "      <td>3.320520e-03</td>\n",
       "      <td>3.452757e-02</td>\n",
       "      <td>1.694921e-02</td>\n",
       "      <td>-1.476385e-01</td>\n",
       "      <td>-6.494445e-02</td>\n",
       "      <td>-3.626533e-01</td>\n",
       "      <td>7.660898e-03</td>\n",
       "      <td>3.537873e-01</td>\n",
       "      <td>3.661320e-01</td>\n",
       "      <td>5.412205e-01</td>\n",
       "    </tr>\n",
       "    <tr>\n",
       "      <th>461538</th>\n",
       "      <td>4615</td>\n",
       "      <td>H_0.8_1.95_1.00453.dat</td>\n",
       "      <td>0.80</td>\n",
       "      <td>1.95</td>\n",
       "      <td>1.004534</td>\n",
       "      <td>1</td>\n",
       "      <td>666</td>\n",
       "      <td>train</td>\n",
       "      <td>-2.560245e-17</td>\n",
       "      <td>1.623912e-08</td>\n",
       "      <td>...</td>\n",
       "      <td>-1.385482e-06</td>\n",
       "      <td>-1.388768e-07</td>\n",
       "      <td>-1.402014e-07</td>\n",
       "      <td>-2.574446e-07</td>\n",
       "      <td>3.320437e-08</td>\n",
       "      <td>-6.512797e-07</td>\n",
       "      <td>3.163272e-01</td>\n",
       "      <td>9.619376e-08</td>\n",
       "      <td>-1.414141e-07</td>\n",
       "      <td>1.623912e-08</td>\n",
       "    </tr>\n",
       "    <tr>\n",
       "      <th>178965</th>\n",
       "      <td>1789</td>\n",
       "      <td>H_-0.9_-1.65_1.00588.dat</td>\n",
       "      <td>-0.90</td>\n",
       "      <td>-1.65</td>\n",
       "      <td>1.005876</td>\n",
       "      <td>1</td>\n",
       "      <td>666</td>\n",
       "      <td>train</td>\n",
       "      <td>5.043781e-07</td>\n",
       "      <td>4.647651e-07</td>\n",
       "      <td>...</td>\n",
       "      <td>-1.839694e-08</td>\n",
       "      <td>5.424367e-08</td>\n",
       "      <td>4.663813e-07</td>\n",
       "      <td>6.722022e-01</td>\n",
       "      <td>1.848901e-07</td>\n",
       "      <td>4.816382e-08</td>\n",
       "      <td>-8.852767e-07</td>\n",
       "      <td>3.978335e-07</td>\n",
       "      <td>5.813435e-07</td>\n",
       "      <td>4.647651e-07</td>\n",
       "    </tr>\n",
       "    <tr>\n",
       "      <th>187463</th>\n",
       "      <td>1874</td>\n",
       "      <td>H_-0.85_-1.45_1.00645.dat</td>\n",
       "      <td>-0.85</td>\n",
       "      <td>-1.45</td>\n",
       "      <td>1.006451</td>\n",
       "      <td>1</td>\n",
       "      <td>666</td>\n",
       "      <td>train</td>\n",
       "      <td>0.000000e+00</td>\n",
       "      <td>-3.131205e-16</td>\n",
       "      <td>...</td>\n",
       "      <td>3.369985e-01</td>\n",
       "      <td>3.009844e-16</td>\n",
       "      <td>1.142866e-14</td>\n",
       "      <td>-3.306346e-14</td>\n",
       "      <td>-2.448988e-14</td>\n",
       "      <td>4.001020e-06</td>\n",
       "      <td>-1.046113e-14</td>\n",
       "      <td>1.561324e-15</td>\n",
       "      <td>4.045277e-14</td>\n",
       "      <td>-1.390881e-14</td>\n",
       "    </tr>\n",
       "  </tbody>\n",
       "</table>\n",
       "<p>15 rows × 58 columns</p>\n",
       "</div>"
      ],
      "text/plain": [
       "          id                           path    t1    t2   winding  phase  \\\n",
       "469427  4694        H_0.85_1.85_1.00495.dat  0.85  1.85  1.004946      1   \n",
       "601202  6012      H_1.7_-1.1_0.00105128.dat  1.70 -1.10  0.001051      0   \n",
       "593580  5935    H_1.65_-0.9_0.000944438.dat  1.65 -0.90  0.000944      0   \n",
       "124953  1249  H_-1.25_-0.3_-0.000844261.dat -1.25 -0.30 -0.000844      0   \n",
       "358332  3583        H_0.2_-1.05_1.00225.dat  0.20 -1.05  1.002248      1   \n",
       "563004  5630   H_1.45_0.05_-9.55277e-05.dat  1.45  0.05 -0.000096      0   \n",
       "254126  2541       H_-0.45_-0.5_1.02497.dat -0.45 -0.50  1.024967      1   \n",
       "211093  2110        H_-0.7_-1.8_1.00438.dat -0.70 -1.80  1.004376      1   \n",
       "109799  1097    H_-1.35_0.2_0.000345206.dat -1.35  0.20  0.000345      0   \n",
       "335269  3352       H_0.05_-0.45_1.00241.dat  0.05 -0.45  1.002409      1   \n",
       "377625  3776          H_0.3_0.5_1.00667.dat  0.30  0.50  1.006672      1   \n",
       "432932  4329    H_0.65_-0.2_0.000629563.dat  0.65 -0.20  0.000630      0   \n",
       "461538  4615         H_0.8_1.95_1.00453.dat  0.80  1.95  1.004534      1   \n",
       "178965  1789       H_-0.9_-1.65_1.00588.dat -0.90 -1.65  1.005876      1   \n",
       "187463  1874      H_-0.85_-1.45_1.00645.dat -0.85 -1.45  1.006451      1   \n",
       "\n",
       "        pred_phase type_of     dft_feat0     dft_feat2  ...    dft_feat80  \\\n",
       "469427         666   train  7.464606e-18  8.950477e-08  ... -1.020902e-07   \n",
       "601202         666   train  1.000000e+00 -2.748240e-17  ... -4.860889e-17   \n",
       "593580         666   train -3.419365e-04 -2.449752e-03  ...  6.916712e-02   \n",
       "124953         666   train -7.878821e-04 -1.512832e-02  ...  5.791622e-03   \n",
       "358332         666   train  3.929619e-07 -1.137375e-07  ...  2.251471e-07   \n",
       "563004         666   train  2.825790e-02 -3.659139e-02  ...  1.532764e-01   \n",
       "254126         666    test  0.000000e+00 -1.586986e-02  ...  4.812405e-02   \n",
       "211093         666   train  0.000000e+00  3.751831e-08  ... -2.766970e-07   \n",
       "109799         666   train  1.751881e-04 -2.532420e-03  ... -3.243747e-01   \n",
       "335269         666   train  0.000000e+00  5.420731e-03  ...  1.044411e-01   \n",
       "377625         666   train  0.000000e+00 -3.483652e-07  ... -2.790710e-07   \n",
       "432932         666   train  6.750472e-03 -8.820243e-02  ...  3.320520e-03   \n",
       "461538         666   train -2.560245e-17  1.623912e-08  ... -1.385482e-06   \n",
       "178965         666   train  5.043781e-07  4.647651e-07  ... -1.839694e-08   \n",
       "187463         666   train  0.000000e+00 -3.131205e-16  ...  3.369985e-01   \n",
       "\n",
       "          dft_feat82    dft_feat84    dft_feat86    dft_feat88    dft_feat90  \\\n",
       "469427  6.657612e-07 -2.899713e-07  2.007006e-07 -2.113205e-08  3.129316e-07   \n",
       "601202  1.331255e-15 -4.111790e-16  4.111364e-16  1.039330e-16  3.471006e-15   \n",
       "593580 -1.041992e-02 -2.960198e-01 -1.442018e-01 -4.679605e-01  5.746001e-01   \n",
       "124953 -1.841611e-01 -2.822880e-01  4.968807e-01  1.796774e-01  1.721744e-01   \n",
       "358332 -3.191406e-07  5.745575e-08  1.029322e-06 -1.050136e-07  3.642957e-07   \n",
       "563004  2.017883e-01 -4.934713e-02 -7.596079e-02  3.967483e-01  5.816553e-01   \n",
       "254126 -1.048388e-01 -5.214658e-02  4.417158e-01  3.169532e-01  1.736614e-01   \n",
       "211093 -4.174137e-07  6.388278e-07  4.636839e-07  1.770040e-07  1.710081e-07   \n",
       "109799 -3.362552e-01 -3.260531e-02  1.439643e-01  4.568073e-02 -1.206411e-01   \n",
       "335269 -1.244440e-01 -1.683253e-01  1.411529e-01 -1.088109e-01  1.211243e-01   \n",
       "377625  1.395747e-06 -5.262925e-07  1.449056e-06  7.466163e-07  9.802262e-07   \n",
       "432932  3.452757e-02  1.694921e-02 -1.476385e-01 -6.494445e-02 -3.626533e-01   \n",
       "461538 -1.388768e-07 -1.402014e-07 -2.574446e-07  3.320437e-08 -6.512797e-07   \n",
       "178965  5.424367e-08  4.663813e-07  6.722022e-01  1.848901e-07  4.816382e-08   \n",
       "187463  3.009844e-16  1.142866e-14 -3.306346e-14 -2.448988e-14  4.001020e-06   \n",
       "\n",
       "          dft_feat92    dft_feat94    dft_feat96    dft_feat98  \n",
       "469427  6.718136e-07 -1.552728e-01 -4.163747e-07  8.950477e-08  \n",
       "601202  2.047675e-16 -3.844537e-16 -2.997777e-16 -3.240190e-15  \n",
       "593580  1.741927e-01  2.739903e-01  1.644696e-01  4.503304e-02  \n",
       "124953 -1.397089e-01  4.122795e-01  1.568001e-03  1.515378e-01  \n",
       "358332 -4.745415e-07 -5.005122e-07 -4.533267e-01 -1.137375e-07  \n",
       "563004  3.621111e-02  5.926615e-02  2.133795e-01  3.529180e-01  \n",
       "254126 -7.735034e-02  3.473768e-01  3.101718e-02  1.770885e-01  \n",
       "211093  3.098631e-07  3.978979e-07 -8.182215e-07  3.751831e-08  \n",
       "109799  2.643001e-01  1.975669e-01  1.031019e-01  5.575944e-02  \n",
       "335269  3.128923e-02 -3.892514e-01 -1.857147e-02 -1.283111e-01  \n",
       "377625  5.705859e-07 -4.366532e-01  1.166340e-07 -3.483652e-07  \n",
       "432932  7.660898e-03  3.537873e-01  3.661320e-01  5.412205e-01  \n",
       "461538  3.163272e-01  9.619376e-08 -1.414141e-07  1.623912e-08  \n",
       "178965 -8.852767e-07  3.978335e-07  5.813435e-07  4.647651e-07  \n",
       "187463 -1.046113e-14  1.561324e-15  4.045277e-14 -1.390881e-14  \n",
       "\n",
       "[15 rows x 58 columns]"
      ]
     },
     "execution_count": 6,
     "metadata": {},
     "output_type": "execute_result"
    }
   ],
   "source": [
    "%%time\n",
    "simulation.engineer_fourier_features(fourier_features,mode,real,normalize,fillna)\n",
    "simulation.fourier_engineered_dataframe.info() \n",
    "simulation.fourier_engineered_dataframe.sample(15)"
   ]
  },
  {
   "cell_type": "code",
   "execution_count": 7,
   "metadata": {
    "execution": {
     "iopub.execute_input": "2020-07-08T02:15:25.731569Z",
     "iopub.status.busy": "2020-07-08T02:15:25.731229Z",
     "iopub.status.idle": "2020-07-08T02:15:25.743223Z",
     "shell.execute_reply": "2020-07-08T02:15:25.742874Z"
    },
    "papermill": {
     "duration": 0.031184,
     "end_time": "2020-07-08T02:15:25.743277",
     "exception": false,
     "start_time": "2020-07-08T02:15:25.712093",
     "status": "completed"
    },
    "tags": []
   },
   "outputs": [],
   "source": [
    "#simulation.dataframe.iloc[331456,:]"
   ]
  },
  {
   "cell_type": "code",
   "execution_count": 8,
   "metadata": {
    "execution": {
     "iopub.execute_input": "2020-07-08T02:15:25.778084Z",
     "iopub.status.busy": "2020-07-08T02:15:25.777758Z",
     "iopub.status.idle": "2020-07-08T02:15:25.887885Z",
     "shell.execute_reply": "2020-07-08T02:15:25.887536Z"
    },
    "papermill": {
     "duration": 0.12793,
     "end_time": "2020-07-08T02:15:25.887948",
     "exception": false,
     "start_time": "2020-07-08T02:15:25.760018",
     "status": "completed"
    },
    "tags": []
   },
   "outputs": [],
   "source": [
    "#for ix, obj in enumerate(simulation.dataframe.iloc[331456,:].values):\n",
    "#    print(ix,obj)"
   ]
  },
  {
   "cell_type": "code",
   "execution_count": 9,
   "metadata": {
    "execution": {
     "iopub.execute_input": "2020-07-08T02:15:25.931283Z",
     "iopub.status.busy": "2020-07-08T02:15:25.930938Z",
     "iopub.status.idle": "2020-07-08T02:15:26.002992Z",
     "shell.execute_reply": "2020-07-08T02:15:26.004674Z"
    },
    "papermill": {
     "duration": 0.095133,
     "end_time": "2020-07-08T02:15:26.004984",
     "exception": false,
     "start_time": "2020-07-08T02:15:25.909851",
     "status": "completed"
    },
    "tags": []
   },
   "outputs": [],
   "source": [
    "#simulation.fourier_engineered_dataframe.dct_feat0"
   ]
  },
  {
   "cell_type": "code",
   "execution_count": 10,
   "metadata": {
    "execution": {
     "iopub.execute_input": "2020-07-08T02:15:26.074653Z",
     "iopub.status.busy": "2020-07-08T02:15:26.074346Z",
     "iopub.status.idle": "2020-07-08T02:15:26.083758Z",
     "shell.execute_reply": "2020-07-08T02:15:26.084066Z"
    },
    "papermill": {
     "duration": 0.031077,
     "end_time": "2020-07-08T02:15:26.084133",
     "exception": false,
     "start_time": "2020-07-08T02:15:26.053056",
     "status": "completed"
    },
    "tags": []
   },
   "outputs": [],
   "source": [
    "#simulation.features"
   ]
  },
  {
   "cell_type": "code",
   "execution_count": 11,
   "metadata": {
    "execution": {
     "iopub.execute_input": "2020-07-08T02:15:26.120460Z",
     "iopub.status.busy": "2020-07-08T02:15:26.120137Z",
     "iopub.status.idle": "2020-07-08T02:15:26.195890Z",
     "shell.execute_reply": "2020-07-08T02:15:26.194141Z"
    },
    "papermill": {
     "duration": 0.095138,
     "end_time": "2020-07-08T02:15:26.196133",
     "exception": false,
     "start_time": "2020-07-08T02:15:26.100995",
     "status": "completed"
    },
    "tags": []
   },
   "outputs": [],
   "source": [
    "#simulation.fourier_matrix"
   ]
  },
  {
   "cell_type": "code",
   "execution_count": 12,
   "metadata": {
    "execution": {
     "iopub.execute_input": "2020-07-08T02:15:26.270812Z",
     "iopub.status.busy": "2020-07-08T02:15:26.270493Z",
     "iopub.status.idle": "2020-07-08T02:15:26.280132Z",
     "shell.execute_reply": "2020-07-08T02:15:26.279810Z"
    },
    "papermill": {
     "duration": 0.034103,
     "end_time": "2020-07-08T02:15:26.280184",
     "exception": false,
     "start_time": "2020-07-08T02:15:26.246081",
     "status": "completed"
    },
    "tags": []
   },
   "outputs": [],
   "source": [
    "#1/simulation.n_features*simulation.dataframe.loc[:,simulation.features].sum(axis=1)"
   ]
  },
  {
   "cell_type": "code",
   "execution_count": 13,
   "metadata": {
    "execution": {
     "iopub.execute_input": "2020-07-08T02:15:26.315344Z",
     "iopub.status.busy": "2020-07-08T02:15:26.314899Z",
     "iopub.status.idle": "2020-07-08T02:15:26.380279Z",
     "shell.execute_reply": "2020-07-08T02:15:26.380951Z"
    },
    "papermill": {
     "duration": 0.084296,
     "end_time": "2020-07-08T02:15:26.381078",
     "exception": false,
     "start_time": "2020-07-08T02:15:26.296782",
     "status": "completed"
    },
    "tags": []
   },
   "outputs": [],
   "source": [
    "#df_2 = simulation.fourier_engineered_dataframe[simulation.fourier_engineered_dataframe.phase==2]\n",
    "#df_2.describe()"
   ]
  },
  {
   "cell_type": "code",
   "execution_count": 14,
   "metadata": {
    "execution": {
     "iopub.execute_input": "2020-07-08T02:15:26.449857Z",
     "iopub.status.busy": "2020-07-08T02:15:26.448986Z",
     "iopub.status.idle": "2020-07-08T02:15:26.477405Z",
     "shell.execute_reply": "2020-07-08T02:15:26.476438Z"
    },
    "papermill": {
     "duration": 0.057887,
     "end_time": "2020-07-08T02:15:26.477542",
     "exception": false,
     "start_time": "2020-07-08T02:15:26.419655",
     "status": "completed"
    },
    "tags": []
   },
   "outputs": [],
   "source": [
    "#df_1 = simulation.fourier_engineered_dataframe[simulation.fourier_engineered_dataframe.phase==1]\n",
    "#df_1.describe()"
   ]
  },
  {
   "cell_type": "code",
   "execution_count": 15,
   "metadata": {
    "execution": {
     "iopub.execute_input": "2020-07-08T02:15:26.545693Z",
     "iopub.status.busy": "2020-07-08T02:15:26.545384Z",
     "iopub.status.idle": "2020-07-08T02:15:26.554572Z",
     "shell.execute_reply": "2020-07-08T02:15:26.554877Z"
    },
    "papermill": {
     "duration": 0.037005,
     "end_time": "2020-07-08T02:15:26.554942",
     "exception": false,
     "start_time": "2020-07-08T02:15:26.517937",
     "status": "completed"
    },
    "tags": []
   },
   "outputs": [],
   "source": [
    "#df_0 = simulation.fourier_engineered_dataframe[simulation.fourier_engineered_dataframe.phase==0]\n",
    "#df_0.describe()"
   ]
  },
  {
   "cell_type": "code",
   "execution_count": 16,
   "metadata": {
    "execution": {
     "iopub.execute_input": "2020-07-08T02:15:26.590616Z",
     "iopub.status.busy": "2020-07-08T02:15:26.590304Z",
     "iopub.status.idle": "2020-07-08T02:15:26.675107Z",
     "shell.execute_reply": "2020-07-08T02:15:26.676629Z"
    },
    "papermill": {
     "duration": 0.104869,
     "end_time": "2020-07-08T02:15:26.676906",
     "exception": false,
     "start_time": "2020-07-08T02:15:26.572037",
     "status": "completed"
    },
    "tags": []
   },
   "outputs": [],
   "source": [
    "#plt.figure(figsize=(10,10))\n",
    "#plt.scatter(df_1.fourier_feat0,df_1.fourier_feat2)\n",
    "#plt.scatter(df_0.fourier_feat0,df_0.fourier_feat2,alpha=0.4)"
   ]
  },
  {
   "cell_type": "code",
   "execution_count": 17,
   "metadata": {
    "execution": {
     "iopub.execute_input": "2020-07-08T02:15:26.752296Z",
     "iopub.status.busy": "2020-07-08T02:15:26.751965Z",
     "iopub.status.idle": "2020-07-08T02:15:26.762635Z",
     "shell.execute_reply": "2020-07-08T02:15:26.762948Z"
    },
    "papermill": {
     "duration": 0.032748,
     "end_time": "2020-07-08T02:15:26.763015",
     "exception": false,
     "start_time": "2020-07-08T02:15:26.730267",
     "status": "completed"
    },
    "tags": []
   },
   "outputs": [],
   "source": [
    "#plt.scatter(df_0.fourier_feat0,df_0.fourier_feat2,alpha=0.4)"
   ]
  },
  {
   "cell_type": "code",
   "execution_count": 18,
   "metadata": {
    "execution": {
     "iopub.execute_input": "2020-07-08T02:15:26.797616Z",
     "iopub.status.busy": "2020-07-08T02:15:26.797298Z",
     "iopub.status.idle": "2020-07-08T02:15:26.854970Z",
     "shell.execute_reply": "2020-07-08T02:15:26.854523Z"
    },
    "papermill": {
     "duration": 0.07562,
     "end_time": "2020-07-08T02:15:26.855047",
     "exception": false,
     "start_time": "2020-07-08T02:15:26.779427",
     "status": "completed"
    },
    "tags": []
   },
   "outputs": [],
   "source": [
    "#plt.scatter(df_2.fourier_feat0,df_2.fourier_feat2)"
   ]
  },
  {
   "cell_type": "code",
   "execution_count": 19,
   "metadata": {
    "execution": {
     "iopub.execute_input": "2020-07-08T02:15:26.892567Z",
     "iopub.status.busy": "2020-07-08T02:15:26.892247Z",
     "iopub.status.idle": "2020-07-08T02:15:26.968806Z",
     "shell.execute_reply": "2020-07-08T02:15:26.970198Z"
    },
    "papermill": {
     "duration": 0.096687,
     "end_time": "2020-07-08T02:15:26.970512",
     "exception": false,
     "start_time": "2020-07-08T02:15:26.873825",
     "status": "completed"
    },
    "tags": []
   },
   "outputs": [],
   "source": [
    "#df_1.hist(figsize=(15,15))"
   ]
  },
  {
   "cell_type": "code",
   "execution_count": 20,
   "metadata": {
    "execution": {
     "iopub.execute_input": "2020-07-08T02:15:27.040983Z",
     "iopub.status.busy": "2020-07-08T02:15:27.040677Z",
     "iopub.status.idle": "2020-07-08T02:15:27.050375Z",
     "shell.execute_reply": "2020-07-08T02:15:27.050096Z"
    },
    "papermill": {
     "duration": 0.030143,
     "end_time": "2020-07-08T02:15:27.050428",
     "exception": false,
     "start_time": "2020-07-08T02:15:27.020285",
     "status": "completed"
    },
    "tags": []
   },
   "outputs": [],
   "source": [
    "#df_0.hist(figsize=(15,15))"
   ]
  },
  {
   "cell_type": "markdown",
   "metadata": {
    "papermill": {
     "duration": 0.016778,
     "end_time": "2020-07-08T02:15:27.084393",
     "exception": false,
     "start_time": "2020-07-08T02:15:27.067615",
     "status": "completed"
    },
    "tags": []
   },
   "source": [
    "#### Checking initialization"
   ]
  },
  {
   "cell_type": "code",
   "execution_count": 21,
   "metadata": {
    "execution": {
     "iopub.execute_input": "2020-07-08T02:15:27.119588Z",
     "iopub.status.busy": "2020-07-08T02:15:27.119281Z",
     "iopub.status.idle": "2020-07-08T02:15:27.172486Z",
     "shell.execute_reply": "2020-07-08T02:15:27.172046Z"
    },
    "papermill": {
     "duration": 0.071688,
     "end_time": "2020-07-08T02:15:27.172552",
     "exception": false,
     "start_time": "2020-07-08T02:15:27.100864",
     "status": "completed"
    },
    "tags": []
   },
   "outputs": [
    {
     "name": "stdout",
     "output_type": "stream",
     "text": [
      "n_features:  100\n",
      "n_hamiltonians:  6561\n",
      "n_ts:  2\n",
      "CPU times: user 536 µs, sys: 77 µs, total: 613 µs\n",
      "Wall time: 392 µs\n"
     ]
    }
   ],
   "source": [
    "%%time\n",
    "n_features = simulation.n_features\n",
    "n_hamiltonians = simulation.n_hamiltonians\n",
    "n_ts = simulation.n_ts\n",
    "\n",
    "print(\"n_features: \", n_features)\n",
    "print(\"n_hamiltonians: \", n_hamiltonians)\n",
    "print(\"n_ts: \", n_ts)"
   ]
  },
  {
   "cell_type": "code",
   "execution_count": 22,
   "metadata": {
    "execution": {
     "iopub.execute_input": "2020-07-08T02:15:27.210785Z",
     "iopub.status.busy": "2020-07-08T02:15:27.210438Z",
     "iopub.status.idle": "2020-07-08T02:15:27.500851Z",
     "shell.execute_reply": "2020-07-08T02:15:27.501156Z"
    },
    "papermill": {
     "duration": 0.309546,
     "end_time": "2020-07-08T02:15:27.501222",
     "exception": false,
     "start_time": "2020-07-08T02:15:27.191676",
     "status": "completed"
    },
    "tags": []
   },
   "outputs": [
    {
     "name": "stdout",
     "output_type": "stream",
     "text": [
      "% train:  0.846822130772748\n",
      "% val:  0.0\n",
      "% test:  0.15317786922725193\n",
      "% train + val + test:  1.0\n",
      "\n",
      "\n",
      "number of train hamiltonians:  5556\n",
      "number of val hamiltonians:  0\n",
      "number of test hamiltonians:  1005\n",
      "total number of hamiltonians:  6561\n",
      "\n",
      "\n",
      "train ids:  [9, 10, 11, 12, 13, 14, 15, 16, 17, 18, 19, 20, 21, 22, 23, 24, 25, 26, 27, 28, 29, 30, 31, 32, 33, 34, 35, 36, 37, 38, 39, 40, 41, 42, 43, 44, 45, 46, 47, 48, 49, 50, 51, 52, 53, 54, 55, 56, 57, 58, 59, 60, 61, 62, 63, 64, 65, 66, 67, 68, 69, 70, 71, 72, 73, 74, 75, 76, 77, 91, 92, 93, 94, 95, 96, 97, 98, 99, 100, 101, 102, 103, 104, 105, 106, 107, 108, 109, 110, 111, 112, 113, 114, 115, 116, 117, 118, 119, 120, 121, 122, 123, 124, 125, 126, 127, 128, 129, 130, 131, 132, 133, 134, 135, 136, 137, 138, 139, 140, 141, 142, 143, 144, 145, 146, 147, 148, 149, 150, 151, 152, 153, 154, 155, 156, 157, 172, 173, 174, 175, 176, 177, 178, 179, 180, 181, 182, 183, 184, 185, 186, 187, 188, 189, 190, 191, 192, 193, 194, 195, 196, 197, 198, 199, 200, 201, 202, 203, 204, 205, 206, 207, 208, 209, 210, 211, 212, 213, 214, 215, 216, 217, 218, 219, 220, 221, 222, 223, 224, 225, 226, 227, 228, 229, 230, 231, 232, 233, 234, 235, 236, 237, 254, 255, 256, 257, 258, 259, 260, 261, 262, 263, 264, 265, 266, 267, 268, 269, 270, 271, 272, 273, 274, 275, 276, 277, 278, 279, 280, 281, 282, 283, 284, 285, 286, 287, 288, 289, 290, 291, 292, 293, 294, 295, 296, 297, 298, 299, 300, 301, 302, 303, 304, 305, 306, 307, 308, 309, 310, 311, 312, 313, 314, 315, 316, 317, 323, 336, 337, 338, 339, 340, 341, 342, 343, 344, 345, 346, 347, 348, 349, 350, 351, 352, 353, 354, 355, 356, 357, 358, 359, 360, 361, 362, 363, 364, 365, 366, 367, 368, 369, 370, 371, 372, 373, 374, 375, 376, 377, 378, 379, 380, 381, 382, 383, 384, 385, 386, 387, 388, 389, 390, 391, 392, 393, 394, 395, 396, 397, 403, 404, 418, 419, 420, 421, 422, 423, 424, 425, 426, 427, 428, 429, 430, 431, 432, 433, 434, 435, 436, 437, 438, 439, 440, 441, 442, 443, 444, 445, 446, 447, 448, 449, 450, 451, 452, 453, 454, 455, 456, 457, 458, 459, 460, 461, 462, 463, 464, 465, 466, 467, 468, 469, 470, 471, 472, 473, 474, 475, 476, 477, 483, 484, 485, 500, 501, 502, 503, 504, 505, 506, 507, 508, 509, 510, 511, 512, 513, 514, 515, 516, 517, 518, 519, 520, 521, 522, 523, 524, 525, 526, 527, 528, 529, 530, 531, 532, 533, 534, 535, 536, 537, 538, 539, 540, 541, 542, 543, 544, 545, 546, 547, 548, 549, 550, 551, 552, 553, 554, 555, 556, 557, 563, 564, 565, 566, 581, 582, 583, 584, 585, 586, 587, 588, 589, 590, 591, 592, 593, 594, 595, 596, 597, 598, 599, 600, 601, 602, 603, 604, 605, 606, 607, 608, 609, 610, 611, 612, 613, 614, 615, 616, 617, 618, 619, 620, 621, 622, 623, 624, 625, 626, 627, 628, 629, 630, 631, 632, 633, 634, 635, 636, 637, 643, 644, 645, 646, 647, 663, 664, 665, 666, 667, 668, 669, 670, 671, 672, 673, 674, 675, 676, 677, 678, 679, 680, 681, 682, 683, 684, 685, 686, 687, 688, 689, 690, 691, 692, 693, 694, 695, 696, 697, 698, 699, 700, 701, 702, 703, 704, 705, 706, 707, 708, 709, 710, 711, 712, 713, 714, 715, 716, 717, 723, 724, 725, 726, 727, 728, 745, 746, 747, 748, 749, 750, 751, 752, 753, 754, 755, 756, 757, 758, 759, 760, 761, 762, 763, 764, 765, 766, 767, 768, 769, 770, 771, 772, 773, 774, 775, 776, 777, 778, 779, 780, 781, 782, 783, 784, 785, 786, 787, 788, 789, 790, 791, 792, 793, 794, 795, 796, 797, 803, 804, 805, 806, 807, 808, 809, 827, 828, 829, 830, 831, 832, 833, 834, 835, 836, 837, 838, 839, 840, 841, 842, 843, 844, 845, 846, 847, 848, 849, 850, 851, 852, 853, 854, 855, 856, 857, 858, 859, 860, 861, 862, 863, 864, 865, 866, 867, 868, 869, 870, 871, 872, 873, 874, 875, 876, 877, 883, 884, 885, 886, 887, 888, 889, 890, 891, 909, 910, 911, 912, 913, 914, 915, 916, 917, 918, 919, 920, 921, 922, 923, 924, 925, 926, 927, 928, 929, 930, 931, 932, 933, 934, 935, 936, 937, 938, 939, 940, 941, 942, 943, 944, 945, 946, 947, 948, 949, 950, 951, 952, 953, 954, 955, 956, 957, 963, 964, 965, 966, 967, 968, 969, 970, 971, 972, 973, 990, 991, 992, 993, 994, 995, 996, 997, 998, 999, 1000, 1001, 1002, 1003, 1004, 1005, 1006, 1007, 1008, 1009, 1010, 1011, 1012, 1013, 1014, 1015, 1016, 1017, 1018, 1019, 1020, 1021, 1022, 1023, 1024, 1025, 1026, 1027, 1028, 1029, 1030, 1031, 1032, 1033, 1034, 1035, 1036, 1037, 1038, 1042, 1043, 1044, 1045, 1046, 1047, 1048, 1049, 1050, 1051, 1052, 1053, 1054, 1055, 1056, 1072, 1073, 1074, 1075, 1076, 1077, 1078, 1079, 1080, 1081, 1082, 1083, 1084, 1085, 1086, 1087, 1088, 1089, 1090, 1091, 1092, 1093, 1094, 1095, 1096, 1097, 1098, 1099, 1100, 1101, 1102, 1103, 1104, 1105, 1106, 1107, 1108, 1109, 1110, 1111, 1112, 1113, 1114, 1115, 1116, 1117, 1118, 1122, 1123, 1124, 1125, 1126, 1127, 1128, 1129, 1130, 1131, 1132, 1133, 1134, 1135, 1136, 1137, 1138, 1154, 1155, 1156, 1157, 1158, 1159, 1160, 1161, 1162, 1163, 1164, 1165, 1166, 1167, 1168, 1169, 1170, 1171, 1172, 1173, 1174, 1175, 1176, 1177, 1178, 1179, 1180, 1181, 1182, 1183, 1184, 1185, 1186, 1187, 1188, 1189, 1190, 1191, 1192, 1193, 1194, 1195, 1196, 1197, 1198, 1202, 1203, 1204, 1205, 1206, 1207, 1208, 1209, 1210, 1211, 1212, 1213, 1214, 1215, 1216, 1217, 1218, 1219, 1220, 1236, 1237, 1238, 1239, 1240, 1241, 1242, 1243, 1244, 1245, 1246, 1247, 1248, 1249, 1250, 1251, 1252, 1253, 1254, 1255, 1256, 1257, 1258, 1259, 1260, 1261, 1262, 1263, 1264, 1265, 1266, 1267, 1268, 1269, 1270, 1271, 1272, 1273, 1274, 1275, 1276, 1277, 1278, 1282, 1283, 1284, 1285, 1286, 1287, 1288, 1289, 1290, 1291, 1292, 1293, 1294, 1295, 1296, 1297, 1298, 1299, 1300, 1301, 1302, 1303, 1317, 1318, 1319, 1320, 1321, 1322, 1323, 1324, 1325, 1326, 1327, 1328, 1329, 1330, 1331, 1332, 1333, 1334, 1335, 1336, 1337, 1338, 1339, 1340, 1341, 1342, 1343, 1344, 1345, 1346, 1347, 1348, 1349, 1350, 1351, 1352, 1353, 1354, 1355, 1356, 1357, 1358, 1362, 1363, 1364, 1365, 1366, 1367, 1368, 1369, 1370, 1371, 1372, 1373, 1374, 1375, 1376, 1377, 1378, 1379, 1380, 1381, 1382, 1383, 1384, 1385, 1399, 1400, 1401, 1402, 1403, 1404, 1405, 1406, 1407, 1408, 1409, 1410, 1411, 1412, 1413, 1414, 1415, 1416, 1417, 1418, 1419, 1420, 1421, 1422, 1423, 1424, 1425, 1426, 1427, 1428, 1429, 1430, 1431, 1432, 1433, 1434, 1435, 1436, 1437, 1438, 1442, 1443, 1444, 1445, 1446, 1447, 1448, 1449, 1450, 1451, 1452, 1453, 1454, 1455, 1456, 1457, 1458, 1459, 1460, 1461, 1462, 1463, 1464, 1465, 1466, 1467, 1468, 1481, 1482, 1483, 1484, 1485, 1486, 1487, 1488, 1489, 1490, 1491, 1492, 1493, 1494, 1495, 1496, 1497, 1498, 1499, 1500, 1501, 1502, 1503, 1504, 1505, 1506, 1507, 1508, 1509, 1510, 1511, 1512, 1513, 1514, 1515, 1516, 1517, 1518, 1522, 1523, 1524, 1525, 1526, 1527, 1528, 1529, 1530, 1531, 1532, 1533, 1534, 1535, 1536, 1537, 1538, 1539, 1540, 1541, 1542, 1543, 1544, 1545, 1546, 1547, 1548, 1549, 1550, 1563, 1564, 1565, 1566, 1567, 1568, 1569, 1570, 1571, 1572, 1573, 1574, 1575, 1576, 1577, 1578, 1579, 1580, 1581, 1582, 1583, 1584, 1585, 1586, 1587, 1588, 1589, 1590, 1591, 1592, 1593, 1594, 1595, 1596, 1597, 1598, 1602, 1603, 1604, 1605, 1606, 1607, 1608, 1609, 1610, 1611, 1612, 1613, 1614, 1615, 1616, 1617, 1618, 1619, 1620, 1621, 1622, 1623, 1624, 1625, 1626, 1627, 1628, 1629, 1630, 1631, 1632, 1645, 1646, 1647, 1648, 1649, 1650, 1651, 1652, 1653, 1654, 1655, 1656, 1657, 1658, 1659, 1660, 1661, 1662, 1663, 1664, 1665, 1666, 1667, 1668, 1669, 1670, 1671, 1672, 1673, 1674, 1675, 1676, 1677, 1678, 1682, 1683, 1684, 1685, 1686, 1687, 1688, 1689, 1690, 1691, 1692, 1693, 1694, 1695, 1696, 1697, 1698, 1699, 1700, 1701, 1702, 1703, 1704, 1705, 1706, 1707, 1708, 1709, 1710, 1711, 1712, 1713, 1714, 1715, 1726, 1727, 1728, 1729, 1730, 1731, 1732, 1733, 1734, 1735, 1736, 1737, 1738, 1739, 1740, 1741, 1742, 1743, 1744, 1745, 1746, 1747, 1748, 1749, 1750, 1751, 1752, 1753, 1754, 1755, 1756, 1757, 1758, 1762, 1763, 1764, 1765, 1766, 1767, 1768, 1769, 1770, 1771, 1772, 1773, 1774, 1775, 1776, 1777, 1778, 1779, 1780, 1781, 1782, 1783, 1784, 1785, 1786, 1787, 1788, 1789, 1790, 1791, 1792, 1793, 1794, 1795, 1796, 1797, 1808, 1809, 1810, 1811, 1812, 1813, 1814, 1815, 1816, 1817, 1818, 1819, 1820, 1821, 1822, 1823, 1824, 1825, 1826, 1827, 1828, 1829, 1830, 1831, 1832, 1833, 1834, 1835, 1836, 1837, 1838, 1842, 1843, 1844, 1845, 1846, 1847, 1848, 1849, 1850, 1851, 1852, 1853, 1854, 1855, 1856, 1857, 1858, 1859, 1860, 1861, 1862, 1863, 1864, 1865, 1866, 1867, 1868, 1869, 1870, 1871, 1872, 1873, 1874, 1875, 1876, 1877, 1878, 1879, 1890, 1891, 1892, 1893, 1894, 1895, 1896, 1897, 1898, 1899, 1900, 1901, 1902, 1903, 1904, 1905, 1906, 1907, 1908, 1909, 1910, 1911, 1912, 1913, 1914, 1915, 1916, 1917, 1918, 1922, 1923, 1924, 1925, 1926, 1927, 1928, 1929, 1930, 1931, 1932, 1933, 1934, 1935, 1936, 1937, 1938, 1939, 1940, 1941, 1942, 1943, 1944, 1945, 1946, 1947, 1948, 1949, 1950, 1951, 1952, 1953, 1954, 1955, 1956, 1957, 1958, 1959, 1960, 1961, 1962, 1972, 1973, 1974, 1975, 1976, 1977, 1978, 1979, 1980, 1981, 1982, 1983, 1984, 1985, 1986, 1987, 1988, 1989, 1990, 1991, 1992, 1993, 1994, 1995, 1996, 1997, 1998, 2002, 2003, 2004, 2005, 2006, 2007, 2008, 2009, 2010, 2011, 2012, 2013, 2014, 2015, 2016, 2017, 2018, 2019, 2020, 2021, 2022, 2023, 2024, 2025, 2026, 2027, 2028, 2029, 2030, 2031, 2032, 2033, 2034, 2035, 2036, 2037, 2038, 2039, 2040, 2041, 2042, 2043, 2044, 2054, 2055, 2056, 2057, 2058, 2059, 2060, 2061, 2062, 2063, 2064, 2065, 2066, 2067, 2068, 2069, 2070, 2071, 2072, 2073, 2074, 2075, 2076, 2077, 2078, 2082, 2083, 2084, 2085, 2086, 2087, 2088, 2089, 2090, 2091, 2092, 2093, 2094, 2095, 2096, 2097, 2098, 2099, 2100, 2101, 2102, 2103, 2104, 2105, 2106, 2107, 2108, 2109, 2110, 2111, 2112, 2113, 2114, 2115, 2116, 2117, 2118, 2119, 2120, 2121, 2122, 2123, 2124, 2125, 2126, 2135, 2136, 2137, 2138, 2139, 2140, 2141, 2142, 2143, 2144, 2145, 2146, 2147, 2148, 2149, 2150, 2151, 2152, 2153, 2154, 2155, 2156, 2157, 2158, 2159, 2161, 2162, 2163, 2164, 2165, 2166, 2167, 2168, 2169, 2170, 2171, 2172, 2173, 2174, 2175, 2176, 2177, 2178, 2179, 2180, 2181, 2182, 2183, 2184, 2185, 2186, 2187, 2188, 2189, 2190, 2191, 2192, 2193, 2194, 2195, 2196, 2197, 2198, 2199, 2200, 2201, 2202, 2203, 2204, 2205, 2206, 2207, 2208, 2209, 2217, 2218, 2219, 2220, 2221, 2222, 2223, 2224, 2225, 2226, 2227, 2228, 2229, 2230, 2231, 2232, 2233, 2234, 2235, 2236, 2237, 2238, 2239, 2241, 2242, 2243, 2244, 2245, 2246, 2247, 2248, 2249, 2250, 2251, 2252, 2253, 2254, 2255, 2256, 2257, 2258, 2259, 2260, 2261, 2262, 2263, 2264, 2265, 2266, 2267, 2268, 2269, 2270, 2271, 2272, 2273, 2274, 2275, 2276, 2277, 2278, 2279, 2280, 2281, 2282, 2283, 2284, 2285, 2286, 2287, 2288, 2289, 2290, 2291, 2299, 2300, 2301, 2302, 2303, 2304, 2305, 2306, 2307, 2308, 2309, 2310, 2311, 2312, 2313, 2314, 2315, 2316, 2317, 2318, 2319, 2321, 2322, 2323, 2324, 2325, 2326, 2327, 2328, 2329, 2330, 2331, 2332, 2333, 2334, 2335, 2336, 2337, 2338, 2339, 2340, 2341, 2342, 2343, 2344, 2345, 2346, 2347, 2348, 2349, 2350, 2351, 2352, 2353, 2354, 2355, 2356, 2357, 2358, 2359, 2360, 2361, 2362, 2363, 2364, 2365, 2366, 2367, 2368, 2369, 2370, 2371, 2372, 2373, 2374, 2381, 2382, 2383, 2384, 2385, 2386, 2387, 2388, 2389, 2390, 2391, 2392, 2393, 2394, 2395, 2396, 2397, 2398, 2399, 2401, 2402, 2403, 2404, 2405, 2406, 2407, 2408, 2409, 2410, 2411, 2412, 2413, 2414, 2415, 2416, 2417, 2418, 2419, 2420, 2421, 2422, 2423, 2424, 2425, 2426, 2427, 2428, 2429, 2430, 2431, 2432, 2433, 2434, 2435, 2436, 2437, 2438, 2439, 2440, 2441, 2442, 2443, 2444, 2445, 2446, 2447, 2448, 2449, 2450, 2451, 2452, 2453, 2454, 2455, 2456, 2463, 2464, 2465, 2466, 2467, 2468, 2469, 2470, 2471, 2472, 2473, 2474, 2475, 2476, 2477, 2478, 2479, 2481, 2482, 2483, 2484, 2485, 2486, 2487, 2488, 2489, 2490, 2491, 2492, 2493, 2494, 2495, 2496, 2497, 2498, 2499, 2500, 2501, 2502, 2503, 2504, 2505, 2506, 2507, 2508, 2509, 2510, 2511, 2512, 2513, 2514, 2515, 2516, 2517, 2518, 2519, 2520, 2521, 2522, 2523, 2524, 2525, 2526, 2527, 2528, 2529, 2530, 2531, 2532, 2533, 2534, 2535, 2536, 2537, 2538, 2544, 2545, 2546, 2547, 2548, 2549, 2550, 2551, 2552, 2553, 2554, 2555, 2556, 2557, 2558, 2559, 2561, 2562, 2563, 2564, 2565, 2566, 2567, 2568, 2569, 2570, 2571, 2572, 2573, 2574, 2575, 2576, 2577, 2578, 2579, 2580, 2581, 2582, 2583, 2584, 2585, 2586, 2587, 2588, 2589, 2590, 2591, 2592, 2593, 2594, 2595, 2596, 2597, 2598, 2599, 2600, 2601, 2602, 2603, 2604, 2605, 2606, 2607, 2608, 2609, 2610, 2611, 2612, 2613, 2614, 2615, 2616, 2617, 2618, 2619, 2620, 2621, 2626, 2627, 2628, 2629, 2630, 2631, 2632, 2633, 2634, 2635, 2636, 2637, 2638, 2639, 2641, 2642, 2643, 2644, 2645, 2646, 2647, 2648, 2649, 2650, 2651, 2652, 2653, 2654, 2655, 2656, 2657, 2658, 2659, 2660, 2661, 2662, 2663, 2664, 2665, 2666, 2667, 2668, 2669, 2670, 2671, 2672, 2673, 2674, 2675, 2676, 2677, 2678, 2679, 2680, 2681, 2682, 2683, 2684, 2685, 2686, 2687, 2688, 2689, 2690, 2691, 2692, 2693, 2694, 2695, 2696, 2697, 2698, 2699, 2700, 2701, 2702, 2703, 2708, 2709, 2710, 2711, 2712, 2713, 2714, 2715, 2716, 2717, 2718, 2719, 2721, 2722, 2723, 2724, 2725, 2726, 2727, 2728, 2729, 2730, 2731, 2732, 2733, 2734, 2735, 2736, 2737, 2738, 2739, 2740, 2741, 2742, 2743, 2744, 2745, 2746, 2747, 2748, 2749, 2750, 2751, 2752, 2753, 2754, 2755, 2756, 2757, 2758, 2759, 2760, 2761, 2762, 2763, 2764, 2765, 2766, 2767, 2768, 2769, 2770, 2771, 2772, 2773, 2774, 2775, 2776, 2777, 2778, 2779, 2780, 2781, 2782, 2783, 2784, 2785, 2790, 2791, 2792, 2793, 2794, 2795, 2796, 2797, 2798, 2799, 2801, 2802, 2803, 2804, 2805, 2806, 2807, 2808, 2809, 2810, 2811, 2812, 2813, 2814, 2815, 2816, 2817, 2818, 2819, 2820, 2821, 2822, 2823, 2824, 2825, 2826, 2827, 2828, 2829, 2830, 2831, 2832, 2833, 2834, 2835, 2836, 2837, 2838, 2839, 2840, 2841, 2842, 2843, 2844, 2845, 2846, 2847, 2848, 2849, 2850, 2851, 2852, 2853, 2854, 2855, 2856, 2857, 2858, 2859, 2860, 2861, 2862, 2863, 2864, 2865, 2866, 2867, 2868, 2872, 2873, 2874, 2875, 2876, 2877, 2878, 2879, 2881, 2882, 2883, 2884, 2885, 2886, 2887, 2888, 2889, 2890, 2891, 2892, 2893, 2894, 2895, 2896, 2897, 2898, 2899, 2900, 2901, 2902, 2903, 2904, 2905, 2906, 2907, 2908, 2909, 2910, 2911, 2912, 2913, 2914, 2915, 2916, 2917, 2918, 2919, 2920, 2921, 2922, 2923, 2924, 2925, 2926, 2927, 2928, 2929, 2930, 2931, 2932, 2933, 2934, 2935, 2936, 2937, 2938, 2939, 2940, 2941, 2942, 2943, 2944, 2945, 2946, 2947, 2948, 2949, 2950, 2953, 2954, 2955, 2956, 2957, 2958, 2959, 2961, 2962, 2963, 2964, 2965, 2966, 2967, 2968, 2969, 2970, 2971, 2972, 2973, 2974, 2975, 2976, 2977, 2978, 2979, 2980, 2981, 2982, 2983, 2984, 2985, 2986, 2987, 2988, 2989, 2990, 2991, 2992, 2993, 2994, 2995, 2996, 2997, 2998, 2999, 3000, 3001, 3002, 3003, 3004, 3005, 3006, 3007, 3008, 3009, 3010, 3011, 3012, 3013, 3014, 3015, 3016, 3017, 3018, 3019, 3020, 3021, 3022, 3023, 3024, 3025, 3026, 3027, 3028, 3029, 3030, 3031, 3032, 3035, 3036, 3037, 3038, 3039, 3041, 3042, 3043, 3044, 3045, 3046, 3047, 3048, 3049, 3050, 3051, 3052, 3053, 3054, 3055, 3056, 3057, 3058, 3059, 3060, 3061, 3062, 3063, 3064, 3065, 3066, 3067, 3068, 3069, 3070, 3071, 3072, 3073, 3074, 3075, 3076, 3077, 3078, 3079, 3080, 3081, 3082, 3083, 3084, 3085, 3086, 3087, 3088, 3089, 3090, 3091, 3092, 3093, 3094, 3095, 3096, 3097, 3098, 3099, 3100, 3101, 3102, 3103, 3104, 3105, 3106, 3107, 3108, 3109, 3110, 3111, 3112, 3113, 3114, 3115, 3117, 3118, 3119, 3121, 3122, 3123, 3124, 3125, 3126, 3127, 3128, 3129, 3130, 3131, 3132, 3133, 3134, 3135, 3136, 3137, 3138, 3139, 3140, 3141, 3142, 3143, 3144, 3145, 3146, 3147, 3148, 3149, 3150, 3151, 3152, 3153, 3154, 3155, 3156, 3157, 3158, 3159, 3160, 3161, 3162, 3163, 3164, 3165, 3166, 3167, 3168, 3169, 3170, 3171, 3172, 3173, 3174, 3175, 3176, 3177, 3178, 3179, 3180, 3181, 3182, 3183, 3184, 3185, 3186, 3187, 3188, 3189, 3190, 3191, 3192, 3193, 3194, 3195, 3196, 3197, 3199, 3201, 3202, 3203, 3204, 3205, 3206, 3207, 3208, 3209, 3210, 3211, 3212, 3213, 3214, 3215, 3216, 3217, 3218, 3219, 3220, 3221, 3222, 3223, 3224, 3225, 3226, 3227, 3228, 3229, 3230, 3231, 3232, 3233, 3234, 3235, 3236, 3237, 3238, 3239, 3240, 3241, 3242, 3243, 3244, 3245, 3246, 3247, 3248, 3249, 3250, 3251, 3252, 3253, 3254, 3255, 3256, 3257, 3258, 3259, 3260, 3261, 3262, 3263, 3264, 3265, 3266, 3267, 3268, 3269, 3270, 3271, 3272, 3273, 3274, 3275, 3276, 3277, 3278, 3279, 3281, 3282, 3283, 3284, 3285, 3286, 3287, 3288, 3289, 3290, 3291, 3292, 3293, 3294, 3295, 3296, 3297, 3298, 3299, 3300, 3301, 3302, 3303, 3304, 3305, 3306, 3307, 3308, 3309, 3310, 3311, 3312, 3313, 3314, 3315, 3316, 3317, 3318, 3319, 3320, 3321, 3322, 3323, 3324, 3325, 3326, 3327, 3328, 3329, 3330, 3331, 3332, 3333, 3334, 3335, 3336, 3337, 3338, 3339, 3340, 3341, 3342, 3343, 3344, 3345, 3346, 3347, 3348, 3349, 3350, 3351, 3352, 3353, 3354, 3355, 3356, 3357, 3358, 3359, 3361, 3363, 3364, 3365, 3366, 3367, 3368, 3369, 3370, 3371, 3372, 3373, 3374, 3375, 3376, 3377, 3378, 3379, 3380, 3381, 3382, 3383, 3384, 3385, 3386, 3387, 3388, 3389, 3390, 3391, 3392, 3393, 3394, 3395, 3396, 3397, 3398, 3399, 3400, 3401, 3402, 3403, 3404, 3405, 3406, 3407, 3408, 3409, 3410, 3411, 3412, 3413, 3414, 3415, 3416, 3417, 3418, 3419, 3420, 3421, 3422, 3423, 3424, 3425, 3426, 3427, 3428, 3429, 3430, 3431, 3432, 3433, 3434, 3435, 3436, 3437, 3438, 3439, 3441, 3442, 3443, 3445, 3446, 3447, 3448, 3449, 3450, 3451, 3452, 3453, 3454, 3455, 3456, 3457, 3458, 3459, 3460, 3461, 3462, 3463, 3464, 3465, 3466, 3467, 3468, 3469, 3470, 3471, 3472, 3473, 3474, 3475, 3476, 3477, 3478, 3479, 3480, 3481, 3482, 3483, 3484, 3485, 3486, 3487, 3488, 3489, 3490, 3491, 3492, 3493, 3494, 3495, 3496, 3497, 3498, 3499, 3500, 3501, 3502, 3503, 3504, 3505, 3506, 3507, 3508, 3509, 3510, 3511, 3512, 3513, 3514, 3515, 3516, 3517, 3518, 3519, 3521, 3522, 3523, 3524, 3525, 3528, 3529, 3530, 3531, 3532, 3533, 3534, 3535, 3536, 3537, 3538, 3539, 3540, 3541, 3542, 3543, 3544, 3545, 3546, 3547, 3548, 3549, 3550, 3551, 3552, 3553, 3554, 3555, 3556, 3557, 3558, 3559, 3560, 3561, 3562, 3563, 3564, 3565, 3566, 3567, 3568, 3569, 3570, 3571, 3572, 3573, 3574, 3575, 3576, 3577, 3578, 3579, 3580, 3581, 3582, 3583, 3584, 3585, 3586, 3587, 3588, 3589, 3590, 3591, 3592, 3593, 3594, 3595, 3596, 3597, 3598, 3599, 3601, 3602, 3603, 3604, 3605, 3606, 3607, 3610, 3611, 3612, 3613, 3614, 3615, 3616, 3617, 3618, 3619, 3620, 3621, 3622, 3623, 3624, 3625, 3626, 3627, 3628, 3629, 3630, 3631, 3632, 3633, 3634, 3635, 3636, 3637, 3638, 3639, 3640, 3641, 3642, 3643, 3644, 3645, 3646, 3647, 3648, 3649, 3650, 3651, 3652, 3653, 3654, 3655, 3656, 3657, 3658, 3659, 3660, 3661, 3662, 3663, 3664, 3665, 3666, 3667, 3668, 3669, 3670, 3671, 3672, 3673, 3674, 3675, 3676, 3677, 3678, 3679, 3681, 3682, 3683, 3684, 3685, 3686, 3687, 3688, 3692, 3693, 3694, 3695, 3696, 3697, 3698, 3699, 3700, 3701, 3702, 3703, 3704, 3705, 3706, 3707, 3708, 3709, 3710, 3711, 3712, 3713, 3714, 3715, 3716, 3717, 3718, 3719, 3720, 3721, 3722, 3723, 3724, 3725, 3726, 3727, 3728, 3729, 3730, 3731, 3732, 3733, 3734, 3735, 3736, 3737, 3738, 3739, 3740, 3741, 3742, 3743, 3744, 3745, 3746, 3747, 3748, 3749, 3750, 3751, 3752, 3753, 3754, 3755, 3756, 3757, 3758, 3759, 3761, 3762, 3763, 3764, 3765, 3766, 3767, 3768, 3769, 3770, 3775, 3776, 3777, 3778, 3779, 3780, 3781, 3782, 3783, 3784, 3785, 3786, 3787, 3788, 3789, 3790, 3791, 3792, 3793, 3794, 3795, 3796, 3797, 3798, 3799, 3800, 3801, 3802, 3803, 3804, 3805, 3806, 3807, 3808, 3809, 3810, 3811, 3812, 3813, 3814, 3815, 3816, 3817, 3818, 3819, 3820, 3821, 3822, 3823, 3824, 3825, 3826, 3827, 3828, 3829, 3830, 3831, 3832, 3833, 3834, 3835, 3836, 3837, 3838, 3839, 3841, 3842, 3843, 3844, 3845, 3846, 3847, 3848, 3849, 3850, 3851, 3852, 3857, 3858, 3859, 3860, 3861, 3862, 3863, 3864, 3865, 3866, 3867, 3868, 3869, 3870, 3871, 3872, 3873, 3874, 3875, 3876, 3877, 3878, 3879, 3880, 3881, 3882, 3883, 3884, 3885, 3886, 3887, 3888, 3889, 3890, 3891, 3892, 3893, 3894, 3895, 3896, 3897, 3898, 3899, 3900, 3901, 3902, 3903, 3904, 3905, 3906, 3907, 3908, 3909, 3910, 3911, 3912, 3913, 3914, 3915, 3916, 3917, 3918, 3919, 3921, 3922, 3923, 3924, 3925, 3926, 3927, 3928, 3929, 3930, 3931, 3932, 3933, 3934, 3939, 3940, 3941, 3942, 3943, 3944, 3945, 3946, 3947, 3948, 3949, 3950, 3951, 3952, 3953, 3954, 3955, 3956, 3957, 3958, 3959, 3960, 3961, 3962, 3963, 3964, 3965, 3966, 3967, 3968, 3969, 3970, 3971, 3972, 3973, 3974, 3975, 3976, 3977, 3978, 3979, 3980, 3981, 3982, 3983, 3984, 3985, 3986, 3987, 3988, 3989, 3990, 3991, 3992, 3993, 3994, 3995, 3996, 3997, 3998, 3999, 4001, 4002, 4003, 4004, 4005, 4006, 4007, 4008, 4009, 4010, 4011, 4012, 4013, 4014, 4015, 4016, 4022, 4023, 4024, 4025, 4026, 4027, 4028, 4029, 4030, 4031, 4032, 4033, 4034, 4035, 4036, 4037, 4038, 4039, 4040, 4041, 4042, 4043, 4044, 4045, 4046, 4047, 4048, 4049, 4050, 4051, 4052, 4053, 4054, 4055, 4056, 4057, 4058, 4059, 4060, 4061, 4062, 4063, 4064, 4065, 4066, 4067, 4068, 4069, 4070, 4071, 4072, 4073, 4074, 4075, 4076, 4077, 4078, 4079, 4081, 4082, 4083, 4084, 4085, 4086, 4087, 4088, 4089, 4090, 4091, 4092, 4093, 4094, 4095, 4096, 4097, 4104, 4105, 4106, 4107, 4108, 4109, 4110, 4111, 4112, 4113, 4114, 4115, 4116, 4117, 4118, 4119, 4120, 4121, 4122, 4123, 4124, 4125, 4126, 4127, 4128, 4129, 4130, 4131, 4132, 4133, 4134, 4135, 4136, 4137, 4138, 4139, 4140, 4141, 4142, 4143, 4144, 4145, 4146, 4147, 4148, 4149, 4150, 4151, 4152, 4153, 4154, 4155, 4156, 4157, 4158, 4159, 4161, 4162, 4163, 4164, 4165, 4166, 4167, 4168, 4169, 4170, 4171, 4172, 4173, 4174, 4175, 4176, 4177, 4178, 4179, 4186, 4187, 4188, 4189, 4190, 4191, 4192, 4193, 4194, 4195, 4196, 4197, 4198, 4199, 4200, 4201, 4202, 4203, 4204, 4205, 4206, 4207, 4208, 4209, 4210, 4211, 4212, 4213, 4214, 4215, 4216, 4217, 4218, 4219, 4220, 4221, 4222, 4223, 4224, 4225, 4226, 4227, 4228, 4229, 4230, 4231, 4232, 4233, 4234, 4235, 4236, 4237, 4238, 4239, 4241, 4242, 4243, 4244, 4245, 4246, 4247, 4248, 4249, 4250, 4251, 4252, 4253, 4254, 4255, 4256, 4257, 4258, 4259, 4260, 4261, 4269, 4270, 4271, 4272, 4273, 4274, 4275, 4276, 4277, 4278, 4279, 4280, 4281, 4282, 4283, 4284, 4285, 4286, 4287, 4288, 4289, 4290, 4291, 4292, 4293, 4294, 4295, 4296, 4297, 4298, 4299, 4300, 4301, 4302, 4303, 4304, 4305, 4306, 4307, 4308, 4309, 4310, 4311, 4312, 4313, 4314, 4315, 4316, 4317, 4318, 4319, 4321, 4322, 4323, 4324, 4325, 4326, 4327, 4328, 4329, 4330, 4331, 4332, 4333, 4334, 4335, 4336, 4337, 4338, 4339, 4340, 4341, 4342, 4343, 4351, 4352, 4353, 4354, 4355, 4356, 4357, 4358, 4359, 4360, 4361, 4362, 4363, 4364, 4365, 4366, 4367, 4368, 4369, 4370, 4371, 4372, 4373, 4374, 4375, 4376, 4377, 4378, 4379, 4380, 4381, 4382, 4383, 4384, 4385, 4386, 4387, 4388, 4389, 4390, 4391, 4392, 4393, 4394, 4395, 4396, 4397, 4398, 4399, 4401, 4402, 4403, 4404, 4405, 4406, 4407, 4408, 4409, 4410, 4411, 4412, 4413, 4414, 4415, 4416, 4417, 4418, 4419, 4420, 4421, 4422, 4423, 4424, 4425, 4434, 4435, 4436, 4437, 4438, 4439, 4440, 4441, 4442, 4443, 4444, 4445, 4446, 4447, 4448, 4449, 4450, 4451, 4452, 4453, 4454, 4455, 4456, 4457, 4458, 4459, 4460, 4461, 4462, 4463, 4464, 4465, 4466, 4467, 4468, 4469, 4470, 4471, 4472, 4473, 4474, 4475, 4476, 4477, 4478, 4482, 4483, 4484, 4485, 4486, 4487, 4488, 4489, 4490, 4491, 4492, 4493, 4494, 4495, 4496, 4497, 4498, 4499, 4500, 4501, 4502, 4503, 4504, 4505, 4506, 4516, 4517, 4518, 4519, 4520, 4521, 4522, 4523, 4524, 4525, 4526, 4527, 4528, 4529, 4530, 4531, 4532, 4533, 4534, 4535, 4536, 4537, 4538, 4539, 4540, 4541, 4542, 4543, 4544, 4545, 4546, 4547, 4548, 4549, 4550, 4551, 4552, 4553, 4554, 4555, 4556, 4557, 4558, 4562, 4563, 4564, 4565, 4566, 4567, 4568, 4569, 4570, 4571, 4572, 4573, 4574, 4575, 4576, 4577, 4578, 4579, 4580, 4581, 4582, 4583, 4584, 4585, 4586, 4587, 4588, 4598, 4599, 4600, 4601, 4602, 4603, 4604, 4605, 4606, 4607, 4608, 4609, 4610, 4611, 4612, 4613, 4614, 4615, 4616, 4617, 4618, 4619, 4620, 4621, 4622, 4623, 4624, 4625, 4626, 4627, 4628, 4629, 4630, 4631, 4632, 4633, 4634, 4635, 4636, 4637, 4638, 4642, 4643, 4644, 4645, 4646, 4647, 4648, 4649, 4650, 4651, 4652, 4653, 4654, 4655, 4656, 4657, 4658, 4659, 4660, 4661, 4662, 4663, 4664, 4665, 4666, 4667, 4668, 4669, 4670, 4681, 4682, 4683, 4684, 4685, 4686, 4687, 4688, 4689, 4690, 4691, 4692, 4693, 4694, 4695, 4696, 4697, 4698, 4699, 4700, 4701, 4702, 4703, 4704, 4705, 4706, 4707, 4708, 4709, 4710, 4711, 4712, 4713, 4714, 4715, 4716, 4717, 4718, 4722, 4723, 4724, 4725, 4726, 4727, 4728, 4729, 4730, 4731, 4732, 4733, 4734, 4735, 4736, 4737, 4738, 4739, 4740, 4741, 4742, 4743, 4744, 4745, 4746, 4747, 4748, 4749, 4750, 4751, 4752, 4763, 4764, 4765, 4766, 4767, 4768, 4769, 4770, 4771, 4772, 4773, 4774, 4775, 4776, 4777, 4778, 4779, 4780, 4781, 4782, 4783, 4784, 4785, 4786, 4787, 4788, 4789, 4790, 4791, 4792, 4793, 4794, 4795, 4796, 4797, 4798, 4802, 4803, 4804, 4805, 4806, 4807, 4808, 4809, 4810, 4811, 4812, 4813, 4814, 4815, 4816, 4817, 4818, 4819, 4820, 4821, 4822, 4823, 4824, 4825, 4826, 4827, 4828, 4829, 4830, 4831, 4832, 4833, 4834, 4845, 4846, 4847, 4848, 4849, 4850, 4851, 4852, 4853, 4854, 4855, 4856, 4857, 4858, 4859, 4860, 4861, 4862, 4863, 4864, 4865, 4866, 4867, 4868, 4869, 4870, 4871, 4872, 4873, 4874, 4875, 4876, 4877, 4878, 4882, 4883, 4884, 4885, 4886, 4887, 4888, 4889, 4890, 4891, 4892, 4893, 4894, 4895, 4896, 4897, 4898, 4899, 4900, 4901, 4902, 4903, 4904, 4905, 4906, 4907, 4908, 4909, 4910, 4911, 4912, 4913, 4914, 4915, 4928, 4929, 4930, 4931, 4932, 4933, 4934, 4935, 4936, 4937, 4938, 4939, 4940, 4941, 4942, 4943, 4944, 4945, 4946, 4947, 4948, 4949, 4950, 4951, 4952, 4953, 4954, 4955, 4956, 4957, 4958, 4962, 4963, 4964, 4965, 4966, 4967, 4968, 4969, 4970, 4971, 4972, 4973, 4974, 4975, 4976, 4977, 4978, 4979, 4980, 4981, 4982, 4983, 4984, 4985, 4986, 4987, 4988, 4989, 4990, 4991, 4992, 4993, 4994, 4995, 4996, 4997, 5010, 5011, 5012, 5013, 5014, 5015, 5016, 5017, 5018, 5019, 5020, 5021, 5022, 5023, 5024, 5025, 5026, 5027, 5028, 5029, 5030, 5031, 5032, 5033, 5034, 5035, 5036, 5037, 5038, 5042, 5043, 5044, 5045, 5046, 5047, 5048, 5049, 5050, 5051, 5052, 5053, 5054, 5055, 5056, 5057, 5058, 5059, 5060, 5061, 5062, 5063, 5064, 5065, 5066, 5067, 5068, 5069, 5070, 5071, 5072, 5073, 5074, 5075, 5076, 5077, 5078, 5079, 5092, 5093, 5094, 5095, 5096, 5097, 5098, 5099, 5100, 5101, 5102, 5103, 5104, 5105, 5106, 5107, 5108, 5109, 5110, 5111, 5112, 5113, 5114, 5115, 5116, 5117, 5118, 5122, 5123, 5124, 5125, 5126, 5127, 5128, 5129, 5130, 5131, 5132, 5133, 5134, 5135, 5136, 5137, 5138, 5139, 5140, 5141, 5142, 5143, 5144, 5145, 5146, 5147, 5148, 5149, 5150, 5151, 5152, 5153, 5154, 5155, 5156, 5157, 5158, 5159, 5160, 5161, 5175, 5176, 5177, 5178, 5179, 5180, 5181, 5182, 5183, 5184, 5185, 5186, 5187, 5188, 5189, 5190, 5191, 5192, 5193, 5194, 5195, 5196, 5197, 5198, 5202, 5203, 5204, 5205, 5206, 5207, 5208, 5209, 5210, 5211, 5212, 5213, 5214, 5215, 5216, 5217, 5218, 5219, 5220, 5221, 5222, 5223, 5224, 5225, 5226, 5227, 5228, 5229, 5230, 5231, 5232, 5233, 5234, 5235, 5236, 5237, 5238, 5239, 5240, 5241, 5242, 5243, 5257, 5258, 5259, 5260, 5261, 5262, 5263, 5264, 5265, 5266, 5267, 5268, 5269, 5270, 5271, 5272, 5273, 5274, 5275, 5276, 5277, 5278, 5282, 5283, 5284, 5285, 5286, 5287, 5288, 5289, 5290, 5291, 5292, 5293, 5294, 5295, 5296, 5297, 5298, 5299, 5300, 5301, 5302, 5303, 5304, 5305, 5306, 5307, 5308, 5309, 5310, 5311, 5312, 5313, 5314, 5315, 5316, 5317, 5318, 5319, 5320, 5321, 5322, 5323, 5324, 5340, 5341, 5342, 5343, 5344, 5345, 5346, 5347, 5348, 5349, 5350, 5351, 5352, 5353, 5354, 5355, 5356, 5357, 5358, 5362, 5363, 5364, 5365, 5366, 5367, 5368, 5369, 5370, 5371, 5372, 5373, 5374, 5375, 5376, 5377, 5378, 5379, 5380, 5381, 5382, 5383, 5384, 5385, 5386, 5387, 5388, 5389, 5390, 5391, 5392, 5393, 5394, 5395, 5396, 5397, 5398, 5399, 5400, 5401, 5402, 5403, 5404, 5405, 5406, 5422, 5423, 5424, 5425, 5426, 5427, 5428, 5429, 5430, 5431, 5432, 5433, 5434, 5435, 5436, 5437, 5438, 5442, 5443, 5444, 5445, 5446, 5447, 5448, 5449, 5450, 5451, 5452, 5453, 5454, 5455, 5456, 5457, 5458, 5459, 5460, 5461, 5462, 5463, 5464, 5465, 5466, 5467, 5468, 5469, 5470, 5471, 5472, 5473, 5474, 5475, 5476, 5477, 5478, 5479, 5480, 5481, 5482, 5483, 5484, 5485, 5486, 5487, 5488, 5504, 5505, 5506, 5507, 5508, 5509, 5510, 5511, 5512, 5513, 5514, 5515, 5516, 5517, 5518, 5522, 5523, 5524, 5525, 5526, 5527, 5528, 5529, 5530, 5531, 5532, 5533, 5534, 5535, 5536, 5537, 5538, 5539, 5540, 5541, 5542, 5543, 5544, 5545, 5546, 5547, 5548, 5549, 5550, 5551, 5552, 5553, 5554, 5555, 5556, 5557, 5558, 5559, 5560, 5561, 5562, 5563, 5564, 5565, 5566, 5567, 5568, 5569, 5570, 5587, 5588, 5589, 5590, 5591, 5592, 5593, 5594, 5595, 5596, 5597, 5603, 5604, 5605, 5606, 5607, 5608, 5609, 5610, 5611, 5612, 5613, 5614, 5615, 5616, 5617, 5618, 5619, 5620, 5621, 5622, 5623, 5624, 5625, 5626, 5627, 5628, 5629, 5630, 5631, 5632, 5633, 5634, 5635, 5636, 5637, 5638, 5639, 5640, 5641, 5642, 5643, 5644, 5645, 5646, 5647, 5648, 5649, 5650, 5651, 5669, 5670, 5671, 5672, 5673, 5674, 5675, 5676, 5677, 5683, 5684, 5685, 5686, 5687, 5688, 5689, 5690, 5691, 5692, 5693, 5694, 5695, 5696, 5697, 5698, 5699, 5700, 5701, 5702, 5703, 5704, 5705, 5706, 5707, 5708, 5709, 5710, 5711, 5712, 5713, 5714, 5715, 5716, 5717, 5718, 5719, 5720, 5721, 5722, 5723, 5724, 5725, 5726, 5727, 5728, 5729, 5730, 5731, 5732, 5733, 5751, 5752, 5753, 5754, 5755, 5756, 5757, 5763, 5764, 5765, 5766, 5767, 5768, 5769, 5770, 5771, 5772, 5773, 5774, 5775, 5776, 5777, 5778, 5779, 5780, 5781, 5782, 5783, 5784, 5785, 5786, 5787, 5788, 5789, 5790, 5791, 5792, 5793, 5794, 5795, 5796, 5797, 5798, 5799, 5800, 5801, 5802, 5803, 5804, 5805, 5806, 5807, 5808, 5809, 5810, 5811, 5812, 5813, 5814, 5815, 5832, 5833, 5834, 5835, 5836, 5837, 5843, 5844, 5845, 5846, 5847, 5848, 5849, 5850, 5851, 5852, 5853, 5854, 5855, 5856, 5857, 5858, 5859, 5860, 5861, 5862, 5863, 5864, 5865, 5866, 5867, 5868, 5869, 5870, 5871, 5872, 5873, 5874, 5875, 5876, 5877, 5878, 5879, 5880, 5881, 5882, 5883, 5884, 5885, 5886, 5887, 5888, 5889, 5890, 5891, 5892, 5893, 5894, 5895, 5896, 5897, 5913, 5914, 5915, 5916, 5917, 5923, 5924, 5925, 5926, 5927, 5928, 5929, 5930, 5931, 5932, 5933, 5934, 5935, 5936, 5937, 5938, 5939, 5940, 5941, 5942, 5943, 5944, 5945, 5946, 5947, 5948, 5949, 5950, 5951, 5952, 5953, 5954, 5955, 5956, 5957, 5958, 5959, 5960, 5961, 5962, 5963, 5964, 5965, 5966, 5967, 5968, 5969, 5970, 5971, 5972, 5973, 5974, 5975, 5976, 5977, 5978, 5979, 5994, 5995, 5996, 5997, 6003, 6004, 6005, 6006, 6007, 6008, 6009, 6010, 6011, 6012, 6013, 6014, 6015, 6016, 6017, 6018, 6019, 6020, 6021, 6022, 6023, 6024, 6025, 6026, 6027, 6028, 6029, 6030, 6031, 6032, 6033, 6034, 6035, 6036, 6037, 6038, 6039, 6040, 6041, 6042, 6043, 6044, 6045, 6046, 6047, 6048, 6049, 6050, 6051, 6052, 6053, 6054, 6055, 6056, 6057, 6058, 6059, 6060, 6075, 6076, 6077, 6083, 6084, 6085, 6086, 6087, 6088, 6089, 6090, 6091, 6092, 6093, 6094, 6095, 6096, 6097, 6098, 6099, 6100, 6101, 6102, 6103, 6104, 6105, 6106, 6107, 6108, 6109, 6110, 6111, 6112, 6113, 6114, 6115, 6116, 6117, 6118, 6119, 6120, 6121, 6122, 6123, 6124, 6125, 6126, 6127, 6128, 6129, 6130, 6131, 6132, 6133, 6134, 6135, 6136, 6137, 6138, 6139, 6140, 6141, 6142, 6156, 6157, 6163, 6164, 6165, 6166, 6167, 6168, 6169, 6170, 6171, 6172, 6173, 6174, 6175, 6176, 6177, 6178, 6179, 6180, 6181, 6182, 6183, 6184, 6185, 6186, 6187, 6188, 6189, 6190, 6191, 6192, 6193, 6194, 6195, 6196, 6197, 6198, 6199, 6200, 6201, 6202, 6203, 6204, 6205, 6206, 6207, 6208, 6209, 6210, 6211, 6212, 6213, 6214, 6215, 6216, 6217, 6218, 6219, 6220, 6221, 6222, 6223, 6224, 6237, 6243, 6244, 6245, 6246, 6247, 6248, 6249, 6250, 6251, 6252, 6253, 6254, 6255, 6256, 6257, 6258, 6259, 6260, 6261, 6262, 6263, 6264, 6265, 6266, 6267, 6268, 6269, 6270, 6271, 6272, 6273, 6274, 6275, 6276, 6277, 6278, 6279, 6280, 6281, 6282, 6283, 6284, 6285, 6286, 6287, 6288, 6289, 6290, 6291, 6292, 6293, 6294, 6295, 6296, 6297, 6298, 6299, 6300, 6301, 6302, 6303, 6304, 6305, 6306, 6323, 6324, 6325, 6326, 6327, 6328, 6329, 6330, 6331, 6332, 6333, 6334, 6335, 6336, 6337, 6338, 6339, 6340, 6341, 6342, 6343, 6344, 6345, 6346, 6347, 6348, 6349, 6350, 6351, 6352, 6353, 6354, 6355, 6356, 6357, 6358, 6359, 6360, 6361, 6362, 6363, 6364, 6365, 6366, 6367, 6368, 6369, 6370, 6371, 6372, 6373, 6374, 6375, 6376, 6377, 6378, 6379, 6380, 6381, 6382, 6383, 6384, 6385, 6386, 6387, 6388, 6403, 6404, 6405, 6406, 6407, 6408, 6409, 6410, 6411, 6412, 6413, 6414, 6415, 6416, 6417, 6418, 6419, 6420, 6421, 6422, 6423, 6424, 6425, 6426, 6427, 6428, 6429, 6430, 6431, 6432, 6433, 6434, 6435, 6436, 6437, 6438, 6439, 6440, 6441, 6442, 6443, 6444, 6445, 6446, 6447, 6448, 6449, 6450, 6451, 6452, 6453, 6454, 6455, 6456, 6457, 6458, 6459, 6460, 6461, 6462, 6463, 6464, 6465, 6466, 6467, 6468, 6469, 6483, 6484, 6485, 6486, 6487, 6488, 6489, 6490, 6491, 6492, 6493, 6494, 6495, 6496, 6497, 6498, 6499, 6500, 6501, 6502, 6503, 6504, 6505, 6506, 6507, 6508, 6509, 6510, 6511, 6512, 6513, 6514, 6515, 6516, 6517, 6518, 6519, 6520, 6521, 6522, 6523, 6524, 6525, 6526, 6527, 6528, 6529, 6530, 6531, 6532, 6533, 6534, 6535, 6536, 6537, 6538, 6539, 6540, 6541, 6542, 6543, 6544, 6545, 6546, 6547, 6548, 6549, 6550, 6551]\n",
      "val ids:  []\n",
      "test ids:  [0, 1, 2, 3, 4, 5, 6, 7, 8, 78, 79, 80, 81, 82, 83, 84, 85, 86, 87, 88, 89, 90, 158, 159, 160, 161, 162, 163, 164, 165, 166, 167, 168, 169, 170, 171, 238, 239, 240, 241, 242, 243, 244, 245, 246, 247, 248, 249, 250, 251, 252, 253, 318, 319, 320, 321, 322, 324, 325, 326, 327, 328, 329, 330, 331, 332, 333, 334, 335, 398, 399, 400, 401, 402, 405, 406, 407, 408, 409, 410, 411, 412, 413, 414, 415, 416, 417, 478, 479, 480, 481, 482, 486, 487, 488, 489, 490, 491, 492, 493, 494, 495, 496, 497, 498, 499, 558, 559, 560, 561, 562, 567, 568, 569, 570, 571, 572, 573, 574, 575, 576, 577, 578, 579, 580, 638, 639, 640, 641, 642, 648, 649, 650, 651, 652, 653, 654, 655, 656, 657, 658, 659, 660, 661, 662, 718, 719, 720, 721, 722, 729, 730, 731, 732, 733, 734, 735, 736, 737, 738, 739, 740, 741, 742, 743, 744, 798, 799, 800, 801, 802, 810, 811, 812, 813, 814, 815, 816, 817, 818, 819, 820, 821, 822, 823, 824, 825, 826, 878, 879, 880, 881, 882, 892, 893, 894, 895, 896, 897, 898, 899, 900, 901, 902, 903, 904, 905, 906, 907, 908, 958, 959, 960, 961, 962, 974, 975, 976, 977, 978, 979, 980, 981, 982, 983, 984, 985, 986, 987, 988, 989, 1039, 1040, 1041, 1057, 1058, 1059, 1060, 1061, 1062, 1063, 1064, 1065, 1066, 1067, 1068, 1069, 1070, 1071, 1119, 1120, 1121, 1139, 1140, 1141, 1142, 1143, 1144, 1145, 1146, 1147, 1148, 1149, 1150, 1151, 1152, 1153, 1199, 1200, 1201, 1221, 1222, 1223, 1224, 1225, 1226, 1227, 1228, 1229, 1230, 1231, 1232, 1233, 1234, 1235, 1279, 1280, 1281, 1304, 1305, 1306, 1307, 1308, 1309, 1310, 1311, 1312, 1313, 1314, 1315, 1316, 1359, 1360, 1361, 1386, 1387, 1388, 1389, 1390, 1391, 1392, 1393, 1394, 1395, 1396, 1397, 1398, 1439, 1440, 1441, 1469, 1470, 1471, 1472, 1473, 1474, 1475, 1476, 1477, 1478, 1479, 1480, 1519, 1520, 1521, 1551, 1552, 1553, 1554, 1555, 1556, 1557, 1558, 1559, 1560, 1561, 1562, 1599, 1600, 1601, 1633, 1634, 1635, 1636, 1637, 1638, 1639, 1640, 1641, 1642, 1643, 1644, 1679, 1680, 1681, 1716, 1717, 1718, 1719, 1720, 1721, 1722, 1723, 1724, 1725, 1759, 1760, 1761, 1798, 1799, 1800, 1801, 1802, 1803, 1804, 1805, 1806, 1807, 1839, 1840, 1841, 1880, 1881, 1882, 1883, 1884, 1885, 1886, 1887, 1888, 1889, 1919, 1920, 1921, 1963, 1964, 1965, 1966, 1967, 1968, 1969, 1970, 1971, 1999, 2000, 2001, 2045, 2046, 2047, 2048, 2049, 2050, 2051, 2052, 2053, 2079, 2080, 2081, 2127, 2128, 2129, 2130, 2131, 2132, 2133, 2134, 2160, 2210, 2211, 2212, 2213, 2214, 2215, 2216, 2240, 2292, 2293, 2294, 2295, 2296, 2297, 2298, 2320, 2375, 2376, 2377, 2378, 2379, 2380, 2400, 2457, 2458, 2459, 2460, 2461, 2462, 2480, 2539, 2540, 2541, 2542, 2543, 2560, 2622, 2623, 2624, 2625, 2640, 2704, 2705, 2706, 2707, 2720, 2786, 2787, 2788, 2789, 2800, 2869, 2870, 2871, 2880, 2951, 2952, 2960, 3033, 3034, 3040, 3116, 3120, 3198, 3200, 3280, 3360, 3362, 3440, 3444, 3520, 3526, 3527, 3600, 3608, 3609, 3680, 3689, 3690, 3691, 3760, 3771, 3772, 3773, 3774, 3840, 3853, 3854, 3855, 3856, 3920, 3935, 3936, 3937, 3938, 4000, 4017, 4018, 4019, 4020, 4021, 4080, 4098, 4099, 4100, 4101, 4102, 4103, 4160, 4180, 4181, 4182, 4183, 4184, 4185, 4240, 4262, 4263, 4264, 4265, 4266, 4267, 4268, 4320, 4344, 4345, 4346, 4347, 4348, 4349, 4350, 4400, 4426, 4427, 4428, 4429, 4430, 4431, 4432, 4433, 4479, 4480, 4481, 4507, 4508, 4509, 4510, 4511, 4512, 4513, 4514, 4515, 4559, 4560, 4561, 4589, 4590, 4591, 4592, 4593, 4594, 4595, 4596, 4597, 4639, 4640, 4641, 4671, 4672, 4673, 4674, 4675, 4676, 4677, 4678, 4679, 4680, 4719, 4720, 4721, 4753, 4754, 4755, 4756, 4757, 4758, 4759, 4760, 4761, 4762, 4799, 4800, 4801, 4835, 4836, 4837, 4838, 4839, 4840, 4841, 4842, 4843, 4844, 4879, 4880, 4881, 4916, 4917, 4918, 4919, 4920, 4921, 4922, 4923, 4924, 4925, 4926, 4927, 4959, 4960, 4961, 4998, 4999, 5000, 5001, 5002, 5003, 5004, 5005, 5006, 5007, 5008, 5009, 5039, 5040, 5041, 5080, 5081, 5082, 5083, 5084, 5085, 5086, 5087, 5088, 5089, 5090, 5091, 5119, 5120, 5121, 5162, 5163, 5164, 5165, 5166, 5167, 5168, 5169, 5170, 5171, 5172, 5173, 5174, 5199, 5200, 5201, 5244, 5245, 5246, 5247, 5248, 5249, 5250, 5251, 5252, 5253, 5254, 5255, 5256, 5279, 5280, 5281, 5325, 5326, 5327, 5328, 5329, 5330, 5331, 5332, 5333, 5334, 5335, 5336, 5337, 5338, 5339, 5359, 5360, 5361, 5407, 5408, 5409, 5410, 5411, 5412, 5413, 5414, 5415, 5416, 5417, 5418, 5419, 5420, 5421, 5439, 5440, 5441, 5489, 5490, 5491, 5492, 5493, 5494, 5495, 5496, 5497, 5498, 5499, 5500, 5501, 5502, 5503, 5519, 5520, 5521, 5571, 5572, 5573, 5574, 5575, 5576, 5577, 5578, 5579, 5580, 5581, 5582, 5583, 5584, 5585, 5586, 5598, 5599, 5600, 5601, 5602, 5652, 5653, 5654, 5655, 5656, 5657, 5658, 5659, 5660, 5661, 5662, 5663, 5664, 5665, 5666, 5667, 5668, 5678, 5679, 5680, 5681, 5682, 5734, 5735, 5736, 5737, 5738, 5739, 5740, 5741, 5742, 5743, 5744, 5745, 5746, 5747, 5748, 5749, 5750, 5758, 5759, 5760, 5761, 5762, 5816, 5817, 5818, 5819, 5820, 5821, 5822, 5823, 5824, 5825, 5826, 5827, 5828, 5829, 5830, 5831, 5838, 5839, 5840, 5841, 5842, 5898, 5899, 5900, 5901, 5902, 5903, 5904, 5905, 5906, 5907, 5908, 5909, 5910, 5911, 5912, 5918, 5919, 5920, 5921, 5922, 5980, 5981, 5982, 5983, 5984, 5985, 5986, 5987, 5988, 5989, 5990, 5991, 5992, 5993, 5998, 5999, 6000, 6001, 6002, 6061, 6062, 6063, 6064, 6065, 6066, 6067, 6068, 6069, 6070, 6071, 6072, 6073, 6074, 6078, 6079, 6080, 6081, 6082, 6143, 6144, 6145, 6146, 6147, 6148, 6149, 6150, 6151, 6152, 6153, 6154, 6155, 6158, 6159, 6160, 6161, 6162, 6225, 6226, 6227, 6228, 6229, 6230, 6231, 6232, 6233, 6234, 6235, 6236, 6238, 6239, 6240, 6241, 6242, 6307, 6308, 6309, 6310, 6311, 6312, 6313, 6314, 6315, 6316, 6317, 6318, 6319, 6320, 6321, 6322, 6389, 6390, 6391, 6392, 6393, 6394, 6395, 6396, 6397, 6398, 6399, 6400, 6401, 6402, 6470, 6471, 6472, 6473, 6474, 6475, 6476, 6477, 6478, 6479, 6480, 6481, 6482, 6552, 6553, 6554, 6555, 6556, 6557, 6558, 6559, 6560]\n",
      "CPU times: user 199 ms, sys: 11.9 ms, total: 211 ms\n",
      "Wall time: 210 ms\n"
     ]
    }
   ],
   "source": [
    "%%time\n",
    "n_total = len(simulation.dataframe)\n",
    "n_train = len(simulation.dataframe[simulation.dataframe.type_of == \"train\"])\n",
    "n_val = len(simulation.dataframe[simulation.dataframe.type_of == \"val\"])\n",
    "n_test = len(simulation.dataframe[simulation.dataframe.type_of == \"test\"])\n",
    "n_train_hamiltonians = len(simulation.train_ids)\n",
    "n_val_hamiltonians = len(simulation.val_ids)\n",
    "n_test_hamiltonians = len(simulation.test_ids)\n",
    "n_total_hamiltonians = n_train_hamiltonians + n_val_hamiltonians + n_test_hamiltonians\n",
    "\n",
    "print(\"% train: \", n_train/n_total)\n",
    "print(\"% val: \",  n_val/n_total)\n",
    "print(\"% test: \", n_test/n_total)\n",
    "print(\"% train + val + test: \", (n_train+n_val+n_test)/n_total)\n",
    "print(\"\\n\")\n",
    "print(\"number of train hamiltonians: \", n_train_hamiltonians)\n",
    "print(\"number of val hamiltonians: \", n_val_hamiltonians)\n",
    "print(\"number of test hamiltonians: \", n_test_hamiltonians)\n",
    "print(\"total number of hamiltonians: \", n_total_hamiltonians)\n",
    "print(\"\\n\")\n",
    "print(\"train ids: \", simulation.train_ids)\n",
    "print(\"val ids: \", simulation.val_ids)\n",
    "print(\"test ids: \", simulation.test_ids)"
   ]
  },
  {
   "cell_type": "markdown",
   "metadata": {
    "papermill": {
     "duration": 0.016825,
     "end_time": "2020-07-08T02:15:27.535202",
     "exception": false,
     "start_time": "2020-07-08T02:15:27.518377",
     "status": "completed"
    },
    "tags": []
   },
   "source": [
    "## Running a simulation"
   ]
  },
  {
   "cell_type": "code",
   "execution_count": 23,
   "metadata": {
    "execution": {
     "iopub.execute_input": "2020-07-08T02:15:27.572750Z",
     "iopub.status.busy": "2020-07-08T02:15:27.572221Z",
     "iopub.status.idle": "2020-07-08T02:37:36.430545Z",
     "shell.execute_reply": "2020-07-08T02:37:36.430229Z"
    },
    "papermill": {
     "duration": 1328.877569,
     "end_time": "2020-07-08T02:37:36.430596",
     "exception": false,
     "start_time": "2020-07-08T02:15:27.553027",
     "status": "completed"
    },
    "tags": []
   },
   "outputs": [
    {
     "name": "stderr",
     "output_type": "stream",
     "text": [
      "\r",
      "running experiments:   0%|          | 0/100 [00:00<?, ?it/s]"
     ]
    },
    {
     "name": "stderr",
     "output_type": "stream",
     "text": [
      "\r",
      "running experiments:   1%|          | 1/100 [00:11<19:37, 11.90s/it]"
     ]
    },
    {
     "name": "stderr",
     "output_type": "stream",
     "text": [
      "\r",
      "running experiments:   2%|▏         | 2/100 [00:23<19:21, 11.85s/it]"
     ]
    },
    {
     "name": "stderr",
     "output_type": "stream",
     "text": [
      "\r",
      "running experiments:   3%|▎         | 3/100 [00:36<19:44, 12.21s/it]"
     ]
    },
    {
     "name": "stderr",
     "output_type": "stream",
     "text": [
      "\r",
      "running experiments:   4%|▍         | 4/100 [00:49<19:55, 12.45s/it]"
     ]
    },
    {
     "name": "stderr",
     "output_type": "stream",
     "text": [
      "\r",
      "running experiments:   5%|▌         | 5/100 [01:01<19:32, 12.35s/it]"
     ]
    },
    {
     "name": "stderr",
     "output_type": "stream",
     "text": [
      "\r",
      "running experiments:   6%|▌         | 6/100 [01:14<19:20, 12.35s/it]"
     ]
    },
    {
     "name": "stderr",
     "output_type": "stream",
     "text": [
      "\r",
      "running experiments:   7%|▋         | 7/100 [01:27<19:33, 12.62s/it]"
     ]
    },
    {
     "name": "stderr",
     "output_type": "stream",
     "text": [
      "\r",
      "running experiments:   8%|▊         | 8/100 [01:42<20:17, 13.23s/it]"
     ]
    },
    {
     "name": "stderr",
     "output_type": "stream",
     "text": [
      "\r",
      "running experiments:   9%|▉         | 9/100 [01:55<19:58, 13.17s/it]"
     ]
    },
    {
     "name": "stderr",
     "output_type": "stream",
     "text": [
      "\r",
      "running experiments:  10%|█         | 10/100 [02:08<20:01, 13.35s/it]"
     ]
    },
    {
     "name": "stderr",
     "output_type": "stream",
     "text": [
      "\r",
      "running experiments:  11%|█         | 11/100 [02:20<18:52, 12.73s/it]"
     ]
    },
    {
     "name": "stderr",
     "output_type": "stream",
     "text": [
      "\r",
      "running experiments:  12%|█▏        | 12/100 [02:35<19:37, 13.38s/it]"
     ]
    },
    {
     "name": "stderr",
     "output_type": "stream",
     "text": [
      "\r",
      "running experiments:  13%|█▎        | 13/100 [02:46<18:38, 12.85s/it]"
     ]
    },
    {
     "name": "stderr",
     "output_type": "stream",
     "text": [
      "\r",
      "running experiments:  14%|█▍        | 14/100 [03:01<19:16, 13.44s/it]"
     ]
    },
    {
     "name": "stderr",
     "output_type": "stream",
     "text": [
      "\r",
      "running experiments:  15%|█▌        | 15/100 [03:15<19:16, 13.60s/it]"
     ]
    },
    {
     "name": "stderr",
     "output_type": "stream",
     "text": [
      "\r",
      "running experiments:  16%|█▌        | 16/100 [03:28<18:54, 13.51s/it]"
     ]
    },
    {
     "name": "stderr",
     "output_type": "stream",
     "text": [
      "\r",
      "running experiments:  17%|█▋        | 17/100 [03:43<19:04, 13.79s/it]"
     ]
    },
    {
     "name": "stderr",
     "output_type": "stream",
     "text": [
      "\r",
      "running experiments:  18%|█▊        | 18/100 [03:56<18:39, 13.65s/it]"
     ]
    },
    {
     "name": "stderr",
     "output_type": "stream",
     "text": [
      "\r",
      "running experiments:  19%|█▉        | 19/100 [04:09<18:14, 13.51s/it]"
     ]
    },
    {
     "name": "stderr",
     "output_type": "stream",
     "text": [
      "\r",
      "running experiments:  20%|██        | 20/100 [04:23<17:57, 13.47s/it]"
     ]
    },
    {
     "name": "stderr",
     "output_type": "stream",
     "text": [
      "\r",
      "running experiments:  21%|██        | 21/100 [04:37<18:07, 13.76s/it]"
     ]
    },
    {
     "name": "stderr",
     "output_type": "stream",
     "text": [
      "\r",
      "running experiments:  22%|██▏       | 22/100 [04:52<18:22, 14.14s/it]"
     ]
    },
    {
     "name": "stderr",
     "output_type": "stream",
     "text": [
      "\r",
      "running experiments:  23%|██▎       | 23/100 [05:06<18:11, 14.18s/it]"
     ]
    },
    {
     "name": "stderr",
     "output_type": "stream",
     "text": [
      "\r",
      "running experiments:  24%|██▍       | 24/100 [05:21<18:11, 14.36s/it]"
     ]
    },
    {
     "name": "stderr",
     "output_type": "stream",
     "text": [
      "\r",
      "running experiments:  25%|██▌       | 25/100 [05:36<17:59, 14.39s/it]"
     ]
    },
    {
     "name": "stderr",
     "output_type": "stream",
     "text": [
      "\r",
      "running experiments:  26%|██▌       | 26/100 [05:51<18:03, 14.65s/it]"
     ]
    },
    {
     "name": "stderr",
     "output_type": "stream",
     "text": [
      "\r",
      "running experiments:  27%|██▋       | 27/100 [06:06<17:58, 14.77s/it]"
     ]
    },
    {
     "name": "stderr",
     "output_type": "stream",
     "text": [
      "\r",
      "running experiments:  28%|██▊       | 28/100 [06:20<17:19, 14.43s/it]"
     ]
    },
    {
     "name": "stderr",
     "output_type": "stream",
     "text": [
      "\r",
      "running experiments:  29%|██▉       | 29/100 [06:33<16:50, 14.24s/it]"
     ]
    },
    {
     "name": "stderr",
     "output_type": "stream",
     "text": [
      "\r",
      "running experiments:  30%|███       | 30/100 [06:49<17:07, 14.67s/it]"
     ]
    },
    {
     "name": "stderr",
     "output_type": "stream",
     "text": [
      "\r",
      "running experiments:  31%|███       | 31/100 [07:03<16:30, 14.36s/it]"
     ]
    },
    {
     "name": "stderr",
     "output_type": "stream",
     "text": [
      "\r",
      "running experiments:  32%|███▏      | 32/100 [07:15<15:33, 13.73s/it]"
     ]
    },
    {
     "name": "stderr",
     "output_type": "stream",
     "text": [
      "\r",
      "running experiments:  33%|███▎      | 33/100 [07:25<13:57, 12.50s/it]"
     ]
    },
    {
     "name": "stderr",
     "output_type": "stream",
     "text": [
      "\r",
      "running experiments:  34%|███▍      | 34/100 [07:38<14:02, 12.76s/it]"
     ]
    },
    {
     "name": "stderr",
     "output_type": "stream",
     "text": [
      "\r",
      "running experiments:  35%|███▌      | 35/100 [07:50<13:40, 12.63s/it]"
     ]
    },
    {
     "name": "stderr",
     "output_type": "stream",
     "text": [
      "\r",
      "running experiments:  36%|███▌      | 36/100 [08:04<13:43, 12.87s/it]"
     ]
    },
    {
     "name": "stderr",
     "output_type": "stream",
     "text": [
      "\r",
      "running experiments:  37%|███▋      | 37/100 [08:16<13:26, 12.80s/it]"
     ]
    },
    {
     "name": "stderr",
     "output_type": "stream",
     "text": [
      "\r",
      "running experiments:  38%|███▊      | 38/100 [08:28<13:01, 12.61s/it]"
     ]
    },
    {
     "name": "stderr",
     "output_type": "stream",
     "text": [
      "\r",
      "running experiments:  39%|███▉      | 39/100 [08:39<12:19, 12.13s/it]"
     ]
    },
    {
     "name": "stderr",
     "output_type": "stream",
     "text": [
      "\r",
      "running experiments:  40%|████      | 40/100 [08:54<12:46, 12.78s/it]"
     ]
    },
    {
     "name": "stderr",
     "output_type": "stream",
     "text": [
      "\r",
      "running experiments:  41%|████      | 41/100 [09:09<13:10, 13.39s/it]"
     ]
    },
    {
     "name": "stderr",
     "output_type": "stream",
     "text": [
      "\r",
      "running experiments:  42%|████▏     | 42/100 [09:23<13:12, 13.66s/it]"
     ]
    },
    {
     "name": "stderr",
     "output_type": "stream",
     "text": [
      "\r",
      "running experiments:  43%|████▎     | 43/100 [09:35<12:36, 13.26s/it]"
     ]
    },
    {
     "name": "stderr",
     "output_type": "stream",
     "text": [
      "\r",
      "running experiments:  44%|████▍     | 44/100 [09:50<12:47, 13.70s/it]"
     ]
    },
    {
     "name": "stderr",
     "output_type": "stream",
     "text": [
      "\r",
      "running experiments:  45%|████▌     | 45/100 [10:04<12:35, 13.74s/it]"
     ]
    },
    {
     "name": "stderr",
     "output_type": "stream",
     "text": [
      "\r",
      "running experiments:  46%|████▌     | 46/100 [10:16<11:54, 13.24s/it]"
     ]
    },
    {
     "name": "stderr",
     "output_type": "stream",
     "text": [
      "\r",
      "running experiments:  47%|████▋     | 47/100 [10:27<11:11, 12.68s/it]"
     ]
    },
    {
     "name": "stderr",
     "output_type": "stream",
     "text": [
      "\r",
      "running experiments:  48%|████▊     | 48/100 [10:41<11:19, 13.06s/it]"
     ]
    },
    {
     "name": "stderr",
     "output_type": "stream",
     "text": [
      "\r",
      "running experiments:  49%|████▉     | 49/100 [10:55<11:11, 13.17s/it]"
     ]
    },
    {
     "name": "stderr",
     "output_type": "stream",
     "text": [
      "\r",
      "running experiments:  50%|█████     | 50/100 [11:07<10:43, 12.86s/it]"
     ]
    },
    {
     "name": "stderr",
     "output_type": "stream",
     "text": [
      "\r",
      "running experiments:  51%|█████     | 51/100 [11:19<10:22, 12.70s/it]"
     ]
    },
    {
     "name": "stderr",
     "output_type": "stream",
     "text": [
      "\r",
      "running experiments:  52%|█████▏    | 52/100 [11:33<10:24, 13.00s/it]"
     ]
    },
    {
     "name": "stderr",
     "output_type": "stream",
     "text": [
      "\r",
      "running experiments:  53%|█████▎    | 53/100 [11:45<09:59, 12.75s/it]"
     ]
    },
    {
     "name": "stderr",
     "output_type": "stream",
     "text": [
      "\r",
      "running experiments:  54%|█████▍    | 54/100 [11:58<09:50, 12.83s/it]"
     ]
    },
    {
     "name": "stderr",
     "output_type": "stream",
     "text": [
      "\r",
      "running experiments:  55%|█████▌    | 55/100 [12:10<09:26, 12.58s/it]"
     ]
    },
    {
     "name": "stderr",
     "output_type": "stream",
     "text": [
      "\r",
      "running experiments:  56%|█████▌    | 56/100 [12:22<09:08, 12.46s/it]"
     ]
    },
    {
     "name": "stderr",
     "output_type": "stream",
     "text": [
      "\r",
      "running experiments:  57%|█████▋    | 57/100 [12:35<08:57, 12.51s/it]"
     ]
    },
    {
     "name": "stderr",
     "output_type": "stream",
     "text": [
      "\r",
      "running experiments:  58%|█████▊    | 58/100 [12:47<08:42, 12.44s/it]"
     ]
    },
    {
     "name": "stderr",
     "output_type": "stream",
     "text": [
      "\r",
      "running experiments:  59%|█████▉    | 59/100 [12:58<08:17, 12.14s/it]"
     ]
    },
    {
     "name": "stderr",
     "output_type": "stream",
     "text": [
      "\r",
      "running experiments:  60%|██████    | 60/100 [13:14<08:46, 13.15s/it]"
     ]
    },
    {
     "name": "stderr",
     "output_type": "stream",
     "text": [
      "\r",
      "running experiments:  61%|██████    | 61/100 [13:24<07:55, 12.20s/it]"
     ]
    },
    {
     "name": "stderr",
     "output_type": "stream",
     "text": [
      "\r",
      "running experiments:  62%|██████▏   | 62/100 [13:38<08:04, 12.75s/it]"
     ]
    },
    {
     "name": "stderr",
     "output_type": "stream",
     "text": [
      "\r",
      "running experiments:  63%|██████▎   | 63/100 [13:51<07:52, 12.78s/it]"
     ]
    },
    {
     "name": "stderr",
     "output_type": "stream",
     "text": [
      "\r",
      "running experiments:  64%|██████▍   | 64/100 [14:02<07:27, 12.44s/it]"
     ]
    },
    {
     "name": "stderr",
     "output_type": "stream",
     "text": [
      "\r",
      "running experiments:  65%|██████▌   | 65/100 [14:16<07:30, 12.87s/it]"
     ]
    },
    {
     "name": "stderr",
     "output_type": "stream",
     "text": [
      "\r",
      "running experiments:  66%|██████▌   | 66/100 [14:31<07:39, 13.52s/it]"
     ]
    },
    {
     "name": "stderr",
     "output_type": "stream",
     "text": [
      "\r",
      "running experiments:  67%|██████▋   | 67/100 [14:44<07:15, 13.19s/it]"
     ]
    },
    {
     "name": "stderr",
     "output_type": "stream",
     "text": [
      "\r",
      "running experiments:  68%|██████▊   | 68/100 [14:57<06:59, 13.10s/it]"
     ]
    },
    {
     "name": "stderr",
     "output_type": "stream",
     "text": [
      "\r",
      "running experiments:  69%|██████▉   | 69/100 [15:11<06:54, 13.36s/it]"
     ]
    },
    {
     "name": "stderr",
     "output_type": "stream",
     "text": [
      "\r",
      "running experiments:  70%|███████   | 70/100 [15:24<06:44, 13.48s/it]"
     ]
    },
    {
     "name": "stderr",
     "output_type": "stream",
     "text": [
      "\r",
      "running experiments:  71%|███████   | 71/100 [15:38<06:35, 13.63s/it]"
     ]
    },
    {
     "name": "stderr",
     "output_type": "stream",
     "text": [
      "\r",
      "running experiments:  72%|███████▏  | 72/100 [15:52<06:20, 13.60s/it]"
     ]
    },
    {
     "name": "stderr",
     "output_type": "stream",
     "text": [
      "\r",
      "running experiments:  73%|███████▎  | 73/100 [16:07<06:20, 14.09s/it]"
     ]
    },
    {
     "name": "stderr",
     "output_type": "stream",
     "text": [
      "\r",
      "running experiments:  74%|███████▍  | 74/100 [16:20<05:54, 13.64s/it]"
     ]
    },
    {
     "name": "stderr",
     "output_type": "stream",
     "text": [
      "\r",
      "running experiments:  75%|███████▌  | 75/100 [16:33<05:36, 13.45s/it]"
     ]
    },
    {
     "name": "stderr",
     "output_type": "stream",
     "text": [
      "\r",
      "running experiments:  76%|███████▌  | 76/100 [16:47<05:29, 13.73s/it]"
     ]
    },
    {
     "name": "stderr",
     "output_type": "stream",
     "text": [
      "\r",
      "running experiments:  77%|███████▋  | 77/100 [17:01<05:18, 13.87s/it]"
     ]
    },
    {
     "name": "stderr",
     "output_type": "stream",
     "text": [
      "\r",
      "running experiments:  78%|███████▊  | 78/100 [17:16<05:10, 14.10s/it]"
     ]
    },
    {
     "name": "stderr",
     "output_type": "stream",
     "text": [
      "\r",
      "running experiments:  79%|███████▉  | 79/100 [17:31<04:59, 14.28s/it]"
     ]
    },
    {
     "name": "stderr",
     "output_type": "stream",
     "text": [
      "\r",
      "running experiments:  80%|████████  | 80/100 [17:42<04:26, 13.35s/it]"
     ]
    },
    {
     "name": "stderr",
     "output_type": "stream",
     "text": [
      "\r",
      "running experiments:  81%|████████  | 81/100 [17:55<04:15, 13.43s/it]"
     ]
    },
    {
     "name": "stderr",
     "output_type": "stream",
     "text": [
      "\r",
      "running experiments:  82%|████████▏ | 82/100 [18:07<03:52, 12.92s/it]"
     ]
    },
    {
     "name": "stderr",
     "output_type": "stream",
     "text": [
      "\r",
      "running experiments:  83%|████████▎ | 83/100 [18:21<03:44, 13.21s/it]"
     ]
    },
    {
     "name": "stderr",
     "output_type": "stream",
     "text": [
      "\r",
      "running experiments:  84%|████████▍ | 84/100 [18:33<03:24, 12.81s/it]"
     ]
    },
    {
     "name": "stderr",
     "output_type": "stream",
     "text": [
      "\r",
      "running experiments:  85%|████████▌ | 85/100 [18:46<03:12, 12.81s/it]"
     ]
    },
    {
     "name": "stderr",
     "output_type": "stream",
     "text": [
      "\r",
      "running experiments:  86%|████████▌ | 86/100 [18:57<02:54, 12.44s/it]"
     ]
    },
    {
     "name": "stderr",
     "output_type": "stream",
     "text": [
      "\r",
      "running experiments:  87%|████████▋ | 87/100 [19:10<02:44, 12.65s/it]"
     ]
    },
    {
     "name": "stderr",
     "output_type": "stream",
     "text": [
      "\r",
      "running experiments:  88%|████████▊ | 88/100 [19:25<02:38, 13.18s/it]"
     ]
    },
    {
     "name": "stderr",
     "output_type": "stream",
     "text": [
      "\r",
      "running experiments:  89%|████████▉ | 89/100 [19:39<02:28, 13.49s/it]"
     ]
    },
    {
     "name": "stderr",
     "output_type": "stream",
     "text": [
      "\r",
      "running experiments:  90%|█████████ | 90/100 [19:51<02:11, 13.16s/it]"
     ]
    },
    {
     "name": "stderr",
     "output_type": "stream",
     "text": [
      "\r",
      "running experiments:  91%|█████████ | 91/100 [20:06<02:02, 13.58s/it]"
     ]
    },
    {
     "name": "stderr",
     "output_type": "stream",
     "text": [
      "\r",
      "running experiments:  92%|█████████▏| 92/100 [20:19<01:46, 13.36s/it]"
     ]
    },
    {
     "name": "stderr",
     "output_type": "stream",
     "text": [
      "\r",
      "running experiments:  93%|█████████▎| 93/100 [20:31<01:31, 13.04s/it]"
     ]
    },
    {
     "name": "stderr",
     "output_type": "stream",
     "text": [
      "\r",
      "running experiments:  94%|█████████▍| 94/100 [20:44<01:17, 12.91s/it]"
     ]
    },
    {
     "name": "stderr",
     "output_type": "stream",
     "text": [
      "\r",
      "running experiments:  95%|█████████▌| 95/100 [20:58<01:06, 13.31s/it]"
     ]
    },
    {
     "name": "stderr",
     "output_type": "stream",
     "text": [
      "\r",
      "running experiments:  96%|█████████▌| 96/100 [21:12<00:54, 13.62s/it]"
     ]
    },
    {
     "name": "stderr",
     "output_type": "stream",
     "text": [
      "\r",
      "running experiments:  97%|█████████▋| 97/100 [21:25<00:40, 13.45s/it]"
     ]
    },
    {
     "name": "stderr",
     "output_type": "stream",
     "text": [
      "\r",
      "running experiments:  98%|█████████▊| 98/100 [21:38<00:26, 13.13s/it]"
     ]
    },
    {
     "name": "stderr",
     "output_type": "stream",
     "text": [
      "\r",
      "running experiments:  99%|█████████▉| 99/100 [21:53<00:13, 13.72s/it]"
     ]
    },
    {
     "name": "stderr",
     "output_type": "stream",
     "text": [
      "\r",
      "running experiments: 100%|██████████| 100/100 [22:08<00:00, 14.23s/it]"
     ]
    },
    {
     "name": "stderr",
     "output_type": "stream",
     "text": [
      "\r",
      "running experiments: 100%|██████████| 100/100 [22:08<00:00, 13.29s/it]"
     ]
    },
    {
     "name": "stdout",
     "output_type": "stream",
     "text": [
      "CPU times: user 22min 6s, sys: 2.36 s, total: 22min 9s\n",
      "Wall time: 22min 8s\n"
     ]
    },
    {
     "name": "stderr",
     "output_type": "stream",
     "text": [
      "\n"
     ]
    },
    {
     "data": {
      "text/html": [
       "<div>\n",
       "<style scoped>\n",
       "    .dataframe tbody tr th:only-of-type {\n",
       "        vertical-align: middle;\n",
       "    }\n",
       "\n",
       "    .dataframe tbody tr th {\n",
       "        vertical-align: top;\n",
       "    }\n",
       "\n",
       "    .dataframe thead th {\n",
       "        text-align: right;\n",
       "    }\n",
       "</style>\n",
       "<table border=\"1\" class=\"dataframe\">\n",
       "  <thead>\n",
       "    <tr style=\"text-align: right;\">\n",
       "      <th></th>\n",
       "      <th>id</th>\n",
       "      <th>path</th>\n",
       "      <th>t1</th>\n",
       "      <th>t2</th>\n",
       "      <th>winding</th>\n",
       "      <th>phase</th>\n",
       "      <th>pred_phase</th>\n",
       "      <th>type_of</th>\n",
       "      <th>dft_feat0</th>\n",
       "      <th>dft_feat2</th>\n",
       "      <th>...</th>\n",
       "      <th>dft_feat80</th>\n",
       "      <th>dft_feat82</th>\n",
       "      <th>dft_feat84</th>\n",
       "      <th>dft_feat86</th>\n",
       "      <th>dft_feat88</th>\n",
       "      <th>dft_feat90</th>\n",
       "      <th>dft_feat92</th>\n",
       "      <th>dft_feat94</th>\n",
       "      <th>dft_feat96</th>\n",
       "      <th>dft_feat98</th>\n",
       "    </tr>\n",
       "  </thead>\n",
       "  <tbody>\n",
       "    <tr>\n",
       "      <th>0</th>\n",
       "      <td>0</td>\n",
       "      <td>H_-2_-2_0.509296.dat</td>\n",
       "      <td>-2.0</td>\n",
       "      <td>-2.0</td>\n",
       "      <td>0.509296</td>\n",
       "      <td>999</td>\n",
       "      <td>0</td>\n",
       "      <td>test</td>\n",
       "      <td>1.000000e+00</td>\n",
       "      <td>-2.748240e-17</td>\n",
       "      <td>...</td>\n",
       "      <td>-4.860889e-17</td>\n",
       "      <td>1.331255e-15</td>\n",
       "      <td>-4.111790e-16</td>\n",
       "      <td>4.111364e-16</td>\n",
       "      <td>1.039330e-16</td>\n",
       "      <td>3.471006e-15</td>\n",
       "      <td>2.047675e-16</td>\n",
       "      <td>-3.844537e-16</td>\n",
       "      <td>-2.997777e-16</td>\n",
       "      <td>-3.240190e-15</td>\n",
       "    </tr>\n",
       "    <tr>\n",
       "      <th>1</th>\n",
       "      <td>0</td>\n",
       "      <td>H_-2_-2_0.509296.dat</td>\n",
       "      <td>-2.0</td>\n",
       "      <td>-2.0</td>\n",
       "      <td>0.509296</td>\n",
       "      <td>999</td>\n",
       "      <td>0</td>\n",
       "      <td>test</td>\n",
       "      <td>-1.501280e-02</td>\n",
       "      <td>8.797818e-02</td>\n",
       "      <td>...</td>\n",
       "      <td>9.715600e-04</td>\n",
       "      <td>-3.186518e-02</td>\n",
       "      <td>-2.074804e-02</td>\n",
       "      <td>1.641318e-01</td>\n",
       "      <td>6.522465e-02</td>\n",
       "      <td>3.634951e-01</td>\n",
       "      <td>-8.541264e-03</td>\n",
       "      <td>-3.667320e-01</td>\n",
       "      <td>-3.733118e-01</td>\n",
       "      <td>-5.109743e-01</td>\n",
       "    </tr>\n",
       "    <tr>\n",
       "      <th>2</th>\n",
       "      <td>0</td>\n",
       "      <td>H_-2_-2_0.509296.dat</td>\n",
       "      <td>-2.0</td>\n",
       "      <td>-2.0</td>\n",
       "      <td>0.509296</td>\n",
       "      <td>999</td>\n",
       "      <td>0</td>\n",
       "      <td>test</td>\n",
       "      <td>5.638999e-18</td>\n",
       "      <td>7.070168e-01</td>\n",
       "      <td>...</td>\n",
       "      <td>3.675314e-07</td>\n",
       "      <td>1.909867e-07</td>\n",
       "      <td>1.616678e-07</td>\n",
       "      <td>-1.905211e-07</td>\n",
       "      <td>9.946420e-08</td>\n",
       "      <td>2.659482e-07</td>\n",
       "      <td>-1.183624e-07</td>\n",
       "      <td>-2.698937e-07</td>\n",
       "      <td>-2.460226e-08</td>\n",
       "      <td>7.070168e-01</td>\n",
       "    </tr>\n",
       "    <tr>\n",
       "      <th>3</th>\n",
       "      <td>0</td>\n",
       "      <td>H_-2_-2_0.509296.dat</td>\n",
       "      <td>-2.0</td>\n",
       "      <td>-2.0</td>\n",
       "      <td>0.509296</td>\n",
       "      <td>999</td>\n",
       "      <td>0</td>\n",
       "      <td>test</td>\n",
       "      <td>0.000000e+00</td>\n",
       "      <td>2.731785e-19</td>\n",
       "      <td>...</td>\n",
       "      <td>-3.275524e-16</td>\n",
       "      <td>-4.194279e-16</td>\n",
       "      <td>-9.753110e-16</td>\n",
       "      <td>7.529390e-17</td>\n",
       "      <td>-2.416240e-16</td>\n",
       "      <td>1.071537e-15</td>\n",
       "      <td>9.090676e-18</td>\n",
       "      <td>-4.899249e-16</td>\n",
       "      <td>1.802368e-17</td>\n",
       "      <td>-3.043126e-15</td>\n",
       "    </tr>\n",
       "    <tr>\n",
       "      <th>4</th>\n",
       "      <td>0</td>\n",
       "      <td>H_-2_-2_0.509296.dat</td>\n",
       "      <td>-2.0</td>\n",
       "      <td>-2.0</td>\n",
       "      <td>0.509296</td>\n",
       "      <td>999</td>\n",
       "      <td>0</td>\n",
       "      <td>test</td>\n",
       "      <td>-3.175811e-03</td>\n",
       "      <td>9.299672e-03</td>\n",
       "      <td>...</td>\n",
       "      <td>-1.525955e-01</td>\n",
       "      <td>-2.019219e-01</td>\n",
       "      <td>4.824288e-02</td>\n",
       "      <td>7.565587e-02</td>\n",
       "      <td>-4.006747e-01</td>\n",
       "      <td>-6.012630e-01</td>\n",
       "      <td>-4.093326e-02</td>\n",
       "      <td>-3.301114e-02</td>\n",
       "      <td>-1.838302e-01</td>\n",
       "      <td>-3.290850e-01</td>\n",
       "    </tr>\n",
       "    <tr>\n",
       "      <th>5</th>\n",
       "      <td>0</td>\n",
       "      <td>H_-2_-2_0.509296.dat</td>\n",
       "      <td>-2.0</td>\n",
       "      <td>-2.0</td>\n",
       "      <td>0.509296</td>\n",
       "      <td>999</td>\n",
       "      <td>1</td>\n",
       "      <td>test</td>\n",
       "      <td>-5.424784e-16</td>\n",
       "      <td>-4.819990e-01</td>\n",
       "      <td>...</td>\n",
       "      <td>2.126734e-06</td>\n",
       "      <td>1.227533e-07</td>\n",
       "      <td>1.118071e-06</td>\n",
       "      <td>3.322194e-09</td>\n",
       "      <td>-6.942407e-07</td>\n",
       "      <td>3.632896e-07</td>\n",
       "      <td>-1.960879e-07</td>\n",
       "      <td>5.984095e-07</td>\n",
       "      <td>1.044858e-06</td>\n",
       "      <td>-4.819990e-01</td>\n",
       "    </tr>\n",
       "    <tr>\n",
       "      <th>6</th>\n",
       "      <td>0</td>\n",
       "      <td>H_-2_-2_0.509296.dat</td>\n",
       "      <td>-2.0</td>\n",
       "      <td>-2.0</td>\n",
       "      <td>0.509296</td>\n",
       "      <td>999</td>\n",
       "      <td>1</td>\n",
       "      <td>test</td>\n",
       "      <td>-1.675101e-03</td>\n",
       "      <td>4.176368e-04</td>\n",
       "      <td>...</td>\n",
       "      <td>-2.110286e-02</td>\n",
       "      <td>1.133061e-01</td>\n",
       "      <td>1.349916e-01</td>\n",
       "      <td>2.556210e-01</td>\n",
       "      <td>1.690596e-02</td>\n",
       "      <td>-1.005529e-01</td>\n",
       "      <td>1.016929e-01</td>\n",
       "      <td>3.232223e-01</td>\n",
       "      <td>6.503551e-01</td>\n",
       "      <td>-4.333101e-01</td>\n",
       "    </tr>\n",
       "    <tr>\n",
       "      <th>7</th>\n",
       "      <td>0</td>\n",
       "      <td>H_-2_-2_0.509296.dat</td>\n",
       "      <td>-2.0</td>\n",
       "      <td>-2.0</td>\n",
       "      <td>0.509296</td>\n",
       "      <td>999</td>\n",
       "      <td>1</td>\n",
       "      <td>test</td>\n",
       "      <td>5.125212e-04</td>\n",
       "      <td>4.476302e-02</td>\n",
       "      <td>...</td>\n",
       "      <td>-2.734124e-02</td>\n",
       "      <td>8.229224e-02</td>\n",
       "      <td>-1.274866e-01</td>\n",
       "      <td>-1.200768e-01</td>\n",
       "      <td>1.382237e-01</td>\n",
       "      <td>4.661401e-01</td>\n",
       "      <td>8.824079e-02</td>\n",
       "      <td>-5.617760e-02</td>\n",
       "      <td>2.132665e-01</td>\n",
       "      <td>-5.518424e-01</td>\n",
       "    </tr>\n",
       "    <tr>\n",
       "      <th>8</th>\n",
       "      <td>0</td>\n",
       "      <td>H_-2_-2_0.509296.dat</td>\n",
       "      <td>-2.0</td>\n",
       "      <td>-2.0</td>\n",
       "      <td>0.509296</td>\n",
       "      <td>999</td>\n",
       "      <td>0</td>\n",
       "      <td>test</td>\n",
       "      <td>-4.262980e-07</td>\n",
       "      <td>-3.592042e-08</td>\n",
       "      <td>...</td>\n",
       "      <td>1.554901e-08</td>\n",
       "      <td>7.534569e-07</td>\n",
       "      <td>3.677925e-07</td>\n",
       "      <td>4.485204e-07</td>\n",
       "      <td>-3.648226e-09</td>\n",
       "      <td>9.102550e-08</td>\n",
       "      <td>3.278109e-07</td>\n",
       "      <td>-6.556495e-08</td>\n",
       "      <td>7.054689e-01</td>\n",
       "      <td>-3.592041e-08</td>\n",
       "    </tr>\n",
       "    <tr>\n",
       "      <th>9</th>\n",
       "      <td>0</td>\n",
       "      <td>H_-2_-2_0.509296.dat</td>\n",
       "      <td>-2.0</td>\n",
       "      <td>-2.0</td>\n",
       "      <td>0.509296</td>\n",
       "      <td>999</td>\n",
       "      <td>1</td>\n",
       "      <td>test</td>\n",
       "      <td>1.154723e-06</td>\n",
       "      <td>-4.551538e-08</td>\n",
       "      <td>...</td>\n",
       "      <td>-4.211795e-08</td>\n",
       "      <td>1.023328e-07</td>\n",
       "      <td>-6.802312e-07</td>\n",
       "      <td>-7.895115e-07</td>\n",
       "      <td>-9.759367e-07</td>\n",
       "      <td>2.465628e-07</td>\n",
       "      <td>7.701200e-07</td>\n",
       "      <td>-3.817887e-08</td>\n",
       "      <td>5.093095e-01</td>\n",
       "      <td>-4.551538e-08</td>\n",
       "    </tr>\n",
       "  </tbody>\n",
       "</table>\n",
       "<p>10 rows × 58 columns</p>\n",
       "</div>"
      ],
      "text/plain": [
       "   id                  path   t1   t2   winding  phase  pred_phase type_of  \\\n",
       "0   0  H_-2_-2_0.509296.dat -2.0 -2.0  0.509296    999           0    test   \n",
       "1   0  H_-2_-2_0.509296.dat -2.0 -2.0  0.509296    999           0    test   \n",
       "2   0  H_-2_-2_0.509296.dat -2.0 -2.0  0.509296    999           0    test   \n",
       "3   0  H_-2_-2_0.509296.dat -2.0 -2.0  0.509296    999           0    test   \n",
       "4   0  H_-2_-2_0.509296.dat -2.0 -2.0  0.509296    999           0    test   \n",
       "5   0  H_-2_-2_0.509296.dat -2.0 -2.0  0.509296    999           1    test   \n",
       "6   0  H_-2_-2_0.509296.dat -2.0 -2.0  0.509296    999           1    test   \n",
       "7   0  H_-2_-2_0.509296.dat -2.0 -2.0  0.509296    999           1    test   \n",
       "8   0  H_-2_-2_0.509296.dat -2.0 -2.0  0.509296    999           0    test   \n",
       "9   0  H_-2_-2_0.509296.dat -2.0 -2.0  0.509296    999           1    test   \n",
       "\n",
       "      dft_feat0     dft_feat2  ...    dft_feat80    dft_feat82    dft_feat84  \\\n",
       "0  1.000000e+00 -2.748240e-17  ... -4.860889e-17  1.331255e-15 -4.111790e-16   \n",
       "1 -1.501280e-02  8.797818e-02  ...  9.715600e-04 -3.186518e-02 -2.074804e-02   \n",
       "2  5.638999e-18  7.070168e-01  ...  3.675314e-07  1.909867e-07  1.616678e-07   \n",
       "3  0.000000e+00  2.731785e-19  ... -3.275524e-16 -4.194279e-16 -9.753110e-16   \n",
       "4 -3.175811e-03  9.299672e-03  ... -1.525955e-01 -2.019219e-01  4.824288e-02   \n",
       "5 -5.424784e-16 -4.819990e-01  ...  2.126734e-06  1.227533e-07  1.118071e-06   \n",
       "6 -1.675101e-03  4.176368e-04  ... -2.110286e-02  1.133061e-01  1.349916e-01   \n",
       "7  5.125212e-04  4.476302e-02  ... -2.734124e-02  8.229224e-02 -1.274866e-01   \n",
       "8 -4.262980e-07 -3.592042e-08  ...  1.554901e-08  7.534569e-07  3.677925e-07   \n",
       "9  1.154723e-06 -4.551538e-08  ... -4.211795e-08  1.023328e-07 -6.802312e-07   \n",
       "\n",
       "     dft_feat86    dft_feat88    dft_feat90    dft_feat92    dft_feat94  \\\n",
       "0  4.111364e-16  1.039330e-16  3.471006e-15  2.047675e-16 -3.844537e-16   \n",
       "1  1.641318e-01  6.522465e-02  3.634951e-01 -8.541264e-03 -3.667320e-01   \n",
       "2 -1.905211e-07  9.946420e-08  2.659482e-07 -1.183624e-07 -2.698937e-07   \n",
       "3  7.529390e-17 -2.416240e-16  1.071537e-15  9.090676e-18 -4.899249e-16   \n",
       "4  7.565587e-02 -4.006747e-01 -6.012630e-01 -4.093326e-02 -3.301114e-02   \n",
       "5  3.322194e-09 -6.942407e-07  3.632896e-07 -1.960879e-07  5.984095e-07   \n",
       "6  2.556210e-01  1.690596e-02 -1.005529e-01  1.016929e-01  3.232223e-01   \n",
       "7 -1.200768e-01  1.382237e-01  4.661401e-01  8.824079e-02 -5.617760e-02   \n",
       "8  4.485204e-07 -3.648226e-09  9.102550e-08  3.278109e-07 -6.556495e-08   \n",
       "9 -7.895115e-07 -9.759367e-07  2.465628e-07  7.701200e-07 -3.817887e-08   \n",
       "\n",
       "     dft_feat96    dft_feat98  \n",
       "0 -2.997777e-16 -3.240190e-15  \n",
       "1 -3.733118e-01 -5.109743e-01  \n",
       "2 -2.460226e-08  7.070168e-01  \n",
       "3  1.802368e-17 -3.043126e-15  \n",
       "4 -1.838302e-01 -3.290850e-01  \n",
       "5  1.044858e-06 -4.819990e-01  \n",
       "6  6.503551e-01 -4.333101e-01  \n",
       "7  2.132665e-01 -5.518424e-01  \n",
       "8  7.054689e-01 -3.592041e-08  \n",
       "9  5.093095e-01 -4.551538e-08  \n",
       "\n",
       "[10 rows x 58 columns]"
      ]
     },
     "execution_count": 23,
     "metadata": {},
     "output_type": "execute_result"
    }
   ],
   "source": [
    "%%time\n",
    "simulation.run_simulation(n_experiments, start_n, fit_params,mode, shuffle_rows, pred_params, random_features, \\\n",
    "                          store_in_lists, save_eigenvector, save_hamiltonian, save_accuracy,\\\n",
    "                          save_models)\n",
    "\n",
    "simulation.fourier_engineered_dataframe.head(10)"
   ]
  },
  {
   "cell_type": "code",
   "execution_count": 24,
   "metadata": {
    "execution": {
     "iopub.execute_input": "2020-07-08T02:37:36.501428Z",
     "iopub.status.busy": "2020-07-08T02:37:36.501125Z",
     "iopub.status.idle": "2020-07-08T02:37:36.525204Z",
     "shell.execute_reply": "2020-07-08T02:37:36.524883Z"
    },
    "papermill": {
     "duration": 0.059804,
     "end_time": "2020-07-08T02:37:36.525255",
     "exception": false,
     "start_time": "2020-07-08T02:37:36.465451",
     "status": "completed"
    },
    "tags": []
   },
   "outputs": [
    {
     "data": {
      "text/html": [
       "<div>\n",
       "<style scoped>\n",
       "    .dataframe tbody tr th:only-of-type {\n",
       "        vertical-align: middle;\n",
       "    }\n",
       "\n",
       "    .dataframe tbody tr th {\n",
       "        vertical-align: top;\n",
       "    }\n",
       "\n",
       "    .dataframe thead th {\n",
       "        text-align: right;\n",
       "    }\n",
       "</style>\n",
       "<table border=\"1\" class=\"dataframe\">\n",
       "  <thead>\n",
       "    <tr style=\"text-align: right;\">\n",
       "      <th></th>\n",
       "      <th>id</th>\n",
       "      <th>path</th>\n",
       "      <th>t1</th>\n",
       "      <th>t2</th>\n",
       "      <th>winding</th>\n",
       "      <th>phase</th>\n",
       "      <th>pred_phase</th>\n",
       "      <th>type_of</th>\n",
       "      <th>feat0</th>\n",
       "      <th>feat1</th>\n",
       "      <th>...</th>\n",
       "      <th>feat90</th>\n",
       "      <th>feat91</th>\n",
       "      <th>feat92</th>\n",
       "      <th>feat93</th>\n",
       "      <th>feat94</th>\n",
       "      <th>feat95</th>\n",
       "      <th>feat96</th>\n",
       "      <th>feat97</th>\n",
       "      <th>feat98</th>\n",
       "      <th>feat99</th>\n",
       "    </tr>\n",
       "  </thead>\n",
       "  <tbody>\n",
       "    <tr>\n",
       "      <th>0</th>\n",
       "      <td>0</td>\n",
       "      <td>H_-2_-2_0.509296.dat</td>\n",
       "      <td>-2.0</td>\n",
       "      <td>-2.0</td>\n",
       "      <td>0.509296</td>\n",
       "      <td>999</td>\n",
       "      <td>666</td>\n",
       "      <td>test</td>\n",
       "      <td>0.100000</td>\n",
       "      <td>0.100000</td>\n",
       "      <td>...</td>\n",
       "      <td>0.100000</td>\n",
       "      <td>0.100000</td>\n",
       "      <td>0.100000</td>\n",
       "      <td>0.100000</td>\n",
       "      <td>0.100000</td>\n",
       "      <td>0.100000</td>\n",
       "      <td>0.100000</td>\n",
       "      <td>0.100000</td>\n",
       "      <td>0.100000</td>\n",
       "      <td>0.100000</td>\n",
       "    </tr>\n",
       "    <tr>\n",
       "      <th>1</th>\n",
       "      <td>0</td>\n",
       "      <td>H_-2_-2_0.509296.dat</td>\n",
       "      <td>-2.0</td>\n",
       "      <td>-2.0</td>\n",
       "      <td>0.509296</td>\n",
       "      <td>999</td>\n",
       "      <td>666</td>\n",
       "      <td>test</td>\n",
       "      <td>0.141421</td>\n",
       "      <td>0.141142</td>\n",
       "      <td>...</td>\n",
       "      <td>0.114412</td>\n",
       "      <td>0.108967</td>\n",
       "      <td>0.123928</td>\n",
       "      <td>0.119406</td>\n",
       "      <td>0.131490</td>\n",
       "      <td>0.127962</td>\n",
       "      <td>0.136978</td>\n",
       "      <td>0.134500</td>\n",
       "      <td>0.140306</td>\n",
       "      <td>0.138916</td>\n",
       "    </tr>\n",
       "    <tr>\n",
       "      <th>2</th>\n",
       "      <td>0</td>\n",
       "      <td>H_-2_-2_0.509296.dat</td>\n",
       "      <td>-2.0</td>\n",
       "      <td>-2.0</td>\n",
       "      <td>0.509296</td>\n",
       "      <td>999</td>\n",
       "      <td>666</td>\n",
       "      <td>test</td>\n",
       "      <td>0.141421</td>\n",
       "      <td>0.140306</td>\n",
       "      <td>...</td>\n",
       "      <td>0.043702</td>\n",
       "      <td>0.026500</td>\n",
       "      <td>0.075777</td>\n",
       "      <td>0.060214</td>\n",
       "      <td>0.103092</td>\n",
       "      <td>0.090145</td>\n",
       "      <td>0.123928</td>\n",
       "      <td>0.114412</td>\n",
       "      <td>0.136978</td>\n",
       "      <td>0.131490</td>\n",
       "    </tr>\n",
       "    <tr>\n",
       "      <th>3</th>\n",
       "      <td>0</td>\n",
       "      <td>H_-2_-2_0.509296.dat</td>\n",
       "      <td>-2.0</td>\n",
       "      <td>-2.0</td>\n",
       "      <td>0.509296</td>\n",
       "      <td>999</td>\n",
       "      <td>666</td>\n",
       "      <td>test</td>\n",
       "      <td>-0.100000</td>\n",
       "      <td>0.100000</td>\n",
       "      <td>...</td>\n",
       "      <td>-0.100000</td>\n",
       "      <td>0.100000</td>\n",
       "      <td>-0.100000</td>\n",
       "      <td>0.100000</td>\n",
       "      <td>-0.100000</td>\n",
       "      <td>0.100000</td>\n",
       "      <td>-0.100000</td>\n",
       "      <td>0.100000</td>\n",
       "      <td>-0.100000</td>\n",
       "      <td>0.100000</td>\n",
       "    </tr>\n",
       "    <tr>\n",
       "      <th>4</th>\n",
       "      <td>0</td>\n",
       "      <td>H_-2_-2_0.509296.dat</td>\n",
       "      <td>-2.0</td>\n",
       "      <td>-2.0</td>\n",
       "      <td>0.509296</td>\n",
       "      <td>999</td>\n",
       "      <td>666</td>\n",
       "      <td>test</td>\n",
       "      <td>0.000509</td>\n",
       "      <td>-0.008372</td>\n",
       "      <td>...</td>\n",
       "      <td>-0.082713</td>\n",
       "      <td>-0.089753</td>\n",
       "      <td>-0.067684</td>\n",
       "      <td>-0.075347</td>\n",
       "      <td>-0.051587</td>\n",
       "      <td>-0.059753</td>\n",
       "      <td>-0.034677</td>\n",
       "      <td>-0.043217</td>\n",
       "      <td>-0.017220</td>\n",
       "      <td>-0.026000</td>\n",
       "    </tr>\n",
       "    <tr>\n",
       "      <th>5</th>\n",
       "      <td>0</td>\n",
       "      <td>H_-2_-2_0.509296.dat</td>\n",
       "      <td>-2.0</td>\n",
       "      <td>-2.0</td>\n",
       "      <td>0.509296</td>\n",
       "      <td>999</td>\n",
       "      <td>666</td>\n",
       "      <td>test</td>\n",
       "      <td>0.001204</td>\n",
       "      <td>-0.016530</td>\n",
       "      <td>...</td>\n",
       "      <td>-0.134123</td>\n",
       "      <td>-0.138686</td>\n",
       "      <td>-0.118757</td>\n",
       "      <td>-0.127445</td>\n",
       "      <td>-0.095929</td>\n",
       "      <td>-0.108196</td>\n",
       "      <td>-0.067073</td>\n",
       "      <td>-0.082149</td>\n",
       "      <td>-0.034003</td>\n",
       "      <td>-0.050940</td>\n",
       "    </tr>\n",
       "    <tr>\n",
       "      <th>6</th>\n",
       "      <td>0</td>\n",
       "      <td>H_-2_-2_0.509296.dat</td>\n",
       "      <td>-2.0</td>\n",
       "      <td>-2.0</td>\n",
       "      <td>0.509296</td>\n",
       "      <td>999</td>\n",
       "      <td>666</td>\n",
       "      <td>test</td>\n",
       "      <td>-0.141421</td>\n",
       "      <td>-0.138980</td>\n",
       "      <td>...</td>\n",
       "      <td>0.043375</td>\n",
       "      <td>0.067830</td>\n",
       "      <td>-0.009222</td>\n",
       "      <td>0.017385</td>\n",
       "      <td>-0.060524</td>\n",
       "      <td>-0.035502</td>\n",
       "      <td>-0.103326</td>\n",
       "      <td>-0.083403</td>\n",
       "      <td>-0.131616</td>\n",
       "      <td>-0.119589</td>\n",
       "    </tr>\n",
       "    <tr>\n",
       "      <th>7</th>\n",
       "      <td>0</td>\n",
       "      <td>H_-2_-2_0.509296.dat</td>\n",
       "      <td>-2.0</td>\n",
       "      <td>-2.0</td>\n",
       "      <td>0.509296</td>\n",
       "      <td>999</td>\n",
       "      <td>666</td>\n",
       "      <td>test</td>\n",
       "      <td>-0.000826</td>\n",
       "      <td>0.025688</td>\n",
       "      <td>...</td>\n",
       "      <td>0.134753</td>\n",
       "      <td>0.124324</td>\n",
       "      <td>0.141088</td>\n",
       "      <td>0.140407</td>\n",
       "      <td>0.127608</td>\n",
       "      <td>0.136771</td>\n",
       "      <td>0.096206</td>\n",
       "      <td>0.113925</td>\n",
       "      <td>0.051292</td>\n",
       "      <td>0.075079</td>\n",
       "    </tr>\n",
       "    <tr>\n",
       "      <th>8</th>\n",
       "      <td>0</td>\n",
       "      <td>H_-2_-2_0.509296.dat</td>\n",
       "      <td>-2.0</td>\n",
       "      <td>-2.0</td>\n",
       "      <td>0.509296</td>\n",
       "      <td>999</td>\n",
       "      <td>666</td>\n",
       "      <td>test</td>\n",
       "      <td>0.141417</td>\n",
       "      <td>0.136684</td>\n",
       "      <td>...</td>\n",
       "      <td>-0.115093</td>\n",
       "      <td>-0.131915</td>\n",
       "      <td>-0.061266</td>\n",
       "      <td>-0.091040</td>\n",
       "      <td>0.007717</td>\n",
       "      <td>-0.027643</td>\n",
       "      <td>0.074791</td>\n",
       "      <td>0.042592</td>\n",
       "      <td>0.123363</td>\n",
       "      <td>0.102291</td>\n",
       "    </tr>\n",
       "    <tr>\n",
       "      <th>9</th>\n",
       "      <td>0</td>\n",
       "      <td>H_-2_-2_0.509296.dat</td>\n",
       "      <td>-2.0</td>\n",
       "      <td>-2.0</td>\n",
       "      <td>0.509296</td>\n",
       "      <td>999</td>\n",
       "      <td>666</td>\n",
       "      <td>test</td>\n",
       "      <td>0.001302</td>\n",
       "      <td>0.036430</td>\n",
       "      <td>...</td>\n",
       "      <td>0.082068</td>\n",
       "      <td>0.050848</td>\n",
       "      <td>0.127402</td>\n",
       "      <td>0.108132</td>\n",
       "      <td>0.141218</td>\n",
       "      <td>0.138667</td>\n",
       "      <td>0.120099</td>\n",
       "      <td>0.134896</td>\n",
       "      <td>0.069268</td>\n",
       "      <td>0.097755</td>\n",
       "    </tr>\n",
       "  </tbody>\n",
       "</table>\n",
       "<p>10 rows × 108 columns</p>\n",
       "</div>"
      ],
      "text/plain": [
       "   id                  path   t1   t2   winding  phase  pred_phase type_of  \\\n",
       "0   0  H_-2_-2_0.509296.dat -2.0 -2.0  0.509296    999         666    test   \n",
       "1   0  H_-2_-2_0.509296.dat -2.0 -2.0  0.509296    999         666    test   \n",
       "2   0  H_-2_-2_0.509296.dat -2.0 -2.0  0.509296    999         666    test   \n",
       "3   0  H_-2_-2_0.509296.dat -2.0 -2.0  0.509296    999         666    test   \n",
       "4   0  H_-2_-2_0.509296.dat -2.0 -2.0  0.509296    999         666    test   \n",
       "5   0  H_-2_-2_0.509296.dat -2.0 -2.0  0.509296    999         666    test   \n",
       "6   0  H_-2_-2_0.509296.dat -2.0 -2.0  0.509296    999         666    test   \n",
       "7   0  H_-2_-2_0.509296.dat -2.0 -2.0  0.509296    999         666    test   \n",
       "8   0  H_-2_-2_0.509296.dat -2.0 -2.0  0.509296    999         666    test   \n",
       "9   0  H_-2_-2_0.509296.dat -2.0 -2.0  0.509296    999         666    test   \n",
       "\n",
       "      feat0     feat1  ...    feat90    feat91    feat92    feat93    feat94  \\\n",
       "0  0.100000  0.100000  ...  0.100000  0.100000  0.100000  0.100000  0.100000   \n",
       "1  0.141421  0.141142  ...  0.114412  0.108967  0.123928  0.119406  0.131490   \n",
       "2  0.141421  0.140306  ...  0.043702  0.026500  0.075777  0.060214  0.103092   \n",
       "3 -0.100000  0.100000  ... -0.100000  0.100000 -0.100000  0.100000 -0.100000   \n",
       "4  0.000509 -0.008372  ... -0.082713 -0.089753 -0.067684 -0.075347 -0.051587   \n",
       "5  0.001204 -0.016530  ... -0.134123 -0.138686 -0.118757 -0.127445 -0.095929   \n",
       "6 -0.141421 -0.138980  ...  0.043375  0.067830 -0.009222  0.017385 -0.060524   \n",
       "7 -0.000826  0.025688  ...  0.134753  0.124324  0.141088  0.140407  0.127608   \n",
       "8  0.141417  0.136684  ... -0.115093 -0.131915 -0.061266 -0.091040  0.007717   \n",
       "9  0.001302  0.036430  ...  0.082068  0.050848  0.127402  0.108132  0.141218   \n",
       "\n",
       "     feat95    feat96    feat97    feat98    feat99  \n",
       "0  0.100000  0.100000  0.100000  0.100000  0.100000  \n",
       "1  0.127962  0.136978  0.134500  0.140306  0.138916  \n",
       "2  0.090145  0.123928  0.114412  0.136978  0.131490  \n",
       "3  0.100000 -0.100000  0.100000 -0.100000  0.100000  \n",
       "4 -0.059753 -0.034677 -0.043217 -0.017220 -0.026000  \n",
       "5 -0.108196 -0.067073 -0.082149 -0.034003 -0.050940  \n",
       "6 -0.035502 -0.103326 -0.083403 -0.131616 -0.119589  \n",
       "7  0.136771  0.096206  0.113925  0.051292  0.075079  \n",
       "8 -0.027643  0.074791  0.042592  0.123363  0.102291  \n",
       "9  0.138667  0.120099  0.134896  0.069268  0.097755  \n",
       "\n",
       "[10 rows x 108 columns]"
      ]
     },
     "execution_count": 24,
     "metadata": {},
     "output_type": "execute_result"
    }
   ],
   "source": [
    "simulation.dataframe.head(10)"
   ]
  },
  {
   "cell_type": "markdown",
   "metadata": {
    "papermill": {
     "duration": 0.033842,
     "end_time": "2020-07-08T02:37:36.593159",
     "exception": false,
     "start_time": "2020-07-08T02:37:36.559317",
     "status": "completed"
    },
    "tags": []
   },
   "source": [
    "#### Viewing a random sample"
   ]
  },
  {
   "cell_type": "code",
   "execution_count": 25,
   "metadata": {
    "execution": {
     "iopub.execute_input": "2020-07-08T02:37:36.664691Z",
     "iopub.status.busy": "2020-07-08T02:37:36.664374Z",
     "iopub.status.idle": "2020-07-08T02:37:36.736166Z",
     "shell.execute_reply": "2020-07-08T02:37:36.735850Z"
    },
    "papermill": {
     "duration": 0.108147,
     "end_time": "2020-07-08T02:37:36.736217",
     "exception": false,
     "start_time": "2020-07-08T02:37:36.628070",
     "status": "completed"
    },
    "tags": []
   },
   "outputs": [
    {
     "name": "stdout",
     "output_type": "stream",
     "text": [
      "CPU times: user 34.4 ms, sys: 0 ns, total: 34.4 ms\n",
      "Wall time: 34.2 ms\n"
     ]
    },
    {
     "data": {
      "text/html": [
       "<div>\n",
       "<style scoped>\n",
       "    .dataframe tbody tr th:only-of-type {\n",
       "        vertical-align: middle;\n",
       "    }\n",
       "\n",
       "    .dataframe tbody tr th {\n",
       "        vertical-align: top;\n",
       "    }\n",
       "\n",
       "    .dataframe thead th {\n",
       "        text-align: right;\n",
       "    }\n",
       "</style>\n",
       "<table border=\"1\" class=\"dataframe\">\n",
       "  <thead>\n",
       "    <tr style=\"text-align: right;\">\n",
       "      <th></th>\n",
       "      <th>id</th>\n",
       "      <th>path</th>\n",
       "      <th>t1</th>\n",
       "      <th>t2</th>\n",
       "      <th>winding</th>\n",
       "      <th>phase</th>\n",
       "      <th>pred_phase</th>\n",
       "      <th>type_of</th>\n",
       "      <th>dft_feat0</th>\n",
       "      <th>dft_feat2</th>\n",
       "      <th>...</th>\n",
       "      <th>dft_feat80</th>\n",
       "      <th>dft_feat82</th>\n",
       "      <th>dft_feat84</th>\n",
       "      <th>dft_feat86</th>\n",
       "      <th>dft_feat88</th>\n",
       "      <th>dft_feat90</th>\n",
       "      <th>dft_feat92</th>\n",
       "      <th>dft_feat94</th>\n",
       "      <th>dft_feat96</th>\n",
       "      <th>dft_feat98</th>\n",
       "    </tr>\n",
       "  </thead>\n",
       "  <tbody>\n",
       "    <tr>\n",
       "      <th>613432</th>\n",
       "      <td>6134</td>\n",
       "      <td>H_1.75_0.95_-0.00316704.dat</td>\n",
       "      <td>1.75</td>\n",
       "      <td>0.95</td>\n",
       "      <td>-0.003167</td>\n",
       "      <td>0</td>\n",
       "      <td>0</td>\n",
       "      <td>train</td>\n",
       "      <td>-2.748921e-04</td>\n",
       "      <td>1.155228e-03</td>\n",
       "      <td>...</td>\n",
       "      <td>1.036785e-01</td>\n",
       "      <td>-2.875243e-03</td>\n",
       "      <td>7.870385e-02</td>\n",
       "      <td>1.749493e-01</td>\n",
       "      <td>-4.366454e-01</td>\n",
       "      <td>1.344344e-01</td>\n",
       "      <td>-3.793960e-01</td>\n",
       "      <td>2.806010e-01</td>\n",
       "      <td>-2.870947e-01</td>\n",
       "      <td>5.713787e-03</td>\n",
       "    </tr>\n",
       "    <tr>\n",
       "      <th>227065</th>\n",
       "      <td>2270</td>\n",
       "      <td>H_-0.6_-1.9_1.00391.dat</td>\n",
       "      <td>-0.60</td>\n",
       "      <td>-1.90</td>\n",
       "      <td>1.003910</td>\n",
       "      <td>1</td>\n",
       "      <td>1</td>\n",
       "      <td>val</td>\n",
       "      <td>9.042533e-04</td>\n",
       "      <td>2.822508e-03</td>\n",
       "      <td>...</td>\n",
       "      <td>-5.835400e-01</td>\n",
       "      <td>5.616159e-01</td>\n",
       "      <td>1.538251e-01</td>\n",
       "      <td>1.952401e-01</td>\n",
       "      <td>9.283370e-02</td>\n",
       "      <td>-3.028270e-01</td>\n",
       "      <td>9.250161e-02</td>\n",
       "      <td>-4.758147e-02</td>\n",
       "      <td>8.839586e-02</td>\n",
       "      <td>3.632667e-02</td>\n",
       "    </tr>\n",
       "    <tr>\n",
       "      <th>274595</th>\n",
       "      <td>2745</td>\n",
       "      <td>H_-0.35_1.6_1.0022.dat</td>\n",
       "      <td>-0.35</td>\n",
       "      <td>1.60</td>\n",
       "      <td>1.002196</td>\n",
       "      <td>1</td>\n",
       "      <td>0</td>\n",
       "      <td>val</td>\n",
       "      <td>-9.280021e-07</td>\n",
       "      <td>1.200459e-08</td>\n",
       "      <td>...</td>\n",
       "      <td>1.590155e-06</td>\n",
       "      <td>5.912158e-07</td>\n",
       "      <td>5.105236e-07</td>\n",
       "      <td>4.796535e-07</td>\n",
       "      <td>-5.051552e-01</td>\n",
       "      <td>6.073853e-07</td>\n",
       "      <td>-6.747309e-07</td>\n",
       "      <td>3.890335e-07</td>\n",
       "      <td>2.714339e-08</td>\n",
       "      <td>1.200459e-08</td>\n",
       "    </tr>\n",
       "    <tr>\n",
       "      <th>447157</th>\n",
       "      <td>4471</td>\n",
       "      <td>H_0.75_-1.2_1.00165.dat</td>\n",
       "      <td>0.75</td>\n",
       "      <td>-1.20</td>\n",
       "      <td>1.001647</td>\n",
       "      <td>1</td>\n",
       "      <td>1</td>\n",
       "      <td>val</td>\n",
       "      <td>2.284276e-07</td>\n",
       "      <td>1.089498e-01</td>\n",
       "      <td>...</td>\n",
       "      <td>7.058801e-08</td>\n",
       "      <td>-3.062353e-08</td>\n",
       "      <td>5.118639e-08</td>\n",
       "      <td>-1.105323e-07</td>\n",
       "      <td>-2.144959e-08</td>\n",
       "      <td>-1.848018e-07</td>\n",
       "      <td>-4.339415e-07</td>\n",
       "      <td>-3.400667e-07</td>\n",
       "      <td>2.038958e-07</td>\n",
       "      <td>1.089498e-01</td>\n",
       "    </tr>\n",
       "    <tr>\n",
       "      <th>255185</th>\n",
       "      <td>2551</td>\n",
       "      <td>H_-0.45_0_0.dat</td>\n",
       "      <td>-0.45</td>\n",
       "      <td>0.00</td>\n",
       "      <td>0.000000</td>\n",
       "      <td>0</td>\n",
       "      <td>0</td>\n",
       "      <td>val</td>\n",
       "      <td>2.828427e-01</td>\n",
       "      <td>-1.039159e-01</td>\n",
       "      <td>...</td>\n",
       "      <td>1.851230e-01</td>\n",
       "      <td>5.939013e-02</td>\n",
       "      <td>-2.459025e-01</td>\n",
       "      <td>1.232922e-01</td>\n",
       "      <td>1.676301e-01</td>\n",
       "      <td>-2.558336e-01</td>\n",
       "      <td>1.720188e-02</td>\n",
       "      <td>2.513906e-01</td>\n",
       "      <td>-2.045576e-01</td>\n",
       "      <td>-1.039159e-01</td>\n",
       "    </tr>\n",
       "    <tr>\n",
       "      <th>...</th>\n",
       "      <td>...</td>\n",
       "      <td>...</td>\n",
       "      <td>...</td>\n",
       "      <td>...</td>\n",
       "      <td>...</td>\n",
       "      <td>...</td>\n",
       "      <td>...</td>\n",
       "      <td>...</td>\n",
       "      <td>...</td>\n",
       "      <td>...</td>\n",
       "      <td>...</td>\n",
       "      <td>...</td>\n",
       "      <td>...</td>\n",
       "      <td>...</td>\n",
       "      <td>...</td>\n",
       "      <td>...</td>\n",
       "      <td>...</td>\n",
       "      <td>...</td>\n",
       "      <td>...</td>\n",
       "      <td>...</td>\n",
       "      <td>...</td>\n",
       "    </tr>\n",
       "    <tr>\n",
       "      <th>514146</th>\n",
       "      <td>5141</td>\n",
       "      <td>H_1.15_-0.1_0.000214015.dat</td>\n",
       "      <td>1.15</td>\n",
       "      <td>-0.10</td>\n",
       "      <td>0.000214</td>\n",
       "      <td>0</td>\n",
       "      <td>0</td>\n",
       "      <td>val</td>\n",
       "      <td>1.065878e-06</td>\n",
       "      <td>4.936277e-07</td>\n",
       "      <td>...</td>\n",
       "      <td>-4.650840e-07</td>\n",
       "      <td>-7.414577e-07</td>\n",
       "      <td>-5.055382e-01</td>\n",
       "      <td>-5.348364e-07</td>\n",
       "      <td>-2.029050e-07</td>\n",
       "      <td>-5.070207e-07</td>\n",
       "      <td>4.211090e-07</td>\n",
       "      <td>-3.656462e-07</td>\n",
       "      <td>-1.613893e-07</td>\n",
       "      <td>4.936277e-07</td>\n",
       "    </tr>\n",
       "    <tr>\n",
       "      <th>618967</th>\n",
       "      <td>6189</td>\n",
       "      <td>H_1.8_-0.35_0.000435538.dat</td>\n",
       "      <td>1.80</td>\n",
       "      <td>-0.35</td>\n",
       "      <td>0.000436</td>\n",
       "      <td>0</td>\n",
       "      <td>0</td>\n",
       "      <td>val</td>\n",
       "      <td>-1.672474e-03</td>\n",
       "      <td>-1.400092e-02</td>\n",
       "      <td>...</td>\n",
       "      <td>-5.368298e-02</td>\n",
       "      <td>-4.603213e-02</td>\n",
       "      <td>5.547507e-02</td>\n",
       "      <td>-2.392139e-01</td>\n",
       "      <td>-1.883584e-01</td>\n",
       "      <td>-2.497243e-01</td>\n",
       "      <td>7.270700e-01</td>\n",
       "      <td>1.412405e-01</td>\n",
       "      <td>1.688210e-01</td>\n",
       "      <td>8.894987e-02</td>\n",
       "    </tr>\n",
       "    <tr>\n",
       "      <th>132718</th>\n",
       "      <td>1327</td>\n",
       "      <td>H_-1.2_-0.45_-0.00160308.dat</td>\n",
       "      <td>-1.20</td>\n",
       "      <td>-0.45</td>\n",
       "      <td>-0.001603</td>\n",
       "      <td>0</td>\n",
       "      <td>0</td>\n",
       "      <td>val</td>\n",
       "      <td>2.500248e-04</td>\n",
       "      <td>9.481826e-03</td>\n",
       "      <td>...</td>\n",
       "      <td>1.382035e-01</td>\n",
       "      <td>8.798685e-02</td>\n",
       "      <td>1.655390e-02</td>\n",
       "      <td>-8.597614e-02</td>\n",
       "      <td>-5.685538e-02</td>\n",
       "      <td>3.314762e-01</td>\n",
       "      <td>-9.658989e-02</td>\n",
       "      <td>2.966102e-01</td>\n",
       "      <td>2.316289e-01</td>\n",
       "      <td>1.264008e-01</td>\n",
       "    </tr>\n",
       "    <tr>\n",
       "      <th>547602</th>\n",
       "      <td>5476</td>\n",
       "      <td>H_1.35_0.45_-0.00133622.dat</td>\n",
       "      <td>1.35</td>\n",
       "      <td>0.45</td>\n",
       "      <td>-0.001336</td>\n",
       "      <td>0</td>\n",
       "      <td>1</td>\n",
       "      <td>val</td>\n",
       "      <td>0.000000e+00</td>\n",
       "      <td>5.333396e-03</td>\n",
       "      <td>...</td>\n",
       "      <td>-1.732698e-01</td>\n",
       "      <td>-1.033638e-01</td>\n",
       "      <td>-2.572989e-01</td>\n",
       "      <td>8.270364e-02</td>\n",
       "      <td>-4.664708e-02</td>\n",
       "      <td>-1.214934e-01</td>\n",
       "      <td>2.390654e-01</td>\n",
       "      <td>1.536106e-02</td>\n",
       "      <td>-9.996968e-02</td>\n",
       "      <td>4.064396e-01</td>\n",
       "    </tr>\n",
       "    <tr>\n",
       "      <th>400838</th>\n",
       "      <td>4008</td>\n",
       "      <td>H_0.45_-0.05_0.000267525.dat</td>\n",
       "      <td>0.45</td>\n",
       "      <td>-0.05</td>\n",
       "      <td>0.000268</td>\n",
       "      <td>0</td>\n",
       "      <td>0</td>\n",
       "      <td>val</td>\n",
       "      <td>2.095438e-04</td>\n",
       "      <td>-6.168748e-04</td>\n",
       "      <td>...</td>\n",
       "      <td>-3.139553e-01</td>\n",
       "      <td>-1.735160e-01</td>\n",
       "      <td>1.148869e-01</td>\n",
       "      <td>3.186417e-02</td>\n",
       "      <td>4.472458e-02</td>\n",
       "      <td>1.039151e-01</td>\n",
       "      <td>-1.911287e-01</td>\n",
       "      <td>-5.015194e-01</td>\n",
       "      <td>1.713792e-01</td>\n",
       "      <td>3.250906e-02</td>\n",
       "    </tr>\n",
       "  </tbody>\n",
       "</table>\n",
       "<p>65610 rows × 58 columns</p>\n",
       "</div>"
      ],
      "text/plain": [
       "          id                          path    t1    t2   winding  phase  \\\n",
       "613432  6134   H_1.75_0.95_-0.00316704.dat  1.75  0.95 -0.003167      0   \n",
       "227065  2270       H_-0.6_-1.9_1.00391.dat -0.60 -1.90  1.003910      1   \n",
       "274595  2745        H_-0.35_1.6_1.0022.dat -0.35  1.60  1.002196      1   \n",
       "447157  4471       H_0.75_-1.2_1.00165.dat  0.75 -1.20  1.001647      1   \n",
       "255185  2551               H_-0.45_0_0.dat -0.45  0.00  0.000000      0   \n",
       "...      ...                           ...   ...   ...       ...    ...   \n",
       "514146  5141   H_1.15_-0.1_0.000214015.dat  1.15 -0.10  0.000214      0   \n",
       "618967  6189   H_1.8_-0.35_0.000435538.dat  1.80 -0.35  0.000436      0   \n",
       "132718  1327  H_-1.2_-0.45_-0.00160308.dat -1.20 -0.45 -0.001603      0   \n",
       "547602  5476   H_1.35_0.45_-0.00133622.dat  1.35  0.45 -0.001336      0   \n",
       "400838  4008  H_0.45_-0.05_0.000267525.dat  0.45 -0.05  0.000268      0   \n",
       "\n",
       "        pred_phase type_of     dft_feat0     dft_feat2  ...    dft_feat80  \\\n",
       "613432           0   train -2.748921e-04  1.155228e-03  ...  1.036785e-01   \n",
       "227065           1     val  9.042533e-04  2.822508e-03  ... -5.835400e-01   \n",
       "274595           0     val -9.280021e-07  1.200459e-08  ...  1.590155e-06   \n",
       "447157           1     val  2.284276e-07  1.089498e-01  ...  7.058801e-08   \n",
       "255185           0     val  2.828427e-01 -1.039159e-01  ...  1.851230e-01   \n",
       "...            ...     ...           ...           ...  ...           ...   \n",
       "514146           0     val  1.065878e-06  4.936277e-07  ... -4.650840e-07   \n",
       "618967           0     val -1.672474e-03 -1.400092e-02  ... -5.368298e-02   \n",
       "132718           0     val  2.500248e-04  9.481826e-03  ...  1.382035e-01   \n",
       "547602           1     val  0.000000e+00  5.333396e-03  ... -1.732698e-01   \n",
       "400838           0     val  2.095438e-04 -6.168748e-04  ... -3.139553e-01   \n",
       "\n",
       "          dft_feat82    dft_feat84    dft_feat86    dft_feat88    dft_feat90  \\\n",
       "613432 -2.875243e-03  7.870385e-02  1.749493e-01 -4.366454e-01  1.344344e-01   \n",
       "227065  5.616159e-01  1.538251e-01  1.952401e-01  9.283370e-02 -3.028270e-01   \n",
       "274595  5.912158e-07  5.105236e-07  4.796535e-07 -5.051552e-01  6.073853e-07   \n",
       "447157 -3.062353e-08  5.118639e-08 -1.105323e-07 -2.144959e-08 -1.848018e-07   \n",
       "255185  5.939013e-02 -2.459025e-01  1.232922e-01  1.676301e-01 -2.558336e-01   \n",
       "...              ...           ...           ...           ...           ...   \n",
       "514146 -7.414577e-07 -5.055382e-01 -5.348364e-07 -2.029050e-07 -5.070207e-07   \n",
       "618967 -4.603213e-02  5.547507e-02 -2.392139e-01 -1.883584e-01 -2.497243e-01   \n",
       "132718  8.798685e-02  1.655390e-02 -8.597614e-02 -5.685538e-02  3.314762e-01   \n",
       "547602 -1.033638e-01 -2.572989e-01  8.270364e-02 -4.664708e-02 -1.214934e-01   \n",
       "400838 -1.735160e-01  1.148869e-01  3.186417e-02  4.472458e-02  1.039151e-01   \n",
       "\n",
       "          dft_feat92    dft_feat94    dft_feat96    dft_feat98  \n",
       "613432 -3.793960e-01  2.806010e-01 -2.870947e-01  5.713787e-03  \n",
       "227065  9.250161e-02 -4.758147e-02  8.839586e-02  3.632667e-02  \n",
       "274595 -6.747309e-07  3.890335e-07  2.714339e-08  1.200459e-08  \n",
       "447157 -4.339415e-07 -3.400667e-07  2.038958e-07  1.089498e-01  \n",
       "255185  1.720188e-02  2.513906e-01 -2.045576e-01 -1.039159e-01  \n",
       "...              ...           ...           ...           ...  \n",
       "514146  4.211090e-07 -3.656462e-07 -1.613893e-07  4.936277e-07  \n",
       "618967  7.270700e-01  1.412405e-01  1.688210e-01  8.894987e-02  \n",
       "132718 -9.658989e-02  2.966102e-01  2.316289e-01  1.264008e-01  \n",
       "547602  2.390654e-01  1.536106e-02 -9.996968e-02  4.064396e-01  \n",
       "400838 -1.911287e-01 -5.015194e-01  1.713792e-01  3.250906e-02  \n",
       "\n",
       "[65610 rows x 58 columns]"
      ]
     },
     "execution_count": 25,
     "metadata": {},
     "output_type": "execute_result"
    }
   ],
   "source": [
    "%%time\n",
    "simulation.fourier_engineered_dataframe.sample(frac=0.1, replace=False)"
   ]
  },
  {
   "cell_type": "markdown",
   "metadata": {
    "papermill": {
     "duration": 0.03473,
     "end_time": "2020-07-08T02:37:36.806551",
     "exception": false,
     "start_time": "2020-07-08T02:37:36.771821",
     "status": "completed"
    },
    "tags": []
   },
   "source": [
    "#### Checking train/val/test splits again"
   ]
  },
  {
   "cell_type": "code",
   "execution_count": 26,
   "metadata": {
    "execution": {
     "iopub.execute_input": "2020-07-08T02:37:36.878851Z",
     "iopub.status.busy": "2020-07-08T02:37:36.878531Z",
     "iopub.status.idle": "2020-07-08T02:37:37.057908Z",
     "shell.execute_reply": "2020-07-08T02:37:37.057588Z"
    },
    "papermill": {
     "duration": 0.21565,
     "end_time": "2020-07-08T02:37:37.057958",
     "exception": false,
     "start_time": "2020-07-08T02:37:36.842308",
     "status": "completed"
    },
    "tags": []
   },
   "outputs": [
    {
     "name": "stdout",
     "output_type": "stream",
     "text": [
      "% train:  0.08474317939338516\n",
      "% val:  0.7620789513793629\n",
      "% test:  0.15317786922725193\n",
      "% train + val + test:  1.0\n",
      "\n",
      "\n",
      "number of train hamiltonians:  556\n",
      "number of val hamiltonians:  5000\n",
      "number of test hamiltonians:  1005\n",
      "total number of hamiltonians:  6561\n",
      "\n",
      "\n",
      "train ids:  [918, 3558, 117, 2388, 2280, 4776, 4405, 2361, 2726, 3967, 1988, 6192, 5473, 3560, 100, 5278, 3666, 2681, 3176, 5077, 4633, 5670, 1460, 4795, 6196, 5613, 2957, 4947, 1879, 1412, 1542, 4288, 3870, 2522, 1138, 94, 6243, 317, 4158, 4120, 3603, 1867, 1166, 282, 2533, 2365, 5047, 3941, 663, 2439, 2204, 4566, 3518, 835, 349, 4539, 4974, 17, 5887, 2084, 4565, 2385, 4748, 4954, 5883, 5686, 46, 6091, 4834, 2563, 3740, 2078, 2647, 2910, 6514, 3226, 4544, 6142, 4070, 2838, 3585, 1454, 6199, 3668, 2350, 6512, 5951, 1131, 528, 4552, 6217, 422, 2114, 4446, 4738, 5142, 6515, 2772, 5751, 4500, 4707, 5973, 5103, 6008, 1108, 2792, 3754, 5345, 1508, 2671, 6350, 126, 206, 5615, 2238, 2698, 4443, 4324, 2495, 3178, 2693, 57, 6342, 2300, 5071, 109, 4505, 1696, 1950, 5123, 6419, 4483, 3669, 2054, 4074, 134, 3418, 1113, 540, 4024, 2811, 2569, 2632, 6531, 5916, 1176, 3310, 4972, 221, 5277, 3372, 4459, 4072, 1749, 3845, 64, 3831, 2554, 5869, 6450, 612, 3064, 1527, 448, 3599, 47, 4653, 261, 5603, 2816, 2878, 71, 3841, 5535, 2682, 6124, 5187, 3001, 390, 2124, 4970, 3253, 3351, 3591, 3998, 3338, 5871, 2938, 2944, 6257, 5607, 4337, 2643, 3594, 1097, 4282, 4564, 1837, 1871, 6112, 2753, 6303, 1178, 2502, 2082, 5527, 4616, 4322, 2451, 1268, 2317, 1992, 2590, 4110, 1563, 1451, 2152, 3997, 2393, 5211, 4769, 4113, 2914, 3726, 3067, 5301, 1831, 2364, 3966, 5036, 3389, 2535, 24, 6121, 6134, 3959, 4899, 4711, 378, 2187, 3561, 4084, 2742, 694, 2154, 601, 297, 2088, 4413, 3436, 3683, 5777, 2610, 5570, 5722, 2042, 3154, 3564, 3551, 455, 803, 4558, 512, 3932, 3152, 4628, 6362, 2094, 2923, 379, 1673, 3546, 6431, 3298, 5190, 6029, 1346, 3746, 5283, 3086, 1407, 2271, 360, 5230, 3076, 3230, 450, 3579, 2915, 4537, 364, 779, 1865, 4038, 3385, 5482, 2760, 3687, 6384, 3793, 6327, 1289, 6516, 1215, 6410, 4893, 521, 189, 6287, 3201, 3715, 5454, 1012, 3962, 2436, 1053, 6413, 4966, 6118, 3496, 2983, 3815, 2607, 5979, 3121, 4270, 2188, 6244, 2678, 226, 2828, 547, 3961, 3265, 5859, 5955, 1022, 2908, 4548, 6498, 26, 3719, 888, 5945, 3134, 1408, 6330, 3031, 3508, 473, 5033, 358, 5275, 2559, 1931, 2259, 1686, 3738, 6519, 4662, 4814, 4457, 6255, 5079, 1295, 4666, 2367, 4600, 4810, 4010, 293, 2759, 3562, 3036, 2424, 4312, 6184, 3681, 3899, 4940, 4855, 1182, 1632, 5347, 1445, 224, 637, 6325, 2065, 5133, 4788, 3433, 3286, 3080, 3407, 3572, 4403, 1765, 3489, 3843, 2140, 1747, 4635, 2414, 52, 2620, 4276, 4750, 3307, 5850, 2897, 5298, 1021, 5358, 4493, 1494, 6445, 1584, 1776, 3193, 6036, 2196, 4328, 5814, 4550, 5228, 5456, 4902, 3737, 4885, 176, 6520, 2994, 590, 1705, 6339, 4406, 5844, 4238, 4295, 4857, 5019, 4610, 385, 1027, 4043, 3316, 1086, 4036, 971, 6466, 4382, 536, 1161, 3367, 966, 728, 4317, 6353, 5505, 5229, 3483, 2203, 5151, 5363, 5639, 1685, 3229, 2808, 382, 2999, 2473, 4004, 233, 6506, 4142, 6219, 5147, 6089, 4331, 2202, 3517, 2728, 4658, 2776, 4930, 2717, 212, 6371, 3024, 2396, 2506, 6263, 4883, 1762, 1414, 2455, 3480, 6509, 4386, 1037, 3788, 1286, 616, 6106, 116, 5035, 3145, 2801, 3273, 3414, 3495, 5766, 5769, 4124, 3255, 6444, 4339, 4860, 2148, 3220, 1102, 2497, 2973, 5693, 4567, 1137, 4475, 750, 1982, 2301, 6365, 4259, 3442, 4257, 6298, 2179, 2564, 5052, 5371, 3477, 2443, 965, 3511, 4654, 1534, 837, 1961, 369, 4126, 3777, 4061, 1185, 2096, 1703, 2712]\n",
      "val ids:  [1288, 4062, 2343, 3005, 2844, 1365, 5776, 3049, 2718, 2703, 2665, 1998, 1167, 2302, 2987, 5241, 4423, 2390, 6513, 2167, 4870, 1324, 1367, 2033, 1448, 5857, 3401, 1239, 5161, 465, 3330, 1436, 520, 4739, 2394, 4137, 4620, 3082, 1858, 5628, 3789, 5075, 3434, 3640, 2217, 3437, 5796, 3181, 1972, 2162, 4806, 6119, 1712, 3811, 4354, 1490, 3917, 4388, 2466, 2103, 5266, 2933, 3604, 4411, 1754, 3084, 2169, 1808, 2264, 1793, 4622, 6114, 3858, 467, 2676, 6456, 96, 6189, 4207, 1129, 1253, 2731, 2247, 1491, 2225, 5952, 6083, 41, 4491, 172, 4845, 1742, 778, 5547, 3693, 595, 2926, 368, 3236, 2695, 4202, 883, 2327, 4704, 690, 6486, 670, 1401, 1046, 3979, 889, 1856, 3124, 1169, 3873, 3394, 5517, 2220, 3879, 6246, 5382, 2850, 2405, 6451, 3013, 1160, 5778, 3097, 1130, 5037, 2099, 4376, 5546, 1947, 1746, 1430, 2855, 5484, 5110, 1211, 4118, 3848, 2796, 611, 1032, 6104, 5132, 1096, 4365, 5063, 1524, 5727, 4617, 2408, 3569, 1709, 6361, 3207, 937, 5140, 4529, 4722, 2222, 2141, 793, 260, 713, 2721, 667, 2887, 4488, 3665, 757, 3326, 6490, 2524, 5812, 2417, 5872, 306, 1581, 3783, 6358, 6254, 4908, 6059, 4117, 1792, 5528, 3194, 4073, 2432, 4146, 2291, 3694, 4112, 5027, 151, 1734, 2528, 4220, 6092, 948, 1077, 5432, 5236, 5792, 1450, 5197, 50, 775, 111, 6377, 4293, 6248, 2223, 5976, 1050, 1838, 6273, 5160, 3215, 4531, 457, 6492, 3699, 6212, 3635, 3054, 1820, 5078, 3954, 229, 1016, 3321, 1536, 6033, 4817, 2490, 2153, 832, 501, 1769, 972, 5794, 4391, 2066, 5468, 5192, 6340, 4335, 6517, 6204, 256, 2268, 2939, 1836, 2157, 873, 4467, 56, 3028, 3714, 182, 1654, 2233, 6171, 2916, 2312, 3191, 1815, 4034, 5403, 3779, 4576, 485, 1501, 5770, 2709, 3542, 307, 1979, 3004, 3464, 1345, 458, 5480, 2207, 3802, 5286, 2287, 2667, 1088, 4583, 2487, 1775, 2611, 3588, 3522, 2413, 3745, 5317, 6110, 1336, 3825, 1323, 6373, 6385, 2478, 2566, 2804, 4936, 2900, 2009, 2384, 1370, 3581, 1677, 5795, 991, 1962, 769, 5673, 4273, 1788, 1329, 5195, 3860, 4740, 4829, 1177, 2206, 3751, 2433, 5026, 5070, 179, 6019, 5485, 4851, 4568, 6117, 1729, 5605, 2155, 4766, 5996, 3167, 5630, 6286, 680, 3381, 5897, 2230, 3393, 3905, 1219, 3928, 359, 49, 5287, 2598, 1706, 5621, 5354, 5445, 363, 5950, 446, 5510, 4279, 2917, 4709, 5375, 5537, 2840, 387, 5675, 1783, 857, 2768, 3224, 4008, 932, 3099, 6511, 3258, 1317, 6214, 2725, 1911, 5273, 4982, 4402, 1994, 4786, 4905, 1133, 3881, 93, 1771, 102, 2889, 3616, 454, 2098, 4642, 5565, 6260, 726, 3098, 4130, 4441, 1245, 4894, 40, 460, 3606, 3332, 6329, 1302, 1695, 4828, 1459, 614, 763, 3514, 6077, 887, 605, 3677, 2947, 4030, 6038, 2646, 4636, 6494, 510, 1589, 1859, 2547, 3787, 1917, 4252, 128, 5962, 1565, 3744, 1708, 1208, 6507, 4699, 2477, 4209, 2645, 4323, 1630, 65, 5715, 2738, 2537, 5405, 4205, 5785, 3019, 4145, 4236, 362, 1989, 6042, 4463, 3643, 3596, 5288, 98, 2674, 593, 938, 108, 3343, 6549, 1338, 4007, 4543, 4763, 5269, 4793, 2469, 4624, 6418, 581, 1380, 5852, 2859, 2959, 5544, 5606, 3985, 2553, 3491, 759, 4767, 6115, 28, 6181, 949, 6468, 185, 255, 5526, 3322, 4958, 1298, 3177, 423, 5272, 5848, 6098, 2164, 91, 2873, 598, 2321, 1930, 5427, 3341, 5267, 3471, 1377, 285, 144, 2392, 5092, 524, 862, 3162, 5478, 2431, 4272, 4453, 2483, 4079, 2437, 3888, 5183, 3235, 5024, 4064, 4327, 4752, 2305, 6496, 154, 6025, 2464, 4536, 5295, 205, 2137, 4655, 6004, 3700, 2262, 4249, 5926, 2754, 4587, 5265, 6027, 4609, 4670, 1260, 619, 1533, 6054, 4872, 1052, 6140, 565, 5893, 3834, 470, 5374, 5472, 5860, 531, 1898, 5720, 3559, 1756, 3281, 6464, 201, 3454, 4625, 3256, 3661, 4054, 2803, 3312, 200, 370, 5476, 1845, 2389, 204, 4002, 2692, 1896, 2633, 6046, 3890, 3500, 4280, 2253, 6249, 5205, 1124, 4187, 355, 2604, 2591, 2121, 4069, 5138, 3242, 2037, 431, 4135, 1925, 2484, 4012, 5569, 789, 5677, 1702, 2687, 926, 3735, 6045, 790, 3601, 157, 2275, 5378, 4731, 3199, 2224, 5056, 833, 621, 1694, 5302, 6203, 4542, 129, 2371, 1432, 3807, 323, 6221, 5688, 1730, 2229, 5219, 5212, 392, 786, 1784, 6032, 5016, 1710, 2879, 947, 376, 5567, 219, 698, 6500, 5114, 607, 5833, 2853, 2711, 107, 855, 5561, 3720, 5443, 1812, 1664, 1357, 304, 1156, 3426, 1417, 231, 2274, 3241, 3461, 2929, 5511, 5773, 2494, 383, 1701, 4779, 4114, 3447, 2928, 302, 3127, 5699, 5781, 4466, 6103, 2805, 6357, 3107, 1906, 1850, 3044, 4233, 1595, 3007, 4637, 4812, 3386, 3557, 2572, 1098, 3626, 5611, 1425, 3363, 130, 1403, 4329, 4088, 4355, 2526, 1699, 6120, 5724, 1271, 4308, 6090, 3009, 4361, 1497, 3539, 3927, 4502, 5055, 3195, 4269, 3359, 3875, 1676, 589, 2946, 1697, 2743, 4049, 3607, 5868, 3232, 6223, 4029, 1937, 5112, 3866, 1507, 3863, 4774, 6528, 5425, 3534, 6333, 626, 2724, 4733, 1774, 2308, 3296, 5118, 5428, 4231, 6540, 1091, 2441, 2846, 4638, 752, 2881, 3119, 6258, 6432, 876, 2830, 147, 3331, 548, 33, 2945, 5434, 4971, 1172, 1330, 2115, 5072, 4631, 5970, 3637, 1666, 4773, 6381, 927, 3799, 1548, 2191, 1404, 2412, 4369, 666, 1020, 3490, 4524, 3366, 6012, 1667, 2594, 6301, 2997, 4613, 4078, 1165, 3664, 148, 6185, 4128, 3786, 4378, 5159, 3702, 309, 4546, 443, 2829, 1572, 6331, 5610, 1620, 1511, 6010, 4255, 3396, 149, 3901, 55, 1055, 4071, 2017, 2346, 609, 2489, 1550, 2244, 1926, 537, 1249, 5672, 566, 4868, 3094, 3000, 1526, 4804, 6374, 6097, 2061, 2184, 131, 75, 1816, 915, 223, 262, 2176, 4440, 313, 3092, 5144, 5204, 968, 2136, 118, 1094, 5853, 678, 4490, 436, 2422, 6537, 4044, 6277, 1945, 4307, 4284, 3486, 2018, 3262, 2514, 343, 608, 462, 483, 4715, 3038, 5346, 1974, 505, 4530, 310, 599, 3897, 6524, 2452, 5616, 869, 4387, 76, 4601, 5207, 6360, 2195, 6247, 1892, 1872, 5034, 1462, 54, 3172, 4991, 4424, 5622, 386, 1615, 4983, 2884, 6499, 3900, 347, 4821, 4943, 4742, 2072, 2163, 3250, 916, 1420, 4578, 4140, 3417, 4237, 3288, 1291, 3723, 5640, 391, 2866, 6094, 2538, 2508, 5632, 142, 1923, 6383, 5718, 1195, 4948, 2097, 4485, 1488, 1922, 2319, 6328, 5862, 1422, 3946, 1809, 5465, 6430, 998, 928, 3801, 1254, 4990, 5362, 4420, 5217, 1819, 5124, 6216, 3188, 4289, 5704, 1510, 5342, 2407, 4410, 717, 3218, 312, 1973, 6346, 3989, 4772, 5805, 6295, 2599, 6323, 643, 6262, 2351, 6009, 3217, 397, 45, 3327, 5392, 4401, 5726, 5508, 3146, 5025, 3624, 5198, 30, 2565, 5915, 1204, 5307, 2520, 2499, 23, 3398, 843, 591, 2419, 4471, 507, 6005, 2927, 4632, 2899, 5292, 4309, 2332, 3729, 4890, 6337, 1320, 3186, 119, 3356, 3409, 2763, 2601, 4325, 2015, 6182, 2972, 1503, 1109, 3543, 1832, 6256, 5539, 2186, 4173, 3166, 439, 5884, 6288, 5560, 6024, 156, 3340, 258, 6187, 1684, 4701, 3090, 4686, 6375, 4412, 6522, 2085, 2012, 6271, 1006, 4011, 2936, 6324, 2784, 288, 6545, 3111, 5650, 1482, 5531, 6547, 773, 4914, 1442, 305, 5803, 2120, 2921, 215, 4819, 2463, 6130, 1810, 4749, 4014, 4482, 1655, 2975, 993, 5011, 5626, 1828, 6157, 1421, 4470, 1811, 2752, 3406, 2182, 2444, 4540, 2773, 2090, 5395, 1072, 6127, 3808, 5593, 6139, 5943, 1745, 5268, 4399, 3529, 4077, 3285, 552, 461, 1764, 4164, 4665, 1606, 1174, 3912, 808, 4938, 1303, 4227, 4458, 4242, 6039, 3163, 2775, 2232, 4573, 6550, 1900, 3960, 1535, 5455, 2568, 3842, 3313, 3684, 3589, 5514, 3991, 1827, 1631, 6034, 5043, 2744, 3602, 2032, 5093, 5669, 3368, 3130, 3862, 4037, 426, 264, 3828, 5028, 1538, 5641, 970, 2002, 2650, 348, 2799, 199, 502, 3103, 5389, 3650, 2558, 1609, 1256, 2316, 6116, 3182, 4450, 299, 5320, 5590, 2747, 2892, 1262, 1437, 5545, 2608, 4850, 3660, 2516, 2353, 1351, 4794, 5967, 3628, 4275, 2221, 2616, 5934, 4374, 3244, 5353, 1659, 67, 352, 2700, 4693, 6018, 3909, 2771, 3171, 5486, 2428, 3583, 511, 868, 4364, 5101, 4915, 4203, 5126, 693, 2741, 4547, 2567, 5139, 1796, 3458, 6299, 3969, 6291, 4435, 1738, 4212, 4129, 6164, 374, 3984, 1674, 5104, 1202, 4685, 6406, 190, 2362, 917, 218, 2544, 475, 3614, 3452, 3035, 2730, 6347, 1381, 4253, 5712, 1117, 5398, 3297, 3101, 4141, 4245, 1711, 4820, 5716, 14, 113, 2629, 760, 2101, 4866, 3872, 388, 53, 3416, 2427, 5258, 3929, 2234, 2864, 6292, 290, 5196, 1089, 3725, 6007, 2940, 3264, 5296, 4660, 2586, 2492, 6016, 3671, 3419, 746, 5315, 3513, 1277, 18, 3922, 1997, 3548, 3213, 699, 3439, 1409, 849, 1751, 5109, 1247, 3089, 209, 6076, 3916, 5391, 583, 5457, 1946, 6095, 112, 342, 1038, 5141, 2911, 4535, 1369, 1594, 2083, 2963, 5115, 4167, 4223, 3766, 2172, 5530, 854, 4768, 4664, 6284, 1212, 32, 563, 6452, 4985, 1319, 4302, 1467, 2074, 2086, 596, 3523, 2509, 1099, 6245, 526, 3798, 4887, 2761, 3619, 384, 5368, 3254, 4717, 2107, 3880, 4528, 3748, 3797, 4139, 1272, 3091, 5153, 6035, 3736, 1206, 4652, 3060, 5152, 3445, 1010, 2091, 3649, 4554, 4172, 3810, 6186, 2971, 5691, 3155, 2807, 183, 4384, 5438, 5464, 696, 1344, 2111, 5131, 6502, 110, 3973, 3877, 2663, 4697, 1795, 5370, 4075, 2309, 3883, 1863, 5929, 3157, 5847, 3710, 4882, 3210, 5215, 3847, 3975, 3143, 2902, 5892, 6348, 3283, 6455, 3634, 4132, 1833, 2019, 236, 2515, 2338, 4863, 127, 6264, 5895, 2746, 4444, 5221, 2749, 5885, 527, 136, 280, 2450, 3304, 1902, 3085, 4050, 5400, 4534, 5878, 1461, 1023, 97, 4068, 1024, 6107, 529, 3324, 1184, 4785, 3743, 4541, 5364, 1353, 5591, 6508, 2029, 2557, 1468, 4452, 2691, 1334, 3463, 3079, 311, 1852, 1005, 2847, 845, 3427, 6536, 435, 4743, 551, 1665, 3586, 2874, 5689, 1250, 377, 2992, 4217, 4260, 2269, 2529, 6251, 3373, 177, 4311, 1653, 175, 3006, 1220, 2446, 1935, 2931, 2943, 476, 1727, 6285, 4123, 3792, 5643, 5094, 3728, 452, 3721, 5321, 5460, 4888, 2614, 3042, 178, 1700, 5064, 4989, 1786, 6167, 2258, 2036, 2727, 3349, 4230, 1076, 2146, 4499, 2486, 2352, 3538, 2482, 303, 4904, 6469, 2055, 3410, 2621, 5863, 545, 671, 2503, 2606, 3493, 4177, 1447, 1241, 3902, 3294, 6483, 944, 4028, 2701, 1847, 5513, 6283, 2038, 673, 3566, 2979, 3212, 4871, 2070, 5806, 4224, 4343, 3175, 866, 2209, 5649, 3533, 266, 785, 4618, 755, 2058, 2797, 4621, 4083, 3109, 4979, 4598, 3571, 4944, 3323, 3963, 1033, 198, 232, 3550, 2374, 1843, 6369, 6274, 5542, 284, 2694, 2858, 6533, 5099, 1127, 6293, 4647, 5314, 3384, 3865, 2062, 1574, 5618, 2798, 3047, 3510, 2173, 1078, 3025, 3892, 4897, 3147, 6338, 6109, 372, 1755, 3752, 4221, 853, 5810, 2576, 1457, 2626, 5130, 2642, 5913, 3190, 2906, 3823, 4946, 3478, 627, 3114, 5608, 4119, 5294, 4803, 357, 4551, 3292, 3722, 697, 2159, 3183, 3441, 4076, 1505, 1413, 6172, 1737, 3455, 4607, 468, 6087, 1321, 4190, 504, 3380, 6505, 6359, 4517, 1128, 3336, 203, 6425, 3017, 1427, 4111, 371, 35, 294, 3189, 5631, 2638, 3196, 2813, 5012, 5963, 4027, 1924, 4462, 2545, 3325, 4338, 4239, 1355, 4326, 6341, 4787, 2783, 4155, 6222, 4492, 2764, 864, 2918, 3553, 4175, 6518, 795, 6460, 1830, 2967, 1690, 3850, 418, 2416, 4053, 6297, 2178, 1343, 3395, 1978, 3246, 351, 4407, 1465, 2026, 5849, 921, 6497, 3263, 1683, 6043, 1986, 4122, 3716, 2669, 5954, 644, 4306, 6101, 1877, 2418, 3248, 3135, 2007, 4484, 1913, 3679, 3761, 5369, 3525, 5122, 4949, 3995, 420, 6015, 4333, 101, 710, 2696, 2517, 4455, 1327, 3724, 5452, 1112, 1822, 4996, 3573, 5676, 2732, 4163, 4931, 6335, 2628, 3074, 2255, 4436, 265, 4955, 2063, 270, 4357, 1114, 618, 1678, 4650, 5447, 1909, 3245, 830, 2144, 3132, 2848, 1335, 2193, 5223, 1438, 3682, 3639, 554, 2672, 4092, 3951, 6220, 1042, 2758, 5619, 1093, 1980, 4964, 3554, 1539, 6439, 2064, 1326, 5393, 860, 21, 1000, 277, 2410, 4063, 4192, 776, 2658, 4056, 544, 3300, 5957, 724, 5834, 3849, 1622, 2809, 5271, 1984, 4952, 1942, 2363, 709, 3320, 3160, 5556, 4377, 4522, 1530, 3780, 4277, 5261, 3795, 764, 1588, 950, 4116, 4148, 6006, 6165, 5767, 5798, 3344, 5243, 1514, 3826, 2430, 2093, 2429, 3011, 69, 4688, 3388, 525, 5050, 138, 615, 4775, 6163, 5638, 4503, 5013, 1243, 1603, 4191, 230, 692, 3251, 1597, 523, 2031, 3501, 2286, 6135, 3164, 3003, 1528, 5451, 4045, 1410, 3365, 5876, 2697, 6378, 5933, 13, 434, 4724, 1549, 3645, 2024, 929, 63, 3484, 3257, 3919, 339, 395, 2684, 6122, 5242, 1175, 3352, 1157, 5695, 2577, 6489, 37, 3129, 1034, 2820, 602, 463, 1342, 2793, 6454, 115, 782, 2493, 194, 3353, 2523, 838, 2882, 1135, 6197, 2104, 1616, 2956, 25, 5397, 2386, 3869, 503, 716, 3509, 287, 5117, 19, 942, 2109, 1197, 5589, 1715, 3827, 6011, 4228, 4696, 137, 3203, 5880, 3238, 6026, 870, 2833, 2600, 594, 3915, 1875, 3106, 2069, 859, 4143, 3348, 1257, 5060, 2751, 263, 2013, 2387, 3974, 2056, 6261, 1008, 3392, 3459, 2513, 2022, 474, 5213, 2556, 2875, 4965, 5896, 3968, 1043, 5937, 308, 2150, 5968, 1435, 5097, 3674, 3290, 1424, 4035, 4681, 1656, 5808, 1090, 6270, 5882, 5801, 5596, 3115, 925, 5554, 6198, 3582, 4656, 1914, 3708, 5532, 3942, 4906, 5202, 4052, 6408, 4634, 5644, 1517, 3012, 4611, 3590, 6191, 5597, 1103, 2834, 4933, 604, 2714, 911, 5238, 4645, 3415, 3903, 1623, 2468, 1985, 4161, 276, 1506, 3148, 4557, 5067, 5423, 787, 3730, 2318, 1328, 5807, 3651, 3284, 4414, 6206, 3448, 1578, 15, 4563, 6136, 2476, 4714, 6276, 1340, 5930, 1418, 1085, 1824, 2856, 6405, 5956, 2003, 1036, 4434, 3314, 6529, 1976, 3205, 3371, 105, 2766, 3673, 1650, 2260, 1569, 784, 1009, 994, 2867, 191, 2028, 2702, 3506, 711, 4149, 3914, 1045, 3222, 1770, 1216, 5234, 3077, 5865, 3764, 1758, 2953, 5958, 5564, 2636, 886, 5525, 3727, 5932, 314, 3898, 6376, 2218, 4473, 4695, 5763, 3184, 2649, 5636, 5257, 27, 4106, 430, 4708, 1354, 4416, 1399, 2656, 1487, 1374, 3755, 3282, 5729, 5309, 2912, 3153, 1844, 1541, 2325, 1406, 3350, 2913, 1258, 1333, 3806, 4226, 5145, 5845, 6429, 3187, 3233, 6510, 2449, 5322, 3657, 2250, 1026, 2579, 5021, 4060, 4577, 3555, 5802, 3069, 555, 4023, 797, 5231, 4152, 1415, 366, 5566, 4022, 2617, 2395, 146, 3943, 3075, 4342, 4700, 3247, 4932, 2527, 2171, 5188, 10, 1168, 4195, 208, 2651, 2243, 5732, 4352, 3139, 1726, 2383, 2954, 747, 3837, 3965, 3219, 2909, 4159, 3026, 5046, 4198, 254, 4385, 2815, 4300, 1570, 1688, 396, 3430, 3906, 2974, 5262, 5717, 4229, 3750, 39, 4682, 1173, 1456, 3136, 1577, 2790, 5969, 5474, 3223, 1376, 3595, 1193, 1908, 5372, 2802, 842, 1857, 914, 1851, 1993, 6170, 2488, 2021, 3871, 4781, 3228, 1191, 2837, 3234, 844, 5889, 4244, 610, 1567, 5293, 2263, 4496, 3272, 4903, 1846, 5014, 5433, 1903, 3216, 3822, 6412, 227, 6253, 3756, 4705, 851, 4967, 5214, 4096, 6041, 2106, 1743, 695, 257, 2004, 5709, 4186, 1095, 3208, 3814, 2719, 6102, 3271, 4058, 6527, 3519, 5914, 1625, 6542, 5753, 5851, 3833, 5148, 2368, 2582, 5642, 5696, 4358, 1537, 20, 214, 3742, 106, 5125, 5135, 5426, 1545, 3646, 2039, 2827, 3302, 2609, 2904, 2531, 4489, 5180, 5674, 4889, 1455, 5300, 6168, 2970, 3836, 3695, 6334, 4981, 1384, 2922, 5355, 4737, 5424, 3278, 766, 3081, 3996, 6275, 1691, 4150, 1613, 3057, 5780, 2198, 4764, 6487, 4437, 4644, 3369, 2619, 4725, 3211, 2836, 672, 3411, 538, 3376, 1264, 5128, 3955, 1670, 3893, 6169, 4934, 5066, 1017, 4025, 2398, 2020, 2832, 3701, 1936, 442, 1821, 1434, 6415, 5285, 4165, 3374, 2668, 5436, 2201, 2355, 1154, 6443, 2005, 2536, 3805, 6141, 702, 4604, 6022, 4477, 946, 4089, 5971, 6131, 3112, 5263, 1183, 2442, 4912, 6336, 6523, 6453, 5220, 2143, 3043, 4356, 4199, 5181, 271, 3556, 5146, 5191, 2570, 2370, 5076, 5304, 5731, 1573, 3466, 1429, 3549, 3275, 1383, 1951, 337, 3676, 4516, 4780, 3382, 4521, 6126, 4504, 3317, 1073, 2961, 628, 2208, 5540, 6352, 1372, 2289, 4661, 356, 1757, 3168, 4166, 1255, 4176, 2639, 1826, 4383, 2261, 6030, 1583, 4301, 1464, 1267, 875, 2602, 3939, 1975, 3037, 2180, 6055, 2288, 6137, 4104, 1791, 1500, 5799, 6351, 4487, 5924, 4194, 1767, 4248, 2627, 6503, 3221, 1607, 5349, 3977, 2555, 5365, 5206, 935, 197, 3835, 341, 2877, 4373, 5702, 1074, 3512, 1977, 5771, 4963, 3078, 2794, 3971, 6463, 1483, 1797, 354, 4694, 6538, 1205, 1325, 1698, 805, 4109, 4884, 2025, 6421, 1261, 3992, 5069, 4208, 3515, 3894, 5186, 4706, 1736, 5185, 3295, 3399, 187, 2924, 3575, 2265, 1835, 5448, 624, 4987, 5974, 6422, 5100, 1011, 1188, 5730, 686, 2435, 1132, 5553, 3947, 3118, 4494, 1651, 4372, 2117, 2177, 3876, 6195, 5788, 3475, 1084, 3592, 5380, 1278, 1990, 2857, 518, 1294, 2980, 620, 5700, 5289, 6040, 3544, 5705, 1081, 622, 3532, 5813, 3462, 1181, 5928, 6409, 4460, 714, 6213, 471, 1612, 375, 3521, 3056, 3784, 4913, 5594, 6491, 1731, 1213, 5222, 1995, 4396, 1273, 5797, 4980, 5453, 298, 6457, 2679, 3531, 2113, 6278, 2348, 3443, 1382, 1813, 3249, 3467, 1164, 5470, 6467, 4213, 3027, 5463, 3045, 1772, 6407, 3830, 68, 2861, 941, 427, 723, 6367, 5057, 60, 3775, 4219, 3227, 2057, 1423, 2304, 3424, 2236, 3402, 4892, 1897, 3703, 4687, 1270, 4232, 2785, 3829, 5226, 1713, 922, 4629, 2748, 6133, 6173, 2123, 3864, 2241, 4131, 4657, 4891, 6190, 2605, 5479, 5023, 3289, 791, 2281, 1647, 2652, 848, 4298, 1031, 4046, 3749, 2852, 4294, 4256, 1773, 4404, 5270, 3449, 1019, 1364, 3563, 3270, 2249, 4363, 645, 4296, 957, 6501, 5856, 4684, 2865, 2425, 681, 5048, 2067, 6017, 2027, 519, 753, 1502, 3891, 3804, 1218, 135, 2448, 3565, 1275, 4580, 6493, 2835, 2685, 2584, 1285, 1347, 2102, 2181, 2988, 4313, 2876, 289, 6052, 5866, 794, 1299, 3051, 2510, 104, 5881, 506, 2335, 4790, 2501, 3071, 6428, 4984, 5381, 150, 1728, 3206, 1940, 920, 6343, 834, 5612, 4394, 6356, 3460, 4745, 3065, 3889, 4910, 2227, 6532, 2995, 1282, 3117, 5923, 1411, 3972, 6224, 2043, 441, 3540, 2806, 3983, 4359, 933, 2613, 3239, 2996, 4874, 5459, 4134, 5102, 4392, 1943, 4341, 5733, 4710, 1868, 5239, 1196, 5373, 2328, 3713, 428, 1269, 3621, 6259, 1029, 6208, 4201, 6345, 4612, 2630, 2299, 5388, 4862, 4085, 587, 1981, 4234, 286, 1794, 3999, 4147, 2648, 5800, 6304, 4097, 3113, 5779, 3488, 1848, 4728, 2505, 2845, 4928, 4059, 5977, 5176, 534, 592, 4136, 1590, 6250, 2381, 1893, 3717, 5694, 5318, 3953, 344, 3354, 2366, 1082, 2573, 2165, 3924, 4031, 2662, 5515, 4283, 3014, 5324, 2888, 4727, 6465, 1608, 4854, 2030, 2511, 2519, 1598, 4316, 6280, 1252, 1905, 2673, 2068, 186, 5756, 758, 990, 2585, 6354, 1895, 500, 6269, 1739, 1624, 4133, 5559, 3711, 6265, 3925, 2382, 2185, 4418, 745, 4003, 1426, 3656, 1842, 3339, 4032, 588, 340, 6193, 1874, 6088, 884, 3102, 4813, 5894, 3547, 2006, 4585, 865, 2044, 5396, 4138, 6075, 3670, 5949, 792, 5404, 2158, 992, 4744, 6435, 3309, 3173, 5053, 4360, 3584, 5925, 2149, 3180, 6129, 2454, 4094, 2237, 2498, 3125, 3598, 5376, 11, 4498, 216, 856, 132, 4366, 6526, 3021, 3377, 2344, 1878, 3261, 6175, 1373, 4271, 5620, 5783, 2842, 92, 3032, 1499, 267, 5108, 840, 2588, 4005, 828, 3260, 2471, 4067, 5225, 3052, 3908, 1504, 584, 3678, 4454, 5466, 6105, 4395, 5259, 3333, 6085, 5931, 34, 4783, 1787, 4827, 4393, 1939, 1529, 4451, 3268, 3345, 2336, 4334, 4425, 1358, 1236, 1047, 3149, 3161, 2981, 3110, 3819, 6281, 6123, 2890, 3610, 1263, 5809, 3852, 1300, 3812, 2190, 4716, 3769, 3667, 22, 1854, 4179, 1516, 3644, 995, 4474, 1341, 1733, 2426, 863, 4461, 6437, 350, 6050, 2415, 5793, 4047, 4690, 5276, 1766, 2822, 3800, 703, 4154, 6344, 4305, 2862, 3940, 668, 2962, 689, 5942, 2854, 5157, 1991, 1237, 2242, 3451, 2925, 1866, 1864, 4144, 1934, 4051, 3039, 3400, 283, 2518, 316, 674, 2688, 3202, 4579, 4581, 4215, 1525, 5156, 2341, 440, 1075, 1402, 2008, 6207, 4822, 1433, 1662, 1586, 6458, 4170, 4648, 1704, 4831, 3122, 4214, 2670, 4525, 1126, 2941, 3179, 2438, 5044, 3948, 5948, 3944, 3528, 761, 2571, 4048, 1870, 124, 139, 4765, 1251, 2770, 5592, 684, 3497, 632, 281, 6267, 5757, 213, 4726, 3018, 5832, 885, 5030, 3413, 6438, 5446, 3474, 2307, 1790, 3956, 3204, 4188, 3844, 3838, 1611, 301, 3504, 2161, 5305, 4421, 2434, 2402, 3231, 1379, 5134, 3104, 1007, 509, 1869, 5723, 5648, 4898, 788, 5523, 4619, 4689, 259, 1512, 4261, 2145, 5284, 6534, 2273, 217, 677, 5764, 3422, 2409, 2978, 1604, 1297, 4538, 123, 770, 3073, 2354, 3567, 5435, 4575, 5106, 3986, 4465, 1101, 934, 5461, 2896, 839, 3138, 4438, 5406, 4730, 3137, 5870, 2883, 4291, 1337, 4847, 5240, 6166, 6113, 4125, 535, 1400, 5344, 2964, 2373, 1580, 2774, 2467, 2779, 2290, 36, 5379, 617, 2329, 2010, 2108, 4151, 4241, 2040, 4171, 952, 1948, 1079, 3041, 6084, 2782, 1687, 5714, 2011, 4692, 4603, 5772, 3370, 2644, 5129, 4332, 5399, 4290, 3638, 193, 4736, 2740, 3648, 708, 1318, 4243, 5458, 4823, 5917, 6294, 3846, 1592, 5774, 5340, 5874, 1956, 3429, 4368, 3817, 973, 5366, 530, 3070, 706, 1907, 1750, 3015, 4555, 5719, 4553, 2937, 3907, 2592, 542, 4417, 4997, 6053, 1283, 3778, 2934, 1915, 3537, 5350, 4805, 4013, 3055, 3470, 3913, 2087, 5927, 783, 2314, 4379, 1290, 3066, 5158, 3576, 6051, 5387, 1960, 6211, 3170, 1540, 517, 3128, 2583, 3857, 4886, 1614, 4039, 872, 4646, 1158, 4210, 3570, 2500, 4472, 445, 2736, 2942, 3141, 2710, 5961, 2205, 72, 5429, 6488, 3867, 2071, 2496, 4741, 1626, 3536, 3988, 516, 2411, 2819, 6386, 3048, 3029, 5752, 3587, 6174, 831, 5442, 5835, 5533, 4304, 95, 3516, 3030, 1941, 425, 4197, 953, 1829, 4588, 3958, 5356, 3885, 421, 3487, 2969, 1210, 3431, 2635, 2226, 1498, 3062, 188, 3895, 997, 4285, 2060, 5264, 2831, 3087, 5401, 4258, 1356, 5068, 777, 3659, 3446, 4297, 4251, 2445, 6548, 955, 3541, 5685, 274, 5136, 1753, 1509, 3301, 522, 2315, 707, 38, 2420, 4858, 5768, 1652, 613, 6305, 2756, 4319, 3861, 1823, 3698, 367, 4247, 3617, 3945, 2194, 4448, 5784, 4398, 5864, 5348, 2615, 5237, 4606, 2903, 1484, 5624, 3611, 1740, 5964, 5343, 120, 4526, 5074, 2765, 3473, 1056, 2306, 1014, 437, 2990, 4815, 4939, 447, 4703, 3293, 2894, 4852, 6535, 3982, 48, 630, 2168, 1107, 1646, 3131, 2769, 6058, 2322, 3299, 951, 432, 3731, 4162, 5481, 3058, 5105, 237, 6037, 2860, 6539, 633, 3364, 1938, 4127, 5713, 5936, 3485, 4562, 6379, 3994, 4832, 1627, 5940, 3469, 5149, 5877, 5960, 1186, 1918, 3658, 5061, 4875, 4371, 1106, 3095, 3791, 1187, 682, 2657, 910, 4907, 1818, 5113, 1276, 5319, 858, 3882, 2440, 1591, 3140, 6368, 2550, 754, 3105, 2716, 4691, 3987, 2118, 3612, 1587, 4623, 6138, 6128, 4895, 1284, 5684, 5042, 1492, 3629, 2347, 1083, 4464, 634, 2035, 5524, 1162, 74, 6370, 4090, 4713, 1125, 4669, 181, 5488, 3887, 3169, 4157, 6504, 5311, 2331, 3397, 2677, 3507, 6209, 1817, 727, 5308, 2277, 3159, 5274, 2762, 809, 2863, 5323, 2851, 9, 5623, 3355, 449, 2472, 6272, 3655, 315, 4569, 2279, 999, 2112, 5671, 964, 4770, 6057, 5846, 4957, 1416, 774, 3663, 6021, 5310, 3279, 73, 1953, 6111, 4571, 2561, 4911, 6100, 5313, 6179, 5861, 2689, 4802, 909, 945, 606, 5782, 1190, 4086, 1546, 451, 564, 5422, 1663, 3605, 3642, 2126, 3552, 3964, 2166, 5098, 3868, 3383, 2089, 3545, 234, 4506, 5703, 4318, 943, 5022, 1890, 5837, 2119, 5522, 4353, 4777, 3705, 1362, 6420, 2530, 4362, 3762, 1566, 2659, 5549, 1628, 2251, 3482, 4367, 772, 1155, 2597, 2284, 5550, 6302, 3266, 5697, 5588, 3291, 2817, 3574, 4153, 4582, 1004, 5218, 2895, 1013, 6003, 3405, 1814, 5789, 4351, 2310, 3329, 4168, 4807, 1732, 5175, 2735, 4668, 1170, 4859, 4397, 4826, 2824, 5045, 5939, 4869, 557, 2919, 59, 4867, 546, 5155, 6416, 4962, 5430, 2125, 4797, 3342, 453, 1901, 3732, 1954, 3450, 676, 361, 1030, 4178, 5475, 155, 5551, 152, 6056, 4469, 1682, 5031, 1944, 5815, 5143, 4942, 1513, 2750, 1446, 5137, 2849, 5811, 2683, 5509, 2324, 4532, 3803, 4789, 4643, 5184, 1301, 6252, 631, 4771, 3185, 6279, 5775, 3816, 2666, 1689, 5504, 5529, 3142, 1002, 1575, 1496, 5692, 600, 3088, 1585, 6176, 877, 912, 3910, 1331, 4527, 3535, 3453, 3133, 2403, 1564, 5935, 4218, 5836, 6485, 6202, 5512, 3741, 5357, 3632, 1744, 4033, 3050, 5518, 4281, 3630, 3580, 6423, 3813, 3921, 438, 464, 2739, 5558, 3615, 2235, 3022, 3428, 2521, 3425, 6426, 1419, 2481, 4614, 2654, 4087, 3896, 3498, 2254, 2110, 6433, 1523, 4950, 3686, 3704, 2675, 1246, 2059, 1348, 1582, 6125, 5710, 956, 5352, 1593, 2998, 4626, 3758, 3718, 2138, 3530, 5312, 1368, 4734, 4292, 2534, 3108, 1741, 4204, 1080, 3346, 4381, 5625, 2105, 1116, 62, 5260, 2729, 300, 1602, 765, 5469, 145, 2618, 336, 2175, 2231, 3697, 477, 665, 5627, 5965, 1996, 6543, 5351, 3240, 5947, 3375, 4735, 5972, 6436, 5224, 6448, 5946, 768, 762, 373, 6086, 51, 6417, 996, 3476, 1861, 1576, 3358, 3432, 1579, 2593, 2073, 4792, 2948, 4732, 5194, 6201, 5096, 4873, 5944, 5651, 6093, 1028, 3347, 704, 6031, 4193, 936, 3957, 424, 2391, 515, 222, 4216, 3361, 143, 5706, 1777, 4584, 5707, 4082, 749, 1189, 5978, 5233, 4495, 4791, 1825, 1207, 1916, 4602, 2991, 3303, 5107, 4523, 2932, 3706, 211, 4663, 3931, 3952, 3328, 3063, 2655, 5886, 2587, 804, 5787, 61, 3096, 625, 5587, 3662, 4698, 2303, 5306, 5975, 3209, 1543, 3267, 4798, 4702, 1443, 2266, 2340, 2985, 5953, 5534, 2525, 3465, 5875, 1453, 1018, 1287, 4986, 3796, 3933, 4518, 2549, 433, 2949, 3886, 6366, 2334, 6411, 4442, 5051, 1605, 1714, 3020, 1692, 6544, 541, 6306, 3782, 3481, 353, 6013, 3492, 122, 1959, 2791, 6177, 273, 2986, 597, 4222, 4848, 3672, 3274, 141, 4712, 3707, 806, 4169, 5555, 1768, 861, 3408, 3435, 4336, 5507, 4988, 712, 2147, 2095, 1349, 1179, 3404, 3252, 269, 6188, 3688, 444, 2823, 272, 5804, 4408, 5299, 2631, 1292, 4549, 2826, 3059, 5032, 5698, 2283, 3623, 4486, 1242, 2397, 5065, 2777, 5891, 4501, 235, 5059, 2968, 5116, 3423, 3438, 394, 5467, 6551, 6387, 2122, 4809, 228, 603, 196, 4497, 3785, 5536, 2356, 4476, 6495, 1486, 5941, 2612, 4818, 1910, 646, 4520, 700, 6049, 4993, 2406, 2023, 3765, 2453, 6205, 3276, 43, 279, 5208, 725, 1044, 292, 1949, 4156, 2399, 3976, 1375, 1485, 6218, 1110, 807, 6382, 2337, 586, 5791, 2552, 3978, 5015, 1618, 4254, 5385, 3505, 1449, 3174, 6462, 5938, 2475, 1876, 2993, 4825, 2339, 701, 2257, 5516, 5020, 1675, 3620, 3002, 4751, 3578, 2447, 1789, 6048, 3636, 1266, 5683, 1952, 1054, 4057, 6237, 5444, 6427, 3859, 1244, 1104, 5437, 2755, 1350, 3733, 4340, 2634, 2404, 1648, 1894, 4782, 6541, 1092, 679, 4422, 2100, 2192, 2285, 4091, 1405, 3311, 1629, 3287, 623, 5635, 2282, 6459, 5879, 1265, 2197, 1240, 6210, 1136, 796, 3712, 550, 2267, 5557, 4994, 5394, 4864, 3874, 532, 4900, 2715, 1610, 1693, 2733, 2465, 4718, 1463, 5290, 58, 346, 3158, 4390, 4849, 3631, 1192, 3308, 4211, 2958, 2905, 6289, 3243, 5179, 4901, 5029, 924, 6180, 5210, 3767, 4865, 1862, 5790, 2901, 192, 5471, 3618, 1123, 683, 4969, 3851, 1015, 2562, 543, 852, 1293, 2491, 3790, 1322, 827, 4545, 5377, 5154, 3357, 1458, 1001, 871, 5617, 1958, 5604, 6372, 1385, 5462, 913, 3524, 2041, 2423, 691, 3794, 2256, 1532, 5888, 225, 3820, 850, 4723, 6266, 2818, 2708, 2270, 4303, 2358, 5058, 210, 4449, 1955, 6014, 4299, 3990, 2248, 3337, 2574, 5073, 4975, 4876, 338, 3319, 3625, 4066, 180, 4468, 549, 1238, 4651, 3391, 5049, 3950, 4667, 2595, 5995, 1248, 4570, 2713, 756, 5541, 1466, 6268, 5054, 4456, 3126, 5701, 1003, 1899, 2151, 748, 1987, 5552, 5291, 751, 4189, 5477, 556, 4778, 4200, 5367, 2596, 153, 31, 1668, 1163, 3315, 429, 3753, 2920, 2246, 969, 4605, 70, 2935, 2092, 6403, 2075, 3763, 3502, 5383, 1544, 846, 2323, 5483, 3068, 2313, 4877, 4909, 4659, 705, 380, 2686, 3456, 4649, 1596, 2252, 4935, 1661, 393, 3654, 4321, 4439, 3622, 2470, 585, 4235, 4409, 3305, 3499, 4995, 5538, 687, 4016, 4095, 1087, 4878, 1493, 2512, 3421, 1912, 1860, 4630, 3757, 4574, 6194, 5725, 6108, 1547, 4065, 12, 4415, 4977, 4853, 295, 647, 1180, 2485, 2780, 2976, 5177, 2174, 2135, 2966, 5062, 5017, 4370, 5765, 1669, 2456, 484, 836, 4246, 6546, 1171, 5038, 3457, 4447, 365, 4929, 5646, 5390, 5209, 1259, 2014, 3911, 781, 2199, 6099, 1779, 4973, 3981, 5232, 6156, 4572, 2661, 4121, 1025, 4627, 5010, 1274, 3390, 4956, 4978, 6441, 4108, 923, 930, 5282, 1531, 1049, 3993, 891, 5235, 114, 1048, 5690, 2767, 2142, 2982, 1672, 6349, 1855, 1617, 6282, 3926, 2734, 1781, 2532, 664, 66, 2814, 5227, 1217, 4746, 3696, 867, 874, 2228, 6440, 2369, 3197, 173, 1444, 3970, 1481, 2116, 636, 2278, 5633, 3633, 1371, 553, 715, 2984, 2575, 3100, 1568, 6290, 2699, 1214, 5487, 1378, 6200, 6414, 2977, 6380, 4951, 1763, 2812, 4380, 3821, 2950, 3061, 533, 3016, 6096, 3225, 5728, 2156, 4286, 3709, 4274, 6521, 6363, 3151, 4206, 381, 2507, 2245, 5216, 4556, 3123, 2311, 4009, 1115, 2745, 6434, 3334, 1339, 5297, 6183, 3641, 3403, 3839, 2342, 2723, 5384, 6060, 2690, 3568, 3503, 4040, 3923, 140, 2333, 2868, 4945, 1649, 2886, 1105, 3577, 1891, 3046, 16, 5843, 6461, 1782, 4001, 1904, 2578, 5506, 3472, 1853, 1035, 5637, 5754, 2272, 4093, 5189, 1780, 767, 2653, 5687, 403, 1928, 4478, 3593, 2359, 6296, 3093, 6132, 5562, 3156, 2076, 2841, 1621, 5182, 2930, 1159, 5543, 2349, 4968, 1571, 629, 3824, 202, 3214, 829, 5959, 6442, 5786, 3781, 4729, 3934, 1515, 6047, 4026, 268, 4615, 4314, 5386, 1296, 184, 513, 2757, 3930, 5402, 931, 6447, 635, 3387, 890, 5647, 1748, 2551, 207, 5316, 508, 2170, 5018, 4081, 2479, 4796, 3468, 3008, 2401, 5858, 3277, 4683, 29, 4811, 2589, 5614, 3010, 2660, 2722, 1707, 2581, 4586, 5994, 3479, 2795, 3420, 389, 5193, 3692, 3306, 3053, 2077, 2200, 2239, 2016, 5150, 404, 2872, 6332, 44, 456, 275, 419, 3192, 5873, 4833, 688, 459, 3144, 3776, 174, 1660, 103, 1657, 3653, 967, 4006, 1100, 2843, 6028, 220, 4389, 4937, 3747, 4041, 1518, 2276, 2637, 1957, 2825, 195, 3980, 472, 4747, 278, 3150, 2183, 2474, 1929, 4816, 6449, 4330, 1134, 291, 6178, 4105, 3918, 99, 5095, 2603, 3165, 3832, 5203, 4174, 2421, 3597, 3627, 5450, 2326, 2357, 345, 4315, 4824, 2893, 2360, 1111, 1431, 2885, 5755, 2580, 1735, 6404, 3072, 4856, 1785, 469, 1489, 2641, 1658, 3335, 669, 5111, 1198, 2839, 2821, 1366, 3878, 5609, 4533, 2907, 4846, 3809, 4287, 2548, 847, 2965, 6020, 3739, 2898, 4953, 3685, 3412, 582, 4784, 5568, 4419, 5449, 5708, 4599, 3675, 3379, 685, 940, 1933, 5563, 771, 5997, 1834, 3768, 5711, 675, 2546, 5303, 42, 2955, 121, 3949, 77, 3884, 1983, 6215, 125, 3770, 2219, 4896, 3613, 6530, 1873, 2345, 4976, 3759, 133, 1209, 1203, 1619, 3083, 539, 6364, 2034, 4107, 6300, 4225, 1495, 4250, 939, 3259, 514, 1452, 954, 4042, 1645, 5645, 4808, 4278, 5341, 5634, 1363, 1671, 6446, 2504, 3023, 6023, 2891, 6424, 2139, 6355, 4519, 1194, 1932, 5595, 4861, 1752, 3237, 3818, 3904, 841, 2810, 1778, 4608, 3734, 2372, 3647, 3318, 5867, 2189, 4830, 3494, 3652, 6044, 2778, 1122, 5890, 5966, 4196, 5629, 2680, 4115, 6525, 2664, 3378, 2737, 4375, 2330, 296, 1428, 1051, 963, 5431, 4992, 4055, 5548, 3269, 6484, 466, 5721, 2989, 780, 2781, 1927, 919, 4310, 5854, 4015, 1352, 6326, 1849, 1118, 4941, 4445, 5127, 5855, 1332, 1522, 5178, 6388]\n",
      "test ids:  [0, 1, 2, 3, 4, 5, 6, 7, 8, 78, 79, 80, 81, 82, 83, 84, 85, 86, 87, 88, 89, 90, 158, 159, 160, 161, 162, 163, 164, 165, 166, 167, 168, 169, 170, 171, 238, 239, 240, 241, 242, 243, 244, 245, 246, 247, 248, 249, 250, 251, 252, 253, 318, 319, 320, 321, 322, 324, 325, 326, 327, 328, 329, 330, 331, 332, 333, 334, 335, 398, 399, 400, 401, 402, 405, 406, 407, 408, 409, 410, 411, 412, 413, 414, 415, 416, 417, 478, 479, 480, 481, 482, 486, 487, 488, 489, 490, 491, 492, 493, 494, 495, 496, 497, 498, 499, 558, 559, 560, 561, 562, 567, 568, 569, 570, 571, 572, 573, 574, 575, 576, 577, 578, 579, 580, 638, 639, 640, 641, 642, 648, 649, 650, 651, 652, 653, 654, 655, 656, 657, 658, 659, 660, 661, 662, 718, 719, 720, 721, 722, 729, 730, 731, 732, 733, 734, 735, 736, 737, 738, 739, 740, 741, 742, 743, 744, 798, 799, 800, 801, 802, 810, 811, 812, 813, 814, 815, 816, 817, 818, 819, 820, 821, 822, 823, 824, 825, 826, 878, 879, 880, 881, 882, 892, 893, 894, 895, 896, 897, 898, 899, 900, 901, 902, 903, 904, 905, 906, 907, 908, 958, 959, 960, 961, 962, 974, 975, 976, 977, 978, 979, 980, 981, 982, 983, 984, 985, 986, 987, 988, 989, 1039, 1040, 1041, 1057, 1058, 1059, 1060, 1061, 1062, 1063, 1064, 1065, 1066, 1067, 1068, 1069, 1070, 1071, 1119, 1120, 1121, 1139, 1140, 1141, 1142, 1143, 1144, 1145, 1146, 1147, 1148, 1149, 1150, 1151, 1152, 1153, 1199, 1200, 1201, 1221, 1222, 1223, 1224, 1225, 1226, 1227, 1228, 1229, 1230, 1231, 1232, 1233, 1234, 1235, 1279, 1280, 1281, 1304, 1305, 1306, 1307, 1308, 1309, 1310, 1311, 1312, 1313, 1314, 1315, 1316, 1359, 1360, 1361, 1386, 1387, 1388, 1389, 1390, 1391, 1392, 1393, 1394, 1395, 1396, 1397, 1398, 1439, 1440, 1441, 1469, 1470, 1471, 1472, 1473, 1474, 1475, 1476, 1477, 1478, 1479, 1480, 1519, 1520, 1521, 1551, 1552, 1553, 1554, 1555, 1556, 1557, 1558, 1559, 1560, 1561, 1562, 1599, 1600, 1601, 1633, 1634, 1635, 1636, 1637, 1638, 1639, 1640, 1641, 1642, 1643, 1644, 1679, 1680, 1681, 1716, 1717, 1718, 1719, 1720, 1721, 1722, 1723, 1724, 1725, 1759, 1760, 1761, 1798, 1799, 1800, 1801, 1802, 1803, 1804, 1805, 1806, 1807, 1839, 1840, 1841, 1880, 1881, 1882, 1883, 1884, 1885, 1886, 1887, 1888, 1889, 1919, 1920, 1921, 1963, 1964, 1965, 1966, 1967, 1968, 1969, 1970, 1971, 1999, 2000, 2001, 2045, 2046, 2047, 2048, 2049, 2050, 2051, 2052, 2053, 2079, 2080, 2081, 2127, 2128, 2129, 2130, 2131, 2132, 2133, 2134, 2160, 2210, 2211, 2212, 2213, 2214, 2215, 2216, 2240, 2292, 2293, 2294, 2295, 2296, 2297, 2298, 2320, 2375, 2376, 2377, 2378, 2379, 2380, 2400, 2457, 2458, 2459, 2460, 2461, 2462, 2480, 2539, 2540, 2541, 2542, 2543, 2560, 2622, 2623, 2624, 2625, 2640, 2704, 2705, 2706, 2707, 2720, 2786, 2787, 2788, 2789, 2800, 2869, 2870, 2871, 2880, 2951, 2952, 2960, 3033, 3034, 3040, 3116, 3120, 3198, 3200, 3280, 3360, 3362, 3440, 3444, 3520, 3526, 3527, 3600, 3608, 3609, 3680, 3689, 3690, 3691, 3760, 3771, 3772, 3773, 3774, 3840, 3853, 3854, 3855, 3856, 3920, 3935, 3936, 3937, 3938, 4000, 4017, 4018, 4019, 4020, 4021, 4080, 4098, 4099, 4100, 4101, 4102, 4103, 4160, 4180, 4181, 4182, 4183, 4184, 4185, 4240, 4262, 4263, 4264, 4265, 4266, 4267, 4268, 4320, 4344, 4345, 4346, 4347, 4348, 4349, 4350, 4400, 4426, 4427, 4428, 4429, 4430, 4431, 4432, 4433, 4479, 4480, 4481, 4507, 4508, 4509, 4510, 4511, 4512, 4513, 4514, 4515, 4559, 4560, 4561, 4589, 4590, 4591, 4592, 4593, 4594, 4595, 4596, 4597, 4639, 4640, 4641, 4671, 4672, 4673, 4674, 4675, 4676, 4677, 4678, 4679, 4680, 4719, 4720, 4721, 4753, 4754, 4755, 4756, 4757, 4758, 4759, 4760, 4761, 4762, 4799, 4800, 4801, 4835, 4836, 4837, 4838, 4839, 4840, 4841, 4842, 4843, 4844, 4879, 4880, 4881, 4916, 4917, 4918, 4919, 4920, 4921, 4922, 4923, 4924, 4925, 4926, 4927, 4959, 4960, 4961, 4998, 4999, 5000, 5001, 5002, 5003, 5004, 5005, 5006, 5007, 5008, 5009, 5039, 5040, 5041, 5080, 5081, 5082, 5083, 5084, 5085, 5086, 5087, 5088, 5089, 5090, 5091, 5119, 5120, 5121, 5162, 5163, 5164, 5165, 5166, 5167, 5168, 5169, 5170, 5171, 5172, 5173, 5174, 5199, 5200, 5201, 5244, 5245, 5246, 5247, 5248, 5249, 5250, 5251, 5252, 5253, 5254, 5255, 5256, 5279, 5280, 5281, 5325, 5326, 5327, 5328, 5329, 5330, 5331, 5332, 5333, 5334, 5335, 5336, 5337, 5338, 5339, 5359, 5360, 5361, 5407, 5408, 5409, 5410, 5411, 5412, 5413, 5414, 5415, 5416, 5417, 5418, 5419, 5420, 5421, 5439, 5440, 5441, 5489, 5490, 5491, 5492, 5493, 5494, 5495, 5496, 5497, 5498, 5499, 5500, 5501, 5502, 5503, 5519, 5520, 5521, 5571, 5572, 5573, 5574, 5575, 5576, 5577, 5578, 5579, 5580, 5581, 5582, 5583, 5584, 5585, 5586, 5598, 5599, 5600, 5601, 5602, 5652, 5653, 5654, 5655, 5656, 5657, 5658, 5659, 5660, 5661, 5662, 5663, 5664, 5665, 5666, 5667, 5668, 5678, 5679, 5680, 5681, 5682, 5734, 5735, 5736, 5737, 5738, 5739, 5740, 5741, 5742, 5743, 5744, 5745, 5746, 5747, 5748, 5749, 5750, 5758, 5759, 5760, 5761, 5762, 5816, 5817, 5818, 5819, 5820, 5821, 5822, 5823, 5824, 5825, 5826, 5827, 5828, 5829, 5830, 5831, 5838, 5839, 5840, 5841, 5842, 5898, 5899, 5900, 5901, 5902, 5903, 5904, 5905, 5906, 5907, 5908, 5909, 5910, 5911, 5912, 5918, 5919, 5920, 5921, 5922, 5980, 5981, 5982, 5983, 5984, 5985, 5986, 5987, 5988, 5989, 5990, 5991, 5992, 5993, 5998, 5999, 6000, 6001, 6002, 6061, 6062, 6063, 6064, 6065, 6066, 6067, 6068, 6069, 6070, 6071, 6072, 6073, 6074, 6078, 6079, 6080, 6081, 6082, 6143, 6144, 6145, 6146, 6147, 6148, 6149, 6150, 6151, 6152, 6153, 6154, 6155, 6158, 6159, 6160, 6161, 6162, 6225, 6226, 6227, 6228, 6229, 6230, 6231, 6232, 6233, 6234, 6235, 6236, 6238, 6239, 6240, 6241, 6242, 6307, 6308, 6309, 6310, 6311, 6312, 6313, 6314, 6315, 6316, 6317, 6318, 6319, 6320, 6321, 6322, 6389, 6390, 6391, 6392, 6393, 6394, 6395, 6396, 6397, 6398, 6399, 6400, 6401, 6402, 6470, 6471, 6472, 6473, 6474, 6475, 6476, 6477, 6478, 6479, 6480, 6481, 6482, 6552, 6553, 6554, 6555, 6556, 6557, 6558, 6559, 6560]\n",
      "CPU times: user 149 ms, sys: 20 ms, total: 169 ms\n",
      "Wall time: 168 ms\n"
     ]
    }
   ],
   "source": [
    "%%time\n",
    "n_total = len(simulation.dataframe)\n",
    "n_train = len(simulation.dataframe[simulation.dataframe.type_of == \"train\"])\n",
    "n_val = len(simulation.dataframe[simulation.dataframe.type_of == \"val\"])\n",
    "n_test = len(simulation.dataframe[simulation.dataframe.type_of == \"test\"])\n",
    "n_train_hamiltonians = len(simulation.train_ids)\n",
    "n_val_hamiltonians = len(simulation.val_ids)\n",
    "n_test_hamiltonians = len(simulation.test_ids)\n",
    "n_total_hamiltonians = n_train_hamiltonians + n_val_hamiltonians + n_test_hamiltonians\n",
    "\n",
    "print(\"% train: \", n_train/n_total)\n",
    "print(\"% val: \",  n_val/n_total)\n",
    "print(\"% test: \", n_test/n_total)\n",
    "print(\"% train + val + test: \", (n_train+n_val+n_test)/n_total)\n",
    "print(\"\\n\")\n",
    "print(\"number of train hamiltonians: \", n_train_hamiltonians)\n",
    "print(\"number of val hamiltonians: \", n_val_hamiltonians)\n",
    "print(\"number of test hamiltonians: \", n_test_hamiltonians)\n",
    "print(\"total number of hamiltonians: \", n_total_hamiltonians)\n",
    "print(\"\\n\")\n",
    "print(\"train ids: \", simulation.train_ids)\n",
    "print(\"val ids: \", simulation.val_ids)\n",
    "print(\"test ids: \", simulation.test_ids)"
   ]
  },
  {
   "cell_type": "markdown",
   "metadata": {
    "papermill": {
     "duration": 0.037796,
     "end_time": "2020-07-08T02:37:37.131786",
     "exception": false,
     "start_time": "2020-07-08T02:37:37.093990",
     "status": "completed"
    },
    "tags": []
   },
   "source": [
    "#### Checking summaries"
   ]
  },
  {
   "cell_type": "code",
   "execution_count": 27,
   "metadata": {
    "execution": {
     "iopub.execute_input": "2020-07-08T02:37:37.203915Z",
     "iopub.status.busy": "2020-07-08T02:37:37.203602Z",
     "iopub.status.idle": "2020-07-08T02:37:37.221932Z",
     "shell.execute_reply": "2020-07-08T02:37:37.221617Z"
    },
    "papermill": {
     "duration": 0.055329,
     "end_time": "2020-07-08T02:37:37.221981",
     "exception": false,
     "start_time": "2020-07-08T02:37:37.166652",
     "status": "completed"
    },
    "tags": []
   },
   "outputs": [
    {
     "name": "stdout",
     "output_type": "stream",
     "text": [
      "length of ham_summary:  6561\n",
      "CPU times: user 134 µs, sys: 0 ns, total: 134 µs\n",
      "Wall time: 80.1 µs\n"
     ]
    },
    {
     "data": {
      "text/html": [
       "<div>\n",
       "<style scoped>\n",
       "    .dataframe tbody tr th:only-of-type {\n",
       "        vertical-align: middle;\n",
       "    }\n",
       "\n",
       "    .dataframe tbody tr th {\n",
       "        vertical-align: top;\n",
       "    }\n",
       "\n",
       "    .dataframe thead th {\n",
       "        text-align: right;\n",
       "    }\n",
       "</style>\n",
       "<table border=\"1\" class=\"dataframe\">\n",
       "  <thead>\n",
       "    <tr style=\"text-align: right;\">\n",
       "      <th></th>\n",
       "      <th>t1</th>\n",
       "      <th>t2</th>\n",
       "      <th>type_of</th>\n",
       "      <th>0</th>\n",
       "      <th>1</th>\n",
       "      <th>phase</th>\n",
       "      <th>pred_phase</th>\n",
       "    </tr>\n",
       "    <tr>\n",
       "      <th>id</th>\n",
       "      <th></th>\n",
       "      <th></th>\n",
       "      <th></th>\n",
       "      <th></th>\n",
       "      <th></th>\n",
       "      <th></th>\n",
       "      <th></th>\n",
       "    </tr>\n",
       "  </thead>\n",
       "  <tbody>\n",
       "    <tr>\n",
       "      <th>0</th>\n",
       "      <td>-2.0</td>\n",
       "      <td>-2.00</td>\n",
       "      <td>test</td>\n",
       "      <td>0.43</td>\n",
       "      <td>0.57</td>\n",
       "      <td>999</td>\n",
       "      <td>1</td>\n",
       "    </tr>\n",
       "    <tr>\n",
       "      <th>1</th>\n",
       "      <td>-2.0</td>\n",
       "      <td>-1.95</td>\n",
       "      <td>test</td>\n",
       "      <td>0.63</td>\n",
       "      <td>0.37</td>\n",
       "      <td>0</td>\n",
       "      <td>0</td>\n",
       "    </tr>\n",
       "    <tr>\n",
       "      <th>2</th>\n",
       "      <td>-2.0</td>\n",
       "      <td>-1.90</td>\n",
       "      <td>test</td>\n",
       "      <td>0.56</td>\n",
       "      <td>0.44</td>\n",
       "      <td>0</td>\n",
       "      <td>0</td>\n",
       "    </tr>\n",
       "    <tr>\n",
       "      <th>3</th>\n",
       "      <td>-2.0</td>\n",
       "      <td>-1.85</td>\n",
       "      <td>test</td>\n",
       "      <td>0.62</td>\n",
       "      <td>0.38</td>\n",
       "      <td>0</td>\n",
       "      <td>0</td>\n",
       "    </tr>\n",
       "    <tr>\n",
       "      <th>4</th>\n",
       "      <td>-2.0</td>\n",
       "      <td>-1.80</td>\n",
       "      <td>test</td>\n",
       "      <td>0.59</td>\n",
       "      <td>0.41</td>\n",
       "      <td>0</td>\n",
       "      <td>0</td>\n",
       "    </tr>\n",
       "    <tr>\n",
       "      <th>...</th>\n",
       "      <td>...</td>\n",
       "      <td>...</td>\n",
       "      <td>...</td>\n",
       "      <td>...</td>\n",
       "      <td>...</td>\n",
       "      <td>...</td>\n",
       "      <td>...</td>\n",
       "    </tr>\n",
       "    <tr>\n",
       "      <th>6556</th>\n",
       "      <td>2.0</td>\n",
       "      <td>1.80</td>\n",
       "      <td>test</td>\n",
       "      <td>0.65</td>\n",
       "      <td>0.35</td>\n",
       "      <td>0</td>\n",
       "      <td>0</td>\n",
       "    </tr>\n",
       "    <tr>\n",
       "      <th>6557</th>\n",
       "      <td>2.0</td>\n",
       "      <td>1.85</td>\n",
       "      <td>test</td>\n",
       "      <td>0.55</td>\n",
       "      <td>0.45</td>\n",
       "      <td>0</td>\n",
       "      <td>0</td>\n",
       "    </tr>\n",
       "    <tr>\n",
       "      <th>6558</th>\n",
       "      <td>2.0</td>\n",
       "      <td>1.90</td>\n",
       "      <td>test</td>\n",
       "      <td>0.63</td>\n",
       "      <td>0.37</td>\n",
       "      <td>0</td>\n",
       "      <td>0</td>\n",
       "    </tr>\n",
       "    <tr>\n",
       "      <th>6559</th>\n",
       "      <td>2.0</td>\n",
       "      <td>1.95</td>\n",
       "      <td>test</td>\n",
       "      <td>0.59</td>\n",
       "      <td>0.41</td>\n",
       "      <td>0</td>\n",
       "      <td>0</td>\n",
       "    </tr>\n",
       "    <tr>\n",
       "      <th>6560</th>\n",
       "      <td>2.0</td>\n",
       "      <td>2.00</td>\n",
       "      <td>test</td>\n",
       "      <td>0.47</td>\n",
       "      <td>0.53</td>\n",
       "      <td>999</td>\n",
       "      <td>1</td>\n",
       "    </tr>\n",
       "  </tbody>\n",
       "</table>\n",
       "<p>6561 rows × 7 columns</p>\n",
       "</div>"
      ],
      "text/plain": [
       "       t1    t2 type_of     0     1  phase  pred_phase\n",
       "id                                                    \n",
       "0    -2.0 -2.00    test  0.43  0.57    999           1\n",
       "1    -2.0 -1.95    test  0.63  0.37      0           0\n",
       "2    -2.0 -1.90    test  0.56  0.44      0           0\n",
       "3    -2.0 -1.85    test  0.62  0.38      0           0\n",
       "4    -2.0 -1.80    test  0.59  0.41      0           0\n",
       "...   ...   ...     ...   ...   ...    ...         ...\n",
       "6556  2.0  1.80    test  0.65  0.35      0           0\n",
       "6557  2.0  1.85    test  0.55  0.45      0           0\n",
       "6558  2.0  1.90    test  0.63  0.37      0           0\n",
       "6559  2.0  1.95    test  0.59  0.41      0           0\n",
       "6560  2.0  2.00    test  0.47  0.53    999           1\n",
       "\n",
       "[6561 rows x 7 columns]"
      ]
     },
     "execution_count": 27,
     "metadata": {},
     "output_type": "execute_result"
    }
   ],
   "source": [
    "%%time\n",
    "ham_summary = simulation.hamiltonian_summary\n",
    "print(\"length of ham_summary: \", len(ham_summary))\n",
    "ham_summary"
   ]
  },
  {
   "cell_type": "code",
   "execution_count": 28,
   "metadata": {
    "execution": {
     "iopub.execute_input": "2020-07-08T02:37:37.298248Z",
     "iopub.status.busy": "2020-07-08T02:37:37.297943Z",
     "iopub.status.idle": "2020-07-08T02:37:37.324415Z",
     "shell.execute_reply": "2020-07-08T02:37:37.324716Z"
    },
    "papermill": {
     "duration": 0.066259,
     "end_time": "2020-07-08T02:37:37.324782",
     "exception": false,
     "start_time": "2020-07-08T02:37:37.258523",
     "status": "completed"
    },
    "tags": []
   },
   "outputs": [
    {
     "data": {
      "text/html": [
       "<div>\n",
       "<style scoped>\n",
       "    .dataframe tbody tr th:only-of-type {\n",
       "        vertical-align: middle;\n",
       "    }\n",
       "\n",
       "    .dataframe tbody tr th {\n",
       "        vertical-align: top;\n",
       "    }\n",
       "\n",
       "    .dataframe thead th {\n",
       "        text-align: right;\n",
       "    }\n",
       "</style>\n",
       "<table border=\"1\" class=\"dataframe\">\n",
       "  <thead>\n",
       "    <tr style=\"text-align: right;\">\n",
       "      <th></th>\n",
       "      <th>t1</th>\n",
       "      <th>t2</th>\n",
       "      <th>0</th>\n",
       "      <th>1</th>\n",
       "      <th>phase</th>\n",
       "      <th>pred_phase</th>\n",
       "    </tr>\n",
       "  </thead>\n",
       "  <tbody>\n",
       "    <tr>\n",
       "      <th>count</th>\n",
       "      <td>6561.000000</td>\n",
       "      <td>6.561000e+03</td>\n",
       "      <td>6561.000000</td>\n",
       "      <td>6561.000000</td>\n",
       "      <td>6561.000000</td>\n",
       "      <td>6561.000000</td>\n",
       "    </tr>\n",
       "    <tr>\n",
       "      <th>mean</th>\n",
       "      <td>0.000000</td>\n",
       "      <td>-4.331917e-18</td>\n",
       "      <td>0.503018</td>\n",
       "      <td>0.496982</td>\n",
       "      <td>25.002134</td>\n",
       "      <td>0.501905</td>\n",
       "    </tr>\n",
       "    <tr>\n",
       "      <th>std</th>\n",
       "      <td>1.169134</td>\n",
       "      <td>1.169134e+00</td>\n",
       "      <td>0.348856</td>\n",
       "      <td>0.348856</td>\n",
       "      <td>154.495657</td>\n",
       "      <td>0.500034</td>\n",
       "    </tr>\n",
       "    <tr>\n",
       "      <th>min</th>\n",
       "      <td>-2.000000</td>\n",
       "      <td>-2.000000e+00</td>\n",
       "      <td>0.000000</td>\n",
       "      <td>0.000000</td>\n",
       "      <td>0.000000</td>\n",
       "      <td>0.000000</td>\n",
       "    </tr>\n",
       "    <tr>\n",
       "      <th>25%</th>\n",
       "      <td>-1.000000</td>\n",
       "      <td>-1.000000e+00</td>\n",
       "      <td>0.150000</td>\n",
       "      <td>0.140000</td>\n",
       "      <td>0.000000</td>\n",
       "      <td>0.000000</td>\n",
       "    </tr>\n",
       "    <tr>\n",
       "      <th>50%</th>\n",
       "      <td>0.000000</td>\n",
       "      <td>0.000000e+00</td>\n",
       "      <td>0.500000</td>\n",
       "      <td>0.500000</td>\n",
       "      <td>1.000000</td>\n",
       "      <td>1.000000</td>\n",
       "    </tr>\n",
       "    <tr>\n",
       "      <th>75%</th>\n",
       "      <td>1.000000</td>\n",
       "      <td>1.000000e+00</td>\n",
       "      <td>0.860000</td>\n",
       "      <td>0.850000</td>\n",
       "      <td>1.000000</td>\n",
       "      <td>1.000000</td>\n",
       "    </tr>\n",
       "    <tr>\n",
       "      <th>max</th>\n",
       "      <td>2.000000</td>\n",
       "      <td>2.000000e+00</td>\n",
       "      <td>1.000000</td>\n",
       "      <td>1.000000</td>\n",
       "      <td>999.000000</td>\n",
       "      <td>1.000000</td>\n",
       "    </tr>\n",
       "  </tbody>\n",
       "</table>\n",
       "</div>"
      ],
      "text/plain": [
       "                t1            t2            0            1        phase  \\\n",
       "count  6561.000000  6.561000e+03  6561.000000  6561.000000  6561.000000   \n",
       "mean      0.000000 -4.331917e-18     0.503018     0.496982    25.002134   \n",
       "std       1.169134  1.169134e+00     0.348856     0.348856   154.495657   \n",
       "min      -2.000000 -2.000000e+00     0.000000     0.000000     0.000000   \n",
       "25%      -1.000000 -1.000000e+00     0.150000     0.140000     0.000000   \n",
       "50%       0.000000  0.000000e+00     0.500000     0.500000     1.000000   \n",
       "75%       1.000000  1.000000e+00     0.860000     0.850000     1.000000   \n",
       "max       2.000000  2.000000e+00     1.000000     1.000000   999.000000   \n",
       "\n",
       "        pred_phase  \n",
       "count  6561.000000  \n",
       "mean      0.501905  \n",
       "std       0.500034  \n",
       "min       0.000000  \n",
       "25%       0.000000  \n",
       "50%       1.000000  \n",
       "75%       1.000000  \n",
       "max       1.000000  "
      ]
     },
     "execution_count": 28,
     "metadata": {},
     "output_type": "execute_result"
    }
   ],
   "source": [
    "ham_summary.describe()"
   ]
  },
  {
   "cell_type": "code",
   "execution_count": 29,
   "metadata": {
    "execution": {
     "iopub.execute_input": "2020-07-08T02:37:37.401816Z",
     "iopub.status.busy": "2020-07-08T02:37:37.401511Z",
     "iopub.status.idle": "2020-07-08T02:37:37.415672Z",
     "shell.execute_reply": "2020-07-08T02:37:37.415920Z"
    },
    "papermill": {
     "duration": 0.054456,
     "end_time": "2020-07-08T02:37:37.415988",
     "exception": false,
     "start_time": "2020-07-08T02:37:37.361532",
     "status": "completed"
    },
    "tags": []
   },
   "outputs": [
    {
     "name": "stdout",
     "output_type": "stream",
     "text": [
      "length of ham_summary:  656100\n"
     ]
    },
    {
     "data": {
      "text/html": [
       "<div>\n",
       "<style scoped>\n",
       "    .dataframe tbody tr th:only-of-type {\n",
       "        vertical-align: middle;\n",
       "    }\n",
       "\n",
       "    .dataframe tbody tr th {\n",
       "        vertical-align: top;\n",
       "    }\n",
       "\n",
       "    .dataframe thead th {\n",
       "        text-align: right;\n",
       "    }\n",
       "</style>\n",
       "<table border=\"1\" class=\"dataframe\">\n",
       "  <thead>\n",
       "    <tr style=\"text-align: right;\">\n",
       "      <th></th>\n",
       "      <th>id</th>\n",
       "      <th>phase</th>\n",
       "      <th>pred_phase</th>\n",
       "      <th>type_of</th>\n",
       "    </tr>\n",
       "  </thead>\n",
       "  <tbody>\n",
       "    <tr>\n",
       "      <th>0</th>\n",
       "      <td>0</td>\n",
       "      <td>999</td>\n",
       "      <td>0</td>\n",
       "      <td>test</td>\n",
       "    </tr>\n",
       "    <tr>\n",
       "      <th>1</th>\n",
       "      <td>0</td>\n",
       "      <td>999</td>\n",
       "      <td>0</td>\n",
       "      <td>test</td>\n",
       "    </tr>\n",
       "    <tr>\n",
       "      <th>2</th>\n",
       "      <td>0</td>\n",
       "      <td>999</td>\n",
       "      <td>0</td>\n",
       "      <td>test</td>\n",
       "    </tr>\n",
       "    <tr>\n",
       "      <th>3</th>\n",
       "      <td>0</td>\n",
       "      <td>999</td>\n",
       "      <td>0</td>\n",
       "      <td>test</td>\n",
       "    </tr>\n",
       "    <tr>\n",
       "      <th>4</th>\n",
       "      <td>0</td>\n",
       "      <td>999</td>\n",
       "      <td>0</td>\n",
       "      <td>test</td>\n",
       "    </tr>\n",
       "    <tr>\n",
       "      <th>...</th>\n",
       "      <td>...</td>\n",
       "      <td>...</td>\n",
       "      <td>...</td>\n",
       "      <td>...</td>\n",
       "    </tr>\n",
       "    <tr>\n",
       "      <th>656095</th>\n",
       "      <td>6560</td>\n",
       "      <td>999</td>\n",
       "      <td>1</td>\n",
       "      <td>test</td>\n",
       "    </tr>\n",
       "    <tr>\n",
       "      <th>656096</th>\n",
       "      <td>6560</td>\n",
       "      <td>999</td>\n",
       "      <td>1</td>\n",
       "      <td>test</td>\n",
       "    </tr>\n",
       "    <tr>\n",
       "      <th>656097</th>\n",
       "      <td>6560</td>\n",
       "      <td>999</td>\n",
       "      <td>1</td>\n",
       "      <td>test</td>\n",
       "    </tr>\n",
       "    <tr>\n",
       "      <th>656098</th>\n",
       "      <td>6560</td>\n",
       "      <td>999</td>\n",
       "      <td>1</td>\n",
       "      <td>test</td>\n",
       "    </tr>\n",
       "    <tr>\n",
       "      <th>656099</th>\n",
       "      <td>6560</td>\n",
       "      <td>999</td>\n",
       "      <td>1</td>\n",
       "      <td>test</td>\n",
       "    </tr>\n",
       "  </tbody>\n",
       "</table>\n",
       "<p>656100 rows × 4 columns</p>\n",
       "</div>"
      ],
      "text/plain": [
       "          id  phase  pred_phase type_of\n",
       "0          0    999           0    test\n",
       "1          0    999           0    test\n",
       "2          0    999           0    test\n",
       "3          0    999           0    test\n",
       "4          0    999           0    test\n",
       "...      ...    ...         ...     ...\n",
       "656095  6560    999           1    test\n",
       "656096  6560    999           1    test\n",
       "656097  6560    999           1    test\n",
       "656098  6560    999           1    test\n",
       "656099  6560    999           1    test\n",
       "\n",
       "[656100 rows x 4 columns]"
      ]
     },
     "execution_count": 29,
     "metadata": {},
     "output_type": "execute_result"
    }
   ],
   "source": [
    "eigen_summary = simulation.eigenvector_summary\n",
    "print(\"length of ham_summary: \", len(eigen_summary))\n",
    "eigen_summary"
   ]
  },
  {
   "cell_type": "markdown",
   "metadata": {
    "papermill": {
     "duration": 0.03643,
     "end_time": "2020-07-08T02:37:37.489355",
     "exception": false,
     "start_time": "2020-07-08T02:37:37.452925",
     "status": "completed"
    },
    "tags": []
   },
   "source": [
    "#### Checking accuracies"
   ]
  },
  {
   "cell_type": "code",
   "execution_count": 30,
   "metadata": {
    "execution": {
     "iopub.execute_input": "2020-07-08T02:37:37.566893Z",
     "iopub.status.busy": "2020-07-08T02:37:37.566587Z",
     "iopub.status.idle": "2020-07-08T02:37:37.577042Z",
     "shell.execute_reply": "2020-07-08T02:37:37.576729Z"
    },
    "papermill": {
     "duration": 0.050597,
     "end_time": "2020-07-08T02:37:37.577093",
     "exception": false,
     "start_time": "2020-07-08T02:37:37.526496",
     "status": "completed"
    },
    "tags": []
   },
   "outputs": [
    {
     "data": {
      "text/plain": [
       "{'eigenvector_train': 0.9798381294964029,\n",
       " 'eigenvector_val': 0.856302,\n",
       " 'eigenvector_test': 0.6489691943127962,\n",
       " 'hamiltonian_train': 1.0,\n",
       " 'hamiltonian_val': 1.0,\n",
       " 'hamiltonian_test': 0.9786729857819905}"
      ]
     },
     "execution_count": 30,
     "metadata": {},
     "output_type": "execute_result"
    }
   ],
   "source": [
    "simulation.accuracy"
   ]
  },
  {
   "cell_type": "markdown",
   "metadata": {
    "papermill": {
     "duration": 0.036489,
     "end_time": "2020-07-08T02:37:37.649916",
     "exception": false,
     "start_time": "2020-07-08T02:37:37.613427",
     "status": "completed"
    },
    "tags": []
   },
   "source": [
    "#### Checking data stored in  memory"
   ]
  },
  {
   "cell_type": "code",
   "execution_count": 31,
   "metadata": {
    "execution": {
     "iopub.execute_input": "2020-07-08T02:37:37.727826Z",
     "iopub.status.busy": "2020-07-08T02:37:37.727512Z",
     "iopub.status.idle": "2020-07-08T02:37:37.737935Z",
     "shell.execute_reply": "2020-07-08T02:37:37.737624Z"
    },
    "papermill": {
     "duration": 0.050445,
     "end_time": "2020-07-08T02:37:37.737986",
     "exception": false,
     "start_time": "2020-07-08T02:37:37.687541",
     "status": "completed"
    },
    "tags": []
   },
   "outputs": [
    {
     "data": {
      "text/plain": [
       "[]"
      ]
     },
     "execution_count": 31,
     "metadata": {},
     "output_type": "execute_result"
    }
   ],
   "source": [
    "ham_summary_list = simulation.hamiltonian_summary_list\n",
    "ham_summary_list"
   ]
  },
  {
   "cell_type": "code",
   "execution_count": 32,
   "metadata": {
    "execution": {
     "iopub.execute_input": "2020-07-08T02:37:37.813493Z",
     "iopub.status.busy": "2020-07-08T02:37:37.813187Z",
     "iopub.status.idle": "2020-07-08T02:37:37.823272Z",
     "shell.execute_reply": "2020-07-08T02:37:37.822957Z"
    },
    "papermill": {
     "duration": 0.048549,
     "end_time": "2020-07-08T02:37:37.823334",
     "exception": false,
     "start_time": "2020-07-08T02:37:37.774785",
     "status": "completed"
    },
    "tags": []
   },
   "outputs": [
    {
     "data": {
      "text/plain": [
       "[]"
      ]
     },
     "execution_count": 32,
     "metadata": {},
     "output_type": "execute_result"
    }
   ],
   "source": [
    "eigen_summary_list = simulation.eigenvector_summary_list\n",
    "eigen_summary_list"
   ]
  },
  {
   "cell_type": "code",
   "execution_count": 33,
   "metadata": {
    "execution": {
     "iopub.execute_input": "2020-07-08T02:37:37.999261Z",
     "iopub.status.busy": "2020-07-08T02:37:37.998939Z",
     "iopub.status.idle": "2020-07-08T02:37:38.091059Z",
     "shell.execute_reply": "2020-07-08T02:37:38.089371Z"
    },
    "papermill": {
     "duration": 0.196585,
     "end_time": "2020-07-08T02:37:38.091301",
     "exception": false,
     "start_time": "2020-07-08T02:37:37.894716",
     "status": "completed"
    },
    "tags": []
   },
   "outputs": [
    {
     "data": {
      "text/plain": [
       "{'eigenvector_train': [],\n",
       " 'eigenvector_val': [],\n",
       " 'eigenvector_test': [],\n",
       " 'hamiltonian_train': [],\n",
       " 'hamiltonian_val': [],\n",
       " 'hamiltonian_test': []}"
      ]
     },
     "execution_count": 33,
     "metadata": {},
     "output_type": "execute_result"
    }
   ],
   "source": [
    "accuracy_list = simulation.accuracy_list\n",
    "accuracy_list"
   ]
  },
  {
   "cell_type": "code",
   "execution_count": null,
   "metadata": {
    "papermill": {
     "duration": 0.036883,
     "end_time": "2020-07-08T02:37:38.166796",
     "exception": false,
     "start_time": "2020-07-08T02:37:38.129913",
     "status": "completed"
    },
    "tags": []
   },
   "outputs": [],
   "source": []
  },
  {
   "cell_type": "code",
   "execution_count": null,
   "metadata": {
    "papermill": {
     "duration": 0.039044,
     "end_time": "2020-07-08T02:37:38.243791",
     "exception": false,
     "start_time": "2020-07-08T02:37:38.204747",
     "status": "completed"
    },
    "tags": []
   },
   "outputs": [],
   "source": []
  },
  {
   "cell_type": "code",
   "execution_count": null,
   "metadata": {
    "papermill": {
     "duration": 0.036757,
     "end_time": "2020-07-08T02:37:38.317363",
     "exception": false,
     "start_time": "2020-07-08T02:37:38.280606",
     "status": "completed"
    },
    "tags": []
   },
   "outputs": [],
   "source": []
  },
  {
   "cell_type": "code",
   "execution_count": 34,
   "metadata": {
    "execution": {
     "iopub.execute_input": "2020-07-08T02:37:38.394838Z",
     "iopub.status.busy": "2020-07-08T02:37:38.394509Z",
     "iopub.status.idle": "2020-07-08T02:37:38.404739Z",
     "shell.execute_reply": "2020-07-08T02:37:38.404988Z"
    },
    "papermill": {
     "duration": 0.049904,
     "end_time": "2020-07-08T02:37:38.405056",
     "exception": false,
     "start_time": "2020-07-08T02:37:38.355152",
     "status": "completed"
    },
    "tags": []
   },
   "outputs": [
    {
     "data": {
      "text/plain": [
       "array([[ 3,  4],\n",
       "       [ 9, 12]])"
      ]
     },
     "execution_count": 34,
     "metadata": {},
     "output_type": "execute_result"
    }
   ],
   "source": [
    "ar = np.array([[3,4],[9,12]])\n",
    "ar"
   ]
  },
  {
   "cell_type": "code",
   "execution_count": 35,
   "metadata": {
    "execution": {
     "iopub.execute_input": "2020-07-08T02:37:38.482499Z",
     "iopub.status.busy": "2020-07-08T02:37:38.482196Z",
     "iopub.status.idle": "2020-07-08T02:37:38.492085Z",
     "shell.execute_reply": "2020-07-08T02:37:38.491748Z"
    },
    "papermill": {
     "duration": 0.049716,
     "end_time": "2020-07-08T02:37:38.492138",
     "exception": false,
     "start_time": "2020-07-08T02:37:38.442422",
     "status": "completed"
    },
    "tags": []
   },
   "outputs": [],
   "source": [
    "norms = np.linalg.norm(ar,axis=1)"
   ]
  },
  {
   "cell_type": "code",
   "execution_count": 36,
   "metadata": {
    "execution": {
     "iopub.execute_input": "2020-07-08T02:37:38.570417Z",
     "iopub.status.busy": "2020-07-08T02:37:38.570112Z",
     "iopub.status.idle": "2020-07-08T02:37:38.580700Z",
     "shell.execute_reply": "2020-07-08T02:37:38.580429Z"
    },
    "papermill": {
     "duration": 0.049946,
     "end_time": "2020-07-08T02:37:38.580752",
     "exception": false,
     "start_time": "2020-07-08T02:37:38.530806",
     "status": "completed"
    },
    "tags": []
   },
   "outputs": [
    {
     "data": {
      "text/plain": [
       "array([[0.6       , 0.26666667],\n",
       "       [1.8       , 0.8       ]])"
      ]
     },
     "execution_count": 36,
     "metadata": {},
     "output_type": "execute_result"
    }
   ],
   "source": [
    "1/norms*ar"
   ]
  },
  {
   "cell_type": "code",
   "execution_count": 37,
   "metadata": {
    "execution": {
     "iopub.execute_input": "2020-07-08T02:37:38.657509Z",
     "iopub.status.busy": "2020-07-08T02:37:38.657203Z",
     "iopub.status.idle": "2020-07-08T02:37:38.667300Z",
     "shell.execute_reply": "2020-07-08T02:37:38.667548Z"
    },
    "papermill": {
     "duration": 0.049464,
     "end_time": "2020-07-08T02:37:38.667616",
     "exception": false,
     "start_time": "2020-07-08T02:37:38.618152",
     "status": "completed"
    },
    "tags": []
   },
   "outputs": [
    {
     "data": {
      "text/plain": [
       "array([ 5., 15.])"
      ]
     },
     "execution_count": 37,
     "metadata": {},
     "output_type": "execute_result"
    }
   ],
   "source": [
    "norms"
   ]
  },
  {
   "cell_type": "code",
   "execution_count": 38,
   "metadata": {
    "execution": {
     "iopub.execute_input": "2020-07-08T02:37:38.746582Z",
     "iopub.status.busy": "2020-07-08T02:37:38.746264Z",
     "iopub.status.idle": "2020-07-08T02:37:38.756727Z",
     "shell.execute_reply": "2020-07-08T02:37:38.756413Z"
    },
    "papermill": {
     "duration": 0.050362,
     "end_time": "2020-07-08T02:37:38.756778",
     "exception": false,
     "start_time": "2020-07-08T02:37:38.706416",
     "status": "completed"
    },
    "tags": []
   },
   "outputs": [
    {
     "data": {
      "text/plain": [
       "15.0"
      ]
     },
     "execution_count": 38,
     "metadata": {},
     "output_type": "execute_result"
    }
   ],
   "source": [
    "np.sqrt(81+144)"
   ]
  },
  {
   "cell_type": "code",
   "execution_count": null,
   "metadata": {
    "papermill": {
     "duration": 0.037729,
     "end_time": "2020-07-08T02:37:38.832189",
     "exception": false,
     "start_time": "2020-07-08T02:37:38.794460",
     "status": "completed"
    },
    "tags": []
   },
   "outputs": [],
   "source": []
  }
 ],
 "metadata": {
  "celltoolbar": "Tags",
  "kernelspec": {
   "display_name": "ml_top_phases",
   "language": "python",
   "name": "ml_top_phases"
  },
  "language_info": {
   "codemirror_mode": {
    "name": "ipython",
    "version": 3
   },
   "file_extension": ".py",
   "mimetype": "text/x-python",
   "name": "python",
   "nbconvert_exporter": "python",
   "pygments_lexer": "ipython3",
   "version": "3.6.10"
  },
  "papermill": {
   "duration": 1341.596218,
   "end_time": "2020-07-08T02:37:38.980992",
   "environment_variables": {},
   "exception": null,
   "input_path": "0_simulation_template.ipynb",
   "output_path": "zzz_simulation_output_ssh1_periodic_engineered_100_6561.ipynb",
   "parameters": {
    "allowed_windings": [
     0,
     1
    ],
    "csv_path": "/home/rio/ssh_csvs/ssh1/periodic_100_6561.csv",
    "features_to_use": null,
    "fillna": false,
    "fit_params": null,
    "fourier_features": [
     0,
     2,
     4,
     6,
     8,
     10,
     12,
     14,
     16,
     18,
     20,
     22,
     24,
     26,
     28,
     30,
     32,
     34,
     36,
     38,
     40,
     42,
     44,
     46,
     48,
     50,
     52,
     54,
     56,
     58,
     60,
     62,
     64,
     66,
     68,
     70,
     72,
     74,
     76,
     78,
     80,
     82,
     84,
     86,
     88,
     90,
     92,
     94,
     96,
     98
    ],
    "mode": "dft",
    "model_kw": {
     "criterion": "entropy"
    },
    "model_name": "DecisionTreeClassifier",
    "n_experiments": 100,
    "normalize": true,
    "pred_params": null,
    "random_features": false,
    "random_state": 467,
    "real": true,
    "save_accuracy": true,
    "save_eigenvector": true,
    "save_hamiltonian": true,
    "save_models": true,
    "shuffle_features": false,
    "shuffle_rows": true,
    "simulation_dir": "/home/rio/ssh_simulations/ssh1/periodic_engineered_100_6561",
    "start_n": 0,
    "store_in_lists": false,
    "val_split": 0.9
   },
   "start_time": "2020-07-08T02:15:17.384774",
   "version": "2.1.0"
  }
 },
 "nbformat": 4,
 "nbformat_minor": 2
}