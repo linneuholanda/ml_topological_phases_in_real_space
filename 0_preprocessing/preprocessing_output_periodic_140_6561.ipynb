{
 "cells": [
  {
   "cell_type": "markdown",
   "metadata": {
    "papermill": {
     "duration": 0.019087,
     "end_time": "2020-03-04T01:40:21.247322",
     "exception": false,
     "start_time": "2020-03-04T01:40:21.228235",
     "status": "completed"
    },
    "tags": []
   },
   "source": [
    "# Generate csv files \n"
   ]
  },
  {
   "cell_type": "markdown",
   "metadata": {
    "papermill": {
     "duration": 0.009326,
     "end_time": "2020-03-04T01:40:21.267461",
     "exception": false,
     "start_time": "2020-03-04T01:40:21.258135",
     "status": "completed"
    },
    "tags": []
   },
   "source": [
    "This notebook generates .csv files from a directory containing .dat files with Hamiltonian data. Each .dat file is assumed to be named as `\"H_t1_t2_winding.dat\"`.  "
   ]
  },
  {
   "cell_type": "code",
   "execution_count": 1,
   "metadata": {
    "papermill": {
     "duration": 0.292931,
     "end_time": "2020-03-04T01:40:21.570450",
     "exception": false,
     "start_time": "2020-03-04T01:40:21.277519",
     "status": "completed"
    },
    "tags": []
   },
   "outputs": [],
   "source": [
    "#from IPython.core.display import HTML\n",
    "#HTML(\"<script>Jupyter.notebook.kernel.restart()</script>\")\n",
    "%load_ext autoreload\n",
    "%autoreload 2\n",
    "\n",
    "from preprocessing import *"
   ]
  },
  {
   "cell_type": "markdown",
   "metadata": {
    "papermill": {
     "duration": 0.009939,
     "end_time": "2020-03-04T01:40:21.596575",
     "exception": false,
     "start_time": "2020-03-04T01:40:21.586636",
     "status": "completed"
    },
    "tags": []
   },
   "source": [
    "### Set the parameters below carefully"
   ]
  },
  {
   "cell_type": "code",
   "execution_count": 2,
   "metadata": {
    "papermill": {
     "duration": 0.030089,
     "end_time": "2020-03-04T01:40:21.636391",
     "exception": false,
     "start_time": "2020-03-04T01:40:21.606302",
     "status": "completed"
    },
    "tags": [
     "parameters"
    ]
   },
   "outputs": [
    {
     "name": "stdout",
     "output_type": "stream",
     "text": [
      "CPU times: user 3 µs, sys: 0 ns, total: 3 µs\n",
      "Wall time: 5.25 µs\n"
     ]
    }
   ],
   "source": [
    "%%time\n",
    "grid_folder = \"/home/linneu/ssh_grids/ssh1/periodic_100_6561\"\n",
    "allowed_windings = [0,1]\n",
    "epsilon = 0.01\n",
    "csv_name = \"/home/linneu/ssh_csvs/ssh1/periodic_100_6561.csv\"\n",
    "to_csv = True\n"
   ]
  },
  {
   "cell_type": "code",
   "execution_count": 3,
   "metadata": {
    "papermill": {
     "duration": 0.029035,
     "end_time": "2020-03-04T01:40:21.680699",
     "exception": false,
     "start_time": "2020-03-04T01:40:21.651664",
     "status": "completed"
    },
    "tags": [
     "injected-parameters"
    ]
   },
   "outputs": [],
   "source": [
    "# Parameters\n",
    "allowed_windings = [0, 1]\n",
    "epsilon = 0.01\n",
    "to_csv = True\n",
    "grid_folder = \"/home/linneu/ssh_grids/ssh1/periodic_140_6561\"\n",
    "csv_name = \"/home/linneu/ssh_csvs/ssh1/periodic_140_6561.csv\"\n"
   ]
  },
  {
   "cell_type": "code",
   "execution_count": 4,
   "metadata": {
    "papermill": {
     "duration": 175.049253,
     "end_time": "2020-03-04T01:43:16.743566",
     "exception": false,
     "start_time": "2020-03-04T01:40:21.694313",
     "status": "completed"
    },
    "tags": []
   },
   "outputs": [
    {
     "name": "stderr",
     "output_type": "stream",
     "text": [
      "\r",
      "loading hamiltonians:   0%|          | 0/6561 [00:00<?, ?it/s]"
     ]
    },
    {
     "name": "stderr",
     "output_type": "stream",
     "text": [
      "\r",
      "loading hamiltonians:   1%|          | 42/6561 [00:00<00:15, 418.88it/s]"
     ]
    },
    {
     "name": "stderr",
     "output_type": "stream",
     "text": [
      "\r",
      "loading hamiltonians:   1%|          | 71/6561 [00:00<00:17, 367.40it/s]"
     ]
    },
    {
     "name": "stderr",
     "output_type": "stream",
     "text": [
      "\r",
      "loading hamiltonians:   2%|▏         | 105/6561 [00:00<00:18, 341.67it/s]"
     ]
    },
    {
     "name": "stderr",
     "output_type": "stream",
     "text": [
      "\r",
      "loading hamiltonians:   2%|▏         | 151/6561 [00:00<00:17, 370.16it/s]"
     ]
    },
    {
     "name": "stderr",
     "output_type": "stream",
     "text": [
      "\r",
      "loading hamiltonians:   3%|▎         | 189/6561 [00:00<00:17, 372.17it/s]"
     ]
    },
    {
     "name": "stderr",
     "output_type": "stream",
     "text": [
      "\r",
      "loading hamiltonians:   3%|▎         | 225/6561 [00:00<00:17, 367.44it/s]"
     ]
    },
    {
     "name": "stderr",
     "output_type": "stream",
     "text": [
      "\r",
      "loading hamiltonians:   4%|▍         | 270/6561 [00:00<00:16, 388.83it/s]"
     ]
    },
    {
     "name": "stderr",
     "output_type": "stream",
     "text": [
      "\r",
      "loading hamiltonians:   5%|▍         | 307/6561 [00:00<00:16, 368.35it/s]"
     ]
    },
    {
     "name": "stderr",
     "output_type": "stream",
     "text": [
      "\r",
      "loading hamiltonians:   5%|▌         | 345/6561 [00:00<00:16, 366.81it/s]"
     ]
    },
    {
     "name": "stderr",
     "output_type": "stream",
     "text": [
      "\r",
      "loading hamiltonians:   6%|▌         | 391/6561 [00:01<00:15, 389.33it/s]"
     ]
    },
    {
     "name": "stderr",
     "output_type": "stream",
     "text": [
      "\r",
      "loading hamiltonians:   7%|▋         | 430/6561 [00:01<00:15, 383.20it/s]"
     ]
    },
    {
     "name": "stderr",
     "output_type": "stream",
     "text": [
      "\r",
      "loading hamiltonians:   7%|▋         | 469/6561 [00:01<00:16, 379.75it/s]"
     ]
    },
    {
     "name": "stderr",
     "output_type": "stream",
     "text": [
      "\r",
      "loading hamiltonians:   8%|▊         | 515/6561 [00:01<00:15, 399.63it/s]"
     ]
    },
    {
     "name": "stderr",
     "output_type": "stream",
     "text": [
      "\r",
      "loading hamiltonians:   8%|▊         | 556/6561 [00:01<00:15, 390.77it/s]"
     ]
    },
    {
     "name": "stderr",
     "output_type": "stream",
     "text": [
      "\r",
      "loading hamiltonians:   9%|▉         | 596/6561 [00:01<00:27, 220.43it/s]"
     ]
    },
    {
     "name": "stderr",
     "output_type": "stream",
     "text": [
      "\r",
      "loading hamiltonians:  10%|▉         | 643/6561 [00:01<00:22, 261.57it/s]"
     ]
    },
    {
     "name": "stderr",
     "output_type": "stream",
     "text": [
      "\r",
      "loading hamiltonians:  10%|█         | 681/6561 [00:02<00:20, 287.80it/s]"
     ]
    },
    {
     "name": "stderr",
     "output_type": "stream",
     "text": [
      "\r",
      "loading hamiltonians:  11%|█         | 719/6561 [00:02<00:18, 310.24it/s]"
     ]
    },
    {
     "name": "stderr",
     "output_type": "stream",
     "text": [
      "\r",
      "loading hamiltonians:  12%|█▏        | 765/6561 [00:02<00:16, 343.37it/s]"
     ]
    },
    {
     "name": "stderr",
     "output_type": "stream",
     "text": [
      "\r",
      "loading hamiltonians:  12%|█▏        | 805/6561 [00:02<00:16, 353.14it/s]"
     ]
    },
    {
     "name": "stderr",
     "output_type": "stream",
     "text": [
      "\r",
      "loading hamiltonians:  13%|█▎        | 844/6561 [00:02<00:15, 360.59it/s]"
     ]
    },
    {
     "name": "stderr",
     "output_type": "stream",
     "text": [
      "\r",
      "loading hamiltonians:  14%|█▎        | 890/6561 [00:02<00:15, 367.73it/s]"
     ]
    },
    {
     "name": "stderr",
     "output_type": "stream",
     "text": [
      "\r",
      "loading hamiltonians:  14%|█▍        | 935/6561 [00:02<00:14, 386.45it/s]"
     ]
    },
    {
     "name": "stderr",
     "output_type": "stream",
     "text": [
      "\r",
      "loading hamiltonians:  15%|█▍        | 976/6561 [00:02<00:14, 379.53it/s]"
     ]
    },
    {
     "name": "stderr",
     "output_type": "stream",
     "text": [
      "\r",
      "loading hamiltonians:  15%|█▌        | 1016/6561 [00:02<00:14, 373.72it/s]"
     ]
    },
    {
     "name": "stderr",
     "output_type": "stream",
     "text": [
      "\r",
      "loading hamiltonians:  16%|█▌        | 1061/6561 [00:02<00:14, 391.81it/s]"
     ]
    },
    {
     "name": "stderr",
     "output_type": "stream",
     "text": [
      "\r",
      "loading hamiltonians:  17%|█▋        | 1101/6561 [00:03<00:14, 381.96it/s]"
     ]
    },
    {
     "name": "stderr",
     "output_type": "stream",
     "text": [
      "\r",
      "loading hamiltonians:  17%|█▋        | 1140/6561 [00:03<00:14, 376.27it/s]"
     ]
    },
    {
     "name": "stderr",
     "output_type": "stream",
     "text": [
      "\r",
      "loading hamiltonians:  18%|█▊        | 1187/6561 [00:03<00:13, 399.90it/s]"
     ]
    },
    {
     "name": "stderr",
     "output_type": "stream",
     "text": [
      "\r",
      "loading hamiltonians:  19%|█▊        | 1228/6561 [00:03<00:13, 395.15it/s]"
     ]
    },
    {
     "name": "stderr",
     "output_type": "stream",
     "text": [
      "\r",
      "loading hamiltonians:  19%|█▉        | 1269/6561 [00:04<00:33, 159.84it/s]"
     ]
    },
    {
     "name": "stderr",
     "output_type": "stream",
     "text": [
      "\r",
      "loading hamiltonians:  20%|██        | 1315/6561 [00:04<00:27, 194.01it/s]"
     ]
    },
    {
     "name": "stderr",
     "output_type": "stream",
     "text": [
      "\r",
      "loading hamiltonians:  21%|██        | 1362/6561 [00:04<00:22, 235.14it/s]"
     ]
    },
    {
     "name": "stderr",
     "output_type": "stream",
     "text": [
      "\r",
      "loading hamiltonians:  21%|██▏       | 1399/6561 [00:04<00:19, 263.19it/s]"
     ]
    },
    {
     "name": "stderr",
     "output_type": "stream",
     "text": [
      "\r",
      "loading hamiltonians:  22%|██▏       | 1436/6561 [00:04<00:17, 286.11it/s]"
     ]
    },
    {
     "name": "stderr",
     "output_type": "stream",
     "text": [
      "\r",
      "loading hamiltonians:  23%|██▎       | 1483/6561 [00:04<00:15, 323.50it/s]"
     ]
    },
    {
     "name": "stderr",
     "output_type": "stream",
     "text": [
      "\r",
      "loading hamiltonians:  23%|██▎       | 1523/6561 [00:04<00:14, 339.40it/s]"
     ]
    },
    {
     "name": "stderr",
     "output_type": "stream",
     "text": [
      "\r",
      "loading hamiltonians:  24%|██▍       | 1563/6561 [00:04<00:14, 350.62it/s]"
     ]
    },
    {
     "name": "stderr",
     "output_type": "stream",
     "text": [
      "\r",
      "loading hamiltonians:  25%|██▍       | 1610/6561 [00:04<00:13, 378.66it/s]"
     ]
    },
    {
     "name": "stderr",
     "output_type": "stream",
     "text": [
      "\r",
      "loading hamiltonians:  25%|██▌       | 1652/6561 [00:04<00:12, 380.86it/s]"
     ]
    },
    {
     "name": "stderr",
     "output_type": "stream",
     "text": [
      "\r",
      "loading hamiltonians:  26%|██▌       | 1693/6561 [00:05<00:12, 381.55it/s]"
     ]
    },
    {
     "name": "stderr",
     "output_type": "stream",
     "text": [
      "\r",
      "loading hamiltonians:  26%|██▋       | 1735/6561 [00:05<00:12, 382.08it/s]"
     ]
    },
    {
     "name": "stderr",
     "output_type": "stream",
     "text": [
      "\r",
      "loading hamiltonians:  27%|██▋       | 1782/6561 [00:05<00:11, 403.84it/s]"
     ]
    },
    {
     "name": "stderr",
     "output_type": "stream",
     "text": [
      "\r",
      "loading hamiltonians:  28%|██▊       | 1824/6561 [00:05<00:11, 398.64it/s]"
     ]
    },
    {
     "name": "stderr",
     "output_type": "stream",
     "text": [
      "\r",
      "loading hamiltonians:  28%|██▊       | 1865/6561 [00:05<00:11, 394.85it/s]"
     ]
    },
    {
     "name": "stderr",
     "output_type": "stream",
     "text": [
      "\r",
      "loading hamiltonians:  29%|██▉       | 1913/6561 [00:05<00:11, 414.92it/s]"
     ]
    },
    {
     "name": "stderr",
     "output_type": "stream",
     "text": [
      "\r",
      "loading hamiltonians:  30%|██▉       | 1956/6561 [00:06<00:36, 127.71it/s]"
     ]
    },
    {
     "name": "stderr",
     "output_type": "stream",
     "text": [
      "\r",
      "loading hamiltonians:  30%|███       | 1995/6561 [00:06<00:28, 159.69it/s]"
     ]
    },
    {
     "name": "stderr",
     "output_type": "stream",
     "text": [
      "\r",
      "loading hamiltonians:  31%|███       | 2040/6561 [00:06<00:23, 194.12it/s]"
     ]
    },
    {
     "name": "stderr",
     "output_type": "stream",
     "text": [
      "\r",
      "loading hamiltonians:  32%|███▏      | 2086/6561 [00:06<00:19, 234.68it/s]"
     ]
    },
    {
     "name": "stderr",
     "output_type": "stream",
     "text": [
      "\r",
      "loading hamiltonians:  32%|███▏      | 2125/6561 [00:06<00:16, 265.30it/s]"
     ]
    },
    {
     "name": "stderr",
     "output_type": "stream",
     "text": [
      "\r",
      "loading hamiltonians:  33%|███▎      | 2164/6561 [00:07<00:14, 293.22it/s]"
     ]
    },
    {
     "name": "stderr",
     "output_type": "stream",
     "text": [
      "\r",
      "loading hamiltonians:  34%|███▎      | 2211/6561 [00:07<00:13, 329.93it/s]"
     ]
    },
    {
     "name": "stderr",
     "output_type": "stream",
     "text": [
      "\r",
      "loading hamiltonians:  34%|███▍      | 2252/6561 [00:07<00:12, 345.88it/s]"
     ]
    },
    {
     "name": "stderr",
     "output_type": "stream",
     "text": [
      "\r",
      "loading hamiltonians:  35%|███▍      | 2293/6561 [00:07<00:11, 358.36it/s]"
     ]
    },
    {
     "name": "stderr",
     "output_type": "stream",
     "text": [
      "\r",
      "loading hamiltonians:  36%|███▌      | 2340/6561 [00:07<00:10, 385.74it/s]"
     ]
    },
    {
     "name": "stderr",
     "output_type": "stream",
     "text": [
      "\r",
      "loading hamiltonians:  36%|███▋      | 2383/6561 [00:07<00:10, 388.14it/s]"
     ]
    },
    {
     "name": "stderr",
     "output_type": "stream",
     "text": [
      "\r",
      "loading hamiltonians:  37%|███▋      | 2425/6561 [00:07<00:10, 387.93it/s]"
     ]
    },
    {
     "name": "stderr",
     "output_type": "stream",
     "text": [
      "\r",
      "loading hamiltonians:  38%|███▊      | 2466/6561 [00:07<00:10, 386.39it/s]"
     ]
    },
    {
     "name": "stderr",
     "output_type": "stream",
     "text": [
      "\r",
      "loading hamiltonians:  38%|███▊      | 2513/6561 [00:07<00:09, 407.58it/s]"
     ]
    },
    {
     "name": "stderr",
     "output_type": "stream",
     "text": [
      "\r",
      "loading hamiltonians:  39%|███▉      | 2555/6561 [00:07<00:09, 402.31it/s]"
     ]
    },
    {
     "name": "stderr",
     "output_type": "stream",
     "text": [
      "\r",
      "loading hamiltonians:  40%|███▉      | 2597/6561 [00:09<00:38, 102.31it/s]"
     ]
    },
    {
     "name": "stderr",
     "output_type": "stream",
     "text": [
      "\r",
      "loading hamiltonians:  40%|████      | 2643/6561 [00:09<00:29, 133.24it/s]"
     ]
    },
    {
     "name": "stderr",
     "output_type": "stream",
     "text": [
      "\r",
      "loading hamiltonians:  41%|████      | 2681/6561 [00:09<00:23, 165.15it/s]"
     ]
    },
    {
     "name": "stderr",
     "output_type": "stream",
     "text": [
      "\r",
      "loading hamiltonians:  41%|████▏     | 2720/6561 [00:09<00:19, 199.04it/s]"
     ]
    },
    {
     "name": "stderr",
     "output_type": "stream",
     "text": [
      "\r",
      "loading hamiltonians:  42%|████▏     | 2765/6561 [00:09<00:16, 234.06it/s]"
     ]
    },
    {
     "name": "stderr",
     "output_type": "stream",
     "text": [
      "\r",
      "loading hamiltonians:  43%|████▎     | 2813/6561 [00:09<00:13, 276.00it/s]"
     ]
    },
    {
     "name": "stderr",
     "output_type": "stream",
     "text": [
      "\r",
      "loading hamiltonians:  43%|████▎     | 2854/6561 [00:09<00:12, 302.56it/s]"
     ]
    },
    {
     "name": "stderr",
     "output_type": "stream",
     "text": [
      "\r",
      "loading hamiltonians:  44%|████▍     | 2894/6561 [00:09<00:11, 320.99it/s]"
     ]
    },
    {
     "name": "stderr",
     "output_type": "stream",
     "text": [
      "\r",
      "loading hamiltonians:  45%|████▍     | 2941/6561 [00:09<00:10, 353.59it/s]"
     ]
    },
    {
     "name": "stderr",
     "output_type": "stream",
     "text": [
      "\r",
      "loading hamiltonians:  45%|████▌     | 2983/6561 [00:10<00:09, 363.44it/s]"
     ]
    },
    {
     "name": "stderr",
     "output_type": "stream",
     "text": [
      "\r",
      "loading hamiltonians:  46%|████▌     | 3024/6561 [00:10<00:09, 369.58it/s]"
     ]
    },
    {
     "name": "stderr",
     "output_type": "stream",
     "text": [
      "\r",
      "loading hamiltonians:  47%|████▋     | 3065/6561 [00:10<00:09, 373.00it/s]"
     ]
    },
    {
     "name": "stderr",
     "output_type": "stream",
     "text": [
      "\r",
      "loading hamiltonians:  47%|████▋     | 3114/6561 [00:10<00:08, 400.44it/s]"
     ]
    },
    {
     "name": "stderr",
     "output_type": "stream",
     "text": [
      "\r",
      "loading hamiltonians:  48%|████▊     | 3157/6561 [00:10<00:09, 376.30it/s]"
     ]
    },
    {
     "name": "stderr",
     "output_type": "stream",
     "text": [
      "\r",
      "loading hamiltonians:  49%|████▊     | 3197/6561 [00:10<00:09, 352.31it/s]"
     ]
    },
    {
     "name": "stderr",
     "output_type": "stream",
     "text": [
      "\r",
      "loading hamiltonians:  49%|████▉     | 3239/6561 [00:10<00:09, 368.62it/s]"
     ]
    },
    {
     "name": "stderr",
     "output_type": "stream",
     "text": [
      "\r",
      "loading hamiltonians:  50%|████▉     | 3278/6561 [00:10<00:09, 349.03it/s]"
     ]
    },
    {
     "name": "stderr",
     "output_type": "stream",
     "text": [
      "\r",
      "loading hamiltonians:  51%|█████     | 3315/6561 [00:10<00:09, 354.42it/s]"
     ]
    },
    {
     "name": "stderr",
     "output_type": "stream",
     "text": [
      "\r",
      "loading hamiltonians:  51%|█████▏    | 3363/6561 [00:11<00:08, 383.23it/s]"
     ]
    },
    {
     "name": "stderr",
     "output_type": "stream",
     "text": [
      "\r",
      "loading hamiltonians:  52%|█████▏    | 3403/6561 [00:11<00:08, 383.03it/s]"
     ]
    },
    {
     "name": "stderr",
     "output_type": "stream",
     "text": [
      "\r",
      "loading hamiltonians:  52%|█████▏    | 3443/6561 [00:12<00:39, 78.48it/s] "
     ]
    },
    {
     "name": "stderr",
     "output_type": "stream",
     "text": [
      "\r",
      "loading hamiltonians:  53%|█████▎    | 3490/6561 [00:12<00:29, 103.28it/s]"
     ]
    },
    {
     "name": "stderr",
     "output_type": "stream",
     "text": [
      "\r",
      "loading hamiltonians:  54%|█████▎    | 3522/6561 [00:12<00:23, 129.43it/s]"
     ]
    },
    {
     "name": "stderr",
     "output_type": "stream",
     "text": [
      "\r",
      "loading hamiltonians:  54%|█████▍    | 3554/6561 [00:12<00:19, 153.58it/s]"
     ]
    },
    {
     "name": "stderr",
     "output_type": "stream",
     "text": [
      "\r",
      "loading hamiltonians:  55%|█████▍    | 3596/6561 [00:13<00:15, 189.38it/s]"
     ]
    },
    {
     "name": "stderr",
     "output_type": "stream",
     "text": [
      "\r",
      "loading hamiltonians:  55%|█████▌    | 3634/6561 [00:13<00:13, 222.82it/s]"
     ]
    },
    {
     "name": "stderr",
     "output_type": "stream",
     "text": [
      "\r",
      "loading hamiltonians:  56%|█████▌    | 3672/6561 [00:13<00:11, 253.64it/s]"
     ]
    },
    {
     "name": "stderr",
     "output_type": "stream",
     "text": [
      "\r",
      "loading hamiltonians:  57%|█████▋    | 3720/6561 [00:13<00:09, 293.64it/s]"
     ]
    },
    {
     "name": "stderr",
     "output_type": "stream",
     "text": [
      "\r",
      "loading hamiltonians:  57%|█████▋    | 3759/6561 [00:13<00:08, 315.75it/s]"
     ]
    },
    {
     "name": "stderr",
     "output_type": "stream",
     "text": [
      "\r",
      "loading hamiltonians:  58%|█████▊    | 3798/6561 [00:13<00:08, 332.22it/s]"
     ]
    },
    {
     "name": "stderr",
     "output_type": "stream",
     "text": [
      "\r",
      "loading hamiltonians:  59%|█████▊    | 3846/6561 [00:13<00:07, 363.66it/s]"
     ]
    },
    {
     "name": "stderr",
     "output_type": "stream",
     "text": [
      "\r",
      "loading hamiltonians:  59%|█████▉    | 3887/6561 [00:13<00:07, 368.28it/s]"
     ]
    },
    {
     "name": "stderr",
     "output_type": "stream",
     "text": [
      "\r",
      "loading hamiltonians:  60%|█████▉    | 3928/6561 [00:13<00:07, 369.31it/s]"
     ]
    },
    {
     "name": "stderr",
     "output_type": "stream",
     "text": [
      "\r",
      "loading hamiltonians:  61%|██████    | 3970/6561 [00:13<00:06, 372.39it/s]"
     ]
    },
    {
     "name": "stderr",
     "output_type": "stream",
     "text": [
      "\r",
      "loading hamiltonians:  61%|██████    | 4017/6561 [00:14<00:06, 396.88it/s]"
     ]
    },
    {
     "name": "stderr",
     "output_type": "stream",
     "text": [
      "\r",
      "loading hamiltonians:  62%|██████▏   | 4059/6561 [00:14<00:06, 394.14it/s]"
     ]
    },
    {
     "name": "stderr",
     "output_type": "stream",
     "text": [
      "\r",
      "loading hamiltonians:  62%|██████▏   | 4100/6561 [00:14<00:06, 390.50it/s]"
     ]
    },
    {
     "name": "stderr",
     "output_type": "stream",
     "text": [
      "\r",
      "loading hamiltonians:  63%|██████▎   | 4146/6561 [00:14<00:05, 407.72it/s]"
     ]
    },
    {
     "name": "stderr",
     "output_type": "stream",
     "text": [
      "\r",
      "loading hamiltonians:  64%|██████▍   | 4188/6561 [00:14<00:05, 402.06it/s]"
     ]
    },
    {
     "name": "stderr",
     "output_type": "stream",
     "text": [
      "\r",
      "loading hamiltonians:  64%|██████▍   | 4229/6561 [00:14<00:05, 393.25it/s]"
     ]
    },
    {
     "name": "stderr",
     "output_type": "stream",
     "text": [
      "\r",
      "loading hamiltonians:  65%|██████▌   | 4271/6561 [00:14<00:05, 382.75it/s]"
     ]
    },
    {
     "name": "stderr",
     "output_type": "stream",
     "text": [
      "\r",
      "loading hamiltonians:  66%|██████▌   | 4314/6561 [00:14<00:05, 394.38it/s]"
     ]
    },
    {
     "name": "stderr",
     "output_type": "stream",
     "text": [
      "\r",
      "loading hamiltonians:  66%|██████▋   | 4354/6561 [00:14<00:05, 378.79it/s]"
     ]
    },
    {
     "name": "stderr",
     "output_type": "stream",
     "text": [
      "\r",
      "loading hamiltonians:  67%|██████▋   | 4393/6561 [00:15<00:05, 368.14it/s]"
     ]
    },
    {
     "name": "stderr",
     "output_type": "stream",
     "text": [
      "\r",
      "loading hamiltonians:  68%|██████▊   | 4438/6561 [00:15<00:05, 389.23it/s]"
     ]
    },
    {
     "name": "stderr",
     "output_type": "stream",
     "text": [
      "\r",
      "loading hamiltonians:  68%|██████▊   | 4478/6561 [00:17<00:33, 62.50it/s] "
     ]
    },
    {
     "name": "stderr",
     "output_type": "stream",
     "text": [
      "\r",
      "loading hamiltonians:  69%|██████▉   | 4515/6561 [00:17<00:24, 82.65it/s]"
     ]
    },
    {
     "name": "stderr",
     "output_type": "stream",
     "text": [
      "\r",
      "loading hamiltonians:  70%|██████▉   | 4560/6561 [00:17<00:18, 109.42it/s]"
     ]
    },
    {
     "name": "stderr",
     "output_type": "stream",
     "text": [
      "\r",
      "loading hamiltonians:  70%|███████   | 4597/6561 [00:17<00:14, 138.47it/s]"
     ]
    },
    {
     "name": "stderr",
     "output_type": "stream",
     "text": [
      "\r",
      "loading hamiltonians:  71%|███████   | 4633/6561 [00:17<00:11, 169.40it/s]"
     ]
    },
    {
     "name": "stderr",
     "output_type": "stream",
     "text": [
      "\r",
      "loading hamiltonians:  71%|███████   | 4669/6561 [00:17<00:09, 194.29it/s]"
     ]
    },
    {
     "name": "stderr",
     "output_type": "stream",
     "text": [
      "\r",
      "loading hamiltonians:  72%|███████▏  | 4703/6561 [00:17<00:08, 216.69it/s]"
     ]
    },
    {
     "name": "stderr",
     "output_type": "stream",
     "text": [
      "\r",
      "loading hamiltonians:  72%|███████▏  | 4742/6561 [00:17<00:07, 249.74it/s]"
     ]
    },
    {
     "name": "stderr",
     "output_type": "stream",
     "text": [
      "\r",
      "loading hamiltonians:  73%|███████▎  | 4777/6561 [00:17<00:06, 272.44it/s]"
     ]
    },
    {
     "name": "stderr",
     "output_type": "stream",
     "text": [
      "\r",
      "loading hamiltonians:  73%|███████▎  | 4815/6561 [00:17<00:05, 291.99it/s]"
     ]
    },
    {
     "name": "stderr",
     "output_type": "stream",
     "text": [
      "\r",
      "loading hamiltonians:  74%|███████▍  | 4859/6561 [00:18<00:05, 323.91it/s]"
     ]
    },
    {
     "name": "stderr",
     "output_type": "stream",
     "text": [
      "\r",
      "loading hamiltonians:  75%|███████▍  | 4897/6561 [00:18<00:05, 331.22it/s]"
     ]
    },
    {
     "name": "stderr",
     "output_type": "stream",
     "text": [
      "\r",
      "loading hamiltonians:  75%|███████▌  | 4935/6561 [00:18<00:04, 343.59it/s]"
     ]
    },
    {
     "name": "stderr",
     "output_type": "stream",
     "text": [
      "\r",
      "loading hamiltonians:  76%|███████▌  | 4982/6561 [00:18<00:04, 373.33it/s]"
     ]
    },
    {
     "name": "stderr",
     "output_type": "stream",
     "text": [
      "\r",
      "loading hamiltonians:  77%|███████▋  | 5022/6561 [00:18<00:04, 374.66it/s]"
     ]
    },
    {
     "name": "stderr",
     "output_type": "stream",
     "text": [
      "\r",
      "loading hamiltonians:  77%|███████▋  | 5062/6561 [00:18<00:04, 373.66it/s]"
     ]
    },
    {
     "name": "stderr",
     "output_type": "stream",
     "text": [
      "\r",
      "loading hamiltonians:  78%|███████▊  | 5107/6561 [00:18<00:03, 393.15it/s]"
     ]
    },
    {
     "name": "stderr",
     "output_type": "stream",
     "text": [
      "\r",
      "loading hamiltonians:  78%|███████▊  | 5148/6561 [00:18<00:03, 370.32it/s]"
     ]
    },
    {
     "name": "stderr",
     "output_type": "stream",
     "text": [
      "\r",
      "loading hamiltonians:  79%|███████▉  | 5187/6561 [00:18<00:03, 344.83it/s]"
     ]
    },
    {
     "name": "stderr",
     "output_type": "stream",
     "text": [
      "\r",
      "loading hamiltonians:  80%|███████▉  | 5233/6561 [00:19<00:03, 371.72it/s]"
     ]
    },
    {
     "name": "stderr",
     "output_type": "stream",
     "text": [
      "\r",
      "loading hamiltonians:  80%|████████  | 5272/6561 [00:19<00:03, 369.03it/s]"
     ]
    },
    {
     "name": "stderr",
     "output_type": "stream",
     "text": [
      "\r",
      "loading hamiltonians:  81%|████████  | 5310/6561 [00:19<00:03, 369.62it/s]"
     ]
    },
    {
     "name": "stderr",
     "output_type": "stream",
     "text": [
      "\r",
      "loading hamiltonians:  82%|████████▏ | 5355/6561 [00:19<00:03, 371.74it/s]"
     ]
    },
    {
     "name": "stderr",
     "output_type": "stream",
     "text": [
      "\r",
      "loading hamiltonians:  82%|████████▏ | 5400/6561 [00:19<00:02, 390.46it/s]"
     ]
    },
    {
     "name": "stderr",
     "output_type": "stream",
     "text": [
      "\r",
      "loading hamiltonians:  83%|████████▎ | 5440/6561 [00:19<00:02, 387.85it/s]"
     ]
    },
    {
     "name": "stderr",
     "output_type": "stream",
     "text": [
      "\r",
      "loading hamiltonians:  84%|████████▎ | 5480/6561 [00:19<00:02, 382.56it/s]"
     ]
    },
    {
     "name": "stderr",
     "output_type": "stream",
     "text": [
      "\r",
      "loading hamiltonians:  84%|████████▍ | 5525/6561 [00:19<00:02, 399.62it/s]"
     ]
    },
    {
     "name": "stderr",
     "output_type": "stream",
     "text": [
      "\r",
      "loading hamiltonians:  85%|████████▍ | 5566/6561 [00:19<00:02, 391.65it/s]"
     ]
    },
    {
     "name": "stderr",
     "output_type": "stream",
     "text": [
      "\r",
      "loading hamiltonians:  85%|████████▌ | 5606/6561 [00:20<00:02, 384.99it/s]"
     ]
    },
    {
     "name": "stderr",
     "output_type": "stream",
     "text": [
      "\r",
      "loading hamiltonians:  86%|████████▌ | 5654/6561 [00:20<00:02, 408.63it/s]"
     ]
    },
    {
     "name": "stderr",
     "output_type": "stream",
     "text": [
      "\r",
      "loading hamiltonians:  87%|████████▋ | 5696/6561 [00:20<00:02, 399.95it/s]"
     ]
    },
    {
     "name": "stderr",
     "output_type": "stream",
     "text": [
      "\r",
      "loading hamiltonians:  87%|████████▋ | 5737/6561 [00:20<00:02, 394.44it/s]"
     ]
    },
    {
     "name": "stderr",
     "output_type": "stream",
     "text": [
      "\r",
      "loading hamiltonians:  88%|████████▊ | 5777/6561 [00:20<00:02, 389.41it/s]"
     ]
    },
    {
     "name": "stderr",
     "output_type": "stream",
     "text": [
      "\r",
      "loading hamiltonians:  89%|████████▊ | 5817/6561 [00:22<00:14, 52.03it/s] "
     ]
    },
    {
     "name": "stderr",
     "output_type": "stream",
     "text": [
      "\r",
      "loading hamiltonians:  89%|████████▉ | 5855/6561 [00:22<00:10, 70.11it/s]"
     ]
    },
    {
     "name": "stderr",
     "output_type": "stream",
     "text": [
      "\r",
      "loading hamiltonians:  90%|████████▉ | 5900/6561 [00:23<00:07, 92.92it/s]"
     ]
    },
    {
     "name": "stderr",
     "output_type": "stream",
     "text": [
      "\r",
      "loading hamiltonians:  91%|█████████ | 5947/6561 [00:23<00:05, 122.27it/s]"
     ]
    },
    {
     "name": "stderr",
     "output_type": "stream",
     "text": [
      "\r",
      "loading hamiltonians:  91%|█████████ | 5985/6561 [00:23<00:03, 152.93it/s]"
     ]
    },
    {
     "name": "stderr",
     "output_type": "stream",
     "text": [
      "\r",
      "loading hamiltonians:  92%|█████████▏| 6023/6561 [00:23<00:02, 185.96it/s]"
     ]
    },
    {
     "name": "stderr",
     "output_type": "stream",
     "text": [
      "\r",
      "loading hamiltonians:  93%|█████████▎| 6070/6561 [00:23<00:02, 226.58it/s]"
     ]
    },
    {
     "name": "stderr",
     "output_type": "stream",
     "text": [
      "\r",
      "loading hamiltonians:  93%|█████████▎| 6110/6561 [00:23<00:01, 257.89it/s]"
     ]
    },
    {
     "name": "stderr",
     "output_type": "stream",
     "text": [
      "\r",
      "loading hamiltonians:  94%|█████████▎| 6150/6561 [00:23<00:01, 284.46it/s]"
     ]
    },
    {
     "name": "stderr",
     "output_type": "stream",
     "text": [
      "\r",
      "loading hamiltonians:  94%|█████████▍| 6193/6561 [00:23<00:01, 315.61it/s]"
     ]
    },
    {
     "name": "stderr",
     "output_type": "stream",
     "text": [
      "\r",
      "loading hamiltonians:  95%|█████████▌| 6233/6561 [00:23<00:01, 315.46it/s]"
     ]
    },
    {
     "name": "stderr",
     "output_type": "stream",
     "text": [
      "\r",
      "loading hamiltonians:  96%|█████████▌| 6271/6561 [00:23<00:00, 320.19it/s]"
     ]
    },
    {
     "name": "stderr",
     "output_type": "stream",
     "text": [
      "\r",
      "loading hamiltonians:  96%|█████████▌| 6308/6561 [00:24<00:00, 326.47it/s]"
     ]
    },
    {
     "name": "stderr",
     "output_type": "stream",
     "text": [
      "\r",
      "loading hamiltonians:  97%|█████████▋| 6344/6561 [00:24<00:00, 316.81it/s]"
     ]
    },
    {
     "name": "stderr",
     "output_type": "stream",
     "text": [
      "\r",
      "loading hamiltonians:  97%|█████████▋| 6380/6561 [00:24<00:00, 315.64it/s]"
     ]
    },
    {
     "name": "stderr",
     "output_type": "stream",
     "text": [
      "\r",
      "loading hamiltonians:  98%|█████████▊| 6425/6561 [00:24<00:00, 345.71it/s]"
     ]
    },
    {
     "name": "stderr",
     "output_type": "stream",
     "text": [
      "\r",
      "loading hamiltonians:  98%|█████████▊| 6462/6561 [00:24<00:00, 349.40it/s]"
     ]
    },
    {
     "name": "stderr",
     "output_type": "stream",
     "text": [
      "\r",
      "loading hamiltonians:  99%|█████████▉| 6500/6561 [00:24<00:00, 349.96it/s]"
     ]
    },
    {
     "name": "stderr",
     "output_type": "stream",
     "text": [
      "\r",
      "loading hamiltonians: 100%|█████████▉| 6545/6561 [00:24<00:00, 374.59it/s]"
     ]
    },
    {
     "name": "stderr",
     "output_type": "stream",
     "text": [
      "\r",
      "loading hamiltonians: 100%|██████████| 6561/6561 [00:24<00:00, 264.72it/s]"
     ]
    },
    {
     "name": "stderr",
     "output_type": "stream",
     "text": [
      "\n"
     ]
    },
    {
     "name": "stdout",
     "output_type": "stream",
     "text": [
      "shape of raw_data:  (918540, 144)\n",
      "len list_of_hamiltonians:  6561\n"
     ]
    },
    {
     "name": "stdout",
     "output_type": "stream",
     "text": [
      "CPU times: user 2min 39s, sys: 14.3 s, total: 2min 54s\n",
      "Wall time: 2min 55s\n"
     ]
    }
   ],
   "source": [
    "%%time\n",
    "list_of_hamiltonians, raw_data = load_hamiltonians(grid_folder)\n",
    "print(\"shape of raw_data: \", raw_data.shape)\n",
    "print(\"len list_of_hamiltonians: \", len(list_of_hamiltonians))\n",
    "\n",
    "dataframe = make_dataframe(raw_data, list_of_hamiltonians, allowed_windings = allowed_windings, epsilon = epsilon, \\\n",
    "                           csv_name = csv_name, to_csv = to_csv)"
   ]
  },
  {
   "cell_type": "code",
   "execution_count": 5,
   "metadata": {
    "papermill": {
     "duration": 0.12549,
     "end_time": "2020-03-04T01:43:16.936197",
     "exception": false,
     "start_time": "2020-03-04T01:43:16.810707",
     "status": "completed"
    },
    "tags": []
   },
   "outputs": [
    {
     "name": "stdout",
     "output_type": "stream",
     "text": [
      "<class 'pandas.core.frame.DataFrame'>\n",
      "RangeIndex: 918540 entries, 0 to 918539\n",
      "Columns: 148 entries, id to feat139\n",
      "dtypes: float64(3), int32(1), int64(2), object(142)\n",
      "memory usage: 1.0+ GB\n"
     ]
    },
    {
     "data": {
      "text/html": [
       "<div>\n",
       "<style scoped>\n",
       "    .dataframe tbody tr th:only-of-type {\n",
       "        vertical-align: middle;\n",
       "    }\n",
       "\n",
       "    .dataframe tbody tr th {\n",
       "        vertical-align: top;\n",
       "    }\n",
       "\n",
       "    .dataframe thead th {\n",
       "        text-align: right;\n",
       "    }\n",
       "</style>\n",
       "<table border=\"1\" class=\"dataframe\">\n",
       "  <thead>\n",
       "    <tr style=\"text-align: right;\">\n",
       "      <th></th>\n",
       "      <th>id</th>\n",
       "      <th>path</th>\n",
       "      <th>t1</th>\n",
       "      <th>t2</th>\n",
       "      <th>winding</th>\n",
       "      <th>phase</th>\n",
       "      <th>pred_phase</th>\n",
       "      <th>type_of</th>\n",
       "      <th>feat0</th>\n",
       "      <th>feat1</th>\n",
       "      <th>...</th>\n",
       "      <th>feat130</th>\n",
       "      <th>feat131</th>\n",
       "      <th>feat132</th>\n",
       "      <th>feat133</th>\n",
       "      <th>feat134</th>\n",
       "      <th>feat135</th>\n",
       "      <th>feat136</th>\n",
       "      <th>feat137</th>\n",
       "      <th>feat138</th>\n",
       "      <th>feat139</th>\n",
       "    </tr>\n",
       "  </thead>\n",
       "  <tbody>\n",
       "    <tr>\n",
       "      <th>0</th>\n",
       "      <td>0</td>\n",
       "      <td>H_-2_-2_0.501338.dat</td>\n",
       "      <td>-2.0</td>\n",
       "      <td>-2.0</td>\n",
       "      <td>0.501338</td>\n",
       "      <td>999</td>\n",
       "      <td>666</td>\n",
       "      <td>test</td>\n",
       "      <td>0.084515</td>\n",
       "      <td>0.084515</td>\n",
       "      <td>...</td>\n",
       "      <td>0.084515</td>\n",
       "      <td>0.084515</td>\n",
       "      <td>0.084515</td>\n",
       "      <td>0.084515</td>\n",
       "      <td>0.084515</td>\n",
       "      <td>0.084515</td>\n",
       "      <td>0.084515</td>\n",
       "      <td>0.084515</td>\n",
       "      <td>0.084515</td>\n",
       "      <td>0.084515</td>\n",
       "    </tr>\n",
       "    <tr>\n",
       "      <th>1</th>\n",
       "      <td>0</td>\n",
       "      <td>H_-2_-2_0.501338.dat</td>\n",
       "      <td>-2.0</td>\n",
       "      <td>-2.0</td>\n",
       "      <td>0.501338</td>\n",
       "      <td>999</td>\n",
       "      <td>666</td>\n",
       "      <td>test</td>\n",
       "      <td>0.119523</td>\n",
       "      <td>0.119403</td>\n",
       "      <td>...</td>\n",
       "      <td>0.107686</td>\n",
       "      <td>0.105251</td>\n",
       "      <td>0.111901</td>\n",
       "      <td>0.109905</td>\n",
       "      <td>0.115216</td>\n",
       "      <td>0.113673</td>\n",
       "      <td>0.117602</td>\n",
       "      <td>0.116526</td>\n",
       "      <td>0.119042</td>\n",
       "      <td>0.118441</td>\n",
       "    </tr>\n",
       "    <tr>\n",
       "      <th>2</th>\n",
       "      <td>0</td>\n",
       "      <td>H_-2_-2_0.501338.dat</td>\n",
       "      <td>-2.0</td>\n",
       "      <td>-2.0</td>\n",
       "      <td>0.501338</td>\n",
       "      <td>999</td>\n",
       "      <td>666</td>\n",
       "      <td>test</td>\n",
       "      <td>0.119523</td>\n",
       "      <td>0.119042</td>\n",
       "      <td>...</td>\n",
       "      <td>0.074521</td>\n",
       "      <td>0.065845</td>\n",
       "      <td>0.090009</td>\n",
       "      <td>0.082598</td>\n",
       "      <td>0.102604</td>\n",
       "      <td>0.096696</td>\n",
       "      <td>0.111901</td>\n",
       "      <td>0.107686</td>\n",
       "      <td>0.117602</td>\n",
       "      <td>0.115216</td>\n",
       "    </tr>\n",
       "    <tr>\n",
       "      <th>3</th>\n",
       "      <td>0</td>\n",
       "      <td>H_-2_-2_0.501338.dat</td>\n",
       "      <td>-2.0</td>\n",
       "      <td>-2.0</td>\n",
       "      <td>0.501338</td>\n",
       "      <td>999</td>\n",
       "      <td>666</td>\n",
       "      <td>test</td>\n",
       "      <td>-0.084515</td>\n",
       "      <td>0.084515</td>\n",
       "      <td>...</td>\n",
       "      <td>-0.084515</td>\n",
       "      <td>0.084515</td>\n",
       "      <td>-0.084515</td>\n",
       "      <td>0.084515</td>\n",
       "      <td>-0.084515</td>\n",
       "      <td>0.084515</td>\n",
       "      <td>-0.084515</td>\n",
       "      <td>0.084515</td>\n",
       "      <td>-0.084515</td>\n",
       "      <td>0.084515</td>\n",
       "    </tr>\n",
       "    <tr>\n",
       "      <th>4</th>\n",
       "      <td>0</td>\n",
       "      <td>H_-2_-2_0.501338.dat</td>\n",
       "      <td>-2.0</td>\n",
       "      <td>-2.0</td>\n",
       "      <td>0.501338</td>\n",
       "      <td>999</td>\n",
       "      <td>666</td>\n",
       "      <td>test</td>\n",
       "      <td>-0.002030</td>\n",
       "      <td>-0.007389</td>\n",
       "      <td>...</td>\n",
       "      <td>-0.053680</td>\n",
       "      <td>-0.058417</td>\n",
       "      <td>-0.043892</td>\n",
       "      <td>-0.048835</td>\n",
       "      <td>-0.033750</td>\n",
       "      <td>-0.038860</td>\n",
       "      <td>-0.023336</td>\n",
       "      <td>-0.028571</td>\n",
       "      <td>-0.012734</td>\n",
       "      <td>-0.018053</td>\n",
       "    </tr>\n",
       "  </tbody>\n",
       "</table>\n",
       "<p>5 rows × 148 columns</p>\n",
       "</div>"
      ],
      "text/plain": [
       "   id                  path   t1   t2   winding  phase  pred_phase type_of  \\\n",
       "0   0  H_-2_-2_0.501338.dat -2.0 -2.0  0.501338    999         666    test   \n",
       "1   0  H_-2_-2_0.501338.dat -2.0 -2.0  0.501338    999         666    test   \n",
       "2   0  H_-2_-2_0.501338.dat -2.0 -2.0  0.501338    999         666    test   \n",
       "3   0  H_-2_-2_0.501338.dat -2.0 -2.0  0.501338    999         666    test   \n",
       "4   0  H_-2_-2_0.501338.dat -2.0 -2.0  0.501338    999         666    test   \n",
       "\n",
       "       feat0      feat1  ...    feat130    feat131    feat132    feat133  \\\n",
       "0   0.084515   0.084515  ...   0.084515   0.084515   0.084515   0.084515   \n",
       "1   0.119523   0.119403  ...   0.107686   0.105251   0.111901   0.109905   \n",
       "2   0.119523   0.119042  ...   0.074521   0.065845   0.090009   0.082598   \n",
       "3  -0.084515   0.084515  ...  -0.084515   0.084515  -0.084515   0.084515   \n",
       "4  -0.002030  -0.007389  ...  -0.053680  -0.058417  -0.043892  -0.048835   \n",
       "\n",
       "     feat134    feat135    feat136    feat137    feat138    feat139  \n",
       "0   0.084515   0.084515   0.084515   0.084515   0.084515   0.084515  \n",
       "1   0.115216   0.113673   0.117602   0.116526   0.119042   0.118441  \n",
       "2   0.102604   0.096696   0.111901   0.107686   0.117602   0.115216  \n",
       "3  -0.084515   0.084515  -0.084515   0.084515  -0.084515   0.084515  \n",
       "4  -0.033750  -0.038860  -0.023336  -0.028571  -0.012734  -0.018053  \n",
       "\n",
       "[5 rows x 148 columns]"
      ]
     },
     "execution_count": 5,
     "metadata": {},
     "output_type": "execute_result"
    }
   ],
   "source": [
    "dataframe.info()\n",
    "dataframe.head()\n",
    "#dataframe.tail()"
   ]
  },
  {
   "cell_type": "markdown",
   "metadata": {
    "papermill": {
     "duration": 0.064573,
     "end_time": "2020-03-04T01:43:17.069187",
     "exception": false,
     "start_time": "2020-03-04T01:43:17.004614",
     "status": "completed"
    },
    "tags": []
   },
   "source": [
    "#### Checking t values are row-major sorted"
   ]
  },
  {
   "cell_type": "code",
   "execution_count": 6,
   "metadata": {
    "papermill": {
     "duration": 0.076089,
     "end_time": "2020-03-04T01:43:17.210207",
     "exception": false,
     "start_time": "2020-03-04T01:43:17.134118",
     "status": "completed"
    },
    "tags": []
   },
   "outputs": [
    {
     "name": "stdout",
     "output_type": "stream",
     "text": [
      "t_array:\n",
      " [[-2. -2.]\n",
      " [-2. -2.]\n",
      " [-2. -2.]\n",
      " ...\n",
      " [ 2.  2.]\n",
      " [ 2.  2.]\n",
      " [ 2.  2.]]\n"
     ]
    }
   ],
   "source": [
    "#np.set_printoptions(threshold=np.inf)\n",
    "t_array = dataframe[[\"t1\", \"t2\"]].values\n",
    "print(\"t_array:\\n\", t_array)\n",
    "np.set_printoptions()"
   ]
  },
  {
   "cell_type": "markdown",
   "metadata": {
    "papermill": {
     "duration": 0.047314,
     "end_time": "2020-03-04T01:43:17.309079",
     "exception": false,
     "start_time": "2020-03-04T01:43:17.261765",
     "status": "completed"
    },
    "tags": []
   },
   "source": [
    "#### Making a grid"
   ]
  },
  {
   "cell_type": "code",
   "execution_count": 7,
   "metadata": {
    "papermill": {
     "duration": 0.069782,
     "end_time": "2020-03-04T01:43:17.424453",
     "exception": false,
     "start_time": "2020-03-04T01:43:17.354671",
     "status": "completed"
    },
    "tags": []
   },
   "outputs": [
    {
     "name": "stdout",
     "output_type": "stream",
     "text": [
      "xx: \n",
      " [-2. -2. -2. ...  2.  2.  2.]\n",
      "yy: \n",
      " [-2. -2. -2. ...  2.  2.  2.]\n"
     ]
    }
   ],
   "source": [
    "xx = dataframe.t2.values\n",
    "yy = dataframe.t1.values\n",
    "print(\"xx: \\n\", xx)\n",
    "print(\"yy: \\n\", yy)"
   ]
  },
  {
   "cell_type": "markdown",
   "metadata": {
    "papermill": {
     "duration": 0.04748,
     "end_time": "2020-03-04T01:43:17.525658",
     "exception": false,
     "start_time": "2020-03-04T01:43:17.478178",
     "status": "completed"
    },
    "tags": []
   },
   "source": [
    "#### Train/test "
   ]
  },
  {
   "cell_type": "code",
   "execution_count": 8,
   "metadata": {
    "papermill": {
     "duration": 7.271561,
     "end_time": "2020-03-04T01:43:24.845030",
     "exception": false,
     "start_time": "2020-03-04T01:43:17.573469",
     "status": "completed"
    },
    "tags": []
   },
   "outputs": [
    {
     "name": "stdout",
     "output_type": "stream",
     "text": [
      "% train:  0.9358329522938577\n",
      "% test:  0.06416704770614236\n",
      "% train + test:  1.0\n"
     ]
    }
   ],
   "source": [
    "n_total = len(dataframe)\n",
    "n_train = len(dataframe[dataframe.type_of == \"train\"])\n",
    "n_test = len(dataframe[dataframe.type_of == \"test\"])\n",
    "print(\"% train: \", n_train/n_total)\n",
    "print(\"% test: \", n_test/n_total)\n",
    "print(\"% train + test: \", (n_train+n_test)/n_total)"
   ]
  },
  {
   "cell_type": "code",
   "execution_count": 9,
   "metadata": {
    "papermill": {
     "duration": 4.55883,
     "end_time": "2020-03-04T01:43:29.473051",
     "exception": false,
     "start_time": "2020-03-04T01:43:24.914221",
     "status": "completed"
    },
    "tags": []
   },
   "outputs": [
    {
     "data": {
      "text/html": [
       "<div>\n",
       "<style scoped>\n",
       "    .dataframe tbody tr th:only-of-type {\n",
       "        vertical-align: middle;\n",
       "    }\n",
       "\n",
       "    .dataframe tbody tr th {\n",
       "        vertical-align: top;\n",
       "    }\n",
       "\n",
       "    .dataframe thead th {\n",
       "        text-align: right;\n",
       "    }\n",
       "</style>\n",
       "<table border=\"1\" class=\"dataframe\">\n",
       "  <thead>\n",
       "    <tr style=\"text-align: right;\">\n",
       "      <th></th>\n",
       "      <th>id</th>\n",
       "      <th>path</th>\n",
       "      <th>t1</th>\n",
       "      <th>t2</th>\n",
       "      <th>winding</th>\n",
       "      <th>phase</th>\n",
       "      <th>pred_phase</th>\n",
       "      <th>type_of</th>\n",
       "      <th>feat0</th>\n",
       "      <th>feat1</th>\n",
       "      <th>...</th>\n",
       "      <th>feat130</th>\n",
       "      <th>feat131</th>\n",
       "      <th>feat132</th>\n",
       "      <th>feat133</th>\n",
       "      <th>feat134</th>\n",
       "      <th>feat135</th>\n",
       "      <th>feat136</th>\n",
       "      <th>feat137</th>\n",
       "      <th>feat138</th>\n",
       "      <th>feat139</th>\n",
       "    </tr>\n",
       "  </thead>\n",
       "  <tbody>\n",
       "    <tr>\n",
       "      <th>560</th>\n",
       "      <td>4</td>\n",
       "      <td>H_-2_-1.8_-0.00976312.dat</td>\n",
       "      <td>-2.0</td>\n",
       "      <td>-1.80</td>\n",
       "      <td>-0.009763</td>\n",
       "      <td>0</td>\n",
       "      <td>666</td>\n",
       "      <td>train</td>\n",
       "      <td>0.084515</td>\n",
       "      <td>-0.084515</td>\n",
       "      <td>...</td>\n",
       "      <td>0.084515</td>\n",
       "      <td>-0.084515</td>\n",
       "      <td>0.084515</td>\n",
       "      <td>-0.084515</td>\n",
       "      <td>0.084515</td>\n",
       "      <td>-0.084515</td>\n",
       "      <td>0.084515</td>\n",
       "      <td>-0.084515</td>\n",
       "      <td>0.084515</td>\n",
       "      <td>-0.084515</td>\n",
       "    </tr>\n",
       "    <tr>\n",
       "      <th>561</th>\n",
       "      <td>4</td>\n",
       "      <td>H_-2_-1.8_-0.00976312.dat</td>\n",
       "      <td>-2.0</td>\n",
       "      <td>-1.80</td>\n",
       "      <td>-0.009763</td>\n",
       "      <td>0</td>\n",
       "      <td>666</td>\n",
       "      <td>train</td>\n",
       "      <td>0.119523</td>\n",
       "      <td>-0.119415</td>\n",
       "      <td>...</td>\n",
       "      <td>0.107686</td>\n",
       "      <td>-0.105385</td>\n",
       "      <td>0.111901</td>\n",
       "      <td>-0.110015</td>\n",
       "      <td>0.115216</td>\n",
       "      <td>-0.113760</td>\n",
       "      <td>0.117602</td>\n",
       "      <td>-0.116589</td>\n",
       "      <td>0.119042</td>\n",
       "      <td>-0.118479</td>\n",
       "    </tr>\n",
       "    <tr>\n",
       "      <th>562</th>\n",
       "      <td>4</td>\n",
       "      <td>H_-2_-1.8_-0.00976312.dat</td>\n",
       "      <td>-2.0</td>\n",
       "      <td>-1.80</td>\n",
       "      <td>-0.009763</td>\n",
       "      <td>0</td>\n",
       "      <td>666</td>\n",
       "      <td>train</td>\n",
       "      <td>0.119523</td>\n",
       "      <td>-0.119091</td>\n",
       "      <td>...</td>\n",
       "      <td>0.074521</td>\n",
       "      <td>-0.066317</td>\n",
       "      <td>0.090009</td>\n",
       "      <td>-0.083006</td>\n",
       "      <td>0.102604</td>\n",
       "      <td>-0.097028</td>\n",
       "      <td>0.111901</td>\n",
       "      <td>-0.107931</td>\n",
       "      <td>0.117602</td>\n",
       "      <td>-0.115365</td>\n",
       "    </tr>\n",
       "    <tr>\n",
       "      <th>563</th>\n",
       "      <td>4</td>\n",
       "      <td>H_-2_-1.8_-0.00976312.dat</td>\n",
       "      <td>-2.0</td>\n",
       "      <td>-1.80</td>\n",
       "      <td>-0.009763</td>\n",
       "      <td>0</td>\n",
       "      <td>666</td>\n",
       "      <td>train</td>\n",
       "      <td>-0.119523</td>\n",
       "      <td>0.118553</td>\n",
       "      <td>...</td>\n",
       "      <td>-0.026596</td>\n",
       "      <td>0.011562</td>\n",
       "      <td>-0.056638</td>\n",
       "      <td>0.042794</td>\n",
       "      <td>-0.082598</td>\n",
       "      <td>0.070941</td>\n",
       "      <td>-0.102604</td>\n",
       "      <td>0.093976</td>\n",
       "      <td>-0.115216</td>\n",
       "      <td>0.110237</td>\n",
       "    </tr>\n",
       "    <tr>\n",
       "      <th>564</th>\n",
       "      <td>4</td>\n",
       "      <td>H_-2_-1.8_-0.00976312.dat</td>\n",
       "      <td>-2.0</td>\n",
       "      <td>-1.80</td>\n",
       "      <td>-0.009763</td>\n",
       "      <td>0</td>\n",
       "      <td>666</td>\n",
       "      <td>train</td>\n",
       "      <td>0.084515</td>\n",
       "      <td>0.084515</td>\n",
       "      <td>...</td>\n",
       "      <td>0.084515</td>\n",
       "      <td>0.084515</td>\n",
       "      <td>0.084515</td>\n",
       "      <td>0.084515</td>\n",
       "      <td>0.084515</td>\n",
       "      <td>0.084515</td>\n",
       "      <td>0.084515</td>\n",
       "      <td>0.084515</td>\n",
       "      <td>0.084515</td>\n",
       "      <td>0.084515</td>\n",
       "    </tr>\n",
       "    <tr>\n",
       "      <th>...</th>\n",
       "      <td>...</td>\n",
       "      <td>...</td>\n",
       "      <td>...</td>\n",
       "      <td>...</td>\n",
       "      <td>...</td>\n",
       "      <td>...</td>\n",
       "      <td>...</td>\n",
       "      <td>...</td>\n",
       "      <td>...</td>\n",
       "      <td>...</td>\n",
       "      <td>...</td>\n",
       "      <td>...</td>\n",
       "      <td>...</td>\n",
       "      <td>...</td>\n",
       "      <td>...</td>\n",
       "      <td>...</td>\n",
       "      <td>...</td>\n",
       "      <td>...</td>\n",
       "      <td>...</td>\n",
       "      <td>...</td>\n",
       "      <td>...</td>\n",
       "    </tr>\n",
       "    <tr>\n",
       "      <th>1555</th>\n",
       "      <td>11</td>\n",
       "      <td>H_-2_-1.45_-0.00285944.dat</td>\n",
       "      <td>-2.0</td>\n",
       "      <td>-1.45</td>\n",
       "      <td>-0.002859</td>\n",
       "      <td>0</td>\n",
       "      <td>666</td>\n",
       "      <td>train</td>\n",
       "      <td>-0.000131</td>\n",
       "      <td>-0.031131</td>\n",
       "      <td>...</td>\n",
       "      <td>0.000131</td>\n",
       "      <td>0.031131</td>\n",
       "      <td>-0.070148</td>\n",
       "      <td>-0.042643</td>\n",
       "      <td>-0.113632</td>\n",
       "      <td>-0.100129</td>\n",
       "      <td>-0.113713</td>\n",
       "      <td>-0.119370</td>\n",
       "      <td>-0.070360</td>\n",
       "      <td>-0.093015</td>\n",
       "    </tr>\n",
       "    <tr>\n",
       "      <th>1556</th>\n",
       "      <td>11</td>\n",
       "      <td>H_-2_-1.45_-0.00285944.dat</td>\n",
       "      <td>-2.0</td>\n",
       "      <td>-1.45</td>\n",
       "      <td>-0.002859</td>\n",
       "      <td>0</td>\n",
       "      <td>666</td>\n",
       "      <td>train</td>\n",
       "      <td>0.119523</td>\n",
       "      <td>0.111340</td>\n",
       "      <td>...</td>\n",
       "      <td>-0.026596</td>\n",
       "      <td>0.017599</td>\n",
       "      <td>-0.107686</td>\n",
       "      <td>-0.081456</td>\n",
       "      <td>-0.107686</td>\n",
       "      <td>-0.119172</td>\n",
       "      <td>-0.026596</td>\n",
       "      <td>-0.067150</td>\n",
       "      <td>0.074521</td>\n",
       "      <td>0.035438</td>\n",
       "    </tr>\n",
       "    <tr>\n",
       "      <th>1557</th>\n",
       "      <td>11</td>\n",
       "      <td>H_-2_-1.45_-0.00285944.dat</td>\n",
       "      <td>-2.0</td>\n",
       "      <td>-1.45</td>\n",
       "      <td>-0.002859</td>\n",
       "      <td>0</td>\n",
       "      <td>666</td>\n",
       "      <td>train</td>\n",
       "      <td>0.119523</td>\n",
       "      <td>0.114203</td>\n",
       "      <td>...</td>\n",
       "      <td>-0.107677</td>\n",
       "      <td>-0.087595</td>\n",
       "      <td>-0.115221</td>\n",
       "      <td>-0.119468</td>\n",
       "      <td>-0.065863</td>\n",
       "      <td>-0.092342</td>\n",
       "      <td>0.016022</td>\n",
       "      <td>-0.019611</td>\n",
       "      <td>0.089995</td>\n",
       "      <td>0.062804</td>\n",
       "    </tr>\n",
       "    <tr>\n",
       "      <th>1558</th>\n",
       "      <td>11</td>\n",
       "      <td>H_-2_-1.45_-0.00285944.dat</td>\n",
       "      <td>-2.0</td>\n",
       "      <td>-1.45</td>\n",
       "      <td>-0.002859</td>\n",
       "      <td>0</td>\n",
       "      <td>666</td>\n",
       "      <td>train</td>\n",
       "      <td>-0.000858</td>\n",
       "      <td>0.034419</td>\n",
       "      <td>...</td>\n",
       "      <td>-0.051085</td>\n",
       "      <td>-0.080672</td>\n",
       "      <td>0.032623</td>\n",
       "      <td>-0.002728</td>\n",
       "      <td>0.100220</td>\n",
       "      <td>0.076564</td>\n",
       "      <td>0.118323</td>\n",
       "      <td>0.118044</td>\n",
       "      <td>0.077991</td>\n",
       "      <td>0.101227</td>\n",
       "    </tr>\n",
       "    <tr>\n",
       "      <th>1559</th>\n",
       "      <td>11</td>\n",
       "      <td>H_-2_-1.45_-0.00285944.dat</td>\n",
       "      <td>-2.0</td>\n",
       "      <td>-1.45</td>\n",
       "      <td>-0.002859</td>\n",
       "      <td>0</td>\n",
       "      <td>666</td>\n",
       "      <td>train</td>\n",
       "      <td>-0.119523</td>\n",
       "      <td>-0.109747</td>\n",
       "      <td>...</td>\n",
       "      <td>-0.026499</td>\n",
       "      <td>-0.070577</td>\n",
       "      <td>0.082670</td>\n",
       "      <td>0.041623</td>\n",
       "      <td>0.117584</td>\n",
       "      <td>0.116437</td>\n",
       "      <td>0.046884</td>\n",
       "      <td>0.086666</td>\n",
       "      <td>-0.065928</td>\n",
       "      <td>-0.020948</td>\n",
       "    </tr>\n",
       "  </tbody>\n",
       "</table>\n",
       "<p>1000 rows × 148 columns</p>\n",
       "</div>"
      ],
      "text/plain": [
       "      id                        path   t1    t2   winding  phase  pred_phase  \\\n",
       "560    4   H_-2_-1.8_-0.00976312.dat -2.0 -1.80 -0.009763      0         666   \n",
       "561    4   H_-2_-1.8_-0.00976312.dat -2.0 -1.80 -0.009763      0         666   \n",
       "562    4   H_-2_-1.8_-0.00976312.dat -2.0 -1.80 -0.009763      0         666   \n",
       "563    4   H_-2_-1.8_-0.00976312.dat -2.0 -1.80 -0.009763      0         666   \n",
       "564    4   H_-2_-1.8_-0.00976312.dat -2.0 -1.80 -0.009763      0         666   \n",
       "...   ..                         ...  ...   ...       ...    ...         ...   \n",
       "1555  11  H_-2_-1.45_-0.00285944.dat -2.0 -1.45 -0.002859      0         666   \n",
       "1556  11  H_-2_-1.45_-0.00285944.dat -2.0 -1.45 -0.002859      0         666   \n",
       "1557  11  H_-2_-1.45_-0.00285944.dat -2.0 -1.45 -0.002859      0         666   \n",
       "1558  11  H_-2_-1.45_-0.00285944.dat -2.0 -1.45 -0.002859      0         666   \n",
       "1559  11  H_-2_-1.45_-0.00285944.dat -2.0 -1.45 -0.002859      0         666   \n",
       "\n",
       "     type_of      feat0      feat1  ...    feat130    feat131    feat132  \\\n",
       "560    train   0.084515  -0.084515  ...   0.084515  -0.084515   0.084515   \n",
       "561    train   0.119523  -0.119415  ...   0.107686  -0.105385   0.111901   \n",
       "562    train   0.119523  -0.119091  ...   0.074521  -0.066317   0.090009   \n",
       "563    train  -0.119523   0.118553  ...  -0.026596   0.011562  -0.056638   \n",
       "564    train   0.084515   0.084515  ...   0.084515   0.084515   0.084515   \n",
       "...      ...        ...        ...  ...        ...        ...        ...   \n",
       "1555   train  -0.000131  -0.031131  ...   0.000131   0.031131  -0.070148   \n",
       "1556   train   0.119523   0.111340  ...  -0.026596   0.017599  -0.107686   \n",
       "1557   train   0.119523   0.114203  ...  -0.107677  -0.087595  -0.115221   \n",
       "1558   train  -0.000858   0.034419  ...  -0.051085  -0.080672   0.032623   \n",
       "1559   train  -0.119523  -0.109747  ...  -0.026499  -0.070577   0.082670   \n",
       "\n",
       "        feat133    feat134    feat135    feat136    feat137    feat138  \\\n",
       "560   -0.084515   0.084515  -0.084515   0.084515  -0.084515   0.084515   \n",
       "561   -0.110015   0.115216  -0.113760   0.117602  -0.116589   0.119042   \n",
       "562   -0.083006   0.102604  -0.097028   0.111901  -0.107931   0.117602   \n",
       "563    0.042794  -0.082598   0.070941  -0.102604   0.093976  -0.115216   \n",
       "564    0.084515   0.084515   0.084515   0.084515   0.084515   0.084515   \n",
       "...         ...        ...        ...        ...        ...        ...   \n",
       "1555  -0.042643  -0.113632  -0.100129  -0.113713  -0.119370  -0.070360   \n",
       "1556  -0.081456  -0.107686  -0.119172  -0.026596  -0.067150   0.074521   \n",
       "1557  -0.119468  -0.065863  -0.092342   0.016022  -0.019611   0.089995   \n",
       "1558  -0.002728   0.100220   0.076564   0.118323   0.118044   0.077991   \n",
       "1559   0.041623   0.117584   0.116437   0.046884   0.086666  -0.065928   \n",
       "\n",
       "        feat139  \n",
       "560   -0.084515  \n",
       "561   -0.118479  \n",
       "562   -0.115365  \n",
       "563    0.110237  \n",
       "564    0.084515  \n",
       "...         ...  \n",
       "1555  -0.093015  \n",
       "1556   0.035438  \n",
       "1557   0.062804  \n",
       "1558   0.101227  \n",
       "1559  -0.020948  \n",
       "\n",
       "[1000 rows x 148 columns]"
      ]
     },
     "execution_count": 9,
     "metadata": {},
     "output_type": "execute_result"
    }
   ],
   "source": [
    "# A view of train data\n",
    "dataframe[dataframe.type_of == \"train\"].head(1000)"
   ]
  },
  {
   "cell_type": "code",
   "execution_count": 10,
   "metadata": {
    "papermill": {
     "duration": 0.379092,
     "end_time": "2020-03-04T01:43:29.920805",
     "exception": false,
     "start_time": "2020-03-04T01:43:29.541713",
     "status": "completed"
    },
    "tags": []
   },
   "outputs": [
    {
     "data": {
      "text/html": [
       "<div>\n",
       "<style scoped>\n",
       "    .dataframe tbody tr th:only-of-type {\n",
       "        vertical-align: middle;\n",
       "    }\n",
       "\n",
       "    .dataframe tbody tr th {\n",
       "        vertical-align: top;\n",
       "    }\n",
       "\n",
       "    .dataframe thead th {\n",
       "        text-align: right;\n",
       "    }\n",
       "</style>\n",
       "<table border=\"1\" class=\"dataframe\">\n",
       "  <thead>\n",
       "    <tr style=\"text-align: right;\">\n",
       "      <th></th>\n",
       "      <th>id</th>\n",
       "      <th>path</th>\n",
       "      <th>t1</th>\n",
       "      <th>t2</th>\n",
       "      <th>winding</th>\n",
       "      <th>phase</th>\n",
       "      <th>pred_phase</th>\n",
       "      <th>type_of</th>\n",
       "      <th>feat0</th>\n",
       "      <th>feat1</th>\n",
       "      <th>...</th>\n",
       "      <th>feat130</th>\n",
       "      <th>feat131</th>\n",
       "      <th>feat132</th>\n",
       "      <th>feat133</th>\n",
       "      <th>feat134</th>\n",
       "      <th>feat135</th>\n",
       "      <th>feat136</th>\n",
       "      <th>feat137</th>\n",
       "      <th>feat138</th>\n",
       "      <th>feat139</th>\n",
       "    </tr>\n",
       "  </thead>\n",
       "  <tbody>\n",
       "    <tr>\n",
       "      <th>0</th>\n",
       "      <td>0</td>\n",
       "      <td>H_-2_-2_0.501338.dat</td>\n",
       "      <td>-2.00</td>\n",
       "      <td>-2.0</td>\n",
       "      <td>0.501338</td>\n",
       "      <td>999</td>\n",
       "      <td>666</td>\n",
       "      <td>test</td>\n",
       "      <td>0.084515</td>\n",
       "      <td>0.084515</td>\n",
       "      <td>...</td>\n",
       "      <td>0.084515</td>\n",
       "      <td>0.084515</td>\n",
       "      <td>0.084515</td>\n",
       "      <td>0.084515</td>\n",
       "      <td>0.084515</td>\n",
       "      <td>0.084515</td>\n",
       "      <td>0.084515</td>\n",
       "      <td>0.084515</td>\n",
       "      <td>0.084515</td>\n",
       "      <td>0.084515</td>\n",
       "    </tr>\n",
       "    <tr>\n",
       "      <th>1</th>\n",
       "      <td>0</td>\n",
       "      <td>H_-2_-2_0.501338.dat</td>\n",
       "      <td>-2.00</td>\n",
       "      <td>-2.0</td>\n",
       "      <td>0.501338</td>\n",
       "      <td>999</td>\n",
       "      <td>666</td>\n",
       "      <td>test</td>\n",
       "      <td>0.119523</td>\n",
       "      <td>0.119403</td>\n",
       "      <td>...</td>\n",
       "      <td>0.107686</td>\n",
       "      <td>0.105251</td>\n",
       "      <td>0.111901</td>\n",
       "      <td>0.109905</td>\n",
       "      <td>0.115216</td>\n",
       "      <td>0.113673</td>\n",
       "      <td>0.117602</td>\n",
       "      <td>0.116526</td>\n",
       "      <td>0.119042</td>\n",
       "      <td>0.118441</td>\n",
       "    </tr>\n",
       "    <tr>\n",
       "      <th>2</th>\n",
       "      <td>0</td>\n",
       "      <td>H_-2_-2_0.501338.dat</td>\n",
       "      <td>-2.00</td>\n",
       "      <td>-2.0</td>\n",
       "      <td>0.501338</td>\n",
       "      <td>999</td>\n",
       "      <td>666</td>\n",
       "      <td>test</td>\n",
       "      <td>0.119523</td>\n",
       "      <td>0.119042</td>\n",
       "      <td>...</td>\n",
       "      <td>0.074521</td>\n",
       "      <td>0.065845</td>\n",
       "      <td>0.090009</td>\n",
       "      <td>0.082598</td>\n",
       "      <td>0.102604</td>\n",
       "      <td>0.096696</td>\n",
       "      <td>0.111901</td>\n",
       "      <td>0.107686</td>\n",
       "      <td>0.117602</td>\n",
       "      <td>0.115216</td>\n",
       "    </tr>\n",
       "    <tr>\n",
       "      <th>3</th>\n",
       "      <td>0</td>\n",
       "      <td>H_-2_-2_0.501338.dat</td>\n",
       "      <td>-2.00</td>\n",
       "      <td>-2.0</td>\n",
       "      <td>0.501338</td>\n",
       "      <td>999</td>\n",
       "      <td>666</td>\n",
       "      <td>test</td>\n",
       "      <td>-0.084515</td>\n",
       "      <td>0.084515</td>\n",
       "      <td>...</td>\n",
       "      <td>-0.084515</td>\n",
       "      <td>0.084515</td>\n",
       "      <td>-0.084515</td>\n",
       "      <td>0.084515</td>\n",
       "      <td>-0.084515</td>\n",
       "      <td>0.084515</td>\n",
       "      <td>-0.084515</td>\n",
       "      <td>0.084515</td>\n",
       "      <td>-0.084515</td>\n",
       "      <td>0.084515</td>\n",
       "    </tr>\n",
       "    <tr>\n",
       "      <th>4</th>\n",
       "      <td>0</td>\n",
       "      <td>H_-2_-2_0.501338.dat</td>\n",
       "      <td>-2.00</td>\n",
       "      <td>-2.0</td>\n",
       "      <td>0.501338</td>\n",
       "      <td>999</td>\n",
       "      <td>666</td>\n",
       "      <td>test</td>\n",
       "      <td>-0.002030</td>\n",
       "      <td>-0.007389</td>\n",
       "      <td>...</td>\n",
       "      <td>-0.053680</td>\n",
       "      <td>-0.058417</td>\n",
       "      <td>-0.043892</td>\n",
       "      <td>-0.048835</td>\n",
       "      <td>-0.033750</td>\n",
       "      <td>-0.038860</td>\n",
       "      <td>-0.023336</td>\n",
       "      <td>-0.028571</td>\n",
       "      <td>-0.012734</td>\n",
       "      <td>-0.018053</td>\n",
       "    </tr>\n",
       "    <tr>\n",
       "      <th>...</th>\n",
       "      <td>...</td>\n",
       "      <td>...</td>\n",
       "      <td>...</td>\n",
       "      <td>...</td>\n",
       "      <td>...</td>\n",
       "      <td>...</td>\n",
       "      <td>...</td>\n",
       "      <td>...</td>\n",
       "      <td>...</td>\n",
       "      <td>...</td>\n",
       "      <td>...</td>\n",
       "      <td>...</td>\n",
       "      <td>...</td>\n",
       "      <td>...</td>\n",
       "      <td>...</td>\n",
       "      <td>...</td>\n",
       "      <td>...</td>\n",
       "      <td>...</td>\n",
       "      <td>...</td>\n",
       "      <td>...</td>\n",
       "      <td>...</td>\n",
       "    </tr>\n",
       "    <tr>\n",
       "      <th>11635</th>\n",
       "      <td>83</td>\n",
       "      <td>H_-1.95_-1.9_-0.0413405.dat</td>\n",
       "      <td>-1.95</td>\n",
       "      <td>-1.9</td>\n",
       "      <td>-0.041340</td>\n",
       "      <td>0</td>\n",
       "      <td>666</td>\n",
       "      <td>test</td>\n",
       "      <td>-0.000916</td>\n",
       "      <td>-0.006208</td>\n",
       "      <td>...</td>\n",
       "      <td>-0.052683</td>\n",
       "      <td>-0.057382</td>\n",
       "      <td>-0.042854</td>\n",
       "      <td>-0.047752</td>\n",
       "      <td>-0.032679</td>\n",
       "      <td>-0.037738</td>\n",
       "      <td>-0.022242</td>\n",
       "      <td>-0.027421</td>\n",
       "      <td>-0.011626</td>\n",
       "      <td>-0.016882</td>\n",
       "    </tr>\n",
       "    <tr>\n",
       "      <th>11636</th>\n",
       "      <td>83</td>\n",
       "      <td>H_-1.95_-1.9_-0.0413405.dat</td>\n",
       "      <td>-1.95</td>\n",
       "      <td>-1.9</td>\n",
       "      <td>-0.041340</td>\n",
       "      <td>0</td>\n",
       "      <td>666</td>\n",
       "      <td>test</td>\n",
       "      <td>-0.119517</td>\n",
       "      <td>-0.118939</td>\n",
       "      <td>...</td>\n",
       "      <td>-0.073556</td>\n",
       "      <td>-0.064932</td>\n",
       "      <td>-0.089195</td>\n",
       "      <td>-0.081807</td>\n",
       "      <td>-0.101968</td>\n",
       "      <td>-0.096051</td>\n",
       "      <td>-0.111463</td>\n",
       "      <td>-0.107209</td>\n",
       "      <td>-0.117376</td>\n",
       "      <td>-0.114921</td>\n",
       "    </tr>\n",
       "    <tr>\n",
       "      <th>11637</th>\n",
       "      <td>83</td>\n",
       "      <td>H_-1.95_-1.9_-0.0413405.dat</td>\n",
       "      <td>-1.95</td>\n",
       "      <td>-1.9</td>\n",
       "      <td>-0.041340</td>\n",
       "      <td>0</td>\n",
       "      <td>666</td>\n",
       "      <td>test</td>\n",
       "      <td>0.002131</td>\n",
       "      <td>-0.008451</td>\n",
       "      <td>...</td>\n",
       "      <td>-0.092103</td>\n",
       "      <td>-0.098482</td>\n",
       "      <td>-0.077022</td>\n",
       "      <td>-0.084806</td>\n",
       "      <td>-0.059464</td>\n",
       "      <td>-0.068404</td>\n",
       "      <td>-0.039996</td>\n",
       "      <td>-0.049804</td>\n",
       "      <td>-0.019242</td>\n",
       "      <td>-0.029603</td>\n",
       "    </tr>\n",
       "    <tr>\n",
       "      <th>11638</th>\n",
       "      <td>83</td>\n",
       "      <td>H_-1.95_-1.9_-0.0413405.dat</td>\n",
       "      <td>-1.95</td>\n",
       "      <td>-1.9</td>\n",
       "      <td>-0.041340</td>\n",
       "      <td>0</td>\n",
       "      <td>666</td>\n",
       "      <td>test</td>\n",
       "      <td>0.119523</td>\n",
       "      <td>0.118503</td>\n",
       "      <td>...</td>\n",
       "      <td>0.026849</td>\n",
       "      <td>0.011182</td>\n",
       "      <td>0.056867</td>\n",
       "      <td>0.042437</td>\n",
       "      <td>0.082785</td>\n",
       "      <td>0.070633</td>\n",
       "      <td>0.102737</td>\n",
       "      <td>0.093739</td>\n",
       "      <td>0.115284</td>\n",
       "      <td>0.110088</td>\n",
       "    </tr>\n",
       "    <tr>\n",
       "      <th>11639</th>\n",
       "      <td>83</td>\n",
       "      <td>H_-1.95_-1.9_-0.0413405.dat</td>\n",
       "      <td>-1.95</td>\n",
       "      <td>-1.9</td>\n",
       "      <td>-0.041340</td>\n",
       "      <td>0</td>\n",
       "      <td>666</td>\n",
       "      <td>test</td>\n",
       "      <td>-0.003472</td>\n",
       "      <td>-0.019270</td>\n",
       "      <td>...</td>\n",
       "      <td>-0.117250</td>\n",
       "      <td>-0.119290</td>\n",
       "      <td>-0.106852</td>\n",
       "      <td>-0.113006</td>\n",
       "      <td>-0.088754</td>\n",
       "      <td>-0.098577</td>\n",
       "      <td>-0.064258</td>\n",
       "      <td>-0.077044</td>\n",
       "      <td>-0.035131</td>\n",
       "      <td>-0.049957</td>\n",
       "    </tr>\n",
       "  </tbody>\n",
       "</table>\n",
       "<p>1000 rows × 148 columns</p>\n",
       "</div>"
      ],
      "text/plain": [
       "       id                         path    t1   t2   winding  phase  \\\n",
       "0       0         H_-2_-2_0.501338.dat -2.00 -2.0  0.501338    999   \n",
       "1       0         H_-2_-2_0.501338.dat -2.00 -2.0  0.501338    999   \n",
       "2       0         H_-2_-2_0.501338.dat -2.00 -2.0  0.501338    999   \n",
       "3       0         H_-2_-2_0.501338.dat -2.00 -2.0  0.501338    999   \n",
       "4       0         H_-2_-2_0.501338.dat -2.00 -2.0  0.501338    999   \n",
       "...    ..                          ...   ...  ...       ...    ...   \n",
       "11635  83  H_-1.95_-1.9_-0.0413405.dat -1.95 -1.9 -0.041340      0   \n",
       "11636  83  H_-1.95_-1.9_-0.0413405.dat -1.95 -1.9 -0.041340      0   \n",
       "11637  83  H_-1.95_-1.9_-0.0413405.dat -1.95 -1.9 -0.041340      0   \n",
       "11638  83  H_-1.95_-1.9_-0.0413405.dat -1.95 -1.9 -0.041340      0   \n",
       "11639  83  H_-1.95_-1.9_-0.0413405.dat -1.95 -1.9 -0.041340      0   \n",
       "\n",
       "       pred_phase type_of      feat0      feat1  ...    feat130    feat131  \\\n",
       "0             666    test   0.084515   0.084515  ...   0.084515   0.084515   \n",
       "1             666    test   0.119523   0.119403  ...   0.107686   0.105251   \n",
       "2             666    test   0.119523   0.119042  ...   0.074521   0.065845   \n",
       "3             666    test  -0.084515   0.084515  ...  -0.084515   0.084515   \n",
       "4             666    test  -0.002030  -0.007389  ...  -0.053680  -0.058417   \n",
       "...           ...     ...        ...        ...  ...        ...        ...   \n",
       "11635         666    test  -0.000916  -0.006208  ...  -0.052683  -0.057382   \n",
       "11636         666    test  -0.119517  -0.118939  ...  -0.073556  -0.064932   \n",
       "11637         666    test   0.002131  -0.008451  ...  -0.092103  -0.098482   \n",
       "11638         666    test   0.119523   0.118503  ...   0.026849   0.011182   \n",
       "11639         666    test  -0.003472  -0.019270  ...  -0.117250  -0.119290   \n",
       "\n",
       "         feat132    feat133    feat134    feat135    feat136    feat137  \\\n",
       "0       0.084515   0.084515   0.084515   0.084515   0.084515   0.084515   \n",
       "1       0.111901   0.109905   0.115216   0.113673   0.117602   0.116526   \n",
       "2       0.090009   0.082598   0.102604   0.096696   0.111901   0.107686   \n",
       "3      -0.084515   0.084515  -0.084515   0.084515  -0.084515   0.084515   \n",
       "4      -0.043892  -0.048835  -0.033750  -0.038860  -0.023336  -0.028571   \n",
       "...          ...        ...        ...        ...        ...        ...   \n",
       "11635  -0.042854  -0.047752  -0.032679  -0.037738  -0.022242  -0.027421   \n",
       "11636  -0.089195  -0.081807  -0.101968  -0.096051  -0.111463  -0.107209   \n",
       "11637  -0.077022  -0.084806  -0.059464  -0.068404  -0.039996  -0.049804   \n",
       "11638   0.056867   0.042437   0.082785   0.070633   0.102737   0.093739   \n",
       "11639  -0.106852  -0.113006  -0.088754  -0.098577  -0.064258  -0.077044   \n",
       "\n",
       "         feat138    feat139  \n",
       "0       0.084515   0.084515  \n",
       "1       0.119042   0.118441  \n",
       "2       0.117602   0.115216  \n",
       "3      -0.084515   0.084515  \n",
       "4      -0.012734  -0.018053  \n",
       "...          ...        ...  \n",
       "11635  -0.011626  -0.016882  \n",
       "11636  -0.117376  -0.114921  \n",
       "11637  -0.019242  -0.029603  \n",
       "11638   0.115284   0.110088  \n",
       "11639  -0.035131  -0.049957  \n",
       "\n",
       "[1000 rows x 148 columns]"
      ]
     },
     "execution_count": 10,
     "metadata": {},
     "output_type": "execute_result"
    }
   ],
   "source": [
    "# A view of test data\n",
    "dataframe[dataframe.type_of == \"test\"].head(1000)"
   ]
  },
  {
   "cell_type": "markdown",
   "metadata": {
    "papermill": {
     "duration": 0.067307,
     "end_time": "2020-03-04T01:43:30.057731",
     "exception": false,
     "start_time": "2020-03-04T01:43:29.990424",
     "status": "completed"
    },
    "tags": []
   },
   "source": [
    "#### Unique winding values"
   ]
  },
  {
   "cell_type": "code",
   "execution_count": 11,
   "metadata": {
    "papermill": {
     "duration": 0.087045,
     "end_time": "2020-03-04T01:43:30.194728",
     "exception": false,
     "start_time": "2020-03-04T01:43:30.107683",
     "status": "completed"
    },
    "tags": []
   },
   "outputs": [
    {
     "data": {
      "text/plain": [
       "array([  0,   1, 999], dtype=int32)"
      ]
     },
     "execution_count": 11,
     "metadata": {},
     "output_type": "execute_result"
    }
   ],
   "source": [
    "np.unique(dataframe.phase.values)"
   ]
  },
  {
   "cell_type": "markdown",
   "metadata": {
    "papermill": {
     "duration": 0.048709,
     "end_time": "2020-03-04T01:43:30.298855",
     "exception": false,
     "start_time": "2020-03-04T01:43:30.250146",
     "status": "completed"
    },
    "tags": []
   },
   "source": [
    "#### clearing variables"
   ]
  },
  {
   "cell_type": "code",
   "execution_count": 12,
   "metadata": {
    "papermill": {
     "duration": 0.223486,
     "end_time": "2020-03-04T01:43:30.572193",
     "exception": false,
     "start_time": "2020-03-04T01:43:30.348707",
     "status": "completed"
    },
    "tags": []
   },
   "outputs": [],
   "source": [
    "del list_of_hamiltonians\n",
    "del raw_data\n",
    "del dataframe"
   ]
  },
  {
   "cell_type": "markdown",
   "metadata": {
    "papermill": {
     "duration": 0.053519,
     "end_time": "2020-03-04T01:43:30.685091",
     "exception": false,
     "start_time": "2020-03-04T01:43:30.631572",
     "status": "completed"
    },
    "tags": []
   },
   "source": [
    "#### Halting notebook"
   ]
  },
  {
   "cell_type": "code",
   "execution_count": 13,
   "metadata": {
    "papermill": {
     "duration": 0.080283,
     "end_time": "2020-03-04T01:43:30.818114",
     "exception": false,
     "start_time": "2020-03-04T01:43:30.737831",
     "status": "completed"
    },
    "tags": []
   },
   "outputs": [
    {
     "data": {
      "application/javascript": [
       "Jupyter.notebook.session.delete();\n"
      ],
      "text/plain": [
       "<IPython.core.display.Javascript object>"
      ]
     },
     "metadata": {},
     "output_type": "display_data"
    }
   ],
   "source": [
    "%%javascript\n",
    "Jupyter.notebook.session.delete();"
   ]
  },
  {
   "cell_type": "code",
   "execution_count": null,
   "metadata": {
    "papermill": {
     "duration": 0.067051,
     "end_time": "2020-03-04T01:43:30.956002",
     "exception": false,
     "start_time": "2020-03-04T01:43:30.888951",
     "status": "completed"
    },
    "tags": []
   },
   "outputs": [],
   "source": []
  }
 ],
 "metadata": {
  "celltoolbar": "Tags",
  "kernelspec": {
   "display_name": "ml_top_phases",
   "language": "python",
   "name": "ml_top_phases"
  },
  "language_info": {
   "codemirror_mode": {
    "name": "ipython",
    "version": 3
   },
   "file_extension": ".py",
   "mimetype": "text/x-python",
   "name": "python",
   "nbconvert_exporter": "python",
   "pygments_lexer": "ipython3",
   "version": "3.6.10"
  },
  "papermill": {
   "duration": 190.49597,
   "end_time": "2020-03-04T01:43:31.024795",
   "environment_variables": {},
   "exception": null,
   "input_path": "preprocessing_template.ipynb",
   "output_path": "preprocessing_output_periodic_140_6561.ipynb",
   "parameters": {
    "allowed_windings": [
     0,
     1
    ],
    "csv_name": "/home/linneu/ssh_csvs/ssh1/periodic_140_6561.csv",
    "epsilon": 0.01,
    "grid_folder": "/home/linneu/ssh_grids/ssh1/periodic_140_6561",
    "to_csv": true
   },
   "start_time": "2020-03-04T01:40:20.528825",
   "version": "2.0.0"
  }
 },
 "nbformat": 4,
 "nbformat_minor": 2
}