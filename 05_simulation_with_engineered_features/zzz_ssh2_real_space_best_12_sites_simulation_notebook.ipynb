{
 "cells": [
  {
   "cell_type": "markdown",
   "metadata": {
    "papermill": {
     "duration": 0.019154,
     "end_time": "2020-07-18T15:18:47.894395",
     "exception": false,
     "start_time": "2020-07-18T15:18:47.875241",
     "status": "completed"
    },
    "tags": []
   },
   "source": [
    "# Simulation template \n",
    "\n",
    "In this notebook we run the machine learning analysis of topological phase transitions occurring  in both nearest-neighbours SSH models (ssh1) and second neighbours models (ssh2) as decribed in the paper [Machine learning topological phases in real space](https://arxiv.org/abs/1901.01963). Here the simulation is run with features generated from fourier components in the first scenario. This scenario is characterized by using only the EVEN wavevector space eigenmodes, computed from ALL real space components."
   ]
  },
  {
   "cell_type": "markdown",
   "metadata": {
    "papermill": {
     "duration": 0.016181,
     "end_time": "2020-07-18T15:18:47.927579",
     "exception": false,
     "start_time": "2020-07-18T15:18:47.911398",
     "status": "completed"
    },
    "tags": []
   },
   "source": [
    "## Defining parameters"
   ]
  },
  {
   "cell_type": "code",
   "execution_count": 1,
   "metadata": {
    "execution": {
     "iopub.execute_input": "2020-07-18T15:18:47.964325Z",
     "iopub.status.busy": "2020-07-18T15:18:47.963773Z",
     "iopub.status.idle": "2020-07-18T15:18:48.548279Z",
     "shell.execute_reply": "2020-07-18T15:18:48.547947Z"
    },
    "papermill": {
     "duration": 0.604117,
     "end_time": "2020-07-18T15:18:48.548341",
     "exception": false,
     "start_time": "2020-07-18T15:18:47.944224",
     "status": "completed"
    },
    "tags": []
   },
   "outputs": [
    {
     "name": "stdout",
     "output_type": "stream",
     "text": [
      "CPU times: user 793 ms, sys: 222 ms, total: 1.02 s\n",
      "Wall time: 578 ms\n"
     ]
    }
   ],
   "source": [
    "%%time\n",
    "%load_ext autoreload\n",
    "%autoreload 2\n",
    "from simulation import *"
   ]
  },
  {
   "cell_type": "code",
   "execution_count": 2,
   "metadata": {
    "execution": {
     "iopub.execute_input": "2020-07-18T15:18:48.584917Z",
     "iopub.status.busy": "2020-07-18T15:18:48.584310Z",
     "iopub.status.idle": "2020-07-18T15:18:48.596065Z",
     "shell.execute_reply": "2020-07-18T15:18:48.596373Z"
    },
    "papermill": {
     "duration": 0.030621,
     "end_time": "2020-07-18T15:18:48.596455",
     "exception": false,
     "start_time": "2020-07-18T15:18:48.565834",
     "status": "completed"
    },
    "tags": [
     "parameters"
    ]
   },
   "outputs": [
    {
     "name": "stdout",
     "output_type": "stream",
     "text": [
      "CPU times: user 3 µs, sys: 1 µs, total: 4 µs\n",
      "Wall time: 5.72 µs\n"
     ]
    }
   ],
   "source": [
    "%%time\n",
    "### Dataset and simulation parameters\n",
    "#csv_path = SSH2_PERIODIC_100_6561_CSV \n",
    "csv_path = SSH1_PERIODIC_100_6561_CSV \n",
    "model_name = \"DecisionTreeClassifier\"\n",
    "model_kw = {\"criterion\":\"entropy\"}\n",
    "allowed_windings = [0,1]\n",
    "#allowed_windings = [-1,0,1,2]\n",
    "simulation_dir = SSH1_REAL_SPACE_ALL_SITES\n",
    "#simulation_dir = SSH2_PERIODIC_ENGINEERED_100_6561_SIMULATION_DIR\n",
    "val_split = 0.9  \n",
    "features_to_use = None\n",
    "shuffle_features = False\n",
    "random_state = 763\n",
    "\n",
    "### Fourier features\n",
    "fourier_mode = \"dst\"\n",
    "fourier_features_to_use = None\n",
    "fourier_real = \"imag\"\n",
    "fourier_normalize = False\n",
    "fourier_fillna = False\n",
    "\n",
    "### Running a simulation\n",
    "n_experiments = 5\n",
    "start_n = 0\n",
    "fit_params = None\n",
    "#mode=mode\n",
    "shuffle_rows = True\n",
    "pred_params = None\n",
    "random_features = False\n",
    "######### DON'T SET THIS TO TRUE UNLESS YOUR DATASET IS SMALL!! WILL FLOOD YOUR MEMORY!!!\n",
    "store_in_lists = False   \n",
    "########## BELOW ARE THE PARAMETERS THAT CONTROL WHAT WILL BE SAVED\n",
    "save_eigenvector=True\n",
    "save_hamiltonian=True \n",
    "save_accuracy=True \n",
    "save_models=True"
   ]
  },
  {
   "cell_type": "code",
   "execution_count": 3,
   "metadata": {
    "execution": {
     "iopub.execute_input": "2020-07-18T15:18:48.645593Z",
     "iopub.status.busy": "2020-07-18T15:18:48.645187Z",
     "iopub.status.idle": "2020-07-18T15:18:48.753216Z",
     "shell.execute_reply": "2020-07-18T15:18:48.750576Z"
    },
    "papermill": {
     "duration": 0.139941,
     "end_time": "2020-07-18T15:18:48.753492",
     "exception": false,
     "start_time": "2020-07-18T15:18:48.613551",
     "status": "completed"
    },
    "tags": [
     "injected-parameters"
    ]
   },
   "outputs": [],
   "source": [
    "# Parameters\n",
    "model_kw = {\"criterion\": \"entropy\", \"n_estimators\": 25, \"n_jobs\": -1}\n",
    "allowed_windings = [-1, 0, 1, 2]\n",
    "val_split = 0.5\n",
    "features_to_use = [0, 1, 2, 3, 4, 5, 6, 7, 46, 48, 49, 50]\n",
    "shuffle_features = False\n",
    "n_experiments = 100\n",
    "start_n = 0\n",
    "fit_params = None\n",
    "shuffle_rows = True\n",
    "pred_params = None\n",
    "random_features = False\n",
    "store_in_lists = False\n",
    "save_eigenvector = True\n",
    "save_hamiltonian = True\n",
    "save_accuracy = True\n",
    "save_models = True\n",
    "csv_path = \"/home/rio/ssh_csvs/ssh2/periodic_100_6561.csv\"\n",
    "model_name = \"RandomForestClassifier\"\n",
    "simulation_dir = (\n",
    "    \"/home/rio/ssh_simulations/ssh2/periodic_100_6561/real_space_best_12_sites\"\n",
    ")\n",
    "random_state = 2011\n",
    "fourier_features_to_use = None\n",
    "fourier_mode = None\n",
    "fourier_real = None\n",
    "fourier_normalize = None\n",
    "fourier_fillna = None\n"
   ]
  },
  {
   "cell_type": "code",
   "execution_count": 4,
   "metadata": {
    "execution": {
     "iopub.execute_input": "2020-07-18T15:18:48.814395Z",
     "iopub.status.busy": "2020-07-18T15:18:48.814037Z",
     "iopub.status.idle": "2020-07-18T15:18:54.236202Z",
     "shell.execute_reply": "2020-07-18T15:18:54.235884Z"
    },
    "papermill": {
     "duration": 5.443487,
     "end_time": "2020-07-18T15:18:54.236253",
     "exception": false,
     "start_time": "2020-07-18T15:18:48.792766",
     "status": "completed"
    },
    "tags": []
   },
   "outputs": [
    {
     "name": "stdout",
     "output_type": "stream",
     "text": [
      "Info on all data: \n",
      "\n",
      "<class 'pandas.core.frame.DataFrame'>\n",
      "Int64Index: 656100 entries, 0 to 656099\n",
      "Columns: 108 entries, id to feat99\n",
      "dtypes: float64(103), int32(3), object(2)\n",
      "memory usage: 538.1+ MB\n",
      "CPU times: user 5.15 s, sys: 247 ms, total: 5.4 s\n",
      "Wall time: 5.39 s\n"
     ]
    },
    {
     "data": {
      "text/html": [
       "<div>\n",
       "<style scoped>\n",
       "    .dataframe tbody tr th:only-of-type {\n",
       "        vertical-align: middle;\n",
       "    }\n",
       "\n",
       "    .dataframe tbody tr th {\n",
       "        vertical-align: top;\n",
       "    }\n",
       "\n",
       "    .dataframe thead th {\n",
       "        text-align: right;\n",
       "    }\n",
       "</style>\n",
       "<table border=\"1\" class=\"dataframe\">\n",
       "  <thead>\n",
       "    <tr style=\"text-align: right;\">\n",
       "      <th></th>\n",
       "      <th>id</th>\n",
       "      <th>path</th>\n",
       "      <th>t1</th>\n",
       "      <th>t2</th>\n",
       "      <th>winding</th>\n",
       "      <th>phase</th>\n",
       "      <th>pred_phase</th>\n",
       "      <th>type_of</th>\n",
       "      <th>feat0</th>\n",
       "      <th>feat1</th>\n",
       "      <th>...</th>\n",
       "      <th>feat90</th>\n",
       "      <th>feat91</th>\n",
       "      <th>feat92</th>\n",
       "      <th>feat93</th>\n",
       "      <th>feat94</th>\n",
       "      <th>feat95</th>\n",
       "      <th>feat96</th>\n",
       "      <th>feat97</th>\n",
       "      <th>feat98</th>\n",
       "      <th>feat99</th>\n",
       "    </tr>\n",
       "  </thead>\n",
       "  <tbody>\n",
       "    <tr>\n",
       "      <th>0</th>\n",
       "      <td>0</td>\n",
       "      <td>H_-2_-2_0.501338.dat</td>\n",
       "      <td>-2.0</td>\n",
       "      <td>-2.0</td>\n",
       "      <td>0.501338</td>\n",
       "      <td>999</td>\n",
       "      <td>666</td>\n",
       "      <td>test</td>\n",
       "      <td>-0.130965</td>\n",
       "      <td>0.301130</td>\n",
       "      <td>...</td>\n",
       "      <td>-0.080279</td>\n",
       "      <td>-0.115687</td>\n",
       "      <td>-0.174988</td>\n",
       "      <td>0.245064</td>\n",
       "      <td>0.319763</td>\n",
       "      <td>-0.059082</td>\n",
       "      <td>-0.000556</td>\n",
       "      <td>-0.245133</td>\n",
       "      <td>-0.301130</td>\n",
       "      <td>0.130965</td>\n",
       "    </tr>\n",
       "    <tr>\n",
       "      <th>1</th>\n",
       "      <td>0</td>\n",
       "      <td>H_-2_-2_0.501338.dat</td>\n",
       "      <td>-2.0</td>\n",
       "      <td>-2.0</td>\n",
       "      <td>0.501338</td>\n",
       "      <td>999</td>\n",
       "      <td>666</td>\n",
       "      <td>test</td>\n",
       "      <td>-0.130965</td>\n",
       "      <td>-0.301130</td>\n",
       "      <td>...</td>\n",
       "      <td>-0.080279</td>\n",
       "      <td>0.115687</td>\n",
       "      <td>-0.174988</td>\n",
       "      <td>-0.245064</td>\n",
       "      <td>0.319763</td>\n",
       "      <td>0.059082</td>\n",
       "      <td>-0.000556</td>\n",
       "      <td>0.245133</td>\n",
       "      <td>-0.301130</td>\n",
       "      <td>-0.130965</td>\n",
       "    </tr>\n",
       "    <tr>\n",
       "      <th>2</th>\n",
       "      <td>0</td>\n",
       "      <td>H_-2_-2_0.501338.dat</td>\n",
       "      <td>-2.0</td>\n",
       "      <td>-2.0</td>\n",
       "      <td>0.501338</td>\n",
       "      <td>999</td>\n",
       "      <td>666</td>\n",
       "      <td>test</td>\n",
       "      <td>-0.148414</td>\n",
       "      <td>-0.042467</td>\n",
       "      <td>...</td>\n",
       "      <td>0.185442</td>\n",
       "      <td>-0.080620</td>\n",
       "      <td>-0.066211</td>\n",
       "      <td>-0.121339</td>\n",
       "      <td>-0.151700</td>\n",
       "      <td>0.192513</td>\n",
       "      <td>0.191642</td>\n",
       "      <td>-0.050956</td>\n",
       "      <td>-0.042467</td>\n",
       "      <td>-0.148414</td>\n",
       "    </tr>\n",
       "    <tr>\n",
       "      <th>3</th>\n",
       "      <td>0</td>\n",
       "      <td>H_-2_-2_0.501338.dat</td>\n",
       "      <td>-2.0</td>\n",
       "      <td>-2.0</td>\n",
       "      <td>0.501338</td>\n",
       "      <td>999</td>\n",
       "      <td>666</td>\n",
       "      <td>test</td>\n",
       "      <td>-0.069630</td>\n",
       "      <td>-0.026147</td>\n",
       "      <td>...</td>\n",
       "      <td>0.102009</td>\n",
       "      <td>-0.100671</td>\n",
       "      <td>-0.081002</td>\n",
       "      <td>-0.020715</td>\n",
       "      <td>-0.058717</td>\n",
       "      <td>0.115834</td>\n",
       "      <td>0.118274</td>\n",
       "      <td>-0.054666</td>\n",
       "      <td>-0.026147</td>\n",
       "      <td>-0.069630</td>\n",
       "    </tr>\n",
       "    <tr>\n",
       "      <th>4</th>\n",
       "      <td>0</td>\n",
       "      <td>H_-2_-2_0.501338.dat</td>\n",
       "      <td>-2.0</td>\n",
       "      <td>-2.0</td>\n",
       "      <td>0.501338</td>\n",
       "      <td>999</td>\n",
       "      <td>666</td>\n",
       "      <td>test</td>\n",
       "      <td>0.010206</td>\n",
       "      <td>-0.014625</td>\n",
       "      <td>...</td>\n",
       "      <td>0.047555</td>\n",
       "      <td>-0.041368</td>\n",
       "      <td>-0.018852</td>\n",
       "      <td>-0.017673</td>\n",
       "      <td>-0.023377</td>\n",
       "      <td>0.031447</td>\n",
       "      <td>0.010280</td>\n",
       "      <td>0.000925</td>\n",
       "      <td>0.014625</td>\n",
       "      <td>-0.010206</td>\n",
       "    </tr>\n",
       "  </tbody>\n",
       "</table>\n",
       "<p>5 rows × 108 columns</p>\n",
       "</div>"
      ],
      "text/plain": [
       "   id                  path   t1   t2   winding  phase  pred_phase type_of  \\\n",
       "0   0  H_-2_-2_0.501338.dat -2.0 -2.0  0.501338    999         666    test   \n",
       "1   0  H_-2_-2_0.501338.dat -2.0 -2.0  0.501338    999         666    test   \n",
       "2   0  H_-2_-2_0.501338.dat -2.0 -2.0  0.501338    999         666    test   \n",
       "3   0  H_-2_-2_0.501338.dat -2.0 -2.0  0.501338    999         666    test   \n",
       "4   0  H_-2_-2_0.501338.dat -2.0 -2.0  0.501338    999         666    test   \n",
       "\n",
       "      feat0     feat1  ...    feat90    feat91    feat92    feat93    feat94  \\\n",
       "0 -0.130965  0.301130  ... -0.080279 -0.115687 -0.174988  0.245064  0.319763   \n",
       "1 -0.130965 -0.301130  ... -0.080279  0.115687 -0.174988 -0.245064  0.319763   \n",
       "2 -0.148414 -0.042467  ...  0.185442 -0.080620 -0.066211 -0.121339 -0.151700   \n",
       "3 -0.069630 -0.026147  ...  0.102009 -0.100671 -0.081002 -0.020715 -0.058717   \n",
       "4  0.010206 -0.014625  ...  0.047555 -0.041368 -0.018852 -0.017673 -0.023377   \n",
       "\n",
       "     feat95    feat96    feat97    feat98    feat99  \n",
       "0 -0.059082 -0.000556 -0.245133 -0.301130  0.130965  \n",
       "1  0.059082 -0.000556  0.245133 -0.301130 -0.130965  \n",
       "2  0.192513  0.191642 -0.050956 -0.042467 -0.148414  \n",
       "3  0.115834  0.118274 -0.054666 -0.026147 -0.069630  \n",
       "4  0.031447  0.010280  0.000925  0.014625 -0.010206  \n",
       "\n",
       "[5 rows x 108 columns]"
      ]
     },
     "execution_count": 4,
     "metadata": {},
     "output_type": "execute_result"
    }
   ],
   "source": [
    "%%time\n",
    "#Starting an instance of Simulation with a decision tree\n",
    "model = DecisionTreeClassifier(criterion=\"entropy\")\n",
    "#dict_args = {\"csv_path\":csv_path, \"model\":model, \"allowed_windings\":allowed_windings,\\\n",
    "#             \"simulation_dir\":simulation_dir, \"val_split\":val_split, \"features_to_use\":features_to_use,\\\n",
    "#            \"shuffle_features\":shuffle_features, \"random_state\":random_state}\n",
    "simulation = Simulation(csv_path,model_name,model_kw,allowed_windings,simulation_dir,val_split,features_to_use,\\\n",
    "                       shuffle_features,fourier_mode,fourier_features_to_use,fourier_real,\\\n",
    "                       fourier_normalize, fourier_fillna , random_state)\n",
    "#simulation = Simulation(**dict_args)\n",
    "\n",
    "\n",
    "#(self, csv_path, model_name, model_kw, allowed_windings, simulation_dir = None, val_split = 0, \n",
    "# features_to_use = None, shuffle_features = False, fourier_mode=None, fourier_features_to_use=None,\n",
    "# fourier_real = False, fourier_normalize = False, Fourier_fillna=False, random_state = None):\n",
    "\n",
    "\n",
    "\n",
    "print(\"Info on all data: \\n\")\n",
    "simulation.dataframe.info()\n",
    "simulation.dataframe.head()"
   ]
  },
  {
   "cell_type": "markdown",
   "metadata": {
    "papermill": {
     "duration": 0.018211,
     "end_time": "2020-07-18T15:18:54.273346",
     "exception": false,
     "start_time": "2020-07-18T15:18:54.255135",
     "status": "completed"
    },
    "tags": []
   },
   "source": [
    "####  Fourier features"
   ]
  },
  {
   "cell_type": "code",
   "execution_count": 5,
   "metadata": {
    "execution": {
     "iopub.execute_input": "2020-07-18T15:18:54.311909Z",
     "iopub.status.busy": "2020-07-18T15:18:54.311599Z",
     "iopub.status.idle": "2020-07-18T15:18:54.323573Z",
     "shell.execute_reply": "2020-07-18T15:18:54.323255Z"
    },
    "papermill": {
     "duration": 0.032133,
     "end_time": "2020-07-18T15:18:54.323623",
     "exception": false,
     "start_time": "2020-07-18T15:18:54.291490",
     "status": "completed"
    },
    "tags": []
   },
   "outputs": [
    {
     "name": "stdout",
     "output_type": "stream",
     "text": [
      "CPU times: user 2 µs, sys: 0 ns, total: 2 µs\n",
      "Wall time: 3.81 µs\n"
     ]
    }
   ],
   "source": [
    "%%time\n",
    "#simulation.generate_fourier_df()\n",
    "if simulation.fourier_mode is not None:\n",
    "    simulation.fourier_dataframe.info() \n",
    "    simulation.fourier_dataframe.sample(15)\n"
   ]
  },
  {
   "cell_type": "code",
   "execution_count": 6,
   "metadata": {
    "execution": {
     "iopub.execute_input": "2020-07-18T15:18:54.361572Z",
     "iopub.status.busy": "2020-07-18T15:18:54.361251Z",
     "iopub.status.idle": "2020-07-18T15:18:54.417604Z",
     "shell.execute_reply": "2020-07-18T15:18:54.418105Z"
    },
    "papermill": {
     "duration": 0.07688,
     "end_time": "2020-07-18T15:18:54.418202",
     "exception": false,
     "start_time": "2020-07-18T15:18:54.341322",
     "status": "completed"
    },
    "tags": []
   },
   "outputs": [
    {
     "name": "stdout",
     "output_type": "stream",
     "text": [
      "features_to_use: \n",
      "\n",
      "\n",
      "[0, 1, 2, 3, 4, 5, 6, 7, 46, 48, 49, 50]\n",
      "Number of real space features:\n",
      "\n",
      "\n",
      "12\n",
      "\n",
      "\n",
      "fourier_features: \n",
      "\n",
      "\n",
      "None\n",
      "\n",
      "\n",
      "\n",
      "\n",
      "Fourier operator: \n",
      "None\n",
      "\n",
      "\n"
     ]
    }
   ],
   "source": [
    "print(\"features_to_use: \")\n",
    "print(\"\\n\")\n",
    "print(simulation.features_to_use)\n",
    "if simulation.features_to_use is not None:\n",
    "    print(\"Number of real space features:\")\n",
    "    print(\"\\n\")\n",
    "    print(len(simulation.features_to_use))\n",
    "print(\"\\n\")\n",
    "print(\"fourier_features: \")\n",
    "print(\"\\n\")\n",
    "print(simulation.fourier_features)\n",
    "print(\"\\n\")\n",
    "if simulation.fourier_features is not None:\n",
    "    print(\"Number of Fourier features: \")\n",
    "    print(\"\\n\")\n",
    "    print(len(simulation.fourier_features))\n",
    "print(\"\\n\")\n",
    "print(\"Fourier operator: \")\n",
    "print(simulation.fourier_operator)\n",
    "print(\"\\n\")\n",
    "if simulation.fourier_operator is not None:\n",
    "    print(\"Shape of Fourier operator: \")\n",
    "    print(simulation.fourier_operator.shape)"
   ]
  },
  {
   "cell_type": "code",
   "execution_count": 7,
   "metadata": {
    "execution": {
     "iopub.execute_input": "2020-07-18T15:18:54.473213Z",
     "iopub.status.busy": "2020-07-18T15:18:54.472748Z",
     "iopub.status.idle": "2020-07-18T15:18:54.490284Z",
     "shell.execute_reply": "2020-07-18T15:18:54.489990Z"
    },
    "papermill": {
     "duration": 0.041125,
     "end_time": "2020-07-18T15:18:54.490340",
     "exception": false,
     "start_time": "2020-07-18T15:18:54.449215",
     "status": "completed"
    },
    "tags": []
   },
   "outputs": [],
   "source": [
    "#a = np.array([1+1j,2+3j,4+8j])\n",
    "#np.imag(a)"
   ]
  },
  {
   "cell_type": "code",
   "execution_count": 8,
   "metadata": {
    "execution": {
     "iopub.execute_input": "2020-07-18T15:18:54.531620Z",
     "iopub.status.busy": "2020-07-18T15:18:54.531007Z",
     "iopub.status.idle": "2020-07-18T15:18:54.645172Z",
     "shell.execute_reply": "2020-07-18T15:18:54.646364Z"
    },
    "papermill": {
     "duration": 0.137261,
     "end_time": "2020-07-18T15:18:54.646581",
     "exception": false,
     "start_time": "2020-07-18T15:18:54.509320",
     "status": "completed"
    },
    "tags": []
   },
   "outputs": [],
   "source": [
    "#plt.plot(np.imag(simulation.fourier_operator[:,0]))"
   ]
  },
  {
   "cell_type": "code",
   "execution_count": 9,
   "metadata": {
    "execution": {
     "iopub.execute_input": "2020-07-18T15:18:54.701436Z",
     "iopub.status.busy": "2020-07-18T15:18:54.701074Z",
     "iopub.status.idle": "2020-07-18T15:18:54.715245Z",
     "shell.execute_reply": "2020-07-18T15:18:54.715648Z"
    },
    "papermill": {
     "duration": 0.035485,
     "end_time": "2020-07-18T15:18:54.715729",
     "exception": false,
     "start_time": "2020-07-18T15:18:54.680244",
     "status": "completed"
    },
    "tags": []
   },
   "outputs": [],
   "source": [
    "#np.sin(np.pi/(50))*2"
   ]
  },
  {
   "cell_type": "code",
   "execution_count": 10,
   "metadata": {
    "execution": {
     "iopub.execute_input": "2020-07-18T15:18:54.756495Z",
     "iopub.status.busy": "2020-07-18T15:18:54.756151Z",
     "iopub.status.idle": "2020-07-18T15:18:54.845846Z",
     "shell.execute_reply": "2020-07-18T15:18:54.844003Z"
    },
    "papermill": {
     "duration": 0.110744,
     "end_time": "2020-07-18T15:18:54.846088",
     "exception": false,
     "start_time": "2020-07-18T15:18:54.735344",
     "status": "completed"
    },
    "tags": []
   },
   "outputs": [],
   "source": [
    "#2*np.sin(np.pi/50*49)"
   ]
  },
  {
   "cell_type": "code",
   "execution_count": 11,
   "metadata": {
    "execution": {
     "iopub.execute_input": "2020-07-18T15:18:54.920427Z",
     "iopub.status.busy": "2020-07-18T15:18:54.920105Z",
     "iopub.status.idle": "2020-07-18T15:18:54.929865Z",
     "shell.execute_reply": "2020-07-18T15:18:54.929541Z"
    },
    "papermill": {
     "duration": 0.042961,
     "end_time": "2020-07-18T15:18:54.929917",
     "exception": false,
     "start_time": "2020-07-18T15:18:54.886956",
     "status": "completed"
    },
    "tags": []
   },
   "outputs": [],
   "source": [
    "#simulation.dataframe.iloc[331456,:]"
   ]
  },
  {
   "cell_type": "code",
   "execution_count": 12,
   "metadata": {
    "execution": {
     "iopub.execute_input": "2020-07-18T15:18:54.968191Z",
     "iopub.status.busy": "2020-07-18T15:18:54.967879Z",
     "iopub.status.idle": "2020-07-18T15:18:55.049526Z",
     "shell.execute_reply": "2020-07-18T15:18:55.048269Z"
    },
    "papermill": {
     "duration": 0.101556,
     "end_time": "2020-07-18T15:18:55.049705",
     "exception": false,
     "start_time": "2020-07-18T15:18:54.948149",
     "status": "completed"
    },
    "tags": []
   },
   "outputs": [],
   "source": [
    "#for ix, obj in enumerate(simulation.dataframe.iloc[331456,:].values):\n",
    "#    print(ix,obj)"
   ]
  },
  {
   "cell_type": "code",
   "execution_count": 13,
   "metadata": {
    "execution": {
     "iopub.execute_input": "2020-07-18T15:18:55.128499Z",
     "iopub.status.busy": "2020-07-18T15:18:55.128179Z",
     "iopub.status.idle": "2020-07-18T15:18:55.138599Z",
     "shell.execute_reply": "2020-07-18T15:18:55.138247Z"
    },
    "papermill": {
     "duration": 0.034606,
     "end_time": "2020-07-18T15:18:55.138653",
     "exception": false,
     "start_time": "2020-07-18T15:18:55.104047",
     "status": "completed"
    },
    "tags": []
   },
   "outputs": [],
   "source": [
    "#simulation.fourier_engineered_dataframe.dct_feat0"
   ]
  },
  {
   "cell_type": "code",
   "execution_count": 14,
   "metadata": {
    "execution": {
     "iopub.execute_input": "2020-07-18T15:18:55.176987Z",
     "iopub.status.busy": "2020-07-18T15:18:55.176676Z",
     "iopub.status.idle": "2020-07-18T15:18:55.262975Z",
     "shell.execute_reply": "2020-07-18T15:18:55.261583Z"
    },
    "papermill": {
     "duration": 0.106304,
     "end_time": "2020-07-18T15:18:55.263157",
     "exception": false,
     "start_time": "2020-07-18T15:18:55.156853",
     "status": "completed"
    },
    "tags": []
   },
   "outputs": [],
   "source": [
    "#simulation.features"
   ]
  },
  {
   "cell_type": "code",
   "execution_count": 15,
   "metadata": {
    "execution": {
     "iopub.execute_input": "2020-07-18T15:18:55.322364Z",
     "iopub.status.busy": "2020-07-18T15:18:55.321987Z",
     "iopub.status.idle": "2020-07-18T15:18:55.332898Z",
     "shell.execute_reply": "2020-07-18T15:18:55.333424Z"
    },
    "papermill": {
     "duration": 0.035282,
     "end_time": "2020-07-18T15:18:55.333521",
     "exception": false,
     "start_time": "2020-07-18T15:18:55.298239",
     "status": "completed"
    },
    "tags": []
   },
   "outputs": [],
   "source": [
    "#simulation.fourier_matrix"
   ]
  },
  {
   "cell_type": "code",
   "execution_count": 16,
   "metadata": {
    "execution": {
     "iopub.execute_input": "2020-07-18T15:18:55.375172Z",
     "iopub.status.busy": "2020-07-18T15:18:55.374663Z",
     "iopub.status.idle": "2020-07-18T15:18:55.425885Z",
     "shell.execute_reply": "2020-07-18T15:18:55.422798Z"
    },
    "papermill": {
     "duration": 0.073186,
     "end_time": "2020-07-18T15:18:55.426290",
     "exception": false,
     "start_time": "2020-07-18T15:18:55.353104",
     "status": "completed"
    },
    "tags": []
   },
   "outputs": [],
   "source": [
    "#1/simulation.n_features*simulation.dataframe.loc[:,simulation.features].sum(axis=1)"
   ]
  },
  {
   "cell_type": "code",
   "execution_count": 17,
   "metadata": {
    "execution": {
     "iopub.execute_input": "2020-07-18T15:18:55.493298Z",
     "iopub.status.busy": "2020-07-18T15:18:55.492989Z",
     "iopub.status.idle": "2020-07-18T15:18:55.503914Z",
     "shell.execute_reply": "2020-07-18T15:18:55.504264Z"
    },
    "papermill": {
     "duration": 0.033429,
     "end_time": "2020-07-18T15:18:55.504337",
     "exception": false,
     "start_time": "2020-07-18T15:18:55.470908",
     "status": "completed"
    },
    "tags": []
   },
   "outputs": [],
   "source": [
    "#df_2 = simulation.fourier_engineered_dataframe[simulation.fourier_engineered_dataframe.phase==2]\n",
    "#df_2.describe()"
   ]
  },
  {
   "cell_type": "code",
   "execution_count": 18,
   "metadata": {
    "execution": {
     "iopub.execute_input": "2020-07-18T15:18:55.545253Z",
     "iopub.status.busy": "2020-07-18T15:18:55.544945Z",
     "iopub.status.idle": "2020-07-18T15:18:55.607683Z",
     "shell.execute_reply": "2020-07-18T15:18:55.608274Z"
    },
    "papermill": {
     "duration": 0.084197,
     "end_time": "2020-07-18T15:18:55.608395",
     "exception": false,
     "start_time": "2020-07-18T15:18:55.524198",
     "status": "completed"
    },
    "tags": []
   },
   "outputs": [],
   "source": [
    "#df_1 = simulation.fourier_engineered_dataframe[simulation.fourier_engineered_dataframe.phase==1]\n",
    "#df_1.describe()"
   ]
  },
  {
   "cell_type": "code",
   "execution_count": 19,
   "metadata": {
    "execution": {
     "iopub.execute_input": "2020-07-18T15:18:55.669799Z",
     "iopub.status.busy": "2020-07-18T15:18:55.669282Z",
     "iopub.status.idle": "2020-07-18T15:18:55.681868Z",
     "shell.execute_reply": "2020-07-18T15:18:55.681510Z"
    },
    "papermill": {
     "duration": 0.03561,
     "end_time": "2020-07-18T15:18:55.681925",
     "exception": false,
     "start_time": "2020-07-18T15:18:55.646315",
     "status": "completed"
    },
    "tags": []
   },
   "outputs": [],
   "source": [
    "#df_0 = simulation.fourier_engineered_dataframe[simulation.fourier_engineered_dataframe.phase==0]\n",
    "#df_0.describe()"
   ]
  },
  {
   "cell_type": "code",
   "execution_count": 20,
   "metadata": {
    "execution": {
     "iopub.execute_input": "2020-07-18T15:18:55.720481Z",
     "iopub.status.busy": "2020-07-18T15:18:55.719978Z",
     "iopub.status.idle": "2020-07-18T15:18:55.810789Z",
     "shell.execute_reply": "2020-07-18T15:18:55.812440Z"
    },
    "papermill": {
     "duration": 0.112668,
     "end_time": "2020-07-18T15:18:55.812786",
     "exception": false,
     "start_time": "2020-07-18T15:18:55.700118",
     "status": "completed"
    },
    "tags": []
   },
   "outputs": [],
   "source": [
    "#plt.figure(figsize=(10,10))\n",
    "#plt.scatter(df_1.fourier_feat0,df_1.fourier_feat2)\n",
    "#plt.scatter(df_0.fourier_feat0,df_0.fourier_feat2,alpha=0.4)"
   ]
  },
  {
   "cell_type": "code",
   "execution_count": 21,
   "metadata": {
    "execution": {
     "iopub.execute_input": "2020-07-18T15:18:55.873361Z",
     "iopub.status.busy": "2020-07-18T15:18:55.872787Z",
     "iopub.status.idle": "2020-07-18T15:18:55.884836Z",
     "shell.execute_reply": "2020-07-18T15:18:55.885219Z"
    },
    "papermill": {
     "duration": 0.034572,
     "end_time": "2020-07-18T15:18:55.885303",
     "exception": false,
     "start_time": "2020-07-18T15:18:55.850731",
     "status": "completed"
    },
    "tags": []
   },
   "outputs": [],
   "source": [
    "#plt.scatter(df_0.fourier_feat0,df_0.fourier_feat2,alpha=0.4)"
   ]
  },
  {
   "cell_type": "code",
   "execution_count": 22,
   "metadata": {
    "execution": {
     "iopub.execute_input": "2020-07-18T15:18:55.926073Z",
     "iopub.status.busy": "2020-07-18T15:18:55.925760Z",
     "iopub.status.idle": "2020-07-18T15:18:55.987693Z",
     "shell.execute_reply": "2020-07-18T15:18:55.987276Z"
    },
    "papermill": {
     "duration": 0.082426,
     "end_time": "2020-07-18T15:18:55.987756",
     "exception": false,
     "start_time": "2020-07-18T15:18:55.905330",
     "status": "completed"
    },
    "tags": []
   },
   "outputs": [],
   "source": [
    "#plt.scatter(df_2.fourier_feat0,df_2.fourier_feat2)"
   ]
  },
  {
   "cell_type": "code",
   "execution_count": 23,
   "metadata": {
    "execution": {
     "iopub.execute_input": "2020-07-18T15:18:56.035947Z",
     "iopub.status.busy": "2020-07-18T15:18:56.035588Z",
     "iopub.status.idle": "2020-07-18T15:18:56.104468Z",
     "shell.execute_reply": "2020-07-18T15:18:56.104942Z"
    },
    "papermill": {
     "duration": 0.091374,
     "end_time": "2020-07-18T15:18:56.105036",
     "exception": false,
     "start_time": "2020-07-18T15:18:56.013662",
     "status": "completed"
    },
    "tags": []
   },
   "outputs": [],
   "source": [
    "#df_1.hist(figsize=(15,15))"
   ]
  },
  {
   "cell_type": "code",
   "execution_count": 24,
   "metadata": {
    "execution": {
     "iopub.execute_input": "2020-07-18T15:18:56.157511Z",
     "iopub.status.busy": "2020-07-18T15:18:56.157183Z",
     "iopub.status.idle": "2020-07-18T15:18:56.221791Z",
     "shell.execute_reply": "2020-07-18T15:18:56.221248Z"
    },
    "papermill": {
     "duration": 0.087135,
     "end_time": "2020-07-18T15:18:56.221872",
     "exception": false,
     "start_time": "2020-07-18T15:18:56.134737",
     "status": "completed"
    },
    "tags": []
   },
   "outputs": [],
   "source": [
    "#df_0.hist(figsize=(15,15))"
   ]
  },
  {
   "cell_type": "markdown",
   "metadata": {
    "papermill": {
     "duration": 0.022392,
     "end_time": "2020-07-18T15:18:56.282034",
     "exception": false,
     "start_time": "2020-07-18T15:18:56.259642",
     "status": "completed"
    },
    "tags": []
   },
   "source": [
    "#### Checking initialization"
   ]
  },
  {
   "cell_type": "code",
   "execution_count": 25,
   "metadata": {
    "execution": {
     "iopub.execute_input": "2020-07-18T15:18:56.320209Z",
     "iopub.status.busy": "2020-07-18T15:18:56.319893Z",
     "iopub.status.idle": "2020-07-18T15:18:56.330945Z",
     "shell.execute_reply": "2020-07-18T15:18:56.331293Z"
    },
    "papermill": {
     "duration": 0.031102,
     "end_time": "2020-07-18T15:18:56.331364",
     "exception": false,
     "start_time": "2020-07-18T15:18:56.300262",
     "status": "completed"
    },
    "tags": []
   },
   "outputs": [
    {
     "name": "stdout",
     "output_type": "stream",
     "text": [
      "n_features:  100\n",
      "n_hamiltonians:  6561\n",
      "n_ts:  2\n",
      "CPU times: user 159 µs, sys: 14 µs, total: 173 µs\n",
      "Wall time: 96.1 µs\n"
     ]
    }
   ],
   "source": [
    "%%time\n",
    "n_features = simulation.n_features\n",
    "n_hamiltonians = simulation.n_hamiltonians\n",
    "n_ts = simulation.n_ts\n",
    "\n",
    "print(\"n_features: \", n_features)\n",
    "print(\"n_hamiltonians: \", n_hamiltonians)\n",
    "print(\"n_ts: \", n_ts)"
   ]
  },
  {
   "cell_type": "code",
   "execution_count": 26,
   "metadata": {
    "execution": {
     "iopub.execute_input": "2020-07-18T15:18:56.373977Z",
     "iopub.status.busy": "2020-07-18T15:18:56.373641Z",
     "iopub.status.idle": "2020-07-18T15:18:56.621217Z",
     "shell.execute_reply": "2020-07-18T15:18:56.621476Z"
    },
    "papermill": {
     "duration": 0.269797,
     "end_time": "2020-07-18T15:18:56.621543",
     "exception": false,
     "start_time": "2020-07-18T15:18:56.351746",
     "status": "completed"
    },
    "tags": []
   },
   "outputs": [
    {
     "name": "stdout",
     "output_type": "stream",
     "text": [
      "% train:  0.8414875781130925\n",
      "% val:  0.0\n",
      "% test:  0.15851242188690748\n",
      "% train + val + test:  1.0\n",
      "\n",
      "\n",
      "number of train hamiltonians:  5521\n",
      "number of val hamiltonians:  0\n",
      "number of test hamiltonians:  1040\n",
      "total number of hamiltonians:  6561\n",
      "\n",
      "\n",
      "train ids:  [13, 14, 15, 16, 17, 18, 19, 20, 21, 22, 23, 24, 25, 26, 27, 28, 29, 30, 31, 32, 33, 34, 35, 36, 37, 38, 39, 41, 42, 43, 44, 45, 46, 47, 48, 49, 50, 51, 52, 53, 54, 55, 56, 57, 58, 59, 60, 61, 62, 63, 64, 65, 66, 67, 68, 69, 70, 71, 72, 73, 74, 75, 76, 77, 78, 79, 80, 95, 96, 97, 98, 99, 100, 101, 102, 103, 104, 105, 106, 107, 108, 109, 110, 111, 112, 113, 114, 115, 116, 117, 118, 119, 121, 122, 123, 124, 125, 126, 127, 128, 129, 130, 131, 132, 133, 134, 135, 136, 137, 138, 139, 140, 141, 142, 143, 144, 145, 146, 147, 148, 149, 150, 151, 152, 153, 154, 155, 156, 157, 158, 159, 160, 161, 176, 177, 178, 179, 180, 181, 182, 183, 184, 185, 186, 187, 188, 189, 190, 191, 192, 193, 194, 195, 196, 197, 198, 199, 201, 202, 203, 204, 205, 206, 207, 208, 209, 210, 211, 212, 213, 214, 215, 216, 217, 218, 219, 220, 221, 222, 223, 224, 225, 226, 227, 228, 229, 230, 231, 232, 233, 234, 235, 236, 237, 238, 239, 240, 241, 242, 258, 259, 260, 261, 262, 263, 264, 265, 266, 267, 268, 269, 270, 271, 272, 273, 274, 275, 276, 277, 278, 279, 281, 282, 283, 284, 285, 286, 287, 288, 289, 290, 291, 292, 293, 294, 295, 296, 297, 298, 299, 300, 301, 302, 303, 304, 305, 306, 307, 308, 309, 310, 311, 312, 313, 314, 315, 316, 317, 318, 319, 320, 321, 322, 323, 340, 341, 342, 343, 344, 345, 346, 347, 348, 349, 350, 351, 352, 353, 354, 355, 356, 357, 358, 359, 361, 362, 363, 364, 365, 366, 367, 368, 369, 370, 371, 372, 373, 374, 375, 376, 377, 378, 379, 380, 381, 382, 383, 384, 385, 386, 387, 388, 389, 390, 391, 392, 393, 394, 395, 396, 397, 398, 399, 400, 401, 402, 403, 404, 422, 423, 424, 425, 426, 427, 428, 429, 430, 431, 432, 433, 434, 435, 436, 437, 438, 439, 441, 442, 443, 444, 445, 446, 447, 448, 449, 450, 451, 452, 453, 454, 455, 456, 457, 458, 459, 460, 461, 462, 463, 464, 465, 466, 467, 468, 469, 470, 471, 472, 473, 474, 475, 476, 477, 478, 479, 480, 481, 482, 483, 484, 485, 503, 504, 505, 506, 507, 508, 509, 510, 511, 512, 513, 514, 515, 516, 517, 518, 519, 521, 522, 523, 524, 525, 526, 527, 528, 529, 530, 531, 532, 533, 534, 535, 536, 537, 538, 539, 540, 541, 542, 543, 544, 545, 546, 547, 548, 549, 550, 551, 552, 553, 554, 555, 556, 557, 558, 559, 560, 561, 562, 563, 564, 565, 566, 585, 586, 587, 588, 589, 590, 591, 592, 593, 594, 595, 596, 597, 598, 599, 601, 602, 603, 604, 605, 606, 607, 608, 609, 610, 611, 612, 613, 614, 615, 616, 617, 618, 619, 620, 621, 622, 623, 624, 625, 626, 627, 628, 629, 630, 631, 632, 633, 634, 635, 636, 637, 638, 639, 640, 641, 642, 643, 644, 645, 646, 647, 667, 668, 669, 670, 671, 672, 673, 674, 675, 676, 677, 678, 679, 681, 682, 683, 684, 685, 686, 687, 688, 689, 690, 691, 692, 693, 694, 695, 696, 697, 698, 699, 700, 701, 702, 703, 704, 705, 706, 707, 708, 709, 710, 711, 712, 713, 714, 715, 716, 717, 718, 719, 720, 721, 722, 723, 724, 725, 726, 727, 728, 749, 750, 751, 752, 753, 754, 755, 756, 757, 758, 759, 761, 762, 763, 764, 765, 766, 767, 768, 769, 770, 771, 772, 773, 774, 775, 776, 777, 778, 779, 780, 781, 782, 783, 784, 785, 786, 787, 788, 789, 790, 791, 792, 793, 794, 795, 796, 797, 798, 799, 800, 801, 802, 803, 804, 805, 806, 807, 808, 809, 830, 831, 832, 833, 834, 835, 836, 837, 838, 839, 841, 842, 843, 844, 845, 846, 847, 848, 849, 850, 851, 852, 853, 854, 855, 856, 857, 858, 859, 860, 861, 862, 863, 864, 865, 866, 867, 868, 869, 870, 871, 872, 873, 874, 875, 876, 877, 878, 879, 880, 881, 882, 883, 884, 885, 886, 887, 888, 889, 890, 912, 913, 914, 915, 916, 917, 918, 919, 921, 922, 923, 924, 925, 926, 927, 928, 929, 930, 931, 932, 933, 934, 935, 936, 937, 938, 939, 940, 941, 942, 943, 944, 945, 946, 947, 948, 949, 950, 951, 952, 953, 954, 955, 956, 957, 958, 959, 960, 961, 962, 963, 964, 965, 966, 967, 968, 969, 970, 971, 994, 995, 996, 997, 998, 999, 1001, 1002, 1003, 1004, 1005, 1006, 1007, 1008, 1009, 1010, 1011, 1012, 1013, 1014, 1015, 1016, 1017, 1018, 1019, 1020, 1021, 1022, 1023, 1024, 1025, 1026, 1027, 1028, 1029, 1030, 1031, 1032, 1033, 1034, 1035, 1036, 1037, 1038, 1039, 1040, 1041, 1042, 1043, 1044, 1045, 1046, 1047, 1048, 1049, 1050, 1051, 1052, 1076, 1077, 1078, 1079, 1081, 1082, 1083, 1084, 1085, 1086, 1087, 1088, 1089, 1090, 1091, 1092, 1093, 1094, 1095, 1096, 1097, 1098, 1099, 1100, 1101, 1102, 1103, 1104, 1105, 1106, 1107, 1108, 1109, 1110, 1111, 1112, 1113, 1114, 1115, 1116, 1117, 1118, 1119, 1120, 1121, 1122, 1123, 1124, 1125, 1126, 1127, 1128, 1129, 1130, 1131, 1132, 1133, 1134, 1157, 1158, 1159, 1161, 1162, 1163, 1164, 1165, 1166, 1167, 1168, 1169, 1170, 1171, 1172, 1173, 1174, 1175, 1176, 1177, 1178, 1179, 1180, 1181, 1182, 1183, 1184, 1185, 1186, 1187, 1188, 1189, 1190, 1191, 1192, 1193, 1194, 1195, 1196, 1197, 1198, 1199, 1200, 1201, 1202, 1203, 1204, 1205, 1206, 1207, 1208, 1209, 1210, 1211, 1212, 1213, 1214, 1215, 1216, 1239, 1241, 1242, 1243, 1244, 1245, 1246, 1247, 1248, 1249, 1250, 1251, 1252, 1253, 1254, 1255, 1256, 1257, 1258, 1259, 1260, 1261, 1262, 1263, 1264, 1265, 1266, 1267, 1268, 1269, 1270, 1271, 1272, 1273, 1274, 1275, 1276, 1277, 1278, 1279, 1280, 1281, 1282, 1283, 1284, 1285, 1286, 1287, 1288, 1289, 1290, 1291, 1292, 1293, 1294, 1295, 1296, 1297, 1298, 1299, 1321, 1322, 1323, 1324, 1325, 1326, 1327, 1328, 1329, 1330, 1331, 1332, 1333, 1334, 1335, 1336, 1337, 1338, 1339, 1340, 1341, 1342, 1343, 1344, 1345, 1346, 1347, 1348, 1349, 1350, 1351, 1352, 1353, 1354, 1355, 1356, 1357, 1358, 1359, 1360, 1361, 1362, 1363, 1364, 1365, 1366, 1367, 1368, 1369, 1370, 1371, 1372, 1373, 1374, 1375, 1376, 1377, 1378, 1379, 1380, 1381, 1402, 1403, 1404, 1405, 1406, 1407, 1408, 1409, 1410, 1411, 1412, 1413, 1414, 1415, 1416, 1417, 1418, 1419, 1420, 1421, 1422, 1423, 1424, 1425, 1426, 1427, 1428, 1429, 1430, 1431, 1432, 1433, 1434, 1435, 1436, 1437, 1438, 1439, 1440, 1441, 1442, 1443, 1444, 1445, 1446, 1447, 1448, 1449, 1450, 1451, 1452, 1453, 1454, 1455, 1456, 1457, 1458, 1459, 1460, 1461, 1462, 1463, 1464, 1484, 1485, 1486, 1487, 1488, 1489, 1490, 1491, 1492, 1493, 1494, 1495, 1496, 1497, 1498, 1499, 1500, 1501, 1502, 1503, 1504, 1505, 1506, 1507, 1508, 1509, 1510, 1511, 1512, 1513, 1514, 1515, 1516, 1517, 1518, 1519, 1520, 1521, 1522, 1523, 1524, 1525, 1526, 1527, 1528, 1529, 1530, 1531, 1532, 1533, 1534, 1535, 1536, 1537, 1538, 1539, 1540, 1541, 1542, 1543, 1544, 1545, 1546, 1566, 1567, 1568, 1569, 1570, 1571, 1572, 1573, 1574, 1575, 1576, 1577, 1578, 1579, 1580, 1581, 1582, 1583, 1584, 1585, 1586, 1587, 1588, 1589, 1590, 1591, 1592, 1593, 1594, 1595, 1596, 1597, 1598, 1599, 1600, 1601, 1602, 1603, 1604, 1605, 1606, 1607, 1608, 1609, 1610, 1611, 1612, 1613, 1614, 1615, 1616, 1617, 1618, 1619, 1620, 1621, 1622, 1623, 1624, 1625, 1626, 1627, 1628, 1648, 1649, 1650, 1651, 1652, 1653, 1654, 1655, 1656, 1657, 1658, 1659, 1660, 1661, 1662, 1663, 1664, 1665, 1666, 1667, 1668, 1669, 1670, 1671, 1672, 1673, 1674, 1675, 1676, 1677, 1678, 1679, 1680, 1681, 1682, 1683, 1684, 1685, 1686, 1687, 1688, 1689, 1690, 1691, 1692, 1693, 1694, 1695, 1696, 1697, 1698, 1699, 1701, 1702, 1703, 1704, 1705, 1706, 1707, 1708, 1709, 1710, 1711, 1729, 1730, 1731, 1732, 1733, 1734, 1735, 1736, 1737, 1738, 1739, 1740, 1741, 1742, 1743, 1744, 1745, 1746, 1747, 1748, 1749, 1750, 1751, 1752, 1753, 1754, 1755, 1756, 1757, 1758, 1759, 1760, 1761, 1762, 1763, 1764, 1765, 1766, 1767, 1768, 1769, 1770, 1771, 1772, 1773, 1774, 1775, 1776, 1777, 1778, 1779, 1781, 1782, 1783, 1784, 1785, 1786, 1787, 1788, 1789, 1790, 1791, 1792, 1793, 1811, 1812, 1813, 1814, 1815, 1816, 1817, 1818, 1819, 1820, 1821, 1822, 1823, 1824, 1825, 1826, 1827, 1828, 1829, 1830, 1831, 1832, 1833, 1834, 1835, 1836, 1837, 1838, 1839, 1840, 1841, 1842, 1843, 1844, 1845, 1846, 1847, 1848, 1849, 1850, 1851, 1852, 1853, 1854, 1855, 1856, 1857, 1858, 1859, 1861, 1862, 1863, 1864, 1865, 1866, 1867, 1868, 1869, 1870, 1871, 1872, 1873, 1874, 1875, 1876, 1893, 1894, 1895, 1896, 1897, 1898, 1899, 1900, 1901, 1902, 1903, 1904, 1905, 1906, 1907, 1908, 1909, 1910, 1911, 1912, 1913, 1914, 1915, 1916, 1917, 1918, 1919, 1920, 1921, 1922, 1923, 1924, 1925, 1926, 1927, 1928, 1929, 1930, 1931, 1932, 1933, 1934, 1935, 1936, 1937, 1938, 1939, 1941, 1942, 1943, 1944, 1945, 1946, 1947, 1948, 1949, 1950, 1951, 1952, 1953, 1954, 1955, 1956, 1957, 1958, 1975, 1976, 1977, 1978, 1979, 1980, 1981, 1982, 1983, 1984, 1985, 1986, 1987, 1988, 1989, 1990, 1991, 1992, 1993, 1994, 1995, 1996, 1997, 1998, 1999, 2000, 2001, 2002, 2003, 2004, 2005, 2006, 2007, 2008, 2009, 2010, 2011, 2012, 2013, 2014, 2015, 2016, 2017, 2018, 2019, 2021, 2022, 2023, 2024, 2025, 2026, 2027, 2028, 2029, 2030, 2031, 2032, 2033, 2034, 2035, 2036, 2037, 2038, 2039, 2056, 2057, 2058, 2059, 2060, 2061, 2062, 2063, 2064, 2065, 2066, 2067, 2068, 2069, 2070, 2071, 2072, 2073, 2074, 2075, 2076, 2077, 2078, 2079, 2080, 2081, 2082, 2083, 2084, 2085, 2086, 2087, 2088, 2089, 2090, 2091, 2092, 2093, 2094, 2095, 2096, 2097, 2098, 2099, 2101, 2102, 2103, 2104, 2105, 2106, 2107, 2108, 2109, 2110, 2111, 2112, 2113, 2114, 2115, 2116, 2117, 2118, 2119, 2121, 2122, 2123, 2138, 2139, 2140, 2141, 2142, 2143, 2144, 2145, 2146, 2147, 2148, 2149, 2150, 2151, 2152, 2153, 2154, 2155, 2156, 2157, 2158, 2159, 2160, 2161, 2162, 2163, 2164, 2165, 2166, 2167, 2168, 2169, 2170, 2171, 2172, 2173, 2174, 2175, 2176, 2177, 2178, 2179, 2181, 2182, 2183, 2184, 2185, 2186, 2187, 2188, 2189, 2190, 2191, 2192, 2193, 2194, 2195, 2196, 2197, 2198, 2199, 2201, 2202, 2203, 2204, 2205, 2220, 2221, 2222, 2223, 2224, 2225, 2226, 2227, 2228, 2229, 2230, 2231, 2232, 2233, 2234, 2235, 2236, 2237, 2238, 2239, 2240, 2241, 2242, 2243, 2244, 2245, 2246, 2247, 2248, 2249, 2250, 2251, 2252, 2253, 2254, 2255, 2256, 2257, 2258, 2259, 2261, 2262, 2263, 2264, 2265, 2266, 2267, 2268, 2269, 2270, 2271, 2272, 2273, 2274, 2275, 2276, 2277, 2278, 2279, 2281, 2282, 2283, 2284, 2285, 2286, 2287, 2288, 2301, 2302, 2303, 2304, 2305, 2306, 2307, 2308, 2309, 2310, 2311, 2312, 2313, 2314, 2315, 2316, 2317, 2318, 2319, 2320, 2321, 2322, 2323, 2324, 2325, 2326, 2327, 2328, 2329, 2330, 2331, 2332, 2333, 2334, 2335, 2336, 2337, 2338, 2339, 2341, 2342, 2343, 2344, 2345, 2346, 2347, 2348, 2349, 2350, 2351, 2352, 2353, 2354, 2355, 2356, 2357, 2358, 2359, 2361, 2362, 2363, 2364, 2365, 2366, 2367, 2368, 2369, 2370, 2383, 2384, 2385, 2386, 2387, 2388, 2389, 2390, 2391, 2392, 2393, 2394, 2395, 2396, 2397, 2398, 2399, 2400, 2401, 2402, 2403, 2404, 2405, 2406, 2407, 2408, 2409, 2410, 2411, 2412, 2413, 2414, 2415, 2416, 2417, 2418, 2419, 2421, 2422, 2423, 2424, 2425, 2426, 2427, 2428, 2429, 2430, 2431, 2432, 2433, 2434, 2435, 2436, 2437, 2438, 2439, 2441, 2442, 2443, 2444, 2445, 2446, 2447, 2448, 2449, 2450, 2451, 2452, 2453, 2465, 2466, 2467, 2468, 2469, 2470, 2471, 2472, 2473, 2474, 2475, 2476, 2477, 2478, 2479, 2480, 2481, 2482, 2483, 2484, 2485, 2486, 2487, 2488, 2489, 2490, 2491, 2492, 2493, 2494, 2495, 2496, 2497, 2498, 2499, 2501, 2502, 2503, 2504, 2505, 2506, 2507, 2508, 2509, 2510, 2511, 2512, 2513, 2514, 2515, 2516, 2517, 2518, 2519, 2521, 2522, 2523, 2524, 2525, 2526, 2527, 2528, 2529, 2530, 2531, 2532, 2533, 2534, 2535, 2547, 2548, 2549, 2550, 2551, 2552, 2553, 2554, 2555, 2556, 2557, 2558, 2559, 2560, 2561, 2562, 2563, 2564, 2565, 2566, 2567, 2568, 2569, 2570, 2571, 2572, 2573, 2574, 2575, 2576, 2577, 2578, 2579, 2581, 2582, 2583, 2584, 2585, 2586, 2587, 2588, 2589, 2590, 2591, 2592, 2593, 2594, 2595, 2596, 2597, 2598, 2599, 2601, 2602, 2603, 2604, 2605, 2606, 2607, 2608, 2609, 2610, 2611, 2612, 2613, 2614, 2615, 2616, 2617, 2628, 2629, 2630, 2631, 2632, 2633, 2634, 2635, 2636, 2637, 2638, 2639, 2640, 2641, 2642, 2643, 2644, 2645, 2646, 2647, 2648, 2649, 2650, 2651, 2652, 2653, 2654, 2655, 2656, 2657, 2658, 2659, 2661, 2662, 2663, 2664, 2665, 2666, 2667, 2668, 2669, 2670, 2671, 2672, 2673, 2674, 2675, 2676, 2677, 2678, 2679, 2681, 2682, 2683, 2684, 2685, 2686, 2687, 2688, 2689, 2690, 2691, 2692, 2693, 2694, 2695, 2696, 2697, 2698, 2699, 2700, 2710, 2711, 2712, 2713, 2714, 2715, 2716, 2717, 2718, 2719, 2720, 2721, 2722, 2723, 2724, 2725, 2726, 2727, 2728, 2729, 2730, 2731, 2732, 2733, 2734, 2735, 2736, 2737, 2738, 2739, 2741, 2742, 2743, 2744, 2745, 2746, 2747, 2748, 2749, 2750, 2751, 2752, 2753, 2754, 2755, 2756, 2757, 2758, 2759, 2761, 2762, 2763, 2764, 2765, 2766, 2767, 2768, 2769, 2770, 2771, 2772, 2773, 2774, 2775, 2776, 2777, 2778, 2779, 2780, 2781, 2782, 2792, 2793, 2794, 2795, 2796, 2797, 2798, 2799, 2800, 2801, 2802, 2803, 2804, 2805, 2806, 2807, 2808, 2809, 2810, 2811, 2812, 2813, 2814, 2815, 2816, 2817, 2818, 2819, 2821, 2822, 2823, 2824, 2825, 2826, 2827, 2828, 2829, 2830, 2831, 2832, 2833, 2834, 2835, 2836, 2837, 2838, 2839, 2841, 2842, 2843, 2844, 2845, 2846, 2847, 2848, 2849, 2850, 2851, 2852, 2853, 2854, 2855, 2856, 2857, 2858, 2859, 2860, 2861, 2862, 2863, 2864, 2865, 2874, 2875, 2876, 2877, 2878, 2879, 2880, 2881, 2882, 2883, 2884, 2885, 2886, 2887, 2888, 2889, 2890, 2891, 2892, 2893, 2894, 2895, 2896, 2897, 2898, 2899, 2901, 2902, 2903, 2904, 2905, 2906, 2907, 2908, 2909, 2910, 2911, 2912, 2913, 2914, 2915, 2916, 2917, 2918, 2919, 2921, 2922, 2923, 2924, 2925, 2926, 2927, 2928, 2929, 2930, 2931, 2932, 2933, 2934, 2935, 2936, 2937, 2938, 2939, 2940, 2941, 2942, 2943, 2944, 2945, 2946, 2947, 2955, 2956, 2957, 2958, 2959, 2960, 2961, 2962, 2963, 2964, 2965, 2966, 2967, 2968, 2969, 2970, 2971, 2972, 2973, 2974, 2975, 2976, 2977, 2978, 2979, 2981, 2982, 2983, 2984, 2985, 2986, 2987, 2988, 2989, 2990, 2991, 2992, 2993, 2994, 2995, 2996, 2997, 2998, 2999, 3001, 3002, 3003, 3004, 3005, 3006, 3007, 3008, 3009, 3010, 3011, 3012, 3013, 3014, 3015, 3016, 3017, 3018, 3019, 3020, 3021, 3022, 3023, 3024, 3025, 3026, 3027, 3028, 3029, 3037, 3038, 3039, 3040, 3041, 3042, 3043, 3044, 3045, 3046, 3047, 3048, 3049, 3050, 3051, 3052, 3053, 3054, 3055, 3056, 3057, 3058, 3059, 3061, 3062, 3063, 3064, 3065, 3066, 3067, 3068, 3069, 3070, 3071, 3072, 3073, 3074, 3075, 3076, 3077, 3078, 3079, 3081, 3082, 3083, 3084, 3085, 3086, 3087, 3088, 3089, 3090, 3091, 3092, 3093, 3094, 3095, 3096, 3097, 3098, 3099, 3100, 3101, 3102, 3103, 3104, 3105, 3106, 3107, 3108, 3109, 3110, 3111, 3112, 3119, 3120, 3121, 3122, 3123, 3124, 3125, 3126, 3127, 3128, 3129, 3130, 3131, 3132, 3133, 3134, 3135, 3136, 3137, 3138, 3139, 3141, 3142, 3143, 3144, 3145, 3146, 3147, 3148, 3149, 3150, 3151, 3152, 3153, 3154, 3155, 3156, 3157, 3158, 3159, 3161, 3162, 3163, 3164, 3165, 3166, 3167, 3168, 3169, 3170, 3171, 3172, 3173, 3174, 3175, 3176, 3177, 3178, 3179, 3180, 3181, 3182, 3183, 3184, 3185, 3186, 3187, 3188, 3189, 3190, 3191, 3192, 3193, 3194, 3201, 3202, 3203, 3204, 3205, 3206, 3207, 3208, 3209, 3210, 3211, 3212, 3213, 3214, 3215, 3216, 3217, 3218, 3219, 3221, 3222, 3223, 3224, 3225, 3226, 3227, 3228, 3229, 3230, 3231, 3232, 3233, 3234, 3235, 3236, 3237, 3238, 3239, 3241, 3242, 3243, 3244, 3245, 3246, 3247, 3248, 3249, 3250, 3251, 3252, 3253, 3254, 3255, 3256, 3257, 3258, 3259, 3260, 3261, 3262, 3263, 3264, 3265, 3266, 3267, 3268, 3269, 3270, 3271, 3272, 3273, 3274, 3275, 3276, 3277, 3282, 3283, 3284, 3285, 3286, 3287, 3288, 3289, 3290, 3291, 3292, 3293, 3294, 3295, 3296, 3297, 3298, 3299, 3301, 3302, 3303, 3304, 3305, 3306, 3307, 3308, 3309, 3310, 3311, 3312, 3313, 3314, 3315, 3316, 3317, 3318, 3319, 3320, 3321, 3322, 3323, 3324, 3325, 3326, 3327, 3328, 3329, 3330, 3331, 3332, 3333, 3334, 3335, 3336, 3337, 3338, 3339, 3340, 3341, 3342, 3343, 3344, 3345, 3346, 3347, 3348, 3349, 3350, 3351, 3352, 3353, 3354, 3355, 3356, 3357, 3358, 3359, 3364, 3365, 3366, 3367, 3368, 3369, 3370, 3371, 3372, 3373, 3374, 3375, 3376, 3377, 3378, 3379, 3381, 3382, 3383, 3384, 3385, 3386, 3387, 3388, 3389, 3390, 3391, 3392, 3393, 3394, 3395, 3396, 3397, 3398, 3399, 3400, 3401, 3402, 3403, 3404, 3405, 3406, 3407, 3408, 3409, 3410, 3411, 3412, 3413, 3414, 3415, 3416, 3417, 3418, 3419, 3420, 3421, 3422, 3423, 3424, 3425, 3426, 3427, 3428, 3429, 3430, 3431, 3432, 3433, 3434, 3435, 3436, 3437, 3438, 3439, 3440, 3441, 3442, 3446, 3447, 3448, 3449, 3450, 3451, 3452, 3453, 3454, 3455, 3456, 3457, 3458, 3459, 3461, 3462, 3463, 3464, 3465, 3466, 3467, 3468, 3469, 3470, 3471, 3472, 3473, 3474, 3475, 3476, 3477, 3478, 3479, 3480, 3481, 3482, 3483, 3484, 3485, 3486, 3487, 3488, 3489, 3490, 3491, 3492, 3493, 3494, 3495, 3496, 3497, 3498, 3499, 3500, 3501, 3502, 3503, 3504, 3505, 3506, 3507, 3508, 3509, 3510, 3511, 3512, 3513, 3514, 3515, 3516, 3517, 3518, 3519, 3520, 3521, 3522, 3523, 3524, 3527, 3528, 3529, 3530, 3531, 3532, 3533, 3534, 3535, 3536, 3537, 3538, 3539, 3541, 3542, 3543, 3544, 3545, 3546, 3547, 3548, 3549, 3550, 3551, 3552, 3553, 3554, 3555, 3556, 3557, 3558, 3559, 3560, 3561, 3562, 3563, 3564, 3565, 3566, 3567, 3568, 3569, 3570, 3571, 3572, 3573, 3574, 3575, 3576, 3577, 3578, 3579, 3580, 3581, 3582, 3583, 3584, 3585, 3586, 3587, 3588, 3589, 3590, 3591, 3592, 3593, 3594, 3595, 3596, 3597, 3598, 3599, 3600, 3601, 3602, 3603, 3604, 3605, 3606, 3609, 3610, 3611, 3612, 3613, 3614, 3615, 3616, 3617, 3618, 3619, 3621, 3622, 3623, 3624, 3625, 3626, 3627, 3628, 3629, 3630, 3631, 3632, 3633, 3634, 3635, 3636, 3637, 3638, 3639, 3640, 3641, 3642, 3643, 3644, 3645, 3646, 3647, 3648, 3649, 3650, 3651, 3652, 3653, 3654, 3655, 3656, 3657, 3658, 3659, 3660, 3661, 3662, 3663, 3664, 3665, 3666, 3667, 3668, 3669, 3670, 3671, 3672, 3673, 3674, 3675, 3676, 3677, 3678, 3679, 3680, 3681, 3682, 3683, 3684, 3685, 3686, 3687, 3688, 3689, 3691, 3692, 3693, 3694, 3695, 3696, 3697, 3698, 3699, 3701, 3702, 3703, 3704, 3705, 3706, 3707, 3708, 3709, 3710, 3711, 3712, 3713, 3714, 3715, 3716, 3717, 3718, 3719, 3720, 3721, 3722, 3723, 3724, 3725, 3726, 3727, 3728, 3729, 3730, 3731, 3732, 3733, 3734, 3735, 3736, 3737, 3738, 3739, 3740, 3741, 3742, 3743, 3744, 3745, 3746, 3747, 3748, 3749, 3750, 3751, 3752, 3753, 3754, 3755, 3756, 3757, 3758, 3759, 3760, 3761, 3762, 3763, 3764, 3765, 3766, 3767, 3768, 3769, 3770, 3771, 3773, 3774, 3775, 3776, 3777, 3778, 3779, 3781, 3782, 3783, 3784, 3785, 3786, 3787, 3788, 3789, 3790, 3791, 3792, 3793, 3794, 3795, 3796, 3797, 3798, 3799, 3800, 3801, 3802, 3803, 3804, 3805, 3806, 3807, 3808, 3809, 3810, 3811, 3812, 3813, 3814, 3815, 3816, 3817, 3818, 3819, 3820, 3821, 3822, 3823, 3824, 3825, 3826, 3827, 3828, 3829, 3830, 3831, 3832, 3833, 3834, 3835, 3836, 3837, 3838, 3839, 3840, 3841, 3842, 3843, 3844, 3845, 3846, 3847, 3848, 3849, 3850, 3851, 3852, 3853, 3855, 3856, 3857, 3858, 3859, 3861, 3862, 3863, 3864, 3865, 3866, 3867, 3868, 3869, 3870, 3871, 3872, 3873, 3874, 3875, 3876, 3877, 3878, 3879, 3880, 3881, 3882, 3883, 3884, 3885, 3886, 3887, 3888, 3889, 3890, 3891, 3892, 3893, 3894, 3895, 3896, 3897, 3898, 3899, 3900, 3901, 3902, 3903, 3904, 3905, 3906, 3907, 3908, 3909, 3910, 3911, 3912, 3913, 3914, 3915, 3916, 3917, 3918, 3919, 3920, 3921, 3922, 3923, 3924, 3925, 3926, 3927, 3928, 3929, 3930, 3931, 3932, 3933, 3934, 3935, 3937, 3938, 3939, 3941, 3942, 3943, 3944, 3945, 3946, 3947, 3948, 3949, 3950, 3951, 3952, 3953, 3954, 3955, 3956, 3957, 3958, 3959, 3960, 3961, 3962, 3963, 3964, 3965, 3966, 3967, 3968, 3969, 3970, 3971, 3972, 3973, 3974, 3975, 3976, 3977, 3978, 3979, 3980, 3981, 3982, 3983, 3984, 3985, 3986, 3987, 3988, 3989, 3990, 3991, 3992, 3993, 3994, 3995, 3996, 3997, 3998, 3999, 4000, 4001, 4002, 4003, 4004, 4005, 4006, 4007, 4008, 4009, 4010, 4011, 4012, 4013, 4014, 4015, 4016, 4017, 4021, 4022, 4023, 4024, 4025, 4026, 4027, 4028, 4029, 4030, 4031, 4032, 4033, 4034, 4035, 4036, 4037, 4038, 4039, 4040, 4041, 4042, 4043, 4044, 4045, 4046, 4047, 4048, 4049, 4050, 4051, 4052, 4053, 4054, 4055, 4056, 4057, 4058, 4059, 4060, 4061, 4062, 4063, 4064, 4065, 4066, 4067, 4068, 4069, 4070, 4071, 4072, 4073, 4074, 4075, 4076, 4077, 4078, 4079, 4080, 4081, 4082, 4083, 4084, 4085, 4086, 4087, 4088, 4089, 4090, 4091, 4092, 4093, 4094, 4095, 4096, 4097, 4098, 4102, 4103, 4104, 4105, 4106, 4107, 4108, 4109, 4110, 4111, 4112, 4113, 4114, 4115, 4116, 4117, 4118, 4119, 4120, 4121, 4122, 4123, 4124, 4125, 4126, 4127, 4128, 4129, 4130, 4131, 4132, 4133, 4134, 4135, 4136, 4137, 4138, 4139, 4140, 4141, 4142, 4143, 4144, 4145, 4146, 4147, 4148, 4149, 4150, 4151, 4152, 4153, 4154, 4155, 4156, 4157, 4158, 4159, 4160, 4161, 4162, 4163, 4164, 4165, 4166, 4167, 4168, 4169, 4170, 4171, 4172, 4173, 4174, 4175, 4176, 4177, 4178, 4179, 4184, 4185, 4186, 4187, 4188, 4189, 4190, 4191, 4192, 4193, 4194, 4195, 4196, 4197, 4198, 4199, 4200, 4201, 4202, 4203, 4204, 4205, 4206, 4207, 4208, 4209, 4210, 4211, 4212, 4213, 4214, 4215, 4216, 4217, 4218, 4219, 4220, 4221, 4222, 4223, 4224, 4225, 4226, 4227, 4228, 4229, 4230, 4231, 4232, 4233, 4234, 4235, 4236, 4237, 4238, 4239, 4240, 4241, 4242, 4243, 4244, 4245, 4246, 4247, 4248, 4249, 4250, 4251, 4252, 4253, 4254, 4255, 4256, 4257, 4258, 4259, 4261, 4262, 4267, 4268, 4269, 4270, 4271, 4272, 4273, 4274, 4275, 4276, 4277, 4278, 4279, 4280, 4281, 4282, 4283, 4284, 4285, 4286, 4287, 4288, 4289, 4290, 4291, 4292, 4293, 4294, 4295, 4296, 4297, 4298, 4299, 4300, 4301, 4302, 4303, 4304, 4305, 4306, 4307, 4308, 4309, 4310, 4311, 4312, 4313, 4314, 4315, 4316, 4317, 4318, 4319, 4320, 4321, 4322, 4323, 4324, 4325, 4326, 4327, 4328, 4329, 4330, 4331, 4332, 4333, 4334, 4335, 4336, 4337, 4338, 4339, 4341, 4342, 4343, 4344, 4349, 4350, 4351, 4352, 4353, 4354, 4355, 4356, 4357, 4358, 4359, 4360, 4361, 4362, 4363, 4364, 4365, 4366, 4367, 4368, 4369, 4370, 4371, 4372, 4373, 4374, 4375, 4376, 4377, 4378, 4379, 4380, 4381, 4382, 4383, 4384, 4385, 4386, 4387, 4388, 4389, 4390, 4391, 4392, 4393, 4394, 4395, 4396, 4397, 4398, 4399, 4400, 4401, 4402, 4403, 4404, 4405, 4406, 4407, 4408, 4409, 4410, 4411, 4412, 4413, 4414, 4415, 4416, 4417, 4418, 4419, 4421, 4422, 4423, 4424, 4425, 4426, 4432, 4433, 4434, 4435, 4436, 4437, 4438, 4439, 4440, 4441, 4442, 4443, 4444, 4445, 4446, 4447, 4448, 4449, 4450, 4451, 4452, 4453, 4454, 4455, 4456, 4457, 4458, 4459, 4460, 4461, 4462, 4463, 4464, 4465, 4466, 4467, 4468, 4469, 4470, 4471, 4472, 4473, 4474, 4475, 4476, 4477, 4478, 4479, 4480, 4481, 4482, 4483, 4484, 4485, 4486, 4487, 4488, 4489, 4490, 4491, 4492, 4493, 4494, 4495, 4496, 4497, 4498, 4499, 4501, 4502, 4503, 4504, 4505, 4506, 4507, 4514, 4515, 4516, 4517, 4518, 4519, 4520, 4521, 4522, 4523, 4524, 4525, 4526, 4527, 4528, 4529, 4530, 4531, 4532, 4533, 4534, 4535, 4536, 4537, 4538, 4539, 4540, 4541, 4542, 4543, 4544, 4545, 4546, 4547, 4548, 4549, 4550, 4551, 4552, 4553, 4554, 4555, 4556, 4557, 4558, 4559, 4560, 4561, 4562, 4563, 4564, 4565, 4566, 4567, 4568, 4569, 4570, 4571, 4572, 4573, 4574, 4575, 4576, 4577, 4578, 4579, 4581, 4582, 4583, 4584, 4585, 4586, 4587, 4588, 4589, 4596, 4597, 4598, 4599, 4600, 4601, 4602, 4603, 4604, 4605, 4606, 4607, 4608, 4609, 4610, 4611, 4612, 4613, 4614, 4615, 4616, 4617, 4618, 4619, 4620, 4621, 4622, 4623, 4624, 4625, 4626, 4627, 4628, 4629, 4630, 4631, 4632, 4633, 4634, 4635, 4636, 4637, 4638, 4639, 4640, 4641, 4642, 4643, 4644, 4645, 4646, 4647, 4648, 4649, 4650, 4651, 4652, 4653, 4654, 4655, 4656, 4657, 4658, 4659, 4661, 4662, 4663, 4664, 4665, 4666, 4667, 4668, 4669, 4670, 4671, 4679, 4680, 4681, 4682, 4683, 4684, 4685, 4686, 4687, 4688, 4689, 4690, 4691, 4692, 4693, 4694, 4695, 4696, 4697, 4698, 4699, 4700, 4701, 4702, 4703, 4704, 4705, 4706, 4707, 4708, 4709, 4710, 4711, 4712, 4713, 4714, 4715, 4716, 4717, 4718, 4719, 4720, 4721, 4722, 4723, 4724, 4725, 4726, 4727, 4728, 4729, 4730, 4731, 4732, 4733, 4734, 4735, 4736, 4737, 4738, 4739, 4741, 4742, 4743, 4744, 4745, 4746, 4747, 4748, 4749, 4750, 4751, 4752, 4761, 4762, 4763, 4764, 4765, 4766, 4767, 4768, 4769, 4770, 4771, 4772, 4773, 4774, 4775, 4776, 4777, 4778, 4779, 4780, 4781, 4782, 4783, 4784, 4785, 4786, 4787, 4788, 4789, 4790, 4791, 4792, 4793, 4794, 4795, 4796, 4797, 4798, 4799, 4800, 4801, 4802, 4803, 4804, 4805, 4806, 4807, 4808, 4809, 4810, 4811, 4812, 4813, 4814, 4815, 4816, 4817, 4818, 4819, 4821, 4822, 4823, 4824, 4825, 4826, 4827, 4828, 4829, 4830, 4831, 4832, 4833, 4834, 4844, 4845, 4846, 4847, 4848, 4849, 4850, 4851, 4852, 4853, 4854, 4855, 4856, 4857, 4858, 4859, 4860, 4861, 4862, 4863, 4864, 4865, 4866, 4867, 4868, 4869, 4870, 4871, 4872, 4873, 4874, 4875, 4876, 4877, 4878, 4879, 4880, 4881, 4882, 4883, 4884, 4885, 4886, 4887, 4888, 4889, 4890, 4891, 4892, 4893, 4894, 4895, 4896, 4897, 4898, 4899, 4901, 4902, 4903, 4904, 4905, 4906, 4907, 4908, 4909, 4910, 4911, 4912, 4913, 4914, 4915, 4916, 4926, 4927, 4928, 4929, 4930, 4931, 4932, 4933, 4934, 4935, 4936, 4937, 4938, 4939, 4940, 4941, 4942, 4943, 4944, 4945, 4946, 4947, 4948, 4949, 4950, 4951, 4952, 4953, 4954, 4955, 4956, 4957, 4958, 4959, 4960, 4961, 4962, 4963, 4964, 4965, 4966, 4967, 4968, 4969, 4970, 4971, 4972, 4973, 4974, 4975, 4976, 4977, 4978, 4979, 4981, 4982, 4983, 4984, 4985, 4986, 4987, 4988, 4989, 4990, 4991, 4992, 4993, 4994, 4995, 4996, 4997, 4998, 5008, 5009, 5010, 5011, 5012, 5013, 5014, 5015, 5016, 5017, 5018, 5019, 5020, 5021, 5022, 5023, 5024, 5025, 5026, 5027, 5028, 5029, 5030, 5031, 5032, 5033, 5034, 5035, 5036, 5037, 5038, 5039, 5040, 5041, 5042, 5043, 5044, 5045, 5046, 5047, 5048, 5049, 5050, 5051, 5052, 5053, 5054, 5055, 5056, 5057, 5058, 5059, 5061, 5062, 5063, 5064, 5065, 5066, 5067, 5068, 5069, 5070, 5071, 5072, 5073, 5074, 5075, 5076, 5077, 5078, 5079, 5091, 5092, 5093, 5094, 5095, 5096, 5097, 5098, 5099, 5100, 5101, 5102, 5103, 5104, 5105, 5106, 5107, 5108, 5109, 5110, 5111, 5112, 5113, 5114, 5115, 5116, 5117, 5118, 5119, 5120, 5121, 5122, 5123, 5124, 5125, 5126, 5127, 5128, 5129, 5130, 5131, 5132, 5133, 5134, 5135, 5136, 5137, 5138, 5139, 5141, 5142, 5143, 5144, 5145, 5146, 5147, 5148, 5149, 5150, 5151, 5152, 5153, 5154, 5155, 5156, 5157, 5158, 5159, 5160, 5161, 5173, 5174, 5175, 5176, 5177, 5178, 5179, 5180, 5181, 5182, 5183, 5184, 5185, 5186, 5187, 5188, 5189, 5190, 5191, 5192, 5193, 5194, 5195, 5196, 5197, 5198, 5199, 5200, 5201, 5202, 5203, 5204, 5205, 5206, 5207, 5208, 5209, 5210, 5211, 5212, 5213, 5214, 5215, 5216, 5217, 5218, 5219, 5221, 5222, 5223, 5224, 5225, 5226, 5227, 5228, 5229, 5230, 5231, 5232, 5233, 5234, 5235, 5236, 5237, 5238, 5239, 5240, 5241, 5242, 5243, 5256, 5257, 5258, 5259, 5260, 5261, 5262, 5263, 5264, 5265, 5266, 5267, 5268, 5269, 5270, 5271, 5272, 5273, 5274, 5275, 5276, 5277, 5278, 5279, 5280, 5281, 5282, 5283, 5284, 5285, 5286, 5287, 5288, 5289, 5290, 5291, 5292, 5293, 5294, 5295, 5296, 5297, 5298, 5299, 5301, 5302, 5303, 5304, 5305, 5306, 5307, 5308, 5309, 5310, 5311, 5312, 5313, 5314, 5315, 5316, 5317, 5318, 5319, 5320, 5321, 5322, 5323, 5324, 5325, 5338, 5339, 5340, 5341, 5342, 5343, 5344, 5345, 5346, 5347, 5348, 5349, 5350, 5351, 5352, 5353, 5354, 5355, 5356, 5357, 5358, 5359, 5360, 5361, 5362, 5363, 5364, 5365, 5366, 5367, 5368, 5369, 5370, 5371, 5372, 5373, 5374, 5375, 5376, 5377, 5378, 5379, 5381, 5382, 5383, 5384, 5385, 5386, 5387, 5388, 5389, 5390, 5391, 5392, 5393, 5394, 5395, 5396, 5397, 5398, 5399, 5400, 5401, 5402, 5403, 5404, 5405, 5406, 5421, 5422, 5423, 5424, 5425, 5426, 5427, 5428, 5429, 5430, 5431, 5432, 5433, 5434, 5435, 5436, 5437, 5438, 5439, 5440, 5441, 5442, 5443, 5444, 5445, 5446, 5447, 5448, 5449, 5450, 5451, 5452, 5453, 5454, 5455, 5456, 5457, 5458, 5459, 5461, 5462, 5463, 5464, 5465, 5466, 5467, 5468, 5469, 5470, 5471, 5472, 5473, 5474, 5475, 5476, 5477, 5478, 5479, 5480, 5481, 5482, 5483, 5484, 5485, 5486, 5487, 5488, 5503, 5504, 5505, 5506, 5507, 5508, 5509, 5510, 5511, 5512, 5513, 5514, 5515, 5516, 5517, 5518, 5519, 5520, 5521, 5522, 5523, 5524, 5525, 5526, 5527, 5528, 5529, 5530, 5531, 5532, 5533, 5534, 5535, 5536, 5537, 5538, 5539, 5541, 5542, 5543, 5544, 5545, 5546, 5547, 5548, 5549, 5550, 5551, 5552, 5553, 5554, 5555, 5556, 5557, 5558, 5559, 5560, 5561, 5562, 5563, 5564, 5565, 5566, 5567, 5568, 5569, 5570, 5585, 5586, 5587, 5588, 5589, 5590, 5591, 5592, 5593, 5594, 5595, 5596, 5597, 5598, 5599, 5600, 5601, 5602, 5603, 5604, 5605, 5606, 5607, 5608, 5609, 5610, 5611, 5612, 5613, 5614, 5615, 5616, 5617, 5618, 5619, 5621, 5622, 5623, 5624, 5625, 5626, 5627, 5628, 5629, 5630, 5631, 5632, 5633, 5634, 5635, 5636, 5637, 5638, 5639, 5640, 5641, 5642, 5643, 5644, 5645, 5646, 5647, 5648, 5649, 5650, 5651, 5652, 5668, 5669, 5670, 5671, 5672, 5673, 5674, 5675, 5676, 5677, 5678, 5679, 5680, 5681, 5682, 5683, 5684, 5685, 5686, 5687, 5688, 5689, 5690, 5691, 5692, 5693, 5694, 5695, 5696, 5697, 5698, 5699, 5701, 5702, 5703, 5704, 5705, 5706, 5707, 5708, 5709, 5710, 5711, 5712, 5713, 5714, 5715, 5716, 5717, 5718, 5719, 5720, 5721, 5722, 5723, 5724, 5725, 5726, 5727, 5728, 5729, 5730, 5731, 5732, 5733, 5750, 5751, 5752, 5753, 5754, 5755, 5756, 5757, 5758, 5759, 5760, 5761, 5762, 5763, 5764, 5765, 5766, 5767, 5768, 5769, 5770, 5771, 5772, 5773, 5774, 5775, 5776, 5777, 5778, 5779, 5781, 5782, 5783, 5784, 5785, 5786, 5787, 5788, 5789, 5790, 5791, 5792, 5793, 5794, 5795, 5796, 5797, 5798, 5799, 5800, 5801, 5802, 5803, 5804, 5805, 5806, 5807, 5808, 5809, 5810, 5811, 5812, 5813, 5814, 5815, 5832, 5833, 5834, 5835, 5836, 5837, 5838, 5839, 5840, 5841, 5842, 5843, 5844, 5845, 5846, 5847, 5848, 5849, 5850, 5851, 5852, 5853, 5854, 5855, 5856, 5857, 5858, 5859, 5861, 5862, 5863, 5864, 5865, 5866, 5867, 5868, 5869, 5870, 5871, 5872, 5873, 5874, 5875, 5876, 5877, 5878, 5879, 5880, 5881, 5882, 5883, 5884, 5885, 5886, 5887, 5888, 5889, 5890, 5891, 5892, 5893, 5894, 5895, 5896, 5897, 5913, 5914, 5915, 5916, 5917, 5918, 5919, 5920, 5921, 5922, 5923, 5924, 5925, 5926, 5927, 5928, 5929, 5930, 5931, 5932, 5933, 5934, 5935, 5936, 5937, 5938, 5939, 5941, 5942, 5943, 5944, 5945, 5946, 5947, 5948, 5949, 5950, 5951, 5952, 5953, 5954, 5955, 5956, 5957, 5958, 5959, 5960, 5961, 5962, 5963, 5964, 5965, 5966, 5967, 5968, 5969, 5970, 5971, 5972, 5973, 5974, 5975, 5976, 5977, 5978, 5994, 5995, 5996, 5997, 5998, 5999, 6000, 6001, 6002, 6003, 6004, 6005, 6006, 6007, 6008, 6009, 6010, 6011, 6012, 6013, 6014, 6015, 6016, 6017, 6018, 6019, 6021, 6022, 6023, 6024, 6025, 6026, 6027, 6028, 6029, 6030, 6031, 6032, 6033, 6034, 6035, 6036, 6037, 6038, 6039, 6040, 6041, 6042, 6043, 6044, 6045, 6046, 6047, 6048, 6049, 6050, 6051, 6052, 6053, 6054, 6055, 6056, 6057, 6058, 6059, 6060, 6075, 6076, 6077, 6078, 6079, 6080, 6081, 6082, 6083, 6084, 6085, 6086, 6087, 6088, 6089, 6090, 6091, 6092, 6093, 6094, 6095, 6096, 6097, 6098, 6099, 6101, 6102, 6103, 6104, 6105, 6106, 6107, 6108, 6109, 6110, 6111, 6112, 6113, 6114, 6115, 6116, 6117, 6118, 6119, 6120, 6121, 6122, 6123, 6124, 6125, 6126, 6127, 6128, 6129, 6130, 6131, 6132, 6133, 6134, 6135, 6136, 6137, 6138, 6139, 6140, 6141, 6142, 6156, 6157, 6158, 6159, 6160, 6161, 6162, 6163, 6164, 6165, 6166, 6167, 6168, 6169, 6170, 6171, 6172, 6173, 6174, 6175, 6176, 6177, 6178, 6179, 6181, 6182, 6183, 6184, 6185, 6186, 6187, 6188, 6189, 6190, 6191, 6192, 6193, 6194, 6195, 6196, 6197, 6198, 6199, 6200, 6201, 6202, 6203, 6204, 6205, 6206, 6207, 6208, 6209, 6210, 6211, 6212, 6213, 6214, 6215, 6216, 6217, 6218, 6219, 6220, 6221, 6222, 6223, 6224, 6237, 6238, 6239, 6240, 6241, 6242, 6243, 6244, 6245, 6246, 6247, 6248, 6249, 6250, 6251, 6252, 6253, 6254, 6255, 6256, 6257, 6258, 6259, 6261, 6262, 6263, 6264, 6265, 6266, 6267, 6268, 6269, 6270, 6271, 6272, 6273, 6274, 6275, 6276, 6277, 6278, 6279, 6280, 6281, 6282, 6283, 6284, 6285, 6286, 6287, 6288, 6289, 6290, 6291, 6292, 6293, 6294, 6295, 6296, 6297, 6298, 6299, 6300, 6301, 6302, 6303, 6304, 6305, 6318, 6319, 6320, 6321, 6322, 6323, 6324, 6325, 6326, 6327, 6328, 6329, 6330, 6331, 6332, 6333, 6334, 6335, 6336, 6337, 6338, 6339, 6341, 6342, 6343, 6344, 6345, 6346, 6347, 6348, 6349, 6350, 6351, 6352, 6353, 6354, 6355, 6356, 6357, 6358, 6359, 6360, 6361, 6362, 6363, 6364, 6365, 6366, 6367, 6368, 6369, 6370, 6371, 6372, 6373, 6374, 6375, 6376, 6377, 6378, 6379, 6380, 6381, 6382, 6383, 6384, 6385, 6386, 6387, 6399, 6400, 6401, 6402, 6403, 6404, 6405, 6406, 6407, 6408, 6409, 6410, 6411, 6412, 6413, 6414, 6415, 6416, 6417, 6418, 6419, 6421, 6422, 6423, 6424, 6425, 6426, 6427, 6428, 6429, 6430, 6431, 6432, 6433, 6434, 6435, 6436, 6437, 6438, 6439, 6440, 6441, 6442, 6443, 6444, 6445, 6446, 6447, 6448, 6449, 6450, 6451, 6452, 6453, 6454, 6455, 6456, 6457, 6458, 6459, 6460, 6461, 6462, 6463, 6464, 6465, 6466, 6467, 6468, 6469, 6480, 6481, 6482, 6483, 6484, 6485, 6486, 6487, 6488, 6489, 6490, 6491, 6492, 6493, 6494, 6495, 6496, 6497, 6498, 6499, 6501, 6502, 6503, 6504, 6505, 6506, 6507, 6508, 6509, 6510, 6511, 6512, 6513, 6514, 6515, 6516, 6517, 6518, 6519, 6520, 6521, 6522, 6523, 6524, 6525, 6526, 6527, 6528, 6529, 6530, 6531, 6532, 6533, 6534, 6535, 6536, 6537, 6538, 6539, 6540, 6541, 6542, 6543, 6544, 6545, 6546, 6547, 6548, 6549, 6550, 6551]\n",
      "val ids:  []\n",
      "test ids:  [0, 1, 2, 3, 4, 5, 6, 7, 8, 9, 10, 11, 12, 40, 81, 82, 83, 84, 85, 86, 87, 88, 89, 90, 91, 92, 93, 94, 120, 162, 163, 164, 165, 166, 167, 168, 169, 170, 171, 172, 173, 174, 175, 200, 243, 244, 245, 246, 247, 248, 249, 250, 251, 252, 253, 254, 255, 256, 257, 280, 324, 325, 326, 327, 328, 329, 330, 331, 332, 333, 334, 335, 336, 337, 338, 339, 360, 405, 406, 407, 408, 409, 410, 411, 412, 413, 414, 415, 416, 417, 418, 419, 420, 421, 440, 486, 487, 488, 489, 490, 491, 492, 493, 494, 495, 496, 497, 498, 499, 500, 501, 502, 520, 567, 568, 569, 570, 571, 572, 573, 574, 575, 576, 577, 578, 579, 580, 581, 582, 583, 584, 600, 648, 649, 650, 651, 652, 653, 654, 655, 656, 657, 658, 659, 660, 661, 662, 663, 664, 665, 666, 680, 729, 730, 731, 732, 733, 734, 735, 736, 737, 738, 739, 740, 741, 742, 743, 744, 745, 746, 747, 748, 760, 810, 811, 812, 813, 814, 815, 816, 817, 818, 819, 820, 821, 822, 823, 824, 825, 826, 827, 828, 829, 840, 891, 892, 893, 894, 895, 896, 897, 898, 899, 900, 901, 902, 903, 904, 905, 906, 907, 908, 909, 910, 911, 920, 972, 973, 974, 975, 976, 977, 978, 979, 980, 981, 982, 983, 984, 985, 986, 987, 988, 989, 990, 991, 992, 993, 1000, 1053, 1054, 1055, 1056, 1057, 1058, 1059, 1060, 1061, 1062, 1063, 1064, 1065, 1066, 1067, 1068, 1069, 1070, 1071, 1072, 1073, 1074, 1075, 1080, 1135, 1136, 1137, 1138, 1139, 1140, 1141, 1142, 1143, 1144, 1145, 1146, 1147, 1148, 1149, 1150, 1151, 1152, 1153, 1154, 1155, 1156, 1160, 1217, 1218, 1219, 1220, 1221, 1222, 1223, 1224, 1225, 1226, 1227, 1228, 1229, 1230, 1231, 1232, 1233, 1234, 1235, 1236, 1237, 1238, 1240, 1300, 1301, 1302, 1303, 1304, 1305, 1306, 1307, 1308, 1309, 1310, 1311, 1312, 1313, 1314, 1315, 1316, 1317, 1318, 1319, 1320, 1382, 1383, 1384, 1385, 1386, 1387, 1388, 1389, 1390, 1391, 1392, 1393, 1394, 1395, 1396, 1397, 1398, 1399, 1400, 1401, 1465, 1466, 1467, 1468, 1469, 1470, 1471, 1472, 1473, 1474, 1475, 1476, 1477, 1478, 1479, 1480, 1481, 1482, 1483, 1547, 1548, 1549, 1550, 1551, 1552, 1553, 1554, 1555, 1556, 1557, 1558, 1559, 1560, 1561, 1562, 1563, 1564, 1565, 1629, 1630, 1631, 1632, 1633, 1634, 1635, 1636, 1637, 1638, 1639, 1640, 1641, 1642, 1643, 1644, 1645, 1646, 1647, 1700, 1712, 1713, 1714, 1715, 1716, 1717, 1718, 1719, 1720, 1721, 1722, 1723, 1724, 1725, 1726, 1727, 1728, 1780, 1794, 1795, 1796, 1797, 1798, 1799, 1800, 1801, 1802, 1803, 1804, 1805, 1806, 1807, 1808, 1809, 1810, 1860, 1877, 1878, 1879, 1880, 1881, 1882, 1883, 1884, 1885, 1886, 1887, 1888, 1889, 1890, 1891, 1892, 1940, 1959, 1960, 1961, 1962, 1963, 1964, 1965, 1966, 1967, 1968, 1969, 1970, 1971, 1972, 1973, 1974, 2020, 2040, 2041, 2042, 2043, 2044, 2045, 2046, 2047, 2048, 2049, 2050, 2051, 2052, 2053, 2054, 2055, 2100, 2120, 2124, 2125, 2126, 2127, 2128, 2129, 2130, 2131, 2132, 2133, 2134, 2135, 2136, 2137, 2180, 2200, 2206, 2207, 2208, 2209, 2210, 2211, 2212, 2213, 2214, 2215, 2216, 2217, 2218, 2219, 2260, 2280, 2289, 2290, 2291, 2292, 2293, 2294, 2295, 2296, 2297, 2298, 2299, 2300, 2340, 2360, 2371, 2372, 2373, 2374, 2375, 2376, 2377, 2378, 2379, 2380, 2381, 2382, 2420, 2440, 2454, 2455, 2456, 2457, 2458, 2459, 2460, 2461, 2462, 2463, 2464, 2500, 2520, 2536, 2537, 2538, 2539, 2540, 2541, 2542, 2543, 2544, 2545, 2546, 2580, 2600, 2618, 2619, 2620, 2621, 2622, 2623, 2624, 2625, 2626, 2627, 2660, 2680, 2701, 2702, 2703, 2704, 2705, 2706, 2707, 2708, 2709, 2740, 2760, 2783, 2784, 2785, 2786, 2787, 2788, 2789, 2790, 2791, 2820, 2840, 2866, 2867, 2868, 2869, 2870, 2871, 2872, 2873, 2900, 2920, 2948, 2949, 2950, 2951, 2952, 2953, 2954, 2980, 3000, 3030, 3031, 3032, 3033, 3034, 3035, 3036, 3060, 3080, 3113, 3114, 3115, 3116, 3117, 3118, 3140, 3160, 3195, 3196, 3197, 3198, 3199, 3200, 3220, 3240, 3278, 3279, 3280, 3281, 3300, 3360, 3361, 3362, 3363, 3380, 3443, 3444, 3445, 3460, 3525, 3526, 3540, 3607, 3608, 3620, 3690, 3700, 3772, 3780, 3854, 3860, 3936, 3940, 4018, 4019, 4020, 4099, 4100, 4101, 4180, 4181, 4182, 4183, 4260, 4263, 4264, 4265, 4266, 4340, 4345, 4346, 4347, 4348, 4420, 4427, 4428, 4429, 4430, 4431, 4500, 4508, 4509, 4510, 4511, 4512, 4513, 4580, 4590, 4591, 4592, 4593, 4594, 4595, 4660, 4672, 4673, 4674, 4675, 4676, 4677, 4678, 4740, 4753, 4754, 4755, 4756, 4757, 4758, 4759, 4760, 4820, 4835, 4836, 4837, 4838, 4839, 4840, 4841, 4842, 4843, 4900, 4917, 4918, 4919, 4920, 4921, 4922, 4923, 4924, 4925, 4980, 4999, 5000, 5001, 5002, 5003, 5004, 5005, 5006, 5007, 5060, 5080, 5081, 5082, 5083, 5084, 5085, 5086, 5087, 5088, 5089, 5090, 5140, 5162, 5163, 5164, 5165, 5166, 5167, 5168, 5169, 5170, 5171, 5172, 5220, 5244, 5245, 5246, 5247, 5248, 5249, 5250, 5251, 5252, 5253, 5254, 5255, 5300, 5326, 5327, 5328, 5329, 5330, 5331, 5332, 5333, 5334, 5335, 5336, 5337, 5380, 5407, 5408, 5409, 5410, 5411, 5412, 5413, 5414, 5415, 5416, 5417, 5418, 5419, 5420, 5460, 5489, 5490, 5491, 5492, 5493, 5494, 5495, 5496, 5497, 5498, 5499, 5500, 5501, 5502, 5540, 5571, 5572, 5573, 5574, 5575, 5576, 5577, 5578, 5579, 5580, 5581, 5582, 5583, 5584, 5620, 5653, 5654, 5655, 5656, 5657, 5658, 5659, 5660, 5661, 5662, 5663, 5664, 5665, 5666, 5667, 5700, 5734, 5735, 5736, 5737, 5738, 5739, 5740, 5741, 5742, 5743, 5744, 5745, 5746, 5747, 5748, 5749, 5780, 5816, 5817, 5818, 5819, 5820, 5821, 5822, 5823, 5824, 5825, 5826, 5827, 5828, 5829, 5830, 5831, 5860, 5898, 5899, 5900, 5901, 5902, 5903, 5904, 5905, 5906, 5907, 5908, 5909, 5910, 5911, 5912, 5940, 5979, 5980, 5981, 5982, 5983, 5984, 5985, 5986, 5987, 5988, 5989, 5990, 5991, 5992, 5993, 6020, 6061, 6062, 6063, 6064, 6065, 6066, 6067, 6068, 6069, 6070, 6071, 6072, 6073, 6074, 6100, 6143, 6144, 6145, 6146, 6147, 6148, 6149, 6150, 6151, 6152, 6153, 6154, 6155, 6180, 6225, 6226, 6227, 6228, 6229, 6230, 6231, 6232, 6233, 6234, 6235, 6236, 6260, 6306, 6307, 6308, 6309, 6310, 6311, 6312, 6313, 6314, 6315, 6316, 6317, 6340, 6388, 6389, 6390, 6391, 6392, 6393, 6394, 6395, 6396, 6397, 6398, 6420, 6470, 6471, 6472, 6473, 6474, 6475, 6476, 6477, 6478, 6479, 6500, 6552, 6553, 6554, 6555, 6556, 6557, 6558, 6559, 6560]\n",
      "CPU times: user 165 ms, sys: 31.9 ms, total: 197 ms\n",
      "Wall time: 196 ms\n"
     ]
    }
   ],
   "source": [
    "%%time\n",
    "n_total = len(simulation.dataframe)\n",
    "n_train = len(simulation.dataframe[simulation.dataframe.type_of == \"train\"])\n",
    "n_val = len(simulation.dataframe[simulation.dataframe.type_of == \"val\"])\n",
    "n_test = len(simulation.dataframe[simulation.dataframe.type_of == \"test\"])\n",
    "n_train_hamiltonians = len(simulation.train_ids)\n",
    "n_val_hamiltonians = len(simulation.val_ids)\n",
    "n_test_hamiltonians = len(simulation.test_ids)\n",
    "n_total_hamiltonians = n_train_hamiltonians + n_val_hamiltonians + n_test_hamiltonians\n",
    "\n",
    "print(\"% train: \", n_train/n_total)\n",
    "print(\"% val: \",  n_val/n_total)\n",
    "print(\"% test: \", n_test/n_total)\n",
    "print(\"% train + val + test: \", (n_train+n_val+n_test)/n_total)\n",
    "print(\"\\n\")\n",
    "print(\"number of train hamiltonians: \", n_train_hamiltonians)\n",
    "print(\"number of val hamiltonians: \", n_val_hamiltonians)\n",
    "print(\"number of test hamiltonians: \", n_test_hamiltonians)\n",
    "print(\"total number of hamiltonians: \", n_total_hamiltonians)\n",
    "print(\"\\n\")\n",
    "print(\"train ids: \", simulation.train_ids)\n",
    "print(\"val ids: \", simulation.val_ids)\n",
    "print(\"test ids: \", simulation.test_ids)"
   ]
  },
  {
   "cell_type": "markdown",
   "metadata": {
    "papermill": {
     "duration": 0.019801,
     "end_time": "2020-07-18T15:18:56.660996",
     "exception": false,
     "start_time": "2020-07-18T15:18:56.641195",
     "status": "completed"
    },
    "tags": []
   },
   "source": [
    "## Running a simulation"
   ]
  },
  {
   "cell_type": "code",
   "execution_count": 27,
   "metadata": {
    "execution": {
     "iopub.execute_input": "2020-07-18T15:18:56.701772Z",
     "iopub.status.busy": "2020-07-18T15:18:56.701421Z",
     "iopub.status.idle": "2020-07-18T15:43:41.366800Z",
     "shell.execute_reply": "2020-07-18T15:43:41.367103Z"
    },
    "papermill": {
     "duration": 1484.686886,
     "end_time": "2020-07-18T15:43:41.367168",
     "exception": false,
     "start_time": "2020-07-18T15:18:56.680282",
     "status": "completed"
    },
    "tags": []
   },
   "outputs": [
    {
     "name": "stderr",
     "output_type": "stream",
     "text": [
      "\r",
      "running experiments:   0%|          | 0/100 [00:00<?, ?it/s]"
     ]
    },
    {
     "name": "stdout",
     "output_type": "stream",
     "text": [
      "Simulation mode:  None\n"
     ]
    },
    {
     "name": "stderr",
     "output_type": "stream",
     "text": [
      "\r",
      "running experiments:   1%|          | 1/100 [00:15<25:06, 15.22s/it]"
     ]
    },
    {
     "name": "stderr",
     "output_type": "stream",
     "text": [
      "\r",
      "running experiments:   2%|▏         | 2/100 [00:30<24:59, 15.30s/it]"
     ]
    },
    {
     "name": "stderr",
     "output_type": "stream",
     "text": [
      "\r",
      "running experiments:   3%|▎         | 3/100 [00:45<24:31, 15.17s/it]"
     ]
    },
    {
     "name": "stderr",
     "output_type": "stream",
     "text": [
      "\r",
      "running experiments:   4%|▍         | 4/100 [01:00<24:03, 15.03s/it]"
     ]
    },
    {
     "name": "stderr",
     "output_type": "stream",
     "text": [
      "\r",
      "running experiments:   5%|▌         | 5/100 [01:14<23:36, 14.91s/it]"
     ]
    },
    {
     "name": "stderr",
     "output_type": "stream",
     "text": [
      "\r",
      "running experiments:   6%|▌         | 6/100 [01:29<23:24, 14.94s/it]"
     ]
    },
    {
     "name": "stderr",
     "output_type": "stream",
     "text": [
      "\r",
      "running experiments:   7%|▋         | 7/100 [01:44<23:01, 14.85s/it]"
     ]
    },
    {
     "name": "stderr",
     "output_type": "stream",
     "text": [
      "\r",
      "running experiments:   8%|▊         | 8/100 [01:59<22:48, 14.87s/it]"
     ]
    },
    {
     "name": "stderr",
     "output_type": "stream",
     "text": [
      "\r",
      "running experiments:   9%|▉         | 9/100 [02:14<22:41, 14.96s/it]"
     ]
    },
    {
     "name": "stderr",
     "output_type": "stream",
     "text": [
      "\r",
      "running experiments:  10%|█         | 10/100 [02:29<22:15, 14.84s/it]"
     ]
    },
    {
     "name": "stderr",
     "output_type": "stream",
     "text": [
      "\r",
      "running experiments:  11%|█         | 11/100 [02:44<22:10, 14.95s/it]"
     ]
    },
    {
     "name": "stderr",
     "output_type": "stream",
     "text": [
      "\r",
      "running experiments:  12%|█▏        | 12/100 [02:59<21:52, 14.92s/it]"
     ]
    },
    {
     "name": "stderr",
     "output_type": "stream",
     "text": [
      "\r",
      "running experiments:  13%|█▎        | 13/100 [03:14<21:43, 14.98s/it]"
     ]
    },
    {
     "name": "stderr",
     "output_type": "stream",
     "text": [
      "\r",
      "running experiments:  14%|█▍        | 14/100 [03:29<21:23, 14.92s/it]"
     ]
    },
    {
     "name": "stderr",
     "output_type": "stream",
     "text": [
      "\r",
      "running experiments:  15%|█▌        | 15/100 [03:43<20:56, 14.78s/it]"
     ]
    },
    {
     "name": "stderr",
     "output_type": "stream",
     "text": [
      "\r",
      "running experiments:  16%|█▌        | 16/100 [03:58<20:35, 14.70s/it]"
     ]
    },
    {
     "name": "stderr",
     "output_type": "stream",
     "text": [
      "\r",
      "running experiments:  17%|█▋        | 17/100 [04:13<20:28, 14.80s/it]"
     ]
    },
    {
     "name": "stderr",
     "output_type": "stream",
     "text": [
      "\r",
      "running experiments:  18%|█▊        | 18/100 [04:28<20:14, 14.81s/it]"
     ]
    },
    {
     "name": "stderr",
     "output_type": "stream",
     "text": [
      "\r",
      "running experiments:  19%|█▉        | 19/100 [04:42<19:51, 14.71s/it]"
     ]
    },
    {
     "name": "stderr",
     "output_type": "stream",
     "text": [
      "\r",
      "running experiments:  20%|██        | 20/100 [04:57<19:33, 14.67s/it]"
     ]
    },
    {
     "name": "stderr",
     "output_type": "stream",
     "text": [
      "\r",
      "running experiments:  21%|██        | 21/100 [05:11<19:19, 14.68s/it]"
     ]
    },
    {
     "name": "stderr",
     "output_type": "stream",
     "text": [
      "\r",
      "running experiments:  22%|██▏       | 22/100 [05:26<19:08, 14.72s/it]"
     ]
    },
    {
     "name": "stderr",
     "output_type": "stream",
     "text": [
      "\r",
      "running experiments:  23%|██▎       | 23/100 [05:41<19:00, 14.81s/it]"
     ]
    },
    {
     "name": "stderr",
     "output_type": "stream",
     "text": [
      "\r",
      "running experiments:  24%|██▍       | 24/100 [05:56<18:48, 14.85s/it]"
     ]
    },
    {
     "name": "stderr",
     "output_type": "stream",
     "text": [
      "\r",
      "running experiments:  25%|██▌       | 25/100 [06:11<18:30, 14.80s/it]"
     ]
    },
    {
     "name": "stderr",
     "output_type": "stream",
     "text": [
      "\r",
      "running experiments:  26%|██▌       | 26/100 [06:25<18:07, 14.69s/it]"
     ]
    },
    {
     "name": "stderr",
     "output_type": "stream",
     "text": [
      "\r",
      "running experiments:  27%|██▋       | 27/100 [06:40<17:53, 14.70s/it]"
     ]
    },
    {
     "name": "stderr",
     "output_type": "stream",
     "text": [
      "\r",
      "running experiments:  28%|██▊       | 28/100 [06:55<17:39, 14.71s/it]"
     ]
    },
    {
     "name": "stderr",
     "output_type": "stream",
     "text": [
      "\r",
      "running experiments:  29%|██▉       | 29/100 [07:09<17:27, 14.75s/it]"
     ]
    },
    {
     "name": "stderr",
     "output_type": "stream",
     "text": [
      "\r",
      "running experiments:  30%|███       | 30/100 [07:24<17:16, 14.80s/it]"
     ]
    },
    {
     "name": "stderr",
     "output_type": "stream",
     "text": [
      "\r",
      "running experiments:  31%|███       | 31/100 [07:39<16:59, 14.78s/it]"
     ]
    },
    {
     "name": "stderr",
     "output_type": "stream",
     "text": [
      "\r",
      "running experiments:  32%|███▏      | 32/100 [07:57<17:51, 15.76s/it]"
     ]
    },
    {
     "name": "stderr",
     "output_type": "stream",
     "text": [
      "\r",
      "running experiments:  33%|███▎      | 33/100 [08:12<17:25, 15.60s/it]"
     ]
    },
    {
     "name": "stderr",
     "output_type": "stream",
     "text": [
      "\r",
      "running experiments:  34%|███▍      | 34/100 [08:27<16:51, 15.32s/it]"
     ]
    },
    {
     "name": "stderr",
     "output_type": "stream",
     "text": [
      "\r",
      "running experiments:  35%|███▌      | 35/100 [08:43<16:49, 15.53s/it]"
     ]
    },
    {
     "name": "stderr",
     "output_type": "stream",
     "text": [
      "\r",
      "running experiments:  36%|███▌      | 36/100 [08:58<16:13, 15.20s/it]"
     ]
    },
    {
     "name": "stderr",
     "output_type": "stream",
     "text": [
      "\r",
      "running experiments:  37%|███▋      | 37/100 [09:12<15:52, 15.12s/it]"
     ]
    },
    {
     "name": "stderr",
     "output_type": "stream",
     "text": [
      "\r",
      "running experiments:  38%|███▊      | 38/100 [09:27<15:30, 15.02s/it]"
     ]
    },
    {
     "name": "stderr",
     "output_type": "stream",
     "text": [
      "\r",
      "running experiments:  39%|███▉      | 39/100 [09:42<15:12, 14.96s/it]"
     ]
    },
    {
     "name": "stderr",
     "output_type": "stream",
     "text": [
      "\r",
      "running experiments:  40%|████      | 40/100 [09:57<14:58, 14.98s/it]"
     ]
    },
    {
     "name": "stderr",
     "output_type": "stream",
     "text": [
      "\r",
      "running experiments:  41%|████      | 41/100 [10:12<14:40, 14.92s/it]"
     ]
    },
    {
     "name": "stderr",
     "output_type": "stream",
     "text": [
      "\r",
      "running experiments:  42%|████▏     | 42/100 [10:27<14:20, 14.84s/it]"
     ]
    },
    {
     "name": "stderr",
     "output_type": "stream",
     "text": [
      "\r",
      "running experiments:  43%|████▎     | 43/100 [10:41<14:04, 14.81s/it]"
     ]
    },
    {
     "name": "stderr",
     "output_type": "stream",
     "text": [
      "\r",
      "running experiments:  44%|████▍     | 44/100 [10:56<13:43, 14.70s/it]"
     ]
    },
    {
     "name": "stderr",
     "output_type": "stream",
     "text": [
      "\r",
      "running experiments:  45%|████▌     | 45/100 [11:10<13:27, 14.68s/it]"
     ]
    },
    {
     "name": "stderr",
     "output_type": "stream",
     "text": [
      "\r",
      "running experiments:  46%|████▌     | 46/100 [11:25<13:13, 14.69s/it]"
     ]
    },
    {
     "name": "stderr",
     "output_type": "stream",
     "text": [
      "\r",
      "running experiments:  47%|████▋     | 47/100 [11:40<13:01, 14.74s/it]"
     ]
    },
    {
     "name": "stderr",
     "output_type": "stream",
     "text": [
      "\r",
      "running experiments:  48%|████▊     | 48/100 [11:54<12:43, 14.69s/it]"
     ]
    },
    {
     "name": "stderr",
     "output_type": "stream",
     "text": [
      "\r",
      "running experiments:  49%|████▉     | 49/100 [12:09<12:31, 14.73s/it]"
     ]
    },
    {
     "name": "stderr",
     "output_type": "stream",
     "text": [
      "\r",
      "running experiments:  50%|█████     | 50/100 [12:24<12:15, 14.71s/it]"
     ]
    },
    {
     "name": "stderr",
     "output_type": "stream",
     "text": [
      "\r",
      "running experiments:  51%|█████     | 51/100 [12:39<11:58, 14.65s/it]"
     ]
    },
    {
     "name": "stderr",
     "output_type": "stream",
     "text": [
      "\r",
      "running experiments:  52%|█████▏    | 52/100 [12:53<11:40, 14.59s/it]"
     ]
    },
    {
     "name": "stderr",
     "output_type": "stream",
     "text": [
      "\r",
      "running experiments:  53%|█████▎    | 53/100 [13:08<11:26, 14.60s/it]"
     ]
    },
    {
     "name": "stderr",
     "output_type": "stream",
     "text": [
      "\r",
      "running experiments:  54%|█████▍    | 54/100 [13:22<11:14, 14.67s/it]"
     ]
    },
    {
     "name": "stderr",
     "output_type": "stream",
     "text": [
      "\r",
      "running experiments:  55%|█████▌    | 55/100 [13:37<10:59, 14.66s/it]"
     ]
    },
    {
     "name": "stderr",
     "output_type": "stream",
     "text": [
      "\r",
      "running experiments:  56%|█████▌    | 56/100 [13:56<11:44, 16.01s/it]"
     ]
    },
    {
     "name": "stderr",
     "output_type": "stream",
     "text": [
      "\r",
      "running experiments:  57%|█████▋    | 57/100 [14:11<11:11, 15.63s/it]"
     ]
    },
    {
     "name": "stderr",
     "output_type": "stream",
     "text": [
      "\r",
      "running experiments:  58%|█████▊    | 58/100 [14:26<10:43, 15.32s/it]"
     ]
    },
    {
     "name": "stderr",
     "output_type": "stream",
     "text": [
      "\r",
      "running experiments:  59%|█████▉    | 59/100 [14:40<10:19, 15.11s/it]"
     ]
    },
    {
     "name": "stderr",
     "output_type": "stream",
     "text": [
      "\r",
      "running experiments:  60%|██████    | 60/100 [14:55<10:01, 15.04s/it]"
     ]
    },
    {
     "name": "stderr",
     "output_type": "stream",
     "text": [
      "\r",
      "running experiments:  61%|██████    | 61/100 [15:09<09:39, 14.86s/it]"
     ]
    },
    {
     "name": "stderr",
     "output_type": "stream",
     "text": [
      "\r",
      "running experiments:  62%|██████▏   | 62/100 [15:24<09:23, 14.83s/it]"
     ]
    },
    {
     "name": "stderr",
     "output_type": "stream",
     "text": [
      "\r",
      "running experiments:  63%|██████▎   | 63/100 [15:39<09:11, 14.90s/it]"
     ]
    },
    {
     "name": "stderr",
     "output_type": "stream",
     "text": [
      "\r",
      "running experiments:  64%|██████▍   | 64/100 [15:55<08:59, 15.00s/it]"
     ]
    },
    {
     "name": "stderr",
     "output_type": "stream",
     "text": [
      "\r",
      "running experiments:  65%|██████▌   | 65/100 [16:09<08:42, 14.92s/it]"
     ]
    },
    {
     "name": "stderr",
     "output_type": "stream",
     "text": [
      "\r",
      "running experiments:  66%|██████▌   | 66/100 [16:24<08:25, 14.86s/it]"
     ]
    },
    {
     "name": "stderr",
     "output_type": "stream",
     "text": [
      "\r",
      "running experiments:  67%|██████▋   | 67/100 [16:38<08:07, 14.76s/it]"
     ]
    },
    {
     "name": "stderr",
     "output_type": "stream",
     "text": [
      "\r",
      "running experiments:  68%|██████▊   | 68/100 [16:53<07:50, 14.70s/it]"
     ]
    },
    {
     "name": "stderr",
     "output_type": "stream",
     "text": [
      "\r",
      "running experiments:  69%|██████▉   | 69/100 [17:07<07:32, 14.59s/it]"
     ]
    },
    {
     "name": "stderr",
     "output_type": "stream",
     "text": [
      "\r",
      "running experiments:  70%|███████   | 70/100 [17:22<07:19, 14.65s/it]"
     ]
    },
    {
     "name": "stderr",
     "output_type": "stream",
     "text": [
      "\r",
      "running experiments:  71%|███████   | 71/100 [17:37<07:02, 14.58s/it]"
     ]
    },
    {
     "name": "stderr",
     "output_type": "stream",
     "text": [
      "\r",
      "running experiments:  72%|███████▏  | 72/100 [17:51<06:49, 14.61s/it]"
     ]
    },
    {
     "name": "stderr",
     "output_type": "stream",
     "text": [
      "\r",
      "running experiments:  73%|███████▎  | 73/100 [18:06<06:35, 14.65s/it]"
     ]
    },
    {
     "name": "stderr",
     "output_type": "stream",
     "text": [
      "\r",
      "running experiments:  74%|███████▍  | 74/100 [18:21<06:22, 14.71s/it]"
     ]
    },
    {
     "name": "stderr",
     "output_type": "stream",
     "text": [
      "\r",
      "running experiments:  75%|███████▌  | 75/100 [18:36<06:07, 14.69s/it]"
     ]
    },
    {
     "name": "stderr",
     "output_type": "stream",
     "text": [
      "\r",
      "running experiments:  76%|███████▌  | 76/100 [18:50<05:53, 14.73s/it]"
     ]
    },
    {
     "name": "stderr",
     "output_type": "stream",
     "text": [
      "\r",
      "running experiments:  77%|███████▋  | 77/100 [19:05<05:37, 14.67s/it]"
     ]
    },
    {
     "name": "stderr",
     "output_type": "stream",
     "text": [
      "\r",
      "running experiments:  78%|███████▊  | 78/100 [19:19<05:20, 14.57s/it]"
     ]
    },
    {
     "name": "stderr",
     "output_type": "stream",
     "text": [
      "\r",
      "running experiments:  79%|███████▉  | 79/100 [19:34<05:06, 14.60s/it]"
     ]
    },
    {
     "name": "stderr",
     "output_type": "stream",
     "text": [
      "\r",
      "running experiments:  80%|████████  | 80/100 [19:49<04:52, 14.64s/it]"
     ]
    },
    {
     "name": "stderr",
     "output_type": "stream",
     "text": [
      "\r",
      "running experiments:  81%|████████  | 81/100 [20:03<04:38, 14.67s/it]"
     ]
    },
    {
     "name": "stderr",
     "output_type": "stream",
     "text": [
      "\r",
      "running experiments:  82%|████████▏ | 82/100 [20:18<04:24, 14.67s/it]"
     ]
    },
    {
     "name": "stderr",
     "output_type": "stream",
     "text": [
      "\r",
      "running experiments:  83%|████████▎ | 83/100 [20:32<04:08, 14.61s/it]"
     ]
    },
    {
     "name": "stderr",
     "output_type": "stream",
     "text": [
      "\r",
      "running experiments:  84%|████████▍ | 84/100 [20:47<03:54, 14.65s/it]"
     ]
    },
    {
     "name": "stderr",
     "output_type": "stream",
     "text": [
      "\r",
      "running experiments:  85%|████████▌ | 85/100 [21:02<03:39, 14.64s/it]"
     ]
    },
    {
     "name": "stderr",
     "output_type": "stream",
     "text": [
      "\r",
      "running experiments:  86%|████████▌ | 86/100 [21:16<03:24, 14.58s/it]"
     ]
    },
    {
     "name": "stderr",
     "output_type": "stream",
     "text": [
      "\r",
      "running experiments:  87%|████████▋ | 87/100 [21:31<03:09, 14.59s/it]"
     ]
    },
    {
     "name": "stderr",
     "output_type": "stream",
     "text": [
      "\r",
      "running experiments:  88%|████████▊ | 88/100 [21:45<02:54, 14.57s/it]"
     ]
    },
    {
     "name": "stderr",
     "output_type": "stream",
     "text": [
      "\r",
      "running experiments:  89%|████████▉ | 89/100 [22:00<02:39, 14.50s/it]"
     ]
    },
    {
     "name": "stderr",
     "output_type": "stream",
     "text": [
      "\r",
      "running experiments:  90%|█████████ | 90/100 [22:15<02:25, 14.58s/it]"
     ]
    },
    {
     "name": "stderr",
     "output_type": "stream",
     "text": [
      "\r",
      "running experiments:  91%|█████████ | 91/100 [22:30<02:13, 14.88s/it]"
     ]
    },
    {
     "name": "stderr",
     "output_type": "stream",
     "text": [
      "\r",
      "running experiments:  92%|█████████▏| 92/100 [22:46<02:00, 15.08s/it]"
     ]
    },
    {
     "name": "stderr",
     "output_type": "stream",
     "text": [
      "\r",
      "running experiments:  93%|█████████▎| 93/100 [23:01<01:45, 15.11s/it]"
     ]
    },
    {
     "name": "stderr",
     "output_type": "stream",
     "text": [
      "\r",
      "running experiments:  94%|█████████▍| 94/100 [23:16<01:30, 15.10s/it]"
     ]
    },
    {
     "name": "stderr",
     "output_type": "stream",
     "text": [
      "\r",
      "running experiments:  95%|█████████▌| 95/100 [23:31<01:14, 14.96s/it]"
     ]
    },
    {
     "name": "stderr",
     "output_type": "stream",
     "text": [
      "\r",
      "running experiments:  96%|█████████▌| 96/100 [23:45<00:59, 14.89s/it]"
     ]
    },
    {
     "name": "stderr",
     "output_type": "stream",
     "text": [
      "\r",
      "running experiments:  97%|█████████▋| 97/100 [24:00<00:44, 14.96s/it]"
     ]
    },
    {
     "name": "stderr",
     "output_type": "stream",
     "text": [
      "\r",
      "running experiments:  98%|█████████▊| 98/100 [24:15<00:29, 14.83s/it]"
     ]
    },
    {
     "name": "stderr",
     "output_type": "stream",
     "text": [
      "\r",
      "running experiments:  99%|█████████▉| 99/100 [24:29<00:14, 14.74s/it]"
     ]
    },
    {
     "name": "stderr",
     "output_type": "stream",
     "text": [
      "\r",
      "running experiments: 100%|██████████| 100/100 [24:44<00:00, 14.72s/it]"
     ]
    },
    {
     "name": "stderr",
     "output_type": "stream",
     "text": [
      "\r",
      "running experiments: 100%|██████████| 100/100 [24:44<00:00, 14.85s/it]"
     ]
    },
    {
     "name": "stdout",
     "output_type": "stream",
     "text": [
      "CPU times: user 2h 34min 4s, sys: 12.9 s, total: 2h 34min 17s\n",
      "Wall time: 24min 44s\n"
     ]
    },
    {
     "name": "stderr",
     "output_type": "stream",
     "text": [
      "\n"
     ]
    }
   ],
   "source": [
    "\n",
    "%%time\n",
    "simulation.run_simulation(n_experiments, start_n, fit_params,shuffle_rows, pred_params, random_features, \\\n",
    "                          store_in_lists, save_eigenvector, save_hamiltonian, save_accuracy,\\\n",
    "                          save_models)\n",
    "if simulation.fourier_mode is not None:\n",
    "    simulation.fourier_dataframe.head(10)"
   ]
  },
  {
   "cell_type": "code",
   "execution_count": 28,
   "metadata": {
    "execution": {
     "iopub.execute_input": "2020-07-18T15:43:41.447262Z",
     "iopub.status.busy": "2020-07-18T15:43:41.446756Z",
     "iopub.status.idle": "2020-07-18T15:43:41.472441Z",
     "shell.execute_reply": "2020-07-18T15:43:41.472096Z"
    },
    "papermill": {
     "duration": 0.069514,
     "end_time": "2020-07-18T15:43:41.472499",
     "exception": false,
     "start_time": "2020-07-18T15:43:41.402985",
     "status": "completed"
    },
    "tags": []
   },
   "outputs": [
    {
     "data": {
      "text/html": [
       "<div>\n",
       "<style scoped>\n",
       "    .dataframe tbody tr th:only-of-type {\n",
       "        vertical-align: middle;\n",
       "    }\n",
       "\n",
       "    .dataframe tbody tr th {\n",
       "        vertical-align: top;\n",
       "    }\n",
       "\n",
       "    .dataframe thead th {\n",
       "        text-align: right;\n",
       "    }\n",
       "</style>\n",
       "<table border=\"1\" class=\"dataframe\">\n",
       "  <thead>\n",
       "    <tr style=\"text-align: right;\">\n",
       "      <th></th>\n",
       "      <th>id</th>\n",
       "      <th>path</th>\n",
       "      <th>t1</th>\n",
       "      <th>t2</th>\n",
       "      <th>winding</th>\n",
       "      <th>phase</th>\n",
       "      <th>pred_phase</th>\n",
       "      <th>type_of</th>\n",
       "      <th>feat0</th>\n",
       "      <th>feat1</th>\n",
       "      <th>...</th>\n",
       "      <th>feat90</th>\n",
       "      <th>feat91</th>\n",
       "      <th>feat92</th>\n",
       "      <th>feat93</th>\n",
       "      <th>feat94</th>\n",
       "      <th>feat95</th>\n",
       "      <th>feat96</th>\n",
       "      <th>feat97</th>\n",
       "      <th>feat98</th>\n",
       "      <th>feat99</th>\n",
       "    </tr>\n",
       "  </thead>\n",
       "  <tbody>\n",
       "    <tr>\n",
       "      <th>0</th>\n",
       "      <td>0</td>\n",
       "      <td>H_-2_-2_0.501338.dat</td>\n",
       "      <td>-2.0</td>\n",
       "      <td>-2.0</td>\n",
       "      <td>0.501338</td>\n",
       "      <td>999</td>\n",
       "      <td>-1</td>\n",
       "      <td>test</td>\n",
       "      <td>-0.130965</td>\n",
       "      <td>0.301130</td>\n",
       "      <td>...</td>\n",
       "      <td>-0.080279</td>\n",
       "      <td>-0.115687</td>\n",
       "      <td>-0.174988</td>\n",
       "      <td>0.245064</td>\n",
       "      <td>0.319763</td>\n",
       "      <td>-0.059082</td>\n",
       "      <td>-0.000556</td>\n",
       "      <td>-0.245133</td>\n",
       "      <td>-0.301130</td>\n",
       "      <td>0.130965</td>\n",
       "    </tr>\n",
       "    <tr>\n",
       "      <th>1</th>\n",
       "      <td>0</td>\n",
       "      <td>H_-2_-2_0.501338.dat</td>\n",
       "      <td>-2.0</td>\n",
       "      <td>-2.0</td>\n",
       "      <td>0.501338</td>\n",
       "      <td>999</td>\n",
       "      <td>-1</td>\n",
       "      <td>test</td>\n",
       "      <td>-0.130965</td>\n",
       "      <td>-0.301130</td>\n",
       "      <td>...</td>\n",
       "      <td>-0.080279</td>\n",
       "      <td>0.115687</td>\n",
       "      <td>-0.174988</td>\n",
       "      <td>-0.245064</td>\n",
       "      <td>0.319763</td>\n",
       "      <td>0.059082</td>\n",
       "      <td>-0.000556</td>\n",
       "      <td>0.245133</td>\n",
       "      <td>-0.301130</td>\n",
       "      <td>-0.130965</td>\n",
       "    </tr>\n",
       "    <tr>\n",
       "      <th>2</th>\n",
       "      <td>0</td>\n",
       "      <td>H_-2_-2_0.501338.dat</td>\n",
       "      <td>-2.0</td>\n",
       "      <td>-2.0</td>\n",
       "      <td>0.501338</td>\n",
       "      <td>999</td>\n",
       "      <td>-1</td>\n",
       "      <td>test</td>\n",
       "      <td>-0.148414</td>\n",
       "      <td>-0.042467</td>\n",
       "      <td>...</td>\n",
       "      <td>0.185442</td>\n",
       "      <td>-0.080620</td>\n",
       "      <td>-0.066211</td>\n",
       "      <td>-0.121339</td>\n",
       "      <td>-0.151700</td>\n",
       "      <td>0.192513</td>\n",
       "      <td>0.191642</td>\n",
       "      <td>-0.050956</td>\n",
       "      <td>-0.042467</td>\n",
       "      <td>-0.148414</td>\n",
       "    </tr>\n",
       "    <tr>\n",
       "      <th>3</th>\n",
       "      <td>0</td>\n",
       "      <td>H_-2_-2_0.501338.dat</td>\n",
       "      <td>-2.0</td>\n",
       "      <td>-2.0</td>\n",
       "      <td>0.501338</td>\n",
       "      <td>999</td>\n",
       "      <td>1</td>\n",
       "      <td>test</td>\n",
       "      <td>-0.069630</td>\n",
       "      <td>-0.026147</td>\n",
       "      <td>...</td>\n",
       "      <td>0.102009</td>\n",
       "      <td>-0.100671</td>\n",
       "      <td>-0.081002</td>\n",
       "      <td>-0.020715</td>\n",
       "      <td>-0.058717</td>\n",
       "      <td>0.115834</td>\n",
       "      <td>0.118274</td>\n",
       "      <td>-0.054666</td>\n",
       "      <td>-0.026147</td>\n",
       "      <td>-0.069630</td>\n",
       "    </tr>\n",
       "    <tr>\n",
       "      <th>4</th>\n",
       "      <td>0</td>\n",
       "      <td>H_-2_-2_0.501338.dat</td>\n",
       "      <td>-2.0</td>\n",
       "      <td>-2.0</td>\n",
       "      <td>0.501338</td>\n",
       "      <td>999</td>\n",
       "      <td>2</td>\n",
       "      <td>test</td>\n",
       "      <td>0.010206</td>\n",
       "      <td>-0.014625</td>\n",
       "      <td>...</td>\n",
       "      <td>0.047555</td>\n",
       "      <td>-0.041368</td>\n",
       "      <td>-0.018852</td>\n",
       "      <td>-0.017673</td>\n",
       "      <td>-0.023377</td>\n",
       "      <td>0.031447</td>\n",
       "      <td>0.010280</td>\n",
       "      <td>0.000925</td>\n",
       "      <td>0.014625</td>\n",
       "      <td>-0.010206</td>\n",
       "    </tr>\n",
       "    <tr>\n",
       "      <th>5</th>\n",
       "      <td>0</td>\n",
       "      <td>H_-2_-2_0.501338.dat</td>\n",
       "      <td>-2.0</td>\n",
       "      <td>-2.0</td>\n",
       "      <td>0.501338</td>\n",
       "      <td>999</td>\n",
       "      <td>1</td>\n",
       "      <td>test</td>\n",
       "      <td>0.116962</td>\n",
       "      <td>0.021475</td>\n",
       "      <td>...</td>\n",
       "      <td>-0.086901</td>\n",
       "      <td>-0.045676</td>\n",
       "      <td>-0.028034</td>\n",
       "      <td>0.129266</td>\n",
       "      <td>0.130083</td>\n",
       "      <td>-0.098190</td>\n",
       "      <td>-0.104188</td>\n",
       "      <td>-0.007911</td>\n",
       "      <td>0.021475</td>\n",
       "      <td>0.116962</td>\n",
       "    </tr>\n",
       "    <tr>\n",
       "      <th>6</th>\n",
       "      <td>0</td>\n",
       "      <td>H_-2_-2_0.501338.dat</td>\n",
       "      <td>-2.0</td>\n",
       "      <td>-2.0</td>\n",
       "      <td>0.501338</td>\n",
       "      <td>999</td>\n",
       "      <td>0</td>\n",
       "      <td>test</td>\n",
       "      <td>0.037175</td>\n",
       "      <td>-0.095882</td>\n",
       "      <td>...</td>\n",
       "      <td>-0.027490</td>\n",
       "      <td>0.046168</td>\n",
       "      <td>0.063419</td>\n",
       "      <td>-0.041630</td>\n",
       "      <td>-0.085769</td>\n",
       "      <td>-0.010604</td>\n",
       "      <td>-0.009822</td>\n",
       "      <td>0.084024</td>\n",
       "      <td>0.095882</td>\n",
       "      <td>-0.037175</td>\n",
       "    </tr>\n",
       "    <tr>\n",
       "      <th>7</th>\n",
       "      <td>0</td>\n",
       "      <td>H_-2_-2_0.501338.dat</td>\n",
       "      <td>-2.0</td>\n",
       "      <td>-2.0</td>\n",
       "      <td>0.501338</td>\n",
       "      <td>999</td>\n",
       "      <td>1</td>\n",
       "      <td>test</td>\n",
       "      <td>0.027709</td>\n",
       "      <td>-0.038180</td>\n",
       "      <td>...</td>\n",
       "      <td>0.123344</td>\n",
       "      <td>-0.114320</td>\n",
       "      <td>-0.057118</td>\n",
       "      <td>-0.040291</td>\n",
       "      <td>-0.061263</td>\n",
       "      <td>0.087153</td>\n",
       "      <td>0.029599</td>\n",
       "      <td>-0.001276</td>\n",
       "      <td>0.038180</td>\n",
       "      <td>-0.027709</td>\n",
       "    </tr>\n",
       "    <tr>\n",
       "      <th>8</th>\n",
       "      <td>0</td>\n",
       "      <td>H_-2_-2_0.501338.dat</td>\n",
       "      <td>-2.0</td>\n",
       "      <td>-2.0</td>\n",
       "      <td>0.501338</td>\n",
       "      <td>999</td>\n",
       "      <td>1</td>\n",
       "      <td>test</td>\n",
       "      <td>0.059795</td>\n",
       "      <td>0.030272</td>\n",
       "      <td>...</td>\n",
       "      <td>-0.082347</td>\n",
       "      <td>0.140996</td>\n",
       "      <td>0.128386</td>\n",
       "      <td>-0.036608</td>\n",
       "      <td>0.029628</td>\n",
       "      <td>-0.124877</td>\n",
       "      <td>-0.140478</td>\n",
       "      <td>0.088573</td>\n",
       "      <td>0.030272</td>\n",
       "      <td>0.059795</td>\n",
       "    </tr>\n",
       "    <tr>\n",
       "      <th>9</th>\n",
       "      <td>0</td>\n",
       "      <td>H_-2_-2_0.501338.dat</td>\n",
       "      <td>-2.0</td>\n",
       "      <td>-2.0</td>\n",
       "      <td>0.501338</td>\n",
       "      <td>999</td>\n",
       "      <td>1</td>\n",
       "      <td>test</td>\n",
       "      <td>0.141605</td>\n",
       "      <td>0.013497</td>\n",
       "      <td>...</td>\n",
       "      <td>-0.035718</td>\n",
       "      <td>-0.110014</td>\n",
       "      <td>-0.082452</td>\n",
       "      <td>0.146084</td>\n",
       "      <td>0.152588</td>\n",
       "      <td>-0.067575</td>\n",
       "      <td>-0.087187</td>\n",
       "      <td>-0.043484</td>\n",
       "      <td>0.013497</td>\n",
       "      <td>0.141605</td>\n",
       "    </tr>\n",
       "  </tbody>\n",
       "</table>\n",
       "<p>10 rows × 108 columns</p>\n",
       "</div>"
      ],
      "text/plain": [
       "   id                  path   t1   t2   winding  phase  pred_phase type_of  \\\n",
       "0   0  H_-2_-2_0.501338.dat -2.0 -2.0  0.501338    999          -1    test   \n",
       "1   0  H_-2_-2_0.501338.dat -2.0 -2.0  0.501338    999          -1    test   \n",
       "2   0  H_-2_-2_0.501338.dat -2.0 -2.0  0.501338    999          -1    test   \n",
       "3   0  H_-2_-2_0.501338.dat -2.0 -2.0  0.501338    999           1    test   \n",
       "4   0  H_-2_-2_0.501338.dat -2.0 -2.0  0.501338    999           2    test   \n",
       "5   0  H_-2_-2_0.501338.dat -2.0 -2.0  0.501338    999           1    test   \n",
       "6   0  H_-2_-2_0.501338.dat -2.0 -2.0  0.501338    999           0    test   \n",
       "7   0  H_-2_-2_0.501338.dat -2.0 -2.0  0.501338    999           1    test   \n",
       "8   0  H_-2_-2_0.501338.dat -2.0 -2.0  0.501338    999           1    test   \n",
       "9   0  H_-2_-2_0.501338.dat -2.0 -2.0  0.501338    999           1    test   \n",
       "\n",
       "      feat0     feat1  ...    feat90    feat91    feat92    feat93    feat94  \\\n",
       "0 -0.130965  0.301130  ... -0.080279 -0.115687 -0.174988  0.245064  0.319763   \n",
       "1 -0.130965 -0.301130  ... -0.080279  0.115687 -0.174988 -0.245064  0.319763   \n",
       "2 -0.148414 -0.042467  ...  0.185442 -0.080620 -0.066211 -0.121339 -0.151700   \n",
       "3 -0.069630 -0.026147  ...  0.102009 -0.100671 -0.081002 -0.020715 -0.058717   \n",
       "4  0.010206 -0.014625  ...  0.047555 -0.041368 -0.018852 -0.017673 -0.023377   \n",
       "5  0.116962  0.021475  ... -0.086901 -0.045676 -0.028034  0.129266  0.130083   \n",
       "6  0.037175 -0.095882  ... -0.027490  0.046168  0.063419 -0.041630 -0.085769   \n",
       "7  0.027709 -0.038180  ...  0.123344 -0.114320 -0.057118 -0.040291 -0.061263   \n",
       "8  0.059795  0.030272  ... -0.082347  0.140996  0.128386 -0.036608  0.029628   \n",
       "9  0.141605  0.013497  ... -0.035718 -0.110014 -0.082452  0.146084  0.152588   \n",
       "\n",
       "     feat95    feat96    feat97    feat98    feat99  \n",
       "0 -0.059082 -0.000556 -0.245133 -0.301130  0.130965  \n",
       "1  0.059082 -0.000556  0.245133 -0.301130 -0.130965  \n",
       "2  0.192513  0.191642 -0.050956 -0.042467 -0.148414  \n",
       "3  0.115834  0.118274 -0.054666 -0.026147 -0.069630  \n",
       "4  0.031447  0.010280  0.000925  0.014625 -0.010206  \n",
       "5 -0.098190 -0.104188 -0.007911  0.021475  0.116962  \n",
       "6 -0.010604 -0.009822  0.084024  0.095882 -0.037175  \n",
       "7  0.087153  0.029599 -0.001276  0.038180 -0.027709  \n",
       "8 -0.124877 -0.140478  0.088573  0.030272  0.059795  \n",
       "9 -0.067575 -0.087187 -0.043484  0.013497  0.141605  \n",
       "\n",
       "[10 rows x 108 columns]"
      ]
     },
     "execution_count": 28,
     "metadata": {},
     "output_type": "execute_result"
    }
   ],
   "source": [
    "simulation.dataframe.head(10)"
   ]
  },
  {
   "cell_type": "markdown",
   "metadata": {
    "papermill": {
     "duration": 0.03756,
     "end_time": "2020-07-18T15:43:41.549767",
     "exception": false,
     "start_time": "2020-07-18T15:43:41.512207",
     "status": "completed"
    },
    "tags": []
   },
   "source": [
    "#### Viewing a random sample"
   ]
  },
  {
   "cell_type": "code",
   "execution_count": 29,
   "metadata": {
    "execution": {
     "iopub.execute_input": "2020-07-18T15:43:41.624285Z",
     "iopub.status.busy": "2020-07-18T15:43:41.623971Z",
     "iopub.status.idle": "2020-07-18T15:43:41.634112Z",
     "shell.execute_reply": "2020-07-18T15:43:41.633794Z"
    },
    "papermill": {
     "duration": 0.047563,
     "end_time": "2020-07-18T15:43:41.634164",
     "exception": false,
     "start_time": "2020-07-18T15:43:41.586601",
     "status": "completed"
    },
    "tags": []
   },
   "outputs": [
    {
     "name": "stdout",
     "output_type": "stream",
     "text": [
      "CPU times: user 2 µs, sys: 0 ns, total: 2 µs\n",
      "Wall time: 3.81 µs\n"
     ]
    }
   ],
   "source": [
    "%%time\n",
    "if simulation.fourier_mode is not None:\n",
    "    simulation.fourier_dataframe.sample(frac=0.1, replace=False)"
   ]
  },
  {
   "cell_type": "markdown",
   "metadata": {
    "papermill": {
     "duration": 0.036339,
     "end_time": "2020-07-18T15:43:41.707007",
     "exception": false,
     "start_time": "2020-07-18T15:43:41.670668",
     "status": "completed"
    },
    "tags": []
   },
   "source": [
    "#### Checking train/val/test splits again"
   ]
  },
  {
   "cell_type": "code",
   "execution_count": 30,
   "metadata": {
    "execution": {
     "iopub.execute_input": "2020-07-18T15:43:41.783974Z",
     "iopub.status.busy": "2020-07-18T15:43:41.783649Z",
     "iopub.status.idle": "2020-07-18T15:43:41.970100Z",
     "shell.execute_reply": "2020-07-18T15:43:41.969778Z"
    },
    "papermill": {
     "duration": 0.223995,
     "end_time": "2020-07-18T15:43:41.970152",
     "exception": false,
     "start_time": "2020-07-18T15:43:41.746157",
     "status": "completed"
    },
    "tags": []
   },
   "outputs": [
    {
     "name": "stdout",
     "output_type": "stream",
     "text": [
      "% train:  0.4208199969516842\n",
      "% val:  0.42066758116140834\n",
      "% test:  0.15851242188690748\n",
      "% train + val + test:  1.0\n",
      "\n",
      "\n",
      "number of train hamiltonians:  2761\n",
      "number of val hamiltonians:  2760\n",
      "number of test hamiltonians:  1040\n",
      "total number of hamiltonians:  6561\n",
      "\n",
      "\n",
      "train ids:  [4370, 2094, 2168, 3733, 4250, 3023, 2611, 3026, 4199, 6085, 5453, 4008, 1370, 3509, 3770, 2364, 3174, 781, 5285, 6451, 6002, 6357, 2712, 5716, 6241, 1008, 6217, 689, 5678, 5204, 2273, 753, 2689, 3722, 3282, 155, 216, 2252, 3816, 5135, 6053, 4748, 3581, 1353, 1683, 1875, 6018, 296, 5160, 690, 3219, 3698, 1657, 3166, 4197, 4780, 6094, 26, 4107, 6012, 5361, 1580, 3186, 1328, 134, 5208, 2930, 969, 1691, 1134, 6031, 5956, 3440, 4731, 1755, 1594, 6546, 1361, 4311, 3533, 2899, 3257, 3975, 4773, 4409, 3381, 536, 6262, 3592, 3528, 2897, 6195, 3041, 3108, 6172, 3100, 3347, 5564, 1589, 965, 1127, 835, 561, 57, 1277, 281, 3357, 2698, 2837, 1326, 1997, 5528, 4532, 4142, 537, 6440, 3628, 5805, 3448, 1003, 4742, 5652, 3856, 2910, 5473, 5726, 1981, 3025, 5707, 2842, 4599, 4212, 1178, 436, 5920, 22, 3194, 104, 2123, 715, 550, 5009, 4391, 5468, 1408, 5439, 3233, 3145, 545, 5669, 3677, 2711, 1842, 3847, 5875, 3800, 2617, 971, 2797, 343, 3424, 5347, 3125, 6407, 458, 476, 4517, 5559, 3944, 131, 2003, 5016, 5542, 2744, 4424, 2233, 3983, 5534, 1329, 714, 1541, 3271, 1596, 4905, 1020, 5256, 806, 4158, 3239, 4781, 4864, 3705, 2735, 2322, 3774, 4699, 1019, 2286, 2396, 2483, 2939, 450, 2796, 5933, 695, 6134, 3995, 5602, 3288, 294, 2667, 4815, 5147, 3679, 1119, 4388, 1846, 4880, 4576, 5308, 2999, 5367, 3400, 1417, 6540, 2164, 5767, 5031, 3664, 1332, 3932, 754, 3399, 2089, 3192, 1372, 4189, 4829, 3901, 5199, 2715, 3052, 1834, 5592, 3128, 3465, 3562, 4068, 3886, 6058, 5541, 4618, 5177, 2414, 3179, 2416, 4137, 3293, 2957, 2503, 1754, 6138, 3285, 2636, 388, 288, 3461, 3915, 1191, 1711, 2849, 1111, 3453, 4964, 6175, 5773, 2668, 3230, 447, 5643, 4796, 6101, 1092, 2724, 4668, 6056, 4969, 3926, 4415, 269, 6212, 1194, 794, 4080, 5339, 4404, 4336, 4540, 2963, 962, 2288, 5161, 5373, 1290, 2096, 1817, 4396, 6428, 3740, 2989, 283, 6209, 5706, 4454, 2228, 4259, 6544, 2676, 2064, 2693, 6206, 5855, 5517, 6223, 5063, 6267, 5278, 1511, 6518, 1826, 2727, 5757, 4739, 4481, 4737, 3483, 1298, 2966, 4764, 721, 6203, 3178, 3489, 1823, 6375, 3001, 6118, 1574, 724, 14, 6083, 4240, 354, 5588, 4713, 5586, 4105, 5404, 5076, 3343, 3368, 3685, 1422, 4787, 3081, 2242, 2764, 4358, 2832, 218, 966, 954, 1906, 1982, 6299, 6356, 2717, 836, 4831, 4649, 1921, 6467, 6323, 3552, 2604, 616, 3717, 1975, 3827, 222, 2333, 3286, 1128, 4253, 602, 6359, 5752, 4817, 5703, 3446, 3020, 3335, 3961, 228, 20, 3649, 4774, 223, 1421, 1606, 6097, 6411, 3395, 3336, 4108, 1375, 6412, 2256, 4641, 4294, 4166, 3967, 1018, 2025, 5729, 5375, 712, 669, 181, 1739, 176, 858, 3746, 763, 5877, 5070, 2770, 2928, 4607, 5511, 4732, 5888, 4680, 4882, 1948, 5553, 4173, 1622, 1932, 4410, 5793, 918, 5550, 6539, 457, 4160, 144, 2665, 6163, 5077, 4402, 1567, 1618, 1296, 4936, 5843, 4534, 3721, 1986, 1377, 5119, 838, 4870, 2401, 1447, 5383, 4036, 2474, 4914, 1186, 3858, 4496, 220, 5024, 1661, 4938, 6164, 4495, 1944, 5379, 1587, 3064, 6191, 1369, 2119, 717, 3208, 5478, 3084, 5299, 3584, 4493, 5343, 4149, 5314, 1016, 4027, 431, 34, 6005, 3824, 1295, 5321, 2902, 2901, 1280, 2942, 1916, 5693, 6281, 3268, 1173, 6436, 855, 5563, 2199, 2277, 6189, 4003, 51, 4303, 6249, 1411, 5284, 2800, 4776, 68, 3882, 1672, 3803, 2036, 708, 376, 2308, 2383, 4887, 2860, 6446, 3537, 130, 1845, 830, 4437, 3765, 2563, 6364, 5684, 4141, 5955, 2988, 3902, 233, 4894, 3965, 3514, 346, 5950, 2272, 44, 2848, 36, 2804, 3101, 3505, 2032, 2237, 5928, 3267, 4033, 4828, 2006, 2934, 4200, 3171, 691, 6386, 3040, 5624, 831, 3211, 4109, 117, 1592, 5221, 2976, 1867, 1162, 3865, 1658, 5015, 2161, 4542, 1738, 2434, 3429, 6516, 2357, 4821, 5753, 1453, 1513, 4191, 4724, 844, 3392, 112, 180, 1864, 941, 3356, 137, 5103, 3632, 3980, 1047, 2818, 5759, 1699, 231, 6489, 3148, 5811, 4005, 4798, 4762, 4354, 6507, 5112, 5870, 5068, 643, 2488, 3849, 4330, 3793, 4600, 1652, 363, 541, 5365, 5214, 230, 5705, 5845, 6263, 1352, 3442, 1847, 2265, 444, 5302, 932, 2248, 211, 3676, 1695, 6160, 585, 5357, 4013, 3130, 3598, 2661, 3097, 4390, 4470, 3588, 1744, 190, 2944, 3154, 4611, 1336, 6119, 2409, 127, 5320, 2572, 2671, 2324, 3610, 3273, 3557, 3389, 917, 4642, 2002, 3694, 5788, 3699, 6050, 5344, 2679, 3487, 5385, 6506, 1543, 557, 5851, 4272, 1433, 3428, 955, 396, 2850, 48, 1863, 6042, 4691, 5775, 1491, 1254, 2246, 1814, 3015, 2652, 599, 534, 3981, 505, 5720, 5930, 2775, 921, 2015, 6240, 448, 1866, 5621, 103, 4946, 4949, 2672, 2504, 2467, 3763, 3709, 4119, 4364, 4572, 4376, 4896, 1791, 2511, 4844, 618, 1007, 6003, 5274, 2534, 2798, 809, 5918, 148, 1626, 2965, 4352, 1821, 4963, 1903, 5362, 5014, 1083, 5067, 832, 1087, 2605, 3580, 3043, 5035, 4538, 5545, 6484, 1920, 4657, 1200, 6246, 3916, 5631, 523, 3850, 3209, 4339, 3815, 3776, 5929, 2781, 1662, 400, 6525, 594, 5194, 4015, 2276, 2149, 4041, 4258, 206, 1870, 50, 224, 1291, 3508, 3877, 4368, 693, 4497, 6318, 1757, 1206, 6120, 2554, 6400, 1518, 6551, 3425, 2646, 4852, 1038, 4952, 3495, 2602, 96, 473, 302, 705, 4399, 1999, 356, 3870, 1358, 4913, 3235, 235, 1202, 5056, 3788, 3680, 793, 1656, 5782, 6385, 5561, 3517, 4476, 5892, 5099, 4103, 4666, 2586, 2891, 6402, 4498, 2482, 5116, 2635, 4939, 4206, 3790, 2412, 4230, 2529, 2476, 1752, 4521, 3492, 1198, 3473, 856, 2720, 4407, 2986, 3096, 6253, 4244, 3706, 3206, 480, 372, 6348, 4539, 5265, 2038, 4331, 3170, 2441, 1378, 1420, 1356, 5345, 591, 4605, 2008, 6527, 5692, 2491, 3330, 1455, 2765, 5423, 5519, 2659, 726, 1664, 5132, 1859, 6416, 640, 4164, 5760, 1706, 1896, 3613, 3546, 5129, 642, 1446, 5733, 3789, 1573, 3962, 5399, 6276, 4688, 2437, 1351, 115, 4656, 2423, 2485, 4361, 3939, 783, 943, 3900, 1192, 3714, 3872, 1341, 1612, 3472, 1256, 142, 4546, 4520, 2496, 3928, 2167, 3345, 789, 6130, 6376, 3249, 5441, 2733, 2187, 3625, 5275, 5676, 547, 879, 4479, 5369, 5568, 3077, 1077, 556, 750, 2589, 1324, 2512, 4482, 3426, 3218, 4223, 4153, 3851, 5965, 3039, 4892, 5646, 4761, 3752, 5887, 4692, 1945, 777, 3275, 2484, 4030, 5447, 141, 5844, 3784, 3829, 1507, 2834, 595, 1917, 4597, 4664, 3673, 5047, 5719, 1868, 5260, 4084, 1765, 4646, 785, 21, 5626, 1287, 6437, 5937, 1660, 4981, 4515, 4380, 6447, 3491, 217, 4063, 4280, 6332, 5630, 1103, 1404, 109, 5264, 1115, 3085, 2710, 261, 2194, 1268, 5448, 6542, 1922, 2406, 4411, 5695, 3729, 5466, 1614, 1381, 6360, 313, 2886, 3754, 452, 3876, 6156, 1380, 1284, 5046, 6344, 3251, 6201, 3878, 3742, 2162, 4909, 5324, 727, 4445, 1121, 2862, 2341, 3977, 2569, 5691, 5766, 55, 6128, 4456, 2388, 3382, 4184, 934, 5122, 4621, 6010, 555, 5934, 4176, 210, 3402, 2386, 2060, 4696, 1259, 3756, 780, 5687, 4275, 3563, 2505, 2453, 4968, 3524, 1570, 6110, 2549, 2146, 6113, 799, 6326, 5803, 38, 382, 2591, 4136, 5593, 880, 3481, 1995, 1928, 1030, 465, 6538, 1729, 1264, 3344, 5549, 4165, 2956, 3007, 2344, 1603, 512, 4386, 4846, 3374, 2244, 5886, 6296, 4441, 6126, 3088, 6333, 2972, 883, 2249, 791, 5836, 4801, 1568, 4959, 484, 5796, 1027, 347, 2366, 4899, 3493, 111, 5072, 4953, 5356, 6535, 5011, 4956, 209, 1323, 5547, 4991, 679, 6469, 3842, 4279, 3009, 1654, 5462, 3087, 2981, 234, 6243, 931, 1245, 370, 5715, 2935, 2588, 6142, 201, 1048, 1619, 5186, 1679, 1669, 3272, 1542, 3973, 5108, 5039, 2616, 4706, 2196, 1696, 5923, 108, 100, 5158, 6250, 6521, 612, 6524, 4252, 2255, 2355, 1742, 5097, 842, 1037, 3469, 381, 2448, 5947, 1078, 1653, 5809, 1675, 4374, 1748, 2516, 4638, 3165, 637, 3948, 3560, 4313, 1816, 4765, 1709, 2847, 3398, 3496, 4057, 4317, 2969, 756, 4506, 5052, 3260, 2946, 3322, 1536, 4693, 4362, 2353, 5879, 6483, 687, 2432, 2075, 4239, 4710, 1856, 3593, 2535, 472, 998, 867, 5185, 2854, 1987, 5426, 1648, 2413, 2391, 4102, 2247, 6283, 6523, 4941, 4715, 5953, 3897, 3014, 4556, 4670, 5538, 5340, 1276, 4632, 565, 437, 6075, 527, 5093, 4256, 5763, 5100, 846, 6427, 1457, 1414, 6528, 3299, 4722, 1941, 3193, 5798, 586, 3383, 6531, 3979, 3485, 2013, 3058, 4832, 6028, 774, 939, 1415, 2641, 105, 2940, 3507, 5124, 940, 3750, 2223, 3156, 13, 2936, 5091, 4686, 5323, 4203, 507, 4931, 3504, 6505, 5464, 2070, 1840, 2828, 4574, 4907, 3551, 6430, 4446, 4912, 467, 5914, 2728, 6379, 1953, 4653, 834, 340, 2841, 5271, 5017, 5469, 4193, 3150, 1774, 3835, 4038, 2642, 4971, 1694, 2874, 3454, 2250, 3259, 6520, 6536, 6277, 2996, 2305, 4022, 4421, 322, 1211, 3681, 3231, 2197, 3005, 2552, 560, 558, 6256, 3079, 5455, 2026, 2239, 3942, 5241, 3728, 3708, 2490, 1412, 699, 5145, 515, 1579, 378, 3971, 4875, 1101, 1438, 4888, 5728, 2449, 4544, 3813, 3751, 2613, 1500, 3133, 6170, 2033, 3410, 3600, 865, 5432, 5066, 3037, 18, 1604, 2502, 5603, 425, 6370, 1165, 5941, 6205, 5297, 101, 4785, 6291, 5290, 5229, 2777, 1124, 6284, 5233, 4671, 1371, 644, 5917, 1519, 374, 2326, 37, 4854, 3214, 3966, 2937, 3834, 3187, 3142, 4709, 4735, 3457, 6418, 3802, 3896, 6417, 2609, 2566, 4044, 3731, 3954, 3861, 1014, 6021, 4848, 645, 5969, 525, 3216, 4926, 5612, 6125, 6399, 5044, 5378, 75, 3072, 1452, 1402, 2202, 3522, 5144, 4225, 3741, 1593, 5926, 5366, 5143, 1935, 4830, 2603, 1089, 468, 2421, 3519, 5476, 5977, 2066, 1829, 4242, 4129, 3057, 2997, 5403, 1345, 4097, 1832, 1595, 52, 2390, 5537, 5850, 2151, 3307, 6305, 3642, 439, 3753, 4418, 5149, 6460, 3323, 2726, 4075, 4973, 3152, 3494, 4814, 4143, 3161, 5133, 4728, 5187, 263, 5201, 4449, 5390, 4767, 2721, 6327, 3591, 914, 4535, 2230, 383, 1939, 4392, 3250, 4958, 4720, 5614, 1251, 344, 3408, 5938, 5872, 3351, 2723, 4633, 710, 434, 4472, 6178, 5833, 5057, 2596, 1865, 5459, 6482, 1848, 2697, 2307, 1841, 5758, 4130, 5353, 6244, 1546, 5840, 4452, 713, 3256, 3488, 5755, 2673, 6431, 4596, 2960, 2612, 6109, 5647, 3783, 2757, 1322, 2443, 3950, 2338, 4196, 143, 4343, 3258, 5376, 6424, 4812, 5841, 4004, 4700, 3801, 2178, 1260, 5800, 1272, 4150, 1610, 5079, 3651, 617, 2801, 1735, 3684, 2878, 4615, 598, 6141, 2495, 5996, 123, 5155, 1090, 6183, 3785, 2962, 3204, 285, 1950, 4440, 4813, 2824, 5839, 2262, 2587, 5270, 259, 5142, 428, 3215, 4998, 2754, 5377, 433, 4299, 4891, 1854, 4588, 1122, 5685, 4598, 454, 178, 1617, 1488, 5121, 5153, 6107, 3110, 3021, 508, 3254, 2062, 2017, 6245, 2864, 3053, 3312, 5488, 5450, 5184, 5698, 2257, 623, 6121, 3792, 1751, 6369, 6006, 6000, 446, 3619, 2418, 6288, 1704, 2599, 1252, 2311, 808, 2019, 2141, 5266, 3695, 1869, 930, 1486, 4652, 2109, 3320, 1461, 3295, 54, 2766, 1993, 1172, 4322, 5967, 681, 3853, 6011, 4216, 1460, 6123, 1359, 685, 184, 1998, 1441, 4983, 2336, 2385, 5566, 3934, 1819, 757, 3501, 185, 4849, 6210, 2078, 4663, 6035, 4529, 2732, 6382, 2400, 3730, 3538, 4171, 4903, 6426, 3153, 1429, 6046, 6367, 2574, 6300, 621, 5570, 2570, 6199, 310, 2977, 2030, 4289, 299, 3175, 3011, 2166, 1788, 5959, 1954, 1436, 2471, 4453, 4338, 5596, 5010, 5792, 2150, 30, 3662, 6017, 3798, 2825, 2898, 5508, 6186, 3589, 5939, 1852, 4194, 5107, 5156, 69, 802, 2528, 3305, 3061, 873, 1210, 4697, 4365, 5722, 6419, 1454, 5387, 4088, 3734, 5976, 119, 1710, 4395, 3985, 1031, 1490, 4695, 4561, 5349, 1205, 1125, 6273, 4120, 276, 4144, 31, 4451, 504, 5294, 1275, 2593, 3826, 3855, 6252, 5922, 3415, 3474, 6519, 4122, 6060, 3931, 6537, 3386, 5319, 6219, 5605, 456, 2990, 39, 5182, 2261, 1164, 4146, 622, 3164, 3848, 1123, 2086, 6177, 2634, 929, 5506, 3997, 3217, 3086, 1330, 4371, 6007, 4930, 3420, 4378, 6432, 4581, 77, 4089, 2731, 6338, 4326, 1129, 3668, 3585, 3083, 2158, 277, 1926, 2487, 5304, 5012, 4987, 1177, 1349, 4775, 5398, 4315, 5589, 2565, 1265, 5973, 4927, 3082, 1740, 5434, 2938, 5197, 4267, 6324, 1331, 5174, 999, 460, 6221, 6287, 857, 2477, 3543, 2155, 4192, 3530, 6135, 5591, 4405, 459, 4557, 5075, 938, 219, 3438, 2753, 564, 71, 1458, 286, 5524, 770, 513, 1051, 4243, 4793, 1585, 5317, 2833, 2767, 997, 3109, 4288, 5878, 3648, 703, 1702, 875, 1185, 5852, 5358, 2099, 1368, 6297, 208, 4518, 3755, 1535, 3864, 2222, 4876, 3131, 2116, 3068, 3262, 4031, 6490, 5683, 944, 3631, 2893, 3229, 2205, 443, 1355, 559, 886, 5259, 1416, 138, 4824, 5641, 5137, 2742, 6049, 4910, 4387, 3411, 1093, 2172, 2410, 2843, 6286, 4448, 6503, 3224, 635, 4071, 3696, 4301, 1703, 359, 4261, 5351, 3304, 5945, 5761, 3018, 759, 788, 5769, 205, 3329, 2399, 1427, 1659, 2238, 688, 2314, 5045, 1902, 5126, 6455, 5388, 1360, 3895, 3089, 4403, 1456, 4974, 4834, 5313, 5765, 5209, 5866, 3308, 3476, 6331, 1876, 3246, 5021, 5690, 2192, 1204, 5701, 5280, 1425, 2424, 5960, 1685, 5200, 3999, 2031, 1288, 6200, 3319, 5962, 2759, 3151, 380, 424, 3532, 197, 342, 4659, 3306, 1289, 5449, 6413, 6103, 368, 2557, 1209, 6462, 238, 593, 3771, 5869, 3838, 64, 4125, 1588, 627, 6486, 1340, 709, 379, 3723, 3773, 5273, 177, 377, 2803, 3044, 2571, 2983, 1681, 2564, 2027, 3818, 3038, 2905, 438, 6275, 1781, 1665, 2814, 4308, 3523, 5222, 5178, 4355, 864, 232, 122, 4118, 1462, 3056, 2334, 3180, 1413, 287, 2359, 1464, 6088, 956, 5636, 6304, 4011, 1628, 4024, 5949, 2468, 851, 1005, 2492, 4098, 4298, 506, 5227, 4459, 4571, 2561, 5198, 2076, 2090, 4729, 5699, 4784, 4707, 6439, 2628, 2914, 5446, 3778, 3701, 2419, 2924, 1777, 5672, 4636, 2499, 1615, 773, 5346, 2919, 5770, 1651, 881, 1623, 6547, 670, 5606, 4804, 6272, 5064, 6405, 4979, 5889, 4209, 371, 2964, 2005, 5677, 2171, 5463, 5042, 6124, 2480, 3008, 1248, 5781, 2666, 772, 1180, 3302, 4104, 4417, 212, 3228, 4155, 2664, 5396, 2330, 5754, 3735, 2154, 3521, 2773, 3243, 5972, 2312, 4582, 725, 1342, 529, 4645, 1901, 4293, 3464, 4619, 6530, 1082, 3339, 4325, 3809, 4065, 2984, 2903, 4302, 4629, 3120, 619, 4353, 5292, 3570, 1510, 592, 2573, 3232, 432, 3297, 4501, 6001, 544, 2118, 5043, 1131, 1285, 5628, 4566, 3126, 4367, 4227, 1459, 483, 6301, 847, 3376, 4049, 1011, 2769, 6086, 854, 1830, 951, 3449, 957, 5192, 5484, 2147, 1812, 4807, 4291, 6498, 4332, 5623, 1249, 927, 2343, 2397, 4069, 6022, 5061, 3222, 4569, 4366, 3819, 4579, 471, 4389, 4039, 1279, 6549, 6466, 5341, 3332, 2718, 3173, 1498, 994, 5625, 2346, 2058, 5721, 6171, 4859, 4318, 1598, 5235, 3099, 1100, 5480, 4620, 4573, 5633, 2057, 6298, 1768, 4286, 295, 1102, 771, 3764, 3155, 874, 4128, 2142, 5481, 3006, 1708, 1271, 2498, 3830, 3653, 3955, 3535, 1188, 1434, 3704, 4314, 4047, 3937, 4771, 1376, 4792, 882, 4865, 4083, 6408, 3623, 5732, 3683, 4994, 4072, 1517, 4608, 3711, 1597, 361, 5718, 3227, 5997, 1897, 5019, 4714, 4138, 3182, 4254, 3433, 6089, 3590, 4319, 3606, 5557, 963, 2389, 2855, 674, 2267, 2522, 1450, 5030, 4359, 5096, 2647, 3405, 6341, 5231, 6293, 2370, 4198, 3716, 4738, 6289, 1516, 2072, 3283, 6099, 6237, 613, 2240, 6255, 2578, 722, 2932, 5180, 1785, 5859, 1039, 5857, 4334, 2429, 2435, 3656, 4951, 2221, 392, 4543, 1117, 3205, 3122, 204, 5544, 3633, 4067, 3377, 4228, 3419, 2909, 603, 2792, 4156, 6450, 3609, 3779, 2361, 5239, 4110, 2235, 5382, 4271, 3930, 5530, 5146, 3407, 4310, 5467, 953, 1931, 5305, 2926, 2906, 5179, 2911, 6488, 3076, 5789, 1512, 152, 4827, 5523, 5548, 3172, 6368, 626, 4139, 4960, 5679, 3092, 5521, 3450, 2567, 5152, 2169, 1503, 1793, 6157, 3725, 2921, 1764, 614, 676, 2650, 6320, 3918, 221, 2093, 1905, 2654, 2521, 2658, 2329, 3794, 3432, 4698, 5853, 479, 5032, 3871, 6349, 1409, 4273, 776, 5487, 3811, 4251, 4977, 2822, 264, 3098, 1759, 214, 5673, 3065, 3236, 1091, 5998, 1012, 2283, 6242, 3686, 367, 1509, 2173, 3412, 4643, 5649, 1184, 5617, 5188, 4531, 2183, 4712, 4628, 3652, 1195, 2560, 3234, 2348, 3702, 5651, 3964, 1778, 4560, 3898, 4114, 6041, 4123, 6468, 5951, 2430, 6261, 3577, 6274, 1487, 5452, 1698, 6362, 4131, 1257, 5503, 6081, 1994, 4006, 341, 4034, 5842, 2982, 3468, 935, 5025, 1201, 3480, 389, 403, 608, 6016, 884, 386, 2638, 4442, 3248, 4519, 2844, 6078, 2677, 6108, 1297, 4163, 1984, 4435, 3048, 2509, 3887, 4037, 4822, 4073, 4683, 5205, 236, 3119, 6179, 4575, 6218, 4685, 5301, 306, 4895, 4201, 5386, 2356, 1773, 3806, 3559, 2550, 4778, 303, 2889, 3244, 5756, 3863, 3612, 1170, 1250, 3972, 672, 4551, 2856, 1379, 3479, 5051, 3544, 3503, 5862, 3893, 3726, 2394, 5458, 4350, 3289, 2674, 6358, 3181, 4169, 2827, 2352, 1321, 5609, 4528, 4475, 5893, 3364, 2531, 5293, 32, 3063, 629, 323, 636, 4066, 5731, 4857, 2315, 786, 3846, 790, 862, 5445, 5533, 5118, 4730, 5644, 4961, 3318, 2581, 2195, 6295, 2594, 5123, 5963, 4637, 3675, 2084, 2431, 1745, 2551, 62, 2579, 4725, 4955, 2281, 1990, 146, 3958, 4648, 4635, 404, 6127, 5884, 620, 6162, 4487, 4381, 5694, 2779, 5094, 4211, 1575, 5276, 2525, 2422, 6032, 4398, 4890, 1792, 5058, 2241, 4851, 1783, 1430, 1590, 3663, 3404, 1514, 535, 291, 1113, 5952, 1406, 2752, 1620, 1908, 5867, 6248, 1839, 6257, 5810, 6187, 2793, 74, 6059, 2713, 587, 3963, 1930]\n",
      "val ids:  [3667, 2350, 2494, 4457, 3906, 350, 6168, 5504, 179, 2582, 630, 5613, 3255, 6303, 804, 6266, 5554, 5629, 3693, 2929, 2275, 4752, 5352, 3221, 1334, 4689, 98, 2700, 4769, 4241, 4236, 3510, 2644, 4823, 1273, 4507, 2229, 3477, 215, 2857, 469, 2978, 226, 3421, 128, 4135, 1241, 149, 2805, 2001, 5688, 2699, 4904, 309, 3992, 3069, 2362, 6080, 4458, 3375, 1779, 3745, 312, 5882, 6351, 5309, 3348, 2815, 4871, 3459, 6158, 2657, 2598, 1836, 2761, 3946, 6131, 5391, 673, 6453, 2555, 398, 845, 5783, 159, 1253, 3636, 3346, 5682, 5802, 3094, 531, 3978, 5073, 3913, 1693, 3547, 1789, 5799, 2895, 3418, 3869, 4948, 2994, 4032, 4932, 807, 4736, 5913, 1274, 1181, 3093, 4077, 3597, 3104, 6532, 242, 3301, 1577, 3169, 5891, 4750, 61, 3124, 1766, 3390, 6129, 3303, 1261, 3190, 3905, 3245, 3471, 5238, 5223, 3287, 784, 551, 3933, 1174, 5022, 5291, 4477, 5113, 5020, 1827, 4035, 2186, 362, 1423, 3518, 2310, 3579, 3414, 5927, 6224, 3659, 766, 1373, 6161, 3078, 53, 5105, 1686, 3852, 2722, 696, 2568, 1262, 1899, 5150, 2190, 3759, 5871, 4779, 5318, 3184, 1132, 1484, 5421, 4058, 2319, 887, 1584, 3911, 1760, 1650, 1208, 5520, 6329, 6008, 1266, 6090, 4878, 6334, 5610, 2955, 3342, 779, 35, 2349, 5526, 2590, 4344, 6499, 3724, 1911, 6174, 2734, 6545, 5071, 4684, 145, 5111, 5472, 4650, 1976, 2595, 2533, 2358, 4054, 6076, 1282, 2973, 5772, 6208, 1190, 872, 5615, 5776, 5130, 3111, 4284, 959, 1440, 2584, 3638, 5053, 59, 3340, 516, 3845, 5384, 3422, 5261, 4046, 1258, 2993, 2092, 3795, 3004, 609, 3904, 369, 2320, 5036, 5232, 3627, 5224, 2648, 5562, 2159, 3857, 5216, 298, 4640, 1097, 1161, 3643, 4589, 2182, 5616, 1770, 2925, 6024, 282, 628, 6137, 3253, 4185, 5812, 6463, 2452, 5885, 1107, 2088, 6435, 3143, 2739, 4856, 4972, 5686, 2174, 3548, 3671, 3202, 4502, 2527, 5837, 2812, 1957, 4492, 912, 3512, 3621, 2916, 2325, 4791, 4550, 1914, 4606, 5243, 4321, 2865, 3549, 5465, 4026, 6169, 3925, 2778, 4134, 1255, 1844, 4602, 3406, 5078, 3334, 2170, 2755, 3413, 6322, 5268, 5779, 4889, 6192, 5217, 6111, 861, 3768, 4333, 3274, 4274, 4052, 4547, 5880, 2478, 6342, 4527, 2776, 1649, 4145, 4306, 1214, 5479, 1086, 4881, 4565, 6480, 2774, 4341, 4094, 4654, 3388, 6526, 4017, 4312, 6459, 3949, 2823, 2065, 4610, 2165, 6513, 4408, 1076, 4858, 5790, 3935, 5354, 3466, 2034, 3358, 4316, 3822, 1267, 1763, 5865, 3922, 6292, 1203, 4866, 3136, 56, 4639, 4356, 1894, 4937, 1270, 1947, 5428, 455, 528, 43, 3434, 3687, 2826, 1094, 2189, 2224, 5730, 4751, 5954, 6377, 4524, 2016, 1684, 3157, 6355, 1179, 2160, 2472, 3956, 4329, 6029, 2415, 2896, 1052, 764, 462, 5936, 5338, 601, 4048, 3810, 1354, 3678, 4486, 4537, 915, 2407, 2024, 3542, 2083, 1670, 3691, 375, 6504, 4603, 3670, 1050, 6352, 3760, 611, 5883, 2447, 3920, 3601, 775, 47, 385, 1732, 3393, 2915, 2264, 4808, 3013, 4644, 3761, 2059, 4377, 2466, 843, 3370, 3994, 3682, 4749, 6182, 1292, 4204, 1216, 5964, 3957, 4570, 2927, 3674, 2992, 607, 2387, 1858, 3071, 3144, 4950, 304, 3106, 308, 6202, 225, 2585, 2861, 1346, 1697, 526, 5444, 3416, 3568, 3775, 2303, 4062, 1927, 3379, 3112, 29, 3689, 4623, 3839, 1001, 3252, 3833, 4872, 2913, 3953, 6204, 3840, 5424, 5296, 393, 3732, 5477, 1299, 553, 3502, 2469, 3603, 3264, 466, 5890, 3545, 5634, 518, 28, 1239, 6213, 2028, 3672, 5431, 4300, 3605, 996, 6347, 2763, 4976, 2684, 5427, 4967, 1545, 5175, 3366, 1627, 1419, 1444, 4915, 2143, 5943, 4401, 1775, 2738, 1533, 3618, 24, 6371, 1530, 4873, 4777, 3988, 4634, 1762, 4601, 4351, 66, 5846, 305, 6057, 1955, 3808, 3010, 3328, 6534, 5567, 5257, 2220, 3661, 6034, 3719, 2335, 4439, 6098, 5139, 2227, 4630, 1677, 4112, 700, 2111, 3987, 262, 5849, 2643, 945, 3883, 1116, 936, 4819, 3945, 3385, 46, 19, 3313, 1605, 364, 124, 2301, 2967, 3894, 6491, 3417, 2369, 4564, 5193, 2185, 3045, 2445, 2104, 3470, 45, 2970, 147, 27, 5306, 5381, 3837, 1104, 6025, 1753, 4985, 3899, 3959, 3572, 6365, 2991, 3769, 4233, 5370, 4262, 4797, 2912, 3594, 3242, 961, 3042, 2254, 3825, 6254, 1532, 4050, 1609, 140, 5639, 967, 933, 475, 890, 4478, 6354, 1862, 4795, 3338, 5230, 4175, 1571, 4681, 2191, 5994, 625, 4023, 6487, 4898, 2530, 1857, 2651, 1898, 1496, 4485, 5569, 3276, 195, 1689, 2266, 4213, 4270, 1040, 4010, 4214, 2451, 1522, 3941, 4007, 6092, 2817, 1758, 5374, 2772, 5622, 4178, 2368, 5325, 3298, 5668, 5854, 596, 6194, 697, 441, 2321, 6529, 430, 1176, 4247, 5804, 1956, 5895, 3556, 5637, 4933, 5237, 4867, 2417, 5234, 349, 4397, 1437, 5814, 5565, 5355, 6548, 5125, 157, 3002, 99, 1767, 1197, 678, 292, 6116, 6282, 4719, 355, 3960, 4414, 3311, 4877, 3189, 1924, 3534, 4549, 2846, 2807, 2630, 3867, 384, 4499, 3439, 6423, 870, 1600, 1838, 2439, 3748, 5618, 631, 3796, 191, 3075, 5768, 3341, 6122, 6196, 1489, 2514, 3641, 4818, 2518, 2813, 3990, 4717, 5282, 521, 3766, 885, 3908, 5861, 258, 5483, 3875, 3555, 1108, 3049, 193, 5948, 1463, 2115, 4665, 5723, 5931, 1682, 4087, 5456, 3294, 1992, 2145, 6290, 925, 267, 3325, 5957, 701, 916, 4902, 3669, 3862, 2907, 4444, 522, 1026, 3943, 3710, 5670, 1088, 5518, 5556, 1364, 390, 4133, 928, 6077, 1439, 3599, 6387, 5835, 2794, 3490, 3051, 532, 1085, 5288, 4995, 207, 1540, 3317, 6336, 125, 4945, 3582, 2741, 2023, 2285, 481, 716, 2576, 3823, 1820, 2736, 5474, 3456, 2985, 5675, 3270, 517, 1734, 4085, 2881, 1833, 4794, 1583, 2122, 728, 552, 72, 2610, 6363, 1363, 2175, 5203, 4480, 4943, 3624, 4106, 6023, 2068, 3353, 2074, 3841, 2402, 2347, 2061, 6445, 2365, 2110, 5392, 3777, 1410, 5115, 2287, 4723, 949, 3611, 3650, 6285, 3159, 3467, 1918, 3885, 2583, 4484, 3797, 1524, 4906, 3103, 4990, 1613, 2039, 2998, 3212, 2181, 952, 3397, 3327, 196, 1850, 5202, 3498, 4708, 4245, 1362, 2105, 554, 2475, 6448, 5065, 4360, 2845, 3141, 5681, 3123, 3564, 4126, 3873, 1492, 3520, 4790, 3452, 6045, 5360, 1872, 2681, 1443, 1022, 5522, 4220, 4111, 514, 3884, 5287, 2014, 2894, 1508, 5236, 3314, 1988, 3587, 1515, 4432, 5510, 4826, 1043, 2313, 4614, 4061, 5971, 1601, 995, 2523, 6278, 1942, 1333, 4471, 5791, 950, 2156, 5368, 1985, 524, 2493, 4490, 5600, 1497, 5512, 6030, 4154, 1756, 3475, 2553, 1787, 5127, 2323, 5041, 4461, 5595, 1041, 2835, 3316, 3167, 118, 4622, 289, 1938, 2112, 5762, 1045, 3758, 4218, 538, 6541, 1015, 2489, 4055, 4962, 1534, 3091, 5725, 5764, 1824, 2087, 2393, 3821, 4726, 4093, 2892, 1666, 3571, 5815, 5858, 1776, 5364, 706, 2269, 5671, 194, 1520, 3968, 833, 4373, 3201, 5098, 1736, 947, 604, 2081, 4282, 2519, 4616, 1079, 4613, 639, 5704, 1668, 6414, 5286, 6197, 5608, 6337, 6159, 60, 4533, 1923, 633, 3291, 4249, 6211, 5558, 1977, 5529, 1980, 6457, 2442, 1663, 5535, 4690, 3134, 5435, 4465, 4433, 3890, 6176, 2198, 3462, 5632, 4070, 1431, 3238, 2177, 2890, 4090, 161, 5048, 2392, 6325, 6517, 2225, 2836, 4988, 4474, 2153, 1952, 6434, 5638, 6112, 765, 5486, 2532, 4115, 1327, 4585, 749, 1013, 95, 546, 3191, 1731, 23, 2877, 6433, 5283, 4583, 1095, 3324, 5350, 6055, 1853, 4850, 2284, 5228, 2799, 6452, 1187, 3067, 5787, 6258, 6464, 5946, 4082, 1934, 3137, 3073, 5394, 3527, 6425, 2961, 317, 5393, 4704, 4745, 1283, 2663, 4221, 542, 3727, 4059, 5461, 1919, 1912, 5138, 5795, 3369, 6222, 755, 345, 876, 5552, 5110, 17, 4116, 3844, 758, 1782, 2839, 4992, 5590, 3927, 2327, 5560, 2517, 6441, 4161, 4647, 4526, 2107, 4609, 641, 6133, 4816, 6238, 4195, 6105, 5454, 3868, 3435, 2719, 3499, 1855, 1815, 3352, 266, 4545, 3762, 850, 4869, 320, 2904, 5348, 5322, 5471, 4001, 4788, 4226, 5485, 4021, 4711, 6512, 4423, 3550, 449, 5513, 3888, 4548, 5131, 4505, 4669, 2117, 132, 4425, 3409, 1937, 5029, 4661, 6481, 2080, 3146, 3604, 1281, 4296, 970, 4879, 6214, 1769, 1608, 6215, 1017, 2515, 4205, 5303, 1811, 4467, 849, 4186, 5961, 3436, 3889, 3993, 2497, 677, 3261, 5784, 5372, 2403, 1435, 6410, 6495, 3331, 5359, 391, 6361, 229, 4238, 859, 2337, 4121, 6269, 5295, 2879, 6497, 33, 1046, 477, 1158, 4393, 4473, 4147, 49, 519, 1084, 1193, 5451, 841, 435, 4800, 1366, 5027, 597, 3423, 3804, 1098, 260, 2245, 156, 5211, 2428, 3573, 2144, 1676, 3284, 5771, 1286, 4516, 4140, 711, 768, 4802, 589, 1505, 2274, 3059, 6181, 3820, 1621, 358, 3917, 837, 3367, 767, 2639, 4053, 2101, 2082, 1374, 1936, 4255, 2056, 3914, 1448, 5101, 6038, 1247, 5801, 878, 2095, 2067, 4188, 290, 2176, 6339, 1835, 4957, 4229, 5727, 2575, 3799, 6259, 4091, 3378, 1784, 365, 4488, 4357, 6139, 4056, 2758, 1213, 5868, 6048, 3989, 702, 866, 3055, 5714, 5864, 1025, 1042, 3403, 2696, 1166, 5635, 3207, 1343, 1705, 2987, 2071, 6136, 203, 624, 4525, 6381, 4631, 6522, 4989, 2408, 2481, 2091, 2436, 113, 4743, 6190, 188, 5406, 1538, 5944, 1175, 5640, 3874, 4152, 4716, 1701, 2526, 1904, 2685, 4982, 1159, 3565, 3265, 2438, 5095, 5555, 4002, 3635, 5401, 3132, 3738, 4966, 2859, 3880, 5026, 3781, 2687, 4219, 4893, 3090, 3478, 5212, 960, 1523, 5546, 4222, 1581, 4422, 3879, 4604, 1828, 3024, 6378, 5267, 3812, 6404, 1449, 135, 2203, 2108, 1499, 684, 4552, 1761, 106, 948, 4234, 427, 1582, 4207, 1680, 5307, 5206, 2629, 1625, 297, 1688, 2342, 539, 2688, 5697, 4874, 300, 5838, 5437, 5532, 2607, 5436, 4232, 6374, 395, 2282, 6421, 2975, 1537, 5055, 3213, 1526, 6117, 923, 199, 530, 6510, 3892, 6449, 2737, 4394, 2750, 5599, 6093, 4231, 2558, 2506, 6444, 6330, 2139, 1749, 97, 2201, 422, 5674, 4734, 3441, 5443, 6239, 2022, 3185, 1747, 3513, 839, 2486, 2608, 3976, 6033, 2425, 4868, 4612, 3162, 3703, 1494, 5074, 1403, 3277, 4438, 3149, 3315, 2271, 4012, 4117, 1873, 3602, 1004, 5298, 6493, 2782, 510, 6343, 4944, 6550, 4276, 1024, 1616, 2226, 3070, 5808, 4577, 4305, 2114, 4568, 638, 3630, 615, 682, 5069, 429, 6198, 5013, 1502, 394, 5516, 4416, 4655, 2263, 1933, 6106, 2029, 4450, 1335, 4942, 4584, 4278, 5120, 647, 2768, 3921, 192, 4237, 399, 5525, 4060, 2304, 1006, 2606, 1189, 237, 5191, 5034, 4190, 4970, 2140, 3757, 129, 1278, 4324, 4009, 2615, 6095, 2795, 4536, 3107, 2974, 2947, 5642, 3715, 4494, 6193, 6207, 922, 3210, 5315, 2470, 752, 6345, 1925, 5689, 3447, 4170, 6328, 6514, 3396, 1949, 868, 6509, 6458, 751, 6104, 5834, 3910, 2507, 6350, 1591, 6087, 2640, 3430, 1442, 4861, 1418, 5551, 549, 3947, 3576, 6015, 5023, 2931, 6456, 2411, 3355, 6403, 121, 2367, 6036, 4908, 4993, 5713, 3321, 698, 3654, 80, 3828, 1900, 1692, 924, 4328, 1035, 4782, 2548, 3634, 4563, 2669, 2513, 1157, 2637, 4853, 202, 4651, 133, 5505, 3163, 1915, 1110, 2933, 2655, 4159, 3095, 2345, 1707, 503, 2751, 1983, 3437, 2309, 76, 3019, 863, 3158, 6268, 5242, 4463, 4810, 2943, 397, 4587, 723, 5092, 2450, 2179, 5272, 5190, 4625, 4113, 4235, 6091, 2302, 2559, 3807, 533, 5585, 2102, 6185, 2995, 4447, 4884, 1525, 3333, 3720, 1607, 4369, 5425, 4285, 1746, 5397, 4901, 720, 1109, 463, 3982, 5509, 2097, 5916, 1029, 1958, 4187, 4335, 2069, 1405, 4845, 401, 800, 5311, 769, 3891, 3574, 1338, 3637, 1602, 5881, 5310, 4323, 2851, 782, 4443, 5794, 1246, 5778, 803, 5195, 548, 3384, 566, 6501, 5183, 6515, 3991, 2887, 3984, 2395, 588, 2363, 1772, 805, 275, 1539, 5117, 1337, 2562, 5507, 1655, 1871, 5134, 2384, 2018, 3486, 3516, 1529, 4309, 5848, 787, 16, 5210, 4016, 1495, 3832, 2653, 2077, 5207, 2675, 3451, 6533, 4281, 3463, 3310, 366, 4554, 3365, 5422, 4014, 2231, 946, 4412, 667, 1849, 6039, 3859, 1036, 1339, 5102, 6373, 2923, 5173, 1023, 1451, 3028, 3881, 5696, 2858, 4703, 3615, 1263, 4947, 4320, 1687, 5935, 198, 605, 3645, 4825, 2444, 5970, 2433, 3431, 2258, 272, 5371, 2113, 792, 852, 4132, 187, 453, 3583, 4086, 5611, 2098, 6279, 2398, 5189, 2762, 4997, 5181, 1126, 2853, 778, 3553, 3843, 3558, 4928, 3269, 3952, 6415, 5215, 6004, 1044, 3394, 1106, 3596, 4257, 4747, 1943, 719, 2236, 2876, 1344, 1578, 4375, 796, 4029, 5405, 6079, 1743, 686, 5395, 683, 183, 1673, 1569, 3739, 1521, 2716, 2063, 2632, 2875, 3401, 213, 2318, 4040, 3970, 1426, 3183, 464, 6188, 2601, 3290, 2279, 5995, 2253, 5711, 1822, 4863, 6508, 2888, 4436, 42, 3903, 1979, 4462, 4043, 4385, 6335, 5680, 2010, 2524, 3016, 5942, 4246, 5924, 5218, 848, 279, 2971, 4558, 5263, 1168, 352, 610, 3391, 1207, 4679, 2007, 3102, 1737, 3688, 3712, 1294, 2747, 423, 1021, 116, 4799, 5040, 4127, 2743, 3292, 5709, 2011, 139, 3814, 2678, 6383, 5708, 4202, 1825, 4806, 78, 4809, 2510, 2473, 5832, 2810, 2103, 6019, 110, 3529, 4210, 5648, 2771, 3531, 1786, 271, 4705, 968, 4996, 1599, 2830, 5038, 6052, 5919, 3575, 4965, 5400, 1028, 6220, 4277, 5226, 4028, 2884, 4935, 5717, 1114, 2328, 2633, 4076, 5475, 1212, 3135, 871, 2746, 15, 6051, 4811, 1163, 3177, 2614, 6494, 2908, 3743, 5751, 67, 1428, 675, 1991, 3354, 4460, 2683, 6465, 4297, 4553, 4287, 2404, 4562, 2592, 4530, 3561, 3919, 3938, 5136, 4379, 2645, 5966, 3646, 4541, 1907, 4045, 4074, 2882, 3458, 795, 6543, 2163, 1445, 2662, 2259, 2802, 1407, 3296, 1120, 3554, 5402, 3866, 5240, 4897, 4413, 1242, 2880, 478, 2479, 2332, 2152, 6409, 694, 1678, 3536, 1978, 25, 6009, 265, 5978, 3188, 1996, 3168, 913, 2917, 6014, 241, 4847, 1244, 4400, 4833, 6096, 543, 798, 2268, 1365, 1167, 4718, 3614, 5279, 3500, 5932, 6047, 3747, 1874, 4744, 4702, 1528, 2945, 5604, 3622, 3566, 2692, 3350, 4934, 6115, 3713, 1432, 3012, 5151, 707, 1790, 3105, 3203, 6442, 4916, 3692, 3786, 1009, 3497, 6492, 2819, 964, 227, 3337, 3924, 6165, 869, 1667, 5312, 5514, 182, 4157, 4455, 3665, 65, 1182, 1624, 4151, 278, 1171, 5262, 451, 1133, 3359, 5008, 461, 5050, 1010, 646, 2941, 6184, 889, 114, 3969, 4855, 4179, 1424, 3372, 2317, 2883, 4617, 3639, 888, 5873, 6496, 1909, 1506, 2631, 5594, 762, 5363, 6485, 1946, 3309, 5258, 4307, 73, 3640, 5897, 2446, 2106, 3046, 2232, 5712, 2885, 1215, 4078, 4770, 6511, 3817, 6140, 2756, 6251, 5797, 4426, 5157, 4269, 357, 6372, 3017, 4911, 1130, 4567, 2351, 5054, 2157, 1929, 5196, 6461, 5159, 1033, 877, 5269, 2597, 1837, 293, 4469, 2829, 5114, 3062, 2811, 150, 2694, 5028, 5925, 4514, 474, 632, 3996, 2193, 3737, 6366, 4292, 5847, 5018, 3912, 5429, 1611, 6438, 692, 6054, 3666, 4483, 6043, 6321, 6302, 5750, 1544, 1566, 540, 2427, 4522, 4721, 4786, 470, 5807, 3782, 5515, 2316, 4092, 3427, 3047, 6102, 4555, 2426, 1586, 4382, 348, 3247, 4929, 4337, 942, 2821, 4772, 2547, 2809, 2714, 1118, 5968, 5277, 2968, 4466, 4383, 2725, 2730, 5457, 3567, 1531, 1350, 3484, 5786, 6044, 5645, 704, 3655, 3697, 240, 4051, 4419, 6422, 2148, 4384, 3225, 5442, 4468, 5470, 3744, 5601, 1813, 3749, 4803, 5482, 2184, 2729, 5710, 3511, 4295, 2501, 270, 6380, 5896, 2508, 321, 4940, 4342, 5863, 274, 1034, 5059, 4079, 5438, 4167, 3029, 3617, 3909, 860, 4886, 4768, 5813, 5128, 353, 1081, 3951, 671, 5213, 2204, 562, 2838, 5148, 5225, 4096, 1348, 4168, 4860, 1169, 1861, 4327, 268, 2188, 2918, 5543, 3127, 3629, 3767, 136, 668, 6026, 4503, 3241, 3066, 4862, 6401, 6264, 1527, 373, 5219, 153, 6271, 2405, 2465, 5724, 3647, 1576, 4504, 70, 1112, 511, 3923, 5109, 4283, 2354, 1367, 5389, 301, 5702, 4064, 1741, 3506, 3054, 4215, 5856, 2748, 3974, 797, 3138, 3616, 4627, 3658, 1572, 3139, 5316, 4783, 5527, 3541, 1818, 79, 4363, 3986, 4208, 2686, 3569, 5874, 4174, 4733, 1002, 1843, 1105, 5894, 926, 482, 718, 239, 509, 4148, 3595, 485, 2816, 3539, 4491, 402, 3718, 5915, 4885, 3907, 3387, 2234, 761, 2085, 2278, 3121, 5176, 6216, 1730, 2138, 6247, 126, 3515, 4559, 2073, 151, 4172, 4081, 3223, 5974, 6166, 4741, 273, 4789, 5785, 6114, 6443, 4177, 801, 5141, 3831, 5440, 160, 5607, 6384, 1269, 590, 3373, 5536, 3482, 2270, 606, 5539, 3326, 6040, 3998, 2021, 6294, 4268, 319, 4984, 2035, 2863, 4290, 5975, 311, 2745, 3660, 6082, 1049, 2577, 853, 6353, 3707, 6406, 4025, 4682, 1893, 3022, 3027, 2749, 4406, 3791, 2251, 1501, 3349, 5289, 3787, 5342, 4124, 3074, 4763, 58, 958, 1674, 307, 5104, 5049, 1910, 4701, 2691, 351, 2852, 6429, 1293, 1032, 2922, 2037, 3237, 4162, 2009, 4464, 4349, 2979, 4586, 4624, 4626, 3836, 4248, 6265, 2682, 4694, 1099, 1196, 1199, 5531, 4304, 6173, 4727, 3578, 4434, 3586, 1951, 1733, 2306, 6319, 5774, 5999, 6037, 1504, 2012, 2121, 3176, 4523, 6270, 2959, 426, 634, 1671, 5154, 5281, 4217, 1357, 387, 6013, 2331, 2004, 4224, 1750, 6502, 4000, 3657, 4986, 189, 4372, 5650, 63, 2243, 5033, 3371, 4883, 442, 6454, 3626, 6132, 4766, 4095, 1913, 5598, 4578, 4746, 2831, 158, 5806, 5958, 2670, 445, 2649, 5062, 2000, 4975, 5037, 41, 1851, 3736, 5619, 315, 1325, 154, 1771, 4978, 318, 5597, 5921, 4667, 4954, 3003, 5777, 3266, 1347, 316, 6084, 5627, 2695, 6346, 2806, 1183, 2958, 6027, 919, 3455, 1096, 1493, 4687, 563, 5587, 3929, 4805, 2556, 3644, 4662, 5430, 1831, 284, 5433, 2808, 1243, 4658, 6167, 2780, 186, 3129, 2079, 1989, 937, 107, 3147, 314, 3805, 102, 2339, 4042, 3050, 5876, 5106, 1485, 6280, 3226, 2690, 3263, 1895, 1690, 4489, 2656]\n",
      "test ids:  [0, 1, 2, 3, 4, 5, 6, 7, 8, 9, 10, 11, 12, 40, 81, 82, 83, 84, 85, 86, 87, 88, 89, 90, 91, 92, 93, 94, 120, 162, 163, 164, 165, 166, 167, 168, 169, 170, 171, 172, 173, 174, 175, 200, 243, 244, 245, 246, 247, 248, 249, 250, 251, 252, 253, 254, 255, 256, 257, 280, 324, 325, 326, 327, 328, 329, 330, 331, 332, 333, 334, 335, 336, 337, 338, 339, 360, 405, 406, 407, 408, 409, 410, 411, 412, 413, 414, 415, 416, 417, 418, 419, 420, 421, 440, 486, 487, 488, 489, 490, 491, 492, 493, 494, 495, 496, 497, 498, 499, 500, 501, 502, 520, 567, 568, 569, 570, 571, 572, 573, 574, 575, 576, 577, 578, 579, 580, 581, 582, 583, 584, 600, 648, 649, 650, 651, 652, 653, 654, 655, 656, 657, 658, 659, 660, 661, 662, 663, 664, 665, 666, 680, 729, 730, 731, 732, 733, 734, 735, 736, 737, 738, 739, 740, 741, 742, 743, 744, 745, 746, 747, 748, 760, 810, 811, 812, 813, 814, 815, 816, 817, 818, 819, 820, 821, 822, 823, 824, 825, 826, 827, 828, 829, 840, 891, 892, 893, 894, 895, 896, 897, 898, 899, 900, 901, 902, 903, 904, 905, 906, 907, 908, 909, 910, 911, 920, 972, 973, 974, 975, 976, 977, 978, 979, 980, 981, 982, 983, 984, 985, 986, 987, 988, 989, 990, 991, 992, 993, 1000, 1053, 1054, 1055, 1056, 1057, 1058, 1059, 1060, 1061, 1062, 1063, 1064, 1065, 1066, 1067, 1068, 1069, 1070, 1071, 1072, 1073, 1074, 1075, 1080, 1135, 1136, 1137, 1138, 1139, 1140, 1141, 1142, 1143, 1144, 1145, 1146, 1147, 1148, 1149, 1150, 1151, 1152, 1153, 1154, 1155, 1156, 1160, 1217, 1218, 1219, 1220, 1221, 1222, 1223, 1224, 1225, 1226, 1227, 1228, 1229, 1230, 1231, 1232, 1233, 1234, 1235, 1236, 1237, 1238, 1240, 1300, 1301, 1302, 1303, 1304, 1305, 1306, 1307, 1308, 1309, 1310, 1311, 1312, 1313, 1314, 1315, 1316, 1317, 1318, 1319, 1320, 1382, 1383, 1384, 1385, 1386, 1387, 1388, 1389, 1390, 1391, 1392, 1393, 1394, 1395, 1396, 1397, 1398, 1399, 1400, 1401, 1465, 1466, 1467, 1468, 1469, 1470, 1471, 1472, 1473, 1474, 1475, 1476, 1477, 1478, 1479, 1480, 1481, 1482, 1483, 1547, 1548, 1549, 1550, 1551, 1552, 1553, 1554, 1555, 1556, 1557, 1558, 1559, 1560, 1561, 1562, 1563, 1564, 1565, 1629, 1630, 1631, 1632, 1633, 1634, 1635, 1636, 1637, 1638, 1639, 1640, 1641, 1642, 1643, 1644, 1645, 1646, 1647, 1700, 1712, 1713, 1714, 1715, 1716, 1717, 1718, 1719, 1720, 1721, 1722, 1723, 1724, 1725, 1726, 1727, 1728, 1780, 1794, 1795, 1796, 1797, 1798, 1799, 1800, 1801, 1802, 1803, 1804, 1805, 1806, 1807, 1808, 1809, 1810, 1860, 1877, 1878, 1879, 1880, 1881, 1882, 1883, 1884, 1885, 1886, 1887, 1888, 1889, 1890, 1891, 1892, 1940, 1959, 1960, 1961, 1962, 1963, 1964, 1965, 1966, 1967, 1968, 1969, 1970, 1971, 1972, 1973, 1974, 2020, 2040, 2041, 2042, 2043, 2044, 2045, 2046, 2047, 2048, 2049, 2050, 2051, 2052, 2053, 2054, 2055, 2100, 2120, 2124, 2125, 2126, 2127, 2128, 2129, 2130, 2131, 2132, 2133, 2134, 2135, 2136, 2137, 2180, 2200, 2206, 2207, 2208, 2209, 2210, 2211, 2212, 2213, 2214, 2215, 2216, 2217, 2218, 2219, 2260, 2280, 2289, 2290, 2291, 2292, 2293, 2294, 2295, 2296, 2297, 2298, 2299, 2300, 2340, 2360, 2371, 2372, 2373, 2374, 2375, 2376, 2377, 2378, 2379, 2380, 2381, 2382, 2420, 2440, 2454, 2455, 2456, 2457, 2458, 2459, 2460, 2461, 2462, 2463, 2464, 2500, 2520, 2536, 2537, 2538, 2539, 2540, 2541, 2542, 2543, 2544, 2545, 2546, 2580, 2600, 2618, 2619, 2620, 2621, 2622, 2623, 2624, 2625, 2626, 2627, 2660, 2680, 2701, 2702, 2703, 2704, 2705, 2706, 2707, 2708, 2709, 2740, 2760, 2783, 2784, 2785, 2786, 2787, 2788, 2789, 2790, 2791, 2820, 2840, 2866, 2867, 2868, 2869, 2870, 2871, 2872, 2873, 2900, 2920, 2948, 2949, 2950, 2951, 2952, 2953, 2954, 2980, 3000, 3030, 3031, 3032, 3033, 3034, 3035, 3036, 3060, 3080, 3113, 3114, 3115, 3116, 3117, 3118, 3140, 3160, 3195, 3196, 3197, 3198, 3199, 3200, 3220, 3240, 3278, 3279, 3280, 3281, 3300, 3360, 3361, 3362, 3363, 3380, 3443, 3444, 3445, 3460, 3525, 3526, 3540, 3607, 3608, 3620, 3690, 3700, 3772, 3780, 3854, 3860, 3936, 3940, 4018, 4019, 4020, 4099, 4100, 4101, 4180, 4181, 4182, 4183, 4260, 4263, 4264, 4265, 4266, 4340, 4345, 4346, 4347, 4348, 4420, 4427, 4428, 4429, 4430, 4431, 4500, 4508, 4509, 4510, 4511, 4512, 4513, 4580, 4590, 4591, 4592, 4593, 4594, 4595, 4660, 4672, 4673, 4674, 4675, 4676, 4677, 4678, 4740, 4753, 4754, 4755, 4756, 4757, 4758, 4759, 4760, 4820, 4835, 4836, 4837, 4838, 4839, 4840, 4841, 4842, 4843, 4900, 4917, 4918, 4919, 4920, 4921, 4922, 4923, 4924, 4925, 4980, 4999, 5000, 5001, 5002, 5003, 5004, 5005, 5006, 5007, 5060, 5080, 5081, 5082, 5083, 5084, 5085, 5086, 5087, 5088, 5089, 5090, 5140, 5162, 5163, 5164, 5165, 5166, 5167, 5168, 5169, 5170, 5171, 5172, 5220, 5244, 5245, 5246, 5247, 5248, 5249, 5250, 5251, 5252, 5253, 5254, 5255, 5300, 5326, 5327, 5328, 5329, 5330, 5331, 5332, 5333, 5334, 5335, 5336, 5337, 5380, 5407, 5408, 5409, 5410, 5411, 5412, 5413, 5414, 5415, 5416, 5417, 5418, 5419, 5420, 5460, 5489, 5490, 5491, 5492, 5493, 5494, 5495, 5496, 5497, 5498, 5499, 5500, 5501, 5502, 5540, 5571, 5572, 5573, 5574, 5575, 5576, 5577, 5578, 5579, 5580, 5581, 5582, 5583, 5584, 5620, 5653, 5654, 5655, 5656, 5657, 5658, 5659, 5660, 5661, 5662, 5663, 5664, 5665, 5666, 5667, 5700, 5734, 5735, 5736, 5737, 5738, 5739, 5740, 5741, 5742, 5743, 5744, 5745, 5746, 5747, 5748, 5749, 5780, 5816, 5817, 5818, 5819, 5820, 5821, 5822, 5823, 5824, 5825, 5826, 5827, 5828, 5829, 5830, 5831, 5860, 5898, 5899, 5900, 5901, 5902, 5903, 5904, 5905, 5906, 5907, 5908, 5909, 5910, 5911, 5912, 5940, 5979, 5980, 5981, 5982, 5983, 5984, 5985, 5986, 5987, 5988, 5989, 5990, 5991, 5992, 5993, 6020, 6061, 6062, 6063, 6064, 6065, 6066, 6067, 6068, 6069, 6070, 6071, 6072, 6073, 6074, 6100, 6143, 6144, 6145, 6146, 6147, 6148, 6149, 6150, 6151, 6152, 6153, 6154, 6155, 6180, 6225, 6226, 6227, 6228, 6229, 6230, 6231, 6232, 6233, 6234, 6235, 6236, 6260, 6306, 6307, 6308, 6309, 6310, 6311, 6312, 6313, 6314, 6315, 6316, 6317, 6340, 6388, 6389, 6390, 6391, 6392, 6393, 6394, 6395, 6396, 6397, 6398, 6420, 6470, 6471, 6472, 6473, 6474, 6475, 6476, 6477, 6478, 6479, 6500, 6552, 6553, 6554, 6555, 6556, 6557, 6558, 6559, 6560]\n",
      "CPU times: user 164 ms, sys: 12 ms, total: 175 ms\n",
      "Wall time: 174 ms\n"
     ]
    }
   ],
   "source": [
    "%%time\n",
    "n_total = len(simulation.dataframe)\n",
    "n_train = len(simulation.dataframe[simulation.dataframe.type_of == \"train\"])\n",
    "n_val = len(simulation.dataframe[simulation.dataframe.type_of == \"val\"])\n",
    "n_test = len(simulation.dataframe[simulation.dataframe.type_of == \"test\"])\n",
    "n_train_hamiltonians = len(simulation.train_ids)\n",
    "n_val_hamiltonians = len(simulation.val_ids)\n",
    "n_test_hamiltonians = len(simulation.test_ids)\n",
    "n_total_hamiltonians = n_train_hamiltonians + n_val_hamiltonians + n_test_hamiltonians\n",
    "\n",
    "print(\"% train: \", n_train/n_total)\n",
    "print(\"% val: \",  n_val/n_total)\n",
    "print(\"% test: \", n_test/n_total)\n",
    "print(\"% train + val + test: \", (n_train+n_val+n_test)/n_total)\n",
    "print(\"\\n\")\n",
    "print(\"number of train hamiltonians: \", n_train_hamiltonians)\n",
    "print(\"number of val hamiltonians: \", n_val_hamiltonians)\n",
    "print(\"number of test hamiltonians: \", n_test_hamiltonians)\n",
    "print(\"total number of hamiltonians: \", n_total_hamiltonians)\n",
    "print(\"\\n\")\n",
    "print(\"train ids: \", simulation.train_ids)\n",
    "print(\"val ids: \", simulation.val_ids)\n",
    "print(\"test ids: \", simulation.test_ids)"
   ]
  },
  {
   "cell_type": "markdown",
   "metadata": {
    "papermill": {
     "duration": 0.038581,
     "end_time": "2020-07-18T15:43:42.046177",
     "exception": false,
     "start_time": "2020-07-18T15:43:42.007596",
     "status": "completed"
    },
    "tags": []
   },
   "source": [
    "#### Checking summaries"
   ]
  },
  {
   "cell_type": "code",
   "execution_count": 31,
   "metadata": {
    "execution": {
     "iopub.execute_input": "2020-07-18T15:43:42.122300Z",
     "iopub.status.busy": "2020-07-18T15:43:42.121985Z",
     "iopub.status.idle": "2020-07-18T15:43:42.141709Z",
     "shell.execute_reply": "2020-07-18T15:43:42.141392Z"
    },
    "papermill": {
     "duration": 0.057665,
     "end_time": "2020-07-18T15:43:42.141759",
     "exception": false,
     "start_time": "2020-07-18T15:43:42.084094",
     "status": "completed"
    },
    "tags": []
   },
   "outputs": [
    {
     "name": "stdout",
     "output_type": "stream",
     "text": [
      "length of ham_summary:  6561\n",
      "CPU times: user 85 µs, sys: 0 ns, total: 85 µs\n",
      "Wall time: 56.3 µs\n"
     ]
    },
    {
     "data": {
      "text/html": [
       "<div>\n",
       "<style scoped>\n",
       "    .dataframe tbody tr th:only-of-type {\n",
       "        vertical-align: middle;\n",
       "    }\n",
       "\n",
       "    .dataframe tbody tr th {\n",
       "        vertical-align: top;\n",
       "    }\n",
       "\n",
       "    .dataframe thead th {\n",
       "        text-align: right;\n",
       "    }\n",
       "</style>\n",
       "<table border=\"1\" class=\"dataframe\">\n",
       "  <thead>\n",
       "    <tr style=\"text-align: right;\">\n",
       "      <th></th>\n",
       "      <th>t1</th>\n",
       "      <th>t2</th>\n",
       "      <th>type_of</th>\n",
       "      <th>-1</th>\n",
       "      <th>0</th>\n",
       "      <th>1</th>\n",
       "      <th>2</th>\n",
       "      <th>phase</th>\n",
       "      <th>pred_phase</th>\n",
       "    </tr>\n",
       "    <tr>\n",
       "      <th>id</th>\n",
       "      <th></th>\n",
       "      <th></th>\n",
       "      <th></th>\n",
       "      <th></th>\n",
       "      <th></th>\n",
       "      <th></th>\n",
       "      <th></th>\n",
       "      <th></th>\n",
       "      <th></th>\n",
       "    </tr>\n",
       "  </thead>\n",
       "  <tbody>\n",
       "    <tr>\n",
       "      <th>0</th>\n",
       "      <td>-2.0</td>\n",
       "      <td>-2.00</td>\n",
       "      <td>test</td>\n",
       "      <td>0.20</td>\n",
       "      <td>0.55</td>\n",
       "      <td>0.17</td>\n",
       "      <td>0.08</td>\n",
       "      <td>999</td>\n",
       "      <td>0</td>\n",
       "    </tr>\n",
       "    <tr>\n",
       "      <th>1</th>\n",
       "      <td>-2.0</td>\n",
       "      <td>-1.95</td>\n",
       "      <td>test</td>\n",
       "      <td>0.23</td>\n",
       "      <td>0.52</td>\n",
       "      <td>0.15</td>\n",
       "      <td>0.10</td>\n",
       "      <td>-1</td>\n",
       "      <td>0</td>\n",
       "    </tr>\n",
       "    <tr>\n",
       "      <th>2</th>\n",
       "      <td>-2.0</td>\n",
       "      <td>-1.90</td>\n",
       "      <td>test</td>\n",
       "      <td>0.20</td>\n",
       "      <td>0.48</td>\n",
       "      <td>0.22</td>\n",
       "      <td>0.10</td>\n",
       "      <td>-1</td>\n",
       "      <td>0</td>\n",
       "    </tr>\n",
       "    <tr>\n",
       "      <th>3</th>\n",
       "      <td>-2.0</td>\n",
       "      <td>-1.85</td>\n",
       "      <td>test</td>\n",
       "      <td>0.20</td>\n",
       "      <td>0.49</td>\n",
       "      <td>0.21</td>\n",
       "      <td>0.10</td>\n",
       "      <td>-1</td>\n",
       "      <td>0</td>\n",
       "    </tr>\n",
       "    <tr>\n",
       "      <th>4</th>\n",
       "      <td>-2.0</td>\n",
       "      <td>-1.80</td>\n",
       "      <td>test</td>\n",
       "      <td>0.27</td>\n",
       "      <td>0.45</td>\n",
       "      <td>0.22</td>\n",
       "      <td>0.06</td>\n",
       "      <td>-1</td>\n",
       "      <td>0</td>\n",
       "    </tr>\n",
       "    <tr>\n",
       "      <th>...</th>\n",
       "      <td>...</td>\n",
       "      <td>...</td>\n",
       "      <td>...</td>\n",
       "      <td>...</td>\n",
       "      <td>...</td>\n",
       "      <td>...</td>\n",
       "      <td>...</td>\n",
       "      <td>...</td>\n",
       "      <td>...</td>\n",
       "    </tr>\n",
       "    <tr>\n",
       "      <th>6556</th>\n",
       "      <td>2.0</td>\n",
       "      <td>1.80</td>\n",
       "      <td>test</td>\n",
       "      <td>0.45</td>\n",
       "      <td>0.20</td>\n",
       "      <td>0.02</td>\n",
       "      <td>0.33</td>\n",
       "      <td>-1</td>\n",
       "      <td>-1</td>\n",
       "    </tr>\n",
       "    <tr>\n",
       "      <th>6557</th>\n",
       "      <td>2.0</td>\n",
       "      <td>1.85</td>\n",
       "      <td>test</td>\n",
       "      <td>0.39</td>\n",
       "      <td>0.17</td>\n",
       "      <td>0.03</td>\n",
       "      <td>0.41</td>\n",
       "      <td>-1</td>\n",
       "      <td>2</td>\n",
       "    </tr>\n",
       "    <tr>\n",
       "      <th>6558</th>\n",
       "      <td>2.0</td>\n",
       "      <td>1.90</td>\n",
       "      <td>test</td>\n",
       "      <td>0.41</td>\n",
       "      <td>0.17</td>\n",
       "      <td>0.04</td>\n",
       "      <td>0.38</td>\n",
       "      <td>-1</td>\n",
       "      <td>-1</td>\n",
       "    </tr>\n",
       "    <tr>\n",
       "      <th>6559</th>\n",
       "      <td>2.0</td>\n",
       "      <td>1.95</td>\n",
       "      <td>test</td>\n",
       "      <td>0.35</td>\n",
       "      <td>0.19</td>\n",
       "      <td>0.05</td>\n",
       "      <td>0.41</td>\n",
       "      <td>-1</td>\n",
       "      <td>2</td>\n",
       "    </tr>\n",
       "    <tr>\n",
       "      <th>6560</th>\n",
       "      <td>2.0</td>\n",
       "      <td>2.00</td>\n",
       "      <td>test</td>\n",
       "      <td>0.32</td>\n",
       "      <td>0.22</td>\n",
       "      <td>0.07</td>\n",
       "      <td>0.39</td>\n",
       "      <td>999</td>\n",
       "      <td>2</td>\n",
       "    </tr>\n",
       "  </tbody>\n",
       "</table>\n",
       "<p>6561 rows × 9 columns</p>\n",
       "</div>"
      ],
      "text/plain": [
       "       t1    t2 type_of    -1     0     1     2  phase  pred_phase\n",
       "id                                                                \n",
       "0    -2.0 -2.00    test  0.20  0.55  0.17  0.08    999           0\n",
       "1    -2.0 -1.95    test  0.23  0.52  0.15  0.10     -1           0\n",
       "2    -2.0 -1.90    test  0.20  0.48  0.22  0.10     -1           0\n",
       "3    -2.0 -1.85    test  0.20  0.49  0.21  0.10     -1           0\n",
       "4    -2.0 -1.80    test  0.27  0.45  0.22  0.06     -1           0\n",
       "...   ...   ...     ...   ...   ...   ...   ...    ...         ...\n",
       "6556  2.0  1.80    test  0.45  0.20  0.02  0.33     -1          -1\n",
       "6557  2.0  1.85    test  0.39  0.17  0.03  0.41     -1           2\n",
       "6558  2.0  1.90    test  0.41  0.17  0.04  0.38     -1          -1\n",
       "6559  2.0  1.95    test  0.35  0.19  0.05  0.41     -1           2\n",
       "6560  2.0  2.00    test  0.32  0.22  0.07  0.39    999           2\n",
       "\n",
       "[6561 rows x 9 columns]"
      ]
     },
     "execution_count": 31,
     "metadata": {},
     "output_type": "execute_result"
    }
   ],
   "source": [
    "%%time\n",
    "ham_summary = simulation.hamiltonian_summary\n",
    "print(\"length of ham_summary: \", len(ham_summary))\n",
    "ham_summary"
   ]
  },
  {
   "cell_type": "code",
   "execution_count": 32,
   "metadata": {
    "execution": {
     "iopub.execute_input": "2020-07-18T15:43:42.219981Z",
     "iopub.status.busy": "2020-07-18T15:43:42.219649Z",
     "iopub.status.idle": "2020-07-18T15:43:42.251768Z",
     "shell.execute_reply": "2020-07-18T15:43:42.251440Z"
    },
    "papermill": {
     "duration": 0.072224,
     "end_time": "2020-07-18T15:43:42.251819",
     "exception": false,
     "start_time": "2020-07-18T15:43:42.179595",
     "status": "completed"
    },
    "tags": []
   },
   "outputs": [
    {
     "data": {
      "text/html": [
       "<div>\n",
       "<style scoped>\n",
       "    .dataframe tbody tr th:only-of-type {\n",
       "        vertical-align: middle;\n",
       "    }\n",
       "\n",
       "    .dataframe tbody tr th {\n",
       "        vertical-align: top;\n",
       "    }\n",
       "\n",
       "    .dataframe thead th {\n",
       "        text-align: right;\n",
       "    }\n",
       "</style>\n",
       "<table border=\"1\" class=\"dataframe\">\n",
       "  <thead>\n",
       "    <tr style=\"text-align: right;\">\n",
       "      <th></th>\n",
       "      <th>t1</th>\n",
       "      <th>t2</th>\n",
       "      <th>-1</th>\n",
       "      <th>0</th>\n",
       "      <th>1</th>\n",
       "      <th>2</th>\n",
       "      <th>phase</th>\n",
       "      <th>pred_phase</th>\n",
       "    </tr>\n",
       "  </thead>\n",
       "  <tbody>\n",
       "    <tr>\n",
       "      <th>count</th>\n",
       "      <td>6561.000000</td>\n",
       "      <td>6.561000e+03</td>\n",
       "      <td>6561.000000</td>\n",
       "      <td>6561.000000</td>\n",
       "      <td>6561.000000</td>\n",
       "      <td>6561.000000</td>\n",
       "      <td>6561.000000</td>\n",
       "      <td>6561.000000</td>\n",
       "    </tr>\n",
       "    <tr>\n",
       "      <th>mean</th>\n",
       "      <td>0.000000</td>\n",
       "      <td>-4.331917e-18</td>\n",
       "      <td>0.193682</td>\n",
       "      <td>0.315592</td>\n",
       "      <td>0.307319</td>\n",
       "      <td>0.183406</td>\n",
       "      <td>28.045877</td>\n",
       "      <td>0.480872</td>\n",
       "    </tr>\n",
       "    <tr>\n",
       "      <th>std</th>\n",
       "      <td>1.169134</td>\n",
       "      <td>1.169134e+00</td>\n",
       "      <td>0.357787</td>\n",
       "      <td>0.432797</td>\n",
       "      <td>0.433973</td>\n",
       "      <td>0.354966</td>\n",
       "      <td>163.557011</td>\n",
       "      <td>1.018716</td>\n",
       "    </tr>\n",
       "    <tr>\n",
       "      <th>min</th>\n",
       "      <td>-2.000000</td>\n",
       "      <td>-2.000000e+00</td>\n",
       "      <td>0.000000</td>\n",
       "      <td>0.000000</td>\n",
       "      <td>0.000000</td>\n",
       "      <td>0.000000</td>\n",
       "      <td>-1.000000</td>\n",
       "      <td>-1.000000</td>\n",
       "    </tr>\n",
       "    <tr>\n",
       "      <th>25%</th>\n",
       "      <td>-1.000000</td>\n",
       "      <td>-1.000000e+00</td>\n",
       "      <td>0.000000</td>\n",
       "      <td>0.000000</td>\n",
       "      <td>0.000000</td>\n",
       "      <td>0.000000</td>\n",
       "      <td>0.000000</td>\n",
       "      <td>0.000000</td>\n",
       "    </tr>\n",
       "    <tr>\n",
       "      <th>50%</th>\n",
       "      <td>0.000000</td>\n",
       "      <td>0.000000e+00</td>\n",
       "      <td>0.000000</td>\n",
       "      <td>0.020000</td>\n",
       "      <td>0.010000</td>\n",
       "      <td>0.000000</td>\n",
       "      <td>1.000000</td>\n",
       "      <td>0.000000</td>\n",
       "    </tr>\n",
       "    <tr>\n",
       "      <th>75%</th>\n",
       "      <td>1.000000</td>\n",
       "      <td>1.000000e+00</td>\n",
       "      <td>0.130000</td>\n",
       "      <td>0.970000</td>\n",
       "      <td>0.960000</td>\n",
       "      <td>0.060000</td>\n",
       "      <td>1.000000</td>\n",
       "      <td>1.000000</td>\n",
       "    </tr>\n",
       "    <tr>\n",
       "      <th>max</th>\n",
       "      <td>2.000000</td>\n",
       "      <td>2.000000e+00</td>\n",
       "      <td>1.000000</td>\n",
       "      <td>1.000000</td>\n",
       "      <td>1.000000</td>\n",
       "      <td>1.000000</td>\n",
       "      <td>999.000000</td>\n",
       "      <td>2.000000</td>\n",
       "    </tr>\n",
       "  </tbody>\n",
       "</table>\n",
       "</div>"
      ],
      "text/plain": [
       "                t1            t2           -1            0            1  \\\n",
       "count  6561.000000  6.561000e+03  6561.000000  6561.000000  6561.000000   \n",
       "mean      0.000000 -4.331917e-18     0.193682     0.315592     0.307319   \n",
       "std       1.169134  1.169134e+00     0.357787     0.432797     0.433973   \n",
       "min      -2.000000 -2.000000e+00     0.000000     0.000000     0.000000   \n",
       "25%      -1.000000 -1.000000e+00     0.000000     0.000000     0.000000   \n",
       "50%       0.000000  0.000000e+00     0.000000     0.020000     0.010000   \n",
       "75%       1.000000  1.000000e+00     0.130000     0.970000     0.960000   \n",
       "max       2.000000  2.000000e+00     1.000000     1.000000     1.000000   \n",
       "\n",
       "                 2        phase   pred_phase  \n",
       "count  6561.000000  6561.000000  6561.000000  \n",
       "mean      0.183406    28.045877     0.480872  \n",
       "std       0.354966   163.557011     1.018716  \n",
       "min       0.000000    -1.000000    -1.000000  \n",
       "25%       0.000000     0.000000     0.000000  \n",
       "50%       0.000000     1.000000     0.000000  \n",
       "75%       0.060000     1.000000     1.000000  \n",
       "max       1.000000   999.000000     2.000000  "
      ]
     },
     "execution_count": 32,
     "metadata": {},
     "output_type": "execute_result"
    }
   ],
   "source": [
    "ham_summary.describe()"
   ]
  },
  {
   "cell_type": "code",
   "execution_count": 33,
   "metadata": {
    "execution": {
     "iopub.execute_input": "2020-07-18T15:43:42.330554Z",
     "iopub.status.busy": "2020-07-18T15:43:42.330205Z",
     "iopub.status.idle": "2020-07-18T15:43:42.344967Z",
     "shell.execute_reply": "2020-07-18T15:43:42.345220Z"
    },
    "papermill": {
     "duration": 0.055056,
     "end_time": "2020-07-18T15:43:42.345288",
     "exception": false,
     "start_time": "2020-07-18T15:43:42.290232",
     "status": "completed"
    },
    "tags": []
   },
   "outputs": [
    {
     "name": "stdout",
     "output_type": "stream",
     "text": [
      "length of ham_summary:  656100\n"
     ]
    },
    {
     "data": {
      "text/html": [
       "<div>\n",
       "<style scoped>\n",
       "    .dataframe tbody tr th:only-of-type {\n",
       "        vertical-align: middle;\n",
       "    }\n",
       "\n",
       "    .dataframe tbody tr th {\n",
       "        vertical-align: top;\n",
       "    }\n",
       "\n",
       "    .dataframe thead th {\n",
       "        text-align: right;\n",
       "    }\n",
       "</style>\n",
       "<table border=\"1\" class=\"dataframe\">\n",
       "  <thead>\n",
       "    <tr style=\"text-align: right;\">\n",
       "      <th></th>\n",
       "      <th>id</th>\n",
       "      <th>phase</th>\n",
       "      <th>pred_phase</th>\n",
       "      <th>type_of</th>\n",
       "    </tr>\n",
       "  </thead>\n",
       "  <tbody>\n",
       "    <tr>\n",
       "      <th>0</th>\n",
       "      <td>0</td>\n",
       "      <td>999</td>\n",
       "      <td>-1</td>\n",
       "      <td>test</td>\n",
       "    </tr>\n",
       "    <tr>\n",
       "      <th>1</th>\n",
       "      <td>0</td>\n",
       "      <td>999</td>\n",
       "      <td>-1</td>\n",
       "      <td>test</td>\n",
       "    </tr>\n",
       "    <tr>\n",
       "      <th>2</th>\n",
       "      <td>0</td>\n",
       "      <td>999</td>\n",
       "      <td>-1</td>\n",
       "      <td>test</td>\n",
       "    </tr>\n",
       "    <tr>\n",
       "      <th>3</th>\n",
       "      <td>0</td>\n",
       "      <td>999</td>\n",
       "      <td>1</td>\n",
       "      <td>test</td>\n",
       "    </tr>\n",
       "    <tr>\n",
       "      <th>4</th>\n",
       "      <td>0</td>\n",
       "      <td>999</td>\n",
       "      <td>2</td>\n",
       "      <td>test</td>\n",
       "    </tr>\n",
       "    <tr>\n",
       "      <th>...</th>\n",
       "      <td>...</td>\n",
       "      <td>...</td>\n",
       "      <td>...</td>\n",
       "      <td>...</td>\n",
       "    </tr>\n",
       "    <tr>\n",
       "      <th>656095</th>\n",
       "      <td>6560</td>\n",
       "      <td>999</td>\n",
       "      <td>2</td>\n",
       "      <td>test</td>\n",
       "    </tr>\n",
       "    <tr>\n",
       "      <th>656096</th>\n",
       "      <td>6560</td>\n",
       "      <td>999</td>\n",
       "      <td>0</td>\n",
       "      <td>test</td>\n",
       "    </tr>\n",
       "    <tr>\n",
       "      <th>656097</th>\n",
       "      <td>6560</td>\n",
       "      <td>999</td>\n",
       "      <td>0</td>\n",
       "      <td>test</td>\n",
       "    </tr>\n",
       "    <tr>\n",
       "      <th>656098</th>\n",
       "      <td>6560</td>\n",
       "      <td>999</td>\n",
       "      <td>1</td>\n",
       "      <td>test</td>\n",
       "    </tr>\n",
       "    <tr>\n",
       "      <th>656099</th>\n",
       "      <td>6560</td>\n",
       "      <td>999</td>\n",
       "      <td>1</td>\n",
       "      <td>test</td>\n",
       "    </tr>\n",
       "  </tbody>\n",
       "</table>\n",
       "<p>656100 rows × 4 columns</p>\n",
       "</div>"
      ],
      "text/plain": [
       "          id  phase  pred_phase type_of\n",
       "0          0    999          -1    test\n",
       "1          0    999          -1    test\n",
       "2          0    999          -1    test\n",
       "3          0    999           1    test\n",
       "4          0    999           2    test\n",
       "...      ...    ...         ...     ...\n",
       "656095  6560    999           2    test\n",
       "656096  6560    999           0    test\n",
       "656097  6560    999           0    test\n",
       "656098  6560    999           1    test\n",
       "656099  6560    999           1    test\n",
       "\n",
       "[656100 rows x 4 columns]"
      ]
     },
     "execution_count": 33,
     "metadata": {},
     "output_type": "execute_result"
    }
   ],
   "source": [
    "eigen_summary = simulation.eigenvector_summary\n",
    "print(\"length of ham_summary: \", len(eigen_summary))\n",
    "eigen_summary"
   ]
  },
  {
   "cell_type": "markdown",
   "metadata": {
    "papermill": {
     "duration": 0.037377,
     "end_time": "2020-07-18T15:43:42.420858",
     "exception": false,
     "start_time": "2020-07-18T15:43:42.383481",
     "status": "completed"
    },
    "tags": []
   },
   "source": [
    "#### Checking accuracies"
   ]
  },
  {
   "cell_type": "code",
   "execution_count": 34,
   "metadata": {
    "execution": {
     "iopub.execute_input": "2020-07-18T15:43:42.503186Z",
     "iopub.status.busy": "2020-07-18T15:43:42.502876Z",
     "iopub.status.idle": "2020-07-18T15:43:42.514009Z",
     "shell.execute_reply": "2020-07-18T15:43:42.514259Z"
    },
    "papermill": {
     "duration": 0.055147,
     "end_time": "2020-07-18T15:43:42.514326",
     "exception": false,
     "start_time": "2020-07-18T15:43:42.459179",
     "status": "completed"
    },
    "tags": []
   },
   "outputs": [
    {
     "data": {
      "text/plain": [
       "{'eigenvector_train': 0.9995255342267294,\n",
       " 'eigenvector_val': 0.9607934782608696,\n",
       " 'eigenvector_test': 0.6281490104772992,\n",
       " 'hamiltonian_train': 1.0,\n",
       " 'hamiltonian_val': 0.9963768115942029,\n",
       " 'hamiltonian_test': 0.8742724097788126}"
      ]
     },
     "execution_count": 34,
     "metadata": {},
     "output_type": "execute_result"
    }
   ],
   "source": [
    "simulation.accuracy"
   ]
  },
  {
   "cell_type": "markdown",
   "metadata": {
    "papermill": {
     "duration": 0.037882,
     "end_time": "2020-07-18T15:43:42.590024",
     "exception": false,
     "start_time": "2020-07-18T15:43:42.552142",
     "status": "completed"
    },
    "tags": []
   },
   "source": [
    "#### Checking data stored in  memory"
   ]
  },
  {
   "cell_type": "code",
   "execution_count": 35,
   "metadata": {
    "execution": {
     "iopub.execute_input": "2020-07-18T15:43:42.670621Z",
     "iopub.status.busy": "2020-07-18T15:43:42.670307Z",
     "iopub.status.idle": "2020-07-18T15:43:42.681324Z",
     "shell.execute_reply": "2020-07-18T15:43:42.681001Z"
    },
    "papermill": {
     "duration": 0.052806,
     "end_time": "2020-07-18T15:43:42.681375",
     "exception": false,
     "start_time": "2020-07-18T15:43:42.628569",
     "status": "completed"
    },
    "tags": []
   },
   "outputs": [
    {
     "data": {
      "text/plain": [
       "[]"
      ]
     },
     "execution_count": 35,
     "metadata": {},
     "output_type": "execute_result"
    }
   ],
   "source": [
    "ham_summary_list = simulation.hamiltonian_summary_list\n",
    "ham_summary_list"
   ]
  },
  {
   "cell_type": "code",
   "execution_count": 36,
   "metadata": {
    "execution": {
     "iopub.execute_input": "2020-07-18T15:43:42.759109Z",
     "iopub.status.busy": "2020-07-18T15:43:42.758800Z",
     "iopub.status.idle": "2020-07-18T15:43:42.769229Z",
     "shell.execute_reply": "2020-07-18T15:43:42.768911Z"
    },
    "papermill": {
     "duration": 0.050231,
     "end_time": "2020-07-18T15:43:42.769278",
     "exception": false,
     "start_time": "2020-07-18T15:43:42.719047",
     "status": "completed"
    },
    "tags": []
   },
   "outputs": [
    {
     "data": {
      "text/plain": [
       "[]"
      ]
     },
     "execution_count": 36,
     "metadata": {},
     "output_type": "execute_result"
    }
   ],
   "source": [
    "eigen_summary_list = simulation.eigenvector_summary_list\n",
    "eigen_summary_list"
   ]
  },
  {
   "cell_type": "code",
   "execution_count": 37,
   "metadata": {
    "execution": {
     "iopub.execute_input": "2020-07-18T15:43:42.850066Z",
     "iopub.status.busy": "2020-07-18T15:43:42.849746Z",
     "iopub.status.idle": "2020-07-18T15:43:42.860148Z",
     "shell.execute_reply": "2020-07-18T15:43:42.859875Z"
    },
    "papermill": {
     "duration": 0.052265,
     "end_time": "2020-07-18T15:43:42.860201",
     "exception": false,
     "start_time": "2020-07-18T15:43:42.807936",
     "status": "completed"
    },
    "tags": []
   },
   "outputs": [
    {
     "data": {
      "text/plain": [
       "{'eigenvector_train': [],\n",
       " 'eigenvector_val': [],\n",
       " 'eigenvector_test': [],\n",
       " 'hamiltonian_train': [],\n",
       " 'hamiltonian_val': [],\n",
       " 'hamiltonian_test': []}"
      ]
     },
     "execution_count": 37,
     "metadata": {},
     "output_type": "execute_result"
    }
   ],
   "source": [
    "accuracy_list = simulation.accuracy_list\n",
    "accuracy_list"
   ]
  },
  {
   "cell_type": "code",
   "execution_count": null,
   "metadata": {
    "papermill": {
     "duration": 0.03787,
     "end_time": "2020-07-18T15:43:42.937800",
     "exception": false,
     "start_time": "2020-07-18T15:43:42.899930",
     "status": "completed"
    },
    "tags": []
   },
   "outputs": [],
   "source": []
  },
  {
   "cell_type": "code",
   "execution_count": null,
   "metadata": {
    "papermill": {
     "duration": 0.040618,
     "end_time": "2020-07-18T15:43:43.017570",
     "exception": false,
     "start_time": "2020-07-18T15:43:42.976952",
     "status": "completed"
    },
    "tags": []
   },
   "outputs": [],
   "source": []
  },
  {
   "cell_type": "code",
   "execution_count": 38,
   "metadata": {
    "execution": {
     "iopub.execute_input": "2020-07-18T15:43:43.096227Z",
     "iopub.status.busy": "2020-07-18T15:43:43.095922Z",
     "iopub.status.idle": "2020-07-18T15:43:43.105534Z",
     "shell.execute_reply": "2020-07-18T15:43:43.105209Z"
    },
    "papermill": {
     "duration": 0.049446,
     "end_time": "2020-07-18T15:43:43.105585",
     "exception": false,
     "start_time": "2020-07-18T15:43:43.056139",
     "status": "completed"
    },
    "tags": []
   },
   "outputs": [],
   "source": [
    "#simulation.fourier_matrix"
   ]
  },
  {
   "cell_type": "code",
   "execution_count": 39,
   "metadata": {
    "execution": {
     "iopub.execute_input": "2020-07-18T15:43:43.187769Z",
     "iopub.status.busy": "2020-07-18T15:43:43.187461Z",
     "iopub.status.idle": "2020-07-18T15:43:43.197064Z",
     "shell.execute_reply": "2020-07-18T15:43:43.196732Z"
    },
    "papermill": {
     "duration": 0.052357,
     "end_time": "2020-07-18T15:43:43.197115",
     "exception": false,
     "start_time": "2020-07-18T15:43:43.144758",
     "status": "completed"
    },
    "tags": []
   },
   "outputs": [],
   "source": [
    "#simulation.fourier_matrix.shape"
   ]
  },
  {
   "cell_type": "code",
   "execution_count": 40,
   "metadata": {
    "execution": {
     "iopub.execute_input": "2020-07-18T15:43:43.276779Z",
     "iopub.status.busy": "2020-07-18T15:43:43.276467Z",
     "iopub.status.idle": "2020-07-18T15:43:43.285913Z",
     "shell.execute_reply": "2020-07-18T15:43:43.285590Z"
    },
    "papermill": {
     "duration": 0.050412,
     "end_time": "2020-07-18T15:43:43.285965",
     "exception": false,
     "start_time": "2020-07-18T15:43:43.235553",
     "status": "completed"
    },
    "tags": []
   },
   "outputs": [],
   "source": [
    "#simulation.fourier_matrix[:,0]"
   ]
  },
  {
   "cell_type": "code",
   "execution_count": 41,
   "metadata": {
    "execution": {
     "iopub.execute_input": "2020-07-18T15:43:43.367578Z",
     "iopub.status.busy": "2020-07-18T15:43:43.367262Z",
     "iopub.status.idle": "2020-07-18T15:43:43.376686Z",
     "shell.execute_reply": "2020-07-18T15:43:43.377004Z"
    },
    "papermill": {
     "duration": 0.05222,
     "end_time": "2020-07-18T15:43:43.377071",
     "exception": false,
     "start_time": "2020-07-18T15:43:43.324851",
     "status": "completed"
    },
    "tags": []
   },
   "outputs": [],
   "source": [
    "#simulation.fourier_matrix[:,1]"
   ]
  },
  {
   "cell_type": "code",
   "execution_count": 42,
   "metadata": {
    "execution": {
     "iopub.execute_input": "2020-07-18T15:43:43.456302Z",
     "iopub.status.busy": "2020-07-18T15:43:43.455809Z",
     "iopub.status.idle": "2020-07-18T15:43:43.465433Z",
     "shell.execute_reply": "2020-07-18T15:43:43.465742Z"
    },
    "papermill": {
     "duration": 0.050093,
     "end_time": "2020-07-18T15:43:43.465808",
     "exception": false,
     "start_time": "2020-07-18T15:43:43.415715",
     "status": "completed"
    },
    "tags": []
   },
   "outputs": [],
   "source": [
    "#np.exp(-1j*2*np.pi*3/100)"
   ]
  },
  {
   "cell_type": "code",
   "execution_count": 43,
   "metadata": {
    "execution": {
     "iopub.execute_input": "2020-07-18T15:43:43.546608Z",
     "iopub.status.busy": "2020-07-18T15:43:43.546083Z",
     "iopub.status.idle": "2020-07-18T15:43:43.566444Z",
     "shell.execute_reply": "2020-07-18T15:43:43.566083Z"
    },
    "papermill": {
     "duration": 0.06129,
     "end_time": "2020-07-18T15:43:43.566500",
     "exception": false,
     "start_time": "2020-07-18T15:43:43.505210",
     "status": "completed"
    },
    "tags": []
   },
   "outputs": [],
   "source": [
    "#for i in range(1,50):\n",
    "#    print(\"\\n\")\n",
    "#    print(i)\n",
    "#    print(np.sum((np.real(simulation.fourier_matrix[:,i]) - np.real(simulation.fourier_matrix[:,-i]))**2))\n",
    "#    print(np.sum((np.imag(simulation.fourier_matrix[:,i])+ np.imag(simulation.fourier_matrix[:,-i]))**2))"
   ]
  },
  {
   "cell_type": "code",
   "execution_count": 44,
   "metadata": {
    "execution": {
     "iopub.execute_input": "2020-07-18T15:43:43.646261Z",
     "iopub.status.busy": "2020-07-18T15:43:43.645947Z",
     "iopub.status.idle": "2020-07-18T15:43:43.718532Z",
     "shell.execute_reply": "2020-07-18T15:43:43.718034Z"
    },
    "papermill": {
     "duration": 0.112737,
     "end_time": "2020-07-18T15:43:43.718620",
     "exception": false,
     "start_time": "2020-07-18T15:43:43.605883",
     "status": "completed"
    },
    "tags": []
   },
   "outputs": [],
   "source": [
    "#print(simulation.fourier_matrix[:,0])"
   ]
  },
  {
   "cell_type": "code",
   "execution_count": 45,
   "metadata": {
    "execution": {
     "iopub.execute_input": "2020-07-18T15:43:43.806749Z",
     "iopub.status.busy": "2020-07-18T15:43:43.806421Z",
     "iopub.status.idle": "2020-07-18T15:43:43.816482Z",
     "shell.execute_reply": "2020-07-18T15:43:43.816140Z"
    },
    "papermill": {
     "duration": 0.056016,
     "end_time": "2020-07-18T15:43:43.816535",
     "exception": false,
     "start_time": "2020-07-18T15:43:43.760519",
     "status": "completed"
    },
    "tags": []
   },
   "outputs": [],
   "source": [
    "#print(simulation.fourier_matrix[:,50])"
   ]
  },
  {
   "cell_type": "code",
   "execution_count": null,
   "metadata": {
    "papermill": {
     "duration": 0.038566,
     "end_time": "2020-07-18T15:43:43.893922",
     "exception": false,
     "start_time": "2020-07-18T15:43:43.855356",
     "status": "completed"
    },
    "tags": []
   },
   "outputs": [],
   "source": []
  }
 ],
 "metadata": {
  "celltoolbar": "Tags",
  "kernelspec": {
   "display_name": "ml_top_phases",
   "language": "python",
   "name": "ml_top_phases"
  },
  "language_info": {
   "codemirror_mode": {
    "name": "ipython",
    "version": 3
   },
   "file_extension": ".py",
   "mimetype": "text/x-python",
   "name": "python",
   "nbconvert_exporter": "python",
   "pygments_lexer": "ipython3",
   "version": "3.6.10"
  },
  "papermill": {
   "duration": 1496.752505,
   "end_time": "2020-07-18T15:43:44.041588",
   "environment_variables": {},
   "exception": null,
   "input_path": "0_simulation_template.ipynb",
   "output_path": "zzz_ssh2_real_space_best_12_sites_simulation_notebook.ipynb",
   "parameters": {
    "allowed_windings": [
     -1,
     0,
     1,
     2
    ],
    "csv_path": "/home/rio/ssh_csvs/ssh2/periodic_100_6561.csv",
    "features_to_use": [
     0,
     1,
     2,
     3,
     4,
     5,
     6,
     7,
     46,
     48,
     49,
     50
    ],
    "fit_params": null,
    "fourier_features_to_use": null,
    "fourier_fillna": null,
    "fourier_mode": null,
    "fourier_normalize": null,
    "fourier_real": null,
    "model_kw": {
     "criterion": "entropy",
     "n_estimators": 25,
     "n_jobs": -1
    },
    "model_name": "RandomForestClassifier",
    "n_experiments": 100,
    "pred_params": null,
    "random_features": false,
    "random_state": 2011,
    "save_accuracy": true,
    "save_eigenvector": true,
    "save_hamiltonian": true,
    "save_models": true,
    "shuffle_features": false,
    "shuffle_rows": true,
    "simulation_dir": "/home/rio/ssh_simulations/ssh2/periodic_100_6561/real_space_best_12_sites",
    "start_n": 0,
    "store_in_lists": false,
    "val_split": 0.5
   },
   "start_time": "2020-07-18T15:18:47.289083",
   "version": "2.1.0"
  }
 },
 "nbformat": 4,
 "nbformat_minor": 2
}